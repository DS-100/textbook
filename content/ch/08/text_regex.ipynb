{
 "cells": [
  {
   "cell_type": "markdown",
   "metadata": {
    "colab_type": "text",
    "id": "lLVVSGne3AIY"
   },
   "source": [
    "## Regular Expressions\n",
    "\n",
    "In this section we introduce regular expressions, an important tool to specify patterns in strings."
   ]
  },
  {
   "cell_type": "markdown",
   "metadata": {
    "colab_type": "text",
    "id": "lLVVSGne3AIY"
   },
   "source": [
    "## Motivation\n",
    "\n",
    "In a larger piece of text, many useful substrings come in a specific format. For instance, the sentence below contains a U.S. phone number.\n",
    "\n",
    "`\"give me a call, my number is 123-456-7890.\"`\n",
    "\n",
    "The phone number contains the following pattern:\n",
    "\n",
    "1. Three numbers\n",
    "1. Followed by a dash\n",
    "1. Followed by three numbers\n",
    "1. Followed by a dash\n",
    "1. Followed by four Numbers\n",
    "\n",
    "Given a free-form segment of text, we might naturally wish to detect and extract the phone numbers. We may also wish to extract specific pieces of the phone numbers—for example, by extracting the area code we may deduce the locations of individuals mentioned in the text.\n",
    "\n",
    "To detect whether a string contains a phone number, we may attempt to write a method like the following:"
   ]
  },
  {
   "cell_type": "code",
   "execution_count": 121,
   "metadata": {
    "colab": {
     "autoexec": {
      "startup": false,
      "wait_interval": 0
     }
    },
    "colab_type": "code",
    "id": "NcXymQM73AIa"
   },
   "outputs": [],
   "source": [
    "def is_phone_number(string):\n",
    "    \n",
    "    digits = '0123456789'\n",
    "    \n",
    "    def is_not_digit(token):\n",
    "        return token not in digits \n",
    "    \n",
    "    # Three numbers\n",
    "    for i in range(3):\n",
    "        if is_not_digit(string[i]):\n",
    "            return False\n",
    "    \n",
    "    # Followed by a dash\n",
    "    if string[3] != '-':\n",
    "        return False\n",
    "    \n",
    "    # Followed by three numbers\n",
    "    for i in range(4, 7):\n",
    "        if is_not_digit(string[i]):\n",
    "            return False\n",
    "        \n",
    "    # Followed by a dash    \n",
    "    if string[7] != '-':\n",
    "        return False\n",
    "    \n",
    "    # Followed by four numbers\n",
    "    for i in range(8, 12):\n",
    "        if is_not_digit(string[i]):\n",
    "            return False\n",
    "    \n",
    "    return True"
   ]
  },
  {
   "cell_type": "code",
   "execution_count": 122,
   "metadata": {
    "colab": {
     "autoexec": {
      "startup": false,
      "wait_interval": 0
     },
     "base_uri": "https://localhost:8080/",
     "height": 34
    },
    "colab_type": "code",
    "executionInfo": {
     "elapsed": 351,
     "status": "ok",
     "timestamp": 1524677424625,
     "user": {
      "displayName": "Andrew Kim",
      "photoUrl": "https://lh3.googleusercontent.com/a/default-user=s128",
      "userId": "109388192039284916411"
     },
     "user_tz": 420
    },
    "id": "fZqh_A943AIe",
    "outputId": "0363c153-cfcc-4c3c-a132-ca930b586f22"
   },
   "outputs": [
    {
     "data": {
      "text/plain": [
       "True"
      ]
     },
     "execution_count": 122,
     "metadata": {},
     "output_type": "execute_result"
    }
   ],
   "source": [
    "is_phone_number(\"382-384-3840\")"
   ]
  },
  {
   "cell_type": "code",
   "execution_count": 123,
   "metadata": {
    "colab": {
     "autoexec": {
      "startup": false,
      "wait_interval": 0
     },
     "base_uri": "https://localhost:8080/",
     "height": 34
    },
    "colab_type": "code",
    "executionInfo": {
     "elapsed": 19446,
     "status": "ok",
     "timestamp": 1524680903804,
     "user": {
      "displayName": "Andrew Kim",
      "photoUrl": "https://lh3.googleusercontent.com/a/default-user=s128",
      "userId": "109388192039284916411"
     },
     "user_tz": 420
    },
    "id": "qXPL1t6UD9s6",
    "outputId": "c995e455-1a93-486a-dad1-2fb3c469467f"
   },
   "outputs": [
    {
     "data": {
      "text/plain": [
       "False"
      ]
     },
     "execution_count": 123,
     "metadata": {},
     "output_type": "execute_result"
    }
   ],
   "source": [
    "is_phone_number(\"phone number\")"
   ]
  },
  {
   "cell_type": "markdown",
   "metadata": {
    "colab_type": "text",
    "id": "EPelv8UK3AIh"
   },
   "source": [
    "The code above is unpleasant and verbose. Rather than manually loop through the characters of the string, we would prefer to specify a pattern and command Python to match the pattern.\n",
    "\n",
    "**Regular expressions** (often abbreviated **regex**) conveniently solve this exact problem by allowing us to create general patterns for strings. Using a regular expression, we may re-implement the `is_phone_number` method in two short lines of Python:"
   ]
  },
  {
   "cell_type": "code",
   "execution_count": 124,
   "metadata": {
    "colab": {
     "autoexec": {
      "startup": false,
      "wait_interval": 0
     }
    },
    "colab_type": "code",
    "id": "dpfajFYy3AIi"
   },
   "outputs": [
    {
     "data": {
      "text/plain": [
       "True"
      ]
     },
     "execution_count": 124,
     "metadata": {},
     "output_type": "execute_result"
    }
   ],
   "source": [
    "import re\n",
    "\n",
    "def is_phone_number(string):\n",
    "    regex = r\"[0-9]{3}-[0-9]{3}-[0-9]{4}\"\n",
    "    return re.search(regex, string) is not None\n",
    "\n",
    "is_phone_number(\"382-384-3840\")"
   ]
  },
  {
   "cell_type": "markdown",
   "metadata": {
    "colab_type": "text",
    "id": "9NN0MIOL3AIo"
   },
   "source": [
    "In the code above, we use the regex `[0-9]{3}-[0-9]{3}-[0-9]{4}` to match phone numbers. Although cryptic at a first glance, the syntax of regular expressions is fortunately much simpler to learn than the Python language itself; we introduce nearly all of the syntax in this section alone.\n",
    "\n",
    "We will also introduce the built-in Python module `re` that performs string operations using regexes. "
   ]
  },
  {
   "cell_type": "markdown",
   "metadata": {
    "colab_type": "text",
    "id": "744CBmB07MUn"
   },
   "source": [
    "## Regex Syntax"
   ]
  },
  {
   "cell_type": "markdown",
   "metadata": {},
   "source": [
    "We start with the syntax of regular expressions. In Python, regular expressions are most commonly stored as raw strings. Raw strings behave like normal Python strings without special handling for backslashes.\n",
    "\n",
    "For example, to store the string `hello \\ world` in a normal Python string, we must write:"
   ]
  },
  {
   "cell_type": "code",
   "execution_count": 125,
   "metadata": {},
   "outputs": [
    {
     "name": "stdout",
     "output_type": "stream",
     "text": [
      "hello \\ world\n"
     ]
    }
   ],
   "source": [
    "# Backslashes need to be escaped in normal Python strings\n",
    "some_string = 'hello \\\\ world'\n",
    "print(some_string)"
   ]
  },
  {
   "cell_type": "markdown",
   "metadata": {},
   "source": [
    "Using a raw string removes the need to escape the backslash:"
   ]
  },
  {
   "cell_type": "code",
   "execution_count": 126,
   "metadata": {},
   "outputs": [
    {
     "name": "stdout",
     "output_type": "stream",
     "text": [
      "hello \\ world\n"
     ]
    }
   ],
   "source": [
    "# Note the `r` prefix on the string\n",
    "some_raw_string = r'hello \\ world'\n",
    "print(some_raw_string)"
   ]
  },
  {
   "cell_type": "markdown",
   "metadata": {},
   "source": [
    "Since backslashes appear often in regular expressions, we will use raw strings for all regexes in this section."
   ]
  },
  {
   "cell_type": "markdown",
   "metadata": {
    "colab_type": "text",
    "id": "kw1CnQKo3AIq"
   },
   "source": [
    "### Literals\n",
    "\n",
    "A **literal** character in a regular expression matches the character itself. For example, the regex `r\"a\"` will match any `\"a\"` in `\"Say! I like green eggs and ham!\"`. All alphanumeric characters and most punctuation characters are regex literals."
   ]
  },
  {
   "cell_type": "code",
   "execution_count": 127,
   "metadata": {
    "colab": {
     "autoexec": {
      "startup": false,
      "wait_interval": 0
     }
    },
    "colab_type": "code",
    "id": "cPWdVMiw3AIr",
    "tags": [
     "hide_input"
    ]
   },
   "outputs": [],
   "source": [
    "# HIDDEN\n",
    "def show_regex_match(text, regex):\n",
    "    \"\"\"\n",
    "    Prints the string with the regex match highlighted.\n",
    "    \"\"\"\n",
    "    print(re.sub(f'({regex})', r'\\033[1;30;43m\\1\\033[m', text))"
   ]
  },
  {
   "cell_type": "code",
   "execution_count": 128,
   "metadata": {
    "colab": {
     "autoexec": {
      "startup": false,
      "wait_interval": 0
     },
     "base_uri": "https://localhost:8080/",
     "height": 34
    },
    "colab_type": "code",
    "executionInfo": {
     "elapsed": 260,
     "status": "ok",
     "timestamp": 1524681060221,
     "user": {
      "displayName": "Andrew Kim",
      "photoUrl": "https://lh3.googleusercontent.com/a/default-user=s128",
      "userId": "109388192039284916411"
     },
     "user_tz": 420
    },
    "id": "0OAybiRX3AIt",
    "outputId": "eb93dc04-f556-479b-dc82-815e2fbb7420"
   },
   "outputs": [
    {
     "name": "stdout",
     "output_type": "stream",
     "text": [
      "Say! I like \u001b[1;30;43mgreen\u001b[m eggs and ham!\n"
     ]
    }
   ],
   "source": [
    "# The show_regex_match method highlights all regex matches in the input string\n",
    "regex = r\"green\"\n",
    "show_regex_match(\"Say! I like green eggs and ham!\", regex)"
   ]
  },
  {
   "cell_type": "code",
   "execution_count": 129,
   "metadata": {
    "colab": {
     "autoexec": {
      "startup": false,
      "wait_interval": 0
     },
     "base_uri": "https://localhost:8080/",
     "height": 34
    },
    "colab_type": "code",
    "executionInfo": {
     "elapsed": 260,
     "status": "ok",
     "timestamp": 1524681060221,
     "user": {
      "displayName": "Andrew Kim",
      "photoUrl": "https://lh3.googleusercontent.com/a/default-user=s128",
      "userId": "109388192039284916411"
     },
     "user_tz": 420
    },
    "id": "0OAybiRX3AIt",
    "outputId": "eb93dc04-f556-479b-dc82-815e2fbb7420"
   },
   "outputs": [
    {
     "name": "stdout",
     "output_type": "stream",
     "text": [
      "S\u001b[1;30;43ma\u001b[my! I like green eggs \u001b[1;30;43ma\u001b[mnd h\u001b[1;30;43ma\u001b[mm!\n"
     ]
    }
   ],
   "source": [
    "show_regex_match(\"Say! I like green eggs and ham!\", r\"a\")"
   ]
  },
  {
   "cell_type": "markdown",
   "metadata": {},
   "source": [
    "In the example above we observe that regular expressions can match patterns that appear anywhere in the input string. In Python, this behavior differs depending on the method used to match the regex—some methods only return a match if the regex appears at the start of the string; some methods return a match anywhere in the string.\n",
    "\n",
    "Notice also that the `show_regex_match` method highlights all occurrences of the regex in the input string. Again, this differs depending on the Python method used—some methods return all matches while some only return the first match.\n",
    "\n",
    "Regular expressions are case-sensitive. In the example below, the regex only matches the lowercase `s` in `eggs`, not the uppercase `S` in `Say`."
   ]
  },
  {
   "cell_type": "code",
   "execution_count": 130,
   "metadata": {
    "colab": {
     "autoexec": {
      "startup": false,
      "wait_interval": 0
     },
     "base_uri": "https://localhost:8080/",
     "height": 34
    },
    "colab_type": "code",
    "executionInfo": {
     "elapsed": 461,
     "status": "ok",
     "timestamp": 1524681064496,
     "user": {
      "displayName": "Andrew Kim",
      "photoUrl": "https://lh3.googleusercontent.com/a/default-user=s128",
      "userId": "109388192039284916411"
     },
     "user_tz": 420
    },
    "id": "pH9DbKjZ3AIy",
    "outputId": "802a48c8-a8ec-43dd-9320-4097a30f1030"
   },
   "outputs": [
    {
     "name": "stdout",
     "output_type": "stream",
     "text": [
      "Say! I like green egg\u001b[1;30;43ms\u001b[m and ham!\n"
     ]
    }
   ],
   "source": [
    "show_regex_match(\"Say! I like green eggs and ham!\", r\"s\")"
   ]
  },
  {
   "cell_type": "markdown",
   "metadata": {
    "colab_type": "text",
    "id": "BvMwjXJS3AKI"
   },
   "source": [
    "### Wildcard Character\n",
    "\n",
    "Some characters have special meaning in a regular expression. These meta characters allow regexes to match a variety of patterns.\n",
    "\n",
    "In a regular expression, the period character `.` matches any character except a newline."
   ]
  },
  {
   "cell_type": "code",
   "execution_count": 131,
   "metadata": {
    "colab": {
     "autoexec": {
      "startup": false,
      "wait_interval": 0
     },
     "base_uri": "https://localhost:8080/",
     "height": 34
    },
    "colab_type": "code",
    "executionInfo": {
     "elapsed": 303,
     "status": "ok",
     "timestamp": 1524681067395,
     "user": {
      "displayName": "Andrew Kim",
      "photoUrl": "https://lh3.googleusercontent.com/a/default-user=s128",
      "userId": "109388192039284916411"
     },
     "user_tz": 420
    },
    "id": "n6NNGiO93AKJ",
    "outputId": "6248e853-8c58-4362-9004-a5028c7e5218"
   },
   "outputs": [
    {
     "name": "stdout",
     "output_type": "stream",
     "text": [
      "\u001b[1;30;43mCall\u001b[m me at 382-384-3840.\n"
     ]
    }
   ],
   "source": [
    "show_regex_match(\"Call me at 382-384-3840.\", r\".all\")"
   ]
  },
  {
   "cell_type": "markdown",
   "metadata": {},
   "source": [
    "To match only the literal period character we must escape it with a backslash:"
   ]
  },
  {
   "cell_type": "code",
   "execution_count": 132,
   "metadata": {
    "colab": {
     "autoexec": {
      "startup": false,
      "wait_interval": 0
     },
     "base_uri": "https://localhost:8080/",
     "height": 34
    },
    "colab_type": "code",
    "executionInfo": {
     "elapsed": 303,
     "status": "ok",
     "timestamp": 1524681067395,
     "user": {
      "displayName": "Andrew Kim",
      "photoUrl": "https://lh3.googleusercontent.com/a/default-user=s128",
      "userId": "109388192039284916411"
     },
     "user_tz": 420
    },
    "id": "n6NNGiO93AKJ",
    "outputId": "6248e853-8c58-4362-9004-a5028c7e5218"
   },
   "outputs": [
    {
     "name": "stdout",
     "output_type": "stream",
     "text": [
      "Call me at 382-384-3840\u001b[1;30;43m.\u001b[m\n"
     ]
    }
   ],
   "source": [
    "show_regex_match(\"Call me at 382-384-3840.\", r\"\\.\")"
   ]
  },
  {
   "cell_type": "markdown",
   "metadata": {},
   "source": [
    "By using the period character to mark the parts of a pattern that vary, we construct a regex to match phone numbers. For example, we may take our original phone number `382-384-3840` and replace the numbers with `.`, leaving the dashes as literals. This results in the regex `...-...-....`."
   ]
  },
  {
   "cell_type": "code",
   "execution_count": 133,
   "metadata": {
    "colab": {
     "autoexec": {
      "startup": false,
      "wait_interval": 0
     },
     "base_uri": "https://localhost:8080/",
     "height": 34
    },
    "colab_type": "code",
    "executionInfo": {
     "elapsed": 293,
     "status": "ok",
     "timestamp": 1524681487610,
     "user": {
      "displayName": "Andrew Kim",
      "photoUrl": "https://lh3.googleusercontent.com/a/default-user=s128",
      "userId": "109388192039284916411"
     },
     "user_tz": 420
    },
    "id": "R_5z2Idd2q5Z",
    "outputId": "ea92182c-652a-4f3f-d556-0619797074e0"
   },
   "outputs": [
    {
     "name": "stdout",
     "output_type": "stream",
     "text": [
      "Call me at \u001b[1;30;43m382-384-3840\u001b[m.\n"
     ]
    }
   ],
   "source": [
    "show_regex_match(\"Call me at 382-384-3840.\", \"...-...-....\")"
   ]
  },
  {
   "cell_type": "markdown",
   "metadata": {},
   "source": [
    "Since the period character matches all characters, however, the following input string will produce a spurious match."
   ]
  },
  {
   "cell_type": "code",
   "execution_count": 134,
   "metadata": {
    "colab": {
     "autoexec": {
      "startup": false,
      "wait_interval": 0
     },
     "base_uri": "https://localhost:8080/",
     "height": 34
    },
    "colab_type": "code",
    "executionInfo": {
     "elapsed": 285,
     "status": "ok",
     "timestamp": 1524681494206,
     "user": {
      "displayName": "Andrew Kim",
      "photoUrl": "https://lh3.googleusercontent.com/a/default-user=s128",
      "userId": "109388192039284916411"
     },
     "user_tz": 420
    },
    "id": "u_bbTr3T32X8",
    "outputId": "982319eb-565d-4798-f6c3-caec40992dbf"
   },
   "outputs": [
    {
     "name": "stdout",
     "output_type": "stream",
     "text": [
      "My truck is \u001b[1;30;43mnot-all-blue\u001b[m.\n"
     ]
    }
   ],
   "source": [
    "show_regex_match(\"My truck is not-all-blue.\", \"...-...-....\")"
   ]
  },
  {
   "cell_type": "markdown",
   "metadata": {
    "colab_type": "text",
    "id": "JWMIE3Dz3AI4"
   },
   "source": [
    "### Character Classes\n",
    "\n",
    "A **character class** matches a specified set of characters, allowing us to create more restrictive matches than the `.` character alone. To create a character class, wrap the set of desired characters in brackets `[ ]`."
   ]
  },
  {
   "cell_type": "code",
   "execution_count": 135,
   "metadata": {
    "colab": {
     "autoexec": {
      "startup": false,
      "wait_interval": 0
     },
     "base_uri": "https://localhost:8080/",
     "height": 34
    },
    "colab_type": "code",
    "executionInfo": {
     "elapsed": 282,
     "status": "ok",
     "timestamp": 1524681499797,
     "user": {
      "displayName": "Andrew Kim",
      "photoUrl": "https://lh3.googleusercontent.com/a/default-user=s128",
      "userId": "109388192039284916411"
     },
     "user_tz": 420
    },
    "id": "q21x1CHU3AI6",
    "outputId": "95041818-9995-4b5b-8993-6cd18747d1de"
   },
   "outputs": [
    {
     "name": "stdout",
     "output_type": "stream",
     "text": [
      "I like your \u001b[1;30;43mgray\u001b[m shirt.\n"
     ]
    }
   ],
   "source": [
    "show_regex_match(\"I like your gray shirt.\", \"gr[ae]y\")"
   ]
  },
  {
   "cell_type": "code",
   "execution_count": 136,
   "metadata": {
    "colab": {
     "autoexec": {
      "startup": false,
      "wait_interval": 0
     },
     "base_uri": "https://localhost:8080/",
     "height": 34
    },
    "colab_type": "code",
    "executionInfo": {
     "elapsed": 290,
     "status": "ok",
     "timestamp": 1524681500764,
     "user": {
      "displayName": "Andrew Kim",
      "photoUrl": "https://lh3.googleusercontent.com/a/default-user=s128",
      "userId": "109388192039284916411"
     },
     "user_tz": 420
    },
    "id": "ArGt9KrJ3AI9",
    "outputId": "8d093c2d-8c3b-47cb-91b7-a1986b2b05b2"
   },
   "outputs": [
    {
     "name": "stdout",
     "output_type": "stream",
     "text": [
      "I like your \u001b[1;30;43mgrey\u001b[m shirt.\n"
     ]
    }
   ],
   "source": [
    "show_regex_match(\"I like your grey shirt.\", \"gr[ae]y\")"
   ]
  },
  {
   "cell_type": "code",
   "execution_count": 137,
   "metadata": {
    "colab": {
     "autoexec": {
      "startup": false,
      "wait_interval": 0
     },
     "base_uri": "https://localhost:8080/",
     "height": 34
    },
    "colab_type": "code",
    "executionInfo": {
     "elapsed": 255,
     "status": "ok",
     "timestamp": 1524681502459,
     "user": {
      "displayName": "Andrew Kim",
      "photoUrl": "https://lh3.googleusercontent.com/a/default-user=s128",
      "userId": "109388192039284916411"
     },
     "user_tz": 420
    },
    "id": "wrcEAlLQ3AJE",
    "outputId": "c95cf6d6-a50d-42b6-d2cd-97e533071c55"
   },
   "outputs": [
    {
     "name": "stdout",
     "output_type": "stream",
     "text": [
      "I like your graey shirt.\n"
     ]
    }
   ],
   "source": [
    "# Does not match; a character class only matches one character from a set\n",
    "show_regex_match(\"I like your graey shirt.\", \"gr[ae]y\")"
   ]
  },
  {
   "cell_type": "code",
   "execution_count": 138,
   "metadata": {
    "colab": {
     "autoexec": {
      "startup": false,
      "wait_interval": 0
     },
     "base_uri": "https://localhost:8080/",
     "height": 34
    },
    "colab_type": "code",
    "executionInfo": {
     "elapsed": 255,
     "status": "ok",
     "timestamp": 1524681502459,
     "user": {
      "displayName": "Andrew Kim",
      "photoUrl": "https://lh3.googleusercontent.com/a/default-user=s128",
      "userId": "109388192039284916411"
     },
     "user_tz": 420
    },
    "id": "wrcEAlLQ3AJE",
    "outputId": "c95cf6d6-a50d-42b6-d2cd-97e533071c55"
   },
   "outputs": [
    {
     "name": "stdout",
     "output_type": "stream",
     "text": [
      "I like your \u001b[1;30;43mgraey\u001b[m shirt.\n"
     ]
    }
   ],
   "source": [
    "# In this example, repeating the character class will match\n",
    "show_regex_match(\"I like your graey shirt.\", \"gr[ae][ae]y\")"
   ]
  },
  {
   "cell_type": "markdown",
   "metadata": {},
   "source": [
    "In a character class, the `.` character is treated as a literal, not as a wildcard."
   ]
  },
  {
   "cell_type": "code",
   "execution_count": 139,
   "metadata": {
    "colab": {
     "autoexec": {
      "startup": false,
      "wait_interval": 0
     },
     "base_uri": "https://localhost:8080/",
     "height": 34
    },
    "colab_type": "code",
    "executionInfo": {
     "elapsed": 290,
     "status": "ok",
     "timestamp": 1524681500764,
     "user": {
      "displayName": "Andrew Kim",
      "photoUrl": "https://lh3.googleusercontent.com/a/default-user=s128",
      "userId": "109388192039284916411"
     },
     "user_tz": 420
    },
    "id": "ArGt9KrJ3AI9",
    "outputId": "8d093c2d-8c3b-47cb-91b7-a1986b2b05b2"
   },
   "outputs": [
    {
     "name": "stdout",
     "output_type": "stream",
     "text": [
      "I like your grey sh\u001b[1;30;43mirt.\u001b[m\n"
     ]
    }
   ],
   "source": [
    "show_regex_match(\"I like your grey shirt.\", \"irt[.]\")"
   ]
  },
  {
   "cell_type": "markdown",
   "metadata": {
    "colab_type": "text",
    "id": "tgAsztrq3AJH"
   },
   "source": [
    "There are a few special shorthand notations we can use for commonly used character classes:\n",
    "\n",
    "Shorthand | Meaning\n",
    "--- | ---\n",
    "[0-9] | All the digits\n",
    "[a-z] | Lowercase letters\n",
    "[A-Z] | Uppercase letters"
   ]
  },
  {
   "cell_type": "code",
   "execution_count": 140,
   "metadata": {
    "colab": {
     "autoexec": {
      "startup": false,
      "wait_interval": 0
     },
     "base_uri": "https://localhost:8080/",
     "height": 34
    },
    "colab_type": "code",
    "executionInfo": {
     "elapsed": 255,
     "status": "ok",
     "timestamp": 1524681502459,
     "user": {
      "displayName": "Andrew Kim",
      "photoUrl": "https://lh3.googleusercontent.com/a/default-user=s128",
      "userId": "109388192039284916411"
     },
     "user_tz": 420
    },
    "id": "wrcEAlLQ3AJE",
    "outputId": "c95cf6d6-a50d-42b6-d2cd-97e533071c55"
   },
   "outputs": [
    {
     "name": "stdout",
     "output_type": "stream",
     "text": [
      "I like your gray shirt.\n"
     ]
    }
   ],
   "source": [
    "show_regex_match(\"I like your gray shirt.\", \"y[a-z]y\")"
   ]
  },
  {
   "cell_type": "markdown",
   "metadata": {},
   "source": [
    "Character classes allow us to create a more specific regex for phone numbers."
   ]
  },
  {
   "cell_type": "code",
   "execution_count": 141,
   "metadata": {
    "colab": {
     "autoexec": {
      "startup": false,
      "wait_interval": 0
     },
     "base_uri": "https://localhost:8080/",
     "height": 34
    },
    "colab_type": "code",
    "executionInfo": {
     "elapsed": 293,
     "status": "ok",
     "timestamp": 1524681487610,
     "user": {
      "displayName": "Andrew Kim",
      "photoUrl": "https://lh3.googleusercontent.com/a/default-user=s128",
      "userId": "109388192039284916411"
     },
     "user_tz": 420
    },
    "id": "R_5z2Idd2q5Z",
    "outputId": "ea92182c-652a-4f3f-d556-0619797074e0"
   },
   "outputs": [
    {
     "name": "stdout",
     "output_type": "stream",
     "text": [
      "Call me at \u001b[1;30;43m382-384-3840\u001b[m.\n"
     ]
    }
   ],
   "source": [
    "# We replaced every `.` character in ...-...-.... with [0-9] to restrict\n",
    "# matches to digits.\n",
    "phone_regex = r'[0-9][0-9][0-9]-[0-9][0-9][0-9]-[0-9][0-9][0-9][0-9]'\n",
    "show_regex_match(\"Call me at 382-384-3840.\", phone_regex)"
   ]
  },
  {
   "cell_type": "code",
   "execution_count": 142,
   "metadata": {
    "colab": {
     "autoexec": {
      "startup": false,
      "wait_interval": 0
     },
     "base_uri": "https://localhost:8080/",
     "height": 34
    },
    "colab_type": "code",
    "executionInfo": {
     "elapsed": 293,
     "status": "ok",
     "timestamp": 1524681487610,
     "user": {
      "displayName": "Andrew Kim",
      "photoUrl": "https://lh3.googleusercontent.com/a/default-user=s128",
      "userId": "109388192039284916411"
     },
     "user_tz": 420
    },
    "id": "R_5z2Idd2q5Z",
    "outputId": "ea92182c-652a-4f3f-d556-0619797074e0"
   },
   "outputs": [
    {
     "name": "stdout",
     "output_type": "stream",
     "text": [
      "My truck is not-all-blue.\n"
     ]
    }
   ],
   "source": [
    "# Now we no longer match this string:\n",
    "show_regex_match(\"My truck is not-all-blue.\", phone_regex)"
   ]
  },
  {
   "cell_type": "markdown",
   "metadata": {
    "colab_type": "text",
    "id": "CUDgfZsR3AJK"
   },
   "source": [
    "### Negated Character Classes\n",
    "\n",
    "A **negated character class** matches any character **except** the characters in the class. To create a negated character class, wrap the negated characters in `[^ ]`."
   ]
  },
  {
   "cell_type": "code",
   "execution_count": 143,
   "metadata": {
    "colab": {
     "autoexec": {
      "startup": false,
      "wait_interval": 0
     },
     "base_uri": "https://localhost:8080/",
     "height": 34
    },
    "colab_type": "code",
    "executionInfo": {
     "elapsed": 262,
     "status": "ok",
     "timestamp": 1524681507394,
     "user": {
      "displayName": "Andrew Kim",
      "photoUrl": "https://lh3.googleusercontent.com/a/default-user=s128",
      "userId": "109388192039284916411"
     },
     "user_tz": 420
    },
    "id": "_w2Z5gBJ3AJM",
    "outputId": "513ae4aa-ddca-492e-b44f-677bf1367f5c"
   },
   "outputs": [
    {
     "name": "stdout",
     "output_type": "stream",
     "text": [
      "The car \u001b[1;30;43mpar\u001b[mked in the \u001b[1;30;43mgar\u001b[mage.\n"
     ]
    }
   ],
   "source": [
    "show_regex_match(\"The car parked in the garage.\", r\"[^c]ar\")"
   ]
  },
  {
   "cell_type": "markdown",
   "metadata": {
    "colab_type": "text",
    "id": "cE-nOxzl3AJP"
   },
   "source": [
    "### Quantifiers\n",
    "\n",
    "To create a regex to match phone numbers, we wrote:\n",
    "\n",
    "```\n",
    "[0-9][0-9][0-9]-[0-9][0-9][0-9]-[0-9][0-9][0-9][0-9]\n",
    "```\n",
    "\n",
    "This matches 3 digits, a dash, 3 more digits, a dash, and 4 more digits.\n",
    "\n",
    "Quantifiers allow us to match multiple consecutive appearances of a pattern. We specify the number of repetitions by placing the number in curly braces `{ }`."
   ]
  },
  {
   "cell_type": "code",
   "execution_count": 144,
   "metadata": {
    "colab": {
     "autoexec": {
      "startup": false,
      "wait_interval": 0
     },
     "base_uri": "https://localhost:8080/",
     "height": 34
    },
    "colab_type": "code",
    "executionInfo": {
     "elapsed": 293,
     "status": "ok",
     "timestamp": 1524681487610,
     "user": {
      "displayName": "Andrew Kim",
      "photoUrl": "https://lh3.googleusercontent.com/a/default-user=s128",
      "userId": "109388192039284916411"
     },
     "user_tz": 420
    },
    "id": "R_5z2Idd2q5Z",
    "outputId": "ea92182c-652a-4f3f-d556-0619797074e0"
   },
   "outputs": [
    {
     "name": "stdout",
     "output_type": "stream",
     "text": [
      "Call me at \u001b[1;30;43m382-384-3840\u001b[m.\n"
     ]
    }
   ],
   "source": [
    "phone_regex = r'[0-9]{3}-[0-9]{3}-[0-9]{4}'\n",
    "show_regex_match(\"Call me at 382-384-3840.\", phone_regex)"
   ]
  },
  {
   "cell_type": "code",
   "execution_count": 166,
   "metadata": {
    "colab": {
     "autoexec": {
      "startup": false,
      "wait_interval": 0
     },
     "base_uri": "https://localhost:8080/",
     "height": 34
    },
    "colab_type": "code",
    "executionInfo": {
     "elapsed": 293,
     "status": "ok",
     "timestamp": 1524681487610,
     "user": {
      "displayName": "Andrew Kim",
      "photoUrl": "https://lh3.googleusercontent.com/a/default-user=s128",
      "userId": "109388192039284916411"
     },
     "user_tz": 420
    },
    "id": "R_5z2Idd2q5Z",
    "outputId": "ea92182c-652a-4f3f-d556-0619797074e0"
   },
   "outputs": [
    {
     "name": "stdout",
     "output_type": "stream",
     "text": [
      "Call me at 12-384-3840.\n"
     ]
    }
   ],
   "source": [
    "# No match\n",
    "phone_regex = r'[0-9]{3}-[0-9]{3}-[0-9]{4}'\n",
    "show_regex_match(\"Call me at 12-384-3840.\", phone_regex)"
   ]
  },
  {
   "cell_type": "markdown",
   "metadata": {
    "colab_type": "text",
    "id": "MD0XqVY73AJX"
   },
   "source": [
    "A quantifier always modifies the character or character class to its immediate left. The following table shows the complete syntax for quantifiers."
   ]
  },
  {
   "cell_type": "markdown",
   "metadata": {
    "colab_type": "text",
    "id": "4HXw_UbI3AJY"
   },
   "source": [
    "Quantifier | Meaning\n",
    "--- | ---\n",
    "{m, n} | Match the preceding character m to n times.\n",
    "{m} | Match the preceding character exactly m times.\n",
    "{m,} | Match the preceding character at least m times.\n",
    "{,n} | Match the preceding character at most n times."
   ]
  },
  {
   "cell_type": "markdown",
   "metadata": {
    "colab_type": "text",
    "id": "h6_CUONr3AJa"
   },
   "source": [
    "**Shorthand Quantifiers**\n",
    "\n",
    "Some commonly used quantifiers have a shorthand:\n",
    "\n",
    "Symbol | Quantifier | Meaning\n",
    "--- | --- | ---\n",
    "* | {0,} | Match the preceding character 0 or more times\n",
    "+ | {1,} | Match the preceding character 1 or more times\n",
    "? | {0,1} | Match the preceding charcter 0 or 1 times"
   ]
  },
  {
   "cell_type": "markdown",
   "metadata": {
    "colab_type": "text",
    "id": "yFIS-MBs3AJb"
   },
   "source": [
    "We use the `*` character instead of `{0,}` in the following examples."
   ]
  },
  {
   "cell_type": "code",
   "execution_count": 167,
   "metadata": {
    "colab": {
     "autoexec": {
      "startup": false,
      "wait_interval": 0
     }
    },
    "colab_type": "code",
    "id": "T4MwnwwS3AJb",
    "outputId": "99392490-6b25-4cbc-b23a-0178209b7b77"
   },
   "outputs": [
    {
     "name": "stdout",
     "output_type": "stream",
     "text": [
      "He screamed \"\u001b[1;30;43mAaaah!\u001b[m\" as the cart took a plunge.\n"
     ]
    }
   ],
   "source": [
    "# 3 a's\n",
    "show_regex_match('He screamed \"Aaaah!\" as the cart took a plunge.', \"Aa*h!\")"
   ]
  },
  {
   "cell_type": "code",
   "execution_count": 169,
   "metadata": {
    "colab": {
     "autoexec": {
      "startup": false,
      "wait_interval": 0
     }
    },
    "colab_type": "code",
    "id": "nG7Pd3X03AJf",
    "outputId": "e87301ef-d70a-46b3-a2ca-46905bf96ace"
   },
   "outputs": [
    {
     "name": "stdout",
     "output_type": "stream",
     "text": [
      "He screamed \"\u001b[1;30;43mAaaaaaaaaaaaaaaaaaaah!\u001b[m\" as the cart took a plunge.\n"
     ]
    }
   ],
   "source": [
    "# Lots of a's\n",
    "show_regex_match(\n",
    "    'He screamed \"Aaaaaaaaaaaaaaaaaaaah!\" as the cart took a plunge.',\n",
    "    \"Aa*h!\"\n",
    ")"
   ]
  },
  {
   "cell_type": "code",
   "execution_count": 151,
   "metadata": {
    "colab": {
     "autoexec": {
      "startup": false,
      "wait_interval": 0
     }
    },
    "colab_type": "code",
    "id": "4OlXv2-c3AJi",
    "outputId": "c2bdde3f-ec5e-44d7-dd89-abad8d2a0f85"
   },
   "outputs": [
    {
     "name": "stdout",
     "output_type": "stream",
     "text": [
      "He screamed \"\u001b[1;30;43mAh!\u001b[m\" as the cart took a plunge.\n"
     ]
    }
   ],
   "source": [
    "# No lowercase a's\n",
    "show_regex_match('He screamed \"Ah!\" as the cart took a plunge.', \"Aa*h!\")"
   ]
  },
  {
   "cell_type": "markdown",
   "metadata": {
    "colab_type": "text",
    "id": "16ZfQsaqInak"
   },
   "source": [
    "**Quantifiers are greedy**\n",
    "\n",
    "Quantifiers will always return the longest match possible. This sometimes results in surprising behavior:"
   ]
  },
  {
   "cell_type": "code",
   "execution_count": 173,
   "metadata": {
    "colab": {
     "autoexec": {
      "startup": false,
      "wait_interval": 0
     }
    },
    "colab_type": "code",
    "id": "R1B2Z_zr3AJo",
    "outputId": "14df3cde-272b-40d4-a4ec-55f1b6332cd9"
   },
   "outputs": [
    {
     "name": "stdout",
     "output_type": "stream",
     "text": [
      "Remember the numbers \u001b[1;30;43m<311> and <911>\u001b[m\n"
     ]
    }
   ],
   "source": [
    "# We tried to match 311 and 911 but matched the ` and ` as well because\n",
    "# `<311> and <911>` is the longest match possible for `<.+>`.\n",
    "show_regex_match(\"Remember the numbers <311> and <911>\", \"<.+>\")"
   ]
  },
  {
   "cell_type": "markdown",
   "metadata": {},
   "source": [
    "In many cases, using a more specific character class prevents these false matches:"
   ]
  },
  {
   "cell_type": "code",
   "execution_count": 172,
   "metadata": {
    "colab": {
     "autoexec": {
      "startup": false,
      "wait_interval": 0
     }
    },
    "colab_type": "code",
    "id": "R1B2Z_zr3AJo",
    "outputId": "14df3cde-272b-40d4-a4ec-55f1b6332cd9"
   },
   "outputs": [
    {
     "name": "stdout",
     "output_type": "stream",
     "text": [
      "Remember the numbers \u001b[1;30;43m<311>\u001b[m and \u001b[1;30;43m<911>\u001b[m\n"
     ]
    }
   ],
   "source": [
    "show_regex_match(\"Remember the numbers <311> and <911>\", \"<[0-9]+>\")"
   ]
  },
  {
   "cell_type": "markdown",
   "metadata": {
    "colab_type": "text",
    "id": "9EkC1hqn3AJv"
   },
   "source": [
    "### Anchoring"
   ]
  },
  {
   "cell_type": "markdown",
   "metadata": {
    "colab_type": "text",
    "id": "7GhKRUUD3AJv"
   },
   "source": [
    "Sometimes a pattern should only match at the beginning or end of a string.  The special character `^` anchors the regex to match only if the pattern appears at the beginning of the string; the special character `$` anchors the regex to match only if the pattern occurs at the end of the string.  For example the regex `well$` only matches an appearance of `well` at the end of the string."
   ]
  },
  {
   "cell_type": "code",
   "execution_count": 175,
   "metadata": {
    "colab": {
     "autoexec": {
      "startup": false,
      "wait_interval": 0
     },
     "base_uri": "https://localhost:8080/",
     "height": 34
    },
    "colab_type": "code",
    "executionInfo": {
     "elapsed": 277,
     "status": "ok",
     "timestamp": 1524679002767,
     "user": {
      "displayName": "Andrew Kim",
      "photoUrl": "https://lh3.googleusercontent.com/a/default-user=s128",
      "userId": "109388192039284916411"
     },
     "user_tz": 420
    },
    "id": "l6nxOnSb3AJw",
    "outputId": "7682e1f8-8948-4bc4-802b-a8be7ea8eb38"
   },
   "outputs": [
    {
     "name": "stdout",
     "output_type": "stream",
     "text": [
      "well, well, \u001b[1;30;43mwell\u001b[m\n"
     ]
    }
   ],
   "source": [
    "show_regex_match('well, well, well', r\"well$\")"
   ]
  },
  {
   "cell_type": "markdown",
   "metadata": {
    "colab_type": "text",
    "id": "DomGxopI3AJ1"
   },
   "source": [
    "Using both `^` and `$` requires the regex to match the full string."
   ]
  },
  {
   "cell_type": "code",
   "execution_count": 174,
   "metadata": {
    "colab": {
     "autoexec": {
      "startup": false,
      "wait_interval": 0
     }
    },
    "colab_type": "code",
    "id": "T84H7x6Y3AJ2",
    "outputId": "a741666a-8542-4d9c-bd7b-677f6aa099c9"
   },
   "outputs": [
    {
     "name": "stdout",
     "output_type": "stream",
     "text": [
      "\u001b[1;30;43m382-384-3840\u001b[m\n"
     ]
    }
   ],
   "source": [
    "phone_regex = r\"^[0-9]{3}-[0-9]{3}-[0-9]{4}$\"\n",
    "show_regex_match('382-384-3840', phone_regex)"
   ]
  },
  {
   "cell_type": "code",
   "execution_count": 176,
   "metadata": {
    "colab": {
     "autoexec": {
      "startup": false,
      "wait_interval": 0
     }
    },
    "colab_type": "code",
    "id": "f85Z8DbD3AJ6",
    "outputId": "5e4ed4b9-8103-4938-92c1-c49636d2c165"
   },
   "outputs": [
    {
     "name": "stdout",
     "output_type": "stream",
     "text": [
      "You can call me at 382-384-3840.\n"
     ]
    }
   ],
   "source": [
    "# No match\n",
    "show_regex_match('You can call me at 382-384-3840.', phone_regex)"
   ]
  },
  {
   "cell_type": "markdown",
   "metadata": {
    "colab_type": "text",
    "id": "zyqzwqJy3AKN"
   },
   "source": [
    "### Escaping Meta Characters"
   ]
  },
  {
   "cell_type": "markdown",
   "metadata": {
    "colab_type": "text",
    "id": "o_iXMRwU3AKN"
   },
   "source": [
    "All regex meta characters have special meaning in a regular expression. To match meta characters as literals, we escape them using the `\\` character."
   ]
  },
  {
   "cell_type": "code",
   "execution_count": 177,
   "metadata": {
    "colab": {
     "autoexec": {
      "startup": false,
      "wait_interval": 0
     },
     "base_uri": "https://localhost:8080/",
     "height": 34
    },
    "colab_type": "code",
    "executionInfo": {
     "elapsed": 298,
     "status": "ok",
     "timestamp": 1524679212660,
     "user": {
      "displayName": "Andrew Kim",
      "photoUrl": "https://lh3.googleusercontent.com/a/default-user=s128",
      "userId": "109388192039284916411"
     },
     "user_tz": 420
    },
    "id": "UnhvbGDT3AKQ",
    "outputId": "4adf5049-79af-455e-e2df-bec2468c8e0f"
   },
   "outputs": [
    {
     "name": "stdout",
     "output_type": "stream",
     "text": [
      "Call me at \u001b[1;30;43m[\u001b[m382-384-3840].\n"
     ]
    }
   ],
   "source": [
    "# `[` is a meta character and requires escaping\n",
    "show_regex_match(\"Call me at [382-384-3840].\", \"\\[\")"
   ]
  },
  {
   "cell_type": "code",
   "execution_count": 178,
   "metadata": {
    "colab": {
     "autoexec": {
      "startup": false,
      "wait_interval": 0
     },
     "base_uri": "https://localhost:8080/",
     "height": 34
    },
    "colab_type": "code",
    "executionInfo": {
     "elapsed": 298,
     "status": "ok",
     "timestamp": 1524679212660,
     "user": {
      "displayName": "Andrew Kim",
      "photoUrl": "https://lh3.googleusercontent.com/a/default-user=s128",
      "userId": "109388192039284916411"
     },
     "user_tz": 420
    },
    "id": "UnhvbGDT3AKQ",
    "outputId": "4adf5049-79af-455e-e2df-bec2468c8e0f"
   },
   "outputs": [
    {
     "name": "stdout",
     "output_type": "stream",
     "text": [
      "Call me at [382-384-3840]\u001b[1;30;43m.\u001b[m\n"
     ]
    }
   ],
   "source": [
    "# `.` is a meta character and requires escaping\n",
    "show_regex_match(\"Call me at [382-384-3840].\", \"\\.\")"
   ]
  },
  {
   "cell_type": "markdown",
   "metadata": {
    "colab_type": "text",
    "id": "TrPjIHHD8rOC"
   },
   "source": [
    "## Reference Tables\n",
    "\n",
    "We have now covered the most important pieces of regex syntax and meta characters. For a more complete reference, we include the tables below.\n",
    "\n",
    "**Meta Characters**\n",
    "\n",
    "This table includes most of the important *meta characters*, which help us specify certain patterns we want to match in a string.\n",
    "\n",
    "| Char   | Description                         | Example                    | Matches        | Doesn't Match |\n",
    "| ------ | ----------------------------------- | -------------------------- | -------------- | ------------- |\n",
    "| .      | Any character except \\n             | `...`                      | abc            | ab<br>abcd    |\n",
    "| [ ]    | Any character inside brackets       | `[cb.]ar`                  | car<br>.ar     | jar           |\n",
    "| [^ ]   | Any character _not_ inside brackets | `[^b]ar`                   | car<br>par     | bar<br>ar     |\n",
    "| \\*     | ≥ 0 or more of last symbol          | `[pb]*ark`                 | bbark<br>ark   | dark          |\n",
    "| +      | ≥ 1 or more of last symbol          | `[pb]+ark`                 | bbpark<br>bark | dark<br>ark   |\n",
    "| ?      | 0 or 1 of last symbol               | `s?he`                     | she<br>he      | the           |\n",
    "| {_n_}  | Exactly _n_ of last symbol          | `hello{3}`                 | hellooo        | hello         |\n",
    "| &#124; | Pattern before or after bar         | <code>we&#124;[ui]s</code> | we<br>us<br>is | e<br>s        |\n",
    "| \\      | Escapes next character              | `\\[hi\\]`                   | [hi]           | hi            |\n",
    "| ^      | Beginning of line                   | `^ark`                     | ark two        | dark          |\n",
    "| \\$     | End of line                         | `ark$`                     | noahs ark      | noahs arks    |"
   ]
  },
  {
   "cell_type": "markdown",
   "metadata": {
    "colab_type": "text",
    "id": "TrPjIHHD8rOC"
   },
   "source": [
    "**Shorthand Character Sets**\n",
    "\n",
    "Some commonly used character sets have shorthands.\n",
    "\n",
    "| Description                   | Bracket Form       | Shorthand |\n",
    "| ----------------------------- | ------------------ | --------- |\n",
    "| Alphanumeric character        | `[a-zA-Z0-9]`      | `\\w`      |\n",
    "| Not an alphanumeric character | `[^a-zA-Z0-9]`     | `\\W`      |\n",
    "| Digit                         | `[0-9]`            | `\\d`      |\n",
    "| Not a digit                   | `[^0-9]`           | `\\D`      |\n",
    "| Whitespace                    | `[\\t\\n\\f\\r\\p{Z}]`  | `\\s`      |\n",
    "| Not whitespace                | `[^\\t\\n\\f\\r\\p{z}]` | `\\S`      |"
   ]
  },
  {
   "cell_type": "markdown",
   "metadata": {},
   "source": [
    "## Summary\n",
    "\n",
    "Almost all programming languages have a library to match patterns using regular expressions, making them useful regardless of the specific language. In this section, we introduce regex syntax and the most useful meta characters."
   ]
  }
 ],
 "metadata": {
  "colab": {
   "collapsed_sections": [
    "RTJu-FQY3AIp",
    "TrPjIHHD8rOC"
   ],
   "default_view": {},
   "name": "working_with_text.ipynb",
   "provenance": [],
   "version": "0.3.2",
   "views": {}
  },
  "kernelspec": {
   "display_name": "Python 3",
   "language": "python",
   "name": "python3"
  },
  "language_info": {
   "codemirror_mode": {
    "name": "ipython",
    "version": 3
   },
   "file_extension": ".py",
   "mimetype": "text/x-python",
   "name": "python",
   "nbconvert_exporter": "python",
   "pygments_lexer": "ipython3",
   "version": "3.6.5"
  },
  "toc": {
   "nav_menu": {},
   "number_sections": false,
   "sideBar": false,
   "skip_h1_title": false,
   "title_cell": "Table of Contents",
   "title_sidebar": "Contents",
   "toc_cell": true,
   "toc_position": {},
   "toc_section_display": true,
   "toc_window_display": false
  }
 },
 "nbformat": 4,
 "nbformat_minor": 1
}
