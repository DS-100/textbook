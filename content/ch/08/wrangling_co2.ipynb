{
 "cells": [
  {
   "cell_type": "code",
   "execution_count": 2,
   "metadata": {
    "tags": [
     "remove-cell"
    ]
   },
   "outputs": [],
   "source": [
    "# Reference: https://jupyterbook.org/interactive/hiding.html\n",
    "# Use {hide, remove}-{input, output, cell} tags to hiding content\n",
    "\n",
    "import numpy as np\n",
    "import matplotlib.pyplot as plt\n",
    "import pandas as pd\n",
    "import seaborn as sns\n",
    "%matplotlib inline\n",
    "import ipywidgets as widgets\n",
    "from ipywidgets import interact, interactive, fixed, interact_manual\n",
    "from IPython.display import display\n",
    "import myst_nb\n",
    "\n",
    "sns.set()\n",
    "sns.set_context('talk')\n",
    "np.set_printoptions(threshold=20, precision=2, suppress=True)\n",
    "pd.set_option('display.max_rows', 7)\n",
    "pd.set_option('display.max_columns', 8)\n",
    "pd.set_option('precision', 2)\n",
    "# This option stops scientific notation for pandas\n",
    "# pd.set_option('display.float_format', '{:.2f}'.format)\n",
    "\n",
    "def display_df(df, rows=pd.options.display.max_rows,\n",
    "               cols=pd.options.display.max_columns):\n",
    "    with pd.option_context('display.max_rows', rows,\n",
    "                           'display.max_columns', cols):\n",
    "        display(df)"
   ]
  },
  {
   "cell_type": "markdown",
   "metadata": {},
   "source": [
    "(ch:wrangling_co2)=\n",
    "# Example: Wrangling CO2 Measurements\n",
    "\n",
    "In this example, we apply the ideas presented in earlier sections of this chapter on file formats, table shape, and granularity, and we introduce concepts relevant to the next sections on data-quality checks, feature transformations, and table reshaping. Recall that CO2 concentrations have been monitored at Mauna Loa Observatory since 1958. These data are in the file `co2_mm_mlo.txt`. Let's begin by using CLI tools to confirm the encoding and size of the source file."
   ]
  },
  {
   "cell_type": "code",
   "execution_count": 3,
   "metadata": {},
   "outputs": [
    {
     "name": "stdout",
     "output_type": "stream",
     "text": [
      "data/co2_mm_mlo.txt: ASCII text\r\n"
     ]
    }
   ],
   "source": [
    "!file data/co2_mm_mlo.txt"
   ]
  },
  {
   "cell_type": "code",
   "execution_count": 4,
   "metadata": {},
   "outputs": [
    {
     "name": "stdout",
     "output_type": "stream",
     "text": [
      "     810    5804   51131 data/co2_mm_mlo.txt\r\n"
     ]
    }
   ],
   "source": [
    "!wc data/co2_mm_mlo.txt"
   ]
  },
  {
   "cell_type": "markdown",
   "metadata": {},
   "source": [
    "The file is plain text (with ASCII encoding); it has 810 lines and 51k characters. The file is not particularly large so we shouldn't have any difficulty loading it into a data frame. Next, let's look at the first few lines in the file to determine the formatting.  "
   ]
  },
  {
   "cell_type": "code",
   "execution_count": 5,
   "metadata": {},
   "outputs": [
    {
     "name": "stdout",
     "output_type": "stream",
     "text": [
      "# --------------------------------------------------------------------\r\n",
      "# USE OF NOAA ESRL DATA\r\n",
      "# \r\n",
      "# These data are made freely available to the public and the\r\n",
      "# scientific community in the belief that their wide dissemination\r\n",
      "# will lead to greater understanding and new scientific insights.\r\n",
      "# The availability of these data does not constitute publication\r\n",
      "# of the data.  NOAA relies on the ethics and integrity of the user to\r\n",
      "# ensure that ESRL receives fair credit for their work.  If the data \r\n",
      "# are obtained for potential use in a publication or presentation, \r\n"
     ]
    }
   ],
   "source": [
    "!head -n 10 data/co2_mm_mlo.txt"
   ]
  },
  {
   "cell_type": "markdown",
   "metadata": {},
   "source": [
    "We see that the file begins with information about the data source. We should read this documentation before starting our analysis, but some times the urge to plunge into the analysis wins over and we just start mucking about and discovery properties of the data as we go. To do this, though,\n",
    "we do need to find where the actual data begins. So, we increase the number of lines to display until we locate the actual data values."
   ]
  },
  {
   "cell_type": "markdown",
   "metadata": {},
   "source": [
    "```bash\n",
    "!head -n 75 data/co2_mm_mlo.txt\n",
    "# We've cut out the top rows of the output to save space\n",
    "```\n",
    "\n",
    "```\n",
    "<65 rows omitted>\n",
    "#\n",
    "# CO2 expressed as a mole fraction in dry air, micromol/mol, abbreviated as ppm\n",
    "#\n",
    "#  (-99.99 missing data;  -1 no data for #daily means in month)\n",
    "#\n",
    "#            decimal     average   interpolated    trend    #days\n",
    "#             date                             (season corr)\n",
    "1958   3    1958.208      315.71      315.71      314.62     -1\n",
    "1958   4    1958.292      317.45      317.45      315.29     -1\n",
    "1958   5    1958.375      317.50      317.50      314.71     -1\n",
    "```"
   ]
  },
  {
   "cell_type": "markdown",
   "metadata": {},
   "source": [
    "Looking at the first few lines of the data, we spot some relevant characteristics:\n",
    "\n",
    "- The values are separated by white space, possibly tabs.\n",
    "- The data line up down the rows. For example, the month appears in 7th to 8th position of each line.\n",
    "- The 71st and 72nd lines in the file contain column headings split over two lines.\n",
    "\n",
    "We can use `read_csv` to read the data into a Pandas data frame, and we provide several arguments to specify that the separators are white space, there is no header (we will set our own column names), and to skip the first 72 rows of the file."
   ]
  },
  {
   "cell_type": "code",
   "execution_count": 6,
   "metadata": {},
   "outputs": [],
   "source": [
    "co2 = pd.read_csv('data/co2_mm_mlo.txt', header = None, skiprows = 72, \n",
    "                  sep = '\\s+',\n",
    "                  names = ['Yr', 'Mo', 'DecDate', 'Avg', 'Int', 'Trend', 'days'])"
   ]
  },
  {
   "cell_type": "markdown",
   "metadata": {},
   "source": [
    "## Are There Missing Data?"
   ]
  },
  {
   "cell_type": "markdown",
   "metadata": {},
   "source": [
    "Since scientific studies tend to have very clean data, let's jump right in and make a time series plot of CO2 monthly averages."
   ]
  },
  {
   "cell_type": "code",
   "execution_count": 7,
   "metadata": {},
   "outputs": [
    {
     "data": {
      "image/png": "[encoded data removed]",
      "text/plain": [
       "<Figure size 432x288 with 1 Axes>"
      ]
     },
     "metadata": {},
     "output_type": "display_data"
    }
   ],
   "source": [
    "sns.lineplot(x='DecDate', y='Avg', data=co2);"
   ]
  },
  {
   "cell_type": "markdown",
   "metadata": {},
   "source": [
    ":::{note}\n",
    "\n",
    "The code above uses the `seaborn` plotting library (abbreviated `sns`).\n",
    "We won't cover this library in detail until the {ref}`ch:viz` chapter.\n",
    "We've left the code in this chapter to provide you with more examples\n",
    "of plotting code, but the focus in this chapter\n",
    "will be on the plots themselves, not the\n",
    "code used to created them.\n",
    "\n",
    ":::"
   ]
  },
  {
   "cell_type": "markdown",
   "metadata": {},
   "source": [
    "Yikes! Plotting the data uncovered a problem. What happened here? We can check a few rows of the dataframe to see if we can spot issues in the data."
   ]
  },
  {
   "cell_type": "code",
   "execution_count": 8,
   "metadata": {},
   "outputs": [
    {
     "data": {
      "text/html": [
       "<div>\n",
       "<style scoped>\n",
       "    .dataframe tbody tr th:only-of-type {\n",
       "        vertical-align: middle;\n",
       "    }\n",
       "\n",
       "    .dataframe tbody tr th {\n",
       "        vertical-align: top;\n",
       "    }\n",
       "\n",
       "    .dataframe thead th {\n",
       "        text-align: right;\n",
       "    }\n",
       "</style>\n",
       "<table border=\"1\" class=\"dataframe\">\n",
       "  <thead>\n",
       "    <tr style=\"text-align: right;\">\n",
       "      <th></th>\n",
       "      <th>Yr</th>\n",
       "      <th>Mo</th>\n",
       "      <th>DecDate</th>\n",
       "      <th>Avg</th>\n",
       "      <th>Int</th>\n",
       "      <th>Trend</th>\n",
       "      <th>days</th>\n",
       "    </tr>\n",
       "  </thead>\n",
       "  <tbody>\n",
       "    <tr>\n",
       "      <th>0</th>\n",
       "      <td>1958</td>\n",
       "      <td>3</td>\n",
       "      <td>1958.21</td>\n",
       "      <td>315.71</td>\n",
       "      <td>315.71</td>\n",
       "      <td>314.62</td>\n",
       "      <td>-1</td>\n",
       "    </tr>\n",
       "    <tr>\n",
       "      <th>1</th>\n",
       "      <td>1958</td>\n",
       "      <td>4</td>\n",
       "      <td>1958.29</td>\n",
       "      <td>317.45</td>\n",
       "      <td>317.45</td>\n",
       "      <td>315.29</td>\n",
       "      <td>-1</td>\n",
       "    </tr>\n",
       "    <tr>\n",
       "      <th>2</th>\n",
       "      <td>1958</td>\n",
       "      <td>5</td>\n",
       "      <td>1958.38</td>\n",
       "      <td>317.50</td>\n",
       "      <td>317.50</td>\n",
       "      <td>314.71</td>\n",
       "      <td>-1</td>\n",
       "    </tr>\n",
       "    <tr>\n",
       "      <th>3</th>\n",
       "      <td>1958</td>\n",
       "      <td>6</td>\n",
       "      <td>1958.46</td>\n",
       "      <td>-99.99</td>\n",
       "      <td>317.10</td>\n",
       "      <td>314.85</td>\n",
       "      <td>-1</td>\n",
       "    </tr>\n",
       "    <tr>\n",
       "      <th>4</th>\n",
       "      <td>1958</td>\n",
       "      <td>7</td>\n",
       "      <td>1958.54</td>\n",
       "      <td>315.86</td>\n",
       "      <td>315.86</td>\n",
       "      <td>314.98</td>\n",
       "      <td>-1</td>\n",
       "    </tr>\n",
       "  </tbody>\n",
       "</table>\n",
       "</div>"
      ],
      "text/plain": [
       "     Yr  Mo  DecDate     Avg     Int   Trend  days\n",
       "0  1958   3  1958.21  315.71  315.71  314.62    -1\n",
       "1  1958   4  1958.29  317.45  317.45  315.29    -1\n",
       "2  1958   5  1958.38  317.50  317.50  314.71    -1\n",
       "3  1958   6  1958.46  -99.99  317.10  314.85    -1\n",
       "4  1958   7  1958.54  315.86  315.86  314.98    -1"
      ]
     },
     "execution_count": 8,
     "metadata": {},
     "output_type": "execute_result"
    }
   ],
   "source": [
    "co2.head()"
   ]
  },
  {
   "cell_type": "code",
   "execution_count": 9,
   "metadata": {},
   "outputs": [
    {
     "data": {
      "text/html": [
       "<div>\n",
       "<style scoped>\n",
       "    .dataframe tbody tr th:only-of-type {\n",
       "        vertical-align: middle;\n",
       "    }\n",
       "\n",
       "    .dataframe tbody tr th {\n",
       "        vertical-align: top;\n",
       "    }\n",
       "\n",
       "    .dataframe thead th {\n",
       "        text-align: right;\n",
       "    }\n",
       "</style>\n",
       "<table border=\"1\" class=\"dataframe\">\n",
       "  <thead>\n",
       "    <tr style=\"text-align: right;\">\n",
       "      <th></th>\n",
       "      <th>Yr</th>\n",
       "      <th>Mo</th>\n",
       "      <th>DecDate</th>\n",
       "      <th>Avg</th>\n",
       "      <th>Int</th>\n",
       "      <th>Trend</th>\n",
       "      <th>days</th>\n",
       "    </tr>\n",
       "  </thead>\n",
       "  <tbody>\n",
       "    <tr>\n",
       "      <th>733</th>\n",
       "      <td>2019</td>\n",
       "      <td>4</td>\n",
       "      <td>2019.29</td>\n",
       "      <td>413.32</td>\n",
       "      <td>413.32</td>\n",
       "      <td>410.49</td>\n",
       "      <td>26</td>\n",
       "    </tr>\n",
       "    <tr>\n",
       "      <th>734</th>\n",
       "      <td>2019</td>\n",
       "      <td>5</td>\n",
       "      <td>2019.38</td>\n",
       "      <td>414.66</td>\n",
       "      <td>414.66</td>\n",
       "      <td>411.20</td>\n",
       "      <td>28</td>\n",
       "    </tr>\n",
       "    <tr>\n",
       "      <th>735</th>\n",
       "      <td>2019</td>\n",
       "      <td>6</td>\n",
       "      <td>2019.46</td>\n",
       "      <td>413.92</td>\n",
       "      <td>413.92</td>\n",
       "      <td>411.58</td>\n",
       "      <td>27</td>\n",
       "    </tr>\n",
       "    <tr>\n",
       "      <th>736</th>\n",
       "      <td>2019</td>\n",
       "      <td>7</td>\n",
       "      <td>2019.54</td>\n",
       "      <td>411.77</td>\n",
       "      <td>411.77</td>\n",
       "      <td>411.43</td>\n",
       "      <td>23</td>\n",
       "    </tr>\n",
       "    <tr>\n",
       "      <th>737</th>\n",
       "      <td>2019</td>\n",
       "      <td>8</td>\n",
       "      <td>2019.62</td>\n",
       "      <td>409.95</td>\n",
       "      <td>409.95</td>\n",
       "      <td>411.84</td>\n",
       "      <td>29</td>\n",
       "    </tr>\n",
       "  </tbody>\n",
       "</table>\n",
       "</div>"
      ],
      "text/plain": [
       "       Yr  Mo  DecDate     Avg     Int   Trend  days\n",
       "733  2019   4  2019.29  413.32  413.32  410.49    26\n",
       "734  2019   5  2019.38  414.66  414.66  411.20    28\n",
       "735  2019   6  2019.46  413.92  413.92  411.58    27\n",
       "736  2019   7  2019.54  411.77  411.77  411.43    23\n",
       "737  2019   8  2019.62  409.95  409.95  411.84    29"
      ]
     },
     "execution_count": 9,
     "metadata": {},
     "output_type": "execute_result"
    }
   ],
   "source": [
    "co2.tail()"
   ]
  },
  {
   "cell_type": "markdown",
   "metadata": {},
   "source": [
    "Looking a bit more closely this time, we see that some data have unusual values like -1 and -99.99.  When we read the information at the top of the file more carefully, we find that -99.99 denotes a missing monthly average and -1 signifies a missing value for the number of days the equipment was in operation that month.\n",
    "\n",
    "Let's step back and perform some quality checks.  First, we consider the shape of the data. How many rows should we have? From looking at the head and tail of the data frame, the data appear to be in chronological order, beginning with March 1958 and ending with August 2019.\n",
    "This means we should have $ 12 \\times (2019-1957) - 2 - 4 = 738 $ records."
   ]
  },
  {
   "cell_type": "code",
   "execution_count": 10,
   "metadata": {},
   "outputs": [
    {
     "data": {
      "text/plain": [
       "(738, 7)"
      ]
     },
     "execution_count": 10,
     "metadata": {},
     "output_type": "execute_result"
    }
   ],
   "source": [
    "co2.shape"
   ]
  },
  {
   "cell_type": "markdown",
   "metadata": {},
   "source": [
    "Our calculations match the number of rows. Next, let's go on to check the quality of the features, starting with `Mo`. We expect the values to range from 1 to 12, and each month should have 2019-1957 = 62  or 61 instances (since the recordings begin in March of the first year and end in August of the most recent year). "
   ]
  },
  {
   "cell_type": "code",
   "execution_count": 11,
   "metadata": {},
   "outputs": [
    {
     "data": {
      "text/plain": [
       "1     61\n",
       "2     61\n",
       "3     62\n",
       "      ..\n",
       "10    61\n",
       "11    61\n",
       "12    61\n",
       "Name: Mo, Length: 12, dtype: int64"
      ]
     },
     "execution_count": 11,
     "metadata": {},
     "output_type": "execute_result"
    }
   ],
   "source": [
    "co2[\"Mo\"].value_counts().reindex(range(1,13))"
   ]
  },
  {
   "cell_type": "markdown",
   "metadata": {},
   "source": [
    "As expected Jan, Feb, Sep, Oct, Nov, and Dec have 61 occurrences and the rest 62. \n",
    "\n",
    "Let's turn to examine `days`."
   ]
  },
  {
   "cell_type": "code",
   "execution_count": 12,
   "metadata": {},
   "outputs": [
    {
     "data": {
      "image/png": "[encoded data removed]",
      "text/plain": [
       "<Figure size 360x360 with 1 Axes>"
      ]
     },
     "metadata": {},
     "output_type": "display_data"
    }
   ],
   "source": [
    "sns.displot(co2['days']);"
   ]
  },
  {
   "cell_type": "markdown",
   "metadata": {},
   "source": [
    "In terms of data quality, a handful of months have averages based on measurements taken on fewer than half the days. In addition, there are nearly 200 missing values. Let's check to see if there is any connection between missingness and the year of the recording."
   ]
  },
  {
   "cell_type": "code",
   "execution_count": 13,
   "metadata": {},
   "outputs": [
    {
     "data": {
      "image/png": "[encoded data removed]",
      "text/plain": [
       "<Figure size 432x288 with 1 Axes>"
      ]
     },
     "metadata": {},
     "output_type": "display_data"
    }
   ],
   "source": [
    "sns.scatterplot(x=\"Yr\", y=\"days\", data=co2);"
   ]
  },
  {
   "cell_type": "markdown",
   "metadata": {},
   "source": [
    "All of the missing data are in the early years of operation. The number of days of operation of the equipment may no longer be available for the early days of operation. It also appears that there might have been problems with the equipment in the mid to late 80s. What do we do with these conjectures? We would want to confirm them by looking through documentation about the historical readings. If we are concerned about the impact on the CO2 averages of the missing values for `days`, then a simple solution would be to drop the earliest recordings. However, we would want to delay such action until after we have examined the time trends and assess whether there are any potential problems.\n",
    "\n",
    "Next, let's return to the -99.99 values in `Avg` and the overall quality of the CO2 measurements."
   ]
  },
  {
   "cell_type": "code",
   "execution_count": 14,
   "metadata": {},
   "outputs": [
    {
     "data": {
      "image/png": "[encoded data removed]",
      "text/plain": [
       "<Figure size 360x360 with 1 Axes>"
      ]
     },
     "metadata": {},
     "output_type": "display_data"
    }
   ],
   "source": [
    "sns.displot(co2['Avg']);"
   ]
  },
  {
   "cell_type": "markdown",
   "metadata": {},
   "source": [
    "The non-missing values are in the 300-400 range, which is as expected based on our external research on CO2 levels. We also see that there are only a few missing values. Since there aren't many missing values, we can examine all\n",
    "of them:"
   ]
  },
  {
   "cell_type": "code",
   "execution_count": 15,
   "metadata": {},
   "outputs": [
    {
     "data": {
      "text/html": [
       "<div>\n",
       "<style scoped>\n",
       "    .dataframe tbody tr th:only-of-type {\n",
       "        vertical-align: middle;\n",
       "    }\n",
       "\n",
       "    .dataframe tbody tr th {\n",
       "        vertical-align: top;\n",
       "    }\n",
       "\n",
       "    .dataframe thead th {\n",
       "        text-align: right;\n",
       "    }\n",
       "</style>\n",
       "<table border=\"1\" class=\"dataframe\">\n",
       "  <thead>\n",
       "    <tr style=\"text-align: right;\">\n",
       "      <th></th>\n",
       "      <th>Yr</th>\n",
       "      <th>Mo</th>\n",
       "      <th>DecDate</th>\n",
       "      <th>Avg</th>\n",
       "      <th>Int</th>\n",
       "      <th>Trend</th>\n",
       "      <th>days</th>\n",
       "    </tr>\n",
       "  </thead>\n",
       "  <tbody>\n",
       "    <tr>\n",
       "      <th>3</th>\n",
       "      <td>1958</td>\n",
       "      <td>6</td>\n",
       "      <td>1958.46</td>\n",
       "      <td>-99.99</td>\n",
       "      <td>317.10</td>\n",
       "      <td>314.85</td>\n",
       "      <td>-1</td>\n",
       "    </tr>\n",
       "    <tr>\n",
       "      <th>7</th>\n",
       "      <td>1958</td>\n",
       "      <td>10</td>\n",
       "      <td>1958.79</td>\n",
       "      <td>-99.99</td>\n",
       "      <td>312.66</td>\n",
       "      <td>315.61</td>\n",
       "      <td>-1</td>\n",
       "    </tr>\n",
       "    <tr>\n",
       "      <th>71</th>\n",
       "      <td>1964</td>\n",
       "      <td>2</td>\n",
       "      <td>1964.12</td>\n",
       "      <td>-99.99</td>\n",
       "      <td>320.07</td>\n",
       "      <td>319.61</td>\n",
       "      <td>-1</td>\n",
       "    </tr>\n",
       "    <tr>\n",
       "      <th>72</th>\n",
       "      <td>1964</td>\n",
       "      <td>3</td>\n",
       "      <td>1964.21</td>\n",
       "      <td>-99.99</td>\n",
       "      <td>320.73</td>\n",
       "      <td>319.55</td>\n",
       "      <td>-1</td>\n",
       "    </tr>\n",
       "    <tr>\n",
       "      <th>73</th>\n",
       "      <td>1964</td>\n",
       "      <td>4</td>\n",
       "      <td>1964.29</td>\n",
       "      <td>-99.99</td>\n",
       "      <td>321.77</td>\n",
       "      <td>319.48</td>\n",
       "      <td>-1</td>\n",
       "    </tr>\n",
       "    <tr>\n",
       "      <th>213</th>\n",
       "      <td>1975</td>\n",
       "      <td>12</td>\n",
       "      <td>1975.96</td>\n",
       "      <td>-99.99</td>\n",
       "      <td>330.59</td>\n",
       "      <td>331.60</td>\n",
       "      <td>0</td>\n",
       "    </tr>\n",
       "    <tr>\n",
       "      <th>313</th>\n",
       "      <td>1984</td>\n",
       "      <td>4</td>\n",
       "      <td>1984.29</td>\n",
       "      <td>-99.99</td>\n",
       "      <td>346.84</td>\n",
       "      <td>344.27</td>\n",
       "      <td>2</td>\n",
       "    </tr>\n",
       "  </tbody>\n",
       "</table>\n",
       "</div>"
      ],
      "text/plain": [
       "       Yr  Mo  DecDate    Avg     Int   Trend  days\n",
       "3    1958   6  1958.46 -99.99  317.10  314.85    -1\n",
       "7    1958  10  1958.79 -99.99  312.66  315.61    -1\n",
       "71   1964   2  1964.12 -99.99  320.07  319.61    -1\n",
       "72   1964   3  1964.21 -99.99  320.73  319.55    -1\n",
       "73   1964   4  1964.29 -99.99  321.77  319.48    -1\n",
       "213  1975  12  1975.96 -99.99  330.59  331.60     0\n",
       "313  1984   4  1984.29 -99.99  346.84  344.27     2"
      ]
     },
     "execution_count": 15,
     "metadata": {},
     "output_type": "execute_result"
    }
   ],
   "source": [
    "co2[co2[\"Avg\"] < 0]"
   ]
  },
  {
   "cell_type": "markdown",
   "metadata": {},
   "source": [
    "## How Do We Handle Missing Data? "
   ]
  },
  {
   "cell_type": "markdown",
   "metadata": {},
   "source": [
    "What do we do with these -99.99s? Do we drop those records? Do we replace -99.99 with NaN?  Or substitute it with a likely value for the average CO2?  What do you think are the pros and cons of each possible action?  Let's examine each of these three options.  We make two versions of the data, one that drops records and the other that replaces -99.99 with NaN."
   ]
  },
  {
   "cell_type": "code",
   "execution_count": 16,
   "metadata": {},
   "outputs": [],
   "source": [
    "# Dropped missing values\n",
    "co2_drop = co2[co2['Avg'] > 0]\n",
    "\n",
    "# Replaced with NaN\n",
    "co2_NA = co2.replace(-99.99, np.NaN)"
   ]
  },
  {
   "cell_type": "markdown",
   "metadata": {},
   "source": [
    "We'll also use a third version of the data.\n",
    "First, we note that the dataset already comes with a substitute value for the -99.99.  The `Int` feature has values that exactly match those in `Avg`, except when `Avg` is -99.99, and then a \"reasonable\" estimate is used instead.\n",
    "So, the third version of our data will use the `Int` feature instead of `Avg`.\n",
    "\n",
    "We'll discuss what we mean by reasonable in a moment. For now, let's zoom in on a short time period, say the measurements in 1958, where we know we have two missing values. Next, we'll create a time series plot for the three cases: drop the records with -99.99s (left plot); use NaN for missing value (middle plot); substitute an estimate for -99.99 (right plot). \n"
   ]
  },
  {
   "cell_type": "code",
   "execution_count": 22,
   "metadata": {},
   "outputs": [
    {
     "data": {
      "image/png": "[encoded data removed]",
      "text/plain": [
       "<Figure size 864x288 with 3 Axes>"
      ]
     },
     "metadata": {},
     "output_type": "display_data"
    }
   ],
   "source": [
    "def line_and_points(data, ax, y='Avg', title=\"Missing Dropped\"):\n",
    "    ax.plot('Mo', y, data=data)\n",
    "    ax.scatter('Mo', y, data=data)\n",
    "    ax.set_xlim(2, 13)\n",
    "    ax.set_title(title)\n",
    "    ax.set_xticks(np.arange(3, 13))\n",
    "\n",
    "fig, axes = plt.subplots(ncols = 3, figsize=(12, 4), sharey=True)\n",
    "\n",
    "line_and_points(co2_drop[:8], axes[0])\n",
    "line_and_points(co2_NA[:10], axes[1], title=\"Missing Set to NaN\")\n",
    "line_and_points(co2_NA[:10], axes[2], y='Int', title=\"Missing Interpolated\")\n",
    "\n",
    "plt.tight_layout()"
   ]
  },
  {
   "cell_type": "markdown",
   "metadata": {},
   "source": [
    "Can you see what's happening in each of these plots?  The leftmost plot\n",
    "connects dots over a two month time period, rather than one month.  In the\n",
    "middle, the line breaks where the data are missing, and on the right, we can\n",
    "see two monthly averages have been added. In the big picture since there are\n",
    "only seven values missing from the 738 months, any of these options works.\n",
    "However, there is some appeal to the right plot since the seasonal trends are\n",
    "more cleanly discernible.     \n",
    "\n",
    "The method used to interpolate the CO2 measurements for the missing values uses an averaging process that takes into consideration the month and year. The idea is to reflect both seasonal changes and the long term trend. This technique is described in greater detail in the documentation at the top of the data file.\n",
    "\n",
    "We determined earlier that each row of the data table represents a month. But the actual measurements from the research station happen more frequently. In fact, the GML website has datasets for daily and hourly measurements too. You might see some asymmetry in the granularity. We can go from hourly recordings to daily averages but not the other way around. The hourly data has a finer granularity than the daily data; reciprocally, the daily data has a coarser granularity than the hourly data. We use **aggregation** to go to a coarser granularity — in `pandas`, we would use `.groupby()` and `.agg()`. \n",
    "\n",
    "Why not always just use the data with the finest granularity available? On a computational level, very fine-grained data can become very large. The Mauna Loa Observatory started recording CO2 levels in 1958. Imagine how many rows the data table would contain if they took measurements every single second! But more importantly, you want the granularity of the data to match your research question. Suppose you want to see whether CO2 levels have risen over the past 50+ years, consistent with global warming predictions. You don’t need a CO2 measurement every second. In fact, you might well be content with yearly data where the seasonal patterns are smoothed away. We can aggregate the data, changing its granularity to annual average measurements, and make a plot to display the trend."
   ]
  },
  {
   "cell_type": "code",
   "execution_count": 108,
   "metadata": {},
   "outputs": [
    {
     "data": {
      "image/png": "[encoded data removed]",
      "text/plain": [
       "<Figure size 432x288 with 1 Axes>"
      ]
     },
     "metadata": {},
     "output_type": "display_data"
    }
   ],
   "source": [
    "co2_NA.groupby('Yr')['Avg'].mean().plot();"
   ]
  },
  {
   "cell_type": "markdown",
   "metadata": {},
   "source": [
    "Indeed, we see a rise by nearly 100 ppm of CO2 since Mauna Loa began recording in 1958."
   ]
  },
  {
   "cell_type": "markdown",
   "metadata": {},
   "source": [
    "## Takeaways\n",
    "\n",
    "We used the techniques of {numref}`Section %s <ch:wrangling_formats>` and {numref}`Section %s <ch:wrangling_command_line>` to read the whitespace-separated, plain-text file into a data frame. Then, we began to check its quality.  We used the scope and context of the data to affirm that its shape matched the range of dates of collection. We confirmed the values and counts for the month were as expected. We ascertained the extent of missing values in the features, and looked for connections between missing values and other features. We considered three approaches to handling the missing data: drop records, work with NaN values, and impute values to have a full table. And, finally, we changed the granularity of the data frame ({numref}`Section %s <ch:wrangling_granularity>`) by rolling it up from a monthly to an annual average. This change in granularity removed seasonal fluctuations and uncovered the long term trend in the level of CO2 in the atmosphere. The next three sections, expand on these quality checks, transformations, and adjustments to the shape of data tables - actions to wrangle the data into a form suitable for analysis."
   ]
  },
  {
   "cell_type": "code",
   "execution_count": null,
   "metadata": {},
   "outputs": [],
   "source": []
  }
 ],
 "metadata": {
  "celltoolbar": "Tags",
  "kernelspec": {
   "display_name": "Python 3",
   "language": "python",
   "name": "python3"
  },
  "language_info": {
   "codemirror_mode": {
    "name": "ipython",
    "version": 3
   },
   "file_extension": ".py",
   "mimetype": "text/x-python",
   "name": "python",
   "nbconvert_exporter": "python",
   "pygments_lexer": "ipython3",
   "version": "3.9.4"
  }
 },
 "nbformat": 4,
 "nbformat_minor": 4
}
