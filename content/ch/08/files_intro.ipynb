{
 "cells": [
  {
   "cell_type": "code",
   "execution_count": 1,
   "metadata": {
    "tags": [
     "remove-cell"
    ]
   },
   "outputs": [],
   "source": [
    "import sys\n",
    "import os\n",
    "if not any(path.endswith('textbook') for path in sys.path):\n",
    "    sys.path.append(os.path.abspath('../../..'))\n",
    "from textbook_utils import *"
   ]
  },
  {
   "cell_type": "markdown",
   "metadata": {},
   "source": [
    "(ch:files)=\n",
    "# Wrangling Files"
   ]
  },
  {
   "cell_type": "markdown",
   "metadata": {},
   "source": [
    "Before you can work with data in Python, it helps to understand the files that store the source of the data.\n",
    "You want answers to a couple of basic questions like:\n",
    "\n",
    "+ How much data do you have?\n",
    "+ How is the source file formatted?\n",
    "\n",
    "Answers to these questions can be very helpful. If your file is too large, you may need special approaches to read it in. If your file isn't formatted the way you expect, you may run into bad values after loading it into a dataframe."
   ]
  },
  {
   "cell_type": "markdown",
   "metadata": {},
   "source": [
    "Although there are many types of structures that can represent data, in this\n",
    "book we primarily work with data tables, such as Pandas DataFrames and SQL\n",
    "relations. (But do note that {numref}`Chapter %s <ch:text>` examines\n",
    "less-structured text data, and {numref}`Chapter %s <ch:web>` works with\n",
    "hierarchical data structures). We focus on data tables for several reasons. First, research on how to store and manipulate data\n",
    "tables has resulted in stable and efficient\n",
    "tools for working with tables. Second, data in a tabular format are close\n",
    "cousins of matrices, the mathematical objects of the immensely rich field of\n",
    "linear algebra.\n",
    "Finally, data tables are very common."
   ]
  },
  {
   "cell_type": "markdown",
   "metadata": {},
   "source": [
    "In this chapter, we introduce typical file formats and encodings for plain text and describe measures of file size, and we use Python tools to examine source files. Later in the chapter, we introduce an alternative approach for working with files, the shell interpreter. Shell commands give us\n",
    "a programmatic way to get information about a file outside of the Python\n",
    "environment, and the shell can be very useful with big data. \n",
    "Finally, we'll check the data table's shape\n",
    "(the number of rows and columns) and granularity\n",
    "(what a row represents).\n",
    "These simple checks are the starting point for cleaning and analyzing your data. "
   ]
  },
  {
   "cell_type": "markdown",
   "metadata": {},
   "source": [
    "The first section provides brief descriptions of two datasets that we\n",
    "use as examples throughout this chapter."
   ]
  }
 ],
 "metadata": {
  "kernelspec": {
   "display_name": "Python 3",
   "language": "python",
   "name": "python3"
  },
  "language_info": {
   "codemirror_mode": {
    "name": "ipython",
    "version": 3
   },
   "file_extension": ".py",
   "mimetype": "text/x-python",
   "name": "python",
   "nbconvert_exporter": "python",
   "pygments_lexer": "ipython3",
   "version": "3.9.4"
  }
 },
 "nbformat": 4,
 "nbformat_minor": 4
}
