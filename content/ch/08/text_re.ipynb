{
 "cells": [
  {
   "cell_type": "code",
   "execution_count": null,
   "metadata": {
    "tags": [
     "hide_input"
    ]
   },
   "outputs": [],
   "source": [
    "# HIDDEN\n",
    "import warnings\n",
    "# Ignore numpy dtype warnings. These warnings are caused by an interaction\n",
    "# between numpy and Cython and can be safely ignored.\n",
    "# Reference: https://stackoverflow.com/a/40846742\n",
    "warnings.filterwarnings(\"ignore\", message=\"numpy.dtype size changed\")\n",
    "warnings.filterwarnings(\"ignore\", message=\"numpy.ufunc size changed\")\n",
    "\n",
    "import numpy as np\n",
    "import matplotlib.pyplot as plt\n",
    "import pandas as pd\n",
    "import seaborn as sns\n",
    "%matplotlib inline\n",
    "import ipywidgets as widgets\n",
    "from ipywidgets import interact, interactive, fixed, interact_manual\n",
    "import nbinteract as nbi\n",
    "\n",
    "sns.set()\n",
    "sns.set_context('talk')\n",
    "np.set_printoptions(threshold=20, precision=2, suppress=True)\n",
    "pd.options.display.max_rows = 7\n",
    "pd.options.display.max_columns = 8\n",
    "pd.set_option('precision', 2)\n",
    "# This option stops scientific notation for pandas\n",
    "# pd.set_option('display.float_format', '{:.2f}'.format)"
   ]
  },
  {
   "cell_type": "markdown",
   "metadata": {
    "colab_type": "text",
    "id": "lLVVSGne3AIY"
   },
   "source": [
    "## Regex and Python\n",
    "\n",
    "In this section, we introduce regex usage in Python using the built-in `re` module. Since we only cover a few of the most commonly used methods, you will find it useful to consult [the official documentation on the `re` module](https://docs.python.org/3/library/re.html) as well."
   ]
  },
  {
   "cell_type": "markdown",
   "metadata": {
    "colab_type": "text",
    "id": "DAP-lNNw3AKV"
   },
   "source": [
    "## `re.search`\n",
    "\n",
    "`re.search(pattern, string)` searches for a match of the regex `pattern` anywhere in `string`. It returns a truthy match object if the pattern is found; it returns `None` if not."
   ]
  },
  {
   "cell_type": "code",
   "execution_count": 3,
   "metadata": {
    "colab": {
     "autoexec": {
      "startup": false,
      "wait_interval": 0
     },
     "base_uri": "https://localhost:8080/",
     "height": 34
    },
    "colab_type": "code",
    "executionInfo": {
     "elapsed": 173,
     "status": "ok",
     "timestamp": 1524679529737,
     "user": {
      "displayName": "Andrew Kim",
      "photoUrl": "https://lh3.googleusercontent.com/a/default-user=s128",
      "userId": "109388192039284916411"
     },
     "user_tz": 420
    },
    "id": "qJiQBdCn3AKW",
    "outputId": "04cd83f4-89a4-424b-cb35-472350c521eb"
   },
   "outputs": [
    {
     "data": {
      "text/plain": [
       "<_sre.SRE_Match object; span=(11, 23), match='382-384-3840'>"
      ]
     },
     "execution_count": 3,
     "metadata": {},
     "output_type": "execute_result"
    }
   ],
   "source": [
    "phone_re = r\"[0-9]{3}-[0-9]{3}-[0-9]{4}\"\n",
    "text  = \"Call me at 382-384-3840.\"\n",
    "match = re.search(phone_re, text)\n",
    "match"
   ]
  },
  {
   "cell_type": "markdown",
   "metadata": {
    "colab_type": "text",
    "id": "EAYn8-9R3AKa"
   },
   "source": [
    "Although the returned match object has a variety of useful properties, we most commonly use `re.search` to test whether a pattern appears in a string."
   ]
  },
  {
   "cell_type": "code",
   "execution_count": 4,
   "metadata": {
    "colab": {
     "autoexec": {
      "startup": false,
      "wait_interval": 0
     },
     "base_uri": "https://localhost:8080/",
     "height": 34
    },
    "colab_type": "code",
    "executionInfo": {
     "elapsed": 260,
     "status": "ok",
     "timestamp": 1524679531202,
     "user": {
      "displayName": "Andrew Kim",
      "photoUrl": "https://lh3.googleusercontent.com/a/default-user=s128",
      "userId": "109388192039284916411"
     },
     "user_tz": 420
    },
    "id": "d8c8iZIN3AKb",
    "outputId": "bc4e19ce-cc63-4df9-a2bd-baade1e153ee"
   },
   "outputs": [
    {
     "name": "stdout",
     "output_type": "stream",
     "text": [
      "Found a match!\n"
     ]
    }
   ],
   "source": [
    "if re.search(phone_re, text):\n",
    "    print(\"Found a match!\")"
   ]
  },
  {
   "cell_type": "code",
   "execution_count": 5,
   "metadata": {
    "colab": {
     "autoexec": {
      "startup": false,
      "wait_interval": 0
     },
     "base_uri": "https://localhost:8080/",
     "height": 34
    },
    "colab_type": "code",
    "executionInfo": {
     "elapsed": 260,
     "status": "ok",
     "timestamp": 1524679531202,
     "user": {
      "displayName": "Andrew Kim",
      "photoUrl": "https://lh3.googleusercontent.com/a/default-user=s128",
      "userId": "109388192039284916411"
     },
     "user_tz": 420
    },
    "id": "d8c8iZIN3AKb",
    "outputId": "bc4e19ce-cc63-4df9-a2bd-baade1e153ee"
   },
   "outputs": [],
   "source": [
    "if re.search(phone_re, 'Hello world'):\n",
    "    print(\"No match; this won't print\")"
   ]
  },
  {
   "cell_type": "markdown",
   "metadata": {},
   "source": [
    "Another commonly used method, `re.match(pattern, string)`, behaves the same as `re.search` but only checks for a match at the start of `string` instead of a match anywhere in the string."
   ]
  },
  {
   "cell_type": "markdown",
   "metadata": {
    "colab_type": "text",
    "id": "D0zFZUbj3AKk"
   },
   "source": [
    "## `re.findall`\n",
    "\n",
    "We use `re.findall(pattern, string)` to extract substrings that match a regex. This method returns a list of all matches of `pattern` in `string`."
   ]
  },
  {
   "cell_type": "code",
   "execution_count": 10,
   "metadata": {
    "colab": {
     "autoexec": {
      "startup": false,
      "wait_interval": 0
     },
     "base_uri": "https://localhost:8080/",
     "height": 34
    },
    "colab_type": "code",
    "executionInfo": {
     "elapsed": 266,
     "status": "ok",
     "timestamp": 1524679985817,
     "user": {
      "displayName": "Andrew Kim",
      "photoUrl": "https://lh3.googleusercontent.com/a/default-user=s128",
      "userId": "109388192039284916411"
     },
     "user_tz": 420
    },
    "id": "m2jrDDWP3AKk",
    "outputId": "88f841e3-7f72-4420-b7eb-4286ec531013"
   },
   "outputs": [
    {
     "data": {
      "text/plain": [
       "['email1@gmail.com', 'email3@gmail.com']"
      ]
     },
     "execution_count": 10,
     "metadata": {},
     "output_type": "execute_result"
    }
   ],
   "source": [
    "gmail_re = r'[a-zA-Z0-9]+@gmail\\.com'\n",
    "text = '''\n",
    "From: email1@gmail.com\n",
    "To: email2@yahoo.com and email3@gmail.com\n",
    "'''\n",
    "re.findall(gmail_re, text)"
   ]
  },
  {
   "cell_type": "markdown",
   "metadata": {},
   "source": [
    "## Regex Groups\n",
    "\n"
   ]
  },
  {
   "cell_type": "markdown",
   "metadata": {
    "colab_type": "text",
    "id": "RA0x5-Kw3AKn"
   },
   "source": [
    "Using **regex groups**, we specify subpatterns to extract from a regex by wrapping the subpattern in parentheses `( )`. When a regex contains regex groups, `re.findall` returns a list of tuples that contain the subpattern contents.\n",
    "\n",
    "For example, the following familiar regex extracts phone numbers from a string:"
   ]
  },
  {
   "cell_type": "code",
   "execution_count": 11,
   "metadata": {
    "colab": {
     "autoexec": {
      "startup": false,
      "wait_interval": 0
     },
     "base_uri": "https://localhost:8080/",
     "height": 34
    },
    "colab_type": "code",
    "executionInfo": {
     "elapsed": 173,
     "status": "ok",
     "timestamp": 1524679529737,
     "user": {
      "displayName": "Andrew Kim",
      "photoUrl": "https://lh3.googleusercontent.com/a/default-user=s128",
      "userId": "109388192039284916411"
     },
     "user_tz": 420
    },
    "id": "qJiQBdCn3AKW",
    "outputId": "04cd83f4-89a4-424b-cb35-472350c521eb"
   },
   "outputs": [
    {
     "data": {
      "text/plain": [
       "['382-384-3840', '123-456-7890']"
      ]
     },
     "execution_count": 11,
     "metadata": {},
     "output_type": "execute_result"
    }
   ],
   "source": [
    "phone_re = r\"[0-9]{3}-[0-9]{3}-[0-9]{4}\"\n",
    "text  = \"Sam's number is 382-384-3840 and Mary's is 123-456-7890.\"\n",
    "re.findall(phone_re, text)"
   ]
  },
  {
   "cell_type": "markdown",
   "metadata": {},
   "source": [
    "To split apart the individual three or four digit components of a phone number, we can wrap each digit group in parentheses."
   ]
  },
  {
   "cell_type": "code",
   "execution_count": 12,
   "metadata": {
    "colab": {
     "autoexec": {
      "startup": false,
      "wait_interval": 0
     },
     "base_uri": "https://localhost:8080/",
     "height": 34
    },
    "colab_type": "code",
    "executionInfo": {
     "elapsed": 173,
     "status": "ok",
     "timestamp": 1524679529737,
     "user": {
      "displayName": "Andrew Kim",
      "photoUrl": "https://lh3.googleusercontent.com/a/default-user=s128",
      "userId": "109388192039284916411"
     },
     "user_tz": 420
    },
    "id": "qJiQBdCn3AKW",
    "outputId": "04cd83f4-89a4-424b-cb35-472350c521eb"
   },
   "outputs": [
    {
     "data": {
      "text/plain": [
       "[('382', '384', '3840'), ('123', '456', '7890')]"
      ]
     },
     "execution_count": 12,
     "metadata": {},
     "output_type": "execute_result"
    }
   ],
   "source": [
    "# Same regex with parentheses around the digit groups\n",
    "phone_re = r\"([0-9]{3})-([0-9]{3})-([0-9]{4})\"\n",
    "text  = \"Sam's number is 382-384-3840 and Mary's is 123-456-7890.\"\n",
    "re.findall(phone_re, text)"
   ]
  },
  {
   "cell_type": "markdown",
   "metadata": {},
   "source": [
    "As promised, `re.findall` returns a list of tuples containing the individual components of the matched phone numbers."
   ]
  },
  {
   "cell_type": "markdown",
   "metadata": {
    "colab_type": "text",
    "id": "AMHaivXs3AKy"
   },
   "source": [
    "## `re.sub`\n",
    "\n",
    "`re.sub(pattern, replacement, string)` replaces all occurrences of `pattern` with `replacement` in the provided `string`. This method behaves like the Python string method `str.sub` but uses a regex to match patterns.\n",
    "\n",
    "In the code below, we alter the dates to have a common format by substituting the date separators with a dash."
   ]
  },
  {
   "cell_type": "code",
   "execution_count": 14,
   "metadata": {
    "colab": {
     "autoexec": {
      "startup": false,
      "wait_interval": 0
     },
     "base_uri": "https://localhost:8080/",
     "height": 34
    },
    "colab_type": "code",
    "executionInfo": {
     "elapsed": 298,
     "status": "ok",
     "timestamp": 1524679990485,
     "user": {
      "displayName": "Andrew Kim",
      "photoUrl": "https://lh3.googleusercontent.com/a/default-user=s128",
      "userId": "109388192039284916411"
     },
     "user_tz": 420
    },
    "id": "xrnb7JLb3AKz",
    "outputId": "9a01fb86-7585-4261-ed3b-954d27ff269e"
   },
   "outputs": [
    {
     "data": {
      "text/plain": [
       "'03-12-2018, 03-13-18, 03-14-2018, 03-15-2018'"
      ]
     },
     "execution_count": 14,
     "metadata": {},
     "output_type": "execute_result"
    }
   ],
   "source": [
    "messy_dates = '03/12/2018, 03.13.18, 03/14/2018, 03:15:2018'\n",
    "regex = r'[/.:]'\n",
    "re.sub(regex, '-', messy_dates)"
   ]
  },
  {
   "cell_type": "markdown",
   "metadata": {
    "colab_type": "text",
    "id": "AMHaivXs3AKy"
   },
   "source": [
    "## `re.split`\n",
    "\n",
    "`re.split(pattern, string)` splits the input `string` each time the regex `pattern` appears. This method behaves like the Python string method `str.split` but uses a regex to make the split.\n",
    "\n",
    "In the code below, we use `re.split` to split chapter names from their page numbers in a table of contents for a book."
   ]
  },
  {
   "cell_type": "code",
   "execution_count": 21,
   "metadata": {
    "colab": {
     "autoexec": {
      "startup": false,
      "wait_interval": 0
     },
     "base_uri": "https://localhost:8080/",
     "height": 34
    },
    "colab_type": "code",
    "executionInfo": {
     "elapsed": 298,
     "status": "ok",
     "timestamp": 1524679990485,
     "user": {
      "displayName": "Andrew Kim",
      "photoUrl": "https://lh3.googleusercontent.com/a/default-user=s128",
      "userId": "109388192039284916411"
     },
     "user_tz": 420
    },
    "id": "xrnb7JLb3AKz",
    "outputId": "9a01fb86-7585-4261-ed3b-954d27ff269e"
   },
   "outputs": [
    {
     "data": {
      "text/plain": [
       "['PLAYING PILGRIMS============3',\n",
       " 'A MERRY CHRISTMAS===========13',\n",
       " 'THE LAURENCE BOY============31',\n",
       " 'BURDENS=====================55',\n",
       " 'BEING NEIGHBORLY============76']"
      ]
     },
     "execution_count": 21,
     "metadata": {},
     "output_type": "execute_result"
    }
   ],
   "source": [
    "toc = '''\n",
    "PLAYING PILGRIMS============3\n",
    "A MERRY CHRISTMAS===========13\n",
    "THE LAURENCE BOY============31\n",
    "BURDENS=====================55\n",
    "BEING NEIGHBORLY============76\n",
    "'''.strip()\n",
    "\n",
    "# First, split into individual lines\n",
    "lines = re.split('\\n', toc)\n",
    "lines"
   ]
  },
  {
   "cell_type": "code",
   "execution_count": 22,
   "metadata": {
    "colab": {
     "autoexec": {
      "startup": false,
      "wait_interval": 0
     },
     "base_uri": "https://localhost:8080/",
     "height": 34
    },
    "colab_type": "code",
    "executionInfo": {
     "elapsed": 298,
     "status": "ok",
     "timestamp": 1524679990485,
     "user": {
      "displayName": "Andrew Kim",
      "photoUrl": "https://lh3.googleusercontent.com/a/default-user=s128",
      "userId": "109388192039284916411"
     },
     "user_tz": 420
    },
    "id": "xrnb7JLb3AKz",
    "outputId": "9a01fb86-7585-4261-ed3b-954d27ff269e"
   },
   "outputs": [
    {
     "data": {
      "text/plain": [
       "[['PLAYING PILGRIMS', '3'],\n",
       " ['A MERRY CHRISTMAS', '13'],\n",
       " ['THE LAURENCE BOY', '31'],\n",
       " ['BURDENS', '55'],\n",
       " ['BEING NEIGHBORLY', '76']]"
      ]
     },
     "execution_count": 22,
     "metadata": {},
     "output_type": "execute_result"
    }
   ],
   "source": [
    "# Then, split into chapter title and page number\n",
    "split_re = r'=+' # Matches any sequence of = characters\n",
    "[re.split(split_re, line) for line in lines]"
   ]
  },
  {
   "cell_type": "markdown",
   "metadata": {
    "colab": {
     "autoexec": {
      "startup": false,
      "wait_interval": 0
     }
    },
    "colab_type": "code",
    "id": "2OnSmXgCAltb"
   },
   "source": [
    "## Regex and pandas\n",
    "\n",
    "Recall that `pandas` Series objects have a `.str` property that supports string manipulation using Python string methods. Conveniently, the `.str` property also supports some functions from the `re` module. We demonstrate basic regex usage in `pandas`, leaving the complete method list to [the `pandas` documentation on string methods](https://pandas.pydata.org/pandas-docs/stable/text.html).\n",
    "\n",
    "We've stored the text of the first five sentences of the novel *Little Women* in the DataFrame below. We can use the string methods that `pandas` provides to extract the spoken dialog in each sentence."
   ]
  },
  {
   "cell_type": "code",
   "execution_count": 25,
   "metadata": {
    "tags": [
     "hide_input"
    ]
   },
   "outputs": [],
   "source": [
    "# HIDDEN\n",
    "text = '''\n",
    "\"Christmas won't be Christmas without any presents,\" grumbled Jo, lying on the rug.\n",
    "\"It's so dreadful to be poor!\" sighed Meg, looking down at her old dress.\n",
    "\"I don't think it's fair for some girls to have plenty of pretty things, and other girls nothing at all,\" added little Amy, with an injured sniff.\n",
    "\"We've got Father and Mother, and each other,\" said Beth contentedly from her corner.\n",
    "The four young faces on which the firelight shone brightened at the cheerful words, but darkened again as Jo said sadly, \"We haven't got Father, and shall not have him for a long time.\"\n",
    "'''.strip()\n",
    "little = pd.DataFrame({\n",
    "    'sentences': text.split('\\n')\n",
    "})"
   ]
  },
  {
   "cell_type": "code",
   "execution_count": 26,
   "metadata": {},
   "outputs": [
    {
     "data": {
      "text/html": [
       "<div>\n",
       "<style scoped>\n",
       "    .dataframe tbody tr th:only-of-type {\n",
       "        vertical-align: middle;\n",
       "    }\n",
       "\n",
       "    .dataframe tbody tr th {\n",
       "        vertical-align: top;\n",
       "    }\n",
       "\n",
       "    .dataframe thead th {\n",
       "        text-align: right;\n",
       "    }\n",
       "</style>\n",
       "<table border=\"1\" class=\"dataframe\">\n",
       "  <thead>\n",
       "    <tr style=\"text-align: right;\">\n",
       "      <th></th>\n",
       "      <th>sentences</th>\n",
       "    </tr>\n",
       "  </thead>\n",
       "  <tbody>\n",
       "    <tr>\n",
       "      <th>0</th>\n",
       "      <td>\"Christmas won't be Christmas without any pres...</td>\n",
       "    </tr>\n",
       "    <tr>\n",
       "      <th>1</th>\n",
       "      <td>\"It's so dreadful to be poor!\" sighed Meg, loo...</td>\n",
       "    </tr>\n",
       "    <tr>\n",
       "      <th>2</th>\n",
       "      <td>\"I don't think it's fair for some girls to hav...</td>\n",
       "    </tr>\n",
       "    <tr>\n",
       "      <th>3</th>\n",
       "      <td>\"We've got Father and Mother, and each other,\"...</td>\n",
       "    </tr>\n",
       "    <tr>\n",
       "      <th>4</th>\n",
       "      <td>The four young faces on which the firelight sh...</td>\n",
       "    </tr>\n",
       "  </tbody>\n",
       "</table>\n",
       "</div>"
      ],
      "text/plain": [
       "                                           sentences\n",
       "0  \"Christmas won't be Christmas without any pres...\n",
       "1  \"It's so dreadful to be poor!\" sighed Meg, loo...\n",
       "2  \"I don't think it's fair for some girls to hav...\n",
       "3  \"We've got Father and Mother, and each other,\"...\n",
       "4  The four young faces on which the firelight sh..."
      ]
     },
     "execution_count": 26,
     "metadata": {},
     "output_type": "execute_result"
    }
   ],
   "source": [
    "little"
   ]
  },
  {
   "cell_type": "markdown",
   "metadata": {},
   "source": [
    "Since spoken dialog lies within double quotation marks, we create a regex that captures a double quotation mark, a sequence of any characters except a double quotation mark, and the closing quotation mark."
   ]
  },
  {
   "cell_type": "code",
   "execution_count": 32,
   "metadata": {},
   "outputs": [
    {
     "data": {
      "text/plain": [
       "0    [\"Christmas won't be Christmas without any pre...\n",
       "1                     [\"It's so dreadful to be poor!\"]\n",
       "2    [\"I don't think it's fair for some girls to ha...\n",
       "3     [\"We've got Father and Mother, and each other,\"]\n",
       "4    [\"We haven't got Father, and shall not have hi...\n",
       "Name: sentences, dtype: object"
      ]
     },
     "execution_count": 32,
     "metadata": {},
     "output_type": "execute_result"
    }
   ],
   "source": [
    "quote_re = r'\"[^\"]+\"'\n",
    "little['sentences'].str.findall(quote_re)"
   ]
  },
  {
   "cell_type": "markdown",
   "metadata": {},
   "source": [
    "Since the `Series.str.findall` method returns a list of matches, `pandas` also provides `Series.str.extract` and `Series.str.extractall` method to extract matches into a Series or DataFrame. These methods require the regex to contain at least one regex group."
   ]
  },
  {
   "cell_type": "code",
   "execution_count": 36,
   "metadata": {},
   "outputs": [
    {
     "data": {
      "text/plain": [
       "0    Christmas won't be Christmas without any prese...\n",
       "1                         It's so dreadful to be poor!\n",
       "2    I don't think it's fair for some girls to have...\n",
       "3         We've got Father and Mother, and each other,\n",
       "4    We haven't got Father, and shall not have him ...\n",
       "Name: sentences, dtype: object"
      ]
     },
     "execution_count": 36,
     "metadata": {},
     "output_type": "execute_result"
    }
   ],
   "source": [
    "# Extract text within double quotes\n",
    "quote_re = r'\"([^\"]+)\"'\n",
    "spoken = little['sentences'].str.extract(quote_re)\n",
    "spoken"
   ]
  },
  {
   "cell_type": "markdown",
   "metadata": {},
   "source": [
    "We can add this series as a column of the `little` DataFrame:"
   ]
  },
  {
   "cell_type": "code",
   "execution_count": 38,
   "metadata": {},
   "outputs": [
    {
     "data": {
      "text/html": [
       "<div>\n",
       "<style scoped>\n",
       "    .dataframe tbody tr th:only-of-type {\n",
       "        vertical-align: middle;\n",
       "    }\n",
       "\n",
       "    .dataframe tbody tr th {\n",
       "        vertical-align: top;\n",
       "    }\n",
       "\n",
       "    .dataframe thead th {\n",
       "        text-align: right;\n",
       "    }\n",
       "</style>\n",
       "<table border=\"1\" class=\"dataframe\">\n",
       "  <thead>\n",
       "    <tr style=\"text-align: right;\">\n",
       "      <th></th>\n",
       "      <th>sentences</th>\n",
       "      <th>dialog</th>\n",
       "    </tr>\n",
       "  </thead>\n",
       "  <tbody>\n",
       "    <tr>\n",
       "      <th>0</th>\n",
       "      <td>\"Christmas won't be Christmas without any pres...</td>\n",
       "      <td>Christmas won't be Christmas without any prese...</td>\n",
       "    </tr>\n",
       "    <tr>\n",
       "      <th>1</th>\n",
       "      <td>\"It's so dreadful to be poor!\" sighed Meg, loo...</td>\n",
       "      <td>It's so dreadful to be poor!</td>\n",
       "    </tr>\n",
       "    <tr>\n",
       "      <th>2</th>\n",
       "      <td>\"I don't think it's fair for some girls to hav...</td>\n",
       "      <td>I don't think it's fair for some girls to have...</td>\n",
       "    </tr>\n",
       "    <tr>\n",
       "      <th>3</th>\n",
       "      <td>\"We've got Father and Mother, and each other,\"...</td>\n",
       "      <td>We've got Father and Mother, and each other,</td>\n",
       "    </tr>\n",
       "    <tr>\n",
       "      <th>4</th>\n",
       "      <td>The four young faces on which the firelight sh...</td>\n",
       "      <td>We haven't got Father, and shall not have him ...</td>\n",
       "    </tr>\n",
       "  </tbody>\n",
       "</table>\n",
       "</div>"
      ],
      "text/plain": [
       "                                           sentences  \\\n",
       "0  \"Christmas won't be Christmas without any pres...   \n",
       "1  \"It's so dreadful to be poor!\" sighed Meg, loo...   \n",
       "2  \"I don't think it's fair for some girls to hav...   \n",
       "3  \"We've got Father and Mother, and each other,\"...   \n",
       "4  The four young faces on which the firelight sh...   \n",
       "\n",
       "                                              dialog  \n",
       "0  Christmas won't be Christmas without any prese...  \n",
       "1                       It's so dreadful to be poor!  \n",
       "2  I don't think it's fair for some girls to have...  \n",
       "3       We've got Father and Mother, and each other,  \n",
       "4  We haven't got Father, and shall not have him ...  "
      ]
     },
     "execution_count": 38,
     "metadata": {},
     "output_type": "execute_result"
    }
   ],
   "source": [
    "little['dialog'] = spoken\n",
    "little"
   ]
  },
  {
   "cell_type": "markdown",
   "metadata": {},
   "source": [
    "We can confirm that our string manipulation behaves as expected for the last sentence in our DataFrame by printing the original and extracted text:"
   ]
  },
  {
   "cell_type": "code",
   "execution_count": 40,
   "metadata": {},
   "outputs": [
    {
     "name": "stdout",
     "output_type": "stream",
     "text": [
      "The four young faces on which the firelight shone brightened at the cheerful words, but darkened again as Jo said sadly, \"We haven't got Father, and shall not have him for a long time.\"\n"
     ]
    }
   ],
   "source": [
    "print(little.loc[4, 'sentences'])"
   ]
  },
  {
   "cell_type": "code",
   "execution_count": 41,
   "metadata": {},
   "outputs": [
    {
     "name": "stdout",
     "output_type": "stream",
     "text": [
      "We haven't got Father, and shall not have him for a long time.\n"
     ]
    }
   ],
   "source": [
    "print(little.loc[4, 'dialog'])"
   ]
  },
  {
   "cell_type": "markdown",
   "metadata": {},
   "source": [
    "## Summary\n",
    "\n",
    "The `re` module in Python provides a useful group of methods for manipulating text using regular expressions. When working with DataFrames, we often use the analogous string manipulation methods implemented in `pandas`.\n",
    "\n",
    "For the complete documentation on the `re` module, see https://docs.python.org/3/library/re.html\n",
    "\n",
    "For the complete documentation on `pandas` string methods, see https://pandas.pydata.org/pandas-docs/stable/text.html\n"
   ]
  }
 ],
 "metadata": {
  "colab": {
   "collapsed_sections": [
    "RTJu-FQY3AIp",
    "TrPjIHHD8rOC"
   ],
   "default_view": {},
   "name": "working_with_text.ipynb",
   "provenance": [],
   "version": "0.3.2",
   "views": {}
  },
  "kernelspec": {
   "display_name": "Python 3",
   "language": "python",
   "name": "python3"
  },
  "language_info": {
   "codemirror_mode": {
    "name": "ipython",
    "version": 3
   },
   "file_extension": ".py",
   "mimetype": "text/x-python",
   "name": "python",
   "nbconvert_exporter": "python",
   "pygments_lexer": "ipython3",
   "version": "3.6.3"
  },
  "toc": {
   "nav_menu": {},
   "number_sections": false,
   "sideBar": false,
   "skip_h1_title": false,
   "title_cell": "Table of Contents",
   "title_sidebar": "Contents",
   "toc_cell": true,
   "toc_position": {},
   "toc_section_display": true,
   "toc_window_display": false
  }
 },
 "nbformat": 4,
 "nbformat_minor": 1
}
