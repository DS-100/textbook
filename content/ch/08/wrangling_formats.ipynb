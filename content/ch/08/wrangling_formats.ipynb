{
 "cells": [
  {
   "cell_type": "code",
   "execution_count": 1,
   "metadata": {
    "tags": [
     "remove-cell"
    ]
   },
   "outputs": [],
   "source": [
    "# Reference: https://jupyterbook.org/interactive/hiding.html\n",
    "# Use {hide, remove}-{input, output, cell} tags to hiding content\n",
    "\n",
    "import numpy as np\n",
    "import matplotlib.pyplot as plt\n",
    "import pandas as pd\n",
    "import seaborn as sns\n",
    "%matplotlib inline\n",
    "import ipywidgets as widgets\n",
    "from ipywidgets import interact, interactive, fixed, interact_manual\n",
    "from IPython.display import display\n",
    "import myst_nb\n",
    "\n",
    "sns.set()\n",
    "sns.set_context('talk')\n",
    "np.set_printoptions(threshold=20, precision=2, suppress=True)\n",
    "pd.set_option('display.max_rows', 7)\n",
    "pd.set_option('display.max_columns', 8)\n",
    "pd.set_option('precision', 2)\n",
    "# This option stops scientific notation for pandas\n",
    "# pd.set_option('display.float_format', '{:.2f}'.format)\n",
    "\n",
    "def display_df(df, rows=pd.options.display.max_rows,\n",
    "               cols=pd.options.display.max_columns):\n",
    "    with pd.option_context('display.max_rows', rows,\n",
    "                           'display.max_columns', cols):\n",
    "        display(df)"
   ]
  },
  {
   "cell_type": "markdown",
   "metadata": {},
   "source": [
    "(ch:wrangling_formats)=\n",
    "# File Formats\n",
    "\n",
    "The data from the Mauna Loa Observatory, the DAWN survey, and the San Francisco\n",
    "restaurant inspections are all made available online as plain text files. In\n",
    "order to explore these data, we first need to get them into a `pandas`\n",
    "dataframe. To do this, we need to know the file format.  For example, a\n",
    "comma-separated-value formatted (CSV) file contains plain text where the data\n",
    "values are separated using commas, and records are delimited by newlines\n",
    "(`\"\\n\"` or `\"\\r\\n\"` characters).  CSV files are a natural format for storing\n",
    "data with a table structure; each line in the source file corresponds to a row\n",
    "in the table, and the column/feature information in a line is separated by\n",
    "commas.  Once we identify the file format, we know how to read it into Python\n",
    "as a dataframe. Other factors that we need to know about are the file encoding\n",
    "and size. If we don't specify the encoding correctly, the values might contain\n",
    "gibberish, and if the file is huge, we might not be able to read it into a data\n",
    "frame. We give an overview of file format and encoding in this section, and in\n",
    "{numref}`Section %s <ch:wrangling_command_line>`, we demonstrate how to use\n",
    "shell commands to find this information for a source file.\n"
   ]
  },
  {
   "cell_type": "markdown",
   "metadata": {},
   "source": [
    "A dataset’s file format describes how the data are stored. This is in contrast\n",
    "to the data's structure, which is the mental representation of our data.  This\n",
    "mental model for the structure helps us work with the data. For example, a\n",
    "table representation corresponds to data values arranged in rows and columns,\n",
    "and when we work with these data we think about transforming columns,\n",
    "aggregating rows, and cleaning values. On the other hand, understanding how the\n",
    "data table is stored on the computer (the data source) helps us figure out how\n",
    "to read the data into Python and work with it as a dataframe. In this section,\n",
    "we introduce several popular formats used to store data tables as plain text."
   ]
  },
  {
   "cell_type": "markdown",
   "metadata": {},
   "source": [
    "**Delimited format.** These formats use a particular character to separate\n",
    "values in a line. Typically the separators are: a comma (Comma-Separated-Values\n",
    "or CSV for short), a tab (Tab-Separated Values or TSV), white-space, or colon.\n",
    "These formats are natural for storing data with table structure. In these\n",
    "files, each row represents a record; data values are delimited by a comma\n",
    "character (`,`) for CSV or a tab character (`\\t`) for TSV. The first line of\n",
    "these files often contains the names of the data’s columns/features."
   ]
  },
  {
   "cell_type": "markdown",
   "metadata": {},
   "source": [
    "For example, the San Francisco restaurant scores are stored in CSV-formatted\n",
    "files. Here are the first few lines of the `inspections.csv` file."
   ]
  },
  {
   "cell_type": "markdown",
   "metadata": {},
   "source": [
    "```\n",
    "\"business_id\",\"score\",\"date\",\"type\"\n",
    "19,\"94\",\"20160513\",\"routine\"\n",
    "19,\"94\",\"20171211\",\"routine\"\n",
    "24,\"98\",\"20171101\",\"routine\"\n",
    "24,\"98\",\"20161005\",\"routine\"\n",
    "24,\"96\",\"20160311\",\"routine\"\n",
    "31,\"98\",\"20151204\",\"routine\"\n",
    "45,\"78\",\"20160104\",\"routine\"\n",
    "45,\"88\",\"20170307\",\"routine\"\n",
    "45,\"85\",\"20170914\",\"routine\"\n",
    "```"
   ]
  },
  {
   "cell_type": "markdown",
   "metadata": {},
   "source": [
    "Notice that the field names appear in the first line, comma-separated and in\n",
    "quotations. We see there are four fields, the business identifier, the\n",
    "restaurant's score, the date of the inspection, and the type of inspection.\n",
    "Each line in the file corresponds to one inspection, and the ID, score, date\n",
    "and type values are separated by commas. In addition to identifying the file\n",
    "format, we also want to identify the format of the values. We see two things of\n",
    "note: the scores and dates both appear as strings. We will want to convert the\n",
    "score values to numbers so we can calculate summary statistics and create a\n",
    "histogram of scores. And, we will need to convert the date into a date-time\n",
    "format so that we can make time series plots. We show how to carry out these\n",
    "transformations in {numref}`Section %s <ch:wrangling_transformations>`.\n"
   ]
  },
  {
   "cell_type": "markdown",
   "metadata": {},
   "source": [
    "**Fixed-width Format.** This format does not use delimiters to separate values.\n",
    "Instead, the values for a field appear in the exact same position in each line.\n",
    "The DAWN data follow this format. Below are four partial lines from the DAWN\n",
    "survey data. Notice how the values appear to line up from one row to the next.\n",
    "Notice also that they seem to be squished together. You need to know the exact\n",
    "format of the file to make sense of it. SAMHDA provides a 2,000-page codebook\n",
    "with all of the information needed to read the file. In the codebook we find\n",
    "that the age field appears in positions 34-35 and is coded in intervals from 1\n",
    "to 11. The four records below have age categories of 4, 11, 11, and 2, and they\n",
    "stand for 18 to 20, 65+, 65+, and 6 to 11, respectively.\n",
    "\n"
   ]
  },
  {
   "cell_type": "markdown",
   "metadata": {},
   "source": [
    "```\n",
    "     1 2251082    .9426354082   3 4 1 2201141 2 865 105 1102005 1 2 1 2.00-7.00-7.0000-7.0000...\n",
    "     2 2291292   5.9920106887   911 1 3201134 12077  81  82 283-8 21767.0067.0167.0140-7.0000...\n",
    "     3 7 7 251   4.7231718669   611 2 2201143 12313   1  12  -7-8 21764.0064.99-7.0000-7.0000...\n",
    "     410 8 292   4.0801470012   6 2 1 3201122 1 234 358  99 215 2 21773.0073.0173.0106-7.0000...\n",
    "```"
   ]
  },
  {
   "cell_type": "markdown",
   "metadata": {},
   "source": [
    ":::{note}\n",
    "\n",
    "**Note**: The widely adopted convention is to use the file extension, such as\n",
    "`.csv`, `.tsv`, and `.txt`, to indicate the format of the contents of the file.\n",
    "File names that end with `.csv` are expected to contain comma-separated values,\n",
    "`.tsv` tab-separated values, and `.txt` generally is plain text. However, these\n",
    "extension names are only suggestions. Even if a file has a `.csv` extension,\n",
    "the actual data it holds might not be formatted properly! It's good practice to\n",
    "check the contents of the file either with shell commands ({numref}`Section %s\n",
    "<wrangling_command_line>`) or, if the file is not too large, open and inspect\n",
    "it with a plain text editor.\n",
    "\n",
    ":::"
   ]
  },
  {
   "cell_type": "markdown",
   "metadata": {},
   "source": [
    "Other plain text formats that are widely used include hierarchical formats and\n",
    "loosely structured formats. These are covered in greater detail in other\n",
    "chapters, but for completeness we briefly describe them here.\n",
    "\n",
    "A dataset’s **structure** is a mental representation of the data. For example,\n",
    "we represent data that has a **table** structure by considering data values\n",
    "arranged in rows and columns. In contrast, we can imagine\n",
    "a **hierarchical** structure as a family tree that allows a data value to\n",
    "contain other values.\n"
   ]
  },
  {
   "cell_type": "markdown",
   "metadata": {},
   "source": [
    "**Hierarchical Format.** JavaScript Object Format (JSON) is a common format\n",
    "used for communication by web servers. JSON files have a hierarchical structure\n",
    "with keys and values similar to a Python dictionary. Each record in a JSON file\n",
    "can have different fields and records can contain tables, making for a\n",
    "potentially complicated structure.\n",
    "\n",
    "The eXtensible Markup Language (XML) and HyperText Markup Language (HTML) are\n",
    "common formats for storing documents on the Internet. Like JSON, these files\n",
    "also contain data in a hierarchical, key-value format. We cover this format in\n",
    "more detail in {numref}`Chapter %s <ch:web>`."
   ]
  },
  {
   "cell_type": "markdown",
   "metadata": {},
   "source": [
    "**Loosely Structured Formats.** Web logs, instrument readings, and program logs\n",
    "typically provide data in plain text.  For example, below is one line of a Web\n",
    "log (we've split it across multiple lines for readability). It contains\n",
    "information such as the date and time and type of request made to the site.\n",
    "\n",
    "```\n",
    "169.237.46.168 - -\n",
    "[26/Jan/2004:10:47:58 -0800]\"GET /stat141/Winter04 HTTP/1.1\" 301 328\n",
    "\"http://anson.ucdavis.edu/courses\"\n",
    "\"Mozilla/4.0 (compatible; MSIE 6.0; Windows NT 5.0; .NET CLR 1.1.4322)\"\n",
    "```\n",
    "\n",
    "There is structure present, but not a simple delimited file\n",
    "format.  We see that the date and time appear between square brackets and the\n",
    "type of request (GET in this case) follows the date-time information and\n",
    "appears in quotes. Later in {numref}`Chapter %s <ch:text>`, we will use these\n",
    "observations about the structure and string manipulation tools to extract the\n",
    "values of interest into a data table."
   ]
  },
  {
   "cell_type": "markdown",
   "metadata": {},
   "source": [
    "As another example, below is a single recording of measurements taken with a\n",
    "wireless device. The device reports the timestamp, identifier, location of the\n",
    "device, and the signal strengths that it picks up from other devices. This\n",
    "information appears to use a combination of formats: key=value pairs,\n",
    "semicolon delimited, and comma delimited values. \n",
    "\n",
    "```\n",
    "t=1139644637174;id=00:02:2D:21:0F:33;pos=2.0,0.0,0.0;degree=45.5;\n",
    "00:14:bf:b1:97:8a=-33,2437000000,3;00:14:bf:b1:97:8a=-38,2437000000,3;\n",
    "```"
   ]
  },
  {
   "cell_type": "markdown",
   "metadata": {},
   "source": [
    "All of this is to show: there are many types of file formats that store data!\n",
    "To keep the chapter manageable, we'll focus on data tables---all of the\n",
    "examples in this chapter have a table structure."
   ]
  },
  {
   "cell_type": "markdown",
   "metadata": {},
   "source": [
    "## Summary\n",
    "\n",
    "In this section, we have introduced the tabular structure representation for\n",
    "data that we use throughout much of the rest of the book. We have introduced\n",
    "examples of formats for plain text data for storing and exchanging tables. The\n",
    "comma-separated-value format is the most common, but others such as\n",
    "tab-separated and fixed-width are also widely used.  Behind the scenes, we have\n",
    "used command line tools to display the contents of the files presented in this\n",
    "section. The next section introduces these tools more formally, including\n",
    "describing the format of the language providing more examples of these tools.\n"
   ]
  }
 ],
 "metadata": {
  "celltoolbar": "Tags",
  "kernelspec": {
   "display_name": "Python 3",
   "language": "python",
   "name": "python3"
  },
  "language_info": {
   "codemirror_mode": {
    "name": "ipython",
    "version": 3
   },
   "file_extension": ".py",
   "mimetype": "text/x-python",
   "name": "python",
   "nbconvert_exporter": "python",
   "pygments_lexer": "ipython3",
   "version": "3.7.3"
  }
 },
 "nbformat": 4,
 "nbformat_minor": 4
}
