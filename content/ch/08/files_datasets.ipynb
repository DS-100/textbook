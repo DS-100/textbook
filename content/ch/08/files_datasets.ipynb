{
 "cells": [
  {
   "cell_type": "code",
   "execution_count": 1,
   "metadata": {
    "tags": [
     "remove-cell"
    ]
   },
   "outputs": [],
   "source": [
    "import sys\n",
    "import os\n",
    "if not any(path.endswith('textbook') for path in sys.path):\n",
    "    sys.path.append(os.path.abspath('../../..'))\n",
    "from textbook_utils import *"
   ]
  },
  {
   "cell_type": "markdown",
   "metadata": {},
   "source": [
    "(ch:files_datasets)=\n",
    "# Data Source Examples"
   ]
  },
  {
   "cell_type": "markdown",
   "metadata": {},
   "source": [
    "In this chapter, we use two datasets as examples: a government survey about\n",
    "drug abuse and administrative data from the City of San Francisco about\n",
    "restaurant inspections. In later sections, we demonstrate how taking stock of\n",
    "the format, encoding, and size of the files that contain the \"raw\" data can\n",
    "prevent problems with loading the source file into a data frame. Before we get started,\n",
    "we want to give an overview of these datasets and their scope ({numref}`Chapter %s <ch:data_scope>`)."
   ]
  },
  {
   "cell_type": "markdown",
   "metadata": {},
   "source": [
    "## Drug Abuse Warning Network (DAWN) Survey\n",
    "\n",
    "DAWN is a national healthcare survey that monitors trends in drug abuse and the\n",
    "emergence of new substances of abuse. The survey also aims to estimate the\n",
    "impact of drug abuse on the country's health care system and to improve how\n",
    "emergency departments monitor substance-abuse crises. DAWN is administered by\n",
    "the U.S. Substance Abuse and Medical Health Services Administration (SAMHSA). DAWN was administered annually from\n",
    "1998 through 2011. Due in part to the opioid epidemic, the DAWN survey was restarted in\n",
    "2018. We examine the 2011 data that have been made available through the SAMHSA\n",
    "Data Archive [^SAMHSA].\n",
    "\n",
    "[^SAMHSA]: https://www.datafiles.samhsa.gov/study-series/drug-abuse-warning-network-dawn-nid13516"
   ]
  },
  {
   "cell_type": "markdown",
   "metadata": {},
   "source": [
    "The target population of the survey is all drug-related, emergency-room visits\n",
    "in the U.S. These visits are accessed through a frame of emergency rooms in\n",
    "hospitals (and their records). Hospitals are selected for the survey through\n",
    "probability sampling (covered in\n",
    "{numref}`Chapter %s <ch:theory_datadesign>`), and all\n",
    "drug-related visits to the sampled hospital's emergency room are included in\n",
    "the survey. All types of drug-related visits are included, such as drug misuse,\n",
    "abuse, accidental ingestion, suicide attempts, malicious poisonings, and\n",
    "adverse reactions.  For each visit, as many as 16 different drugs can be\n",
    "recorded, including illegal drugs, prescription drugs, and over-the-counter\n",
    "medications. \n",
    "\n",
    "The source file for this dataset is an example of fixed-width formatting that rquires a codebook to decipher. Also, it is a reasonably large file and so motivates the topic of how to find a file's size. And the granularity is unusual because an ER visit, not a person, is the subject of investigation and because of the complex survey design. \n",
    "\n",
    "The San Francisco restaurant files have other characteristics that make them a good example for this chapter."
   ]
  },
  {
   "cell_type": "markdown",
   "metadata": {},
   "source": [
    "## San Francisco Restaurant Food Safety\n",
    "\n",
    "The San Francisco Department of Public Health routinely makes unannounced\n",
    "visits to restaurants and inspects them for food safety.  The inspector\n",
    "calculates a score based on the violations observed and provides descriptions\n",
    "of the violations that were found. The target population here is all\n",
    "restaurants in the City of San Francisco. These restaurants are accessed\n",
    "through a frame of restaurant inspections that were conducted between 2013 and\n",
    "2016. Some restaurants have multiple inspections in a year, and not all of the\n",
    "7000+ restaurants are inspected annually.\n",
    "\n",
    "Food safety scores are available through the city's Open Data initiative,\n",
    "called DataSF. DataSF is one example of city governments around the world\n",
    "making their data publicly available; the DataSF mission is to \"empower the use\n",
    "of data in decision making and service delivery\" with the goal of improving the\n",
    "quality of life and work for residents, employers, employees and visitors [^DATASF].\n",
    "\n",
    "The City of San Francisco requires restaurants to publicly display their scores\n",
    "(see {numref}`Figure %s <scoreCard>` below for an example placard) [^CARDS]. These data offer an example of multiple files with different structures, fields, and granularity. One dataset contains summary results of inspections, another\n",
    "provides details about violations found during an inspection, and a third\n",
    "contains information about the restaurants. The violations include both serious\n",
    "problems related to the transmission of food borne illnesses and minor issues such as not properly displaying the\n",
    "inspection placard.  \n",
    "\n",
    "[^DATASF]: https://data.sfgov.org/Health-and-Social-Services/Restaurant-Scores-LIVES-Standard/pyih-qa8i/data\n",
    "\n",
    "[^CARDS]: In 2020, the city began giving restaurants color-coded placards indicating whether the restaurant passed (green), conditionally passed (yellow), or failed (red) the inspection. These new placards no longer display a numeric inspection score. However, a restaurant's scores and violations are still available at DataSF."
   ]
  },
  {
   "cell_type": "markdown",
   "metadata": {},
   "source": [
    "```{figure} figures/scoreCard.jpg\n",
    "---\n",
    "name: scoreCard\n",
    "scale: 50%\n",
    "---\n",
    "\n",
    "A food safety scorecard displayed in restaurant. \n",
    "Scores range between 0 and 100.\n",
    "```"
   ]
  },
  {
   "cell_type": "markdown",
   "metadata": {},
   "source": [
    "Both the DAWN survey data and the San Francisco restaurant inspection data are available online as plain text files. However, their formats are different, and in the next section, we demonstrate how to figure out a file format so that we can read the data into a data frame."
   ]
  },
  {
   "cell_type": "code",
   "execution_count": null,
   "metadata": {},
   "outputs": [],
   "source": []
  }
 ],
 "metadata": {
  "celltoolbar": "Tags",
  "kernelspec": {
   "display_name": "Python 3",
   "language": "python",
   "name": "python3"
  },
  "language_info": {
   "codemirror_mode": {
    "name": "ipython",
    "version": 3
   },
   "file_extension": ".py",
   "mimetype": "text/x-python",
   "name": "python",
   "nbconvert_exporter": "python",
   "pygments_lexer": "ipython3",
   "version": "3.9.4"
  }
 },
 "nbformat": 4,
 "nbformat_minor": 4
}
