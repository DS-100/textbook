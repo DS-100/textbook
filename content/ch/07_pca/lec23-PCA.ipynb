{
 "cells": [
  {
   "cell_type": "markdown",
   "metadata": {},
   "source": [
    "# Lec 23: PCA\n",
    "\n",
    "**by Josh Hug (Fall 2019)**"
   ]
  },
  {
   "cell_type": "code",
   "execution_count": 1,
   "metadata": {},
   "outputs": [],
   "source": [
    "import pandas as pd\n",
    "import seaborn as sns\n",
    "import matplotlib.pyplot as plt\n",
    "import numpy as np\n",
    "np.random.seed(23) #kallisti\n",
    "\n",
    "plt.rcParams['figure.figsize'] = (4, 4)\n",
    "plt.rcParams['figure.dpi'] = 150\n",
    "sns.set()"
   ]
  },
  {
   "cell_type": "code",
   "execution_count": 2,
   "metadata": {},
   "outputs": [],
   "source": [
    "def compute_rank_k_approximation(data, k):\n",
    "    u, s, vt = np.linalg.svd(data, full_matrices = False)\n",
    "    return pd.DataFrame(u[:, 0:k] @ np.diag(s[0:k]) @ vt[0:k, :], columns = data.columns)"
   ]
  },
  {
   "cell_type": "markdown",
   "metadata": {},
   "source": [
    "## Rank 1 Approximation of 2D Data, Data Centering"
   ]
  },
  {
   "cell_type": "code",
   "execution_count": 3,
   "metadata": {},
   "outputs": [
    {
     "data": {
      "text/html": [
       "<div>\n",
       "<style scoped>\n",
       "    .dataframe tbody tr th:only-of-type {\n",
       "        vertical-align: middle;\n",
       "    }\n",
       "\n",
       "    .dataframe tbody tr th {\n",
       "        vertical-align: top;\n",
       "    }\n",
       "\n",
       "    .dataframe thead th {\n",
       "        text-align: right;\n",
       "    }\n",
       "</style>\n",
       "<table border=\"1\" class=\"dataframe\">\n",
       "  <thead>\n",
       "    <tr style=\"text-align: right;\">\n",
       "      <th></th>\n",
       "      <th>mortality</th>\n",
       "      <th>fertility</th>\n",
       "    </tr>\n",
       "    <tr>\n",
       "      <th>country</th>\n",
       "      <th></th>\n",
       "      <th></th>\n",
       "    </tr>\n",
       "  </thead>\n",
       "  <tbody>\n",
       "    <tr>\n",
       "      <th>Afghanistan</th>\n",
       "      <td>6.820</td>\n",
       "      <td>4.48</td>\n",
       "    </tr>\n",
       "    <tr>\n",
       "      <th>Albania</th>\n",
       "      <td>1.330</td>\n",
       "      <td>1.71</td>\n",
       "    </tr>\n",
       "    <tr>\n",
       "      <th>Algeria</th>\n",
       "      <td>2.390</td>\n",
       "      <td>2.71</td>\n",
       "    </tr>\n",
       "    <tr>\n",
       "      <th>Angola</th>\n",
       "      <td>8.310</td>\n",
       "      <td>5.62</td>\n",
       "    </tr>\n",
       "    <tr>\n",
       "      <th>Antigua and Barbuda</th>\n",
       "      <td>0.816</td>\n",
       "      <td>2.04</td>\n",
       "    </tr>\n",
       "  </tbody>\n",
       "</table>\n",
       "</div>"
      ],
      "text/plain": [
       "                     mortality  fertility\n",
       "country                                  \n",
       "Afghanistan              6.820       4.48\n",
       "Albania                  1.330       1.71\n",
       "Algeria                  2.390       2.71\n",
       "Angola                   8.310       5.62\n",
       "Antigua and Barbuda      0.816       2.04"
      ]
     },
     "execution_count": 3,
     "metadata": {},
     "output_type": "execute_result"
    }
   ],
   "source": [
    "# Downloads from https://www.gapminder.org/data/\n",
    "cm_path = 'child_mortality_0_5_year_olds_dying_per_1000_born.csv'\n",
    "fe_path = 'children_per_woman_total_fertility.csv'\n",
    "cm = pd.read_csv(cm_path).set_index('country')['2017'].to_frame()/10\n",
    "fe = pd.read_csv(fe_path).set_index('country')['2017'].to_frame()\n",
    "child_data = cm.merge(fe, left_index=True, right_index=True).dropna()\n",
    "child_data.columns = ['mortality', 'fertility']\n",
    "child_data.head()"
   ]
  },
  {
   "cell_type": "code",
   "execution_count": 4,
   "metadata": {},
   "outputs": [
    {
     "data": {
      "image/png": "[encoded data removed]",
      "text/plain": [
       "<Figure size 432x288 with 1 Axes>"
      ]
     },
     "metadata": {
      "needs_background": "light"
     },
     "output_type": "display_data"
    }
   ],
   "source": [
    "def scatter14(data):\n",
    "    sns.scatterplot('mortality', 'fertility', data=data)\n",
    "    plt.xlim([0, 14])\n",
    "    plt.ylim([0, 14])\n",
    "    plt.xticks(np.arange(0, 14, 2))\n",
    "    plt.yticks(np.arange(0, 14, 2))    \n",
    "    \n",
    "scatter14(child_data)"
   ]
  },
  {
   "cell_type": "code",
   "execution_count": 5,
   "metadata": {},
   "outputs": [
    {
     "data": {
      "text/plain": [
       "<matplotlib.axes._subplots.AxesSubplot at 0x7fed0f8399d0>"
      ]
     },
     "execution_count": 5,
     "metadata": {},
     "output_type": "execute_result"
    },
    {
     "data": {
      "image/png": "[encoded data removed]",
      "text/plain": [
       "<Figure size 432x288 with 1 Axes>"
      ]
     },
     "metadata": {
      "needs_background": "light"
     },
     "output_type": "display_data"
    }
   ],
   "source": [
    "sns.scatterplot('mortality', 'fertility', data=child_data)"
   ]
  },
  {
   "cell_type": "code",
   "execution_count": 6,
   "metadata": {},
   "outputs": [],
   "source": [
    "u, s, vt = np.linalg.svd(child_data, full_matrices = False)"
   ]
  },
  {
   "cell_type": "code",
   "execution_count": 7,
   "metadata": {},
   "outputs": [],
   "source": [
    "child_data_reconstructed = pd.DataFrame(u @ np.diag(s) @ vt, columns = [\"mortality\", \"fertility\"], index=child_data.index)"
   ]
  },
  {
   "cell_type": "markdown",
   "metadata": {},
   "source": [
    "As we'd expect, the product of $U$, $\\Sigma$, and $V^T$ recovers the original data perfectly."
   ]
  },
  {
   "cell_type": "code",
   "execution_count": 8,
   "metadata": {},
   "outputs": [
    {
     "data": {
      "text/html": [
       "<div>\n",
       "<style scoped>\n",
       "    .dataframe tbody tr th:only-of-type {\n",
       "        vertical-align: middle;\n",
       "    }\n",
       "\n",
       "    .dataframe tbody tr th {\n",
       "        vertical-align: top;\n",
       "    }\n",
       "\n",
       "    .dataframe thead th {\n",
       "        text-align: right;\n",
       "    }\n",
       "</style>\n",
       "<table border=\"1\" class=\"dataframe\">\n",
       "  <thead>\n",
       "    <tr style=\"text-align: right;\">\n",
       "      <th></th>\n",
       "      <th>mortality</th>\n",
       "      <th>fertility</th>\n",
       "    </tr>\n",
       "    <tr>\n",
       "      <th>country</th>\n",
       "      <th></th>\n",
       "      <th></th>\n",
       "    </tr>\n",
       "  </thead>\n",
       "  <tbody>\n",
       "    <tr>\n",
       "      <th>Afghanistan</th>\n",
       "      <td>6.820</td>\n",
       "      <td>4.48</td>\n",
       "    </tr>\n",
       "    <tr>\n",
       "      <th>Albania</th>\n",
       "      <td>1.330</td>\n",
       "      <td>1.71</td>\n",
       "    </tr>\n",
       "    <tr>\n",
       "      <th>Algeria</th>\n",
       "      <td>2.390</td>\n",
       "      <td>2.71</td>\n",
       "    </tr>\n",
       "    <tr>\n",
       "      <th>Angola</th>\n",
       "      <td>8.310</td>\n",
       "      <td>5.62</td>\n",
       "    </tr>\n",
       "    <tr>\n",
       "      <th>Antigua and Barbuda</th>\n",
       "      <td>0.816</td>\n",
       "      <td>2.04</td>\n",
       "    </tr>\n",
       "  </tbody>\n",
       "</table>\n",
       "</div>"
      ],
      "text/plain": [
       "                     mortality  fertility\n",
       "country                                  \n",
       "Afghanistan              6.820       4.48\n",
       "Albania                  1.330       1.71\n",
       "Algeria                  2.390       2.71\n",
       "Angola                   8.310       5.62\n",
       "Antigua and Barbuda      0.816       2.04"
      ]
     },
     "execution_count": 8,
     "metadata": {},
     "output_type": "execute_result"
    }
   ],
   "source": [
    "child_data_reconstructed.head(5)"
   ]
  },
  {
   "cell_type": "code",
   "execution_count": 9,
   "metadata": {},
   "outputs": [
    {
     "data": {
      "text/plain": [
       "<matplotlib.axes._subplots.AxesSubplot at 0x7fed0f88cb90>"
      ]
     },
     "execution_count": 9,
     "metadata": {},
     "output_type": "execute_result"
    },
    {
     "data": {
      "image/png": "[encoded data removed]",
      "text/plain": [
       "<Figure size 432x288 with 1 Axes>"
      ]
     },
     "metadata": {
      "needs_background": "light"
     },
     "output_type": "display_data"
    }
   ],
   "source": [
    "sns.scatterplot('mortality', 'fertility', data=child_data)"
   ]
  },
  {
   "cell_type": "markdown",
   "metadata": {},
   "source": [
    "What happens if we throw away a column of $U$, a singular value from $\\Sigma$, and a row from $V^T$? In this case we end up with the \"rank 1 approximation\" of the data.\n",
    "\n",
    "Looking at the data, we see that it does a surprisingly good job."
   ]
  },
  {
   "cell_type": "code",
   "execution_count": 10,
   "metadata": {
    "scrolled": true
   },
   "outputs": [
    {
     "data": {
      "text/html": [
       "<div>\n",
       "<style scoped>\n",
       "    .dataframe tbody tr th:only-of-type {\n",
       "        vertical-align: middle;\n",
       "    }\n",
       "\n",
       "    .dataframe tbody tr th {\n",
       "        vertical-align: top;\n",
       "    }\n",
       "\n",
       "    .dataframe thead th {\n",
       "        text-align: right;\n",
       "    }\n",
       "</style>\n",
       "<table border=\"1\" class=\"dataframe\">\n",
       "  <thead>\n",
       "    <tr style=\"text-align: right;\">\n",
       "      <th></th>\n",
       "      <th>mortality</th>\n",
       "      <th>fertility</th>\n",
       "    </tr>\n",
       "  </thead>\n",
       "  <tbody>\n",
       "    <tr>\n",
       "      <th>0</th>\n",
       "      <td>6.694067</td>\n",
       "      <td>4.660869</td>\n",
       "    </tr>\n",
       "    <tr>\n",
       "      <th>1</th>\n",
       "      <td>1.697627</td>\n",
       "      <td>1.182004</td>\n",
       "    </tr>\n",
       "    <tr>\n",
       "      <th>2</th>\n",
       "      <td>2.880467</td>\n",
       "      <td>2.005579</td>\n",
       "    </tr>\n",
       "    <tr>\n",
       "      <th>3</th>\n",
       "      <td>8.232160</td>\n",
       "      <td>5.731795</td>\n",
       "    </tr>\n",
       "    <tr>\n",
       "      <th>4</th>\n",
       "      <td>1.506198</td>\n",
       "      <td>1.048719</td>\n",
       "    </tr>\n",
       "  </tbody>\n",
       "</table>\n",
       "</div>"
      ],
      "text/plain": [
       "   mortality  fertility\n",
       "0   6.694067   4.660869\n",
       "1   1.697627   1.182004\n",
       "2   2.880467   2.005579\n",
       "3   8.232160   5.731795\n",
       "4   1.506198   1.048719"
      ]
     },
     "execution_count": 10,
     "metadata": {},
     "output_type": "execute_result"
    }
   ],
   "source": [
    "#child_data_rank_1_approximation = pd.DataFrame(u[:, :-1] @ np.diag(s[:-1]) @ vt[:-1, :], columns = [\"mortality\", \"fertility\"], index=child_data.index)\n",
    "\n",
    "child_data_rank_1_approximation = compute_rank_k_approximation(child_data, 1)\n",
    "child_data_rank_1_approximation.head(5)"
   ]
  },
  {
   "cell_type": "markdown",
   "metadata": {},
   "source": [
    "By plotting the data in a 2D space, we can see what's going on. We're simply getting the original data projected on to some 1 dimensional subspace."
   ]
  },
  {
   "cell_type": "code",
   "execution_count": 11,
   "metadata": {
    "scrolled": true
   },
   "outputs": [
    {
     "data": {
      "text/plain": [
       "<matplotlib.axes._subplots.AxesSubplot at 0x7fed0df8b590>"
      ]
     },
     "execution_count": 11,
     "metadata": {},
     "output_type": "execute_result"
    },
    {
     "data": {
      "image/png": "[encoded data removed]",
      "text/plain": [
       "<Figure size 432x288 with 1 Axes>"
      ]
     },
     "metadata": {
      "needs_background": "light"
     },
     "output_type": "display_data"
    }
   ],
   "source": [
    "sns.scatterplot('mortality', 'fertility', data=child_data_rank_1_approximation)"
   ]
  },
  {
   "cell_type": "markdown",
   "metadata": {},
   "source": [
    "There's one significant issue with our projection, which we can see by plotting both the original data and our reconstruction on the same axis. The issue is that the projection goes through the origin but our data has a non-zero y-intercept."
   ]
  },
  {
   "cell_type": "code",
   "execution_count": 12,
   "metadata": {},
   "outputs": [
    {
     "data": {
      "text/plain": [
       "<matplotlib.axes._subplots.AxesSubplot at 0x7fed0def9050>"
      ]
     },
     "execution_count": 12,
     "metadata": {},
     "output_type": "execute_result"
    },
    {
     "data": {
      "image/png": "[encoded data removed]",
      "text/plain": [
       "<Figure size 432x288 with 1 Axes>"
      ]
     },
     "metadata": {
      "needs_background": "light"
     },
     "output_type": "display_data"
    }
   ],
   "source": [
    "sns.scatterplot('mortality', 'fertility', data=child_data)\n",
    "sns.scatterplot('mortality', 'fertility', data=child_data_rank_1_approximation)"
   ]
  },
  {
   "cell_type": "markdown",
   "metadata": {},
   "source": [
    "While this y-intercept misalignment isn't terrible here, it can be really bad. For example, consider the 2D dataset below (from our body measurements dataset from the previous lecture)."
   ]
  },
  {
   "cell_type": "code",
   "execution_count": 13,
   "metadata": {},
   "outputs": [
    {
     "data": {
      "text/html": [
       "<div>\n",
       "<style scoped>\n",
       "    .dataframe tbody tr th:only-of-type {\n",
       "        vertical-align: middle;\n",
       "    }\n",
       "\n",
       "    .dataframe tbody tr th {\n",
       "        vertical-align: top;\n",
       "    }\n",
       "\n",
       "    .dataframe thead th {\n",
       "        text-align: right;\n",
       "    }\n",
       "</style>\n",
       "<table border=\"1\" class=\"dataframe\">\n",
       "  <thead>\n",
       "    <tr style=\"text-align: right;\">\n",
       "      <th></th>\n",
       "      <th>% brozek fat</th>\n",
       "      <th>% siri fat</th>\n",
       "      <th>density</th>\n",
       "      <th>age</th>\n",
       "      <th>weight</th>\n",
       "      <th>height</th>\n",
       "      <th>adiposity</th>\n",
       "      <th>fat free weight</th>\n",
       "      <th>neck</th>\n",
       "      <th>chest</th>\n",
       "      <th>abdomen</th>\n",
       "      <th>hip</th>\n",
       "      <th>thigh</th>\n",
       "      <th>knee</th>\n",
       "      <th>ankle</th>\n",
       "      <th>bicep</th>\n",
       "      <th>forearm</th>\n",
       "      <th>wrist</th>\n",
       "    </tr>\n",
       "  </thead>\n",
       "  <tbody>\n",
       "    <tr>\n",
       "      <th>0</th>\n",
       "      <td>12.6</td>\n",
       "      <td>12.3</td>\n",
       "      <td>1.0708</td>\n",
       "      <td>23</td>\n",
       "      <td>154.25</td>\n",
       "      <td>67.75</td>\n",
       "      <td>23.7</td>\n",
       "      <td>134.9</td>\n",
       "      <td>36.2</td>\n",
       "      <td>93.1</td>\n",
       "      <td>85.2</td>\n",
       "      <td>94.5</td>\n",
       "      <td>59.0</td>\n",
       "      <td>37.3</td>\n",
       "      <td>21.9</td>\n",
       "      <td>32.0</td>\n",
       "      <td>27.4</td>\n",
       "      <td>17.1</td>\n",
       "    </tr>\n",
       "    <tr>\n",
       "      <th>1</th>\n",
       "      <td>6.9</td>\n",
       "      <td>6.1</td>\n",
       "      <td>1.0853</td>\n",
       "      <td>22</td>\n",
       "      <td>173.25</td>\n",
       "      <td>72.25</td>\n",
       "      <td>23.4</td>\n",
       "      <td>161.3</td>\n",
       "      <td>38.5</td>\n",
       "      <td>93.6</td>\n",
       "      <td>83.0</td>\n",
       "      <td>98.7</td>\n",
       "      <td>58.7</td>\n",
       "      <td>37.3</td>\n",
       "      <td>23.4</td>\n",
       "      <td>30.5</td>\n",
       "      <td>28.9</td>\n",
       "      <td>18.2</td>\n",
       "    </tr>\n",
       "    <tr>\n",
       "      <th>2</th>\n",
       "      <td>24.6</td>\n",
       "      <td>25.3</td>\n",
       "      <td>1.0414</td>\n",
       "      <td>22</td>\n",
       "      <td>154.00</td>\n",
       "      <td>66.25</td>\n",
       "      <td>24.7</td>\n",
       "      <td>116.0</td>\n",
       "      <td>34.0</td>\n",
       "      <td>95.8</td>\n",
       "      <td>87.9</td>\n",
       "      <td>99.2</td>\n",
       "      <td>59.6</td>\n",
       "      <td>38.9</td>\n",
       "      <td>24.0</td>\n",
       "      <td>28.8</td>\n",
       "      <td>25.2</td>\n",
       "      <td>16.6</td>\n",
       "    </tr>\n",
       "    <tr>\n",
       "      <th>3</th>\n",
       "      <td>10.9</td>\n",
       "      <td>10.4</td>\n",
       "      <td>1.0751</td>\n",
       "      <td>26</td>\n",
       "      <td>184.75</td>\n",
       "      <td>72.25</td>\n",
       "      <td>24.9</td>\n",
       "      <td>164.7</td>\n",
       "      <td>37.4</td>\n",
       "      <td>101.8</td>\n",
       "      <td>86.4</td>\n",
       "      <td>101.2</td>\n",
       "      <td>60.1</td>\n",
       "      <td>37.3</td>\n",
       "      <td>22.8</td>\n",
       "      <td>32.4</td>\n",
       "      <td>29.4</td>\n",
       "      <td>18.2</td>\n",
       "    </tr>\n",
       "    <tr>\n",
       "      <th>4</th>\n",
       "      <td>27.8</td>\n",
       "      <td>28.7</td>\n",
       "      <td>1.0340</td>\n",
       "      <td>24</td>\n",
       "      <td>184.25</td>\n",
       "      <td>71.25</td>\n",
       "      <td>25.6</td>\n",
       "      <td>133.1</td>\n",
       "      <td>34.4</td>\n",
       "      <td>97.3</td>\n",
       "      <td>100.0</td>\n",
       "      <td>101.9</td>\n",
       "      <td>63.2</td>\n",
       "      <td>42.2</td>\n",
       "      <td>24.0</td>\n",
       "      <td>32.2</td>\n",
       "      <td>27.7</td>\n",
       "      <td>17.7</td>\n",
       "    </tr>\n",
       "  </tbody>\n",
       "</table>\n",
       "</div>"
      ],
      "text/plain": [
       "   % brozek fat  % siri fat  density  age  weight  height  adiposity  \\\n",
       "0          12.6        12.3   1.0708   23  154.25   67.75       23.7   \n",
       "1           6.9         6.1   1.0853   22  173.25   72.25       23.4   \n",
       "2          24.6        25.3   1.0414   22  154.00   66.25       24.7   \n",
       "3          10.9        10.4   1.0751   26  184.75   72.25       24.9   \n",
       "4          27.8        28.7   1.0340   24  184.25   71.25       25.6   \n",
       "\n",
       "   fat free weight  neck  chest  abdomen    hip  thigh  knee  ankle  bicep  \\\n",
       "0            134.9  36.2   93.1     85.2   94.5   59.0  37.3   21.9   32.0   \n",
       "1            161.3  38.5   93.6     83.0   98.7   58.7  37.3   23.4   30.5   \n",
       "2            116.0  34.0   95.8     87.9   99.2   59.6  38.9   24.0   28.8   \n",
       "3            164.7  37.4  101.8     86.4  101.2   60.1  37.3   22.8   32.4   \n",
       "4            133.1  34.4   97.3    100.0  101.9   63.2  42.2   24.0   32.2   \n",
       "\n",
       "   forearm  wrist  \n",
       "0     27.4   17.1  \n",
       "1     28.9   18.2  \n",
       "2     25.2   16.6  \n",
       "3     29.4   18.2  \n",
       "4     27.7   17.7  "
      ]
     },
     "execution_count": 13,
     "metadata": {},
     "output_type": "execute_result"
    }
   ],
   "source": [
    "#http://jse.amstat.org/datasets/fat.txt\n",
    "body_data = pd.read_fwf(\"fat.dat.txt\", colspecs = [(9, 13), (17, 21), (23, 29), (35, 37),\n",
    "                                             (39, 45), (48, 53), (57, 61), (64, 69),\n",
    "                                             (73, 77), (80, 85), (88, 93), (96, 101),\n",
    "                                             (105, 109), (113, 117), (121, 125), (129, 133),\n",
    "                                             (137, 141), (145, 149)], \n",
    "                  \n",
    "                  \n",
    "                  header=None, names = [\"% brozek fat\", \"% siri fat\", \"density\", \"age\", \n",
    "                                       \"weight\", \"height\", \"adiposity\", \"fat free weight\",\n",
    "                                       \"neck\", \"chest\", \"abdomen\", \"hip\", \"thigh\",\n",
    "                                       \"knee\", \"ankle\", \"bicep\", \"forearm\",\n",
    "                                       \"wrist\"])\n",
    "#body_data = body_data.drop(41) #drop the weird record\n",
    "body_data.head()"
   ]
  },
  {
   "cell_type": "code",
   "execution_count": 14,
   "metadata": {},
   "outputs": [
    {
     "data": {
      "text/html": [
       "<div>\n",
       "<style scoped>\n",
       "    .dataframe tbody tr th:only-of-type {\n",
       "        vertical-align: middle;\n",
       "    }\n",
       "\n",
       "    .dataframe tbody tr th {\n",
       "        vertical-align: top;\n",
       "    }\n",
       "\n",
       "    .dataframe thead th {\n",
       "        text-align: right;\n",
       "    }\n",
       "</style>\n",
       "<table border=\"1\" class=\"dataframe\">\n",
       "  <thead>\n",
       "    <tr style=\"text-align: right;\">\n",
       "      <th></th>\n",
       "      <th>density</th>\n",
       "      <th>abdomen</th>\n",
       "    </tr>\n",
       "  </thead>\n",
       "  <tbody>\n",
       "    <tr>\n",
       "      <th>0</th>\n",
       "      <td>1.0708</td>\n",
       "      <td>85.2</td>\n",
       "    </tr>\n",
       "    <tr>\n",
       "      <th>1</th>\n",
       "      <td>1.0853</td>\n",
       "      <td>83.0</td>\n",
       "    </tr>\n",
       "    <tr>\n",
       "      <th>2</th>\n",
       "      <td>1.0414</td>\n",
       "      <td>87.9</td>\n",
       "    </tr>\n",
       "    <tr>\n",
       "      <th>3</th>\n",
       "      <td>1.0751</td>\n",
       "      <td>86.4</td>\n",
       "    </tr>\n",
       "    <tr>\n",
       "      <th>4</th>\n",
       "      <td>1.0340</td>\n",
       "      <td>100.0</td>\n",
       "    </tr>\n",
       "  </tbody>\n",
       "</table>\n",
       "</div>"
      ],
      "text/plain": [
       "   density  abdomen\n",
       "0   1.0708     85.2\n",
       "1   1.0853     83.0\n",
       "2   1.0414     87.9\n",
       "3   1.0751     86.4\n",
       "4   1.0340    100.0"
      ]
     },
     "execution_count": 14,
     "metadata": {},
     "output_type": "execute_result"
    }
   ],
   "source": [
    "density_and_abdomen = body_data[[\"density\", \"abdomen\"]]\n",
    "density_and_abdomen.head(5)"
   ]
  },
  {
   "cell_type": "markdown",
   "metadata": {},
   "source": [
    "If we look at the data, the rank 1 approximation looks at least vaguely sane from the table. "
   ]
  },
  {
   "cell_type": "code",
   "execution_count": 15,
   "metadata": {},
   "outputs": [
    {
     "data": {
      "text/html": [
       "<div>\n",
       "<style scoped>\n",
       "    .dataframe tbody tr th:only-of-type {\n",
       "        vertical-align: middle;\n",
       "    }\n",
       "\n",
       "    .dataframe tbody tr th {\n",
       "        vertical-align: top;\n",
       "    }\n",
       "\n",
       "    .dataframe thead th {\n",
       "        text-align: right;\n",
       "    }\n",
       "</style>\n",
       "<table border=\"1\" class=\"dataframe\">\n",
       "  <thead>\n",
       "    <tr style=\"text-align: right;\">\n",
       "      <th></th>\n",
       "      <th>density</th>\n",
       "      <th>abdomen</th>\n",
       "    </tr>\n",
       "  </thead>\n",
       "  <tbody>\n",
       "    <tr>\n",
       "      <th>0</th>\n",
       "      <td>0.957134</td>\n",
       "      <td>85.201277</td>\n",
       "    </tr>\n",
       "    <tr>\n",
       "      <th>1</th>\n",
       "      <td>0.932425</td>\n",
       "      <td>83.001717</td>\n",
       "    </tr>\n",
       "    <tr>\n",
       "      <th>2</th>\n",
       "      <td>0.987458</td>\n",
       "      <td>87.900606</td>\n",
       "    </tr>\n",
       "    <tr>\n",
       "      <th>3</th>\n",
       "      <td>0.970613</td>\n",
       "      <td>86.401174</td>\n",
       "    </tr>\n",
       "    <tr>\n",
       "      <th>4</th>\n",
       "      <td>1.123369</td>\n",
       "      <td>99.998996</td>\n",
       "    </tr>\n",
       "  </tbody>\n",
       "</table>\n",
       "</div>"
      ],
      "text/plain": [
       "    density    abdomen\n",
       "0  0.957134  85.201277\n",
       "1  0.932425  83.001717\n",
       "2  0.987458  87.900606\n",
       "3  0.970613  86.401174\n",
       "4  1.123369  99.998996"
      ]
     },
     "execution_count": 15,
     "metadata": {},
     "output_type": "execute_result"
    }
   ],
   "source": [
    "density_and_abdomen_rank_1_approximation = compute_rank_k_approximation(density_and_abdomen, 1)\n",
    "density_and_abdomen_rank_1_approximation.head(5)"
   ]
  },
  {
   "cell_type": "markdown",
   "metadata": {},
   "source": [
    "But if we plot on 2D axes, we'll see that things are very wrong."
   ]
  },
  {
   "cell_type": "code",
   "execution_count": 16,
   "metadata": {},
   "outputs": [
    {
     "data": {
      "text/plain": [
       "<matplotlib.axes._subplots.AxesSubplot at 0x7fed0de82f10>"
      ]
     },
     "execution_count": 16,
     "metadata": {},
     "output_type": "execute_result"
    },
    {
     "data": {
      "image/png": "[encoded data removed]",
      "text/plain": [
       "<Figure size 432x288 with 1 Axes>"
      ]
     },
     "metadata": {
      "needs_background": "light"
     },
     "output_type": "display_data"
    }
   ],
   "source": [
    "sns.scatterplot(x=\"density\", y=\"abdomen\", data=body_data)"
   ]
  },
  {
   "cell_type": "code",
   "execution_count": 17,
   "metadata": {},
   "outputs": [
    {
     "data": {
      "image/png": "[encoded data removed]",
      "text/plain": [
       "<Figure size 432x288 with 1 Axes>"
      ]
     },
     "metadata": {
      "needs_background": "light"
     },
     "output_type": "display_data"
    }
   ],
   "source": [
    "density_and_abdomen_rank_1_approximation = compute_rank_k_approximation(density_and_abdomen, 1)\n",
    "sns.scatterplot(x=\"density\", y=\"abdomen\", data=body_data)\n",
    "sns.scatterplot(x=\"density\", y=\"abdomen\", data=density_and_abdomen_rank_1_approximation);"
   ]
  },
  {
   "cell_type": "markdown",
   "metadata": {},
   "source": [
    "Since the subspace that we're projecting on to is off and to the right, we end up with a bizarre result where our rank 1 approximation believes that density increases with abdomen size, even though the data shows the opposite."
   ]
  },
  {
   "cell_type": "markdown",
   "metadata": {},
   "source": [
    "To fix this issue, we should always start the SVD process by zero-centering our data. That is, for each column, we should subtract the mean of that column."
   ]
  },
  {
   "cell_type": "code",
   "execution_count": 18,
   "metadata": {},
   "outputs": [
    {
     "data": {
      "text/plain": [
       "density     1.055574\n",
       "abdomen    92.555952\n",
       "dtype: float64"
      ]
     },
     "execution_count": 18,
     "metadata": {},
     "output_type": "execute_result"
    }
   ],
   "source": [
    "np.mean(density_and_abdomen, axis = 0)"
   ]
  },
  {
   "cell_type": "code",
   "execution_count": 19,
   "metadata": {},
   "outputs": [
    {
     "data": {
      "text/html": [
       "<div>\n",
       "<style scoped>\n",
       "    .dataframe tbody tr th:only-of-type {\n",
       "        vertical-align: middle;\n",
       "    }\n",
       "\n",
       "    .dataframe tbody tr th {\n",
       "        vertical-align: top;\n",
       "    }\n",
       "\n",
       "    .dataframe thead th {\n",
       "        text-align: right;\n",
       "    }\n",
       "</style>\n",
       "<table border=\"1\" class=\"dataframe\">\n",
       "  <thead>\n",
       "    <tr style=\"text-align: right;\">\n",
       "      <th></th>\n",
       "      <th>density</th>\n",
       "      <th>abdomen</th>\n",
       "    </tr>\n",
       "  </thead>\n",
       "  <tbody>\n",
       "    <tr>\n",
       "      <th>0</th>\n",
       "      <td>0.015226</td>\n",
       "      <td>-7.355952</td>\n",
       "    </tr>\n",
       "    <tr>\n",
       "      <th>1</th>\n",
       "      <td>0.029726</td>\n",
       "      <td>-9.555952</td>\n",
       "    </tr>\n",
       "    <tr>\n",
       "      <th>2</th>\n",
       "      <td>-0.014174</td>\n",
       "      <td>-4.655952</td>\n",
       "    </tr>\n",
       "    <tr>\n",
       "      <th>3</th>\n",
       "      <td>0.019526</td>\n",
       "      <td>-6.155952</td>\n",
       "    </tr>\n",
       "    <tr>\n",
       "      <th>4</th>\n",
       "      <td>-0.021574</td>\n",
       "      <td>7.444048</td>\n",
       "    </tr>\n",
       "  </tbody>\n",
       "</table>\n",
       "</div>"
      ],
      "text/plain": [
       "    density   abdomen\n",
       "0  0.015226 -7.355952\n",
       "1  0.029726 -9.555952\n",
       "2 -0.014174 -4.655952\n",
       "3  0.019526 -6.155952\n",
       "4 -0.021574  7.444048"
      ]
     },
     "execution_count": 19,
     "metadata": {},
     "output_type": "execute_result"
    }
   ],
   "source": [
    "density_and_abdomen_centered = density_and_abdomen - np.mean(density_and_abdomen, axis = 0)\n",
    "density_and_abdomen_centered.head(5)"
   ]
  },
  {
   "cell_type": "markdown",
   "metadata": {},
   "source": [
    "Now when we do the approximation, things work much better."
   ]
  },
  {
   "cell_type": "code",
   "execution_count": 20,
   "metadata": {},
   "outputs": [
    {
     "data": {
      "image/png": "[encoded data removed]",
      "text/plain": [
       "<Figure size 432x288 with 1 Axes>"
      ]
     },
     "metadata": {
      "needs_background": "light"
     },
     "output_type": "display_data"
    }
   ],
   "source": [
    "density_and_abdomen_centered_rank_1_approximation = compute_rank_k_approximation(density_and_abdomen_centered, 1)\n",
    "sns.scatterplot(x=\"density\", y=\"abdomen\", data=density_and_abdomen_centered)\n",
    "sns.scatterplot(x=\"density\", y=\"abdomen\", data=density_and_abdomen_centered_rank_1_approximation);"
   ]
  },
  {
   "cell_type": "markdown",
   "metadata": {},
   "source": [
    "### Interpreting Principal Components"
   ]
  },
  {
   "cell_type": "markdown",
   "metadata": {},
   "source": [
    "Let's revisit our child mortality and maternal fertility data from before."
   ]
  },
  {
   "cell_type": "code",
   "execution_count": 21,
   "metadata": {},
   "outputs": [
    {
     "data": {
      "image/png": "[encoded data removed]",
      "text/plain": [
       "<Figure size 432x288 with 1 Axes>"
      ]
     },
     "metadata": {
      "needs_background": "light"
     },
     "output_type": "display_data"
    }
   ],
   "source": [
    "sns.scatterplot(data = child_data, x = \"mortality\", y= \"fertility\")\n",
    "plt.xlim([0, 14])\n",
    "plt.ylim([0, 14])\n",
    "plt.xticks(np.arange(0, 14, 2))\n",
    "plt.yticks(np.arange(0, 14, 2));"
   ]
  },
  {
   "cell_type": "markdown",
   "metadata": {},
   "source": [
    "Since we're going to be doing SVD, let's make sure to center our data first."
   ]
  },
  {
   "cell_type": "code",
   "execution_count": 22,
   "metadata": {},
   "outputs": [
    {
     "data": {
      "text/plain": [
       "mortality    3.034590\n",
       "fertility    2.775956\n",
       "dtype: float64"
      ]
     },
     "execution_count": 22,
     "metadata": {},
     "output_type": "execute_result"
    }
   ],
   "source": [
    "np.mean(child_data, axis = 0)"
   ]
  },
  {
   "cell_type": "code",
   "execution_count": 23,
   "metadata": {},
   "outputs": [
    {
     "data": {
      "image/png": "[encoded data removed]",
      "text/plain": [
       "<Figure size 432x288 with 1 Axes>"
      ]
     },
     "metadata": {
      "needs_background": "light"
     },
     "output_type": "display_data"
    }
   ],
   "source": [
    "child_means = np.mean(child_data, axis = 0)\n",
    "child_data_centered = child_data - child_means\n",
    "sns.scatterplot(data = child_data_centered, x = \"mortality\", y= \"fertility\")\n",
    "\n",
    "\n",
    "plt.xlim([-3, 11])\n",
    "plt.ylim([-3, 11])\n",
    "plt.xticks(np.arange(-3, 11, 2))\n",
    "plt.yticks(np.arange(-3, 11, 2));\n",
    "# plt.gcf().savefig(\"mortality_fertility_centered.png\", dpi=300, bbox_inches=\"tight\")"
   ]
  },
  {
   "cell_type": "markdown",
   "metadata": {},
   "source": [
    "Tie in with the manual computation slides."
   ]
  },
  {
   "cell_type": "markdown",
   "metadata": {},
   "source": [
    "## PCA vs. Linear Regression"
   ]
  },
  {
   "cell_type": "markdown",
   "metadata": {},
   "source": [
    "Now we'll finally turn to trying to understand what the principle components and the low rank approximations actually mean!"
   ]
  },
  {
   "cell_type": "markdown",
   "metadata": {},
   "source": [
    "Returning to our child mortality data from before, if we zero-center the child data, we see get back a better result. Note that we have to add back in the mean of each column to get things back into the right units."
   ]
  },
  {
   "cell_type": "code",
   "execution_count": 24,
   "metadata": {},
   "outputs": [],
   "source": [
    "means = np.mean(child_data, axis = 0)\n",
    "child_data_centered = child_data - np.mean(child_data, axis = 0)\n",
    "child_data_rank_1_approximation = compute_rank_k_approximation(child_data_centered, 1) + means"
   ]
  },
  {
   "cell_type": "code",
   "execution_count": 25,
   "metadata": {},
   "outputs": [
    {
     "data": {
      "image/png": "[encoded data removed]",
      "text/plain": [
       "<Figure size 432x288 with 1 Axes>"
      ]
     },
     "metadata": {
      "needs_background": "light"
     },
     "output_type": "display_data"
    }
   ],
   "source": [
    "sns.scatterplot('mortality', 'fertility', data=child_data)\n",
    "sns.scatterplot('mortality', 'fertility', data=child_data_rank_1_approximation)\n",
    "plt.legend(['data', 'rank 1 approx'])\n",
    "plt.xlim([0, 14])\n",
    "plt.ylim([0, 14])\n",
    "plt.xticks(np.arange(0, 14, 2))\n",
    "plt.yticks(np.arange(0, 14, 2));"
   ]
  },
  {
   "cell_type": "markdown",
   "metadata": {},
   "source": [
    "We can also give our rank 1 approximation as a line, showing the 1D subspace (in black) that our data is being projected onto."
   ]
  },
  {
   "cell_type": "code",
   "execution_count": 26,
   "metadata": {},
   "outputs": [
    {
     "data": {
      "image/png": "[encoded data removed]",
      "text/plain": [
       "<Figure size 432x288 with 1 Axes>"
      ]
     },
     "metadata": {
      "needs_background": "light"
     },
     "output_type": "display_data"
    }
   ],
   "source": [
    "sns.scatterplot('mortality', 'fertility', data=child_data)\n",
    "sns.lineplot('mortality', 'fertility', data=child_data_rank_1_approximation, color='black')\n",
    "plt.legend(['rank 1 approx', 'data']);\n",
    "plt.xlim([0, 14])\n",
    "plt.ylim([0, 14])\n",
    "plt.xticks(np.arange(0, 14, 2))\n",
    "plt.yticks(np.arange(0, 14, 2));"
   ]
  },
  {
   "cell_type": "markdown",
   "metadata": {},
   "source": [
    "This plot probably brings to mind linear regression from Data 8. But PCA is NOT the same thing linear regression. Let's plot the regression lines for this data for comparison. Recall that the regression line gives us, e.g. the best possible linear prediction of the fertility given the mortality."
   ]
  },
  {
   "cell_type": "code",
   "execution_count": 27,
   "metadata": {},
   "outputs": [
    {
     "data": {
      "image/png": "[encoded data removed]",
      "text/plain": [
       "<Figure size 432x288 with 1 Axes>"
      ]
     },
     "metadata": {
      "needs_background": "light"
     },
     "output_type": "display_data"
    }
   ],
   "source": [
    "x, y = child_data['mortality'], child_data['fertility']\n",
    "slope_x, intercept_x = np.polyfit(x, y, 1) # simple linear regression\n",
    "\n",
    "scatter14(child_data)\n",
    "\n",
    "plt.plot(x, slope_x * x + intercept_x, c = 'g')\n",
    "for _, row in child_data.sample(20).iterrows():\n",
    "    tx, ty = row['mortality'], row['fertility']\n",
    "    plt.plot([tx, tx], [slope_x * tx + intercept_x, ty], c='red')\n",
    "    \n",
    "plt.legend(['predicted fertility']);"
   ]
  },
  {
   "cell_type": "markdown",
   "metadata": {},
   "source": [
    "In the plot above, the green regression line given minimizes the sum of the squared errors, given as red vertical lines."
   ]
  },
  {
   "cell_type": "markdown",
   "metadata": {},
   "source": [
    "We could also do the opposite thing, and try to predict fertility from mortality."
   ]
  },
  {
   "cell_type": "code",
   "execution_count": 28,
   "metadata": {},
   "outputs": [
    {
     "data": {
      "image/png": "[encoded data removed]",
      "text/plain": [
       "<Figure size 432x288 with 1 Axes>"
      ]
     },
     "metadata": {
      "needs_background": "light"
     },
     "output_type": "display_data"
    }
   ],
   "source": [
    "x, y = child_data['mortality'], child_data['fertility']\n",
    "slope_y, intercept_y = np.polyfit(y, x, 1) # simple linear regression\n",
    "\n",
    "scatter14(child_data)\n",
    "\n",
    "plt.plot(slope_y * y + intercept_y, y, c = 'purple')\n",
    "for _, row in child_data.sample(20).iterrows():\n",
    "    tx, ty = row['mortality'], row['fertility']\n",
    "    plt.plot([tx, slope_y * ty + intercept_y], [ty, ty], c='red')\n",
    "    \n",
    "plt.legend(['predicted mortality']);"
   ]
  },
  {
   "cell_type": "markdown",
   "metadata": {},
   "source": [
    "In the plot above, the green regression line given minimizes the sum of the squared errors, given as red horizontal lines."
   ]
  },
  {
   "cell_type": "markdown",
   "metadata": {},
   "source": [
    "Plotting the two regression lines and the 1D subspace chosen by PCA, we see that all 3 are distinct!"
   ]
  },
  {
   "cell_type": "code",
   "execution_count": 29,
   "metadata": {},
   "outputs": [
    {
     "data": {
      "image/png": "[encoded data removed]",
      "text/plain": [
       "<Figure size 432x288 with 1 Axes>"
      ]
     },
     "metadata": {
      "needs_background": "light"
     },
     "output_type": "display_data"
    }
   ],
   "source": [
    "sns.lineplot('mortality', 'fertility', data=child_data_rank_1_approximation, color=\"black\")\n",
    "plt.plot(x, slope_x * x + intercept_x, c = 'g')\n",
    "plt.plot(slope_y * y + intercept_y, y, c = 'purple');\n",
    "sns.scatterplot('mortality', 'fertility', data=child_data)\n",
    "plt.legend(['rank 1 approx', 'predicted fertility', 'predicted mortality'])\n",
    "plt.xlim([0, 14])\n",
    "plt.ylim([0, 14])\n",
    "plt.xticks(np.arange(0, 14, 2))\n",
    "plt.yticks(np.arange(0, 14, 2));"
   ]
  },
  {
   "cell_type": "markdown",
   "metadata": {},
   "source": [
    "Given that the green line minimizes the \"vertical error\" and the purple line minimizes the \"horizontal error\". You might wonder what the black line minimizes. It turns out, it minimizes the \"diagonal\" error, i.e. the error in the direction perpendicular to itself."
   ]
  },
  {
   "cell_type": "code",
   "execution_count": 30,
   "metadata": {
    "scrolled": true
   },
   "outputs": [
    {
     "data": {
      "image/png": "[encoded data removed]",
      "text/plain": [
       "<Figure size 432x288 with 1 Axes>"
      ]
     },
     "metadata": {
      "needs_background": "light"
     },
     "output_type": "display_data"
    }
   ],
   "source": [
    "sns.lineplot('mortality', 'fertility', data=child_data_rank_1_approximation, color=\"black\")\n",
    "plt.plot(x, slope_x * x + intercept_x, c = 'g')\n",
    "plt.plot(slope_y * y + intercept_y, y, c = 'purple');\n",
    "sns.scatterplot('mortality', 'fertility', data=child_data)\n",
    "\n",
    "for idx, tdata in child_data.reset_index().sample(20).iterrows():\n",
    "    tx = tdata[\"mortality\"]\n",
    "    ty = tdata[\"fertility\"]\n",
    "    tx_projected = child_data_rank_1_approximation.iloc[idx, 0]\n",
    "    ty_projected = child_data_rank_1_approximation.iloc[idx, 1]\n",
    "    plt.plot([tx, tx_projected], [ty, ty_projected], c='red')\n",
    "    \n",
    "plt.xlim([0, 14])\n",
    "plt.ylim([0, 14])\n",
    "plt.xticks(np.arange(0, 14, 2))\n",
    "plt.yticks(np.arange(0, 14, 2));\n",
    "plt.legend(['rank 1 approx', 'predicted fertility', 'predicted mortality']);"
   ]
  },
  {
   "cell_type": "markdown",
   "metadata": {},
   "source": [
    "The function in the following cell makes it easy to make similar plots for whatever dataset you might be interested in."
   ]
  },
  {
   "cell_type": "code",
   "execution_count": 31,
   "metadata": {},
   "outputs": [],
   "source": [
    "def plot_x_regression_y_regression_1d_approximation(data): \n",
    "    xname = data.columns[0]\n",
    "    yname = data.columns[1]\n",
    "    \n",
    "    x, y = data[xname], data[yname]\n",
    "    slope_x, intercept_x = np.polyfit(x, y, 1) # simple linear regression\n",
    "    \n",
    "    x, y = data[xname], data[yname]\n",
    "    slope_y, intercept_y = np.polyfit(y, x, 1) # simple linear regression\n",
    "    \n",
    "    means = np.mean(data, axis = 0)\n",
    "    rank_1_approximation = compute_rank_k_approximation(data - means, 1) + means\n",
    "    \n",
    "    sns.lineplot(x=xname, y=yname, data=rank_1_approximation, color=\"black\")\n",
    "    plt.plot(x, slope_x * x + intercept_x, c = 'g')\n",
    "    plt.plot(slope_y * y + intercept_y, y, c = 'purple');\n",
    "    sns.scatterplot(xname, yname, data=data)\n",
    "    \n",
    "   \n",
    "    for idx, tdata in data.reset_index().sample(20).iterrows():\n",
    "        tx = tdata[xname]\n",
    "        ty = tdata[yname]\n",
    "        \n",
    "        tx_projected = rank_1_approximation.iloc[idx, 0]\n",
    "        ty_projected = rank_1_approximation.iloc[idx, 1]\n",
    "        plt.plot([tx, tx_projected], [ty, ty_projected], c='red') \n",
    "    \n",
    "    plt.legend(['1D PCA Subspace', 'predicted ' + xname, 'predicted ' + yname])"
   ]
  },
  {
   "cell_type": "code",
   "execution_count": 32,
   "metadata": {},
   "outputs": [
    {
     "data": {
      "image/png": "[encoded data removed]",
      "text/plain": [
       "<Figure size 432x288 with 1 Axes>"
      ]
     },
     "metadata": {
      "needs_background": "light"
     },
     "output_type": "display_data"
    }
   ],
   "source": [
    "plot_x_regression_y_regression_1d_approximation(body_data.drop(41)[[\"adiposity\", \"bicep\"]])"
   ]
  },
  {
   "cell_type": "markdown",
   "metadata": {},
   "source": [
    "## Principal Components and Singular Values"
   ]
  },
  {
   "cell_type": "markdown",
   "metadata": {},
   "source": [
    "###  Singular Values and Variance"
   ]
  },
  {
   "cell_type": "code",
   "execution_count": 33,
   "metadata": {},
   "outputs": [],
   "source": [
    "rectangle = pd.read_csv('rectangle_data.csv')"
   ]
  },
  {
   "cell_type": "code",
   "execution_count": 34,
   "metadata": {
    "scrolled": true
   },
   "outputs": [],
   "source": [
    "rectangle_centered = rectangle - np.mean(rectangle, axis = 0)"
   ]
  },
  {
   "cell_type": "code",
   "execution_count": 35,
   "metadata": {},
   "outputs": [
    {
     "data": {
      "text/plain": [
       "width          7.6891\n",
       "height         5.3475\n",
       "area         338.7316\n",
       "perimeter     50.7904\n",
       "dtype: float64"
      ]
     },
     "execution_count": 35,
     "metadata": {},
     "output_type": "execute_result"
    }
   ],
   "source": [
    "np.var(rectangle_centered)"
   ]
  },
  {
   "cell_type": "code",
   "execution_count": 36,
   "metadata": {},
   "outputs": [
    {
     "data": {
      "text/plain": [
       "402.5586000000002"
      ]
     },
     "execution_count": 36,
     "metadata": {},
     "output_type": "execute_result"
    }
   ],
   "source": [
    "sum(np.var(rectangle_centered))"
   ]
  },
  {
   "cell_type": "code",
   "execution_count": 37,
   "metadata": {},
   "outputs": [],
   "source": [
    "u, s, vt = np.linalg.svd(rectangle_centered, full_matrices = False)"
   ]
  },
  {
   "cell_type": "code",
   "execution_count": 38,
   "metadata": {},
   "outputs": [
    {
     "data": {
      "text/plain": [
       "array([[-0.1339099 ,  0.00592996,  0.03473374, -0.14290163],\n",
       "       [ 0.08635418, -0.07951453,  0.01494809,  0.73679984],\n",
       "       [ 0.11776646, -0.12896256,  0.08577428, -0.06410577],\n",
       "       [-0.02727392,  0.1831771 ,  0.01089507, -0.03781763],\n",
       "       [-0.258806  , -0.09429499,  0.09027015, -0.0466119 ]])"
      ]
     },
     "execution_count": 38,
     "metadata": {},
     "output_type": "execute_result"
    }
   ],
   "source": [
    "u[0:5, :]"
   ]
  },
  {
   "cell_type": "code",
   "execution_count": 39,
   "metadata": {},
   "outputs": [
    {
     "data": {
      "text/plain": [
       "array([[1.97388075e+02, 0.00000000e+00, 0.00000000e+00, 0.00000000e+00],\n",
       "       [0.00000000e+00, 2.74346257e+01, 0.00000000e+00, 0.00000000e+00],\n",
       "       [0.00000000e+00, 0.00000000e+00, 2.32626119e+01, 0.00000000e+00],\n",
       "       [0.00000000e+00, 0.00000000e+00, 0.00000000e+00, 8.37988302e-15]])"
      ]
     },
     "execution_count": 39,
     "metadata": {},
     "output_type": "execute_result"
    }
   ],
   "source": [
    "np.diag(s)"
   ]
  },
  {
   "cell_type": "code",
   "execution_count": 40,
   "metadata": {},
   "outputs": [
    {
     "data": {
      "text/plain": [
       "array([3.89620522e+02, 7.52658687e+00, 5.41149115e+00, 7.02224394e-31])"
      ]
     },
     "execution_count": 40,
     "metadata": {},
     "output_type": "execute_result"
    }
   ],
   "source": [
    "s**2/rectangle_centered.shape[0]"
   ]
  },
  {
   "cell_type": "code",
   "execution_count": 41,
   "metadata": {
    "scrolled": false
   },
   "outputs": [
    {
     "data": {
      "text/plain": [
       "402.55859999999984"
      ]
     },
     "execution_count": 41,
     "metadata": {},
     "output_type": "execute_result"
    }
   ],
   "source": [
    "sum(s**2/rectangle_centered.shape[0])"
   ]
  },
  {
   "cell_type": "markdown",
   "metadata": {},
   "source": [
    "## Practical PCA"
   ]
  },
  {
   "cell_type": "markdown",
   "metadata": {},
   "source": [
    "Let's now step back and try to use PCA on our body measurement and congressional voting datasets."
   ]
  },
  {
   "cell_type": "code",
   "execution_count": 42,
   "metadata": {},
   "outputs": [
    {
     "data": {
      "text/html": [
       "<div>\n",
       "<style scoped>\n",
       "    .dataframe tbody tr th:only-of-type {\n",
       "        vertical-align: middle;\n",
       "    }\n",
       "\n",
       "    .dataframe tbody tr th {\n",
       "        vertical-align: top;\n",
       "    }\n",
       "\n",
       "    .dataframe thead th {\n",
       "        text-align: right;\n",
       "    }\n",
       "</style>\n",
       "<table border=\"1\" class=\"dataframe\">\n",
       "  <thead>\n",
       "    <tr style=\"text-align: right;\">\n",
       "      <th></th>\n",
       "      <th>% brozek fat</th>\n",
       "      <th>% siri fat</th>\n",
       "      <th>density</th>\n",
       "      <th>age</th>\n",
       "      <th>weight</th>\n",
       "      <th>height</th>\n",
       "      <th>adiposity</th>\n",
       "      <th>fat free weight</th>\n",
       "      <th>neck</th>\n",
       "      <th>chest</th>\n",
       "      <th>abdomen</th>\n",
       "      <th>hip</th>\n",
       "      <th>thigh</th>\n",
       "      <th>knee</th>\n",
       "      <th>ankle</th>\n",
       "      <th>bicep</th>\n",
       "      <th>forearm</th>\n",
       "      <th>wrist</th>\n",
       "    </tr>\n",
       "  </thead>\n",
       "  <tbody>\n",
       "    <tr>\n",
       "      <th>0</th>\n",
       "      <td>12.6</td>\n",
       "      <td>12.3</td>\n",
       "      <td>1.0708</td>\n",
       "      <td>23</td>\n",
       "      <td>154.25</td>\n",
       "      <td>67.75</td>\n",
       "      <td>23.7</td>\n",
       "      <td>134.9</td>\n",
       "      <td>36.2</td>\n",
       "      <td>93.1</td>\n",
       "      <td>85.2</td>\n",
       "      <td>94.5</td>\n",
       "      <td>59.0</td>\n",
       "      <td>37.3</td>\n",
       "      <td>21.9</td>\n",
       "      <td>32.0</td>\n",
       "      <td>27.4</td>\n",
       "      <td>17.1</td>\n",
       "    </tr>\n",
       "    <tr>\n",
       "      <th>1</th>\n",
       "      <td>6.9</td>\n",
       "      <td>6.1</td>\n",
       "      <td>1.0853</td>\n",
       "      <td>22</td>\n",
       "      <td>173.25</td>\n",
       "      <td>72.25</td>\n",
       "      <td>23.4</td>\n",
       "      <td>161.3</td>\n",
       "      <td>38.5</td>\n",
       "      <td>93.6</td>\n",
       "      <td>83.0</td>\n",
       "      <td>98.7</td>\n",
       "      <td>58.7</td>\n",
       "      <td>37.3</td>\n",
       "      <td>23.4</td>\n",
       "      <td>30.5</td>\n",
       "      <td>28.9</td>\n",
       "      <td>18.2</td>\n",
       "    </tr>\n",
       "    <tr>\n",
       "      <th>2</th>\n",
       "      <td>24.6</td>\n",
       "      <td>25.3</td>\n",
       "      <td>1.0414</td>\n",
       "      <td>22</td>\n",
       "      <td>154.00</td>\n",
       "      <td>66.25</td>\n",
       "      <td>24.7</td>\n",
       "      <td>116.0</td>\n",
       "      <td>34.0</td>\n",
       "      <td>95.8</td>\n",
       "      <td>87.9</td>\n",
       "      <td>99.2</td>\n",
       "      <td>59.6</td>\n",
       "      <td>38.9</td>\n",
       "      <td>24.0</td>\n",
       "      <td>28.8</td>\n",
       "      <td>25.2</td>\n",
       "      <td>16.6</td>\n",
       "    </tr>\n",
       "    <tr>\n",
       "      <th>3</th>\n",
       "      <td>10.9</td>\n",
       "      <td>10.4</td>\n",
       "      <td>1.0751</td>\n",
       "      <td>26</td>\n",
       "      <td>184.75</td>\n",
       "      <td>72.25</td>\n",
       "      <td>24.9</td>\n",
       "      <td>164.7</td>\n",
       "      <td>37.4</td>\n",
       "      <td>101.8</td>\n",
       "      <td>86.4</td>\n",
       "      <td>101.2</td>\n",
       "      <td>60.1</td>\n",
       "      <td>37.3</td>\n",
       "      <td>22.8</td>\n",
       "      <td>32.4</td>\n",
       "      <td>29.4</td>\n",
       "      <td>18.2</td>\n",
       "    </tr>\n",
       "    <tr>\n",
       "      <th>4</th>\n",
       "      <td>27.8</td>\n",
       "      <td>28.7</td>\n",
       "      <td>1.0340</td>\n",
       "      <td>24</td>\n",
       "      <td>184.25</td>\n",
       "      <td>71.25</td>\n",
       "      <td>25.6</td>\n",
       "      <td>133.1</td>\n",
       "      <td>34.4</td>\n",
       "      <td>97.3</td>\n",
       "      <td>100.0</td>\n",
       "      <td>101.9</td>\n",
       "      <td>63.2</td>\n",
       "      <td>42.2</td>\n",
       "      <td>24.0</td>\n",
       "      <td>32.2</td>\n",
       "      <td>27.7</td>\n",
       "      <td>17.7</td>\n",
       "    </tr>\n",
       "  </tbody>\n",
       "</table>\n",
       "</div>"
      ],
      "text/plain": [
       "   % brozek fat  % siri fat  density  age  weight  height  adiposity  \\\n",
       "0          12.6        12.3   1.0708   23  154.25   67.75       23.7   \n",
       "1           6.9         6.1   1.0853   22  173.25   72.25       23.4   \n",
       "2          24.6        25.3   1.0414   22  154.00   66.25       24.7   \n",
       "3          10.9        10.4   1.0751   26  184.75   72.25       24.9   \n",
       "4          27.8        28.7   1.0340   24  184.25   71.25       25.6   \n",
       "\n",
       "   fat free weight  neck  chest  abdomen    hip  thigh  knee  ankle  bicep  \\\n",
       "0            134.9  36.2   93.1     85.2   94.5   59.0  37.3   21.9   32.0   \n",
       "1            161.3  38.5   93.6     83.0   98.7   58.7  37.3   23.4   30.5   \n",
       "2            116.0  34.0   95.8     87.9   99.2   59.6  38.9   24.0   28.8   \n",
       "3            164.7  37.4  101.8     86.4  101.2   60.1  37.3   22.8   32.4   \n",
       "4            133.1  34.4   97.3    100.0  101.9   63.2  42.2   24.0   32.2   \n",
       "\n",
       "   forearm  wrist  \n",
       "0     27.4   17.1  \n",
       "1     28.9   18.2  \n",
       "2     25.2   16.6  \n",
       "3     29.4   18.2  \n",
       "4     27.7   17.7  "
      ]
     },
     "execution_count": 42,
     "metadata": {},
     "output_type": "execute_result"
    }
   ],
   "source": [
    "body_data.head(5)"
   ]
  },
  {
   "cell_type": "code",
   "execution_count": 43,
   "metadata": {},
   "outputs": [],
   "source": [
    "u, s, vt = np.linalg.svd(body_data, full_matrices = False)"
   ]
  },
  {
   "cell_type": "markdown",
   "metadata": {},
   "source": [
    "We see that some of our singular values capture more variance than others."
   ]
  },
  {
   "cell_type": "code",
   "execution_count": 44,
   "metadata": {
    "scrolled": true
   },
   "outputs": [
    {
     "data": {
      "text/plain": [
       "array([5.02052705e+03, 2.62085056e+02, 2.54543432e+02, 1.41812428e+02,\n",
       "       5.98783810e+01, 5.29106976e+01, 4.16567900e+01, 3.12823306e+01,\n",
       "       2.60271725e+01, 2.44919558e+01, 2.21128215e+01, 2.05280695e+01,\n",
       "       1.86667123e+01, 1.67184654e+01, 1.24277631e+01, 7.79276210e+00,\n",
       "       1.97067950e+00, 2.72193414e-01])"
      ]
     },
     "execution_count": 44,
     "metadata": {},
     "output_type": "execute_result"
    }
   ],
   "source": [
    "s"
   ]
  },
  {
   "cell_type": "markdown",
   "metadata": {},
   "source": [
    "Or we can compute the fraction of the variance captured by each principal component. The result seems shocking at first, as our data appears to be effectively rank 1."
   ]
  },
  {
   "cell_type": "code",
   "execution_count": 45,
   "metadata": {},
   "outputs": [
    {
     "data": {
      "text/plain": [
       "array([0.99, 0.  , 0.  , 0.  , 0.  , 0.  , 0.  , 0.  , 0.  , 0.  , 0.  ,\n",
       "       0.  , 0.  , 0.  , 0.  , 0.  , 0.  , 0.  ])"
      ]
     },
     "execution_count": 45,
     "metadata": {},
     "output_type": "execute_result"
    }
   ],
   "source": [
    "np.round(s**2 / sum(s**2), 2)"
   ]
  },
  {
   "cell_type": "markdown",
   "metadata": {},
   "source": [
    "This seems absurd, as clearly there are several variables that we expect to be show significant variation independent of each other, e.g. weight, height, and age. If this happens to you, it's probably because you forgot to center your data!"
   ]
  },
  {
   "cell_type": "code",
   "execution_count": 46,
   "metadata": {},
   "outputs": [
    {
     "data": {
      "text/html": [
       "<div>\n",
       "<style scoped>\n",
       "    .dataframe tbody tr th:only-of-type {\n",
       "        vertical-align: middle;\n",
       "    }\n",
       "\n",
       "    .dataframe tbody tr th {\n",
       "        vertical-align: top;\n",
       "    }\n",
       "\n",
       "    .dataframe thead th {\n",
       "        text-align: right;\n",
       "    }\n",
       "</style>\n",
       "<table border=\"1\" class=\"dataframe\">\n",
       "  <thead>\n",
       "    <tr style=\"text-align: right;\">\n",
       "      <th></th>\n",
       "      <th>% brozek fat</th>\n",
       "      <th>% siri fat</th>\n",
       "      <th>density</th>\n",
       "      <th>age</th>\n",
       "      <th>weight</th>\n",
       "      <th>height</th>\n",
       "      <th>adiposity</th>\n",
       "      <th>fat free weight</th>\n",
       "      <th>neck</th>\n",
       "      <th>chest</th>\n",
       "      <th>abdomen</th>\n",
       "      <th>hip</th>\n",
       "      <th>thigh</th>\n",
       "      <th>knee</th>\n",
       "      <th>ankle</th>\n",
       "      <th>bicep</th>\n",
       "      <th>forearm</th>\n",
       "      <th>wrist</th>\n",
       "    </tr>\n",
       "  </thead>\n",
       "  <tbody>\n",
       "    <tr>\n",
       "      <th>0</th>\n",
       "      <td>-6.338492</td>\n",
       "      <td>-6.850794</td>\n",
       "      <td>0.015226</td>\n",
       "      <td>-21.884921</td>\n",
       "      <td>-24.674405</td>\n",
       "      <td>-2.39881</td>\n",
       "      <td>-1.736905</td>\n",
       "      <td>-8.813889</td>\n",
       "      <td>-1.792063</td>\n",
       "      <td>-7.724206</td>\n",
       "      <td>-7.355952</td>\n",
       "      <td>-5.404762</td>\n",
       "      <td>-0.405952</td>\n",
       "      <td>-1.290476</td>\n",
       "      <td>-1.202381</td>\n",
       "      <td>-0.273413</td>\n",
       "      <td>-1.263889</td>\n",
       "      <td>-1.129762</td>\n",
       "    </tr>\n",
       "    <tr>\n",
       "      <th>1</th>\n",
       "      <td>-12.038492</td>\n",
       "      <td>-13.050794</td>\n",
       "      <td>0.029726</td>\n",
       "      <td>-22.884921</td>\n",
       "      <td>-5.674405</td>\n",
       "      <td>2.10119</td>\n",
       "      <td>-2.036905</td>\n",
       "      <td>17.586111</td>\n",
       "      <td>0.507937</td>\n",
       "      <td>-7.224206</td>\n",
       "      <td>-9.555952</td>\n",
       "      <td>-1.204762</td>\n",
       "      <td>-0.705952</td>\n",
       "      <td>-1.290476</td>\n",
       "      <td>0.297619</td>\n",
       "      <td>-1.773413</td>\n",
       "      <td>0.236111</td>\n",
       "      <td>-0.029762</td>\n",
       "    </tr>\n",
       "    <tr>\n",
       "      <th>2</th>\n",
       "      <td>5.661508</td>\n",
       "      <td>6.149206</td>\n",
       "      <td>-0.014174</td>\n",
       "      <td>-22.884921</td>\n",
       "      <td>-24.924405</td>\n",
       "      <td>-3.89881</td>\n",
       "      <td>-0.736905</td>\n",
       "      <td>-27.713889</td>\n",
       "      <td>-3.992063</td>\n",
       "      <td>-5.024206</td>\n",
       "      <td>-4.655952</td>\n",
       "      <td>-0.704762</td>\n",
       "      <td>0.194048</td>\n",
       "      <td>0.309524</td>\n",
       "      <td>0.897619</td>\n",
       "      <td>-3.473413</td>\n",
       "      <td>-3.463889</td>\n",
       "      <td>-1.629762</td>\n",
       "    </tr>\n",
       "    <tr>\n",
       "      <th>3</th>\n",
       "      <td>-8.038492</td>\n",
       "      <td>-8.750794</td>\n",
       "      <td>0.019526</td>\n",
       "      <td>-18.884921</td>\n",
       "      <td>5.825595</td>\n",
       "      <td>2.10119</td>\n",
       "      <td>-0.536905</td>\n",
       "      <td>20.986111</td>\n",
       "      <td>-0.592063</td>\n",
       "      <td>0.975794</td>\n",
       "      <td>-6.155952</td>\n",
       "      <td>1.295238</td>\n",
       "      <td>0.694048</td>\n",
       "      <td>-1.290476</td>\n",
       "      <td>-0.302381</td>\n",
       "      <td>0.126587</td>\n",
       "      <td>0.736111</td>\n",
       "      <td>-0.029762</td>\n",
       "    </tr>\n",
       "    <tr>\n",
       "      <th>4</th>\n",
       "      <td>8.861508</td>\n",
       "      <td>9.549206</td>\n",
       "      <td>-0.021574</td>\n",
       "      <td>-20.884921</td>\n",
       "      <td>5.325595</td>\n",
       "      <td>1.10119</td>\n",
       "      <td>0.163095</td>\n",
       "      <td>-10.613889</td>\n",
       "      <td>-3.592063</td>\n",
       "      <td>-3.524206</td>\n",
       "      <td>7.444048</td>\n",
       "      <td>1.995238</td>\n",
       "      <td>3.794048</td>\n",
       "      <td>3.609524</td>\n",
       "      <td>0.897619</td>\n",
       "      <td>-0.073413</td>\n",
       "      <td>-0.963889</td>\n",
       "      <td>-0.529762</td>\n",
       "    </tr>\n",
       "  </tbody>\n",
       "</table>\n",
       "</div>"
      ],
      "text/plain": [
       "   % brozek fat  % siri fat   density        age     weight   height  \\\n",
       "0     -6.338492   -6.850794  0.015226 -21.884921 -24.674405 -2.39881   \n",
       "1    -12.038492  -13.050794  0.029726 -22.884921  -5.674405  2.10119   \n",
       "2      5.661508    6.149206 -0.014174 -22.884921 -24.924405 -3.89881   \n",
       "3     -8.038492   -8.750794  0.019526 -18.884921   5.825595  2.10119   \n",
       "4      8.861508    9.549206 -0.021574 -20.884921   5.325595  1.10119   \n",
       "\n",
       "   adiposity  fat free weight      neck     chest   abdomen       hip  \\\n",
       "0  -1.736905        -8.813889 -1.792063 -7.724206 -7.355952 -5.404762   \n",
       "1  -2.036905        17.586111  0.507937 -7.224206 -9.555952 -1.204762   \n",
       "2  -0.736905       -27.713889 -3.992063 -5.024206 -4.655952 -0.704762   \n",
       "3  -0.536905        20.986111 -0.592063  0.975794 -6.155952  1.295238   \n",
       "4   0.163095       -10.613889 -3.592063 -3.524206  7.444048  1.995238   \n",
       "\n",
       "      thigh      knee     ankle     bicep   forearm     wrist  \n",
       "0 -0.405952 -1.290476 -1.202381 -0.273413 -1.263889 -1.129762  \n",
       "1 -0.705952 -1.290476  0.297619 -1.773413  0.236111 -0.029762  \n",
       "2  0.194048  0.309524  0.897619 -3.473413 -3.463889 -1.629762  \n",
       "3  0.694048 -1.290476 -0.302381  0.126587  0.736111 -0.029762  \n",
       "4  3.794048  3.609524  0.897619 -0.073413 -0.963889 -0.529762  "
      ]
     },
     "execution_count": 46,
     "metadata": {},
     "output_type": "execute_result"
    }
   ],
   "source": [
    "body_data_centered = body_data - np.mean(body_data, axis = 0)\n",
    "body_data_centered.head(5)"
   ]
  },
  {
   "cell_type": "code",
   "execution_count": 47,
   "metadata": {},
   "outputs": [],
   "source": [
    "u, s, vt = np.linalg.svd(body_data_centered, full_matrices = False)"
   ]
  },
  {
   "cell_type": "markdown",
   "metadata": {},
   "source": [
    "This time, we see that the top singular value is no longer as dominant."
   ]
  },
  {
   "cell_type": "code",
   "execution_count": 48,
   "metadata": {},
   "outputs": [
    {
     "data": {
      "text/plain": [
       "array([5.86347268e+02, 2.61819089e+02, 1.67113835e+02, 5.99708077e+01,\n",
       "       5.33302486e+01, 4.22415004e+01, 3.48011060e+01, 2.92855997e+01,\n",
       "       2.55426169e+01, 2.39181665e+01, 2.08396531e+01, 2.04736098e+01,\n",
       "       1.85404097e+01, 1.62788697e+01, 1.23779482e+01, 7.72010337e+00,\n",
       "       1.95363897e+00, 4.48706065e-02])"
      ]
     },
     "execution_count": 48,
     "metadata": {},
     "output_type": "execute_result"
    }
   ],
   "source": [
    "s"
   ]
  },
  {
   "cell_type": "markdown",
   "metadata": {},
   "source": [
    "Looking now at the fraction of the variance captured by each principal component, we see that the top 2 or 3 principal components capture quite a lot of the variance."
   ]
  },
  {
   "cell_type": "code",
   "execution_count": 49,
   "metadata": {},
   "outputs": [
    {
     "data": {
      "text/plain": [
       "array([0.76, 0.15, 0.06, 0.01, 0.01, 0.  , 0.  , 0.  , 0.  , 0.  , 0.  ,\n",
       "       0.  , 0.  , 0.  , 0.  , 0.  , 0.  , 0.  ])"
      ]
     },
     "execution_count": 49,
     "metadata": {},
     "output_type": "execute_result"
    }
   ],
   "source": [
    "np.round(s**2 / sum(s**2), 2)"
   ]
  },
  {
   "cell_type": "markdown",
   "metadata": {},
   "source": [
    "We can also show this in the form of what is usually called a \"scree plot\"."
   ]
  },
  {
   "cell_type": "code",
   "execution_count": 50,
   "metadata": {},
   "outputs": [
    {
     "data": {
      "image/png": "[encoded data removed]",
      "text/plain": [
       "<Figure size 432x288 with 1 Axes>"
      ]
     },
     "metadata": {
      "needs_background": "light"
     },
     "output_type": "display_data"
    }
   ],
   "source": [
    "plt.plot(s**2);"
   ]
  },
  {
   "cell_type": "markdown",
   "metadata": {},
   "source": [
    "Thus, we expect that if we were to do a rank 3 approximation, we should get back data that's pretty close to where we started, as just those 3 dimensions capture 97% of the variance."
   ]
  },
  {
   "cell_type": "code",
   "execution_count": 51,
   "metadata": {},
   "outputs": [
    {
     "data": {
      "text/html": [
       "<div>\n",
       "<style scoped>\n",
       "    .dataframe tbody tr th:only-of-type {\n",
       "        vertical-align: middle;\n",
       "    }\n",
       "\n",
       "    .dataframe tbody tr th {\n",
       "        vertical-align: top;\n",
       "    }\n",
       "\n",
       "    .dataframe thead th {\n",
       "        text-align: right;\n",
       "    }\n",
       "</style>\n",
       "<table border=\"1\" class=\"dataframe\">\n",
       "  <thead>\n",
       "    <tr style=\"text-align: right;\">\n",
       "      <th></th>\n",
       "      <th>% brozek fat</th>\n",
       "      <th>% siri fat</th>\n",
       "      <th>density</th>\n",
       "      <th>age</th>\n",
       "      <th>weight</th>\n",
       "      <th>height</th>\n",
       "      <th>adiposity</th>\n",
       "      <th>fat free weight</th>\n",
       "      <th>neck</th>\n",
       "      <th>chest</th>\n",
       "      <th>abdomen</th>\n",
       "      <th>hip</th>\n",
       "      <th>thigh</th>\n",
       "      <th>knee</th>\n",
       "      <th>ankle</th>\n",
       "      <th>bicep</th>\n",
       "      <th>forearm</th>\n",
       "      <th>wrist</th>\n",
       "    </tr>\n",
       "  </thead>\n",
       "  <tbody>\n",
       "    <tr>\n",
       "      <th>0</th>\n",
       "      <td>13.732084</td>\n",
       "      <td>13.499443</td>\n",
       "      <td>1.067647</td>\n",
       "      <td>23.406671</td>\n",
       "      <td>155.524219</td>\n",
       "      <td>69.685017</td>\n",
       "      <td>22.382014</td>\n",
       "      <td>134.660313</td>\n",
       "      <td>35.750451</td>\n",
       "      <td>92.404761</td>\n",
       "      <td>81.663261</td>\n",
       "      <td>95.367676</td>\n",
       "      <td>57.832005</td>\n",
       "      <td>36.807149</td>\n",
       "      <td>22.471102</td>\n",
       "      <td>30.513755</td>\n",
       "      <td>27.871398</td>\n",
       "      <td>17.221299</td>\n",
       "    </tr>\n",
       "    <tr>\n",
       "      <th>1</th>\n",
       "      <td>6.949481</td>\n",
       "      <td>6.177696</td>\n",
       "      <td>1.084653</td>\n",
       "      <td>22.136786</td>\n",
       "      <td>173.262498</td>\n",
       "      <td>72.818426</td>\n",
       "      <td>22.848506</td>\n",
       "      <td>161.108343</td>\n",
       "      <td>37.281215</td>\n",
       "      <td>94.764794</td>\n",
       "      <td>81.952662</td>\n",
       "      <td>98.256188</td>\n",
       "      <td>59.629903</td>\n",
       "      <td>38.251464</td>\n",
       "      <td>23.494178</td>\n",
       "      <td>31.990484</td>\n",
       "      <td>28.799694</td>\n",
       "      <td>18.014750</td>\n",
       "    </tr>\n",
       "    <tr>\n",
       "      <th>2</th>\n",
       "      <td>24.388640</td>\n",
       "      <td>24.995400</td>\n",
       "      <td>1.041272</td>\n",
       "      <td>22.012988</td>\n",
       "      <td>155.515375</td>\n",
       "      <td>66.961498</td>\n",
       "      <td>24.013328</td>\n",
       "      <td>115.107332</td>\n",
       "      <td>35.327536</td>\n",
       "      <td>94.623409</td>\n",
       "      <td>87.487254</td>\n",
       "      <td>96.824325</td>\n",
       "      <td>59.191562</td>\n",
       "      <td>36.564650</td>\n",
       "      <td>22.049234</td>\n",
       "      <td>30.526265</td>\n",
       "      <td>27.727128</td>\n",
       "      <td>16.734867</td>\n",
       "    </tr>\n",
       "    <tr>\n",
       "      <th>3</th>\n",
       "      <td>10.535884</td>\n",
       "      <td>10.053321</td>\n",
       "      <td>1.076052</td>\n",
       "      <td>26.287526</td>\n",
       "      <td>185.315285</td>\n",
       "      <td>72.840641</td>\n",
       "      <td>24.486712</td>\n",
       "      <td>164.078362</td>\n",
       "      <td>38.187196</td>\n",
       "      <td>98.649630</td>\n",
       "      <td>87.304458</td>\n",
       "      <td>101.045858</td>\n",
       "      <td>61.263963</td>\n",
       "      <td>39.095345</td>\n",
       "      <td>23.826619</td>\n",
       "      <td>32.953935</td>\n",
       "      <td>29.261160</td>\n",
       "      <td>18.327856</td>\n",
       "    </tr>\n",
       "    <tr>\n",
       "      <th>4</th>\n",
       "      <td>27.324362</td>\n",
       "      <td>28.164091</td>\n",
       "      <td>1.034484</td>\n",
       "      <td>23.983222</td>\n",
       "      <td>184.352508</td>\n",
       "      <td>68.475540</td>\n",
       "      <td>26.973751</td>\n",
       "      <td>132.523943</td>\n",
       "      <td>37.446408</td>\n",
       "      <td>101.921954</td>\n",
       "      <td>96.240973</td>\n",
       "      <td>103.147363</td>\n",
       "      <td>63.286670</td>\n",
       "      <td>38.642499</td>\n",
       "      <td>23.123048</td>\n",
       "      <td>32.896046</td>\n",
       "      <td>28.991277</td>\n",
       "      <td>17.530191</td>\n",
       "    </tr>\n",
       "  </tbody>\n",
       "</table>\n",
       "</div>"
      ],
      "text/plain": [
       "   % brozek fat  % siri fat   density        age      weight     height  \\\n",
       "0     13.732084   13.499443  1.067647  23.406671  155.524219  69.685017   \n",
       "1      6.949481    6.177696  1.084653  22.136786  173.262498  72.818426   \n",
       "2     24.388640   24.995400  1.041272  22.012988  155.515375  66.961498   \n",
       "3     10.535884   10.053321  1.076052  26.287526  185.315285  72.840641   \n",
       "4     27.324362   28.164091  1.034484  23.983222  184.352508  68.475540   \n",
       "\n",
       "   adiposity  fat free weight       neck       chest    abdomen         hip  \\\n",
       "0  22.382014       134.660313  35.750451   92.404761  81.663261   95.367676   \n",
       "1  22.848506       161.108343  37.281215   94.764794  81.952662   98.256188   \n",
       "2  24.013328       115.107332  35.327536   94.623409  87.487254   96.824325   \n",
       "3  24.486712       164.078362  38.187196   98.649630  87.304458  101.045858   \n",
       "4  26.973751       132.523943  37.446408  101.921954  96.240973  103.147363   \n",
       "\n",
       "       thigh       knee      ankle      bicep    forearm      wrist  \n",
       "0  57.832005  36.807149  22.471102  30.513755  27.871398  17.221299  \n",
       "1  59.629903  38.251464  23.494178  31.990484  28.799694  18.014750  \n",
       "2  59.191562  36.564650  22.049234  30.526265  27.727128  16.734867  \n",
       "3  61.263963  39.095345  23.826619  32.953935  29.261160  18.327856  \n",
       "4  63.286670  38.642499  23.123048  32.896046  28.991277  17.530191  "
      ]
     },
     "execution_count": 51,
     "metadata": {},
     "output_type": "execute_result"
    }
   ],
   "source": [
    "body_data_rank_3_approximation = compute_rank_k_approximation(body_data_centered, 3) +  np.mean(body_data, axis = 0)\n",
    "body_data_rank_3_approximation.head(5)"
   ]
  },
  {
   "cell_type": "code",
   "execution_count": 52,
   "metadata": {
    "scrolled": true
   },
   "outputs": [
    {
     "data": {
      "text/html": [
       "<div>\n",
       "<style scoped>\n",
       "    .dataframe tbody tr th:only-of-type {\n",
       "        vertical-align: middle;\n",
       "    }\n",
       "\n",
       "    .dataframe tbody tr th {\n",
       "        vertical-align: top;\n",
       "    }\n",
       "\n",
       "    .dataframe thead th {\n",
       "        text-align: right;\n",
       "    }\n",
       "</style>\n",
       "<table border=\"1\" class=\"dataframe\">\n",
       "  <thead>\n",
       "    <tr style=\"text-align: right;\">\n",
       "      <th></th>\n",
       "      <th>% brozek fat</th>\n",
       "      <th>% siri fat</th>\n",
       "      <th>density</th>\n",
       "      <th>age</th>\n",
       "      <th>weight</th>\n",
       "      <th>height</th>\n",
       "      <th>adiposity</th>\n",
       "      <th>fat free weight</th>\n",
       "      <th>neck</th>\n",
       "      <th>chest</th>\n",
       "      <th>abdomen</th>\n",
       "      <th>hip</th>\n",
       "      <th>thigh</th>\n",
       "      <th>knee</th>\n",
       "      <th>ankle</th>\n",
       "      <th>bicep</th>\n",
       "      <th>forearm</th>\n",
       "      <th>wrist</th>\n",
       "    </tr>\n",
       "  </thead>\n",
       "  <tbody>\n",
       "    <tr>\n",
       "      <th>0</th>\n",
       "      <td>12.6</td>\n",
       "      <td>12.3</td>\n",
       "      <td>1.0708</td>\n",
       "      <td>23</td>\n",
       "      <td>154.25</td>\n",
       "      <td>67.75</td>\n",
       "      <td>23.7</td>\n",
       "      <td>134.9</td>\n",
       "      <td>36.2</td>\n",
       "      <td>93.1</td>\n",
       "      <td>85.2</td>\n",
       "      <td>94.5</td>\n",
       "      <td>59.0</td>\n",
       "      <td>37.3</td>\n",
       "      <td>21.9</td>\n",
       "      <td>32.0</td>\n",
       "      <td>27.4</td>\n",
       "      <td>17.1</td>\n",
       "    </tr>\n",
       "    <tr>\n",
       "      <th>1</th>\n",
       "      <td>6.9</td>\n",
       "      <td>6.1</td>\n",
       "      <td>1.0853</td>\n",
       "      <td>22</td>\n",
       "      <td>173.25</td>\n",
       "      <td>72.25</td>\n",
       "      <td>23.4</td>\n",
       "      <td>161.3</td>\n",
       "      <td>38.5</td>\n",
       "      <td>93.6</td>\n",
       "      <td>83.0</td>\n",
       "      <td>98.7</td>\n",
       "      <td>58.7</td>\n",
       "      <td>37.3</td>\n",
       "      <td>23.4</td>\n",
       "      <td>30.5</td>\n",
       "      <td>28.9</td>\n",
       "      <td>18.2</td>\n",
       "    </tr>\n",
       "    <tr>\n",
       "      <th>2</th>\n",
       "      <td>24.6</td>\n",
       "      <td>25.3</td>\n",
       "      <td>1.0414</td>\n",
       "      <td>22</td>\n",
       "      <td>154.00</td>\n",
       "      <td>66.25</td>\n",
       "      <td>24.7</td>\n",
       "      <td>116.0</td>\n",
       "      <td>34.0</td>\n",
       "      <td>95.8</td>\n",
       "      <td>87.9</td>\n",
       "      <td>99.2</td>\n",
       "      <td>59.6</td>\n",
       "      <td>38.9</td>\n",
       "      <td>24.0</td>\n",
       "      <td>28.8</td>\n",
       "      <td>25.2</td>\n",
       "      <td>16.6</td>\n",
       "    </tr>\n",
       "    <tr>\n",
       "      <th>3</th>\n",
       "      <td>10.9</td>\n",
       "      <td>10.4</td>\n",
       "      <td>1.0751</td>\n",
       "      <td>26</td>\n",
       "      <td>184.75</td>\n",
       "      <td>72.25</td>\n",
       "      <td>24.9</td>\n",
       "      <td>164.7</td>\n",
       "      <td>37.4</td>\n",
       "      <td>101.8</td>\n",
       "      <td>86.4</td>\n",
       "      <td>101.2</td>\n",
       "      <td>60.1</td>\n",
       "      <td>37.3</td>\n",
       "      <td>22.8</td>\n",
       "      <td>32.4</td>\n",
       "      <td>29.4</td>\n",
       "      <td>18.2</td>\n",
       "    </tr>\n",
       "    <tr>\n",
       "      <th>4</th>\n",
       "      <td>27.8</td>\n",
       "      <td>28.7</td>\n",
       "      <td>1.0340</td>\n",
       "      <td>24</td>\n",
       "      <td>184.25</td>\n",
       "      <td>71.25</td>\n",
       "      <td>25.6</td>\n",
       "      <td>133.1</td>\n",
       "      <td>34.4</td>\n",
       "      <td>97.3</td>\n",
       "      <td>100.0</td>\n",
       "      <td>101.9</td>\n",
       "      <td>63.2</td>\n",
       "      <td>42.2</td>\n",
       "      <td>24.0</td>\n",
       "      <td>32.2</td>\n",
       "      <td>27.7</td>\n",
       "      <td>17.7</td>\n",
       "    </tr>\n",
       "  </tbody>\n",
       "</table>\n",
       "</div>"
      ],
      "text/plain": [
       "   % brozek fat  % siri fat  density  age  weight  height  adiposity  \\\n",
       "0          12.6        12.3   1.0708   23  154.25   67.75       23.7   \n",
       "1           6.9         6.1   1.0853   22  173.25   72.25       23.4   \n",
       "2          24.6        25.3   1.0414   22  154.00   66.25       24.7   \n",
       "3          10.9        10.4   1.0751   26  184.75   72.25       24.9   \n",
       "4          27.8        28.7   1.0340   24  184.25   71.25       25.6   \n",
       "\n",
       "   fat free weight  neck  chest  abdomen    hip  thigh  knee  ankle  bicep  \\\n",
       "0            134.9  36.2   93.1     85.2   94.5   59.0  37.3   21.9   32.0   \n",
       "1            161.3  38.5   93.6     83.0   98.7   58.7  37.3   23.4   30.5   \n",
       "2            116.0  34.0   95.8     87.9   99.2   59.6  38.9   24.0   28.8   \n",
       "3            164.7  37.4  101.8     86.4  101.2   60.1  37.3   22.8   32.4   \n",
       "4            133.1  34.4   97.3    100.0  101.9   63.2  42.2   24.0   32.2   \n",
       "\n",
       "   forearm  wrist  \n",
       "0     27.4   17.1  \n",
       "1     28.9   18.2  \n",
       "2     25.2   16.6  \n",
       "3     29.4   18.2  \n",
       "4     27.7   17.7  "
      ]
     },
     "execution_count": 52,
     "metadata": {},
     "output_type": "execute_result"
    }
   ],
   "source": [
    "body_data.head(5)"
   ]
  },
  {
   "cell_type": "markdown",
   "metadata": {},
   "source": [
    "One very interesting thing we can do is try to plot the principal components themselves. In this case, let's plot only the first two."
   ]
  },
  {
   "cell_type": "code",
   "execution_count": 53,
   "metadata": {},
   "outputs": [
    {
     "data": {
      "image/png": "[encoded data removed]",
      "text/plain": [
       "<Figure size 432x288 with 1 Axes>"
      ]
     },
     "metadata": {
      "needs_background": "light"
     },
     "output_type": "display_data"
    }
   ],
   "source": [
    "u, s, vt = np.linalg.svd(body_data_centered, full_matrices = False)\n",
    "pcs = u * s\n",
    "sns.scatterplot(x=pcs[:, 0], y=pcs[:, 1]);"
   ]
  },
  {
   "cell_type": "code",
   "execution_count": 54,
   "metadata": {},
   "outputs": [
    {
     "data": {
      "text/plain": [
       "38"
      ]
     },
     "execution_count": 54,
     "metadata": {},
     "output_type": "execute_result"
    }
   ],
   "source": [
    "np.argmax(pcs[:, 0])"
   ]
  },
  {
   "cell_type": "code",
   "execution_count": 55,
   "metadata": {
    "scrolled": true
   },
   "outputs": [
    {
     "data": {
      "text/plain": [
       "% brozek fat        33.8000\n",
       "% siri fat          35.2000\n",
       "density              1.0202\n",
       "age                 46.0000\n",
       "weight             363.1500\n",
       "height              72.2500\n",
       "adiposity           48.9000\n",
       "fat free weight    240.5000\n",
       "neck                51.2000\n",
       "chest              136.2000\n",
       "abdomen            148.1000\n",
       "hip                147.7000\n",
       "thigh               87.3000\n",
       "knee                49.1000\n",
       "ankle               29.6000\n",
       "bicep               45.0000\n",
       "forearm             29.0000\n",
       "wrist               21.4000\n",
       "Name: 38, dtype: float64"
      ]
     },
     "execution_count": 55,
     "metadata": {},
     "output_type": "execute_result"
    }
   ],
   "source": [
    "body_data.iloc[38, :]"
   ]
  },
  {
   "cell_type": "markdown",
   "metadata": {},
   "source": [
    "## Election Data"
   ]
  },
  {
   "cell_type": "code",
   "execution_count": 56,
   "metadata": {},
   "outputs": [
    {
     "name": "stdout",
     "output_type": "stream",
     "text": [
      "Downloading... Done!\n"
     ]
    },
    {
     "name": "stderr",
     "output_type": "stream",
     "text": [
      "/srv/conda/envs/data100/lib/python3.7/site-packages/ipykernel_launcher.py:9: YAMLLoadWarning: calling yaml.load() without Loader=... is deprecated, as the default Loader is unsafe. Please read https://msg.pyyaml.org/load for full details.\n",
      "  if __name__ == '__main__':\n"
     ]
    },
    {
     "data": {
      "text/html": [
       "<div>\n",
       "<style scoped>\n",
       "    .dataframe tbody tr th:only-of-type {\n",
       "        vertical-align: middle;\n",
       "    }\n",
       "\n",
       "    .dataframe tbody tr th {\n",
       "        vertical-align: top;\n",
       "    }\n",
       "\n",
       "    .dataframe thead th {\n",
       "        text-align: right;\n",
       "    }\n",
       "</style>\n",
       "<table border=\"1\" class=\"dataframe\">\n",
       "  <thead>\n",
       "    <tr style=\"text-align: right;\">\n",
       "      <th></th>\n",
       "      <th>leg_id</th>\n",
       "      <th>first</th>\n",
       "      <th>last</th>\n",
       "      <th>gender</th>\n",
       "      <th>state</th>\n",
       "      <th>chamber</th>\n",
       "      <th>party</th>\n",
       "      <th>birthday</th>\n",
       "    </tr>\n",
       "  </thead>\n",
       "  <tbody>\n",
       "    <tr>\n",
       "      <th>0</th>\n",
       "      <td>B000944</td>\n",
       "      <td>Sherrod</td>\n",
       "      <td>Brown</td>\n",
       "      <td>M</td>\n",
       "      <td>OH</td>\n",
       "      <td>sen</td>\n",
       "      <td>Democrat</td>\n",
       "      <td>1952-11-09</td>\n",
       "    </tr>\n",
       "    <tr>\n",
       "      <th>1</th>\n",
       "      <td>C000127</td>\n",
       "      <td>Maria</td>\n",
       "      <td>Cantwell</td>\n",
       "      <td>F</td>\n",
       "      <td>WA</td>\n",
       "      <td>sen</td>\n",
       "      <td>Democrat</td>\n",
       "      <td>1958-10-13</td>\n",
       "    </tr>\n",
       "    <tr>\n",
       "      <th>2</th>\n",
       "      <td>C000141</td>\n",
       "      <td>Benjamin</td>\n",
       "      <td>Cardin</td>\n",
       "      <td>M</td>\n",
       "      <td>MD</td>\n",
       "      <td>sen</td>\n",
       "      <td>Democrat</td>\n",
       "      <td>1943-10-05</td>\n",
       "    </tr>\n",
       "  </tbody>\n",
       "</table>\n",
       "</div>"
      ],
      "text/plain": [
       "    leg_id     first      last gender state chamber     party   birthday\n",
       "0  B000944   Sherrod     Brown      M    OH     sen  Democrat 1952-11-09\n",
       "1  C000127     Maria  Cantwell      F    WA     sen  Democrat 1958-10-13\n",
       "2  C000141  Benjamin    Cardin      M    MD     sen  Democrat 1943-10-05"
      ]
     },
     "execution_count": 56,
     "metadata": {},
     "output_type": "execute_result"
    }
   ],
   "source": [
    "from ds100_utils import fetch_and_cache\n",
    "import yaml\n",
    "from datetime import datetime\n",
    "\n",
    "\n",
    "base_url = 'https://github.com/unitedstates/congress-legislators/raw/master/'\n",
    "legislators_path = 'legislators-current.yaml'\n",
    "f = fetch_and_cache(base_url + legislators_path, legislators_path)\n",
    "legislators_data = yaml.load(open(f))\n",
    "\n",
    "def to_date(s):\n",
    "    return datetime.strptime(s, '%Y-%m-%d')\n",
    "\n",
    "legs = pd.DataFrame(\n",
    "    columns=['leg_id', 'first', 'last', 'gender', 'state', 'chamber', 'party', 'birthday'],\n",
    "    data=[[x['id']['bioguide'], \n",
    "           x['name']['first'],\n",
    "           x['name']['last'],\n",
    "           x['bio']['gender'],\n",
    "           x['terms'][-1]['state'],\n",
    "           x['terms'][-1]['type'],\n",
    "           x['terms'][-1]['party'],\n",
    "           to_date(x['bio']['birthday'])] for x in legislators_data])\n",
    "\n",
    "legs.head(3)"
   ]
  },
  {
   "cell_type": "code",
   "execution_count": 57,
   "metadata": {},
   "outputs": [
    {
     "data": {
      "text/html": [
       "<div>\n",
       "<style scoped>\n",
       "    .dataframe tbody tr th:only-of-type {\n",
       "        vertical-align: middle;\n",
       "    }\n",
       "\n",
       "    .dataframe tbody tr th {\n",
       "        vertical-align: top;\n",
       "    }\n",
       "\n",
       "    .dataframe thead th {\n",
       "        text-align: right;\n",
       "    }\n",
       "</style>\n",
       "<table border=\"1\" class=\"dataframe\">\n",
       "  <thead>\n",
       "    <tr style=\"text-align: right;\">\n",
       "      <th></th>\n",
       "      <th>chamber</th>\n",
       "      <th>session</th>\n",
       "      <th>roll call</th>\n",
       "      <th>member</th>\n",
       "      <th>vote</th>\n",
       "    </tr>\n",
       "  </thead>\n",
       "  <tbody>\n",
       "    <tr>\n",
       "      <th>0</th>\n",
       "      <td>House</td>\n",
       "      <td>1</td>\n",
       "      <td>555</td>\n",
       "      <td>A000374</td>\n",
       "      <td>Not Voting</td>\n",
       "    </tr>\n",
       "    <tr>\n",
       "      <th>1</th>\n",
       "      <td>House</td>\n",
       "      <td>1</td>\n",
       "      <td>555</td>\n",
       "      <td>A000370</td>\n",
       "      <td>Yes</td>\n",
       "    </tr>\n",
       "    <tr>\n",
       "      <th>2</th>\n",
       "      <td>House</td>\n",
       "      <td>1</td>\n",
       "      <td>555</td>\n",
       "      <td>A000055</td>\n",
       "      <td>No</td>\n",
       "    </tr>\n",
       "    <tr>\n",
       "      <th>3</th>\n",
       "      <td>House</td>\n",
       "      <td>1</td>\n",
       "      <td>555</td>\n",
       "      <td>A000371</td>\n",
       "      <td>Yes</td>\n",
       "    </tr>\n",
       "    <tr>\n",
       "      <th>4</th>\n",
       "      <td>House</td>\n",
       "      <td>1</td>\n",
       "      <td>555</td>\n",
       "      <td>A000372</td>\n",
       "      <td>No</td>\n",
       "    </tr>\n",
       "  </tbody>\n",
       "</table>\n",
       "</div>"
      ],
      "text/plain": [
       "  chamber  session roll call   member        vote\n",
       "0   House        1       555  A000374  Not Voting\n",
       "1   House        1       555  A000370         Yes\n",
       "2   House        1       555  A000055          No\n",
       "3   House        1       555  A000371         Yes\n",
       "4   House        1       555  A000372          No"
      ]
     },
     "execution_count": 57,
     "metadata": {},
     "output_type": "execute_result"
    }
   ],
   "source": [
    "# February 2019 House of Representatives roll call votes\n",
    "# Downloaded using https://github.com/eyeseast/propublica-congress\n",
    "votes = pd.read_csv('votes.csv')\n",
    "votes = votes.astype({\"roll call\": str}) \n",
    "votes.head()"
   ]
  },
  {
   "cell_type": "code",
   "execution_count": 58,
   "metadata": {},
   "outputs": [
    {
     "name": "stdout",
     "output_type": "stream",
     "text": [
      "(441, 41)\n"
     ]
    },
    {
     "data": {
      "text/html": [
       "<div>\n",
       "<style scoped>\n",
       "    .dataframe tbody tr th:only-of-type {\n",
       "        vertical-align: middle;\n",
       "    }\n",
       "\n",
       "    .dataframe tbody tr th {\n",
       "        vertical-align: top;\n",
       "    }\n",
       "\n",
       "    .dataframe thead th {\n",
       "        text-align: right;\n",
       "    }\n",
       "</style>\n",
       "<table border=\"1\" class=\"dataframe\">\n",
       "  <thead>\n",
       "    <tr style=\"text-align: right;\">\n",
       "      <th>roll call</th>\n",
       "      <th>515</th>\n",
       "      <th>516</th>\n",
       "      <th>517</th>\n",
       "      <th>518</th>\n",
       "      <th>519</th>\n",
       "      <th>520</th>\n",
       "      <th>521</th>\n",
       "      <th>522</th>\n",
       "      <th>523</th>\n",
       "      <th>524</th>\n",
       "      <th>...</th>\n",
       "      <th>546</th>\n",
       "      <th>547</th>\n",
       "      <th>548</th>\n",
       "      <th>549</th>\n",
       "      <th>550</th>\n",
       "      <th>551</th>\n",
       "      <th>552</th>\n",
       "      <th>553</th>\n",
       "      <th>554</th>\n",
       "      <th>555</th>\n",
       "    </tr>\n",
       "    <tr>\n",
       "      <th>member</th>\n",
       "      <th></th>\n",
       "      <th></th>\n",
       "      <th></th>\n",
       "      <th></th>\n",
       "      <th></th>\n",
       "      <th></th>\n",
       "      <th></th>\n",
       "      <th></th>\n",
       "      <th></th>\n",
       "      <th></th>\n",
       "      <th></th>\n",
       "      <th></th>\n",
       "      <th></th>\n",
       "      <th></th>\n",
       "      <th></th>\n",
       "      <th></th>\n",
       "      <th></th>\n",
       "      <th></th>\n",
       "      <th></th>\n",
       "      <th></th>\n",
       "      <th></th>\n",
       "    </tr>\n",
       "  </thead>\n",
       "  <tbody>\n",
       "    <tr>\n",
       "      <th>A000055</th>\n",
       "      <td>1</td>\n",
       "      <td>0</td>\n",
       "      <td>0</td>\n",
       "      <td>0</td>\n",
       "      <td>1</td>\n",
       "      <td>1</td>\n",
       "      <td>0</td>\n",
       "      <td>1</td>\n",
       "      <td>1</td>\n",
       "      <td>1</td>\n",
       "      <td>...</td>\n",
       "      <td>0</td>\n",
       "      <td>0</td>\n",
       "      <td>1</td>\n",
       "      <td>0</td>\n",
       "      <td>0</td>\n",
       "      <td>1</td>\n",
       "      <td>0</td>\n",
       "      <td>0</td>\n",
       "      <td>1</td>\n",
       "      <td>0</td>\n",
       "    </tr>\n",
       "    <tr>\n",
       "      <th>A000367</th>\n",
       "      <td>0</td>\n",
       "      <td>0</td>\n",
       "      <td>0</td>\n",
       "      <td>0</td>\n",
       "      <td>0</td>\n",
       "      <td>0</td>\n",
       "      <td>0</td>\n",
       "      <td>0</td>\n",
       "      <td>0</td>\n",
       "      <td>0</td>\n",
       "      <td>...</td>\n",
       "      <td>0</td>\n",
       "      <td>1</td>\n",
       "      <td>1</td>\n",
       "      <td>1</td>\n",
       "      <td>1</td>\n",
       "      <td>0</td>\n",
       "      <td>1</td>\n",
       "      <td>1</td>\n",
       "      <td>0</td>\n",
       "      <td>1</td>\n",
       "    </tr>\n",
       "    <tr>\n",
       "      <th>A000369</th>\n",
       "      <td>1</td>\n",
       "      <td>1</td>\n",
       "      <td>0</td>\n",
       "      <td>0</td>\n",
       "      <td>1</td>\n",
       "      <td>1</td>\n",
       "      <td>0</td>\n",
       "      <td>1</td>\n",
       "      <td>1</td>\n",
       "      <td>1</td>\n",
       "      <td>...</td>\n",
       "      <td>0</td>\n",
       "      <td>0</td>\n",
       "      <td>1</td>\n",
       "      <td>0</td>\n",
       "      <td>0</td>\n",
       "      <td>1</td>\n",
       "      <td>0</td>\n",
       "      <td>0</td>\n",
       "      <td>1</td>\n",
       "      <td>0</td>\n",
       "    </tr>\n",
       "    <tr>\n",
       "      <th>A000370</th>\n",
       "      <td>1</td>\n",
       "      <td>1</td>\n",
       "      <td>1</td>\n",
       "      <td>1</td>\n",
       "      <td>1</td>\n",
       "      <td>0</td>\n",
       "      <td>1</td>\n",
       "      <td>0</td>\n",
       "      <td>0</td>\n",
       "      <td>0</td>\n",
       "      <td>...</td>\n",
       "      <td>1</td>\n",
       "      <td>1</td>\n",
       "      <td>1</td>\n",
       "      <td>1</td>\n",
       "      <td>1</td>\n",
       "      <td>0</td>\n",
       "      <td>1</td>\n",
       "      <td>1</td>\n",
       "      <td>1</td>\n",
       "      <td>1</td>\n",
       "    </tr>\n",
       "    <tr>\n",
       "      <th>A000371</th>\n",
       "      <td>1</td>\n",
       "      <td>1</td>\n",
       "      <td>1</td>\n",
       "      <td>1</td>\n",
       "      <td>1</td>\n",
       "      <td>0</td>\n",
       "      <td>1</td>\n",
       "      <td>0</td>\n",
       "      <td>0</td>\n",
       "      <td>0</td>\n",
       "      <td>...</td>\n",
       "      <td>1</td>\n",
       "      <td>1</td>\n",
       "      <td>1</td>\n",
       "      <td>1</td>\n",
       "      <td>1</td>\n",
       "      <td>0</td>\n",
       "      <td>1</td>\n",
       "      <td>1</td>\n",
       "      <td>1</td>\n",
       "      <td>1</td>\n",
       "    </tr>\n",
       "  </tbody>\n",
       "</table>\n",
       "<p>5 rows × 41 columns</p>\n",
       "</div>"
      ],
      "text/plain": [
       "roll call  515  516  517  518  519  520  521  522  523  524  ...  546  547  \\\n",
       "member                                                       ...             \n",
       "A000055      1    0    0    0    1    1    0    1    1    1  ...    0    0   \n",
       "A000367      0    0    0    0    0    0    0    0    0    0  ...    0    1   \n",
       "A000369      1    1    0    0    1    1    0    1    1    1  ...    0    0   \n",
       "A000370      1    1    1    1    1    0    1    0    0    0  ...    1    1   \n",
       "A000371      1    1    1    1    1    0    1    0    0    0  ...    1    1   \n",
       "\n",
       "roll call  548  549  550  551  552  553  554  555  \n",
       "member                                             \n",
       "A000055      1    0    0    1    0    0    1    0  \n",
       "A000367      1    1    1    0    1    1    0    1  \n",
       "A000369      1    0    0    1    0    0    1    0  \n",
       "A000370      1    1    1    0    1    1    1    1  \n",
       "A000371      1    1    1    0    1    1    1    1  \n",
       "\n",
       "[5 rows x 41 columns]"
      ]
     },
     "execution_count": 58,
     "metadata": {},
     "output_type": "execute_result"
    }
   ],
   "source": [
    "def was_yes(s):\n",
    "    if s.iloc[0] == 'Yes':\n",
    "        return 1\n",
    "    else:\n",
    "        return 0\n",
    "    \n",
    "vote_pivot = votes.pivot_table(index='member', \n",
    "                                columns='roll call', \n",
    "                                values='vote', \n",
    "                                aggfunc=was_yes, \n",
    "                                fill_value=0)\n",
    "print(vote_pivot.shape)\n",
    "vote_pivot.head()    "
   ]
  },
  {
   "cell_type": "code",
   "execution_count": 59,
   "metadata": {},
   "outputs": [
    {
     "data": {
      "text/html": [
       "<div>\n",
       "<style scoped>\n",
       "    .dataframe tbody tr th:only-of-type {\n",
       "        vertical-align: middle;\n",
       "    }\n",
       "\n",
       "    .dataframe tbody tr th {\n",
       "        vertical-align: top;\n",
       "    }\n",
       "\n",
       "    .dataframe thead th {\n",
       "        text-align: right;\n",
       "    }\n",
       "</style>\n",
       "<table border=\"1\" class=\"dataframe\">\n",
       "  <thead>\n",
       "    <tr style=\"text-align: right;\">\n",
       "      <th>roll call</th>\n",
       "      <th>515</th>\n",
       "      <th>516</th>\n",
       "      <th>517</th>\n",
       "      <th>518</th>\n",
       "      <th>519</th>\n",
       "      <th>520</th>\n",
       "      <th>521</th>\n",
       "      <th>522</th>\n",
       "      <th>523</th>\n",
       "      <th>524</th>\n",
       "      <th>...</th>\n",
       "      <th>546</th>\n",
       "      <th>547</th>\n",
       "      <th>548</th>\n",
       "      <th>549</th>\n",
       "      <th>550</th>\n",
       "      <th>551</th>\n",
       "      <th>552</th>\n",
       "      <th>553</th>\n",
       "      <th>554</th>\n",
       "      <th>555</th>\n",
       "    </tr>\n",
       "    <tr>\n",
       "      <th>member</th>\n",
       "      <th></th>\n",
       "      <th></th>\n",
       "      <th></th>\n",
       "      <th></th>\n",
       "      <th></th>\n",
       "      <th></th>\n",
       "      <th></th>\n",
       "      <th></th>\n",
       "      <th></th>\n",
       "      <th></th>\n",
       "      <th></th>\n",
       "      <th></th>\n",
       "      <th></th>\n",
       "      <th></th>\n",
       "      <th></th>\n",
       "      <th></th>\n",
       "      <th></th>\n",
       "      <th></th>\n",
       "      <th></th>\n",
       "      <th></th>\n",
       "      <th></th>\n",
       "    </tr>\n",
       "  </thead>\n",
       "  <tbody>\n",
       "    <tr>\n",
       "      <th>A000055</th>\n",
       "      <td>0.129252</td>\n",
       "      <td>-0.668934</td>\n",
       "      <td>-0.526077</td>\n",
       "      <td>-0.52381</td>\n",
       "      <td>0.049887</td>\n",
       "      <td>0.587302</td>\n",
       "      <td>-0.562358</td>\n",
       "      <td>0.634921</td>\n",
       "      <td>0.594104</td>\n",
       "      <td>0.560091</td>\n",
       "      <td>...</td>\n",
       "      <td>-0.521542</td>\n",
       "      <td>-0.526077</td>\n",
       "      <td>0.045351</td>\n",
       "      <td>-0.521542</td>\n",
       "      <td>-0.519274</td>\n",
       "      <td>0.54195</td>\n",
       "      <td>-0.521542</td>\n",
       "      <td>-0.535147</td>\n",
       "      <td>0.086168</td>\n",
       "      <td>-0.503401</td>\n",
       "    </tr>\n",
       "    <tr>\n",
       "      <th>A000367</th>\n",
       "      <td>-0.870748</td>\n",
       "      <td>-0.668934</td>\n",
       "      <td>-0.526077</td>\n",
       "      <td>-0.52381</td>\n",
       "      <td>-0.950113</td>\n",
       "      <td>-0.412698</td>\n",
       "      <td>-0.562358</td>\n",
       "      <td>-0.365079</td>\n",
       "      <td>-0.405896</td>\n",
       "      <td>-0.439909</td>\n",
       "      <td>...</td>\n",
       "      <td>-0.521542</td>\n",
       "      <td>0.473923</td>\n",
       "      <td>0.045351</td>\n",
       "      <td>0.478458</td>\n",
       "      <td>0.480726</td>\n",
       "      <td>-0.45805</td>\n",
       "      <td>0.478458</td>\n",
       "      <td>0.464853</td>\n",
       "      <td>-0.913832</td>\n",
       "      <td>0.496599</td>\n",
       "    </tr>\n",
       "    <tr>\n",
       "      <th>A000369</th>\n",
       "      <td>0.129252</td>\n",
       "      <td>0.331066</td>\n",
       "      <td>-0.526077</td>\n",
       "      <td>-0.52381</td>\n",
       "      <td>0.049887</td>\n",
       "      <td>0.587302</td>\n",
       "      <td>-0.562358</td>\n",
       "      <td>0.634921</td>\n",
       "      <td>0.594104</td>\n",
       "      <td>0.560091</td>\n",
       "      <td>...</td>\n",
       "      <td>-0.521542</td>\n",
       "      <td>-0.526077</td>\n",
       "      <td>0.045351</td>\n",
       "      <td>-0.521542</td>\n",
       "      <td>-0.519274</td>\n",
       "      <td>0.54195</td>\n",
       "      <td>-0.521542</td>\n",
       "      <td>-0.535147</td>\n",
       "      <td>0.086168</td>\n",
       "      <td>-0.503401</td>\n",
       "    </tr>\n",
       "    <tr>\n",
       "      <th>A000370</th>\n",
       "      <td>0.129252</td>\n",
       "      <td>0.331066</td>\n",
       "      <td>0.473923</td>\n",
       "      <td>0.47619</td>\n",
       "      <td>0.049887</td>\n",
       "      <td>-0.412698</td>\n",
       "      <td>0.437642</td>\n",
       "      <td>-0.365079</td>\n",
       "      <td>-0.405896</td>\n",
       "      <td>-0.439909</td>\n",
       "      <td>...</td>\n",
       "      <td>0.478458</td>\n",
       "      <td>0.473923</td>\n",
       "      <td>0.045351</td>\n",
       "      <td>0.478458</td>\n",
       "      <td>0.480726</td>\n",
       "      <td>-0.45805</td>\n",
       "      <td>0.478458</td>\n",
       "      <td>0.464853</td>\n",
       "      <td>0.086168</td>\n",
       "      <td>0.496599</td>\n",
       "    </tr>\n",
       "    <tr>\n",
       "      <th>A000371</th>\n",
       "      <td>0.129252</td>\n",
       "      <td>0.331066</td>\n",
       "      <td>0.473923</td>\n",
       "      <td>0.47619</td>\n",
       "      <td>0.049887</td>\n",
       "      <td>-0.412698</td>\n",
       "      <td>0.437642</td>\n",
       "      <td>-0.365079</td>\n",
       "      <td>-0.405896</td>\n",
       "      <td>-0.439909</td>\n",
       "      <td>...</td>\n",
       "      <td>0.478458</td>\n",
       "      <td>0.473923</td>\n",
       "      <td>0.045351</td>\n",
       "      <td>0.478458</td>\n",
       "      <td>0.480726</td>\n",
       "      <td>-0.45805</td>\n",
       "      <td>0.478458</td>\n",
       "      <td>0.464853</td>\n",
       "      <td>0.086168</td>\n",
       "      <td>0.496599</td>\n",
       "    </tr>\n",
       "  </tbody>\n",
       "</table>\n",
       "<p>5 rows × 41 columns</p>\n",
       "</div>"
      ],
      "text/plain": [
       "roll call       515       516       517      518       519       520  \\\n",
       "member                                                                 \n",
       "A000055    0.129252 -0.668934 -0.526077 -0.52381  0.049887  0.587302   \n",
       "A000367   -0.870748 -0.668934 -0.526077 -0.52381 -0.950113 -0.412698   \n",
       "A000369    0.129252  0.331066 -0.526077 -0.52381  0.049887  0.587302   \n",
       "A000370    0.129252  0.331066  0.473923  0.47619  0.049887 -0.412698   \n",
       "A000371    0.129252  0.331066  0.473923  0.47619  0.049887 -0.412698   \n",
       "\n",
       "roll call       521       522       523       524  ...       546       547  \\\n",
       "member                                             ...                       \n",
       "A000055   -0.562358  0.634921  0.594104  0.560091  ... -0.521542 -0.526077   \n",
       "A000367   -0.562358 -0.365079 -0.405896 -0.439909  ... -0.521542  0.473923   \n",
       "A000369   -0.562358  0.634921  0.594104  0.560091  ... -0.521542 -0.526077   \n",
       "A000370    0.437642 -0.365079 -0.405896 -0.439909  ...  0.478458  0.473923   \n",
       "A000371    0.437642 -0.365079 -0.405896 -0.439909  ...  0.478458  0.473923   \n",
       "\n",
       "roll call       548       549       550      551       552       553  \\\n",
       "member                                                                 \n",
       "A000055    0.045351 -0.521542 -0.519274  0.54195 -0.521542 -0.535147   \n",
       "A000367    0.045351  0.478458  0.480726 -0.45805  0.478458  0.464853   \n",
       "A000369    0.045351 -0.521542 -0.519274  0.54195 -0.521542 -0.535147   \n",
       "A000370    0.045351  0.478458  0.480726 -0.45805  0.478458  0.464853   \n",
       "A000371    0.045351  0.478458  0.480726 -0.45805  0.478458  0.464853   \n",
       "\n",
       "roll call       554       555  \n",
       "member                         \n",
       "A000055    0.086168 -0.503401  \n",
       "A000367   -0.913832  0.496599  \n",
       "A000369    0.086168 -0.503401  \n",
       "A000370    0.086168  0.496599  \n",
       "A000371    0.086168  0.496599  \n",
       "\n",
       "[5 rows x 41 columns]"
      ]
     },
     "execution_count": 59,
     "metadata": {},
     "output_type": "execute_result"
    }
   ],
   "source": [
    "vote_pivot_centered = vote_pivot - np.mean(vote_pivot, axis = 0)\n",
    "vote_pivot_centered.head(5)"
   ]
  },
  {
   "cell_type": "code",
   "execution_count": 60,
   "metadata": {},
   "outputs": [],
   "source": [
    "u, s, vt = np.linalg.svd(vote_pivot_centered, full_matrices = False)"
   ]
  },
  {
   "cell_type": "code",
   "execution_count": 61,
   "metadata": {},
   "outputs": [
    {
     "data": {
      "text/plain": [
       "array([0.8 , 0.05, 0.02, 0.01, 0.01, 0.01, 0.01, 0.01, 0.01, 0.01, 0.01,\n",
       "       0.01, 0.  , 0.  , 0.  , 0.  , 0.  , 0.  , 0.  , 0.  , 0.  , 0.  ,\n",
       "       0.  , 0.  , 0.  , 0.  , 0.  , 0.  , 0.  , 0.  , 0.  , 0.  , 0.  ,\n",
       "       0.  , 0.  , 0.  , 0.  , 0.  , 0.  , 0.  , 0.  ])"
      ]
     },
     "execution_count": 61,
     "metadata": {},
     "output_type": "execute_result"
    }
   ],
   "source": [
    "np.round(s**2 / sum(s**2), 2)"
   ]
  },
  {
   "cell_type": "code",
   "execution_count": 62,
   "metadata": {},
   "outputs": [
    {
     "data": {
      "text/plain": [
       "[<matplotlib.lines.Line2D at 0x7fed0cb69ed0>]"
      ]
     },
     "execution_count": 62,
     "metadata": {},
     "output_type": "execute_result"
    },
    {
     "data": {
      "image/png": "[encoded data removed]",
      "text/plain": [
       "<Figure size 432x288 with 1 Axes>"
      ]
     },
     "metadata": {
      "needs_background": "light"
     },
     "output_type": "display_data"
    }
   ],
   "source": [
    "plt.plot(s**2)"
   ]
  },
  {
   "cell_type": "code",
   "execution_count": 63,
   "metadata": {},
   "outputs": [
    {
     "data": {
      "image/png": "[encoded data removed]",
      "text/plain": [
       "<Figure size 432x288 with 1 Axes>"
      ]
     },
     "metadata": {
      "needs_background": "light"
     },
     "output_type": "display_data"
    }
   ],
   "source": [
    "pcs = u * s\n",
    "sns.scatterplot(x=pcs[:, 0], y=pcs[:, 1]);"
   ]
  },
  {
   "cell_type": "code",
   "execution_count": 64,
   "metadata": {
    "scrolled": true
   },
   "outputs": [
    {
     "data": {
      "text/plain": [
       "Democrat      228\n",
       "Republican      1\n",
       "Name: party, dtype: int64"
      ]
     },
     "execution_count": 64,
     "metadata": {},
     "output_type": "execute_result"
    }
   ],
   "source": [
    "vote2d = pd.DataFrame({\n",
    "    'member': vote_pivot.index,\n",
    "    'pc1': pcs[:, 0],\n",
    "    'pc2': pcs[:, 1]\n",
    "}).merge(legs, left_on='member', right_on='leg_id')\n",
    "\n",
    "vote2d[vote2d['pc1'] < 0]['party'].value_counts()"
   ]
  },
  {
   "cell_type": "code",
   "execution_count": 65,
   "metadata": {},
   "outputs": [
    {
     "data": {
      "text/plain": [
       "Republican    191\n",
       "Name: party, dtype: int64"
      ]
     },
     "execution_count": 65,
     "metadata": {},
     "output_type": "execute_result"
    }
   ],
   "source": [
    "#top right only\n",
    "vote2d.query('pc2 > -2 and pc1 > 0')['party'].value_counts()"
   ]
  },
  {
   "cell_type": "code",
   "execution_count": 66,
   "metadata": {
    "scrolled": false
   },
   "outputs": [
    {
     "data": {
      "image/png": "[encoded data removed]",
      "text/plain": [
       "<Figure size 432x288 with 1 Axes>"
      ]
     },
     "metadata": {
      "needs_background": "light"
     },
     "output_type": "display_data"
    }
   ],
   "source": [
    "sns.scatterplot(x=\"pc1\", y=\"pc2\", hue=\"party\", data = vote2d);"
   ]
  },
  {
   "cell_type": "code",
   "execution_count": 67,
   "metadata": {},
   "outputs": [],
   "source": [
    "vote2d['pc1_jittered'] = vote2d['pc1'] + np.random.normal(loc = 0, scale = 0.1, size = vote2d.shape[0])\n",
    "vote2d['pc2_jittered'] = vote2d['pc2'] + np.random.normal(loc = 0, scale = 0.1, size = vote2d.shape[0])"
   ]
  },
  {
   "cell_type": "code",
   "execution_count": 68,
   "metadata": {},
   "outputs": [
    {
     "data": {
      "image/png": "[encoded data removed]",
      "text/plain": [
       "<Figure size 432x288 with 1 Axes>"
      ]
     },
     "metadata": {
      "needs_background": "light"
     },
     "output_type": "display_data"
    }
   ],
   "source": [
    "sns.scatterplot(x=\"pc1_jittered\", y=\"pc2_jittered\", hue=\"party\", data = vote2d);"
   ]
  },
  {
   "cell_type": "code",
   "execution_count": 69,
   "metadata": {},
   "outputs": [
    {
     "data": {
      "text/html": [
       "<div>\n",
       "<style scoped>\n",
       "    .dataframe tbody tr th:only-of-type {\n",
       "        vertical-align: middle;\n",
       "    }\n",
       "\n",
       "    .dataframe tbody tr th {\n",
       "        vertical-align: top;\n",
       "    }\n",
       "\n",
       "    .dataframe thead th {\n",
       "        text-align: right;\n",
       "    }\n",
       "</style>\n",
       "<table border=\"1\" class=\"dataframe\">\n",
       "  <thead>\n",
       "    <tr style=\"text-align: right;\">\n",
       "      <th></th>\n",
       "      <th>member</th>\n",
       "      <th>pc1</th>\n",
       "      <th>pc2</th>\n",
       "      <th>leg_id</th>\n",
       "      <th>first</th>\n",
       "      <th>last</th>\n",
       "      <th>gender</th>\n",
       "      <th>state</th>\n",
       "      <th>chamber</th>\n",
       "      <th>party</th>\n",
       "      <th>birthday</th>\n",
       "      <th>pc1_jittered</th>\n",
       "      <th>pc2_jittered</th>\n",
       "    </tr>\n",
       "  </thead>\n",
       "  <tbody>\n",
       "    <tr>\n",
       "      <th>0</th>\n",
       "      <td>A000055</td>\n",
       "      <td>3.061356</td>\n",
       "      <td>0.364191</td>\n",
       "      <td>A000055</td>\n",
       "      <td>Robert</td>\n",
       "      <td>Aderholt</td>\n",
       "      <td>M</td>\n",
       "      <td>AL</td>\n",
       "      <td>rep</td>\n",
       "      <td>Republican</td>\n",
       "      <td>1965-07-22</td>\n",
       "      <td>3.144862</td>\n",
       "      <td>0.443475</td>\n",
       "    </tr>\n",
       "    <tr>\n",
       "      <th>1</th>\n",
       "      <td>A000367</td>\n",
       "      <td>0.188870</td>\n",
       "      <td>-2.433565</td>\n",
       "      <td>A000367</td>\n",
       "      <td>Justin</td>\n",
       "      <td>Amash</td>\n",
       "      <td>M</td>\n",
       "      <td>MI</td>\n",
       "      <td>rep</td>\n",
       "      <td>Libertarian</td>\n",
       "      <td>1980-04-18</td>\n",
       "      <td>0.309763</td>\n",
       "      <td>-2.479743</td>\n",
       "    </tr>\n",
       "    <tr>\n",
       "      <th>2</th>\n",
       "      <td>A000369</td>\n",
       "      <td>2.844370</td>\n",
       "      <td>0.821619</td>\n",
       "      <td>A000369</td>\n",
       "      <td>Mark</td>\n",
       "      <td>Amodei</td>\n",
       "      <td>M</td>\n",
       "      <td>NV</td>\n",
       "      <td>rep</td>\n",
       "      <td>Republican</td>\n",
       "      <td>1958-06-12</td>\n",
       "      <td>2.898607</td>\n",
       "      <td>0.865165</td>\n",
       "    </tr>\n",
       "    <tr>\n",
       "      <th>3</th>\n",
       "      <td>A000370</td>\n",
       "      <td>-2.607536</td>\n",
       "      <td>0.127977</td>\n",
       "      <td>A000370</td>\n",
       "      <td>Alma</td>\n",
       "      <td>Adams</td>\n",
       "      <td>F</td>\n",
       "      <td>NC</td>\n",
       "      <td>rep</td>\n",
       "      <td>Democrat</td>\n",
       "      <td>1946-05-27</td>\n",
       "      <td>-2.536420</td>\n",
       "      <td>0.026142</td>\n",
       "    </tr>\n",
       "    <tr>\n",
       "      <th>4</th>\n",
       "      <td>A000371</td>\n",
       "      <td>-2.607536</td>\n",
       "      <td>0.127977</td>\n",
       "      <td>A000371</td>\n",
       "      <td>Pete</td>\n",
       "      <td>Aguilar</td>\n",
       "      <td>M</td>\n",
       "      <td>CA</td>\n",
       "      <td>rep</td>\n",
       "      <td>Democrat</td>\n",
       "      <td>1979-06-19</td>\n",
       "      <td>-2.650458</td>\n",
       "      <td>0.040515</td>\n",
       "    </tr>\n",
       "  </tbody>\n",
       "</table>\n",
       "</div>"
      ],
      "text/plain": [
       "    member       pc1       pc2   leg_id   first      last gender state  \\\n",
       "0  A000055  3.061356  0.364191  A000055  Robert  Aderholt      M    AL   \n",
       "1  A000367  0.188870 -2.433565  A000367  Justin     Amash      M    MI   \n",
       "2  A000369  2.844370  0.821619  A000369    Mark    Amodei      M    NV   \n",
       "3  A000370 -2.607536  0.127977  A000370    Alma     Adams      F    NC   \n",
       "4  A000371 -2.607536  0.127977  A000371    Pete   Aguilar      M    CA   \n",
       "\n",
       "  chamber        party   birthday  pc1_jittered  pc2_jittered  \n",
       "0     rep   Republican 1965-07-22      3.144862      0.443475  \n",
       "1     rep  Libertarian 1980-04-18      0.309763     -2.479743  \n",
       "2     rep   Republican 1958-06-12      2.898607      0.865165  \n",
       "3     rep     Democrat 1946-05-27     -2.536420      0.026142  \n",
       "4     rep     Democrat 1979-06-19     -2.650458      0.040515  "
      ]
     },
     "execution_count": 69,
     "metadata": {},
     "output_type": "execute_result"
    }
   ],
   "source": [
    "vote2d.head(5)"
   ]
  },
  {
   "cell_type": "code",
   "execution_count": 70,
   "metadata": {},
   "outputs": [
    {
     "data": {
      "text/plain": [
       "Republican     196\n",
       "Democrat         7\n",
       "Libertarian      1\n",
       "Name: party, dtype: int64"
      ]
     },
     "execution_count": 70,
     "metadata": {},
     "output_type": "execute_result"
    }
   ],
   "source": [
    "vote2d[vote2d['pc1'] > 0]['party'].value_counts()"
   ]
  },
  {
   "cell_type": "code",
   "execution_count": 71,
   "metadata": {
    "scrolled": true
   },
   "outputs": [
    {
     "data": {
      "text/html": [
       "<div>\n",
       "<style scoped>\n",
       "    .dataframe tbody tr th:only-of-type {\n",
       "        vertical-align: middle;\n",
       "    }\n",
       "\n",
       "    .dataframe tbody tr th {\n",
       "        vertical-align: top;\n",
       "    }\n",
       "\n",
       "    .dataframe thead th {\n",
       "        text-align: right;\n",
       "    }\n",
       "</style>\n",
       "<table border=\"1\" class=\"dataframe\">\n",
       "  <thead>\n",
       "    <tr style=\"text-align: right;\">\n",
       "      <th></th>\n",
       "      <th>member</th>\n",
       "      <th>pc1</th>\n",
       "      <th>pc2</th>\n",
       "      <th>leg_id</th>\n",
       "      <th>first</th>\n",
       "      <th>last</th>\n",
       "      <th>gender</th>\n",
       "      <th>state</th>\n",
       "      <th>chamber</th>\n",
       "      <th>party</th>\n",
       "      <th>birthday</th>\n",
       "      <th>pc1_jittered</th>\n",
       "      <th>pc2_jittered</th>\n",
       "    </tr>\n",
       "  </thead>\n",
       "  <tbody>\n",
       "    <tr>\n",
       "      <th>1</th>\n",
       "      <td>A000367</td>\n",
       "      <td>0.188870</td>\n",
       "      <td>-2.433565</td>\n",
       "      <td>A000367</td>\n",
       "      <td>Justin</td>\n",
       "      <td>Amash</td>\n",
       "      <td>M</td>\n",
       "      <td>MI</td>\n",
       "      <td>rep</td>\n",
       "      <td>Libertarian</td>\n",
       "      <td>1980-04-18</td>\n",
       "      <td>0.309763</td>\n",
       "      <td>-2.479743</td>\n",
       "    </tr>\n",
       "    <tr>\n",
       "      <th>6</th>\n",
       "      <td>A000374</td>\n",
       "      <td>1.247134</td>\n",
       "      <td>-3.533196</td>\n",
       "      <td>A000374</td>\n",
       "      <td>Ralph</td>\n",
       "      <td>Abraham</td>\n",
       "      <td>M</td>\n",
       "      <td>LA</td>\n",
       "      <td>rep</td>\n",
       "      <td>Republican</td>\n",
       "      <td>1954-09-16</td>\n",
       "      <td>1.193667</td>\n",
       "      <td>-3.661740</td>\n",
       "    </tr>\n",
       "    <tr>\n",
       "      <th>47</th>\n",
       "      <td>B001311</td>\n",
       "      <td>1.695651</td>\n",
       "      <td>-2.093912</td>\n",
       "      <td>B001311</td>\n",
       "      <td>Dan</td>\n",
       "      <td>Bishop</td>\n",
       "      <td>M</td>\n",
       "      <td>NC</td>\n",
       "      <td>rep</td>\n",
       "      <td>Republican</td>\n",
       "      <td>1964-07-01</td>\n",
       "      <td>1.903562</td>\n",
       "      <td>-2.000946</td>\n",
       "    </tr>\n",
       "    <tr>\n",
       "      <th>50</th>\n",
       "      <td>C000537</td>\n",
       "      <td>0.699636</td>\n",
       "      <td>-3.394179</td>\n",
       "      <td>C000537</td>\n",
       "      <td>James</td>\n",
       "      <td>Clyburn</td>\n",
       "      <td>M</td>\n",
       "      <td>SC</td>\n",
       "      <td>rep</td>\n",
       "      <td>Democrat</td>\n",
       "      <td>1940-07-21</td>\n",
       "      <td>0.643172</td>\n",
       "      <td>-3.368755</td>\n",
       "    </tr>\n",
       "    <tr>\n",
       "      <th>68</th>\n",
       "      <td>C001087</td>\n",
       "      <td>2.755060</td>\n",
       "      <td>-1.378193</td>\n",
       "      <td>C001087</td>\n",
       "      <td>Eric</td>\n",
       "      <td>Crawford</td>\n",
       "      <td>M</td>\n",
       "      <td>AR</td>\n",
       "      <td>rep</td>\n",
       "      <td>Republican</td>\n",
       "      <td>1966-01-22</td>\n",
       "      <td>2.794060</td>\n",
       "      <td>-1.158624</td>\n",
       "    </tr>\n",
       "    <tr>\n",
       "      <th>149</th>\n",
       "      <td>G000582</td>\n",
       "      <td>2.262007</td>\n",
       "      <td>-2.632452</td>\n",
       "      <td>G000582</td>\n",
       "      <td>Jenniffer</td>\n",
       "      <td>González-Colón</td>\n",
       "      <td>F</td>\n",
       "      <td>PR</td>\n",
       "      <td>rep</td>\n",
       "      <td>Republican</td>\n",
       "      <td>1976-08-05</td>\n",
       "      <td>2.274945</td>\n",
       "      <td>-2.772818</td>\n",
       "    </tr>\n",
       "    <tr>\n",
       "      <th>177</th>\n",
       "      <td>H001077</td>\n",
       "      <td>2.509474</td>\n",
       "      <td>-1.349023</td>\n",
       "      <td>H001077</td>\n",
       "      <td>Clay</td>\n",
       "      <td>Higgins</td>\n",
       "      <td>M</td>\n",
       "      <td>LA</td>\n",
       "      <td>rep</td>\n",
       "      <td>Republican</td>\n",
       "      <td>1961-08-24</td>\n",
       "      <td>2.537679</td>\n",
       "      <td>-1.335292</td>\n",
       "    </tr>\n",
       "    <tr>\n",
       "      <th>193</th>\n",
       "      <td>J000299</td>\n",
       "      <td>2.908823</td>\n",
       "      <td>-1.094618</td>\n",
       "      <td>J000299</td>\n",
       "      <td>Mike</td>\n",
       "      <td>Johnson</td>\n",
       "      <td>M</td>\n",
       "      <td>LA</td>\n",
       "      <td>rep</td>\n",
       "      <td>Republican</td>\n",
       "      <td>1972-01-30</td>\n",
       "      <td>2.915334</td>\n",
       "      <td>-0.954357</td>\n",
       "    </tr>\n",
       "    <tr>\n",
       "      <th>267</th>\n",
       "      <td>M001200</td>\n",
       "      <td>1.247134</td>\n",
       "      <td>-3.533196</td>\n",
       "      <td>M001200</td>\n",
       "      <td>A.</td>\n",
       "      <td>McEachin</td>\n",
       "      <td>M</td>\n",
       "      <td>VA</td>\n",
       "      <td>rep</td>\n",
       "      <td>Democrat</td>\n",
       "      <td>1961-10-10</td>\n",
       "      <td>1.193625</td>\n",
       "      <td>-3.550412</td>\n",
       "    </tr>\n",
       "    <tr>\n",
       "      <th>277</th>\n",
       "      <td>M001210</td>\n",
       "      <td>1.695651</td>\n",
       "      <td>-2.093912</td>\n",
       "      <td>M001210</td>\n",
       "      <td>Gregory</td>\n",
       "      <td>Murphy</td>\n",
       "      <td>M</td>\n",
       "      <td>NC</td>\n",
       "      <td>rep</td>\n",
       "      <td>Republican</td>\n",
       "      <td>1963-03-05</td>\n",
       "      <td>1.659583</td>\n",
       "      <td>-2.030497</td>\n",
       "    </tr>\n",
       "    <tr>\n",
       "      <th>280</th>\n",
       "      <td>N000147</td>\n",
       "      <td>1.247134</td>\n",
       "      <td>-3.533196</td>\n",
       "      <td>N000147</td>\n",
       "      <td>Eleanor</td>\n",
       "      <td>Norton</td>\n",
       "      <td>F</td>\n",
       "      <td>DC</td>\n",
       "      <td>rep</td>\n",
       "      <td>Democrat</td>\n",
       "      <td>1937-06-13</td>\n",
       "      <td>1.112855</td>\n",
       "      <td>-3.444707</td>\n",
       "    </tr>\n",
       "    <tr>\n",
       "      <th>293</th>\n",
       "      <td>P000197</td>\n",
       "      <td>1.247134</td>\n",
       "      <td>-3.533196</td>\n",
       "      <td>P000197</td>\n",
       "      <td>Nancy</td>\n",
       "      <td>Pelosi</td>\n",
       "      <td>F</td>\n",
       "      <td>CA</td>\n",
       "      <td>rep</td>\n",
       "      <td>Democrat</td>\n",
       "      <td>1940-03-26</td>\n",
       "      <td>1.428091</td>\n",
       "      <td>-3.444876</td>\n",
       "    </tr>\n",
       "    <tr>\n",
       "      <th>305</th>\n",
       "      <td>P000610</td>\n",
       "      <td>1.247134</td>\n",
       "      <td>-3.533196</td>\n",
       "      <td>P000610</td>\n",
       "      <td>Stacey</td>\n",
       "      <td>Plaskett</td>\n",
       "      <td>F</td>\n",
       "      <td>VI</td>\n",
       "      <td>rep</td>\n",
       "      <td>Democrat</td>\n",
       "      <td>1966-05-13</td>\n",
       "      <td>1.246601</td>\n",
       "      <td>-3.506800</td>\n",
       "    </tr>\n",
       "    <tr>\n",
       "      <th>318</th>\n",
       "      <td>R000577</td>\n",
       "      <td>-2.069671</td>\n",
       "      <td>-1.344435</td>\n",
       "      <td>R000577</td>\n",
       "      <td>Tim</td>\n",
       "      <td>Ryan</td>\n",
       "      <td>M</td>\n",
       "      <td>OH</td>\n",
       "      <td>rep</td>\n",
       "      <td>Democrat</td>\n",
       "      <td>1973-07-16</td>\n",
       "      <td>-1.971067</td>\n",
       "      <td>-1.216655</td>\n",
       "    </tr>\n",
       "    <tr>\n",
       "      <th>325</th>\n",
       "      <td>R000600</td>\n",
       "      <td>1.247134</td>\n",
       "      <td>-3.533196</td>\n",
       "      <td>R000600</td>\n",
       "      <td>Aumua</td>\n",
       "      <td>Amata</td>\n",
       "      <td>F</td>\n",
       "      <td>AS</td>\n",
       "      <td>rep</td>\n",
       "      <td>Republican</td>\n",
       "      <td>1947-12-29</td>\n",
       "      <td>1.404409</td>\n",
       "      <td>-3.603394</td>\n",
       "    </tr>\n",
       "    <tr>\n",
       "      <th>354</th>\n",
       "      <td>S001177</td>\n",
       "      <td>1.247134</td>\n",
       "      <td>-3.533196</td>\n",
       "      <td>S001177</td>\n",
       "      <td>Gregorio</td>\n",
       "      <td>Sablan</td>\n",
       "      <td>M</td>\n",
       "      <td>MP</td>\n",
       "      <td>rep</td>\n",
       "      <td>Democrat</td>\n",
       "      <td>1955-01-19</td>\n",
       "      <td>1.284443</td>\n",
       "      <td>-3.540344</td>\n",
       "    </tr>\n",
       "    <tr>\n",
       "      <th>368</th>\n",
       "      <td>S001204</td>\n",
       "      <td>1.247134</td>\n",
       "      <td>-3.533196</td>\n",
       "      <td>S001204</td>\n",
       "      <td>Michael</td>\n",
       "      <td>San Nicolas</td>\n",
       "      <td>M</td>\n",
       "      <td>GU</td>\n",
       "      <td>rep</td>\n",
       "      <td>Democrat</td>\n",
       "      <td>1981-01-30</td>\n",
       "      <td>1.235569</td>\n",
       "      <td>-3.457230</td>\n",
       "    </tr>\n",
       "  </tbody>\n",
       "</table>\n",
       "</div>"
      ],
      "text/plain": [
       "      member       pc1       pc2   leg_id      first            last gender  \\\n",
       "1    A000367  0.188870 -2.433565  A000367     Justin           Amash      M   \n",
       "6    A000374  1.247134 -3.533196  A000374      Ralph         Abraham      M   \n",
       "47   B001311  1.695651 -2.093912  B001311        Dan          Bishop      M   \n",
       "50   C000537  0.699636 -3.394179  C000537      James         Clyburn      M   \n",
       "68   C001087  2.755060 -1.378193  C001087       Eric        Crawford      M   \n",
       "149  G000582  2.262007 -2.632452  G000582  Jenniffer  González-Colón      F   \n",
       "177  H001077  2.509474 -1.349023  H001077       Clay         Higgins      M   \n",
       "193  J000299  2.908823 -1.094618  J000299       Mike         Johnson      M   \n",
       "267  M001200  1.247134 -3.533196  M001200         A.        McEachin      M   \n",
       "277  M001210  1.695651 -2.093912  M001210    Gregory          Murphy      M   \n",
       "280  N000147  1.247134 -3.533196  N000147    Eleanor          Norton      F   \n",
       "293  P000197  1.247134 -3.533196  P000197      Nancy          Pelosi      F   \n",
       "305  P000610  1.247134 -3.533196  P000610     Stacey        Plaskett      F   \n",
       "318  R000577 -2.069671 -1.344435  R000577        Tim            Ryan      M   \n",
       "325  R000600  1.247134 -3.533196  R000600      Aumua           Amata      F   \n",
       "354  S001177  1.247134 -3.533196  S001177   Gregorio          Sablan      M   \n",
       "368  S001204  1.247134 -3.533196  S001204    Michael     San Nicolas      M   \n",
       "\n",
       "    state chamber        party   birthday  pc1_jittered  pc2_jittered  \n",
       "1      MI     rep  Libertarian 1980-04-18      0.309763     -2.479743  \n",
       "6      LA     rep   Republican 1954-09-16      1.193667     -3.661740  \n",
       "47     NC     rep   Republican 1964-07-01      1.903562     -2.000946  \n",
       "50     SC     rep     Democrat 1940-07-21      0.643172     -3.368755  \n",
       "68     AR     rep   Republican 1966-01-22      2.794060     -1.158624  \n",
       "149    PR     rep   Republican 1976-08-05      2.274945     -2.772818  \n",
       "177    LA     rep   Republican 1961-08-24      2.537679     -1.335292  \n",
       "193    LA     rep   Republican 1972-01-30      2.915334     -0.954357  \n",
       "267    VA     rep     Democrat 1961-10-10      1.193625     -3.550412  \n",
       "277    NC     rep   Republican 1963-03-05      1.659583     -2.030497  \n",
       "280    DC     rep     Democrat 1937-06-13      1.112855     -3.444707  \n",
       "293    CA     rep     Democrat 1940-03-26      1.428091     -3.444876  \n",
       "305    VI     rep     Democrat 1966-05-13      1.246601     -3.506800  \n",
       "318    OH     rep     Democrat 1973-07-16     -1.971067     -1.216655  \n",
       "325    AS     rep   Republican 1947-12-29      1.404409     -3.603394  \n",
       "354    MP     rep     Democrat 1955-01-19      1.284443     -3.540344  \n",
       "368    GU     rep     Democrat 1981-01-30      1.235569     -3.457230  "
      ]
     },
     "execution_count": 71,
     "metadata": {},
     "output_type": "execute_result"
    }
   ],
   "source": [
    "vote2d[vote2d['pc2'] < -1]"
   ]
  },
  {
   "cell_type": "code",
   "execution_count": 72,
   "metadata": {},
   "outputs": [
    {
     "data": {
      "text/plain": [
       "member   vote      \n",
       "A000367  No            31\n",
       "         Yes           10\n",
       "A000374  Not Voting    41\n",
       "B001311  No            17\n",
       "         Yes            7\n",
       "C000537  No             1\n",
       "         Not Voting    37\n",
       "         Yes            3\n",
       "C001087  No             6\n",
       "         Not Voting    23\n",
       "         Yes           12\n",
       "G000582  Not Voting     1\n",
       "         Yes            6\n",
       "H001077  No            14\n",
       "         Not Voting    15\n",
       "         Yes           12\n",
       "J000299  No            20\n",
       "         Not Voting     7\n",
       "         Yes           14\n",
       "M001200  Not Voting    41\n",
       "M001210  No            16\n",
       "         Not Voting     1\n",
       "         Yes            7\n",
       "N000147  No             6\n",
       "         Not Voting     1\n",
       "P000197  Speaker       41\n",
       "P000610  No             7\n",
       "R000577  No            11\n",
       "         Not Voting     8\n",
       "         Yes           22\n",
       "R000600  Not Voting     7\n",
       "S001177  No             7\n",
       "S001204  No             6\n",
       "         Not Voting     1\n",
       "dtype: int64"
      ]
     },
     "execution_count": 72,
     "metadata": {},
     "output_type": "execute_result"
    }
   ],
   "source": [
    "df = votes[votes['member'].isin(vote2d[vote2d['pc2'] < -1]['member'])]\n",
    "df.groupby(['member', 'vote']).size()"
   ]
  },
  {
   "cell_type": "code",
   "execution_count": 73,
   "metadata": {},
   "outputs": [
    {
     "data": {
      "text/html": [
       "<div>\n",
       "<style scoped>\n",
       "    .dataframe tbody tr th:only-of-type {\n",
       "        vertical-align: middle;\n",
       "    }\n",
       "\n",
       "    .dataframe tbody tr th {\n",
       "        vertical-align: top;\n",
       "    }\n",
       "\n",
       "    .dataframe thead th {\n",
       "        text-align: right;\n",
       "    }\n",
       "</style>\n",
       "<table border=\"1\" class=\"dataframe\">\n",
       "  <thead>\n",
       "    <tr style=\"text-align: right;\">\n",
       "      <th></th>\n",
       "      <th>leg_id</th>\n",
       "      <th>first</th>\n",
       "      <th>last</th>\n",
       "      <th>gender</th>\n",
       "      <th>state</th>\n",
       "      <th>chamber</th>\n",
       "      <th>party</th>\n",
       "      <th>birthday</th>\n",
       "    </tr>\n",
       "  </thead>\n",
       "  <tbody>\n",
       "    <tr>\n",
       "      <th>33</th>\n",
       "      <td>A000367</td>\n",
       "      <td>Justin</td>\n",
       "      <td>Amash</td>\n",
       "      <td>M</td>\n",
       "      <td>MI</td>\n",
       "      <td>rep</td>\n",
       "      <td>Libertarian</td>\n",
       "      <td>1980-04-18</td>\n",
       "    </tr>\n",
       "  </tbody>\n",
       "</table>\n",
       "</div>"
      ],
      "text/plain": [
       "     leg_id   first   last gender state chamber        party   birthday\n",
       "33  A000367  Justin  Amash      M    MI     rep  Libertarian 1980-04-18"
      ]
     },
     "execution_count": 73,
     "metadata": {},
     "output_type": "execute_result"
    }
   ],
   "source": [
    "legs.query(\"leg_id == 'A000367'\")"
   ]
  },
  {
   "cell_type": "markdown",
   "metadata": {},
   "source": [
    "### Let's look at only people who have voted more than 15 times lately"
   ]
  },
  {
   "cell_type": "code",
   "execution_count": 74,
   "metadata": {},
   "outputs": [
    {
     "data": {
      "text/html": [
       "<div>\n",
       "<style scoped>\n",
       "    .dataframe tbody tr th:only-of-type {\n",
       "        vertical-align: middle;\n",
       "    }\n",
       "\n",
       "    .dataframe tbody tr th {\n",
       "        vertical-align: top;\n",
       "    }\n",
       "\n",
       "    .dataframe thead th {\n",
       "        text-align: right;\n",
       "    }\n",
       "</style>\n",
       "<table border=\"1\" class=\"dataframe\">\n",
       "  <thead>\n",
       "    <tr style=\"text-align: right;\">\n",
       "      <th></th>\n",
       "      <th>chamber</th>\n",
       "      <th>session</th>\n",
       "      <th>roll call</th>\n",
       "      <th>member</th>\n",
       "      <th>vote</th>\n",
       "    </tr>\n",
       "  </thead>\n",
       "  <tbody>\n",
       "    <tr>\n",
       "      <th>0</th>\n",
       "      <td>House</td>\n",
       "      <td>1</td>\n",
       "      <td>555</td>\n",
       "      <td>A000374</td>\n",
       "      <td>Not Voting</td>\n",
       "    </tr>\n",
       "    <tr>\n",
       "      <th>1</th>\n",
       "      <td>House</td>\n",
       "      <td>1</td>\n",
       "      <td>555</td>\n",
       "      <td>A000370</td>\n",
       "      <td>Yes</td>\n",
       "    </tr>\n",
       "    <tr>\n",
       "      <th>2</th>\n",
       "      <td>House</td>\n",
       "      <td>1</td>\n",
       "      <td>555</td>\n",
       "      <td>A000055</td>\n",
       "      <td>No</td>\n",
       "    </tr>\n",
       "    <tr>\n",
       "      <th>3</th>\n",
       "      <td>House</td>\n",
       "      <td>1</td>\n",
       "      <td>555</td>\n",
       "      <td>A000371</td>\n",
       "      <td>Yes</td>\n",
       "    </tr>\n",
       "    <tr>\n",
       "      <th>4</th>\n",
       "      <td>House</td>\n",
       "      <td>1</td>\n",
       "      <td>555</td>\n",
       "      <td>A000372</td>\n",
       "      <td>No</td>\n",
       "    </tr>\n",
       "  </tbody>\n",
       "</table>\n",
       "</div>"
      ],
      "text/plain": [
       "  chamber  session roll call   member        vote\n",
       "0   House        1       555  A000374  Not Voting\n",
       "1   House        1       555  A000370         Yes\n",
       "2   House        1       555  A000055          No\n",
       "3   House        1       555  A000371         Yes\n",
       "4   House        1       555  A000372          No"
      ]
     },
     "execution_count": 74,
     "metadata": {},
     "output_type": "execute_result"
    }
   ],
   "source": [
    "votes.head(5)"
   ]
  },
  {
   "cell_type": "code",
   "execution_count": 75,
   "metadata": {
    "scrolled": true
   },
   "outputs": [
    {
     "data": {
      "text/plain": [
       "member\n",
       "A000055    40\n",
       "A000367    41\n",
       "A000369    41\n",
       "A000370    41\n",
       "A000371    41\n",
       "dtype: int64"
      ]
     },
     "execution_count": 75,
     "metadata": {},
     "output_type": "execute_result"
    }
   ],
   "source": [
    "num_yes_or_no_votes_per_member = votes.query(\"vote == 'Yes' or vote == 'No'\").groupby(\"member\").size()\n",
    "num_yes_or_no_votes_per_member.head(5)"
   ]
  },
  {
   "cell_type": "code",
   "execution_count": 76,
   "metadata": {},
   "outputs": [
    {
     "data": {
      "text/html": [
       "<div>\n",
       "<style scoped>\n",
       "    .dataframe tbody tr th:only-of-type {\n",
       "        vertical-align: middle;\n",
       "    }\n",
       "\n",
       "    .dataframe tbody tr th {\n",
       "        vertical-align: top;\n",
       "    }\n",
       "\n",
       "    .dataframe thead th {\n",
       "        text-align: right;\n",
       "    }\n",
       "</style>\n",
       "<table border=\"1\" class=\"dataframe\">\n",
       "  <thead>\n",
       "    <tr style=\"text-align: right;\">\n",
       "      <th></th>\n",
       "      <th>515</th>\n",
       "      <th>516</th>\n",
       "      <th>517</th>\n",
       "      <th>518</th>\n",
       "      <th>519</th>\n",
       "      <th>520</th>\n",
       "      <th>521</th>\n",
       "      <th>522</th>\n",
       "      <th>523</th>\n",
       "      <th>524</th>\n",
       "      <th>...</th>\n",
       "      <th>547</th>\n",
       "      <th>548</th>\n",
       "      <th>549</th>\n",
       "      <th>550</th>\n",
       "      <th>551</th>\n",
       "      <th>552</th>\n",
       "      <th>553</th>\n",
       "      <th>554</th>\n",
       "      <th>555</th>\n",
       "      <th>yes_no_count</th>\n",
       "    </tr>\n",
       "    <tr>\n",
       "      <th>member</th>\n",
       "      <th></th>\n",
       "      <th></th>\n",
       "      <th></th>\n",
       "      <th></th>\n",
       "      <th></th>\n",
       "      <th></th>\n",
       "      <th></th>\n",
       "      <th></th>\n",
       "      <th></th>\n",
       "      <th></th>\n",
       "      <th></th>\n",
       "      <th></th>\n",
       "      <th></th>\n",
       "      <th></th>\n",
       "      <th></th>\n",
       "      <th></th>\n",
       "      <th></th>\n",
       "      <th></th>\n",
       "      <th></th>\n",
       "      <th></th>\n",
       "      <th></th>\n",
       "    </tr>\n",
       "  </thead>\n",
       "  <tbody>\n",
       "    <tr>\n",
       "      <th>A000055</th>\n",
       "      <td>1</td>\n",
       "      <td>0</td>\n",
       "      <td>0</td>\n",
       "      <td>0</td>\n",
       "      <td>1</td>\n",
       "      <td>1</td>\n",
       "      <td>0</td>\n",
       "      <td>1</td>\n",
       "      <td>1</td>\n",
       "      <td>1</td>\n",
       "      <td>...</td>\n",
       "      <td>0</td>\n",
       "      <td>1</td>\n",
       "      <td>0</td>\n",
       "      <td>0</td>\n",
       "      <td>1</td>\n",
       "      <td>0</td>\n",
       "      <td>0</td>\n",
       "      <td>1</td>\n",
       "      <td>0</td>\n",
       "      <td>40.0</td>\n",
       "    </tr>\n",
       "    <tr>\n",
       "      <th>A000367</th>\n",
       "      <td>0</td>\n",
       "      <td>0</td>\n",
       "      <td>0</td>\n",
       "      <td>0</td>\n",
       "      <td>0</td>\n",
       "      <td>0</td>\n",
       "      <td>0</td>\n",
       "      <td>0</td>\n",
       "      <td>0</td>\n",
       "      <td>0</td>\n",
       "      <td>...</td>\n",
       "      <td>1</td>\n",
       "      <td>1</td>\n",
       "      <td>1</td>\n",
       "      <td>1</td>\n",
       "      <td>0</td>\n",
       "      <td>1</td>\n",
       "      <td>1</td>\n",
       "      <td>0</td>\n",
       "      <td>1</td>\n",
       "      <td>41.0</td>\n",
       "    </tr>\n",
       "    <tr>\n",
       "      <th>A000369</th>\n",
       "      <td>1</td>\n",
       "      <td>1</td>\n",
       "      <td>0</td>\n",
       "      <td>0</td>\n",
       "      <td>1</td>\n",
       "      <td>1</td>\n",
       "      <td>0</td>\n",
       "      <td>1</td>\n",
       "      <td>1</td>\n",
       "      <td>1</td>\n",
       "      <td>...</td>\n",
       "      <td>0</td>\n",
       "      <td>1</td>\n",
       "      <td>0</td>\n",
       "      <td>0</td>\n",
       "      <td>1</td>\n",
       "      <td>0</td>\n",
       "      <td>0</td>\n",
       "      <td>1</td>\n",
       "      <td>0</td>\n",
       "      <td>41.0</td>\n",
       "    </tr>\n",
       "    <tr>\n",
       "      <th>A000370</th>\n",
       "      <td>1</td>\n",
       "      <td>1</td>\n",
       "      <td>1</td>\n",
       "      <td>1</td>\n",
       "      <td>1</td>\n",
       "      <td>0</td>\n",
       "      <td>1</td>\n",
       "      <td>0</td>\n",
       "      <td>0</td>\n",
       "      <td>0</td>\n",
       "      <td>...</td>\n",
       "      <td>1</td>\n",
       "      <td>1</td>\n",
       "      <td>1</td>\n",
       "      <td>1</td>\n",
       "      <td>0</td>\n",
       "      <td>1</td>\n",
       "      <td>1</td>\n",
       "      <td>1</td>\n",
       "      <td>1</td>\n",
       "      <td>41.0</td>\n",
       "    </tr>\n",
       "    <tr>\n",
       "      <th>A000371</th>\n",
       "      <td>1</td>\n",
       "      <td>1</td>\n",
       "      <td>1</td>\n",
       "      <td>1</td>\n",
       "      <td>1</td>\n",
       "      <td>0</td>\n",
       "      <td>1</td>\n",
       "      <td>0</td>\n",
       "      <td>0</td>\n",
       "      <td>0</td>\n",
       "      <td>...</td>\n",
       "      <td>1</td>\n",
       "      <td>1</td>\n",
       "      <td>1</td>\n",
       "      <td>1</td>\n",
       "      <td>0</td>\n",
       "      <td>1</td>\n",
       "      <td>1</td>\n",
       "      <td>1</td>\n",
       "      <td>1</td>\n",
       "      <td>41.0</td>\n",
       "    </tr>\n",
       "  </tbody>\n",
       "</table>\n",
       "<p>5 rows × 42 columns</p>\n",
       "</div>"
      ],
      "text/plain": [
       "         515  516  517  518  519  520  521  522  523  524  ...  547  548  549  \\\n",
       "member                                                     ...                  \n",
       "A000055    1    0    0    0    1    1    0    1    1    1  ...    0    1    0   \n",
       "A000367    0    0    0    0    0    0    0    0    0    0  ...    1    1    1   \n",
       "A000369    1    1    0    0    1    1    0    1    1    1  ...    0    1    0   \n",
       "A000370    1    1    1    1    1    0    1    0    0    0  ...    1    1    1   \n",
       "A000371    1    1    1    1    1    0    1    0    0    0  ...    1    1    1   \n",
       "\n",
       "         550  551  552  553  554  555  yes_no_count  \n",
       "member                                               \n",
       "A000055    0    1    0    0    1    0          40.0  \n",
       "A000367    1    0    1    1    0    1          41.0  \n",
       "A000369    0    1    0    0    1    0          41.0  \n",
       "A000370    1    0    1    1    1    1          41.0  \n",
       "A000371    1    0    1    1    1    1          41.0  \n",
       "\n",
       "[5 rows x 42 columns]"
      ]
     },
     "execution_count": 76,
     "metadata": {},
     "output_type": "execute_result"
    }
   ],
   "source": [
    "vote_pivot_with_yes_no_count = vote_pivot.merge(num_yes_or_no_votes_per_member.to_frame(), left_index = True, right_index = True, how=\"outer\", ).fillna(0)\n",
    "vote_pivot_with_yes_no_count = vote_pivot_with_yes_no_count.rename(columns = {0: 'yes_no_count'})\n",
    "vote_pivot_with_yes_no_count.head(5)"
   ]
  },
  {
   "cell_type": "code",
   "execution_count": 77,
   "metadata": {},
   "outputs": [
    {
     "data": {
      "text/plain": [
       "(425, 41)"
      ]
     },
     "execution_count": 77,
     "metadata": {},
     "output_type": "execute_result"
    }
   ],
   "source": [
    "regulars = vote_pivot_with_yes_no_count.query('yes_no_count >= 30')\n",
    "regulars = regulars.drop('yes_no_count', 1)\n",
    "regulars.shape"
   ]
  },
  {
   "cell_type": "code",
   "execution_count": 78,
   "metadata": {},
   "outputs": [
    {
     "data": {
      "text/html": [
       "<div>\n",
       "<style scoped>\n",
       "    .dataframe tbody tr th:only-of-type {\n",
       "        vertical-align: middle;\n",
       "    }\n",
       "\n",
       "    .dataframe tbody tr th {\n",
       "        vertical-align: top;\n",
       "    }\n",
       "\n",
       "    .dataframe thead th {\n",
       "        text-align: right;\n",
       "    }\n",
       "</style>\n",
       "<table border=\"1\" class=\"dataframe\">\n",
       "  <thead>\n",
       "    <tr style=\"text-align: right;\">\n",
       "      <th></th>\n",
       "      <th>515</th>\n",
       "      <th>516</th>\n",
       "      <th>517</th>\n",
       "      <th>518</th>\n",
       "      <th>519</th>\n",
       "      <th>520</th>\n",
       "      <th>521</th>\n",
       "      <th>522</th>\n",
       "      <th>523</th>\n",
       "      <th>524</th>\n",
       "      <th>...</th>\n",
       "      <th>546</th>\n",
       "      <th>547</th>\n",
       "      <th>548</th>\n",
       "      <th>549</th>\n",
       "      <th>550</th>\n",
       "      <th>551</th>\n",
       "      <th>552</th>\n",
       "      <th>553</th>\n",
       "      <th>554</th>\n",
       "      <th>555</th>\n",
       "    </tr>\n",
       "    <tr>\n",
       "      <th>member</th>\n",
       "      <th></th>\n",
       "      <th></th>\n",
       "      <th></th>\n",
       "      <th></th>\n",
       "      <th></th>\n",
       "      <th></th>\n",
       "      <th></th>\n",
       "      <th></th>\n",
       "      <th></th>\n",
       "      <th></th>\n",
       "      <th></th>\n",
       "      <th></th>\n",
       "      <th></th>\n",
       "      <th></th>\n",
       "      <th></th>\n",
       "      <th></th>\n",
       "      <th></th>\n",
       "      <th></th>\n",
       "      <th></th>\n",
       "      <th></th>\n",
       "      <th></th>\n",
       "    </tr>\n",
       "  </thead>\n",
       "  <tbody>\n",
       "    <tr>\n",
       "      <th>A000055</th>\n",
       "      <td>0.101176</td>\n",
       "      <td>-0.691765</td>\n",
       "      <td>-0.543529</td>\n",
       "      <td>-0.541176</td>\n",
       "      <td>0.023529</td>\n",
       "      <td>0.581176</td>\n",
       "      <td>-0.581176</td>\n",
       "      <td>0.625882</td>\n",
       "      <td>0.588235</td>\n",
       "      <td>0.550588</td>\n",
       "      <td>...</td>\n",
       "      <td>-0.541176</td>\n",
       "      <td>-0.545882</td>\n",
       "      <td>0.014118</td>\n",
       "      <td>-0.538824</td>\n",
       "      <td>-0.536471</td>\n",
       "      <td>0.529412</td>\n",
       "      <td>-0.538824</td>\n",
       "      <td>-0.555294</td>\n",
       "      <td>0.056471</td>\n",
       "      <td>-0.522353</td>\n",
       "    </tr>\n",
       "    <tr>\n",
       "      <th>A000367</th>\n",
       "      <td>-0.898824</td>\n",
       "      <td>-0.691765</td>\n",
       "      <td>-0.543529</td>\n",
       "      <td>-0.541176</td>\n",
       "      <td>-0.976471</td>\n",
       "      <td>-0.418824</td>\n",
       "      <td>-0.581176</td>\n",
       "      <td>-0.374118</td>\n",
       "      <td>-0.411765</td>\n",
       "      <td>-0.449412</td>\n",
       "      <td>...</td>\n",
       "      <td>-0.541176</td>\n",
       "      <td>0.454118</td>\n",
       "      <td>0.014118</td>\n",
       "      <td>0.461176</td>\n",
       "      <td>0.463529</td>\n",
       "      <td>-0.470588</td>\n",
       "      <td>0.461176</td>\n",
       "      <td>0.444706</td>\n",
       "      <td>-0.943529</td>\n",
       "      <td>0.477647</td>\n",
       "    </tr>\n",
       "    <tr>\n",
       "      <th>A000369</th>\n",
       "      <td>0.101176</td>\n",
       "      <td>0.308235</td>\n",
       "      <td>-0.543529</td>\n",
       "      <td>-0.541176</td>\n",
       "      <td>0.023529</td>\n",
       "      <td>0.581176</td>\n",
       "      <td>-0.581176</td>\n",
       "      <td>0.625882</td>\n",
       "      <td>0.588235</td>\n",
       "      <td>0.550588</td>\n",
       "      <td>...</td>\n",
       "      <td>-0.541176</td>\n",
       "      <td>-0.545882</td>\n",
       "      <td>0.014118</td>\n",
       "      <td>-0.538824</td>\n",
       "      <td>-0.536471</td>\n",
       "      <td>0.529412</td>\n",
       "      <td>-0.538824</td>\n",
       "      <td>-0.555294</td>\n",
       "      <td>0.056471</td>\n",
       "      <td>-0.522353</td>\n",
       "    </tr>\n",
       "    <tr>\n",
       "      <th>A000370</th>\n",
       "      <td>0.101176</td>\n",
       "      <td>0.308235</td>\n",
       "      <td>0.456471</td>\n",
       "      <td>0.458824</td>\n",
       "      <td>0.023529</td>\n",
       "      <td>-0.418824</td>\n",
       "      <td>0.418824</td>\n",
       "      <td>-0.374118</td>\n",
       "      <td>-0.411765</td>\n",
       "      <td>-0.449412</td>\n",
       "      <td>...</td>\n",
       "      <td>0.458824</td>\n",
       "      <td>0.454118</td>\n",
       "      <td>0.014118</td>\n",
       "      <td>0.461176</td>\n",
       "      <td>0.463529</td>\n",
       "      <td>-0.470588</td>\n",
       "      <td>0.461176</td>\n",
       "      <td>0.444706</td>\n",
       "      <td>0.056471</td>\n",
       "      <td>0.477647</td>\n",
       "    </tr>\n",
       "    <tr>\n",
       "      <th>A000371</th>\n",
       "      <td>0.101176</td>\n",
       "      <td>0.308235</td>\n",
       "      <td>0.456471</td>\n",
       "      <td>0.458824</td>\n",
       "      <td>0.023529</td>\n",
       "      <td>-0.418824</td>\n",
       "      <td>0.418824</td>\n",
       "      <td>-0.374118</td>\n",
       "      <td>-0.411765</td>\n",
       "      <td>-0.449412</td>\n",
       "      <td>...</td>\n",
       "      <td>0.458824</td>\n",
       "      <td>0.454118</td>\n",
       "      <td>0.014118</td>\n",
       "      <td>0.461176</td>\n",
       "      <td>0.463529</td>\n",
       "      <td>-0.470588</td>\n",
       "      <td>0.461176</td>\n",
       "      <td>0.444706</td>\n",
       "      <td>0.056471</td>\n",
       "      <td>0.477647</td>\n",
       "    </tr>\n",
       "  </tbody>\n",
       "</table>\n",
       "<p>5 rows × 41 columns</p>\n",
       "</div>"
      ],
      "text/plain": [
       "              515       516       517       518       519       520       521  \\\n",
       "member                                                                          \n",
       "A000055  0.101176 -0.691765 -0.543529 -0.541176  0.023529  0.581176 -0.581176   \n",
       "A000367 -0.898824 -0.691765 -0.543529 -0.541176 -0.976471 -0.418824 -0.581176   \n",
       "A000369  0.101176  0.308235 -0.543529 -0.541176  0.023529  0.581176 -0.581176   \n",
       "A000370  0.101176  0.308235  0.456471  0.458824  0.023529 -0.418824  0.418824   \n",
       "A000371  0.101176  0.308235  0.456471  0.458824  0.023529 -0.418824  0.418824   \n",
       "\n",
       "              522       523       524  ...       546       547       548  \\\n",
       "member                                 ...                                 \n",
       "A000055  0.625882  0.588235  0.550588  ... -0.541176 -0.545882  0.014118   \n",
       "A000367 -0.374118 -0.411765 -0.449412  ... -0.541176  0.454118  0.014118   \n",
       "A000369  0.625882  0.588235  0.550588  ... -0.541176 -0.545882  0.014118   \n",
       "A000370 -0.374118 -0.411765 -0.449412  ...  0.458824  0.454118  0.014118   \n",
       "A000371 -0.374118 -0.411765 -0.449412  ...  0.458824  0.454118  0.014118   \n",
       "\n",
       "              549       550       551       552       553       554       555  \n",
       "member                                                                         \n",
       "A000055 -0.538824 -0.536471  0.529412 -0.538824 -0.555294  0.056471 -0.522353  \n",
       "A000367  0.461176  0.463529 -0.470588  0.461176  0.444706 -0.943529  0.477647  \n",
       "A000369 -0.538824 -0.536471  0.529412 -0.538824 -0.555294  0.056471 -0.522353  \n",
       "A000370  0.461176  0.463529 -0.470588  0.461176  0.444706  0.056471  0.477647  \n",
       "A000371  0.461176  0.463529 -0.470588  0.461176  0.444706  0.056471  0.477647  \n",
       "\n",
       "[5 rows x 41 columns]"
      ]
     },
     "execution_count": 78,
     "metadata": {},
     "output_type": "execute_result"
    }
   ],
   "source": [
    "regulars_centered = regulars - np.mean(regulars, axis = 0)\n",
    "regulars_centered.head(5)"
   ]
  },
  {
   "cell_type": "code",
   "execution_count": 79,
   "metadata": {},
   "outputs": [],
   "source": [
    "u, s, vt = np.linalg.svd(regulars_centered, full_matrices = False)"
   ]
  },
  {
   "cell_type": "code",
   "execution_count": 80,
   "metadata": {},
   "outputs": [
    {
     "data": {
      "text/plain": [
       "array([0.84, 0.02, 0.02, 0.01, 0.01, 0.01, 0.01, 0.01, 0.01, 0.01, 0.01,\n",
       "       0.01, 0.  , 0.  , 0.  , 0.  , 0.  , 0.  , 0.  , 0.  , 0.  , 0.  ,\n",
       "       0.  , 0.  , 0.  , 0.  , 0.  , 0.  , 0.  , 0.  , 0.  , 0.  , 0.  ,\n",
       "       0.  , 0.  , 0.  , 0.  , 0.  , 0.  , 0.  , 0.  ])"
      ]
     },
     "execution_count": 80,
     "metadata": {},
     "output_type": "execute_result"
    }
   ],
   "source": [
    "np.round(s**2 / sum(s**2), 2)"
   ]
  },
  {
   "cell_type": "code",
   "execution_count": 81,
   "metadata": {},
   "outputs": [
    {
     "data": {
      "image/png": "[encoded data removed]",
      "text/plain": [
       "<Figure size 432x288 with 1 Axes>"
      ]
     },
     "metadata": {
      "needs_background": "light"
     },
     "output_type": "display_data"
    }
   ],
   "source": [
    "pcs = u * s\n",
    "sns.scatterplot(x=pcs[:, 0], y=pcs[:, 1]);"
   ]
  },
  {
   "cell_type": "code",
   "execution_count": 82,
   "metadata": {},
   "outputs": [],
   "source": [
    "vote2d = pd.DataFrame({\n",
    "    'member': regulars_centered.index,\n",
    "    'pc1': pcs[:, 0],\n",
    "    'pc2': pcs[:, 1]\n",
    "}).merge(legs, left_on='member', right_on='leg_id')\n",
    "\n",
    "vote2d['pc1_jittered'] = vote2d['pc1'] + np.random.normal(loc = 0, scale = 0.1, size = vote2d.shape[0])\n",
    "vote2d['pc2_jittered'] = vote2d['pc2'] + np.random.normal(loc = 0, scale = 0.1, size = vote2d.shape[0])"
   ]
  },
  {
   "cell_type": "code",
   "execution_count": 83,
   "metadata": {
    "scrolled": true
   },
   "outputs": [
    {
     "data": {
      "image/png": "[encoded data removed]",
      "text/plain": [
       "<Figure size 432x288 with 1 Axes>"
      ]
     },
     "metadata": {
      "needs_background": "light"
     },
     "output_type": "display_data"
    }
   ],
   "source": [
    "sns.scatterplot(x=\"pc1_jittered\", y=\"pc2_jittered\", hue=\"party\", data = vote2d);"
   ]
  },
  {
   "cell_type": "markdown",
   "metadata": {},
   "source": [
    "## Exploring $V^T$"
   ]
  },
  {
   "cell_type": "markdown",
   "metadata": {},
   "source": [
    "We can also look at Vt directly to try to gain insight into why each component is as it is."
   ]
  },
  {
   "cell_type": "code",
   "execution_count": 84,
   "metadata": {},
   "outputs": [
    {
     "data": {
      "image/png": "[encoded data removed]",
      "text/plain": [
       "<Figure size 864x288 with 1 Axes>"
      ]
     },
     "metadata": {
      "needs_background": "light"
     },
     "output_type": "display_data"
    }
   ],
   "source": [
    "num_votes = vt.shape[1]\n",
    "votes = regulars.columns\n",
    "\n",
    "def plot_pc(k):\n",
    "    plt.bar(votes, vt[k, :], alpha=0.7)\n",
    "    plt.xticks(votes, rotation=90);\n",
    "\n",
    "with plt.rc_context({\"figure.figsize\": (12, 4)}):\n",
    "    plot_pc(0)\n",
    "#   plot_pc(1)"
   ]
  },
  {
   "cell_type": "markdown",
   "metadata": {},
   "source": [
    "Using SVD for PCA may lead to hard to interpret $V^T$ matrices for two reasons:\n",
    "1. Each row tends to include many many attributes. What does it mean that the first PC is driven by this specific set of 30 votes?\n",
    "2. Later rows (i.e. less important PCs) will be driven more by the orthogonality constraint than the data itself.\n",
    "\n",
    "There are exist other methods for doing PCA, e.g. Sparse PCA, that will try to lead to an interpretable version of $V^T$."
   ]
  }
 ],
 "metadata": {
  "kernelspec": {
   "display_name": "Python 3",
   "language": "python",
   "name": "python3"
  },
  "language_info": {
   "codemirror_mode": {
    "name": "ipython",
    "version": 3
   },
   "file_extension": ".py",
   "mimetype": "text/x-python",
   "name": "python",
   "nbconvert_exporter": "python",
   "pygments_lexer": "ipython3",
   "version": "3.8.3"
  }
 },
 "nbformat": 4,
 "nbformat_minor": 2
}
