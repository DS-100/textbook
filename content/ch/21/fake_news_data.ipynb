{
 "cells": [
  {
   "cell_type": "code",
   "execution_count": 3,
   "metadata": {
    "tags": [
     "remove-cell"
    ]
   },
   "outputs": [],
   "source": [
    "import sys\n",
    "import os\n",
    "if not any(path.endswith('textbook') for path in sys.path):\n",
    "    sys.path.append(os.path.abspath('../../..'))\n",
    "from textbook_utils import *"
   ]
  },
  {
   "cell_type": "markdown",
   "metadata": {},
   "source": [
    "(sec:fake_news_data)=\n",
    "# Obtaining and Wrangling the Data"
   ]
  },
  {
   "cell_type": "markdown",
   "metadata": {},
   "source": [
    "Let's get the data into Python.\n",
    "The dataset has [a GitHub page][fnn-code] with the code that downloads the data.\n",
    "Running the script to download the Politifact data takes about an hour.\n",
    "After running the script, we placed the data files into the `data/politifact` folder.\n",
    "The articles that Politifact labeled as fake and real\n",
    "are in `data/politifact/fake` and `data/politifact/real`.\n",
    "Let's take a look at one of the articles labeled real.\n",
    "\n",
    "[fnn-code]: https://github.com/KaiDMML/FakeNewsNet/tree/654361e1c8d5baa751baf1dac5032df621652280"
   ]
  },
  {
   "cell_type": "code",
   "execution_count": 4,
   "metadata": {},
   "outputs": [
    {
     "name": "stdout",
     "output_type": "stream",
     "text": [
      "total 0\n",
      "drwxr-xr-x  2 sam  staff  64 Jul 14 15:23 politifact100\n",
      "drwxr-xr-x  3 sam  staff  96 Jul 14 15:48 politifact1013\n",
      "drwxr-xr-x  3 sam  staff  96 Jul 14 15:37 politifact1014\n",
      "drwxr-xr-x  2 sam  staff  64 Jul 14 15:28 politifact10185\n"
     ]
    }
   ],
   "source": [
    "!ls -l data/politifact/real | head -n 5"
   ]
  },
  {
   "cell_type": "code",
   "execution_count": 5,
   "metadata": {},
   "outputs": [
    {
     "name": "stdout",
     "output_type": "stream",
     "text": [
      "total 16\n",
      "-rw-r--r--  1 sam  staff   5.7K Jul 14 15:48 news content.json\n"
     ]
    }
   ],
   "source": [
    "!ls -lh data/politifact/real/politifact1013/"
   ]
  },
  {
   "cell_type": "markdown",
   "metadata": {},
   "source": [
    "Each article's data is stored in a JSON file named `news content.json`.\n",
    "Let's load the JSON for one article into a Python dictionary."
   ]
  },
  {
   "cell_type": "code",
   "execution_count": 6,
   "metadata": {},
   "outputs": [],
   "source": [
    "import json\n",
    "from pathlib import Path\n",
    "\n",
    "article_path = Path('data/politifact/real/politifact1013/news content.json')\n",
    "article_json = json.loads(article_path.read_text())"
   ]
  },
  {
   "cell_type": "markdown",
   "metadata": {},
   "source": [
    "Below, we've displayed the keys and values in `article_json` as a table:"
   ]
  },
  {
   "cell_type": "code",
   "execution_count": 8,
   "metadata": {
    "tags": [
     "hide-input"
    ]
   },
   "outputs": [
    {
     "data": {
      "text/html": [
       "<div>\n",
       "<style scoped>\n",
       "    .dataframe tbody tr th:only-of-type {\n",
       "        vertical-align: middle;\n",
       "    }\n",
       "\n",
       "    .dataframe tbody tr th {\n",
       "        vertical-align: top;\n",
       "    }\n",
       "\n",
       "    .dataframe thead th {\n",
       "        text-align: right;\n",
       "    }\n",
       "</style>\n",
       "<table border=\"1\" class=\"dataframe\">\n",
       "  <thead>\n",
       "    <tr style=\"text-align: right;\">\n",
       "      <th></th>\n",
       "      <th>value</th>\n",
       "    </tr>\n",
       "    <tr>\n",
       "      <th>key</th>\n",
       "      <th></th>\n",
       "    </tr>\n",
       "  </thead>\n",
       "  <tbody>\n",
       "    <tr>\n",
       "      <th>url</th>\n",
       "      <td>http://www.senate.gov/legislative/LIS/roll_cal...</td>\n",
       "    </tr>\n",
       "    <tr>\n",
       "      <th>text</th>\n",
       "      <td>Roll Call Vote 111th Congress - 1st Session\\n\\...</td>\n",
       "    </tr>\n",
       "    <tr>\n",
       "      <th>images</th>\n",
       "      <td>[http://statse.webtrendslive.com/dcs222dj3ow9j...</td>\n",
       "    </tr>\n",
       "    <tr>\n",
       "      <th>top_img</th>\n",
       "      <td>http://www.senate.gov/resources/images/us_sen.ico</td>\n",
       "    </tr>\n",
       "    <tr>\n",
       "      <th>keywords</th>\n",
       "      <td>[]</td>\n",
       "    </tr>\n",
       "    <tr>\n",
       "      <th>authors</th>\n",
       "      <td>[]</td>\n",
       "    </tr>\n",
       "    <tr>\n",
       "      <th>canonical_link</th>\n",
       "      <td></td>\n",
       "    </tr>\n",
       "    <tr>\n",
       "      <th>title</th>\n",
       "      <td>U.S. Senate: U.S. Senate Roll Call Votes 111th...</td>\n",
       "    </tr>\n",
       "    <tr>\n",
       "      <th>meta_data</th>\n",
       "      <td>{'viewport': 'width=device-width, initial-scal...</td>\n",
       "    </tr>\n",
       "    <tr>\n",
       "      <th>movies</th>\n",
       "      <td>[]</td>\n",
       "    </tr>\n",
       "    <tr>\n",
       "      <th>publish_date</th>\n",
       "      <td>None</td>\n",
       "    </tr>\n",
       "    <tr>\n",
       "      <th>source</th>\n",
       "      <td>http://www.senate.gov</td>\n",
       "    </tr>\n",
       "    <tr>\n",
       "      <th>summary</th>\n",
       "      <td></td>\n",
       "    </tr>\n",
       "  </tbody>\n",
       "</table>\n",
       "</div>"
      ],
      "text/plain": [
       "                                                            value\n",
       "key                                                              \n",
       "url             http://www.senate.gov/legislative/LIS/roll_cal...\n",
       "text            Roll Call Vote 111th Congress - 1st Session\\n\\...\n",
       "images          [http://statse.webtrendslive.com/dcs222dj3ow9j...\n",
       "top_img         http://www.senate.gov/resources/images/us_sen.ico\n",
       "keywords                                                       []\n",
       "authors                                                        []\n",
       "canonical_link                                                   \n",
       "title           U.S. Senate: U.S. Senate Roll Call Votes 111th...\n",
       "meta_data       {'viewport': 'width=device-width, initial-scal...\n",
       "movies                                                         []\n",
       "publish_date                                                 None\n",
       "source                                      http://www.senate.gov\n",
       "summary                                                          "
      ]
     },
     "metadata": {},
     "output_type": "display_data"
    }
   ],
   "source": [
    "display_df(\n",
    "    pd.DataFrame(article_json.items(), columns=['key', 'value']).set_index('key'),\n",
    "    rows=13)"
   ]
  },
  {
   "cell_type": "markdown",
   "metadata": {},
   "source": [
    "There are many fields in the JSON file, but this analysis will only look at a\n",
    "few: the article's `title`, `text`, `url`, and `publish_date`.\n",
    "We'll create a dataframe where each row represents one article.\n",
    "To so this, we will load in each available JSON file as a Python dictionary.\n",
    "Then, we'll extract the fields of interest and store the results as a `pandas` dataframe named `df_raw`."
   ]
  },
  {
   "cell_type": "code",
   "execution_count": 31,
   "metadata": {
    "tags": [
     "hide-input"
    ]
   },
   "outputs": [],
   "source": [
    "from pathlib import Path\n",
    "\n",
    "def df_row(content_json):\n",
    "    return {\n",
    "        'url': content_json['url'],\n",
    "        'text': content_json['text'],\n",
    "        'title': content_json['title'],\n",
    "        'publish_date': content_json['publish_date'],\n",
    "    }\n",
    "\n",
    "def load_json(folder, label):\n",
    "    filepath = folder / filename\n",
    "    data = df_row(json.loads(filepath.read_text())) if filepath.exists() else {}\n",
    "    return {\n",
    "        **data,\n",
    "        'label': label,\n",
    "    }\n",
    "\n",
    "df_raw = pd.DataFrame([load_json(path, 'fake') for path in fakes.iterdir()] +\n",
    "                      [load_json(path, 'real') for path in reals.iterdir()])"
   ]
  },
  {
   "cell_type": "code",
   "execution_count": 37,
   "metadata": {},
   "outputs": [
    {
     "data": {
      "text/html": [
       "<div>\n",
       "<style scoped>\n",
       "    .dataframe tbody tr th:only-of-type {\n",
       "        vertical-align: middle;\n",
       "    }\n",
       "\n",
       "    .dataframe tbody tr th {\n",
       "        vertical-align: top;\n",
       "    }\n",
       "\n",
       "    .dataframe thead th {\n",
       "        text-align: right;\n",
       "    }\n",
       "</style>\n",
       "<table border=\"1\" class=\"dataframe\">\n",
       "  <thead>\n",
       "    <tr style=\"text-align: right;\">\n",
       "      <th></th>\n",
       "      <th>url</th>\n",
       "      <th>text</th>\n",
       "      <th>title</th>\n",
       "      <th>publish_date</th>\n",
       "      <th>label</th>\n",
       "    </tr>\n",
       "  </thead>\n",
       "  <tbody>\n",
       "    <tr>\n",
       "      <th>0</th>\n",
       "      <td>dailybuzzlive.com/cannibals-arrested-florida/</td>\n",
       "      <td>Police in Vernal Heights, Florida, arrested 3-...</td>\n",
       "      <td>Cannibals Arrested in Florida Claim Eating Hum...</td>\n",
       "      <td>1.62e+09</td>\n",
       "      <td>fake</td>\n",
       "    </tr>\n",
       "    <tr>\n",
       "      <th>1</th>\n",
       "      <td>https://web.archive.org/web/20171228192703/htt...</td>\n",
       "      <td>WASHINGTON — Rod Jay Rosenstein, Deputy Attorn...</td>\n",
       "      <td>BREAKING: Trump fires Deputy Attorney General ...</td>\n",
       "      <td>1.45e+09</td>\n",
       "      <td>fake</td>\n",
       "    </tr>\n",
       "    <tr>\n",
       "      <th>2</th>\n",
       "      <td>https://web.archive.org/web/20160924061356/htt...</td>\n",
       "      <td>Keanu Reeves has long been known to be a stell...</td>\n",
       "      <td>Keanu Reeves Shook The World With Another POWE...</td>\n",
       "      <td>1.46e+09</td>\n",
       "      <td>fake</td>\n",
       "    </tr>\n",
       "    <tr>\n",
       "      <th>...</th>\n",
       "      <td>...</td>\n",
       "      <td>...</td>\n",
       "      <td>...</td>\n",
       "      <td>...</td>\n",
       "      <td>...</td>\n",
       "    </tr>\n",
       "    <tr>\n",
       "      <th>1053</th>\n",
       "      <td>NaN</td>\n",
       "      <td>NaN</td>\n",
       "      <td>NaN</td>\n",
       "      <td>NaN</td>\n",
       "      <td>real</td>\n",
       "    </tr>\n",
       "    <tr>\n",
       "      <th>1054</th>\n",
       "      <td>https://web.archive.org/web/20090701202353/htt...</td>\n",
       "      <td>This is a rush transcript from \"On the Record,...</td>\n",
       "      <td>An Open Letter to 'All Barack Channel' - Greta...</td>\n",
       "      <td>NaN</td>\n",
       "      <td>real</td>\n",
       "    </tr>\n",
       "    <tr>\n",
       "      <th>1055</th>\n",
       "      <td>https://web.archive.org/web/20130209000637/htt...</td>\n",
       "      <td>The State of the Union 2012\\n\\n“We can either ...</td>\n",
       "      <td>State of the Union 2013</td>\n",
       "      <td>NaN</td>\n",
       "      <td>real</td>\n",
       "    </tr>\n",
       "  </tbody>\n",
       "</table>\n",
       "<p>1056 rows × 5 columns</p>\n",
       "</div>"
      ],
      "text/plain": [
       "                                                    url  \\\n",
       "0         dailybuzzlive.com/cannibals-arrested-florida/   \n",
       "1     https://web.archive.org/web/20171228192703/htt...   \n",
       "2     https://web.archive.org/web/20160924061356/htt...   \n",
       "...                                                 ...   \n",
       "1053                                                NaN   \n",
       "1054  https://web.archive.org/web/20090701202353/htt...   \n",
       "1055  https://web.archive.org/web/20130209000637/htt...   \n",
       "\n",
       "                                                   text  \\\n",
       "0     Police in Vernal Heights, Florida, arrested 3-...   \n",
       "1     WASHINGTON — Rod Jay Rosenstein, Deputy Attorn...   \n",
       "2     Keanu Reeves has long been known to be a stell...   \n",
       "...                                                 ...   \n",
       "1053                                                NaN   \n",
       "1054  This is a rush transcript from \"On the Record,...   \n",
       "1055  The State of the Union 2012\\n\\n“We can either ...   \n",
       "\n",
       "                                                  title  publish_date label  \n",
       "0     Cannibals Arrested in Florida Claim Eating Hum...      1.62e+09  fake  \n",
       "1     BREAKING: Trump fires Deputy Attorney General ...      1.45e+09  fake  \n",
       "2     Keanu Reeves Shook The World With Another POWE...      1.46e+09  fake  \n",
       "...                                                 ...           ...   ...  \n",
       "1053                                                NaN           NaN  real  \n",
       "1054  An Open Letter to 'All Barack Channel' - Greta...           NaN  real  \n",
       "1055                            State of the Union 2013           NaN  real  \n",
       "\n",
       "[1056 rows x 5 columns]"
      ]
     },
     "execution_count": 37,
     "metadata": {},
     "output_type": "execute_result"
    }
   ],
   "source": [
    "# Raw data from JSON, without any processing\n",
    "df_raw"
   ]
  },
  {
   "cell_type": "markdown",
   "metadata": {},
   "source": [
    "Exploring this dataframe reveals some issues we'd like to address before we\n",
    "keep going with the analysis. For example:\n",
    "\n",
    "1. Some articles couldn't be downloaded. When this happened, the `url` column contains `NaN`.\n",
    "1. Some articles don't have text (e.g. a webpage with only video content). We'll drop these articles from our analysis.\n",
    "1. The `publish_date` column stores timestamps in Unix format (seconds since the Unix epoch), not as  `pandas.Timestamp` objects.\n",
    "1. The `url` column has the full URL (e.g. `dailybuzzlive.com/cannibals-arrested-florida/`), but we're interested in the base URL (e.g. `dailybuzzlive.com`).\n",
    "1. Some articles were downloaded from an archival website (`web.archive.org`). When this happens, we want to extract the actual base URL from the original by removing the `web.archive.org` prefix.\n",
    "1. For our classifier, we want to concatenate the `title` and `text` columns into a single `content` column.\n",
    "\n",
    "We can tackle these data issues using a combination of `pandas` functions and\n",
    "regular expressions. After data wrangling, we end up with the following dataframe named `df`:"
   ]
  },
  {
   "cell_type": "code",
   "execution_count": 69,
   "metadata": {
    "tags": [
     "hide-input"
    ]
   },
   "outputs": [],
   "source": [
    "def combine_content(df):\n",
    "    return df.assign(content=df['title'] + ' ' + df['text'])\n",
    "\n",
    "def drop_nans(df):\n",
    "    return df[~(df['url'].isna() |\n",
    "                (df['text'].str.strip() == '') | \n",
    "                (df['title'].str.strip() == ''))]\n",
    "\n",
    "def url_basename(url):\n",
    "    if archive_prefix_re.match(url):\n",
    "        url = archive_prefix_re.sub('', url)\n",
    "    site = site_prefix_re.sub('', url).split('/')[0]\n",
    "    return port_re.sub('', site)\n",
    "\n",
    "def subset_df(df):\n",
    "    return df[['timestamp', 'baseurl', 'content', 'label']]\n",
    "\n",
    "df = (df_raw\n",
    "      .pipe(drop_nans)\n",
    "      .reset_index(drop=True)\n",
    "      .assign(baseurl=lambda df: df['url'].apply(url_basename))\n",
    "      .assign(timestamp=lambda df: pd.to_datetime(df['publish_date'], unit='s', errors='coerce'))\n",
    "      .pipe(combine_content)\n",
    "      .pipe(subset_df)\n",
    "     )"
   ]
  },
  {
   "cell_type": "code",
   "execution_count": 71,
   "metadata": {},
   "outputs": [
    {
     "data": {
      "text/html": [
       "<div>\n",
       "<style scoped>\n",
       "    .dataframe tbody tr th:only-of-type {\n",
       "        vertical-align: middle;\n",
       "    }\n",
       "\n",
       "    .dataframe tbody tr th {\n",
       "        vertical-align: top;\n",
       "    }\n",
       "\n",
       "    .dataframe thead th {\n",
       "        text-align: right;\n",
       "    }\n",
       "</style>\n",
       "<table border=\"1\" class=\"dataframe\">\n",
       "  <thead>\n",
       "    <tr style=\"text-align: right;\">\n",
       "      <th></th>\n",
       "      <th>timestamp</th>\n",
       "      <th>baseurl</th>\n",
       "      <th>content</th>\n",
       "      <th>label</th>\n",
       "    </tr>\n",
       "  </thead>\n",
       "  <tbody>\n",
       "    <tr>\n",
       "      <th>0</th>\n",
       "      <td>2021-04-05 16:39:51</td>\n",
       "      <td>dailybuzzlive.com</td>\n",
       "      <td>Cannibals Arrested in Florida Claim Eating Hum...</td>\n",
       "      <td>fake</td>\n",
       "    </tr>\n",
       "    <tr>\n",
       "      <th>1</th>\n",
       "      <td>2016-01-01 23:17:43</td>\n",
       "      <td>houstonchronicle-tv.com</td>\n",
       "      <td>BREAKING: Trump fires Deputy Attorney General ...</td>\n",
       "      <td>fake</td>\n",
       "    </tr>\n",
       "    <tr>\n",
       "      <th>2</th>\n",
       "      <td>2016-03-06 15:50:39</td>\n",
       "      <td>higherperspectives.com</td>\n",
       "      <td>Keanu Reeves Shook The World With Another POWE...</td>\n",
       "      <td>fake</td>\n",
       "    </tr>\n",
       "    <tr>\n",
       "      <th>...</th>\n",
       "      <td>...</td>\n",
       "      <td>...</td>\n",
       "      <td>...</td>\n",
       "      <td>...</td>\n",
       "    </tr>\n",
       "    <tr>\n",
       "      <th>776</th>\n",
       "      <td>NaT</td>\n",
       "      <td>msnbc.msn.com</td>\n",
       "      <td>Oct. 11: Levin, Graham, McCaffrey, Myers, roun...</td>\n",
       "      <td>real</td>\n",
       "    </tr>\n",
       "    <tr>\n",
       "      <th>777</th>\n",
       "      <td>NaT</td>\n",
       "      <td>foxnews.com</td>\n",
       "      <td>An Open Letter to 'All Barack Channel' - Greta...</td>\n",
       "      <td>real</td>\n",
       "    </tr>\n",
       "    <tr>\n",
       "      <th>778</th>\n",
       "      <td>NaT</td>\n",
       "      <td>whitehouse.gov</td>\n",
       "      <td>State of the Union 2013 The State of the Union...</td>\n",
       "      <td>real</td>\n",
       "    </tr>\n",
       "  </tbody>\n",
       "</table>\n",
       "<p>779 rows × 4 columns</p>\n",
       "</div>"
      ],
      "text/plain": [
       "              timestamp                  baseurl  \\\n",
       "0   2021-04-05 16:39:51        dailybuzzlive.com   \n",
       "1   2016-01-01 23:17:43  houstonchronicle-tv.com   \n",
       "2   2016-03-06 15:50:39   higherperspectives.com   \n",
       "..                  ...                      ...   \n",
       "776                 NaT            msnbc.msn.com   \n",
       "777                 NaT              foxnews.com   \n",
       "778                 NaT           whitehouse.gov   \n",
       "\n",
       "                                               content label  \n",
       "0    Cannibals Arrested in Florida Claim Eating Hum...  fake  \n",
       "1    BREAKING: Trump fires Deputy Attorney General ...  fake  \n",
       "2    Keanu Reeves Shook The World With Another POWE...  fake  \n",
       "..                                                 ...   ...  \n",
       "776  Oct. 11: Levin, Graham, McCaffrey, Myers, roun...  real  \n",
       "777  An Open Letter to 'All Barack Channel' - Greta...  real  \n",
       "778  State of the Union 2013 The State of the Union...  real  \n",
       "\n",
       "[779 rows x 4 columns]"
      ]
     },
     "execution_count": 71,
     "metadata": {},
     "output_type": "execute_result"
    }
   ],
   "source": [
    "df"
   ]
  },
  {
   "cell_type": "code",
   "execution_count": 78,
   "metadata": {
    "tags": [
     "remove-cell"
    ]
   },
   "outputs": [],
   "source": [
    "df.to_csv('fake_news.csv', index=False)"
   ]
  },
  {
   "cell_type": "markdown",
   "metadata": {},
   "source": [
    "Now that we've loaded and cleaned the data, we can proceed to exploratory\n",
    "data analysis."
   ]
  }
 ],
 "metadata": {
  "celltoolbar": "Tags",
  "kernelspec": {
   "display_name": "Python 3",
   "language": "python",
   "name": "python3"
  },
  "language_info": {
   "codemirror_mode": {
    "name": "ipython",
    "version": 3
   },
   "file_extension": ".py",
   "mimetype": "text/x-python",
   "name": "python",
   "nbconvert_exporter": "python",
   "pygments_lexer": "ipython3",
   "version": "3.9.4"
  }
 },
 "nbformat": 4,
 "nbformat_minor": 4
}
