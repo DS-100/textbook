{
 "cells": [
  {
   "cell_type": "code",
   "execution_count": 1,
   "metadata": {
    "tags": [
     "remove-cell"
    ]
   },
   "outputs": [],
   "source": [
    "import sys\n",
    "import os\n",
    "if not any(path.endswith('textbook') for path in sys.path):\n",
    "    sys.path.append(os.path.abspath('../../..'))\n",
    "from textbook_utils import *"
   ]
  },
  {
   "cell_type": "markdown",
   "metadata": {},
   "source": [
    "(sec:fake_news_data)=\n",
    "# Obtaining and Wrangling the Data"
   ]
  },
  {
   "cell_type": "markdown",
   "metadata": {},
   "source": [
    "Let's get the data into Python.\n",
    "The dataset has [a GitHub page][fnn-code] with the code needed to download the data.\n",
    "Running the script to download the Politifact data takes about an hour.\n",
    "After running the script, we've placed the data files into the `data/politifact` folder.\n",
    "The articles that Politifact labeled as fake and real\n",
    "are in `data/politifact/fake` and `data/politifact/real`.\n",
    "Let's take a look at one of the articles labeled real.\n",
    "\n",
    "[fnn-code]: https://github.com/KaiDMML/FakeNewsNet/tree/654361e1c8d5baa751baf1dac5032df621652280"
   ]
  },
  {
   "cell_type": "code",
   "execution_count": 47,
   "metadata": {},
   "outputs": [
    {
     "name": "stdout",
     "output_type": "stream",
     "text": [
      "total 0\n",
      "drwxr-xr-x  2 sam  staff  64 Jul 14 15:23 politifact100\n",
      "drwxr-xr-x  3 sam  staff  96 Jul 14 15:48 politifact1013\n",
      "drwxr-xr-x  3 sam  staff  96 Jul 14 15:37 politifact1014\n",
      "drwxr-xr-x  2 sam  staff  64 Jul 14 15:28 politifact10185\n"
     ]
    }
   ],
   "source": [
    "!ls -l data/politifact/real | head -n 5"
   ]
  },
  {
   "cell_type": "code",
   "execution_count": 38,
   "metadata": {},
   "outputs": [
    {
     "name": "stdout",
     "output_type": "stream",
     "text": [
      "total 16\n",
      "-rw-r--r--  1 sam  staff   5.7K Jul 14 15:48 news content.json\n"
     ]
    }
   ],
   "source": [
    "!ls -lh data/politifact/real/politifact1013/"
   ]
  },
  {
   "cell_type": "markdown",
   "metadata": {},
   "source": [
    "Each article's data is stored in a JSON file named `news content.json`.\n",
    "Let's load the JSON for one article into a Python dictionary."
   ]
  },
  {
   "cell_type": "code",
   "execution_count": 60,
   "metadata": {},
   "outputs": [],
   "source": [
    "import json\n",
    "from pathlib import Path\n",
    "\n",
    "article_path = Path('data/politifact/real/politifact1013/news content.json')\n",
    "article_json = json.loads(article_path.read_text())"
   ]
  },
  {
   "cell_type": "markdown",
   "metadata": {},
   "source": [
    "Below, we've displayed the keys and values in `article_json` as a table:"
   ]
  },
  {
   "cell_type": "code",
   "execution_count": 64,
   "metadata": {
    "tags": [
     "hide-input"
    ]
   },
   "outputs": [
    {
     "data": {
      "text/html": [
       "<div>\n",
       "<style scoped>\n",
       "    .dataframe tbody tr th:only-of-type {\n",
       "        vertical-align: middle;\n",
       "    }\n",
       "\n",
       "    .dataframe tbody tr th {\n",
       "        vertical-align: top;\n",
       "    }\n",
       "\n",
       "    .dataframe thead th {\n",
       "        text-align: right;\n",
       "    }\n",
       "</style>\n",
       "<table border=\"1\" class=\"dataframe\">\n",
       "  <thead>\n",
       "    <tr style=\"text-align: right;\">\n",
       "      <th></th>\n",
       "      <th>value</th>\n",
       "    </tr>\n",
       "    <tr>\n",
       "      <th>key</th>\n",
       "      <th></th>\n",
       "    </tr>\n",
       "  </thead>\n",
       "  <tbody>\n",
       "    <tr>\n",
       "      <th>url</th>\n",
       "      <td>http://www.senate.gov/legislative/LIS/roll_cal...</td>\n",
       "    </tr>\n",
       "    <tr>\n",
       "      <th>text</th>\n",
       "      <td>Roll Call Vote 111th Congress - 1st Session\\n\\...</td>\n",
       "    </tr>\n",
       "    <tr>\n",
       "      <th>images</th>\n",
       "      <td>[http://statse.webtrendslive.com/dcs222dj3ow9j...</td>\n",
       "    </tr>\n",
       "    <tr>\n",
       "      <th>top_img</th>\n",
       "      <td>http://www.senate.gov/resources/images/us_sen.ico</td>\n",
       "    </tr>\n",
       "    <tr>\n",
       "      <th>keywords</th>\n",
       "      <td>[]</td>\n",
       "    </tr>\n",
       "    <tr>\n",
       "      <th>authors</th>\n",
       "      <td>[]</td>\n",
       "    </tr>\n",
       "    <tr>\n",
       "      <th>canonical_link</th>\n",
       "      <td></td>\n",
       "    </tr>\n",
       "    <tr>\n",
       "      <th>title</th>\n",
       "      <td>U.S. Senate: U.S. Senate Roll Call Votes 111th...</td>\n",
       "    </tr>\n",
       "    <tr>\n",
       "      <th>meta_data</th>\n",
       "      <td>{'viewport': 'width=device-width, initial-scal...</td>\n",
       "    </tr>\n",
       "    <tr>\n",
       "      <th>movies</th>\n",
       "      <td>[]</td>\n",
       "    </tr>\n",
       "    <tr>\n",
       "      <th>publish_date</th>\n",
       "      <td>None</td>\n",
       "    </tr>\n",
       "    <tr>\n",
       "      <th>source</th>\n",
       "      <td>http://www.senate.gov</td>\n",
       "    </tr>\n",
       "    <tr>\n",
       "      <th>summary</th>\n",
       "      <td></td>\n",
       "    </tr>\n",
       "  </tbody>\n",
       "</table>\n",
       "</div>"
      ],
      "text/plain": [
       "                                                            value\n",
       "key                                                              \n",
       "url             http://www.senate.gov/legislative/LIS/roll_cal...\n",
       "text            Roll Call Vote 111th Congress - 1st Session\\n\\...\n",
       "images          [http://statse.webtrendslive.com/dcs222dj3ow9j...\n",
       "top_img         http://www.senate.gov/resources/images/us_sen.ico\n",
       "keywords                                                       []\n",
       "authors                                                        []\n",
       "canonical_link                                                   \n",
       "title           U.S. Senate: U.S. Senate Roll Call Votes 111th...\n",
       "meta_data       {'viewport': 'width=device-width, initial-scal...\n",
       "movies                                                         []\n",
       "publish_date                                                 None\n",
       "source                                      http://www.senate.gov\n",
       "summary                                                          "
      ]
     },
     "metadata": {},
     "output_type": "display_data"
    }
   ],
   "source": [
    "display_df(\n",
    "    pd.DataFrame(article_json.items(), columns=['key', 'value']).set_index('key'),\n",
    "    rows=13)"
   ]
  }
 ],
 "metadata": {
  "celltoolbar": "Tags",
  "kernelspec": {
   "display_name": "Python 3",
   "language": "python",
   "name": "python3"
  },
  "language_info": {
   "codemirror_mode": {
    "name": "ipython",
    "version": 3
   },
   "file_extension": ".py",
   "mimetype": "text/x-python",
   "name": "python",
   "nbconvert_exporter": "python",
   "pygments_lexer": "ipython3",
   "version": "3.9.4"
  }
 },
 "nbformat": 4,
 "nbformat_minor": 4
}
