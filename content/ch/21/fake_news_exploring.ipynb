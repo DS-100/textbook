{
 "cells": [
  {
   "cell_type": "code",
   "execution_count": 1,
   "metadata": {
    "tags": [
     "remove-cell"
    ]
   },
   "outputs": [],
   "source": [
    "import sys\n",
    "import os\n",
    "if not any(path.endswith('textbook') for path in sys.path):\n",
    "    sys.path.append(os.path.abspath('../../..'))\n",
    "from textbook_utils import *"
   ]
  },
  {
   "cell_type": "code",
   "execution_count": 2,
   "metadata": {
    "tags": [
     "remove-cell"
    ]
   },
   "outputs": [],
   "source": [
    "df = pd.read_csv('data/fake_news.csv', parse_dates=['timestamp'])"
   ]
  },
  {
   "cell_type": "markdown",
   "metadata": {},
   "source": [
    "(sec:fake_news_exploring)=\n",
    "# Exploring the Data"
   ]
  },
  {
   "cell_type": "markdown",
   "metadata": {},
   "source": [
    "The dataset of news articles we're exploring is just one part of the larger FakeNewsNet dataset. As such, the original paper doesn't provide detailed information about our subset of data.\n",
    "So, to better understand the data, we must explore it ourselves.\n",
    "\n",
    "Before starting exploratory data analysis, we apply our standard practice of splitting the data into training and test sets. We perform EDA using only the train set:"
   ]
  },
  {
   "cell_type": "code",
   "execution_count": 3,
   "metadata": {},
   "outputs": [],
   "source": [
    "from sklearn.model_selection import train_test_split\n",
    "\n",
    "df['label'] = (df['label'] == 'fake').astype(int)\n",
    "\n",
    "X_train, X_test, y_train, y_test = train_test_split(\n",
    "    df[['timestamp', 'baseurl', 'content']], df['label'],\n",
    "    test_size=0.25, random_state=42,\n",
    ")"
   ]
  },
  {
   "cell_type": "code",
   "execution_count": 324,
   "metadata": {},
   "outputs": [
    {
     "data": {
      "text/html": [
       "<div>\n",
       "<style scoped>\n",
       "    .dataframe tbody tr th:only-of-type {\n",
       "        vertical-align: middle;\n",
       "    }\n",
       "\n",
       "    .dataframe tbody tr th {\n",
       "        vertical-align: top;\n",
       "    }\n",
       "\n",
       "    .dataframe thead th {\n",
       "        text-align: right;\n",
       "    }\n",
       "</style>\n",
       "<table border=\"1\" class=\"dataframe\">\n",
       "  <thead>\n",
       "    <tr style=\"text-align: right;\">\n",
       "      <th></th>\n",
       "      <th>timestamp</th>\n",
       "      <th>baseurl</th>\n",
       "      <th>content</th>\n",
       "    </tr>\n",
       "  </thead>\n",
       "  <tbody>\n",
       "    <tr>\n",
       "      <th>164</th>\n",
       "      <td>2019-01-04 19:25:46</td>\n",
       "      <td>worldnewsdailyreport.com</td>\n",
       "      <td>Chinese lunar rover finds no evidence of Ameri...</td>\n",
       "    </tr>\n",
       "    <tr>\n",
       "      <th>28</th>\n",
       "      <td>2016-01-12 21:02:28</td>\n",
       "      <td>occupydemocrats.com</td>\n",
       "      <td>Virginia Republican Wants Schools To Check Chi...</td>\n",
       "    </tr>\n",
       "  </tbody>\n",
       "</table>\n",
       "</div>"
      ],
      "text/plain": [
       "              timestamp                   baseurl   \n",
       "164 2019-01-04 19:25:46  worldnewsdailyreport.com  \\\n",
       "28  2016-01-12 21:02:28       occupydemocrats.com   \n",
       "\n",
       "                                               content  \n",
       "164  Chinese lunar rover finds no evidence of Ameri...  \n",
       "28   Virginia Republican Wants Schools To Check Chi...  "
      ]
     },
     "execution_count": 324,
     "metadata": {},
     "output_type": "execute_result"
    }
   ],
   "source": [
    "X_train.head(2)"
   ]
  },
  {
   "cell_type": "markdown",
   "metadata": {},
   "source": [
    "Let's count the number of real and fake articles in the train set: "
   ]
  },
  {
   "cell_type": "code",
   "execution_count": 325,
   "metadata": {},
   "outputs": [
    {
     "data": {
      "text/plain": [
       "label\n",
       "0    320\n",
       "1    264\n",
       "Name: count, dtype: int64"
      ]
     },
     "execution_count": 325,
     "metadata": {},
     "output_type": "execute_result"
    }
   ],
   "source": [
    "y_train.value_counts()"
   ]
  },
  {
   "cell_type": "markdown",
   "metadata": {},
   "source": [
    "Our train set has 584 articles, and there are about 60 more articles labeled as `real` compared to `fake`. Next, we check for missing values in the three fields:"
   ]
  },
  {
   "cell_type": "code",
   "execution_count": 326,
   "metadata": {},
   "outputs": [
    {
     "name": "stdout",
     "output_type": "stream",
     "text": [
      "<class 'pandas.core.frame.DataFrame'>\n",
      "Index: 584 entries, 164 to 102\n",
      "Data columns (total 3 columns):\n",
      " #   Column     Non-Null Count  Dtype         \n",
      "---  ------     --------------  -----         \n",
      " 0   timestamp  306 non-null    datetime64[ns]\n",
      " 1   baseurl    584 non-null    object        \n",
      " 2   content    584 non-null    object        \n",
      "dtypes: datetime64[ns](1), object(2)\n",
      "memory usage: 18.2+ KB\n"
     ]
    }
   ],
   "source": [
    "X_train.info()"
   ]
  },
  {
   "cell_type": "markdown",
   "metadata": {},
   "source": [
    "Nearly half of the timestamps are null. This feature will limit the dataset if we use it in the analysis. Let's take a closer look at the `baseurl`, which represents the website that published the original article."
   ]
  },
  {
   "cell_type": "markdown",
   "metadata": {},
   "source": [
    "## Exploring the Publishers"
   ]
  },
  {
   "cell_type": "markdown",
   "metadata": {},
   "source": [
    "To understand the `baseurl` column, we start by counting the number of articles from each website:"
   ]
  },
  {
   "cell_type": "code",
   "execution_count": 327,
   "metadata": {},
   "outputs": [
    {
     "data": {
      "text/plain": [
       "baseurl\n",
       "whitehouse.gov               21\n",
       "abcnews.go.com               20\n",
       "nytimes.com                  17\n",
       "                             ..\n",
       "occupydemocrats.com           1\n",
       "legis.state.ak.us             1\n",
       "dailynewsforamericans.com     1\n",
       "Name: count, Length: 337, dtype: int64"
      ]
     },
     "execution_count": 327,
     "metadata": {},
     "output_type": "execute_result"
    }
   ],
   "source": [
    "X_train['baseurl'].value_counts()"
   ]
  },
  {
   "cell_type": "markdown",
   "metadata": {},
   "source": [
    "Our train set has 584 rows, and we have found that there are 337 unique publishing websites. This means that the dataset includes many publications with only a few articles. A histogram of the number of articles published by each website confirms this:"
   ]
  },
  {
   "cell_type": "code",
   "execution_count": 4,
   "metadata": {},
   "outputs": [
    {
     "data": {
      "application/vnd.plotly.v1+json": {
       "config": {
        "plotlyServerURL": "https://plot.ly"
       },
       "data": [
        {
         "alignmentgroup": "True",
         "bingroup": "x",
         "hovertemplate": "variable=baseurl<br>Number of articles published at a URL=%{x}<br>count=%{y}<extra></extra>",
         "legendgroup": "baseurl",
         "marker": {
          "color": "#1F77B4",
          "pattern": {
           "shape": ""
          }
         },
         "name": "baseurl",
         "offsetgroup": "baseurl",
         "orientation": "v",
         "showlegend": true,
         "type": "histogram",
         "x": [
          21,
          20,
          17,
          16,
          15,
          14,
          11,
          11,
          11,
          9,
          6,
          6,
          5,
          5,
          5,
          4,
          4,
          4,
          4,
          4,
          4,
          4,
          4,
          3,
          3,
          3,
          3,
          3,
          3,
          3,
          3,
          3,
          3,
          3,
          3,
          3,
          2,
          2,
          2,
          2,
          2,
          2,
          2,
          2,
          2,
          2,
          2,
          2,
          2,
          2,
          2,
          2,
          2,
          2,
          2,
          2,
          2,
          2,
          2,
          2,
          2,
          2,
          2,
          2,
          2,
          2,
          2,
          2,
          2,
          2,
          2,
          2,
          2,
          2,
          2,
          2,
          1,
          1,
          1,
          1,
          1,
          1,
          1,
          1,
          1,
          1,
          1,
          1,
          1,
          1,
          1,
          1,
          1,
          1,
          1,
          1,
          1,
          1,
          1,
          1,
          1,
          1,
          1,
          1,
          1,
          1,
          1,
          1,
          1,
          1,
          1,
          1,
          1,
          1,
          1,
          1,
          1,
          1,
          1,
          1,
          1,
          1,
          1,
          1,
          1,
          1,
          1,
          1,
          1,
          1,
          1,
          1,
          1,
          1,
          1,
          1,
          1,
          1,
          1,
          1,
          1,
          1,
          1,
          1,
          1,
          1,
          1,
          1,
          1,
          1,
          1,
          1,
          1,
          1,
          1,
          1,
          1,
          1,
          1,
          1,
          1,
          1,
          1,
          1,
          1,
          1,
          1,
          1,
          1,
          1,
          1,
          1,
          1,
          1,
          1,
          1,
          1,
          1,
          1,
          1,
          1,
          1,
          1,
          1,
          1,
          1,
          1,
          1,
          1,
          1,
          1,
          1,
          1,
          1,
          1,
          1,
          1,
          1,
          1,
          1,
          1,
          1,
          1,
          1,
          1,
          1,
          1,
          1,
          1,
          1,
          1,
          1,
          1,
          1,
          1,
          1,
          1,
          1,
          1,
          1,
          1,
          1,
          1,
          1,
          1,
          1,
          1,
          1,
          1,
          1,
          1,
          1,
          1,
          1,
          1,
          1,
          1,
          1,
          1,
          1,
          1,
          1,
          1,
          1,
          1,
          1,
          1,
          1,
          1,
          1,
          1,
          1,
          1,
          1,
          1,
          1,
          1,
          1,
          1,
          1,
          1,
          1,
          1,
          1,
          1,
          1,
          1,
          1,
          1,
          1,
          1,
          1,
          1,
          1,
          1,
          1,
          1,
          1,
          1,
          1,
          1,
          1,
          1,
          1,
          1,
          1,
          1,
          1,
          1,
          1,
          1,
          1,
          1,
          1,
          1,
          1,
          1,
          1,
          1,
          1,
          1,
          1,
          1,
          1,
          1,
          1,
          1,
          1,
          1,
          1,
          1,
          1,
          1,
          1,
          1,
          1,
          1,
          1,
          1,
          1,
          1,
          1,
          1,
          1,
          1,
          1,
          1,
          1,
          1,
          1,
          1,
          1,
          1,
          1,
          1,
          1,
          1
         ],
         "xaxis": "x",
         "yaxis": "y"
        }
       ],
       "layout": {
        "barmode": "relative",
        "height": 250,
        "legend": {
         "title": {
          "text": "variable"
         },
         "tracegroupgap": 0
        },
        "showlegend": false,
        "template": {
         "data": {
          "bar": [
           {
            "error_x": {
             "color": "rgb(36,36,36)"
            },
            "error_y": {
             "color": "rgb(36,36,36)"
            },
            "marker": {
             "line": {
              "color": "white",
              "width": 0.5
             },
             "pattern": {
              "fillmode": "overlay",
              "size": 10,
              "solidity": 0.2
             }
            },
            "type": "bar"
           }
          ],
          "barpolar": [
           {
            "marker": {
             "line": {
              "color": "white",
              "width": 0.5
             },
             "pattern": {
              "fillmode": "overlay",
              "size": 10,
              "solidity": 0.2
             }
            },
            "type": "barpolar"
           }
          ],
          "carpet": [
           {
            "aaxis": {
             "endlinecolor": "rgb(36,36,36)",
             "gridcolor": "white",
             "linecolor": "white",
             "minorgridcolor": "white",
             "startlinecolor": "rgb(36,36,36)"
            },
            "baxis": {
             "endlinecolor": "rgb(36,36,36)",
             "gridcolor": "white",
             "linecolor": "white",
             "minorgridcolor": "white",
             "startlinecolor": "rgb(36,36,36)"
            },
            "type": "carpet"
           }
          ],
          "choropleth": [
           {
            "colorbar": {
             "outlinewidth": 1,
             "tickcolor": "rgb(36,36,36)",
             "ticks": "outside"
            },
            "type": "choropleth"
           }
          ],
          "contour": [
           {
            "colorbar": {
             "outlinewidth": 1,
             "tickcolor": "rgb(36,36,36)",
             "ticks": "outside"
            },
            "colorscale": [
             [
              0,
              "#440154"
             ],
             [
              0.1111111111111111,
              "#482878"
             ],
             [
              0.2222222222222222,
              "#3e4989"
             ],
             [
              0.3333333333333333,
              "#31688e"
             ],
             [
              0.4444444444444444,
              "#26828e"
             ],
             [
              0.5555555555555556,
              "#1f9e89"
             ],
             [
              0.6666666666666666,
              "#35b779"
             ],
             [
              0.7777777777777778,
              "#6ece58"
             ],
             [
              0.8888888888888888,
              "#b5de2b"
             ],
             [
              1,
              "#fde725"
             ]
            ],
            "type": "contour"
           }
          ],
          "contourcarpet": [
           {
            "colorbar": {
             "outlinewidth": 1,
             "tickcolor": "rgb(36,36,36)",
             "ticks": "outside"
            },
            "type": "contourcarpet"
           }
          ],
          "heatmap": [
           {
            "colorbar": {
             "outlinewidth": 1,
             "tickcolor": "rgb(36,36,36)",
             "ticks": "outside"
            },
            "colorscale": [
             [
              0,
              "#440154"
             ],
             [
              0.1111111111111111,
              "#482878"
             ],
             [
              0.2222222222222222,
              "#3e4989"
             ],
             [
              0.3333333333333333,
              "#31688e"
             ],
             [
              0.4444444444444444,
              "#26828e"
             ],
             [
              0.5555555555555556,
              "#1f9e89"
             ],
             [
              0.6666666666666666,
              "#35b779"
             ],
             [
              0.7777777777777778,
              "#6ece58"
             ],
             [
              0.8888888888888888,
              "#b5de2b"
             ],
             [
              1,
              "#fde725"
             ]
            ],
            "type": "heatmap"
           }
          ],
          "heatmapgl": [
           {
            "colorbar": {
             "outlinewidth": 1,
             "tickcolor": "rgb(36,36,36)",
             "ticks": "outside"
            },
            "colorscale": [
             [
              0,
              "#440154"
             ],
             [
              0.1111111111111111,
              "#482878"
             ],
             [
              0.2222222222222222,
              "#3e4989"
             ],
             [
              0.3333333333333333,
              "#31688e"
             ],
             [
              0.4444444444444444,
              "#26828e"
             ],
             [
              0.5555555555555556,
              "#1f9e89"
             ],
             [
              0.6666666666666666,
              "#35b779"
             ],
             [
              0.7777777777777778,
              "#6ece58"
             ],
             [
              0.8888888888888888,
              "#b5de2b"
             ],
             [
              1,
              "#fde725"
             ]
            ],
            "type": "heatmapgl"
           }
          ],
          "histogram": [
           {
            "marker": {
             "line": {
              "color": "white",
              "width": 0.6
             }
            },
            "type": "histogram"
           }
          ],
          "histogram2d": [
           {
            "colorbar": {
             "outlinewidth": 1,
             "tickcolor": "rgb(36,36,36)",
             "ticks": "outside"
            },
            "colorscale": [
             [
              0,
              "#440154"
             ],
             [
              0.1111111111111111,
              "#482878"
             ],
             [
              0.2222222222222222,
              "#3e4989"
             ],
             [
              0.3333333333333333,
              "#31688e"
             ],
             [
              0.4444444444444444,
              "#26828e"
             ],
             [
              0.5555555555555556,
              "#1f9e89"
             ],
             [
              0.6666666666666666,
              "#35b779"
             ],
             [
              0.7777777777777778,
              "#6ece58"
             ],
             [
              0.8888888888888888,
              "#b5de2b"
             ],
             [
              1,
              "#fde725"
             ]
            ],
            "type": "histogram2d"
           }
          ],
          "histogram2dcontour": [
           {
            "colorbar": {
             "outlinewidth": 1,
             "tickcolor": "rgb(36,36,36)",
             "ticks": "outside"
            },
            "colorscale": [
             [
              0,
              "#440154"
             ],
             [
              0.1111111111111111,
              "#482878"
             ],
             [
              0.2222222222222222,
              "#3e4989"
             ],
             [
              0.3333333333333333,
              "#31688e"
             ],
             [
              0.4444444444444444,
              "#26828e"
             ],
             [
              0.5555555555555556,
              "#1f9e89"
             ],
             [
              0.6666666666666666,
              "#35b779"
             ],
             [
              0.7777777777777778,
              "#6ece58"
             ],
             [
              0.8888888888888888,
              "#b5de2b"
             ],
             [
              1,
              "#fde725"
             ]
            ],
            "type": "histogram2dcontour"
           }
          ],
          "mesh3d": [
           {
            "colorbar": {
             "outlinewidth": 1,
             "tickcolor": "rgb(36,36,36)",
             "ticks": "outside"
            },
            "type": "mesh3d"
           }
          ],
          "parcoords": [
           {
            "line": {
             "colorbar": {
              "outlinewidth": 1,
              "tickcolor": "rgb(36,36,36)",
              "ticks": "outside"
             }
            },
            "type": "parcoords"
           }
          ],
          "pie": [
           {
            "automargin": true,
            "type": "pie"
           }
          ],
          "scatter": [
           {
            "marker": {
             "colorbar": {
              "outlinewidth": 1,
              "tickcolor": "rgb(36,36,36)",
              "ticks": "outside"
             }
            },
            "type": "scatter"
           }
          ],
          "scatter3d": [
           {
            "line": {
             "colorbar": {
              "outlinewidth": 1,
              "tickcolor": "rgb(36,36,36)",
              "ticks": "outside"
             }
            },
            "marker": {
             "colorbar": {
              "outlinewidth": 1,
              "tickcolor": "rgb(36,36,36)",
              "ticks": "outside"
             }
            },
            "type": "scatter3d"
           }
          ],
          "scattercarpet": [
           {
            "marker": {
             "colorbar": {
              "outlinewidth": 1,
              "tickcolor": "rgb(36,36,36)",
              "ticks": "outside"
             }
            },
            "type": "scattercarpet"
           }
          ],
          "scattergeo": [
           {
            "marker": {
             "colorbar": {
              "outlinewidth": 1,
              "tickcolor": "rgb(36,36,36)",
              "ticks": "outside"
             }
            },
            "type": "scattergeo"
           }
          ],
          "scattergl": [
           {
            "marker": {
             "colorbar": {
              "outlinewidth": 1,
              "tickcolor": "rgb(36,36,36)",
              "ticks": "outside"
             }
            },
            "type": "scattergl"
           }
          ],
          "scattermapbox": [
           {
            "marker": {
             "colorbar": {
              "outlinewidth": 1,
              "tickcolor": "rgb(36,36,36)",
              "ticks": "outside"
             }
            },
            "type": "scattermapbox"
           }
          ],
          "scatterpolar": [
           {
            "marker": {
             "colorbar": {
              "outlinewidth": 1,
              "tickcolor": "rgb(36,36,36)",
              "ticks": "outside"
             }
            },
            "type": "scatterpolar"
           }
          ],
          "scatterpolargl": [
           {
            "marker": {
             "colorbar": {
              "outlinewidth": 1,
              "tickcolor": "rgb(36,36,36)",
              "ticks": "outside"
             }
            },
            "type": "scatterpolargl"
           }
          ],
          "scatterternary": [
           {
            "marker": {
             "colorbar": {
              "outlinewidth": 1,
              "tickcolor": "rgb(36,36,36)",
              "ticks": "outside"
             }
            },
            "type": "scatterternary"
           }
          ],
          "surface": [
           {
            "colorbar": {
             "outlinewidth": 1,
             "tickcolor": "rgb(36,36,36)",
             "ticks": "outside"
            },
            "colorscale": [
             [
              0,
              "#440154"
             ],
             [
              0.1111111111111111,
              "#482878"
             ],
             [
              0.2222222222222222,
              "#3e4989"
             ],
             [
              0.3333333333333333,
              "#31688e"
             ],
             [
              0.4444444444444444,
              "#26828e"
             ],
             [
              0.5555555555555556,
              "#1f9e89"
             ],
             [
              0.6666666666666666,
              "#35b779"
             ],
             [
              0.7777777777777778,
              "#6ece58"
             ],
             [
              0.8888888888888888,
              "#b5de2b"
             ],
             [
              1,
              "#fde725"
             ]
            ],
            "type": "surface"
           }
          ],
          "table": [
           {
            "cells": {
             "fill": {
              "color": "rgb(237,237,237)"
             },
             "line": {
              "color": "white"
             }
            },
            "header": {
             "fill": {
              "color": "rgb(217,217,217)"
             },
             "line": {
              "color": "white"
             }
            },
            "type": "table"
           }
          ]
         },
         "layout": {
          "annotationdefaults": {
           "arrowhead": 0,
           "arrowwidth": 1
          },
          "autosize": true,
          "autotypenumbers": "strict",
          "coloraxis": {
           "colorbar": {
            "outlinewidth": 1,
            "tickcolor": "rgb(36,36,36)",
            "ticks": "outside"
           }
          },
          "colorscale": {
           "diverging": [
            [
             0,
             "rgb(103,0,31)"
            ],
            [
             0.1,
             "rgb(178,24,43)"
            ],
            [
             0.2,
             "rgb(214,96,77)"
            ],
            [
             0.3,
             "rgb(244,165,130)"
            ],
            [
             0.4,
             "rgb(253,219,199)"
            ],
            [
             0.5,
             "rgb(247,247,247)"
            ],
            [
             0.6,
             "rgb(209,229,240)"
            ],
            [
             0.7,
             "rgb(146,197,222)"
            ],
            [
             0.8,
             "rgb(67,147,195)"
            ],
            [
             0.9,
             "rgb(33,102,172)"
            ],
            [
             1,
             "rgb(5,48,97)"
            ]
           ],
           "sequential": [
            [
             0,
             "#440154"
            ],
            [
             0.1111111111111111,
             "#482878"
            ],
            [
             0.2222222222222222,
             "#3e4989"
            ],
            [
             0.3333333333333333,
             "#31688e"
            ],
            [
             0.4444444444444444,
             "#26828e"
            ],
            [
             0.5555555555555556,
             "#1f9e89"
            ],
            [
             0.6666666666666666,
             "#35b779"
            ],
            [
             0.7777777777777778,
             "#6ece58"
            ],
            [
             0.8888888888888888,
             "#b5de2b"
            ],
            [
             1,
             "#fde725"
            ]
           ],
           "sequentialminus": [
            [
             0,
             "#440154"
            ],
            [
             0.1111111111111111,
             "#482878"
            ],
            [
             0.2222222222222222,
             "#3e4989"
            ],
            [
             0.3333333333333333,
             "#31688e"
            ],
            [
             0.4444444444444444,
             "#26828e"
            ],
            [
             0.5555555555555556,
             "#1f9e89"
            ],
            [
             0.6666666666666666,
             "#35b779"
            ],
            [
             0.7777777777777778,
             "#6ece58"
            ],
            [
             0.8888888888888888,
             "#b5de2b"
            ],
            [
             1,
             "#fde725"
            ]
           ]
          },
          "colorway": [
           "#1F77B4",
           "#FF7F0E",
           "#2CA02C",
           "#D62728",
           "#9467BD",
           "#8C564B",
           "#E377C2",
           "#7F7F7F",
           "#BCBD22",
           "#17BECF"
          ],
          "font": {
           "color": "rgb(36,36,36)"
          },
          "geo": {
           "bgcolor": "white",
           "lakecolor": "white",
           "landcolor": "white",
           "showlakes": true,
           "showland": true,
           "subunitcolor": "white"
          },
          "height": 250,
          "hoverlabel": {
           "align": "left"
          },
          "hovermode": "closest",
          "mapbox": {
           "style": "light"
          },
          "margin": {
           "b": 10,
           "l": 10,
           "r": 10,
           "t": 10
          },
          "paper_bgcolor": "white",
          "plot_bgcolor": "white",
          "polar": {
           "angularaxis": {
            "gridcolor": "rgb(232,232,232)",
            "linecolor": "rgb(36,36,36)",
            "showgrid": false,
            "showline": true,
            "ticks": "outside"
           },
           "bgcolor": "white",
           "radialaxis": {
            "gridcolor": "rgb(232,232,232)",
            "linecolor": "rgb(36,36,36)",
            "showgrid": false,
            "showline": true,
            "ticks": "outside"
           }
          },
          "scene": {
           "xaxis": {
            "backgroundcolor": "white",
            "gridcolor": "rgb(232,232,232)",
            "gridwidth": 2,
            "linecolor": "rgb(36,36,36)",
            "showbackground": true,
            "showgrid": false,
            "showline": true,
            "ticks": "outside",
            "zeroline": false,
            "zerolinecolor": "rgb(36,36,36)"
           },
           "yaxis": {
            "backgroundcolor": "white",
            "gridcolor": "rgb(232,232,232)",
            "gridwidth": 2,
            "linecolor": "rgb(36,36,36)",
            "showbackground": true,
            "showgrid": false,
            "showline": true,
            "ticks": "outside",
            "zeroline": false,
            "zerolinecolor": "rgb(36,36,36)"
           },
           "zaxis": {
            "backgroundcolor": "white",
            "gridcolor": "rgb(232,232,232)",
            "gridwidth": 2,
            "linecolor": "rgb(36,36,36)",
            "showbackground": true,
            "showgrid": false,
            "showline": true,
            "ticks": "outside",
            "zeroline": false,
            "zerolinecolor": "rgb(36,36,36)"
           }
          },
          "shapedefaults": {
           "fillcolor": "black",
           "line": {
            "width": 0
           },
           "opacity": 0.3
          },
          "ternary": {
           "aaxis": {
            "gridcolor": "rgb(232,232,232)",
            "linecolor": "rgb(36,36,36)",
            "showgrid": false,
            "showline": true,
            "ticks": "outside"
           },
           "baxis": {
            "gridcolor": "rgb(232,232,232)",
            "linecolor": "rgb(36,36,36)",
            "showgrid": false,
            "showline": true,
            "ticks": "outside"
           },
           "bgcolor": "white",
           "caxis": {
            "gridcolor": "rgb(232,232,232)",
            "linecolor": "rgb(36,36,36)",
            "showgrid": false,
            "showline": true,
            "ticks": "outside"
           }
          },
          "title": {
           "x": 0.5,
           "xanchor": "center"
          },
          "width": 350,
          "xaxis": {
           "automargin": true,
           "gridcolor": "rgb(232,232,232)",
           "linecolor": "rgb(36,36,36)",
           "showgrid": true,
           "showline": true,
           "ticks": "outside",
           "title": {
            "standoff": 15
           },
           "zeroline": false,
           "zerolinecolor": "rgb(36,36,36)"
          },
          "yaxis": {
           "automargin": true,
           "gridcolor": "rgb(232,232,232)",
           "linecolor": "rgb(36,36,36)",
           "showgrid": true,
           "showline": true,
           "ticks": "outside",
           "title": {
            "standoff": 15
           },
           "zeroline": false,
           "zerolinecolor": "rgb(36,36,36)"
          }
         }
        },
        "width": 450,
        "xaxis": {
         "anchor": "y",
         "autorange": true,
         "domain": [
          0,
          1
         ],
         "range": [
          0.5,
          21.5
         ],
         "title": {
          "text": "Number of articles published at a URL"
         },
         "type": "linear"
        },
        "yaxis": {
         "anchor": "x",
         "autorange": true,
         "domain": [
          0,
          1
         ],
         "range": [
          0,
          274.7368421052632
         ],
         "title": {
          "text": "count"
         }
        }
       }
      },
      "image/png": "[encoded data removed]",
      "image/svg+xml": [
       "<svg class=\"main-svg\" xmlns=\"http://www.w3.org/2000/svg\" xmlns:xlink=\"http://www.w3.org/1999/xlink\" width=\"450\" height=\"250\" style=\"\" viewBox=\"0 0 450 250\"><rect x=\"0\" y=\"0\" width=\"450\" height=\"250\" style=\"fill: rgb(255, 255, 255); fill-opacity: 1;\"/><defs id=\"defs-8cf5a2\"><g class=\"clips\"><clipPath id=\"clip8cf5a2xyplot\" class=\"plotclip\"><rect width=\"376\" height=\"181\"/></clipPath><clipPath class=\"axesclip\" id=\"clip8cf5a2x\"><rect x=\"64\" y=\"0\" width=\"376\" height=\"250\"/></clipPath><clipPath class=\"axesclip\" id=\"clip8cf5a2y\"><rect x=\"0\" y=\"10\" width=\"450\" height=\"181\"/></clipPath><clipPath class=\"axesclip\" id=\"clip8cf5a2xy\"><rect x=\"64\" y=\"10\" width=\"376\" height=\"181\"/></clipPath></g><g class=\"gradients\"/><g class=\"patterns\"/></defs><g class=\"bglayer\"/><g class=\"layer-below\"><g class=\"imagelayer\"/><g class=\"shapelayer\"/></g><g class=\"cartesianlayer\"><g class=\"subplot xy\"><g class=\"layer-subplot\"><g class=\"shapelayer\"/><g class=\"imagelayer\"/></g><g class=\"gridlayer\"><g class=\"x\"><path class=\"xgrid crisp\" transform=\"translate(144.57,0)\" d=\"M0,10v181\" style=\"stroke: rgb(232, 232, 232); stroke-opacity: 1; stroke-width: 1px;\"/><path class=\"xgrid crisp\" transform=\"translate(234.1,0)\" d=\"M0,10v181\" style=\"stroke: rgb(232, 232, 232); stroke-opacity: 1; stroke-width: 1px;\"/><path class=\"xgrid crisp\" transform=\"translate(323.62,0)\" d=\"M0,10v181\" style=\"stroke: rgb(232, 232, 232); stroke-opacity: 1; stroke-width: 1px;\"/><path class=\"xgrid crisp\" transform=\"translate(413.14,0)\" d=\"M0,10v181\" style=\"stroke: rgb(232, 232, 232); stroke-opacity: 1; stroke-width: 1px;\"/></g><g class=\"y\"><path class=\"ygrid crisp\" transform=\"translate(0,158.06)\" d=\"M64,0h376\" style=\"stroke: rgb(232, 232, 232); stroke-opacity: 1; stroke-width: 1px;\"/><path class=\"ygrid crisp\" transform=\"translate(0,125.12)\" d=\"M64,0h376\" style=\"stroke: rgb(232, 232, 232); stroke-opacity: 1; stroke-width: 1px;\"/><path class=\"ygrid crisp\" transform=\"translate(0,92.18)\" d=\"M64,0h376\" style=\"stroke: rgb(232, 232, 232); stroke-opacity: 1; stroke-width: 1px;\"/><path class=\"ygrid crisp\" transform=\"translate(0,59.24)\" d=\"M64,0h376\" style=\"stroke: rgb(232, 232, 232); stroke-opacity: 1; stroke-width: 1px;\"/><path class=\"ygrid crisp\" transform=\"translate(0,26.3)\" d=\"M64,0h376\" style=\"stroke: rgb(232, 232, 232); stroke-opacity: 1; stroke-width: 1px;\"/></g></g><g class=\"zerolinelayer\"/><path class=\"xlines-below\"/><path class=\"ylines-below\"/><g class=\"overlines-below\"/><g class=\"xaxislayer-below\"/><g class=\"yaxislayer-below\"/><g class=\"overaxes-below\"/><g class=\"plot\" transform=\"translate(64,10)\" clip-path=\"url(#clip8cf5a2xyplot)\"><g class=\"barlayer mlayer\"><g class=\"trace bars\" style=\"opacity: 1;\"><g class=\"points\"><g class=\"point\"><path d=\"M0,181V9.05H17.9V181Z\" style=\"vector-effect: non-scaling-stroke; opacity: 1; stroke-width: 0.6px; fill: rgb(31, 119, 180); fill-opacity: 1; stroke: rgb(255, 255, 255); stroke-opacity: 1;\"/></g><g class=\"point\"><path d=\"M17.9,181V154.65H35.81V181Z\" style=\"vector-effect: non-scaling-stroke; opacity: 1; stroke-width: 0.6px; fill: rgb(31, 119, 180); fill-opacity: 1; stroke: rgb(255, 255, 255); stroke-opacity: 1;\"/></g><g class=\"point\"><path d=\"M35.81,181V172.44H53.71V181Z\" style=\"vector-effect: non-scaling-stroke; opacity: 1; stroke-width: 0.6px; fill: rgb(31, 119, 180); fill-opacity: 1; stroke: rgb(255, 255, 255); stroke-opacity: 1;\"/></g><g class=\"point\"><path d=\"M53.71,181V175.73H71.62V181Z\" style=\"vector-effect: non-scaling-stroke; opacity: 1; stroke-width: 0.6px; fill: rgb(31, 119, 180); fill-opacity: 1; stroke: rgb(255, 255, 255); stroke-opacity: 1;\"/></g><g class=\"point\"><path d=\"M71.62,181V179.02H89.52V181Z\" style=\"vector-effect: non-scaling-stroke; opacity: 1; stroke-width: 0.6px; fill: rgb(31, 119, 180); fill-opacity: 1; stroke: rgb(255, 255, 255); stroke-opacity: 1;\"/></g><g class=\"point\"><path d=\"M89.52,181V179.68H107.43V181Z\" style=\"vector-effect: non-scaling-stroke; opacity: 1; stroke-width: 0.6px; fill: rgb(31, 119, 180); fill-opacity: 1; stroke: rgb(255, 255, 255); stroke-opacity: 1;\"/></g><g class=\"point\"><path d=\"M0,0Z\" style=\"vector-effect: non-scaling-stroke; opacity: 1; stroke-width: 0px; fill: rgb(31, 119, 180); fill-opacity: 1; stroke: rgb(255, 255, 255); stroke-opacity: 1;\"/></g><g class=\"point\"><path d=\"M0,0Z\" style=\"vector-effect: non-scaling-stroke; opacity: 1; stroke-width: 0px; fill: rgb(31, 119, 180); fill-opacity: 1; stroke: rgb(255, 255, 255); stroke-opacity: 1;\"/></g><g class=\"point\"><path d=\"M143.24,181V180.34H161.14V181Z\" style=\"vector-effect: non-scaling-stroke; opacity: 1; stroke-width: 0.6px; fill: rgb(31, 119, 180); fill-opacity: 1; stroke: rgb(255, 255, 255); stroke-opacity: 1;\"/></g><g class=\"point\"><path d=\"M0,0Z\" style=\"vector-effect: non-scaling-stroke; opacity: 1; stroke-width: 0px; fill: rgb(31, 119, 180); fill-opacity: 1; stroke: rgb(255, 255, 255); stroke-opacity: 1;\"/></g><g class=\"point\"><path d=\"M179.05,181V179.02H196.95V181Z\" style=\"vector-effect: non-scaling-stroke; opacity: 1; stroke-width: 0.6px; fill: rgb(31, 119, 180); fill-opacity: 1; stroke: rgb(255, 255, 255); stroke-opacity: 1;\"/></g><g class=\"point\"><path d=\"M0,0Z\" style=\"vector-effect: non-scaling-stroke; opacity: 1; stroke-width: 0px; fill: rgb(31, 119, 180); fill-opacity: 1; stroke: rgb(255, 255, 255); stroke-opacity: 1;\"/></g><g class=\"point\"><path d=\"M0,0Z\" style=\"vector-effect: non-scaling-stroke; opacity: 1; stroke-width: 0px; fill: rgb(31, 119, 180); fill-opacity: 1; stroke: rgb(255, 255, 255); stroke-opacity: 1;\"/></g><g class=\"point\"><path d=\"M232.76,181V180.34H250.67V181Z\" style=\"vector-effect: non-scaling-stroke; opacity: 1; stroke-width: 0.6px; fill: rgb(31, 119, 180); fill-opacity: 1; stroke: rgb(255, 255, 255); stroke-opacity: 1;\"/></g><g class=\"point\"><path d=\"M250.67,181V180.34H268.57V181Z\" style=\"vector-effect: non-scaling-stroke; opacity: 1; stroke-width: 0.6px; fill: rgb(31, 119, 180); fill-opacity: 1; stroke: rgb(255, 255, 255); stroke-opacity: 1;\"/></g><g class=\"point\"><path d=\"M268.57,181V180.34H286.48V181Z\" style=\"vector-effect: non-scaling-stroke; opacity: 1; stroke-width: 0.6px; fill: rgb(31, 119, 180); fill-opacity: 1; stroke: rgb(255, 255, 255); stroke-opacity: 1;\"/></g><g class=\"point\"><path d=\"M286.48,181V180.34H304.38V181Z\" style=\"vector-effect: non-scaling-stroke; opacity: 1; stroke-width: 0.6px; fill: rgb(31, 119, 180); fill-opacity: 1; stroke: rgb(255, 255, 255); stroke-opacity: 1;\"/></g><g class=\"point\"><path d=\"M0,0Z\" style=\"vector-effect: non-scaling-stroke; opacity: 1; stroke-width: 0px; fill: rgb(31, 119, 180); fill-opacity: 1; stroke: rgb(255, 255, 255); stroke-opacity: 1;\"/></g><g class=\"point\"><path d=\"M0,0Z\" style=\"vector-effect: non-scaling-stroke; opacity: 1; stroke-width: 0px; fill: rgb(31, 119, 180); fill-opacity: 1; stroke: rgb(255, 255, 255); stroke-opacity: 1;\"/></g><g class=\"point\"><path d=\"M340.19,181V180.34H358.1V181Z\" style=\"vector-effect: non-scaling-stroke; opacity: 1; stroke-width: 0.6px; fill: rgb(31, 119, 180); fill-opacity: 1; stroke: rgb(255, 255, 255); stroke-opacity: 1;\"/></g><g class=\"point\"><path d=\"M358.1,181V180.34H376V181Z\" style=\"vector-effect: non-scaling-stroke; opacity: 1; stroke-width: 0.6px; fill: rgb(31, 119, 180); fill-opacity: 1; stroke: rgb(255, 255, 255); stroke-opacity: 1;\"/></g></g></g></g></g><g class=\"overplot\"/><path class=\"xlines-above crisp\" d=\"M63,191.5H440\" style=\"fill: none; stroke-width: 1px; stroke: rgb(36, 36, 36); stroke-opacity: 1;\"/><path class=\"ylines-above crisp\" d=\"M63.5,10V191\" style=\"fill: none; stroke-width: 1px; stroke: rgb(36, 36, 36); stroke-opacity: 1;\"/><g class=\"overlines-above\"/><g class=\"xaxislayer-above\"><path class=\"xtick ticks crisp\" d=\"M0,192v5\" transform=\"translate(144.57,0)\" style=\"stroke: rgb(68, 68, 68); stroke-opacity: 1; stroke-width: 1px;\"/><path class=\"xtick ticks crisp\" d=\"M0,192v5\" transform=\"translate(234.1,0)\" style=\"stroke: rgb(68, 68, 68); stroke-opacity: 1; stroke-width: 1px;\"/><path class=\"xtick ticks crisp\" d=\"M0,192v5\" transform=\"translate(323.62,0)\" style=\"stroke: rgb(68, 68, 68); stroke-opacity: 1; stroke-width: 1px;\"/><path class=\"xtick ticks crisp\" d=\"M0,192v5\" transform=\"translate(413.14,0)\" style=\"stroke: rgb(68, 68, 68); stroke-opacity: 1; stroke-width: 1px;\"/><g class=\"xtick\"><text text-anchor=\"middle\" x=\"0\" y=\"211.4\" transform=\"translate(144.57,0)\" style=\"font-family: 'Open Sans', verdana, arial, sans-serif; font-size: 12px; fill: rgb(36, 36, 36); fill-opacity: 1; white-space: pre; opacity: 1;\">5</text></g><g class=\"xtick\"><text text-anchor=\"middle\" x=\"0\" y=\"211.4\" style=\"font-family: 'Open Sans', verdana, arial, sans-serif; font-size: 12px; fill: rgb(36, 36, 36); fill-opacity: 1; white-space: pre; opacity: 1;\" transform=\"translate(234.1,0)\">10</text></g><g class=\"xtick\"><text text-anchor=\"middle\" x=\"0\" y=\"211.4\" style=\"font-family: 'Open Sans', verdana, arial, sans-serif; font-size: 12px; fill: rgb(36, 36, 36); fill-opacity: 1; white-space: pre; opacity: 1;\" transform=\"translate(323.62,0)\">15</text></g><g class=\"xtick\"><text text-anchor=\"middle\" x=\"0\" y=\"211.4\" style=\"font-family: 'Open Sans', verdana, arial, sans-serif; font-size: 12px; fill: rgb(36, 36, 36); fill-opacity: 1; white-space: pre; opacity: 1;\" transform=\"translate(413.14,0)\">20</text></g></g><g class=\"yaxislayer-above\"><path class=\"ytick ticks crisp\" d=\"M63,0h-5\" transform=\"translate(0,191)\" style=\"stroke: rgb(68, 68, 68); stroke-opacity: 1; stroke-width: 1px;\"/><path class=\"ytick ticks crisp\" d=\"M63,0h-5\" transform=\"translate(0,158.06)\" style=\"stroke: rgb(68, 68, 68); stroke-opacity: 1; stroke-width: 1px;\"/><path class=\"ytick ticks crisp\" d=\"M63,0h-5\" transform=\"translate(0,125.12)\" style=\"stroke: rgb(68, 68, 68); stroke-opacity: 1; stroke-width: 1px;\"/><path class=\"ytick ticks crisp\" d=\"M63,0h-5\" transform=\"translate(0,92.18)\" style=\"stroke: rgb(68, 68, 68); stroke-opacity: 1; stroke-width: 1px;\"/><path class=\"ytick ticks crisp\" d=\"M63,0h-5\" transform=\"translate(0,59.24)\" style=\"stroke: rgb(68, 68, 68); stroke-opacity: 1; stroke-width: 1px;\"/><path class=\"ytick ticks crisp\" d=\"M63,0h-5\" transform=\"translate(0,26.3)\" style=\"stroke: rgb(68, 68, 68); stroke-opacity: 1; stroke-width: 1px;\"/><g class=\"ytick\"><text text-anchor=\"end\" x=\"55.6\" y=\"4.199999999999999\" transform=\"translate(0,191)\" style=\"font-family: 'Open Sans', verdana, arial, sans-serif; font-size: 12px; fill: rgb(36, 36, 36); fill-opacity: 1; white-space: pre; opacity: 1;\">0</text></g><g class=\"ytick\"><text text-anchor=\"end\" x=\"55.6\" y=\"4.199999999999999\" style=\"font-family: 'Open Sans', verdana, arial, sans-serif; font-size: 12px; fill: rgb(36, 36, 36); fill-opacity: 1; white-space: pre; opacity: 1;\" transform=\"translate(0,158.06)\">50</text></g><g class=\"ytick\"><text text-anchor=\"end\" x=\"55.6\" y=\"4.199999999999999\" style=\"font-family: 'Open Sans', verdana, arial, sans-serif; font-size: 12px; fill: rgb(36, 36, 36); fill-opacity: 1; white-space: pre; opacity: 1;\" transform=\"translate(0,125.12)\">100</text></g><g class=\"ytick\"><text text-anchor=\"end\" x=\"55.6\" y=\"4.199999999999999\" style=\"font-family: 'Open Sans', verdana, arial, sans-serif; font-size: 12px; fill: rgb(36, 36, 36); fill-opacity: 1; white-space: pre; opacity: 1;\" transform=\"translate(0,92.18)\">150</text></g><g class=\"ytick\"><text text-anchor=\"end\" x=\"55.6\" y=\"4.199999999999999\" style=\"font-family: 'Open Sans', verdana, arial, sans-serif; font-size: 12px; fill: rgb(36, 36, 36); fill-opacity: 1; white-space: pre; opacity: 1;\" transform=\"translate(0,59.24)\">200</text></g><g class=\"ytick\"><text text-anchor=\"end\" x=\"55.6\" y=\"4.199999999999999\" style=\"font-family: 'Open Sans', verdana, arial, sans-serif; font-size: 12px; fill: rgb(36, 36, 36); fill-opacity: 1; white-space: pre; opacity: 1;\" transform=\"translate(0,26.3)\">250</text></g></g><g class=\"overaxes-above\"/></g></g><g class=\"polarlayer\"/><g class=\"smithlayer\"/><g class=\"ternarylayer\"/><g class=\"geolayer\"/><g class=\"funnelarealayer\"/><g class=\"pielayer\"/><g class=\"iciclelayer\"/><g class=\"treemaplayer\"/><g class=\"sunburstlayer\"/><g class=\"glimages\"/><defs id=\"topdefs-8cf5a2\"><g class=\"clips\"/></defs><g class=\"layer-above\"><g class=\"imagelayer\"/><g class=\"shapelayer\"/></g><g class=\"infolayer\"><g class=\"g-gtitle\"/><g class=\"g-xtitle\"><text class=\"xtitle\" x=\"252\" y=\"239.70625\" text-anchor=\"middle\" style=\"font-family: 'Open Sans', verdana, arial, sans-serif; font-size: 14px; fill: rgb(36, 36, 36); opacity: 1; font-weight: normal; white-space: pre;\">Number of articles published at a URL</text></g><g class=\"g-ytitle\" transform=\"translate(4.7841796875,0)\"><text class=\"ytitle\" transform=\"rotate(-90,10.215625000000003,100.5)\" x=\"10.215625000000003\" y=\"100.5\" text-anchor=\"middle\" style=\"font-family: 'Open Sans', verdana, arial, sans-serif; font-size: 14px; fill: rgb(36, 36, 36); opacity: 1; font-weight: normal; white-space: pre;\">count</text></g></g></svg>"
      ]
     },
     "metadata": {},
     "output_type": "display_data"
    }
   ],
   "source": [
    "fig=px.histogram(X_train['baseurl'].value_counts(), width=450, height=250,\n",
    "            labels={\"value\":\"Number of articles published at a URL\"})\n",
    "\n",
    "fig.update_layout(showlegend=False)"
   ]
  },
  {
   "cell_type": "markdown",
   "metadata": {},
   "source": [
    "This histogram shows that the vast majority (261 out of 337) of websites have only one article in the train set, and only a few websites have more than five articles in the train set.\n",
    "Nonetheless, it can be informative to identify the websites that published the most fake or real articles. First, we find the websites that published the most fake articles:"
   ]
  },
  {
   "cell_type": "code",
   "execution_count": 6,
   "metadata": {
    "tags": [
     "hide-input"
    ]
   },
   "outputs": [
    {
     "data": {
      "application/vnd.plotly.v1+json": {
       "config": {
        "plotlyServerURL": "https://plot.ly"
       },
       "data": [
        {
         "alignmentgroup": "True",
         "hovertemplate": "variable=baseurl<br>Number of articles published at a URL=%{x}<br>Base URL=%{y}<extra></extra>",
         "legendgroup": "baseurl",
         "marker": {
          "color": "#1F77B4",
          "pattern": {
           "shape": ""
          }
         },
         "name": "baseurl",
         "offsetgroup": "baseurl",
         "orientation": "h",
         "showlegend": true,
         "textposition": "auto",
         "type": "bar",
         "x": [
          3,
          3,
          3,
          3,
          3,
          3,
          4,
          4,
          5,
          15
         ],
         "xaxis": "x",
         "y": [
          "worldnewsdailyreport.com",
          "newsweek.com",
          "cnn.com",
          "washingtonpost.com",
          "trendolizer.com",
          "observeronline.news",
          "thehill.com",
          "dailyusaupdate.com",
          "thegatewaypundit.com",
          "yournewswire.com"
         ],
         "yaxis": "y"
        }
       ],
       "layout": {
        "barmode": "relative",
        "height": 250,
        "legend": {
         "title": {
          "text": "variable"
         },
         "tracegroupgap": 0
        },
        "showlegend": false,
        "template": {
         "data": {
          "bar": [
           {
            "error_x": {
             "color": "rgb(36,36,36)"
            },
            "error_y": {
             "color": "rgb(36,36,36)"
            },
            "marker": {
             "line": {
              "color": "white",
              "width": 0.5
             },
             "pattern": {
              "fillmode": "overlay",
              "size": 10,
              "solidity": 0.2
             }
            },
            "type": "bar"
           }
          ],
          "barpolar": [
           {
            "marker": {
             "line": {
              "color": "white",
              "width": 0.5
             },
             "pattern": {
              "fillmode": "overlay",
              "size": 10,
              "solidity": 0.2
             }
            },
            "type": "barpolar"
           }
          ],
          "carpet": [
           {
            "aaxis": {
             "endlinecolor": "rgb(36,36,36)",
             "gridcolor": "white",
             "linecolor": "white",
             "minorgridcolor": "white",
             "startlinecolor": "rgb(36,36,36)"
            },
            "baxis": {
             "endlinecolor": "rgb(36,36,36)",
             "gridcolor": "white",
             "linecolor": "white",
             "minorgridcolor": "white",
             "startlinecolor": "rgb(36,36,36)"
            },
            "type": "carpet"
           }
          ],
          "choropleth": [
           {
            "colorbar": {
             "outlinewidth": 1,
             "tickcolor": "rgb(36,36,36)",
             "ticks": "outside"
            },
            "type": "choropleth"
           }
          ],
          "contour": [
           {
            "colorbar": {
             "outlinewidth": 1,
             "tickcolor": "rgb(36,36,36)",
             "ticks": "outside"
            },
            "colorscale": [
             [
              0,
              "#440154"
             ],
             [
              0.1111111111111111,
              "#482878"
             ],
             [
              0.2222222222222222,
              "#3e4989"
             ],
             [
              0.3333333333333333,
              "#31688e"
             ],
             [
              0.4444444444444444,
              "#26828e"
             ],
             [
              0.5555555555555556,
              "#1f9e89"
             ],
             [
              0.6666666666666666,
              "#35b779"
             ],
             [
              0.7777777777777778,
              "#6ece58"
             ],
             [
              0.8888888888888888,
              "#b5de2b"
             ],
             [
              1,
              "#fde725"
             ]
            ],
            "type": "contour"
           }
          ],
          "contourcarpet": [
           {
            "colorbar": {
             "outlinewidth": 1,
             "tickcolor": "rgb(36,36,36)",
             "ticks": "outside"
            },
            "type": "contourcarpet"
           }
          ],
          "heatmap": [
           {
            "colorbar": {
             "outlinewidth": 1,
             "tickcolor": "rgb(36,36,36)",
             "ticks": "outside"
            },
            "colorscale": [
             [
              0,
              "#440154"
             ],
             [
              0.1111111111111111,
              "#482878"
             ],
             [
              0.2222222222222222,
              "#3e4989"
             ],
             [
              0.3333333333333333,
              "#31688e"
             ],
             [
              0.4444444444444444,
              "#26828e"
             ],
             [
              0.5555555555555556,
              "#1f9e89"
             ],
             [
              0.6666666666666666,
              "#35b779"
             ],
             [
              0.7777777777777778,
              "#6ece58"
             ],
             [
              0.8888888888888888,
              "#b5de2b"
             ],
             [
              1,
              "#fde725"
             ]
            ],
            "type": "heatmap"
           }
          ],
          "heatmapgl": [
           {
            "colorbar": {
             "outlinewidth": 1,
             "tickcolor": "rgb(36,36,36)",
             "ticks": "outside"
            },
            "colorscale": [
             [
              0,
              "#440154"
             ],
             [
              0.1111111111111111,
              "#482878"
             ],
             [
              0.2222222222222222,
              "#3e4989"
             ],
             [
              0.3333333333333333,
              "#31688e"
             ],
             [
              0.4444444444444444,
              "#26828e"
             ],
             [
              0.5555555555555556,
              "#1f9e89"
             ],
             [
              0.6666666666666666,
              "#35b779"
             ],
             [
              0.7777777777777778,
              "#6ece58"
             ],
             [
              0.8888888888888888,
              "#b5de2b"
             ],
             [
              1,
              "#fde725"
             ]
            ],
            "type": "heatmapgl"
           }
          ],
          "histogram": [
           {
            "marker": {
             "line": {
              "color": "white",
              "width": 0.6
             }
            },
            "type": "histogram"
           }
          ],
          "histogram2d": [
           {
            "colorbar": {
             "outlinewidth": 1,
             "tickcolor": "rgb(36,36,36)",
             "ticks": "outside"
            },
            "colorscale": [
             [
              0,
              "#440154"
             ],
             [
              0.1111111111111111,
              "#482878"
             ],
             [
              0.2222222222222222,
              "#3e4989"
             ],
             [
              0.3333333333333333,
              "#31688e"
             ],
             [
              0.4444444444444444,
              "#26828e"
             ],
             [
              0.5555555555555556,
              "#1f9e89"
             ],
             [
              0.6666666666666666,
              "#35b779"
             ],
             [
              0.7777777777777778,
              "#6ece58"
             ],
             [
              0.8888888888888888,
              "#b5de2b"
             ],
             [
              1,
              "#fde725"
             ]
            ],
            "type": "histogram2d"
           }
          ],
          "histogram2dcontour": [
           {
            "colorbar": {
             "outlinewidth": 1,
             "tickcolor": "rgb(36,36,36)",
             "ticks": "outside"
            },
            "colorscale": [
             [
              0,
              "#440154"
             ],
             [
              0.1111111111111111,
              "#482878"
             ],
             [
              0.2222222222222222,
              "#3e4989"
             ],
             [
              0.3333333333333333,
              "#31688e"
             ],
             [
              0.4444444444444444,
              "#26828e"
             ],
             [
              0.5555555555555556,
              "#1f9e89"
             ],
             [
              0.6666666666666666,
              "#35b779"
             ],
             [
              0.7777777777777778,
              "#6ece58"
             ],
             [
              0.8888888888888888,
              "#b5de2b"
             ],
             [
              1,
              "#fde725"
             ]
            ],
            "type": "histogram2dcontour"
           }
          ],
          "mesh3d": [
           {
            "colorbar": {
             "outlinewidth": 1,
             "tickcolor": "rgb(36,36,36)",
             "ticks": "outside"
            },
            "type": "mesh3d"
           }
          ],
          "parcoords": [
           {
            "line": {
             "colorbar": {
              "outlinewidth": 1,
              "tickcolor": "rgb(36,36,36)",
              "ticks": "outside"
             }
            },
            "type": "parcoords"
           }
          ],
          "pie": [
           {
            "automargin": true,
            "type": "pie"
           }
          ],
          "scatter": [
           {
            "marker": {
             "colorbar": {
              "outlinewidth": 1,
              "tickcolor": "rgb(36,36,36)",
              "ticks": "outside"
             }
            },
            "type": "scatter"
           }
          ],
          "scatter3d": [
           {
            "line": {
             "colorbar": {
              "outlinewidth": 1,
              "tickcolor": "rgb(36,36,36)",
              "ticks": "outside"
             }
            },
            "marker": {
             "colorbar": {
              "outlinewidth": 1,
              "tickcolor": "rgb(36,36,36)",
              "ticks": "outside"
             }
            },
            "type": "scatter3d"
           }
          ],
          "scattercarpet": [
           {
            "marker": {
             "colorbar": {
              "outlinewidth": 1,
              "tickcolor": "rgb(36,36,36)",
              "ticks": "outside"
             }
            },
            "type": "scattercarpet"
           }
          ],
          "scattergeo": [
           {
            "marker": {
             "colorbar": {
              "outlinewidth": 1,
              "tickcolor": "rgb(36,36,36)",
              "ticks": "outside"
             }
            },
            "type": "scattergeo"
           }
          ],
          "scattergl": [
           {
            "marker": {
             "colorbar": {
              "outlinewidth": 1,
              "tickcolor": "rgb(36,36,36)",
              "ticks": "outside"
             }
            },
            "type": "scattergl"
           }
          ],
          "scattermapbox": [
           {
            "marker": {
             "colorbar": {
              "outlinewidth": 1,
              "tickcolor": "rgb(36,36,36)",
              "ticks": "outside"
             }
            },
            "type": "scattermapbox"
           }
          ],
          "scatterpolar": [
           {
            "marker": {
             "colorbar": {
              "outlinewidth": 1,
              "tickcolor": "rgb(36,36,36)",
              "ticks": "outside"
             }
            },
            "type": "scatterpolar"
           }
          ],
          "scatterpolargl": [
           {
            "marker": {
             "colorbar": {
              "outlinewidth": 1,
              "tickcolor": "rgb(36,36,36)",
              "ticks": "outside"
             }
            },
            "type": "scatterpolargl"
           }
          ],
          "scatterternary": [
           {
            "marker": {
             "colorbar": {
              "outlinewidth": 1,
              "tickcolor": "rgb(36,36,36)",
              "ticks": "outside"
             }
            },
            "type": "scatterternary"
           }
          ],
          "surface": [
           {
            "colorbar": {
             "outlinewidth": 1,
             "tickcolor": "rgb(36,36,36)",
             "ticks": "outside"
            },
            "colorscale": [
             [
              0,
              "#440154"
             ],
             [
              0.1111111111111111,
              "#482878"
             ],
             [
              0.2222222222222222,
              "#3e4989"
             ],
             [
              0.3333333333333333,
              "#31688e"
             ],
             [
              0.4444444444444444,
              "#26828e"
             ],
             [
              0.5555555555555556,
              "#1f9e89"
             ],
             [
              0.6666666666666666,
              "#35b779"
             ],
             [
              0.7777777777777778,
              "#6ece58"
             ],
             [
              0.8888888888888888,
              "#b5de2b"
             ],
             [
              1,
              "#fde725"
             ]
            ],
            "type": "surface"
           }
          ],
          "table": [
           {
            "cells": {
             "fill": {
              "color": "rgb(237,237,237)"
             },
             "line": {
              "color": "white"
             }
            },
            "header": {
             "fill": {
              "color": "rgb(217,217,217)"
             },
             "line": {
              "color": "white"
             }
            },
            "type": "table"
           }
          ]
         },
         "layout": {
          "annotationdefaults": {
           "arrowhead": 0,
           "arrowwidth": 1
          },
          "autosize": true,
          "autotypenumbers": "strict",
          "coloraxis": {
           "colorbar": {
            "outlinewidth": 1,
            "tickcolor": "rgb(36,36,36)",
            "ticks": "outside"
           }
          },
          "colorscale": {
           "diverging": [
            [
             0,
             "rgb(103,0,31)"
            ],
            [
             0.1,
             "rgb(178,24,43)"
            ],
            [
             0.2,
             "rgb(214,96,77)"
            ],
            [
             0.3,
             "rgb(244,165,130)"
            ],
            [
             0.4,
             "rgb(253,219,199)"
            ],
            [
             0.5,
             "rgb(247,247,247)"
            ],
            [
             0.6,
             "rgb(209,229,240)"
            ],
            [
             0.7,
             "rgb(146,197,222)"
            ],
            [
             0.8,
             "rgb(67,147,195)"
            ],
            [
             0.9,
             "rgb(33,102,172)"
            ],
            [
             1,
             "rgb(5,48,97)"
            ]
           ],
           "sequential": [
            [
             0,
             "#440154"
            ],
            [
             0.1111111111111111,
             "#482878"
            ],
            [
             0.2222222222222222,
             "#3e4989"
            ],
            [
             0.3333333333333333,
             "#31688e"
            ],
            [
             0.4444444444444444,
             "#26828e"
            ],
            [
             0.5555555555555556,
             "#1f9e89"
            ],
            [
             0.6666666666666666,
             "#35b779"
            ],
            [
             0.7777777777777778,
             "#6ece58"
            ],
            [
             0.8888888888888888,
             "#b5de2b"
            ],
            [
             1,
             "#fde725"
            ]
           ],
           "sequentialminus": [
            [
             0,
             "#440154"
            ],
            [
             0.1111111111111111,
             "#482878"
            ],
            [
             0.2222222222222222,
             "#3e4989"
            ],
            [
             0.3333333333333333,
             "#31688e"
            ],
            [
             0.4444444444444444,
             "#26828e"
            ],
            [
             0.5555555555555556,
             "#1f9e89"
            ],
            [
             0.6666666666666666,
             "#35b779"
            ],
            [
             0.7777777777777778,
             "#6ece58"
            ],
            [
             0.8888888888888888,
             "#b5de2b"
            ],
            [
             1,
             "#fde725"
            ]
           ]
          },
          "colorway": [
           "#1F77B4",
           "#FF7F0E",
           "#2CA02C",
           "#D62728",
           "#9467BD",
           "#8C564B",
           "#E377C2",
           "#7F7F7F",
           "#BCBD22",
           "#17BECF"
          ],
          "font": {
           "color": "rgb(36,36,36)"
          },
          "geo": {
           "bgcolor": "white",
           "lakecolor": "white",
           "landcolor": "white",
           "showlakes": true,
           "showland": true,
           "subunitcolor": "white"
          },
          "height": 250,
          "hoverlabel": {
           "align": "left"
          },
          "hovermode": "closest",
          "mapbox": {
           "style": "light"
          },
          "margin": {
           "b": 10,
           "l": 10,
           "r": 10,
           "t": 10
          },
          "paper_bgcolor": "white",
          "plot_bgcolor": "white",
          "polar": {
           "angularaxis": {
            "gridcolor": "rgb(232,232,232)",
            "linecolor": "rgb(36,36,36)",
            "showgrid": false,
            "showline": true,
            "ticks": "outside"
           },
           "bgcolor": "white",
           "radialaxis": {
            "gridcolor": "rgb(232,232,232)",
            "linecolor": "rgb(36,36,36)",
            "showgrid": false,
            "showline": true,
            "ticks": "outside"
           }
          },
          "scene": {
           "xaxis": {
            "backgroundcolor": "white",
            "gridcolor": "rgb(232,232,232)",
            "gridwidth": 2,
            "linecolor": "rgb(36,36,36)",
            "showbackground": true,
            "showgrid": false,
            "showline": true,
            "ticks": "outside",
            "zeroline": false,
            "zerolinecolor": "rgb(36,36,36)"
           },
           "yaxis": {
            "backgroundcolor": "white",
            "gridcolor": "rgb(232,232,232)",
            "gridwidth": 2,
            "linecolor": "rgb(36,36,36)",
            "showbackground": true,
            "showgrid": false,
            "showline": true,
            "ticks": "outside",
            "zeroline": false,
            "zerolinecolor": "rgb(36,36,36)"
           },
           "zaxis": {
            "backgroundcolor": "white",
            "gridcolor": "rgb(232,232,232)",
            "gridwidth": 2,
            "linecolor": "rgb(36,36,36)",
            "showbackground": true,
            "showgrid": false,
            "showline": true,
            "ticks": "outside",
            "zeroline": false,
            "zerolinecolor": "rgb(36,36,36)"
           }
          },
          "shapedefaults": {
           "fillcolor": "black",
           "line": {
            "width": 0
           },
           "opacity": 0.3
          },
          "ternary": {
           "aaxis": {
            "gridcolor": "rgb(232,232,232)",
            "linecolor": "rgb(36,36,36)",
            "showgrid": false,
            "showline": true,
            "ticks": "outside"
           },
           "baxis": {
            "gridcolor": "rgb(232,232,232)",
            "linecolor": "rgb(36,36,36)",
            "showgrid": false,
            "showline": true,
            "ticks": "outside"
           },
           "bgcolor": "white",
           "caxis": {
            "gridcolor": "rgb(232,232,232)",
            "linecolor": "rgb(36,36,36)",
            "showgrid": false,
            "showline": true,
            "ticks": "outside"
           }
          },
          "title": {
           "x": 0.5,
           "xanchor": "center"
          },
          "width": 350,
          "xaxis": {
           "automargin": true,
           "gridcolor": "rgb(232,232,232)",
           "linecolor": "rgb(36,36,36)",
           "showgrid": true,
           "showline": true,
           "ticks": "outside",
           "title": {
            "standoff": 15
           },
           "zeroline": false,
           "zerolinecolor": "rgb(36,36,36)"
          },
          "yaxis": {
           "automargin": true,
           "gridcolor": "rgb(232,232,232)",
           "linecolor": "rgb(36,36,36)",
           "showgrid": true,
           "showline": true,
           "ticks": "outside",
           "title": {
            "standoff": 15
           },
           "zeroline": false,
           "zerolinecolor": "rgb(36,36,36)"
          }
         }
        },
        "width": 550,
        "xaxis": {
         "anchor": "y",
         "autorange": true,
         "domain": [
          0,
          1
         ],
         "range": [
          0,
          15.789473684210526
         ],
         "title": {
          "text": "Number of articles published at a URL"
         },
         "type": "linear"
        },
        "yaxis": {
         "anchor": "x",
         "autorange": true,
         "domain": [
          0,
          1
         ],
         "range": [
          -0.5,
          9.5
         ],
         "title": {
          "text": "Base URL"
         },
         "type": "category"
        }
       }
      },
      "image/png": "[encoded data removed]",
      "image/svg+xml": [
       "<svg class=\"main-svg\" xmlns=\"http://www.w3.org/2000/svg\" xmlns:xlink=\"http://www.w3.org/1999/xlink\" width=\"550\" height=\"250\" style=\"\" viewBox=\"0 0 550 250\"><rect x=\"0\" y=\"0\" width=\"550\" height=\"250\" style=\"fill: rgb(255, 255, 255); fill-opacity: 1;\"/><defs id=\"defs-cc2285\"><g class=\"clips\"><clipPath id=\"clipcc2285xyplot\" class=\"plotclip\"><rect width=\"347\" height=\"181\"/></clipPath><clipPath class=\"axesclip\" id=\"clipcc2285x\"><rect x=\"193\" y=\"0\" width=\"347\" height=\"250\"/></clipPath><clipPath class=\"axesclip\" id=\"clipcc2285y\"><rect x=\"0\" y=\"10\" width=\"550\" height=\"181\"/></clipPath><clipPath class=\"axesclip\" id=\"clipcc2285xy\"><rect x=\"193\" y=\"10\" width=\"347\" height=\"181\"/></clipPath></g><g class=\"gradients\"/><g class=\"patterns\"/></defs><g class=\"bglayer\"/><g class=\"layer-below\"><g class=\"imagelayer\"/><g class=\"shapelayer\"/></g><g class=\"cartesianlayer\"><g class=\"subplot xy\"><g class=\"layer-subplot\"><g class=\"shapelayer\"/><g class=\"imagelayer\"/></g><g class=\"gridlayer\"><g class=\"x\"><path class=\"xgrid crisp\" transform=\"translate(302.88,0)\" d=\"M0,10v181\" style=\"stroke: rgb(232, 232, 232); stroke-opacity: 1; stroke-width: 1px;\"/><path class=\"xgrid crisp\" transform=\"translate(412.77,0)\" d=\"M0,10v181\" style=\"stroke: rgb(232, 232, 232); stroke-opacity: 1; stroke-width: 1px;\"/><path class=\"xgrid crisp\" transform=\"translate(522.65,0)\" d=\"M0,10v181\" style=\"stroke: rgb(232, 232, 232); stroke-opacity: 1; stroke-width: 1px;\"/></g><g class=\"y\"><path class=\"ygrid crisp\" transform=\"translate(0,181.95)\" d=\"M193,0h347\" style=\"stroke: rgb(232, 232, 232); stroke-opacity: 1; stroke-width: 1px;\"/><path class=\"ygrid crisp\" transform=\"translate(0,163.85)\" d=\"M193,0h347\" style=\"stroke: rgb(232, 232, 232); stroke-opacity: 1; stroke-width: 1px;\"/><path class=\"ygrid crisp\" transform=\"translate(0,145.75)\" d=\"M193,0h347\" style=\"stroke: rgb(232, 232, 232); stroke-opacity: 1; stroke-width: 1px;\"/><path class=\"ygrid crisp\" transform=\"translate(0,127.65)\" d=\"M193,0h347\" style=\"stroke: rgb(232, 232, 232); stroke-opacity: 1; stroke-width: 1px;\"/><path class=\"ygrid crisp\" transform=\"translate(0,109.55)\" d=\"M193,0h347\" style=\"stroke: rgb(232, 232, 232); stroke-opacity: 1; stroke-width: 1px;\"/><path class=\"ygrid crisp\" transform=\"translate(0,91.45)\" d=\"M193,0h347\" style=\"stroke: rgb(232, 232, 232); stroke-opacity: 1; stroke-width: 1px;\"/><path class=\"ygrid crisp\" transform=\"translate(0,73.35)\" d=\"M193,0h347\" style=\"stroke: rgb(232, 232, 232); stroke-opacity: 1; stroke-width: 1px;\"/><path class=\"ygrid crisp\" transform=\"translate(0,55.25)\" d=\"M193,0h347\" style=\"stroke: rgb(232, 232, 232); stroke-opacity: 1; stroke-width: 1px;\"/><path class=\"ygrid crisp\" transform=\"translate(0,37.15)\" d=\"M193,0h347\" style=\"stroke: rgb(232, 232, 232); stroke-opacity: 1; stroke-width: 1px;\"/><path class=\"ygrid crisp\" transform=\"translate(0,19.05)\" d=\"M193,0h347\" style=\"stroke: rgb(232, 232, 232); stroke-opacity: 1; stroke-width: 1px;\"/></g></g><g class=\"zerolinelayer\"/><path class=\"xlines-below\"/><path class=\"ylines-below\"/><g class=\"overlines-below\"/><g class=\"xaxislayer-below\"/><g class=\"yaxislayer-below\"/><g class=\"overaxes-below\"/><g class=\"plot\" transform=\"translate(193,10)\" clip-path=\"url(#clipcc2285xyplot)\"><g class=\"barlayer mlayer\"><g class=\"trace bars\" style=\"opacity: 1;\"><g class=\"points\"><g class=\"point\"><path d=\"M0,179.19V164.71H65.93V179.19Z\" style=\"vector-effect: non-scaling-stroke; opacity: 1; stroke-width: 0.5px; fill: rgb(31, 119, 180); fill-opacity: 1; stroke: rgb(255, 255, 255); stroke-opacity: 1;\"/></g><g class=\"point\"><path d=\"M0,161.09V146.61H65.93V161.09Z\" style=\"vector-effect: non-scaling-stroke; opacity: 1; stroke-width: 0.5px; fill: rgb(31, 119, 180); fill-opacity: 1; stroke: rgb(255, 255, 255); stroke-opacity: 1;\"/></g><g class=\"point\"><path d=\"M0,142.99V128.51H65.93V142.99Z\" style=\"vector-effect: non-scaling-stroke; opacity: 1; stroke-width: 0.5px; fill: rgb(31, 119, 180); fill-opacity: 1; stroke: rgb(255, 255, 255); stroke-opacity: 1;\"/></g><g class=\"point\"><path d=\"M0,124.89V110.41H65.93V124.89Z\" style=\"vector-effect: non-scaling-stroke; opacity: 1; stroke-width: 0.5px; fill: rgb(31, 119, 180); fill-opacity: 1; stroke: rgb(255, 255, 255); stroke-opacity: 1;\"/></g><g class=\"point\"><path d=\"M0,106.79V92.31H65.93V106.79Z\" style=\"vector-effect: non-scaling-stroke; opacity: 1; stroke-width: 0.5px; fill: rgb(31, 119, 180); fill-opacity: 1; stroke: rgb(255, 255, 255); stroke-opacity: 1;\"/></g><g class=\"point\"><path d=\"M0,88.69V74.21H65.93V88.69Z\" style=\"vector-effect: non-scaling-stroke; opacity: 1; stroke-width: 0.5px; fill: rgb(31, 119, 180); fill-opacity: 1; stroke: rgb(255, 255, 255); stroke-opacity: 1;\"/></g><g class=\"point\"><path d=\"M0,70.59V56.11H87.91V70.59Z\" style=\"vector-effect: non-scaling-stroke; opacity: 1; stroke-width: 0.5px; fill: rgb(31, 119, 180); fill-opacity: 1; stroke: rgb(255, 255, 255); stroke-opacity: 1;\"/></g><g class=\"point\"><path d=\"M0,52.49V38.01H87.91V52.49Z\" style=\"vector-effect: non-scaling-stroke; opacity: 1; stroke-width: 0.5px; fill: rgb(31, 119, 180); fill-opacity: 1; stroke: rgb(255, 255, 255); stroke-opacity: 1;\"/></g><g class=\"point\"><path d=\"M0,34.39V19.91H109.88V34.39Z\" style=\"vector-effect: non-scaling-stroke; opacity: 1; stroke-width: 0.5px; fill: rgb(31, 119, 180); fill-opacity: 1; stroke: rgb(255, 255, 255); stroke-opacity: 1;\"/></g><g class=\"point\"><path d=\"M0,16.29V1.81H329.65V16.29Z\" style=\"vector-effect: non-scaling-stroke; opacity: 1; stroke-width: 0.5px; fill: rgb(31, 119, 180); fill-opacity: 1; stroke: rgb(255, 255, 255); stroke-opacity: 1;\"/></g></g></g></g></g><g class=\"overplot\"/><path class=\"xlines-above crisp\" d=\"M192,191.5H540\" style=\"fill: none; stroke-width: 1px; stroke: rgb(36, 36, 36); stroke-opacity: 1;\"/><path class=\"ylines-above crisp\" d=\"M192.5,10V191\" style=\"fill: none; stroke-width: 1px; stroke: rgb(36, 36, 36); stroke-opacity: 1;\"/><g class=\"overlines-above\"/><g class=\"xaxislayer-above\"><path class=\"xtick ticks crisp\" d=\"M0,192v5\" transform=\"translate(193,0)\" style=\"stroke: rgb(68, 68, 68); stroke-opacity: 1; stroke-width: 1px;\"/><path class=\"xtick ticks crisp\" d=\"M0,192v5\" transform=\"translate(302.88,0)\" style=\"stroke: rgb(68, 68, 68); stroke-opacity: 1; stroke-width: 1px;\"/><path class=\"xtick ticks crisp\" d=\"M0,192v5\" transform=\"translate(412.77,0)\" style=\"stroke: rgb(68, 68, 68); stroke-opacity: 1; stroke-width: 1px;\"/><path class=\"xtick ticks crisp\" d=\"M0,192v5\" transform=\"translate(522.65,0)\" style=\"stroke: rgb(68, 68, 68); stroke-opacity: 1; stroke-width: 1px;\"/><g class=\"xtick\"><text text-anchor=\"middle\" x=\"0\" y=\"211.4\" transform=\"translate(193,0)\" style=\"font-family: 'Open Sans', verdana, arial, sans-serif; font-size: 12px; fill: rgb(36, 36, 36); fill-opacity: 1; white-space: pre; opacity: 1;\">0</text></g><g class=\"xtick\"><text text-anchor=\"middle\" x=\"0\" y=\"211.4\" style=\"font-family: 'Open Sans', verdana, arial, sans-serif; font-size: 12px; fill: rgb(36, 36, 36); fill-opacity: 1; white-space: pre; opacity: 1;\" transform=\"translate(302.88,0)\">5</text></g><g class=\"xtick\"><text text-anchor=\"middle\" x=\"0\" y=\"211.4\" style=\"font-family: 'Open Sans', verdana, arial, sans-serif; font-size: 12px; fill: rgb(36, 36, 36); fill-opacity: 1; white-space: pre; opacity: 1;\" transform=\"translate(412.77,0)\">10</text></g><g class=\"xtick\"><text text-anchor=\"middle\" x=\"0\" y=\"211.4\" style=\"font-family: 'Open Sans', verdana, arial, sans-serif; font-size: 12px; fill: rgb(36, 36, 36); fill-opacity: 1; white-space: pre; opacity: 1;\" transform=\"translate(522.65,0)\">15</text></g></g><g class=\"yaxislayer-above\"><path class=\"ytick ticks crisp\" d=\"M192,0h-5\" transform=\"translate(0,181.95)\" style=\"stroke: rgb(68, 68, 68); stroke-opacity: 1; stroke-width: 1px;\"/><path class=\"ytick ticks crisp\" d=\"M192,0h-5\" transform=\"translate(0,163.85)\" style=\"stroke: rgb(68, 68, 68); stroke-opacity: 1; stroke-width: 1px;\"/><path class=\"ytick ticks crisp\" d=\"M192,0h-5\" transform=\"translate(0,145.75)\" style=\"stroke: rgb(68, 68, 68); stroke-opacity: 1; stroke-width: 1px;\"/><path class=\"ytick ticks crisp\" d=\"M192,0h-5\" transform=\"translate(0,127.65)\" style=\"stroke: rgb(68, 68, 68); stroke-opacity: 1; stroke-width: 1px;\"/><path class=\"ytick ticks crisp\" d=\"M192,0h-5\" transform=\"translate(0,109.55)\" style=\"stroke: rgb(68, 68, 68); stroke-opacity: 1; stroke-width: 1px;\"/><path class=\"ytick ticks crisp\" d=\"M192,0h-5\" transform=\"translate(0,91.45)\" style=\"stroke: rgb(68, 68, 68); stroke-opacity: 1; stroke-width: 1px;\"/><path class=\"ytick ticks crisp\" d=\"M192,0h-5\" transform=\"translate(0,73.35)\" style=\"stroke: rgb(68, 68, 68); stroke-opacity: 1; stroke-width: 1px;\"/><path class=\"ytick ticks crisp\" d=\"M192,0h-5\" transform=\"translate(0,55.25)\" style=\"stroke: rgb(68, 68, 68); stroke-opacity: 1; stroke-width: 1px;\"/><path class=\"ytick ticks crisp\" d=\"M192,0h-5\" transform=\"translate(0,37.15)\" style=\"stroke: rgb(68, 68, 68); stroke-opacity: 1; stroke-width: 1px;\"/><path class=\"ytick ticks crisp\" d=\"M192,0h-5\" transform=\"translate(0,19.05)\" style=\"stroke: rgb(68, 68, 68); stroke-opacity: 1; stroke-width: 1px;\"/><g class=\"ytick\"><text text-anchor=\"end\" x=\"184.6\" y=\"4.199999999999999\" transform=\"translate(0,181.95)\" style=\"font-family: 'Open Sans', verdana, arial, sans-serif; font-size: 12px; fill: rgb(36, 36, 36); fill-opacity: 1; white-space: pre; opacity: 1;\">worldnewsdailyreport.com</text></g><g class=\"ytick\"><text text-anchor=\"end\" x=\"184.6\" y=\"4.199999999999999\" transform=\"translate(0,163.85)\" style=\"font-family: 'Open Sans', verdana, arial, sans-serif; font-size: 12px; fill: rgb(36, 36, 36); fill-opacity: 1; white-space: pre; opacity: 1;\">newsweek.com</text></g><g class=\"ytick\"><text text-anchor=\"end\" x=\"184.6\" y=\"4.199999999999999\" transform=\"translate(0,145.75)\" style=\"font-family: 'Open Sans', verdana, arial, sans-serif; font-size: 12px; fill: rgb(36, 36, 36); fill-opacity: 1; white-space: pre; opacity: 1;\">cnn.com</text></g><g class=\"ytick\"><text text-anchor=\"end\" x=\"184.6\" y=\"4.199999999999999\" transform=\"translate(0,127.65)\" style=\"font-family: 'Open Sans', verdana, arial, sans-serif; font-size: 12px; fill: rgb(36, 36, 36); fill-opacity: 1; white-space: pre; opacity: 1;\">washingtonpost.com</text></g><g class=\"ytick\"><text text-anchor=\"end\" x=\"184.6\" y=\"4.199999999999999\" transform=\"translate(0,109.55)\" style=\"font-family: 'Open Sans', verdana, arial, sans-serif; font-size: 12px; fill: rgb(36, 36, 36); fill-opacity: 1; white-space: pre; opacity: 1;\">trendolizer.com</text></g><g class=\"ytick\"><text text-anchor=\"end\" x=\"184.6\" y=\"4.199999999999999\" transform=\"translate(0,91.45)\" style=\"font-family: 'Open Sans', verdana, arial, sans-serif; font-size: 12px; fill: rgb(36, 36, 36); fill-opacity: 1; white-space: pre; opacity: 1;\">observeronline.news</text></g><g class=\"ytick\"><text text-anchor=\"end\" x=\"184.6\" y=\"4.199999999999999\" transform=\"translate(0,73.35)\" style=\"font-family: 'Open Sans', verdana, arial, sans-serif; font-size: 12px; fill: rgb(36, 36, 36); fill-opacity: 1; white-space: pre; opacity: 1;\">thehill.com</text></g><g class=\"ytick\"><text text-anchor=\"end\" x=\"184.6\" y=\"4.199999999999999\" transform=\"translate(0,55.25)\" style=\"font-family: 'Open Sans', verdana, arial, sans-serif; font-size: 12px; fill: rgb(36, 36, 36); fill-opacity: 1; white-space: pre; opacity: 1;\">dailyusaupdate.com</text></g><g class=\"ytick\"><text text-anchor=\"end\" x=\"184.6\" y=\"4.199999999999999\" transform=\"translate(0,37.15)\" style=\"font-family: 'Open Sans', verdana, arial, sans-serif; font-size: 12px; fill: rgb(36, 36, 36); fill-opacity: 1; white-space: pre; opacity: 1;\">thegatewaypundit.com</text></g><g class=\"ytick\"><text text-anchor=\"end\" x=\"184.6\" y=\"4.199999999999999\" transform=\"translate(0,19.05)\" style=\"font-family: 'Open Sans', verdana, arial, sans-serif; font-size: 12px; fill: rgb(36, 36, 36); fill-opacity: 1; white-space: pre; opacity: 1;\">yournewswire.com</text></g></g><g class=\"overaxes-above\"/></g></g><g class=\"polarlayer\"/><g class=\"smithlayer\"/><g class=\"ternarylayer\"/><g class=\"geolayer\"/><g class=\"funnelarealayer\"/><g class=\"pielayer\"/><g class=\"iciclelayer\"/><g class=\"treemaplayer\"/><g class=\"sunburstlayer\"/><g class=\"glimages\"/><defs id=\"topdefs-cc2285\"><g class=\"clips\"/></defs><g class=\"layer-above\"><g class=\"imagelayer\"/><g class=\"shapelayer\"/></g><g class=\"infolayer\"><g class=\"g-gtitle\"/><g class=\"g-xtitle\"><text class=\"xtitle\" x=\"366.5\" y=\"239.70625\" text-anchor=\"middle\" style=\"font-family: 'Open Sans', verdana, arial, sans-serif; font-size: 14px; fill: rgb(36, 36, 36); opacity: 1; font-weight: normal; white-space: pre;\">Number of articles published at a URL</text></g><g class=\"g-ytitle\" transform=\"translate(5.0654296875,0)\"><text class=\"ytitle\" transform=\"rotate(-90,9.934374999999989,100.5)\" x=\"9.934374999999989\" y=\"100.5\" text-anchor=\"middle\" style=\"font-family: 'Open Sans', verdana, arial, sans-serif; font-size: 14px; fill: rgb(36, 36, 36); opacity: 1; font-weight: normal; white-space: pre;\">Base URL</text></g></g></svg>"
      ]
     },
     "metadata": {},
     "output_type": "display_data"
    }
   ],
   "source": [
    "top_fake_publishers = (\n",
    "    X_train.assign(label=y_train)\n",
    "    .query(\"label == 1\")\n",
    "    [\"baseurl\"]\n",
    "    .value_counts()\n",
    "    .iloc[:10]\n",
    "    .sort_values()\n",
    ")\n",
    "\n",
    "fig = px.bar(\n",
    "    top_fake_publishers,\n",
    "    orientation=\"h\", width=550, height=250,\n",
    "    labels={\"value\": \"Number of articles published at a URL\", \n",
    "            \"index\": \"Base URL\"},\n",
    ")\n",
    "fig.update_layout(showlegend=False)"
   ]
  },
  {
   "cell_type": "markdown",
   "metadata": {},
   "source": [
    "Next, we list the websites that published the greatest number of real articles:"
   ]
  },
  {
   "cell_type": "code",
   "execution_count": 7,
   "metadata": {
    "tags": [
     "hide-input"
    ]
   },
   "outputs": [
    {
     "data": {
      "application/vnd.plotly.v1+json": {
       "config": {
        "plotlyServerURL": "https://plot.ly"
       },
       "data": [
        {
         "alignmentgroup": "True",
         "hovertemplate": "variable=baseurl<br>Number of articles published at a URL=%{x}<br>Base URL=%{y}<extra></extra>",
         "legendgroup": "baseurl",
         "marker": {
          "color": "#1F77B4",
          "pattern": {
           "shape": ""
          }
         },
         "name": "baseurl",
         "offsetgroup": "baseurl",
         "orientation": "h",
         "showlegend": true,
         "textposition": "auto",
         "type": "bar",
         "x": [
          5,
          8,
          9,
          10,
          11,
          11,
          15,
          16,
          20,
          21
         ],
         "xaxis": "x",
         "y": [
          "medium.com",
          "cnn.com",
          "msnbc.msn.com",
          "foxnews.com",
          "cq.com",
          "washingtonpost.com",
          "politifact.com",
          "nytimes.com",
          "abcnews.go.com",
          "whitehouse.gov"
         ],
         "yaxis": "y"
        }
       ],
       "layout": {
        "barmode": "relative",
        "height": 250,
        "legend": {
         "title": {
          "text": "variable"
         },
         "tracegroupgap": 0
        },
        "showlegend": false,
        "template": {
         "data": {
          "bar": [
           {
            "error_x": {
             "color": "rgb(36,36,36)"
            },
            "error_y": {
             "color": "rgb(36,36,36)"
            },
            "marker": {
             "line": {
              "color": "white",
              "width": 0.5
             },
             "pattern": {
              "fillmode": "overlay",
              "size": 10,
              "solidity": 0.2
             }
            },
            "type": "bar"
           }
          ],
          "barpolar": [
           {
            "marker": {
             "line": {
              "color": "white",
              "width": 0.5
             },
             "pattern": {
              "fillmode": "overlay",
              "size": 10,
              "solidity": 0.2
             }
            },
            "type": "barpolar"
           }
          ],
          "carpet": [
           {
            "aaxis": {
             "endlinecolor": "rgb(36,36,36)",
             "gridcolor": "white",
             "linecolor": "white",
             "minorgridcolor": "white",
             "startlinecolor": "rgb(36,36,36)"
            },
            "baxis": {
             "endlinecolor": "rgb(36,36,36)",
             "gridcolor": "white",
             "linecolor": "white",
             "minorgridcolor": "white",
             "startlinecolor": "rgb(36,36,36)"
            },
            "type": "carpet"
           }
          ],
          "choropleth": [
           {
            "colorbar": {
             "outlinewidth": 1,
             "tickcolor": "rgb(36,36,36)",
             "ticks": "outside"
            },
            "type": "choropleth"
           }
          ],
          "contour": [
           {
            "colorbar": {
             "outlinewidth": 1,
             "tickcolor": "rgb(36,36,36)",
             "ticks": "outside"
            },
            "colorscale": [
             [
              0,
              "#440154"
             ],
             [
              0.1111111111111111,
              "#482878"
             ],
             [
              0.2222222222222222,
              "#3e4989"
             ],
             [
              0.3333333333333333,
              "#31688e"
             ],
             [
              0.4444444444444444,
              "#26828e"
             ],
             [
              0.5555555555555556,
              "#1f9e89"
             ],
             [
              0.6666666666666666,
              "#35b779"
             ],
             [
              0.7777777777777778,
              "#6ece58"
             ],
             [
              0.8888888888888888,
              "#b5de2b"
             ],
             [
              1,
              "#fde725"
             ]
            ],
            "type": "contour"
           }
          ],
          "contourcarpet": [
           {
            "colorbar": {
             "outlinewidth": 1,
             "tickcolor": "rgb(36,36,36)",
             "ticks": "outside"
            },
            "type": "contourcarpet"
           }
          ],
          "heatmap": [
           {
            "colorbar": {
             "outlinewidth": 1,
             "tickcolor": "rgb(36,36,36)",
             "ticks": "outside"
            },
            "colorscale": [
             [
              0,
              "#440154"
             ],
             [
              0.1111111111111111,
              "#482878"
             ],
             [
              0.2222222222222222,
              "#3e4989"
             ],
             [
              0.3333333333333333,
              "#31688e"
             ],
             [
              0.4444444444444444,
              "#26828e"
             ],
             [
              0.5555555555555556,
              "#1f9e89"
             ],
             [
              0.6666666666666666,
              "#35b779"
             ],
             [
              0.7777777777777778,
              "#6ece58"
             ],
             [
              0.8888888888888888,
              "#b5de2b"
             ],
             [
              1,
              "#fde725"
             ]
            ],
            "type": "heatmap"
           }
          ],
          "heatmapgl": [
           {
            "colorbar": {
             "outlinewidth": 1,
             "tickcolor": "rgb(36,36,36)",
             "ticks": "outside"
            },
            "colorscale": [
             [
              0,
              "#440154"
             ],
             [
              0.1111111111111111,
              "#482878"
             ],
             [
              0.2222222222222222,
              "#3e4989"
             ],
             [
              0.3333333333333333,
              "#31688e"
             ],
             [
              0.4444444444444444,
              "#26828e"
             ],
             [
              0.5555555555555556,
              "#1f9e89"
             ],
             [
              0.6666666666666666,
              "#35b779"
             ],
             [
              0.7777777777777778,
              "#6ece58"
             ],
             [
              0.8888888888888888,
              "#b5de2b"
             ],
             [
              1,
              "#fde725"
             ]
            ],
            "type": "heatmapgl"
           }
          ],
          "histogram": [
           {
            "marker": {
             "line": {
              "color": "white",
              "width": 0.6
             }
            },
            "type": "histogram"
           }
          ],
          "histogram2d": [
           {
            "colorbar": {
             "outlinewidth": 1,
             "tickcolor": "rgb(36,36,36)",
             "ticks": "outside"
            },
            "colorscale": [
             [
              0,
              "#440154"
             ],
             [
              0.1111111111111111,
              "#482878"
             ],
             [
              0.2222222222222222,
              "#3e4989"
             ],
             [
              0.3333333333333333,
              "#31688e"
             ],
             [
              0.4444444444444444,
              "#26828e"
             ],
             [
              0.5555555555555556,
              "#1f9e89"
             ],
             [
              0.6666666666666666,
              "#35b779"
             ],
             [
              0.7777777777777778,
              "#6ece58"
             ],
             [
              0.8888888888888888,
              "#b5de2b"
             ],
             [
              1,
              "#fde725"
             ]
            ],
            "type": "histogram2d"
           }
          ],
          "histogram2dcontour": [
           {
            "colorbar": {
             "outlinewidth": 1,
             "tickcolor": "rgb(36,36,36)",
             "ticks": "outside"
            },
            "colorscale": [
             [
              0,
              "#440154"
             ],
             [
              0.1111111111111111,
              "#482878"
             ],
             [
              0.2222222222222222,
              "#3e4989"
             ],
             [
              0.3333333333333333,
              "#31688e"
             ],
             [
              0.4444444444444444,
              "#26828e"
             ],
             [
              0.5555555555555556,
              "#1f9e89"
             ],
             [
              0.6666666666666666,
              "#35b779"
             ],
             [
              0.7777777777777778,
              "#6ece58"
             ],
             [
              0.8888888888888888,
              "#b5de2b"
             ],
             [
              1,
              "#fde725"
             ]
            ],
            "type": "histogram2dcontour"
           }
          ],
          "mesh3d": [
           {
            "colorbar": {
             "outlinewidth": 1,
             "tickcolor": "rgb(36,36,36)",
             "ticks": "outside"
            },
            "type": "mesh3d"
           }
          ],
          "parcoords": [
           {
            "line": {
             "colorbar": {
              "outlinewidth": 1,
              "tickcolor": "rgb(36,36,36)",
              "ticks": "outside"
             }
            },
            "type": "parcoords"
           }
          ],
          "pie": [
           {
            "automargin": true,
            "type": "pie"
           }
          ],
          "scatter": [
           {
            "marker": {
             "colorbar": {
              "outlinewidth": 1,
              "tickcolor": "rgb(36,36,36)",
              "ticks": "outside"
             }
            },
            "type": "scatter"
           }
          ],
          "scatter3d": [
           {
            "line": {
             "colorbar": {
              "outlinewidth": 1,
              "tickcolor": "rgb(36,36,36)",
              "ticks": "outside"
             }
            },
            "marker": {
             "colorbar": {
              "outlinewidth": 1,
              "tickcolor": "rgb(36,36,36)",
              "ticks": "outside"
             }
            },
            "type": "scatter3d"
           }
          ],
          "scattercarpet": [
           {
            "marker": {
             "colorbar": {
              "outlinewidth": 1,
              "tickcolor": "rgb(36,36,36)",
              "ticks": "outside"
             }
            },
            "type": "scattercarpet"
           }
          ],
          "scattergeo": [
           {
            "marker": {
             "colorbar": {
              "outlinewidth": 1,
              "tickcolor": "rgb(36,36,36)",
              "ticks": "outside"
             }
            },
            "type": "scattergeo"
           }
          ],
          "scattergl": [
           {
            "marker": {
             "colorbar": {
              "outlinewidth": 1,
              "tickcolor": "rgb(36,36,36)",
              "ticks": "outside"
             }
            },
            "type": "scattergl"
           }
          ],
          "scattermapbox": [
           {
            "marker": {
             "colorbar": {
              "outlinewidth": 1,
              "tickcolor": "rgb(36,36,36)",
              "ticks": "outside"
             }
            },
            "type": "scattermapbox"
           }
          ],
          "scatterpolar": [
           {
            "marker": {
             "colorbar": {
              "outlinewidth": 1,
              "tickcolor": "rgb(36,36,36)",
              "ticks": "outside"
             }
            },
            "type": "scatterpolar"
           }
          ],
          "scatterpolargl": [
           {
            "marker": {
             "colorbar": {
              "outlinewidth": 1,
              "tickcolor": "rgb(36,36,36)",
              "ticks": "outside"
             }
            },
            "type": "scatterpolargl"
           }
          ],
          "scatterternary": [
           {
            "marker": {
             "colorbar": {
              "outlinewidth": 1,
              "tickcolor": "rgb(36,36,36)",
              "ticks": "outside"
             }
            },
            "type": "scatterternary"
           }
          ],
          "surface": [
           {
            "colorbar": {
             "outlinewidth": 1,
             "tickcolor": "rgb(36,36,36)",
             "ticks": "outside"
            },
            "colorscale": [
             [
              0,
              "#440154"
             ],
             [
              0.1111111111111111,
              "#482878"
             ],
             [
              0.2222222222222222,
              "#3e4989"
             ],
             [
              0.3333333333333333,
              "#31688e"
             ],
             [
              0.4444444444444444,
              "#26828e"
             ],
             [
              0.5555555555555556,
              "#1f9e89"
             ],
             [
              0.6666666666666666,
              "#35b779"
             ],
             [
              0.7777777777777778,
              "#6ece58"
             ],
             [
              0.8888888888888888,
              "#b5de2b"
             ],
             [
              1,
              "#fde725"
             ]
            ],
            "type": "surface"
           }
          ],
          "table": [
           {
            "cells": {
             "fill": {
              "color": "rgb(237,237,237)"
             },
             "line": {
              "color": "white"
             }
            },
            "header": {
             "fill": {
              "color": "rgb(217,217,217)"
             },
             "line": {
              "color": "white"
             }
            },
            "type": "table"
           }
          ]
         },
         "layout": {
          "annotationdefaults": {
           "arrowhead": 0,
           "arrowwidth": 1
          },
          "autosize": true,
          "autotypenumbers": "strict",
          "coloraxis": {
           "colorbar": {
            "outlinewidth": 1,
            "tickcolor": "rgb(36,36,36)",
            "ticks": "outside"
           }
          },
          "colorscale": {
           "diverging": [
            [
             0,
             "rgb(103,0,31)"
            ],
            [
             0.1,
             "rgb(178,24,43)"
            ],
            [
             0.2,
             "rgb(214,96,77)"
            ],
            [
             0.3,
             "rgb(244,165,130)"
            ],
            [
             0.4,
             "rgb(253,219,199)"
            ],
            [
             0.5,
             "rgb(247,247,247)"
            ],
            [
             0.6,
             "rgb(209,229,240)"
            ],
            [
             0.7,
             "rgb(146,197,222)"
            ],
            [
             0.8,
             "rgb(67,147,195)"
            ],
            [
             0.9,
             "rgb(33,102,172)"
            ],
            [
             1,
             "rgb(5,48,97)"
            ]
           ],
           "sequential": [
            [
             0,
             "#440154"
            ],
            [
             0.1111111111111111,
             "#482878"
            ],
            [
             0.2222222222222222,
             "#3e4989"
            ],
            [
             0.3333333333333333,
             "#31688e"
            ],
            [
             0.4444444444444444,
             "#26828e"
            ],
            [
             0.5555555555555556,
             "#1f9e89"
            ],
            [
             0.6666666666666666,
             "#35b779"
            ],
            [
             0.7777777777777778,
             "#6ece58"
            ],
            [
             0.8888888888888888,
             "#b5de2b"
            ],
            [
             1,
             "#fde725"
            ]
           ],
           "sequentialminus": [
            [
             0,
             "#440154"
            ],
            [
             0.1111111111111111,
             "#482878"
            ],
            [
             0.2222222222222222,
             "#3e4989"
            ],
            [
             0.3333333333333333,
             "#31688e"
            ],
            [
             0.4444444444444444,
             "#26828e"
            ],
            [
             0.5555555555555556,
             "#1f9e89"
            ],
            [
             0.6666666666666666,
             "#35b779"
            ],
            [
             0.7777777777777778,
             "#6ece58"
            ],
            [
             0.8888888888888888,
             "#b5de2b"
            ],
            [
             1,
             "#fde725"
            ]
           ]
          },
          "colorway": [
           "#1F77B4",
           "#FF7F0E",
           "#2CA02C",
           "#D62728",
           "#9467BD",
           "#8C564B",
           "#E377C2",
           "#7F7F7F",
           "#BCBD22",
           "#17BECF"
          ],
          "font": {
           "color": "rgb(36,36,36)"
          },
          "geo": {
           "bgcolor": "white",
           "lakecolor": "white",
           "landcolor": "white",
           "showlakes": true,
           "showland": true,
           "subunitcolor": "white"
          },
          "height": 250,
          "hoverlabel": {
           "align": "left"
          },
          "hovermode": "closest",
          "mapbox": {
           "style": "light"
          },
          "margin": {
           "b": 10,
           "l": 10,
           "r": 10,
           "t": 10
          },
          "paper_bgcolor": "white",
          "plot_bgcolor": "white",
          "polar": {
           "angularaxis": {
            "gridcolor": "rgb(232,232,232)",
            "linecolor": "rgb(36,36,36)",
            "showgrid": false,
            "showline": true,
            "ticks": "outside"
           },
           "bgcolor": "white",
           "radialaxis": {
            "gridcolor": "rgb(232,232,232)",
            "linecolor": "rgb(36,36,36)",
            "showgrid": false,
            "showline": true,
            "ticks": "outside"
           }
          },
          "scene": {
           "xaxis": {
            "backgroundcolor": "white",
            "gridcolor": "rgb(232,232,232)",
            "gridwidth": 2,
            "linecolor": "rgb(36,36,36)",
            "showbackground": true,
            "showgrid": false,
            "showline": true,
            "ticks": "outside",
            "zeroline": false,
            "zerolinecolor": "rgb(36,36,36)"
           },
           "yaxis": {
            "backgroundcolor": "white",
            "gridcolor": "rgb(232,232,232)",
            "gridwidth": 2,
            "linecolor": "rgb(36,36,36)",
            "showbackground": true,
            "showgrid": false,
            "showline": true,
            "ticks": "outside",
            "zeroline": false,
            "zerolinecolor": "rgb(36,36,36)"
           },
           "zaxis": {
            "backgroundcolor": "white",
            "gridcolor": "rgb(232,232,232)",
            "gridwidth": 2,
            "linecolor": "rgb(36,36,36)",
            "showbackground": true,
            "showgrid": false,
            "showline": true,
            "ticks": "outside",
            "zeroline": false,
            "zerolinecolor": "rgb(36,36,36)"
           }
          },
          "shapedefaults": {
           "fillcolor": "black",
           "line": {
            "width": 0
           },
           "opacity": 0.3
          },
          "ternary": {
           "aaxis": {
            "gridcolor": "rgb(232,232,232)",
            "linecolor": "rgb(36,36,36)",
            "showgrid": false,
            "showline": true,
            "ticks": "outside"
           },
           "baxis": {
            "gridcolor": "rgb(232,232,232)",
            "linecolor": "rgb(36,36,36)",
            "showgrid": false,
            "showline": true,
            "ticks": "outside"
           },
           "bgcolor": "white",
           "caxis": {
            "gridcolor": "rgb(232,232,232)",
            "linecolor": "rgb(36,36,36)",
            "showgrid": false,
            "showline": true,
            "ticks": "outside"
           }
          },
          "title": {
           "x": 0.5,
           "xanchor": "center"
          },
          "width": 350,
          "xaxis": {
           "automargin": true,
           "gridcolor": "rgb(232,232,232)",
           "linecolor": "rgb(36,36,36)",
           "showgrid": true,
           "showline": true,
           "ticks": "outside",
           "title": {
            "standoff": 15
           },
           "zeroline": false,
           "zerolinecolor": "rgb(36,36,36)"
          },
          "yaxis": {
           "automargin": true,
           "gridcolor": "rgb(232,232,232)",
           "linecolor": "rgb(36,36,36)",
           "showgrid": true,
           "showline": true,
           "ticks": "outside",
           "title": {
            "standoff": 15
           },
           "zeroline": false,
           "zerolinecolor": "rgb(36,36,36)"
          }
         }
        },
        "width": 550,
        "xaxis": {
         "anchor": "y",
         "autorange": true,
         "domain": [
          0,
          1
         ],
         "range": [
          0,
          22.105263157894736
         ],
         "title": {
          "text": "Number of articles published at a URL"
         },
         "type": "linear"
        },
        "yaxis": {
         "anchor": "x",
         "autorange": true,
         "domain": [
          0,
          1
         ],
         "range": [
          -0.5,
          9.5
         ],
         "title": {
          "text": "Base URL"
         },
         "type": "category"
        }
       }
      },
      "image/png": "[encoded data removed]",
      "image/svg+xml": [
       "<svg class=\"main-svg\" xmlns=\"http://www.w3.org/2000/svg\" xmlns:xlink=\"http://www.w3.org/1999/xlink\" width=\"550\" height=\"250\" style=\"\" viewBox=\"0 0 550 250\"><rect x=\"0\" y=\"0\" width=\"550\" height=\"250\" style=\"fill: rgb(255, 255, 255); fill-opacity: 1;\"/><defs id=\"defs-5abab8\"><g class=\"clips\"><clipPath id=\"clip5abab8xyplot\" class=\"plotclip\"><rect width=\"380\" height=\"181\"/></clipPath><clipPath class=\"axesclip\" id=\"clip5abab8x\"><rect x=\"160\" y=\"0\" width=\"380\" height=\"250\"/></clipPath><clipPath class=\"axesclip\" id=\"clip5abab8y\"><rect x=\"0\" y=\"10\" width=\"550\" height=\"181\"/></clipPath><clipPath class=\"axesclip\" id=\"clip5abab8xy\"><rect x=\"160\" y=\"10\" width=\"380\" height=\"181\"/></clipPath></g><g class=\"gradients\"/><g class=\"patterns\"/></defs><g class=\"bglayer\"/><g class=\"layer-below\"><g class=\"imagelayer\"/><g class=\"shapelayer\"/></g><g class=\"cartesianlayer\"><g class=\"subplot xy\"><g class=\"layer-subplot\"><g class=\"shapelayer\"/><g class=\"imagelayer\"/></g><g class=\"gridlayer\"><g class=\"x\"><path class=\"xgrid crisp\" transform=\"translate(245.95,0)\" d=\"M0,10v181\" style=\"stroke: rgb(232, 232, 232); stroke-opacity: 1; stroke-width: 1px;\"/><path class=\"xgrid crisp\" transform=\"translate(331.9,0)\" d=\"M0,10v181\" style=\"stroke: rgb(232, 232, 232); stroke-opacity: 1; stroke-width: 1px;\"/><path class=\"xgrid crisp\" transform=\"translate(417.86,0)\" d=\"M0,10v181\" style=\"stroke: rgb(232, 232, 232); stroke-opacity: 1; stroke-width: 1px;\"/><path class=\"xgrid crisp\" transform=\"translate(503.81,0)\" d=\"M0,10v181\" style=\"stroke: rgb(232, 232, 232); stroke-opacity: 1; stroke-width: 1px;\"/></g><g class=\"y\"><path class=\"ygrid crisp\" transform=\"translate(0,181.95)\" d=\"M160,0h380\" style=\"stroke: rgb(232, 232, 232); stroke-opacity: 1; stroke-width: 1px;\"/><path class=\"ygrid crisp\" transform=\"translate(0,163.85)\" d=\"M160,0h380\" style=\"stroke: rgb(232, 232, 232); stroke-opacity: 1; stroke-width: 1px;\"/><path class=\"ygrid crisp\" transform=\"translate(0,145.75)\" d=\"M160,0h380\" style=\"stroke: rgb(232, 232, 232); stroke-opacity: 1; stroke-width: 1px;\"/><path class=\"ygrid crisp\" transform=\"translate(0,127.65)\" d=\"M160,0h380\" style=\"stroke: rgb(232, 232, 232); stroke-opacity: 1; stroke-width: 1px;\"/><path class=\"ygrid crisp\" transform=\"translate(0,109.55)\" d=\"M160,0h380\" style=\"stroke: rgb(232, 232, 232); stroke-opacity: 1; stroke-width: 1px;\"/><path class=\"ygrid crisp\" transform=\"translate(0,91.45)\" d=\"M160,0h380\" style=\"stroke: rgb(232, 232, 232); stroke-opacity: 1; stroke-width: 1px;\"/><path class=\"ygrid crisp\" transform=\"translate(0,73.35)\" d=\"M160,0h380\" style=\"stroke: rgb(232, 232, 232); stroke-opacity: 1; stroke-width: 1px;\"/><path class=\"ygrid crisp\" transform=\"translate(0,55.25)\" d=\"M160,0h380\" style=\"stroke: rgb(232, 232, 232); stroke-opacity: 1; stroke-width: 1px;\"/><path class=\"ygrid crisp\" transform=\"translate(0,37.15)\" d=\"M160,0h380\" style=\"stroke: rgb(232, 232, 232); stroke-opacity: 1; stroke-width: 1px;\"/><path class=\"ygrid crisp\" transform=\"translate(0,19.05)\" d=\"M160,0h380\" style=\"stroke: rgb(232, 232, 232); stroke-opacity: 1; stroke-width: 1px;\"/></g></g><g class=\"zerolinelayer\"/><path class=\"xlines-below\"/><path class=\"ylines-below\"/><g class=\"overlines-below\"/><g class=\"xaxislayer-below\"/><g class=\"yaxislayer-below\"/><g class=\"overaxes-below\"/><g class=\"plot\" transform=\"translate(160,10)\" clip-path=\"url(#clip5abab8xyplot)\"><g class=\"barlayer mlayer\"><g class=\"trace bars\" style=\"opacity: 1;\"><g class=\"points\"><g class=\"point\"><path d=\"M0,179.19V164.71H85.95V179.19Z\" style=\"vector-effect: non-scaling-stroke; opacity: 1; stroke-width: 0.5px; fill: rgb(31, 119, 180); fill-opacity: 1; stroke: rgb(255, 255, 255); stroke-opacity: 1;\"/></g><g class=\"point\"><path d=\"M0,161.09V146.61H137.52V161.09Z\" style=\"vector-effect: non-scaling-stroke; opacity: 1; stroke-width: 0.5px; fill: rgb(31, 119, 180); fill-opacity: 1; stroke: rgb(255, 255, 255); stroke-opacity: 1;\"/></g><g class=\"point\"><path d=\"M0,142.99V128.51H154.71V142.99Z\" style=\"vector-effect: non-scaling-stroke; opacity: 1; stroke-width: 0.5px; fill: rgb(31, 119, 180); fill-opacity: 1; stroke: rgb(255, 255, 255); stroke-opacity: 1;\"/></g><g class=\"point\"><path d=\"M0,124.89V110.41H171.9V124.89Z\" style=\"vector-effect: non-scaling-stroke; opacity: 1; stroke-width: 0.5px; fill: rgb(31, 119, 180); fill-opacity: 1; stroke: rgb(255, 255, 255); stroke-opacity: 1;\"/></g><g class=\"point\"><path d=\"M0,106.79V92.31H189.1V106.79Z\" style=\"vector-effect: non-scaling-stroke; opacity: 1; stroke-width: 0.5px; fill: rgb(31, 119, 180); fill-opacity: 1; stroke: rgb(255, 255, 255); stroke-opacity: 1;\"/></g><g class=\"point\"><path d=\"M0,88.69V74.21H189.1V88.69Z\" style=\"vector-effect: non-scaling-stroke; opacity: 1; stroke-width: 0.5px; fill: rgb(31, 119, 180); fill-opacity: 1; stroke: rgb(255, 255, 255); stroke-opacity: 1;\"/></g><g class=\"point\"><path d=\"M0,70.59V56.11H257.86V70.59Z\" style=\"vector-effect: non-scaling-stroke; opacity: 1; stroke-width: 0.5px; fill: rgb(31, 119, 180); fill-opacity: 1; stroke: rgb(255, 255, 255); stroke-opacity: 1;\"/></g><g class=\"point\"><path d=\"M0,52.49V38.01H275.05V52.49Z\" style=\"vector-effect: non-scaling-stroke; opacity: 1; stroke-width: 0.5px; fill: rgb(31, 119, 180); fill-opacity: 1; stroke: rgb(255, 255, 255); stroke-opacity: 1;\"/></g><g class=\"point\"><path d=\"M0,34.39V19.91H343.81V34.39Z\" style=\"vector-effect: non-scaling-stroke; opacity: 1; stroke-width: 0.5px; fill: rgb(31, 119, 180); fill-opacity: 1; stroke: rgb(255, 255, 255); stroke-opacity: 1;\"/></g><g class=\"point\"><path d=\"M0,16.29V1.81H361V16.29Z\" style=\"vector-effect: non-scaling-stroke; opacity: 1; stroke-width: 0.5px; fill: rgb(31, 119, 180); fill-opacity: 1; stroke: rgb(255, 255, 255); stroke-opacity: 1;\"/></g></g></g></g></g><g class=\"overplot\"/><path class=\"xlines-above crisp\" d=\"M159,191.5H540\" style=\"fill: none; stroke-width: 1px; stroke: rgb(36, 36, 36); stroke-opacity: 1;\"/><path class=\"ylines-above crisp\" d=\"M159.5,10V191\" style=\"fill: none; stroke-width: 1px; stroke: rgb(36, 36, 36); stroke-opacity: 1;\"/><g class=\"overlines-above\"/><g class=\"xaxislayer-above\"><path class=\"xtick ticks crisp\" d=\"M0,192v5\" transform=\"translate(160,0)\" style=\"stroke: rgb(68, 68, 68); stroke-opacity: 1; stroke-width: 1px;\"/><path class=\"xtick ticks crisp\" d=\"M0,192v5\" transform=\"translate(245.95,0)\" style=\"stroke: rgb(68, 68, 68); stroke-opacity: 1; stroke-width: 1px;\"/><path class=\"xtick ticks crisp\" d=\"M0,192v5\" transform=\"translate(331.9,0)\" style=\"stroke: rgb(68, 68, 68); stroke-opacity: 1; stroke-width: 1px;\"/><path class=\"xtick ticks crisp\" d=\"M0,192v5\" transform=\"translate(417.86,0)\" style=\"stroke: rgb(68, 68, 68); stroke-opacity: 1; stroke-width: 1px;\"/><path class=\"xtick ticks crisp\" d=\"M0,192v5\" transform=\"translate(503.81,0)\" style=\"stroke: rgb(68, 68, 68); stroke-opacity: 1; stroke-width: 1px;\"/><g class=\"xtick\"><text text-anchor=\"middle\" x=\"0\" y=\"211.4\" transform=\"translate(160,0)\" style=\"font-family: 'Open Sans', verdana, arial, sans-serif; font-size: 12px; fill: rgb(36, 36, 36); fill-opacity: 1; white-space: pre; opacity: 1;\">0</text></g><g class=\"xtick\"><text text-anchor=\"middle\" x=\"0\" y=\"211.4\" style=\"font-family: 'Open Sans', verdana, arial, sans-serif; font-size: 12px; fill: rgb(36, 36, 36); fill-opacity: 1; white-space: pre; opacity: 1;\" transform=\"translate(245.95,0)\">5</text></g><g class=\"xtick\"><text text-anchor=\"middle\" x=\"0\" y=\"211.4\" style=\"font-family: 'Open Sans', verdana, arial, sans-serif; font-size: 12px; fill: rgb(36, 36, 36); fill-opacity: 1; white-space: pre; opacity: 1;\" transform=\"translate(331.9,0)\">10</text></g><g class=\"xtick\"><text text-anchor=\"middle\" x=\"0\" y=\"211.4\" style=\"font-family: 'Open Sans', verdana, arial, sans-serif; font-size: 12px; fill: rgb(36, 36, 36); fill-opacity: 1; white-space: pre; opacity: 1;\" transform=\"translate(417.86,0)\">15</text></g><g class=\"xtick\"><text text-anchor=\"middle\" x=\"0\" y=\"211.4\" style=\"font-family: 'Open Sans', verdana, arial, sans-serif; font-size: 12px; fill: rgb(36, 36, 36); fill-opacity: 1; white-space: pre; opacity: 1;\" transform=\"translate(503.81,0)\">20</text></g></g><g class=\"yaxislayer-above\"><path class=\"ytick ticks crisp\" d=\"M159,0h-5\" transform=\"translate(0,181.95)\" style=\"stroke: rgb(68, 68, 68); stroke-opacity: 1; stroke-width: 1px;\"/><path class=\"ytick ticks crisp\" d=\"M159,0h-5\" transform=\"translate(0,163.85)\" style=\"stroke: rgb(68, 68, 68); stroke-opacity: 1; stroke-width: 1px;\"/><path class=\"ytick ticks crisp\" d=\"M159,0h-5\" transform=\"translate(0,145.75)\" style=\"stroke: rgb(68, 68, 68); stroke-opacity: 1; stroke-width: 1px;\"/><path class=\"ytick ticks crisp\" d=\"M159,0h-5\" transform=\"translate(0,127.65)\" style=\"stroke: rgb(68, 68, 68); stroke-opacity: 1; stroke-width: 1px;\"/><path class=\"ytick ticks crisp\" d=\"M159,0h-5\" transform=\"translate(0,109.55)\" style=\"stroke: rgb(68, 68, 68); stroke-opacity: 1; stroke-width: 1px;\"/><path class=\"ytick ticks crisp\" d=\"M159,0h-5\" transform=\"translate(0,91.45)\" style=\"stroke: rgb(68, 68, 68); stroke-opacity: 1; stroke-width: 1px;\"/><path class=\"ytick ticks crisp\" d=\"M159,0h-5\" transform=\"translate(0,73.35)\" style=\"stroke: rgb(68, 68, 68); stroke-opacity: 1; stroke-width: 1px;\"/><path class=\"ytick ticks crisp\" d=\"M159,0h-5\" transform=\"translate(0,55.25)\" style=\"stroke: rgb(68, 68, 68); stroke-opacity: 1; stroke-width: 1px;\"/><path class=\"ytick ticks crisp\" d=\"M159,0h-5\" transform=\"translate(0,37.15)\" style=\"stroke: rgb(68, 68, 68); stroke-opacity: 1; stroke-width: 1px;\"/><path class=\"ytick ticks crisp\" d=\"M159,0h-5\" transform=\"translate(0,19.05)\" style=\"stroke: rgb(68, 68, 68); stroke-opacity: 1; stroke-width: 1px;\"/><g class=\"ytick\"><text text-anchor=\"end\" x=\"151.6\" y=\"4.199999999999999\" transform=\"translate(0,181.95)\" style=\"font-family: 'Open Sans', verdana, arial, sans-serif; font-size: 12px; fill: rgb(36, 36, 36); fill-opacity: 1; white-space: pre; opacity: 1;\">medium.com</text></g><g class=\"ytick\"><text text-anchor=\"end\" x=\"151.6\" y=\"4.199999999999999\" transform=\"translate(0,163.85)\" style=\"font-family: 'Open Sans', verdana, arial, sans-serif; font-size: 12px; fill: rgb(36, 36, 36); fill-opacity: 1; white-space: pre; opacity: 1;\">cnn.com</text></g><g class=\"ytick\"><text text-anchor=\"end\" x=\"151.6\" y=\"4.199999999999999\" transform=\"translate(0,145.75)\" style=\"font-family: 'Open Sans', verdana, arial, sans-serif; font-size: 12px; fill: rgb(36, 36, 36); fill-opacity: 1; white-space: pre; opacity: 1;\">msnbc.msn.com</text></g><g class=\"ytick\"><text text-anchor=\"end\" x=\"151.6\" y=\"4.199999999999999\" transform=\"translate(0,127.65)\" style=\"font-family: 'Open Sans', verdana, arial, sans-serif; font-size: 12px; fill: rgb(36, 36, 36); fill-opacity: 1; white-space: pre; opacity: 1;\">foxnews.com</text></g><g class=\"ytick\"><text text-anchor=\"end\" x=\"151.6\" y=\"4.199999999999999\" transform=\"translate(0,109.55)\" style=\"font-family: 'Open Sans', verdana, arial, sans-serif; font-size: 12px; fill: rgb(36, 36, 36); fill-opacity: 1; white-space: pre; opacity: 1;\">cq.com</text></g><g class=\"ytick\"><text text-anchor=\"end\" x=\"151.6\" y=\"4.199999999999999\" transform=\"translate(0,91.45)\" style=\"font-family: 'Open Sans', verdana, arial, sans-serif; font-size: 12px; fill: rgb(36, 36, 36); fill-opacity: 1; white-space: pre; opacity: 1;\">washingtonpost.com</text></g><g class=\"ytick\"><text text-anchor=\"end\" x=\"151.6\" y=\"4.199999999999999\" transform=\"translate(0,73.35)\" style=\"font-family: 'Open Sans', verdana, arial, sans-serif; font-size: 12px; fill: rgb(36, 36, 36); fill-opacity: 1; white-space: pre; opacity: 1;\">politifact.com</text></g><g class=\"ytick\"><text text-anchor=\"end\" x=\"151.6\" y=\"4.199999999999999\" transform=\"translate(0,55.25)\" style=\"font-family: 'Open Sans', verdana, arial, sans-serif; font-size: 12px; fill: rgb(36, 36, 36); fill-opacity: 1; white-space: pre; opacity: 1;\">nytimes.com</text></g><g class=\"ytick\"><text text-anchor=\"end\" x=\"151.6\" y=\"4.199999999999999\" transform=\"translate(0,37.15)\" style=\"font-family: 'Open Sans', verdana, arial, sans-serif; font-size: 12px; fill: rgb(36, 36, 36); fill-opacity: 1; white-space: pre; opacity: 1;\">abcnews.go.com</text></g><g class=\"ytick\"><text text-anchor=\"end\" x=\"151.6\" y=\"4.199999999999999\" transform=\"translate(0,19.05)\" style=\"font-family: 'Open Sans', verdana, arial, sans-serif; font-size: 12px; fill: rgb(36, 36, 36); fill-opacity: 1; white-space: pre; opacity: 1;\">whitehouse.gov</text></g></g><g class=\"overaxes-above\"/></g></g><g class=\"polarlayer\"/><g class=\"smithlayer\"/><g class=\"ternarylayer\"/><g class=\"geolayer\"/><g class=\"funnelarealayer\"/><g class=\"pielayer\"/><g class=\"iciclelayer\"/><g class=\"treemaplayer\"/><g class=\"sunburstlayer\"/><g class=\"glimages\"/><defs id=\"topdefs-5abab8\"><g class=\"clips\"/></defs><g class=\"layer-above\"><g class=\"imagelayer\"/><g class=\"shapelayer\"/></g><g class=\"infolayer\"><g class=\"g-gtitle\"/><g class=\"g-xtitle\"><text class=\"xtitle\" x=\"350\" y=\"239.70625\" text-anchor=\"middle\" style=\"font-family: 'Open Sans', verdana, arial, sans-serif; font-size: 14px; fill: rgb(36, 36, 36); opacity: 1; font-weight: normal; white-space: pre;\">Number of articles published at a URL</text></g><g class=\"g-ytitle\" transform=\"translate(5.0029296875,0)\"><text class=\"ytitle\" transform=\"rotate(-90,9.996874999999989,100.5)\" x=\"9.996874999999989\" y=\"100.5\" text-anchor=\"middle\" style=\"font-family: 'Open Sans', verdana, arial, sans-serif; font-size: 14px; fill: rgb(36, 36, 36); opacity: 1; font-weight: normal; white-space: pre;\">Base URL</text></g></g></svg>"
      ]
     },
     "metadata": {},
     "output_type": "display_data"
    }
   ],
   "source": [
    "top_real_publishers = (\n",
    "    X_train.assign(label=y_train)\n",
    "    .query(\"label == 0\")\n",
    "    [\"baseurl\"]\n",
    "    .value_counts()\n",
    "    .iloc[:10]\n",
    "    .sort_values()\n",
    ")\n",
    "\n",
    "fig = px.bar(\n",
    "    top_real_publishers,\n",
    "    orientation=\"h\", width=550, height=250,\n",
    "    labels={\"value\": \"Number of articles published at a URL\",\n",
    "            \"index\": \"Base URL\"},\n",
    ")\n",
    "fig.update_layout(showlegend=False)"
   ]
  },
  {
   "cell_type": "markdown",
   "metadata": {},
   "source": [
    "Only `cnn.com` appears on both lists. Even without knowing the total number of articles for these sites, we might expect that an article from `yournewswire.com` is more likely to be labeled as `fake`, while an article from `whitehouse.gov` is more likely to be labeled as `real`. That said, we don't expect that using the publishing website to predict article truthfulness would work very well; there are simply too few articles from most of the websites in the dataset."
   ]
  },
  {
   "cell_type": "markdown",
   "metadata": {},
   "source": [
    "Next, let's explore the `timestamp` column, which records the publication date of the news articles."
   ]
  },
  {
   "cell_type": "markdown",
   "metadata": {},
   "source": [
    "## Exploring Publication Date"
   ]
  },
  {
   "cell_type": "markdown",
   "metadata": {},
   "source": [
    "Plotting the timestamps on a histogram shows that most articles were published after 2000, although there seems to be at least one article published before 1940:"
   ]
  },
  {
   "cell_type": "code",
   "execution_count": 331,
   "metadata": {},
   "outputs": [
    {
     "data": {
      "application/vnd.plotly.v1+json": {
       "config": {
        "plotlyServerURL": "https://plot.ly"
       },
       "data": [
        {
         "alignmentgroup": "True",
         "bingroup": "x",
         "hovertemplate": "variable=timestamp<br>Publication year=%{x}<br>count=%{y}<extra></extra>",
         "legendgroup": "timestamp",
         "marker": {
          "color": "#1F77B4",
          "pattern": {
           "shape": ""
          }
         },
         "name": "timestamp",
         "offsetgroup": "timestamp",
         "orientation": "v",
         "showlegend": true,
         "type": "histogram",
         "x": [
          "2019-01-04T19:25:46",
          "2016-01-12T21:02:28",
          "2017-05-28T07:00:00",
          "2018-04-18T07:00:00",
          null,
          null,
          "2014-02-25T08:00:00",
          null,
          "2008-02-02T08:00:00",
          "2014-04-06T07:00:00",
          null,
          null,
          "2017-10-17T07:00:00",
          null,
          "2017-12-23T11:38:49",
          "2017-06-29T10:11:23",
          null,
          "2011-11-17T08:00:00",
          "2017-08-11T05:30:55",
          null,
          null,
          "2013-07-24T07:00:00",
          "2017-08-06T07:00:00",
          "2008-06-15T07:00:00",
          "2012-05-05T07:00:00",
          null,
          "2013-04-18T07:00:00",
          "2017-06-23T07:00:00",
          null,
          null,
          null,
          "2017-05-11T13:20:53",
          "2018-01-18T13:11:21",
          "2017-07-13T07:00:00",
          null,
          "2017-05-05T07:00:00",
          null,
          null,
          null,
          "2017-04-10T23:33:37",
          null,
          null,
          null,
          null,
          null,
          "2018-01-15T00:45:10",
          "2017-12-06T03:56:22",
          null,
          null,
          null,
          null,
          "2007-01-30T23:00:00",
          "2018-04-27T07:00:00",
          null,
          null,
          "2017-08-26T23:55:58",
          null,
          "2016-08-24T16:31:21",
          "2017-08-12T07:00:00",
          "2017-12-08T16:27:57",
          null,
          null,
          null,
          null,
          "2018-01-20T19:55:11",
          "2017-07-06T23:08:01",
          "2011-06-10T07:00:00",
          "2014-08-06T07:00:00",
          null,
          null,
          "2016-12-23T19:20:30",
          null,
          "2012-06-17T07:00:00",
          "2016-03-15T07:00:00",
          null,
          "2007-07-20T16:03:00",
          "2008-05-05T07:00:00",
          "2018-04-30T07:00:00",
          null,
          "2016-11-15T13:49:28",
          "2017-12-15T08:00:00",
          "2018-05-14T07:00:00",
          null,
          "2008-03-17T07:00:00",
          null,
          null,
          null,
          null,
          "2017-05-10T07:00:00",
          null,
          "2017-03-02T21:08:00",
          "2011-08-15T07:00:00",
          "2022-01-21T20:11:33",
          "2017-06-21T08:29:37",
          null,
          null,
          null,
          null,
          null,
          null,
          null,
          null,
          null,
          null,
          null,
          null,
          "2017-04-28T22:43:30",
          null,
          null,
          "2017-10-02T07:00:00",
          null,
          "2015-12-22T08:00:00",
          null,
          "2022-01-21T20:11:33",
          null,
          "2018-05-12T10:31:03",
          null,
          "2017-05-13T12:16:07",
          null,
          "2015-07-12T07:00:00",
          null,
          "2012-08-15T07:00:00",
          null,
          null,
          "2018-05-02T21:43:38",
          null,
          "2017-06-14T10:54:18",
          "2017-03-21T17:03:42",
          "2018-06-26T07:00:00",
          null,
          null,
          null,
          null,
          null,
          null,
          "2018-05-10T10:27:59",
          "2012-11-12T08:00:00",
          "2016-08-15T21:35:17",
          "2012-06-23T07:00:00",
          "2017-04-22T16:49:00",
          "2012-02-17T08:00:00",
          "2015-11-04T19:03:03",
          "2018-04-02T07:00:00",
          "2012-02-08T08:00:00",
          "2016-09-26T07:00:00",
          "2022-01-21T20:11:33",
          null,
          null,
          "2017-01-30T08:00:00",
          null,
          null,
          "2017-10-30T03:51:53",
          "2014-07-28T06:25:34",
          null,
          "2016-12-15T17:58:10",
          null,
          "2017-05-25T23:45:14",
          null,
          "2011-07-11T07:00:00",
          "2018-01-15T12:47:13",
          null,
          "2021-04-05T16:39:51",
          "2015-12-19T08:00:00",
          "2009-07-12T07:00:00",
          null,
          null,
          "2017-11-06T14:31:59",
          null,
          "2017-09-10T07:00:00",
          "2017-11-10T15:06:39",
          "2012-06-02T00:00:00",
          null,
          null,
          "2012-11-06T08:00:00",
          "2017-10-17T10:00:14",
          null,
          "2011-08-26T07:00:00",
          null,
          "2012-08-23T07:00:00",
          "2012-10-22T07:00:00",
          null,
          "2015-07-24T07:00:00",
          null,
          "2008-06-03T07:00:00",
          null,
          "2022-01-21T20:11:33",
          null,
          "2017-02-05T00:19:34",
          null,
          null,
          null,
          "2017-02-14T08:00:00",
          "2018-01-04T08:00:00",
          null,
          "2018-01-17T08:00:00",
          "2022-01-21T20:11:33",
          null,
          null,
          null,
          "2017-11-06T16:38:11",
          null,
          "2010-12-13T08:00:00",
          "2009-02-03T08:00:00",
          null,
          "2017-09-05T07:00:00",
          "2017-05-20T13:17:59",
          null,
          null,
          "2013-03-31T07:00:00",
          "2022-01-21T20:11:33",
          "2017-07-15T07:00:00",
          null,
          null,
          "2017-12-08T22:25:03",
          null,
          null,
          null,
          "2012-10-03T07:00:00",
          null,
          null,
          null,
          "2013-03-08T08:00:00",
          "2018-04-28T23:36:00",
          null,
          null,
          "2015-10-22T17:38:15",
          null,
          null,
          "2017-05-09T07:00:00",
          null,
          "1996-07-13T05:00:00",
          "2013-05-07T07:00:00",
          null,
          null,
          "2016-01-01T16:30:16",
          null,
          null,
          "2016-11-25T08:00:00",
          null,
          "2017-03-01T13:48:02",
          null,
          null,
          "2022-01-21T20:11:33",
          "2017-11-02T17:25:12",
          "2017-01-31T14:33:42",
          "2017-03-10T15:40:16",
          null,
          null,
          null,
          null,
          null,
          "2017-11-15T00:52:37",
          "2017-02-04T20:49:12",
          "2012-08-09T07:00:00",
          "2018-05-16T15:34:00",
          null,
          null,
          null,
          null,
          "2018-03-04T22:45:53",
          "2008-09-19T07:00:00",
          null,
          null,
          null,
          null,
          "2017-06-01T01:33:02",
          "2016-11-22T19:46:39",
          "2017-11-10T14:21:36",
          "2018-03-13T07:00:00",
          "2017-02-09T00:43:39",
          "1935-07-24T05:00:00",
          null,
          null,
          "2018-06-25T07:00:00",
          null,
          null,
          "2007-08-01T07:00:00",
          "2017-11-09T08:00:00",
          "2018-02-12T09:00:00",
          "2016-07-31T16:41:09",
          "2009-10-21T07:00:00",
          null,
          null,
          null,
          "2011-08-15T07:00:00",
          "2011-02-06T08:00:00",
          "2018-07-02T07:00:00",
          "2015-01-07T08:00:00",
          "2018-06-09T21:52:02",
          null,
          "2017-04-25T07:00:00",
          null,
          "2016-02-23T08:00:00",
          null,
          "2006-11-07T08:00:00",
          "2016-06-13T07:00:00",
          "2009-09-07T07:00:00",
          "2017-11-13T14:53:49",
          null,
          null,
          "2017-08-14T02:18:16",
          null,
          "2015-07-10T07:00:00",
          "2016-02-11T08:00:00",
          null,
          null,
          "2017-10-02T14:13:42",
          "2022-01-21T20:11:33",
          null,
          "2017-11-06T07:00:44",
          "2020-03-25T05:17:00",
          null,
          null,
          null,
          "2022-01-21T20:11:33",
          "2016-09-05T07:00:00",
          "2022-01-21T20:11:33",
          "2017-06-21T20:42:21",
          "2008-03-03T08:00:00",
          null,
          "1994-06-10T05:00:00",
          null,
          "2013-04-17T07:00:00",
          null,
          "2017-12-30T08:00:00",
          null,
          "2011-02-11T08:00:00",
          null,
          "2012-04-03T07:00:00",
          "2013-10-27T07:00:00",
          "2013-08-06T07:00:00",
          null,
          null,
          "2017-07-01T11:58:59",
          null,
          null,
          null,
          null,
          "2022-01-21T20:11:33",
          null,
          "2017-02-16T20:48:25",
          null,
          "2016-05-10T23:21:17.233000",
          "2022-01-21T20:11:33",
          "2017-07-06T07:00:00",
          "2022-01-21T20:11:33",
          null,
          null,
          null,
          "2008-08-15T07:00:00",
          null,
          "2018-07-05T10:48:31",
          null,
          "2016-04-24T21:04:28",
          null,
          "2017-05-12T12:50:32",
          "2018-07-17T07:00:00",
          null,
          null,
          "2013-04-25T20:33:20",
          "2015-02-12T12:30:05",
          null,
          null,
          null,
          "2011-11-29T08:00:00",
          "2010-10-14T17:04:00",
          null,
          null,
          "2016-11-25T08:00:00",
          null,
          null,
          "2011-03-11T08:00:00",
          null,
          "2017-11-26T18:25:52",
          "1997-10-19T05:00:00",
          "2017-10-08T23:43:28",
          "2022-07-13T14:49:56",
          null,
          null,
          "2018-06-27T16:09:14",
          "2015-07-13T07:00:00",
          "2016-09-20T07:00:00",
          "2017-05-08T07:00:00",
          "2017-07-08T07:00:00",
          null,
          null,
          "2022-05-13T19:50:48",
          "2017-04-01T10:22:51",
          "2011-11-30T08:00:00",
          null,
          null,
          null,
          "2017-11-27T15:18:23",
          null,
          null,
          null,
          null,
          null,
          "2012-09-18T03:00:58",
          "2013-03-07T08:00:00",
          null,
          "2007-08-01T07:00:00",
          null,
          null,
          "2008-01-30T08:00:00",
          "2017-02-11T08:00:00",
          null,
          "2016-05-09T07:00:00",
          null,
          "2018-01-31T03:12:22",
          "2016-12-12T19:20:51",
          "2008-03-17T07:00:00",
          null,
          null,
          "2001-09-11T05:00:00",
          "2018-07-10T07:00:00",
          null,
          "2012-10-12T07:00:00",
          "2016-03-10T18:11:20.173000",
          "2017-07-17T13:06:07.680999",
          null,
          null,
          null,
          "2018-02-15T19:38:00",
          null,
          null,
          "2016-02-07T00:23:19.497999",
          "2017-06-28T02:30:25",
          "2016-03-14T07:00:00",
          null,
          null,
          "2009-12-18T08:00:00",
          null,
          null,
          "2013-10-02T07:00:00",
          "2011-05-24T07:00:00",
          null,
          "2018-05-21T07:00:00",
          "2017-09-07T15:58:27",
          "2018-06-09T13:46:04",
          "2013-05-02T07:00:00",
          "2017-03-16T21:05:45",
          null,
          "2017-04-12T23:27:02",
          "2013-07-24T07:00:00",
          null,
          "2008-01-30T08:00:00",
          "2016-11-07T08:00:00",
          "2018-03-20T17:56:46",
          "2018-04-09T07:00:00",
          null,
          null,
          null,
          null,
          "2017-08-08T07:00:00",
          "2009-03-05T08:00:00",
          "2017-01-05T08:00:00",
          null,
          null,
          "2015-11-25T08:00:00",
          null,
          "2016-01-05T08:00:00",
          null,
          null,
          "2017-12-30T08:00:00",
          null,
          null,
          "2014-07-30T13:14:31",
          null,
          null,
          "2017-12-11T05:56:25",
          null,
          "2017-03-01T23:25:53",
          null,
          "2017-09-13T07:00:00",
          null,
          null,
          "2017-09-14T20:00:00",
          null,
          null,
          "2009-02-17T08:00:00",
          null,
          "2016-12-06T00:12:45",
          null,
          null,
          "2016-05-23T11:29:00",
          "2017-09-30T23:15:05",
          null,
          "2008-06-03T07:00:00",
          null,
          "2018-05-04T14:02:09",
          "2018-03-16T07:00:00",
          "2017-01-02T08:00:00",
          null,
          "2016-10-10T04:00:36.789999",
          "2017-08-20T07:00:00",
          null,
          "2018-03-24T18:45:45",
          null,
          "2016-12-20T08:00:00",
          "2018-04-09T07:00:00",
          "2012-07-17T07:00:00",
          "2010-02-23T08:00:00",
          null,
          "2016-06-21T13:41:37",
          null,
          "2017-12-14T08:00:00",
          null,
          "2009-02-09T08:00:00",
          null,
          null,
          "2018-01-14T01:29:40",
          null,
          "2016-01-02T08:00:00",
          "2016-01-01T23:17:43",
          null,
          "2008-02-08T08:00:00",
          "2018-07-12T16:28:19",
          null,
          null,
          null,
          "2016-07-09T07:00:00",
          "2009-09-10T07:00:00",
          null,
          "2018-05-13T07:00:00",
          "2016-11-14T08:00:00",
          "2008-06-18T07:00:00",
          "2016-12-23T17:04:56",
          null,
          "2017-06-24T07:00:00",
          "2017-10-12T23:15:41",
          null,
          null,
          null,
          "2016-04-29T12:25:53",
          null,
          "2008-08-23T07:00:00",
          "2014-12-21T08:00:00",
          "2016-05-06T20:32:20",
          "2016-10-10T04:00:36.789999",
          null,
          "2012-07-12T07:00:00",
          null,
          null,
          null,
          null,
          null,
          null,
          null,
          "2022-01-21T20:11:33",
          "2016-03-10T08:00:00",
          null,
          "2011-12-09T08:00:00",
          "2017-05-20T07:00:00",
          "2017-09-01T03:14:21",
          "2018-04-15T07:00:00",
          null,
          "2018-06-23T17:18:57",
          null,
          "2017-06-01T07:00:00",
          null,
          "2015-04-13T07:00:00",
          "2012-04-17T07:00:00",
          null,
          "2022-01-21T20:11:33",
          null,
          "2017-03-14T18:19:08",
          null,
          "2017-09-26T07:00:00",
          null,
          "2020-07-01T05:10:00",
          "2011-03-15T07:00:00",
          "2018-05-13T13:33:50",
          "2017-10-10T07:00:00",
          "2010-06-07T13:30:42",
          "2014-02-28T05:49:15",
          "2014-01-24T08:00:00",
          null,
          "2011-07-06T07:00:00",
          "2016-01-10T20:56:04",
          "2017-07-28T22:24:04",
          null,
          null,
          "2017-11-23T08:00:00"
         ],
         "xaxis": "x",
         "yaxis": "y"
        }
       ],
       "layout": {
        "barmode": "relative",
        "height": 250,
        "legend": {
         "title": {
          "text": "variable"
         },
         "tracegroupgap": 0
        },
        "showlegend": false,
        "template": {
         "data": {
          "bar": [
           {
            "error_x": {
             "color": "rgb(36,36,36)"
            },
            "error_y": {
             "color": "rgb(36,36,36)"
            },
            "marker": {
             "line": {
              "color": "white",
              "width": 0.5
             },
             "pattern": {
              "fillmode": "overlay",
              "size": 10,
              "solidity": 0.2
             }
            },
            "type": "bar"
           }
          ],
          "barpolar": [
           {
            "marker": {
             "line": {
              "color": "white",
              "width": 0.5
             },
             "pattern": {
              "fillmode": "overlay",
              "size": 10,
              "solidity": 0.2
             }
            },
            "type": "barpolar"
           }
          ],
          "carpet": [
           {
            "aaxis": {
             "endlinecolor": "rgb(36,36,36)",
             "gridcolor": "white",
             "linecolor": "white",
             "minorgridcolor": "white",
             "startlinecolor": "rgb(36,36,36)"
            },
            "baxis": {
             "endlinecolor": "rgb(36,36,36)",
             "gridcolor": "white",
             "linecolor": "white",
             "minorgridcolor": "white",
             "startlinecolor": "rgb(36,36,36)"
            },
            "type": "carpet"
           }
          ],
          "choropleth": [
           {
            "colorbar": {
             "outlinewidth": 1,
             "tickcolor": "rgb(36,36,36)",
             "ticks": "outside"
            },
            "type": "choropleth"
           }
          ],
          "contour": [
           {
            "colorbar": {
             "outlinewidth": 1,
             "tickcolor": "rgb(36,36,36)",
             "ticks": "outside"
            },
            "colorscale": [
             [
              0,
              "#440154"
             ],
             [
              0.1111111111111111,
              "#482878"
             ],
             [
              0.2222222222222222,
              "#3e4989"
             ],
             [
              0.3333333333333333,
              "#31688e"
             ],
             [
              0.4444444444444444,
              "#26828e"
             ],
             [
              0.5555555555555556,
              "#1f9e89"
             ],
             [
              0.6666666666666666,
              "#35b779"
             ],
             [
              0.7777777777777778,
              "#6ece58"
             ],
             [
              0.8888888888888888,
              "#b5de2b"
             ],
             [
              1,
              "#fde725"
             ]
            ],
            "type": "contour"
           }
          ],
          "contourcarpet": [
           {
            "colorbar": {
             "outlinewidth": 1,
             "tickcolor": "rgb(36,36,36)",
             "ticks": "outside"
            },
            "type": "contourcarpet"
           }
          ],
          "heatmap": [
           {
            "colorbar": {
             "outlinewidth": 1,
             "tickcolor": "rgb(36,36,36)",
             "ticks": "outside"
            },
            "colorscale": [
             [
              0,
              "#440154"
             ],
             [
              0.1111111111111111,
              "#482878"
             ],
             [
              0.2222222222222222,
              "#3e4989"
             ],
             [
              0.3333333333333333,
              "#31688e"
             ],
             [
              0.4444444444444444,
              "#26828e"
             ],
             [
              0.5555555555555556,
              "#1f9e89"
             ],
             [
              0.6666666666666666,
              "#35b779"
             ],
             [
              0.7777777777777778,
              "#6ece58"
             ],
             [
              0.8888888888888888,
              "#b5de2b"
             ],
             [
              1,
              "#fde725"
             ]
            ],
            "type": "heatmap"
           }
          ],
          "heatmapgl": [
           {
            "colorbar": {
             "outlinewidth": 1,
             "tickcolor": "rgb(36,36,36)",
             "ticks": "outside"
            },
            "colorscale": [
             [
              0,
              "#440154"
             ],
             [
              0.1111111111111111,
              "#482878"
             ],
             [
              0.2222222222222222,
              "#3e4989"
             ],
             [
              0.3333333333333333,
              "#31688e"
             ],
             [
              0.4444444444444444,
              "#26828e"
             ],
             [
              0.5555555555555556,
              "#1f9e89"
             ],
             [
              0.6666666666666666,
              "#35b779"
             ],
             [
              0.7777777777777778,
              "#6ece58"
             ],
             [
              0.8888888888888888,
              "#b5de2b"
             ],
             [
              1,
              "#fde725"
             ]
            ],
            "type": "heatmapgl"
           }
          ],
          "histogram": [
           {
            "marker": {
             "line": {
              "color": "white",
              "width": 0.6
             }
            },
            "type": "histogram"
           }
          ],
          "histogram2d": [
           {
            "colorbar": {
             "outlinewidth": 1,
             "tickcolor": "rgb(36,36,36)",
             "ticks": "outside"
            },
            "colorscale": [
             [
              0,
              "#440154"
             ],
             [
              0.1111111111111111,
              "#482878"
             ],
             [
              0.2222222222222222,
              "#3e4989"
             ],
             [
              0.3333333333333333,
              "#31688e"
             ],
             [
              0.4444444444444444,
              "#26828e"
             ],
             [
              0.5555555555555556,
              "#1f9e89"
             ],
             [
              0.6666666666666666,
              "#35b779"
             ],
             [
              0.7777777777777778,
              "#6ece58"
             ],
             [
              0.8888888888888888,
              "#b5de2b"
             ],
             [
              1,
              "#fde725"
             ]
            ],
            "type": "histogram2d"
           }
          ],
          "histogram2dcontour": [
           {
            "colorbar": {
             "outlinewidth": 1,
             "tickcolor": "rgb(36,36,36)",
             "ticks": "outside"
            },
            "colorscale": [
             [
              0,
              "#440154"
             ],
             [
              0.1111111111111111,
              "#482878"
             ],
             [
              0.2222222222222222,
              "#3e4989"
             ],
             [
              0.3333333333333333,
              "#31688e"
             ],
             [
              0.4444444444444444,
              "#26828e"
             ],
             [
              0.5555555555555556,
              "#1f9e89"
             ],
             [
              0.6666666666666666,
              "#35b779"
             ],
             [
              0.7777777777777778,
              "#6ece58"
             ],
             [
              0.8888888888888888,
              "#b5de2b"
             ],
             [
              1,
              "#fde725"
             ]
            ],
            "type": "histogram2dcontour"
           }
          ],
          "mesh3d": [
           {
            "colorbar": {
             "outlinewidth": 1,
             "tickcolor": "rgb(36,36,36)",
             "ticks": "outside"
            },
            "type": "mesh3d"
           }
          ],
          "parcoords": [
           {
            "line": {
             "colorbar": {
              "outlinewidth": 1,
              "tickcolor": "rgb(36,36,36)",
              "ticks": "outside"
             }
            },
            "type": "parcoords"
           }
          ],
          "pie": [
           {
            "automargin": true,
            "type": "pie"
           }
          ],
          "scatter": [
           {
            "fillpattern": {
             "fillmode": "overlay",
             "size": 10,
             "solidity": 0.2
            },
            "type": "scatter"
           }
          ],
          "scatter3d": [
           {
            "line": {
             "colorbar": {
              "outlinewidth": 1,
              "tickcolor": "rgb(36,36,36)",
              "ticks": "outside"
             }
            },
            "marker": {
             "colorbar": {
              "outlinewidth": 1,
              "tickcolor": "rgb(36,36,36)",
              "ticks": "outside"
             }
            },
            "type": "scatter3d"
           }
          ],
          "scattercarpet": [
           {
            "marker": {
             "colorbar": {
              "outlinewidth": 1,
              "tickcolor": "rgb(36,36,36)",
              "ticks": "outside"
             }
            },
            "type": "scattercarpet"
           }
          ],
          "scattergeo": [
           {
            "marker": {
             "colorbar": {
              "outlinewidth": 1,
              "tickcolor": "rgb(36,36,36)",
              "ticks": "outside"
             }
            },
            "type": "scattergeo"
           }
          ],
          "scattergl": [
           {
            "marker": {
             "colorbar": {
              "outlinewidth": 1,
              "tickcolor": "rgb(36,36,36)",
              "ticks": "outside"
             }
            },
            "type": "scattergl"
           }
          ],
          "scattermapbox": [
           {
            "marker": {
             "colorbar": {
              "outlinewidth": 1,
              "tickcolor": "rgb(36,36,36)",
              "ticks": "outside"
             }
            },
            "type": "scattermapbox"
           }
          ],
          "scatterpolar": [
           {
            "marker": {
             "colorbar": {
              "outlinewidth": 1,
              "tickcolor": "rgb(36,36,36)",
              "ticks": "outside"
             }
            },
            "type": "scatterpolar"
           }
          ],
          "scatterpolargl": [
           {
            "marker": {
             "colorbar": {
              "outlinewidth": 1,
              "tickcolor": "rgb(36,36,36)",
              "ticks": "outside"
             }
            },
            "type": "scatterpolargl"
           }
          ],
          "scatterternary": [
           {
            "marker": {
             "colorbar": {
              "outlinewidth": 1,
              "tickcolor": "rgb(36,36,36)",
              "ticks": "outside"
             }
            },
            "type": "scatterternary"
           }
          ],
          "surface": [
           {
            "colorbar": {
             "outlinewidth": 1,
             "tickcolor": "rgb(36,36,36)",
             "ticks": "outside"
            },
            "colorscale": [
             [
              0,
              "#440154"
             ],
             [
              0.1111111111111111,
              "#482878"
             ],
             [
              0.2222222222222222,
              "#3e4989"
             ],
             [
              0.3333333333333333,
              "#31688e"
             ],
             [
              0.4444444444444444,
              "#26828e"
             ],
             [
              0.5555555555555556,
              "#1f9e89"
             ],
             [
              0.6666666666666666,
              "#35b779"
             ],
             [
              0.7777777777777778,
              "#6ece58"
             ],
             [
              0.8888888888888888,
              "#b5de2b"
             ],
             [
              1,
              "#fde725"
             ]
            ],
            "type": "surface"
           }
          ],
          "table": [
           {
            "cells": {
             "fill": {
              "color": "rgb(237,237,237)"
             },
             "line": {
              "color": "white"
             }
            },
            "header": {
             "fill": {
              "color": "rgb(217,217,217)"
             },
             "line": {
              "color": "white"
             }
            },
            "type": "table"
           }
          ]
         },
         "layout": {
          "annotationdefaults": {
           "arrowhead": 0,
           "arrowwidth": 1
          },
          "autosize": true,
          "autotypenumbers": "strict",
          "coloraxis": {
           "colorbar": {
            "outlinewidth": 1,
            "tickcolor": "rgb(36,36,36)",
            "ticks": "outside"
           }
          },
          "colorscale": {
           "diverging": [
            [
             0,
             "rgb(103,0,31)"
            ],
            [
             0.1,
             "rgb(178,24,43)"
            ],
            [
             0.2,
             "rgb(214,96,77)"
            ],
            [
             0.3,
             "rgb(244,165,130)"
            ],
            [
             0.4,
             "rgb(253,219,199)"
            ],
            [
             0.5,
             "rgb(247,247,247)"
            ],
            [
             0.6,
             "rgb(209,229,240)"
            ],
            [
             0.7,
             "rgb(146,197,222)"
            ],
            [
             0.8,
             "rgb(67,147,195)"
            ],
            [
             0.9,
             "rgb(33,102,172)"
            ],
            [
             1,
             "rgb(5,48,97)"
            ]
           ],
           "sequential": [
            [
             0,
             "#440154"
            ],
            [
             0.1111111111111111,
             "#482878"
            ],
            [
             0.2222222222222222,
             "#3e4989"
            ],
            [
             0.3333333333333333,
             "#31688e"
            ],
            [
             0.4444444444444444,
             "#26828e"
            ],
            [
             0.5555555555555556,
             "#1f9e89"
            ],
            [
             0.6666666666666666,
             "#35b779"
            ],
            [
             0.7777777777777778,
             "#6ece58"
            ],
            [
             0.8888888888888888,
             "#b5de2b"
            ],
            [
             1,
             "#fde725"
            ]
           ],
           "sequentialminus": [
            [
             0,
             "#440154"
            ],
            [
             0.1111111111111111,
             "#482878"
            ],
            [
             0.2222222222222222,
             "#3e4989"
            ],
            [
             0.3333333333333333,
             "#31688e"
            ],
            [
             0.4444444444444444,
             "#26828e"
            ],
            [
             0.5555555555555556,
             "#1f9e89"
            ],
            [
             0.6666666666666666,
             "#35b779"
            ],
            [
             0.7777777777777778,
             "#6ece58"
            ],
            [
             0.8888888888888888,
             "#b5de2b"
            ],
            [
             1,
             "#fde725"
            ]
           ]
          },
          "colorway": [
           "#1F77B4",
           "#FF7F0E",
           "#2CA02C",
           "#D62728",
           "#9467BD",
           "#8C564B",
           "#E377C2",
           "#7F7F7F",
           "#BCBD22",
           "#17BECF"
          ],
          "font": {
           "color": "rgb(36,36,36)"
          },
          "geo": {
           "bgcolor": "white",
           "lakecolor": "white",
           "landcolor": "white",
           "showlakes": true,
           "showland": true,
           "subunitcolor": "white"
          },
          "height": 250,
          "hoverlabel": {
           "align": "left"
          },
          "hovermode": "closest",
          "mapbox": {
           "style": "light"
          },
          "margin": {
           "b": 10,
           "l": 10,
           "r": 10,
           "t": 10
          },
          "paper_bgcolor": "white",
          "plot_bgcolor": "white",
          "polar": {
           "angularaxis": {
            "gridcolor": "rgb(232,232,232)",
            "linecolor": "rgb(36,36,36)",
            "showgrid": false,
            "showline": true,
            "ticks": "outside"
           },
           "bgcolor": "white",
           "radialaxis": {
            "gridcolor": "rgb(232,232,232)",
            "linecolor": "rgb(36,36,36)",
            "showgrid": false,
            "showline": true,
            "ticks": "outside"
           }
          },
          "scene": {
           "xaxis": {
            "backgroundcolor": "white",
            "gridcolor": "rgb(232,232,232)",
            "gridwidth": 2,
            "linecolor": "rgb(36,36,36)",
            "showbackground": true,
            "showgrid": false,
            "showline": true,
            "ticks": "outside",
            "zeroline": false,
            "zerolinecolor": "rgb(36,36,36)"
           },
           "yaxis": {
            "backgroundcolor": "white",
            "gridcolor": "rgb(232,232,232)",
            "gridwidth": 2,
            "linecolor": "rgb(36,36,36)",
            "showbackground": true,
            "showgrid": false,
            "showline": true,
            "ticks": "outside",
            "zeroline": false,
            "zerolinecolor": "rgb(36,36,36)"
           },
           "zaxis": {
            "backgroundcolor": "white",
            "gridcolor": "rgb(232,232,232)",
            "gridwidth": 2,
            "linecolor": "rgb(36,36,36)",
            "showbackground": true,
            "showgrid": false,
            "showline": true,
            "ticks": "outside",
            "zeroline": false,
            "zerolinecolor": "rgb(36,36,36)"
           }
          },
          "shapedefaults": {
           "fillcolor": "black",
           "line": {
            "width": 0
           },
           "opacity": 0.3
          },
          "ternary": {
           "aaxis": {
            "gridcolor": "rgb(232,232,232)",
            "linecolor": "rgb(36,36,36)",
            "showgrid": false,
            "showline": true,
            "ticks": "outside"
           },
           "baxis": {
            "gridcolor": "rgb(232,232,232)",
            "linecolor": "rgb(36,36,36)",
            "showgrid": false,
            "showline": true,
            "ticks": "outside"
           },
           "bgcolor": "white",
           "caxis": {
            "gridcolor": "rgb(232,232,232)",
            "linecolor": "rgb(36,36,36)",
            "showgrid": false,
            "showline": true,
            "ticks": "outside"
           }
          },
          "title": {
           "x": 0.5,
           "xanchor": "center"
          },
          "width": 350,
          "xaxis": {
           "automargin": true,
           "gridcolor": "rgb(232,232,232)",
           "linecolor": "rgb(36,36,36)",
           "showgrid": true,
           "showline": true,
           "ticks": "outside",
           "title": {
            "standoff": 15
           },
           "zeroline": false,
           "zerolinecolor": "rgb(36,36,36)"
          },
          "yaxis": {
           "automargin": true,
           "gridcolor": "rgb(232,232,232)",
           "linecolor": "rgb(36,36,36)",
           "showgrid": true,
           "showline": true,
           "ticks": "outside",
           "title": {
            "standoff": 15
           },
           "zeroline": false,
           "zerolinecolor": "rgb(36,36,36)"
          }
         }
        },
        "width": 550,
        "xaxis": {
         "anchor": "y",
         "autorange": true,
         "domain": [
          0,
          1
         ],
         "range": [
          "1935-01-01",
          "2023-01-01"
         ],
         "title": {
          "text": "Publication year"
         },
         "type": "date"
        },
        "yaxis": {
         "anchor": "x",
         "autorange": true,
         "domain": [
          0,
          1
         ],
         "range": [
          0,
          100
         ],
         "title": {
          "text": "count"
         }
        }
       }
      },
      "image/png": "[encoded data removed]",
      "image/svg+xml": [
       "<svg class=\"main-svg\" xmlns=\"http://www.w3.org/2000/svg\" xmlns:xlink=\"http://www.w3.org/1999/xlink\" width=\"550\" height=\"250\" style=\"\" viewBox=\"0 0 550 250\"><rect x=\"0\" y=\"0\" width=\"550\" height=\"250\" style=\"fill: rgb(255, 255, 255); fill-opacity: 1;\"/><defs id=\"defs-d91e3e\"><g class=\"clips\"><clipPath id=\"clipd91e3exyplot\" class=\"plotclip\"><rect width=\"474\" height=\"174\"/></clipPath><clipPath class=\"axesclip\" id=\"clipd91e3ex\"><rect x=\"66\" y=\"0\" width=\"474\" height=\"250\"/></clipPath><clipPath class=\"axesclip\" id=\"clipd91e3ey\"><rect x=\"0\" y=\"18\" width=\"550\" height=\"174\"/></clipPath><clipPath class=\"axesclip\" id=\"clipd91e3exy\"><rect x=\"66\" y=\"18\" width=\"474\" height=\"174\"/></clipPath></g><g class=\"gradients\"/><g class=\"patterns\"/></defs><g class=\"bglayer\"/><g class=\"layer-below\"><g class=\"imagelayer\"/><g class=\"shapelayer\"/></g><g class=\"cartesianlayer\"><g class=\"subplot xy\"><g class=\"layer-subplot\"><g class=\"shapelayer\"/><g class=\"imagelayer\"/></g><g class=\"minor-gridlayer\"><g class=\"x\"/><g class=\"y\"/></g><g class=\"gridlayer\"><g class=\"x\"><path class=\"xgrid crisp\" transform=\"translate(92.93,0)\" d=\"M0,18v174\" style=\"stroke: rgb(232, 232, 232); stroke-opacity: 1; stroke-width: 1px;\"/><path class=\"xgrid crisp\" transform=\"translate(200.66,0)\" d=\"M0,18v174\" style=\"stroke: rgb(232, 232, 232); stroke-opacity: 1; stroke-width: 1px;\"/><path class=\"xgrid crisp\" transform=\"translate(308.38,0)\" d=\"M0,18v174\" style=\"stroke: rgb(232, 232, 232); stroke-opacity: 1; stroke-width: 1px;\"/><path class=\"xgrid crisp\" transform=\"translate(416.11,0)\" d=\"M0,18v174\" style=\"stroke: rgb(232, 232, 232); stroke-opacity: 1; stroke-width: 1px;\"/><path class=\"xgrid crisp\" transform=\"translate(523.8399999999999,0)\" d=\"M0,18v174\" style=\"stroke: rgb(232, 232, 232); stroke-opacity: 1; stroke-width: 1px;\"/></g><g class=\"y\"><path class=\"ygrid crisp\" transform=\"translate(0,157.2)\" d=\"M66,0h474\" style=\"stroke: rgb(232, 232, 232); stroke-opacity: 1; stroke-width: 1px;\"/><path class=\"ygrid crisp\" transform=\"translate(0,122.4)\" d=\"M66,0h474\" style=\"stroke: rgb(232, 232, 232); stroke-opacity: 1; stroke-width: 1px;\"/><path class=\"ygrid crisp\" transform=\"translate(0,87.6)\" d=\"M66,0h474\" style=\"stroke: rgb(232, 232, 232); stroke-opacity: 1; stroke-width: 1px;\"/><path class=\"ygrid crisp\" transform=\"translate(0,52.8)\" d=\"M66,0h474\" style=\"stroke: rgb(232, 232, 232); stroke-opacity: 1; stroke-width: 1px;\"/></g></g><g class=\"zerolinelayer\"/><path class=\"xlines-below\"/><path class=\"ylines-below\"/><g class=\"overlines-below\"/><g class=\"xaxislayer-below\"/><g class=\"yaxislayer-below\"/><g class=\"overaxes-below\"/><g class=\"plot\" transform=\"translate(66,18)\" clip-path=\"url(#clipd91e3exyplot)\"><g class=\"barlayer mlayer\"><g class=\"trace bars\" style=\"opacity: 1;\"><g class=\"points\"><g class=\"point\"><path d=\"M0,174V172.26H5.38V174Z\" style=\"vector-effect: none; opacity: 1; stroke-width: 0.6px; fill: rgb(31, 119, 180); fill-opacity: 1; stroke: rgb(255, 255, 255); stroke-opacity: 1;\"/></g><g class=\"point\"><path d=\"M0,0Z\" style=\"vector-effect: none; opacity: 1; stroke-width: 0px; fill: rgb(31, 119, 180); fill-opacity: 1; stroke: rgb(255, 255, 255); stroke-opacity: 1;\"/></g><g class=\"point\"><path d=\"M0,0Z\" style=\"vector-effect: none; opacity: 1; stroke-width: 0px; fill: rgb(31, 119, 180); fill-opacity: 1; stroke: rgb(255, 255, 255); stroke-opacity: 1;\"/></g><g class=\"point\"><path d=\"M0,0Z\" style=\"vector-effect: none; opacity: 1; stroke-width: 0px; fill: rgb(31, 119, 180); fill-opacity: 1; stroke: rgb(255, 255, 255); stroke-opacity: 1;\"/></g><g class=\"point\"><path d=\"M0,0Z\" style=\"vector-effect: none; opacity: 1; stroke-width: 0px; fill: rgb(31, 119, 180); fill-opacity: 1; stroke: rgb(255, 255, 255); stroke-opacity: 1;\"/></g><g class=\"point\"><path d=\"M0,0Z\" style=\"vector-effect: none; opacity: 1; stroke-width: 0px; fill: rgb(31, 119, 180); fill-opacity: 1; stroke: rgb(255, 255, 255); stroke-opacity: 1;\"/></g><g class=\"point\"><path d=\"M0,0Z\" style=\"vector-effect: none; opacity: 1; stroke-width: 0px; fill: rgb(31, 119, 180); fill-opacity: 1; stroke: rgb(255, 255, 255); stroke-opacity: 1;\"/></g><g class=\"point\"><path d=\"M0,0Z\" style=\"vector-effect: none; opacity: 1; stroke-width: 0px; fill: rgb(31, 119, 180); fill-opacity: 1; stroke: rgb(255, 255, 255); stroke-opacity: 1;\"/></g><g class=\"point\"><path d=\"M0,0Z\" style=\"vector-effect: none; opacity: 1; stroke-width: 0px; fill: rgb(31, 119, 180); fill-opacity: 1; stroke: rgb(255, 255, 255); stroke-opacity: 1;\"/></g><g class=\"point\"><path d=\"M0,0Z\" style=\"vector-effect: none; opacity: 1; stroke-width: 0px; fill: rgb(31, 119, 180); fill-opacity: 1; stroke: rgb(255, 255, 255); stroke-opacity: 1;\"/></g><g class=\"point\"><path d=\"M0,0Z\" style=\"vector-effect: none; opacity: 1; stroke-width: 0px; fill: rgb(31, 119, 180); fill-opacity: 1; stroke: rgb(255, 255, 255); stroke-opacity: 1;\"/></g><g class=\"point\"><path d=\"M0,0Z\" style=\"vector-effect: none; opacity: 1; stroke-width: 0px; fill: rgb(31, 119, 180); fill-opacity: 1; stroke: rgb(255, 255, 255); stroke-opacity: 1;\"/></g><g class=\"point\"><path d=\"M0,0Z\" style=\"vector-effect: none; opacity: 1; stroke-width: 0px; fill: rgb(31, 119, 180); fill-opacity: 1; stroke: rgb(255, 255, 255); stroke-opacity: 1;\"/></g><g class=\"point\"><path d=\"M0,0Z\" style=\"vector-effect: none; opacity: 1; stroke-width: 0px; fill: rgb(31, 119, 180); fill-opacity: 1; stroke: rgb(255, 255, 255); stroke-opacity: 1;\"/></g><g class=\"point\"><path d=\"M0,0Z\" style=\"vector-effect: none; opacity: 1; stroke-width: 0px; fill: rgb(31, 119, 180); fill-opacity: 1; stroke: rgb(255, 255, 255); stroke-opacity: 1;\"/></g><g class=\"point\"><path d=\"M0,0Z\" style=\"vector-effect: none; opacity: 1; stroke-width: 0px; fill: rgb(31, 119, 180); fill-opacity: 1; stroke: rgb(255, 255, 255); stroke-opacity: 1;\"/></g><g class=\"point\"><path d=\"M0,0Z\" style=\"vector-effect: none; opacity: 1; stroke-width: 0px; fill: rgb(31, 119, 180); fill-opacity: 1; stroke: rgb(255, 255, 255); stroke-opacity: 1;\"/></g><g class=\"point\"><path d=\"M0,0Z\" style=\"vector-effect: none; opacity: 1; stroke-width: 0px; fill: rgb(31, 119, 180); fill-opacity: 1; stroke: rgb(255, 255, 255); stroke-opacity: 1;\"/></g><g class=\"point\"><path d=\"M0,0Z\" style=\"vector-effect: none; opacity: 1; stroke-width: 0px; fill: rgb(31, 119, 180); fill-opacity: 1; stroke: rgb(255, 255, 255); stroke-opacity: 1;\"/></g><g class=\"point\"><path d=\"M0,0Z\" style=\"vector-effect: none; opacity: 1; stroke-width: 0px; fill: rgb(31, 119, 180); fill-opacity: 1; stroke: rgb(255, 255, 255); stroke-opacity: 1;\"/></g><g class=\"point\"><path d=\"M0,0Z\" style=\"vector-effect: none; opacity: 1; stroke-width: 0px; fill: rgb(31, 119, 180); fill-opacity: 1; stroke: rgb(255, 255, 255); stroke-opacity: 1;\"/></g><g class=\"point\"><path d=\"M0,0Z\" style=\"vector-effect: none; opacity: 1; stroke-width: 0px; fill: rgb(31, 119, 180); fill-opacity: 1; stroke: rgb(255, 255, 255); stroke-opacity: 1;\"/></g><g class=\"point\"><path d=\"M0,0Z\" style=\"vector-effect: none; opacity: 1; stroke-width: 0px; fill: rgb(31, 119, 180); fill-opacity: 1; stroke: rgb(255, 255, 255); stroke-opacity: 1;\"/></g><g class=\"point\"><path d=\"M0,0Z\" style=\"vector-effect: none; opacity: 1; stroke-width: 0px; fill: rgb(31, 119, 180); fill-opacity: 1; stroke: rgb(255, 255, 255); stroke-opacity: 1;\"/></g><g class=\"point\"><path d=\"M0,0Z\" style=\"vector-effect: none; opacity: 1; stroke-width: 0px; fill: rgb(31, 119, 180); fill-opacity: 1; stroke: rgb(255, 255, 255); stroke-opacity: 1;\"/></g><g class=\"point\"><path d=\"M0,0Z\" style=\"vector-effect: none; opacity: 1; stroke-width: 0px; fill: rgb(31, 119, 180); fill-opacity: 1; stroke: rgb(255, 255, 255); stroke-opacity: 1;\"/></g><g class=\"point\"><path d=\"M0,0Z\" style=\"vector-effect: none; opacity: 1; stroke-width: 0px; fill: rgb(31, 119, 180); fill-opacity: 1; stroke: rgb(255, 255, 255); stroke-opacity: 1;\"/></g><g class=\"point\"><path d=\"M0,0Z\" style=\"vector-effect: none; opacity: 1; stroke-width: 0px; fill: rgb(31, 119, 180); fill-opacity: 1; stroke: rgb(255, 255, 255); stroke-opacity: 1;\"/></g><g class=\"point\"><path d=\"M0,0Z\" style=\"vector-effect: none; opacity: 1; stroke-width: 0px; fill: rgb(31, 119, 180); fill-opacity: 1; stroke: rgb(255, 255, 255); stroke-opacity: 1;\"/></g><g class=\"point\"><path d=\"M0,0Z\" style=\"vector-effect: none; opacity: 1; stroke-width: 0px; fill: rgb(31, 119, 180); fill-opacity: 1; stroke: rgb(255, 255, 255); stroke-opacity: 1;\"/></g><g class=\"point\"><path d=\"M0,0Z\" style=\"vector-effect: none; opacity: 1; stroke-width: 0px; fill: rgb(31, 119, 180); fill-opacity: 1; stroke: rgb(255, 255, 255); stroke-opacity: 1;\"/></g><g class=\"point\"><path d=\"M0,0Z\" style=\"vector-effect: none; opacity: 1; stroke-width: 0px; fill: rgb(31, 119, 180); fill-opacity: 1; stroke: rgb(255, 255, 255); stroke-opacity: 1;\"/></g><g class=\"point\"><path d=\"M0,0Z\" style=\"vector-effect: none; opacity: 1; stroke-width: 0px; fill: rgb(31, 119, 180); fill-opacity: 1; stroke: rgb(255, 255, 255); stroke-opacity: 1;\"/></g><g class=\"point\"><path d=\"M0,0Z\" style=\"vector-effect: none; opacity: 1; stroke-width: 0px; fill: rgb(31, 119, 180); fill-opacity: 1; stroke: rgb(255, 255, 255); stroke-opacity: 1;\"/></g><g class=\"point\"><path d=\"M0,0Z\" style=\"vector-effect: none; opacity: 1; stroke-width: 0px; fill: rgb(31, 119, 180); fill-opacity: 1; stroke: rgb(255, 255, 255); stroke-opacity: 1;\"/></g><g class=\"point\"><path d=\"M0,0Z\" style=\"vector-effect: none; opacity: 1; stroke-width: 0px; fill: rgb(31, 119, 180); fill-opacity: 1; stroke: rgb(255, 255, 255); stroke-opacity: 1;\"/></g><g class=\"point\"><path d=\"M0,0Z\" style=\"vector-effect: none; opacity: 1; stroke-width: 0px; fill: rgb(31, 119, 180); fill-opacity: 1; stroke: rgb(255, 255, 255); stroke-opacity: 1;\"/></g><g class=\"point\"><path d=\"M0,0Z\" style=\"vector-effect: none; opacity: 1; stroke-width: 0px; fill: rgb(31, 119, 180); fill-opacity: 1; stroke: rgb(255, 255, 255); stroke-opacity: 1;\"/></g><g class=\"point\"><path d=\"M0,0Z\" style=\"vector-effect: none; opacity: 1; stroke-width: 0px; fill: rgb(31, 119, 180); fill-opacity: 1; stroke: rgb(255, 255, 255); stroke-opacity: 1;\"/></g><g class=\"point\"><path d=\"M0,0Z\" style=\"vector-effect: none; opacity: 1; stroke-width: 0px; fill: rgb(31, 119, 180); fill-opacity: 1; stroke: rgb(255, 255, 255); stroke-opacity: 1;\"/></g><g class=\"point\"><path d=\"M0,0Z\" style=\"vector-effect: none; opacity: 1; stroke-width: 0px; fill: rgb(31, 119, 180); fill-opacity: 1; stroke: rgb(255, 255, 255); stroke-opacity: 1;\"/></g><g class=\"point\"><path d=\"M0,0Z\" style=\"vector-effect: none; opacity: 1; stroke-width: 0px; fill: rgb(31, 119, 180); fill-opacity: 1; stroke: rgb(255, 255, 255); stroke-opacity: 1;\"/></g><g class=\"point\"><path d=\"M0,0Z\" style=\"vector-effect: none; opacity: 1; stroke-width: 0px; fill: rgb(31, 119, 180); fill-opacity: 1; stroke: rgb(255, 255, 255); stroke-opacity: 1;\"/></g><g class=\"point\"><path d=\"M0,0Z\" style=\"vector-effect: none; opacity: 1; stroke-width: 0px; fill: rgb(31, 119, 180); fill-opacity: 1; stroke: rgb(255, 255, 255); stroke-opacity: 1;\"/></g><g class=\"point\"><path d=\"M0,0Z\" style=\"vector-effect: none; opacity: 1; stroke-width: 0px; fill: rgb(31, 119, 180); fill-opacity: 1; stroke: rgb(255, 255, 255); stroke-opacity: 1;\"/></g><g class=\"point\"><path d=\"M0,0Z\" style=\"vector-effect: none; opacity: 1; stroke-width: 0px; fill: rgb(31, 119, 180); fill-opacity: 1; stroke: rgb(255, 255, 255); stroke-opacity: 1;\"/></g><g class=\"point\"><path d=\"M0,0Z\" style=\"vector-effect: none; opacity: 1; stroke-width: 0px; fill: rgb(31, 119, 180); fill-opacity: 1; stroke: rgb(255, 255, 255); stroke-opacity: 1;\"/></g><g class=\"point\"><path d=\"M0,0Z\" style=\"vector-effect: none; opacity: 1; stroke-width: 0px; fill: rgb(31, 119, 180); fill-opacity: 1; stroke: rgb(255, 255, 255); stroke-opacity: 1;\"/></g><g class=\"point\"><path d=\"M0,0Z\" style=\"vector-effect: none; opacity: 1; stroke-width: 0px; fill: rgb(31, 119, 180); fill-opacity: 1; stroke: rgb(255, 255, 255); stroke-opacity: 1;\"/></g><g class=\"point\"><path d=\"M0,0Z\" style=\"vector-effect: none; opacity: 1; stroke-width: 0px; fill: rgb(31, 119, 180); fill-opacity: 1; stroke: rgb(255, 255, 255); stroke-opacity: 1;\"/></g><g class=\"point\"><path d=\"M0,0Z\" style=\"vector-effect: none; opacity: 1; stroke-width: 0px; fill: rgb(31, 119, 180); fill-opacity: 1; stroke: rgb(255, 255, 255); stroke-opacity: 1;\"/></g><g class=\"point\"><path d=\"M0,0Z\" style=\"vector-effect: none; opacity: 1; stroke-width: 0px; fill: rgb(31, 119, 180); fill-opacity: 1; stroke: rgb(255, 255, 255); stroke-opacity: 1;\"/></g><g class=\"point\"><path d=\"M0,0Z\" style=\"vector-effect: none; opacity: 1; stroke-width: 0px; fill: rgb(31, 119, 180); fill-opacity: 1; stroke: rgb(255, 255, 255); stroke-opacity: 1;\"/></g><g class=\"point\"><path d=\"M0,0Z\" style=\"vector-effect: none; opacity: 1; stroke-width: 0px; fill: rgb(31, 119, 180); fill-opacity: 1; stroke: rgb(255, 255, 255); stroke-opacity: 1;\"/></g><g class=\"point\"><path d=\"M0,0Z\" style=\"vector-effect: none; opacity: 1; stroke-width: 0px; fill: rgb(31, 119, 180); fill-opacity: 1; stroke: rgb(255, 255, 255); stroke-opacity: 1;\"/></g><g class=\"point\"><path d=\"M0,0Z\" style=\"vector-effect: none; opacity: 1; stroke-width: 0px; fill: rgb(31, 119, 180); fill-opacity: 1; stroke: rgb(255, 255, 255); stroke-opacity: 1;\"/></g><g class=\"point\"><path d=\"M0,0Z\" style=\"vector-effect: none; opacity: 1; stroke-width: 0px; fill: rgb(31, 119, 180); fill-opacity: 1; stroke: rgb(255, 255, 255); stroke-opacity: 1;\"/></g><g class=\"point\"><path d=\"M0,0Z\" style=\"vector-effect: none; opacity: 1; stroke-width: 0px; fill: rgb(31, 119, 180); fill-opacity: 1; stroke: rgb(255, 255, 255); stroke-opacity: 1;\"/></g><g class=\"point\"><path d=\"M0,0Z\" style=\"vector-effect: none; opacity: 1; stroke-width: 0px; fill: rgb(31, 119, 180); fill-opacity: 1; stroke: rgb(255, 255, 255); stroke-opacity: 1;\"/></g><g class=\"point\"><path d=\"M317.8,174V172.26H323.18V174Z\" style=\"vector-effect: none; opacity: 1; stroke-width: 0.6px; fill: rgb(31, 119, 180); fill-opacity: 1; stroke: rgb(255, 255, 255); stroke-opacity: 1;\"/></g><g class=\"point\"><path d=\"M0,0Z\" style=\"vector-effect: none; opacity: 1; stroke-width: 0px; fill: rgb(31, 119, 180); fill-opacity: 1; stroke: rgb(255, 255, 255); stroke-opacity: 1;\"/></g><g class=\"point\"><path d=\"M328.57,174V172.26H333.95V174Z\" style=\"vector-effect: none; opacity: 1; stroke-width: 0.6px; fill: rgb(31, 119, 180); fill-opacity: 1; stroke: rgb(255, 255, 255); stroke-opacity: 1;\"/></g><g class=\"point\"><path d=\"M333.96,174V172.26H339.34V174Z\" style=\"vector-effect: none; opacity: 1; stroke-width: 0.6px; fill: rgb(31, 119, 180); fill-opacity: 1; stroke: rgb(255, 255, 255); stroke-opacity: 1;\"/></g><g class=\"point\"><path d=\"M0,0Z\" style=\"vector-effect: none; opacity: 1; stroke-width: 0px; fill: rgb(31, 119, 180); fill-opacity: 1; stroke: rgb(255, 255, 255); stroke-opacity: 1;\"/></g><g class=\"point\"><path d=\"M0,0Z\" style=\"vector-effect: none; opacity: 1; stroke-width: 0px; fill: rgb(31, 119, 180); fill-opacity: 1; stroke: rgb(255, 255, 255); stroke-opacity: 1;\"/></g><g class=\"point\"><path d=\"M0,0Z\" style=\"vector-effect: none; opacity: 1; stroke-width: 0px; fill: rgb(31, 119, 180); fill-opacity: 1; stroke: rgb(255, 255, 255); stroke-opacity: 1;\"/></g><g class=\"point\"><path d=\"M355.51,174V172.26H360.89V174Z\" style=\"vector-effect: none; opacity: 1; stroke-width: 0.6px; fill: rgb(31, 119, 180); fill-opacity: 1; stroke: rgb(255, 255, 255); stroke-opacity: 1;\"/></g><g class=\"point\"><path d=\"M0,0Z\" style=\"vector-effect: none; opacity: 1; stroke-width: 0px; fill: rgb(31, 119, 180); fill-opacity: 1; stroke: rgb(255, 255, 255); stroke-opacity: 1;\"/></g><g class=\"point\"><path d=\"M0,0Z\" style=\"vector-effect: none; opacity: 1; stroke-width: 0px; fill: rgb(31, 119, 180); fill-opacity: 1; stroke: rgb(255, 255, 255); stroke-opacity: 1;\"/></g><g class=\"point\"><path d=\"M0,0Z\" style=\"vector-effect: none; opacity: 1; stroke-width: 0px; fill: rgb(31, 119, 180); fill-opacity: 1; stroke: rgb(255, 255, 255); stroke-opacity: 1;\"/></g><g class=\"point\"><path d=\"M0,0Z\" style=\"vector-effect: none; opacity: 1; stroke-width: 0px; fill: rgb(31, 119, 180); fill-opacity: 1; stroke: rgb(255, 255, 255); stroke-opacity: 1;\"/></g><g class=\"point\"><path d=\"M382.44,174V172.26H387.82V174Z\" style=\"vector-effect: none; opacity: 1; stroke-width: 0.6px; fill: rgb(31, 119, 180); fill-opacity: 1; stroke: rgb(255, 255, 255); stroke-opacity: 1;\"/></g><g class=\"point\"><path d=\"M387.82,174V167.04H393.2V174Z\" style=\"vector-effect: none; opacity: 1; stroke-width: 0.6px; fill: rgb(31, 119, 180); fill-opacity: 1; stroke: rgb(255, 255, 255); stroke-opacity: 1;\"/></g><g class=\"point\"><path d=\"M393.21,174V147.9H398.59V174Z\" style=\"vector-effect: none; opacity: 1; stroke-width: 0.6px; fill: rgb(31, 119, 180); fill-opacity: 1; stroke: rgb(255, 255, 255); stroke-opacity: 1;\"/></g><g class=\"point\"><path d=\"M398.6,174V158.34H403.98V174Z\" style=\"vector-effect: none; opacity: 1; stroke-width: 0.6px; fill: rgb(31, 119, 180); fill-opacity: 1; stroke: rgb(255, 255, 255); stroke-opacity: 1;\"/></g><g class=\"point\"><path d=\"M403.98,174V167.04H409.36V174Z\" style=\"vector-effect: none; opacity: 1; stroke-width: 0.6px; fill: rgb(31, 119, 180); fill-opacity: 1; stroke: rgb(255, 255, 255); stroke-opacity: 1;\"/></g><g class=\"point\"><path d=\"M409.36,174V147.9H414.75V174Z\" style=\"vector-effect: none; opacity: 1; stroke-width: 0.6px; fill: rgb(31, 119, 180); fill-opacity: 1; stroke: rgb(255, 255, 255); stroke-opacity: 1;\"/></g><g class=\"point\"><path d=\"M414.75,174V140.94H420.14V174Z\" style=\"vector-effect: none; opacity: 1; stroke-width: 0.6px; fill: rgb(31, 119, 180); fill-opacity: 1; stroke: rgb(255, 255, 255); stroke-opacity: 1;\"/></g><g class=\"point\"><path d=\"M420.14,174V151.38H425.53V174Z\" style=\"vector-effect: none; opacity: 1; stroke-width: 0.6px; fill: rgb(31, 119, 180); fill-opacity: 1; stroke: rgb(255, 255, 255); stroke-opacity: 1;\"/></g><g class=\"point\"><path d=\"M425.53,174V160.08H430.91V174Z\" style=\"vector-effect: none; opacity: 1; stroke-width: 0.6px; fill: rgb(31, 119, 180); fill-opacity: 1; stroke: rgb(255, 255, 255); stroke-opacity: 1;\"/></g><g class=\"point\"><path d=\"M430.91,174V153.12H436.29V174Z\" style=\"vector-effect: none; opacity: 1; stroke-width: 0.6px; fill: rgb(31, 119, 180); fill-opacity: 1; stroke: rgb(255, 255, 255); stroke-opacity: 1;\"/></g><g class=\"point\"><path d=\"M436.3,174V100.92H441.68V174Z\" style=\"vector-effect: none; opacity: 1; stroke-width: 0.6px; fill: rgb(31, 119, 180); fill-opacity: 1; stroke: rgb(255, 255, 255); stroke-opacity: 1;\"/></g><g class=\"point\"><path d=\"M441.69,174V8.7H447.07V174Z\" style=\"vector-effect: none; opacity: 1; stroke-width: 0.6px; fill: rgb(31, 119, 180); fill-opacity: 1; stroke: rgb(255, 255, 255); stroke-opacity: 1;\"/></g><g class=\"point\"><path d=\"M447.07,174V99.18H452.45V174Z\" style=\"vector-effect: none; opacity: 1; stroke-width: 0.6px; fill: rgb(31, 119, 180); fill-opacity: 1; stroke: rgb(255, 255, 255); stroke-opacity: 1;\"/></g><g class=\"point\"><path d=\"M452.45,174V172.26H457.84V174Z\" style=\"vector-effect: none; opacity: 1; stroke-width: 0.6px; fill: rgb(31, 119, 180); fill-opacity: 1; stroke: rgb(255, 255, 255); stroke-opacity: 1;\"/></g><g class=\"point\"><path d=\"M457.84,174V170.52H463.23V174Z\" style=\"vector-effect: none; opacity: 1; stroke-width: 0.6px; fill: rgb(31, 119, 180); fill-opacity: 1; stroke: rgb(255, 255, 255); stroke-opacity: 1;\"/></g><g class=\"point\"><path d=\"M463.23,174V172.26H468.62V174Z\" style=\"vector-effect: none; opacity: 1; stroke-width: 0.6px; fill: rgb(31, 119, 180); fill-opacity: 1; stroke: rgb(255, 255, 255); stroke-opacity: 1;\"/></g><g class=\"point\"><path d=\"M468.62,174V144.42H474V174Z\" style=\"vector-effect: none; opacity: 1; stroke-width: 0.6px; fill: rgb(31, 119, 180); fill-opacity: 1; stroke: rgb(255, 255, 255); stroke-opacity: 1;\"/></g></g></g></g></g><g class=\"overplot\"/><path class=\"xlines-above crisp\" d=\"M65,192.5H540\" style=\"fill: none; stroke-width: 1px; stroke: rgb(36, 36, 36); stroke-opacity: 1;\"/><path class=\"ylines-above crisp\" d=\"M65.5,18V192\" style=\"fill: none; stroke-width: 1px; stroke: rgb(36, 36, 36); stroke-opacity: 1;\"/><g class=\"overlines-above\"/><g class=\"xaxislayer-above\"><path class=\"xtick ticks crisp\" d=\"M0,193v5\" transform=\"translate(92.93,0)\" style=\"stroke: rgb(68, 68, 68); stroke-opacity: 1; stroke-width: 1px;\"/><path class=\"xtick ticks crisp\" d=\"M0,193v5\" transform=\"translate(200.66,0)\" style=\"stroke: rgb(68, 68, 68); stroke-opacity: 1; stroke-width: 1px;\"/><path class=\"xtick ticks crisp\" d=\"M0,193v5\" transform=\"translate(308.38,0)\" style=\"stroke: rgb(68, 68, 68); stroke-opacity: 1; stroke-width: 1px;\"/><path class=\"xtick ticks crisp\" d=\"M0,193v5\" transform=\"translate(416.11,0)\" style=\"stroke: rgb(68, 68, 68); stroke-opacity: 1; stroke-width: 1px;\"/><path class=\"xtick ticks crisp\" d=\"M0,193v5\" transform=\"translate(523.8399999999999,0)\" style=\"stroke: rgb(68, 68, 68); stroke-opacity: 1; stroke-width: 1px;\"/><g class=\"xtick\"><text text-anchor=\"middle\" x=\"0\" y=\"212.4\" transform=\"translate(92.93,0)\" style=\"font-family: 'Open Sans', verdana, arial, sans-serif; font-size: 12px; fill: rgb(36, 36, 36); fill-opacity: 1; white-space: pre; opacity: 1;\">1940</text></g><g class=\"xtick\"><text text-anchor=\"middle\" x=\"0\" y=\"212.4\" style=\"font-family: 'Open Sans', verdana, arial, sans-serif; font-size: 12px; fill: rgb(36, 36, 36); fill-opacity: 1; white-space: pre; opacity: 1;\" transform=\"translate(200.66,0)\">1960</text></g><g class=\"xtick\"><text text-anchor=\"middle\" x=\"0\" y=\"212.4\" style=\"font-family: 'Open Sans', verdana, arial, sans-serif; font-size: 12px; fill: rgb(36, 36, 36); fill-opacity: 1; white-space: pre; opacity: 1;\" transform=\"translate(308.38,0)\">1980</text></g><g class=\"xtick\"><text text-anchor=\"middle\" x=\"0\" y=\"212.4\" style=\"font-family: 'Open Sans', verdana, arial, sans-serif; font-size: 12px; fill: rgb(36, 36, 36); fill-opacity: 1; white-space: pre; opacity: 1;\" transform=\"translate(416.11,0)\">2000</text></g><g class=\"xtick\"><text text-anchor=\"middle\" x=\"0\" y=\"212.4\" style=\"font-family: 'Open Sans', verdana, arial, sans-serif; font-size: 12px; fill: rgb(36, 36, 36); fill-opacity: 1; white-space: pre; opacity: 1;\" transform=\"translate(523.8399999999999,0)\">2020</text></g></g><g class=\"yaxislayer-above\"><path class=\"ytick ticks crisp\" d=\"M65,0h-5\" transform=\"translate(0,192)\" style=\"stroke: rgb(68, 68, 68); stroke-opacity: 1; stroke-width: 1px;\"/><path class=\"ytick ticks crisp\" d=\"M65,0h-5\" transform=\"translate(0,157.2)\" style=\"stroke: rgb(68, 68, 68); stroke-opacity: 1; stroke-width: 1px;\"/><path class=\"ytick ticks crisp\" d=\"M65,0h-5\" transform=\"translate(0,122.4)\" style=\"stroke: rgb(68, 68, 68); stroke-opacity: 1; stroke-width: 1px;\"/><path class=\"ytick ticks crisp\" d=\"M65,0h-5\" transform=\"translate(0,87.6)\" style=\"stroke: rgb(68, 68, 68); stroke-opacity: 1; stroke-width: 1px;\"/><path class=\"ytick ticks crisp\" d=\"M65,0h-5\" transform=\"translate(0,52.8)\" style=\"stroke: rgb(68, 68, 68); stroke-opacity: 1; stroke-width: 1px;\"/><path class=\"ytick ticks crisp\" d=\"M65,0h-5\" transform=\"translate(0,18)\" style=\"stroke: rgb(68, 68, 68); stroke-opacity: 1; stroke-width: 1px;\"/><g class=\"ytick\"><text text-anchor=\"end\" x=\"57.6\" y=\"4.199999999999999\" transform=\"translate(0,192)\" style=\"font-family: 'Open Sans', verdana, arial, sans-serif; font-size: 12px; fill: rgb(36, 36, 36); fill-opacity: 1; white-space: pre; opacity: 1;\">0</text></g><g class=\"ytick\"><text text-anchor=\"end\" x=\"57.6\" y=\"4.199999999999999\" style=\"font-family: 'Open Sans', verdana, arial, sans-serif; font-size: 12px; fill: rgb(36, 36, 36); fill-opacity: 1; white-space: pre; opacity: 1;\" transform=\"translate(0,157.2)\">20</text></g><g class=\"ytick\"><text text-anchor=\"end\" x=\"57.6\" y=\"4.199999999999999\" style=\"font-family: 'Open Sans', verdana, arial, sans-serif; font-size: 12px; fill: rgb(36, 36, 36); fill-opacity: 1; white-space: pre; opacity: 1;\" transform=\"translate(0,122.4)\">40</text></g><g class=\"ytick\"><text text-anchor=\"end\" x=\"57.6\" y=\"4.199999999999999\" style=\"font-family: 'Open Sans', verdana, arial, sans-serif; font-size: 12px; fill: rgb(36, 36, 36); fill-opacity: 1; white-space: pre; opacity: 1;\" transform=\"translate(0,87.6)\">60</text></g><g class=\"ytick\"><text text-anchor=\"end\" x=\"57.6\" y=\"4.199999999999999\" style=\"font-family: 'Open Sans', verdana, arial, sans-serif; font-size: 12px; fill: rgb(36, 36, 36); fill-opacity: 1; white-space: pre; opacity: 1;\" transform=\"translate(0,52.8)\">80</text></g><g class=\"ytick\"><text text-anchor=\"end\" x=\"57.6\" y=\"4.199999999999999\" style=\"font-family: 'Open Sans', verdana, arial, sans-serif; font-size: 12px; fill: rgb(36, 36, 36); fill-opacity: 1; white-space: pre; opacity: 1;\" transform=\"translate(0,18)\">100</text></g></g><g class=\"overaxes-above\"/></g></g><g class=\"polarlayer\"/><g class=\"smithlayer\"/><g class=\"ternarylayer\"/><g class=\"geolayer\"/><g class=\"funnelarealayer\"/><g class=\"pielayer\"/><g class=\"iciclelayer\"/><g class=\"treemaplayer\"/><g class=\"sunburstlayer\"/><g class=\"glimages\"/><defs id=\"topdefs-d91e3e\"><g class=\"clips\"/></defs><g class=\"layer-above\"><g class=\"imagelayer\"/><g class=\"shapelayer\"/></g><g class=\"infolayer\"><g class=\"g-gtitle\"/><g class=\"g-xtitle\"><text class=\"xtitle\" x=\"303\" y=\"239.20625\" text-anchor=\"middle\" style=\"font-family: 'Open Sans', verdana, arial, sans-serif; font-size: 14px; fill: rgb(36, 36, 36); opacity: 1; font-weight: normal; white-space: pre;\">Publication year</text></g><g class=\"g-ytitle\" transform=\"translate(3.5966796875,0)\"><text class=\"ytitle\" transform=\"rotate(-90,10.403125000000003,105)\" x=\"10.403125000000003\" y=\"105\" text-anchor=\"middle\" style=\"font-family: 'Open Sans', verdana, arial, sans-serif; font-size: 14px; fill: rgb(36, 36, 36); opacity: 1; font-weight: normal; white-space: pre;\">count</text></g></g></svg>"
      ]
     },
     "metadata": {},
     "output_type": "display_data"
    }
   ],
   "source": [
    "fig = px.histogram(\n",
    "    X_train[\"timestamp\"],\n",
    "    labels={\"value\": \"Publication year\"}, width=550, height=250,\n",
    ")\n",
    "fig.update_layout(showlegend=False)"
   ]
  },
  {
   "cell_type": "markdown",
   "metadata": {},
   "source": [
    "When we take a closer look at the new articles published prior to 2000, we find that the timestamps don't match the actual publication date of the article. These date issues are most likely related to the web scraper collecting inaccurate information from the web pages. We can zoom into the region of the histogram after 2000:"
   ]
  },
  {
   "cell_type": "code",
   "execution_count": 332,
   "metadata": {},
   "outputs": [
    {
     "data": {
      "application/vnd.plotly.v1+json": {
       "config": {
        "plotlyServerURL": "https://plot.ly"
       },
       "data": [
        {
         "alignmentgroup": "True",
         "bingroup": "x",
         "hovertemplate": "variable=timestamp<br>Publication year=%{x}<br>count=%{y}<extra></extra>",
         "legendgroup": "timestamp",
         "marker": {
          "color": "#1F77B4",
          "pattern": {
           "shape": ""
          }
         },
         "name": "timestamp",
         "offsetgroup": "timestamp",
         "orientation": "v",
         "showlegend": true,
         "type": "histogram",
         "x": [
          "2019-01-04T19:25:46",
          "2016-01-12T21:02:28",
          "2017-05-28T07:00:00",
          "2018-04-18T07:00:00",
          "2014-02-25T08:00:00",
          "2008-02-02T08:00:00",
          "2014-04-06T07:00:00",
          "2017-10-17T07:00:00",
          "2017-12-23T11:38:49",
          "2017-06-29T10:11:23",
          "2011-11-17T08:00:00",
          "2017-08-11T05:30:55",
          "2013-07-24T07:00:00",
          "2017-08-06T07:00:00",
          "2008-06-15T07:00:00",
          "2012-05-05T07:00:00",
          "2013-04-18T07:00:00",
          "2017-06-23T07:00:00",
          "2017-05-11T13:20:53",
          "2018-01-18T13:11:21",
          "2017-07-13T07:00:00",
          "2017-05-05T07:00:00",
          "2017-04-10T23:33:37",
          "2018-01-15T00:45:10",
          "2017-12-06T03:56:22",
          "2007-01-30T23:00:00",
          "2018-04-27T07:00:00",
          "2017-08-26T23:55:58",
          "2016-08-24T16:31:21",
          "2017-08-12T07:00:00",
          "2017-12-08T16:27:57",
          "2018-01-20T19:55:11",
          "2017-07-06T23:08:01",
          "2011-06-10T07:00:00",
          "2014-08-06T07:00:00",
          "2016-12-23T19:20:30",
          "2012-06-17T07:00:00",
          "2016-03-15T07:00:00",
          "2007-07-20T16:03:00",
          "2008-05-05T07:00:00",
          "2018-04-30T07:00:00",
          "2016-11-15T13:49:28",
          "2017-12-15T08:00:00",
          "2018-05-14T07:00:00",
          "2008-03-17T07:00:00",
          "2017-05-10T07:00:00",
          "2017-03-02T21:08:00",
          "2011-08-15T07:00:00",
          "2022-01-21T20:11:33",
          "2017-06-21T08:29:37",
          "2017-04-28T22:43:30",
          "2017-10-02T07:00:00",
          "2015-12-22T08:00:00",
          "2022-01-21T20:11:33",
          "2018-05-12T10:31:03",
          "2017-05-13T12:16:07",
          "2015-07-12T07:00:00",
          "2012-08-15T07:00:00",
          "2018-05-02T21:43:38",
          "2017-06-14T10:54:18",
          "2017-03-21T17:03:42",
          "2018-06-26T07:00:00",
          "2018-05-10T10:27:59",
          "2012-11-12T08:00:00",
          "2016-08-15T21:35:17",
          "2012-06-23T07:00:00",
          "2017-04-22T16:49:00",
          "2012-02-17T08:00:00",
          "2015-11-04T19:03:03",
          "2018-04-02T07:00:00",
          "2012-02-08T08:00:00",
          "2016-09-26T07:00:00",
          "2022-01-21T20:11:33",
          "2017-01-30T08:00:00",
          "2017-10-30T03:51:53",
          "2014-07-28T06:25:34",
          "2016-12-15T17:58:10",
          "2017-05-25T23:45:14",
          "2011-07-11T07:00:00",
          "2018-01-15T12:47:13",
          "2021-04-05T16:39:51",
          "2015-12-19T08:00:00",
          "2009-07-12T07:00:00",
          "2017-11-06T14:31:59",
          "2017-09-10T07:00:00",
          "2017-11-10T15:06:39",
          "2012-06-02T00:00:00",
          "2012-11-06T08:00:00",
          "2017-10-17T10:00:14",
          "2011-08-26T07:00:00",
          "2012-08-23T07:00:00",
          "2012-10-22T07:00:00",
          "2015-07-24T07:00:00",
          "2008-06-03T07:00:00",
          "2022-01-21T20:11:33",
          "2017-02-05T00:19:34",
          "2017-02-14T08:00:00",
          "2018-01-04T08:00:00",
          "2018-01-17T08:00:00",
          "2022-01-21T20:11:33",
          "2017-11-06T16:38:11",
          "2010-12-13T08:00:00",
          "2009-02-03T08:00:00",
          "2017-09-05T07:00:00",
          "2017-05-20T13:17:59",
          "2013-03-31T07:00:00",
          "2022-01-21T20:11:33",
          "2017-07-15T07:00:00",
          "2017-12-08T22:25:03",
          "2012-10-03T07:00:00",
          "2013-03-08T08:00:00",
          "2018-04-28T23:36:00",
          "2015-10-22T17:38:15",
          "2017-05-09T07:00:00",
          "2013-05-07T07:00:00",
          "2016-01-01T16:30:16",
          "2016-11-25T08:00:00",
          "2017-03-01T13:48:02",
          "2022-01-21T20:11:33",
          "2017-11-02T17:25:12",
          "2017-01-31T14:33:42",
          "2017-03-10T15:40:16",
          "2017-11-15T00:52:37",
          "2017-02-04T20:49:12",
          "2012-08-09T07:00:00",
          "2018-05-16T15:34:00",
          "2018-03-04T22:45:53",
          "2008-09-19T07:00:00",
          "2017-06-01T01:33:02",
          "2016-11-22T19:46:39",
          "2017-11-10T14:21:36",
          "2018-03-13T07:00:00",
          "2017-02-09T00:43:39",
          "2018-06-25T07:00:00",
          "2007-08-01T07:00:00",
          "2017-11-09T08:00:00",
          "2018-02-12T09:00:00",
          "2016-07-31T16:41:09",
          "2009-10-21T07:00:00",
          "2011-08-15T07:00:00",
          "2011-02-06T08:00:00",
          "2018-07-02T07:00:00",
          "2015-01-07T08:00:00",
          "2018-06-09T21:52:02",
          "2017-04-25T07:00:00",
          "2016-02-23T08:00:00",
          "2006-11-07T08:00:00",
          "2016-06-13T07:00:00",
          "2009-09-07T07:00:00",
          "2017-11-13T14:53:49",
          "2017-08-14T02:18:16",
          "2015-07-10T07:00:00",
          "2016-02-11T08:00:00",
          "2017-10-02T14:13:42",
          "2022-01-21T20:11:33",
          "2017-11-06T07:00:44",
          "2020-03-25T05:17:00",
          "2022-01-21T20:11:33",
          "2016-09-05T07:00:00",
          "2022-01-21T20:11:33",
          "2017-06-21T20:42:21",
          "2008-03-03T08:00:00",
          "2013-04-17T07:00:00",
          "2017-12-30T08:00:00",
          "2011-02-11T08:00:00",
          "2012-04-03T07:00:00",
          "2013-10-27T07:00:00",
          "2013-08-06T07:00:00",
          "2017-07-01T11:58:59",
          "2022-01-21T20:11:33",
          "2017-02-16T20:48:25",
          "2016-05-10T23:21:17.233000",
          "2022-01-21T20:11:33",
          "2017-07-06T07:00:00",
          "2022-01-21T20:11:33",
          "2008-08-15T07:00:00",
          "2018-07-05T10:48:31",
          "2016-04-24T21:04:28",
          "2017-05-12T12:50:32",
          "2018-07-17T07:00:00",
          "2013-04-25T20:33:20",
          "2015-02-12T12:30:05",
          "2011-11-29T08:00:00",
          "2010-10-14T17:04:00",
          "2016-11-25T08:00:00",
          "2011-03-11T08:00:00",
          "2017-11-26T18:25:52",
          "2017-10-08T23:43:28",
          "2022-07-13T14:49:56",
          "2018-06-27T16:09:14",
          "2015-07-13T07:00:00",
          "2016-09-20T07:00:00",
          "2017-05-08T07:00:00",
          "2017-07-08T07:00:00",
          "2022-05-13T19:50:48",
          "2017-04-01T10:22:51",
          "2011-11-30T08:00:00",
          "2017-11-27T15:18:23",
          "2012-09-18T03:00:58",
          "2013-03-07T08:00:00",
          "2007-08-01T07:00:00",
          "2008-01-30T08:00:00",
          "2017-02-11T08:00:00",
          "2016-05-09T07:00:00",
          "2018-01-31T03:12:22",
          "2016-12-12T19:20:51",
          "2008-03-17T07:00:00",
          "2001-09-11T05:00:00",
          "2018-07-10T07:00:00",
          "2012-10-12T07:00:00",
          "2016-03-10T18:11:20.173000",
          "2017-07-17T13:06:07.680999",
          "2018-02-15T19:38:00",
          "2016-02-07T00:23:19.497999",
          "2017-06-28T02:30:25",
          "2016-03-14T07:00:00",
          "2009-12-18T08:00:00",
          "2013-10-02T07:00:00",
          "2011-05-24T07:00:00",
          "2018-05-21T07:00:00",
          "2017-09-07T15:58:27",
          "2018-06-09T13:46:04",
          "2013-05-02T07:00:00",
          "2017-03-16T21:05:45",
          "2017-04-12T23:27:02",
          "2013-07-24T07:00:00",
          "2008-01-30T08:00:00",
          "2016-11-07T08:00:00",
          "2018-03-20T17:56:46",
          "2018-04-09T07:00:00",
          "2017-08-08T07:00:00",
          "2009-03-05T08:00:00",
          "2017-01-05T08:00:00",
          "2015-11-25T08:00:00",
          "2016-01-05T08:00:00",
          "2017-12-30T08:00:00",
          "2014-07-30T13:14:31",
          "2017-12-11T05:56:25",
          "2017-03-01T23:25:53",
          "2017-09-13T07:00:00",
          "2017-09-14T20:00:00",
          "2009-02-17T08:00:00",
          "2016-12-06T00:12:45",
          "2016-05-23T11:29:00",
          "2017-09-30T23:15:05",
          "2008-06-03T07:00:00",
          "2018-05-04T14:02:09",
          "2018-03-16T07:00:00",
          "2017-01-02T08:00:00",
          "2016-10-10T04:00:36.789999",
          "2017-08-20T07:00:00",
          "2018-03-24T18:45:45",
          "2016-12-20T08:00:00",
          "2018-04-09T07:00:00",
          "2012-07-17T07:00:00",
          "2010-02-23T08:00:00",
          "2016-06-21T13:41:37",
          "2017-12-14T08:00:00",
          "2009-02-09T08:00:00",
          "2018-01-14T01:29:40",
          "2016-01-02T08:00:00",
          "2016-01-01T23:17:43",
          "2008-02-08T08:00:00",
          "2018-07-12T16:28:19",
          "2016-07-09T07:00:00",
          "2009-09-10T07:00:00",
          "2018-05-13T07:00:00",
          "2016-11-14T08:00:00",
          "2008-06-18T07:00:00",
          "2016-12-23T17:04:56",
          "2017-06-24T07:00:00",
          "2017-10-12T23:15:41",
          "2016-04-29T12:25:53",
          "2008-08-23T07:00:00",
          "2014-12-21T08:00:00",
          "2016-05-06T20:32:20",
          "2016-10-10T04:00:36.789999",
          "2012-07-12T07:00:00",
          "2022-01-21T20:11:33",
          "2016-03-10T08:00:00",
          "2011-12-09T08:00:00",
          "2017-05-20T07:00:00",
          "2017-09-01T03:14:21",
          "2018-04-15T07:00:00",
          "2018-06-23T17:18:57",
          "2017-06-01T07:00:00",
          "2015-04-13T07:00:00",
          "2012-04-17T07:00:00",
          "2022-01-21T20:11:33",
          "2017-03-14T18:19:08",
          "2017-09-26T07:00:00",
          "2020-07-01T05:10:00",
          "2011-03-15T07:00:00",
          "2018-05-13T13:33:50",
          "2017-10-10T07:00:00",
          "2010-06-07T13:30:42",
          "2014-02-28T05:49:15",
          "2014-01-24T08:00:00",
          "2011-07-06T07:00:00",
          "2016-01-10T20:56:04",
          "2017-07-28T22:24:04",
          "2017-11-23T08:00:00"
         ],
         "xaxis": "x",
         "yaxis": "y"
        }
       ],
       "layout": {
        "barmode": "relative",
        "height": 250,
        "legend": {
         "title": {
          "text": "variable"
         },
         "tracegroupgap": 0
        },
        "showlegend": false,
        "template": {
         "data": {
          "bar": [
           {
            "error_x": {
             "color": "rgb(36,36,36)"
            },
            "error_y": {
             "color": "rgb(36,36,36)"
            },
            "marker": {
             "line": {
              "color": "white",
              "width": 0.5
             },
             "pattern": {
              "fillmode": "overlay",
              "size": 10,
              "solidity": 0.2
             }
            },
            "type": "bar"
           }
          ],
          "barpolar": [
           {
            "marker": {
             "line": {
              "color": "white",
              "width": 0.5
             },
             "pattern": {
              "fillmode": "overlay",
              "size": 10,
              "solidity": 0.2
             }
            },
            "type": "barpolar"
           }
          ],
          "carpet": [
           {
            "aaxis": {
             "endlinecolor": "rgb(36,36,36)",
             "gridcolor": "white",
             "linecolor": "white",
             "minorgridcolor": "white",
             "startlinecolor": "rgb(36,36,36)"
            },
            "baxis": {
             "endlinecolor": "rgb(36,36,36)",
             "gridcolor": "white",
             "linecolor": "white",
             "minorgridcolor": "white",
             "startlinecolor": "rgb(36,36,36)"
            },
            "type": "carpet"
           }
          ],
          "choropleth": [
           {
            "colorbar": {
             "outlinewidth": 1,
             "tickcolor": "rgb(36,36,36)",
             "ticks": "outside"
            },
            "type": "choropleth"
           }
          ],
          "contour": [
           {
            "colorbar": {
             "outlinewidth": 1,
             "tickcolor": "rgb(36,36,36)",
             "ticks": "outside"
            },
            "colorscale": [
             [
              0,
              "#440154"
             ],
             [
              0.1111111111111111,
              "#482878"
             ],
             [
              0.2222222222222222,
              "#3e4989"
             ],
             [
              0.3333333333333333,
              "#31688e"
             ],
             [
              0.4444444444444444,
              "#26828e"
             ],
             [
              0.5555555555555556,
              "#1f9e89"
             ],
             [
              0.6666666666666666,
              "#35b779"
             ],
             [
              0.7777777777777778,
              "#6ece58"
             ],
             [
              0.8888888888888888,
              "#b5de2b"
             ],
             [
              1,
              "#fde725"
             ]
            ],
            "type": "contour"
           }
          ],
          "contourcarpet": [
           {
            "colorbar": {
             "outlinewidth": 1,
             "tickcolor": "rgb(36,36,36)",
             "ticks": "outside"
            },
            "type": "contourcarpet"
           }
          ],
          "heatmap": [
           {
            "colorbar": {
             "outlinewidth": 1,
             "tickcolor": "rgb(36,36,36)",
             "ticks": "outside"
            },
            "colorscale": [
             [
              0,
              "#440154"
             ],
             [
              0.1111111111111111,
              "#482878"
             ],
             [
              0.2222222222222222,
              "#3e4989"
             ],
             [
              0.3333333333333333,
              "#31688e"
             ],
             [
              0.4444444444444444,
              "#26828e"
             ],
             [
              0.5555555555555556,
              "#1f9e89"
             ],
             [
              0.6666666666666666,
              "#35b779"
             ],
             [
              0.7777777777777778,
              "#6ece58"
             ],
             [
              0.8888888888888888,
              "#b5de2b"
             ],
             [
              1,
              "#fde725"
             ]
            ],
            "type": "heatmap"
           }
          ],
          "heatmapgl": [
           {
            "colorbar": {
             "outlinewidth": 1,
             "tickcolor": "rgb(36,36,36)",
             "ticks": "outside"
            },
            "colorscale": [
             [
              0,
              "#440154"
             ],
             [
              0.1111111111111111,
              "#482878"
             ],
             [
              0.2222222222222222,
              "#3e4989"
             ],
             [
              0.3333333333333333,
              "#31688e"
             ],
             [
              0.4444444444444444,
              "#26828e"
             ],
             [
              0.5555555555555556,
              "#1f9e89"
             ],
             [
              0.6666666666666666,
              "#35b779"
             ],
             [
              0.7777777777777778,
              "#6ece58"
             ],
             [
              0.8888888888888888,
              "#b5de2b"
             ],
             [
              1,
              "#fde725"
             ]
            ],
            "type": "heatmapgl"
           }
          ],
          "histogram": [
           {
            "marker": {
             "line": {
              "color": "white",
              "width": 0.6
             }
            },
            "type": "histogram"
           }
          ],
          "histogram2d": [
           {
            "colorbar": {
             "outlinewidth": 1,
             "tickcolor": "rgb(36,36,36)",
             "ticks": "outside"
            },
            "colorscale": [
             [
              0,
              "#440154"
             ],
             [
              0.1111111111111111,
              "#482878"
             ],
             [
              0.2222222222222222,
              "#3e4989"
             ],
             [
              0.3333333333333333,
              "#31688e"
             ],
             [
              0.4444444444444444,
              "#26828e"
             ],
             [
              0.5555555555555556,
              "#1f9e89"
             ],
             [
              0.6666666666666666,
              "#35b779"
             ],
             [
              0.7777777777777778,
              "#6ece58"
             ],
             [
              0.8888888888888888,
              "#b5de2b"
             ],
             [
              1,
              "#fde725"
             ]
            ],
            "type": "histogram2d"
           }
          ],
          "histogram2dcontour": [
           {
            "colorbar": {
             "outlinewidth": 1,
             "tickcolor": "rgb(36,36,36)",
             "ticks": "outside"
            },
            "colorscale": [
             [
              0,
              "#440154"
             ],
             [
              0.1111111111111111,
              "#482878"
             ],
             [
              0.2222222222222222,
              "#3e4989"
             ],
             [
              0.3333333333333333,
              "#31688e"
             ],
             [
              0.4444444444444444,
              "#26828e"
             ],
             [
              0.5555555555555556,
              "#1f9e89"
             ],
             [
              0.6666666666666666,
              "#35b779"
             ],
             [
              0.7777777777777778,
              "#6ece58"
             ],
             [
              0.8888888888888888,
              "#b5de2b"
             ],
             [
              1,
              "#fde725"
             ]
            ],
            "type": "histogram2dcontour"
           }
          ],
          "mesh3d": [
           {
            "colorbar": {
             "outlinewidth": 1,
             "tickcolor": "rgb(36,36,36)",
             "ticks": "outside"
            },
            "type": "mesh3d"
           }
          ],
          "parcoords": [
           {
            "line": {
             "colorbar": {
              "outlinewidth": 1,
              "tickcolor": "rgb(36,36,36)",
              "ticks": "outside"
             }
            },
            "type": "parcoords"
           }
          ],
          "pie": [
           {
            "automargin": true,
            "type": "pie"
           }
          ],
          "scatter": [
           {
            "fillpattern": {
             "fillmode": "overlay",
             "size": 10,
             "solidity": 0.2
            },
            "type": "scatter"
           }
          ],
          "scatter3d": [
           {
            "line": {
             "colorbar": {
              "outlinewidth": 1,
              "tickcolor": "rgb(36,36,36)",
              "ticks": "outside"
             }
            },
            "marker": {
             "colorbar": {
              "outlinewidth": 1,
              "tickcolor": "rgb(36,36,36)",
              "ticks": "outside"
             }
            },
            "type": "scatter3d"
           }
          ],
          "scattercarpet": [
           {
            "marker": {
             "colorbar": {
              "outlinewidth": 1,
              "tickcolor": "rgb(36,36,36)",
              "ticks": "outside"
             }
            },
            "type": "scattercarpet"
           }
          ],
          "scattergeo": [
           {
            "marker": {
             "colorbar": {
              "outlinewidth": 1,
              "tickcolor": "rgb(36,36,36)",
              "ticks": "outside"
             }
            },
            "type": "scattergeo"
           }
          ],
          "scattergl": [
           {
            "marker": {
             "colorbar": {
              "outlinewidth": 1,
              "tickcolor": "rgb(36,36,36)",
              "ticks": "outside"
             }
            },
            "type": "scattergl"
           }
          ],
          "scattermapbox": [
           {
            "marker": {
             "colorbar": {
              "outlinewidth": 1,
              "tickcolor": "rgb(36,36,36)",
              "ticks": "outside"
             }
            },
            "type": "scattermapbox"
           }
          ],
          "scatterpolar": [
           {
            "marker": {
             "colorbar": {
              "outlinewidth": 1,
              "tickcolor": "rgb(36,36,36)",
              "ticks": "outside"
             }
            },
            "type": "scatterpolar"
           }
          ],
          "scatterpolargl": [
           {
            "marker": {
             "colorbar": {
              "outlinewidth": 1,
              "tickcolor": "rgb(36,36,36)",
              "ticks": "outside"
             }
            },
            "type": "scatterpolargl"
           }
          ],
          "scatterternary": [
           {
            "marker": {
             "colorbar": {
              "outlinewidth": 1,
              "tickcolor": "rgb(36,36,36)",
              "ticks": "outside"
             }
            },
            "type": "scatterternary"
           }
          ],
          "surface": [
           {
            "colorbar": {
             "outlinewidth": 1,
             "tickcolor": "rgb(36,36,36)",
             "ticks": "outside"
            },
            "colorscale": [
             [
              0,
              "#440154"
             ],
             [
              0.1111111111111111,
              "#482878"
             ],
             [
              0.2222222222222222,
              "#3e4989"
             ],
             [
              0.3333333333333333,
              "#31688e"
             ],
             [
              0.4444444444444444,
              "#26828e"
             ],
             [
              0.5555555555555556,
              "#1f9e89"
             ],
             [
              0.6666666666666666,
              "#35b779"
             ],
             [
              0.7777777777777778,
              "#6ece58"
             ],
             [
              0.8888888888888888,
              "#b5de2b"
             ],
             [
              1,
              "#fde725"
             ]
            ],
            "type": "surface"
           }
          ],
          "table": [
           {
            "cells": {
             "fill": {
              "color": "rgb(237,237,237)"
             },
             "line": {
              "color": "white"
             }
            },
            "header": {
             "fill": {
              "color": "rgb(217,217,217)"
             },
             "line": {
              "color": "white"
             }
            },
            "type": "table"
           }
          ]
         },
         "layout": {
          "annotationdefaults": {
           "arrowhead": 0,
           "arrowwidth": 1
          },
          "autosize": true,
          "autotypenumbers": "strict",
          "coloraxis": {
           "colorbar": {
            "outlinewidth": 1,
            "tickcolor": "rgb(36,36,36)",
            "ticks": "outside"
           }
          },
          "colorscale": {
           "diverging": [
            [
             0,
             "rgb(103,0,31)"
            ],
            [
             0.1,
             "rgb(178,24,43)"
            ],
            [
             0.2,
             "rgb(214,96,77)"
            ],
            [
             0.3,
             "rgb(244,165,130)"
            ],
            [
             0.4,
             "rgb(253,219,199)"
            ],
            [
             0.5,
             "rgb(247,247,247)"
            ],
            [
             0.6,
             "rgb(209,229,240)"
            ],
            [
             0.7,
             "rgb(146,197,222)"
            ],
            [
             0.8,
             "rgb(67,147,195)"
            ],
            [
             0.9,
             "rgb(33,102,172)"
            ],
            [
             1,
             "rgb(5,48,97)"
            ]
           ],
           "sequential": [
            [
             0,
             "#440154"
            ],
            [
             0.1111111111111111,
             "#482878"
            ],
            [
             0.2222222222222222,
             "#3e4989"
            ],
            [
             0.3333333333333333,
             "#31688e"
            ],
            [
             0.4444444444444444,
             "#26828e"
            ],
            [
             0.5555555555555556,
             "#1f9e89"
            ],
            [
             0.6666666666666666,
             "#35b779"
            ],
            [
             0.7777777777777778,
             "#6ece58"
            ],
            [
             0.8888888888888888,
             "#b5de2b"
            ],
            [
             1,
             "#fde725"
            ]
           ],
           "sequentialminus": [
            [
             0,
             "#440154"
            ],
            [
             0.1111111111111111,
             "#482878"
            ],
            [
             0.2222222222222222,
             "#3e4989"
            ],
            [
             0.3333333333333333,
             "#31688e"
            ],
            [
             0.4444444444444444,
             "#26828e"
            ],
            [
             0.5555555555555556,
             "#1f9e89"
            ],
            [
             0.6666666666666666,
             "#35b779"
            ],
            [
             0.7777777777777778,
             "#6ece58"
            ],
            [
             0.8888888888888888,
             "#b5de2b"
            ],
            [
             1,
             "#fde725"
            ]
           ]
          },
          "colorway": [
           "#1F77B4",
           "#FF7F0E",
           "#2CA02C",
           "#D62728",
           "#9467BD",
           "#8C564B",
           "#E377C2",
           "#7F7F7F",
           "#BCBD22",
           "#17BECF"
          ],
          "font": {
           "color": "rgb(36,36,36)"
          },
          "geo": {
           "bgcolor": "white",
           "lakecolor": "white",
           "landcolor": "white",
           "showlakes": true,
           "showland": true,
           "subunitcolor": "white"
          },
          "height": 250,
          "hoverlabel": {
           "align": "left"
          },
          "hovermode": "closest",
          "mapbox": {
           "style": "light"
          },
          "margin": {
           "b": 10,
           "l": 10,
           "r": 10,
           "t": 10
          },
          "paper_bgcolor": "white",
          "plot_bgcolor": "white",
          "polar": {
           "angularaxis": {
            "gridcolor": "rgb(232,232,232)",
            "linecolor": "rgb(36,36,36)",
            "showgrid": false,
            "showline": true,
            "ticks": "outside"
           },
           "bgcolor": "white",
           "radialaxis": {
            "gridcolor": "rgb(232,232,232)",
            "linecolor": "rgb(36,36,36)",
            "showgrid": false,
            "showline": true,
            "ticks": "outside"
           }
          },
          "scene": {
           "xaxis": {
            "backgroundcolor": "white",
            "gridcolor": "rgb(232,232,232)",
            "gridwidth": 2,
            "linecolor": "rgb(36,36,36)",
            "showbackground": true,
            "showgrid": false,
            "showline": true,
            "ticks": "outside",
            "zeroline": false,
            "zerolinecolor": "rgb(36,36,36)"
           },
           "yaxis": {
            "backgroundcolor": "white",
            "gridcolor": "rgb(232,232,232)",
            "gridwidth": 2,
            "linecolor": "rgb(36,36,36)",
            "showbackground": true,
            "showgrid": false,
            "showline": true,
            "ticks": "outside",
            "zeroline": false,
            "zerolinecolor": "rgb(36,36,36)"
           },
           "zaxis": {
            "backgroundcolor": "white",
            "gridcolor": "rgb(232,232,232)",
            "gridwidth": 2,
            "linecolor": "rgb(36,36,36)",
            "showbackground": true,
            "showgrid": false,
            "showline": true,
            "ticks": "outside",
            "zeroline": false,
            "zerolinecolor": "rgb(36,36,36)"
           }
          },
          "shapedefaults": {
           "fillcolor": "black",
           "line": {
            "width": 0
           },
           "opacity": 0.3
          },
          "ternary": {
           "aaxis": {
            "gridcolor": "rgb(232,232,232)",
            "linecolor": "rgb(36,36,36)",
            "showgrid": false,
            "showline": true,
            "ticks": "outside"
           },
           "baxis": {
            "gridcolor": "rgb(232,232,232)",
            "linecolor": "rgb(36,36,36)",
            "showgrid": false,
            "showline": true,
            "ticks": "outside"
           },
           "bgcolor": "white",
           "caxis": {
            "gridcolor": "rgb(232,232,232)",
            "linecolor": "rgb(36,36,36)",
            "showgrid": false,
            "showline": true,
            "ticks": "outside"
           }
          },
          "title": {
           "x": 0.5,
           "xanchor": "center"
          },
          "width": 350,
          "xaxis": {
           "automargin": true,
           "gridcolor": "rgb(232,232,232)",
           "linecolor": "rgb(36,36,36)",
           "showgrid": true,
           "showline": true,
           "ticks": "outside",
           "title": {
            "standoff": 15
           },
           "zeroline": false,
           "zerolinecolor": "rgb(36,36,36)"
          },
          "yaxis": {
           "automargin": true,
           "gridcolor": "rgb(232,232,232)",
           "linecolor": "rgb(36,36,36)",
           "showgrid": true,
           "showline": true,
           "ticks": "outside",
           "title": {
            "standoff": 15
           },
           "zeroline": false,
           "zerolinecolor": "rgb(36,36,36)"
          }
         }
        },
        "width": 550,
        "xaxis": {
         "anchor": "y",
         "autorange": true,
         "domain": [
          0,
          1
         ],
         "range": [
          "2001-01-01",
          "2023-01-01"
         ],
         "title": {
          "text": "Publication year"
         },
         "type": "date"
        },
        "yaxis": {
         "anchor": "x",
         "autorange": true,
         "domain": [
          0,
          1
         ],
         "range": [
          0,
          100
         ],
         "title": {
          "text": "count"
         }
        }
       }
      },
      "image/png": "[encoded data removed]",
      "image/svg+xml": [
       "<svg class=\"main-svg\" xmlns=\"http://www.w3.org/2000/svg\" xmlns:xlink=\"http://www.w3.org/1999/xlink\" width=\"550\" height=\"250\" style=\"\" viewBox=\"0 0 550 250\"><rect x=\"0\" y=\"0\" width=\"550\" height=\"250\" style=\"fill: rgb(255, 255, 255); fill-opacity: 1;\"/><defs id=\"defs-b25135\"><g class=\"clips\"><clipPath id=\"clipb25135xyplot\" class=\"plotclip\"><rect width=\"474\" height=\"174\"/></clipPath><clipPath class=\"axesclip\" id=\"clipb25135x\"><rect x=\"66\" y=\"0\" width=\"474\" height=\"250\"/></clipPath><clipPath class=\"axesclip\" id=\"clipb25135y\"><rect x=\"0\" y=\"18\" width=\"550\" height=\"174\"/></clipPath><clipPath class=\"axesclip\" id=\"clipb25135xy\"><rect x=\"66\" y=\"18\" width=\"474\" height=\"174\"/></clipPath></g><g class=\"gradients\"/><g class=\"patterns\"/></defs><g class=\"bglayer\"/><g class=\"layer-below\"><g class=\"imagelayer\"/><g class=\"shapelayer\"/></g><g class=\"cartesianlayer\"><g class=\"subplot xy\"><g class=\"layer-subplot\"><g class=\"shapelayer\"/><g class=\"imagelayer\"/></g><g class=\"minor-gridlayer\"><g class=\"x\"/><g class=\"y\"/></g><g class=\"gridlayer\"><g class=\"x\"><path class=\"xgrid crisp\" transform=\"translate(152.19,0)\" d=\"M0,18v174\" style=\"stroke: rgb(232, 232, 232); stroke-opacity: 1; stroke-width: 1px;\"/><path class=\"xgrid crisp\" transform=\"translate(259.90999999999997,0)\" d=\"M0,18v174\" style=\"stroke: rgb(232, 232, 232); stroke-opacity: 1; stroke-width: 1px;\"/><path class=\"xgrid crisp\" transform=\"translate(367.63,0)\" d=\"M0,18v174\" style=\"stroke: rgb(232, 232, 232); stroke-opacity: 1; stroke-width: 1px;\"/><path class=\"xgrid crisp\" transform=\"translate(475.34,0)\" d=\"M0,18v174\" style=\"stroke: rgb(232, 232, 232); stroke-opacity: 1; stroke-width: 1px;\"/></g><g class=\"y\"><path class=\"ygrid crisp\" transform=\"translate(0,157.2)\" d=\"M66,0h474\" style=\"stroke: rgb(232, 232, 232); stroke-opacity: 1; stroke-width: 1px;\"/><path class=\"ygrid crisp\" transform=\"translate(0,122.4)\" d=\"M66,0h474\" style=\"stroke: rgb(232, 232, 232); stroke-opacity: 1; stroke-width: 1px;\"/><path class=\"ygrid crisp\" transform=\"translate(0,87.6)\" d=\"M66,0h474\" style=\"stroke: rgb(232, 232, 232); stroke-opacity: 1; stroke-width: 1px;\"/><path class=\"ygrid crisp\" transform=\"translate(0,52.8)\" d=\"M66,0h474\" style=\"stroke: rgb(232, 232, 232); stroke-opacity: 1; stroke-width: 1px;\"/></g></g><g class=\"zerolinelayer\"/><path class=\"xlines-below\"/><path class=\"ylines-below\"/><g class=\"overlines-below\"/><g class=\"xaxislayer-below\"/><g class=\"yaxislayer-below\"/><g class=\"overaxes-below\"/><g class=\"plot\" transform=\"translate(66,18)\" clip-path=\"url(#clipb25135xyplot)\"><g class=\"barlayer mlayer\"><g class=\"trace bars\" style=\"opacity: 1;\"><g class=\"points\"><g class=\"point\"><path d=\"M0,174V172.26H21.53V174Z\" style=\"vector-effect: none; opacity: 1; stroke-width: 0.6px; fill: rgb(31, 119, 180); fill-opacity: 1; stroke: rgb(255, 255, 255); stroke-opacity: 1;\"/></g><g class=\"point\"><path d=\"M0,0Z\" style=\"vector-effect: none; opacity: 1; stroke-width: 0px; fill: rgb(31, 119, 180); fill-opacity: 1; stroke: rgb(255, 255, 255); stroke-opacity: 1;\"/></g><g class=\"point\"><path d=\"M0,0Z\" style=\"vector-effect: none; opacity: 1; stroke-width: 0px; fill: rgb(31, 119, 180); fill-opacity: 1; stroke: rgb(255, 255, 255); stroke-opacity: 1;\"/></g><g class=\"point\"><path d=\"M0,0Z\" style=\"vector-effect: none; opacity: 1; stroke-width: 0px; fill: rgb(31, 119, 180); fill-opacity: 1; stroke: rgb(255, 255, 255); stroke-opacity: 1;\"/></g><g class=\"point\"><path d=\"M0,0Z\" style=\"vector-effect: none; opacity: 1; stroke-width: 0px; fill: rgb(31, 119, 180); fill-opacity: 1; stroke: rgb(255, 255, 255); stroke-opacity: 1;\"/></g><g class=\"point\"><path d=\"M107.72,174V172.26H129.25V174Z\" style=\"vector-effect: none; opacity: 1; stroke-width: 0.6px; fill: rgb(31, 119, 180); fill-opacity: 1; stroke: rgb(255, 255, 255); stroke-opacity: 1;\"/></g><g class=\"point\"><path d=\"M129.25,174V167.04H150.78V174Z\" style=\"vector-effect: none; opacity: 1; stroke-width: 0.6px; fill: rgb(31, 119, 180); fill-opacity: 1; stroke: rgb(255, 255, 255); stroke-opacity: 1;\"/></g><g class=\"point\"><path d=\"M150.81,174V147.9H172.34V174Z\" style=\"vector-effect: none; opacity: 1; stroke-width: 0.6px; fill: rgb(31, 119, 180); fill-opacity: 1; stroke: rgb(255, 255, 255); stroke-opacity: 1;\"/></g><g class=\"point\"><path d=\"M172.37,174V158.34H193.91V174Z\" style=\"vector-effect: none; opacity: 1; stroke-width: 0.6px; fill: rgb(31, 119, 180); fill-opacity: 1; stroke: rgb(255, 255, 255); stroke-opacity: 1;\"/></g><g class=\"point\"><path d=\"M193.91,174V167.04H215.44V174Z\" style=\"vector-effect: none; opacity: 1; stroke-width: 0.6px; fill: rgb(31, 119, 180); fill-opacity: 1; stroke: rgb(255, 255, 255); stroke-opacity: 1;\"/></g><g class=\"point\"><path d=\"M215.44,174V147.9H236.97V174Z\" style=\"vector-effect: none; opacity: 1; stroke-width: 0.6px; fill: rgb(31, 119, 180); fill-opacity: 1; stroke: rgb(255, 255, 255); stroke-opacity: 1;\"/></g><g class=\"point\"><path d=\"M237,174V140.94H258.53V174Z\" style=\"vector-effect: none; opacity: 1; stroke-width: 0.6px; fill: rgb(31, 119, 180); fill-opacity: 1; stroke: rgb(255, 255, 255); stroke-opacity: 1;\"/></g><g class=\"point\"><path d=\"M258.56,174V151.38H280.09V174Z\" style=\"vector-effect: none; opacity: 1; stroke-width: 0.6px; fill: rgb(31, 119, 180); fill-opacity: 1; stroke: rgb(255, 255, 255); stroke-opacity: 1;\"/></g><g class=\"point\"><path d=\"M280.09,174V160.08H301.63V174Z\" style=\"vector-effect: none; opacity: 1; stroke-width: 0.6px; fill: rgb(31, 119, 180); fill-opacity: 1; stroke: rgb(255, 255, 255); stroke-opacity: 1;\"/></g><g class=\"point\"><path d=\"M301.63,174V153.12H323.16V174Z\" style=\"vector-effect: none; opacity: 1; stroke-width: 0.6px; fill: rgb(31, 119, 180); fill-opacity: 1; stroke: rgb(255, 255, 255); stroke-opacity: 1;\"/></g><g class=\"point\"><path d=\"M323.19,174V100.92H344.72V174Z\" style=\"vector-effect: none; opacity: 1; stroke-width: 0.6px; fill: rgb(31, 119, 180); fill-opacity: 1; stroke: rgb(255, 255, 255); stroke-opacity: 1;\"/></g><g class=\"point\"><path d=\"M344.75,174V8.7H366.28V174Z\" style=\"vector-effect: none; opacity: 1; stroke-width: 0.6px; fill: rgb(31, 119, 180); fill-opacity: 1; stroke: rgb(255, 255, 255); stroke-opacity: 1;\"/></g><g class=\"point\"><path d=\"M366.28,174V99.18H387.81V174Z\" style=\"vector-effect: none; opacity: 1; stroke-width: 0.6px; fill: rgb(31, 119, 180); fill-opacity: 1; stroke: rgb(255, 255, 255); stroke-opacity: 1;\"/></g><g class=\"point\"><path d=\"M387.81,174V172.26H409.34V174Z\" style=\"vector-effect: none; opacity: 1; stroke-width: 0.6px; fill: rgb(31, 119, 180); fill-opacity: 1; stroke: rgb(255, 255, 255); stroke-opacity: 1;\"/></g><g class=\"point\"><path d=\"M409.37,174V170.52H430.91V174Z\" style=\"vector-effect: none; opacity: 1; stroke-width: 0.6px; fill: rgb(31, 119, 180); fill-opacity: 1; stroke: rgb(255, 255, 255); stroke-opacity: 1;\"/></g><g class=\"point\"><path d=\"M430.94,174V172.26H452.47V174Z\" style=\"vector-effect: none; opacity: 1; stroke-width: 0.6px; fill: rgb(31, 119, 180); fill-opacity: 1; stroke: rgb(255, 255, 255); stroke-opacity: 1;\"/></g><g class=\"point\"><path d=\"M452.47,174V144.42H474V174Z\" style=\"vector-effect: none; opacity: 1; stroke-width: 0.6px; fill: rgb(31, 119, 180); fill-opacity: 1; stroke: rgb(255, 255, 255); stroke-opacity: 1;\"/></g></g></g></g></g><g class=\"overplot\"/><path class=\"xlines-above crisp\" d=\"M65,192.5H540\" style=\"fill: none; stroke-width: 1px; stroke: rgb(36, 36, 36); stroke-opacity: 1;\"/><path class=\"ylines-above crisp\" d=\"M65.5,18V192\" style=\"fill: none; stroke-width: 1px; stroke: rgb(36, 36, 36); stroke-opacity: 1;\"/><g class=\"overlines-above\"/><g class=\"xaxislayer-above\"><path class=\"xtick ticks crisp\" d=\"M0,193v5\" transform=\"translate(152.19,0)\" style=\"stroke: rgb(68, 68, 68); stroke-opacity: 1; stroke-width: 1px;\"/><path class=\"xtick ticks crisp\" d=\"M0,193v5\" transform=\"translate(259.90999999999997,0)\" style=\"stroke: rgb(68, 68, 68); stroke-opacity: 1; stroke-width: 1px;\"/><path class=\"xtick ticks crisp\" d=\"M0,193v5\" transform=\"translate(367.63,0)\" style=\"stroke: rgb(68, 68, 68); stroke-opacity: 1; stroke-width: 1px;\"/><path class=\"xtick ticks crisp\" d=\"M0,193v5\" transform=\"translate(475.34,0)\" style=\"stroke: rgb(68, 68, 68); stroke-opacity: 1; stroke-width: 1px;\"/><g class=\"xtick\"><text text-anchor=\"middle\" x=\"0\" y=\"212.4\" transform=\"translate(152.19,0)\" style=\"font-family: 'Open Sans', verdana, arial, sans-serif; font-size: 12px; fill: rgb(36, 36, 36); fill-opacity: 1; white-space: pre; opacity: 1;\">2005</text></g><g class=\"xtick\"><text text-anchor=\"middle\" x=\"0\" y=\"212.4\" style=\"font-family: 'Open Sans', verdana, arial, sans-serif; font-size: 12px; fill: rgb(36, 36, 36); fill-opacity: 1; white-space: pre; opacity: 1;\" transform=\"translate(259.90999999999997,0)\">2010</text></g><g class=\"xtick\"><text text-anchor=\"middle\" x=\"0\" y=\"212.4\" style=\"font-family: 'Open Sans', verdana, arial, sans-serif; font-size: 12px; fill: rgb(36, 36, 36); fill-opacity: 1; white-space: pre; opacity: 1;\" transform=\"translate(367.63,0)\">2015</text></g><g class=\"xtick\"><text text-anchor=\"middle\" x=\"0\" y=\"212.4\" style=\"font-family: 'Open Sans', verdana, arial, sans-serif; font-size: 12px; fill: rgb(36, 36, 36); fill-opacity: 1; white-space: pre; opacity: 1;\" transform=\"translate(475.34,0)\">2020</text></g></g><g class=\"yaxislayer-above\"><path class=\"ytick ticks crisp\" d=\"M65,0h-5\" transform=\"translate(0,192)\" style=\"stroke: rgb(68, 68, 68); stroke-opacity: 1; stroke-width: 1px;\"/><path class=\"ytick ticks crisp\" d=\"M65,0h-5\" transform=\"translate(0,157.2)\" style=\"stroke: rgb(68, 68, 68); stroke-opacity: 1; stroke-width: 1px;\"/><path class=\"ytick ticks crisp\" d=\"M65,0h-5\" transform=\"translate(0,122.4)\" style=\"stroke: rgb(68, 68, 68); stroke-opacity: 1; stroke-width: 1px;\"/><path class=\"ytick ticks crisp\" d=\"M65,0h-5\" transform=\"translate(0,87.6)\" style=\"stroke: rgb(68, 68, 68); stroke-opacity: 1; stroke-width: 1px;\"/><path class=\"ytick ticks crisp\" d=\"M65,0h-5\" transform=\"translate(0,52.8)\" style=\"stroke: rgb(68, 68, 68); stroke-opacity: 1; stroke-width: 1px;\"/><path class=\"ytick ticks crisp\" d=\"M65,0h-5\" transform=\"translate(0,18)\" style=\"stroke: rgb(68, 68, 68); stroke-opacity: 1; stroke-width: 1px;\"/><g class=\"ytick\"><text text-anchor=\"end\" x=\"57.6\" y=\"4.199999999999999\" transform=\"translate(0,192)\" style=\"font-family: 'Open Sans', verdana, arial, sans-serif; font-size: 12px; fill: rgb(36, 36, 36); fill-opacity: 1; white-space: pre; opacity: 1;\">0</text></g><g class=\"ytick\"><text text-anchor=\"end\" x=\"57.6\" y=\"4.199999999999999\" style=\"font-family: 'Open Sans', verdana, arial, sans-serif; font-size: 12px; fill: rgb(36, 36, 36); fill-opacity: 1; white-space: pre; opacity: 1;\" transform=\"translate(0,157.2)\">20</text></g><g class=\"ytick\"><text text-anchor=\"end\" x=\"57.6\" y=\"4.199999999999999\" style=\"font-family: 'Open Sans', verdana, arial, sans-serif; font-size: 12px; fill: rgb(36, 36, 36); fill-opacity: 1; white-space: pre; opacity: 1;\" transform=\"translate(0,122.4)\">40</text></g><g class=\"ytick\"><text text-anchor=\"end\" x=\"57.6\" y=\"4.199999999999999\" style=\"font-family: 'Open Sans', verdana, arial, sans-serif; font-size: 12px; fill: rgb(36, 36, 36); fill-opacity: 1; white-space: pre; opacity: 1;\" transform=\"translate(0,87.6)\">60</text></g><g class=\"ytick\"><text text-anchor=\"end\" x=\"57.6\" y=\"4.199999999999999\" style=\"font-family: 'Open Sans', verdana, arial, sans-serif; font-size: 12px; fill: rgb(36, 36, 36); fill-opacity: 1; white-space: pre; opacity: 1;\" transform=\"translate(0,52.8)\">80</text></g><g class=\"ytick\"><text text-anchor=\"end\" x=\"57.6\" y=\"4.199999999999999\" style=\"font-family: 'Open Sans', verdana, arial, sans-serif; font-size: 12px; fill: rgb(36, 36, 36); fill-opacity: 1; white-space: pre; opacity: 1;\" transform=\"translate(0,18)\">100</text></g></g><g class=\"overaxes-above\"/></g></g><g class=\"polarlayer\"/><g class=\"smithlayer\"/><g class=\"ternarylayer\"/><g class=\"geolayer\"/><g class=\"funnelarealayer\"/><g class=\"pielayer\"/><g class=\"iciclelayer\"/><g class=\"treemaplayer\"/><g class=\"sunburstlayer\"/><g class=\"glimages\"/><defs id=\"topdefs-b25135\"><g class=\"clips\"/></defs><g class=\"layer-above\"><g class=\"imagelayer\"/><g class=\"shapelayer\"/></g><g class=\"infolayer\"><g class=\"g-gtitle\"/><g class=\"g-xtitle\"><text class=\"xtitle\" x=\"303\" y=\"239.20625\" text-anchor=\"middle\" style=\"font-family: 'Open Sans', verdana, arial, sans-serif; font-size: 14px; fill: rgb(36, 36, 36); opacity: 1; font-weight: normal; white-space: pre;\">Publication year</text></g><g class=\"g-ytitle\" transform=\"translate(3.5966796875,0)\"><text class=\"ytitle\" transform=\"rotate(-90,10.403125000000003,105)\" x=\"10.403125000000003\" y=\"105\" text-anchor=\"middle\" style=\"font-family: 'Open Sans', verdana, arial, sans-serif; font-size: 14px; fill: rgb(36, 36, 36); opacity: 1; font-weight: normal; white-space: pre;\">count</text></g></g></svg>"
      ]
     },
     "metadata": {},
     "output_type": "display_data"
    }
   ],
   "source": [
    "fig = px.histogram(\n",
    "    X_train.loc[X_train[\"timestamp\"] > \"2000\", \"timestamp\"],\n",
    "    labels={\"value\": \"Publication year\"}, width=550, height=250, \n",
    ")\n",
    "fig.update_layout(showlegend=False)"
   ]
  },
  {
   "cell_type": "markdown",
   "metadata": {},
   "source": [
    "As expected, most of the articles were published between 2007 (the year Politifact was founded) and 2020 (the year the FakeNewsNet repository was published). But we also find that the timestamps are concentrated on the years 2016 to 2018—the year of the controversial 2016 US presidential election and the two years following. This insight is a further caution on the limitation of our analysis to carry over to nonelection years. \n",
    "\n",
    "Our main aim is to use the text content for classification. We explore some word frequencies next."
   ]
  },
  {
   "cell_type": "markdown",
   "metadata": {},
   "source": [
    "## Exploring Words in Articles"
   ]
  },
  {
   "cell_type": "markdown",
   "metadata": {},
   "source": [
    "We'd like to see whether there's a relationship between the words used in the articles and whether the article was labeled as `fake`. One simple way to do this is to look at individual words like _military_, then count how many articles that mentioned \"military\" were labeled `fake`. For _military_ to be useful, the articles that mention it should have a much higher or much lower fraction of fake  articles than 45% (the proportion of fake articles in the dataset: 264/584). \n",
    "\n",
    "We can use our domain knowledge of political topics to pick out a few candidate words to explore:"
   ]
  },
  {
   "cell_type": "code",
   "execution_count": 8,
   "metadata": {
    "tags": [
     "remove-cell"
    ]
   },
   "outputs": [],
   "source": [
    "word_features = [\n",
    "    # names of presidential candidates\n",
    "    'trump', 'clinton',\n",
    "    #congress words\n",
    "    'state', 'vote', 'congress', 'shutdown',\n",
    "    \n",
    "    # other possibly useful words\n",
    "    'military', 'princ', 'investig', 'antifa', \n",
    "    'joke', 'homeless', 'swamp', 'cnn', 'the'\n",
    "]"
   ]
  },
  {
   "cell_type": "markdown",
   "metadata": {},
   "source": [
    "Then we define a function that creates a new feature for each word, where the feature contains `True` if the word appeared in the article and `False` if not: "
   ]
  },
  {
   "cell_type": "code",
   "execution_count": 9,
   "metadata": {},
   "outputs": [],
   "source": [
    "def make_word_features(df, words):\n",
    "    features = { word: df['content'].str.contains(word) for word in words }\n",
    "    return pd.DataFrame(features)"
   ]
  },
  {
   "cell_type": "markdown",
   "metadata": {},
   "source": [
    "This is like one-hot encoding for the presence of a word (see {numref}`Chapter %s <ch:linear>`). We can use this function to further wrangle our data and create a new data frame with a feature for each of our chosen words:  "
   ]
  },
  {
   "cell_type": "code",
   "execution_count": 10,
   "metadata": {},
   "outputs": [],
   "source": [
    "df_words = make_word_features(X_train, word_features)\n",
    "df_words[\"label\"] = df[\"label\"]"
   ]
  },
  {
   "cell_type": "code",
   "execution_count": 11,
   "metadata": {},
   "outputs": [
    {
     "data": {
      "text/plain": [
       "(584, 16)"
      ]
     },
     "execution_count": 11,
     "metadata": {},
     "output_type": "execute_result"
    }
   ],
   "source": [
    "df_words.shape"
   ]
  },
  {
   "cell_type": "code",
   "execution_count": 339,
   "metadata": {},
   "outputs": [
    {
     "data": {
      "text/html": [
       "<div>\n",
       "<style scoped>\n",
       "    .dataframe tbody tr th:only-of-type {\n",
       "        vertical-align: middle;\n",
       "    }\n",
       "\n",
       "    .dataframe tbody tr th {\n",
       "        vertical-align: top;\n",
       "    }\n",
       "\n",
       "    .dataframe thead th {\n",
       "        text-align: right;\n",
       "    }\n",
       "</style>\n",
       "<table border=\"1\" class=\"dataframe\">\n",
       "  <thead>\n",
       "    <tr style=\"text-align: right;\">\n",
       "      <th></th>\n",
       "      <th>trump</th>\n",
       "      <th>clinton</th>\n",
       "      <th>state</th>\n",
       "      <th>vote</th>\n",
       "      <th>...</th>\n",
       "      <th>swamp</th>\n",
       "      <th>cnn</th>\n",
       "      <th>the</th>\n",
       "      <th>label</th>\n",
       "    </tr>\n",
       "  </thead>\n",
       "  <tbody>\n",
       "    <tr>\n",
       "      <th>164</th>\n",
       "      <td>False</td>\n",
       "      <td>False</td>\n",
       "      <td>True</td>\n",
       "      <td>False</td>\n",
       "      <td>...</td>\n",
       "      <td>False</td>\n",
       "      <td>False</td>\n",
       "      <td>True</td>\n",
       "      <td>1</td>\n",
       "    </tr>\n",
       "    <tr>\n",
       "      <th>28</th>\n",
       "      <td>False</td>\n",
       "      <td>False</td>\n",
       "      <td>False</td>\n",
       "      <td>False</td>\n",
       "      <td>...</td>\n",
       "      <td>False</td>\n",
       "      <td>False</td>\n",
       "      <td>True</td>\n",
       "      <td>1</td>\n",
       "    </tr>\n",
       "    <tr>\n",
       "      <th>708</th>\n",
       "      <td>False</td>\n",
       "      <td>False</td>\n",
       "      <td>True</td>\n",
       "      <td>True</td>\n",
       "      <td>...</td>\n",
       "      <td>False</td>\n",
       "      <td>False</td>\n",
       "      <td>True</td>\n",
       "      <td>0</td>\n",
       "    </tr>\n",
       "    <tr>\n",
       "      <th>193</th>\n",
       "      <td>False</td>\n",
       "      <td>False</td>\n",
       "      <td>False</td>\n",
       "      <td>False</td>\n",
       "      <td>...</td>\n",
       "      <td>False</td>\n",
       "      <td>False</td>\n",
       "      <td>True</td>\n",
       "      <td>1</td>\n",
       "    </tr>\n",
       "  </tbody>\n",
       "</table>\n",
       "<p>4 rows × 16 columns</p>\n",
       "</div>"
      ],
      "text/plain": [
       "     trump  clinton  state   vote  ...  swamp    cnn   the  label\n",
       "164  False    False   True  False  ...  False  False  True      1\n",
       "28   False    False  False  False  ...  False  False  True      1\n",
       "708  False    False   True   True  ...  False  False  True      0\n",
       "193  False    False  False  False  ...  False  False  True      1\n",
       "\n",
       "[4 rows x 16 columns]"
      ]
     },
     "execution_count": 339,
     "metadata": {},
     "output_type": "execute_result"
    }
   ],
   "source": [
    "df_words.head(4)"
   ]
  },
  {
   "cell_type": "markdown",
   "metadata": {},
   "source": [
    "Now we can find the proportion of these articles that were labeled `fake`. We visualize these calculations in the following plots. In the left plot, we mark the proportion of `fake` articles in the entire train set using a dotted line, which helps us understand how informative each word feature is—a highly informative word will have a point that lies far away from the line:"
   ]
  },
  {
   "cell_type": "code",
   "execution_count": 18,
   "metadata": {
    "tags": [
     "hide-input"
    ]
   },
   "outputs": [
    {
     "data": {
      "image/svg+xml": [
       "<?xml version=\"1.0\" encoding=\"utf-8\" standalone=\"no\"?>\n",
       "<!DOCTYPE svg PUBLIC \"-//W3C//DTD SVG 1.1//EN\"\n",
       "  \"http://www.w3.org/Graphics/SVG/1.1/DTD/svg11.dtd\">\n",
       "<!-- Created with matplotlib (https://matplotlib.org/) -->\n",
       "<svg height=\"210.680938pt\" version=\"1.1\" viewBox=\"0 0 437.5 210.680938\" width=\"437.5pt\" xmlns=\"http://www.w3.org/2000/svg\" xmlns:xlink=\"http://www.w3.org/1999/xlink\">\n",
       " <metadata>\n",
       "  <rdf:RDF xmlns:cc=\"http://creativecommons.org/ns#\" xmlns:dc=\"http://purl.org/dc/elements/1.1/\" xmlns:rdf=\"http://www.w3.org/1999/02/22-rdf-syntax-ns#\">\n",
       "   <cc:Work>\n",
       "    <dc:type rdf:resource=\"http://purl.org/dc/dcmitype/StillImage\"/>\n",
       "    <dc:date>2023-07-17T23:00:55.598667</dc:date>\n",
       "    <dc:format>image/svg+xml</dc:format>\n",
       "    <dc:creator>\n",
       "     <cc:Agent>\n",
       "      <dc:title>Matplotlib v3.3.4, https://matplotlib.org/</dc:title>\n",
       "     </cc:Agent>\n",
       "    </dc:creator>\n",
       "   </cc:Work>\n",
       "  </rdf:RDF>\n",
       " </metadata>\n",
       " <defs>\n",
       "  <style type=\"text/css\">*{stroke-linecap:butt;stroke-linejoin:round;}</style>\n",
       " </defs>\n",
       " <g id=\"figure_1\">\n",
       "  <g id=\"patch_1\">\n",
       "   <path d=\"M 0 210.680938 \n",
       "L 437.5 210.680938 \n",
       "L 437.5 0 \n",
       "L 0 0 \n",
       "z\n",
       "\" style=\"fill:#ffffff;\"/>\n",
       "  </g>\n",
       "  <g id=\"axes_1\">\n",
       "   <g id=\"patch_2\">\n",
       "    <path d=\"M 70.15 187.335625 \n",
       "L 243.982386 187.335625 \n",
       "L 243.982386 21.935625 \n",
       "L 70.15 21.935625 \n",
       "z\n",
       "\" style=\"fill:#ffffff;\"/>\n",
       "   </g>\n",
       "   <g id=\"matplotlib.axis_1\">\n",
       "    <g id=\"xtick_1\">\n",
       "     <g id=\"line2d_1\">\n",
       "      <path clip-path=\"url(#p1a6c24d891)\" d=\"M 78.051472 187.335625 \n",
       "L 78.051472 21.935625 \n",
       "\" style=\"fill:none;stroke:#cccccc;stroke-linecap:round;stroke-width:0.8;\"/>\n",
       "     </g>\n",
       "     <g id=\"text_1\">\n",
       "      <!-- 0.00 -->\n",
       "      <g style=\"fill:#262626;\" transform=\"translate(68.321003 201.493438)scale(0.1 -0.1)\">\n",
       "       <defs>\n",
       "        <path d=\"M 4.15625 35.296875 \n",
       "Q 4.15625 48 6.765625 55.734375 \n",
       "Q 9.375 63.484375 14.515625 67.671875 \n",
       "Q 19.671875 71.875 27.484375 71.875 \n",
       "Q 33.25 71.875 37.59375 69.546875 \n",
       "Q 41.9375 67.234375 44.765625 62.859375 \n",
       "Q 47.609375 58.5 49.21875 52.21875 \n",
       "Q 50.828125 45.953125 50.828125 35.296875 \n",
       "Q 50.828125 22.703125 48.234375 14.96875 \n",
       "Q 45.65625 7.234375 40.5 3 \n",
       "Q 35.359375 -1.21875 27.484375 -1.21875 \n",
       "Q 17.140625 -1.21875 11.234375 6.203125 \n",
       "Q 4.15625 15.140625 4.15625 35.296875 \n",
       "z\n",
       "M 13.1875 35.296875 \n",
       "Q 13.1875 17.671875 17.3125 11.828125 \n",
       "Q 21.4375 6 27.484375 6 \n",
       "Q 33.546875 6 37.671875 11.859375 \n",
       "Q 41.796875 17.71875 41.796875 35.296875 \n",
       "Q 41.796875 52.984375 37.671875 58.78125 \n",
       "Q 33.546875 64.59375 27.390625 64.59375 \n",
       "Q 21.34375 64.59375 17.71875 59.46875 \n",
       "Q 13.1875 52.9375 13.1875 35.296875 \n",
       "z\n",
       "\" id=\"ArialMT-48\"/>\n",
       "        <path d=\"M 9.078125 0 \n",
       "L 9.078125 10.015625 \n",
       "L 19.09375 10.015625 \n",
       "L 19.09375 0 \n",
       "z\n",
       "\" id=\"ArialMT-46\"/>\n",
       "       </defs>\n",
       "       <use xlink:href=\"#ArialMT-48\"/>\n",
       "       <use x=\"55.615234\" xlink:href=\"#ArialMT-46\"/>\n",
       "       <use x=\"83.398438\" xlink:href=\"#ArialMT-48\"/>\n",
       "       <use x=\"139.013672\" xlink:href=\"#ArialMT-48\"/>\n",
       "      </g>\n",
       "     </g>\n",
       "    </g>\n",
       "    <g id=\"xtick_2\">\n",
       "     <g id=\"line2d_2\">\n",
       "      <path clip-path=\"url(#p1a6c24d891)\" d=\"M 117.558833 187.335625 \n",
       "L 117.558833 21.935625 \n",
       "\" style=\"fill:none;stroke:#cccccc;stroke-linecap:round;stroke-width:0.8;\"/>\n",
       "     </g>\n",
       "     <g id=\"text_2\">\n",
       "      <!-- 0.25 -->\n",
       "      <g style=\"fill:#262626;\" transform=\"translate(107.828364 201.493438)scale(0.1 -0.1)\">\n",
       "       <defs>\n",
       "        <path d=\"M 50.34375 8.453125 \n",
       "L 50.34375 0 \n",
       "L 3.03125 0 \n",
       "Q 2.9375 3.171875 4.046875 6.109375 \n",
       "Q 5.859375 10.9375 9.828125 15.625 \n",
       "Q 13.8125 20.3125 21.34375 26.46875 \n",
       "Q 33.015625 36.03125 37.109375 41.625 \n",
       "Q 41.21875 47.21875 41.21875 52.203125 \n",
       "Q 41.21875 57.421875 37.46875 61 \n",
       "Q 33.734375 64.59375 27.734375 64.59375 \n",
       "Q 21.390625 64.59375 17.578125 60.78125 \n",
       "Q 13.765625 56.984375 13.71875 50.25 \n",
       "L 4.6875 51.171875 \n",
       "Q 5.609375 61.28125 11.65625 66.578125 \n",
       "Q 17.71875 71.875 27.9375 71.875 \n",
       "Q 38.234375 71.875 44.234375 66.15625 \n",
       "Q 50.25 60.453125 50.25 52 \n",
       "Q 50.25 47.703125 48.484375 43.546875 \n",
       "Q 46.734375 39.40625 42.65625 34.8125 \n",
       "Q 38.578125 30.21875 29.109375 22.21875 \n",
       "Q 21.1875 15.578125 18.9375 13.203125 \n",
       "Q 16.703125 10.84375 15.234375 8.453125 \n",
       "z\n",
       "\" id=\"ArialMT-50\"/>\n",
       "        <path d=\"M 4.15625 18.75 \n",
       "L 13.375 19.53125 \n",
       "Q 14.40625 12.796875 18.140625 9.390625 \n",
       "Q 21.875 6 27.15625 6 \n",
       "Q 33.5 6 37.890625 10.78125 \n",
       "Q 42.28125 15.578125 42.28125 23.484375 \n",
       "Q 42.28125 31 38.0625 35.34375 \n",
       "Q 33.84375 39.703125 27 39.703125 \n",
       "Q 22.75 39.703125 19.328125 37.765625 \n",
       "Q 15.921875 35.84375 13.96875 32.765625 \n",
       "L 5.71875 33.84375 \n",
       "L 12.640625 70.609375 \n",
       "L 48.25 70.609375 \n",
       "L 48.25 62.203125 \n",
       "L 19.671875 62.203125 \n",
       "L 15.828125 42.96875 \n",
       "Q 22.265625 47.46875 29.34375 47.46875 \n",
       "Q 38.71875 47.46875 45.15625 40.96875 \n",
       "Q 51.609375 34.46875 51.609375 24.265625 \n",
       "Q 51.609375 14.546875 45.953125 7.46875 \n",
       "Q 39.0625 -1.21875 27.15625 -1.21875 \n",
       "Q 17.390625 -1.21875 11.203125 4.25 \n",
       "Q 5.03125 9.71875 4.15625 18.75 \n",
       "z\n",
       "\" id=\"ArialMT-53\"/>\n",
       "       </defs>\n",
       "       <use xlink:href=\"#ArialMT-48\"/>\n",
       "       <use x=\"55.615234\" xlink:href=\"#ArialMT-46\"/>\n",
       "       <use x=\"83.398438\" xlink:href=\"#ArialMT-50\"/>\n",
       "       <use x=\"139.013672\" xlink:href=\"#ArialMT-53\"/>\n",
       "      </g>\n",
       "     </g>\n",
       "    </g>\n",
       "    <g id=\"xtick_3\">\n",
       "     <g id=\"line2d_3\">\n",
       "      <path clip-path=\"url(#p1a6c24d891)\" d=\"M 157.066193 187.335625 \n",
       "L 157.066193 21.935625 \n",
       "\" style=\"fill:none;stroke:#cccccc;stroke-linecap:round;stroke-width:0.8;\"/>\n",
       "     </g>\n",
       "     <g id=\"text_3\">\n",
       "      <!-- 0.50 -->\n",
       "      <g style=\"fill:#262626;\" transform=\"translate(147.335724 201.493438)scale(0.1 -0.1)\">\n",
       "       <use xlink:href=\"#ArialMT-48\"/>\n",
       "       <use x=\"55.615234\" xlink:href=\"#ArialMT-46\"/>\n",
       "       <use x=\"83.398438\" xlink:href=\"#ArialMT-53\"/>\n",
       "       <use x=\"139.013672\" xlink:href=\"#ArialMT-48\"/>\n",
       "      </g>\n",
       "     </g>\n",
       "    </g>\n",
       "    <g id=\"xtick_4\">\n",
       "     <g id=\"line2d_4\">\n",
       "      <path clip-path=\"url(#p1a6c24d891)\" d=\"M 196.573554 187.335625 \n",
       "L 196.573554 21.935625 \n",
       "\" style=\"fill:none;stroke:#cccccc;stroke-linecap:round;stroke-width:0.8;\"/>\n",
       "     </g>\n",
       "     <g id=\"text_4\">\n",
       "      <!-- 0.75 -->\n",
       "      <g style=\"fill:#262626;\" transform=\"translate(186.843085 201.493438)scale(0.1 -0.1)\">\n",
       "       <defs>\n",
       "        <path d=\"M 4.734375 62.203125 \n",
       "L 4.734375 70.65625 \n",
       "L 51.078125 70.65625 \n",
       "L 51.078125 63.8125 \n",
       "Q 44.234375 56.546875 37.515625 44.484375 \n",
       "Q 30.8125 32.421875 27.15625 19.671875 \n",
       "Q 24.515625 10.6875 23.78125 0 \n",
       "L 14.75 0 \n",
       "Q 14.890625 8.453125 18.0625 20.40625 \n",
       "Q 21.234375 32.375 27.171875 43.484375 \n",
       "Q 33.109375 54.59375 39.796875 62.203125 \n",
       "z\n",
       "\" id=\"ArialMT-55\"/>\n",
       "       </defs>\n",
       "       <use xlink:href=\"#ArialMT-48\"/>\n",
       "       <use x=\"55.615234\" xlink:href=\"#ArialMT-46\"/>\n",
       "       <use x=\"83.398438\" xlink:href=\"#ArialMT-55\"/>\n",
       "       <use x=\"139.013672\" xlink:href=\"#ArialMT-53\"/>\n",
       "      </g>\n",
       "     </g>\n",
       "    </g>\n",
       "    <g id=\"xtick_5\">\n",
       "     <g id=\"line2d_5\">\n",
       "      <path clip-path=\"url(#p1a6c24d891)\" d=\"M 236.080914 187.335625 \n",
       "L 236.080914 21.935625 \n",
       "\" style=\"fill:none;stroke:#cccccc;stroke-linecap:round;stroke-width:0.8;\"/>\n",
       "     </g>\n",
       "     <g id=\"text_5\">\n",
       "      <!-- 1.00 -->\n",
       "      <g style=\"fill:#262626;\" transform=\"translate(226.350446 201.493438)scale(0.1 -0.1)\">\n",
       "       <defs>\n",
       "        <path d=\"M 37.25 0 \n",
       "L 28.46875 0 \n",
       "L 28.46875 56 \n",
       "Q 25.296875 52.984375 20.140625 49.953125 \n",
       "Q 14.984375 46.921875 10.890625 45.40625 \n",
       "L 10.890625 53.90625 \n",
       "Q 18.265625 57.375 23.78125 62.296875 \n",
       "Q 29.296875 67.234375 31.59375 71.875 \n",
       "L 37.25 71.875 \n",
       "z\n",
       "\" id=\"ArialMT-49\"/>\n",
       "       </defs>\n",
       "       <use xlink:href=\"#ArialMT-49\"/>\n",
       "       <use x=\"55.615234\" xlink:href=\"#ArialMT-46\"/>\n",
       "       <use x=\"83.398438\" xlink:href=\"#ArialMT-48\"/>\n",
       "       <use x=\"139.013672\" xlink:href=\"#ArialMT-48\"/>\n",
       "      </g>\n",
       "     </g>\n",
       "    </g>\n",
       "   </g>\n",
       "   <g id=\"matplotlib.axis_2\">\n",
       "    <g id=\"ytick_1\">\n",
       "     <g id=\"line2d_6\">\n",
       "      <path clip-path=\"url(#p1a6c24d891)\" d=\"M 70.15 27.448958 \n",
       "L 243.982386 27.448958 \n",
       "\" style=\"fill:none;stroke:#cccccc;stroke-linecap:round;stroke-width:0.8;\"/>\n",
       "     </g>\n",
       "     <g id=\"text_6\">\n",
       "      <!-- antifa -->\n",
       "      <g style=\"fill:#262626;\" transform=\"translate(38.689063 31.027865)scale(0.1 -0.1)\">\n",
       "       <defs>\n",
       "        <path d=\"M 40.4375 6.390625 \n",
       "Q 35.546875 2.25 31.03125 0.53125 \n",
       "Q 26.515625 -1.171875 21.34375 -1.171875 \n",
       "Q 12.796875 -1.171875 8.203125 3 \n",
       "Q 3.609375 7.171875 3.609375 13.671875 \n",
       "Q 3.609375 17.484375 5.34375 20.625 \n",
       "Q 7.078125 23.78125 9.890625 25.6875 \n",
       "Q 12.703125 27.59375 16.21875 28.5625 \n",
       "Q 18.796875 29.25 24.03125 29.890625 \n",
       "Q 34.671875 31.15625 39.703125 32.90625 \n",
       "Q 39.75 34.71875 39.75 35.203125 \n",
       "Q 39.75 40.578125 37.25 42.78125 \n",
       "Q 33.890625 45.75 27.25 45.75 \n",
       "Q 21.046875 45.75 18.09375 43.578125 \n",
       "Q 15.140625 41.40625 13.71875 35.890625 \n",
       "L 5.125 37.0625 \n",
       "Q 6.296875 42.578125 8.984375 45.96875 \n",
       "Q 11.671875 49.359375 16.75 51.1875 \n",
       "Q 21.828125 53.03125 28.515625 53.03125 \n",
       "Q 35.15625 53.03125 39.296875 51.46875 \n",
       "Q 43.453125 49.90625 45.40625 47.53125 \n",
       "Q 47.359375 45.171875 48.140625 41.546875 \n",
       "Q 48.578125 39.3125 48.578125 33.453125 \n",
       "L 48.578125 21.734375 \n",
       "Q 48.578125 9.46875 49.140625 6.21875 \n",
       "Q 49.703125 2.984375 51.375 0 \n",
       "L 42.1875 0 \n",
       "Q 40.828125 2.734375 40.4375 6.390625 \n",
       "z\n",
       "M 39.703125 26.03125 \n",
       "Q 34.90625 24.078125 25.34375 22.703125 \n",
       "Q 19.921875 21.921875 17.671875 20.9375 \n",
       "Q 15.4375 19.96875 14.203125 18.09375 \n",
       "Q 12.984375 16.21875 12.984375 13.921875 \n",
       "Q 12.984375 10.40625 15.640625 8.0625 \n",
       "Q 18.3125 5.71875 23.4375 5.71875 \n",
       "Q 28.515625 5.71875 32.46875 7.9375 \n",
       "Q 36.421875 10.15625 38.28125 14.015625 \n",
       "Q 39.703125 17 39.703125 22.796875 \n",
       "z\n",
       "\" id=\"ArialMT-97\"/>\n",
       "        <path d=\"M 6.59375 0 \n",
       "L 6.59375 51.859375 \n",
       "L 14.5 51.859375 \n",
       "L 14.5 44.484375 \n",
       "Q 20.21875 53.03125 31 53.03125 \n",
       "Q 35.6875 53.03125 39.625 51.34375 \n",
       "Q 43.5625 49.65625 45.515625 46.921875 \n",
       "Q 47.46875 44.1875 48.25 40.4375 \n",
       "Q 48.734375 37.984375 48.734375 31.890625 \n",
       "L 48.734375 0 \n",
       "L 39.9375 0 \n",
       "L 39.9375 31.546875 \n",
       "Q 39.9375 36.921875 38.90625 39.578125 \n",
       "Q 37.890625 42.234375 35.28125 43.8125 \n",
       "Q 32.671875 45.40625 29.15625 45.40625 \n",
       "Q 23.53125 45.40625 19.453125 41.84375 \n",
       "Q 15.375 38.28125 15.375 28.328125 \n",
       "L 15.375 0 \n",
       "z\n",
       "\" id=\"ArialMT-110\"/>\n",
       "        <path d=\"M 25.78125 7.859375 \n",
       "L 27.046875 0.09375 \n",
       "Q 23.34375 -0.6875 20.40625 -0.6875 \n",
       "Q 15.625 -0.6875 12.984375 0.828125 \n",
       "Q 10.359375 2.34375 9.28125 4.8125 \n",
       "Q 8.203125 7.28125 8.203125 15.1875 \n",
       "L 8.203125 45.015625 \n",
       "L 1.765625 45.015625 \n",
       "L 1.765625 51.859375 \n",
       "L 8.203125 51.859375 \n",
       "L 8.203125 64.703125 \n",
       "L 16.9375 69.96875 \n",
       "L 16.9375 51.859375 \n",
       "L 25.78125 51.859375 \n",
       "L 25.78125 45.015625 \n",
       "L 16.9375 45.015625 \n",
       "L 16.9375 14.703125 \n",
       "Q 16.9375 10.9375 17.40625 9.859375 \n",
       "Q 17.875 8.796875 18.921875 8.15625 \n",
       "Q 19.96875 7.515625 21.921875 7.515625 \n",
       "Q 23.390625 7.515625 25.78125 7.859375 \n",
       "z\n",
       "\" id=\"ArialMT-116\"/>\n",
       "        <path d=\"M 6.640625 61.46875 \n",
       "L 6.640625 71.578125 \n",
       "L 15.4375 71.578125 \n",
       "L 15.4375 61.46875 \n",
       "z\n",
       "M 6.640625 0 \n",
       "L 6.640625 51.859375 \n",
       "L 15.4375 51.859375 \n",
       "L 15.4375 0 \n",
       "z\n",
       "\" id=\"ArialMT-105\"/>\n",
       "        <path d=\"M 8.6875 0 \n",
       "L 8.6875 45.015625 \n",
       "L 0.921875 45.015625 \n",
       "L 0.921875 51.859375 \n",
       "L 8.6875 51.859375 \n",
       "L 8.6875 57.375 \n",
       "Q 8.6875 62.59375 9.625 65.140625 \n",
       "Q 10.890625 68.5625 14.078125 70.671875 \n",
       "Q 17.28125 72.796875 23.046875 72.796875 \n",
       "Q 26.765625 72.796875 31.25 71.921875 \n",
       "L 29.9375 64.265625 \n",
       "Q 27.203125 64.75 24.75 64.75 \n",
       "Q 20.75 64.75 19.09375 63.03125 \n",
       "Q 17.4375 61.328125 17.4375 56.640625 \n",
       "L 17.4375 51.859375 \n",
       "L 27.546875 51.859375 \n",
       "L 27.546875 45.015625 \n",
       "L 17.4375 45.015625 \n",
       "L 17.4375 0 \n",
       "z\n",
       "\" id=\"ArialMT-102\"/>\n",
       "       </defs>\n",
       "       <use xlink:href=\"#ArialMT-97\"/>\n",
       "       <use x=\"55.615234\" xlink:href=\"#ArialMT-110\"/>\n",
       "       <use x=\"111.230469\" xlink:href=\"#ArialMT-116\"/>\n",
       "       <use x=\"139.013672\" xlink:href=\"#ArialMT-105\"/>\n",
       "       <use x=\"161.230469\" xlink:href=\"#ArialMT-102\"/>\n",
       "       <use x=\"189.013672\" xlink:href=\"#ArialMT-97\"/>\n",
       "      </g>\n",
       "     </g>\n",
       "    </g>\n",
       "    <g id=\"ytick_2\">\n",
       "     <g id=\"line2d_7\">\n",
       "      <path clip-path=\"url(#p1a6c24d891)\" d=\"M 70.15 38.475625 \n",
       "L 243.982386 38.475625 \n",
       "\" style=\"fill:none;stroke:#cccccc;stroke-linecap:round;stroke-width:0.8;\"/>\n",
       "     </g>\n",
       "     <g id=\"text_7\">\n",
       "      <!-- joke -->\n",
       "      <g style=\"fill:#262626;\" transform=\"translate(44.80625 42.054531)scale(0.1 -0.1)\">\n",
       "       <defs>\n",
       "        <path d=\"M 6.546875 61.375 \n",
       "L 6.546875 71.578125 \n",
       "L 15.328125 71.578125 \n",
       "L 15.328125 61.375 \n",
       "z\n",
       "M -4.59375 -20.125 \n",
       "L -2.9375 -12.640625 \n",
       "Q -0.296875 -13.328125 1.21875 -13.328125 \n",
       "Q 3.90625 -13.328125 5.21875 -11.546875 \n",
       "Q 6.546875 -9.765625 6.546875 -2.640625 \n",
       "L 6.546875 51.859375 \n",
       "L 15.328125 51.859375 \n",
       "L 15.328125 -2.828125 \n",
       "Q 15.328125 -12.40625 12.84375 -16.15625 \n",
       "Q 9.671875 -21.046875 2.296875 -21.046875 \n",
       "Q -1.265625 -21.046875 -4.59375 -20.125 \n",
       "z\n",
       "\" id=\"ArialMT-106\"/>\n",
       "        <path d=\"M 3.328125 25.921875 \n",
       "Q 3.328125 40.328125 11.328125 47.265625 \n",
       "Q 18.015625 53.03125 27.640625 53.03125 \n",
       "Q 38.328125 53.03125 45.109375 46.015625 \n",
       "Q 51.90625 39.015625 51.90625 26.65625 \n",
       "Q 51.90625 16.65625 48.90625 10.90625 \n",
       "Q 45.90625 5.171875 40.15625 2 \n",
       "Q 34.421875 -1.171875 27.640625 -1.171875 \n",
       "Q 16.75 -1.171875 10.03125 5.8125 \n",
       "Q 3.328125 12.796875 3.328125 25.921875 \n",
       "z\n",
       "M 12.359375 25.921875 \n",
       "Q 12.359375 15.96875 16.703125 11.015625 \n",
       "Q 21.046875 6.0625 27.640625 6.0625 \n",
       "Q 34.1875 6.0625 38.53125 11.03125 \n",
       "Q 42.875 16.015625 42.875 26.21875 \n",
       "Q 42.875 35.84375 38.5 40.796875 \n",
       "Q 34.125 45.75 27.640625 45.75 \n",
       "Q 21.046875 45.75 16.703125 40.8125 \n",
       "Q 12.359375 35.890625 12.359375 25.921875 \n",
       "z\n",
       "\" id=\"ArialMT-111\"/>\n",
       "        <path d=\"M 6.640625 0 \n",
       "L 6.640625 71.578125 \n",
       "L 15.4375 71.578125 \n",
       "L 15.4375 30.765625 \n",
       "L 36.234375 51.859375 \n",
       "L 47.609375 51.859375 \n",
       "L 27.78125 32.625 \n",
       "L 49.609375 0 \n",
       "L 38.765625 0 \n",
       "L 21.625 26.515625 \n",
       "L 15.4375 20.5625 \n",
       "L 15.4375 0 \n",
       "z\n",
       "\" id=\"ArialMT-107\"/>\n",
       "        <path d=\"M 42.09375 16.703125 \n",
       "L 51.171875 15.578125 \n",
       "Q 49.03125 7.625 43.21875 3.21875 \n",
       "Q 37.40625 -1.171875 28.375 -1.171875 \n",
       "Q 17 -1.171875 10.328125 5.828125 \n",
       "Q 3.65625 12.84375 3.65625 25.484375 \n",
       "Q 3.65625 38.578125 10.390625 45.796875 \n",
       "Q 17.140625 53.03125 27.875 53.03125 \n",
       "Q 38.28125 53.03125 44.875 45.953125 \n",
       "Q 51.46875 38.875 51.46875 26.03125 \n",
       "Q 51.46875 25.25 51.421875 23.6875 \n",
       "L 12.75 23.6875 \n",
       "Q 13.234375 15.140625 17.578125 10.59375 \n",
       "Q 21.921875 6.0625 28.421875 6.0625 \n",
       "Q 33.25 6.0625 36.671875 8.59375 \n",
       "Q 40.09375 11.140625 42.09375 16.703125 \n",
       "z\n",
       "M 13.234375 30.90625 \n",
       "L 42.1875 30.90625 \n",
       "Q 41.609375 37.453125 38.875 40.71875 \n",
       "Q 34.671875 45.796875 27.984375 45.796875 \n",
       "Q 21.921875 45.796875 17.796875 41.75 \n",
       "Q 13.671875 37.703125 13.234375 30.90625 \n",
       "z\n",
       "\" id=\"ArialMT-101\"/>\n",
       "       </defs>\n",
       "       <use xlink:href=\"#ArialMT-106\"/>\n",
       "       <use x=\"22.216797\" xlink:href=\"#ArialMT-111\"/>\n",
       "       <use x=\"77.832031\" xlink:href=\"#ArialMT-107\"/>\n",
       "       <use x=\"127.832031\" xlink:href=\"#ArialMT-101\"/>\n",
       "      </g>\n",
       "     </g>\n",
       "    </g>\n",
       "    <g id=\"ytick_3\">\n",
       "     <g id=\"line2d_8\">\n",
       "      <path clip-path=\"url(#p1a6c24d891)\" d=\"M 70.15 49.502292 \n",
       "L 243.982386 49.502292 \n",
       "\" style=\"fill:none;stroke:#cccccc;stroke-linecap:round;stroke-width:0.8;\"/>\n",
       "     </g>\n",
       "     <g id=\"text_8\">\n",
       "      <!-- investig -->\n",
       "      <g style=\"fill:#262626;\" transform=\"translate(29.245313 53.081198)scale(0.1 -0.1)\">\n",
       "       <defs>\n",
       "        <path d=\"M 21 0 \n",
       "L 1.265625 51.859375 \n",
       "L 10.546875 51.859375 \n",
       "L 21.6875 20.796875 \n",
       "Q 23.484375 15.765625 25 10.359375 \n",
       "Q 26.171875 14.453125 28.265625 20.21875 \n",
       "L 39.796875 51.859375 \n",
       "L 48.828125 51.859375 \n",
       "L 29.203125 0 \n",
       "z\n",
       "\" id=\"ArialMT-118\"/>\n",
       "        <path d=\"M 3.078125 15.484375 \n",
       "L 11.765625 16.84375 \n",
       "Q 12.5 11.625 15.84375 8.84375 \n",
       "Q 19.1875 6.0625 25.203125 6.0625 \n",
       "Q 31.25 6.0625 34.171875 8.515625 \n",
       "Q 37.109375 10.984375 37.109375 14.3125 \n",
       "Q 37.109375 17.28125 34.515625 19 \n",
       "Q 32.71875 20.171875 25.53125 21.96875 \n",
       "Q 15.875 24.421875 12.140625 26.203125 \n",
       "Q 8.40625 27.984375 6.46875 31.125 \n",
       "Q 4.546875 34.28125 4.546875 38.09375 \n",
       "Q 4.546875 41.546875 6.125 44.5 \n",
       "Q 7.71875 47.46875 10.453125 49.421875 \n",
       "Q 12.5 50.921875 16.03125 51.96875 \n",
       "Q 19.578125 53.03125 23.640625 53.03125 \n",
       "Q 29.734375 53.03125 34.34375 51.265625 \n",
       "Q 38.96875 49.515625 41.15625 46.5 \n",
       "Q 43.359375 43.5 44.1875 38.484375 \n",
       "L 35.59375 37.3125 \n",
       "Q 35.015625 41.3125 32.203125 43.546875 \n",
       "Q 29.390625 45.796875 24.265625 45.796875 \n",
       "Q 18.21875 45.796875 15.625 43.796875 \n",
       "Q 13.03125 41.796875 13.03125 39.109375 \n",
       "Q 13.03125 37.40625 14.109375 36.03125 \n",
       "Q 15.1875 34.625 17.484375 33.6875 \n",
       "Q 18.796875 33.203125 25.25 31.453125 \n",
       "Q 34.578125 28.953125 38.25 27.359375 \n",
       "Q 41.9375 25.78125 44.03125 22.75 \n",
       "Q 46.140625 19.734375 46.140625 15.234375 \n",
       "Q 46.140625 10.84375 43.578125 6.953125 \n",
       "Q 41.015625 3.078125 36.171875 0.953125 \n",
       "Q 31.34375 -1.171875 25.25 -1.171875 \n",
       "Q 15.140625 -1.171875 9.84375 3.03125 \n",
       "Q 4.546875 7.234375 3.078125 15.484375 \n",
       "z\n",
       "\" id=\"ArialMT-115\"/>\n",
       "        <path d=\"M 4.984375 -4.296875 \n",
       "L 13.53125 -5.5625 \n",
       "Q 14.0625 -9.515625 16.5 -11.328125 \n",
       "Q 19.78125 -13.765625 25.4375 -13.765625 \n",
       "Q 31.546875 -13.765625 34.859375 -11.328125 \n",
       "Q 38.1875 -8.890625 39.359375 -4.5 \n",
       "Q 40.046875 -1.8125 39.984375 6.78125 \n",
       "Q 34.234375 0 25.640625 0 \n",
       "Q 14.9375 0 9.078125 7.71875 \n",
       "Q 3.21875 15.4375 3.21875 26.21875 \n",
       "Q 3.21875 33.640625 5.90625 39.90625 \n",
       "Q 8.59375 46.1875 13.6875 49.609375 \n",
       "Q 18.796875 53.03125 25.6875 53.03125 \n",
       "Q 34.859375 53.03125 40.828125 45.609375 \n",
       "L 40.828125 51.859375 \n",
       "L 48.921875 51.859375 \n",
       "L 48.921875 7.03125 \n",
       "Q 48.921875 -5.078125 46.453125 -10.125 \n",
       "Q 44 -15.1875 38.640625 -18.109375 \n",
       "Q 33.296875 -21.046875 25.484375 -21.046875 \n",
       "Q 16.21875 -21.046875 10.5 -16.875 \n",
       "Q 4.78125 -12.703125 4.984375 -4.296875 \n",
       "z\n",
       "M 12.25 26.859375 \n",
       "Q 12.25 16.65625 16.296875 11.96875 \n",
       "Q 20.359375 7.28125 26.46875 7.28125 \n",
       "Q 32.515625 7.28125 36.609375 11.9375 \n",
       "Q 40.71875 16.609375 40.71875 26.5625 \n",
       "Q 40.71875 36.078125 36.5 40.90625 \n",
       "Q 32.28125 45.75 26.3125 45.75 \n",
       "Q 20.453125 45.75 16.34375 40.984375 \n",
       "Q 12.25 36.234375 12.25 26.859375 \n",
       "z\n",
       "\" id=\"ArialMT-103\"/>\n",
       "       </defs>\n",
       "       <use xlink:href=\"#ArialMT-105\"/>\n",
       "       <use x=\"22.216797\" xlink:href=\"#ArialMT-110\"/>\n",
       "       <use x=\"77.832031\" xlink:href=\"#ArialMT-118\"/>\n",
       "       <use x=\"127.832031\" xlink:href=\"#ArialMT-101\"/>\n",
       "       <use x=\"183.447266\" xlink:href=\"#ArialMT-115\"/>\n",
       "       <use x=\"233.447266\" xlink:href=\"#ArialMT-116\"/>\n",
       "       <use x=\"261.230469\" xlink:href=\"#ArialMT-105\"/>\n",
       "       <use x=\"283.447266\" xlink:href=\"#ArialMT-103\"/>\n",
       "      </g>\n",
       "     </g>\n",
       "    </g>\n",
       "    <g id=\"ytick_4\">\n",
       "     <g id=\"line2d_9\">\n",
       "      <path clip-path=\"url(#p1a6c24d891)\" d=\"M 70.15 60.528958 \n",
       "L 243.982386 60.528958 \n",
       "\" style=\"fill:none;stroke:#cccccc;stroke-linecap:round;stroke-width:0.8;\"/>\n",
       "     </g>\n",
       "     <g id=\"text_9\">\n",
       "      <!-- the -->\n",
       "      <g style=\"fill:#262626;\" transform=\"translate(49.25 64.107865)scale(0.1 -0.1)\">\n",
       "       <defs>\n",
       "        <path d=\"M 6.59375 0 \n",
       "L 6.59375 71.578125 \n",
       "L 15.375 71.578125 \n",
       "L 15.375 45.90625 \n",
       "Q 21.53125 53.03125 30.90625 53.03125 \n",
       "Q 36.671875 53.03125 40.921875 50.75 \n",
       "Q 45.171875 48.484375 47 44.484375 \n",
       "Q 48.828125 40.484375 48.828125 32.859375 \n",
       "L 48.828125 0 \n",
       "L 40.046875 0 \n",
       "L 40.046875 32.859375 \n",
       "Q 40.046875 39.453125 37.1875 42.453125 \n",
       "Q 34.328125 45.453125 29.109375 45.453125 \n",
       "Q 25.203125 45.453125 21.75 43.421875 \n",
       "Q 18.3125 41.40625 16.84375 37.9375 \n",
       "Q 15.375 34.46875 15.375 28.375 \n",
       "L 15.375 0 \n",
       "z\n",
       "\" id=\"ArialMT-104\"/>\n",
       "       </defs>\n",
       "       <use xlink:href=\"#ArialMT-116\"/>\n",
       "       <use x=\"27.783203\" xlink:href=\"#ArialMT-104\"/>\n",
       "       <use x=\"83.398438\" xlink:href=\"#ArialMT-101\"/>\n",
       "      </g>\n",
       "     </g>\n",
       "    </g>\n",
       "    <g id=\"ytick_5\">\n",
       "     <g id=\"line2d_10\">\n",
       "      <path clip-path=\"url(#p1a6c24d891)\" d=\"M 70.15 71.555625 \n",
       "L 243.982386 71.555625 \n",
       "\" style=\"fill:none;stroke:#cccccc;stroke-linecap:round;stroke-width:0.8;\"/>\n",
       "     </g>\n",
       "     <g id=\"text_10\">\n",
       "      <!-- trump -->\n",
       "      <g style=\"fill:#262626;\" transform=\"translate(37.590625 75.134531)scale(0.1 -0.1)\">\n",
       "       <defs>\n",
       "        <path d=\"M 6.5 0 \n",
       "L 6.5 51.859375 \n",
       "L 14.40625 51.859375 \n",
       "L 14.40625 44 \n",
       "Q 17.4375 49.515625 20 51.265625 \n",
       "Q 22.5625 53.03125 25.640625 53.03125 \n",
       "Q 30.078125 53.03125 34.671875 50.203125 \n",
       "L 31.640625 42.046875 \n",
       "Q 28.421875 43.953125 25.203125 43.953125 \n",
       "Q 22.3125 43.953125 20.015625 42.21875 \n",
       "Q 17.71875 40.484375 16.75 37.40625 \n",
       "Q 15.28125 32.71875 15.28125 27.15625 \n",
       "L 15.28125 0 \n",
       "z\n",
       "\" id=\"ArialMT-114\"/>\n",
       "        <path d=\"M 40.578125 0 \n",
       "L 40.578125 7.625 \n",
       "Q 34.515625 -1.171875 24.125 -1.171875 \n",
       "Q 19.53125 -1.171875 15.546875 0.578125 \n",
       "Q 11.578125 2.34375 9.640625 5 \n",
       "Q 7.71875 7.671875 6.9375 11.53125 \n",
       "Q 6.390625 14.109375 6.390625 19.734375 \n",
       "L 6.390625 51.859375 \n",
       "L 15.1875 51.859375 \n",
       "L 15.1875 23.09375 \n",
       "Q 15.1875 16.21875 15.71875 13.8125 \n",
       "Q 16.546875 10.359375 19.234375 8.375 \n",
       "Q 21.921875 6.390625 25.875 6.390625 \n",
       "Q 29.828125 6.390625 33.296875 8.421875 \n",
       "Q 36.765625 10.453125 38.203125 13.9375 \n",
       "Q 39.65625 17.4375 39.65625 24.078125 \n",
       "L 39.65625 51.859375 \n",
       "L 48.4375 51.859375 \n",
       "L 48.4375 0 \n",
       "z\n",
       "\" id=\"ArialMT-117\"/>\n",
       "        <path d=\"M 6.59375 0 \n",
       "L 6.59375 51.859375 \n",
       "L 14.453125 51.859375 \n",
       "L 14.453125 44.578125 \n",
       "Q 16.890625 48.390625 20.9375 50.703125 \n",
       "Q 25 53.03125 30.171875 53.03125 \n",
       "Q 35.9375 53.03125 39.625 50.640625 \n",
       "Q 43.3125 48.25 44.828125 43.953125 \n",
       "Q 50.984375 53.03125 60.84375 53.03125 \n",
       "Q 68.5625 53.03125 72.703125 48.75 \n",
       "Q 76.859375 44.484375 76.859375 35.59375 \n",
       "L 76.859375 0 \n",
       "L 68.109375 0 \n",
       "L 68.109375 32.671875 \n",
       "Q 68.109375 37.9375 67.25 40.25 \n",
       "Q 66.40625 42.578125 64.15625 43.984375 \n",
       "Q 61.921875 45.40625 58.890625 45.40625 \n",
       "Q 53.421875 45.40625 49.796875 41.765625 \n",
       "Q 46.1875 38.140625 46.1875 30.125 \n",
       "L 46.1875 0 \n",
       "L 37.40625 0 \n",
       "L 37.40625 33.6875 \n",
       "Q 37.40625 39.546875 35.25 42.46875 \n",
       "Q 33.109375 45.40625 28.21875 45.40625 \n",
       "Q 24.515625 45.40625 21.359375 43.453125 \n",
       "Q 18.21875 41.5 16.796875 37.734375 \n",
       "Q 15.375 33.984375 15.375 26.90625 \n",
       "L 15.375 0 \n",
       "z\n",
       "\" id=\"ArialMT-109\"/>\n",
       "        <path d=\"M 6.59375 -19.875 \n",
       "L 6.59375 51.859375 \n",
       "L 14.59375 51.859375 \n",
       "L 14.59375 45.125 \n",
       "Q 17.4375 49.078125 21 51.046875 \n",
       "Q 24.5625 53.03125 29.640625 53.03125 \n",
       "Q 36.28125 53.03125 41.359375 49.609375 \n",
       "Q 46.4375 46.1875 49.015625 39.953125 \n",
       "Q 51.609375 33.734375 51.609375 26.3125 \n",
       "Q 51.609375 18.359375 48.75 11.984375 \n",
       "Q 45.90625 5.609375 40.453125 2.21875 \n",
       "Q 35.015625 -1.171875 29 -1.171875 \n",
       "Q 24.609375 -1.171875 21.109375 0.6875 \n",
       "Q 17.625 2.546875 15.375 5.375 \n",
       "L 15.375 -19.875 \n",
       "z\n",
       "M 14.546875 25.640625 \n",
       "Q 14.546875 15.625 18.59375 10.84375 \n",
       "Q 22.65625 6.0625 28.421875 6.0625 \n",
       "Q 34.28125 6.0625 38.453125 11.015625 \n",
       "Q 42.625 15.96875 42.625 26.375 \n",
       "Q 42.625 36.28125 38.546875 41.203125 \n",
       "Q 34.46875 46.140625 28.8125 46.140625 \n",
       "Q 23.1875 46.140625 18.859375 40.890625 \n",
       "Q 14.546875 35.640625 14.546875 25.640625 \n",
       "z\n",
       "\" id=\"ArialMT-112\"/>\n",
       "       </defs>\n",
       "       <use xlink:href=\"#ArialMT-116\"/>\n",
       "       <use x=\"27.783203\" xlink:href=\"#ArialMT-114\"/>\n",
       "       <use x=\"61.083984\" xlink:href=\"#ArialMT-117\"/>\n",
       "       <use x=\"116.699219\" xlink:href=\"#ArialMT-109\"/>\n",
       "       <use x=\"200\" xlink:href=\"#ArialMT-112\"/>\n",
       "      </g>\n",
       "     </g>\n",
       "    </g>\n",
       "    <g id=\"ytick_6\">\n",
       "     <g id=\"line2d_11\">\n",
       "      <path clip-path=\"url(#p1a6c24d891)\" d=\"M 70.15 82.582292 \n",
       "L 243.982386 82.582292 \n",
       "\" style=\"fill:none;stroke:#cccccc;stroke-linecap:round;stroke-width:0.8;\"/>\n",
       "     </g>\n",
       "     <g id=\"text_11\">\n",
       "      <!-- state -->\n",
       "      <g style=\"fill:#262626;\" transform=\"translate(41.471875 86.161198)scale(0.1 -0.1)\">\n",
       "       <use xlink:href=\"#ArialMT-115\"/>\n",
       "       <use x=\"50\" xlink:href=\"#ArialMT-116\"/>\n",
       "       <use x=\"77.783203\" xlink:href=\"#ArialMT-97\"/>\n",
       "       <use x=\"133.398438\" xlink:href=\"#ArialMT-116\"/>\n",
       "       <use x=\"161.181641\" xlink:href=\"#ArialMT-101\"/>\n",
       "      </g>\n",
       "     </g>\n",
       "    </g>\n",
       "    <g id=\"ytick_7\">\n",
       "     <g id=\"line2d_12\">\n",
       "      <path clip-path=\"url(#p1a6c24d891)\" d=\"M 70.15 93.608958 \n",
       "L 243.982386 93.608958 \n",
       "\" style=\"fill:none;stroke:#cccccc;stroke-linecap:round;stroke-width:0.8;\"/>\n",
       "     </g>\n",
       "     <g id=\"text_12\">\n",
       "      <!-- homeless -->\n",
       "      <g style=\"fill:#262626;\" transform=\"translate(20.354688 97.187865)scale(0.1 -0.1)\">\n",
       "       <defs>\n",
       "        <path d=\"M 6.390625 0 \n",
       "L 6.390625 71.578125 \n",
       "L 15.1875 71.578125 \n",
       "L 15.1875 0 \n",
       "z\n",
       "\" id=\"ArialMT-108\"/>\n",
       "       </defs>\n",
       "       <use xlink:href=\"#ArialMT-104\"/>\n",
       "       <use x=\"55.615234\" xlink:href=\"#ArialMT-111\"/>\n",
       "       <use x=\"111.230469\" xlink:href=\"#ArialMT-109\"/>\n",
       "       <use x=\"194.53125\" xlink:href=\"#ArialMT-101\"/>\n",
       "       <use x=\"250.146484\" xlink:href=\"#ArialMT-108\"/>\n",
       "       <use x=\"272.363281\" xlink:href=\"#ArialMT-101\"/>\n",
       "       <use x=\"327.978516\" xlink:href=\"#ArialMT-115\"/>\n",
       "       <use x=\"377.978516\" xlink:href=\"#ArialMT-115\"/>\n",
       "      </g>\n",
       "     </g>\n",
       "    </g>\n",
       "    <g id=\"ytick_8\">\n",
       "     <g id=\"line2d_13\">\n",
       "      <path clip-path=\"url(#p1a6c24d891)\" d=\"M 70.15 104.635625 \n",
       "L 243.982386 104.635625 \n",
       "\" style=\"fill:none;stroke:#cccccc;stroke-linecap:round;stroke-width:0.8;\"/>\n",
       "     </g>\n",
       "     <g id=\"text_13\">\n",
       "      <!-- congress -->\n",
       "      <g style=\"fill:#262626;\" transform=\"translate(22.576563 108.155938)scale(0.1 -0.1)\">\n",
       "       <defs>\n",
       "        <path d=\"M 40.4375 19 \n",
       "L 49.078125 17.875 \n",
       "Q 47.65625 8.9375 41.8125 3.875 \n",
       "Q 35.984375 -1.171875 27.484375 -1.171875 \n",
       "Q 16.84375 -1.171875 10.375 5.78125 \n",
       "Q 3.90625 12.75 3.90625 25.734375 \n",
       "Q 3.90625 34.125 6.6875 40.421875 \n",
       "Q 9.46875 46.734375 15.15625 49.875 \n",
       "Q 20.84375 53.03125 27.546875 53.03125 \n",
       "Q 35.984375 53.03125 41.359375 48.75 \n",
       "Q 46.734375 44.484375 48.25 36.625 \n",
       "L 39.703125 35.296875 \n",
       "Q 38.484375 40.53125 35.375 43.15625 \n",
       "Q 32.28125 45.796875 27.875 45.796875 \n",
       "Q 21.234375 45.796875 17.078125 41.03125 \n",
       "Q 12.9375 36.28125 12.9375 25.984375 \n",
       "Q 12.9375 15.53125 16.9375 10.796875 \n",
       "Q 20.953125 6.0625 27.390625 6.0625 \n",
       "Q 32.5625 6.0625 36.03125 9.234375 \n",
       "Q 39.5 12.40625 40.4375 19 \n",
       "z\n",
       "\" id=\"ArialMT-99\"/>\n",
       "       </defs>\n",
       "       <use xlink:href=\"#ArialMT-99\"/>\n",
       "       <use x=\"50\" xlink:href=\"#ArialMT-111\"/>\n",
       "       <use x=\"105.615234\" xlink:href=\"#ArialMT-110\"/>\n",
       "       <use x=\"161.230469\" xlink:href=\"#ArialMT-103\"/>\n",
       "       <use x=\"216.845703\" xlink:href=\"#ArialMT-114\"/>\n",
       "       <use x=\"250.146484\" xlink:href=\"#ArialMT-101\"/>\n",
       "       <use x=\"305.761719\" xlink:href=\"#ArialMT-115\"/>\n",
       "       <use x=\"355.761719\" xlink:href=\"#ArialMT-115\"/>\n",
       "      </g>\n",
       "     </g>\n",
       "    </g>\n",
       "    <g id=\"ytick_9\">\n",
       "     <g id=\"line2d_14\">\n",
       "      <path clip-path=\"url(#p1a6c24d891)\" d=\"M 70.15 115.662292 \n",
       "L 243.982386 115.662292 \n",
       "\" style=\"fill:none;stroke:#cccccc;stroke-linecap:round;stroke-width:0.8;\"/>\n",
       "     </g>\n",
       "     <g id=\"text_14\">\n",
       "      <!-- military -->\n",
       "      <g style=\"fill:#262626;\" transform=\"translate(31.485938 119.241198)scale(0.1 -0.1)\">\n",
       "       <defs>\n",
       "        <path d=\"M 6.203125 -19.96875 \n",
       "L 5.21875 -11.71875 \n",
       "Q 8.109375 -12.5 10.25 -12.5 \n",
       "Q 13.1875 -12.5 14.9375 -11.515625 \n",
       "Q 16.703125 -10.546875 17.828125 -8.796875 \n",
       "Q 18.65625 -7.46875 20.515625 -2.25 \n",
       "Q 20.75 -1.515625 21.296875 -0.09375 \n",
       "L 1.609375 51.859375 \n",
       "L 11.078125 51.859375 \n",
       "L 21.875 21.828125 \n",
       "Q 23.96875 16.109375 25.640625 9.8125 \n",
       "Q 27.15625 15.875 29.25 21.625 \n",
       "L 40.328125 51.859375 \n",
       "L 49.125 51.859375 \n",
       "L 29.390625 -0.875 \n",
       "Q 26.21875 -9.421875 24.46875 -12.640625 \n",
       "Q 22.125 -17 19.09375 -19.015625 \n",
       "Q 16.0625 -21.046875 11.859375 -21.046875 \n",
       "Q 9.328125 -21.046875 6.203125 -19.96875 \n",
       "z\n",
       "\" id=\"ArialMT-121\"/>\n",
       "       </defs>\n",
       "       <use xlink:href=\"#ArialMT-109\"/>\n",
       "       <use x=\"83.300781\" xlink:href=\"#ArialMT-105\"/>\n",
       "       <use x=\"105.517578\" xlink:href=\"#ArialMT-108\"/>\n",
       "       <use x=\"127.734375\" xlink:href=\"#ArialMT-105\"/>\n",
       "       <use x=\"149.951172\" xlink:href=\"#ArialMT-116\"/>\n",
       "       <use x=\"177.734375\" xlink:href=\"#ArialMT-97\"/>\n",
       "       <use x=\"233.349609\" xlink:href=\"#ArialMT-114\"/>\n",
       "       <use x=\"266.650391\" xlink:href=\"#ArialMT-121\"/>\n",
       "      </g>\n",
       "     </g>\n",
       "    </g>\n",
       "    <g id=\"ytick_10\">\n",
       "     <g id=\"line2d_15\">\n",
       "      <path clip-path=\"url(#p1a6c24d891)\" d=\"M 70.15 126.688958 \n",
       "L 243.982386 126.688958 \n",
       "\" style=\"fill:none;stroke:#cccccc;stroke-linecap:round;stroke-width:0.8;\"/>\n",
       "     </g>\n",
       "     <g id=\"text_15\">\n",
       "      <!-- princ -->\n",
       "      <g style=\"fill:#262626;\" transform=\"translate(41.476562 130.267865)scale(0.1 -0.1)\">\n",
       "       <use xlink:href=\"#ArialMT-112\"/>\n",
       "       <use x=\"55.615234\" xlink:href=\"#ArialMT-114\"/>\n",
       "       <use x=\"88.916016\" xlink:href=\"#ArialMT-105\"/>\n",
       "       <use x=\"111.132812\" xlink:href=\"#ArialMT-110\"/>\n",
       "       <use x=\"166.748047\" xlink:href=\"#ArialMT-99\"/>\n",
       "      </g>\n",
       "     </g>\n",
       "    </g>\n",
       "    <g id=\"ytick_11\">\n",
       "     <g id=\"line2d_16\">\n",
       "      <path clip-path=\"url(#p1a6c24d891)\" d=\"M 70.15 137.715625 \n",
       "L 243.982386 137.715625 \n",
       "\" style=\"fill:none;stroke:#cccccc;stroke-linecap:round;stroke-width:0.8;\"/>\n",
       "     </g>\n",
       "     <g id=\"text_16\">\n",
       "      <!-- vote -->\n",
       "      <g style=\"fill:#262626;\" transform=\"translate(44.25 141.294531)scale(0.1 -0.1)\">\n",
       "       <use xlink:href=\"#ArialMT-118\"/>\n",
       "       <use x=\"50\" xlink:href=\"#ArialMT-111\"/>\n",
       "       <use x=\"105.615234\" xlink:href=\"#ArialMT-116\"/>\n",
       "       <use x=\"133.398438\" xlink:href=\"#ArialMT-101\"/>\n",
       "      </g>\n",
       "     </g>\n",
       "    </g>\n",
       "    <g id=\"ytick_12\">\n",
       "     <g id=\"line2d_17\">\n",
       "      <path clip-path=\"url(#p1a6c24d891)\" d=\"M 70.15 148.742292 \n",
       "L 243.982386 148.742292 \n",
       "\" style=\"fill:none;stroke:#cccccc;stroke-linecap:round;stroke-width:0.8;\"/>\n",
       "     </g>\n",
       "     <g id=\"text_17\">\n",
       "      <!-- shutdown -->\n",
       "      <g style=\"fill:#262626;\" transform=\"translate(20.345313 152.321198)scale(0.1 -0.1)\">\n",
       "       <defs>\n",
       "        <path d=\"M 40.234375 0 \n",
       "L 40.234375 6.546875 \n",
       "Q 35.296875 -1.171875 25.734375 -1.171875 \n",
       "Q 19.53125 -1.171875 14.328125 2.25 \n",
       "Q 9.125 5.671875 6.265625 11.796875 \n",
       "Q 3.421875 17.921875 3.421875 25.875 \n",
       "Q 3.421875 33.640625 6 39.96875 \n",
       "Q 8.59375 46.296875 13.765625 49.65625 \n",
       "Q 18.953125 53.03125 25.34375 53.03125 \n",
       "Q 30.03125 53.03125 33.6875 51.046875 \n",
       "Q 37.359375 49.078125 39.65625 45.90625 \n",
       "L 39.65625 71.578125 \n",
       "L 48.390625 71.578125 \n",
       "L 48.390625 0 \n",
       "z\n",
       "M 12.453125 25.875 \n",
       "Q 12.453125 15.921875 16.640625 10.984375 \n",
       "Q 20.84375 6.0625 26.5625 6.0625 \n",
       "Q 32.328125 6.0625 36.34375 10.765625 \n",
       "Q 40.375 15.484375 40.375 25.140625 \n",
       "Q 40.375 35.796875 36.265625 40.765625 \n",
       "Q 32.171875 45.75 26.171875 45.75 \n",
       "Q 20.3125 45.75 16.375 40.96875 \n",
       "Q 12.453125 36.1875 12.453125 25.875 \n",
       "z\n",
       "\" id=\"ArialMT-100\"/>\n",
       "        <path d=\"M 16.15625 0 \n",
       "L 0.296875 51.859375 \n",
       "L 9.375 51.859375 \n",
       "L 17.625 21.921875 \n",
       "L 20.703125 10.796875 \n",
       "Q 20.90625 11.625 23.390625 21.484375 \n",
       "L 31.640625 51.859375 \n",
       "L 40.671875 51.859375 \n",
       "L 48.4375 21.78125 \n",
       "L 51.03125 11.859375 \n",
       "L 54 21.875 \n",
       "L 62.890625 51.859375 \n",
       "L 71.4375 51.859375 \n",
       "L 55.21875 0 \n",
       "L 46.09375 0 \n",
       "L 37.84375 31.0625 \n",
       "L 35.84375 39.890625 \n",
       "L 25.34375 0 \n",
       "z\n",
       "\" id=\"ArialMT-119\"/>\n",
       "       </defs>\n",
       "       <use xlink:href=\"#ArialMT-115\"/>\n",
       "       <use x=\"50\" xlink:href=\"#ArialMT-104\"/>\n",
       "       <use x=\"105.615234\" xlink:href=\"#ArialMT-117\"/>\n",
       "       <use x=\"161.230469\" xlink:href=\"#ArialMT-116\"/>\n",
       "       <use x=\"189.013672\" xlink:href=\"#ArialMT-100\"/>\n",
       "       <use x=\"244.628906\" xlink:href=\"#ArialMT-111\"/>\n",
       "       <use x=\"300.244141\" xlink:href=\"#ArialMT-119\"/>\n",
       "       <use x=\"372.460938\" xlink:href=\"#ArialMT-110\"/>\n",
       "      </g>\n",
       "     </g>\n",
       "    </g>\n",
       "    <g id=\"ytick_13\">\n",
       "     <g id=\"line2d_18\">\n",
       "      <path clip-path=\"url(#p1a6c24d891)\" d=\"M 70.15 159.768958 \n",
       "L 243.982386 159.768958 \n",
       "\" style=\"fill:none;stroke:#cccccc;stroke-linecap:round;stroke-width:0.8;\"/>\n",
       "     </g>\n",
       "     <g id=\"text_18\">\n",
       "      <!-- clinton -->\n",
       "      <g style=\"fill:#262626;\" transform=\"translate(34.245313 163.347865)scale(0.1 -0.1)\">\n",
       "       <use xlink:href=\"#ArialMT-99\"/>\n",
       "       <use x=\"50\" xlink:href=\"#ArialMT-108\"/>\n",
       "       <use x=\"72.216797\" xlink:href=\"#ArialMT-105\"/>\n",
       "       <use x=\"94.433594\" xlink:href=\"#ArialMT-110\"/>\n",
       "       <use x=\"150.048828\" xlink:href=\"#ArialMT-116\"/>\n",
       "       <use x=\"177.832031\" xlink:href=\"#ArialMT-111\"/>\n",
       "       <use x=\"233.447266\" xlink:href=\"#ArialMT-110\"/>\n",
       "      </g>\n",
       "     </g>\n",
       "    </g>\n",
       "    <g id=\"ytick_14\">\n",
       "     <g id=\"line2d_19\">\n",
       "      <path clip-path=\"url(#p1a6c24d891)\" d=\"M 70.15 170.795625 \n",
       "L 243.982386 170.795625 \n",
       "\" style=\"fill:none;stroke:#cccccc;stroke-linecap:round;stroke-width:0.8;\"/>\n",
       "     </g>\n",
       "     <g id=\"text_19\">\n",
       "      <!-- cnn -->\n",
       "      <g style=\"fill:#262626;\" transform=\"translate(47.028125 174.374531)scale(0.1 -0.1)\">\n",
       "       <use xlink:href=\"#ArialMT-99\"/>\n",
       "       <use x=\"50\" xlink:href=\"#ArialMT-110\"/>\n",
       "       <use x=\"105.615234\" xlink:href=\"#ArialMT-110\"/>\n",
       "      </g>\n",
       "     </g>\n",
       "    </g>\n",
       "    <g id=\"ytick_15\">\n",
       "     <g id=\"line2d_20\">\n",
       "      <path clip-path=\"url(#p1a6c24d891)\" d=\"M 70.15 181.822292 \n",
       "L 243.982386 181.822292 \n",
       "\" style=\"fill:none;stroke:#cccccc;stroke-linecap:round;stroke-width:0.8;\"/>\n",
       "     </g>\n",
       "     <g id=\"text_20\">\n",
       "      <!-- swamp -->\n",
       "      <g style=\"fill:#262626;\" transform=\"translate(31.476563 185.401198)scale(0.1 -0.1)\">\n",
       "       <use xlink:href=\"#ArialMT-115\"/>\n",
       "       <use x=\"50\" xlink:href=\"#ArialMT-119\"/>\n",
       "       <use x=\"122.216797\" xlink:href=\"#ArialMT-97\"/>\n",
       "       <use x=\"177.832031\" xlink:href=\"#ArialMT-109\"/>\n",
       "       <use x=\"261.132812\" xlink:href=\"#ArialMT-112\"/>\n",
       "      </g>\n",
       "     </g>\n",
       "    </g>\n",
       "    <g id=\"text_21\">\n",
       "     <!-- word -->\n",
       "     <g style=\"fill:#262626;\" transform=\"translate(14.357813 115.472344)rotate(-90)scale(0.1 -0.1)\">\n",
       "      <use xlink:href=\"#ArialMT-119\"/>\n",
       "      <use x=\"72.216797\" xlink:href=\"#ArialMT-111\"/>\n",
       "      <use x=\"127.832031\" xlink:href=\"#ArialMT-114\"/>\n",
       "      <use x=\"161.132812\" xlink:href=\"#ArialMT-100\"/>\n",
       "     </g>\n",
       "    </g>\n",
       "   </g>\n",
       "   <g id=\"line2d_21\">\n",
       "    <path clip-path=\"url(#p1a6c24d891)\" d=\"M 149.164721 187.335625 \n",
       "L 149.164721 21.935625 \n",
       "\" style=\"fill:none;stroke:#1f77b4;stroke-dasharray:5.55,2.4;stroke-dashoffset:0;stroke-width:1.5;\"/>\n",
       "   </g>\n",
       "   <g id=\"patch_3\">\n",
       "    <path d=\"M 70.15 187.335625 \n",
       "L 70.15 21.935625 \n",
       "\" style=\"fill:none;stroke:#cccccc;stroke-linecap:square;stroke-linejoin:miter;stroke-width:0.8;\"/>\n",
       "   </g>\n",
       "   <g id=\"patch_4\">\n",
       "    <path d=\"M 70.15 187.335625 \n",
       "L 243.982386 187.335625 \n",
       "\" style=\"fill:none;stroke:#cccccc;stroke-linecap:square;stroke-linejoin:miter;stroke-width:0.8;\"/>\n",
       "   </g>\n",
       "   <g id=\"PathCollection_1\">\n",
       "    <defs>\n",
       "     <path d=\"M 0 2.5 \n",
       "C 0.663008 2.5 1.29895 2.236584 1.767767 1.767767 \n",
       "C 2.236584 1.29895 2.5 0.663008 2.5 0 \n",
       "C 2.5 -0.663008 2.236584 -1.29895 1.767767 -1.767767 \n",
       "C 1.29895 -2.236584 0.663008 -2.5 0 -2.5 \n",
       "C -0.663008 -2.5 -1.29895 -2.236584 -1.767767 -1.767767 \n",
       "C -2.236584 -1.29895 -2.5 -0.663008 -2.5 0 \n",
       "C -2.5 0.663008 -2.236584 1.29895 -1.767767 1.767767 \n",
       "C -1.29895 2.236584 -0.663008 2.5 0 2.5 \n",
       "z\n",
       "\" id=\"m0127e6667d\"/>\n",
       "    </defs>\n",
       "    <g clip-path=\"url(#p1a6c24d891)\">\n",
       "     <use style=\"fill:#f8889a;\" x=\"236.080914\" xlink:href=\"#m0127e6667d\" y=\"27.448958\"/>\n",
       "    </g>\n",
       "   </g>\n",
       "   <g id=\"PathCollection_2\">\n",
       "    <defs>\n",
       "     <path d=\"M 0 2.5 \n",
       "C 0.663008 2.5 1.29895 2.236584 1.767767 1.767767 \n",
       "C 2.236584 1.29895 2.5 0.663008 2.5 0 \n",
       "C 2.5 -0.663008 2.236584 -1.29895 1.767767 -1.767767 \n",
       "C 1.29895 -2.236584 0.663008 -2.5 0 -2.5 \n",
       "C -0.663008 -2.5 -1.29895 -2.236584 -1.767767 -1.767767 \n",
       "C -2.236584 -1.29895 -2.5 -0.663008 -2.5 0 \n",
       "C -2.5 0.663008 -2.236584 1.29895 -1.767767 1.767767 \n",
       "C -1.29895 2.236584 -0.663008 2.5 0 2.5 \n",
       "z\n",
       "\" id=\"m943a5dcf19\"/>\n",
       "    </defs>\n",
       "    <g clip-path=\"url(#p1a6c24d891)\">\n",
       "     <use style=\"fill:#f88d5d;\" x=\"169.542202\" xlink:href=\"#m943a5dcf19\" y=\"38.475625\"/>\n",
       "    </g>\n",
       "   </g>\n",
       "   <g id=\"PathCollection_3\">\n",
       "    <defs>\n",
       "     <path d=\"M 0 2.5 \n",
       "C 0.663008 2.5 1.29895 2.236584 1.767767 1.767767 \n",
       "C 2.236584 1.29895 2.5 0.663008 2.5 0 \n",
       "C 2.5 -0.663008 2.236584 -1.29895 1.767767 -1.767767 \n",
       "C 1.29895 -2.236584 0.663008 -2.5 0 -2.5 \n",
       "C -0.663008 -2.5 -1.29895 -2.236584 -1.767767 -1.767767 \n",
       "C -2.236584 -1.29895 -2.5 -0.663008 -2.5 0 \n",
       "C -2.5 0.663008 -2.236584 1.29895 -1.767767 1.767767 \n",
       "C -1.29895 2.236584 -0.663008 2.5 0 2.5 \n",
       "z\n",
       "\" id=\"m5426e16677\"/>\n",
       "    </defs>\n",
       "    <g clip-path=\"url(#p1a6c24d891)\">\n",
       "     <use style=\"fill:#db9e37;\" x=\"160.226782\" xlink:href=\"#m5426e16677\" y=\"49.502292\"/>\n",
       "    </g>\n",
       "   </g>\n",
       "   <g id=\"PathCollection_4\">\n",
       "    <defs>\n",
       "     <path d=\"M 0 2.5 \n",
       "C 0.663008 2.5 1.29895 2.236584 1.767767 1.767767 \n",
       "C 2.236584 1.29895 2.5 0.663008 2.5 0 \n",
       "C 2.5 -0.663008 2.236584 -1.29895 1.767767 -1.767767 \n",
       "C 1.29895 -2.236584 0.663008 -2.5 0 -2.5 \n",
       "C -0.663008 -2.5 -1.29895 -2.236584 -1.767767 -1.767767 \n",
       "C -2.236584 -1.29895 -2.5 -0.663008 -2.5 0 \n",
       "C -2.5 0.663008 -2.236584 1.29895 -1.767767 1.767767 \n",
       "C -1.29895 2.236584 -0.663008 2.5 0 2.5 \n",
       "z\n",
       "\" id=\"mc6162e1cb6\"/>\n",
       "    </defs>\n",
       "    <g clip-path=\"url(#p1a6c24d891)\">\n",
       "     <use style=\"fill:#bcaa36;\" x=\"147.372937\" xlink:href=\"#mc6162e1cb6\" y=\"60.528958\"/>\n",
       "    </g>\n",
       "   </g>\n",
       "   <g id=\"PathCollection_5\">\n",
       "    <defs>\n",
       "     <path d=\"M 0 2.5 \n",
       "C 0.663008 2.5 1.29895 2.236584 1.767767 1.767767 \n",
       "C 2.236584 1.29895 2.5 0.663008 2.5 0 \n",
       "C 2.5 -0.663008 2.236584 -1.29895 1.767767 -1.767767 \n",
       "C 1.29895 -2.236584 0.663008 -2.5 0 -2.5 \n",
       "C -0.663008 -2.5 -1.29895 -2.236584 -1.767767 -1.767767 \n",
       "C -2.236584 -1.29895 -2.5 -0.663008 -2.5 0 \n",
       "C -2.5 0.663008 -2.236584 1.29895 -1.767767 1.767767 \n",
       "C -1.29895 2.236584 -0.663008 2.5 0 2.5 \n",
       "z\n",
       "\" id=\"m945d9acbb4\"/>\n",
       "    </defs>\n",
       "    <g clip-path=\"url(#p1a6c24d891)\">\n",
       "     <use style=\"fill:#9ab436;\" x=\"137.312513\" xlink:href=\"#m945d9acbb4\" y=\"71.555625\"/>\n",
       "    </g>\n",
       "   </g>\n",
       "   <g id=\"PathCollection_6\">\n",
       "    <defs>\n",
       "     <path d=\"M 0 2.5 \n",
       "C 0.663008 2.5 1.29895 2.236584 1.767767 1.767767 \n",
       "C 2.236584 1.29895 2.5 0.663008 2.5 0 \n",
       "C 2.5 -0.663008 2.236584 -1.29895 1.767767 -1.767767 \n",
       "C 1.29895 -2.236584 0.663008 -2.5 0 -2.5 \n",
       "C -0.663008 -2.5 -1.29895 -2.236584 -1.767767 -1.767767 \n",
       "C -2.236584 -1.29895 -2.5 -0.663008 -2.5 0 \n",
       "C -2.5 0.663008 -2.236584 1.29895 -1.767767 1.767767 \n",
       "C -1.29895 2.236584 -0.663008 2.5 0 2.5 \n",
       "z\n",
       "\" id=\"md5fbd9c3c8\"/>\n",
       "    </defs>\n",
       "    <g clip-path=\"url(#p1a6c24d891)\">\n",
       "     <use style=\"fill:#57bf36;\" x=\"133.642857\" xlink:href=\"#md5fbd9c3c8\" y=\"82.582292\"/>\n",
       "    </g>\n",
       "   </g>\n",
       "   <g id=\"PathCollection_7\">\n",
       "    <defs>\n",
       "     <path d=\"M 0 2.5 \n",
       "C 0.663008 2.5 1.29895 2.236584 1.767767 1.767767 \n",
       "C 2.236584 1.29895 2.5 0.663008 2.5 0 \n",
       "C 2.5 -0.663008 2.236584 -1.29895 1.767767 -1.767767 \n",
       "C 1.29895 -2.236584 0.663008 -2.5 0 -2.5 \n",
       "C -0.663008 -2.5 -1.29895 -2.236584 -1.767767 -1.767767 \n",
       "C -2.236584 -1.29895 -2.5 -0.663008 -2.5 0 \n",
       "C -2.5 0.663008 -2.236584 1.29895 -1.767767 1.767767 \n",
       "C -1.29895 2.236584 -0.663008 2.5 0 2.5 \n",
       "z\n",
       "\" id=\"mf55a989001\"/>\n",
       "    </defs>\n",
       "    <g clip-path=\"url(#p1a6c24d891)\">\n",
       "     <use style=\"fill:#38bf85;\" x=\"120.192657\" xlink:href=\"#mf55a989001\" y=\"93.608958\"/>\n",
       "    </g>\n",
       "   </g>\n",
       "   <g id=\"PathCollection_8\">\n",
       "    <defs>\n",
       "     <path d=\"M 0 2.5 \n",
       "C 0.663008 2.5 1.29895 2.236584 1.767767 1.767767 \n",
       "C 2.236584 1.29895 2.5 0.663008 2.5 0 \n",
       "C 2.5 -0.663008 2.236584 -1.29895 1.767767 -1.767767 \n",
       "C 1.29895 -2.236584 0.663008 -2.5 0 -2.5 \n",
       "C -0.663008 -2.5 -1.29895 -2.236584 -1.767767 -1.767767 \n",
       "C -2.236584 -1.29895 -2.5 -0.663008 -2.5 0 \n",
       "C -2.5 0.663008 -2.236584 1.29895 -1.767767 1.767767 \n",
       "C -1.29895 2.236584 -0.663008 2.5 0 2.5 \n",
       "z\n",
       "\" id=\"mec3708bbb5\"/>\n",
       "    </defs>\n",
       "    <g clip-path=\"url(#p1a6c24d891)\">\n",
       "     <use style=\"fill:#3abca6;\" x=\"105.297928\" xlink:href=\"#mec3708bbb5\" y=\"104.635625\"/>\n",
       "    </g>\n",
       "   </g>\n",
       "   <g id=\"PathCollection_9\">\n",
       "    <defs>\n",
       "     <path d=\"M 0 2.5 \n",
       "C 0.663008 2.5 1.29895 2.236584 1.767767 1.767767 \n",
       "C 2.236584 1.29895 2.5 0.663008 2.5 0 \n",
       "C 2.5 -0.663008 2.236584 -1.29895 1.767767 -1.767767 \n",
       "C 1.29895 -2.236584 0.663008 -2.5 0 -2.5 \n",
       "C -0.663008 -2.5 -1.29895 -2.236584 -1.767767 -1.767767 \n",
       "C -2.236584 -1.29895 -2.5 -0.663008 -2.5 0 \n",
       "C -2.5 0.663008 -2.236584 1.29895 -1.767767 1.767767 \n",
       "C -1.29895 2.236584 -0.663008 2.5 0 2.5 \n",
       "z\n",
       "\" id=\"mecf17e0ec2\"/>\n",
       "    </defs>\n",
       "    <g clip-path=\"url(#p1a6c24d891)\">\n",
       "     <use style=\"fill:#3cbabd;\" x=\"103.268936\" xlink:href=\"#mecf17e0ec2\" y=\"115.662292\"/>\n",
       "    </g>\n",
       "   </g>\n",
       "   <g id=\"PathCollection_10\">\n",
       "    <defs>\n",
       "     <path d=\"M 0 2.5 \n",
       "C 0.663008 2.5 1.29895 2.236584 1.767767 1.767767 \n",
       "C 2.236584 1.29895 2.5 0.663008 2.5 0 \n",
       "C 2.5 -0.663008 2.236584 -1.29895 1.767767 -1.767767 \n",
       "C 1.29895 -2.236584 0.663008 -2.5 0 -2.5 \n",
       "C -0.663008 -2.5 -1.29895 -2.236584 -1.767767 -1.767767 \n",
       "C -2.236584 -1.29895 -2.5 -0.663008 -2.5 0 \n",
       "C -2.5 0.663008 -2.236584 1.29895 -1.767767 1.767767 \n",
       "C -1.29895 2.236584 -0.663008 2.5 0 2.5 \n",
       "z\n",
       "\" id=\"m2d1d4c9dd5\"/>\n",
       "    </defs>\n",
       "    <g clip-path=\"url(#p1a6c24d891)\">\n",
       "     <use style=\"fill:#3db7d6;\" x=\"102.363694\" xlink:href=\"#m2d1d4c9dd5\" y=\"126.688958\"/>\n",
       "    </g>\n",
       "   </g>\n",
       "   <g id=\"PathCollection_11\">\n",
       "    <defs>\n",
       "     <path d=\"M 0 2.5 \n",
       "C 0.663008 2.5 1.29895 2.236584 1.767767 1.767767 \n",
       "C 2.236584 1.29895 2.5 0.663008 2.5 0 \n",
       "C 2.5 -0.663008 2.236584 -1.29895 1.767767 -1.767767 \n",
       "C 1.29895 -2.236584 0.663008 -2.5 0 -2.5 \n",
       "C -0.663008 -2.5 -1.29895 -2.236584 -1.767767 -1.767767 \n",
       "C -2.236584 -1.29895 -2.5 -0.663008 -2.5 0 \n",
       "C -2.5 0.663008 -2.236584 1.29895 -1.767767 1.767767 \n",
       "C -1.29895 2.236584 -0.663008 2.5 0 2.5 \n",
       "z\n",
       "\" id=\"mc0f058940d\"/>\n",
       "    </defs>\n",
       "    <g clip-path=\"url(#p1a6c24d891)\">\n",
       "     <use style=\"fill:#59b0f6;\" x=\"101.202282\" xlink:href=\"#mc0f058940d\" y=\"137.715625\"/>\n",
       "    </g>\n",
       "   </g>\n",
       "   <g id=\"PathCollection_12\">\n",
       "    <defs>\n",
       "     <path d=\"M 0 2.5 \n",
       "C 0.663008 2.5 1.29895 2.236584 1.767767 1.767767 \n",
       "C 2.236584 1.29895 2.5 0.663008 2.5 0 \n",
       "C 2.5 -0.663008 2.236584 -1.29895 1.767767 -1.767767 \n",
       "C 1.29895 -2.236584 0.663008 -2.5 0 -2.5 \n",
       "C -0.663008 -2.5 -1.29895 -2.236584 -1.767767 -1.767767 \n",
       "C -2.236584 -1.29895 -2.5 -0.663008 -2.5 0 \n",
       "C -2.5 0.663008 -2.236584 1.29895 -1.767767 1.767767 \n",
       "C -1.29895 2.236584 -0.663008 2.5 0 2.5 \n",
       "z\n",
       "\" id=\"md4569c480e\"/>\n",
       "    </defs>\n",
       "    <g clip-path=\"url(#p1a6c24d891)\">\n",
       "     <use style=\"fill:#a3a0f6;\" x=\"95.610299\" xlink:href=\"#md4569c480e\" y=\"148.742292\"/>\n",
       "    </g>\n",
       "   </g>\n",
       "   <g id=\"PathCollection_13\">\n",
       "    <defs>\n",
       "     <path d=\"M 0 2.5 \n",
       "C 0.663008 2.5 1.29895 2.236584 1.767767 1.767767 \n",
       "C 2.236584 1.29895 2.5 0.663008 2.5 0 \n",
       "C 2.5 -0.663008 2.236584 -1.29895 1.767767 -1.767767 \n",
       "C 1.29895 -2.236584 0.663008 -2.5 0 -2.5 \n",
       "C -0.663008 -2.5 -1.29895 -2.236584 -1.767767 -1.767767 \n",
       "C -2.236584 -1.29895 -2.5 -0.663008 -2.5 0 \n",
       "C -2.5 0.663008 -2.236584 1.29895 -1.767767 1.767767 \n",
       "C -1.29895 2.236584 -0.663008 2.5 0 2.5 \n",
       "z\n",
       "\" id=\"m383a12507c\"/>\n",
       "    </defs>\n",
       "    <g clip-path=\"url(#p1a6c24d891)\">\n",
       "     <use style=\"fill:#d28ef6;\" x=\"78.051472\" xlink:href=\"#m383a12507c\" y=\"159.768958\"/>\n",
       "    </g>\n",
       "   </g>\n",
       "   <g id=\"PathCollection_14\">\n",
       "    <defs>\n",
       "     <path d=\"M 0 2.5 \n",
       "C 0.663008 2.5 1.29895 2.236584 1.767767 1.767767 \n",
       "C 2.236584 1.29895 2.5 0.663008 2.5 0 \n",
       "C 2.5 -0.663008 2.236584 -1.29895 1.767767 -1.767767 \n",
       "C 1.29895 -2.236584 0.663008 -2.5 0 -2.5 \n",
       "C -0.663008 -2.5 -1.29895 -2.236584 -1.767767 -1.767767 \n",
       "C -2.236584 -1.29895 -2.5 -0.663008 -2.5 0 \n",
       "C -2.5 0.663008 -2.236584 1.29895 -1.767767 1.767767 \n",
       "C -1.29895 2.236584 -0.663008 2.5 0 2.5 \n",
       "z\n",
       "\" id=\"m05499e5c27\"/>\n",
       "    </defs>\n",
       "    <g clip-path=\"url(#p1a6c24d891)\">\n",
       "     <use style=\"fill:#f67ce7;\" x=\"78.051472\" xlink:href=\"#m05499e5c27\" y=\"170.795625\"/>\n",
       "    </g>\n",
       "   </g>\n",
       "   <g id=\"PathCollection_15\">\n",
       "    <defs>\n",
       "     <path d=\"M 0 2.5 \n",
       "C 0.663008 2.5 1.29895 2.236584 1.767767 1.767767 \n",
       "C 2.236584 1.29895 2.5 0.663008 2.5 0 \n",
       "C 2.5 -0.663008 2.236584 -1.29895 1.767767 -1.767767 \n",
       "C 1.29895 -2.236584 0.663008 -2.5 0 -2.5 \n",
       "C -0.663008 -2.5 -1.29895 -2.236584 -1.767767 -1.767767 \n",
       "C -2.236584 -1.29895 -2.5 -0.663008 -2.5 0 \n",
       "C -2.5 0.663008 -2.236584 1.29895 -1.767767 1.767767 \n",
       "C -1.29895 2.236584 -0.663008 2.5 0 2.5 \n",
       "z\n",
       "\" id=\"m9d43aa0106\"/>\n",
       "    </defs>\n",
       "    <g clip-path=\"url(#p1a6c24d891)\">\n",
       "     <use style=\"fill:#f783c0;\" x=\"78.051472\" xlink:href=\"#m9d43aa0106\" y=\"181.822292\"/>\n",
       "    </g>\n",
       "   </g>\n",
       "   <g id=\"text_22\">\n",
       "    <!-- Proportion of articles marked fake -->\n",
       "    <g style=\"fill:#262626;\" transform=\"translate(67.365256 15.935625)scale(0.12 -0.12)\">\n",
       "     <defs>\n",
       "      <path d=\"M 7.71875 0 \n",
       "L 7.71875 71.578125 \n",
       "L 34.71875 71.578125 \n",
       "Q 41.84375 71.578125 45.609375 70.90625 \n",
       "Q 50.875 70.015625 54.4375 67.546875 \n",
       "Q 58.015625 65.09375 60.1875 60.640625 \n",
       "Q 62.359375 56.203125 62.359375 50.875 \n",
       "Q 62.359375 41.75 56.546875 35.421875 \n",
       "Q 50.734375 29.109375 35.546875 29.109375 \n",
       "L 17.1875 29.109375 \n",
       "L 17.1875 0 \n",
       "z\n",
       "M 17.1875 37.546875 \n",
       "L 35.6875 37.546875 \n",
       "Q 44.875 37.546875 48.734375 40.96875 \n",
       "Q 52.59375 44.390625 52.59375 50.59375 \n",
       "Q 52.59375 55.078125 50.3125 58.265625 \n",
       "Q 48.046875 61.46875 44.34375 62.5 \n",
       "Q 41.9375 63.140625 35.5 63.140625 \n",
       "L 17.1875 63.140625 \n",
       "z\n",
       "\" id=\"ArialMT-80\"/>\n",
       "      <path id=\"ArialMT-32\"/>\n",
       "     </defs>\n",
       "     <use xlink:href=\"#ArialMT-80\"/>\n",
       "     <use x=\"66.699219\" xlink:href=\"#ArialMT-114\"/>\n",
       "     <use x=\"100\" xlink:href=\"#ArialMT-111\"/>\n",
       "     <use x=\"155.615234\" xlink:href=\"#ArialMT-112\"/>\n",
       "     <use x=\"211.230469\" xlink:href=\"#ArialMT-111\"/>\n",
       "     <use x=\"266.845703\" xlink:href=\"#ArialMT-114\"/>\n",
       "     <use x=\"300.146484\" xlink:href=\"#ArialMT-116\"/>\n",
       "     <use x=\"327.929688\" xlink:href=\"#ArialMT-105\"/>\n",
       "     <use x=\"350.146484\" xlink:href=\"#ArialMT-111\"/>\n",
       "     <use x=\"405.761719\" xlink:href=\"#ArialMT-110\"/>\n",
       "     <use x=\"461.376953\" xlink:href=\"#ArialMT-32\"/>\n",
       "     <use x=\"489.160156\" xlink:href=\"#ArialMT-111\"/>\n",
       "     <use x=\"544.775391\" xlink:href=\"#ArialMT-102\"/>\n",
       "     <use x=\"572.558594\" xlink:href=\"#ArialMT-32\"/>\n",
       "     <use x=\"600.341797\" xlink:href=\"#ArialMT-97\"/>\n",
       "     <use x=\"655.957031\" xlink:href=\"#ArialMT-114\"/>\n",
       "     <use x=\"689.257812\" xlink:href=\"#ArialMT-116\"/>\n",
       "     <use x=\"717.041016\" xlink:href=\"#ArialMT-105\"/>\n",
       "     <use x=\"739.257812\" xlink:href=\"#ArialMT-99\"/>\n",
       "     <use x=\"789.257812\" xlink:href=\"#ArialMT-108\"/>\n",
       "     <use x=\"811.474609\" xlink:href=\"#ArialMT-101\"/>\n",
       "     <use x=\"867.089844\" xlink:href=\"#ArialMT-115\"/>\n",
       "     <use x=\"917.089844\" xlink:href=\"#ArialMT-32\"/>\n",
       "     <use x=\"944.873047\" xlink:href=\"#ArialMT-109\"/>\n",
       "     <use x=\"1028.173828\" xlink:href=\"#ArialMT-97\"/>\n",
       "     <use x=\"1083.789062\" xlink:href=\"#ArialMT-114\"/>\n",
       "     <use x=\"1117.089844\" xlink:href=\"#ArialMT-107\"/>\n",
       "     <use x=\"1167.089844\" xlink:href=\"#ArialMT-101\"/>\n",
       "     <use x=\"1222.705078\" xlink:href=\"#ArialMT-100\"/>\n",
       "     <use x=\"1278.320312\" xlink:href=\"#ArialMT-32\"/>\n",
       "     <use x=\"1306.103516\" xlink:href=\"#ArialMT-102\"/>\n",
       "     <use x=\"1333.886719\" xlink:href=\"#ArialMT-97\"/>\n",
       "     <use x=\"1389.501953\" xlink:href=\"#ArialMT-107\"/>\n",
       "     <use x=\"1439.501953\" xlink:href=\"#ArialMT-101\"/>\n",
       "    </g>\n",
       "   </g>\n",
       "  </g>\n",
       "  <g id=\"axes_2\">\n",
       "   <g id=\"patch_5\">\n",
       "    <path d=\"M 256.467614 187.335625 \n",
       "L 430.3 187.335625 \n",
       "L 430.3 21.935625 \n",
       "L 256.467614 21.935625 \n",
       "z\n",
       "\" style=\"fill:#ffffff;\"/>\n",
       "   </g>\n",
       "   <g id=\"matplotlib.axis_3\">\n",
       "    <g id=\"xtick_6\">\n",
       "     <g id=\"line2d_22\">\n",
       "      <path clip-path=\"url(#pd82be2a6ce)\" d=\"M 263.779424 187.335625 \n",
       "L 263.779424 21.935625 \n",
       "\" style=\"fill:none;stroke:#cccccc;stroke-linecap:round;stroke-width:0.8;\"/>\n",
       "     </g>\n",
       "     <g id=\"text_23\">\n",
       "      <!-- 0 -->\n",
       "      <g style=\"fill:#262626;\" transform=\"translate(260.998955 201.493438)scale(0.1 -0.1)\">\n",
       "       <use xlink:href=\"#ArialMT-48\"/>\n",
       "      </g>\n",
       "     </g>\n",
       "    </g>\n",
       "    <g id=\"xtick_7\">\n",
       "     <g id=\"line2d_23\">\n",
       "      <path clip-path=\"url(#pd82be2a6ce)\" d=\"M 322.745633 187.335625 \n",
       "L 322.745633 21.935625 \n",
       "\" style=\"fill:none;stroke:#cccccc;stroke-linecap:round;stroke-width:0.8;\"/>\n",
       "     </g>\n",
       "     <g id=\"text_24\">\n",
       "      <!-- 200 -->\n",
       "      <g style=\"fill:#262626;\" transform=\"translate(314.404227 201.493438)scale(0.1 -0.1)\">\n",
       "       <use xlink:href=\"#ArialMT-50\"/>\n",
       "       <use x=\"55.615234\" xlink:href=\"#ArialMT-48\"/>\n",
       "       <use x=\"111.230469\" xlink:href=\"#ArialMT-48\"/>\n",
       "      </g>\n",
       "     </g>\n",
       "    </g>\n",
       "    <g id=\"xtick_8\">\n",
       "     <g id=\"line2d_24\">\n",
       "      <path clip-path=\"url(#pd82be2a6ce)\" d=\"M 381.711843 187.335625 \n",
       "L 381.711843 21.935625 \n",
       "\" style=\"fill:none;stroke:#cccccc;stroke-linecap:round;stroke-width:0.8;\"/>\n",
       "     </g>\n",
       "     <g id=\"text_25\">\n",
       "      <!-- 400 -->\n",
       "      <g style=\"fill:#262626;\" transform=\"translate(373.370437 201.493438)scale(0.1 -0.1)\">\n",
       "       <defs>\n",
       "        <path d=\"M 32.328125 0 \n",
       "L 32.328125 17.140625 \n",
       "L 1.265625 17.140625 \n",
       "L 1.265625 25.203125 \n",
       "L 33.9375 71.578125 \n",
       "L 41.109375 71.578125 \n",
       "L 41.109375 25.203125 \n",
       "L 50.78125 25.203125 \n",
       "L 50.78125 17.140625 \n",
       "L 41.109375 17.140625 \n",
       "L 41.109375 0 \n",
       "z\n",
       "M 32.328125 25.203125 \n",
       "L 32.328125 57.46875 \n",
       "L 9.90625 25.203125 \n",
       "z\n",
       "\" id=\"ArialMT-52\"/>\n",
       "       </defs>\n",
       "       <use xlink:href=\"#ArialMT-52\"/>\n",
       "       <use x=\"55.615234\" xlink:href=\"#ArialMT-48\"/>\n",
       "       <use x=\"111.230469\" xlink:href=\"#ArialMT-48\"/>\n",
       "      </g>\n",
       "     </g>\n",
       "    </g>\n",
       "   </g>\n",
       "   <g id=\"matplotlib.axis_4\">\n",
       "    <g id=\"ytick_16\">\n",
       "     <g id=\"line2d_25\">\n",
       "      <path clip-path=\"url(#pd82be2a6ce)\" d=\"M 256.467614 27.448958 \n",
       "L 430.3 27.448958 \n",
       "\" style=\"fill:none;stroke:#cccccc;stroke-linecap:round;stroke-width:0.8;\"/>\n",
       "     </g>\n",
       "    </g>\n",
       "    <g id=\"ytick_17\">\n",
       "     <g id=\"line2d_26\">\n",
       "      <path clip-path=\"url(#pd82be2a6ce)\" d=\"M 256.467614 38.475625 \n",
       "L 430.3 38.475625 \n",
       "\" style=\"fill:none;stroke:#cccccc;stroke-linecap:round;stroke-width:0.8;\"/>\n",
       "     </g>\n",
       "    </g>\n",
       "    <g id=\"ytick_18\">\n",
       "     <g id=\"line2d_27\">\n",
       "      <path clip-path=\"url(#pd82be2a6ce)\" d=\"M 256.467614 49.502292 \n",
       "L 430.3 49.502292 \n",
       "\" style=\"fill:none;stroke:#cccccc;stroke-linecap:round;stroke-width:0.8;\"/>\n",
       "     </g>\n",
       "    </g>\n",
       "    <g id=\"ytick_19\">\n",
       "     <g id=\"line2d_28\">\n",
       "      <path clip-path=\"url(#pd82be2a6ce)\" d=\"M 256.467614 60.528958 \n",
       "L 430.3 60.528958 \n",
       "\" style=\"fill:none;stroke:#cccccc;stroke-linecap:round;stroke-width:0.8;\"/>\n",
       "     </g>\n",
       "    </g>\n",
       "    <g id=\"ytick_20\">\n",
       "     <g id=\"line2d_29\">\n",
       "      <path clip-path=\"url(#pd82be2a6ce)\" d=\"M 256.467614 71.555625 \n",
       "L 430.3 71.555625 \n",
       "\" style=\"fill:none;stroke:#cccccc;stroke-linecap:round;stroke-width:0.8;\"/>\n",
       "     </g>\n",
       "    </g>\n",
       "    <g id=\"ytick_21\">\n",
       "     <g id=\"line2d_30\">\n",
       "      <path clip-path=\"url(#pd82be2a6ce)\" d=\"M 256.467614 82.582292 \n",
       "L 430.3 82.582292 \n",
       "\" style=\"fill:none;stroke:#cccccc;stroke-linecap:round;stroke-width:0.8;\"/>\n",
       "     </g>\n",
       "    </g>\n",
       "    <g id=\"ytick_22\">\n",
       "     <g id=\"line2d_31\">\n",
       "      <path clip-path=\"url(#pd82be2a6ce)\" d=\"M 256.467614 93.608958 \n",
       "L 430.3 93.608958 \n",
       "\" style=\"fill:none;stroke:#cccccc;stroke-linecap:round;stroke-width:0.8;\"/>\n",
       "     </g>\n",
       "    </g>\n",
       "    <g id=\"ytick_23\">\n",
       "     <g id=\"line2d_32\">\n",
       "      <path clip-path=\"url(#pd82be2a6ce)\" d=\"M 256.467614 104.635625 \n",
       "L 430.3 104.635625 \n",
       "\" style=\"fill:none;stroke:#cccccc;stroke-linecap:round;stroke-width:0.8;\"/>\n",
       "     </g>\n",
       "    </g>\n",
       "    <g id=\"ytick_24\">\n",
       "     <g id=\"line2d_33\">\n",
       "      <path clip-path=\"url(#pd82be2a6ce)\" d=\"M 256.467614 115.662292 \n",
       "L 430.3 115.662292 \n",
       "\" style=\"fill:none;stroke:#cccccc;stroke-linecap:round;stroke-width:0.8;\"/>\n",
       "     </g>\n",
       "    </g>\n",
       "    <g id=\"ytick_25\">\n",
       "     <g id=\"line2d_34\">\n",
       "      <path clip-path=\"url(#pd82be2a6ce)\" d=\"M 256.467614 126.688958 \n",
       "L 430.3 126.688958 \n",
       "\" style=\"fill:none;stroke:#cccccc;stroke-linecap:round;stroke-width:0.8;\"/>\n",
       "     </g>\n",
       "    </g>\n",
       "    <g id=\"ytick_26\">\n",
       "     <g id=\"line2d_35\">\n",
       "      <path clip-path=\"url(#pd82be2a6ce)\" d=\"M 256.467614 137.715625 \n",
       "L 430.3 137.715625 \n",
       "\" style=\"fill:none;stroke:#cccccc;stroke-linecap:round;stroke-width:0.8;\"/>\n",
       "     </g>\n",
       "    </g>\n",
       "    <g id=\"ytick_27\">\n",
       "     <g id=\"line2d_36\">\n",
       "      <path clip-path=\"url(#pd82be2a6ce)\" d=\"M 256.467614 148.742292 \n",
       "L 430.3 148.742292 \n",
       "\" style=\"fill:none;stroke:#cccccc;stroke-linecap:round;stroke-width:0.8;\"/>\n",
       "     </g>\n",
       "    </g>\n",
       "    <g id=\"ytick_28\">\n",
       "     <g id=\"line2d_37\">\n",
       "      <path clip-path=\"url(#pd82be2a6ce)\" d=\"M 256.467614 159.768958 \n",
       "L 430.3 159.768958 \n",
       "\" style=\"fill:none;stroke:#cccccc;stroke-linecap:round;stroke-width:0.8;\"/>\n",
       "     </g>\n",
       "    </g>\n",
       "    <g id=\"ytick_29\">\n",
       "     <g id=\"line2d_38\">\n",
       "      <path clip-path=\"url(#pd82be2a6ce)\" d=\"M 256.467614 170.795625 \n",
       "L 430.3 170.795625 \n",
       "\" style=\"fill:none;stroke:#cccccc;stroke-linecap:round;stroke-width:0.8;\"/>\n",
       "     </g>\n",
       "    </g>\n",
       "    <g id=\"ytick_30\">\n",
       "     <g id=\"line2d_39\">\n",
       "      <path clip-path=\"url(#pd82be2a6ce)\" d=\"M 256.467614 181.822292 \n",
       "L 430.3 181.822292 \n",
       "\" style=\"fill:none;stroke:#cccccc;stroke-linecap:round;stroke-width:0.8;\"/>\n",
       "     </g>\n",
       "    </g>\n",
       "   </g>\n",
       "   <g id=\"patch_6\">\n",
       "    <path d=\"M 256.467614 187.335625 \n",
       "L 256.467614 21.935625 \n",
       "\" style=\"fill:none;stroke:#cccccc;stroke-linecap:square;stroke-linejoin:miter;stroke-width:0.8;\"/>\n",
       "   </g>\n",
       "   <g id=\"patch_7\">\n",
       "    <path d=\"M 256.467614 187.335625 \n",
       "L 430.3 187.335625 \n",
       "\" style=\"fill:none;stroke:#cccccc;stroke-linecap:square;stroke-linejoin:miter;stroke-width:0.8;\"/>\n",
       "   </g>\n",
       "   <g id=\"PathCollection_16\">\n",
       "    <g clip-path=\"url(#pd82be2a6ce)\">\n",
       "     <use style=\"fill:#f8889a;\" x=\"264.369086\" xlink:href=\"#m0127e6667d\" y=\"27.448958\"/>\n",
       "    </g>\n",
       "   </g>\n",
       "   <g id=\"PathCollection_17\">\n",
       "    <g clip-path=\"url(#pd82be2a6ce)\">\n",
       "     <use style=\"fill:#f88d5d;\" x=\"269.381214\" xlink:href=\"#m943a5dcf19\" y=\"38.475625\"/>\n",
       "    </g>\n",
       "   </g>\n",
       "   <g id=\"PathCollection_18\">\n",
       "    <g clip-path=\"url(#pd82be2a6ce)\">\n",
       "     <use style=\"fill:#db9e37;\" x=\"285.891752\" xlink:href=\"#m5426e16677\" y=\"49.502292\"/>\n",
       "    </g>\n",
       "   </g>\n",
       "   <g id=\"PathCollection_19\">\n",
       "    <g clip-path=\"url(#pd82be2a6ce)\">\n",
       "     <use style=\"fill:#bcaa36;\" x=\"422.398528\" xlink:href=\"#mc6162e1cb6\" y=\"60.528958\"/>\n",
       "    </g>\n",
       "   </g>\n",
       "   <g id=\"PathCollection_20\">\n",
       "    <g clip-path=\"url(#pd82be2a6ce)\">\n",
       "     <use style=\"fill:#9ab436;\" x=\"266.138072\" xlink:href=\"#m945d9acbb4\" y=\"71.555625\"/>\n",
       "    </g>\n",
       "   </g>\n",
       "   <g id=\"PathCollection_21\">\n",
       "    <g clip-path=\"url(#pd82be2a6ce)\">\n",
       "     <use style=\"fill:#57bf36;\" x=\"338.371679\" xlink:href=\"#md5fbd9c3c8\" y=\"82.582292\"/>\n",
       "    </g>\n",
       "   </g>\n",
       "   <g id=\"PathCollection_22\">\n",
       "    <g clip-path=\"url(#pd82be2a6ce)\">\n",
       "     <use style=\"fill:#38bf85;\" x=\"268.201889\" xlink:href=\"#mf55a989001\" y=\"93.608958\"/>\n",
       "    </g>\n",
       "   </g>\n",
       "   <g id=\"PathCollection_23\">\n",
       "    <g clip-path=\"url(#pd82be2a6ce)\">\n",
       "     <use style=\"fill:#3abca6;\" x=\"280.879624\" xlink:href=\"#mec3708bbb5\" y=\"104.635625\"/>\n",
       "    </g>\n",
       "   </g>\n",
       "   <g id=\"PathCollection_24\">\n",
       "    <g clip-path=\"url(#pd82be2a6ce)\">\n",
       "     <use style=\"fill:#3cbabd;\" x=\"291.493542\" xlink:href=\"#mecf17e0ec2\" y=\"115.662292\"/>\n",
       "    </g>\n",
       "   </g>\n",
       "   <g id=\"PathCollection_25\">\n",
       "    <g clip-path=\"url(#pd82be2a6ce)\">\n",
       "     <use style=\"fill:#3db7d6;\" x=\"282.943442\" xlink:href=\"#m2d1d4c9dd5\" y=\"126.688958\"/>\n",
       "    </g>\n",
       "   </g>\n",
       "   <g id=\"PathCollection_26\">\n",
       "    <g clip-path=\"url(#pd82be2a6ce)\">\n",
       "     <use style=\"fill:#59b0f6;\" x=\"310.067898\" xlink:href=\"#mc0f058940d\" y=\"137.715625\"/>\n",
       "    </g>\n",
       "   </g>\n",
       "   <g id=\"PathCollection_27\">\n",
       "    <g clip-path=\"url(#pd82be2a6ce)\">\n",
       "     <use style=\"fill:#a3a0f6;\" x=\"266.432903\" xlink:href=\"#md4569c480e\" y=\"148.742292\"/>\n",
       "    </g>\n",
       "   </g>\n",
       "   <g id=\"PathCollection_28\">\n",
       "    <g clip-path=\"url(#pd82be2a6ce)\">\n",
       "     <use style=\"fill:#d28ef6;\" x=\"265.253579\" xlink:href=\"#m383a12507c\" y=\"159.768958\"/>\n",
       "    </g>\n",
       "   </g>\n",
       "   <g id=\"PathCollection_29\">\n",
       "    <g clip-path=\"url(#pd82be2a6ce)\">\n",
       "     <use style=\"fill:#f67ce7;\" x=\"264.958748\" xlink:href=\"#m05499e5c27\" y=\"170.795625\"/>\n",
       "    </g>\n",
       "   </g>\n",
       "   <g id=\"PathCollection_30\">\n",
       "    <g clip-path=\"url(#pd82be2a6ce)\">\n",
       "     <use style=\"fill:#f783c0;\" x=\"264.958748\" xlink:href=\"#m9d43aa0106\" y=\"181.822292\"/>\n",
       "    </g>\n",
       "   </g>\n",
       "   <g id=\"text_26\">\n",
       "    <!-- Number of articles with word -->\n",
       "    <g style=\"fill:#262626;\" transform=\"translate(267.696619 15.935625)scale(0.12 -0.12)\">\n",
       "     <defs>\n",
       "      <path d=\"M 7.625 0 \n",
       "L 7.625 71.578125 \n",
       "L 17.328125 71.578125 \n",
       "L 54.9375 15.375 \n",
       "L 54.9375 71.578125 \n",
       "L 64.015625 71.578125 \n",
       "L 64.015625 0 \n",
       "L 54.296875 0 \n",
       "L 16.703125 56.25 \n",
       "L 16.703125 0 \n",
       "z\n",
       "\" id=\"ArialMT-78\"/>\n",
       "      <path d=\"M 14.703125 0 \n",
       "L 6.546875 0 \n",
       "L 6.546875 71.578125 \n",
       "L 15.328125 71.578125 \n",
       "L 15.328125 46.046875 \n",
       "Q 20.90625 53.03125 29.546875 53.03125 \n",
       "Q 34.328125 53.03125 38.59375 51.09375 \n",
       "Q 42.875 49.171875 45.625 45.671875 \n",
       "Q 48.390625 42.1875 49.953125 37.25 \n",
       "Q 51.515625 32.328125 51.515625 26.703125 \n",
       "Q 51.515625 13.375 44.921875 6.09375 \n",
       "Q 38.328125 -1.171875 29.109375 -1.171875 \n",
       "Q 19.921875 -1.171875 14.703125 6.5 \n",
       "z\n",
       "M 14.59375 26.3125 \n",
       "Q 14.59375 17 17.140625 12.84375 \n",
       "Q 21.296875 6.0625 28.375 6.0625 \n",
       "Q 34.125 6.0625 38.328125 11.0625 \n",
       "Q 42.53125 16.0625 42.53125 25.984375 \n",
       "Q 42.53125 36.140625 38.5 40.96875 \n",
       "Q 34.46875 45.796875 28.765625 45.796875 \n",
       "Q 23 45.796875 18.796875 40.796875 \n",
       "Q 14.59375 35.796875 14.59375 26.3125 \n",
       "z\n",
       "\" id=\"ArialMT-98\"/>\n",
       "     </defs>\n",
       "     <use xlink:href=\"#ArialMT-78\"/>\n",
       "     <use x=\"72.216797\" xlink:href=\"#ArialMT-117\"/>\n",
       "     <use x=\"127.832031\" xlink:href=\"#ArialMT-109\"/>\n",
       "     <use x=\"211.132812\" xlink:href=\"#ArialMT-98\"/>\n",
       "     <use x=\"266.748047\" xlink:href=\"#ArialMT-101\"/>\n",
       "     <use x=\"322.363281\" xlink:href=\"#ArialMT-114\"/>\n",
       "     <use x=\"355.664062\" xlink:href=\"#ArialMT-32\"/>\n",
       "     <use x=\"383.447266\" xlink:href=\"#ArialMT-111\"/>\n",
       "     <use x=\"439.0625\" xlink:href=\"#ArialMT-102\"/>\n",
       "     <use x=\"466.845703\" xlink:href=\"#ArialMT-32\"/>\n",
       "     <use x=\"494.628906\" xlink:href=\"#ArialMT-97\"/>\n",
       "     <use x=\"550.244141\" xlink:href=\"#ArialMT-114\"/>\n",
       "     <use x=\"583.544922\" xlink:href=\"#ArialMT-116\"/>\n",
       "     <use x=\"611.328125\" xlink:href=\"#ArialMT-105\"/>\n",
       "     <use x=\"633.544922\" xlink:href=\"#ArialMT-99\"/>\n",
       "     <use x=\"683.544922\" xlink:href=\"#ArialMT-108\"/>\n",
       "     <use x=\"705.761719\" xlink:href=\"#ArialMT-101\"/>\n",
       "     <use x=\"761.376953\" xlink:href=\"#ArialMT-115\"/>\n",
       "     <use x=\"811.376953\" xlink:href=\"#ArialMT-32\"/>\n",
       "     <use x=\"839.160156\" xlink:href=\"#ArialMT-119\"/>\n",
       "     <use x=\"911.376953\" xlink:href=\"#ArialMT-105\"/>\n",
       "     <use x=\"933.59375\" xlink:href=\"#ArialMT-116\"/>\n",
       "     <use x=\"961.376953\" xlink:href=\"#ArialMT-104\"/>\n",
       "     <use x=\"1016.992188\" xlink:href=\"#ArialMT-32\"/>\n",
       "     <use x=\"1044.775391\" xlink:href=\"#ArialMT-119\"/>\n",
       "     <use x=\"1116.992188\" xlink:href=\"#ArialMT-111\"/>\n",
       "     <use x=\"1172.607422\" xlink:href=\"#ArialMT-114\"/>\n",
       "     <use x=\"1205.908203\" xlink:href=\"#ArialMT-100\"/>\n",
       "    </g>\n",
       "   </g>\n",
       "  </g>\n",
       " </g>\n",
       " <defs>\n",
       "  <clipPath id=\"p1a6c24d891\">\n",
       "   <rect height=\"165.4\" width=\"173.832386\" x=\"70.15\" y=\"21.935625\"/>\n",
       "  </clipPath>\n",
       "  <clipPath id=\"pd82be2a6ce\">\n",
       "   <rect height=\"165.4\" width=\"173.832386\" x=\"256.467614\" y=\"21.935625\"/>\n",
       "  </clipPath>\n",
       " </defs>\n",
       "</svg>\n"
      ],
      "text/plain": [
       "<Figure size 432x216 with 2 Axes>"
      ]
     },
     "metadata": {},
     "output_type": "display_data"
    }
   ],
   "source": [
    "fake_props = (make_word_features(X_train, word_features)\n",
    " .assign(label=(y_train == 1))\n",
    " .melt(id_vars=['label'], var_name='word', value_name='appeared')\n",
    " .query('appeared == True')\n",
    " .groupby('word')\n",
    " ['label']\n",
    " .agg(['mean', 'count'])\n",
    " .rename(columns={'mean': 'prop_fake'})\n",
    " .sort_values('prop_fake', ascending=False)\n",
    " .reset_index()\n",
    " .melt(id_vars='word')\n",
    ")\n",
    "\n",
    "g = sns.catplot(data=fake_props, x='value', y='word', col='variable',\n",
    "                s=5, jitter=False, sharex=False, height=3)\n",
    "\n",
    "[[prop_ax, _]] = g.axes\n",
    "prop_ax.axvline(0.45, linestyle='--')\n",
    "prop_ax.set(xlim=(-0.05, 1.05))\n",
    "\n",
    "titles = ['Proportion of articles marked fake', 'Number of articles with word']\n",
    "\n",
    "for ax, title in zip(g.axes.flat, titles):\n",
    "    # Set a different title for each axes\n",
    "    ax.set(title=title)\n",
    "    ax.set(xlabel=None)\n",
    "    ax.yaxis.grid(True);"
   ]
  },
  {
   "cell_type": "markdown",
   "metadata": {},
   "source": [
    "This plot reveals a few interesting considerations for modeling.\n",
    "For example, notice that the word _antifa_ is highly predictive---all articles that mention the word _antifa_ are labeled `fake`. However, _antifa_ only appears in a few articles. On the other hand, the word _the_ appears in nearly every article, but is uninformative for distinguishing between `real` and `fake` articles because the proportion of articles with _the_ that are fake matches the proportion of fake articles overall. We might instead do better with a word like _vote_, which is predictive and appears in many news articles."
   ]
  },
  {
   "cell_type": "markdown",
   "metadata": {},
   "source": [
    "This exploratory analysis brought us understanding of the time frame that our news articles were published, the broad range of publishing websites captured in the data, and candidate words to use for prediction. Next, we fit models for predicting whether articles are fake or real."
   ]
  },
  {
   "cell_type": "code",
   "execution_count": null,
   "metadata": {},
   "outputs": [],
   "source": []
  }
 ],
 "metadata": {
  "celltoolbar": "Tags",
  "kernelspec": {
   "display_name": "Python 3",
   "language": "python",
   "name": "python3"
  },
  "language_info": {
   "codemirror_mode": {
    "name": "ipython",
    "version": 3
   },
   "file_extension": ".py",
   "mimetype": "text/x-python",
   "name": "python",
   "nbconvert_exporter": "python",
   "pygments_lexer": "ipython3",
   "version": "3.9.4"
  }
 },
 "nbformat": 4,
 "nbformat_minor": 4
}
