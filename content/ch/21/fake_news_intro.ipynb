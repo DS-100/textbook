{
 "cells": [
  {
   "cell_type": "code",
   "execution_count": null,
   "metadata": {
    "tags": [
     "remove-cell"
    ]
   },
   "outputs": [],
   "source": [
    "import sys\n",
    "import os\n",
    "if not any(path.endswith('textbook') for path in sys.path):\n",
    "    sys.path.append(os.path.abspath('../../..'))\n",
    "from textbook_utils import *"
   ]
  },
  {
   "cell_type": "markdown",
   "metadata": {},
   "source": [
    "(ch:fake_news)=\n",
    "# Case Study: Detecting Fake News"
   ]
  },
  {
   "cell_type": "markdown",
   "metadata": {},
   "source": [
    ":::{note}\n",
    "\n",
    "This chapter is under development. When it's finished, this note will be\n",
    "removed.\n",
    "\n",
    ":::"
   ]
  },
  {
   "cell_type": "markdown",
   "metadata": {},
   "source": [
    "Fake news---false information created in order to deceive others---is an\n",
    "important issue because it can harm people.\n",
    "For example, the social media post in\n",
    "{numref}`Figure %s <fig:dont-use-sanitizer>`\n",
    "confidently stated that hand sanitizer doesn't work on coronaviruses.\n",
    "Though factually incorrect, it spread through social media anyway:\n",
    "it was shared nearly 100,000 times and was likely seen by millions of people."
   ]
  },
  {
   "cell_type": "markdown",
   "metadata": {},
   "source": [
    "```{figure} figures/dont-use-sanitizer.png\n",
    "---\n",
    "name: fig:dont-use-sanitizer\n",
    "scale: 40%\n",
    "---\n",
    "\n",
    "A popular post on Twitter from March 2020 falsely claimed that sanitizer doesn't kill coronavirus.\n",
    "```"
   ]
  },
  {
   "cell_type": "markdown",
   "metadata": {},
   "source": [
    "**Can we create models to automatically detect fake news?**\n",
    "In this case study, we'll use logistic regression \n",
    "to predict whether news articles are real or fake.\n",
    "As usual, we'll go through the steps of the data science lifecycle.\n",
    "We'll start by refining our research question and obtaining a dataset of news\n",
    "articles and labels.\n",
    "Then, we'll wrangle and transform the data.\n",
    "Next, we'll explore the data to understand its content and\n",
    "devise features that we can use for modeling.\n",
    "Finally, we'll fit logistic regression models and evaluate their performance."
   ]
  },
  {
   "cell_type": "markdown",
   "metadata": {},
   "source": [
    "We've included this case study because it lets us reiterate several important\n",
    "ideas in data science.\n",
    "First, natural language data appear often, and even basic techniques can enable\n",
    "interesting analyses.\n",
    "Second, model selection is an important part of data analysis, and this case\n",
    "study lets us apply what we've learned about cross-validation and the bias-variance tradeoff.\n",
    "Finally, even models that perform well on the test set might have inherent\n",
    "limitations when we try to use them in practice, as we'll soon see."
   ]
  },
  {
   "cell_type": "markdown",
   "metadata": {},
   "source": [
    "Let's start by refining our research question and understanding the scope of\n",
    "our data."
   ]
  }
 ],
 "metadata": {
  "celltoolbar": "Tags",
  "kernelspec": {
   "display_name": "Python 3",
   "language": "python",
   "name": "python3"
  },
  "language_info": {
   "codemirror_mode": {
    "name": "ipython",
    "version": 3
   },
   "file_extension": ".py",
   "mimetype": "text/x-python",
   "name": "python",
   "nbconvert_exporter": "python",
   "pygments_lexer": "ipython3",
   "version": "3.9.4"
  }
 },
 "nbformat": 4,
 "nbformat_minor": 4
}
