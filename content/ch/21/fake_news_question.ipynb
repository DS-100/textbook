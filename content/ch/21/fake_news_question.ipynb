{
 "cells": [
  {
   "cell_type": "code",
   "execution_count": 1,
   "metadata": {
    "tags": [
     "remove-cell"
    ]
   },
   "outputs": [],
   "source": [
    "import sys\n",
    "import os\n",
    "if not any(path.endswith('textbook') for path in sys.path):\n",
    "    sys.path.append(os.path.abspath('../../..'))\n",
    "from textbook_utils import *"
   ]
  },
  {
   "cell_type": "markdown",
   "metadata": {},
   "source": [
    "(sec:fake_news_question)=\n",
    "# Question and Scope"
   ]
  },
  {
   "cell_type": "markdown",
   "metadata": {},
   "source": [
    "Our initial research question is: can we automatically detect fake news? To refine this question, we consider the kind of information that we might use to build a model for detecting fake news. If we have hand-classified news stories where people have read each story and determined whether it is fake or not, then our question becomes: can we build a model to accurately predict whether a news story is fake based on its content?   "
   ]
  },
  {
   "cell_type": "markdown",
   "metadata": {},
   "source": [
    "To address this question, we can use the FakeNewsNet data repository as described in [Shu et al](https://arxiv.org/abs/1809.01286). This repository contains content from news and social media websites, as well as metadata like user engagement metrics.\n",
    "For simplicity, we only look at the dataset's political news articles.\n",
    "This subset of the data includes only articles that\n",
    "were fact-checked by [Politifact](https://www.politifact.com/), a\n",
    "non-partisan organization with a good reputation.\n",
    "Each article in the dataset has a \"real\" or \"fake\" label based\n",
    "on the Politifact's evaluation, which we use as the ground truth. "
   ]
  },
  {
   "cell_type": "markdown",
   "metadata": {},
   "source": [
    "Politifact uses a non-random sampling method to select articles to fact-check. According to their website, their journalists select the \"most newsworthy and significant\" claims each day. Politifact started in 2007 and the repository was published in 2020, so most of the articles were published between 2007 and 2020."
   ]
  },
  {
   "cell_type": "markdown",
   "metadata": {},
   "source": [
    "Summarizing this information, we determine that the target population consists of all political news stories published online in the time period from 2007 to 2020 (we would also want to list the sources of the stories). The access frame is determined by Politifact's identification of the most newsworthy claims of the day. So, the main sources of bias for this data include:  "
   ]
  },
  {
   "cell_type": "markdown",
   "metadata": {},
   "source": [
    "- coverage bias: The news outlets are limited to those Politifact monitored, which may miss arcane or short-lived sites. Also since we have only articles published between 2007 and 2020, there is likely to be drift in the content. After all, the notion of fake news has evolved rapidly in the past 15 years.    \n",
    "\n",
    "- selection bias: The data are limited to articles Politifact decided were interesting enough to fact-check, which means that articles might skew towards ones that are both widely shared and controversial.\n",
    "\n",
    "- measurement bias: The labels fake/real are determined by one organization (Politifact), and reflects the biases, unintentional or otherwise, that the organization has in its fact-checking methodology."
   ]
  },
  {
   "cell_type": "markdown",
   "metadata": {},
   "source": [
    "We will keep these limitations of the data in mind as we begin to wrangle it into a form that we can analyze.   "
   ]
  },
  {
   "cell_type": "code",
   "execution_count": null,
   "metadata": {},
   "outputs": [],
   "source": []
  }
 ],
 "metadata": {
  "celltoolbar": "Tags",
  "kernelspec": {
   "display_name": "Python 3",
   "language": "python",
   "name": "python3"
  },
  "language_info": {
   "codemirror_mode": {
    "name": "ipython",
    "version": 3
   },
   "file_extension": ".py",
   "mimetype": "text/x-python",
   "name": "python",
   "nbconvert_exporter": "python",
   "pygments_lexer": "ipython3",
   "version": "3.9.4"
  }
 },
 "nbformat": 4,
 "nbformat_minor": 4
}
