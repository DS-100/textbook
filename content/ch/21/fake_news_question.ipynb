{
 "cells": [
  {
   "cell_type": "code",
   "execution_count": 1,
   "metadata": {
    "tags": [
     "remove-cell"
    ]
   },
   "outputs": [],
   "source": [
    "import sys\n",
    "import os\n",
    "if not any(path.endswith('textbook') for path in sys.path):\n",
    "    sys.path.append(os.path.abspath('../../..'))\n",
    "from textbook_utils import *"
   ]
  },
  {
   "cell_type": "markdown",
   "metadata": {},
   "source": [
    "(sec:fake_news_question)=\n",
    "# Question and Scope"
   ]
  },
  {
   "cell_type": "markdown",
   "metadata": {},
   "source": [
    "Our initial research question is:\n",
    "can we create models to automatically detect fake news?"
   ]
  },
  {
   "cell_type": "markdown",
   "metadata": {},
   "source": [
    "To address this question, we'll use the FakeNewsNet dataset \n",
    "{cite}`shuFakenewsnet2020`. This dataset contains content from news and\n",
    "social media websites, as well as metadata like user engagement metrics.\n",
    "For simplicity, we'll only look at the dataset's political news articles.\n",
    "The dataset only includes articles that\n",
    "were fact-checked by [Politifact][politifact], a\n",
    "non-partisan organization with a good reputation.\n",
    "Each article in the FakeNewsNet dataset has a \"real\" or \"fake\" label based\n",
    "on the Politifact's evaluation, which we'll use as the ground truth for whether\n",
    "an article is true or false.\n",
    "\n",
    "[politifact]: https://www.politifact.com/"
   ]
  },
  {
   "cell_type": "markdown",
   "metadata": {},
   "source": [
    "Note that Politifact uses a non-random sampling method to select articles to fact-check. According to their website, their journalists select the \"most newsworthy and significant\" claims each day. Since Politifact started in 2007,\n",
    "all of the articles in the dataset were published between 2007 and 2022."
   ]
  },
  {
   "cell_type": "markdown",
   "metadata": {},
   "source": [
    "With this in mind, the main sources of bias for this data include:\n",
    "\n",
    "- coverage and selection bias: The data is limited to the articles Politifact decided were interesting enough to fact-check, which means that articles might skew towards ones that were both widely shared and controversial.\n",
    "\n",
    "- label bias: The data labels only come from one organization (Politifact), which means that they also reflect the biases that the organization has in its fact-checking methodology."
   ]
  }
 ],
 "metadata": {
  "celltoolbar": "Tags",
  "kernelspec": {
   "display_name": "Python 3",
   "language": "python",
   "name": "python3"
  },
  "language_info": {
   "codemirror_mode": {
    "name": "ipython",
    "version": 3
   },
   "file_extension": ".py",
   "mimetype": "text/x-python",
   "name": "python",
   "nbconvert_exporter": "python",
   "pygments_lexer": "ipython3",
   "version": "3.9.4"
  }
 },
 "nbformat": 4,
 "nbformat_minor": 4
}
