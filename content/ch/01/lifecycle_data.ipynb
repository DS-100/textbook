{
 "cells": [
  {
   "cell_type": "code",
   "execution_count": 2,
   "metadata": {
    "tags": [
     "remove-cell"
    ]
   },
   "outputs": [],
   "source": [
    "import sys\n",
    "import os\n",
    "if not any(path.endswith('textbook') for path in sys.path):\n",
    "    sys.path.append(os.path.abspath('../../..'))\n",
    "from textbook_utils import *"
   ]
  },
  {
   "cell_type": "markdown",
   "metadata": {},
   "source": [
    "(sec:lifecycle_data)=\n",
    "# Understanding the Data\n"
   ]
  },
  {
   "cell_type": "markdown",
   "metadata": {},
   "source": [
    "After obtaining data, we want to understand the data we have.\n",
    "A key part of understanding the data is doing *exploratory data analysis*,\n",
    "where we often create plots to uncover interesting patterns and summarize the data visually.\n",
    "We also look for problems in the data.\n",
    "Most real-world datasets have missing values, weird values, or other anomalies\n",
    "that we need to account for."
   ]
  },
  {
   "cell_type": "markdown",
   "metadata": {},
   "source": [
    "In our experience, this stage of the lifecycle is highly iterative.\n",
    "Understanding the data can lead to any of the\n",
    "other stages in the data science lifecycle.\n",
    "As we understand the data more, we often revise our research\n",
    "questions, or realize that we need to get data from a different source."
   ]
  },
  {
   "cell_type": "markdown",
   "metadata": {},
   "source": [
    "This stage incorporates both programming and statistical knowledge.\n",
    "To manipulate data, we write programs that clean data, transform data, and\n",
    "create plots.\n",
    "To find patterns and trends in the data, we use summary statistics and \n",
    "statistical models."
   ]
  },
  {
   "cell_type": "markdown",
   "metadata": {},
   "source": [
    "When our research questions are purely exploratory, we are only concerned\n",
    "about patterns in the data.\n",
    "In these cases, our analysis can end at this stage of the lifecycle.\n",
    "When our research questions are inferential or predictive, however, we\n",
    "proceed to the next stage of the lifecycle: understanding the world."
   ]
  }
 ],
 "metadata": {
  "kernelspec": {
   "display_name": "Python 3",
   "language": "python",
   "name": "python3"
  },
  "language_info": {
   "codemirror_mode": {
    "name": "ipython",
    "version": 3
   },
   "file_extension": ".py",
   "mimetype": "text/x-python",
   "name": "python",
   "nbconvert_exporter": "python",
   "pygments_lexer": "ipython3",
   "version": "3.9.4"
  }
 },
 "nbformat": 4,
 "nbformat_minor": 4
}
