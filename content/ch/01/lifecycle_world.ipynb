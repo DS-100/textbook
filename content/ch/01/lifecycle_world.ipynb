{
 "cells": [
  {
   "cell_type": "code",
   "execution_count": 2,
   "metadata": {
    "tags": [
     "remove-cell"
    ]
   },
   "outputs": [],
   "source": [
    "import sys\n",
    "import os\n",
    "if not any(path.endswith('textbook') for path in sys.path):\n",
    "    sys.path.append(os.path.abspath('../../..'))\n",
    "from textbook_utils import *"
   ]
  },
  {
   "cell_type": "markdown",
   "metadata": {},
   "source": [
    "(sec:lifecycle_world)=\n",
    "# Understanding the World\n"
   ]
  },
  {
   "cell_type": "markdown",
   "metadata": {},
   "source": [
    "In this stage of the lifecycle, we draw conclusions about our larger\n",
    "population, and sometimes even the world.\n",
    "The challenge is that our data are typically a relatively small sample\n",
    "compared to our population.\n",
    "To draw conclusions about the population, we use\n",
    "statistical techniques\n",
    "like A/B testing, confidence intervals, and simulation.\n",
    "We also use models like linear or logistic regression.\n",
    "This stage is relevant when our research questions are \n",
    "inferential or predictive.\n",
    "Our goal in this stage of the lifecycle is to quantify \n",
    "how well we think the trends we find in our sample can generalize."
   ]
  }
 ],
 "metadata": {
  "kernelspec": {
   "display_name": "Python 3",
   "language": "python",
   "name": "python3"
  },
  "language_info": {
   "codemirror_mode": {
    "name": "ipython",
    "version": 3
   },
   "file_extension": ".py",
   "mimetype": "text/x-python",
   "name": "python",
   "nbconvert_exporter": "python",
   "pygments_lexer": "ipython3",
   "version": "3.9.4"
  }
 },
 "nbformat": 4,
 "nbformat_minor": 4
}
