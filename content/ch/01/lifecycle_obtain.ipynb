{
 "cells": [
  {
   "cell_type": "code",
   "execution_count": 1,
   "metadata": {
    "tags": [
     "remove-cell"
    ]
   },
   "outputs": [],
   "source": [
    "import sys\n",
    "import os\n",
    "if not any(path.endswith('textbook') for path in sys.path):\n",
    "    sys.path.append(os.path.abspath('../../..'))\n",
    "from textbook_utils import *"
   ]
  },
  {
   "cell_type": "markdown",
   "metadata": {},
   "source": [
    "(sec:lifecycle_obtain)=\n",
    "# Obtaining Data\n",
    "\n",
    "In this step of the data science lifecycle, we obtain our data and\n",
    "understand how the data were collected.\n",
    "One of our goals in this stage is to understand what kinds of research\n",
    "questions we can answer using the data that we have.\n",
    "In our lifecycle, data analyses can begin with asking a question\n",
    "(the previous stage) or with obtaining data (this stage).\n",
    "When data are expensive and hard to gather, we\n",
    "define a precise research question first and then collect the exact data\n",
    "we need to answer the question.\n",
    "Other times, data are cheap and easily accessed.\n",
    "This is especially true for online data sources.\n",
    "For example, the Twitter website lets people quickly download millions of data\n",
    "points [^twitter].\n",
    "When data are plentiful, we can also start an analysis by obtaining data,\n",
    "exploring it, and then asking research questions. \n",
    "\n",
    "[^twitter]: https://developer.twitter.com/en/docs/twitter-api"
   ]
  },
  {
   "cell_type": "markdown",
   "metadata": {},
   "source": [
    "When we obtain data, we write down how the data were collected\n",
    "and what information the data contain.\n",
    "This isn't just for bookkeeping---the type of research questions\n",
    "we can answer depend greatly on the way the data were collected.\n",
    "We explore this topic in \n",
    "{numref}`Chapter %s <ch:data_scope>`."
   ]
  }
 ],
 "metadata": {
  "kernelspec": {
   "display_name": "Python 3",
   "language": "python",
   "name": "python3"
  },
  "language_info": {
   "codemirror_mode": {
    "name": "ipython",
    "version": 3
   },
   "file_extension": ".py",
   "mimetype": "text/x-python",
   "name": "python",
   "nbconvert_exporter": "python",
   "pygments_lexer": "ipython3",
   "version": "3.9.4"
  }
 },
 "nbformat": 4,
 "nbformat_minor": 4
}
