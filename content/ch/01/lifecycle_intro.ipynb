{
 "cells": [
  {
   "cell_type": "code",
   "execution_count": 1,
   "metadata": {
    "tags": [
     "remove-cell"
    ]
   },
   "outputs": [],
   "source": [
    "import sys\n",
    "import os\n",
    "if not any(path.endswith('textbook') for path in sys.path):\n",
    "    sys.path.append(os.path.abspath('../../..'))\n",
    "from textbook_utils import *"
   ]
  },
  {
   "cell_type": "markdown",
   "metadata": {},
   "source": [
    "(ch:lifecycle)=\n",
    "# The Data Science Lifecycle\n",
    "\n",
    "Data science is a rapidly evolving field.\n",
    "At the time of this writing people are still trying to pin down exactly\n",
    "what data science is, what data scientists do, and what skills data \n",
    "scientists should have.\n",
    "What we do know, though, is that data science uses a combination of \n",
    "methods and principles from statistics and computer science to work with and draw insights from data.\n",
    "And, together, they offer more than each subject individually. \n",
    "We also know that any insights we glean need to be interpreted in the context of the problem that we are working on.\n",
    "Data science helps make all sorts of important decisions; \n",
    "with these skills and understanding we can, say, assess whether a vaccine works,\n",
    "filter out spam from email inboxes, calibrate air quality sensors, \n",
    "and advise analysts on policy changes. "
   ]
  },
  {
   "cell_type": "markdown",
   "metadata": {},
   "source": [
    "This book covers fundamental principles and skills\n",
    "that data scientists need to perform data analyses.\n",
    "To help you keep track of the bigger picture, we've organized these topics\n",
    "around a workflow that we call the *data science lifecycle*.\n",
    "In this chapter, we introduce the data science lifecycle, and provides a map for the rest of the book, \n",
    "showing you where \n",
    "each chapter fits into the lifecycle.\n",
    "Unlike other books that focus on one part of the lifecycle, we\n",
    "cover the entire cycle from start to finish.\n",
    "We explain theoretical concepts and show how they work in\n",
    "practical case studies.\n",
    "Throughout, we rely on authentic data and analyses by other data\n",
    "scientists, not made-up data, so you can learn how to perform your own data acquisition, cleaning, exploration, and formal analyses and how to draw sound\n",
    "conclusions."
   ]
  }
 ],
 "metadata": {
  "kernelspec": {
   "display_name": "Python 3",
   "language": "python",
   "name": "python3"
  },
  "language_info": {
   "codemirror_mode": {
    "name": "ipython",
    "version": 3
   },
   "file_extension": ".py",
   "mimetype": "text/x-python",
   "name": "python",
   "nbconvert_exporter": "python",
   "pygments_lexer": "ipython3",
   "version": "3.9.4"
  }
 },
 "nbformat": 4,
 "nbformat_minor": 4
}
