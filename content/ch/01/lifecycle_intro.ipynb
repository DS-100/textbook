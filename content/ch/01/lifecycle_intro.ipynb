{
 "cells": [
  {
   "cell_type": "code",
   "execution_count": 1,
   "metadata": {
    "tags": [
     "remove-cell"
    ]
   },
   "outputs": [],
   "source": [
    "import sys\n",
    "import os\n",
    "if not any(path.endswith('textbook') for path in sys.path):\n",
    "    sys.path.append(os.path.abspath('../../..'))\n",
    "from textbook_utils import *"
   ]
  },
  {
   "cell_type": "markdown",
   "metadata": {},
   "source": [
    "(ch:lifecycle)=\n",
    "# The Data Science Lifecycle\n",
    "\n",
    "Data science is a rapidly evolving field.\n",
    "At the time of this writing people are still trying to pin down exactly\n",
    "what data science is, what data scientists do, and what skills data \n",
    "scientists should have.\n",
    "What we do know, though, is that data science uses a combination of \n",
    "methods and principles from statistics and computer science to work with and draw insights from data.\n",
    "We use these insights to make all sorts of important decisions; \n",
    "data science helps assess whether a vaccine works,\n",
    "filter out spam from email inboxes, calibrate air quality sensors, \n",
    "and advise analysts on policy changes. "
   ]
  },
  {
   "cell_type": "markdown",
   "metadata": {},
   "source": [
    "This book aims to prepare you for real-world data analysis. In theory, drawing conclusions from data is simple--load a data table, make a plot, and fit a model. In practice, it tends to be more complex. Data are messy. Data sources collect data in different formats. Data values go missing. A simple linear model is not always appropriate. How do we pick from many possible alternative models? And how do we generalize our conclusions outside our limited data sample?"
   ]
  },
  {
   "cell_type": "markdown",
   "metadata": {},
   "source": [
    "This book covers fundamental principles and skills\n",
    "that data scientists need to perform data analyses.\n",
    "To help you keep track of the bigger picture, we've organized these topics\n",
    "around a workflow that we call the *data science lifecycle*.\n",
    "This chapter introduces the data science lifecycle.\n",
    "It also provides a map for the rest of the book, showing you where \n",
    "each chapter fits into the lifecycle.\n",
    "Unlike other books that focus on one part of the lifecycle, this book\n",
    "covers the entire cycle from start to finish.\n",
    "We explain theoretical concepts and show how they work in\n",
    "practical case studies.\n",
    "Throughout the book, we rely on real data from analyses by other data\n",
    "scientists, not made-up data, so you can learn how to perform your own data acquisition, cleaning, exploration, and formal analyses and draw sound\n",
    "conclusions."
   ]
  },
  {
   "cell_type": "markdown",
   "metadata": {},
   "source": [
    "```{figure} figures/ds-lifecycle.svg\n",
    "---\n",
    "name: ds-lifecycle\n",
    "---\n",
    "\n",
    "This diagram of the data science lifecycle shows four high-level steps.\n",
    "The arrows indicate how the steps can lead into one another.\n",
    "```"
   ]
  },
  {
   "cell_type": "markdown",
   "metadata": {},
   "source": [
    "{numref}`Figure %s <ds-lifecycle>` shows the data science lifecycle.\n",
    "It's split into four stages: asking a question, obtaining data, \n",
    "understanding the data, and understanding the world.\n",
    "We've made these stages very broad on purpose.\n",
    "In our experience, the mechanics of the lifecycle change frequently.\n",
    "Computer scientists and statisticians continue to build new software packages and programming languages\n",
    "for working with data, and they develop new analysis techniques that are more accurate and specialized. \n",
    "Despite these changes, we've found that almost every data project follows the four steps in our lifecycle.\n",
    "The first is to ask a question."
   ]
  },
  {
   "cell_type": "markdown",
   "metadata": {},
   "source": [
    "*Ask a Question* The first step, asking questions, lies at the heart of data science, and\n",
    "different kinds of questions require different kinds of analyses.\n",
    "For example, \"How have house prices changed over time?\" is very different from\n",
    "\"How will this new policy affect house prices?\"\n",
    "Understanding our research question helps us determine the data we need,\n",
    "the patterns to look for,\n",
    "and how to interpret results.\n",
    "In this book, we focus on three broad categories of questions:\n",
    "exploratory, inferential, and predictive."
   ]
  },
  {
   "cell_type": "markdown",
   "metadata": {},
   "source": [
    "Narrowing down a broad question into one that can be answered with data is a key element of this first stage in the lifecycle. It can involve consulting the people participating in a study, figuring out how to measure something, and designing data collection protocols. These considerations help us plan the data collection phase of the lifecycle. "
   ]
  },
  {
   "cell_type": "markdown",
   "metadata": {},
   "source": [
    "*Obtain Data* When data are expensive and hard to gather, we aim to define a precise research question first and then collect the data needed to answer the question. Other times, data are cheap and easily accessed.\n",
    "This is especially true for online data sources.\n",
    "For example, Twitter lets people quickly download millions of data\n",
    "points [^twitter].\n",
    "When data are plentiful, we can also start an analysis by obtaining data, exploring it, and then honing the research question.\n",
    "\n",
    "Most datasets have missing values, weird values, or other anomalies that we need to account for. When we obtain data, we need to check its quality. We typically must manipulate the data, where we clean and transform the data to prepare for analysis.\n",
    "\n",
    "[^twitter]: https://developer.twitter.com/en/docs/twitter-api"
   ]
  },
  {
   "cell_type": "markdown",
   "metadata": {},
   "source": [
    "*Understand the Data* After obtaining data,  we want to understand the data, and *exploratory data analysis* is a key part of this. \n",
    "In our explorations we make plots to uncover interesting patterns and summarize the data visually. We also look for problems with the data.\n",
    "As we search for patterns and trends in the data, we use summary statistics and build statistical models, like linear and logistic regression."
   ]
  },
  {
   "cell_type": "markdown",
   "metadata": {},
   "source": [
    "In our experience, this stage of the lifecycle is highly iterative.\n",
    "Understanding the data can lead us back to any of the earlier stages in the data science lifecycle to, say, modify and redo our data cleaning and manipulation, or on to making generalizations about the world. "
   ]
  },
  {
   "cell_type": "markdown",
   "metadata": {},
   "source": [
    "*Understand the World* Often our goals are purely exploratory, and the analysis can end at the \"understanding the data\" stage of the lifecycle. \n",
    "At other times, we aim to quantify how well the trends we find generalize beyond our data, and we want to make inferences about the world or give predictions of future observations. \n",
    "To draw inferences from a sample to a population, we use\n",
    "statistical techniques like A/B testing and confidence intervals.\n",
    "And to make predictions for future observations, we create other interval estimates and use test/train splits of the data. "
   ]
  },
  {
   "cell_type": "markdown",
   "metadata": {},
   "source": [
    ":::{note}\n",
    "\n",
    "Understanding the difference between exploration, inference, and prediction can be a challenge. And we can easily slip into confusing a correlation found in data with a causal relationship. An inferential  analysis might observe a correlation in response to the question, \"Do people who have a greater exposure to air pollution have a higher rate of lung disease?\" Whereas a causal question might ask \"Does giving an award to a Wikipedia contributor increase their productivity?\" We typically cannot answer causal questions unless we have a randomized experiment (or approximate one). We point out these important distinctions throughout the book.\n",
    "\n",
    ":::"
   ]
  },
  {
   "cell_type": "markdown",
   "metadata": {},
   "source": [
    "Each chapter in this book tends to focus on one of these stages. We map them out next. "
   ]
  }
 ],
 "metadata": {
  "kernelspec": {
   "display_name": "Python 3",
   "language": "python",
   "name": "python3"
  },
  "language_info": {
   "codemirror_mode": {
    "name": "ipython",
    "version": 3
   },
   "file_extension": ".py",
   "mimetype": "text/x-python",
   "name": "python",
   "nbconvert_exporter": "python",
   "pygments_lexer": "ipython3",
   "version": "3.9.4"
  }
 },
 "nbformat": 4,
 "nbformat_minor": 4
}
