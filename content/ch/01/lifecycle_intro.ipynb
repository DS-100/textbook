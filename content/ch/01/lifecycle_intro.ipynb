{
 "cells": [
  {
   "cell_type": "code",
   "execution_count": 1,
   "metadata": {
    "tags": [
     "remove-cell"
    ]
   },
   "outputs": [],
   "source": [
    "import sys\n",
    "import os\n",
    "if not any(path.endswith('textbook') for path in sys.path):\n",
    "    sys.path.append(os.path.abspath('../../..'))\n",
    "from textbook_utils import *"
   ]
  },
  {
   "cell_type": "markdown",
   "metadata": {},
   "source": [
    "(ch:lifecycle)=\n",
    "# The Data Science Lifecycle\n",
    "\n",
    "Data science is a rapidly evolving field.\n",
    "At the time of this writing people are still trying to pin down exactly\n",
    "what data science is, what data scientists do, and what skills data \n",
    "scientists should have.\n",
    "What we do know, though, is that data science uses a combination of \n",
    "methods and principles from statistics and computer science to draw insights from data.\n",
    "We use these insights to make all sorts of important decisions. \n",
    "Data science helps assess whether a vaccine works,\n",
    "filter out spam from our email inboxes, calibrate air quality sensor, and advise public policy analysts on policy changes. "
   ]
  },
  {
   "cell_type": "markdown",
   "metadata": {},
   "source": [
    "This book covers fundamental principles and skills\n",
    "that data scientists need to perform data analyses.\n",
    "To help you keep track of the bigger picture, we've organized these topics\n",
    "around a workflow that we call the *data science lifecycle*.\n",
    "This chapter introduces the data science lifecycle.\n",
    "It also provides a map for the rest of the book by showing you where \n",
    "each chapter fits into the lifecycle.\n",
    "Unlike other books that focus on one part of the lifecycle, this book\n",
    "covers the entire cycle from start to finish.\n",
    "We explain theoretical concepts and show how they work in\n",
    "practical case studies.\n",
    "Throughout the book, we rely on real data from analyses by other data\n",
    "scientists, not made-up data, so you can learn how to perform your own data analyses and draw sound\n",
    "conclusions."
   ]
  },
  {
   "cell_type": "markdown",
   "metadata": {},
   "source": [
    "```{figure} figures/ds-lifecycle.svg\n",
    "---\n",
    "name: ds-lifecycle\n",
    "---\n",
    "\n",
    "This diagram of the data science lifecycle shows four high-level steps.\n",
    "The arrows indicate how the steps can lead into one another.\n",
    "```"
   ]
  },
  {
   "cell_type": "markdown",
   "metadata": {},
   "source": [
    "{numref}`Figure %s <ds-lifecycle>` shows the data science lifecycle.\n",
    "It's split into four stages: asking a question, obtaining data, \n",
    "understanding the data, and understanding the world.\n",
    "We've made these stages very broad on purpose.\n",
    "In our experience, the mechanics of a data analysis change fequently.\n",
    "Computer scientists and statisticians continue to build new software packages and programming languages\n",
    "for analysis, and they develop new analysis techniques that are more accurate and specialized. \n",
    "Despite these changes, we've found that almost every data analysis follows\n",
    "the four steps in our lifecycle.\n",
    "The first is to ask a question."
   ]
  },
  {
   "cell_type": "markdown",
   "metadata": {},
   "source": [
    "Asking questions lies at the heart of data science, and\n",
    "different kinds of questions require different kinds of analyses.\n",
    "For example, \"How have house prices changed over time?\" is very different from\n",
    "\"How will this new policy affect house prices?\".\n",
    "Understanding our research question helps us determine the data we need,\n",
    "the patterns to look for,\n",
    "and how to interpret results.\n",
    "In this book, we focus on three broad categories of questions:\n",
    "exploratory, inferential, and predictive."
   ]
  },
  {
   "cell_type": "markdown",
   "metadata": {},
   "source": [
    "Narrowing down a broad question into one that can be answered with data is a key element of this first stage in the lifecycle. It can involve consulting the people participating in the study, figuring out the measurements needed, and designing data collection protocols. These considerations help us plan the data collection phase of the lifecycle. "
   ]
  },
  {
   "cell_type": "markdown",
   "metadata": {},
   "source": [
    "When data are expensive and hard to gather, we define a precise research question first and then collect the data needed to answer the question. Other times, data are cheap and easily accessed.\n",
    "This is especially true for online data sources.\n",
    "For example, Twitter lets people quickly download millions of data\n",
    "points [^twitter].\n",
    "When data are plentiful, we can also start an analysis by obtaining data, exploring it, and then honing the research question. \n",
    "\n",
    "[^twitter]: https://developer.twitter.com/en/docs/twitter-api"
   ]
  },
  {
   "cell_type": "markdown",
   "metadata": {},
   "source": [
    "After obtaining data, we want to understand the data, and \n",
    "*exploratory data analysis* is a key part of this. \n",
    "In our explorations we make plots to uncover interesting patterns and summarize the data visually. We also look for problems with the data.\n",
    "Most real-world datasets have missing values, weird values, or other anomalies that we need to account for. We manipulate the data, cleaning and transforming it to prepare for analysis.\n",
    "As we search for patterns and trends in the data, we use summary statistics and build statistical models, like linear and logistic regression."
   ]
  },
  {
   "cell_type": "markdown",
   "metadata": {},
   "source": [
    "In our experience, this stage of the lifecycle is highly iterative.\n",
    "Understanding the data can lead us back to to any of the earlier stages in the data science lifecycle, or on to making generalizations about the world. "
   ]
  },
  {
   "cell_type": "markdown",
   "metadata": {},
   "source": [
    "Often our our goals are purely exploratory, and our analysis can end at the \"understanding the data\" stage of the lifecycle. \n",
    "At other times, we aim to quantify how well the trends we find generalize beyond our data. We aim to make inferences about the world or give predictions of future observations. \n",
    "To draw inferences from a sample to a population, we use\n",
    "statistical techniques like A/B testing and confidence intervals, and we make prediction intervals for future observations. "
   ]
  },
  {
   "cell_type": "markdown",
   "metadata": {},
   "source": [
    "Each chapter in this book tends to focus on one of these stages. We map them out next. "
   ]
  }
 ],
 "metadata": {
  "kernelspec": {
   "display_name": "Python 3",
   "language": "python",
   "name": "python3"
  },
  "language_info": {
   "codemirror_mode": {
    "name": "ipython",
    "version": 3
   },
   "file_extension": ".py",
   "mimetype": "text/x-python",
   "name": "python",
   "nbconvert_exporter": "python",
   "pygments_lexer": "ipython3",
   "version": "3.9.4"
  }
 },
 "nbformat": 4,
 "nbformat_minor": 4
}
