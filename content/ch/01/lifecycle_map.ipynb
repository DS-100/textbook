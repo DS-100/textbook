{
 "cells": [
  {
   "cell_type": "code",
   "execution_count": 2,
   "metadata": {
    "tags": [
     "remove-cell"
    ]
   },
   "outputs": [],
   "source": [
    "import sys\n",
    "import os\n",
    "if not any(path.endswith('textbook') for path in sys.path):\n",
    "    sys.path.append(os.path.abspath('../../..'))\n",
    "from textbook_utils import *"
   ]
  },
  {
   "cell_type": "markdown",
   "metadata": {},
   "source": [
    "(sec:lifecycle_map)=\n",
    "# A Map for this Book\n"
   ]
  },
  {
   "cell_type": "markdown",
   "metadata": {},
   "source": [
    "Although there are many concepts covered in this book, all of them fit into\n",
    "the data science lifecycle.\n",
    "In this section, we'll list out each stage of the lifecycle and all of the book\n",
    "chapters that have relevant content for that stage."
   ]
  },
  {
   "cell_type": "markdown",
   "metadata": {},
   "source": [
    "*Asking a question*\n",
    "\n",
    "- {numref}`Chapter %s: <ch:data_scope>` {ref}`ch:data_scope`"
   ]
  },
  {
   "cell_type": "markdown",
   "metadata": {},
   "source": [
    "*Obtaining data*\n",
    "\n",
    "- {numref}`Chapter %s: <ch:data_scope>` {ref}`ch:data_scope`\n",
    "- {numref}`Chapter %s: <ch:web>` {ref}`ch:web`"
   ]
  },
  {
   "cell_type": "markdown",
   "metadata": {},
   "source": [
    "*Understanding the data*\n",
    "\n",
    "- {numref}`Chapter %s: <ch:modeling>` {ref}`ch:modeling`\n",
    "- {numref}`Chapter %s: <ch:pandas>` {ref}`ch:pandas`\n",
    "- {numref}`Chapter %s: <ch:sql>` {ref}`ch:sql`\n",
    "- {numref}`Chapter %s: <ch:files>` {ref}`ch:files`\n",
    "- {numref}`Chapter %s: <ch:wrangling>` {ref}`ch:wrangling`\n",
    "- {numref}`Chapter %s: <ch:eda>` {ref}`ch:eda`\n",
    "- {numref}`Chapter %s: <ch:viz>` {ref}`ch:viz`\n",
    "- {numref}`Chapter %s: <ch:text>` {ref}`ch:text`\n",
    "- {numref}`Chapter %s: <ch:linear>` {ref}`ch:linear`"
   ]
  },
  {
   "cell_type": "markdown",
   "metadata": {},
   "source": [
    "*Understanding the world*\n",
    "\n",
    "- {numref}`Chapter %s: <ch:theory_datadesign>` {ref}`ch:theory_datadesign`\n",
    "- {numref}`Chapter %s: <ch:prob>` {ref}`ch:prob`"
   ]
  }
 ],
 "metadata": {
  "kernelspec": {
   "display_name": "Python 3",
   "language": "python",
   "name": "python3"
  },
  "language_info": {
   "codemirror_mode": {
    "name": "ipython",
    "version": 3
   },
   "file_extension": ".py",
   "mimetype": "text/x-python",
   "name": "python",
   "nbconvert_exporter": "python",
   "pygments_lexer": "ipython3",
   "version": "3.9.4"
  }
 },
 "nbformat": 4,
 "nbformat_minor": 4
}
