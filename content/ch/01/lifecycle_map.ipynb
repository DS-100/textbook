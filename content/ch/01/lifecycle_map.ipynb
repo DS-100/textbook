{
 "cells": [
  {
   "cell_type": "code",
   "execution_count": 2,
   "metadata": {
    "tags": [
     "remove-cell"
    ]
   },
   "outputs": [],
   "source": [
    "# Reference: https://jupyterbook.org/interactive/hiding.html\n",
    "# Use {hide, remove}-{input, output, cell} tags to hiding content\n",
    "\n",
    "import numpy as np\n",
    "import matplotlib.pyplot as plt\n",
    "import pandas as pd\n",
    "import seaborn as sns\n",
    "%matplotlib inline\n",
    "import ipywidgets as widgets\n",
    "from ipywidgets import interact, interactive, fixed, interact_manual\n",
    "from IPython.display import display, set_matplotlib_formats\n",
    "import myst_nb\n",
    "\n",
    "import plotly\n",
    "import plotly.graph_objects as go\n",
    "import plotly.express as px\n",
    "from plotly.subplots import make_subplots\n",
    "import plotly.io as pio\n",
    "pio.renderers.default = 'plotly_mimetype+svg'\n",
    "pio.templates['book'] = go.layout.Template(\n",
    "    layout=dict(\n",
    "        margin=dict(l=10, r=10, t=10, b=10),\n",
    "        autosize=True,\n",
    "        width=350, height=250,\n",
    "    )\n",
    ")\n",
    "pio.templates.default = 'seaborn+book'\n",
    "\n",
    "set_matplotlib_formats('svg')\n",
    "sns.set()\n",
    "np.set_printoptions(threshold=20, precision=2, suppress=True)\n",
    "pd.set_option('display.max_rows', 7)\n",
    "pd.set_option('display.max_columns', 8)\n",
    "pd.set_option('precision', 2)\n",
    "# This option stops scientific notation for pandas\n",
    "# pd.set_option('display.float_format', '{:.2f}'.format)\n",
    "\n",
    "def display_df(df, rows=pd.options.display.max_rows,\n",
    "               cols=pd.options.display.max_columns):\n",
    "    with pd.option_context('display.max_rows', rows,\n",
    "                           'display.max_columns', cols):\n",
    "        display(df)"
   ]
  },
  {
   "cell_type": "markdown",
   "metadata": {},
   "source": [
    "(sec:lifecycle_map)=\n",
    "# A Map for this Book\n"
   ]
  },
  {
   "cell_type": "markdown",
   "metadata": {},
   "source": [
    "Although there are many concepts covered in this book, all of them fit into\n",
    "the data science lifecycle.\n",
    "In this section, we'll list out each stage of the lifecycle and all of the book\n",
    "chapters that have relevant content for that stage."
   ]
  },
  {
   "cell_type": "markdown",
   "metadata": {},
   "source": [
    "*Asking a question*\n",
    "\n",
    "- {numref}`Chapter %s: <ch:data_scope>` {ref}`ch:data_scope`"
   ]
  },
  {
   "cell_type": "markdown",
   "metadata": {},
   "source": [
    "*Obtaining data*\n",
    "\n",
    "- {numref}`Chapter %s: <ch:data_scope>` {ref}`ch:data_scope`\n",
    "- {numref}`Chapter %s: <ch:web>` {ref}`ch:web`"
   ]
  },
  {
   "cell_type": "markdown",
   "metadata": {},
   "source": [
    "*Understanding the data*\n",
    "\n",
    "- {numref}`Chapter %s: <ch:modeling>` {ref}`ch:modeling`\n",
    "- {numref}`Chapter %s: <ch:pandas>` {ref}`ch:pandas`\n",
    "- {numref}`Chapter %s: <ch:sql>` {ref}`ch:sql`\n",
    "- {numref}`Chapter %s: <ch:files>` {ref}`ch:files`\n",
    "- {numref}`Chapter %s: <ch:wrangling>` {ref}`ch:wrangling`\n",
    "- {numref}`Chapter %s: <ch:eda>` {ref}`ch:eda`\n",
    "- {numref}`Chapter %s: <ch:viz>` {ref}`ch:viz`\n",
    "- {numref}`Chapter %s: <ch:text>` {ref}`ch:text`\n",
    "- {numref}`Chapter %s: <ch:linear_models>` {ref}`ch:linear_models`"
   ]
  },
  {
   "cell_type": "markdown",
   "metadata": {},
   "source": [
    "*Understanding the world*\n",
    "\n",
    "- {numref}`Chapter %s: <ch:theory_datadesign>` {ref}`ch:theory_datadesign`\n",
    "- {numref}`Chapter %s: <ch:prob>` {ref}`ch:prob`"
   ]
  }
 ],
 "metadata": {
  "kernelspec": {
   "display_name": "Python 3",
   "language": "python",
   "name": "python3"
  },
  "language_info": {
   "codemirror_mode": {
    "name": "ipython",
    "version": 3
   },
   "file_extension": ".py",
   "mimetype": "text/x-python",
   "name": "python",
   "nbconvert_exporter": "python",
   "pygments_lexer": "ipython3",
   "version": "3.9.4"
  }
 },
 "nbformat": 4,
 "nbformat_minor": 4
}
