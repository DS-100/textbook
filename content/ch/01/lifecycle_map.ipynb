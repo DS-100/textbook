{
 "cells": [
  {
   "cell_type": "code",
   "execution_count": 1,
   "metadata": {
    "tags": [
     "remove-cell"
    ]
   },
   "outputs": [],
   "source": [
    "import sys\n",
    "import os\n",
    "if not any(path.endswith('textbook') for path in sys.path):\n",
    "    sys.path.append(os.path.abspath('../../..'))\n",
    "from textbook_utils import *"
   ]
  },
  {
   "cell_type": "markdown",
   "metadata": {},
   "source": [
    "(sec:lifecycle_map)=\n",
    "# Chapter Mapping to the Lifecycle\n"
   ]
  },
  {
   "cell_type": "markdown",
   "metadata": {},
   "source": [
    "Although there are many concepts covered in this book, all of them fit into\n",
    "the data science lifecycle.\n",
    "In this section, we'll list out each stage of the lifecycle and all of the book\n",
    "chapters that have relevant content for that stage. \n",
    "In practice, a data scientist often needs to revisit the stage of obtaining data as their understanding of the data improves. For this reason, the chapter in these two stages contain overlapping tasks and concepts.  "
   ]
  },
  {
   "cell_type": "markdown",
   "metadata": {},
   "source": [
    "*Asking a question*\n",
    "\n",
    "- {numref}`Chapter %s: <ch:data_scope>` {ref}`ch:data_scope`\n",
    "- {numref}`Chapter %s: <ch:theory_datadesign>` {ref}`ch:theory_datadesign`"
   ]
  },
  {
   "cell_type": "markdown",
   "metadata": {},
   "source": [
    "*Obtaining data*\n",
    "\n",
    "- {numref}`Chapter %s: <ch:pandas>` {ref}`ch:pandas`\n",
    "- {numref}`Chapter %s: <ch:sql>` {ref}`ch:sql`\n",
    "- {numref}`Chapter %s: <ch:files>` {ref}`ch:files`\n",
    "- {numref}`Chapter %s: <ch:text>` {ref}`ch:text`\n",
    "- {numref}`Chapter %s: <ch:web>` {ref}`ch:web`"
   ]
  },
  {
   "cell_type": "markdown",
   "metadata": {},
   "source": [
    "*Understanding the data*\n",
    "\n",
    "- {numref}`Chapter %s: <ch:modeling>` {ref}`ch:modeling`\n",
    "- {numref}`Chapter %s: <ch:wrangling>` {ref}`ch:wrangling`\n",
    "- {numref}`Chapter %s: <ch:eda>` {ref}`ch:eda`\n",
    "- {numref}`Chapter %s: <ch:viz>` {ref}`ch:viz`\n",
    "- {numref}`Chapter %s: <ch:linear>` {ref}`ch:linear`"
   ]
  },
  {
   "cell_type": "markdown",
   "metadata": {},
   "source": [
    "*Understanding the world*\n",
    "\n",
    "- {numref}`Chapter %s: <ch:theory_datadesign>` {ref}`ch:theory_datadesign`\n",
    "- {numref}`Chapter %s: <ch:prob>` {ref}`ch:prob`"
   ]
  },
  {
   "cell_type": "markdown",
   "metadata": {},
   "source": [
    "In addition to chapters dedicated to particular stages of the data science lifecycle, we also include chapters that working through the entire cycle. \n",
    "\n",
    "*Lifecycle Case Studies*   \n",
    "- {numref}`Chapter %s: <ch:bus>` {ref}`ch:bus`\n",
    "- {numref}`Chapter %s: <ch:pa>` {ref}`ch:pa`\n",
    "- {numref}`Chapter %s: <ch:donkey>` {ref}`ch:donkey`\n",
    "- {numref}`Chapter %s: <ch:log>` {ref}`ch:log`"
   ]
  },
  {
   "cell_type": "markdown",
   "metadata": {},
   "source": [
    " "
   ]
  }
 ],
 "metadata": {
  "kernelspec": {
   "display_name": "Python 3",
   "language": "python",
   "name": "python3"
  },
  "language_info": {
   "codemirror_mode": {
    "name": "ipython",
    "version": 3
   },
   "file_extension": ".py",
   "mimetype": "text/x-python",
   "name": "python",
   "nbconvert_exporter": "python",
   "pygments_lexer": "ipython3",
   "version": "3.9.4"
  }
 },
 "nbformat": 4,
 "nbformat_minor": 4
}
