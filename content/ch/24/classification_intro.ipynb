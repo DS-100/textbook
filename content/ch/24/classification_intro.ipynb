{
 "cells": [
  {
   "cell_type": "markdown",
   "metadata": {},
   "source": [
    "# Classification\n",
    "\n",
    "Thus far we have studied models for regression, the process of making\n",
    "continuous, numerical estimations based on data. We now turn our attention to\n",
    "**classification**, the process of making categorical predictions based on\n",
    "data. For example, weather stations are interested in predicting whether\n",
    "tomorrow will be rainy or not using the weather conditions today.\n",
    "\n",
    "Together, regression and classification compose the primary approaches for\n",
    "_supervised learning_, the general task of learning a model based on observed\n",
    "input-output pairs.\n",
    "\n",
    "We may reconstruct classification as a type of regression problem. Instead of\n",
    "creating a model to predict an arbitrary number, we create a model to predict a\n",
    "probability that a data point belongs to a category. This allows us to reuse\n",
    "the machinery of linear regression for a regression on probabilities: logistic\n",
    "regression.\n"
   ]
  }
 ],
 "metadata": {},
 "nbformat": 4,
 "nbformat_minor": 2
}
