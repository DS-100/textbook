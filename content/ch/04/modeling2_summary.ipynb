{
 "cells": [
  {
   "cell_type": "markdown",
   "metadata": {},
   "source": [
    "# Summary\n",
    "\n",
    "We have introduced the notion of a constant model: a model that uses a single number to summarize all of the entries in a dataset. To fit the constant model, we chose a loss function that measured how well a given constant fits a data value, and we computed the average loss over all of the data values. We saw that depending on the choice of loss function, we get a different minimizing value.\n",
    "\n",
    "The mean minimizes the average squared error (MSE) and the median minimizes the average absolute error (MAE).  In effect, the mean and median come from fitting a constant model to data using the technique of loss minimization. In hindsight, since the absolute error is less sensitive to outliers, such as really late buses, we might choose absolute error as our loss function and take the median as the fitted constant. \n",
    "\n",
    "The notion of fitting models through loss minimization ties simple summary statistics, like the mean and median, to more complex modeling situations. The steps we took to model our data apply to many modeling scenarios:\n",
    "\n",
    "1. Select the form of a model (such as the constant model)\n",
    "2. Select a loss function (such as absolute error)\n",
    "3. Fit the model by minimizing the average loss for the data\n",
    "\n",
    "In this book, all of our modeling techniques expand upon one or more of these steps. We introduce new models (1), new loss functions (2), and new techniques for minimizing loss (3)."
   ]
  },
  {
   "cell_type": "code",
   "execution_count": null,
   "metadata": {},
   "outputs": [],
   "source": []
  }
 ],
 "metadata": {
  "kernelspec": {
   "display_name": "Python 3",
   "language": "python",
   "name": "python3"
  },
  "language_info": {
   "codemirror_mode": {
    "name": "ipython",
    "version": 3
   },
   "file_extension": ".py",
   "mimetype": "text/x-python",
   "name": "python",
   "nbconvert_exporter": "python",
   "pygments_lexer": "ipython3",
   "version": "3.9.4"
  }
 },
 "nbformat": 4,
 "nbformat_minor": 4
}
