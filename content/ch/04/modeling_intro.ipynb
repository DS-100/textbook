{
 "cells": [
  {
   "cell_type": "markdown",
   "metadata": {},
   "source": [
    "(ch:modeling)=\n",
    "# Modeling with Summary Statistics"
   ]
  },
  {
   "cell_type": "markdown",
   "metadata": {},
   "source": [
    "We have seen in {numref}`Chapter %s <ch:data_scope>`  the importance of data scope and in {numref}`Chapter %s <ch:theory_datadesign>` the importance of data generation mechanisms, such as one that can be represented by an urn model.  Urn models address one aspect of modeling: they describe chance variation and ensure the data are representative of the target. Good scope and representative data lay the groundwork for extracting useful information from data, which is the other part of modeling.  This information is often referred to as the *signal* in the data. We use models to approximate the signal with the simplest of these being the constant model, where the signal is approximated by a single number, like the mean or median. Other more complex models summarize relationships between features in the data, such as humidity and particulate matter in air quality ({numref}`Chapter %s <ch:pa>`), upward mobility and commute time in communities ({numref}`Chapter %s <ch:linear>`), height and weight of animals ({numref}`Chapter %s <ch:donkey>`). These more complex models are also approximations built from data.\n",
    "When a model fits the data well, it can provide a useful approximation to the world or simply a helpful description of the data. "
   ]
  },
  {
   "cell_type": "markdown",
   "metadata": {},
   "source": [
    "In this chapter, we introduce the basics of model fitting through a *loss* formulation. We demonstrate how to model patterns in the data by considering the loss that arises from using a simple summary to describe the data, the constant model.\n",
    "We delve deeper into the connections between the urn model and the fitted model in {numref}`Chapter %s <ch:risk>`, where we examine the balance between signal and noise when fitting models, and in {numref}`Chapter %s <ch:inf_pred_theory>`, where we tackle the topics of inference, prediction, and hypothesis testing.\n",
    "\n",
    "The constant model lets us introduce model fitting from the perspective of\n",
    "*loss minimization* in a simple context, and it helps us connect summary statistics, like the mean and median, to more complex modeling scenarios in later chapters. We begin with an example that uses data about the late arrival of a bus to introduce the constant model. "
   ]
  },
  {
   "cell_type": "markdown",
   "metadata": {},
   "source": []
  }
 ],
 "metadata": {
  "kernelspec": {
   "display_name": "Python 3",
   "language": "python",
   "name": "python3"
  },
  "language_info": {
   "codemirror_mode": {
    "name": "ipython",
    "version": 3
   },
   "file_extension": ".py",
   "mimetype": "text/x-python",
   "name": "python",
   "nbconvert_exporter": "python",
   "pygments_lexer": "ipython3",
   "version": "3.9.4"
  }
 },
 "nbformat": 4,
 "nbformat_minor": 4
}
