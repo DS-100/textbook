{
 "cells": [
  {
   "cell_type": "markdown",
   "metadata": {},
   "source": [
    "(ch:modeling)=\n",
    "# Modeling and Summary Statistics\n",
    "\n",
    "> Essentially, all models are wrong, but some are useful.\n",
    ">\n",
    "> — [George Box, Statistician (1919-2013)](https://www.wikiwand.com/en/George_E._P._Box)\n",
    "\n",
    "A *model* is an idealized representation of a system. You likely use models every day. For instance, a weather forecast is a model. A weather forecast uses weather data collected in the past, current conditions, and the physics of the atmosphere to make predictions about the future. Models don't always match reality, as you've experienced if you've been surprised by rain. And even the most complicated models of weather can't make precise predictions more than a few weeks into the future. Still, weather forecasts are useful enough that we check the forecast before heading outside each day.\n",
    "\n",
    "We introduced the urn model in {numref}'Chapter %s <ch:theory>'. It too is an idealized representation of a system. With the urn model, we characterize the underlying chance process in data generation via draws of marbles from an urn.  In this chapter, we begin at the other end, with the data, and attempt to describe the data using a model that focusses on the signal in our data, rather than the randomness. We abstract away the variation. This process is called model fitting.\n",
    "(These two pieces, the randomness and the signal make up a more comprehensive model, which we address later in {numref}'Chapter %s <ch:model_theory>'.)\n",
    "\n",
    "In this chapter, we introduce a basic model that serves as a building block towards the more complex models appearing later in the book. Introducing this basic model now also lets us explain model fitting with data from the perspecitve of *loss minimization*, a technique that connects summary statistics like the mean and median to more complex models."
   ]
  },
  {
   "cell_type": "code",
   "execution_count": null,
   "metadata": {},
   "outputs": [],
   "source": []
  }
 ],
 "metadata": {
  "kernelspec": {
   "display_name": "Python 3",
   "language": "python",
   "name": "python3"
  },
  "language_info": {
   "codemirror_mode": {
    "name": "ipython",
    "version": 3
   },
   "file_extension": ".py",
   "mimetype": "text/x-python",
   "name": "python",
   "nbconvert_exporter": "python",
   "pygments_lexer": "ipython3",
   "version": "3.9.4"
  }
 },
 "nbformat": 4,
 "nbformat_minor": 4
}
