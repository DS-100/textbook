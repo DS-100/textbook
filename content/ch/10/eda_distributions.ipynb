{
 "cells": [
  {
   "cell_type": "code",
   "execution_count": 18,
   "metadata": {
    "tags": [
     "remove-cell"
    ]
   },
   "outputs": [],
   "source": [
    "import sys\n",
    "import os\n",
    "if not any(path.endswith('textbook') for path in sys.path):\n",
    "    sys.path.append(os.path.abspath('../../..'))\n",
    "from textbook_utils import *"
   ]
  },
  {
   "cell_type": "code",
   "execution_count": 19,
   "metadata": {
    "tags": [
     "remove-cell"
    ]
   },
   "outputs": [],
   "source": [
    "dogs = pd.read_csv('data/akc.csv')\n",
    "\n",
    "kids = {1:\"High\", 2:\"Medium\", 3:\"Low\"}\n",
    "dogs[\"kids\"] = dogs['children'].map(kids)"
   ]
  },
  {
   "cell_type": "markdown",
   "metadata": {},
   "source": [
    "(sec:eda_distributions)=\n",
    "# What to Look For in a Distribution"
   ]
  },
  {
   "cell_type": "markdown",
   "metadata": {},
   "source": [
    "Visual displays of a feature can help us see patterns in observations; they are often much better than direct examination of the numbers or strings themselves. \n",
    "The simple rug plot locates each observation as a \"yarn\" in a\n",
    "\"rug\" along an axis. The rug plot can be useful when we have a handful of observations,\n",
    "but it soon gets difficult to distinguish high density (most populated) regions\n",
    "with, say, even 100 records. The figure below shows a rug plot with about 150 longevity values for dog breeds along the top of a histogram."
   ]
  },
  {
   "cell_type": "markdown",
   "metadata": {
    "tags": []
   },
   "source": [
    "```python\n",
    "px.histogram(dogs, x=\"longevity\", marginal=\"rug\", nbins=20,\n",
    "             histnorm='probability')\n",
    "```"
   ]
  },
  {
   "cell_type": "code",
   "execution_count": 13,
   "metadata": {
    "tags": [
     "remove-input"
    ]
   },
   "outputs": [
    {
     "data": {
      "application/vnd.plotly.v1+json": {
       "config": {
        "plotlyServerURL": "https://plot.ly"
       },
       "data": [
        {
         "alignmentgroup": "True",
         "bingroup": "x",
         "histnorm": "probability",
         "hovertemplate": "longevity=%{x}<br>probability=%{y}<extra></extra>",
         "legendgroup": "",
         "marker": {
          "color": "#1F77B4",
          "pattern": {
           "shape": ""
          }
         },
         "name": "",
         "nbinsx": 20,
         "offsetgroup": "",
         "orientation": "v",
         "showlegend": false,
         "type": "histogram",
         "x": [
          12.52,
          14,
          12.92,
          13.84,
          12.49,
          11.66,
          12.5,
          13,
          11.67,
          12.53,
          12.58,
          13.92,
          11.42,
          12.63,
          11.81,
          16.5,
          11.05,
          12.87,
          12.54,
          12.8,
          13.51,
          11.95,
          12.21,
          11.46,
          12.42,
          14.42,
          12.04,
          12.25,
          9.67,
          13.2,
          12.28,
          12.6,
          11.63,
          11.83,
          12,
          12.04,
          12.44,
          12.3,
          9.48,
          12.31,
          11.1,
          11.57,
          11,
          11.17,
          13.07,
          9.02,
          10.92,
          10.33,
          10.1,
          10.6,
          11.29,
          11.27,
          11.43,
          13.58,
          10.02,
          12.05,
          10.34,
          12.25,
          10,
          12.17,
          12,
          10,
          9.36,
          10.69,
          9.11,
          9.4,
          11.92,
          9.32,
          9.73,
          11.56,
          11.19,
          10.16,
          9.1,
          9,
          9.08,
          7.56,
          10.21,
          8.81,
          10.67,
          9.01,
          6.75,
          6.94,
          7.57,
          6.5,
          6.96,
          7.78,
          6.29,
          11.45,
          11.5,
          null,
          null,
          null,
          null,
          10.75,
          12.77,
          null,
          null,
          null,
          null,
          null,
          null,
          null,
          14.67,
          null,
          12.7,
          8.42,
          10.08,
          null,
          null,
          10.75,
          null,
          null,
          9.9,
          7.33,
          11.17,
          11.42,
          10,
          10.42,
          10,
          6.8,
          null,
          10.25,
          null,
          null,
          11.57,
          null,
          9.33,
          9.25,
          12.17,
          9.17,
          null,
          null,
          6.98,
          10,
          9.32,
          6.6,
          null,
          null,
          12.67,
          null,
          null,
          null,
          6.5,
          10.8,
          null,
          12.7,
          null,
          10.8,
          11.42,
          null,
          null,
          null,
          13,
          8.7,
          12.25,
          7,
          14.25,
          11,
          13.17,
          12.16,
          9,
          null,
          11.17,
          14.17,
          11.92,
          null,
          12.5,
          null,
          null,
          13.17,
          8.8,
          null
         ],
         "xaxis": "x",
         "yaxis": "y"
        },
        {
         "alignmentgroup": "True",
         "boxpoints": "all",
         "fillcolor": "rgba(255,255,255,0)",
         "hoveron": "points",
         "hovertemplate": "longevity=%{x}<extra></extra>",
         "jitter": 0,
         "legendgroup": "",
         "line": {
          "color": "rgba(255,255,255,0)"
         },
         "marker": {
          "color": "#1F77B4",
          "symbol": "line-ns-open"
         },
         "name": "",
         "offsetgroup": "",
         "showlegend": false,
         "type": "box",
         "x": [
          12.52,
          14,
          12.92,
          13.84,
          12.49,
          11.66,
          12.5,
          13,
          11.67,
          12.53,
          12.58,
          13.92,
          11.42,
          12.63,
          11.81,
          16.5,
          11.05,
          12.87,
          12.54,
          12.8,
          13.51,
          11.95,
          12.21,
          11.46,
          12.42,
          14.42,
          12.04,
          12.25,
          9.67,
          13.2,
          12.28,
          12.6,
          11.63,
          11.83,
          12,
          12.04,
          12.44,
          12.3,
          9.48,
          12.31,
          11.1,
          11.57,
          11,
          11.17,
          13.07,
          9.02,
          10.92,
          10.33,
          10.1,
          10.6,
          11.29,
          11.27,
          11.43,
          13.58,
          10.02,
          12.05,
          10.34,
          12.25,
          10,
          12.17,
          12,
          10,
          9.36,
          10.69,
          9.11,
          9.4,
          11.92,
          9.32,
          9.73,
          11.56,
          11.19,
          10.16,
          9.1,
          9,
          9.08,
          7.56,
          10.21,
          8.81,
          10.67,
          9.01,
          6.75,
          6.94,
          7.57,
          6.5,
          6.96,
          7.78,
          6.29,
          11.45,
          11.5,
          null,
          null,
          null,
          null,
          10.75,
          12.77,
          null,
          null,
          null,
          null,
          null,
          null,
          null,
          14.67,
          null,
          12.7,
          8.42,
          10.08,
          null,
          null,
          10.75,
          null,
          null,
          9.9,
          7.33,
          11.17,
          11.42,
          10,
          10.42,
          10,
          6.8,
          null,
          10.25,
          null,
          null,
          11.57,
          null,
          9.33,
          9.25,
          12.17,
          9.17,
          null,
          null,
          6.98,
          10,
          9.32,
          6.6,
          null,
          null,
          12.67,
          null,
          null,
          null,
          6.5,
          10.8,
          null,
          12.7,
          null,
          10.8,
          11.42,
          null,
          null,
          null,
          13,
          8.7,
          12.25,
          7,
          14.25,
          11,
          13.17,
          12.16,
          9,
          null,
          11.17,
          14.17,
          11.92,
          null,
          12.5,
          null,
          null,
          13.17,
          8.8,
          null
         ],
         "xaxis": "x2",
         "yaxis": "y2"
        }
       ],
       "layout": {
        "barmode": "relative",
        "height": 250,
        "legend": {
         "tracegroupgap": 0
        },
        "template": {
         "data": {
          "bar": [
           {
            "error_x": {
             "color": "rgb(36,36,36)"
            },
            "error_y": {
             "color": "rgb(36,36,36)"
            },
            "marker": {
             "line": {
              "color": "white",
              "width": 0.5
             },
             "pattern": {
              "fillmode": "overlay",
              "size": 10,
              "solidity": 0.2
             }
            },
            "type": "bar"
           }
          ],
          "barpolar": [
           {
            "marker": {
             "line": {
              "color": "white",
              "width": 0.5
             },
             "pattern": {
              "fillmode": "overlay",
              "size": 10,
              "solidity": 0.2
             }
            },
            "type": "barpolar"
           }
          ],
          "carpet": [
           {
            "aaxis": {
             "endlinecolor": "rgb(36,36,36)",
             "gridcolor": "white",
             "linecolor": "white",
             "minorgridcolor": "white",
             "startlinecolor": "rgb(36,36,36)"
            },
            "baxis": {
             "endlinecolor": "rgb(36,36,36)",
             "gridcolor": "white",
             "linecolor": "white",
             "minorgridcolor": "white",
             "startlinecolor": "rgb(36,36,36)"
            },
            "type": "carpet"
           }
          ],
          "choropleth": [
           {
            "colorbar": {
             "outlinewidth": 1,
             "tickcolor": "rgb(36,36,36)",
             "ticks": "outside"
            },
            "type": "choropleth"
           }
          ],
          "contour": [
           {
            "colorbar": {
             "outlinewidth": 1,
             "tickcolor": "rgb(36,36,36)",
             "ticks": "outside"
            },
            "colorscale": [
             [
              0,
              "#440154"
             ],
             [
              0.1111111111111111,
              "#482878"
             ],
             [
              0.2222222222222222,
              "#3e4989"
             ],
             [
              0.3333333333333333,
              "#31688e"
             ],
             [
              0.4444444444444444,
              "#26828e"
             ],
             [
              0.5555555555555556,
              "#1f9e89"
             ],
             [
              0.6666666666666666,
              "#35b779"
             ],
             [
              0.7777777777777778,
              "#6ece58"
             ],
             [
              0.8888888888888888,
              "#b5de2b"
             ],
             [
              1,
              "#fde725"
             ]
            ],
            "type": "contour"
           }
          ],
          "contourcarpet": [
           {
            "colorbar": {
             "outlinewidth": 1,
             "tickcolor": "rgb(36,36,36)",
             "ticks": "outside"
            },
            "type": "contourcarpet"
           }
          ],
          "heatmap": [
           {
            "colorbar": {
             "outlinewidth": 1,
             "tickcolor": "rgb(36,36,36)",
             "ticks": "outside"
            },
            "colorscale": [
             [
              0,
              "#440154"
             ],
             [
              0.1111111111111111,
              "#482878"
             ],
             [
              0.2222222222222222,
              "#3e4989"
             ],
             [
              0.3333333333333333,
              "#31688e"
             ],
             [
              0.4444444444444444,
              "#26828e"
             ],
             [
              0.5555555555555556,
              "#1f9e89"
             ],
             [
              0.6666666666666666,
              "#35b779"
             ],
             [
              0.7777777777777778,
              "#6ece58"
             ],
             [
              0.8888888888888888,
              "#b5de2b"
             ],
             [
              1,
              "#fde725"
             ]
            ],
            "type": "heatmap"
           }
          ],
          "heatmapgl": [
           {
            "colorbar": {
             "outlinewidth": 1,
             "tickcolor": "rgb(36,36,36)",
             "ticks": "outside"
            },
            "colorscale": [
             [
              0,
              "#440154"
             ],
             [
              0.1111111111111111,
              "#482878"
             ],
             [
              0.2222222222222222,
              "#3e4989"
             ],
             [
              0.3333333333333333,
              "#31688e"
             ],
             [
              0.4444444444444444,
              "#26828e"
             ],
             [
              0.5555555555555556,
              "#1f9e89"
             ],
             [
              0.6666666666666666,
              "#35b779"
             ],
             [
              0.7777777777777778,
              "#6ece58"
             ],
             [
              0.8888888888888888,
              "#b5de2b"
             ],
             [
              1,
              "#fde725"
             ]
            ],
            "type": "heatmapgl"
           }
          ],
          "histogram": [
           {
            "marker": {
             "line": {
              "color": "white",
              "width": 0.6
             }
            },
            "type": "histogram"
           }
          ],
          "histogram2d": [
           {
            "colorbar": {
             "outlinewidth": 1,
             "tickcolor": "rgb(36,36,36)",
             "ticks": "outside"
            },
            "colorscale": [
             [
              0,
              "#440154"
             ],
             [
              0.1111111111111111,
              "#482878"
             ],
             [
              0.2222222222222222,
              "#3e4989"
             ],
             [
              0.3333333333333333,
              "#31688e"
             ],
             [
              0.4444444444444444,
              "#26828e"
             ],
             [
              0.5555555555555556,
              "#1f9e89"
             ],
             [
              0.6666666666666666,
              "#35b779"
             ],
             [
              0.7777777777777778,
              "#6ece58"
             ],
             [
              0.8888888888888888,
              "#b5de2b"
             ],
             [
              1,
              "#fde725"
             ]
            ],
            "type": "histogram2d"
           }
          ],
          "histogram2dcontour": [
           {
            "colorbar": {
             "outlinewidth": 1,
             "tickcolor": "rgb(36,36,36)",
             "ticks": "outside"
            },
            "colorscale": [
             [
              0,
              "#440154"
             ],
             [
              0.1111111111111111,
              "#482878"
             ],
             [
              0.2222222222222222,
              "#3e4989"
             ],
             [
              0.3333333333333333,
              "#31688e"
             ],
             [
              0.4444444444444444,
              "#26828e"
             ],
             [
              0.5555555555555556,
              "#1f9e89"
             ],
             [
              0.6666666666666666,
              "#35b779"
             ],
             [
              0.7777777777777778,
              "#6ece58"
             ],
             [
              0.8888888888888888,
              "#b5de2b"
             ],
             [
              1,
              "#fde725"
             ]
            ],
            "type": "histogram2dcontour"
           }
          ],
          "mesh3d": [
           {
            "colorbar": {
             "outlinewidth": 1,
             "tickcolor": "rgb(36,36,36)",
             "ticks": "outside"
            },
            "type": "mesh3d"
           }
          ],
          "parcoords": [
           {
            "line": {
             "colorbar": {
              "outlinewidth": 1,
              "tickcolor": "rgb(36,36,36)",
              "ticks": "outside"
             }
            },
            "type": "parcoords"
           }
          ],
          "pie": [
           {
            "automargin": true,
            "type": "pie"
           }
          ],
          "scatter": [
           {
            "marker": {
             "colorbar": {
              "outlinewidth": 1,
              "tickcolor": "rgb(36,36,36)",
              "ticks": "outside"
             }
            },
            "type": "scatter"
           }
          ],
          "scatter3d": [
           {
            "line": {
             "colorbar": {
              "outlinewidth": 1,
              "tickcolor": "rgb(36,36,36)",
              "ticks": "outside"
             }
            },
            "marker": {
             "colorbar": {
              "outlinewidth": 1,
              "tickcolor": "rgb(36,36,36)",
              "ticks": "outside"
             }
            },
            "type": "scatter3d"
           }
          ],
          "scattercarpet": [
           {
            "marker": {
             "colorbar": {
              "outlinewidth": 1,
              "tickcolor": "rgb(36,36,36)",
              "ticks": "outside"
             }
            },
            "type": "scattercarpet"
           }
          ],
          "scattergeo": [
           {
            "marker": {
             "colorbar": {
              "outlinewidth": 1,
              "tickcolor": "rgb(36,36,36)",
              "ticks": "outside"
             }
            },
            "type": "scattergeo"
           }
          ],
          "scattergl": [
           {
            "marker": {
             "colorbar": {
              "outlinewidth": 1,
              "tickcolor": "rgb(36,36,36)",
              "ticks": "outside"
             }
            },
            "type": "scattergl"
           }
          ],
          "scattermapbox": [
           {
            "marker": {
             "colorbar": {
              "outlinewidth": 1,
              "tickcolor": "rgb(36,36,36)",
              "ticks": "outside"
             }
            },
            "type": "scattermapbox"
           }
          ],
          "scatterpolar": [
           {
            "marker": {
             "colorbar": {
              "outlinewidth": 1,
              "tickcolor": "rgb(36,36,36)",
              "ticks": "outside"
             }
            },
            "type": "scatterpolar"
           }
          ],
          "scatterpolargl": [
           {
            "marker": {
             "colorbar": {
              "outlinewidth": 1,
              "tickcolor": "rgb(36,36,36)",
              "ticks": "outside"
             }
            },
            "type": "scatterpolargl"
           }
          ],
          "scatterternary": [
           {
            "marker": {
             "colorbar": {
              "outlinewidth": 1,
              "tickcolor": "rgb(36,36,36)",
              "ticks": "outside"
             }
            },
            "type": "scatterternary"
           }
          ],
          "surface": [
           {
            "colorbar": {
             "outlinewidth": 1,
             "tickcolor": "rgb(36,36,36)",
             "ticks": "outside"
            },
            "colorscale": [
             [
              0,
              "#440154"
             ],
             [
              0.1111111111111111,
              "#482878"
             ],
             [
              0.2222222222222222,
              "#3e4989"
             ],
             [
              0.3333333333333333,
              "#31688e"
             ],
             [
              0.4444444444444444,
              "#26828e"
             ],
             [
              0.5555555555555556,
              "#1f9e89"
             ],
             [
              0.6666666666666666,
              "#35b779"
             ],
             [
              0.7777777777777778,
              "#6ece58"
             ],
             [
              0.8888888888888888,
              "#b5de2b"
             ],
             [
              1,
              "#fde725"
             ]
            ],
            "type": "surface"
           }
          ],
          "table": [
           {
            "cells": {
             "fill": {
              "color": "rgb(237,237,237)"
             },
             "line": {
              "color": "white"
             }
            },
            "header": {
             "fill": {
              "color": "rgb(217,217,217)"
             },
             "line": {
              "color": "white"
             }
            },
            "type": "table"
           }
          ]
         },
         "layout": {
          "annotationdefaults": {
           "arrowhead": 0,
           "arrowwidth": 1
          },
          "autosize": true,
          "autotypenumbers": "strict",
          "coloraxis": {
           "colorbar": {
            "outlinewidth": 1,
            "tickcolor": "rgb(36,36,36)",
            "ticks": "outside"
           }
          },
          "colorscale": {
           "diverging": [
            [
             0,
             "rgb(103,0,31)"
            ],
            [
             0.1,
             "rgb(178,24,43)"
            ],
            [
             0.2,
             "rgb(214,96,77)"
            ],
            [
             0.3,
             "rgb(244,165,130)"
            ],
            [
             0.4,
             "rgb(253,219,199)"
            ],
            [
             0.5,
             "rgb(247,247,247)"
            ],
            [
             0.6,
             "rgb(209,229,240)"
            ],
            [
             0.7,
             "rgb(146,197,222)"
            ],
            [
             0.8,
             "rgb(67,147,195)"
            ],
            [
             0.9,
             "rgb(33,102,172)"
            ],
            [
             1,
             "rgb(5,48,97)"
            ]
           ],
           "sequential": [
            [
             0,
             "#440154"
            ],
            [
             0.1111111111111111,
             "#482878"
            ],
            [
             0.2222222222222222,
             "#3e4989"
            ],
            [
             0.3333333333333333,
             "#31688e"
            ],
            [
             0.4444444444444444,
             "#26828e"
            ],
            [
             0.5555555555555556,
             "#1f9e89"
            ],
            [
             0.6666666666666666,
             "#35b779"
            ],
            [
             0.7777777777777778,
             "#6ece58"
            ],
            [
             0.8888888888888888,
             "#b5de2b"
            ],
            [
             1,
             "#fde725"
            ]
           ],
           "sequentialminus": [
            [
             0,
             "#440154"
            ],
            [
             0.1111111111111111,
             "#482878"
            ],
            [
             0.2222222222222222,
             "#3e4989"
            ],
            [
             0.3333333333333333,
             "#31688e"
            ],
            [
             0.4444444444444444,
             "#26828e"
            ],
            [
             0.5555555555555556,
             "#1f9e89"
            ],
            [
             0.6666666666666666,
             "#35b779"
            ],
            [
             0.7777777777777778,
             "#6ece58"
            ],
            [
             0.8888888888888888,
             "#b5de2b"
            ],
            [
             1,
             "#fde725"
            ]
           ]
          },
          "colorway": [
           "#1F77B4",
           "#FF7F0E",
           "#2CA02C",
           "#D62728",
           "#9467BD",
           "#8C564B",
           "#E377C2",
           "#7F7F7F",
           "#BCBD22",
           "#17BECF"
          ],
          "font": {
           "color": "rgb(36,36,36)"
          },
          "geo": {
           "bgcolor": "white",
           "lakecolor": "white",
           "landcolor": "white",
           "showlakes": true,
           "showland": true,
           "subunitcolor": "white"
          },
          "height": 250,
          "hoverlabel": {
           "align": "left"
          },
          "hovermode": "closest",
          "mapbox": {
           "style": "light"
          },
          "margin": {
           "b": 10,
           "l": 10,
           "r": 10,
           "t": 10
          },
          "paper_bgcolor": "white",
          "plot_bgcolor": "white",
          "polar": {
           "angularaxis": {
            "gridcolor": "rgb(232,232,232)",
            "linecolor": "rgb(36,36,36)",
            "showgrid": false,
            "showline": true,
            "ticks": "outside"
           },
           "bgcolor": "white",
           "radialaxis": {
            "gridcolor": "rgb(232,232,232)",
            "linecolor": "rgb(36,36,36)",
            "showgrid": false,
            "showline": true,
            "ticks": "outside"
           }
          },
          "scene": {
           "xaxis": {
            "backgroundcolor": "white",
            "gridcolor": "rgb(232,232,232)",
            "gridwidth": 2,
            "linecolor": "rgb(36,36,36)",
            "showbackground": true,
            "showgrid": false,
            "showline": true,
            "ticks": "outside",
            "zeroline": false,
            "zerolinecolor": "rgb(36,36,36)"
           },
           "yaxis": {
            "backgroundcolor": "white",
            "gridcolor": "rgb(232,232,232)",
            "gridwidth": 2,
            "linecolor": "rgb(36,36,36)",
            "showbackground": true,
            "showgrid": false,
            "showline": true,
            "ticks": "outside",
            "zeroline": false,
            "zerolinecolor": "rgb(36,36,36)"
           },
           "zaxis": {
            "backgroundcolor": "white",
            "gridcolor": "rgb(232,232,232)",
            "gridwidth": 2,
            "linecolor": "rgb(36,36,36)",
            "showbackground": true,
            "showgrid": false,
            "showline": true,
            "ticks": "outside",
            "zeroline": false,
            "zerolinecolor": "rgb(36,36,36)"
           }
          },
          "shapedefaults": {
           "fillcolor": "black",
           "line": {
            "width": 0
           },
           "opacity": 0.3
          },
          "ternary": {
           "aaxis": {
            "gridcolor": "rgb(232,232,232)",
            "linecolor": "rgb(36,36,36)",
            "showgrid": false,
            "showline": true,
            "ticks": "outside"
           },
           "baxis": {
            "gridcolor": "rgb(232,232,232)",
            "linecolor": "rgb(36,36,36)",
            "showgrid": false,
            "showline": true,
            "ticks": "outside"
           },
           "bgcolor": "white",
           "caxis": {
            "gridcolor": "rgb(232,232,232)",
            "linecolor": "rgb(36,36,36)",
            "showgrid": false,
            "showline": true,
            "ticks": "outside"
           }
          },
          "title": {
           "x": 0.5,
           "xanchor": "center"
          },
          "width": 350,
          "xaxis": {
           "automargin": true,
           "gridcolor": "rgb(232,232,232)",
           "linecolor": "rgb(36,36,36)",
           "showgrid": true,
           "showline": true,
           "ticks": "outside",
           "title": {
            "standoff": 15
           },
           "zeroline": false,
           "zerolinecolor": "rgb(36,36,36)"
          },
          "yaxis": {
           "automargin": true,
           "gridcolor": "rgb(232,232,232)",
           "linecolor": "rgb(36,36,36)",
           "showgrid": true,
           "showline": true,
           "ticks": "outside",
           "title": {
            "standoff": 15
           },
           "zeroline": false,
           "zerolinecolor": "rgb(36,36,36)"
          }
         }
        },
        "width": 350,
        "xaxis": {
         "anchor": "y",
         "domain": [
          0,
          1
         ],
         "range": [
          4.5,
          18.5
         ],
         "title": {
          "text": "longevity (years)"
         },
         "type": "linear"
        },
        "xaxis2": {
         "anchor": "y2",
         "domain": [
          0,
          1
         ],
         "matches": "x",
         "range": [
          4.5,
          18.5
         ],
         "showticklabels": false,
         "type": "linear"
        },
        "yaxis": {
         "anchor": "x",
         "autorange": true,
         "domain": [
          0,
          0.8316
         ],
         "range": [
          0,
          0.2573099415204678
         ],
         "title": {
          "text": "density"
         }
        },
        "yaxis2": {
         "anchor": "x2",
         "autorange": true,
         "domain": [
          0.8416,
          1
         ],
         "matches": "y2",
         "range": [
          -0.6168661181750187,
          0.5
         ],
         "showline": false,
         "showticklabels": false,
         "ticks": "",
         "type": "category"
        }
       }
      },
      "image/png": "[encoded data removed]",
      "image/svg+xml": [
       "<svg class=\"main-svg\" xmlns=\"http://www.w3.org/2000/svg\" xmlns:xlink=\"http://www.w3.org/1999/xlink\" width=\"350\" height=\"250\" style=\"\" viewBox=\"0 0 350 250\"><rect x=\"0\" y=\"0\" width=\"350\" height=\"250\" style=\"fill: rgb(255, 255, 255); fill-opacity: 1;\"/><defs id=\"defs-e4a957\"><g class=\"clips\"><clipPath id=\"clipe4a957xyplot\" class=\"plotclip\"><rect width=\"280\" height=\"150.5196\"/></clipPath><clipPath id=\"clipe4a957x2y2plot\" class=\"plotclip\"><rect width=\"280\" height=\"28.670399999999997\"/></clipPath><clipPath class=\"axesclip\" id=\"clipe4a957x\"><rect x=\"60\" y=\"0\" width=\"280\" height=\"250\"/></clipPath><clipPath class=\"axesclip\" id=\"clipe4a957y\"><rect x=\"0\" y=\"40.4804\" width=\"350\" height=\"150.5196\"/></clipPath><clipPath class=\"axesclip\" id=\"clipe4a957xy\"><rect x=\"60\" y=\"40.4804\" width=\"280\" height=\"150.5196\"/></clipPath><clipPath class=\"axesclip\" id=\"clipe4a957y2\"><rect x=\"0\" y=\"10\" width=\"350\" height=\"28.670399999999997\"/></clipPath><clipPath class=\"axesclip\" id=\"clipe4a957xy2\"><rect x=\"60\" y=\"10\" width=\"280\" height=\"28.670399999999997\"/></clipPath><clipPath class=\"axesclip\" id=\"clipe4a957x2\"><rect x=\"60\" y=\"0\" width=\"280\" height=\"250\"/></clipPath><clipPath class=\"axesclip\" id=\"clipe4a957x2y\"><rect x=\"60\" y=\"40.4804\" width=\"280\" height=\"150.5196\"/></clipPath><clipPath class=\"axesclip\" id=\"clipe4a957x2y2\"><rect x=\"60\" y=\"10\" width=\"280\" height=\"28.670399999999997\"/></clipPath></g><g class=\"gradients\"/><g class=\"patterns\"/></defs><g class=\"bglayer\"/><g class=\"layer-below\"><g class=\"imagelayer\"/><g class=\"shapelayer\"/></g><g class=\"cartesianlayer\"><g class=\"subplot xy\"><g class=\"layer-subplot\"><g class=\"shapelayer\"/><g class=\"imagelayer\"/></g><g class=\"gridlayer\"><g class=\"x\"><path class=\"xgrid crisp\" transform=\"translate(70,0)\" d=\"M0,40.4804v150.5196\" style=\"stroke: rgb(232, 232, 232); stroke-opacity: 1; stroke-width: 1px;\"/><path class=\"xgrid crisp\" transform=\"translate(170,0)\" d=\"M0,40.4804v150.5196\" style=\"stroke: rgb(232, 232, 232); stroke-opacity: 1; stroke-width: 1px;\"/><path class=\"xgrid crisp\" transform=\"translate(270,0)\" d=\"M0,40.4804v150.5196\" style=\"stroke: rgb(232, 232, 232); stroke-opacity: 1; stroke-width: 1px;\"/></g><g class=\"y\"><path class=\"ygrid crisp\" transform=\"translate(0,132.5004)\" d=\"M60,0h280\" style=\"stroke: rgb(232, 232, 232); stroke-opacity: 1; stroke-width: 1px;\"/><path class=\"ygrid crisp\" transform=\"translate(0,74.00040000000001)\" d=\"M60,0h280\" style=\"stroke: rgb(232, 232, 232); stroke-opacity: 1; stroke-width: 1px;\"/></g></g><g class=\"zerolinelayer\"/><path class=\"xlines-below\"/><path class=\"ylines-below\"/><g class=\"overlines-below\"/><g class=\"xaxislayer-below\"/><g class=\"yaxislayer-below\"/><g class=\"overaxes-below\"/><g class=\"plot\" transform=\"translate(60,40.4804)\" clip-path=\"url(#clipe4a957xyplot)\"><g class=\"barlayer mlayer\"><g class=\"trace bars\" style=\"opacity: 1;\"><g class=\"points\"><g class=\"point\"><path d=\"M30,150.52V111.52H50V150.52Z\" style=\"vector-effect: non-scaling-stroke; opacity: 1; stroke-width: 0.6px; fill: rgb(31, 119, 180); fill-opacity: 1; stroke: rgb(255, 255, 255); stroke-opacity: 1;\"/></g><g class=\"point\"><path d=\"M50,150.52V128.85H70V150.52Z\" style=\"vector-effect: non-scaling-stroke; opacity: 1; stroke-width: 0.6px; fill: rgb(31, 119, 180); fill-opacity: 1; stroke: rgb(255, 255, 255); stroke-opacity: 1;\"/></g><g class=\"point\"><path d=\"M70,150.52V133.19H90V150.52Z\" style=\"vector-effect: non-scaling-stroke; opacity: 1; stroke-width: 0.6px; fill: rgb(31, 119, 180); fill-opacity: 1; stroke: rgb(255, 255, 255); stroke-opacity: 1;\"/></g><g class=\"point\"><path d=\"M90,150.52V72.52H110V150.52Z\" style=\"vector-effect: non-scaling-stroke; opacity: 1; stroke-width: 0.6px; fill: rgb(31, 119, 180); fill-opacity: 1; stroke: rgb(255, 255, 255); stroke-opacity: 1;\"/></g><g class=\"point\"><path d=\"M110,150.52V55.19H130V150.52Z\" style=\"vector-effect: non-scaling-stroke; opacity: 1; stroke-width: 0.6px; fill: rgb(31, 119, 180); fill-opacity: 1; stroke: rgb(255, 255, 255); stroke-opacity: 1;\"/></g><g class=\"point\"><path d=\"M130,150.52V29.19H150V150.52Z\" style=\"vector-effect: non-scaling-stroke; opacity: 1; stroke-width: 0.6px; fill: rgb(31, 119, 180); fill-opacity: 1; stroke: rgb(255, 255, 255); stroke-opacity: 1;\"/></g><g class=\"point\"><path d=\"M150,150.52V7.53H170V150.52Z\" style=\"vector-effect: non-scaling-stroke; opacity: 1; stroke-width: 0.6px; fill: rgb(31, 119, 180); fill-opacity: 1; stroke: rgb(255, 255, 255); stroke-opacity: 1;\"/></g><g class=\"point\"><path d=\"M170,150.52V107.19H190V150.52Z\" style=\"vector-effect: non-scaling-stroke; opacity: 1; stroke-width: 0.6px; fill: rgb(31, 119, 180); fill-opacity: 1; stroke: rgb(255, 255, 255); stroke-opacity: 1;\"/></g><g class=\"point\"><path d=\"M190,150.52V128.85H210V150.52Z\" style=\"vector-effect: non-scaling-stroke; opacity: 1; stroke-width: 0.6px; fill: rgb(31, 119, 180); fill-opacity: 1; stroke: rgb(255, 255, 255); stroke-opacity: 1;\"/></g><g class=\"point\"><path d=\"M0,0Z\" style=\"vector-effect: non-scaling-stroke; opacity: 1; stroke-width: 0px; fill: rgb(31, 119, 180); fill-opacity: 1; stroke: rgb(255, 255, 255); stroke-opacity: 1;\"/></g><g class=\"point\"><path d=\"M230,150.52V146.19H250V150.52Z\" style=\"vector-effect: non-scaling-stroke; opacity: 1; stroke-width: 0.6px; fill: rgb(31, 119, 180); fill-opacity: 1; stroke: rgb(255, 255, 255); stroke-opacity: 1;\"/></g></g></g></g></g><g class=\"overplot\"/><path class=\"xlines-above crisp\" d=\"M59,191.5H340\" style=\"fill: none; stroke-width: 1px; stroke: rgb(36, 36, 36); stroke-opacity: 1;\"/><path class=\"ylines-above crisp\" d=\"M59.5,40.4804V191\" style=\"fill: none; stroke-width: 1px; stroke: rgb(36, 36, 36); stroke-opacity: 1;\"/><g class=\"overlines-above\"/><g class=\"xaxislayer-above\"><path class=\"xtick ticks crisp\" d=\"M0,192v5\" transform=\"translate(70,0)\" style=\"stroke: rgb(68, 68, 68); stroke-opacity: 1; stroke-width: 1px;\"/><path class=\"xtick ticks crisp\" d=\"M0,192v5\" transform=\"translate(170,0)\" style=\"stroke: rgb(68, 68, 68); stroke-opacity: 1; stroke-width: 1px;\"/><path class=\"xtick ticks crisp\" d=\"M0,192v5\" transform=\"translate(270,0)\" style=\"stroke: rgb(68, 68, 68); stroke-opacity: 1; stroke-width: 1px;\"/><g class=\"xtick\"><text text-anchor=\"middle\" x=\"0\" y=\"211.4\" transform=\"translate(70,0)\" style=\"font-family: 'Open Sans', verdana, arial, sans-serif; font-size: 12px; fill: rgb(36, 36, 36); fill-opacity: 1; white-space: pre; opacity: 1;\">5</text></g><g class=\"xtick\"><text text-anchor=\"middle\" x=\"0\" y=\"211.4\" style=\"font-family: 'Open Sans', verdana, arial, sans-serif; font-size: 12px; fill: rgb(36, 36, 36); fill-opacity: 1; white-space: pre; opacity: 1;\" transform=\"translate(170,0)\">10</text></g><g class=\"xtick\"><text text-anchor=\"middle\" x=\"0\" y=\"211.4\" style=\"font-family: 'Open Sans', verdana, arial, sans-serif; font-size: 12px; fill: rgb(36, 36, 36); fill-opacity: 1; white-space: pre; opacity: 1;\" transform=\"translate(270,0)\">15</text></g></g><g class=\"yaxislayer-above\"><path class=\"ytick ticks crisp\" d=\"M59,0h-5\" transform=\"translate(0,191.0004)\" style=\"stroke: rgb(68, 68, 68); stroke-opacity: 1; stroke-width: 1px;\"/><path class=\"ytick ticks crisp\" d=\"M59,0h-5\" transform=\"translate(0,132.5004)\" style=\"stroke: rgb(68, 68, 68); stroke-opacity: 1; stroke-width: 1px;\"/><path class=\"ytick ticks crisp\" d=\"M59,0h-5\" transform=\"translate(0,74.00040000000001)\" style=\"stroke: rgb(68, 68, 68); stroke-opacity: 1; stroke-width: 1px;\"/><g class=\"ytick\"><text text-anchor=\"end\" x=\"51.6\" y=\"4.199999999999999\" transform=\"translate(0,191.0004)\" style=\"font-family: 'Open Sans', verdana, arial, sans-serif; font-size: 12px; fill: rgb(36, 36, 36); fill-opacity: 1; white-space: pre; opacity: 1;\">0</text></g><g class=\"ytick\"><text text-anchor=\"end\" x=\"51.6\" y=\"4.199999999999999\" style=\"font-family: 'Open Sans', verdana, arial, sans-serif; font-size: 12px; fill: rgb(36, 36, 36); fill-opacity: 1; white-space: pre; opacity: 1;\" transform=\"translate(0,132.5004)\">0.1</text></g><g class=\"ytick\"><text text-anchor=\"end\" x=\"51.6\" y=\"4.199999999999999\" style=\"font-family: 'Open Sans', verdana, arial, sans-serif; font-size: 12px; fill: rgb(36, 36, 36); fill-opacity: 1; white-space: pre; opacity: 1;\" transform=\"translate(0,74.00040000000001)\">0.2</text></g></g><g class=\"overaxes-above\"/></g><g class=\"subplot x2y2\"><g class=\"layer-subplot\"><g class=\"shapelayer\"/><g class=\"imagelayer\"/></g><g class=\"gridlayer\"><g class=\"x2\"><path class=\"x2grid crisp\" transform=\"translate(70,0)\" d=\"M0,10v28.670399999999997\" style=\"stroke: rgb(232, 232, 232); stroke-opacity: 1; stroke-width: 1px;\"/><path class=\"x2grid crisp\" transform=\"translate(170,0)\" d=\"M0,10v28.670399999999997\" style=\"stroke: rgb(232, 232, 232); stroke-opacity: 1; stroke-width: 1px;\"/><path class=\"x2grid crisp\" transform=\"translate(270,0)\" d=\"M0,10v28.670399999999997\" style=\"stroke: rgb(232, 232, 232); stroke-opacity: 1; stroke-width: 1px;\"/></g><g class=\"y2\"><path class=\"y2grid crisp\" transform=\"translate(0,22.84)\" d=\"M60,0h280\" style=\"stroke: rgb(232, 232, 232); stroke-opacity: 1; stroke-width: 1px;\"/></g></g><g class=\"zerolinelayer\"/><path class=\"xlines-below\"/><path class=\"ylines-below\"/><g class=\"overlines-below\"/><g class=\"xaxislayer-below\"/><g class=\"yaxislayer-below\"/><g class=\"overaxes-below\"/><g class=\"plot\" transform=\"translate(60,10)\" clip-path=\"url(#clipe4a957x2y2plot)\"><g class=\"boxlayer mlayer\"><g class=\"trace boxes\" style=\"opacity: 1;\"><path class=\"box\" d=\"M135.8,19.12V6.55M103.7,19.12V6.55H157.85V19.12ZM103.7,12.84H35.8M157.85,12.84H203.4M35.8,15.98V9.69M203.4,15.98V9.69\" style=\"vector-effect: non-scaling-stroke; stroke-width: 2px; stroke: rgb(255, 255, 255); stroke-opacity: 0; fill: rgb(255, 255, 255); fill-opacity: 0;\"/><g class=\"points\"><path class=\"point\" transform=\"translate(35.8,22.27)\" d=\"M0,4.2V-4.2\" style=\"opacity: 1; stroke: rgb(31, 119, 180); stroke-opacity: 1; stroke-width: 1px; fill: none;\"/><path class=\"point\" transform=\"translate(40,22.27)\" d=\"M0,4.2V-4.2\" style=\"opacity: 1; stroke: rgb(31, 119, 180); stroke-opacity: 1; stroke-width: 1px; fill: none;\"/><path class=\"point\" transform=\"translate(40,22.27)\" d=\"M0,4.2V-4.2\" style=\"opacity: 1; stroke: rgb(31, 119, 180); stroke-opacity: 1; stroke-width: 1px; fill: none;\"/><path class=\"point\" transform=\"translate(42,22.27)\" d=\"M0,4.2V-4.2\" style=\"opacity: 1; stroke: rgb(31, 119, 180); stroke-opacity: 1; stroke-width: 1px; fill: none;\"/><path class=\"point\" transform=\"translate(45,22.27)\" d=\"M0,4.2V-4.2\" style=\"opacity: 1; stroke: rgb(31, 119, 180); stroke-opacity: 1; stroke-width: 1px; fill: none;\"/><path class=\"point\" transform=\"translate(46,22.27)\" d=\"M0,4.2V-4.2\" style=\"opacity: 1; stroke: rgb(31, 119, 180); stroke-opacity: 1; stroke-width: 1px; fill: none;\"/><path class=\"point\" transform=\"translate(48.8,22.27)\" d=\"M0,4.2V-4.2\" style=\"opacity: 1; stroke: rgb(31, 119, 180); stroke-opacity: 1; stroke-width: 1px; fill: none;\"/><path class=\"point\" transform=\"translate(49.2,22.27)\" d=\"M0,4.2V-4.2\" style=\"opacity: 1; stroke: rgb(31, 119, 180); stroke-opacity: 1; stroke-width: 1px; fill: none;\"/><path class=\"point\" transform=\"translate(49.6,22.27)\" d=\"M0,4.2V-4.2\" style=\"opacity: 1; stroke: rgb(31, 119, 180); stroke-opacity: 1; stroke-width: 1px; fill: none;\"/><path class=\"point\" transform=\"translate(50,22.27)\" d=\"M0,4.2V-4.2\" style=\"opacity: 1; stroke: rgb(31, 119, 180); stroke-opacity: 1; stroke-width: 1px; fill: none;\"/><path class=\"point\" transform=\"translate(56.6,22.27)\" d=\"M0,4.2V-4.2\" style=\"opacity: 1; stroke: rgb(31, 119, 180); stroke-opacity: 1; stroke-width: 1px; fill: none;\"/><path class=\"point\" transform=\"translate(61.2,22.27)\" d=\"M0,4.2V-4.2\" style=\"opacity: 1; stroke: rgb(31, 119, 180); stroke-opacity: 1; stroke-width: 1px; fill: none;\"/><path class=\"point\" transform=\"translate(61.4,22.27)\" d=\"M0,4.2V-4.2\" style=\"opacity: 1; stroke: rgb(31, 119, 180); stroke-opacity: 1; stroke-width: 1px; fill: none;\"/><path class=\"point\" transform=\"translate(65.6,22.27)\" d=\"M0,4.2V-4.2\" style=\"opacity: 1; stroke: rgb(31, 119, 180); stroke-opacity: 1; stroke-width: 1px; fill: none;\"/><path class=\"point\" transform=\"translate(78.4,22.27)\" d=\"M0,4.2V-4.2\" style=\"opacity: 1; stroke: rgb(31, 119, 180); stroke-opacity: 1; stroke-width: 1px; fill: none;\"/><path class=\"point\" transform=\"translate(84,22.27)\" d=\"M0,4.2V-4.2\" style=\"opacity: 1; stroke: rgb(31, 119, 180); stroke-opacity: 1; stroke-width: 1px; fill: none;\"/><path class=\"point\" transform=\"translate(86,22.27)\" d=\"M0,4.2V-4.2\" style=\"opacity: 1; stroke: rgb(31, 119, 180); stroke-opacity: 1; stroke-width: 1px; fill: none;\"/><path class=\"point\" transform=\"translate(86.2,22.27)\" d=\"M0,4.2V-4.2\" style=\"opacity: 1; stroke: rgb(31, 119, 180); stroke-opacity: 1; stroke-width: 1px; fill: none;\"/><path class=\"point\" transform=\"translate(90,22.27)\" d=\"M0,4.2V-4.2\" style=\"opacity: 1; stroke: rgb(31, 119, 180); stroke-opacity: 1; stroke-width: 1px; fill: none;\"/><path class=\"point\" transform=\"translate(90,22.27)\" d=\"M0,4.2V-4.2\" style=\"opacity: 1; stroke: rgb(31, 119, 180); stroke-opacity: 1; stroke-width: 1px; fill: none;\"/><path class=\"point\" transform=\"translate(90.2,22.27)\" d=\"M0,4.2V-4.2\" style=\"opacity: 1; stroke: rgb(31, 119, 180); stroke-opacity: 1; stroke-width: 1px; fill: none;\"/><path class=\"point\" transform=\"translate(90.4,22.27)\" d=\"M0,4.2V-4.2\" style=\"opacity: 1; stroke: rgb(31, 119, 180); stroke-opacity: 1; stroke-width: 1px; fill: none;\"/><path class=\"point\" transform=\"translate(91.6,22.27)\" d=\"M0,4.2V-4.2\" style=\"opacity: 1; stroke: rgb(31, 119, 180); stroke-opacity: 1; stroke-width: 1px; fill: none;\"/><path class=\"point\" transform=\"translate(92,22.27)\" d=\"M0,4.2V-4.2\" style=\"opacity: 1; stroke: rgb(31, 119, 180); stroke-opacity: 1; stroke-width: 1px; fill: none;\"/><path class=\"point\" transform=\"translate(92.2,22.27)\" d=\"M0,4.2V-4.2\" style=\"opacity: 1; stroke: rgb(31, 119, 180); stroke-opacity: 1; stroke-width: 1px; fill: none;\"/><path class=\"point\" transform=\"translate(93.4,22.27)\" d=\"M0,4.2V-4.2\" style=\"opacity: 1; stroke: rgb(31, 119, 180); stroke-opacity: 1; stroke-width: 1px; fill: none;\"/><path class=\"point\" transform=\"translate(95,22.27)\" d=\"M0,4.2V-4.2\" style=\"opacity: 1; stroke: rgb(31, 119, 180); stroke-opacity: 1; stroke-width: 1px; fill: none;\"/><path class=\"point\" transform=\"translate(96.4,22.27)\" d=\"M0,4.2V-4.2\" style=\"opacity: 1; stroke: rgb(31, 119, 180); stroke-opacity: 1; stroke-width: 1px; fill: none;\"/><path class=\"point\" transform=\"translate(96.4,22.27)\" d=\"M0,4.2V-4.2\" style=\"opacity: 1; stroke: rgb(31, 119, 180); stroke-opacity: 1; stroke-width: 1px; fill: none;\"/><path class=\"point\" transform=\"translate(96.6,22.27)\" d=\"M0,4.2V-4.2\" style=\"opacity: 1; stroke: rgb(31, 119, 180); stroke-opacity: 1; stroke-width: 1px; fill: none;\"/><path class=\"point\" transform=\"translate(97.2,22.27)\" d=\"M0,4.2V-4.2\" style=\"opacity: 1; stroke: rgb(31, 119, 180); stroke-opacity: 1; stroke-width: 1px; fill: none;\"/><path class=\"point\" transform=\"translate(98,22.27)\" d=\"M0,4.2V-4.2\" style=\"opacity: 1; stroke: rgb(31, 119, 180); stroke-opacity: 1; stroke-width: 1px; fill: none;\"/><path class=\"point\" transform=\"translate(99.6,22.27)\" d=\"M0,4.2V-4.2\" style=\"opacity: 1; stroke: rgb(31, 119, 180); stroke-opacity: 1; stroke-width: 1px; fill: none;\"/><path class=\"point\" transform=\"translate(103.4,22.27)\" d=\"M0,4.2V-4.2\" style=\"opacity: 1; stroke: rgb(31, 119, 180); stroke-opacity: 1; stroke-width: 1px; fill: none;\"/><path class=\"point\" transform=\"translate(104.6,22.27)\" d=\"M0,4.2V-4.2\" style=\"opacity: 1; stroke: rgb(31, 119, 180); stroke-opacity: 1; stroke-width: 1px; fill: none;\"/><path class=\"point\" transform=\"translate(108,22.27)\" d=\"M0,4.2V-4.2\" style=\"opacity: 1; stroke: rgb(31, 119, 180); stroke-opacity: 1; stroke-width: 1px; fill: none;\"/><path class=\"point\" transform=\"translate(110,22.27)\" d=\"M0,4.2V-4.2\" style=\"opacity: 1; stroke: rgb(31, 119, 180); stroke-opacity: 1; stroke-width: 1px; fill: none;\"/><path class=\"point\" transform=\"translate(110,22.27)\" d=\"M0,4.2V-4.2\" style=\"opacity: 1; stroke: rgb(31, 119, 180); stroke-opacity: 1; stroke-width: 1px; fill: none;\"/><path class=\"point\" transform=\"translate(110,22.27)\" d=\"M0,4.2V-4.2\" style=\"opacity: 1; stroke: rgb(31, 119, 180); stroke-opacity: 1; stroke-width: 1px; fill: none;\"/><path class=\"point\" transform=\"translate(110,22.27)\" d=\"M0,4.2V-4.2\" style=\"opacity: 1; stroke: rgb(31, 119, 180); stroke-opacity: 1; stroke-width: 1px; fill: none;\"/><path class=\"point\" transform=\"translate(110,22.27)\" d=\"M0,4.2V-4.2\" style=\"opacity: 1; stroke: rgb(31, 119, 180); stroke-opacity: 1; stroke-width: 1px; fill: none;\"/><path class=\"point\" transform=\"translate(110.4,22.27)\" d=\"M0,4.2V-4.2\" style=\"opacity: 1; stroke: rgb(31, 119, 180); stroke-opacity: 1; stroke-width: 1px; fill: none;\"/><path class=\"point\" transform=\"translate(111.6,22.27)\" d=\"M0,4.2V-4.2\" style=\"opacity: 1; stroke: rgb(31, 119, 180); stroke-opacity: 1; stroke-width: 1px; fill: none;\"/><path class=\"point\" transform=\"translate(112,22.27)\" d=\"M0,4.2V-4.2\" style=\"opacity: 1; stroke: rgb(31, 119, 180); stroke-opacity: 1; stroke-width: 1px; fill: none;\"/><path class=\"point\" transform=\"translate(113.2,22.27)\" d=\"M0,4.2V-4.2\" style=\"opacity: 1; stroke: rgb(31, 119, 180); stroke-opacity: 1; stroke-width: 1px; fill: none;\"/><path class=\"point\" transform=\"translate(114.2,22.27)\" d=\"M0,4.2V-4.2\" style=\"opacity: 1; stroke: rgb(31, 119, 180); stroke-opacity: 1; stroke-width: 1px; fill: none;\"/><path class=\"point\" transform=\"translate(115,22.27)\" d=\"M0,4.2V-4.2\" style=\"opacity: 1; stroke: rgb(31, 119, 180); stroke-opacity: 1; stroke-width: 1px; fill: none;\"/><path class=\"point\" transform=\"translate(116.6,22.27)\" d=\"M0,4.2V-4.2\" style=\"opacity: 1; stroke: rgb(31, 119, 180); stroke-opacity: 1; stroke-width: 1px; fill: none;\"/><path class=\"point\" transform=\"translate(116.8,22.27)\" d=\"M0,4.2V-4.2\" style=\"opacity: 1; stroke: rgb(31, 119, 180); stroke-opacity: 1; stroke-width: 1px; fill: none;\"/><path class=\"point\" transform=\"translate(118.4,22.27)\" d=\"M0,4.2V-4.2\" style=\"opacity: 1; stroke: rgb(31, 119, 180); stroke-opacity: 1; stroke-width: 1px; fill: none;\"/><path class=\"point\" transform=\"translate(122,22.27)\" d=\"M0,4.2V-4.2\" style=\"opacity: 1; stroke: rgb(31, 119, 180); stroke-opacity: 1; stroke-width: 1px; fill: none;\"/><path class=\"point\" transform=\"translate(123.4,22.27)\" d=\"M0,4.2V-4.2\" style=\"opacity: 1; stroke: rgb(31, 119, 180); stroke-opacity: 1; stroke-width: 1px; fill: none;\"/><path class=\"point\" transform=\"translate(123.8,22.27)\" d=\"M0,4.2V-4.2\" style=\"opacity: 1; stroke: rgb(31, 119, 180); stroke-opacity: 1; stroke-width: 1px; fill: none;\"/><path class=\"point\" transform=\"translate(125,22.27)\" d=\"M0,4.2V-4.2\" style=\"opacity: 1; stroke: rgb(31, 119, 180); stroke-opacity: 1; stroke-width: 1px; fill: none;\"/><path class=\"point\" transform=\"translate(125,22.27)\" d=\"M0,4.2V-4.2\" style=\"opacity: 1; stroke: rgb(31, 119, 180); stroke-opacity: 1; stroke-width: 1px; fill: none;\"/><path class=\"point\" transform=\"translate(126,22.27)\" d=\"M0,4.2V-4.2\" style=\"opacity: 1; stroke: rgb(31, 119, 180); stroke-opacity: 1; stroke-width: 1px; fill: none;\"/><path class=\"point\" transform=\"translate(126,22.27)\" d=\"M0,4.2V-4.2\" style=\"opacity: 1; stroke: rgb(31, 119, 180); stroke-opacity: 1; stroke-width: 1px; fill: none;\"/><path class=\"point\" transform=\"translate(128.4,22.27)\" d=\"M0,4.2V-4.2\" style=\"opacity: 1; stroke: rgb(31, 119, 180); stroke-opacity: 1; stroke-width: 1px; fill: none;\"/><path class=\"point\" transform=\"translate(130,22.27)\" d=\"M0,4.2V-4.2\" style=\"opacity: 1; stroke: rgb(31, 119, 180); stroke-opacity: 1; stroke-width: 1px; fill: none;\"/><path class=\"point\" transform=\"translate(130,22.27)\" d=\"M0,4.2V-4.2\" style=\"opacity: 1; stroke: rgb(31, 119, 180); stroke-opacity: 1; stroke-width: 1px; fill: none;\"/><path class=\"point\" transform=\"translate(131,22.27)\" d=\"M0,4.2V-4.2\" style=\"opacity: 1; stroke: rgb(31, 119, 180); stroke-opacity: 1; stroke-width: 1px; fill: none;\"/><path class=\"point\" transform=\"translate(132,22.27)\" d=\"M0,4.2V-4.2\" style=\"opacity: 1; stroke: rgb(31, 119, 180); stroke-opacity: 1; stroke-width: 1px; fill: none;\"/><path class=\"point\" transform=\"translate(133.4,22.27)\" d=\"M0,4.2V-4.2\" style=\"opacity: 1; stroke: rgb(31, 119, 180); stroke-opacity: 1; stroke-width: 1px; fill: none;\"/><path class=\"point\" transform=\"translate(133.4,22.27)\" d=\"M0,4.2V-4.2\" style=\"opacity: 1; stroke: rgb(31, 119, 180); stroke-opacity: 1; stroke-width: 1px; fill: none;\"/><path class=\"point\" transform=\"translate(133.4,22.27)\" d=\"M0,4.2V-4.2\" style=\"opacity: 1; stroke: rgb(31, 119, 180); stroke-opacity: 1; stroke-width: 1px; fill: none;\"/><path class=\"point\" transform=\"translate(133.8,22.27)\" d=\"M0,4.2V-4.2\" style=\"opacity: 1; stroke: rgb(31, 119, 180); stroke-opacity: 1; stroke-width: 1px; fill: none;\"/><path class=\"point\" transform=\"translate(135.4,22.27)\" d=\"M0,4.2V-4.2\" style=\"opacity: 1; stroke: rgb(31, 119, 180); stroke-opacity: 1; stroke-width: 1px; fill: none;\"/><path class=\"point\" transform=\"translate(135.8,22.27)\" d=\"M0,4.2V-4.2\" style=\"opacity: 1; stroke: rgb(31, 119, 180); stroke-opacity: 1; stroke-width: 1px; fill: none;\"/><path class=\"point\" transform=\"translate(138.4,22.27)\" d=\"M0,4.2V-4.2\" style=\"opacity: 1; stroke: rgb(31, 119, 180); stroke-opacity: 1; stroke-width: 1px; fill: none;\"/><path class=\"point\" transform=\"translate(138.4,22.27)\" d=\"M0,4.2V-4.2\" style=\"opacity: 1; stroke: rgb(31, 119, 180); stroke-opacity: 1; stroke-width: 1px; fill: none;\"/><path class=\"point\" transform=\"translate(138.4,22.27)\" d=\"M0,4.2V-4.2\" style=\"opacity: 1; stroke: rgb(31, 119, 180); stroke-opacity: 1; stroke-width: 1px; fill: none;\"/><path class=\"point\" transform=\"translate(138.6,22.27)\" d=\"M0,4.2V-4.2\" style=\"opacity: 1; stroke: rgb(31, 119, 180); stroke-opacity: 1; stroke-width: 1px; fill: none;\"/><path class=\"point\" transform=\"translate(139,22.27)\" d=\"M0,4.2V-4.2\" style=\"opacity: 1; stroke: rgb(31, 119, 180); stroke-opacity: 1; stroke-width: 1px; fill: none;\"/><path class=\"point\" transform=\"translate(139.2,22.27)\" d=\"M0,4.2V-4.2\" style=\"opacity: 1; stroke: rgb(31, 119, 180); stroke-opacity: 1; stroke-width: 1px; fill: none;\"/><path class=\"point\" transform=\"translate(140,22.27)\" d=\"M0,4.2V-4.2\" style=\"opacity: 1; stroke: rgb(31, 119, 180); stroke-opacity: 1; stroke-width: 1px; fill: none;\"/><path class=\"point\" transform=\"translate(141.2,22.27)\" d=\"M0,4.2V-4.2\" style=\"opacity: 1; stroke: rgb(31, 119, 180); stroke-opacity: 1; stroke-width: 1px; fill: none;\"/><path class=\"point\" transform=\"translate(141.4,22.27)\" d=\"M0,4.2V-4.2\" style=\"opacity: 1; stroke: rgb(31, 119, 180); stroke-opacity: 1; stroke-width: 1px; fill: none;\"/><path class=\"point\" transform=\"translate(141.4,22.27)\" d=\"M0,4.2V-4.2\" style=\"opacity: 1; stroke: rgb(31, 119, 180); stroke-opacity: 1; stroke-width: 1px; fill: none;\"/><path class=\"point\" transform=\"translate(142.6,22.27)\" d=\"M0,4.2V-4.2\" style=\"opacity: 1; stroke: rgb(31, 119, 180); stroke-opacity: 1; stroke-width: 1px; fill: none;\"/><path class=\"point\" transform=\"translate(143.2,22.27)\" d=\"M0,4.2V-4.2\" style=\"opacity: 1; stroke: rgb(31, 119, 180); stroke-opacity: 1; stroke-width: 1px; fill: none;\"/><path class=\"point\" transform=\"translate(143.4,22.27)\" d=\"M0,4.2V-4.2\" style=\"opacity: 1; stroke: rgb(31, 119, 180); stroke-opacity: 1; stroke-width: 1px; fill: none;\"/><path class=\"point\" transform=\"translate(146.2,22.27)\" d=\"M0,4.2V-4.2\" style=\"opacity: 1; stroke: rgb(31, 119, 180); stroke-opacity: 1; stroke-width: 1px; fill: none;\"/><path class=\"point\" transform=\"translate(146.6,22.27)\" d=\"M0,4.2V-4.2\" style=\"opacity: 1; stroke: rgb(31, 119, 180); stroke-opacity: 1; stroke-width: 1px; fill: none;\"/><path class=\"point\" transform=\"translate(148.4,22.27)\" d=\"M0,4.2V-4.2\" style=\"opacity: 1; stroke: rgb(31, 119, 180); stroke-opacity: 1; stroke-width: 1px; fill: none;\"/><path class=\"point\" transform=\"translate(148.4,22.27)\" d=\"M0,4.2V-4.2\" style=\"opacity: 1; stroke: rgb(31, 119, 180); stroke-opacity: 1; stroke-width: 1px; fill: none;\"/><path class=\"point\" transform=\"translate(149,22.27)\" d=\"M0,4.2V-4.2\" style=\"opacity: 1; stroke: rgb(31, 119, 180); stroke-opacity: 1; stroke-width: 1px; fill: none;\"/><path class=\"point\" transform=\"translate(150,22.27)\" d=\"M0,4.2V-4.2\" style=\"opacity: 1; stroke: rgb(31, 119, 180); stroke-opacity: 1; stroke-width: 1px; fill: none;\"/><path class=\"point\" transform=\"translate(150,22.27)\" d=\"M0,4.2V-4.2\" style=\"opacity: 1; stroke: rgb(31, 119, 180); stroke-opacity: 1; stroke-width: 1px; fill: none;\"/><path class=\"point\" transform=\"translate(150.8,22.27)\" d=\"M0,4.2V-4.2\" style=\"opacity: 1; stroke: rgb(31, 119, 180); stroke-opacity: 1; stroke-width: 1px; fill: none;\"/><path class=\"point\" transform=\"translate(150.8,22.27)\" d=\"M0,4.2V-4.2\" style=\"opacity: 1; stroke: rgb(31, 119, 180); stroke-opacity: 1; stroke-width: 1px; fill: none;\"/><path class=\"point\" transform=\"translate(151,22.27)\" d=\"M0,4.2V-4.2\" style=\"opacity: 1; stroke: rgb(31, 119, 180); stroke-opacity: 1; stroke-width: 1px; fill: none;\"/><path class=\"point\" transform=\"translate(153.2,22.27)\" d=\"M0,4.2V-4.2\" style=\"opacity: 1; stroke: rgb(31, 119, 180); stroke-opacity: 1; stroke-width: 1px; fill: none;\"/><path class=\"point\" transform=\"translate(153.4,22.27)\" d=\"M0,4.2V-4.2\" style=\"opacity: 1; stroke: rgb(31, 119, 180); stroke-opacity: 1; stroke-width: 1px; fill: none;\"/><path class=\"point\" transform=\"translate(153.4,22.27)\" d=\"M0,4.2V-4.2\" style=\"opacity: 1; stroke: rgb(31, 119, 180); stroke-opacity: 1; stroke-width: 1px; fill: none;\"/><path class=\"point\" transform=\"translate(154.2,22.27)\" d=\"M0,4.2V-4.2\" style=\"opacity: 1; stroke: rgb(31, 119, 180); stroke-opacity: 1; stroke-width: 1px; fill: none;\"/><path class=\"point\" transform=\"translate(155,22.27)\" d=\"M0,4.2V-4.2\" style=\"opacity: 1; stroke: rgb(31, 119, 180); stroke-opacity: 1; stroke-width: 1px; fill: none;\"/><path class=\"point\" transform=\"translate(155,22.27)\" d=\"M0,4.2V-4.2\" style=\"opacity: 1; stroke: rgb(31, 119, 180); stroke-opacity: 1; stroke-width: 1px; fill: none;\"/><path class=\"point\" transform=\"translate(155,22.27)\" d=\"M0,4.2V-4.2\" style=\"opacity: 1; stroke: rgb(31, 119, 180); stroke-opacity: 1; stroke-width: 1px; fill: none;\"/><path class=\"point\" transform=\"translate(155.6,22.27)\" d=\"M0,4.2V-4.2\" style=\"opacity: 1; stroke: rgb(31, 119, 180); stroke-opacity: 1; stroke-width: 1px; fill: none;\"/><path class=\"point\" transform=\"translate(156,22.27)\" d=\"M0,4.2V-4.2\" style=\"opacity: 1; stroke: rgb(31, 119, 180); stroke-opacity: 1; stroke-width: 1px; fill: none;\"/><path class=\"point\" transform=\"translate(156.2,22.27)\" d=\"M0,4.2V-4.2\" style=\"opacity: 1; stroke: rgb(31, 119, 180); stroke-opacity: 1; stroke-width: 1px; fill: none;\"/><path class=\"point\" transform=\"translate(158.4,22.27)\" d=\"M0,4.2V-4.2\" style=\"opacity: 1; stroke: rgb(31, 119, 180); stroke-opacity: 1; stroke-width: 1px; fill: none;\"/><path class=\"point\" transform=\"translate(158.8,22.27)\" d=\"M0,4.2V-4.2\" style=\"opacity: 1; stroke: rgb(31, 119, 180); stroke-opacity: 1; stroke-width: 1px; fill: none;\"/><path class=\"point\" transform=\"translate(159.8,22.27)\" d=\"M0,4.2V-4.2\" style=\"opacity: 1; stroke: rgb(31, 119, 180); stroke-opacity: 1; stroke-width: 1px; fill: none;\"/><path class=\"point\" transform=\"translate(160,22.27)\" d=\"M0,4.2V-4.2\" style=\"opacity: 1; stroke: rgb(31, 119, 180); stroke-opacity: 1; stroke-width: 1px; fill: none;\"/><path class=\"point\" transform=\"translate(160,22.27)\" d=\"M0,4.2V-4.2\" style=\"opacity: 1; stroke: rgb(31, 119, 180); stroke-opacity: 1; stroke-width: 1px; fill: none;\"/><path class=\"point\" transform=\"translate(160.4,22.27)\" d=\"M0,4.2V-4.2\" style=\"opacity: 1; stroke: rgb(31, 119, 180); stroke-opacity: 1; stroke-width: 1px; fill: none;\"/><path class=\"point\" transform=\"translate(160.6,22.27)\" d=\"M0,4.2V-4.2\" style=\"opacity: 1; stroke: rgb(31, 119, 180); stroke-opacity: 1; stroke-width: 1px; fill: none;\"/><path class=\"point\" transform=\"translate(160.8,22.27)\" d=\"M0,4.2V-4.2\" style=\"opacity: 1; stroke: rgb(31, 119, 180); stroke-opacity: 1; stroke-width: 1px; fill: none;\"/><path class=\"point\" transform=\"translate(161.6,22.27)\" d=\"M0,4.2V-4.2\" style=\"opacity: 1; stroke: rgb(31, 119, 180); stroke-opacity: 1; stroke-width: 1px; fill: none;\"/><path class=\"point\" transform=\"translate(162,22.27)\" d=\"M0,4.2V-4.2\" style=\"opacity: 1; stroke: rgb(31, 119, 180); stroke-opacity: 1; stroke-width: 1px; fill: none;\"/><path class=\"point\" transform=\"translate(162.6,22.27)\" d=\"M0,4.2V-4.2\" style=\"opacity: 1; stroke: rgb(31, 119, 180); stroke-opacity: 1; stroke-width: 1px; fill: none;\"/><path class=\"point\" transform=\"translate(163.4,22.27)\" d=\"M0,4.2V-4.2\" style=\"opacity: 1; stroke: rgb(31, 119, 180); stroke-opacity: 1; stroke-width: 1px; fill: none;\"/><path class=\"point\" transform=\"translate(164,22.27)\" d=\"M0,4.2V-4.2\" style=\"opacity: 1; stroke: rgb(31, 119, 180); stroke-opacity: 1; stroke-width: 1px; fill: none;\"/><path class=\"point\" transform=\"translate(164,22.27)\" d=\"M0,4.2V-4.2\" style=\"opacity: 1; stroke: rgb(31, 119, 180); stroke-opacity: 1; stroke-width: 1px; fill: none;\"/><path class=\"point\" transform=\"translate(165.4,22.27)\" d=\"M0,4.2V-4.2\" style=\"opacity: 1; stroke: rgb(31, 119, 180); stroke-opacity: 1; stroke-width: 1px; fill: none;\"/><path class=\"point\" transform=\"translate(166,22.27)\" d=\"M0,4.2V-4.2\" style=\"opacity: 1; stroke: rgb(31, 119, 180); stroke-opacity: 1; stroke-width: 1px; fill: none;\"/><path class=\"point\" transform=\"translate(167.4,22.27)\" d=\"M0,4.2V-4.2\" style=\"opacity: 1; stroke: rgb(31, 119, 180); stroke-opacity: 1; stroke-width: 1px; fill: none;\"/><path class=\"point\" transform=\"translate(168.4,22.27)\" d=\"M0,4.2V-4.2\" style=\"opacity: 1; stroke: rgb(31, 119, 180); stroke-opacity: 1; stroke-width: 1px; fill: none;\"/><path class=\"point\" transform=\"translate(170,22.27)\" d=\"M0,4.2V-4.2\" style=\"opacity: 1; stroke: rgb(31, 119, 180); stroke-opacity: 1; stroke-width: 1px; fill: none;\"/><path class=\"point\" transform=\"translate(170,22.27)\" d=\"M0,4.2V-4.2\" style=\"opacity: 1; stroke: rgb(31, 119, 180); stroke-opacity: 1; stroke-width: 1px; fill: none;\"/><path class=\"point\" transform=\"translate(171.4,22.27)\" d=\"M0,4.2V-4.2\" style=\"opacity: 1; stroke: rgb(31, 119, 180); stroke-opacity: 1; stroke-width: 1px; fill: none;\"/><path class=\"point\" transform=\"translate(173.4,22.27)\" d=\"M0,4.2V-4.2\" style=\"opacity: 1; stroke: rgb(31, 119, 180); stroke-opacity: 1; stroke-width: 1px; fill: none;\"/><path class=\"point\" transform=\"translate(173.4,22.27)\" d=\"M0,4.2V-4.2\" style=\"opacity: 1; stroke: rgb(31, 119, 180); stroke-opacity: 1; stroke-width: 1px; fill: none;\"/><path class=\"point\" transform=\"translate(174,22.27)\" d=\"M0,4.2V-4.2\" style=\"opacity: 1; stroke: rgb(31, 119, 180); stroke-opacity: 1; stroke-width: 1px; fill: none;\"/><path class=\"point\" transform=\"translate(180.2,22.27)\" d=\"M0,4.2V-4.2\" style=\"opacity: 1; stroke: rgb(31, 119, 180); stroke-opacity: 1; stroke-width: 1px; fill: none;\"/><path class=\"point\" transform=\"translate(181.6,22.27)\" d=\"M0,4.2V-4.2\" style=\"opacity: 1; stroke: rgb(31, 119, 180); stroke-opacity: 1; stroke-width: 1px; fill: none;\"/><path class=\"point\" transform=\"translate(186.8,22.27)\" d=\"M0,4.2V-4.2\" style=\"opacity: 1; stroke: rgb(31, 119, 180); stroke-opacity: 1; stroke-width: 1px; fill: none;\"/><path class=\"point\" transform=\"translate(188.4,22.27)\" d=\"M0,4.2V-4.2\" style=\"opacity: 1; stroke: rgb(31, 119, 180); stroke-opacity: 1; stroke-width: 1px; fill: none;\"/><path class=\"point\" transform=\"translate(190,22.27)\" d=\"M0,4.2V-4.2\" style=\"opacity: 1; stroke: rgb(31, 119, 180); stroke-opacity: 1; stroke-width: 1px; fill: none;\"/><path class=\"point\" transform=\"translate(193.4,22.27)\" d=\"M0,4.2V-4.2\" style=\"opacity: 1; stroke: rgb(31, 119, 180); stroke-opacity: 1; stroke-width: 1px; fill: none;\"/><path class=\"point\" transform=\"translate(195,22.27)\" d=\"M0,4.2V-4.2\" style=\"opacity: 1; stroke: rgb(31, 119, 180); stroke-opacity: 1; stroke-width: 1px; fill: none;\"/><path class=\"point\" transform=\"translate(198.4,22.27)\" d=\"M0,4.2V-4.2\" style=\"opacity: 1; stroke: rgb(31, 119, 180); stroke-opacity: 1; stroke-width: 1px; fill: none;\"/><path class=\"point\" transform=\"translate(203.4,22.27)\" d=\"M0,4.2V-4.2\" style=\"opacity: 1; stroke: rgb(31, 119, 180); stroke-opacity: 1; stroke-width: 1px; fill: none;\"/><path class=\"point\" transform=\"translate(240,22.27)\" d=\"M0,4.2V-4.2\" style=\"opacity: 1; stroke: rgb(31, 119, 180); stroke-opacity: 1; stroke-width: 1px; fill: none;\"/></g></g></g></g><g class=\"overplot\"/><path class=\"xlines-above crisp\" d=\"M60,39.1704H340\" style=\"fill: none; stroke-width: 1px; stroke: rgb(36, 36, 36); stroke-opacity: 1;\"/><path class=\"ylines-above crisp\" d=\"M0,0\" style=\"fill: none;\"/><g class=\"overlines-above\"/><g class=\"xaxislayer-above\"><path class=\"x2tick ticks crisp\" d=\"M0,39.6704v5\" transform=\"translate(70,0)\" style=\"stroke: rgb(68, 68, 68); stroke-opacity: 1; stroke-width: 1px;\"/><path class=\"x2tick ticks crisp\" d=\"M0,39.6704v5\" transform=\"translate(170,0)\" style=\"stroke: rgb(68, 68, 68); stroke-opacity: 1; stroke-width: 1px;\"/><path class=\"x2tick ticks crisp\" d=\"M0,39.6704v5\" transform=\"translate(270,0)\" style=\"stroke: rgb(68, 68, 68); stroke-opacity: 1; stroke-width: 1px;\"/></g><g class=\"yaxislayer-above\"/><g class=\"overaxes-above\"/></g></g><g class=\"polarlayer\"/><g class=\"smithlayer\"/><g class=\"ternarylayer\"/><g class=\"geolayer\"/><g class=\"funnelarealayer\"/><g class=\"pielayer\"/><g class=\"iciclelayer\"/><g class=\"treemaplayer\"/><g class=\"sunburstlayer\"/><g class=\"glimages\"/><defs id=\"topdefs-e4a957\"><g class=\"clips\"/></defs><g class=\"layer-above\"><g class=\"imagelayer\"/><g class=\"shapelayer\"/></g><g class=\"infolayer\"><g class=\"g-gtitle\"/><g class=\"g-xtitle\"><text class=\"xtitle\" x=\"200\" y=\"239.70625\" text-anchor=\"middle\" style=\"font-family: 'Open Sans', verdana, arial, sans-serif; font-size: 14px; fill: rgb(36, 36, 36); opacity: 1; font-weight: normal; white-space: pre;\">longevity (years)</text></g><g class=\"g-x2title\"/><g class=\"g-ytitle\" transform=\"translate(5.1337890625,0)\"><text class=\"ytitle\" transform=\"rotate(-90,9.871875000000003,115.7402)\" x=\"9.871875000000003\" y=\"115.7402\" text-anchor=\"middle\" style=\"font-family: 'Open Sans', verdana, arial, sans-serif; font-size: 14px; fill: rgb(36, 36, 36); opacity: 1; font-weight: normal; white-space: pre;\">density</text></g><g class=\"g-y2title\"/></g></svg>"
      ]
     },
     "metadata": {},
     "output_type": "display_data"
    }
   ],
   "source": [
    "f1 = px.histogram(dogs, x=\"longevity\", marginal=\"rug\", nbins=20,\n",
    "             histnorm='probability',  width=350, height=250)\n",
    "\n",
    "f1.update_xaxes(range=[4.5, 18.5])\n",
    "f1.update_xaxes(title=\"longevity (years)\", row=1, col=1) \n",
    "f1.update_yaxes(title=\"density\", row=1, col=1)\n",
    "f1.show()"
   ]
  },
  {
   "cell_type": "markdown",
   "metadata": {},
   "source": [
    "Although we can see an unusually large value that's greater than 16, it's hard\n",
    "to compare the density of yarns in different regions. Instead, the histogram gives \n",
    "a much better sense of the density of observations for various longevity values. \n",
    "Similarly, the *density curve* shown below\n",
    "gives a picture of the regions of high and low density."
   ]
  },
  {
   "cell_type": "code",
   "execution_count": 10,
   "metadata": {
    "tags": [
     "hide-input"
    ]
   },
   "outputs": [],
   "source": [
    "from scipy.stats import gaussian_kde\n",
    "\n",
    "new_x = dogs['longevity'].dropna()\n",
    "bandwidth = 0.2\n",
    "xs = np.linspace(min(new_x), max(new_x), 100)\n",
    "ys = gaussian_kde(new_x, bandwidth)(xs)"
   ]
  },
  {
   "cell_type": "code",
   "execution_count": 16,
   "metadata": {
    "tags": [
     "hide-input"
    ]
   },
   "outputs": [
    {
     "data": {
      "application/vnd.plotly.v1+json": {
       "config": {
        "plotlyServerURL": "https://plot.ly"
       },
       "data": [
        {
         "type": "scatter",
         "x": [
          6.29,
          6.393131313131313,
          6.496262626262626,
          6.59939393939394,
          6.702525252525253,
          6.805656565656566,
          6.908787878787879,
          7.011919191919192,
          7.1150505050505055,
          7.218181818181819,
          7.321313131313131,
          7.424444444444445,
          7.527575757575757,
          7.630707070707071,
          7.733838383838384,
          7.836969696969697,
          7.94010101010101,
          8.043232323232324,
          8.146363636363636,
          8.249494949494949,
          8.352626262626263,
          8.455757575757577,
          8.55888888888889,
          8.662020202020202,
          8.765151515151516,
          8.86828282828283,
          8.971414141414142,
          9.074545454545454,
          9.177676767676768,
          9.28080808080808,
          9.383939393939395,
          9.487070707070707,
          9.590202020202021,
          9.693333333333333,
          9.796464646464647,
          9.89959595959596,
          10.002727272727274,
          10.105858585858586,
          10.208989898989898,
          10.312121212121212,
          10.415252525252527,
          10.518383838383839,
          10.621515151515151,
          10.724646464646465,
          10.82777777777778,
          10.930909090909092,
          11.034040404040404,
          11.137171717171718,
          11.240303030303032,
          11.343434343434344,
          11.446565656565657,
          11.54969696969697,
          11.652828282828285,
          11.755959595959597,
          11.85909090909091,
          11.962222222222223,
          12.065353535353536,
          12.168484848484848,
          12.271616161616162,
          12.374747474747476,
          12.477878787878788,
          12.5810101010101,
          12.684141414141415,
          12.787272727272729,
          12.890404040404041,
          12.993535353535353,
          13.096666666666668,
          13.199797979797982,
          13.302929292929294,
          13.406060606060606,
          13.50919191919192,
          13.612323232323234,
          13.715454545454547,
          13.818585858585859,
          13.921717171717173,
          14.024848484848485,
          14.127979797979798,
          14.231111111111112,
          14.334242424242426,
          14.43737373737374,
          14.54050505050505,
          14.643636363636364,
          14.746767676767679,
          14.849898989898993,
          14.953030303030303,
          15.056161616161617,
          15.159292929292931,
          15.262424242424242,
          15.365555555555556,
          15.46868686868687,
          15.571818181818184,
          15.674949494949495,
          15.778080808080809,
          15.881212121212123,
          15.984343434343437,
          16.087474747474747,
          16.19060606060606,
          16.293737373737375,
          16.39686868686869,
          16.5
         ],
         "y": [
          0.040161582198857675,
          0.04841481656399582,
          0.05597457935796259,
          0.06217514346923324,
          0.06647874837856588,
          0.06857563178810779,
          0.06844279457344064,
          0.06633879275856051,
          0.06272853194909221,
          0.05815827401609094,
          0.05312524255682232,
          0.047992901694470486,
          0.04298422419608915,
          0.038248588539985806,
          0.03396327128888496,
          0.030417150819435235,
          0.02803787265526597,
          0.027353296431572242,
          0.02890464484758316,
          0.03313911867814403,
          0.040304187786942614,
          0.0503557648147932,
          0.06289025193529194,
          0.07711892520565025,
          0.09191311010489182,
          0.10594529259083395,
          0.11792550617185142,
          0.12688906790485666,
          0.13245046453375475,
          0.13492387543896484,
          0.13524025837922557,
          0.13466125706446605,
          0.13437585511698474,
          0.13512703993336125,
          0.13701751227488088,
          0.13957554935073643,
          0.14205035605433314,
          0.14380376102812475,
          0.1446249435981875,
          0.14483850386358024,
          0.1451790333909476,
          0.14651081573724203,
          0.14952547555197016,
          0.15453400998697553,
          0.16140549172853566,
          0.16963729735440988,
          0.17850546612134335,
          0.18724370070091076,
          0.1952156741846438,
          0.20205467686357934,
          0.20774108436477765,
          0.21258525384418606,
          0.21709956997170726,
          0.2217821917282571,
          0.22687878526100025,
          0.2322094859950579,
          0.2371298632668043,
          0.24064408049264985,
          0.24163177456869556,
          0.23911406451594114,
          0.23248021790052995,
          0.22161925461418874,
          0.20693593850756645,
          0.18926471474935824,
          0.1697189051230268,
          0.14952047219593,
          0.12984721276703529,
          0.11171531891710473,
          0.09589711624890962,
          0.08286640583987381,
          0.07276872840402121,
          0.06542324572401934,
          0.06036625979166023,
          0.05693871497942945,
          0.05440521380095607,
          0.05207916572099905,
          0.049425304096313905,
          0.046118662580953484,
          0.04205389582517657,
          0.03731345267285828,
          0.03211168727245994,
          0.026732570942591502,
          0.021473467804699036,
          0.01660084459658879,
          0.012319417863940757,
          0.008754988228034711,
          0.005951415133249708,
          0.003881561361274031,
          0.0024696478631881847,
          0.0016192607212786277,
          0.0012390940325405788,
          0.0012587529245696428,
          0.0016298062382503918,
          0.0023120954075674716,
          0.0032508819564446784,
          0.0043550527991852005,
          0.005488116464329338,
          0.006480246299052214,
          0.007161210268708461,
          0.007403794549442925
         ]
        }
       ],
       "layout": {
        "height": 250,
        "showlegend": false,
        "template": {
         "data": {
          "bar": [
           {
            "error_x": {
             "color": "rgb(36,36,36)"
            },
            "error_y": {
             "color": "rgb(36,36,36)"
            },
            "marker": {
             "line": {
              "color": "white",
              "width": 0.5
             },
             "pattern": {
              "fillmode": "overlay",
              "size": 10,
              "solidity": 0.2
             }
            },
            "type": "bar"
           }
          ],
          "barpolar": [
           {
            "marker": {
             "line": {
              "color": "white",
              "width": 0.5
             },
             "pattern": {
              "fillmode": "overlay",
              "size": 10,
              "solidity": 0.2
             }
            },
            "type": "barpolar"
           }
          ],
          "carpet": [
           {
            "aaxis": {
             "endlinecolor": "rgb(36,36,36)",
             "gridcolor": "white",
             "linecolor": "white",
             "minorgridcolor": "white",
             "startlinecolor": "rgb(36,36,36)"
            },
            "baxis": {
             "endlinecolor": "rgb(36,36,36)",
             "gridcolor": "white",
             "linecolor": "white",
             "minorgridcolor": "white",
             "startlinecolor": "rgb(36,36,36)"
            },
            "type": "carpet"
           }
          ],
          "choropleth": [
           {
            "colorbar": {
             "outlinewidth": 1,
             "tickcolor": "rgb(36,36,36)",
             "ticks": "outside"
            },
            "type": "choropleth"
           }
          ],
          "contour": [
           {
            "colorbar": {
             "outlinewidth": 1,
             "tickcolor": "rgb(36,36,36)",
             "ticks": "outside"
            },
            "colorscale": [
             [
              0,
              "#440154"
             ],
             [
              0.1111111111111111,
              "#482878"
             ],
             [
              0.2222222222222222,
              "#3e4989"
             ],
             [
              0.3333333333333333,
              "#31688e"
             ],
             [
              0.4444444444444444,
              "#26828e"
             ],
             [
              0.5555555555555556,
              "#1f9e89"
             ],
             [
              0.6666666666666666,
              "#35b779"
             ],
             [
              0.7777777777777778,
              "#6ece58"
             ],
             [
              0.8888888888888888,
              "#b5de2b"
             ],
             [
              1,
              "#fde725"
             ]
            ],
            "type": "contour"
           }
          ],
          "contourcarpet": [
           {
            "colorbar": {
             "outlinewidth": 1,
             "tickcolor": "rgb(36,36,36)",
             "ticks": "outside"
            },
            "type": "contourcarpet"
           }
          ],
          "heatmap": [
           {
            "colorbar": {
             "outlinewidth": 1,
             "tickcolor": "rgb(36,36,36)",
             "ticks": "outside"
            },
            "colorscale": [
             [
              0,
              "#440154"
             ],
             [
              0.1111111111111111,
              "#482878"
             ],
             [
              0.2222222222222222,
              "#3e4989"
             ],
             [
              0.3333333333333333,
              "#31688e"
             ],
             [
              0.4444444444444444,
              "#26828e"
             ],
             [
              0.5555555555555556,
              "#1f9e89"
             ],
             [
              0.6666666666666666,
              "#35b779"
             ],
             [
              0.7777777777777778,
              "#6ece58"
             ],
             [
              0.8888888888888888,
              "#b5de2b"
             ],
             [
              1,
              "#fde725"
             ]
            ],
            "type": "heatmap"
           }
          ],
          "heatmapgl": [
           {
            "colorbar": {
             "outlinewidth": 1,
             "tickcolor": "rgb(36,36,36)",
             "ticks": "outside"
            },
            "colorscale": [
             [
              0,
              "#440154"
             ],
             [
              0.1111111111111111,
              "#482878"
             ],
             [
              0.2222222222222222,
              "#3e4989"
             ],
             [
              0.3333333333333333,
              "#31688e"
             ],
             [
              0.4444444444444444,
              "#26828e"
             ],
             [
              0.5555555555555556,
              "#1f9e89"
             ],
             [
              0.6666666666666666,
              "#35b779"
             ],
             [
              0.7777777777777778,
              "#6ece58"
             ],
             [
              0.8888888888888888,
              "#b5de2b"
             ],
             [
              1,
              "#fde725"
             ]
            ],
            "type": "heatmapgl"
           }
          ],
          "histogram": [
           {
            "marker": {
             "line": {
              "color": "white",
              "width": 0.6
             }
            },
            "type": "histogram"
           }
          ],
          "histogram2d": [
           {
            "colorbar": {
             "outlinewidth": 1,
             "tickcolor": "rgb(36,36,36)",
             "ticks": "outside"
            },
            "colorscale": [
             [
              0,
              "#440154"
             ],
             [
              0.1111111111111111,
              "#482878"
             ],
             [
              0.2222222222222222,
              "#3e4989"
             ],
             [
              0.3333333333333333,
              "#31688e"
             ],
             [
              0.4444444444444444,
              "#26828e"
             ],
             [
              0.5555555555555556,
              "#1f9e89"
             ],
             [
              0.6666666666666666,
              "#35b779"
             ],
             [
              0.7777777777777778,
              "#6ece58"
             ],
             [
              0.8888888888888888,
              "#b5de2b"
             ],
             [
              1,
              "#fde725"
             ]
            ],
            "type": "histogram2d"
           }
          ],
          "histogram2dcontour": [
           {
            "colorbar": {
             "outlinewidth": 1,
             "tickcolor": "rgb(36,36,36)",
             "ticks": "outside"
            },
            "colorscale": [
             [
              0,
              "#440154"
             ],
             [
              0.1111111111111111,
              "#482878"
             ],
             [
              0.2222222222222222,
              "#3e4989"
             ],
             [
              0.3333333333333333,
              "#31688e"
             ],
             [
              0.4444444444444444,
              "#26828e"
             ],
             [
              0.5555555555555556,
              "#1f9e89"
             ],
             [
              0.6666666666666666,
              "#35b779"
             ],
             [
              0.7777777777777778,
              "#6ece58"
             ],
             [
              0.8888888888888888,
              "#b5de2b"
             ],
             [
              1,
              "#fde725"
             ]
            ],
            "type": "histogram2dcontour"
           }
          ],
          "mesh3d": [
           {
            "colorbar": {
             "outlinewidth": 1,
             "tickcolor": "rgb(36,36,36)",
             "ticks": "outside"
            },
            "type": "mesh3d"
           }
          ],
          "parcoords": [
           {
            "line": {
             "colorbar": {
              "outlinewidth": 1,
              "tickcolor": "rgb(36,36,36)",
              "ticks": "outside"
             }
            },
            "type": "parcoords"
           }
          ],
          "pie": [
           {
            "automargin": true,
            "type": "pie"
           }
          ],
          "scatter": [
           {
            "marker": {
             "colorbar": {
              "outlinewidth": 1,
              "tickcolor": "rgb(36,36,36)",
              "ticks": "outside"
             }
            },
            "type": "scatter"
           }
          ],
          "scatter3d": [
           {
            "line": {
             "colorbar": {
              "outlinewidth": 1,
              "tickcolor": "rgb(36,36,36)",
              "ticks": "outside"
             }
            },
            "marker": {
             "colorbar": {
              "outlinewidth": 1,
              "tickcolor": "rgb(36,36,36)",
              "ticks": "outside"
             }
            },
            "type": "scatter3d"
           }
          ],
          "scattercarpet": [
           {
            "marker": {
             "colorbar": {
              "outlinewidth": 1,
              "tickcolor": "rgb(36,36,36)",
              "ticks": "outside"
             }
            },
            "type": "scattercarpet"
           }
          ],
          "scattergeo": [
           {
            "marker": {
             "colorbar": {
              "outlinewidth": 1,
              "tickcolor": "rgb(36,36,36)",
              "ticks": "outside"
             }
            },
            "type": "scattergeo"
           }
          ],
          "scattergl": [
           {
            "marker": {
             "colorbar": {
              "outlinewidth": 1,
              "tickcolor": "rgb(36,36,36)",
              "ticks": "outside"
             }
            },
            "type": "scattergl"
           }
          ],
          "scattermapbox": [
           {
            "marker": {
             "colorbar": {
              "outlinewidth": 1,
              "tickcolor": "rgb(36,36,36)",
              "ticks": "outside"
             }
            },
            "type": "scattermapbox"
           }
          ],
          "scatterpolar": [
           {
            "marker": {
             "colorbar": {
              "outlinewidth": 1,
              "tickcolor": "rgb(36,36,36)",
              "ticks": "outside"
             }
            },
            "type": "scatterpolar"
           }
          ],
          "scatterpolargl": [
           {
            "marker": {
             "colorbar": {
              "outlinewidth": 1,
              "tickcolor": "rgb(36,36,36)",
              "ticks": "outside"
             }
            },
            "type": "scatterpolargl"
           }
          ],
          "scatterternary": [
           {
            "marker": {
             "colorbar": {
              "outlinewidth": 1,
              "tickcolor": "rgb(36,36,36)",
              "ticks": "outside"
             }
            },
            "type": "scatterternary"
           }
          ],
          "surface": [
           {
            "colorbar": {
             "outlinewidth": 1,
             "tickcolor": "rgb(36,36,36)",
             "ticks": "outside"
            },
            "colorscale": [
             [
              0,
              "#440154"
             ],
             [
              0.1111111111111111,
              "#482878"
             ],
             [
              0.2222222222222222,
              "#3e4989"
             ],
             [
              0.3333333333333333,
              "#31688e"
             ],
             [
              0.4444444444444444,
              "#26828e"
             ],
             [
              0.5555555555555556,
              "#1f9e89"
             ],
             [
              0.6666666666666666,
              "#35b779"
             ],
             [
              0.7777777777777778,
              "#6ece58"
             ],
             [
              0.8888888888888888,
              "#b5de2b"
             ],
             [
              1,
              "#fde725"
             ]
            ],
            "type": "surface"
           }
          ],
          "table": [
           {
            "cells": {
             "fill": {
              "color": "rgb(237,237,237)"
             },
             "line": {
              "color": "white"
             }
            },
            "header": {
             "fill": {
              "color": "rgb(217,217,217)"
             },
             "line": {
              "color": "white"
             }
            },
            "type": "table"
           }
          ]
         },
         "layout": {
          "annotationdefaults": {
           "arrowhead": 0,
           "arrowwidth": 1
          },
          "autosize": true,
          "autotypenumbers": "strict",
          "coloraxis": {
           "colorbar": {
            "outlinewidth": 1,
            "tickcolor": "rgb(36,36,36)",
            "ticks": "outside"
           }
          },
          "colorscale": {
           "diverging": [
            [
             0,
             "rgb(103,0,31)"
            ],
            [
             0.1,
             "rgb(178,24,43)"
            ],
            [
             0.2,
             "rgb(214,96,77)"
            ],
            [
             0.3,
             "rgb(244,165,130)"
            ],
            [
             0.4,
             "rgb(253,219,199)"
            ],
            [
             0.5,
             "rgb(247,247,247)"
            ],
            [
             0.6,
             "rgb(209,229,240)"
            ],
            [
             0.7,
             "rgb(146,197,222)"
            ],
            [
             0.8,
             "rgb(67,147,195)"
            ],
            [
             0.9,
             "rgb(33,102,172)"
            ],
            [
             1,
             "rgb(5,48,97)"
            ]
           ],
           "sequential": [
            [
             0,
             "#440154"
            ],
            [
             0.1111111111111111,
             "#482878"
            ],
            [
             0.2222222222222222,
             "#3e4989"
            ],
            [
             0.3333333333333333,
             "#31688e"
            ],
            [
             0.4444444444444444,
             "#26828e"
            ],
            [
             0.5555555555555556,
             "#1f9e89"
            ],
            [
             0.6666666666666666,
             "#35b779"
            ],
            [
             0.7777777777777778,
             "#6ece58"
            ],
            [
             0.8888888888888888,
             "#b5de2b"
            ],
            [
             1,
             "#fde725"
            ]
           ],
           "sequentialminus": [
            [
             0,
             "#440154"
            ],
            [
             0.1111111111111111,
             "#482878"
            ],
            [
             0.2222222222222222,
             "#3e4989"
            ],
            [
             0.3333333333333333,
             "#31688e"
            ],
            [
             0.4444444444444444,
             "#26828e"
            ],
            [
             0.5555555555555556,
             "#1f9e89"
            ],
            [
             0.6666666666666666,
             "#35b779"
            ],
            [
             0.7777777777777778,
             "#6ece58"
            ],
            [
             0.8888888888888888,
             "#b5de2b"
            ],
            [
             1,
             "#fde725"
            ]
           ]
          },
          "colorway": [
           "#1F77B4",
           "#FF7F0E",
           "#2CA02C",
           "#D62728",
           "#9467BD",
           "#8C564B",
           "#E377C2",
           "#7F7F7F",
           "#BCBD22",
           "#17BECF"
          ],
          "font": {
           "color": "rgb(36,36,36)"
          },
          "geo": {
           "bgcolor": "white",
           "lakecolor": "white",
           "landcolor": "white",
           "showlakes": true,
           "showland": true,
           "subunitcolor": "white"
          },
          "height": 250,
          "hoverlabel": {
           "align": "left"
          },
          "hovermode": "closest",
          "mapbox": {
           "style": "light"
          },
          "margin": {
           "b": 10,
           "l": 10,
           "r": 10,
           "t": 10
          },
          "paper_bgcolor": "white",
          "plot_bgcolor": "white",
          "polar": {
           "angularaxis": {
            "gridcolor": "rgb(232,232,232)",
            "linecolor": "rgb(36,36,36)",
            "showgrid": false,
            "showline": true,
            "ticks": "outside"
           },
           "bgcolor": "white",
           "radialaxis": {
            "gridcolor": "rgb(232,232,232)",
            "linecolor": "rgb(36,36,36)",
            "showgrid": false,
            "showline": true,
            "ticks": "outside"
           }
          },
          "scene": {
           "xaxis": {
            "backgroundcolor": "white",
            "gridcolor": "rgb(232,232,232)",
            "gridwidth": 2,
            "linecolor": "rgb(36,36,36)",
            "showbackground": true,
            "showgrid": false,
            "showline": true,
            "ticks": "outside",
            "zeroline": false,
            "zerolinecolor": "rgb(36,36,36)"
           },
           "yaxis": {
            "backgroundcolor": "white",
            "gridcolor": "rgb(232,232,232)",
            "gridwidth": 2,
            "linecolor": "rgb(36,36,36)",
            "showbackground": true,
            "showgrid": false,
            "showline": true,
            "ticks": "outside",
            "zeroline": false,
            "zerolinecolor": "rgb(36,36,36)"
           },
           "zaxis": {
            "backgroundcolor": "white",
            "gridcolor": "rgb(232,232,232)",
            "gridwidth": 2,
            "linecolor": "rgb(36,36,36)",
            "showbackground": true,
            "showgrid": false,
            "showline": true,
            "ticks": "outside",
            "zeroline": false,
            "zerolinecolor": "rgb(36,36,36)"
           }
          },
          "shapedefaults": {
           "fillcolor": "black",
           "line": {
            "width": 0
           },
           "opacity": 0.3
          },
          "ternary": {
           "aaxis": {
            "gridcolor": "rgb(232,232,232)",
            "linecolor": "rgb(36,36,36)",
            "showgrid": false,
            "showline": true,
            "ticks": "outside"
           },
           "baxis": {
            "gridcolor": "rgb(232,232,232)",
            "linecolor": "rgb(36,36,36)",
            "showgrid": false,
            "showline": true,
            "ticks": "outside"
           },
           "bgcolor": "white",
           "caxis": {
            "gridcolor": "rgb(232,232,232)",
            "linecolor": "rgb(36,36,36)",
            "showgrid": false,
            "showline": true,
            "ticks": "outside"
           }
          },
          "title": {
           "x": 0.5,
           "xanchor": "center"
          },
          "width": 350,
          "xaxis": {
           "automargin": true,
           "gridcolor": "rgb(232,232,232)",
           "linecolor": "rgb(36,36,36)",
           "showgrid": true,
           "showline": true,
           "ticks": "outside",
           "title": {
            "standoff": 15
           },
           "zeroline": false,
           "zerolinecolor": "rgb(36,36,36)"
          },
          "yaxis": {
           "automargin": true,
           "gridcolor": "rgb(232,232,232)",
           "linecolor": "rgb(36,36,36)",
           "showgrid": true,
           "showline": true,
           "ticks": "outside",
           "title": {
            "standoff": 15
           },
           "zeroline": false,
           "zerolinecolor": "rgb(36,36,36)"
          }
         }
        },
        "width": 350,
        "xaxis": {
         "range": [
          4.5,
          18.5
         ],
         "title": {
          "text": "longevity (years)"
         },
         "type": "linear"
        },
        "yaxis": {
         "autorange": true,
         "range": [
          -0.0121160548861347,
          0.25498692348737084
         ],
         "title": {
          "text": "density"
         },
         "type": "linear"
        }
       }
      },
      "image/png": "[encoded data removed]",
      "image/svg+xml": [
       "<svg class=\"main-svg\" xmlns=\"http://www.w3.org/2000/svg\" xmlns:xlink=\"http://www.w3.org/1999/xlink\" width=\"350\" height=\"250\" style=\"\" viewBox=\"0 0 350 250\"><rect x=\"0\" y=\"0\" width=\"350\" height=\"250\" style=\"fill: rgb(255, 255, 255); fill-opacity: 1;\"/><defs id=\"defs-625a81\"><g class=\"clips\"><clipPath id=\"clip625a81xyplot\" class=\"plotclip\"><rect width=\"273\" height=\"176\"/></clipPath><clipPath class=\"axesclip\" id=\"clip625a81x\"><rect x=\"67\" y=\"0\" width=\"273\" height=\"250\"/></clipPath><clipPath class=\"axesclip\" id=\"clip625a81y\"><rect x=\"0\" y=\"15\" width=\"350\" height=\"176\"/></clipPath><clipPath class=\"axesclip\" id=\"clip625a81xy\"><rect x=\"67\" y=\"15\" width=\"273\" height=\"176\"/></clipPath></g><g class=\"gradients\"/><g class=\"patterns\"/></defs><g class=\"bglayer\"/><g class=\"layer-below\"><g class=\"imagelayer\"/><g class=\"shapelayer\"/></g><g class=\"cartesianlayer\"><g class=\"subplot xy\"><g class=\"layer-subplot\"><g class=\"shapelayer\"/><g class=\"imagelayer\"/></g><g class=\"gridlayer\"><g class=\"x\"><path class=\"xgrid crisp\" transform=\"translate(76.75,0)\" d=\"M0,15v176\" style=\"stroke: rgb(232, 232, 232); stroke-opacity: 1; stroke-width: 1px;\"/><path class=\"xgrid crisp\" transform=\"translate(174.25,0)\" d=\"M0,15v176\" style=\"stroke: rgb(232, 232, 232); stroke-opacity: 1; stroke-width: 1px;\"/><path class=\"xgrid crisp\" transform=\"translate(271.75,0)\" d=\"M0,15v176\" style=\"stroke: rgb(232, 232, 232); stroke-opacity: 1; stroke-width: 1px;\"/></g><g class=\"y\"><path class=\"ygrid crisp\" transform=\"translate(0,183.02)\" d=\"M67,0h273\" style=\"stroke: rgb(232, 232, 232); stroke-opacity: 1; stroke-width: 1px;\"/><path class=\"ygrid crisp\" transform=\"translate(0,150.07)\" d=\"M67,0h273\" style=\"stroke: rgb(232, 232, 232); stroke-opacity: 1; stroke-width: 1px;\"/><path class=\"ygrid crisp\" transform=\"translate(0,117.12)\" d=\"M67,0h273\" style=\"stroke: rgb(232, 232, 232); stroke-opacity: 1; stroke-width: 1px;\"/><path class=\"ygrid crisp\" transform=\"translate(0,84.18)\" d=\"M67,0h273\" style=\"stroke: rgb(232, 232, 232); stroke-opacity: 1; stroke-width: 1px;\"/><path class=\"ygrid crisp\" transform=\"translate(0,51.23)\" d=\"M67,0h273\" style=\"stroke: rgb(232, 232, 232); stroke-opacity: 1; stroke-width: 1px;\"/><path class=\"ygrid crisp\" transform=\"translate(0,18.29)\" d=\"M67,0h273\" style=\"stroke: rgb(232, 232, 232); stroke-opacity: 1; stroke-width: 1px;\"/></g></g><g class=\"zerolinelayer\"/><path class=\"xlines-below\"/><path class=\"ylines-below\"/><g class=\"overlines-below\"/><g class=\"xaxislayer-below\"/><g class=\"yaxislayer-below\"/><g class=\"overaxes-below\"/><g class=\"plot\" transform=\"translate(67,15)\" clip-path=\"url(#clip625a81xyplot)\"><g class=\"scatterlayer mlayer\"><g class=\"trace scatter tracecd151a\" style=\"stroke-miterlimit: 2; opacity: 1;\"><g class=\"fills\"/><g class=\"errorbars\"/><g class=\"lines\"><path class=\"js-line\" d=\"M34.91,141.55L40.94,127.05L42.95,124.21L44.96,122.83L46.97,122.92L48.98,124.3L50.99,126.68L65.07,147.97L67.08,149.54L69.09,149.99L71.1,148.97L73.12,146.18L75.13,141.46L79.15,126.58L81.16,117.2L87.19,90.31L89.2,84.41L91.21,80.74L93.23,79.11L97.25,79.29L99.26,79.47L103.28,77.73L105.29,76.05L109.31,73.26L111.33,72.72L115.35,72.35L117.36,71.48L119.37,69.49L121.38,66.19L125.4,56.24L127.41,50.4L133.45,34.88L135.46,31.13L149.54,9.45L151.55,8.8L153.56,10.46L155.57,14.83L159.59,31.66L161.6,43.31L171.66,104.83L173.67,113.41L177.69,124.91L179.7,128.24L183.72,132.17L185.73,133.7L189.76,137.63L191.77,140.31L205.85,162.25L207.86,164.09L211.88,166.39L213.89,166.95L217.91,167.19L219.92,166.94L227.97,164.4L229.98,163.75L234,163.14\" style=\"vector-effect: non-scaling-stroke; fill: none; stroke: rgb(31, 119, 180); stroke-opacity: 1; stroke-width: 2px; opacity: 1;\"/></g><g class=\"points\"/><g class=\"text\"/></g></g></g><g class=\"overplot\"/><path class=\"xlines-above crisp\" d=\"M66,191.5H340\" style=\"fill: none; stroke-width: 1px; stroke: rgb(36, 36, 36); stroke-opacity: 1;\"/><path class=\"ylines-above crisp\" d=\"M66.5,15V191\" style=\"fill: none; stroke-width: 1px; stroke: rgb(36, 36, 36); stroke-opacity: 1;\"/><g class=\"overlines-above\"/><g class=\"xaxislayer-above\"><path class=\"xtick ticks crisp\" d=\"M0,192v5\" transform=\"translate(76.75,0)\" style=\"stroke: rgb(68, 68, 68); stroke-opacity: 1; stroke-width: 1px;\"/><path class=\"xtick ticks crisp\" d=\"M0,192v5\" transform=\"translate(174.25,0)\" style=\"stroke: rgb(68, 68, 68); stroke-opacity: 1; stroke-width: 1px;\"/><path class=\"xtick ticks crisp\" d=\"M0,192v5\" transform=\"translate(271.75,0)\" style=\"stroke: rgb(68, 68, 68); stroke-opacity: 1; stroke-width: 1px;\"/><g class=\"xtick\"><text text-anchor=\"middle\" x=\"0\" y=\"211.4\" transform=\"translate(76.75,0)\" style=\"font-family: 'Open Sans', verdana, arial, sans-serif; font-size: 12px; fill: rgb(36, 36, 36); fill-opacity: 1; white-space: pre; opacity: 1;\">5</text></g><g class=\"xtick\"><text text-anchor=\"middle\" x=\"0\" y=\"211.4\" style=\"font-family: 'Open Sans', verdana, arial, sans-serif; font-size: 12px; fill: rgb(36, 36, 36); fill-opacity: 1; white-space: pre; opacity: 1;\" transform=\"translate(174.25,0)\">10</text></g><g class=\"xtick\"><text text-anchor=\"middle\" x=\"0\" y=\"211.4\" style=\"font-family: 'Open Sans', verdana, arial, sans-serif; font-size: 12px; fill: rgb(36, 36, 36); fill-opacity: 1; white-space: pre; opacity: 1;\" transform=\"translate(271.75,0)\">15</text></g></g><g class=\"yaxislayer-above\"><path class=\"ytick ticks crisp\" d=\"M66,0h-5\" transform=\"translate(0,183.02)\" style=\"stroke: rgb(68, 68, 68); stroke-opacity: 1; stroke-width: 1px;\"/><path class=\"ytick ticks crisp\" d=\"M66,0h-5\" transform=\"translate(0,150.07)\" style=\"stroke: rgb(68, 68, 68); stroke-opacity: 1; stroke-width: 1px;\"/><path class=\"ytick ticks crisp\" d=\"M66,0h-5\" transform=\"translate(0,117.12)\" style=\"stroke: rgb(68, 68, 68); stroke-opacity: 1; stroke-width: 1px;\"/><path class=\"ytick ticks crisp\" d=\"M66,0h-5\" transform=\"translate(0,84.18)\" style=\"stroke: rgb(68, 68, 68); stroke-opacity: 1; stroke-width: 1px;\"/><path class=\"ytick ticks crisp\" d=\"M66,0h-5\" transform=\"translate(0,51.23)\" style=\"stroke: rgb(68, 68, 68); stroke-opacity: 1; stroke-width: 1px;\"/><path class=\"ytick ticks crisp\" d=\"M66,0h-5\" transform=\"translate(0,18.29)\" style=\"stroke: rgb(68, 68, 68); stroke-opacity: 1; stroke-width: 1px;\"/><g class=\"ytick\"><text text-anchor=\"end\" x=\"58.6\" y=\"4.199999999999999\" transform=\"translate(0,183.02)\" style=\"font-family: 'Open Sans', verdana, arial, sans-serif; font-size: 12px; fill: rgb(36, 36, 36); fill-opacity: 1; white-space: pre; opacity: 1;\">0</text></g><g class=\"ytick\"><text text-anchor=\"end\" x=\"58.6\" y=\"4.199999999999999\" style=\"font-family: 'Open Sans', verdana, arial, sans-serif; font-size: 12px; fill: rgb(36, 36, 36); fill-opacity: 1; white-space: pre; opacity: 1;\" transform=\"translate(0,150.07)\">0.05</text></g><g class=\"ytick\"><text text-anchor=\"end\" x=\"58.6\" y=\"4.199999999999999\" style=\"font-family: 'Open Sans', verdana, arial, sans-serif; font-size: 12px; fill: rgb(36, 36, 36); fill-opacity: 1; white-space: pre; opacity: 1;\" transform=\"translate(0,117.12)\">0.1</text></g><g class=\"ytick\"><text text-anchor=\"end\" x=\"58.6\" y=\"4.199999999999999\" style=\"font-family: 'Open Sans', verdana, arial, sans-serif; font-size: 12px; fill: rgb(36, 36, 36); fill-opacity: 1; white-space: pre; opacity: 1;\" transform=\"translate(0,84.18)\">0.15</text></g><g class=\"ytick\"><text text-anchor=\"end\" x=\"58.6\" y=\"4.199999999999999\" style=\"font-family: 'Open Sans', verdana, arial, sans-serif; font-size: 12px; fill: rgb(36, 36, 36); fill-opacity: 1; white-space: pre; opacity: 1;\" transform=\"translate(0,51.23)\">0.2</text></g><g class=\"ytick\"><text text-anchor=\"end\" x=\"58.6\" y=\"4.199999999999999\" style=\"font-family: 'Open Sans', verdana, arial, sans-serif; font-size: 12px; fill: rgb(36, 36, 36); fill-opacity: 1; white-space: pre; opacity: 1;\" transform=\"translate(0,18.29)\">0.25</text></g></g><g class=\"overaxes-above\"/></g></g><g class=\"polarlayer\"/><g class=\"smithlayer\"/><g class=\"ternarylayer\"/><g class=\"geolayer\"/><g class=\"funnelarealayer\"/><g class=\"pielayer\"/><g class=\"iciclelayer\"/><g class=\"treemaplayer\"/><g class=\"sunburstlayer\"/><g class=\"glimages\"/><defs id=\"topdefs-625a81\"><g class=\"clips\"/></defs><g class=\"layer-above\"><g class=\"imagelayer\"/><g class=\"shapelayer\"/></g><g class=\"infolayer\"><g class=\"g-gtitle\"/><g class=\"g-xtitle\"><text class=\"xtitle\" x=\"203.5\" y=\"239.70625\" text-anchor=\"middle\" style=\"font-family: 'Open Sans', verdana, arial, sans-serif; font-size: 14px; fill: rgb(36, 36, 36); opacity: 1; font-weight: normal; white-space: pre;\">longevity (years)</text></g><g class=\"g-ytitle\" transform=\"translate(4.9873046875,0)\"><text class=\"ytitle\" transform=\"rotate(-90,10.012500000000003,103)\" x=\"10.012500000000003\" y=\"103\" text-anchor=\"middle\" style=\"font-family: 'Open Sans', verdana, arial, sans-serif; font-size: 14px; fill: rgb(36, 36, 36); opacity: 1; font-weight: normal; white-space: pre;\">density</text></g></g></svg>"
      ]
     },
     "metadata": {},
     "output_type": "display_data"
    }
   ],
   "source": [
    "f2 = go.Figure(go.Scatter(x=xs, y=ys))\n",
    "\n",
    "f2.update_xaxes(range=[4.5, 18.5], title=\"longevity (years)\")\n",
    "f2.update_yaxes(title=\"density\")\n",
    "f2.update_layout(showlegend=False,width=350, height=250)\n",
    "f2.show()"
   ]
  },
  {
   "cell_type": "markdown",
   "metadata": {},
   "source": [
    "In both the histogram and density curve, we can see that the distribution of longevity is asymmetric. There is one main mode around 12 years and a shoulder in the 9-11 year range, meaning\n",
    "that while 12 is the most common longevity, many breeds have a longevity one to three\n",
    "years shorter than 12.  We also see a small secondary mode around 7, and a few\n",
    "breeds with longevity as long as 14-16 years."
   ]
  },
  {
   "cell_type": "markdown",
   "metadata": {},
   "source": [
    "When interpreting a histogram or density curve, we examine: the symmetry and\n",
    "skewness of the distribution; the number, location, and size of high-frequency\n",
    "regions (modes); the length of tails (often in comparison to a bell-shaped curve);\n",
    "gaps where no values are observed; and unusually large or anomalous values.\n",
    "{numref}`Figure %s <example-density-plot>` provides a characterization of a distribution with several of these\n",
    "features. When we read a distribution, we connect the features that we see in\n",
    "the plot to the quantity measured."
   ]
  },
  {
   "cell_type": "markdown",
   "metadata": {},
   "source": [
    "```{figure} figures/example-density-plot.png\n",
    "---\n",
    "name: example-density-plot\n",
    "width: 350px\n",
    "---\n",
    "\n",
    "Example density plot that connects qualities of a distribution to the shape of the density curve.\n",
    "```"
   ]
  },
  {
   "cell_type": "markdown",
   "metadata": {},
   "source": [
    "As another example, the distribution of the number of ailments in dog breed, appears in the following histogram. \n",
    "A value of zero means this breed has no genetic\n",
    "ailments, one corresponds to one genetic ailment, and so on. \n",
    "From the histogram, we\n",
    "see that the distribution of ailments is unimodal with a peak at zero. We also\n",
    "see that the distribution is heavily skewed right, with a long right tail\n",
    "indicating that some few breeds have between four and nine genetic ailments.\n",
    "Although quantitative, ailments is discrete because only a few integer values\n",
    "are possible. For this reason, we centered the bins on the integers so the\n",
    "bin from 1.5 to 2.5 contains only those breeds with two ailments. We also made\n",
    "the rightmost bin wider. We lumped into one bin all of the breeds with four to\n",
    "nine ailments. When bin counts are small, we use wider bins to further smooth\n",
    "the distribution because we do not want to read too much into the fluctuations\n",
    "of small numbers. In this case, none of the breeds have six or seven ailments,\n",
    "but some had four, five, eight and nine."
   ]
  },
  {
   "cell_type": "code",
   "execution_count": 14,
   "metadata": {
    "tags": []
   },
   "outputs": [
    {
     "data": {
      "image/svg+xml": [
       "<?xml version=\"1.0\" encoding=\"utf-8\" standalone=\"no\"?>\n",
       "<!DOCTYPE svg PUBLIC \"-//W3C//DTD SVG 1.1//EN\"\n",
       "  \"http://www.w3.org/Graphics/SVG/1.1/DTD/svg11.dtd\">\n",
       "<!-- Created with matplotlib (https://matplotlib.org/) -->\n",
       "<svg height=\"206.770625pt\" version=\"1.1\" viewBox=\"0 0 277.323438 206.770625\" width=\"277.323438pt\" xmlns=\"http://www.w3.org/2000/svg\" xmlns:xlink=\"http://www.w3.org/1999/xlink\">\n",
       " <metadata>\n",
       "  <rdf:RDF xmlns:cc=\"http://creativecommons.org/ns#\" xmlns:dc=\"http://purl.org/dc/elements/1.1/\" xmlns:rdf=\"http://www.w3.org/1999/02/22-rdf-syntax-ns#\">\n",
       "   <cc:Work>\n",
       "    <dc:type rdf:resource=\"http://purl.org/dc/dcmitype/StillImage\"/>\n",
       "    <dc:date>2023-02-04T16:27:48.209359</dc:date>\n",
       "    <dc:format>image/svg+xml</dc:format>\n",
       "    <dc:creator>\n",
       "     <cc:Agent>\n",
       "      <dc:title>Matplotlib v3.3.4, https://matplotlib.org/</dc:title>\n",
       "     </cc:Agent>\n",
       "    </dc:creator>\n",
       "   </cc:Work>\n",
       "  </rdf:RDF>\n",
       " </metadata>\n",
       " <defs>\n",
       "  <style type=\"text/css\">*{stroke-linecap:butt;stroke-linejoin:round;}</style>\n",
       " </defs>\n",
       " <g id=\"figure_1\">\n",
       "  <g id=\"patch_1\">\n",
       "   <path d=\"M 0 206.770625 \n",
       "L 277.323438 206.770625 \n",
       "L 277.323438 0 \n",
       "L 0 0 \n",
       "z\n",
       "\" style=\"fill:#ffffff;\"/>\n",
       "  </g>\n",
       "  <g id=\"axes_1\">\n",
       "   <g id=\"patch_2\">\n",
       "    <path d=\"M 41.3625 170.28 \n",
       "L 264.5625 170.28 \n",
       "L 264.5625 7.2 \n",
       "L 41.3625 7.2 \n",
       "z\n",
       "\" style=\"fill:#ffffff;\"/>\n",
       "   </g>\n",
       "   <g id=\"matplotlib.axis_1\">\n",
       "    <g id=\"xtick_1\">\n",
       "     <g id=\"line2d_1\">\n",
       "      <path clip-path=\"url(#p11d09bb0f8)\" d=\"M 61.653409 170.28 \n",
       "L 61.653409 7.2 \n",
       "\" style=\"fill:none;stroke:#cccccc;stroke-linecap:round;stroke-width:0.8;\"/>\n",
       "     </g>\n",
       "     <g id=\"text_1\">\n",
       "      <!-- 0 -->\n",
       "      <g style=\"fill:#262626;\" transform=\"translate(58.87294 184.437813)scale(0.1 -0.1)\">\n",
       "       <defs>\n",
       "        <path d=\"M 4.15625 35.296875 \n",
       "Q 4.15625 48 6.765625 55.734375 \n",
       "Q 9.375 63.484375 14.515625 67.671875 \n",
       "Q 19.671875 71.875 27.484375 71.875 \n",
       "Q 33.25 71.875 37.59375 69.546875 \n",
       "Q 41.9375 67.234375 44.765625 62.859375 \n",
       "Q 47.609375 58.5 49.21875 52.21875 \n",
       "Q 50.828125 45.953125 50.828125 35.296875 \n",
       "Q 50.828125 22.703125 48.234375 14.96875 \n",
       "Q 45.65625 7.234375 40.5 3 \n",
       "Q 35.359375 -1.21875 27.484375 -1.21875 \n",
       "Q 17.140625 -1.21875 11.234375 6.203125 \n",
       "Q 4.15625 15.140625 4.15625 35.296875 \n",
       "z\n",
       "M 13.1875 35.296875 \n",
       "Q 13.1875 17.671875 17.3125 11.828125 \n",
       "Q 21.4375 6 27.484375 6 \n",
       "Q 33.546875 6 37.671875 11.859375 \n",
       "Q 41.796875 17.71875 41.796875 35.296875 \n",
       "Q 41.796875 52.984375 37.671875 58.78125 \n",
       "Q 33.546875 64.59375 27.390625 64.59375 \n",
       "Q 21.34375 64.59375 17.71875 59.46875 \n",
       "Q 13.1875 52.9375 13.1875 35.296875 \n",
       "z\n",
       "\" id=\"ArialMT-48\"/>\n",
       "       </defs>\n",
       "       <use xlink:href=\"#ArialMT-48\"/>\n",
       "      </g>\n",
       "     </g>\n",
       "    </g>\n",
       "    <g id=\"xtick_2\">\n",
       "     <g id=\"line2d_2\">\n",
       "      <path clip-path=\"url(#p11d09bb0f8)\" d=\"M 102.235227 170.28 \n",
       "L 102.235227 7.2 \n",
       "\" style=\"fill:none;stroke:#cccccc;stroke-linecap:round;stroke-width:0.8;\"/>\n",
       "     </g>\n",
       "     <g id=\"text_2\">\n",
       "      <!-- 2 -->\n",
       "      <g style=\"fill:#262626;\" transform=\"translate(99.454759 184.437813)scale(0.1 -0.1)\">\n",
       "       <defs>\n",
       "        <path d=\"M 50.34375 8.453125 \n",
       "L 50.34375 0 \n",
       "L 3.03125 0 \n",
       "Q 2.9375 3.171875 4.046875 6.109375 \n",
       "Q 5.859375 10.9375 9.828125 15.625 \n",
       "Q 13.8125 20.3125 21.34375 26.46875 \n",
       "Q 33.015625 36.03125 37.109375 41.625 \n",
       "Q 41.21875 47.21875 41.21875 52.203125 \n",
       "Q 41.21875 57.421875 37.46875 61 \n",
       "Q 33.734375 64.59375 27.734375 64.59375 \n",
       "Q 21.390625 64.59375 17.578125 60.78125 \n",
       "Q 13.765625 56.984375 13.71875 50.25 \n",
       "L 4.6875 51.171875 \n",
       "Q 5.609375 61.28125 11.65625 66.578125 \n",
       "Q 17.71875 71.875 27.9375 71.875 \n",
       "Q 38.234375 71.875 44.234375 66.15625 \n",
       "Q 50.25 60.453125 50.25 52 \n",
       "Q 50.25 47.703125 48.484375 43.546875 \n",
       "Q 46.734375 39.40625 42.65625 34.8125 \n",
       "Q 38.578125 30.21875 29.109375 22.21875 \n",
       "Q 21.1875 15.578125 18.9375 13.203125 \n",
       "Q 16.703125 10.84375 15.234375 8.453125 \n",
       "z\n",
       "\" id=\"ArialMT-50\"/>\n",
       "       </defs>\n",
       "       <use xlink:href=\"#ArialMT-50\"/>\n",
       "      </g>\n",
       "     </g>\n",
       "    </g>\n",
       "    <g id=\"xtick_3\">\n",
       "     <g id=\"line2d_3\">\n",
       "      <path clip-path=\"url(#p11d09bb0f8)\" d=\"M 142.817045 170.28 \n",
       "L 142.817045 7.2 \n",
       "\" style=\"fill:none;stroke:#cccccc;stroke-linecap:round;stroke-width:0.8;\"/>\n",
       "     </g>\n",
       "     <g id=\"text_3\">\n",
       "      <!-- 4 -->\n",
       "      <g style=\"fill:#262626;\" transform=\"translate(140.036577 184.437813)scale(0.1 -0.1)\">\n",
       "       <defs>\n",
       "        <path d=\"M 32.328125 0 \n",
       "L 32.328125 17.140625 \n",
       "L 1.265625 17.140625 \n",
       "L 1.265625 25.203125 \n",
       "L 33.9375 71.578125 \n",
       "L 41.109375 71.578125 \n",
       "L 41.109375 25.203125 \n",
       "L 50.78125 25.203125 \n",
       "L 50.78125 17.140625 \n",
       "L 41.109375 17.140625 \n",
       "L 41.109375 0 \n",
       "z\n",
       "M 32.328125 25.203125 \n",
       "L 32.328125 57.46875 \n",
       "L 9.90625 25.203125 \n",
       "z\n",
       "\" id=\"ArialMT-52\"/>\n",
       "       </defs>\n",
       "       <use xlink:href=\"#ArialMT-52\"/>\n",
       "      </g>\n",
       "     </g>\n",
       "    </g>\n",
       "    <g id=\"xtick_4\">\n",
       "     <g id=\"line2d_4\">\n",
       "      <path clip-path=\"url(#p11d09bb0f8)\" d=\"M 183.398864 170.28 \n",
       "L 183.398864 7.2 \n",
       "\" style=\"fill:none;stroke:#cccccc;stroke-linecap:round;stroke-width:0.8;\"/>\n",
       "     </g>\n",
       "     <g id=\"text_4\">\n",
       "      <!-- 6 -->\n",
       "      <g style=\"fill:#262626;\" transform=\"translate(180.618395 184.437813)scale(0.1 -0.1)\">\n",
       "       <defs>\n",
       "        <path d=\"M 49.75 54.046875 \n",
       "L 41.015625 53.375 \n",
       "Q 39.84375 58.546875 37.703125 60.890625 \n",
       "Q 34.125 64.65625 28.90625 64.65625 \n",
       "Q 24.703125 64.65625 21.53125 62.3125 \n",
       "Q 17.390625 59.28125 14.984375 53.46875 \n",
       "Q 12.59375 47.65625 12.5 36.921875 \n",
       "Q 15.671875 41.75 20.265625 44.09375 \n",
       "Q 24.859375 46.4375 29.890625 46.4375 \n",
       "Q 38.671875 46.4375 44.84375 39.96875 \n",
       "Q 51.03125 33.5 51.03125 23.25 \n",
       "Q 51.03125 16.5 48.125 10.71875 \n",
       "Q 45.21875 4.9375 40.140625 1.859375 \n",
       "Q 35.0625 -1.21875 28.609375 -1.21875 \n",
       "Q 17.625 -1.21875 10.6875 6.859375 \n",
       "Q 3.765625 14.9375 3.765625 33.5 \n",
       "Q 3.765625 54.25 11.421875 63.671875 \n",
       "Q 18.109375 71.875 29.4375 71.875 \n",
       "Q 37.890625 71.875 43.28125 67.140625 \n",
       "Q 48.6875 62.40625 49.75 54.046875 \n",
       "z\n",
       "M 13.875 23.1875 \n",
       "Q 13.875 18.65625 15.796875 14.5 \n",
       "Q 17.71875 10.359375 21.1875 8.171875 \n",
       "Q 24.65625 6 28.46875 6 \n",
       "Q 34.03125 6 38.03125 10.484375 \n",
       "Q 42.046875 14.984375 42.046875 22.703125 \n",
       "Q 42.046875 30.125 38.078125 34.390625 \n",
       "Q 34.125 38.671875 28.125 38.671875 \n",
       "Q 22.171875 38.671875 18.015625 34.390625 \n",
       "Q 13.875 30.125 13.875 23.1875 \n",
       "z\n",
       "\" id=\"ArialMT-54\"/>\n",
       "       </defs>\n",
       "       <use xlink:href=\"#ArialMT-54\"/>\n",
       "      </g>\n",
       "     </g>\n",
       "    </g>\n",
       "    <g id=\"xtick_5\">\n",
       "     <g id=\"line2d_5\">\n",
       "      <path clip-path=\"url(#p11d09bb0f8)\" d=\"M 223.980682 170.28 \n",
       "L 223.980682 7.2 \n",
       "\" style=\"fill:none;stroke:#cccccc;stroke-linecap:round;stroke-width:0.8;\"/>\n",
       "     </g>\n",
       "     <g id=\"text_5\">\n",
       "      <!-- 8 -->\n",
       "      <g style=\"fill:#262626;\" transform=\"translate(221.200213 184.437813)scale(0.1 -0.1)\">\n",
       "       <defs>\n",
       "        <path d=\"M 17.671875 38.8125 \n",
       "Q 12.203125 40.828125 9.5625 44.53125 \n",
       "Q 6.9375 48.25 6.9375 53.421875 \n",
       "Q 6.9375 61.234375 12.546875 66.546875 \n",
       "Q 18.171875 71.875 27.484375 71.875 \n",
       "Q 36.859375 71.875 42.578125 66.421875 \n",
       "Q 48.296875 60.984375 48.296875 53.171875 \n",
       "Q 48.296875 48.1875 45.671875 44.5 \n",
       "Q 43.0625 40.828125 37.75 38.8125 \n",
       "Q 44.34375 36.671875 47.78125 31.875 \n",
       "Q 51.21875 27.09375 51.21875 20.453125 \n",
       "Q 51.21875 11.28125 44.71875 5.03125 \n",
       "Q 38.234375 -1.21875 27.640625 -1.21875 \n",
       "Q 17.046875 -1.21875 10.546875 5.046875 \n",
       "Q 4.046875 11.328125 4.046875 20.703125 \n",
       "Q 4.046875 27.6875 7.59375 32.390625 \n",
       "Q 11.140625 37.109375 17.671875 38.8125 \n",
       "z\n",
       "M 15.921875 53.71875 \n",
       "Q 15.921875 48.640625 19.1875 45.40625 \n",
       "Q 22.46875 42.1875 27.6875 42.1875 \n",
       "Q 32.765625 42.1875 36.015625 45.375 \n",
       "Q 39.265625 48.578125 39.265625 53.21875 \n",
       "Q 39.265625 58.0625 35.90625 61.359375 \n",
       "Q 32.5625 64.65625 27.59375 64.65625 \n",
       "Q 22.5625 64.65625 19.234375 61.421875 \n",
       "Q 15.921875 58.203125 15.921875 53.71875 \n",
       "z\n",
       "M 13.09375 20.65625 \n",
       "Q 13.09375 16.890625 14.875 13.375 \n",
       "Q 16.65625 9.859375 20.171875 7.921875 \n",
       "Q 23.6875 6 27.734375 6 \n",
       "Q 34.03125 6 38.125 10.046875 \n",
       "Q 42.234375 14.109375 42.234375 20.359375 \n",
       "Q 42.234375 26.703125 38.015625 30.859375 \n",
       "Q 33.796875 35.015625 27.4375 35.015625 \n",
       "Q 21.234375 35.015625 17.15625 30.90625 \n",
       "Q 13.09375 26.8125 13.09375 20.65625 \n",
       "z\n",
       "\" id=\"ArialMT-56\"/>\n",
       "       </defs>\n",
       "       <use xlink:href=\"#ArialMT-56\"/>\n",
       "      </g>\n",
       "     </g>\n",
       "    </g>\n",
       "    <g id=\"xtick_6\">\n",
       "     <g id=\"line2d_6\">\n",
       "      <path clip-path=\"url(#p11d09bb0f8)\" d=\"M 264.5625 170.28 \n",
       "L 264.5625 7.2 \n",
       "\" style=\"fill:none;stroke:#cccccc;stroke-linecap:round;stroke-width:0.8;\"/>\n",
       "     </g>\n",
       "     <g id=\"text_6\">\n",
       "      <!-- 10 -->\n",
       "      <g style=\"fill:#262626;\" transform=\"translate(259.001562 184.437813)scale(0.1 -0.1)\">\n",
       "       <defs>\n",
       "        <path d=\"M 37.25 0 \n",
       "L 28.46875 0 \n",
       "L 28.46875 56 \n",
       "Q 25.296875 52.984375 20.140625 49.953125 \n",
       "Q 14.984375 46.921875 10.890625 45.40625 \n",
       "L 10.890625 53.90625 \n",
       "Q 18.265625 57.375 23.78125 62.296875 \n",
       "Q 29.296875 67.234375 31.59375 71.875 \n",
       "L 37.25 71.875 \n",
       "z\n",
       "\" id=\"ArialMT-49\"/>\n",
       "       </defs>\n",
       "       <use xlink:href=\"#ArialMT-49\"/>\n",
       "       <use x=\"55.615234\" xlink:href=\"#ArialMT-48\"/>\n",
       "      </g>\n",
       "     </g>\n",
       "    </g>\n",
       "    <g id=\"text_7\">\n",
       "     <!-- ailments -->\n",
       "     <g style=\"fill:#262626;\" transform=\"translate(134.345313 197.583125)scale(0.1 -0.1)\">\n",
       "      <defs>\n",
       "       <path d=\"M 40.4375 6.390625 \n",
       "Q 35.546875 2.25 31.03125 0.53125 \n",
       "Q 26.515625 -1.171875 21.34375 -1.171875 \n",
       "Q 12.796875 -1.171875 8.203125 3 \n",
       "Q 3.609375 7.171875 3.609375 13.671875 \n",
       "Q 3.609375 17.484375 5.34375 20.625 \n",
       "Q 7.078125 23.78125 9.890625 25.6875 \n",
       "Q 12.703125 27.59375 16.21875 28.5625 \n",
       "Q 18.796875 29.25 24.03125 29.890625 \n",
       "Q 34.671875 31.15625 39.703125 32.90625 \n",
       "Q 39.75 34.71875 39.75 35.203125 \n",
       "Q 39.75 40.578125 37.25 42.78125 \n",
       "Q 33.890625 45.75 27.25 45.75 \n",
       "Q 21.046875 45.75 18.09375 43.578125 \n",
       "Q 15.140625 41.40625 13.71875 35.890625 \n",
       "L 5.125 37.0625 \n",
       "Q 6.296875 42.578125 8.984375 45.96875 \n",
       "Q 11.671875 49.359375 16.75 51.1875 \n",
       "Q 21.828125 53.03125 28.515625 53.03125 \n",
       "Q 35.15625 53.03125 39.296875 51.46875 \n",
       "Q 43.453125 49.90625 45.40625 47.53125 \n",
       "Q 47.359375 45.171875 48.140625 41.546875 \n",
       "Q 48.578125 39.3125 48.578125 33.453125 \n",
       "L 48.578125 21.734375 \n",
       "Q 48.578125 9.46875 49.140625 6.21875 \n",
       "Q 49.703125 2.984375 51.375 0 \n",
       "L 42.1875 0 \n",
       "Q 40.828125 2.734375 40.4375 6.390625 \n",
       "z\n",
       "M 39.703125 26.03125 \n",
       "Q 34.90625 24.078125 25.34375 22.703125 \n",
       "Q 19.921875 21.921875 17.671875 20.9375 \n",
       "Q 15.4375 19.96875 14.203125 18.09375 \n",
       "Q 12.984375 16.21875 12.984375 13.921875 \n",
       "Q 12.984375 10.40625 15.640625 8.0625 \n",
       "Q 18.3125 5.71875 23.4375 5.71875 \n",
       "Q 28.515625 5.71875 32.46875 7.9375 \n",
       "Q 36.421875 10.15625 38.28125 14.015625 \n",
       "Q 39.703125 17 39.703125 22.796875 \n",
       "z\n",
       "\" id=\"ArialMT-97\"/>\n",
       "       <path d=\"M 6.640625 61.46875 \n",
       "L 6.640625 71.578125 \n",
       "L 15.4375 71.578125 \n",
       "L 15.4375 61.46875 \n",
       "z\n",
       "M 6.640625 0 \n",
       "L 6.640625 51.859375 \n",
       "L 15.4375 51.859375 \n",
       "L 15.4375 0 \n",
       "z\n",
       "\" id=\"ArialMT-105\"/>\n",
       "       <path d=\"M 6.390625 0 \n",
       "L 6.390625 71.578125 \n",
       "L 15.1875 71.578125 \n",
       "L 15.1875 0 \n",
       "z\n",
       "\" id=\"ArialMT-108\"/>\n",
       "       <path d=\"M 6.59375 0 \n",
       "L 6.59375 51.859375 \n",
       "L 14.453125 51.859375 \n",
       "L 14.453125 44.578125 \n",
       "Q 16.890625 48.390625 20.9375 50.703125 \n",
       "Q 25 53.03125 30.171875 53.03125 \n",
       "Q 35.9375 53.03125 39.625 50.640625 \n",
       "Q 43.3125 48.25 44.828125 43.953125 \n",
       "Q 50.984375 53.03125 60.84375 53.03125 \n",
       "Q 68.5625 53.03125 72.703125 48.75 \n",
       "Q 76.859375 44.484375 76.859375 35.59375 \n",
       "L 76.859375 0 \n",
       "L 68.109375 0 \n",
       "L 68.109375 32.671875 \n",
       "Q 68.109375 37.9375 67.25 40.25 \n",
       "Q 66.40625 42.578125 64.15625 43.984375 \n",
       "Q 61.921875 45.40625 58.890625 45.40625 \n",
       "Q 53.421875 45.40625 49.796875 41.765625 \n",
       "Q 46.1875 38.140625 46.1875 30.125 \n",
       "L 46.1875 0 \n",
       "L 37.40625 0 \n",
       "L 37.40625 33.6875 \n",
       "Q 37.40625 39.546875 35.25 42.46875 \n",
       "Q 33.109375 45.40625 28.21875 45.40625 \n",
       "Q 24.515625 45.40625 21.359375 43.453125 \n",
       "Q 18.21875 41.5 16.796875 37.734375 \n",
       "Q 15.375 33.984375 15.375 26.90625 \n",
       "L 15.375 0 \n",
       "z\n",
       "\" id=\"ArialMT-109\"/>\n",
       "       <path d=\"M 42.09375 16.703125 \n",
       "L 51.171875 15.578125 \n",
       "Q 49.03125 7.625 43.21875 3.21875 \n",
       "Q 37.40625 -1.171875 28.375 -1.171875 \n",
       "Q 17 -1.171875 10.328125 5.828125 \n",
       "Q 3.65625 12.84375 3.65625 25.484375 \n",
       "Q 3.65625 38.578125 10.390625 45.796875 \n",
       "Q 17.140625 53.03125 27.875 53.03125 \n",
       "Q 38.28125 53.03125 44.875 45.953125 \n",
       "Q 51.46875 38.875 51.46875 26.03125 \n",
       "Q 51.46875 25.25 51.421875 23.6875 \n",
       "L 12.75 23.6875 \n",
       "Q 13.234375 15.140625 17.578125 10.59375 \n",
       "Q 21.921875 6.0625 28.421875 6.0625 \n",
       "Q 33.25 6.0625 36.671875 8.59375 \n",
       "Q 40.09375 11.140625 42.09375 16.703125 \n",
       "z\n",
       "M 13.234375 30.90625 \n",
       "L 42.1875 30.90625 \n",
       "Q 41.609375 37.453125 38.875 40.71875 \n",
       "Q 34.671875 45.796875 27.984375 45.796875 \n",
       "Q 21.921875 45.796875 17.796875 41.75 \n",
       "Q 13.671875 37.703125 13.234375 30.90625 \n",
       "z\n",
       "\" id=\"ArialMT-101\"/>\n",
       "       <path d=\"M 6.59375 0 \n",
       "L 6.59375 51.859375 \n",
       "L 14.5 51.859375 \n",
       "L 14.5 44.484375 \n",
       "Q 20.21875 53.03125 31 53.03125 \n",
       "Q 35.6875 53.03125 39.625 51.34375 \n",
       "Q 43.5625 49.65625 45.515625 46.921875 \n",
       "Q 47.46875 44.1875 48.25 40.4375 \n",
       "Q 48.734375 37.984375 48.734375 31.890625 \n",
       "L 48.734375 0 \n",
       "L 39.9375 0 \n",
       "L 39.9375 31.546875 \n",
       "Q 39.9375 36.921875 38.90625 39.578125 \n",
       "Q 37.890625 42.234375 35.28125 43.8125 \n",
       "Q 32.671875 45.40625 29.15625 45.40625 \n",
       "Q 23.53125 45.40625 19.453125 41.84375 \n",
       "Q 15.375 38.28125 15.375 28.328125 \n",
       "L 15.375 0 \n",
       "z\n",
       "\" id=\"ArialMT-110\"/>\n",
       "       <path d=\"M 25.78125 7.859375 \n",
       "L 27.046875 0.09375 \n",
       "Q 23.34375 -0.6875 20.40625 -0.6875 \n",
       "Q 15.625 -0.6875 12.984375 0.828125 \n",
       "Q 10.359375 2.34375 9.28125 4.8125 \n",
       "Q 8.203125 7.28125 8.203125 15.1875 \n",
       "L 8.203125 45.015625 \n",
       "L 1.765625 45.015625 \n",
       "L 1.765625 51.859375 \n",
       "L 8.203125 51.859375 \n",
       "L 8.203125 64.703125 \n",
       "L 16.9375 69.96875 \n",
       "L 16.9375 51.859375 \n",
       "L 25.78125 51.859375 \n",
       "L 25.78125 45.015625 \n",
       "L 16.9375 45.015625 \n",
       "L 16.9375 14.703125 \n",
       "Q 16.9375 10.9375 17.40625 9.859375 \n",
       "Q 17.875 8.796875 18.921875 8.15625 \n",
       "Q 19.96875 7.515625 21.921875 7.515625 \n",
       "Q 23.390625 7.515625 25.78125 7.859375 \n",
       "z\n",
       "\" id=\"ArialMT-116\"/>\n",
       "       <path d=\"M 3.078125 15.484375 \n",
       "L 11.765625 16.84375 \n",
       "Q 12.5 11.625 15.84375 8.84375 \n",
       "Q 19.1875 6.0625 25.203125 6.0625 \n",
       "Q 31.25 6.0625 34.171875 8.515625 \n",
       "Q 37.109375 10.984375 37.109375 14.3125 \n",
       "Q 37.109375 17.28125 34.515625 19 \n",
       "Q 32.71875 20.171875 25.53125 21.96875 \n",
       "Q 15.875 24.421875 12.140625 26.203125 \n",
       "Q 8.40625 27.984375 6.46875 31.125 \n",
       "Q 4.546875 34.28125 4.546875 38.09375 \n",
       "Q 4.546875 41.546875 6.125 44.5 \n",
       "Q 7.71875 47.46875 10.453125 49.421875 \n",
       "Q 12.5 50.921875 16.03125 51.96875 \n",
       "Q 19.578125 53.03125 23.640625 53.03125 \n",
       "Q 29.734375 53.03125 34.34375 51.265625 \n",
       "Q 38.96875 49.515625 41.15625 46.5 \n",
       "Q 43.359375 43.5 44.1875 38.484375 \n",
       "L 35.59375 37.3125 \n",
       "Q 35.015625 41.3125 32.203125 43.546875 \n",
       "Q 29.390625 45.796875 24.265625 45.796875 \n",
       "Q 18.21875 45.796875 15.625 43.796875 \n",
       "Q 13.03125 41.796875 13.03125 39.109375 \n",
       "Q 13.03125 37.40625 14.109375 36.03125 \n",
       "Q 15.1875 34.625 17.484375 33.6875 \n",
       "Q 18.796875 33.203125 25.25 31.453125 \n",
       "Q 34.578125 28.953125 38.25 27.359375 \n",
       "Q 41.9375 25.78125 44.03125 22.75 \n",
       "Q 46.140625 19.734375 46.140625 15.234375 \n",
       "Q 46.140625 10.84375 43.578125 6.953125 \n",
       "Q 41.015625 3.078125 36.171875 0.953125 \n",
       "Q 31.34375 -1.171875 25.25 -1.171875 \n",
       "Q 15.140625 -1.171875 9.84375 3.03125 \n",
       "Q 4.546875 7.234375 3.078125 15.484375 \n",
       "z\n",
       "\" id=\"ArialMT-115\"/>\n",
       "      </defs>\n",
       "      <use xlink:href=\"#ArialMT-97\"/>\n",
       "      <use x=\"55.615234\" xlink:href=\"#ArialMT-105\"/>\n",
       "      <use x=\"77.832031\" xlink:href=\"#ArialMT-108\"/>\n",
       "      <use x=\"100.048828\" xlink:href=\"#ArialMT-109\"/>\n",
       "      <use x=\"183.349609\" xlink:href=\"#ArialMT-101\"/>\n",
       "      <use x=\"238.964844\" xlink:href=\"#ArialMT-110\"/>\n",
       "      <use x=\"294.580078\" xlink:href=\"#ArialMT-116\"/>\n",
       "      <use x=\"322.363281\" xlink:href=\"#ArialMT-115\"/>\n",
       "     </g>\n",
       "    </g>\n",
       "   </g>\n",
       "   <g id=\"matplotlib.axis_2\">\n",
       "    <g id=\"ytick_1\">\n",
       "     <g id=\"line2d_7\">\n",
       "      <path clip-path=\"url(#p11d09bb0f8)\" d=\"M 41.3625 170.28 \n",
       "L 264.5625 170.28 \n",
       "\" style=\"fill:none;stroke:#cccccc;stroke-linecap:round;stroke-width:0.8;\"/>\n",
       "     </g>\n",
       "     <g id=\"text_8\">\n",
       "      <!-- 0.0 -->\n",
       "      <g style=\"fill:#262626;\" transform=\"translate(20.4625 173.858906)scale(0.1 -0.1)\">\n",
       "       <defs>\n",
       "        <path d=\"M 9.078125 0 \n",
       "L 9.078125 10.015625 \n",
       "L 19.09375 10.015625 \n",
       "L 19.09375 0 \n",
       "z\n",
       "\" id=\"ArialMT-46\"/>\n",
       "       </defs>\n",
       "       <use xlink:href=\"#ArialMT-48\"/>\n",
       "       <use x=\"55.615234\" xlink:href=\"#ArialMT-46\"/>\n",
       "       <use x=\"83.398438\" xlink:href=\"#ArialMT-48\"/>\n",
       "      </g>\n",
       "     </g>\n",
       "    </g>\n",
       "    <g id=\"ytick_2\">\n",
       "     <g id=\"line2d_8\">\n",
       "      <path clip-path=\"url(#p11d09bb0f8)\" d=\"M 41.3625 132.59719 \n",
       "L 264.5625 132.59719 \n",
       "\" style=\"fill:none;stroke:#cccccc;stroke-linecap:round;stroke-width:0.8;\"/>\n",
       "     </g>\n",
       "     <g id=\"text_9\">\n",
       "      <!-- 0.1 -->\n",
       "      <g style=\"fill:#262626;\" transform=\"translate(20.4625 136.176096)scale(0.1 -0.1)\">\n",
       "       <use xlink:href=\"#ArialMT-48\"/>\n",
       "       <use x=\"55.615234\" xlink:href=\"#ArialMT-46\"/>\n",
       "       <use x=\"83.398438\" xlink:href=\"#ArialMT-49\"/>\n",
       "      </g>\n",
       "     </g>\n",
       "    </g>\n",
       "    <g id=\"ytick_3\">\n",
       "     <g id=\"line2d_9\">\n",
       "      <path clip-path=\"url(#p11d09bb0f8)\" d=\"M 41.3625 94.914379 \n",
       "L 264.5625 94.914379 \n",
       "\" style=\"fill:none;stroke:#cccccc;stroke-linecap:round;stroke-width:0.8;\"/>\n",
       "     </g>\n",
       "     <g id=\"text_10\">\n",
       "      <!-- 0.2 -->\n",
       "      <g style=\"fill:#262626;\" transform=\"translate(20.4625 98.493286)scale(0.1 -0.1)\">\n",
       "       <use xlink:href=\"#ArialMT-48\"/>\n",
       "       <use x=\"55.615234\" xlink:href=\"#ArialMT-46\"/>\n",
       "       <use x=\"83.398438\" xlink:href=\"#ArialMT-50\"/>\n",
       "      </g>\n",
       "     </g>\n",
       "    </g>\n",
       "    <g id=\"ytick_4\">\n",
       "     <g id=\"line2d_10\">\n",
       "      <path clip-path=\"url(#p11d09bb0f8)\" d=\"M 41.3625 57.231569 \n",
       "L 264.5625 57.231569 \n",
       "\" style=\"fill:none;stroke:#cccccc;stroke-linecap:round;stroke-width:0.8;\"/>\n",
       "     </g>\n",
       "     <g id=\"text_11\">\n",
       "      <!-- 0.3 -->\n",
       "      <g style=\"fill:#262626;\" transform=\"translate(20.4625 60.810475)scale(0.1 -0.1)\">\n",
       "       <defs>\n",
       "        <path d=\"M 4.203125 18.890625 \n",
       "L 12.984375 20.0625 \n",
       "Q 14.5 12.59375 18.140625 9.296875 \n",
       "Q 21.78125 6 27 6 \n",
       "Q 33.203125 6 37.46875 10.296875 \n",
       "Q 41.75 14.59375 41.75 20.953125 \n",
       "Q 41.75 27 37.796875 30.921875 \n",
       "Q 33.84375 34.859375 27.734375 34.859375 \n",
       "Q 25.25 34.859375 21.53125 33.890625 \n",
       "L 22.515625 41.609375 \n",
       "Q 23.390625 41.5 23.921875 41.5 \n",
       "Q 29.546875 41.5 34.03125 44.421875 \n",
       "Q 38.53125 47.359375 38.53125 53.46875 \n",
       "Q 38.53125 58.296875 35.25 61.46875 \n",
       "Q 31.984375 64.65625 26.8125 64.65625 \n",
       "Q 21.6875 64.65625 18.265625 61.421875 \n",
       "Q 14.84375 58.203125 13.875 51.765625 \n",
       "L 5.078125 53.328125 \n",
       "Q 6.6875 62.15625 12.390625 67.015625 \n",
       "Q 18.109375 71.875 26.609375 71.875 \n",
       "Q 32.46875 71.875 37.390625 69.359375 \n",
       "Q 42.328125 66.84375 44.9375 62.5 \n",
       "Q 47.5625 58.15625 47.5625 53.265625 \n",
       "Q 47.5625 48.640625 45.0625 44.828125 \n",
       "Q 42.578125 41.015625 37.703125 38.765625 \n",
       "Q 44.046875 37.3125 47.5625 32.6875 \n",
       "Q 51.078125 28.078125 51.078125 21.140625 \n",
       "Q 51.078125 11.765625 44.234375 5.25 \n",
       "Q 37.40625 -1.265625 26.953125 -1.265625 \n",
       "Q 17.53125 -1.265625 11.296875 4.34375 \n",
       "Q 5.078125 9.96875 4.203125 18.890625 \n",
       "z\n",
       "\" id=\"ArialMT-51\"/>\n",
       "       </defs>\n",
       "       <use xlink:href=\"#ArialMT-48\"/>\n",
       "       <use x=\"55.615234\" xlink:href=\"#ArialMT-46\"/>\n",
       "       <use x=\"83.398438\" xlink:href=\"#ArialMT-51\"/>\n",
       "      </g>\n",
       "     </g>\n",
       "    </g>\n",
       "    <g id=\"ytick_5\">\n",
       "     <g id=\"line2d_11\">\n",
       "      <path clip-path=\"url(#p11d09bb0f8)\" d=\"M 41.3625 19.548759 \n",
       "L 264.5625 19.548759 \n",
       "\" style=\"fill:none;stroke:#cccccc;stroke-linecap:round;stroke-width:0.8;\"/>\n",
       "     </g>\n",
       "     <g id=\"text_12\">\n",
       "      <!-- 0.4 -->\n",
       "      <g style=\"fill:#262626;\" transform=\"translate(20.4625 23.127665)scale(0.1 -0.1)\">\n",
       "       <use xlink:href=\"#ArialMT-48\"/>\n",
       "       <use x=\"55.615234\" xlink:href=\"#ArialMT-46\"/>\n",
       "       <use x=\"83.398438\" xlink:href=\"#ArialMT-52\"/>\n",
       "      </g>\n",
       "     </g>\n",
       "    </g>\n",
       "    <g id=\"text_13\">\n",
       "     <!-- Density -->\n",
       "     <g style=\"fill:#262626;\" transform=\"translate(14.357813 105.411875)rotate(-90)scale(0.1 -0.1)\">\n",
       "      <defs>\n",
       "       <path d=\"M 7.71875 0 \n",
       "L 7.71875 71.578125 \n",
       "L 32.375 71.578125 \n",
       "Q 40.71875 71.578125 45.125 70.5625 \n",
       "Q 51.265625 69.140625 55.609375 65.4375 \n",
       "Q 61.28125 60.640625 64.078125 53.1875 \n",
       "Q 66.890625 45.75 66.890625 36.1875 \n",
       "Q 66.890625 28.03125 64.984375 21.734375 \n",
       "Q 63.09375 15.4375 60.109375 11.296875 \n",
       "Q 57.125 7.171875 53.578125 4.796875 \n",
       "Q 50.046875 2.4375 45.046875 1.21875 \n",
       "Q 40.046875 0 33.546875 0 \n",
       "z\n",
       "M 17.1875 8.453125 \n",
       "L 32.46875 8.453125 \n",
       "Q 39.546875 8.453125 43.578125 9.765625 \n",
       "Q 47.609375 11.078125 50 13.484375 \n",
       "Q 53.375 16.84375 55.25 22.53125 \n",
       "Q 57.125 28.21875 57.125 36.328125 \n",
       "Q 57.125 47.5625 53.4375 53.59375 \n",
       "Q 49.75 59.625 44.484375 61.671875 \n",
       "Q 40.671875 63.140625 32.234375 63.140625 \n",
       "L 17.1875 63.140625 \n",
       "z\n",
       "\" id=\"ArialMT-68\"/>\n",
       "       <path d=\"M 6.203125 -19.96875 \n",
       "L 5.21875 -11.71875 \n",
       "Q 8.109375 -12.5 10.25 -12.5 \n",
       "Q 13.1875 -12.5 14.9375 -11.515625 \n",
       "Q 16.703125 -10.546875 17.828125 -8.796875 \n",
       "Q 18.65625 -7.46875 20.515625 -2.25 \n",
       "Q 20.75 -1.515625 21.296875 -0.09375 \n",
       "L 1.609375 51.859375 \n",
       "L 11.078125 51.859375 \n",
       "L 21.875 21.828125 \n",
       "Q 23.96875 16.109375 25.640625 9.8125 \n",
       "Q 27.15625 15.875 29.25 21.625 \n",
       "L 40.328125 51.859375 \n",
       "L 49.125 51.859375 \n",
       "L 29.390625 -0.875 \n",
       "Q 26.21875 -9.421875 24.46875 -12.640625 \n",
       "Q 22.125 -17 19.09375 -19.015625 \n",
       "Q 16.0625 -21.046875 11.859375 -21.046875 \n",
       "Q 9.328125 -21.046875 6.203125 -19.96875 \n",
       "z\n",
       "\" id=\"ArialMT-121\"/>\n",
       "      </defs>\n",
       "      <use xlink:href=\"#ArialMT-68\"/>\n",
       "      <use x=\"72.216797\" xlink:href=\"#ArialMT-101\"/>\n",
       "      <use x=\"127.832031\" xlink:href=\"#ArialMT-110\"/>\n",
       "      <use x=\"183.447266\" xlink:href=\"#ArialMT-115\"/>\n",
       "      <use x=\"233.447266\" xlink:href=\"#ArialMT-105\"/>\n",
       "      <use x=\"255.664062\" xlink:href=\"#ArialMT-116\"/>\n",
       "      <use x=\"283.447266\" xlink:href=\"#ArialMT-121\"/>\n",
       "     </g>\n",
       "    </g>\n",
       "   </g>\n",
       "   <g id=\"patch_3\">\n",
       "    <path clip-path=\"url(#p11d09bb0f8)\" d=\"M 51.507955 170.28 \n",
       "L 71.798864 170.28 \n",
       "L 71.798864 14.965714 \n",
       "L 51.507955 14.965714 \n",
       "z\n",
       "\" style=\"fill:#1f77b4;fill-opacity:0.75;stroke:#ffffff;stroke-linejoin:miter;\"/>\n",
       "   </g>\n",
       "   <g id=\"patch_4\">\n",
       "    <path clip-path=\"url(#p11d09bb0f8)\" d=\"M 71.798864 170.28 \n",
       "L 92.089773 170.28 \n",
       "L 92.089773 63.342295 \n",
       "L 71.798864 63.342295 \n",
       "z\n",
       "\" style=\"fill:#1f77b4;fill-opacity:0.75;stroke:#ffffff;stroke-linejoin:miter;\"/>\n",
       "   </g>\n",
       "   <g id=\"patch_5\">\n",
       "    <path clip-path=\"url(#p11d09bb0f8)\" d=\"M 92.089773 170.28 \n",
       "L 112.380682 170.28 \n",
       "L 112.380682 109.17274 \n",
       "L 92.089773 109.17274 \n",
       "z\n",
       "\" style=\"fill:#1f77b4;fill-opacity:0.75;stroke:#ffffff;stroke-linejoin:miter;\"/>\n",
       "   </g>\n",
       "   <g id=\"patch_6\">\n",
       "    <path clip-path=\"url(#p11d09bb0f8)\" d=\"M 112.380682 170.28 \n",
       "L 132.671591 170.28 \n",
       "L 132.671591 155.003185 \n",
       "L 112.380682 155.003185 \n",
       "z\n",
       "\" style=\"fill:#1f77b4;fill-opacity:0.75;stroke:#ffffff;stroke-linejoin:miter;\"/>\n",
       "   </g>\n",
       "   <g id=\"patch_7\">\n",
       "    <path clip-path=\"url(#p11d09bb0f8)\" d=\"M 132.671591 170.28 \n",
       "L 254.417045 170.28 \n",
       "L 254.417045 163.91466 \n",
       "L 132.671591 163.91466 \n",
       "z\n",
       "\" style=\"fill:#1f77b4;fill-opacity:0.75;stroke:#ffffff;stroke-linejoin:miter;\"/>\n",
       "   </g>\n",
       "   <g id=\"patch_8\">\n",
       "    <path d=\"M 41.3625 170.28 \n",
       "L 41.3625 7.2 \n",
       "\" style=\"fill:none;stroke:#cccccc;stroke-linecap:square;stroke-linejoin:miter;stroke-width:0.8;\"/>\n",
       "   </g>\n",
       "   <g id=\"patch_9\">\n",
       "    <path d=\"M 264.5625 170.28 \n",
       "L 264.5625 7.2 \n",
       "\" style=\"fill:none;stroke:#cccccc;stroke-linecap:square;stroke-linejoin:miter;stroke-width:0.8;\"/>\n",
       "   </g>\n",
       "   <g id=\"patch_10\">\n",
       "    <path d=\"M 41.3625 170.28 \n",
       "L 264.5625 170.28 \n",
       "\" style=\"fill:none;stroke:#cccccc;stroke-linecap:square;stroke-linejoin:miter;stroke-width:0.8;\"/>\n",
       "   </g>\n",
       "   <g id=\"patch_11\">\n",
       "    <path d=\"M 41.3625 7.2 \n",
       "L 264.5625 7.2 \n",
       "\" style=\"fill:none;stroke:#cccccc;stroke-linecap:square;stroke-linejoin:miter;stroke-width:0.8;\"/>\n",
       "   </g>\n",
       "  </g>\n",
       " </g>\n",
       " <defs>\n",
       "  <clipPath id=\"p11d09bb0f8\">\n",
       "   <rect height=\"163.08\" width=\"223.2\" x=\"41.3625\" y=\"7.2\"/>\n",
       "  </clipPath>\n",
       " </defs>\n",
       "</svg>\n"
      ],
      "text/plain": [
       "<Figure size 288x216 with 1 Axes>"
      ]
     },
     "metadata": {},
     "output_type": "display_data"
    }
   ],
   "source": [
    "bins = [-0.5, 0.5, 1.5, 2.5, 3.5, 9.5]\n",
    "sns.histplot(data=dogs, x=\"ailments\", bins=bins, stat=\"density\");"
   ]
  },
  {
   "cell_type": "markdown",
   "metadata": {},
   "source": [
    "Density in the y-axis\n",
    ": Notice that the y-axis in the histogram of longevity and the histogram of ailments are both labeled \"Density\". \n",
    "The term \"density\" implies that the total area of the bars in the\n",
    "histogram is 1. We can think of the histogram as a skyline with tall buildings\n",
    "having denser populations. To find the fraction of observations in any bin, we\n",
    "compute the area of the rectangle. For example, the rectangle that runs\n",
    "from 3.5 to 9.5 in the ailments histogram contains about 10% of the breeds: 6 (width) × 0.017 (height) is roughly 0.10. If all of the bins are the same width, then the\n",
    "\"skyline\" will look the same whether the y-axis represents counts or density.\n",
    "Changing the y-axis to counts in this histogram\n",
    "would give a misleading picture of a very large rectangle in the right tail."
   ]
  },
  {
   "cell_type": "markdown",
   "metadata": {},
   "source": [
    "With a histogram we hide the details of individual yarns in a rug plot in order\n",
    "to view the general features of the distribution. Smoothing refers to this\n",
    "process of replacing sets of points with rectangles; we choose not to show\n",
    "every single point in the dataset in order to reveal broader trends. We might\n",
    "want to smooth out these points because: this is a sample and we believe that\n",
    "other values near the ones we observed are reasonable; and/or we want to focus\n",
    "on general structure rather than individual observations. Without the rug, we\n",
    "can't tell where the points are in a bin."
   ]
  },
  {
   "cell_type": "markdown",
   "metadata": {},
   "source": [
    "Smooth density curves, like the one we showed earlier for longevity, also have the property that the total area under the\n",
    "curve sums to 1. The density curve uses a smooth *kernel* function to spread out the\n",
    "individual yarns and is some times referred to as a *kernel density estimate* or kde for short."
   ]
  },
  {
   "cell_type": "markdown",
   "metadata": {},
   "source": [
    "Bar Plot ≠ Histogram\n",
    ": With qualitative data, the bar plot serves a similar\n",
    "role to the histogram. The bar plot gives a visual presentation of the\n",
    "\"popularity\" or frequency of different groups. However, we cannot interpret the\n",
    "shape of the bar plot in the same way as a histogram. Tails and symmetry do not\n",
    "make sense in this setting. Also, the frequency of a category is represented by\n",
    "the height of the bar, and the width carries no information.\n",
    "The two bar charts below display identical information about the\n",
    "the number of breeds in a category; the only difference is in the width of the bars.\n",
    "In the extreme, the\n",
    "line plot on the right eliminates the bars entirely and represents\n",
    "each count by a single dot. (Without the connecting lines, the right most\n",
    "figure is called a dot chart.) Reading this line plot, we see there are few breeds\n",
    "that are not suitable for children."
   ]
  },
  {
   "cell_type": "code",
   "execution_count": 49,
   "metadata": {
    "tags": [
     "hide-input"
    ]
   },
   "outputs": [],
   "source": [
    "kid_counts = dogs.groupby(['kids']).count()\n",
    "kid_counts = kid_counts.reindex([\"High\", \"Medium\", \"Low\"])"
   ]
  },
  {
   "cell_type": "code",
   "execution_count": 50,
   "metadata": {
    "tags": [
     "hide-input"
    ]
   },
   "outputs": [
    {
     "data": {
      "application/vnd.plotly.v1+json": {
       "config": {
        "plotlyServerURL": "https://plot.ly"
       },
       "data": [
        {
         "type": "bar",
         "x": [
          "High",
          "Medium",
          "Low"
         ],
         "xaxis": "x",
         "y": [
          67,
          35,
          10
         ],
         "yaxis": "y"
        },
        {
         "type": "bar",
         "width": 0.1,
         "x": [
          "High",
          "Medium",
          "Low"
         ],
         "xaxis": "x2",
         "y": [
          67,
          35,
          10
         ],
         "yaxis": "y2"
        },
        {
         "mode": "markers+lines",
         "type": "scatter",
         "x": [
          "High",
          "Medium",
          "Low"
         ],
         "xaxis": "x3",
         "y": [
          67,
          35,
          10
         ],
         "yaxis": "y3"
        }
       ],
       "layout": {
        "height": 250,
        "showlegend": false,
        "template": {
         "data": {
          "bar": [
           {
            "error_x": {
             "color": "rgb(36,36,36)"
            },
            "error_y": {
             "color": "rgb(36,36,36)"
            },
            "marker": {
             "line": {
              "color": "white",
              "width": 0.5
             },
             "pattern": {
              "fillmode": "overlay",
              "size": 10,
              "solidity": 0.2
             }
            },
            "type": "bar"
           }
          ],
          "barpolar": [
           {
            "marker": {
             "line": {
              "color": "white",
              "width": 0.5
             },
             "pattern": {
              "fillmode": "overlay",
              "size": 10,
              "solidity": 0.2
             }
            },
            "type": "barpolar"
           }
          ],
          "carpet": [
           {
            "aaxis": {
             "endlinecolor": "rgb(36,36,36)",
             "gridcolor": "white",
             "linecolor": "white",
             "minorgridcolor": "white",
             "startlinecolor": "rgb(36,36,36)"
            },
            "baxis": {
             "endlinecolor": "rgb(36,36,36)",
             "gridcolor": "white",
             "linecolor": "white",
             "minorgridcolor": "white",
             "startlinecolor": "rgb(36,36,36)"
            },
            "type": "carpet"
           }
          ],
          "choropleth": [
           {
            "colorbar": {
             "outlinewidth": 1,
             "tickcolor": "rgb(36,36,36)",
             "ticks": "outside"
            },
            "type": "choropleth"
           }
          ],
          "contour": [
           {
            "colorbar": {
             "outlinewidth": 1,
             "tickcolor": "rgb(36,36,36)",
             "ticks": "outside"
            },
            "colorscale": [
             [
              0,
              "#440154"
             ],
             [
              0.1111111111111111,
              "#482878"
             ],
             [
              0.2222222222222222,
              "#3e4989"
             ],
             [
              0.3333333333333333,
              "#31688e"
             ],
             [
              0.4444444444444444,
              "#26828e"
             ],
             [
              0.5555555555555556,
              "#1f9e89"
             ],
             [
              0.6666666666666666,
              "#35b779"
             ],
             [
              0.7777777777777778,
              "#6ece58"
             ],
             [
              0.8888888888888888,
              "#b5de2b"
             ],
             [
              1,
              "#fde725"
             ]
            ],
            "type": "contour"
           }
          ],
          "contourcarpet": [
           {
            "colorbar": {
             "outlinewidth": 1,
             "tickcolor": "rgb(36,36,36)",
             "ticks": "outside"
            },
            "type": "contourcarpet"
           }
          ],
          "heatmap": [
           {
            "colorbar": {
             "outlinewidth": 1,
             "tickcolor": "rgb(36,36,36)",
             "ticks": "outside"
            },
            "colorscale": [
             [
              0,
              "#440154"
             ],
             [
              0.1111111111111111,
              "#482878"
             ],
             [
              0.2222222222222222,
              "#3e4989"
             ],
             [
              0.3333333333333333,
              "#31688e"
             ],
             [
              0.4444444444444444,
              "#26828e"
             ],
             [
              0.5555555555555556,
              "#1f9e89"
             ],
             [
              0.6666666666666666,
              "#35b779"
             ],
             [
              0.7777777777777778,
              "#6ece58"
             ],
             [
              0.8888888888888888,
              "#b5de2b"
             ],
             [
              1,
              "#fde725"
             ]
            ],
            "type": "heatmap"
           }
          ],
          "heatmapgl": [
           {
            "colorbar": {
             "outlinewidth": 1,
             "tickcolor": "rgb(36,36,36)",
             "ticks": "outside"
            },
            "colorscale": [
             [
              0,
              "#440154"
             ],
             [
              0.1111111111111111,
              "#482878"
             ],
             [
              0.2222222222222222,
              "#3e4989"
             ],
             [
              0.3333333333333333,
              "#31688e"
             ],
             [
              0.4444444444444444,
              "#26828e"
             ],
             [
              0.5555555555555556,
              "#1f9e89"
             ],
             [
              0.6666666666666666,
              "#35b779"
             ],
             [
              0.7777777777777778,
              "#6ece58"
             ],
             [
              0.8888888888888888,
              "#b5de2b"
             ],
             [
              1,
              "#fde725"
             ]
            ],
            "type": "heatmapgl"
           }
          ],
          "histogram": [
           {
            "marker": {
             "line": {
              "color": "white",
              "width": 0.6
             }
            },
            "type": "histogram"
           }
          ],
          "histogram2d": [
           {
            "colorbar": {
             "outlinewidth": 1,
             "tickcolor": "rgb(36,36,36)",
             "ticks": "outside"
            },
            "colorscale": [
             [
              0,
              "#440154"
             ],
             [
              0.1111111111111111,
              "#482878"
             ],
             [
              0.2222222222222222,
              "#3e4989"
             ],
             [
              0.3333333333333333,
              "#31688e"
             ],
             [
              0.4444444444444444,
              "#26828e"
             ],
             [
              0.5555555555555556,
              "#1f9e89"
             ],
             [
              0.6666666666666666,
              "#35b779"
             ],
             [
              0.7777777777777778,
              "#6ece58"
             ],
             [
              0.8888888888888888,
              "#b5de2b"
             ],
             [
              1,
              "#fde725"
             ]
            ],
            "type": "histogram2d"
           }
          ],
          "histogram2dcontour": [
           {
            "colorbar": {
             "outlinewidth": 1,
             "tickcolor": "rgb(36,36,36)",
             "ticks": "outside"
            },
            "colorscale": [
             [
              0,
              "#440154"
             ],
             [
              0.1111111111111111,
              "#482878"
             ],
             [
              0.2222222222222222,
              "#3e4989"
             ],
             [
              0.3333333333333333,
              "#31688e"
             ],
             [
              0.4444444444444444,
              "#26828e"
             ],
             [
              0.5555555555555556,
              "#1f9e89"
             ],
             [
              0.6666666666666666,
              "#35b779"
             ],
             [
              0.7777777777777778,
              "#6ece58"
             ],
             [
              0.8888888888888888,
              "#b5de2b"
             ],
             [
              1,
              "#fde725"
             ]
            ],
            "type": "histogram2dcontour"
           }
          ],
          "mesh3d": [
           {
            "colorbar": {
             "outlinewidth": 1,
             "tickcolor": "rgb(36,36,36)",
             "ticks": "outside"
            },
            "type": "mesh3d"
           }
          ],
          "parcoords": [
           {
            "line": {
             "colorbar": {
              "outlinewidth": 1,
              "tickcolor": "rgb(36,36,36)",
              "ticks": "outside"
             }
            },
            "type": "parcoords"
           }
          ],
          "pie": [
           {
            "automargin": true,
            "type": "pie"
           }
          ],
          "scatter": [
           {
            "marker": {
             "colorbar": {
              "outlinewidth": 1,
              "tickcolor": "rgb(36,36,36)",
              "ticks": "outside"
             }
            },
            "type": "scatter"
           }
          ],
          "scatter3d": [
           {
            "line": {
             "colorbar": {
              "outlinewidth": 1,
              "tickcolor": "rgb(36,36,36)",
              "ticks": "outside"
             }
            },
            "marker": {
             "colorbar": {
              "outlinewidth": 1,
              "tickcolor": "rgb(36,36,36)",
              "ticks": "outside"
             }
            },
            "type": "scatter3d"
           }
          ],
          "scattercarpet": [
           {
            "marker": {
             "colorbar": {
              "outlinewidth": 1,
              "tickcolor": "rgb(36,36,36)",
              "ticks": "outside"
             }
            },
            "type": "scattercarpet"
           }
          ],
          "scattergeo": [
           {
            "marker": {
             "colorbar": {
              "outlinewidth": 1,
              "tickcolor": "rgb(36,36,36)",
              "ticks": "outside"
             }
            },
            "type": "scattergeo"
           }
          ],
          "scattergl": [
           {
            "marker": {
             "colorbar": {
              "outlinewidth": 1,
              "tickcolor": "rgb(36,36,36)",
              "ticks": "outside"
             }
            },
            "type": "scattergl"
           }
          ],
          "scattermapbox": [
           {
            "marker": {
             "colorbar": {
              "outlinewidth": 1,
              "tickcolor": "rgb(36,36,36)",
              "ticks": "outside"
             }
            },
            "type": "scattermapbox"
           }
          ],
          "scatterpolar": [
           {
            "marker": {
             "colorbar": {
              "outlinewidth": 1,
              "tickcolor": "rgb(36,36,36)",
              "ticks": "outside"
             }
            },
            "type": "scatterpolar"
           }
          ],
          "scatterpolargl": [
           {
            "marker": {
             "colorbar": {
              "outlinewidth": 1,
              "tickcolor": "rgb(36,36,36)",
              "ticks": "outside"
             }
            },
            "type": "scatterpolargl"
           }
          ],
          "scatterternary": [
           {
            "marker": {
             "colorbar": {
              "outlinewidth": 1,
              "tickcolor": "rgb(36,36,36)",
              "ticks": "outside"
             }
            },
            "type": "scatterternary"
           }
          ],
          "surface": [
           {
            "colorbar": {
             "outlinewidth": 1,
             "tickcolor": "rgb(36,36,36)",
             "ticks": "outside"
            },
            "colorscale": [
             [
              0,
              "#440154"
             ],
             [
              0.1111111111111111,
              "#482878"
             ],
             [
              0.2222222222222222,
              "#3e4989"
             ],
             [
              0.3333333333333333,
              "#31688e"
             ],
             [
              0.4444444444444444,
              "#26828e"
             ],
             [
              0.5555555555555556,
              "#1f9e89"
             ],
             [
              0.6666666666666666,
              "#35b779"
             ],
             [
              0.7777777777777778,
              "#6ece58"
             ],
             [
              0.8888888888888888,
              "#b5de2b"
             ],
             [
              1,
              "#fde725"
             ]
            ],
            "type": "surface"
           }
          ],
          "table": [
           {
            "cells": {
             "fill": {
              "color": "rgb(237,237,237)"
             },
             "line": {
              "color": "white"
             }
            },
            "header": {
             "fill": {
              "color": "rgb(217,217,217)"
             },
             "line": {
              "color": "white"
             }
            },
            "type": "table"
           }
          ]
         },
         "layout": {
          "annotationdefaults": {
           "arrowhead": 0,
           "arrowwidth": 1
          },
          "autosize": true,
          "autotypenumbers": "strict",
          "coloraxis": {
           "colorbar": {
            "outlinewidth": 1,
            "tickcolor": "rgb(36,36,36)",
            "ticks": "outside"
           }
          },
          "colorscale": {
           "diverging": [
            [
             0,
             "rgb(103,0,31)"
            ],
            [
             0.1,
             "rgb(178,24,43)"
            ],
            [
             0.2,
             "rgb(214,96,77)"
            ],
            [
             0.3,
             "rgb(244,165,130)"
            ],
            [
             0.4,
             "rgb(253,219,199)"
            ],
            [
             0.5,
             "rgb(247,247,247)"
            ],
            [
             0.6,
             "rgb(209,229,240)"
            ],
            [
             0.7,
             "rgb(146,197,222)"
            ],
            [
             0.8,
             "rgb(67,147,195)"
            ],
            [
             0.9,
             "rgb(33,102,172)"
            ],
            [
             1,
             "rgb(5,48,97)"
            ]
           ],
           "sequential": [
            [
             0,
             "#440154"
            ],
            [
             0.1111111111111111,
             "#482878"
            ],
            [
             0.2222222222222222,
             "#3e4989"
            ],
            [
             0.3333333333333333,
             "#31688e"
            ],
            [
             0.4444444444444444,
             "#26828e"
            ],
            [
             0.5555555555555556,
             "#1f9e89"
            ],
            [
             0.6666666666666666,
             "#35b779"
            ],
            [
             0.7777777777777778,
             "#6ece58"
            ],
            [
             0.8888888888888888,
             "#b5de2b"
            ],
            [
             1,
             "#fde725"
            ]
           ],
           "sequentialminus": [
            [
             0,
             "#440154"
            ],
            [
             0.1111111111111111,
             "#482878"
            ],
            [
             0.2222222222222222,
             "#3e4989"
            ],
            [
             0.3333333333333333,
             "#31688e"
            ],
            [
             0.4444444444444444,
             "#26828e"
            ],
            [
             0.5555555555555556,
             "#1f9e89"
            ],
            [
             0.6666666666666666,
             "#35b779"
            ],
            [
             0.7777777777777778,
             "#6ece58"
            ],
            [
             0.8888888888888888,
             "#b5de2b"
            ],
            [
             1,
             "#fde725"
            ]
           ]
          },
          "colorway": [
           "#1F77B4",
           "#FF7F0E",
           "#2CA02C",
           "#D62728",
           "#9467BD",
           "#8C564B",
           "#E377C2",
           "#7F7F7F",
           "#BCBD22",
           "#17BECF"
          ],
          "font": {
           "color": "rgb(36,36,36)"
          },
          "geo": {
           "bgcolor": "white",
           "lakecolor": "white",
           "landcolor": "white",
           "showlakes": true,
           "showland": true,
           "subunitcolor": "white"
          },
          "height": 250,
          "hoverlabel": {
           "align": "left"
          },
          "hovermode": "closest",
          "mapbox": {
           "style": "light"
          },
          "margin": {
           "b": 10,
           "l": 10,
           "r": 10,
           "t": 10
          },
          "paper_bgcolor": "white",
          "plot_bgcolor": "white",
          "polar": {
           "angularaxis": {
            "gridcolor": "rgb(232,232,232)",
            "linecolor": "rgb(36,36,36)",
            "showgrid": false,
            "showline": true,
            "ticks": "outside"
           },
           "bgcolor": "white",
           "radialaxis": {
            "gridcolor": "rgb(232,232,232)",
            "linecolor": "rgb(36,36,36)",
            "showgrid": false,
            "showline": true,
            "ticks": "outside"
           }
          },
          "scene": {
           "xaxis": {
            "backgroundcolor": "white",
            "gridcolor": "rgb(232,232,232)",
            "gridwidth": 2,
            "linecolor": "rgb(36,36,36)",
            "showbackground": true,
            "showgrid": false,
            "showline": true,
            "ticks": "outside",
            "zeroline": false,
            "zerolinecolor": "rgb(36,36,36)"
           },
           "yaxis": {
            "backgroundcolor": "white",
            "gridcolor": "rgb(232,232,232)",
            "gridwidth": 2,
            "linecolor": "rgb(36,36,36)",
            "showbackground": true,
            "showgrid": false,
            "showline": true,
            "ticks": "outside",
            "zeroline": false,
            "zerolinecolor": "rgb(36,36,36)"
           },
           "zaxis": {
            "backgroundcolor": "white",
            "gridcolor": "rgb(232,232,232)",
            "gridwidth": 2,
            "linecolor": "rgb(36,36,36)",
            "showbackground": true,
            "showgrid": false,
            "showline": true,
            "ticks": "outside",
            "zeroline": false,
            "zerolinecolor": "rgb(36,36,36)"
           }
          },
          "shapedefaults": {
           "fillcolor": "black",
           "line": {
            "width": 0
           },
           "opacity": 0.3
          },
          "ternary": {
           "aaxis": {
            "gridcolor": "rgb(232,232,232)",
            "linecolor": "rgb(36,36,36)",
            "showgrid": false,
            "showline": true,
            "ticks": "outside"
           },
           "baxis": {
            "gridcolor": "rgb(232,232,232)",
            "linecolor": "rgb(36,36,36)",
            "showgrid": false,
            "showline": true,
            "ticks": "outside"
           },
           "bgcolor": "white",
           "caxis": {
            "gridcolor": "rgb(232,232,232)",
            "linecolor": "rgb(36,36,36)",
            "showgrid": false,
            "showline": true,
            "ticks": "outside"
           }
          },
          "title": {
           "x": 0.5,
           "xanchor": "center"
          },
          "width": 350,
          "xaxis": {
           "automargin": true,
           "gridcolor": "rgb(232,232,232)",
           "linecolor": "rgb(36,36,36)",
           "showgrid": true,
           "showline": true,
           "ticks": "outside",
           "title": {
            "standoff": 15
           },
           "zeroline": false,
           "zerolinecolor": "rgb(36,36,36)"
          },
          "yaxis": {
           "automargin": true,
           "gridcolor": "rgb(232,232,232)",
           "linecolor": "rgb(36,36,36)",
           "showgrid": true,
           "showline": true,
           "ticks": "outside",
           "title": {
            "standoff": 15
           },
           "zeroline": false,
           "zerolinecolor": "rgb(36,36,36)"
          }
         }
        },
        "width": 650,
        "xaxis": {
         "anchor": "y",
         "autorange": true,
         "domain": [
          0,
          0.2888888888888889
         ],
         "range": [
          -0.5,
          2.5
         ],
         "type": "category"
        },
        "xaxis2": {
         "anchor": "y2",
         "autorange": true,
         "domain": [
          0.35555555555555557,
          0.6444444444444445
         ],
         "range": [
          -0.5,
          2.5
         ],
         "title": {
          "text": "Breed Suitable for Kids"
         },
         "type": "category"
        },
        "xaxis3": {
         "anchor": "y3",
         "autorange": true,
         "domain": [
          0.7111111111111111,
          1
         ],
         "range": [
          -0.16894934912702822,
          2.168949349127028
         ],
         "type": "category"
        },
        "yaxis": {
         "anchor": "x",
         "domain": [
          0,
          1
         ],
         "range": [
          0,
          70
         ],
         "title": {
          "text": "Count"
         },
         "type": "linear"
        },
        "yaxis2": {
         "anchor": "x2",
         "domain": [
          0,
          1
         ],
         "range": [
          0,
          70
         ],
         "type": "linear"
        },
        "yaxis3": {
         "anchor": "x3",
         "domain": [
          0,
          1
         ],
         "range": [
          0,
          70
         ],
         "type": "linear"
        }
       }
      },
      "image/png": "[encoded data removed]",
      "image/svg+xml": [
       "<svg class=\"main-svg\" xmlns=\"http://www.w3.org/2000/svg\" xmlns:xlink=\"http://www.w3.org/1999/xlink\" width=\"650\" height=\"250\" style=\"\" viewBox=\"0 0 650 250\"><rect x=\"0\" y=\"0\" width=\"650\" height=\"250\" style=\"fill: rgb(255, 255, 255); fill-opacity: 1;\"/><defs id=\"defs-983d39\"><g class=\"clips\"><clipPath id=\"clip983d39xyplot\" class=\"plotclip\"><rect width=\"168.42222222222225\" height=\"181\"/></clipPath><clipPath id=\"clip983d39x2y2plot\" class=\"plotclip\"><rect width=\"168.42222222222225\" height=\"181\"/></clipPath><clipPath id=\"clip983d39x3y3plot\" class=\"plotclip\"><rect width=\"168.42222222222222\" height=\"181\"/></clipPath><clipPath class=\"axesclip\" id=\"clip983d39x\"><rect x=\"57\" y=\"0\" width=\"168.42222222222225\" height=\"250\"/></clipPath><clipPath class=\"axesclip\" id=\"clip983d39y\"><rect x=\"0\" y=\"10\" width=\"650\" height=\"181\"/></clipPath><clipPath class=\"axesclip\" id=\"clip983d39xy\"><rect x=\"57\" y=\"10\" width=\"168.42222222222225\" height=\"181\"/></clipPath><clipPath class=\"axesclip\" id=\"clip983d39y2\"><rect x=\"0\" y=\"10\" width=\"650\" height=\"181\"/></clipPath><clipPath class=\"axesclip\" id=\"clip983d39xy2\"><rect x=\"57\" y=\"10\" width=\"168.42222222222225\" height=\"181\"/></clipPath><clipPath class=\"axesclip\" id=\"clip983d39y3\"><rect x=\"0\" y=\"10\" width=\"650\" height=\"181\"/></clipPath><clipPath class=\"axesclip\" id=\"clip983d39xy3\"><rect x=\"57\" y=\"10\" width=\"168.42222222222225\" height=\"181\"/></clipPath><clipPath class=\"axesclip\" id=\"clip983d39x2\"><rect x=\"264.2888888888889\" y=\"0\" width=\"168.42222222222225\" height=\"250\"/></clipPath><clipPath class=\"axesclip\" id=\"clip983d39x2y\"><rect x=\"264.2888888888889\" y=\"10\" width=\"168.42222222222225\" height=\"181\"/></clipPath><clipPath class=\"axesclip\" id=\"clip983d39x2y2\"><rect x=\"264.2888888888889\" y=\"10\" width=\"168.42222222222225\" height=\"181\"/></clipPath><clipPath class=\"axesclip\" id=\"clip983d39x2y3\"><rect x=\"264.2888888888889\" y=\"10\" width=\"168.42222222222225\" height=\"181\"/></clipPath><clipPath class=\"axesclip\" id=\"clip983d39x3\"><rect x=\"471.5777777777778\" y=\"0\" width=\"168.42222222222222\" height=\"250\"/></clipPath><clipPath class=\"axesclip\" id=\"clip983d39x3y\"><rect x=\"471.5777777777778\" y=\"10\" width=\"168.42222222222222\" height=\"181\"/></clipPath><clipPath class=\"axesclip\" id=\"clip983d39x3y2\"><rect x=\"471.5777777777778\" y=\"10\" width=\"168.42222222222222\" height=\"181\"/></clipPath><clipPath class=\"axesclip\" id=\"clip983d39x3y3\"><rect x=\"471.5777777777778\" y=\"10\" width=\"168.42222222222222\" height=\"181\"/></clipPath></g><g class=\"gradients\"/><g class=\"patterns\"/></defs><g class=\"bglayer\"/><g class=\"layer-below\"><g class=\"imagelayer\"/><g class=\"shapelayer\"/></g><g class=\"cartesianlayer\"><g class=\"subplot xy\"><g class=\"layer-subplot\"><g class=\"shapelayer\"/><g class=\"imagelayer\"/></g><g class=\"gridlayer\"><g class=\"x\"><path class=\"xgrid crisp\" transform=\"translate(85.07,0)\" d=\"M0,10v181\" style=\"stroke: rgb(232, 232, 232); stroke-opacity: 1; stroke-width: 1px;\"/><path class=\"xgrid crisp\" transform=\"translate(141.20999999999998,0)\" d=\"M0,10v181\" style=\"stroke: rgb(232, 232, 232); stroke-opacity: 1; stroke-width: 1px;\"/><path class=\"xgrid crisp\" transform=\"translate(197.35,0)\" d=\"M0,10v181\" style=\"stroke: rgb(232, 232, 232); stroke-opacity: 1; stroke-width: 1px;\"/></g><g class=\"y\"><path class=\"ygrid crisp\" transform=\"translate(0,139.29)\" d=\"M57,0h168.42222222222225\" style=\"stroke: rgb(232, 232, 232); stroke-opacity: 1; stroke-width: 1px;\"/><path class=\"ygrid crisp\" transform=\"translate(0,87.57)\" d=\"M57,0h168.42222222222225\" style=\"stroke: rgb(232, 232, 232); stroke-opacity: 1; stroke-width: 1px;\"/><path class=\"ygrid crisp\" transform=\"translate(0,35.86)\" d=\"M57,0h168.42222222222225\" style=\"stroke: rgb(232, 232, 232); stroke-opacity: 1; stroke-width: 1px;\"/></g></g><g class=\"zerolinelayer\"/><path class=\"xlines-below\"/><path class=\"ylines-below\"/><g class=\"overlines-below\"/><g class=\"xaxislayer-below\"/><g class=\"yaxislayer-below\"/><g class=\"overaxes-below\"/><g class=\"plot\" transform=\"translate(57,10)\" clip-path=\"url(#clip983d39xyplot)\"><g class=\"barlayer mlayer\"><g class=\"trace bars\" style=\"opacity: 1;\"><g class=\"points\"><g class=\"point\"><path d=\"M5.61,181V7.76H50.53V181Z\" style=\"vector-effect: non-scaling-stroke; opacity: 1; stroke-width: 0.5px; fill: rgb(31, 119, 180); fill-opacity: 1; stroke: rgb(255, 255, 255); stroke-opacity: 1;\"/></g><g class=\"point\"><path d=\"M61.75,181V90.5H106.67V181Z\" style=\"vector-effect: non-scaling-stroke; opacity: 1; stroke-width: 0.5px; fill: rgb(31, 119, 180); fill-opacity: 1; stroke: rgb(255, 255, 255); stroke-opacity: 1;\"/></g><g class=\"point\"><path d=\"M117.9,181V155.14H162.81V181Z\" style=\"vector-effect: non-scaling-stroke; opacity: 1; stroke-width: 0.5px; fill: rgb(31, 119, 180); fill-opacity: 1; stroke: rgb(255, 255, 255); stroke-opacity: 1;\"/></g></g></g></g></g><g class=\"overplot\"/><path class=\"xlines-above crisp\" d=\"M56,191.5H225.42222222222225\" style=\"fill: none; stroke-width: 1px; stroke: rgb(36, 36, 36); stroke-opacity: 1;\"/><path class=\"ylines-above crisp\" d=\"M56.5,10V191\" style=\"fill: none; stroke-width: 1px; stroke: rgb(36, 36, 36); stroke-opacity: 1;\"/><g class=\"overlines-above\"/><g class=\"xaxislayer-above\"><path class=\"xtick ticks crisp\" d=\"M0,192v5\" transform=\"translate(85.07,0)\" style=\"stroke: rgb(68, 68, 68); stroke-opacity: 1; stroke-width: 1px;\"/><path class=\"xtick ticks crisp\" d=\"M0,192v5\" transform=\"translate(141.20999999999998,0)\" style=\"stroke: rgb(68, 68, 68); stroke-opacity: 1; stroke-width: 1px;\"/><path class=\"xtick ticks crisp\" d=\"M0,192v5\" transform=\"translate(197.35,0)\" style=\"stroke: rgb(68, 68, 68); stroke-opacity: 1; stroke-width: 1px;\"/><g class=\"xtick\"><text text-anchor=\"middle\" x=\"0\" y=\"211.4\" transform=\"translate(85.07,0)\" style=\"font-family: 'Open Sans', verdana, arial, sans-serif; font-size: 12px; fill: rgb(36, 36, 36); fill-opacity: 1; white-space: pre; opacity: 1;\">High</text></g><g class=\"xtick\"><text text-anchor=\"middle\" x=\"0\" y=\"211.4\" transform=\"translate(141.20999999999998,0)\" style=\"font-family: 'Open Sans', verdana, arial, sans-serif; font-size: 12px; fill: rgb(36, 36, 36); fill-opacity: 1; white-space: pre; opacity: 1;\">Medium</text></g><g class=\"xtick\"><text text-anchor=\"middle\" x=\"0\" y=\"211.4\" transform=\"translate(197.35,0)\" style=\"font-family: 'Open Sans', verdana, arial, sans-serif; font-size: 12px; fill: rgb(36, 36, 36); fill-opacity: 1; white-space: pre; opacity: 1;\">Low</text></g></g><g class=\"yaxislayer-above\"><path class=\"ytick ticks crisp\" d=\"M56,0h-5\" transform=\"translate(0,191)\" style=\"stroke: rgb(68, 68, 68); stroke-opacity: 1; stroke-width: 1px;\"/><path class=\"ytick ticks crisp\" d=\"M56,0h-5\" transform=\"translate(0,139.29)\" style=\"stroke: rgb(68, 68, 68); stroke-opacity: 1; stroke-width: 1px;\"/><path class=\"ytick ticks crisp\" d=\"M56,0h-5\" transform=\"translate(0,87.57)\" style=\"stroke: rgb(68, 68, 68); stroke-opacity: 1; stroke-width: 1px;\"/><path class=\"ytick ticks crisp\" d=\"M56,0h-5\" transform=\"translate(0,35.86)\" style=\"stroke: rgb(68, 68, 68); stroke-opacity: 1; stroke-width: 1px;\"/><g class=\"ytick\"><text text-anchor=\"end\" x=\"48.6\" y=\"4.199999999999999\" transform=\"translate(0,191)\" style=\"font-family: 'Open Sans', verdana, arial, sans-serif; font-size: 12px; fill: rgb(36, 36, 36); fill-opacity: 1; white-space: pre; opacity: 1;\">0</text></g><g class=\"ytick\"><text text-anchor=\"end\" x=\"48.6\" y=\"4.199999999999999\" style=\"font-family: 'Open Sans', verdana, arial, sans-serif; font-size: 12px; fill: rgb(36, 36, 36); fill-opacity: 1; white-space: pre; opacity: 1;\" transform=\"translate(0,139.29)\">20</text></g><g class=\"ytick\"><text text-anchor=\"end\" x=\"48.6\" y=\"4.199999999999999\" style=\"font-family: 'Open Sans', verdana, arial, sans-serif; font-size: 12px; fill: rgb(36, 36, 36); fill-opacity: 1; white-space: pre; opacity: 1;\" transform=\"translate(0,87.57)\">40</text></g><g class=\"ytick\"><text text-anchor=\"end\" x=\"48.6\" y=\"4.199999999999999\" style=\"font-family: 'Open Sans', verdana, arial, sans-serif; font-size: 12px; fill: rgb(36, 36, 36); fill-opacity: 1; white-space: pre; opacity: 1;\" transform=\"translate(0,35.86)\">60</text></g></g><g class=\"overaxes-above\"/></g><g class=\"subplot x2y2\"><g class=\"layer-subplot\"><g class=\"shapelayer\"/><g class=\"imagelayer\"/></g><g class=\"gridlayer\"><g class=\"x2\"><path class=\"x2grid crisp\" transform=\"translate(292.3588888888889,0)\" d=\"M0,10v181\" style=\"stroke: rgb(232, 232, 232); stroke-opacity: 1; stroke-width: 1px;\"/><path class=\"x2grid crisp\" transform=\"translate(348.49888888888887,0)\" d=\"M0,10v181\" style=\"stroke: rgb(232, 232, 232); stroke-opacity: 1; stroke-width: 1px;\"/><path class=\"x2grid crisp\" transform=\"translate(404.6388888888889,0)\" d=\"M0,10v181\" style=\"stroke: rgb(232, 232, 232); stroke-opacity: 1; stroke-width: 1px;\"/></g><g class=\"y2\"><path class=\"y2grid crisp\" transform=\"translate(0,139.29)\" d=\"M264.2888888888889,0h168.42222222222225\" style=\"stroke: rgb(232, 232, 232); stroke-opacity: 1; stroke-width: 1px;\"/><path class=\"y2grid crisp\" transform=\"translate(0,87.57)\" d=\"M264.2888888888889,0h168.42222222222225\" style=\"stroke: rgb(232, 232, 232); stroke-opacity: 1; stroke-width: 1px;\"/><path class=\"y2grid crisp\" transform=\"translate(0,35.86)\" d=\"M264.2888888888889,0h168.42222222222225\" style=\"stroke: rgb(232, 232, 232); stroke-opacity: 1; stroke-width: 1px;\"/></g></g><g class=\"zerolinelayer\"/><path class=\"xlines-below\"/><path class=\"ylines-below\"/><g class=\"overlines-below\"/><g class=\"xaxislayer-below\"/><g class=\"yaxislayer-below\"/><g class=\"overaxes-below\"/><g class=\"plot\" transform=\"translate(264.2888888888889,10)\" clip-path=\"url(#clip983d39x2y2plot)\"><g class=\"barlayer mlayer\"><g class=\"trace bars\" style=\"opacity: 1;\"><g class=\"points\"><g class=\"point\"><path d=\"M25.26,181V7.76H30.88V181Z\" style=\"vector-effect: non-scaling-stroke; opacity: 1; stroke-width: 0.5px; fill: rgb(255, 127, 14); fill-opacity: 1; stroke: rgb(255, 255, 255); stroke-opacity: 1;\"/></g><g class=\"point\"><path d=\"M81.4,181V90.5H87.02V181Z\" style=\"vector-effect: non-scaling-stroke; opacity: 1; stroke-width: 0.5px; fill: rgb(255, 127, 14); fill-opacity: 1; stroke: rgb(255, 255, 255); stroke-opacity: 1;\"/></g><g class=\"point\"><path d=\"M137.54,181V155.14H143.16V181Z\" style=\"vector-effect: non-scaling-stroke; opacity: 1; stroke-width: 0.5px; fill: rgb(255, 127, 14); fill-opacity: 1; stroke: rgb(255, 255, 255); stroke-opacity: 1;\"/></g></g></g></g></g><g class=\"overplot\"/><path class=\"xlines-above crisp\" d=\"M263.2888888888889,191.5H432.7111111111111\" style=\"fill: none; stroke-width: 1px; stroke: rgb(36, 36, 36); stroke-opacity: 1;\"/><path class=\"ylines-above crisp\" d=\"M263.7888888888889,10V191\" style=\"fill: none; stroke-width: 1px; stroke: rgb(36, 36, 36); stroke-opacity: 1;\"/><g class=\"overlines-above\"/><g class=\"xaxislayer-above\"><path class=\"x2tick ticks crisp\" d=\"M0,192v5\" transform=\"translate(292.3588888888889,0)\" style=\"stroke: rgb(68, 68, 68); stroke-opacity: 1; stroke-width: 1px;\"/><path class=\"x2tick ticks crisp\" d=\"M0,192v5\" transform=\"translate(348.49888888888887,0)\" style=\"stroke: rgb(68, 68, 68); stroke-opacity: 1; stroke-width: 1px;\"/><path class=\"x2tick ticks crisp\" d=\"M0,192v5\" transform=\"translate(404.6388888888889,0)\" style=\"stroke: rgb(68, 68, 68); stroke-opacity: 1; stroke-width: 1px;\"/><g class=\"x2tick\"><text text-anchor=\"middle\" x=\"0\" y=\"211.4\" transform=\"translate(292.3588888888889,0)\" style=\"font-family: 'Open Sans', verdana, arial, sans-serif; font-size: 12px; fill: rgb(36, 36, 36); fill-opacity: 1; white-space: pre; opacity: 1;\">High</text></g><g class=\"x2tick\"><text text-anchor=\"middle\" x=\"0\" y=\"211.4\" transform=\"translate(348.49888888888887,0)\" style=\"font-family: 'Open Sans', verdana, arial, sans-serif; font-size: 12px; fill: rgb(36, 36, 36); fill-opacity: 1; white-space: pre; opacity: 1;\">Medium</text></g><g class=\"x2tick\"><text text-anchor=\"middle\" x=\"0\" y=\"211.4\" transform=\"translate(404.6388888888889,0)\" style=\"font-family: 'Open Sans', verdana, arial, sans-serif; font-size: 12px; fill: rgb(36, 36, 36); fill-opacity: 1; white-space: pre; opacity: 1;\">Low</text></g></g><g class=\"yaxislayer-above\"><path class=\"y2tick ticks crisp\" d=\"M263.2888888888889,0h-5\" transform=\"translate(0,191)\" style=\"stroke: rgb(68, 68, 68); stroke-opacity: 1; stroke-width: 1px;\"/><path class=\"y2tick ticks crisp\" d=\"M263.2888888888889,0h-5\" transform=\"translate(0,139.29)\" style=\"stroke: rgb(68, 68, 68); stroke-opacity: 1; stroke-width: 1px;\"/><path class=\"y2tick ticks crisp\" d=\"M263.2888888888889,0h-5\" transform=\"translate(0,87.57)\" style=\"stroke: rgb(68, 68, 68); stroke-opacity: 1; stroke-width: 1px;\"/><path class=\"y2tick ticks crisp\" d=\"M263.2888888888889,0h-5\" transform=\"translate(0,35.86)\" style=\"stroke: rgb(68, 68, 68); stroke-opacity: 1; stroke-width: 1px;\"/><g class=\"y2tick\"><text text-anchor=\"end\" x=\"255.88888888888889\" y=\"4.199999999999999\" transform=\"translate(0,191)\" style=\"font-family: 'Open Sans', verdana, arial, sans-serif; font-size: 12px; fill: rgb(36, 36, 36); fill-opacity: 1; white-space: pre; opacity: 1;\">0</text></g><g class=\"y2tick\"><text text-anchor=\"end\" x=\"255.88888888888889\" y=\"4.199999999999999\" style=\"font-family: 'Open Sans', verdana, arial, sans-serif; font-size: 12px; fill: rgb(36, 36, 36); fill-opacity: 1; white-space: pre; opacity: 1;\" transform=\"translate(0,139.29)\">20</text></g><g class=\"y2tick\"><text text-anchor=\"end\" x=\"255.88888888888889\" y=\"4.199999999999999\" style=\"font-family: 'Open Sans', verdana, arial, sans-serif; font-size: 12px; fill: rgb(36, 36, 36); fill-opacity: 1; white-space: pre; opacity: 1;\" transform=\"translate(0,87.57)\">40</text></g><g class=\"y2tick\"><text text-anchor=\"end\" x=\"255.88888888888889\" y=\"4.199999999999999\" style=\"font-family: 'Open Sans', verdana, arial, sans-serif; font-size: 12px; fill: rgb(36, 36, 36); fill-opacity: 1; white-space: pre; opacity: 1;\" transform=\"translate(0,35.86)\">60</text></g></g><g class=\"overaxes-above\"/></g><g class=\"subplot x3y3\"><g class=\"layer-subplot\"><g class=\"shapelayer\"/><g class=\"imagelayer\"/></g><g class=\"gridlayer\"><g class=\"x3\"><path class=\"x3grid crisp\" transform=\"translate(483.7477777777778,0)\" d=\"M0,10v181\" style=\"stroke: rgb(232, 232, 232); stroke-opacity: 1; stroke-width: 1px;\"/><path class=\"x3grid crisp\" transform=\"translate(555.7877777777778,0)\" d=\"M0,10v181\" style=\"stroke: rgb(232, 232, 232); stroke-opacity: 1; stroke-width: 1px;\"/><path class=\"x3grid crisp\" transform=\"translate(627.8277777777778,0)\" d=\"M0,10v181\" style=\"stroke: rgb(232, 232, 232); stroke-opacity: 1; stroke-width: 1px;\"/></g><g class=\"y3\"><path class=\"y3grid crisp\" transform=\"translate(0,139.29)\" d=\"M471.5777777777778,0h168.42222222222222\" style=\"stroke: rgb(232, 232, 232); stroke-opacity: 1; stroke-width: 1px;\"/><path class=\"y3grid crisp\" transform=\"translate(0,87.57)\" d=\"M471.5777777777778,0h168.42222222222222\" style=\"stroke: rgb(232, 232, 232); stroke-opacity: 1; stroke-width: 1px;\"/><path class=\"y3grid crisp\" transform=\"translate(0,35.86)\" d=\"M471.5777777777778,0h168.42222222222222\" style=\"stroke: rgb(232, 232, 232); stroke-opacity: 1; stroke-width: 1px;\"/></g></g><g class=\"zerolinelayer\"/><path class=\"xlines-below\"/><path class=\"ylines-below\"/><g class=\"overlines-below\"/><g class=\"xaxislayer-below\"/><g class=\"yaxislayer-below\"/><g class=\"overaxes-below\"/><g class=\"plot\" transform=\"translate(471.5777777777778,10)\" clip-path=\"url(#clip983d39x3y3plot)\"><g class=\"scatterlayer mlayer\"><g class=\"trace scatter tracec32ce9\" style=\"stroke-miterlimit: 2; opacity: 1;\"><g class=\"fills\"/><g class=\"errorbars\"/><g class=\"lines\"><path class=\"js-line\" d=\"M12.17,7.76L84.21,90.5L156.25,155.14\" style=\"vector-effect: non-scaling-stroke; fill: none; stroke: rgb(44, 160, 44); stroke-opacity: 1; stroke-width: 2px; opacity: 1;\"/></g><g class=\"points\"><path class=\"point\" transform=\"translate(12.17,7.76)\" d=\"M3,0A3,3 0 1,1 0,-3A3,3 0 0,1 3,0Z\" style=\"opacity: 1; stroke-width: 0px; fill: rgb(44, 160, 44); fill-opacity: 1;\"/><path class=\"point\" transform=\"translate(84.21,90.5)\" d=\"M3,0A3,3 0 1,1 0,-3A3,3 0 0,1 3,0Z\" style=\"opacity: 1; stroke-width: 0px; fill: rgb(44, 160, 44); fill-opacity: 1;\"/><path class=\"point\" transform=\"translate(156.25,155.14)\" d=\"M3,0A3,3 0 1,1 0,-3A3,3 0 0,1 3,0Z\" style=\"opacity: 1; stroke-width: 0px; fill: rgb(44, 160, 44); fill-opacity: 1;\"/></g><g class=\"text\"/></g></g></g><g class=\"overplot\"/><path class=\"xlines-above crisp\" d=\"M470.5777777777778,191.5H640\" style=\"fill: none; stroke-width: 1px; stroke: rgb(36, 36, 36); stroke-opacity: 1;\"/><path class=\"ylines-above crisp\" d=\"M471.0777777777778,10V191\" style=\"fill: none; stroke-width: 1px; stroke: rgb(36, 36, 36); stroke-opacity: 1;\"/><g class=\"overlines-above\"/><g class=\"xaxislayer-above\"><path class=\"x3tick ticks crisp\" d=\"M0,192v5\" transform=\"translate(483.7477777777778,0)\" style=\"stroke: rgb(68, 68, 68); stroke-opacity: 1; stroke-width: 1px;\"/><path class=\"x3tick ticks crisp\" d=\"M0,192v5\" transform=\"translate(555.7877777777778,0)\" style=\"stroke: rgb(68, 68, 68); stroke-opacity: 1; stroke-width: 1px;\"/><path class=\"x3tick ticks crisp\" d=\"M0,192v5\" transform=\"translate(627.8277777777778,0)\" style=\"stroke: rgb(68, 68, 68); stroke-opacity: 1; stroke-width: 1px;\"/><g class=\"x3tick\"><text text-anchor=\"middle\" x=\"0\" y=\"211.4\" transform=\"translate(483.7477777777778,0)\" style=\"font-family: 'Open Sans', verdana, arial, sans-serif; font-size: 12px; fill: rgb(36, 36, 36); fill-opacity: 1; white-space: pre; opacity: 1;\">High</text></g><g class=\"x3tick\"><text text-anchor=\"middle\" x=\"0\" y=\"211.4\" transform=\"translate(555.7877777777778,0)\" style=\"font-family: 'Open Sans', verdana, arial, sans-serif; font-size: 12px; fill: rgb(36, 36, 36); fill-opacity: 1; white-space: pre; opacity: 1;\">Medium</text></g><g class=\"x3tick\"><text text-anchor=\"middle\" x=\"0\" y=\"211.4\" transform=\"translate(627.8277777777778,0)\" style=\"font-family: 'Open Sans', verdana, arial, sans-serif; font-size: 12px; fill: rgb(36, 36, 36); fill-opacity: 1; white-space: pre; opacity: 1;\">Low</text></g></g><g class=\"yaxislayer-above\"><path class=\"y3tick ticks crisp\" d=\"M470.5777777777778,0h-5\" transform=\"translate(0,191)\" style=\"stroke: rgb(68, 68, 68); stroke-opacity: 1; stroke-width: 1px;\"/><path class=\"y3tick ticks crisp\" d=\"M470.5777777777778,0h-5\" transform=\"translate(0,139.29)\" style=\"stroke: rgb(68, 68, 68); stroke-opacity: 1; stroke-width: 1px;\"/><path class=\"y3tick ticks crisp\" d=\"M470.5777777777778,0h-5\" transform=\"translate(0,87.57)\" style=\"stroke: rgb(68, 68, 68); stroke-opacity: 1; stroke-width: 1px;\"/><path class=\"y3tick ticks crisp\" d=\"M470.5777777777778,0h-5\" transform=\"translate(0,35.86)\" style=\"stroke: rgb(68, 68, 68); stroke-opacity: 1; stroke-width: 1px;\"/><g class=\"y3tick\"><text text-anchor=\"end\" x=\"463.1777777777778\" y=\"4.199999999999999\" transform=\"translate(0,191)\" style=\"font-family: 'Open Sans', verdana, arial, sans-serif; font-size: 12px; fill: rgb(36, 36, 36); fill-opacity: 1; white-space: pre; opacity: 1;\">0</text></g><g class=\"y3tick\"><text text-anchor=\"end\" x=\"463.1777777777778\" y=\"4.199999999999999\" style=\"font-family: 'Open Sans', verdana, arial, sans-serif; font-size: 12px; fill: rgb(36, 36, 36); fill-opacity: 1; white-space: pre; opacity: 1;\" transform=\"translate(0,139.29)\">20</text></g><g class=\"y3tick\"><text text-anchor=\"end\" x=\"463.1777777777778\" y=\"4.199999999999999\" style=\"font-family: 'Open Sans', verdana, arial, sans-serif; font-size: 12px; fill: rgb(36, 36, 36); fill-opacity: 1; white-space: pre; opacity: 1;\" transform=\"translate(0,87.57)\">40</text></g><g class=\"y3tick\"><text text-anchor=\"end\" x=\"463.1777777777778\" y=\"4.199999999999999\" style=\"font-family: 'Open Sans', verdana, arial, sans-serif; font-size: 12px; fill: rgb(36, 36, 36); fill-opacity: 1; white-space: pre; opacity: 1;\" transform=\"translate(0,35.86)\">60</text></g></g><g class=\"overaxes-above\"/></g></g><g class=\"polarlayer\"/><g class=\"smithlayer\"/><g class=\"ternarylayer\"/><g class=\"geolayer\"/><g class=\"funnelarealayer\"/><g class=\"pielayer\"/><g class=\"iciclelayer\"/><g class=\"treemaplayer\"/><g class=\"sunburstlayer\"/><g class=\"glimages\"/><defs id=\"topdefs-983d39\"><g class=\"clips\"/></defs><g class=\"layer-above\"><g class=\"imagelayer\"/><g class=\"shapelayer\"/></g><g class=\"infolayer\"><g class=\"g-gtitle\"/><g class=\"g-xtitle\"/><g class=\"g-x2title\"><text class=\"x2title\" x=\"348.5\" y=\"239.70625\" text-anchor=\"middle\" style=\"font-family: 'Open Sans', verdana, arial, sans-serif; font-size: 14px; fill: rgb(36, 36, 36); opacity: 1; font-weight: normal; white-space: pre;\">Breed Suitable for Kids</text></g><g class=\"g-x3title\"/><g class=\"g-ytitle\" transform=\"translate(4.9248046875,0)\"><text class=\"ytitle\" transform=\"rotate(-90,10.075000000000003,100.5)\" x=\"10.075000000000003\" y=\"100.5\" text-anchor=\"middle\" style=\"font-family: 'Open Sans', verdana, arial, sans-serif; font-size: 14px; fill: rgb(36, 36, 36); opacity: 1; font-weight: normal; white-space: pre;\">Count</text></g><g class=\"g-y2title\"/><g class=\"g-y3title\"/></g></svg>"
      ]
     },
     "metadata": {},
     "output_type": "display_data"
    }
   ],
   "source": [
    "fig = make_subplots(rows=1, cols=3)\n",
    "\n",
    "fig.add_trace(go.Bar(x=kid_counts.index, y=kid_counts['breed']), row=1, col=1)\n",
    "\n",
    "fig.add_trace(go.Bar(x=kid_counts.index, y=kid_counts['breed']), row=1, col=2)\n",
    "fig.update_traces(width=0.1, row=1, col=2)\n",
    "\n",
    "fig.add_trace(go.Scatter(x=kid_counts.index, y=kid_counts['breed'],\n",
    "                        mode='markers+lines'), row=1, col=3)\n",
    "\n",
    "fig.update_xaxes(title='Breed Suitable for Kids', row=1, col=2)\n",
    "fig.update_yaxes(title='Count', row=1, col=1)\n",
    "\n",
    "fig.update_yaxes(range=[0,70])\n",
    "fig.update_layout(showlegend=False,width=650, height=250)              \n",
    "fig.show()"
   ]
  },
  {
   "cell_type": "markdown",
   "metadata": {},
   "source": [
    "Now that we have covered how to examine distributions of single features, we\n",
    "turn to the situation when we want to look at two features and how they relate."
   ]
  }
 ],
 "metadata": {
  "kernelspec": {
   "display_name": "Python 3",
   "language": "python",
   "name": "python3"
  },
  "language_info": {
   "codemirror_mode": {
    "name": "ipython",
    "version": 3
   },
   "file_extension": ".py",
   "mimetype": "text/x-python",
   "name": "python",
   "nbconvert_exporter": "python",
   "pygments_lexer": "ipython3",
   "version": "3.9.4"
  }
 },
 "nbformat": 4,
 "nbformat_minor": 4
}
