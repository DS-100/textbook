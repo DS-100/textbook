{
 "cells": [
  {
   "cell_type": "code",
   "execution_count": 1,
   "metadata": {
    "tags": [
     "remove-cell"
    ]
   },
   "outputs": [],
   "source": [
    "import sys\n",
    "import os\n",
    "if not any(path.endswith('textbook') for path in sys.path):\n",
    "    sys.path.append(os.path.abspath('../../..'))\n",
    "from textbook_utils import *"
   ]
  },
  {
   "cell_type": "code",
   "execution_count": 2,
   "metadata": {
    "tags": [
     "remove-cell"
    ]
   },
   "outputs": [],
   "source": [
    "dogs = pd.read_csv('data/akc.csv')"
   ]
  },
  {
   "cell_type": "markdown",
   "metadata": {},
   "source": [
    "(sec:eda_multi)=\n",
    "# Comparisons in Multivariate Settings"
   ]
  },
  {
   "cell_type": "markdown",
   "metadata": {},
   "source": [
    "When we examine a distribution or relationship, we often want to compare it\n",
    "across subgroups of the data. This process of conditioning on additional\n",
    "factors often leads to visualizations that involve three or more variables.\n",
    "In this section, we explain how to read plots that are commonly used to\n",
    "visualize multiple variables."
   ]
  },
  {
   "cell_type": "markdown",
   "metadata": {},
   "source": [
    "As an example, in the scatter plot below, we compare the relationship between height and\n",
    "longevity across repetition categories. We collapsed repetition\n",
    "(the typical number of times it takes for a dog to learn a new command) \n",
    "from six categories into four: <15, 15-25, 25-40, and 40+. Now each group has about 30 breeds in\n",
    "it, and the fewer categories makes it easier to decipher relationships.  \n",
    "These categories are conveyed by different shaped symbols in the scatter plot. \n",
    "We have also added lines to the plot that summarize the\n",
    "relationship between height and longevity for each group.  \n",
    "We can see that the larger breeds tend to have shorter lifespans.  \n",
    "Another interesting feature is that three of the lines are similar, but the fourth line (for the 40+\n",
    "repetitions) sits about 1.5 years below the others.\n",
    "Those breeds that take 40+ repetitions to learn a new command tend to live about 1.5 years less on average than the other dogs of the same height."
   ]
  },
  {
   "cell_type": "code",
   "execution_count": 3,
   "metadata": {},
   "outputs": [],
   "source": [
    "rep_replacements = {\n",
    "    '80-100': '40+', '40-80': '40+', \n",
    "    '<5': '<15', '5-15': '<15',\n",
    "}\n",
    "dogs = dogs.assign(\n",
    "    repetition=dogs['repetition'].replace(rep_replacements))"
   ]
  },
  {
   "cell_type": "code",
   "execution_count": 4,
   "metadata": {
    "tags": [
     "remove-input"
    ]
   },
   "outputs": [
    {
     "data": {
      "application/vnd.plotly.v1+json": {
       "config": {
        "plotlyServerURL": "https://plot.ly"
       },
       "data": [
        {
         "hovertemplate": "repetition=<15<br>height=%{x}<br>longevity=%{y}<extra></extra>",
         "legendgroup": "<15",
         "marker": {
          "color": "#1F77B4",
          "symbol": "circle"
         },
         "mode": "markers",
         "name": "<15",
         "orientation": "v",
         "showlegend": true,
         "type": "scatter",
         "x": [
          51,
          48,
          41,
          37,
          24,
          47,
          37,
          33,
          50,
          41,
          61,
          58,
          null,
          58,
          59,
          66,
          61,
          28,
          62,
          61,
          64,
          61,
          61,
          29,
          61,
          57,
          44,
          29,
          47,
          57,
          64
         ],
         "xaxis": "x",
         "y": [
          12.52,
          12.92,
          11.66,
          12.5,
          13,
          11.67,
          12.53,
          11.81,
          12.54,
          11.95,
          11.46,
          12.04,
          9.67,
          12.04,
          9.02,
          10.33,
          10.6,
          12.25,
          9.11,
          9.73,
          7.56,
          null,
          null,
          12.7,
          null,
          9.33,
          12.17,
          13,
          null,
          12.5,
          null
         ],
         "yaxis": "y"
        },
        {
         "hovertemplate": "<b>OLS trendline</b><br>longevity = -0.0766249 * height + 15.1648<br>R<sup>2</sup>=0.454049<br><br>repetition=<15<br>height=%{x}<br>longevity=%{y} <b>(trend)</b><extra></extra>",
         "legendgroup": "<15",
         "marker": {
          "color": "#1F77B4",
          "symbol": "circle"
         },
         "mode": "lines",
         "name": "<15",
         "showlegend": false,
         "type": "scatter",
         "x": [
          24,
          28,
          29,
          29,
          33,
          37,
          37,
          41,
          41,
          44,
          47,
          48,
          50,
          51,
          57,
          57,
          58,
          58,
          59,
          61,
          61,
          61,
          62,
          64,
          66
         ],
         "xaxis": "x",
         "y": [
          13.325792087990063,
          13.019292570910451,
          12.942667691640548,
          12.942667691640548,
          12.636168174560936,
          12.329668657481323,
          12.329668657481323,
          12.023169140401711,
          12.023169140401711,
          11.793294502592001,
          11.563419864782292,
          11.48679498551239,
          11.333545226972582,
          11.25692034770268,
          10.79717107208326,
          10.79717107208326,
          10.720546192813359,
          10.720546192813359,
          10.643921313543455,
          10.49067155500365,
          10.49067155500365,
          10.49067155500365,
          10.414046675733745,
          10.26079691719394,
          10.107547158654134
         ],
         "yaxis": "y"
        },
        {
         "hovertemplate": "repetition=15-25<br>height=%{x}<br>longevity=%{y}<extra></extra>",
         "legendgroup": "15-25",
         "marker": {
          "color": "#1F77B4",
          "symbol": "diamond"
         },
         "mode": "markers",
         "name": "15-25",
         "orientation": "v",
         "showlegend": true,
         "type": "scatter",
         "x": [
          null,
          25,
          46,
          26,
          27,
          null,
          66,
          58,
          54,
          60,
          64,
          62,
          62,
          53,
          65,
          47,
          65,
          47,
          69,
          58,
          46,
          53,
          44,
          null,
          29,
          51,
          25,
          42,
          24
         ],
         "xaxis": "x",
         "y": [
          14,
          13.84,
          12.49,
          11.42,
          11.05,
          12.6,
          11.63,
          11.83,
          12.44,
          9.48,
          11.1,
          11.57,
          11.17,
          11.27,
          10.34,
          10,
          10,
          9.4,
          9.32,
          11.45,
          null,
          12.77,
          9.9,
          9.32,
          null,
          null,
          null,
          null,
          14.25
         ],
         "yaxis": "y"
        },
        {
         "hovertemplate": "<b>OLS trendline</b><br>longevity = -0.0456982 * height + 13.6117<br>R<sup>2</sup>=0.235689<br><br>repetition=15-25<br>height=%{x}<br>longevity=%{y} <b>(trend)</b><extra></extra>",
         "legendgroup": "15-25",
         "marker": {
          "color": "#1F77B4",
          "symbol": "diamond"
         },
         "mode": "lines",
         "name": "15-25",
         "showlegend": false,
         "type": "scatter",
         "x": [
          24,
          25,
          26,
          27,
          44,
          46,
          47,
          47,
          53,
          53,
          54,
          58,
          58,
          60,
          62,
          62,
          64,
          65,
          65,
          66,
          69
         ],
         "xaxis": "x",
         "y": [
          12.514936831984256,
          12.469238629757164,
          12.423540427530073,
          12.377842225302981,
          11.600972787442423,
          11.50957638298824,
          11.46387818076115,
          11.46387818076115,
          11.189688967398599,
          11.189688967398599,
          11.143990765171507,
          10.96119795626314,
          10.96119795626314,
          10.869801551808957,
          10.778405147354773,
          10.778405147354773,
          10.68700874290059,
          10.641310540673498,
          10.641310540673498,
          10.595612338446406,
          10.45851773176513
         ],
         "yaxis": "y"
        },
        {
         "hovertemplate": "repetition=25-40<br>height=%{x}<br>longevity=%{y}<extra></extra>",
         "legendgroup": "25-40",
         "marker": {
          "color": "#1F77B4",
          "symbol": "square"
         },
         "mode": "markers",
         "name": "25-40",
         "orientation": "v",
         "showlegend": true,
         "type": "scatter",
         "x": [
          55,
          null,
          51,
          27,
          null,
          27,
          65,
          25,
          52,
          null,
          25,
          32,
          38,
          58,
          null,
          66,
          65,
          59,
          61,
          81,
          76,
          58,
          42,
          64,
          48,
          64,
          61,
          45,
          61,
          64,
          46,
          71,
          65,
          null,
          38,
          46,
          38,
          38,
          56
         ],
         "xaxis": "x",
         "y": [
          12.58,
          12.63,
          12.87,
          12.8,
          13.51,
          12.21,
          12.42,
          14.42,
          12.28,
          10.92,
          10.1,
          11.29,
          12.05,
          12,
          9.36,
          10.16,
          9.1,
          8.81,
          10.67,
          6.94,
          6.96,
          null,
          null,
          null,
          null,
          10.75,
          null,
          11.17,
          10,
          null,
          null,
          null,
          10.8,
          8.7,
          13.17,
          12.16,
          null,
          13.17,
          8.8
         ],
         "yaxis": "y"
        },
        {
         "hovertemplate": "<b>OLS trendline</b><br>longevity = -0.0787387 * height + 15.126<br>R<sup>2</sup>=0.445933<br><br>repetition=25-40<br>height=%{x}<br>longevity=%{y} <b>(trend)</b><extra></extra>",
         "legendgroup": "25-40",
         "marker": {
          "color": "#1F77B4",
          "symbol": "square"
         },
         "mode": "lines",
         "name": "25-40",
         "showlegend": false,
         "type": "scatter",
         "x": [
          25,
          25,
          27,
          27,
          32,
          38,
          38,
          38,
          45,
          46,
          51,
          52,
          55,
          56,
          58,
          59,
          61,
          61,
          64,
          65,
          65,
          65,
          66,
          76,
          81
         ],
         "xaxis": "x",
         "y": [
          13.15755671203629,
          13.15755671203629,
          13.000079237993564,
          13.000079237993564,
          12.60638555288675,
          12.13395313075857,
          12.13395313075857,
          12.13395313075857,
          11.582781971609029,
          11.504043234587666,
          11.11034954948085,
          11.031610812459487,
          10.795394601395397,
          10.716655864374033,
          10.559178390331308,
          10.480439653309944,
          10.322962179267218,
          10.322962179267218,
          10.086745968203129,
          10.008007231181764,
          10.008007231181764,
          10.008007231181764,
          9.929268494160404,
          9.14188112394677,
          8.748187438839956
         ],
         "yaxis": "y"
        },
        {
         "hovertemplate": "repetition=40+<br>height=%{x}<br>longevity=%{y}<extra></extra>",
         "legendgroup": "40+",
         "marker": {
          "color": "#1F77B4",
          "symbol": "x"
         },
         "mode": "markers",
         "name": "40+",
         "orientation": "v",
         "showlegend": true,
         "type": "scatter",
         "x": [
          27,
          13,
          23,
          25,
          null,
          36,
          39,
          41,
          24,
          36,
          42,
          36,
          23,
          25,
          66,
          null,
          56,
          null,
          71,
          55,
          47,
          64,
          65,
          76,
          67,
          null,
          30,
          72,
          24,
          37,
          36,
          27,
          25
         ],
         "xaxis": "x",
         "y": [
          13.92,
          16.5,
          12.25,
          13.2,
          12,
          12.3,
          12.31,
          11,
          13.07,
          11.43,
          13.58,
          10.02,
          12.17,
          10.69,
          11.92,
          11.56,
          11.19,
          9,
          9.08,
          10.21,
          9.01,
          6.75,
          7.57,
          6.5,
          7.78,
          6.29,
          10.08,
          10,
          9.25,
          null,
          12.7,
          12.25,
          11
         ],
         "yaxis": "y"
        },
        {
         "hovertemplate": "<b>OLS trendline</b><br>longevity = -0.0858459 * height + 14.5806<br>R<sup>2</sup>=0.487114<br><br>repetition=40+<br>height=%{x}<br>longevity=%{y} <b>(trend)</b><extra></extra>",
         "legendgroup": "40+",
         "marker": {
          "color": "#1F77B4",
          "symbol": "x"
         },
         "mode": "lines",
         "name": "40+",
         "showlegend": false,
         "type": "scatter",
         "x": [
          13,
          23,
          23,
          24,
          24,
          25,
          25,
          25,
          27,
          27,
          30,
          36,
          36,
          36,
          36,
          39,
          41,
          42,
          47,
          55,
          56,
          64,
          65,
          66,
          67,
          71,
          72,
          76
         ],
         "xaxis": "x",
         "y": [
          13.46455909103094,
          12.606099926856638,
          12.606099926856638,
          12.520254010439208,
          12.520254010439208,
          12.434408094021776,
          12.434408094021776,
          12.434408094021776,
          12.262716261186917,
          12.262716261186917,
          12.005178511934627,
          11.490103013430044,
          11.490103013430044,
          11.490103013430044,
          11.490103013430044,
          11.232565264177754,
          11.060873431342893,
          10.975027514925463,
          10.545797932838312,
          9.85903060149887,
          9.77318468508144,
          9.086417353741997,
          9.000571437324567,
          8.914725520907137,
          8.828879604489707,
          8.485495938819984,
          8.399650022402554,
          8.056266356732834
         ],
         "yaxis": "y"
        }
       ],
       "layout": {
        "height": 250,
        "legend": {
         "title": {
          "text": "repetition"
         },
         "tracegroupgap": 0
        },
        "template": {
         "data": {
          "bar": [
           {
            "error_x": {
             "color": "rgb(36,36,36)"
            },
            "error_y": {
             "color": "rgb(36,36,36)"
            },
            "marker": {
             "line": {
              "color": "white",
              "width": 0.5
             },
             "pattern": {
              "fillmode": "overlay",
              "size": 10,
              "solidity": 0.2
             }
            },
            "type": "bar"
           }
          ],
          "barpolar": [
           {
            "marker": {
             "line": {
              "color": "white",
              "width": 0.5
             },
             "pattern": {
              "fillmode": "overlay",
              "size": 10,
              "solidity": 0.2
             }
            },
            "type": "barpolar"
           }
          ],
          "carpet": [
           {
            "aaxis": {
             "endlinecolor": "rgb(36,36,36)",
             "gridcolor": "white",
             "linecolor": "white",
             "minorgridcolor": "white",
             "startlinecolor": "rgb(36,36,36)"
            },
            "baxis": {
             "endlinecolor": "rgb(36,36,36)",
             "gridcolor": "white",
             "linecolor": "white",
             "minorgridcolor": "white",
             "startlinecolor": "rgb(36,36,36)"
            },
            "type": "carpet"
           }
          ],
          "choropleth": [
           {
            "colorbar": {
             "outlinewidth": 1,
             "tickcolor": "rgb(36,36,36)",
             "ticks": "outside"
            },
            "type": "choropleth"
           }
          ],
          "contour": [
           {
            "colorbar": {
             "outlinewidth": 1,
             "tickcolor": "rgb(36,36,36)",
             "ticks": "outside"
            },
            "colorscale": [
             [
              0,
              "#440154"
             ],
             [
              0.1111111111111111,
              "#482878"
             ],
             [
              0.2222222222222222,
              "#3e4989"
             ],
             [
              0.3333333333333333,
              "#31688e"
             ],
             [
              0.4444444444444444,
              "#26828e"
             ],
             [
              0.5555555555555556,
              "#1f9e89"
             ],
             [
              0.6666666666666666,
              "#35b779"
             ],
             [
              0.7777777777777778,
              "#6ece58"
             ],
             [
              0.8888888888888888,
              "#b5de2b"
             ],
             [
              1,
              "#fde725"
             ]
            ],
            "type": "contour"
           }
          ],
          "contourcarpet": [
           {
            "colorbar": {
             "outlinewidth": 1,
             "tickcolor": "rgb(36,36,36)",
             "ticks": "outside"
            },
            "type": "contourcarpet"
           }
          ],
          "heatmap": [
           {
            "colorbar": {
             "outlinewidth": 1,
             "tickcolor": "rgb(36,36,36)",
             "ticks": "outside"
            },
            "colorscale": [
             [
              0,
              "#440154"
             ],
             [
              0.1111111111111111,
              "#482878"
             ],
             [
              0.2222222222222222,
              "#3e4989"
             ],
             [
              0.3333333333333333,
              "#31688e"
             ],
             [
              0.4444444444444444,
              "#26828e"
             ],
             [
              0.5555555555555556,
              "#1f9e89"
             ],
             [
              0.6666666666666666,
              "#35b779"
             ],
             [
              0.7777777777777778,
              "#6ece58"
             ],
             [
              0.8888888888888888,
              "#b5de2b"
             ],
             [
              1,
              "#fde725"
             ]
            ],
            "type": "heatmap"
           }
          ],
          "heatmapgl": [
           {
            "colorbar": {
             "outlinewidth": 1,
             "tickcolor": "rgb(36,36,36)",
             "ticks": "outside"
            },
            "colorscale": [
             [
              0,
              "#440154"
             ],
             [
              0.1111111111111111,
              "#482878"
             ],
             [
              0.2222222222222222,
              "#3e4989"
             ],
             [
              0.3333333333333333,
              "#31688e"
             ],
             [
              0.4444444444444444,
              "#26828e"
             ],
             [
              0.5555555555555556,
              "#1f9e89"
             ],
             [
              0.6666666666666666,
              "#35b779"
             ],
             [
              0.7777777777777778,
              "#6ece58"
             ],
             [
              0.8888888888888888,
              "#b5de2b"
             ],
             [
              1,
              "#fde725"
             ]
            ],
            "type": "heatmapgl"
           }
          ],
          "histogram": [
           {
            "marker": {
             "line": {
              "color": "white",
              "width": 0.6
             }
            },
            "type": "histogram"
           }
          ],
          "histogram2d": [
           {
            "colorbar": {
             "outlinewidth": 1,
             "tickcolor": "rgb(36,36,36)",
             "ticks": "outside"
            },
            "colorscale": [
             [
              0,
              "#440154"
             ],
             [
              0.1111111111111111,
              "#482878"
             ],
             [
              0.2222222222222222,
              "#3e4989"
             ],
             [
              0.3333333333333333,
              "#31688e"
             ],
             [
              0.4444444444444444,
              "#26828e"
             ],
             [
              0.5555555555555556,
              "#1f9e89"
             ],
             [
              0.6666666666666666,
              "#35b779"
             ],
             [
              0.7777777777777778,
              "#6ece58"
             ],
             [
              0.8888888888888888,
              "#b5de2b"
             ],
             [
              1,
              "#fde725"
             ]
            ],
            "type": "histogram2d"
           }
          ],
          "histogram2dcontour": [
           {
            "colorbar": {
             "outlinewidth": 1,
             "tickcolor": "rgb(36,36,36)",
             "ticks": "outside"
            },
            "colorscale": [
             [
              0,
              "#440154"
             ],
             [
              0.1111111111111111,
              "#482878"
             ],
             [
              0.2222222222222222,
              "#3e4989"
             ],
             [
              0.3333333333333333,
              "#31688e"
             ],
             [
              0.4444444444444444,
              "#26828e"
             ],
             [
              0.5555555555555556,
              "#1f9e89"
             ],
             [
              0.6666666666666666,
              "#35b779"
             ],
             [
              0.7777777777777778,
              "#6ece58"
             ],
             [
              0.8888888888888888,
              "#b5de2b"
             ],
             [
              1,
              "#fde725"
             ]
            ],
            "type": "histogram2dcontour"
           }
          ],
          "mesh3d": [
           {
            "colorbar": {
             "outlinewidth": 1,
             "tickcolor": "rgb(36,36,36)",
             "ticks": "outside"
            },
            "type": "mesh3d"
           }
          ],
          "parcoords": [
           {
            "line": {
             "colorbar": {
              "outlinewidth": 1,
              "tickcolor": "rgb(36,36,36)",
              "ticks": "outside"
             }
            },
            "type": "parcoords"
           }
          ],
          "pie": [
           {
            "automargin": true,
            "type": "pie"
           }
          ],
          "scatter": [
           {
            "marker": {
             "colorbar": {
              "outlinewidth": 1,
              "tickcolor": "rgb(36,36,36)",
              "ticks": "outside"
             }
            },
            "type": "scatter"
           }
          ],
          "scatter3d": [
           {
            "line": {
             "colorbar": {
              "outlinewidth": 1,
              "tickcolor": "rgb(36,36,36)",
              "ticks": "outside"
             }
            },
            "marker": {
             "colorbar": {
              "outlinewidth": 1,
              "tickcolor": "rgb(36,36,36)",
              "ticks": "outside"
             }
            },
            "type": "scatter3d"
           }
          ],
          "scattercarpet": [
           {
            "marker": {
             "colorbar": {
              "outlinewidth": 1,
              "tickcolor": "rgb(36,36,36)",
              "ticks": "outside"
             }
            },
            "type": "scattercarpet"
           }
          ],
          "scattergeo": [
           {
            "marker": {
             "colorbar": {
              "outlinewidth": 1,
              "tickcolor": "rgb(36,36,36)",
              "ticks": "outside"
             }
            },
            "type": "scattergeo"
           }
          ],
          "scattergl": [
           {
            "marker": {
             "colorbar": {
              "outlinewidth": 1,
              "tickcolor": "rgb(36,36,36)",
              "ticks": "outside"
             }
            },
            "type": "scattergl"
           }
          ],
          "scattermapbox": [
           {
            "marker": {
             "colorbar": {
              "outlinewidth": 1,
              "tickcolor": "rgb(36,36,36)",
              "ticks": "outside"
             }
            },
            "type": "scattermapbox"
           }
          ],
          "scatterpolar": [
           {
            "marker": {
             "colorbar": {
              "outlinewidth": 1,
              "tickcolor": "rgb(36,36,36)",
              "ticks": "outside"
             }
            },
            "type": "scatterpolar"
           }
          ],
          "scatterpolargl": [
           {
            "marker": {
             "colorbar": {
              "outlinewidth": 1,
              "tickcolor": "rgb(36,36,36)",
              "ticks": "outside"
             }
            },
            "type": "scatterpolargl"
           }
          ],
          "scatterternary": [
           {
            "marker": {
             "colorbar": {
              "outlinewidth": 1,
              "tickcolor": "rgb(36,36,36)",
              "ticks": "outside"
             }
            },
            "type": "scatterternary"
           }
          ],
          "surface": [
           {
            "colorbar": {
             "outlinewidth": 1,
             "tickcolor": "rgb(36,36,36)",
             "ticks": "outside"
            },
            "colorscale": [
             [
              0,
              "#440154"
             ],
             [
              0.1111111111111111,
              "#482878"
             ],
             [
              0.2222222222222222,
              "#3e4989"
             ],
             [
              0.3333333333333333,
              "#31688e"
             ],
             [
              0.4444444444444444,
              "#26828e"
             ],
             [
              0.5555555555555556,
              "#1f9e89"
             ],
             [
              0.6666666666666666,
              "#35b779"
             ],
             [
              0.7777777777777778,
              "#6ece58"
             ],
             [
              0.8888888888888888,
              "#b5de2b"
             ],
             [
              1,
              "#fde725"
             ]
            ],
            "type": "surface"
           }
          ],
          "table": [
           {
            "cells": {
             "fill": {
              "color": "rgb(237,237,237)"
             },
             "line": {
              "color": "white"
             }
            },
            "header": {
             "fill": {
              "color": "rgb(217,217,217)"
             },
             "line": {
              "color": "white"
             }
            },
            "type": "table"
           }
          ]
         },
         "layout": {
          "annotationdefaults": {
           "arrowhead": 0,
           "arrowwidth": 1
          },
          "autosize": true,
          "autotypenumbers": "strict",
          "coloraxis": {
           "colorbar": {
            "outlinewidth": 1,
            "tickcolor": "rgb(36,36,36)",
            "ticks": "outside"
           }
          },
          "colorscale": {
           "diverging": [
            [
             0,
             "rgb(103,0,31)"
            ],
            [
             0.1,
             "rgb(178,24,43)"
            ],
            [
             0.2,
             "rgb(214,96,77)"
            ],
            [
             0.3,
             "rgb(244,165,130)"
            ],
            [
             0.4,
             "rgb(253,219,199)"
            ],
            [
             0.5,
             "rgb(247,247,247)"
            ],
            [
             0.6,
             "rgb(209,229,240)"
            ],
            [
             0.7,
             "rgb(146,197,222)"
            ],
            [
             0.8,
             "rgb(67,147,195)"
            ],
            [
             0.9,
             "rgb(33,102,172)"
            ],
            [
             1,
             "rgb(5,48,97)"
            ]
           ],
           "sequential": [
            [
             0,
             "#440154"
            ],
            [
             0.1111111111111111,
             "#482878"
            ],
            [
             0.2222222222222222,
             "#3e4989"
            ],
            [
             0.3333333333333333,
             "#31688e"
            ],
            [
             0.4444444444444444,
             "#26828e"
            ],
            [
             0.5555555555555556,
             "#1f9e89"
            ],
            [
             0.6666666666666666,
             "#35b779"
            ],
            [
             0.7777777777777778,
             "#6ece58"
            ],
            [
             0.8888888888888888,
             "#b5de2b"
            ],
            [
             1,
             "#fde725"
            ]
           ],
           "sequentialminus": [
            [
             0,
             "#440154"
            ],
            [
             0.1111111111111111,
             "#482878"
            ],
            [
             0.2222222222222222,
             "#3e4989"
            ],
            [
             0.3333333333333333,
             "#31688e"
            ],
            [
             0.4444444444444444,
             "#26828e"
            ],
            [
             0.5555555555555556,
             "#1f9e89"
            ],
            [
             0.6666666666666666,
             "#35b779"
            ],
            [
             0.7777777777777778,
             "#6ece58"
            ],
            [
             0.8888888888888888,
             "#b5de2b"
            ],
            [
             1,
             "#fde725"
            ]
           ]
          },
          "colorway": [
           "#1F77B4",
           "#FF7F0E",
           "#2CA02C",
           "#D62728",
           "#9467BD",
           "#8C564B",
           "#E377C2",
           "#7F7F7F",
           "#BCBD22",
           "#17BECF"
          ],
          "font": {
           "color": "rgb(36,36,36)"
          },
          "geo": {
           "bgcolor": "white",
           "lakecolor": "white",
           "landcolor": "white",
           "showlakes": true,
           "showland": true,
           "subunitcolor": "white"
          },
          "height": 250,
          "hoverlabel": {
           "align": "left"
          },
          "hovermode": "closest",
          "mapbox": {
           "style": "light"
          },
          "margin": {
           "b": 10,
           "l": 10,
           "r": 10,
           "t": 10
          },
          "paper_bgcolor": "white",
          "plot_bgcolor": "white",
          "polar": {
           "angularaxis": {
            "gridcolor": "rgb(232,232,232)",
            "linecolor": "rgb(36,36,36)",
            "showgrid": false,
            "showline": true,
            "ticks": "outside"
           },
           "bgcolor": "white",
           "radialaxis": {
            "gridcolor": "rgb(232,232,232)",
            "linecolor": "rgb(36,36,36)",
            "showgrid": false,
            "showline": true,
            "ticks": "outside"
           }
          },
          "scene": {
           "xaxis": {
            "backgroundcolor": "white",
            "gridcolor": "rgb(232,232,232)",
            "gridwidth": 2,
            "linecolor": "rgb(36,36,36)",
            "showbackground": true,
            "showgrid": false,
            "showline": true,
            "ticks": "outside",
            "zeroline": false,
            "zerolinecolor": "rgb(36,36,36)"
           },
           "yaxis": {
            "backgroundcolor": "white",
            "gridcolor": "rgb(232,232,232)",
            "gridwidth": 2,
            "linecolor": "rgb(36,36,36)",
            "showbackground": true,
            "showgrid": false,
            "showline": true,
            "ticks": "outside",
            "zeroline": false,
            "zerolinecolor": "rgb(36,36,36)"
           },
           "zaxis": {
            "backgroundcolor": "white",
            "gridcolor": "rgb(232,232,232)",
            "gridwidth": 2,
            "linecolor": "rgb(36,36,36)",
            "showbackground": true,
            "showgrid": false,
            "showline": true,
            "ticks": "outside",
            "zeroline": false,
            "zerolinecolor": "rgb(36,36,36)"
           }
          },
          "shapedefaults": {
           "fillcolor": "black",
           "line": {
            "width": 0
           },
           "opacity": 0.3
          },
          "ternary": {
           "aaxis": {
            "gridcolor": "rgb(232,232,232)",
            "linecolor": "rgb(36,36,36)",
            "showgrid": false,
            "showline": true,
            "ticks": "outside"
           },
           "baxis": {
            "gridcolor": "rgb(232,232,232)",
            "linecolor": "rgb(36,36,36)",
            "showgrid": false,
            "showline": true,
            "ticks": "outside"
           },
           "bgcolor": "white",
           "caxis": {
            "gridcolor": "rgb(232,232,232)",
            "linecolor": "rgb(36,36,36)",
            "showgrid": false,
            "showline": true,
            "ticks": "outside"
           }
          },
          "title": {
           "x": 0.5,
           "xanchor": "center"
          },
          "width": 350,
          "xaxis": {
           "automargin": true,
           "gridcolor": "rgb(232,232,232)",
           "linecolor": "rgb(36,36,36)",
           "showgrid": true,
           "showline": true,
           "ticks": "outside",
           "title": {
            "standoff": 15
           },
           "zeroline": false,
           "zerolinecolor": "rgb(36,36,36)"
          },
          "yaxis": {
           "automargin": true,
           "gridcolor": "rgb(232,232,232)",
           "linecolor": "rgb(36,36,36)",
           "showgrid": true,
           "showline": true,
           "ticks": "outside",
           "title": {
            "standoff": 15
           },
           "zeroline": false,
           "zerolinecolor": "rgb(36,36,36)"
          }
         }
        },
        "width": 400,
        "xaxis": {
         "anchor": "y",
         "autorange": true,
         "domain": [
          0,
          1
         ],
         "range": [
          7.924908424908423,
          86.07509157509158
         ],
         "title": {
          "text": "height"
         },
         "type": "linear"
        },
        "yaxis": {
         "anchor": "x",
         "autorange": true,
         "domain": [
          0,
          1
         ],
         "range": [
          5.4490218790218785,
          17.34097812097812
         ],
         "title": {
          "text": "longevity"
         },
         "type": "linear"
        }
       }
      },
      "image/png": "[encoded data removed]",
      "image/svg+xml": [
       "<svg class=\"main-svg\" xmlns=\"http://www.w3.org/2000/svg\" xmlns:xlink=\"http://www.w3.org/1999/xlink\" width=\"400\" height=\"250\" style=\"\" viewBox=\"0 0 400 250\"><rect x=\"0\" y=\"0\" width=\"400\" height=\"250\" style=\"fill: rgb(255, 255, 255); fill-opacity: 1;\"/><defs id=\"defs-f9c5ac\"><g class=\"clips\"><clipPath id=\"clipf9c5acxyplot\" class=\"plotclip\"><rect width=\"251\" height=\"181\"/></clipPath><clipPath class=\"axesclip\" id=\"clipf9c5acx\"><rect x=\"57\" y=\"0\" width=\"251\" height=\"250\"/></clipPath><clipPath class=\"axesclip\" id=\"clipf9c5acy\"><rect x=\"0\" y=\"10\" width=\"400\" height=\"181\"/></clipPath><clipPath class=\"axesclip\" id=\"clipf9c5acxy\"><rect x=\"57\" y=\"10\" width=\"251\" height=\"181\"/></clipPath></g><g class=\"gradients\"/><g class=\"patterns\"/></defs><g class=\"bglayer\"/><g class=\"layer-below\"><g class=\"imagelayer\"/><g class=\"shapelayer\"/></g><g class=\"cartesianlayer\"><g class=\"subplot xy\"><g class=\"layer-subplot\"><g class=\"shapelayer\"/><g class=\"imagelayer\"/></g><g class=\"gridlayer\"><g class=\"x\"><path class=\"xgrid crisp\" transform=\"translate(95.78,0)\" d=\"M0,10v181\" style=\"stroke: rgb(232, 232, 232); stroke-opacity: 1; stroke-width: 1px;\"/><path class=\"xgrid crisp\" transform=\"translate(160.01999999999998,0)\" d=\"M0,10v181\" style=\"stroke: rgb(232, 232, 232); stroke-opacity: 1; stroke-width: 1px;\"/><path class=\"xgrid crisp\" transform=\"translate(224.25,0)\" d=\"M0,10v181\" style=\"stroke: rgb(232, 232, 232); stroke-opacity: 1; stroke-width: 1px;\"/><path class=\"xgrid crisp\" transform=\"translate(288.49,0)\" d=\"M0,10v181\" style=\"stroke: rgb(232, 232, 232); stroke-opacity: 1; stroke-width: 1px;\"/></g><g class=\"y\"><path class=\"ygrid crisp\" transform=\"translate(0,121.73)\" d=\"M57,0h251\" style=\"stroke: rgb(232, 232, 232); stroke-opacity: 1; stroke-width: 1px;\"/><path class=\"ygrid crisp\" transform=\"translate(0,45.63)\" d=\"M57,0h251\" style=\"stroke: rgb(232, 232, 232); stroke-opacity: 1; stroke-width: 1px;\"/></g></g><g class=\"zerolinelayer\"/><path class=\"xlines-below\"/><path class=\"ylines-below\"/><g class=\"overlines-below\"/><g class=\"xaxislayer-below\"/><g class=\"yaxislayer-below\"/><g class=\"overaxes-below\"/><g class=\"plot\" transform=\"translate(57,10)\" clip-path=\"url(#clipf9c5acxyplot)\"><g class=\"scatterlayer mlayer\"><g class=\"trace scatter trace89e93b\" style=\"stroke-miterlimit: 2; opacity: 1;\"><g class=\"fills\"/><g class=\"errorbars\"/><g class=\"lines\"/><g class=\"points\"><path class=\"point\" transform=\"translate(138.35,73.38)\" d=\"M3,0A3,3 0 1,1 0,-3A3,3 0 0,1 3,0Z\" style=\"opacity: 1; stroke-width: 0px; fill: rgb(31, 119, 180); fill-opacity: 1;\"/><path class=\"point\" transform=\"translate(128.71,67.29)\" d=\"M3,0A3,3 0 1,1 0,-3A3,3 0 0,1 3,0Z\" style=\"opacity: 1; stroke-width: 0px; fill: rgb(31, 119, 180); fill-opacity: 1;\"/><path class=\"point\" transform=\"translate(106.23,86.47)\" d=\"M3,0A3,3 0 1,1 0,-3A3,3 0 0,1 3,0Z\" style=\"opacity: 1; stroke-width: 0px; fill: rgb(31, 119, 180); fill-opacity: 1;\"/><path class=\"point\" transform=\"translate(93.38,73.68)\" d=\"M3,0A3,3 0 1,1 0,-3A3,3 0 0,1 3,0Z\" style=\"opacity: 1; stroke-width: 0px; fill: rgb(31, 119, 180); fill-opacity: 1;\"/><path class=\"point\" transform=\"translate(51.63,66.07)\" d=\"M3,0A3,3 0 1,1 0,-3A3,3 0 0,1 3,0Z\" style=\"opacity: 1; stroke-width: 0px; fill: rgb(31, 119, 180); fill-opacity: 1;\"/><path class=\"point\" transform=\"translate(125.5,86.31)\" d=\"M3,0A3,3 0 1,1 0,-3A3,3 0 0,1 3,0Z\" style=\"opacity: 1; stroke-width: 0px; fill: rgb(31, 119, 180); fill-opacity: 1;\"/><path class=\"point\" transform=\"translate(93.38,73.22)\" d=\"M3,0A3,3 0 1,1 0,-3A3,3 0 0,1 3,0Z\" style=\"opacity: 1; stroke-width: 0px; fill: rgb(31, 119, 180); fill-opacity: 1;\"/><path class=\"point\" transform=\"translate(80.54,84.18)\" d=\"M3,0A3,3 0 1,1 0,-3A3,3 0 0,1 3,0Z\" style=\"opacity: 1; stroke-width: 0px; fill: rgb(31, 119, 180); fill-opacity: 1;\"/><path class=\"point\" transform=\"translate(135.14,73.07)\" d=\"M3,0A3,3 0 1,1 0,-3A3,3 0 0,1 3,0Z\" style=\"opacity: 1; stroke-width: 0px; fill: rgb(31, 119, 180); fill-opacity: 1;\"/><path class=\"point\" transform=\"translate(106.23,82.05)\" d=\"M3,0A3,3 0 1,1 0,-3A3,3 0 0,1 3,0Z\" style=\"opacity: 1; stroke-width: 0px; fill: rgb(31, 119, 180); fill-opacity: 1;\"/><path class=\"point\" transform=\"translate(170.46,89.51)\" d=\"M3,0A3,3 0 1,1 0,-3A3,3 0 0,1 3,0Z\" style=\"opacity: 1; stroke-width: 0px; fill: rgb(31, 119, 180); fill-opacity: 1;\"/><path class=\"point\" transform=\"translate(160.83,80.68)\" d=\"M3,0A3,3 0 1,1 0,-3A3,3 0 0,1 3,0Z\" style=\"opacity: 1; stroke-width: 0px; fill: rgb(31, 119, 180); fill-opacity: 1;\"/><path class=\"point\" transform=\"translate(160.83,80.68)\" d=\"M3,0A3,3 0 1,1 0,-3A3,3 0 0,1 3,0Z\" style=\"opacity: 1; stroke-width: 0px; fill: rgb(31, 119, 180); fill-opacity: 1;\"/><path class=\"point\" transform=\"translate(164.04,126.65)\" d=\"M3,0A3,3 0 1,1 0,-3A3,3 0 0,1 3,0Z\" style=\"opacity: 1; stroke-width: 0px; fill: rgb(31, 119, 180); fill-opacity: 1;\"/><path class=\"point\" transform=\"translate(186.52,106.71)\" d=\"M3,0A3,3 0 1,1 0,-3A3,3 0 0,1 3,0Z\" style=\"opacity: 1; stroke-width: 0px; fill: rgb(31, 119, 180); fill-opacity: 1;\"/><path class=\"point\" transform=\"translate(170.46,102.6)\" d=\"M3,0A3,3 0 1,1 0,-3A3,3 0 0,1 3,0Z\" style=\"opacity: 1; stroke-width: 0px; fill: rgb(31, 119, 180); fill-opacity: 1;\"/><path class=\"point\" transform=\"translate(64.48,77.49)\" d=\"M3,0A3,3 0 1,1 0,-3A3,3 0 0,1 3,0Z\" style=\"opacity: 1; stroke-width: 0px; fill: rgb(31, 119, 180); fill-opacity: 1;\"/><path class=\"point\" transform=\"translate(173.68,125.28)\" d=\"M3,0A3,3 0 1,1 0,-3A3,3 0 0,1 3,0Z\" style=\"opacity: 1; stroke-width: 0px; fill: rgb(31, 119, 180); fill-opacity: 1;\"/><path class=\"point\" transform=\"translate(170.46,115.84)\" d=\"M3,0A3,3 0 1,1 0,-3A3,3 0 0,1 3,0Z\" style=\"opacity: 1; stroke-width: 0px; fill: rgb(31, 119, 180); fill-opacity: 1;\"/><path class=\"point\" transform=\"translate(180.1,148.87)\" d=\"M3,0A3,3 0 1,1 0,-3A3,3 0 0,1 3,0Z\" style=\"opacity: 1; stroke-width: 0px; fill: rgb(31, 119, 180); fill-opacity: 1;\"/><path class=\"point\" transform=\"translate(67.69,70.64)\" d=\"M3,0A3,3 0 1,1 0,-3A3,3 0 0,1 3,0Z\" style=\"opacity: 1; stroke-width: 0px; fill: rgb(31, 119, 180); fill-opacity: 1;\"/><path class=\"point\" transform=\"translate(157.62,121.93)\" d=\"M3,0A3,3 0 1,1 0,-3A3,3 0 0,1 3,0Z\" style=\"opacity: 1; stroke-width: 0px; fill: rgb(31, 119, 180); fill-opacity: 1;\"/><path class=\"point\" transform=\"translate(115.86,78.7)\" d=\"M3,0A3,3 0 1,1 0,-3A3,3 0 0,1 3,0Z\" style=\"opacity: 1; stroke-width: 0px; fill: rgb(31, 119, 180); fill-opacity: 1;\"/><path class=\"point\" transform=\"translate(67.69,66.07)\" d=\"M3,0A3,3 0 1,1 0,-3A3,3 0 0,1 3,0Z\" style=\"opacity: 1; stroke-width: 0px; fill: rgb(31, 119, 180); fill-opacity: 1;\"/><path class=\"point\" transform=\"translate(157.62,73.68)\" d=\"M3,0A3,3 0 1,1 0,-3A3,3 0 0,1 3,0Z\" style=\"opacity: 1; stroke-width: 0px; fill: rgb(31, 119, 180); fill-opacity: 1;\"/></g><g class=\"text\"/></g><g class=\"trace scatter tracef7b5d6\" style=\"stroke-miterlimit: 2; opacity: 1;\"><g class=\"fills\"/><g class=\"errorbars\"/><g class=\"lines\"><path class=\"js-line\" d=\"M51.63,61.11L186.52,110.1\" style=\"vector-effect: non-scaling-stroke; fill: none; stroke: rgb(31, 119, 180); stroke-opacity: 1; stroke-width: 2px; opacity: 1;\"/></g><g class=\"points\"/><g class=\"text\"/></g><g class=\"trace scatter trace812f5c\" style=\"stroke-miterlimit: 2; opacity: 1;\"><g class=\"fills\"/><g class=\"errorbars\"/><g class=\"lines\"/><g class=\"points\"><path class=\"point\" transform=\"translate(54.84,53.29)\" d=\"M3.9,0L0,3.9L-3.9,0L0,-3.9Z\" style=\"opacity: 1; stroke-width: 0px; fill: rgb(31, 119, 180); fill-opacity: 1;\"/><path class=\"point\" transform=\"translate(122.29,73.83)\" d=\"M3.9,0L0,3.9L-3.9,0L0,-3.9Z\" style=\"opacity: 1; stroke-width: 0px; fill: rgb(31, 119, 180); fill-opacity: 1;\"/><path class=\"point\" transform=\"translate(58.05,90.12)\" d=\"M3.9,0L0,3.9L-3.9,0L0,-3.9Z\" style=\"opacity: 1; stroke-width: 0px; fill: rgb(31, 119, 180); fill-opacity: 1;\"/><path class=\"point\" transform=\"translate(61.26,95.75)\" d=\"M3.9,0L0,3.9L-3.9,0L0,-3.9Z\" style=\"opacity: 1; stroke-width: 0px; fill: rgb(31, 119, 180); fill-opacity: 1;\"/><path class=\"point\" transform=\"translate(186.52,86.92)\" d=\"M3.9,0L0,3.9L-3.9,0L0,-3.9Z\" style=\"opacity: 1; stroke-width: 0px; fill: rgb(31, 119, 180); fill-opacity: 1;\"/><path class=\"point\" transform=\"translate(160.83,83.88)\" d=\"M3.9,0L0,3.9L-3.9,0L0,-3.9Z\" style=\"opacity: 1; stroke-width: 0px; fill: rgb(31, 119, 180); fill-opacity: 1;\"/><path class=\"point\" transform=\"translate(147.98,74.59)\" d=\"M3.9,0L0,3.9L-3.9,0L0,-3.9Z\" style=\"opacity: 1; stroke-width: 0px; fill: rgb(31, 119, 180); fill-opacity: 1;\"/><path class=\"point\" transform=\"translate(167.25,119.65)\" d=\"M3.9,0L0,3.9L-3.9,0L0,-3.9Z\" style=\"opacity: 1; stroke-width: 0px; fill: rgb(31, 119, 180); fill-opacity: 1;\"/><path class=\"point\" transform=\"translate(180.1,94.99)\" d=\"M3.9,0L0,3.9L-3.9,0L0,-3.9Z\" style=\"opacity: 1; stroke-width: 0px; fill: rgb(31, 119, 180); fill-opacity: 1;\"/><path class=\"point\" transform=\"translate(173.68,87.84)\" d=\"M3.9,0L0,3.9L-3.9,0L0,-3.9Z\" style=\"opacity: 1; stroke-width: 0px; fill: rgb(31, 119, 180); fill-opacity: 1;\"/><path class=\"point\" transform=\"translate(173.68,93.92)\" d=\"M3.9,0L0,3.9L-3.9,0L0,-3.9Z\" style=\"opacity: 1; stroke-width: 0px; fill: rgb(31, 119, 180); fill-opacity: 1;\"/><path class=\"point\" transform=\"translate(144.77,92.4)\" d=\"M3.9,0L0,3.9L-3.9,0L0,-3.9Z\" style=\"opacity: 1; stroke-width: 0px; fill: rgb(31, 119, 180); fill-opacity: 1;\"/><path class=\"point\" transform=\"translate(183.31,106.56)\" d=\"M3.9,0L0,3.9L-3.9,0L0,-3.9Z\" style=\"opacity: 1; stroke-width: 0px; fill: rgb(31, 119, 180); fill-opacity: 1;\"/><path class=\"point\" transform=\"translate(125.5,111.73)\" d=\"M3.9,0L0,3.9L-3.9,0L0,-3.9Z\" style=\"opacity: 1; stroke-width: 0px; fill: rgb(31, 119, 180); fill-opacity: 1;\"/><path class=\"point\" transform=\"translate(183.31,111.73)\" d=\"M3.9,0L0,3.9L-3.9,0L0,-3.9Z\" style=\"opacity: 1; stroke-width: 0px; fill: rgb(31, 119, 180); fill-opacity: 1;\"/><path class=\"point\" transform=\"translate(125.5,120.86)\" d=\"M3.9,0L0,3.9L-3.9,0L0,-3.9Z\" style=\"opacity: 1; stroke-width: 0px; fill: rgb(31, 119, 180); fill-opacity: 1;\"/><path class=\"point\" transform=\"translate(196.16,122.08)\" d=\"M3.9,0L0,3.9L-3.9,0L0,-3.9Z\" style=\"opacity: 1; stroke-width: 0px; fill: rgb(31, 119, 180); fill-opacity: 1;\"/><path class=\"point\" transform=\"translate(160.83,89.66)\" d=\"M3.9,0L0,3.9L-3.9,0L0,-3.9Z\" style=\"opacity: 1; stroke-width: 0px; fill: rgb(31, 119, 180); fill-opacity: 1;\"/><path class=\"point\" transform=\"translate(144.77,69.57)\" d=\"M3.9,0L0,3.9L-3.9,0L0,-3.9Z\" style=\"opacity: 1; stroke-width: 0px; fill: rgb(31, 119, 180); fill-opacity: 1;\"/><path class=\"point\" transform=\"translate(115.86,113.25)\" d=\"M3.9,0L0,3.9L-3.9,0L0,-3.9Z\" style=\"opacity: 1; stroke-width: 0px; fill: rgb(31, 119, 180); fill-opacity: 1;\"/><path class=\"point\" transform=\"translate(51.63,47.05)\" d=\"M3.9,0L0,3.9L-3.9,0L0,-3.9Z\" style=\"opacity: 1; stroke-width: 0px; fill: rgb(31, 119, 180); fill-opacity: 1;\"/></g><g class=\"text\"/></g><g class=\"trace scatter tracebc4342\" style=\"stroke-miterlimit: 2; opacity: 1;\"><g class=\"fills\"/><g class=\"errorbars\"/><g class=\"lines\"><path class=\"js-line\" d=\"M51.63,73.45L196.16,104.75\" style=\"vector-effect: non-scaling-stroke; fill: none; stroke: rgb(31, 119, 180); stroke-opacity: 1; stroke-width: 2px; opacity: 1;\"/></g><g class=\"points\"/><g class=\"text\"/></g><g class=\"trace scatter trace2039bd\" style=\"stroke-miterlimit: 2; opacity: 1;\"><g class=\"fills\"/><g class=\"errorbars\"/><g class=\"lines\"/><g class=\"points\"><path class=\"point\" transform=\"translate(151.19,72.46)\" d=\"M3,3H-3V-3H3Z\" style=\"opacity: 1; stroke-width: 0px; fill: rgb(31, 119, 180); fill-opacity: 1;\"/><path class=\"point\" transform=\"translate(138.35,68.05)\" d=\"M3,3H-3V-3H3Z\" style=\"opacity: 1; stroke-width: 0px; fill: rgb(31, 119, 180); fill-opacity: 1;\"/><path class=\"point\" transform=\"translate(61.26,69.12)\" d=\"M3,3H-3V-3H3Z\" style=\"opacity: 1; stroke-width: 0px; fill: rgb(31, 119, 180); fill-opacity: 1;\"/><path class=\"point\" transform=\"translate(61.26,78.1)\" d=\"M3,3H-3V-3H3Z\" style=\"opacity: 1; stroke-width: 0px; fill: rgb(31, 119, 180); fill-opacity: 1;\"/><path class=\"point\" transform=\"translate(183.31,74.9)\" d=\"M3,3H-3V-3H3Z\" style=\"opacity: 1; stroke-width: 0px; fill: rgb(31, 119, 180); fill-opacity: 1;\"/><path class=\"point\" transform=\"translate(54.84,44.46)\" d=\"M3,3H-3V-3H3Z\" style=\"opacity: 1; stroke-width: 0px; fill: rgb(31, 119, 180); fill-opacity: 1;\"/><path class=\"point\" transform=\"translate(141.56,77.03)\" d=\"M3,3H-3V-3H3Z\" style=\"opacity: 1; stroke-width: 0px; fill: rgb(31, 119, 180); fill-opacity: 1;\"/><path class=\"point\" transform=\"translate(54.84,110.21)\" d=\"M3,3H-3V-3H3Z\" style=\"opacity: 1; stroke-width: 0px; fill: rgb(31, 119, 180); fill-opacity: 1;\"/><path class=\"point\" transform=\"translate(77.32,92.1)\" d=\"M3,3H-3V-3H3Z\" style=\"opacity: 1; stroke-width: 0px; fill: rgb(31, 119, 180); fill-opacity: 1;\"/><path class=\"point\" transform=\"translate(96.59,80.53)\" d=\"M3,3H-3V-3H3Z\" style=\"opacity: 1; stroke-width: 0px; fill: rgb(31, 119, 180); fill-opacity: 1;\"/><path class=\"point\" transform=\"translate(160.83,81.29)\" d=\"M3,3H-3V-3H3Z\" style=\"opacity: 1; stroke-width: 0px; fill: rgb(31, 119, 180); fill-opacity: 1;\"/><path class=\"point\" transform=\"translate(186.52,109.3)\" d=\"M3,3H-3V-3H3Z\" style=\"opacity: 1; stroke-width: 0px; fill: rgb(31, 119, 180); fill-opacity: 1;\"/><path class=\"point\" transform=\"translate(183.31,125.43)\" d=\"M3,3H-3V-3H3Z\" style=\"opacity: 1; stroke-width: 0px; fill: rgb(31, 119, 180); fill-opacity: 1;\"/><path class=\"point\" transform=\"translate(164.04,129.84)\" d=\"M3,3H-3V-3H3Z\" style=\"opacity: 1; stroke-width: 0px; fill: rgb(31, 119, 180); fill-opacity: 1;\"/><path class=\"point\" transform=\"translate(170.46,101.53)\" d=\"M3,3H-3V-3H3Z\" style=\"opacity: 1; stroke-width: 0px; fill: rgb(31, 119, 180); fill-opacity: 1;\"/><path class=\"point\" transform=\"translate(234.7,158.31)\" d=\"M3,3H-3V-3H3Z\" style=\"opacity: 1; stroke-width: 0px; fill: rgb(31, 119, 180); fill-opacity: 1;\"/><path class=\"point\" transform=\"translate(218.64,158)\" d=\"M3,3H-3V-3H3Z\" style=\"opacity: 1; stroke-width: 0px; fill: rgb(31, 119, 180); fill-opacity: 1;\"/><path class=\"point\" transform=\"translate(180.1,100.32)\" d=\"M3,3H-3V-3H3Z\" style=\"opacity: 1; stroke-width: 0px; fill: rgb(31, 119, 180); fill-opacity: 1;\"/><path class=\"point\" transform=\"translate(119.08,93.92)\" d=\"M3,3H-3V-3H3Z\" style=\"opacity: 1; stroke-width: 0px; fill: rgb(31, 119, 180); fill-opacity: 1;\"/><path class=\"point\" transform=\"translate(170.46,111.73)\" d=\"M3,3H-3V-3H3Z\" style=\"opacity: 1; stroke-width: 0px; fill: rgb(31, 119, 180); fill-opacity: 1;\"/><path class=\"point\" transform=\"translate(183.31,99.56)\" d=\"M3,3H-3V-3H3Z\" style=\"opacity: 1; stroke-width: 0px; fill: rgb(31, 119, 180); fill-opacity: 1;\"/><path class=\"point\" transform=\"translate(96.59,63.48)\" d=\"M3,3H-3V-3H3Z\" style=\"opacity: 1; stroke-width: 0px; fill: rgb(31, 119, 180); fill-opacity: 1;\"/><path class=\"point\" transform=\"translate(122.29,78.86)\" d=\"M3,3H-3V-3H3Z\" style=\"opacity: 1; stroke-width: 0px; fill: rgb(31, 119, 180); fill-opacity: 1;\"/><path class=\"point\" transform=\"translate(96.59,63.48)\" d=\"M3,3H-3V-3H3Z\" style=\"opacity: 1; stroke-width: 0px; fill: rgb(31, 119, 180); fill-opacity: 1;\"/><path class=\"point\" transform=\"translate(154.41,130)\" d=\"M3,3H-3V-3H3Z\" style=\"opacity: 1; stroke-width: 0px; fill: rgb(31, 119, 180); fill-opacity: 1;\"/></g><g class=\"text\"/></g><g class=\"trace scatter trace13a50a\" style=\"stroke-miterlimit: 2; opacity: 1;\"><g class=\"fills\"/><g class=\"errorbars\"/><g class=\"lines\"><path class=\"js-line\" d=\"M54.84,63.67L234.7,130.79\" style=\"vector-effect: non-scaling-stroke; fill: none; stroke: rgb(31, 119, 180); stroke-opacity: 1; stroke-width: 2px; opacity: 1;\"/></g><g class=\"points\"/><g class=\"text\"/></g><g class=\"trace scatter traceda6fcb\" style=\"stroke-miterlimit: 2; opacity: 1;\"><g class=\"fills\"/><g class=\"errorbars\"/><g class=\"lines\"/><g class=\"points\"><path class=\"point\" transform=\"translate(61.26,52.07)\" d=\"M0,1.7l1.7,1.7l1.7,-1.7l-1.7,-1.7l1.7,-1.7l-1.7,-1.7l-1.7,1.7l-1.7,-1.7l-1.7,1.7l1.7,1.7l-1.7,1.7l1.7,1.7Z\" style=\"opacity: 1; stroke-width: 0px; fill: rgb(31, 119, 180); fill-opacity: 1;\"/><path class=\"point\" transform=\"translate(16.3,12.8)\" d=\"M0,1.7l1.7,1.7l1.7,-1.7l-1.7,-1.7l1.7,-1.7l-1.7,-1.7l-1.7,1.7l-1.7,-1.7l-1.7,1.7l1.7,1.7l-1.7,1.7l1.7,1.7Z\" style=\"opacity: 1; stroke-width: 0px; fill: rgb(31, 119, 180); fill-opacity: 1;\"/><path class=\"point\" transform=\"translate(48.42,77.49)\" d=\"M0,1.7l1.7,1.7l1.7,-1.7l-1.7,-1.7l1.7,-1.7l-1.7,-1.7l-1.7,1.7l-1.7,-1.7l-1.7,1.7l1.7,1.7l-1.7,1.7l1.7,1.7Z\" style=\"opacity: 1; stroke-width: 0px; fill: rgb(31, 119, 180); fill-opacity: 1;\"/><path class=\"point\" transform=\"translate(54.84,63.03)\" d=\"M0,1.7l1.7,1.7l1.7,-1.7l-1.7,-1.7l1.7,-1.7l-1.7,-1.7l-1.7,1.7l-1.7,-1.7l-1.7,1.7l1.7,1.7l-1.7,1.7l1.7,1.7Z\" style=\"opacity: 1; stroke-width: 0px; fill: rgb(31, 119, 180); fill-opacity: 1;\"/><path class=\"point\" transform=\"translate(90.17,76.73)\" d=\"M0,1.7l1.7,1.7l1.7,-1.7l-1.7,-1.7l1.7,-1.7l-1.7,-1.7l-1.7,1.7l-1.7,-1.7l-1.7,1.7l1.7,1.7l-1.7,1.7l1.7,1.7Z\" style=\"opacity: 1; stroke-width: 0px; fill: rgb(31, 119, 180); fill-opacity: 1;\"/><path class=\"point\" transform=\"translate(99.81,76.57)\" d=\"M0,1.7l1.7,1.7l1.7,-1.7l-1.7,-1.7l1.7,-1.7l-1.7,-1.7l-1.7,1.7l-1.7,-1.7l-1.7,1.7l1.7,1.7l-1.7,1.7l1.7,1.7Z\" style=\"opacity: 1; stroke-width: 0px; fill: rgb(31, 119, 180); fill-opacity: 1;\"/><path class=\"point\" transform=\"translate(106.23,96.51)\" d=\"M0,1.7l1.7,1.7l1.7,-1.7l-1.7,-1.7l1.7,-1.7l-1.7,-1.7l-1.7,1.7l-1.7,-1.7l-1.7,1.7l1.7,1.7l-1.7,1.7l1.7,1.7Z\" style=\"opacity: 1; stroke-width: 0px; fill: rgb(31, 119, 180); fill-opacity: 1;\"/><path class=\"point\" transform=\"translate(51.63,65.01)\" d=\"M0,1.7l1.7,1.7l1.7,-1.7l-1.7,-1.7l1.7,-1.7l-1.7,-1.7l-1.7,1.7l-1.7,-1.7l-1.7,1.7l1.7,1.7l-1.7,1.7l1.7,1.7Z\" style=\"opacity: 1; stroke-width: 0px; fill: rgb(31, 119, 180); fill-opacity: 1;\"/><path class=\"point\" transform=\"translate(90.17,89.97)\" d=\"M0,1.7l1.7,1.7l1.7,-1.7l-1.7,-1.7l1.7,-1.7l-1.7,-1.7l-1.7,1.7l-1.7,-1.7l-1.7,1.7l1.7,1.7l-1.7,1.7l1.7,1.7Z\" style=\"opacity: 1; stroke-width: 0px; fill: rgb(31, 119, 180); fill-opacity: 1;\"/><path class=\"point\" transform=\"translate(109.44,57.24)\" d=\"M0,1.7l1.7,1.7l1.7,-1.7l-1.7,-1.7l1.7,-1.7l-1.7,-1.7l-1.7,1.7l-1.7,-1.7l-1.7,1.7l1.7,1.7l-1.7,1.7l1.7,1.7Z\" style=\"opacity: 1; stroke-width: 0px; fill: rgb(31, 119, 180); fill-opacity: 1;\"/><path class=\"point\" transform=\"translate(90.17,111.43)\" d=\"M0,1.7l1.7,1.7l1.7,-1.7l-1.7,-1.7l1.7,-1.7l-1.7,-1.7l-1.7,1.7l-1.7,-1.7l-1.7,1.7l1.7,1.7l-1.7,1.7l1.7,1.7Z\" style=\"opacity: 1; stroke-width: 0px; fill: rgb(31, 119, 180); fill-opacity: 1;\"/><path class=\"point\" transform=\"translate(48.42,78.7)\" d=\"M0,1.7l1.7,1.7l1.7,-1.7l-1.7,-1.7l1.7,-1.7l-1.7,-1.7l-1.7,1.7l-1.7,-1.7l-1.7,1.7l1.7,1.7l-1.7,1.7l1.7,1.7Z\" style=\"opacity: 1; stroke-width: 0px; fill: rgb(31, 119, 180); fill-opacity: 1;\"/><path class=\"point\" transform=\"translate(54.84,101.23)\" d=\"M0,1.7l1.7,1.7l1.7,-1.7l-1.7,-1.7l1.7,-1.7l-1.7,-1.7l-1.7,1.7l-1.7,-1.7l-1.7,1.7l1.7,1.7l-1.7,1.7l1.7,1.7Z\" style=\"opacity: 1; stroke-width: 0px; fill: rgb(31, 119, 180); fill-opacity: 1;\"/><path class=\"point\" transform=\"translate(186.52,82.51)\" d=\"M0,1.7l1.7,1.7l1.7,-1.7l-1.7,-1.7l1.7,-1.7l-1.7,-1.7l-1.7,1.7l-1.7,-1.7l-1.7,1.7l1.7,1.7l-1.7,1.7l1.7,1.7Z\" style=\"opacity: 1; stroke-width: 0px; fill: rgb(31, 119, 180); fill-opacity: 1;\"/><path class=\"point\" transform=\"translate(154.41,93.62)\" d=\"M0,1.7l1.7,1.7l1.7,-1.7l-1.7,-1.7l1.7,-1.7l-1.7,-1.7l-1.7,1.7l-1.7,-1.7l-1.7,1.7l1.7,1.7l-1.7,1.7l1.7,1.7Z\" style=\"opacity: 1; stroke-width: 0px; fill: rgb(31, 119, 180); fill-opacity: 1;\"/><path class=\"point\" transform=\"translate(202.58,125.74)\" d=\"M0,1.7l1.7,1.7l1.7,-1.7l-1.7,-1.7l1.7,-1.7l-1.7,-1.7l-1.7,1.7l-1.7,-1.7l-1.7,1.7l1.7,1.7l-1.7,1.7l1.7,1.7Z\" style=\"opacity: 1; stroke-width: 0px; fill: rgb(31, 119, 180); fill-opacity: 1;\"/><path class=\"point\" transform=\"translate(151.19,108.54)\" d=\"M0,1.7l1.7,1.7l1.7,-1.7l-1.7,-1.7l1.7,-1.7l-1.7,-1.7l-1.7,1.7l-1.7,-1.7l-1.7,1.7l1.7,1.7l-1.7,1.7l1.7,1.7Z\" style=\"opacity: 1; stroke-width: 0px; fill: rgb(31, 119, 180); fill-opacity: 1;\"/><path class=\"point\" transform=\"translate(125.5,126.8)\" d=\"M0,1.7l1.7,1.7l1.7,-1.7l-1.7,-1.7l1.7,-1.7l-1.7,-1.7l-1.7,1.7l-1.7,-1.7l-1.7,1.7l1.7,1.7l-1.7,1.7l1.7,1.7Z\" style=\"opacity: 1; stroke-width: 0px; fill: rgb(31, 119, 180); fill-opacity: 1;\"/><path class=\"point\" transform=\"translate(180.1,161.2)\" d=\"M0,1.7l1.7,1.7l1.7,-1.7l-1.7,-1.7l1.7,-1.7l-1.7,-1.7l-1.7,1.7l-1.7,-1.7l-1.7,1.7l1.7,1.7l-1.7,1.7l1.7,1.7Z\" style=\"opacity: 1; stroke-width: 0px; fill: rgb(31, 119, 180); fill-opacity: 1;\"/><path class=\"point\" transform=\"translate(183.31,148.72)\" d=\"M0,1.7l1.7,1.7l1.7,-1.7l-1.7,-1.7l1.7,-1.7l-1.7,-1.7l-1.7,1.7l-1.7,-1.7l-1.7,1.7l1.7,1.7l-1.7,1.7l1.7,1.7Z\" style=\"opacity: 1; stroke-width: 0px; fill: rgb(31, 119, 180); fill-opacity: 1;\"/><path class=\"point\" transform=\"translate(218.64,165)\" d=\"M0,1.7l1.7,1.7l1.7,-1.7l-1.7,-1.7l1.7,-1.7l-1.7,-1.7l-1.7,1.7l-1.7,-1.7l-1.7,1.7l1.7,1.7l-1.7,1.7l1.7,1.7Z\" style=\"opacity: 1; stroke-width: 0px; fill: rgb(31, 119, 180); fill-opacity: 1;\"/><path class=\"point\" transform=\"translate(189.74,145.52)\" d=\"M0,1.7l1.7,1.7l1.7,-1.7l-1.7,-1.7l1.7,-1.7l-1.7,-1.7l-1.7,1.7l-1.7,-1.7l-1.7,1.7l1.7,1.7l-1.7,1.7l1.7,1.7Z\" style=\"opacity: 1; stroke-width: 0px; fill: rgb(31, 119, 180); fill-opacity: 1;\"/><path class=\"point\" transform=\"translate(70.9,110.51)\" d=\"M0,1.7l1.7,1.7l1.7,-1.7l-1.7,-1.7l1.7,-1.7l-1.7,-1.7l-1.7,1.7l-1.7,-1.7l-1.7,1.7l1.7,1.7l-1.7,1.7l1.7,1.7Z\" style=\"opacity: 1; stroke-width: 0px; fill: rgb(31, 119, 180); fill-opacity: 1;\"/><path class=\"point\" transform=\"translate(205.79,111.73)\" d=\"M0,1.7l1.7,1.7l1.7,-1.7l-1.7,-1.7l1.7,-1.7l-1.7,-1.7l-1.7,1.7l-1.7,-1.7l-1.7,1.7l1.7,1.7l-1.7,1.7l1.7,1.7Z\" style=\"opacity: 1; stroke-width: 0px; fill: rgb(31, 119, 180); fill-opacity: 1;\"/><path class=\"point\" transform=\"translate(51.63,123.15)\" d=\"M0,1.7l1.7,1.7l1.7,-1.7l-1.7,-1.7l1.7,-1.7l-1.7,-1.7l-1.7,1.7l-1.7,-1.7l-1.7,1.7l1.7,1.7l-1.7,1.7l1.7,1.7Z\" style=\"opacity: 1; stroke-width: 0px; fill: rgb(31, 119, 180); fill-opacity: 1;\"/><path class=\"point\" transform=\"translate(90.17,70.64)\" d=\"M0,1.7l1.7,1.7l1.7,-1.7l-1.7,-1.7l1.7,-1.7l-1.7,-1.7l-1.7,1.7l-1.7,-1.7l-1.7,1.7l1.7,1.7l-1.7,1.7l1.7,1.7Z\" style=\"opacity: 1; stroke-width: 0px; fill: rgb(31, 119, 180); fill-opacity: 1;\"/><path class=\"point\" transform=\"translate(61.26,77.49)\" d=\"M0,1.7l1.7,1.7l1.7,-1.7l-1.7,-1.7l1.7,-1.7l-1.7,-1.7l-1.7,1.7l-1.7,-1.7l-1.7,1.7l1.7,1.7l-1.7,1.7l1.7,1.7Z\" style=\"opacity: 1; stroke-width: 0px; fill: rgb(31, 119, 180); fill-opacity: 1;\"/><path class=\"point\" transform=\"translate(54.84,96.51)\" d=\"M0,1.7l1.7,1.7l1.7,-1.7l-1.7,-1.7l1.7,-1.7l-1.7,-1.7l-1.7,1.7l-1.7,-1.7l-1.7,1.7l1.7,1.7l-1.7,1.7l1.7,1.7Z\" style=\"opacity: 1; stroke-width: 0px; fill: rgb(31, 119, 180); fill-opacity: 1;\"/></g><g class=\"text\"/></g><g class=\"trace scatter trace6fe800\" style=\"stroke-miterlimit: 2; opacity: 1;\"><g class=\"fills\"/><g class=\"errorbars\"/><g class=\"lines\"><path class=\"js-line\" d=\"M16.3,59L218.64,141.32\" style=\"vector-effect: non-scaling-stroke; fill: none; stroke: rgb(31, 119, 180); stroke-opacity: 1; stroke-width: 2px; opacity: 1;\"/></g><g class=\"points\"/><g class=\"text\"/></g></g></g><g class=\"overplot\"/><path class=\"xlines-above crisp\" d=\"M56,191.5H308\" style=\"fill: none; stroke-width: 1px; stroke: rgb(36, 36, 36); stroke-opacity: 1;\"/><path class=\"ylines-above crisp\" d=\"M56.5,10V191\" style=\"fill: none; stroke-width: 1px; stroke: rgb(36, 36, 36); stroke-opacity: 1;\"/><g class=\"overlines-above\"/><g class=\"xaxislayer-above\"><path class=\"xtick ticks crisp\" d=\"M0,192v5\" transform=\"translate(95.78,0)\" style=\"stroke: rgb(68, 68, 68); stroke-opacity: 1; stroke-width: 1px;\"/><path class=\"xtick ticks crisp\" d=\"M0,192v5\" transform=\"translate(160.01999999999998,0)\" style=\"stroke: rgb(68, 68, 68); stroke-opacity: 1; stroke-width: 1px;\"/><path class=\"xtick ticks crisp\" d=\"M0,192v5\" transform=\"translate(224.25,0)\" style=\"stroke: rgb(68, 68, 68); stroke-opacity: 1; stroke-width: 1px;\"/><path class=\"xtick ticks crisp\" d=\"M0,192v5\" transform=\"translate(288.49,0)\" style=\"stroke: rgb(68, 68, 68); stroke-opacity: 1; stroke-width: 1px;\"/><g class=\"xtick\"><text text-anchor=\"middle\" x=\"0\" y=\"211.4\" transform=\"translate(95.78,0)\" style=\"font-family: 'Open Sans', verdana, arial, sans-serif; font-size: 12px; fill: rgb(36, 36, 36); fill-opacity: 1; white-space: pre; opacity: 1;\">20</text></g><g class=\"xtick\"><text text-anchor=\"middle\" x=\"0\" y=\"211.4\" style=\"font-family: 'Open Sans', verdana, arial, sans-serif; font-size: 12px; fill: rgb(36, 36, 36); fill-opacity: 1; white-space: pre; opacity: 1;\" transform=\"translate(160.01999999999998,0)\">40</text></g><g class=\"xtick\"><text text-anchor=\"middle\" x=\"0\" y=\"211.4\" style=\"font-family: 'Open Sans', verdana, arial, sans-serif; font-size: 12px; fill: rgb(36, 36, 36); fill-opacity: 1; white-space: pre; opacity: 1;\" transform=\"translate(224.25,0)\">60</text></g><g class=\"xtick\"><text text-anchor=\"middle\" x=\"0\" y=\"211.4\" style=\"font-family: 'Open Sans', verdana, arial, sans-serif; font-size: 12px; fill: rgb(36, 36, 36); fill-opacity: 1; white-space: pre; opacity: 1;\" transform=\"translate(288.49,0)\">80</text></g></g><g class=\"yaxislayer-above\"><path class=\"ytick ticks crisp\" d=\"M56,0h-5\" transform=\"translate(0,121.73)\" style=\"stroke: rgb(68, 68, 68); stroke-opacity: 1; stroke-width: 1px;\"/><path class=\"ytick ticks crisp\" d=\"M56,0h-5\" transform=\"translate(0,45.63)\" style=\"stroke: rgb(68, 68, 68); stroke-opacity: 1; stroke-width: 1px;\"/><g class=\"ytick\"><text text-anchor=\"end\" x=\"48.6\" y=\"4.199999999999999\" transform=\"translate(0,121.73)\" style=\"font-family: 'Open Sans', verdana, arial, sans-serif; font-size: 12px; fill: rgb(36, 36, 36); fill-opacity: 1; white-space: pre; opacity: 1;\">10</text></g><g class=\"ytick\"><text text-anchor=\"end\" x=\"48.6\" y=\"4.199999999999999\" style=\"font-family: 'Open Sans', verdana, arial, sans-serif; font-size: 12px; fill: rgb(36, 36, 36); fill-opacity: 1; white-space: pre; opacity: 1;\" transform=\"translate(0,45.63)\">15</text></g></g><g class=\"overaxes-above\"/></g></g><g class=\"polarlayer\"/><g class=\"smithlayer\"/><g class=\"ternarylayer\"/><g class=\"geolayer\"/><g class=\"funnelarealayer\"/><g class=\"pielayer\"/><g class=\"iciclelayer\"/><g class=\"treemaplayer\"/><g class=\"sunburstlayer\"/><g class=\"glimages\"/><defs id=\"topdefs-f9c5ac\"><g class=\"clips\"/><clipPath id=\"legendf9c5ac\"><rect width=\"77\" height=\"105\" x=\"0\" y=\"0\"/></clipPath></defs><g class=\"layer-above\"><g class=\"imagelayer\"/><g class=\"shapelayer\"/></g><g class=\"infolayer\"><g class=\"legend\" pointer-events=\"all\" transform=\"translate(313.02,10)\"><rect class=\"bg\" shape-rendering=\"crispEdges\" style=\"stroke: rgb(68, 68, 68); stroke-opacity: 1; fill: rgb(255, 255, 255); fill-opacity: 1; stroke-width: 0px;\" width=\"77\" height=\"105\" x=\"0\" y=\"0\"/><g class=\"scrollbox\" transform=\"\" clip-path=\"url(#legendf9c5ac)\"><text class=\"legendtitletext\" text-anchor=\"start\" x=\"2\" y=\"18.2\" style=\"font-family: 'Open Sans', verdana, arial, sans-serif; font-size: 14px; fill: rgb(36, 36, 36); fill-opacity: 1; white-space: pre;\">repetition</text><g class=\"groups\" transform=\"\"><g class=\"traces\" transform=\"translate(0,32.7)\" style=\"opacity: 1;\"><text class=\"legendtext\" text-anchor=\"start\" x=\"40\" y=\"4.680000000000001\" style=\"font-family: 'Open Sans', verdana, arial, sans-serif; font-size: 12px; fill: rgb(36, 36, 36); fill-opacity: 1; white-space: pre;\">&#60;15</text><g class=\"layers\" style=\"opacity: 1;\"><g class=\"legendfill\"/><g class=\"legendlines\"/><g class=\"legendsymbols\"><g class=\"legendpoints\"><path class=\"scatterpts\" transform=\"translate(20,0)\" d=\"M3,0A3,3 0 1,1 0,-3A3,3 0 0,1 3,0Z\" style=\"opacity: 1; stroke-width: 0px; fill: rgb(31, 119, 180); fill-opacity: 1;\"/></g></g></g><rect class=\"legendtoggle\" x=\"0\" y=\"-9.5\" width=\"71.3125\" height=\"19\" style=\"fill: rgb(0, 0, 0); fill-opacity: 0;\"/></g></g><g class=\"groups\" transform=\"\"><g class=\"traces\" transform=\"translate(0,51.7)\" style=\"opacity: 1;\"><text class=\"legendtext\" text-anchor=\"start\" x=\"40\" y=\"4.680000000000001\" style=\"font-family: 'Open Sans', verdana, arial, sans-serif; font-size: 12px; fill: rgb(36, 36, 36); fill-opacity: 1; white-space: pre;\">15-25</text><g class=\"layers\" style=\"opacity: 1;\"><g class=\"legendfill\"/><g class=\"legendlines\"/><g class=\"legendsymbols\"><g class=\"legendpoints\"><path class=\"scatterpts\" transform=\"translate(20,0)\" d=\"M3.9,0L0,3.9L-3.9,0L0,-3.9Z\" style=\"opacity: 1; stroke-width: 0px; fill: rgb(31, 119, 180); fill-opacity: 1;\"/></g></g></g><rect class=\"legendtoggle\" x=\"0\" y=\"-9.5\" width=\"71.3125\" height=\"19\" style=\"fill: rgb(0, 0, 0); fill-opacity: 0;\"/></g></g><g class=\"groups\" transform=\"\"><g class=\"traces\" transform=\"translate(0,70.7)\" style=\"opacity: 1;\"><text class=\"legendtext\" text-anchor=\"start\" x=\"40\" y=\"4.680000000000001\" style=\"font-family: 'Open Sans', verdana, arial, sans-serif; font-size: 12px; fill: rgb(36, 36, 36); fill-opacity: 1; white-space: pre;\">25-40</text><g class=\"layers\" style=\"opacity: 1;\"><g class=\"legendfill\"/><g class=\"legendlines\"/><g class=\"legendsymbols\"><g class=\"legendpoints\"><path class=\"scatterpts\" transform=\"translate(20,0)\" d=\"M3,3H-3V-3H3Z\" style=\"opacity: 1; stroke-width: 0px; fill: rgb(31, 119, 180); fill-opacity: 1;\"/></g></g></g><rect class=\"legendtoggle\" x=\"0\" y=\"-9.5\" width=\"71.3125\" height=\"19\" style=\"fill: rgb(0, 0, 0); fill-opacity: 0;\"/></g></g><g class=\"groups\" transform=\"\"><g class=\"traces\" transform=\"translate(0,89.7)\" style=\"opacity: 1;\"><text class=\"legendtext\" text-anchor=\"start\" x=\"40\" y=\"4.680000000000001\" style=\"font-family: 'Open Sans', verdana, arial, sans-serif; font-size: 12px; fill: rgb(36, 36, 36); fill-opacity: 1; white-space: pre;\">40+</text><g class=\"layers\" style=\"opacity: 1;\"><g class=\"legendfill\"/><g class=\"legendlines\"/><g class=\"legendsymbols\"><g class=\"legendpoints\"><path class=\"scatterpts\" transform=\"translate(20,0)\" d=\"M0,1.7l1.7,1.7l1.7,-1.7l-1.7,-1.7l1.7,-1.7l-1.7,-1.7l-1.7,1.7l-1.7,-1.7l-1.7,1.7l1.7,1.7l-1.7,1.7l1.7,1.7Z\" style=\"opacity: 1; stroke-width: 0px; fill: rgb(31, 119, 180); fill-opacity: 1;\"/></g></g></g><rect class=\"legendtoggle\" x=\"0\" y=\"-9.5\" width=\"71.3125\" height=\"19\" style=\"fill: rgb(0, 0, 0); fill-opacity: 0;\"/></g></g></g><rect class=\"scrollbar\" rx=\"20\" ry=\"3\" width=\"0\" height=\"0\" style=\"fill: rgb(128, 139, 164); fill-opacity: 1;\" x=\"0\" y=\"0\"/></g><g class=\"g-gtitle\"/><g class=\"g-xtitle\"><text class=\"xtitle\" x=\"182.5\" y=\"239.70625\" text-anchor=\"middle\" style=\"font-family: 'Open Sans', verdana, arial, sans-serif; font-size: 14px; fill: rgb(36, 36, 36); opacity: 1; font-weight: normal; white-space: pre;\">height</text></g><g class=\"g-ytitle\" transform=\"translate(4.9248046875,0)\"><text class=\"ytitle\" transform=\"rotate(-90,10.075000000000003,100.5)\" x=\"10.075000000000003\" y=\"100.5\" text-anchor=\"middle\" style=\"font-family: 'Open Sans', verdana, arial, sans-serif; font-size: 14px; fill: rgb(36, 36, 36); opacity: 1; font-weight: normal; white-space: pre;\">longevity</text></g></g></svg>"
      ]
     },
     "metadata": {},
     "output_type": "display_data"
    }
   ],
   "source": [
    "fig = px.scatter(dogs.dropna(subset=['repetition']), x='height', y='longevity', \n",
    "                 symbol='repetition', trendline='ols',\n",
    "                width=400, height=250)\n",
    "fig.show()"
   ]
  },
  {
   "cell_type": "markdown",
   "metadata": {},
   "source": [
    "This plot would be challenging to interpret if there were\n",
    "more levels within the `repetition` feature.\n",
    "\n",
    "Next, we address plotting techniques that help make comparisons and\n",
    "uncover structure in three or more features."
   ]
  },
  {
   "cell_type": "markdown",
   "metadata": {},
   "source": [
    "**Combinations Across Groups**. When we examine relationships between\n",
    "qualitative features, we examine proportions of one feature within subgroups\n",
    "defined by another feature. \n",
    "In the previous section, the three line plots in one figure and the side-by-side bar plots both display such comparisons. With three (or more) qualitative features, we can\n",
    "continue to subdivide the data according to the combinations of levels of the features\n",
    "and compare these proportions using line plots, dot charts, side-by-side bar charts, etc. \n",
    "But, these plots tend to get increasingly difficult to understand with further subdivisions."
   ]
  },
  {
   "cell_type": "markdown",
   "metadata": {},
   "source": [
    "**Panels of Scatter Plots**.\n",
    "The previous scatter plot shows how to use different symbols to represent qualitative features.  These distinctions enable us to\n",
    "examine the relationship between three variables (2 quantitative and 1\n",
    "qualitative). Another technique for examining these multi-variable relationships\n",
    "is to make a grid of conditional plots, also called *facets*."
   ]
  },
  {
   "cell_type": "markdown",
   "metadata": {},
   "source": [
    "The facet plot below is one example; each of the six scatter plots shows the\n",
    "relationship between longevity and height for a different range of repetitions.\n",
    "By separating scatter plots, we can assess how the relationship between two\n",
    "quantitative values changes across the subgroups. And, we can more easily see the range of\n",
    "height and longevity for each repetition range."
   ]
  },
  {
   "cell_type": "code",
   "execution_count": 3,
   "metadata": {
    "tags": [
     "remove-input"
    ]
   },
   "outputs": [
    {
     "data": {
      "application/vnd.plotly.v1+json": {
       "config": {
        "plotlyServerURL": "https://plot.ly"
       },
       "data": [
        {
         "hovertemplate": "repetition=<5<br>height=%{x}<br>longevity=%{y}<extra></extra>",
         "legendgroup": "",
         "marker": {
          "color": "#1F77B4",
          "symbol": "circle"
         },
         "mode": "markers",
         "name": "",
         "orientation": "v",
         "showlegend": false,
         "type": "scatter",
         "x": [
          51,
          24,
          47,
          37,
          41,
          58,
          58,
          66,
          62,
          61
         ],
         "xaxis": "x5",
         "y": [
          12.52,
          13,
          11.67,
          12.53,
          11.95,
          12.04,
          12.04,
          10.33,
          9.11,
          9.73
         ],
         "yaxis": "y5"
        },
        {
         "hovertemplate": "<b>OLS trendline</b><br>longevity = -0.0721137 * height + 15.1337<br>R<sup>2</sup>=0.535115<br><br>repetition=<5<br>height=%{x}<br>longevity=%{y} <b>(trend)</b><extra></extra>",
         "legendgroup": "",
         "marker": {
          "color": "#1F77B4",
          "symbol": "circle"
         },
         "mode": "lines",
         "name": "",
         "showlegend": false,
         "type": "scatter",
         "x": [
          24,
          37,
          41,
          47,
          51,
          58,
          58,
          61,
          62,
          66
         ],
         "xaxis": "x5",
         "y": [
          13.40301421800947,
          12.465535545023691,
          12.177080568720374,
          11.744398104265398,
          11.455943127962081,
          10.951146919431277,
          10.951146919431277,
          10.734805687203789,
          10.66269194312796,
          10.374236966824643
         ],
         "yaxis": "y5"
        },
        {
         "hovertemplate": "repetition=15-25<br>height=%{x}<br>longevity=%{y}<extra></extra>",
         "legendgroup": "",
         "marker": {
          "color": "#1F77B4",
          "symbol": "circle"
         },
         "mode": "markers",
         "name": "",
         "orientation": "v",
         "showlegend": false,
         "type": "scatter",
         "x": [
          null,
          25,
          46,
          26,
          27,
          null,
          66,
          58,
          54,
          60,
          64,
          62,
          62,
          53,
          65,
          47,
          65,
          47,
          69,
          58,
          46,
          53,
          44,
          null,
          29,
          51,
          25,
          42,
          24
         ],
         "xaxis": "x6",
         "y": [
          14,
          13.84,
          12.49,
          11.42,
          11.05,
          12.6,
          11.63,
          11.83,
          12.44,
          9.48,
          11.1,
          11.57,
          11.17,
          11.27,
          10.34,
          10,
          10,
          9.4,
          9.32,
          11.45,
          null,
          12.77,
          9.9,
          9.32,
          null,
          null,
          null,
          null,
          14.25
         ],
         "yaxis": "y6"
        },
        {
         "hovertemplate": "<b>OLS trendline</b><br>longevity = -0.0456982 * height + 13.6117<br>R<sup>2</sup>=0.235689<br><br>repetition=15-25<br>height=%{x}<br>longevity=%{y} <b>(trend)</b><extra></extra>",
         "legendgroup": "",
         "marker": {
          "color": "#1F77B4",
          "symbol": "circle"
         },
         "mode": "lines",
         "name": "",
         "showlegend": false,
         "type": "scatter",
         "x": [
          24,
          25,
          26,
          27,
          44,
          46,
          47,
          47,
          53,
          53,
          54,
          58,
          58,
          60,
          62,
          62,
          64,
          65,
          65,
          66,
          69
         ],
         "xaxis": "x6",
         "y": [
          12.51493683198425,
          12.469238629757161,
          12.423540427530067,
          12.377842225302977,
          11.600972787442418,
          11.509576382988234,
          11.463878180761142,
          11.463878180761142,
          11.189688967398592,
          11.189688967398592,
          11.1439907651715,
          10.961197956263133,
          10.961197956263133,
          10.86980155180895,
          10.778405147354766,
          10.778405147354766,
          10.687008742900582,
          10.64131054067349,
          10.64131054067349,
          10.595612338446399,
          10.458517731765124
         ],
         "yaxis": "y6"
        },
        {
         "hovertemplate": "repetition=5-15<br>height=%{x}<br>longevity=%{y}<extra></extra>",
         "legendgroup": "",
         "marker": {
          "color": "#1F77B4",
          "symbol": "circle"
         },
         "mode": "markers",
         "name": "",
         "orientation": "v",
         "showlegend": false,
         "type": "scatter",
         "x": [
          48,
          41,
          37,
          33,
          50,
          61,
          null,
          59,
          61,
          28,
          64,
          61,
          61,
          29,
          61,
          57,
          44,
          29,
          47,
          57,
          64
         ],
         "xaxis": "x3",
         "y": [
          12.92,
          11.66,
          12.5,
          11.81,
          12.54,
          11.46,
          9.67,
          9.02,
          10.6,
          12.25,
          7.56,
          null,
          null,
          12.7,
          null,
          9.33,
          12.17,
          13,
          null,
          12.5,
          null
         ],
         "yaxis": "y3"
        },
        {
         "hovertemplate": "<b>OLS trendline</b><br>longevity = -0.0828993 * height + 15.3256<br>R<sup>2</sup>=0.441182<br><br>repetition=5-15<br>height=%{x}<br>longevity=%{y} <b>(trend)</b><extra></extra>",
         "legendgroup": "",
         "marker": {
          "color": "#1F77B4",
          "symbol": "circle"
         },
         "mode": "lines",
         "name": "",
         "showlegend": false,
         "type": "scatter",
         "x": [
          28,
          29,
          29,
          33,
          37,
          41,
          44,
          48,
          50,
          57,
          57,
          59,
          61,
          61,
          64
         ],
         "xaxis": "x3",
         "y": [
          13.004400156748597,
          12.9215008677154,
          12.9215008677154,
          12.589903711582611,
          12.258306555449822,
          11.926709399317033,
          11.678011532217441,
          11.346414376084653,
          11.180615798018259,
          10.600320774785878,
          10.600320774785878,
          10.434522196719483,
          10.26872361865309,
          10.26872361865309,
          10.020025751553497
         ],
         "yaxis": "y3"
        },
        {
         "hovertemplate": "repetition=25-40<br>height=%{x}<br>longevity=%{y}<extra></extra>",
         "legendgroup": "",
         "marker": {
          "color": "#1F77B4",
          "symbol": "circle"
         },
         "mode": "markers",
         "name": "",
         "orientation": "v",
         "showlegend": false,
         "type": "scatter",
         "x": [
          55,
          null,
          51,
          27,
          null,
          27,
          65,
          25,
          52,
          null,
          25,
          32,
          38,
          58,
          null,
          66,
          65,
          59,
          61,
          81,
          76,
          58,
          42,
          64,
          48,
          64,
          61,
          45,
          61,
          64,
          46,
          71,
          65,
          null,
          38,
          46,
          38,
          38,
          56
         ],
         "xaxis": "x4",
         "y": [
          12.58,
          12.63,
          12.87,
          12.8,
          13.51,
          12.21,
          12.42,
          14.42,
          12.28,
          10.92,
          10.1,
          11.29,
          12.05,
          12,
          9.36,
          10.16,
          9.1,
          8.81,
          10.67,
          6.94,
          6.96,
          null,
          null,
          null,
          null,
          10.75,
          null,
          11.17,
          10,
          null,
          null,
          null,
          10.8,
          8.7,
          13.17,
          12.16,
          null,
          13.17,
          8.8
         ],
         "yaxis": "y4"
        },
        {
         "hovertemplate": "<b>OLS trendline</b><br>longevity = -0.0787387 * height + 15.126<br>R<sup>2</sup>=0.445933<br><br>repetition=25-40<br>height=%{x}<br>longevity=%{y} <b>(trend)</b><extra></extra>",
         "legendgroup": "",
         "marker": {
          "color": "#1F77B4",
          "symbol": "circle"
         },
         "mode": "lines",
         "name": "",
         "showlegend": false,
         "type": "scatter",
         "x": [
          25,
          25,
          27,
          27,
          32,
          38,
          38,
          38,
          45,
          46,
          51,
          52,
          55,
          56,
          58,
          59,
          61,
          61,
          64,
          65,
          65,
          65,
          66,
          76,
          81
         ],
         "xaxis": "x4",
         "y": [
          13.157556712036289,
          13.157556712036289,
          13.000079237993562,
          13.000079237993562,
          12.606385552886746,
          12.133953130758567,
          12.133953130758567,
          12.133953130758567,
          11.582781971609025,
          11.504043234587662,
          11.110349549480848,
          11.031610812459483,
          10.795394601395394,
          10.71665586437403,
          10.559178390331304,
          10.48043965330994,
          10.322962179267215,
          10.322962179267215,
          10.086745968203125,
          10.008007231181761,
          10.008007231181761,
          10.008007231181761,
          9.9292684941604,
          9.141881123946767,
          8.748187438839953
         ],
         "yaxis": "y4"
        },
        {
         "hovertemplate": "repetition=40-80<br>height=%{x}<br>longevity=%{y}<extra></extra>",
         "legendgroup": "",
         "marker": {
          "color": "#1F77B4",
          "symbol": "circle"
         },
         "mode": "markers",
         "name": "",
         "orientation": "v",
         "showlegend": false,
         "type": "scatter",
         "x": [
          27,
          13,
          23,
          null,
          39,
          41,
          24,
          36,
          23,
          25,
          56,
          null,
          55,
          65,
          67,
          30,
          72,
          24,
          37,
          36,
          27,
          25
         ],
         "xaxis": "x",
         "y": [
          13.92,
          16.5,
          12.25,
          12,
          12.31,
          11,
          13.07,
          10.02,
          12.17,
          10.69,
          11.19,
          9,
          10.21,
          7.57,
          7.78,
          10.08,
          10,
          9.25,
          null,
          12.7,
          12.25,
          11
         ],
         "yaxis": "y"
        },
        {
         "hovertemplate": "<b>OLS trendline</b><br>longevity = -0.0804802 * height + 14.26<br>R<sup>2</sup>=0.443950<br><br>repetition=40-80<br>height=%{x}<br>longevity=%{y} <b>(trend)</b><extra></extra>",
         "legendgroup": "",
         "marker": {
          "color": "#1F77B4",
          "symbol": "circle"
         },
         "mode": "lines",
         "name": "",
         "showlegend": false,
         "type": "scatter",
         "x": [
          13,
          23,
          23,
          24,
          24,
          25,
          25,
          27,
          27,
          30,
          36,
          36,
          39,
          41,
          55,
          56,
          65,
          67,
          72
         ],
         "xaxis": "x",
         "y": [
          13.213755303965442,
          12.408953768708539,
          12.408953768708539,
          12.328473615182848,
          12.328473615182848,
          12.247993461657158,
          12.247993461657158,
          12.087033154605777,
          12.087033154605777,
          11.845592694028706,
          11.362711772874563,
          11.362711772874563,
          11.121271312297491,
          10.960311005246112,
          9.833588855886445,
          9.753108702360755,
          9.02878732062954,
          8.867827013578161,
          8.465426245949708
         ],
         "yaxis": "y"
        },
        {
         "hovertemplate": "repetition=80-100<br>height=%{x}<br>longevity=%{y}<extra></extra>",
         "legendgroup": "",
         "marker": {
          "color": "#1F77B4",
          "symbol": "circle"
         },
         "mode": "markers",
         "name": "",
         "orientation": "v",
         "showlegend": false,
         "type": "scatter",
         "x": [
          25,
          36,
          36,
          42,
          66,
          null,
          71,
          47,
          64,
          76,
          null
         ],
         "xaxis": "x2",
         "y": [
          13.2,
          12.3,
          11.43,
          13.58,
          11.92,
          11.56,
          9.08,
          9.01,
          6.75,
          6.5,
          6.29
         ],
         "yaxis": "y2"
        },
        {
         "hovertemplate": "<b>OLS trendline</b><br>longevity = -0.109247 * height + 16.039<br>R<sup>2</sup>=0.551488<br><br>repetition=80-100<br>height=%{x}<br>longevity=%{y} <b>(trend)</b><extra></extra>",
         "legendgroup": "",
         "marker": {
          "color": "#1F77B4",
          "symbol": "circle"
         },
         "mode": "lines",
         "name": "",
         "showlegend": false,
         "type": "scatter",
         "x": [
          25,
          36,
          36,
          42,
          47,
          64,
          66,
          71,
          76
         ],
         "xaxis": "x2",
         "y": [
          13.307857082737144,
          12.106143422270854,
          12.106143422270854,
          11.450663243834697,
          10.904429761804566,
          9.047235922902122,
          8.828742530090068,
          8.282509048059937,
          7.736275566029807
         ],
         "yaxis": "y2"
        }
       ],
       "layout": {
        "annotations": [
         {
          "font": {},
          "showarrow": false,
          "text": "repetition=40-80",
          "x": 0.245,
          "xanchor": "center",
          "xref": "paper",
          "y": 0.2866666666666666,
          "yanchor": "bottom",
          "yref": "paper"
         },
         {
          "font": {},
          "showarrow": false,
          "text": "repetition=80-100",
          "x": 0.755,
          "xanchor": "center",
          "xref": "paper",
          "y": 0.2866666666666666,
          "yanchor": "bottom",
          "yref": "paper"
         },
         {
          "font": {},
          "showarrow": false,
          "text": "repetition=5-15",
          "x": 0.245,
          "xanchor": "center",
          "xref": "paper",
          "y": 0.6433333333333333,
          "yanchor": "bottom",
          "yref": "paper"
         },
         {
          "font": {},
          "showarrow": false,
          "text": "repetition=25-40",
          "x": 0.755,
          "xanchor": "center",
          "xref": "paper",
          "y": 0.6433333333333333,
          "yanchor": "bottom",
          "yref": "paper"
         },
         {
          "font": {},
          "showarrow": false,
          "text": "repetition=<5",
          "x": 0.245,
          "xanchor": "center",
          "xref": "paper",
          "y": 0.9999999999999999,
          "yanchor": "bottom",
          "yref": "paper"
         },
         {
          "font": {},
          "showarrow": false,
          "text": "repetition=15-25",
          "x": 0.755,
          "xanchor": "center",
          "xref": "paper",
          "y": 0.9999999999999999,
          "yanchor": "bottom",
          "yref": "paper"
         }
        ],
        "height": 400,
        "legend": {
         "tracegroupgap": 0
        },
        "margin": {
         "t": 30
        },
        "template": {
         "data": {
          "bar": [
           {
            "error_x": {
             "color": "rgb(36,36,36)"
            },
            "error_y": {
             "color": "rgb(36,36,36)"
            },
            "marker": {
             "line": {
              "color": "white",
              "width": 0.5
             },
             "pattern": {
              "fillmode": "overlay",
              "size": 10,
              "solidity": 0.2
             }
            },
            "type": "bar"
           }
          ],
          "barpolar": [
           {
            "marker": {
             "line": {
              "color": "white",
              "width": 0.5
             },
             "pattern": {
              "fillmode": "overlay",
              "size": 10,
              "solidity": 0.2
             }
            },
            "type": "barpolar"
           }
          ],
          "carpet": [
           {
            "aaxis": {
             "endlinecolor": "rgb(36,36,36)",
             "gridcolor": "white",
             "linecolor": "white",
             "minorgridcolor": "white",
             "startlinecolor": "rgb(36,36,36)"
            },
            "baxis": {
             "endlinecolor": "rgb(36,36,36)",
             "gridcolor": "white",
             "linecolor": "white",
             "minorgridcolor": "white",
             "startlinecolor": "rgb(36,36,36)"
            },
            "type": "carpet"
           }
          ],
          "choropleth": [
           {
            "colorbar": {
             "outlinewidth": 1,
             "tickcolor": "rgb(36,36,36)",
             "ticks": "outside"
            },
            "type": "choropleth"
           }
          ],
          "contour": [
           {
            "colorbar": {
             "outlinewidth": 1,
             "tickcolor": "rgb(36,36,36)",
             "ticks": "outside"
            },
            "colorscale": [
             [
              0,
              "#440154"
             ],
             [
              0.1111111111111111,
              "#482878"
             ],
             [
              0.2222222222222222,
              "#3e4989"
             ],
             [
              0.3333333333333333,
              "#31688e"
             ],
             [
              0.4444444444444444,
              "#26828e"
             ],
             [
              0.5555555555555556,
              "#1f9e89"
             ],
             [
              0.6666666666666666,
              "#35b779"
             ],
             [
              0.7777777777777778,
              "#6ece58"
             ],
             [
              0.8888888888888888,
              "#b5de2b"
             ],
             [
              1,
              "#fde725"
             ]
            ],
            "type": "contour"
           }
          ],
          "contourcarpet": [
           {
            "colorbar": {
             "outlinewidth": 1,
             "tickcolor": "rgb(36,36,36)",
             "ticks": "outside"
            },
            "type": "contourcarpet"
           }
          ],
          "heatmap": [
           {
            "colorbar": {
             "outlinewidth": 1,
             "tickcolor": "rgb(36,36,36)",
             "ticks": "outside"
            },
            "colorscale": [
             [
              0,
              "#440154"
             ],
             [
              0.1111111111111111,
              "#482878"
             ],
             [
              0.2222222222222222,
              "#3e4989"
             ],
             [
              0.3333333333333333,
              "#31688e"
             ],
             [
              0.4444444444444444,
              "#26828e"
             ],
             [
              0.5555555555555556,
              "#1f9e89"
             ],
             [
              0.6666666666666666,
              "#35b779"
             ],
             [
              0.7777777777777778,
              "#6ece58"
             ],
             [
              0.8888888888888888,
              "#b5de2b"
             ],
             [
              1,
              "#fde725"
             ]
            ],
            "type": "heatmap"
           }
          ],
          "heatmapgl": [
           {
            "colorbar": {
             "outlinewidth": 1,
             "tickcolor": "rgb(36,36,36)",
             "ticks": "outside"
            },
            "colorscale": [
             [
              0,
              "#440154"
             ],
             [
              0.1111111111111111,
              "#482878"
             ],
             [
              0.2222222222222222,
              "#3e4989"
             ],
             [
              0.3333333333333333,
              "#31688e"
             ],
             [
              0.4444444444444444,
              "#26828e"
             ],
             [
              0.5555555555555556,
              "#1f9e89"
             ],
             [
              0.6666666666666666,
              "#35b779"
             ],
             [
              0.7777777777777778,
              "#6ece58"
             ],
             [
              0.8888888888888888,
              "#b5de2b"
             ],
             [
              1,
              "#fde725"
             ]
            ],
            "type": "heatmapgl"
           }
          ],
          "histogram": [
           {
            "marker": {
             "line": {
              "color": "white",
              "width": 0.6
             }
            },
            "type": "histogram"
           }
          ],
          "histogram2d": [
           {
            "colorbar": {
             "outlinewidth": 1,
             "tickcolor": "rgb(36,36,36)",
             "ticks": "outside"
            },
            "colorscale": [
             [
              0,
              "#440154"
             ],
             [
              0.1111111111111111,
              "#482878"
             ],
             [
              0.2222222222222222,
              "#3e4989"
             ],
             [
              0.3333333333333333,
              "#31688e"
             ],
             [
              0.4444444444444444,
              "#26828e"
             ],
             [
              0.5555555555555556,
              "#1f9e89"
             ],
             [
              0.6666666666666666,
              "#35b779"
             ],
             [
              0.7777777777777778,
              "#6ece58"
             ],
             [
              0.8888888888888888,
              "#b5de2b"
             ],
             [
              1,
              "#fde725"
             ]
            ],
            "type": "histogram2d"
           }
          ],
          "histogram2dcontour": [
           {
            "colorbar": {
             "outlinewidth": 1,
             "tickcolor": "rgb(36,36,36)",
             "ticks": "outside"
            },
            "colorscale": [
             [
              0,
              "#440154"
             ],
             [
              0.1111111111111111,
              "#482878"
             ],
             [
              0.2222222222222222,
              "#3e4989"
             ],
             [
              0.3333333333333333,
              "#31688e"
             ],
             [
              0.4444444444444444,
              "#26828e"
             ],
             [
              0.5555555555555556,
              "#1f9e89"
             ],
             [
              0.6666666666666666,
              "#35b779"
             ],
             [
              0.7777777777777778,
              "#6ece58"
             ],
             [
              0.8888888888888888,
              "#b5de2b"
             ],
             [
              1,
              "#fde725"
             ]
            ],
            "type": "histogram2dcontour"
           }
          ],
          "mesh3d": [
           {
            "colorbar": {
             "outlinewidth": 1,
             "tickcolor": "rgb(36,36,36)",
             "ticks": "outside"
            },
            "type": "mesh3d"
           }
          ],
          "parcoords": [
           {
            "line": {
             "colorbar": {
              "outlinewidth": 1,
              "tickcolor": "rgb(36,36,36)",
              "ticks": "outside"
             }
            },
            "type": "parcoords"
           }
          ],
          "pie": [
           {
            "automargin": true,
            "type": "pie"
           }
          ],
          "scatter": [
           {
            "marker": {
             "colorbar": {
              "outlinewidth": 1,
              "tickcolor": "rgb(36,36,36)",
              "ticks": "outside"
             }
            },
            "type": "scatter"
           }
          ],
          "scatter3d": [
           {
            "line": {
             "colorbar": {
              "outlinewidth": 1,
              "tickcolor": "rgb(36,36,36)",
              "ticks": "outside"
             }
            },
            "marker": {
             "colorbar": {
              "outlinewidth": 1,
              "tickcolor": "rgb(36,36,36)",
              "ticks": "outside"
             }
            },
            "type": "scatter3d"
           }
          ],
          "scattercarpet": [
           {
            "marker": {
             "colorbar": {
              "outlinewidth": 1,
              "tickcolor": "rgb(36,36,36)",
              "ticks": "outside"
             }
            },
            "type": "scattercarpet"
           }
          ],
          "scattergeo": [
           {
            "marker": {
             "colorbar": {
              "outlinewidth": 1,
              "tickcolor": "rgb(36,36,36)",
              "ticks": "outside"
             }
            },
            "type": "scattergeo"
           }
          ],
          "scattergl": [
           {
            "marker": {
             "colorbar": {
              "outlinewidth": 1,
              "tickcolor": "rgb(36,36,36)",
              "ticks": "outside"
             }
            },
            "type": "scattergl"
           }
          ],
          "scattermapbox": [
           {
            "marker": {
             "colorbar": {
              "outlinewidth": 1,
              "tickcolor": "rgb(36,36,36)",
              "ticks": "outside"
             }
            },
            "type": "scattermapbox"
           }
          ],
          "scatterpolar": [
           {
            "marker": {
             "colorbar": {
              "outlinewidth": 1,
              "tickcolor": "rgb(36,36,36)",
              "ticks": "outside"
             }
            },
            "type": "scatterpolar"
           }
          ],
          "scatterpolargl": [
           {
            "marker": {
             "colorbar": {
              "outlinewidth": 1,
              "tickcolor": "rgb(36,36,36)",
              "ticks": "outside"
             }
            },
            "type": "scatterpolargl"
           }
          ],
          "scatterternary": [
           {
            "marker": {
             "colorbar": {
              "outlinewidth": 1,
              "tickcolor": "rgb(36,36,36)",
              "ticks": "outside"
             }
            },
            "type": "scatterternary"
           }
          ],
          "surface": [
           {
            "colorbar": {
             "outlinewidth": 1,
             "tickcolor": "rgb(36,36,36)",
             "ticks": "outside"
            },
            "colorscale": [
             [
              0,
              "#440154"
             ],
             [
              0.1111111111111111,
              "#482878"
             ],
             [
              0.2222222222222222,
              "#3e4989"
             ],
             [
              0.3333333333333333,
              "#31688e"
             ],
             [
              0.4444444444444444,
              "#26828e"
             ],
             [
              0.5555555555555556,
              "#1f9e89"
             ],
             [
              0.6666666666666666,
              "#35b779"
             ],
             [
              0.7777777777777778,
              "#6ece58"
             ],
             [
              0.8888888888888888,
              "#b5de2b"
             ],
             [
              1,
              "#fde725"
             ]
            ],
            "type": "surface"
           }
          ],
          "table": [
           {
            "cells": {
             "fill": {
              "color": "rgb(237,237,237)"
             },
             "line": {
              "color": "white"
             }
            },
            "header": {
             "fill": {
              "color": "rgb(217,217,217)"
             },
             "line": {
              "color": "white"
             }
            },
            "type": "table"
           }
          ]
         },
         "layout": {
          "annotationdefaults": {
           "arrowhead": 0,
           "arrowwidth": 1
          },
          "autosize": true,
          "autotypenumbers": "strict",
          "coloraxis": {
           "colorbar": {
            "outlinewidth": 1,
            "tickcolor": "rgb(36,36,36)",
            "ticks": "outside"
           }
          },
          "colorscale": {
           "diverging": [
            [
             0,
             "rgb(103,0,31)"
            ],
            [
             0.1,
             "rgb(178,24,43)"
            ],
            [
             0.2,
             "rgb(214,96,77)"
            ],
            [
             0.3,
             "rgb(244,165,130)"
            ],
            [
             0.4,
             "rgb(253,219,199)"
            ],
            [
             0.5,
             "rgb(247,247,247)"
            ],
            [
             0.6,
             "rgb(209,229,240)"
            ],
            [
             0.7,
             "rgb(146,197,222)"
            ],
            [
             0.8,
             "rgb(67,147,195)"
            ],
            [
             0.9,
             "rgb(33,102,172)"
            ],
            [
             1,
             "rgb(5,48,97)"
            ]
           ],
           "sequential": [
            [
             0,
             "#440154"
            ],
            [
             0.1111111111111111,
             "#482878"
            ],
            [
             0.2222222222222222,
             "#3e4989"
            ],
            [
             0.3333333333333333,
             "#31688e"
            ],
            [
             0.4444444444444444,
             "#26828e"
            ],
            [
             0.5555555555555556,
             "#1f9e89"
            ],
            [
             0.6666666666666666,
             "#35b779"
            ],
            [
             0.7777777777777778,
             "#6ece58"
            ],
            [
             0.8888888888888888,
             "#b5de2b"
            ],
            [
             1,
             "#fde725"
            ]
           ],
           "sequentialminus": [
            [
             0,
             "#440154"
            ],
            [
             0.1111111111111111,
             "#482878"
            ],
            [
             0.2222222222222222,
             "#3e4989"
            ],
            [
             0.3333333333333333,
             "#31688e"
            ],
            [
             0.4444444444444444,
             "#26828e"
            ],
            [
             0.5555555555555556,
             "#1f9e89"
            ],
            [
             0.6666666666666666,
             "#35b779"
            ],
            [
             0.7777777777777778,
             "#6ece58"
            ],
            [
             0.8888888888888888,
             "#b5de2b"
            ],
            [
             1,
             "#fde725"
            ]
           ]
          },
          "colorway": [
           "#1F77B4",
           "#FF7F0E",
           "#2CA02C",
           "#D62728",
           "#9467BD",
           "#8C564B",
           "#E377C2",
           "#7F7F7F",
           "#BCBD22",
           "#17BECF"
          ],
          "font": {
           "color": "rgb(36,36,36)"
          },
          "geo": {
           "bgcolor": "white",
           "lakecolor": "white",
           "landcolor": "white",
           "showlakes": true,
           "showland": true,
           "subunitcolor": "white"
          },
          "height": 250,
          "hoverlabel": {
           "align": "left"
          },
          "hovermode": "closest",
          "mapbox": {
           "style": "light"
          },
          "margin": {
           "b": 10,
           "l": 10,
           "r": 10,
           "t": 10
          },
          "paper_bgcolor": "white",
          "plot_bgcolor": "white",
          "polar": {
           "angularaxis": {
            "gridcolor": "rgb(232,232,232)",
            "linecolor": "rgb(36,36,36)",
            "showgrid": false,
            "showline": true,
            "ticks": "outside"
           },
           "bgcolor": "white",
           "radialaxis": {
            "gridcolor": "rgb(232,232,232)",
            "linecolor": "rgb(36,36,36)",
            "showgrid": false,
            "showline": true,
            "ticks": "outside"
           }
          },
          "scene": {
           "xaxis": {
            "backgroundcolor": "white",
            "gridcolor": "rgb(232,232,232)",
            "gridwidth": 2,
            "linecolor": "rgb(36,36,36)",
            "showbackground": true,
            "showgrid": false,
            "showline": true,
            "ticks": "outside",
            "zeroline": false,
            "zerolinecolor": "rgb(36,36,36)"
           },
           "yaxis": {
            "backgroundcolor": "white",
            "gridcolor": "rgb(232,232,232)",
            "gridwidth": 2,
            "linecolor": "rgb(36,36,36)",
            "showbackground": true,
            "showgrid": false,
            "showline": true,
            "ticks": "outside",
            "zeroline": false,
            "zerolinecolor": "rgb(36,36,36)"
           },
           "zaxis": {
            "backgroundcolor": "white",
            "gridcolor": "rgb(232,232,232)",
            "gridwidth": 2,
            "linecolor": "rgb(36,36,36)",
            "showbackground": true,
            "showgrid": false,
            "showline": true,
            "ticks": "outside",
            "zeroline": false,
            "zerolinecolor": "rgb(36,36,36)"
           }
          },
          "shapedefaults": {
           "fillcolor": "black",
           "line": {
            "width": 0
           },
           "opacity": 0.3
          },
          "ternary": {
           "aaxis": {
            "gridcolor": "rgb(232,232,232)",
            "linecolor": "rgb(36,36,36)",
            "showgrid": false,
            "showline": true,
            "ticks": "outside"
           },
           "baxis": {
            "gridcolor": "rgb(232,232,232)",
            "linecolor": "rgb(36,36,36)",
            "showgrid": false,
            "showline": true,
            "ticks": "outside"
           },
           "bgcolor": "white",
           "caxis": {
            "gridcolor": "rgb(232,232,232)",
            "linecolor": "rgb(36,36,36)",
            "showgrid": false,
            "showline": true,
            "ticks": "outside"
           }
          },
          "title": {
           "x": 0.5,
           "xanchor": "center"
          },
          "width": 350,
          "xaxis": {
           "automargin": true,
           "gridcolor": "rgb(232,232,232)",
           "linecolor": "rgb(36,36,36)",
           "showgrid": true,
           "showline": true,
           "ticks": "outside",
           "title": {
            "standoff": 15
           },
           "zeroline": false,
           "zerolinecolor": "rgb(36,36,36)"
          },
          "yaxis": {
           "automargin": true,
           "gridcolor": "rgb(232,232,232)",
           "linecolor": "rgb(36,36,36)",
           "showgrid": true,
           "showline": true,
           "ticks": "outside",
           "title": {
            "standoff": 15
           },
           "zeroline": false,
           "zerolinecolor": "rgb(36,36,36)"
          }
         }
        },
        "width": 450,
        "xaxis": {
         "anchor": "y",
         "autorange": true,
         "domain": [
          0,
          0.49
         ],
         "range": [
          7.466781906160356,
          86.53321809383965
         ],
         "title": {
          "text": "height"
         },
         "type": "linear"
        },
        "xaxis2": {
         "anchor": "y2",
         "autorange": true,
         "domain": [
          0.51,
          1
         ],
         "matches": "x",
         "range": [
          7.466781906160356,
          86.53321809383965
         ],
         "title": {
          "text": "height"
         },
         "type": "linear"
        },
        "xaxis3": {
         "anchor": "y3",
         "autorange": true,
         "domain": [
          0,
          0.49
         ],
         "matches": "x",
         "range": [
          7.466781906160356,
          86.53321809383965
         ],
         "showticklabels": false,
         "type": "linear"
        },
        "xaxis4": {
         "anchor": "y4",
         "autorange": true,
         "domain": [
          0.51,
          1
         ],
         "matches": "x",
         "range": [
          7.466781906160356,
          86.53321809383965
         ],
         "showticklabels": false,
         "type": "linear"
        },
        "xaxis5": {
         "anchor": "y5",
         "autorange": true,
         "domain": [
          0,
          0.49
         ],
         "matches": "x",
         "range": [
          7.466781906160356,
          86.53321809383965
         ],
         "showticklabels": false,
         "type": "linear"
        },
        "xaxis6": {
         "anchor": "y6",
         "autorange": true,
         "domain": [
          0.51,
          1
         ],
         "matches": "x",
         "range": [
          7.466781906160356,
          86.53321809383965
         ],
         "showticklabels": false,
         "type": "linear"
        },
        "yaxis": {
         "anchor": "x",
         "autorange": true,
         "domain": [
          0,
          0.2866666666666666
         ],
         "range": [
          5.137916128204423,
          17.652083871795575
         ],
         "title": {
          "text": "longevity"
         },
         "type": "linear"
        },
        "yaxis2": {
         "anchor": "x2",
         "autorange": true,
         "domain": [
          0,
          0.2866666666666666
         ],
         "matches": "y",
         "range": [
          5.137916128204423,
          17.652083871795575
         ],
         "showticklabels": false,
         "type": "linear"
        },
        "yaxis3": {
         "anchor": "x3",
         "autorange": true,
         "domain": [
          0.35666666666666663,
          0.6433333333333333
         ],
         "matches": "y",
         "range": [
          5.137916128204423,
          17.652083871795575
         ],
         "title": {
          "text": "longevity"
         },
         "type": "linear"
        },
        "yaxis4": {
         "anchor": "x4",
         "autorange": true,
         "domain": [
          0.35666666666666663,
          0.6433333333333333
         ],
         "matches": "y",
         "range": [
          5.137916128204423,
          17.652083871795575
         ],
         "showticklabels": false,
         "type": "linear"
        },
        "yaxis5": {
         "anchor": "x5",
         "autorange": true,
         "domain": [
          0.7133333333333333,
          0.9999999999999999
         ],
         "matches": "y",
         "range": [
          5.137916128204423,
          17.652083871795575
         ],
         "title": {
          "text": "longevity"
         },
         "type": "linear"
        },
        "yaxis6": {
         "anchor": "x6",
         "autorange": true,
         "domain": [
          0.7133333333333333,
          0.9999999999999999
         ],
         "matches": "y",
         "range": [
          5.137916128204423,
          17.652083871795575
         ],
         "showticklabels": false,
         "type": "linear"
        }
       }
      },
      "image/png": "[encoded data removed]",
      "image/svg+xml": [
       "<svg class=\"main-svg\" xmlns=\"http://www.w3.org/2000/svg\" xmlns:xlink=\"http://www.w3.org/1999/xlink\" width=\"450\" height=\"400\" style=\"\" viewBox=\"0 0 450 400\"><rect x=\"0\" y=\"0\" width=\"450\" height=\"400\" style=\"fill: rgb(255, 255, 255); fill-opacity: 1;\"/><defs id=\"defs-cbf39c\"><g class=\"clips\"><clipPath id=\"clipcbf39cxyplot\" class=\"plotclip\"><rect width=\"187.67\" height=\"89.15333333333332\"/></clipPath><clipPath id=\"clipcbf39cx2y2plot\" class=\"plotclip\"><rect width=\"187.67\" height=\"89.15333333333332\"/></clipPath><clipPath id=\"clipcbf39cx3y3plot\" class=\"plotclip\"><rect width=\"187.67\" height=\"89.15333333333334\"/></clipPath><clipPath id=\"clipcbf39cx4y4plot\" class=\"plotclip\"><rect width=\"187.67\" height=\"89.15333333333334\"/></clipPath><clipPath id=\"clipcbf39cx5y5plot\" class=\"plotclip\"><rect width=\"187.67\" height=\"89.15333333333332\"/></clipPath><clipPath id=\"clipcbf39cx6y6plot\" class=\"plotclip\"><rect width=\"187.67\" height=\"89.15333333333332\"/></clipPath><clipPath class=\"axesclip\" id=\"clipcbf39cx\"><rect x=\"57\" y=\"0\" width=\"187.67\" height=\"400\"/></clipPath><clipPath class=\"axesclip\" id=\"clipcbf39cy\"><rect x=\"0\" y=\"251.8466666666667\" width=\"450\" height=\"89.15333333333332\"/></clipPath><clipPath class=\"axesclip\" id=\"clipcbf39cxy\"><rect x=\"57\" y=\"251.8466666666667\" width=\"187.67\" height=\"89.15333333333332\"/></clipPath><clipPath class=\"axesclip\" id=\"clipcbf39cy2\"><rect x=\"0\" y=\"251.8466666666667\" width=\"450\" height=\"89.15333333333332\"/></clipPath><clipPath class=\"axesclip\" id=\"clipcbf39cxy2\"><rect x=\"57\" y=\"251.8466666666667\" width=\"187.67\" height=\"89.15333333333332\"/></clipPath><clipPath class=\"axesclip\" id=\"clipcbf39cy3\"><rect x=\"0\" y=\"140.92333333333335\" width=\"450\" height=\"89.15333333333334\"/></clipPath><clipPath class=\"axesclip\" id=\"clipcbf39cxy3\"><rect x=\"57\" y=\"140.92333333333335\" width=\"187.67\" height=\"89.15333333333334\"/></clipPath><clipPath class=\"axesclip\" id=\"clipcbf39cy4\"><rect x=\"0\" y=\"140.92333333333335\" width=\"450\" height=\"89.15333333333334\"/></clipPath><clipPath class=\"axesclip\" id=\"clipcbf39cxy4\"><rect x=\"57\" y=\"140.92333333333335\" width=\"187.67\" height=\"89.15333333333334\"/></clipPath><clipPath class=\"axesclip\" id=\"clipcbf39cy5\"><rect x=\"0\" y=\"30.000000000000036\" width=\"450\" height=\"89.15333333333332\"/></clipPath><clipPath class=\"axesclip\" id=\"clipcbf39cxy5\"><rect x=\"57\" y=\"30.000000000000036\" width=\"187.67\" height=\"89.15333333333332\"/></clipPath><clipPath class=\"axesclip\" id=\"clipcbf39cy6\"><rect x=\"0\" y=\"30.000000000000036\" width=\"450\" height=\"89.15333333333332\"/></clipPath><clipPath class=\"axesclip\" id=\"clipcbf39cxy6\"><rect x=\"57\" y=\"30.000000000000036\" width=\"187.67\" height=\"89.15333333333332\"/></clipPath><clipPath class=\"axesclip\" id=\"clipcbf39cx2\"><rect x=\"252.33\" y=\"0\" width=\"187.67\" height=\"400\"/></clipPath><clipPath class=\"axesclip\" id=\"clipcbf39cx2y\"><rect x=\"252.33\" y=\"251.8466666666667\" width=\"187.67\" height=\"89.15333333333332\"/></clipPath><clipPath class=\"axesclip\" id=\"clipcbf39cx2y2\"><rect x=\"252.33\" y=\"251.8466666666667\" width=\"187.67\" height=\"89.15333333333332\"/></clipPath><clipPath class=\"axesclip\" id=\"clipcbf39cx2y3\"><rect x=\"252.33\" y=\"140.92333333333335\" width=\"187.67\" height=\"89.15333333333334\"/></clipPath><clipPath class=\"axesclip\" id=\"clipcbf39cx2y4\"><rect x=\"252.33\" y=\"140.92333333333335\" width=\"187.67\" height=\"89.15333333333334\"/></clipPath><clipPath class=\"axesclip\" id=\"clipcbf39cx2y5\"><rect x=\"252.33\" y=\"30.000000000000036\" width=\"187.67\" height=\"89.15333333333332\"/></clipPath><clipPath class=\"axesclip\" id=\"clipcbf39cx2y6\"><rect x=\"252.33\" y=\"30.000000000000036\" width=\"187.67\" height=\"89.15333333333332\"/></clipPath><clipPath class=\"axesclip\" id=\"clipcbf39cx3\"><rect x=\"57\" y=\"0\" width=\"187.67\" height=\"400\"/></clipPath><clipPath class=\"axesclip\" id=\"clipcbf39cx3y\"><rect x=\"57\" y=\"251.8466666666667\" width=\"187.67\" height=\"89.15333333333332\"/></clipPath><clipPath class=\"axesclip\" id=\"clipcbf39cx3y2\"><rect x=\"57\" y=\"251.8466666666667\" width=\"187.67\" height=\"89.15333333333332\"/></clipPath><clipPath class=\"axesclip\" id=\"clipcbf39cx3y3\"><rect x=\"57\" y=\"140.92333333333335\" width=\"187.67\" height=\"89.15333333333334\"/></clipPath><clipPath class=\"axesclip\" id=\"clipcbf39cx3y4\"><rect x=\"57\" y=\"140.92333333333335\" width=\"187.67\" height=\"89.15333333333334\"/></clipPath><clipPath class=\"axesclip\" id=\"clipcbf39cx3y5\"><rect x=\"57\" y=\"30.000000000000036\" width=\"187.67\" height=\"89.15333333333332\"/></clipPath><clipPath class=\"axesclip\" id=\"clipcbf39cx3y6\"><rect x=\"57\" y=\"30.000000000000036\" width=\"187.67\" height=\"89.15333333333332\"/></clipPath><clipPath class=\"axesclip\" id=\"clipcbf39cx4\"><rect x=\"252.33\" y=\"0\" width=\"187.67\" height=\"400\"/></clipPath><clipPath class=\"axesclip\" id=\"clipcbf39cx4y\"><rect x=\"252.33\" y=\"251.8466666666667\" width=\"187.67\" height=\"89.15333333333332\"/></clipPath><clipPath class=\"axesclip\" id=\"clipcbf39cx4y2\"><rect x=\"252.33\" y=\"251.8466666666667\" width=\"187.67\" height=\"89.15333333333332\"/></clipPath><clipPath class=\"axesclip\" id=\"clipcbf39cx4y3\"><rect x=\"252.33\" y=\"140.92333333333335\" width=\"187.67\" height=\"89.15333333333334\"/></clipPath><clipPath class=\"axesclip\" id=\"clipcbf39cx4y4\"><rect x=\"252.33\" y=\"140.92333333333335\" width=\"187.67\" height=\"89.15333333333334\"/></clipPath><clipPath class=\"axesclip\" id=\"clipcbf39cx4y5\"><rect x=\"252.33\" y=\"30.000000000000036\" width=\"187.67\" height=\"89.15333333333332\"/></clipPath><clipPath class=\"axesclip\" id=\"clipcbf39cx4y6\"><rect x=\"252.33\" y=\"30.000000000000036\" width=\"187.67\" height=\"89.15333333333332\"/></clipPath><clipPath class=\"axesclip\" id=\"clipcbf39cx5\"><rect x=\"57\" y=\"0\" width=\"187.67\" height=\"400\"/></clipPath><clipPath class=\"axesclip\" id=\"clipcbf39cx5y\"><rect x=\"57\" y=\"251.8466666666667\" width=\"187.67\" height=\"89.15333333333332\"/></clipPath><clipPath class=\"axesclip\" id=\"clipcbf39cx5y2\"><rect x=\"57\" y=\"251.8466666666667\" width=\"187.67\" height=\"89.15333333333332\"/></clipPath><clipPath class=\"axesclip\" id=\"clipcbf39cx5y3\"><rect x=\"57\" y=\"140.92333333333335\" width=\"187.67\" height=\"89.15333333333334\"/></clipPath><clipPath class=\"axesclip\" id=\"clipcbf39cx5y4\"><rect x=\"57\" y=\"140.92333333333335\" width=\"187.67\" height=\"89.15333333333334\"/></clipPath><clipPath class=\"axesclip\" id=\"clipcbf39cx5y5\"><rect x=\"57\" y=\"30.000000000000036\" width=\"187.67\" height=\"89.15333333333332\"/></clipPath><clipPath class=\"axesclip\" id=\"clipcbf39cx5y6\"><rect x=\"57\" y=\"30.000000000000036\" width=\"187.67\" height=\"89.15333333333332\"/></clipPath><clipPath class=\"axesclip\" id=\"clipcbf39cx6\"><rect x=\"252.33\" y=\"0\" width=\"187.67\" height=\"400\"/></clipPath><clipPath class=\"axesclip\" id=\"clipcbf39cx6y\"><rect x=\"252.33\" y=\"251.8466666666667\" width=\"187.67\" height=\"89.15333333333332\"/></clipPath><clipPath class=\"axesclip\" id=\"clipcbf39cx6y2\"><rect x=\"252.33\" y=\"251.8466666666667\" width=\"187.67\" height=\"89.15333333333332\"/></clipPath><clipPath class=\"axesclip\" id=\"clipcbf39cx6y3\"><rect x=\"252.33\" y=\"140.92333333333335\" width=\"187.67\" height=\"89.15333333333334\"/></clipPath><clipPath class=\"axesclip\" id=\"clipcbf39cx6y4\"><rect x=\"252.33\" y=\"140.92333333333335\" width=\"187.67\" height=\"89.15333333333334\"/></clipPath><clipPath class=\"axesclip\" id=\"clipcbf39cx6y5\"><rect x=\"252.33\" y=\"30.000000000000036\" width=\"187.67\" height=\"89.15333333333332\"/></clipPath><clipPath class=\"axesclip\" id=\"clipcbf39cx6y6\"><rect x=\"252.33\" y=\"30.000000000000036\" width=\"187.67\" height=\"89.15333333333332\"/></clipPath></g><g class=\"gradients\"/><g class=\"patterns\"/></defs><g class=\"bglayer\"/><g class=\"layer-below\"><g class=\"imagelayer\"/><g class=\"shapelayer\"/></g><g class=\"cartesianlayer\"><g class=\"subplot xy\"><g class=\"layer-subplot\"><g class=\"shapelayer\"/><g class=\"imagelayer\"/></g><g class=\"gridlayer\"><g class=\"x\"><path class=\"xgrid crisp\" transform=\"translate(86.78999999999999,0)\" d=\"M0,251.8466666666667v89.15333333333332\" style=\"stroke: rgb(232, 232, 232); stroke-opacity: 1; stroke-width: 1px;\"/><path class=\"xgrid crisp\" transform=\"translate(134.38,0)\" d=\"M0,251.8466666666667v89.15333333333332\" style=\"stroke: rgb(232, 232, 232); stroke-opacity: 1; stroke-width: 1px;\"/><path class=\"xgrid crisp\" transform=\"translate(181.97,0)\" d=\"M0,251.8466666666667v89.15333333333332\" style=\"stroke: rgb(232, 232, 232); stroke-opacity: 1; stroke-width: 1px;\"/><path class=\"xgrid crisp\" transform=\"translate(229.57,0)\" d=\"M0,251.8466666666667v89.15333333333332\" style=\"stroke: rgb(232, 232, 232); stroke-opacity: 1; stroke-width: 1px;\"/></g><g class=\"y\"><path class=\"ygrid crisp\" transform=\"translate(0,306.6866666666667)\" d=\"M57,0h187.67\" style=\"stroke: rgb(232, 232, 232); stroke-opacity: 1; stroke-width: 1px;\"/><path class=\"ygrid crisp\" transform=\"translate(0,270.8166666666667)\" d=\"M57,0h187.67\" style=\"stroke: rgb(232, 232, 232); stroke-opacity: 1; stroke-width: 1px;\"/></g></g><g class=\"zerolinelayer\"/><path class=\"xlines-below\"/><path class=\"ylines-below\"/><g class=\"overlines-below\"/><g class=\"xaxislayer-below\"/><g class=\"yaxislayer-below\"/><g class=\"overaxes-below\"/><g class=\"plot\" transform=\"translate(57,251.8466666666667)\" clip-path=\"url(#clipcbf39cxyplot)\"><g class=\"scatterlayer mlayer\"><g class=\"trace scatter traced6565b\" style=\"stroke-miterlimit: 2; opacity: 1;\"><g class=\"fills\"/><g class=\"errorbars\"/><g class=\"lines\"/><g class=\"points\"><path class=\"point\" transform=\"translate(46.45,26.72)\" d=\"M3,0A3,3 0 1,1 0,-3A3,3 0 0,1 3,0Z\" style=\"opacity: 1; stroke-width: 0px; fill: rgb(31, 119, 180); fill-opacity: 1;\"/><path class=\"point\" transform=\"translate(13.13,8.21)\" d=\"M3,0A3,3 0 1,1 0,-3A3,3 0 0,1 3,0Z\" style=\"opacity: 1; stroke-width: 0px; fill: rgb(31, 119, 180); fill-opacity: 1;\"/><path class=\"point\" transform=\"translate(36.93,38.7)\" d=\"M3,0A3,3 0 1,1 0,-3A3,3 0 0,1 3,0Z\" style=\"opacity: 1; stroke-width: 0px; fill: rgb(31, 119, 180); fill-opacity: 1;\"/><path class=\"point\" transform=\"translate(75,38.27)\" d=\"M3,0A3,3 0 1,1 0,-3A3,3 0 0,1 3,0Z\" style=\"opacity: 1; stroke-width: 0px; fill: rgb(31, 119, 180); fill-opacity: 1;\"/><path class=\"point\" transform=\"translate(79.76,47.67)\" d=\"M3,0A3,3 0 1,1 0,-3A3,3 0 0,1 3,0Z\" style=\"opacity: 1; stroke-width: 0px; fill: rgb(31, 119, 180); fill-opacity: 1;\"/><path class=\"point\" transform=\"translate(39.31,32.82)\" d=\"M3,0A3,3 0 1,1 0,-3A3,3 0 0,1 3,0Z\" style=\"opacity: 1; stroke-width: 0px; fill: rgb(31, 119, 180); fill-opacity: 1;\"/><path class=\"point\" transform=\"translate(67.86,54.7)\" d=\"M3,0A3,3 0 1,1 0,-3A3,3 0 0,1 3,0Z\" style=\"opacity: 1; stroke-width: 0px; fill: rgb(31, 119, 180); fill-opacity: 1;\"/><path class=\"point\" transform=\"translate(36.93,39.27)\" d=\"M3,0A3,3 0 1,1 0,-3A3,3 0 0,1 3,0Z\" style=\"opacity: 1; stroke-width: 0px; fill: rgb(31, 119, 180); fill-opacity: 1;\"/><path class=\"point\" transform=\"translate(41.69,49.89)\" d=\"M3,0A3,3 0 1,1 0,-3A3,3 0 0,1 3,0Z\" style=\"opacity: 1; stroke-width: 0px; fill: rgb(31, 119, 180); fill-opacity: 1;\"/><path class=\"point\" transform=\"translate(115.46,46.3)\" d=\"M3,0A3,3 0 1,1 0,-3A3,3 0 0,1 3,0Z\" style=\"opacity: 1; stroke-width: 0px; fill: rgb(31, 119, 180); fill-opacity: 1;\"/><path class=\"point\" transform=\"translate(113.08,53.33)\" d=\"M3,0A3,3 0 1,1 0,-3A3,3 0 0,1 3,0Z\" style=\"opacity: 1; stroke-width: 0px; fill: rgb(31, 119, 180); fill-opacity: 1;\"/><path class=\"point\" transform=\"translate(136.87,72.27)\" d=\"M3,0A3,3 0 1,1 0,-3A3,3 0 0,1 3,0Z\" style=\"opacity: 1; stroke-width: 0px; fill: rgb(31, 119, 180); fill-opacity: 1;\"/><path class=\"point\" transform=\"translate(141.63,70.77)\" d=\"M3,0A3,3 0 1,1 0,-3A3,3 0 0,1 3,0Z\" style=\"opacity: 1; stroke-width: 0px; fill: rgb(31, 119, 180); fill-opacity: 1;\"/><path class=\"point\" transform=\"translate(53.59,54.27)\" d=\"M3,0A3,3 0 1,1 0,-3A3,3 0 0,1 3,0Z\" style=\"opacity: 1; stroke-width: 0px; fill: rgb(31, 119, 180); fill-opacity: 1;\"/><path class=\"point\" transform=\"translate(153.53,54.84)\" d=\"M3,0A3,3 0 1,1 0,-3A3,3 0 0,1 3,0Z\" style=\"opacity: 1; stroke-width: 0px; fill: rgb(31, 119, 180); fill-opacity: 1;\"/><path class=\"point\" transform=\"translate(39.31,60.22)\" d=\"M3,0A3,3 0 1,1 0,-3A3,3 0 0,1 3,0Z\" style=\"opacity: 1; stroke-width: 0px; fill: rgb(31, 119, 180); fill-opacity: 1;\"/><path class=\"point\" transform=\"translate(67.86,35.47)\" d=\"M3,0A3,3 0 1,1 0,-3A3,3 0 0,1 3,0Z\" style=\"opacity: 1; stroke-width: 0px; fill: rgb(31, 119, 180); fill-opacity: 1;\"/><path class=\"point\" transform=\"translate(46.45,38.7)\" d=\"M3,0A3,3 0 1,1 0,-3A3,3 0 0,1 3,0Z\" style=\"opacity: 1; stroke-width: 0px; fill: rgb(31, 119, 180); fill-opacity: 1;\"/><path class=\"point\" transform=\"translate(41.69,47.67)\" d=\"M3,0A3,3 0 1,1 0,-3A3,3 0 0,1 3,0Z\" style=\"opacity: 1; stroke-width: 0px; fill: rgb(31, 119, 180); fill-opacity: 1;\"/></g><g class=\"text\"/></g><g class=\"trace scatter trace590bfa\" style=\"stroke-miterlimit: 2; opacity: 1;\"><g class=\"fills\"/><g class=\"errorbars\"/><g class=\"lines\"><path class=\"js-line\" d=\"M13.13,31.78L153.53,65.85\" style=\"vector-effect: non-scaling-stroke; fill: none; stroke: rgb(31, 119, 180); stroke-opacity: 1; stroke-width: 2px; opacity: 1;\"/></g><g class=\"points\"/><g class=\"text\"/></g></g></g><g class=\"overplot\"/><path class=\"xlines-above crisp\" d=\"M56,341.5H244.67\" style=\"fill: none; stroke-width: 1px; stroke: rgb(36, 36, 36); stroke-opacity: 1;\"/><path class=\"ylines-above crisp\" d=\"M56.5,251.8466666666667V341\" style=\"fill: none; stroke-width: 1px; stroke: rgb(36, 36, 36); stroke-opacity: 1;\"/><g class=\"overlines-above\"/><g class=\"xaxislayer-above\"><path class=\"xtick ticks crisp\" d=\"M0,342v5\" transform=\"translate(86.78999999999999,0)\" style=\"stroke: rgb(68, 68, 68); stroke-opacity: 1; stroke-width: 1px;\"/><path class=\"xtick ticks crisp\" d=\"M0,342v5\" transform=\"translate(134.38,0)\" style=\"stroke: rgb(68, 68, 68); stroke-opacity: 1; stroke-width: 1px;\"/><path class=\"xtick ticks crisp\" d=\"M0,342v5\" transform=\"translate(181.97,0)\" style=\"stroke: rgb(68, 68, 68); stroke-opacity: 1; stroke-width: 1px;\"/><path class=\"xtick ticks crisp\" d=\"M0,342v5\" transform=\"translate(229.57,0)\" style=\"stroke: rgb(68, 68, 68); stroke-opacity: 1; stroke-width: 1px;\"/><g class=\"xtick\"><text text-anchor=\"middle\" x=\"0\" y=\"361.4\" transform=\"translate(86.78999999999999,0)\" style=\"font-family: 'Open Sans', verdana, arial, sans-serif; font-size: 12px; fill: rgb(36, 36, 36); fill-opacity: 1; white-space: pre; opacity: 1;\">20</text></g><g class=\"xtick\"><text text-anchor=\"middle\" x=\"0\" y=\"361.4\" style=\"font-family: 'Open Sans', verdana, arial, sans-serif; font-size: 12px; fill: rgb(36, 36, 36); fill-opacity: 1; white-space: pre; opacity: 1;\" transform=\"translate(134.38,0)\">40</text></g><g class=\"xtick\"><text text-anchor=\"middle\" x=\"0\" y=\"361.4\" style=\"font-family: 'Open Sans', verdana, arial, sans-serif; font-size: 12px; fill: rgb(36, 36, 36); fill-opacity: 1; white-space: pre; opacity: 1;\" transform=\"translate(181.97,0)\">60</text></g><g class=\"xtick\"><text text-anchor=\"middle\" x=\"0\" y=\"361.4\" style=\"font-family: 'Open Sans', verdana, arial, sans-serif; font-size: 12px; fill: rgb(36, 36, 36); fill-opacity: 1; white-space: pre; opacity: 1;\" transform=\"translate(229.57,0)\">80</text></g></g><g class=\"yaxislayer-above\"><path class=\"ytick ticks crisp\" d=\"M56,0h-5\" transform=\"translate(0,306.6866666666667)\" style=\"stroke: rgb(68, 68, 68); stroke-opacity: 1; stroke-width: 1px;\"/><path class=\"ytick ticks crisp\" d=\"M56,0h-5\" transform=\"translate(0,270.8166666666667)\" style=\"stroke: rgb(68, 68, 68); stroke-opacity: 1; stroke-width: 1px;\"/><g class=\"ytick\"><text text-anchor=\"end\" x=\"48.6\" y=\"4.199999999999999\" transform=\"translate(0,306.6866666666667)\" style=\"font-family: 'Open Sans', verdana, arial, sans-serif; font-size: 12px; fill: rgb(36, 36, 36); fill-opacity: 1; white-space: pre; opacity: 1;\">10</text></g><g class=\"ytick\"><text text-anchor=\"end\" x=\"48.6\" y=\"4.199999999999999\" style=\"font-family: 'Open Sans', verdana, arial, sans-serif; font-size: 12px; fill: rgb(36, 36, 36); fill-opacity: 1; white-space: pre; opacity: 1;\" transform=\"translate(0,270.8166666666667)\">15</text></g></g><g class=\"overaxes-above\"/></g><g class=\"subplot x2y2\"><g class=\"layer-subplot\"><g class=\"shapelayer\"/><g class=\"imagelayer\"/></g><g class=\"gridlayer\"><g class=\"x2\"><path class=\"x2grid crisp\" transform=\"translate(282.12,0)\" d=\"M0,251.8466666666667v89.15333333333332\" style=\"stroke: rgb(232, 232, 232); stroke-opacity: 1; stroke-width: 1px;\"/><path class=\"x2grid crisp\" transform=\"translate(329.71000000000004,0)\" d=\"M0,251.8466666666667v89.15333333333332\" style=\"stroke: rgb(232, 232, 232); stroke-opacity: 1; stroke-width: 1px;\"/><path class=\"x2grid crisp\" transform=\"translate(377.3,0)\" d=\"M0,251.8466666666667v89.15333333333332\" style=\"stroke: rgb(232, 232, 232); stroke-opacity: 1; stroke-width: 1px;\"/><path class=\"x2grid crisp\" transform=\"translate(424.9,0)\" d=\"M0,251.8466666666667v89.15333333333332\" style=\"stroke: rgb(232, 232, 232); stroke-opacity: 1; stroke-width: 1px;\"/></g><g class=\"y2\"><path class=\"y2grid crisp\" transform=\"translate(0,306.6866666666667)\" d=\"M252.33,0h187.67\" style=\"stroke: rgb(232, 232, 232); stroke-opacity: 1; stroke-width: 1px;\"/><path class=\"y2grid crisp\" transform=\"translate(0,270.8166666666667)\" d=\"M252.33,0h187.67\" style=\"stroke: rgb(232, 232, 232); stroke-opacity: 1; stroke-width: 1px;\"/></g></g><g class=\"zerolinelayer\"/><path class=\"xlines-below\"/><path class=\"ylines-below\"/><g class=\"overlines-below\"/><g class=\"xaxislayer-below\"/><g class=\"yaxislayer-below\"/><g class=\"overaxes-below\"/><g class=\"plot\" transform=\"translate(252.33,251.8466666666667)\" clip-path=\"url(#clipcbf39cx2y2plot)\"><g class=\"scatterlayer mlayer\"><g class=\"trace scatter trace8d8d0e\" style=\"stroke-miterlimit: 2; opacity: 1;\"><g class=\"fills\"/><g class=\"errorbars\"/><g class=\"lines\"/><g class=\"points\"><path class=\"point\" transform=\"translate(41.69,31.88)\" d=\"M3,0A3,3 0 1,1 0,-3A3,3 0 0,1 3,0Z\" style=\"opacity: 1; stroke-width: 0px; fill: rgb(31, 119, 180); fill-opacity: 1;\"/><path class=\"point\" transform=\"translate(67.86,38.34)\" d=\"M3,0A3,3 0 1,1 0,-3A3,3 0 0,1 3,0Z\" style=\"opacity: 1; stroke-width: 0px; fill: rgb(31, 119, 180); fill-opacity: 1;\"/><path class=\"point\" transform=\"translate(67.86,44.58)\" d=\"M3,0A3,3 0 1,1 0,-3A3,3 0 0,1 3,0Z\" style=\"opacity: 1; stroke-width: 0px; fill: rgb(31, 119, 180); fill-opacity: 1;\"/><path class=\"point\" transform=\"translate(82.14,29.16)\" d=\"M3,0A3,3 0 1,1 0,-3A3,3 0 0,1 3,0Z\" style=\"opacity: 1; stroke-width: 0px; fill: rgb(31, 119, 180); fill-opacity: 1;\"/><path class=\"point\" transform=\"translate(139.25,41.07)\" d=\"M3,0A3,3 0 1,1 0,-3A3,3 0 0,1 3,0Z\" style=\"opacity: 1; stroke-width: 0px; fill: rgb(31, 119, 180); fill-opacity: 1;\"/><path class=\"point\" transform=\"translate(151.15,61.44)\" d=\"M3,0A3,3 0 1,1 0,-3A3,3 0 0,1 3,0Z\" style=\"opacity: 1; stroke-width: 0px; fill: rgb(31, 119, 180); fill-opacity: 1;\"/><path class=\"point\" transform=\"translate(94.04,61.94)\" d=\"M3,0A3,3 0 1,1 0,-3A3,3 0 0,1 3,0Z\" style=\"opacity: 1; stroke-width: 0px; fill: rgb(31, 119, 180); fill-opacity: 1;\"/><path class=\"point\" transform=\"translate(134.49,78.16)\" d=\"M3,0A3,3 0 1,1 0,-3A3,3 0 0,1 3,0Z\" style=\"opacity: 1; stroke-width: 0px; fill: rgb(31, 119, 180); fill-opacity: 1;\"/><path class=\"point\" transform=\"translate(163.05,79.95)\" d=\"M3,0A3,3 0 1,1 0,-3A3,3 0 0,1 3,0Z\" style=\"opacity: 1; stroke-width: 0px; fill: rgb(31, 119, 180); fill-opacity: 1;\"/></g><g class=\"text\"/></g><g class=\"trace scatter traceb38b71\" style=\"stroke-miterlimit: 2; opacity: 1;\"><g class=\"fills\"/><g class=\"errorbars\"/><g class=\"lines\"><path class=\"js-line\" d=\"M41.69,31.11L163.05,71.08\" style=\"vector-effect: non-scaling-stroke; fill: none; stroke: rgb(31, 119, 180); stroke-opacity: 1; stroke-width: 2px; opacity: 1;\"/></g><g class=\"points\"/><g class=\"text\"/></g></g></g><g class=\"overplot\"/><path class=\"xlines-above crisp\" d=\"M251.33,341.5H440\" style=\"fill: none; stroke-width: 1px; stroke: rgb(36, 36, 36); stroke-opacity: 1;\"/><path class=\"ylines-above crisp\" d=\"M251.83,251.8466666666667V341\" style=\"fill: none; stroke-width: 1px; stroke: rgb(36, 36, 36); stroke-opacity: 1;\"/><g class=\"overlines-above\"/><g class=\"xaxislayer-above\"><path class=\"x2tick ticks crisp\" d=\"M0,342v5\" transform=\"translate(282.12,0)\" style=\"stroke: rgb(68, 68, 68); stroke-opacity: 1; stroke-width: 1px;\"/><path class=\"x2tick ticks crisp\" d=\"M0,342v5\" transform=\"translate(329.71000000000004,0)\" style=\"stroke: rgb(68, 68, 68); stroke-opacity: 1; stroke-width: 1px;\"/><path class=\"x2tick ticks crisp\" d=\"M0,342v5\" transform=\"translate(377.3,0)\" style=\"stroke: rgb(68, 68, 68); stroke-opacity: 1; stroke-width: 1px;\"/><path class=\"x2tick ticks crisp\" d=\"M0,342v5\" transform=\"translate(424.9,0)\" style=\"stroke: rgb(68, 68, 68); stroke-opacity: 1; stroke-width: 1px;\"/><g class=\"x2tick\"><text text-anchor=\"middle\" x=\"0\" y=\"361.4\" transform=\"translate(282.12,0)\" style=\"font-family: 'Open Sans', verdana, arial, sans-serif; font-size: 12px; fill: rgb(36, 36, 36); fill-opacity: 1; white-space: pre; opacity: 1;\">20</text></g><g class=\"x2tick\"><text text-anchor=\"middle\" x=\"0\" y=\"361.4\" style=\"font-family: 'Open Sans', verdana, arial, sans-serif; font-size: 12px; fill: rgb(36, 36, 36); fill-opacity: 1; white-space: pre; opacity: 1;\" transform=\"translate(329.71000000000004,0)\">40</text></g><g class=\"x2tick\"><text text-anchor=\"middle\" x=\"0\" y=\"361.4\" style=\"font-family: 'Open Sans', verdana, arial, sans-serif; font-size: 12px; fill: rgb(36, 36, 36); fill-opacity: 1; white-space: pre; opacity: 1;\" transform=\"translate(377.3,0)\">60</text></g><g class=\"x2tick\"><text text-anchor=\"middle\" x=\"0\" y=\"361.4\" style=\"font-family: 'Open Sans', verdana, arial, sans-serif; font-size: 12px; fill: rgb(36, 36, 36); fill-opacity: 1; white-space: pre; opacity: 1;\" transform=\"translate(424.9,0)\">80</text></g></g><g class=\"yaxislayer-above\"><path class=\"y2tick ticks crisp\" d=\"M251.33,0h-5\" transform=\"translate(0,306.6866666666667)\" style=\"stroke: rgb(68, 68, 68); stroke-opacity: 1; stroke-width: 1px;\"/><path class=\"y2tick ticks crisp\" d=\"M251.33,0h-5\" transform=\"translate(0,270.8166666666667)\" style=\"stroke: rgb(68, 68, 68); stroke-opacity: 1; stroke-width: 1px;\"/></g><g class=\"overaxes-above\"/></g><g class=\"subplot x3y3\"><g class=\"layer-subplot\"><g class=\"shapelayer\"/><g class=\"imagelayer\"/></g><g class=\"gridlayer\"><g class=\"x3\"><path class=\"x3grid crisp\" transform=\"translate(86.78999999999999,0)\" d=\"M0,140.92333333333335v89.15333333333334\" style=\"stroke: rgb(232, 232, 232); stroke-opacity: 1; stroke-width: 1px;\"/><path class=\"x3grid crisp\" transform=\"translate(134.38,0)\" d=\"M0,140.92333333333335v89.15333333333334\" style=\"stroke: rgb(232, 232, 232); stroke-opacity: 1; stroke-width: 1px;\"/><path class=\"x3grid crisp\" transform=\"translate(181.97,0)\" d=\"M0,140.92333333333335v89.15333333333334\" style=\"stroke: rgb(232, 232, 232); stroke-opacity: 1; stroke-width: 1px;\"/><path class=\"x3grid crisp\" transform=\"translate(229.57,0)\" d=\"M0,140.92333333333335v89.15333333333334\" style=\"stroke: rgb(232, 232, 232); stroke-opacity: 1; stroke-width: 1px;\"/></g><g class=\"y3\"><path class=\"y3grid crisp\" transform=\"translate(0,195.76333333333335)\" d=\"M57,0h187.67\" style=\"stroke: rgb(232, 232, 232); stroke-opacity: 1; stroke-width: 1px;\"/><path class=\"y3grid crisp\" transform=\"translate(0,159.89333333333335)\" d=\"M57,0h187.67\" style=\"stroke: rgb(232, 232, 232); stroke-opacity: 1; stroke-width: 1px;\"/></g></g><g class=\"zerolinelayer\"/><path class=\"xlines-below\"/><path class=\"ylines-below\"/><g class=\"overlines-below\"/><g class=\"xaxislayer-below\"/><g class=\"yaxislayer-below\"/><g class=\"overaxes-below\"/><g class=\"plot\" transform=\"translate(57,140.92333333333335)\" clip-path=\"url(#clipcbf39cx3y3plot)\"><g class=\"scatterlayer mlayer\"><g class=\"trace scatter trace906201\" style=\"stroke-miterlimit: 2; opacity: 1;\"><g class=\"fills\"/><g class=\"errorbars\"/><g class=\"lines\"/><g class=\"points\"><path class=\"point\" transform=\"translate(96.42,33.89)\" d=\"M3,0A3,3 0 1,1 0,-3A3,3 0 0,1 3,0Z\" style=\"opacity: 1; stroke-width: 0px; fill: rgb(31, 119, 180); fill-opacity: 1;\"/><path class=\"point\" transform=\"translate(79.76,42.93)\" d=\"M3,0A3,3 0 1,1 0,-3A3,3 0 0,1 3,0Z\" style=\"opacity: 1; stroke-width: 0px; fill: rgb(31, 119, 180); fill-opacity: 1;\"/><path class=\"point\" transform=\"translate(70.24,36.9)\" d=\"M3,0A3,3 0 1,1 0,-3A3,3 0 0,1 3,0Z\" style=\"opacity: 1; stroke-width: 0px; fill: rgb(31, 119, 180); fill-opacity: 1;\"/><path class=\"point\" transform=\"translate(60.73,41.85)\" d=\"M3,0A3,3 0 1,1 0,-3A3,3 0 0,1 3,0Z\" style=\"opacity: 1; stroke-width: 0px; fill: rgb(31, 119, 180); fill-opacity: 1;\"/><path class=\"point\" transform=\"translate(101.18,36.62)\" d=\"M3,0A3,3 0 1,1 0,-3A3,3 0 0,1 3,0Z\" style=\"opacity: 1; stroke-width: 0px; fill: rgb(31, 119, 180); fill-opacity: 1;\"/><path class=\"point\" transform=\"translate(127.35,44.37)\" d=\"M3,0A3,3 0 1,1 0,-3A3,3 0 0,1 3,0Z\" style=\"opacity: 1; stroke-width: 0px; fill: rgb(31, 119, 180); fill-opacity: 1;\"/><path class=\"point\" transform=\"translate(122.6,61.87)\" d=\"M3,0A3,3 0 1,1 0,-3A3,3 0 0,1 3,0Z\" style=\"opacity: 1; stroke-width: 0px; fill: rgb(31, 119, 180); fill-opacity: 1;\"/><path class=\"point\" transform=\"translate(127.35,50.54)\" d=\"M3,0A3,3 0 1,1 0,-3A3,3 0 0,1 3,0Z\" style=\"opacity: 1; stroke-width: 0px; fill: rgb(31, 119, 180); fill-opacity: 1;\"/><path class=\"point\" transform=\"translate(48.83,38.7)\" d=\"M3,0A3,3 0 1,1 0,-3A3,3 0 0,1 3,0Z\" style=\"opacity: 1; stroke-width: 0px; fill: rgb(31, 119, 180); fill-opacity: 1;\"/><path class=\"point\" transform=\"translate(134.49,72.34)\" d=\"M3,0A3,3 0 1,1 0,-3A3,3 0 0,1 3,0Z\" style=\"opacity: 1; stroke-width: 0px; fill: rgb(31, 119, 180); fill-opacity: 1;\"/><path class=\"point\" transform=\"translate(51.21,35.47)\" d=\"M3,0A3,3 0 1,1 0,-3A3,3 0 0,1 3,0Z\" style=\"opacity: 1; stroke-width: 0px; fill: rgb(31, 119, 180); fill-opacity: 1;\"/><path class=\"point\" transform=\"translate(117.84,59.65)\" d=\"M3,0A3,3 0 1,1 0,-3A3,3 0 0,1 3,0Z\" style=\"opacity: 1; stroke-width: 0px; fill: rgb(31, 119, 180); fill-opacity: 1;\"/><path class=\"point\" transform=\"translate(86.9,39.27)\" d=\"M3,0A3,3 0 1,1 0,-3A3,3 0 0,1 3,0Z\" style=\"opacity: 1; stroke-width: 0px; fill: rgb(31, 119, 180); fill-opacity: 1;\"/><path class=\"point\" transform=\"translate(51.21,33.32)\" d=\"M3,0A3,3 0 1,1 0,-3A3,3 0 0,1 3,0Z\" style=\"opacity: 1; stroke-width: 0px; fill: rgb(31, 119, 180); fill-opacity: 1;\"/><path class=\"point\" transform=\"translate(117.84,36.9)\" d=\"M3,0A3,3 0 1,1 0,-3A3,3 0 0,1 3,0Z\" style=\"opacity: 1; stroke-width: 0px; fill: rgb(31, 119, 180); fill-opacity: 1;\"/></g><g class=\"text\"/></g><g class=\"trace scatter trace59a9c1\" style=\"stroke-miterlimit: 2; opacity: 1;\"><g class=\"fills\"/><g class=\"errorbars\"/><g class=\"lines\"><path class=\"js-line\" d=\"M48.83,33.29L134.49,54.7\" style=\"vector-effect: non-scaling-stroke; fill: none; stroke: rgb(31, 119, 180); stroke-opacity: 1; stroke-width: 2px; opacity: 1;\"/></g><g class=\"points\"/><g class=\"text\"/></g></g></g><g class=\"overplot\"/><path class=\"xlines-above crisp\" d=\"M56,230.57666666666668H244.67\" style=\"fill: none; stroke-width: 1px; stroke: rgb(36, 36, 36); stroke-opacity: 1;\"/><path class=\"ylines-above crisp\" d=\"M56.5,140.92333333333335V230.07666666666668\" style=\"fill: none; stroke-width: 1px; stroke: rgb(36, 36, 36); stroke-opacity: 1;\"/><g class=\"overlines-above\"/><g class=\"xaxislayer-above\"><path class=\"x3tick ticks crisp\" d=\"M0,231.07666666666668v5\" transform=\"translate(86.78999999999999,0)\" style=\"stroke: rgb(68, 68, 68); stroke-opacity: 1; stroke-width: 1px;\"/><path class=\"x3tick ticks crisp\" d=\"M0,231.07666666666668v5\" transform=\"translate(134.38,0)\" style=\"stroke: rgb(68, 68, 68); stroke-opacity: 1; stroke-width: 1px;\"/><path class=\"x3tick ticks crisp\" d=\"M0,231.07666666666668v5\" transform=\"translate(181.97,0)\" style=\"stroke: rgb(68, 68, 68); stroke-opacity: 1; stroke-width: 1px;\"/><path class=\"x3tick ticks crisp\" d=\"M0,231.07666666666668v5\" transform=\"translate(229.57,0)\" style=\"stroke: rgb(68, 68, 68); stroke-opacity: 1; stroke-width: 1px;\"/></g><g class=\"yaxislayer-above\"><path class=\"y3tick ticks crisp\" d=\"M56,0h-5\" transform=\"translate(0,195.76333333333335)\" style=\"stroke: rgb(68, 68, 68); stroke-opacity: 1; stroke-width: 1px;\"/><path class=\"y3tick ticks crisp\" d=\"M56,0h-5\" transform=\"translate(0,159.89333333333335)\" style=\"stroke: rgb(68, 68, 68); stroke-opacity: 1; stroke-width: 1px;\"/><g class=\"y3tick\"><text text-anchor=\"end\" x=\"48.6\" y=\"4.199999999999999\" transform=\"translate(0,195.76333333333335)\" style=\"font-family: 'Open Sans', verdana, arial, sans-serif; font-size: 12px; fill: rgb(36, 36, 36); fill-opacity: 1; white-space: pre; opacity: 1;\">10</text></g><g class=\"y3tick\"><text text-anchor=\"end\" x=\"48.6\" y=\"4.199999999999999\" style=\"font-family: 'Open Sans', verdana, arial, sans-serif; font-size: 12px; fill: rgb(36, 36, 36); fill-opacity: 1; white-space: pre; opacity: 1;\" transform=\"translate(0,159.89333333333335)\">15</text></g></g><g class=\"overaxes-above\"/></g><g class=\"subplot x4y4\"><g class=\"layer-subplot\"><g class=\"shapelayer\"/><g class=\"imagelayer\"/></g><g class=\"gridlayer\"><g class=\"x4\"><path class=\"x4grid crisp\" transform=\"translate(282.12,0)\" d=\"M0,140.92333333333335v89.15333333333334\" style=\"stroke: rgb(232, 232, 232); stroke-opacity: 1; stroke-width: 1px;\"/><path class=\"x4grid crisp\" transform=\"translate(329.71000000000004,0)\" d=\"M0,140.92333333333335v89.15333333333334\" style=\"stroke: rgb(232, 232, 232); stroke-opacity: 1; stroke-width: 1px;\"/><path class=\"x4grid crisp\" transform=\"translate(377.3,0)\" d=\"M0,140.92333333333335v89.15333333333334\" style=\"stroke: rgb(232, 232, 232); stroke-opacity: 1; stroke-width: 1px;\"/><path class=\"x4grid crisp\" transform=\"translate(424.9,0)\" d=\"M0,140.92333333333335v89.15333333333334\" style=\"stroke: rgb(232, 232, 232); stroke-opacity: 1; stroke-width: 1px;\"/></g><g class=\"y4\"><path class=\"y4grid crisp\" transform=\"translate(0,195.76333333333335)\" d=\"M252.33,0h187.67\" style=\"stroke: rgb(232, 232, 232); stroke-opacity: 1; stroke-width: 1px;\"/><path class=\"y4grid crisp\" transform=\"translate(0,159.89333333333335)\" d=\"M252.33,0h187.67\" style=\"stroke: rgb(232, 232, 232); stroke-opacity: 1; stroke-width: 1px;\"/></g></g><g class=\"zerolinelayer\"/><path class=\"xlines-below\"/><path class=\"ylines-below\"/><g class=\"overlines-below\"/><g class=\"xaxislayer-below\"/><g class=\"yaxislayer-below\"/><g class=\"overaxes-below\"/><g class=\"plot\" transform=\"translate(252.33,140.92333333333335)\" clip-path=\"url(#clipcbf39cx4y4plot)\"><g class=\"scatterlayer mlayer\"><g class=\"trace scatter trace4c0b70\" style=\"stroke-miterlimit: 2; opacity: 1;\"><g class=\"fills\"/><g class=\"errorbars\"/><g class=\"lines\"/><g class=\"points\"><path class=\"point\" transform=\"translate(113.08,36.33)\" d=\"M3,0A3,3 0 1,1 0,-3A3,3 0 0,1 3,0Z\" style=\"opacity: 1; stroke-width: 0px; fill: rgb(31, 119, 180); fill-opacity: 1;\"/><path class=\"point\" transform=\"translate(103.56,34.25)\" d=\"M3,0A3,3 0 1,1 0,-3A3,3 0 0,1 3,0Z\" style=\"opacity: 1; stroke-width: 0px; fill: rgb(31, 119, 180); fill-opacity: 1;\"/><path class=\"point\" transform=\"translate(46.45,34.75)\" d=\"M3,0A3,3 0 1,1 0,-3A3,3 0 0,1 3,0Z\" style=\"opacity: 1; stroke-width: 0px; fill: rgb(31, 119, 180); fill-opacity: 1;\"/><path class=\"point\" transform=\"translate(46.45,38.98)\" d=\"M3,0A3,3 0 1,1 0,-3A3,3 0 0,1 3,0Z\" style=\"opacity: 1; stroke-width: 0px; fill: rgb(31, 119, 180); fill-opacity: 1;\"/><path class=\"point\" transform=\"translate(136.87,37.48)\" d=\"M3,0A3,3 0 1,1 0,-3A3,3 0 0,1 3,0Z\" style=\"opacity: 1; stroke-width: 0px; fill: rgb(31, 119, 180); fill-opacity: 1;\"/><path class=\"point\" transform=\"translate(41.69,23.13)\" d=\"M3,0A3,3 0 1,1 0,-3A3,3 0 0,1 3,0Z\" style=\"opacity: 1; stroke-width: 0px; fill: rgb(31, 119, 180); fill-opacity: 1;\"/><path class=\"point\" transform=\"translate(105.94,38.48)\" d=\"M3,0A3,3 0 1,1 0,-3A3,3 0 0,1 3,0Z\" style=\"opacity: 1; stroke-width: 0px; fill: rgb(31, 119, 180); fill-opacity: 1;\"/><path class=\"point\" transform=\"translate(41.69,54.12)\" d=\"M3,0A3,3 0 1,1 0,-3A3,3 0 0,1 3,0Z\" style=\"opacity: 1; stroke-width: 0px; fill: rgb(31, 119, 180); fill-opacity: 1;\"/><path class=\"point\" transform=\"translate(58.35,45.59)\" d=\"M3,0A3,3 0 1,1 0,-3A3,3 0 0,1 3,0Z\" style=\"opacity: 1; stroke-width: 0px; fill: rgb(31, 119, 180); fill-opacity: 1;\"/><path class=\"point\" transform=\"translate(72.62,40.13)\" d=\"M3,0A3,3 0 1,1 0,-3A3,3 0 0,1 3,0Z\" style=\"opacity: 1; stroke-width: 0px; fill: rgb(31, 119, 180); fill-opacity: 1;\"/><path class=\"point\" transform=\"translate(120.22,40.49)\" d=\"M3,0A3,3 0 1,1 0,-3A3,3 0 0,1 3,0Z\" style=\"opacity: 1; stroke-width: 0px; fill: rgb(31, 119, 180); fill-opacity: 1;\"/><path class=\"point\" transform=\"translate(139.25,53.69)\" d=\"M3,0A3,3 0 1,1 0,-3A3,3 0 0,1 3,0Z\" style=\"opacity: 1; stroke-width: 0px; fill: rgb(31, 119, 180); fill-opacity: 1;\"/><path class=\"point\" transform=\"translate(136.87,61.3)\" d=\"M3,0A3,3 0 1,1 0,-3A3,3 0 0,1 3,0Z\" style=\"opacity: 1; stroke-width: 0px; fill: rgb(31, 119, 180); fill-opacity: 1;\"/><path class=\"point\" transform=\"translate(122.6,63.38)\" d=\"M3,0A3,3 0 1,1 0,-3A3,3 0 0,1 3,0Z\" style=\"opacity: 1; stroke-width: 0px; fill: rgb(31, 119, 180); fill-opacity: 1;\"/><path class=\"point\" transform=\"translate(127.35,50.03)\" d=\"M3,0A3,3 0 1,1 0,-3A3,3 0 0,1 3,0Z\" style=\"opacity: 1; stroke-width: 0px; fill: rgb(31, 119, 180); fill-opacity: 1;\"/><path class=\"point\" transform=\"translate(174.95,76.79)\" d=\"M3,0A3,3 0 1,1 0,-3A3,3 0 0,1 3,0Z\" style=\"opacity: 1; stroke-width: 0px; fill: rgb(31, 119, 180); fill-opacity: 1;\"/><path class=\"point\" transform=\"translate(163.05,76.65)\" d=\"M3,0A3,3 0 1,1 0,-3A3,3 0 0,1 3,0Z\" style=\"opacity: 1; stroke-width: 0px; fill: rgb(31, 119, 180); fill-opacity: 1;\"/><path class=\"point\" transform=\"translate(134.49,49.46)\" d=\"M3,0A3,3 0 1,1 0,-3A3,3 0 0,1 3,0Z\" style=\"opacity: 1; stroke-width: 0px; fill: rgb(31, 119, 180); fill-opacity: 1;\"/><path class=\"point\" transform=\"translate(89.28,46.45)\" d=\"M3,0A3,3 0 1,1 0,-3A3,3 0 0,1 3,0Z\" style=\"opacity: 1; stroke-width: 0px; fill: rgb(31, 119, 180); fill-opacity: 1;\"/><path class=\"point\" transform=\"translate(127.35,54.84)\" d=\"M3,0A3,3 0 1,1 0,-3A3,3 0 0,1 3,0Z\" style=\"opacity: 1; stroke-width: 0px; fill: rgb(31, 119, 180); fill-opacity: 1;\"/><path class=\"point\" transform=\"translate(136.87,49.1)\" d=\"M3,0A3,3 0 1,1 0,-3A3,3 0 0,1 3,0Z\" style=\"opacity: 1; stroke-width: 0px; fill: rgb(31, 119, 180); fill-opacity: 1;\"/><path class=\"point\" transform=\"translate(72.62,32.1)\" d=\"M3,0A3,3 0 1,1 0,-3A3,3 0 0,1 3,0Z\" style=\"opacity: 1; stroke-width: 0px; fill: rgb(31, 119, 180); fill-opacity: 1;\"/><path class=\"point\" transform=\"translate(91.66,39.34)\" d=\"M3,0A3,3 0 1,1 0,-3A3,3 0 0,1 3,0Z\" style=\"opacity: 1; stroke-width: 0px; fill: rgb(31, 119, 180); fill-opacity: 1;\"/><path class=\"point\" transform=\"translate(72.62,32.1)\" d=\"M3,0A3,3 0 1,1 0,-3A3,3 0 0,1 3,0Z\" style=\"opacity: 1; stroke-width: 0px; fill: rgb(31, 119, 180); fill-opacity: 1;\"/><path class=\"point\" transform=\"translate(115.46,63.45)\" d=\"M3,0A3,3 0 1,1 0,-3A3,3 0 0,1 3,0Z\" style=\"opacity: 1; stroke-width: 0px; fill: rgb(31, 119, 180); fill-opacity: 1;\"/></g><g class=\"text\"/></g><g class=\"trace scatter tracef74461\" style=\"stroke-miterlimit: 2; opacity: 1;\"><g class=\"fills\"/><g class=\"errorbars\"/><g class=\"lines\"><path class=\"js-line\" d=\"M41.69,32.19L174.95,63.82\" style=\"vector-effect: non-scaling-stroke; fill: none; stroke: rgb(31, 119, 180); stroke-opacity: 1; stroke-width: 2px; opacity: 1;\"/></g><g class=\"points\"/><g class=\"text\"/></g></g></g><g class=\"overplot\"/><path class=\"xlines-above crisp\" d=\"M251.33,230.57666666666668H440\" style=\"fill: none; stroke-width: 1px; stroke: rgb(36, 36, 36); stroke-opacity: 1;\"/><path class=\"ylines-above crisp\" d=\"M251.83,140.92333333333335V230.07666666666668\" style=\"fill: none; stroke-width: 1px; stroke: rgb(36, 36, 36); stroke-opacity: 1;\"/><g class=\"overlines-above\"/><g class=\"xaxislayer-above\"><path class=\"x4tick ticks crisp\" d=\"M0,231.07666666666668v5\" transform=\"translate(282.12,0)\" style=\"stroke: rgb(68, 68, 68); stroke-opacity: 1; stroke-width: 1px;\"/><path class=\"x4tick ticks crisp\" d=\"M0,231.07666666666668v5\" transform=\"translate(329.71000000000004,0)\" style=\"stroke: rgb(68, 68, 68); stroke-opacity: 1; stroke-width: 1px;\"/><path class=\"x4tick ticks crisp\" d=\"M0,231.07666666666668v5\" transform=\"translate(377.3,0)\" style=\"stroke: rgb(68, 68, 68); stroke-opacity: 1; stroke-width: 1px;\"/><path class=\"x4tick ticks crisp\" d=\"M0,231.07666666666668v5\" transform=\"translate(424.9,0)\" style=\"stroke: rgb(68, 68, 68); stroke-opacity: 1; stroke-width: 1px;\"/></g><g class=\"yaxislayer-above\"><path class=\"y4tick ticks crisp\" d=\"M251.33,0h-5\" transform=\"translate(0,195.76333333333335)\" style=\"stroke: rgb(68, 68, 68); stroke-opacity: 1; stroke-width: 1px;\"/><path class=\"y4tick ticks crisp\" d=\"M251.33,0h-5\" transform=\"translate(0,159.89333333333335)\" style=\"stroke: rgb(68, 68, 68); stroke-opacity: 1; stroke-width: 1px;\"/></g><g class=\"overaxes-above\"/></g><g class=\"subplot x5y5\"><g class=\"layer-subplot\"><g class=\"shapelayer\"/><g class=\"imagelayer\"/></g><g class=\"gridlayer\"><g class=\"x5\"><path class=\"x5grid crisp\" transform=\"translate(86.78999999999999,0)\" d=\"M0,30.000000000000036v89.15333333333332\" style=\"stroke: rgb(232, 232, 232); stroke-opacity: 1; stroke-width: 1px;\"/><path class=\"x5grid crisp\" transform=\"translate(134.38,0)\" d=\"M0,30.000000000000036v89.15333333333332\" style=\"stroke: rgb(232, 232, 232); stroke-opacity: 1; stroke-width: 1px;\"/><path class=\"x5grid crisp\" transform=\"translate(181.97,0)\" d=\"M0,30.000000000000036v89.15333333333332\" style=\"stroke: rgb(232, 232, 232); stroke-opacity: 1; stroke-width: 1px;\"/><path class=\"x5grid crisp\" transform=\"translate(229.57,0)\" d=\"M0,30.000000000000036v89.15333333333332\" style=\"stroke: rgb(232, 232, 232); stroke-opacity: 1; stroke-width: 1px;\"/></g><g class=\"y5\"><path class=\"y5grid crisp\" transform=\"translate(0,84.84000000000003)\" d=\"M57,0h187.67\" style=\"stroke: rgb(232, 232, 232); stroke-opacity: 1; stroke-width: 1px;\"/><path class=\"y5grid crisp\" transform=\"translate(0,48.970000000000034)\" d=\"M57,0h187.67\" style=\"stroke: rgb(232, 232, 232); stroke-opacity: 1; stroke-width: 1px;\"/></g></g><g class=\"zerolinelayer\"/><path class=\"xlines-below\"/><path class=\"ylines-below\"/><g class=\"overlines-below\"/><g class=\"xaxislayer-below\"/><g class=\"yaxislayer-below\"/><g class=\"overaxes-below\"/><g class=\"plot\" transform=\"translate(57,30.000000000000036)\" clip-path=\"url(#clipcbf39cx5y5plot)\"><g class=\"scatterlayer mlayer\"><g class=\"trace scatter tracedc375a\" style=\"stroke-miterlimit: 2; opacity: 1;\"><g class=\"fills\"/><g class=\"errorbars\"/><g class=\"lines\"/><g class=\"points\"><path class=\"point\" transform=\"translate(103.56,36.76)\" d=\"M3,0A3,3 0 1,1 0,-3A3,3 0 0,1 3,0Z\" style=\"opacity: 1; stroke-width: 0px; fill: rgb(31, 119, 180); fill-opacity: 1;\"/><path class=\"point\" transform=\"translate(39.31,33.32)\" d=\"M3,0A3,3 0 1,1 0,-3A3,3 0 0,1 3,0Z\" style=\"opacity: 1; stroke-width: 0px; fill: rgb(31, 119, 180); fill-opacity: 1;\"/><path class=\"point\" transform=\"translate(94.04,42.86)\" d=\"M3,0A3,3 0 1,1 0,-3A3,3 0 0,1 3,0Z\" style=\"opacity: 1; stroke-width: 0px; fill: rgb(31, 119, 180); fill-opacity: 1;\"/><path class=\"point\" transform=\"translate(70.24,36.69)\" d=\"M3,0A3,3 0 1,1 0,-3A3,3 0 0,1 3,0Z\" style=\"opacity: 1; stroke-width: 0px; fill: rgb(31, 119, 180); fill-opacity: 1;\"/><path class=\"point\" transform=\"translate(79.76,40.85)\" d=\"M3,0A3,3 0 1,1 0,-3A3,3 0 0,1 3,0Z\" style=\"opacity: 1; stroke-width: 0px; fill: rgb(31, 119, 180); fill-opacity: 1;\"/><path class=\"point\" transform=\"translate(120.22,40.2)\" d=\"M3,0A3,3 0 1,1 0,-3A3,3 0 0,1 3,0Z\" style=\"opacity: 1; stroke-width: 0px; fill: rgb(31, 119, 180); fill-opacity: 1;\"/><path class=\"point\" transform=\"translate(120.22,40.2)\" d=\"M3,0A3,3 0 1,1 0,-3A3,3 0 0,1 3,0Z\" style=\"opacity: 1; stroke-width: 0px; fill: rgb(31, 119, 180); fill-opacity: 1;\"/><path class=\"point\" transform=\"translate(139.25,52.47)\" d=\"M3,0A3,3 0 1,1 0,-3A3,3 0 0,1 3,0Z\" style=\"opacity: 1; stroke-width: 0px; fill: rgb(31, 119, 180); fill-opacity: 1;\"/><path class=\"point\" transform=\"translate(129.73,61.22)\" d=\"M3,0A3,3 0 1,1 0,-3A3,3 0 0,1 3,0Z\" style=\"opacity: 1; stroke-width: 0px; fill: rgb(31, 119, 180); fill-opacity: 1;\"/><path class=\"point\" transform=\"translate(127.35,56.78)\" d=\"M3,0A3,3 0 1,1 0,-3A3,3 0 0,1 3,0Z\" style=\"opacity: 1; stroke-width: 0px; fill: rgb(31, 119, 180); fill-opacity: 1;\"/></g><g class=\"text\"/></g><g class=\"trace scatter tracecc9fbf\" style=\"stroke-miterlimit: 2; opacity: 1;\"><g class=\"fills\"/><g class=\"errorbars\"/><g class=\"lines\"><path class=\"js-line\" d=\"M39.31,30.43L139.25,52.16\" style=\"vector-effect: non-scaling-stroke; fill: none; stroke: rgb(31, 119, 180); stroke-opacity: 1; stroke-width: 2px; opacity: 1;\"/></g><g class=\"points\"/><g class=\"text\"/></g></g></g><g class=\"overplot\"/><path class=\"xlines-above crisp\" d=\"M56,119.65333333333336H244.67\" style=\"fill: none; stroke-width: 1px; stroke: rgb(36, 36, 36); stroke-opacity: 1;\"/><path class=\"ylines-above crisp\" d=\"M56.5,30.000000000000036V119.15333333333336\" style=\"fill: none; stroke-width: 1px; stroke: rgb(36, 36, 36); stroke-opacity: 1;\"/><g class=\"overlines-above\"/><g class=\"xaxislayer-above\"><path class=\"x5tick ticks crisp\" d=\"M0,120.15333333333336v5\" transform=\"translate(86.78999999999999,0)\" style=\"stroke: rgb(68, 68, 68); stroke-opacity: 1; stroke-width: 1px;\"/><path class=\"x5tick ticks crisp\" d=\"M0,120.15333333333336v5\" transform=\"translate(134.38,0)\" style=\"stroke: rgb(68, 68, 68); stroke-opacity: 1; stroke-width: 1px;\"/><path class=\"x5tick ticks crisp\" d=\"M0,120.15333333333336v5\" transform=\"translate(181.97,0)\" style=\"stroke: rgb(68, 68, 68); stroke-opacity: 1; stroke-width: 1px;\"/><path class=\"x5tick ticks crisp\" d=\"M0,120.15333333333336v5\" transform=\"translate(229.57,0)\" style=\"stroke: rgb(68, 68, 68); stroke-opacity: 1; stroke-width: 1px;\"/></g><g class=\"yaxislayer-above\"><path class=\"y5tick ticks crisp\" d=\"M56,0h-5\" transform=\"translate(0,84.84000000000003)\" style=\"stroke: rgb(68, 68, 68); stroke-opacity: 1; stroke-width: 1px;\"/><path class=\"y5tick ticks crisp\" d=\"M56,0h-5\" transform=\"translate(0,48.970000000000034)\" style=\"stroke: rgb(68, 68, 68); stroke-opacity: 1; stroke-width: 1px;\"/><g class=\"y5tick\"><text text-anchor=\"end\" x=\"48.6\" y=\"4.199999999999999\" transform=\"translate(0,84.84000000000003)\" style=\"font-family: 'Open Sans', verdana, arial, sans-serif; font-size: 12px; fill: rgb(36, 36, 36); fill-opacity: 1; white-space: pre; opacity: 1;\">10</text></g><g class=\"y5tick\"><text text-anchor=\"end\" x=\"48.6\" y=\"4.199999999999999\" style=\"font-family: 'Open Sans', verdana, arial, sans-serif; font-size: 12px; fill: rgb(36, 36, 36); fill-opacity: 1; white-space: pre; opacity: 1;\" transform=\"translate(0,48.970000000000034)\">15</text></g></g><g class=\"overaxes-above\"/></g><g class=\"subplot x6y6\"><g class=\"layer-subplot\"><g class=\"shapelayer\"/><g class=\"imagelayer\"/></g><g class=\"gridlayer\"><g class=\"x6\"><path class=\"x6grid crisp\" transform=\"translate(282.12,0)\" d=\"M0,30.000000000000036v89.15333333333332\" style=\"stroke: rgb(232, 232, 232); stroke-opacity: 1; stroke-width: 1px;\"/><path class=\"x6grid crisp\" transform=\"translate(329.71000000000004,0)\" d=\"M0,30.000000000000036v89.15333333333332\" style=\"stroke: rgb(232, 232, 232); stroke-opacity: 1; stroke-width: 1px;\"/><path class=\"x6grid crisp\" transform=\"translate(377.3,0)\" d=\"M0,30.000000000000036v89.15333333333332\" style=\"stroke: rgb(232, 232, 232); stroke-opacity: 1; stroke-width: 1px;\"/><path class=\"x6grid crisp\" transform=\"translate(424.9,0)\" d=\"M0,30.000000000000036v89.15333333333332\" style=\"stroke: rgb(232, 232, 232); stroke-opacity: 1; stroke-width: 1px;\"/></g><g class=\"y6\"><path class=\"y6grid crisp\" transform=\"translate(0,84.84000000000003)\" d=\"M252.33,0h187.67\" style=\"stroke: rgb(232, 232, 232); stroke-opacity: 1; stroke-width: 1px;\"/><path class=\"y6grid crisp\" transform=\"translate(0,48.970000000000034)\" d=\"M252.33,0h187.67\" style=\"stroke: rgb(232, 232, 232); stroke-opacity: 1; stroke-width: 1px;\"/></g></g><g class=\"zerolinelayer\"/><path class=\"xlines-below\"/><path class=\"ylines-below\"/><g class=\"overlines-below\"/><g class=\"xaxislayer-below\"/><g class=\"yaxislayer-below\"/><g class=\"overaxes-below\"/><g class=\"plot\" transform=\"translate(252.33,30.000000000000036)\" clip-path=\"url(#clipcbf39cx6y6plot)\"><g class=\"scatterlayer mlayer\"><g class=\"trace scatter tracee462a8\" style=\"stroke-miterlimit: 2; opacity: 1;\"><g class=\"fills\"/><g class=\"errorbars\"/><g class=\"lines\"/><g class=\"points\"><path class=\"point\" transform=\"translate(41.69,27.29)\" d=\"M3,0A3,3 0 1,1 0,-3A3,3 0 0,1 3,0Z\" style=\"opacity: 1; stroke-width: 0px; fill: rgb(31, 119, 180); fill-opacity: 1;\"/><path class=\"point\" transform=\"translate(91.66,36.98)\" d=\"M3,0A3,3 0 1,1 0,-3A3,3 0 0,1 3,0Z\" style=\"opacity: 1; stroke-width: 0px; fill: rgb(31, 119, 180); fill-opacity: 1;\"/><path class=\"point\" transform=\"translate(44.07,44.65)\" d=\"M3,0A3,3 0 1,1 0,-3A3,3 0 0,1 3,0Z\" style=\"opacity: 1; stroke-width: 0px; fill: rgb(31, 119, 180); fill-opacity: 1;\"/><path class=\"point\" transform=\"translate(46.45,47.31)\" d=\"M3,0A3,3 0 1,1 0,-3A3,3 0 0,1 3,0Z\" style=\"opacity: 1; stroke-width: 0px; fill: rgb(31, 119, 180); fill-opacity: 1;\"/><path class=\"point\" transform=\"translate(139.25,43.15)\" d=\"M3,0A3,3 0 1,1 0,-3A3,3 0 0,1 3,0Z\" style=\"opacity: 1; stroke-width: 0px; fill: rgb(31, 119, 180); fill-opacity: 1;\"/><path class=\"point\" transform=\"translate(120.22,41.71)\" d=\"M3,0A3,3 0 1,1 0,-3A3,3 0 0,1 3,0Z\" style=\"opacity: 1; stroke-width: 0px; fill: rgb(31, 119, 180); fill-opacity: 1;\"/><path class=\"point\" transform=\"translate(110.7,37.33)\" d=\"M3,0A3,3 0 1,1 0,-3A3,3 0 0,1 3,0Z\" style=\"opacity: 1; stroke-width: 0px; fill: rgb(31, 119, 180); fill-opacity: 1;\"/><path class=\"point\" transform=\"translate(124.97,58.57)\" d=\"M3,0A3,3 0 1,1 0,-3A3,3 0 0,1 3,0Z\" style=\"opacity: 1; stroke-width: 0px; fill: rgb(31, 119, 180); fill-opacity: 1;\"/><path class=\"point\" transform=\"translate(134.49,46.95)\" d=\"M3,0A3,3 0 1,1 0,-3A3,3 0 0,1 3,0Z\" style=\"opacity: 1; stroke-width: 0px; fill: rgb(31, 119, 180); fill-opacity: 1;\"/><path class=\"point\" transform=\"translate(129.73,43.58)\" d=\"M3,0A3,3 0 1,1 0,-3A3,3 0 0,1 3,0Z\" style=\"opacity: 1; stroke-width: 0px; fill: rgb(31, 119, 180); fill-opacity: 1;\"/><path class=\"point\" transform=\"translate(129.73,46.45)\" d=\"M3,0A3,3 0 1,1 0,-3A3,3 0 0,1 3,0Z\" style=\"opacity: 1; stroke-width: 0px; fill: rgb(31, 119, 180); fill-opacity: 1;\"/><path class=\"point\" transform=\"translate(108.32,45.73)\" d=\"M3,0A3,3 0 1,1 0,-3A3,3 0 0,1 3,0Z\" style=\"opacity: 1; stroke-width: 0px; fill: rgb(31, 119, 180); fill-opacity: 1;\"/><path class=\"point\" transform=\"translate(136.87,52.4)\" d=\"M3,0A3,3 0 1,1 0,-3A3,3 0 0,1 3,0Z\" style=\"opacity: 1; stroke-width: 0px; fill: rgb(31, 119, 180); fill-opacity: 1;\"/><path class=\"point\" transform=\"translate(94.04,54.84)\" d=\"M3,0A3,3 0 1,1 0,-3A3,3 0 0,1 3,0Z\" style=\"opacity: 1; stroke-width: 0px; fill: rgb(31, 119, 180); fill-opacity: 1;\"/><path class=\"point\" transform=\"translate(136.87,54.84)\" d=\"M3,0A3,3 0 1,1 0,-3A3,3 0 0,1 3,0Z\" style=\"opacity: 1; stroke-width: 0px; fill: rgb(31, 119, 180); fill-opacity: 1;\"/><path class=\"point\" transform=\"translate(94.04,59.14)\" d=\"M3,0A3,3 0 1,1 0,-3A3,3 0 0,1 3,0Z\" style=\"opacity: 1; stroke-width: 0px; fill: rgb(31, 119, 180); fill-opacity: 1;\"/><path class=\"point\" transform=\"translate(146.39,59.72)\" d=\"M3,0A3,3 0 1,1 0,-3A3,3 0 0,1 3,0Z\" style=\"opacity: 1; stroke-width: 0px; fill: rgb(31, 119, 180); fill-opacity: 1;\"/><path class=\"point\" transform=\"translate(120.22,44.44)\" d=\"M3,0A3,3 0 1,1 0,-3A3,3 0 0,1 3,0Z\" style=\"opacity: 1; stroke-width: 0px; fill: rgb(31, 119, 180); fill-opacity: 1;\"/><path class=\"point\" transform=\"translate(108.32,34.97)\" d=\"M3,0A3,3 0 1,1 0,-3A3,3 0 0,1 3,0Z\" style=\"opacity: 1; stroke-width: 0px; fill: rgb(31, 119, 180); fill-opacity: 1;\"/><path class=\"point\" transform=\"translate(86.9,55.56)\" d=\"M3,0A3,3 0 1,1 0,-3A3,3 0 0,1 3,0Z\" style=\"opacity: 1; stroke-width: 0px; fill: rgb(31, 119, 180); fill-opacity: 1;\"/><path class=\"point\" transform=\"translate(39.31,24.35)\" d=\"M3,0A3,3 0 1,1 0,-3A3,3 0 0,1 3,0Z\" style=\"opacity: 1; stroke-width: 0px; fill: rgb(31, 119, 180); fill-opacity: 1;\"/></g><g class=\"text\"/></g><g class=\"trace scatter trace097e63\" style=\"stroke-miterlimit: 2; opacity: 1;\"><g class=\"fills\"/><g class=\"errorbars\"/><g class=\"lines\"><path class=\"js-line\" d=\"M39.31,36.8L146.39,51.55\" style=\"vector-effect: non-scaling-stroke; fill: none; stroke: rgb(31, 119, 180); stroke-opacity: 1; stroke-width: 2px; opacity: 1;\"/></g><g class=\"points\"/><g class=\"text\"/></g></g></g><g class=\"overplot\"/><path class=\"xlines-above crisp\" d=\"M251.33,119.65333333333336H440\" style=\"fill: none; stroke-width: 1px; stroke: rgb(36, 36, 36); stroke-opacity: 1;\"/><path class=\"ylines-above crisp\" d=\"M251.83,30.000000000000036V119.15333333333336\" style=\"fill: none; stroke-width: 1px; stroke: rgb(36, 36, 36); stroke-opacity: 1;\"/><g class=\"overlines-above\"/><g class=\"xaxislayer-above\"><path class=\"x6tick ticks crisp\" d=\"M0,120.15333333333336v5\" transform=\"translate(282.12,0)\" style=\"stroke: rgb(68, 68, 68); stroke-opacity: 1; stroke-width: 1px;\"/><path class=\"x6tick ticks crisp\" d=\"M0,120.15333333333336v5\" transform=\"translate(329.71000000000004,0)\" style=\"stroke: rgb(68, 68, 68); stroke-opacity: 1; stroke-width: 1px;\"/><path class=\"x6tick ticks crisp\" d=\"M0,120.15333333333336v5\" transform=\"translate(377.3,0)\" style=\"stroke: rgb(68, 68, 68); stroke-opacity: 1; stroke-width: 1px;\"/><path class=\"x6tick ticks crisp\" d=\"M0,120.15333333333336v5\" transform=\"translate(424.9,0)\" style=\"stroke: rgb(68, 68, 68); stroke-opacity: 1; stroke-width: 1px;\"/></g><g class=\"yaxislayer-above\"><path class=\"y6tick ticks crisp\" d=\"M251.33,0h-5\" transform=\"translate(0,84.84000000000003)\" style=\"stroke: rgb(68, 68, 68); stroke-opacity: 1; stroke-width: 1px;\"/><path class=\"y6tick ticks crisp\" d=\"M251.33,0h-5\" transform=\"translate(0,48.970000000000034)\" style=\"stroke: rgb(68, 68, 68); stroke-opacity: 1; stroke-width: 1px;\"/></g><g class=\"overaxes-above\"/></g></g><g class=\"polarlayer\"/><g class=\"smithlayer\"/><g class=\"ternarylayer\"/><g class=\"geolayer\"/><g class=\"funnelarealayer\"/><g class=\"pielayer\"/><g class=\"iciclelayer\"/><g class=\"treemaplayer\"/><g class=\"sunburstlayer\"/><g class=\"glimages\"/><defs id=\"topdefs-cbf39c\"><g class=\"clips\"/></defs><g class=\"layer-above\"><g class=\"imagelayer\"/><g class=\"shapelayer\"/></g><g class=\"infolayer\"><g class=\"g-gtitle\"/><g class=\"g-xtitle\"><text class=\"xtitle\" x=\"150.83499999999998\" y=\"389.70625\" text-anchor=\"middle\" style=\"font-family: 'Open Sans', verdana, arial, sans-serif; font-size: 14px; fill: rgb(36, 36, 36); opacity: 1; font-weight: normal; white-space: pre;\">height</text></g><g class=\"g-x2title\"><text class=\"x2title\" x=\"346.165\" y=\"389.70625\" text-anchor=\"middle\" style=\"font-family: 'Open Sans', verdana, arial, sans-serif; font-size: 14px; fill: rgb(36, 36, 36); opacity: 1; font-weight: normal; white-space: pre;\">height</text></g><g class=\"g-x3title\"/><g class=\"g-x4title\"/><g class=\"g-x5title\"/><g class=\"g-x6title\"/><g class=\"g-ytitle\" transform=\"translate(4.9267578125,0)\"><text class=\"ytitle\" transform=\"rotate(-90,10.075000000000003,296.42333333333335)\" x=\"10.075000000000003\" y=\"296.42333333333335\" text-anchor=\"middle\" style=\"font-family: 'Open Sans', verdana, arial, sans-serif; font-size: 14px; fill: rgb(36, 36, 36); opacity: 1; font-weight: normal; white-space: pre;\">longevity</text></g><g class=\"g-y2title\"/><g class=\"g-y3title\" transform=\"translate(4.9248046875,0)\"><text class=\"y3title\" transform=\"rotate(-90,10.075000000000003,185.5)\" x=\"10.075000000000003\" y=\"185.5\" text-anchor=\"middle\" style=\"font-family: 'Open Sans', verdana, arial, sans-serif; font-size: 14px; fill: rgb(36, 36, 36); opacity: 1; font-weight: normal; white-space: pre;\">longevity</text></g><g class=\"g-y4title\"/><g class=\"g-y5title\" transform=\"translate(4.939453125,0)\"><text class=\"y5title\" transform=\"rotate(-90,10.075000000000003,74.5766666666667)\" x=\"10.075000000000003\" y=\"74.5766666666667\" text-anchor=\"middle\" style=\"font-family: 'Open Sans', verdana, arial, sans-serif; font-size: 14px; fill: rgb(36, 36, 36); opacity: 1; font-weight: normal; white-space: pre;\">longevity</text></g><g class=\"g-y6title\"/><g class=\"annotation\" data-index=\"0\" style=\"opacity: 1;\"><g class=\"annotation-text-g\" transform=\"rotate(0,150.83499999999998,241.3466666666667)\"><g class=\"cursor-pointer\" transform=\"translate(102,231)\"><rect class=\"bg\" x=\"0.5\" y=\"0.5\" width=\"96\" height=\"20\" style=\"stroke-width: 1px; stroke: rgb(0, 0, 0); stroke-opacity: 0; fill: rgb(0, 0, 0); fill-opacity: 0;\"/><text class=\"annotation-text\" text-anchor=\"middle\" x=\"48.53125\" y=\"15\" style=\"font-family: 'Open Sans', verdana, arial, sans-serif; font-size: 12px; fill: rgb(36, 36, 36); fill-opacity: 1; white-space: pre;\">repetition=40-80</text></g></g></g><g class=\"annotation\" data-index=\"1\" style=\"opacity: 1;\"><g class=\"annotation-text-g\" transform=\"rotate(0,346.165,241.3466666666667)\"><g class=\"cursor-pointer\" transform=\"translate(294,231)\"><rect class=\"bg\" x=\"0.5\" y=\"0.5\" width=\"103\" height=\"20\" style=\"stroke-width: 1px; stroke: rgb(0, 0, 0); stroke-opacity: 0; fill: rgb(0, 0, 0); fill-opacity: 0;\"/><text class=\"annotation-text\" text-anchor=\"middle\" x=\"51.953125\" y=\"15\" style=\"font-family: 'Open Sans', verdana, arial, sans-serif; font-size: 12px; fill: rgb(36, 36, 36); fill-opacity: 1; white-space: pre;\">repetition=80-100</text></g></g></g><g class=\"annotation\" data-index=\"2\" style=\"opacity: 1;\"><g class=\"annotation-text-g\" transform=\"rotate(0,150.83499999999998,130.42333333333335)\"><g class=\"cursor-pointer\" transform=\"translate(106,120)\"><rect class=\"bg\" x=\"0.5\" y=\"0.5\" width=\"89\" height=\"20\" style=\"stroke-width: 1px; stroke: rgb(0, 0, 0); stroke-opacity: 0; fill: rgb(0, 0, 0); fill-opacity: 0;\"/><text class=\"annotation-text\" text-anchor=\"middle\" x=\"45.09375\" y=\"15\" style=\"font-family: 'Open Sans', verdana, arial, sans-serif; font-size: 12px; fill: rgb(36, 36, 36); fill-opacity: 1; white-space: pre;\">repetition=5-15</text></g></g></g><g class=\"annotation\" data-index=\"3\" style=\"opacity: 1;\"><g class=\"annotation-text-g\" transform=\"rotate(0,346.165,130.42333333333335)\"><g class=\"cursor-pointer\" transform=\"translate(298,120)\"><rect class=\"bg\" x=\"0.5\" y=\"0.5\" width=\"96\" height=\"20\" style=\"stroke-width: 1px; stroke: rgb(0, 0, 0); stroke-opacity: 0; fill: rgb(0, 0, 0); fill-opacity: 0;\"/><text class=\"annotation-text\" text-anchor=\"middle\" x=\"48.53125\" y=\"15\" style=\"font-family: 'Open Sans', verdana, arial, sans-serif; font-size: 12px; fill: rgb(36, 36, 36); fill-opacity: 1; white-space: pre;\">repetition=25-40</text></g></g></g><g class=\"annotation\" data-index=\"4\" style=\"opacity: 1;\"><g class=\"annotation-text-g\" transform=\"rotate(0,150.83499999999998,19.500000000000036)\"><g class=\"cursor-pointer\" transform=\"translate(111,9)\"><rect class=\"bg\" x=\"0.5\" y=\"0.5\" width=\"78\" height=\"20\" style=\"stroke-width: 1px; stroke: rgb(0, 0, 0); stroke-opacity: 0; fill: rgb(0, 0, 0); fill-opacity: 0;\"/><text class=\"annotation-text\" text-anchor=\"middle\" x=\"39.734375\" y=\"15\" style=\"font-family: 'Open Sans', verdana, arial, sans-serif; font-size: 12px; fill: rgb(36, 36, 36); fill-opacity: 1; white-space: pre;\">repetition=&#60;5</text></g></g></g><g class=\"annotation\" data-index=\"5\" style=\"opacity: 1;\"><g class=\"annotation-text-g\" transform=\"rotate(0,346.165,19.500000000000032)\"><g class=\"cursor-pointer\" transform=\"translate(298,9)\"><rect class=\"bg\" x=\"0.5\" y=\"0.5\" width=\"96\" height=\"20\" style=\"stroke-width: 1px; stroke: rgb(0, 0, 0); stroke-opacity: 0; fill: rgb(0, 0, 0); fill-opacity: 0;\"/><text class=\"annotation-text\" text-anchor=\"middle\" x=\"48.53125\" y=\"15\" style=\"font-family: 'Open Sans', verdana, arial, sans-serif; font-size: 12px; fill: rgb(36, 36, 36); fill-opacity: 1; white-space: pre;\">repetition=15-25</text></g></g></g></g></svg>"
      ]
     },
     "metadata": {},
     "output_type": "display_data"
    }
   ],
   "source": [
    "fig = px.scatter(dogs.dropna(subset=['repetition']), x='height', y='longevity', \n",
    "                 facet_col='repetition', facet_col_wrap=2, trendline='ols',\n",
    "                width=450, height=400)\n",
    "margin(fig, t=30)\n",
    "fig.show()"
   ]
  },
  {
   "cell_type": "markdown",
   "metadata": {},
   "source": [
    "Small multiples of plots like this one are convenient because they let us see whether the\n",
    "relationship between longevity and height holds across groups."
   ]
  },
  {
   "cell_type": "markdown",
   "metadata": {},
   "source": [
    "**Groups and Subgroups of Box Plots.** We have seen in the collections of box plots of height according to breed size that we can compare the basic shape of a distribution across\n",
    "subgroups with side-by-side box plots. When we have two or more qualitative\n",
    "features, we can organize the box plots into groups according to one of the\n",
    "qualitative features."
   ]
  },
  {
   "cell_type": "markdown",
   "metadata": {},
   "source": [
    "**Curse of Dimensionality**. Comparisons that involve more than one categorical\n",
    "variable can quickly become cumbersome as the number of possible combinations\n",
    "of categories grows. For example, there are 3 × 4 = 12 size–repetitions\n",
    "combinations (if we had kept the original categories for repetitions, we would\n",
    "have 18 combinations). Examining a distribution across 12 subgroups can be\n",
    "difficult. Further, we come up against the problem of having too few\n",
    "observations in subgroups. Although, there are nearly 200 rows in the dogs\n",
    "data frame, half of the size–repetition combinations have 10 or fewer\n",
    "observations. (This is compounded by losing an observation when one feature has\n",
    "a missing value.) This \"curse of dimensionality\" also arises when we compare\n",
    "relationships with quantitative data. With just three quantitative variables,\n",
    "some of the scatter plots in a facet plot can easily have too few observations\n",
    "to confirm the shape of the relationship between two variables for the\n",
    "subgroups."
   ]
  },
  {
   "cell_type": "markdown",
   "metadata": {},
   "source": [
    "Now that we've seen practical examples of visualizations that are commonly\n",
    "used in exploratory data analysis, we proceed to discuss some high-level guidelines for EDA."
   ]
  }
 ],
 "metadata": {
  "celltoolbar": "Tags",
  "kernelspec": {
   "display_name": "Python 3",
   "language": "python",
   "name": "python3"
  },
  "language_info": {
   "codemirror_mode": {
    "name": "ipython",
    "version": 3
   },
   "file_extension": ".py",
   "mimetype": "text/x-python",
   "name": "python",
   "nbconvert_exporter": "python",
   "pygments_lexer": "ipython3",
   "version": "3.9.4"
  }
 },
 "nbformat": 4,
 "nbformat_minor": 4
}
