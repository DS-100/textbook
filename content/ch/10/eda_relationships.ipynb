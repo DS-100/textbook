{
 "cells": [
  {
   "cell_type": "code",
   "execution_count": 1,
   "metadata": {
    "tags": [
     "remove-cell"
    ]
   },
   "outputs": [],
   "source": [
    "import sys\n",
    "import os\n",
    "if not any(path.endswith('textbook') for path in sys.path):\n",
    "    sys.path.append(os.path.abspath('../../..'))\n",
    "from textbook_utils import *"
   ]
  },
  {
   "cell_type": "code",
   "execution_count": 2,
   "metadata": {
    "tags": [
     "remove-cell"
    ]
   },
   "outputs": [],
   "source": [
    "dogs = pd.read_csv('data/akc.csv')"
   ]
  },
  {
   "cell_type": "markdown",
   "metadata": {},
   "source": [
    "(sec:eda_relationships)=\n",
    "# What to Look For in a Relationship"
   ]
  },
  {
   "cell_type": "markdown",
   "metadata": {},
   "source": [
    "When we investigate multiple variables, we examine the relationships between\n",
    "them, in addition to their distributions. In this section, we\n",
    "consider pairs of features and describe what to look for.\n",
    "{numref}`Table %s <plots-for-features>` provides guidelines for what kind of plot to make\n",
    "based on the feature types. \n",
    "For two features, the combination of types (both quantitative, both qualitative, or a mix) matters.\n",
    "We consider each combination in turn."
   ]
  },
  {
   "cell_type": "markdown",
   "metadata": {},
   "source": [
    "## Two Quantitative Features\n",
    "\n",
    "If both features are quantitative, then we often\n",
    "examine their relationship with a scatter plot.\n",
    "Each point in a scatter plot\n",
    "marks the position of a pair of values for an observation.\n",
    "So, we can think of a scatter plot as a two-dimensional rug plot."
   ]
  },
  {
   "cell_type": "markdown",
   "metadata": {},
   "source": [
    "With scatter plots, we look for linear and simple nonlinear relationships, and we examine the strength of the relationship.\n",
    "We also look to see if a transformation of one or the other or both features leads to a linear relationship."
   ]
  },
  {
   "cell_type": "markdown",
   "metadata": {},
   "source": [
    "The scatter plot below displays the weight and height of dog breeds (both are\n",
    "quantitative). We observe that dogs that are above average in height tend to be\n",
    "above average in weight. This relationship appears nonlinear: the change in\n",
    "weight for taller dogs grows faster than for shorter dogs. Indeed, that makes\n",
    "sense if we think of a dog as basically shaped like a box: for similarly\n",
    "proportioned boxes, the weight of the contents of the box has a cubic\n",
    "relationship to its length."
   ]
  },
  {
   "cell_type": "code",
   "execution_count": 3,
   "metadata": {
    "tags": [
     "remove-input"
    ]
   },
   "outputs": [
    {
     "data": {
      "application/vnd.plotly.v1+json": {
       "config": {
        "plotlyServerURL": "https://plot.ly"
       },
       "data": [
        {
         "hovertemplate": "height=%{x}<br>weight=%{y}<extra></extra>",
         "legendgroup": "",
         "marker": {
          "color": "#1F77B4",
          "symbol": "circle"
         },
         "mode": "markers",
         "name": "",
         "orientation": "v",
         "showlegend": false,
         "type": "scatter",
         "x": [
          51,
          null,
          48,
          25,
          46,
          41,
          37,
          24,
          47,
          37,
          55,
          27,
          26,
          null,
          33,
          13,
          27,
          51,
          50,
          27,
          null,
          41,
          27,
          61,
          65,
          25,
          58,
          23,
          null,
          25,
          52,
          null,
          66,
          58,
          null,
          58,
          54,
          36,
          60,
          39,
          64,
          62,
          41,
          62,
          24,
          59,
          null,
          66,
          25,
          61,
          32,
          53,
          36,
          42,
          36,
          38,
          65,
          28,
          47,
          23,
          58,
          65,
          null,
          25,
          62,
          47,
          66,
          69,
          61,
          null,
          56,
          66,
          65,
          null,
          71,
          64,
          55,
          59,
          61,
          47,
          64,
          81,
          65,
          76,
          76,
          67,
          null,
          58,
          62,
          36,
          58,
          46,
          42,
          71,
          53,
          65,
          61,
          61,
          64,
          71,
          61,
          41,
          55,
          64,
          29,
          29,
          30,
          48,
          61,
          64,
          61,
          47,
          44,
          47,
          45,
          47,
          61,
          34,
          72,
          66,
          51,
          25,
          64,
          44,
          62,
          46,
          57,
          24,
          44,
          70,
          71,
          37,
          72,
          33,
          null,
          30,
          29,
          70,
          44,
          51,
          34,
          25,
          48,
          65,
          34,
          36,
          57,
          47,
          51,
          42,
          46,
          61,
          29,
          null,
          27,
          38,
          24,
          25,
          38,
          46,
          62,
          47,
          36,
          32,
          64,
          25,
          57,
          64,
          38,
          38,
          56,
          42
         ],
         "xaxis": "x",
         "y": [
          null,
          6,
          16,
          6,
          null,
          14,
          11,
          null,
          null,
          10.15,
          22,
          7,
          null,
          11,
          7,
          2,
          null,
          null,
          20,
          null,
          9,
          null,
          null,
          28,
          27,
          5,
          31,
          2,
          2,
          6,
          null,
          2,
          29,
          null,
          4,
          27,
          null,
          null,
          31,
          11,
          28,
          null,
          7,
          null,
          5,
          null,
          null,
          null,
          5,
          null,
          7,
          null,
          null,
          10,
          null,
          14,
          null,
          12,
          32,
          10,
          null,
          35,
          29,
          9,
          null,
          17,
          25,
          57,
          null,
          6,
          null,
          null,
          35,
          12,
          37,
          null,
          27,
          null,
          36,
          null,
          39,
          null,
          52,
          79,
          null,
          70,
          20,
          null,
          null,
          null,
          null,
          null,
          16,
          52,
          null,
          null,
          null,
          null,
          null,
          null,
          28,
          null,
          20,
          null,
          14,
          9,
          null,
          24,
          28,
          null,
          null,
          null,
          null,
          null,
          null,
          null,
          null,
          16,
          null,
          null,
          null,
          null,
          null,
          null,
          null,
          12,
          25,
          null,
          null,
          45,
          42,
          8,
          null,
          null,
          8,
          null,
          null,
          59,
          15,
          23,
          null,
          5,
          null,
          44,
          7,
          null,
          23,
          null,
          22,
          null,
          null,
          null,
          null,
          42,
          11,
          9,
          5,
          18,
          8,
          16,
          null,
          null,
          18,
          null,
          null,
          null,
          null,
          null,
          9,
          8,
          null,
          null
         ],
         "yaxis": "y"
        },
        {
         "alignmentgroup": "True",
         "boxpoints": "all",
         "fillcolor": "rgba(255,255,255,0)",
         "hoveron": "points",
         "hovertemplate": "height=%{x}<extra></extra>",
         "jitter": 0,
         "legendgroup": "",
         "line": {
          "color": "rgba(255,255,255,0)"
         },
         "marker": {
          "color": "#1F77B4",
          "symbol": "line-ns-open"
         },
         "name": "",
         "offsetgroup": "",
         "showlegend": false,
         "type": "box",
         "x": [
          51,
          null,
          48,
          25,
          46,
          41,
          37,
          24,
          47,
          37,
          55,
          27,
          26,
          null,
          33,
          13,
          27,
          51,
          50,
          27,
          null,
          41,
          27,
          61,
          65,
          25,
          58,
          23,
          null,
          25,
          52,
          null,
          66,
          58,
          null,
          58,
          54,
          36,
          60,
          39,
          64,
          62,
          41,
          62,
          24,
          59,
          null,
          66,
          25,
          61,
          32,
          53,
          36,
          42,
          36,
          38,
          65,
          28,
          47,
          23,
          58,
          65,
          null,
          25,
          62,
          47,
          66,
          69,
          61,
          null,
          56,
          66,
          65,
          null,
          71,
          64,
          55,
          59,
          61,
          47,
          64,
          81,
          65,
          76,
          76,
          67,
          null,
          58,
          62,
          36,
          58,
          46,
          42,
          71,
          53,
          65,
          61,
          61,
          64,
          71,
          61,
          41,
          55,
          64,
          29,
          29,
          30,
          48,
          61,
          64,
          61,
          47,
          44,
          47,
          45,
          47,
          61,
          34,
          72,
          66,
          51,
          25,
          64,
          44,
          62,
          46,
          57,
          24,
          44,
          70,
          71,
          37,
          72,
          33,
          null,
          30,
          29,
          70,
          44,
          51,
          34,
          25,
          48,
          65,
          34,
          36,
          57,
          47,
          51,
          42,
          46,
          61,
          29,
          null,
          27,
          38,
          24,
          25,
          38,
          46,
          62,
          47,
          36,
          32,
          64,
          25,
          57,
          64,
          38,
          38,
          56,
          42
         ],
         "xaxis": "x3",
         "yaxis": "y3"
        },
        {
         "alignmentgroup": "True",
         "boxpoints": "all",
         "fillcolor": "rgba(255,255,255,0)",
         "hoveron": "points",
         "hovertemplate": "weight=%{y}<extra></extra>",
         "jitter": 0,
         "legendgroup": "",
         "line": {
          "color": "rgba(255,255,255,0)"
         },
         "marker": {
          "color": "#1F77B4",
          "symbol": "line-ew-open"
         },
         "name": "",
         "offsetgroup": "",
         "showlegend": false,
         "type": "box",
         "xaxis": "x2",
         "y": [
          null,
          6,
          16,
          6,
          null,
          14,
          11,
          null,
          null,
          10.15,
          22,
          7,
          null,
          11,
          7,
          2,
          null,
          null,
          20,
          null,
          9,
          null,
          null,
          28,
          27,
          5,
          31,
          2,
          2,
          6,
          null,
          2,
          29,
          null,
          4,
          27,
          null,
          null,
          31,
          11,
          28,
          null,
          7,
          null,
          5,
          null,
          null,
          null,
          5,
          null,
          7,
          null,
          null,
          10,
          null,
          14,
          null,
          12,
          32,
          10,
          null,
          35,
          29,
          9,
          null,
          17,
          25,
          57,
          null,
          6,
          null,
          null,
          35,
          12,
          37,
          null,
          27,
          null,
          36,
          null,
          39,
          null,
          52,
          79,
          null,
          70,
          20,
          null,
          null,
          null,
          null,
          null,
          16,
          52,
          null,
          null,
          null,
          null,
          null,
          null,
          28,
          null,
          20,
          null,
          14,
          9,
          null,
          24,
          28,
          null,
          null,
          null,
          null,
          null,
          null,
          null,
          null,
          16,
          null,
          null,
          null,
          null,
          null,
          null,
          null,
          12,
          25,
          null,
          null,
          45,
          42,
          8,
          null,
          null,
          8,
          null,
          null,
          59,
          15,
          23,
          null,
          5,
          null,
          44,
          7,
          null,
          23,
          null,
          22,
          null,
          null,
          null,
          null,
          42,
          11,
          9,
          5,
          18,
          8,
          16,
          null,
          null,
          18,
          null,
          null,
          null,
          null,
          null,
          9,
          8,
          null,
          null
         ],
         "yaxis": "y2"
        }
       ],
       "layout": {
        "height": 250,
        "legend": {
         "tracegroupgap": 0
        },
        "template": {
         "data": {
          "bar": [
           {
            "error_x": {
             "color": "rgb(36,36,36)"
            },
            "error_y": {
             "color": "rgb(36,36,36)"
            },
            "marker": {
             "line": {
              "color": "white",
              "width": 0.5
             },
             "pattern": {
              "fillmode": "overlay",
              "size": 10,
              "solidity": 0.2
             }
            },
            "type": "bar"
           }
          ],
          "barpolar": [
           {
            "marker": {
             "line": {
              "color": "white",
              "width": 0.5
             },
             "pattern": {
              "fillmode": "overlay",
              "size": 10,
              "solidity": 0.2
             }
            },
            "type": "barpolar"
           }
          ],
          "carpet": [
           {
            "aaxis": {
             "endlinecolor": "rgb(36,36,36)",
             "gridcolor": "white",
             "linecolor": "white",
             "minorgridcolor": "white",
             "startlinecolor": "rgb(36,36,36)"
            },
            "baxis": {
             "endlinecolor": "rgb(36,36,36)",
             "gridcolor": "white",
             "linecolor": "white",
             "minorgridcolor": "white",
             "startlinecolor": "rgb(36,36,36)"
            },
            "type": "carpet"
           }
          ],
          "choropleth": [
           {
            "colorbar": {
             "outlinewidth": 1,
             "tickcolor": "rgb(36,36,36)",
             "ticks": "outside"
            },
            "type": "choropleth"
           }
          ],
          "contour": [
           {
            "colorbar": {
             "outlinewidth": 1,
             "tickcolor": "rgb(36,36,36)",
             "ticks": "outside"
            },
            "colorscale": [
             [
              0,
              "#440154"
             ],
             [
              0.1111111111111111,
              "#482878"
             ],
             [
              0.2222222222222222,
              "#3e4989"
             ],
             [
              0.3333333333333333,
              "#31688e"
             ],
             [
              0.4444444444444444,
              "#26828e"
             ],
             [
              0.5555555555555556,
              "#1f9e89"
             ],
             [
              0.6666666666666666,
              "#35b779"
             ],
             [
              0.7777777777777778,
              "#6ece58"
             ],
             [
              0.8888888888888888,
              "#b5de2b"
             ],
             [
              1,
              "#fde725"
             ]
            ],
            "type": "contour"
           }
          ],
          "contourcarpet": [
           {
            "colorbar": {
             "outlinewidth": 1,
             "tickcolor": "rgb(36,36,36)",
             "ticks": "outside"
            },
            "type": "contourcarpet"
           }
          ],
          "heatmap": [
           {
            "colorbar": {
             "outlinewidth": 1,
             "tickcolor": "rgb(36,36,36)",
             "ticks": "outside"
            },
            "colorscale": [
             [
              0,
              "#440154"
             ],
             [
              0.1111111111111111,
              "#482878"
             ],
             [
              0.2222222222222222,
              "#3e4989"
             ],
             [
              0.3333333333333333,
              "#31688e"
             ],
             [
              0.4444444444444444,
              "#26828e"
             ],
             [
              0.5555555555555556,
              "#1f9e89"
             ],
             [
              0.6666666666666666,
              "#35b779"
             ],
             [
              0.7777777777777778,
              "#6ece58"
             ],
             [
              0.8888888888888888,
              "#b5de2b"
             ],
             [
              1,
              "#fde725"
             ]
            ],
            "type": "heatmap"
           }
          ],
          "heatmapgl": [
           {
            "colorbar": {
             "outlinewidth": 1,
             "tickcolor": "rgb(36,36,36)",
             "ticks": "outside"
            },
            "colorscale": [
             [
              0,
              "#440154"
             ],
             [
              0.1111111111111111,
              "#482878"
             ],
             [
              0.2222222222222222,
              "#3e4989"
             ],
             [
              0.3333333333333333,
              "#31688e"
             ],
             [
              0.4444444444444444,
              "#26828e"
             ],
             [
              0.5555555555555556,
              "#1f9e89"
             ],
             [
              0.6666666666666666,
              "#35b779"
             ],
             [
              0.7777777777777778,
              "#6ece58"
             ],
             [
              0.8888888888888888,
              "#b5de2b"
             ],
             [
              1,
              "#fde725"
             ]
            ],
            "type": "heatmapgl"
           }
          ],
          "histogram": [
           {
            "marker": {
             "line": {
              "color": "white",
              "width": 0.6
             }
            },
            "type": "histogram"
           }
          ],
          "histogram2d": [
           {
            "colorbar": {
             "outlinewidth": 1,
             "tickcolor": "rgb(36,36,36)",
             "ticks": "outside"
            },
            "colorscale": [
             [
              0,
              "#440154"
             ],
             [
              0.1111111111111111,
              "#482878"
             ],
             [
              0.2222222222222222,
              "#3e4989"
             ],
             [
              0.3333333333333333,
              "#31688e"
             ],
             [
              0.4444444444444444,
              "#26828e"
             ],
             [
              0.5555555555555556,
              "#1f9e89"
             ],
             [
              0.6666666666666666,
              "#35b779"
             ],
             [
              0.7777777777777778,
              "#6ece58"
             ],
             [
              0.8888888888888888,
              "#b5de2b"
             ],
             [
              1,
              "#fde725"
             ]
            ],
            "type": "histogram2d"
           }
          ],
          "histogram2dcontour": [
           {
            "colorbar": {
             "outlinewidth": 1,
             "tickcolor": "rgb(36,36,36)",
             "ticks": "outside"
            },
            "colorscale": [
             [
              0,
              "#440154"
             ],
             [
              0.1111111111111111,
              "#482878"
             ],
             [
              0.2222222222222222,
              "#3e4989"
             ],
             [
              0.3333333333333333,
              "#31688e"
             ],
             [
              0.4444444444444444,
              "#26828e"
             ],
             [
              0.5555555555555556,
              "#1f9e89"
             ],
             [
              0.6666666666666666,
              "#35b779"
             ],
             [
              0.7777777777777778,
              "#6ece58"
             ],
             [
              0.8888888888888888,
              "#b5de2b"
             ],
             [
              1,
              "#fde725"
             ]
            ],
            "type": "histogram2dcontour"
           }
          ],
          "mesh3d": [
           {
            "colorbar": {
             "outlinewidth": 1,
             "tickcolor": "rgb(36,36,36)",
             "ticks": "outside"
            },
            "type": "mesh3d"
           }
          ],
          "parcoords": [
           {
            "line": {
             "colorbar": {
              "outlinewidth": 1,
              "tickcolor": "rgb(36,36,36)",
              "ticks": "outside"
             }
            },
            "type": "parcoords"
           }
          ],
          "pie": [
           {
            "automargin": true,
            "type": "pie"
           }
          ],
          "scatter": [
           {
            "marker": {
             "colorbar": {
              "outlinewidth": 1,
              "tickcolor": "rgb(36,36,36)",
              "ticks": "outside"
             }
            },
            "type": "scatter"
           }
          ],
          "scatter3d": [
           {
            "line": {
             "colorbar": {
              "outlinewidth": 1,
              "tickcolor": "rgb(36,36,36)",
              "ticks": "outside"
             }
            },
            "marker": {
             "colorbar": {
              "outlinewidth": 1,
              "tickcolor": "rgb(36,36,36)",
              "ticks": "outside"
             }
            },
            "type": "scatter3d"
           }
          ],
          "scattercarpet": [
           {
            "marker": {
             "colorbar": {
              "outlinewidth": 1,
              "tickcolor": "rgb(36,36,36)",
              "ticks": "outside"
             }
            },
            "type": "scattercarpet"
           }
          ],
          "scattergeo": [
           {
            "marker": {
             "colorbar": {
              "outlinewidth": 1,
              "tickcolor": "rgb(36,36,36)",
              "ticks": "outside"
             }
            },
            "type": "scattergeo"
           }
          ],
          "scattergl": [
           {
            "marker": {
             "colorbar": {
              "outlinewidth": 1,
              "tickcolor": "rgb(36,36,36)",
              "ticks": "outside"
             }
            },
            "type": "scattergl"
           }
          ],
          "scattermapbox": [
           {
            "marker": {
             "colorbar": {
              "outlinewidth": 1,
              "tickcolor": "rgb(36,36,36)",
              "ticks": "outside"
             }
            },
            "type": "scattermapbox"
           }
          ],
          "scatterpolar": [
           {
            "marker": {
             "colorbar": {
              "outlinewidth": 1,
              "tickcolor": "rgb(36,36,36)",
              "ticks": "outside"
             }
            },
            "type": "scatterpolar"
           }
          ],
          "scatterpolargl": [
           {
            "marker": {
             "colorbar": {
              "outlinewidth": 1,
              "tickcolor": "rgb(36,36,36)",
              "ticks": "outside"
             }
            },
            "type": "scatterpolargl"
           }
          ],
          "scatterternary": [
           {
            "marker": {
             "colorbar": {
              "outlinewidth": 1,
              "tickcolor": "rgb(36,36,36)",
              "ticks": "outside"
             }
            },
            "type": "scatterternary"
           }
          ],
          "surface": [
           {
            "colorbar": {
             "outlinewidth": 1,
             "tickcolor": "rgb(36,36,36)",
             "ticks": "outside"
            },
            "colorscale": [
             [
              0,
              "#440154"
             ],
             [
              0.1111111111111111,
              "#482878"
             ],
             [
              0.2222222222222222,
              "#3e4989"
             ],
             [
              0.3333333333333333,
              "#31688e"
             ],
             [
              0.4444444444444444,
              "#26828e"
             ],
             [
              0.5555555555555556,
              "#1f9e89"
             ],
             [
              0.6666666666666666,
              "#35b779"
             ],
             [
              0.7777777777777778,
              "#6ece58"
             ],
             [
              0.8888888888888888,
              "#b5de2b"
             ],
             [
              1,
              "#fde725"
             ]
            ],
            "type": "surface"
           }
          ],
          "table": [
           {
            "cells": {
             "fill": {
              "color": "rgb(237,237,237)"
             },
             "line": {
              "color": "white"
             }
            },
            "header": {
             "fill": {
              "color": "rgb(217,217,217)"
             },
             "line": {
              "color": "white"
             }
            },
            "type": "table"
           }
          ]
         },
         "layout": {
          "annotationdefaults": {
           "arrowhead": 0,
           "arrowwidth": 1
          },
          "autosize": true,
          "autotypenumbers": "strict",
          "coloraxis": {
           "colorbar": {
            "outlinewidth": 1,
            "tickcolor": "rgb(36,36,36)",
            "ticks": "outside"
           }
          },
          "colorscale": {
           "diverging": [
            [
             0,
             "rgb(103,0,31)"
            ],
            [
             0.1,
             "rgb(178,24,43)"
            ],
            [
             0.2,
             "rgb(214,96,77)"
            ],
            [
             0.3,
             "rgb(244,165,130)"
            ],
            [
             0.4,
             "rgb(253,219,199)"
            ],
            [
             0.5,
             "rgb(247,247,247)"
            ],
            [
             0.6,
             "rgb(209,229,240)"
            ],
            [
             0.7,
             "rgb(146,197,222)"
            ],
            [
             0.8,
             "rgb(67,147,195)"
            ],
            [
             0.9,
             "rgb(33,102,172)"
            ],
            [
             1,
             "rgb(5,48,97)"
            ]
           ],
           "sequential": [
            [
             0,
             "#440154"
            ],
            [
             0.1111111111111111,
             "#482878"
            ],
            [
             0.2222222222222222,
             "#3e4989"
            ],
            [
             0.3333333333333333,
             "#31688e"
            ],
            [
             0.4444444444444444,
             "#26828e"
            ],
            [
             0.5555555555555556,
             "#1f9e89"
            ],
            [
             0.6666666666666666,
             "#35b779"
            ],
            [
             0.7777777777777778,
             "#6ece58"
            ],
            [
             0.8888888888888888,
             "#b5de2b"
            ],
            [
             1,
             "#fde725"
            ]
           ],
           "sequentialminus": [
            [
             0,
             "#440154"
            ],
            [
             0.1111111111111111,
             "#482878"
            ],
            [
             0.2222222222222222,
             "#3e4989"
            ],
            [
             0.3333333333333333,
             "#31688e"
            ],
            [
             0.4444444444444444,
             "#26828e"
            ],
            [
             0.5555555555555556,
             "#1f9e89"
            ],
            [
             0.6666666666666666,
             "#35b779"
            ],
            [
             0.7777777777777778,
             "#6ece58"
            ],
            [
             0.8888888888888888,
             "#b5de2b"
            ],
            [
             1,
             "#fde725"
            ]
           ]
          },
          "colorway": [
           "#1F77B4",
           "#FF7F0E",
           "#2CA02C",
           "#D62728",
           "#9467BD",
           "#8C564B",
           "#E377C2",
           "#7F7F7F",
           "#BCBD22",
           "#17BECF"
          ],
          "font": {
           "color": "rgb(36,36,36)"
          },
          "geo": {
           "bgcolor": "white",
           "lakecolor": "white",
           "landcolor": "white",
           "showlakes": true,
           "showland": true,
           "subunitcolor": "white"
          },
          "height": 250,
          "hoverlabel": {
           "align": "left"
          },
          "hovermode": "closest",
          "mapbox": {
           "style": "light"
          },
          "margin": {
           "b": 10,
           "l": 10,
           "r": 10,
           "t": 10
          },
          "paper_bgcolor": "white",
          "plot_bgcolor": "white",
          "polar": {
           "angularaxis": {
            "gridcolor": "rgb(232,232,232)",
            "linecolor": "rgb(36,36,36)",
            "showgrid": false,
            "showline": true,
            "ticks": "outside"
           },
           "bgcolor": "white",
           "radialaxis": {
            "gridcolor": "rgb(232,232,232)",
            "linecolor": "rgb(36,36,36)",
            "showgrid": false,
            "showline": true,
            "ticks": "outside"
           }
          },
          "scene": {
           "xaxis": {
            "backgroundcolor": "white",
            "gridcolor": "rgb(232,232,232)",
            "gridwidth": 2,
            "linecolor": "rgb(36,36,36)",
            "showbackground": true,
            "showgrid": false,
            "showline": true,
            "ticks": "outside",
            "zeroline": false,
            "zerolinecolor": "rgb(36,36,36)"
           },
           "yaxis": {
            "backgroundcolor": "white",
            "gridcolor": "rgb(232,232,232)",
            "gridwidth": 2,
            "linecolor": "rgb(36,36,36)",
            "showbackground": true,
            "showgrid": false,
            "showline": true,
            "ticks": "outside",
            "zeroline": false,
            "zerolinecolor": "rgb(36,36,36)"
           },
           "zaxis": {
            "backgroundcolor": "white",
            "gridcolor": "rgb(232,232,232)",
            "gridwidth": 2,
            "linecolor": "rgb(36,36,36)",
            "showbackground": true,
            "showgrid": false,
            "showline": true,
            "ticks": "outside",
            "zeroline": false,
            "zerolinecolor": "rgb(36,36,36)"
           }
          },
          "shapedefaults": {
           "fillcolor": "black",
           "line": {
            "width": 0
           },
           "opacity": 0.3
          },
          "ternary": {
           "aaxis": {
            "gridcolor": "rgb(232,232,232)",
            "linecolor": "rgb(36,36,36)",
            "showgrid": false,
            "showline": true,
            "ticks": "outside"
           },
           "baxis": {
            "gridcolor": "rgb(232,232,232)",
            "linecolor": "rgb(36,36,36)",
            "showgrid": false,
            "showline": true,
            "ticks": "outside"
           },
           "bgcolor": "white",
           "caxis": {
            "gridcolor": "rgb(232,232,232)",
            "linecolor": "rgb(36,36,36)",
            "showgrid": false,
            "showline": true,
            "ticks": "outside"
           }
          },
          "title": {
           "x": 0.5,
           "xanchor": "center"
          },
          "width": 350,
          "xaxis": {
           "automargin": true,
           "gridcolor": "rgb(232,232,232)",
           "linecolor": "rgb(36,36,36)",
           "showgrid": true,
           "showline": true,
           "ticks": "outside",
           "title": {
            "standoff": 15
           },
           "zeroline": false,
           "zerolinecolor": "rgb(36,36,36)"
          },
          "yaxis": {
           "automargin": true,
           "gridcolor": "rgb(232,232,232)",
           "linecolor": "rgb(36,36,36)",
           "showgrid": true,
           "showline": true,
           "ticks": "outside",
           "title": {
            "standoff": 15
           },
           "zeroline": false,
           "zerolinecolor": "rgb(36,36,36)"
          }
         }
        },
        "width": 350,
        "xaxis": {
         "anchor": "y",
         "autorange": true,
         "domain": [
          0,
          0.8358
         ],
         "range": [
          7.842653940100573,
          86.15734605989942
         ],
         "title": {
          "text": "height"
         },
         "type": "linear"
        },
        "xaxis2": {
         "anchor": "y2",
         "autorange": true,
         "domain": [
          0.8408,
          1
         ],
         "matches": "x2",
         "range": [
          -0.571337531150722,
          0.5
         ],
         "showline": false,
         "showticklabels": false,
         "ticks": "",
         "type": "category"
        },
        "xaxis3": {
         "anchor": "y3",
         "autorange": true,
         "domain": [
          0,
          0.8358
         ],
         "matches": "x",
         "range": [
          7.842653940100573,
          86.15734605989942
         ],
         "showticklabels": false,
         "type": "linear"
        },
        "xaxis4": {
         "anchor": "y4",
         "domain": [
          0.8408,
          1
         ],
         "matches": "x2",
         "showline": false,
         "showticklabels": false,
         "ticks": ""
        },
        "yaxis": {
         "anchor": "x",
         "autorange": true,
         "domain": [
          0,
          0.8316
         ],
         "range": [
          -4.7849220318511785,
          85.78492203185118
         ],
         "title": {
          "text": "weight"
         },
         "type": "linear"
        },
        "yaxis2": {
         "anchor": "x2",
         "autorange": true,
         "domain": [
          0,
          0.8316
         ],
         "matches": "y",
         "range": [
          -4.7849220318511785,
          85.78492203185118
         ],
         "showticklabels": false,
         "type": "linear"
        },
        "yaxis3": {
         "anchor": "x3",
         "autorange": true,
         "domain": [
          0.8416,
          1
         ],
         "matches": "y3",
         "range": [
          -0.6168661181750187,
          0.5
         ],
         "showline": false,
         "showticklabels": false,
         "ticks": "",
         "type": "category"
        },
        "yaxis4": {
         "anchor": "x4",
         "domain": [
          0.8416,
          1
         ],
         "matches": "y3",
         "showline": false,
         "showticklabels": false,
         "ticks": ""
        }
       }
      },
      "image/png": "[encoded data removed]",
      "image/svg+xml": [
       "<svg class=\"main-svg\" xmlns=\"http://www.w3.org/2000/svg\" xmlns:xlink=\"http://www.w3.org/1999/xlink\" width=\"350\" height=\"250\" style=\"\" viewBox=\"0 0 350 250\"><rect x=\"0\" y=\"0\" width=\"350\" height=\"250\" style=\"fill: rgb(255, 255, 255); fill-opacity: 1;\"/><defs id=\"defs-24ad13\"><g class=\"clips\"><clipPath id=\"clip24ad13xyplot\" class=\"plotclip\"><rect width=\"236.5314\" height=\"150.5196\"/></clipPath><clipPath id=\"clip24ad13x2y2plot\" class=\"plotclip\"><rect width=\"45.0536\" height=\"150.5196\"/></clipPath><clipPath id=\"clip24ad13x3y3plot\" class=\"plotclip\"><rect width=\"236.5314\" height=\"28.670399999999997\"/></clipPath><clipPath class=\"axesclip\" id=\"clip24ad13x\"><rect x=\"57\" y=\"0\" width=\"236.5314\" height=\"250\"/></clipPath><clipPath class=\"axesclip\" id=\"clip24ad13y\"><rect x=\"0\" y=\"40.4804\" width=\"350\" height=\"150.5196\"/></clipPath><clipPath class=\"axesclip\" id=\"clip24ad13xy\"><rect x=\"57\" y=\"40.4804\" width=\"236.5314\" height=\"150.5196\"/></clipPath><clipPath class=\"axesclip\" id=\"clip24ad13y2\"><rect x=\"0\" y=\"40.4804\" width=\"350\" height=\"150.5196\"/></clipPath><clipPath class=\"axesclip\" id=\"clip24ad13xy2\"><rect x=\"57\" y=\"40.4804\" width=\"236.5314\" height=\"150.5196\"/></clipPath><clipPath class=\"axesclip\" id=\"clip24ad13y3\"><rect x=\"0\" y=\"10\" width=\"350\" height=\"28.670399999999997\"/></clipPath><clipPath class=\"axesclip\" id=\"clip24ad13xy3\"><rect x=\"57\" y=\"10\" width=\"236.5314\" height=\"28.670399999999997\"/></clipPath><clipPath class=\"axesclip\" id=\"clip24ad13x2\"><rect x=\"294.94640000000004\" y=\"0\" width=\"45.0536\" height=\"250\"/></clipPath><clipPath class=\"axesclip\" id=\"clip24ad13x2y\"><rect x=\"294.94640000000004\" y=\"40.4804\" width=\"45.0536\" height=\"150.5196\"/></clipPath><clipPath class=\"axesclip\" id=\"clip24ad13x2y2\"><rect x=\"294.94640000000004\" y=\"40.4804\" width=\"45.0536\" height=\"150.5196\"/></clipPath><clipPath class=\"axesclip\" id=\"clip24ad13x2y3\"><rect x=\"294.94640000000004\" y=\"10\" width=\"45.0536\" height=\"28.670399999999997\"/></clipPath><clipPath class=\"axesclip\" id=\"clip24ad13x3\"><rect x=\"57\" y=\"0\" width=\"236.5314\" height=\"250\"/></clipPath><clipPath class=\"axesclip\" id=\"clip24ad13x3y\"><rect x=\"57\" y=\"40.4804\" width=\"236.5314\" height=\"150.5196\"/></clipPath><clipPath class=\"axesclip\" id=\"clip24ad13x3y2\"><rect x=\"57\" y=\"40.4804\" width=\"236.5314\" height=\"150.5196\"/></clipPath><clipPath class=\"axesclip\" id=\"clip24ad13x3y3\"><rect x=\"57\" y=\"10\" width=\"236.5314\" height=\"28.670399999999997\"/></clipPath></g><g class=\"gradients\"/><g class=\"patterns\"/></defs><g class=\"bglayer\"/><g class=\"layer-below\"><g class=\"imagelayer\"/><g class=\"shapelayer\"/></g><g class=\"cartesianlayer\"><g class=\"subplot xy\"><g class=\"layer-subplot\"><g class=\"shapelayer\"/><g class=\"imagelayer\"/></g><g class=\"gridlayer\"><g class=\"x\"><path class=\"xgrid crisp\" transform=\"translate(93.72,0)\" d=\"M0,40.4804v150.5196\" style=\"stroke: rgb(232, 232, 232); stroke-opacity: 1; stroke-width: 1px;\"/><path class=\"xgrid crisp\" transform=\"translate(154.12,0)\" d=\"M0,40.4804v150.5196\" style=\"stroke: rgb(232, 232, 232); stroke-opacity: 1; stroke-width: 1px;\"/><path class=\"xgrid crisp\" transform=\"translate(214.53,0)\" d=\"M0,40.4804v150.5196\" style=\"stroke: rgb(232, 232, 232); stroke-opacity: 1; stroke-width: 1px;\"/><path class=\"xgrid crisp\" transform=\"translate(274.93,0)\" d=\"M0,40.4804v150.5196\" style=\"stroke: rgb(232, 232, 232); stroke-opacity: 1; stroke-width: 1px;\"/></g><g class=\"y\"><path class=\"ygrid crisp\" transform=\"translate(0,183.0504)\" d=\"M57,0h236.5314\" style=\"stroke: rgb(232, 232, 232); stroke-opacity: 1; stroke-width: 1px;\"/><path class=\"ygrid crisp\" transform=\"translate(0,149.81040000000002)\" d=\"M57,0h236.5314\" style=\"stroke: rgb(232, 232, 232); stroke-opacity: 1; stroke-width: 1px;\"/><path class=\"ygrid crisp\" transform=\"translate(0,116.5704)\" d=\"M57,0h236.5314\" style=\"stroke: rgb(232, 232, 232); stroke-opacity: 1; stroke-width: 1px;\"/><path class=\"ygrid crisp\" transform=\"translate(0,83.3304)\" d=\"M57,0h236.5314\" style=\"stroke: rgb(232, 232, 232); stroke-opacity: 1; stroke-width: 1px;\"/><path class=\"ygrid crisp\" transform=\"translate(0,50.0904)\" d=\"M57,0h236.5314\" style=\"stroke: rgb(232, 232, 232); stroke-opacity: 1; stroke-width: 1px;\"/></g></g><g class=\"zerolinelayer\"/><path class=\"xlines-below\"/><path class=\"ylines-below\"/><g class=\"overlines-below\"/><g class=\"xaxislayer-below\"/><g class=\"yaxislayer-below\"/><g class=\"overaxes-below\"/><g class=\"plot\" transform=\"translate(57,40.4804)\" clip-path=\"url(#clip24ad13xyplot)\"><g class=\"scatterlayer mlayer\"><g class=\"trace scatter tracead182f\" style=\"stroke-miterlimit: 2; opacity: 1;\"><g class=\"fills\"/><g class=\"errorbars\"/><g class=\"lines\"/><g class=\"points\"><path class=\"point\" transform=\"translate(121.29,115.98)\" d=\"M3,0A3,3 0 1,1 0,-3A3,3 0 0,1 3,0Z\" style=\"opacity: 1; stroke-width: 0px; fill: rgb(31, 119, 180); fill-opacity: 1;\"/><path class=\"point\" transform=\"translate(51.82,132.6)\" d=\"M3,0A3,3 0 1,1 0,-3A3,3 0 0,1 3,0Z\" style=\"opacity: 1; stroke-width: 0px; fill: rgb(31, 119, 180); fill-opacity: 1;\"/><path class=\"point\" transform=\"translate(100.14,119.3)\" d=\"M3,0A3,3 0 1,1 0,-3A3,3 0 0,1 3,0Z\" style=\"opacity: 1; stroke-width: 0px; fill: rgb(31, 119, 180); fill-opacity: 1;\"/><path class=\"point\" transform=\"translate(88.06,124.29)\" d=\"M3,0A3,3 0 1,1 0,-3A3,3 0 0,1 3,0Z\" style=\"opacity: 1; stroke-width: 0px; fill: rgb(31, 119, 180); fill-opacity: 1;\"/><path class=\"point\" transform=\"translate(88.06,125.7)\" d=\"M3,0A3,3 0 1,1 0,-3A3,3 0 0,1 3,0Z\" style=\"opacity: 1; stroke-width: 0px; fill: rgb(31, 119, 180); fill-opacity: 1;\"/><path class=\"point\" transform=\"translate(142.43,106.01)\" d=\"M3,0A3,3 0 1,1 0,-3A3,3 0 0,1 3,0Z\" style=\"opacity: 1; stroke-width: 0px; fill: rgb(31, 119, 180); fill-opacity: 1;\"/><path class=\"point\" transform=\"translate(57.86,130.93)\" d=\"M3,0A3,3 0 1,1 0,-3A3,3 0 0,1 3,0Z\" style=\"opacity: 1; stroke-width: 0px; fill: rgb(31, 119, 180); fill-opacity: 1;\"/><path class=\"point\" transform=\"translate(75.98,130.93)\" d=\"M3,0A3,3 0 1,1 0,-3A3,3 0 0,1 3,0Z\" style=\"opacity: 1; stroke-width: 0px; fill: rgb(31, 119, 180); fill-opacity: 1;\"/><path class=\"point\" transform=\"translate(15.58,139.24)\" d=\"M3,0A3,3 0 1,1 0,-3A3,3 0 0,1 3,0Z\" style=\"opacity: 1; stroke-width: 0px; fill: rgb(31, 119, 180); fill-opacity: 1;\"/><path class=\"point\" transform=\"translate(127.33,109.33)\" d=\"M3,0A3,3 0 1,1 0,-3A3,3 0 0,1 3,0Z\" style=\"opacity: 1; stroke-width: 0px; fill: rgb(31, 119, 180); fill-opacity: 1;\"/><path class=\"point\" transform=\"translate(160.55,96.03)\" d=\"M3,0A3,3 0 1,1 0,-3A3,3 0 0,1 3,0Z\" style=\"opacity: 1; stroke-width: 0px; fill: rgb(31, 119, 180); fill-opacity: 1;\"/><path class=\"point\" transform=\"translate(172.63,97.7)\" d=\"M3,0A3,3 0 1,1 0,-3A3,3 0 0,1 3,0Z\" style=\"opacity: 1; stroke-width: 0px; fill: rgb(31, 119, 180); fill-opacity: 1;\"/><path class=\"point\" transform=\"translate(51.82,134.26)\" d=\"M3,0A3,3 0 1,1 0,-3A3,3 0 0,1 3,0Z\" style=\"opacity: 1; stroke-width: 0px; fill: rgb(31, 119, 180); fill-opacity: 1;\"/><path class=\"point\" transform=\"translate(151.49,91.05)\" d=\"M3,0A3,3 0 1,1 0,-3A3,3 0 0,1 3,0Z\" style=\"opacity: 1; stroke-width: 0px; fill: rgb(31, 119, 180); fill-opacity: 1;\"/><path class=\"point\" transform=\"translate(45.78,139.24)\" d=\"M3,0A3,3 0 1,1 0,-3A3,3 0 0,1 3,0Z\" style=\"opacity: 1; stroke-width: 0px; fill: rgb(31, 119, 180); fill-opacity: 1;\"/><path class=\"point\" transform=\"translate(51.82,132.6)\" d=\"M3,0A3,3 0 1,1 0,-3A3,3 0 0,1 3,0Z\" style=\"opacity: 1; stroke-width: 0px; fill: rgb(31, 119, 180); fill-opacity: 1;\"/><path class=\"point\" transform=\"translate(175.65,94.37)\" d=\"M3,0A3,3 0 1,1 0,-3A3,3 0 0,1 3,0Z\" style=\"opacity: 1; stroke-width: 0px; fill: rgb(31, 119, 180); fill-opacity: 1;\"/><path class=\"point\" transform=\"translate(151.49,97.7)\" d=\"M3,0A3,3 0 1,1 0,-3A3,3 0 0,1 3,0Z\" style=\"opacity: 1; stroke-width: 0px; fill: rgb(31, 119, 180); fill-opacity: 1;\"/><path class=\"point\" transform=\"translate(157.53,91.05)\" d=\"M3,0A3,3 0 1,1 0,-3A3,3 0 0,1 3,0Z\" style=\"opacity: 1; stroke-width: 0px; fill: rgb(31, 119, 180); fill-opacity: 1;\"/><path class=\"point\" transform=\"translate(94.1,124.29)\" d=\"M3,0A3,3 0 1,1 0,-3A3,3 0 0,1 3,0Z\" style=\"opacity: 1; stroke-width: 0px; fill: rgb(31, 119, 180); fill-opacity: 1;\"/><path class=\"point\" transform=\"translate(169.61,96.03)\" d=\"M3,0A3,3 0 1,1 0,-3A3,3 0 0,1 3,0Z\" style=\"opacity: 1; stroke-width: 0px; fill: rgb(31, 119, 180); fill-opacity: 1;\"/><path class=\"point\" transform=\"translate(100.14,130.93)\" d=\"M3,0A3,3 0 1,1 0,-3A3,3 0 0,1 3,0Z\" style=\"opacity: 1; stroke-width: 0px; fill: rgb(31, 119, 180); fill-opacity: 1;\"/><path class=\"point\" transform=\"translate(48.8,134.26)\" d=\"M3,0A3,3 0 1,1 0,-3A3,3 0 0,1 3,0Z\" style=\"opacity: 1; stroke-width: 0px; fill: rgb(31, 119, 180); fill-opacity: 1;\"/><path class=\"point\" transform=\"translate(51.82,134.26)\" d=\"M3,0A3,3 0 1,1 0,-3A3,3 0 0,1 3,0Z\" style=\"opacity: 1; stroke-width: 0px; fill: rgb(31, 119, 180); fill-opacity: 1;\"/><path class=\"point\" transform=\"translate(72.96,130.93)\" d=\"M3,0A3,3 0 1,1 0,-3A3,3 0 0,1 3,0Z\" style=\"opacity: 1; stroke-width: 0px; fill: rgb(31, 119, 180); fill-opacity: 1;\"/><path class=\"point\" transform=\"translate(103.16,125.95)\" d=\"M3,0A3,3 0 1,1 0,-3A3,3 0 0,1 3,0Z\" style=\"opacity: 1; stroke-width: 0px; fill: rgb(31, 119, 180); fill-opacity: 1;\"/><path class=\"point\" transform=\"translate(91.08,119.3)\" d=\"M3,0A3,3 0 1,1 0,-3A3,3 0 0,1 3,0Z\" style=\"opacity: 1; stroke-width: 0px; fill: rgb(31, 119, 180); fill-opacity: 1;\"/><path class=\"point\" transform=\"translate(60.88,122.62)\" d=\"M3,0A3,3 0 1,1 0,-3A3,3 0 0,1 3,0Z\" style=\"opacity: 1; stroke-width: 0px; fill: rgb(31, 119, 180); fill-opacity: 1;\"/><path class=\"point\" transform=\"translate(118.27,89.39)\" d=\"M3,0A3,3 0 1,1 0,-3A3,3 0 0,1 3,0Z\" style=\"opacity: 1; stroke-width: 0px; fill: rgb(31, 119, 180); fill-opacity: 1;\"/><path class=\"point\" transform=\"translate(45.78,125.95)\" d=\"M3,0A3,3 0 1,1 0,-3A3,3 0 0,1 3,0Z\" style=\"opacity: 1; stroke-width: 0px; fill: rgb(31, 119, 180); fill-opacity: 1;\"/><path class=\"point\" transform=\"translate(172.63,84.4)\" d=\"M3,0A3,3 0 1,1 0,-3A3,3 0 0,1 3,0Z\" style=\"opacity: 1; stroke-width: 0px; fill: rgb(31, 119, 180); fill-opacity: 1;\"/><path class=\"point\" transform=\"translate(51.82,127.61)\" d=\"M3,0A3,3 0 1,1 0,-3A3,3 0 0,1 3,0Z\" style=\"opacity: 1; stroke-width: 0px; fill: rgb(31, 119, 180); fill-opacity: 1;\"/><path class=\"point\" transform=\"translate(118.27,114.31)\" d=\"M3,0A3,3 0 1,1 0,-3A3,3 0 0,1 3,0Z\" style=\"opacity: 1; stroke-width: 0px; fill: rgb(31, 119, 180); fill-opacity: 1;\"/><path class=\"point\" transform=\"translate(175.65,101.02)\" d=\"M3,0A3,3 0 1,1 0,-3A3,3 0 0,1 3,0Z\" style=\"opacity: 1; stroke-width: 0px; fill: rgb(31, 119, 180); fill-opacity: 1;\"/><path class=\"point\" transform=\"translate(184.71,47.84)\" d=\"M3,0A3,3 0 1,1 0,-3A3,3 0 0,1 3,0Z\" style=\"opacity: 1; stroke-width: 0px; fill: rgb(31, 119, 180); fill-opacity: 1;\"/><path class=\"point\" transform=\"translate(172.63,84.4)\" d=\"M3,0A3,3 0 1,1 0,-3A3,3 0 0,1 3,0Z\" style=\"opacity: 1; stroke-width: 0px; fill: rgb(31, 119, 180); fill-opacity: 1;\"/><path class=\"point\" transform=\"translate(190.75,81.08)\" d=\"M3,0A3,3 0 1,1 0,-3A3,3 0 0,1 3,0Z\" style=\"opacity: 1; stroke-width: 0px; fill: rgb(31, 119, 180); fill-opacity: 1;\"/><path class=\"point\" transform=\"translate(142.43,97.7)\" d=\"M3,0A3,3 0 1,1 0,-3A3,3 0 0,1 3,0Z\" style=\"opacity: 1; stroke-width: 0px; fill: rgb(31, 119, 180); fill-opacity: 1;\"/><path class=\"point\" transform=\"translate(160.55,82.74)\" d=\"M3,0A3,3 0 1,1 0,-3A3,3 0 0,1 3,0Z\" style=\"opacity: 1; stroke-width: 0px; fill: rgb(31, 119, 180); fill-opacity: 1;\"/><path class=\"point\" transform=\"translate(169.61,77.75)\" d=\"M3,0A3,3 0 1,1 0,-3A3,3 0 0,1 3,0Z\" style=\"opacity: 1; stroke-width: 0px; fill: rgb(31, 119, 180); fill-opacity: 1;\"/><path class=\"point\" transform=\"translate(172.63,56.15)\" d=\"M3,0A3,3 0 1,1 0,-3A3,3 0 0,1 3,0Z\" style=\"opacity: 1; stroke-width: 0px; fill: rgb(31, 119, 180); fill-opacity: 1;\"/><path class=\"point\" transform=\"translate(205.85,11.28)\" d=\"M3,0A3,3 0 1,1 0,-3A3,3 0 0,1 3,0Z\" style=\"opacity: 1; stroke-width: 0px; fill: rgb(31, 119, 180); fill-opacity: 1;\"/><path class=\"point\" transform=\"translate(178.67,26.23)\" d=\"M3,0A3,3 0 1,1 0,-3A3,3 0 0,1 3,0Z\" style=\"opacity: 1; stroke-width: 0px; fill: rgb(31, 119, 180); fill-opacity: 1;\"/><path class=\"point\" transform=\"translate(103.16,115.98)\" d=\"M3,0A3,3 0 1,1 0,-3A3,3 0 0,1 3,0Z\" style=\"opacity: 1; stroke-width: 0px; fill: rgb(31, 119, 180); fill-opacity: 1;\"/><path class=\"point\" transform=\"translate(190.75,56.15)\" d=\"M3,0A3,3 0 1,1 0,-3A3,3 0 0,1 3,0Z\" style=\"opacity: 1; stroke-width: 0px; fill: rgb(31, 119, 180); fill-opacity: 1;\"/><path class=\"point\" transform=\"translate(160.55,96.03)\" d=\"M3,0A3,3 0 1,1 0,-3A3,3 0 0,1 3,0Z\" style=\"opacity: 1; stroke-width: 0px; fill: rgb(31, 119, 180); fill-opacity: 1;\"/><path class=\"point\" transform=\"translate(142.43,109.33)\" d=\"M3,0A3,3 0 1,1 0,-3A3,3 0 0,1 3,0Z\" style=\"opacity: 1; stroke-width: 0px; fill: rgb(31, 119, 180); fill-opacity: 1;\"/><path class=\"point\" transform=\"translate(63.9,119.3)\" d=\"M3,0A3,3 0 1,1 0,-3A3,3 0 0,1 3,0Z\" style=\"opacity: 1; stroke-width: 0px; fill: rgb(31, 119, 180); fill-opacity: 1;\"/><path class=\"point\" transform=\"translate(63.9,127.61)\" d=\"M3,0A3,3 0 1,1 0,-3A3,3 0 0,1 3,0Z\" style=\"opacity: 1; stroke-width: 0px; fill: rgb(31, 119, 180); fill-opacity: 1;\"/><path class=\"point\" transform=\"translate(121.29,102.68)\" d=\"M3,0A3,3 0 1,1 0,-3A3,3 0 0,1 3,0Z\" style=\"opacity: 1; stroke-width: 0px; fill: rgb(31, 119, 180); fill-opacity: 1;\"/><path class=\"point\" transform=\"translate(160.55,96.03)\" d=\"M3,0A3,3 0 1,1 0,-3A3,3 0 0,1 3,0Z\" style=\"opacity: 1; stroke-width: 0px; fill: rgb(31, 119, 180); fill-opacity: 1;\"/><path class=\"point\" transform=\"translate(79,115.98)\" d=\"M3,0A3,3 0 1,1 0,-3A3,3 0 0,1 3,0Z\" style=\"opacity: 1; stroke-width: 0px; fill: rgb(31, 119, 180); fill-opacity: 1;\"/><path class=\"point\" transform=\"translate(115.25,122.62)\" d=\"M3,0A3,3 0 1,1 0,-3A3,3 0 0,1 3,0Z\" style=\"opacity: 1; stroke-width: 0px; fill: rgb(31, 119, 180); fill-opacity: 1;\"/><path class=\"point\" transform=\"translate(148.47,101.02)\" d=\"M3,0A3,3 0 1,1 0,-3A3,3 0 0,1 3,0Z\" style=\"opacity: 1; stroke-width: 0px; fill: rgb(31, 119, 180); fill-opacity: 1;\"/><path class=\"point\" transform=\"translate(187.73,67.78)\" d=\"M3,0A3,3 0 1,1 0,-3A3,3 0 0,1 3,0Z\" style=\"opacity: 1; stroke-width: 0px; fill: rgb(31, 119, 180); fill-opacity: 1;\"/><path class=\"point\" transform=\"translate(190.75,72.77)\" d=\"M3,0A3,3 0 1,1 0,-3A3,3 0 0,1 3,0Z\" style=\"opacity: 1; stroke-width: 0px; fill: rgb(31, 119, 180); fill-opacity: 1;\"/><path class=\"point\" transform=\"translate(88.06,129.27)\" d=\"M3,0A3,3 0 1,1 0,-3A3,3 0 0,1 3,0Z\" style=\"opacity: 1; stroke-width: 0px; fill: rgb(31, 119, 180); fill-opacity: 1;\"/><path class=\"point\" transform=\"translate(187.73,44.51)\" d=\"M3,0A3,3 0 1,1 0,-3A3,3 0 0,1 3,0Z\" style=\"opacity: 1; stroke-width: 0px; fill: rgb(31, 119, 180); fill-opacity: 1;\"/><path class=\"point\" transform=\"translate(109.2,117.64)\" d=\"M3,0A3,3 0 1,1 0,-3A3,3 0 0,1 3,0Z\" style=\"opacity: 1; stroke-width: 0px; fill: rgb(31, 119, 180); fill-opacity: 1;\"/><path class=\"point\" transform=\"translate(130.35,104.34)\" d=\"M3,0A3,3 0 1,1 0,-3A3,3 0 0,1 3,0Z\" style=\"opacity: 1; stroke-width: 0px; fill: rgb(31, 119, 180); fill-opacity: 1;\"/><path class=\"point\" transform=\"translate(51.82,134.26)\" d=\"M3,0A3,3 0 1,1 0,-3A3,3 0 0,1 3,0Z\" style=\"opacity: 1; stroke-width: 0px; fill: rgb(31, 119, 180); fill-opacity: 1;\"/><path class=\"point\" transform=\"translate(172.63,69.44)\" d=\"M3,0A3,3 0 1,1 0,-3A3,3 0 0,1 3,0Z\" style=\"opacity: 1; stroke-width: 0px; fill: rgb(31, 119, 180); fill-opacity: 1;\"/><path class=\"point\" transform=\"translate(79,130.93)\" d=\"M3,0A3,3 0 1,1 0,-3A3,3 0 0,1 3,0Z\" style=\"opacity: 1; stroke-width: 0px; fill: rgb(31, 119, 180); fill-opacity: 1;\"/><path class=\"point\" transform=\"translate(148.47,104.34)\" d=\"M3,0A3,3 0 1,1 0,-3A3,3 0 0,1 3,0Z\" style=\"opacity: 1; stroke-width: 0px; fill: rgb(31, 119, 180); fill-opacity: 1;\"/><path class=\"point\" transform=\"translate(130.35,106.01)\" d=\"M3,0A3,3 0 1,1 0,-3A3,3 0 0,1 3,0Z\" style=\"opacity: 1; stroke-width: 0px; fill: rgb(31, 119, 180); fill-opacity: 1;\"/><path class=\"point\" transform=\"translate(57.86,124.29)\" d=\"M3,0A3,3 0 1,1 0,-3A3,3 0 0,1 3,0Z\" style=\"opacity: 1; stroke-width: 0px; fill: rgb(31, 119, 180); fill-opacity: 1;\"/><path class=\"point\" transform=\"translate(91.08,127.61)\" d=\"M3,0A3,3 0 1,1 0,-3A3,3 0 0,1 3,0Z\" style=\"opacity: 1; stroke-width: 0px; fill: rgb(31, 119, 180); fill-opacity: 1;\"/><path class=\"point\" transform=\"translate(48.8,134.26)\" d=\"M3,0A3,3 0 1,1 0,-3A3,3 0 0,1 3,0Z\" style=\"opacity: 1; stroke-width: 0px; fill: rgb(31, 119, 180); fill-opacity: 1;\"/><path class=\"point\" transform=\"translate(51.82,112.65)\" d=\"M3,0A3,3 0 1,1 0,-3A3,3 0 0,1 3,0Z\" style=\"opacity: 1; stroke-width: 0px; fill: rgb(31, 119, 180); fill-opacity: 1;\"/><path class=\"point\" transform=\"translate(91.08,129.27)\" d=\"M3,0A3,3 0 1,1 0,-3A3,3 0 0,1 3,0Z\" style=\"opacity: 1; stroke-width: 0px; fill: rgb(31, 119, 180); fill-opacity: 1;\"/><path class=\"point\" transform=\"translate(115.25,115.98)\" d=\"M3,0A3,3 0 1,1 0,-3A3,3 0 0,1 3,0Z\" style=\"opacity: 1; stroke-width: 0px; fill: rgb(31, 119, 180); fill-opacity: 1;\"/><path class=\"point\" transform=\"translate(85.04,112.65)\" d=\"M3,0A3,3 0 1,1 0,-3A3,3 0 0,1 3,0Z\" style=\"opacity: 1; stroke-width: 0px; fill: rgb(31, 119, 180); fill-opacity: 1;\"/><path class=\"point\" transform=\"translate(91.08,127.61)\" d=\"M3,0A3,3 0 1,1 0,-3A3,3 0 0,1 3,0Z\" style=\"opacity: 1; stroke-width: 0px; fill: rgb(31, 119, 180); fill-opacity: 1;\"/><path class=\"point\" transform=\"translate(91.08,129.27)\" d=\"M3,0A3,3 0 1,1 0,-3A3,3 0 0,1 3,0Z\" style=\"opacity: 1; stroke-width: 0px; fill: rgb(31, 119, 180); fill-opacity: 1;\"/></g><g class=\"text\"/></g></g></g><g class=\"overplot\"/><path class=\"xlines-above crisp\" d=\"M56,191.5H293.53139999999996\" style=\"fill: none; stroke-width: 1px; stroke: rgb(36, 36, 36); stroke-opacity: 1;\"/><path class=\"ylines-above crisp\" d=\"M56.5,40.4804V191\" style=\"fill: none; stroke-width: 1px; stroke: rgb(36, 36, 36); stroke-opacity: 1;\"/><g class=\"overlines-above\"/><g class=\"xaxislayer-above\"><path class=\"xtick ticks crisp\" d=\"M0,192v5\" transform=\"translate(93.72,0)\" style=\"stroke: rgb(68, 68, 68); stroke-opacity: 1; stroke-width: 1px;\"/><path class=\"xtick ticks crisp\" d=\"M0,192v5\" transform=\"translate(154.12,0)\" style=\"stroke: rgb(68, 68, 68); stroke-opacity: 1; stroke-width: 1px;\"/><path class=\"xtick ticks crisp\" d=\"M0,192v5\" transform=\"translate(214.53,0)\" style=\"stroke: rgb(68, 68, 68); stroke-opacity: 1; stroke-width: 1px;\"/><path class=\"xtick ticks crisp\" d=\"M0,192v5\" transform=\"translate(274.93,0)\" style=\"stroke: rgb(68, 68, 68); stroke-opacity: 1; stroke-width: 1px;\"/><g class=\"xtick\"><text text-anchor=\"middle\" x=\"0\" y=\"211.4\" transform=\"translate(93.72,0)\" style=\"font-family: 'Open Sans', verdana, arial, sans-serif; font-size: 12px; fill: rgb(36, 36, 36); fill-opacity: 1; white-space: pre; opacity: 1;\">20</text></g><g class=\"xtick\"><text text-anchor=\"middle\" x=\"0\" y=\"211.4\" style=\"font-family: 'Open Sans', verdana, arial, sans-serif; font-size: 12px; fill: rgb(36, 36, 36); fill-opacity: 1; white-space: pre; opacity: 1;\" transform=\"translate(154.12,0)\">40</text></g><g class=\"xtick\"><text text-anchor=\"middle\" x=\"0\" y=\"211.4\" style=\"font-family: 'Open Sans', verdana, arial, sans-serif; font-size: 12px; fill: rgb(36, 36, 36); fill-opacity: 1; white-space: pre; opacity: 1;\" transform=\"translate(214.53,0)\">60</text></g><g class=\"xtick\"><text text-anchor=\"middle\" x=\"0\" y=\"211.4\" style=\"font-family: 'Open Sans', verdana, arial, sans-serif; font-size: 12px; fill: rgb(36, 36, 36); fill-opacity: 1; white-space: pre; opacity: 1;\" transform=\"translate(274.93,0)\">80</text></g></g><g class=\"yaxislayer-above\"><path class=\"ytick ticks crisp\" d=\"M56,0h-5\" transform=\"translate(0,183.0504)\" style=\"stroke: rgb(68, 68, 68); stroke-opacity: 1; stroke-width: 1px;\"/><path class=\"ytick ticks crisp\" d=\"M56,0h-5\" transform=\"translate(0,149.81040000000002)\" style=\"stroke: rgb(68, 68, 68); stroke-opacity: 1; stroke-width: 1px;\"/><path class=\"ytick ticks crisp\" d=\"M56,0h-5\" transform=\"translate(0,116.5704)\" style=\"stroke: rgb(68, 68, 68); stroke-opacity: 1; stroke-width: 1px;\"/><path class=\"ytick ticks crisp\" d=\"M56,0h-5\" transform=\"translate(0,83.3304)\" style=\"stroke: rgb(68, 68, 68); stroke-opacity: 1; stroke-width: 1px;\"/><path class=\"ytick ticks crisp\" d=\"M56,0h-5\" transform=\"translate(0,50.0904)\" style=\"stroke: rgb(68, 68, 68); stroke-opacity: 1; stroke-width: 1px;\"/><g class=\"ytick\"><text text-anchor=\"end\" x=\"48.6\" y=\"4.199999999999999\" transform=\"translate(0,183.0504)\" style=\"font-family: 'Open Sans', verdana, arial, sans-serif; font-size: 12px; fill: rgb(36, 36, 36); fill-opacity: 1; white-space: pre; opacity: 1;\">0</text></g><g class=\"ytick\"><text text-anchor=\"end\" x=\"48.6\" y=\"4.199999999999999\" style=\"font-family: 'Open Sans', verdana, arial, sans-serif; font-size: 12px; fill: rgb(36, 36, 36); fill-opacity: 1; white-space: pre; opacity: 1;\" transform=\"translate(0,149.81040000000002)\">20</text></g><g class=\"ytick\"><text text-anchor=\"end\" x=\"48.6\" y=\"4.199999999999999\" style=\"font-family: 'Open Sans', verdana, arial, sans-serif; font-size: 12px; fill: rgb(36, 36, 36); fill-opacity: 1; white-space: pre; opacity: 1;\" transform=\"translate(0,116.5704)\">40</text></g><g class=\"ytick\"><text text-anchor=\"end\" x=\"48.6\" y=\"4.199999999999999\" style=\"font-family: 'Open Sans', verdana, arial, sans-serif; font-size: 12px; fill: rgb(36, 36, 36); fill-opacity: 1; white-space: pre; opacity: 1;\" transform=\"translate(0,83.3304)\">60</text></g><g class=\"ytick\"><text text-anchor=\"end\" x=\"48.6\" y=\"4.199999999999999\" style=\"font-family: 'Open Sans', verdana, arial, sans-serif; font-size: 12px; fill: rgb(36, 36, 36); fill-opacity: 1; white-space: pre; opacity: 1;\" transform=\"translate(0,50.0904)\">80</text></g></g><g class=\"overaxes-above\"/></g><g class=\"subplot x2y2\"><g class=\"layer-subplot\"><g class=\"shapelayer\"/><g class=\"imagelayer\"/></g><g class=\"gridlayer\"><g class=\"x2\"><path class=\"x2grid crisp\" transform=\"translate(318.9764,0)\" d=\"M0,40.4804v150.5196\" style=\"stroke: rgb(232, 232, 232); stroke-opacity: 1; stroke-width: 1px;\"/></g><g class=\"y2\"><path class=\"y2grid crisp\" transform=\"translate(0,183.0504)\" d=\"M294.94640000000004,0h45.0536\" style=\"stroke: rgb(232, 232, 232); stroke-opacity: 1; stroke-width: 1px;\"/><path class=\"y2grid crisp\" transform=\"translate(0,149.81040000000002)\" d=\"M294.94640000000004,0h45.0536\" style=\"stroke: rgb(232, 232, 232); stroke-opacity: 1; stroke-width: 1px;\"/><path class=\"y2grid crisp\" transform=\"translate(0,116.5704)\" d=\"M294.94640000000004,0h45.0536\" style=\"stroke: rgb(232, 232, 232); stroke-opacity: 1; stroke-width: 1px;\"/><path class=\"y2grid crisp\" transform=\"translate(0,83.3304)\" d=\"M294.94640000000004,0h45.0536\" style=\"stroke: rgb(232, 232, 232); stroke-opacity: 1; stroke-width: 1px;\"/><path class=\"y2grid crisp\" transform=\"translate(0,50.0904)\" d=\"M294.94640000000004,0h45.0536\" style=\"stroke: rgb(232, 232, 232); stroke-opacity: 1; stroke-width: 1px;\"/></g></g><g class=\"zerolinelayer\"/><path class=\"xlines-below\"/><path class=\"ylines-below\"/><g class=\"overlines-below\"/><g class=\"xaxislayer-below\"/><g class=\"yaxislayer-below\"/><g class=\"overaxes-below\"/><g class=\"plot\" transform=\"translate(294.94640000000004,40.4804)\" clip-path=\"url(#clip24ad13x2y2plot)\"><g class=\"boxlayer mlayer\"><g class=\"trace boxes\" style=\"opacity: 1;\"><path class=\"box\" d=\"M13.72,115.98H34.33M13.72,129.27H34.33V96.03H13.72ZM24.03,129.27V139.24M24.03,96.03V47.84M18.88,139.24H29.18M18.88,47.84H29.18\" style=\"vector-effect: non-scaling-stroke; stroke-width: 2px; stroke: rgb(255, 255, 255); stroke-opacity: 0; fill: rgb(255, 255, 255); fill-opacity: 0;\"/><g class=\"points\"><path class=\"point\" transform=\"translate(8.57,139.24)\" d=\"M4.2,0H-4.2\" style=\"opacity: 1; stroke: rgb(31, 119, 180); stroke-opacity: 1; stroke-width: 1px; fill: none;\"/><path class=\"point\" transform=\"translate(8.57,139.24)\" d=\"M4.2,0H-4.2\" style=\"opacity: 1; stroke: rgb(31, 119, 180); stroke-opacity: 1; stroke-width: 1px; fill: none;\"/><path class=\"point\" transform=\"translate(8.57,139.24)\" d=\"M4.2,0H-4.2\" style=\"opacity: 1; stroke: rgb(31, 119, 180); stroke-opacity: 1; stroke-width: 1px; fill: none;\"/><path class=\"point\" transform=\"translate(8.57,139.24)\" d=\"M4.2,0H-4.2\" style=\"opacity: 1; stroke: rgb(31, 119, 180); stroke-opacity: 1; stroke-width: 1px; fill: none;\"/><path class=\"point\" transform=\"translate(8.57,135.92)\" d=\"M4.2,0H-4.2\" style=\"opacity: 1; stroke: rgb(31, 119, 180); stroke-opacity: 1; stroke-width: 1px; fill: none;\"/><path class=\"point\" transform=\"translate(8.57,134.26)\" d=\"M4.2,0H-4.2\" style=\"opacity: 1; stroke: rgb(31, 119, 180); stroke-opacity: 1; stroke-width: 1px; fill: none;\"/><path class=\"point\" transform=\"translate(8.57,134.26)\" d=\"M4.2,0H-4.2\" style=\"opacity: 1; stroke: rgb(31, 119, 180); stroke-opacity: 1; stroke-width: 1px; fill: none;\"/><path class=\"point\" transform=\"translate(8.57,134.26)\" d=\"M4.2,0H-4.2\" style=\"opacity: 1; stroke: rgb(31, 119, 180); stroke-opacity: 1; stroke-width: 1px; fill: none;\"/><path class=\"point\" transform=\"translate(8.57,134.26)\" d=\"M4.2,0H-4.2\" style=\"opacity: 1; stroke: rgb(31, 119, 180); stroke-opacity: 1; stroke-width: 1px; fill: none;\"/><path class=\"point\" transform=\"translate(8.57,134.26)\" d=\"M4.2,0H-4.2\" style=\"opacity: 1; stroke: rgb(31, 119, 180); stroke-opacity: 1; stroke-width: 1px; fill: none;\"/><path class=\"point\" transform=\"translate(8.57,132.6)\" d=\"M4.2,0H-4.2\" style=\"opacity: 1; stroke: rgb(31, 119, 180); stroke-opacity: 1; stroke-width: 1px; fill: none;\"/><path class=\"point\" transform=\"translate(8.57,132.6)\" d=\"M4.2,0H-4.2\" style=\"opacity: 1; stroke: rgb(31, 119, 180); stroke-opacity: 1; stroke-width: 1px; fill: none;\"/><path class=\"point\" transform=\"translate(8.57,132.6)\" d=\"M4.2,0H-4.2\" style=\"opacity: 1; stroke: rgb(31, 119, 180); stroke-opacity: 1; stroke-width: 1px; fill: none;\"/><path class=\"point\" transform=\"translate(8.57,132.6)\" d=\"M4.2,0H-4.2\" style=\"opacity: 1; stroke: rgb(31, 119, 180); stroke-opacity: 1; stroke-width: 1px; fill: none;\"/><path class=\"point\" transform=\"translate(8.57,130.93)\" d=\"M4.2,0H-4.2\" style=\"opacity: 1; stroke: rgb(31, 119, 180); stroke-opacity: 1; stroke-width: 1px; fill: none;\"/><path class=\"point\" transform=\"translate(8.57,130.93)\" d=\"M4.2,0H-4.2\" style=\"opacity: 1; stroke: rgb(31, 119, 180); stroke-opacity: 1; stroke-width: 1px; fill: none;\"/><path class=\"point\" transform=\"translate(8.57,130.93)\" d=\"M4.2,0H-4.2\" style=\"opacity: 1; stroke: rgb(31, 119, 180); stroke-opacity: 1; stroke-width: 1px; fill: none;\"/><path class=\"point\" transform=\"translate(8.57,130.93)\" d=\"M4.2,0H-4.2\" style=\"opacity: 1; stroke: rgb(31, 119, 180); stroke-opacity: 1; stroke-width: 1px; fill: none;\"/><path class=\"point\" transform=\"translate(8.57,130.93)\" d=\"M4.2,0H-4.2\" style=\"opacity: 1; stroke: rgb(31, 119, 180); stroke-opacity: 1; stroke-width: 1px; fill: none;\"/><path class=\"point\" transform=\"translate(8.57,129.27)\" d=\"M4.2,0H-4.2\" style=\"opacity: 1; stroke: rgb(31, 119, 180); stroke-opacity: 1; stroke-width: 1px; fill: none;\"/><path class=\"point\" transform=\"translate(8.57,129.27)\" d=\"M4.2,0H-4.2\" style=\"opacity: 1; stroke: rgb(31, 119, 180); stroke-opacity: 1; stroke-width: 1px; fill: none;\"/><path class=\"point\" transform=\"translate(8.57,129.27)\" d=\"M4.2,0H-4.2\" style=\"opacity: 1; stroke: rgb(31, 119, 180); stroke-opacity: 1; stroke-width: 1px; fill: none;\"/><path class=\"point\" transform=\"translate(8.57,129.27)\" d=\"M4.2,0H-4.2\" style=\"opacity: 1; stroke: rgb(31, 119, 180); stroke-opacity: 1; stroke-width: 1px; fill: none;\"/><path class=\"point\" transform=\"translate(8.57,127.61)\" d=\"M4.2,0H-4.2\" style=\"opacity: 1; stroke: rgb(31, 119, 180); stroke-opacity: 1; stroke-width: 1px; fill: none;\"/><path class=\"point\" transform=\"translate(8.57,127.61)\" d=\"M4.2,0H-4.2\" style=\"opacity: 1; stroke: rgb(31, 119, 180); stroke-opacity: 1; stroke-width: 1px; fill: none;\"/><path class=\"point\" transform=\"translate(8.57,127.61)\" d=\"M4.2,0H-4.2\" style=\"opacity: 1; stroke: rgb(31, 119, 180); stroke-opacity: 1; stroke-width: 1px; fill: none;\"/><path class=\"point\" transform=\"translate(8.57,127.61)\" d=\"M4.2,0H-4.2\" style=\"opacity: 1; stroke: rgb(31, 119, 180); stroke-opacity: 1; stroke-width: 1px; fill: none;\"/><path class=\"point\" transform=\"translate(8.57,127.61)\" d=\"M4.2,0H-4.2\" style=\"opacity: 1; stroke: rgb(31, 119, 180); stroke-opacity: 1; stroke-width: 1px; fill: none;\"/><path class=\"point\" transform=\"translate(8.57,125.95)\" d=\"M4.2,0H-4.2\" style=\"opacity: 1; stroke: rgb(31, 119, 180); stroke-opacity: 1; stroke-width: 1px; fill: none;\"/><path class=\"point\" transform=\"translate(8.57,125.95)\" d=\"M4.2,0H-4.2\" style=\"opacity: 1; stroke: rgb(31, 119, 180); stroke-opacity: 1; stroke-width: 1px; fill: none;\"/><path class=\"point\" transform=\"translate(8.57,125.7)\" d=\"M4.2,0H-4.2\" style=\"opacity: 1; stroke: rgb(31, 119, 180); stroke-opacity: 1; stroke-width: 1px; fill: none;\"/><path class=\"point\" transform=\"translate(8.57,124.29)\" d=\"M4.2,0H-4.2\" style=\"opacity: 1; stroke: rgb(31, 119, 180); stroke-opacity: 1; stroke-width: 1px; fill: none;\"/><path class=\"point\" transform=\"translate(8.57,124.29)\" d=\"M4.2,0H-4.2\" style=\"opacity: 1; stroke: rgb(31, 119, 180); stroke-opacity: 1; stroke-width: 1px; fill: none;\"/><path class=\"point\" transform=\"translate(8.57,124.29)\" d=\"M4.2,0H-4.2\" style=\"opacity: 1; stroke: rgb(31, 119, 180); stroke-opacity: 1; stroke-width: 1px; fill: none;\"/><path class=\"point\" transform=\"translate(8.57,124.29)\" d=\"M4.2,0H-4.2\" style=\"opacity: 1; stroke: rgb(31, 119, 180); stroke-opacity: 1; stroke-width: 1px; fill: none;\"/><path class=\"point\" transform=\"translate(8.57,122.62)\" d=\"M4.2,0H-4.2\" style=\"opacity: 1; stroke: rgb(31, 119, 180); stroke-opacity: 1; stroke-width: 1px; fill: none;\"/><path class=\"point\" transform=\"translate(8.57,122.62)\" d=\"M4.2,0H-4.2\" style=\"opacity: 1; stroke: rgb(31, 119, 180); stroke-opacity: 1; stroke-width: 1px; fill: none;\"/><path class=\"point\" transform=\"translate(8.57,122.62)\" d=\"M4.2,0H-4.2\" style=\"opacity: 1; stroke: rgb(31, 119, 180); stroke-opacity: 1; stroke-width: 1px; fill: none;\"/><path class=\"point\" transform=\"translate(8.57,119.3)\" d=\"M4.2,0H-4.2\" style=\"opacity: 1; stroke: rgb(31, 119, 180); stroke-opacity: 1; stroke-width: 1px; fill: none;\"/><path class=\"point\" transform=\"translate(8.57,119.3)\" d=\"M4.2,0H-4.2\" style=\"opacity: 1; stroke: rgb(31, 119, 180); stroke-opacity: 1; stroke-width: 1px; fill: none;\"/><path class=\"point\" transform=\"translate(8.57,119.3)\" d=\"M4.2,0H-4.2\" style=\"opacity: 1; stroke: rgb(31, 119, 180); stroke-opacity: 1; stroke-width: 1px; fill: none;\"/><path class=\"point\" transform=\"translate(8.57,117.64)\" d=\"M4.2,0H-4.2\" style=\"opacity: 1; stroke: rgb(31, 119, 180); stroke-opacity: 1; stroke-width: 1px; fill: none;\"/><path class=\"point\" transform=\"translate(8.57,115.98)\" d=\"M4.2,0H-4.2\" style=\"opacity: 1; stroke: rgb(31, 119, 180); stroke-opacity: 1; stroke-width: 1px; fill: none;\"/><path class=\"point\" transform=\"translate(8.57,115.98)\" d=\"M4.2,0H-4.2\" style=\"opacity: 1; stroke: rgb(31, 119, 180); stroke-opacity: 1; stroke-width: 1px; fill: none;\"/><path class=\"point\" transform=\"translate(8.57,115.98)\" d=\"M4.2,0H-4.2\" style=\"opacity: 1; stroke: rgb(31, 119, 180); stroke-opacity: 1; stroke-width: 1px; fill: none;\"/><path class=\"point\" transform=\"translate(8.57,115.98)\" d=\"M4.2,0H-4.2\" style=\"opacity: 1; stroke: rgb(31, 119, 180); stroke-opacity: 1; stroke-width: 1px; fill: none;\"/><path class=\"point\" transform=\"translate(8.57,114.31)\" d=\"M4.2,0H-4.2\" style=\"opacity: 1; stroke: rgb(31, 119, 180); stroke-opacity: 1; stroke-width: 1px; fill: none;\"/><path class=\"point\" transform=\"translate(8.57,112.65)\" d=\"M4.2,0H-4.2\" style=\"opacity: 1; stroke: rgb(31, 119, 180); stroke-opacity: 1; stroke-width: 1px; fill: none;\"/><path class=\"point\" transform=\"translate(8.57,112.65)\" d=\"M4.2,0H-4.2\" style=\"opacity: 1; stroke: rgb(31, 119, 180); stroke-opacity: 1; stroke-width: 1px; fill: none;\"/><path class=\"point\" transform=\"translate(8.57,109.33)\" d=\"M4.2,0H-4.2\" style=\"opacity: 1; stroke: rgb(31, 119, 180); stroke-opacity: 1; stroke-width: 1px; fill: none;\"/><path class=\"point\" transform=\"translate(8.57,109.33)\" d=\"M4.2,0H-4.2\" style=\"opacity: 1; stroke: rgb(31, 119, 180); stroke-opacity: 1; stroke-width: 1px; fill: none;\"/><path class=\"point\" transform=\"translate(8.57,109.33)\" d=\"M4.2,0H-4.2\" style=\"opacity: 1; stroke: rgb(31, 119, 180); stroke-opacity: 1; stroke-width: 1px; fill: none;\"/><path class=\"point\" transform=\"translate(8.57,106.01)\" d=\"M4.2,0H-4.2\" style=\"opacity: 1; stroke: rgb(31, 119, 180); stroke-opacity: 1; stroke-width: 1px; fill: none;\"/><path class=\"point\" transform=\"translate(8.57,106.01)\" d=\"M4.2,0H-4.2\" style=\"opacity: 1; stroke: rgb(31, 119, 180); stroke-opacity: 1; stroke-width: 1px; fill: none;\"/><path class=\"point\" transform=\"translate(8.57,104.34)\" d=\"M4.2,0H-4.2\" style=\"opacity: 1; stroke: rgb(31, 119, 180); stroke-opacity: 1; stroke-width: 1px; fill: none;\"/><path class=\"point\" transform=\"translate(8.57,104.34)\" d=\"M4.2,0H-4.2\" style=\"opacity: 1; stroke: rgb(31, 119, 180); stroke-opacity: 1; stroke-width: 1px; fill: none;\"/><path class=\"point\" transform=\"translate(8.57,102.68)\" d=\"M4.2,0H-4.2\" style=\"opacity: 1; stroke: rgb(31, 119, 180); stroke-opacity: 1; stroke-width: 1px; fill: none;\"/><path class=\"point\" transform=\"translate(8.57,101.02)\" d=\"M4.2,0H-4.2\" style=\"opacity: 1; stroke: rgb(31, 119, 180); stroke-opacity: 1; stroke-width: 1px; fill: none;\"/><path class=\"point\" transform=\"translate(8.57,101.02)\" d=\"M4.2,0H-4.2\" style=\"opacity: 1; stroke: rgb(31, 119, 180); stroke-opacity: 1; stroke-width: 1px; fill: none;\"/><path class=\"point\" transform=\"translate(8.57,97.7)\" d=\"M4.2,0H-4.2\" style=\"opacity: 1; stroke: rgb(31, 119, 180); stroke-opacity: 1; stroke-width: 1px; fill: none;\"/><path class=\"point\" transform=\"translate(8.57,97.7)\" d=\"M4.2,0H-4.2\" style=\"opacity: 1; stroke: rgb(31, 119, 180); stroke-opacity: 1; stroke-width: 1px; fill: none;\"/><path class=\"point\" transform=\"translate(8.57,97.7)\" d=\"M4.2,0H-4.2\" style=\"opacity: 1; stroke: rgb(31, 119, 180); stroke-opacity: 1; stroke-width: 1px; fill: none;\"/><path class=\"point\" transform=\"translate(8.57,96.03)\" d=\"M4.2,0H-4.2\" style=\"opacity: 1; stroke: rgb(31, 119, 180); stroke-opacity: 1; stroke-width: 1px; fill: none;\"/><path class=\"point\" transform=\"translate(8.57,96.03)\" d=\"M4.2,0H-4.2\" style=\"opacity: 1; stroke: rgb(31, 119, 180); stroke-opacity: 1; stroke-width: 1px; fill: none;\"/><path class=\"point\" transform=\"translate(8.57,96.03)\" d=\"M4.2,0H-4.2\" style=\"opacity: 1; stroke: rgb(31, 119, 180); stroke-opacity: 1; stroke-width: 1px; fill: none;\"/><path class=\"point\" transform=\"translate(8.57,96.03)\" d=\"M4.2,0H-4.2\" style=\"opacity: 1; stroke: rgb(31, 119, 180); stroke-opacity: 1; stroke-width: 1px; fill: none;\"/><path class=\"point\" transform=\"translate(8.57,94.37)\" d=\"M4.2,0H-4.2\" style=\"opacity: 1; stroke: rgb(31, 119, 180); stroke-opacity: 1; stroke-width: 1px; fill: none;\"/><path class=\"point\" transform=\"translate(8.57,94.37)\" d=\"M4.2,0H-4.2\" style=\"opacity: 1; stroke: rgb(31, 119, 180); stroke-opacity: 1; stroke-width: 1px; fill: none;\"/><path class=\"point\" transform=\"translate(8.57,91.05)\" d=\"M4.2,0H-4.2\" style=\"opacity: 1; stroke: rgb(31, 119, 180); stroke-opacity: 1; stroke-width: 1px; fill: none;\"/><path class=\"point\" transform=\"translate(8.57,91.05)\" d=\"M4.2,0H-4.2\" style=\"opacity: 1; stroke: rgb(31, 119, 180); stroke-opacity: 1; stroke-width: 1px; fill: none;\"/><path class=\"point\" transform=\"translate(8.57,89.39)\" d=\"M4.2,0H-4.2\" style=\"opacity: 1; stroke: rgb(31, 119, 180); stroke-opacity: 1; stroke-width: 1px; fill: none;\"/><path class=\"point\" transform=\"translate(8.57,84.4)\" d=\"M4.2,0H-4.2\" style=\"opacity: 1; stroke: rgb(31, 119, 180); stroke-opacity: 1; stroke-width: 1px; fill: none;\"/><path class=\"point\" transform=\"translate(8.57,84.4)\" d=\"M4.2,0H-4.2\" style=\"opacity: 1; stroke: rgb(31, 119, 180); stroke-opacity: 1; stroke-width: 1px; fill: none;\"/><path class=\"point\" transform=\"translate(8.57,82.74)\" d=\"M4.2,0H-4.2\" style=\"opacity: 1; stroke: rgb(31, 119, 180); stroke-opacity: 1; stroke-width: 1px; fill: none;\"/><path class=\"point\" transform=\"translate(8.57,81.08)\" d=\"M4.2,0H-4.2\" style=\"opacity: 1; stroke: rgb(31, 119, 180); stroke-opacity: 1; stroke-width: 1px; fill: none;\"/><path class=\"point\" transform=\"translate(8.57,77.75)\" d=\"M4.2,0H-4.2\" style=\"opacity: 1; stroke: rgb(31, 119, 180); stroke-opacity: 1; stroke-width: 1px; fill: none;\"/><path class=\"point\" transform=\"translate(8.57,72.77)\" d=\"M4.2,0H-4.2\" style=\"opacity: 1; stroke: rgb(31, 119, 180); stroke-opacity: 1; stroke-width: 1px; fill: none;\"/><path class=\"point\" transform=\"translate(8.57,72.77)\" d=\"M4.2,0H-4.2\" style=\"opacity: 1; stroke: rgb(31, 119, 180); stroke-opacity: 1; stroke-width: 1px; fill: none;\"/><path class=\"point\" transform=\"translate(8.57,69.44)\" d=\"M4.2,0H-4.2\" style=\"opacity: 1; stroke: rgb(31, 119, 180); stroke-opacity: 1; stroke-width: 1px; fill: none;\"/><path class=\"point\" transform=\"translate(8.57,67.78)\" d=\"M4.2,0H-4.2\" style=\"opacity: 1; stroke: rgb(31, 119, 180); stroke-opacity: 1; stroke-width: 1px; fill: none;\"/><path class=\"point\" transform=\"translate(8.57,56.15)\" d=\"M4.2,0H-4.2\" style=\"opacity: 1; stroke: rgb(31, 119, 180); stroke-opacity: 1; stroke-width: 1px; fill: none;\"/><path class=\"point\" transform=\"translate(8.57,56.15)\" d=\"M4.2,0H-4.2\" style=\"opacity: 1; stroke: rgb(31, 119, 180); stroke-opacity: 1; stroke-width: 1px; fill: none;\"/><path class=\"point\" transform=\"translate(8.57,47.84)\" d=\"M4.2,0H-4.2\" style=\"opacity: 1; stroke: rgb(31, 119, 180); stroke-opacity: 1; stroke-width: 1px; fill: none;\"/><path class=\"point\" transform=\"translate(8.57,44.51)\" d=\"M4.2,0H-4.2\" style=\"opacity: 1; stroke: rgb(31, 119, 180); stroke-opacity: 1; stroke-width: 1px; fill: none;\"/><path class=\"point\" transform=\"translate(8.57,26.23)\" d=\"M4.2,0H-4.2\" style=\"opacity: 1; stroke: rgb(31, 119, 180); stroke-opacity: 1; stroke-width: 1px; fill: none;\"/><path class=\"point\" transform=\"translate(8.57,11.28)\" d=\"M4.2,0H-4.2\" style=\"opacity: 1; stroke: rgb(31, 119, 180); stroke-opacity: 1; stroke-width: 1px; fill: none;\"/></g></g></g></g><g class=\"overplot\"/><path class=\"xlines-above crisp\" d=\"M0,0\" style=\"fill: none;\"/><path class=\"ylines-above crisp\" d=\"M294.44640000000004,40.4804V191\" style=\"fill: none; stroke-width: 1px; stroke: rgb(36, 36, 36); stroke-opacity: 1;\"/><g class=\"overlines-above\"/><g class=\"xaxislayer-above\"/><g class=\"yaxislayer-above\"><path class=\"y2tick ticks crisp\" d=\"M293.94640000000004,0h-5\" transform=\"translate(0,183.0504)\" style=\"stroke: rgb(68, 68, 68); stroke-opacity: 1; stroke-width: 1px;\"/><path class=\"y2tick ticks crisp\" d=\"M293.94640000000004,0h-5\" transform=\"translate(0,149.81040000000002)\" style=\"stroke: rgb(68, 68, 68); stroke-opacity: 1; stroke-width: 1px;\"/><path class=\"y2tick ticks crisp\" d=\"M293.94640000000004,0h-5\" transform=\"translate(0,116.5704)\" style=\"stroke: rgb(68, 68, 68); stroke-opacity: 1; stroke-width: 1px;\"/><path class=\"y2tick ticks crisp\" d=\"M293.94640000000004,0h-5\" transform=\"translate(0,83.3304)\" style=\"stroke: rgb(68, 68, 68); stroke-opacity: 1; stroke-width: 1px;\"/><path class=\"y2tick ticks crisp\" d=\"M293.94640000000004,0h-5\" transform=\"translate(0,50.0904)\" style=\"stroke: rgb(68, 68, 68); stroke-opacity: 1; stroke-width: 1px;\"/></g><g class=\"overaxes-above\"/></g><g class=\"subplot x3y3\"><g class=\"layer-subplot\"><g class=\"shapelayer\"/><g class=\"imagelayer\"/></g><g class=\"gridlayer\"><g class=\"x3\"><path class=\"x3grid crisp\" transform=\"translate(93.72,0)\" d=\"M0,10v28.670399999999997\" style=\"stroke: rgb(232, 232, 232); stroke-opacity: 1; stroke-width: 1px;\"/><path class=\"x3grid crisp\" transform=\"translate(154.12,0)\" d=\"M0,10v28.670399999999997\" style=\"stroke: rgb(232, 232, 232); stroke-opacity: 1; stroke-width: 1px;\"/><path class=\"x3grid crisp\" transform=\"translate(214.53,0)\" d=\"M0,10v28.670399999999997\" style=\"stroke: rgb(232, 232, 232); stroke-opacity: 1; stroke-width: 1px;\"/><path class=\"x3grid crisp\" transform=\"translate(274.93,0)\" d=\"M0,10v28.670399999999997\" style=\"stroke: rgb(232, 232, 232); stroke-opacity: 1; stroke-width: 1px;\"/></g><g class=\"y3\"><path class=\"y3grid crisp\" transform=\"translate(0,22.84)\" d=\"M57,0h236.5314\" style=\"stroke: rgb(232, 232, 232); stroke-opacity: 1; stroke-width: 1px;\"/></g></g><g class=\"zerolinelayer\"/><path class=\"xlines-below\"/><path class=\"ylines-below\"/><g class=\"overlines-below\"/><g class=\"xaxislayer-below\"/><g class=\"yaxislayer-below\"/><g class=\"overaxes-below\"/><g class=\"plot\" transform=\"translate(57,10)\" clip-path=\"url(#clip24ad13x3y3plot)\"><g class=\"boxlayer mlayer\"><g class=\"trace boxes\" style=\"opacity: 1;\"><path class=\"box\" d=\"M121.29,19.12V6.55M85.04,19.12V6.55H162.81V19.12ZM85.04,12.84H15.58M162.81,12.84H220.95M15.58,15.98V9.69M220.95,15.98V9.69\" style=\"vector-effect: non-scaling-stroke; stroke-width: 2px; stroke: rgb(255, 255, 255); stroke-opacity: 0; fill: rgb(255, 255, 255); fill-opacity: 0;\"/><g class=\"points\"><path class=\"point\" transform=\"translate(15.58,22.27)\" d=\"M0,4.2V-4.2\" style=\"opacity: 1; stroke: rgb(31, 119, 180); stroke-opacity: 1; stroke-width: 1px; fill: none;\"/><path class=\"point\" transform=\"translate(45.78,22.27)\" d=\"M0,4.2V-4.2\" style=\"opacity: 1; stroke: rgb(31, 119, 180); stroke-opacity: 1; stroke-width: 1px; fill: none;\"/><path class=\"point\" transform=\"translate(45.78,22.27)\" d=\"M0,4.2V-4.2\" style=\"opacity: 1; stroke: rgb(31, 119, 180); stroke-opacity: 1; stroke-width: 1px; fill: none;\"/><path class=\"point\" transform=\"translate(48.8,22.27)\" d=\"M0,4.2V-4.2\" style=\"opacity: 1; stroke: rgb(31, 119, 180); stroke-opacity: 1; stroke-width: 1px; fill: none;\"/><path class=\"point\" transform=\"translate(48.8,22.27)\" d=\"M0,4.2V-4.2\" style=\"opacity: 1; stroke: rgb(31, 119, 180); stroke-opacity: 1; stroke-width: 1px; fill: none;\"/><path class=\"point\" transform=\"translate(48.8,22.27)\" d=\"M0,4.2V-4.2\" style=\"opacity: 1; stroke: rgb(31, 119, 180); stroke-opacity: 1; stroke-width: 1px; fill: none;\"/><path class=\"point\" transform=\"translate(48.8,22.27)\" d=\"M0,4.2V-4.2\" style=\"opacity: 1; stroke: rgb(31, 119, 180); stroke-opacity: 1; stroke-width: 1px; fill: none;\"/><path class=\"point\" transform=\"translate(51.82,22.27)\" d=\"M0,4.2V-4.2\" style=\"opacity: 1; stroke: rgb(31, 119, 180); stroke-opacity: 1; stroke-width: 1px; fill: none;\"/><path class=\"point\" transform=\"translate(51.82,22.27)\" d=\"M0,4.2V-4.2\" style=\"opacity: 1; stroke: rgb(31, 119, 180); stroke-opacity: 1; stroke-width: 1px; fill: none;\"/><path class=\"point\" transform=\"translate(51.82,22.27)\" d=\"M0,4.2V-4.2\" style=\"opacity: 1; stroke: rgb(31, 119, 180); stroke-opacity: 1; stroke-width: 1px; fill: none;\"/><path class=\"point\" transform=\"translate(51.82,22.27)\" d=\"M0,4.2V-4.2\" style=\"opacity: 1; stroke: rgb(31, 119, 180); stroke-opacity: 1; stroke-width: 1px; fill: none;\"/><path class=\"point\" transform=\"translate(51.82,22.27)\" d=\"M0,4.2V-4.2\" style=\"opacity: 1; stroke: rgb(31, 119, 180); stroke-opacity: 1; stroke-width: 1px; fill: none;\"/><path class=\"point\" transform=\"translate(51.82,22.27)\" d=\"M0,4.2V-4.2\" style=\"opacity: 1; stroke: rgb(31, 119, 180); stroke-opacity: 1; stroke-width: 1px; fill: none;\"/><path class=\"point\" transform=\"translate(51.82,22.27)\" d=\"M0,4.2V-4.2\" style=\"opacity: 1; stroke: rgb(31, 119, 180); stroke-opacity: 1; stroke-width: 1px; fill: none;\"/><path class=\"point\" transform=\"translate(51.82,22.27)\" d=\"M0,4.2V-4.2\" style=\"opacity: 1; stroke: rgb(31, 119, 180); stroke-opacity: 1; stroke-width: 1px; fill: none;\"/><path class=\"point\" transform=\"translate(51.82,22.27)\" d=\"M0,4.2V-4.2\" style=\"opacity: 1; stroke: rgb(31, 119, 180); stroke-opacity: 1; stroke-width: 1px; fill: none;\"/><path class=\"point\" transform=\"translate(54.84,22.27)\" d=\"M0,4.2V-4.2\" style=\"opacity: 1; stroke: rgb(31, 119, 180); stroke-opacity: 1; stroke-width: 1px; fill: none;\"/><path class=\"point\" transform=\"translate(57.86,22.27)\" d=\"M0,4.2V-4.2\" style=\"opacity: 1; stroke: rgb(31, 119, 180); stroke-opacity: 1; stroke-width: 1px; fill: none;\"/><path class=\"point\" transform=\"translate(57.86,22.27)\" d=\"M0,4.2V-4.2\" style=\"opacity: 1; stroke: rgb(31, 119, 180); stroke-opacity: 1; stroke-width: 1px; fill: none;\"/><path class=\"point\" transform=\"translate(57.86,22.27)\" d=\"M0,4.2V-4.2\" style=\"opacity: 1; stroke: rgb(31, 119, 180); stroke-opacity: 1; stroke-width: 1px; fill: none;\"/><path class=\"point\" transform=\"translate(57.86,22.27)\" d=\"M0,4.2V-4.2\" style=\"opacity: 1; stroke: rgb(31, 119, 180); stroke-opacity: 1; stroke-width: 1px; fill: none;\"/><path class=\"point\" transform=\"translate(57.86,22.27)\" d=\"M0,4.2V-4.2\" style=\"opacity: 1; stroke: rgb(31, 119, 180); stroke-opacity: 1; stroke-width: 1px; fill: none;\"/><path class=\"point\" transform=\"translate(60.88,22.27)\" d=\"M0,4.2V-4.2\" style=\"opacity: 1; stroke: rgb(31, 119, 180); stroke-opacity: 1; stroke-width: 1px; fill: none;\"/><path class=\"point\" transform=\"translate(63.9,22.27)\" d=\"M0,4.2V-4.2\" style=\"opacity: 1; stroke: rgb(31, 119, 180); stroke-opacity: 1; stroke-width: 1px; fill: none;\"/><path class=\"point\" transform=\"translate(63.9,22.27)\" d=\"M0,4.2V-4.2\" style=\"opacity: 1; stroke: rgb(31, 119, 180); stroke-opacity: 1; stroke-width: 1px; fill: none;\"/><path class=\"point\" transform=\"translate(63.9,22.27)\" d=\"M0,4.2V-4.2\" style=\"opacity: 1; stroke: rgb(31, 119, 180); stroke-opacity: 1; stroke-width: 1px; fill: none;\"/><path class=\"point\" transform=\"translate(63.9,22.27)\" d=\"M0,4.2V-4.2\" style=\"opacity: 1; stroke: rgb(31, 119, 180); stroke-opacity: 1; stroke-width: 1px; fill: none;\"/><path class=\"point\" transform=\"translate(66.92,22.27)\" d=\"M0,4.2V-4.2\" style=\"opacity: 1; stroke: rgb(31, 119, 180); stroke-opacity: 1; stroke-width: 1px; fill: none;\"/><path class=\"point\" transform=\"translate(66.92,22.27)\" d=\"M0,4.2V-4.2\" style=\"opacity: 1; stroke: rgb(31, 119, 180); stroke-opacity: 1; stroke-width: 1px; fill: none;\"/><path class=\"point\" transform=\"translate(72.96,22.27)\" d=\"M0,4.2V-4.2\" style=\"opacity: 1; stroke: rgb(31, 119, 180); stroke-opacity: 1; stroke-width: 1px; fill: none;\"/><path class=\"point\" transform=\"translate(72.96,22.27)\" d=\"M0,4.2V-4.2\" style=\"opacity: 1; stroke: rgb(31, 119, 180); stroke-opacity: 1; stroke-width: 1px; fill: none;\"/><path class=\"point\" transform=\"translate(75.98,22.27)\" d=\"M0,4.2V-4.2\" style=\"opacity: 1; stroke: rgb(31, 119, 180); stroke-opacity: 1; stroke-width: 1px; fill: none;\"/><path class=\"point\" transform=\"translate(75.98,22.27)\" d=\"M0,4.2V-4.2\" style=\"opacity: 1; stroke: rgb(31, 119, 180); stroke-opacity: 1; stroke-width: 1px; fill: none;\"/><path class=\"point\" transform=\"translate(79,22.27)\" d=\"M0,4.2V-4.2\" style=\"opacity: 1; stroke: rgb(31, 119, 180); stroke-opacity: 1; stroke-width: 1px; fill: none;\"/><path class=\"point\" transform=\"translate(79,22.27)\" d=\"M0,4.2V-4.2\" style=\"opacity: 1; stroke: rgb(31, 119, 180); stroke-opacity: 1; stroke-width: 1px; fill: none;\"/><path class=\"point\" transform=\"translate(79,22.27)\" d=\"M0,4.2V-4.2\" style=\"opacity: 1; stroke: rgb(31, 119, 180); stroke-opacity: 1; stroke-width: 1px; fill: none;\"/><path class=\"point\" transform=\"translate(85.04,22.27)\" d=\"M0,4.2V-4.2\" style=\"opacity: 1; stroke: rgb(31, 119, 180); stroke-opacity: 1; stroke-width: 1px; fill: none;\"/><path class=\"point\" transform=\"translate(85.04,22.27)\" d=\"M0,4.2V-4.2\" style=\"opacity: 1; stroke: rgb(31, 119, 180); stroke-opacity: 1; stroke-width: 1px; fill: none;\"/><path class=\"point\" transform=\"translate(85.04,22.27)\" d=\"M0,4.2V-4.2\" style=\"opacity: 1; stroke: rgb(31, 119, 180); stroke-opacity: 1; stroke-width: 1px; fill: none;\"/><path class=\"point\" transform=\"translate(85.04,22.27)\" d=\"M0,4.2V-4.2\" style=\"opacity: 1; stroke: rgb(31, 119, 180); stroke-opacity: 1; stroke-width: 1px; fill: none;\"/><path class=\"point\" transform=\"translate(85.04,22.27)\" d=\"M0,4.2V-4.2\" style=\"opacity: 1; stroke: rgb(31, 119, 180); stroke-opacity: 1; stroke-width: 1px; fill: none;\"/><path class=\"point\" transform=\"translate(85.04,22.27)\" d=\"M0,4.2V-4.2\" style=\"opacity: 1; stroke: rgb(31, 119, 180); stroke-opacity: 1; stroke-width: 1px; fill: none;\"/><path class=\"point\" transform=\"translate(88.06,22.27)\" d=\"M0,4.2V-4.2\" style=\"opacity: 1; stroke: rgb(31, 119, 180); stroke-opacity: 1; stroke-width: 1px; fill: none;\"/><path class=\"point\" transform=\"translate(88.06,22.27)\" d=\"M0,4.2V-4.2\" style=\"opacity: 1; stroke: rgb(31, 119, 180); stroke-opacity: 1; stroke-width: 1px; fill: none;\"/><path class=\"point\" transform=\"translate(88.06,22.27)\" d=\"M0,4.2V-4.2\" style=\"opacity: 1; stroke: rgb(31, 119, 180); stroke-opacity: 1; stroke-width: 1px; fill: none;\"/><path class=\"point\" transform=\"translate(91.08,22.27)\" d=\"M0,4.2V-4.2\" style=\"opacity: 1; stroke: rgb(31, 119, 180); stroke-opacity: 1; stroke-width: 1px; fill: none;\"/><path class=\"point\" transform=\"translate(91.08,22.27)\" d=\"M0,4.2V-4.2\" style=\"opacity: 1; stroke: rgb(31, 119, 180); stroke-opacity: 1; stroke-width: 1px; fill: none;\"/><path class=\"point\" transform=\"translate(91.08,22.27)\" d=\"M0,4.2V-4.2\" style=\"opacity: 1; stroke: rgb(31, 119, 180); stroke-opacity: 1; stroke-width: 1px; fill: none;\"/><path class=\"point\" transform=\"translate(91.08,22.27)\" d=\"M0,4.2V-4.2\" style=\"opacity: 1; stroke: rgb(31, 119, 180); stroke-opacity: 1; stroke-width: 1px; fill: none;\"/><path class=\"point\" transform=\"translate(91.08,22.27)\" d=\"M0,4.2V-4.2\" style=\"opacity: 1; stroke: rgb(31, 119, 180); stroke-opacity: 1; stroke-width: 1px; fill: none;\"/><path class=\"point\" transform=\"translate(94.1,22.27)\" d=\"M0,4.2V-4.2\" style=\"opacity: 1; stroke: rgb(31, 119, 180); stroke-opacity: 1; stroke-width: 1px; fill: none;\"/><path class=\"point\" transform=\"translate(100.14,22.27)\" d=\"M0,4.2V-4.2\" style=\"opacity: 1; stroke: rgb(31, 119, 180); stroke-opacity: 1; stroke-width: 1px; fill: none;\"/><path class=\"point\" transform=\"translate(100.14,22.27)\" d=\"M0,4.2V-4.2\" style=\"opacity: 1; stroke: rgb(31, 119, 180); stroke-opacity: 1; stroke-width: 1px; fill: none;\"/><path class=\"point\" transform=\"translate(100.14,22.27)\" d=\"M0,4.2V-4.2\" style=\"opacity: 1; stroke: rgb(31, 119, 180); stroke-opacity: 1; stroke-width: 1px; fill: none;\"/><path class=\"point\" transform=\"translate(100.14,22.27)\" d=\"M0,4.2V-4.2\" style=\"opacity: 1; stroke: rgb(31, 119, 180); stroke-opacity: 1; stroke-width: 1px; fill: none;\"/><path class=\"point\" transform=\"translate(103.16,22.27)\" d=\"M0,4.2V-4.2\" style=\"opacity: 1; stroke: rgb(31, 119, 180); stroke-opacity: 1; stroke-width: 1px; fill: none;\"/><path class=\"point\" transform=\"translate(103.16,22.27)\" d=\"M0,4.2V-4.2\" style=\"opacity: 1; stroke: rgb(31, 119, 180); stroke-opacity: 1; stroke-width: 1px; fill: none;\"/><path class=\"point\" transform=\"translate(103.16,22.27)\" d=\"M0,4.2V-4.2\" style=\"opacity: 1; stroke: rgb(31, 119, 180); stroke-opacity: 1; stroke-width: 1px; fill: none;\"/><path class=\"point\" transform=\"translate(103.16,22.27)\" d=\"M0,4.2V-4.2\" style=\"opacity: 1; stroke: rgb(31, 119, 180); stroke-opacity: 1; stroke-width: 1px; fill: none;\"/><path class=\"point\" transform=\"translate(109.2,22.27)\" d=\"M0,4.2V-4.2\" style=\"opacity: 1; stroke: rgb(31, 119, 180); stroke-opacity: 1; stroke-width: 1px; fill: none;\"/><path class=\"point\" transform=\"translate(109.2,22.27)\" d=\"M0,4.2V-4.2\" style=\"opacity: 1; stroke: rgb(31, 119, 180); stroke-opacity: 1; stroke-width: 1px; fill: none;\"/><path class=\"point\" transform=\"translate(109.2,22.27)\" d=\"M0,4.2V-4.2\" style=\"opacity: 1; stroke: rgb(31, 119, 180); stroke-opacity: 1; stroke-width: 1px; fill: none;\"/><path class=\"point\" transform=\"translate(109.2,22.27)\" d=\"M0,4.2V-4.2\" style=\"opacity: 1; stroke: rgb(31, 119, 180); stroke-opacity: 1; stroke-width: 1px; fill: none;\"/><path class=\"point\" transform=\"translate(112.23,22.27)\" d=\"M0,4.2V-4.2\" style=\"opacity: 1; stroke: rgb(31, 119, 180); stroke-opacity: 1; stroke-width: 1px; fill: none;\"/><path class=\"point\" transform=\"translate(115.25,22.27)\" d=\"M0,4.2V-4.2\" style=\"opacity: 1; stroke: rgb(31, 119, 180); stroke-opacity: 1; stroke-width: 1px; fill: none;\"/><path class=\"point\" transform=\"translate(115.25,22.27)\" d=\"M0,4.2V-4.2\" style=\"opacity: 1; stroke: rgb(31, 119, 180); stroke-opacity: 1; stroke-width: 1px; fill: none;\"/><path class=\"point\" transform=\"translate(115.25,22.27)\" d=\"M0,4.2V-4.2\" style=\"opacity: 1; stroke: rgb(31, 119, 180); stroke-opacity: 1; stroke-width: 1px; fill: none;\"/><path class=\"point\" transform=\"translate(115.25,22.27)\" d=\"M0,4.2V-4.2\" style=\"opacity: 1; stroke: rgb(31, 119, 180); stroke-opacity: 1; stroke-width: 1px; fill: none;\"/><path class=\"point\" transform=\"translate(115.25,22.27)\" d=\"M0,4.2V-4.2\" style=\"opacity: 1; stroke: rgb(31, 119, 180); stroke-opacity: 1; stroke-width: 1px; fill: none;\"/><path class=\"point\" transform=\"translate(118.27,22.27)\" d=\"M0,4.2V-4.2\" style=\"opacity: 1; stroke: rgb(31, 119, 180); stroke-opacity: 1; stroke-width: 1px; fill: none;\"/><path class=\"point\" transform=\"translate(118.27,22.27)\" d=\"M0,4.2V-4.2\" style=\"opacity: 1; stroke: rgb(31, 119, 180); stroke-opacity: 1; stroke-width: 1px; fill: none;\"/><path class=\"point\" transform=\"translate(118.27,22.27)\" d=\"M0,4.2V-4.2\" style=\"opacity: 1; stroke: rgb(31, 119, 180); stroke-opacity: 1; stroke-width: 1px; fill: none;\"/><path class=\"point\" transform=\"translate(118.27,22.27)\" d=\"M0,4.2V-4.2\" style=\"opacity: 1; stroke: rgb(31, 119, 180); stroke-opacity: 1; stroke-width: 1px; fill: none;\"/><path class=\"point\" transform=\"translate(118.27,22.27)\" d=\"M0,4.2V-4.2\" style=\"opacity: 1; stroke: rgb(31, 119, 180); stroke-opacity: 1; stroke-width: 1px; fill: none;\"/><path class=\"point\" transform=\"translate(118.27,22.27)\" d=\"M0,4.2V-4.2\" style=\"opacity: 1; stroke: rgb(31, 119, 180); stroke-opacity: 1; stroke-width: 1px; fill: none;\"/><path class=\"point\" transform=\"translate(118.27,22.27)\" d=\"M0,4.2V-4.2\" style=\"opacity: 1; stroke: rgb(31, 119, 180); stroke-opacity: 1; stroke-width: 1px; fill: none;\"/><path class=\"point\" transform=\"translate(118.27,22.27)\" d=\"M0,4.2V-4.2\" style=\"opacity: 1; stroke: rgb(31, 119, 180); stroke-opacity: 1; stroke-width: 1px; fill: none;\"/><path class=\"point\" transform=\"translate(118.27,22.27)\" d=\"M0,4.2V-4.2\" style=\"opacity: 1; stroke: rgb(31, 119, 180); stroke-opacity: 1; stroke-width: 1px; fill: none;\"/><path class=\"point\" transform=\"translate(121.29,22.27)\" d=\"M0,4.2V-4.2\" style=\"opacity: 1; stroke: rgb(31, 119, 180); stroke-opacity: 1; stroke-width: 1px; fill: none;\"/><path class=\"point\" transform=\"translate(121.29,22.27)\" d=\"M0,4.2V-4.2\" style=\"opacity: 1; stroke: rgb(31, 119, 180); stroke-opacity: 1; stroke-width: 1px; fill: none;\"/><path class=\"point\" transform=\"translate(121.29,22.27)\" d=\"M0,4.2V-4.2\" style=\"opacity: 1; stroke: rgb(31, 119, 180); stroke-opacity: 1; stroke-width: 1px; fill: none;\"/><path class=\"point\" transform=\"translate(127.33,22.27)\" d=\"M0,4.2V-4.2\" style=\"opacity: 1; stroke: rgb(31, 119, 180); stroke-opacity: 1; stroke-width: 1px; fill: none;\"/><path class=\"point\" transform=\"translate(130.35,22.27)\" d=\"M0,4.2V-4.2\" style=\"opacity: 1; stroke: rgb(31, 119, 180); stroke-opacity: 1; stroke-width: 1px; fill: none;\"/><path class=\"point\" transform=\"translate(130.35,22.27)\" d=\"M0,4.2V-4.2\" style=\"opacity: 1; stroke: rgb(31, 119, 180); stroke-opacity: 1; stroke-width: 1px; fill: none;\"/><path class=\"point\" transform=\"translate(130.35,22.27)\" d=\"M0,4.2V-4.2\" style=\"opacity: 1; stroke: rgb(31, 119, 180); stroke-opacity: 1; stroke-width: 1px; fill: none;\"/><path class=\"point\" transform=\"translate(130.35,22.27)\" d=\"M0,4.2V-4.2\" style=\"opacity: 1; stroke: rgb(31, 119, 180); stroke-opacity: 1; stroke-width: 1px; fill: none;\"/><path class=\"point\" transform=\"translate(130.35,22.27)\" d=\"M0,4.2V-4.2\" style=\"opacity: 1; stroke: rgb(31, 119, 180); stroke-opacity: 1; stroke-width: 1px; fill: none;\"/><path class=\"point\" transform=\"translate(133.37,22.27)\" d=\"M0,4.2V-4.2\" style=\"opacity: 1; stroke: rgb(31, 119, 180); stroke-opacity: 1; stroke-width: 1px; fill: none;\"/><path class=\"point\" transform=\"translate(136.39,22.27)\" d=\"M0,4.2V-4.2\" style=\"opacity: 1; stroke: rgb(31, 119, 180); stroke-opacity: 1; stroke-width: 1px; fill: none;\"/><path class=\"point\" transform=\"translate(136.39,22.27)\" d=\"M0,4.2V-4.2\" style=\"opacity: 1; stroke: rgb(31, 119, 180); stroke-opacity: 1; stroke-width: 1px; fill: none;\"/><path class=\"point\" transform=\"translate(139.41,22.27)\" d=\"M0,4.2V-4.2\" style=\"opacity: 1; stroke: rgb(31, 119, 180); stroke-opacity: 1; stroke-width: 1px; fill: none;\"/><path class=\"point\" transform=\"translate(142.43,22.27)\" d=\"M0,4.2V-4.2\" style=\"opacity: 1; stroke: rgb(31, 119, 180); stroke-opacity: 1; stroke-width: 1px; fill: none;\"/><path class=\"point\" transform=\"translate(142.43,22.27)\" d=\"M0,4.2V-4.2\" style=\"opacity: 1; stroke: rgb(31, 119, 180); stroke-opacity: 1; stroke-width: 1px; fill: none;\"/><path class=\"point\" transform=\"translate(142.43,22.27)\" d=\"M0,4.2V-4.2\" style=\"opacity: 1; stroke: rgb(31, 119, 180); stroke-opacity: 1; stroke-width: 1px; fill: none;\"/><path class=\"point\" transform=\"translate(145.45,22.27)\" d=\"M0,4.2V-4.2\" style=\"opacity: 1; stroke: rgb(31, 119, 180); stroke-opacity: 1; stroke-width: 1px; fill: none;\"/><path class=\"point\" transform=\"translate(145.45,22.27)\" d=\"M0,4.2V-4.2\" style=\"opacity: 1; stroke: rgb(31, 119, 180); stroke-opacity: 1; stroke-width: 1px; fill: none;\"/><path class=\"point\" transform=\"translate(148.47,22.27)\" d=\"M0,4.2V-4.2\" style=\"opacity: 1; stroke: rgb(31, 119, 180); stroke-opacity: 1; stroke-width: 1px; fill: none;\"/><path class=\"point\" transform=\"translate(148.47,22.27)\" d=\"M0,4.2V-4.2\" style=\"opacity: 1; stroke: rgb(31, 119, 180); stroke-opacity: 1; stroke-width: 1px; fill: none;\"/><path class=\"point\" transform=\"translate(148.47,22.27)\" d=\"M0,4.2V-4.2\" style=\"opacity: 1; stroke: rgb(31, 119, 180); stroke-opacity: 1; stroke-width: 1px; fill: none;\"/><path class=\"point\" transform=\"translate(151.49,22.27)\" d=\"M0,4.2V-4.2\" style=\"opacity: 1; stroke: rgb(31, 119, 180); stroke-opacity: 1; stroke-width: 1px; fill: none;\"/><path class=\"point\" transform=\"translate(151.49,22.27)\" d=\"M0,4.2V-4.2\" style=\"opacity: 1; stroke: rgb(31, 119, 180); stroke-opacity: 1; stroke-width: 1px; fill: none;\"/><path class=\"point\" transform=\"translate(151.49,22.27)\" d=\"M0,4.2V-4.2\" style=\"opacity: 1; stroke: rgb(31, 119, 180); stroke-opacity: 1; stroke-width: 1px; fill: none;\"/><path class=\"point\" transform=\"translate(151.49,22.27)\" d=\"M0,4.2V-4.2\" style=\"opacity: 1; stroke: rgb(31, 119, 180); stroke-opacity: 1; stroke-width: 1px; fill: none;\"/><path class=\"point\" transform=\"translate(151.49,22.27)\" d=\"M0,4.2V-4.2\" style=\"opacity: 1; stroke: rgb(31, 119, 180); stroke-opacity: 1; stroke-width: 1px; fill: none;\"/><path class=\"point\" transform=\"translate(151.49,22.27)\" d=\"M0,4.2V-4.2\" style=\"opacity: 1; stroke: rgb(31, 119, 180); stroke-opacity: 1; stroke-width: 1px; fill: none;\"/><path class=\"point\" transform=\"translate(154.51,22.27)\" d=\"M0,4.2V-4.2\" style=\"opacity: 1; stroke: rgb(31, 119, 180); stroke-opacity: 1; stroke-width: 1px; fill: none;\"/><path class=\"point\" transform=\"translate(154.51,22.27)\" d=\"M0,4.2V-4.2\" style=\"opacity: 1; stroke: rgb(31, 119, 180); stroke-opacity: 1; stroke-width: 1px; fill: none;\"/><path class=\"point\" transform=\"translate(157.53,22.27)\" d=\"M0,4.2V-4.2\" style=\"opacity: 1; stroke: rgb(31, 119, 180); stroke-opacity: 1; stroke-width: 1px; fill: none;\"/><path class=\"point\" transform=\"translate(160.55,22.27)\" d=\"M0,4.2V-4.2\" style=\"opacity: 1; stroke: rgb(31, 119, 180); stroke-opacity: 1; stroke-width: 1px; fill: none;\"/><path class=\"point\" transform=\"translate(160.55,22.27)\" d=\"M0,4.2V-4.2\" style=\"opacity: 1; stroke: rgb(31, 119, 180); stroke-opacity: 1; stroke-width: 1px; fill: none;\"/><path class=\"point\" transform=\"translate(160.55,22.27)\" d=\"M0,4.2V-4.2\" style=\"opacity: 1; stroke: rgb(31, 119, 180); stroke-opacity: 1; stroke-width: 1px; fill: none;\"/><path class=\"point\" transform=\"translate(160.55,22.27)\" d=\"M0,4.2V-4.2\" style=\"opacity: 1; stroke: rgb(31, 119, 180); stroke-opacity: 1; stroke-width: 1px; fill: none;\"/><path class=\"point\" transform=\"translate(160.55,22.27)\" d=\"M0,4.2V-4.2\" style=\"opacity: 1; stroke: rgb(31, 119, 180); stroke-opacity: 1; stroke-width: 1px; fill: none;\"/><path class=\"point\" transform=\"translate(160.55,22.27)\" d=\"M0,4.2V-4.2\" style=\"opacity: 1; stroke: rgb(31, 119, 180); stroke-opacity: 1; stroke-width: 1px; fill: none;\"/><path class=\"point\" transform=\"translate(160.55,22.27)\" d=\"M0,4.2V-4.2\" style=\"opacity: 1; stroke: rgb(31, 119, 180); stroke-opacity: 1; stroke-width: 1px; fill: none;\"/><path class=\"point\" transform=\"translate(160.55,22.27)\" d=\"M0,4.2V-4.2\" style=\"opacity: 1; stroke: rgb(31, 119, 180); stroke-opacity: 1; stroke-width: 1px; fill: none;\"/><path class=\"point\" transform=\"translate(160.55,22.27)\" d=\"M0,4.2V-4.2\" style=\"opacity: 1; stroke: rgb(31, 119, 180); stroke-opacity: 1; stroke-width: 1px; fill: none;\"/><path class=\"point\" transform=\"translate(160.55,22.27)\" d=\"M0,4.2V-4.2\" style=\"opacity: 1; stroke: rgb(31, 119, 180); stroke-opacity: 1; stroke-width: 1px; fill: none;\"/><path class=\"point\" transform=\"translate(160.55,22.27)\" d=\"M0,4.2V-4.2\" style=\"opacity: 1; stroke: rgb(31, 119, 180); stroke-opacity: 1; stroke-width: 1px; fill: none;\"/><path class=\"point\" transform=\"translate(163.57,22.27)\" d=\"M0,4.2V-4.2\" style=\"opacity: 1; stroke: rgb(31, 119, 180); stroke-opacity: 1; stroke-width: 1px; fill: none;\"/><path class=\"point\" transform=\"translate(163.57,22.27)\" d=\"M0,4.2V-4.2\" style=\"opacity: 1; stroke: rgb(31, 119, 180); stroke-opacity: 1; stroke-width: 1px; fill: none;\"/><path class=\"point\" transform=\"translate(163.57,22.27)\" d=\"M0,4.2V-4.2\" style=\"opacity: 1; stroke: rgb(31, 119, 180); stroke-opacity: 1; stroke-width: 1px; fill: none;\"/><path class=\"point\" transform=\"translate(163.57,22.27)\" d=\"M0,4.2V-4.2\" style=\"opacity: 1; stroke: rgb(31, 119, 180); stroke-opacity: 1; stroke-width: 1px; fill: none;\"/><path class=\"point\" transform=\"translate(163.57,22.27)\" d=\"M0,4.2V-4.2\" style=\"opacity: 1; stroke: rgb(31, 119, 180); stroke-opacity: 1; stroke-width: 1px; fill: none;\"/><path class=\"point\" transform=\"translate(163.57,22.27)\" d=\"M0,4.2V-4.2\" style=\"opacity: 1; stroke: rgb(31, 119, 180); stroke-opacity: 1; stroke-width: 1px; fill: none;\"/><path class=\"point\" transform=\"translate(169.61,22.27)\" d=\"M0,4.2V-4.2\" style=\"opacity: 1; stroke: rgb(31, 119, 180); stroke-opacity: 1; stroke-width: 1px; fill: none;\"/><path class=\"point\" transform=\"translate(169.61,22.27)\" d=\"M0,4.2V-4.2\" style=\"opacity: 1; stroke: rgb(31, 119, 180); stroke-opacity: 1; stroke-width: 1px; fill: none;\"/><path class=\"point\" transform=\"translate(169.61,22.27)\" d=\"M0,4.2V-4.2\" style=\"opacity: 1; stroke: rgb(31, 119, 180); stroke-opacity: 1; stroke-width: 1px; fill: none;\"/><path class=\"point\" transform=\"translate(169.61,22.27)\" d=\"M0,4.2V-4.2\" style=\"opacity: 1; stroke: rgb(31, 119, 180); stroke-opacity: 1; stroke-width: 1px; fill: none;\"/><path class=\"point\" transform=\"translate(169.61,22.27)\" d=\"M0,4.2V-4.2\" style=\"opacity: 1; stroke: rgb(31, 119, 180); stroke-opacity: 1; stroke-width: 1px; fill: none;\"/><path class=\"point\" transform=\"translate(169.61,22.27)\" d=\"M0,4.2V-4.2\" style=\"opacity: 1; stroke: rgb(31, 119, 180); stroke-opacity: 1; stroke-width: 1px; fill: none;\"/><path class=\"point\" transform=\"translate(169.61,22.27)\" d=\"M0,4.2V-4.2\" style=\"opacity: 1; stroke: rgb(31, 119, 180); stroke-opacity: 1; stroke-width: 1px; fill: none;\"/><path class=\"point\" transform=\"translate(169.61,22.27)\" d=\"M0,4.2V-4.2\" style=\"opacity: 1; stroke: rgb(31, 119, 180); stroke-opacity: 1; stroke-width: 1px; fill: none;\"/><path class=\"point\" transform=\"translate(169.61,22.27)\" d=\"M0,4.2V-4.2\" style=\"opacity: 1; stroke: rgb(31, 119, 180); stroke-opacity: 1; stroke-width: 1px; fill: none;\"/><path class=\"point\" transform=\"translate(172.63,22.27)\" d=\"M0,4.2V-4.2\" style=\"opacity: 1; stroke: rgb(31, 119, 180); stroke-opacity: 1; stroke-width: 1px; fill: none;\"/><path class=\"point\" transform=\"translate(172.63,22.27)\" d=\"M0,4.2V-4.2\" style=\"opacity: 1; stroke: rgb(31, 119, 180); stroke-opacity: 1; stroke-width: 1px; fill: none;\"/><path class=\"point\" transform=\"translate(172.63,22.27)\" d=\"M0,4.2V-4.2\" style=\"opacity: 1; stroke: rgb(31, 119, 180); stroke-opacity: 1; stroke-width: 1px; fill: none;\"/><path class=\"point\" transform=\"translate(172.63,22.27)\" d=\"M0,4.2V-4.2\" style=\"opacity: 1; stroke: rgb(31, 119, 180); stroke-opacity: 1; stroke-width: 1px; fill: none;\"/><path class=\"point\" transform=\"translate(172.63,22.27)\" d=\"M0,4.2V-4.2\" style=\"opacity: 1; stroke: rgb(31, 119, 180); stroke-opacity: 1; stroke-width: 1px; fill: none;\"/><path class=\"point\" transform=\"translate(172.63,22.27)\" d=\"M0,4.2V-4.2\" style=\"opacity: 1; stroke: rgb(31, 119, 180); stroke-opacity: 1; stroke-width: 1px; fill: none;\"/><path class=\"point\" transform=\"translate(172.63,22.27)\" d=\"M0,4.2V-4.2\" style=\"opacity: 1; stroke: rgb(31, 119, 180); stroke-opacity: 1; stroke-width: 1px; fill: none;\"/><path class=\"point\" transform=\"translate(175.65,22.27)\" d=\"M0,4.2V-4.2\" style=\"opacity: 1; stroke: rgb(31, 119, 180); stroke-opacity: 1; stroke-width: 1px; fill: none;\"/><path class=\"point\" transform=\"translate(175.65,22.27)\" d=\"M0,4.2V-4.2\" style=\"opacity: 1; stroke: rgb(31, 119, 180); stroke-opacity: 1; stroke-width: 1px; fill: none;\"/><path class=\"point\" transform=\"translate(175.65,22.27)\" d=\"M0,4.2V-4.2\" style=\"opacity: 1; stroke: rgb(31, 119, 180); stroke-opacity: 1; stroke-width: 1px; fill: none;\"/><path class=\"point\" transform=\"translate(175.65,22.27)\" d=\"M0,4.2V-4.2\" style=\"opacity: 1; stroke: rgb(31, 119, 180); stroke-opacity: 1; stroke-width: 1px; fill: none;\"/><path class=\"point\" transform=\"translate(175.65,22.27)\" d=\"M0,4.2V-4.2\" style=\"opacity: 1; stroke: rgb(31, 119, 180); stroke-opacity: 1; stroke-width: 1px; fill: none;\"/><path class=\"point\" transform=\"translate(178.67,22.27)\" d=\"M0,4.2V-4.2\" style=\"opacity: 1; stroke: rgb(31, 119, 180); stroke-opacity: 1; stroke-width: 1px; fill: none;\"/><path class=\"point\" transform=\"translate(184.71,22.27)\" d=\"M0,4.2V-4.2\" style=\"opacity: 1; stroke: rgb(31, 119, 180); stroke-opacity: 1; stroke-width: 1px; fill: none;\"/><path class=\"point\" transform=\"translate(187.73,22.27)\" d=\"M0,4.2V-4.2\" style=\"opacity: 1; stroke: rgb(31, 119, 180); stroke-opacity: 1; stroke-width: 1px; fill: none;\"/><path class=\"point\" transform=\"translate(187.73,22.27)\" d=\"M0,4.2V-4.2\" style=\"opacity: 1; stroke: rgb(31, 119, 180); stroke-opacity: 1; stroke-width: 1px; fill: none;\"/><path class=\"point\" transform=\"translate(190.75,22.27)\" d=\"M0,4.2V-4.2\" style=\"opacity: 1; stroke: rgb(31, 119, 180); stroke-opacity: 1; stroke-width: 1px; fill: none;\"/><path class=\"point\" transform=\"translate(190.75,22.27)\" d=\"M0,4.2V-4.2\" style=\"opacity: 1; stroke: rgb(31, 119, 180); stroke-opacity: 1; stroke-width: 1px; fill: none;\"/><path class=\"point\" transform=\"translate(190.75,22.27)\" d=\"M0,4.2V-4.2\" style=\"opacity: 1; stroke: rgb(31, 119, 180); stroke-opacity: 1; stroke-width: 1px; fill: none;\"/><path class=\"point\" transform=\"translate(190.75,22.27)\" d=\"M0,4.2V-4.2\" style=\"opacity: 1; stroke: rgb(31, 119, 180); stroke-opacity: 1; stroke-width: 1px; fill: none;\"/><path class=\"point\" transform=\"translate(193.77,22.27)\" d=\"M0,4.2V-4.2\" style=\"opacity: 1; stroke: rgb(31, 119, 180); stroke-opacity: 1; stroke-width: 1px; fill: none;\"/><path class=\"point\" transform=\"translate(193.77,22.27)\" d=\"M0,4.2V-4.2\" style=\"opacity: 1; stroke: rgb(31, 119, 180); stroke-opacity: 1; stroke-width: 1px; fill: none;\"/><path class=\"point\" transform=\"translate(205.85,22.27)\" d=\"M0,4.2V-4.2\" style=\"opacity: 1; stroke: rgb(31, 119, 180); stroke-opacity: 1; stroke-width: 1px; fill: none;\"/><path class=\"point\" transform=\"translate(205.85,22.27)\" d=\"M0,4.2V-4.2\" style=\"opacity: 1; stroke: rgb(31, 119, 180); stroke-opacity: 1; stroke-width: 1px; fill: none;\"/><path class=\"point\" transform=\"translate(220.95,22.27)\" d=\"M0,4.2V-4.2\" style=\"opacity: 1; stroke: rgb(31, 119, 180); stroke-opacity: 1; stroke-width: 1px; fill: none;\"/></g></g></g></g><g class=\"overplot\"/><path class=\"xlines-above crisp\" d=\"M57,39.1704H293.53139999999996\" style=\"fill: none; stroke-width: 1px; stroke: rgb(36, 36, 36); stroke-opacity: 1;\"/><path class=\"ylines-above crisp\" d=\"M0,0\" style=\"fill: none;\"/><g class=\"overlines-above\"/><g class=\"xaxislayer-above\"><path class=\"x3tick ticks crisp\" d=\"M0,39.6704v5\" transform=\"translate(93.72,0)\" style=\"stroke: rgb(68, 68, 68); stroke-opacity: 1; stroke-width: 1px;\"/><path class=\"x3tick ticks crisp\" d=\"M0,39.6704v5\" transform=\"translate(154.12,0)\" style=\"stroke: rgb(68, 68, 68); stroke-opacity: 1; stroke-width: 1px;\"/><path class=\"x3tick ticks crisp\" d=\"M0,39.6704v5\" transform=\"translate(214.53,0)\" style=\"stroke: rgb(68, 68, 68); stroke-opacity: 1; stroke-width: 1px;\"/><path class=\"x3tick ticks crisp\" d=\"M0,39.6704v5\" transform=\"translate(274.93,0)\" style=\"stroke: rgb(68, 68, 68); stroke-opacity: 1; stroke-width: 1px;\"/></g><g class=\"yaxislayer-above\"/><g class=\"overaxes-above\"/></g></g><g class=\"polarlayer\"/><g class=\"smithlayer\"/><g class=\"ternarylayer\"/><g class=\"geolayer\"/><g class=\"funnelarealayer\"/><g class=\"pielayer\"/><g class=\"iciclelayer\"/><g class=\"treemaplayer\"/><g class=\"sunburstlayer\"/><g class=\"glimages\"/><defs id=\"topdefs-24ad13\"><g class=\"clips\"/></defs><g class=\"layer-above\"><g class=\"imagelayer\"/><g class=\"shapelayer\"/></g><g class=\"infolayer\"><g class=\"g-gtitle\"/><g class=\"g-xtitle\"><text class=\"xtitle\" x=\"175.26569999999998\" y=\"239.70625\" text-anchor=\"middle\" style=\"font-family: 'Open Sans', verdana, arial, sans-serif; font-size: 14px; fill: rgb(36, 36, 36); opacity: 1; font-weight: normal; white-space: pre;\">height</text></g><g class=\"g-x2title\"/><g class=\"g-x3title\"/><g class=\"g-ytitle\" transform=\"translate(4.9306640625,0)\"><text class=\"ytitle\" transform=\"rotate(-90,10.075000000000003,115.7402)\" x=\"10.075000000000003\" y=\"115.7402\" text-anchor=\"middle\" style=\"font-family: 'Open Sans', verdana, arial, sans-serif; font-size: 14px; fill: rgb(36, 36, 36); opacity: 1; font-weight: normal; white-space: pre;\">weight</text></g><g class=\"g-y2title\"/><g class=\"g-y3title\"/></g></svg>"
      ]
     },
     "metadata": {},
     "output_type": "display_data"
    }
   ],
   "source": [
    "px.scatter(dogs, x='height', y='weight', \n",
    "            marginal_x=\"rug\", marginal_y=\"rug\",\n",
    "            width=350, height=250)"
   ]
  },
  {
   "cell_type": "markdown",
   "metadata": {},
   "source": [
    "**Two Univariate Plots ≠ One Bivariate Plot**. The histograms for two\n",
    "quantitative features do not contain enough information to create their scatter\n",
    "plot so we must exercise caution when we read a pair of histograms. That is,\n",
    "the two histograms do not show how these features vary together. We need to\n",
    "use one of the plots listed in the appropriate row of\n",
    "{numref}`Table %s <plots-for-features>`\n",
    "(scatter plot, smooth curve, contour plot, heat map,\n",
    "quantile-quantile plot) to get a sense of\n",
    "the relationship between two quantitative features.\n",
    "\n",
    "When one feature is numeric and the other qualitative, {numref}`Table %s <plots-for-features>` makes different recommendations. We describe them next."
   ]
  },
  {
   "cell_type": "markdown",
   "metadata": {},
   "source": [
    "## One Qualitative and One Quantitative Variable\n",
    "\n",
    "To examine the relationship between a quantitative and a qualitative\n",
    "feature, we often use the qualitative feature to divide the data into groups\n",
    "and compare the distribution of the quantitative feature across these groups.\n",
    "For example, we can compare the distribution of height for small, medium\n",
    "and large dog breeds (see the three overlaid density curves below).\n",
    "We see that the distribution of height for the\n",
    "small and medium breeds both appear bimodal, with the left mode the larger\n",
    "in each group. Also, the small and medium groups have a larger spread in\n",
    "height than the large group of breeds."
   ]
  },
  {
   "cell_type": "code",
   "execution_count": 4,
   "metadata": {
    "tags": [
     "remove-input"
    ]
   },
   "outputs": [
    {
     "data": {
      "image/svg+xml": [
       "<?xml version=\"1.0\" encoding=\"utf-8\" standalone=\"no\"?>\n",
       "<!DOCTYPE svg PUBLIC \"-//W3C//DTD SVG 1.1//EN\"\n",
       "  \"http://www.w3.org/Graphics/SVG/1.1/DTD/svg11.dtd\">\n",
       "<!-- Created with matplotlib (https://matplotlib.org/) -->\n",
       "<svg height=\"206.887813pt\" version=\"1.1\" viewBox=\"0 0 394.484375 206.887813\" width=\"394.484375pt\" xmlns=\"http://www.w3.org/2000/svg\" xmlns:xlink=\"http://www.w3.org/1999/xlink\">\n",
       " <metadata>\n",
       "  <rdf:RDF xmlns:cc=\"http://creativecommons.org/ns#\" xmlns:dc=\"http://purl.org/dc/elements/1.1/\" xmlns:rdf=\"http://www.w3.org/1999/02/22-rdf-syntax-ns#\">\n",
       "   <cc:Work>\n",
       "    <dc:type rdf:resource=\"http://purl.org/dc/dcmitype/StillImage\"/>\n",
       "    <dc:date>2023-01-16T17:35:58.717492</dc:date>\n",
       "    <dc:format>image/svg+xml</dc:format>\n",
       "    <dc:creator>\n",
       "     <cc:Agent>\n",
       "      <dc:title>Matplotlib v3.3.4, https://matplotlib.org/</dc:title>\n",
       "     </cc:Agent>\n",
       "    </dc:creator>\n",
       "   </cc:Work>\n",
       "  </rdf:RDF>\n",
       " </metadata>\n",
       " <defs>\n",
       "  <style type=\"text/css\">*{stroke-linecap:butt;stroke-linejoin:round;}</style>\n",
       " </defs>\n",
       " <g id=\"figure_1\">\n",
       "  <g id=\"patch_1\">\n",
       "   <path d=\"M 0 206.887813 \n",
       "L 394.484375 206.887813 \n",
       "L 394.484375 0 \n",
       "L 0 0 \n",
       "z\n",
       "\" style=\"fill:#ffffff;\"/>\n",
       "  </g>\n",
       "  <g id=\"axes_1\">\n",
       "   <g id=\"patch_2\">\n",
       "    <path d=\"M 52.484375 170.28 \n",
       "L 387.284375 170.28 \n",
       "L 387.284375 7.2 \n",
       "L 52.484375 7.2 \n",
       "z\n",
       "\" style=\"fill:#ffffff;\"/>\n",
       "   </g>\n",
       "   <g id=\"matplotlib.axis_1\">\n",
       "    <g id=\"xtick_1\">\n",
       "     <g id=\"line2d_1\">\n",
       "      <path clip-path=\"url(#p9f165d0ad1)\" d=\"M 122.721051 170.28 \n",
       "L 122.721051 7.2 \n",
       "\" style=\"fill:none;stroke:#cccccc;stroke-linecap:round;stroke-width:0.8;\"/>\n",
       "     </g>\n",
       "     <g id=\"text_1\">\n",
       "      <!-- 20 -->\n",
       "      <g style=\"fill:#262626;\" transform=\"translate(117.160114 184.437813)scale(0.1 -0.1)\">\n",
       "       <defs>\n",
       "        <path d=\"M 50.34375 8.453125 \n",
       "L 50.34375 0 \n",
       "L 3.03125 0 \n",
       "Q 2.9375 3.171875 4.046875 6.109375 \n",
       "Q 5.859375 10.9375 9.828125 15.625 \n",
       "Q 13.8125 20.3125 21.34375 26.46875 \n",
       "Q 33.015625 36.03125 37.109375 41.625 \n",
       "Q 41.21875 47.21875 41.21875 52.203125 \n",
       "Q 41.21875 57.421875 37.46875 61 \n",
       "Q 33.734375 64.59375 27.734375 64.59375 \n",
       "Q 21.390625 64.59375 17.578125 60.78125 \n",
       "Q 13.765625 56.984375 13.71875 50.25 \n",
       "L 4.6875 51.171875 \n",
       "Q 5.609375 61.28125 11.65625 66.578125 \n",
       "Q 17.71875 71.875 27.9375 71.875 \n",
       "Q 38.234375 71.875 44.234375 66.15625 \n",
       "Q 50.25 60.453125 50.25 52 \n",
       "Q 50.25 47.703125 48.484375 43.546875 \n",
       "Q 46.734375 39.40625 42.65625 34.8125 \n",
       "Q 38.578125 30.21875 29.109375 22.21875 \n",
       "Q 21.1875 15.578125 18.9375 13.203125 \n",
       "Q 16.703125 10.84375 15.234375 8.453125 \n",
       "z\n",
       "\" id=\"ArialMT-50\"/>\n",
       "        <path d=\"M 4.15625 35.296875 \n",
       "Q 4.15625 48 6.765625 55.734375 \n",
       "Q 9.375 63.484375 14.515625 67.671875 \n",
       "Q 19.671875 71.875 27.484375 71.875 \n",
       "Q 33.25 71.875 37.59375 69.546875 \n",
       "Q 41.9375 67.234375 44.765625 62.859375 \n",
       "Q 47.609375 58.5 49.21875 52.21875 \n",
       "Q 50.828125 45.953125 50.828125 35.296875 \n",
       "Q 50.828125 22.703125 48.234375 14.96875 \n",
       "Q 45.65625 7.234375 40.5 3 \n",
       "Q 35.359375 -1.21875 27.484375 -1.21875 \n",
       "Q 17.140625 -1.21875 11.234375 6.203125 \n",
       "Q 4.15625 15.140625 4.15625 35.296875 \n",
       "z\n",
       "M 13.1875 35.296875 \n",
       "Q 13.1875 17.671875 17.3125 11.828125 \n",
       "Q 21.4375 6 27.484375 6 \n",
       "Q 33.546875 6 37.671875 11.859375 \n",
       "Q 41.796875 17.71875 41.796875 35.296875 \n",
       "Q 41.796875 52.984375 37.671875 58.78125 \n",
       "Q 33.546875 64.59375 27.390625 64.59375 \n",
       "Q 21.34375 64.59375 17.71875 59.46875 \n",
       "Q 13.1875 52.9375 13.1875 35.296875 \n",
       "z\n",
       "\" id=\"ArialMT-48\"/>\n",
       "       </defs>\n",
       "       <use xlink:href=\"#ArialMT-50\"/>\n",
       "       <use x=\"55.615234\" xlink:href=\"#ArialMT-48\"/>\n",
       "      </g>\n",
       "     </g>\n",
       "    </g>\n",
       "    <g id=\"xtick_2\">\n",
       "     <g id=\"line2d_2\">\n",
       "      <path clip-path=\"url(#p9f165d0ad1)\" d=\"M 196.890759 170.28 \n",
       "L 196.890759 7.2 \n",
       "\" style=\"fill:none;stroke:#cccccc;stroke-linecap:round;stroke-width:0.8;\"/>\n",
       "     </g>\n",
       "     <g id=\"text_2\">\n",
       "      <!-- 40 -->\n",
       "      <g style=\"fill:#262626;\" transform=\"translate(191.329822 184.437813)scale(0.1 -0.1)\">\n",
       "       <defs>\n",
       "        <path d=\"M 32.328125 0 \n",
       "L 32.328125 17.140625 \n",
       "L 1.265625 17.140625 \n",
       "L 1.265625 25.203125 \n",
       "L 33.9375 71.578125 \n",
       "L 41.109375 71.578125 \n",
       "L 41.109375 25.203125 \n",
       "L 50.78125 25.203125 \n",
       "L 50.78125 17.140625 \n",
       "L 41.109375 17.140625 \n",
       "L 41.109375 0 \n",
       "z\n",
       "M 32.328125 25.203125 \n",
       "L 32.328125 57.46875 \n",
       "L 9.90625 25.203125 \n",
       "z\n",
       "\" id=\"ArialMT-52\"/>\n",
       "       </defs>\n",
       "       <use xlink:href=\"#ArialMT-52\"/>\n",
       "       <use x=\"55.615234\" xlink:href=\"#ArialMT-48\"/>\n",
       "      </g>\n",
       "     </g>\n",
       "    </g>\n",
       "    <g id=\"xtick_3\">\n",
       "     <g id=\"line2d_3\">\n",
       "      <path clip-path=\"url(#p9f165d0ad1)\" d=\"M 271.060467 170.28 \n",
       "L 271.060467 7.2 \n",
       "\" style=\"fill:none;stroke:#cccccc;stroke-linecap:round;stroke-width:0.8;\"/>\n",
       "     </g>\n",
       "     <g id=\"text_3\">\n",
       "      <!-- 60 -->\n",
       "      <g style=\"fill:#262626;\" transform=\"translate(265.499529 184.437813)scale(0.1 -0.1)\">\n",
       "       <defs>\n",
       "        <path d=\"M 49.75 54.046875 \n",
       "L 41.015625 53.375 \n",
       "Q 39.84375 58.546875 37.703125 60.890625 \n",
       "Q 34.125 64.65625 28.90625 64.65625 \n",
       "Q 24.703125 64.65625 21.53125 62.3125 \n",
       "Q 17.390625 59.28125 14.984375 53.46875 \n",
       "Q 12.59375 47.65625 12.5 36.921875 \n",
       "Q 15.671875 41.75 20.265625 44.09375 \n",
       "Q 24.859375 46.4375 29.890625 46.4375 \n",
       "Q 38.671875 46.4375 44.84375 39.96875 \n",
       "Q 51.03125 33.5 51.03125 23.25 \n",
       "Q 51.03125 16.5 48.125 10.71875 \n",
       "Q 45.21875 4.9375 40.140625 1.859375 \n",
       "Q 35.0625 -1.21875 28.609375 -1.21875 \n",
       "Q 17.625 -1.21875 10.6875 6.859375 \n",
       "Q 3.765625 14.9375 3.765625 33.5 \n",
       "Q 3.765625 54.25 11.421875 63.671875 \n",
       "Q 18.109375 71.875 29.4375 71.875 \n",
       "Q 37.890625 71.875 43.28125 67.140625 \n",
       "Q 48.6875 62.40625 49.75 54.046875 \n",
       "z\n",
       "M 13.875 23.1875 \n",
       "Q 13.875 18.65625 15.796875 14.5 \n",
       "Q 17.71875 10.359375 21.1875 8.171875 \n",
       "Q 24.65625 6 28.46875 6 \n",
       "Q 34.03125 6 38.03125 10.484375 \n",
       "Q 42.046875 14.984375 42.046875 22.703125 \n",
       "Q 42.046875 30.125 38.078125 34.390625 \n",
       "Q 34.125 38.671875 28.125 38.671875 \n",
       "Q 22.171875 38.671875 18.015625 34.390625 \n",
       "Q 13.875 30.125 13.875 23.1875 \n",
       "z\n",
       "\" id=\"ArialMT-54\"/>\n",
       "       </defs>\n",
       "       <use xlink:href=\"#ArialMT-54\"/>\n",
       "       <use x=\"55.615234\" xlink:href=\"#ArialMT-48\"/>\n",
       "      </g>\n",
       "     </g>\n",
       "    </g>\n",
       "    <g id=\"xtick_4\">\n",
       "     <g id=\"line2d_4\">\n",
       "      <path clip-path=\"url(#p9f165d0ad1)\" d=\"M 345.230175 170.28 \n",
       "L 345.230175 7.2 \n",
       "\" style=\"fill:none;stroke:#cccccc;stroke-linecap:round;stroke-width:0.8;\"/>\n",
       "     </g>\n",
       "     <g id=\"text_4\">\n",
       "      <!-- 80 -->\n",
       "      <g style=\"fill:#262626;\" transform=\"translate(339.669237 184.437813)scale(0.1 -0.1)\">\n",
       "       <defs>\n",
       "        <path d=\"M 17.671875 38.8125 \n",
       "Q 12.203125 40.828125 9.5625 44.53125 \n",
       "Q 6.9375 48.25 6.9375 53.421875 \n",
       "Q 6.9375 61.234375 12.546875 66.546875 \n",
       "Q 18.171875 71.875 27.484375 71.875 \n",
       "Q 36.859375 71.875 42.578125 66.421875 \n",
       "Q 48.296875 60.984375 48.296875 53.171875 \n",
       "Q 48.296875 48.1875 45.671875 44.5 \n",
       "Q 43.0625 40.828125 37.75 38.8125 \n",
       "Q 44.34375 36.671875 47.78125 31.875 \n",
       "Q 51.21875 27.09375 51.21875 20.453125 \n",
       "Q 51.21875 11.28125 44.71875 5.03125 \n",
       "Q 38.234375 -1.21875 27.640625 -1.21875 \n",
       "Q 17.046875 -1.21875 10.546875 5.046875 \n",
       "Q 4.046875 11.328125 4.046875 20.703125 \n",
       "Q 4.046875 27.6875 7.59375 32.390625 \n",
       "Q 11.140625 37.109375 17.671875 38.8125 \n",
       "z\n",
       "M 15.921875 53.71875 \n",
       "Q 15.921875 48.640625 19.1875 45.40625 \n",
       "Q 22.46875 42.1875 27.6875 42.1875 \n",
       "Q 32.765625 42.1875 36.015625 45.375 \n",
       "Q 39.265625 48.578125 39.265625 53.21875 \n",
       "Q 39.265625 58.0625 35.90625 61.359375 \n",
       "Q 32.5625 64.65625 27.59375 64.65625 \n",
       "Q 22.5625 64.65625 19.234375 61.421875 \n",
       "Q 15.921875 58.203125 15.921875 53.71875 \n",
       "z\n",
       "M 13.09375 20.65625 \n",
       "Q 13.09375 16.890625 14.875 13.375 \n",
       "Q 16.65625 9.859375 20.171875 7.921875 \n",
       "Q 23.6875 6 27.734375 6 \n",
       "Q 34.03125 6 38.125 10.046875 \n",
       "Q 42.234375 14.109375 42.234375 20.359375 \n",
       "Q 42.234375 26.703125 38.015625 30.859375 \n",
       "Q 33.796875 35.015625 27.4375 35.015625 \n",
       "Q 21.234375 35.015625 17.15625 30.90625 \n",
       "Q 13.09375 26.8125 13.09375 20.65625 \n",
       "z\n",
       "\" id=\"ArialMT-56\"/>\n",
       "       </defs>\n",
       "       <use xlink:href=\"#ArialMT-56\"/>\n",
       "       <use x=\"55.615234\" xlink:href=\"#ArialMT-48\"/>\n",
       "      </g>\n",
       "     </g>\n",
       "    </g>\n",
       "    <g id=\"text_5\">\n",
       "     <!-- height -->\n",
       "     <g style=\"fill:#262626;\" transform=\"translate(206.2625 197.583125)scale(0.1 -0.1)\">\n",
       "      <defs>\n",
       "       <path d=\"M 6.59375 0 \n",
       "L 6.59375 71.578125 \n",
       "L 15.375 71.578125 \n",
       "L 15.375 45.90625 \n",
       "Q 21.53125 53.03125 30.90625 53.03125 \n",
       "Q 36.671875 53.03125 40.921875 50.75 \n",
       "Q 45.171875 48.484375 47 44.484375 \n",
       "Q 48.828125 40.484375 48.828125 32.859375 \n",
       "L 48.828125 0 \n",
       "L 40.046875 0 \n",
       "L 40.046875 32.859375 \n",
       "Q 40.046875 39.453125 37.1875 42.453125 \n",
       "Q 34.328125 45.453125 29.109375 45.453125 \n",
       "Q 25.203125 45.453125 21.75 43.421875 \n",
       "Q 18.3125 41.40625 16.84375 37.9375 \n",
       "Q 15.375 34.46875 15.375 28.375 \n",
       "L 15.375 0 \n",
       "z\n",
       "\" id=\"ArialMT-104\"/>\n",
       "       <path d=\"M 42.09375 16.703125 \n",
       "L 51.171875 15.578125 \n",
       "Q 49.03125 7.625 43.21875 3.21875 \n",
       "Q 37.40625 -1.171875 28.375 -1.171875 \n",
       "Q 17 -1.171875 10.328125 5.828125 \n",
       "Q 3.65625 12.84375 3.65625 25.484375 \n",
       "Q 3.65625 38.578125 10.390625 45.796875 \n",
       "Q 17.140625 53.03125 27.875 53.03125 \n",
       "Q 38.28125 53.03125 44.875 45.953125 \n",
       "Q 51.46875 38.875 51.46875 26.03125 \n",
       "Q 51.46875 25.25 51.421875 23.6875 \n",
       "L 12.75 23.6875 \n",
       "Q 13.234375 15.140625 17.578125 10.59375 \n",
       "Q 21.921875 6.0625 28.421875 6.0625 \n",
       "Q 33.25 6.0625 36.671875 8.59375 \n",
       "Q 40.09375 11.140625 42.09375 16.703125 \n",
       "z\n",
       "M 13.234375 30.90625 \n",
       "L 42.1875 30.90625 \n",
       "Q 41.609375 37.453125 38.875 40.71875 \n",
       "Q 34.671875 45.796875 27.984375 45.796875 \n",
       "Q 21.921875 45.796875 17.796875 41.75 \n",
       "Q 13.671875 37.703125 13.234375 30.90625 \n",
       "z\n",
       "\" id=\"ArialMT-101\"/>\n",
       "       <path d=\"M 6.640625 61.46875 \n",
       "L 6.640625 71.578125 \n",
       "L 15.4375 71.578125 \n",
       "L 15.4375 61.46875 \n",
       "z\n",
       "M 6.640625 0 \n",
       "L 6.640625 51.859375 \n",
       "L 15.4375 51.859375 \n",
       "L 15.4375 0 \n",
       "z\n",
       "\" id=\"ArialMT-105\"/>\n",
       "       <path d=\"M 4.984375 -4.296875 \n",
       "L 13.53125 -5.5625 \n",
       "Q 14.0625 -9.515625 16.5 -11.328125 \n",
       "Q 19.78125 -13.765625 25.4375 -13.765625 \n",
       "Q 31.546875 -13.765625 34.859375 -11.328125 \n",
       "Q 38.1875 -8.890625 39.359375 -4.5 \n",
       "Q 40.046875 -1.8125 39.984375 6.78125 \n",
       "Q 34.234375 0 25.640625 0 \n",
       "Q 14.9375 0 9.078125 7.71875 \n",
       "Q 3.21875 15.4375 3.21875 26.21875 \n",
       "Q 3.21875 33.640625 5.90625 39.90625 \n",
       "Q 8.59375 46.1875 13.6875 49.609375 \n",
       "Q 18.796875 53.03125 25.6875 53.03125 \n",
       "Q 34.859375 53.03125 40.828125 45.609375 \n",
       "L 40.828125 51.859375 \n",
       "L 48.921875 51.859375 \n",
       "L 48.921875 7.03125 \n",
       "Q 48.921875 -5.078125 46.453125 -10.125 \n",
       "Q 44 -15.1875 38.640625 -18.109375 \n",
       "Q 33.296875 -21.046875 25.484375 -21.046875 \n",
       "Q 16.21875 -21.046875 10.5 -16.875 \n",
       "Q 4.78125 -12.703125 4.984375 -4.296875 \n",
       "z\n",
       "M 12.25 26.859375 \n",
       "Q 12.25 16.65625 16.296875 11.96875 \n",
       "Q 20.359375 7.28125 26.46875 7.28125 \n",
       "Q 32.515625 7.28125 36.609375 11.9375 \n",
       "Q 40.71875 16.609375 40.71875 26.5625 \n",
       "Q 40.71875 36.078125 36.5 40.90625 \n",
       "Q 32.28125 45.75 26.3125 45.75 \n",
       "Q 20.453125 45.75 16.34375 40.984375 \n",
       "Q 12.25 36.234375 12.25 26.859375 \n",
       "z\n",
       "\" id=\"ArialMT-103\"/>\n",
       "       <path d=\"M 25.78125 7.859375 \n",
       "L 27.046875 0.09375 \n",
       "Q 23.34375 -0.6875 20.40625 -0.6875 \n",
       "Q 15.625 -0.6875 12.984375 0.828125 \n",
       "Q 10.359375 2.34375 9.28125 4.8125 \n",
       "Q 8.203125 7.28125 8.203125 15.1875 \n",
       "L 8.203125 45.015625 \n",
       "L 1.765625 45.015625 \n",
       "L 1.765625 51.859375 \n",
       "L 8.203125 51.859375 \n",
       "L 8.203125 64.703125 \n",
       "L 16.9375 69.96875 \n",
       "L 16.9375 51.859375 \n",
       "L 25.78125 51.859375 \n",
       "L 25.78125 45.015625 \n",
       "L 16.9375 45.015625 \n",
       "L 16.9375 14.703125 \n",
       "Q 16.9375 10.9375 17.40625 9.859375 \n",
       "Q 17.875 8.796875 18.921875 8.15625 \n",
       "Q 19.96875 7.515625 21.921875 7.515625 \n",
       "Q 23.390625 7.515625 25.78125 7.859375 \n",
       "z\n",
       "\" id=\"ArialMT-116\"/>\n",
       "      </defs>\n",
       "      <use xlink:href=\"#ArialMT-104\"/>\n",
       "      <use x=\"55.615234\" xlink:href=\"#ArialMT-101\"/>\n",
       "      <use x=\"111.230469\" xlink:href=\"#ArialMT-105\"/>\n",
       "      <use x=\"133.447266\" xlink:href=\"#ArialMT-103\"/>\n",
       "      <use x=\"189.0625\" xlink:href=\"#ArialMT-104\"/>\n",
       "      <use x=\"244.677734\" xlink:href=\"#ArialMT-116\"/>\n",
       "     </g>\n",
       "    </g>\n",
       "   </g>\n",
       "   <g id=\"matplotlib.axis_2\">\n",
       "    <g id=\"ytick_1\">\n",
       "     <g id=\"line2d_5\">\n",
       "      <path clip-path=\"url(#p9f165d0ad1)\" d=\"M 52.484375 170.28 \n",
       "L 387.284375 170.28 \n",
       "\" style=\"fill:none;stroke:#cccccc;stroke-linecap:round;stroke-width:0.8;\"/>\n",
       "     </g>\n",
       "     <g id=\"text_6\">\n",
       "      <!-- 0.000 -->\n",
       "      <g style=\"fill:#262626;\" transform=\"translate(20.4625 173.858906)scale(0.1 -0.1)\">\n",
       "       <defs>\n",
       "        <path d=\"M 9.078125 0 \n",
       "L 9.078125 10.015625 \n",
       "L 19.09375 10.015625 \n",
       "L 19.09375 0 \n",
       "z\n",
       "\" id=\"ArialMT-46\"/>\n",
       "       </defs>\n",
       "       <use xlink:href=\"#ArialMT-48\"/>\n",
       "       <use x=\"55.615234\" xlink:href=\"#ArialMT-46\"/>\n",
       "       <use x=\"83.398438\" xlink:href=\"#ArialMT-48\"/>\n",
       "       <use x=\"139.013672\" xlink:href=\"#ArialMT-48\"/>\n",
       "       <use x=\"194.628906\" xlink:href=\"#ArialMT-48\"/>\n",
       "      </g>\n",
       "     </g>\n",
       "    </g>\n",
       "    <g id=\"ytick_2\">\n",
       "     <g id=\"line2d_6\">\n",
       "      <path clip-path=\"url(#p9f165d0ad1)\" d=\"M 52.484375 146.530989 \n",
       "L 387.284375 146.530989 \n",
       "\" style=\"fill:none;stroke:#cccccc;stroke-linecap:round;stroke-width:0.8;\"/>\n",
       "     </g>\n",
       "     <g id=\"text_7\">\n",
       "      <!-- 0.005 -->\n",
       "      <g style=\"fill:#262626;\" transform=\"translate(20.4625 150.109895)scale(0.1 -0.1)\">\n",
       "       <defs>\n",
       "        <path d=\"M 4.15625 18.75 \n",
       "L 13.375 19.53125 \n",
       "Q 14.40625 12.796875 18.140625 9.390625 \n",
       "Q 21.875 6 27.15625 6 \n",
       "Q 33.5 6 37.890625 10.78125 \n",
       "Q 42.28125 15.578125 42.28125 23.484375 \n",
       "Q 42.28125 31 38.0625 35.34375 \n",
       "Q 33.84375 39.703125 27 39.703125 \n",
       "Q 22.75 39.703125 19.328125 37.765625 \n",
       "Q 15.921875 35.84375 13.96875 32.765625 \n",
       "L 5.71875 33.84375 \n",
       "L 12.640625 70.609375 \n",
       "L 48.25 70.609375 \n",
       "L 48.25 62.203125 \n",
       "L 19.671875 62.203125 \n",
       "L 15.828125 42.96875 \n",
       "Q 22.265625 47.46875 29.34375 47.46875 \n",
       "Q 38.71875 47.46875 45.15625 40.96875 \n",
       "Q 51.609375 34.46875 51.609375 24.265625 \n",
       "Q 51.609375 14.546875 45.953125 7.46875 \n",
       "Q 39.0625 -1.21875 27.15625 -1.21875 \n",
       "Q 17.390625 -1.21875 11.203125 4.25 \n",
       "Q 5.03125 9.71875 4.15625 18.75 \n",
       "z\n",
       "\" id=\"ArialMT-53\"/>\n",
       "       </defs>\n",
       "       <use xlink:href=\"#ArialMT-48\"/>\n",
       "       <use x=\"55.615234\" xlink:href=\"#ArialMT-46\"/>\n",
       "       <use x=\"83.398438\" xlink:href=\"#ArialMT-48\"/>\n",
       "       <use x=\"139.013672\" xlink:href=\"#ArialMT-48\"/>\n",
       "       <use x=\"194.628906\" xlink:href=\"#ArialMT-53\"/>\n",
       "      </g>\n",
       "     </g>\n",
       "    </g>\n",
       "    <g id=\"ytick_3\">\n",
       "     <g id=\"line2d_7\">\n",
       "      <path clip-path=\"url(#p9f165d0ad1)\" d=\"M 52.484375 122.781978 \n",
       "L 387.284375 122.781978 \n",
       "\" style=\"fill:none;stroke:#cccccc;stroke-linecap:round;stroke-width:0.8;\"/>\n",
       "     </g>\n",
       "     <g id=\"text_8\">\n",
       "      <!-- 0.010 -->\n",
       "      <g style=\"fill:#262626;\" transform=\"translate(20.4625 126.360884)scale(0.1 -0.1)\">\n",
       "       <defs>\n",
       "        <path d=\"M 37.25 0 \n",
       "L 28.46875 0 \n",
       "L 28.46875 56 \n",
       "Q 25.296875 52.984375 20.140625 49.953125 \n",
       "Q 14.984375 46.921875 10.890625 45.40625 \n",
       "L 10.890625 53.90625 \n",
       "Q 18.265625 57.375 23.78125 62.296875 \n",
       "Q 29.296875 67.234375 31.59375 71.875 \n",
       "L 37.25 71.875 \n",
       "z\n",
       "\" id=\"ArialMT-49\"/>\n",
       "       </defs>\n",
       "       <use xlink:href=\"#ArialMT-48\"/>\n",
       "       <use x=\"55.615234\" xlink:href=\"#ArialMT-46\"/>\n",
       "       <use x=\"83.398438\" xlink:href=\"#ArialMT-48\"/>\n",
       "       <use x=\"139.013672\" xlink:href=\"#ArialMT-49\"/>\n",
       "       <use x=\"194.628906\" xlink:href=\"#ArialMT-48\"/>\n",
       "      </g>\n",
       "     </g>\n",
       "    </g>\n",
       "    <g id=\"ytick_4\">\n",
       "     <g id=\"line2d_8\">\n",
       "      <path clip-path=\"url(#p9f165d0ad1)\" d=\"M 52.484375 99.032967 \n",
       "L 387.284375 99.032967 \n",
       "\" style=\"fill:none;stroke:#cccccc;stroke-linecap:round;stroke-width:0.8;\"/>\n",
       "     </g>\n",
       "     <g id=\"text_9\">\n",
       "      <!-- 0.015 -->\n",
       "      <g style=\"fill:#262626;\" transform=\"translate(20.4625 102.611874)scale(0.1 -0.1)\">\n",
       "       <use xlink:href=\"#ArialMT-48\"/>\n",
       "       <use x=\"55.615234\" xlink:href=\"#ArialMT-46\"/>\n",
       "       <use x=\"83.398438\" xlink:href=\"#ArialMT-48\"/>\n",
       "       <use x=\"139.013672\" xlink:href=\"#ArialMT-49\"/>\n",
       "       <use x=\"194.628906\" xlink:href=\"#ArialMT-53\"/>\n",
       "      </g>\n",
       "     </g>\n",
       "    </g>\n",
       "    <g id=\"ytick_5\">\n",
       "     <g id=\"line2d_9\">\n",
       "      <path clip-path=\"url(#p9f165d0ad1)\" d=\"M 52.484375 75.283956 \n",
       "L 387.284375 75.283956 \n",
       "\" style=\"fill:none;stroke:#cccccc;stroke-linecap:round;stroke-width:0.8;\"/>\n",
       "     </g>\n",
       "     <g id=\"text_10\">\n",
       "      <!-- 0.020 -->\n",
       "      <g style=\"fill:#262626;\" transform=\"translate(20.4625 78.862863)scale(0.1 -0.1)\">\n",
       "       <use xlink:href=\"#ArialMT-48\"/>\n",
       "       <use x=\"55.615234\" xlink:href=\"#ArialMT-46\"/>\n",
       "       <use x=\"83.398438\" xlink:href=\"#ArialMT-48\"/>\n",
       "       <use x=\"139.013672\" xlink:href=\"#ArialMT-50\"/>\n",
       "       <use x=\"194.628906\" xlink:href=\"#ArialMT-48\"/>\n",
       "      </g>\n",
       "     </g>\n",
       "    </g>\n",
       "    <g id=\"ytick_6\">\n",
       "     <g id=\"line2d_10\">\n",
       "      <path clip-path=\"url(#p9f165d0ad1)\" d=\"M 52.484375 51.534945 \n",
       "L 387.284375 51.534945 \n",
       "\" style=\"fill:none;stroke:#cccccc;stroke-linecap:round;stroke-width:0.8;\"/>\n",
       "     </g>\n",
       "     <g id=\"text_11\">\n",
       "      <!-- 0.025 -->\n",
       "      <g style=\"fill:#262626;\" transform=\"translate(20.4625 55.113852)scale(0.1 -0.1)\">\n",
       "       <use xlink:href=\"#ArialMT-48\"/>\n",
       "       <use x=\"55.615234\" xlink:href=\"#ArialMT-46\"/>\n",
       "       <use x=\"83.398438\" xlink:href=\"#ArialMT-48\"/>\n",
       "       <use x=\"139.013672\" xlink:href=\"#ArialMT-50\"/>\n",
       "       <use x=\"194.628906\" xlink:href=\"#ArialMT-53\"/>\n",
       "      </g>\n",
       "     </g>\n",
       "    </g>\n",
       "    <g id=\"ytick_7\">\n",
       "     <g id=\"line2d_11\">\n",
       "      <path clip-path=\"url(#p9f165d0ad1)\" d=\"M 52.484375 27.785935 \n",
       "L 387.284375 27.785935 \n",
       "\" style=\"fill:none;stroke:#cccccc;stroke-linecap:round;stroke-width:0.8;\"/>\n",
       "     </g>\n",
       "     <g id=\"text_12\">\n",
       "      <!-- 0.030 -->\n",
       "      <g style=\"fill:#262626;\" transform=\"translate(20.4625 31.364841)scale(0.1 -0.1)\">\n",
       "       <defs>\n",
       "        <path d=\"M 4.203125 18.890625 \n",
       "L 12.984375 20.0625 \n",
       "Q 14.5 12.59375 18.140625 9.296875 \n",
       "Q 21.78125 6 27 6 \n",
       "Q 33.203125 6 37.46875 10.296875 \n",
       "Q 41.75 14.59375 41.75 20.953125 \n",
       "Q 41.75 27 37.796875 30.921875 \n",
       "Q 33.84375 34.859375 27.734375 34.859375 \n",
       "Q 25.25 34.859375 21.53125 33.890625 \n",
       "L 22.515625 41.609375 \n",
       "Q 23.390625 41.5 23.921875 41.5 \n",
       "Q 29.546875 41.5 34.03125 44.421875 \n",
       "Q 38.53125 47.359375 38.53125 53.46875 \n",
       "Q 38.53125 58.296875 35.25 61.46875 \n",
       "Q 31.984375 64.65625 26.8125 64.65625 \n",
       "Q 21.6875 64.65625 18.265625 61.421875 \n",
       "Q 14.84375 58.203125 13.875 51.765625 \n",
       "L 5.078125 53.328125 \n",
       "Q 6.6875 62.15625 12.390625 67.015625 \n",
       "Q 18.109375 71.875 26.609375 71.875 \n",
       "Q 32.46875 71.875 37.390625 69.359375 \n",
       "Q 42.328125 66.84375 44.9375 62.5 \n",
       "Q 47.5625 58.15625 47.5625 53.265625 \n",
       "Q 47.5625 48.640625 45.0625 44.828125 \n",
       "Q 42.578125 41.015625 37.703125 38.765625 \n",
       "Q 44.046875 37.3125 47.5625 32.6875 \n",
       "Q 51.078125 28.078125 51.078125 21.140625 \n",
       "Q 51.078125 11.765625 44.234375 5.25 \n",
       "Q 37.40625 -1.265625 26.953125 -1.265625 \n",
       "Q 17.53125 -1.265625 11.296875 4.34375 \n",
       "Q 5.078125 9.96875 4.203125 18.890625 \n",
       "z\n",
       "\" id=\"ArialMT-51\"/>\n",
       "       </defs>\n",
       "       <use xlink:href=\"#ArialMT-48\"/>\n",
       "       <use x=\"55.615234\" xlink:href=\"#ArialMT-46\"/>\n",
       "       <use x=\"83.398438\" xlink:href=\"#ArialMT-48\"/>\n",
       "       <use x=\"139.013672\" xlink:href=\"#ArialMT-51\"/>\n",
       "       <use x=\"194.628906\" xlink:href=\"#ArialMT-48\"/>\n",
       "      </g>\n",
       "     </g>\n",
       "    </g>\n",
       "    <g id=\"text_13\">\n",
       "     <!-- Density -->\n",
       "     <g style=\"fill:#262626;\" transform=\"translate(14.357813 105.411875)rotate(-90)scale(0.1 -0.1)\">\n",
       "      <defs>\n",
       "       <path d=\"M 7.71875 0 \n",
       "L 7.71875 71.578125 \n",
       "L 32.375 71.578125 \n",
       "Q 40.71875 71.578125 45.125 70.5625 \n",
       "Q 51.265625 69.140625 55.609375 65.4375 \n",
       "Q 61.28125 60.640625 64.078125 53.1875 \n",
       "Q 66.890625 45.75 66.890625 36.1875 \n",
       "Q 66.890625 28.03125 64.984375 21.734375 \n",
       "Q 63.09375 15.4375 60.109375 11.296875 \n",
       "Q 57.125 7.171875 53.578125 4.796875 \n",
       "Q 50.046875 2.4375 45.046875 1.21875 \n",
       "Q 40.046875 0 33.546875 0 \n",
       "z\n",
       "M 17.1875 8.453125 \n",
       "L 32.46875 8.453125 \n",
       "Q 39.546875 8.453125 43.578125 9.765625 \n",
       "Q 47.609375 11.078125 50 13.484375 \n",
       "Q 53.375 16.84375 55.25 22.53125 \n",
       "Q 57.125 28.21875 57.125 36.328125 \n",
       "Q 57.125 47.5625 53.4375 53.59375 \n",
       "Q 49.75 59.625 44.484375 61.671875 \n",
       "Q 40.671875 63.140625 32.234375 63.140625 \n",
       "L 17.1875 63.140625 \n",
       "z\n",
       "\" id=\"ArialMT-68\"/>\n",
       "       <path d=\"M 6.59375 0 \n",
       "L 6.59375 51.859375 \n",
       "L 14.5 51.859375 \n",
       "L 14.5 44.484375 \n",
       "Q 20.21875 53.03125 31 53.03125 \n",
       "Q 35.6875 53.03125 39.625 51.34375 \n",
       "Q 43.5625 49.65625 45.515625 46.921875 \n",
       "Q 47.46875 44.1875 48.25 40.4375 \n",
       "Q 48.734375 37.984375 48.734375 31.890625 \n",
       "L 48.734375 0 \n",
       "L 39.9375 0 \n",
       "L 39.9375 31.546875 \n",
       "Q 39.9375 36.921875 38.90625 39.578125 \n",
       "Q 37.890625 42.234375 35.28125 43.8125 \n",
       "Q 32.671875 45.40625 29.15625 45.40625 \n",
       "Q 23.53125 45.40625 19.453125 41.84375 \n",
       "Q 15.375 38.28125 15.375 28.328125 \n",
       "L 15.375 0 \n",
       "z\n",
       "\" id=\"ArialMT-110\"/>\n",
       "       <path d=\"M 3.078125 15.484375 \n",
       "L 11.765625 16.84375 \n",
       "Q 12.5 11.625 15.84375 8.84375 \n",
       "Q 19.1875 6.0625 25.203125 6.0625 \n",
       "Q 31.25 6.0625 34.171875 8.515625 \n",
       "Q 37.109375 10.984375 37.109375 14.3125 \n",
       "Q 37.109375 17.28125 34.515625 19 \n",
       "Q 32.71875 20.171875 25.53125 21.96875 \n",
       "Q 15.875 24.421875 12.140625 26.203125 \n",
       "Q 8.40625 27.984375 6.46875 31.125 \n",
       "Q 4.546875 34.28125 4.546875 38.09375 \n",
       "Q 4.546875 41.546875 6.125 44.5 \n",
       "Q 7.71875 47.46875 10.453125 49.421875 \n",
       "Q 12.5 50.921875 16.03125 51.96875 \n",
       "Q 19.578125 53.03125 23.640625 53.03125 \n",
       "Q 29.734375 53.03125 34.34375 51.265625 \n",
       "Q 38.96875 49.515625 41.15625 46.5 \n",
       "Q 43.359375 43.5 44.1875 38.484375 \n",
       "L 35.59375 37.3125 \n",
       "Q 35.015625 41.3125 32.203125 43.546875 \n",
       "Q 29.390625 45.796875 24.265625 45.796875 \n",
       "Q 18.21875 45.796875 15.625 43.796875 \n",
       "Q 13.03125 41.796875 13.03125 39.109375 \n",
       "Q 13.03125 37.40625 14.109375 36.03125 \n",
       "Q 15.1875 34.625 17.484375 33.6875 \n",
       "Q 18.796875 33.203125 25.25 31.453125 \n",
       "Q 34.578125 28.953125 38.25 27.359375 \n",
       "Q 41.9375 25.78125 44.03125 22.75 \n",
       "Q 46.140625 19.734375 46.140625 15.234375 \n",
       "Q 46.140625 10.84375 43.578125 6.953125 \n",
       "Q 41.015625 3.078125 36.171875 0.953125 \n",
       "Q 31.34375 -1.171875 25.25 -1.171875 \n",
       "Q 15.140625 -1.171875 9.84375 3.03125 \n",
       "Q 4.546875 7.234375 3.078125 15.484375 \n",
       "z\n",
       "\" id=\"ArialMT-115\"/>\n",
       "       <path d=\"M 6.203125 -19.96875 \n",
       "L 5.21875 -11.71875 \n",
       "Q 8.109375 -12.5 10.25 -12.5 \n",
       "Q 13.1875 -12.5 14.9375 -11.515625 \n",
       "Q 16.703125 -10.546875 17.828125 -8.796875 \n",
       "Q 18.65625 -7.46875 20.515625 -2.25 \n",
       "Q 20.75 -1.515625 21.296875 -0.09375 \n",
       "L 1.609375 51.859375 \n",
       "L 11.078125 51.859375 \n",
       "L 21.875 21.828125 \n",
       "Q 23.96875 16.109375 25.640625 9.8125 \n",
       "Q 27.15625 15.875 29.25 21.625 \n",
       "L 40.328125 51.859375 \n",
       "L 49.125 51.859375 \n",
       "L 29.390625 -0.875 \n",
       "Q 26.21875 -9.421875 24.46875 -12.640625 \n",
       "Q 22.125 -17 19.09375 -19.015625 \n",
       "Q 16.0625 -21.046875 11.859375 -21.046875 \n",
       "Q 9.328125 -21.046875 6.203125 -19.96875 \n",
       "z\n",
       "\" id=\"ArialMT-121\"/>\n",
       "      </defs>\n",
       "      <use xlink:href=\"#ArialMT-68\"/>\n",
       "      <use x=\"72.216797\" xlink:href=\"#ArialMT-101\"/>\n",
       "      <use x=\"127.832031\" xlink:href=\"#ArialMT-110\"/>\n",
       "      <use x=\"183.447266\" xlink:href=\"#ArialMT-115\"/>\n",
       "      <use x=\"233.447266\" xlink:href=\"#ArialMT-105\"/>\n",
       "      <use x=\"255.664062\" xlink:href=\"#ArialMT-116\"/>\n",
       "      <use x=\"283.447266\" xlink:href=\"#ArialMT-121\"/>\n",
       "     </g>\n",
       "    </g>\n",
       "   </g>\n",
       "   <g id=\"line2d_12\">\n",
       "    <path clip-path=\"url(#p9f165d0ad1)\" d=\"M 247.932934 170.055213 \n",
       "L 249.80429 169.783709 \n",
       "L 251.05186 169.463693 \n",
       "L 252.299431 168.969524 \n",
       "L 253.547001 168.226578 \n",
       "L 254.794571 167.139336 \n",
       "L 256.042142 165.590936 \n",
       "L 257.289712 163.445485 \n",
       "L 258.537283 160.554053 \n",
       "L 259.784853 156.764952 \n",
       "L 261.032424 151.938299 \n",
       "L 262.279994 145.963986 \n",
       "L 263.527565 138.781162 \n",
       "L 264.775135 130.396449 \n",
       "L 266.646491 115.781295 \n",
       "L 269.141632 93.61591 \n",
       "L 272.884343 59.91748 \n",
       "L 274.755699 45.368717 \n",
       "L 276.003269 37.10687 \n",
       "L 277.250839 30.14445 \n",
       "L 278.49841 24.524071 \n",
       "L 279.74598 20.233714 \n",
       "L 280.369766 18.57523 \n",
       "L 280.993551 17.233781 \n",
       "L 281.617336 16.204535 \n",
       "L 282.241121 15.483965 \n",
       "L 282.864906 15.070223 \n",
       "L 283.488692 14.963301 \n",
       "L 284.112477 15.164965 \n",
       "L 284.736262 15.678474 \n",
       "L 285.360047 16.508097 \n",
       "L 285.983833 17.658449 \n",
       "L 286.607618 19.133716 \n",
       "L 287.855188 23.068336 \n",
       "L 289.102759 28.303567 \n",
       "L 290.350329 34.770428 \n",
       "L 291.5979 42.321515 \n",
       "L 293.469255 55.153974 \n",
       "L 297.835752 86.144052 \n",
       "L 299.083322 93.662566 \n",
       "L 300.330893 100.085796 \n",
       "L 301.578463 105.291367 \n",
       "L 302.826034 109.270035 \n",
       "L 304.073604 112.121016 \n",
       "L 305.321174 114.035309 \n",
       "L 306.568745 115.26954 \n",
       "L 307.816315 116.11387 \n",
       "L 309.687671 117.275118 \n",
       "L 310.935241 118.334898 \n",
       "L 312.182812 119.824468 \n",
       "L 313.430382 121.827983 \n",
       "L 314.677953 124.348392 \n",
       "L 316.549308 128.929843 \n",
       "L 322.163375 143.796159 \n",
       "L 323.410946 146.442776 \n",
       "L 324.658516 148.701021 \n",
       "L 325.906087 150.586154 \n",
       "L 327.153657 152.148432 \n",
       "L 329.025013 154.045308 \n",
       "L 331.520154 156.129352 \n",
       "L 336.510436 159.907272 \n",
       "L 338.381791 161.119404 \n",
       "L 340.253147 162.081919 \n",
       "L 342.124503 162.755298 \n",
       "L 343.995858 163.176302 \n",
       "L 350.857496 164.382916 \n",
       "L 353.352637 165.277602 \n",
       "L 357.095348 166.975916 \n",
       "L 360.214274 168.306361 \n",
       "L 362.709415 169.115447 \n",
       "L 365.204556 169.660598 \n",
       "L 367.699697 169.983187 \n",
       "L 371.442408 170.199073 \n",
       "L 372.066193 170.216308 \n",
       "L 372.066193 170.216308 \n",
       "\" style=\"fill:none;stroke:#2ca02c;stroke-linecap:round;stroke-width:1.5;\"/>\n",
       "   </g>\n",
       "   <g id=\"line2d_13\">\n",
       "    <path clip-path=\"url(#p9f165d0ad1)\" d=\"M 67.702557 170.229313 \n",
       "L 73.138595 170.046819 \n",
       "L 77.02148 169.708029 \n",
       "L 80.127788 169.235585 \n",
       "L 83.234096 168.55928 \n",
       "L 88.670135 167.06094 \n",
       "L 91.776442 166.282173 \n",
       "L 94.106173 165.882453 \n",
       "L 96.435904 165.711419 \n",
       "L 98.765635 165.792124 \n",
       "L 101.095366 166.098609 \n",
       "L 108.861135 167.471993 \n",
       "L 110.414289 167.465371 \n",
       "L 111.967443 167.223956 \n",
       "L 113.520597 166.671869 \n",
       "L 115.073751 165.72445 \n",
       "L 116.626905 164.289274 \n",
       "L 118.180059 162.269325 \n",
       "L 119.733213 159.568851 \n",
       "L 121.286366 156.102063 \n",
       "L 122.83952 151.804267 \n",
       "L 124.392674 146.644407 \n",
       "L 125.945828 140.63743 \n",
       "L 127.498982 133.854446 \n",
       "L 129.828713 122.533251 \n",
       "L 135.264752 94.914313 \n",
       "L 136.817905 88.027208 \n",
       "L 138.371059 82.107599 \n",
       "L 139.924213 77.370024 \n",
       "L 140.70079 75.492192 \n",
       "L 141.477367 73.957103 \n",
       "L 142.253944 72.769806 \n",
       "L 143.030521 71.930165 \n",
       "L 143.807098 71.43303 \n",
       "L 144.583675 71.268538 \n",
       "L 145.360252 71.422506 \n",
       "L 146.136829 71.876912 \n",
       "L 146.913406 72.610424 \n",
       "L 147.689983 73.59898 \n",
       "L 149.243137 76.234787 \n",
       "L 150.796291 79.559041 \n",
       "L 153.126021 85.326165 \n",
       "L 157.008906 95.205747 \n",
       "L 158.56206 98.708804 \n",
       "L 160.115214 101.73695 \n",
       "L 161.668368 104.185464 \n",
       "L 163.221522 105.981135 \n",
       "L 163.998099 106.620223 \n",
       "L 164.774676 107.083612 \n",
       "L 165.551253 107.371616 \n",
       "L 166.32783 107.486765 \n",
       "L 167.104407 107.433822 \n",
       "L 167.880984 107.219798 \n",
       "L 168.65756 106.853944 \n",
       "L 170.210714 105.714773 \n",
       "L 171.763868 104.133565 \n",
       "L 174.093599 101.265965 \n",
       "L 176.42333 98.351864 \n",
       "L 177.976484 96.717974 \n",
       "L 178.753061 96.069922 \n",
       "L 179.529638 95.56675 \n",
       "L 180.306215 95.230908 \n",
       "L 181.082792 95.082884 \n",
       "L 181.859369 95.140755 \n",
       "L 182.635946 95.419771 \n",
       "L 183.412523 95.931979 \n",
       "L 184.1891 96.685903 \n",
       "L 184.965676 97.686297 \n",
       "L 185.742253 98.933979 \n",
       "L 187.295407 102.154425 \n",
       "L 188.848561 106.274549 \n",
       "L 190.401715 111.163854 \n",
       "L 192.731446 119.543309 \n",
       "L 198.944062 142.952767 \n",
       "L 200.497215 148.020123 \n",
       "L 202.050369 152.522281 \n",
       "L 203.603523 156.410419 \n",
       "L 205.156677 159.676791 \n",
       "L 206.709831 162.347594 \n",
       "L 208.262985 164.474091 \n",
       "L 209.816139 166.123339 \n",
       "L 211.369293 167.369649 \n",
       "L 212.922447 168.287513 \n",
       "L 214.475601 168.946408 \n",
       "L 216.028755 169.40751 \n",
       "L 218.358485 169.837734 \n",
       "L 221.464793 170.115157 \n",
       "L 222.24137 170.153062 \n",
       "L 222.24137 170.153062 \n",
       "\" style=\"fill:none;stroke:#ff7f0e;stroke-dasharray:5.55,2.4;stroke-dashoffset:0;stroke-width:1.5;\"/>\n",
       "   </g>\n",
       "   <g id=\"line2d_14\">\n",
       "    <path clip-path=\"url(#p9f165d0ad1)\" d=\"M 160.362047 170.225382 \n",
       "L 165.149543 170.054649 \n",
       "L 168.569183 169.732456 \n",
       "L 171.304896 169.240033 \n",
       "L 173.35668 168.658581 \n",
       "L 175.408464 167.825368 \n",
       "L 177.460248 166.664683 \n",
       "L 178.828104 165.666829 \n",
       "L 180.19596 164.458062 \n",
       "L 181.563816 163.010676 \n",
       "L 182.931672 161.29783 \n",
       "L 184.299528 159.295222 \n",
       "L 185.667384 156.983104 \n",
       "L 187.03524 154.348492 \n",
       "L 189.087024 149.785948 \n",
       "L 191.138808 144.524073 \n",
       "L 193.190592 138.655279 \n",
       "L 195.926304 130.141352 \n",
       "L 207.55308 92.959297 \n",
       "L 210.97272 82.982991 \n",
       "L 213.024505 77.532664 \n",
       "L 215.076289 72.809588 \n",
       "L 216.444145 70.237193 \n",
       "L 217.812001 68.249847 \n",
       "L 218.495929 67.505509 \n",
       "L 219.179857 66.940682 \n",
       "L 219.863785 66.563044 \n",
       "L 220.547713 66.378075 \n",
       "L 221.231641 66.388829 \n",
       "L 221.915569 66.595761 \n",
       "L 222.599497 66.996627 \n",
       "L 223.283425 67.586466 \n",
       "L 223.967353 68.357656 \n",
       "L 225.335209 70.401157 \n",
       "L 226.703065 73.019633 \n",
       "L 228.754849 77.725128 \n",
       "L 234.910201 92.774887 \n",
       "L 236.278057 95.519508 \n",
       "L 237.645913 97.876934 \n",
       "L 239.013769 99.813221 \n",
       "L 240.381625 101.312854 \n",
       "L 241.749481 102.374899 \n",
       "L 243.117337 103.010071 \n",
       "L 244.485193 103.239299 \n",
       "L 245.853049 103.093884 \n",
       "L 247.220905 102.616957 \n",
       "L 248.588761 101.865609 \n",
       "L 250.640545 100.388377 \n",
       "L 254.060186 97.82273 \n",
       "L 255.428042 97.107583 \n",
       "L 256.795898 96.761238 \n",
       "L 257.479826 96.764393 \n",
       "L 258.163754 96.903559 \n",
       "L 258.847682 97.190936 \n",
       "L 259.53161 97.637074 \n",
       "L 260.215538 98.250622 \n",
       "L 260.899466 99.038117 \n",
       "L 262.267322 101.14949 \n",
       "L 263.635178 103.975568 \n",
       "L 265.003034 107.480553 \n",
       "L 266.37089 111.59018 \n",
       "L 268.422674 118.645607 \n",
       "L 271.842314 131.600555 \n",
       "L 274.578026 141.707171 \n",
       "L 276.62981 148.483933 \n",
       "L 277.997666 152.465656 \n",
       "L 279.365522 155.968913 \n",
       "L 280.733378 158.98189 \n",
       "L 282.101234 161.516085 \n",
       "L 283.46909 163.601381 \n",
       "L 284.836946 165.280627 \n",
       "L 286.204802 166.604344 \n",
       "L 287.572658 167.626006 \n",
       "L 288.940514 168.398211 \n",
       "L 290.30837 168.969878 \n",
       "L 292.360154 169.544669 \n",
       "L 294.411938 169.884051 \n",
       "L 296.463723 170.0755 \n",
       "L 296.463723 170.0755 \n",
       "\" style=\"fill:none;stroke:#1f77b4;stroke-dasharray:9.6,2.4,1.5,2.4;stroke-dashoffset:0;stroke-width:1.5;\"/>\n",
       "   </g>\n",
       "   <g id=\"patch_3\">\n",
       "    <path d=\"M 52.484375 170.28 \n",
       "L 52.484375 7.2 \n",
       "\" style=\"fill:none;stroke:#cccccc;stroke-linecap:square;stroke-linejoin:miter;stroke-width:0.8;\"/>\n",
       "   </g>\n",
       "   <g id=\"patch_4\">\n",
       "    <path d=\"M 387.284375 170.28 \n",
       "L 387.284375 7.2 \n",
       "\" style=\"fill:none;stroke:#cccccc;stroke-linecap:square;stroke-linejoin:miter;stroke-width:0.8;\"/>\n",
       "   </g>\n",
       "   <g id=\"patch_5\">\n",
       "    <path d=\"M 52.484375 170.28 \n",
       "L 387.284375 170.28 \n",
       "\" style=\"fill:none;stroke:#cccccc;stroke-linecap:square;stroke-linejoin:miter;stroke-width:0.8;\"/>\n",
       "   </g>\n",
       "   <g id=\"patch_6\">\n",
       "    <path d=\"M 52.484375 7.2 \n",
       "L 387.284375 7.2 \n",
       "\" style=\"fill:none;stroke:#cccccc;stroke-linecap:square;stroke-linejoin:miter;stroke-width:0.8;\"/>\n",
       "   </g>\n",
       "   <g id=\"legend_1\">\n",
       "    <g id=\"patch_7\">\n",
       "     <path d=\"M 312.720313 71.898438 \n",
       "L 380.284375 71.898438 \n",
       "Q 382.284375 71.898438 382.284375 69.898438 \n",
       "L 382.284375 14.2 \n",
       "Q 382.284375 12.2 380.284375 12.2 \n",
       "L 312.720313 12.2 \n",
       "Q 310.720313 12.2 310.720313 14.2 \n",
       "L 310.720313 69.898438 \n",
       "Q 310.720313 71.898438 312.720313 71.898438 \n",
       "z\n",
       "\" style=\"fill:#ffffff;opacity:0.8;stroke:#cccccc;stroke-linejoin:miter;\"/>\n",
       "    </g>\n",
       "    <g id=\"text_14\">\n",
       "     <!-- size -->\n",
       "     <g style=\"fill:#262626;\" transform=\"translate(337.610938 23.357813)scale(0.1 -0.1)\">\n",
       "      <defs>\n",
       "       <path d=\"M 1.953125 0 \n",
       "L 1.953125 7.125 \n",
       "L 34.96875 45.015625 \n",
       "Q 29.34375 44.734375 25.046875 44.734375 \n",
       "L 3.90625 44.734375 \n",
       "L 3.90625 51.859375 \n",
       "L 46.296875 51.859375 \n",
       "L 46.296875 46.046875 \n",
       "L 18.21875 13.140625 \n",
       "L 12.796875 7.125 \n",
       "Q 18.703125 7.5625 23.875 7.5625 \n",
       "L 47.859375 7.5625 \n",
       "L 47.859375 0 \n",
       "z\n",
       "\" id=\"ArialMT-122\"/>\n",
       "      </defs>\n",
       "      <use xlink:href=\"#ArialMT-115\"/>\n",
       "      <use x=\"50\" xlink:href=\"#ArialMT-105\"/>\n",
       "      <use x=\"72.216797\" xlink:href=\"#ArialMT-122\"/>\n",
       "      <use x=\"122.216797\" xlink:href=\"#ArialMT-101\"/>\n",
       "     </g>\n",
       "    </g>\n",
       "    <g id=\"line2d_15\">\n",
       "     <path d=\"M 314.720313 34.003125 \n",
       "L 334.720313 34.003125 \n",
       "\" style=\"fill:none;stroke:#1f77b4;stroke-dasharray:9.6,2.4,1.5,2.4;stroke-dashoffset:0;stroke-width:1.5;\"/>\n",
       "    </g>\n",
       "    <g id=\"line2d_16\"/>\n",
       "    <g id=\"text_15\">\n",
       "     <!-- medium -->\n",
       "     <g style=\"fill:#262626;\" transform=\"translate(342.720313 37.503125)scale(0.1 -0.1)\">\n",
       "      <defs>\n",
       "       <path d=\"M 6.59375 0 \n",
       "L 6.59375 51.859375 \n",
       "L 14.453125 51.859375 \n",
       "L 14.453125 44.578125 \n",
       "Q 16.890625 48.390625 20.9375 50.703125 \n",
       "Q 25 53.03125 30.171875 53.03125 \n",
       "Q 35.9375 53.03125 39.625 50.640625 \n",
       "Q 43.3125 48.25 44.828125 43.953125 \n",
       "Q 50.984375 53.03125 60.84375 53.03125 \n",
       "Q 68.5625 53.03125 72.703125 48.75 \n",
       "Q 76.859375 44.484375 76.859375 35.59375 \n",
       "L 76.859375 0 \n",
       "L 68.109375 0 \n",
       "L 68.109375 32.671875 \n",
       "Q 68.109375 37.9375 67.25 40.25 \n",
       "Q 66.40625 42.578125 64.15625 43.984375 \n",
       "Q 61.921875 45.40625 58.890625 45.40625 \n",
       "Q 53.421875 45.40625 49.796875 41.765625 \n",
       "Q 46.1875 38.140625 46.1875 30.125 \n",
       "L 46.1875 0 \n",
       "L 37.40625 0 \n",
       "L 37.40625 33.6875 \n",
       "Q 37.40625 39.546875 35.25 42.46875 \n",
       "Q 33.109375 45.40625 28.21875 45.40625 \n",
       "Q 24.515625 45.40625 21.359375 43.453125 \n",
       "Q 18.21875 41.5 16.796875 37.734375 \n",
       "Q 15.375 33.984375 15.375 26.90625 \n",
       "L 15.375 0 \n",
       "z\n",
       "\" id=\"ArialMT-109\"/>\n",
       "       <path d=\"M 40.234375 0 \n",
       "L 40.234375 6.546875 \n",
       "Q 35.296875 -1.171875 25.734375 -1.171875 \n",
       "Q 19.53125 -1.171875 14.328125 2.25 \n",
       "Q 9.125 5.671875 6.265625 11.796875 \n",
       "Q 3.421875 17.921875 3.421875 25.875 \n",
       "Q 3.421875 33.640625 6 39.96875 \n",
       "Q 8.59375 46.296875 13.765625 49.65625 \n",
       "Q 18.953125 53.03125 25.34375 53.03125 \n",
       "Q 30.03125 53.03125 33.6875 51.046875 \n",
       "Q 37.359375 49.078125 39.65625 45.90625 \n",
       "L 39.65625 71.578125 \n",
       "L 48.390625 71.578125 \n",
       "L 48.390625 0 \n",
       "z\n",
       "M 12.453125 25.875 \n",
       "Q 12.453125 15.921875 16.640625 10.984375 \n",
       "Q 20.84375 6.0625 26.5625 6.0625 \n",
       "Q 32.328125 6.0625 36.34375 10.765625 \n",
       "Q 40.375 15.484375 40.375 25.140625 \n",
       "Q 40.375 35.796875 36.265625 40.765625 \n",
       "Q 32.171875 45.75 26.171875 45.75 \n",
       "Q 20.3125 45.75 16.375 40.96875 \n",
       "Q 12.453125 36.1875 12.453125 25.875 \n",
       "z\n",
       "\" id=\"ArialMT-100\"/>\n",
       "       <path d=\"M 40.578125 0 \n",
       "L 40.578125 7.625 \n",
       "Q 34.515625 -1.171875 24.125 -1.171875 \n",
       "Q 19.53125 -1.171875 15.546875 0.578125 \n",
       "Q 11.578125 2.34375 9.640625 5 \n",
       "Q 7.71875 7.671875 6.9375 11.53125 \n",
       "Q 6.390625 14.109375 6.390625 19.734375 \n",
       "L 6.390625 51.859375 \n",
       "L 15.1875 51.859375 \n",
       "L 15.1875 23.09375 \n",
       "Q 15.1875 16.21875 15.71875 13.8125 \n",
       "Q 16.546875 10.359375 19.234375 8.375 \n",
       "Q 21.921875 6.390625 25.875 6.390625 \n",
       "Q 29.828125 6.390625 33.296875 8.421875 \n",
       "Q 36.765625 10.453125 38.203125 13.9375 \n",
       "Q 39.65625 17.4375 39.65625 24.078125 \n",
       "L 39.65625 51.859375 \n",
       "L 48.4375 51.859375 \n",
       "L 48.4375 0 \n",
       "z\n",
       "\" id=\"ArialMT-117\"/>\n",
       "      </defs>\n",
       "      <use xlink:href=\"#ArialMT-109\"/>\n",
       "      <use x=\"83.300781\" xlink:href=\"#ArialMT-101\"/>\n",
       "      <use x=\"138.916016\" xlink:href=\"#ArialMT-100\"/>\n",
       "      <use x=\"194.53125\" xlink:href=\"#ArialMT-105\"/>\n",
       "      <use x=\"216.748047\" xlink:href=\"#ArialMT-117\"/>\n",
       "      <use x=\"272.363281\" xlink:href=\"#ArialMT-109\"/>\n",
       "     </g>\n",
       "    </g>\n",
       "    <g id=\"line2d_17\">\n",
       "     <path d=\"M 314.720313 48.148438 \n",
       "L 334.720313 48.148438 \n",
       "\" style=\"fill:none;stroke:#ff7f0e;stroke-dasharray:5.55,2.4;stroke-dashoffset:0;stroke-width:1.5;\"/>\n",
       "    </g>\n",
       "    <g id=\"line2d_18\"/>\n",
       "    <g id=\"text_16\">\n",
       "     <!-- small -->\n",
       "     <g style=\"fill:#262626;\" transform=\"translate(342.720313 51.648438)scale(0.1 -0.1)\">\n",
       "      <defs>\n",
       "       <path d=\"M 40.4375 6.390625 \n",
       "Q 35.546875 2.25 31.03125 0.53125 \n",
       "Q 26.515625 -1.171875 21.34375 -1.171875 \n",
       "Q 12.796875 -1.171875 8.203125 3 \n",
       "Q 3.609375 7.171875 3.609375 13.671875 \n",
       "Q 3.609375 17.484375 5.34375 20.625 \n",
       "Q 7.078125 23.78125 9.890625 25.6875 \n",
       "Q 12.703125 27.59375 16.21875 28.5625 \n",
       "Q 18.796875 29.25 24.03125 29.890625 \n",
       "Q 34.671875 31.15625 39.703125 32.90625 \n",
       "Q 39.75 34.71875 39.75 35.203125 \n",
       "Q 39.75 40.578125 37.25 42.78125 \n",
       "Q 33.890625 45.75 27.25 45.75 \n",
       "Q 21.046875 45.75 18.09375 43.578125 \n",
       "Q 15.140625 41.40625 13.71875 35.890625 \n",
       "L 5.125 37.0625 \n",
       "Q 6.296875 42.578125 8.984375 45.96875 \n",
       "Q 11.671875 49.359375 16.75 51.1875 \n",
       "Q 21.828125 53.03125 28.515625 53.03125 \n",
       "Q 35.15625 53.03125 39.296875 51.46875 \n",
       "Q 43.453125 49.90625 45.40625 47.53125 \n",
       "Q 47.359375 45.171875 48.140625 41.546875 \n",
       "Q 48.578125 39.3125 48.578125 33.453125 \n",
       "L 48.578125 21.734375 \n",
       "Q 48.578125 9.46875 49.140625 6.21875 \n",
       "Q 49.703125 2.984375 51.375 0 \n",
       "L 42.1875 0 \n",
       "Q 40.828125 2.734375 40.4375 6.390625 \n",
       "z\n",
       "M 39.703125 26.03125 \n",
       "Q 34.90625 24.078125 25.34375 22.703125 \n",
       "Q 19.921875 21.921875 17.671875 20.9375 \n",
       "Q 15.4375 19.96875 14.203125 18.09375 \n",
       "Q 12.984375 16.21875 12.984375 13.921875 \n",
       "Q 12.984375 10.40625 15.640625 8.0625 \n",
       "Q 18.3125 5.71875 23.4375 5.71875 \n",
       "Q 28.515625 5.71875 32.46875 7.9375 \n",
       "Q 36.421875 10.15625 38.28125 14.015625 \n",
       "Q 39.703125 17 39.703125 22.796875 \n",
       "z\n",
       "\" id=\"ArialMT-97\"/>\n",
       "       <path d=\"M 6.390625 0 \n",
       "L 6.390625 71.578125 \n",
       "L 15.1875 71.578125 \n",
       "L 15.1875 0 \n",
       "z\n",
       "\" id=\"ArialMT-108\"/>\n",
       "      </defs>\n",
       "      <use xlink:href=\"#ArialMT-115\"/>\n",
       "      <use x=\"50\" xlink:href=\"#ArialMT-109\"/>\n",
       "      <use x=\"133.300781\" xlink:href=\"#ArialMT-97\"/>\n",
       "      <use x=\"188.916016\" xlink:href=\"#ArialMT-108\"/>\n",
       "      <use x=\"211.132812\" xlink:href=\"#ArialMT-108\"/>\n",
       "     </g>\n",
       "    </g>\n",
       "    <g id=\"line2d_19\">\n",
       "     <path d=\"M 314.720313 62.29375 \n",
       "L 334.720313 62.29375 \n",
       "\" style=\"fill:none;stroke:#2ca02c;stroke-linecap:round;stroke-width:1.5;\"/>\n",
       "    </g>\n",
       "    <g id=\"line2d_20\"/>\n",
       "    <g id=\"text_17\">\n",
       "     <!-- large -->\n",
       "     <g style=\"fill:#262626;\" transform=\"translate(342.720313 65.79375)scale(0.1 -0.1)\">\n",
       "      <defs>\n",
       "       <path d=\"M 6.5 0 \n",
       "L 6.5 51.859375 \n",
       "L 14.40625 51.859375 \n",
       "L 14.40625 44 \n",
       "Q 17.4375 49.515625 20 51.265625 \n",
       "Q 22.5625 53.03125 25.640625 53.03125 \n",
       "Q 30.078125 53.03125 34.671875 50.203125 \n",
       "L 31.640625 42.046875 \n",
       "Q 28.421875 43.953125 25.203125 43.953125 \n",
       "Q 22.3125 43.953125 20.015625 42.21875 \n",
       "Q 17.71875 40.484375 16.75 37.40625 \n",
       "Q 15.28125 32.71875 15.28125 27.15625 \n",
       "L 15.28125 0 \n",
       "z\n",
       "\" id=\"ArialMT-114\"/>\n",
       "      </defs>\n",
       "      <use xlink:href=\"#ArialMT-108\"/>\n",
       "      <use x=\"22.216797\" xlink:href=\"#ArialMT-97\"/>\n",
       "      <use x=\"77.832031\" xlink:href=\"#ArialMT-114\"/>\n",
       "      <use x=\"111.132812\" xlink:href=\"#ArialMT-103\"/>\n",
       "      <use x=\"166.748047\" xlink:href=\"#ArialMT-101\"/>\n",
       "     </g>\n",
       "    </g>\n",
       "   </g>\n",
       "  </g>\n",
       " </g>\n",
       " <defs>\n",
       "  <clipPath id=\"p9f165d0ad1\">\n",
       "   <rect height=\"163.08\" width=\"334.8\" x=\"52.484375\" y=\"7.2\"/>\n",
       "  </clipPath>\n",
       " </defs>\n",
       "</svg>\n"
      ],
      "text/plain": [
       "<Figure size 432x216 with 1 Axes>"
      ]
     },
     "metadata": {},
     "output_type": "display_data"
    }
   ],
   "source": [
    "fig = plt.figure(figsize=(6, 3))\n",
    "p = sns.kdeplot(data=dogs, x='height', hue='size')\n",
    "\n",
    "lss = ['-', '--', '-.']\n",
    "\n",
    "handles = p.legend_.legendHandles[::-1]\n",
    "\n",
    "for line, ls, handle in zip(p.lines, lss, handles):\n",
    "    line.set_linestyle(ls)\n",
    "    handle.set_ls(ls)"
   ]
  },
  {
   "cell_type": "markdown",
   "metadata": {},
   "source": [
    "Side-by-side box plots offer a similar comparison of distributions across\n",
    "groups. The boxplot offers a simpler approach that can give a crude understanding of a distribution. \n",
    "The three boxplots of height, one for each size of dog, make it clear that the size categorization is based on\n",
    "height because there is almost no overlap in height ranges for the groups. (This was\n",
    "not evident in the density curves due to the smoothing). What we don't see in\n",
    "these box plots is the bimodality in the small and medium groups, but we can\n",
    "still see that the large dogs have a more narrow spread compared to\n",
    "the other two groups.\n"
   ]
  },
  {
   "cell_type": "code",
   "execution_count": 5,
   "metadata": {
    "tags": [
     "remove-input"
    ]
   },
   "outputs": [
    {
     "data": {
      "application/vnd.plotly.v1+json": {
       "config": {
        "plotlyServerURL": "https://plot.ly"
       },
       "data": [
        {
         "type": "box",
         "x": [
          "medium",
          "small",
          "medium",
          "small",
          "medium",
          "medium",
          "small",
          "small",
          "medium",
          "small",
          "medium",
          "small",
          "small",
          "small",
          "small",
          "small",
          "small",
          "medium",
          "medium",
          "small",
          "small",
          "medium",
          "small",
          "large",
          "large",
          "small",
          "medium",
          "small",
          "small",
          "small",
          "medium",
          "small",
          "large",
          "medium",
          "small",
          "medium",
          "medium",
          "small",
          "large",
          "small",
          "large",
          "large",
          "medium",
          "large",
          "small",
          "medium",
          "medium",
          "large",
          "small",
          "large",
          "small",
          "medium",
          "small",
          "medium",
          "small",
          "medium",
          "large",
          "small",
          "medium",
          "small",
          "medium",
          "large",
          "large",
          "small",
          "large",
          "medium",
          "large",
          "large",
          "large",
          "small",
          "medium",
          "large",
          "large",
          "medium",
          "large",
          "large",
          "medium",
          "medium",
          "large",
          "medium",
          "large",
          "large",
          "large",
          "large",
          "large",
          "large",
          "medium",
          "medium",
          "large",
          "small",
          "medium",
          "medium",
          "medium",
          "large",
          "medium",
          "large",
          "large",
          "large",
          "large",
          "large",
          "large",
          "medium",
          "medium",
          "large",
          "small",
          "small",
          "small",
          "medium",
          "large",
          "large",
          "large",
          "medium",
          "medium",
          "medium",
          "medium",
          "medium",
          "large",
          "small",
          "large",
          "large",
          "medium",
          "small",
          "large",
          "medium",
          "large",
          "medium",
          "medium",
          "small",
          "medium",
          "large",
          "large",
          "small",
          "large",
          "small",
          "small",
          "small",
          "small",
          "large",
          "medium",
          "medium",
          "small",
          "small",
          "medium",
          "large",
          "small",
          "small",
          "medium",
          "medium",
          "medium",
          "medium",
          "medium",
          "large",
          "small",
          "large",
          "small",
          "small",
          "small",
          "small",
          "small",
          "medium",
          "large",
          "medium",
          "small",
          "small",
          "large",
          "small",
          "medium",
          "large",
          "small",
          "small",
          "medium",
          "medium"
         ],
         "xaxis": "x",
         "y": [
          51,
          null,
          48,
          25,
          46,
          41,
          37,
          24,
          47,
          37,
          55,
          27,
          26,
          null,
          33,
          13,
          27,
          51,
          50,
          27,
          null,
          41,
          27,
          61,
          65,
          25,
          58,
          23,
          null,
          25,
          52,
          null,
          66,
          58,
          null,
          58,
          54,
          36,
          60,
          39,
          64,
          62,
          41,
          62,
          24,
          59,
          null,
          66,
          25,
          61,
          32,
          53,
          36,
          42,
          36,
          38,
          65,
          28,
          47,
          23,
          58,
          65,
          null,
          25,
          62,
          47,
          66,
          69,
          61,
          null,
          56,
          66,
          65,
          null,
          71,
          64,
          55,
          59,
          61,
          47,
          64,
          81,
          65,
          76,
          76,
          67,
          null,
          58,
          62,
          36,
          58,
          46,
          42,
          71,
          53,
          65,
          61,
          61,
          64,
          71,
          61,
          41,
          55,
          64,
          29,
          29,
          30,
          48,
          61,
          64,
          61,
          47,
          44,
          47,
          45,
          47,
          61,
          34,
          72,
          66,
          51,
          25,
          64,
          44,
          62,
          46,
          57,
          24,
          44,
          70,
          71,
          37,
          72,
          33,
          null,
          30,
          29,
          70,
          44,
          51,
          34,
          25,
          48,
          65,
          34,
          36,
          57,
          47,
          51,
          42,
          46,
          61,
          29,
          null,
          27,
          38,
          24,
          25,
          38,
          46,
          62,
          47,
          36,
          32,
          64,
          25,
          57,
          64,
          38,
          38,
          56,
          42
         ],
         "yaxis": "y"
        },
        {
         "type": "violin",
         "x": [
          "medium",
          "small",
          "medium",
          "small",
          "medium",
          "medium",
          "small",
          "small",
          "medium",
          "small",
          "medium",
          "small",
          "small",
          "small",
          "small",
          "small",
          "small",
          "medium",
          "medium",
          "small",
          "small",
          "medium",
          "small",
          "large",
          "large",
          "small",
          "medium",
          "small",
          "small",
          "small",
          "medium",
          "small",
          "large",
          "medium",
          "small",
          "medium",
          "medium",
          "small",
          "large",
          "small",
          "large",
          "large",
          "medium",
          "large",
          "small",
          "medium",
          "medium",
          "large",
          "small",
          "large",
          "small",
          "medium",
          "small",
          "medium",
          "small",
          "medium",
          "large",
          "small",
          "medium",
          "small",
          "medium",
          "large",
          "large",
          "small",
          "large",
          "medium",
          "large",
          "large",
          "large",
          "small",
          "medium",
          "large",
          "large",
          "medium",
          "large",
          "large",
          "medium",
          "medium",
          "large",
          "medium",
          "large",
          "large",
          "large",
          "large",
          "large",
          "large",
          "medium",
          "medium",
          "large",
          "small",
          "medium",
          "medium",
          "medium",
          "large",
          "medium",
          "large",
          "large",
          "large",
          "large",
          "large",
          "large",
          "medium",
          "medium",
          "large",
          "small",
          "small",
          "small",
          "medium",
          "large",
          "large",
          "large",
          "medium",
          "medium",
          "medium",
          "medium",
          "medium",
          "large",
          "small",
          "large",
          "large",
          "medium",
          "small",
          "large",
          "medium",
          "large",
          "medium",
          "medium",
          "small",
          "medium",
          "large",
          "large",
          "small",
          "large",
          "small",
          "small",
          "small",
          "small",
          "large",
          "medium",
          "medium",
          "small",
          "small",
          "medium",
          "large",
          "small",
          "small",
          "medium",
          "medium",
          "medium",
          "medium",
          "medium",
          "large",
          "small",
          "large",
          "small",
          "small",
          "small",
          "small",
          "small",
          "medium",
          "large",
          "medium",
          "small",
          "small",
          "large",
          "small",
          "medium",
          "large",
          "small",
          "small",
          "medium",
          "medium"
         ],
         "xaxis": "x2",
         "y": [
          51,
          null,
          48,
          25,
          46,
          41,
          37,
          24,
          47,
          37,
          55,
          27,
          26,
          null,
          33,
          13,
          27,
          51,
          50,
          27,
          null,
          41,
          27,
          61,
          65,
          25,
          58,
          23,
          null,
          25,
          52,
          null,
          66,
          58,
          null,
          58,
          54,
          36,
          60,
          39,
          64,
          62,
          41,
          62,
          24,
          59,
          null,
          66,
          25,
          61,
          32,
          53,
          36,
          42,
          36,
          38,
          65,
          28,
          47,
          23,
          58,
          65,
          null,
          25,
          62,
          47,
          66,
          69,
          61,
          null,
          56,
          66,
          65,
          null,
          71,
          64,
          55,
          59,
          61,
          47,
          64,
          81,
          65,
          76,
          76,
          67,
          null,
          58,
          62,
          36,
          58,
          46,
          42,
          71,
          53,
          65,
          61,
          61,
          64,
          71,
          61,
          41,
          55,
          64,
          29,
          29,
          30,
          48,
          61,
          64,
          61,
          47,
          44,
          47,
          45,
          47,
          61,
          34,
          72,
          66,
          51,
          25,
          64,
          44,
          62,
          46,
          57,
          24,
          44,
          70,
          71,
          37,
          72,
          33,
          null,
          30,
          29,
          70,
          44,
          51,
          34,
          25,
          48,
          65,
          34,
          36,
          57,
          47,
          51,
          42,
          46,
          61,
          29,
          null,
          27,
          38,
          24,
          25,
          38,
          46,
          62,
          47,
          36,
          32,
          64,
          25,
          57,
          64,
          38,
          38,
          56,
          42
         ],
         "yaxis": "y2"
        }
       ],
       "layout": {
        "height": 250,
        "showlegend": false,
        "template": {
         "data": {
          "bar": [
           {
            "error_x": {
             "color": "rgb(36,36,36)"
            },
            "error_y": {
             "color": "rgb(36,36,36)"
            },
            "marker": {
             "line": {
              "color": "white",
              "width": 0.5
             },
             "pattern": {
              "fillmode": "overlay",
              "size": 10,
              "solidity": 0.2
             }
            },
            "type": "bar"
           }
          ],
          "barpolar": [
           {
            "marker": {
             "line": {
              "color": "white",
              "width": 0.5
             },
             "pattern": {
              "fillmode": "overlay",
              "size": 10,
              "solidity": 0.2
             }
            },
            "type": "barpolar"
           }
          ],
          "carpet": [
           {
            "aaxis": {
             "endlinecolor": "rgb(36,36,36)",
             "gridcolor": "white",
             "linecolor": "white",
             "minorgridcolor": "white",
             "startlinecolor": "rgb(36,36,36)"
            },
            "baxis": {
             "endlinecolor": "rgb(36,36,36)",
             "gridcolor": "white",
             "linecolor": "white",
             "minorgridcolor": "white",
             "startlinecolor": "rgb(36,36,36)"
            },
            "type": "carpet"
           }
          ],
          "choropleth": [
           {
            "colorbar": {
             "outlinewidth": 1,
             "tickcolor": "rgb(36,36,36)",
             "ticks": "outside"
            },
            "type": "choropleth"
           }
          ],
          "contour": [
           {
            "colorbar": {
             "outlinewidth": 1,
             "tickcolor": "rgb(36,36,36)",
             "ticks": "outside"
            },
            "colorscale": [
             [
              0,
              "#440154"
             ],
             [
              0.1111111111111111,
              "#482878"
             ],
             [
              0.2222222222222222,
              "#3e4989"
             ],
             [
              0.3333333333333333,
              "#31688e"
             ],
             [
              0.4444444444444444,
              "#26828e"
             ],
             [
              0.5555555555555556,
              "#1f9e89"
             ],
             [
              0.6666666666666666,
              "#35b779"
             ],
             [
              0.7777777777777778,
              "#6ece58"
             ],
             [
              0.8888888888888888,
              "#b5de2b"
             ],
             [
              1,
              "#fde725"
             ]
            ],
            "type": "contour"
           }
          ],
          "contourcarpet": [
           {
            "colorbar": {
             "outlinewidth": 1,
             "tickcolor": "rgb(36,36,36)",
             "ticks": "outside"
            },
            "type": "contourcarpet"
           }
          ],
          "heatmap": [
           {
            "colorbar": {
             "outlinewidth": 1,
             "tickcolor": "rgb(36,36,36)",
             "ticks": "outside"
            },
            "colorscale": [
             [
              0,
              "#440154"
             ],
             [
              0.1111111111111111,
              "#482878"
             ],
             [
              0.2222222222222222,
              "#3e4989"
             ],
             [
              0.3333333333333333,
              "#31688e"
             ],
             [
              0.4444444444444444,
              "#26828e"
             ],
             [
              0.5555555555555556,
              "#1f9e89"
             ],
             [
              0.6666666666666666,
              "#35b779"
             ],
             [
              0.7777777777777778,
              "#6ece58"
             ],
             [
              0.8888888888888888,
              "#b5de2b"
             ],
             [
              1,
              "#fde725"
             ]
            ],
            "type": "heatmap"
           }
          ],
          "heatmapgl": [
           {
            "colorbar": {
             "outlinewidth": 1,
             "tickcolor": "rgb(36,36,36)",
             "ticks": "outside"
            },
            "colorscale": [
             [
              0,
              "#440154"
             ],
             [
              0.1111111111111111,
              "#482878"
             ],
             [
              0.2222222222222222,
              "#3e4989"
             ],
             [
              0.3333333333333333,
              "#31688e"
             ],
             [
              0.4444444444444444,
              "#26828e"
             ],
             [
              0.5555555555555556,
              "#1f9e89"
             ],
             [
              0.6666666666666666,
              "#35b779"
             ],
             [
              0.7777777777777778,
              "#6ece58"
             ],
             [
              0.8888888888888888,
              "#b5de2b"
             ],
             [
              1,
              "#fde725"
             ]
            ],
            "type": "heatmapgl"
           }
          ],
          "histogram": [
           {
            "marker": {
             "line": {
              "color": "white",
              "width": 0.6
             }
            },
            "type": "histogram"
           }
          ],
          "histogram2d": [
           {
            "colorbar": {
             "outlinewidth": 1,
             "tickcolor": "rgb(36,36,36)",
             "ticks": "outside"
            },
            "colorscale": [
             [
              0,
              "#440154"
             ],
             [
              0.1111111111111111,
              "#482878"
             ],
             [
              0.2222222222222222,
              "#3e4989"
             ],
             [
              0.3333333333333333,
              "#31688e"
             ],
             [
              0.4444444444444444,
              "#26828e"
             ],
             [
              0.5555555555555556,
              "#1f9e89"
             ],
             [
              0.6666666666666666,
              "#35b779"
             ],
             [
              0.7777777777777778,
              "#6ece58"
             ],
             [
              0.8888888888888888,
              "#b5de2b"
             ],
             [
              1,
              "#fde725"
             ]
            ],
            "type": "histogram2d"
           }
          ],
          "histogram2dcontour": [
           {
            "colorbar": {
             "outlinewidth": 1,
             "tickcolor": "rgb(36,36,36)",
             "ticks": "outside"
            },
            "colorscale": [
             [
              0,
              "#440154"
             ],
             [
              0.1111111111111111,
              "#482878"
             ],
             [
              0.2222222222222222,
              "#3e4989"
             ],
             [
              0.3333333333333333,
              "#31688e"
             ],
             [
              0.4444444444444444,
              "#26828e"
             ],
             [
              0.5555555555555556,
              "#1f9e89"
             ],
             [
              0.6666666666666666,
              "#35b779"
             ],
             [
              0.7777777777777778,
              "#6ece58"
             ],
             [
              0.8888888888888888,
              "#b5de2b"
             ],
             [
              1,
              "#fde725"
             ]
            ],
            "type": "histogram2dcontour"
           }
          ],
          "mesh3d": [
           {
            "colorbar": {
             "outlinewidth": 1,
             "tickcolor": "rgb(36,36,36)",
             "ticks": "outside"
            },
            "type": "mesh3d"
           }
          ],
          "parcoords": [
           {
            "line": {
             "colorbar": {
              "outlinewidth": 1,
              "tickcolor": "rgb(36,36,36)",
              "ticks": "outside"
             }
            },
            "type": "parcoords"
           }
          ],
          "pie": [
           {
            "automargin": true,
            "type": "pie"
           }
          ],
          "scatter": [
           {
            "marker": {
             "colorbar": {
              "outlinewidth": 1,
              "tickcolor": "rgb(36,36,36)",
              "ticks": "outside"
             }
            },
            "type": "scatter"
           }
          ],
          "scatter3d": [
           {
            "line": {
             "colorbar": {
              "outlinewidth": 1,
              "tickcolor": "rgb(36,36,36)",
              "ticks": "outside"
             }
            },
            "marker": {
             "colorbar": {
              "outlinewidth": 1,
              "tickcolor": "rgb(36,36,36)",
              "ticks": "outside"
             }
            },
            "type": "scatter3d"
           }
          ],
          "scattercarpet": [
           {
            "marker": {
             "colorbar": {
              "outlinewidth": 1,
              "tickcolor": "rgb(36,36,36)",
              "ticks": "outside"
             }
            },
            "type": "scattercarpet"
           }
          ],
          "scattergeo": [
           {
            "marker": {
             "colorbar": {
              "outlinewidth": 1,
              "tickcolor": "rgb(36,36,36)",
              "ticks": "outside"
             }
            },
            "type": "scattergeo"
           }
          ],
          "scattergl": [
           {
            "marker": {
             "colorbar": {
              "outlinewidth": 1,
              "tickcolor": "rgb(36,36,36)",
              "ticks": "outside"
             }
            },
            "type": "scattergl"
           }
          ],
          "scattermapbox": [
           {
            "marker": {
             "colorbar": {
              "outlinewidth": 1,
              "tickcolor": "rgb(36,36,36)",
              "ticks": "outside"
             }
            },
            "type": "scattermapbox"
           }
          ],
          "scatterpolar": [
           {
            "marker": {
             "colorbar": {
              "outlinewidth": 1,
              "tickcolor": "rgb(36,36,36)",
              "ticks": "outside"
             }
            },
            "type": "scatterpolar"
           }
          ],
          "scatterpolargl": [
           {
            "marker": {
             "colorbar": {
              "outlinewidth": 1,
              "tickcolor": "rgb(36,36,36)",
              "ticks": "outside"
             }
            },
            "type": "scatterpolargl"
           }
          ],
          "scatterternary": [
           {
            "marker": {
             "colorbar": {
              "outlinewidth": 1,
              "tickcolor": "rgb(36,36,36)",
              "ticks": "outside"
             }
            },
            "type": "scatterternary"
           }
          ],
          "surface": [
           {
            "colorbar": {
             "outlinewidth": 1,
             "tickcolor": "rgb(36,36,36)",
             "ticks": "outside"
            },
            "colorscale": [
             [
              0,
              "#440154"
             ],
             [
              0.1111111111111111,
              "#482878"
             ],
             [
              0.2222222222222222,
              "#3e4989"
             ],
             [
              0.3333333333333333,
              "#31688e"
             ],
             [
              0.4444444444444444,
              "#26828e"
             ],
             [
              0.5555555555555556,
              "#1f9e89"
             ],
             [
              0.6666666666666666,
              "#35b779"
             ],
             [
              0.7777777777777778,
              "#6ece58"
             ],
             [
              0.8888888888888888,
              "#b5de2b"
             ],
             [
              1,
              "#fde725"
             ]
            ],
            "type": "surface"
           }
          ],
          "table": [
           {
            "cells": {
             "fill": {
              "color": "rgb(237,237,237)"
             },
             "line": {
              "color": "white"
             }
            },
            "header": {
             "fill": {
              "color": "rgb(217,217,217)"
             },
             "line": {
              "color": "white"
             }
            },
            "type": "table"
           }
          ]
         },
         "layout": {
          "annotationdefaults": {
           "arrowhead": 0,
           "arrowwidth": 1
          },
          "autosize": true,
          "autotypenumbers": "strict",
          "coloraxis": {
           "colorbar": {
            "outlinewidth": 1,
            "tickcolor": "rgb(36,36,36)",
            "ticks": "outside"
           }
          },
          "colorscale": {
           "diverging": [
            [
             0,
             "rgb(103,0,31)"
            ],
            [
             0.1,
             "rgb(178,24,43)"
            ],
            [
             0.2,
             "rgb(214,96,77)"
            ],
            [
             0.3,
             "rgb(244,165,130)"
            ],
            [
             0.4,
             "rgb(253,219,199)"
            ],
            [
             0.5,
             "rgb(247,247,247)"
            ],
            [
             0.6,
             "rgb(209,229,240)"
            ],
            [
             0.7,
             "rgb(146,197,222)"
            ],
            [
             0.8,
             "rgb(67,147,195)"
            ],
            [
             0.9,
             "rgb(33,102,172)"
            ],
            [
             1,
             "rgb(5,48,97)"
            ]
           ],
           "sequential": [
            [
             0,
             "#440154"
            ],
            [
             0.1111111111111111,
             "#482878"
            ],
            [
             0.2222222222222222,
             "#3e4989"
            ],
            [
             0.3333333333333333,
             "#31688e"
            ],
            [
             0.4444444444444444,
             "#26828e"
            ],
            [
             0.5555555555555556,
             "#1f9e89"
            ],
            [
             0.6666666666666666,
             "#35b779"
            ],
            [
             0.7777777777777778,
             "#6ece58"
            ],
            [
             0.8888888888888888,
             "#b5de2b"
            ],
            [
             1,
             "#fde725"
            ]
           ],
           "sequentialminus": [
            [
             0,
             "#440154"
            ],
            [
             0.1111111111111111,
             "#482878"
            ],
            [
             0.2222222222222222,
             "#3e4989"
            ],
            [
             0.3333333333333333,
             "#31688e"
            ],
            [
             0.4444444444444444,
             "#26828e"
            ],
            [
             0.5555555555555556,
             "#1f9e89"
            ],
            [
             0.6666666666666666,
             "#35b779"
            ],
            [
             0.7777777777777778,
             "#6ece58"
            ],
            [
             0.8888888888888888,
             "#b5de2b"
            ],
            [
             1,
             "#fde725"
            ]
           ]
          },
          "colorway": [
           "#1F77B4",
           "#FF7F0E",
           "#2CA02C",
           "#D62728",
           "#9467BD",
           "#8C564B",
           "#E377C2",
           "#7F7F7F",
           "#BCBD22",
           "#17BECF"
          ],
          "font": {
           "color": "rgb(36,36,36)"
          },
          "geo": {
           "bgcolor": "white",
           "lakecolor": "white",
           "landcolor": "white",
           "showlakes": true,
           "showland": true,
           "subunitcolor": "white"
          },
          "height": 250,
          "hoverlabel": {
           "align": "left"
          },
          "hovermode": "closest",
          "mapbox": {
           "style": "light"
          },
          "margin": {
           "b": 10,
           "l": 10,
           "r": 10,
           "t": 10
          },
          "paper_bgcolor": "white",
          "plot_bgcolor": "white",
          "polar": {
           "angularaxis": {
            "gridcolor": "rgb(232,232,232)",
            "linecolor": "rgb(36,36,36)",
            "showgrid": false,
            "showline": true,
            "ticks": "outside"
           },
           "bgcolor": "white",
           "radialaxis": {
            "gridcolor": "rgb(232,232,232)",
            "linecolor": "rgb(36,36,36)",
            "showgrid": false,
            "showline": true,
            "ticks": "outside"
           }
          },
          "scene": {
           "xaxis": {
            "backgroundcolor": "white",
            "gridcolor": "rgb(232,232,232)",
            "gridwidth": 2,
            "linecolor": "rgb(36,36,36)",
            "showbackground": true,
            "showgrid": false,
            "showline": true,
            "ticks": "outside",
            "zeroline": false,
            "zerolinecolor": "rgb(36,36,36)"
           },
           "yaxis": {
            "backgroundcolor": "white",
            "gridcolor": "rgb(232,232,232)",
            "gridwidth": 2,
            "linecolor": "rgb(36,36,36)",
            "showbackground": true,
            "showgrid": false,
            "showline": true,
            "ticks": "outside",
            "zeroline": false,
            "zerolinecolor": "rgb(36,36,36)"
           },
           "zaxis": {
            "backgroundcolor": "white",
            "gridcolor": "rgb(232,232,232)",
            "gridwidth": 2,
            "linecolor": "rgb(36,36,36)",
            "showbackground": true,
            "showgrid": false,
            "showline": true,
            "ticks": "outside",
            "zeroline": false,
            "zerolinecolor": "rgb(36,36,36)"
           }
          },
          "shapedefaults": {
           "fillcolor": "black",
           "line": {
            "width": 0
           },
           "opacity": 0.3
          },
          "ternary": {
           "aaxis": {
            "gridcolor": "rgb(232,232,232)",
            "linecolor": "rgb(36,36,36)",
            "showgrid": false,
            "showline": true,
            "ticks": "outside"
           },
           "baxis": {
            "gridcolor": "rgb(232,232,232)",
            "linecolor": "rgb(36,36,36)",
            "showgrid": false,
            "showline": true,
            "ticks": "outside"
           },
           "bgcolor": "white",
           "caxis": {
            "gridcolor": "rgb(232,232,232)",
            "linecolor": "rgb(36,36,36)",
            "showgrid": false,
            "showline": true,
            "ticks": "outside"
           }
          },
          "title": {
           "x": 0.5,
           "xanchor": "center"
          },
          "width": 350,
          "xaxis": {
           "automargin": true,
           "gridcolor": "rgb(232,232,232)",
           "linecolor": "rgb(36,36,36)",
           "showgrid": true,
           "showline": true,
           "ticks": "outside",
           "title": {
            "standoff": 15
           },
           "zeroline": false,
           "zerolinecolor": "rgb(36,36,36)"
          },
          "yaxis": {
           "automargin": true,
           "gridcolor": "rgb(232,232,232)",
           "linecolor": "rgb(36,36,36)",
           "showgrid": true,
           "showline": true,
           "ticks": "outside",
           "title": {
            "standoff": 15
           },
           "zeroline": false,
           "zerolinecolor": "rgb(36,36,36)"
          }
         }
        },
        "width": 550,
        "xaxis": {
         "anchor": "y",
         "autorange": true,
         "categoryarray": [
          "small",
          "medium",
          "large"
         ],
         "categoryorder": "array",
         "domain": [
          0,
          0.45
         ],
         "range": [
          -0.5,
          2.5
         ],
         "type": "category"
        },
        "xaxis2": {
         "anchor": "y2",
         "autorange": true,
         "categoryarray": [
          "small",
          "medium",
          "large"
         ],
         "categoryorder": "array",
         "domain": [
          0.55,
          1
         ],
         "range": [
          -0.5,
          2.5
         ],
         "type": "category"
        },
        "yaxis": {
         "anchor": "x",
         "domain": [
          0,
          1
         ],
         "range": [
          0,
          90
         ],
         "type": "linear"
        },
        "yaxis2": {
         "anchor": "x2",
         "domain": [
          0,
          1
         ],
         "range": [
          0,
          90
         ],
         "type": "linear"
        }
       }
      },
      "image/png": "[encoded data removed]",
      "image/svg+xml": [
       "<svg class=\"main-svg\" xmlns=\"http://www.w3.org/2000/svg\" xmlns:xlink=\"http://www.w3.org/1999/xlink\" width=\"550\" height=\"250\" style=\"\" viewBox=\"0 0 550 250\"><rect x=\"0\" y=\"0\" width=\"550\" height=\"250\" style=\"fill: rgb(255, 255, 255); fill-opacity: 1;\"/><defs id=\"defs-f0218a\"><g class=\"clips\"><clipPath id=\"clipf0218axyplot\" class=\"plotclip\"><rect width=\"228.6\" height=\"206\"/></clipPath><clipPath id=\"clipf0218ax2y2plot\" class=\"plotclip\"><rect width=\"228.59999999999997\" height=\"206\"/></clipPath><clipPath class=\"axesclip\" id=\"clipf0218ax\"><rect x=\"32\" y=\"0\" width=\"228.6\" height=\"250\"/></clipPath><clipPath class=\"axesclip\" id=\"clipf0218ay\"><rect x=\"0\" y=\"10\" width=\"550\" height=\"206\"/></clipPath><clipPath class=\"axesclip\" id=\"clipf0218axy\"><rect x=\"32\" y=\"10\" width=\"228.6\" height=\"206\"/></clipPath><clipPath class=\"axesclip\" id=\"clipf0218ay2\"><rect x=\"0\" y=\"10\" width=\"550\" height=\"206\"/></clipPath><clipPath class=\"axesclip\" id=\"clipf0218axy2\"><rect x=\"32\" y=\"10\" width=\"228.6\" height=\"206\"/></clipPath><clipPath class=\"axesclip\" id=\"clipf0218ax2\"><rect x=\"311.40000000000003\" y=\"0\" width=\"228.59999999999997\" height=\"250\"/></clipPath><clipPath class=\"axesclip\" id=\"clipf0218ax2y\"><rect x=\"311.40000000000003\" y=\"10\" width=\"228.59999999999997\" height=\"206\"/></clipPath><clipPath class=\"axesclip\" id=\"clipf0218ax2y2\"><rect x=\"311.40000000000003\" y=\"10\" width=\"228.59999999999997\" height=\"206\"/></clipPath></g><g class=\"gradients\"/><g class=\"patterns\"/></defs><g class=\"bglayer\"/><g class=\"layer-below\"><g class=\"imagelayer\"/><g class=\"shapelayer\"/></g><g class=\"cartesianlayer\"><g class=\"subplot xy\"><g class=\"layer-subplot\"><g class=\"shapelayer\"/><g class=\"imagelayer\"/></g><g class=\"gridlayer\"><g class=\"x\"><path class=\"xgrid crisp\" transform=\"translate(70.1,0)\" d=\"M0,10v206\" style=\"stroke: rgb(232, 232, 232); stroke-opacity: 1; stroke-width: 1px;\"/><path class=\"xgrid crisp\" transform=\"translate(146.3,0)\" d=\"M0,10v206\" style=\"stroke: rgb(232, 232, 232); stroke-opacity: 1; stroke-width: 1px;\"/><path class=\"xgrid crisp\" transform=\"translate(222.5,0)\" d=\"M0,10v206\" style=\"stroke: rgb(232, 232, 232); stroke-opacity: 1; stroke-width: 1px;\"/></g><g class=\"y\"><path class=\"ygrid crisp\" transform=\"translate(0,170.22)\" d=\"M32,0h228.6\" style=\"stroke: rgb(232, 232, 232); stroke-opacity: 1; stroke-width: 1px;\"/><path class=\"ygrid crisp\" transform=\"translate(0,124.44)\" d=\"M32,0h228.6\" style=\"stroke: rgb(232, 232, 232); stroke-opacity: 1; stroke-width: 1px;\"/><path class=\"ygrid crisp\" transform=\"translate(0,78.67)\" d=\"M32,0h228.6\" style=\"stroke: rgb(232, 232, 232); stroke-opacity: 1; stroke-width: 1px;\"/><path class=\"ygrid crisp\" transform=\"translate(0,32.89)\" d=\"M32,0h228.6\" style=\"stroke: rgb(232, 232, 232); stroke-opacity: 1; stroke-width: 1px;\"/></g></g><g class=\"zerolinelayer\"/><path class=\"xlines-below\"/><path class=\"ylines-below\"/><g class=\"overlines-below\"/><g class=\"xaxislayer-below\"/><g class=\"yaxislayer-below\"/><g class=\"overaxes-below\"/><g class=\"plot\" transform=\"translate(32,10)\" clip-path=\"url(#clipf0218axyplot)\"><g class=\"boxlayer mlayer\"><g class=\"trace boxes\" style=\"opacity: 1;\"><path class=\"box\" d=\"M19.43,139.62H56.77M19.43,148.78H56.77V123.6H19.43ZM38.1,148.78V176.24M38.1,123.6V116.73M28.77,176.24H47.43M28.77,116.73H47.43\" style=\"vector-effect: non-scaling-stroke; stroke-width: 2px; stroke: rgb(31, 119, 180); stroke-opacity: 1; fill: rgb(31, 119, 180); fill-opacity: 0.5;\"/><path class=\"box\" d=\"M95.63,96.13H132.97M95.63,101.28H132.97V80.11H95.63ZM114.3,101.28V119.02M114.3,80.11V70.96M104.97,119.02H123.63M104.97,70.96H123.63\" style=\"vector-effect: non-scaling-stroke; stroke-width: 2px; stroke: rgb(31, 119, 180); stroke-opacity: 1; fill: rgb(31, 119, 180); fill-opacity: 0.5;\"/><path class=\"box\" d=\"M171.83,59.51H209.17M171.83,64.09H209.17V53.79H171.83ZM190.5,64.09V68.67M190.5,53.79V41.2M181.17,68.67H199.83M181.17,41.2H199.83\" style=\"vector-effect: non-scaling-stroke; stroke-width: 2px; stroke: rgb(31, 119, 180); stroke-opacity: 1; fill: rgb(31, 119, 180); fill-opacity: 0.5;\"/><g class=\"points\"/><g class=\"points\"/><g class=\"points\"><path class=\"point\" transform=\"translate(190.5,32.04)\" d=\"M3,0A3,3 0 1,1 0,-3A3,3 0 0,1 3,0Z\" style=\"opacity: 1; stroke-width: 0px; fill: rgb(31, 119, 180); fill-opacity: 1;\"/><path class=\"point\" transform=\"translate(190.5,32.04)\" d=\"M3,0A3,3 0 1,1 0,-3A3,3 0 0,1 3,0Z\" style=\"opacity: 1; stroke-width: 0px; fill: rgb(31, 119, 180); fill-opacity: 1;\"/><path class=\"point\" transform=\"translate(190.5,20.6)\" d=\"M3,0A3,3 0 1,1 0,-3A3,3 0 0,1 3,0Z\" style=\"opacity: 1; stroke-width: 0px; fill: rgb(31, 119, 180); fill-opacity: 1;\"/></g></g></g></g><g class=\"overplot\"/><path class=\"xlines-above crisp\" d=\"M31,216.5H260.6\" style=\"fill: none; stroke-width: 1px; stroke: rgb(36, 36, 36); stroke-opacity: 1;\"/><path class=\"ylines-above crisp\" d=\"M31.5,10V216\" style=\"fill: none; stroke-width: 1px; stroke: rgb(36, 36, 36); stroke-opacity: 1;\"/><g class=\"overlines-above\"/><g class=\"xaxislayer-above\"><path class=\"xtick ticks crisp\" d=\"M0,217v5\" transform=\"translate(70.1,0)\" style=\"stroke: rgb(68, 68, 68); stroke-opacity: 1; stroke-width: 1px;\"/><path class=\"xtick ticks crisp\" d=\"M0,217v5\" transform=\"translate(146.3,0)\" style=\"stroke: rgb(68, 68, 68); stroke-opacity: 1; stroke-width: 1px;\"/><path class=\"xtick ticks crisp\" d=\"M0,217v5\" transform=\"translate(222.5,0)\" style=\"stroke: rgb(68, 68, 68); stroke-opacity: 1; stroke-width: 1px;\"/><g class=\"xtick\"><text text-anchor=\"middle\" x=\"0\" y=\"236.4\" transform=\"translate(70.1,0)\" style=\"font-family: 'Open Sans', verdana, arial, sans-serif; font-size: 12px; fill: rgb(36, 36, 36); fill-opacity: 1; white-space: pre; opacity: 1;\">small</text></g><g class=\"xtick\"><text text-anchor=\"middle\" x=\"0\" y=\"236.4\" transform=\"translate(146.3,0)\" style=\"font-family: 'Open Sans', verdana, arial, sans-serif; font-size: 12px; fill: rgb(36, 36, 36); fill-opacity: 1; white-space: pre; opacity: 1;\">medium</text></g><g class=\"xtick\"><text text-anchor=\"middle\" x=\"0\" y=\"236.4\" transform=\"translate(222.5,0)\" style=\"font-family: 'Open Sans', verdana, arial, sans-serif; font-size: 12px; fill: rgb(36, 36, 36); fill-opacity: 1; white-space: pre; opacity: 1;\">large</text></g></g><g class=\"yaxislayer-above\"><path class=\"ytick ticks crisp\" d=\"M31,0h-5\" transform=\"translate(0,216)\" style=\"stroke: rgb(68, 68, 68); stroke-opacity: 1; stroke-width: 1px;\"/><path class=\"ytick ticks crisp\" d=\"M31,0h-5\" transform=\"translate(0,170.22)\" style=\"stroke: rgb(68, 68, 68); stroke-opacity: 1; stroke-width: 1px;\"/><path class=\"ytick ticks crisp\" d=\"M31,0h-5\" transform=\"translate(0,124.44)\" style=\"stroke: rgb(68, 68, 68); stroke-opacity: 1; stroke-width: 1px;\"/><path class=\"ytick ticks crisp\" d=\"M31,0h-5\" transform=\"translate(0,78.67)\" style=\"stroke: rgb(68, 68, 68); stroke-opacity: 1; stroke-width: 1px;\"/><path class=\"ytick ticks crisp\" d=\"M31,0h-5\" transform=\"translate(0,32.89)\" style=\"stroke: rgb(68, 68, 68); stroke-opacity: 1; stroke-width: 1px;\"/><g class=\"ytick\"><text text-anchor=\"end\" x=\"23.6\" y=\"4.199999999999999\" transform=\"translate(0,216)\" style=\"font-family: 'Open Sans', verdana, arial, sans-serif; font-size: 12px; fill: rgb(36, 36, 36); fill-opacity: 1; white-space: pre; opacity: 1;\">0</text></g><g class=\"ytick\"><text text-anchor=\"end\" x=\"23.6\" y=\"4.199999999999999\" style=\"font-family: 'Open Sans', verdana, arial, sans-serif; font-size: 12px; fill: rgb(36, 36, 36); fill-opacity: 1; white-space: pre; opacity: 1;\" transform=\"translate(0,170.22)\">20</text></g><g class=\"ytick\"><text text-anchor=\"end\" x=\"23.6\" y=\"4.199999999999999\" style=\"font-family: 'Open Sans', verdana, arial, sans-serif; font-size: 12px; fill: rgb(36, 36, 36); fill-opacity: 1; white-space: pre; opacity: 1;\" transform=\"translate(0,124.44)\">40</text></g><g class=\"ytick\"><text text-anchor=\"end\" x=\"23.6\" y=\"4.199999999999999\" style=\"font-family: 'Open Sans', verdana, arial, sans-serif; font-size: 12px; fill: rgb(36, 36, 36); fill-opacity: 1; white-space: pre; opacity: 1;\" transform=\"translate(0,78.67)\">60</text></g><g class=\"ytick\"><text text-anchor=\"end\" x=\"23.6\" y=\"4.199999999999999\" style=\"font-family: 'Open Sans', verdana, arial, sans-serif; font-size: 12px; fill: rgb(36, 36, 36); fill-opacity: 1; white-space: pre; opacity: 1;\" transform=\"translate(0,32.89)\">80</text></g></g><g class=\"overaxes-above\"/></g><g class=\"subplot x2y2\"><g class=\"layer-subplot\"><g class=\"shapelayer\"/><g class=\"imagelayer\"/></g><g class=\"gridlayer\"><g class=\"x2\"><path class=\"x2grid crisp\" transform=\"translate(349.50000000000006,0)\" d=\"M0,10v206\" style=\"stroke: rgb(232, 232, 232); stroke-opacity: 1; stroke-width: 1px;\"/><path class=\"x2grid crisp\" transform=\"translate(425.70000000000005,0)\" d=\"M0,10v206\" style=\"stroke: rgb(232, 232, 232); stroke-opacity: 1; stroke-width: 1px;\"/><path class=\"x2grid crisp\" transform=\"translate(501.90000000000003,0)\" d=\"M0,10v206\" style=\"stroke: rgb(232, 232, 232); stroke-opacity: 1; stroke-width: 1px;\"/></g><g class=\"y2\"><path class=\"y2grid crisp\" transform=\"translate(0,170.22)\" d=\"M311.40000000000003,0h228.59999999999997\" style=\"stroke: rgb(232, 232, 232); stroke-opacity: 1; stroke-width: 1px;\"/><path class=\"y2grid crisp\" transform=\"translate(0,124.44)\" d=\"M311.40000000000003,0h228.59999999999997\" style=\"stroke: rgb(232, 232, 232); stroke-opacity: 1; stroke-width: 1px;\"/><path class=\"y2grid crisp\" transform=\"translate(0,78.67)\" d=\"M311.40000000000003,0h228.59999999999997\" style=\"stroke: rgb(232, 232, 232); stroke-opacity: 1; stroke-width: 1px;\"/><path class=\"y2grid crisp\" transform=\"translate(0,32.89)\" d=\"M311.40000000000003,0h228.59999999999997\" style=\"stroke: rgb(232, 232, 232); stroke-opacity: 1; stroke-width: 1px;\"/></g></g><g class=\"zerolinelayer\"/><path class=\"xlines-below\"/><path class=\"ylines-below\"/><g class=\"overlines-below\"/><g class=\"xaxislayer-below\"/><g class=\"yaxislayer-below\"/><g class=\"overaxes-below\"/><g class=\"plot\" transform=\"translate(311.40000000000003,10)\" clip-path=\"url(#clipf0218ax2y2plot)\"><g class=\"violinlayer mlayer\"><g class=\"trace violins\" style=\"opacity: 1;\"><path class=\"violin\" d=\"M38.17,188.91Q38.21,187.53 38.23,186.84C38.25,186.15 38.28,185.46 38.31,184.77C38.34,184.08 38.38,183.39 38.41,182.7C38.44,182.01 38.47,181.32 38.5,180.63C38.53,179.94 38.56,179.25 38.58,178.56C38.6,177.87 38.61,177.18 38.61,176.49C38.61,175.8 38.61,175.11 38.6,174.42C38.59,173.73 38.57,173.04 38.55,172.35C38.53,171.66 38.5,170.97 38.49,170.28C38.48,169.59 38.47,168.91 38.49,168.22C38.51,167.53 38.54,166.84 38.62,166.15C38.7,165.46 38.79,164.76 38.95,164.08C39.12,163.38 39.33,162.69 39.61,162.01C39.9,161.31 40.25,160.62 40.65,159.94C41.07,159.23 41.58,158.55 42.11,157.87C42.66,157.17 43.29,156.49 43.9,155.8C44.52,155.11 45.19,154.43 45.8,153.73C46.4,153.05 47.02,152.37 47.53,151.66C48.02,150.99 48.49,150.3 48.82,149.59C49.13,148.92 49.36,148.22 49.47,147.52C49.58,146.84 49.56,146.13 49.48,145.45C49.39,144.76 49.17,144.07 48.95,143.39C48.72,142.69 48.4,142.01 48.11,141.32C47.82,140.63 47.48,139.94 47.2,139.25C46.92,138.56 46.64,137.88 46.43,137.18C46.22,136.5 46.03,135.8 45.92,135.11C45.81,134.42 45.75,133.73 45.75,133.04C45.75,132.35 45.81,131.66 45.89,130.97C45.97,130.28 46.12,129.59 46.24,128.9C46.36,128.21 46.53,127.52 46.63,126.83C46.73,126.14 46.82,125.45 46.83,124.76C46.84,124.07 46.81,123.37 46.69,122.69C46.57,121.99 46.35,121.3 46.08,120.62C45.8,119.92 45.43,119.24 45.04,118.56C44.64,117.86 44.17,117.18 43.71,116.49C43.25,115.8 42.74,115.11 42.28,114.42C41.83,113.73 41.37,113.05 40.97,112.35C40.58,111.67 40.22,110.98 39.91,110.28C39.61,109.6 39.35,108.91 39.14,108.21C38.93,107.53 38.78,106.83 38.65,106.14Q38.52,105.45 38.36,104.07L37.84,104.07Q37.68,105.45 37.55,106.14C37.42,106.83 37.27,107.53 37.06,108.21C36.85,108.91 36.59,109.6 36.29,110.28C35.98,110.98 35.62,111.67 35.23,112.35C34.83,113.05 34.37,113.73 33.92,114.42C33.46,115.11 32.95,115.8 32.49,116.49C32.03,117.18 31.56,117.86 31.16,118.56C30.77,119.24 30.4,119.92 30.12,120.62C29.85,121.3 29.63,121.99 29.51,122.69C29.39,123.37 29.36,124.07 29.37,124.76C29.38,125.45 29.47,126.14 29.57,126.83C29.67,127.52 29.84,128.21 29.96,128.9C30.08,129.59 30.23,130.28 30.31,130.97C30.39,131.66 30.45,132.35 30.45,133.04C30.45,133.73 30.39,134.42 30.28,135.11C30.17,135.8 29.98,136.5 29.77,137.18C29.56,137.88 29.28,138.56 29,139.25C28.72,139.94 28.38,140.63 28.09,141.32C27.8,142.01 27.48,142.69 27.25,143.39C27.03,144.07 26.81,144.76 26.72,145.45C26.64,146.13 26.62,146.84 26.73,147.52C26.84,148.22 27.07,148.92 27.38,149.59C27.71,150.3 28.18,150.99 28.67,151.66C29.18,152.37 29.8,153.05 30.4,153.73C31.01,154.43 31.68,155.11 32.3,155.8C32.91,156.49 33.54,157.17 34.09,157.87C34.62,158.55 35.13,159.23 35.55,159.94C35.95,160.62 36.3,161.31 36.59,162.01C36.87,162.69 37.08,163.38 37.25,164.08C37.41,164.76 37.5,165.46 37.58,166.15C37.66,166.84 37.69,167.53 37.71,168.22C37.73,168.91 37.72,169.59 37.71,170.28C37.7,170.97 37.67,171.66 37.65,172.35C37.63,173.04 37.61,173.73 37.6,174.42C37.59,175.11 37.59,175.8 37.59,176.49C37.59,177.18 37.6,177.87 37.62,178.56C37.64,179.25 37.67,179.94 37.7,180.63C37.73,181.32 37.76,182.01 37.79,182.7C37.82,183.39 37.86,184.08 37.89,184.77C37.92,185.46 37.95,186.15 37.97,186.84Q37.99,187.53 38.03,188.91Z\" style=\"vector-effect: non-scaling-stroke; stroke-width: 2px; stroke: rgb(255, 127, 14); stroke-opacity: 1; fill: rgb(255, 127, 14); fill-opacity: 0.5;\"/><path class=\"violin\" d=\"M114.38,131.71Q114.43,130.31 114.47,129.61C114.51,128.91 114.55,128.21 114.62,127.51C114.69,126.81 114.77,126.11 114.88,125.41C114.99,124.71 115.11,124.01 115.27,123.31C115.43,122.61 115.62,121.91 115.84,121.22C116.06,120.52 116.31,119.81 116.59,119.12C116.87,118.41 117.19,117.72 117.52,117.02C117.86,116.32 118.22,115.62 118.59,114.92C118.96,114.22 119.34,113.52 119.72,112.82C120.1,112.12 120.48,111.43 120.85,110.73C121.22,110.03 121.59,109.33 121.95,108.63C122.31,107.93 122.66,107.23 122.99,106.53C123.31,105.83 123.63,105.14 123.9,104.43C124.16,103.74 124.41,103.04 124.58,102.33C124.74,101.64 124.86,100.93 124.9,100.23C124.94,99.53 124.9,98.83 124.81,98.14C124.71,97.44 124.52,96.73 124.32,96.04C124.12,95.33 123.84,94.64 123.59,93.94C123.33,93.24 123.04,92.54 122.79,91.84C122.54,91.14 122.3,90.44 122.11,89.74C121.92,89.05 121.75,88.35 121.64,87.65C121.53,86.95 121.46,86.25 121.43,85.55C121.4,84.85 121.41,84.15 121.44,83.45C121.47,82.75 121.55,82.05 121.61,81.35C121.67,80.65 121.75,79.95 121.78,79.25C121.81,78.55 121.86,77.85 121.82,77.15C121.78,76.45 121.71,75.75 121.56,75.06C121.41,74.35 121.18,73.65 120.91,72.96C120.63,72.25 120.28,71.55 119.92,70.86C119.55,70.15 119.12,69.46 118.71,68.76C118.3,68.06 117.86,67.37 117.47,66.66C117.08,65.97 116.7,65.27 116.38,64.56C116.07,63.87 115.78,63.17 115.55,62.47C115.32,61.78 115.13,61.07 114.98,60.37Q114.83,59.67 114.63,58.27L113.97,58.27Q113.77,59.67 113.62,60.37C113.47,61.07 113.28,61.78 113.05,62.47C112.82,63.17 112.53,63.87 112.22,64.56C111.9,65.27 111.52,65.97 111.13,66.66C110.74,67.37 110.3,68.06 109.89,68.76C109.48,69.46 109.05,70.15 108.68,70.86C108.32,71.55 107.97,72.25 107.69,72.96C107.42,73.65 107.19,74.35 107.04,75.06C106.89,75.75 106.82,76.45 106.78,77.15C106.74,77.85 106.79,78.55 106.82,79.25C106.85,79.95 106.93,80.65 106.99,81.35C107.05,82.05 107.13,82.75 107.16,83.45C107.19,84.15 107.2,84.85 107.17,85.55C107.14,86.25 107.07,86.95 106.96,87.65C106.85,88.35 106.68,89.05 106.49,89.74C106.3,90.44 106.06,91.14 105.81,91.84C105.56,92.54 105.27,93.24 105.01,93.94C104.76,94.64 104.48,95.33 104.28,96.04C104.08,96.73 103.89,97.44 103.79,98.14C103.7,98.83 103.66,99.53 103.7,100.23C103.74,100.93 103.86,101.64 104.02,102.33C104.19,103.04 104.44,103.74 104.7,104.43C104.97,105.14 105.29,105.83 105.61,106.53C105.94,107.23 106.29,107.93 106.65,108.63C107.01,109.33 107.38,110.03 107.75,110.73C108.12,111.43 108.5,112.12 108.88,112.82C109.26,113.52 109.64,114.22 110.01,114.92C110.38,115.62 110.74,116.32 111.08,117.02C111.41,117.72 111.73,118.41 112.01,119.12C112.29,119.81 112.54,120.52 112.76,121.22C112.98,121.91 113.17,122.61 113.33,123.31C113.49,124.01 113.61,124.71 113.72,125.41C113.83,126.11 113.91,126.81 113.98,127.51C114.05,128.21 114.09,128.91 114.13,129.61Q114.17,130.31 114.22,131.71Z\" style=\"vector-effect: non-scaling-stroke; stroke-width: 2px; stroke: rgb(255, 127, 14); stroke-opacity: 1; fill: rgb(255, 127, 14); fill-opacity: 0.5;\"/><path class=\"violin\" d=\"M190.94,76Q191.23,75.19 191.46,74.8C191.7,74.38 192.01,73.97 192.38,73.59C192.8,73.16 193.31,72.76 193.87,72.38C194.5,71.95 195.23,71.56 195.99,71.18C196.82,70.76 197.74,70.37 198.65,69.97C199.59,69.56 200.61,69.17 201.56,68.76C202.49,68.36 203.45,67.98 204.29,67.56C205.06,67.18 205.81,66.79 206.43,66.35C206.96,65.97 207.45,65.58 207.81,65.15C208.12,64.77 208.34,64.36 208.51,63.94C208.67,63.55 208.74,63.13 208.82,62.73C208.9,62.33 208.95,61.93 209.01,61.53C209.07,61.13 209.15,60.72 209.17,60.32C209.19,59.92 209.22,59.5 209.13,59.11C209.04,58.7 208.87,58.29 208.62,57.91C208.33,57.48 207.88,57.08 207.41,56.7C206.86,56.26 206.17,55.88 205.49,55.49C204.75,55.07 203.92,54.69 203.12,54.29C202.31,53.88 201.44,53.49 200.65,53.08C199.9,52.69 199.14,52.3 198.5,51.87C197.93,51.49 197.36,51.11 196.96,50.67C196.61,50.29 196.31,49.88 196.16,49.46C196.02,49.07 196.01,48.65 196.04,48.25C196.07,47.85 196.24,47.45 196.37,47.05C196.51,46.64 196.72,46.25 196.86,45.84C197,45.44 197.15,45.04 197.2,44.63C197.25,44.23 197.26,43.82 197.18,43.43C197.1,43.02 196.92,42.61 196.71,42.22C196.49,41.8 196.17,41.41 195.87,41.01C195.56,40.6 195.19,40.21 194.85,39.81C194.51,39.41 194.15,39.01 193.85,38.6C193.56,38.21 193.29,37.8 193.08,37.39C192.88,37 192.71,36.6 192.6,36.19C192.49,35.79 192.44,35.38 192.4,34.98C192.36,34.58 192.36,34.17 192.35,33.77C192.34,33.37 192.36,32.97 192.34,32.57C192.32,32.17 192.3,31.76 192.25,31.36C192.2,30.96 192.12,30.55 192.04,30.15C191.96,29.75 191.85,29.35 191.76,28.95C191.67,28.55 191.57,28.14 191.49,27.74C191.41,27.34 191.33,26.93 191.28,26.53C191.23,26.13 191.2,25.73 191.19,25.33C191.18,24.93 191.19,24.52 191.2,24.12C191.21,23.72 191.25,23.32 191.27,22.92C191.3,22.52 191.34,22.11 191.35,21.71C191.36,21.31 191.37,20.9 191.36,20.5C191.35,20.1 191.33,19.7 191.3,19.3C191.27,18.9 191.22,18.49 191.17,18.09C191.12,17.69 191.06,17.28 191.01,16.88C190.96,16.48 190.9,16.08 190.85,15.68C190.8,15.28 190.75,14.87 190.71,14.47Q190.67,14.07 190.62,13.26L190.38,13.26Q190.33,14.07 190.29,14.47C190.25,14.87 190.2,15.28 190.15,15.68C190.1,16.08 190.04,16.48 189.99,16.88C189.94,17.28 189.88,17.69 189.83,18.09C189.78,18.49 189.73,18.9 189.7,19.3C189.67,19.7 189.65,20.1 189.64,20.5C189.63,20.9 189.64,21.31 189.65,21.71C189.66,22.11 189.7,22.52 189.73,22.92C189.75,23.32 189.79,23.72 189.8,24.12C189.81,24.52 189.82,24.93 189.81,25.33C189.8,25.73 189.77,26.13 189.72,26.53C189.67,26.93 189.59,27.34 189.51,27.74C189.43,28.14 189.33,28.55 189.24,28.95C189.15,29.35 189.04,29.75 188.96,30.15C188.88,30.55 188.8,30.96 188.75,31.36C188.7,31.76 188.68,32.17 188.66,32.57C188.64,32.97 188.66,33.37 188.65,33.77C188.64,34.17 188.64,34.58 188.6,34.98C188.56,35.38 188.51,35.79 188.4,36.19C188.29,36.6 188.12,37 187.92,37.39C187.71,37.8 187.44,38.21 187.15,38.6C186.85,39.01 186.49,39.41 186.15,39.81C185.81,40.21 185.44,40.6 185.13,41.01C184.83,41.41 184.51,41.8 184.29,42.22C184.08,42.61 183.9,43.02 183.82,43.43C183.74,43.82 183.75,44.23 183.8,44.63C183.85,45.04 184,45.44 184.14,45.84C184.28,46.25 184.49,46.64 184.63,47.05C184.76,47.45 184.93,47.85 184.96,48.25C184.99,48.65 184.98,49.07 184.84,49.46C184.69,49.88 184.39,50.29 184.04,50.67C183.64,51.11 183.07,51.49 182.5,51.87C181.86,52.3 181.1,52.69 180.35,53.08C179.56,53.49 178.69,53.88 177.88,54.29C177.08,54.69 176.25,55.07 175.51,55.49C174.83,55.88 174.14,56.26 173.59,56.7C173.12,57.08 172.67,57.48 172.38,57.91C172.13,58.29 171.96,58.7 171.87,59.11C171.78,59.5 171.81,59.92 171.83,60.32C171.85,60.72 171.93,61.13 171.99,61.53C172.05,61.93 172.1,62.33 172.18,62.73C172.26,63.13 172.33,63.55 172.49,63.94C172.66,64.36 172.88,64.77 173.19,65.15C173.55,65.58 174.04,65.97 174.57,66.35C175.19,66.79 175.94,67.18 176.71,67.56C177.55,67.98 178.51,68.36 179.44,68.76C180.39,69.17 181.41,69.56 182.35,69.97C183.26,70.37 184.18,70.76 185.01,71.18C185.77,71.56 186.5,71.95 187.13,72.38C187.69,72.76 188.2,73.16 188.62,73.59C188.99,73.97 189.3,74.38 189.54,74.8Q189.77,75.19 190.06,76Z\" style=\"vector-effect: non-scaling-stroke; stroke-width: 2px; stroke: rgb(255, 127, 14); stroke-opacity: 1; fill: rgb(255, 127, 14); fill-opacity: 0.5;\"/><g class=\"points\"/><g class=\"points\"/><g class=\"points\"><path class=\"point\" transform=\"translate(190.5,32.04)\" d=\"M3,0A3,3 0 1,1 0,-3A3,3 0 0,1 3,0Z\" style=\"opacity: 1; stroke-width: 0px; fill: rgb(255, 127, 14); fill-opacity: 1;\"/><path class=\"point\" transform=\"translate(190.5,32.04)\" d=\"M3,0A3,3 0 1,1 0,-3A3,3 0 0,1 3,0Z\" style=\"opacity: 1; stroke-width: 0px; fill: rgb(255, 127, 14); fill-opacity: 1;\"/><path class=\"point\" transform=\"translate(190.5,20.6)\" d=\"M3,0A3,3 0 1,1 0,-3A3,3 0 0,1 3,0Z\" style=\"opacity: 1; stroke-width: 0px; fill: rgb(255, 127, 14); fill-opacity: 1;\"/></g></g></g></g><g class=\"overplot\"/><path class=\"xlines-above crisp\" d=\"M310.40000000000003,216.5H540\" style=\"fill: none; stroke-width: 1px; stroke: rgb(36, 36, 36); stroke-opacity: 1;\"/><path class=\"ylines-above crisp\" d=\"M310.90000000000003,10V216\" style=\"fill: none; stroke-width: 1px; stroke: rgb(36, 36, 36); stroke-opacity: 1;\"/><g class=\"overlines-above\"/><g class=\"xaxislayer-above\"><path class=\"x2tick ticks crisp\" d=\"M0,217v5\" transform=\"translate(349.50000000000006,0)\" style=\"stroke: rgb(68, 68, 68); stroke-opacity: 1; stroke-width: 1px;\"/><path class=\"x2tick ticks crisp\" d=\"M0,217v5\" transform=\"translate(425.70000000000005,0)\" style=\"stroke: rgb(68, 68, 68); stroke-opacity: 1; stroke-width: 1px;\"/><path class=\"x2tick ticks crisp\" d=\"M0,217v5\" transform=\"translate(501.90000000000003,0)\" style=\"stroke: rgb(68, 68, 68); stroke-opacity: 1; stroke-width: 1px;\"/><g class=\"x2tick\"><text text-anchor=\"middle\" x=\"0\" y=\"236.4\" transform=\"translate(349.50000000000006,0)\" style=\"font-family: 'Open Sans', verdana, arial, sans-serif; font-size: 12px; fill: rgb(36, 36, 36); fill-opacity: 1; white-space: pre; opacity: 1;\">small</text></g><g class=\"x2tick\"><text text-anchor=\"middle\" x=\"0\" y=\"236.4\" transform=\"translate(425.70000000000005,0)\" style=\"font-family: 'Open Sans', verdana, arial, sans-serif; font-size: 12px; fill: rgb(36, 36, 36); fill-opacity: 1; white-space: pre; opacity: 1;\">medium</text></g><g class=\"x2tick\"><text text-anchor=\"middle\" x=\"0\" y=\"236.4\" transform=\"translate(501.90000000000003,0)\" style=\"font-family: 'Open Sans', verdana, arial, sans-serif; font-size: 12px; fill: rgb(36, 36, 36); fill-opacity: 1; white-space: pre; opacity: 1;\">large</text></g></g><g class=\"yaxislayer-above\"><path class=\"y2tick ticks crisp\" d=\"M310.40000000000003,0h-5\" transform=\"translate(0,216)\" style=\"stroke: rgb(68, 68, 68); stroke-opacity: 1; stroke-width: 1px;\"/><path class=\"y2tick ticks crisp\" d=\"M310.40000000000003,0h-5\" transform=\"translate(0,170.22)\" style=\"stroke: rgb(68, 68, 68); stroke-opacity: 1; stroke-width: 1px;\"/><path class=\"y2tick ticks crisp\" d=\"M310.40000000000003,0h-5\" transform=\"translate(0,124.44)\" style=\"stroke: rgb(68, 68, 68); stroke-opacity: 1; stroke-width: 1px;\"/><path class=\"y2tick ticks crisp\" d=\"M310.40000000000003,0h-5\" transform=\"translate(0,78.67)\" style=\"stroke: rgb(68, 68, 68); stroke-opacity: 1; stroke-width: 1px;\"/><path class=\"y2tick ticks crisp\" d=\"M310.40000000000003,0h-5\" transform=\"translate(0,32.89)\" style=\"stroke: rgb(68, 68, 68); stroke-opacity: 1; stroke-width: 1px;\"/><g class=\"y2tick\"><text text-anchor=\"end\" x=\"303.00000000000006\" y=\"4.199999999999999\" transform=\"translate(0,216)\" style=\"font-family: 'Open Sans', verdana, arial, sans-serif; font-size: 12px; fill: rgb(36, 36, 36); fill-opacity: 1; white-space: pre; opacity: 1;\">0</text></g><g class=\"y2tick\"><text text-anchor=\"end\" x=\"303.00000000000006\" y=\"4.199999999999999\" style=\"font-family: 'Open Sans', verdana, arial, sans-serif; font-size: 12px; fill: rgb(36, 36, 36); fill-opacity: 1; white-space: pre; opacity: 1;\" transform=\"translate(0,170.22)\">20</text></g><g class=\"y2tick\"><text text-anchor=\"end\" x=\"303.00000000000006\" y=\"4.199999999999999\" style=\"font-family: 'Open Sans', verdana, arial, sans-serif; font-size: 12px; fill: rgb(36, 36, 36); fill-opacity: 1; white-space: pre; opacity: 1;\" transform=\"translate(0,124.44)\">40</text></g><g class=\"y2tick\"><text text-anchor=\"end\" x=\"303.00000000000006\" y=\"4.199999999999999\" style=\"font-family: 'Open Sans', verdana, arial, sans-serif; font-size: 12px; fill: rgb(36, 36, 36); fill-opacity: 1; white-space: pre; opacity: 1;\" transform=\"translate(0,78.67)\">60</text></g><g class=\"y2tick\"><text text-anchor=\"end\" x=\"303.00000000000006\" y=\"4.199999999999999\" style=\"font-family: 'Open Sans', verdana, arial, sans-serif; font-size: 12px; fill: rgb(36, 36, 36); fill-opacity: 1; white-space: pre; opacity: 1;\" transform=\"translate(0,32.89)\">80</text></g></g><g class=\"overaxes-above\"/></g></g><g class=\"polarlayer\"/><g class=\"smithlayer\"/><g class=\"ternarylayer\"/><g class=\"geolayer\"/><g class=\"funnelarealayer\"/><g class=\"pielayer\"/><g class=\"iciclelayer\"/><g class=\"treemaplayer\"/><g class=\"sunburstlayer\"/><g class=\"glimages\"/><defs id=\"topdefs-f0218a\"><g class=\"clips\"/></defs><g class=\"layer-above\"><g class=\"imagelayer\"/><g class=\"shapelayer\"/></g><g class=\"infolayer\"><g class=\"g-gtitle\"/><g class=\"g-xtitle\"/><g class=\"g-x2title\"/><g class=\"g-ytitle\"/><g class=\"g-y2title\"/></g></svg>"
      ]
     },
     "metadata": {},
     "output_type": "display_data"
    }
   ],
   "source": [
    "fig = make_subplots(rows=1, cols=2)\n",
    "\n",
    "fig.add_trace(go.Box(x=dogs['size'], y=dogs['height']), row=1, col=1)\n",
    "fig.add_trace(go.Violin(x=dogs['size'], y=dogs['height']), row=1, col=2)\n",
    "\n",
    "fig.update_yaxes(range=[0,90])\n",
    "fig.update_xaxes(categoryarray=[\"small\", \"medium\", \"large\"],\n",
    "                categoryorder = \"array\")\n",
    "fig.update_layout(showlegend=False,width=550, height=250)              \n",
    "fig.show()"
   ]
  },
  {
   "cell_type": "markdown",
   "metadata": {},
   "source": [
    "Also, the plot on the right\n",
    "is a violin plot of height for each size category. The violin\n",
    "plots sketch density curves along an axis for each group. A flipped version of\n",
    "the density curve is added to create a symmetric \"violin\". The violin plot aims\n",
    "to bridge the gap between the density curve and box plot."
   ]
  },
  {
   "cell_type": "markdown",
   "metadata": {},
   "source": [
    "Box plots (also known as box-and-whisker plots) give a visual summary\n",
    "of a few important statistics of a distribution.\n",
    "The box denotes the 25th percentile, median, and 75th percentile, the whiskers show the tails, and unusually large or small values are also plotted. \n",
    "Box plots cannot reveal as much shape of a distribution as a histogram or density curve.\n",
    "They primarily show symmetry and skew, long/short tails, and unusually\n",
    "large/small values.\n",
    "\n",
    "{numref}`Figure %s <box_plot>` is a visual explanation of the parts of a box\n",
    "plot. Asymmetry is evident from the median not in the middle of the box, the size of the tails are shown by the length of the whiskers, and outliers by the points that appear beyond the whiskers."
   ]
  },
  {
   "cell_type": "markdown",
   "metadata": {},
   "source": [
    "```{figure} figures/box_plot.svg\n",
    "---\n",
    "name: box_plot\n",
    "---\n",
    "\n",
    "Diagram of a box plot with the summary statistics labeled.\n",
    "```"
   ]
  },
  {
   "cell_type": "markdown",
   "metadata": {},
   "source": [
    "When we examine the relationship between two qualitative features, our focus is on proportions, as we explain next."
   ]
  },
  {
   "cell_type": "markdown",
   "metadata": {},
   "source": [
    "## Two Qualitative Features\n",
    "\n",
    "With two qualitative features, we often compare the distribution of one feature\n",
    "across subgroups defined by the second. In effect, we hold one feature constant\n",
    "and plot the distribution of the second. To do this, we can use some of the same plots\n",
    "we used to display the distribution of one qualitative feature, such as a line plot or \n",
    "bar plot, but put multiple lines and sets of bars in one figure.\n",
    "As an example, let's examine the relationship between the suitability of a breed for children and the size of the breed. "
   ]
  },
  {
   "cell_type": "markdown",
   "metadata": {},
   "source": [
    "To examine the relationship between these two qualitative features, we need to calculate three sets of\n",
    "proportions (one each for low, medium, and high suitability). \n",
    "Within each suitability category we find  the proportion of small, medium, and large dogs. \n",
    "These proportions are also displayed in following table. Notice that each row sums to 1 (equivalent to 100\\%)."
   ]
  },
  {
   "cell_type": "code",
   "execution_count": 6,
   "metadata": {
    "tags": [
     "remove-input"
    ]
   },
   "outputs": [
    {
     "data": {
      "text/html": [
       "<div>\n",
       "<style scoped>\n",
       "    .dataframe tbody tr th:only-of-type {\n",
       "        vertical-align: middle;\n",
       "    }\n",
       "\n",
       "    .dataframe tbody tr th {\n",
       "        vertical-align: top;\n",
       "    }\n",
       "\n",
       "    .dataframe thead th {\n",
       "        text-align: right;\n",
       "    }\n",
       "</style>\n",
       "<table border=\"1\" class=\"dataframe\">\n",
       "  <thead>\n",
       "    <tr style=\"text-align: right;\">\n",
       "      <th>kids</th>\n",
       "      <th>high</th>\n",
       "      <th>medium</th>\n",
       "      <th>low</th>\n",
       "    </tr>\n",
       "    <tr>\n",
       "      <th>size</th>\n",
       "      <th></th>\n",
       "      <th></th>\n",
       "      <th></th>\n",
       "    </tr>\n",
       "  </thead>\n",
       "  <tbody>\n",
       "    <tr>\n",
       "      <th>large</th>\n",
       "      <td>0.37</td>\n",
       "      <td>0.29</td>\n",
       "      <td>0.1</td>\n",
       "    </tr>\n",
       "    <tr>\n",
       "      <th>medium</th>\n",
       "      <td>0.36</td>\n",
       "      <td>0.34</td>\n",
       "      <td>0.2</td>\n",
       "    </tr>\n",
       "    <tr>\n",
       "      <th>small</th>\n",
       "      <td>0.27</td>\n",
       "      <td>0.37</td>\n",
       "      <td>0.7</td>\n",
       "    </tr>\n",
       "  </tbody>\n",
       "</table>\n",
       "</div>"
      ],
      "text/plain": [
       "kids    high  medium  low\n",
       "size                     \n",
       "large   0.37    0.29  0.1\n",
       "medium  0.36    0.34  0.2\n",
       "small   0.27    0.37  0.7"
      ]
     },
     "execution_count": 6,
     "metadata": {},
     "output_type": "execute_result"
    }
   ],
   "source": [
    "kids = (dogs['children'].replace({ 1.0: 'high', 2.0: 'medium', 3.0: 'low' }))\n",
    "\n",
    "def proportions(series):\n",
    "    return series / sum(series)\n",
    "\n",
    "counts = (dogs.assign(kids=kids)\n",
    " .groupby(['kids', 'size'])\n",
    " .size()\n",
    " .rename('count')\n",
    ")\n",
    "\n",
    "prop_table = (counts\n",
    " .unstack(level=1)\n",
    " .reindex(['high', 'medium', 'low'])\n",
    " .apply(proportions, axis=1)\n",
    ")\n",
    "\n",
    "prop_table_t= prop_table.transpose()\n",
    "prop_table_t"
   ]
  },
  {
   "cell_type": "markdown",
   "metadata": {},
   "source": [
    "The line plots below provide a visualization of these proportions.\n",
    "There is one \"line\" (set of connected dots) for each suitability level.\n",
    "Again, the connected dots give the breakdown of size within a suitability category.\n",
    "We see that breeds with low suitability for kids are primarily small."
   ]
  },
  {
   "cell_type": "code",
   "execution_count": 11,
   "metadata": {
    "tags": [
     "remove-input"
    ]
   },
   "outputs": [],
   "source": [
    "fig = px.line(prop_table_t, \n",
    "              y=prop_table_t.columns, \n",
    "              x=prop_table_t.index, markers=True)"
   ]
  },
  {
   "cell_type": "code",
   "execution_count": 12,
   "metadata": {
    "tags": [
     "remove-input"
    ]
   },
   "outputs": [
    {
     "data": {
      "application/vnd.plotly.v1+json": {
       "config": {
        "plotlyServerURL": "https://plot.ly"
       },
       "data": [
        {
         "hovertemplate": "kids=high<br>size=%{x}<br>value=%{y}<extra></extra>",
         "legendgroup": "high",
         "line": {
          "color": "#1F77B4",
          "dash": "solid"
         },
         "marker": {
          "symbol": "circle"
         },
         "mode": "lines+markers",
         "name": "high",
         "orientation": "v",
         "showlegend": true,
         "type": "scatter",
         "x": [
          "large",
          "medium",
          "small"
         ],
         "xaxis": "x",
         "y": [
          0.373134328358209,
          0.3582089552238806,
          0.26865671641791045
         ],
         "yaxis": "y"
        },
        {
         "hovertemplate": "kids=medium<br>size=%{x}<br>value=%{y}<extra></extra>",
         "legendgroup": "medium",
         "line": {
          "color": "#FF7F0E",
          "dash": "solid"
         },
         "marker": {
          "symbol": "circle"
         },
         "mode": "lines+markers",
         "name": "medium",
         "orientation": "v",
         "showlegend": true,
         "type": "scatter",
         "x": [
          "large",
          "medium",
          "small"
         ],
         "xaxis": "x",
         "y": [
          0.2857142857142857,
          0.34285714285714286,
          0.37142857142857144
         ],
         "yaxis": "y"
        },
        {
         "hovertemplate": "kids=low<br>size=%{x}<br>value=%{y}<extra></extra>",
         "legendgroup": "low",
         "line": {
          "color": "#2CA02C",
          "dash": "solid"
         },
         "marker": {
          "symbol": "circle"
         },
         "mode": "lines+markers",
         "name": "low",
         "orientation": "v",
         "showlegend": true,
         "type": "scatter",
         "x": [
          "large",
          "medium",
          "small"
         ],
         "xaxis": "x",
         "y": [
          0.1,
          0.2,
          0.7
         ],
         "yaxis": "y"
        }
       ],
       "layout": {
        "annotations": [
         {
          "showarrow": false,
          "text": "low",
          "x": 1.6,
          "y": 0.6
         },
         {
          "showarrow": false,
          "text": "medium",
          "x": 1.7,
          "y": 0.4
         },
         {
          "showarrow": false,
          "text": "high",
          "x": 1.7,
          "y": 0.25
         }
        ],
        "height": 250,
        "legend": {
         "title": {
          "text": "kids"
         },
         "tracegroupgap": 0
        },
        "showlegend": false,
        "template": {
         "data": {
          "bar": [
           {
            "error_x": {
             "color": "rgb(36,36,36)"
            },
            "error_y": {
             "color": "rgb(36,36,36)"
            },
            "marker": {
             "line": {
              "color": "white",
              "width": 0.5
             },
             "pattern": {
              "fillmode": "overlay",
              "size": 10,
              "solidity": 0.2
             }
            },
            "type": "bar"
           }
          ],
          "barpolar": [
           {
            "marker": {
             "line": {
              "color": "white",
              "width": 0.5
             },
             "pattern": {
              "fillmode": "overlay",
              "size": 10,
              "solidity": 0.2
             }
            },
            "type": "barpolar"
           }
          ],
          "carpet": [
           {
            "aaxis": {
             "endlinecolor": "rgb(36,36,36)",
             "gridcolor": "white",
             "linecolor": "white",
             "minorgridcolor": "white",
             "startlinecolor": "rgb(36,36,36)"
            },
            "baxis": {
             "endlinecolor": "rgb(36,36,36)",
             "gridcolor": "white",
             "linecolor": "white",
             "minorgridcolor": "white",
             "startlinecolor": "rgb(36,36,36)"
            },
            "type": "carpet"
           }
          ],
          "choropleth": [
           {
            "colorbar": {
             "outlinewidth": 1,
             "tickcolor": "rgb(36,36,36)",
             "ticks": "outside"
            },
            "type": "choropleth"
           }
          ],
          "contour": [
           {
            "colorbar": {
             "outlinewidth": 1,
             "tickcolor": "rgb(36,36,36)",
             "ticks": "outside"
            },
            "colorscale": [
             [
              0,
              "#440154"
             ],
             [
              0.1111111111111111,
              "#482878"
             ],
             [
              0.2222222222222222,
              "#3e4989"
             ],
             [
              0.3333333333333333,
              "#31688e"
             ],
             [
              0.4444444444444444,
              "#26828e"
             ],
             [
              0.5555555555555556,
              "#1f9e89"
             ],
             [
              0.6666666666666666,
              "#35b779"
             ],
             [
              0.7777777777777778,
              "#6ece58"
             ],
             [
              0.8888888888888888,
              "#b5de2b"
             ],
             [
              1,
              "#fde725"
             ]
            ],
            "type": "contour"
           }
          ],
          "contourcarpet": [
           {
            "colorbar": {
             "outlinewidth": 1,
             "tickcolor": "rgb(36,36,36)",
             "ticks": "outside"
            },
            "type": "contourcarpet"
           }
          ],
          "heatmap": [
           {
            "colorbar": {
             "outlinewidth": 1,
             "tickcolor": "rgb(36,36,36)",
             "ticks": "outside"
            },
            "colorscale": [
             [
              0,
              "#440154"
             ],
             [
              0.1111111111111111,
              "#482878"
             ],
             [
              0.2222222222222222,
              "#3e4989"
             ],
             [
              0.3333333333333333,
              "#31688e"
             ],
             [
              0.4444444444444444,
              "#26828e"
             ],
             [
              0.5555555555555556,
              "#1f9e89"
             ],
             [
              0.6666666666666666,
              "#35b779"
             ],
             [
              0.7777777777777778,
              "#6ece58"
             ],
             [
              0.8888888888888888,
              "#b5de2b"
             ],
             [
              1,
              "#fde725"
             ]
            ],
            "type": "heatmap"
           }
          ],
          "heatmapgl": [
           {
            "colorbar": {
             "outlinewidth": 1,
             "tickcolor": "rgb(36,36,36)",
             "ticks": "outside"
            },
            "colorscale": [
             [
              0,
              "#440154"
             ],
             [
              0.1111111111111111,
              "#482878"
             ],
             [
              0.2222222222222222,
              "#3e4989"
             ],
             [
              0.3333333333333333,
              "#31688e"
             ],
             [
              0.4444444444444444,
              "#26828e"
             ],
             [
              0.5555555555555556,
              "#1f9e89"
             ],
             [
              0.6666666666666666,
              "#35b779"
             ],
             [
              0.7777777777777778,
              "#6ece58"
             ],
             [
              0.8888888888888888,
              "#b5de2b"
             ],
             [
              1,
              "#fde725"
             ]
            ],
            "type": "heatmapgl"
           }
          ],
          "histogram": [
           {
            "marker": {
             "line": {
              "color": "white",
              "width": 0.6
             }
            },
            "type": "histogram"
           }
          ],
          "histogram2d": [
           {
            "colorbar": {
             "outlinewidth": 1,
             "tickcolor": "rgb(36,36,36)",
             "ticks": "outside"
            },
            "colorscale": [
             [
              0,
              "#440154"
             ],
             [
              0.1111111111111111,
              "#482878"
             ],
             [
              0.2222222222222222,
              "#3e4989"
             ],
             [
              0.3333333333333333,
              "#31688e"
             ],
             [
              0.4444444444444444,
              "#26828e"
             ],
             [
              0.5555555555555556,
              "#1f9e89"
             ],
             [
              0.6666666666666666,
              "#35b779"
             ],
             [
              0.7777777777777778,
              "#6ece58"
             ],
             [
              0.8888888888888888,
              "#b5de2b"
             ],
             [
              1,
              "#fde725"
             ]
            ],
            "type": "histogram2d"
           }
          ],
          "histogram2dcontour": [
           {
            "colorbar": {
             "outlinewidth": 1,
             "tickcolor": "rgb(36,36,36)",
             "ticks": "outside"
            },
            "colorscale": [
             [
              0,
              "#440154"
             ],
             [
              0.1111111111111111,
              "#482878"
             ],
             [
              0.2222222222222222,
              "#3e4989"
             ],
             [
              0.3333333333333333,
              "#31688e"
             ],
             [
              0.4444444444444444,
              "#26828e"
             ],
             [
              0.5555555555555556,
              "#1f9e89"
             ],
             [
              0.6666666666666666,
              "#35b779"
             ],
             [
              0.7777777777777778,
              "#6ece58"
             ],
             [
              0.8888888888888888,
              "#b5de2b"
             ],
             [
              1,
              "#fde725"
             ]
            ],
            "type": "histogram2dcontour"
           }
          ],
          "mesh3d": [
           {
            "colorbar": {
             "outlinewidth": 1,
             "tickcolor": "rgb(36,36,36)",
             "ticks": "outside"
            },
            "type": "mesh3d"
           }
          ],
          "parcoords": [
           {
            "line": {
             "colorbar": {
              "outlinewidth": 1,
              "tickcolor": "rgb(36,36,36)",
              "ticks": "outside"
             }
            },
            "type": "parcoords"
           }
          ],
          "pie": [
           {
            "automargin": true,
            "type": "pie"
           }
          ],
          "scatter": [
           {
            "marker": {
             "colorbar": {
              "outlinewidth": 1,
              "tickcolor": "rgb(36,36,36)",
              "ticks": "outside"
             }
            },
            "type": "scatter"
           }
          ],
          "scatter3d": [
           {
            "line": {
             "colorbar": {
              "outlinewidth": 1,
              "tickcolor": "rgb(36,36,36)",
              "ticks": "outside"
             }
            },
            "marker": {
             "colorbar": {
              "outlinewidth": 1,
              "tickcolor": "rgb(36,36,36)",
              "ticks": "outside"
             }
            },
            "type": "scatter3d"
           }
          ],
          "scattercarpet": [
           {
            "marker": {
             "colorbar": {
              "outlinewidth": 1,
              "tickcolor": "rgb(36,36,36)",
              "ticks": "outside"
             }
            },
            "type": "scattercarpet"
           }
          ],
          "scattergeo": [
           {
            "marker": {
             "colorbar": {
              "outlinewidth": 1,
              "tickcolor": "rgb(36,36,36)",
              "ticks": "outside"
             }
            },
            "type": "scattergeo"
           }
          ],
          "scattergl": [
           {
            "marker": {
             "colorbar": {
              "outlinewidth": 1,
              "tickcolor": "rgb(36,36,36)",
              "ticks": "outside"
             }
            },
            "type": "scattergl"
           }
          ],
          "scattermapbox": [
           {
            "marker": {
             "colorbar": {
              "outlinewidth": 1,
              "tickcolor": "rgb(36,36,36)",
              "ticks": "outside"
             }
            },
            "type": "scattermapbox"
           }
          ],
          "scatterpolar": [
           {
            "marker": {
             "colorbar": {
              "outlinewidth": 1,
              "tickcolor": "rgb(36,36,36)",
              "ticks": "outside"
             }
            },
            "type": "scatterpolar"
           }
          ],
          "scatterpolargl": [
           {
            "marker": {
             "colorbar": {
              "outlinewidth": 1,
              "tickcolor": "rgb(36,36,36)",
              "ticks": "outside"
             }
            },
            "type": "scatterpolargl"
           }
          ],
          "scatterternary": [
           {
            "marker": {
             "colorbar": {
              "outlinewidth": 1,
              "tickcolor": "rgb(36,36,36)",
              "ticks": "outside"
             }
            },
            "type": "scatterternary"
           }
          ],
          "surface": [
           {
            "colorbar": {
             "outlinewidth": 1,
             "tickcolor": "rgb(36,36,36)",
             "ticks": "outside"
            },
            "colorscale": [
             [
              0,
              "#440154"
             ],
             [
              0.1111111111111111,
              "#482878"
             ],
             [
              0.2222222222222222,
              "#3e4989"
             ],
             [
              0.3333333333333333,
              "#31688e"
             ],
             [
              0.4444444444444444,
              "#26828e"
             ],
             [
              0.5555555555555556,
              "#1f9e89"
             ],
             [
              0.6666666666666666,
              "#35b779"
             ],
             [
              0.7777777777777778,
              "#6ece58"
             ],
             [
              0.8888888888888888,
              "#b5de2b"
             ],
             [
              1,
              "#fde725"
             ]
            ],
            "type": "surface"
           }
          ],
          "table": [
           {
            "cells": {
             "fill": {
              "color": "rgb(237,237,237)"
             },
             "line": {
              "color": "white"
             }
            },
            "header": {
             "fill": {
              "color": "rgb(217,217,217)"
             },
             "line": {
              "color": "white"
             }
            },
            "type": "table"
           }
          ]
         },
         "layout": {
          "annotationdefaults": {
           "arrowhead": 0,
           "arrowwidth": 1
          },
          "autosize": true,
          "autotypenumbers": "strict",
          "coloraxis": {
           "colorbar": {
            "outlinewidth": 1,
            "tickcolor": "rgb(36,36,36)",
            "ticks": "outside"
           }
          },
          "colorscale": {
           "diverging": [
            [
             0,
             "rgb(103,0,31)"
            ],
            [
             0.1,
             "rgb(178,24,43)"
            ],
            [
             0.2,
             "rgb(214,96,77)"
            ],
            [
             0.3,
             "rgb(244,165,130)"
            ],
            [
             0.4,
             "rgb(253,219,199)"
            ],
            [
             0.5,
             "rgb(247,247,247)"
            ],
            [
             0.6,
             "rgb(209,229,240)"
            ],
            [
             0.7,
             "rgb(146,197,222)"
            ],
            [
             0.8,
             "rgb(67,147,195)"
            ],
            [
             0.9,
             "rgb(33,102,172)"
            ],
            [
             1,
             "rgb(5,48,97)"
            ]
           ],
           "sequential": [
            [
             0,
             "#440154"
            ],
            [
             0.1111111111111111,
             "#482878"
            ],
            [
             0.2222222222222222,
             "#3e4989"
            ],
            [
             0.3333333333333333,
             "#31688e"
            ],
            [
             0.4444444444444444,
             "#26828e"
            ],
            [
             0.5555555555555556,
             "#1f9e89"
            ],
            [
             0.6666666666666666,
             "#35b779"
            ],
            [
             0.7777777777777778,
             "#6ece58"
            ],
            [
             0.8888888888888888,
             "#b5de2b"
            ],
            [
             1,
             "#fde725"
            ]
           ],
           "sequentialminus": [
            [
             0,
             "#440154"
            ],
            [
             0.1111111111111111,
             "#482878"
            ],
            [
             0.2222222222222222,
             "#3e4989"
            ],
            [
             0.3333333333333333,
             "#31688e"
            ],
            [
             0.4444444444444444,
             "#26828e"
            ],
            [
             0.5555555555555556,
             "#1f9e89"
            ],
            [
             0.6666666666666666,
             "#35b779"
            ],
            [
             0.7777777777777778,
             "#6ece58"
            ],
            [
             0.8888888888888888,
             "#b5de2b"
            ],
            [
             1,
             "#fde725"
            ]
           ]
          },
          "colorway": [
           "#1F77B4",
           "#FF7F0E",
           "#2CA02C",
           "#D62728",
           "#9467BD",
           "#8C564B",
           "#E377C2",
           "#7F7F7F",
           "#BCBD22",
           "#17BECF"
          ],
          "font": {
           "color": "rgb(36,36,36)"
          },
          "geo": {
           "bgcolor": "white",
           "lakecolor": "white",
           "landcolor": "white",
           "showlakes": true,
           "showland": true,
           "subunitcolor": "white"
          },
          "height": 250,
          "hoverlabel": {
           "align": "left"
          },
          "hovermode": "closest",
          "mapbox": {
           "style": "light"
          },
          "margin": {
           "b": 10,
           "l": 10,
           "r": 10,
           "t": 10
          },
          "paper_bgcolor": "white",
          "plot_bgcolor": "white",
          "polar": {
           "angularaxis": {
            "gridcolor": "rgb(232,232,232)",
            "linecolor": "rgb(36,36,36)",
            "showgrid": false,
            "showline": true,
            "ticks": "outside"
           },
           "bgcolor": "white",
           "radialaxis": {
            "gridcolor": "rgb(232,232,232)",
            "linecolor": "rgb(36,36,36)",
            "showgrid": false,
            "showline": true,
            "ticks": "outside"
           }
          },
          "scene": {
           "xaxis": {
            "backgroundcolor": "white",
            "gridcolor": "rgb(232,232,232)",
            "gridwidth": 2,
            "linecolor": "rgb(36,36,36)",
            "showbackground": true,
            "showgrid": false,
            "showline": true,
            "ticks": "outside",
            "zeroline": false,
            "zerolinecolor": "rgb(36,36,36)"
           },
           "yaxis": {
            "backgroundcolor": "white",
            "gridcolor": "rgb(232,232,232)",
            "gridwidth": 2,
            "linecolor": "rgb(36,36,36)",
            "showbackground": true,
            "showgrid": false,
            "showline": true,
            "ticks": "outside",
            "zeroline": false,
            "zerolinecolor": "rgb(36,36,36)"
           },
           "zaxis": {
            "backgroundcolor": "white",
            "gridcolor": "rgb(232,232,232)",
            "gridwidth": 2,
            "linecolor": "rgb(36,36,36)",
            "showbackground": true,
            "showgrid": false,
            "showline": true,
            "ticks": "outside",
            "zeroline": false,
            "zerolinecolor": "rgb(36,36,36)"
           }
          },
          "shapedefaults": {
           "fillcolor": "black",
           "line": {
            "width": 0
           },
           "opacity": 0.3
          },
          "ternary": {
           "aaxis": {
            "gridcolor": "rgb(232,232,232)",
            "linecolor": "rgb(36,36,36)",
            "showgrid": false,
            "showline": true,
            "ticks": "outside"
           },
           "baxis": {
            "gridcolor": "rgb(232,232,232)",
            "linecolor": "rgb(36,36,36)",
            "showgrid": false,
            "showline": true,
            "ticks": "outside"
           },
           "bgcolor": "white",
           "caxis": {
            "gridcolor": "rgb(232,232,232)",
            "linecolor": "rgb(36,36,36)",
            "showgrid": false,
            "showline": true,
            "ticks": "outside"
           }
          },
          "title": {
           "x": 0.5,
           "xanchor": "center"
          },
          "width": 350,
          "xaxis": {
           "automargin": true,
           "gridcolor": "rgb(232,232,232)",
           "linecolor": "rgb(36,36,36)",
           "showgrid": true,
           "showline": true,
           "ticks": "outside",
           "title": {
            "standoff": 15
           },
           "zeroline": false,
           "zerolinecolor": "rgb(36,36,36)"
          },
          "yaxis": {
           "automargin": true,
           "gridcolor": "rgb(232,232,232)",
           "linecolor": "rgb(36,36,36)",
           "showgrid": true,
           "showline": true,
           "ticks": "outside",
           "title": {
            "standoff": 15
           },
           "zeroline": false,
           "zerolinecolor": "rgb(36,36,36)"
          }
         }
        },
        "width": 400,
        "xaxis": {
         "anchor": "y",
         "autorange": true,
         "domain": [
          0,
          1
         ],
         "range": [
          -0.13989637305699482,
          2.139896373056995
         ],
         "title": {
          "text": "size"
         },
         "type": "category"
        },
        "yaxis": {
         "anchor": "x",
         "autorange": true,
         "domain": [
          0,
          1
         ],
         "range": [
          0.05057915057915058,
          0.7494208494208494
         ],
         "title": {
          "text": "value"
         },
         "type": "linear"
        }
       }
      },
      "image/png": "[encoded data removed]",
      "image/svg+xml": [
       "<svg class=\"main-svg\" xmlns=\"http://www.w3.org/2000/svg\" xmlns:xlink=\"http://www.w3.org/1999/xlink\" width=\"400\" height=\"250\" style=\"\" viewBox=\"0 0 400 250\"><rect x=\"0\" y=\"0\" width=\"400\" height=\"250\" style=\"fill: rgb(255, 255, 255); fill-opacity: 1;\"/><defs id=\"defs-4dce84\"><g class=\"clips\"><clipPath id=\"clip4dce84xyplot\" class=\"plotclip\"><rect width=\"330\" height=\"181\"/></clipPath><clipPath class=\"axesclip\" id=\"clip4dce84x\"><rect x=\"60\" y=\"0\" width=\"330\" height=\"250\"/></clipPath><clipPath class=\"axesclip\" id=\"clip4dce84y\"><rect x=\"0\" y=\"10\" width=\"400\" height=\"181\"/></clipPath><clipPath class=\"axesclip\" id=\"clip4dce84xy\"><rect x=\"60\" y=\"10\" width=\"330\" height=\"181\"/></clipPath></g><g class=\"gradients\"/><g class=\"patterns\"/></defs><g class=\"bglayer\"/><g class=\"layer-below\"><g class=\"imagelayer\"/><g class=\"shapelayer\"/></g><g class=\"cartesianlayer\"><g class=\"subplot xy\"><g class=\"layer-subplot\"><g class=\"shapelayer\"/><g class=\"imagelayer\"/></g><g class=\"gridlayer\"><g class=\"x\"><path class=\"xgrid crisp\" transform=\"translate(80.25,0)\" d=\"M0,10v181\" style=\"stroke: rgb(232, 232, 232); stroke-opacity: 1; stroke-width: 1px;\"/><path class=\"xgrid crisp\" transform=\"translate(225,0)\" d=\"M0,10v181\" style=\"stroke: rgb(232, 232, 232); stroke-opacity: 1; stroke-width: 1px;\"/><path class=\"xgrid crisp\" transform=\"translate(369.75,0)\" d=\"M0,10v181\" style=\"stroke: rgb(232, 232, 232); stroke-opacity: 1; stroke-width: 1px;\"/></g><g class=\"y\"><path class=\"ygrid crisp\" transform=\"translate(0,152.3)\" d=\"M60,0h330\" style=\"stroke: rgb(232, 232, 232); stroke-opacity: 1; stroke-width: 1px;\"/><path class=\"ygrid crisp\" transform=\"translate(0,100.5)\" d=\"M60,0h330\" style=\"stroke: rgb(232, 232, 232); stroke-opacity: 1; stroke-width: 1px;\"/><path class=\"ygrid crisp\" transform=\"translate(0,48.7)\" d=\"M60,0h330\" style=\"stroke: rgb(232, 232, 232); stroke-opacity: 1; stroke-width: 1px;\"/></g></g><g class=\"zerolinelayer\"/><path class=\"xlines-below\"/><path class=\"ylines-below\"/><g class=\"overlines-below\"/><g class=\"xaxislayer-below\"/><g class=\"yaxislayer-below\"/><g class=\"overaxes-below\"/><g class=\"plot\" transform=\"translate(60,10)\" clip-path=\"url(#clip4dce84xyplot)\"><g class=\"scatterlayer mlayer\"><g class=\"trace scatter tracedfee12\" style=\"stroke-miterlimit: 2; opacity: 1;\"><g class=\"fills\"/><g class=\"errorbars\"/><g class=\"lines\"><path class=\"js-line\" d=\"M20.25,97.46L165,101.32L309.75,124.52\" style=\"vector-effect: non-scaling-stroke; fill: none; stroke: rgb(31, 119, 180); stroke-opacity: 1; stroke-width: 2px; opacity: 1;\"/></g><g class=\"points\"><path class=\"point\" transform=\"translate(20.25,97.46)\" d=\"M3,0A3,3 0 1,1 0,-3A3,3 0 0,1 3,0Z\" style=\"opacity: 1; stroke-width: 0px; fill: rgb(31, 119, 180); fill-opacity: 1;\"/><path class=\"point\" transform=\"translate(165,101.32)\" d=\"M3,0A3,3 0 1,1 0,-3A3,3 0 0,1 3,0Z\" style=\"opacity: 1; stroke-width: 0px; fill: rgb(31, 119, 180); fill-opacity: 1;\"/><path class=\"point\" transform=\"translate(309.75,124.52)\" d=\"M3,0A3,3 0 1,1 0,-3A3,3 0 0,1 3,0Z\" style=\"opacity: 1; stroke-width: 0px; fill: rgb(31, 119, 180); fill-opacity: 1;\"/></g><g class=\"text\"/></g><g class=\"trace scatter trace212d95\" style=\"stroke-miterlimit: 2; opacity: 1;\"><g class=\"fills\"/><g class=\"errorbars\"/><g class=\"lines\"><path class=\"js-line\" d=\"M20.25,120.1L165,105.3L309.75,97.9\" style=\"vector-effect: non-scaling-stroke; fill: none; stroke: rgb(255, 127, 14); stroke-opacity: 1; stroke-width: 2px; opacity: 1;\"/></g><g class=\"points\"><path class=\"point\" transform=\"translate(20.25,120.1)\" d=\"M3,0A3,3 0 1,1 0,-3A3,3 0 0,1 3,0Z\" style=\"opacity: 1; stroke-width: 0px; fill: rgb(255, 127, 14); fill-opacity: 1;\"/><path class=\"point\" transform=\"translate(165,105.3)\" d=\"M3,0A3,3 0 1,1 0,-3A3,3 0 0,1 3,0Z\" style=\"opacity: 1; stroke-width: 0px; fill: rgb(255, 127, 14); fill-opacity: 1;\"/><path class=\"point\" transform=\"translate(309.75,97.9)\" d=\"M3,0A3,3 0 1,1 0,-3A3,3 0 0,1 3,0Z\" style=\"opacity: 1; stroke-width: 0px; fill: rgb(255, 127, 14); fill-opacity: 1;\"/></g><g class=\"text\"/></g><g class=\"trace scatter tracee30c1c\" style=\"stroke-miterlimit: 2; opacity: 1;\"><g class=\"fills\"/><g class=\"errorbars\"/><g class=\"lines\"><path class=\"js-line\" d=\"M20.25,168.2L165,142.3L309.75,12.8\" style=\"vector-effect: non-scaling-stroke; fill: none; stroke: rgb(44, 160, 44); stroke-opacity: 1; stroke-width: 2px; opacity: 1;\"/></g><g class=\"points\"><path class=\"point\" transform=\"translate(20.25,168.2)\" d=\"M3,0A3,3 0 1,1 0,-3A3,3 0 0,1 3,0Z\" style=\"opacity: 1; stroke-width: 0px; fill: rgb(44, 160, 44); fill-opacity: 1;\"/><path class=\"point\" transform=\"translate(165,142.3)\" d=\"M3,0A3,3 0 1,1 0,-3A3,3 0 0,1 3,0Z\" style=\"opacity: 1; stroke-width: 0px; fill: rgb(44, 160, 44); fill-opacity: 1;\"/><path class=\"point\" transform=\"translate(309.75,12.8)\" d=\"M3,0A3,3 0 1,1 0,-3A3,3 0 0,1 3,0Z\" style=\"opacity: 1; stroke-width: 0px; fill: rgb(44, 160, 44); fill-opacity: 1;\"/></g><g class=\"text\"/></g></g></g><g class=\"overplot\"/><path class=\"xlines-above crisp\" d=\"M59,191.5H390\" style=\"fill: none; stroke-width: 1px; stroke: rgb(36, 36, 36); stroke-opacity: 1;\"/><path class=\"ylines-above crisp\" d=\"M59.5,10V191\" style=\"fill: none; stroke-width: 1px; stroke: rgb(36, 36, 36); stroke-opacity: 1;\"/><g class=\"overlines-above\"/><g class=\"xaxislayer-above\"><path class=\"xtick ticks crisp\" d=\"M0,192v5\" transform=\"translate(80.25,0)\" style=\"stroke: rgb(68, 68, 68); stroke-opacity: 1; stroke-width: 1px;\"/><path class=\"xtick ticks crisp\" d=\"M0,192v5\" transform=\"translate(225,0)\" style=\"stroke: rgb(68, 68, 68); stroke-opacity: 1; stroke-width: 1px;\"/><path class=\"xtick ticks crisp\" d=\"M0,192v5\" transform=\"translate(369.75,0)\" style=\"stroke: rgb(68, 68, 68); stroke-opacity: 1; stroke-width: 1px;\"/><g class=\"xtick\"><text text-anchor=\"middle\" x=\"0\" y=\"211.4\" transform=\"translate(80.25,0)\" style=\"font-family: 'Open Sans', verdana, arial, sans-serif; font-size: 12px; fill: rgb(36, 36, 36); fill-opacity: 1; white-space: pre; opacity: 1;\">large</text></g><g class=\"xtick\"><text text-anchor=\"middle\" x=\"0\" y=\"211.4\" transform=\"translate(225,0)\" style=\"font-family: 'Open Sans', verdana, arial, sans-serif; font-size: 12px; fill: rgb(36, 36, 36); fill-opacity: 1; white-space: pre; opacity: 1;\">medium</text></g><g class=\"xtick\"><text text-anchor=\"middle\" x=\"0\" y=\"211.4\" transform=\"translate(369.75,0)\" style=\"font-family: 'Open Sans', verdana, arial, sans-serif; font-size: 12px; fill: rgb(36, 36, 36); fill-opacity: 1; white-space: pre; opacity: 1;\">small</text></g></g><g class=\"yaxislayer-above\"><path class=\"ytick ticks crisp\" d=\"M59,0h-5\" transform=\"translate(0,152.3)\" style=\"stroke: rgb(68, 68, 68); stroke-opacity: 1; stroke-width: 1px;\"/><path class=\"ytick ticks crisp\" d=\"M59,0h-5\" transform=\"translate(0,100.5)\" style=\"stroke: rgb(68, 68, 68); stroke-opacity: 1; stroke-width: 1px;\"/><path class=\"ytick ticks crisp\" d=\"M59,0h-5\" transform=\"translate(0,48.7)\" style=\"stroke: rgb(68, 68, 68); stroke-opacity: 1; stroke-width: 1px;\"/><g class=\"ytick\"><text text-anchor=\"end\" x=\"51.6\" y=\"4.199999999999999\" transform=\"translate(0,152.3)\" style=\"font-family: 'Open Sans', verdana, arial, sans-serif; font-size: 12px; fill: rgb(36, 36, 36); fill-opacity: 1; white-space: pre; opacity: 1;\">0.2</text></g><g class=\"ytick\"><text text-anchor=\"end\" x=\"51.6\" y=\"4.199999999999999\" style=\"font-family: 'Open Sans', verdana, arial, sans-serif; font-size: 12px; fill: rgb(36, 36, 36); fill-opacity: 1; white-space: pre; opacity: 1;\" transform=\"translate(0,100.5)\">0.4</text></g><g class=\"ytick\"><text text-anchor=\"end\" x=\"51.6\" y=\"4.199999999999999\" style=\"font-family: 'Open Sans', verdana, arial, sans-serif; font-size: 12px; fill: rgb(36, 36, 36); fill-opacity: 1; white-space: pre; opacity: 1;\" transform=\"translate(0,48.7)\">0.6</text></g></g><g class=\"overaxes-above\"/></g></g><g class=\"polarlayer\"/><g class=\"smithlayer\"/><g class=\"ternarylayer\"/><g class=\"geolayer\"/><g class=\"funnelarealayer\"/><g class=\"pielayer\"/><g class=\"iciclelayer\"/><g class=\"treemaplayer\"/><g class=\"sunburstlayer\"/><g class=\"glimages\"/><defs id=\"topdefs-4dce84\"><g class=\"clips\"/></defs><g class=\"layer-above\"><g class=\"imagelayer\"/><g class=\"shapelayer\"/></g><g class=\"infolayer\"><g class=\"g-gtitle\"/><g class=\"g-xtitle\"><text class=\"xtitle\" x=\"225\" y=\"239.70625\" text-anchor=\"middle\" style=\"font-family: 'Open Sans', verdana, arial, sans-serif; font-size: 14px; fill: rgb(36, 36, 36); opacity: 1; font-weight: normal; white-space: pre;\">size</text></g><g class=\"g-ytitle\" transform=\"translate(5.1279296875,0)\"><text class=\"ytitle\" transform=\"rotate(-90,9.871875000000003,100.5)\" x=\"9.871875000000003\" y=\"100.5\" text-anchor=\"middle\" style=\"font-family: 'Open Sans', verdana, arial, sans-serif; font-size: 14px; fill: rgb(36, 36, 36); opacity: 1; font-weight: normal; white-space: pre;\">value</text></g><g class=\"annotation\" data-index=\"0\" style=\"opacity: 1;\"><g class=\"annotation-text-g\" transform=\"rotate(0,311.85,48.7)\"><g class=\"cursor-pointer\" transform=\"translate(300,38)\"><rect class=\"bg\" x=\"0.5\" y=\"0.5\" width=\"23\" height=\"20\" style=\"stroke-width: 1px; stroke: rgb(0, 0, 0); stroke-opacity: 0; fill: rgb(0, 0, 0); fill-opacity: 0;\"/><text class=\"annotation-text\" text-anchor=\"middle\" x=\"11.8125\" y=\"15\" style=\"font-family: 'Open Sans', verdana, arial, sans-serif; font-size: 12px; fill: rgb(36, 36, 36); fill-opacity: 1; white-space: pre;\">low</text></g></g></g><g class=\"annotation\" data-index=\"1\" style=\"opacity: 1;\"><g class=\"annotation-text-g\" transform=\"rotate(0,326.33,100.5)\"><g class=\"cursor-pointer\" transform=\"translate(301,90)\"><rect class=\"bg\" x=\"0.5\" y=\"0.5\" width=\"50\" height=\"20\" style=\"stroke-width: 1px; stroke: rgb(0, 0, 0); stroke-opacity: 0; fill: rgb(0, 0, 0); fill-opacity: 0;\"/><text class=\"annotation-text\" text-anchor=\"middle\" x=\"25.40625\" y=\"15\" style=\"font-family: 'Open Sans', verdana, arial, sans-serif; font-size: 12px; fill: rgb(36, 36, 36); fill-opacity: 1; white-space: pre;\">medium</text></g></g></g><g class=\"annotation\" data-index=\"2\" style=\"opacity: 1;\"><g class=\"annotation-text-g\" transform=\"rotate(0,326.33,139.35)\"><g class=\"cursor-pointer\" transform=\"translate(312,129)\"><rect class=\"bg\" x=\"0.5\" y=\"0.5\" width=\"27\" height=\"20\" style=\"stroke-width: 1px; stroke: rgb(0, 0, 0); stroke-opacity: 0; fill: rgb(0, 0, 0); fill-opacity: 0;\"/><text class=\"annotation-text\" text-anchor=\"middle\" x=\"14.171875\" y=\"15\" style=\"font-family: 'Open Sans', verdana, arial, sans-serif; font-size: 12px; fill: rgb(36, 36, 36); fill-opacity: 1; white-space: pre;\">high</text></g></g></g></g></svg>"
      ]
     },
     "metadata": {},
     "output_type": "display_data"
    }
   ],
   "source": [
    "fig.add_annotation(x=1.6, y=0.6, text=\"low\",\n",
    "            showarrow=False)\n",
    "fig.add_annotation(x=1.7, y=0.4, text=\"medium\",\n",
    "            showarrow=False)\n",
    "fig.add_annotation(x=1.7, y=0.25, text=\"high\",\n",
    "            showarrow=False)\n",
    "\n",
    "fig.update_layout(showlegend=False, width=400, height=250)\n",
    "fig.show()"
   ]
  },
  {
   "cell_type": "markdown",
   "metadata": {},
   "source": [
    "We can also present these proportions as a collection of side-by-side bar plots as shown here."
   ]
  },
  {
   "cell_type": "code",
   "execution_count": 13,
   "metadata": {
    "tags": [
     "remove-input"
    ]
   },
   "outputs": [],
   "source": [
    "fig = px.bar(prop_table, y=prop_table.columns, x=prop_table.index,\n",
    "            barmode='group')"
   ]
  },
  {
   "cell_type": "code",
   "execution_count": 14,
   "metadata": {
    "tags": [
     "remove-input"
    ]
   },
   "outputs": [
    {
     "data": {
      "application/vnd.plotly.v1+json": {
       "config": {
        "plotlyServerURL": "https://plot.ly"
       },
       "data": [
        {
         "alignmentgroup": "True",
         "hovertemplate": "size=large<br>kids=%{x}<br>value=%{y}<extra></extra>",
         "legendgroup": "large",
         "marker": {
          "color": "#1F77B4",
          "pattern": {
           "shape": ""
          }
         },
         "name": "large",
         "offsetgroup": "large",
         "orientation": "v",
         "showlegend": true,
         "textposition": "auto",
         "type": "bar",
         "x": [
          "high",
          "medium",
          "low"
         ],
         "xaxis": "x",
         "y": [
          0.373134328358209,
          0.2857142857142857,
          0.1
         ],
         "yaxis": "y"
        },
        {
         "alignmentgroup": "True",
         "hovertemplate": "size=medium<br>kids=%{x}<br>value=%{y}<extra></extra>",
         "legendgroup": "medium",
         "marker": {
          "color": "#FF7F0E",
          "pattern": {
           "shape": ""
          }
         },
         "name": "medium",
         "offsetgroup": "medium",
         "orientation": "v",
         "showlegend": true,
         "textposition": "auto",
         "type": "bar",
         "x": [
          "high",
          "medium",
          "low"
         ],
         "xaxis": "x",
         "y": [
          0.3582089552238806,
          0.34285714285714286,
          0.2
         ],
         "yaxis": "y"
        },
        {
         "alignmentgroup": "True",
         "hovertemplate": "size=small<br>kids=%{x}<br>value=%{y}<extra></extra>",
         "legendgroup": "small",
         "marker": {
          "color": "#2CA02C",
          "pattern": {
           "shape": ""
          }
         },
         "name": "small",
         "offsetgroup": "small",
         "orientation": "v",
         "showlegend": true,
         "textposition": "auto",
         "type": "bar",
         "x": [
          "high",
          "medium",
          "low"
         ],
         "xaxis": "x",
         "y": [
          0.26865671641791045,
          0.37142857142857144,
          0.7
         ],
         "yaxis": "y"
        }
       ],
       "layout": {
        "barmode": "group",
        "height": 250,
        "legend": {
         "title": {
          "text": "size"
         },
         "tracegroupgap": 0
        },
        "showlegend": false,
        "template": {
         "data": {
          "bar": [
           {
            "error_x": {
             "color": "rgb(36,36,36)"
            },
            "error_y": {
             "color": "rgb(36,36,36)"
            },
            "marker": {
             "line": {
              "color": "white",
              "width": 0.5
             },
             "pattern": {
              "fillmode": "overlay",
              "size": 10,
              "solidity": 0.2
             }
            },
            "type": "bar"
           }
          ],
          "barpolar": [
           {
            "marker": {
             "line": {
              "color": "white",
              "width": 0.5
             },
             "pattern": {
              "fillmode": "overlay",
              "size": 10,
              "solidity": 0.2
             }
            },
            "type": "barpolar"
           }
          ],
          "carpet": [
           {
            "aaxis": {
             "endlinecolor": "rgb(36,36,36)",
             "gridcolor": "white",
             "linecolor": "white",
             "minorgridcolor": "white",
             "startlinecolor": "rgb(36,36,36)"
            },
            "baxis": {
             "endlinecolor": "rgb(36,36,36)",
             "gridcolor": "white",
             "linecolor": "white",
             "minorgridcolor": "white",
             "startlinecolor": "rgb(36,36,36)"
            },
            "type": "carpet"
           }
          ],
          "choropleth": [
           {
            "colorbar": {
             "outlinewidth": 1,
             "tickcolor": "rgb(36,36,36)",
             "ticks": "outside"
            },
            "type": "choropleth"
           }
          ],
          "contour": [
           {
            "colorbar": {
             "outlinewidth": 1,
             "tickcolor": "rgb(36,36,36)",
             "ticks": "outside"
            },
            "colorscale": [
             [
              0,
              "#440154"
             ],
             [
              0.1111111111111111,
              "#482878"
             ],
             [
              0.2222222222222222,
              "#3e4989"
             ],
             [
              0.3333333333333333,
              "#31688e"
             ],
             [
              0.4444444444444444,
              "#26828e"
             ],
             [
              0.5555555555555556,
              "#1f9e89"
             ],
             [
              0.6666666666666666,
              "#35b779"
             ],
             [
              0.7777777777777778,
              "#6ece58"
             ],
             [
              0.8888888888888888,
              "#b5de2b"
             ],
             [
              1,
              "#fde725"
             ]
            ],
            "type": "contour"
           }
          ],
          "contourcarpet": [
           {
            "colorbar": {
             "outlinewidth": 1,
             "tickcolor": "rgb(36,36,36)",
             "ticks": "outside"
            },
            "type": "contourcarpet"
           }
          ],
          "heatmap": [
           {
            "colorbar": {
             "outlinewidth": 1,
             "tickcolor": "rgb(36,36,36)",
             "ticks": "outside"
            },
            "colorscale": [
             [
              0,
              "#440154"
             ],
             [
              0.1111111111111111,
              "#482878"
             ],
             [
              0.2222222222222222,
              "#3e4989"
             ],
             [
              0.3333333333333333,
              "#31688e"
             ],
             [
              0.4444444444444444,
              "#26828e"
             ],
             [
              0.5555555555555556,
              "#1f9e89"
             ],
             [
              0.6666666666666666,
              "#35b779"
             ],
             [
              0.7777777777777778,
              "#6ece58"
             ],
             [
              0.8888888888888888,
              "#b5de2b"
             ],
             [
              1,
              "#fde725"
             ]
            ],
            "type": "heatmap"
           }
          ],
          "heatmapgl": [
           {
            "colorbar": {
             "outlinewidth": 1,
             "tickcolor": "rgb(36,36,36)",
             "ticks": "outside"
            },
            "colorscale": [
             [
              0,
              "#440154"
             ],
             [
              0.1111111111111111,
              "#482878"
             ],
             [
              0.2222222222222222,
              "#3e4989"
             ],
             [
              0.3333333333333333,
              "#31688e"
             ],
             [
              0.4444444444444444,
              "#26828e"
             ],
             [
              0.5555555555555556,
              "#1f9e89"
             ],
             [
              0.6666666666666666,
              "#35b779"
             ],
             [
              0.7777777777777778,
              "#6ece58"
             ],
             [
              0.8888888888888888,
              "#b5de2b"
             ],
             [
              1,
              "#fde725"
             ]
            ],
            "type": "heatmapgl"
           }
          ],
          "histogram": [
           {
            "marker": {
             "line": {
              "color": "white",
              "width": 0.6
             }
            },
            "type": "histogram"
           }
          ],
          "histogram2d": [
           {
            "colorbar": {
             "outlinewidth": 1,
             "tickcolor": "rgb(36,36,36)",
             "ticks": "outside"
            },
            "colorscale": [
             [
              0,
              "#440154"
             ],
             [
              0.1111111111111111,
              "#482878"
             ],
             [
              0.2222222222222222,
              "#3e4989"
             ],
             [
              0.3333333333333333,
              "#31688e"
             ],
             [
              0.4444444444444444,
              "#26828e"
             ],
             [
              0.5555555555555556,
              "#1f9e89"
             ],
             [
              0.6666666666666666,
              "#35b779"
             ],
             [
              0.7777777777777778,
              "#6ece58"
             ],
             [
              0.8888888888888888,
              "#b5de2b"
             ],
             [
              1,
              "#fde725"
             ]
            ],
            "type": "histogram2d"
           }
          ],
          "histogram2dcontour": [
           {
            "colorbar": {
             "outlinewidth": 1,
             "tickcolor": "rgb(36,36,36)",
             "ticks": "outside"
            },
            "colorscale": [
             [
              0,
              "#440154"
             ],
             [
              0.1111111111111111,
              "#482878"
             ],
             [
              0.2222222222222222,
              "#3e4989"
             ],
             [
              0.3333333333333333,
              "#31688e"
             ],
             [
              0.4444444444444444,
              "#26828e"
             ],
             [
              0.5555555555555556,
              "#1f9e89"
             ],
             [
              0.6666666666666666,
              "#35b779"
             ],
             [
              0.7777777777777778,
              "#6ece58"
             ],
             [
              0.8888888888888888,
              "#b5de2b"
             ],
             [
              1,
              "#fde725"
             ]
            ],
            "type": "histogram2dcontour"
           }
          ],
          "mesh3d": [
           {
            "colorbar": {
             "outlinewidth": 1,
             "tickcolor": "rgb(36,36,36)",
             "ticks": "outside"
            },
            "type": "mesh3d"
           }
          ],
          "parcoords": [
           {
            "line": {
             "colorbar": {
              "outlinewidth": 1,
              "tickcolor": "rgb(36,36,36)",
              "ticks": "outside"
             }
            },
            "type": "parcoords"
           }
          ],
          "pie": [
           {
            "automargin": true,
            "type": "pie"
           }
          ],
          "scatter": [
           {
            "marker": {
             "colorbar": {
              "outlinewidth": 1,
              "tickcolor": "rgb(36,36,36)",
              "ticks": "outside"
             }
            },
            "type": "scatter"
           }
          ],
          "scatter3d": [
           {
            "line": {
             "colorbar": {
              "outlinewidth": 1,
              "tickcolor": "rgb(36,36,36)",
              "ticks": "outside"
             }
            },
            "marker": {
             "colorbar": {
              "outlinewidth": 1,
              "tickcolor": "rgb(36,36,36)",
              "ticks": "outside"
             }
            },
            "type": "scatter3d"
           }
          ],
          "scattercarpet": [
           {
            "marker": {
             "colorbar": {
              "outlinewidth": 1,
              "tickcolor": "rgb(36,36,36)",
              "ticks": "outside"
             }
            },
            "type": "scattercarpet"
           }
          ],
          "scattergeo": [
           {
            "marker": {
             "colorbar": {
              "outlinewidth": 1,
              "tickcolor": "rgb(36,36,36)",
              "ticks": "outside"
             }
            },
            "type": "scattergeo"
           }
          ],
          "scattergl": [
           {
            "marker": {
             "colorbar": {
              "outlinewidth": 1,
              "tickcolor": "rgb(36,36,36)",
              "ticks": "outside"
             }
            },
            "type": "scattergl"
           }
          ],
          "scattermapbox": [
           {
            "marker": {
             "colorbar": {
              "outlinewidth": 1,
              "tickcolor": "rgb(36,36,36)",
              "ticks": "outside"
             }
            },
            "type": "scattermapbox"
           }
          ],
          "scatterpolar": [
           {
            "marker": {
             "colorbar": {
              "outlinewidth": 1,
              "tickcolor": "rgb(36,36,36)",
              "ticks": "outside"
             }
            },
            "type": "scatterpolar"
           }
          ],
          "scatterpolargl": [
           {
            "marker": {
             "colorbar": {
              "outlinewidth": 1,
              "tickcolor": "rgb(36,36,36)",
              "ticks": "outside"
             }
            },
            "type": "scatterpolargl"
           }
          ],
          "scatterternary": [
           {
            "marker": {
             "colorbar": {
              "outlinewidth": 1,
              "tickcolor": "rgb(36,36,36)",
              "ticks": "outside"
             }
            },
            "type": "scatterternary"
           }
          ],
          "surface": [
           {
            "colorbar": {
             "outlinewidth": 1,
             "tickcolor": "rgb(36,36,36)",
             "ticks": "outside"
            },
            "colorscale": [
             [
              0,
              "#440154"
             ],
             [
              0.1111111111111111,
              "#482878"
             ],
             [
              0.2222222222222222,
              "#3e4989"
             ],
             [
              0.3333333333333333,
              "#31688e"
             ],
             [
              0.4444444444444444,
              "#26828e"
             ],
             [
              0.5555555555555556,
              "#1f9e89"
             ],
             [
              0.6666666666666666,
              "#35b779"
             ],
             [
              0.7777777777777778,
              "#6ece58"
             ],
             [
              0.8888888888888888,
              "#b5de2b"
             ],
             [
              1,
              "#fde725"
             ]
            ],
            "type": "surface"
           }
          ],
          "table": [
           {
            "cells": {
             "fill": {
              "color": "rgb(237,237,237)"
             },
             "line": {
              "color": "white"
             }
            },
            "header": {
             "fill": {
              "color": "rgb(217,217,217)"
             },
             "line": {
              "color": "white"
             }
            },
            "type": "table"
           }
          ]
         },
         "layout": {
          "annotationdefaults": {
           "arrowhead": 0,
           "arrowwidth": 1
          },
          "autosize": true,
          "autotypenumbers": "strict",
          "coloraxis": {
           "colorbar": {
            "outlinewidth": 1,
            "tickcolor": "rgb(36,36,36)",
            "ticks": "outside"
           }
          },
          "colorscale": {
           "diverging": [
            [
             0,
             "rgb(103,0,31)"
            ],
            [
             0.1,
             "rgb(178,24,43)"
            ],
            [
             0.2,
             "rgb(214,96,77)"
            ],
            [
             0.3,
             "rgb(244,165,130)"
            ],
            [
             0.4,
             "rgb(253,219,199)"
            ],
            [
             0.5,
             "rgb(247,247,247)"
            ],
            [
             0.6,
             "rgb(209,229,240)"
            ],
            [
             0.7,
             "rgb(146,197,222)"
            ],
            [
             0.8,
             "rgb(67,147,195)"
            ],
            [
             0.9,
             "rgb(33,102,172)"
            ],
            [
             1,
             "rgb(5,48,97)"
            ]
           ],
           "sequential": [
            [
             0,
             "#440154"
            ],
            [
             0.1111111111111111,
             "#482878"
            ],
            [
             0.2222222222222222,
             "#3e4989"
            ],
            [
             0.3333333333333333,
             "#31688e"
            ],
            [
             0.4444444444444444,
             "#26828e"
            ],
            [
             0.5555555555555556,
             "#1f9e89"
            ],
            [
             0.6666666666666666,
             "#35b779"
            ],
            [
             0.7777777777777778,
             "#6ece58"
            ],
            [
             0.8888888888888888,
             "#b5de2b"
            ],
            [
             1,
             "#fde725"
            ]
           ],
           "sequentialminus": [
            [
             0,
             "#440154"
            ],
            [
             0.1111111111111111,
             "#482878"
            ],
            [
             0.2222222222222222,
             "#3e4989"
            ],
            [
             0.3333333333333333,
             "#31688e"
            ],
            [
             0.4444444444444444,
             "#26828e"
            ],
            [
             0.5555555555555556,
             "#1f9e89"
            ],
            [
             0.6666666666666666,
             "#35b779"
            ],
            [
             0.7777777777777778,
             "#6ece58"
            ],
            [
             0.8888888888888888,
             "#b5de2b"
            ],
            [
             1,
             "#fde725"
            ]
           ]
          },
          "colorway": [
           "#1F77B4",
           "#FF7F0E",
           "#2CA02C",
           "#D62728",
           "#9467BD",
           "#8C564B",
           "#E377C2",
           "#7F7F7F",
           "#BCBD22",
           "#17BECF"
          ],
          "font": {
           "color": "rgb(36,36,36)"
          },
          "geo": {
           "bgcolor": "white",
           "lakecolor": "white",
           "landcolor": "white",
           "showlakes": true,
           "showland": true,
           "subunitcolor": "white"
          },
          "height": 250,
          "hoverlabel": {
           "align": "left"
          },
          "hovermode": "closest",
          "mapbox": {
           "style": "light"
          },
          "margin": {
           "b": 10,
           "l": 10,
           "r": 10,
           "t": 10
          },
          "paper_bgcolor": "white",
          "plot_bgcolor": "white",
          "polar": {
           "angularaxis": {
            "gridcolor": "rgb(232,232,232)",
            "linecolor": "rgb(36,36,36)",
            "showgrid": false,
            "showline": true,
            "ticks": "outside"
           },
           "bgcolor": "white",
           "radialaxis": {
            "gridcolor": "rgb(232,232,232)",
            "linecolor": "rgb(36,36,36)",
            "showgrid": false,
            "showline": true,
            "ticks": "outside"
           }
          },
          "scene": {
           "xaxis": {
            "backgroundcolor": "white",
            "gridcolor": "rgb(232,232,232)",
            "gridwidth": 2,
            "linecolor": "rgb(36,36,36)",
            "showbackground": true,
            "showgrid": false,
            "showline": true,
            "ticks": "outside",
            "zeroline": false,
            "zerolinecolor": "rgb(36,36,36)"
           },
           "yaxis": {
            "backgroundcolor": "white",
            "gridcolor": "rgb(232,232,232)",
            "gridwidth": 2,
            "linecolor": "rgb(36,36,36)",
            "showbackground": true,
            "showgrid": false,
            "showline": true,
            "ticks": "outside",
            "zeroline": false,
            "zerolinecolor": "rgb(36,36,36)"
           },
           "zaxis": {
            "backgroundcolor": "white",
            "gridcolor": "rgb(232,232,232)",
            "gridwidth": 2,
            "linecolor": "rgb(36,36,36)",
            "showbackground": true,
            "showgrid": false,
            "showline": true,
            "ticks": "outside",
            "zeroline": false,
            "zerolinecolor": "rgb(36,36,36)"
           }
          },
          "shapedefaults": {
           "fillcolor": "black",
           "line": {
            "width": 0
           },
           "opacity": 0.3
          },
          "ternary": {
           "aaxis": {
            "gridcolor": "rgb(232,232,232)",
            "linecolor": "rgb(36,36,36)",
            "showgrid": false,
            "showline": true,
            "ticks": "outside"
           },
           "baxis": {
            "gridcolor": "rgb(232,232,232)",
            "linecolor": "rgb(36,36,36)",
            "showgrid": false,
            "showline": true,
            "ticks": "outside"
           },
           "bgcolor": "white",
           "caxis": {
            "gridcolor": "rgb(232,232,232)",
            "linecolor": "rgb(36,36,36)",
            "showgrid": false,
            "showline": true,
            "ticks": "outside"
           }
          },
          "title": {
           "x": 0.5,
           "xanchor": "center"
          },
          "width": 350,
          "xaxis": {
           "automargin": true,
           "gridcolor": "rgb(232,232,232)",
           "linecolor": "rgb(36,36,36)",
           "showgrid": true,
           "showline": true,
           "ticks": "outside",
           "title": {
            "standoff": 15
           },
           "zeroline": false,
           "zerolinecolor": "rgb(36,36,36)"
          },
          "yaxis": {
           "automargin": true,
           "gridcolor": "rgb(232,232,232)",
           "linecolor": "rgb(36,36,36)",
           "showgrid": true,
           "showline": true,
           "ticks": "outside",
           "title": {
            "standoff": 15
           },
           "zeroline": false,
           "zerolinecolor": "rgb(36,36,36)"
          }
         }
        },
        "width": 400,
        "xaxis": {
         "anchor": "y",
         "autorange": true,
         "domain": [
          0,
          1
         ],
         "range": [
          -0.5,
          2.5
         ],
         "title": {
          "text": "kids"
         },
         "type": "category"
        },
        "yaxis": {
         "anchor": "x",
         "autorange": true,
         "domain": [
          0,
          1
         ],
         "range": [
          0,
          0.7368421052631579
         ],
         "title": {
          "text": "value"
         },
         "type": "linear"
        }
       }
      },
      "image/png": "[encoded data removed]",
      "image/svg+xml": [
       "<svg class=\"main-svg\" xmlns=\"http://www.w3.org/2000/svg\" xmlns:xlink=\"http://www.w3.org/1999/xlink\" width=\"400\" height=\"250\" style=\"\" viewBox=\"0 0 400 250\"><rect x=\"0\" y=\"0\" width=\"400\" height=\"250\" style=\"fill: rgb(255, 255, 255); fill-opacity: 1;\"/><defs id=\"defs-993ed8\"><g class=\"clips\"><clipPath id=\"clip993ed8xyplot\" class=\"plotclip\"><rect width=\"330\" height=\"181\"/></clipPath><clipPath class=\"axesclip\" id=\"clip993ed8x\"><rect x=\"60\" y=\"0\" width=\"330\" height=\"250\"/></clipPath><clipPath class=\"axesclip\" id=\"clip993ed8y\"><rect x=\"0\" y=\"10\" width=\"400\" height=\"181\"/></clipPath><clipPath class=\"axesclip\" id=\"clip993ed8xy\"><rect x=\"60\" y=\"10\" width=\"330\" height=\"181\"/></clipPath></g><g class=\"gradients\"/><g class=\"patterns\"/></defs><g class=\"bglayer\"/><g class=\"layer-below\"><g class=\"imagelayer\"/><g class=\"shapelayer\"/></g><g class=\"cartesianlayer\"><g class=\"subplot xy\"><g class=\"layer-subplot\"><g class=\"shapelayer\"/><g class=\"imagelayer\"/></g><g class=\"gridlayer\"><g class=\"x\"><path class=\"xgrid crisp\" transform=\"translate(115,0)\" d=\"M0,10v181\" style=\"stroke: rgb(232, 232, 232); stroke-opacity: 1; stroke-width: 1px;\"/><path class=\"xgrid crisp\" transform=\"translate(225,0)\" d=\"M0,10v181\" style=\"stroke: rgb(232, 232, 232); stroke-opacity: 1; stroke-width: 1px;\"/><path class=\"xgrid crisp\" transform=\"translate(335,0)\" d=\"M0,10v181\" style=\"stroke: rgb(232, 232, 232); stroke-opacity: 1; stroke-width: 1px;\"/></g><g class=\"y\"><path class=\"ygrid crisp\" transform=\"translate(0,141.87)\" d=\"M60,0h330\" style=\"stroke: rgb(232, 232, 232); stroke-opacity: 1; stroke-width: 1px;\"/><path class=\"ygrid crisp\" transform=\"translate(0,92.74)\" d=\"M60,0h330\" style=\"stroke: rgb(232, 232, 232); stroke-opacity: 1; stroke-width: 1px;\"/><path class=\"ygrid crisp\" transform=\"translate(0,43.61)\" d=\"M60,0h330\" style=\"stroke: rgb(232, 232, 232); stroke-opacity: 1; stroke-width: 1px;\"/></g></g><g class=\"zerolinelayer\"/><path class=\"xlines-below\"/><path class=\"ylines-below\"/><g class=\"overlines-below\"/><g class=\"xaxislayer-below\"/><g class=\"yaxislayer-below\"/><g class=\"overaxes-below\"/><g class=\"plot\" transform=\"translate(60,10)\" clip-path=\"url(#clip993ed8xyplot)\"><g class=\"barlayer mlayer\"><g class=\"trace bars\" style=\"opacity: 1;\"><g class=\"points\"><g class=\"point\"><path d=\"M11,181V89.34H40.33V181Z\" style=\"vector-effect: non-scaling-stroke; opacity: 1; stroke-width: 0.5px; fill: rgb(31, 119, 180); fill-opacity: 1; stroke: rgb(255, 255, 255); stroke-opacity: 1;\"/></g><g class=\"point\"><path d=\"M121,181V110.82H150.33V181Z\" style=\"vector-effect: non-scaling-stroke; opacity: 1; stroke-width: 0.5px; fill: rgb(31, 119, 180); fill-opacity: 1; stroke: rgb(255, 255, 255); stroke-opacity: 1;\"/></g><g class=\"point\"><path d=\"M231,181V156.44H260.33V181Z\" style=\"vector-effect: non-scaling-stroke; opacity: 1; stroke-width: 0.5px; fill: rgb(31, 119, 180); fill-opacity: 1; stroke: rgb(255, 255, 255); stroke-opacity: 1;\"/></g></g></g><g class=\"trace bars\" style=\"opacity: 1;\"><g class=\"points\"><g class=\"point\"><path d=\"M40.33,181V93.01H69.67V181Z\" style=\"vector-effect: non-scaling-stroke; opacity: 1; stroke-width: 0.5px; fill: rgb(255, 127, 14); fill-opacity: 1; stroke: rgb(255, 255, 255); stroke-opacity: 1;\"/></g><g class=\"point\"><path d=\"M150.33,181V96.78H179.67V181Z\" style=\"vector-effect: non-scaling-stroke; opacity: 1; stroke-width: 0.5px; fill: rgb(255, 127, 14); fill-opacity: 1; stroke: rgb(255, 255, 255); stroke-opacity: 1;\"/></g><g class=\"point\"><path d=\"M260.33,181V131.87H289.67V181Z\" style=\"vector-effect: non-scaling-stroke; opacity: 1; stroke-width: 0.5px; fill: rgb(255, 127, 14); fill-opacity: 1; stroke: rgb(255, 255, 255); stroke-opacity: 1;\"/></g></g></g><g class=\"trace bars\" style=\"opacity: 1;\"><g class=\"points\"><g class=\"point\"><path d=\"M69.67,181V115.01H99V181Z\" style=\"vector-effect: non-scaling-stroke; opacity: 1; stroke-width: 0.5px; fill: rgb(44, 160, 44); fill-opacity: 1; stroke: rgb(255, 255, 255); stroke-opacity: 1;\"/></g><g class=\"point\"><path d=\"M179.67,181V89.76H209V181Z\" style=\"vector-effect: non-scaling-stroke; opacity: 1; stroke-width: 0.5px; fill: rgb(44, 160, 44); fill-opacity: 1; stroke: rgb(255, 255, 255); stroke-opacity: 1;\"/></g><g class=\"point\"><path d=\"M289.67,181V9.05H319V181Z\" style=\"vector-effect: non-scaling-stroke; opacity: 1; stroke-width: 0.5px; fill: rgb(44, 160, 44); fill-opacity: 1; stroke: rgb(255, 255, 255); stroke-opacity: 1;\"/></g></g></g></g></g><g class=\"overplot\"/><path class=\"xlines-above crisp\" d=\"M59,191.5H390\" style=\"fill: none; stroke-width: 1px; stroke: rgb(36, 36, 36); stroke-opacity: 1;\"/><path class=\"ylines-above crisp\" d=\"M59.5,10V191\" style=\"fill: none; stroke-width: 1px; stroke: rgb(36, 36, 36); stroke-opacity: 1;\"/><g class=\"overlines-above\"/><g class=\"xaxislayer-above\"><path class=\"xtick ticks crisp\" d=\"M0,192v5\" transform=\"translate(115,0)\" style=\"stroke: rgb(68, 68, 68); stroke-opacity: 1; stroke-width: 1px;\"/><path class=\"xtick ticks crisp\" d=\"M0,192v5\" transform=\"translate(225,0)\" style=\"stroke: rgb(68, 68, 68); stroke-opacity: 1; stroke-width: 1px;\"/><path class=\"xtick ticks crisp\" d=\"M0,192v5\" transform=\"translate(335,0)\" style=\"stroke: rgb(68, 68, 68); stroke-opacity: 1; stroke-width: 1px;\"/><g class=\"xtick\"><text text-anchor=\"middle\" x=\"0\" y=\"211.4\" transform=\"translate(115,0)\" style=\"font-family: 'Open Sans', verdana, arial, sans-serif; font-size: 12px; fill: rgb(36, 36, 36); fill-opacity: 1; white-space: pre; opacity: 1;\">high</text></g><g class=\"xtick\"><text text-anchor=\"middle\" x=\"0\" y=\"211.4\" transform=\"translate(225,0)\" style=\"font-family: 'Open Sans', verdana, arial, sans-serif; font-size: 12px; fill: rgb(36, 36, 36); fill-opacity: 1; white-space: pre; opacity: 1;\">medium</text></g><g class=\"xtick\"><text text-anchor=\"middle\" x=\"0\" y=\"211.4\" transform=\"translate(335,0)\" style=\"font-family: 'Open Sans', verdana, arial, sans-serif; font-size: 12px; fill: rgb(36, 36, 36); fill-opacity: 1; white-space: pre; opacity: 1;\">low</text></g></g><g class=\"yaxislayer-above\"><path class=\"ytick ticks crisp\" d=\"M59,0h-5\" transform=\"translate(0,191)\" style=\"stroke: rgb(68, 68, 68); stroke-opacity: 1; stroke-width: 1px;\"/><path class=\"ytick ticks crisp\" d=\"M59,0h-5\" transform=\"translate(0,141.87)\" style=\"stroke: rgb(68, 68, 68); stroke-opacity: 1; stroke-width: 1px;\"/><path class=\"ytick ticks crisp\" d=\"M59,0h-5\" transform=\"translate(0,92.74)\" style=\"stroke: rgb(68, 68, 68); stroke-opacity: 1; stroke-width: 1px;\"/><path class=\"ytick ticks crisp\" d=\"M59,0h-5\" transform=\"translate(0,43.61)\" style=\"stroke: rgb(68, 68, 68); stroke-opacity: 1; stroke-width: 1px;\"/><g class=\"ytick\"><text text-anchor=\"end\" x=\"51.6\" y=\"4.199999999999999\" transform=\"translate(0,191)\" style=\"font-family: 'Open Sans', verdana, arial, sans-serif; font-size: 12px; fill: rgb(36, 36, 36); fill-opacity: 1; white-space: pre; opacity: 1;\">0</text></g><g class=\"ytick\"><text text-anchor=\"end\" x=\"51.6\" y=\"4.199999999999999\" style=\"font-family: 'Open Sans', verdana, arial, sans-serif; font-size: 12px; fill: rgb(36, 36, 36); fill-opacity: 1; white-space: pre; opacity: 1;\" transform=\"translate(0,141.87)\">0.2</text></g><g class=\"ytick\"><text text-anchor=\"end\" x=\"51.6\" y=\"4.199999999999999\" style=\"font-family: 'Open Sans', verdana, arial, sans-serif; font-size: 12px; fill: rgb(36, 36, 36); fill-opacity: 1; white-space: pre; opacity: 1;\" transform=\"translate(0,92.74)\">0.4</text></g><g class=\"ytick\"><text text-anchor=\"end\" x=\"51.6\" y=\"4.199999999999999\" style=\"font-family: 'Open Sans', verdana, arial, sans-serif; font-size: 12px; fill: rgb(36, 36, 36); fill-opacity: 1; white-space: pre; opacity: 1;\" transform=\"translate(0,43.61)\">0.6</text></g></g><g class=\"overaxes-above\"/></g></g><g class=\"polarlayer\"/><g class=\"smithlayer\"/><g class=\"ternarylayer\"/><g class=\"geolayer\"/><g class=\"funnelarealayer\"/><g class=\"pielayer\"/><g class=\"iciclelayer\"/><g class=\"treemaplayer\"/><g class=\"sunburstlayer\"/><g class=\"glimages\"/><defs id=\"topdefs-993ed8\"><g class=\"clips\"/></defs><g class=\"layer-above\"><g class=\"imagelayer\"/><g class=\"shapelayer\"/></g><g class=\"infolayer\"><g class=\"g-gtitle\"/><g class=\"g-xtitle\"><text class=\"xtitle\" x=\"225\" y=\"239.70625\" text-anchor=\"middle\" style=\"font-family: 'Open Sans', verdana, arial, sans-serif; font-size: 14px; fill: rgb(36, 36, 36); opacity: 1; font-weight: normal; white-space: pre;\">kids</text></g><g class=\"g-ytitle\" transform=\"translate(5.1279296875,0)\"><text class=\"ytitle\" transform=\"rotate(-90,9.871875000000003,100.5)\" x=\"9.871875000000003\" y=\"100.5\" text-anchor=\"middle\" style=\"font-family: 'Open Sans', verdana, arial, sans-serif; font-size: 14px; fill: rgb(36, 36, 36); opacity: 1; font-weight: normal; white-space: pre;\">value</text></g></g></svg>"
      ]
     },
     "metadata": {},
     "output_type": "display_data"
    }
   ],
   "source": [
    "fig.update_layout(showlegend=False, width=400, height=250)\n",
    "fig.show()"
   ]
  },
  {
   "cell_type": "markdown",
   "metadata": {},
   "source": [
    "We've covered exploratory visualizations that incorporate one or two features.\n",
    "In the next section, we discuss visualizations that incorporate more than two features."
   ]
  }
 ],
 "metadata": {
  "celltoolbar": "Tags",
  "kernelspec": {
   "display_name": "Python 3",
   "language": "python",
   "name": "python3"
  },
  "language_info": {
   "codemirror_mode": {
    "name": "ipython",
    "version": 3
   },
   "file_extension": ".py",
   "mimetype": "text/x-python",
   "name": "python",
   "nbconvert_exporter": "python",
   "pygments_lexer": "ipython3",
   "version": "3.9.4"
  }
 },
 "nbformat": 4,
 "nbformat_minor": 4
}
