{
 "cells": [
  {
   "cell_type": "code",
   "execution_count": 1,
   "metadata": {
    "tags": [
     "remove-cell"
    ]
   },
   "outputs": [],
   "source": [
    "import sys\n",
    "import os\n",
    "if not any(path.endswith('textbook') for path in sys.path):\n",
    "    sys.path.append(os.path.abspath('../../..'))\n",
    "from textbook_utils import *"
   ]
  },
  {
   "cell_type": "code",
   "execution_count": 2,
   "metadata": {
    "tags": [
     "remove-cell"
    ]
   },
   "outputs": [],
   "source": [
    "dogs = pd.read_csv('data/akc.csv')\n",
    "\n",
    "kids = {1:\"high\", 2:\"medium\", 3:\"low\"}\n",
    "dogs[\"kids\"] = dogs['children'].map(kids)"
   ]
  },
  {
   "cell_type": "markdown",
   "metadata": {
    "user_expressions": []
   },
   "source": [
    "(sec:eda_relationships)=\n",
    "# What to Look For in a Relationship"
   ]
  },
  {
   "cell_type": "markdown",
   "metadata": {
    "user_expressions": []
   },
   "source": [
    "When we investigate multiple variables, we examine the relationships between\n",
    "them, in addition to their distributions. In this section, we\n",
    "consider pairs of features and describe what to look for.\n",
    "{numref}`Table %s <feature-plot>` provides guidelines for the type of plot to make\n",
    "based on the feature types. \n",
    "For two features, the combination of types (both quantitative, both qualitative, or a mix) matters.\n",
    "We consider each combination in turn."
   ]
  },
  {
   "cell_type": "markdown",
   "metadata": {
    "user_expressions": []
   },
   "source": [
    "## Two Quantitative Features\n",
    "\n",
    "If both features are quantitative, then we often\n",
    "examine their relationship with a scatter plot.\n",
    "Each point in a scatter plot\n",
    "marks the position of a pair of values for an observation.\n",
    "So we can think of a scatter plot as a two-dimensional rug plot."
   ]
  },
  {
   "cell_type": "markdown",
   "metadata": {
    "user_expressions": []
   },
   "source": [
    "With scatter plots, we look for linear and simple nonlinear relationships, and we examine the strength of the relationships.\n",
    "We also look to see if a transformation of one or the other or both features leads to a linear relationship."
   ]
  },
  {
   "cell_type": "markdown",
   "metadata": {
    "user_expressions": []
   },
   "source": [
    "The following scatter plot displays the weight and height of dog breeds (both are\n",
    "quantitative):"
   ]
  },
  {
   "cell_type": "code",
   "execution_count": 3,
   "metadata": {
    "tags": []
   },
   "outputs": [
    {
     "data": {
      "application/vnd.plotly.v1+json": {
       "config": {
        "plotlyServerURL": "https://plot.ly"
       },
       "data": [
        {
         "hovertemplate": "Height (cm)=%{x}<br>Weight (kg)=%{y}<extra></extra>",
         "legendgroup": "",
         "marker": {
          "color": "#1F77B4",
          "symbol": "circle"
         },
         "mode": "markers",
         "name": "",
         "orientation": "v",
         "showlegend": false,
         "type": "scatter",
         "x": [
          51,
          null,
          48,
          25,
          46,
          41,
          37,
          24,
          47,
          37,
          55,
          27,
          26,
          null,
          33,
          13,
          27,
          51,
          50,
          27,
          null,
          41,
          27,
          61,
          65,
          25,
          58,
          23,
          null,
          25,
          52,
          null,
          66,
          58,
          null,
          58,
          54,
          36,
          60,
          39,
          64,
          62,
          41,
          62,
          24,
          59,
          null,
          66,
          25,
          61,
          32,
          53,
          36,
          42,
          36,
          38,
          65,
          28,
          47,
          23,
          58,
          65,
          null,
          25,
          62,
          47,
          66,
          69,
          61,
          null,
          56,
          66,
          65,
          null,
          71,
          64,
          55,
          59,
          61,
          47,
          64,
          81,
          65,
          76,
          76,
          67,
          null,
          58,
          62,
          36,
          58,
          46,
          42,
          71,
          53,
          65,
          61,
          61,
          64,
          71,
          61,
          41,
          55,
          64,
          29,
          29,
          30,
          48,
          61,
          64,
          61,
          47,
          44,
          47,
          45,
          47,
          61,
          34,
          72,
          66,
          51,
          25,
          64,
          44,
          62,
          46,
          57,
          24,
          44,
          70,
          71,
          37,
          72,
          33,
          null,
          30,
          29,
          70,
          44,
          51,
          34,
          25,
          48,
          65,
          34,
          36,
          57,
          47,
          51,
          42,
          46,
          61,
          29,
          null,
          27,
          38,
          24,
          25,
          38,
          46,
          62,
          47,
          36,
          32,
          64,
          25,
          57,
          64,
          38,
          38,
          56,
          42
         ],
         "xaxis": "x",
         "y": [
          null,
          6,
          16,
          6,
          null,
          14,
          11,
          null,
          null,
          10.15,
          22,
          7,
          null,
          11,
          7,
          2,
          null,
          null,
          20,
          null,
          9,
          null,
          null,
          28,
          27,
          5,
          31,
          2,
          2,
          6,
          null,
          2,
          29,
          null,
          4,
          27,
          null,
          null,
          31,
          11,
          28,
          null,
          7,
          null,
          5,
          null,
          null,
          null,
          5,
          null,
          7,
          null,
          null,
          10,
          null,
          14,
          null,
          12,
          32,
          10,
          null,
          35,
          29,
          9,
          null,
          17,
          25,
          57,
          null,
          6,
          null,
          null,
          35,
          12,
          37,
          null,
          27,
          null,
          36,
          null,
          39,
          null,
          52,
          79,
          null,
          70,
          20,
          null,
          null,
          null,
          null,
          null,
          16,
          52,
          null,
          null,
          null,
          null,
          null,
          null,
          28,
          null,
          20,
          null,
          14,
          9,
          null,
          24,
          28,
          null,
          null,
          null,
          null,
          null,
          null,
          null,
          null,
          16,
          null,
          null,
          null,
          null,
          null,
          null,
          null,
          12,
          25,
          null,
          null,
          45,
          42,
          8,
          null,
          null,
          8,
          null,
          null,
          59,
          15,
          23,
          null,
          5,
          null,
          44,
          7,
          null,
          23,
          null,
          22,
          null,
          null,
          null,
          null,
          42,
          11,
          9,
          5,
          18,
          8,
          16,
          null,
          null,
          18,
          null,
          null,
          null,
          null,
          null,
          9,
          8,
          null,
          null
         ],
         "yaxis": "y"
        },
        {
         "alignmentgroup": "True",
         "boxpoints": "all",
         "fillcolor": "rgba(255,255,255,0)",
         "hoveron": "points",
         "hovertemplate": "Height (cm)=%{x}<extra></extra>",
         "jitter": 0,
         "legendgroup": "",
         "line": {
          "color": "rgba(255,255,255,0)"
         },
         "marker": {
          "color": "#1F77B4",
          "symbol": "line-ns-open"
         },
         "name": "",
         "offsetgroup": "",
         "showlegend": false,
         "type": "box",
         "x": [
          51,
          null,
          48,
          25,
          46,
          41,
          37,
          24,
          47,
          37,
          55,
          27,
          26,
          null,
          33,
          13,
          27,
          51,
          50,
          27,
          null,
          41,
          27,
          61,
          65,
          25,
          58,
          23,
          null,
          25,
          52,
          null,
          66,
          58,
          null,
          58,
          54,
          36,
          60,
          39,
          64,
          62,
          41,
          62,
          24,
          59,
          null,
          66,
          25,
          61,
          32,
          53,
          36,
          42,
          36,
          38,
          65,
          28,
          47,
          23,
          58,
          65,
          null,
          25,
          62,
          47,
          66,
          69,
          61,
          null,
          56,
          66,
          65,
          null,
          71,
          64,
          55,
          59,
          61,
          47,
          64,
          81,
          65,
          76,
          76,
          67,
          null,
          58,
          62,
          36,
          58,
          46,
          42,
          71,
          53,
          65,
          61,
          61,
          64,
          71,
          61,
          41,
          55,
          64,
          29,
          29,
          30,
          48,
          61,
          64,
          61,
          47,
          44,
          47,
          45,
          47,
          61,
          34,
          72,
          66,
          51,
          25,
          64,
          44,
          62,
          46,
          57,
          24,
          44,
          70,
          71,
          37,
          72,
          33,
          null,
          30,
          29,
          70,
          44,
          51,
          34,
          25,
          48,
          65,
          34,
          36,
          57,
          47,
          51,
          42,
          46,
          61,
          29,
          null,
          27,
          38,
          24,
          25,
          38,
          46,
          62,
          47,
          36,
          32,
          64,
          25,
          57,
          64,
          38,
          38,
          56,
          42
         ],
         "xaxis": "x3",
         "yaxis": "y3"
        },
        {
         "alignmentgroup": "True",
         "boxpoints": "all",
         "fillcolor": "rgba(255,255,255,0)",
         "hoveron": "points",
         "hovertemplate": "Weight (kg)=%{y}<extra></extra>",
         "jitter": 0,
         "legendgroup": "",
         "line": {
          "color": "rgba(255,255,255,0)"
         },
         "marker": {
          "color": "#1F77B4",
          "symbol": "line-ew-open"
         },
         "name": "",
         "offsetgroup": "",
         "showlegend": false,
         "type": "box",
         "xaxis": "x2",
         "y": [
          null,
          6,
          16,
          6,
          null,
          14,
          11,
          null,
          null,
          10.15,
          22,
          7,
          null,
          11,
          7,
          2,
          null,
          null,
          20,
          null,
          9,
          null,
          null,
          28,
          27,
          5,
          31,
          2,
          2,
          6,
          null,
          2,
          29,
          null,
          4,
          27,
          null,
          null,
          31,
          11,
          28,
          null,
          7,
          null,
          5,
          null,
          null,
          null,
          5,
          null,
          7,
          null,
          null,
          10,
          null,
          14,
          null,
          12,
          32,
          10,
          null,
          35,
          29,
          9,
          null,
          17,
          25,
          57,
          null,
          6,
          null,
          null,
          35,
          12,
          37,
          null,
          27,
          null,
          36,
          null,
          39,
          null,
          52,
          79,
          null,
          70,
          20,
          null,
          null,
          null,
          null,
          null,
          16,
          52,
          null,
          null,
          null,
          null,
          null,
          null,
          28,
          null,
          20,
          null,
          14,
          9,
          null,
          24,
          28,
          null,
          null,
          null,
          null,
          null,
          null,
          null,
          null,
          16,
          null,
          null,
          null,
          null,
          null,
          null,
          null,
          12,
          25,
          null,
          null,
          45,
          42,
          8,
          null,
          null,
          8,
          null,
          null,
          59,
          15,
          23,
          null,
          5,
          null,
          44,
          7,
          null,
          23,
          null,
          22,
          null,
          null,
          null,
          null,
          42,
          11,
          9,
          5,
          18,
          8,
          16,
          null,
          null,
          18,
          null,
          null,
          null,
          null,
          null,
          9,
          8,
          null,
          null
         ],
         "yaxis": "y2"
        }
       ],
       "layout": {
        "height": 250,
        "legend": {
         "tracegroupgap": 0
        },
        "template": {
         "data": {
          "bar": [
           {
            "error_x": {
             "color": "rgb(36,36,36)"
            },
            "error_y": {
             "color": "rgb(36,36,36)"
            },
            "marker": {
             "line": {
              "color": "white",
              "width": 0.5
             },
             "pattern": {
              "fillmode": "overlay",
              "size": 10,
              "solidity": 0.2
             }
            },
            "type": "bar"
           }
          ],
          "barpolar": [
           {
            "marker": {
             "line": {
              "color": "white",
              "width": 0.5
             },
             "pattern": {
              "fillmode": "overlay",
              "size": 10,
              "solidity": 0.2
             }
            },
            "type": "barpolar"
           }
          ],
          "carpet": [
           {
            "aaxis": {
             "endlinecolor": "rgb(36,36,36)",
             "gridcolor": "white",
             "linecolor": "white",
             "minorgridcolor": "white",
             "startlinecolor": "rgb(36,36,36)"
            },
            "baxis": {
             "endlinecolor": "rgb(36,36,36)",
             "gridcolor": "white",
             "linecolor": "white",
             "minorgridcolor": "white",
             "startlinecolor": "rgb(36,36,36)"
            },
            "type": "carpet"
           }
          ],
          "choropleth": [
           {
            "colorbar": {
             "outlinewidth": 1,
             "tickcolor": "rgb(36,36,36)",
             "ticks": "outside"
            },
            "type": "choropleth"
           }
          ],
          "contour": [
           {
            "colorbar": {
             "outlinewidth": 1,
             "tickcolor": "rgb(36,36,36)",
             "ticks": "outside"
            },
            "colorscale": [
             [
              0,
              "#440154"
             ],
             [
              0.1111111111111111,
              "#482878"
             ],
             [
              0.2222222222222222,
              "#3e4989"
             ],
             [
              0.3333333333333333,
              "#31688e"
             ],
             [
              0.4444444444444444,
              "#26828e"
             ],
             [
              0.5555555555555556,
              "#1f9e89"
             ],
             [
              0.6666666666666666,
              "#35b779"
             ],
             [
              0.7777777777777778,
              "#6ece58"
             ],
             [
              0.8888888888888888,
              "#b5de2b"
             ],
             [
              1,
              "#fde725"
             ]
            ],
            "type": "contour"
           }
          ],
          "contourcarpet": [
           {
            "colorbar": {
             "outlinewidth": 1,
             "tickcolor": "rgb(36,36,36)",
             "ticks": "outside"
            },
            "type": "contourcarpet"
           }
          ],
          "heatmap": [
           {
            "colorbar": {
             "outlinewidth": 1,
             "tickcolor": "rgb(36,36,36)",
             "ticks": "outside"
            },
            "colorscale": [
             [
              0,
              "#440154"
             ],
             [
              0.1111111111111111,
              "#482878"
             ],
             [
              0.2222222222222222,
              "#3e4989"
             ],
             [
              0.3333333333333333,
              "#31688e"
             ],
             [
              0.4444444444444444,
              "#26828e"
             ],
             [
              0.5555555555555556,
              "#1f9e89"
             ],
             [
              0.6666666666666666,
              "#35b779"
             ],
             [
              0.7777777777777778,
              "#6ece58"
             ],
             [
              0.8888888888888888,
              "#b5de2b"
             ],
             [
              1,
              "#fde725"
             ]
            ],
            "type": "heatmap"
           }
          ],
          "heatmapgl": [
           {
            "colorbar": {
             "outlinewidth": 1,
             "tickcolor": "rgb(36,36,36)",
             "ticks": "outside"
            },
            "colorscale": [
             [
              0,
              "#440154"
             ],
             [
              0.1111111111111111,
              "#482878"
             ],
             [
              0.2222222222222222,
              "#3e4989"
             ],
             [
              0.3333333333333333,
              "#31688e"
             ],
             [
              0.4444444444444444,
              "#26828e"
             ],
             [
              0.5555555555555556,
              "#1f9e89"
             ],
             [
              0.6666666666666666,
              "#35b779"
             ],
             [
              0.7777777777777778,
              "#6ece58"
             ],
             [
              0.8888888888888888,
              "#b5de2b"
             ],
             [
              1,
              "#fde725"
             ]
            ],
            "type": "heatmapgl"
           }
          ],
          "histogram": [
           {
            "marker": {
             "line": {
              "color": "white",
              "width": 0.6
             }
            },
            "type": "histogram"
           }
          ],
          "histogram2d": [
           {
            "colorbar": {
             "outlinewidth": 1,
             "tickcolor": "rgb(36,36,36)",
             "ticks": "outside"
            },
            "colorscale": [
             [
              0,
              "#440154"
             ],
             [
              0.1111111111111111,
              "#482878"
             ],
             [
              0.2222222222222222,
              "#3e4989"
             ],
             [
              0.3333333333333333,
              "#31688e"
             ],
             [
              0.4444444444444444,
              "#26828e"
             ],
             [
              0.5555555555555556,
              "#1f9e89"
             ],
             [
              0.6666666666666666,
              "#35b779"
             ],
             [
              0.7777777777777778,
              "#6ece58"
             ],
             [
              0.8888888888888888,
              "#b5de2b"
             ],
             [
              1,
              "#fde725"
             ]
            ],
            "type": "histogram2d"
           }
          ],
          "histogram2dcontour": [
           {
            "colorbar": {
             "outlinewidth": 1,
             "tickcolor": "rgb(36,36,36)",
             "ticks": "outside"
            },
            "colorscale": [
             [
              0,
              "#440154"
             ],
             [
              0.1111111111111111,
              "#482878"
             ],
             [
              0.2222222222222222,
              "#3e4989"
             ],
             [
              0.3333333333333333,
              "#31688e"
             ],
             [
              0.4444444444444444,
              "#26828e"
             ],
             [
              0.5555555555555556,
              "#1f9e89"
             ],
             [
              0.6666666666666666,
              "#35b779"
             ],
             [
              0.7777777777777778,
              "#6ece58"
             ],
             [
              0.8888888888888888,
              "#b5de2b"
             ],
             [
              1,
              "#fde725"
             ]
            ],
            "type": "histogram2dcontour"
           }
          ],
          "mesh3d": [
           {
            "colorbar": {
             "outlinewidth": 1,
             "tickcolor": "rgb(36,36,36)",
             "ticks": "outside"
            },
            "type": "mesh3d"
           }
          ],
          "parcoords": [
           {
            "line": {
             "colorbar": {
              "outlinewidth": 1,
              "tickcolor": "rgb(36,36,36)",
              "ticks": "outside"
             }
            },
            "type": "parcoords"
           }
          ],
          "pie": [
           {
            "automargin": true,
            "type": "pie"
           }
          ],
          "scatter": [
           {
            "fillpattern": {
             "fillmode": "overlay",
             "size": 10,
             "solidity": 0.2
            },
            "type": "scatter"
           }
          ],
          "scatter3d": [
           {
            "line": {
             "colorbar": {
              "outlinewidth": 1,
              "tickcolor": "rgb(36,36,36)",
              "ticks": "outside"
             }
            },
            "marker": {
             "colorbar": {
              "outlinewidth": 1,
              "tickcolor": "rgb(36,36,36)",
              "ticks": "outside"
             }
            },
            "type": "scatter3d"
           }
          ],
          "scattercarpet": [
           {
            "marker": {
             "colorbar": {
              "outlinewidth": 1,
              "tickcolor": "rgb(36,36,36)",
              "ticks": "outside"
             }
            },
            "type": "scattercarpet"
           }
          ],
          "scattergeo": [
           {
            "marker": {
             "colorbar": {
              "outlinewidth": 1,
              "tickcolor": "rgb(36,36,36)",
              "ticks": "outside"
             }
            },
            "type": "scattergeo"
           }
          ],
          "scattergl": [
           {
            "marker": {
             "colorbar": {
              "outlinewidth": 1,
              "tickcolor": "rgb(36,36,36)",
              "ticks": "outside"
             }
            },
            "type": "scattergl"
           }
          ],
          "scattermapbox": [
           {
            "marker": {
             "colorbar": {
              "outlinewidth": 1,
              "tickcolor": "rgb(36,36,36)",
              "ticks": "outside"
             }
            },
            "type": "scattermapbox"
           }
          ],
          "scatterpolar": [
           {
            "marker": {
             "colorbar": {
              "outlinewidth": 1,
              "tickcolor": "rgb(36,36,36)",
              "ticks": "outside"
             }
            },
            "type": "scatterpolar"
           }
          ],
          "scatterpolargl": [
           {
            "marker": {
             "colorbar": {
              "outlinewidth": 1,
              "tickcolor": "rgb(36,36,36)",
              "ticks": "outside"
             }
            },
            "type": "scatterpolargl"
           }
          ],
          "scatterternary": [
           {
            "marker": {
             "colorbar": {
              "outlinewidth": 1,
              "tickcolor": "rgb(36,36,36)",
              "ticks": "outside"
             }
            },
            "type": "scatterternary"
           }
          ],
          "surface": [
           {
            "colorbar": {
             "outlinewidth": 1,
             "tickcolor": "rgb(36,36,36)",
             "ticks": "outside"
            },
            "colorscale": [
             [
              0,
              "#440154"
             ],
             [
              0.1111111111111111,
              "#482878"
             ],
             [
              0.2222222222222222,
              "#3e4989"
             ],
             [
              0.3333333333333333,
              "#31688e"
             ],
             [
              0.4444444444444444,
              "#26828e"
             ],
             [
              0.5555555555555556,
              "#1f9e89"
             ],
             [
              0.6666666666666666,
              "#35b779"
             ],
             [
              0.7777777777777778,
              "#6ece58"
             ],
             [
              0.8888888888888888,
              "#b5de2b"
             ],
             [
              1,
              "#fde725"
             ]
            ],
            "type": "surface"
           }
          ],
          "table": [
           {
            "cells": {
             "fill": {
              "color": "rgb(237,237,237)"
             },
             "line": {
              "color": "white"
             }
            },
            "header": {
             "fill": {
              "color": "rgb(217,217,217)"
             },
             "line": {
              "color": "white"
             }
            },
            "type": "table"
           }
          ]
         },
         "layout": {
          "annotationdefaults": {
           "arrowhead": 0,
           "arrowwidth": 1
          },
          "autosize": true,
          "autotypenumbers": "strict",
          "coloraxis": {
           "colorbar": {
            "outlinewidth": 1,
            "tickcolor": "rgb(36,36,36)",
            "ticks": "outside"
           }
          },
          "colorscale": {
           "diverging": [
            [
             0,
             "rgb(103,0,31)"
            ],
            [
             0.1,
             "rgb(178,24,43)"
            ],
            [
             0.2,
             "rgb(214,96,77)"
            ],
            [
             0.3,
             "rgb(244,165,130)"
            ],
            [
             0.4,
             "rgb(253,219,199)"
            ],
            [
             0.5,
             "rgb(247,247,247)"
            ],
            [
             0.6,
             "rgb(209,229,240)"
            ],
            [
             0.7,
             "rgb(146,197,222)"
            ],
            [
             0.8,
             "rgb(67,147,195)"
            ],
            [
             0.9,
             "rgb(33,102,172)"
            ],
            [
             1,
             "rgb(5,48,97)"
            ]
           ],
           "sequential": [
            [
             0,
             "#440154"
            ],
            [
             0.1111111111111111,
             "#482878"
            ],
            [
             0.2222222222222222,
             "#3e4989"
            ],
            [
             0.3333333333333333,
             "#31688e"
            ],
            [
             0.4444444444444444,
             "#26828e"
            ],
            [
             0.5555555555555556,
             "#1f9e89"
            ],
            [
             0.6666666666666666,
             "#35b779"
            ],
            [
             0.7777777777777778,
             "#6ece58"
            ],
            [
             0.8888888888888888,
             "#b5de2b"
            ],
            [
             1,
             "#fde725"
            ]
           ],
           "sequentialminus": [
            [
             0,
             "#440154"
            ],
            [
             0.1111111111111111,
             "#482878"
            ],
            [
             0.2222222222222222,
             "#3e4989"
            ],
            [
             0.3333333333333333,
             "#31688e"
            ],
            [
             0.4444444444444444,
             "#26828e"
            ],
            [
             0.5555555555555556,
             "#1f9e89"
            ],
            [
             0.6666666666666666,
             "#35b779"
            ],
            [
             0.7777777777777778,
             "#6ece58"
            ],
            [
             0.8888888888888888,
             "#b5de2b"
            ],
            [
             1,
             "#fde725"
            ]
           ]
          },
          "colorway": [
           "#1F77B4",
           "#FF7F0E",
           "#2CA02C",
           "#D62728",
           "#9467BD",
           "#8C564B",
           "#E377C2",
           "#7F7F7F",
           "#BCBD22",
           "#17BECF"
          ],
          "font": {
           "color": "rgb(36,36,36)"
          },
          "geo": {
           "bgcolor": "white",
           "lakecolor": "white",
           "landcolor": "white",
           "showlakes": true,
           "showland": true,
           "subunitcolor": "white"
          },
          "height": 250,
          "hoverlabel": {
           "align": "left"
          },
          "hovermode": "closest",
          "mapbox": {
           "style": "light"
          },
          "margin": {
           "b": 10,
           "l": 10,
           "r": 10,
           "t": 10
          },
          "paper_bgcolor": "white",
          "plot_bgcolor": "white",
          "polar": {
           "angularaxis": {
            "gridcolor": "rgb(232,232,232)",
            "linecolor": "rgb(36,36,36)",
            "showgrid": false,
            "showline": true,
            "ticks": "outside"
           },
           "bgcolor": "white",
           "radialaxis": {
            "gridcolor": "rgb(232,232,232)",
            "linecolor": "rgb(36,36,36)",
            "showgrid": false,
            "showline": true,
            "ticks": "outside"
           }
          },
          "scene": {
           "xaxis": {
            "backgroundcolor": "white",
            "gridcolor": "rgb(232,232,232)",
            "gridwidth": 2,
            "linecolor": "rgb(36,36,36)",
            "showbackground": true,
            "showgrid": false,
            "showline": true,
            "ticks": "outside",
            "zeroline": false,
            "zerolinecolor": "rgb(36,36,36)"
           },
           "yaxis": {
            "backgroundcolor": "white",
            "gridcolor": "rgb(232,232,232)",
            "gridwidth": 2,
            "linecolor": "rgb(36,36,36)",
            "showbackground": true,
            "showgrid": false,
            "showline": true,
            "ticks": "outside",
            "zeroline": false,
            "zerolinecolor": "rgb(36,36,36)"
           },
           "zaxis": {
            "backgroundcolor": "white",
            "gridcolor": "rgb(232,232,232)",
            "gridwidth": 2,
            "linecolor": "rgb(36,36,36)",
            "showbackground": true,
            "showgrid": false,
            "showline": true,
            "ticks": "outside",
            "zeroline": false,
            "zerolinecolor": "rgb(36,36,36)"
           }
          },
          "shapedefaults": {
           "fillcolor": "black",
           "line": {
            "width": 0
           },
           "opacity": 0.3
          },
          "ternary": {
           "aaxis": {
            "gridcolor": "rgb(232,232,232)",
            "linecolor": "rgb(36,36,36)",
            "showgrid": false,
            "showline": true,
            "ticks": "outside"
           },
           "baxis": {
            "gridcolor": "rgb(232,232,232)",
            "linecolor": "rgb(36,36,36)",
            "showgrid": false,
            "showline": true,
            "ticks": "outside"
           },
           "bgcolor": "white",
           "caxis": {
            "gridcolor": "rgb(232,232,232)",
            "linecolor": "rgb(36,36,36)",
            "showgrid": false,
            "showline": true,
            "ticks": "outside"
           }
          },
          "title": {
           "x": 0.5,
           "xanchor": "center"
          },
          "width": 350,
          "xaxis": {
           "automargin": true,
           "gridcolor": "rgb(232,232,232)",
           "linecolor": "rgb(36,36,36)",
           "showgrid": true,
           "showline": true,
           "ticks": "outside",
           "title": {
            "standoff": 15
           },
           "zeroline": false,
           "zerolinecolor": "rgb(36,36,36)"
          },
          "yaxis": {
           "automargin": true,
           "gridcolor": "rgb(232,232,232)",
           "linecolor": "rgb(36,36,36)",
           "showgrid": true,
           "showline": true,
           "ticks": "outside",
           "title": {
            "standoff": 15
           },
           "zeroline": false,
           "zerolinecolor": "rgb(36,36,36)"
          }
         }
        },
        "width": 350,
        "xaxis": {
         "anchor": "y",
         "autorange": true,
         "domain": [
          0,
          0.8358
         ],
         "range": [
          7.842653940100573,
          86.15734605989942
         ],
         "title": {
          "text": "Height (cm)"
         },
         "type": "linear"
        },
        "xaxis2": {
         "anchor": "y2",
         "autorange": true,
         "domain": [
          0.8408,
          1
         ],
         "matches": "x2",
         "range": [
          -0.571337531150722,
          0.5
         ],
         "showline": false,
         "showticklabels": false,
         "ticks": "",
         "type": "category"
        },
        "xaxis3": {
         "anchor": "y3",
         "autorange": true,
         "domain": [
          0,
          0.8358
         ],
         "matches": "x",
         "range": [
          7.842653940100573,
          86.15734605989942
         ],
         "showticklabels": false,
         "type": "linear"
        },
        "xaxis4": {
         "anchor": "y4",
         "domain": [
          0.8408,
          1
         ],
         "matches": "x2",
         "showline": false,
         "showticklabels": false,
         "ticks": ""
        },
        "yaxis": {
         "anchor": "x",
         "autorange": true,
         "domain": [
          0,
          0.8316
         ],
         "range": [
          -4.7849220318511785,
          85.78492203185118
         ],
         "title": {
          "text": "Weight (kg)"
         },
         "type": "linear"
        },
        "yaxis2": {
         "anchor": "x2",
         "autorange": true,
         "domain": [
          0,
          0.8316
         ],
         "matches": "y",
         "range": [
          -4.7849220318511785,
          85.78492203185118
         ],
         "showticklabels": false,
         "type": "linear"
        },
        "yaxis3": {
         "anchor": "x3",
         "autorange": true,
         "domain": [
          0.8416,
          1
         ],
         "matches": "y3",
         "range": [
          -0.6168661181750187,
          0.5
         ],
         "showline": false,
         "showticklabels": false,
         "ticks": "",
         "type": "category"
        },
        "yaxis4": {
         "anchor": "x4",
         "domain": [
          0.8416,
          1
         ],
         "matches": "y3",
         "showline": false,
         "showticklabels": false,
         "ticks": ""
        }
       }
      },
      "image/png": "[encoded data removed]",
      "image/svg+xml": [
       "<svg class=\"main-svg\" xmlns=\"http://www.w3.org/2000/svg\" xmlns:xlink=\"http://www.w3.org/1999/xlink\" width=\"350\" height=\"250\" style=\"\" viewBox=\"0 0 350 250\"><rect x=\"0\" y=\"0\" width=\"350\" height=\"250\" style=\"fill: rgb(255, 255, 255); fill-opacity: 1;\"/><defs id=\"defs-63984a\"><g class=\"clips\"><clipPath id=\"clip63984axyplot\" class=\"plotclip\"><rect width=\"235.69559999999998\" height=\"151.3512\"/></clipPath><clipPath id=\"clip63984ax2y2plot\" class=\"plotclip\"><rect width=\"44.894400000000005\" height=\"151.3512\"/></clipPath><clipPath id=\"clip63984ax3y3plot\" class=\"plotclip\"><rect width=\"235.69559999999998\" height=\"28.828799999999998\"/></clipPath><clipPath class=\"axesclip\" id=\"clip63984ax\"><rect x=\"58\" y=\"0\" width=\"235.69559999999998\" height=\"250\"/></clipPath><clipPath class=\"axesclip\" id=\"clip63984ay\"><rect x=\"0\" y=\"40.648799999999994\" width=\"350\" height=\"151.3512\"/></clipPath><clipPath class=\"axesclip\" id=\"clip63984axy\"><rect x=\"58\" y=\"40.648799999999994\" width=\"235.69559999999998\" height=\"151.3512\"/></clipPath><clipPath class=\"axesclip\" id=\"clip63984ay2\"><rect x=\"0\" y=\"40.648799999999994\" width=\"350\" height=\"151.3512\"/></clipPath><clipPath class=\"axesclip\" id=\"clip63984axy2\"><rect x=\"58\" y=\"40.648799999999994\" width=\"235.69559999999998\" height=\"151.3512\"/></clipPath><clipPath class=\"axesclip\" id=\"clip63984ay3\"><rect x=\"0\" y=\"10\" width=\"350\" height=\"28.828799999999998\"/></clipPath><clipPath class=\"axesclip\" id=\"clip63984axy3\"><rect x=\"58\" y=\"10\" width=\"235.69559999999998\" height=\"28.828799999999998\"/></clipPath><clipPath class=\"axesclip\" id=\"clip63984ax2\"><rect x=\"295.1056\" y=\"0\" width=\"44.894400000000005\" height=\"250\"/></clipPath><clipPath class=\"axesclip\" id=\"clip63984ax2y\"><rect x=\"295.1056\" y=\"40.648799999999994\" width=\"44.894400000000005\" height=\"151.3512\"/></clipPath><clipPath class=\"axesclip\" id=\"clip63984ax2y2\"><rect x=\"295.1056\" y=\"40.648799999999994\" width=\"44.894400000000005\" height=\"151.3512\"/></clipPath><clipPath class=\"axesclip\" id=\"clip63984ax2y3\"><rect x=\"295.1056\" y=\"10\" width=\"44.894400000000005\" height=\"28.828799999999998\"/></clipPath><clipPath class=\"axesclip\" id=\"clip63984ax3\"><rect x=\"58\" y=\"0\" width=\"235.69559999999998\" height=\"250\"/></clipPath><clipPath class=\"axesclip\" id=\"clip63984ax3y\"><rect x=\"58\" y=\"40.648799999999994\" width=\"235.69559999999998\" height=\"151.3512\"/></clipPath><clipPath class=\"axesclip\" id=\"clip63984ax3y2\"><rect x=\"58\" y=\"40.648799999999994\" width=\"235.69559999999998\" height=\"151.3512\"/></clipPath><clipPath class=\"axesclip\" id=\"clip63984ax3y3\"><rect x=\"58\" y=\"10\" width=\"235.69559999999998\" height=\"28.828799999999998\"/></clipPath></g><g class=\"gradients\"/><g class=\"patterns\"/></defs><g class=\"bglayer\"/><g class=\"layer-below\"><g class=\"imagelayer\"/><g class=\"shapelayer\"/></g><g class=\"cartesianlayer\"><g class=\"subplot xy\"><g class=\"layer-subplot\"><g class=\"shapelayer\"/><g class=\"imagelayer\"/></g><g class=\"minor-gridlayer\"><g class=\"x\"/><g class=\"y\"/></g><g class=\"gridlayer\"><g class=\"x\"><path class=\"xgrid crisp\" transform=\"translate(94.6,0)\" d=\"M0,40.648799999999994v151.3512\" style=\"stroke: rgb(232, 232, 232); stroke-opacity: 1; stroke-width: 1px;\"/><path class=\"xgrid crisp\" transform=\"translate(154.78,0)\" d=\"M0,40.648799999999994v151.3512\" style=\"stroke: rgb(232, 232, 232); stroke-opacity: 1; stroke-width: 1px;\"/><path class=\"xgrid crisp\" transform=\"translate(214.97,0)\" d=\"M0,40.648799999999994v151.3512\" style=\"stroke: rgb(232, 232, 232); stroke-opacity: 1; stroke-width: 1px;\"/><path class=\"xgrid crisp\" transform=\"translate(275.15,0)\" d=\"M0,40.648799999999994v151.3512\" style=\"stroke: rgb(232, 232, 232); stroke-opacity: 1; stroke-width: 1px;\"/></g><g class=\"y\"><path class=\"ygrid crisp\" transform=\"translate(0,184.0288)\" d=\"M58,0h235.69559999999998\" style=\"stroke: rgb(232, 232, 232); stroke-opacity: 1; stroke-width: 1px;\"/><path class=\"ygrid crisp\" transform=\"translate(0,150.5888)\" d=\"M58,0h235.69559999999998\" style=\"stroke: rgb(232, 232, 232); stroke-opacity: 1; stroke-width: 1px;\"/><path class=\"ygrid crisp\" transform=\"translate(0,117.1588)\" d=\"M58,0h235.69559999999998\" style=\"stroke: rgb(232, 232, 232); stroke-opacity: 1; stroke-width: 1px;\"/><path class=\"ygrid crisp\" transform=\"translate(0,83.72879999999999)\" d=\"M58,0h235.69559999999998\" style=\"stroke: rgb(232, 232, 232); stroke-opacity: 1; stroke-width: 1px;\"/><path class=\"ygrid crisp\" transform=\"translate(0,50.29879999999999)\" d=\"M58,0h235.69559999999998\" style=\"stroke: rgb(232, 232, 232); stroke-opacity: 1; stroke-width: 1px;\"/></g></g><g class=\"zerolinelayer\"/><path class=\"xlines-below\"/><path class=\"ylines-below\"/><g class=\"overlines-below\"/><g class=\"xaxislayer-below\"/><g class=\"yaxislayer-below\"/><g class=\"overaxes-below\"/><g class=\"plot\" transform=\"translate(58,40.648799999999994)\" clip-path=\"url(#clip63984axyplot)\"><g class=\"scatterlayer mlayer\"><g class=\"trace scatter tracecffc00\" style=\"stroke-miterlimit: 2; opacity: 1;\"><g class=\"fills\"/><g class=\"errorbars\"/><g class=\"lines\"/><g class=\"points\"><path class=\"point\" transform=\"translate(120.86,116.63)\" d=\"M3,0A3,3 0 1,1 0,-3A3,3 0 0,1 3,0Z\" style=\"opacity: 1; stroke-width: 0px; fill: rgb(31, 119, 180); fill-opacity: 1;\"/><path class=\"point\" transform=\"translate(51.65,133.35)\" d=\"M3,0A3,3 0 1,1 0,-3A3,3 0 0,1 3,0Z\" style=\"opacity: 1; stroke-width: 0px; fill: rgb(31, 119, 180); fill-opacity: 1;\"/><path class=\"point\" transform=\"translate(99.79,119.97)\" d=\"M3,0A3,3 0 1,1 0,-3A3,3 0 0,1 3,0Z\" style=\"opacity: 1; stroke-width: 0px; fill: rgb(31, 119, 180); fill-opacity: 1;\"/><path class=\"point\" transform=\"translate(87.76,124.99)\" d=\"M3,0A3,3 0 1,1 0,-3A3,3 0 0,1 3,0Z\" style=\"opacity: 1; stroke-width: 0px; fill: rgb(31, 119, 180); fill-opacity: 1;\"/><path class=\"point\" transform=\"translate(87.76,126.41)\" d=\"M3,0A3,3 0 1,1 0,-3A3,3 0 0,1 3,0Z\" style=\"opacity: 1; stroke-width: 0px; fill: rgb(31, 119, 180); fill-opacity: 1;\"/><path class=\"point\" transform=\"translate(141.92,106.6)\" d=\"M3,0A3,3 0 1,1 0,-3A3,3 0 0,1 3,0Z\" style=\"opacity: 1; stroke-width: 0px; fill: rgb(31, 119, 180); fill-opacity: 1;\"/><path class=\"point\" transform=\"translate(57.66,131.68)\" d=\"M3,0A3,3 0 1,1 0,-3A3,3 0 0,1 3,0Z\" style=\"opacity: 1; stroke-width: 0px; fill: rgb(31, 119, 180); fill-opacity: 1;\"/><path class=\"point\" transform=\"translate(75.72,131.68)\" d=\"M3,0A3,3 0 1,1 0,-3A3,3 0 0,1 3,0Z\" style=\"opacity: 1; stroke-width: 0px; fill: rgb(31, 119, 180); fill-opacity: 1;\"/><path class=\"point\" transform=\"translate(15.53,140.03)\" d=\"M3,0A3,3 0 1,1 0,-3A3,3 0 0,1 3,0Z\" style=\"opacity: 1; stroke-width: 0px; fill: rgb(31, 119, 180); fill-opacity: 1;\"/><path class=\"point\" transform=\"translate(126.88,109.94)\" d=\"M3,0A3,3 0 1,1 0,-3A3,3 0 0,1 3,0Z\" style=\"opacity: 1; stroke-width: 0px; fill: rgb(31, 119, 180); fill-opacity: 1;\"/><path class=\"point\" transform=\"translate(159.98,96.57)\" d=\"M3,0A3,3 0 1,1 0,-3A3,3 0 0,1 3,0Z\" style=\"opacity: 1; stroke-width: 0px; fill: rgb(31, 119, 180); fill-opacity: 1;\"/><path class=\"point\" transform=\"translate(172.01,98.24)\" d=\"M3,0A3,3 0 1,1 0,-3A3,3 0 0,1 3,0Z\" style=\"opacity: 1; stroke-width: 0px; fill: rgb(31, 119, 180); fill-opacity: 1;\"/><path class=\"point\" transform=\"translate(51.65,135.02)\" d=\"M3,0A3,3 0 1,1 0,-3A3,3 0 0,1 3,0Z\" style=\"opacity: 1; stroke-width: 0px; fill: rgb(31, 119, 180); fill-opacity: 1;\"/><path class=\"point\" transform=\"translate(150.95,91.56)\" d=\"M3,0A3,3 0 1,1 0,-3A3,3 0 0,1 3,0Z\" style=\"opacity: 1; stroke-width: 0px; fill: rgb(31, 119, 180); fill-opacity: 1;\"/><path class=\"point\" transform=\"translate(45.63,140.03)\" d=\"M3,0A3,3 0 1,1 0,-3A3,3 0 0,1 3,0Z\" style=\"opacity: 1; stroke-width: 0px; fill: rgb(31, 119, 180); fill-opacity: 1;\"/><path class=\"point\" transform=\"translate(51.65,133.35)\" d=\"M3,0A3,3 0 1,1 0,-3A3,3 0 0,1 3,0Z\" style=\"opacity: 1; stroke-width: 0px; fill: rgb(31, 119, 180); fill-opacity: 1;\"/><path class=\"point\" transform=\"translate(175.02,94.9)\" d=\"M3,0A3,3 0 1,1 0,-3A3,3 0 0,1 3,0Z\" style=\"opacity: 1; stroke-width: 0px; fill: rgb(31, 119, 180); fill-opacity: 1;\"/><path class=\"point\" transform=\"translate(150.95,98.24)\" d=\"M3,0A3,3 0 1,1 0,-3A3,3 0 0,1 3,0Z\" style=\"opacity: 1; stroke-width: 0px; fill: rgb(31, 119, 180); fill-opacity: 1;\"/><path class=\"point\" transform=\"translate(156.97,91.56)\" d=\"M3,0A3,3 0 1,1 0,-3A3,3 0 0,1 3,0Z\" style=\"opacity: 1; stroke-width: 0px; fill: rgb(31, 119, 180); fill-opacity: 1;\"/><path class=\"point\" transform=\"translate(93.77,124.99)\" d=\"M3,0A3,3 0 1,1 0,-3A3,3 0 0,1 3,0Z\" style=\"opacity: 1; stroke-width: 0px; fill: rgb(31, 119, 180); fill-opacity: 1;\"/><path class=\"point\" transform=\"translate(169,96.57)\" d=\"M3,0A3,3 0 1,1 0,-3A3,3 0 0,1 3,0Z\" style=\"opacity: 1; stroke-width: 0px; fill: rgb(31, 119, 180); fill-opacity: 1;\"/><path class=\"point\" transform=\"translate(99.79,131.68)\" d=\"M3,0A3,3 0 1,1 0,-3A3,3 0 0,1 3,0Z\" style=\"opacity: 1; stroke-width: 0px; fill: rgb(31, 119, 180); fill-opacity: 1;\"/><path class=\"point\" transform=\"translate(48.64,135.02)\" d=\"M3,0A3,3 0 1,1 0,-3A3,3 0 0,1 3,0Z\" style=\"opacity: 1; stroke-width: 0px; fill: rgb(31, 119, 180); fill-opacity: 1;\"/><path class=\"point\" transform=\"translate(51.65,135.02)\" d=\"M3,0A3,3 0 1,1 0,-3A3,3 0 0,1 3,0Z\" style=\"opacity: 1; stroke-width: 0px; fill: rgb(31, 119, 180); fill-opacity: 1;\"/><path class=\"point\" transform=\"translate(72.71,131.68)\" d=\"M3,0A3,3 0 1,1 0,-3A3,3 0 0,1 3,0Z\" style=\"opacity: 1; stroke-width: 0px; fill: rgb(31, 119, 180); fill-opacity: 1;\"/><path class=\"point\" transform=\"translate(102.8,126.66)\" d=\"M3,0A3,3 0 1,1 0,-3A3,3 0 0,1 3,0Z\" style=\"opacity: 1; stroke-width: 0px; fill: rgb(31, 119, 180); fill-opacity: 1;\"/><path class=\"point\" transform=\"translate(90.76,119.97)\" d=\"M3,0A3,3 0 1,1 0,-3A3,3 0 0,1 3,0Z\" style=\"opacity: 1; stroke-width: 0px; fill: rgb(31, 119, 180); fill-opacity: 1;\"/><path class=\"point\" transform=\"translate(60.67,123.32)\" d=\"M3,0A3,3 0 1,1 0,-3A3,3 0 0,1 3,0Z\" style=\"opacity: 1; stroke-width: 0px; fill: rgb(31, 119, 180); fill-opacity: 1;\"/><path class=\"point\" transform=\"translate(117.85,89.88)\" d=\"M3,0A3,3 0 1,1 0,-3A3,3 0 0,1 3,0Z\" style=\"opacity: 1; stroke-width: 0px; fill: rgb(31, 119, 180); fill-opacity: 1;\"/><path class=\"point\" transform=\"translate(45.63,126.66)\" d=\"M3,0A3,3 0 1,1 0,-3A3,3 0 0,1 3,0Z\" style=\"opacity: 1; stroke-width: 0px; fill: rgb(31, 119, 180); fill-opacity: 1;\"/><path class=\"point\" transform=\"translate(172.01,84.87)\" d=\"M3,0A3,3 0 1,1 0,-3A3,3 0 0,1 3,0Z\" style=\"opacity: 1; stroke-width: 0px; fill: rgb(31, 119, 180); fill-opacity: 1;\"/><path class=\"point\" transform=\"translate(51.65,128.33)\" d=\"M3,0A3,3 0 1,1 0,-3A3,3 0 0,1 3,0Z\" style=\"opacity: 1; stroke-width: 0px; fill: rgb(31, 119, 180); fill-opacity: 1;\"/><path class=\"point\" transform=\"translate(117.85,114.96)\" d=\"M3,0A3,3 0 1,1 0,-3A3,3 0 0,1 3,0Z\" style=\"opacity: 1; stroke-width: 0px; fill: rgb(31, 119, 180); fill-opacity: 1;\"/><path class=\"point\" transform=\"translate(175.02,101.59)\" d=\"M3,0A3,3 0 1,1 0,-3A3,3 0 0,1 3,0Z\" style=\"opacity: 1; stroke-width: 0px; fill: rgb(31, 119, 180); fill-opacity: 1;\"/><path class=\"point\" transform=\"translate(184.05,48.09)\" d=\"M3,0A3,3 0 1,1 0,-3A3,3 0 0,1 3,0Z\" style=\"opacity: 1; stroke-width: 0px; fill: rgb(31, 119, 180); fill-opacity: 1;\"/><path class=\"point\" transform=\"translate(172.01,84.87)\" d=\"M3,0A3,3 0 1,1 0,-3A3,3 0 0,1 3,0Z\" style=\"opacity: 1; stroke-width: 0px; fill: rgb(31, 119, 180); fill-opacity: 1;\"/><path class=\"point\" transform=\"translate(190.07,81.53)\" d=\"M3,0A3,3 0 1,1 0,-3A3,3 0 0,1 3,0Z\" style=\"opacity: 1; stroke-width: 0px; fill: rgb(31, 119, 180); fill-opacity: 1;\"/><path class=\"point\" transform=\"translate(141.92,98.24)\" d=\"M3,0A3,3 0 1,1 0,-3A3,3 0 0,1 3,0Z\" style=\"opacity: 1; stroke-width: 0px; fill: rgb(31, 119, 180); fill-opacity: 1;\"/><path class=\"point\" transform=\"translate(159.98,83.2)\" d=\"M3,0A3,3 0 1,1 0,-3A3,3 0 0,1 3,0Z\" style=\"opacity: 1; stroke-width: 0px; fill: rgb(31, 119, 180); fill-opacity: 1;\"/><path class=\"point\" transform=\"translate(169,78.18)\" d=\"M3,0A3,3 0 1,1 0,-3A3,3 0 0,1 3,0Z\" style=\"opacity: 1; stroke-width: 0px; fill: rgb(31, 119, 180); fill-opacity: 1;\"/><path class=\"point\" transform=\"translate(172.01,56.45)\" d=\"M3,0A3,3 0 1,1 0,-3A3,3 0 0,1 3,0Z\" style=\"opacity: 1; stroke-width: 0px; fill: rgb(31, 119, 180); fill-opacity: 1;\"/><path class=\"point\" transform=\"translate(205.11,11.32)\" d=\"M3,0A3,3 0 1,1 0,-3A3,3 0 0,1 3,0Z\" style=\"opacity: 1; stroke-width: 0px; fill: rgb(31, 119, 180); fill-opacity: 1;\"/><path class=\"point\" transform=\"translate(178.03,26.36)\" d=\"M3,0A3,3 0 1,1 0,-3A3,3 0 0,1 3,0Z\" style=\"opacity: 1; stroke-width: 0px; fill: rgb(31, 119, 180); fill-opacity: 1;\"/><path class=\"point\" transform=\"translate(102.8,116.63)\" d=\"M3,0A3,3 0 1,1 0,-3A3,3 0 0,1 3,0Z\" style=\"opacity: 1; stroke-width: 0px; fill: rgb(31, 119, 180); fill-opacity: 1;\"/><path class=\"point\" transform=\"translate(190.07,56.45)\" d=\"M3,0A3,3 0 1,1 0,-3A3,3 0 0,1 3,0Z\" style=\"opacity: 1; stroke-width: 0px; fill: rgb(31, 119, 180); fill-opacity: 1;\"/><path class=\"point\" transform=\"translate(159.98,96.57)\" d=\"M3,0A3,3 0 1,1 0,-3A3,3 0 0,1 3,0Z\" style=\"opacity: 1; stroke-width: 0px; fill: rgb(31, 119, 180); fill-opacity: 1;\"/><path class=\"point\" transform=\"translate(141.92,109.94)\" d=\"M3,0A3,3 0 1,1 0,-3A3,3 0 0,1 3,0Z\" style=\"opacity: 1; stroke-width: 0px; fill: rgb(31, 119, 180); fill-opacity: 1;\"/><path class=\"point\" transform=\"translate(63.68,119.97)\" d=\"M3,0A3,3 0 1,1 0,-3A3,3 0 0,1 3,0Z\" style=\"opacity: 1; stroke-width: 0px; fill: rgb(31, 119, 180); fill-opacity: 1;\"/><path class=\"point\" transform=\"translate(63.68,128.33)\" d=\"M3,0A3,3 0 1,1 0,-3A3,3 0 0,1 3,0Z\" style=\"opacity: 1; stroke-width: 0px; fill: rgb(31, 119, 180); fill-opacity: 1;\"/><path class=\"point\" transform=\"translate(120.86,103.26)\" d=\"M3,0A3,3 0 1,1 0,-3A3,3 0 0,1 3,0Z\" style=\"opacity: 1; stroke-width: 0px; fill: rgb(31, 119, 180); fill-opacity: 1;\"/><path class=\"point\" transform=\"translate(159.98,96.57)\" d=\"M3,0A3,3 0 1,1 0,-3A3,3 0 0,1 3,0Z\" style=\"opacity: 1; stroke-width: 0px; fill: rgb(31, 119, 180); fill-opacity: 1;\"/><path class=\"point\" transform=\"translate(78.73,116.63)\" d=\"M3,0A3,3 0 1,1 0,-3A3,3 0 0,1 3,0Z\" style=\"opacity: 1; stroke-width: 0px; fill: rgb(31, 119, 180); fill-opacity: 1;\"/><path class=\"point\" transform=\"translate(114.84,123.32)\" d=\"M3,0A3,3 0 1,1 0,-3A3,3 0 0,1 3,0Z\" style=\"opacity: 1; stroke-width: 0px; fill: rgb(31, 119, 180); fill-opacity: 1;\"/><path class=\"point\" transform=\"translate(147.94,101.59)\" d=\"M3,0A3,3 0 1,1 0,-3A3,3 0 0,1 3,0Z\" style=\"opacity: 1; stroke-width: 0px; fill: rgb(31, 119, 180); fill-opacity: 1;\"/><path class=\"point\" transform=\"translate(187.06,68.15)\" d=\"M3,0A3,3 0 1,1 0,-3A3,3 0 0,1 3,0Z\" style=\"opacity: 1; stroke-width: 0px; fill: rgb(31, 119, 180); fill-opacity: 1;\"/><path class=\"point\" transform=\"translate(190.07,73.17)\" d=\"M3,0A3,3 0 1,1 0,-3A3,3 0 0,1 3,0Z\" style=\"opacity: 1; stroke-width: 0px; fill: rgb(31, 119, 180); fill-opacity: 1;\"/><path class=\"point\" transform=\"translate(87.76,130)\" d=\"M3,0A3,3 0 1,1 0,-3A3,3 0 0,1 3,0Z\" style=\"opacity: 1; stroke-width: 0px; fill: rgb(31, 119, 180); fill-opacity: 1;\"/><path class=\"point\" transform=\"translate(187.06,44.75)\" d=\"M3,0A3,3 0 1,1 0,-3A3,3 0 0,1 3,0Z\" style=\"opacity: 1; stroke-width: 0px; fill: rgb(31, 119, 180); fill-opacity: 1;\"/><path class=\"point\" transform=\"translate(108.82,118.3)\" d=\"M3,0A3,3 0 1,1 0,-3A3,3 0 0,1 3,0Z\" style=\"opacity: 1; stroke-width: 0px; fill: rgb(31, 119, 180); fill-opacity: 1;\"/><path class=\"point\" transform=\"translate(129.88,104.93)\" d=\"M3,0A3,3 0 1,1 0,-3A3,3 0 0,1 3,0Z\" style=\"opacity: 1; stroke-width: 0px; fill: rgb(31, 119, 180); fill-opacity: 1;\"/><path class=\"point\" transform=\"translate(51.65,135.02)\" d=\"M3,0A3,3 0 1,1 0,-3A3,3 0 0,1 3,0Z\" style=\"opacity: 1; stroke-width: 0px; fill: rgb(31, 119, 180); fill-opacity: 1;\"/><path class=\"point\" transform=\"translate(172.01,69.82)\" d=\"M3,0A3,3 0 1,1 0,-3A3,3 0 0,1 3,0Z\" style=\"opacity: 1; stroke-width: 0px; fill: rgb(31, 119, 180); fill-opacity: 1;\"/><path class=\"point\" transform=\"translate(78.73,131.68)\" d=\"M3,0A3,3 0 1,1 0,-3A3,3 0 0,1 3,0Z\" style=\"opacity: 1; stroke-width: 0px; fill: rgb(31, 119, 180); fill-opacity: 1;\"/><path class=\"point\" transform=\"translate(147.94,104.93)\" d=\"M3,0A3,3 0 1,1 0,-3A3,3 0 0,1 3,0Z\" style=\"opacity: 1; stroke-width: 0px; fill: rgb(31, 119, 180); fill-opacity: 1;\"/><path class=\"point\" transform=\"translate(129.88,106.6)\" d=\"M3,0A3,3 0 1,1 0,-3A3,3 0 0,1 3,0Z\" style=\"opacity: 1; stroke-width: 0px; fill: rgb(31, 119, 180); fill-opacity: 1;\"/><path class=\"point\" transform=\"translate(57.66,124.99)\" d=\"M3,0A3,3 0 1,1 0,-3A3,3 0 0,1 3,0Z\" style=\"opacity: 1; stroke-width: 0px; fill: rgb(31, 119, 180); fill-opacity: 1;\"/><path class=\"point\" transform=\"translate(90.76,128.33)\" d=\"M3,0A3,3 0 1,1 0,-3A3,3 0 0,1 3,0Z\" style=\"opacity: 1; stroke-width: 0px; fill: rgb(31, 119, 180); fill-opacity: 1;\"/><path class=\"point\" transform=\"translate(48.64,135.02)\" d=\"M3,0A3,3 0 1,1 0,-3A3,3 0 0,1 3,0Z\" style=\"opacity: 1; stroke-width: 0px; fill: rgb(31, 119, 180); fill-opacity: 1;\"/><path class=\"point\" transform=\"translate(51.65,113.29)\" d=\"M3,0A3,3 0 1,1 0,-3A3,3 0 0,1 3,0Z\" style=\"opacity: 1; stroke-width: 0px; fill: rgb(31, 119, 180); fill-opacity: 1;\"/><path class=\"point\" transform=\"translate(90.76,130)\" d=\"M3,0A3,3 0 1,1 0,-3A3,3 0 0,1 3,0Z\" style=\"opacity: 1; stroke-width: 0px; fill: rgb(31, 119, 180); fill-opacity: 1;\"/><path class=\"point\" transform=\"translate(114.84,116.63)\" d=\"M3,0A3,3 0 1,1 0,-3A3,3 0 0,1 3,0Z\" style=\"opacity: 1; stroke-width: 0px; fill: rgb(31, 119, 180); fill-opacity: 1;\"/><path class=\"point\" transform=\"translate(84.75,113.29)\" d=\"M3,0A3,3 0 1,1 0,-3A3,3 0 0,1 3,0Z\" style=\"opacity: 1; stroke-width: 0px; fill: rgb(31, 119, 180); fill-opacity: 1;\"/><path class=\"point\" transform=\"translate(90.76,128.33)\" d=\"M3,0A3,3 0 1,1 0,-3A3,3 0 0,1 3,0Z\" style=\"opacity: 1; stroke-width: 0px; fill: rgb(31, 119, 180); fill-opacity: 1;\"/><path class=\"point\" transform=\"translate(90.76,130)\" d=\"M3,0A3,3 0 1,1 0,-3A3,3 0 0,1 3,0Z\" style=\"opacity: 1; stroke-width: 0px; fill: rgb(31, 119, 180); fill-opacity: 1;\"/></g><g class=\"text\"/></g></g></g><g class=\"overplot\"/><path class=\"xlines-above crisp\" d=\"M57,192.5H293.6956\" style=\"fill: none; stroke-width: 1px; stroke: rgb(36, 36, 36); stroke-opacity: 1;\"/><path class=\"ylines-above crisp\" d=\"M57.5,40.648799999999994V192\" style=\"fill: none; stroke-width: 1px; stroke: rgb(36, 36, 36); stroke-opacity: 1;\"/><g class=\"overlines-above\"/><g class=\"xaxislayer-above\"><path class=\"xtick ticks crisp\" d=\"M0,193v5\" transform=\"translate(94.6,0)\" style=\"stroke: rgb(68, 68, 68); stroke-opacity: 1; stroke-width: 1px;\"/><path class=\"xtick ticks crisp\" d=\"M0,193v5\" transform=\"translate(154.78,0)\" style=\"stroke: rgb(68, 68, 68); stroke-opacity: 1; stroke-width: 1px;\"/><path class=\"xtick ticks crisp\" d=\"M0,193v5\" transform=\"translate(214.97,0)\" style=\"stroke: rgb(68, 68, 68); stroke-opacity: 1; stroke-width: 1px;\"/><path class=\"xtick ticks crisp\" d=\"M0,193v5\" transform=\"translate(275.15,0)\" style=\"stroke: rgb(68, 68, 68); stroke-opacity: 1; stroke-width: 1px;\"/><g class=\"xtick\"><text text-anchor=\"middle\" x=\"0\" y=\"212.4\" transform=\"translate(94.6,0)\" style=\"font-family: 'Open Sans', verdana, arial, sans-serif; font-size: 12px; fill: rgb(36, 36, 36); fill-opacity: 1; white-space: pre; opacity: 1;\">20</text></g><g class=\"xtick\"><text text-anchor=\"middle\" x=\"0\" y=\"212.4\" style=\"font-family: 'Open Sans', verdana, arial, sans-serif; font-size: 12px; fill: rgb(36, 36, 36); fill-opacity: 1; white-space: pre; opacity: 1;\" transform=\"translate(154.78,0)\">40</text></g><g class=\"xtick\"><text text-anchor=\"middle\" x=\"0\" y=\"212.4\" style=\"font-family: 'Open Sans', verdana, arial, sans-serif; font-size: 12px; fill: rgb(36, 36, 36); fill-opacity: 1; white-space: pre; opacity: 1;\" transform=\"translate(214.97,0)\">60</text></g><g class=\"xtick\"><text text-anchor=\"middle\" x=\"0\" y=\"212.4\" style=\"font-family: 'Open Sans', verdana, arial, sans-serif; font-size: 12px; fill: rgb(36, 36, 36); fill-opacity: 1; white-space: pre; opacity: 1;\" transform=\"translate(275.15,0)\">80</text></g></g><g class=\"yaxislayer-above\"><path class=\"ytick ticks crisp\" d=\"M57,0h-5\" transform=\"translate(0,184.0288)\" style=\"stroke: rgb(68, 68, 68); stroke-opacity: 1; stroke-width: 1px;\"/><path class=\"ytick ticks crisp\" d=\"M57,0h-5\" transform=\"translate(0,150.5888)\" style=\"stroke: rgb(68, 68, 68); stroke-opacity: 1; stroke-width: 1px;\"/><path class=\"ytick ticks crisp\" d=\"M57,0h-5\" transform=\"translate(0,117.1588)\" style=\"stroke: rgb(68, 68, 68); stroke-opacity: 1; stroke-width: 1px;\"/><path class=\"ytick ticks crisp\" d=\"M57,0h-5\" transform=\"translate(0,83.72879999999999)\" style=\"stroke: rgb(68, 68, 68); stroke-opacity: 1; stroke-width: 1px;\"/><path class=\"ytick ticks crisp\" d=\"M57,0h-5\" transform=\"translate(0,50.29879999999999)\" style=\"stroke: rgb(68, 68, 68); stroke-opacity: 1; stroke-width: 1px;\"/><g class=\"ytick\"><text text-anchor=\"end\" x=\"49.6\" y=\"4.199999999999999\" transform=\"translate(0,184.0288)\" style=\"font-family: 'Open Sans', verdana, arial, sans-serif; font-size: 12px; fill: rgb(36, 36, 36); fill-opacity: 1; white-space: pre; opacity: 1;\">0</text></g><g class=\"ytick\"><text text-anchor=\"end\" x=\"49.6\" y=\"4.199999999999999\" style=\"font-family: 'Open Sans', verdana, arial, sans-serif; font-size: 12px; fill: rgb(36, 36, 36); fill-opacity: 1; white-space: pre; opacity: 1;\" transform=\"translate(0,150.5888)\">20</text></g><g class=\"ytick\"><text text-anchor=\"end\" x=\"49.6\" y=\"4.199999999999999\" style=\"font-family: 'Open Sans', verdana, arial, sans-serif; font-size: 12px; fill: rgb(36, 36, 36); fill-opacity: 1; white-space: pre; opacity: 1;\" transform=\"translate(0,117.1588)\">40</text></g><g class=\"ytick\"><text text-anchor=\"end\" x=\"49.6\" y=\"4.199999999999999\" style=\"font-family: 'Open Sans', verdana, arial, sans-serif; font-size: 12px; fill: rgb(36, 36, 36); fill-opacity: 1; white-space: pre; opacity: 1;\" transform=\"translate(0,83.72879999999999)\">60</text></g><g class=\"ytick\"><text text-anchor=\"end\" x=\"49.6\" y=\"4.199999999999999\" style=\"font-family: 'Open Sans', verdana, arial, sans-serif; font-size: 12px; fill: rgb(36, 36, 36); fill-opacity: 1; white-space: pre; opacity: 1;\" transform=\"translate(0,50.29879999999999)\">80</text></g></g><g class=\"overaxes-above\"/></g><g class=\"subplot x2y2\"><g class=\"layer-subplot\"><g class=\"shapelayer\"/><g class=\"imagelayer\"/></g><g class=\"minor-gridlayer\"><g class=\"x2\"/><g class=\"y2\"/></g><g class=\"gridlayer\"><g class=\"x2\"><path class=\"x2grid crisp\" transform=\"translate(319.05559999999997,0)\" d=\"M0,40.648799999999994v151.3512\" style=\"stroke: rgb(232, 232, 232); stroke-opacity: 1; stroke-width: 1px;\"/></g><g class=\"y2\"><path class=\"y2grid crisp\" transform=\"translate(0,184.0288)\" d=\"M295.1056,0h44.894400000000005\" style=\"stroke: rgb(232, 232, 232); stroke-opacity: 1; stroke-width: 1px;\"/><path class=\"y2grid crisp\" transform=\"translate(0,150.5888)\" d=\"M295.1056,0h44.894400000000005\" style=\"stroke: rgb(232, 232, 232); stroke-opacity: 1; stroke-width: 1px;\"/><path class=\"y2grid crisp\" transform=\"translate(0,117.1588)\" d=\"M295.1056,0h44.894400000000005\" style=\"stroke: rgb(232, 232, 232); stroke-opacity: 1; stroke-width: 1px;\"/><path class=\"y2grid crisp\" transform=\"translate(0,83.72879999999999)\" d=\"M295.1056,0h44.894400000000005\" style=\"stroke: rgb(232, 232, 232); stroke-opacity: 1; stroke-width: 1px;\"/><path class=\"y2grid crisp\" transform=\"translate(0,50.29879999999999)\" d=\"M295.1056,0h44.894400000000005\" style=\"stroke: rgb(232, 232, 232); stroke-opacity: 1; stroke-width: 1px;\"/></g></g><g class=\"zerolinelayer\"/><path class=\"xlines-below\"/><path class=\"ylines-below\"/><g class=\"overlines-below\"/><g class=\"xaxislayer-below\"/><g class=\"yaxislayer-below\"/><g class=\"overaxes-below\"/><g class=\"plot\" transform=\"translate(295.1056,40.648799999999994)\" clip-path=\"url(#clip63984ax2y2plot)\"><g class=\"boxlayer mlayer\"><g class=\"trace boxes\" style=\"opacity: 1;\"><path class=\"box\" d=\"M13.68,116.63H34.21M13.68,130H34.21V96.57H13.68ZM23.95,130V140.03M23.95,96.57V48.09M18.82,140.03H29.08M18.82,48.09H29.08\" style=\"vector-effect: none; stroke-width: 2px; stroke: rgb(255, 255, 255); stroke-opacity: 0; fill: rgb(255, 255, 255); fill-opacity: 0;\"/><g class=\"points\"><path class=\"point\" transform=\"translate(8.55,140.03)\" d=\"M4.2,0H-4.2\" style=\"opacity: 1; stroke: rgb(31, 119, 180); stroke-opacity: 1; stroke-width: 1px; fill: none;\"/><path class=\"point\" transform=\"translate(8.55,140.03)\" d=\"M4.2,0H-4.2\" style=\"opacity: 1; stroke: rgb(31, 119, 180); stroke-opacity: 1; stroke-width: 1px; fill: none;\"/><path class=\"point\" transform=\"translate(8.55,140.03)\" d=\"M4.2,0H-4.2\" style=\"opacity: 1; stroke: rgb(31, 119, 180); stroke-opacity: 1; stroke-width: 1px; fill: none;\"/><path class=\"point\" transform=\"translate(8.55,140.03)\" d=\"M4.2,0H-4.2\" style=\"opacity: 1; stroke: rgb(31, 119, 180); stroke-opacity: 1; stroke-width: 1px; fill: none;\"/><path class=\"point\" transform=\"translate(8.55,136.69)\" d=\"M4.2,0H-4.2\" style=\"opacity: 1; stroke: rgb(31, 119, 180); stroke-opacity: 1; stroke-width: 1px; fill: none;\"/><path class=\"point\" transform=\"translate(8.55,135.02)\" d=\"M4.2,0H-4.2\" style=\"opacity: 1; stroke: rgb(31, 119, 180); stroke-opacity: 1; stroke-width: 1px; fill: none;\"/><path class=\"point\" transform=\"translate(8.55,135.02)\" d=\"M4.2,0H-4.2\" style=\"opacity: 1; stroke: rgb(31, 119, 180); stroke-opacity: 1; stroke-width: 1px; fill: none;\"/><path class=\"point\" transform=\"translate(8.55,135.02)\" d=\"M4.2,0H-4.2\" style=\"opacity: 1; stroke: rgb(31, 119, 180); stroke-opacity: 1; stroke-width: 1px; fill: none;\"/><path class=\"point\" transform=\"translate(8.55,135.02)\" d=\"M4.2,0H-4.2\" style=\"opacity: 1; stroke: rgb(31, 119, 180); stroke-opacity: 1; stroke-width: 1px; fill: none;\"/><path class=\"point\" transform=\"translate(8.55,135.02)\" d=\"M4.2,0H-4.2\" style=\"opacity: 1; stroke: rgb(31, 119, 180); stroke-opacity: 1; stroke-width: 1px; fill: none;\"/><path class=\"point\" transform=\"translate(8.55,133.35)\" d=\"M4.2,0H-4.2\" style=\"opacity: 1; stroke: rgb(31, 119, 180); stroke-opacity: 1; stroke-width: 1px; fill: none;\"/><path class=\"point\" transform=\"translate(8.55,133.35)\" d=\"M4.2,0H-4.2\" style=\"opacity: 1; stroke: rgb(31, 119, 180); stroke-opacity: 1; stroke-width: 1px; fill: none;\"/><path class=\"point\" transform=\"translate(8.55,133.35)\" d=\"M4.2,0H-4.2\" style=\"opacity: 1; stroke: rgb(31, 119, 180); stroke-opacity: 1; stroke-width: 1px; fill: none;\"/><path class=\"point\" transform=\"translate(8.55,133.35)\" d=\"M4.2,0H-4.2\" style=\"opacity: 1; stroke: rgb(31, 119, 180); stroke-opacity: 1; stroke-width: 1px; fill: none;\"/><path class=\"point\" transform=\"translate(8.55,131.68)\" d=\"M4.2,0H-4.2\" style=\"opacity: 1; stroke: rgb(31, 119, 180); stroke-opacity: 1; stroke-width: 1px; fill: none;\"/><path class=\"point\" transform=\"translate(8.55,131.68)\" d=\"M4.2,0H-4.2\" style=\"opacity: 1; stroke: rgb(31, 119, 180); stroke-opacity: 1; stroke-width: 1px; fill: none;\"/><path class=\"point\" transform=\"translate(8.55,131.68)\" d=\"M4.2,0H-4.2\" style=\"opacity: 1; stroke: rgb(31, 119, 180); stroke-opacity: 1; stroke-width: 1px; fill: none;\"/><path class=\"point\" transform=\"translate(8.55,131.68)\" d=\"M4.2,0H-4.2\" style=\"opacity: 1; stroke: rgb(31, 119, 180); stroke-opacity: 1; stroke-width: 1px; fill: none;\"/><path class=\"point\" transform=\"translate(8.55,131.68)\" d=\"M4.2,0H-4.2\" style=\"opacity: 1; stroke: rgb(31, 119, 180); stroke-opacity: 1; stroke-width: 1px; fill: none;\"/><path class=\"point\" transform=\"translate(8.55,130)\" d=\"M4.2,0H-4.2\" style=\"opacity: 1; stroke: rgb(31, 119, 180); stroke-opacity: 1; stroke-width: 1px; fill: none;\"/><path class=\"point\" transform=\"translate(8.55,130)\" d=\"M4.2,0H-4.2\" style=\"opacity: 1; stroke: rgb(31, 119, 180); stroke-opacity: 1; stroke-width: 1px; fill: none;\"/><path class=\"point\" transform=\"translate(8.55,130)\" d=\"M4.2,0H-4.2\" style=\"opacity: 1; stroke: rgb(31, 119, 180); stroke-opacity: 1; stroke-width: 1px; fill: none;\"/><path class=\"point\" transform=\"translate(8.55,130)\" d=\"M4.2,0H-4.2\" style=\"opacity: 1; stroke: rgb(31, 119, 180); stroke-opacity: 1; stroke-width: 1px; fill: none;\"/><path class=\"point\" transform=\"translate(8.55,128.33)\" d=\"M4.2,0H-4.2\" style=\"opacity: 1; stroke: rgb(31, 119, 180); stroke-opacity: 1; stroke-width: 1px; fill: none;\"/><path class=\"point\" transform=\"translate(8.55,128.33)\" d=\"M4.2,0H-4.2\" style=\"opacity: 1; stroke: rgb(31, 119, 180); stroke-opacity: 1; stroke-width: 1px; fill: none;\"/><path class=\"point\" transform=\"translate(8.55,128.33)\" d=\"M4.2,0H-4.2\" style=\"opacity: 1; stroke: rgb(31, 119, 180); stroke-opacity: 1; stroke-width: 1px; fill: none;\"/><path class=\"point\" transform=\"translate(8.55,128.33)\" d=\"M4.2,0H-4.2\" style=\"opacity: 1; stroke: rgb(31, 119, 180); stroke-opacity: 1; stroke-width: 1px; fill: none;\"/><path class=\"point\" transform=\"translate(8.55,128.33)\" d=\"M4.2,0H-4.2\" style=\"opacity: 1; stroke: rgb(31, 119, 180); stroke-opacity: 1; stroke-width: 1px; fill: none;\"/><path class=\"point\" transform=\"translate(8.55,126.66)\" d=\"M4.2,0H-4.2\" style=\"opacity: 1; stroke: rgb(31, 119, 180); stroke-opacity: 1; stroke-width: 1px; fill: none;\"/><path class=\"point\" transform=\"translate(8.55,126.66)\" d=\"M4.2,0H-4.2\" style=\"opacity: 1; stroke: rgb(31, 119, 180); stroke-opacity: 1; stroke-width: 1px; fill: none;\"/><path class=\"point\" transform=\"translate(8.55,126.41)\" d=\"M4.2,0H-4.2\" style=\"opacity: 1; stroke: rgb(31, 119, 180); stroke-opacity: 1; stroke-width: 1px; fill: none;\"/><path class=\"point\" transform=\"translate(8.55,124.99)\" d=\"M4.2,0H-4.2\" style=\"opacity: 1; stroke: rgb(31, 119, 180); stroke-opacity: 1; stroke-width: 1px; fill: none;\"/><path class=\"point\" transform=\"translate(8.55,124.99)\" d=\"M4.2,0H-4.2\" style=\"opacity: 1; stroke: rgb(31, 119, 180); stroke-opacity: 1; stroke-width: 1px; fill: none;\"/><path class=\"point\" transform=\"translate(8.55,124.99)\" d=\"M4.2,0H-4.2\" style=\"opacity: 1; stroke: rgb(31, 119, 180); stroke-opacity: 1; stroke-width: 1px; fill: none;\"/><path class=\"point\" transform=\"translate(8.55,124.99)\" d=\"M4.2,0H-4.2\" style=\"opacity: 1; stroke: rgb(31, 119, 180); stroke-opacity: 1; stroke-width: 1px; fill: none;\"/><path class=\"point\" transform=\"translate(8.55,123.32)\" d=\"M4.2,0H-4.2\" style=\"opacity: 1; stroke: rgb(31, 119, 180); stroke-opacity: 1; stroke-width: 1px; fill: none;\"/><path class=\"point\" transform=\"translate(8.55,123.32)\" d=\"M4.2,0H-4.2\" style=\"opacity: 1; stroke: rgb(31, 119, 180); stroke-opacity: 1; stroke-width: 1px; fill: none;\"/><path class=\"point\" transform=\"translate(8.55,123.32)\" d=\"M4.2,0H-4.2\" style=\"opacity: 1; stroke: rgb(31, 119, 180); stroke-opacity: 1; stroke-width: 1px; fill: none;\"/><path class=\"point\" transform=\"translate(8.55,119.97)\" d=\"M4.2,0H-4.2\" style=\"opacity: 1; stroke: rgb(31, 119, 180); stroke-opacity: 1; stroke-width: 1px; fill: none;\"/><path class=\"point\" transform=\"translate(8.55,119.97)\" d=\"M4.2,0H-4.2\" style=\"opacity: 1; stroke: rgb(31, 119, 180); stroke-opacity: 1; stroke-width: 1px; fill: none;\"/><path class=\"point\" transform=\"translate(8.55,119.97)\" d=\"M4.2,0H-4.2\" style=\"opacity: 1; stroke: rgb(31, 119, 180); stroke-opacity: 1; stroke-width: 1px; fill: none;\"/><path class=\"point\" transform=\"translate(8.55,118.3)\" d=\"M4.2,0H-4.2\" style=\"opacity: 1; stroke: rgb(31, 119, 180); stroke-opacity: 1; stroke-width: 1px; fill: none;\"/><path class=\"point\" transform=\"translate(8.55,116.63)\" d=\"M4.2,0H-4.2\" style=\"opacity: 1; stroke: rgb(31, 119, 180); stroke-opacity: 1; stroke-width: 1px; fill: none;\"/><path class=\"point\" transform=\"translate(8.55,116.63)\" d=\"M4.2,0H-4.2\" style=\"opacity: 1; stroke: rgb(31, 119, 180); stroke-opacity: 1; stroke-width: 1px; fill: none;\"/><path class=\"point\" transform=\"translate(8.55,116.63)\" d=\"M4.2,0H-4.2\" style=\"opacity: 1; stroke: rgb(31, 119, 180); stroke-opacity: 1; stroke-width: 1px; fill: none;\"/><path class=\"point\" transform=\"translate(8.55,116.63)\" d=\"M4.2,0H-4.2\" style=\"opacity: 1; stroke: rgb(31, 119, 180); stroke-opacity: 1; stroke-width: 1px; fill: none;\"/><path class=\"point\" transform=\"translate(8.55,114.96)\" d=\"M4.2,0H-4.2\" style=\"opacity: 1; stroke: rgb(31, 119, 180); stroke-opacity: 1; stroke-width: 1px; fill: none;\"/><path class=\"point\" transform=\"translate(8.55,113.29)\" d=\"M4.2,0H-4.2\" style=\"opacity: 1; stroke: rgb(31, 119, 180); stroke-opacity: 1; stroke-width: 1px; fill: none;\"/><path class=\"point\" transform=\"translate(8.55,113.29)\" d=\"M4.2,0H-4.2\" style=\"opacity: 1; stroke: rgb(31, 119, 180); stroke-opacity: 1; stroke-width: 1px; fill: none;\"/><path class=\"point\" transform=\"translate(8.55,109.94)\" d=\"M4.2,0H-4.2\" style=\"opacity: 1; stroke: rgb(31, 119, 180); stroke-opacity: 1; stroke-width: 1px; fill: none;\"/><path class=\"point\" transform=\"translate(8.55,109.94)\" d=\"M4.2,0H-4.2\" style=\"opacity: 1; stroke: rgb(31, 119, 180); stroke-opacity: 1; stroke-width: 1px; fill: none;\"/><path class=\"point\" transform=\"translate(8.55,109.94)\" d=\"M4.2,0H-4.2\" style=\"opacity: 1; stroke: rgb(31, 119, 180); stroke-opacity: 1; stroke-width: 1px; fill: none;\"/><path class=\"point\" transform=\"translate(8.55,106.6)\" d=\"M4.2,0H-4.2\" style=\"opacity: 1; stroke: rgb(31, 119, 180); stroke-opacity: 1; stroke-width: 1px; fill: none;\"/><path class=\"point\" transform=\"translate(8.55,106.6)\" d=\"M4.2,0H-4.2\" style=\"opacity: 1; stroke: rgb(31, 119, 180); stroke-opacity: 1; stroke-width: 1px; fill: none;\"/><path class=\"point\" transform=\"translate(8.55,104.93)\" d=\"M4.2,0H-4.2\" style=\"opacity: 1; stroke: rgb(31, 119, 180); stroke-opacity: 1; stroke-width: 1px; fill: none;\"/><path class=\"point\" transform=\"translate(8.55,104.93)\" d=\"M4.2,0H-4.2\" style=\"opacity: 1; stroke: rgb(31, 119, 180); stroke-opacity: 1; stroke-width: 1px; fill: none;\"/><path class=\"point\" transform=\"translate(8.55,103.26)\" d=\"M4.2,0H-4.2\" style=\"opacity: 1; stroke: rgb(31, 119, 180); stroke-opacity: 1; stroke-width: 1px; fill: none;\"/><path class=\"point\" transform=\"translate(8.55,101.59)\" d=\"M4.2,0H-4.2\" style=\"opacity: 1; stroke: rgb(31, 119, 180); stroke-opacity: 1; stroke-width: 1px; fill: none;\"/><path class=\"point\" transform=\"translate(8.55,101.59)\" d=\"M4.2,0H-4.2\" style=\"opacity: 1; stroke: rgb(31, 119, 180); stroke-opacity: 1; stroke-width: 1px; fill: none;\"/><path class=\"point\" transform=\"translate(8.55,98.24)\" d=\"M4.2,0H-4.2\" style=\"opacity: 1; stroke: rgb(31, 119, 180); stroke-opacity: 1; stroke-width: 1px; fill: none;\"/><path class=\"point\" transform=\"translate(8.55,98.24)\" d=\"M4.2,0H-4.2\" style=\"opacity: 1; stroke: rgb(31, 119, 180); stroke-opacity: 1; stroke-width: 1px; fill: none;\"/><path class=\"point\" transform=\"translate(8.55,98.24)\" d=\"M4.2,0H-4.2\" style=\"opacity: 1; stroke: rgb(31, 119, 180); stroke-opacity: 1; stroke-width: 1px; fill: none;\"/><path class=\"point\" transform=\"translate(8.55,96.57)\" d=\"M4.2,0H-4.2\" style=\"opacity: 1; stroke: rgb(31, 119, 180); stroke-opacity: 1; stroke-width: 1px; fill: none;\"/><path class=\"point\" transform=\"translate(8.55,96.57)\" d=\"M4.2,0H-4.2\" style=\"opacity: 1; stroke: rgb(31, 119, 180); stroke-opacity: 1; stroke-width: 1px; fill: none;\"/><path class=\"point\" transform=\"translate(8.55,96.57)\" d=\"M4.2,0H-4.2\" style=\"opacity: 1; stroke: rgb(31, 119, 180); stroke-opacity: 1; stroke-width: 1px; fill: none;\"/><path class=\"point\" transform=\"translate(8.55,96.57)\" d=\"M4.2,0H-4.2\" style=\"opacity: 1; stroke: rgb(31, 119, 180); stroke-opacity: 1; stroke-width: 1px; fill: none;\"/><path class=\"point\" transform=\"translate(8.55,94.9)\" d=\"M4.2,0H-4.2\" style=\"opacity: 1; stroke: rgb(31, 119, 180); stroke-opacity: 1; stroke-width: 1px; fill: none;\"/><path class=\"point\" transform=\"translate(8.55,94.9)\" d=\"M4.2,0H-4.2\" style=\"opacity: 1; stroke: rgb(31, 119, 180); stroke-opacity: 1; stroke-width: 1px; fill: none;\"/><path class=\"point\" transform=\"translate(8.55,91.56)\" d=\"M4.2,0H-4.2\" style=\"opacity: 1; stroke: rgb(31, 119, 180); stroke-opacity: 1; stroke-width: 1px; fill: none;\"/><path class=\"point\" transform=\"translate(8.55,91.56)\" d=\"M4.2,0H-4.2\" style=\"opacity: 1; stroke: rgb(31, 119, 180); stroke-opacity: 1; stroke-width: 1px; fill: none;\"/><path class=\"point\" transform=\"translate(8.55,89.88)\" d=\"M4.2,0H-4.2\" style=\"opacity: 1; stroke: rgb(31, 119, 180); stroke-opacity: 1; stroke-width: 1px; fill: none;\"/><path class=\"point\" transform=\"translate(8.55,84.87)\" d=\"M4.2,0H-4.2\" style=\"opacity: 1; stroke: rgb(31, 119, 180); stroke-opacity: 1; stroke-width: 1px; fill: none;\"/><path class=\"point\" transform=\"translate(8.55,84.87)\" d=\"M4.2,0H-4.2\" style=\"opacity: 1; stroke: rgb(31, 119, 180); stroke-opacity: 1; stroke-width: 1px; fill: none;\"/><path class=\"point\" transform=\"translate(8.55,83.2)\" d=\"M4.2,0H-4.2\" style=\"opacity: 1; stroke: rgb(31, 119, 180); stroke-opacity: 1; stroke-width: 1px; fill: none;\"/><path class=\"point\" transform=\"translate(8.55,81.53)\" d=\"M4.2,0H-4.2\" style=\"opacity: 1; stroke: rgb(31, 119, 180); stroke-opacity: 1; stroke-width: 1px; fill: none;\"/><path class=\"point\" transform=\"translate(8.55,78.18)\" d=\"M4.2,0H-4.2\" style=\"opacity: 1; stroke: rgb(31, 119, 180); stroke-opacity: 1; stroke-width: 1px; fill: none;\"/><path class=\"point\" transform=\"translate(8.55,73.17)\" d=\"M4.2,0H-4.2\" style=\"opacity: 1; stroke: rgb(31, 119, 180); stroke-opacity: 1; stroke-width: 1px; fill: none;\"/><path class=\"point\" transform=\"translate(8.55,73.17)\" d=\"M4.2,0H-4.2\" style=\"opacity: 1; stroke: rgb(31, 119, 180); stroke-opacity: 1; stroke-width: 1px; fill: none;\"/><path class=\"point\" transform=\"translate(8.55,69.82)\" d=\"M4.2,0H-4.2\" style=\"opacity: 1; stroke: rgb(31, 119, 180); stroke-opacity: 1; stroke-width: 1px; fill: none;\"/><path class=\"point\" transform=\"translate(8.55,68.15)\" d=\"M4.2,0H-4.2\" style=\"opacity: 1; stroke: rgb(31, 119, 180); stroke-opacity: 1; stroke-width: 1px; fill: none;\"/><path class=\"point\" transform=\"translate(8.55,56.45)\" d=\"M4.2,0H-4.2\" style=\"opacity: 1; stroke: rgb(31, 119, 180); stroke-opacity: 1; stroke-width: 1px; fill: none;\"/><path class=\"point\" transform=\"translate(8.55,56.45)\" d=\"M4.2,0H-4.2\" style=\"opacity: 1; stroke: rgb(31, 119, 180); stroke-opacity: 1; stroke-width: 1px; fill: none;\"/><path class=\"point\" transform=\"translate(8.55,48.09)\" d=\"M4.2,0H-4.2\" style=\"opacity: 1; stroke: rgb(31, 119, 180); stroke-opacity: 1; stroke-width: 1px; fill: none;\"/><path class=\"point\" transform=\"translate(8.55,44.75)\" d=\"M4.2,0H-4.2\" style=\"opacity: 1; stroke: rgb(31, 119, 180); stroke-opacity: 1; stroke-width: 1px; fill: none;\"/><path class=\"point\" transform=\"translate(8.55,26.36)\" d=\"M4.2,0H-4.2\" style=\"opacity: 1; stroke: rgb(31, 119, 180); stroke-opacity: 1; stroke-width: 1px; fill: none;\"/><path class=\"point\" transform=\"translate(8.55,11.32)\" d=\"M4.2,0H-4.2\" style=\"opacity: 1; stroke: rgb(31, 119, 180); stroke-opacity: 1; stroke-width: 1px; fill: none;\"/></g></g></g></g><g class=\"overplot\"/><path class=\"xlines-above crisp\" d=\"M0,0\" style=\"fill: none;\"/><path class=\"ylines-above crisp\" d=\"M294.6056,40.648799999999994V192\" style=\"fill: none; stroke-width: 1px; stroke: rgb(36, 36, 36); stroke-opacity: 1;\"/><g class=\"overlines-above\"/><g class=\"xaxislayer-above\"/><g class=\"yaxislayer-above\"><path class=\"y2tick ticks crisp\" d=\"M294.1056,0h-5\" transform=\"translate(0,184.0288)\" style=\"stroke: rgb(68, 68, 68); stroke-opacity: 1; stroke-width: 1px;\"/><path class=\"y2tick ticks crisp\" d=\"M294.1056,0h-5\" transform=\"translate(0,150.5888)\" style=\"stroke: rgb(68, 68, 68); stroke-opacity: 1; stroke-width: 1px;\"/><path class=\"y2tick ticks crisp\" d=\"M294.1056,0h-5\" transform=\"translate(0,117.1588)\" style=\"stroke: rgb(68, 68, 68); stroke-opacity: 1; stroke-width: 1px;\"/><path class=\"y2tick ticks crisp\" d=\"M294.1056,0h-5\" transform=\"translate(0,83.72879999999999)\" style=\"stroke: rgb(68, 68, 68); stroke-opacity: 1; stroke-width: 1px;\"/><path class=\"y2tick ticks crisp\" d=\"M294.1056,0h-5\" transform=\"translate(0,50.29879999999999)\" style=\"stroke: rgb(68, 68, 68); stroke-opacity: 1; stroke-width: 1px;\"/></g><g class=\"overaxes-above\"/></g><g class=\"subplot x3y3\"><g class=\"layer-subplot\"><g class=\"shapelayer\"/><g class=\"imagelayer\"/></g><g class=\"minor-gridlayer\"><g class=\"x3\"/><g class=\"y3\"/></g><g class=\"gridlayer\"><g class=\"x3\"><path class=\"x3grid crisp\" transform=\"translate(94.6,0)\" d=\"M0,10v28.828799999999998\" style=\"stroke: rgb(232, 232, 232); stroke-opacity: 1; stroke-width: 1px;\"/><path class=\"x3grid crisp\" transform=\"translate(154.78,0)\" d=\"M0,10v28.828799999999998\" style=\"stroke: rgb(232, 232, 232); stroke-opacity: 1; stroke-width: 1px;\"/><path class=\"x3grid crisp\" transform=\"translate(214.97,0)\" d=\"M0,10v28.828799999999998\" style=\"stroke: rgb(232, 232, 232); stroke-opacity: 1; stroke-width: 1px;\"/><path class=\"x3grid crisp\" transform=\"translate(275.15,0)\" d=\"M0,10v28.828799999999998\" style=\"stroke: rgb(232, 232, 232); stroke-opacity: 1; stroke-width: 1px;\"/></g><g class=\"y3\"><path class=\"y3grid crisp\" transform=\"translate(0,22.91)\" d=\"M58,0h235.69559999999998\" style=\"stroke: rgb(232, 232, 232); stroke-opacity: 1; stroke-width: 1px;\"/></g></g><g class=\"zerolinelayer\"/><path class=\"xlines-below\"/><path class=\"ylines-below\"/><g class=\"overlines-below\"/><g class=\"xaxislayer-below\"/><g class=\"yaxislayer-below\"/><g class=\"overaxes-below\"/><g class=\"plot\" transform=\"translate(58,10)\" clip-path=\"url(#clip63984ax3y3plot)\"><g class=\"boxlayer mlayer\"><g class=\"trace boxes\" style=\"opacity: 1;\"><path class=\"box\" d=\"M120.86,19.24V6.59M84.75,19.24V6.59H162.23V19.24ZM84.75,12.91H15.53M162.23,12.91H220.16M15.53,16.08V9.75M220.16,16.08V9.75\" style=\"vector-effect: none; stroke-width: 2px; stroke: rgb(255, 255, 255); stroke-opacity: 0; fill: rgb(255, 255, 255); fill-opacity: 0;\"/><g class=\"points\"><path class=\"point\" transform=\"translate(15.53,22.41)\" d=\"M0,4.2V-4.2\" style=\"opacity: 1; stroke: rgb(31, 119, 180); stroke-opacity: 1; stroke-width: 1px; fill: none;\"/><path class=\"point\" transform=\"translate(45.63,22.41)\" d=\"M0,4.2V-4.2\" style=\"opacity: 1; stroke: rgb(31, 119, 180); stroke-opacity: 1; stroke-width: 1px; fill: none;\"/><path class=\"point\" transform=\"translate(45.63,22.41)\" d=\"M0,4.2V-4.2\" style=\"opacity: 1; stroke: rgb(31, 119, 180); stroke-opacity: 1; stroke-width: 1px; fill: none;\"/><path class=\"point\" transform=\"translate(48.64,22.41)\" d=\"M0,4.2V-4.2\" style=\"opacity: 1; stroke: rgb(31, 119, 180); stroke-opacity: 1; stroke-width: 1px; fill: none;\"/><path class=\"point\" transform=\"translate(48.64,22.41)\" d=\"M0,4.2V-4.2\" style=\"opacity: 1; stroke: rgb(31, 119, 180); stroke-opacity: 1; stroke-width: 1px; fill: none;\"/><path class=\"point\" transform=\"translate(48.64,22.41)\" d=\"M0,4.2V-4.2\" style=\"opacity: 1; stroke: rgb(31, 119, 180); stroke-opacity: 1; stroke-width: 1px; fill: none;\"/><path class=\"point\" transform=\"translate(48.64,22.41)\" d=\"M0,4.2V-4.2\" style=\"opacity: 1; stroke: rgb(31, 119, 180); stroke-opacity: 1; stroke-width: 1px; fill: none;\"/><path class=\"point\" transform=\"translate(51.65,22.41)\" d=\"M0,4.2V-4.2\" style=\"opacity: 1; stroke: rgb(31, 119, 180); stroke-opacity: 1; stroke-width: 1px; fill: none;\"/><path class=\"point\" transform=\"translate(51.65,22.41)\" d=\"M0,4.2V-4.2\" style=\"opacity: 1; stroke: rgb(31, 119, 180); stroke-opacity: 1; stroke-width: 1px; fill: none;\"/><path class=\"point\" transform=\"translate(51.65,22.41)\" d=\"M0,4.2V-4.2\" style=\"opacity: 1; stroke: rgb(31, 119, 180); stroke-opacity: 1; stroke-width: 1px; fill: none;\"/><path class=\"point\" transform=\"translate(51.65,22.41)\" d=\"M0,4.2V-4.2\" style=\"opacity: 1; stroke: rgb(31, 119, 180); stroke-opacity: 1; stroke-width: 1px; fill: none;\"/><path class=\"point\" transform=\"translate(51.65,22.41)\" d=\"M0,4.2V-4.2\" style=\"opacity: 1; stroke: rgb(31, 119, 180); stroke-opacity: 1; stroke-width: 1px; fill: none;\"/><path class=\"point\" transform=\"translate(51.65,22.41)\" d=\"M0,4.2V-4.2\" style=\"opacity: 1; stroke: rgb(31, 119, 180); stroke-opacity: 1; stroke-width: 1px; fill: none;\"/><path class=\"point\" transform=\"translate(51.65,22.41)\" d=\"M0,4.2V-4.2\" style=\"opacity: 1; stroke: rgb(31, 119, 180); stroke-opacity: 1; stroke-width: 1px; fill: none;\"/><path class=\"point\" transform=\"translate(51.65,22.41)\" d=\"M0,4.2V-4.2\" style=\"opacity: 1; stroke: rgb(31, 119, 180); stroke-opacity: 1; stroke-width: 1px; fill: none;\"/><path class=\"point\" transform=\"translate(51.65,22.41)\" d=\"M0,4.2V-4.2\" style=\"opacity: 1; stroke: rgb(31, 119, 180); stroke-opacity: 1; stroke-width: 1px; fill: none;\"/><path class=\"point\" transform=\"translate(54.65,22.41)\" d=\"M0,4.2V-4.2\" style=\"opacity: 1; stroke: rgb(31, 119, 180); stroke-opacity: 1; stroke-width: 1px; fill: none;\"/><path class=\"point\" transform=\"translate(57.66,22.41)\" d=\"M0,4.2V-4.2\" style=\"opacity: 1; stroke: rgb(31, 119, 180); stroke-opacity: 1; stroke-width: 1px; fill: none;\"/><path class=\"point\" transform=\"translate(57.66,22.41)\" d=\"M0,4.2V-4.2\" style=\"opacity: 1; stroke: rgb(31, 119, 180); stroke-opacity: 1; stroke-width: 1px; fill: none;\"/><path class=\"point\" transform=\"translate(57.66,22.41)\" d=\"M0,4.2V-4.2\" style=\"opacity: 1; stroke: rgb(31, 119, 180); stroke-opacity: 1; stroke-width: 1px; fill: none;\"/><path class=\"point\" transform=\"translate(57.66,22.41)\" d=\"M0,4.2V-4.2\" style=\"opacity: 1; stroke: rgb(31, 119, 180); stroke-opacity: 1; stroke-width: 1px; fill: none;\"/><path class=\"point\" transform=\"translate(57.66,22.41)\" d=\"M0,4.2V-4.2\" style=\"opacity: 1; stroke: rgb(31, 119, 180); stroke-opacity: 1; stroke-width: 1px; fill: none;\"/><path class=\"point\" transform=\"translate(60.67,22.41)\" d=\"M0,4.2V-4.2\" style=\"opacity: 1; stroke: rgb(31, 119, 180); stroke-opacity: 1; stroke-width: 1px; fill: none;\"/><path class=\"point\" transform=\"translate(63.68,22.41)\" d=\"M0,4.2V-4.2\" style=\"opacity: 1; stroke: rgb(31, 119, 180); stroke-opacity: 1; stroke-width: 1px; fill: none;\"/><path class=\"point\" transform=\"translate(63.68,22.41)\" d=\"M0,4.2V-4.2\" style=\"opacity: 1; stroke: rgb(31, 119, 180); stroke-opacity: 1; stroke-width: 1px; fill: none;\"/><path class=\"point\" transform=\"translate(63.68,22.41)\" d=\"M0,4.2V-4.2\" style=\"opacity: 1; stroke: rgb(31, 119, 180); stroke-opacity: 1; stroke-width: 1px; fill: none;\"/><path class=\"point\" transform=\"translate(63.68,22.41)\" d=\"M0,4.2V-4.2\" style=\"opacity: 1; stroke: rgb(31, 119, 180); stroke-opacity: 1; stroke-width: 1px; fill: none;\"/><path class=\"point\" transform=\"translate(66.69,22.41)\" d=\"M0,4.2V-4.2\" style=\"opacity: 1; stroke: rgb(31, 119, 180); stroke-opacity: 1; stroke-width: 1px; fill: none;\"/><path class=\"point\" transform=\"translate(66.69,22.41)\" d=\"M0,4.2V-4.2\" style=\"opacity: 1; stroke: rgb(31, 119, 180); stroke-opacity: 1; stroke-width: 1px; fill: none;\"/><path class=\"point\" transform=\"translate(72.71,22.41)\" d=\"M0,4.2V-4.2\" style=\"opacity: 1; stroke: rgb(31, 119, 180); stroke-opacity: 1; stroke-width: 1px; fill: none;\"/><path class=\"point\" transform=\"translate(72.71,22.41)\" d=\"M0,4.2V-4.2\" style=\"opacity: 1; stroke: rgb(31, 119, 180); stroke-opacity: 1; stroke-width: 1px; fill: none;\"/><path class=\"point\" transform=\"translate(75.72,22.41)\" d=\"M0,4.2V-4.2\" style=\"opacity: 1; stroke: rgb(31, 119, 180); stroke-opacity: 1; stroke-width: 1px; fill: none;\"/><path class=\"point\" transform=\"translate(75.72,22.41)\" d=\"M0,4.2V-4.2\" style=\"opacity: 1; stroke: rgb(31, 119, 180); stroke-opacity: 1; stroke-width: 1px; fill: none;\"/><path class=\"point\" transform=\"translate(78.73,22.41)\" d=\"M0,4.2V-4.2\" style=\"opacity: 1; stroke: rgb(31, 119, 180); stroke-opacity: 1; stroke-width: 1px; fill: none;\"/><path class=\"point\" transform=\"translate(78.73,22.41)\" d=\"M0,4.2V-4.2\" style=\"opacity: 1; stroke: rgb(31, 119, 180); stroke-opacity: 1; stroke-width: 1px; fill: none;\"/><path class=\"point\" transform=\"translate(78.73,22.41)\" d=\"M0,4.2V-4.2\" style=\"opacity: 1; stroke: rgb(31, 119, 180); stroke-opacity: 1; stroke-width: 1px; fill: none;\"/><path class=\"point\" transform=\"translate(84.75,22.41)\" d=\"M0,4.2V-4.2\" style=\"opacity: 1; stroke: rgb(31, 119, 180); stroke-opacity: 1; stroke-width: 1px; fill: none;\"/><path class=\"point\" transform=\"translate(84.75,22.41)\" d=\"M0,4.2V-4.2\" style=\"opacity: 1; stroke: rgb(31, 119, 180); stroke-opacity: 1; stroke-width: 1px; fill: none;\"/><path class=\"point\" transform=\"translate(84.75,22.41)\" d=\"M0,4.2V-4.2\" style=\"opacity: 1; stroke: rgb(31, 119, 180); stroke-opacity: 1; stroke-width: 1px; fill: none;\"/><path class=\"point\" transform=\"translate(84.75,22.41)\" d=\"M0,4.2V-4.2\" style=\"opacity: 1; stroke: rgb(31, 119, 180); stroke-opacity: 1; stroke-width: 1px; fill: none;\"/><path class=\"point\" transform=\"translate(84.75,22.41)\" d=\"M0,4.2V-4.2\" style=\"opacity: 1; stroke: rgb(31, 119, 180); stroke-opacity: 1; stroke-width: 1px; fill: none;\"/><path class=\"point\" transform=\"translate(84.75,22.41)\" d=\"M0,4.2V-4.2\" style=\"opacity: 1; stroke: rgb(31, 119, 180); stroke-opacity: 1; stroke-width: 1px; fill: none;\"/><path class=\"point\" transform=\"translate(87.76,22.41)\" d=\"M0,4.2V-4.2\" style=\"opacity: 1; stroke: rgb(31, 119, 180); stroke-opacity: 1; stroke-width: 1px; fill: none;\"/><path class=\"point\" transform=\"translate(87.76,22.41)\" d=\"M0,4.2V-4.2\" style=\"opacity: 1; stroke: rgb(31, 119, 180); stroke-opacity: 1; stroke-width: 1px; fill: none;\"/><path class=\"point\" transform=\"translate(87.76,22.41)\" d=\"M0,4.2V-4.2\" style=\"opacity: 1; stroke: rgb(31, 119, 180); stroke-opacity: 1; stroke-width: 1px; fill: none;\"/><path class=\"point\" transform=\"translate(90.76,22.41)\" d=\"M0,4.2V-4.2\" style=\"opacity: 1; stroke: rgb(31, 119, 180); stroke-opacity: 1; stroke-width: 1px; fill: none;\"/><path class=\"point\" transform=\"translate(90.76,22.41)\" d=\"M0,4.2V-4.2\" style=\"opacity: 1; stroke: rgb(31, 119, 180); stroke-opacity: 1; stroke-width: 1px; fill: none;\"/><path class=\"point\" transform=\"translate(90.76,22.41)\" d=\"M0,4.2V-4.2\" style=\"opacity: 1; stroke: rgb(31, 119, 180); stroke-opacity: 1; stroke-width: 1px; fill: none;\"/><path class=\"point\" transform=\"translate(90.76,22.41)\" d=\"M0,4.2V-4.2\" style=\"opacity: 1; stroke: rgb(31, 119, 180); stroke-opacity: 1; stroke-width: 1px; fill: none;\"/><path class=\"point\" transform=\"translate(90.76,22.41)\" d=\"M0,4.2V-4.2\" style=\"opacity: 1; stroke: rgb(31, 119, 180); stroke-opacity: 1; stroke-width: 1px; fill: none;\"/><path class=\"point\" transform=\"translate(93.77,22.41)\" d=\"M0,4.2V-4.2\" style=\"opacity: 1; stroke: rgb(31, 119, 180); stroke-opacity: 1; stroke-width: 1px; fill: none;\"/><path class=\"point\" transform=\"translate(99.79,22.41)\" d=\"M0,4.2V-4.2\" style=\"opacity: 1; stroke: rgb(31, 119, 180); stroke-opacity: 1; stroke-width: 1px; fill: none;\"/><path class=\"point\" transform=\"translate(99.79,22.41)\" d=\"M0,4.2V-4.2\" style=\"opacity: 1; stroke: rgb(31, 119, 180); stroke-opacity: 1; stroke-width: 1px; fill: none;\"/><path class=\"point\" transform=\"translate(99.79,22.41)\" d=\"M0,4.2V-4.2\" style=\"opacity: 1; stroke: rgb(31, 119, 180); stroke-opacity: 1; stroke-width: 1px; fill: none;\"/><path class=\"point\" transform=\"translate(99.79,22.41)\" d=\"M0,4.2V-4.2\" style=\"opacity: 1; stroke: rgb(31, 119, 180); stroke-opacity: 1; stroke-width: 1px; fill: none;\"/><path class=\"point\" transform=\"translate(102.8,22.41)\" d=\"M0,4.2V-4.2\" style=\"opacity: 1; stroke: rgb(31, 119, 180); stroke-opacity: 1; stroke-width: 1px; fill: none;\"/><path class=\"point\" transform=\"translate(102.8,22.41)\" d=\"M0,4.2V-4.2\" style=\"opacity: 1; stroke: rgb(31, 119, 180); stroke-opacity: 1; stroke-width: 1px; fill: none;\"/><path class=\"point\" transform=\"translate(102.8,22.41)\" d=\"M0,4.2V-4.2\" style=\"opacity: 1; stroke: rgb(31, 119, 180); stroke-opacity: 1; stroke-width: 1px; fill: none;\"/><path class=\"point\" transform=\"translate(102.8,22.41)\" d=\"M0,4.2V-4.2\" style=\"opacity: 1; stroke: rgb(31, 119, 180); stroke-opacity: 1; stroke-width: 1px; fill: none;\"/><path class=\"point\" transform=\"translate(108.82,22.41)\" d=\"M0,4.2V-4.2\" style=\"opacity: 1; stroke: rgb(31, 119, 180); stroke-opacity: 1; stroke-width: 1px; fill: none;\"/><path class=\"point\" transform=\"translate(108.82,22.41)\" d=\"M0,4.2V-4.2\" style=\"opacity: 1; stroke: rgb(31, 119, 180); stroke-opacity: 1; stroke-width: 1px; fill: none;\"/><path class=\"point\" transform=\"translate(108.82,22.41)\" d=\"M0,4.2V-4.2\" style=\"opacity: 1; stroke: rgb(31, 119, 180); stroke-opacity: 1; stroke-width: 1px; fill: none;\"/><path class=\"point\" transform=\"translate(108.82,22.41)\" d=\"M0,4.2V-4.2\" style=\"opacity: 1; stroke: rgb(31, 119, 180); stroke-opacity: 1; stroke-width: 1px; fill: none;\"/><path class=\"point\" transform=\"translate(111.83,22.41)\" d=\"M0,4.2V-4.2\" style=\"opacity: 1; stroke: rgb(31, 119, 180); stroke-opacity: 1; stroke-width: 1px; fill: none;\"/><path class=\"point\" transform=\"translate(114.84,22.41)\" d=\"M0,4.2V-4.2\" style=\"opacity: 1; stroke: rgb(31, 119, 180); stroke-opacity: 1; stroke-width: 1px; fill: none;\"/><path class=\"point\" transform=\"translate(114.84,22.41)\" d=\"M0,4.2V-4.2\" style=\"opacity: 1; stroke: rgb(31, 119, 180); stroke-opacity: 1; stroke-width: 1px; fill: none;\"/><path class=\"point\" transform=\"translate(114.84,22.41)\" d=\"M0,4.2V-4.2\" style=\"opacity: 1; stroke: rgb(31, 119, 180); stroke-opacity: 1; stroke-width: 1px; fill: none;\"/><path class=\"point\" transform=\"translate(114.84,22.41)\" d=\"M0,4.2V-4.2\" style=\"opacity: 1; stroke: rgb(31, 119, 180); stroke-opacity: 1; stroke-width: 1px; fill: none;\"/><path class=\"point\" transform=\"translate(114.84,22.41)\" d=\"M0,4.2V-4.2\" style=\"opacity: 1; stroke: rgb(31, 119, 180); stroke-opacity: 1; stroke-width: 1px; fill: none;\"/><path class=\"point\" transform=\"translate(117.85,22.41)\" d=\"M0,4.2V-4.2\" style=\"opacity: 1; stroke: rgb(31, 119, 180); stroke-opacity: 1; stroke-width: 1px; fill: none;\"/><path class=\"point\" transform=\"translate(117.85,22.41)\" d=\"M0,4.2V-4.2\" style=\"opacity: 1; stroke: rgb(31, 119, 180); stroke-opacity: 1; stroke-width: 1px; fill: none;\"/><path class=\"point\" transform=\"translate(117.85,22.41)\" d=\"M0,4.2V-4.2\" style=\"opacity: 1; stroke: rgb(31, 119, 180); stroke-opacity: 1; stroke-width: 1px; fill: none;\"/><path class=\"point\" transform=\"translate(117.85,22.41)\" d=\"M0,4.2V-4.2\" style=\"opacity: 1; stroke: rgb(31, 119, 180); stroke-opacity: 1; stroke-width: 1px; fill: none;\"/><path class=\"point\" transform=\"translate(117.85,22.41)\" d=\"M0,4.2V-4.2\" style=\"opacity: 1; stroke: rgb(31, 119, 180); stroke-opacity: 1; stroke-width: 1px; fill: none;\"/><path class=\"point\" transform=\"translate(117.85,22.41)\" d=\"M0,4.2V-4.2\" style=\"opacity: 1; stroke: rgb(31, 119, 180); stroke-opacity: 1; stroke-width: 1px; fill: none;\"/><path class=\"point\" transform=\"translate(117.85,22.41)\" d=\"M0,4.2V-4.2\" style=\"opacity: 1; stroke: rgb(31, 119, 180); stroke-opacity: 1; stroke-width: 1px; fill: none;\"/><path class=\"point\" transform=\"translate(117.85,22.41)\" d=\"M0,4.2V-4.2\" style=\"opacity: 1; stroke: rgb(31, 119, 180); stroke-opacity: 1; stroke-width: 1px; fill: none;\"/><path class=\"point\" transform=\"translate(117.85,22.41)\" d=\"M0,4.2V-4.2\" style=\"opacity: 1; stroke: rgb(31, 119, 180); stroke-opacity: 1; stroke-width: 1px; fill: none;\"/><path class=\"point\" transform=\"translate(120.86,22.41)\" d=\"M0,4.2V-4.2\" style=\"opacity: 1; stroke: rgb(31, 119, 180); stroke-opacity: 1; stroke-width: 1px; fill: none;\"/><path class=\"point\" transform=\"translate(120.86,22.41)\" d=\"M0,4.2V-4.2\" style=\"opacity: 1; stroke: rgb(31, 119, 180); stroke-opacity: 1; stroke-width: 1px; fill: none;\"/><path class=\"point\" transform=\"translate(120.86,22.41)\" d=\"M0,4.2V-4.2\" style=\"opacity: 1; stroke: rgb(31, 119, 180); stroke-opacity: 1; stroke-width: 1px; fill: none;\"/><path class=\"point\" transform=\"translate(126.88,22.41)\" d=\"M0,4.2V-4.2\" style=\"opacity: 1; stroke: rgb(31, 119, 180); stroke-opacity: 1; stroke-width: 1px; fill: none;\"/><path class=\"point\" transform=\"translate(129.88,22.41)\" d=\"M0,4.2V-4.2\" style=\"opacity: 1; stroke: rgb(31, 119, 180); stroke-opacity: 1; stroke-width: 1px; fill: none;\"/><path class=\"point\" transform=\"translate(129.88,22.41)\" d=\"M0,4.2V-4.2\" style=\"opacity: 1; stroke: rgb(31, 119, 180); stroke-opacity: 1; stroke-width: 1px; fill: none;\"/><path class=\"point\" transform=\"translate(129.88,22.41)\" d=\"M0,4.2V-4.2\" style=\"opacity: 1; stroke: rgb(31, 119, 180); stroke-opacity: 1; stroke-width: 1px; fill: none;\"/><path class=\"point\" transform=\"translate(129.88,22.41)\" d=\"M0,4.2V-4.2\" style=\"opacity: 1; stroke: rgb(31, 119, 180); stroke-opacity: 1; stroke-width: 1px; fill: none;\"/><path class=\"point\" transform=\"translate(129.88,22.41)\" d=\"M0,4.2V-4.2\" style=\"opacity: 1; stroke: rgb(31, 119, 180); stroke-opacity: 1; stroke-width: 1px; fill: none;\"/><path class=\"point\" transform=\"translate(132.89,22.41)\" d=\"M0,4.2V-4.2\" style=\"opacity: 1; stroke: rgb(31, 119, 180); stroke-opacity: 1; stroke-width: 1px; fill: none;\"/><path class=\"point\" transform=\"translate(135.9,22.41)\" d=\"M0,4.2V-4.2\" style=\"opacity: 1; stroke: rgb(31, 119, 180); stroke-opacity: 1; stroke-width: 1px; fill: none;\"/><path class=\"point\" transform=\"translate(135.9,22.41)\" d=\"M0,4.2V-4.2\" style=\"opacity: 1; stroke: rgb(31, 119, 180); stroke-opacity: 1; stroke-width: 1px; fill: none;\"/><path class=\"point\" transform=\"translate(138.91,22.41)\" d=\"M0,4.2V-4.2\" style=\"opacity: 1; stroke: rgb(31, 119, 180); stroke-opacity: 1; stroke-width: 1px; fill: none;\"/><path class=\"point\" transform=\"translate(141.92,22.41)\" d=\"M0,4.2V-4.2\" style=\"opacity: 1; stroke: rgb(31, 119, 180); stroke-opacity: 1; stroke-width: 1px; fill: none;\"/><path class=\"point\" transform=\"translate(141.92,22.41)\" d=\"M0,4.2V-4.2\" style=\"opacity: 1; stroke: rgb(31, 119, 180); stroke-opacity: 1; stroke-width: 1px; fill: none;\"/><path class=\"point\" transform=\"translate(141.92,22.41)\" d=\"M0,4.2V-4.2\" style=\"opacity: 1; stroke: rgb(31, 119, 180); stroke-opacity: 1; stroke-width: 1px; fill: none;\"/><path class=\"point\" transform=\"translate(144.93,22.41)\" d=\"M0,4.2V-4.2\" style=\"opacity: 1; stroke: rgb(31, 119, 180); stroke-opacity: 1; stroke-width: 1px; fill: none;\"/><path class=\"point\" transform=\"translate(144.93,22.41)\" d=\"M0,4.2V-4.2\" style=\"opacity: 1; stroke: rgb(31, 119, 180); stroke-opacity: 1; stroke-width: 1px; fill: none;\"/><path class=\"point\" transform=\"translate(147.94,22.41)\" d=\"M0,4.2V-4.2\" style=\"opacity: 1; stroke: rgb(31, 119, 180); stroke-opacity: 1; stroke-width: 1px; fill: none;\"/><path class=\"point\" transform=\"translate(147.94,22.41)\" d=\"M0,4.2V-4.2\" style=\"opacity: 1; stroke: rgb(31, 119, 180); stroke-opacity: 1; stroke-width: 1px; fill: none;\"/><path class=\"point\" transform=\"translate(147.94,22.41)\" d=\"M0,4.2V-4.2\" style=\"opacity: 1; stroke: rgb(31, 119, 180); stroke-opacity: 1; stroke-width: 1px; fill: none;\"/><path class=\"point\" transform=\"translate(150.95,22.41)\" d=\"M0,4.2V-4.2\" style=\"opacity: 1; stroke: rgb(31, 119, 180); stroke-opacity: 1; stroke-width: 1px; fill: none;\"/><path class=\"point\" transform=\"translate(150.95,22.41)\" d=\"M0,4.2V-4.2\" style=\"opacity: 1; stroke: rgb(31, 119, 180); stroke-opacity: 1; stroke-width: 1px; fill: none;\"/><path class=\"point\" transform=\"translate(150.95,22.41)\" d=\"M0,4.2V-4.2\" style=\"opacity: 1; stroke: rgb(31, 119, 180); stroke-opacity: 1; stroke-width: 1px; fill: none;\"/><path class=\"point\" transform=\"translate(150.95,22.41)\" d=\"M0,4.2V-4.2\" style=\"opacity: 1; stroke: rgb(31, 119, 180); stroke-opacity: 1; stroke-width: 1px; fill: none;\"/><path class=\"point\" transform=\"translate(150.95,22.41)\" d=\"M0,4.2V-4.2\" style=\"opacity: 1; stroke: rgb(31, 119, 180); stroke-opacity: 1; stroke-width: 1px; fill: none;\"/><path class=\"point\" transform=\"translate(150.95,22.41)\" d=\"M0,4.2V-4.2\" style=\"opacity: 1; stroke: rgb(31, 119, 180); stroke-opacity: 1; stroke-width: 1px; fill: none;\"/><path class=\"point\" transform=\"translate(153.96,22.41)\" d=\"M0,4.2V-4.2\" style=\"opacity: 1; stroke: rgb(31, 119, 180); stroke-opacity: 1; stroke-width: 1px; fill: none;\"/><path class=\"point\" transform=\"translate(153.96,22.41)\" d=\"M0,4.2V-4.2\" style=\"opacity: 1; stroke: rgb(31, 119, 180); stroke-opacity: 1; stroke-width: 1px; fill: none;\"/><path class=\"point\" transform=\"translate(156.97,22.41)\" d=\"M0,4.2V-4.2\" style=\"opacity: 1; stroke: rgb(31, 119, 180); stroke-opacity: 1; stroke-width: 1px; fill: none;\"/><path class=\"point\" transform=\"translate(159.98,22.41)\" d=\"M0,4.2V-4.2\" style=\"opacity: 1; stroke: rgb(31, 119, 180); stroke-opacity: 1; stroke-width: 1px; fill: none;\"/><path class=\"point\" transform=\"translate(159.98,22.41)\" d=\"M0,4.2V-4.2\" style=\"opacity: 1; stroke: rgb(31, 119, 180); stroke-opacity: 1; stroke-width: 1px; fill: none;\"/><path class=\"point\" transform=\"translate(159.98,22.41)\" d=\"M0,4.2V-4.2\" style=\"opacity: 1; stroke: rgb(31, 119, 180); stroke-opacity: 1; stroke-width: 1px; fill: none;\"/><path class=\"point\" transform=\"translate(159.98,22.41)\" d=\"M0,4.2V-4.2\" style=\"opacity: 1; stroke: rgb(31, 119, 180); stroke-opacity: 1; stroke-width: 1px; fill: none;\"/><path class=\"point\" transform=\"translate(159.98,22.41)\" d=\"M0,4.2V-4.2\" style=\"opacity: 1; stroke: rgb(31, 119, 180); stroke-opacity: 1; stroke-width: 1px; fill: none;\"/><path class=\"point\" transform=\"translate(159.98,22.41)\" d=\"M0,4.2V-4.2\" style=\"opacity: 1; stroke: rgb(31, 119, 180); stroke-opacity: 1; stroke-width: 1px; fill: none;\"/><path class=\"point\" transform=\"translate(159.98,22.41)\" d=\"M0,4.2V-4.2\" style=\"opacity: 1; stroke: rgb(31, 119, 180); stroke-opacity: 1; stroke-width: 1px; fill: none;\"/><path class=\"point\" transform=\"translate(159.98,22.41)\" d=\"M0,4.2V-4.2\" style=\"opacity: 1; stroke: rgb(31, 119, 180); stroke-opacity: 1; stroke-width: 1px; fill: none;\"/><path class=\"point\" transform=\"translate(159.98,22.41)\" d=\"M0,4.2V-4.2\" style=\"opacity: 1; stroke: rgb(31, 119, 180); stroke-opacity: 1; stroke-width: 1px; fill: none;\"/><path class=\"point\" transform=\"translate(159.98,22.41)\" d=\"M0,4.2V-4.2\" style=\"opacity: 1; stroke: rgb(31, 119, 180); stroke-opacity: 1; stroke-width: 1px; fill: none;\"/><path class=\"point\" transform=\"translate(159.98,22.41)\" d=\"M0,4.2V-4.2\" style=\"opacity: 1; stroke: rgb(31, 119, 180); stroke-opacity: 1; stroke-width: 1px; fill: none;\"/><path class=\"point\" transform=\"translate(162.99,22.41)\" d=\"M0,4.2V-4.2\" style=\"opacity: 1; stroke: rgb(31, 119, 180); stroke-opacity: 1; stroke-width: 1px; fill: none;\"/><path class=\"point\" transform=\"translate(162.99,22.41)\" d=\"M0,4.2V-4.2\" style=\"opacity: 1; stroke: rgb(31, 119, 180); stroke-opacity: 1; stroke-width: 1px; fill: none;\"/><path class=\"point\" transform=\"translate(162.99,22.41)\" d=\"M0,4.2V-4.2\" style=\"opacity: 1; stroke: rgb(31, 119, 180); stroke-opacity: 1; stroke-width: 1px; fill: none;\"/><path class=\"point\" transform=\"translate(162.99,22.41)\" d=\"M0,4.2V-4.2\" style=\"opacity: 1; stroke: rgb(31, 119, 180); stroke-opacity: 1; stroke-width: 1px; fill: none;\"/><path class=\"point\" transform=\"translate(162.99,22.41)\" d=\"M0,4.2V-4.2\" style=\"opacity: 1; stroke: rgb(31, 119, 180); stroke-opacity: 1; stroke-width: 1px; fill: none;\"/><path class=\"point\" transform=\"translate(162.99,22.41)\" d=\"M0,4.2V-4.2\" style=\"opacity: 1; stroke: rgb(31, 119, 180); stroke-opacity: 1; stroke-width: 1px; fill: none;\"/><path class=\"point\" transform=\"translate(169,22.41)\" d=\"M0,4.2V-4.2\" style=\"opacity: 1; stroke: rgb(31, 119, 180); stroke-opacity: 1; stroke-width: 1px; fill: none;\"/><path class=\"point\" transform=\"translate(169,22.41)\" d=\"M0,4.2V-4.2\" style=\"opacity: 1; stroke: rgb(31, 119, 180); stroke-opacity: 1; stroke-width: 1px; fill: none;\"/><path class=\"point\" transform=\"translate(169,22.41)\" d=\"M0,4.2V-4.2\" style=\"opacity: 1; stroke: rgb(31, 119, 180); stroke-opacity: 1; stroke-width: 1px; fill: none;\"/><path class=\"point\" transform=\"translate(169,22.41)\" d=\"M0,4.2V-4.2\" style=\"opacity: 1; stroke: rgb(31, 119, 180); stroke-opacity: 1; stroke-width: 1px; fill: none;\"/><path class=\"point\" transform=\"translate(169,22.41)\" d=\"M0,4.2V-4.2\" style=\"opacity: 1; stroke: rgb(31, 119, 180); stroke-opacity: 1; stroke-width: 1px; fill: none;\"/><path class=\"point\" transform=\"translate(169,22.41)\" d=\"M0,4.2V-4.2\" style=\"opacity: 1; stroke: rgb(31, 119, 180); stroke-opacity: 1; stroke-width: 1px; fill: none;\"/><path class=\"point\" transform=\"translate(169,22.41)\" d=\"M0,4.2V-4.2\" style=\"opacity: 1; stroke: rgb(31, 119, 180); stroke-opacity: 1; stroke-width: 1px; fill: none;\"/><path class=\"point\" transform=\"translate(169,22.41)\" d=\"M0,4.2V-4.2\" style=\"opacity: 1; stroke: rgb(31, 119, 180); stroke-opacity: 1; stroke-width: 1px; fill: none;\"/><path class=\"point\" transform=\"translate(169,22.41)\" d=\"M0,4.2V-4.2\" style=\"opacity: 1; stroke: rgb(31, 119, 180); stroke-opacity: 1; stroke-width: 1px; fill: none;\"/><path class=\"point\" transform=\"translate(172.01,22.41)\" d=\"M0,4.2V-4.2\" style=\"opacity: 1; stroke: rgb(31, 119, 180); stroke-opacity: 1; stroke-width: 1px; fill: none;\"/><path class=\"point\" transform=\"translate(172.01,22.41)\" d=\"M0,4.2V-4.2\" style=\"opacity: 1; stroke: rgb(31, 119, 180); stroke-opacity: 1; stroke-width: 1px; fill: none;\"/><path class=\"point\" transform=\"translate(172.01,22.41)\" d=\"M0,4.2V-4.2\" style=\"opacity: 1; stroke: rgb(31, 119, 180); stroke-opacity: 1; stroke-width: 1px; fill: none;\"/><path class=\"point\" transform=\"translate(172.01,22.41)\" d=\"M0,4.2V-4.2\" style=\"opacity: 1; stroke: rgb(31, 119, 180); stroke-opacity: 1; stroke-width: 1px; fill: none;\"/><path class=\"point\" transform=\"translate(172.01,22.41)\" d=\"M0,4.2V-4.2\" style=\"opacity: 1; stroke: rgb(31, 119, 180); stroke-opacity: 1; stroke-width: 1px; fill: none;\"/><path class=\"point\" transform=\"translate(172.01,22.41)\" d=\"M0,4.2V-4.2\" style=\"opacity: 1; stroke: rgb(31, 119, 180); stroke-opacity: 1; stroke-width: 1px; fill: none;\"/><path class=\"point\" transform=\"translate(172.01,22.41)\" d=\"M0,4.2V-4.2\" style=\"opacity: 1; stroke: rgb(31, 119, 180); stroke-opacity: 1; stroke-width: 1px; fill: none;\"/><path class=\"point\" transform=\"translate(175.02,22.41)\" d=\"M0,4.2V-4.2\" style=\"opacity: 1; stroke: rgb(31, 119, 180); stroke-opacity: 1; stroke-width: 1px; fill: none;\"/><path class=\"point\" transform=\"translate(175.02,22.41)\" d=\"M0,4.2V-4.2\" style=\"opacity: 1; stroke: rgb(31, 119, 180); stroke-opacity: 1; stroke-width: 1px; fill: none;\"/><path class=\"point\" transform=\"translate(175.02,22.41)\" d=\"M0,4.2V-4.2\" style=\"opacity: 1; stroke: rgb(31, 119, 180); stroke-opacity: 1; stroke-width: 1px; fill: none;\"/><path class=\"point\" transform=\"translate(175.02,22.41)\" d=\"M0,4.2V-4.2\" style=\"opacity: 1; stroke: rgb(31, 119, 180); stroke-opacity: 1; stroke-width: 1px; fill: none;\"/><path class=\"point\" transform=\"translate(175.02,22.41)\" d=\"M0,4.2V-4.2\" style=\"opacity: 1; stroke: rgb(31, 119, 180); stroke-opacity: 1; stroke-width: 1px; fill: none;\"/><path class=\"point\" transform=\"translate(178.03,22.41)\" d=\"M0,4.2V-4.2\" style=\"opacity: 1; stroke: rgb(31, 119, 180); stroke-opacity: 1; stroke-width: 1px; fill: none;\"/><path class=\"point\" transform=\"translate(184.05,22.41)\" d=\"M0,4.2V-4.2\" style=\"opacity: 1; stroke: rgb(31, 119, 180); stroke-opacity: 1; stroke-width: 1px; fill: none;\"/><path class=\"point\" transform=\"translate(187.06,22.41)\" d=\"M0,4.2V-4.2\" style=\"opacity: 1; stroke: rgb(31, 119, 180); stroke-opacity: 1; stroke-width: 1px; fill: none;\"/><path class=\"point\" transform=\"translate(187.06,22.41)\" d=\"M0,4.2V-4.2\" style=\"opacity: 1; stroke: rgb(31, 119, 180); stroke-opacity: 1; stroke-width: 1px; fill: none;\"/><path class=\"point\" transform=\"translate(190.07,22.41)\" d=\"M0,4.2V-4.2\" style=\"opacity: 1; stroke: rgb(31, 119, 180); stroke-opacity: 1; stroke-width: 1px; fill: none;\"/><path class=\"point\" transform=\"translate(190.07,22.41)\" d=\"M0,4.2V-4.2\" style=\"opacity: 1; stroke: rgb(31, 119, 180); stroke-opacity: 1; stroke-width: 1px; fill: none;\"/><path class=\"point\" transform=\"translate(190.07,22.41)\" d=\"M0,4.2V-4.2\" style=\"opacity: 1; stroke: rgb(31, 119, 180); stroke-opacity: 1; stroke-width: 1px; fill: none;\"/><path class=\"point\" transform=\"translate(190.07,22.41)\" d=\"M0,4.2V-4.2\" style=\"opacity: 1; stroke: rgb(31, 119, 180); stroke-opacity: 1; stroke-width: 1px; fill: none;\"/><path class=\"point\" transform=\"translate(193.08,22.41)\" d=\"M0,4.2V-4.2\" style=\"opacity: 1; stroke: rgb(31, 119, 180); stroke-opacity: 1; stroke-width: 1px; fill: none;\"/><path class=\"point\" transform=\"translate(193.08,22.41)\" d=\"M0,4.2V-4.2\" style=\"opacity: 1; stroke: rgb(31, 119, 180); stroke-opacity: 1; stroke-width: 1px; fill: none;\"/><path class=\"point\" transform=\"translate(205.11,22.41)\" d=\"M0,4.2V-4.2\" style=\"opacity: 1; stroke: rgb(31, 119, 180); stroke-opacity: 1; stroke-width: 1px; fill: none;\"/><path class=\"point\" transform=\"translate(205.11,22.41)\" d=\"M0,4.2V-4.2\" style=\"opacity: 1; stroke: rgb(31, 119, 180); stroke-opacity: 1; stroke-width: 1px; fill: none;\"/><path class=\"point\" transform=\"translate(220.16,22.41)\" d=\"M0,4.2V-4.2\" style=\"opacity: 1; stroke: rgb(31, 119, 180); stroke-opacity: 1; stroke-width: 1px; fill: none;\"/></g></g></g></g><g class=\"overplot\"/><path class=\"xlines-above crisp\" d=\"M58,39.3288H293.6956\" style=\"fill: none; stroke-width: 1px; stroke: rgb(36, 36, 36); stroke-opacity: 1;\"/><path class=\"ylines-above crisp\" d=\"M0,0\" style=\"fill: none;\"/><g class=\"overlines-above\"/><g class=\"xaxislayer-above\"><path class=\"x3tick ticks crisp\" d=\"M0,39.8288v5\" transform=\"translate(94.6,0)\" style=\"stroke: rgb(68, 68, 68); stroke-opacity: 1; stroke-width: 1px;\"/><path class=\"x3tick ticks crisp\" d=\"M0,39.8288v5\" transform=\"translate(154.78,0)\" style=\"stroke: rgb(68, 68, 68); stroke-opacity: 1; stroke-width: 1px;\"/><path class=\"x3tick ticks crisp\" d=\"M0,39.8288v5\" transform=\"translate(214.97,0)\" style=\"stroke: rgb(68, 68, 68); stroke-opacity: 1; stroke-width: 1px;\"/><path class=\"x3tick ticks crisp\" d=\"M0,39.8288v5\" transform=\"translate(275.15,0)\" style=\"stroke: rgb(68, 68, 68); stroke-opacity: 1; stroke-width: 1px;\"/></g><g class=\"yaxislayer-above\"/><g class=\"overaxes-above\"/></g></g><g class=\"polarlayer\"/><g class=\"smithlayer\"/><g class=\"ternarylayer\"/><g class=\"geolayer\"/><g class=\"funnelarealayer\"/><g class=\"pielayer\"/><g class=\"iciclelayer\"/><g class=\"treemaplayer\"/><g class=\"sunburstlayer\"/><g class=\"glimages\"/><defs id=\"topdefs-63984a\"><g class=\"clips\"/></defs><g class=\"layer-above\"><g class=\"imagelayer\"/><g class=\"shapelayer\"/></g><g class=\"infolayer\"><g class=\"g-gtitle\"/><g class=\"g-xtitle\"><text class=\"xtitle\" x=\"175.8478\" y=\"239.20625\" text-anchor=\"middle\" style=\"font-family: 'Open Sans', verdana, arial, sans-serif; font-size: 14px; fill: rgb(36, 36, 36); opacity: 1; font-weight: normal; white-space: pre;\">Height (cm)</text></g><g class=\"g-x2title\"/><g class=\"g-x3title\"/><g class=\"g-ytitle\" transform=\"translate(3.9833984375,0)\"><text class=\"ytitle\" transform=\"rotate(-90,10.028125000000003,116.3244)\" x=\"10.028125000000003\" y=\"116.3244\" text-anchor=\"middle\" style=\"font-family: 'Open Sans', verdana, arial, sans-serif; font-size: 14px; fill: rgb(36, 36, 36); opacity: 1; font-weight: normal; white-space: pre;\">Weight (kg)</text></g><g class=\"g-y2title\"/><g class=\"g-y3title\"/></g></svg>"
      ]
     },
     "metadata": {},
     "output_type": "display_data"
    }
   ],
   "source": [
    "px.scatter(dogs, x='height', y='weight', \n",
    "           marginal_x=\"rug\", marginal_y=\"rug\",\n",
    "           labels={'height':'Height (cm)', 'weight':'Weight (kg)'},\n",
    "           width=350, height=250)"
   ]
  },
  {
   "cell_type": "markdown",
   "metadata": {
    "user_expressions": []
   },
   "source": [
    "We observe that dogs that are above average in height tend to be\n",
    "above average in weight. This relationship appears nonlinear: the change in weight for taller dogs grows faster than for shorter dogs. Indeed, that makes sense if we think of a dog as basically shaped like a box: for similarly proportioned boxes, the weight of the contents of the box has a cubic relationship to its length."
   ]
  },
  {
   "cell_type": "markdown",
   "metadata": {
    "user_expressions": []
   },
   "source": [
    "It's important to note that two univariate plots are missing information found in a bivariate plot---information about how the two features vary together. \n",
    "Practically, histograms for two quantitative features do not contain enough information to create a scatter plot of the features. We must exercise caution and not read too much into a pair of univariate plots. Instead, we need to use one of the plots listed in the appropriate row of\n",
    "{numref}`Table %s <feature-plot>`\n",
    "(scatter plot, smooth curve, contour plot, heat map,\n",
    "quantile-quantile plot) to get a sense of\n",
    "the relationship between two quantitative features.\n",
    "\n",
    "When one feature is numeric and the other qualitative, {numref}`Table %s <feature-plot>` makes different recommendations. We describe them next."
   ]
  },
  {
   "cell_type": "markdown",
   "metadata": {
    "user_expressions": []
   },
   "source": [
    "## One Qualitative and One Quantitative Variable\n",
    "\n",
    "To examine the relationship between a quantitative and a qualitative\n",
    "feature, we often use the qualitative feature to divide the data into groups\n",
    "and compare the distribution of the quantitative feature across these groups.\n",
    "For example, we can compare the distribution of height for small, medium,\n",
    "and large dog breeds with three overlaid density curves:"
   ]
  },
  {
   "cell_type": "code",
   "execution_count": 9,
   "metadata": {
    "tags": [
     "hide-input"
    ]
   },
   "outputs": [
    {
     "data": {
      "image/svg+xml": [
       "<?xml version=\"1.0\" encoding=\"utf-8\" standalone=\"no\"?>\n",
       "<!DOCTYPE svg PUBLIC \"-//W3C//DTD SVG 1.1//EN\"\n",
       "  \"http://www.w3.org/Graphics/SVG/1.1/DTD/svg11.dtd\">\n",
       "<svg xmlns:xlink=\"http://www.w3.org/1999/xlink\" width=\"381.221875pt\" height=\"210.249687pt\" viewBox=\"0 0 381.221875 210.249687\" xmlns=\"http://www.w3.org/2000/svg\" version=\"1.1\">\n",
       " <metadata>\n",
       "  <rdf:RDF xmlns:dc=\"http://purl.org/dc/elements/1.1/\" xmlns:cc=\"http://creativecommons.org/ns#\" xmlns:rdf=\"http://www.w3.org/1999/02/22-rdf-syntax-ns#\">\n",
       "   <cc:Work>\n",
       "    <dc:type rdf:resource=\"http://purl.org/dc/dcmitype/StillImage\"/>\n",
       "    <dc:date>2023-07-20T14:58:51.391600</dc:date>\n",
       "    <dc:format>image/svg+xml</dc:format>\n",
       "    <dc:creator>\n",
       "     <cc:Agent>\n",
       "      <dc:title>Matplotlib v3.7.2, https://matplotlib.org/</dc:title>\n",
       "     </cc:Agent>\n",
       "    </dc:creator>\n",
       "   </cc:Work>\n",
       "  </rdf:RDF>\n",
       " </metadata>\n",
       " <defs>\n",
       "  <style type=\"text/css\">*{stroke-linejoin: round; stroke-linecap: butt}</style>\n",
       " </defs>\n",
       " <g id=\"figure_1\">\n",
       "  <g id=\"patch_1\">\n",
       "   <path d=\"M 0 210.249687 \n",
       "L 381.221875 210.249687 \n",
       "L 381.221875 0 \n",
       "L 0 0 \n",
       "z\n",
       "\" style=\"fill: #ffffff\"/>\n",
       "  </g>\n",
       "  <g id=\"axes_1\">\n",
       "   <g id=\"patch_2\">\n",
       "    <path d=\"M 39.221875 173.52 \n",
       "L 374.021875 173.52 \n",
       "L 374.021875 7.2 \n",
       "L 39.221875 7.2 \n",
       "z\n",
       "\" style=\"fill: #ffffff\"/>\n",
       "   </g>\n",
       "   <g id=\"matplotlib.axis_1\">\n",
       "    <g id=\"xtick_1\">\n",
       "     <g id=\"line2d_1\">\n",
       "      <path d=\"M 109.458551 173.52 \n",
       "L 109.458551 7.2 \n",
       "\" clip-path=\"url(#p67c730435b)\" style=\"fill: none; stroke: #cccccc; stroke-width: 0.8; stroke-linecap: round\"/>\n",
       "     </g>\n",
       "     <g id=\"text_1\">\n",
       "      <!-- 20 -->\n",
       "      <g style=\"fill: #262626\" transform=\"translate(103.897614 187.677812) scale(0.1 -0.1)\">\n",
       "       <defs>\n",
       "        <path id=\"ArialMT-32\" d=\"M 3222 541 \n",
       "L 3222 0 \n",
       "L 194 0 \n",
       "Q 188 203 259 391 \n",
       "Q 375 700 629 1000 \n",
       "Q 884 1300 1366 1694 \n",
       "Q 2113 2306 2375 2664 \n",
       "Q 2638 3022 2638 3341 \n",
       "Q 2638 3675 2398 3904 \n",
       "Q 2159 4134 1775 4134 \n",
       "Q 1369 4134 1125 3890 \n",
       "Q 881 3647 878 3216 \n",
       "L 300 3275 \n",
       "Q 359 3922 746 4261 \n",
       "Q 1134 4600 1788 4600 \n",
       "Q 2447 4600 2831 4234 \n",
       "Q 3216 3869 3216 3328 \n",
       "Q 3216 3053 3103 2787 \n",
       "Q 2991 2522 2730 2228 \n",
       "Q 2469 1934 1863 1422 \n",
       "Q 1356 997 1212 845 \n",
       "Q 1069 694 975 541 \n",
       "L 3222 541 \n",
       "z\n",
       "\" transform=\"scale(0.015625)\"/>\n",
       "        <path id=\"ArialMT-30\" d=\"M 266 2259 \n",
       "Q 266 3072 433 3567 \n",
       "Q 600 4063 929 4331 \n",
       "Q 1259 4600 1759 4600 \n",
       "Q 2128 4600 2406 4451 \n",
       "Q 2684 4303 2865 4023 \n",
       "Q 3047 3744 3150 3342 \n",
       "Q 3253 2941 3253 2259 \n",
       "Q 3253 1453 3087 958 \n",
       "Q 2922 463 2592 192 \n",
       "Q 2263 -78 1759 -78 \n",
       "Q 1097 -78 719 397 \n",
       "Q 266 969 266 2259 \n",
       "z\n",
       "M 844 2259 \n",
       "Q 844 1131 1108 757 \n",
       "Q 1372 384 1759 384 \n",
       "Q 2147 384 2411 759 \n",
       "Q 2675 1134 2675 2259 \n",
       "Q 2675 3391 2411 3762 \n",
       "Q 2147 4134 1753 4134 \n",
       "Q 1366 4134 1134 3806 \n",
       "Q 844 3388 844 2259 \n",
       "z\n",
       "\" transform=\"scale(0.015625)\"/>\n",
       "       </defs>\n",
       "       <use xlink:href=\"#ArialMT-32\"/>\n",
       "       <use xlink:href=\"#ArialMT-30\" x=\"55.615234\"/>\n",
       "      </g>\n",
       "     </g>\n",
       "    </g>\n",
       "    <g id=\"xtick_2\">\n",
       "     <g id=\"line2d_2\">\n",
       "      <path d=\"M 183.628259 173.52 \n",
       "L 183.628259 7.2 \n",
       "\" clip-path=\"url(#p67c730435b)\" style=\"fill: none; stroke: #cccccc; stroke-width: 0.8; stroke-linecap: round\"/>\n",
       "     </g>\n",
       "     <g id=\"text_2\">\n",
       "      <!-- 40 -->\n",
       "      <g style=\"fill: #262626\" transform=\"translate(178.067322 187.677812) scale(0.1 -0.1)\">\n",
       "       <defs>\n",
       "        <path id=\"ArialMT-34\" d=\"M 2069 0 \n",
       "L 2069 1097 \n",
       "L 81 1097 \n",
       "L 81 1613 \n",
       "L 2172 4581 \n",
       "L 2631 4581 \n",
       "L 2631 1613 \n",
       "L 3250 1613 \n",
       "L 3250 1097 \n",
       "L 2631 1097 \n",
       "L 2631 0 \n",
       "L 2069 0 \n",
       "z\n",
       "M 2069 1613 \n",
       "L 2069 3678 \n",
       "L 634 1613 \n",
       "L 2069 1613 \n",
       "z\n",
       "\" transform=\"scale(0.015625)\"/>\n",
       "       </defs>\n",
       "       <use xlink:href=\"#ArialMT-34\"/>\n",
       "       <use xlink:href=\"#ArialMT-30\" x=\"55.615234\"/>\n",
       "      </g>\n",
       "     </g>\n",
       "    </g>\n",
       "    <g id=\"xtick_3\">\n",
       "     <g id=\"line2d_3\">\n",
       "      <path d=\"M 257.797967 173.52 \n",
       "L 257.797967 7.2 \n",
       "\" clip-path=\"url(#p67c730435b)\" style=\"fill: none; stroke: #cccccc; stroke-width: 0.8; stroke-linecap: round\"/>\n",
       "     </g>\n",
       "     <g id=\"text_3\">\n",
       "      <!-- 60 -->\n",
       "      <g style=\"fill: #262626\" transform=\"translate(252.237029 187.677812) scale(0.1 -0.1)\">\n",
       "       <defs>\n",
       "        <path id=\"ArialMT-36\" d=\"M 3184 3459 \n",
       "L 2625 3416 \n",
       "Q 2550 3747 2413 3897 \n",
       "Q 2184 4138 1850 4138 \n",
       "Q 1581 4138 1378 3988 \n",
       "Q 1113 3794 959 3422 \n",
       "Q 806 3050 800 2363 \n",
       "Q 1003 2672 1297 2822 \n",
       "Q 1591 2972 1913 2972 \n",
       "Q 2475 2972 2870 2558 \n",
       "Q 3266 2144 3266 1488 \n",
       "Q 3266 1056 3080 686 \n",
       "Q 2894 316 2569 119 \n",
       "Q 2244 -78 1831 -78 \n",
       "Q 1128 -78 684 439 \n",
       "Q 241 956 241 2144 \n",
       "Q 241 3472 731 4075 \n",
       "Q 1159 4600 1884 4600 \n",
       "Q 2425 4600 2770 4297 \n",
       "Q 3116 3994 3184 3459 \n",
       "z\n",
       "M 888 1484 \n",
       "Q 888 1194 1011 928 \n",
       "Q 1134 663 1356 523 \n",
       "Q 1578 384 1822 384 \n",
       "Q 2178 384 2434 671 \n",
       "Q 2691 959 2691 1453 \n",
       "Q 2691 1928 2437 2201 \n",
       "Q 2184 2475 1800 2475 \n",
       "Q 1419 2475 1153 2201 \n",
       "Q 888 1928 888 1484 \n",
       "z\n",
       "\" transform=\"scale(0.015625)\"/>\n",
       "       </defs>\n",
       "       <use xlink:href=\"#ArialMT-36\"/>\n",
       "       <use xlink:href=\"#ArialMT-30\" x=\"55.615234\"/>\n",
       "      </g>\n",
       "     </g>\n",
       "    </g>\n",
       "    <g id=\"xtick_4\">\n",
       "     <g id=\"line2d_4\">\n",
       "      <path d=\"M 331.967675 173.52 \n",
       "L 331.967675 7.2 \n",
       "\" clip-path=\"url(#p67c730435b)\" style=\"fill: none; stroke: #cccccc; stroke-width: 0.8; stroke-linecap: round\"/>\n",
       "     </g>\n",
       "     <g id=\"text_4\">\n",
       "      <!-- 80 -->\n",
       "      <g style=\"fill: #262626\" transform=\"translate(326.406737 187.677812) scale(0.1 -0.1)\">\n",
       "       <defs>\n",
       "        <path id=\"ArialMT-38\" d=\"M 1131 2484 \n",
       "Q 781 2613 612 2850 \n",
       "Q 444 3088 444 3419 \n",
       "Q 444 3919 803 4259 \n",
       "Q 1163 4600 1759 4600 \n",
       "Q 2359 4600 2725 4251 \n",
       "Q 3091 3903 3091 3403 \n",
       "Q 3091 3084 2923 2848 \n",
       "Q 2756 2613 2416 2484 \n",
       "Q 2838 2347 3058 2040 \n",
       "Q 3278 1734 3278 1309 \n",
       "Q 3278 722 2862 322 \n",
       "Q 2447 -78 1769 -78 \n",
       "Q 1091 -78 675 323 \n",
       "Q 259 725 259 1325 \n",
       "Q 259 1772 486 2073 \n",
       "Q 713 2375 1131 2484 \n",
       "z\n",
       "M 1019 3438 \n",
       "Q 1019 3113 1228 2906 \n",
       "Q 1438 2700 1772 2700 \n",
       "Q 2097 2700 2305 2904 \n",
       "Q 2513 3109 2513 3406 \n",
       "Q 2513 3716 2298 3927 \n",
       "Q 2084 4138 1766 4138 \n",
       "Q 1444 4138 1231 3931 \n",
       "Q 1019 3725 1019 3438 \n",
       "z\n",
       "M 838 1322 \n",
       "Q 838 1081 952 856 \n",
       "Q 1066 631 1291 507 \n",
       "Q 1516 384 1775 384 \n",
       "Q 2178 384 2440 643 \n",
       "Q 2703 903 2703 1303 \n",
       "Q 2703 1709 2433 1975 \n",
       "Q 2163 2241 1756 2241 \n",
       "Q 1359 2241 1098 1978 \n",
       "Q 838 1716 838 1322 \n",
       "z\n",
       "\" transform=\"scale(0.015625)\"/>\n",
       "       </defs>\n",
       "       <use xlink:href=\"#ArialMT-38\"/>\n",
       "       <use xlink:href=\"#ArialMT-30\" x=\"55.615234\"/>\n",
       "      </g>\n",
       "     </g>\n",
       "    </g>\n",
       "    <g id=\"text_5\">\n",
       "     <!-- Height (cm) -->\n",
       "     <g style=\"fill: #262626\" transform=\"translate(180.785938 200.945) scale(0.1 -0.1)\">\n",
       "      <defs>\n",
       "       <path id=\"ArialMT-48\" d=\"M 513 0 \n",
       "L 513 4581 \n",
       "L 1119 4581 \n",
       "L 1119 2700 \n",
       "L 3500 2700 \n",
       "L 3500 4581 \n",
       "L 4106 4581 \n",
       "L 4106 0 \n",
       "L 3500 0 \n",
       "L 3500 2159 \n",
       "L 1119 2159 \n",
       "L 1119 0 \n",
       "L 513 0 \n",
       "z\n",
       "\" transform=\"scale(0.015625)\"/>\n",
       "       <path id=\"ArialMT-65\" d=\"M 2694 1069 \n",
       "L 3275 997 \n",
       "Q 3138 488 2766 206 \n",
       "Q 2394 -75 1816 -75 \n",
       "Q 1088 -75 661 373 \n",
       "Q 234 822 234 1631 \n",
       "Q 234 2469 665 2931 \n",
       "Q 1097 3394 1784 3394 \n",
       "Q 2450 3394 2872 2941 \n",
       "Q 3294 2488 3294 1666 \n",
       "Q 3294 1616 3291 1516 \n",
       "L 816 1516 \n",
       "Q 847 969 1125 678 \n",
       "Q 1403 388 1819 388 \n",
       "Q 2128 388 2347 550 \n",
       "Q 2566 713 2694 1069 \n",
       "z\n",
       "M 847 1978 \n",
       "L 2700 1978 \n",
       "Q 2663 2397 2488 2606 \n",
       "Q 2219 2931 1791 2931 \n",
       "Q 1403 2931 1139 2672 \n",
       "Q 875 2413 847 1978 \n",
       "z\n",
       "\" transform=\"scale(0.015625)\"/>\n",
       "       <path id=\"ArialMT-69\" d=\"M 425 3934 \n",
       "L 425 4581 \n",
       "L 988 4581 \n",
       "L 988 3934 \n",
       "L 425 3934 \n",
       "z\n",
       "M 425 0 \n",
       "L 425 3319 \n",
       "L 988 3319 \n",
       "L 988 0 \n",
       "L 425 0 \n",
       "z\n",
       "\" transform=\"scale(0.015625)\"/>\n",
       "       <path id=\"ArialMT-67\" d=\"M 319 -275 \n",
       "L 866 -356 \n",
       "Q 900 -609 1056 -725 \n",
       "Q 1266 -881 1628 -881 \n",
       "Q 2019 -881 2231 -725 \n",
       "Q 2444 -569 2519 -288 \n",
       "Q 2563 -116 2559 434 \n",
       "Q 2191 0 1641 0 \n",
       "Q 956 0 581 494 \n",
       "Q 206 988 206 1678 \n",
       "Q 206 2153 378 2554 \n",
       "Q 550 2956 876 3175 \n",
       "Q 1203 3394 1644 3394 \n",
       "Q 2231 3394 2613 2919 \n",
       "L 2613 3319 \n",
       "L 3131 3319 \n",
       "L 3131 450 \n",
       "Q 3131 -325 2973 -648 \n",
       "Q 2816 -972 2473 -1159 \n",
       "Q 2131 -1347 1631 -1347 \n",
       "Q 1038 -1347 672 -1080 \n",
       "Q 306 -813 319 -275 \n",
       "z\n",
       "M 784 1719 \n",
       "Q 784 1066 1043 766 \n",
       "Q 1303 466 1694 466 \n",
       "Q 2081 466 2343 764 \n",
       "Q 2606 1063 2606 1700 \n",
       "Q 2606 2309 2336 2618 \n",
       "Q 2066 2928 1684 2928 \n",
       "Q 1309 2928 1046 2623 \n",
       "Q 784 2319 784 1719 \n",
       "z\n",
       "\" transform=\"scale(0.015625)\"/>\n",
       "       <path id=\"ArialMT-68\" d=\"M 422 0 \n",
       "L 422 4581 \n",
       "L 984 4581 \n",
       "L 984 2938 \n",
       "Q 1378 3394 1978 3394 \n",
       "Q 2347 3394 2619 3248 \n",
       "Q 2891 3103 3008 2847 \n",
       "Q 3125 2591 3125 2103 \n",
       "L 3125 0 \n",
       "L 2563 0 \n",
       "L 2563 2103 \n",
       "Q 2563 2525 2380 2717 \n",
       "Q 2197 2909 1863 2909 \n",
       "Q 1613 2909 1392 2779 \n",
       "Q 1172 2650 1078 2428 \n",
       "Q 984 2206 984 1816 \n",
       "L 984 0 \n",
       "L 422 0 \n",
       "z\n",
       "\" transform=\"scale(0.015625)\"/>\n",
       "       <path id=\"ArialMT-74\" d=\"M 1650 503 \n",
       "L 1731 6 \n",
       "Q 1494 -44 1306 -44 \n",
       "Q 1000 -44 831 53 \n",
       "Q 663 150 594 308 \n",
       "Q 525 466 525 972 \n",
       "L 525 2881 \n",
       "L 113 2881 \n",
       "L 113 3319 \n",
       "L 525 3319 \n",
       "L 525 4141 \n",
       "L 1084 4478 \n",
       "L 1084 3319 \n",
       "L 1650 3319 \n",
       "L 1650 2881 \n",
       "L 1084 2881 \n",
       "L 1084 941 \n",
       "Q 1084 700 1114 631 \n",
       "Q 1144 563 1211 522 \n",
       "Q 1278 481 1403 481 \n",
       "Q 1497 481 1650 503 \n",
       "z\n",
       "\" transform=\"scale(0.015625)\"/>\n",
       "       <path id=\"ArialMT-20\" transform=\"scale(0.015625)\"/>\n",
       "       <path id=\"ArialMT-28\" d=\"M 1497 -1347 \n",
       "Q 1031 -759 709 28 \n",
       "Q 388 816 388 1659 \n",
       "Q 388 2403 628 3084 \n",
       "Q 909 3875 1497 4659 \n",
       "L 1900 4659 \n",
       "Q 1522 4009 1400 3731 \n",
       "Q 1209 3300 1100 2831 \n",
       "Q 966 2247 966 1656 \n",
       "Q 966 153 1900 -1347 \n",
       "L 1497 -1347 \n",
       "z\n",
       "\" transform=\"scale(0.015625)\"/>\n",
       "       <path id=\"ArialMT-63\" d=\"M 2588 1216 \n",
       "L 3141 1144 \n",
       "Q 3050 572 2676 248 \n",
       "Q 2303 -75 1759 -75 \n",
       "Q 1078 -75 664 370 \n",
       "Q 250 816 250 1647 \n",
       "Q 250 2184 428 2587 \n",
       "Q 606 2991 970 3192 \n",
       "Q 1334 3394 1763 3394 \n",
       "Q 2303 3394 2647 3120 \n",
       "Q 2991 2847 3088 2344 \n",
       "L 2541 2259 \n",
       "Q 2463 2594 2264 2762 \n",
       "Q 2066 2931 1784 2931 \n",
       "Q 1359 2931 1093 2626 \n",
       "Q 828 2322 828 1663 \n",
       "Q 828 994 1084 691 \n",
       "Q 1341 388 1753 388 \n",
       "Q 2084 388 2306 591 \n",
       "Q 2528 794 2588 1216 \n",
       "z\n",
       "\" transform=\"scale(0.015625)\"/>\n",
       "       <path id=\"ArialMT-6d\" d=\"M 422 0 \n",
       "L 422 3319 \n",
       "L 925 3319 \n",
       "L 925 2853 \n",
       "Q 1081 3097 1340 3245 \n",
       "Q 1600 3394 1931 3394 \n",
       "Q 2300 3394 2536 3241 \n",
       "Q 2772 3088 2869 2813 \n",
       "Q 3263 3394 3894 3394 \n",
       "Q 4388 3394 4653 3120 \n",
       "Q 4919 2847 4919 2278 \n",
       "L 4919 0 \n",
       "L 4359 0 \n",
       "L 4359 2091 \n",
       "Q 4359 2428 4304 2576 \n",
       "Q 4250 2725 4106 2815 \n",
       "Q 3963 2906 3769 2906 \n",
       "Q 3419 2906 3187 2673 \n",
       "Q 2956 2441 2956 1928 \n",
       "L 2956 0 \n",
       "L 2394 0 \n",
       "L 2394 2156 \n",
       "Q 2394 2531 2256 2718 \n",
       "Q 2119 2906 1806 2906 \n",
       "Q 1569 2906 1367 2781 \n",
       "Q 1166 2656 1075 2415 \n",
       "Q 984 2175 984 1722 \n",
       "L 984 0 \n",
       "L 422 0 \n",
       "z\n",
       "\" transform=\"scale(0.015625)\"/>\n",
       "       <path id=\"ArialMT-29\" d=\"M 791 -1347 \n",
       "L 388 -1347 \n",
       "Q 1322 153 1322 1656 \n",
       "Q 1322 2244 1188 2822 \n",
       "Q 1081 3291 891 3722 \n",
       "Q 769 4003 388 4659 \n",
       "L 791 4659 \n",
       "Q 1378 3875 1659 3084 \n",
       "Q 1900 2403 1900 1659 \n",
       "Q 1900 816 1576 28 \n",
       "Q 1253 -759 791 -1347 \n",
       "z\n",
       "\" transform=\"scale(0.015625)\"/>\n",
       "      </defs>\n",
       "      <use xlink:href=\"#ArialMT-48\"/>\n",
       "      <use xlink:href=\"#ArialMT-65\" x=\"72.216797\"/>\n",
       "      <use xlink:href=\"#ArialMT-69\" x=\"127.832031\"/>\n",
       "      <use xlink:href=\"#ArialMT-67\" x=\"150.048828\"/>\n",
       "      <use xlink:href=\"#ArialMT-68\" x=\"205.664062\"/>\n",
       "      <use xlink:href=\"#ArialMT-74\" x=\"261.279297\"/>\n",
       "      <use xlink:href=\"#ArialMT-20\" x=\"289.0625\"/>\n",
       "      <use xlink:href=\"#ArialMT-28\" x=\"316.845703\"/>\n",
       "      <use xlink:href=\"#ArialMT-63\" x=\"350.146484\"/>\n",
       "      <use xlink:href=\"#ArialMT-6d\" x=\"400.146484\"/>\n",
       "      <use xlink:href=\"#ArialMT-29\" x=\"483.447266\"/>\n",
       "     </g>\n",
       "    </g>\n",
       "   </g>\n",
       "   <g id=\"matplotlib.axis_2\">\n",
       "    <g id=\"ytick_1\">\n",
       "     <g id=\"line2d_5\">\n",
       "      <path d=\"M 39.221875 173.52 \n",
       "L 374.021875 173.52 \n",
       "\" clip-path=\"url(#p67c730435b)\" style=\"fill: none; stroke: #cccccc; stroke-width: 0.8; stroke-linecap: round\"/>\n",
       "     </g>\n",
       "     <g id=\"text_6\">\n",
       "      <!-- 0.000 -->\n",
       "      <g style=\"fill: #262626\" transform=\"translate(7.2 177.098906) scale(0.1 -0.1)\">\n",
       "       <defs>\n",
       "        <path id=\"ArialMT-2e\" d=\"M 581 0 \n",
       "L 581 641 \n",
       "L 1222 641 \n",
       "L 1222 0 \n",
       "L 581 0 \n",
       "z\n",
       "\" transform=\"scale(0.015625)\"/>\n",
       "       </defs>\n",
       "       <use xlink:href=\"#ArialMT-30\"/>\n",
       "       <use xlink:href=\"#ArialMT-2e\" x=\"55.615234\"/>\n",
       "       <use xlink:href=\"#ArialMT-30\" x=\"83.398438\"/>\n",
       "       <use xlink:href=\"#ArialMT-30\" x=\"139.013672\"/>\n",
       "       <use xlink:href=\"#ArialMT-30\" x=\"194.628906\"/>\n",
       "      </g>\n",
       "     </g>\n",
       "    </g>\n",
       "    <g id=\"ytick_2\">\n",
       "     <g id=\"line2d_6\">\n",
       "      <path d=\"M 39.221875 149.299154 \n",
       "L 374.021875 149.299154 \n",
       "\" clip-path=\"url(#p67c730435b)\" style=\"fill: none; stroke: #cccccc; stroke-width: 0.8; stroke-linecap: round\"/>\n",
       "     </g>\n",
       "     <g id=\"text_7\">\n",
       "      <!-- 0.005 -->\n",
       "      <g style=\"fill: #262626\" transform=\"translate(7.2 152.878061) scale(0.1 -0.1)\">\n",
       "       <defs>\n",
       "        <path id=\"ArialMT-35\" d=\"M 266 1200 \n",
       "L 856 1250 \n",
       "Q 922 819 1161 601 \n",
       "Q 1400 384 1738 384 \n",
       "Q 2144 384 2425 690 \n",
       "Q 2706 997 2706 1503 \n",
       "Q 2706 1984 2436 2262 \n",
       "Q 2166 2541 1728 2541 \n",
       "Q 1456 2541 1237 2417 \n",
       "Q 1019 2294 894 2097 \n",
       "L 366 2166 \n",
       "L 809 4519 \n",
       "L 3088 4519 \n",
       "L 3088 3981 \n",
       "L 1259 3981 \n",
       "L 1013 2750 \n",
       "Q 1425 3038 1878 3038 \n",
       "Q 2478 3038 2890 2622 \n",
       "Q 3303 2206 3303 1553 \n",
       "Q 3303 931 2941 478 \n",
       "Q 2500 -78 1738 -78 \n",
       "Q 1113 -78 717 272 \n",
       "Q 322 622 266 1200 \n",
       "z\n",
       "\" transform=\"scale(0.015625)\"/>\n",
       "       </defs>\n",
       "       <use xlink:href=\"#ArialMT-30\"/>\n",
       "       <use xlink:href=\"#ArialMT-2e\" x=\"55.615234\"/>\n",
       "       <use xlink:href=\"#ArialMT-30\" x=\"83.398438\"/>\n",
       "       <use xlink:href=\"#ArialMT-30\" x=\"139.013672\"/>\n",
       "       <use xlink:href=\"#ArialMT-35\" x=\"194.628906\"/>\n",
       "      </g>\n",
       "     </g>\n",
       "    </g>\n",
       "    <g id=\"ytick_3\">\n",
       "     <g id=\"line2d_7\">\n",
       "      <path d=\"M 39.221875 125.078309 \n",
       "L 374.021875 125.078309 \n",
       "\" clip-path=\"url(#p67c730435b)\" style=\"fill: none; stroke: #cccccc; stroke-width: 0.8; stroke-linecap: round\"/>\n",
       "     </g>\n",
       "     <g id=\"text_8\">\n",
       "      <!-- 0.010 -->\n",
       "      <g style=\"fill: #262626\" transform=\"translate(7.2 128.657215) scale(0.1 -0.1)\">\n",
       "       <defs>\n",
       "        <path id=\"ArialMT-31\" d=\"M 2384 0 \n",
       "L 1822 0 \n",
       "L 1822 3584 \n",
       "Q 1619 3391 1289 3197 \n",
       "Q 959 3003 697 2906 \n",
       "L 697 3450 \n",
       "Q 1169 3672 1522 3987 \n",
       "Q 1875 4303 2022 4600 \n",
       "L 2384 4600 \n",
       "L 2384 0 \n",
       "z\n",
       "\" transform=\"scale(0.015625)\"/>\n",
       "       </defs>\n",
       "       <use xlink:href=\"#ArialMT-30\"/>\n",
       "       <use xlink:href=\"#ArialMT-2e\" x=\"55.615234\"/>\n",
       "       <use xlink:href=\"#ArialMT-30\" x=\"83.398438\"/>\n",
       "       <use xlink:href=\"#ArialMT-31\" x=\"139.013672\"/>\n",
       "       <use xlink:href=\"#ArialMT-30\" x=\"194.628906\"/>\n",
       "      </g>\n",
       "     </g>\n",
       "    </g>\n",
       "    <g id=\"ytick_4\">\n",
       "     <g id=\"line2d_8\">\n",
       "      <path d=\"M 39.221875 100.857463 \n",
       "L 374.021875 100.857463 \n",
       "\" clip-path=\"url(#p67c730435b)\" style=\"fill: none; stroke: #cccccc; stroke-width: 0.8; stroke-linecap: round\"/>\n",
       "     </g>\n",
       "     <g id=\"text_9\">\n",
       "      <!-- 0.015 -->\n",
       "      <g style=\"fill: #262626\" transform=\"translate(7.2 104.43637) scale(0.1 -0.1)\">\n",
       "       <use xlink:href=\"#ArialMT-30\"/>\n",
       "       <use xlink:href=\"#ArialMT-2e\" x=\"55.615234\"/>\n",
       "       <use xlink:href=\"#ArialMT-30\" x=\"83.398438\"/>\n",
       "       <use xlink:href=\"#ArialMT-31\" x=\"139.013672\"/>\n",
       "       <use xlink:href=\"#ArialMT-35\" x=\"194.628906\"/>\n",
       "      </g>\n",
       "     </g>\n",
       "    </g>\n",
       "    <g id=\"ytick_5\">\n",
       "     <g id=\"line2d_9\">\n",
       "      <path d=\"M 39.221875 76.636618 \n",
       "L 374.021875 76.636618 \n",
       "\" clip-path=\"url(#p67c730435b)\" style=\"fill: none; stroke: #cccccc; stroke-width: 0.8; stroke-linecap: round\"/>\n",
       "     </g>\n",
       "     <g id=\"text_10\">\n",
       "      <!-- 0.020 -->\n",
       "      <g style=\"fill: #262626\" transform=\"translate(7.2 80.215524) scale(0.1 -0.1)\">\n",
       "       <use xlink:href=\"#ArialMT-30\"/>\n",
       "       <use xlink:href=\"#ArialMT-2e\" x=\"55.615234\"/>\n",
       "       <use xlink:href=\"#ArialMT-30\" x=\"83.398438\"/>\n",
       "       <use xlink:href=\"#ArialMT-32\" x=\"139.013672\"/>\n",
       "       <use xlink:href=\"#ArialMT-30\" x=\"194.628906\"/>\n",
       "      </g>\n",
       "     </g>\n",
       "    </g>\n",
       "    <g id=\"ytick_6\">\n",
       "     <g id=\"line2d_10\">\n",
       "      <path d=\"M 39.221875 52.415772 \n",
       "L 374.021875 52.415772 \n",
       "\" clip-path=\"url(#p67c730435b)\" style=\"fill: none; stroke: #cccccc; stroke-width: 0.8; stroke-linecap: round\"/>\n",
       "     </g>\n",
       "     <g id=\"text_11\">\n",
       "      <!-- 0.025 -->\n",
       "      <g style=\"fill: #262626\" transform=\"translate(7.2 55.994678) scale(0.1 -0.1)\">\n",
       "       <use xlink:href=\"#ArialMT-30\"/>\n",
       "       <use xlink:href=\"#ArialMT-2e\" x=\"55.615234\"/>\n",
       "       <use xlink:href=\"#ArialMT-30\" x=\"83.398438\"/>\n",
       "       <use xlink:href=\"#ArialMT-32\" x=\"139.013672\"/>\n",
       "       <use xlink:href=\"#ArialMT-35\" x=\"194.628906\"/>\n",
       "      </g>\n",
       "     </g>\n",
       "    </g>\n",
       "    <g id=\"ytick_7\">\n",
       "     <g id=\"line2d_11\">\n",
       "      <path d=\"M 39.221875 28.194927 \n",
       "L 374.021875 28.194927 \n",
       "\" clip-path=\"url(#p67c730435b)\" style=\"fill: none; stroke: #cccccc; stroke-width: 0.8; stroke-linecap: round\"/>\n",
       "     </g>\n",
       "     <g id=\"text_12\">\n",
       "      <!-- 0.030 -->\n",
       "      <g style=\"fill: #262626\" transform=\"translate(7.2 31.773833) scale(0.1 -0.1)\">\n",
       "       <defs>\n",
       "        <path id=\"ArialMT-33\" d=\"M 269 1209 \n",
       "L 831 1284 \n",
       "Q 928 806 1161 595 \n",
       "Q 1394 384 1728 384 \n",
       "Q 2125 384 2398 659 \n",
       "Q 2672 934 2672 1341 \n",
       "Q 2672 1728 2419 1979 \n",
       "Q 2166 2231 1775 2231 \n",
       "Q 1616 2231 1378 2169 \n",
       "L 1441 2663 \n",
       "Q 1497 2656 1531 2656 \n",
       "Q 1891 2656 2178 2843 \n",
       "Q 2466 3031 2466 3422 \n",
       "Q 2466 3731 2256 3934 \n",
       "Q 2047 4138 1716 4138 \n",
       "Q 1388 4138 1169 3931 \n",
       "Q 950 3725 888 3313 \n",
       "L 325 3413 \n",
       "Q 428 3978 793 4289 \n",
       "Q 1159 4600 1703 4600 \n",
       "Q 2078 4600 2393 4439 \n",
       "Q 2709 4278 2876 4000 \n",
       "Q 3044 3722 3044 3409 \n",
       "Q 3044 3113 2884 2869 \n",
       "Q 2725 2625 2413 2481 \n",
       "Q 2819 2388 3044 2092 \n",
       "Q 3269 1797 3269 1353 \n",
       "Q 3269 753 2831 336 \n",
       "Q 2394 -81 1725 -81 \n",
       "Q 1122 -81 723 278 \n",
       "Q 325 638 269 1209 \n",
       "z\n",
       "\" transform=\"scale(0.015625)\"/>\n",
       "       </defs>\n",
       "       <use xlink:href=\"#ArialMT-30\"/>\n",
       "       <use xlink:href=\"#ArialMT-2e\" x=\"55.615234\"/>\n",
       "       <use xlink:href=\"#ArialMT-30\" x=\"83.398438\"/>\n",
       "       <use xlink:href=\"#ArialMT-33\" x=\"139.013672\"/>\n",
       "       <use xlink:href=\"#ArialMT-30\" x=\"194.628906\"/>\n",
       "      </g>\n",
       "     </g>\n",
       "    </g>\n",
       "   </g>\n",
       "   <g id=\"line2d_12\">\n",
       "    <path d=\"M 234.670434 173.290747 \n",
       "L 236.54179 173.013849 \n",
       "L 237.78936 172.687475 \n",
       "L 239.036931 172.183488 \n",
       "L 240.284501 171.425782 \n",
       "L 241.532071 170.316939 \n",
       "L 242.779642 168.737775 \n",
       "L 244.027212 166.5497 \n",
       "L 245.274783 163.600822 \n",
       "L 246.522353 159.736441 \n",
       "L 247.769924 154.813895 \n",
       "L 249.017494 148.720886 \n",
       "L 250.265065 141.395357 \n",
       "L 251.512635 132.844061 \n",
       "L 253.383991 117.93854 \n",
       "L 255.879132 95.332782 \n",
       "L 259.621843 60.964847 \n",
       "L 261.493199 46.127035 \n",
       "L 262.740769 37.701047 \n",
       "L 263.988339 30.6003 \n",
       "L 265.23591 24.868258 \n",
       "L 266.48348 20.492662 \n",
       "L 267.107266 18.801228 \n",
       "L 267.731051 17.433128 \n",
       "L 268.354836 16.383433 \n",
       "L 268.978621 15.648547 \n",
       "L 269.602406 15.226585 \n",
       "L 270.226192 15.117538 \n",
       "L 270.849977 15.323209 \n",
       "L 271.473762 15.846921 \n",
       "L 272.097547 16.693026 \n",
       "L 272.721333 17.866233 \n",
       "L 273.345118 19.37081 \n",
       "L 274.592688 23.383601 \n",
       "L 275.840259 28.722843 \n",
       "L 277.087829 35.318185 \n",
       "L 278.3354 43.019293 \n",
       "L 280.206755 56.106702 \n",
       "L 284.573252 87.712477 \n",
       "L 285.820822 95.380366 \n",
       "L 287.068393 101.931209 \n",
       "L 288.315963 107.240203 \n",
       "L 289.563534 111.297917 \n",
       "L 290.811104 114.205539 \n",
       "L 292.058674 116.157864 \n",
       "L 293.306245 117.416617 \n",
       "L 294.553815 118.277721 \n",
       "L 296.425171 119.462041 \n",
       "L 297.672741 120.542876 \n",
       "L 298.920312 122.06204 \n",
       "L 300.167882 124.10536 \n",
       "L 301.415453 126.675843 \n",
       "L 303.286808 131.348317 \n",
       "L 308.900875 146.50999 \n",
       "L 310.148446 149.209189 \n",
       "L 311.396016 151.5123 \n",
       "L 312.643587 153.434885 \n",
       "L 313.891157 155.028202 \n",
       "L 315.762513 156.962764 \n",
       "L 318.257654 159.088214 \n",
       "L 323.247936 162.941191 \n",
       "L 325.119291 164.177405 \n",
       "L 326.990647 165.159044 \n",
       "L 328.862003 165.845801 \n",
       "L 330.733358 166.275169 \n",
       "L 337.594996 167.505755 \n",
       "L 339.466351 168.162588 \n",
       "L 342.585277 169.556771 \n",
       "L 346.327989 171.260079 \n",
       "L 348.82313 172.151663 \n",
       "L 351.318271 172.773028 \n",
       "L 353.813411 173.152588 \n",
       "L 356.932338 173.389344 \n",
       "L 358.803693 173.455042 \n",
       "L 358.803693 173.455042 \n",
       "\" clip-path=\"url(#p67c730435b)\" style=\"fill: none; stroke: #2ca02c; stroke-width: 1.5; stroke-linecap: round\"/>\n",
       "   </g>\n",
       "   <g id=\"line2d_13\">\n",
       "    <path d=\"M 54.440057 173.468306 \n",
       "L 59.876095 173.282186 \n",
       "L 63.75898 172.936665 \n",
       "L 66.865288 172.454836 \n",
       "L 69.971596 171.765093 \n",
       "L 74.631058 170.459569 \n",
       "L 78.513942 169.442746 \n",
       "L 80.843673 169.035084 \n",
       "L 83.173404 168.860652 \n",
       "L 85.503135 168.942961 \n",
       "L 87.832866 169.255535 \n",
       "L 95.598635 170.656205 \n",
       "L 97.151789 170.649452 \n",
       "L 98.704943 170.40324 \n",
       "L 100.258097 169.840185 \n",
       "L 101.811251 168.873942 \n",
       "L 103.364405 167.410253 \n",
       "L 104.917559 165.350172 \n",
       "L 106.470713 162.596047 \n",
       "L 108.023866 159.060382 \n",
       "L 109.57702 154.677199 \n",
       "L 111.130174 149.414826 \n",
       "L 112.683328 143.288505 \n",
       "L 114.236482 136.37076 \n",
       "L 116.566213 124.82464 \n",
       "L 122.002252 96.656981 \n",
       "L 123.555405 89.633047 \n",
       "L 125.108559 83.59583 \n",
       "L 126.661713 78.76413 \n",
       "L 127.43829 76.848991 \n",
       "L 128.214867 75.283403 \n",
       "L 128.991444 74.072518 \n",
       "L 129.768021 73.216195 \n",
       "L 130.544598 72.709183 \n",
       "L 131.321175 72.541423 \n",
       "L 132.097752 72.69845 \n",
       "L 132.874329 73.161884 \n",
       "L 133.650906 73.909969 \n",
       "L 134.427483 74.918165 \n",
       "L 135.980637 77.606339 \n",
       "L 137.533791 80.996638 \n",
       "L 139.863521 86.87834 \n",
       "L 143.746406 96.954206 \n",
       "L 145.29956 100.526859 \n",
       "L 146.852714 103.615167 \n",
       "L 148.405868 106.112328 \n",
       "L 149.959022 107.943675 \n",
       "L 150.735599 108.595459 \n",
       "L 151.512176 109.068054 \n",
       "L 152.288753 109.361781 \n",
       "L 153.06533 109.479217 \n",
       "L 153.841907 109.425223 \n",
       "L 154.618484 109.206946 \n",
       "L 155.39506 108.833823 \n",
       "L 156.948214 107.67202 \n",
       "L 158.501368 106.059397 \n",
       "L 160.831099 103.134825 \n",
       "L 163.16083 100.162829 \n",
       "L 164.713984 98.496477 \n",
       "L 165.490561 97.83555 \n",
       "L 166.267138 97.322381 \n",
       "L 167.043715 96.979866 \n",
       "L 167.820292 96.828901 \n",
       "L 168.596869 96.887922 \n",
       "L 169.373446 97.172481 \n",
       "L 170.150023 97.694866 \n",
       "L 170.9266 98.463768 \n",
       "L 171.703176 99.484038 \n",
       "L 172.479753 100.756509 \n",
       "L 174.032907 104.040936 \n",
       "L 175.586061 108.242918 \n",
       "L 177.139215 113.229361 \n",
       "L 179.468946 121.775295 \n",
       "L 185.681562 145.649842 \n",
       "L 187.234715 150.817874 \n",
       "L 188.787869 155.409479 \n",
       "L 190.341023 159.374864 \n",
       "L 191.894177 162.706131 \n",
       "L 193.447331 165.429997 \n",
       "L 195.000485 167.598741 \n",
       "L 196.553639 169.280757 \n",
       "L 198.106793 170.551828 \n",
       "L 199.659947 171.487927 \n",
       "L 201.213101 172.159913 \n",
       "L 202.766255 172.630176 \n",
       "L 205.095985 173.068947 \n",
       "L 208.202293 173.351882 \n",
       "L 208.97887 173.39054 \n",
       "L 208.97887 173.39054 \n",
       "\" clip-path=\"url(#p67c730435b)\" style=\"fill: none; stroke-dasharray: 5.55,2.4; stroke-dashoffset: 0; stroke: #ff7f0e; stroke-width: 1.5\"/>\n",
       "   </g>\n",
       "   <g id=\"line2d_14\">\n",
       "    <path d=\"M 147.099547 173.464297 \n",
       "L 151.887043 173.290171 \n",
       "L 155.306683 172.961578 \n",
       "L 158.042396 172.459371 \n",
       "L 160.09418 171.866367 \n",
       "L 162.145964 171.0166 \n",
       "L 164.197748 169.832856 \n",
       "L 165.565604 168.815177 \n",
       "L 166.93346 167.582394 \n",
       "L 168.301316 166.106252 \n",
       "L 169.669172 164.359376 \n",
       "L 171.037028 162.316982 \n",
       "L 172.404884 159.958928 \n",
       "L 173.77274 157.271972 \n",
       "L 175.824524 152.618781 \n",
       "L 177.876308 147.252366 \n",
       "L 179.928092 141.266973 \n",
       "L 182.663804 132.583895 \n",
       "L 194.29058 94.663124 \n",
       "L 197.71022 84.488614 \n",
       "L 199.762005 78.930002 \n",
       "L 201.813789 74.11309 \n",
       "L 203.181645 71.489587 \n",
       "L 204.549501 69.462758 \n",
       "L 205.233429 68.703631 \n",
       "L 205.917357 68.127583 \n",
       "L 206.601285 67.742442 \n",
       "L 207.285213 67.553798 \n",
       "L 207.969141 67.564766 \n",
       "L 208.653069 67.775809 \n",
       "L 209.336997 68.184639 \n",
       "L 210.020925 68.786197 \n",
       "L 210.704853 69.572709 \n",
       "L 212.072709 71.656809 \n",
       "L 213.440565 74.327308 \n",
       "L 215.492349 79.12629 \n",
       "L 221.647701 94.47505 \n",
       "L 223.015557 97.2742 \n",
       "L 224.383413 99.678463 \n",
       "L 225.751269 101.653219 \n",
       "L 227.119125 103.182646 \n",
       "L 228.486981 104.265791 \n",
       "L 229.854837 104.913582 \n",
       "L 231.222693 105.147365 \n",
       "L 232.590549 104.99906 \n",
       "L 233.958405 104.512659 \n",
       "L 235.326261 103.746383 \n",
       "L 237.378045 102.239801 \n",
       "L 240.797686 99.623181 \n",
       "L 242.165542 98.893826 \n",
       "L 243.533398 98.540601 \n",
       "L 244.217326 98.543818 \n",
       "L 244.901254 98.685749 \n",
       "L 245.585182 98.978836 \n",
       "L 246.26911 99.433837 \n",
       "L 246.953038 100.059575 \n",
       "L 247.636966 100.862716 \n",
       "L 249.004822 103.016037 \n",
       "L 250.372678 105.898262 \n",
       "L 251.740534 109.472881 \n",
       "L 253.10839 113.664157 \n",
       "L 255.160174 120.859758 \n",
       "L 258.579814 134.072089 \n",
       "L 261.315526 144.379499 \n",
       "L 263.36731 151.290898 \n",
       "L 264.735166 155.351729 \n",
       "L 266.103022 158.924587 \n",
       "L 267.470878 161.997425 \n",
       "L 268.838734 164.581968 \n",
       "L 270.20659 166.708693 \n",
       "L 271.574446 168.421302 \n",
       "L 272.942302 169.771318 \n",
       "L 274.310158 170.813277 \n",
       "L 275.678014 171.600824 \n",
       "L 277.04587 172.183849 \n",
       "L 279.097654 172.77006 \n",
       "L 281.149438 173.116185 \n",
       "L 283.201223 173.311437 \n",
       "L 283.201223 173.311437 \n",
       "\" clip-path=\"url(#p67c730435b)\" style=\"fill: none; stroke-dasharray: 9.6,2.4,1.5,2.4; stroke-dashoffset: 0; stroke: #1f77b4; stroke-width: 1.5\"/>\n",
       "   </g>\n",
       "   <g id=\"patch_3\">\n",
       "    <path d=\"M 39.221875 173.52 \n",
       "L 39.221875 7.2 \n",
       "\" style=\"fill: none; stroke: #cccccc; stroke-width: 0.8; stroke-linejoin: miter; stroke-linecap: square\"/>\n",
       "   </g>\n",
       "   <g id=\"patch_4\">\n",
       "    <path d=\"M 374.021875 173.52 \n",
       "L 374.021875 7.2 \n",
       "\" style=\"fill: none; stroke: #cccccc; stroke-width: 0.8; stroke-linejoin: miter; stroke-linecap: square\"/>\n",
       "   </g>\n",
       "   <g id=\"patch_5\">\n",
       "    <path d=\"M 39.221875 173.52 \n",
       "L 374.021875 173.52 \n",
       "\" style=\"fill: none; stroke: #cccccc; stroke-width: 0.8; stroke-linejoin: miter; stroke-linecap: square\"/>\n",
       "   </g>\n",
       "   <g id=\"patch_6\">\n",
       "    <path d=\"M 39.221875 7.2 \n",
       "L 374.021875 7.2 \n",
       "\" style=\"fill: none; stroke: #cccccc; stroke-width: 0.8; stroke-linejoin: miter; stroke-linecap: square\"/>\n",
       "   </g>\n",
       "   <g id=\"legend_1\">\n",
       "    <g id=\"patch_7\">\n",
       "     <path d=\"M 299.457812 71.898438 \n",
       "L 367.021875 71.898438 \n",
       "Q 369.021875 71.898438 369.021875 69.898438 \n",
       "L 369.021875 14.2 \n",
       "Q 369.021875 12.2 367.021875 12.2 \n",
       "L 299.457812 12.2 \n",
       "Q 297.457812 12.2 297.457812 14.2 \n",
       "L 297.457812 69.898438 \n",
       "Q 297.457812 71.898438 299.457812 71.898438 \n",
       "z\n",
       "\" style=\"fill: #ffffff; opacity: 0.8; stroke: #cccccc; stroke-linejoin: miter\"/>\n",
       "    </g>\n",
       "    <g id=\"text_13\">\n",
       "     <!-- Size -->\n",
       "     <g style=\"fill: #262626\" transform=\"translate(323.513281 23.357812) scale(0.1 -0.1)\">\n",
       "      <defs>\n",
       "       <path id=\"ArialMT-53\" d=\"M 288 1472 \n",
       "L 859 1522 \n",
       "Q 900 1178 1048 958 \n",
       "Q 1197 738 1509 602 \n",
       "Q 1822 466 2213 466 \n",
       "Q 2559 466 2825 569 \n",
       "Q 3091 672 3220 851 \n",
       "Q 3350 1031 3350 1244 \n",
       "Q 3350 1459 3225 1620 \n",
       "Q 3100 1781 2813 1891 \n",
       "Q 2628 1963 1997 2114 \n",
       "Q 1366 2266 1113 2400 \n",
       "Q 784 2572 623 2826 \n",
       "Q 463 3081 463 3397 \n",
       "Q 463 3744 659 4045 \n",
       "Q 856 4347 1234 4503 \n",
       "Q 1613 4659 2075 4659 \n",
       "Q 2584 4659 2973 4495 \n",
       "Q 3363 4331 3572 4012 \n",
       "Q 3781 3694 3797 3291 \n",
       "L 3216 3247 \n",
       "Q 3169 3681 2898 3903 \n",
       "Q 2628 4125 2100 4125 \n",
       "Q 1550 4125 1298 3923 \n",
       "Q 1047 3722 1047 3438 \n",
       "Q 1047 3191 1225 3031 \n",
       "Q 1400 2872 2139 2705 \n",
       "Q 2878 2538 3153 2413 \n",
       "Q 3553 2228 3743 1945 \n",
       "Q 3934 1663 3934 1294 \n",
       "Q 3934 928 3725 604 \n",
       "Q 3516 281 3123 101 \n",
       "Q 2731 -78 2241 -78 \n",
       "Q 1619 -78 1198 103 \n",
       "Q 778 284 539 648 \n",
       "Q 300 1013 288 1472 \n",
       "z\n",
       "\" transform=\"scale(0.015625)\"/>\n",
       "       <path id=\"ArialMT-7a\" d=\"M 125 0 \n",
       "L 125 456 \n",
       "L 2238 2881 \n",
       "Q 1878 2863 1603 2863 \n",
       "L 250 2863 \n",
       "L 250 3319 \n",
       "L 2963 3319 \n",
       "L 2963 2947 \n",
       "L 1166 841 \n",
       "L 819 456 \n",
       "Q 1197 484 1528 484 \n",
       "L 3063 484 \n",
       "L 3063 0 \n",
       "L 125 0 \n",
       "z\n",
       "\" transform=\"scale(0.015625)\"/>\n",
       "      </defs>\n",
       "      <use xlink:href=\"#ArialMT-53\"/>\n",
       "      <use xlink:href=\"#ArialMT-69\" x=\"66.699219\"/>\n",
       "      <use xlink:href=\"#ArialMT-7a\" x=\"88.916016\"/>\n",
       "      <use xlink:href=\"#ArialMT-65\" x=\"138.916016\"/>\n",
       "     </g>\n",
       "    </g>\n",
       "    <g id=\"line2d_15\">\n",
       "     <path d=\"M 301.457812 34.003125 \n",
       "L 311.457812 34.003125 \n",
       "L 321.457812 34.003125 \n",
       "\" style=\"fill: none; stroke-dasharray: 9.6,2.4,1.5,2.4; stroke-dashoffset: 0; stroke: #1f77b4; stroke-width: 1.5\"/>\n",
       "    </g>\n",
       "    <g id=\"text_14\">\n",
       "     <!-- medium -->\n",
       "     <g style=\"fill: #262626\" transform=\"translate(329.457812 37.503125) scale(0.1 -0.1)\">\n",
       "      <defs>\n",
       "       <path id=\"ArialMT-64\" d=\"M 2575 0 \n",
       "L 2575 419 \n",
       "Q 2259 -75 1647 -75 \n",
       "Q 1250 -75 917 144 \n",
       "Q 584 363 401 755 \n",
       "Q 219 1147 219 1656 \n",
       "Q 219 2153 384 2558 \n",
       "Q 550 2963 881 3178 \n",
       "Q 1213 3394 1622 3394 \n",
       "Q 1922 3394 2156 3267 \n",
       "Q 2391 3141 2538 2938 \n",
       "L 2538 4581 \n",
       "L 3097 4581 \n",
       "L 3097 0 \n",
       "L 2575 0 \n",
       "z\n",
       "M 797 1656 \n",
       "Q 797 1019 1065 703 \n",
       "Q 1334 388 1700 388 \n",
       "Q 2069 388 2326 689 \n",
       "Q 2584 991 2584 1609 \n",
       "Q 2584 2291 2321 2609 \n",
       "Q 2059 2928 1675 2928 \n",
       "Q 1300 2928 1048 2622 \n",
       "Q 797 2316 797 1656 \n",
       "z\n",
       "\" transform=\"scale(0.015625)\"/>\n",
       "       <path id=\"ArialMT-75\" d=\"M 2597 0 \n",
       "L 2597 488 \n",
       "Q 2209 -75 1544 -75 \n",
       "Q 1250 -75 995 37 \n",
       "Q 741 150 617 320 \n",
       "Q 494 491 444 738 \n",
       "Q 409 903 409 1263 \n",
       "L 409 3319 \n",
       "L 972 3319 \n",
       "L 972 1478 \n",
       "Q 972 1038 1006 884 \n",
       "Q 1059 663 1231 536 \n",
       "Q 1403 409 1656 409 \n",
       "Q 1909 409 2131 539 \n",
       "Q 2353 669 2445 892 \n",
       "Q 2538 1116 2538 1541 \n",
       "L 2538 3319 \n",
       "L 3100 3319 \n",
       "L 3100 0 \n",
       "L 2597 0 \n",
       "z\n",
       "\" transform=\"scale(0.015625)\"/>\n",
       "      </defs>\n",
       "      <use xlink:href=\"#ArialMT-6d\"/>\n",
       "      <use xlink:href=\"#ArialMT-65\" x=\"83.300781\"/>\n",
       "      <use xlink:href=\"#ArialMT-64\" x=\"138.916016\"/>\n",
       "      <use xlink:href=\"#ArialMT-69\" x=\"194.53125\"/>\n",
       "      <use xlink:href=\"#ArialMT-75\" x=\"216.748047\"/>\n",
       "      <use xlink:href=\"#ArialMT-6d\" x=\"272.363281\"/>\n",
       "     </g>\n",
       "    </g>\n",
       "    <g id=\"line2d_16\">\n",
       "     <path d=\"M 301.457812 48.148438 \n",
       "L 311.457812 48.148438 \n",
       "L 321.457812 48.148438 \n",
       "\" style=\"fill: none; stroke-dasharray: 5.55,2.4; stroke-dashoffset: 0; stroke: #ff7f0e; stroke-width: 1.5\"/>\n",
       "    </g>\n",
       "    <g id=\"text_15\">\n",
       "     <!-- small -->\n",
       "     <g style=\"fill: #262626\" transform=\"translate(329.457812 51.648438) scale(0.1 -0.1)\">\n",
       "      <defs>\n",
       "       <path id=\"ArialMT-73\" d=\"M 197 991 \n",
       "L 753 1078 \n",
       "Q 800 744 1014 566 \n",
       "Q 1228 388 1613 388 \n",
       "Q 2000 388 2187 545 \n",
       "Q 2375 703 2375 916 \n",
       "Q 2375 1106 2209 1216 \n",
       "Q 2094 1291 1634 1406 \n",
       "Q 1016 1563 777 1677 \n",
       "Q 538 1791 414 1992 \n",
       "Q 291 2194 291 2438 \n",
       "Q 291 2659 392 2848 \n",
       "Q 494 3038 669 3163 \n",
       "Q 800 3259 1026 3326 \n",
       "Q 1253 3394 1513 3394 \n",
       "Q 1903 3394 2198 3281 \n",
       "Q 2494 3169 2634 2976 \n",
       "Q 2775 2784 2828 2463 \n",
       "L 2278 2388 \n",
       "Q 2241 2644 2061 2787 \n",
       "Q 1881 2931 1553 2931 \n",
       "Q 1166 2931 1000 2803 \n",
       "Q 834 2675 834 2503 \n",
       "Q 834 2394 903 2306 \n",
       "Q 972 2216 1119 2156 \n",
       "Q 1203 2125 1616 2013 \n",
       "Q 2213 1853 2448 1751 \n",
       "Q 2684 1650 2818 1456 \n",
       "Q 2953 1263 2953 975 \n",
       "Q 2953 694 2789 445 \n",
       "Q 2625 197 2315 61 \n",
       "Q 2006 -75 1616 -75 \n",
       "Q 969 -75 630 194 \n",
       "Q 291 463 197 991 \n",
       "z\n",
       "\" transform=\"scale(0.015625)\"/>\n",
       "       <path id=\"ArialMT-61\" d=\"M 2588 409 \n",
       "Q 2275 144 1986 34 \n",
       "Q 1697 -75 1366 -75 \n",
       "Q 819 -75 525 192 \n",
       "Q 231 459 231 875 \n",
       "Q 231 1119 342 1320 \n",
       "Q 453 1522 633 1644 \n",
       "Q 813 1766 1038 1828 \n",
       "Q 1203 1872 1538 1913 \n",
       "Q 2219 1994 2541 2106 \n",
       "Q 2544 2222 2544 2253 \n",
       "Q 2544 2597 2384 2738 \n",
       "Q 2169 2928 1744 2928 \n",
       "Q 1347 2928 1158 2789 \n",
       "Q 969 2650 878 2297 \n",
       "L 328 2372 \n",
       "Q 403 2725 575 2942 \n",
       "Q 747 3159 1072 3276 \n",
       "Q 1397 3394 1825 3394 \n",
       "Q 2250 3394 2515 3294 \n",
       "Q 2781 3194 2906 3042 \n",
       "Q 3031 2891 3081 2659 \n",
       "Q 3109 2516 3109 2141 \n",
       "L 3109 1391 \n",
       "Q 3109 606 3145 398 \n",
       "Q 3181 191 3288 0 \n",
       "L 2700 0 \n",
       "Q 2613 175 2588 409 \n",
       "z\n",
       "M 2541 1666 \n",
       "Q 2234 1541 1622 1453 \n",
       "Q 1275 1403 1131 1340 \n",
       "Q 988 1278 909 1158 \n",
       "Q 831 1038 831 891 \n",
       "Q 831 666 1001 516 \n",
       "Q 1172 366 1500 366 \n",
       "Q 1825 366 2078 508 \n",
       "Q 2331 650 2450 897 \n",
       "Q 2541 1088 2541 1459 \n",
       "L 2541 1666 \n",
       "z\n",
       "\" transform=\"scale(0.015625)\"/>\n",
       "       <path id=\"ArialMT-6c\" d=\"M 409 0 \n",
       "L 409 4581 \n",
       "L 972 4581 \n",
       "L 972 0 \n",
       "L 409 0 \n",
       "z\n",
       "\" transform=\"scale(0.015625)\"/>\n",
       "      </defs>\n",
       "      <use xlink:href=\"#ArialMT-73\"/>\n",
       "      <use xlink:href=\"#ArialMT-6d\" x=\"50\"/>\n",
       "      <use xlink:href=\"#ArialMT-61\" x=\"133.300781\"/>\n",
       "      <use xlink:href=\"#ArialMT-6c\" x=\"188.916016\"/>\n",
       "      <use xlink:href=\"#ArialMT-6c\" x=\"211.132812\"/>\n",
       "     </g>\n",
       "    </g>\n",
       "    <g id=\"line2d_17\">\n",
       "     <path d=\"M 301.457812 62.29375 \n",
       "L 311.457812 62.29375 \n",
       "L 321.457812 62.29375 \n",
       "\" style=\"fill: none; stroke: #2ca02c; stroke-width: 1.5; stroke-linecap: round\"/>\n",
       "    </g>\n",
       "    <g id=\"text_16\">\n",
       "     <!-- large -->\n",
       "     <g style=\"fill: #262626\" transform=\"translate(329.457812 65.79375) scale(0.1 -0.1)\">\n",
       "      <defs>\n",
       "       <path id=\"ArialMT-72\" d=\"M 416 0 \n",
       "L 416 3319 \n",
       "L 922 3319 \n",
       "L 922 2816 \n",
       "Q 1116 3169 1280 3281 \n",
       "Q 1444 3394 1641 3394 \n",
       "Q 1925 3394 2219 3213 \n",
       "L 2025 2691 \n",
       "Q 1819 2813 1613 2813 \n",
       "Q 1428 2813 1281 2702 \n",
       "Q 1134 2591 1072 2394 \n",
       "Q 978 2094 978 1738 \n",
       "L 978 0 \n",
       "L 416 0 \n",
       "z\n",
       "\" transform=\"scale(0.015625)\"/>\n",
       "      </defs>\n",
       "      <use xlink:href=\"#ArialMT-6c\"/>\n",
       "      <use xlink:href=\"#ArialMT-61\" x=\"22.216797\"/>\n",
       "      <use xlink:href=\"#ArialMT-72\" x=\"77.832031\"/>\n",
       "      <use xlink:href=\"#ArialMT-67\" x=\"111.132812\"/>\n",
       "      <use xlink:href=\"#ArialMT-65\" x=\"166.748047\"/>\n",
       "     </g>\n",
       "    </g>\n",
       "   </g>\n",
       "  </g>\n",
       " </g>\n",
       " <defs>\n",
       "  <clipPath id=\"p67c730435b\">\n",
       "   <rect x=\"39.221875\" y=\"7.2\" width=\"334.8\" height=\"166.32\"/>\n",
       "  </clipPath>\n",
       " </defs>\n",
       "</svg>\n"
      ],
      "text/plain": [
       "<Figure size 600x300 with 1 Axes>"
      ]
     },
     "metadata": {},
     "output_type": "display_data"
    }
   ],
   "source": [
    "fig = plt.figure(figsize=(6, 3))\n",
    "ax = sns.kdeplot(data=dogs, x='height', hue='size')\n",
    "ax.set(xlabel='Height (cm)', ylabel='')\n",
    "ax.get_legend().set_title(\"Size\")\n",
    "\n",
    "lss = ['-', '--', '-.']\n",
    "\n",
    "handles = ax.legend_.legend_handles[::-1]\n",
    "\n",
    "for line, ls, handle in zip(ax.lines, lss, handles):\n",
    "    line.set_linestyle(ls)\n",
    "    handle.set_ls(ls)"
   ]
  },
  {
   "cell_type": "markdown",
   "metadata": {},
   "source": [
    "We see that the distribution of height for the\n",
    "small and medium breeds both appear bimodal, with the left mode the larger\n",
    "in each group. Also, the small and medium groups have a larger spread in\n",
    "height than the large group of breeds."
   ]
  },
  {
   "cell_type": "markdown",
   "metadata": {},
   "source": [
    "Side-by-side box plots offer a similar comparison of distributions across\n",
    "groups. The box plot offers a simpler approach that can give a crude understanding of a distribution. Likewise, violin\n",
    "plots sketch density curves along an axis for each group. The curve is flipped to create a symmetric \"violin\" shape. The violin plot aims\n",
    "to bridge the gap between the density curve and box plot. We create box plots (left) and violin plots (right) for the height of breeds given the size labeling:"
   ]
  },
  {
   "cell_type": "code",
   "execution_count": 9,
   "metadata": {
    "tags": [
     "hide-input"
    ]
   },
   "outputs": [
    {
     "data": {
      "application/vnd.plotly.v1+json": {
       "config": {
        "plotlyServerURL": "https://plot.ly"
       },
       "data": [
        {
         "type": "box",
         "x": [
          "medium",
          "small",
          "medium",
          "small",
          "medium",
          "medium",
          "small",
          "small",
          "medium",
          "small",
          "medium",
          "small",
          "small",
          "small",
          "small",
          "small",
          "small",
          "medium",
          "medium",
          "small",
          "small",
          "medium",
          "small",
          "large",
          "large",
          "small",
          "medium",
          "small",
          "small",
          "small",
          "medium",
          "small",
          "large",
          "medium",
          "small",
          "medium",
          "medium",
          "small",
          "large",
          "small",
          "large",
          "large",
          "medium",
          "large",
          "small",
          "medium",
          "medium",
          "large",
          "small",
          "large",
          "small",
          "medium",
          "small",
          "medium",
          "small",
          "medium",
          "large",
          "small",
          "medium",
          "small",
          "medium",
          "large",
          "large",
          "small",
          "large",
          "medium",
          "large",
          "large",
          "large",
          "small",
          "medium",
          "large",
          "large",
          "medium",
          "large",
          "large",
          "medium",
          "medium",
          "large",
          "medium",
          "large",
          "large",
          "large",
          "large",
          "large",
          "large",
          "medium",
          "medium",
          "large",
          "small",
          "medium",
          "medium",
          "medium",
          "large",
          "medium",
          "large",
          "large",
          "large",
          "large",
          "large",
          "large",
          "medium",
          "medium",
          "large",
          "small",
          "small",
          "small",
          "medium",
          "large",
          "large",
          "large",
          "medium",
          "medium",
          "medium",
          "medium",
          "medium",
          "large",
          "small",
          "large",
          "large",
          "medium",
          "small",
          "large",
          "medium",
          "large",
          "medium",
          "medium",
          "small",
          "medium",
          "large",
          "large",
          "small",
          "large",
          "small",
          "small",
          "small",
          "small",
          "large",
          "medium",
          "medium",
          "small",
          "small",
          "medium",
          "large",
          "small",
          "small",
          "medium",
          "medium",
          "medium",
          "medium",
          "medium",
          "large",
          "small",
          "large",
          "small",
          "small",
          "small",
          "small",
          "small",
          "medium",
          "large",
          "medium",
          "small",
          "small",
          "large",
          "small",
          "medium",
          "large",
          "small",
          "small",
          "medium",
          "medium"
         ],
         "xaxis": "x",
         "y": [
          51,
          null,
          48,
          25,
          46,
          41,
          37,
          24,
          47,
          37,
          55,
          27,
          26,
          null,
          33,
          13,
          27,
          51,
          50,
          27,
          null,
          41,
          27,
          61,
          65,
          25,
          58,
          23,
          null,
          25,
          52,
          null,
          66,
          58,
          null,
          58,
          54,
          36,
          60,
          39,
          64,
          62,
          41,
          62,
          24,
          59,
          null,
          66,
          25,
          61,
          32,
          53,
          36,
          42,
          36,
          38,
          65,
          28,
          47,
          23,
          58,
          65,
          null,
          25,
          62,
          47,
          66,
          69,
          61,
          null,
          56,
          66,
          65,
          null,
          71,
          64,
          55,
          59,
          61,
          47,
          64,
          81,
          65,
          76,
          76,
          67,
          null,
          58,
          62,
          36,
          58,
          46,
          42,
          71,
          53,
          65,
          61,
          61,
          64,
          71,
          61,
          41,
          55,
          64,
          29,
          29,
          30,
          48,
          61,
          64,
          61,
          47,
          44,
          47,
          45,
          47,
          61,
          34,
          72,
          66,
          51,
          25,
          64,
          44,
          62,
          46,
          57,
          24,
          44,
          70,
          71,
          37,
          72,
          33,
          null,
          30,
          29,
          70,
          44,
          51,
          34,
          25,
          48,
          65,
          34,
          36,
          57,
          47,
          51,
          42,
          46,
          61,
          29,
          null,
          27,
          38,
          24,
          25,
          38,
          46,
          62,
          47,
          36,
          32,
          64,
          25,
          57,
          64,
          38,
          38,
          56,
          42
         ],
         "yaxis": "y"
        },
        {
         "type": "violin",
         "x": [
          "medium",
          "small",
          "medium",
          "small",
          "medium",
          "medium",
          "small",
          "small",
          "medium",
          "small",
          "medium",
          "small",
          "small",
          "small",
          "small",
          "small",
          "small",
          "medium",
          "medium",
          "small",
          "small",
          "medium",
          "small",
          "large",
          "large",
          "small",
          "medium",
          "small",
          "small",
          "small",
          "medium",
          "small",
          "large",
          "medium",
          "small",
          "medium",
          "medium",
          "small",
          "large",
          "small",
          "large",
          "large",
          "medium",
          "large",
          "small",
          "medium",
          "medium",
          "large",
          "small",
          "large",
          "small",
          "medium",
          "small",
          "medium",
          "small",
          "medium",
          "large",
          "small",
          "medium",
          "small",
          "medium",
          "large",
          "large",
          "small",
          "large",
          "medium",
          "large",
          "large",
          "large",
          "small",
          "medium",
          "large",
          "large",
          "medium",
          "large",
          "large",
          "medium",
          "medium",
          "large",
          "medium",
          "large",
          "large",
          "large",
          "large",
          "large",
          "large",
          "medium",
          "medium",
          "large",
          "small",
          "medium",
          "medium",
          "medium",
          "large",
          "medium",
          "large",
          "large",
          "large",
          "large",
          "large",
          "large",
          "medium",
          "medium",
          "large",
          "small",
          "small",
          "small",
          "medium",
          "large",
          "large",
          "large",
          "medium",
          "medium",
          "medium",
          "medium",
          "medium",
          "large",
          "small",
          "large",
          "large",
          "medium",
          "small",
          "large",
          "medium",
          "large",
          "medium",
          "medium",
          "small",
          "medium",
          "large",
          "large",
          "small",
          "large",
          "small",
          "small",
          "small",
          "small",
          "large",
          "medium",
          "medium",
          "small",
          "small",
          "medium",
          "large",
          "small",
          "small",
          "medium",
          "medium",
          "medium",
          "medium",
          "medium",
          "large",
          "small",
          "large",
          "small",
          "small",
          "small",
          "small",
          "small",
          "medium",
          "large",
          "medium",
          "small",
          "small",
          "large",
          "small",
          "medium",
          "large",
          "small",
          "small",
          "medium",
          "medium"
         ],
         "xaxis": "x2",
         "y": [
          51,
          null,
          48,
          25,
          46,
          41,
          37,
          24,
          47,
          37,
          55,
          27,
          26,
          null,
          33,
          13,
          27,
          51,
          50,
          27,
          null,
          41,
          27,
          61,
          65,
          25,
          58,
          23,
          null,
          25,
          52,
          null,
          66,
          58,
          null,
          58,
          54,
          36,
          60,
          39,
          64,
          62,
          41,
          62,
          24,
          59,
          null,
          66,
          25,
          61,
          32,
          53,
          36,
          42,
          36,
          38,
          65,
          28,
          47,
          23,
          58,
          65,
          null,
          25,
          62,
          47,
          66,
          69,
          61,
          null,
          56,
          66,
          65,
          null,
          71,
          64,
          55,
          59,
          61,
          47,
          64,
          81,
          65,
          76,
          76,
          67,
          null,
          58,
          62,
          36,
          58,
          46,
          42,
          71,
          53,
          65,
          61,
          61,
          64,
          71,
          61,
          41,
          55,
          64,
          29,
          29,
          30,
          48,
          61,
          64,
          61,
          47,
          44,
          47,
          45,
          47,
          61,
          34,
          72,
          66,
          51,
          25,
          64,
          44,
          62,
          46,
          57,
          24,
          44,
          70,
          71,
          37,
          72,
          33,
          null,
          30,
          29,
          70,
          44,
          51,
          34,
          25,
          48,
          65,
          34,
          36,
          57,
          47,
          51,
          42,
          46,
          61,
          29,
          null,
          27,
          38,
          24,
          25,
          38,
          46,
          62,
          47,
          36,
          32,
          64,
          25,
          57,
          64,
          38,
          38,
          56,
          42
         ],
         "yaxis": "y2"
        }
       ],
       "layout": {
        "height": 250,
        "showlegend": false,
        "template": {
         "data": {
          "bar": [
           {
            "error_x": {
             "color": "rgb(36,36,36)"
            },
            "error_y": {
             "color": "rgb(36,36,36)"
            },
            "marker": {
             "line": {
              "color": "white",
              "width": 0.5
             },
             "pattern": {
              "fillmode": "overlay",
              "size": 10,
              "solidity": 0.2
             }
            },
            "type": "bar"
           }
          ],
          "barpolar": [
           {
            "marker": {
             "line": {
              "color": "white",
              "width": 0.5
             },
             "pattern": {
              "fillmode": "overlay",
              "size": 10,
              "solidity": 0.2
             }
            },
            "type": "barpolar"
           }
          ],
          "carpet": [
           {
            "aaxis": {
             "endlinecolor": "rgb(36,36,36)",
             "gridcolor": "white",
             "linecolor": "white",
             "minorgridcolor": "white",
             "startlinecolor": "rgb(36,36,36)"
            },
            "baxis": {
             "endlinecolor": "rgb(36,36,36)",
             "gridcolor": "white",
             "linecolor": "white",
             "minorgridcolor": "white",
             "startlinecolor": "rgb(36,36,36)"
            },
            "type": "carpet"
           }
          ],
          "choropleth": [
           {
            "colorbar": {
             "outlinewidth": 1,
             "tickcolor": "rgb(36,36,36)",
             "ticks": "outside"
            },
            "type": "choropleth"
           }
          ],
          "contour": [
           {
            "colorbar": {
             "outlinewidth": 1,
             "tickcolor": "rgb(36,36,36)",
             "ticks": "outside"
            },
            "colorscale": [
             [
              0,
              "#440154"
             ],
             [
              0.1111111111111111,
              "#482878"
             ],
             [
              0.2222222222222222,
              "#3e4989"
             ],
             [
              0.3333333333333333,
              "#31688e"
             ],
             [
              0.4444444444444444,
              "#26828e"
             ],
             [
              0.5555555555555556,
              "#1f9e89"
             ],
             [
              0.6666666666666666,
              "#35b779"
             ],
             [
              0.7777777777777778,
              "#6ece58"
             ],
             [
              0.8888888888888888,
              "#b5de2b"
             ],
             [
              1,
              "#fde725"
             ]
            ],
            "type": "contour"
           }
          ],
          "contourcarpet": [
           {
            "colorbar": {
             "outlinewidth": 1,
             "tickcolor": "rgb(36,36,36)",
             "ticks": "outside"
            },
            "type": "contourcarpet"
           }
          ],
          "heatmap": [
           {
            "colorbar": {
             "outlinewidth": 1,
             "tickcolor": "rgb(36,36,36)",
             "ticks": "outside"
            },
            "colorscale": [
             [
              0,
              "#440154"
             ],
             [
              0.1111111111111111,
              "#482878"
             ],
             [
              0.2222222222222222,
              "#3e4989"
             ],
             [
              0.3333333333333333,
              "#31688e"
             ],
             [
              0.4444444444444444,
              "#26828e"
             ],
             [
              0.5555555555555556,
              "#1f9e89"
             ],
             [
              0.6666666666666666,
              "#35b779"
             ],
             [
              0.7777777777777778,
              "#6ece58"
             ],
             [
              0.8888888888888888,
              "#b5de2b"
             ],
             [
              1,
              "#fde725"
             ]
            ],
            "type": "heatmap"
           }
          ],
          "heatmapgl": [
           {
            "colorbar": {
             "outlinewidth": 1,
             "tickcolor": "rgb(36,36,36)",
             "ticks": "outside"
            },
            "colorscale": [
             [
              0,
              "#440154"
             ],
             [
              0.1111111111111111,
              "#482878"
             ],
             [
              0.2222222222222222,
              "#3e4989"
             ],
             [
              0.3333333333333333,
              "#31688e"
             ],
             [
              0.4444444444444444,
              "#26828e"
             ],
             [
              0.5555555555555556,
              "#1f9e89"
             ],
             [
              0.6666666666666666,
              "#35b779"
             ],
             [
              0.7777777777777778,
              "#6ece58"
             ],
             [
              0.8888888888888888,
              "#b5de2b"
             ],
             [
              1,
              "#fde725"
             ]
            ],
            "type": "heatmapgl"
           }
          ],
          "histogram": [
           {
            "marker": {
             "line": {
              "color": "white",
              "width": 0.6
             }
            },
            "type": "histogram"
           }
          ],
          "histogram2d": [
           {
            "colorbar": {
             "outlinewidth": 1,
             "tickcolor": "rgb(36,36,36)",
             "ticks": "outside"
            },
            "colorscale": [
             [
              0,
              "#440154"
             ],
             [
              0.1111111111111111,
              "#482878"
             ],
             [
              0.2222222222222222,
              "#3e4989"
             ],
             [
              0.3333333333333333,
              "#31688e"
             ],
             [
              0.4444444444444444,
              "#26828e"
             ],
             [
              0.5555555555555556,
              "#1f9e89"
             ],
             [
              0.6666666666666666,
              "#35b779"
             ],
             [
              0.7777777777777778,
              "#6ece58"
             ],
             [
              0.8888888888888888,
              "#b5de2b"
             ],
             [
              1,
              "#fde725"
             ]
            ],
            "type": "histogram2d"
           }
          ],
          "histogram2dcontour": [
           {
            "colorbar": {
             "outlinewidth": 1,
             "tickcolor": "rgb(36,36,36)",
             "ticks": "outside"
            },
            "colorscale": [
             [
              0,
              "#440154"
             ],
             [
              0.1111111111111111,
              "#482878"
             ],
             [
              0.2222222222222222,
              "#3e4989"
             ],
             [
              0.3333333333333333,
              "#31688e"
             ],
             [
              0.4444444444444444,
              "#26828e"
             ],
             [
              0.5555555555555556,
              "#1f9e89"
             ],
             [
              0.6666666666666666,
              "#35b779"
             ],
             [
              0.7777777777777778,
              "#6ece58"
             ],
             [
              0.8888888888888888,
              "#b5de2b"
             ],
             [
              1,
              "#fde725"
             ]
            ],
            "type": "histogram2dcontour"
           }
          ],
          "mesh3d": [
           {
            "colorbar": {
             "outlinewidth": 1,
             "tickcolor": "rgb(36,36,36)",
             "ticks": "outside"
            },
            "type": "mesh3d"
           }
          ],
          "parcoords": [
           {
            "line": {
             "colorbar": {
              "outlinewidth": 1,
              "tickcolor": "rgb(36,36,36)",
              "ticks": "outside"
             }
            },
            "type": "parcoords"
           }
          ],
          "pie": [
           {
            "automargin": true,
            "type": "pie"
           }
          ],
          "scatter": [
           {
            "marker": {
             "colorbar": {
              "outlinewidth": 1,
              "tickcolor": "rgb(36,36,36)",
              "ticks": "outside"
             }
            },
            "type": "scatter"
           }
          ],
          "scatter3d": [
           {
            "line": {
             "colorbar": {
              "outlinewidth": 1,
              "tickcolor": "rgb(36,36,36)",
              "ticks": "outside"
             }
            },
            "marker": {
             "colorbar": {
              "outlinewidth": 1,
              "tickcolor": "rgb(36,36,36)",
              "ticks": "outside"
             }
            },
            "type": "scatter3d"
           }
          ],
          "scattercarpet": [
           {
            "marker": {
             "colorbar": {
              "outlinewidth": 1,
              "tickcolor": "rgb(36,36,36)",
              "ticks": "outside"
             }
            },
            "type": "scattercarpet"
           }
          ],
          "scattergeo": [
           {
            "marker": {
             "colorbar": {
              "outlinewidth": 1,
              "tickcolor": "rgb(36,36,36)",
              "ticks": "outside"
             }
            },
            "type": "scattergeo"
           }
          ],
          "scattergl": [
           {
            "marker": {
             "colorbar": {
              "outlinewidth": 1,
              "tickcolor": "rgb(36,36,36)",
              "ticks": "outside"
             }
            },
            "type": "scattergl"
           }
          ],
          "scattermapbox": [
           {
            "marker": {
             "colorbar": {
              "outlinewidth": 1,
              "tickcolor": "rgb(36,36,36)",
              "ticks": "outside"
             }
            },
            "type": "scattermapbox"
           }
          ],
          "scatterpolar": [
           {
            "marker": {
             "colorbar": {
              "outlinewidth": 1,
              "tickcolor": "rgb(36,36,36)",
              "ticks": "outside"
             }
            },
            "type": "scatterpolar"
           }
          ],
          "scatterpolargl": [
           {
            "marker": {
             "colorbar": {
              "outlinewidth": 1,
              "tickcolor": "rgb(36,36,36)",
              "ticks": "outside"
             }
            },
            "type": "scatterpolargl"
           }
          ],
          "scatterternary": [
           {
            "marker": {
             "colorbar": {
              "outlinewidth": 1,
              "tickcolor": "rgb(36,36,36)",
              "ticks": "outside"
             }
            },
            "type": "scatterternary"
           }
          ],
          "surface": [
           {
            "colorbar": {
             "outlinewidth": 1,
             "tickcolor": "rgb(36,36,36)",
             "ticks": "outside"
            },
            "colorscale": [
             [
              0,
              "#440154"
             ],
             [
              0.1111111111111111,
              "#482878"
             ],
             [
              0.2222222222222222,
              "#3e4989"
             ],
             [
              0.3333333333333333,
              "#31688e"
             ],
             [
              0.4444444444444444,
              "#26828e"
             ],
             [
              0.5555555555555556,
              "#1f9e89"
             ],
             [
              0.6666666666666666,
              "#35b779"
             ],
             [
              0.7777777777777778,
              "#6ece58"
             ],
             [
              0.8888888888888888,
              "#b5de2b"
             ],
             [
              1,
              "#fde725"
             ]
            ],
            "type": "surface"
           }
          ],
          "table": [
           {
            "cells": {
             "fill": {
              "color": "rgb(237,237,237)"
             },
             "line": {
              "color": "white"
             }
            },
            "header": {
             "fill": {
              "color": "rgb(217,217,217)"
             },
             "line": {
              "color": "white"
             }
            },
            "type": "table"
           }
          ]
         },
         "layout": {
          "annotationdefaults": {
           "arrowhead": 0,
           "arrowwidth": 1
          },
          "autosize": true,
          "autotypenumbers": "strict",
          "coloraxis": {
           "colorbar": {
            "outlinewidth": 1,
            "tickcolor": "rgb(36,36,36)",
            "ticks": "outside"
           }
          },
          "colorscale": {
           "diverging": [
            [
             0,
             "rgb(103,0,31)"
            ],
            [
             0.1,
             "rgb(178,24,43)"
            ],
            [
             0.2,
             "rgb(214,96,77)"
            ],
            [
             0.3,
             "rgb(244,165,130)"
            ],
            [
             0.4,
             "rgb(253,219,199)"
            ],
            [
             0.5,
             "rgb(247,247,247)"
            ],
            [
             0.6,
             "rgb(209,229,240)"
            ],
            [
             0.7,
             "rgb(146,197,222)"
            ],
            [
             0.8,
             "rgb(67,147,195)"
            ],
            [
             0.9,
             "rgb(33,102,172)"
            ],
            [
             1,
             "rgb(5,48,97)"
            ]
           ],
           "sequential": [
            [
             0,
             "#440154"
            ],
            [
             0.1111111111111111,
             "#482878"
            ],
            [
             0.2222222222222222,
             "#3e4989"
            ],
            [
             0.3333333333333333,
             "#31688e"
            ],
            [
             0.4444444444444444,
             "#26828e"
            ],
            [
             0.5555555555555556,
             "#1f9e89"
            ],
            [
             0.6666666666666666,
             "#35b779"
            ],
            [
             0.7777777777777778,
             "#6ece58"
            ],
            [
             0.8888888888888888,
             "#b5de2b"
            ],
            [
             1,
             "#fde725"
            ]
           ],
           "sequentialminus": [
            [
             0,
             "#440154"
            ],
            [
             0.1111111111111111,
             "#482878"
            ],
            [
             0.2222222222222222,
             "#3e4989"
            ],
            [
             0.3333333333333333,
             "#31688e"
            ],
            [
             0.4444444444444444,
             "#26828e"
            ],
            [
             0.5555555555555556,
             "#1f9e89"
            ],
            [
             0.6666666666666666,
             "#35b779"
            ],
            [
             0.7777777777777778,
             "#6ece58"
            ],
            [
             0.8888888888888888,
             "#b5de2b"
            ],
            [
             1,
             "#fde725"
            ]
           ]
          },
          "colorway": [
           "#1F77B4",
           "#FF7F0E",
           "#2CA02C",
           "#D62728",
           "#9467BD",
           "#8C564B",
           "#E377C2",
           "#7F7F7F",
           "#BCBD22",
           "#17BECF"
          ],
          "font": {
           "color": "rgb(36,36,36)"
          },
          "geo": {
           "bgcolor": "white",
           "lakecolor": "white",
           "landcolor": "white",
           "showlakes": true,
           "showland": true,
           "subunitcolor": "white"
          },
          "height": 250,
          "hoverlabel": {
           "align": "left"
          },
          "hovermode": "closest",
          "mapbox": {
           "style": "light"
          },
          "margin": {
           "b": 10,
           "l": 10,
           "r": 10,
           "t": 10
          },
          "paper_bgcolor": "white",
          "plot_bgcolor": "white",
          "polar": {
           "angularaxis": {
            "gridcolor": "rgb(232,232,232)",
            "linecolor": "rgb(36,36,36)",
            "showgrid": false,
            "showline": true,
            "ticks": "outside"
           },
           "bgcolor": "white",
           "radialaxis": {
            "gridcolor": "rgb(232,232,232)",
            "linecolor": "rgb(36,36,36)",
            "showgrid": false,
            "showline": true,
            "ticks": "outside"
           }
          },
          "scene": {
           "xaxis": {
            "backgroundcolor": "white",
            "gridcolor": "rgb(232,232,232)",
            "gridwidth": 2,
            "linecolor": "rgb(36,36,36)",
            "showbackground": true,
            "showgrid": false,
            "showline": true,
            "ticks": "outside",
            "zeroline": false,
            "zerolinecolor": "rgb(36,36,36)"
           },
           "yaxis": {
            "backgroundcolor": "white",
            "gridcolor": "rgb(232,232,232)",
            "gridwidth": 2,
            "linecolor": "rgb(36,36,36)",
            "showbackground": true,
            "showgrid": false,
            "showline": true,
            "ticks": "outside",
            "zeroline": false,
            "zerolinecolor": "rgb(36,36,36)"
           },
           "zaxis": {
            "backgroundcolor": "white",
            "gridcolor": "rgb(232,232,232)",
            "gridwidth": 2,
            "linecolor": "rgb(36,36,36)",
            "showbackground": true,
            "showgrid": false,
            "showline": true,
            "ticks": "outside",
            "zeroline": false,
            "zerolinecolor": "rgb(36,36,36)"
           }
          },
          "shapedefaults": {
           "fillcolor": "black",
           "line": {
            "width": 0
           },
           "opacity": 0.3
          },
          "ternary": {
           "aaxis": {
            "gridcolor": "rgb(232,232,232)",
            "linecolor": "rgb(36,36,36)",
            "showgrid": false,
            "showline": true,
            "ticks": "outside"
           },
           "baxis": {
            "gridcolor": "rgb(232,232,232)",
            "linecolor": "rgb(36,36,36)",
            "showgrid": false,
            "showline": true,
            "ticks": "outside"
           },
           "bgcolor": "white",
           "caxis": {
            "gridcolor": "rgb(232,232,232)",
            "linecolor": "rgb(36,36,36)",
            "showgrid": false,
            "showline": true,
            "ticks": "outside"
           }
          },
          "title": {
           "x": 0.5,
           "xanchor": "center"
          },
          "width": 350,
          "xaxis": {
           "automargin": true,
           "gridcolor": "rgb(232,232,232)",
           "linecolor": "rgb(36,36,36)",
           "showgrid": true,
           "showline": true,
           "ticks": "outside",
           "title": {
            "standoff": 15
           },
           "zeroline": false,
           "zerolinecolor": "rgb(36,36,36)"
          },
          "yaxis": {
           "automargin": true,
           "gridcolor": "rgb(232,232,232)",
           "linecolor": "rgb(36,36,36)",
           "showgrid": true,
           "showline": true,
           "ticks": "outside",
           "title": {
            "standoff": 15
           },
           "zeroline": false,
           "zerolinecolor": "rgb(36,36,36)"
          }
         }
        },
        "width": 550,
        "xaxis": {
         "anchor": "y",
         "autorange": true,
         "categoryarray": [
          "small",
          "medium",
          "large"
         ],
         "categoryorder": "array",
         "domain": [
          0,
          0.45
         ],
         "range": [
          -0.5,
          2.5
         ],
         "title": {
          "text": "Size"
         },
         "type": "category"
        },
        "xaxis2": {
         "anchor": "y2",
         "autorange": true,
         "categoryarray": [
          "small",
          "medium",
          "large"
         ],
         "categoryorder": "array",
         "domain": [
          0.55,
          1
         ],
         "range": [
          -0.5,
          2.5
         ],
         "title": {
          "text": "Size"
         },
         "type": "category"
        },
        "yaxis": {
         "anchor": "x",
         "domain": [
          0,
          1
         ],
         "range": [
          0,
          90
         ],
         "title": {
          "text": "Height (cm)"
         },
         "type": "linear"
        },
        "yaxis2": {
         "anchor": "x2",
         "domain": [
          0,
          1
         ],
         "range": [
          0,
          90
         ],
         "type": "linear"
        }
       }
      },
      "image/png": "[encoded data removed]",
      "image/svg+xml": [
       "<svg class=\"main-svg\" xmlns=\"http://www.w3.org/2000/svg\" xmlns:xlink=\"http://www.w3.org/1999/xlink\" width=\"550\" height=\"250\" style=\"\" viewBox=\"0 0 550 250\"><rect x=\"0\" y=\"0\" width=\"550\" height=\"250\" style=\"fill: rgb(255, 255, 255); fill-opacity: 1;\"/><defs id=\"defs-897f54\"><g class=\"clips\"><clipPath id=\"clip897f54xyplot\" class=\"plotclip\"><rect width=\"217.35\" height=\"181\"/></clipPath><clipPath id=\"clip897f54x2y2plot\" class=\"plotclip\"><rect width=\"217.34999999999997\" height=\"181\"/></clipPath><clipPath class=\"axesclip\" id=\"clip897f54x\"><rect x=\"57\" y=\"0\" width=\"217.35\" height=\"250\"/></clipPath><clipPath class=\"axesclip\" id=\"clip897f54y\"><rect x=\"0\" y=\"10\" width=\"550\" height=\"181\"/></clipPath><clipPath class=\"axesclip\" id=\"clip897f54xy\"><rect x=\"57\" y=\"10\" width=\"217.35\" height=\"181\"/></clipPath><clipPath class=\"axesclip\" id=\"clip897f54y2\"><rect x=\"0\" y=\"10\" width=\"550\" height=\"181\"/></clipPath><clipPath class=\"axesclip\" id=\"clip897f54xy2\"><rect x=\"57\" y=\"10\" width=\"217.35\" height=\"181\"/></clipPath><clipPath class=\"axesclip\" id=\"clip897f54x2\"><rect x=\"322.65000000000003\" y=\"0\" width=\"217.34999999999997\" height=\"250\"/></clipPath><clipPath class=\"axesclip\" id=\"clip897f54x2y\"><rect x=\"322.65000000000003\" y=\"10\" width=\"217.34999999999997\" height=\"181\"/></clipPath><clipPath class=\"axesclip\" id=\"clip897f54x2y2\"><rect x=\"322.65000000000003\" y=\"10\" width=\"217.34999999999997\" height=\"181\"/></clipPath></g><g class=\"gradients\"/><g class=\"patterns\"/></defs><g class=\"bglayer\"/><g class=\"layer-below\"><g class=\"imagelayer\"/><g class=\"shapelayer\"/></g><g class=\"cartesianlayer\"><g class=\"subplot xy\"><g class=\"layer-subplot\"><g class=\"shapelayer\"/><g class=\"imagelayer\"/></g><g class=\"gridlayer\"><g class=\"x\"><path class=\"xgrid crisp\" transform=\"translate(93.22999999999999,0)\" d=\"M0,10v181\" style=\"stroke: rgb(232, 232, 232); stroke-opacity: 1; stroke-width: 1px;\"/><path class=\"xgrid crisp\" transform=\"translate(165.68,0)\" d=\"M0,10v181\" style=\"stroke: rgb(232, 232, 232); stroke-opacity: 1; stroke-width: 1px;\"/><path class=\"xgrid crisp\" transform=\"translate(238.13,0)\" d=\"M0,10v181\" style=\"stroke: rgb(232, 232, 232); stroke-opacity: 1; stroke-width: 1px;\"/></g><g class=\"y\"><path class=\"ygrid crisp\" transform=\"translate(0,150.78)\" d=\"M57,0h217.35\" style=\"stroke: rgb(232, 232, 232); stroke-opacity: 1; stroke-width: 1px;\"/><path class=\"ygrid crisp\" transform=\"translate(0,110.56)\" d=\"M57,0h217.35\" style=\"stroke: rgb(232, 232, 232); stroke-opacity: 1; stroke-width: 1px;\"/><path class=\"ygrid crisp\" transform=\"translate(0,70.33)\" d=\"M57,0h217.35\" style=\"stroke: rgb(232, 232, 232); stroke-opacity: 1; stroke-width: 1px;\"/><path class=\"ygrid crisp\" transform=\"translate(0,30.11)\" d=\"M57,0h217.35\" style=\"stroke: rgb(232, 232, 232); stroke-opacity: 1; stroke-width: 1px;\"/></g></g><g class=\"zerolinelayer\"/><path class=\"xlines-below\"/><path class=\"ylines-below\"/><g class=\"overlines-below\"/><g class=\"xaxislayer-below\"/><g class=\"yaxislayer-below\"/><g class=\"overaxes-below\"/><g class=\"plot\" transform=\"translate(57,10)\" clip-path=\"url(#clip897f54xyplot)\"><g class=\"boxlayer mlayer\"><g class=\"trace boxes\" style=\"opacity: 1;\"><path class=\"box\" d=\"M18.47,122.68H53.98M18.47,130.72H53.98V108.6H18.47ZM36.23,130.72V154.86M36.23,108.6V102.57M27.35,154.86H45.1M27.35,102.57H45.1\" style=\"vector-effect: non-scaling-stroke; stroke-width: 2px; stroke: rgb(31, 119, 180); stroke-opacity: 1; fill: rgb(31, 119, 180); fill-opacity: 0.5;\"/><path class=\"box\" d=\"M90.92,84.47H126.43M90.92,88.99H126.43V70.39H90.92ZM108.68,88.99V104.58M108.68,70.39V62.34M99.8,104.58H117.55M99.8,62.34H117.55\" style=\"vector-effect: non-scaling-stroke; stroke-width: 2px; stroke: rgb(31, 119, 180); stroke-opacity: 1; fill: rgb(31, 119, 180); fill-opacity: 0.5;\"/><path class=\"box\" d=\"M163.37,52.29H198.88M163.37,56.31H198.88V47.26H163.37ZM181.13,56.31V60.33M181.13,47.26V36.2M172.25,60.33H190M172.25,36.2H190\" style=\"vector-effect: non-scaling-stroke; stroke-width: 2px; stroke: rgb(31, 119, 180); stroke-opacity: 1; fill: rgb(31, 119, 180); fill-opacity: 0.5;\"/><g class=\"points\"/><g class=\"points\"/><g class=\"points\"><path class=\"point\" transform=\"translate(181.13,28.16)\" d=\"M3,0A3,3 0 1,1 0,-3A3,3 0 0,1 3,0Z\" style=\"opacity: 1; stroke-width: 0px; fill: rgb(31, 119, 180); fill-opacity: 1;\"/><path class=\"point\" transform=\"translate(181.13,28.16)\" d=\"M3,0A3,3 0 1,1 0,-3A3,3 0 0,1 3,0Z\" style=\"opacity: 1; stroke-width: 0px; fill: rgb(31, 119, 180); fill-opacity: 1;\"/><path class=\"point\" transform=\"translate(181.13,18.1)\" d=\"M3,0A3,3 0 1,1 0,-3A3,3 0 0,1 3,0Z\" style=\"opacity: 1; stroke-width: 0px; fill: rgb(31, 119, 180); fill-opacity: 1;\"/></g></g></g></g><g class=\"overplot\"/><path class=\"xlines-above crisp\" d=\"M56,191.5H274.35\" style=\"fill: none; stroke-width: 1px; stroke: rgb(36, 36, 36); stroke-opacity: 1;\"/><path class=\"ylines-above crisp\" d=\"M56.5,10V191\" style=\"fill: none; stroke-width: 1px; stroke: rgb(36, 36, 36); stroke-opacity: 1;\"/><g class=\"overlines-above\"/><g class=\"xaxislayer-above\"><path class=\"xtick ticks crisp\" d=\"M0,192v5\" transform=\"translate(93.22999999999999,0)\" style=\"stroke: rgb(68, 68, 68); stroke-opacity: 1; stroke-width: 1px;\"/><path class=\"xtick ticks crisp\" d=\"M0,192v5\" transform=\"translate(165.68,0)\" style=\"stroke: rgb(68, 68, 68); stroke-opacity: 1; stroke-width: 1px;\"/><path class=\"xtick ticks crisp\" d=\"M0,192v5\" transform=\"translate(238.13,0)\" style=\"stroke: rgb(68, 68, 68); stroke-opacity: 1; stroke-width: 1px;\"/><g class=\"xtick\"><text text-anchor=\"middle\" x=\"0\" y=\"211.4\" transform=\"translate(93.22999999999999,0)\" style=\"font-family: 'Open Sans', verdana, arial, sans-serif; font-size: 12px; fill: rgb(36, 36, 36); fill-opacity: 1; white-space: pre; opacity: 1;\">small</text></g><g class=\"xtick\"><text text-anchor=\"middle\" x=\"0\" y=\"211.4\" transform=\"translate(165.68,0)\" style=\"font-family: 'Open Sans', verdana, arial, sans-serif; font-size: 12px; fill: rgb(36, 36, 36); fill-opacity: 1; white-space: pre; opacity: 1;\">medium</text></g><g class=\"xtick\"><text text-anchor=\"middle\" x=\"0\" y=\"211.4\" transform=\"translate(238.13,0)\" style=\"font-family: 'Open Sans', verdana, arial, sans-serif; font-size: 12px; fill: rgb(36, 36, 36); fill-opacity: 1; white-space: pre; opacity: 1;\">large</text></g></g><g class=\"yaxislayer-above\"><path class=\"ytick ticks crisp\" d=\"M56,0h-5\" transform=\"translate(0,191)\" style=\"stroke: rgb(68, 68, 68); stroke-opacity: 1; stroke-width: 1px;\"/><path class=\"ytick ticks crisp\" d=\"M56,0h-5\" transform=\"translate(0,150.78)\" style=\"stroke: rgb(68, 68, 68); stroke-opacity: 1; stroke-width: 1px;\"/><path class=\"ytick ticks crisp\" d=\"M56,0h-5\" transform=\"translate(0,110.56)\" style=\"stroke: rgb(68, 68, 68); stroke-opacity: 1; stroke-width: 1px;\"/><path class=\"ytick ticks crisp\" d=\"M56,0h-5\" transform=\"translate(0,70.33)\" style=\"stroke: rgb(68, 68, 68); stroke-opacity: 1; stroke-width: 1px;\"/><path class=\"ytick ticks crisp\" d=\"M56,0h-5\" transform=\"translate(0,30.11)\" style=\"stroke: rgb(68, 68, 68); stroke-opacity: 1; stroke-width: 1px;\"/><g class=\"ytick\"><text text-anchor=\"end\" x=\"48.6\" y=\"4.199999999999999\" transform=\"translate(0,191)\" style=\"font-family: 'Open Sans', verdana, arial, sans-serif; font-size: 12px; fill: rgb(36, 36, 36); fill-opacity: 1; white-space: pre; opacity: 1;\">0</text></g><g class=\"ytick\"><text text-anchor=\"end\" x=\"48.6\" y=\"4.199999999999999\" style=\"font-family: 'Open Sans', verdana, arial, sans-serif; font-size: 12px; fill: rgb(36, 36, 36); fill-opacity: 1; white-space: pre; opacity: 1;\" transform=\"translate(0,150.78)\">20</text></g><g class=\"ytick\"><text text-anchor=\"end\" x=\"48.6\" y=\"4.199999999999999\" style=\"font-family: 'Open Sans', verdana, arial, sans-serif; font-size: 12px; fill: rgb(36, 36, 36); fill-opacity: 1; white-space: pre; opacity: 1;\" transform=\"translate(0,110.56)\">40</text></g><g class=\"ytick\"><text text-anchor=\"end\" x=\"48.6\" y=\"4.199999999999999\" style=\"font-family: 'Open Sans', verdana, arial, sans-serif; font-size: 12px; fill: rgb(36, 36, 36); fill-opacity: 1; white-space: pre; opacity: 1;\" transform=\"translate(0,70.33)\">60</text></g><g class=\"ytick\"><text text-anchor=\"end\" x=\"48.6\" y=\"4.199999999999999\" style=\"font-family: 'Open Sans', verdana, arial, sans-serif; font-size: 12px; fill: rgb(36, 36, 36); fill-opacity: 1; white-space: pre; opacity: 1;\" transform=\"translate(0,30.11)\">80</text></g></g><g class=\"overaxes-above\"/></g><g class=\"subplot x2y2\"><g class=\"layer-subplot\"><g class=\"shapelayer\"/><g class=\"imagelayer\"/></g><g class=\"gridlayer\"><g class=\"x2\"><path class=\"x2grid crisp\" transform=\"translate(358.87,0)\" d=\"M0,10v181\" style=\"stroke: rgb(232, 232, 232); stroke-opacity: 1; stroke-width: 1px;\"/><path class=\"x2grid crisp\" transform=\"translate(431.32000000000005,0)\" d=\"M0,10v181\" style=\"stroke: rgb(232, 232, 232); stroke-opacity: 1; stroke-width: 1px;\"/><path class=\"x2grid crisp\" transform=\"translate(503.77000000000004,0)\" d=\"M0,10v181\" style=\"stroke: rgb(232, 232, 232); stroke-opacity: 1; stroke-width: 1px;\"/></g><g class=\"y2\"><path class=\"y2grid crisp\" transform=\"translate(0,150.78)\" d=\"M322.65000000000003,0h217.34999999999997\" style=\"stroke: rgb(232, 232, 232); stroke-opacity: 1; stroke-width: 1px;\"/><path class=\"y2grid crisp\" transform=\"translate(0,110.56)\" d=\"M322.65000000000003,0h217.34999999999997\" style=\"stroke: rgb(232, 232, 232); stroke-opacity: 1; stroke-width: 1px;\"/><path class=\"y2grid crisp\" transform=\"translate(0,70.33)\" d=\"M322.65000000000003,0h217.34999999999997\" style=\"stroke: rgb(232, 232, 232); stroke-opacity: 1; stroke-width: 1px;\"/><path class=\"y2grid crisp\" transform=\"translate(0,30.11)\" d=\"M322.65000000000003,0h217.34999999999997\" style=\"stroke: rgb(232, 232, 232); stroke-opacity: 1; stroke-width: 1px;\"/></g></g><g class=\"zerolinelayer\"/><path class=\"xlines-below\"/><path class=\"ylines-below\"/><g class=\"overlines-below\"/><g class=\"xaxislayer-below\"/><g class=\"yaxislayer-below\"/><g class=\"overaxes-below\"/><g class=\"plot\" transform=\"translate(322.65000000000003,10)\" clip-path=\"url(#clip897f54x2y2plot)\"><g class=\"violinlayer mlayer\"><g class=\"trace violins\" style=\"opacity: 1;\"><path class=\"violin\" d=\"M36.29,165.98Q36.33,164.77 36.35,164.16C36.37,163.56 36.39,162.95 36.42,162.35C36.45,161.74 36.49,161.14 36.52,160.53C36.55,159.92 36.58,159.32 36.61,158.71C36.64,158.1 36.66,157.5 36.68,156.89C36.7,156.28 36.71,155.68 36.71,155.07C36.71,154.46 36.71,153.86 36.7,153.25C36.69,152.65 36.67,152.04 36.65,151.44C36.63,150.83 36.61,150.23 36.6,149.62C36.59,149.01 36.58,148.41 36.6,147.8C36.62,147.19 36.65,146.58 36.72,145.98C36.79,145.37 36.89,144.76 37.04,144.16C37.2,143.55 37.4,142.94 37.66,142.35C37.93,141.73 38.27,141.12 38.65,140.53C39.05,139.91 39.54,139.3 40.04,138.71C40.56,138.09 41.16,137.49 41.74,136.89C42.33,136.28 42.96,135.68 43.54,135.07C44.11,134.47 44.7,133.88 45.19,133.26C45.65,132.67 46.11,132.07 46.42,131.44C46.71,130.85 46.94,130.24 47.04,129.62C47.14,129.02 47.12,128.4 47.04,127.8C46.96,127.19 46.75,126.58 46.54,125.98C46.32,125.37 46.03,124.77 45.75,124.17C45.47,123.56 45.15,122.96 44.88,122.35C44.61,121.75 44.34,121.14 44.14,120.53C43.94,119.93 43.77,119.32 43.66,118.71C43.55,118.11 43.5,117.5 43.5,116.89C43.5,116.29 43.56,115.68 43.64,115.08C43.72,114.47 43.86,113.87 43.97,113.26C44.09,112.65 44.24,112.05 44.33,111.44C44.42,110.84 44.52,110.23 44.53,109.62C44.54,109.01 44.51,108.4 44.39,107.8C44.27,107.19 44.06,106.58 43.81,105.99C43.55,105.37 43.2,104.77 42.83,104.17C42.45,103.55 42,102.95 41.56,102.35C41.12,101.74 40.64,101.14 40.2,100.53C39.77,99.93 39.33,99.32 38.95,98.71C38.58,98.11 38.23,97.51 37.94,96.9C37.66,96.3 37.41,95.69 37.21,95.08C37.01,94.48 36.86,93.87 36.74,93.26Q36.62,92.66 36.47,91.44L35.98,91.44Q35.83,92.66 35.71,93.26C35.59,93.87 35.44,94.48 35.24,95.08C35.04,95.69 34.79,96.3 34.51,96.9C34.22,97.51 33.87,98.11 33.5,98.71C33.12,99.32 32.68,99.93 32.25,100.53C31.81,101.14 31.33,101.74 30.89,102.35C30.45,102.95 30,103.55 29.62,104.17C29.25,104.77 28.9,105.37 28.64,105.99C28.39,106.58 28.18,107.19 28.06,107.8C27.94,108.4 27.91,109.01 27.92,109.62C27.93,110.23 28.03,110.84 28.12,111.44C28.21,112.05 28.36,112.65 28.48,113.26C28.59,113.87 28.73,114.47 28.81,115.08C28.89,115.68 28.95,116.29 28.95,116.89C28.95,117.5 28.9,118.11 28.79,118.71C28.68,119.32 28.51,119.93 28.31,120.53C28.11,121.14 27.84,121.75 27.57,122.35C27.3,122.96 26.98,123.56 26.7,124.17C26.42,124.77 26.13,125.37 25.91,125.98C25.7,126.58 25.49,127.19 25.41,127.8C25.33,128.4 25.31,129.02 25.41,129.62C25.51,130.24 25.74,130.85 26.03,131.44C26.34,132.07 26.8,132.67 27.26,133.26C27.75,133.88 28.34,134.47 28.91,135.07C29.49,135.68 30.12,136.28 30.71,136.89C31.29,137.49 31.89,138.09 32.41,138.71C32.91,139.3 33.4,139.91 33.8,140.53C34.18,141.12 34.52,141.73 34.79,142.35C35.05,142.94 35.25,143.55 35.41,144.16C35.56,144.76 35.66,145.37 35.73,145.98C35.8,146.58 35.83,147.19 35.85,147.8C35.87,148.41 35.86,149.01 35.85,149.62C35.84,150.23 35.82,150.83 35.8,151.44C35.78,152.04 35.76,152.65 35.75,153.25C35.74,153.86 35.74,154.46 35.74,155.07C35.74,155.68 35.75,156.28 35.77,156.89C35.79,157.5 35.81,158.1 35.84,158.71C35.87,159.32 35.9,159.92 35.93,160.53C35.96,161.14 36,161.74 36.03,162.35C36.06,162.95 36.08,163.56 36.1,164.16Q36.12,164.77 36.16,165.98Z\" style=\"vector-effect: non-scaling-stroke; stroke-width: 2px; stroke: rgb(255, 127, 14); stroke-opacity: 1; fill: rgb(255, 127, 14); fill-opacity: 0.5;\"/><path class=\"violin\" d=\"M108.75,115.72Q108.79,114.49 108.83,113.88C108.87,113.27 108.92,112.65 108.98,112.04C109.05,111.42 109.12,110.8 109.22,110.19C109.32,109.57 109.45,108.96 109.6,108.35C109.75,107.73 109.93,107.12 110.14,106.51C110.35,105.89 110.59,105.27 110.85,104.66C111.12,104.04 111.43,103.43 111.74,102.82C112.06,102.2 112.4,101.59 112.75,100.98C113.1,100.36 113.46,99.75 113.82,99.13C114.18,98.52 114.54,97.91 114.9,97.29C115.25,96.68 115.61,96.06 115.95,95.44C116.29,94.83 116.63,94.22 116.94,93.6C117.25,92.99 117.55,92.38 117.8,91.76C118.05,91.15 118.29,90.53 118.45,89.91C118.61,89.3 118.72,88.69 118.76,88.07C118.8,87.46 118.76,86.84 118.67,86.23C118.58,85.61 118.39,84.99 118.2,84.38C118,83.76 117.74,83.15 117.5,82.54C117.26,81.93 116.98,81.32 116.75,80.7C116.52,80.09 116.28,79.47 116.1,78.85C115.92,78.24 115.77,77.63 115.66,77.01C115.55,76.4 115.48,75.79 115.45,75.17C115.42,74.56 115.44,73.94 115.47,73.32C115.5,72.71 115.57,72.09 115.62,71.48C115.67,70.86 115.76,70.25 115.79,69.63C115.82,69.02 115.86,68.4 115.82,67.79C115.78,67.18 115.71,66.56 115.57,65.95C115.43,65.33 115.21,64.71 114.96,64.1C114.7,63.48 114.36,62.87 114.02,62.26C113.67,61.64 113.25,61.03 112.86,60.42C112.47,59.8 112.06,59.19 111.69,58.57C111.33,57.96 110.97,57.35 110.66,56.73C110.36,56.12 110.08,55.51 109.86,54.89C109.64,54.28 109.47,53.66 109.32,53.04Q109.18,52.43 108.99,51.2L108.36,51.2Q108.17,52.43 108.03,53.04C107.88,53.66 107.71,54.28 107.49,54.89C107.27,55.51 106.99,56.12 106.69,56.73C106.38,57.35 106.02,57.96 105.66,58.57C105.29,59.19 104.88,59.8 104.49,60.42C104.1,61.03 103.68,61.64 103.33,62.26C102.99,62.87 102.65,63.48 102.39,64.1C102.14,64.71 101.92,65.33 101.78,65.95C101.64,66.56 101.57,67.18 101.53,67.79C101.49,68.4 101.53,69.02 101.56,69.63C101.59,70.25 101.68,70.86 101.73,71.48C101.78,72.09 101.85,72.71 101.88,73.32C101.91,73.94 101.93,74.56 101.9,75.17C101.87,75.79 101.8,76.4 101.69,77.01C101.58,77.63 101.43,78.24 101.25,78.85C101.07,79.47 100.83,80.09 100.6,80.7C100.37,81.32 100.09,81.93 99.85,82.54C99.61,83.15 99.35,83.76 99.15,84.38C98.96,84.99 98.77,85.61 98.68,86.23C98.59,86.84 98.55,87.46 98.59,88.07C98.63,88.69 98.74,89.3 98.9,89.91C99.06,90.53 99.3,91.15 99.55,91.76C99.8,92.38 100.1,92.99 100.41,93.6C100.72,94.22 101.06,94.83 101.4,95.44C101.74,96.06 102.1,96.68 102.45,97.29C102.81,97.91 103.17,98.52 103.53,99.13C103.89,99.75 104.25,100.36 104.6,100.98C104.95,101.59 105.29,102.2 105.61,102.82C105.92,103.43 106.23,104.04 106.5,104.66C106.76,105.27 107,105.89 107.21,106.51C107.42,107.12 107.6,107.73 107.75,108.35C107.9,108.96 108.03,109.57 108.13,110.19C108.23,110.8 108.3,111.42 108.37,112.04C108.43,112.65 108.48,113.27 108.52,113.88Q108.56,114.49 108.6,115.72Z\" style=\"vector-effect: non-scaling-stroke; stroke-width: 2px; stroke: rgb(255, 127, 14); stroke-opacity: 1; fill: rgb(255, 127, 14); fill-opacity: 0.5;\"/><path class=\"violin\" d=\"M181.54,66.78Q181.81,66.06 182.03,65.72C182.26,65.35 182.57,64.99 182.92,64.66C183.32,64.28 183.8,63.93 184.33,63.6C184.93,63.22 185.63,62.88 186.35,62.54C187.14,62.17 188.02,61.83 188.88,61.48C189.78,61.12 190.74,60.78 191.64,60.42C192.52,60.07 193.43,59.73 194.23,59.36C194.96,59.02 195.68,58.69 196.27,58.3C196.77,57.97 197.24,57.62 197.58,57.24C197.87,56.91 198.09,56.55 198.25,56.18C198.4,55.84 198.46,55.48 198.54,55.12C198.62,54.77 198.67,54.41 198.73,54.06C198.79,53.71 198.86,53.35 198.88,53C198.9,52.65 198.92,52.29 198.84,51.94C198.75,51.58 198.59,51.21 198.35,50.88C198.07,50.5 197.65,50.15 197.2,49.82C196.68,49.44 196.03,49.1 195.38,48.76C194.68,48.39 193.88,48.05 193.12,47.7C192.35,47.34 191.52,47 190.77,46.64C190.06,46.3 189.34,45.96 188.73,45.58C188.19,45.25 187.65,44.91 187.27,44.52C186.94,44.19 186.65,43.83 186.51,43.46C186.38,43.12 186.36,42.75 186.39,42.4C186.42,42.04 186.57,41.69 186.7,41.34C186.83,40.98 187.04,40.64 187.17,40.28C187.3,39.93 187.44,39.58 187.49,39.22C187.54,38.87 187.54,38.51 187.47,38.16C187.39,37.8 187.23,37.44 187.03,37.1C186.82,36.73 186.52,36.39 186.23,36.04C185.93,35.68 185.58,35.33 185.26,34.98C184.94,34.63 184.6,34.28 184.31,33.92C184.04,33.57 183.77,33.22 183.57,32.86C183.38,32.52 183.23,32.16 183.12,31.8C183.02,31.45 182.97,31.09 182.93,30.74C182.89,30.39 182.9,30.03 182.89,29.68C182.88,29.33 182.89,28.97 182.87,28.62C182.85,28.27 182.84,27.91 182.79,27.56C182.74,27.2 182.67,26.84 182.59,26.49C182.51,26.13 182.42,25.78 182.33,25.43C182.24,25.08 182.14,24.72 182.06,24.37C181.98,24.02 181.92,23.66 181.87,23.31C181.82,22.96 181.79,22.6 181.78,22.25C181.77,21.9 181.78,21.54 181.79,21.19C181.8,20.84 181.84,20.48 181.86,20.13C181.88,19.78 181.92,19.42 181.93,19.07C181.94,18.72 181.96,18.36 181.95,18.01C181.94,17.66 181.92,17.3 181.89,16.95C181.86,16.6 181.82,16.24 181.77,15.89C181.72,15.54 181.66,15.18 181.61,14.83C181.56,14.48 181.5,14.12 181.45,13.77C181.4,13.42 181.37,13.06 181.33,12.71Q181.29,12.36 181.23,11.65L181.02,11.65Q180.96,12.36 180.92,12.71C180.88,13.06 180.85,13.42 180.8,13.77C180.75,14.12 180.69,14.48 180.64,14.83C180.59,15.18 180.53,15.54 180.48,15.89C180.43,16.24 180.39,16.6 180.36,16.95C180.33,17.3 180.31,17.66 180.3,18.01C180.29,18.36 180.31,18.72 180.32,19.07C180.33,19.42 180.37,19.78 180.39,20.13C180.41,20.48 180.45,20.84 180.46,21.19C180.47,21.54 180.48,21.9 180.47,22.25C180.46,22.6 180.43,22.96 180.38,23.31C180.33,23.66 180.27,24.02 180.19,24.37C180.11,24.72 180.01,25.08 179.92,25.43C179.83,25.78 179.74,26.13 179.66,26.49C179.58,26.84 179.51,27.2 179.46,27.56C179.41,27.91 179.4,28.27 179.38,28.62C179.36,28.97 179.37,29.33 179.36,29.68C179.35,30.03 179.36,30.39 179.32,30.74C179.28,31.09 179.23,31.45 179.13,31.8C179.02,32.16 178.87,32.52 178.68,32.86C178.48,33.22 178.21,33.57 177.94,33.92C177.65,34.28 177.31,34.63 176.99,34.98C176.67,35.33 176.32,35.68 176.02,36.04C175.73,36.39 175.43,36.73 175.22,37.1C175.02,37.44 174.86,37.8 174.78,38.16C174.71,38.51 174.71,38.87 174.76,39.22C174.81,39.58 174.95,39.93 175.08,40.28C175.21,40.64 175.42,40.98 175.55,41.34C175.68,41.69 175.83,42.04 175.86,42.4C175.89,42.75 175.87,43.12 175.74,43.46C175.6,43.83 175.31,44.19 174.98,44.52C174.6,44.91 174.06,45.25 173.52,45.58C172.91,45.96 172.19,46.3 171.48,46.64C170.73,47 169.9,47.34 169.13,47.7C168.37,48.05 167.57,48.39 166.87,48.76C166.22,49.1 165.57,49.44 165.05,49.82C164.6,50.15 164.18,50.5 163.9,50.88C163.66,51.21 163.5,51.58 163.41,51.94C163.33,52.29 163.35,52.65 163.37,53C163.39,53.35 163.46,53.71 163.52,54.06C163.58,54.41 163.63,54.77 163.71,55.12C163.79,55.48 163.85,55.84 164,56.18C164.16,56.55 164.38,56.91 164.67,57.24C165.01,57.62 165.48,57.97 165.98,58.3C166.57,58.69 167.29,59.02 168.02,59.36C168.82,59.73 169.73,60.07 170.61,60.42C171.51,60.78 172.47,61.12 173.37,61.48C174.23,61.83 175.11,62.17 175.9,62.54C176.62,62.88 177.32,63.22 177.92,63.6C178.45,63.93 178.93,64.28 179.33,64.66C179.68,64.99 179.99,65.35 180.22,65.72Q180.44,66.06 180.71,66.78Z\" style=\"vector-effect: non-scaling-stroke; stroke-width: 2px; stroke: rgb(255, 127, 14); stroke-opacity: 1; fill: rgb(255, 127, 14); fill-opacity: 0.5;\"/><g class=\"points\"/><g class=\"points\"/><g class=\"points\"><path class=\"point\" transform=\"translate(181.12,28.16)\" d=\"M3,0A3,3 0 1,1 0,-3A3,3 0 0,1 3,0Z\" style=\"opacity: 1; stroke-width: 0px; fill: rgb(255, 127, 14); fill-opacity: 1;\"/><path class=\"point\" transform=\"translate(181.12,28.16)\" d=\"M3,0A3,3 0 1,1 0,-3A3,3 0 0,1 3,0Z\" style=\"opacity: 1; stroke-width: 0px; fill: rgb(255, 127, 14); fill-opacity: 1;\"/><path class=\"point\" transform=\"translate(181.12,18.1)\" d=\"M3,0A3,3 0 1,1 0,-3A3,3 0 0,1 3,0Z\" style=\"opacity: 1; stroke-width: 0px; fill: rgb(255, 127, 14); fill-opacity: 1;\"/></g></g></g></g><g class=\"overplot\"/><path class=\"xlines-above crisp\" d=\"M321.65000000000003,191.5H540\" style=\"fill: none; stroke-width: 1px; stroke: rgb(36, 36, 36); stroke-opacity: 1;\"/><path class=\"ylines-above crisp\" d=\"M322.15000000000003,10V191\" style=\"fill: none; stroke-width: 1px; stroke: rgb(36, 36, 36); stroke-opacity: 1;\"/><g class=\"overlines-above\"/><g class=\"xaxislayer-above\"><path class=\"x2tick ticks crisp\" d=\"M0,192v5\" transform=\"translate(358.87,0)\" style=\"stroke: rgb(68, 68, 68); stroke-opacity: 1; stroke-width: 1px;\"/><path class=\"x2tick ticks crisp\" d=\"M0,192v5\" transform=\"translate(431.32000000000005,0)\" style=\"stroke: rgb(68, 68, 68); stroke-opacity: 1; stroke-width: 1px;\"/><path class=\"x2tick ticks crisp\" d=\"M0,192v5\" transform=\"translate(503.77000000000004,0)\" style=\"stroke: rgb(68, 68, 68); stroke-opacity: 1; stroke-width: 1px;\"/><g class=\"x2tick\"><text text-anchor=\"middle\" x=\"0\" y=\"211.4\" transform=\"translate(358.87,0)\" style=\"font-family: 'Open Sans', verdana, arial, sans-serif; font-size: 12px; fill: rgb(36, 36, 36); fill-opacity: 1; white-space: pre; opacity: 1;\">small</text></g><g class=\"x2tick\"><text text-anchor=\"middle\" x=\"0\" y=\"211.4\" transform=\"translate(431.32000000000005,0)\" style=\"font-family: 'Open Sans', verdana, arial, sans-serif; font-size: 12px; fill: rgb(36, 36, 36); fill-opacity: 1; white-space: pre; opacity: 1;\">medium</text></g><g class=\"x2tick\"><text text-anchor=\"middle\" x=\"0\" y=\"211.4\" transform=\"translate(503.77000000000004,0)\" style=\"font-family: 'Open Sans', verdana, arial, sans-serif; font-size: 12px; fill: rgb(36, 36, 36); fill-opacity: 1; white-space: pre; opacity: 1;\">large</text></g></g><g class=\"yaxislayer-above\"><path class=\"y2tick ticks crisp\" d=\"M321.65000000000003,0h-5\" transform=\"translate(0,191)\" style=\"stroke: rgb(68, 68, 68); stroke-opacity: 1; stroke-width: 1px;\"/><path class=\"y2tick ticks crisp\" d=\"M321.65000000000003,0h-5\" transform=\"translate(0,150.78)\" style=\"stroke: rgb(68, 68, 68); stroke-opacity: 1; stroke-width: 1px;\"/><path class=\"y2tick ticks crisp\" d=\"M321.65000000000003,0h-5\" transform=\"translate(0,110.56)\" style=\"stroke: rgb(68, 68, 68); stroke-opacity: 1; stroke-width: 1px;\"/><path class=\"y2tick ticks crisp\" d=\"M321.65000000000003,0h-5\" transform=\"translate(0,70.33)\" style=\"stroke: rgb(68, 68, 68); stroke-opacity: 1; stroke-width: 1px;\"/><path class=\"y2tick ticks crisp\" d=\"M321.65000000000003,0h-5\" transform=\"translate(0,30.11)\" style=\"stroke: rgb(68, 68, 68); stroke-opacity: 1; stroke-width: 1px;\"/><g class=\"y2tick\"><text text-anchor=\"end\" x=\"314.25000000000006\" y=\"4.199999999999999\" transform=\"translate(0,191)\" style=\"font-family: 'Open Sans', verdana, arial, sans-serif; font-size: 12px; fill: rgb(36, 36, 36); fill-opacity: 1; white-space: pre; opacity: 1;\">0</text></g><g class=\"y2tick\"><text text-anchor=\"end\" x=\"314.25000000000006\" y=\"4.199999999999999\" style=\"font-family: 'Open Sans', verdana, arial, sans-serif; font-size: 12px; fill: rgb(36, 36, 36); fill-opacity: 1; white-space: pre; opacity: 1;\" transform=\"translate(0,150.78)\">20</text></g><g class=\"y2tick\"><text text-anchor=\"end\" x=\"314.25000000000006\" y=\"4.199999999999999\" style=\"font-family: 'Open Sans', verdana, arial, sans-serif; font-size: 12px; fill: rgb(36, 36, 36); fill-opacity: 1; white-space: pre; opacity: 1;\" transform=\"translate(0,110.56)\">40</text></g><g class=\"y2tick\"><text text-anchor=\"end\" x=\"314.25000000000006\" y=\"4.199999999999999\" style=\"font-family: 'Open Sans', verdana, arial, sans-serif; font-size: 12px; fill: rgb(36, 36, 36); fill-opacity: 1; white-space: pre; opacity: 1;\" transform=\"translate(0,70.33)\">60</text></g><g class=\"y2tick\"><text text-anchor=\"end\" x=\"314.25000000000006\" y=\"4.199999999999999\" style=\"font-family: 'Open Sans', verdana, arial, sans-serif; font-size: 12px; fill: rgb(36, 36, 36); fill-opacity: 1; white-space: pre; opacity: 1;\" transform=\"translate(0,30.11)\">80</text></g></g><g class=\"overaxes-above\"/></g></g><g class=\"polarlayer\"/><g class=\"smithlayer\"/><g class=\"ternarylayer\"/><g class=\"geolayer\"/><g class=\"funnelarealayer\"/><g class=\"pielayer\"/><g class=\"iciclelayer\"/><g class=\"treemaplayer\"/><g class=\"sunburstlayer\"/><g class=\"glimages\"/><defs id=\"topdefs-897f54\"><g class=\"clips\"/></defs><g class=\"layer-above\"><g class=\"imagelayer\"/><g class=\"shapelayer\"/></g><g class=\"infolayer\"><g class=\"g-gtitle\"/><g class=\"g-xtitle\"><text class=\"xtitle\" x=\"165.675\" y=\"239.70625\" text-anchor=\"middle\" style=\"font-family: 'Open Sans', verdana, arial, sans-serif; font-size: 14px; fill: rgb(36, 36, 36); opacity: 1; font-weight: normal; white-space: pre;\">Size</text></g><g class=\"g-x2title\"><text class=\"x2title\" x=\"431.32500000000005\" y=\"239.70625\" text-anchor=\"middle\" style=\"font-family: 'Open Sans', verdana, arial, sans-serif; font-size: 14px; fill: rgb(36, 36, 36); opacity: 1; font-weight: normal; white-space: pre;\">Size</text></g><g class=\"g-ytitle\" transform=\"translate(4.9248046875,0)\"><text class=\"ytitle\" transform=\"rotate(-90,10.075000000000003,100.5)\" x=\"10.075000000000003\" y=\"100.5\" text-anchor=\"middle\" style=\"font-family: 'Open Sans', verdana, arial, sans-serif; font-size: 14px; fill: rgb(36, 36, 36); opacity: 1; font-weight: normal; white-space: pre;\">Height (cm)</text></g><g class=\"g-y2title\"/></g></svg>"
      ]
     },
     "metadata": {},
     "output_type": "display_data"
    }
   ],
   "source": [
    "fig = make_subplots(rows=1, cols=2)\n",
    "\n",
    "fig.add_trace(go.Box(x=dogs[\"size\"], y=dogs[\"height\"]), row=1, col=1)\n",
    "fig.add_trace(go.Violin(x=dogs[\"size\"], y=dogs[\"height\"]), row=1, col=2)\n",
    "\n",
    "fig.update_yaxes(range=[0, 90])\n",
    "fig.update_yaxes(title=\"Height (cm)\", row=1, col=1)\n",
    "fig.update_xaxes(\n",
    "    categoryarray=[\"small\", \"medium\", \"large\"], categoryorder=\"array\", \n",
    "    title = \"Size\"\n",
    ")\n",
    "fig.update_layout(showlegend=False, width=550, height=250)\n",
    "fig.show()"
   ]
  },
  {
   "cell_type": "markdown",
   "metadata": {},
   "source": [
    "The three box plots of height, one for each size of dog, make it clear that the size categorization is based on\n",
    "height because there is almost no overlap in height ranges for the groups. (This was\n",
    "not evident in the density curves due to the smoothing.) What we don't see in\n",
    "these box plots is the bimodality in the small and medium groups, but we can\n",
    "still see that the large dogs have a narrower spread compared to\n",
    "the other two groups."
   ]
  },
  {
   "cell_type": "markdown",
   "metadata": {},
   "source": [
    "Box plots (also known as box-and-whisker plots) give a visual summary\n",
    "of a few important statistics of a distribution.\n",
    "The box denotes the 25th percentile, median, and 75th percentile, the whiskers show the tails, and unusually large or small values are also plotted. \n",
    "Box plots cannot reveal as much shape as a histogram or density curve.\n",
    "They primarily show symmetry and skew, long/short tails, and unusually\n",
    "large/small values (also known as _outliers_).\n",
    "\n",
    "{numref}`Figure %s <box_plot>` is a visual explanation of the parts of a box\n",
    "plot. Asymmetry is evident from the median not being in the middle of the box, the sizes of the tails are shown by the length of the whiskers, and outliers are shown by the points that appear beyond the whiskers. The maximum is considered an outlier because it appears beyond the whisker on the right."
   ]
  },
  {
   "cell_type": "markdown",
   "metadata": {},
   "source": [
    "```{figure} figures/box_plot.svg\n",
    "---\n",
    "name: box_plot\n",
    "width: 450px\n",
    "---\n",
    "\n",
    "Diagram of a box plot with the summary statistics labeled\n",
    "```"
   ]
  },
  {
   "cell_type": "markdown",
   "metadata": {},
   "source": [
    "When we examine the relationship between two qualitative features, our focus is on proportions, as we explain next."
   ]
  },
  {
   "cell_type": "markdown",
   "metadata": {},
   "source": [
    "## Two Qualitative Features\n",
    "\n",
    "With two qualitative features, we often compare the distribution of one feature\n",
    "across subgroups defined by the other feature. In effect, we hold one feature constant\n",
    "and plot the distribution of the other one. To do this, we can use some of the same plots\n",
    "we used to display the distribution of one qualitative feature, such as a line plot or \n",
    "bar plot.\n",
    "As an example, let's examine the relationship between the suitability of a breed for children and the size of the breed. "
   ]
  },
  {
   "cell_type": "markdown",
   "metadata": {},
   "source": [
    "To examine the relationship between these two qualitative features, we calculate three sets of\n",
    "proportions (one each for low, medium, and high suitability). \n",
    "Within each suitability category, we find  the proportion of small, medium, and large dogs. \n",
    "These proportions are displayed in the following table. Notice that each column sums to 1 (equivalent to 100\\%):"
   ]
  },
  {
   "cell_type": "code",
   "execution_count": 11,
   "metadata": {
    "tags": [
     "hide-input"
    ]
   },
   "outputs": [],
   "source": [
    "def proportions(series):\n",
    "    return series / sum(series)\n",
    "\n",
    "counts = (dogs.groupby(['kids', 'size'])\n",
    " .size()\n",
    " .rename('count')\n",
    ")\n",
    "\n",
    "prop_table = (counts\n",
    " .unstack(level=1)\n",
    " .reindex(['high', 'medium', 'low'])\n",
    " .apply(proportions, axis=1)\n",
    ")\n",
    "\n",
    "prop_table_t= prop_table.transpose()"
   ]
  },
  {
   "cell_type": "code",
   "execution_count": 13,
   "metadata": {},
   "outputs": [
    {
     "data": {
      "text/html": [
       "<div>\n",
       "<style scoped>\n",
       "    .dataframe tbody tr th:only-of-type {\n",
       "        vertical-align: middle;\n",
       "    }\n",
       "\n",
       "    .dataframe tbody tr th {\n",
       "        vertical-align: top;\n",
       "    }\n",
       "\n",
       "    .dataframe thead th {\n",
       "        text-align: right;\n",
       "    }\n",
       "</style>\n",
       "<table border=\"1\" class=\"dataframe\">\n",
       "  <thead>\n",
       "    <tr style=\"text-align: right;\">\n",
       "      <th>kids</th>\n",
       "      <th>high</th>\n",
       "      <th>medium</th>\n",
       "      <th>low</th>\n",
       "    </tr>\n",
       "    <tr>\n",
       "      <th>size</th>\n",
       "      <th></th>\n",
       "      <th></th>\n",
       "      <th></th>\n",
       "    </tr>\n",
       "  </thead>\n",
       "  <tbody>\n",
       "    <tr>\n",
       "      <th>large</th>\n",
       "      <td>0.37</td>\n",
       "      <td>0.29</td>\n",
       "      <td>0.1</td>\n",
       "    </tr>\n",
       "    <tr>\n",
       "      <th>medium</th>\n",
       "      <td>0.36</td>\n",
       "      <td>0.34</td>\n",
       "      <td>0.2</td>\n",
       "    </tr>\n",
       "    <tr>\n",
       "      <th>small</th>\n",
       "      <td>0.27</td>\n",
       "      <td>0.37</td>\n",
       "      <td>0.7</td>\n",
       "    </tr>\n",
       "  </tbody>\n",
       "</table>\n",
       "</div>"
      ],
      "text/plain": [
       "kids    high  medium  low\n",
       "size                     \n",
       "large   0.37    0.29  0.1\n",
       "medium  0.36    0.34  0.2\n",
       "small   0.27    0.37  0.7"
      ]
     },
     "execution_count": 13,
     "metadata": {},
     "output_type": "execute_result"
    }
   ],
   "source": [
    "prop_table_t"
   ]
  },
  {
   "cell_type": "markdown",
   "metadata": {},
   "source": [
    "The line plot that follows provides a visualization of these proportions.\n",
    "There is one \"line\" (set of connected dots) for each suitability level.\n",
    "The connected dots give the breakdown of size within a suitability category.\n",
    "We see that breeds with low suitability for kids are primarily small:"
   ]
  },
  {
   "cell_type": "code",
   "execution_count": 13,
   "metadata": {
    "tags": []
   },
   "outputs": [
    {
     "data": {
      "application/vnd.plotly.v1+json": {
       "config": {
        "plotlyServerURL": "https://plot.ly"
       },
       "data": [
        {
         "hovertemplate": "kids=high<br>size=%{x}<br>value=%{y}<extra></extra>",
         "legendgroup": "high",
         "line": {
          "color": "#1F77B4",
          "dash": "solid"
         },
         "marker": {
          "symbol": "circle"
         },
         "mode": "markers+lines",
         "name": "high",
         "orientation": "v",
         "showlegend": true,
         "type": "scatter",
         "x": [
          "large",
          "medium",
          "small"
         ],
         "xaxis": "x",
         "y": [
          0.373134328358209,
          0.3582089552238806,
          0.26865671641791045
         ],
         "yaxis": "y"
        },
        {
         "hovertemplate": "kids=medium<br>size=%{x}<br>value=%{y}<extra></extra>",
         "legendgroup": "medium",
         "line": {
          "color": "#FF7F0E",
          "dash": "dot"
         },
         "marker": {
          "symbol": "circle"
         },
         "mode": "markers+lines",
         "name": "medium",
         "orientation": "v",
         "showlegend": true,
         "type": "scatter",
         "x": [
          "large",
          "medium",
          "small"
         ],
         "xaxis": "x",
         "y": [
          0.2857142857142857,
          0.34285714285714286,
          0.37142857142857144
         ],
         "yaxis": "y"
        },
        {
         "hovertemplate": "kids=low<br>size=%{x}<br>value=%{y}<extra></extra>",
         "legendgroup": "low",
         "line": {
          "color": "#2CA02C",
          "dash": "dash"
         },
         "marker": {
          "symbol": "circle"
         },
         "mode": "markers+lines",
         "name": "low",
         "orientation": "v",
         "showlegend": true,
         "type": "scatter",
         "x": [
          "large",
          "medium",
          "small"
         ],
         "xaxis": "x",
         "y": [
          0.1,
          0.2,
          0.7
         ],
         "yaxis": "y"
        }
       ],
       "layout": {
        "height": 250,
        "legend": {
         "title": {
          "text": "Suitability <br>for children"
         },
         "tracegroupgap": 0
        },
        "template": {
         "data": {
          "bar": [
           {
            "error_x": {
             "color": "rgb(36,36,36)"
            },
            "error_y": {
             "color": "rgb(36,36,36)"
            },
            "marker": {
             "line": {
              "color": "white",
              "width": 0.5
             },
             "pattern": {
              "fillmode": "overlay",
              "size": 10,
              "solidity": 0.2
             }
            },
            "type": "bar"
           }
          ],
          "barpolar": [
           {
            "marker": {
             "line": {
              "color": "white",
              "width": 0.5
             },
             "pattern": {
              "fillmode": "overlay",
              "size": 10,
              "solidity": 0.2
             }
            },
            "type": "barpolar"
           }
          ],
          "carpet": [
           {
            "aaxis": {
             "endlinecolor": "rgb(36,36,36)",
             "gridcolor": "white",
             "linecolor": "white",
             "minorgridcolor": "white",
             "startlinecolor": "rgb(36,36,36)"
            },
            "baxis": {
             "endlinecolor": "rgb(36,36,36)",
             "gridcolor": "white",
             "linecolor": "white",
             "minorgridcolor": "white",
             "startlinecolor": "rgb(36,36,36)"
            },
            "type": "carpet"
           }
          ],
          "choropleth": [
           {
            "colorbar": {
             "outlinewidth": 1,
             "tickcolor": "rgb(36,36,36)",
             "ticks": "outside"
            },
            "type": "choropleth"
           }
          ],
          "contour": [
           {
            "colorbar": {
             "outlinewidth": 1,
             "tickcolor": "rgb(36,36,36)",
             "ticks": "outside"
            },
            "colorscale": [
             [
              0,
              "#440154"
             ],
             [
              0.1111111111111111,
              "#482878"
             ],
             [
              0.2222222222222222,
              "#3e4989"
             ],
             [
              0.3333333333333333,
              "#31688e"
             ],
             [
              0.4444444444444444,
              "#26828e"
             ],
             [
              0.5555555555555556,
              "#1f9e89"
             ],
             [
              0.6666666666666666,
              "#35b779"
             ],
             [
              0.7777777777777778,
              "#6ece58"
             ],
             [
              0.8888888888888888,
              "#b5de2b"
             ],
             [
              1,
              "#fde725"
             ]
            ],
            "type": "contour"
           }
          ],
          "contourcarpet": [
           {
            "colorbar": {
             "outlinewidth": 1,
             "tickcolor": "rgb(36,36,36)",
             "ticks": "outside"
            },
            "type": "contourcarpet"
           }
          ],
          "heatmap": [
           {
            "colorbar": {
             "outlinewidth": 1,
             "tickcolor": "rgb(36,36,36)",
             "ticks": "outside"
            },
            "colorscale": [
             [
              0,
              "#440154"
             ],
             [
              0.1111111111111111,
              "#482878"
             ],
             [
              0.2222222222222222,
              "#3e4989"
             ],
             [
              0.3333333333333333,
              "#31688e"
             ],
             [
              0.4444444444444444,
              "#26828e"
             ],
             [
              0.5555555555555556,
              "#1f9e89"
             ],
             [
              0.6666666666666666,
              "#35b779"
             ],
             [
              0.7777777777777778,
              "#6ece58"
             ],
             [
              0.8888888888888888,
              "#b5de2b"
             ],
             [
              1,
              "#fde725"
             ]
            ],
            "type": "heatmap"
           }
          ],
          "heatmapgl": [
           {
            "colorbar": {
             "outlinewidth": 1,
             "tickcolor": "rgb(36,36,36)",
             "ticks": "outside"
            },
            "colorscale": [
             [
              0,
              "#440154"
             ],
             [
              0.1111111111111111,
              "#482878"
             ],
             [
              0.2222222222222222,
              "#3e4989"
             ],
             [
              0.3333333333333333,
              "#31688e"
             ],
             [
              0.4444444444444444,
              "#26828e"
             ],
             [
              0.5555555555555556,
              "#1f9e89"
             ],
             [
              0.6666666666666666,
              "#35b779"
             ],
             [
              0.7777777777777778,
              "#6ece58"
             ],
             [
              0.8888888888888888,
              "#b5de2b"
             ],
             [
              1,
              "#fde725"
             ]
            ],
            "type": "heatmapgl"
           }
          ],
          "histogram": [
           {
            "marker": {
             "line": {
              "color": "white",
              "width": 0.6
             }
            },
            "type": "histogram"
           }
          ],
          "histogram2d": [
           {
            "colorbar": {
             "outlinewidth": 1,
             "tickcolor": "rgb(36,36,36)",
             "ticks": "outside"
            },
            "colorscale": [
             [
              0,
              "#440154"
             ],
             [
              0.1111111111111111,
              "#482878"
             ],
             [
              0.2222222222222222,
              "#3e4989"
             ],
             [
              0.3333333333333333,
              "#31688e"
             ],
             [
              0.4444444444444444,
              "#26828e"
             ],
             [
              0.5555555555555556,
              "#1f9e89"
             ],
             [
              0.6666666666666666,
              "#35b779"
             ],
             [
              0.7777777777777778,
              "#6ece58"
             ],
             [
              0.8888888888888888,
              "#b5de2b"
             ],
             [
              1,
              "#fde725"
             ]
            ],
            "type": "histogram2d"
           }
          ],
          "histogram2dcontour": [
           {
            "colorbar": {
             "outlinewidth": 1,
             "tickcolor": "rgb(36,36,36)",
             "ticks": "outside"
            },
            "colorscale": [
             [
              0,
              "#440154"
             ],
             [
              0.1111111111111111,
              "#482878"
             ],
             [
              0.2222222222222222,
              "#3e4989"
             ],
             [
              0.3333333333333333,
              "#31688e"
             ],
             [
              0.4444444444444444,
              "#26828e"
             ],
             [
              0.5555555555555556,
              "#1f9e89"
             ],
             [
              0.6666666666666666,
              "#35b779"
             ],
             [
              0.7777777777777778,
              "#6ece58"
             ],
             [
              0.8888888888888888,
              "#b5de2b"
             ],
             [
              1,
              "#fde725"
             ]
            ],
            "type": "histogram2dcontour"
           }
          ],
          "mesh3d": [
           {
            "colorbar": {
             "outlinewidth": 1,
             "tickcolor": "rgb(36,36,36)",
             "ticks": "outside"
            },
            "type": "mesh3d"
           }
          ],
          "parcoords": [
           {
            "line": {
             "colorbar": {
              "outlinewidth": 1,
              "tickcolor": "rgb(36,36,36)",
              "ticks": "outside"
             }
            },
            "type": "parcoords"
           }
          ],
          "pie": [
           {
            "automargin": true,
            "type": "pie"
           }
          ],
          "scatter": [
           {
            "marker": {
             "colorbar": {
              "outlinewidth": 1,
              "tickcolor": "rgb(36,36,36)",
              "ticks": "outside"
             }
            },
            "type": "scatter"
           }
          ],
          "scatter3d": [
           {
            "line": {
             "colorbar": {
              "outlinewidth": 1,
              "tickcolor": "rgb(36,36,36)",
              "ticks": "outside"
             }
            },
            "marker": {
             "colorbar": {
              "outlinewidth": 1,
              "tickcolor": "rgb(36,36,36)",
              "ticks": "outside"
             }
            },
            "type": "scatter3d"
           }
          ],
          "scattercarpet": [
           {
            "marker": {
             "colorbar": {
              "outlinewidth": 1,
              "tickcolor": "rgb(36,36,36)",
              "ticks": "outside"
             }
            },
            "type": "scattercarpet"
           }
          ],
          "scattergeo": [
           {
            "marker": {
             "colorbar": {
              "outlinewidth": 1,
              "tickcolor": "rgb(36,36,36)",
              "ticks": "outside"
             }
            },
            "type": "scattergeo"
           }
          ],
          "scattergl": [
           {
            "marker": {
             "colorbar": {
              "outlinewidth": 1,
              "tickcolor": "rgb(36,36,36)",
              "ticks": "outside"
             }
            },
            "type": "scattergl"
           }
          ],
          "scattermapbox": [
           {
            "marker": {
             "colorbar": {
              "outlinewidth": 1,
              "tickcolor": "rgb(36,36,36)",
              "ticks": "outside"
             }
            },
            "type": "scattermapbox"
           }
          ],
          "scatterpolar": [
           {
            "marker": {
             "colorbar": {
              "outlinewidth": 1,
              "tickcolor": "rgb(36,36,36)",
              "ticks": "outside"
             }
            },
            "type": "scatterpolar"
           }
          ],
          "scatterpolargl": [
           {
            "marker": {
             "colorbar": {
              "outlinewidth": 1,
              "tickcolor": "rgb(36,36,36)",
              "ticks": "outside"
             }
            },
            "type": "scatterpolargl"
           }
          ],
          "scatterternary": [
           {
            "marker": {
             "colorbar": {
              "outlinewidth": 1,
              "tickcolor": "rgb(36,36,36)",
              "ticks": "outside"
             }
            },
            "type": "scatterternary"
           }
          ],
          "surface": [
           {
            "colorbar": {
             "outlinewidth": 1,
             "tickcolor": "rgb(36,36,36)",
             "ticks": "outside"
            },
            "colorscale": [
             [
              0,
              "#440154"
             ],
             [
              0.1111111111111111,
              "#482878"
             ],
             [
              0.2222222222222222,
              "#3e4989"
             ],
             [
              0.3333333333333333,
              "#31688e"
             ],
             [
              0.4444444444444444,
              "#26828e"
             ],
             [
              0.5555555555555556,
              "#1f9e89"
             ],
             [
              0.6666666666666666,
              "#35b779"
             ],
             [
              0.7777777777777778,
              "#6ece58"
             ],
             [
              0.8888888888888888,
              "#b5de2b"
             ],
             [
              1,
              "#fde725"
             ]
            ],
            "type": "surface"
           }
          ],
          "table": [
           {
            "cells": {
             "fill": {
              "color": "rgb(237,237,237)"
             },
             "line": {
              "color": "white"
             }
            },
            "header": {
             "fill": {
              "color": "rgb(217,217,217)"
             },
             "line": {
              "color": "white"
             }
            },
            "type": "table"
           }
          ]
         },
         "layout": {
          "annotationdefaults": {
           "arrowhead": 0,
           "arrowwidth": 1
          },
          "autosize": true,
          "autotypenumbers": "strict",
          "coloraxis": {
           "colorbar": {
            "outlinewidth": 1,
            "tickcolor": "rgb(36,36,36)",
            "ticks": "outside"
           }
          },
          "colorscale": {
           "diverging": [
            [
             0,
             "rgb(103,0,31)"
            ],
            [
             0.1,
             "rgb(178,24,43)"
            ],
            [
             0.2,
             "rgb(214,96,77)"
            ],
            [
             0.3,
             "rgb(244,165,130)"
            ],
            [
             0.4,
             "rgb(253,219,199)"
            ],
            [
             0.5,
             "rgb(247,247,247)"
            ],
            [
             0.6,
             "rgb(209,229,240)"
            ],
            [
             0.7,
             "rgb(146,197,222)"
            ],
            [
             0.8,
             "rgb(67,147,195)"
            ],
            [
             0.9,
             "rgb(33,102,172)"
            ],
            [
             1,
             "rgb(5,48,97)"
            ]
           ],
           "sequential": [
            [
             0,
             "#440154"
            ],
            [
             0.1111111111111111,
             "#482878"
            ],
            [
             0.2222222222222222,
             "#3e4989"
            ],
            [
             0.3333333333333333,
             "#31688e"
            ],
            [
             0.4444444444444444,
             "#26828e"
            ],
            [
             0.5555555555555556,
             "#1f9e89"
            ],
            [
             0.6666666666666666,
             "#35b779"
            ],
            [
             0.7777777777777778,
             "#6ece58"
            ],
            [
             0.8888888888888888,
             "#b5de2b"
            ],
            [
             1,
             "#fde725"
            ]
           ],
           "sequentialminus": [
            [
             0,
             "#440154"
            ],
            [
             0.1111111111111111,
             "#482878"
            ],
            [
             0.2222222222222222,
             "#3e4989"
            ],
            [
             0.3333333333333333,
             "#31688e"
            ],
            [
             0.4444444444444444,
             "#26828e"
            ],
            [
             0.5555555555555556,
             "#1f9e89"
            ],
            [
             0.6666666666666666,
             "#35b779"
            ],
            [
             0.7777777777777778,
             "#6ece58"
            ],
            [
             0.8888888888888888,
             "#b5de2b"
            ],
            [
             1,
             "#fde725"
            ]
           ]
          },
          "colorway": [
           "#1F77B4",
           "#FF7F0E",
           "#2CA02C",
           "#D62728",
           "#9467BD",
           "#8C564B",
           "#E377C2",
           "#7F7F7F",
           "#BCBD22",
           "#17BECF"
          ],
          "font": {
           "color": "rgb(36,36,36)"
          },
          "geo": {
           "bgcolor": "white",
           "lakecolor": "white",
           "landcolor": "white",
           "showlakes": true,
           "showland": true,
           "subunitcolor": "white"
          },
          "height": 250,
          "hoverlabel": {
           "align": "left"
          },
          "hovermode": "closest",
          "mapbox": {
           "style": "light"
          },
          "margin": {
           "b": 10,
           "l": 10,
           "r": 10,
           "t": 10
          },
          "paper_bgcolor": "white",
          "plot_bgcolor": "white",
          "polar": {
           "angularaxis": {
            "gridcolor": "rgb(232,232,232)",
            "linecolor": "rgb(36,36,36)",
            "showgrid": false,
            "showline": true,
            "ticks": "outside"
           },
           "bgcolor": "white",
           "radialaxis": {
            "gridcolor": "rgb(232,232,232)",
            "linecolor": "rgb(36,36,36)",
            "showgrid": false,
            "showline": true,
            "ticks": "outside"
           }
          },
          "scene": {
           "xaxis": {
            "backgroundcolor": "white",
            "gridcolor": "rgb(232,232,232)",
            "gridwidth": 2,
            "linecolor": "rgb(36,36,36)",
            "showbackground": true,
            "showgrid": false,
            "showline": true,
            "ticks": "outside",
            "zeroline": false,
            "zerolinecolor": "rgb(36,36,36)"
           },
           "yaxis": {
            "backgroundcolor": "white",
            "gridcolor": "rgb(232,232,232)",
            "gridwidth": 2,
            "linecolor": "rgb(36,36,36)",
            "showbackground": true,
            "showgrid": false,
            "showline": true,
            "ticks": "outside",
            "zeroline": false,
            "zerolinecolor": "rgb(36,36,36)"
           },
           "zaxis": {
            "backgroundcolor": "white",
            "gridcolor": "rgb(232,232,232)",
            "gridwidth": 2,
            "linecolor": "rgb(36,36,36)",
            "showbackground": true,
            "showgrid": false,
            "showline": true,
            "ticks": "outside",
            "zeroline": false,
            "zerolinecolor": "rgb(36,36,36)"
           }
          },
          "shapedefaults": {
           "fillcolor": "black",
           "line": {
            "width": 0
           },
           "opacity": 0.3
          },
          "ternary": {
           "aaxis": {
            "gridcolor": "rgb(232,232,232)",
            "linecolor": "rgb(36,36,36)",
            "showgrid": false,
            "showline": true,
            "ticks": "outside"
           },
           "baxis": {
            "gridcolor": "rgb(232,232,232)",
            "linecolor": "rgb(36,36,36)",
            "showgrid": false,
            "showline": true,
            "ticks": "outside"
           },
           "bgcolor": "white",
           "caxis": {
            "gridcolor": "rgb(232,232,232)",
            "linecolor": "rgb(36,36,36)",
            "showgrid": false,
            "showline": true,
            "ticks": "outside"
           }
          },
          "title": {
           "x": 0.5,
           "xanchor": "center"
          },
          "width": 350,
          "xaxis": {
           "automargin": true,
           "gridcolor": "rgb(232,232,232)",
           "linecolor": "rgb(36,36,36)",
           "showgrid": true,
           "showline": true,
           "ticks": "outside",
           "title": {
            "standoff": 15
           },
           "zeroline": false,
           "zerolinecolor": "rgb(36,36,36)"
          },
          "yaxis": {
           "automargin": true,
           "gridcolor": "rgb(232,232,232)",
           "linecolor": "rgb(36,36,36)",
           "showgrid": true,
           "showline": true,
           "ticks": "outside",
           "title": {
            "standoff": 15
           },
           "zeroline": false,
           "zerolinecolor": "rgb(36,36,36)"
          }
         }
        },
        "width": 500,
        "xaxis": {
         "anchor": "y",
         "autorange": true,
         "domain": [
          0,
          1
         ],
         "range": [
          -0.13980716253443526,
          2.139807162534435
         ],
         "title": {
          "text": "Size"
         },
         "type": "category"
        },
        "yaxis": {
         "anchor": "x",
         "autorange": true,
         "domain": [
          0,
          1
         ],
         "range": [
          0.05057915057915058,
          0.7494208494208494
         ],
         "title": {
          "text": "proportion"
         },
         "type": "linear"
        }
       }
      },
      "image/png": "[encoded data removed]",
      "image/svg+xml": [
       "<svg class=\"main-svg\" xmlns=\"http://www.w3.org/2000/svg\" xmlns:xlink=\"http://www.w3.org/1999/xlink\" width=\"500\" height=\"250\" style=\"\" viewBox=\"0 0 500 250\"><rect x=\"0\" y=\"0\" width=\"500\" height=\"250\" style=\"fill: rgb(255, 255, 255); fill-opacity: 1;\"/><defs id=\"defs-793341\"><g class=\"clips\"><clipPath id=\"clip793341xyplot\" class=\"plotclip\"><rect width=\"331\" height=\"181\"/></clipPath><clipPath class=\"axesclip\" id=\"clip793341x\"><rect x=\"60\" y=\"0\" width=\"331\" height=\"250\"/></clipPath><clipPath class=\"axesclip\" id=\"clip793341y\"><rect x=\"0\" y=\"10\" width=\"500\" height=\"181\"/></clipPath><clipPath class=\"axesclip\" id=\"clip793341xy\"><rect x=\"60\" y=\"10\" width=\"331\" height=\"181\"/></clipPath></g><g class=\"gradients\"/><g class=\"patterns\"/></defs><g class=\"bglayer\"/><g class=\"layer-below\"><g class=\"imagelayer\"/><g class=\"shapelayer\"/></g><g class=\"cartesianlayer\"><g class=\"subplot xy\"><g class=\"layer-subplot\"><g class=\"shapelayer\"/><g class=\"imagelayer\"/></g><g class=\"gridlayer\"><g class=\"x\"><path class=\"xgrid crisp\" transform=\"translate(80.3,0)\" d=\"M0,10v181\" style=\"stroke: rgb(232, 232, 232); stroke-opacity: 1; stroke-width: 1px;\"/><path class=\"xgrid crisp\" transform=\"translate(225.5,0)\" d=\"M0,10v181\" style=\"stroke: rgb(232, 232, 232); stroke-opacity: 1; stroke-width: 1px;\"/><path class=\"xgrid crisp\" transform=\"translate(370.7,0)\" d=\"M0,10v181\" style=\"stroke: rgb(232, 232, 232); stroke-opacity: 1; stroke-width: 1px;\"/></g><g class=\"y\"><path class=\"ygrid crisp\" transform=\"translate(0,152.3)\" d=\"M60,0h331\" style=\"stroke: rgb(232, 232, 232); stroke-opacity: 1; stroke-width: 1px;\"/><path class=\"ygrid crisp\" transform=\"translate(0,100.5)\" d=\"M60,0h331\" style=\"stroke: rgb(232, 232, 232); stroke-opacity: 1; stroke-width: 1px;\"/><path class=\"ygrid crisp\" transform=\"translate(0,48.7)\" d=\"M60,0h331\" style=\"stroke: rgb(232, 232, 232); stroke-opacity: 1; stroke-width: 1px;\"/></g></g><g class=\"zerolinelayer\"/><path class=\"xlines-below\"/><path class=\"ylines-below\"/><g class=\"overlines-below\"/><g class=\"xaxislayer-below\"/><g class=\"yaxislayer-below\"/><g class=\"overaxes-below\"/><g class=\"plot\" transform=\"translate(60,10)\" clip-path=\"url(#clip793341xyplot)\"><g class=\"scatterlayer mlayer\"><g class=\"trace scatter trace2ed84e\" style=\"stroke-miterlimit: 2; opacity: 1;\"><g class=\"fills\"/><g class=\"errorbars\"/><g class=\"lines\"><path class=\"js-line\" d=\"M20.3,97.46L165.5,101.32L310.7,124.52\" style=\"vector-effect: non-scaling-stroke; fill: none; stroke: rgb(31, 119, 180); stroke-opacity: 1; stroke-width: 2px; opacity: 1;\"/></g><g class=\"points\"><path class=\"point\" transform=\"translate(20.3,97.46)\" d=\"M3,0A3,3 0 1,1 0,-3A3,3 0 0,1 3,0Z\" style=\"opacity: 1; stroke-width: 0px; fill: rgb(31, 119, 180); fill-opacity: 1;\"/><path class=\"point\" transform=\"translate(165.5,101.32)\" d=\"M3,0A3,3 0 1,1 0,-3A3,3 0 0,1 3,0Z\" style=\"opacity: 1; stroke-width: 0px; fill: rgb(31, 119, 180); fill-opacity: 1;\"/><path class=\"point\" transform=\"translate(310.7,124.52)\" d=\"M3,0A3,3 0 1,1 0,-3A3,3 0 0,1 3,0Z\" style=\"opacity: 1; stroke-width: 0px; fill: rgb(31, 119, 180); fill-opacity: 1;\"/></g><g class=\"text\"/></g><g class=\"trace scatter trace5dc0e2\" style=\"stroke-miterlimit: 2; opacity: 1;\"><g class=\"fills\"/><g class=\"errorbars\"/><g class=\"lines\"><path class=\"js-line\" d=\"M20.3,120.1L165.5,105.3L310.7,97.9\" style=\"vector-effect: non-scaling-stroke; fill: none; stroke: rgb(255, 127, 14); stroke-opacity: 1; stroke-width: 2px; opacity: 1; stroke-dasharray: 3px, 3px;\"/></g><g class=\"points\"><path class=\"point\" transform=\"translate(20.3,120.1)\" d=\"M3,0A3,3 0 1,1 0,-3A3,3 0 0,1 3,0Z\" style=\"opacity: 1; stroke-width: 0px; fill: rgb(255, 127, 14); fill-opacity: 1;\"/><path class=\"point\" transform=\"translate(165.5,105.3)\" d=\"M3,0A3,3 0 1,1 0,-3A3,3 0 0,1 3,0Z\" style=\"opacity: 1; stroke-width: 0px; fill: rgb(255, 127, 14); fill-opacity: 1;\"/><path class=\"point\" transform=\"translate(310.7,97.9)\" d=\"M3,0A3,3 0 1,1 0,-3A3,3 0 0,1 3,0Z\" style=\"opacity: 1; stroke-width: 0px; fill: rgb(255, 127, 14); fill-opacity: 1;\"/></g><g class=\"text\"/></g><g class=\"trace scatter trace2b7d76\" style=\"stroke-miterlimit: 2; opacity: 1;\"><g class=\"fills\"/><g class=\"errorbars\"/><g class=\"lines\"><path class=\"js-line\" d=\"M20.3,168.2L165.5,142.3L310.7,12.8\" style=\"vector-effect: non-scaling-stroke; fill: none; stroke: rgb(44, 160, 44); stroke-opacity: 1; stroke-width: 2px; opacity: 1; stroke-dasharray: 9px, 9px;\"/></g><g class=\"points\"><path class=\"point\" transform=\"translate(20.3,168.2)\" d=\"M3,0A3,3 0 1,1 0,-3A3,3 0 0,1 3,0Z\" style=\"opacity: 1; stroke-width: 0px; fill: rgb(44, 160, 44); fill-opacity: 1;\"/><path class=\"point\" transform=\"translate(165.5,142.3)\" d=\"M3,0A3,3 0 1,1 0,-3A3,3 0 0,1 3,0Z\" style=\"opacity: 1; stroke-width: 0px; fill: rgb(44, 160, 44); fill-opacity: 1;\"/><path class=\"point\" transform=\"translate(310.7,12.8)\" d=\"M3,0A3,3 0 1,1 0,-3A3,3 0 0,1 3,0Z\" style=\"opacity: 1; stroke-width: 0px; fill: rgb(44, 160, 44); fill-opacity: 1;\"/></g><g class=\"text\"/></g></g></g><g class=\"overplot\"/><path class=\"xlines-above crisp\" d=\"M59,191.5H391\" style=\"fill: none; stroke-width: 1px; stroke: rgb(36, 36, 36); stroke-opacity: 1;\"/><path class=\"ylines-above crisp\" d=\"M59.5,10V191\" style=\"fill: none; stroke-width: 1px; stroke: rgb(36, 36, 36); stroke-opacity: 1;\"/><g class=\"overlines-above\"/><g class=\"xaxislayer-above\"><path class=\"xtick ticks crisp\" d=\"M0,192v5\" transform=\"translate(80.3,0)\" style=\"stroke: rgb(68, 68, 68); stroke-opacity: 1; stroke-width: 1px;\"/><path class=\"xtick ticks crisp\" d=\"M0,192v5\" transform=\"translate(225.5,0)\" style=\"stroke: rgb(68, 68, 68); stroke-opacity: 1; stroke-width: 1px;\"/><path class=\"xtick ticks crisp\" d=\"M0,192v5\" transform=\"translate(370.7,0)\" style=\"stroke: rgb(68, 68, 68); stroke-opacity: 1; stroke-width: 1px;\"/><g class=\"xtick\"><text text-anchor=\"middle\" x=\"0\" y=\"211.4\" transform=\"translate(80.3,0)\" style=\"font-family: 'Open Sans', verdana, arial, sans-serif; font-size: 12px; fill: rgb(36, 36, 36); fill-opacity: 1; white-space: pre; opacity: 1;\">large</text></g><g class=\"xtick\"><text text-anchor=\"middle\" x=\"0\" y=\"211.4\" transform=\"translate(225.5,0)\" style=\"font-family: 'Open Sans', verdana, arial, sans-serif; font-size: 12px; fill: rgb(36, 36, 36); fill-opacity: 1; white-space: pre; opacity: 1;\">medium</text></g><g class=\"xtick\"><text text-anchor=\"middle\" x=\"0\" y=\"211.4\" transform=\"translate(370.7,0)\" style=\"font-family: 'Open Sans', verdana, arial, sans-serif; font-size: 12px; fill: rgb(36, 36, 36); fill-opacity: 1; white-space: pre; opacity: 1;\">small</text></g></g><g class=\"yaxislayer-above\"><path class=\"ytick ticks crisp\" d=\"M59,0h-5\" transform=\"translate(0,152.3)\" style=\"stroke: rgb(68, 68, 68); stroke-opacity: 1; stroke-width: 1px;\"/><path class=\"ytick ticks crisp\" d=\"M59,0h-5\" transform=\"translate(0,100.5)\" style=\"stroke: rgb(68, 68, 68); stroke-opacity: 1; stroke-width: 1px;\"/><path class=\"ytick ticks crisp\" d=\"M59,0h-5\" transform=\"translate(0,48.7)\" style=\"stroke: rgb(68, 68, 68); stroke-opacity: 1; stroke-width: 1px;\"/><g class=\"ytick\"><text text-anchor=\"end\" x=\"51.6\" y=\"4.199999999999999\" transform=\"translate(0,152.3)\" style=\"font-family: 'Open Sans', verdana, arial, sans-serif; font-size: 12px; fill: rgb(36, 36, 36); fill-opacity: 1; white-space: pre; opacity: 1;\">0.2</text></g><g class=\"ytick\"><text text-anchor=\"end\" x=\"51.6\" y=\"4.199999999999999\" style=\"font-family: 'Open Sans', verdana, arial, sans-serif; font-size: 12px; fill: rgb(36, 36, 36); fill-opacity: 1; white-space: pre; opacity: 1;\" transform=\"translate(0,100.5)\">0.4</text></g><g class=\"ytick\"><text text-anchor=\"end\" x=\"51.6\" y=\"4.199999999999999\" style=\"font-family: 'Open Sans', verdana, arial, sans-serif; font-size: 12px; fill: rgb(36, 36, 36); fill-opacity: 1; white-space: pre; opacity: 1;\" transform=\"translate(0,48.7)\">0.6</text></g></g><g class=\"overaxes-above\"/></g></g><g class=\"polarlayer\"/><g class=\"smithlayer\"/><g class=\"ternarylayer\"/><g class=\"geolayer\"/><g class=\"funnelarealayer\"/><g class=\"pielayer\"/><g class=\"iciclelayer\"/><g class=\"treemaplayer\"/><g class=\"sunburstlayer\"/><g class=\"glimages\"/><defs id=\"topdefs-793341\"><g class=\"clips\"/><clipPath id=\"legend793341\"><rect width=\"92\" height=\"104\" x=\"0\" y=\"0\"/></clipPath></defs><g class=\"layer-above\"><g class=\"imagelayer\"/><g class=\"shapelayer\"/></g><g class=\"infolayer\"><g class=\"legend\" pointer-events=\"all\" transform=\"translate(397.62,10)\"><rect class=\"bg\" shape-rendering=\"crispEdges\" width=\"92\" height=\"104\" x=\"0\" y=\"0\" style=\"stroke: rgb(68, 68, 68); stroke-opacity: 1; fill: rgb(255, 255, 255); fill-opacity: 1; stroke-width: 0px;\"/><g class=\"scrollbox\" transform=\"\" clip-path=\"url(#legend793341)\"><text class=\"legendtitletext\" text-anchor=\"start\" x=\"2\" y=\"18.2\" style=\"font-family: 'Open Sans', verdana, arial, sans-serif; font-size: 14px; fill: rgb(36, 36, 36); fill-opacity: 1; white-space: pre;\"><tspan class=\"line\" dy=\"0em\" x=\"2\" y=\"18.2\">Suitability </tspan><tspan class=\"line\" dy=\"1.3em\" x=\"2\" y=\"18.2\">for children</tspan></text><g class=\"groups\" transform=\"\"><g class=\"traces\" transform=\"translate(0,50.9)\" style=\"opacity: 1;\"><text class=\"legendtext\" text-anchor=\"start\" x=\"40\" y=\"4.680000000000001\" style=\"font-family: 'Open Sans', verdana, arial, sans-serif; font-size: 12px; fill: rgb(36, 36, 36); fill-opacity: 1; white-space: pre;\">high</text><g class=\"layers\" style=\"opacity: 1;\"><g class=\"legendfill\"/><g class=\"legendlines\"><path class=\"js-line\" d=\"M5,0h30\" style=\"fill: none; stroke: rgb(31, 119, 180); stroke-opacity: 1; stroke-width: 2px;\"/></g><g class=\"legendsymbols\"><g class=\"legendpoints\"><path class=\"scatterpts\" transform=\"translate(20,0)\" d=\"M3,0A3,3 0 1,1 0,-3A3,3 0 0,1 3,0Z\" style=\"opacity: 1; stroke-width: 0px; fill: rgb(31, 119, 180); fill-opacity: 1;\"/></g></g></g><rect class=\"legendtoggle\" x=\"0\" y=\"-9.5\" width=\"86.8125\" height=\"19\" style=\"fill: rgb(0, 0, 0); fill-opacity: 0;\"/></g></g><g class=\"groups\" transform=\"\"><g class=\"traces\" transform=\"translate(0,69.9)\" style=\"opacity: 1;\"><text class=\"legendtext\" text-anchor=\"start\" x=\"40\" y=\"4.680000000000001\" style=\"font-family: 'Open Sans', verdana, arial, sans-serif; font-size: 12px; fill: rgb(36, 36, 36); fill-opacity: 1; white-space: pre;\">medium</text><g class=\"layers\" style=\"opacity: 1;\"><g class=\"legendfill\"/><g class=\"legendlines\"><path class=\"js-line\" d=\"M5,0h30\" style=\"fill: none; stroke: rgb(255, 127, 14); stroke-opacity: 1; stroke-dasharray: 3px, 3px; stroke-width: 2px;\"/></g><g class=\"legendsymbols\"><g class=\"legendpoints\"><path class=\"scatterpts\" transform=\"translate(20,0)\" d=\"M3,0A3,3 0 1,1 0,-3A3,3 0 0,1 3,0Z\" style=\"opacity: 1; stroke-width: 0px; fill: rgb(255, 127, 14); fill-opacity: 1;\"/></g></g></g><rect class=\"legendtoggle\" x=\"0\" y=\"-9.5\" width=\"86.8125\" height=\"19\" style=\"fill: rgb(0, 0, 0); fill-opacity: 0;\"/></g></g><g class=\"groups\" transform=\"\"><g class=\"traces\" transform=\"translate(0,88.9)\" style=\"opacity: 1;\"><text class=\"legendtext\" text-anchor=\"start\" x=\"40\" y=\"4.680000000000001\" style=\"font-family: 'Open Sans', verdana, arial, sans-serif; font-size: 12px; fill: rgb(36, 36, 36); fill-opacity: 1; white-space: pre;\">low</text><g class=\"layers\" style=\"opacity: 1;\"><g class=\"legendfill\"/><g class=\"legendlines\"><path class=\"js-line\" d=\"M5,0h30\" style=\"fill: none; stroke: rgb(44, 160, 44); stroke-opacity: 1; stroke-dasharray: 9px, 9px; stroke-width: 2px;\"/></g><g class=\"legendsymbols\"><g class=\"legendpoints\"><path class=\"scatterpts\" transform=\"translate(20,0)\" d=\"M3,0A3,3 0 1,1 0,-3A3,3 0 0,1 3,0Z\" style=\"opacity: 1; stroke-width: 0px; fill: rgb(44, 160, 44); fill-opacity: 1;\"/></g></g></g><rect class=\"legendtoggle\" x=\"0\" y=\"-9.5\" width=\"86.8125\" height=\"19\" style=\"fill: rgb(0, 0, 0); fill-opacity: 0;\"/></g></g></g><rect class=\"scrollbar\" rx=\"20\" ry=\"3\" width=\"0\" height=\"0\" x=\"0\" y=\"0\" style=\"fill: rgb(128, 139, 164); fill-opacity: 1;\"/></g><g class=\"g-gtitle\"/><g class=\"g-xtitle\"><text class=\"xtitle\" x=\"225.5\" y=\"239.70625\" text-anchor=\"middle\" style=\"font-family: 'Open Sans', verdana, arial, sans-serif; font-size: 14px; fill: rgb(36, 36, 36); opacity: 1; font-weight: normal; white-space: pre;\">Size</text></g><g class=\"g-ytitle\" transform=\"translate(5.1279296875,0)\"><text class=\"ytitle\" transform=\"rotate(-90,9.871875000000003,100.5)\" x=\"9.871875000000003\" y=\"100.5\" text-anchor=\"middle\" style=\"font-family: 'Open Sans', verdana, arial, sans-serif; font-size: 14px; fill: rgb(36, 36, 36); opacity: 1; font-weight: normal; white-space: pre;\">proportion</text></g></g></svg>"
      ]
     },
     "metadata": {},
     "output_type": "display_data"
    }
   ],
   "source": [
    "fig = px.line(prop_table_t, y=prop_table_t.columns, \n",
    "        x=prop_table_t.index, line_dash='kids',\n",
    "        markers=True, width=500, height=250)\n",
    "\n",
    "fig.update_layout(\n",
    "    yaxis_title=\"proportion\", xaxis_title=\"Size\",\n",
    "    legend_title=\"Suitability <br>for children\"\n",
    ")"
   ]
  },
  {
   "cell_type": "markdown",
   "metadata": {},
   "source": [
    "We can also present these proportions as a collection of side-by-side bar plots as shown here:"
   ]
  },
  {
   "cell_type": "code",
   "execution_count": 14,
   "metadata": {
    "tags": []
   },
   "outputs": [
    {
     "data": {
      "application/vnd.plotly.v1+json": {
       "config": {
        "plotlyServerURL": "https://plot.ly"
       },
       "data": [
        {
         "alignmentgroup": "True",
         "hovertemplate": "kids=high<br>size=%{x}<br>value=%{y}<extra></extra>",
         "legendgroup": "high",
         "marker": {
          "color": "#1F77B4",
          "pattern": {
           "shape": ""
          }
         },
         "name": "high",
         "offsetgroup": "high",
         "orientation": "v",
         "showlegend": true,
         "textposition": "auto",
         "type": "bar",
         "x": [
          "large",
          "medium",
          "small"
         ],
         "xaxis": "x",
         "y": [
          0.373134328358209,
          0.3582089552238806,
          0.26865671641791045
         ],
         "yaxis": "y"
        },
        {
         "alignmentgroup": "True",
         "hovertemplate": "kids=medium<br>size=%{x}<br>value=%{y}<extra></extra>",
         "legendgroup": "medium",
         "marker": {
          "color": "#FF7F0E",
          "pattern": {
           "shape": ""
          }
         },
         "name": "medium",
         "offsetgroup": "medium",
         "orientation": "v",
         "showlegend": true,
         "textposition": "auto",
         "type": "bar",
         "x": [
          "large",
          "medium",
          "small"
         ],
         "xaxis": "x",
         "y": [
          0.2857142857142857,
          0.34285714285714286,
          0.37142857142857144
         ],
         "yaxis": "y"
        },
        {
         "alignmentgroup": "True",
         "hovertemplate": "kids=low<br>size=%{x}<br>value=%{y}<extra></extra>",
         "legendgroup": "low",
         "marker": {
          "color": "#2CA02C",
          "pattern": {
           "shape": ""
          }
         },
         "name": "low",
         "offsetgroup": "low",
         "orientation": "v",
         "showlegend": true,
         "textposition": "auto",
         "type": "bar",
         "x": [
          "large",
          "medium",
          "small"
         ],
         "xaxis": "x",
         "y": [
          0.1,
          0.2,
          0.7
         ],
         "yaxis": "y"
        }
       ],
       "layout": {
        "barmode": "group",
        "height": 250,
        "legend": {
         "title": {
          "text": "Suitability <br>for children"
         },
         "tracegroupgap": 0
        },
        "template": {
         "data": {
          "bar": [
           {
            "error_x": {
             "color": "rgb(36,36,36)"
            },
            "error_y": {
             "color": "rgb(36,36,36)"
            },
            "marker": {
             "line": {
              "color": "white",
              "width": 0.5
             },
             "pattern": {
              "fillmode": "overlay",
              "size": 10,
              "solidity": 0.2
             }
            },
            "type": "bar"
           }
          ],
          "barpolar": [
           {
            "marker": {
             "line": {
              "color": "white",
              "width": 0.5
             },
             "pattern": {
              "fillmode": "overlay",
              "size": 10,
              "solidity": 0.2
             }
            },
            "type": "barpolar"
           }
          ],
          "carpet": [
           {
            "aaxis": {
             "endlinecolor": "rgb(36,36,36)",
             "gridcolor": "white",
             "linecolor": "white",
             "minorgridcolor": "white",
             "startlinecolor": "rgb(36,36,36)"
            },
            "baxis": {
             "endlinecolor": "rgb(36,36,36)",
             "gridcolor": "white",
             "linecolor": "white",
             "minorgridcolor": "white",
             "startlinecolor": "rgb(36,36,36)"
            },
            "type": "carpet"
           }
          ],
          "choropleth": [
           {
            "colorbar": {
             "outlinewidth": 1,
             "tickcolor": "rgb(36,36,36)",
             "ticks": "outside"
            },
            "type": "choropleth"
           }
          ],
          "contour": [
           {
            "colorbar": {
             "outlinewidth": 1,
             "tickcolor": "rgb(36,36,36)",
             "ticks": "outside"
            },
            "colorscale": [
             [
              0,
              "#440154"
             ],
             [
              0.1111111111111111,
              "#482878"
             ],
             [
              0.2222222222222222,
              "#3e4989"
             ],
             [
              0.3333333333333333,
              "#31688e"
             ],
             [
              0.4444444444444444,
              "#26828e"
             ],
             [
              0.5555555555555556,
              "#1f9e89"
             ],
             [
              0.6666666666666666,
              "#35b779"
             ],
             [
              0.7777777777777778,
              "#6ece58"
             ],
             [
              0.8888888888888888,
              "#b5de2b"
             ],
             [
              1,
              "#fde725"
             ]
            ],
            "type": "contour"
           }
          ],
          "contourcarpet": [
           {
            "colorbar": {
             "outlinewidth": 1,
             "tickcolor": "rgb(36,36,36)",
             "ticks": "outside"
            },
            "type": "contourcarpet"
           }
          ],
          "heatmap": [
           {
            "colorbar": {
             "outlinewidth": 1,
             "tickcolor": "rgb(36,36,36)",
             "ticks": "outside"
            },
            "colorscale": [
             [
              0,
              "#440154"
             ],
             [
              0.1111111111111111,
              "#482878"
             ],
             [
              0.2222222222222222,
              "#3e4989"
             ],
             [
              0.3333333333333333,
              "#31688e"
             ],
             [
              0.4444444444444444,
              "#26828e"
             ],
             [
              0.5555555555555556,
              "#1f9e89"
             ],
             [
              0.6666666666666666,
              "#35b779"
             ],
             [
              0.7777777777777778,
              "#6ece58"
             ],
             [
              0.8888888888888888,
              "#b5de2b"
             ],
             [
              1,
              "#fde725"
             ]
            ],
            "type": "heatmap"
           }
          ],
          "heatmapgl": [
           {
            "colorbar": {
             "outlinewidth": 1,
             "tickcolor": "rgb(36,36,36)",
             "ticks": "outside"
            },
            "colorscale": [
             [
              0,
              "#440154"
             ],
             [
              0.1111111111111111,
              "#482878"
             ],
             [
              0.2222222222222222,
              "#3e4989"
             ],
             [
              0.3333333333333333,
              "#31688e"
             ],
             [
              0.4444444444444444,
              "#26828e"
             ],
             [
              0.5555555555555556,
              "#1f9e89"
             ],
             [
              0.6666666666666666,
              "#35b779"
             ],
             [
              0.7777777777777778,
              "#6ece58"
             ],
             [
              0.8888888888888888,
              "#b5de2b"
             ],
             [
              1,
              "#fde725"
             ]
            ],
            "type": "heatmapgl"
           }
          ],
          "histogram": [
           {
            "marker": {
             "line": {
              "color": "white",
              "width": 0.6
             }
            },
            "type": "histogram"
           }
          ],
          "histogram2d": [
           {
            "colorbar": {
             "outlinewidth": 1,
             "tickcolor": "rgb(36,36,36)",
             "ticks": "outside"
            },
            "colorscale": [
             [
              0,
              "#440154"
             ],
             [
              0.1111111111111111,
              "#482878"
             ],
             [
              0.2222222222222222,
              "#3e4989"
             ],
             [
              0.3333333333333333,
              "#31688e"
             ],
             [
              0.4444444444444444,
              "#26828e"
             ],
             [
              0.5555555555555556,
              "#1f9e89"
             ],
             [
              0.6666666666666666,
              "#35b779"
             ],
             [
              0.7777777777777778,
              "#6ece58"
             ],
             [
              0.8888888888888888,
              "#b5de2b"
             ],
             [
              1,
              "#fde725"
             ]
            ],
            "type": "histogram2d"
           }
          ],
          "histogram2dcontour": [
           {
            "colorbar": {
             "outlinewidth": 1,
             "tickcolor": "rgb(36,36,36)",
             "ticks": "outside"
            },
            "colorscale": [
             [
              0,
              "#440154"
             ],
             [
              0.1111111111111111,
              "#482878"
             ],
             [
              0.2222222222222222,
              "#3e4989"
             ],
             [
              0.3333333333333333,
              "#31688e"
             ],
             [
              0.4444444444444444,
              "#26828e"
             ],
             [
              0.5555555555555556,
              "#1f9e89"
             ],
             [
              0.6666666666666666,
              "#35b779"
             ],
             [
              0.7777777777777778,
              "#6ece58"
             ],
             [
              0.8888888888888888,
              "#b5de2b"
             ],
             [
              1,
              "#fde725"
             ]
            ],
            "type": "histogram2dcontour"
           }
          ],
          "mesh3d": [
           {
            "colorbar": {
             "outlinewidth": 1,
             "tickcolor": "rgb(36,36,36)",
             "ticks": "outside"
            },
            "type": "mesh3d"
           }
          ],
          "parcoords": [
           {
            "line": {
             "colorbar": {
              "outlinewidth": 1,
              "tickcolor": "rgb(36,36,36)",
              "ticks": "outside"
             }
            },
            "type": "parcoords"
           }
          ],
          "pie": [
           {
            "automargin": true,
            "type": "pie"
           }
          ],
          "scatter": [
           {
            "marker": {
             "colorbar": {
              "outlinewidth": 1,
              "tickcolor": "rgb(36,36,36)",
              "ticks": "outside"
             }
            },
            "type": "scatter"
           }
          ],
          "scatter3d": [
           {
            "line": {
             "colorbar": {
              "outlinewidth": 1,
              "tickcolor": "rgb(36,36,36)",
              "ticks": "outside"
             }
            },
            "marker": {
             "colorbar": {
              "outlinewidth": 1,
              "tickcolor": "rgb(36,36,36)",
              "ticks": "outside"
             }
            },
            "type": "scatter3d"
           }
          ],
          "scattercarpet": [
           {
            "marker": {
             "colorbar": {
              "outlinewidth": 1,
              "tickcolor": "rgb(36,36,36)",
              "ticks": "outside"
             }
            },
            "type": "scattercarpet"
           }
          ],
          "scattergeo": [
           {
            "marker": {
             "colorbar": {
              "outlinewidth": 1,
              "tickcolor": "rgb(36,36,36)",
              "ticks": "outside"
             }
            },
            "type": "scattergeo"
           }
          ],
          "scattergl": [
           {
            "marker": {
             "colorbar": {
              "outlinewidth": 1,
              "tickcolor": "rgb(36,36,36)",
              "ticks": "outside"
             }
            },
            "type": "scattergl"
           }
          ],
          "scattermapbox": [
           {
            "marker": {
             "colorbar": {
              "outlinewidth": 1,
              "tickcolor": "rgb(36,36,36)",
              "ticks": "outside"
             }
            },
            "type": "scattermapbox"
           }
          ],
          "scatterpolar": [
           {
            "marker": {
             "colorbar": {
              "outlinewidth": 1,
              "tickcolor": "rgb(36,36,36)",
              "ticks": "outside"
             }
            },
            "type": "scatterpolar"
           }
          ],
          "scatterpolargl": [
           {
            "marker": {
             "colorbar": {
              "outlinewidth": 1,
              "tickcolor": "rgb(36,36,36)",
              "ticks": "outside"
             }
            },
            "type": "scatterpolargl"
           }
          ],
          "scatterternary": [
           {
            "marker": {
             "colorbar": {
              "outlinewidth": 1,
              "tickcolor": "rgb(36,36,36)",
              "ticks": "outside"
             }
            },
            "type": "scatterternary"
           }
          ],
          "surface": [
           {
            "colorbar": {
             "outlinewidth": 1,
             "tickcolor": "rgb(36,36,36)",
             "ticks": "outside"
            },
            "colorscale": [
             [
              0,
              "#440154"
             ],
             [
              0.1111111111111111,
              "#482878"
             ],
             [
              0.2222222222222222,
              "#3e4989"
             ],
             [
              0.3333333333333333,
              "#31688e"
             ],
             [
              0.4444444444444444,
              "#26828e"
             ],
             [
              0.5555555555555556,
              "#1f9e89"
             ],
             [
              0.6666666666666666,
              "#35b779"
             ],
             [
              0.7777777777777778,
              "#6ece58"
             ],
             [
              0.8888888888888888,
              "#b5de2b"
             ],
             [
              1,
              "#fde725"
             ]
            ],
            "type": "surface"
           }
          ],
          "table": [
           {
            "cells": {
             "fill": {
              "color": "rgb(237,237,237)"
             },
             "line": {
              "color": "white"
             }
            },
            "header": {
             "fill": {
              "color": "rgb(217,217,217)"
             },
             "line": {
              "color": "white"
             }
            },
            "type": "table"
           }
          ]
         },
         "layout": {
          "annotationdefaults": {
           "arrowhead": 0,
           "arrowwidth": 1
          },
          "autosize": true,
          "autotypenumbers": "strict",
          "coloraxis": {
           "colorbar": {
            "outlinewidth": 1,
            "tickcolor": "rgb(36,36,36)",
            "ticks": "outside"
           }
          },
          "colorscale": {
           "diverging": [
            [
             0,
             "rgb(103,0,31)"
            ],
            [
             0.1,
             "rgb(178,24,43)"
            ],
            [
             0.2,
             "rgb(214,96,77)"
            ],
            [
             0.3,
             "rgb(244,165,130)"
            ],
            [
             0.4,
             "rgb(253,219,199)"
            ],
            [
             0.5,
             "rgb(247,247,247)"
            ],
            [
             0.6,
             "rgb(209,229,240)"
            ],
            [
             0.7,
             "rgb(146,197,222)"
            ],
            [
             0.8,
             "rgb(67,147,195)"
            ],
            [
             0.9,
             "rgb(33,102,172)"
            ],
            [
             1,
             "rgb(5,48,97)"
            ]
           ],
           "sequential": [
            [
             0,
             "#440154"
            ],
            [
             0.1111111111111111,
             "#482878"
            ],
            [
             0.2222222222222222,
             "#3e4989"
            ],
            [
             0.3333333333333333,
             "#31688e"
            ],
            [
             0.4444444444444444,
             "#26828e"
            ],
            [
             0.5555555555555556,
             "#1f9e89"
            ],
            [
             0.6666666666666666,
             "#35b779"
            ],
            [
             0.7777777777777778,
             "#6ece58"
            ],
            [
             0.8888888888888888,
             "#b5de2b"
            ],
            [
             1,
             "#fde725"
            ]
           ],
           "sequentialminus": [
            [
             0,
             "#440154"
            ],
            [
             0.1111111111111111,
             "#482878"
            ],
            [
             0.2222222222222222,
             "#3e4989"
            ],
            [
             0.3333333333333333,
             "#31688e"
            ],
            [
             0.4444444444444444,
             "#26828e"
            ],
            [
             0.5555555555555556,
             "#1f9e89"
            ],
            [
             0.6666666666666666,
             "#35b779"
            ],
            [
             0.7777777777777778,
             "#6ece58"
            ],
            [
             0.8888888888888888,
             "#b5de2b"
            ],
            [
             1,
             "#fde725"
            ]
           ]
          },
          "colorway": [
           "#1F77B4",
           "#FF7F0E",
           "#2CA02C",
           "#D62728",
           "#9467BD",
           "#8C564B",
           "#E377C2",
           "#7F7F7F",
           "#BCBD22",
           "#17BECF"
          ],
          "font": {
           "color": "rgb(36,36,36)"
          },
          "geo": {
           "bgcolor": "white",
           "lakecolor": "white",
           "landcolor": "white",
           "showlakes": true,
           "showland": true,
           "subunitcolor": "white"
          },
          "height": 250,
          "hoverlabel": {
           "align": "left"
          },
          "hovermode": "closest",
          "mapbox": {
           "style": "light"
          },
          "margin": {
           "b": 10,
           "l": 10,
           "r": 10,
           "t": 10
          },
          "paper_bgcolor": "white",
          "plot_bgcolor": "white",
          "polar": {
           "angularaxis": {
            "gridcolor": "rgb(232,232,232)",
            "linecolor": "rgb(36,36,36)",
            "showgrid": false,
            "showline": true,
            "ticks": "outside"
           },
           "bgcolor": "white",
           "radialaxis": {
            "gridcolor": "rgb(232,232,232)",
            "linecolor": "rgb(36,36,36)",
            "showgrid": false,
            "showline": true,
            "ticks": "outside"
           }
          },
          "scene": {
           "xaxis": {
            "backgroundcolor": "white",
            "gridcolor": "rgb(232,232,232)",
            "gridwidth": 2,
            "linecolor": "rgb(36,36,36)",
            "showbackground": true,
            "showgrid": false,
            "showline": true,
            "ticks": "outside",
            "zeroline": false,
            "zerolinecolor": "rgb(36,36,36)"
           },
           "yaxis": {
            "backgroundcolor": "white",
            "gridcolor": "rgb(232,232,232)",
            "gridwidth": 2,
            "linecolor": "rgb(36,36,36)",
            "showbackground": true,
            "showgrid": false,
            "showline": true,
            "ticks": "outside",
            "zeroline": false,
            "zerolinecolor": "rgb(36,36,36)"
           },
           "zaxis": {
            "backgroundcolor": "white",
            "gridcolor": "rgb(232,232,232)",
            "gridwidth": 2,
            "linecolor": "rgb(36,36,36)",
            "showbackground": true,
            "showgrid": false,
            "showline": true,
            "ticks": "outside",
            "zeroline": false,
            "zerolinecolor": "rgb(36,36,36)"
           }
          },
          "shapedefaults": {
           "fillcolor": "black",
           "line": {
            "width": 0
           },
           "opacity": 0.3
          },
          "ternary": {
           "aaxis": {
            "gridcolor": "rgb(232,232,232)",
            "linecolor": "rgb(36,36,36)",
            "showgrid": false,
            "showline": true,
            "ticks": "outside"
           },
           "baxis": {
            "gridcolor": "rgb(232,232,232)",
            "linecolor": "rgb(36,36,36)",
            "showgrid": false,
            "showline": true,
            "ticks": "outside"
           },
           "bgcolor": "white",
           "caxis": {
            "gridcolor": "rgb(232,232,232)",
            "linecolor": "rgb(36,36,36)",
            "showgrid": false,
            "showline": true,
            "ticks": "outside"
           }
          },
          "title": {
           "x": 0.5,
           "xanchor": "center"
          },
          "width": 350,
          "xaxis": {
           "automargin": true,
           "gridcolor": "rgb(232,232,232)",
           "linecolor": "rgb(36,36,36)",
           "showgrid": true,
           "showline": true,
           "ticks": "outside",
           "title": {
            "standoff": 15
           },
           "zeroline": false,
           "zerolinecolor": "rgb(36,36,36)"
          },
          "yaxis": {
           "automargin": true,
           "gridcolor": "rgb(232,232,232)",
           "linecolor": "rgb(36,36,36)",
           "showgrid": true,
           "showline": true,
           "ticks": "outside",
           "title": {
            "standoff": 15
           },
           "zeroline": false,
           "zerolinecolor": "rgb(36,36,36)"
          }
         }
        },
        "width": 500,
        "xaxis": {
         "anchor": "y",
         "autorange": true,
         "domain": [
          0,
          1
         ],
         "range": [
          -0.5,
          2.5
         ],
         "title": {
          "text": "Size"
         },
         "type": "category"
        },
        "yaxis": {
         "anchor": "x",
         "autorange": true,
         "domain": [
          0,
          1
         ],
         "range": [
          0,
          0.7368421052631579
         ],
         "title": {
          "text": "proportion"
         },
         "type": "linear"
        }
       }
      },
      "image/png": "[encoded data removed]",
      "image/svg+xml": [
       "<svg class=\"main-svg\" xmlns=\"http://www.w3.org/2000/svg\" xmlns:xlink=\"http://www.w3.org/1999/xlink\" width=\"500\" height=\"250\" style=\"\" viewBox=\"0 0 500 250\"><rect x=\"0\" y=\"0\" width=\"500\" height=\"250\" style=\"fill: rgb(255, 255, 255); fill-opacity: 1;\"/><defs id=\"defs-96de5e\"><g class=\"clips\"><clipPath id=\"clip96de5exyplot\" class=\"plotclip\"><rect width=\"331\" height=\"181\"/></clipPath><clipPath class=\"axesclip\" id=\"clip96de5ex\"><rect x=\"60\" y=\"0\" width=\"331\" height=\"250\"/></clipPath><clipPath class=\"axesclip\" id=\"clip96de5ey\"><rect x=\"0\" y=\"10\" width=\"500\" height=\"181\"/></clipPath><clipPath class=\"axesclip\" id=\"clip96de5exy\"><rect x=\"60\" y=\"10\" width=\"331\" height=\"181\"/></clipPath></g><g class=\"gradients\"/><g class=\"patterns\"/></defs><g class=\"bglayer\"/><g class=\"layer-below\"><g class=\"imagelayer\"/><g class=\"shapelayer\"/></g><g class=\"cartesianlayer\"><g class=\"subplot xy\"><g class=\"layer-subplot\"><g class=\"shapelayer\"/><g class=\"imagelayer\"/></g><g class=\"gridlayer\"><g class=\"x\"><path class=\"xgrid crisp\" transform=\"translate(115.17,0)\" d=\"M0,10v181\" style=\"stroke: rgb(232, 232, 232); stroke-opacity: 1; stroke-width: 1px;\"/><path class=\"xgrid crisp\" transform=\"translate(225.5,0)\" d=\"M0,10v181\" style=\"stroke: rgb(232, 232, 232); stroke-opacity: 1; stroke-width: 1px;\"/><path class=\"xgrid crisp\" transform=\"translate(335.83,0)\" d=\"M0,10v181\" style=\"stroke: rgb(232, 232, 232); stroke-opacity: 1; stroke-width: 1px;\"/></g><g class=\"y\"><path class=\"ygrid crisp\" transform=\"translate(0,141.87)\" d=\"M60,0h331\" style=\"stroke: rgb(232, 232, 232); stroke-opacity: 1; stroke-width: 1px;\"/><path class=\"ygrid crisp\" transform=\"translate(0,92.74)\" d=\"M60,0h331\" style=\"stroke: rgb(232, 232, 232); stroke-opacity: 1; stroke-width: 1px;\"/><path class=\"ygrid crisp\" transform=\"translate(0,43.61)\" d=\"M60,0h331\" style=\"stroke: rgb(232, 232, 232); stroke-opacity: 1; stroke-width: 1px;\"/></g></g><g class=\"zerolinelayer\"/><path class=\"xlines-below\"/><path class=\"ylines-below\"/><g class=\"overlines-below\"/><g class=\"xaxislayer-below\"/><g class=\"yaxislayer-below\"/><g class=\"overaxes-below\"/><g class=\"plot\" transform=\"translate(60,10)\" clip-path=\"url(#clip96de5exyplot)\"><g class=\"barlayer mlayer\"><g class=\"trace bars\" style=\"opacity: 1;\"><g class=\"points\"><g class=\"point\"><path d=\"M11.03,181V89.34H40.46V181Z\" style=\"vector-effect: non-scaling-stroke; opacity: 1; stroke-width: 0.5px; fill: rgb(31, 119, 180); fill-opacity: 1; stroke: rgb(255, 255, 255); stroke-opacity: 1;\"/></g><g class=\"point\"><path d=\"M121.37,181V93.01H150.79V181Z\" style=\"vector-effect: non-scaling-stroke; opacity: 1; stroke-width: 0.5px; fill: rgb(31, 119, 180); fill-opacity: 1; stroke: rgb(255, 255, 255); stroke-opacity: 1;\"/></g><g class=\"point\"><path d=\"M231.7,181V115.01H261.12V181Z\" style=\"vector-effect: non-scaling-stroke; opacity: 1; stroke-width: 0.5px; fill: rgb(31, 119, 180); fill-opacity: 1; stroke: rgb(255, 255, 255); stroke-opacity: 1;\"/></g></g></g><g class=\"trace bars\" style=\"opacity: 1;\"><g class=\"points\"><g class=\"point\"><path d=\"M40.46,181V110.82H69.88V181Z\" style=\"vector-effect: non-scaling-stroke; opacity: 1; stroke-width: 0.5px; fill: rgb(255, 127, 14); fill-opacity: 1; stroke: rgb(255, 255, 255); stroke-opacity: 1;\"/></g><g class=\"point\"><path d=\"M150.79,181V96.78H180.21V181Z\" style=\"vector-effect: non-scaling-stroke; opacity: 1; stroke-width: 0.5px; fill: rgb(255, 127, 14); fill-opacity: 1; stroke: rgb(255, 255, 255); stroke-opacity: 1;\"/></g><g class=\"point\"><path d=\"M261.12,181V89.76H290.54V181Z\" style=\"vector-effect: non-scaling-stroke; opacity: 1; stroke-width: 0.5px; fill: rgb(255, 127, 14); fill-opacity: 1; stroke: rgb(255, 255, 255); stroke-opacity: 1;\"/></g></g></g><g class=\"trace bars\" style=\"opacity: 1;\"><g class=\"points\"><g class=\"point\"><path d=\"M69.88,181V156.44H99.3V181Z\" style=\"vector-effect: non-scaling-stroke; opacity: 1; stroke-width: 0.5px; fill: rgb(44, 160, 44); fill-opacity: 1; stroke: rgb(255, 255, 255); stroke-opacity: 1;\"/></g><g class=\"point\"><path d=\"M180.21,181V131.87H209.63V181Z\" style=\"vector-effect: non-scaling-stroke; opacity: 1; stroke-width: 0.5px; fill: rgb(44, 160, 44); fill-opacity: 1; stroke: rgb(255, 255, 255); stroke-opacity: 1;\"/></g><g class=\"point\"><path d=\"M290.54,181V9.05H319.97V181Z\" style=\"vector-effect: non-scaling-stroke; opacity: 1; stroke-width: 0.5px; fill: rgb(44, 160, 44); fill-opacity: 1; stroke: rgb(255, 255, 255); stroke-opacity: 1;\"/></g></g></g></g></g><g class=\"overplot\"/><path class=\"xlines-above crisp\" d=\"M59,191.5H391\" style=\"fill: none; stroke-width: 1px; stroke: rgb(36, 36, 36); stroke-opacity: 1;\"/><path class=\"ylines-above crisp\" d=\"M59.5,10V191\" style=\"fill: none; stroke-width: 1px; stroke: rgb(36, 36, 36); stroke-opacity: 1;\"/><g class=\"overlines-above\"/><g class=\"xaxislayer-above\"><path class=\"xtick ticks crisp\" d=\"M0,192v5\" transform=\"translate(115.17,0)\" style=\"stroke: rgb(68, 68, 68); stroke-opacity: 1; stroke-width: 1px;\"/><path class=\"xtick ticks crisp\" d=\"M0,192v5\" transform=\"translate(225.5,0)\" style=\"stroke: rgb(68, 68, 68); stroke-opacity: 1; stroke-width: 1px;\"/><path class=\"xtick ticks crisp\" d=\"M0,192v5\" transform=\"translate(335.83,0)\" style=\"stroke: rgb(68, 68, 68); stroke-opacity: 1; stroke-width: 1px;\"/><g class=\"xtick\"><text text-anchor=\"middle\" x=\"0\" y=\"211.4\" transform=\"translate(115.17,0)\" style=\"font-family: 'Open Sans', verdana, arial, sans-serif; font-size: 12px; fill: rgb(36, 36, 36); fill-opacity: 1; white-space: pre; opacity: 1;\">large</text></g><g class=\"xtick\"><text text-anchor=\"middle\" x=\"0\" y=\"211.4\" transform=\"translate(225.5,0)\" style=\"font-family: 'Open Sans', verdana, arial, sans-serif; font-size: 12px; fill: rgb(36, 36, 36); fill-opacity: 1; white-space: pre; opacity: 1;\">medium</text></g><g class=\"xtick\"><text text-anchor=\"middle\" x=\"0\" y=\"211.4\" transform=\"translate(335.83,0)\" style=\"font-family: 'Open Sans', verdana, arial, sans-serif; font-size: 12px; fill: rgb(36, 36, 36); fill-opacity: 1; white-space: pre; opacity: 1;\">small</text></g></g><g class=\"yaxislayer-above\"><path class=\"ytick ticks crisp\" d=\"M59,0h-5\" transform=\"translate(0,191)\" style=\"stroke: rgb(68, 68, 68); stroke-opacity: 1; stroke-width: 1px;\"/><path class=\"ytick ticks crisp\" d=\"M59,0h-5\" transform=\"translate(0,141.87)\" style=\"stroke: rgb(68, 68, 68); stroke-opacity: 1; stroke-width: 1px;\"/><path class=\"ytick ticks crisp\" d=\"M59,0h-5\" transform=\"translate(0,92.74)\" style=\"stroke: rgb(68, 68, 68); stroke-opacity: 1; stroke-width: 1px;\"/><path class=\"ytick ticks crisp\" d=\"M59,0h-5\" transform=\"translate(0,43.61)\" style=\"stroke: rgb(68, 68, 68); stroke-opacity: 1; stroke-width: 1px;\"/><g class=\"ytick\"><text text-anchor=\"end\" x=\"51.6\" y=\"4.199999999999999\" transform=\"translate(0,191)\" style=\"font-family: 'Open Sans', verdana, arial, sans-serif; font-size: 12px; fill: rgb(36, 36, 36); fill-opacity: 1; white-space: pre; opacity: 1;\">0</text></g><g class=\"ytick\"><text text-anchor=\"end\" x=\"51.6\" y=\"4.199999999999999\" style=\"font-family: 'Open Sans', verdana, arial, sans-serif; font-size: 12px; fill: rgb(36, 36, 36); fill-opacity: 1; white-space: pre; opacity: 1;\" transform=\"translate(0,141.87)\">0.2</text></g><g class=\"ytick\"><text text-anchor=\"end\" x=\"51.6\" y=\"4.199999999999999\" style=\"font-family: 'Open Sans', verdana, arial, sans-serif; font-size: 12px; fill: rgb(36, 36, 36); fill-opacity: 1; white-space: pre; opacity: 1;\" transform=\"translate(0,92.74)\">0.4</text></g><g class=\"ytick\"><text text-anchor=\"end\" x=\"51.6\" y=\"4.199999999999999\" style=\"font-family: 'Open Sans', verdana, arial, sans-serif; font-size: 12px; fill: rgb(36, 36, 36); fill-opacity: 1; white-space: pre; opacity: 1;\" transform=\"translate(0,43.61)\">0.6</text></g></g><g class=\"overaxes-above\"/></g></g><g class=\"polarlayer\"/><g class=\"smithlayer\"/><g class=\"ternarylayer\"/><g class=\"geolayer\"/><g class=\"funnelarealayer\"/><g class=\"pielayer\"/><g class=\"iciclelayer\"/><g class=\"treemaplayer\"/><g class=\"sunburstlayer\"/><g class=\"glimages\"/><defs id=\"topdefs-96de5e\"><g class=\"clips\"/><clipPath id=\"legend96de5e\"><rect width=\"92\" height=\"104\" x=\"0\" y=\"0\"/></clipPath></defs><g class=\"layer-above\"><g class=\"imagelayer\"/><g class=\"shapelayer\"/></g><g class=\"infolayer\"><g class=\"legend\" pointer-events=\"all\" transform=\"translate(397.62,10)\"><rect class=\"bg\" shape-rendering=\"crispEdges\" width=\"92\" height=\"104\" x=\"0\" y=\"0\" style=\"stroke: rgb(68, 68, 68); stroke-opacity: 1; fill: rgb(255, 255, 255); fill-opacity: 1; stroke-width: 0px;\"/><g class=\"scrollbox\" transform=\"\" clip-path=\"url(#legend96de5e)\"><text class=\"legendtitletext\" text-anchor=\"start\" x=\"2\" y=\"18.2\" style=\"font-family: 'Open Sans', verdana, arial, sans-serif; font-size: 14px; fill: rgb(36, 36, 36); fill-opacity: 1; white-space: pre;\"><tspan class=\"line\" dy=\"0em\" x=\"2\" y=\"18.2\">Suitability </tspan><tspan class=\"line\" dy=\"1.3em\" x=\"2\" y=\"18.2\">for children</tspan></text><g class=\"groups\" transform=\"\"><g class=\"traces\" transform=\"translate(0,50.9)\" style=\"opacity: 1;\"><text class=\"legendtext\" text-anchor=\"start\" x=\"40\" y=\"4.680000000000001\" style=\"font-family: 'Open Sans', verdana, arial, sans-serif; font-size: 12px; fill: rgb(36, 36, 36); fill-opacity: 1; white-space: pre;\">high</text><g class=\"layers\" style=\"opacity: 1;\"><g class=\"legendfill\"/><g class=\"legendlines\"/><g class=\"legendsymbols\"><g class=\"legendpoints\"><path class=\"legendundefined\" d=\"M6,6H-6V-6H6Z\" transform=\"translate(20,0)\" style=\"stroke-width: 0.5px; fill: rgb(31, 119, 180); fill-opacity: 1; stroke: rgb(255, 255, 255); stroke-opacity: 1;\"/></g></g></g><rect class=\"legendtoggle\" x=\"0\" y=\"-9.5\" width=\"86.8125\" height=\"19\" style=\"fill: rgb(0, 0, 0); fill-opacity: 0;\"/></g></g><g class=\"groups\" transform=\"\"><g class=\"traces\" transform=\"translate(0,69.9)\" style=\"opacity: 1;\"><text class=\"legendtext\" text-anchor=\"start\" x=\"40\" y=\"4.680000000000001\" style=\"font-family: 'Open Sans', verdana, arial, sans-serif; font-size: 12px; fill: rgb(36, 36, 36); fill-opacity: 1; white-space: pre;\">medium</text><g class=\"layers\" style=\"opacity: 1;\"><g class=\"legendfill\"/><g class=\"legendlines\"/><g class=\"legendsymbols\"><g class=\"legendpoints\"><path class=\"legendundefined\" d=\"M6,6H-6V-6H6Z\" transform=\"translate(20,0)\" style=\"stroke-width: 0.5px; fill: rgb(255, 127, 14); fill-opacity: 1; stroke: rgb(255, 255, 255); stroke-opacity: 1;\"/></g></g></g><rect class=\"legendtoggle\" x=\"0\" y=\"-9.5\" width=\"86.8125\" height=\"19\" style=\"fill: rgb(0, 0, 0); fill-opacity: 0;\"/></g></g><g class=\"groups\" transform=\"\"><g class=\"traces\" transform=\"translate(0,88.9)\" style=\"opacity: 1;\"><text class=\"legendtext\" text-anchor=\"start\" x=\"40\" y=\"4.680000000000001\" style=\"font-family: 'Open Sans', verdana, arial, sans-serif; font-size: 12px; fill: rgb(36, 36, 36); fill-opacity: 1; white-space: pre;\">low</text><g class=\"layers\" style=\"opacity: 1;\"><g class=\"legendfill\"/><g class=\"legendlines\"/><g class=\"legendsymbols\"><g class=\"legendpoints\"><path class=\"legendundefined\" d=\"M6,6H-6V-6H6Z\" transform=\"translate(20,0)\" style=\"stroke-width: 0.5px; fill: rgb(44, 160, 44); fill-opacity: 1; stroke: rgb(255, 255, 255); stroke-opacity: 1;\"/></g></g></g><rect class=\"legendtoggle\" x=\"0\" y=\"-9.5\" width=\"86.8125\" height=\"19\" style=\"fill: rgb(0, 0, 0); fill-opacity: 0;\"/></g></g></g><rect class=\"scrollbar\" rx=\"20\" ry=\"3\" width=\"0\" height=\"0\" x=\"0\" y=\"0\" style=\"fill: rgb(128, 139, 164); fill-opacity: 1;\"/></g><g class=\"g-gtitle\"/><g class=\"g-xtitle\"><text class=\"xtitle\" x=\"225.5\" y=\"239.70625\" text-anchor=\"middle\" style=\"font-family: 'Open Sans', verdana, arial, sans-serif; font-size: 14px; fill: rgb(36, 36, 36); opacity: 1; font-weight: normal; white-space: pre;\">Size</text></g><g class=\"g-ytitle\" transform=\"translate(5.1279296875,0)\"><text class=\"ytitle\" transform=\"rotate(-90,9.871875000000003,100.5)\" x=\"9.871875000000003\" y=\"100.5\" text-anchor=\"middle\" style=\"font-family: 'Open Sans', verdana, arial, sans-serif; font-size: 14px; fill: rgb(36, 36, 36); opacity: 1; font-weight: normal; white-space: pre;\">proportion</text></g></g></svg>"
      ]
     },
     "metadata": {},
     "output_type": "display_data"
    }
   ],
   "source": [
    "fig = px.bar(prop_table_t, y=prop_table_t.columns, x=prop_table_t.index,\n",
    "        barmode='group', width=500, height=250)\n",
    "\n",
    "fig.update_layout(\n",
    "    yaxis_title=\"proportion\", xaxis_title=\"Size\", \n",
    "    legend_title=\"Suitability <br>for children\"\n",
    ")"
   ]
  },
  {
   "cell_type": "markdown",
   "metadata": {},
   "source": [
    "So far, we've covered visualizations that incorporate one or two features.\n",
    "In the next section, we discuss visualizations that incorporate more than two features."
   ]
  },
  {
   "cell_type": "code",
   "execution_count": null,
   "metadata": {},
   "outputs": [],
   "source": []
  }
 ],
 "metadata": {
  "celltoolbar": "Tags",
  "kernelspec": {
   "display_name": "Python 3 (ipykernel)",
   "language": "python",
   "name": "python3"
  },
  "language_info": {
   "codemirror_mode": {
    "name": "ipython",
    "version": 3
   },
   "file_extension": ".py",
   "mimetype": "text/x-python",
   "name": "python",
   "nbconvert_exporter": "python",
   "pygments_lexer": "ipython3",
   "version": "3.10.12"
  }
 },
 "nbformat": 4,
 "nbformat_minor": 4
}
