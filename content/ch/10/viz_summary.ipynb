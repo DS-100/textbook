{
 "cells": [
  {
   "cell_type": "code",
   "execution_count": 1,
   "metadata": {
    "tags": [
     "remove-cell"
    ]
   },
   "outputs": [],
   "source": [
    "# Reference: https://jupyterbook.org/interactive/hiding.html\n",
    "# Use {hide, remove}-{input, output, cell} tags to hiding content\n",
    "\n",
    "import numpy as np\n",
    "import matplotlib.pyplot as plt\n",
    "import pandas as pd\n",
    "import seaborn as sns\n",
    "%matplotlib inline\n",
    "import ipywidgets as widgets\n",
    "from ipywidgets import interact, interactive, fixed, interact_manual\n",
    "from IPython.display import display, set_matplotlib_formats\n",
    "import myst_nb\n",
    "\n",
    "import plotly\n",
    "import plotly.graph_objects as go\n",
    "import plotly.express as px\n",
    "from plotly.subplots import make_subplots\n",
    "import plotly.io as pio\n",
    "pio.renderers.default = 'plotly_mimetype+svg'\n",
    "pio.templates['book'] = go.layout.Template(\n",
    "    layout=dict(\n",
    "        margin=dict(l=10, r=10, t=10, b=10),\n",
    "        autosize=True,\n",
    "        width=350, height=250,\n",
    "    )\n",
    ")\n",
    "pio.templates.default = 'seaborn+book'\n",
    "\n",
    "set_matplotlib_formats('svg')\n",
    "sns.set()\n",
    "np.set_printoptions(threshold=20, precision=2, suppress=True)\n",
    "pd.set_option('display.max_rows', 7)\n",
    "pd.set_option('display.max_columns', 8)\n",
    "pd.set_option('precision', 2)\n",
    "# This option stops scientific notation for pandas\n",
    "# pd.set_option('display.float_format', '{:.2f}'.format)\n",
    "\n",
    "def display_df(df, rows=pd.options.display.max_rows,\n",
    "               cols=pd.options.display.max_columns):\n",
    "    with pd.option_context('display.max_rows', rows,\n",
    "                           'display.max_columns', cols):\n",
    "        display(df)"
   ]
  },
  {
   "cell_type": "markdown",
   "metadata": {},
   "source": [
    "(ch:viz_summary)=\n",
    "# Summary\n"
   ]
  },
  {
   "cell_type": "markdown",
   "metadata": {},
   "source": [
    "Whenever we analyze a dataset, we use visualizations to uncover patterns\n",
    "in the data that are impossible to see otherwise.\n",
    "Data visualization is an iterative process.\n",
    "We create a plot, then decide whether to make adjustments or choose a new\n",
    "type of plot entirely.\n",
    "This chapter covered principles that we use to make these decisions.\n",
    "\n",
    "We started by covering principles of scale, and saw how adjusting the scale\n",
    "by changing or transforming plot axes can reveal hidden structure in the data.\n",
    "We then discussed smoothing and aggregating techniques that help us work with\n",
    "large datasets that would otherwise result in over-plotting.\n",
    "To facilitate meaningful comparisons, we talked about how to apply\n",
    "principles of perception, like aligning\n",
    "plot marks to make them easier to compare.\n",
    "Taking the data design into account lets us use domain knowledge to improve\n",
    "visualizations.\n",
    "And we saw how adding context to a plot helps future readers understand\n",
    "our analyses.\n",
    "Finally, we covered the basics of creating plots using the `plotly` Python\n",
    "package.\n",
    "\n",
    "After this chapter, you should be able to create a plot and understand\n",
    "what kinds of adjustments would make the plot more effective.\n",
    "We expect that you might also see examples of plots in the media that might\n",
    "need some of the techniques we discussed in this chapter.\n",
    "\n",
    "In the next chapter, we'll walk through an extended case study.\n",
    "It combines everything we've learned in the book so far, so we hope that you'll\n",
    "find yourself surprised by how much you can already do."
   ]
  }
 ],
 "metadata": {
  "kernelspec": {
   "display_name": "Python 3",
   "language": "python",
   "name": "python3"
  },
  "language_info": {
   "codemirror_mode": {
    "name": "ipython",
    "version": 3
   },
   "file_extension": ".py",
   "mimetype": "text/x-python",
   "name": "python",
   "nbconvert_exporter": "python",
   "pygments_lexer": "ipython3",
   "version": "3.9.4"
  }
 },
 "nbformat": 4,
 "nbformat_minor": 4
}
