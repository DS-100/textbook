{
 "cells": [
  {
   "cell_type": "code",
   "execution_count": null,
   "metadata": {
    "tags": [
     "remove-cell"
    ]
   },
   "outputs": [],
   "source": [
    "import sys\n",
    "import os\n",
    "if not any(path.endswith('textbook') for path in sys.path):\n",
    "    sys.path.append(os.path.abspath('../../..'))\n",
    "from textbook_utils import *"
   ]
  },
  {
   "cell_type": "code",
   "execution_count": null,
   "metadata": {
    "tags": [
     "remove-cell"
    ]
   },
   "outputs": [],
   "source": [
    "sfh_df = pd.read_csv('data/sfhousing.csv', error_bad_lines=False,\n",
    "                     usecols=['city','zip','street', 'price', 'br', 'lsqft', 'bsqft', 'date'])\n",
    "sfh_df[\"price\"] = pd.to_numeric(sfh_df[\"price\"], errors='coerce')\n",
    "sfh_df = sfh_df.dropna(subset=['price'])"
   ]
  },
  {
   "cell_type": "code",
   "execution_count": null,
   "metadata": {
    "tags": [
     "remove-cell"
    ]
   },
   "outputs": [],
   "source": [
    "date_format = '%Y-%m-%d'\n",
    "\n",
    "def parse_dates_and_years(df, column='date'):\n",
    "    dates = pd.to_datetime(df[column], format=date_format)\n",
    "    return df.assign(timestamp=dates)\n",
    "\n",
    "sfh_df = sfh_df.pipe(parse_dates_and_years)\n",
    "sfh_df = sfh_df.drop(['date'], axis=1)"
   ]
  },
  {
   "cell_type": "markdown",
   "metadata": {},
   "source": [
    "(sec:eda_example)=\n",
    "# Example: Sale Prices for Houses"
   ]
  },
  {
   "cell_type": "markdown",
   "metadata": {},
   "source": [
    "In this final section, we carry out an exploratory analysis using the questions in the previous\n",
    "section to direct our investigations. Although EDA typically begins in the data\n",
    "wrangling stage, for demonstration purposes the data we work here\n",
    "have already been partially cleaned so that we can focus on exploring\n",
    "the features of interest. Note also that we do not discuss creating the\n",
    "visualizations in much detail; that topic is covered in {numref}`Chapter %s <ch:viz>`."
   ]
  },
  {
   "cell_type": "markdown",
   "metadata": {},
   "source": [
    "First, we consider the scope (see {numref}`Chapter %s <ch:data_scope>`) and granularity {numref}`Chapter %s <ch:wrangling>` of the data.  "
   ]
  },
  {
   "cell_type": "markdown",
   "metadata": {},
   "source": [
    "These data were scraped from the San Francisco Chronicle (SFChron)\n",
    "Website[^SFChron]. They form a complete list of homes sold in the area from Apr 2003 to December 2008. \n",
    "Since we have no plans to generalize our findings beyond the time period when and the location where the data were collected, we are working with a census so the population matches the access frame and the sample consists of the entire population.\n",
    "\n",
    "[^SFChron]:The SFChron published weekly data on the sale of houses in the San\n",
    "Francisco Bay Area."
   ]
  },
  {
   "cell_type": "markdown",
   "metadata": {},
   "source": [
    "Each record represents a sale of a home in the SF Bay Area\n",
    "during the specified time period.  This means that if a home was sold\n",
    "twice during this time, then it will have two records in the table. And, if a\n",
    "home in the Bay Area was not up for sale during this time, then it will not appear in\n",
    "the dataset."
   ]
  },
  {
   "cell_type": "markdown",
   "metadata": {},
   "source": [
    "The data are in the data frame `sfh_df`."
   ]
  },
  {
   "cell_type": "code",
   "execution_count": null,
   "metadata": {},
   "outputs": [],
   "source": [
    "sfh_df"
   ]
  },
  {
   "cell_type": "markdown",
   "metadata": {},
   "source": [
    "The dataset does not have an accompanying codebook, but we\n",
    "can determine the features and their storage types by inspection."
   ]
  },
  {
   "cell_type": "code",
   "execution_count": null,
   "metadata": {},
   "outputs": [],
   "source": [
    "sfh_df.info()"
   ]
  },
  {
   "cell_type": "markdown",
   "metadata": {},
   "source": [
    "Based on the names of the fields, we expect the primary key to consist of some\n",
    "combination of city, zip, street address, and date.\n",
    "\n",
    "Sale price is our focus. So let's begin by exploring the distribution of sale price.\n",
    "To develop your intuition about distributions, make a guess about the shape of the distribution\n",
    "before you start reading the next section. Don't worry about the range of prices, just sketch the general shape."
   ]
  },
  {
   "cell_type": "markdown",
   "metadata": {},
   "source": [
    "## Understanding Price"
   ]
  },
  {
   "cell_type": "markdown",
   "metadata": {},
   "source": [
    "It seems like a good guess for the distribution of sale price is a highly skewed to the right distribution with a few very expensive houses. The summary statistics shown below confirm this skewness. "
   ]
  },
  {
   "cell_type": "code",
   "execution_count": null,
   "metadata": {
    "tags": [
     "remove-cell"
    ]
   },
   "outputs": [],
   "source": [
    "# This option stops scientific notation for pandas\n",
    "pd.set_option('display.float_format', '{:.2f}'.format)"
   ]
  },
  {
   "cell_type": "code",
   "execution_count": null,
   "metadata": {},
   "outputs": [],
   "source": [
    "percs = [0, 25, 50, 75, 100]\n",
    "prices = np.percentile(sfh_df['price'], percs, interpolation='lower')\n",
    "pd.DataFrame({'price': prices}, index=percs)"
   ]
  },
  {
   "cell_type": "markdown",
   "metadata": {},
   "source": [
    "The median is closer to the lower quartile than the upper quartile. \n",
    "Also the maximum is 40 times as large as the median!\n",
    "We might wonder whether that \\$20m sale price is simply an anomalous value or\n",
    "whether there are many houses that sold at such a high price. To find out, we can zoom in on\n",
    "the right tail of the distribution and compute a few high percentiles."
   ]
  },
  {
   "cell_type": "code",
   "execution_count": null,
   "metadata": {},
   "outputs": [],
   "source": [
    "percs = [95, 97, 98, 99, 99.5, 99.9]\n",
    "prices = np.percentile(sfh_df['price'], percs, interpolation='lower')\n",
    "pd.DataFrame({'price': prices}, index=percs)"
   ]
  },
  {
   "cell_type": "markdown",
   "metadata": {},
   "source": [
    "We see that $99.9\\%$ of the houses sold for under $\\$4M$ so the $\\$20M$ sale is indeed\n",
    "a rarity. Let's examine the histogram of sale prices below $\\$4M$ because \n",
    "fewer than 1 in 1,000 sales exceeded $\\$4M$. "
   ]
  },
  {
   "cell_type": "code",
   "execution_count": null,
   "metadata": {},
   "outputs": [],
   "source": [
    "sfh = sfh_df[sfh_df['price'] < 4_000_000]\n",
    "fig = px.histogram(sfh, \n",
    "                   x='price', width=400, height=250)\n",
    "\n",
    "fig.update_traces(xbins=dict( # bins used for histogram\n",
    "        start=0.0,\n",
    "        end=4_000_000,\n",
    "        size=100_000\n",
    "    ))\n",
    "\n",
    "fig.show()"
   ]
  },
  {
   "cell_type": "markdown",
   "metadata": {},
   "source": [
    "Even without the top 0.1%, the distribution remains highly skewed to the right, with a single mode around \\$500k.\n",
    "Let's plot the histogram of the log-transformed sale price. The logarithm transformation often does a good job at converting a right-skewed distribution into one that is more symmetric. "
   ]
  },
  {
   "cell_type": "code",
   "execution_count": null,
   "metadata": {},
   "outputs": [],
   "source": [
    "sfh = sfh.assign(log_price=np.log10(sfh['price']))\n",
    "fig = px.histogram(sfh, x='log_price', nbins=40,\n",
    "                   width=400, height=250)\n",
    "\n",
    "fig.show()"
   ]
  },
  {
   "cell_type": "markdown",
   "metadata": {},
   "source": [
    "We see that the distribution of log-transformed sale price is roughly symmetric. \n",
    "Now that we have an understanding of the distribution of sale price, let's\n",
    "consider the so-what questions posed in the previous section on EDA guidelines."
   ]
  },
  {
   "cell_type": "markdown",
   "metadata": {},
   "source": [
    "## What Next?\n",
    "\n",
    "We have a description of the shape of sale price, but we need to consider why the shape matters and\n",
    "look for subgroups of the data that might have different distributions.  "
   ]
  },
  {
   "cell_type": "markdown",
   "metadata": {},
   "source": [
    "Shape matters because models and statistics based on symmetric distributions tend to have more robust and stable properties\n",
    "than highly skewed distributions. (We address this issue more when we cover linear models in\n",
    "{numref}`Chapter %s <ch:linear>`). \n",
    "For this reason, we primarily work with the log-transformed sale price. \n",
    "And, we might also choose to limit our analysis to sale prices under \\$4m since the super-expensive houses may behave quite differently."
   ]
  },
  {
   "cell_type": "markdown",
   "metadata": {},
   "source": [
    "To address the considerations of subgroups and further comparisons of sale price, \n",
    "we look to the context. The housing market during this time rose rapidly in and then the bottom fell out of the market. \n",
    "So the distribution of sale price in, say, 2004, might be quite different\n",
    "than in 2008, right before the crash. To explore this notion further, we can examine\n",
    "the behavior of prices over time. Alternatively, we can fix time, and examine the\n",
    "relationships between price and the other features of interest. \n",
    "Both approaches are potentially worthwhile and we consider them both."
   ]
  },
  {
   "cell_type": "markdown",
   "metadata": {},
   "source": [
    "We begin with the approach of narrowing our focus. We do this by first limiting the data to\n",
    "sales made in one calendar year, 2004, so rising prices should have a limited\n",
    "impact on the distributions and relationships that we examine. And, to limit the\n",
    "influence of the very expensive and large houses, we also restrict ourselves to\n",
    "sales below \\$4m and houses smaller than 12,000 ft^2.  This subset  still\n",
    "contains large and expensive houses, but not outrageously so. Later, we\n",
    "further restrict our exploration to a few cities of interest."
   ]
  },
  {
   "cell_type": "code",
   "execution_count": null,
   "metadata": {},
   "outputs": [],
   "source": [
    "def subset(df):\n",
    "    return df.loc[(df['price'] < 4_000_000) &\n",
    "                  (df['bsqft'] < 12_000) & \n",
    "                  (df['timestamp'].dt.year == 2004)]\n",
    "\n",
    "\n",
    "sfh = sfh_df.pipe(subset)\n",
    "sfh"
   ]
  },
  {
   "cell_type": "markdown",
   "metadata": {},
   "source": [
    "\n",
    "For this subset, the shape of the distribution of sale price remains the\n",
    "same---price is still highly skewed to the right. We continue to work with\n",
    "this subset to address the question of whether there are any potentially important\n",
    "features to study along with price."
   ]
  },
  {
   "cell_type": "markdown",
   "metadata": {},
   "source": [
    "## Examining other features\n",
    "\n",
    "In addition to the date of the sale, which we identified earlier as features of interest, a few other features that might be important to our investigation are the size of the house, lot (or property)\n",
    "size, and number of bedrooms. We explore the distributions of these features\n",
    "and their relationship to sale price."
   ]
  },
  {
   "cell_type": "markdown",
   "metadata": {},
   "source": [
    "Let's begin with building and lot size.\n",
    "\n",
    "Since the size of the property is likely related to its price, it seems\n",
    "reasonable to guess that these features are also skewed to the right. The figure\n",
    "below shows the distribution of building size on the left and the log-transformed distribution on the right."
   ]
  },
  {
   "cell_type": "code",
   "execution_count": null,
   "metadata": {},
   "outputs": [],
   "source": [
    "sfh = sfh.assign(log_bsqft=np.log10(sfh['bsqft']))\n",
    "\n",
    "left = px.histogram(sfh, x='bsqft', histnorm='percent', nbins=60)\n",
    "right = px.histogram(sfh, x='log_bsqft', histnorm='percent', nbins=60)\n",
    "fig = left_right(left, right)"
   ]
  },
  {
   "cell_type": "code",
   "execution_count": null,
   "metadata": {
    "tags": [
     "remove-input"
    ]
   },
   "outputs": [],
   "source": [
    "fig.update_xaxes(title='Building size (ft^2)', row=1, col=1)\n",
    "fig.update_xaxes(title='Building size (ft^2, log10)', row=1, col=2)\n",
    "fig.update_yaxes(title=\"percent\", range=[0, 18], row=1, col=1)\n",
    "fig.update_yaxes(range=[0, 18], row=1, col=2)\n",
    "fig.update_layout(width=450, height=250)\n",
    "fig.show()"
   ]
  },
  {
   "cell_type": "markdown",
   "metadata": {},
   "source": [
    "The distribution is unimodal with a peak at about 1500 ft^2, and\n",
    "many houses are over 2,500 ft^2 in size. \n",
    "We have confirmed our intuition: the log-transformed building size is\n",
    "nearly symmetric, although it maintains a slight skew. The same is the case for\n",
    "the distribution of lot size.\n",
    "\n",
    "Given both house and lot size have skewed distributions, a scatter plot of the two should most likely be on log scale too. We compare the scatter plot with and without the log-transformation below. "
   ]
  },
  {
   "cell_type": "code",
   "execution_count": null,
   "metadata": {},
   "outputs": [],
   "source": [
    "sfh = sfh.assign(log_lsqft=np.log10(sfh['lsqft']))"
   ]
  },
  {
   "cell_type": "markdown",
   "metadata": {},
   "source": [
    "```{figure} figures/scatterPlot_price_bsqft.jpg\n",
    "---\n",
    "name: scatter-over-plot\n",
    "---\n",
    "\n",
    "```"
   ]
  },
  {
   "cell_type": "markdown",
   "metadata": {},
   "source": [
    "The scatter plot on the left is in the original\n",
    "units, which make it difficult to discern the relationship because most of the points are crowded into the bottom of the plotting region. \n",
    "On the other hand, the scatter plot on the right reveals a few interesting features:\n",
    "there is a horizontal line along the bottom of the scatter plot where it appears that many houses have the same lot size no matter the building size;\n",
    "and there appears to be a slight positive log-log linear association between lot and building size.\n",
    "\n",
    "\n",
    "Let's look at some lower quantiles of lot size to try and figure out this unusual value:"
   ]
  },
  {
   "cell_type": "code",
   "execution_count": null,
   "metadata": {},
   "outputs": [],
   "source": [
    "percs = [0.5, 1, 1.5, 2, 2.5, 3]\n",
    "lots = np.percentile(sfh['lsqft'].dropna(), percs, interpolation='lower')\n",
    "pd.DataFrame({'lot_size': lots}, index=percs)"
   ]
  },
  {
   "cell_type": "markdown",
   "metadata": {},
   "source": [
    "We found something interesting! About 2.5% of the houses have a lot size of 436\n",
    "ft^2. This is an avenue of investigation worth pursuing, which we make a note of.\n",
    "\n",
    "Another measure of house size is the number of bedrooms. Since this is a\n",
    "discrete quantitative variable, we can treat it as a qualitative feature and\n",
    "make a bar plot. "
   ]
  },
  {
   "cell_type": "markdown",
   "metadata": {},
   "source": [
    "Houses in the Bay Area tend to be on the smaller side so we venture to guess\n",
    "that the distribution will have a peak at three and skewed to the right with a\n",
    "few houses having 5 or 6 bedrooms."
   ]
  },
  {
   "cell_type": "code",
   "execution_count": null,
   "metadata": {},
   "outputs": [],
   "source": [
    "br_cat = sfh.groupby(by=[\"br\"]).size().reset_index(name=\"counts\")\n",
    "px.bar(br_cat, x=\"br\", y=\"counts\", width=350, height=250)"
   ]
  },
  {
   "cell_type": "markdown",
   "metadata": {},
   "source": [
    "The bar plot confirms that we generally had the right idea. However, we find that there are some houses with over 30 bedrooms! That's a bit hard to believe and points to a potential data quality problem. Since the records include the addresses of the houses, we can double check theses values on a real estate app. \n",
    "\n",
    "In the meantime, we can transform the number of bedrooms into an ordinal feature by\n",
    "reassigning all values larger than 8 to 8+, and recreate the bar plot for the\n",
    "transformed data. "
   ]
  },
  {
   "cell_type": "code",
   "execution_count": null,
   "metadata": {},
   "outputs": [],
   "source": [
    "eight_up = sfh.loc[sfh['br'] >= 8, 'br'].unique()\n",
    "sfh['new_br'] = sfh['br'].replace(eight_up, 8)\n",
    "\n",
    "br_cat = sfh.groupby(by='new_br').size().reset_index(name=\"counts\")\n",
    "px.bar(br_cat, x=\"new_br\", y=\"counts\", width=350, height=250)"
   ]
  },
  {
   "cell_type": "markdown",
   "metadata": {},
   "source": [
    "We can see that even lumping all of the houses with 8+ bedrooms together, they do not amount to many. The distribution is nearly symmetric with a peak at 3, nearly the same proportion of houses have\n",
    "2 or 4 bedrooms, and nearly the same have 1 or 5. There is asymmetry present\n",
    "with a few houses having 6 or more bedrooms."
   ]
  },
  {
   "cell_type": "markdown",
   "metadata": {},
   "source": [
    "Now, we examine the relationship between the number of bedrooms and sale price.\n",
    "Before we proceed, we save the transformations done thus far into `sfh`."
   ]
  },
  {
   "cell_type": "code",
   "execution_count": null,
   "metadata": {},
   "outputs": [],
   "source": [
    "def log_vals(df):\n",
    "    return df.assign(log_price=np.log10(df['price']),\n",
    "                     log_bsqft=np.log10(df['bsqft']),\n",
    "                     log_lsqft=np.log10(df['lsqft']))\n",
    "\n",
    "def clip_br(df):\n",
    "    eight_up = df.loc[df['br'] >= 8, 'br'].unique()\n",
    "    new_br = df['br'].replace(eight_up, 8)\n",
    "    return df.assign(new_br=new_br)\n",
    "\n",
    "sfh = (sfh_df\n",
    " .pipe(subset)\n",
    " .pipe(log_vals)\n",
    " .pipe(clip_br)\n",
    ")"
   ]
  },
  {
   "cell_type": "markdown",
   "metadata": {},
   "source": [
    "Now we're ready to consider relationships between the number of bedrooms and other variables."
   ]
  },
  {
   "cell_type": "markdown",
   "metadata": {},
   "source": [
    "## Delving Deeper into Relationships\n",
    "\n",
    "Let's begin by examining how the distribution of price changes for houses with\n",
    "different numbers of bedrooms. We can do this with box plots."
   ]
  },
  {
   "cell_type": "code",
   "execution_count": null,
   "metadata": {},
   "outputs": [],
   "source": [
    "px.box(sfh, x='new_br', y='price', log_y=True,\n",
    "      width=450, height=250)"
   ]
  },
  {
   "cell_type": "markdown",
   "metadata": {},
   "source": [
    "The median sale price increases with the number of bedrooms from 1\n",
    "to 5 bedrooms, but for the largest houses (those with 6, 7, and 8+ bedrooms),\n",
    "the distribution of log-transformed sale price appears nearly the same."
   ]
  },
  {
   "cell_type": "markdown",
   "metadata": {},
   "source": [
    "We would expect that houses with one bedroom are smaller than houses with, say,\n",
    "4 bedrooms. We might also guess that houses with 6 or more bedrooms are similar\n",
    "in size. To dive deeper, we consider a kind transformation that divides price by \n",
    "building size to give us the price per square foot. \n",
    "We want to check if this feature is constant for all houses; in other words, price\n",
    "is primarily determined by size. To do this we look at the relationship between size and\n",
    "price and price per square foot and size.\n",
    "\n",
    "We create two scatter plots. The one on the left shows price\n",
    "against the building size (both log-transformed), and the plot on the right\n",
    "shows price per square foot (log-transformed) against building size. In addition, each\n",
    "plot has an added smooth curve that reflects the local average price or price\n",
    "per square foot) for buildings of roughly the same size."
   ]
  },
  {
   "cell_type": "code",
   "execution_count": null,
   "metadata": {},
   "outputs": [],
   "source": [
    "sfh = sfh.assign(\n",
    "    ppsf=sfh['price'] / sfh['bsqft'], \n",
    "    log_ppsf=lambda df: np.log10(df['ppsf']))"
   ]
  },
  {
   "cell_type": "markdown",
   "metadata": {},
   "source": [
    "```{figure} figures/trendPPSF.jpg\n",
    "---\n",
    "name: trend-PPSF-plot\n",
    "---\n",
    "\n",
    "```"
   ]
  },
  {
   "cell_type": "markdown",
   "metadata": {},
   "source": [
    "The lefthand plot shows what we expect---larger houses cost more. We also see\n",
    "that there is roughly a log-log association between these features."
   ]
  },
  {
   "cell_type": "markdown",
   "metadata": {},
   "source": [
    "The righthand plot in this figure is interestingly nonlinear. We see that\n",
    "smaller houses cost more per square foot than larger ones, and the price per\n",
    "square foot for larger houses (houses with many bedrooms) is relatively flat.\n",
    "This feature appears to be quite interesting so we save the price per square foot transforms into `sfh`."
   ]
  },
  {
   "cell_type": "code",
   "execution_count": null,
   "metadata": {},
   "outputs": [],
   "source": [
    "def compute_ppsf(df):\n",
    "    return df.assign(\n",
    "    ppsf=df['price'] / df['bsqft'], \n",
    "    log_ppsf=lambda df: np.log10(df['ppsf']))\n",
    "\n",
    "sfh = (sfh_df\n",
    " .pipe(subset)\n",
    " .pipe(log_vals)\n",
    " .pipe(clip_br)\n",
    " .pipe(compute_ppsf)\n",
    ")"
   ]
  },
  {
   "cell_type": "markdown",
   "metadata": {},
   "source": [
    "So far we haven't considered the relationship between prices and location. There are house\n",
    "sales from over 150 different cities in this dataset. Some cities have a\n",
    "handful of sales and others have thousands. We continue our narrowing down of the data\n",
    "and examine relationships for a few cities next."
   ]
  },
  {
   "cell_type": "markdown",
   "metadata": {},
   "source": [
    "## Fixing Time and Location\n",
    "\n",
    "One factor to consider is location. You may have heard the expression:\n",
    "There are three things that matter in real estate: *location, location, location.*\n",
    "Comparing price across cities might bring added value to our investigation.\n",
    "\n",
    "We examine data for some cities in the East Bay: Richmond, El Cerrito, Albany,\n",
    "Berkeley, Walnut Creek, Lamorinda (which is a combination of Lafayette, Moraga,\n",
    "and Orinda, three neighboring bedroom communities), and Piedmont."
   ]
  },
  {
   "cell_type": "code",
   "execution_count": null,
   "metadata": {
    "tags": [
     "remove-cell"
    ]
   },
   "outputs": [],
   "source": [
    "def make_lamorinda(df):\n",
    "    return df.replace({\n",
    "        'city': {\n",
    "            'Lafayette': 'Lamorinda',\n",
    "            'Moraga': 'Lamorinda',\n",
    "            'Orinda': 'Lamorinda',\n",
    "        }\n",
    "    })\n",
    "\n",
    "sfh = (sfh_df\n",
    " .pipe(subset)\n",
    " .pipe(log_vals)\n",
    " .pipe(clip_br)\n",
    " .pipe(compute_ppsf)\n",
    " .pipe(make_lamorinda)\n",
    ")"
   ]
  },
  {
   "cell_type": "markdown",
   "metadata": {},
   "source": [
    "Let's begin by comparing the distribution of sale price for these cities. "
   ]
  },
  {
   "cell_type": "code",
   "execution_count": null,
   "metadata": {},
   "outputs": [],
   "source": [
    "cities = ['Richmond', 'El Cerrito', 'Albany', 'Berkeley',\n",
    "          'Walnut Creek', 'Lamorinda', 'Piedmont']\n",
    "\n",
    "px.box(sfh.query('city in @cities'),\n",
    "        x='city', y='price', log_y=True,\n",
    "       width=450, height=250)"
   ]
  },
  {
   "cell_type": "markdown",
   "metadata": {},
   "source": [
    "The box plots show that Lamorinda and Piedmont tend to have more expensive homes and Richmond has the least\n",
    "expensive, but there is overlap in sale price for all areas.\n"
   ]
  },
  {
   "cell_type": "markdown",
   "metadata": {},
   "source": [
    "Next, we examine the relationship between price per square foot and house size more closely with a scatter plot, one for each city."
   ]
  },
  {
   "cell_type": "code",
   "execution_count": null,
   "metadata": {},
   "outputs": [],
   "source": [
    "four_cities = ['Berkeley', 'Lamorinda', 'Piedmont', 'Richmond']\n",
    "fig = px.scatter(sfh.query('city in @four_cities'),\n",
    "           x='bsqft', y='log_ppsf', facet_col='city', facet_col_wrap=2,\n",
    "           trendline='ols', trendline_color_override=\"black\"\n",
    "           )\n",
    "fig.update_layout(xaxis_range=[0,5500], \n",
    "                  yaxis_range=[1.5, 3.5], width=450, height=400)\n",
    "fig.show()"
   ]
  },
  {
   "cell_type": "markdown",
   "metadata": {},
   "source": [
    "The relationship between price per square foot and building size is roughly\n",
    "log-linear with a negative association for each of the four locations. While,\n",
    "not parallel, it does appear that there is a \"location\" boost for houses,\n",
    "regardless of size, where, say, a house in Berkeley costs about \\$250 more per\n",
    "square foot than a house in Richmond.  We also see that Piedmont and Lamorinda\n",
    "are more expensive cities, and in both cities, there is not the same reduction\n",
    "in price per square foot for larger houses in comparison to smaller ones."
   ]
  },
  {
   "cell_type": "markdown",
   "metadata": {},
   "source": [
    "In EDA, we often revisit earlier plots to check whether new findings add\n",
    "insights to previous visualization. It is important to continually take stock of our findings and use them to guide us in further explorations. Let's summarize our findings from our EDA. "
   ]
  },
  {
   "cell_type": "markdown",
   "metadata": {},
   "source": [
    "## EDA discoveries\n",
    "\n",
    "Our EDA has uncovered several interesting phenomenon. Briefly, some of the\n",
    "most notable are:\n",
    "\n",
    "- Sale price and building size are highly skewed to the right with one mode.\n",
    "- Price per square foot decreases nonlinearly with building size, with smaller\n",
    "  houses costing more per square foot than larger houses, and the price per\n",
    "  square foot being roughly constant for houses with three or more bedrooms.\n",
    "- More desirable locations add a bump in sale price that is roughly the same\n",
    "  size for houses of different sizes."
   ]
  },
  {
   "cell_type": "markdown",
   "metadata": {},
   "source": [
    "There are many additional explorations we can (and should) perform, and there are several checks that we should make. These include: investigating the 436 value for lot size and crosschecking unusual houses,\n",
    "like the 30 bedroom house and the $20m house, with online real estate apps.\n",
    "\n",
    "We narrowed our investigation down to one year and later to a few cities. This narrowing helped us control for features that might interfere with simpler relationships. For example, since the data were collected over several years, the date of sale may confound the relationship between sale price and number of bedrooms. At other times, we want to consider the effect of time on prices.\n",
    "To examine price changes over time we often make line plots, and we adjust for inflation. We revisit these data in {numref}`Chapter %s <ch:viz>` when we consider data scope and look more closely at trends in time.\n",
    "  \n",
    "Despite being brief, this section conveys the basic approach of\n",
    "EDA in action. For an extended case study on a different dataset, see\n",
    "{numref}`Chapter %s <ch:pa>`."
   ]
  }
 ],
 "metadata": {
  "celltoolbar": "Tags",
  "kernelspec": {
   "display_name": "Python 3",
   "language": "python",
   "name": "python3"
  },
  "language_info": {
   "codemirror_mode": {
    "name": "ipython",
    "version": 3
   },
   "file_extension": ".py",
   "mimetype": "text/x-python",
   "name": "python",
   "nbconvert_exporter": "python",
   "pygments_lexer": "ipython3",
   "version": "3.9.4"
  }
 },
 "nbformat": 4,
 "nbformat_minor": 4
}
