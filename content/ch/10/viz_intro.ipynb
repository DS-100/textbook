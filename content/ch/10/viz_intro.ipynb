{
 "cells": [
  {
   "cell_type": "code",
   "execution_count": 2,
   "metadata": {
    "tags": [
     "remove-cell"
    ]
   },
   "outputs": [],
   "source": [
    "# Reference: https://jupyterbook.org/interactive/hiding.html\n",
    "# Use {hide, remove}-{input, output, cell} tags to hiding content\n",
    "\n",
    "import numpy as np\n",
    "import matplotlib.pyplot as plt\n",
    "import pandas as pd\n",
    "import seaborn as sns\n",
    "%matplotlib inline\n",
    "import ipywidgets as widgets\n",
    "from ipywidgets import interact, interactive, fixed, interact_manual\n",
    "from IPython.display import display\n",
    "import myst_nb\n",
    "\n",
    "sns.set()\n",
    "sns.set_context('talk')\n",
    "np.set_printoptions(threshold=20, precision=2, suppress=True)\n",
    "pd.set_option('display.max_rows', 7)\n",
    "pd.set_option('display.max_columns', 8)\n",
    "pd.set_option('precision', 2)\n",
    "# This option stops scientific notation for pandas\n",
    "# pd.set_option('display.float_format', '{:.2f}'.format)\n",
    "\n",
    "def display_df(df, rows=pd.options.display.max_rows,\n",
    "               cols=pd.options.display.max_columns):\n",
    "    with pd.option_context('display.max_rows', rows,\n",
    "                           'display.max_columns', cols):\n",
    "        display(df)"
   ]
  },
  {
   "cell_type": "markdown",
   "metadata": {},
   "source": [
    "(ch:viz)=\n",
    "# Data Visualization\n",
    "\n",
    "A well-known scientist once said:\n",
    "\n",
    "> There is a magic in graphs. The profile of a curve reveals in a ﬂash a whole\n",
    "> situation — the life history of an epidemic, a panic, or an era of\n",
    "> prosperity. The curve informs the mind, awakens the imagination, convinces.\n",
    "> {cite}`brintonGraphic1939`.\n",
    "\n",
    "As data scientists, we create data visualizations in order to understand our\n",
    "data and explain our analyses to other people. Every plot has a message. And\n",
    "it's our job to use plots to communicate this message as clearly as\n",
    "possible.\n",
    "\n",
    "In the first half of this chapter, we dive into creating plots in Python using\n",
    "`seaborn` and `matplotlib`, two popular packages for plotting in\n",
    "Python. While these packages make it easy to create plots, we'll see that \n",
    "these plots often need adjustments to be useful.\n",
    "\n",
    "In the second half of this chapter, we'll discuss principles of effective data\n",
    "visualizations. We specifically talk about how to: choose scales for axes,\n",
    "handle large amounts of data with smoothing and aggregation, facilitate\n",
    "meaningful comparisons, incorporate the study design, and add contextual\n",
    "information. Each section also contains with code that implements\n",
    "these principles using Python.\n",
    "\n",
    "The sequence of topics in this chapter is designed to mimic real-world\n",
    "practice. During an analysis, we often want to create basic plots as quickly as\n",
    "possible while exploring their data. Here, we can use the simple default plots\n",
    "that `seaborn` and `matplotlib` implement. After we decide on what analysis\n",
    "to do, we can then fine-tune the plots. In this step, we'll apply principles of\n",
    "visualization to make our plots useful for a broad audience."
   ]
  }
 ],
 "metadata": {
  "kernelspec": {
   "display_name": "Python 3",
   "language": "python",
   "name": "python3"
  }
 },
 "nbformat": 4,
 "nbformat_minor": 4
}
