{
 "cells": [
  {
   "cell_type": "code",
   "execution_count": 2,
   "metadata": {
    "tags": [
     "remove-cell"
    ]
   },
   "outputs": [],
   "source": [
    "# Reference: https://jupyterbook.org/interactive/hiding.html\n",
    "# Use {hide, remove}-{input, output, cell} tags to hiding content\n",
    "\n",
    "import numpy as np\n",
    "import matplotlib.pyplot as plt\n",
    "import pandas as pd\n",
    "import seaborn as sns\n",
    "%matplotlib inline\n",
    "import ipywidgets as widgets\n",
    "from ipywidgets import interact, interactive, fixed, interact_manual\n",
    "from IPython.display import display\n",
    "import myst_nb\n",
    "\n",
    "sns.set()\n",
    "sns.set_context('talk')\n",
    "np.set_printoptions(threshold=20, precision=2, suppress=True)\n",
    "pd.set_option('display.max_rows', 7)\n",
    "pd.set_option('display.max_columns', 8)\n",
    "pd.set_option('precision', 2)\n",
    "# This option stops scientific notation for pandas\n",
    "# pd.set_option('display.float_format', '{:.2f}'.format)\n",
    "\n",
    "def display_df(df, rows=pd.options.display.max_rows,\n",
    "               cols=pd.options.display.max_columns):\n",
    "    with pd.option_context('display.max_rows', rows,\n",
    "                           'display.max_columns', cols):\n",
    "        display(df)"
   ]
  },
  {
   "cell_type": "markdown",
   "metadata": {},
   "source": [
    "(ch:viz)=\n",
    "# Data Visualization\n",
    "\n",
    "A wise scientist once wrote:\n",
    "\n",
    "> There is a magic in graphs. The profile of a curve reveals in a ﬂash a whole\n",
    "> situation — the life history of an epidemic, a panic, or an era of\n",
    "> prosperity. The curve informs the mind, awakens the imagination, convinces.\n",
    "> {cite}`brintonGraphic1939`.\n",
    "\n",
    "As data scientists, we create data visualizations in order to understand our\n",
    "data and explain our analyses to other people. Every plot has a message. And\n",
    "it's our job to use plots to communicate this message as clearly as\n",
    "possible.\n",
    "\n",
    "In this chapter, we'll discuss principles of effective data\n",
    "visualizations. We specifically talk about how to: choose scales for axes,\n",
    "handle large amounts of data with smoothing and aggregation, facilitate\n",
    "meaningful comparisons, incorporate the study design, and add contextual\n",
    "information. \n",
    "We'll also show how to create plots in Python using\n",
    "`plotly`, a popular package for plotting in Python. \n",
    "\n",
    "One tricky part about writing a chapter on data visualization is that \n",
    "software packages for visualization change all the time, so any code we put\n",
    "into the book will get out-of-date. Because of this, some books avoid\n",
    "code entirely.\n",
    "We instead strike a balance between the two.\n",
    "We cover high-level data visualization principles\n",
    "that will be useful for a long time, and include practical plotting code\n",
    "to implement these principles. When new software becomes available,\n",
    "readers can still use our principles to guide their analyses."
   ]
  }
 ],
 "metadata": {
  "kernelspec": {
   "display_name": "Python 3",
   "language": "python",
   "name": "python3"
  },
  "language_info": {
   "codemirror_mode": {
    "name": "ipython",
    "version": 3
   },
   "file_extension": ".py",
   "mimetype": "text/x-python",
   "name": "python",
   "nbconvert_exporter": "python",
   "pygments_lexer": "ipython3",
   "version": "3.9.4"
  }
 },
 "nbformat": 4,
 "nbformat_minor": 4
}
