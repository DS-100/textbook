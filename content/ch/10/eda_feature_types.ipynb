{
 "cells": [
  {
   "cell_type": "code",
   "execution_count": 1,
   "metadata": {
    "tags": [
     "remove-cell"
    ]
   },
   "outputs": [],
   "source": [
    "import sys\n",
    "import os\n",
    "if not any(path.endswith('textbook') for path in sys.path):\n",
    "    sys.path.append(os.path.abspath('../../..'))\n",
    "from textbook_utils import *"
   ]
  },
  {
   "cell_type": "markdown",
   "metadata": {},
   "source": [
    "(sec:eda_feature_types)=\n",
    "# Feature Types\n",
    "\n",
    "Before making an exploratory plot, or any plot for that matter, it's a good idea to examine the feature (or features) and decide on each one's type, which we call *feature type*. (Some times we refer to a feature as a variable and its type as *variable type*.) Although there are multiple ways of categorizing feature types, in this book we consider three basic ones."
   ]
  },
  {
   "cell_type": "markdown",
   "metadata": {},
   "source": [
    "1. *Nominal*: A feature that represents \"named\" categories, where the\n",
    "   categories do not have a natural ordering, is called nominal. Examples\n",
    "   include: political party affiliation (Democrat, Republican, Green, Other);\n",
    "   dog type (herding, hound, non-sporting, sporting, terrier, toy, working); \n",
    "   and computer operating system (Windows, MacOS, Linux).\n",
    "\n",
    "2. *Ordinal*: Measurements that represent ordered categories are\n",
    "   called ordinal. Examples of ordinal features are: T-shirt size (small,\n",
    "   medium, large); Likert-scale response (disagree, neutral, agree); and level\n",
    "   of education (high school, college, graduate school). It is important to\n",
    "   note that with an ordinal feature, the difference between, say, small and\n",
    "   medium, need not be the same as the difference between medium and large. We\n",
    "   can order the categories, but the differences between consecutive categories\n",
    "   may not be the same, or even quantifiable. Think of the number of stars in a restaurant review\n",
    "   and what one star means in comparison to two stars. \n",
    "\n",
    "    Ordinal and nominal data are subtypes of *categorical* data. Another name\n",
    "    for these types is *qualitative*. In contrast we also have\n",
    "    *quantitative* features.\n",
    "\n",
    "\n",
    "3. *Quantitative*: These data represent numeric amounts or quantities\n",
    "   and so are called quantitative. Examples include: height measured to the\n",
    "   nearest cm, price reported in USD, and distance measured to the nearest\n",
    "   kilometer.  Quantitative features can be further divided into\n",
    "   *discrete*, meaning that only a few values of the feature are possible, and\n",
    "   *continuous*, meaning that the quantity could in principal be measured to\n",
    "   arbitrary precision. The number of siblings in a family takes on a discrete\n",
    "   set of values (such as, 0, 1, 2,..., 8). On the other hand, height\n",
    "   measured in centimeters and can theoretically be reported to any number of\n",
    "   decimal places so we consider it continuous. There is no hard and fast rule\n",
    "   to determine whether a quantity is discrete or continuous. In some cases, \n",
    "   it can be a judgment call and at other times we may want to purposefully consider a continuous \n",
    "   feature to be discrete. "
   ]
  },
  {
   "cell_type": "markdown",
   "metadata": {},
   "source": [
    "**Data Storage Types vs. Feature Types**\n",
    "\n",
    "Each column in a  `pandas` data frame has its own *storage type*. These types\n",
    "can be integer, floating point, boolean, date-time format, category, and object\n",
    "(strings of varying length are stored as objects in python with pointers to the\n",
    "strings).  It is essential to understand that a feature type is not the same as\n",
    "a pandas storage type. We use the term *feature type* to refer to a\n",
    "conceptual notion of the information, and the term *storage type* refers to the\n",
    "representation of the information in the computer."
   ]
  },
  {
   "cell_type": "markdown",
   "metadata": {},
   "source": [
    "A feature stored as an integer can represent nominal data, strings can be\n",
    "quantitative (e.g., \"\\$100.00\"),  and, in practice, boolean values often\n",
    "represent nominal features that have only two possible values.\n"
   ]
  },
  {
   "cell_type": "markdown",
   "metadata": {},
   "source": [
    ":::{note}\n",
    "\n",
    "Pandas calls the storage type `dtype`, which is short for data type.\n",
    "We refrain from using the term *data type* here because it can be confused with\n",
    "both storage type and feature type.\n",
    "\n",
    ":::"
   ]
  },
  {
   "cell_type": "markdown",
   "metadata": {},
   "source": [
    "In order to determine a feature type, we often need to consult the\n",
    "dataset’s *data dictionary* or *codebook*. A data dictionary is a document\n",
    "included with the data that describes what each column in the data table\n",
    "represents.  In the following example, we take a look at the storage and\n",
    "feature types of the columns in a data frame about various breeds of dogs, \n",
    "and we find that the storage type is often not a good indicator of the kind \n",
    "of information contained in a field."
   ]
  },
  {
   "cell_type": "markdown",
   "metadata": {},
   "source": [
    "## Example: Dog Breeds"
   ]
  },
  {
   "cell_type": "markdown",
   "metadata": {},
   "source": [
    "In this chapter, we use the American Kennel Club (AKC) data on registered dog breeds to introduce the various concepts related to EDA. The American Kennel Club[^akc], a non-profit that was founded in 1884, has the stated mission to \"advance the study, breeding, exhibiting, running and maintenance of purebred dogs.\"  The AKC organizes events like its National Championship, Agility Invitational, and Obedience Classic,  and mixed breed dogs are welcome to participate in most events. The Information is Beautiful[^IIB] website provides a dataset with information from AKC on 172 breeds. Their visualization[^dogviz] incorporates many features of the breeds and is fun to look at.\n",
    "\n",
    "[^akc]:akc.org\n",
    "[^IIB]:informationisbeautiful.net\n",
    "[^dogviz]:https://www.informationisbeautiful.net/visualizations/best-in-show-whats-the-top-data-dog/"
   ]
  },
  {
   "cell_type": "markdown",
   "metadata": {},
   "source": [
    "The AKC dataset contains several different kinds of features, and we have extracted a handful of them that show a variety of types of information. These features include the name of the breed, its longevity, weight, and height, and other information such as its suitability for children and the number of repetitions needed to learn a new trick. Each record in the dataset is a breed of dog, and the information provided is meant to be typical of that breed."
   ]
  },
  {
   "cell_type": "markdown",
   "metadata": {},
   "source": [
    "The portion of AKC data we are working with has 12 features and 172 breeds."
   ]
  },
  {
   "cell_type": "code",
   "execution_count": 2,
   "metadata": {},
   "outputs": [
    {
     "data": {
      "text/html": [
       "<div>\n",
       "<style scoped>\n",
       "    .dataframe tbody tr th:only-of-type {\n",
       "        vertical-align: middle;\n",
       "    }\n",
       "\n",
       "    .dataframe tbody tr th {\n",
       "        vertical-align: top;\n",
       "    }\n",
       "\n",
       "    .dataframe thead th {\n",
       "        text-align: right;\n",
       "    }\n",
       "</style>\n",
       "<table border=\"1\" class=\"dataframe\">\n",
       "  <thead>\n",
       "    <tr style=\"text-align: right;\">\n",
       "      <th></th>\n",
       "      <th>breed</th>\n",
       "      <th>group</th>\n",
       "      <th>score</th>\n",
       "      <th>longevity</th>\n",
       "      <th>...</th>\n",
       "      <th>size</th>\n",
       "      <th>weight</th>\n",
       "      <th>height</th>\n",
       "      <th>repetition</th>\n",
       "    </tr>\n",
       "  </thead>\n",
       "  <tbody>\n",
       "    <tr>\n",
       "      <th>0</th>\n",
       "      <td>Border Collie</td>\n",
       "      <td>herding</td>\n",
       "      <td>3.64</td>\n",
       "      <td>12.52</td>\n",
       "      <td>...</td>\n",
       "      <td>medium</td>\n",
       "      <td>NaN</td>\n",
       "      <td>51.0</td>\n",
       "      <td>&lt;5</td>\n",
       "    </tr>\n",
       "    <tr>\n",
       "      <th>1</th>\n",
       "      <td>Border Terrier</td>\n",
       "      <td>terrier</td>\n",
       "      <td>3.61</td>\n",
       "      <td>14.00</td>\n",
       "      <td>...</td>\n",
       "      <td>small</td>\n",
       "      <td>6.0</td>\n",
       "      <td>NaN</td>\n",
       "      <td>15-25</td>\n",
       "    </tr>\n",
       "    <tr>\n",
       "      <th>2</th>\n",
       "      <td>Brittany</td>\n",
       "      <td>sporting</td>\n",
       "      <td>3.54</td>\n",
       "      <td>12.92</td>\n",
       "      <td>...</td>\n",
       "      <td>medium</td>\n",
       "      <td>16.0</td>\n",
       "      <td>48.0</td>\n",
       "      <td>5-15</td>\n",
       "    </tr>\n",
       "    <tr>\n",
       "      <th>...</th>\n",
       "      <td>...</td>\n",
       "      <td>...</td>\n",
       "      <td>...</td>\n",
       "      <td>...</td>\n",
       "      <td>...</td>\n",
       "      <td>...</td>\n",
       "      <td>...</td>\n",
       "      <td>...</td>\n",
       "      <td>...</td>\n",
       "    </tr>\n",
       "    <tr>\n",
       "      <th>169</th>\n",
       "      <td>Wire Fox Terrier</td>\n",
       "      <td>terrier</td>\n",
       "      <td>NaN</td>\n",
       "      <td>13.17</td>\n",
       "      <td>...</td>\n",
       "      <td>small</td>\n",
       "      <td>8.0</td>\n",
       "      <td>38.0</td>\n",
       "      <td>25-40</td>\n",
       "    </tr>\n",
       "    <tr>\n",
       "      <th>170</th>\n",
       "      <td>Wirehaired Pointing Griffon</td>\n",
       "      <td>sporting</td>\n",
       "      <td>NaN</td>\n",
       "      <td>8.80</td>\n",
       "      <td>...</td>\n",
       "      <td>medium</td>\n",
       "      <td>NaN</td>\n",
       "      <td>56.0</td>\n",
       "      <td>25-40</td>\n",
       "    </tr>\n",
       "    <tr>\n",
       "      <th>171</th>\n",
       "      <td>Xoloitzcuintli</td>\n",
       "      <td>non-sporting</td>\n",
       "      <td>NaN</td>\n",
       "      <td>NaN</td>\n",
       "      <td>...</td>\n",
       "      <td>medium</td>\n",
       "      <td>NaN</td>\n",
       "      <td>42.0</td>\n",
       "      <td>NaN</td>\n",
       "    </tr>\n",
       "  </tbody>\n",
       "</table>\n",
       "<p>172 rows × 12 columns</p>\n",
       "</div>"
      ],
      "text/plain": [
       "                           breed         group  score  longevity  ...    size  \\\n",
       "0                  Border Collie       herding   3.64      12.52  ...  medium   \n",
       "1                 Border Terrier       terrier   3.61      14.00  ...   small   \n",
       "2                       Brittany      sporting   3.54      12.92  ...  medium   \n",
       "..                           ...           ...    ...        ...  ...     ...   \n",
       "169             Wire Fox Terrier       terrier    NaN      13.17  ...   small   \n",
       "170  Wirehaired Pointing Griffon      sporting    NaN       8.80  ...  medium   \n",
       "171               Xoloitzcuintli  non-sporting    NaN        NaN  ...  medium   \n",
       "\n",
       "     weight  height  repetition  \n",
       "0       NaN    51.0          <5  \n",
       "1       6.0     NaN       15-25  \n",
       "2      16.0    48.0        5-15  \n",
       "..      ...     ...         ...  \n",
       "169     8.0    38.0       25-40  \n",
       "170     NaN    56.0       25-40  \n",
       "171     NaN    42.0         NaN  \n",
       "\n",
       "[172 rows x 12 columns]"
      ]
     },
     "execution_count": 2,
     "metadata": {},
     "output_type": "execute_result"
    }
   ],
   "source": [
    "dogs = pd.read_csv('data/akc.csv')\n",
    "dogs"
   ]
  },
  {
   "cell_type": "markdown",
   "metadata": {},
   "source": [
    "A cursory glance at the table shows us that breed, group, and size appear to be\n",
    "strings, and the other columns numbers. The summary of the data frame, shown\n",
    "below, provides the index, name, count of non-null values, and `dtype` for each\n",
    "column."
   ]
  },
  {
   "cell_type": "code",
   "execution_count": 4,
   "metadata": {},
   "outputs": [
    {
     "name": "stdout",
     "output_type": "stream",
     "text": [
      "<class 'pandas.core.frame.DataFrame'>\n",
      "RangeIndex: 172 entries, 0 to 171\n",
      "Data columns (total 12 columns):\n",
      " #   Column          Non-Null Count  Dtype  \n",
      "---  ------          --------------  -----  \n",
      " 0   breed           172 non-null    object \n",
      " 1   group           172 non-null    object \n",
      " 2   score           87 non-null     float64\n",
      " 3   longevity       135 non-null    float64\n",
      " 4   ailments        148 non-null    float64\n",
      " 5   purchase_price  146 non-null    float64\n",
      " 6   grooming        112 non-null    float64\n",
      " 7   children        112 non-null    float64\n",
      " 8   size            172 non-null    object \n",
      " 9   weight          86 non-null     float64\n",
      " 10  height          159 non-null    float64\n",
      " 11  repetition      132 non-null    object \n",
      "dtypes: float64(8), object(4)\n",
      "memory usage: 16.2+ KB\n"
     ]
    }
   ],
   "source": [
    "dogs.info()"
   ]
  },
  {
   "cell_type": "markdown",
   "metadata": {},
   "source": [
    "Several columns of this data frame have a numeric computational type, as\n",
    "signified by  `float64`, which means that the column can contain numbers other than integers.\n",
    "We also confirm that `pandas` encodes the string columns as the `object` dtype, rather than a `string` dtype.\n",
    "Notice that we guessed incorrectly that `repetition` is quantitative.\n",
    "Looking a bit more carefully at the data table, we see that `repetition` contains string values for ranges,\n",
    "such as \"< 5\", \"15-25\" and \"25-40\", so this feature is ordinal."
   ]
  },
  {
   "cell_type": "markdown",
   "metadata": {},
   "source": [
    ":::{note}\n",
    "\n",
    "In computer architecture, a floating-point number, or \"float\" for short, \n",
    "refers to a number that can have a decimal component. We won't go in-depth\n",
    "into computer architecture in this book, but we will point it out when it\n",
    "affects terminology, as in this case.\n",
    "The `dtype` `float64` says that the column contains decimal numbers that each\n",
    "take up 64 bits of space when stored in computer memory.\n",
    "\n",
    "Additionally, `pandas` uses optimized storage types for numeric data, like `float64` or `int64`.\n",
    "However, it doesn't have optimizations for Python objects like strings,\n",
    "dictionaries, or sets, so these are all stored as the `object` `dtype`.\n",
    "This means that the storage type is ambiguous, but in most real-world cases\n",
    "we know whether `object` columns contain strings or some other Python type.\n",
    "\n",
    ":::"
   ]
  },
  {
   "cell_type": "markdown",
   "metadata": {},
   "source": [
    "Next, let's look at an example where the storage type differs from the\n",
    "feature type.\n",
    "At first glance, we might guess `ailments` and `children` are quantitative\n",
    "features because they are stored as `float64` `dtypes`. \n",
    "But, let's look more closely at the counts of their values."
   ]
  },
  {
   "cell_type": "code",
   "execution_count": 24,
   "metadata": {},
   "outputs": [
    {
     "data": {
      "text/plain": [
       "0.0    61\n",
       "1.0    42\n",
       "2.0    24\n",
       "4.0    10\n",
       "3.0     6\n",
       "5.0     3\n",
       "8.0     1\n",
       "9.0     1\n",
       "Name: ailments, dtype: int64"
      ]
     },
     "metadata": {},
     "output_type": "display_data"
    }
   ],
   "source": [
    "display_df(dogs['ailments'].value_counts(), rows=8)"
   ]
  },
  {
   "cell_type": "code",
   "execution_count": 6,
   "metadata": {},
   "outputs": [
    {
     "data": {
      "text/plain": [
       "1.0    67\n",
       "2.0    35\n",
       "3.0    10\n",
       "Name: children, dtype: int64"
      ]
     },
     "execution_count": 6,
     "metadata": {},
     "output_type": "execute_result"
    }
   ],
   "source": [
    "dogs['children'].value_counts()"
   ]
  },
  {
   "cell_type": "markdown",
   "metadata": {},
   "source": [
    "Both `ailments` and `children` only take on a few integer values.\n",
    "What does a value\n",
    "of 3.0 for `children` or 9.0 for `ailments` mean? We need more information to\n",
    "figure this out. The name of the column and how the information is stored in\n",
    "the data frame is not enough.\n",
    "Instead, take a look at the data dictionary, shown in {numref}`Table <akc-codebook>`."
   ]
  },
  {
   "cell_type": "markdown",
   "metadata": {},
   "source": [
    ":::{table} AKC Dog Breed Codebook\n",
    ":name: akc-codebook\n",
    "\n",
    "| Feature        | Description                                                                                   |\n",
    "|----------------|-----------------------------------------------------------------------------------------------|\n",
    "| breed          | dog breed, e.g., Border Collie, Dalmatian, Vizsla                                             |\n",
    "| group          | American Kennel Club grouping (herding, hound, non-sporting, sporting, terrier, toy, working) |\n",
    "| score          | AKC score                                                                                     |\n",
    "| longevity      | typical lifetime (years)                                                                      |\n",
    "| ailments       | number of serious genetic ailments                                                            |\n",
    "| purchase_price | average purchase price from puppyfind.com                                                     |\n",
    "| grooming       | grooming required once every: 1 = day, 2 = week, 3 = few weeks                                |\n",
    "| children       | suitability for children: 1 = high, 2 = medium, 3 = low                                       |\n",
    "| size           | size: small, medium, large                                                                    |\n",
    "| weight         | typical weight (kg)                                                                           |\n",
    "| height         | typical height from the shoulder (cm)                                                         |\n",
    "| repetition     | number of repetitions to understand a new command: <5, 5-15, 15-25, 25-40, 40-80, >80         |\n",
    "\n",
    ":::"
   ]
  },
  {
   "cell_type": "markdown",
   "metadata": {},
   "source": [
    "Although the data dictionary does not explicitly specify the feature types, the\n",
    "descriptions help us figure out that the feature, `children`, represents the suitability of\n",
    "the breed for children, and a value of 1.0 corresponds to \"high\" suitability.\n",
    "We can also figure out that the feature, `ailments`, is a count of the number of serious genetic\n",
    "ailments that dogs of this breed tend to have.  Based on the codebook, we treat\n",
    "`children` as a categorical feature, even though it is stored as a floating\n",
    "point number, and since low < medium < high,  `children` is ordinal.  Since\n",
    "`ailments` is a count, we treat it as a quantitative (numeric) type,\n",
    "and for some analyses we further define it as discrete because there\n",
    "are only a few possible values that `ailments` can take on."
   ]
  },
  {
   "cell_type": "markdown",
   "metadata": {},
   "source": [
    "The codebook also confirms that the features: `score`, `longevity`,\n",
    "`purchase_price`, `weight`, and `height` are quantitative. \n",
    "The idea here is that numeric features have values that can be compared with differences. \n",
    "It makes sense to say that chihuahuas typically live four years longer than dachshunds (16.5 to 12.6 years). Another check is whether it makes sense to compare ratios of values:\n",
    "a dachshund is usually about five times heavier than a chihuahua (11 kg to 2 kg).\n",
    "All of these quantitative features are continuous, and only `ailments` is discrete."
   ]
  },
  {
   "cell_type": "markdown",
   "metadata": {},
   "source": [
    "The data dictionary descriptions for `breed` , `group`, `size` and `repetition`\n",
    "suggest that these features are qualitative. Each of these variables have\n",
    "different, and yet commonly found, characteristics that are worth exploring a\n",
    "bit more. We do this by examining the counts of each unique value for the various\n",
    "feature. We begin with `breed`."
   ]
  },
  {
   "cell_type": "code",
   "execution_count": 9,
   "metadata": {},
   "outputs": [
    {
     "data": {
      "text/plain": [
       "Australian Cattle Dog         1\n",
       "Staffordshire Bull Terrier    1\n",
       "Dandie Dinmont Terrier        1\n",
       "                             ..\n",
       "Komondor                      1\n",
       "Boykin Spaniel                1\n",
       "Alaskan Malamute              1\n",
       "Name: breed, Length: 172, dtype: int64"
      ]
     },
     "execution_count": 9,
     "metadata": {},
     "output_type": "execute_result"
    }
   ],
   "source": [
    "dogs['breed'].value_counts()"
   ]
  },
  {
   "cell_type": "markdown",
   "metadata": {},
   "source": [
    "The `breed` feature has 172 unique values---that's the same as the number of\n",
    "records in the data frame. So, we can think of `breed` as the *primary key* for the data table. \n",
    "By design, each dog breed has one record, and this `breed` feature determines\n",
    "the dataset's granularity.  Although `breed` is also considered a nominal feature,\n",
    "it doesn't really make sense to analyze it. We do want to confirm that all\n",
    "values are unique and clean, but otherwise we would only use it to, say, label\n",
    "unusual values in a plot."
   ]
  },
  {
   "cell_type": "markdown",
   "metadata": {},
   "source": [
    "Next we examine the feature, `group`."
   ]
  },
  {
   "cell_type": "code",
   "execution_count": 10,
   "metadata": {},
   "outputs": [
    {
     "data": {
      "text/plain": [
       "sporting        28\n",
       "terrier         28\n",
       "working         27\n",
       "hound           26\n",
       "herding         25\n",
       "non-sporting    19\n",
       "toy             19\n",
       "Name: group, dtype: int64"
      ]
     },
     "execution_count": 10,
     "metadata": {},
     "output_type": "execute_result"
    }
   ],
   "source": [
    "dogs['group'].value_counts()"
   ]
  },
  {
   "cell_type": "markdown",
   "metadata": {},
   "source": [
    "This feature has seven unique values.\n",
    "Since a dog breed labeled as \"sporting\" and another considered to be \"toy\"\n",
    "differ from each other in several ways, the categories in `group` are not easily reduced\n",
    "to an ordering.\n",
    "So, we consider `group` a nominal feature. \n",
    "Nominal features do not provide meaning in even the direction of the differences. "
   ]
  },
  {
   "cell_type": "markdown",
   "metadata": {},
   "source": [
    "Next, we examine the unique values and their counts for `size`. "
   ]
  },
  {
   "cell_type": "code",
   "execution_count": 11,
   "metadata": {},
   "outputs": [
    {
     "data": {
      "text/plain": [
       "medium    60\n",
       "small     58\n",
       "large     54\n",
       "Name: size, dtype: int64"
      ]
     },
     "execution_count": 11,
     "metadata": {},
     "output_type": "execute_result"
    }
   ],
   "source": [
    "dogs['size'].value_counts()"
   ]
  },
  {
   "cell_type": "markdown",
   "metadata": {},
   "source": [
    "The `size` feature has a natural ordering: small < medium < large so it is\n",
    "ordinal.  We don't know how the category \"small\" is determined, but we do know\n",
    "that a small breed is in some sense smaller than a medium-size breed, which is\n",
    "smaller than a large one.  We have an ordering, but differences and ratios\n",
    "don't make sense conceptually for this feature."
   ]
  },
  {
   "cell_type": "markdown",
   "metadata": {},
   "source": [
    "The `repetition` feature is an example of a quantitative variable that has been\n",
    "collapsed into categories and become ordinal. The codebook tells us that\n",
    "`repetition` is the number of times a new command needs to be repeated before\n",
    "the dog understands it. The numeric values have been placed into categories:\n",
    "<5, 5-15, 15-25, 25-40, 40-80, >80."
   ]
  },
  {
   "cell_type": "code",
   "execution_count": 12,
   "metadata": {},
   "outputs": [
    {
     "data": {
      "text/plain": [
       "25-40     39\n",
       "15-25     29\n",
       "40-80     22\n",
       "5-15      21\n",
       "80-100    11\n",
       "<5        10\n",
       "Name: repetition, dtype: int64"
      ]
     },
     "execution_count": 12,
     "metadata": {},
     "output_type": "execute_result"
    }
   ],
   "source": [
    "dogs['repetition'].value_counts()"
   ]
  },
  {
   "cell_type": "markdown",
   "metadata": {},
   "source": [
    "Notice that these categories have different widths. The first is fewer than 5\n",
    "repetitions, while others are 10, 15, and 40 repetitions wide.  The ordering is\n",
    "clear, but the gaps from one category to the next are not the same magnitude.\n"
   ]
  },
  {
   "cell_type": "markdown",
   "metadata": {},
   "source": [
    "Now that we have double checked the values in the variables against the\n",
    "descriptions in the codebook, we can augment the data dictionary to include\n",
    "this additional information about the feature types.\n",
    "Our revised dictionary is shown in {numref}`Table %s <revised-akc-codebook>`."
   ]
  },
  {
   "cell_type": "markdown",
   "metadata": {},
   "source": [
    ":::{table} Revised AKC Dog Breed Codebook\n",
    ":name: revised-akc-codebook\n",
    "\n",
    "| Feature        |  Description                                                                                |  Feature Type             |  Storage Type\n",
    "|:----------------|:-------------------------------------------------------------------------------------|:---------------------------|:----------------\n",
    "breed           |  dog breed, e.g., Border Collie, Dalmatian, Vizsla                                          |  primary key              |  string\n",
    "group           |  AKC group (herding, hound, non-sporting, sporting, terrier, toy, working)                  |  qualitative - nominal    |  string\n",
    "score           |  AKC score                                                                                  |  quantitative             |  floating point\n",
    "longevity       |  typical lifetime (years)                                                                   |  quantitative             |  floating point\n",
    "ailments        |  number of serious genetic ailments (0, 1, ..., 9)                                          |  quantitative - discrete  |  floating point\n",
    "purchase_price  |  average purchase price from puppyfind.com                                                  |  quantitative             |  floating point\n",
    "grooming        |  groom once every: 1 = day, 2 = week, 3 = few weeks                                         |  qualitative - ordinal    |  floating point\n",
    "children        |  suitability for children: 1 = high, 2 = medium, 3 = low                                    |  qualitative - ordinal    |  floating point\n",
    "size            |  size: small, medium, large                                                                 |  qualitative - ordinal    |  string\n",
    "weight          |  typical weight (kg)                                                                        |  quantitative             |  floating point\n",
    "height          |  typical height from the shoulder (cm)                                                      |  quantitative             |  floating point\n",
    "repetition      |  number of repetitions to understand a new command:     <5, 5-15, 15-25, 25-40, 40-80, >80  |  qualitative - ordinal    |  string\n",
    "\n",
    ":::"
   ]
  },
  {
   "cell_type": "markdown",
   "metadata": {},
   "source": [
    "This sharper understanding of the feature types of the Kennel Club data helps us make quality checks and transformations.\n",
    "We discussed transformations in {numref}`Chapter %s <ch:wrangling>`, but there are a\n",
    "few additional transformations that pertain to categories of qualitative features, and we \n",
    "describe them next."
   ]
  },
  {
   "cell_type": "markdown",
   "metadata": {},
   "source": [
    "## Transforming Qualitative Features"
   ]
  },
  {
   "cell_type": "markdown",
   "metadata": {},
   "source": [
    "Whether a feature is nominal or ordinal, we may find it useful to: relabel categories so they are more informative; collapse categories to simplify a visualization; and even convert a numeric feature to ordinal to focus on particular transition points. We explain when we may want to make each of these transformations and give examples."
   ]
  },
  {
   "cell_type": "markdown",
   "metadata": {},
   "source": [
    "**Relabel Categories.** Summary statistics, like the mean and the median, make\n",
    "sense for quantitative data, but typically not for qualitative data.  For\n",
    "example, the average price for toy breeds makes sense (\\$687), but\n",
    "the \"average\" breed suitability for children doesn't.\n",
    "However, `pandas` will happily compute the mean of the values in the `children`\n",
    "column if we ask it to."
   ]
  },
  {
   "cell_type": "code",
   "execution_count": 20,
   "metadata": {},
   "outputs": [
    {
     "data": {
      "text/plain": [
       "1.4910714285714286"
      ]
     },
     "execution_count": 20,
     "metadata": {},
     "output_type": "execute_result"
    }
   ],
   "source": [
    "# Don't use this value in actual data analysis!\n",
    "dogs[\"children\"].mean()"
   ]
  },
  {
   "cell_type": "markdown",
   "metadata": {},
   "source": [
    ":::{note}\n",
    "\n",
    "This is a key difference between storage types and feature types---storage\n",
    "types say what operations we can write code to *compute*, while\n",
    "feature types say what operations *make sense for the data*.\n",
    "\n",
    ":::"
   ]
  },
  {
   "cell_type": "markdown",
   "metadata": {},
   "source": [
    "Instead, we want to consider the distribution of ones, twos, and threes of\n",
    "the `children`. Let's focus on just the toy breeds. "
   ]
  },
  {
   "cell_type": "code",
   "execution_count": 4,
   "metadata": {
    "tags": [
     "remove-input"
    ]
   },
   "outputs": [
    {
     "data": {
      "application/vnd.plotly.v1+json": {
       "config": {
        "plotlyServerURL": "https://plot.ly"
       },
       "data": [
        {
         "alignmentgroup": "True",
         "hovertemplate": "variable=children<br>index=%{x}<br>value=%{y}<extra></extra>",
         "legendgroup": "children",
         "marker": {
          "color": "#1F77B4",
          "pattern": {
           "shape": ""
          }
         },
         "name": "children",
         "offsetgroup": "children",
         "orientation": "v",
         "showlegend": true,
         "textposition": "auto",
         "type": "bar",
         "x": [
          1,
          2,
          3
         ],
         "xaxis": "x",
         "y": [
          3,
          5,
          5
         ],
         "yaxis": "y"
        }
       ],
       "layout": {
        "barmode": "relative",
        "height": 250,
        "legend": {
         "title": {
          "text": "variable"
         },
         "tracegroupgap": 0
        },
        "showlegend": false,
        "template": {
         "data": {
          "bar": [
           {
            "error_x": {
             "color": "rgb(36,36,36)"
            },
            "error_y": {
             "color": "rgb(36,36,36)"
            },
            "marker": {
             "line": {
              "color": "white",
              "width": 0.5
             },
             "pattern": {
              "fillmode": "overlay",
              "size": 10,
              "solidity": 0.2
             }
            },
            "type": "bar"
           }
          ],
          "barpolar": [
           {
            "marker": {
             "line": {
              "color": "white",
              "width": 0.5
             },
             "pattern": {
              "fillmode": "overlay",
              "size": 10,
              "solidity": 0.2
             }
            },
            "type": "barpolar"
           }
          ],
          "carpet": [
           {
            "aaxis": {
             "endlinecolor": "rgb(36,36,36)",
             "gridcolor": "white",
             "linecolor": "white",
             "minorgridcolor": "white",
             "startlinecolor": "rgb(36,36,36)"
            },
            "baxis": {
             "endlinecolor": "rgb(36,36,36)",
             "gridcolor": "white",
             "linecolor": "white",
             "minorgridcolor": "white",
             "startlinecolor": "rgb(36,36,36)"
            },
            "type": "carpet"
           }
          ],
          "choropleth": [
           {
            "colorbar": {
             "outlinewidth": 1,
             "tickcolor": "rgb(36,36,36)",
             "ticks": "outside"
            },
            "type": "choropleth"
           }
          ],
          "contour": [
           {
            "colorbar": {
             "outlinewidth": 1,
             "tickcolor": "rgb(36,36,36)",
             "ticks": "outside"
            },
            "colorscale": [
             [
              0,
              "#440154"
             ],
             [
              0.1111111111111111,
              "#482878"
             ],
             [
              0.2222222222222222,
              "#3e4989"
             ],
             [
              0.3333333333333333,
              "#31688e"
             ],
             [
              0.4444444444444444,
              "#26828e"
             ],
             [
              0.5555555555555556,
              "#1f9e89"
             ],
             [
              0.6666666666666666,
              "#35b779"
             ],
             [
              0.7777777777777778,
              "#6ece58"
             ],
             [
              0.8888888888888888,
              "#b5de2b"
             ],
             [
              1,
              "#fde725"
             ]
            ],
            "type": "contour"
           }
          ],
          "contourcarpet": [
           {
            "colorbar": {
             "outlinewidth": 1,
             "tickcolor": "rgb(36,36,36)",
             "ticks": "outside"
            },
            "type": "contourcarpet"
           }
          ],
          "heatmap": [
           {
            "colorbar": {
             "outlinewidth": 1,
             "tickcolor": "rgb(36,36,36)",
             "ticks": "outside"
            },
            "colorscale": [
             [
              0,
              "#440154"
             ],
             [
              0.1111111111111111,
              "#482878"
             ],
             [
              0.2222222222222222,
              "#3e4989"
             ],
             [
              0.3333333333333333,
              "#31688e"
             ],
             [
              0.4444444444444444,
              "#26828e"
             ],
             [
              0.5555555555555556,
              "#1f9e89"
             ],
             [
              0.6666666666666666,
              "#35b779"
             ],
             [
              0.7777777777777778,
              "#6ece58"
             ],
             [
              0.8888888888888888,
              "#b5de2b"
             ],
             [
              1,
              "#fde725"
             ]
            ],
            "type": "heatmap"
           }
          ],
          "heatmapgl": [
           {
            "colorbar": {
             "outlinewidth": 1,
             "tickcolor": "rgb(36,36,36)",
             "ticks": "outside"
            },
            "colorscale": [
             [
              0,
              "#440154"
             ],
             [
              0.1111111111111111,
              "#482878"
             ],
             [
              0.2222222222222222,
              "#3e4989"
             ],
             [
              0.3333333333333333,
              "#31688e"
             ],
             [
              0.4444444444444444,
              "#26828e"
             ],
             [
              0.5555555555555556,
              "#1f9e89"
             ],
             [
              0.6666666666666666,
              "#35b779"
             ],
             [
              0.7777777777777778,
              "#6ece58"
             ],
             [
              0.8888888888888888,
              "#b5de2b"
             ],
             [
              1,
              "#fde725"
             ]
            ],
            "type": "heatmapgl"
           }
          ],
          "histogram": [
           {
            "marker": {
             "line": {
              "color": "white",
              "width": 0.6
             }
            },
            "type": "histogram"
           }
          ],
          "histogram2d": [
           {
            "colorbar": {
             "outlinewidth": 1,
             "tickcolor": "rgb(36,36,36)",
             "ticks": "outside"
            },
            "colorscale": [
             [
              0,
              "#440154"
             ],
             [
              0.1111111111111111,
              "#482878"
             ],
             [
              0.2222222222222222,
              "#3e4989"
             ],
             [
              0.3333333333333333,
              "#31688e"
             ],
             [
              0.4444444444444444,
              "#26828e"
             ],
             [
              0.5555555555555556,
              "#1f9e89"
             ],
             [
              0.6666666666666666,
              "#35b779"
             ],
             [
              0.7777777777777778,
              "#6ece58"
             ],
             [
              0.8888888888888888,
              "#b5de2b"
             ],
             [
              1,
              "#fde725"
             ]
            ],
            "type": "histogram2d"
           }
          ],
          "histogram2dcontour": [
           {
            "colorbar": {
             "outlinewidth": 1,
             "tickcolor": "rgb(36,36,36)",
             "ticks": "outside"
            },
            "colorscale": [
             [
              0,
              "#440154"
             ],
             [
              0.1111111111111111,
              "#482878"
             ],
             [
              0.2222222222222222,
              "#3e4989"
             ],
             [
              0.3333333333333333,
              "#31688e"
             ],
             [
              0.4444444444444444,
              "#26828e"
             ],
             [
              0.5555555555555556,
              "#1f9e89"
             ],
             [
              0.6666666666666666,
              "#35b779"
             ],
             [
              0.7777777777777778,
              "#6ece58"
             ],
             [
              0.8888888888888888,
              "#b5de2b"
             ],
             [
              1,
              "#fde725"
             ]
            ],
            "type": "histogram2dcontour"
           }
          ],
          "mesh3d": [
           {
            "colorbar": {
             "outlinewidth": 1,
             "tickcolor": "rgb(36,36,36)",
             "ticks": "outside"
            },
            "type": "mesh3d"
           }
          ],
          "parcoords": [
           {
            "line": {
             "colorbar": {
              "outlinewidth": 1,
              "tickcolor": "rgb(36,36,36)",
              "ticks": "outside"
             }
            },
            "type": "parcoords"
           }
          ],
          "pie": [
           {
            "automargin": true,
            "type": "pie"
           }
          ],
          "scatter": [
           {
            "marker": {
             "colorbar": {
              "outlinewidth": 1,
              "tickcolor": "rgb(36,36,36)",
              "ticks": "outside"
             }
            },
            "type": "scatter"
           }
          ],
          "scatter3d": [
           {
            "line": {
             "colorbar": {
              "outlinewidth": 1,
              "tickcolor": "rgb(36,36,36)",
              "ticks": "outside"
             }
            },
            "marker": {
             "colorbar": {
              "outlinewidth": 1,
              "tickcolor": "rgb(36,36,36)",
              "ticks": "outside"
             }
            },
            "type": "scatter3d"
           }
          ],
          "scattercarpet": [
           {
            "marker": {
             "colorbar": {
              "outlinewidth": 1,
              "tickcolor": "rgb(36,36,36)",
              "ticks": "outside"
             }
            },
            "type": "scattercarpet"
           }
          ],
          "scattergeo": [
           {
            "marker": {
             "colorbar": {
              "outlinewidth": 1,
              "tickcolor": "rgb(36,36,36)",
              "ticks": "outside"
             }
            },
            "type": "scattergeo"
           }
          ],
          "scattergl": [
           {
            "marker": {
             "colorbar": {
              "outlinewidth": 1,
              "tickcolor": "rgb(36,36,36)",
              "ticks": "outside"
             }
            },
            "type": "scattergl"
           }
          ],
          "scattermapbox": [
           {
            "marker": {
             "colorbar": {
              "outlinewidth": 1,
              "tickcolor": "rgb(36,36,36)",
              "ticks": "outside"
             }
            },
            "type": "scattermapbox"
           }
          ],
          "scatterpolar": [
           {
            "marker": {
             "colorbar": {
              "outlinewidth": 1,
              "tickcolor": "rgb(36,36,36)",
              "ticks": "outside"
             }
            },
            "type": "scatterpolar"
           }
          ],
          "scatterpolargl": [
           {
            "marker": {
             "colorbar": {
              "outlinewidth": 1,
              "tickcolor": "rgb(36,36,36)",
              "ticks": "outside"
             }
            },
            "type": "scatterpolargl"
           }
          ],
          "scatterternary": [
           {
            "marker": {
             "colorbar": {
              "outlinewidth": 1,
              "tickcolor": "rgb(36,36,36)",
              "ticks": "outside"
             }
            },
            "type": "scatterternary"
           }
          ],
          "surface": [
           {
            "colorbar": {
             "outlinewidth": 1,
             "tickcolor": "rgb(36,36,36)",
             "ticks": "outside"
            },
            "colorscale": [
             [
              0,
              "#440154"
             ],
             [
              0.1111111111111111,
              "#482878"
             ],
             [
              0.2222222222222222,
              "#3e4989"
             ],
             [
              0.3333333333333333,
              "#31688e"
             ],
             [
              0.4444444444444444,
              "#26828e"
             ],
             [
              0.5555555555555556,
              "#1f9e89"
             ],
             [
              0.6666666666666666,
              "#35b779"
             ],
             [
              0.7777777777777778,
              "#6ece58"
             ],
             [
              0.8888888888888888,
              "#b5de2b"
             ],
             [
              1,
              "#fde725"
             ]
            ],
            "type": "surface"
           }
          ],
          "table": [
           {
            "cells": {
             "fill": {
              "color": "rgb(237,237,237)"
             },
             "line": {
              "color": "white"
             }
            },
            "header": {
             "fill": {
              "color": "rgb(217,217,217)"
             },
             "line": {
              "color": "white"
             }
            },
            "type": "table"
           }
          ]
         },
         "layout": {
          "annotationdefaults": {
           "arrowhead": 0,
           "arrowwidth": 1
          },
          "autosize": true,
          "autotypenumbers": "strict",
          "coloraxis": {
           "colorbar": {
            "outlinewidth": 1,
            "tickcolor": "rgb(36,36,36)",
            "ticks": "outside"
           }
          },
          "colorscale": {
           "diverging": [
            [
             0,
             "rgb(103,0,31)"
            ],
            [
             0.1,
             "rgb(178,24,43)"
            ],
            [
             0.2,
             "rgb(214,96,77)"
            ],
            [
             0.3,
             "rgb(244,165,130)"
            ],
            [
             0.4,
             "rgb(253,219,199)"
            ],
            [
             0.5,
             "rgb(247,247,247)"
            ],
            [
             0.6,
             "rgb(209,229,240)"
            ],
            [
             0.7,
             "rgb(146,197,222)"
            ],
            [
             0.8,
             "rgb(67,147,195)"
            ],
            [
             0.9,
             "rgb(33,102,172)"
            ],
            [
             1,
             "rgb(5,48,97)"
            ]
           ],
           "sequential": [
            [
             0,
             "#440154"
            ],
            [
             0.1111111111111111,
             "#482878"
            ],
            [
             0.2222222222222222,
             "#3e4989"
            ],
            [
             0.3333333333333333,
             "#31688e"
            ],
            [
             0.4444444444444444,
             "#26828e"
            ],
            [
             0.5555555555555556,
             "#1f9e89"
            ],
            [
             0.6666666666666666,
             "#35b779"
            ],
            [
             0.7777777777777778,
             "#6ece58"
            ],
            [
             0.8888888888888888,
             "#b5de2b"
            ],
            [
             1,
             "#fde725"
            ]
           ],
           "sequentialminus": [
            [
             0,
             "#440154"
            ],
            [
             0.1111111111111111,
             "#482878"
            ],
            [
             0.2222222222222222,
             "#3e4989"
            ],
            [
             0.3333333333333333,
             "#31688e"
            ],
            [
             0.4444444444444444,
             "#26828e"
            ],
            [
             0.5555555555555556,
             "#1f9e89"
            ],
            [
             0.6666666666666666,
             "#35b779"
            ],
            [
             0.7777777777777778,
             "#6ece58"
            ],
            [
             0.8888888888888888,
             "#b5de2b"
            ],
            [
             1,
             "#fde725"
            ]
           ]
          },
          "colorway": [
           "#1F77B4",
           "#FF7F0E",
           "#2CA02C",
           "#D62728",
           "#9467BD",
           "#8C564B",
           "#E377C2",
           "#7F7F7F",
           "#BCBD22",
           "#17BECF"
          ],
          "font": {
           "color": "rgb(36,36,36)"
          },
          "geo": {
           "bgcolor": "white",
           "lakecolor": "white",
           "landcolor": "white",
           "showlakes": true,
           "showland": true,
           "subunitcolor": "white"
          },
          "height": 250,
          "hoverlabel": {
           "align": "left"
          },
          "hovermode": "closest",
          "mapbox": {
           "style": "light"
          },
          "margin": {
           "b": 10,
           "l": 10,
           "r": 10,
           "t": 10
          },
          "paper_bgcolor": "white",
          "plot_bgcolor": "white",
          "polar": {
           "angularaxis": {
            "gridcolor": "rgb(232,232,232)",
            "linecolor": "rgb(36,36,36)",
            "showgrid": false,
            "showline": true,
            "ticks": "outside"
           },
           "bgcolor": "white",
           "radialaxis": {
            "gridcolor": "rgb(232,232,232)",
            "linecolor": "rgb(36,36,36)",
            "showgrid": false,
            "showline": true,
            "ticks": "outside"
           }
          },
          "scene": {
           "xaxis": {
            "backgroundcolor": "white",
            "gridcolor": "rgb(232,232,232)",
            "gridwidth": 2,
            "linecolor": "rgb(36,36,36)",
            "showbackground": true,
            "showgrid": false,
            "showline": true,
            "ticks": "outside",
            "zeroline": false,
            "zerolinecolor": "rgb(36,36,36)"
           },
           "yaxis": {
            "backgroundcolor": "white",
            "gridcolor": "rgb(232,232,232)",
            "gridwidth": 2,
            "linecolor": "rgb(36,36,36)",
            "showbackground": true,
            "showgrid": false,
            "showline": true,
            "ticks": "outside",
            "zeroline": false,
            "zerolinecolor": "rgb(36,36,36)"
           },
           "zaxis": {
            "backgroundcolor": "white",
            "gridcolor": "rgb(232,232,232)",
            "gridwidth": 2,
            "linecolor": "rgb(36,36,36)",
            "showbackground": true,
            "showgrid": false,
            "showline": true,
            "ticks": "outside",
            "zeroline": false,
            "zerolinecolor": "rgb(36,36,36)"
           }
          },
          "shapedefaults": {
           "fillcolor": "black",
           "line": {
            "width": 0
           },
           "opacity": 0.3
          },
          "ternary": {
           "aaxis": {
            "gridcolor": "rgb(232,232,232)",
            "linecolor": "rgb(36,36,36)",
            "showgrid": false,
            "showline": true,
            "ticks": "outside"
           },
           "baxis": {
            "gridcolor": "rgb(232,232,232)",
            "linecolor": "rgb(36,36,36)",
            "showgrid": false,
            "showline": true,
            "ticks": "outside"
           },
           "bgcolor": "white",
           "caxis": {
            "gridcolor": "rgb(232,232,232)",
            "linecolor": "rgb(36,36,36)",
            "showgrid": false,
            "showline": true,
            "ticks": "outside"
           }
          },
          "title": {
           "x": 0.5,
           "xanchor": "center"
          },
          "width": 350,
          "xaxis": {
           "automargin": true,
           "gridcolor": "rgb(232,232,232)",
           "linecolor": "rgb(36,36,36)",
           "showgrid": true,
           "showline": true,
           "ticks": "outside",
           "title": {
            "standoff": 15
           },
           "zeroline": false,
           "zerolinecolor": "rgb(36,36,36)"
          },
          "yaxis": {
           "automargin": true,
           "gridcolor": "rgb(232,232,232)",
           "linecolor": "rgb(36,36,36)",
           "showgrid": true,
           "showline": true,
           "ticks": "outside",
           "title": {
            "standoff": 15
           },
           "zeroline": false,
           "zerolinecolor": "rgb(36,36,36)"
          }
         }
        },
        "width": 350,
        "xaxis": {
         "anchor": "y",
         "autorange": true,
         "domain": [
          0,
          1
         ],
         "range": [
          0.5,
          3.5
         ],
         "ticktext": [
          "low",
          "medium",
          "high"
         ],
         "tickvals": [
          1,
          2,
          3
         ],
         "title": {
          "text": "Toy Dog Suitability for Children"
         },
         "type": "linear"
        },
        "yaxis": {
         "anchor": "x",
         "autorange": true,
         "domain": [
          0,
          1
         ],
         "range": [
          0,
          5.2631578947368425
         ],
         "title": {
          "text": "value"
         },
         "type": "linear"
        }
       }
      },
      "image/png": "[encoded data removed]",
      "image/svg+xml": [
       "<svg class=\"main-svg\" xmlns=\"http://www.w3.org/2000/svg\" xmlns:xlink=\"http://www.w3.org/1999/xlink\" width=\"350\" height=\"250\" style=\"\" viewBox=\"0 0 350 250\"><rect x=\"0\" y=\"0\" width=\"350\" height=\"250\" style=\"fill: rgb(255, 255, 255); fill-opacity: 1;\"/><defs id=\"defs-708a9b\"><g class=\"clips\"><clipPath id=\"clip708a9bxyplot\" class=\"plotclip\"><rect width=\"290\" height=\"181\"/></clipPath><clipPath class=\"axesclip\" id=\"clip708a9bx\"><rect x=\"50\" y=\"0\" width=\"290\" height=\"250\"/></clipPath><clipPath class=\"axesclip\" id=\"clip708a9by\"><rect x=\"0\" y=\"10\" width=\"350\" height=\"181\"/></clipPath><clipPath class=\"axesclip\" id=\"clip708a9bxy\"><rect x=\"50\" y=\"10\" width=\"290\" height=\"181\"/></clipPath></g><g class=\"gradients\"/><g class=\"patterns\"/></defs><g class=\"bglayer\"/><g class=\"layer-below\"><g class=\"imagelayer\"/><g class=\"shapelayer\"/></g><g class=\"cartesianlayer\"><g class=\"subplot xy\"><g class=\"layer-subplot\"><g class=\"shapelayer\"/><g class=\"imagelayer\"/></g><g class=\"gridlayer\"><g class=\"x\"><path class=\"xgrid crisp\" transform=\"translate(98.33,0)\" d=\"M0,10v181\" style=\"stroke: rgb(232, 232, 232); stroke-opacity: 1; stroke-width: 1px;\"/><path class=\"xgrid crisp\" transform=\"translate(195,0)\" d=\"M0,10v181\" style=\"stroke: rgb(232, 232, 232); stroke-opacity: 1; stroke-width: 1px;\"/><path class=\"xgrid crisp\" transform=\"translate(291.66999999999996,0)\" d=\"M0,10v181\" style=\"stroke: rgb(232, 232, 232); stroke-opacity: 1; stroke-width: 1px;\"/></g><g class=\"y\"><path class=\"ygrid crisp\" transform=\"translate(0,156.61)\" d=\"M50,0h290\" style=\"stroke: rgb(232, 232, 232); stroke-opacity: 1; stroke-width: 1px;\"/><path class=\"ygrid crisp\" transform=\"translate(0,122.22)\" d=\"M50,0h290\" style=\"stroke: rgb(232, 232, 232); stroke-opacity: 1; stroke-width: 1px;\"/><path class=\"ygrid crisp\" transform=\"translate(0,87.83)\" d=\"M50,0h290\" style=\"stroke: rgb(232, 232, 232); stroke-opacity: 1; stroke-width: 1px;\"/><path class=\"ygrid crisp\" transform=\"translate(0,53.44)\" d=\"M50,0h290\" style=\"stroke: rgb(232, 232, 232); stroke-opacity: 1; stroke-width: 1px;\"/><path class=\"ygrid crisp\" transform=\"translate(0,19.05)\" d=\"M50,0h290\" style=\"stroke: rgb(232, 232, 232); stroke-opacity: 1; stroke-width: 1px;\"/></g></g><g class=\"zerolinelayer\"/><path class=\"xlines-below\"/><path class=\"ylines-below\"/><g class=\"overlines-below\"/><g class=\"xaxislayer-below\"/><g class=\"yaxislayer-below\"/><g class=\"overaxes-below\"/><g class=\"plot\" transform=\"translate(50,10)\" clip-path=\"url(#clip708a9bxyplot)\"><g class=\"barlayer mlayer\"><g class=\"trace bars\" style=\"opacity: 1;\"><g class=\"points\"><g class=\"point\"><path d=\"M9.67,181V77.83H87V181Z\" style=\"vector-effect: non-scaling-stroke; opacity: 1; stroke-width: 0.5px; fill: rgb(31, 119, 180); fill-opacity: 1; stroke: rgb(255, 255, 255); stroke-opacity: 1;\"/></g><g class=\"point\"><path d=\"M106.33,181V9.05H183.67V181Z\" style=\"vector-effect: non-scaling-stroke; opacity: 1; stroke-width: 0.5px; fill: rgb(31, 119, 180); fill-opacity: 1; stroke: rgb(255, 255, 255); stroke-opacity: 1;\"/></g><g class=\"point\"><path d=\"M203,181V9.05H280.33V181Z\" style=\"vector-effect: non-scaling-stroke; opacity: 1; stroke-width: 0.5px; fill: rgb(31, 119, 180); fill-opacity: 1; stroke: rgb(255, 255, 255); stroke-opacity: 1;\"/></g></g></g></g></g><g class=\"overplot\"/><path class=\"xlines-above crisp\" d=\"M49,191.5H340\" style=\"fill: none; stroke-width: 1px; stroke: rgb(36, 36, 36); stroke-opacity: 1;\"/><path class=\"ylines-above crisp\" d=\"M49.5,10V191\" style=\"fill: none; stroke-width: 1px; stroke: rgb(36, 36, 36); stroke-opacity: 1;\"/><g class=\"overlines-above\"/><g class=\"xaxislayer-above\"><path class=\"xtick ticks crisp\" d=\"M0,192v5\" transform=\"translate(98.33,0)\" style=\"stroke: rgb(68, 68, 68); stroke-opacity: 1; stroke-width: 1px;\"/><path class=\"xtick ticks crisp\" d=\"M0,192v5\" transform=\"translate(195,0)\" style=\"stroke: rgb(68, 68, 68); stroke-opacity: 1; stroke-width: 1px;\"/><path class=\"xtick ticks crisp\" d=\"M0,192v5\" transform=\"translate(291.66999999999996,0)\" style=\"stroke: rgb(68, 68, 68); stroke-opacity: 1; stroke-width: 1px;\"/><g class=\"xtick\"><text text-anchor=\"middle\" x=\"0\" y=\"211.4\" transform=\"translate(98.33,0)\" style=\"font-family: 'Open Sans', verdana, arial, sans-serif; font-size: 12px; fill: rgb(36, 36, 36); fill-opacity: 1; white-space: pre; opacity: 1;\">low</text></g><g class=\"xtick\"><text text-anchor=\"middle\" x=\"0\" y=\"211.4\" style=\"font-family: 'Open Sans', verdana, arial, sans-serif; font-size: 12px; fill: rgb(36, 36, 36); fill-opacity: 1; white-space: pre; opacity: 1;\" transform=\"translate(195,0)\">medium</text></g><g class=\"xtick\"><text text-anchor=\"middle\" x=\"0\" y=\"211.4\" style=\"font-family: 'Open Sans', verdana, arial, sans-serif; font-size: 12px; fill: rgb(36, 36, 36); fill-opacity: 1; white-space: pre; opacity: 1;\" transform=\"translate(291.66999999999996,0)\">high</text></g></g><g class=\"yaxislayer-above\"><path class=\"ytick ticks crisp\" d=\"M49,0h-5\" transform=\"translate(0,191)\" style=\"stroke: rgb(68, 68, 68); stroke-opacity: 1; stroke-width: 1px;\"/><path class=\"ytick ticks crisp\" d=\"M49,0h-5\" transform=\"translate(0,156.61)\" style=\"stroke: rgb(68, 68, 68); stroke-opacity: 1; stroke-width: 1px;\"/><path class=\"ytick ticks crisp\" d=\"M49,0h-5\" transform=\"translate(0,122.22)\" style=\"stroke: rgb(68, 68, 68); stroke-opacity: 1; stroke-width: 1px;\"/><path class=\"ytick ticks crisp\" d=\"M49,0h-5\" transform=\"translate(0,87.83)\" style=\"stroke: rgb(68, 68, 68); stroke-opacity: 1; stroke-width: 1px;\"/><path class=\"ytick ticks crisp\" d=\"M49,0h-5\" transform=\"translate(0,53.44)\" style=\"stroke: rgb(68, 68, 68); stroke-opacity: 1; stroke-width: 1px;\"/><path class=\"ytick ticks crisp\" d=\"M49,0h-5\" transform=\"translate(0,19.05)\" style=\"stroke: rgb(68, 68, 68); stroke-opacity: 1; stroke-width: 1px;\"/><g class=\"ytick\"><text text-anchor=\"end\" x=\"41.6\" y=\"4.199999999999999\" transform=\"translate(0,191)\" style=\"font-family: 'Open Sans', verdana, arial, sans-serif; font-size: 12px; fill: rgb(36, 36, 36); fill-opacity: 1; white-space: pre; opacity: 1;\">0</text></g><g class=\"ytick\"><text text-anchor=\"end\" x=\"41.6\" y=\"4.199999999999999\" style=\"font-family: 'Open Sans', verdana, arial, sans-serif; font-size: 12px; fill: rgb(36, 36, 36); fill-opacity: 1; white-space: pre; opacity: 1;\" transform=\"translate(0,156.61)\">1</text></g><g class=\"ytick\"><text text-anchor=\"end\" x=\"41.6\" y=\"4.199999999999999\" style=\"font-family: 'Open Sans', verdana, arial, sans-serif; font-size: 12px; fill: rgb(36, 36, 36); fill-opacity: 1; white-space: pre; opacity: 1;\" transform=\"translate(0,122.22)\">2</text></g><g class=\"ytick\"><text text-anchor=\"end\" x=\"41.6\" y=\"4.199999999999999\" style=\"font-family: 'Open Sans', verdana, arial, sans-serif; font-size: 12px; fill: rgb(36, 36, 36); fill-opacity: 1; white-space: pre; opacity: 1;\" transform=\"translate(0,87.83)\">3</text></g><g class=\"ytick\"><text text-anchor=\"end\" x=\"41.6\" y=\"4.199999999999999\" style=\"font-family: 'Open Sans', verdana, arial, sans-serif; font-size: 12px; fill: rgb(36, 36, 36); fill-opacity: 1; white-space: pre; opacity: 1;\" transform=\"translate(0,53.44)\">4</text></g><g class=\"ytick\"><text text-anchor=\"end\" x=\"41.6\" y=\"4.199999999999999\" style=\"font-family: 'Open Sans', verdana, arial, sans-serif; font-size: 12px; fill: rgb(36, 36, 36); fill-opacity: 1; white-space: pre; opacity: 1;\" transform=\"translate(0,19.05)\">5</text></g></g><g class=\"overaxes-above\"/></g></g><g class=\"polarlayer\"/><g class=\"smithlayer\"/><g class=\"ternarylayer\"/><g class=\"geolayer\"/><g class=\"funnelarealayer\"/><g class=\"pielayer\"/><g class=\"iciclelayer\"/><g class=\"treemaplayer\"/><g class=\"sunburstlayer\"/><g class=\"glimages\"/><defs id=\"topdefs-708a9b\"><g class=\"clips\"/></defs><g class=\"layer-above\"><g class=\"imagelayer\"/><g class=\"shapelayer\"/></g><g class=\"infolayer\"><g class=\"g-gtitle\"/><g class=\"g-xtitle\"><text class=\"xtitle\" x=\"195\" y=\"239.70625\" text-anchor=\"middle\" style=\"font-family: 'Open Sans', verdana, arial, sans-serif; font-size: 14px; fill: rgb(36, 36, 36); opacity: 1; font-weight: normal; white-space: pre;\">Toy Dog Suitability for Children</text></g><g class=\"g-ytitle\" transform=\"translate(5.0654296875,0)\"><text class=\"ytitle\" transform=\"rotate(-90,9.934375000000003,100.5)\" x=\"9.934375000000003\" y=\"100.5\" text-anchor=\"middle\" style=\"font-family: 'Open Sans', verdana, arial, sans-serif; font-size: 14px; fill: rgb(36, 36, 36); opacity: 1; font-weight: normal; white-space: pre;\">value</text></g></g></svg>"
      ]
     },
     "metadata": {},
     "output_type": "display_data"
    }
   ],
   "source": [
    "toy_dogs = dogs.query('group == \"toy\"')\n",
    "fig = px.bar(toy_dogs.groupby('children')['children'].count())\n",
    "fig.update_layout(height=250, width=350, showlegend=False)\n",
    "fig.update_xaxes(ticktext=['low', 'medium', 'high'],\n",
    "                 tickvals=np.arange(1, 4, 1),\n",
    "                 title='Toy Dog Suitability for Children')\n",
    "fig.show()"
   ]
  },
  {
   "cell_type": "markdown",
   "metadata": {},
   "source": [
    "We can transform `children` by replacing the numbers with their string\n",
    "descriptions.  Changing 1, 2, 3 into low, medium, and high makes\n",
    "it easier to  recognize that  `children` is categorical. With strings, we would\n",
    "not be tempted to compute a mean, the categories would be connected to their\n",
    "meaning, and labels for plots would have reasonable values by default.\n",
    "But, we do not always want to have categorical data represented by strings.\n",
    "Strings generally take up more computer memory to store, which can greatly \n",
    "increase the size of a data set if it contains many categorical features."
   ]
  },
  {
   "cell_type": "markdown",
   "metadata": {},
   "source": [
    "**Collapse Categories.** Let's create a new column, called `play`, to represent\n",
    "the groups of dogs whose \"purpose\" is to play (or not). (This is a fictitious\n",
    "distinction used for demonstration purposes). This category consists of the toy\n",
    "and non-sporting breeds. The new feature, `play`, is a transformation of the feature\n",
    "`group` that collapses categories: toy and non-sporting are combined into one\n",
    "category, and the remaining categories are placed in a second, non-play\n",
    "category.  The boolean (`bool`) storage type is useful to indicate the\n",
    "presence or absence of this characteristic."
   ]
  },
  {
   "cell_type": "code",
   "execution_count": 29,
   "metadata": {},
   "outputs": [
    {
     "data": {
      "text/html": [
       "<div>\n",
       "<style scoped>\n",
       "    .dataframe tbody tr th:only-of-type {\n",
       "        vertical-align: middle;\n",
       "    }\n",
       "\n",
       "    .dataframe tbody tr th {\n",
       "        vertical-align: top;\n",
       "    }\n",
       "\n",
       "    .dataframe thead th {\n",
       "        text-align: right;\n",
       "    }\n",
       "</style>\n",
       "<table border=\"1\" class=\"dataframe\">\n",
       "  <thead>\n",
       "    <tr style=\"text-align: right;\">\n",
       "      <th></th>\n",
       "      <th>group</th>\n",
       "      <th>play</th>\n",
       "    </tr>\n",
       "  </thead>\n",
       "  <tbody>\n",
       "    <tr>\n",
       "      <th>0</th>\n",
       "      <td>herding</td>\n",
       "      <td>False</td>\n",
       "    </tr>\n",
       "    <tr>\n",
       "      <th>1</th>\n",
       "      <td>terrier</td>\n",
       "      <td>False</td>\n",
       "    </tr>\n",
       "    <tr>\n",
       "      <th>2</th>\n",
       "      <td>sporting</td>\n",
       "      <td>False</td>\n",
       "    </tr>\n",
       "    <tr>\n",
       "      <th>...</th>\n",
       "      <td>...</td>\n",
       "      <td>...</td>\n",
       "    </tr>\n",
       "    <tr>\n",
       "      <th>169</th>\n",
       "      <td>terrier</td>\n",
       "      <td>False</td>\n",
       "    </tr>\n",
       "    <tr>\n",
       "      <th>170</th>\n",
       "      <td>sporting</td>\n",
       "      <td>False</td>\n",
       "    </tr>\n",
       "    <tr>\n",
       "      <th>171</th>\n",
       "      <td>non-sporting</td>\n",
       "      <td>True</td>\n",
       "    </tr>\n",
       "  </tbody>\n",
       "</table>\n",
       "<p>172 rows × 2 columns</p>\n",
       "</div>"
      ],
      "text/plain": [
       "            group   play\n",
       "0         herding  False\n",
       "1         terrier  False\n",
       "2        sporting  False\n",
       "..            ...    ...\n",
       "169       terrier  False\n",
       "170      sporting  False\n",
       "171  non-sporting   True\n",
       "\n",
       "[172 rows x 2 columns]"
      ]
     },
     "execution_count": 29,
     "metadata": {},
     "output_type": "execute_result"
    }
   ],
   "source": [
    "with_play = dogs.assign(\n",
    "    play=(dogs[\"group\"] == \"toy\") | (dogs[\"group\"] == \"non-sporting\"))\n",
    "with_play[['group','play']]"
   ]
  },
  {
   "cell_type": "markdown",
   "metadata": {},
   "source": [
    "Representing a two-category qualitative feature as a boolean has a few\n",
    "advantages. For example, the mean of `play` makes sense because it returns the\n",
    "fraction of `True` values. When booleans are used for numeric calcuations,\n",
    "`True` becomes 1 and `False` becomes 0.\n"
   ]
  },
  {
   "cell_type": "code",
   "execution_count": 30,
   "metadata": {},
   "outputs": [
    {
     "data": {
      "text/plain": [
       "0.22093023255813954"
      ]
     },
     "execution_count": 30,
     "metadata": {},
     "output_type": "execute_result"
    }
   ],
   "source": [
    "with_play['play'].mean()"
   ]
  },
  {
   "cell_type": "markdown",
   "metadata": {},
   "source": [
    "This storage type gives us a shortcut to compute counts and averages\n",
    "of boolean values. Later, in {numref}`Chapter %s <ch:linear>`, we'll see that it's also a handy \n",
    "encoding for modeling. "
   ]
  },
  {
   "cell_type": "markdown",
   "metadata": {},
   "source": [
    "**Convert Quantitative to Ordinal.** Finally, another transformation that we\n",
    "sometimes find useful is to convert numeric values into categories. For\n",
    "example, we might collapse the values in  `ailments` into categories: 0, 1, 2,\n",
    "3, 4+. In other words, we turn `ailments` from a quantitative feature into an\n",
    "ordinal feature with the mapping 0→0, 1→1, 2→2, 3→3, and any value 4 or larger\n",
    "→ 4+.  We might want to make this transformation because so few breeds have\n",
    "more than three genetic ailments. This simplification can be clearer\n",
    "and adequate for an investigation."
   ]
  },
  {
   "cell_type": "markdown",
   "metadata": {},
   "source": [
    ":::{note}\n",
    "\n",
    "As of this writing (late 2021), `pandas` also\n",
    "implements a `category` dtype which is\n",
    "designed to work with qualitative data.\n",
    "However, this storage type is not yet widely\n",
    "adopted by the visualization and modeling libraries, which limits its\n",
    "usefulness. For that reason, we do not transform our qualitative variables into\n",
    "the `category` dtype.\n",
    "We expect that future readers may want to use the `category` dtype as more\n",
    "libraries support it.\n",
    "\n",
    ":::"
   ]
  },
  {
   "cell_type": "markdown",
   "metadata": {},
   "source": [
    "When we convert a quantitative feature to ordinal, we lose information. We can't go back. That is, if we know the number of ailments for a breed is four or more, we can't recreate the actual numeric value.\n",
    "The same thing happens when we collapse categories. For this reason, it's good practice to keep the original feature. If we need to check our work or change categories we can document and recreate our steps. \n",
    "\n",
    "In general, the feature type helps us figure out what kind of plot is most appropriate.\n",
    "We discuss the mapping between feature type and plots next."
   ]
  },
  {
   "cell_type": "markdown",
   "metadata": {},
   "source": [
    "## The Importance of Feature Types"
   ]
  },
  {
   "cell_type": "markdown",
   "metadata": {},
   "source": [
    "Feature types guide us in our data analysis.  They help specify the operations,\n",
    "visualizations, and models we can meaningfully apply to the data.\n",
    "{numref}`Table %s <plots-for-features>` matches the feature type(s) to the various kinds of plots that are typically good options. Whether the variable(s) are quantitative or qualitative generally\n",
    "determines the set of viable plots to make, although there are exceptions.\n",
    "Other factors that enter into the decision are the number of observations and\n",
    "whether the feature takes on only a few distinct values. For example, we might\n",
    "make a bar chart, rather than a histogram, for a discrete quantitative variable."
   ]
  },
  {
   "cell_type": "markdown",
   "metadata": {},
   "source": [
    ":::{table} Mapping of Plots to Feature Types\n",
    ":name: plots-for-features\n",
    "\n",
    "\n",
    "| Feature Type | Dimension | Plot \n",
    "|: --- |: --- |: --- \n",
    "| Quantitative | One Feature | Rug plot, histogram, density curve, box-and-whisker plot, violin plot \n",
    "| Qualitative | One Feature | Bar plot, dot chart, line plot, pie chart \n",
    "| Quantitative | Two Features | Scatter plot, smooth curve, contour plot, heat map, quantile-quantile plot\n",
    "| Qualitative | Two Features | Side-by-side bar plots, mosaic plot, overlaid lines\n",
    "| Mixed | Two Features | Overlaid density curves, side-by-side box-and-whisker plots, overlaid smooth curves, quantile-quantile plot\n",
    "\n",
    "\n",
    ":::"
   ]
  },
  {
   "cell_type": "markdown",
   "metadata": {},
   "source": [
    "The feature type also helps us decide the kind of summary statistics to\n",
    "calculate. With qualitative data, we usually don't compute means or standard\n",
    "deviations, and instead compute the count, fraction, or percentage of records\n",
    "in each category. With a quantitative feature, we compute the mean or median as\n",
    "a measure of center, and, respectively, the standard deviation or inner\n",
    "quartile range (75th percentile - 25th percentile) as a measure of spread.  In\n",
    "addition to the quartiles, we may find other percentiles informative."
   ]
  },
  {
   "cell_type": "markdown",
   "metadata": {},
   "source": [
    ":::{note}\n",
    "\n",
    "The *n*th percentile is that value *q* such that *n% of the data\n",
    "values fall at or below it.* The value *q* might not be unique, and there are\n",
    "several approaches to select a unique value from the possibilities. With enough\n",
    "data, there should be little difference between these definitions.\n",
    "\n",
    "To compute percentiles in Python, we prefer using:\n",
    "\n",
    "```python\n",
    "# Uses our definition of percentile\n",
    "np.percentile(data, interpolation='lower')\n",
    "```\n",
    "\n",
    ":::"
   ]
  },
  {
   "cell_type": "markdown",
   "metadata": {},
   "source": [
    "When exploring data, we need to know how to interpret the shapes that our\n",
    "plots reveal. We also need to recognize certain kinds of features\n",
    "and understand what they tell us about the data.\n",
    "The next three sections give guidance with\n",
    "this interpretation. We also introduce many of the types of plots listed in\n",
    "{numref}`Table %s <plots-for-features>`\n",
    "through the examples. Those that are not introduced here are\n",
    "covered in {numref}`Chapter %s <ch:viz>`."
   ]
  },
  {
   "cell_type": "code",
   "execution_count": null,
   "metadata": {},
   "outputs": [],
   "source": []
  }
 ],
 "metadata": {
  "kernelspec": {
   "display_name": "Python 3",
   "language": "python",
   "name": "python3"
  },
  "language_info": {
   "codemirror_mode": {
    "name": "ipython",
    "version": 3
   },
   "file_extension": ".py",
   "mimetype": "text/x-python",
   "name": "python",
   "nbconvert_exporter": "python",
   "pygments_lexer": "ipython3",
   "version": "3.9.4"
  }
 },
 "nbformat": 4,
 "nbformat_minor": 4
}
