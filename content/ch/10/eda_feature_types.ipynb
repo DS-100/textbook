{
 "cells": [
  {
   "cell_type": "code",
   "execution_count": 22,
   "metadata": {
    "tags": [
     "remove-cell"
    ]
   },
   "outputs": [],
   "source": [
    "# Reference: https://jupyterbook.org/interactive/hiding.html\n",
    "# Use {hide, remove}-{input, output, cell} tags to hiding content\n",
    "\n",
    "import numpy as np\n",
    "import matplotlib.pyplot as plt\n",
    "import pandas as pd\n",
    "import seaborn as sns\n",
    "%matplotlib inline\n",
    "import ipywidgets as widgets\n",
    "from ipywidgets import interact, interactive, fixed, interact_manual\n",
    "from IPython.display import display\n",
    "import myst_nb\n",
    "\n",
    "sns.set()\n",
    "sns.set_context('talk')\n",
    "np.set_printoptions(threshold=20, precision=2, suppress=True)\n",
    "pd.set_option('display.max_rows', 7)\n",
    "pd.set_option('display.max_columns', 8)\n",
    "pd.set_option('precision', 2)\n",
    "# This option stops scientific notation for pandas\n",
    "# pd.set_option('display.float_format', '{:.2f}'.format)\n",
    "\n",
    "def display_df(df, rows=pd.options.display.max_rows,\n",
    "               cols=pd.options.display.max_columns):\n",
    "    with pd.option_context('display.max_rows', rows,\n",
    "                           'display.max_columns', cols):\n",
    "        display(df)"
   ]
  },
  {
   "cell_type": "code",
   "execution_count": 2,
   "metadata": {
    "tags": [
     "remove-cell"
    ]
   },
   "outputs": [],
   "source": [
    "def df_interact(df, nrows=7, ncols=7):\n",
    "    '''\n",
    "    Outputs sliders that show rows and columns of df\n",
    "    '''\n",
    "    def peek(row=0, col=0):\n",
    "        return df.iloc[row:row + nrows, col:col + ncols]\n",
    "\n",
    "    row_arg = (0, len(df), nrows) if len(df) > nrows else fixed(0)\n",
    "    col_arg = ((0, len(df.columns), ncols)\n",
    "               if len(df.columns) > ncols else fixed(0))\n",
    "    \n",
    "    interact(peek, row=row_arg, col=col_arg)\n",
    "    print('({} rows, {} columns) total'.format(df.shape[0], df.shape[1]))"
   ]
  },
  {
   "cell_type": "markdown",
   "metadata": {},
   "source": [
    "(ch:eda_feature_types)=\n",
    "# Feature Types\n",
    "\n",
    "Before we make any exploratory plots, we examine the features (also known as\n",
    "variables) of the data and decide on their type, which we call the **feature\n",
    "type** or **variable type**. Although there are multiple ways of delineating\n",
    "feature types, in this book we consider three basic ones:"
   ]
  },
  {
   "cell_type": "markdown",
   "metadata": {},
   "source": [
    "1. **Nominal feature:** A feature that represents \"named\" categories, where the\n",
    "   categories do not have a natural ordering, is called nominal. Examples\n",
    "   include: political party affiliation (Democrat, Republican, Green, Other);\n",
    "   American Kennel Club breed group (herding, hound, non-sporting, sporting,\n",
    "   terrier, toy, working); and computer operating system (Windows, MacOS,\n",
    "   Linux).\n",
    "\n",
    "2. **Ordinal feature:** Measurements that represent ordered categories are\n",
    "   called ordinal. Examples of ordinal features are: T-shirt size (small,\n",
    "   medium, large); Likert-scale response (disagree, neutral, agree); and level\n",
    "   of education (high school, college, graduate school). It is important to\n",
    "   note that with an ordinal feature, the difference between, say, small and\n",
    "   medium, need not be the same as the difference between medium and large. We\n",
    "   can order the categories, but the differences between consecutive categories\n",
    "   may not be quantifiable. Even when they can be quantified, the differences\n",
    "   between consecutive categories may vary. We give examples later in this\n",
    "   section.\n",
    "\n",
    "    Ordinal and nominal data are subtypes of **categorical** data. Another name\n",
    "    for these types is **qualitative**. In contrast we also have\n",
    "    **quantitative** features.\n",
    "\n",
    "\n",
    "3. **Quantitative feature:** These data represent numeric amounts or quantities\n",
    "   and so are called quantitative. Examples include: height measured to the\n",
    "   nearest cm, price reported in USD, and distance measured to the nearest\n",
    "   tenth of a km.  Quantitative features can be further divided into\n",
    "   **discrete**, meaning that only a small set of values are possible, and\n",
    "   **continuous**, meaning that the quantity could in principal be reported to\n",
    "   arbitrary precision. For example, the number of siblings takes on a discrete\n",
    "   set of values (such as, 0, 1, 2,..., 8). On the other hand, height is\n",
    "   measured in centimeters and can theoretically be reported to any number of\n",
    "   decimal places so we consider it continuous. There is no hard and fast rule\n",
    "   to determine whether a quantity is discrete or continuous.\n"
   ]
  },
  {
   "cell_type": "markdown",
   "metadata": {},
   "source": [
    "**Data Storage Types vs. Feature Types**\n",
    "\n",
    "Each column in a  `pandas` data frame has its own **storage type**. These types\n",
    "can be integer, floating point, boolean, date-time format, category, and object\n",
    "(strings of varying length are stored as objects in python with pointers to the\n",
    "strings).  It is essential to understand that a feature type is not the same as\n",
    "a pandas storage type. We use the term *feature type* to refer to the\n",
    "conceptual notion of the information, and the term *storage type* refers to the\n",
    "representation of the information in the computer."
   ]
  },
  {
   "cell_type": "markdown",
   "metadata": {},
   "source": [
    ":::{note}\n",
    "\n",
    "Pandas calls the storage type `dtype`, which is short for data type.\n",
    "We refrain from using the term *data type* here because it can be confused with\n",
    "both storage type and feature type.\n",
    "\n",
    ":::"
   ]
  },
  {
   "cell_type": "markdown",
   "metadata": {},
   "source": [
    "A feature stored as an integer can represent nominal data, strings can be\n",
    "quantitative (e.g., \"\\$100.00\"),  and, in practice, boolean values often\n",
    "represent nominal features that have only two possible values.\n"
   ]
  },
  {
   "cell_type": "markdown",
   "metadata": {},
   "source": [
    "In order to determine a feature type, we often need to consult the\n",
    "dataset’s **data dictionary** or **codebook**. A data dictionary is a document\n",
    "included with the data that describes what each column in the data table\n",
    "represents.  In the following example, we take a look at the storage types and\n",
    "feature types of the columns in the dogs data frame and see that the storage\n",
    "type may not be a good indicator of the kind of information contained in a\n",
    "field."
   ]
  },
  {
   "cell_type": "markdown",
   "metadata": {},
   "source": [
    "Next, we'll give concrete examples of both storage and feature types."
   ]
  },
  {
   "cell_type": "markdown",
   "metadata": {},
   "source": [
    "## Example: AKC Dog Breeds"
   ]
  },
  {
   "cell_type": "markdown",
   "metadata": {},
   "source": [
    "Let's take a look at the data table from the American Kennel Club. The subset\n",
    "of AKC data we are working with has 12 features and 172 breeds.\n"
   ]
  },
  {
   "cell_type": "code",
   "execution_count": 3,
   "metadata": {},
   "outputs": [
    {
     "data": {
      "text/html": [
       "<div>\n",
       "<style scoped>\n",
       "    .dataframe tbody tr th:only-of-type {\n",
       "        vertical-align: middle;\n",
       "    }\n",
       "\n",
       "    .dataframe tbody tr th {\n",
       "        vertical-align: top;\n",
       "    }\n",
       "\n",
       "    .dataframe thead th {\n",
       "        text-align: right;\n",
       "    }\n",
       "</style>\n",
       "<table border=\"1\" class=\"dataframe\">\n",
       "  <thead>\n",
       "    <tr style=\"text-align: right;\">\n",
       "      <th></th>\n",
       "      <th>breed</th>\n",
       "      <th>group</th>\n",
       "      <th>score</th>\n",
       "      <th>longevity</th>\n",
       "      <th>...</th>\n",
       "      <th>size</th>\n",
       "      <th>weight</th>\n",
       "      <th>height</th>\n",
       "      <th>repetition</th>\n",
       "    </tr>\n",
       "  </thead>\n",
       "  <tbody>\n",
       "    <tr>\n",
       "      <th>0</th>\n",
       "      <td>Border Collie</td>\n",
       "      <td>herding</td>\n",
       "      <td>3.64</td>\n",
       "      <td>12.52</td>\n",
       "      <td>...</td>\n",
       "      <td>medium</td>\n",
       "      <td>NaN</td>\n",
       "      <td>51.0</td>\n",
       "      <td>&lt;5</td>\n",
       "    </tr>\n",
       "    <tr>\n",
       "      <th>1</th>\n",
       "      <td>Border Terrier</td>\n",
       "      <td>terrier</td>\n",
       "      <td>3.61</td>\n",
       "      <td>14.00</td>\n",
       "      <td>...</td>\n",
       "      <td>small</td>\n",
       "      <td>6.0</td>\n",
       "      <td>NaN</td>\n",
       "      <td>15-25</td>\n",
       "    </tr>\n",
       "    <tr>\n",
       "      <th>2</th>\n",
       "      <td>Brittany</td>\n",
       "      <td>sporting</td>\n",
       "      <td>3.54</td>\n",
       "      <td>12.92</td>\n",
       "      <td>...</td>\n",
       "      <td>medium</td>\n",
       "      <td>16.0</td>\n",
       "      <td>48.0</td>\n",
       "      <td>5-15</td>\n",
       "    </tr>\n",
       "    <tr>\n",
       "      <th>...</th>\n",
       "      <td>...</td>\n",
       "      <td>...</td>\n",
       "      <td>...</td>\n",
       "      <td>...</td>\n",
       "      <td>...</td>\n",
       "      <td>...</td>\n",
       "      <td>...</td>\n",
       "      <td>...</td>\n",
       "      <td>...</td>\n",
       "    </tr>\n",
       "    <tr>\n",
       "      <th>169</th>\n",
       "      <td>Wire Fox Terrier</td>\n",
       "      <td>terrier</td>\n",
       "      <td>NaN</td>\n",
       "      <td>13.17</td>\n",
       "      <td>...</td>\n",
       "      <td>small</td>\n",
       "      <td>8.0</td>\n",
       "      <td>38.0</td>\n",
       "      <td>25-40</td>\n",
       "    </tr>\n",
       "    <tr>\n",
       "      <th>170</th>\n",
       "      <td>Wirehaired Pointing Griffon</td>\n",
       "      <td>sporting</td>\n",
       "      <td>NaN</td>\n",
       "      <td>8.80</td>\n",
       "      <td>...</td>\n",
       "      <td>medium</td>\n",
       "      <td>NaN</td>\n",
       "      <td>56.0</td>\n",
       "      <td>25-40</td>\n",
       "    </tr>\n",
       "    <tr>\n",
       "      <th>171</th>\n",
       "      <td>Xoloitzcuintli</td>\n",
       "      <td>non-sporting</td>\n",
       "      <td>NaN</td>\n",
       "      <td>NaN</td>\n",
       "      <td>...</td>\n",
       "      <td>medium</td>\n",
       "      <td>NaN</td>\n",
       "      <td>42.0</td>\n",
       "      <td>NaN</td>\n",
       "    </tr>\n",
       "  </tbody>\n",
       "</table>\n",
       "<p>172 rows × 12 columns</p>\n",
       "</div>"
      ],
      "text/plain": [
       "                           breed         group  score  longevity  ...    size  \\\n",
       "0                  Border Collie       herding   3.64      12.52  ...  medium   \n",
       "1                 Border Terrier       terrier   3.61      14.00  ...   small   \n",
       "2                       Brittany      sporting   3.54      12.92  ...  medium   \n",
       "..                           ...           ...    ...        ...  ...     ...   \n",
       "169             Wire Fox Terrier       terrier    NaN      13.17  ...   small   \n",
       "170  Wirehaired Pointing Griffon      sporting    NaN       8.80  ...  medium   \n",
       "171               Xoloitzcuintli  non-sporting    NaN        NaN  ...  medium   \n",
       "\n",
       "     weight  height  repetition  \n",
       "0       NaN    51.0          <5  \n",
       "1       6.0     NaN       15-25  \n",
       "2      16.0    48.0        5-15  \n",
       "..      ...     ...         ...  \n",
       "169     8.0    38.0       25-40  \n",
       "170     NaN    56.0       25-40  \n",
       "171     NaN    42.0         NaN  \n",
       "\n",
       "[172 rows x 12 columns]"
      ]
     },
     "execution_count": 3,
     "metadata": {},
     "output_type": "execute_result"
    }
   ],
   "source": [
    "dogs = pd.read_csv('data/akc.csv')\n",
    "dogs"
   ]
  },
  {
   "cell_type": "markdown",
   "metadata": {},
   "source": [
    "A cursory glance at the table shows us that breed, group and size appear to be\n",
    "strings, and the other columns numbers. The summary of the data frame, shown\n",
    "below, provides the index, name,  count of non-null values, and dtype for each\n",
    "column."
   ]
  },
  {
   "cell_type": "code",
   "execution_count": 4,
   "metadata": {},
   "outputs": [
    {
     "name": "stdout",
     "output_type": "stream",
     "text": [
      "<class 'pandas.core.frame.DataFrame'>\n",
      "RangeIndex: 172 entries, 0 to 171\n",
      "Data columns (total 12 columns):\n",
      " #   Column          Non-Null Count  Dtype  \n",
      "---  ------          --------------  -----  \n",
      " 0   breed           172 non-null    object \n",
      " 1   group           172 non-null    object \n",
      " 2   score           87 non-null     float64\n",
      " 3   longevity       135 non-null    float64\n",
      " 4   ailments        148 non-null    float64\n",
      " 5   purchase_price  146 non-null    float64\n",
      " 6   grooming        112 non-null    float64\n",
      " 7   children        112 non-null    float64\n",
      " 8   size            172 non-null    object \n",
      " 9   weight          86 non-null     float64\n",
      " 10  height          159 non-null    float64\n",
      " 11  repetition      132 non-null    object \n",
      "dtypes: float64(8), object(4)\n",
      "memory usage: 16.2+ KB\n"
     ]
    }
   ],
   "source": [
    "dogs.info()"
   ]
  },
  {
   "cell_type": "markdown",
   "metadata": {},
   "source": [
    "Several columns of this data frame have a numeric computational type, as\n",
    "signified by  `float64`, which means that the column can contain non-integers.\n",
    "Also, note that `pandas` encodes string columns as the `object` dtype rather\n",
    "than using a `string` dtype.\n",
    "Notice that we guessed incorrectly that `repetition` is quantitative.\n",
    "Looking a bit more carefully at\n",
    "the data table, we see that `repetition` contains string values for ranges,\n",
    "such as \"< 5\", \"15-25\" and \"25-40\", so this feature is ordinal.\n"
   ]
  },
  {
   "cell_type": "markdown",
   "metadata": {},
   "source": [
    ":::{note}\n",
    "\n",
    "**Why are decimal columns stored as the `float64` dtype?**\n",
    "In computer architecture, a floating-point number, or \"float\" for short, \n",
    "refers to a number that can have a decimal component. We won't go in-depth\n",
    "into computer architecture in this book, but we will point out when it\n",
    "affects terminology, as in this case.\n",
    "The dtype `float64` says that the column contains decimal numbers that each\n",
    "take up 64 bits of space when stored in computer memory.\n",
    "\n",
    "**Why are strings stored as the `object` dtype?** Essentially, `pandas` uses\n",
    "optimized storage types for numeric data, like `float64` or `int64`.\n",
    "However, it doesn't have optimizations for Python objects like strings,\n",
    "dictionaries, or sets, so these are all stored as the `object` dtype.\n",
    "This means that the `object` dtype is ambiguous, but in most real-world cases\n",
    "we know whether `object` columns contain strings or some other Python type.\n",
    "\n",
    ":::"
   ]
  },
  {
   "cell_type": "markdown",
   "metadata": {},
   "source": [
    "Next, let's look at an example where the storage type differs from the\n",
    "feature type.\n",
    "At a first glance, we might guess `ailments` and `children` are quantitative\n",
    "features because they are stored as `float64` dtypes. \n",
    "But, let's look at the counts of their values."
   ]
  },
  {
   "cell_type": "code",
   "execution_count": 8,
   "metadata": {},
   "outputs": [
    {
     "data": {
      "text/plain": [
       "0.0    61\n",
       "1.0    42\n",
       "2.0    24\n",
       "4.0    10\n",
       "3.0     6\n",
       "5.0     3\n",
       "8.0     1\n",
       "9.0     1\n",
       "Name: ailments, dtype: int64"
      ]
     },
     "metadata": {},
     "output_type": "display_data"
    }
   ],
   "source": [
    "display_df(dogs['ailments'].value_counts(), rows=8)"
   ]
  },
  {
   "cell_type": "code",
   "execution_count": 6,
   "metadata": {},
   "outputs": [
    {
     "data": {
      "text/plain": [
       "1.0    67\n",
       "2.0    35\n",
       "3.0    10\n",
       "Name: children, dtype: int64"
      ]
     },
     "execution_count": 6,
     "metadata": {},
     "output_type": "execute_result"
    }
   ],
   "source": [
    "dogs['children'].value_counts()"
   ]
  },
  {
   "cell_type": "markdown",
   "metadata": {},
   "source": [
    "Both `ailments` and `children` only take on a few integer values.\n",
    "What does a value\n",
    "of 3.0 for `children` or 9.0 for `ailments` mean? We need more information to\n",
    "figure this out. The name of the column and how the information is stored in\n",
    "the data frame is not enough.\n",
    "Instead, take a look the data dictionary, shown in the {ref}`akc-codebook`\n",
    "table below."
   ]
  },
  {
   "cell_type": "markdown",
   "metadata": {},
   "source": [
    ":::{table} AKC Dog Breed Codebook\n",
    ":name: akc-codebook\n",
    "\n",
    "| Feature        | Description                                                                                   |\n",
    "|----------------|-----------------------------------------------------------------------------------------------|\n",
    "| breed          | dog breed, e.g., Border Collie, Dalmatian, Vizsla                                             |\n",
    "| group          | American Kennel Club grouping (herding, hound, non-sporting, sporting, terrier, toy, working) |\n",
    "| score          | AKC score                                                                                     |\n",
    "| longevity      | typical lifetime (years)                                                                      |\n",
    "| ailments       | number of serious genetic ailments                                                            |\n",
    "| purchase_price | average purchase price from puppyfind.com                                                     |\n",
    "| grooming       | grooming required once every: 1 = day, 2 = week, 3 = few weeks                                |\n",
    "| children       | suitability for children: 1 = high, 2 = medium, 3 = low                                       |\n",
    "| size           | size: small, medium, large                                                                    |\n",
    "| weight         | typical weight (kg)                                                                           |\n",
    "| height         | typical height from the shoulder (cm)                                                         |\n",
    "| repetition     | number of repetitions to understand a new command: <5, 5-15, 15-25, 25-40, 40-80, >80         |\n",
    "\n",
    ":::"
   ]
  },
  {
   "cell_type": "markdown",
   "metadata": {},
   "source": [
    "Although the data dictionary does not explicitly specify the feature types, the\n",
    "descriptions help us figure out that `children` represents the suitability of\n",
    "the breed for children, and a value of 1.0 corresponds to \"high\" suitability.\n",
    "We also figure out that `ailments` is a count of the number of serious genetic\n",
    "ailments that dogs of this breed tend to have.  Based on the codebook, we treat\n",
    "`children` as a categorical feature, even though it is stored as a floating\n",
    "point number, and since low < medium < high,  `children` is ordinal.  Since\n",
    "`ailments` is a count, we treat it as a quantitative (numeric) feature type,\n",
    "and for some analyses we further define it as discrete numeric because there\n",
    "are only a few possible values that `ailments` can take on."
   ]
  },
  {
   "cell_type": "markdown",
   "metadata": {},
   "source": [
    "The codebook also confirms that the features: `score`, `longevity`,\n",
    "`purchase_price`, `weight`, and `height` are quantitative. It makes sense to\n",
    "compare the longevity for one breed to that of another by looking at the\n",
    "difference in their `longevity` values. For example, chihuahuas typically live\n",
    "about four years longer than dachshunds (16.5 to 12.6 years). It also makes\n",
    "sense to compare the weight of one breed to another as a ratio; for example, a\n",
    "dachshund is usually about five times heavier than a chihuahua (11 kg to 2 kg).\n",
    "Of these quantitative features, `ailments` is the only one that we consider to\n",
    "be discrete."
   ]
  },
  {
   "cell_type": "markdown",
   "metadata": {},
   "source": [
    "The data dictionary descriptions for `breed` , `group`, `size` and `repetition`\n",
    "suggest that these features are qualitative. Each of these variables have\n",
    "different, and yet commonly found, characteristics that are worth exploring a\n",
    "bit more. We do this by examining the counts of each unique value for the\n",
    "feature. We begin with `breed`."
   ]
  },
  {
   "cell_type": "code",
   "execution_count": 9,
   "metadata": {},
   "outputs": [
    {
     "data": {
      "text/plain": [
       "Australian Cattle Dog         1\n",
       "Staffordshire Bull Terrier    1\n",
       "Dandie Dinmont Terrier        1\n",
       "                             ..\n",
       "Komondor                      1\n",
       "Boykin Spaniel                1\n",
       "Alaskan Malamute              1\n",
       "Name: breed, Length: 172, dtype: int64"
      ]
     },
     "execution_count": 9,
     "metadata": {},
     "output_type": "execute_result"
    }
   ],
   "source": [
    "dogs['breed'].value_counts()"
   ]
  },
  {
   "cell_type": "markdown",
   "metadata": {},
   "source": [
    "The `breed` feature has 172 unique values---that's the same as the number of\n",
    "records in the data frame.  We can think of `breed` as the **primary key**\n",
    "for the\n",
    "table. By design, each dog breed has one record, and this feature determines\n",
    "the dataset's granularity.  Although technically `breed` is a nominal feature,\n",
    "it doesn't really make sense to analyze it. We would want to confirm that all\n",
    "values are unique and clean, and otherwise we would only use it to, say, label\n",
    "unusual values in a plot."
   ]
  },
  {
   "cell_type": "markdown",
   "metadata": {},
   "source": [
    "Next we examine `group`."
   ]
  },
  {
   "cell_type": "code",
   "execution_count": 10,
   "metadata": {},
   "outputs": [
    {
     "data": {
      "text/plain": [
       "sporting        28\n",
       "terrier         28\n",
       "working         27\n",
       "hound           26\n",
       "herding         25\n",
       "non-sporting    19\n",
       "toy             19\n",
       "Name: group, dtype: int64"
      ]
     },
     "execution_count": 10,
     "metadata": {},
     "output_type": "execute_result"
    }
   ],
   "source": [
    "dogs['group'].value_counts()"
   ]
  },
  {
   "cell_type": "markdown",
   "metadata": {},
   "source": [
    "The `group` feature has seven unique values, and since these groupings do not\n",
    "have a natural ordering, we consider `group` a nominal feature.\n",
    "\n",
    "We look at `size` next.\n"
   ]
  },
  {
   "cell_type": "code",
   "execution_count": 11,
   "metadata": {},
   "outputs": [
    {
     "data": {
      "text/plain": [
       "medium    60\n",
       "small     58\n",
       "large     54\n",
       "Name: size, dtype: int64"
      ]
     },
     "execution_count": 11,
     "metadata": {},
     "output_type": "execute_result"
    }
   ],
   "source": [
    "dogs['size'].value_counts()"
   ]
  },
  {
   "cell_type": "markdown",
   "metadata": {},
   "source": [
    "The `size` feature has a natural ordering: small < medium < large so it is\n",
    "ordinal.  We don't know how the category \"small\" is determined, but we do know\n",
    "that a small breed is in some sense smaller than a medium-size breed, which is\n",
    "smaller than a large one.  We have an ordering, but differences and ratios\n",
    "don't make sense conceptually for this feature."
   ]
  },
  {
   "cell_type": "markdown",
   "metadata": {},
   "source": [
    "Nominal features, in comparison, do not provide meaning in even the direction\n",
    "of the differences. A dog breed in the group `sporting` and a breed  in `toy`\n",
    "differ from each other in several ways so `group` values are not easily reduced\n",
    "to an ordering."
   ]
  },
  {
   "cell_type": "markdown",
   "metadata": {},
   "source": [
    "The `repetition` feature is an example of a quantitative variable that has been\n",
    "collapsed into categories and become ordinal. The codebook tells us that\n",
    "`repetition` is the number of times a new command needs to be repeated before\n",
    "the dog understands it. The numeric values have been placed into categories:\n",
    "<5, 5-15, 15-25, 25-40, 40-80, >80."
   ]
  },
  {
   "cell_type": "code",
   "execution_count": 12,
   "metadata": {},
   "outputs": [
    {
     "data": {
      "text/plain": [
       "25-40     39\n",
       "15-25     29\n",
       "40-80     22\n",
       "5-15      21\n",
       "80-100    11\n",
       "<5        10\n",
       "Name: repetition, dtype: int64"
      ]
     },
     "execution_count": 12,
     "metadata": {},
     "output_type": "execute_result"
    }
   ],
   "source": [
    "dogs['repetition'].value_counts()"
   ]
  },
  {
   "cell_type": "markdown",
   "metadata": {},
   "source": [
    "Notice that these categories have different widths. The first is fewer than 5\n",
    "repetitions, while others are 10, 15, and 40 repetitions wide.  The ordering is\n",
    "clear, but the gaps from one category to the next are not the same magnitude.\n"
   ]
  },
  {
   "cell_type": "markdown",
   "metadata": {},
   "source": [
    "Now that we have double checked the values in the variables against the\n",
    "descriptions in the codebook, we can augment the data dictionary to include\n",
    "this additional information about the feature types.\n",
    "Our dictionary is shown in the {ref}`revised-akc-codebook` table below."
   ]
  },
  {
   "cell_type": "markdown",
   "metadata": {},
   "source": [
    ":::{table} Revised AKC Dog Breed Codebook\n",
    ":name: revised-akc-codebook\n",
    "\n",
    "Feature        |  Description                                                                                |  Feature Type             |  Storage Type\n",
    "----------------|---------------------------------------------------------------------------------------------|---------------------------|----------------\n",
    "breed           |  dog breed, e.g., Border Collie, Dalmatian, Vizsla                                          |  primary key              |  string\n",
    "group           |  AKC group (herding, hound, non-sporting, sporting, terrier, toy, working)                  |  qualitative - nominal    |  string\n",
    "score           |  AKC score                                                                                  |  quantitative             |  floating point\n",
    "longevity       |  typical lifetime (years)                                                                   |  quantitative             |  floating point\n",
    "ailments        |  number of serious genetic ailments (0, 1, ..., 9)                                          |  quantitative - discrete  |  floating point\n",
    "purchase_price  |  average purchase price from puppyfind.com                                                  |  quantitative             |  floating point\n",
    "grooming        |  groom once every: 1 = day, 2 = week, 3 = few weeks                                         |  qualitative - ordinal    |  floating point\n",
    "children        |  suitability for children: 1 = high, 2 = medium, 3 = low                                    |  qualitative - ordinal    |  floating point\n",
    "size            |  size: small, medium, large                                                                 |  qualitative - ordinal    |  string\n",
    "weight          |  typical weight (kg)                                                                        |  quantitative             |  floating point\n",
    "height          |  typical height from the shoulder (cm)                                                      |  quantitative             |  floating point\n",
    "repetition      |  number of repetitions to understand a new command:     <5, 5-15, 15-25, 25-40, 40-80, >80  |  qualitative - ordinal    |  string\n",
    "\n",
    ":::"
   ]
  },
  {
   "cell_type": "markdown",
   "metadata": {},
   "source": [
    "## Transforming Qualitative Features"
   ]
  },
  {
   "cell_type": "markdown",
   "metadata": {},
   "source": [
    "We discussed transformations in the {ref}`ch:wrangling` chapter,\n",
    "but there are a\n",
    "few additional transformations related to the categories of qualitative\n",
    "features that we may want to perform. We may want to:\n",
    "\n",
    "- Relabel categories\n",
    "- Collapse categories\n",
    "- Convert a quantitative feature into ordinal"
   ]
  },
  {
   "cell_type": "markdown",
   "metadata": {},
   "source": [
    "We'll explain when we may want to make these transformations and give examples."
   ]
  },
  {
   "cell_type": "markdown",
   "metadata": {},
   "source": [
    "**Relabel Categories.** Summary statistics, like the mean and the median, make\n",
    "sense for quantitative data, but typically not for qualitative data.  For\n",
    "example, the average price for toy breeds makes sense (\\$687), but\n",
    "the \"average\" of children suitability doesn't.\n",
    "However, `pandas` will happily compute the mean of the values in the `children`\n",
    "column if we ask it to."
   ]
  },
  {
   "cell_type": "code",
   "execution_count": 20,
   "metadata": {},
   "outputs": [
    {
     "data": {
      "text/plain": [
       "1.4910714285714286"
      ]
     },
     "execution_count": 20,
     "metadata": {},
     "output_type": "execute_result"
    }
   ],
   "source": [
    "# Don't use this value in actual data analysis!\n",
    "dogs[\"children\"].mean()"
   ]
  },
  {
   "cell_type": "markdown",
   "metadata": {},
   "source": [
    ":::{note}\n",
    "\n",
    "This is a key difference between storage types and feature types---storage\n",
    "types say what operations we can write code to *compute*, while\n",
    "feature types say what operations *make sense for the data*.\n",
    "\n",
    ":::"
   ]
  },
  {
   "cell_type": "markdown",
   "metadata": {},
   "source": [
    "Instead, we want to consider the distribution of ones, twos, and threes of\n",
    "`children` for toy breeds. "
   ]
  },
  {
   "cell_type": "code",
   "execution_count": 27,
   "metadata": {
    "tags": [
     "remove-cell"
    ]
   },
   "outputs": [
    {
     "data": {
      "application/papermill.record/image/png": "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\n",
      "application/papermill.record/text/plain": "<Figure size 432x288 with 1 Axes>"
     },
     "metadata": {
      "scrapbook": {
       "mime_prefix": "application/papermill.record/",
       "name": "children-bar-plot"
      }
     },
     "output_type": "display_data"
    },
    {
     "data": {
      "image/png": "[encoded data removed]",
      "text/plain": [
       "<Figure size 432x288 with 1 Axes>"
      ]
     },
     "metadata": {},
     "output_type": "display_data"
    }
   ],
   "source": [
    "# Store plot\n",
    "toy_dogs = dogs.query('group == \"toy\"')\n",
    "sns.countplot(data=toy_dogs, x='children')\n",
    "myst_nb.glue('children-bar-plot', plt.gcf(), display=False)"
   ]
  },
  {
   "cell_type": "code",
   "execution_count": null,
   "metadata": {
    "tags": [
     "remove-output"
    ]
   },
   "outputs": [],
   "source": [
    "toy_dogs = dogs.query('group == \"toy\"')\n",
    "sns.countplot(data=toy_dogs, x='children')"
   ]
  },
  {
   "cell_type": "markdown",
   "metadata": {},
   "source": [
    "```{glue:figure} children-bar-plot\n",
    ":name: children-bar-plot\n",
    "\n",
    "Bar plot of the ordinal feature,  `children`. The y-axis shows the\n",
    "counts associated with each category\n",
    "(1=low, 2=medium, 3= high suitability for children).\n",
    "```"
   ]
  },
  {
   "cell_type": "markdown",
   "metadata": {},
   "source": [
    "We can transform `children` by replacing the numbers with their string\n",
    "descriptions.  Changing 1, 2, 3 into low, medium, and high makes\n",
    "it easier to  recognize that  `children` is categorical. With strings, we would\n",
    "not be tempted to compute a mean, the categories would be connected to their\n",
    "meaning, and labels for plots would have reasonable values by default.\n",
    "Why would we not always want to have categorical data represented by strings?\n",
    "Strings generally take up more computer memory to store, which can greatly \n",
    "increase the size of a dataset if it contains many categorical features."
   ]
  },
  {
   "cell_type": "markdown",
   "metadata": {},
   "source": [
    "**Collapse Categories.** Let's create a new column, called `play`, to represent\n",
    "the groups of dogs whose \"purpose\" is to play (or not). (This is a fictitious\n",
    "distinction used for demonstration purposes). This group consists of the toy\n",
    "and non-sporting breeds. The new feature, `play`, is a transformation of\n",
    "`group` that collapses categories: toy and non-sporting are combined into one\n",
    "category, and the remaining categories are placed in a second, non-play\n",
    "category.  The boolean (`bool`) storage type is useful to indicate the\n",
    "presence or absence of this characteristic."
   ]
  },
  {
   "cell_type": "code",
   "execution_count": 30,
   "metadata": {},
   "outputs": [
    {
     "data": {
      "text/html": [
       "<div>\n",
       "<style scoped>\n",
       "    .dataframe tbody tr th:only-of-type {\n",
       "        vertical-align: middle;\n",
       "    }\n",
       "\n",
       "    .dataframe tbody tr th {\n",
       "        vertical-align: top;\n",
       "    }\n",
       "\n",
       "    .dataframe thead th {\n",
       "        text-align: right;\n",
       "    }\n",
       "</style>\n",
       "<table border=\"1\" class=\"dataframe\">\n",
       "  <thead>\n",
       "    <tr style=\"text-align: right;\">\n",
       "      <th></th>\n",
       "      <th>breed</th>\n",
       "      <th>group</th>\n",
       "      <th>score</th>\n",
       "      <th>longevity</th>\n",
       "      <th>...</th>\n",
       "      <th>weight</th>\n",
       "      <th>height</th>\n",
       "      <th>repetition</th>\n",
       "      <th>play</th>\n",
       "    </tr>\n",
       "  </thead>\n",
       "  <tbody>\n",
       "    <tr>\n",
       "      <th>0</th>\n",
       "      <td>Border Collie</td>\n",
       "      <td>herding</td>\n",
       "      <td>3.64</td>\n",
       "      <td>12.52</td>\n",
       "      <td>...</td>\n",
       "      <td>NaN</td>\n",
       "      <td>51.0</td>\n",
       "      <td>&lt;5</td>\n",
       "      <td>False</td>\n",
       "    </tr>\n",
       "    <tr>\n",
       "      <th>1</th>\n",
       "      <td>Border Terrier</td>\n",
       "      <td>terrier</td>\n",
       "      <td>3.61</td>\n",
       "      <td>14.00</td>\n",
       "      <td>...</td>\n",
       "      <td>6.0</td>\n",
       "      <td>NaN</td>\n",
       "      <td>15-25</td>\n",
       "      <td>False</td>\n",
       "    </tr>\n",
       "    <tr>\n",
       "      <th>2</th>\n",
       "      <td>Brittany</td>\n",
       "      <td>sporting</td>\n",
       "      <td>3.54</td>\n",
       "      <td>12.92</td>\n",
       "      <td>...</td>\n",
       "      <td>16.0</td>\n",
       "      <td>48.0</td>\n",
       "      <td>5-15</td>\n",
       "      <td>False</td>\n",
       "    </tr>\n",
       "    <tr>\n",
       "      <th>...</th>\n",
       "      <td>...</td>\n",
       "      <td>...</td>\n",
       "      <td>...</td>\n",
       "      <td>...</td>\n",
       "      <td>...</td>\n",
       "      <td>...</td>\n",
       "      <td>...</td>\n",
       "      <td>...</td>\n",
       "      <td>...</td>\n",
       "    </tr>\n",
       "    <tr>\n",
       "      <th>169</th>\n",
       "      <td>Wire Fox Terrier</td>\n",
       "      <td>terrier</td>\n",
       "      <td>NaN</td>\n",
       "      <td>13.17</td>\n",
       "      <td>...</td>\n",
       "      <td>8.0</td>\n",
       "      <td>38.0</td>\n",
       "      <td>25-40</td>\n",
       "      <td>False</td>\n",
       "    </tr>\n",
       "    <tr>\n",
       "      <th>170</th>\n",
       "      <td>Wirehaired Pointing Griffon</td>\n",
       "      <td>sporting</td>\n",
       "      <td>NaN</td>\n",
       "      <td>8.80</td>\n",
       "      <td>...</td>\n",
       "      <td>NaN</td>\n",
       "      <td>56.0</td>\n",
       "      <td>25-40</td>\n",
       "      <td>False</td>\n",
       "    </tr>\n",
       "    <tr>\n",
       "      <th>171</th>\n",
       "      <td>Xoloitzcuintli</td>\n",
       "      <td>non-sporting</td>\n",
       "      <td>NaN</td>\n",
       "      <td>NaN</td>\n",
       "      <td>...</td>\n",
       "      <td>NaN</td>\n",
       "      <td>42.0</td>\n",
       "      <td>NaN</td>\n",
       "      <td>True</td>\n",
       "    </tr>\n",
       "  </tbody>\n",
       "</table>\n",
       "<p>172 rows × 13 columns</p>\n",
       "</div>"
      ],
      "text/plain": [
       "                           breed         group  score  longevity  ...  weight  \\\n",
       "0                  Border Collie       herding   3.64      12.52  ...     NaN   \n",
       "1                 Border Terrier       terrier   3.61      14.00  ...     6.0   \n",
       "2                       Brittany      sporting   3.54      12.92  ...    16.0   \n",
       "..                           ...           ...    ...        ...  ...     ...   \n",
       "169             Wire Fox Terrier       terrier    NaN      13.17  ...     8.0   \n",
       "170  Wirehaired Pointing Griffon      sporting    NaN       8.80  ...     NaN   \n",
       "171               Xoloitzcuintli  non-sporting    NaN        NaN  ...     NaN   \n",
       "\n",
       "     height  repetition   play  \n",
       "0      51.0          <5  False  \n",
       "1       NaN       15-25  False  \n",
       "2      48.0        5-15  False  \n",
       "..      ...         ...    ...  \n",
       "169    38.0       25-40  False  \n",
       "170    56.0       25-40  False  \n",
       "171    42.0         NaN   True  \n",
       "\n",
       "[172 rows x 13 columns]"
      ]
     },
     "execution_count": 30,
     "metadata": {},
     "output_type": "execute_result"
    }
   ],
   "source": [
    "with_play = dogs.assign(\n",
    "    play=(dogs[\"group\"] == \"toy\") | (dogs[\"group\"] == \"non-sporting\"))\n",
    "with_play"
   ]
  },
  {
   "cell_type": "markdown",
   "metadata": {},
   "source": [
    "Representing a two-category qualitative feature as a boolean has a few\n",
    "advantages. For example, the mean of `play` makes sense because it returns the\n",
    "fraction of `True` values. When booleans are used for numeric calcuations,\n",
    "`True` becomes 1 and `False` becomes 0.\n"
   ]
  },
  {
   "cell_type": "code",
   "execution_count": 31,
   "metadata": {},
   "outputs": [
    {
     "data": {
      "text/plain": [
       "0.22093023255813954"
      ]
     },
     "execution_count": 31,
     "metadata": {},
     "output_type": "execute_result"
    }
   ],
   "source": [
    "with_play['play'].mean()"
   ]
  },
  {
   "cell_type": "markdown",
   "metadata": {},
   "source": [
    "This storage type gives us a shortcut to compute counts and averages\n",
    "of boolean values. Later in the book, we'll see that it's also a handy \n",
    "encoding for modeling. "
   ]
  },
  {
   "cell_type": "markdown",
   "metadata": {},
   "source": [
    "**Convert Quantitative to Ordinal.** Finally, another transformation that we\n",
    "sometimes find useful is to convert numeric values into categories. For\n",
    "example, we might collapse the values in  `ailments` into categories: 0, 1, 2,\n",
    "3, 4+. In other words, we turn `ailments` from a quantitative feature into an\n",
    "ordinal feature with the mapping 0→0, 1→1, 2→2, 3→3, and any value 4 or larger\n",
    "→ 4+.  Why might we want to make this transformation? Since so few breeds have\n",
    "more than three genetic ailments, we think the simplification will be clearer\n",
    "and adequate for our investigation."
   ]
  },
  {
   "cell_type": "markdown",
   "metadata": {},
   "source": [
    ":::{note}\n",
    "\n",
    "As of this writing (late 2021), `pandas` also\n",
    "implements a `category` dtype which is\n",
    "designed to work with qualitative data.\n",
    "However, this storage type is not yet widely\n",
    "adopted by the visualization and modeling libraries, which limits its\n",
    "usefulness. For that reason, we do not transform our qualitative variables into\n",
    "the `category` dtype.\n",
    "We expect that future readers may want to use the `category` dtype as more\n",
    "libraries support it.\n",
    "\n",
    ":::"
   ]
  },
  {
   "cell_type": "markdown",
   "metadata": {},
   "source": [
    "## The Importance of Feature Types"
   ]
  },
  {
   "cell_type": "markdown",
   "metadata": {},
   "source": [
    "Feature types guide us in our data analysis.  They help specify the operations,\n",
    "visualizations, and models we can meaningfully apply to the data.\n",
    "The {ref}`plots-for-features` table below\n",
    "gives a mapping of the various plots that are typically good options for each\n",
    "feature type. Whether the variable(s) are quantitative or qualitative generally\n",
    "determines the set of viable plots to make, although there are exceptions.\n",
    "Other factors that enter into the decision are the number of observations, and\n",
    "whether the data takes on only a few distinct values. For example, we might\n",
    "make a bar chart, rather than a histogram, for a discrete quantitative\n",
    "variable.\n"
   ]
  },
  {
   "cell_type": "markdown",
   "metadata": {},
   "source": [
    ":::{table} Plots for Feature Types\n",
    ":name: plots-for-features\n",
    "\n",
    "| Feature Type | Dimension | Plot |\n",
    "| --- | --- | --- |\n",
    "| Quantitative | One Feature | Rug plot, histogram, density curve, box-and-whisker plot, violin plot |\n",
    "| Qualitative | One Feature | Bar plot, dot chart, line plot, pie chart |\n",
    "| Quantitative | Two Features | Scatter plot, smooth curve, contour plot, heat map, quantile-quantile plot |\n",
    "| Qualitative | Two Features | Side-by-side bar plots, mosaic plot, overlaid lines |\n",
    "| Mixed | Two Features | Overlaid density curves, side-by-side box-and-whisker plots, overlaid smooth curves, quantile-quantile plot |\n",
    "\n",
    ":::"
   ]
  },
  {
   "cell_type": "markdown",
   "metadata": {},
   "source": [
    "The feature type also helps us decide the kind of summary statistics to\n",
    "calculate. With qualitative data, we usually don't compute means or standard\n",
    "deviations, and instead compute the count, fraction, or percentage of records\n",
    "in each category. With a quantitative feature, we compute the mean or median as\n",
    "a measure of center, and, respectively, the standard deviation or inner\n",
    "quartile range (75th percentile - 25th percentile) as a measure of spread.  In\n",
    "addition to the quartiles, we may find other percentiles informative."
   ]
  },
  {
   "cell_type": "markdown",
   "metadata": {},
   "source": [
    ":::{note}\n",
    "\n",
    "The *n*th percentile is that value *q* such that *n% of the data\n",
    "values fall at or below it.* The value *q* might not be unique, and there are\n",
    "several approaches to select a unique value from the possibilities. With enough\n",
    "data, there should be little difference between these definitions.\n",
    "\n",
    "To compute percentiles in Python, we prefer using:\n",
    "\n",
    "```python\n",
    "# Uses our definition of percentile\n",
    "np.percentile(data, interpolation='lower')\n",
    "```\n",
    "\n",
    ":::"
   ]
  },
  {
   "cell_type": "markdown",
   "metadata": {},
   "source": [
    "## In the Next Section"
   ]
  },
  {
   "cell_type": "markdown",
   "metadata": {},
   "source": [
    "When exploring the data, we need to know how to interpret the shapes that our\n",
    "plots reveal. We also need to recognize certain kinds of features\n",
    "and understand what they tell us about the data.\n",
    "The next three sections give guidance with\n",
    "this interpretation. We also introduce many of the types of plots listed in\n",
    "{numref}`Table %s <plots-for-features>`\n",
    "through the examples, and those that are not introduced here are\n",
    "covered in the {ref}`ch:viz` chapter."
   ]
  }
 ],
 "metadata": {
  "kernelspec": {
   "display_name": "Python 3",
   "language": "python",
   "name": "python3"
  },
  "language_info": {
   "codemirror_mode": {
    "name": "ipython",
    "version": 3
   },
   "file_extension": ".py",
   "mimetype": "text/x-python",
   "name": "python",
   "nbconvert_exporter": "python",
   "pygments_lexer": "ipython3",
   "version": "3.9.4"
  }
 },
 "nbformat": 4,
 "nbformat_minor": 4
}
