{
 "cells": [
  {
   "cell_type": "code",
   "execution_count": 1,
   "metadata": {
    "tags": [
     "remove-cell"
    ]
   },
   "outputs": [],
   "source": [
    "# Reference: https://jupyterbook.org/interactive/hiding.html\n",
    "# Use {hide, remove}-{input, output, cell} tags to hiding content\n",
    "\n",
    "import sys\n",
    "import os\n",
    "sys.path.append(os.path.abspath('../../..'))\n",
    "from textbook_utils import *\n",
    "\n",
    "import plotly.figure_factory as ff"
   ]
  },
  {
   "cell_type": "code",
   "execution_count": 2,
   "metadata": {
    "tags": [
     "remove-cell"
    ]
   },
   "outputs": [],
   "source": [
    "trees = pd.read_csv('data/black_spruce.csv')"
   ]
  },
  {
   "cell_type": "code",
   "execution_count": 3,
   "metadata": {
    "tags": [
     "remove-cell"
    ]
   },
   "outputs": [],
   "source": [
    "trees['status_0_1'] = 0 + (trees['status'] == 'fallen')"
   ]
  },
  {
   "cell_type": "code",
   "execution_count": 4,
   "metadata": {
    "tags": [
     "remove-cell"
    ]
   },
   "outputs": [],
   "source": [
    "splits=[4, 5, 6, 7, 8, 9, 10, 12, 14, 17, 20, 30]\n",
    "pr_split = np.zeros(len(splits)-1)\n",
    "ct_split = np.zeros(len(splits)-1)\n",
    "\n",
    "for i in range(0, len(splits)-1):\n",
    "    sub_trees = trees['status_0_1'][((trees['diameter'] > splits[i]) & \n",
    "                                     (trees['diameter'] <= splits[i+1]))]\n",
    "    pr_split[i] = np.mean(sub_trees)  \n",
    "    ct_split[i] = len(sub_trees) \n",
    "    \n",
    "tree_bins = pd.DataFrame({'proportion': pr_split, 'count':ct_split, 'diameter':splits[1:]})    "
   ]
  },
  {
   "cell_type": "markdown",
   "metadata": {},
   "source": [
    "# A Loss Function for the Logistic Model"
   ]
  },
  {
   "cell_type": "markdown",
   "metadata": {},
   "source": [
    "The logistic model gives us probabilities (or empirical proportions) so we write our loss function as $\\ell(p, y) $, where $p$ is between 0 and 1. Since the response takes on one of two values (because the feature is a binary classification), any loss function reduces to: \n",
    "\n",
    "$$\n",
    "\\begin{aligned} \n",
    "{\\ell}(p, y) = \n",
    " \\begin{cases}\n",
    "    \\ell(p, 0) & \\text{if $y$ is 0} \\\\    \n",
    "    \\ell(p, 1) & \\text{if $y$ is 1}\n",
    "    \\end{cases}\n",
    "\\end{aligned} \n",
    "$$\n",
    "\n",
    "Once again, using 0 and 1 to represent the categories has an advantage because means we can be conveniently write the loss as:\n",
    "\n",
    "$$ \n",
    "\\ell(p, y) =  ~ y \\ell(p, y) + (1-y) \\ell(p, 1-y)             \n",
    "$$"
   ]
  },
  {
   "cell_type": "markdown",
   "metadata": {},
   "source": [
    "The logistic model pairs well with *logistic loss* loss:\n",
    "\n",
    "$$\n",
    "\\begin{aligned} \n",
    "{\\ell}(p, y) = & \n",
    " \\begin{cases}\n",
    "    -\\log(p) & \\text{if $y$ is 1} \\\\    \n",
    "    -\\log(1-p) & \\text{if $y$ is 0}\n",
    "    \\end{cases}\n",
    "    \\\\\n",
    "    = & -y \\log(p) -(1-y) \\log(1-p)   \n",
    "\\end{aligned} \n",
    "$$ \n",
    "\n",
    "Note that the log loss is not defined at 0 and 1 because $-\\log (p)$ tends to $\\infty$ as $p$ approaches 0, and similarly for $-\\log (1-p)$ as $ p $ tends to 1. So we are careful to avoid the end points in our minimization. We can see this in the plot below: "
   ]
  },
  {
   "cell_type": "code",
   "execution_count": 5,
   "metadata": {
    "tags": []
   },
   "outputs": [
    {
     "data": {
      "application/vnd.plotly.v1+json": {
       "config": {
        "plotlyServerURL": "https://plot.ly"
       },
       "data": [
        {
         "line": {
          "width": 4
         },
         "name": "y = 1",
         "type": "scatter",
         "x": [
          0.001,
          0.014486486486486486,
          0.027972972972972975,
          0.04145945945945946,
          0.05494594594594595,
          0.06843243243243244,
          0.08191891891891892,
          0.09540540540540542,
          0.1088918918918919,
          0.12237837837837838,
          0.13586486486486488,
          0.14935135135135136,
          0.16283783783783784,
          0.17632432432432432,
          0.18981081081081083,
          0.2032972972972973,
          0.2167837837837838,
          0.23027027027027028,
          0.24375675675675676,
          0.25724324324324327,
          0.27072972972972975,
          0.28421621621621623,
          0.2977027027027027,
          0.3111891891891892,
          0.3246756756756757,
          0.33816216216216216,
          0.35164864864864864,
          0.3651351351351352,
          0.37862162162162166,
          0.39210810810810814,
          0.4055945945945946,
          0.4190810810810811,
          0.4325675675675676,
          0.44605405405405407,
          0.45954054054054055,
          0.47302702702702704,
          0.4865135135135135,
          0.5,
          0.5134864864864865,
          0.526972972972973,
          0.5404594594594595,
          0.5539459459459459,
          0.5674324324324325,
          0.580918918918919,
          0.5944054054054054,
          0.607891891891892,
          0.6213783783783784,
          0.6348648648648649,
          0.6483513513513514,
          0.6618378378378379,
          0.6753243243243243,
          0.6888108108108109,
          0.7022972972972973,
          0.7157837837837838,
          0.7292702702702704,
          0.7427567567567568,
          0.7562432432432433,
          0.7697297297297298,
          0.7832162162162163,
          0.7967027027027027,
          0.8101891891891893,
          0.8236756756756757,
          0.8371621621621622,
          0.8506486486486486,
          0.8641351351351352,
          0.8776216216216217,
          0.8911081081081081,
          0.9045945945945947,
          0.9180810810810811,
          0.9315675675675676,
          0.9450540540540541,
          0.9585405405405406,
          0.972027027027027,
          0.9855135135135136,
          0.999
         ],
         "y": [
          6.907755278982137,
          4.23453903055556,
          3.576516485926892,
          3.1830392096991598,
          2.9014053779980147,
          2.6819084083622946,
          2.5020253145685585,
          2.3496200416990187,
          2.2173997064350144,
          2.1006375717433428,
          1.9960945279337863,
          1.9014536861429996,
          1.8150004332675058,
          1.735430227885457,
          1.661727435467341,
          1.5930858525960798,
          1.5288548102594368,
          1.4685015718030001,
          1.4115844494606533,
          1.3577331699453057,
          1.3066342630145973,
          1.2580200057765896,
          1.211659932389918,
          1.1673542263906065,
          1.1249285159049864,
          1.0842297288412692,
          1.0451227591228855,
          1.0074877606721169,
          0.9712179324302475,
          0.9362176912235685,
          0.9024011537303719,
          0.8696908668474571,
          0.838016739222398,
          0.8073151368752737,
          0.7775281135688756,
          0.7486027525305851,
          0.720490600735657,
          0.6931471805599453,
          0.6665315664418214,
          0.6406060164371447,
          0.6153356503413585,
          0.5906881674898461,
          0.5666335985080678,
          0.5431440862252628,
          0.5201936917346652,
          0.4977582222142691,
          0.47581507764242503,
          0.45434311397340293,
          0.43332252069643934,
          0.412734711001113,
          0.3925622230229113,
          0.37278863085413694,
          0.35339846418381926,
          0.33437713558162474,
          0.31571087456950153,
          0.2973866677346418,
          0.2793922042313882,
          0.2617158261004494,
          0.24434648290329863,
          0.22727369022965824,
          0.21048749168792086,
          0.19397842403346122,
          0.17773748512901824,
          0.1617561044655518,
          0.14602611600188173,
          0.13053973310762773,
          0.11528952541696916,
          0.10026839742098911,
          0.08546956864421225,
          0.07088655526670398,
          0.056513153067055115,
          0.04234342157393693,
          0.028371669324904897,
          0.01459244014089594,
          0.0010005003335835344
         ]
        },
        {
         "line": {
          "dash": "dot",
          "width": 4
         },
         "name": "y = 0",
         "type": "scatter",
         "x": [
          0.001,
          0.014486486486486486,
          0.027972972972972975,
          0.04145945945945946,
          0.05494594594594595,
          0.06843243243243244,
          0.08191891891891892,
          0.09540540540540542,
          0.1088918918918919,
          0.12237837837837838,
          0.13586486486486488,
          0.14935135135135136,
          0.16283783783783784,
          0.17632432432432432,
          0.18981081081081083,
          0.2032972972972973,
          0.2167837837837838,
          0.23027027027027028,
          0.24375675675675676,
          0.25724324324324327,
          0.27072972972972975,
          0.28421621621621623,
          0.2977027027027027,
          0.3111891891891892,
          0.3246756756756757,
          0.33816216216216216,
          0.35164864864864864,
          0.3651351351351352,
          0.37862162162162166,
          0.39210810810810814,
          0.4055945945945946,
          0.4190810810810811,
          0.4325675675675676,
          0.44605405405405407,
          0.45954054054054055,
          0.47302702702702704,
          0.4865135135135135,
          0.5,
          0.5134864864864865,
          0.526972972972973,
          0.5404594594594595,
          0.5539459459459459,
          0.5674324324324325,
          0.580918918918919,
          0.5944054054054054,
          0.607891891891892,
          0.6213783783783784,
          0.6348648648648649,
          0.6483513513513514,
          0.6618378378378379,
          0.6753243243243243,
          0.6888108108108109,
          0.7022972972972973,
          0.7157837837837838,
          0.7292702702702704,
          0.7427567567567568,
          0.7562432432432433,
          0.7697297297297298,
          0.7832162162162163,
          0.7967027027027027,
          0.8101891891891893,
          0.8236756756756757,
          0.8371621621621622,
          0.8506486486486486,
          0.8641351351351352,
          0.8776216216216217,
          0.8911081081081081,
          0.9045945945945947,
          0.9180810810810811,
          0.9315675675675676,
          0.9450540540540541,
          0.9585405405405406,
          0.972027027027027,
          0.9855135135135136,
          0.999
         ],
         "y": [
          0.0010005003335835344,
          0.014592440140896053,
          0.028371669324904897,
          0.04234342157393705,
          0.056513153067055115,
          0.0708865552667041,
          0.08546956864421225,
          0.10026839742098922,
          0.11528952541696916,
          0.13053973310762784,
          0.14602611600188173,
          0.1617561044655518,
          0.17773748512901838,
          0.19397842403346122,
          0.210487491687921,
          0.22727369022965824,
          0.24434648290329877,
          0.2617158261004494,
          0.27939220423138833,
          0.2973866677346418,
          0.3157108745695017,
          0.3343771355816249,
          0.35339846418381926,
          0.37278863085413694,
          0.3925622230229113,
          0.41273471100111314,
          0.43332252069643934,
          0.4543431139734031,
          0.47581507764242503,
          0.49775822221426924,
          0.5201936917346653,
          0.543144086225263,
          0.5666335985080678,
          0.5906881674898461,
          0.6153356503413587,
          0.6406060164371447,
          0.6665315664418214,
          0.6931471805599453,
          0.7204906007356571,
          0.7486027525305851,
          0.7775281135688757,
          0.8073151368752737,
          0.8380167392223982,
          0.8696908668474573,
          0.902401153730372,
          0.9362176912235687,
          0.9712179324302476,
          1.007487760672117,
          1.0451227591228855,
          1.0842297288412694,
          1.1249285159049864,
          1.1673542263906067,
          1.211659932389918,
          1.2580200057765898,
          1.3066342630145975,
          1.357733169945306,
          1.4115844494606538,
          1.4685015718030001,
          1.5288548102594373,
          1.5930858525960798,
          1.6617274354673415,
          1.735430227885457,
          1.815000433267506,
          1.9014536861429996,
          1.9960945279337865,
          2.100637571743343,
          2.2173997064350144,
          2.34962004169902,
          2.5020253145685585,
          2.681908408362296,
          2.901405377998015,
          3.1830392096991615,
          3.5765164859268923,
          4.234539030555563,
          6.907755278982136
         ]
        }
       ],
       "layout": {
        "height": 250,
        "template": {
         "data": {
          "bar": [
           {
            "error_x": {
             "color": "rgb(36,36,36)"
            },
            "error_y": {
             "color": "rgb(36,36,36)"
            },
            "marker": {
             "line": {
              "color": "white",
              "width": 0.5
             },
             "pattern": {
              "fillmode": "overlay",
              "size": 10,
              "solidity": 0.2
             }
            },
            "type": "bar"
           }
          ],
          "barpolar": [
           {
            "marker": {
             "line": {
              "color": "white",
              "width": 0.5
             },
             "pattern": {
              "fillmode": "overlay",
              "size": 10,
              "solidity": 0.2
             }
            },
            "type": "barpolar"
           }
          ],
          "carpet": [
           {
            "aaxis": {
             "endlinecolor": "rgb(36,36,36)",
             "gridcolor": "white",
             "linecolor": "white",
             "minorgridcolor": "white",
             "startlinecolor": "rgb(36,36,36)"
            },
            "baxis": {
             "endlinecolor": "rgb(36,36,36)",
             "gridcolor": "white",
             "linecolor": "white",
             "minorgridcolor": "white",
             "startlinecolor": "rgb(36,36,36)"
            },
            "type": "carpet"
           }
          ],
          "choropleth": [
           {
            "colorbar": {
             "outlinewidth": 1,
             "tickcolor": "rgb(36,36,36)",
             "ticks": "outside"
            },
            "type": "choropleth"
           }
          ],
          "contour": [
           {
            "colorbar": {
             "outlinewidth": 1,
             "tickcolor": "rgb(36,36,36)",
             "ticks": "outside"
            },
            "colorscale": [
             [
              0,
              "#440154"
             ],
             [
              0.1111111111111111,
              "#482878"
             ],
             [
              0.2222222222222222,
              "#3e4989"
             ],
             [
              0.3333333333333333,
              "#31688e"
             ],
             [
              0.4444444444444444,
              "#26828e"
             ],
             [
              0.5555555555555556,
              "#1f9e89"
             ],
             [
              0.6666666666666666,
              "#35b779"
             ],
             [
              0.7777777777777778,
              "#6ece58"
             ],
             [
              0.8888888888888888,
              "#b5de2b"
             ],
             [
              1,
              "#fde725"
             ]
            ],
            "type": "contour"
           }
          ],
          "contourcarpet": [
           {
            "colorbar": {
             "outlinewidth": 1,
             "tickcolor": "rgb(36,36,36)",
             "ticks": "outside"
            },
            "type": "contourcarpet"
           }
          ],
          "heatmap": [
           {
            "colorbar": {
             "outlinewidth": 1,
             "tickcolor": "rgb(36,36,36)",
             "ticks": "outside"
            },
            "colorscale": [
             [
              0,
              "#440154"
             ],
             [
              0.1111111111111111,
              "#482878"
             ],
             [
              0.2222222222222222,
              "#3e4989"
             ],
             [
              0.3333333333333333,
              "#31688e"
             ],
             [
              0.4444444444444444,
              "#26828e"
             ],
             [
              0.5555555555555556,
              "#1f9e89"
             ],
             [
              0.6666666666666666,
              "#35b779"
             ],
             [
              0.7777777777777778,
              "#6ece58"
             ],
             [
              0.8888888888888888,
              "#b5de2b"
             ],
             [
              1,
              "#fde725"
             ]
            ],
            "type": "heatmap"
           }
          ],
          "heatmapgl": [
           {
            "colorbar": {
             "outlinewidth": 1,
             "tickcolor": "rgb(36,36,36)",
             "ticks": "outside"
            },
            "colorscale": [
             [
              0,
              "#440154"
             ],
             [
              0.1111111111111111,
              "#482878"
             ],
             [
              0.2222222222222222,
              "#3e4989"
             ],
             [
              0.3333333333333333,
              "#31688e"
             ],
             [
              0.4444444444444444,
              "#26828e"
             ],
             [
              0.5555555555555556,
              "#1f9e89"
             ],
             [
              0.6666666666666666,
              "#35b779"
             ],
             [
              0.7777777777777778,
              "#6ece58"
             ],
             [
              0.8888888888888888,
              "#b5de2b"
             ],
             [
              1,
              "#fde725"
             ]
            ],
            "type": "heatmapgl"
           }
          ],
          "histogram": [
           {
            "marker": {
             "line": {
              "color": "white",
              "width": 0.6
             }
            },
            "type": "histogram"
           }
          ],
          "histogram2d": [
           {
            "colorbar": {
             "outlinewidth": 1,
             "tickcolor": "rgb(36,36,36)",
             "ticks": "outside"
            },
            "colorscale": [
             [
              0,
              "#440154"
             ],
             [
              0.1111111111111111,
              "#482878"
             ],
             [
              0.2222222222222222,
              "#3e4989"
             ],
             [
              0.3333333333333333,
              "#31688e"
             ],
             [
              0.4444444444444444,
              "#26828e"
             ],
             [
              0.5555555555555556,
              "#1f9e89"
             ],
             [
              0.6666666666666666,
              "#35b779"
             ],
             [
              0.7777777777777778,
              "#6ece58"
             ],
             [
              0.8888888888888888,
              "#b5de2b"
             ],
             [
              1,
              "#fde725"
             ]
            ],
            "type": "histogram2d"
           }
          ],
          "histogram2dcontour": [
           {
            "colorbar": {
             "outlinewidth": 1,
             "tickcolor": "rgb(36,36,36)",
             "ticks": "outside"
            },
            "colorscale": [
             [
              0,
              "#440154"
             ],
             [
              0.1111111111111111,
              "#482878"
             ],
             [
              0.2222222222222222,
              "#3e4989"
             ],
             [
              0.3333333333333333,
              "#31688e"
             ],
             [
              0.4444444444444444,
              "#26828e"
             ],
             [
              0.5555555555555556,
              "#1f9e89"
             ],
             [
              0.6666666666666666,
              "#35b779"
             ],
             [
              0.7777777777777778,
              "#6ece58"
             ],
             [
              0.8888888888888888,
              "#b5de2b"
             ],
             [
              1,
              "#fde725"
             ]
            ],
            "type": "histogram2dcontour"
           }
          ],
          "mesh3d": [
           {
            "colorbar": {
             "outlinewidth": 1,
             "tickcolor": "rgb(36,36,36)",
             "ticks": "outside"
            },
            "type": "mesh3d"
           }
          ],
          "parcoords": [
           {
            "line": {
             "colorbar": {
              "outlinewidth": 1,
              "tickcolor": "rgb(36,36,36)",
              "ticks": "outside"
             }
            },
            "type": "parcoords"
           }
          ],
          "pie": [
           {
            "automargin": true,
            "type": "pie"
           }
          ],
          "scatter": [
           {
            "marker": {
             "colorbar": {
              "outlinewidth": 1,
              "tickcolor": "rgb(36,36,36)",
              "ticks": "outside"
             }
            },
            "type": "scatter"
           }
          ],
          "scatter3d": [
           {
            "line": {
             "colorbar": {
              "outlinewidth": 1,
              "tickcolor": "rgb(36,36,36)",
              "ticks": "outside"
             }
            },
            "marker": {
             "colorbar": {
              "outlinewidth": 1,
              "tickcolor": "rgb(36,36,36)",
              "ticks": "outside"
             }
            },
            "type": "scatter3d"
           }
          ],
          "scattercarpet": [
           {
            "marker": {
             "colorbar": {
              "outlinewidth": 1,
              "tickcolor": "rgb(36,36,36)",
              "ticks": "outside"
             }
            },
            "type": "scattercarpet"
           }
          ],
          "scattergeo": [
           {
            "marker": {
             "colorbar": {
              "outlinewidth": 1,
              "tickcolor": "rgb(36,36,36)",
              "ticks": "outside"
             }
            },
            "type": "scattergeo"
           }
          ],
          "scattergl": [
           {
            "marker": {
             "colorbar": {
              "outlinewidth": 1,
              "tickcolor": "rgb(36,36,36)",
              "ticks": "outside"
             }
            },
            "type": "scattergl"
           }
          ],
          "scattermapbox": [
           {
            "marker": {
             "colorbar": {
              "outlinewidth": 1,
              "tickcolor": "rgb(36,36,36)",
              "ticks": "outside"
             }
            },
            "type": "scattermapbox"
           }
          ],
          "scatterpolar": [
           {
            "marker": {
             "colorbar": {
              "outlinewidth": 1,
              "tickcolor": "rgb(36,36,36)",
              "ticks": "outside"
             }
            },
            "type": "scatterpolar"
           }
          ],
          "scatterpolargl": [
           {
            "marker": {
             "colorbar": {
              "outlinewidth": 1,
              "tickcolor": "rgb(36,36,36)",
              "ticks": "outside"
             }
            },
            "type": "scatterpolargl"
           }
          ],
          "scatterternary": [
           {
            "marker": {
             "colorbar": {
              "outlinewidth": 1,
              "tickcolor": "rgb(36,36,36)",
              "ticks": "outside"
             }
            },
            "type": "scatterternary"
           }
          ],
          "surface": [
           {
            "colorbar": {
             "outlinewidth": 1,
             "tickcolor": "rgb(36,36,36)",
             "ticks": "outside"
            },
            "colorscale": [
             [
              0,
              "#440154"
             ],
             [
              0.1111111111111111,
              "#482878"
             ],
             [
              0.2222222222222222,
              "#3e4989"
             ],
             [
              0.3333333333333333,
              "#31688e"
             ],
             [
              0.4444444444444444,
              "#26828e"
             ],
             [
              0.5555555555555556,
              "#1f9e89"
             ],
             [
              0.6666666666666666,
              "#35b779"
             ],
             [
              0.7777777777777778,
              "#6ece58"
             ],
             [
              0.8888888888888888,
              "#b5de2b"
             ],
             [
              1,
              "#fde725"
             ]
            ],
            "type": "surface"
           }
          ],
          "table": [
           {
            "cells": {
             "fill": {
              "color": "rgb(237,237,237)"
             },
             "line": {
              "color": "white"
             }
            },
            "header": {
             "fill": {
              "color": "rgb(217,217,217)"
             },
             "line": {
              "color": "white"
             }
            },
            "type": "table"
           }
          ]
         },
         "layout": {
          "annotationdefaults": {
           "arrowhead": 0,
           "arrowwidth": 1
          },
          "autosize": true,
          "autotypenumbers": "strict",
          "coloraxis": {
           "colorbar": {
            "outlinewidth": 1,
            "tickcolor": "rgb(36,36,36)",
            "ticks": "outside"
           }
          },
          "colorscale": {
           "diverging": [
            [
             0,
             "rgb(103,0,31)"
            ],
            [
             0.1,
             "rgb(178,24,43)"
            ],
            [
             0.2,
             "rgb(214,96,77)"
            ],
            [
             0.3,
             "rgb(244,165,130)"
            ],
            [
             0.4,
             "rgb(253,219,199)"
            ],
            [
             0.5,
             "rgb(247,247,247)"
            ],
            [
             0.6,
             "rgb(209,229,240)"
            ],
            [
             0.7,
             "rgb(146,197,222)"
            ],
            [
             0.8,
             "rgb(67,147,195)"
            ],
            [
             0.9,
             "rgb(33,102,172)"
            ],
            [
             1,
             "rgb(5,48,97)"
            ]
           ],
           "sequential": [
            [
             0,
             "#440154"
            ],
            [
             0.1111111111111111,
             "#482878"
            ],
            [
             0.2222222222222222,
             "#3e4989"
            ],
            [
             0.3333333333333333,
             "#31688e"
            ],
            [
             0.4444444444444444,
             "#26828e"
            ],
            [
             0.5555555555555556,
             "#1f9e89"
            ],
            [
             0.6666666666666666,
             "#35b779"
            ],
            [
             0.7777777777777778,
             "#6ece58"
            ],
            [
             0.8888888888888888,
             "#b5de2b"
            ],
            [
             1,
             "#fde725"
            ]
           ],
           "sequentialminus": [
            [
             0,
             "#440154"
            ],
            [
             0.1111111111111111,
             "#482878"
            ],
            [
             0.2222222222222222,
             "#3e4989"
            ],
            [
             0.3333333333333333,
             "#31688e"
            ],
            [
             0.4444444444444444,
             "#26828e"
            ],
            [
             0.5555555555555556,
             "#1f9e89"
            ],
            [
             0.6666666666666666,
             "#35b779"
            ],
            [
             0.7777777777777778,
             "#6ece58"
            ],
            [
             0.8888888888888888,
             "#b5de2b"
            ],
            [
             1,
             "#fde725"
            ]
           ]
          },
          "colorway": [
           "#1F77B4",
           "#FF7F0E",
           "#2CA02C",
           "#D62728",
           "#9467BD",
           "#8C564B",
           "#E377C2",
           "#7F7F7F",
           "#BCBD22",
           "#17BECF"
          ],
          "font": {
           "color": "rgb(36,36,36)"
          },
          "geo": {
           "bgcolor": "white",
           "lakecolor": "white",
           "landcolor": "white",
           "showlakes": true,
           "showland": true,
           "subunitcolor": "white"
          },
          "height": 250,
          "hoverlabel": {
           "align": "left"
          },
          "hovermode": "closest",
          "mapbox": {
           "style": "light"
          },
          "margin": {
           "b": 10,
           "l": 10,
           "r": 10,
           "t": 10
          },
          "paper_bgcolor": "white",
          "plot_bgcolor": "white",
          "polar": {
           "angularaxis": {
            "gridcolor": "rgb(232,232,232)",
            "linecolor": "rgb(36,36,36)",
            "showgrid": false,
            "showline": true,
            "ticks": "outside"
           },
           "bgcolor": "white",
           "radialaxis": {
            "gridcolor": "rgb(232,232,232)",
            "linecolor": "rgb(36,36,36)",
            "showgrid": false,
            "showline": true,
            "ticks": "outside"
           }
          },
          "scene": {
           "xaxis": {
            "backgroundcolor": "white",
            "gridcolor": "rgb(232,232,232)",
            "gridwidth": 2,
            "linecolor": "rgb(36,36,36)",
            "showbackground": true,
            "showgrid": false,
            "showline": true,
            "ticks": "outside",
            "zeroline": false,
            "zerolinecolor": "rgb(36,36,36)"
           },
           "yaxis": {
            "backgroundcolor": "white",
            "gridcolor": "rgb(232,232,232)",
            "gridwidth": 2,
            "linecolor": "rgb(36,36,36)",
            "showbackground": true,
            "showgrid": false,
            "showline": true,
            "ticks": "outside",
            "zeroline": false,
            "zerolinecolor": "rgb(36,36,36)"
           },
           "zaxis": {
            "backgroundcolor": "white",
            "gridcolor": "rgb(232,232,232)",
            "gridwidth": 2,
            "linecolor": "rgb(36,36,36)",
            "showbackground": true,
            "showgrid": false,
            "showline": true,
            "ticks": "outside",
            "zeroline": false,
            "zerolinecolor": "rgb(36,36,36)"
           }
          },
          "shapedefaults": {
           "fillcolor": "black",
           "line": {
            "width": 0
           },
           "opacity": 0.3
          },
          "ternary": {
           "aaxis": {
            "gridcolor": "rgb(232,232,232)",
            "linecolor": "rgb(36,36,36)",
            "showgrid": false,
            "showline": true,
            "ticks": "outside"
           },
           "baxis": {
            "gridcolor": "rgb(232,232,232)",
            "linecolor": "rgb(36,36,36)",
            "showgrid": false,
            "showline": true,
            "ticks": "outside"
           },
           "bgcolor": "white",
           "caxis": {
            "gridcolor": "rgb(232,232,232)",
            "linecolor": "rgb(36,36,36)",
            "showgrid": false,
            "showline": true,
            "ticks": "outside"
           }
          },
          "title": {
           "x": 0.5,
           "xanchor": "center"
          },
          "width": 350,
          "xaxis": {
           "automargin": true,
           "gridcolor": "rgb(232,232,232)",
           "linecolor": "rgb(36,36,36)",
           "showgrid": true,
           "showline": true,
           "ticks": "outside",
           "title": {
            "standoff": 15
           },
           "zeroline": false,
           "zerolinecolor": "rgb(36,36,36)"
          },
          "yaxis": {
           "automargin": true,
           "gridcolor": "rgb(232,232,232)",
           "linecolor": "rgb(36,36,36)",
           "showgrid": true,
           "showline": true,
           "ticks": "outside",
           "title": {
            "standoff": 15
           },
           "zeroline": false,
           "zerolinecolor": "rgb(36,36,36)"
          }
         }
        },
        "width": 450,
        "xaxis": {
         "range": [
          0,
          1
         ],
         "type": "linear"
        },
        "yaxis": {
         "autorange": false,
         "range": [
          -0.383,
          7.2914638777959455
         ],
         "type": "linear"
        }
       }
      },
      "image/png": "[encoded data removed]",
      "image/svg+xml": [
       "<svg class=\"main-svg\" xmlns=\"http://www.w3.org/2000/svg\" xmlns:xlink=\"http://www.w3.org/1999/xlink\" width=\"450\" height=\"250\" style=\"\" viewBox=\"0 0 450 250\"><rect x=\"0\" y=\"0\" width=\"450\" height=\"250\" style=\"fill: rgb(255, 255, 255); fill-opacity: 1;\"/><defs id=\"defs-f90003\"><g class=\"clips\"><clipPath id=\"clipf90003xyplot\" class=\"plotclip\"><rect width=\"336\" height=\"206\"/></clipPath><clipPath class=\"axesclip\" id=\"clipf90003x\"><rect x=\"25\" y=\"0\" width=\"336\" height=\"250\"/></clipPath><clipPath class=\"axesclip\" id=\"clipf90003y\"><rect x=\"0\" y=\"10\" width=\"450\" height=\"206\"/></clipPath><clipPath class=\"axesclip\" id=\"clipf90003xy\"><rect x=\"25\" y=\"10\" width=\"336\" height=\"206\"/></clipPath></g><g class=\"gradients\"/><g class=\"patterns\"/></defs><g class=\"bglayer\"/><g class=\"layer-below\"><g class=\"imagelayer\"/><g class=\"shapelayer\"/></g><g class=\"cartesianlayer\"><g class=\"subplot xy\"><g class=\"layer-subplot\"><g class=\"shapelayer\"/><g class=\"imagelayer\"/></g><g class=\"gridlayer\"><g class=\"x\"><path class=\"xgrid crisp\" transform=\"translate(92.2,0)\" d=\"M0,10v206\" style=\"stroke: rgb(232, 232, 232); stroke-opacity: 1; stroke-width: 1px;\"/><path class=\"xgrid crisp\" transform=\"translate(159.4,0)\" d=\"M0,10v206\" style=\"stroke: rgb(232, 232, 232); stroke-opacity: 1; stroke-width: 1px;\"/><path class=\"xgrid crisp\" transform=\"translate(226.6,0)\" d=\"M0,10v206\" style=\"stroke: rgb(232, 232, 232); stroke-opacity: 1; stroke-width: 1px;\"/><path class=\"xgrid crisp\" transform=\"translate(293.8,0)\" d=\"M0,10v206\" style=\"stroke: rgb(232, 232, 232); stroke-opacity: 1; stroke-width: 1px;\"/></g><g class=\"y\"><path class=\"ygrid crisp\" transform=\"translate(0,205.73)\" d=\"M25,0h336\" style=\"stroke: rgb(232, 232, 232); stroke-opacity: 1; stroke-width: 1px;\"/><path class=\"ygrid crisp\" transform=\"translate(0,152.04)\" d=\"M25,0h336\" style=\"stroke: rgb(232, 232, 232); stroke-opacity: 1; stroke-width: 1px;\"/><path class=\"ygrid crisp\" transform=\"translate(0,98.35)\" d=\"M25,0h336\" style=\"stroke: rgb(232, 232, 232); stroke-opacity: 1; stroke-width: 1px;\"/><path class=\"ygrid crisp\" transform=\"translate(0,44.67)\" d=\"M25,0h336\" style=\"stroke: rgb(232, 232, 232); stroke-opacity: 1; stroke-width: 1px;\"/></g></g><g class=\"zerolinelayer\"/><path class=\"xlines-below\"/><path class=\"ylines-below\"/><g class=\"overlines-below\"/><g class=\"xaxislayer-below\"/><g class=\"yaxislayer-below\"/><g class=\"overaxes-below\"/><g class=\"plot\" transform=\"translate(25,10)\" clip-path=\"url(#clipf90003xyplot)\"><g class=\"scatterlayer mlayer\"><g class=\"trace scatter trace0ea249\" style=\"stroke-miterlimit: 2; opacity: 1;\"><g class=\"fills\"/><g class=\"errorbars\"/><g class=\"lines\"><path class=\"js-line\" d=\"M0.34,10.3L4.87,82.06L9.4,99.72L13.93,110.28L18.46,117.84L27.52,128.56L32.06,132.66L45.65,142.15L50.18,144.69L68.31,152.96L72.84,154.69L95.5,161.96L100.03,163.2L131.75,170.6L136.28,171.5L177.06,178.53L181.59,179.21L235.97,186.24L240.5,186.75L313.01,193.82L317.54,194.21L335.66,195.7\" style=\"vector-effect: non-scaling-stroke; fill: none; stroke: rgb(31, 119, 180); stroke-opacity: 1; stroke-width: 4px; opacity: 1;\"/></g><g class=\"points\"/><g class=\"text\"/></g><g class=\"trace scatter trace844699\" style=\"stroke-miterlimit: 2; opacity: 1;\"><g class=\"fills\"/><g class=\"errorbars\"/><g class=\"lines\"><path class=\"js-line\" d=\"M0.34,195.7L81.9,188.23L86.43,187.74L145.34,180.52L149.87,179.87L195.19,172.38L199.72,171.5L231.44,164.39L235.97,163.2L258.63,156.31L263.16,154.69L281.29,147.01L285.82,144.69L299.41,136.2L303.94,132.66L313.01,123.74L317.54,117.84L322.07,110.28L326.6,99.72L331.13,82.06L335.66,10.3\" style=\"vector-effect: non-scaling-stroke; fill: none; stroke: rgb(255, 127, 14); stroke-opacity: 1; stroke-width: 4px; opacity: 1; stroke-dasharray: 4px, 4px;\"/></g><g class=\"points\"/><g class=\"text\"/></g></g></g><g class=\"overplot\"/><path class=\"xlines-above crisp\" d=\"M24,216.5H361\" style=\"fill: none; stroke-width: 1px; stroke: rgb(36, 36, 36); stroke-opacity: 1;\"/><path class=\"ylines-above crisp\" d=\"M24.5,10V216\" style=\"fill: none; stroke-width: 1px; stroke: rgb(36, 36, 36); stroke-opacity: 1;\"/><g class=\"overlines-above\"/><g class=\"xaxislayer-above\"><path class=\"xtick ticks crisp\" d=\"M0,217v5\" transform=\"translate(25,0)\" style=\"stroke: rgb(68, 68, 68); stroke-opacity: 1; stroke-width: 1px;\"/><path class=\"xtick ticks crisp\" d=\"M0,217v5\" transform=\"translate(92.2,0)\" style=\"stroke: rgb(68, 68, 68); stroke-opacity: 1; stroke-width: 1px;\"/><path class=\"xtick ticks crisp\" d=\"M0,217v5\" transform=\"translate(159.4,0)\" style=\"stroke: rgb(68, 68, 68); stroke-opacity: 1; stroke-width: 1px;\"/><path class=\"xtick ticks crisp\" d=\"M0,217v5\" transform=\"translate(226.6,0)\" style=\"stroke: rgb(68, 68, 68); stroke-opacity: 1; stroke-width: 1px;\"/><path class=\"xtick ticks crisp\" d=\"M0,217v5\" transform=\"translate(293.8,0)\" style=\"stroke: rgb(68, 68, 68); stroke-opacity: 1; stroke-width: 1px;\"/><path class=\"xtick ticks crisp\" d=\"M0,217v5\" transform=\"translate(361,0)\" style=\"stroke: rgb(68, 68, 68); stroke-opacity: 1; stroke-width: 1px;\"/><g class=\"xtick\"><text text-anchor=\"middle\" x=\"0\" y=\"236.4\" transform=\"translate(25,0)\" style=\"font-family: 'Open Sans', verdana, arial, sans-serif; font-size: 12px; fill: rgb(36, 36, 36); fill-opacity: 1; white-space: pre; opacity: 1;\">0</text></g><g class=\"xtick\"><text text-anchor=\"middle\" x=\"0\" y=\"236.4\" style=\"font-family: 'Open Sans', verdana, arial, sans-serif; font-size: 12px; fill: rgb(36, 36, 36); fill-opacity: 1; white-space: pre; opacity: 1;\" transform=\"translate(92.2,0)\">0.2</text></g><g class=\"xtick\"><text text-anchor=\"middle\" x=\"0\" y=\"236.4\" style=\"font-family: 'Open Sans', verdana, arial, sans-serif; font-size: 12px; fill: rgb(36, 36, 36); fill-opacity: 1; white-space: pre; opacity: 1;\" transform=\"translate(159.4,0)\">0.4</text></g><g class=\"xtick\"><text text-anchor=\"middle\" x=\"0\" y=\"236.4\" style=\"font-family: 'Open Sans', verdana, arial, sans-serif; font-size: 12px; fill: rgb(36, 36, 36); fill-opacity: 1; white-space: pre; opacity: 1;\" transform=\"translate(226.6,0)\">0.6</text></g><g class=\"xtick\"><text text-anchor=\"middle\" x=\"0\" y=\"236.4\" style=\"font-family: 'Open Sans', verdana, arial, sans-serif; font-size: 12px; fill: rgb(36, 36, 36); fill-opacity: 1; white-space: pre; opacity: 1;\" transform=\"translate(293.8,0)\">0.8</text></g><g class=\"xtick\"><text text-anchor=\"middle\" x=\"0\" y=\"236.4\" style=\"font-family: 'Open Sans', verdana, arial, sans-serif; font-size: 12px; fill: rgb(36, 36, 36); fill-opacity: 1; white-space: pre; opacity: 1;\" transform=\"translate(361,0)\">1</text></g></g><g class=\"yaxislayer-above\"><path class=\"ytick ticks crisp\" d=\"M24,0h-5\" transform=\"translate(0,205.73)\" style=\"stroke: rgb(68, 68, 68); stroke-opacity: 1; stroke-width: 1px;\"/><path class=\"ytick ticks crisp\" d=\"M24,0h-5\" transform=\"translate(0,152.04)\" style=\"stroke: rgb(68, 68, 68); stroke-opacity: 1; stroke-width: 1px;\"/><path class=\"ytick ticks crisp\" d=\"M24,0h-5\" transform=\"translate(0,98.35)\" style=\"stroke: rgb(68, 68, 68); stroke-opacity: 1; stroke-width: 1px;\"/><path class=\"ytick ticks crisp\" d=\"M24,0h-5\" transform=\"translate(0,44.67)\" style=\"stroke: rgb(68, 68, 68); stroke-opacity: 1; stroke-width: 1px;\"/><g class=\"ytick\"><text text-anchor=\"end\" x=\"16.6\" y=\"4.199999999999999\" transform=\"translate(0,205.73)\" style=\"font-family: 'Open Sans', verdana, arial, sans-serif; font-size: 12px; fill: rgb(36, 36, 36); fill-opacity: 1; white-space: pre; opacity: 1;\">0</text></g><g class=\"ytick\"><text text-anchor=\"end\" x=\"16.6\" y=\"4.199999999999999\" style=\"font-family: 'Open Sans', verdana, arial, sans-serif; font-size: 12px; fill: rgb(36, 36, 36); fill-opacity: 1; white-space: pre; opacity: 1;\" transform=\"translate(0,152.04)\">2</text></g><g class=\"ytick\"><text text-anchor=\"end\" x=\"16.6\" y=\"4.199999999999999\" style=\"font-family: 'Open Sans', verdana, arial, sans-serif; font-size: 12px; fill: rgb(36, 36, 36); fill-opacity: 1; white-space: pre; opacity: 1;\" transform=\"translate(0,98.35)\">4</text></g><g class=\"ytick\"><text text-anchor=\"end\" x=\"16.6\" y=\"4.199999999999999\" style=\"font-family: 'Open Sans', verdana, arial, sans-serif; font-size: 12px; fill: rgb(36, 36, 36); fill-opacity: 1; white-space: pre; opacity: 1;\" transform=\"translate(0,44.67)\">6</text></g></g><g class=\"overaxes-above\"/></g></g><g class=\"polarlayer\"/><g class=\"smithlayer\"/><g class=\"ternarylayer\"/><g class=\"geolayer\"/><g class=\"funnelarealayer\"/><g class=\"pielayer\"/><g class=\"iciclelayer\"/><g class=\"treemaplayer\"/><g class=\"sunburstlayer\"/><g class=\"glimages\"/><defs id=\"topdefs-f90003\"><g class=\"clips\"/><clipPath id=\"legendf90003\"><rect width=\"72\" height=\"48\" x=\"0\" y=\"0\"/></clipPath></defs><g class=\"layer-above\"><g class=\"imagelayer\"/><g class=\"shapelayer\"/></g><g class=\"infolayer\"><g class=\"legend\" pointer-events=\"all\" transform=\"translate(367.72,10)\"><rect class=\"bg\" shape-rendering=\"crispEdges\" style=\"stroke: rgb(68, 68, 68); stroke-opacity: 1; fill: rgb(255, 255, 255); fill-opacity: 1; stroke-width: 0px;\" width=\"72\" height=\"48\" x=\"0\" y=\"0\"/><g class=\"scrollbox\" transform=\"\" clip-path=\"url(#legendf90003)\"><g class=\"groups\"><g class=\"traces\" transform=\"translate(0,14.5)\" style=\"opacity: 1;\"><text class=\"legendtext\" text-anchor=\"start\" x=\"40\" y=\"4.680000000000001\" style=\"font-family: 'Open Sans', verdana, arial, sans-serif; font-size: 12px; fill: rgb(36, 36, 36); fill-opacity: 1; white-space: pre;\">y = 1</text><g class=\"layers\" style=\"opacity: 1;\"><g class=\"legendfill\"/><g class=\"legendlines\"><path class=\"js-line\" d=\"M5,0h30\" style=\"fill: none; stroke: rgb(31, 119, 180); stroke-opacity: 1; stroke-width: 4px;\"/></g><g class=\"legendsymbols\"><g class=\"legendpoints\"/></g></g><rect class=\"legendtoggle\" x=\"0\" y=\"-9.5\" width=\"66.015625\" height=\"19\" style=\"fill: rgb(0, 0, 0); fill-opacity: 0;\"/></g><g class=\"traces\" transform=\"translate(0,33.5)\" style=\"opacity: 1;\"><text class=\"legendtext\" text-anchor=\"start\" x=\"40\" y=\"4.680000000000001\" style=\"font-family: 'Open Sans', verdana, arial, sans-serif; font-size: 12px; fill: rgb(36, 36, 36); fill-opacity: 1; white-space: pre;\">y = 0</text><g class=\"layers\" style=\"opacity: 1;\"><g class=\"legendfill\"/><g class=\"legendlines\"><path class=\"js-line\" d=\"M5,0h30\" style=\"fill: none; stroke: rgb(255, 127, 14); stroke-opacity: 1; stroke-dasharray: 4px, 4px; stroke-width: 4px;\"/></g><g class=\"legendsymbols\"><g class=\"legendpoints\"/></g></g><rect class=\"legendtoggle\" x=\"0\" y=\"-9.5\" width=\"66.015625\" height=\"19\" style=\"fill: rgb(0, 0, 0); fill-opacity: 0;\"/></g></g></g><rect class=\"scrollbar\" rx=\"20\" ry=\"3\" width=\"0\" height=\"0\" style=\"fill: rgb(128, 139, 164); fill-opacity: 1;\" x=\"0\" y=\"0\"/></g><g class=\"g-gtitle\"/><g class=\"g-xtitle\"/><g class=\"g-ytitle\"/></g></svg>"
      ]
     },
     "metadata": {},
     "output_type": "display_data"
    }
   ],
   "source": [
    "p = np.linspace(0.001,0.999,75)\n",
    "\n",
    "fig = go.Figure( )\n",
    "\n",
    "fig.add_trace(go.Scatter(x=p, y = -1*np.log(p), name=\"y = 1\",\n",
    "                        line=dict(width=4)))\n",
    "fig.add_trace(go.Scatter(x=p, y = -1*np.log(1-p), name=\"y = 0\",\n",
    "                        line=dict(width=4, dash='dot')))\n",
    "\n",
    "fig.update_layout(width=450, height=250, xaxis_range=[0,1])\n",
    "\n",
    "fig"
   ]
  },
  {
   "cell_type": "markdown",
   "metadata": {},
   "source": [
    "When $y $ is 1 (solid line), the loss is small for $p$ near 1,\n",
    "and when $y$ is 0 (dotted line) the loss is small near 0."
   ]
  },
  {
   "cell_type": "markdown",
   "metadata": {},
   "source": [
    "If our goal is to fit a constant to the data using logistic loss, then the average loss is:\n",
    "\n",
    "$$\n",
    "\\begin{aligned}\n",
    "L(p, \\textbf{y}) = &  \\frac{1}{n} \\sum_i  - y_i  \\log(p)  - (1 - y_i) \\log (1 -p)) \\\\\n",
    " = & -\\frac{n_1}{n} \\log(p)  - \\frac{n_0}{n} \\log (1 -p))\n",
    "\\end{aligned}\n",
    "$$\n",
    "Here $n_0$ and $n_1$ are the number of $y_i$ that are 0 and 1, respectively. \n",
    "We can differentiate with respect to $ p$ to find the minimizer:\n",
    "\n",
    "\n",
    "$$\n",
    "\\frac {\\partial L(p, \\textbf{y})} {\\partial p} =  -\\frac{n_1}{np}  + \\frac{n_0}{n(1-p)})\n",
    "$$\n",
    "\n",
    "Then, we set the derivative to 0 and solve for the minimizing value $\\hat{p}$:\n",
    "\n",
    "$$\n",
    "\\begin{aligned}\n",
    "0 &= -\\frac{n_1}{n{\\hat{p}}}  + \\frac{n_0}{n(1-{\\hat{p}})} \\\\\n",
    "0 &= - \\hat{p}(1-\\hat{p}) \\frac{n_1}{\\hat{p}}  + \\hat{p}(1-\\hat{p}) \\frac{n_0}{(1-{\\hat{p}})}\\\\ \n",
    "{n_1} (1-\\hat{p})  & = {n_0} \\hat{p}\\\\\n",
    "\\hat{p}  & = \\frac{n_1}{n}\n",
    "\\end{aligned}\n",
    "$$\n",
    "\n",
    "(The final equation results from noting that $n_0 + n_1 = n$.)"
   ]
  },
  {
   "cell_type": "markdown",
   "metadata": {},
   "source": [
    "To fit a more complex model based on the logistic function, then we substitute $ \\sigma(\\theta_0 + \\theta_1x) $ for $ p $. And, we write logistic loss for the logistic model as follows, \n",
    "\n",
    "$$ \n",
    "{\\ell}(\\sigma(\\theta_0 + \\theta_1x), y) =  ~ y \\ell(\\sigma(\\theta_0 + \\theta_1x), y) + \n",
    "(1-y)\\ell(\\sigma(\\theta_0 + \\theta_1x), 1-y)             \n",
    "$$\n",
    "\n",
    "Averaging the loss over the data, we arrive at:"
   ]
  },
  {
   "cell_type": "markdown",
   "metadata": {},
   "source": [
    "$$\n",
    "\\begin{aligned}\n",
    "L(\\theta_0, \\theta_1,\\textbf{x}, \\textbf{y}) =  \\frac{1}{n} \\sum_i  & - y_i \n",
    " \\log(\\sigma(\\theta_0 + \\theta_1x_i)) \\\\\n",
    " & - (1 - y_i) \\log (1 - \\sigma(\\theta_0 + \\theta_1x_i))\n",
    "\\end{aligned}\n",
    "$$"
   ]
  },
  {
   "cell_type": "markdown",
   "metadata": {},
   "source": [
    "Unlike with squared loss, there is no closed form solution to this loss function so iterative methods like gradient descent (see {numref}`Chapter %s <ch:optimization>`) are typically used to minimize the average loss with respect to $\\theta_0$ and $\\theta_1$ over the data. Also, we don't use squared error loss for logistic models because the average squared error is non-convex which makes it hard to optimize. "
   ]
  },
  {
   "cell_type": "markdown",
   "metadata": {},
   "source": [
    ":::{note} \n",
    "\n",
    "Logistic loss is also called, *log loss* and *cross-entropy loss*.\n",
    "Another name for it is the *negative log-likelihood*. This name refers to the technique of fitting models using the likelihood that a model produced our data. We do not go into the connections between these alternative names here. \n",
    "\n",
    ":::"
   ]
  },
  {
   "cell_type": "markdown",
   "metadata": {},
   "source": [
    "Fitting the logistic model (with the log-odds loss) is called *logistic regression*. Logisitc regression isn't technically a linear model but instead a generalized linear model (a linear model with a non-linear transformation). "
   ]
  },
  {
   "cell_type": "markdown",
   "metadata": {},
   "source": [
    "## Fitting a Logistic Model\n",
    "\n",
    "We can fit logistic models with `scikit-learn`. The API is the same as for fitting linear models by least squares, so we already know how to use it.  First, we import the logistic regression module, and then we set up the regression problem with outcome `y` and covariates `X` (notice that we import it from the linear models module): "
   ]
  },
  {
   "cell_type": "code",
   "execution_count": 6,
   "metadata": {},
   "outputs": [
    {
     "data": {
      "text/plain": [
       "LogisticRegression()"
      ]
     },
     "execution_count": 6,
     "metadata": {},
     "output_type": "execute_result"
    }
   ],
   "source": [
    "from sklearn.linear_model import LogisticRegression\n",
    "\n",
    "trees['log_diam'] = np.log(trees['diameter']) \n",
    "X = trees[['log_diam']].to_numpy()\n",
    "y = trees['status_0_1'].to_numpy()\n",
    "\n",
    "lr_model = LogisticRegression(solver=\"lbfgs\")\n",
    "lr_model.fit(X, y)"
   ]
  },
  {
   "cell_type": "markdown",
   "metadata": {},
   "source": [
    "We can examine the intercept and coefficient for diameter:"
   ]
  },
  {
   "cell_type": "code",
   "execution_count": 7,
   "metadata": {},
   "outputs": [
    {
     "data": {
      "text/plain": [
       "array([[3.04]])"
      ]
     },
     "execution_count": 7,
     "metadata": {},
     "output_type": "execute_result"
    }
   ],
   "source": [
    "lr_model.coef_"
   ]
  },
  {
   "cell_type": "code",
   "execution_count": 8,
   "metadata": {},
   "outputs": [
    {
     "data": {
      "text/plain": [
       "array([-7.39])"
      ]
     },
     "execution_count": 8,
     "metadata": {},
     "output_type": "execute_result"
    }
   ],
   "source": [
    "lr_model.intercept_"
   ]
  },
  {
   "cell_type": "markdown",
   "metadata": {},
   "source": [
    "When making a prediction the `predict` function returns the predicted (most likely class), and  the `predict_proba` returns the predicted probability. For a tree with diameter 6, we expect the prediction to be 0 (meaning standing) with a high probability. Let's check:"
   ]
  },
  {
   "cell_type": "code",
   "execution_count": 7,
   "metadata": {},
   "outputs": [
    {
     "data": {
      "text/plain": [
       "array([0])"
      ]
     },
     "execution_count": 7,
     "metadata": {},
     "output_type": "execute_result"
    }
   ],
   "source": [
    "lr_model.predict(np.array([[np.log(6)]]))"
   ]
  },
  {
   "cell_type": "code",
   "execution_count": 8,
   "metadata": {},
   "outputs": [
    {
     "data": {
      "text/plain": [
       "array([[0.87, 0.13]])"
      ]
     },
     "execution_count": 8,
     "metadata": {},
     "output_type": "execute_result"
    }
   ],
   "source": [
    "lr_model.predict_proba(np.array([[np.log(6)]]))"
   ]
  },
  {
   "cell_type": "code",
   "execution_count": 11,
   "metadata": {},
   "outputs": [
    {
     "data": {
      "text/plain": [
       "0.12531303145932227"
      ]
     },
     "execution_count": 11,
     "metadata": {},
     "output_type": "execute_result"
    }
   ],
   "source": [
    "1/(1 + np.exp(7.39 - (3.04*np.log(6))))"
   ]
  },
  {
   "cell_type": "markdown",
   "metadata": {},
   "source": [
    "This is the fitted logistic regression curve that we added to the earlier plot of probabilities. We might want to see if including the strength of the storm improves the model. To do this, we follow the same fitting procedure to fit a multiple logistic regression.\n",
    "\n",
    "When we fit a logistic regression, we are fitting a model to observed proportions, but we want to make classifications based on the predicted probabilities/proportions. Remember, this was our original classification problem. We address it next.  "
   ]
  },
  {
   "cell_type": "code",
   "execution_count": null,
   "metadata": {},
   "outputs": [],
   "source": []
  }
 ],
 "metadata": {
  "kernelspec": {
   "display_name": "Python 3",
   "language": "python",
   "name": "python3"
  },
  "language_info": {
   "codemirror_mode": {
    "name": "ipython",
    "version": 3
   },
   "file_extension": ".py",
   "mimetype": "text/x-python",
   "name": "python",
   "nbconvert_exporter": "python",
   "pygments_lexer": "ipython3",
   "version": "3.9.4"
  },
  "toc": {
   "nav_menu": {},
   "number_sections": false,
   "sideBar": false,
   "skip_h1_title": false,
   "title_cell": "Table of Contents",
   "title_sidebar": "Contents",
   "toc_cell": true,
   "toc_position": {},
   "toc_section_display": true,
   "toc_window_display": false
  }
 },
 "nbformat": 4,
 "nbformat_minor": 4
}
