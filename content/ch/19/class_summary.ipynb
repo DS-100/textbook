{
 "cells": [
  {
   "cell_type": "markdown",
   "metadata": {},
   "source": [
    "(sec:class_summary)=\n",
    "# Summary\n",
    "\n",
    "Logistic regression is a cornerstone in machine learning. This classification technique can be viewed as a simplified case of a neural network with one layer.  \n",
    "\n",
    "Be careful when interpreting the fitted models and coefficients. \n",
    "\n",
    "\n",
    "\n",
    "When the response variable has more than two categories, logistic regression can be extended to multinomial logistic regression. Another extension for response that consists of counts is Poisson regression. These different forms of regression are related to maximum likelihood, where the underlying model for the response is binomial, multinomial, or Poisson, respectively, and the goal is to optimize the likelihood of the data over the parameters of the respective distribution. Another name for them is generalized linear models. In all of these scenarios, closed form solutions do not exist, and optimization of the average loss relies on numerical methods. This is the topic of the next chapter.  \n",
    "\n",
    "\n",
    " \n",
    "\n"
   ]
  }
 ],
 "metadata": {
  "kernelspec": {
   "display_name": "Python 3",
   "language": "python",
   "name": "python3"
  },
  "language_info": {
   "codemirror_mode": {
    "name": "ipython",
    "version": 3
   },
   "file_extension": ".py",
   "mimetype": "text/x-python",
   "name": "python",
   "nbconvert_exporter": "python",
   "pygments_lexer": "ipython3",
   "version": "3.9.4"
  }
 },
 "nbformat": 4,
 "nbformat_minor": 4
}
