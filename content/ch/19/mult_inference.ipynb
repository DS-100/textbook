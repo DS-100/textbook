{
 "cells": [
  {
   "cell_type": "code",
   "execution_count": 1,
   "metadata": {
    "tags": [
     "remove-cell"
    ]
   },
   "outputs": [],
   "source": [
    "# Reference: https://jupyterbook.org/interactive/hiding.html\n",
    "# Use {hide, remove}-{input, output, cell} tags to hiding content\n",
    "\n",
    "import numpy as np\n",
    "import matplotlib.pyplot as plt\n",
    "import pandas as pd\n",
    "import seaborn as sns\n",
    "%matplotlib inline\n",
    "import ipywidgets as widgets\n",
    "from ipywidgets import interact, interactive, fixed, interact_manual\n",
    "from IPython.display import display, set_matplotlib_formats\n",
    "import myst_nb\n",
    "\n",
    "import plotly\n",
    "import plotly.graph_objects as go\n",
    "import plotly.express as px\n",
    "from plotly.subplots import make_subplots\n",
    "import plotly.io as pio\n",
    "pio.renderers.default = 'plotly_mimetype+svg'\n",
    "pio.templates['book'] = go.layout.Template(\n",
    "    layout=dict(\n",
    "        margin=dict(l=10, r=10, t=10, b=10),\n",
    "        autosize=True,\n",
    "        width=350, height=250,\n",
    "    )\n",
    ")\n",
    "pio.templates.default = 'seaborn+book'\n",
    "\n",
    "set_matplotlib_formats('svg')\n",
    "sns.set()\n",
    "np.set_printoptions(threshold=20, precision=2, suppress=True)\n",
    "pd.set_option('display.max_rows', 7)\n",
    "pd.set_option('display.max_columns', 8)\n",
    "pd.set_option('precision', 2)\n",
    "# This option stops scientific notation for pandas\n",
    "# pd.set_option('display.float_format', '{:.2f}'.format)\n",
    "\n",
    "def display_df(df, rows=pd.options.display.max_rows,\n",
    "               cols=pd.options.display.max_columns):\n",
    "    with pd.option_context('display.max_rows', rows,\n",
    "                           'display.max_columns', cols):\n",
    "        display(df)"
   ]
  },
  {
   "cell_type": "code",
   "execution_count": 2,
   "metadata": {
    "tags": [
     "remove-cell"
    ]
   },
   "outputs": [],
   "source": [
    "_clear = ['bingroup']\n",
    "\n",
    "def _clear_props(traces):\n",
    "    for trace in traces:\n",
    "        for prop in _clear:\n",
    "            if hasattr(trace, prop):\n",
    "                trace.update({prop: None})\n",
    "\n",
    "def left_right(left, right, width=700, height=250, **kwargs):\n",
    "    fig = make_subplots(cols=2, **kwargs)\n",
    "    fig.update_layout(width=width, height=height)\n",
    "    \n",
    "    t1 = list(left.select_traces())\n",
    "    t2 = list(right.select_traces())\n",
    "    _clear_props([*t1, *t2])\n",
    "    fig.add_traces(t1, rows=1, cols=1)\n",
    "    fig.add_traces(t2, rows=1, cols=2)\n",
    "    return fig\n",
    "\n",
    "def margin(fig, **kwargs):\n",
    "    return fig.update_layout(margin=kwargs)\n",
    "\n",
    "def to_plotly_text(text):\n",
    "    return text.strip().replace('\\n', '<br>')"
   ]
  },
  {
   "cell_type": "markdown",
   "metadata": {
    "colab_type": "text",
    "id": "C8fl0JZSL8Fc"
   },
   "source": [
    "(ch:mult_inference)=\n",
    "# Inference for Multiple Linear Regression "
   ]
  },
  {
   "cell_type": "markdown",
   "metadata": {
    "colab_type": "text",
    "id": "C8fl0JZSL8Fc"
   },
   "source": [
    "In linear regression, we fit a model of the following form:\n",
    "\n",
    "$$\n",
    "\\begin{aligned}\n",
    "f_\\boldsymbol\\theta (\\textbf{x})\n",
    "  &= \\boldsymbol\\theta \\cdot \\textbf{x} \\\\\n",
    "  &= \\theta_0 + \\theta_1 x_1\n",
    "    + \\ldots + \\theta_p x_p\n",
    "\\end{aligned}\n",
    "$$\n",
    "\n",
    "This model says that our prediction $f_\\boldsymbol\\theta (\\textbf{x})$\n",
    "depends linearly on each feature $x_i$."
   ]
  },
  {
   "cell_type": "markdown",
   "metadata": {},
   "source": [
    "Now, we'd like to generalize the model from the sample\n",
    "to the population.\n",
    "The key idea is to treat our data as random draws from the population.\n",
    "Then, we can use bootstrap resampling to simulate drawing multiple samples.\n",
    "We'll fit the model on each resample, make confidence intervals for \n",
    "the model parameters, and use the confidence intervals to make inferences\n",
    "about the population.\n",
    "Let's see this process through an example."
   ]
  },
  {
   "cell_type": "markdown",
   "metadata": {
    "colab_type": "text",
    "id": "5u8eZneY7QFC"
   },
   "source": [
    "## The Data\n",
    "\n",
    "Otis Dudley Duncan was a quantitative sociologist interested in measuring the prestige levels of different occupations. There were only 90 occupations that were rated for their prestige level in the 1947 National Opinion Research Center (NORC) survey. Duncan wanted to “fill in” prestige scores for unrated occupations by using income and education data about each occupation recorded by the 1950 census. When joining the NORC data with the 1950 census data, only 45 occupations could be matched. Ultimately, Duncan's goal was to create a model to explain prestige using different characteristics; using this model, one can predict the prestige of other occupations not recorded in the NORC survey.\n",
    "\n",
    "The Duncan dataset is a random sample of that contains information on the prestige and other characteristics of 45 U. S. occupations in 1950. \n",
    "The variables are:\n",
    "\n",
    "`occupation` represents the type of occupation/title.\n",
    "\n",
    "`income` represents the percentage of occupational incumbents who earned incomes in excess of $3,500.\n",
    "\n",
    "`education` represents the percentage of incumbents in the occupation in the 1950 U.S. Census who were high school graduates.\n",
    "\n",
    "`prestige` represents the percentage of respondents in a survey who rated an occupation as “good” or “excellent” in prestige.\n",
    "\n",
    "\n",
    "\n",
    "\n"
   ]
  },
  {
   "cell_type": "code",
   "execution_count": 5,
   "metadata": {},
   "outputs": [
    {
     "data": {
      "text/html": [
       "<div>\n",
       "<style scoped>\n",
       "    .dataframe tbody tr th:only-of-type {\n",
       "        vertical-align: middle;\n",
       "    }\n",
       "\n",
       "    .dataframe tbody tr th {\n",
       "        vertical-align: top;\n",
       "    }\n",
       "\n",
       "    .dataframe thead th {\n",
       "        text-align: right;\n",
       "    }\n",
       "</style>\n",
       "<table border=\"1\" class=\"dataframe\">\n",
       "  <thead>\n",
       "    <tr style=\"text-align: right;\">\n",
       "      <th></th>\n",
       "      <th>occupation</th>\n",
       "      <th>income</th>\n",
       "      <th>education</th>\n",
       "      <th>prestige</th>\n",
       "    </tr>\n",
       "  </thead>\n",
       "  <tbody>\n",
       "    <tr>\n",
       "      <th>0</th>\n",
       "      <td>accountant</td>\n",
       "      <td>62</td>\n",
       "      <td>86</td>\n",
       "      <td>82</td>\n",
       "    </tr>\n",
       "    <tr>\n",
       "      <th>1</th>\n",
       "      <td>pilot</td>\n",
       "      <td>72</td>\n",
       "      <td>76</td>\n",
       "      <td>83</td>\n",
       "    </tr>\n",
       "    <tr>\n",
       "      <th>2</th>\n",
       "      <td>architect</td>\n",
       "      <td>75</td>\n",
       "      <td>92</td>\n",
       "      <td>90</td>\n",
       "    </tr>\n",
       "    <tr>\n",
       "      <th>...</th>\n",
       "      <td>...</td>\n",
       "      <td>...</td>\n",
       "      <td>...</td>\n",
       "      <td>...</td>\n",
       "    </tr>\n",
       "    <tr>\n",
       "      <th>42</th>\n",
       "      <td>janitor</td>\n",
       "      <td>7</td>\n",
       "      <td>20</td>\n",
       "      <td>8</td>\n",
       "    </tr>\n",
       "    <tr>\n",
       "      <th>43</th>\n",
       "      <td>policeman</td>\n",
       "      <td>34</td>\n",
       "      <td>47</td>\n",
       "      <td>41</td>\n",
       "    </tr>\n",
       "    <tr>\n",
       "      <th>44</th>\n",
       "      <td>waiter</td>\n",
       "      <td>8</td>\n",
       "      <td>32</td>\n",
       "      <td>10</td>\n",
       "    </tr>\n",
       "  </tbody>\n",
       "</table>\n",
       "<p>45 rows × 4 columns</p>\n",
       "</div>"
      ],
      "text/plain": [
       "    occupation  income  education  prestige\n",
       "0   accountant      62         86        82\n",
       "1        pilot      72         76        83\n",
       "2    architect      75         92        90\n",
       "..         ...     ...        ...       ...\n",
       "42     janitor       7         20         8\n",
       "43   policeman      34         47        41\n",
       "44      waiter       8         32        10\n",
       "\n",
       "[45 rows x 4 columns]"
      ]
     },
     "execution_count": 5,
     "metadata": {},
     "output_type": "execute_result"
    }
   ],
   "source": [
    "duncan = pd.read_csv('data/duncan.csv').loc[:, [\"occupation\", \"income\", \"education\", \"prestige\"]]\n",
    "duncan"
   ]
  },
  {
   "cell_type": "markdown",
   "metadata": {},
   "source": [
    "It's a good idea to explore the data through visualization in order to gain an understanding of the relationships between our variables.\n",
    "To see if we can use income and education to predict prestige, we'll\n",
    "create scatter plots that show the relation between these variables and\n",
    "prestige."
   ]
  },
  {
   "cell_type": "code",
   "execution_count": 15,
   "metadata": {
    "tags": [
     "hide-input"
    ]
   },
   "outputs": [
    {
     "data": {
      "application/vnd.plotly.v1+json": {
       "config": {
        "plotlyServerURL": "https://plot.ly"
       },
       "data": [
        {
         "hovertemplate": "income=%{x}<br>prestige=%{y}<extra></extra>",
         "legendgroup": "",
         "marker": {
          "color": "rgb(76,114,176)",
          "symbol": "circle"
         },
         "mode": "markers",
         "name": "",
         "orientation": "v",
         "showlegend": false,
         "type": "scatter",
         "x": [
          62,
          72,
          75,
          55,
          64,
          21,
          64,
          80,
          67,
          72,
          42,
          76,
          76,
          41,
          48,
          76,
          53,
          60,
          42,
          78,
          29,
          48,
          55,
          29,
          21,
          47,
          81,
          36,
          22,
          44,
          15,
          7,
          42,
          9,
          21,
          21,
          16,
          16,
          9,
          14,
          12,
          17,
          7,
          34,
          8
         ],
         "xaxis": "x",
         "y": [
          82,
          83,
          90,
          76,
          90,
          87,
          93,
          90,
          52,
          88,
          57,
          89,
          97,
          59,
          73,
          38,
          76,
          81,
          45,
          92,
          39,
          34,
          41,
          16,
          33,
          53,
          67,
          57,
          26,
          29,
          10,
          15,
          19,
          10,
          13,
          24,
          20,
          7,
          3,
          16,
          6,
          11,
          8,
          41,
          10
         ],
         "yaxis": "y"
        },
        {
         "hovertemplate": "education=%{x}<br>prestige=%{y}<extra></extra>",
         "legendgroup": "",
         "marker": {
          "color": "rgb(76,114,176)",
          "symbol": "circle"
         },
         "mode": "markers",
         "name": "",
         "orientation": "v",
         "showlegend": false,
         "type": "scatter",
         "x": [
          86,
          76,
          92,
          90,
          86,
          84,
          93,
          100,
          87,
          86,
          74,
          98,
          97,
          84,
          91,
          34,
          45,
          56,
          44,
          82,
          72,
          55,
          71,
          50,
          23,
          39,
          28,
          32,
          22,
          25,
          29,
          7,
          26,
          19,
          15,
          20,
          26,
          28,
          17,
          22,
          30,
          25,
          20,
          47,
          32
         ],
         "xaxis": "x2",
         "y": [
          82,
          83,
          90,
          76,
          90,
          87,
          93,
          90,
          52,
          88,
          57,
          89,
          97,
          59,
          73,
          38,
          76,
          81,
          45,
          92,
          39,
          34,
          41,
          16,
          33,
          53,
          67,
          57,
          26,
          29,
          10,
          15,
          19,
          10,
          13,
          24,
          20,
          7,
          3,
          16,
          6,
          11,
          8,
          41,
          10
         ],
         "yaxis": "y2"
        }
       ],
       "layout": {
        "height": 250,
        "template": {
         "data": {
          "bar": [
           {
            "error_x": {
             "color": "rgb(36,36,36)"
            },
            "error_y": {
             "color": "rgb(36,36,36)"
            },
            "marker": {
             "line": {
              "color": "rgb(234,234,242)",
              "width": 0.5
             },
             "pattern": {
              "fillmode": "overlay",
              "size": 10,
              "solidity": 0.2
             }
            },
            "type": "bar"
           }
          ],
          "barpolar": [
           {
            "marker": {
             "line": {
              "color": "rgb(234,234,242)",
              "width": 0.5
             },
             "pattern": {
              "fillmode": "overlay",
              "size": 10,
              "solidity": 0.2
             }
            },
            "type": "barpolar"
           }
          ],
          "carpet": [
           {
            "aaxis": {
             "endlinecolor": "rgb(36,36,36)",
             "gridcolor": "white",
             "linecolor": "white",
             "minorgridcolor": "white",
             "startlinecolor": "rgb(36,36,36)"
            },
            "baxis": {
             "endlinecolor": "rgb(36,36,36)",
             "gridcolor": "white",
             "linecolor": "white",
             "minorgridcolor": "white",
             "startlinecolor": "rgb(36,36,36)"
            },
            "type": "carpet"
           }
          ],
          "choropleth": [
           {
            "colorbar": {
             "outlinewidth": 0,
             "tickcolor": "rgb(36,36,36)",
             "ticklen": 8,
             "ticks": "outside",
             "tickwidth": 2
            },
            "type": "choropleth"
           }
          ],
          "contour": [
           {
            "colorbar": {
             "outlinewidth": 0,
             "tickcolor": "rgb(36,36,36)",
             "ticklen": 8,
             "ticks": "outside",
             "tickwidth": 2
            },
            "colorscale": [
             [
              0,
              "rgb(2,4,25)"
             ],
             [
              0.06274509803921569,
              "rgb(24,15,41)"
             ],
             [
              0.12549019607843137,
              "rgb(47,23,57)"
             ],
             [
              0.18823529411764706,
              "rgb(71,28,72)"
             ],
             [
              0.25098039215686274,
              "rgb(97,30,82)"
             ],
             [
              0.3137254901960784,
              "rgb(123,30,89)"
             ],
             [
              0.3764705882352941,
              "rgb(150,27,91)"
             ],
             [
              0.4392156862745098,
              "rgb(177,22,88)"
             ],
             [
              0.5019607843137255,
              "rgb(203,26,79)"
             ],
             [
              0.5647058823529412,
              "rgb(223,47,67)"
             ],
             [
              0.6274509803921569,
              "rgb(236,76,61)"
             ],
             [
              0.6901960784313725,
              "rgb(242,107,73)"
             ],
             [
              0.7529411764705882,
              "rgb(244,135,95)"
             ],
             [
              0.8156862745098039,
              "rgb(245,162,122)"
             ],
             [
              0.8784313725490196,
              "rgb(246,188,153)"
             ],
             [
              0.9411764705882353,
              "rgb(247,212,187)"
             ],
             [
              1,
              "rgb(250,234,220)"
             ]
            ],
            "type": "contour"
           }
          ],
          "contourcarpet": [
           {
            "colorbar": {
             "outlinewidth": 0,
             "tickcolor": "rgb(36,36,36)",
             "ticklen": 8,
             "ticks": "outside",
             "tickwidth": 2
            },
            "type": "contourcarpet"
           }
          ],
          "heatmap": [
           {
            "colorbar": {
             "outlinewidth": 0,
             "tickcolor": "rgb(36,36,36)",
             "ticklen": 8,
             "ticks": "outside",
             "tickwidth": 2
            },
            "colorscale": [
             [
              0,
              "rgb(2,4,25)"
             ],
             [
              0.06274509803921569,
              "rgb(24,15,41)"
             ],
             [
              0.12549019607843137,
              "rgb(47,23,57)"
             ],
             [
              0.18823529411764706,
              "rgb(71,28,72)"
             ],
             [
              0.25098039215686274,
              "rgb(97,30,82)"
             ],
             [
              0.3137254901960784,
              "rgb(123,30,89)"
             ],
             [
              0.3764705882352941,
              "rgb(150,27,91)"
             ],
             [
              0.4392156862745098,
              "rgb(177,22,88)"
             ],
             [
              0.5019607843137255,
              "rgb(203,26,79)"
             ],
             [
              0.5647058823529412,
              "rgb(223,47,67)"
             ],
             [
              0.6274509803921569,
              "rgb(236,76,61)"
             ],
             [
              0.6901960784313725,
              "rgb(242,107,73)"
             ],
             [
              0.7529411764705882,
              "rgb(244,135,95)"
             ],
             [
              0.8156862745098039,
              "rgb(245,162,122)"
             ],
             [
              0.8784313725490196,
              "rgb(246,188,153)"
             ],
             [
              0.9411764705882353,
              "rgb(247,212,187)"
             ],
             [
              1,
              "rgb(250,234,220)"
             ]
            ],
            "type": "heatmap"
           }
          ],
          "heatmapgl": [
           {
            "colorbar": {
             "outlinewidth": 0,
             "tickcolor": "rgb(36,36,36)",
             "ticklen": 8,
             "ticks": "outside",
             "tickwidth": 2
            },
            "colorscale": [
             [
              0,
              "rgb(2,4,25)"
             ],
             [
              0.06274509803921569,
              "rgb(24,15,41)"
             ],
             [
              0.12549019607843137,
              "rgb(47,23,57)"
             ],
             [
              0.18823529411764706,
              "rgb(71,28,72)"
             ],
             [
              0.25098039215686274,
              "rgb(97,30,82)"
             ],
             [
              0.3137254901960784,
              "rgb(123,30,89)"
             ],
             [
              0.3764705882352941,
              "rgb(150,27,91)"
             ],
             [
              0.4392156862745098,
              "rgb(177,22,88)"
             ],
             [
              0.5019607843137255,
              "rgb(203,26,79)"
             ],
             [
              0.5647058823529412,
              "rgb(223,47,67)"
             ],
             [
              0.6274509803921569,
              "rgb(236,76,61)"
             ],
             [
              0.6901960784313725,
              "rgb(242,107,73)"
             ],
             [
              0.7529411764705882,
              "rgb(244,135,95)"
             ],
             [
              0.8156862745098039,
              "rgb(245,162,122)"
             ],
             [
              0.8784313725490196,
              "rgb(246,188,153)"
             ],
             [
              0.9411764705882353,
              "rgb(247,212,187)"
             ],
             [
              1,
              "rgb(250,234,220)"
             ]
            ],
            "type": "heatmapgl"
           }
          ],
          "histogram": [
           {
            "marker": {
             "pattern": {
              "fillmode": "overlay",
              "size": 10,
              "solidity": 0.2
             }
            },
            "type": "histogram"
           }
          ],
          "histogram2d": [
           {
            "colorbar": {
             "outlinewidth": 0,
             "tickcolor": "rgb(36,36,36)",
             "ticklen": 8,
             "ticks": "outside",
             "tickwidth": 2
            },
            "colorscale": [
             [
              0,
              "rgb(2,4,25)"
             ],
             [
              0.06274509803921569,
              "rgb(24,15,41)"
             ],
             [
              0.12549019607843137,
              "rgb(47,23,57)"
             ],
             [
              0.18823529411764706,
              "rgb(71,28,72)"
             ],
             [
              0.25098039215686274,
              "rgb(97,30,82)"
             ],
             [
              0.3137254901960784,
              "rgb(123,30,89)"
             ],
             [
              0.3764705882352941,
              "rgb(150,27,91)"
             ],
             [
              0.4392156862745098,
              "rgb(177,22,88)"
             ],
             [
              0.5019607843137255,
              "rgb(203,26,79)"
             ],
             [
              0.5647058823529412,
              "rgb(223,47,67)"
             ],
             [
              0.6274509803921569,
              "rgb(236,76,61)"
             ],
             [
              0.6901960784313725,
              "rgb(242,107,73)"
             ],
             [
              0.7529411764705882,
              "rgb(244,135,95)"
             ],
             [
              0.8156862745098039,
              "rgb(245,162,122)"
             ],
             [
              0.8784313725490196,
              "rgb(246,188,153)"
             ],
             [
              0.9411764705882353,
              "rgb(247,212,187)"
             ],
             [
              1,
              "rgb(250,234,220)"
             ]
            ],
            "type": "histogram2d"
           }
          ],
          "histogram2dcontour": [
           {
            "colorbar": {
             "outlinewidth": 0,
             "tickcolor": "rgb(36,36,36)",
             "ticklen": 8,
             "ticks": "outside",
             "tickwidth": 2
            },
            "colorscale": [
             [
              0,
              "rgb(2,4,25)"
             ],
             [
              0.06274509803921569,
              "rgb(24,15,41)"
             ],
             [
              0.12549019607843137,
              "rgb(47,23,57)"
             ],
             [
              0.18823529411764706,
              "rgb(71,28,72)"
             ],
             [
              0.25098039215686274,
              "rgb(97,30,82)"
             ],
             [
              0.3137254901960784,
              "rgb(123,30,89)"
             ],
             [
              0.3764705882352941,
              "rgb(150,27,91)"
             ],
             [
              0.4392156862745098,
              "rgb(177,22,88)"
             ],
             [
              0.5019607843137255,
              "rgb(203,26,79)"
             ],
             [
              0.5647058823529412,
              "rgb(223,47,67)"
             ],
             [
              0.6274509803921569,
              "rgb(236,76,61)"
             ],
             [
              0.6901960784313725,
              "rgb(242,107,73)"
             ],
             [
              0.7529411764705882,
              "rgb(244,135,95)"
             ],
             [
              0.8156862745098039,
              "rgb(245,162,122)"
             ],
             [
              0.8784313725490196,
              "rgb(246,188,153)"
             ],
             [
              0.9411764705882353,
              "rgb(247,212,187)"
             ],
             [
              1,
              "rgb(250,234,220)"
             ]
            ],
            "type": "histogram2dcontour"
           }
          ],
          "mesh3d": [
           {
            "colorbar": {
             "outlinewidth": 0,
             "tickcolor": "rgb(36,36,36)",
             "ticklen": 8,
             "ticks": "outside",
             "tickwidth": 2
            },
            "type": "mesh3d"
           }
          ],
          "parcoords": [
           {
            "line": {
             "colorbar": {
              "outlinewidth": 0,
              "tickcolor": "rgb(36,36,36)",
              "ticklen": 8,
              "ticks": "outside",
              "tickwidth": 2
             }
            },
            "type": "parcoords"
           }
          ],
          "pie": [
           {
            "automargin": true,
            "type": "pie"
           }
          ],
          "scatter": [
           {
            "marker": {
             "colorbar": {
              "outlinewidth": 0,
              "tickcolor": "rgb(36,36,36)",
              "ticklen": 8,
              "ticks": "outside",
              "tickwidth": 2
             }
            },
            "type": "scatter"
           }
          ],
          "scatter3d": [
           {
            "line": {
             "colorbar": {
              "outlinewidth": 0,
              "tickcolor": "rgb(36,36,36)",
              "ticklen": 8,
              "ticks": "outside",
              "tickwidth": 2
             }
            },
            "marker": {
             "colorbar": {
              "outlinewidth": 0,
              "tickcolor": "rgb(36,36,36)",
              "ticklen": 8,
              "ticks": "outside",
              "tickwidth": 2
             }
            },
            "type": "scatter3d"
           }
          ],
          "scattercarpet": [
           {
            "marker": {
             "colorbar": {
              "outlinewidth": 0,
              "tickcolor": "rgb(36,36,36)",
              "ticklen": 8,
              "ticks": "outside",
              "tickwidth": 2
             }
            },
            "type": "scattercarpet"
           }
          ],
          "scattergeo": [
           {
            "marker": {
             "colorbar": {
              "outlinewidth": 0,
              "tickcolor": "rgb(36,36,36)",
              "ticklen": 8,
              "ticks": "outside",
              "tickwidth": 2
             }
            },
            "type": "scattergeo"
           }
          ],
          "scattergl": [
           {
            "marker": {
             "colorbar": {
              "outlinewidth": 0,
              "tickcolor": "rgb(36,36,36)",
              "ticklen": 8,
              "ticks": "outside",
              "tickwidth": 2
             }
            },
            "type": "scattergl"
           }
          ],
          "scattermapbox": [
           {
            "marker": {
             "colorbar": {
              "outlinewidth": 0,
              "tickcolor": "rgb(36,36,36)",
              "ticklen": 8,
              "ticks": "outside",
              "tickwidth": 2
             }
            },
            "type": "scattermapbox"
           }
          ],
          "scatterpolar": [
           {
            "marker": {
             "colorbar": {
              "outlinewidth": 0,
              "tickcolor": "rgb(36,36,36)",
              "ticklen": 8,
              "ticks": "outside",
              "tickwidth": 2
             }
            },
            "type": "scatterpolar"
           }
          ],
          "scatterpolargl": [
           {
            "marker": {
             "colorbar": {
              "outlinewidth": 0,
              "tickcolor": "rgb(36,36,36)",
              "ticklen": 8,
              "ticks": "outside",
              "tickwidth": 2
             }
            },
            "type": "scatterpolargl"
           }
          ],
          "scatterternary": [
           {
            "marker": {
             "colorbar": {
              "outlinewidth": 0,
              "tickcolor": "rgb(36,36,36)",
              "ticklen": 8,
              "ticks": "outside",
              "tickwidth": 2
             }
            },
            "type": "scatterternary"
           }
          ],
          "surface": [
           {
            "colorbar": {
             "outlinewidth": 0,
             "tickcolor": "rgb(36,36,36)",
             "ticklen": 8,
             "ticks": "outside",
             "tickwidth": 2
            },
            "colorscale": [
             [
              0,
              "rgb(2,4,25)"
             ],
             [
              0.06274509803921569,
              "rgb(24,15,41)"
             ],
             [
              0.12549019607843137,
              "rgb(47,23,57)"
             ],
             [
              0.18823529411764706,
              "rgb(71,28,72)"
             ],
             [
              0.25098039215686274,
              "rgb(97,30,82)"
             ],
             [
              0.3137254901960784,
              "rgb(123,30,89)"
             ],
             [
              0.3764705882352941,
              "rgb(150,27,91)"
             ],
             [
              0.4392156862745098,
              "rgb(177,22,88)"
             ],
             [
              0.5019607843137255,
              "rgb(203,26,79)"
             ],
             [
              0.5647058823529412,
              "rgb(223,47,67)"
             ],
             [
              0.6274509803921569,
              "rgb(236,76,61)"
             ],
             [
              0.6901960784313725,
              "rgb(242,107,73)"
             ],
             [
              0.7529411764705882,
              "rgb(244,135,95)"
             ],
             [
              0.8156862745098039,
              "rgb(245,162,122)"
             ],
             [
              0.8784313725490196,
              "rgb(246,188,153)"
             ],
             [
              0.9411764705882353,
              "rgb(247,212,187)"
             ],
             [
              1,
              "rgb(250,234,220)"
             ]
            ],
            "type": "surface"
           }
          ],
          "table": [
           {
            "cells": {
             "fill": {
              "color": "rgb(231,231,240)"
             },
             "line": {
              "color": "white"
             }
            },
            "header": {
             "fill": {
              "color": "rgb(183,183,191)"
             },
             "line": {
              "color": "white"
             }
            },
            "type": "table"
           }
          ]
         },
         "layout": {
          "annotationdefaults": {
           "arrowcolor": "rgb(67,103,167)"
          },
          "autosize": true,
          "autotypenumbers": "strict",
          "coloraxis": {
           "colorbar": {
            "outlinewidth": 0,
            "tickcolor": "rgb(36,36,36)",
            "ticklen": 8,
            "ticks": "outside",
            "tickwidth": 2
           }
          },
          "colorscale": {
           "sequential": [
            [
             0,
             "rgb(2,4,25)"
            ],
            [
             0.06274509803921569,
             "rgb(24,15,41)"
            ],
            [
             0.12549019607843137,
             "rgb(47,23,57)"
            ],
            [
             0.18823529411764706,
             "rgb(71,28,72)"
            ],
            [
             0.25098039215686274,
             "rgb(97,30,82)"
            ],
            [
             0.3137254901960784,
             "rgb(123,30,89)"
            ],
            [
             0.3764705882352941,
             "rgb(150,27,91)"
            ],
            [
             0.4392156862745098,
             "rgb(177,22,88)"
            ],
            [
             0.5019607843137255,
             "rgb(203,26,79)"
            ],
            [
             0.5647058823529412,
             "rgb(223,47,67)"
            ],
            [
             0.6274509803921569,
             "rgb(236,76,61)"
            ],
            [
             0.6901960784313725,
             "rgb(242,107,73)"
            ],
            [
             0.7529411764705882,
             "rgb(244,135,95)"
            ],
            [
             0.8156862745098039,
             "rgb(245,162,122)"
            ],
            [
             0.8784313725490196,
             "rgb(246,188,153)"
            ],
            [
             0.9411764705882353,
             "rgb(247,212,187)"
            ],
            [
             1,
             "rgb(250,234,220)"
            ]
           ],
           "sequentialminus": [
            [
             0,
             "rgb(2,4,25)"
            ],
            [
             0.06274509803921569,
             "rgb(24,15,41)"
            ],
            [
             0.12549019607843137,
             "rgb(47,23,57)"
            ],
            [
             0.18823529411764706,
             "rgb(71,28,72)"
            ],
            [
             0.25098039215686274,
             "rgb(97,30,82)"
            ],
            [
             0.3137254901960784,
             "rgb(123,30,89)"
            ],
            [
             0.3764705882352941,
             "rgb(150,27,91)"
            ],
            [
             0.4392156862745098,
             "rgb(177,22,88)"
            ],
            [
             0.5019607843137255,
             "rgb(203,26,79)"
            ],
            [
             0.5647058823529412,
             "rgb(223,47,67)"
            ],
            [
             0.6274509803921569,
             "rgb(236,76,61)"
            ],
            [
             0.6901960784313725,
             "rgb(242,107,73)"
            ],
            [
             0.7529411764705882,
             "rgb(244,135,95)"
            ],
            [
             0.8156862745098039,
             "rgb(245,162,122)"
            ],
            [
             0.8784313725490196,
             "rgb(246,188,153)"
            ],
            [
             0.9411764705882353,
             "rgb(247,212,187)"
            ],
            [
             1,
             "rgb(250,234,220)"
            ]
           ]
          },
          "colorway": [
           "rgb(76,114,176)",
           "rgb(221,132,82)",
           "rgb(85,168,104)",
           "rgb(196,78,82)",
           "rgb(129,114,179)",
           "rgb(147,120,96)",
           "rgb(218,139,195)",
           "rgb(140,140,140)",
           "rgb(204,185,116)",
           "rgb(100,181,205)"
          ],
          "font": {
           "color": "rgb(36,36,36)"
          },
          "geo": {
           "bgcolor": "white",
           "lakecolor": "white",
           "landcolor": "rgb(234,234,242)",
           "showlakes": true,
           "showland": true,
           "subunitcolor": "white"
          },
          "height": 250,
          "hoverlabel": {
           "align": "left"
          },
          "hovermode": "closest",
          "margin": {
           "b": 10,
           "l": 10,
           "r": 10,
           "t": 10
          },
          "paper_bgcolor": "white",
          "plot_bgcolor": "rgb(234,234,242)",
          "polar": {
           "angularaxis": {
            "gridcolor": "white",
            "linecolor": "white",
            "showgrid": true,
            "ticks": ""
           },
           "bgcolor": "rgb(234,234,242)",
           "radialaxis": {
            "gridcolor": "white",
            "linecolor": "white",
            "showgrid": true,
            "ticks": ""
           }
          },
          "scene": {
           "xaxis": {
            "backgroundcolor": "rgb(234,234,242)",
            "gridcolor": "white",
            "gridwidth": 2,
            "linecolor": "white",
            "showbackground": true,
            "showgrid": true,
            "ticks": "",
            "zerolinecolor": "white"
           },
           "yaxis": {
            "backgroundcolor": "rgb(234,234,242)",
            "gridcolor": "white",
            "gridwidth": 2,
            "linecolor": "white",
            "showbackground": true,
            "showgrid": true,
            "ticks": "",
            "zerolinecolor": "white"
           },
           "zaxis": {
            "backgroundcolor": "rgb(234,234,242)",
            "gridcolor": "white",
            "gridwidth": 2,
            "linecolor": "white",
            "showbackground": true,
            "showgrid": true,
            "ticks": "",
            "zerolinecolor": "white"
           }
          },
          "shapedefaults": {
           "fillcolor": "rgb(67,103,167)",
           "line": {
            "width": 0
           },
           "opacity": 0.5
          },
          "ternary": {
           "aaxis": {
            "gridcolor": "white",
            "linecolor": "white",
            "showgrid": true,
            "ticks": ""
           },
           "baxis": {
            "gridcolor": "white",
            "linecolor": "white",
            "showgrid": true,
            "ticks": ""
           },
           "bgcolor": "rgb(234,234,242)",
           "caxis": {
            "gridcolor": "white",
            "linecolor": "white",
            "showgrid": true,
            "ticks": ""
           }
          },
          "width": 350,
          "xaxis": {
           "automargin": true,
           "gridcolor": "white",
           "linecolor": "white",
           "showgrid": true,
           "ticks": "",
           "title": {
            "standoff": 15
           },
           "zerolinecolor": "white"
          },
          "yaxis": {
           "automargin": true,
           "gridcolor": "white",
           "linecolor": "white",
           "showgrid": true,
           "ticks": "",
           "title": {
            "standoff": 15
           },
           "zerolinecolor": "white"
          }
         }
        },
        "width": 700,
        "xaxis": {
         "anchor": "y",
         "autorange": true,
         "domain": [
          0,
          0.45
         ],
         "range": [
          1.6458849851847388,
          86.35411501481526
         ],
         "title": {
          "text": "income"
         },
         "type": "linear"
        },
        "xaxis2": {
         "anchor": "y2",
         "autorange": true,
         "domain": [
          0.55,
          1
         ],
         "range": [
          0.2711797786781167,
          106.72882022132188
         ],
         "title": {
          "text": "education"
         },
         "type": "linear"
        },
        "yaxis": {
         "anchor": "x",
         "autorange": true,
         "domain": [
          0,
          1
         ],
         "range": [
          -4.630996309963099,
          104.6309963099631
         ],
         "title": {
          "text": "prestige"
         },
         "type": "linear"
        },
        "yaxis2": {
         "anchor": "x2",
         "autorange": true,
         "domain": [
          0,
          1
         ],
         "range": [
          -4.630996309963099,
          104.6309963099631
         ],
         "type": "linear"
        }
       }
      },
      "image/png": "[encoded data removed]",
      "image/svg+xml": [
       "<svg class=\"main-svg\" xmlns=\"http://www.w3.org/2000/svg\" xmlns:xlink=\"http://www.w3.org/1999/xlink\" width=\"700\" height=\"250\" style=\"\" viewBox=\"0 0 700 250\"><rect x=\"0\" y=\"0\" width=\"700\" height=\"250\" style=\"fill: rgb(255, 255, 255); fill-opacity: 1;\"/><defs id=\"defs-0393bb\"><g class=\"clips\"><clipPath id=\"clip0393bbxyplot\" class=\"plotclip\"><rect width=\"283.95\" height=\"190\"/></clipPath><clipPath id=\"clip0393bbx2y2plot\" class=\"plotclip\"><rect width=\"283.95\" height=\"190\"/></clipPath><clipPath class=\"axesclip\" id=\"clip0393bbx\"><rect x=\"59\" y=\"0\" width=\"283.95\" height=\"250\"/></clipPath><clipPath class=\"axesclip\" id=\"clip0393bby\"><rect x=\"0\" y=\"10\" width=\"700\" height=\"190\"/></clipPath><clipPath class=\"axesclip\" id=\"clip0393bbxy\"><rect x=\"59\" y=\"10\" width=\"283.95\" height=\"190\"/></clipPath><clipPath class=\"axesclip\" id=\"clip0393bby2\"><rect x=\"0\" y=\"10\" width=\"700\" height=\"190\"/></clipPath><clipPath class=\"axesclip\" id=\"clip0393bbxy2\"><rect x=\"59\" y=\"10\" width=\"283.95\" height=\"190\"/></clipPath><clipPath class=\"axesclip\" id=\"clip0393bbx2\"><rect x=\"406.05\" y=\"0\" width=\"283.95\" height=\"250\"/></clipPath><clipPath class=\"axesclip\" id=\"clip0393bbx2y\"><rect x=\"406.05\" y=\"10\" width=\"283.95\" height=\"190\"/></clipPath><clipPath class=\"axesclip\" id=\"clip0393bbx2y2\"><rect x=\"406.05\" y=\"10\" width=\"283.95\" height=\"190\"/></clipPath></g><g class=\"gradients\"/><g class=\"patterns\"/></defs><g class=\"bglayer\"><rect class=\"bg\" x=\"59\" y=\"10\" width=\"283.95\" height=\"190\" style=\"fill: rgb(234, 234, 242); fill-opacity: 1; stroke-width: 0;\"/><rect class=\"bg\" x=\"406.05\" y=\"10\" width=\"283.95\" height=\"190\" style=\"fill: rgb(234, 234, 242); fill-opacity: 1; stroke-width: 0;\"/></g><g class=\"layer-below\"><g class=\"imagelayer\"/><g class=\"shapelayer\"/></g><g class=\"cartesianlayer\"><g class=\"subplot xy\"><g class=\"layer-subplot\"><g class=\"shapelayer\"/><g class=\"imagelayer\"/></g><g class=\"gridlayer\"><g class=\"x\"><path class=\"xgrid crisp\" transform=\"translate(120.52000000000001,0)\" d=\"M0,10v190\" style=\"stroke: rgb(255, 255, 255); stroke-opacity: 1; stroke-width: 1px;\"/><path class=\"xgrid crisp\" transform=\"translate(187.57,0)\" d=\"M0,10v190\" style=\"stroke: rgb(255, 255, 255); stroke-opacity: 1; stroke-width: 1px;\"/><path class=\"xgrid crisp\" transform=\"translate(254.61,0)\" d=\"M0,10v190\" style=\"stroke: rgb(255, 255, 255); stroke-opacity: 1; stroke-width: 1px;\"/><path class=\"xgrid crisp\" transform=\"translate(321.65,0)\" d=\"M0,10v190\" style=\"stroke: rgb(255, 255, 255); stroke-opacity: 1; stroke-width: 1px;\"/></g><g class=\"y\"><path class=\"ygrid crisp\" transform=\"translate(0,157.18)\" d=\"M59,0h283.95\" style=\"stroke: rgb(255, 255, 255); stroke-opacity: 1; stroke-width: 1px;\"/><path class=\"ygrid crisp\" transform=\"translate(0,122.39)\" d=\"M59,0h283.95\" style=\"stroke: rgb(255, 255, 255); stroke-opacity: 1; stroke-width: 1px;\"/><path class=\"ygrid crisp\" transform=\"translate(0,87.61)\" d=\"M59,0h283.95\" style=\"stroke: rgb(255, 255, 255); stroke-opacity: 1; stroke-width: 1px;\"/><path class=\"ygrid crisp\" transform=\"translate(0,52.82)\" d=\"M59,0h283.95\" style=\"stroke: rgb(255, 255, 255); stroke-opacity: 1; stroke-width: 1px;\"/><path class=\"ygrid crisp\" transform=\"translate(0,18.03)\" d=\"M59,0h283.95\" style=\"stroke: rgb(255, 255, 255); stroke-opacity: 1; stroke-width: 1px;\"/></g></g><g class=\"zerolinelayer\"><path class=\"yzl zl crisp\" transform=\"translate(0,191.97)\" d=\"M59,0h283.95\" style=\"stroke: rgb(255, 255, 255); stroke-opacity: 1; stroke-width: 1px;\"/></g><path class=\"xlines-below\"/><path class=\"ylines-below\"/><g class=\"overlines-below\"/><g class=\"xaxislayer-below\"/><g class=\"yaxislayer-below\"/><g class=\"overaxes-below\"/><g class=\"plot\" transform=\"translate(59,10)\" clip-path=\"url(#clip0393bbxyplot)\"><g class=\"scatterlayer mlayer\"><g class=\"trace scatter tracee6e276\" style=\"stroke-miterlimit: 2; opacity: 1;\"><g class=\"fills\"/><g class=\"errorbars\"/><g class=\"lines\"/><g class=\"points\"><path class=\"point\" transform=\"translate(202.31,39.34)\" d=\"M3,0A3,3 0 1,1 0,-3A3,3 0 0,1 3,0Z\" style=\"opacity: 1; stroke-width: 0px; fill: rgb(76, 114, 176); fill-opacity: 1;\"/><path class=\"point\" transform=\"translate(235.83,37.6)\" d=\"M3,0A3,3 0 1,1 0,-3A3,3 0 0,1 3,0Z\" style=\"opacity: 1; stroke-width: 0px; fill: rgb(76, 114, 176); fill-opacity: 1;\"/><path class=\"point\" transform=\"translate(245.89,25.43)\" d=\"M3,0A3,3 0 1,1 0,-3A3,3 0 0,1 3,0Z\" style=\"opacity: 1; stroke-width: 0px; fill: rgb(76, 114, 176); fill-opacity: 1;\"/><path class=\"point\" transform=\"translate(178.85,49.78)\" d=\"M3,0A3,3 0 1,1 0,-3A3,3 0 0,1 3,0Z\" style=\"opacity: 1; stroke-width: 0px; fill: rgb(76, 114, 176); fill-opacity: 1;\"/><path class=\"point\" transform=\"translate(209.02,25.43)\" d=\"M3,0A3,3 0 1,1 0,-3A3,3 0 0,1 3,0Z\" style=\"opacity: 1; stroke-width: 0px; fill: rgb(76, 114, 176); fill-opacity: 1;\"/><path class=\"point\" transform=\"translate(64.88,30.64)\" d=\"M3,0A3,3 0 1,1 0,-3A3,3 0 0,1 3,0Z\" style=\"opacity: 1; stroke-width: 0px; fill: rgb(76, 114, 176); fill-opacity: 1;\"/><path class=\"point\" transform=\"translate(209.02,20.21)\" d=\"M3,0A3,3 0 1,1 0,-3A3,3 0 0,1 3,0Z\" style=\"opacity: 1; stroke-width: 0px; fill: rgb(76, 114, 176); fill-opacity: 1;\"/><path class=\"point\" transform=\"translate(262.65,25.43)\" d=\"M3,0A3,3 0 1,1 0,-3A3,3 0 0,1 3,0Z\" style=\"opacity: 1; stroke-width: 0px; fill: rgb(76, 114, 176); fill-opacity: 1;\"/><path class=\"point\" transform=\"translate(219.07,91.52)\" d=\"M3,0A3,3 0 1,1 0,-3A3,3 0 0,1 3,0Z\" style=\"opacity: 1; stroke-width: 0px; fill: rgb(76, 114, 176); fill-opacity: 1;\"/><path class=\"point\" transform=\"translate(235.83,28.9)\" d=\"M3,0A3,3 0 1,1 0,-3A3,3 0 0,1 3,0Z\" style=\"opacity: 1; stroke-width: 0px; fill: rgb(76, 114, 176); fill-opacity: 1;\"/><path class=\"point\" transform=\"translate(135.27,82.82)\" d=\"M3,0A3,3 0 1,1 0,-3A3,3 0 0,1 3,0Z\" style=\"opacity: 1; stroke-width: 0px; fill: rgb(76, 114, 176); fill-opacity: 1;\"/><path class=\"point\" transform=\"translate(249.24,27.16)\" d=\"M3,0A3,3 0 1,1 0,-3A3,3 0 0,1 3,0Z\" style=\"opacity: 1; stroke-width: 0px; fill: rgb(76, 114, 176); fill-opacity: 1;\"/><path class=\"point\" transform=\"translate(249.24,13.25)\" d=\"M3,0A3,3 0 1,1 0,-3A3,3 0 0,1 3,0Z\" style=\"opacity: 1; stroke-width: 0px; fill: rgb(76, 114, 176); fill-opacity: 1;\"/><path class=\"point\" transform=\"translate(131.92,79.35)\" d=\"M3,0A3,3 0 1,1 0,-3A3,3 0 0,1 3,0Z\" style=\"opacity: 1; stroke-width: 0px; fill: rgb(76, 114, 176); fill-opacity: 1;\"/><path class=\"point\" transform=\"translate(155.38,54.99)\" d=\"M3,0A3,3 0 1,1 0,-3A3,3 0 0,1 3,0Z\" style=\"opacity: 1; stroke-width: 0px; fill: rgb(76, 114, 176); fill-opacity: 1;\"/><path class=\"point\" transform=\"translate(249.24,115.87)\" d=\"M3,0A3,3 0 1,1 0,-3A3,3 0 0,1 3,0Z\" style=\"opacity: 1; stroke-width: 0px; fill: rgb(76, 114, 176); fill-opacity: 1;\"/><path class=\"point\" transform=\"translate(172.14,49.78)\" d=\"M3,0A3,3 0 1,1 0,-3A3,3 0 0,1 3,0Z\" style=\"opacity: 1; stroke-width: 0px; fill: rgb(76, 114, 176); fill-opacity: 1;\"/><path class=\"point\" transform=\"translate(195.61,41.08)\" d=\"M3,0A3,3 0 1,1 0,-3A3,3 0 0,1 3,0Z\" style=\"opacity: 1; stroke-width: 0px; fill: rgb(76, 114, 176); fill-opacity: 1;\"/><path class=\"point\" transform=\"translate(135.27,103.7)\" d=\"M3,0A3,3 0 1,1 0,-3A3,3 0 0,1 3,0Z\" style=\"opacity: 1; stroke-width: 0px; fill: rgb(76, 114, 176); fill-opacity: 1;\"/><path class=\"point\" transform=\"translate(255.95,21.95)\" d=\"M3,0A3,3 0 1,1 0,-3A3,3 0 0,1 3,0Z\" style=\"opacity: 1; stroke-width: 0px; fill: rgb(76, 114, 176); fill-opacity: 1;\"/><path class=\"point\" transform=\"translate(91.69,114.13)\" d=\"M3,0A3,3 0 1,1 0,-3A3,3 0 0,1 3,0Z\" style=\"opacity: 1; stroke-width: 0px; fill: rgb(76, 114, 176); fill-opacity: 1;\"/><path class=\"point\" transform=\"translate(155.38,122.83)\" d=\"M3,0A3,3 0 1,1 0,-3A3,3 0 0,1 3,0Z\" style=\"opacity: 1; stroke-width: 0px; fill: rgb(76, 114, 176); fill-opacity: 1;\"/><path class=\"point\" transform=\"translate(178.85,110.65)\" d=\"M3,0A3,3 0 1,1 0,-3A3,3 0 0,1 3,0Z\" style=\"opacity: 1; stroke-width: 0px; fill: rgb(76, 114, 176); fill-opacity: 1;\"/><path class=\"point\" transform=\"translate(91.69,154.14)\" d=\"M3,0A3,3 0 1,1 0,-3A3,3 0 0,1 3,0Z\" style=\"opacity: 1; stroke-width: 0px; fill: rgb(76, 114, 176); fill-opacity: 1;\"/><path class=\"point\" transform=\"translate(64.88,124.57)\" d=\"M3,0A3,3 0 1,1 0,-3A3,3 0 0,1 3,0Z\" style=\"opacity: 1; stroke-width: 0px; fill: rgb(76, 114, 176); fill-opacity: 1;\"/><path class=\"point\" transform=\"translate(152.03,89.78)\" d=\"M3,0A3,3 0 1,1 0,-3A3,3 0 0,1 3,0Z\" style=\"opacity: 1; stroke-width: 0px; fill: rgb(76, 114, 176); fill-opacity: 1;\"/><path class=\"point\" transform=\"translate(266,65.43)\" d=\"M3,0A3,3 0 1,1 0,-3A3,3 0 0,1 3,0Z\" style=\"opacity: 1; stroke-width: 0px; fill: rgb(76, 114, 176); fill-opacity: 1;\"/><path class=\"point\" transform=\"translate(115.16,82.82)\" d=\"M3,0A3,3 0 1,1 0,-3A3,3 0 0,1 3,0Z\" style=\"opacity: 1; stroke-width: 0px; fill: rgb(76, 114, 176); fill-opacity: 1;\"/><path class=\"point\" transform=\"translate(68.23,136.74)\" d=\"M3,0A3,3 0 1,1 0,-3A3,3 0 0,1 3,0Z\" style=\"opacity: 1; stroke-width: 0px; fill: rgb(76, 114, 176); fill-opacity: 1;\"/><path class=\"point\" transform=\"translate(141.98,131.53)\" d=\"M3,0A3,3 0 1,1 0,-3A3,3 0 0,1 3,0Z\" style=\"opacity: 1; stroke-width: 0px; fill: rgb(76, 114, 176); fill-opacity: 1;\"/><path class=\"point\" transform=\"translate(44.76,164.57)\" d=\"M3,0A3,3 0 1,1 0,-3A3,3 0 0,1 3,0Z\" style=\"opacity: 1; stroke-width: 0px; fill: rgb(76, 114, 176); fill-opacity: 1;\"/><path class=\"point\" transform=\"translate(17.95,155.88)\" d=\"M3,0A3,3 0 1,1 0,-3A3,3 0 0,1 3,0Z\" style=\"opacity: 1; stroke-width: 0px; fill: rgb(76, 114, 176); fill-opacity: 1;\"/><path class=\"point\" transform=\"translate(135.27,148.92)\" d=\"M3,0A3,3 0 1,1 0,-3A3,3 0 0,1 3,0Z\" style=\"opacity: 1; stroke-width: 0px; fill: rgb(76, 114, 176); fill-opacity: 1;\"/><path class=\"point\" transform=\"translate(24.65,164.57)\" d=\"M3,0A3,3 0 1,1 0,-3A3,3 0 0,1 3,0Z\" style=\"opacity: 1; stroke-width: 0px; fill: rgb(76, 114, 176); fill-opacity: 1;\"/><path class=\"point\" transform=\"translate(64.88,159.36)\" d=\"M3,0A3,3 0 1,1 0,-3A3,3 0 0,1 3,0Z\" style=\"opacity: 1; stroke-width: 0px; fill: rgb(76, 114, 176); fill-opacity: 1;\"/><path class=\"point\" transform=\"translate(64.88,140.22)\" d=\"M3,0A3,3 0 1,1 0,-3A3,3 0 0,1 3,0Z\" style=\"opacity: 1; stroke-width: 0px; fill: rgb(76, 114, 176); fill-opacity: 1;\"/><path class=\"point\" transform=\"translate(48.12,147.18)\" d=\"M3,0A3,3 0 1,1 0,-3A3,3 0 0,1 3,0Z\" style=\"opacity: 1; stroke-width: 0px; fill: rgb(76, 114, 176); fill-opacity: 1;\"/><path class=\"point\" transform=\"translate(48.12,169.79)\" d=\"M3,0A3,3 0 1,1 0,-3A3,3 0 0,1 3,0Z\" style=\"opacity: 1; stroke-width: 0px; fill: rgb(76, 114, 176); fill-opacity: 1;\"/><path class=\"point\" transform=\"translate(24.65,176.75)\" d=\"M3,0A3,3 0 1,1 0,-3A3,3 0 0,1 3,0Z\" style=\"opacity: 1; stroke-width: 0px; fill: rgb(76, 114, 176); fill-opacity: 1;\"/><path class=\"point\" transform=\"translate(41.41,154.14)\" d=\"M3,0A3,3 0 1,1 0,-3A3,3 0 0,1 3,0Z\" style=\"opacity: 1; stroke-width: 0px; fill: rgb(76, 114, 176); fill-opacity: 1;\"/><path class=\"point\" transform=\"translate(34.71,171.53)\" d=\"M3,0A3,3 0 1,1 0,-3A3,3 0 0,1 3,0Z\" style=\"opacity: 1; stroke-width: 0px; fill: rgb(76, 114, 176); fill-opacity: 1;\"/><path class=\"point\" transform=\"translate(51.47,162.84)\" d=\"M3,0A3,3 0 1,1 0,-3A3,3 0 0,1 3,0Z\" style=\"opacity: 1; stroke-width: 0px; fill: rgb(76, 114, 176); fill-opacity: 1;\"/><path class=\"point\" transform=\"translate(17.95,168.05)\" d=\"M3,0A3,3 0 1,1 0,-3A3,3 0 0,1 3,0Z\" style=\"opacity: 1; stroke-width: 0px; fill: rgb(76, 114, 176); fill-opacity: 1;\"/><path class=\"point\" transform=\"translate(108.45,110.65)\" d=\"M3,0A3,3 0 1,1 0,-3A3,3 0 0,1 3,0Z\" style=\"opacity: 1; stroke-width: 0px; fill: rgb(76, 114, 176); fill-opacity: 1;\"/><path class=\"point\" transform=\"translate(21.3,164.57)\" d=\"M3,0A3,3 0 1,1 0,-3A3,3 0 0,1 3,0Z\" style=\"opacity: 1; stroke-width: 0px; fill: rgb(76, 114, 176); fill-opacity: 1;\"/></g><g class=\"text\"/></g></g></g><g class=\"overplot\"/><path class=\"xlines-above crisp\" d=\"M0,0\" style=\"fill: none;\"/><path class=\"ylines-above crisp\" d=\"M0,0\" style=\"fill: none;\"/><g class=\"overlines-above\"/><g class=\"xaxislayer-above\"><g class=\"xtick\"><text text-anchor=\"middle\" x=\"0\" y=\"213\" transform=\"translate(120.52000000000001,0)\" style=\"font-family: 'Open Sans', verdana, arial, sans-serif; font-size: 12px; fill: rgb(36, 36, 36); fill-opacity: 1; white-space: pre; opacity: 1;\">20</text></g><g class=\"xtick\"><text text-anchor=\"middle\" x=\"0\" y=\"213\" style=\"font-family: 'Open Sans', verdana, arial, sans-serif; font-size: 12px; fill: rgb(36, 36, 36); fill-opacity: 1; white-space: pre; opacity: 1;\" transform=\"translate(187.57,0)\">40</text></g><g class=\"xtick\"><text text-anchor=\"middle\" x=\"0\" y=\"213\" style=\"font-family: 'Open Sans', verdana, arial, sans-serif; font-size: 12px; fill: rgb(36, 36, 36); fill-opacity: 1; white-space: pre; opacity: 1;\" transform=\"translate(254.61,0)\">60</text></g><g class=\"xtick\"><text text-anchor=\"middle\" x=\"0\" y=\"213\" style=\"font-family: 'Open Sans', verdana, arial, sans-serif; font-size: 12px; fill: rgb(36, 36, 36); fill-opacity: 1; white-space: pre; opacity: 1;\" transform=\"translate(321.65,0)\">80</text></g></g><g class=\"yaxislayer-above\"><g class=\"ytick\"><text text-anchor=\"end\" x=\"58\" y=\"4.199999999999999\" transform=\"translate(0,191.97)\" style=\"font-family: 'Open Sans', verdana, arial, sans-serif; font-size: 12px; fill: rgb(36, 36, 36); fill-opacity: 1; white-space: pre; opacity: 1;\">0</text></g><g class=\"ytick\"><text text-anchor=\"end\" x=\"58\" y=\"4.199999999999999\" style=\"font-family: 'Open Sans', verdana, arial, sans-serif; font-size: 12px; fill: rgb(36, 36, 36); fill-opacity: 1; white-space: pre; opacity: 1;\" transform=\"translate(0,157.18)\">20</text></g><g class=\"ytick\"><text text-anchor=\"end\" x=\"58\" y=\"4.199999999999999\" style=\"font-family: 'Open Sans', verdana, arial, sans-serif; font-size: 12px; fill: rgb(36, 36, 36); fill-opacity: 1; white-space: pre; opacity: 1;\" transform=\"translate(0,122.39)\">40</text></g><g class=\"ytick\"><text text-anchor=\"end\" x=\"58\" y=\"4.199999999999999\" style=\"font-family: 'Open Sans', verdana, arial, sans-serif; font-size: 12px; fill: rgb(36, 36, 36); fill-opacity: 1; white-space: pre; opacity: 1;\" transform=\"translate(0,87.61)\">60</text></g><g class=\"ytick\"><text text-anchor=\"end\" x=\"58\" y=\"4.199999999999999\" style=\"font-family: 'Open Sans', verdana, arial, sans-serif; font-size: 12px; fill: rgb(36, 36, 36); fill-opacity: 1; white-space: pre; opacity: 1;\" transform=\"translate(0,52.82)\">80</text></g><g class=\"ytick\"><text text-anchor=\"end\" x=\"58\" y=\"4.199999999999999\" style=\"font-family: 'Open Sans', verdana, arial, sans-serif; font-size: 12px; fill: rgb(36, 36, 36); fill-opacity: 1; white-space: pre; opacity: 1;\" transform=\"translate(0,18.03)\">100</text></g></g><g class=\"overaxes-above\"/></g><g class=\"subplot x2y2\"><g class=\"layer-subplot\"><g class=\"shapelayer\"/><g class=\"imagelayer\"/></g><g class=\"gridlayer\"><g class=\"x2\"><path class=\"x2grid crisp\" transform=\"translate(538.69,0)\" d=\"M0,10v190\" style=\"stroke: rgb(255, 255, 255); stroke-opacity: 1; stroke-width: 1px;\"/><path class=\"x2grid crisp\" transform=\"translate(672.05,0)\" d=\"M0,10v190\" style=\"stroke: rgb(255, 255, 255); stroke-opacity: 1; stroke-width: 1px;\"/></g><g class=\"y2\"><path class=\"y2grid crisp\" transform=\"translate(0,157.18)\" d=\"M406.05,0h283.95\" style=\"stroke: rgb(255, 255, 255); stroke-opacity: 1; stroke-width: 1px;\"/><path class=\"y2grid crisp\" transform=\"translate(0,122.39)\" d=\"M406.05,0h283.95\" style=\"stroke: rgb(255, 255, 255); stroke-opacity: 1; stroke-width: 1px;\"/><path class=\"y2grid crisp\" transform=\"translate(0,87.61)\" d=\"M406.05,0h283.95\" style=\"stroke: rgb(255, 255, 255); stroke-opacity: 1; stroke-width: 1px;\"/><path class=\"y2grid crisp\" transform=\"translate(0,52.82)\" d=\"M406.05,0h283.95\" style=\"stroke: rgb(255, 255, 255); stroke-opacity: 1; stroke-width: 1px;\"/><path class=\"y2grid crisp\" transform=\"translate(0,18.03)\" d=\"M406.05,0h283.95\" style=\"stroke: rgb(255, 255, 255); stroke-opacity: 1; stroke-width: 1px;\"/></g></g><g class=\"zerolinelayer\"><path class=\"y2zl zl crisp\" transform=\"translate(0,191.97)\" d=\"M406.05,0h283.95\" style=\"stroke: rgb(255, 255, 255); stroke-opacity: 1; stroke-width: 1px;\"/></g><path class=\"xlines-below\"/><path class=\"ylines-below\"/><g class=\"overlines-below\"/><g class=\"xaxislayer-below\"/><g class=\"yaxislayer-below\"/><g class=\"overaxes-below\"/><g class=\"plot\" transform=\"translate(406.05,10)\" clip-path=\"url(#clip0393bbx2y2plot)\"><g class=\"scatterlayer mlayer\"><g class=\"trace scatter trace7cb4b8\" style=\"stroke-miterlimit: 2; opacity: 1;\"><g class=\"fills\"/><g class=\"errorbars\"/><g class=\"lines\"/><g class=\"points\"><path class=\"point\" transform=\"translate(228.66,39.34)\" d=\"M3,0A3,3 0 1,1 0,-3A3,3 0 0,1 3,0Z\" style=\"opacity: 1; stroke-width: 0px; fill: rgb(76, 114, 176); fill-opacity: 1;\"/><path class=\"point\" transform=\"translate(201.99,37.6)\" d=\"M3,0A3,3 0 1,1 0,-3A3,3 0 0,1 3,0Z\" style=\"opacity: 1; stroke-width: 0px; fill: rgb(76, 114, 176); fill-opacity: 1;\"/><path class=\"point\" transform=\"translate(244.66,25.43)\" d=\"M3,0A3,3 0 1,1 0,-3A3,3 0 0,1 3,0Z\" style=\"opacity: 1; stroke-width: 0px; fill: rgb(76, 114, 176); fill-opacity: 1;\"/><path class=\"point\" transform=\"translate(239.33,49.78)\" d=\"M3,0A3,3 0 1,1 0,-3A3,3 0 0,1 3,0Z\" style=\"opacity: 1; stroke-width: 0px; fill: rgb(76, 114, 176); fill-opacity: 1;\"/><path class=\"point\" transform=\"translate(228.66,25.43)\" d=\"M3,0A3,3 0 1,1 0,-3A3,3 0 0,1 3,0Z\" style=\"opacity: 1; stroke-width: 0px; fill: rgb(76, 114, 176); fill-opacity: 1;\"/><path class=\"point\" transform=\"translate(223.33,30.64)\" d=\"M3,0A3,3 0 1,1 0,-3A3,3 0 0,1 3,0Z\" style=\"opacity: 1; stroke-width: 0px; fill: rgb(76, 114, 176); fill-opacity: 1;\"/><path class=\"point\" transform=\"translate(247.33,20.21)\" d=\"M3,0A3,3 0 1,1 0,-3A3,3 0 0,1 3,0Z\" style=\"opacity: 1; stroke-width: 0px; fill: rgb(76, 114, 176); fill-opacity: 1;\"/><path class=\"point\" transform=\"translate(266,25.43)\" d=\"M3,0A3,3 0 1,1 0,-3A3,3 0 0,1 3,0Z\" style=\"opacity: 1; stroke-width: 0px; fill: rgb(76, 114, 176); fill-opacity: 1;\"/><path class=\"point\" transform=\"translate(231.33,91.52)\" d=\"M3,0A3,3 0 1,1 0,-3A3,3 0 0,1 3,0Z\" style=\"opacity: 1; stroke-width: 0px; fill: rgb(76, 114, 176); fill-opacity: 1;\"/><path class=\"point\" transform=\"translate(228.66,28.9)\" d=\"M3,0A3,3 0 1,1 0,-3A3,3 0 0,1 3,0Z\" style=\"opacity: 1; stroke-width: 0px; fill: rgb(76, 114, 176); fill-opacity: 1;\"/><path class=\"point\" transform=\"translate(196.65,82.82)\" d=\"M3,0A3,3 0 1,1 0,-3A3,3 0 0,1 3,0Z\" style=\"opacity: 1; stroke-width: 0px; fill: rgb(76, 114, 176); fill-opacity: 1;\"/><path class=\"point\" transform=\"translate(260.67,27.16)\" d=\"M3,0A3,3 0 1,1 0,-3A3,3 0 0,1 3,0Z\" style=\"opacity: 1; stroke-width: 0px; fill: rgb(76, 114, 176); fill-opacity: 1;\"/><path class=\"point\" transform=\"translate(258,13.25)\" d=\"M3,0A3,3 0 1,1 0,-3A3,3 0 0,1 3,0Z\" style=\"opacity: 1; stroke-width: 0px; fill: rgb(76, 114, 176); fill-opacity: 1;\"/><path class=\"point\" transform=\"translate(223.33,79.35)\" d=\"M3,0A3,3 0 1,1 0,-3A3,3 0 0,1 3,0Z\" style=\"opacity: 1; stroke-width: 0px; fill: rgb(76, 114, 176); fill-opacity: 1;\"/><path class=\"point\" transform=\"translate(242,54.99)\" d=\"M3,0A3,3 0 1,1 0,-3A3,3 0 0,1 3,0Z\" style=\"opacity: 1; stroke-width: 0px; fill: rgb(76, 114, 176); fill-opacity: 1;\"/><path class=\"point\" transform=\"translate(89.96,115.87)\" d=\"M3,0A3,3 0 1,1 0,-3A3,3 0 0,1 3,0Z\" style=\"opacity: 1; stroke-width: 0px; fill: rgb(76, 114, 176); fill-opacity: 1;\"/><path class=\"point\" transform=\"translate(119.3,49.78)\" d=\"M3,0A3,3 0 1,1 0,-3A3,3 0 0,1 3,0Z\" style=\"opacity: 1; stroke-width: 0px; fill: rgb(76, 114, 176); fill-opacity: 1;\"/><path class=\"point\" transform=\"translate(148.64,41.08)\" d=\"M3,0A3,3 0 1,1 0,-3A3,3 0 0,1 3,0Z\" style=\"opacity: 1; stroke-width: 0px; fill: rgb(76, 114, 176); fill-opacity: 1;\"/><path class=\"point\" transform=\"translate(116.64,103.7)\" d=\"M3,0A3,3 0 1,1 0,-3A3,3 0 0,1 3,0Z\" style=\"opacity: 1; stroke-width: 0px; fill: rgb(76, 114, 176); fill-opacity: 1;\"/><path class=\"point\" transform=\"translate(217.99,21.95)\" d=\"M3,0A3,3 0 1,1 0,-3A3,3 0 0,1 3,0Z\" style=\"opacity: 1; stroke-width: 0px; fill: rgb(76, 114, 176); fill-opacity: 1;\"/><path class=\"point\" transform=\"translate(191.32,114.13)\" d=\"M3,0A3,3 0 1,1 0,-3A3,3 0 0,1 3,0Z\" style=\"opacity: 1; stroke-width: 0px; fill: rgb(76, 114, 176); fill-opacity: 1;\"/><path class=\"point\" transform=\"translate(145.98,122.83)\" d=\"M3,0A3,3 0 1,1 0,-3A3,3 0 0,1 3,0Z\" style=\"opacity: 1; stroke-width: 0px; fill: rgb(76, 114, 176); fill-opacity: 1;\"/><path class=\"point\" transform=\"translate(188.65,110.65)\" d=\"M3,0A3,3 0 1,1 0,-3A3,3 0 0,1 3,0Z\" style=\"opacity: 1; stroke-width: 0px; fill: rgb(76, 114, 176); fill-opacity: 1;\"/><path class=\"point\" transform=\"translate(132.64,154.14)\" d=\"M3,0A3,3 0 1,1 0,-3A3,3 0 0,1 3,0Z\" style=\"opacity: 1; stroke-width: 0px; fill: rgb(76, 114, 176); fill-opacity: 1;\"/><path class=\"point\" transform=\"translate(60.62,124.57)\" d=\"M3,0A3,3 0 1,1 0,-3A3,3 0 0,1 3,0Z\" style=\"opacity: 1; stroke-width: 0px; fill: rgb(76, 114, 176); fill-opacity: 1;\"/><path class=\"point\" transform=\"translate(103.3,89.78)\" d=\"M3,0A3,3 0 1,1 0,-3A3,3 0 0,1 3,0Z\" style=\"opacity: 1; stroke-width: 0px; fill: rgb(76, 114, 176); fill-opacity: 1;\"/><path class=\"point\" transform=\"translate(73.96,65.43)\" d=\"M3,0A3,3 0 1,1 0,-3A3,3 0 0,1 3,0Z\" style=\"opacity: 1; stroke-width: 0px; fill: rgb(76, 114, 176); fill-opacity: 1;\"/><path class=\"point\" transform=\"translate(84.63,82.82)\" d=\"M3,0A3,3 0 1,1 0,-3A3,3 0 0,1 3,0Z\" style=\"opacity: 1; stroke-width: 0px; fill: rgb(76, 114, 176); fill-opacity: 1;\"/><path class=\"point\" transform=\"translate(57.96,136.74)\" d=\"M3,0A3,3 0 1,1 0,-3A3,3 0 0,1 3,0Z\" style=\"opacity: 1; stroke-width: 0px; fill: rgb(76, 114, 176); fill-opacity: 1;\"/><path class=\"point\" transform=\"translate(65.96,131.53)\" d=\"M3,0A3,3 0 1,1 0,-3A3,3 0 0,1 3,0Z\" style=\"opacity: 1; stroke-width: 0px; fill: rgb(76, 114, 176); fill-opacity: 1;\"/><path class=\"point\" transform=\"translate(76.63,164.57)\" d=\"M3,0A3,3 0 1,1 0,-3A3,3 0 0,1 3,0Z\" style=\"opacity: 1; stroke-width: 0px; fill: rgb(76, 114, 176); fill-opacity: 1;\"/><path class=\"point\" transform=\"translate(17.95,155.88)\" d=\"M3,0A3,3 0 1,1 0,-3A3,3 0 0,1 3,0Z\" style=\"opacity: 1; stroke-width: 0px; fill: rgb(76, 114, 176); fill-opacity: 1;\"/><path class=\"point\" transform=\"translate(68.63,148.92)\" d=\"M3,0A3,3 0 1,1 0,-3A3,3 0 0,1 3,0Z\" style=\"opacity: 1; stroke-width: 0px; fill: rgb(76, 114, 176); fill-opacity: 1;\"/><path class=\"point\" transform=\"translate(49.95,164.57)\" d=\"M3,0A3,3 0 1,1 0,-3A3,3 0 0,1 3,0Z\" style=\"opacity: 1; stroke-width: 0px; fill: rgb(76, 114, 176); fill-opacity: 1;\"/><path class=\"point\" transform=\"translate(39.29,159.36)\" d=\"M3,0A3,3 0 1,1 0,-3A3,3 0 0,1 3,0Z\" style=\"opacity: 1; stroke-width: 0px; fill: rgb(76, 114, 176); fill-opacity: 1;\"/><path class=\"point\" transform=\"translate(52.62,140.22)\" d=\"M3,0A3,3 0 1,1 0,-3A3,3 0 0,1 3,0Z\" style=\"opacity: 1; stroke-width: 0px; fill: rgb(76, 114, 176); fill-opacity: 1;\"/><path class=\"point\" transform=\"translate(68.63,147.18)\" d=\"M3,0A3,3 0 1,1 0,-3A3,3 0 0,1 3,0Z\" style=\"opacity: 1; stroke-width: 0px; fill: rgb(76, 114, 176); fill-opacity: 1;\"/><path class=\"point\" transform=\"translate(73.96,169.79)\" d=\"M3,0A3,3 0 1,1 0,-3A3,3 0 0,1 3,0Z\" style=\"opacity: 1; stroke-width: 0px; fill: rgb(76, 114, 176); fill-opacity: 1;\"/><path class=\"point\" transform=\"translate(44.62,176.75)\" d=\"M3,0A3,3 0 1,1 0,-3A3,3 0 0,1 3,0Z\" style=\"opacity: 1; stroke-width: 0px; fill: rgb(76, 114, 176); fill-opacity: 1;\"/><path class=\"point\" transform=\"translate(57.96,154.14)\" d=\"M3,0A3,3 0 1,1 0,-3A3,3 0 0,1 3,0Z\" style=\"opacity: 1; stroke-width: 0px; fill: rgb(76, 114, 176); fill-opacity: 1;\"/><path class=\"point\" transform=\"translate(79.29,171.53)\" d=\"M3,0A3,3 0 1,1 0,-3A3,3 0 0,1 3,0Z\" style=\"opacity: 1; stroke-width: 0px; fill: rgb(76, 114, 176); fill-opacity: 1;\"/><path class=\"point\" transform=\"translate(65.96,162.84)\" d=\"M3,0A3,3 0 1,1 0,-3A3,3 0 0,1 3,0Z\" style=\"opacity: 1; stroke-width: 0px; fill: rgb(76, 114, 176); fill-opacity: 1;\"/><path class=\"point\" transform=\"translate(52.62,168.05)\" d=\"M3,0A3,3 0 1,1 0,-3A3,3 0 0,1 3,0Z\" style=\"opacity: 1; stroke-width: 0px; fill: rgb(76, 114, 176); fill-opacity: 1;\"/><path class=\"point\" transform=\"translate(124.64,110.65)\" d=\"M3,0A3,3 0 1,1 0,-3A3,3 0 0,1 3,0Z\" style=\"opacity: 1; stroke-width: 0px; fill: rgb(76, 114, 176); fill-opacity: 1;\"/><path class=\"point\" transform=\"translate(84.63,164.57)\" d=\"M3,0A3,3 0 1,1 0,-3A3,3 0 0,1 3,0Z\" style=\"opacity: 1; stroke-width: 0px; fill: rgb(76, 114, 176); fill-opacity: 1;\"/></g><g class=\"text\"/></g></g></g><g class=\"overplot\"/><path class=\"xlines-above crisp\" d=\"M0,0\" style=\"fill: none;\"/><path class=\"ylines-above crisp\" d=\"M0,0\" style=\"fill: none;\"/><g class=\"overlines-above\"/><g class=\"xaxislayer-above\"><g class=\"x2tick\"><text text-anchor=\"middle\" x=\"0\" y=\"213\" transform=\"translate(538.69,0)\" style=\"font-family: 'Open Sans', verdana, arial, sans-serif; font-size: 12px; fill: rgb(36, 36, 36); fill-opacity: 1; white-space: pre; opacity: 1;\">50</text></g><g class=\"x2tick\"><text text-anchor=\"middle\" x=\"0\" y=\"213\" style=\"font-family: 'Open Sans', verdana, arial, sans-serif; font-size: 12px; fill: rgb(36, 36, 36); fill-opacity: 1; white-space: pre; opacity: 1;\" transform=\"translate(672.05,0)\">100</text></g></g><g class=\"yaxislayer-above\"><g class=\"y2tick\"><text text-anchor=\"end\" x=\"405.05\" y=\"4.199999999999999\" transform=\"translate(0,191.97)\" style=\"font-family: 'Open Sans', verdana, arial, sans-serif; font-size: 12px; fill: rgb(36, 36, 36); fill-opacity: 1; white-space: pre; opacity: 1;\">0</text></g><g class=\"y2tick\"><text text-anchor=\"end\" x=\"405.05\" y=\"4.199999999999999\" style=\"font-family: 'Open Sans', verdana, arial, sans-serif; font-size: 12px; fill: rgb(36, 36, 36); fill-opacity: 1; white-space: pre; opacity: 1;\" transform=\"translate(0,157.18)\">20</text></g><g class=\"y2tick\"><text text-anchor=\"end\" x=\"405.05\" y=\"4.199999999999999\" style=\"font-family: 'Open Sans', verdana, arial, sans-serif; font-size: 12px; fill: rgb(36, 36, 36); fill-opacity: 1; white-space: pre; opacity: 1;\" transform=\"translate(0,122.39)\">40</text></g><g class=\"y2tick\"><text text-anchor=\"end\" x=\"405.05\" y=\"4.199999999999999\" style=\"font-family: 'Open Sans', verdana, arial, sans-serif; font-size: 12px; fill: rgb(36, 36, 36); fill-opacity: 1; white-space: pre; opacity: 1;\" transform=\"translate(0,87.61)\">60</text></g><g class=\"y2tick\"><text text-anchor=\"end\" x=\"405.05\" y=\"4.199999999999999\" style=\"font-family: 'Open Sans', verdana, arial, sans-serif; font-size: 12px; fill: rgb(36, 36, 36); fill-opacity: 1; white-space: pre; opacity: 1;\" transform=\"translate(0,52.82)\">80</text></g><g class=\"y2tick\"><text text-anchor=\"end\" x=\"405.05\" y=\"4.199999999999999\" style=\"font-family: 'Open Sans', verdana, arial, sans-serif; font-size: 12px; fill: rgb(36, 36, 36); fill-opacity: 1; white-space: pre; opacity: 1;\" transform=\"translate(0,18.03)\">100</text></g></g><g class=\"overaxes-above\"/></g></g><g class=\"polarlayer\"/><g class=\"smithlayer\"/><g class=\"ternarylayer\"/><g class=\"geolayer\"/><g class=\"funnelarealayer\"/><g class=\"pielayer\"/><g class=\"iciclelayer\"/><g class=\"treemaplayer\"/><g class=\"sunburstlayer\"/><g class=\"glimages\"/><defs id=\"topdefs-0393bb\"><g class=\"clips\"/></defs><g class=\"layer-above\"><g class=\"imagelayer\"/><g class=\"shapelayer\"/></g><g class=\"infolayer\"><g class=\"g-gtitle\"/><g class=\"g-xtitle\"><text class=\"xtitle\" x=\"200.975\" y=\"240.3\" text-anchor=\"middle\" style=\"font-family: 'Open Sans', verdana, arial, sans-serif; font-size: 14px; fill: rgb(36, 36, 36); opacity: 1; font-weight: normal; white-space: pre;\">income</text></g><g class=\"g-x2title\"><text class=\"x2title\" x=\"548.025\" y=\"240.3\" text-anchor=\"middle\" style=\"font-family: 'Open Sans', verdana, arial, sans-serif; font-size: 14px; fill: rgb(36, 36, 36); opacity: 1; font-weight: normal; white-space: pre;\">education</text></g><g class=\"g-ytitle\" transform=\"translate(3.6904296875,0)\"><text class=\"ytitle\" transform=\"rotate(-90,10.309375000000003,105)\" x=\"10.309375000000003\" y=\"105\" text-anchor=\"middle\" style=\"font-family: 'Open Sans', verdana, arial, sans-serif; font-size: 14px; fill: rgb(36, 36, 36); opacity: 1; font-weight: normal; white-space: pre;\">prestige</text></g><g class=\"g-y2title\"/></g></svg>"
      ]
     },
     "metadata": {},
     "output_type": "display_data"
    }
   ],
   "source": [
    "f1 = px.scatter(duncan, x='income', y='prestige')\n",
    "f2 = px.scatter(duncan, x='education', y='prestige')\n",
    "\n",
    "fig = left_right(f1, f2)\n",
    "fig.update_xaxes(title='income', row=1, col=1)\n",
    "fig.update_yaxes(title='prestige', row=1, col=1)\n",
    "fig.update_xaxes(title='education', row=1, col=2)"
   ]
  },
  {
   "cell_type": "markdown",
   "metadata": {},
   "source": [
    "From the plots above, we see that both education and income are positively correlated with prestige; hence, both of these variables might be useful in helping explain prestige. Let's fit a linear model using these explanatory variables to explain prestige."
   ]
  },
  {
   "cell_type": "markdown",
   "metadata": {},
   "source": [
    "## Fitting the model \n",
    "\n",
    "We will fit the following model, that explains the prestige of an occupation as a linear function of income and education:\n",
    "\n",
    "$$\n",
    "\\begin{aligned}\n",
    "\\texttt{prestige}_i\n",
    "= \\theta_0 \n",
    "+ \\theta_\\texttt{income}\\cdot\\texttt{income}_i\n",
    "+ \\theta_\\texttt{education}\\cdot\\texttt{education}_i\n",
    "\\end{aligned}\n",
    "$$\n",
    "\n",
    "In order to fit this model, we will define the design matrix (X) and our response variable (y):"
   ]
  },
  {
   "cell_type": "code",
   "execution_count": 16,
   "metadata": {},
   "outputs": [
    {
     "data": {
      "text/html": [
       "<div>\n",
       "<style scoped>\n",
       "    .dataframe tbody tr th:only-of-type {\n",
       "        vertical-align: middle;\n",
       "    }\n",
       "\n",
       "    .dataframe tbody tr th {\n",
       "        vertical-align: top;\n",
       "    }\n",
       "\n",
       "    .dataframe thead th {\n",
       "        text-align: right;\n",
       "    }\n",
       "</style>\n",
       "<table border=\"1\" class=\"dataframe\">\n",
       "  <thead>\n",
       "    <tr style=\"text-align: right;\">\n",
       "      <th></th>\n",
       "      <th>income</th>\n",
       "      <th>education</th>\n",
       "    </tr>\n",
       "  </thead>\n",
       "  <tbody>\n",
       "    <tr>\n",
       "      <th>0</th>\n",
       "      <td>62</td>\n",
       "      <td>86</td>\n",
       "    </tr>\n",
       "    <tr>\n",
       "      <th>1</th>\n",
       "      <td>72</td>\n",
       "      <td>76</td>\n",
       "    </tr>\n",
       "    <tr>\n",
       "      <th>2</th>\n",
       "      <td>75</td>\n",
       "      <td>92</td>\n",
       "    </tr>\n",
       "    <tr>\n",
       "      <th>3</th>\n",
       "      <td>55</td>\n",
       "      <td>90</td>\n",
       "    </tr>\n",
       "    <tr>\n",
       "      <th>4</th>\n",
       "      <td>64</td>\n",
       "      <td>86</td>\n",
       "    </tr>\n",
       "  </tbody>\n",
       "</table>\n",
       "</div>"
      ],
      "text/plain": [
       "   income  education\n",
       "0      62         86\n",
       "1      72         76\n",
       "2      75         92\n",
       "3      55         90\n",
       "4      64         86"
      ]
     },
     "execution_count": 16,
     "metadata": {},
     "output_type": "execute_result"
    }
   ],
   "source": [
    "X = duncan.loc[:, [\"income\", \"education\"]]\n",
    "X.head()"
   ]
  },
  {
   "cell_type": "code",
   "execution_count": 17,
   "metadata": {},
   "outputs": [
    {
     "data": {
      "text/plain": [
       "0    82\n",
       "1    83\n",
       "2    90\n",
       "3    76\n",
       "4    90\n",
       "Name: prestige, dtype: int64"
      ]
     },
     "execution_count": 17,
     "metadata": {},
     "output_type": "execute_result"
    }
   ],
   "source": [
    "y = duncan.loc[:, \"prestige\"]\n",
    "y.head()"
   ]
  },
  {
   "cell_type": "markdown",
   "metadata": {},
   "source": [
    "Below, we fit our linear model and print all the $\\hat{\\theta}$ coefficients of the model (from the equation above) after the model has been fit to the data. Note that these are our sample coefficients."
   ]
  },
  {
   "cell_type": "code",
   "execution_count": 23,
   "metadata": {},
   "outputs": [
    {
     "name": "stdout",
     "output_type": "stream",
     "text": [
      "\n",
      "intercept:    -6.06\n",
      "income:       0.60\n",
      "education:    0.55\n",
      "\n"
     ]
    }
   ],
   "source": [
    "import sklearn.linear_model as lm\n",
    "\n",
    "model = lm.LinearRegression()\n",
    "model.fit(X, y)\n",
    "\n",
    "intercept = model.intercept_\n",
    "income, education = model.coef_\n",
    "\n",
    "print(f\"\"\"\n",
    "intercept:    {intercept:.2f}\n",
    "income:       {income:.2f}\n",
    "education:    {education:.2f}\n",
    "\"\"\")"
   ]
  },
  {
   "cell_type": "markdown",
   "metadata": {},
   "source": [
    "The coefficients above give us an estimate of the true coefficients. But had our sample data been different, we would have fit our model to different data, causing these coefficients to be different. We would like to explore what our coefficients might have been using bootstrapping methods.\n",
    "\n",
    "In our bootstrapping methods and analysis, we will focus on the coefficient of education. We would like to explore the partial relationship between prestige and education holding income constant (rather than the marginal relationship between prestige and education ignoring income). The partial regression coefficient $\\widehat\\theta_\\texttt{education}$ illustrates the partial relationship between prestige and education within our data. "
   ]
  },
  {
   "cell_type": "markdown",
   "metadata": {
    "colab_type": "text",
    "id": "vqGBN-NtGikV"
   },
   "source": [
    "## Bootstrapping the Observations \n",
    "\n",
    "In this method, we consider the pairs $(X_i, y_i)$ to be our sample, so we construct the bootstrap resample by sampling with replacement from these pairs:\n",
    "\n",
    "$$\n",
    "\\begin{aligned}\n",
    "(X_i^*, y_i^*) \n",
    "= (X_I, y_I), \\text{ where } I=1,\\dots,n \\text{ is sampled uniformly at random.}\n",
    "\\end{aligned}\n",
    "$$\n",
    "\n",
    "In other words, we sample n observations with replacement from our data points; this is our bootstrap sample. Then we will fit a new linear regression model to this sampled data and record the education coefficient $\\tilde\\theta_\\texttt{education}$; this coefficient is our bootstrap statistic."
   ]
  },
  {
   "cell_type": "code",
   "execution_count": 24,
   "metadata": {},
   "outputs": [],
   "source": [
    "def simple_resample(n): \n",
    "    return np.random.randint(low=0, high=n, size=n)\n",
    "\n",
    "def bootstrap(boot_pop, statistic, resample=simple_resample, replicates=10000):\n",
    "    n = len(boot_pop)\n",
    "    resample_estimates = [statistic(boot_pop[resample(n)])\n",
    "                          for _ in range(replicates)]\n",
    "    return np.array(resample_estimates)"
   ]
  },
  {
   "cell_type": "code",
   "execution_count": 25,
   "metadata": {
    "colab": {
     "autoexec": {
      "startup": false,
      "wait_interval": 0
     }
    },
    "colab_type": "code",
    "id": "JmlWkVa9MAXt"
   },
   "outputs": [],
   "source": [
    "def educ_coeff(data_array):\n",
    "    X = data_array[:, 1:]\n",
    "    y = data_array[:, 0]\n",
    "    \n",
    "    linear_model = lm.LinearRegression()\n",
    "    model = linear_model.fit(X, y)\n",
    "    theta_educ = model.coef_[1]\n",
    "\n",
    "    return theta_educ\n",
    "\n",
    "data_array = duncan.loc[:, [\"prestige\", \"income\", \"education\"]].values\n",
    "\n",
    "theta_hat_sampling = bootstrap(data_array, educ_coeff)"
   ]
  },
  {
   "cell_type": "code",
   "execution_count": 45,
   "metadata": {
    "colab_type": "text",
    "id": "pi0btxqTH4Je",
    "tags": [
     "hide-input"
    ]
   },
   "outputs": [
    {
     "data": {
      "image/svg+xml": [
       "<?xml version=\"1.0\" encoding=\"utf-8\" standalone=\"no\"?>\n",
       "<!DOCTYPE svg PUBLIC \"-//W3C//DTD SVG 1.1//EN\"\n",
       "  \"http://www.w3.org/Graphics/SVG/1.1/DTD/svg11.dtd\">\n",
       "<!-- Created with matplotlib (https://matplotlib.org/) -->\n",
       "<svg height=\"234.159844pt\" version=\"1.1\" viewBox=\"0 0 317.52 234.159844\" width=\"317.52pt\" xmlns=\"http://www.w3.org/2000/svg\" xmlns:xlink=\"http://www.w3.org/1999/xlink\">\n",
       " <metadata>\n",
       "  <rdf:RDF xmlns:cc=\"http://creativecommons.org/ns#\" xmlns:dc=\"http://purl.org/dc/elements/1.1/\" xmlns:rdf=\"http://www.w3.org/1999/02/22-rdf-syntax-ns#\">\n",
       "   <cc:Work>\n",
       "    <dc:type rdf:resource=\"http://purl.org/dc/dcmitype/StillImage\"/>\n",
       "    <dc:date>2022-03-14T15:37:47.744348</dc:date>\n",
       "    <dc:format>image/svg+xml</dc:format>\n",
       "    <dc:creator>\n",
       "     <cc:Agent>\n",
       "      <dc:title>Matplotlib v3.3.4, https://matplotlib.org/</dc:title>\n",
       "     </cc:Agent>\n",
       "    </dc:creator>\n",
       "   </cc:Work>\n",
       "  </rdf:RDF>\n",
       " </metadata>\n",
       " <defs>\n",
       "  <style type=\"text/css\">*{stroke-linecap:butt;stroke-linejoin:round;}</style>\n",
       " </defs>\n",
       " <g id=\"figure_1\">\n",
       "  <g id=\"patch_1\">\n",
       "   <path d=\"M 0 234.159844 \n",
       "L 317.52 234.159844 \n",
       "L 317.52 0 \n",
       "L 0 0 \n",
       "z\n",
       "\" style=\"fill:#ffffff;\"/>\n",
       "  </g>\n",
       "  <g id=\"axes_1\">\n",
       "   <g id=\"patch_2\">\n",
       "    <path d=\"M 47.16 188.76 \n",
       "L 270.36 188.76 \n",
       "L 270.36 25.68 \n",
       "L 47.16 25.68 \n",
       "z\n",
       "\" style=\"fill:#eaeaf2;\"/>\n",
       "   </g>\n",
       "   <g id=\"matplotlib.axis_1\">\n",
       "    <g id=\"xtick_1\">\n",
       "     <g id=\"line2d_1\">\n",
       "      <path clip-path=\"url(#pab416cb66e)\" d=\"M 51.95878 188.76 \n",
       "L 51.95878 25.68 \n",
       "\" style=\"fill:none;stroke:#ffffff;stroke-linecap:round;\"/>\n",
       "     </g>\n",
       "     <g id=\"text_1\">\n",
       "      <!-- −0.25 -->\n",
       "      <g style=\"fill:#262626;\" transform=\"translate(38.042921 206.133594)scale(0.11 -0.11)\">\n",
       "       <defs>\n",
       "        <path d=\"M 52.828125 31.203125 \n",
       "L 5.5625 31.203125 \n",
       "L 5.5625 39.40625 \n",
       "L 52.828125 39.40625 \n",
       "z\n",
       "\" id=\"ArialMT-8722\"/>\n",
       "        <path d=\"M 4.15625 35.296875 \n",
       "Q 4.15625 48 6.765625 55.734375 \n",
       "Q 9.375 63.484375 14.515625 67.671875 \n",
       "Q 19.671875 71.875 27.484375 71.875 \n",
       "Q 33.25 71.875 37.59375 69.546875 \n",
       "Q 41.9375 67.234375 44.765625 62.859375 \n",
       "Q 47.609375 58.5 49.21875 52.21875 \n",
       "Q 50.828125 45.953125 50.828125 35.296875 \n",
       "Q 50.828125 22.703125 48.234375 14.96875 \n",
       "Q 45.65625 7.234375 40.5 3 \n",
       "Q 35.359375 -1.21875 27.484375 -1.21875 \n",
       "Q 17.140625 -1.21875 11.234375 6.203125 \n",
       "Q 4.15625 15.140625 4.15625 35.296875 \n",
       "z\n",
       "M 13.1875 35.296875 \n",
       "Q 13.1875 17.671875 17.3125 11.828125 \n",
       "Q 21.4375 6 27.484375 6 \n",
       "Q 33.546875 6 37.671875 11.859375 \n",
       "Q 41.796875 17.71875 41.796875 35.296875 \n",
       "Q 41.796875 52.984375 37.671875 58.78125 \n",
       "Q 33.546875 64.59375 27.390625 64.59375 \n",
       "Q 21.34375 64.59375 17.71875 59.46875 \n",
       "Q 13.1875 52.9375 13.1875 35.296875 \n",
       "z\n",
       "\" id=\"ArialMT-48\"/>\n",
       "        <path d=\"M 9.078125 0 \n",
       "L 9.078125 10.015625 \n",
       "L 19.09375 10.015625 \n",
       "L 19.09375 0 \n",
       "z\n",
       "\" id=\"ArialMT-46\"/>\n",
       "        <path d=\"M 50.34375 8.453125 \n",
       "L 50.34375 0 \n",
       "L 3.03125 0 \n",
       "Q 2.9375 3.171875 4.046875 6.109375 \n",
       "Q 5.859375 10.9375 9.828125 15.625 \n",
       "Q 13.8125 20.3125 21.34375 26.46875 \n",
       "Q 33.015625 36.03125 37.109375 41.625 \n",
       "Q 41.21875 47.21875 41.21875 52.203125 \n",
       "Q 41.21875 57.421875 37.46875 61 \n",
       "Q 33.734375 64.59375 27.734375 64.59375 \n",
       "Q 21.390625 64.59375 17.578125 60.78125 \n",
       "Q 13.765625 56.984375 13.71875 50.25 \n",
       "L 4.6875 51.171875 \n",
       "Q 5.609375 61.28125 11.65625 66.578125 \n",
       "Q 17.71875 71.875 27.9375 71.875 \n",
       "Q 38.234375 71.875 44.234375 66.15625 \n",
       "Q 50.25 60.453125 50.25 52 \n",
       "Q 50.25 47.703125 48.484375 43.546875 \n",
       "Q 46.734375 39.40625 42.65625 34.8125 \n",
       "Q 38.578125 30.21875 29.109375 22.21875 \n",
       "Q 21.1875 15.578125 18.9375 13.203125 \n",
       "Q 16.703125 10.84375 15.234375 8.453125 \n",
       "z\n",
       "\" id=\"ArialMT-50\"/>\n",
       "        <path d=\"M 4.15625 18.75 \n",
       "L 13.375 19.53125 \n",
       "Q 14.40625 12.796875 18.140625 9.390625 \n",
       "Q 21.875 6 27.15625 6 \n",
       "Q 33.5 6 37.890625 10.78125 \n",
       "Q 42.28125 15.578125 42.28125 23.484375 \n",
       "Q 42.28125 31 38.0625 35.34375 \n",
       "Q 33.84375 39.703125 27 39.703125 \n",
       "Q 22.75 39.703125 19.328125 37.765625 \n",
       "Q 15.921875 35.84375 13.96875 32.765625 \n",
       "L 5.71875 33.84375 \n",
       "L 12.640625 70.609375 \n",
       "L 48.25 70.609375 \n",
       "L 48.25 62.203125 \n",
       "L 19.671875 62.203125 \n",
       "L 15.828125 42.96875 \n",
       "Q 22.265625 47.46875 29.34375 47.46875 \n",
       "Q 38.71875 47.46875 45.15625 40.96875 \n",
       "Q 51.609375 34.46875 51.609375 24.265625 \n",
       "Q 51.609375 14.546875 45.953125 7.46875 \n",
       "Q 39.0625 -1.21875 27.15625 -1.21875 \n",
       "Q 17.390625 -1.21875 11.203125 4.25 \n",
       "Q 5.03125 9.71875 4.15625 18.75 \n",
       "z\n",
       "\" id=\"ArialMT-53\"/>\n",
       "       </defs>\n",
       "       <use xlink:href=\"#ArialMT-8722\"/>\n",
       "       <use x=\"58.398438\" xlink:href=\"#ArialMT-48\"/>\n",
       "       <use x=\"114.013672\" xlink:href=\"#ArialMT-46\"/>\n",
       "       <use x=\"141.796875\" xlink:href=\"#ArialMT-50\"/>\n",
       "       <use x=\"197.412109\" xlink:href=\"#ArialMT-53\"/>\n",
       "      </g>\n",
       "     </g>\n",
       "    </g>\n",
       "    <g id=\"xtick_2\">\n",
       "     <g id=\"line2d_2\">\n",
       "      <path clip-path=\"url(#pab416cb66e)\" d=\"M 95.559628 188.76 \n",
       "L 95.559628 25.68 \n",
       "\" style=\"fill:none;stroke:#ffffff;stroke-linecap:round;\"/>\n",
       "     </g>\n",
       "     <g id=\"text_2\">\n",
       "      <!-- 0.00 -->\n",
       "      <g style=\"fill:#262626;\" transform=\"translate(84.856113 206.133594)scale(0.11 -0.11)\">\n",
       "       <use xlink:href=\"#ArialMT-48\"/>\n",
       "       <use x=\"55.615234\" xlink:href=\"#ArialMT-46\"/>\n",
       "       <use x=\"83.398438\" xlink:href=\"#ArialMT-48\"/>\n",
       "       <use x=\"139.013672\" xlink:href=\"#ArialMT-48\"/>\n",
       "      </g>\n",
       "     </g>\n",
       "    </g>\n",
       "    <g id=\"xtick_3\">\n",
       "     <g id=\"line2d_3\">\n",
       "      <path clip-path=\"url(#pab416cb66e)\" d=\"M 139.160476 188.76 \n",
       "L 139.160476 25.68 \n",
       "\" style=\"fill:none;stroke:#ffffff;stroke-linecap:round;\"/>\n",
       "     </g>\n",
       "     <g id=\"text_3\">\n",
       "      <!-- 0.25 -->\n",
       "      <g style=\"fill:#262626;\" transform=\"translate(128.456961 206.133594)scale(0.11 -0.11)\">\n",
       "       <use xlink:href=\"#ArialMT-48\"/>\n",
       "       <use x=\"55.615234\" xlink:href=\"#ArialMT-46\"/>\n",
       "       <use x=\"83.398438\" xlink:href=\"#ArialMT-50\"/>\n",
       "       <use x=\"139.013672\" xlink:href=\"#ArialMT-53\"/>\n",
       "      </g>\n",
       "     </g>\n",
       "    </g>\n",
       "    <g id=\"xtick_4\">\n",
       "     <g id=\"line2d_4\">\n",
       "      <path clip-path=\"url(#pab416cb66e)\" d=\"M 182.761325 188.76 \n",
       "L 182.761325 25.68 \n",
       "\" style=\"fill:none;stroke:#ffffff;stroke-linecap:round;\"/>\n",
       "     </g>\n",
       "     <g id=\"text_4\">\n",
       "      <!-- 0.50 -->\n",
       "      <g style=\"fill:#262626;\" transform=\"translate(172.057809 206.133594)scale(0.11 -0.11)\">\n",
       "       <use xlink:href=\"#ArialMT-48\"/>\n",
       "       <use x=\"55.615234\" xlink:href=\"#ArialMT-46\"/>\n",
       "       <use x=\"83.398438\" xlink:href=\"#ArialMT-53\"/>\n",
       "       <use x=\"139.013672\" xlink:href=\"#ArialMT-48\"/>\n",
       "      </g>\n",
       "     </g>\n",
       "    </g>\n",
       "    <g id=\"xtick_5\">\n",
       "     <g id=\"line2d_5\">\n",
       "      <path clip-path=\"url(#pab416cb66e)\" d=\"M 226.362173 188.76 \n",
       "L 226.362173 25.68 \n",
       "\" style=\"fill:none;stroke:#ffffff;stroke-linecap:round;\"/>\n",
       "     </g>\n",
       "     <g id=\"text_5\">\n",
       "      <!-- 0.75 -->\n",
       "      <g style=\"fill:#262626;\" transform=\"translate(215.658657 206.133594)scale(0.11 -0.11)\">\n",
       "       <defs>\n",
       "        <path d=\"M 4.734375 62.203125 \n",
       "L 4.734375 70.65625 \n",
       "L 51.078125 70.65625 \n",
       "L 51.078125 63.8125 \n",
       "Q 44.234375 56.546875 37.515625 44.484375 \n",
       "Q 30.8125 32.421875 27.15625 19.671875 \n",
       "Q 24.515625 10.6875 23.78125 0 \n",
       "L 14.75 0 \n",
       "Q 14.890625 8.453125 18.0625 20.40625 \n",
       "Q 21.234375 32.375 27.171875 43.484375 \n",
       "Q 33.109375 54.59375 39.796875 62.203125 \n",
       "z\n",
       "\" id=\"ArialMT-55\"/>\n",
       "       </defs>\n",
       "       <use xlink:href=\"#ArialMT-48\"/>\n",
       "       <use x=\"55.615234\" xlink:href=\"#ArialMT-46\"/>\n",
       "       <use x=\"83.398438\" xlink:href=\"#ArialMT-55\"/>\n",
       "       <use x=\"139.013672\" xlink:href=\"#ArialMT-53\"/>\n",
       "      </g>\n",
       "     </g>\n",
       "    </g>\n",
       "    <g id=\"xtick_6\">\n",
       "     <g id=\"line2d_6\">\n",
       "      <path clip-path=\"url(#pab416cb66e)\" d=\"M 269.963021 188.76 \n",
       "L 269.963021 25.68 \n",
       "\" style=\"fill:none;stroke:#ffffff;stroke-linecap:round;\"/>\n",
       "     </g>\n",
       "     <g id=\"text_6\">\n",
       "      <!-- 1.00 -->\n",
       "      <g style=\"fill:#262626;\" transform=\"translate(259.259505 206.133594)scale(0.11 -0.11)\">\n",
       "       <defs>\n",
       "        <path d=\"M 37.25 0 \n",
       "L 28.46875 0 \n",
       "L 28.46875 56 \n",
       "Q 25.296875 52.984375 20.140625 49.953125 \n",
       "Q 14.984375 46.921875 10.890625 45.40625 \n",
       "L 10.890625 53.90625 \n",
       "Q 18.265625 57.375 23.78125 62.296875 \n",
       "Q 29.296875 67.234375 31.59375 71.875 \n",
       "L 37.25 71.875 \n",
       "z\n",
       "\" id=\"ArialMT-49\"/>\n",
       "       </defs>\n",
       "       <use xlink:href=\"#ArialMT-49\"/>\n",
       "       <use x=\"55.615234\" xlink:href=\"#ArialMT-46\"/>\n",
       "       <use x=\"83.398438\" xlink:href=\"#ArialMT-48\"/>\n",
       "       <use x=\"139.013672\" xlink:href=\"#ArialMT-48\"/>\n",
       "      </g>\n",
       "     </g>\n",
       "    </g>\n",
       "    <g id=\"text_7\">\n",
       "     <!-- $\\tilde{\\theta}_{educ}$ Values -->\n",
       "     <g style=\"fill:#262626;\" transform=\"translate(124.62 224.574844)scale(0.12 -0.12)\">\n",
       "      <defs>\n",
       "       <path d=\"M -25.296875 66.890625 \n",
       "L -28.078125 69.578125 \n",
       "Q -29.15625 70.5625 -29.953125 71.015625 \n",
       "Q -30.765625 71.484375 -31.390625 71.484375 \n",
       "Q -33.25 71.484375 -34.125 69.703125 \n",
       "Q -35.015625 67.921875 -35.109375 63.921875 \n",
       "L -41.21875 63.921875 \n",
       "Q -41.109375 70.515625 -38.625 74.09375 \n",
       "Q -36.140625 77.6875 -31.6875 77.6875 \n",
       "Q -29.828125 77.6875 -28.265625 77 \n",
       "Q -26.703125 76.3125 -24.90625 74.703125 \n",
       "L -22.125 72.015625 \n",
       "Q -21.046875 71.046875 -20.234375 70.578125 \n",
       "Q -19.4375 70.125 -18.796875 70.125 \n",
       "Q -16.9375 70.125 -16.0625 71.90625 \n",
       "Q -15.1875 73.6875 -15.09375 77.6875 \n",
       "L -8.984375 77.6875 \n",
       "Q -9.078125 71.09375 -11.5625 67.5 \n",
       "Q -14.0625 63.921875 -18.5 63.921875 \n",
       "Q -20.359375 63.921875 -21.921875 64.59375 \n",
       "Q -23.484375 65.28125 -25.296875 66.890625 \n",
       "z\n",
       "\" id=\"DejaVuSans-771\"/>\n",
       "       <path d=\"M 45.515625 34.671875 \n",
       "L 14.453125 34.671875 \n",
       "Q 12.359375 20.0625 14.5 13.875 \n",
       "Q 17.1875 6.25 24.46875 6.25 \n",
       "Q 31.78125 6.25 37.359375 13.921875 \n",
       "Q 42.234375 20.65625 45.515625 34.671875 \n",
       "z\n",
       "M 47.015625 42.96875 \n",
       "Q 48.34375 56.84375 46.625 61.71875 \n",
       "Q 43.953125 69.4375 36.765625 69.4375 \n",
       "Q 29.296875 69.4375 23.828125 61.8125 \n",
       "Q 19.53125 55.671875 16.15625 42.96875 \n",
       "z\n",
       "M 38.1875 76.765625 \n",
       "Q 49.90625 76.765625 54.59375 66.40625 \n",
       "Q 59.28125 56.109375 55.71875 37.84375 \n",
       "Q 52.203125 19.625 43.453125 9.28125 \n",
       "Q 34.765625 -1.125 23.046875 -1.125 \n",
       "Q 11.28125 -1.125 6.640625 9.28125 \n",
       "Q 2 19.625 5.515625 37.84375 \n",
       "Q 9.078125 56.109375 17.71875 66.40625 \n",
       "Q 26.421875 76.765625 38.1875 76.765625 \n",
       "z\n",
       "\" id=\"DejaVuSans-Oblique-952\"/>\n",
       "       <path d=\"M 48.09375 32.234375 \n",
       "Q 48.25 33.015625 48.3125 33.84375 \n",
       "Q 48.390625 34.671875 48.390625 35.5 \n",
       "Q 48.390625 41.453125 44.890625 44.921875 \n",
       "Q 41.40625 48.390625 35.40625 48.390625 \n",
       "Q 28.71875 48.390625 23.578125 44.15625 \n",
       "Q 18.453125 39.9375 15.828125 32.171875 \n",
       "z\n",
       "M 55.90625 25.203125 \n",
       "L 14.109375 25.203125 \n",
       "Q 13.8125 23.34375 13.71875 22.265625 \n",
       "Q 13.625 21.1875 13.625 20.40625 \n",
       "Q 13.625 13.625 17.796875 9.90625 \n",
       "Q 21.96875 6.203125 29.59375 6.203125 \n",
       "Q 35.453125 6.203125 40.671875 7.515625 \n",
       "Q 45.90625 8.84375 50.390625 11.375 \n",
       "L 48.6875 2.484375 \n",
       "Q 43.84375 0.53125 38.6875 -0.4375 \n",
       "Q 33.546875 -1.421875 28.21875 -1.421875 \n",
       "Q 16.84375 -1.421875 10.71875 4.015625 \n",
       "Q 4.59375 9.46875 4.59375 19.484375 \n",
       "Q 4.59375 28.03125 7.640625 35.375 \n",
       "Q 10.6875 42.71875 16.609375 48.484375 \n",
       "Q 20.40625 52.09375 25.65625 54.046875 \n",
       "Q 30.90625 56 36.8125 56 \n",
       "Q 46.09375 56 51.578125 50.4375 \n",
       "Q 57.078125 44.875 57.078125 35.5 \n",
       "Q 57.078125 33.25 56.78125 30.6875 \n",
       "Q 56.5 28.125 55.90625 25.203125 \n",
       "z\n",
       "\" id=\"DejaVuSans-Oblique-101\"/>\n",
       "       <path d=\"M 41.796875 8.203125 \n",
       "Q 38.1875 3.46875 33.25 1.015625 \n",
       "Q 28.328125 -1.421875 22.3125 -1.421875 \n",
       "Q 14.109375 -1.421875 9.34375 4.171875 \n",
       "Q 4.59375 9.765625 4.59375 19.484375 \n",
       "Q 4.59375 27.59375 7.46875 34.9375 \n",
       "Q 10.359375 42.28125 15.828125 48.09375 \n",
       "Q 19.4375 51.953125 23.96875 53.96875 \n",
       "Q 28.515625 56 33.5 56 \n",
       "Q 38.765625 56 42.796875 53.453125 \n",
       "Q 46.828125 50.921875 49.03125 46.1875 \n",
       "L 54.890625 75.984375 \n",
       "L 63.921875 75.984375 \n",
       "L 49.125 0 \n",
       "L 40.09375 0 \n",
       "z\n",
       "M 13.921875 21.09375 \n",
       "Q 13.921875 14.015625 17.109375 10.0625 \n",
       "Q 20.3125 6.109375 25.984375 6.109375 \n",
       "Q 30.171875 6.109375 33.765625 8.125 \n",
       "Q 37.359375 10.15625 40.09375 14.109375 \n",
       "Q 42.96875 18.21875 44.625 23.578125 \n",
       "Q 46.296875 28.953125 46.296875 34.1875 \n",
       "Q 46.296875 40.96875 43.09375 44.765625 \n",
       "Q 39.890625 48.578125 34.28125 48.578125 \n",
       "Q 30.03125 48.578125 26.359375 46.578125 \n",
       "Q 22.703125 44.578125 20.125 40.828125 \n",
       "Q 17.28125 36.765625 15.59375 31.390625 \n",
       "Q 13.921875 26.03125 13.921875 21.09375 \n",
       "z\n",
       "\" id=\"DejaVuSans-Oblique-100\"/>\n",
       "       <path d=\"M 6.6875 21.6875 \n",
       "L 13.09375 54.6875 \n",
       "L 22.125 54.6875 \n",
       "L 15.71875 22.015625 \n",
       "Q 15.234375 19.625 15.015625 17.921875 \n",
       "Q 14.796875 16.21875 14.796875 15.09375 \n",
       "Q 14.796875 10.9375 17.328125 8.65625 \n",
       "Q 19.875 6.390625 24.515625 6.390625 \n",
       "Q 31.734375 6.390625 37 11.265625 \n",
       "Q 42.28125 16.15625 43.890625 24.421875 \n",
       "L 49.90625 54.6875 \n",
       "L 58.890625 54.6875 \n",
       "L 48.296875 0 \n",
       "L 39.3125 0 \n",
       "L 41.109375 8.59375 \n",
       "Q 37.3125 3.8125 32.0625 1.1875 \n",
       "Q 26.8125 -1.421875 20.90625 -1.421875 \n",
       "Q 13.71875 -1.421875 9.71875 2.515625 \n",
       "Q 5.71875 6.453125 5.71875 13.484375 \n",
       "Q 5.71875 14.9375 5.953125 17.140625 \n",
       "Q 6.203125 19.34375 6.6875 21.6875 \n",
       "z\n",
       "\" id=\"DejaVuSans-Oblique-117\"/>\n",
       "       <path d=\"M 53.609375 52.59375 \n",
       "L 51.8125 43.703125 \n",
       "Q 48.578125 46.046875 44.9375 47.21875 \n",
       "Q 41.3125 48.390625 37.40625 48.390625 \n",
       "Q 33.109375 48.390625 29.21875 46.875 \n",
       "Q 25.34375 45.359375 22.703125 42.578125 \n",
       "Q 18.5 38.328125 16.203125 32.609375 \n",
       "Q 13.921875 26.90625 13.921875 20.796875 \n",
       "Q 13.921875 13.421875 17.609375 9.8125 \n",
       "Q 21.296875 6.203125 28.8125 6.203125 \n",
       "Q 32.515625 6.203125 36.6875 7.328125 \n",
       "Q 40.875 8.453125 45.40625 10.6875 \n",
       "L 43.703125 1.8125 \n",
       "Q 39.796875 0.203125 35.671875 -0.609375 \n",
       "Q 31.546875 -1.421875 27.203125 -1.421875 \n",
       "Q 16.3125 -1.421875 10.453125 4.015625 \n",
       "Q 4.59375 9.46875 4.59375 19.578125 \n",
       "Q 4.59375 28.078125 7.640625 35.234375 \n",
       "Q 10.6875 42.390625 16.703125 48.09375 \n",
       "Q 20.796875 52 26.3125 54 \n",
       "Q 31.84375 56 38.375 56 \n",
       "Q 42.1875 56 45.9375 55.140625 \n",
       "Q 49.703125 54.296875 53.609375 52.59375 \n",
       "z\n",
       "\" id=\"DejaVuSans-Oblique-99\"/>\n",
       "       <path id=\"ArialMT-32\"/>\n",
       "       <path d=\"M 28.171875 0 \n",
       "L 0.4375 71.578125 \n",
       "L 10.6875 71.578125 \n",
       "L 29.296875 19.578125 \n",
       "Q 31.546875 13.328125 33.0625 7.859375 \n",
       "Q 34.71875 13.71875 36.921875 19.578125 \n",
       "L 56.25 71.578125 \n",
       "L 65.921875 71.578125 \n",
       "L 37.890625 0 \n",
       "z\n",
       "\" id=\"ArialMT-86\"/>\n",
       "       <path d=\"M 40.4375 6.390625 \n",
       "Q 35.546875 2.25 31.03125 0.53125 \n",
       "Q 26.515625 -1.171875 21.34375 -1.171875 \n",
       "Q 12.796875 -1.171875 8.203125 3 \n",
       "Q 3.609375 7.171875 3.609375 13.671875 \n",
       "Q 3.609375 17.484375 5.34375 20.625 \n",
       "Q 7.078125 23.78125 9.890625 25.6875 \n",
       "Q 12.703125 27.59375 16.21875 28.5625 \n",
       "Q 18.796875 29.25 24.03125 29.890625 \n",
       "Q 34.671875 31.15625 39.703125 32.90625 \n",
       "Q 39.75 34.71875 39.75 35.203125 \n",
       "Q 39.75 40.578125 37.25 42.78125 \n",
       "Q 33.890625 45.75 27.25 45.75 \n",
       "Q 21.046875 45.75 18.09375 43.578125 \n",
       "Q 15.140625 41.40625 13.71875 35.890625 \n",
       "L 5.125 37.0625 \n",
       "Q 6.296875 42.578125 8.984375 45.96875 \n",
       "Q 11.671875 49.359375 16.75 51.1875 \n",
       "Q 21.828125 53.03125 28.515625 53.03125 \n",
       "Q 35.15625 53.03125 39.296875 51.46875 \n",
       "Q 43.453125 49.90625 45.40625 47.53125 \n",
       "Q 47.359375 45.171875 48.140625 41.546875 \n",
       "Q 48.578125 39.3125 48.578125 33.453125 \n",
       "L 48.578125 21.734375 \n",
       "Q 48.578125 9.46875 49.140625 6.21875 \n",
       "Q 49.703125 2.984375 51.375 0 \n",
       "L 42.1875 0 \n",
       "Q 40.828125 2.734375 40.4375 6.390625 \n",
       "z\n",
       "M 39.703125 26.03125 \n",
       "Q 34.90625 24.078125 25.34375 22.703125 \n",
       "Q 19.921875 21.921875 17.671875 20.9375 \n",
       "Q 15.4375 19.96875 14.203125 18.09375 \n",
       "Q 12.984375 16.21875 12.984375 13.921875 \n",
       "Q 12.984375 10.40625 15.640625 8.0625 \n",
       "Q 18.3125 5.71875 23.4375 5.71875 \n",
       "Q 28.515625 5.71875 32.46875 7.9375 \n",
       "Q 36.421875 10.15625 38.28125 14.015625 \n",
       "Q 39.703125 17 39.703125 22.796875 \n",
       "z\n",
       "\" id=\"ArialMT-97\"/>\n",
       "       <path d=\"M 6.390625 0 \n",
       "L 6.390625 71.578125 \n",
       "L 15.1875 71.578125 \n",
       "L 15.1875 0 \n",
       "z\n",
       "\" id=\"ArialMT-108\"/>\n",
       "       <path d=\"M 40.578125 0 \n",
       "L 40.578125 7.625 \n",
       "Q 34.515625 -1.171875 24.125 -1.171875 \n",
       "Q 19.53125 -1.171875 15.546875 0.578125 \n",
       "Q 11.578125 2.34375 9.640625 5 \n",
       "Q 7.71875 7.671875 6.9375 11.53125 \n",
       "Q 6.390625 14.109375 6.390625 19.734375 \n",
       "L 6.390625 51.859375 \n",
       "L 15.1875 51.859375 \n",
       "L 15.1875 23.09375 \n",
       "Q 15.1875 16.21875 15.71875 13.8125 \n",
       "Q 16.546875 10.359375 19.234375 8.375 \n",
       "Q 21.921875 6.390625 25.875 6.390625 \n",
       "Q 29.828125 6.390625 33.296875 8.421875 \n",
       "Q 36.765625 10.453125 38.203125 13.9375 \n",
       "Q 39.65625 17.4375 39.65625 24.078125 \n",
       "L 39.65625 51.859375 \n",
       "L 48.4375 51.859375 \n",
       "L 48.4375 0 \n",
       "z\n",
       "\" id=\"ArialMT-117\"/>\n",
       "       <path d=\"M 42.09375 16.703125 \n",
       "L 51.171875 15.578125 \n",
       "Q 49.03125 7.625 43.21875 3.21875 \n",
       "Q 37.40625 -1.171875 28.375 -1.171875 \n",
       "Q 17 -1.171875 10.328125 5.828125 \n",
       "Q 3.65625 12.84375 3.65625 25.484375 \n",
       "Q 3.65625 38.578125 10.390625 45.796875 \n",
       "Q 17.140625 53.03125 27.875 53.03125 \n",
       "Q 38.28125 53.03125 44.875 45.953125 \n",
       "Q 51.46875 38.875 51.46875 26.03125 \n",
       "Q 51.46875 25.25 51.421875 23.6875 \n",
       "L 12.75 23.6875 \n",
       "Q 13.234375 15.140625 17.578125 10.59375 \n",
       "Q 21.921875 6.0625 28.421875 6.0625 \n",
       "Q 33.25 6.0625 36.671875 8.59375 \n",
       "Q 40.09375 11.140625 42.09375 16.703125 \n",
       "z\n",
       "M 13.234375 30.90625 \n",
       "L 42.1875 30.90625 \n",
       "Q 41.609375 37.453125 38.875 40.71875 \n",
       "Q 34.671875 45.796875 27.984375 45.796875 \n",
       "Q 21.921875 45.796875 17.796875 41.75 \n",
       "Q 13.671875 37.703125 13.234375 30.90625 \n",
       "z\n",
       "\" id=\"ArialMT-101\"/>\n",
       "       <path d=\"M 3.078125 15.484375 \n",
       "L 11.765625 16.84375 \n",
       "Q 12.5 11.625 15.84375 8.84375 \n",
       "Q 19.1875 6.0625 25.203125 6.0625 \n",
       "Q 31.25 6.0625 34.171875 8.515625 \n",
       "Q 37.109375 10.984375 37.109375 14.3125 \n",
       "Q 37.109375 17.28125 34.515625 19 \n",
       "Q 32.71875 20.171875 25.53125 21.96875 \n",
       "Q 15.875 24.421875 12.140625 26.203125 \n",
       "Q 8.40625 27.984375 6.46875 31.125 \n",
       "Q 4.546875 34.28125 4.546875 38.09375 \n",
       "Q 4.546875 41.546875 6.125 44.5 \n",
       "Q 7.71875 47.46875 10.453125 49.421875 \n",
       "Q 12.5 50.921875 16.03125 51.96875 \n",
       "Q 19.578125 53.03125 23.640625 53.03125 \n",
       "Q 29.734375 53.03125 34.34375 51.265625 \n",
       "Q 38.96875 49.515625 41.15625 46.5 \n",
       "Q 43.359375 43.5 44.1875 38.484375 \n",
       "L 35.59375 37.3125 \n",
       "Q 35.015625 41.3125 32.203125 43.546875 \n",
       "Q 29.390625 45.796875 24.265625 45.796875 \n",
       "Q 18.21875 45.796875 15.625 43.796875 \n",
       "Q 13.03125 41.796875 13.03125 39.109375 \n",
       "Q 13.03125 37.40625 14.109375 36.03125 \n",
       "Q 15.1875 34.625 17.484375 33.6875 \n",
       "Q 18.796875 33.203125 25.25 31.453125 \n",
       "Q 34.578125 28.953125 38.25 27.359375 \n",
       "Q 41.9375 25.78125 44.03125 22.75 \n",
       "Q 46.140625 19.734375 46.140625 15.234375 \n",
       "Q 46.140625 10.84375 43.578125 6.953125 \n",
       "Q 41.015625 3.078125 36.171875 0.953125 \n",
       "Q 31.34375 -1.171875 25.25 -1.171875 \n",
       "Q 15.140625 -1.171875 9.84375 3.03125 \n",
       "Q 4.546875 7.234375 3.078125 15.484375 \n",
       "z\n",
       "\" id=\"ArialMT-115\"/>\n",
       "      </defs>\n",
       "      <use transform=\"translate(63.51416 26.3125)\" xlink:href=\"#DejaVuSans-771\"/>\n",
       "      <use transform=\"translate(0 0.96875)\" xlink:href=\"#DejaVuSans-Oblique-952\"/>\n",
       "      <use transform=\"translate(62.138672 -15.4375)scale(0.7)\" xlink:href=\"#DejaVuSans-Oblique-101\"/>\n",
       "      <use transform=\"translate(105.205078 -15.4375)scale(0.7)\" xlink:href=\"#DejaVuSans-Oblique-100\"/>\n",
       "      <use transform=\"translate(149.638672 -15.4375)scale(0.7)\" xlink:href=\"#DejaVuSans-Oblique-117\"/>\n",
       "      <use transform=\"translate(194.003906 -15.4375)scale(0.7)\" xlink:href=\"#DejaVuSans-Oblique-99\"/>\n",
       "      <use transform=\"translate(235.224609 0.96875)\" xlink:href=\"#ArialMT-32\"/>\n",
       "      <use transform=\"translate(263.007812 0.96875)\" xlink:href=\"#ArialMT-86\"/>\n",
       "      <use transform=\"translate(329.707031 0.96875)\" xlink:href=\"#ArialMT-97\"/>\n",
       "      <use transform=\"translate(385.322266 0.96875)\" xlink:href=\"#ArialMT-108\"/>\n",
       "      <use transform=\"translate(407.539062 0.96875)\" xlink:href=\"#ArialMT-117\"/>\n",
       "      <use transform=\"translate(463.154297 0.96875)\" xlink:href=\"#ArialMT-101\"/>\n",
       "      <use transform=\"translate(518.769531 0.96875)\" xlink:href=\"#ArialMT-115\"/>\n",
       "     </g>\n",
       "    </g>\n",
       "   </g>\n",
       "   <g id=\"matplotlib.axis_2\">\n",
       "    <g id=\"ytick_1\">\n",
       "     <g id=\"line2d_7\">\n",
       "      <path clip-path=\"url(#pab416cb66e)\" d=\"M 47.16 188.76 \n",
       "L 270.36 188.76 \n",
       "\" style=\"fill:none;stroke:#ffffff;stroke-linecap:round;\"/>\n",
       "     </g>\n",
       "     <g id=\"text_8\">\n",
       "      <!-- 0.0 -->\n",
       "      <g style=\"fill:#262626;\" transform=\"translate(22.37 192.696797)scale(0.11 -0.11)\">\n",
       "       <use xlink:href=\"#ArialMT-48\"/>\n",
       "       <use x=\"55.615234\" xlink:href=\"#ArialMT-46\"/>\n",
       "       <use x=\"83.398438\" xlink:href=\"#ArialMT-48\"/>\n",
       "      </g>\n",
       "     </g>\n",
       "    </g>\n",
       "    <g id=\"ytick_2\">\n",
       "     <g id=\"line2d_8\">\n",
       "      <path clip-path=\"url(#pab416cb66e)\" d=\"M 47.16 162.774966 \n",
       "L 270.36 162.774966 \n",
       "\" style=\"fill:none;stroke:#ffffff;stroke-linecap:round;\"/>\n",
       "     </g>\n",
       "     <g id=\"text_9\">\n",
       "      <!-- 0.5 -->\n",
       "      <g style=\"fill:#262626;\" transform=\"translate(22.37 166.711763)scale(0.11 -0.11)\">\n",
       "       <use xlink:href=\"#ArialMT-48\"/>\n",
       "       <use x=\"55.615234\" xlink:href=\"#ArialMT-46\"/>\n",
       "       <use x=\"83.398438\" xlink:href=\"#ArialMT-53\"/>\n",
       "      </g>\n",
       "     </g>\n",
       "    </g>\n",
       "    <g id=\"ytick_3\">\n",
       "     <g id=\"line2d_9\">\n",
       "      <path clip-path=\"url(#pab416cb66e)\" d=\"M 47.16 136.789931 \n",
       "L 270.36 136.789931 \n",
       "\" style=\"fill:none;stroke:#ffffff;stroke-linecap:round;\"/>\n",
       "     </g>\n",
       "     <g id=\"text_10\">\n",
       "      <!-- 1.0 -->\n",
       "      <g style=\"fill:#262626;\" transform=\"translate(22.37 140.726728)scale(0.11 -0.11)\">\n",
       "       <use xlink:href=\"#ArialMT-49\"/>\n",
       "       <use x=\"55.615234\" xlink:href=\"#ArialMT-46\"/>\n",
       "       <use x=\"83.398438\" xlink:href=\"#ArialMT-48\"/>\n",
       "      </g>\n",
       "     </g>\n",
       "    </g>\n",
       "    <g id=\"ytick_4\">\n",
       "     <g id=\"line2d_10\">\n",
       "      <path clip-path=\"url(#pab416cb66e)\" d=\"M 47.16 110.804897 \n",
       "L 270.36 110.804897 \n",
       "\" style=\"fill:none;stroke:#ffffff;stroke-linecap:round;\"/>\n",
       "     </g>\n",
       "     <g id=\"text_11\">\n",
       "      <!-- 1.5 -->\n",
       "      <g style=\"fill:#262626;\" transform=\"translate(22.37 114.741694)scale(0.11 -0.11)\">\n",
       "       <use xlink:href=\"#ArialMT-49\"/>\n",
       "       <use x=\"55.615234\" xlink:href=\"#ArialMT-46\"/>\n",
       "       <use x=\"83.398438\" xlink:href=\"#ArialMT-53\"/>\n",
       "      </g>\n",
       "     </g>\n",
       "    </g>\n",
       "    <g id=\"ytick_5\">\n",
       "     <g id=\"line2d_11\">\n",
       "      <path clip-path=\"url(#pab416cb66e)\" d=\"M 47.16 84.819863 \n",
       "L 270.36 84.819863 \n",
       "\" style=\"fill:none;stroke:#ffffff;stroke-linecap:round;\"/>\n",
       "     </g>\n",
       "     <g id=\"text_12\">\n",
       "      <!-- 2.0 -->\n",
       "      <g style=\"fill:#262626;\" transform=\"translate(22.37 88.75666)scale(0.11 -0.11)\">\n",
       "       <use xlink:href=\"#ArialMT-50\"/>\n",
       "       <use x=\"55.615234\" xlink:href=\"#ArialMT-46\"/>\n",
       "       <use x=\"83.398438\" xlink:href=\"#ArialMT-48\"/>\n",
       "      </g>\n",
       "     </g>\n",
       "    </g>\n",
       "    <g id=\"ytick_6\">\n",
       "     <g id=\"line2d_12\">\n",
       "      <path clip-path=\"url(#pab416cb66e)\" d=\"M 47.16 58.834829 \n",
       "L 270.36 58.834829 \n",
       "\" style=\"fill:none;stroke:#ffffff;stroke-linecap:round;\"/>\n",
       "     </g>\n",
       "     <g id=\"text_13\">\n",
       "      <!-- 2.5 -->\n",
       "      <g style=\"fill:#262626;\" transform=\"translate(22.37 62.771626)scale(0.11 -0.11)\">\n",
       "       <use xlink:href=\"#ArialMT-50\"/>\n",
       "       <use x=\"55.615234\" xlink:href=\"#ArialMT-46\"/>\n",
       "       <use x=\"83.398438\" xlink:href=\"#ArialMT-53\"/>\n",
       "      </g>\n",
       "     </g>\n",
       "    </g>\n",
       "    <g id=\"ytick_7\">\n",
       "     <g id=\"line2d_13\">\n",
       "      <path clip-path=\"url(#pab416cb66e)\" d=\"M 47.16 32.849794 \n",
       "L 270.36 32.849794 \n",
       "\" style=\"fill:none;stroke:#ffffff;stroke-linecap:round;\"/>\n",
       "     </g>\n",
       "     <g id=\"text_14\">\n",
       "      <!-- 3.0 -->\n",
       "      <g style=\"fill:#262626;\" transform=\"translate(22.37 36.786591)scale(0.11 -0.11)\">\n",
       "       <defs>\n",
       "        <path d=\"M 4.203125 18.890625 \n",
       "L 12.984375 20.0625 \n",
       "Q 14.5 12.59375 18.140625 9.296875 \n",
       "Q 21.78125 6 27 6 \n",
       "Q 33.203125 6 37.46875 10.296875 \n",
       "Q 41.75 14.59375 41.75 20.953125 \n",
       "Q 41.75 27 37.796875 30.921875 \n",
       "Q 33.84375 34.859375 27.734375 34.859375 \n",
       "Q 25.25 34.859375 21.53125 33.890625 \n",
       "L 22.515625 41.609375 \n",
       "Q 23.390625 41.5 23.921875 41.5 \n",
       "Q 29.546875 41.5 34.03125 44.421875 \n",
       "Q 38.53125 47.359375 38.53125 53.46875 \n",
       "Q 38.53125 58.296875 35.25 61.46875 \n",
       "Q 31.984375 64.65625 26.8125 64.65625 \n",
       "Q 21.6875 64.65625 18.265625 61.421875 \n",
       "Q 14.84375 58.203125 13.875 51.765625 \n",
       "L 5.078125 53.328125 \n",
       "Q 6.6875 62.15625 12.390625 67.015625 \n",
       "Q 18.109375 71.875 26.609375 71.875 \n",
       "Q 32.46875 71.875 37.390625 69.359375 \n",
       "Q 42.328125 66.84375 44.9375 62.5 \n",
       "Q 47.5625 58.15625 47.5625 53.265625 \n",
       "Q 47.5625 48.640625 45.0625 44.828125 \n",
       "Q 42.578125 41.015625 37.703125 38.765625 \n",
       "Q 44.046875 37.3125 47.5625 32.6875 \n",
       "Q 51.078125 28.078125 51.078125 21.140625 \n",
       "Q 51.078125 11.765625 44.234375 5.25 \n",
       "Q 37.40625 -1.265625 26.953125 -1.265625 \n",
       "Q 17.53125 -1.265625 11.296875 4.34375 \n",
       "Q 5.078125 9.96875 4.203125 18.890625 \n",
       "z\n",
       "\" id=\"ArialMT-51\"/>\n",
       "       </defs>\n",
       "       <use xlink:href=\"#ArialMT-51\"/>\n",
       "       <use x=\"55.615234\" xlink:href=\"#ArialMT-46\"/>\n",
       "       <use x=\"83.398438\" xlink:href=\"#ArialMT-48\"/>\n",
       "      </g>\n",
       "     </g>\n",
       "    </g>\n",
       "    <g id=\"text_15\">\n",
       "     <!-- Proportion per Unit -->\n",
       "     <g style=\"fill:#262626;\" transform=\"translate(15.985 157.575)rotate(-90)scale(0.12 -0.12)\">\n",
       "      <defs>\n",
       "       <path d=\"M 7.71875 0 \n",
       "L 7.71875 71.578125 \n",
       "L 34.71875 71.578125 \n",
       "Q 41.84375 71.578125 45.609375 70.90625 \n",
       "Q 50.875 70.015625 54.4375 67.546875 \n",
       "Q 58.015625 65.09375 60.1875 60.640625 \n",
       "Q 62.359375 56.203125 62.359375 50.875 \n",
       "Q 62.359375 41.75 56.546875 35.421875 \n",
       "Q 50.734375 29.109375 35.546875 29.109375 \n",
       "L 17.1875 29.109375 \n",
       "L 17.1875 0 \n",
       "z\n",
       "M 17.1875 37.546875 \n",
       "L 35.6875 37.546875 \n",
       "Q 44.875 37.546875 48.734375 40.96875 \n",
       "Q 52.59375 44.390625 52.59375 50.59375 \n",
       "Q 52.59375 55.078125 50.3125 58.265625 \n",
       "Q 48.046875 61.46875 44.34375 62.5 \n",
       "Q 41.9375 63.140625 35.5 63.140625 \n",
       "L 17.1875 63.140625 \n",
       "z\n",
       "\" id=\"ArialMT-80\"/>\n",
       "       <path d=\"M 6.5 0 \n",
       "L 6.5 51.859375 \n",
       "L 14.40625 51.859375 \n",
       "L 14.40625 44 \n",
       "Q 17.4375 49.515625 20 51.265625 \n",
       "Q 22.5625 53.03125 25.640625 53.03125 \n",
       "Q 30.078125 53.03125 34.671875 50.203125 \n",
       "L 31.640625 42.046875 \n",
       "Q 28.421875 43.953125 25.203125 43.953125 \n",
       "Q 22.3125 43.953125 20.015625 42.21875 \n",
       "Q 17.71875 40.484375 16.75 37.40625 \n",
       "Q 15.28125 32.71875 15.28125 27.15625 \n",
       "L 15.28125 0 \n",
       "z\n",
       "\" id=\"ArialMT-114\"/>\n",
       "       <path d=\"M 3.328125 25.921875 \n",
       "Q 3.328125 40.328125 11.328125 47.265625 \n",
       "Q 18.015625 53.03125 27.640625 53.03125 \n",
       "Q 38.328125 53.03125 45.109375 46.015625 \n",
       "Q 51.90625 39.015625 51.90625 26.65625 \n",
       "Q 51.90625 16.65625 48.90625 10.90625 \n",
       "Q 45.90625 5.171875 40.15625 2 \n",
       "Q 34.421875 -1.171875 27.640625 -1.171875 \n",
       "Q 16.75 -1.171875 10.03125 5.8125 \n",
       "Q 3.328125 12.796875 3.328125 25.921875 \n",
       "z\n",
       "M 12.359375 25.921875 \n",
       "Q 12.359375 15.96875 16.703125 11.015625 \n",
       "Q 21.046875 6.0625 27.640625 6.0625 \n",
       "Q 34.1875 6.0625 38.53125 11.03125 \n",
       "Q 42.875 16.015625 42.875 26.21875 \n",
       "Q 42.875 35.84375 38.5 40.796875 \n",
       "Q 34.125 45.75 27.640625 45.75 \n",
       "Q 21.046875 45.75 16.703125 40.8125 \n",
       "Q 12.359375 35.890625 12.359375 25.921875 \n",
       "z\n",
       "\" id=\"ArialMT-111\"/>\n",
       "       <path d=\"M 6.59375 -19.875 \n",
       "L 6.59375 51.859375 \n",
       "L 14.59375 51.859375 \n",
       "L 14.59375 45.125 \n",
       "Q 17.4375 49.078125 21 51.046875 \n",
       "Q 24.5625 53.03125 29.640625 53.03125 \n",
       "Q 36.28125 53.03125 41.359375 49.609375 \n",
       "Q 46.4375 46.1875 49.015625 39.953125 \n",
       "Q 51.609375 33.734375 51.609375 26.3125 \n",
       "Q 51.609375 18.359375 48.75 11.984375 \n",
       "Q 45.90625 5.609375 40.453125 2.21875 \n",
       "Q 35.015625 -1.171875 29 -1.171875 \n",
       "Q 24.609375 -1.171875 21.109375 0.6875 \n",
       "Q 17.625 2.546875 15.375 5.375 \n",
       "L 15.375 -19.875 \n",
       "z\n",
       "M 14.546875 25.640625 \n",
       "Q 14.546875 15.625 18.59375 10.84375 \n",
       "Q 22.65625 6.0625 28.421875 6.0625 \n",
       "Q 34.28125 6.0625 38.453125 11.015625 \n",
       "Q 42.625 15.96875 42.625 26.375 \n",
       "Q 42.625 36.28125 38.546875 41.203125 \n",
       "Q 34.46875 46.140625 28.8125 46.140625 \n",
       "Q 23.1875 46.140625 18.859375 40.890625 \n",
       "Q 14.546875 35.640625 14.546875 25.640625 \n",
       "z\n",
       "\" id=\"ArialMT-112\"/>\n",
       "       <path d=\"M 25.78125 7.859375 \n",
       "L 27.046875 0.09375 \n",
       "Q 23.34375 -0.6875 20.40625 -0.6875 \n",
       "Q 15.625 -0.6875 12.984375 0.828125 \n",
       "Q 10.359375 2.34375 9.28125 4.8125 \n",
       "Q 8.203125 7.28125 8.203125 15.1875 \n",
       "L 8.203125 45.015625 \n",
       "L 1.765625 45.015625 \n",
       "L 1.765625 51.859375 \n",
       "L 8.203125 51.859375 \n",
       "L 8.203125 64.703125 \n",
       "L 16.9375 69.96875 \n",
       "L 16.9375 51.859375 \n",
       "L 25.78125 51.859375 \n",
       "L 25.78125 45.015625 \n",
       "L 16.9375 45.015625 \n",
       "L 16.9375 14.703125 \n",
       "Q 16.9375 10.9375 17.40625 9.859375 \n",
       "Q 17.875 8.796875 18.921875 8.15625 \n",
       "Q 19.96875 7.515625 21.921875 7.515625 \n",
       "Q 23.390625 7.515625 25.78125 7.859375 \n",
       "z\n",
       "\" id=\"ArialMT-116\"/>\n",
       "       <path d=\"M 6.640625 61.46875 \n",
       "L 6.640625 71.578125 \n",
       "L 15.4375 71.578125 \n",
       "L 15.4375 61.46875 \n",
       "z\n",
       "M 6.640625 0 \n",
       "L 6.640625 51.859375 \n",
       "L 15.4375 51.859375 \n",
       "L 15.4375 0 \n",
       "z\n",
       "\" id=\"ArialMT-105\"/>\n",
       "       <path d=\"M 6.59375 0 \n",
       "L 6.59375 51.859375 \n",
       "L 14.5 51.859375 \n",
       "L 14.5 44.484375 \n",
       "Q 20.21875 53.03125 31 53.03125 \n",
       "Q 35.6875 53.03125 39.625 51.34375 \n",
       "Q 43.5625 49.65625 45.515625 46.921875 \n",
       "Q 47.46875 44.1875 48.25 40.4375 \n",
       "Q 48.734375 37.984375 48.734375 31.890625 \n",
       "L 48.734375 0 \n",
       "L 39.9375 0 \n",
       "L 39.9375 31.546875 \n",
       "Q 39.9375 36.921875 38.90625 39.578125 \n",
       "Q 37.890625 42.234375 35.28125 43.8125 \n",
       "Q 32.671875 45.40625 29.15625 45.40625 \n",
       "Q 23.53125 45.40625 19.453125 41.84375 \n",
       "Q 15.375 38.28125 15.375 28.328125 \n",
       "L 15.375 0 \n",
       "z\n",
       "\" id=\"ArialMT-110\"/>\n",
       "       <path d=\"M 54.6875 71.578125 \n",
       "L 64.15625 71.578125 \n",
       "L 64.15625 30.21875 \n",
       "Q 64.15625 19.4375 61.71875 13.078125 \n",
       "Q 59.28125 6.734375 52.90625 2.75 \n",
       "Q 46.53125 -1.21875 36.1875 -1.21875 \n",
       "Q 26.125 -1.21875 19.71875 2.25 \n",
       "Q 13.328125 5.71875 10.59375 12.28125 \n",
       "Q 7.859375 18.84375 7.859375 30.21875 \n",
       "L 7.859375 71.578125 \n",
       "L 17.328125 71.578125 \n",
       "L 17.328125 30.28125 \n",
       "Q 17.328125 20.953125 19.0625 16.53125 \n",
       "Q 20.796875 12.109375 25.015625 9.71875 \n",
       "Q 29.25 7.328125 35.359375 7.328125 \n",
       "Q 45.796875 7.328125 50.234375 12.0625 \n",
       "Q 54.6875 16.796875 54.6875 30.28125 \n",
       "z\n",
       "\" id=\"ArialMT-85\"/>\n",
       "      </defs>\n",
       "      <use xlink:href=\"#ArialMT-80\"/>\n",
       "      <use x=\"66.699219\" xlink:href=\"#ArialMT-114\"/>\n",
       "      <use x=\"100\" xlink:href=\"#ArialMT-111\"/>\n",
       "      <use x=\"155.615234\" xlink:href=\"#ArialMT-112\"/>\n",
       "      <use x=\"211.230469\" xlink:href=\"#ArialMT-111\"/>\n",
       "      <use x=\"266.845703\" xlink:href=\"#ArialMT-114\"/>\n",
       "      <use x=\"300.146484\" xlink:href=\"#ArialMT-116\"/>\n",
       "      <use x=\"327.929688\" xlink:href=\"#ArialMT-105\"/>\n",
       "      <use x=\"350.146484\" xlink:href=\"#ArialMT-111\"/>\n",
       "      <use x=\"405.761719\" xlink:href=\"#ArialMT-110\"/>\n",
       "      <use x=\"461.376953\" xlink:href=\"#ArialMT-32\"/>\n",
       "      <use x=\"489.160156\" xlink:href=\"#ArialMT-112\"/>\n",
       "      <use x=\"544.775391\" xlink:href=\"#ArialMT-101\"/>\n",
       "      <use x=\"600.390625\" xlink:href=\"#ArialMT-114\"/>\n",
       "      <use x=\"633.691406\" xlink:href=\"#ArialMT-32\"/>\n",
       "      <use x=\"661.474609\" xlink:href=\"#ArialMT-85\"/>\n",
       "      <use x=\"733.691406\" xlink:href=\"#ArialMT-110\"/>\n",
       "      <use x=\"789.306641\" xlink:href=\"#ArialMT-105\"/>\n",
       "      <use x=\"811.523438\" xlink:href=\"#ArialMT-116\"/>\n",
       "     </g>\n",
       "    </g>\n",
       "   </g>\n",
       "   <g id=\"patch_3\">\n",
       "    <path clip-path=\"url(#pab416cb66e)\" d=\"M 57.305455 188.76 \n",
       "L 64.069091 188.76 \n",
       "L 64.069091 188.491986 \n",
       "L 57.305455 188.491986 \n",
       "z\n",
       "\" style=\"fill:#4c72b0;stroke:#ffffff;stroke-linejoin:miter;\"/>\n",
       "   </g>\n",
       "   <g id=\"patch_4\">\n",
       "    <path clip-path=\"url(#pab416cb66e)\" d=\"M 64.069091 188.76 \n",
       "L 70.832727 188.76 \n",
       "L 70.832727 188.491986 \n",
       "L 64.069091 188.491986 \n",
       "z\n",
       "\" style=\"fill:#4c72b0;stroke:#ffffff;stroke-linejoin:miter;\"/>\n",
       "   </g>\n",
       "   <g id=\"patch_5\">\n",
       "    <path clip-path=\"url(#pab416cb66e)\" d=\"M 70.832727 188.76 \n",
       "L 77.596364 188.76 \n",
       "L 77.596364 188.491986 \n",
       "L 70.832727 188.491986 \n",
       "z\n",
       "\" style=\"fill:#4c72b0;stroke:#ffffff;stroke-linejoin:miter;\"/>\n",
       "   </g>\n",
       "   <g id=\"patch_6\">\n",
       "    <path clip-path=\"url(#pab416cb66e)\" d=\"M 77.596364 188.76 \n",
       "L 84.36 188.76 \n",
       "L 84.36 188.357979 \n",
       "L 77.596364 188.357979 \n",
       "z\n",
       "\" style=\"fill:#4c72b0;stroke:#ffffff;stroke-linejoin:miter;\"/>\n",
       "   </g>\n",
       "   <g id=\"patch_7\">\n",
       "    <path clip-path=\"url(#pab416cb66e)\" d=\"M 84.36 188.76 \n",
       "L 91.123636 188.76 \n",
       "L 91.123636 188.223971 \n",
       "L 84.36 188.223971 \n",
       "z\n",
       "\" style=\"fill:#4c72b0;stroke:#ffffff;stroke-linejoin:miter;\"/>\n",
       "   </g>\n",
       "   <g id=\"patch_8\">\n",
       "    <path clip-path=\"url(#pab416cb66e)\" d=\"M 91.123636 188.76 \n",
       "L 97.887273 188.76 \n",
       "L 97.887273 187.553936 \n",
       "L 91.123636 187.553936 \n",
       "z\n",
       "\" style=\"fill:#4c72b0;stroke:#ffffff;stroke-linejoin:miter;\"/>\n",
       "   </g>\n",
       "   <g id=\"patch_9\">\n",
       "    <path clip-path=\"url(#pab416cb66e)\" d=\"M 97.887273 188.76 \n",
       "L 104.650909 188.76 \n",
       "L 104.650909 187.82195 \n",
       "L 97.887273 187.82195 \n",
       "z\n",
       "\" style=\"fill:#4c72b0;stroke:#ffffff;stroke-linejoin:miter;\"/>\n",
       "   </g>\n",
       "   <g id=\"patch_10\">\n",
       "    <path clip-path=\"url(#pab416cb66e)\" d=\"M 104.650909 188.76 \n",
       "L 111.414545 188.76 \n",
       "L 111.414545 187.419929 \n",
       "L 104.650909 187.419929 \n",
       "z\n",
       "\" style=\"fill:#4c72b0;stroke:#ffffff;stroke-linejoin:miter;\"/>\n",
       "   </g>\n",
       "   <g id=\"patch_11\">\n",
       "    <path clip-path=\"url(#pab416cb66e)\" d=\"M 111.414545 188.76 \n",
       "L 118.178182 188.76 \n",
       "L 118.178182 184.203757 \n",
       "L 111.414545 184.203757 \n",
       "z\n",
       "\" style=\"fill:#4c72b0;stroke:#ffffff;stroke-linejoin:miter;\"/>\n",
       "   </g>\n",
       "   <g id=\"patch_12\">\n",
       "    <path clip-path=\"url(#pab416cb66e)\" d=\"M 118.178182 188.76 \n",
       "L 124.941818 188.76 \n",
       "L 124.941818 183.265707 \n",
       "L 118.178182 183.265707 \n",
       "z\n",
       "\" style=\"fill:#4c72b0;stroke:#ffffff;stroke-linejoin:miter;\"/>\n",
       "   </g>\n",
       "   <g id=\"patch_13\">\n",
       "    <path clip-path=\"url(#pab416cb66e)\" d=\"M 124.941818 188.76 \n",
       "L 131.705455 188.76 \n",
       "L 131.705455 178.977478 \n",
       "L 124.941818 178.977478 \n",
       "z\n",
       "\" style=\"fill:#4c72b0;stroke:#ffffff;stroke-linejoin:miter;\"/>\n",
       "   </g>\n",
       "   <g id=\"patch_14\">\n",
       "    <path clip-path=\"url(#pab416cb66e)\" d=\"M 131.705455 188.76 \n",
       "L 138.469091 188.76 \n",
       "L 138.469091 175.493292 \n",
       "L 131.705455 175.493292 \n",
       "z\n",
       "\" style=\"fill:#4c72b0;stroke:#ffffff;stroke-linejoin:miter;\"/>\n",
       "   </g>\n",
       "   <g id=\"patch_15\">\n",
       "    <path clip-path=\"url(#pab416cb66e)\" d=\"M 138.469091 188.76 \n",
       "L 145.232727 188.76 \n",
       "L 145.232727 165.71077 \n",
       "L 138.469091 165.71077 \n",
       "z\n",
       "\" style=\"fill:#4c72b0;stroke:#ffffff;stroke-linejoin:miter;\"/>\n",
       "   </g>\n",
       "   <g id=\"patch_16\">\n",
       "    <path clip-path=\"url(#pab416cb66e)\" d=\"M 145.232727 188.76 \n",
       "L 151.996364 188.76 \n",
       "L 151.996364 155.39222 \n",
       "L 145.232727 155.39222 \n",
       "z\n",
       "\" style=\"fill:#4c72b0;stroke:#ffffff;stroke-linejoin:miter;\"/>\n",
       "   </g>\n",
       "   <g id=\"patch_17\">\n",
       "    <path clip-path=\"url(#pab416cb66e)\" d=\"M 151.996364 188.76 \n",
       "L 158.76 188.76 \n",
       "L 158.76 134.755119 \n",
       "L 151.996364 134.755119 \n",
       "z\n",
       "\" style=\"fill:#4c72b0;stroke:#ffffff;stroke-linejoin:miter;\"/>\n",
       "   </g>\n",
       "   <g id=\"patch_18\">\n",
       "    <path clip-path=\"url(#pab416cb66e)\" d=\"M 158.76 188.76 \n",
       "L 165.523636 188.76 \n",
       "L 165.523636 113.850004 \n",
       "L 158.76 113.850004 \n",
       "z\n",
       "\" style=\"fill:#4c72b0;stroke:#ffffff;stroke-linejoin:miter;\"/>\n",
       "   </g>\n",
       "   <g id=\"patch_19\">\n",
       "    <path clip-path=\"url(#pab416cb66e)\" d=\"M 165.523636 188.76 \n",
       "L 172.287273 188.76 \n",
       "L 172.287273 83.966409 \n",
       "L 165.523636 83.966409 \n",
       "z\n",
       "\" style=\"fill:#4c72b0;stroke:#ffffff;stroke-linejoin:miter;\"/>\n",
       "   </g>\n",
       "   <g id=\"patch_20\">\n",
       "    <path clip-path=\"url(#pab416cb66e)\" d=\"M 172.287273 188.76 \n",
       "L 179.050909 188.76 \n",
       "L 179.050909 65.205409 \n",
       "L 172.287273 65.205409 \n",
       "z\n",
       "\" style=\"fill:#4c72b0;stroke:#ffffff;stroke-linejoin:miter;\"/>\n",
       "   </g>\n",
       "   <g id=\"patch_21\">\n",
       "    <path clip-path=\"url(#pab416cb66e)\" d=\"M 179.050909 188.76 \n",
       "L 185.814545 188.76 \n",
       "L 185.814545 47.650472 \n",
       "L 179.050909 47.650472 \n",
       "z\n",
       "\" style=\"fill:#4c72b0;stroke:#ffffff;stroke-linejoin:miter;\"/>\n",
       "   </g>\n",
       "   <g id=\"patch_22\">\n",
       "    <path clip-path=\"url(#pab416cb66e)\" d=\"M 185.814545 188.76 \n",
       "L 192.578182 188.76 \n",
       "L 192.578182 33.445714 \n",
       "L 185.814545 33.445714 \n",
       "z\n",
       "\" style=\"fill:#4c72b0;stroke:#ffffff;stroke-linejoin:miter;\"/>\n",
       "   </g>\n",
       "   <g id=\"patch_23\">\n",
       "    <path clip-path=\"url(#pab416cb66e)\" d=\"M 192.578182 188.76 \n",
       "L 199.341818 188.76 \n",
       "L 199.341818 36.125857 \n",
       "L 192.578182 36.125857 \n",
       "z\n",
       "\" style=\"fill:#4c72b0;stroke:#ffffff;stroke-linejoin:miter;\"/>\n",
       "   </g>\n",
       "   <g id=\"patch_24\">\n",
       "    <path clip-path=\"url(#pab416cb66e)\" d=\"M 199.341818 188.76 \n",
       "L 206.105455 188.76 \n",
       "L 206.105455 54.752851 \n",
       "L 199.341818 54.752851 \n",
       "z\n",
       "\" style=\"fill:#4c72b0;stroke:#ffffff;stroke-linejoin:miter;\"/>\n",
       "   </g>\n",
       "   <g id=\"patch_25\">\n",
       "    <path clip-path=\"url(#pab416cb66e)\" d=\"M 206.105455 188.76 \n",
       "L 212.869091 188.76 \n",
       "L 212.869091 73.781866 \n",
       "L 206.105455 73.781866 \n",
       "z\n",
       "\" style=\"fill:#4c72b0;stroke:#ffffff;stroke-linejoin:miter;\"/>\n",
       "   </g>\n",
       "   <g id=\"patch_26\">\n",
       "    <path clip-path=\"url(#pab416cb66e)\" d=\"M 212.869091 188.76 \n",
       "L 219.632727 188.76 \n",
       "L 219.632727 109.159753 \n",
       "L 212.869091 109.159753 \n",
       "z\n",
       "\" style=\"fill:#4c72b0;stroke:#ffffff;stroke-linejoin:miter;\"/>\n",
       "   </g>\n",
       "   <g id=\"patch_27\">\n",
       "    <path clip-path=\"url(#pab416cb66e)\" d=\"M 219.632727 188.76 \n",
       "L 226.396364 188.76 \n",
       "L 226.396364 136.765226 \n",
       "L 219.632727 136.765226 \n",
       "z\n",
       "\" style=\"fill:#4c72b0;stroke:#ffffff;stroke-linejoin:miter;\"/>\n",
       "   </g>\n",
       "   <g id=\"patch_28\">\n",
       "    <path clip-path=\"url(#pab416cb66e)\" d=\"M 226.396364 188.76 \n",
       "L 233.16 188.76 \n",
       "L 233.16 157.000306 \n",
       "L 226.396364 157.000306 \n",
       "z\n",
       "\" style=\"fill:#4c72b0;stroke:#ffffff;stroke-linejoin:miter;\"/>\n",
       "   </g>\n",
       "   <g id=\"patch_29\">\n",
       "    <path clip-path=\"url(#pab416cb66e)\" d=\"M 233.16 188.76 \n",
       "L 239.923636 188.76 \n",
       "L 239.923636 173.617192 \n",
       "L 233.16 173.617192 \n",
       "z\n",
       "\" style=\"fill:#4c72b0;stroke:#ffffff;stroke-linejoin:miter;\"/>\n",
       "   </g>\n",
       "   <g id=\"patch_30\">\n",
       "    <path clip-path=\"url(#pab416cb66e)\" d=\"M 239.923636 188.76 \n",
       "L 246.687273 188.76 \n",
       "L 246.687273 181.389607 \n",
       "L 239.923636 181.389607 \n",
       "z\n",
       "\" style=\"fill:#4c72b0;stroke:#ffffff;stroke-linejoin:miter;\"/>\n",
       "   </g>\n",
       "   <g id=\"patch_31\">\n",
       "    <path clip-path=\"url(#pab416cb66e)\" d=\"M 246.687273 188.76 \n",
       "L 253.450909 188.76 \n",
       "L 253.450909 186.079857 \n",
       "L 246.687273 186.079857 \n",
       "z\n",
       "\" style=\"fill:#4c72b0;stroke:#ffffff;stroke-linejoin:miter;\"/>\n",
       "   </g>\n",
       "   <g id=\"patch_32\">\n",
       "    <path clip-path=\"url(#pab416cb66e)\" d=\"M 253.450909 188.76 \n",
       "L 260.214545 188.76 \n",
       "L 260.214545 187.285921 \n",
       "L 253.450909 187.285921 \n",
       "z\n",
       "\" style=\"fill:#4c72b0;stroke:#ffffff;stroke-linejoin:miter;\"/>\n",
       "   </g>\n",
       "   <g id=\"patch_33\">\n",
       "    <path d=\"M 47.16 188.76 \n",
       "L 47.16 25.68 \n",
       "\" style=\"fill:none;stroke:#ffffff;stroke-linecap:square;stroke-linejoin:miter;stroke-width:1.25;\"/>\n",
       "   </g>\n",
       "   <g id=\"patch_34\">\n",
       "    <path d=\"M 270.36 188.76 \n",
       "L 270.36 25.68 \n",
       "\" style=\"fill:none;stroke:#ffffff;stroke-linecap:square;stroke-linejoin:miter;stroke-width:1.25;\"/>\n",
       "   </g>\n",
       "   <g id=\"patch_35\">\n",
       "    <path d=\"M 47.16 188.76 \n",
       "L 270.36 188.76 \n",
       "\" style=\"fill:none;stroke:#ffffff;stroke-linecap:square;stroke-linejoin:miter;stroke-width:1.25;\"/>\n",
       "   </g>\n",
       "   <g id=\"patch_36\">\n",
       "    <path d=\"M 47.16 25.68 \n",
       "L 270.36 25.68 \n",
       "\" style=\"fill:none;stroke:#ffffff;stroke-linecap:square;stroke-linejoin:miter;stroke-width:1.25;\"/>\n",
       "   </g>\n",
       "   <g id=\"text_16\">\n",
       "    <!-- Bootstrap Sampling Distribution of $\\tilde{\\theta}_{educ}$ (Nonparametric) -->\n",
       "    <g style=\"fill:#262626;\" transform=\"translate(7.2 19.68)scale(0.12 -0.12)\">\n",
       "     <defs>\n",
       "      <path d=\"M 7.328125 0 \n",
       "L 7.328125 71.578125 \n",
       "L 34.1875 71.578125 \n",
       "Q 42.390625 71.578125 47.34375 69.40625 \n",
       "Q 52.296875 67.234375 55.09375 62.71875 \n",
       "Q 57.90625 58.203125 57.90625 53.265625 \n",
       "Q 57.90625 48.6875 55.421875 44.625 \n",
       "Q 52.9375 40.578125 47.90625 38.09375 \n",
       "Q 54.390625 36.1875 57.875 31.59375 \n",
       "Q 61.375 27 61.375 20.75 \n",
       "Q 61.375 15.71875 59.25 11.390625 \n",
       "Q 57.125 7.078125 54 4.734375 \n",
       "Q 50.875 2.390625 46.15625 1.1875 \n",
       "Q 41.453125 0 34.625 0 \n",
       "z\n",
       "M 16.796875 41.5 \n",
       "L 32.28125 41.5 \n",
       "Q 38.578125 41.5 41.3125 42.328125 \n",
       "Q 44.921875 43.40625 46.75 45.890625 \n",
       "Q 48.578125 48.390625 48.578125 52.15625 \n",
       "Q 48.578125 55.71875 46.875 58.421875 \n",
       "Q 45.171875 61.140625 41.984375 62.140625 \n",
       "Q 38.8125 63.140625 31.109375 63.140625 \n",
       "L 16.796875 63.140625 \n",
       "z\n",
       "M 16.796875 8.453125 \n",
       "L 34.625 8.453125 \n",
       "Q 39.203125 8.453125 41.0625 8.796875 \n",
       "Q 44.34375 9.375 46.53125 10.734375 \n",
       "Q 48.734375 12.109375 50.140625 14.71875 \n",
       "Q 51.5625 17.328125 51.5625 20.75 \n",
       "Q 51.5625 24.75 49.515625 27.703125 \n",
       "Q 47.46875 30.671875 43.828125 31.859375 \n",
       "Q 40.1875 33.0625 33.34375 33.0625 \n",
       "L 16.796875 33.0625 \n",
       "z\n",
       "\" id=\"ArialMT-66\"/>\n",
       "      <path d=\"M 4.5 23 \n",
       "L 13.421875 23.78125 \n",
       "Q 14.0625 18.40625 16.375 14.96875 \n",
       "Q 18.703125 11.53125 23.578125 9.40625 \n",
       "Q 28.46875 7.28125 34.578125 7.28125 \n",
       "Q 39.984375 7.28125 44.140625 8.890625 \n",
       "Q 48.296875 10.5 50.3125 13.296875 \n",
       "Q 52.34375 16.109375 52.34375 19.4375 \n",
       "Q 52.34375 22.796875 50.390625 25.3125 \n",
       "Q 48.4375 27.828125 43.953125 29.546875 \n",
       "Q 41.0625 30.671875 31.203125 33.03125 \n",
       "Q 21.34375 35.40625 17.390625 37.5 \n",
       "Q 12.25 40.1875 9.734375 44.15625 \n",
       "Q 7.234375 48.140625 7.234375 53.078125 \n",
       "Q 7.234375 58.5 10.296875 63.203125 \n",
       "Q 13.375 67.921875 19.28125 70.359375 \n",
       "Q 25.203125 72.796875 32.421875 72.796875 \n",
       "Q 40.375 72.796875 46.453125 70.234375 \n",
       "Q 52.546875 67.671875 55.8125 62.6875 \n",
       "Q 59.078125 57.71875 59.328125 51.421875 \n",
       "L 50.25 50.734375 \n",
       "Q 49.515625 57.515625 45.28125 60.984375 \n",
       "Q 41.0625 64.453125 32.8125 64.453125 \n",
       "Q 24.21875 64.453125 20.28125 61.296875 \n",
       "Q 16.359375 58.15625 16.359375 53.71875 \n",
       "Q 16.359375 49.859375 19.140625 47.359375 \n",
       "Q 21.875 44.875 33.421875 42.265625 \n",
       "Q 44.96875 39.65625 49.265625 37.703125 \n",
       "Q 55.515625 34.8125 58.484375 30.390625 \n",
       "Q 61.46875 25.984375 61.46875 20.21875 \n",
       "Q 61.46875 14.5 58.203125 9.4375 \n",
       "Q 54.9375 4.390625 48.796875 1.578125 \n",
       "Q 42.671875 -1.21875 35.015625 -1.21875 \n",
       "Q 25.296875 -1.21875 18.71875 1.609375 \n",
       "Q 12.15625 4.4375 8.421875 10.125 \n",
       "Q 4.6875 15.828125 4.5 23 \n",
       "z\n",
       "\" id=\"ArialMT-83\"/>\n",
       "      <path d=\"M 6.59375 0 \n",
       "L 6.59375 51.859375 \n",
       "L 14.453125 51.859375 \n",
       "L 14.453125 44.578125 \n",
       "Q 16.890625 48.390625 20.9375 50.703125 \n",
       "Q 25 53.03125 30.171875 53.03125 \n",
       "Q 35.9375 53.03125 39.625 50.640625 \n",
       "Q 43.3125 48.25 44.828125 43.953125 \n",
       "Q 50.984375 53.03125 60.84375 53.03125 \n",
       "Q 68.5625 53.03125 72.703125 48.75 \n",
       "Q 76.859375 44.484375 76.859375 35.59375 \n",
       "L 76.859375 0 \n",
       "L 68.109375 0 \n",
       "L 68.109375 32.671875 \n",
       "Q 68.109375 37.9375 67.25 40.25 \n",
       "Q 66.40625 42.578125 64.15625 43.984375 \n",
       "Q 61.921875 45.40625 58.890625 45.40625 \n",
       "Q 53.421875 45.40625 49.796875 41.765625 \n",
       "Q 46.1875 38.140625 46.1875 30.125 \n",
       "L 46.1875 0 \n",
       "L 37.40625 0 \n",
       "L 37.40625 33.6875 \n",
       "Q 37.40625 39.546875 35.25 42.46875 \n",
       "Q 33.109375 45.40625 28.21875 45.40625 \n",
       "Q 24.515625 45.40625 21.359375 43.453125 \n",
       "Q 18.21875 41.5 16.796875 37.734375 \n",
       "Q 15.375 33.984375 15.375 26.90625 \n",
       "L 15.375 0 \n",
       "z\n",
       "\" id=\"ArialMT-109\"/>\n",
       "      <path d=\"M 4.984375 -4.296875 \n",
       "L 13.53125 -5.5625 \n",
       "Q 14.0625 -9.515625 16.5 -11.328125 \n",
       "Q 19.78125 -13.765625 25.4375 -13.765625 \n",
       "Q 31.546875 -13.765625 34.859375 -11.328125 \n",
       "Q 38.1875 -8.890625 39.359375 -4.5 \n",
       "Q 40.046875 -1.8125 39.984375 6.78125 \n",
       "Q 34.234375 0 25.640625 0 \n",
       "Q 14.9375 0 9.078125 7.71875 \n",
       "Q 3.21875 15.4375 3.21875 26.21875 \n",
       "Q 3.21875 33.640625 5.90625 39.90625 \n",
       "Q 8.59375 46.1875 13.6875 49.609375 \n",
       "Q 18.796875 53.03125 25.6875 53.03125 \n",
       "Q 34.859375 53.03125 40.828125 45.609375 \n",
       "L 40.828125 51.859375 \n",
       "L 48.921875 51.859375 \n",
       "L 48.921875 7.03125 \n",
       "Q 48.921875 -5.078125 46.453125 -10.125 \n",
       "Q 44 -15.1875 38.640625 -18.109375 \n",
       "Q 33.296875 -21.046875 25.484375 -21.046875 \n",
       "Q 16.21875 -21.046875 10.5 -16.875 \n",
       "Q 4.78125 -12.703125 4.984375 -4.296875 \n",
       "z\n",
       "M 12.25 26.859375 \n",
       "Q 12.25 16.65625 16.296875 11.96875 \n",
       "Q 20.359375 7.28125 26.46875 7.28125 \n",
       "Q 32.515625 7.28125 36.609375 11.9375 \n",
       "Q 40.71875 16.609375 40.71875 26.5625 \n",
       "Q 40.71875 36.078125 36.5 40.90625 \n",
       "Q 32.28125 45.75 26.3125 45.75 \n",
       "Q 20.453125 45.75 16.34375 40.984375 \n",
       "Q 12.25 36.234375 12.25 26.859375 \n",
       "z\n",
       "\" id=\"ArialMT-103\"/>\n",
       "      <path d=\"M 7.71875 0 \n",
       "L 7.71875 71.578125 \n",
       "L 32.375 71.578125 \n",
       "Q 40.71875 71.578125 45.125 70.5625 \n",
       "Q 51.265625 69.140625 55.609375 65.4375 \n",
       "Q 61.28125 60.640625 64.078125 53.1875 \n",
       "Q 66.890625 45.75 66.890625 36.1875 \n",
       "Q 66.890625 28.03125 64.984375 21.734375 \n",
       "Q 63.09375 15.4375 60.109375 11.296875 \n",
       "Q 57.125 7.171875 53.578125 4.796875 \n",
       "Q 50.046875 2.4375 45.046875 1.21875 \n",
       "Q 40.046875 0 33.546875 0 \n",
       "z\n",
       "M 17.1875 8.453125 \n",
       "L 32.46875 8.453125 \n",
       "Q 39.546875 8.453125 43.578125 9.765625 \n",
       "Q 47.609375 11.078125 50 13.484375 \n",
       "Q 53.375 16.84375 55.25 22.53125 \n",
       "Q 57.125 28.21875 57.125 36.328125 \n",
       "Q 57.125 47.5625 53.4375 53.59375 \n",
       "Q 49.75 59.625 44.484375 61.671875 \n",
       "Q 40.671875 63.140625 32.234375 63.140625 \n",
       "L 17.1875 63.140625 \n",
       "z\n",
       "\" id=\"ArialMT-68\"/>\n",
       "      <path d=\"M 14.703125 0 \n",
       "L 6.546875 0 \n",
       "L 6.546875 71.578125 \n",
       "L 15.328125 71.578125 \n",
       "L 15.328125 46.046875 \n",
       "Q 20.90625 53.03125 29.546875 53.03125 \n",
       "Q 34.328125 53.03125 38.59375 51.09375 \n",
       "Q 42.875 49.171875 45.625 45.671875 \n",
       "Q 48.390625 42.1875 49.953125 37.25 \n",
       "Q 51.515625 32.328125 51.515625 26.703125 \n",
       "Q 51.515625 13.375 44.921875 6.09375 \n",
       "Q 38.328125 -1.171875 29.109375 -1.171875 \n",
       "Q 19.921875 -1.171875 14.703125 6.5 \n",
       "z\n",
       "M 14.59375 26.3125 \n",
       "Q 14.59375 17 17.140625 12.84375 \n",
       "Q 21.296875 6.0625 28.375 6.0625 \n",
       "Q 34.125 6.0625 38.328125 11.0625 \n",
       "Q 42.53125 16.0625 42.53125 25.984375 \n",
       "Q 42.53125 36.140625 38.5 40.96875 \n",
       "Q 34.46875 45.796875 28.765625 45.796875 \n",
       "Q 23 45.796875 18.796875 40.796875 \n",
       "Q 14.59375 35.796875 14.59375 26.3125 \n",
       "z\n",
       "\" id=\"ArialMT-98\"/>\n",
       "      <path d=\"M 8.6875 0 \n",
       "L 8.6875 45.015625 \n",
       "L 0.921875 45.015625 \n",
       "L 0.921875 51.859375 \n",
       "L 8.6875 51.859375 \n",
       "L 8.6875 57.375 \n",
       "Q 8.6875 62.59375 9.625 65.140625 \n",
       "Q 10.890625 68.5625 14.078125 70.671875 \n",
       "Q 17.28125 72.796875 23.046875 72.796875 \n",
       "Q 26.765625 72.796875 31.25 71.921875 \n",
       "L 29.9375 64.265625 \n",
       "Q 27.203125 64.75 24.75 64.75 \n",
       "Q 20.75 64.75 19.09375 63.03125 \n",
       "Q 17.4375 61.328125 17.4375 56.640625 \n",
       "L 17.4375 51.859375 \n",
       "L 27.546875 51.859375 \n",
       "L 27.546875 45.015625 \n",
       "L 17.4375 45.015625 \n",
       "L 17.4375 0 \n",
       "z\n",
       "\" id=\"ArialMT-102\"/>\n",
       "      <path d=\"M 23.390625 -21.046875 \n",
       "Q 16.109375 -11.859375 11.078125 0.4375 \n",
       "Q 6.0625 12.75 6.0625 25.921875 \n",
       "Q 6.0625 37.546875 9.8125 48.1875 \n",
       "Q 14.203125 60.546875 23.390625 72.796875 \n",
       "L 29.6875 72.796875 \n",
       "Q 23.78125 62.640625 21.875 58.296875 \n",
       "Q 18.890625 51.5625 17.1875 44.234375 \n",
       "Q 15.09375 35.109375 15.09375 25.875 \n",
       "Q 15.09375 2.390625 29.6875 -21.046875 \n",
       "z\n",
       "\" id=\"ArialMT-40\"/>\n",
       "      <path d=\"M 7.625 0 \n",
       "L 7.625 71.578125 \n",
       "L 17.328125 71.578125 \n",
       "L 54.9375 15.375 \n",
       "L 54.9375 71.578125 \n",
       "L 64.015625 71.578125 \n",
       "L 64.015625 0 \n",
       "L 54.296875 0 \n",
       "L 16.703125 56.25 \n",
       "L 16.703125 0 \n",
       "z\n",
       "\" id=\"ArialMT-78\"/>\n",
       "      <path d=\"M 40.4375 19 \n",
       "L 49.078125 17.875 \n",
       "Q 47.65625 8.9375 41.8125 3.875 \n",
       "Q 35.984375 -1.171875 27.484375 -1.171875 \n",
       "Q 16.84375 -1.171875 10.375 5.78125 \n",
       "Q 3.90625 12.75 3.90625 25.734375 \n",
       "Q 3.90625 34.125 6.6875 40.421875 \n",
       "Q 9.46875 46.734375 15.15625 49.875 \n",
       "Q 20.84375 53.03125 27.546875 53.03125 \n",
       "Q 35.984375 53.03125 41.359375 48.75 \n",
       "Q 46.734375 44.484375 48.25 36.625 \n",
       "L 39.703125 35.296875 \n",
       "Q 38.484375 40.53125 35.375 43.15625 \n",
       "Q 32.28125 45.796875 27.875 45.796875 \n",
       "Q 21.234375 45.796875 17.078125 41.03125 \n",
       "Q 12.9375 36.28125 12.9375 25.984375 \n",
       "Q 12.9375 15.53125 16.9375 10.796875 \n",
       "Q 20.953125 6.0625 27.390625 6.0625 \n",
       "Q 32.5625 6.0625 36.03125 9.234375 \n",
       "Q 39.5 12.40625 40.4375 19 \n",
       "z\n",
       "\" id=\"ArialMT-99\"/>\n",
       "      <path d=\"M 12.359375 -21.046875 \n",
       "L 6.0625 -21.046875 \n",
       "Q 20.65625 2.390625 20.65625 25.875 \n",
       "Q 20.65625 35.0625 18.5625 44.09375 \n",
       "Q 16.890625 51.421875 13.921875 58.15625 \n",
       "Q 12.015625 62.546875 6.0625 72.796875 \n",
       "L 12.359375 72.796875 \n",
       "Q 21.53125 60.546875 25.921875 48.1875 \n",
       "Q 29.6875 37.546875 29.6875 25.921875 \n",
       "Q 29.6875 12.75 24.625 0.4375 \n",
       "Q 19.578125 -11.859375 12.359375 -21.046875 \n",
       "z\n",
       "\" id=\"ArialMT-41\"/>\n",
       "     </defs>\n",
       "     <use transform=\"translate(0 0.96875)\" xlink:href=\"#ArialMT-66\"/>\n",
       "     <use transform=\"translate(66.699219 0.96875)\" xlink:href=\"#ArialMT-111\"/>\n",
       "     <use transform=\"translate(122.314453 0.96875)\" xlink:href=\"#ArialMT-111\"/>\n",
       "     <use transform=\"translate(177.929688 0.96875)\" xlink:href=\"#ArialMT-116\"/>\n",
       "     <use transform=\"translate(205.712891 0.96875)\" xlink:href=\"#ArialMT-115\"/>\n",
       "     <use transform=\"translate(255.712891 0.96875)\" xlink:href=\"#ArialMT-116\"/>\n",
       "     <use transform=\"translate(283.496094 0.96875)\" xlink:href=\"#ArialMT-114\"/>\n",
       "     <use transform=\"translate(316.796875 0.96875)\" xlink:href=\"#ArialMT-97\"/>\n",
       "     <use transform=\"translate(372.412109 0.96875)\" xlink:href=\"#ArialMT-112\"/>\n",
       "     <use transform=\"translate(428.027344 0.96875)\" xlink:href=\"#ArialMT-32\"/>\n",
       "     <use transform=\"translate(455.810547 0.96875)\" xlink:href=\"#ArialMT-83\"/>\n",
       "     <use transform=\"translate(522.509766 0.96875)\" xlink:href=\"#ArialMT-97\"/>\n",
       "     <use transform=\"translate(578.125 0.96875)\" xlink:href=\"#ArialMT-109\"/>\n",
       "     <use transform=\"translate(661.425781 0.96875)\" xlink:href=\"#ArialMT-112\"/>\n",
       "     <use transform=\"translate(717.041016 0.96875)\" xlink:href=\"#ArialMT-108\"/>\n",
       "     <use transform=\"translate(739.257812 0.96875)\" xlink:href=\"#ArialMT-105\"/>\n",
       "     <use transform=\"translate(761.474609 0.96875)\" xlink:href=\"#ArialMT-110\"/>\n",
       "     <use transform=\"translate(817.089844 0.96875)\" xlink:href=\"#ArialMT-103\"/>\n",
       "     <use transform=\"translate(872.705078 0.96875)\" xlink:href=\"#ArialMT-32\"/>\n",
       "     <use transform=\"translate(900.488281 0.96875)\" xlink:href=\"#ArialMT-68\"/>\n",
       "     <use transform=\"translate(972.705078 0.96875)\" xlink:href=\"#ArialMT-105\"/>\n",
       "     <use transform=\"translate(994.921875 0.96875)\" xlink:href=\"#ArialMT-115\"/>\n",
       "     <use transform=\"translate(1044.921875 0.96875)\" xlink:href=\"#ArialMT-116\"/>\n",
       "     <use transform=\"translate(1072.705078 0.96875)\" xlink:href=\"#ArialMT-114\"/>\n",
       "     <use transform=\"translate(1106.005859 0.96875)\" xlink:href=\"#ArialMT-105\"/>\n",
       "     <use transform=\"translate(1128.222656 0.96875)\" xlink:href=\"#ArialMT-98\"/>\n",
       "     <use transform=\"translate(1183.837891 0.96875)\" xlink:href=\"#ArialMT-117\"/>\n",
       "     <use transform=\"translate(1239.453125 0.96875)\" xlink:href=\"#ArialMT-116\"/>\n",
       "     <use transform=\"translate(1267.236328 0.96875)\" xlink:href=\"#ArialMT-105\"/>\n",
       "     <use transform=\"translate(1289.453125 0.96875)\" xlink:href=\"#ArialMT-111\"/>\n",
       "     <use transform=\"translate(1345.068359 0.96875)\" xlink:href=\"#ArialMT-110\"/>\n",
       "     <use transform=\"translate(1400.683594 0.96875)\" xlink:href=\"#ArialMT-32\"/>\n",
       "     <use transform=\"translate(1428.466797 0.96875)\" xlink:href=\"#ArialMT-111\"/>\n",
       "     <use transform=\"translate(1484.082031 0.96875)\" xlink:href=\"#ArialMT-102\"/>\n",
       "     <use transform=\"translate(1511.865234 0.96875)\" xlink:href=\"#ArialMT-32\"/>\n",
       "     <use transform=\"translate(1603.162598 26.3125)\" xlink:href=\"#DejaVuSans-771\"/>\n",
       "     <use transform=\"translate(1539.648438 0.96875)\" xlink:href=\"#DejaVuSans-Oblique-952\"/>\n",
       "     <use transform=\"translate(1601.787109 -15.4375)scale(0.7)\" xlink:href=\"#DejaVuSans-Oblique-101\"/>\n",
       "     <use transform=\"translate(1644.853516 -15.4375)scale(0.7)\" xlink:href=\"#DejaVuSans-Oblique-100\"/>\n",
       "     <use transform=\"translate(1689.287109 -15.4375)scale(0.7)\" xlink:href=\"#DejaVuSans-Oblique-117\"/>\n",
       "     <use transform=\"translate(1733.652344 -15.4375)scale(0.7)\" xlink:href=\"#DejaVuSans-Oblique-99\"/>\n",
       "     <use transform=\"translate(1774.873047 0.96875)\" xlink:href=\"#ArialMT-32\"/>\n",
       "     <use transform=\"translate(1802.65625 0.96875)\" xlink:href=\"#ArialMT-40\"/>\n",
       "     <use transform=\"translate(1835.957031 0.96875)\" xlink:href=\"#ArialMT-78\"/>\n",
       "     <use transform=\"translate(1908.173828 0.96875)\" xlink:href=\"#ArialMT-111\"/>\n",
       "     <use transform=\"translate(1963.789062 0.96875)\" xlink:href=\"#ArialMT-110\"/>\n",
       "     <use transform=\"translate(2019.404297 0.96875)\" xlink:href=\"#ArialMT-112\"/>\n",
       "     <use transform=\"translate(2075.019531 0.96875)\" xlink:href=\"#ArialMT-97\"/>\n",
       "     <use transform=\"translate(2130.634766 0.96875)\" xlink:href=\"#ArialMT-114\"/>\n",
       "     <use transform=\"translate(2163.935547 0.96875)\" xlink:href=\"#ArialMT-97\"/>\n",
       "     <use transform=\"translate(2219.550781 0.96875)\" xlink:href=\"#ArialMT-109\"/>\n",
       "     <use transform=\"translate(2302.851562 0.96875)\" xlink:href=\"#ArialMT-101\"/>\n",
       "     <use transform=\"translate(2358.466797 0.96875)\" xlink:href=\"#ArialMT-116\"/>\n",
       "     <use transform=\"translate(2386.25 0.96875)\" xlink:href=\"#ArialMT-114\"/>\n",
       "     <use transform=\"translate(2419.550781 0.96875)\" xlink:href=\"#ArialMT-105\"/>\n",
       "     <use transform=\"translate(2441.767578 0.96875)\" xlink:href=\"#ArialMT-99\"/>\n",
       "     <use transform=\"translate(2491.767578 0.96875)\" xlink:href=\"#ArialMT-41\"/>\n",
       "    </g>\n",
       "   </g>\n",
       "  </g>\n",
       " </g>\n",
       " <defs>\n",
       "  <clipPath id=\"pab416cb66e\">\n",
       "   <rect height=\"163.08\" width=\"223.2\" x=\"47.16\" y=\"25.68\"/>\n",
       "  </clipPath>\n",
       " </defs>\n",
       "</svg>\n"
      ],
      "text/plain": [
       "<Figure size 288x216 with 1 Axes>"
      ]
     },
     "metadata": {},
     "output_type": "display_data"
    }
   ],
   "source": [
    "plt.figure(figsize = (4, 3))\n",
    "plt.hist(theta_hat_sampling, bins=30, density=True)\n",
    "plt.xlabel(\"$\\\\tilde{\\\\theta}_{educ}$ Values\")\n",
    "plt.ylabel(\"Proportion per Unit\")\n",
    "plt.title(\"Bootstrap Sampling Distribution of $\\\\tilde{\\\\theta}_{educ}$ (Nonparametric)\");\n",
    "plt.show()"
   ]
  },
  {
   "cell_type": "markdown",
   "metadata": {},
   "source": [
    "Notice how the sampling distribution above is slightly skewed to the left. "
   ]
  },
  {
   "cell_type": "markdown",
   "metadata": {
    "colab_type": "text",
    "id": "mtdypIy4GnxT"
   },
   "source": [
    "### Estimating the True Coefficients"
   ]
  },
  {
   "cell_type": "markdown",
   "metadata": {},
   "source": [
    "Although we cannot directly measure $\\theta^*_\\texttt{education}$ we can use a bootstrap confidence interval to account for variability in the sample regression coefficient $\\widehat\\theta_{\\texttt{education}}$. Below, We construct an approximate 95% confidence interval for the true coefficient $\\theta^*_\\texttt{education}$, using the bootstrap percentile method. The confidence interval extends from the 2.5th percentile to the 97.5th percentile of the 10,000 bootstrapped coefficients."
   ]
  },
  {
   "cell_type": "code",
   "execution_count": 46,
   "metadata": {
    "colab": {
     "autoexec": {
      "startup": false,
      "wait_interval": 0
     }
    },
    "colab_type": "code",
    "id": "4LWBmJJuGqwj"
   },
   "outputs": [
    {
     "data": {
      "text/plain": [
       "(0.2349176380021313, 0.7795582405415913)"
      ]
     },
     "execution_count": 46,
     "metadata": {},
     "output_type": "execute_result"
    }
   ],
   "source": [
    "left_confidence_interval_endpoint = np.percentile(theta_hat_sampling, 2.5)\n",
    "right_confidence_interval_endpoint = np.percentile(theta_hat_sampling, 97.5)\n",
    "\n",
    "left_confidence_interval_endpoint, right_confidence_interval_endpoint"
   ]
  },
  {
   "cell_type": "markdown",
   "metadata": {},
   "source": [
    "From the confidence interval above, we estimate that the true coefficient lies between 0.236 and 0.775."
   ]
  },
  {
   "cell_type": "markdown",
   "metadata": {},
   "source": [
    "### Could the true coefficient be 0?\n",
    "\n",
    "Although we observed a positive partial relationship between education and prestige (from the 0.55 coefficient), what if the true coefficient is actually 0 and there is no partial relationship between education and prestige? In this case, the association that we observed was just due to variability in obtaining the points that form our sample.\n",
    "\n",
    "To formally test whether the partial relationship between education and prestige is real, we would like to test the following hypotheses:\n",
    "\n",
    "**Null Hypothesis:** The true partial coefficient is 0.\n",
    "\n",
    "**Alternative Hypothesis.** The true partial coefficient is not 0.\n",
    "\n",
    "Since we have already contructed a 95% confidence interval for the true coefficient, we just need to see whether 0 lies within this interval. Notice that 0 does not lie within our confidence interval above; therefore, we have enough evidence to reject the null hypothesis.  \n",
    "\n",
    "If the confidence interval for the true coefficient did contain 0, then we would not have enough evidence to reject the null hypothesis."
   ]
  },
  {
   "cell_type": "markdown",
   "metadata": {},
   "source": [
    "### Checking for Collinearity\n",
    "\n",
    "Before taking confidence intervals at face value, it's also important to check\n",
    "for collinearity---when\n",
    "two (or more) variables are highly correlated with each other.\n",
    "Collinearity can make it seem like variables are not significantly related to\n",
    "the response even if they are.\n",
    "Let's see a short example.\n",
    "For the data below, we'll use traits of bird eggs to predict the\n",
    "newborn chick weight."
   ]
  },
  {
   "cell_type": "code",
   "execution_count": 98,
   "metadata": {},
   "outputs": [
    {
     "data": {
      "text/html": [
       "<div>\n",
       "<style scoped>\n",
       "    .dataframe tbody tr th:only-of-type {\n",
       "        vertical-align: middle;\n",
       "    }\n",
       "\n",
       "    .dataframe tbody tr th {\n",
       "        vertical-align: top;\n",
       "    }\n",
       "\n",
       "    .dataframe thead th {\n",
       "        text-align: right;\n",
       "    }\n",
       "</style>\n",
       "<table border=\"1\" class=\"dataframe\">\n",
       "  <thead>\n",
       "    <tr style=\"text-align: right;\">\n",
       "      <th></th>\n",
       "      <th>egg_weight</th>\n",
       "      <th>egg_length</th>\n",
       "      <th>egg_breadth</th>\n",
       "      <th>bird_weight</th>\n",
       "    </tr>\n",
       "  </thead>\n",
       "  <tbody>\n",
       "    <tr>\n",
       "      <th>0</th>\n",
       "      <td>7.4</td>\n",
       "      <td>28.80</td>\n",
       "      <td>21.84</td>\n",
       "      <td>5.2</td>\n",
       "    </tr>\n",
       "    <tr>\n",
       "      <th>1</th>\n",
       "      <td>7.7</td>\n",
       "      <td>29.04</td>\n",
       "      <td>22.45</td>\n",
       "      <td>5.4</td>\n",
       "    </tr>\n",
       "    <tr>\n",
       "      <th>2</th>\n",
       "      <td>7.9</td>\n",
       "      <td>29.36</td>\n",
       "      <td>22.48</td>\n",
       "      <td>5.6</td>\n",
       "    </tr>\n",
       "    <tr>\n",
       "      <th>...</th>\n",
       "      <td>...</td>\n",
       "      <td>...</td>\n",
       "      <td>...</td>\n",
       "      <td>...</td>\n",
       "    </tr>\n",
       "    <tr>\n",
       "      <th>41</th>\n",
       "      <td>9.1</td>\n",
       "      <td>33.15</td>\n",
       "      <td>23.02</td>\n",
       "      <td>6.6</td>\n",
       "    </tr>\n",
       "    <tr>\n",
       "      <th>42</th>\n",
       "      <td>9.9</td>\n",
       "      <td>33.30</td>\n",
       "      <td>23.70</td>\n",
       "      <td>7.1</td>\n",
       "    </tr>\n",
       "    <tr>\n",
       "      <th>43</th>\n",
       "      <td>9.0</td>\n",
       "      <td>33.73</td>\n",
       "      <td>22.72</td>\n",
       "      <td>6.3</td>\n",
       "    </tr>\n",
       "  </tbody>\n",
       "</table>\n",
       "<p>44 rows × 4 columns</p>\n",
       "</div>"
      ],
      "text/plain": [
       "    egg_weight  egg_length  egg_breadth  bird_weight\n",
       "0          7.4       28.80        21.84          5.2\n",
       "1          7.7       29.04        22.45          5.4\n",
       "2          7.9       29.36        22.48          5.6\n",
       "..         ...         ...          ...          ...\n",
       "41         9.1       33.15        23.02          6.6\n",
       "42         9.9       33.30        23.70          7.1\n",
       "43         9.0       33.73        22.72          6.3\n",
       "\n",
       "[44 rows x 4 columns]"
      ]
     },
     "execution_count": 98,
     "metadata": {},
     "output_type": "execute_result"
    }
   ],
   "source": [
    "eggs = pd.read_csv('data/snowy_plover.csv')\n",
    "eggs"
   ]
  },
  {
   "cell_type": "markdown",
   "metadata": {},
   "source": [
    "But when we make confidence intervals for the model coefficients, we find \n",
    "something strange.\n",
    "All of the confidence intervals contain 0, which prevents us from concluding\n",
    "that *any* variable is significantly related to the response. "
   ]
  },
  {
   "cell_type": "code",
   "execution_count": 106,
   "metadata": {
    "tags": [
     "hide-input"
    ]
   },
   "outputs": [],
   "source": [
    "def egg_thetas(data):\n",
    "    X = data[:, :3]\n",
    "    y = data[:, 3]\n",
    "    \n",
    "    model = lm.LinearRegression().fit(X, y)\n",
    "    return model.coef_\n",
    "\n",
    "egg_thetas = bootstrap(eggs.values, egg_thetas)"
   ]
  },
  {
   "cell_type": "code",
   "execution_count": 108,
   "metadata": {
    "tags": [
     "hide-input"
    ]
   },
   "outputs": [
    {
     "data": {
      "text/html": [
       "<div>\n",
       "<style scoped>\n",
       "    .dataframe tbody tr th:only-of-type {\n",
       "        vertical-align: middle;\n",
       "    }\n",
       "\n",
       "    .dataframe tbody tr th {\n",
       "        vertical-align: top;\n",
       "    }\n",
       "\n",
       "    .dataframe thead th {\n",
       "        text-align: right;\n",
       "    }\n",
       "</style>\n",
       "<table border=\"1\" class=\"dataframe\">\n",
       "  <thead>\n",
       "    <tr style=\"text-align: right;\">\n",
       "      <th></th>\n",
       "      <th>lower</th>\n",
       "      <th>upper</th>\n",
       "    </tr>\n",
       "  </thead>\n",
       "  <tbody>\n",
       "    <tr>\n",
       "      <th>theta_egg_weight</th>\n",
       "      <td>-0.26</td>\n",
       "      <td>1.10</td>\n",
       "    </tr>\n",
       "    <tr>\n",
       "      <th>theta_egg_length</th>\n",
       "      <td>-0.10</td>\n",
       "      <td>0.21</td>\n",
       "    </tr>\n",
       "    <tr>\n",
       "      <th>theta_egg_breadth</th>\n",
       "      <td>-0.26</td>\n",
       "      <td>0.76</td>\n",
       "    </tr>\n",
       "  </tbody>\n",
       "</table>\n",
       "</div>"
      ],
      "text/plain": [
       "                   lower  upper\n",
       "theta_egg_weight   -0.26   1.10\n",
       "theta_egg_length   -0.10   0.21\n",
       "theta_egg_breadth  -0.26   0.76"
      ]
     },
     "execution_count": 108,
     "metadata": {},
     "output_type": "execute_result"
    }
   ],
   "source": [
    "egg_ci = np.percentile(egg_thetas, [2.5, 97.5], axis=0)\n",
    "pd.DataFrame(egg_ci.T,\n",
    "             columns=['lower', 'upper'],\n",
    "             index=['theta_egg_weight', 'theta_egg_length', 'theta_egg_breadth'])"
   ]
  },
  {
   "cell_type": "markdown",
   "metadata": {},
   "source": [
    "To see what's going on, we'll make a scatter plot matrix for the data."
   ]
  },
  {
   "cell_type": "code",
   "execution_count": 110,
   "metadata": {},
   "outputs": [
    {
     "data": {
      "application/vnd.plotly.v1+json": {
       "config": {
        "plotlyServerURL": "https://plot.ly"
       },
       "data": [
        {
         "dimensions": [
          {
           "axis": {
            "matches": true
           },
           "label": "egg_weight",
           "values": [
            7.4,
            7.7,
            7.9,
            7.5,
            8.3,
            8.5,
            8.2,
            8.3,
            9,
            8.5,
            8.6,
            8.2,
            8.3,
            8.7,
            8.5,
            8.4,
            8.5,
            8.9,
            9.1,
            8.9,
            8.6,
            8.5,
            8.8,
            8.3,
            8.2,
            8.2,
            8.9,
            8.5,
            8.8,
            8.6,
            9.1,
            9,
            8.9,
            9.2,
            9.1,
            8.6,
            8.8,
            9.1,
            9.2,
            9.2,
            8.9,
            9.1,
            9.9,
            9
           ]
          },
          {
           "axis": {
            "matches": true
           },
           "label": "egg_length",
           "values": [
            28.8,
            29.04,
            29.36,
            30.1,
            30.17,
            30.34,
            30.36,
            30.46,
            30.54,
            30.62,
            30.7,
            30.71,
            30.86,
            30.87,
            30.89,
            30.9,
            31,
            31.06,
            31.07,
            31.14,
            31.18,
            31.41,
            31.46,
            31.47,
            31.5,
            31.5,
            31.55,
            31.56,
            31.68,
            31.81,
            31.98,
            32.06,
            32.14,
            32.16,
            32.3,
            32.53,
            32.54,
            32.66,
            32.72,
            32.78,
            32.98,
            33.15,
            33.3,
            33.73
           ]
          },
          {
           "axis": {
            "matches": true
           },
           "label": "egg_breadth",
           "values": [
            21.84,
            22.45,
            22.48,
            21.71,
            22.75,
            22.84,
            22.5,
            22.72,
            23.31,
            22.94,
            23.18,
            22.51,
            22.52,
            23.35,
            22.78,
            22.81,
            23.09,
            23.42,
            23.82,
            23.7,
            22.92,
            22.79,
            22.86,
            22.35,
            22.19,
            22.4,
            23.17,
            22.54,
            22.82,
            22.68,
            23.21,
            23.1,
            22.87,
            23.34,
            23.2,
            22.68,
            22.5,
            23.14,
            23.25,
            23.23,
            22.94,
            23.02,
            23.7,
            22.72
           ]
          },
          {
           "axis": {
            "matches": true
           },
           "label": "bird_weight",
           "values": [
            5.2,
            5.4,
            5.6,
            5.3,
            5.9,
            5.8,
            5.8,
            6,
            6.1,
            6.2,
            6.5,
            5.7,
            6.2,
            6.4,
            6.2,
            6.1,
            6.3,
            6.3,
            6.5,
            6,
            5.6,
            6.2,
            6.3,
            5.8,
            5.7,
            6,
            6.4,
            5.9,
            6.4,
            6.2,
            7.1,
            6.5,
            5.8,
            6.4,
            6.4,
            6.1,
            6.2,
            6.8,
            6.3,
            6.4,
            6.4,
            6.6,
            7.1,
            6.3
           ]
          }
         ],
         "hovertemplate": "%{xaxis.title.text}=%{x}<br>%{yaxis.title.text}=%{y}<extra></extra>",
         "legendgroup": "",
         "marker": {
          "color": "rgb(76,114,176)",
          "symbol": "circle"
         },
         "name": "",
         "showlegend": false,
         "type": "splom"
        }
       ],
       "layout": {
        "dragmode": "select",
        "height": 450,
        "legend": {
         "tracegroupgap": 0
        },
        "template": {
         "data": {
          "bar": [
           {
            "error_x": {
             "color": "rgb(36,36,36)"
            },
            "error_y": {
             "color": "rgb(36,36,36)"
            },
            "marker": {
             "line": {
              "color": "rgb(234,234,242)",
              "width": 0.5
             },
             "pattern": {
              "fillmode": "overlay",
              "size": 10,
              "solidity": 0.2
             }
            },
            "type": "bar"
           }
          ],
          "barpolar": [
           {
            "marker": {
             "line": {
              "color": "rgb(234,234,242)",
              "width": 0.5
             },
             "pattern": {
              "fillmode": "overlay",
              "size": 10,
              "solidity": 0.2
             }
            },
            "type": "barpolar"
           }
          ],
          "carpet": [
           {
            "aaxis": {
             "endlinecolor": "rgb(36,36,36)",
             "gridcolor": "white",
             "linecolor": "white",
             "minorgridcolor": "white",
             "startlinecolor": "rgb(36,36,36)"
            },
            "baxis": {
             "endlinecolor": "rgb(36,36,36)",
             "gridcolor": "white",
             "linecolor": "white",
             "minorgridcolor": "white",
             "startlinecolor": "rgb(36,36,36)"
            },
            "type": "carpet"
           }
          ],
          "choropleth": [
           {
            "colorbar": {
             "outlinewidth": 0,
             "tickcolor": "rgb(36,36,36)",
             "ticklen": 8,
             "ticks": "outside",
             "tickwidth": 2
            },
            "type": "choropleth"
           }
          ],
          "contour": [
           {
            "colorbar": {
             "outlinewidth": 0,
             "tickcolor": "rgb(36,36,36)",
             "ticklen": 8,
             "ticks": "outside",
             "tickwidth": 2
            },
            "colorscale": [
             [
              0,
              "rgb(2,4,25)"
             ],
             [
              0.06274509803921569,
              "rgb(24,15,41)"
             ],
             [
              0.12549019607843137,
              "rgb(47,23,57)"
             ],
             [
              0.18823529411764706,
              "rgb(71,28,72)"
             ],
             [
              0.25098039215686274,
              "rgb(97,30,82)"
             ],
             [
              0.3137254901960784,
              "rgb(123,30,89)"
             ],
             [
              0.3764705882352941,
              "rgb(150,27,91)"
             ],
             [
              0.4392156862745098,
              "rgb(177,22,88)"
             ],
             [
              0.5019607843137255,
              "rgb(203,26,79)"
             ],
             [
              0.5647058823529412,
              "rgb(223,47,67)"
             ],
             [
              0.6274509803921569,
              "rgb(236,76,61)"
             ],
             [
              0.6901960784313725,
              "rgb(242,107,73)"
             ],
             [
              0.7529411764705882,
              "rgb(244,135,95)"
             ],
             [
              0.8156862745098039,
              "rgb(245,162,122)"
             ],
             [
              0.8784313725490196,
              "rgb(246,188,153)"
             ],
             [
              0.9411764705882353,
              "rgb(247,212,187)"
             ],
             [
              1,
              "rgb(250,234,220)"
             ]
            ],
            "type": "contour"
           }
          ],
          "contourcarpet": [
           {
            "colorbar": {
             "outlinewidth": 0,
             "tickcolor": "rgb(36,36,36)",
             "ticklen": 8,
             "ticks": "outside",
             "tickwidth": 2
            },
            "type": "contourcarpet"
           }
          ],
          "heatmap": [
           {
            "colorbar": {
             "outlinewidth": 0,
             "tickcolor": "rgb(36,36,36)",
             "ticklen": 8,
             "ticks": "outside",
             "tickwidth": 2
            },
            "colorscale": [
             [
              0,
              "rgb(2,4,25)"
             ],
             [
              0.06274509803921569,
              "rgb(24,15,41)"
             ],
             [
              0.12549019607843137,
              "rgb(47,23,57)"
             ],
             [
              0.18823529411764706,
              "rgb(71,28,72)"
             ],
             [
              0.25098039215686274,
              "rgb(97,30,82)"
             ],
             [
              0.3137254901960784,
              "rgb(123,30,89)"
             ],
             [
              0.3764705882352941,
              "rgb(150,27,91)"
             ],
             [
              0.4392156862745098,
              "rgb(177,22,88)"
             ],
             [
              0.5019607843137255,
              "rgb(203,26,79)"
             ],
             [
              0.5647058823529412,
              "rgb(223,47,67)"
             ],
             [
              0.6274509803921569,
              "rgb(236,76,61)"
             ],
             [
              0.6901960784313725,
              "rgb(242,107,73)"
             ],
             [
              0.7529411764705882,
              "rgb(244,135,95)"
             ],
             [
              0.8156862745098039,
              "rgb(245,162,122)"
             ],
             [
              0.8784313725490196,
              "rgb(246,188,153)"
             ],
             [
              0.9411764705882353,
              "rgb(247,212,187)"
             ],
             [
              1,
              "rgb(250,234,220)"
             ]
            ],
            "type": "heatmap"
           }
          ],
          "heatmapgl": [
           {
            "colorbar": {
             "outlinewidth": 0,
             "tickcolor": "rgb(36,36,36)",
             "ticklen": 8,
             "ticks": "outside",
             "tickwidth": 2
            },
            "colorscale": [
             [
              0,
              "rgb(2,4,25)"
             ],
             [
              0.06274509803921569,
              "rgb(24,15,41)"
             ],
             [
              0.12549019607843137,
              "rgb(47,23,57)"
             ],
             [
              0.18823529411764706,
              "rgb(71,28,72)"
             ],
             [
              0.25098039215686274,
              "rgb(97,30,82)"
             ],
             [
              0.3137254901960784,
              "rgb(123,30,89)"
             ],
             [
              0.3764705882352941,
              "rgb(150,27,91)"
             ],
             [
              0.4392156862745098,
              "rgb(177,22,88)"
             ],
             [
              0.5019607843137255,
              "rgb(203,26,79)"
             ],
             [
              0.5647058823529412,
              "rgb(223,47,67)"
             ],
             [
              0.6274509803921569,
              "rgb(236,76,61)"
             ],
             [
              0.6901960784313725,
              "rgb(242,107,73)"
             ],
             [
              0.7529411764705882,
              "rgb(244,135,95)"
             ],
             [
              0.8156862745098039,
              "rgb(245,162,122)"
             ],
             [
              0.8784313725490196,
              "rgb(246,188,153)"
             ],
             [
              0.9411764705882353,
              "rgb(247,212,187)"
             ],
             [
              1,
              "rgb(250,234,220)"
             ]
            ],
            "type": "heatmapgl"
           }
          ],
          "histogram": [
           {
            "marker": {
             "pattern": {
              "fillmode": "overlay",
              "size": 10,
              "solidity": 0.2
             }
            },
            "type": "histogram"
           }
          ],
          "histogram2d": [
           {
            "colorbar": {
             "outlinewidth": 0,
             "tickcolor": "rgb(36,36,36)",
             "ticklen": 8,
             "ticks": "outside",
             "tickwidth": 2
            },
            "colorscale": [
             [
              0,
              "rgb(2,4,25)"
             ],
             [
              0.06274509803921569,
              "rgb(24,15,41)"
             ],
             [
              0.12549019607843137,
              "rgb(47,23,57)"
             ],
             [
              0.18823529411764706,
              "rgb(71,28,72)"
             ],
             [
              0.25098039215686274,
              "rgb(97,30,82)"
             ],
             [
              0.3137254901960784,
              "rgb(123,30,89)"
             ],
             [
              0.3764705882352941,
              "rgb(150,27,91)"
             ],
             [
              0.4392156862745098,
              "rgb(177,22,88)"
             ],
             [
              0.5019607843137255,
              "rgb(203,26,79)"
             ],
             [
              0.5647058823529412,
              "rgb(223,47,67)"
             ],
             [
              0.6274509803921569,
              "rgb(236,76,61)"
             ],
             [
              0.6901960784313725,
              "rgb(242,107,73)"
             ],
             [
              0.7529411764705882,
              "rgb(244,135,95)"
             ],
             [
              0.8156862745098039,
              "rgb(245,162,122)"
             ],
             [
              0.8784313725490196,
              "rgb(246,188,153)"
             ],
             [
              0.9411764705882353,
              "rgb(247,212,187)"
             ],
             [
              1,
              "rgb(250,234,220)"
             ]
            ],
            "type": "histogram2d"
           }
          ],
          "histogram2dcontour": [
           {
            "colorbar": {
             "outlinewidth": 0,
             "tickcolor": "rgb(36,36,36)",
             "ticklen": 8,
             "ticks": "outside",
             "tickwidth": 2
            },
            "colorscale": [
             [
              0,
              "rgb(2,4,25)"
             ],
             [
              0.06274509803921569,
              "rgb(24,15,41)"
             ],
             [
              0.12549019607843137,
              "rgb(47,23,57)"
             ],
             [
              0.18823529411764706,
              "rgb(71,28,72)"
             ],
             [
              0.25098039215686274,
              "rgb(97,30,82)"
             ],
             [
              0.3137254901960784,
              "rgb(123,30,89)"
             ],
             [
              0.3764705882352941,
              "rgb(150,27,91)"
             ],
             [
              0.4392156862745098,
              "rgb(177,22,88)"
             ],
             [
              0.5019607843137255,
              "rgb(203,26,79)"
             ],
             [
              0.5647058823529412,
              "rgb(223,47,67)"
             ],
             [
              0.6274509803921569,
              "rgb(236,76,61)"
             ],
             [
              0.6901960784313725,
              "rgb(242,107,73)"
             ],
             [
              0.7529411764705882,
              "rgb(244,135,95)"
             ],
             [
              0.8156862745098039,
              "rgb(245,162,122)"
             ],
             [
              0.8784313725490196,
              "rgb(246,188,153)"
             ],
             [
              0.9411764705882353,
              "rgb(247,212,187)"
             ],
             [
              1,
              "rgb(250,234,220)"
             ]
            ],
            "type": "histogram2dcontour"
           }
          ],
          "mesh3d": [
           {
            "colorbar": {
             "outlinewidth": 0,
             "tickcolor": "rgb(36,36,36)",
             "ticklen": 8,
             "ticks": "outside",
             "tickwidth": 2
            },
            "type": "mesh3d"
           }
          ],
          "parcoords": [
           {
            "line": {
             "colorbar": {
              "outlinewidth": 0,
              "tickcolor": "rgb(36,36,36)",
              "ticklen": 8,
              "ticks": "outside",
              "tickwidth": 2
             }
            },
            "type": "parcoords"
           }
          ],
          "pie": [
           {
            "automargin": true,
            "type": "pie"
           }
          ],
          "scatter": [
           {
            "marker": {
             "colorbar": {
              "outlinewidth": 0,
              "tickcolor": "rgb(36,36,36)",
              "ticklen": 8,
              "ticks": "outside",
              "tickwidth": 2
             }
            },
            "type": "scatter"
           }
          ],
          "scatter3d": [
           {
            "line": {
             "colorbar": {
              "outlinewidth": 0,
              "tickcolor": "rgb(36,36,36)",
              "ticklen": 8,
              "ticks": "outside",
              "tickwidth": 2
             }
            },
            "marker": {
             "colorbar": {
              "outlinewidth": 0,
              "tickcolor": "rgb(36,36,36)",
              "ticklen": 8,
              "ticks": "outside",
              "tickwidth": 2
             }
            },
            "type": "scatter3d"
           }
          ],
          "scattercarpet": [
           {
            "marker": {
             "colorbar": {
              "outlinewidth": 0,
              "tickcolor": "rgb(36,36,36)",
              "ticklen": 8,
              "ticks": "outside",
              "tickwidth": 2
             }
            },
            "type": "scattercarpet"
           }
          ],
          "scattergeo": [
           {
            "marker": {
             "colorbar": {
              "outlinewidth": 0,
              "tickcolor": "rgb(36,36,36)",
              "ticklen": 8,
              "ticks": "outside",
              "tickwidth": 2
             }
            },
            "type": "scattergeo"
           }
          ],
          "scattergl": [
           {
            "marker": {
             "colorbar": {
              "outlinewidth": 0,
              "tickcolor": "rgb(36,36,36)",
              "ticklen": 8,
              "ticks": "outside",
              "tickwidth": 2
             }
            },
            "type": "scattergl"
           }
          ],
          "scattermapbox": [
           {
            "marker": {
             "colorbar": {
              "outlinewidth": 0,
              "tickcolor": "rgb(36,36,36)",
              "ticklen": 8,
              "ticks": "outside",
              "tickwidth": 2
             }
            },
            "type": "scattermapbox"
           }
          ],
          "scatterpolar": [
           {
            "marker": {
             "colorbar": {
              "outlinewidth": 0,
              "tickcolor": "rgb(36,36,36)",
              "ticklen": 8,
              "ticks": "outside",
              "tickwidth": 2
             }
            },
            "type": "scatterpolar"
           }
          ],
          "scatterpolargl": [
           {
            "marker": {
             "colorbar": {
              "outlinewidth": 0,
              "tickcolor": "rgb(36,36,36)",
              "ticklen": 8,
              "ticks": "outside",
              "tickwidth": 2
             }
            },
            "type": "scatterpolargl"
           }
          ],
          "scatterternary": [
           {
            "marker": {
             "colorbar": {
              "outlinewidth": 0,
              "tickcolor": "rgb(36,36,36)",
              "ticklen": 8,
              "ticks": "outside",
              "tickwidth": 2
             }
            },
            "type": "scatterternary"
           }
          ],
          "surface": [
           {
            "colorbar": {
             "outlinewidth": 0,
             "tickcolor": "rgb(36,36,36)",
             "ticklen": 8,
             "ticks": "outside",
             "tickwidth": 2
            },
            "colorscale": [
             [
              0,
              "rgb(2,4,25)"
             ],
             [
              0.06274509803921569,
              "rgb(24,15,41)"
             ],
             [
              0.12549019607843137,
              "rgb(47,23,57)"
             ],
             [
              0.18823529411764706,
              "rgb(71,28,72)"
             ],
             [
              0.25098039215686274,
              "rgb(97,30,82)"
             ],
             [
              0.3137254901960784,
              "rgb(123,30,89)"
             ],
             [
              0.3764705882352941,
              "rgb(150,27,91)"
             ],
             [
              0.4392156862745098,
              "rgb(177,22,88)"
             ],
             [
              0.5019607843137255,
              "rgb(203,26,79)"
             ],
             [
              0.5647058823529412,
              "rgb(223,47,67)"
             ],
             [
              0.6274509803921569,
              "rgb(236,76,61)"
             ],
             [
              0.6901960784313725,
              "rgb(242,107,73)"
             ],
             [
              0.7529411764705882,
              "rgb(244,135,95)"
             ],
             [
              0.8156862745098039,
              "rgb(245,162,122)"
             ],
             [
              0.8784313725490196,
              "rgb(246,188,153)"
             ],
             [
              0.9411764705882353,
              "rgb(247,212,187)"
             ],
             [
              1,
              "rgb(250,234,220)"
             ]
            ],
            "type": "surface"
           }
          ],
          "table": [
           {
            "cells": {
             "fill": {
              "color": "rgb(231,231,240)"
             },
             "line": {
              "color": "white"
             }
            },
            "header": {
             "fill": {
              "color": "rgb(183,183,191)"
             },
             "line": {
              "color": "white"
             }
            },
            "type": "table"
           }
          ]
         },
         "layout": {
          "annotationdefaults": {
           "arrowcolor": "rgb(67,103,167)"
          },
          "autosize": true,
          "autotypenumbers": "strict",
          "coloraxis": {
           "colorbar": {
            "outlinewidth": 0,
            "tickcolor": "rgb(36,36,36)",
            "ticklen": 8,
            "ticks": "outside",
            "tickwidth": 2
           }
          },
          "colorscale": {
           "sequential": [
            [
             0,
             "rgb(2,4,25)"
            ],
            [
             0.06274509803921569,
             "rgb(24,15,41)"
            ],
            [
             0.12549019607843137,
             "rgb(47,23,57)"
            ],
            [
             0.18823529411764706,
             "rgb(71,28,72)"
            ],
            [
             0.25098039215686274,
             "rgb(97,30,82)"
            ],
            [
             0.3137254901960784,
             "rgb(123,30,89)"
            ],
            [
             0.3764705882352941,
             "rgb(150,27,91)"
            ],
            [
             0.4392156862745098,
             "rgb(177,22,88)"
            ],
            [
             0.5019607843137255,
             "rgb(203,26,79)"
            ],
            [
             0.5647058823529412,
             "rgb(223,47,67)"
            ],
            [
             0.6274509803921569,
             "rgb(236,76,61)"
            ],
            [
             0.6901960784313725,
             "rgb(242,107,73)"
            ],
            [
             0.7529411764705882,
             "rgb(244,135,95)"
            ],
            [
             0.8156862745098039,
             "rgb(245,162,122)"
            ],
            [
             0.8784313725490196,
             "rgb(246,188,153)"
            ],
            [
             0.9411764705882353,
             "rgb(247,212,187)"
            ],
            [
             1,
             "rgb(250,234,220)"
            ]
           ],
           "sequentialminus": [
            [
             0,
             "rgb(2,4,25)"
            ],
            [
             0.06274509803921569,
             "rgb(24,15,41)"
            ],
            [
             0.12549019607843137,
             "rgb(47,23,57)"
            ],
            [
             0.18823529411764706,
             "rgb(71,28,72)"
            ],
            [
             0.25098039215686274,
             "rgb(97,30,82)"
            ],
            [
             0.3137254901960784,
             "rgb(123,30,89)"
            ],
            [
             0.3764705882352941,
             "rgb(150,27,91)"
            ],
            [
             0.4392156862745098,
             "rgb(177,22,88)"
            ],
            [
             0.5019607843137255,
             "rgb(203,26,79)"
            ],
            [
             0.5647058823529412,
             "rgb(223,47,67)"
            ],
            [
             0.6274509803921569,
             "rgb(236,76,61)"
            ],
            [
             0.6901960784313725,
             "rgb(242,107,73)"
            ],
            [
             0.7529411764705882,
             "rgb(244,135,95)"
            ],
            [
             0.8156862745098039,
             "rgb(245,162,122)"
            ],
            [
             0.8784313725490196,
             "rgb(246,188,153)"
            ],
            [
             0.9411764705882353,
             "rgb(247,212,187)"
            ],
            [
             1,
             "rgb(250,234,220)"
            ]
           ]
          },
          "colorway": [
           "rgb(76,114,176)",
           "rgb(221,132,82)",
           "rgb(85,168,104)",
           "rgb(196,78,82)",
           "rgb(129,114,179)",
           "rgb(147,120,96)",
           "rgb(218,139,195)",
           "rgb(140,140,140)",
           "rgb(204,185,116)",
           "rgb(100,181,205)"
          ],
          "font": {
           "color": "rgb(36,36,36)"
          },
          "geo": {
           "bgcolor": "white",
           "lakecolor": "white",
           "landcolor": "rgb(234,234,242)",
           "showlakes": true,
           "showland": true,
           "subunitcolor": "white"
          },
          "height": 250,
          "hoverlabel": {
           "align": "left"
          },
          "hovermode": "closest",
          "margin": {
           "b": 10,
           "l": 10,
           "r": 10,
           "t": 10
          },
          "paper_bgcolor": "white",
          "plot_bgcolor": "rgb(234,234,242)",
          "polar": {
           "angularaxis": {
            "gridcolor": "white",
            "linecolor": "white",
            "showgrid": true,
            "ticks": ""
           },
           "bgcolor": "rgb(234,234,242)",
           "radialaxis": {
            "gridcolor": "white",
            "linecolor": "white",
            "showgrid": true,
            "ticks": ""
           }
          },
          "scene": {
           "xaxis": {
            "backgroundcolor": "rgb(234,234,242)",
            "gridcolor": "white",
            "gridwidth": 2,
            "linecolor": "white",
            "showbackground": true,
            "showgrid": true,
            "ticks": "",
            "zerolinecolor": "white"
           },
           "yaxis": {
            "backgroundcolor": "rgb(234,234,242)",
            "gridcolor": "white",
            "gridwidth": 2,
            "linecolor": "white",
            "showbackground": true,
            "showgrid": true,
            "ticks": "",
            "zerolinecolor": "white"
           },
           "zaxis": {
            "backgroundcolor": "rgb(234,234,242)",
            "gridcolor": "white",
            "gridwidth": 2,
            "linecolor": "white",
            "showbackground": true,
            "showgrid": true,
            "ticks": "",
            "zerolinecolor": "white"
           }
          },
          "shapedefaults": {
           "fillcolor": "rgb(67,103,167)",
           "line": {
            "width": 0
           },
           "opacity": 0.5
          },
          "ternary": {
           "aaxis": {
            "gridcolor": "white",
            "linecolor": "white",
            "showgrid": true,
            "ticks": ""
           },
           "baxis": {
            "gridcolor": "white",
            "linecolor": "white",
            "showgrid": true,
            "ticks": ""
           },
           "bgcolor": "rgb(234,234,242)",
           "caxis": {
            "gridcolor": "white",
            "linecolor": "white",
            "showgrid": true,
            "ticks": ""
           }
          },
          "width": 350,
          "xaxis": {
           "automargin": true,
           "gridcolor": "white",
           "linecolor": "white",
           "showgrid": true,
           "ticks": "",
           "title": {
            "standoff": 15
           },
           "zerolinecolor": "white"
          },
          "yaxis": {
           "automargin": true,
           "gridcolor": "white",
           "linecolor": "white",
           "showgrid": true,
           "ticks": "",
           "title": {
            "standoff": 15
           },
           "zerolinecolor": "white"
          }
         }
        },
        "width": 450,
        "xaxis": {
         "autorange": true,
         "range": [
          7.1148412184057035,
          10.185158781594296
         ],
         "type": "linear"
        },
        "xaxis2": {
         "autorange": true,
         "range": [
          28.237666882696047,
          34.29233311730395
         ],
         "type": "linear"
        },
        "xaxis3": {
         "autorange": true,
         "range": [
          21.469325988334415,
          24.060674011665586
         ],
         "type": "linear"
        },
        "xaxis4": {
         "autorange": true,
         "range": [
          4.983279325988335,
          7.316720674011665
         ],
         "type": "linear"
        },
        "yaxis": {
         "autorange": true,
         "range": [
          7.1148412184057035,
          10.185158781594296
         ],
         "type": "linear"
        },
        "yaxis2": {
         "autorange": true,
         "range": [
          28.237666882696047,
          34.29233311730395
         ],
         "type": "linear"
        },
        "yaxis3": {
         "autorange": true,
         "range": [
          21.469325988334415,
          24.060674011665586
         ],
         "type": "linear"
        },
        "yaxis4": {
         "autorange": true,
         "range": [
          4.983279325988335,
          7.316720674011665
         ],
         "type": "linear"
        }
       }
      },
      "image/png": "[encoded data removed]",
      "image/svg+xml": [
       "<svg class=\"main-svg\" xmlns=\"http://www.w3.org/2000/svg\" xmlns:xlink=\"http://www.w3.org/1999/xlink\" width=\"450\" height=\"450\" style=\"\" viewBox=\"0 0 450 450\"><rect x=\"0\" y=\"0\" width=\"450\" height=\"450\" style=\"fill: rgb(255, 255, 255); fill-opacity: 1;\"/><defs id=\"defs-0ef840\"><g class=\"clips\"><clipPath id=\"clip0ef840xyplot\" class=\"plotclip\"><rect width=\"87.46153846153848\" height=\"88.61538461538464\"/></clipPath><clipPath id=\"clip0ef840xy2plot\" class=\"plotclip\"><rect width=\"87.46153846153848\" height=\"88.61538461538464\"/></clipPath><clipPath id=\"clip0ef840xy3plot\" class=\"plotclip\"><rect width=\"87.46153846153848\" height=\"88.61538461538461\"/></clipPath><clipPath id=\"clip0ef840xy4plot\" class=\"plotclip\"><rect width=\"87.46153846153848\" height=\"88.61538461538463\"/></clipPath><clipPath id=\"clip0ef840x2yplot\" class=\"plotclip\"><rect width=\"87.46153846153847\" height=\"88.61538461538464\"/></clipPath><clipPath id=\"clip0ef840x2y2plot\" class=\"plotclip\"><rect width=\"87.46153846153847\" height=\"88.61538461538464\"/></clipPath><clipPath id=\"clip0ef840x2y3plot\" class=\"plotclip\"><rect width=\"87.46153846153847\" height=\"88.61538461538461\"/></clipPath><clipPath id=\"clip0ef840x2y4plot\" class=\"plotclip\"><rect width=\"87.46153846153847\" height=\"88.61538461538463\"/></clipPath><clipPath id=\"clip0ef840x3yplot\" class=\"plotclip\"><rect width=\"87.46153846153848\" height=\"88.61538461538464\"/></clipPath><clipPath id=\"clip0ef840x3y2plot\" class=\"plotclip\"><rect width=\"87.46153846153848\" height=\"88.61538461538464\"/></clipPath><clipPath id=\"clip0ef840x3y3plot\" class=\"plotclip\"><rect width=\"87.46153846153848\" height=\"88.61538461538461\"/></clipPath><clipPath id=\"clip0ef840x3y4plot\" class=\"plotclip\"><rect width=\"87.46153846153848\" height=\"88.61538461538463\"/></clipPath><clipPath id=\"clip0ef840x4yplot\" class=\"plotclip\"><rect width=\"87.46153846153848\" height=\"88.61538461538464\"/></clipPath><clipPath id=\"clip0ef840x4y2plot\" class=\"plotclip\"><rect width=\"87.46153846153848\" height=\"88.61538461538464\"/></clipPath><clipPath id=\"clip0ef840x4y3plot\" class=\"plotclip\"><rect width=\"87.46153846153848\" height=\"88.61538461538461\"/></clipPath><clipPath id=\"clip0ef840x4y4plot\" class=\"plotclip\"><rect width=\"87.46153846153848\" height=\"88.61538461538463\"/></clipPath><clipPath class=\"axesclip\" id=\"clip0ef840x\"><rect x=\"55\" y=\"0\" width=\"87.46153846153848\" height=\"450\"/></clipPath><clipPath class=\"axesclip\" id=\"clip0ef840y\"><rect x=\"0\" y=\"15.999999999999915\" width=\"450\" height=\"88.61538461538464\"/></clipPath><clipPath class=\"axesclip\" id=\"clip0ef840xy\"><rect x=\"55\" y=\"15.999999999999915\" width=\"87.46153846153848\" height=\"88.61538461538464\"/></clipPath><clipPath class=\"axesclip\" id=\"clip0ef840y2\"><rect x=\"0\" y=\"114.46153846153841\" width=\"450\" height=\"88.61538461538464\"/></clipPath><clipPath class=\"axesclip\" id=\"clip0ef840xy2\"><rect x=\"55\" y=\"114.46153846153841\" width=\"87.46153846153848\" height=\"88.61538461538464\"/></clipPath><clipPath class=\"axesclip\" id=\"clip0ef840y3\"><rect x=\"0\" y=\"212.9230769230769\" width=\"450\" height=\"88.61538461538461\"/></clipPath><clipPath class=\"axesclip\" id=\"clip0ef840xy3\"><rect x=\"55\" y=\"212.9230769230769\" width=\"87.46153846153848\" height=\"88.61538461538461\"/></clipPath><clipPath class=\"axesclip\" id=\"clip0ef840y4\"><rect x=\"0\" y=\"311.38461538461536\" width=\"450\" height=\"88.61538461538463\"/></clipPath><clipPath class=\"axesclip\" id=\"clip0ef840xy4\"><rect x=\"55\" y=\"311.38461538461536\" width=\"87.46153846153848\" height=\"88.61538461538463\"/></clipPath><clipPath class=\"axesclip\" id=\"clip0ef840x2\"><rect x=\"152.17948717948718\" y=\"0\" width=\"87.46153846153847\" height=\"450\"/></clipPath><clipPath class=\"axesclip\" id=\"clip0ef840x2y\"><rect x=\"152.17948717948718\" y=\"15.999999999999915\" width=\"87.46153846153847\" height=\"88.61538461538464\"/></clipPath><clipPath class=\"axesclip\" id=\"clip0ef840x2y2\"><rect x=\"152.17948717948718\" y=\"114.46153846153841\" width=\"87.46153846153847\" height=\"88.61538461538464\"/></clipPath><clipPath class=\"axesclip\" id=\"clip0ef840x2y3\"><rect x=\"152.17948717948718\" y=\"212.9230769230769\" width=\"87.46153846153847\" height=\"88.61538461538461\"/></clipPath><clipPath class=\"axesclip\" id=\"clip0ef840x2y4\"><rect x=\"152.17948717948718\" y=\"311.38461538461536\" width=\"87.46153846153847\" height=\"88.61538461538463\"/></clipPath><clipPath class=\"axesclip\" id=\"clip0ef840x3\"><rect x=\"249.3589743589744\" y=\"0\" width=\"87.46153846153848\" height=\"450\"/></clipPath><clipPath class=\"axesclip\" id=\"clip0ef840x3y\"><rect x=\"249.3589743589744\" y=\"15.999999999999915\" width=\"87.46153846153848\" height=\"88.61538461538464\"/></clipPath><clipPath class=\"axesclip\" id=\"clip0ef840x3y2\"><rect x=\"249.3589743589744\" y=\"114.46153846153841\" width=\"87.46153846153848\" height=\"88.61538461538464\"/></clipPath><clipPath class=\"axesclip\" id=\"clip0ef840x3y3\"><rect x=\"249.3589743589744\" y=\"212.9230769230769\" width=\"87.46153846153848\" height=\"88.61538461538461\"/></clipPath><clipPath class=\"axesclip\" id=\"clip0ef840x3y4\"><rect x=\"249.3589743589744\" y=\"311.38461538461536\" width=\"87.46153846153848\" height=\"88.61538461538463\"/></clipPath><clipPath class=\"axesclip\" id=\"clip0ef840x4\"><rect x=\"346.5384615384616\" y=\"0\" width=\"87.46153846153848\" height=\"450\"/></clipPath><clipPath class=\"axesclip\" id=\"clip0ef840x4y\"><rect x=\"346.5384615384616\" y=\"15.999999999999915\" width=\"87.46153846153848\" height=\"88.61538461538464\"/></clipPath><clipPath class=\"axesclip\" id=\"clip0ef840x4y2\"><rect x=\"346.5384615384616\" y=\"114.46153846153841\" width=\"87.46153846153848\" height=\"88.61538461538464\"/></clipPath><clipPath class=\"axesclip\" id=\"clip0ef840x4y3\"><rect x=\"346.5384615384616\" y=\"212.9230769230769\" width=\"87.46153846153848\" height=\"88.61538461538461\"/></clipPath><clipPath class=\"axesclip\" id=\"clip0ef840x4y4\"><rect x=\"346.5384615384616\" y=\"311.38461538461536\" width=\"87.46153846153848\" height=\"88.61538461538463\"/></clipPath></g><g class=\"gradients\"/><g class=\"patterns\"/></defs><g class=\"bglayer\"><rect class=\"bg\" x=\"55\" y=\"15.999999999999915\" width=\"87.46153846153848\" height=\"88.61538461538464\" style=\"fill: rgb(234, 234, 242); fill-opacity: 1; stroke-width: 0;\"/><rect class=\"bg\" x=\"55\" y=\"114.46153846153841\" width=\"87.46153846153848\" height=\"88.61538461538464\" style=\"fill: rgb(234, 234, 242); fill-opacity: 1; stroke-width: 0;\"/><rect class=\"bg\" x=\"55\" y=\"212.9230769230769\" width=\"87.46153846153848\" height=\"88.61538461538461\" style=\"fill: rgb(234, 234, 242); fill-opacity: 1; stroke-width: 0;\"/><rect class=\"bg\" x=\"55\" y=\"311.38461538461536\" width=\"87.46153846153848\" height=\"88.61538461538463\" style=\"fill: rgb(234, 234, 242); fill-opacity: 1; stroke-width: 0;\"/><rect class=\"bg\" x=\"152.17948717948718\" y=\"15.999999999999915\" width=\"87.46153846153847\" height=\"88.61538461538464\" style=\"fill: rgb(234, 234, 242); fill-opacity: 1; stroke-width: 0;\"/><rect class=\"bg\" x=\"152.17948717948718\" y=\"114.46153846153841\" width=\"87.46153846153847\" height=\"88.61538461538464\" style=\"fill: rgb(234, 234, 242); fill-opacity: 1; stroke-width: 0;\"/><rect class=\"bg\" x=\"152.17948717948718\" y=\"212.9230769230769\" width=\"87.46153846153847\" height=\"88.61538461538461\" style=\"fill: rgb(234, 234, 242); fill-opacity: 1; stroke-width: 0;\"/><rect class=\"bg\" x=\"152.17948717948718\" y=\"311.38461538461536\" width=\"87.46153846153847\" height=\"88.61538461538463\" style=\"fill: rgb(234, 234, 242); fill-opacity: 1; stroke-width: 0;\"/><rect class=\"bg\" x=\"249.3589743589744\" y=\"15.999999999999915\" width=\"87.46153846153848\" height=\"88.61538461538464\" style=\"fill: rgb(234, 234, 242); fill-opacity: 1; stroke-width: 0;\"/><rect class=\"bg\" x=\"249.3589743589744\" y=\"114.46153846153841\" width=\"87.46153846153848\" height=\"88.61538461538464\" style=\"fill: rgb(234, 234, 242); fill-opacity: 1; stroke-width: 0;\"/><rect class=\"bg\" x=\"249.3589743589744\" y=\"212.9230769230769\" width=\"87.46153846153848\" height=\"88.61538461538461\" style=\"fill: rgb(234, 234, 242); fill-opacity: 1; stroke-width: 0;\"/><rect class=\"bg\" x=\"249.3589743589744\" y=\"311.38461538461536\" width=\"87.46153846153848\" height=\"88.61538461538463\" style=\"fill: rgb(234, 234, 242); fill-opacity: 1; stroke-width: 0;\"/><rect class=\"bg\" x=\"346.5384615384616\" y=\"15.999999999999915\" width=\"87.46153846153848\" height=\"88.61538461538464\" style=\"fill: rgb(234, 234, 242); fill-opacity: 1; stroke-width: 0;\"/><rect class=\"bg\" x=\"346.5384615384616\" y=\"114.46153846153841\" width=\"87.46153846153848\" height=\"88.61538461538464\" style=\"fill: rgb(234, 234, 242); fill-opacity: 1; stroke-width: 0;\"/><rect class=\"bg\" x=\"346.5384615384616\" y=\"212.9230769230769\" width=\"87.46153846153848\" height=\"88.61538461538461\" style=\"fill: rgb(234, 234, 242); fill-opacity: 1; stroke-width: 0;\"/><rect class=\"bg\" x=\"346.5384615384616\" y=\"311.38461538461536\" width=\"87.46153846153848\" height=\"88.61538461538463\" style=\"fill: rgb(234, 234, 242); fill-opacity: 1; stroke-width: 0;\"/></g><g class=\"layer-below\"><g class=\"imagelayer\"/><g class=\"shapelayer\"/></g><g class=\"cartesianlayer\"><g class=\"subplot xy\"><g class=\"layer-subplot\"><g class=\"shapelayer\"/><g class=\"imagelayer\"/></g><g class=\"gridlayer\"><g class=\"x\"><path class=\"xgrid crisp\" transform=\"translate(80.21000000000001,0)\" d=\"M0,15.999999999999915v88.61538461538464\" style=\"stroke: rgb(255, 255, 255); stroke-opacity: 1; stroke-width: 1px;\"/><path class=\"xgrid crisp\" transform=\"translate(108.7,0)\" d=\"M0,15.999999999999915v88.61538461538464\" style=\"stroke: rgb(255, 255, 255); stroke-opacity: 1; stroke-width: 1px;\"/><path class=\"xgrid crisp\" transform=\"translate(137.19,0)\" d=\"M0,15.999999999999915v88.61538461538464\" style=\"stroke: rgb(255, 255, 255); stroke-opacity: 1; stroke-width: 1px;\"/></g><g class=\"y\"><path class=\"ygrid crisp\" transform=\"translate(0,79.06999999999991)\" d=\"M55,0h87.46153846153848\" style=\"stroke: rgb(255, 255, 255); stroke-opacity: 1; stroke-width: 1px;\"/><path class=\"ygrid crisp\" transform=\"translate(0,50.209999999999916)\" d=\"M55,0h87.46153846153848\" style=\"stroke: rgb(255, 255, 255); stroke-opacity: 1; stroke-width: 1px;\"/><path class=\"ygrid crisp\" transform=\"translate(0,21.339999999999915)\" d=\"M55,0h87.46153846153848\" style=\"stroke: rgb(255, 255, 255); stroke-opacity: 1; stroke-width: 1px;\"/></g></g><g class=\"zerolinelayer\"/><path class=\"xlines-below\"/><path class=\"ylines-below\"/><g class=\"overlines-below\"/><g class=\"xaxislayer-below\"/><g class=\"yaxislayer-below\"/><g class=\"overaxes-below\"/><g class=\"plot\" transform=\"translate(55,15.999999999999915)\" clip-path=\"url(#clip0ef840xyplot)\"/><g class=\"overplot\"/><path class=\"xlines-above crisp\" d=\"M0,0\" style=\"fill: none;\"/><path class=\"ylines-above crisp\" d=\"M0,0\" style=\"fill: none;\"/><g class=\"overlines-above\"/><g class=\"xaxislayer-above\"/><g class=\"yaxislayer-above\"><g class=\"ytick\"><text text-anchor=\"end\" x=\"54\" y=\"4.199999999999999\" transform=\"translate(0,79.06999999999991)\" style=\"font-family: 'Open Sans', verdana, arial, sans-serif; font-size: 12px; fill: rgb(36, 36, 36); fill-opacity: 1; white-space: pre; opacity: 1;\">8</text></g><g class=\"ytick\"><text text-anchor=\"end\" x=\"54\" y=\"4.199999999999999\" style=\"font-family: 'Open Sans', verdana, arial, sans-serif; font-size: 12px; fill: rgb(36, 36, 36); fill-opacity: 1; white-space: pre; opacity: 1;\" transform=\"translate(0,50.209999999999916)\">9</text></g><g class=\"ytick\"><text text-anchor=\"end\" x=\"54\" y=\"4.199999999999999\" style=\"font-family: 'Open Sans', verdana, arial, sans-serif; font-size: 12px; fill: rgb(36, 36, 36); fill-opacity: 1; white-space: pre; opacity: 1;\" transform=\"translate(0,21.339999999999915)\">10</text></g></g><g class=\"overaxes-above\"/></g><g class=\"subplot xy2\"><g class=\"layer-subplot\"><g class=\"shapelayer\"/><g class=\"imagelayer\"/></g><g class=\"gridlayer\"><g class=\"x\"><path class=\"xgrid crisp\" transform=\"translate(80.21000000000001,0)\" d=\"M0,114.46153846153841v88.61538461538464\" style=\"stroke: rgb(255, 255, 255); stroke-opacity: 1; stroke-width: 1px;\"/><path class=\"xgrid crisp\" transform=\"translate(108.7,0)\" d=\"M0,114.46153846153841v88.61538461538464\" style=\"stroke: rgb(255, 255, 255); stroke-opacity: 1; stroke-width: 1px;\"/><path class=\"xgrid crisp\" transform=\"translate(137.19,0)\" d=\"M0,114.46153846153841v88.61538461538464\" style=\"stroke: rgb(255, 255, 255); stroke-opacity: 1; stroke-width: 1px;\"/></g><g class=\"y2\"><path class=\"y2grid crisp\" transform=\"translate(0,177.28153846153842)\" d=\"M55,0h87.46153846153848\" style=\"stroke: rgb(255, 255, 255); stroke-opacity: 1; stroke-width: 1px;\"/><path class=\"y2grid crisp\" transform=\"translate(0,148.0115384615384)\" d=\"M55,0h87.46153846153848\" style=\"stroke: rgb(255, 255, 255); stroke-opacity: 1; stroke-width: 1px;\"/><path class=\"y2grid crisp\" transform=\"translate(0,118.74153846153841)\" d=\"M55,0h87.46153846153848\" style=\"stroke: rgb(255, 255, 255); stroke-opacity: 1; stroke-width: 1px;\"/></g></g><g class=\"zerolinelayer\"/><path class=\"xlines-below\"/><path class=\"ylines-below\"/><g class=\"overlines-below\"/><g class=\"xaxislayer-below\"/><g class=\"yaxislayer-below\"/><g class=\"overaxes-below\"/><g class=\"plot\" transform=\"translate(55,114.46153846153841)\" clip-path=\"url(#clip0ef840xy2plot)\"/><g class=\"overplot\"/><path class=\"xlines-above crisp\" d=\"M0,0\" style=\"fill: none;\"/><path class=\"ylines-above crisp\" d=\"M0,0\" style=\"fill: none;\"/><g class=\"overlines-above\"/><g class=\"xaxislayer-above\"/><g class=\"yaxislayer-above\"><g class=\"y2tick\"><text text-anchor=\"end\" x=\"54\" y=\"4.199999999999999\" transform=\"translate(0,177.28153846153842)\" style=\"font-family: 'Open Sans', verdana, arial, sans-serif; font-size: 12px; fill: rgb(36, 36, 36); fill-opacity: 1; white-space: pre; opacity: 1;\">30</text></g><g class=\"y2tick\"><text text-anchor=\"end\" x=\"54\" y=\"4.199999999999999\" style=\"font-family: 'Open Sans', verdana, arial, sans-serif; font-size: 12px; fill: rgb(36, 36, 36); fill-opacity: 1; white-space: pre; opacity: 1;\" transform=\"translate(0,148.0115384615384)\">32</text></g><g class=\"y2tick\"><text text-anchor=\"end\" x=\"54\" y=\"4.199999999999999\" style=\"font-family: 'Open Sans', verdana, arial, sans-serif; font-size: 12px; fill: rgb(36, 36, 36); fill-opacity: 1; white-space: pre; opacity: 1;\" transform=\"translate(0,118.74153846153841)\">34</text></g></g><g class=\"overaxes-above\"/></g><g class=\"subplot xy3\"><g class=\"layer-subplot\"><g class=\"shapelayer\"/><g class=\"imagelayer\"/></g><g class=\"gridlayer\"><g class=\"x\"><path class=\"xgrid crisp\" transform=\"translate(80.21000000000001,0)\" d=\"M0,212.9230769230769v88.61538461538461\" style=\"stroke: rgb(255, 255, 255); stroke-opacity: 1; stroke-width: 1px;\"/><path class=\"xgrid crisp\" transform=\"translate(108.7,0)\" d=\"M0,212.9230769230769v88.61538461538461\" style=\"stroke: rgb(255, 255, 255); stroke-opacity: 1; stroke-width: 1px;\"/><path class=\"xgrid crisp\" transform=\"translate(137.19,0)\" d=\"M0,212.9230769230769v88.61538461538461\" style=\"stroke: rgb(255, 255, 255); stroke-opacity: 1; stroke-width: 1px;\"/></g><g class=\"y3\"><path class=\"y3grid crisp\" transform=\"translate(0,283.39307692307693)\" d=\"M55,0h87.46153846153848\" style=\"stroke: rgb(255, 255, 255); stroke-opacity: 1; stroke-width: 1px;\"/><path class=\"y3grid crisp\" transform=\"translate(0,249.19307692307692)\" d=\"M55,0h87.46153846153848\" style=\"stroke: rgb(255, 255, 255); stroke-opacity: 1; stroke-width: 1px;\"/><path class=\"y3grid crisp\" transform=\"translate(0,214.9930769230769)\" d=\"M55,0h87.46153846153848\" style=\"stroke: rgb(255, 255, 255); stroke-opacity: 1; stroke-width: 1px;\"/></g></g><g class=\"zerolinelayer\"/><path class=\"xlines-below\"/><path class=\"ylines-below\"/><g class=\"overlines-below\"/><g class=\"xaxislayer-below\"/><g class=\"yaxislayer-below\"/><g class=\"overaxes-below\"/><g class=\"plot\" transform=\"translate(55,212.9230769230769)\" clip-path=\"url(#clip0ef840xy3plot)\"/><g class=\"overplot\"/><path class=\"xlines-above crisp\" d=\"M0,0\" style=\"fill: none;\"/><path class=\"ylines-above crisp\" d=\"M0,0\" style=\"fill: none;\"/><g class=\"overlines-above\"/><g class=\"xaxislayer-above\"/><g class=\"yaxislayer-above\"><g class=\"y3tick\"><text text-anchor=\"end\" x=\"54\" y=\"4.199999999999999\" transform=\"translate(0,283.39307692307693)\" style=\"font-family: 'Open Sans', verdana, arial, sans-serif; font-size: 12px; fill: rgb(36, 36, 36); fill-opacity: 1; white-space: pre; opacity: 1;\">22</text></g><g class=\"y3tick\"><text text-anchor=\"end\" x=\"54\" y=\"4.199999999999999\" style=\"font-family: 'Open Sans', verdana, arial, sans-serif; font-size: 12px; fill: rgb(36, 36, 36); fill-opacity: 1; white-space: pre; opacity: 1;\" transform=\"translate(0,249.19307692307692)\">23</text></g><g class=\"y3tick\"><text text-anchor=\"end\" x=\"54\" y=\"4.199999999999999\" style=\"font-family: 'Open Sans', verdana, arial, sans-serif; font-size: 12px; fill: rgb(36, 36, 36); fill-opacity: 1; white-space: pre; opacity: 1;\" transform=\"translate(0,214.9930769230769)\">24</text></g></g><g class=\"overaxes-above\"/></g><g class=\"subplot xy4\"><g class=\"layer-subplot\"><g class=\"shapelayer\"/><g class=\"imagelayer\"/></g><g class=\"gridlayer\"><g class=\"x\"><path class=\"xgrid crisp\" transform=\"translate(80.21000000000001,0)\" d=\"M0,311.38461538461536v88.61538461538463\" style=\"stroke: rgb(255, 255, 255); stroke-opacity: 1; stroke-width: 1px;\"/><path class=\"xgrid crisp\" transform=\"translate(108.7,0)\" d=\"M0,311.38461538461536v88.61538461538463\" style=\"stroke: rgb(255, 255, 255); stroke-opacity: 1; stroke-width: 1px;\"/><path class=\"xgrid crisp\" transform=\"translate(137.19,0)\" d=\"M0,311.38461538461536v88.61538461538463\" style=\"stroke: rgb(255, 255, 255); stroke-opacity: 1; stroke-width: 1px;\"/></g><g class=\"y4\"><path class=\"y4grid crisp\" transform=\"translate(0,380.37461538461537)\" d=\"M55,0h87.46153846153848\" style=\"stroke: rgb(255, 255, 255); stroke-opacity: 1; stroke-width: 1px;\"/><path class=\"y4grid crisp\" transform=\"translate(0,361.38461538461536)\" d=\"M55,0h87.46153846153848\" style=\"stroke: rgb(255, 255, 255); stroke-opacity: 1; stroke-width: 1px;\"/><path class=\"y4grid crisp\" transform=\"translate(0,342.40461538461534)\" d=\"M55,0h87.46153846153848\" style=\"stroke: rgb(255, 255, 255); stroke-opacity: 1; stroke-width: 1px;\"/><path class=\"y4grid crisp\" transform=\"translate(0,323.41461538461533)\" d=\"M55,0h87.46153846153848\" style=\"stroke: rgb(255, 255, 255); stroke-opacity: 1; stroke-width: 1px;\"/></g></g><g class=\"zerolinelayer\"/><path class=\"xlines-below\"/><path class=\"ylines-below\"/><g class=\"overlines-below\"/><g class=\"xaxislayer-below\"/><g class=\"yaxislayer-below\"/><g class=\"overaxes-below\"/><g class=\"plot\" transform=\"translate(55,311.38461538461536)\" clip-path=\"url(#clip0ef840xy4plot)\"/><g class=\"overplot\"/><path class=\"xlines-above crisp\" d=\"M0,0\" style=\"fill: none;\"/><path class=\"ylines-above crisp\" d=\"M0,0\" style=\"fill: none;\"/><g class=\"overlines-above\"/><g class=\"xaxislayer-above\"><g class=\"xtick\"><text text-anchor=\"middle\" x=\"0\" y=\"413\" transform=\"translate(80.21000000000001,0)\" style=\"font-family: 'Open Sans', verdana, arial, sans-serif; font-size: 12px; fill: rgb(36, 36, 36); fill-opacity: 1; white-space: pre; opacity: 1;\">8</text></g><g class=\"xtick\"><text text-anchor=\"middle\" x=\"0\" y=\"413\" style=\"font-family: 'Open Sans', verdana, arial, sans-serif; font-size: 12px; fill: rgb(36, 36, 36); fill-opacity: 1; white-space: pre; opacity: 1;\" transform=\"translate(108.7,0)\">9</text></g><g class=\"xtick\"><text text-anchor=\"middle\" x=\"0\" y=\"413\" style=\"font-family: 'Open Sans', verdana, arial, sans-serif; font-size: 12px; fill: rgb(36, 36, 36); fill-opacity: 1; white-space: pre; opacity: 1;\" transform=\"translate(137.19,0)\">10</text></g></g><g class=\"yaxislayer-above\"><g class=\"y4tick\"><text text-anchor=\"end\" x=\"54\" y=\"4.199999999999999\" transform=\"translate(0,399.3646153846154)\" style=\"font-family: 'Open Sans', verdana, arial, sans-serif; font-size: 12px; fill: rgb(36, 36, 36); fill-opacity: 1; white-space: pre; opacity: 1;\">5</text></g><g class=\"y4tick\"><text text-anchor=\"end\" x=\"54\" y=\"4.199999999999999\" style=\"font-family: 'Open Sans', verdana, arial, sans-serif; font-size: 12px; fill: rgb(36, 36, 36); fill-opacity: 1; white-space: pre; opacity: 1;\" transform=\"translate(0,380.37461538461537)\">5.5</text></g><g class=\"y4tick\"><text text-anchor=\"end\" x=\"54\" y=\"4.199999999999999\" style=\"font-family: 'Open Sans', verdana, arial, sans-serif; font-size: 12px; fill: rgb(36, 36, 36); fill-opacity: 1; white-space: pre; opacity: 1;\" transform=\"translate(0,361.38461538461536)\">6</text></g><g class=\"y4tick\"><text text-anchor=\"end\" x=\"54\" y=\"4.199999999999999\" style=\"font-family: 'Open Sans', verdana, arial, sans-serif; font-size: 12px; fill: rgb(36, 36, 36); fill-opacity: 1; white-space: pre; opacity: 1;\" transform=\"translate(0,342.40461538461534)\">6.5</text></g><g class=\"y4tick\"><text text-anchor=\"end\" x=\"54\" y=\"4.199999999999999\" style=\"font-family: 'Open Sans', verdana, arial, sans-serif; font-size: 12px; fill: rgb(36, 36, 36); fill-opacity: 1; white-space: pre; opacity: 1;\" transform=\"translate(0,323.41461538461533)\">7</text></g></g><g class=\"overaxes-above\"/></g><g class=\"subplot x2y\"><g class=\"layer-subplot\"><g class=\"shapelayer\"/><g class=\"imagelayer\"/></g><g class=\"gridlayer\"><g class=\"x2\"><path class=\"x2grid crisp\" transform=\"translate(177.6394871794872,0)\" d=\"M0,15.999999999999915v88.61538461538464\" style=\"stroke: rgb(255, 255, 255); stroke-opacity: 1; stroke-width: 1px;\"/><path class=\"x2grid crisp\" transform=\"translate(206.52948717948718,0)\" d=\"M0,15.999999999999915v88.61538461538464\" style=\"stroke: rgb(255, 255, 255); stroke-opacity: 1; stroke-width: 1px;\"/><path class=\"x2grid crisp\" transform=\"translate(235.4194871794872,0)\" d=\"M0,15.999999999999915v88.61538461538464\" style=\"stroke: rgb(255, 255, 255); stroke-opacity: 1; stroke-width: 1px;\"/></g><g class=\"y\"><path class=\"ygrid crisp\" transform=\"translate(0,79.06999999999991)\" d=\"M152.17948717948718,0h87.46153846153847\" style=\"stroke: rgb(255, 255, 255); stroke-opacity: 1; stroke-width: 1px;\"/><path class=\"ygrid crisp\" transform=\"translate(0,50.209999999999916)\" d=\"M152.17948717948718,0h87.46153846153847\" style=\"stroke: rgb(255, 255, 255); stroke-opacity: 1; stroke-width: 1px;\"/><path class=\"ygrid crisp\" transform=\"translate(0,21.339999999999915)\" d=\"M152.17948717948718,0h87.46153846153847\" style=\"stroke: rgb(255, 255, 255); stroke-opacity: 1; stroke-width: 1px;\"/></g></g><g class=\"zerolinelayer\"/><path class=\"xlines-below\"/><path class=\"ylines-below\"/><g class=\"overlines-below\"/><g class=\"xaxislayer-below\"/><g class=\"yaxislayer-below\"/><g class=\"overaxes-below\"/><g class=\"plot\" transform=\"translate(152.17948717948718,15.999999999999915)\" clip-path=\"url(#clip0ef840x2yplot)\"/><g class=\"overplot\"/><path class=\"xlines-above crisp\" d=\"M0,0\" style=\"fill: none;\"/><path class=\"ylines-above crisp\" d=\"M0,0\" style=\"fill: none;\"/><g class=\"overlines-above\"/><g class=\"xaxislayer-above\"/><g class=\"yaxislayer-above\"/><g class=\"overaxes-above\"/></g><g class=\"subplot x2y2\"><g class=\"layer-subplot\"><g class=\"shapelayer\"/><g class=\"imagelayer\"/></g><g class=\"gridlayer\"><g class=\"x2\"><path class=\"x2grid crisp\" transform=\"translate(177.6394871794872,0)\" d=\"M0,114.46153846153841v88.61538461538464\" style=\"stroke: rgb(255, 255, 255); stroke-opacity: 1; stroke-width: 1px;\"/><path class=\"x2grid crisp\" transform=\"translate(206.52948717948718,0)\" d=\"M0,114.46153846153841v88.61538461538464\" style=\"stroke: rgb(255, 255, 255); stroke-opacity: 1; stroke-width: 1px;\"/><path class=\"x2grid crisp\" transform=\"translate(235.4194871794872,0)\" d=\"M0,114.46153846153841v88.61538461538464\" style=\"stroke: rgb(255, 255, 255); stroke-opacity: 1; stroke-width: 1px;\"/></g><g class=\"y2\"><path class=\"y2grid crisp\" transform=\"translate(0,177.28153846153842)\" d=\"M152.17948717948718,0h87.46153846153847\" style=\"stroke: rgb(255, 255, 255); stroke-opacity: 1; stroke-width: 1px;\"/><path class=\"y2grid crisp\" transform=\"translate(0,148.0115384615384)\" d=\"M152.17948717948718,0h87.46153846153847\" style=\"stroke: rgb(255, 255, 255); stroke-opacity: 1; stroke-width: 1px;\"/><path class=\"y2grid crisp\" transform=\"translate(0,118.74153846153841)\" d=\"M152.17948717948718,0h87.46153846153847\" style=\"stroke: rgb(255, 255, 255); stroke-opacity: 1; stroke-width: 1px;\"/></g></g><g class=\"zerolinelayer\"/><path class=\"xlines-below\"/><path class=\"ylines-below\"/><g class=\"overlines-below\"/><g class=\"xaxislayer-below\"/><g class=\"yaxislayer-below\"/><g class=\"overaxes-below\"/><g class=\"plot\" transform=\"translate(152.17948717948718,114.46153846153841)\" clip-path=\"url(#clip0ef840x2y2plot)\"/><g class=\"overplot\"/><path class=\"xlines-above crisp\" d=\"M0,0\" style=\"fill: none;\"/><path class=\"ylines-above crisp\" d=\"M0,0\" style=\"fill: none;\"/><g class=\"overlines-above\"/><g class=\"xaxislayer-above\"/><g class=\"yaxislayer-above\"/><g class=\"overaxes-above\"/></g><g class=\"subplot x2y3\"><g class=\"layer-subplot\"><g class=\"shapelayer\"/><g class=\"imagelayer\"/></g><g class=\"gridlayer\"><g class=\"x2\"><path class=\"x2grid crisp\" transform=\"translate(177.6394871794872,0)\" d=\"M0,212.9230769230769v88.61538461538461\" style=\"stroke: rgb(255, 255, 255); stroke-opacity: 1; stroke-width: 1px;\"/><path class=\"x2grid crisp\" transform=\"translate(206.52948717948718,0)\" d=\"M0,212.9230769230769v88.61538461538461\" style=\"stroke: rgb(255, 255, 255); stroke-opacity: 1; stroke-width: 1px;\"/><path class=\"x2grid crisp\" transform=\"translate(235.4194871794872,0)\" d=\"M0,212.9230769230769v88.61538461538461\" style=\"stroke: rgb(255, 255, 255); stroke-opacity: 1; stroke-width: 1px;\"/></g><g class=\"y3\"><path class=\"y3grid crisp\" transform=\"translate(0,283.39307692307693)\" d=\"M152.17948717948718,0h87.46153846153847\" style=\"stroke: rgb(255, 255, 255); stroke-opacity: 1; stroke-width: 1px;\"/><path class=\"y3grid crisp\" transform=\"translate(0,249.19307692307692)\" d=\"M152.17948717948718,0h87.46153846153847\" style=\"stroke: rgb(255, 255, 255); stroke-opacity: 1; stroke-width: 1px;\"/><path class=\"y3grid crisp\" transform=\"translate(0,214.9930769230769)\" d=\"M152.17948717948718,0h87.46153846153847\" style=\"stroke: rgb(255, 255, 255); stroke-opacity: 1; stroke-width: 1px;\"/></g></g><g class=\"zerolinelayer\"/><path class=\"xlines-below\"/><path class=\"ylines-below\"/><g class=\"overlines-below\"/><g class=\"xaxislayer-below\"/><g class=\"yaxislayer-below\"/><g class=\"overaxes-below\"/><g class=\"plot\" transform=\"translate(152.17948717948718,212.9230769230769)\" clip-path=\"url(#clip0ef840x2y3plot)\"/><g class=\"overplot\"/><path class=\"xlines-above crisp\" d=\"M0,0\" style=\"fill: none;\"/><path class=\"ylines-above crisp\" d=\"M0,0\" style=\"fill: none;\"/><g class=\"overlines-above\"/><g class=\"xaxislayer-above\"/><g class=\"yaxislayer-above\"/><g class=\"overaxes-above\"/></g><g class=\"subplot x2y4\"><g class=\"layer-subplot\"><g class=\"shapelayer\"/><g class=\"imagelayer\"/></g><g class=\"gridlayer\"><g class=\"x2\"><path class=\"x2grid crisp\" transform=\"translate(177.6394871794872,0)\" d=\"M0,311.38461538461536v88.61538461538463\" style=\"stroke: rgb(255, 255, 255); stroke-opacity: 1; stroke-width: 1px;\"/><path class=\"x2grid crisp\" transform=\"translate(206.52948717948718,0)\" d=\"M0,311.38461538461536v88.61538461538463\" style=\"stroke: rgb(255, 255, 255); stroke-opacity: 1; stroke-width: 1px;\"/><path class=\"x2grid crisp\" transform=\"translate(235.4194871794872,0)\" d=\"M0,311.38461538461536v88.61538461538463\" style=\"stroke: rgb(255, 255, 255); stroke-opacity: 1; stroke-width: 1px;\"/></g><g class=\"y4\"><path class=\"y4grid crisp\" transform=\"translate(0,380.37461538461537)\" d=\"M152.17948717948718,0h87.46153846153847\" style=\"stroke: rgb(255, 255, 255); stroke-opacity: 1; stroke-width: 1px;\"/><path class=\"y4grid crisp\" transform=\"translate(0,361.38461538461536)\" d=\"M152.17948717948718,0h87.46153846153847\" style=\"stroke: rgb(255, 255, 255); stroke-opacity: 1; stroke-width: 1px;\"/><path class=\"y4grid crisp\" transform=\"translate(0,342.40461538461534)\" d=\"M152.17948717948718,0h87.46153846153847\" style=\"stroke: rgb(255, 255, 255); stroke-opacity: 1; stroke-width: 1px;\"/><path class=\"y4grid crisp\" transform=\"translate(0,323.41461538461533)\" d=\"M152.17948717948718,0h87.46153846153847\" style=\"stroke: rgb(255, 255, 255); stroke-opacity: 1; stroke-width: 1px;\"/></g></g><g class=\"zerolinelayer\"/><path class=\"xlines-below\"/><path class=\"ylines-below\"/><g class=\"overlines-below\"/><g class=\"xaxislayer-below\"/><g class=\"yaxislayer-below\"/><g class=\"overaxes-below\"/><g class=\"plot\" transform=\"translate(152.17948717948718,311.38461538461536)\" clip-path=\"url(#clip0ef840x2y4plot)\"/><g class=\"overplot\"/><path class=\"xlines-above crisp\" d=\"M0,0\" style=\"fill: none;\"/><path class=\"ylines-above crisp\" d=\"M0,0\" style=\"fill: none;\"/><g class=\"overlines-above\"/><g class=\"xaxislayer-above\"><g class=\"x2tick\"><text text-anchor=\"middle\" x=\"0\" y=\"413\" transform=\"translate(177.6394871794872,0)\" style=\"font-family: 'Open Sans', verdana, arial, sans-serif; font-size: 12px; fill: rgb(36, 36, 36); fill-opacity: 1; white-space: pre; opacity: 1;\">30</text></g><g class=\"x2tick\"><text text-anchor=\"middle\" x=\"0\" y=\"413\" style=\"font-family: 'Open Sans', verdana, arial, sans-serif; font-size: 12px; fill: rgb(36, 36, 36); fill-opacity: 1; white-space: pre; opacity: 1;\" transform=\"translate(206.52948717948718,0)\">32</text></g><g class=\"x2tick\"><text text-anchor=\"middle\" x=\"0\" y=\"413\" style=\"font-family: 'Open Sans', verdana, arial, sans-serif; font-size: 12px; fill: rgb(36, 36, 36); fill-opacity: 1; white-space: pre; opacity: 1;\" transform=\"translate(235.4194871794872,0)\">34</text></g></g><g class=\"yaxislayer-above\"/><g class=\"overaxes-above\"/></g><g class=\"subplot x3y\"><g class=\"layer-subplot\"><g class=\"shapelayer\"/><g class=\"imagelayer\"/></g><g class=\"gridlayer\"><g class=\"x3\"><path class=\"x3grid crisp\" transform=\"translate(267.2689743589744,0)\" d=\"M0,15.999999999999915v88.61538461538464\" style=\"stroke: rgb(255, 255, 255); stroke-opacity: 1; stroke-width: 1px;\"/><path class=\"x3grid crisp\" transform=\"translate(301.0189743589744,0)\" d=\"M0,15.999999999999915v88.61538461538464\" style=\"stroke: rgb(255, 255, 255); stroke-opacity: 1; stroke-width: 1px;\"/><path class=\"x3grid crisp\" transform=\"translate(334.7689743589744,0)\" d=\"M0,15.999999999999915v88.61538461538464\" style=\"stroke: rgb(255, 255, 255); stroke-opacity: 1; stroke-width: 1px;\"/></g><g class=\"y\"><path class=\"ygrid crisp\" transform=\"translate(0,79.06999999999991)\" d=\"M249.3589743589744,0h87.46153846153848\" style=\"stroke: rgb(255, 255, 255); stroke-opacity: 1; stroke-width: 1px;\"/><path class=\"ygrid crisp\" transform=\"translate(0,50.209999999999916)\" d=\"M249.3589743589744,0h87.46153846153848\" style=\"stroke: rgb(255, 255, 255); stroke-opacity: 1; stroke-width: 1px;\"/><path class=\"ygrid crisp\" transform=\"translate(0,21.339999999999915)\" d=\"M249.3589743589744,0h87.46153846153848\" style=\"stroke: rgb(255, 255, 255); stroke-opacity: 1; stroke-width: 1px;\"/></g></g><g class=\"zerolinelayer\"/><path class=\"xlines-below\"/><path class=\"ylines-below\"/><g class=\"overlines-below\"/><g class=\"xaxislayer-below\"/><g class=\"yaxislayer-below\"/><g class=\"overaxes-below\"/><g class=\"plot\" transform=\"translate(249.3589743589744,15.999999999999915)\" clip-path=\"url(#clip0ef840x3yplot)\"/><g class=\"overplot\"/><path class=\"xlines-above crisp\" d=\"M0,0\" style=\"fill: none;\"/><path class=\"ylines-above crisp\" d=\"M0,0\" style=\"fill: none;\"/><g class=\"overlines-above\"/><g class=\"xaxislayer-above\"/><g class=\"yaxislayer-above\"/><g class=\"overaxes-above\"/></g><g class=\"subplot x3y2\"><g class=\"layer-subplot\"><g class=\"shapelayer\"/><g class=\"imagelayer\"/></g><g class=\"gridlayer\"><g class=\"x3\"><path class=\"x3grid crisp\" transform=\"translate(267.2689743589744,0)\" d=\"M0,114.46153846153841v88.61538461538464\" style=\"stroke: rgb(255, 255, 255); stroke-opacity: 1; stroke-width: 1px;\"/><path class=\"x3grid crisp\" transform=\"translate(301.0189743589744,0)\" d=\"M0,114.46153846153841v88.61538461538464\" style=\"stroke: rgb(255, 255, 255); stroke-opacity: 1; stroke-width: 1px;\"/><path class=\"x3grid crisp\" transform=\"translate(334.7689743589744,0)\" d=\"M0,114.46153846153841v88.61538461538464\" style=\"stroke: rgb(255, 255, 255); stroke-opacity: 1; stroke-width: 1px;\"/></g><g class=\"y2\"><path class=\"y2grid crisp\" transform=\"translate(0,177.28153846153842)\" d=\"M249.3589743589744,0h87.46153846153848\" style=\"stroke: rgb(255, 255, 255); stroke-opacity: 1; stroke-width: 1px;\"/><path class=\"y2grid crisp\" transform=\"translate(0,148.0115384615384)\" d=\"M249.3589743589744,0h87.46153846153848\" style=\"stroke: rgb(255, 255, 255); stroke-opacity: 1; stroke-width: 1px;\"/><path class=\"y2grid crisp\" transform=\"translate(0,118.74153846153841)\" d=\"M249.3589743589744,0h87.46153846153848\" style=\"stroke: rgb(255, 255, 255); stroke-opacity: 1; stroke-width: 1px;\"/></g></g><g class=\"zerolinelayer\"/><path class=\"xlines-below\"/><path class=\"ylines-below\"/><g class=\"overlines-below\"/><g class=\"xaxislayer-below\"/><g class=\"yaxislayer-below\"/><g class=\"overaxes-below\"/><g class=\"plot\" transform=\"translate(249.3589743589744,114.46153846153841)\" clip-path=\"url(#clip0ef840x3y2plot)\"/><g class=\"overplot\"/><path class=\"xlines-above crisp\" d=\"M0,0\" style=\"fill: none;\"/><path class=\"ylines-above crisp\" d=\"M0,0\" style=\"fill: none;\"/><g class=\"overlines-above\"/><g class=\"xaxislayer-above\"/><g class=\"yaxislayer-above\"/><g class=\"overaxes-above\"/></g><g class=\"subplot x3y3\"><g class=\"layer-subplot\"><g class=\"shapelayer\"/><g class=\"imagelayer\"/></g><g class=\"gridlayer\"><g class=\"x3\"><path class=\"x3grid crisp\" transform=\"translate(267.2689743589744,0)\" d=\"M0,212.9230769230769v88.61538461538461\" style=\"stroke: rgb(255, 255, 255); stroke-opacity: 1; stroke-width: 1px;\"/><path class=\"x3grid crisp\" transform=\"translate(301.0189743589744,0)\" d=\"M0,212.9230769230769v88.61538461538461\" style=\"stroke: rgb(255, 255, 255); stroke-opacity: 1; stroke-width: 1px;\"/><path class=\"x3grid crisp\" transform=\"translate(334.7689743589744,0)\" d=\"M0,212.9230769230769v88.61538461538461\" style=\"stroke: rgb(255, 255, 255); stroke-opacity: 1; stroke-width: 1px;\"/></g><g class=\"y3\"><path class=\"y3grid crisp\" transform=\"translate(0,283.39307692307693)\" d=\"M249.3589743589744,0h87.46153846153848\" style=\"stroke: rgb(255, 255, 255); stroke-opacity: 1; stroke-width: 1px;\"/><path class=\"y3grid crisp\" transform=\"translate(0,249.19307692307692)\" d=\"M249.3589743589744,0h87.46153846153848\" style=\"stroke: rgb(255, 255, 255); stroke-opacity: 1; stroke-width: 1px;\"/><path class=\"y3grid crisp\" transform=\"translate(0,214.9930769230769)\" d=\"M249.3589743589744,0h87.46153846153848\" style=\"stroke: rgb(255, 255, 255); stroke-opacity: 1; stroke-width: 1px;\"/></g></g><g class=\"zerolinelayer\"/><path class=\"xlines-below\"/><path class=\"ylines-below\"/><g class=\"overlines-below\"/><g class=\"xaxislayer-below\"/><g class=\"yaxislayer-below\"/><g class=\"overaxes-below\"/><g class=\"plot\" transform=\"translate(249.3589743589744,212.9230769230769)\" clip-path=\"url(#clip0ef840x3y3plot)\"/><g class=\"overplot\"/><path class=\"xlines-above crisp\" d=\"M0,0\" style=\"fill: none;\"/><path class=\"ylines-above crisp\" d=\"M0,0\" style=\"fill: none;\"/><g class=\"overlines-above\"/><g class=\"xaxislayer-above\"/><g class=\"yaxislayer-above\"/><g class=\"overaxes-above\"/></g><g class=\"subplot x3y4\"><g class=\"layer-subplot\"><g class=\"shapelayer\"/><g class=\"imagelayer\"/></g><g class=\"gridlayer\"><g class=\"x3\"><path class=\"x3grid crisp\" transform=\"translate(267.2689743589744,0)\" d=\"M0,311.38461538461536v88.61538461538463\" style=\"stroke: rgb(255, 255, 255); stroke-opacity: 1; stroke-width: 1px;\"/><path class=\"x3grid crisp\" transform=\"translate(301.0189743589744,0)\" d=\"M0,311.38461538461536v88.61538461538463\" style=\"stroke: rgb(255, 255, 255); stroke-opacity: 1; stroke-width: 1px;\"/><path class=\"x3grid crisp\" transform=\"translate(334.7689743589744,0)\" d=\"M0,311.38461538461536v88.61538461538463\" style=\"stroke: rgb(255, 255, 255); stroke-opacity: 1; stroke-width: 1px;\"/></g><g class=\"y4\"><path class=\"y4grid crisp\" transform=\"translate(0,380.37461538461537)\" d=\"M249.3589743589744,0h87.46153846153848\" style=\"stroke: rgb(255, 255, 255); stroke-opacity: 1; stroke-width: 1px;\"/><path class=\"y4grid crisp\" transform=\"translate(0,361.38461538461536)\" d=\"M249.3589743589744,0h87.46153846153848\" style=\"stroke: rgb(255, 255, 255); stroke-opacity: 1; stroke-width: 1px;\"/><path class=\"y4grid crisp\" transform=\"translate(0,342.40461538461534)\" d=\"M249.3589743589744,0h87.46153846153848\" style=\"stroke: rgb(255, 255, 255); stroke-opacity: 1; stroke-width: 1px;\"/><path class=\"y4grid crisp\" transform=\"translate(0,323.41461538461533)\" d=\"M249.3589743589744,0h87.46153846153848\" style=\"stroke: rgb(255, 255, 255); stroke-opacity: 1; stroke-width: 1px;\"/></g></g><g class=\"zerolinelayer\"/><path class=\"xlines-below\"/><path class=\"ylines-below\"/><g class=\"overlines-below\"/><g class=\"xaxislayer-below\"/><g class=\"yaxislayer-below\"/><g class=\"overaxes-below\"/><g class=\"plot\" transform=\"translate(249.3589743589744,311.38461538461536)\" clip-path=\"url(#clip0ef840x3y4plot)\"/><g class=\"overplot\"/><path class=\"xlines-above crisp\" d=\"M0,0\" style=\"fill: none;\"/><path class=\"ylines-above crisp\" d=\"M0,0\" style=\"fill: none;\"/><g class=\"overlines-above\"/><g class=\"xaxislayer-above\"><g class=\"x3tick\"><text text-anchor=\"middle\" x=\"0\" y=\"413\" transform=\"translate(267.2689743589744,0)\" style=\"font-family: 'Open Sans', verdana, arial, sans-serif; font-size: 12px; fill: rgb(36, 36, 36); fill-opacity: 1; white-space: pre; opacity: 1;\">22</text></g><g class=\"x3tick\"><text text-anchor=\"middle\" x=\"0\" y=\"413\" style=\"font-family: 'Open Sans', verdana, arial, sans-serif; font-size: 12px; fill: rgb(36, 36, 36); fill-opacity: 1; white-space: pre; opacity: 1;\" transform=\"translate(301.0189743589744,0)\">23</text></g><g class=\"x3tick\"><text text-anchor=\"middle\" x=\"0\" y=\"413\" style=\"font-family: 'Open Sans', verdana, arial, sans-serif; font-size: 12px; fill: rgb(36, 36, 36); fill-opacity: 1; white-space: pre; opacity: 1;\" transform=\"translate(334.7689743589744,0)\">24</text></g></g><g class=\"yaxislayer-above\"/><g class=\"overaxes-above\"/></g><g class=\"subplot x4y\"><g class=\"layer-subplot\"><g class=\"shapelayer\"/><g class=\"imagelayer\"/></g><g class=\"gridlayer\"><g class=\"x4\"><path class=\"x4grid crisp\" transform=\"translate(365.9084615384616,0)\" d=\"M0,15.999999999999915v88.61538461538464\" style=\"stroke: rgb(255, 255, 255); stroke-opacity: 1; stroke-width: 1px;\"/><path class=\"x4grid crisp\" transform=\"translate(384.6484615384616,0)\" d=\"M0,15.999999999999915v88.61538461538464\" style=\"stroke: rgb(255, 255, 255); stroke-opacity: 1; stroke-width: 1px;\"/><path class=\"x4grid crisp\" transform=\"translate(403.3884615384616,0)\" d=\"M0,15.999999999999915v88.61538461538464\" style=\"stroke: rgb(255, 255, 255); stroke-opacity: 1; stroke-width: 1px;\"/><path class=\"x4grid crisp\" transform=\"translate(422.1284615384616,0)\" d=\"M0,15.999999999999915v88.61538461538464\" style=\"stroke: rgb(255, 255, 255); stroke-opacity: 1; stroke-width: 1px;\"/></g><g class=\"y\"><path class=\"ygrid crisp\" transform=\"translate(0,79.06999999999991)\" d=\"M346.5384615384616,0h87.46153846153848\" style=\"stroke: rgb(255, 255, 255); stroke-opacity: 1; stroke-width: 1px;\"/><path class=\"ygrid crisp\" transform=\"translate(0,50.209999999999916)\" d=\"M346.5384615384616,0h87.46153846153848\" style=\"stroke: rgb(255, 255, 255); stroke-opacity: 1; stroke-width: 1px;\"/><path class=\"ygrid crisp\" transform=\"translate(0,21.339999999999915)\" d=\"M346.5384615384616,0h87.46153846153848\" style=\"stroke: rgb(255, 255, 255); stroke-opacity: 1; stroke-width: 1px;\"/></g></g><g class=\"zerolinelayer\"/><path class=\"xlines-below\"/><path class=\"ylines-below\"/><g class=\"overlines-below\"/><g class=\"xaxislayer-below\"/><g class=\"yaxislayer-below\"/><g class=\"overaxes-below\"/><g class=\"plot\" transform=\"translate(346.5384615384616,15.999999999999915)\" clip-path=\"url(#clip0ef840x4yplot)\"/><g class=\"overplot\"/><path class=\"xlines-above crisp\" d=\"M0,0\" style=\"fill: none;\"/><path class=\"ylines-above crisp\" d=\"M0,0\" style=\"fill: none;\"/><g class=\"overlines-above\"/><g class=\"xaxislayer-above\"/><g class=\"yaxislayer-above\"/><g class=\"overaxes-above\"/></g><g class=\"subplot x4y2\"><g class=\"layer-subplot\"><g class=\"shapelayer\"/><g class=\"imagelayer\"/></g><g class=\"gridlayer\"><g class=\"x4\"><path class=\"x4grid crisp\" transform=\"translate(365.9084615384616,0)\" d=\"M0,114.46153846153841v88.61538461538464\" style=\"stroke: rgb(255, 255, 255); stroke-opacity: 1; stroke-width: 1px;\"/><path class=\"x4grid crisp\" transform=\"translate(384.6484615384616,0)\" d=\"M0,114.46153846153841v88.61538461538464\" style=\"stroke: rgb(255, 255, 255); stroke-opacity: 1; stroke-width: 1px;\"/><path class=\"x4grid crisp\" transform=\"translate(403.3884615384616,0)\" d=\"M0,114.46153846153841v88.61538461538464\" style=\"stroke: rgb(255, 255, 255); stroke-opacity: 1; stroke-width: 1px;\"/><path class=\"x4grid crisp\" transform=\"translate(422.1284615384616,0)\" d=\"M0,114.46153846153841v88.61538461538464\" style=\"stroke: rgb(255, 255, 255); stroke-opacity: 1; stroke-width: 1px;\"/></g><g class=\"y2\"><path class=\"y2grid crisp\" transform=\"translate(0,177.28153846153842)\" d=\"M346.5384615384616,0h87.46153846153848\" style=\"stroke: rgb(255, 255, 255); stroke-opacity: 1; stroke-width: 1px;\"/><path class=\"y2grid crisp\" transform=\"translate(0,148.0115384615384)\" d=\"M346.5384615384616,0h87.46153846153848\" style=\"stroke: rgb(255, 255, 255); stroke-opacity: 1; stroke-width: 1px;\"/><path class=\"y2grid crisp\" transform=\"translate(0,118.74153846153841)\" d=\"M346.5384615384616,0h87.46153846153848\" style=\"stroke: rgb(255, 255, 255); stroke-opacity: 1; stroke-width: 1px;\"/></g></g><g class=\"zerolinelayer\"/><path class=\"xlines-below\"/><path class=\"ylines-below\"/><g class=\"overlines-below\"/><g class=\"xaxislayer-below\"/><g class=\"yaxislayer-below\"/><g class=\"overaxes-below\"/><g class=\"plot\" transform=\"translate(346.5384615384616,114.46153846153841)\" clip-path=\"url(#clip0ef840x4y2plot)\"/><g class=\"overplot\"/><path class=\"xlines-above crisp\" d=\"M0,0\" style=\"fill: none;\"/><path class=\"ylines-above crisp\" d=\"M0,0\" style=\"fill: none;\"/><g class=\"overlines-above\"/><g class=\"xaxislayer-above\"/><g class=\"yaxislayer-above\"/><g class=\"overaxes-above\"/></g><g class=\"subplot x4y3\"><g class=\"layer-subplot\"><g class=\"shapelayer\"/><g class=\"imagelayer\"/></g><g class=\"gridlayer\"><g class=\"x4\"><path class=\"x4grid crisp\" transform=\"translate(365.9084615384616,0)\" d=\"M0,212.9230769230769v88.61538461538461\" style=\"stroke: rgb(255, 255, 255); stroke-opacity: 1; stroke-width: 1px;\"/><path class=\"x4grid crisp\" transform=\"translate(384.6484615384616,0)\" d=\"M0,212.9230769230769v88.61538461538461\" style=\"stroke: rgb(255, 255, 255); stroke-opacity: 1; stroke-width: 1px;\"/><path class=\"x4grid crisp\" transform=\"translate(403.3884615384616,0)\" d=\"M0,212.9230769230769v88.61538461538461\" style=\"stroke: rgb(255, 255, 255); stroke-opacity: 1; stroke-width: 1px;\"/><path class=\"x4grid crisp\" transform=\"translate(422.1284615384616,0)\" d=\"M0,212.9230769230769v88.61538461538461\" style=\"stroke: rgb(255, 255, 255); stroke-opacity: 1; stroke-width: 1px;\"/></g><g class=\"y3\"><path class=\"y3grid crisp\" transform=\"translate(0,283.39307692307693)\" d=\"M346.5384615384616,0h87.46153846153848\" style=\"stroke: rgb(255, 255, 255); stroke-opacity: 1; stroke-width: 1px;\"/><path class=\"y3grid crisp\" transform=\"translate(0,249.19307692307692)\" d=\"M346.5384615384616,0h87.46153846153848\" style=\"stroke: rgb(255, 255, 255); stroke-opacity: 1; stroke-width: 1px;\"/><path class=\"y3grid crisp\" transform=\"translate(0,214.9930769230769)\" d=\"M346.5384615384616,0h87.46153846153848\" style=\"stroke: rgb(255, 255, 255); stroke-opacity: 1; stroke-width: 1px;\"/></g></g><g class=\"zerolinelayer\"/><path class=\"xlines-below\"/><path class=\"ylines-below\"/><g class=\"overlines-below\"/><g class=\"xaxislayer-below\"/><g class=\"yaxislayer-below\"/><g class=\"overaxes-below\"/><g class=\"plot\" transform=\"translate(346.5384615384616,212.9230769230769)\" clip-path=\"url(#clip0ef840x4y3plot)\"/><g class=\"overplot\"/><path class=\"xlines-above crisp\" d=\"M0,0\" style=\"fill: none;\"/><path class=\"ylines-above crisp\" d=\"M0,0\" style=\"fill: none;\"/><g class=\"overlines-above\"/><g class=\"xaxislayer-above\"/><g class=\"yaxislayer-above\"/><g class=\"overaxes-above\"/></g><g class=\"subplot x4y4\"><g class=\"layer-subplot\"><g class=\"shapelayer\"/><g class=\"imagelayer\"/></g><g class=\"gridlayer\"><g class=\"x4\"><path class=\"x4grid crisp\" transform=\"translate(365.9084615384616,0)\" d=\"M0,311.38461538461536v88.61538461538463\" style=\"stroke: rgb(255, 255, 255); stroke-opacity: 1; stroke-width: 1px;\"/><path class=\"x4grid crisp\" transform=\"translate(384.6484615384616,0)\" d=\"M0,311.38461538461536v88.61538461538463\" style=\"stroke: rgb(255, 255, 255); stroke-opacity: 1; stroke-width: 1px;\"/><path class=\"x4grid crisp\" transform=\"translate(403.3884615384616,0)\" d=\"M0,311.38461538461536v88.61538461538463\" style=\"stroke: rgb(255, 255, 255); stroke-opacity: 1; stroke-width: 1px;\"/><path class=\"x4grid crisp\" transform=\"translate(422.1284615384616,0)\" d=\"M0,311.38461538461536v88.61538461538463\" style=\"stroke: rgb(255, 255, 255); stroke-opacity: 1; stroke-width: 1px;\"/></g><g class=\"y4\"><path class=\"y4grid crisp\" transform=\"translate(0,380.37461538461537)\" d=\"M346.5384615384616,0h87.46153846153848\" style=\"stroke: rgb(255, 255, 255); stroke-opacity: 1; stroke-width: 1px;\"/><path class=\"y4grid crisp\" transform=\"translate(0,361.38461538461536)\" d=\"M346.5384615384616,0h87.46153846153848\" style=\"stroke: rgb(255, 255, 255); stroke-opacity: 1; stroke-width: 1px;\"/><path class=\"y4grid crisp\" transform=\"translate(0,342.40461538461534)\" d=\"M346.5384615384616,0h87.46153846153848\" style=\"stroke: rgb(255, 255, 255); stroke-opacity: 1; stroke-width: 1px;\"/><path class=\"y4grid crisp\" transform=\"translate(0,323.41461538461533)\" d=\"M346.5384615384616,0h87.46153846153848\" style=\"stroke: rgb(255, 255, 255); stroke-opacity: 1; stroke-width: 1px;\"/></g></g><g class=\"zerolinelayer\"/><path class=\"xlines-below\"/><path class=\"ylines-below\"/><g class=\"overlines-below\"/><g class=\"xaxislayer-below\"/><g class=\"yaxislayer-below\"/><g class=\"overaxes-below\"/><g class=\"plot\" transform=\"translate(346.5384615384616,311.38461538461536)\" clip-path=\"url(#clip0ef840x4y4plot)\"/><g class=\"overplot\"/><path class=\"xlines-above crisp\" d=\"M0,0\" style=\"fill: none;\"/><path class=\"ylines-above crisp\" d=\"M0,0\" style=\"fill: none;\"/><g class=\"overlines-above\"/><g class=\"xaxislayer-above\"><g class=\"x4tick\"><text text-anchor=\"middle\" x=\"0\" y=\"413\" transform=\"translate(347.1684615384616,0)\" style=\"font-family: 'Open Sans', verdana, arial, sans-serif; font-size: 12px; fill: rgb(36, 36, 36); fill-opacity: 1; white-space: pre; opacity: 1;\">5</text></g><g class=\"x4tick\"><text text-anchor=\"middle\" x=\"0\" y=\"413\" style=\"font-family: 'Open Sans', verdana, arial, sans-serif; font-size: 12px; fill: rgb(36, 36, 36); fill-opacity: 1; white-space: pre; opacity: 1;\" transform=\"translate(365.9084615384616,0)\">5.5</text></g><g class=\"x4tick\"><text text-anchor=\"middle\" x=\"0\" y=\"413\" style=\"font-family: 'Open Sans', verdana, arial, sans-serif; font-size: 12px; fill: rgb(36, 36, 36); fill-opacity: 1; white-space: pre; opacity: 1;\" transform=\"translate(384.6484615384616,0)\">6</text></g><g class=\"x4tick\"><text text-anchor=\"middle\" x=\"0\" y=\"413\" style=\"font-family: 'Open Sans', verdana, arial, sans-serif; font-size: 12px; fill: rgb(36, 36, 36); fill-opacity: 1; white-space: pre; opacity: 1;\" transform=\"translate(403.3884615384616,0)\">6.5</text></g><g class=\"x4tick\"><text text-anchor=\"middle\" x=\"0\" y=\"413\" style=\"font-family: 'Open Sans', verdana, arial, sans-serif; font-size: 12px; fill: rgb(36, 36, 36); fill-opacity: 1; white-space: pre; opacity: 1;\" transform=\"translate(422.1284615384616,0)\">7</text></g></g><g class=\"yaxislayer-above\"/><g class=\"overaxes-above\"/></g></g><g class=\"polarlayer\"/><g class=\"smithlayer\"/><g class=\"ternarylayer\"/><g class=\"geolayer\"/><g class=\"funnelarealayer\"/><g class=\"pielayer\"/><g class=\"iciclelayer\"/><g class=\"treemaplayer\"/><g class=\"sunburstlayer\"/><g class=\"glimages\"><image xmlns=\"http://www.w3.org/2000/svg\" xlink:href=\"data:image/png;base64,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\" preserveAspectRatio=\"none\" x=\"0\" y=\"0\" width=\"450px\" height=\"450px\"/><image xmlns=\"http://www.w3.org/2000/svg\" xlink:href=\"data:image/png;base64,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\" preserveAspectRatio=\"none\" x=\"0\" y=\"0\" width=\"450px\" height=\"450px\"/></g><defs id=\"topdefs-0ef840\"><g class=\"clips\"/></defs><g class=\"layer-above\"><g class=\"imagelayer\"/><g class=\"shapelayer\"/></g><g class=\"infolayer\"><g class=\"g-gtitle\"/><g class=\"g-xtitle\"><text class=\"xtitle\" x=\"98.73076923076924\" y=\"440.3\" text-anchor=\"middle\" style=\"font-family: 'Open Sans', verdana, arial, sans-serif; font-size: 14px; fill: rgb(36, 36, 36); opacity: 1; font-weight: normal; white-space: pre;\">egg_weight</text></g><g class=\"g-x2title\"><text class=\"x2title\" x=\"195.9102564102564\" y=\"440.3\" text-anchor=\"middle\" style=\"font-family: 'Open Sans', verdana, arial, sans-serif; font-size: 14px; fill: rgb(36, 36, 36); opacity: 1; font-weight: normal; white-space: pre;\">egg_length</text></g><g class=\"g-x3title\"><text class=\"x3title\" x=\"293.08974358974365\" y=\"440.3\" text-anchor=\"middle\" style=\"font-family: 'Open Sans', verdana, arial, sans-serif; font-size: 14px; fill: rgb(36, 36, 36); opacity: 1; font-weight: normal; white-space: pre;\">egg_breadth</text></g><g class=\"g-x4title\"><text class=\"x4title\" x=\"390.26923076923083\" y=\"440.3\" text-anchor=\"middle\" style=\"font-family: 'Open Sans', verdana, arial, sans-serif; font-size: 14px; fill: rgb(36, 36, 36); opacity: 1; font-weight: normal; white-space: pre;\">bird_weight</text></g><g class=\"g-ytitle\" transform=\"translate(0.076171875,0)\"><text class=\"ytitle\" transform=\"rotate(-90,13.934375000000003,60.307692307692236)\" x=\"13.934375000000003\" y=\"60.307692307692236\" text-anchor=\"middle\" style=\"font-family: 'Open Sans', verdana, arial, sans-serif; font-size: 14px; fill: rgb(36, 36, 36); opacity: 1; font-weight: normal; white-space: pre;\">egg_weight</text></g><g class=\"g-y2title\" transform=\"translate(0.0693359375,0)\"><text class=\"y2title\" transform=\"rotate(-90,13.934375000000003,158.76923076923072)\" x=\"13.934375000000003\" y=\"158.76923076923072\" text-anchor=\"middle\" style=\"font-family: 'Open Sans', verdana, arial, sans-serif; font-size: 14px; fill: rgb(36, 36, 36); opacity: 1; font-weight: normal; white-space: pre;\">egg_length</text></g><g class=\"g-y3title\" transform=\"translate(0.078125,0)\"><text class=\"y3title\" transform=\"rotate(-90,13.934375000000003,257.2307692307692)\" x=\"13.934375000000003\" y=\"257.2307692307692\" text-anchor=\"middle\" style=\"font-family: 'Open Sans', verdana, arial, sans-serif; font-size: 14px; fill: rgb(36, 36, 36); opacity: 1; font-weight: normal; white-space: pre;\">egg_breadth</text></g><g class=\"g-y4title\" transform=\"translate(4.4296875,0)\"><text class=\"y4title\" transform=\"rotate(-90,9.575000000000003,355.6923076923077)\" x=\"9.575000000000003\" y=\"355.6923076923077\" text-anchor=\"middle\" style=\"font-family: 'Open Sans', verdana, arial, sans-serif; font-size: 14px; fill: rgb(36, 36, 36); opacity: 1; font-weight: normal; white-space: pre;\">bird_weight</text></g></g></svg>"
      ]
     },
     "metadata": {},
     "output_type": "display_data"
    }
   ],
   "source": [
    "px.scatter_matrix(eggs, width=450, height=450)"
   ]
  },
  {
   "cell_type": "markdown",
   "metadata": {},
   "source": [
    "This shows that `bird_weight`\n",
    "is highly correlated with all the other\n",
    "variables (the bottom row), which means fitting a linear model is a good idea.\n",
    "But we also see that `egg_weight` is highly correlated with all the variables\n",
    "(the top row).\n",
    "This means we can't increase one covariate while\n",
    "keeping the others constant. The individual slopes have no meaning."
   ]
  },
  {
   "cell_type": "markdown",
   "metadata": {},
   "source": [
    "One way to fix this is to fit a model that only uses `egg_weight`.\n",
    "This model performs almost as well as the model that uses all three variables,\n",
    "and the confidence interval for $\\theta^*_{\\texttt{egg_weight}}$ doesn't \n",
    "contain zero."
   ]
  },
  {
   "cell_type": "code",
   "execution_count": 111,
   "metadata": {
    "tags": [
     "hide-input"
    ]
   },
   "outputs": [],
   "source": [
    "def only_egg_weight(data):\n",
    "    X = data[:, :1]\n",
    "    y = data[:, 3]\n",
    "    \n",
    "    model = lm.LinearRegression().fit(X, y)\n",
    "    return model.coef_\n",
    "\n",
    "egg_weight_thetas = bootstrap(eggs.values, only_egg_weight)"
   ]
  },
  {
   "cell_type": "code",
   "execution_count": 117,
   "metadata": {
    "tags": [
     "hide-input"
    ]
   },
   "outputs": [
    {
     "data": {
      "text/html": [
       "<div>\n",
       "<style scoped>\n",
       "    .dataframe tbody tr th:only-of-type {\n",
       "        vertical-align: middle;\n",
       "    }\n",
       "\n",
       "    .dataframe tbody tr th {\n",
       "        vertical-align: top;\n",
       "    }\n",
       "\n",
       "    .dataframe thead th {\n",
       "        text-align: right;\n",
       "    }\n",
       "</style>\n",
       "<table border=\"1\" class=\"dataframe\">\n",
       "  <thead>\n",
       "    <tr style=\"text-align: right;\">\n",
       "      <th></th>\n",
       "      <th>lower</th>\n",
       "      <th>upper</th>\n",
       "    </tr>\n",
       "  </thead>\n",
       "  <tbody>\n",
       "    <tr>\n",
       "      <th>theta_egg_weight</th>\n",
       "      <td>0.6</td>\n",
       "      <td>0.82</td>\n",
       "    </tr>\n",
       "  </tbody>\n",
       "</table>\n",
       "</div>"
      ],
      "text/plain": [
       "                  lower  upper\n",
       "theta_egg_weight    0.6   0.82"
      ]
     },
     "execution_count": 117,
     "metadata": {},
     "output_type": "execute_result"
    }
   ],
   "source": [
    "pd.DataFrame(\n",
    "    np.percentile(egg_weight_thetas, [2.5, 97.5], axis=0).T,\n",
    "    index=['theta_egg_weight'],\n",
    "    columns=['lower', 'upper'],\n",
    ")"
   ]
  },
  {
   "cell_type": "markdown",
   "metadata": {},
   "source": [
    "It's no surprise that if you want to predict the\n",
    "weight of the newly-hatched chick, using the weight\n",
    "of the egg is your best move.\n",
    "\n",
    "As this example shows, checking for collinearity is important for inference.\n",
    "When we fit a model on highly correlated variables, we might not be able to\n",
    "use confidence intervals to conclude that variables are\n",
    "related to the prediction."
   ]
  },
  {
   "cell_type": "markdown",
   "metadata": {},
   "source": [
    "In this section, we saw how to use the bootstrap to perform inference\n",
    "for multivariate linear models.\n",
    "We can use bootstrap resampling to create confidence intervals for model\n",
    "coefficients, which then lets us make conclusions about the population.\n",
    "And, we saw how collinearity can prevent us from seeing what \n",
    "variables are important for the model. \n",
    "\n",
    "This section also illustrates a key tradeoff in data science: the tradeoff\n",
    "between using models for inference or prediction.\n",
    "When we want to fit a model that we can readily use for inference, we \n",
    "remove highly correlated variables so that confidence intervals can show\n",
    "the importance of each variable.\n",
    "But this can mean sacrificing some predictive accuracy, since we have fewer\n",
    "variables to use to make predictions.\n",
    "Before we fit models, we should first understand what our modeling goals are."
   ]
  }
 ],
 "metadata": {
  "colab": {
   "default_view": {},
   "name": "Bootstrapping for Linear Regression.ipynb",
   "provenance": [],
   "version": "0.3.2",
   "views": {}
  },
  "kernelspec": {
   "display_name": "Python 3",
   "language": "python",
   "name": "python3"
  },
  "language_info": {
   "codemirror_mode": {
    "name": "ipython",
    "version": 3
   },
   "file_extension": ".py",
   "mimetype": "text/x-python",
   "name": "python",
   "nbconvert_exporter": "python",
   "pygments_lexer": "ipython3",
   "version": "3.9.4"
  }
 },
 "nbformat": 4,
 "nbformat_minor": 4
}
