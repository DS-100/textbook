{
 "cells": [
  {
   "cell_type": "code",
   "execution_count": 35,
   "metadata": {
    "tags": [
     "remove-cell"
    ]
   },
   "outputs": [],
   "source": [
    "# Reference: https://jupyterbook.org/interactive/hiding.html\n",
    "# Use {hide, remove}-{input, output, cell} tags to hiding content\n",
    "\n",
    "import sys\n",
    "import os\n",
    "if not any(path.endswith('textbook') for path in sys.path):\n",
    "    sys.path.append(os.path.abspath('../../..'))\n",
    "from textbook_utils import *\n",
    "\n",
    "import plotly.figure_factory as ff"
   ]
  },
  {
   "cell_type": "code",
   "execution_count": 36,
   "metadata": {
    "tags": [
     "remove-cell"
    ]
   },
   "outputs": [],
   "source": [
    "trees = pd.read_csv('data/black_spruce.csv')"
   ]
  },
  {
   "cell_type": "code",
   "execution_count": 37,
   "metadata": {
    "tags": [
     "remove-cell"
    ]
   },
   "outputs": [],
   "source": [
    "trees['status_0_1'] = (trees['status'] == 'fallen').astype(int)"
   ]
  },
  {
   "cell_type": "code",
   "execution_count": 38,
   "metadata": {
    "tags": [
     "remove-cell"
    ]
   },
   "outputs": [],
   "source": [
    "splits=[4, 5, 6, 7, 8, 9, 10, 12, 14, 17, 20, 25, 32]\n",
    "pr_split = np.zeros(len(splits)-1)\n",
    "ct_split = np.zeros(len(splits)-1)\n",
    "\n",
    "for i in range(0, len(splits)-1):\n",
    "    sub_trees = trees['status_0_1'][((trees['diameter'] > splits[i]) & \n",
    "                                     (trees['diameter'] <= splits[i+1]))]\n",
    "    pr_split[i] = np.mean(sub_trees)  \n",
    "    ct_split[i] = len(sub_trees) \n",
    "    \n",
    "tree_bins = pd.DataFrame({'proportion': pr_split, \n",
    "                          'count':ct_split, 'diameter':splits[1:]})    "
   ]
  },
  {
   "cell_type": "code",
   "execution_count": 39,
   "metadata": {
    "tags": [
     "remove-cell"
    ]
   },
   "outputs": [],
   "source": [
    "fig = px.scatter(tree_bins, x='diameter', y='proportion', size='count', \n",
    "        labels={'diameter':\"Tree Diameter (cm)\", 'proportion':\"Proportion Down\"},\n",
    "         width=450, height=250)"
   ]
  },
  {
   "cell_type": "markdown",
   "metadata": {},
   "source": [
    "# Modeling Proportions (and Probabilities)\n",
    "\n",
    "The relationship between tree diameter and the proportion of downed trees does not appear linear. In fact, if we fit a simple linear model to these data, we get several undesirable features. "
   ]
  },
  {
   "cell_type": "markdown",
   "metadata": {},
   "source": [
    "Following, the techniques of modeling from {numref}`Chapter %s <ch:linear>`, we fit a linear model of tree status to diameter:"
   ]
  },
  {
   "cell_type": "code",
   "execution_count": 40,
   "metadata": {},
   "outputs": [
    {
     "data": {
      "text/plain": [
       "LinearRegression()"
      ]
     },
     "execution_count": 40,
     "metadata": {},
     "output_type": "execute_result"
    }
   ],
   "source": [
    "from sklearn.linear_model import LinearRegression\n",
    "X = trees[['diameter']].to_numpy()\n",
    "Y = trees['status_0_1'].to_numpy()\n",
    "\n",
    "lin_reg = LinearRegression()\n",
    "lin_reg.fit(X, Y)"
   ]
  },
  {
   "cell_type": "markdown",
   "metadata": {},
   "source": [
    "Then we add this fitted line to our scatter plot of proportions: "
   ]
  },
  {
   "cell_type": "code",
   "execution_count": 41,
   "metadata": {
    "ExecuteTime": {
     "end_time": "2018-04-02T16:07:18.026129Z",
     "start_time": "2018-04-02T16:07:18.007888Z"
    }
   },
   "outputs": [
    {
     "data": {
      "application/vnd.plotly.v1+json": {
       "config": {
        "plotlyServerURL": "https://plot.ly"
       },
       "data": [
        {
         "hovertemplate": "Tree Diameter (cm)=%{x}<br>Proportion Down=%{y}<br>count=%{marker.size}<extra></extra>",
         "legendgroup": "",
         "marker": {
          "color": "#1F77B4",
          "size": [
           88,
           93,
           91,
           70,
           49,
           54,
           64,
           57,
           49,
           24,
           14,
           6
          ],
          "sizemode": "area",
          "sizeref": 0.2325,
          "symbol": "circle"
         },
         "mode": "markers",
         "name": "",
         "orientation": "v",
         "showlegend": false,
         "type": "scatter",
         "x": [
          5,
          6,
          7,
          8,
          9,
          10,
          12,
          14,
          17,
          20,
          25,
          32
         ],
         "xaxis": "x",
         "y": [
          0.06818181818181818,
          0.07526881720430108,
          0.1978021978021978,
          0.18571428571428572,
          0.30612244897959184,
          0.4444444444444444,
          0.609375,
          0.6491228070175439,
          0.7755102040816326,
          0.8333333333333334,
          0.7857142857142857,
          0.8333333333333334
         ],
         "yaxis": "y"
        },
        {
         "mode": "lines",
         "type": "scatter",
         "x": [
          5,
          5.551020408163265,
          6.1020408163265305,
          6.653061224489796,
          7.204081632653061,
          7.755102040816326,
          8.306122448979592,
          8.857142857142858,
          9.408163265306122,
          9.959183673469386,
          10.510204081632653,
          11.061224489795919,
          11.612244897959183,
          12.163265306122447,
          12.714285714285714,
          13.26530612244898,
          13.816326530612244,
          14.367346938775508,
          14.918367346938775,
          15.46938775510204,
          16.020408163265305,
          16.57142857142857,
          17.122448979591837,
          17.6734693877551,
          18.224489795918366,
          18.77551020408163,
          19.326530612244895,
          19.877551020408163,
          20.428571428571427,
          20.97959183673469,
          21.53061224489796,
          22.081632653061224,
          22.632653061224488,
          23.183673469387752,
          23.734693877551017,
          24.285714285714285,
          24.83673469387755,
          25.387755102040813,
          25.93877551020408,
          26.489795918367346,
          27.04081632653061,
          27.591836734693874,
          28.14285714285714,
          28.693877551020407,
          29.24489795918367,
          29.795918367346935,
          30.346938775510203,
          30.897959183673468,
          31.448979591836732,
          32
         ],
         "y": [
          0.1053182710331349,
          0.134420555650469,
          0.16352284026780312,
          0.19262512488513728,
          0.22172740950247138,
          0.25082969411980555,
          0.27993197873713965,
          0.3090342633544738,
          0.3381365479718079,
          0.367238832589142,
          0.3963411172064762,
          0.4254434018238103,
          0.4545456864411444,
          0.4836479710584785,
          0.5127502556758126,
          0.5418525402931469,
          0.570954824910481,
          0.6000571095278151,
          0.6291593941451492,
          0.6582616787624833,
          0.6873639633798174,
          0.7164662479971515,
          0.7455685326144859,
          0.7746708172318197,
          0.8037731018491538,
          0.832875386466488,
          0.8619776710838221,
          0.8910799557011564,
          0.9201822403184903,
          0.9492845249358244,
          0.9783868095531587,
          1.0074890941704928,
          1.036591378787827,
          1.065693663405161,
          1.0947959480224951,
          1.1238982326398292,
          1.1530005172571633,
          1.1821028018744975,
          1.2112050864918318,
          1.240307371109166,
          1.2694096557265,
          1.2985119403438339,
          1.327614224961168,
          1.3567165095785023,
          1.3858187941958364,
          1.4149210788131705,
          1.4440233634305049,
          1.4731256480478387,
          1.5022279326651728,
          1.5313302172825072
         ]
        }
       ],
       "layout": {
        "height": 250,
        "legend": {
         "itemsizing": "constant",
         "tracegroupgap": 0
        },
        "showlegend": false,
        "template": {
         "data": {
          "bar": [
           {
            "error_x": {
             "color": "rgb(36,36,36)"
            },
            "error_y": {
             "color": "rgb(36,36,36)"
            },
            "marker": {
             "line": {
              "color": "white",
              "width": 0.5
             },
             "pattern": {
              "fillmode": "overlay",
              "size": 10,
              "solidity": 0.2
             }
            },
            "type": "bar"
           }
          ],
          "barpolar": [
           {
            "marker": {
             "line": {
              "color": "white",
              "width": 0.5
             },
             "pattern": {
              "fillmode": "overlay",
              "size": 10,
              "solidity": 0.2
             }
            },
            "type": "barpolar"
           }
          ],
          "carpet": [
           {
            "aaxis": {
             "endlinecolor": "rgb(36,36,36)",
             "gridcolor": "white",
             "linecolor": "white",
             "minorgridcolor": "white",
             "startlinecolor": "rgb(36,36,36)"
            },
            "baxis": {
             "endlinecolor": "rgb(36,36,36)",
             "gridcolor": "white",
             "linecolor": "white",
             "minorgridcolor": "white",
             "startlinecolor": "rgb(36,36,36)"
            },
            "type": "carpet"
           }
          ],
          "choropleth": [
           {
            "colorbar": {
             "outlinewidth": 1,
             "tickcolor": "rgb(36,36,36)",
             "ticks": "outside"
            },
            "type": "choropleth"
           }
          ],
          "contour": [
           {
            "colorbar": {
             "outlinewidth": 1,
             "tickcolor": "rgb(36,36,36)",
             "ticks": "outside"
            },
            "colorscale": [
             [
              0,
              "#440154"
             ],
             [
              0.1111111111111111,
              "#482878"
             ],
             [
              0.2222222222222222,
              "#3e4989"
             ],
             [
              0.3333333333333333,
              "#31688e"
             ],
             [
              0.4444444444444444,
              "#26828e"
             ],
             [
              0.5555555555555556,
              "#1f9e89"
             ],
             [
              0.6666666666666666,
              "#35b779"
             ],
             [
              0.7777777777777778,
              "#6ece58"
             ],
             [
              0.8888888888888888,
              "#b5de2b"
             ],
             [
              1,
              "#fde725"
             ]
            ],
            "type": "contour"
           }
          ],
          "contourcarpet": [
           {
            "colorbar": {
             "outlinewidth": 1,
             "tickcolor": "rgb(36,36,36)",
             "ticks": "outside"
            },
            "type": "contourcarpet"
           }
          ],
          "heatmap": [
           {
            "colorbar": {
             "outlinewidth": 1,
             "tickcolor": "rgb(36,36,36)",
             "ticks": "outside"
            },
            "colorscale": [
             [
              0,
              "#440154"
             ],
             [
              0.1111111111111111,
              "#482878"
             ],
             [
              0.2222222222222222,
              "#3e4989"
             ],
             [
              0.3333333333333333,
              "#31688e"
             ],
             [
              0.4444444444444444,
              "#26828e"
             ],
             [
              0.5555555555555556,
              "#1f9e89"
             ],
             [
              0.6666666666666666,
              "#35b779"
             ],
             [
              0.7777777777777778,
              "#6ece58"
             ],
             [
              0.8888888888888888,
              "#b5de2b"
             ],
             [
              1,
              "#fde725"
             ]
            ],
            "type": "heatmap"
           }
          ],
          "heatmapgl": [
           {
            "colorbar": {
             "outlinewidth": 1,
             "tickcolor": "rgb(36,36,36)",
             "ticks": "outside"
            },
            "colorscale": [
             [
              0,
              "#440154"
             ],
             [
              0.1111111111111111,
              "#482878"
             ],
             [
              0.2222222222222222,
              "#3e4989"
             ],
             [
              0.3333333333333333,
              "#31688e"
             ],
             [
              0.4444444444444444,
              "#26828e"
             ],
             [
              0.5555555555555556,
              "#1f9e89"
             ],
             [
              0.6666666666666666,
              "#35b779"
             ],
             [
              0.7777777777777778,
              "#6ece58"
             ],
             [
              0.8888888888888888,
              "#b5de2b"
             ],
             [
              1,
              "#fde725"
             ]
            ],
            "type": "heatmapgl"
           }
          ],
          "histogram": [
           {
            "marker": {
             "line": {
              "color": "white",
              "width": 0.6
             }
            },
            "type": "histogram"
           }
          ],
          "histogram2d": [
           {
            "colorbar": {
             "outlinewidth": 1,
             "tickcolor": "rgb(36,36,36)",
             "ticks": "outside"
            },
            "colorscale": [
             [
              0,
              "#440154"
             ],
             [
              0.1111111111111111,
              "#482878"
             ],
             [
              0.2222222222222222,
              "#3e4989"
             ],
             [
              0.3333333333333333,
              "#31688e"
             ],
             [
              0.4444444444444444,
              "#26828e"
             ],
             [
              0.5555555555555556,
              "#1f9e89"
             ],
             [
              0.6666666666666666,
              "#35b779"
             ],
             [
              0.7777777777777778,
              "#6ece58"
             ],
             [
              0.8888888888888888,
              "#b5de2b"
             ],
             [
              1,
              "#fde725"
             ]
            ],
            "type": "histogram2d"
           }
          ],
          "histogram2dcontour": [
           {
            "colorbar": {
             "outlinewidth": 1,
             "tickcolor": "rgb(36,36,36)",
             "ticks": "outside"
            },
            "colorscale": [
             [
              0,
              "#440154"
             ],
             [
              0.1111111111111111,
              "#482878"
             ],
             [
              0.2222222222222222,
              "#3e4989"
             ],
             [
              0.3333333333333333,
              "#31688e"
             ],
             [
              0.4444444444444444,
              "#26828e"
             ],
             [
              0.5555555555555556,
              "#1f9e89"
             ],
             [
              0.6666666666666666,
              "#35b779"
             ],
             [
              0.7777777777777778,
              "#6ece58"
             ],
             [
              0.8888888888888888,
              "#b5de2b"
             ],
             [
              1,
              "#fde725"
             ]
            ],
            "type": "histogram2dcontour"
           }
          ],
          "mesh3d": [
           {
            "colorbar": {
             "outlinewidth": 1,
             "tickcolor": "rgb(36,36,36)",
             "ticks": "outside"
            },
            "type": "mesh3d"
           }
          ],
          "parcoords": [
           {
            "line": {
             "colorbar": {
              "outlinewidth": 1,
              "tickcolor": "rgb(36,36,36)",
              "ticks": "outside"
             }
            },
            "type": "parcoords"
           }
          ],
          "pie": [
           {
            "automargin": true,
            "type": "pie"
           }
          ],
          "scatter": [
           {
            "marker": {
             "colorbar": {
              "outlinewidth": 1,
              "tickcolor": "rgb(36,36,36)",
              "ticks": "outside"
             }
            },
            "type": "scatter"
           }
          ],
          "scatter3d": [
           {
            "line": {
             "colorbar": {
              "outlinewidth": 1,
              "tickcolor": "rgb(36,36,36)",
              "ticks": "outside"
             }
            },
            "marker": {
             "colorbar": {
              "outlinewidth": 1,
              "tickcolor": "rgb(36,36,36)",
              "ticks": "outside"
             }
            },
            "type": "scatter3d"
           }
          ],
          "scattercarpet": [
           {
            "marker": {
             "colorbar": {
              "outlinewidth": 1,
              "tickcolor": "rgb(36,36,36)",
              "ticks": "outside"
             }
            },
            "type": "scattercarpet"
           }
          ],
          "scattergeo": [
           {
            "marker": {
             "colorbar": {
              "outlinewidth": 1,
              "tickcolor": "rgb(36,36,36)",
              "ticks": "outside"
             }
            },
            "type": "scattergeo"
           }
          ],
          "scattergl": [
           {
            "marker": {
             "colorbar": {
              "outlinewidth": 1,
              "tickcolor": "rgb(36,36,36)",
              "ticks": "outside"
             }
            },
            "type": "scattergl"
           }
          ],
          "scattermapbox": [
           {
            "marker": {
             "colorbar": {
              "outlinewidth": 1,
              "tickcolor": "rgb(36,36,36)",
              "ticks": "outside"
             }
            },
            "type": "scattermapbox"
           }
          ],
          "scatterpolar": [
           {
            "marker": {
             "colorbar": {
              "outlinewidth": 1,
              "tickcolor": "rgb(36,36,36)",
              "ticks": "outside"
             }
            },
            "type": "scatterpolar"
           }
          ],
          "scatterpolargl": [
           {
            "marker": {
             "colorbar": {
              "outlinewidth": 1,
              "tickcolor": "rgb(36,36,36)",
              "ticks": "outside"
             }
            },
            "type": "scatterpolargl"
           }
          ],
          "scatterternary": [
           {
            "marker": {
             "colorbar": {
              "outlinewidth": 1,
              "tickcolor": "rgb(36,36,36)",
              "ticks": "outside"
             }
            },
            "type": "scatterternary"
           }
          ],
          "surface": [
           {
            "colorbar": {
             "outlinewidth": 1,
             "tickcolor": "rgb(36,36,36)",
             "ticks": "outside"
            },
            "colorscale": [
             [
              0,
              "#440154"
             ],
             [
              0.1111111111111111,
              "#482878"
             ],
             [
              0.2222222222222222,
              "#3e4989"
             ],
             [
              0.3333333333333333,
              "#31688e"
             ],
             [
              0.4444444444444444,
              "#26828e"
             ],
             [
              0.5555555555555556,
              "#1f9e89"
             ],
             [
              0.6666666666666666,
              "#35b779"
             ],
             [
              0.7777777777777778,
              "#6ece58"
             ],
             [
              0.8888888888888888,
              "#b5de2b"
             ],
             [
              1,
              "#fde725"
             ]
            ],
            "type": "surface"
           }
          ],
          "table": [
           {
            "cells": {
             "fill": {
              "color": "rgb(237,237,237)"
             },
             "line": {
              "color": "white"
             }
            },
            "header": {
             "fill": {
              "color": "rgb(217,217,217)"
             },
             "line": {
              "color": "white"
             }
            },
            "type": "table"
           }
          ]
         },
         "layout": {
          "annotationdefaults": {
           "arrowhead": 0,
           "arrowwidth": 1
          },
          "autosize": true,
          "autotypenumbers": "strict",
          "coloraxis": {
           "colorbar": {
            "outlinewidth": 1,
            "tickcolor": "rgb(36,36,36)",
            "ticks": "outside"
           }
          },
          "colorscale": {
           "diverging": [
            [
             0,
             "rgb(103,0,31)"
            ],
            [
             0.1,
             "rgb(178,24,43)"
            ],
            [
             0.2,
             "rgb(214,96,77)"
            ],
            [
             0.3,
             "rgb(244,165,130)"
            ],
            [
             0.4,
             "rgb(253,219,199)"
            ],
            [
             0.5,
             "rgb(247,247,247)"
            ],
            [
             0.6,
             "rgb(209,229,240)"
            ],
            [
             0.7,
             "rgb(146,197,222)"
            ],
            [
             0.8,
             "rgb(67,147,195)"
            ],
            [
             0.9,
             "rgb(33,102,172)"
            ],
            [
             1,
             "rgb(5,48,97)"
            ]
           ],
           "sequential": [
            [
             0,
             "#440154"
            ],
            [
             0.1111111111111111,
             "#482878"
            ],
            [
             0.2222222222222222,
             "#3e4989"
            ],
            [
             0.3333333333333333,
             "#31688e"
            ],
            [
             0.4444444444444444,
             "#26828e"
            ],
            [
             0.5555555555555556,
             "#1f9e89"
            ],
            [
             0.6666666666666666,
             "#35b779"
            ],
            [
             0.7777777777777778,
             "#6ece58"
            ],
            [
             0.8888888888888888,
             "#b5de2b"
            ],
            [
             1,
             "#fde725"
            ]
           ],
           "sequentialminus": [
            [
             0,
             "#440154"
            ],
            [
             0.1111111111111111,
             "#482878"
            ],
            [
             0.2222222222222222,
             "#3e4989"
            ],
            [
             0.3333333333333333,
             "#31688e"
            ],
            [
             0.4444444444444444,
             "#26828e"
            ],
            [
             0.5555555555555556,
             "#1f9e89"
            ],
            [
             0.6666666666666666,
             "#35b779"
            ],
            [
             0.7777777777777778,
             "#6ece58"
            ],
            [
             0.8888888888888888,
             "#b5de2b"
            ],
            [
             1,
             "#fde725"
            ]
           ]
          },
          "colorway": [
           "#1F77B4",
           "#FF7F0E",
           "#2CA02C",
           "#D62728",
           "#9467BD",
           "#8C564B",
           "#E377C2",
           "#7F7F7F",
           "#BCBD22",
           "#17BECF"
          ],
          "font": {
           "color": "rgb(36,36,36)"
          },
          "geo": {
           "bgcolor": "white",
           "lakecolor": "white",
           "landcolor": "white",
           "showlakes": true,
           "showland": true,
           "subunitcolor": "white"
          },
          "height": 250,
          "hoverlabel": {
           "align": "left"
          },
          "hovermode": "closest",
          "mapbox": {
           "style": "light"
          },
          "margin": {
           "b": 10,
           "l": 10,
           "r": 10,
           "t": 10
          },
          "paper_bgcolor": "white",
          "plot_bgcolor": "white",
          "polar": {
           "angularaxis": {
            "gridcolor": "rgb(232,232,232)",
            "linecolor": "rgb(36,36,36)",
            "showgrid": false,
            "showline": true,
            "ticks": "outside"
           },
           "bgcolor": "white",
           "radialaxis": {
            "gridcolor": "rgb(232,232,232)",
            "linecolor": "rgb(36,36,36)",
            "showgrid": false,
            "showline": true,
            "ticks": "outside"
           }
          },
          "scene": {
           "xaxis": {
            "backgroundcolor": "white",
            "gridcolor": "rgb(232,232,232)",
            "gridwidth": 2,
            "linecolor": "rgb(36,36,36)",
            "showbackground": true,
            "showgrid": false,
            "showline": true,
            "ticks": "outside",
            "zeroline": false,
            "zerolinecolor": "rgb(36,36,36)"
           },
           "yaxis": {
            "backgroundcolor": "white",
            "gridcolor": "rgb(232,232,232)",
            "gridwidth": 2,
            "linecolor": "rgb(36,36,36)",
            "showbackground": true,
            "showgrid": false,
            "showline": true,
            "ticks": "outside",
            "zeroline": false,
            "zerolinecolor": "rgb(36,36,36)"
           },
           "zaxis": {
            "backgroundcolor": "white",
            "gridcolor": "rgb(232,232,232)",
            "gridwidth": 2,
            "linecolor": "rgb(36,36,36)",
            "showbackground": true,
            "showgrid": false,
            "showline": true,
            "ticks": "outside",
            "zeroline": false,
            "zerolinecolor": "rgb(36,36,36)"
           }
          },
          "shapedefaults": {
           "fillcolor": "black",
           "line": {
            "width": 0
           },
           "opacity": 0.3
          },
          "ternary": {
           "aaxis": {
            "gridcolor": "rgb(232,232,232)",
            "linecolor": "rgb(36,36,36)",
            "showgrid": false,
            "showline": true,
            "ticks": "outside"
           },
           "baxis": {
            "gridcolor": "rgb(232,232,232)",
            "linecolor": "rgb(36,36,36)",
            "showgrid": false,
            "showline": true,
            "ticks": "outside"
           },
           "bgcolor": "white",
           "caxis": {
            "gridcolor": "rgb(232,232,232)",
            "linecolor": "rgb(36,36,36)",
            "showgrid": false,
            "showline": true,
            "ticks": "outside"
           }
          },
          "title": {
           "x": 0.5,
           "xanchor": "center"
          },
          "width": 350,
          "xaxis": {
           "automargin": true,
           "gridcolor": "rgb(232,232,232)",
           "linecolor": "rgb(36,36,36)",
           "showgrid": true,
           "showline": true,
           "ticks": "outside",
           "title": {
            "standoff": 15
           },
           "zeroline": false,
           "zerolinecolor": "rgb(36,36,36)"
          },
          "yaxis": {
           "automargin": true,
           "gridcolor": "rgb(232,232,232)",
           "linecolor": "rgb(36,36,36)",
           "showgrid": true,
           "showline": true,
           "ticks": "outside",
           "title": {
            "standoff": 15
           },
           "zeroline": false,
           "zerolinecolor": "rgb(36,36,36)"
          }
         }
        },
        "width": 450,
        "xaxis": {
         "anchor": "y",
         "autorange": true,
         "domain": [
          0,
          1
         ],
         "range": [
          2.1225570831691045,
          33.926311262779556
         ],
         "title": {
          "text": "Tree Diameter (cm)"
         },
         "type": "linear"
        },
        "yaxis": {
         "anchor": "x",
         "autorange": true,
         "domain": [
          0,
          1
         ],
         "range": [
          -0.17412792022836332,
          1.6210911718883425
         ],
         "title": {
          "text": "Proportion Down"
         },
         "type": "linear"
        }
       }
      },
      "image/png": "[encoded data removed]",
      "image/svg+xml": [
       "<svg class=\"main-svg\" xmlns=\"http://www.w3.org/2000/svg\" xmlns:xlink=\"http://www.w3.org/1999/xlink\" width=\"450\" height=\"250\" style=\"\" viewBox=\"0 0 450 250\"><rect x=\"0\" y=\"0\" width=\"450\" height=\"250\" style=\"fill: rgb(255, 255, 255); fill-opacity: 1;\"/><defs id=\"defs-935d81\"><g class=\"clips\"><clipPath id=\"clip935d81xyplot\" class=\"plotclip\"><rect width=\"380\" height=\"181\"/></clipPath><clipPath class=\"axesclip\" id=\"clip935d81x\"><rect x=\"60\" y=\"0\" width=\"380\" height=\"250\"/></clipPath><clipPath class=\"axesclip\" id=\"clip935d81y\"><rect x=\"0\" y=\"10\" width=\"450\" height=\"181\"/></clipPath><clipPath class=\"axesclip\" id=\"clip935d81xy\"><rect x=\"60\" y=\"10\" width=\"380\" height=\"181\"/></clipPath></g><g class=\"gradients\"/><g class=\"patterns\"/></defs><g class=\"bglayer\"/><g class=\"layer-below\"><g class=\"imagelayer\"/><g class=\"shapelayer\"/></g><g class=\"cartesianlayer\"><g class=\"subplot xy\"><g class=\"layer-subplot\"><g class=\"shapelayer\"/><g class=\"imagelayer\"/></g><g class=\"gridlayer\"><g class=\"x\"><path class=\"xgrid crisp\" transform=\"translate(154.12,0)\" d=\"M0,10v181\" style=\"stroke: rgb(232, 232, 232); stroke-opacity: 1; stroke-width: 1px;\"/><path class=\"xgrid crisp\" transform=\"translate(273.6,0)\" d=\"M0,10v181\" style=\"stroke: rgb(232, 232, 232); stroke-opacity: 1; stroke-width: 1px;\"/><path class=\"xgrid crisp\" transform=\"translate(393.09,0)\" d=\"M0,10v181\" style=\"stroke: rgb(232, 232, 232); stroke-opacity: 1; stroke-width: 1px;\"/></g><g class=\"y\"><path class=\"ygrid crisp\" transform=\"translate(0,173.44)\" d=\"M60,0h380\" style=\"stroke: rgb(232, 232, 232); stroke-opacity: 1; stroke-width: 1px;\"/><path class=\"ygrid crisp\" transform=\"translate(0,123.03)\" d=\"M60,0h380\" style=\"stroke: rgb(232, 232, 232); stroke-opacity: 1; stroke-width: 1px;\"/><path class=\"ygrid crisp\" transform=\"translate(0,72.62)\" d=\"M60,0h380\" style=\"stroke: rgb(232, 232, 232); stroke-opacity: 1; stroke-width: 1px;\"/><path class=\"ygrid crisp\" transform=\"translate(0,22.21)\" d=\"M60,0h380\" style=\"stroke: rgb(232, 232, 232); stroke-opacity: 1; stroke-width: 1px;\"/></g></g><g class=\"zerolinelayer\"/><path class=\"xlines-below\"/><path class=\"ylines-below\"/><g class=\"overlines-below\"/><g class=\"xaxislayer-below\"/><g class=\"yaxislayer-below\"/><g class=\"overaxes-below\"/><g class=\"plot\" transform=\"translate(60,10)\" clip-path=\"url(#clip935d81xyplot)\"><g class=\"scatterlayer mlayer\"><g class=\"trace scatter tracef2915c\" style=\"stroke-miterlimit: 2; opacity: 1;\"><g class=\"fills\"/><g class=\"errorbars\"/><g class=\"lines\"/><g class=\"points\"><path class=\"point\" transform=\"translate(34.38,156.57)\" d=\"M13.76,0A13.76,13.76 0 1,1 0,-13.76A13.76,13.76 0 0,1 13.76,0Z\" style=\"opacity: 0.7; stroke-width: 1px; fill: rgb(31, 119, 180); fill-opacity: 1; stroke: rgb(255, 255, 255); stroke-opacity: 1;\"/><path class=\"point\" transform=\"translate(46.33,155.85)\" d=\"M14.14,0A14.14,14.14 0 1,1 0,-14.14A14.14,14.14 0 0,1 14.14,0Z\" style=\"opacity: 0.7; stroke-width: 1px; fill: rgb(31, 119, 180); fill-opacity: 1; stroke: rgb(255, 255, 255); stroke-opacity: 1;\"/><path class=\"point\" transform=\"translate(58.28,143.5)\" d=\"M13.99,0A13.99,13.99 0 1,1 0,-13.99A13.99,13.99 0 0,1 13.99,0Z\" style=\"opacity: 0.7; stroke-width: 1px; fill: rgb(31, 119, 180); fill-opacity: 1; stroke: rgb(255, 255, 255); stroke-opacity: 1;\"/><path class=\"point\" transform=\"translate(70.23,144.72)\" d=\"M12.27,0A12.27,12.27 0 1,1 0,-12.27A12.27,12.27 0 0,1 12.27,0Z\" style=\"opacity: 0.7; stroke-width: 1px; fill: rgb(31, 119, 180); fill-opacity: 1; stroke: rgb(255, 255, 255); stroke-opacity: 1;\"/><path class=\"point\" transform=\"translate(82.17,132.58)\" d=\"M10.27,0A10.27,10.27 0 1,1 0,-10.27A10.27,10.27 0 0,1 10.27,0Z\" style=\"opacity: 0.7; stroke-width: 1px; fill: rgb(31, 119, 180); fill-opacity: 1; stroke: rgb(255, 255, 255); stroke-opacity: 1;\"/><path class=\"point\" transform=\"translate(94.12,118.63)\" d=\"M10.78,0A10.78,10.78 0 1,1 0,-10.78A10.78,10.78 0 0,1 10.78,0Z\" style=\"opacity: 0.7; stroke-width: 1px; fill: rgb(31, 119, 180); fill-opacity: 1; stroke: rgb(255, 255, 255); stroke-opacity: 1;\"/><path class=\"point\" transform=\"translate(118.02,102)\" d=\"M11.73,0A11.73,11.73 0 1,1 0,-11.73A11.73,11.73 0 0,1 11.73,0Z\" style=\"opacity: 0.7; stroke-width: 1px; fill: rgb(31, 119, 180); fill-opacity: 1; stroke: rgb(255, 255, 255); stroke-opacity: 1;\"/><path class=\"point\" transform=\"translate(141.91,98)\" d=\"M11.07,0A11.07,11.07 0 1,1 0,-11.07A11.07,11.07 0 0,1 11.07,0Z\" style=\"opacity: 0.7; stroke-width: 1px; fill: rgb(31, 119, 180); fill-opacity: 1; stroke: rgb(255, 255, 255); stroke-opacity: 1;\"/><path class=\"point\" transform=\"translate(177.76,85.25)\" d=\"M10.27,0A10.27,10.27 0 1,1 0,-10.27A10.27,10.27 0 0,1 10.27,0Z\" style=\"opacity: 0.7; stroke-width: 1px; fill: rgb(31, 119, 180); fill-opacity: 1; stroke: rgb(255, 255, 255); stroke-opacity: 1;\"/><path class=\"point\" transform=\"translate(213.6,79.42)\" d=\"M7.18,0A7.18,7.18 0 1,1 0,-7.18A7.18,7.18 0 0,1 7.18,0Z\" style=\"opacity: 0.7; stroke-width: 1px; fill: rgb(31, 119, 180); fill-opacity: 1; stroke: rgb(255, 255, 255); stroke-opacity: 1;\"/><path class=\"point\" transform=\"translate(273.35,84.23)\" d=\"M5.49,0A5.49,5.49 0 1,1 0,-5.49A5.49,5.49 0 0,1 5.49,0Z\" style=\"opacity: 0.7; stroke-width: 1px; fill: rgb(31, 119, 180); fill-opacity: 1; stroke: rgb(255, 255, 255); stroke-opacity: 1;\"/><path class=\"point\" transform=\"translate(356.98,79.42)\" d=\"M3.59,0A3.59,3.59 0 1,1 0,-3.59A3.59,3.59 0 0,1 3.59,0Z\" style=\"opacity: 0.7; stroke-width: 1px; fill: rgb(31, 119, 180); fill-opacity: 1; stroke: rgb(255, 255, 255); stroke-opacity: 1;\"/></g><g class=\"text\"/></g><g class=\"trace scatter trace231fda\" style=\"stroke-miterlimit: 2; opacity: 1;\"><g class=\"fills\"/><g class=\"errorbars\"/><g class=\"lines\"><path class=\"js-line\" d=\"M34.38,152.83L356.98,9.05\" style=\"vector-effect: non-scaling-stroke; fill: none; stroke: rgb(255, 127, 14); stroke-opacity: 1; stroke-width: 2px; opacity: 1;\"/></g><g class=\"points\"/><g class=\"text\"/></g></g></g><g class=\"overplot\"/><path class=\"xlines-above crisp\" d=\"M59,191.5H440\" style=\"fill: none; stroke-width: 1px; stroke: rgb(36, 36, 36); stroke-opacity: 1;\"/><path class=\"ylines-above crisp\" d=\"M59.5,10V191\" style=\"fill: none; stroke-width: 1px; stroke: rgb(36, 36, 36); stroke-opacity: 1;\"/><g class=\"overlines-above\"/><g class=\"xaxislayer-above\"><path class=\"xtick ticks crisp\" d=\"M0,192v5\" transform=\"translate(154.12,0)\" style=\"stroke: rgb(68, 68, 68); stroke-opacity: 1; stroke-width: 1px;\"/><path class=\"xtick ticks crisp\" d=\"M0,192v5\" transform=\"translate(273.6,0)\" style=\"stroke: rgb(68, 68, 68); stroke-opacity: 1; stroke-width: 1px;\"/><path class=\"xtick ticks crisp\" d=\"M0,192v5\" transform=\"translate(393.09,0)\" style=\"stroke: rgb(68, 68, 68); stroke-opacity: 1; stroke-width: 1px;\"/><g class=\"xtick\"><text text-anchor=\"middle\" x=\"0\" y=\"211.4\" transform=\"translate(154.12,0)\" style=\"font-family: 'Open Sans', verdana, arial, sans-serif; font-size: 12px; fill: rgb(36, 36, 36); fill-opacity: 1; white-space: pre; opacity: 1;\">10</text></g><g class=\"xtick\"><text text-anchor=\"middle\" x=\"0\" y=\"211.4\" style=\"font-family: 'Open Sans', verdana, arial, sans-serif; font-size: 12px; fill: rgb(36, 36, 36); fill-opacity: 1; white-space: pre; opacity: 1;\" transform=\"translate(273.6,0)\">20</text></g><g class=\"xtick\"><text text-anchor=\"middle\" x=\"0\" y=\"211.4\" style=\"font-family: 'Open Sans', verdana, arial, sans-serif; font-size: 12px; fill: rgb(36, 36, 36); fill-opacity: 1; white-space: pre; opacity: 1;\" transform=\"translate(393.09,0)\">30</text></g></g><g class=\"yaxislayer-above\"><path class=\"ytick ticks crisp\" d=\"M59,0h-5\" transform=\"translate(0,173.44)\" style=\"stroke: rgb(68, 68, 68); stroke-opacity: 1; stroke-width: 1px;\"/><path class=\"ytick ticks crisp\" d=\"M59,0h-5\" transform=\"translate(0,123.03)\" style=\"stroke: rgb(68, 68, 68); stroke-opacity: 1; stroke-width: 1px;\"/><path class=\"ytick ticks crisp\" d=\"M59,0h-5\" transform=\"translate(0,72.62)\" style=\"stroke: rgb(68, 68, 68); stroke-opacity: 1; stroke-width: 1px;\"/><path class=\"ytick ticks crisp\" d=\"M59,0h-5\" transform=\"translate(0,22.21)\" style=\"stroke: rgb(68, 68, 68); stroke-opacity: 1; stroke-width: 1px;\"/><g class=\"ytick\"><text text-anchor=\"end\" x=\"51.6\" y=\"4.199999999999999\" transform=\"translate(0,173.44)\" style=\"font-family: 'Open Sans', verdana, arial, sans-serif; font-size: 12px; fill: rgb(36, 36, 36); fill-opacity: 1; white-space: pre; opacity: 1;\">0</text></g><g class=\"ytick\"><text text-anchor=\"end\" x=\"51.6\" y=\"4.199999999999999\" style=\"font-family: 'Open Sans', verdana, arial, sans-serif; font-size: 12px; fill: rgb(36, 36, 36); fill-opacity: 1; white-space: pre; opacity: 1;\" transform=\"translate(0,123.03)\">0.5</text></g><g class=\"ytick\"><text text-anchor=\"end\" x=\"51.6\" y=\"4.199999999999999\" style=\"font-family: 'Open Sans', verdana, arial, sans-serif; font-size: 12px; fill: rgb(36, 36, 36); fill-opacity: 1; white-space: pre; opacity: 1;\" transform=\"translate(0,72.62)\">1</text></g><g class=\"ytick\"><text text-anchor=\"end\" x=\"51.6\" y=\"4.199999999999999\" style=\"font-family: 'Open Sans', verdana, arial, sans-serif; font-size: 12px; fill: rgb(36, 36, 36); fill-opacity: 1; white-space: pre; opacity: 1;\" transform=\"translate(0,22.21)\">1.5</text></g></g><g class=\"overaxes-above\"/></g></g><g class=\"polarlayer\"/><g class=\"smithlayer\"/><g class=\"ternarylayer\"/><g class=\"geolayer\"/><g class=\"funnelarealayer\"/><g class=\"pielayer\"/><g class=\"iciclelayer\"/><g class=\"treemaplayer\"/><g class=\"sunburstlayer\"/><g class=\"glimages\"/><defs id=\"topdefs-935d81\"><g class=\"clips\"/></defs><g class=\"layer-above\"><g class=\"imagelayer\"/><g class=\"shapelayer\"/></g><g class=\"infolayer\"><g class=\"g-gtitle\"/><g class=\"g-xtitle\"><text class=\"xtitle\" x=\"250\" y=\"239.70625\" text-anchor=\"middle\" style=\"font-family: 'Open Sans', verdana, arial, sans-serif; font-size: 14px; fill: rgb(36, 36, 36); opacity: 1; font-weight: normal; white-space: pre;\">Tree Diameter (cm)</text></g><g class=\"g-ytitle\" transform=\"translate(5.1279296875,0)\"><text class=\"ytitle\" transform=\"rotate(-90,9.871875000000003,100.5)\" x=\"9.871875000000003\" y=\"100.5\" text-anchor=\"middle\" style=\"font-family: 'Open Sans', verdana, arial, sans-serif; font-size: 14px; fill: rgb(36, 36, 36); opacity: 1; font-weight: normal; white-space: pre;\">Proportion Down</text></g></g></svg>"
      ]
     },
     "metadata": {},
     "output_type": "display_data"
    }
   ],
   "source": [
    "X_plt = np.expand_dims(np.linspace(X.min(), X.max(), 50),1)\n",
    "\n",
    "fig.add_trace(go.Scatter(x=X_plt.flatten(), y=lin_reg.predict(X_plt),\n",
    "                    mode='lines'))\n",
    "\n",
    "fig.update_layout(showlegend=False)\n",
    "fig.show()"
   ]
  },
  {
   "cell_type": "markdown",
   "metadata": {},
   "source": [
    "Clearly, the model doesn't fit the proportions well at all. There are several problems:\n",
    "\n",
    "+ The model gives proportions greater than 1 for large trees.\n",
    "+ The model doesn't pick up the curvature in the proportions.\n",
    "+ An extreme point (such as a tree that's 30 cm across) shifts the model to the right, away from the bulk of the data.  \n",
    "\n",
    "At the very least this model should probably predict a number between zero and one. To do this, we could constrain the fitted values to be between 0 and 1. But, the other issues would not be resolved. We need a better model. Enter the logistic model."
   ]
  },
  {
   "cell_type": "markdown",
   "metadata": {},
   "source": [
    "## A Logistic Model "
   ]
  },
  {
   "cell_type": "markdown",
   "metadata": {},
   "source": [
    "The logistic model is one of the most widely used basic models for classification and a simple extension of the linear model. The *logistic function*, often called the *sigmoid function*, is defined as: "
   ]
  },
  {
   "cell_type": "markdown",
   "metadata": {},
   "source": [
    "$$\n",
    "\\textbf{logistic}(t) = \\frac{1}{1+\\exp(-t)}\n",
    "$$"
   ]
  },
  {
   "cell_type": "markdown",
   "metadata": {},
   "source": [
    ":::{warning}\n",
    "\n",
    "The *sigmoid* function is typically denoted by $\\sigma(t)$. Sadly, the Greek letter $\\sigma$ is widely used to mean a lot of things in data science and statistics, like the standard deviation, logistic function, and a permutation. You will have to be careful when seeing  $ \\sigma $ and guess its meaning from context. \n",
    "\n",
    ":::"
   ]
  },
  {
   "cell_type": "markdown",
   "metadata": {},
   "source": [
    "We can plot the logistic function to reveal it's s-shape (sigmoid-shape) and confirm that it outputs numbers between 0 and 1. The function monotonically increases with $ t $, and large values of $ t $ get close to 1."
   ]
  },
  {
   "cell_type": "code",
   "execution_count": 42,
   "metadata": {
    "ExecuteTime": {
     "end_time": "2018-04-03T08:20:28.586913Z",
     "start_time": "2018-04-03T08:20:28.583811Z"
    }
   },
   "outputs": [],
   "source": [
    "def logistic(t):\n",
    "    return 1. / (1. + np.exp(-t))"
   ]
  },
  {
   "cell_type": "code",
   "execution_count": 44,
   "metadata": {
    "ExecuteTime": {
     "end_time": "2018-04-03T08:20:28.597034Z",
     "start_time": "2018-04-03T08:20:28.588719Z"
    }
   },
   "outputs": [
    {
     "data": {
      "application/vnd.plotly.v1+json": {
       "config": {
        "plotlyServerURL": "https://plot.ly"
       },
       "data": [
        {
         "mode": "lines",
         "name": "Logistic Function",
         "type": "scatter",
         "x": [
          -5,
          -4.795918367346939,
          -4.591836734693878,
          -4.387755102040816,
          -4.183673469387755,
          -3.979591836734694,
          -3.7755102040816326,
          -3.571428571428571,
          -3.36734693877551,
          -3.163265306122449,
          -2.9591836734693877,
          -2.7551020408163263,
          -2.5510204081632653,
          -2.3469387755102042,
          -2.142857142857143,
          -1.9387755102040813,
          -1.7346938775510203,
          -1.5306122448979593,
          -1.3265306122448979,
          -1.1224489795918364,
          -0.9183673469387754,
          -0.7142857142857144,
          -0.5102040816326525,
          -0.3061224489795915,
          -0.1020408163265305,
          0.1020408163265305,
          0.3061224489795915,
          0.5102040816326534,
          0.7142857142857144,
          0.9183673469387754,
          1.1224489795918373,
          1.3265306122448983,
          1.5306122448979593,
          1.7346938775510203,
          1.9387755102040813,
          2.1428571428571432,
          2.3469387755102042,
          2.5510204081632653,
          2.755102040816327,
          2.959183673469388,
          3.163265306122449,
          3.36734693877551,
          3.571428571428571,
          3.775510204081632,
          3.979591836734695,
          4.183673469387756,
          4.387755102040817,
          4.591836734693878,
          4.795918367346939,
          5
         ],
         "y": [
          0.0066928509242848554,
          0.008195682245394699,
          0.010032555186013372,
          0.012276025071468199,
          0.015013569057033847,
          0.018350241705691772,
          0.022411596418032444,
          0.02734678679618289,
          0.033331686533853294,
          0.040571758423092276,
          0.04930425596537221,
          0.059799151969359574,
          0.07235796333544683,
          0.08730940263865966,
          0.10500058502026482,
          0.12578244121862014,
          0.14998816555871142,
          0.1779041247108555,
          0.209733821699624,
          0.2455573055902638,
          0.2852906753756516,
          0.32865254651727,
          0.3751456852515014,
          0.424061486151752,
          0.4745119079463219,
          0.5254880920536781,
          0.575938513848248,
          0.6248543147484988,
          0.6713474534827301,
          0.7147093246243483,
          0.7544426944097363,
          0.790266178300376,
          0.8220958752891444,
          0.8500118344412885,
          0.87421755878138,
          0.8949994149797352,
          0.9126905973613403,
          0.9276420366645531,
          0.9402008480306404,
          0.9506957440346279,
          0.9594282415769078,
          0.9666683134661466,
          0.9726532132038171,
          0.9775884035819675,
          0.9816497582943083,
          0.9849864309429661,
          0.9877239749285319,
          0.9899674448139867,
          0.9918043177546053,
          0.9933071490757153
         ]
        }
       ],
       "layout": {
        "height": 250,
        "template": {
         "data": {
          "bar": [
           {
            "error_x": {
             "color": "rgb(36,36,36)"
            },
            "error_y": {
             "color": "rgb(36,36,36)"
            },
            "marker": {
             "line": {
              "color": "white",
              "width": 0.5
             },
             "pattern": {
              "fillmode": "overlay",
              "size": 10,
              "solidity": 0.2
             }
            },
            "type": "bar"
           }
          ],
          "barpolar": [
           {
            "marker": {
             "line": {
              "color": "white",
              "width": 0.5
             },
             "pattern": {
              "fillmode": "overlay",
              "size": 10,
              "solidity": 0.2
             }
            },
            "type": "barpolar"
           }
          ],
          "carpet": [
           {
            "aaxis": {
             "endlinecolor": "rgb(36,36,36)",
             "gridcolor": "white",
             "linecolor": "white",
             "minorgridcolor": "white",
             "startlinecolor": "rgb(36,36,36)"
            },
            "baxis": {
             "endlinecolor": "rgb(36,36,36)",
             "gridcolor": "white",
             "linecolor": "white",
             "minorgridcolor": "white",
             "startlinecolor": "rgb(36,36,36)"
            },
            "type": "carpet"
           }
          ],
          "choropleth": [
           {
            "colorbar": {
             "outlinewidth": 1,
             "tickcolor": "rgb(36,36,36)",
             "ticks": "outside"
            },
            "type": "choropleth"
           }
          ],
          "contour": [
           {
            "colorbar": {
             "outlinewidth": 1,
             "tickcolor": "rgb(36,36,36)",
             "ticks": "outside"
            },
            "colorscale": [
             [
              0,
              "#440154"
             ],
             [
              0.1111111111111111,
              "#482878"
             ],
             [
              0.2222222222222222,
              "#3e4989"
             ],
             [
              0.3333333333333333,
              "#31688e"
             ],
             [
              0.4444444444444444,
              "#26828e"
             ],
             [
              0.5555555555555556,
              "#1f9e89"
             ],
             [
              0.6666666666666666,
              "#35b779"
             ],
             [
              0.7777777777777778,
              "#6ece58"
             ],
             [
              0.8888888888888888,
              "#b5de2b"
             ],
             [
              1,
              "#fde725"
             ]
            ],
            "type": "contour"
           }
          ],
          "contourcarpet": [
           {
            "colorbar": {
             "outlinewidth": 1,
             "tickcolor": "rgb(36,36,36)",
             "ticks": "outside"
            },
            "type": "contourcarpet"
           }
          ],
          "heatmap": [
           {
            "colorbar": {
             "outlinewidth": 1,
             "tickcolor": "rgb(36,36,36)",
             "ticks": "outside"
            },
            "colorscale": [
             [
              0,
              "#440154"
             ],
             [
              0.1111111111111111,
              "#482878"
             ],
             [
              0.2222222222222222,
              "#3e4989"
             ],
             [
              0.3333333333333333,
              "#31688e"
             ],
             [
              0.4444444444444444,
              "#26828e"
             ],
             [
              0.5555555555555556,
              "#1f9e89"
             ],
             [
              0.6666666666666666,
              "#35b779"
             ],
             [
              0.7777777777777778,
              "#6ece58"
             ],
             [
              0.8888888888888888,
              "#b5de2b"
             ],
             [
              1,
              "#fde725"
             ]
            ],
            "type": "heatmap"
           }
          ],
          "heatmapgl": [
           {
            "colorbar": {
             "outlinewidth": 1,
             "tickcolor": "rgb(36,36,36)",
             "ticks": "outside"
            },
            "colorscale": [
             [
              0,
              "#440154"
             ],
             [
              0.1111111111111111,
              "#482878"
             ],
             [
              0.2222222222222222,
              "#3e4989"
             ],
             [
              0.3333333333333333,
              "#31688e"
             ],
             [
              0.4444444444444444,
              "#26828e"
             ],
             [
              0.5555555555555556,
              "#1f9e89"
             ],
             [
              0.6666666666666666,
              "#35b779"
             ],
             [
              0.7777777777777778,
              "#6ece58"
             ],
             [
              0.8888888888888888,
              "#b5de2b"
             ],
             [
              1,
              "#fde725"
             ]
            ],
            "type": "heatmapgl"
           }
          ],
          "histogram": [
           {
            "marker": {
             "line": {
              "color": "white",
              "width": 0.6
             }
            },
            "type": "histogram"
           }
          ],
          "histogram2d": [
           {
            "colorbar": {
             "outlinewidth": 1,
             "tickcolor": "rgb(36,36,36)",
             "ticks": "outside"
            },
            "colorscale": [
             [
              0,
              "#440154"
             ],
             [
              0.1111111111111111,
              "#482878"
             ],
             [
              0.2222222222222222,
              "#3e4989"
             ],
             [
              0.3333333333333333,
              "#31688e"
             ],
             [
              0.4444444444444444,
              "#26828e"
             ],
             [
              0.5555555555555556,
              "#1f9e89"
             ],
             [
              0.6666666666666666,
              "#35b779"
             ],
             [
              0.7777777777777778,
              "#6ece58"
             ],
             [
              0.8888888888888888,
              "#b5de2b"
             ],
             [
              1,
              "#fde725"
             ]
            ],
            "type": "histogram2d"
           }
          ],
          "histogram2dcontour": [
           {
            "colorbar": {
             "outlinewidth": 1,
             "tickcolor": "rgb(36,36,36)",
             "ticks": "outside"
            },
            "colorscale": [
             [
              0,
              "#440154"
             ],
             [
              0.1111111111111111,
              "#482878"
             ],
             [
              0.2222222222222222,
              "#3e4989"
             ],
             [
              0.3333333333333333,
              "#31688e"
             ],
             [
              0.4444444444444444,
              "#26828e"
             ],
             [
              0.5555555555555556,
              "#1f9e89"
             ],
             [
              0.6666666666666666,
              "#35b779"
             ],
             [
              0.7777777777777778,
              "#6ece58"
             ],
             [
              0.8888888888888888,
              "#b5de2b"
             ],
             [
              1,
              "#fde725"
             ]
            ],
            "type": "histogram2dcontour"
           }
          ],
          "mesh3d": [
           {
            "colorbar": {
             "outlinewidth": 1,
             "tickcolor": "rgb(36,36,36)",
             "ticks": "outside"
            },
            "type": "mesh3d"
           }
          ],
          "parcoords": [
           {
            "line": {
             "colorbar": {
              "outlinewidth": 1,
              "tickcolor": "rgb(36,36,36)",
              "ticks": "outside"
             }
            },
            "type": "parcoords"
           }
          ],
          "pie": [
           {
            "automargin": true,
            "type": "pie"
           }
          ],
          "scatter": [
           {
            "marker": {
             "colorbar": {
              "outlinewidth": 1,
              "tickcolor": "rgb(36,36,36)",
              "ticks": "outside"
             }
            },
            "type": "scatter"
           }
          ],
          "scatter3d": [
           {
            "line": {
             "colorbar": {
              "outlinewidth": 1,
              "tickcolor": "rgb(36,36,36)",
              "ticks": "outside"
             }
            },
            "marker": {
             "colorbar": {
              "outlinewidth": 1,
              "tickcolor": "rgb(36,36,36)",
              "ticks": "outside"
             }
            },
            "type": "scatter3d"
           }
          ],
          "scattercarpet": [
           {
            "marker": {
             "colorbar": {
              "outlinewidth": 1,
              "tickcolor": "rgb(36,36,36)",
              "ticks": "outside"
             }
            },
            "type": "scattercarpet"
           }
          ],
          "scattergeo": [
           {
            "marker": {
             "colorbar": {
              "outlinewidth": 1,
              "tickcolor": "rgb(36,36,36)",
              "ticks": "outside"
             }
            },
            "type": "scattergeo"
           }
          ],
          "scattergl": [
           {
            "marker": {
             "colorbar": {
              "outlinewidth": 1,
              "tickcolor": "rgb(36,36,36)",
              "ticks": "outside"
             }
            },
            "type": "scattergl"
           }
          ],
          "scattermapbox": [
           {
            "marker": {
             "colorbar": {
              "outlinewidth": 1,
              "tickcolor": "rgb(36,36,36)",
              "ticks": "outside"
             }
            },
            "type": "scattermapbox"
           }
          ],
          "scatterpolar": [
           {
            "marker": {
             "colorbar": {
              "outlinewidth": 1,
              "tickcolor": "rgb(36,36,36)",
              "ticks": "outside"
             }
            },
            "type": "scatterpolar"
           }
          ],
          "scatterpolargl": [
           {
            "marker": {
             "colorbar": {
              "outlinewidth": 1,
              "tickcolor": "rgb(36,36,36)",
              "ticks": "outside"
             }
            },
            "type": "scatterpolargl"
           }
          ],
          "scatterternary": [
           {
            "marker": {
             "colorbar": {
              "outlinewidth": 1,
              "tickcolor": "rgb(36,36,36)",
              "ticks": "outside"
             }
            },
            "type": "scatterternary"
           }
          ],
          "surface": [
           {
            "colorbar": {
             "outlinewidth": 1,
             "tickcolor": "rgb(36,36,36)",
             "ticks": "outside"
            },
            "colorscale": [
             [
              0,
              "#440154"
             ],
             [
              0.1111111111111111,
              "#482878"
             ],
             [
              0.2222222222222222,
              "#3e4989"
             ],
             [
              0.3333333333333333,
              "#31688e"
             ],
             [
              0.4444444444444444,
              "#26828e"
             ],
             [
              0.5555555555555556,
              "#1f9e89"
             ],
             [
              0.6666666666666666,
              "#35b779"
             ],
             [
              0.7777777777777778,
              "#6ece58"
             ],
             [
              0.8888888888888888,
              "#b5de2b"
             ],
             [
              1,
              "#fde725"
             ]
            ],
            "type": "surface"
           }
          ],
          "table": [
           {
            "cells": {
             "fill": {
              "color": "rgb(237,237,237)"
             },
             "line": {
              "color": "white"
             }
            },
            "header": {
             "fill": {
              "color": "rgb(217,217,217)"
             },
             "line": {
              "color": "white"
             }
            },
            "type": "table"
           }
          ]
         },
         "layout": {
          "annotationdefaults": {
           "arrowhead": 0,
           "arrowwidth": 1
          },
          "autosize": true,
          "autotypenumbers": "strict",
          "coloraxis": {
           "colorbar": {
            "outlinewidth": 1,
            "tickcolor": "rgb(36,36,36)",
            "ticks": "outside"
           }
          },
          "colorscale": {
           "diverging": [
            [
             0,
             "rgb(103,0,31)"
            ],
            [
             0.1,
             "rgb(178,24,43)"
            ],
            [
             0.2,
             "rgb(214,96,77)"
            ],
            [
             0.3,
             "rgb(244,165,130)"
            ],
            [
             0.4,
             "rgb(253,219,199)"
            ],
            [
             0.5,
             "rgb(247,247,247)"
            ],
            [
             0.6,
             "rgb(209,229,240)"
            ],
            [
             0.7,
             "rgb(146,197,222)"
            ],
            [
             0.8,
             "rgb(67,147,195)"
            ],
            [
             0.9,
             "rgb(33,102,172)"
            ],
            [
             1,
             "rgb(5,48,97)"
            ]
           ],
           "sequential": [
            [
             0,
             "#440154"
            ],
            [
             0.1111111111111111,
             "#482878"
            ],
            [
             0.2222222222222222,
             "#3e4989"
            ],
            [
             0.3333333333333333,
             "#31688e"
            ],
            [
             0.4444444444444444,
             "#26828e"
            ],
            [
             0.5555555555555556,
             "#1f9e89"
            ],
            [
             0.6666666666666666,
             "#35b779"
            ],
            [
             0.7777777777777778,
             "#6ece58"
            ],
            [
             0.8888888888888888,
             "#b5de2b"
            ],
            [
             1,
             "#fde725"
            ]
           ],
           "sequentialminus": [
            [
             0,
             "#440154"
            ],
            [
             0.1111111111111111,
             "#482878"
            ],
            [
             0.2222222222222222,
             "#3e4989"
            ],
            [
             0.3333333333333333,
             "#31688e"
            ],
            [
             0.4444444444444444,
             "#26828e"
            ],
            [
             0.5555555555555556,
             "#1f9e89"
            ],
            [
             0.6666666666666666,
             "#35b779"
            ],
            [
             0.7777777777777778,
             "#6ece58"
            ],
            [
             0.8888888888888888,
             "#b5de2b"
            ],
            [
             1,
             "#fde725"
            ]
           ]
          },
          "colorway": [
           "#1F77B4",
           "#FF7F0E",
           "#2CA02C",
           "#D62728",
           "#9467BD",
           "#8C564B",
           "#E377C2",
           "#7F7F7F",
           "#BCBD22",
           "#17BECF"
          ],
          "font": {
           "color": "rgb(36,36,36)"
          },
          "geo": {
           "bgcolor": "white",
           "lakecolor": "white",
           "landcolor": "white",
           "showlakes": true,
           "showland": true,
           "subunitcolor": "white"
          },
          "height": 250,
          "hoverlabel": {
           "align": "left"
          },
          "hovermode": "closest",
          "mapbox": {
           "style": "light"
          },
          "margin": {
           "b": 10,
           "l": 10,
           "r": 10,
           "t": 10
          },
          "paper_bgcolor": "white",
          "plot_bgcolor": "white",
          "polar": {
           "angularaxis": {
            "gridcolor": "rgb(232,232,232)",
            "linecolor": "rgb(36,36,36)",
            "showgrid": false,
            "showline": true,
            "ticks": "outside"
           },
           "bgcolor": "white",
           "radialaxis": {
            "gridcolor": "rgb(232,232,232)",
            "linecolor": "rgb(36,36,36)",
            "showgrid": false,
            "showline": true,
            "ticks": "outside"
           }
          },
          "scene": {
           "xaxis": {
            "backgroundcolor": "white",
            "gridcolor": "rgb(232,232,232)",
            "gridwidth": 2,
            "linecolor": "rgb(36,36,36)",
            "showbackground": true,
            "showgrid": false,
            "showline": true,
            "ticks": "outside",
            "zeroline": false,
            "zerolinecolor": "rgb(36,36,36)"
           },
           "yaxis": {
            "backgroundcolor": "white",
            "gridcolor": "rgb(232,232,232)",
            "gridwidth": 2,
            "linecolor": "rgb(36,36,36)",
            "showbackground": true,
            "showgrid": false,
            "showline": true,
            "ticks": "outside",
            "zeroline": false,
            "zerolinecolor": "rgb(36,36,36)"
           },
           "zaxis": {
            "backgroundcolor": "white",
            "gridcolor": "rgb(232,232,232)",
            "gridwidth": 2,
            "linecolor": "rgb(36,36,36)",
            "showbackground": true,
            "showgrid": false,
            "showline": true,
            "ticks": "outside",
            "zeroline": false,
            "zerolinecolor": "rgb(36,36,36)"
           }
          },
          "shapedefaults": {
           "fillcolor": "black",
           "line": {
            "width": 0
           },
           "opacity": 0.3
          },
          "ternary": {
           "aaxis": {
            "gridcolor": "rgb(232,232,232)",
            "linecolor": "rgb(36,36,36)",
            "showgrid": false,
            "showline": true,
            "ticks": "outside"
           },
           "baxis": {
            "gridcolor": "rgb(232,232,232)",
            "linecolor": "rgb(36,36,36)",
            "showgrid": false,
            "showline": true,
            "ticks": "outside"
           },
           "bgcolor": "white",
           "caxis": {
            "gridcolor": "rgb(232,232,232)",
            "linecolor": "rgb(36,36,36)",
            "showgrid": false,
            "showline": true,
            "ticks": "outside"
           }
          },
          "title": {
           "x": 0.5,
           "xanchor": "center"
          },
          "width": 350,
          "xaxis": {
           "automargin": true,
           "gridcolor": "rgb(232,232,232)",
           "linecolor": "rgb(36,36,36)",
           "showgrid": true,
           "showline": true,
           "ticks": "outside",
           "title": {
            "standoff": 15
           },
           "zeroline": false,
           "zerolinecolor": "rgb(36,36,36)"
          },
          "yaxis": {
           "automargin": true,
           "gridcolor": "rgb(232,232,232)",
           "linecolor": "rgb(36,36,36)",
           "showgrid": true,
           "showline": true,
           "ticks": "outside",
           "title": {
            "standoff": 15
           },
           "zeroline": false,
           "zerolinecolor": "rgb(36,36,36)"
          }
         }
        },
        "width": 400,
        "xaxis": {
         "autorange": true,
         "range": [
          -5,
          5
         ],
         "type": "linear"
        },
        "yaxis": {
         "autorange": true,
         "range": [
          -0.0481190545285724,
          1.0481190545285726
         ],
         "type": "linear"
        }
       }
      },
      "image/png": "[encoded data removed]",
      "image/svg+xml": [
       "<svg class=\"main-svg\" xmlns=\"http://www.w3.org/2000/svg\" xmlns:xlink=\"http://www.w3.org/1999/xlink\" width=\"400\" height=\"250\" style=\"\" viewBox=\"0 0 400 250\"><rect x=\"0\" y=\"0\" width=\"400\" height=\"250\" style=\"fill: rgb(255, 255, 255); fill-opacity: 1;\"/><defs id=\"defs-8c9e3d\"><g class=\"clips\"><clipPath id=\"clip8c9e3dxyplot\" class=\"plotclip\"><rect width=\"355\" height=\"206\"/></clipPath><clipPath class=\"axesclip\" id=\"clip8c9e3dx\"><rect x=\"35\" y=\"0\" width=\"355\" height=\"250\"/></clipPath><clipPath class=\"axesclip\" id=\"clip8c9e3dy\"><rect x=\"0\" y=\"10\" width=\"400\" height=\"206\"/></clipPath><clipPath class=\"axesclip\" id=\"clip8c9e3dxy\"><rect x=\"35\" y=\"10\" width=\"355\" height=\"206\"/></clipPath></g><g class=\"gradients\"/><g class=\"patterns\"/></defs><g class=\"bglayer\"/><g class=\"layer-below\"><g class=\"imagelayer\"/><g class=\"shapelayer\"/></g><g class=\"cartesianlayer\"><g class=\"subplot xy\"><g class=\"layer-subplot\"><g class=\"shapelayer\"/><g class=\"imagelayer\"/></g><g class=\"gridlayer\"><g class=\"x\"><path class=\"xgrid crisp\" transform=\"translate(70.5,0)\" d=\"M0,10v206\" style=\"stroke: rgb(232, 232, 232); stroke-opacity: 1; stroke-width: 1px;\"/><path class=\"xgrid crisp\" transform=\"translate(141.5,0)\" d=\"M0,10v206\" style=\"stroke: rgb(232, 232, 232); stroke-opacity: 1; stroke-width: 1px;\"/><path class=\"xgrid crisp\" transform=\"translate(212.5,0)\" d=\"M0,10v206\" style=\"stroke: rgb(232, 232, 232); stroke-opacity: 1; stroke-width: 1px;\"/><path class=\"xgrid crisp\" transform=\"translate(283.5,0)\" d=\"M0,10v206\" style=\"stroke: rgb(232, 232, 232); stroke-opacity: 1; stroke-width: 1px;\"/><path class=\"xgrid crisp\" transform=\"translate(354.5,0)\" d=\"M0,10v206\" style=\"stroke: rgb(232, 232, 232); stroke-opacity: 1; stroke-width: 1px;\"/></g><g class=\"y\"><path class=\"ygrid crisp\" transform=\"translate(0,206.96)\" d=\"M35,0h355\" style=\"stroke: rgb(232, 232, 232); stroke-opacity: 1; stroke-width: 1px;\"/><path class=\"ygrid crisp\" transform=\"translate(0,169.37)\" d=\"M35,0h355\" style=\"stroke: rgb(232, 232, 232); stroke-opacity: 1; stroke-width: 1px;\"/><path class=\"ygrid crisp\" transform=\"translate(0,131.79000000000002)\" d=\"M35,0h355\" style=\"stroke: rgb(232, 232, 232); stroke-opacity: 1; stroke-width: 1px;\"/><path class=\"ygrid crisp\" transform=\"translate(0,94.21)\" d=\"M35,0h355\" style=\"stroke: rgb(232, 232, 232); stroke-opacity: 1; stroke-width: 1px;\"/><path class=\"ygrid crisp\" transform=\"translate(0,56.63)\" d=\"M35,0h355\" style=\"stroke: rgb(232, 232, 232); stroke-opacity: 1; stroke-width: 1px;\"/><path class=\"ygrid crisp\" transform=\"translate(0,19.04)\" d=\"M35,0h355\" style=\"stroke: rgb(232, 232, 232); stroke-opacity: 1; stroke-width: 1px;\"/></g></g><g class=\"zerolinelayer\"/><path class=\"xlines-below\"/><path class=\"ylines-below\"/><g class=\"overlines-below\"/><g class=\"xaxislayer-below\"/><g class=\"yaxislayer-below\"/><g class=\"overaxes-below\"/><g class=\"plot\" transform=\"translate(35,10)\" clip-path=\"url(#clip8c9e3dxyplot)\"><g class=\"scatterlayer mlayer\"><g class=\"trace scatter trace794922\" style=\"stroke-miterlimit: 2; opacity: 1;\"><g class=\"fills\"/><g class=\"errorbars\"/><g class=\"lines\"><path class=\"js-line\" d=\"M0,195.7L28.98,194.14L36.22,193.51L57.96,190.69L65.2,189.33L79.69,185.72L86.94,183.36L101.43,177.23L108.67,173.32L123.16,163.53L130.41,157.55L144.9,143.35L152.14,135.2L166.63,117.27L173.88,107.79L195.61,79.54L202.86,70.8L217.35,55.19L224.59,48.45L239.08,37.23L246.33,32.68L260.82,25.45L268.06,22.64L282.55,18.31L289.8,16.67L311.53,13.25L318.78,12.49L347.76,10.58L355,10.3\" style=\"vector-effect: non-scaling-stroke; fill: none; stroke: rgb(31, 119, 180); stroke-opacity: 1; stroke-width: 2px; opacity: 1;\"/></g><g class=\"points\"/><g class=\"text\"/></g></g></g><g class=\"overplot\"/><path class=\"xlines-above crisp\" d=\"M34,216.5H390\" style=\"fill: none; stroke-width: 1px; stroke: rgb(36, 36, 36); stroke-opacity: 1;\"/><path class=\"ylines-above crisp\" d=\"M34.5,10V216\" style=\"fill: none; stroke-width: 1px; stroke: rgb(36, 36, 36); stroke-opacity: 1;\"/><g class=\"overlines-above\"/><g class=\"xaxislayer-above\"><path class=\"xtick ticks crisp\" d=\"M0,217v5\" transform=\"translate(70.5,0)\" style=\"stroke: rgb(68, 68, 68); stroke-opacity: 1; stroke-width: 1px;\"/><path class=\"xtick ticks crisp\" d=\"M0,217v5\" transform=\"translate(141.5,0)\" style=\"stroke: rgb(68, 68, 68); stroke-opacity: 1; stroke-width: 1px;\"/><path class=\"xtick ticks crisp\" d=\"M0,217v5\" transform=\"translate(212.5,0)\" style=\"stroke: rgb(68, 68, 68); stroke-opacity: 1; stroke-width: 1px;\"/><path class=\"xtick ticks crisp\" d=\"M0,217v5\" transform=\"translate(283.5,0)\" style=\"stroke: rgb(68, 68, 68); stroke-opacity: 1; stroke-width: 1px;\"/><path class=\"xtick ticks crisp\" d=\"M0,217v5\" transform=\"translate(354.5,0)\" style=\"stroke: rgb(68, 68, 68); stroke-opacity: 1; stroke-width: 1px;\"/><g class=\"xtick\"><text text-anchor=\"middle\" x=\"0\" y=\"236.4\" transform=\"translate(70.5,0)\" style=\"font-family: 'Open Sans', verdana, arial, sans-serif; font-size: 12px; fill: rgb(36, 36, 36); fill-opacity: 1; white-space: pre; opacity: 1;\">−4</text></g><g class=\"xtick\"><text text-anchor=\"middle\" x=\"0\" y=\"236.4\" style=\"font-family: 'Open Sans', verdana, arial, sans-serif; font-size: 12px; fill: rgb(36, 36, 36); fill-opacity: 1; white-space: pre; opacity: 1;\" transform=\"translate(141.5,0)\">−2</text></g><g class=\"xtick\"><text text-anchor=\"middle\" x=\"0\" y=\"236.4\" style=\"font-family: 'Open Sans', verdana, arial, sans-serif; font-size: 12px; fill: rgb(36, 36, 36); fill-opacity: 1; white-space: pre; opacity: 1;\" transform=\"translate(212.5,0)\">0</text></g><g class=\"xtick\"><text text-anchor=\"middle\" x=\"0\" y=\"236.4\" style=\"font-family: 'Open Sans', verdana, arial, sans-serif; font-size: 12px; fill: rgb(36, 36, 36); fill-opacity: 1; white-space: pre; opacity: 1;\" transform=\"translate(283.5,0)\">2</text></g><g class=\"xtick\"><text text-anchor=\"middle\" x=\"0\" y=\"236.4\" style=\"font-family: 'Open Sans', verdana, arial, sans-serif; font-size: 12px; fill: rgb(36, 36, 36); fill-opacity: 1; white-space: pre; opacity: 1;\" transform=\"translate(354.5,0)\">4</text></g></g><g class=\"yaxislayer-above\"><path class=\"ytick ticks crisp\" d=\"M34,0h-5\" transform=\"translate(0,206.96)\" style=\"stroke: rgb(68, 68, 68); stroke-opacity: 1; stroke-width: 1px;\"/><path class=\"ytick ticks crisp\" d=\"M34,0h-5\" transform=\"translate(0,169.37)\" style=\"stroke: rgb(68, 68, 68); stroke-opacity: 1; stroke-width: 1px;\"/><path class=\"ytick ticks crisp\" d=\"M34,0h-5\" transform=\"translate(0,131.79000000000002)\" style=\"stroke: rgb(68, 68, 68); stroke-opacity: 1; stroke-width: 1px;\"/><path class=\"ytick ticks crisp\" d=\"M34,0h-5\" transform=\"translate(0,94.21)\" style=\"stroke: rgb(68, 68, 68); stroke-opacity: 1; stroke-width: 1px;\"/><path class=\"ytick ticks crisp\" d=\"M34,0h-5\" transform=\"translate(0,56.63)\" style=\"stroke: rgb(68, 68, 68); stroke-opacity: 1; stroke-width: 1px;\"/><path class=\"ytick ticks crisp\" d=\"M34,0h-5\" transform=\"translate(0,19.04)\" style=\"stroke: rgb(68, 68, 68); stroke-opacity: 1; stroke-width: 1px;\"/><g class=\"ytick\"><text text-anchor=\"end\" x=\"26.6\" y=\"4.199999999999999\" transform=\"translate(0,206.96)\" style=\"font-family: 'Open Sans', verdana, arial, sans-serif; font-size: 12px; fill: rgb(36, 36, 36); fill-opacity: 1; white-space: pre; opacity: 1;\">0</text></g><g class=\"ytick\"><text text-anchor=\"end\" x=\"26.6\" y=\"4.199999999999999\" style=\"font-family: 'Open Sans', verdana, arial, sans-serif; font-size: 12px; fill: rgb(36, 36, 36); fill-opacity: 1; white-space: pre; opacity: 1;\" transform=\"translate(0,169.37)\">0.2</text></g><g class=\"ytick\"><text text-anchor=\"end\" x=\"26.6\" y=\"4.199999999999999\" style=\"font-family: 'Open Sans', verdana, arial, sans-serif; font-size: 12px; fill: rgb(36, 36, 36); fill-opacity: 1; white-space: pre; opacity: 1;\" transform=\"translate(0,131.79000000000002)\">0.4</text></g><g class=\"ytick\"><text text-anchor=\"end\" x=\"26.6\" y=\"4.199999999999999\" style=\"font-family: 'Open Sans', verdana, arial, sans-serif; font-size: 12px; fill: rgb(36, 36, 36); fill-opacity: 1; white-space: pre; opacity: 1;\" transform=\"translate(0,94.21)\">0.6</text></g><g class=\"ytick\"><text text-anchor=\"end\" x=\"26.6\" y=\"4.199999999999999\" style=\"font-family: 'Open Sans', verdana, arial, sans-serif; font-size: 12px; fill: rgb(36, 36, 36); fill-opacity: 1; white-space: pre; opacity: 1;\" transform=\"translate(0,56.63)\">0.8</text></g><g class=\"ytick\"><text text-anchor=\"end\" x=\"26.6\" y=\"4.199999999999999\" style=\"font-family: 'Open Sans', verdana, arial, sans-serif; font-size: 12px; fill: rgb(36, 36, 36); fill-opacity: 1; white-space: pre; opacity: 1;\" transform=\"translate(0,19.04)\">1</text></g></g><g class=\"overaxes-above\"/></g></g><g class=\"polarlayer\"/><g class=\"smithlayer\"/><g class=\"ternarylayer\"/><g class=\"geolayer\"/><g class=\"funnelarealayer\"/><g class=\"pielayer\"/><g class=\"iciclelayer\"/><g class=\"treemaplayer\"/><g class=\"sunburstlayer\"/><g class=\"glimages\"/><defs id=\"topdefs-8c9e3d\"><g class=\"clips\"/></defs><g class=\"layer-above\"><g class=\"imagelayer\"/><g class=\"shapelayer\"/></g><g class=\"infolayer\"><g class=\"g-gtitle\"/><g class=\"g-xtitle\"/><g class=\"g-ytitle\"/></g></svg>"
      ]
     },
     "metadata": {},
     "output_type": "display_data"
    }
   ],
   "source": [
    "t = np.linspace(-5,5,50)\n",
    "sigmoid_line = go.Scatter(name=\"Logistic Function\",\n",
    "    x=t, y=logistic(t), mode=\"lines\")\n",
    "\n",
    "fig = go.Figure([sigmoid_line])      \n",
    "fig.update_layout(width=400, height=250)\n",
    "fig"
   ]
  },
  {
   "cell_type": "markdown",
   "metadata": {},
   "source": [
    "Since the logistic function maps to the interval between 0 and 1, it is commonly used when modeling probabilities. And, we can write the logistic model as a function of a line, $\\theta_0 + \\theta_1 x$:"
   ]
  },
  {
   "cell_type": "markdown",
   "metadata": {},
   "source": [
    "$$\n",
    "\\sigma\\left(\\theta_0 + \\theta_1 x\\right) = \\frac{1}{1+\\exp(-\\theta_0 - \\theta_1 x)}\n",
    "$$"
   ]
  },
  {
   "cell_type": "markdown",
   "metadata": {},
   "source": [
    "To help build your intuition for the shape of this function, the following plot shows the logistic function as we vary $\\theta_0$ and $\\theta_1$:"
   ]
  },
  {
   "cell_type": "code",
   "execution_count": 45,
   "metadata": {},
   "outputs": [
    {
     "data": {
      "application/vnd.plotly.v1+json": {
       "config": {
        "plotlyServerURL": "https://plot.ly"
       },
       "data": [
        {
         "name": "-2 + -1 x",
         "type": "scatter",
         "x": [
          -5,
          -4.795918367346939,
          -4.591836734693878,
          -4.387755102040816,
          -4.183673469387755,
          -3.979591836734694,
          -3.7755102040816326,
          -3.571428571428571,
          -3.36734693877551,
          -3.163265306122449,
          -2.9591836734693877,
          -2.7551020408163263,
          -2.5510204081632653,
          -2.3469387755102042,
          -2.142857142857143,
          -1.9387755102040813,
          -1.7346938775510203,
          -1.5306122448979593,
          -1.3265306122448979,
          -1.1224489795918364,
          -0.9183673469387754,
          -0.7142857142857144,
          -0.5102040816326525,
          -0.3061224489795915,
          -0.1020408163265305,
          0.1020408163265305,
          0.3061224489795915,
          0.5102040816326534,
          0.7142857142857144,
          0.9183673469387754,
          1.1224489795918373,
          1.3265306122448983,
          1.5306122448979593,
          1.7346938775510203,
          1.9387755102040813,
          2.1428571428571432,
          2.3469387755102042,
          2.5510204081632653,
          2.755102040816327,
          2.959183673469388,
          3.163265306122449,
          3.36734693877551,
          3.571428571428571,
          3.775510204081632,
          3.979591836734695,
          4.183673469387756,
          4.387755102040817,
          4.591836734693878,
          4.795918367346939,
          5
         ],
         "y": [
          0.9525741268224334,
          0.9424548614299819,
          0.9303343543370325,
          0.9158887903719538,
          0.8987737723518959,
          0.8786376449429102,
          0.8551415812183314,
          0.8279871670642386,
          0.7969511734148157,
          0.7619255315888127,
          0.7229583331871562,
          0.6802893905493405,
          0.6343723010841171,
          0.5858750436452654,
          0.5356536708339716,
          0.48469865693061814,
          0.4340597960291032,
          0.38476116399830324,
          0.33772042265646074,
          0.2936855245676383,
          0.2531971765857034,
          0.21657909576817594,
          0.18395236093127337,
          0.15526658480963063,
          0.13033962889780085,
          0.10889862283902968,
          0.09061717018214395,
          0.07514592477989064,
          0.062135633086429685,
          0.05125303242488787,
          0.0421906959756274,
          0.034672163431031806,
          0.028453657876082353,
          0.023323503827342336,
          0.01910012500746423,
          0.015629270047407037,
          0.012780917110651607,
          0.010446152970335543,
          0.008534206711527118,
          0.006969736830620178,
          0.0056904157090228195,
          0.004644820366812957,
          0.003790617322036654,
          0.0030930178469232342,
          0.002523474642681767,
          0.002058589620678832,
          0.0016792034801362808,
          0.0013696400463504203,
          0.0011170811931621978,
          0.0009110511944006454
         ]
        },
        {
         "name": "0 + -1 x",
         "type": "scatter",
         "x": [
          -5,
          -4.795918367346939,
          -4.591836734693878,
          -4.387755102040816,
          -4.183673469387755,
          -3.979591836734694,
          -3.7755102040816326,
          -3.571428571428571,
          -3.36734693877551,
          -3.163265306122449,
          -2.9591836734693877,
          -2.7551020408163263,
          -2.5510204081632653,
          -2.3469387755102042,
          -2.142857142857143,
          -1.9387755102040813,
          -1.7346938775510203,
          -1.5306122448979593,
          -1.3265306122448979,
          -1.1224489795918364,
          -0.9183673469387754,
          -0.7142857142857144,
          -0.5102040816326525,
          -0.3061224489795915,
          -0.1020408163265305,
          0.1020408163265305,
          0.3061224489795915,
          0.5102040816326534,
          0.7142857142857144,
          0.9183673469387754,
          1.1224489795918373,
          1.3265306122448983,
          1.5306122448979593,
          1.7346938775510203,
          1.9387755102040813,
          2.1428571428571432,
          2.3469387755102042,
          2.5510204081632653,
          2.755102040816327,
          2.959183673469388,
          3.163265306122449,
          3.36734693877551,
          3.571428571428571,
          3.775510204081632,
          3.979591836734695,
          4.183673469387756,
          4.387755102040817,
          4.591836734693878,
          4.795918367346939,
          5
         ],
         "y": [
          0.9933071490757153,
          0.9918043177546053,
          0.9899674448139867,
          0.9877239749285319,
          0.9849864309429661,
          0.9816497582943083,
          0.9775884035819675,
          0.9726532132038171,
          0.9666683134661466,
          0.9594282415769078,
          0.9506957440346279,
          0.9402008480306404,
          0.9276420366645531,
          0.9126905973613403,
          0.8949994149797352,
          0.87421755878138,
          0.8500118344412885,
          0.8220958752891444,
          0.7902661783003759,
          0.7544426944097362,
          0.7147093246243483,
          0.6713474534827301,
          0.6248543147484986,
          0.575938513848248,
          0.5254880920536781,
          0.4745119079463219,
          0.424061486151752,
          0.3751456852515011,
          0.32865254651727,
          0.2852906753756516,
          0.24555730559026365,
          0.20973382169962393,
          0.1779041247108555,
          0.14998816555871142,
          0.12578244121862014,
          0.10500058502026478,
          0.08730940263865966,
          0.07235796333544683,
          0.059799151969359525,
          0.04930425596537219,
          0.040571758423092276,
          0.033331686533853294,
          0.02734678679618289,
          0.022411596418032455,
          0.018350241705691755,
          0.015013569057033835,
          0.012276025071468188,
          0.010032555186013372,
          0.008195682245394699,
          0.0066928509242848554
         ]
        },
        {
         "name": "2 + -1 x",
         "type": "scatter",
         "x": [
          -5,
          -4.795918367346939,
          -4.591836734693878,
          -4.387755102040816,
          -4.183673469387755,
          -3.979591836734694,
          -3.7755102040816326,
          -3.571428571428571,
          -3.36734693877551,
          -3.163265306122449,
          -2.9591836734693877,
          -2.7551020408163263,
          -2.5510204081632653,
          -2.3469387755102042,
          -2.142857142857143,
          -1.9387755102040813,
          -1.7346938775510203,
          -1.5306122448979593,
          -1.3265306122448979,
          -1.1224489795918364,
          -0.9183673469387754,
          -0.7142857142857144,
          -0.5102040816326525,
          -0.3061224489795915,
          -0.1020408163265305,
          0.1020408163265305,
          0.3061224489795915,
          0.5102040816326534,
          0.7142857142857144,
          0.9183673469387754,
          1.1224489795918373,
          1.3265306122448983,
          1.5306122448979593,
          1.7346938775510203,
          1.9387755102040813,
          2.1428571428571432,
          2.3469387755102042,
          2.5510204081632653,
          2.755102040816327,
          2.959183673469388,
          3.163265306122449,
          3.36734693877551,
          3.571428571428571,
          3.775510204081632,
          3.979591836734695,
          4.183673469387756,
          4.387755102040817,
          4.591836734693878,
          4.795918367346939,
          5
         ],
         "y": [
          0.9990889488055994,
          0.9988829188068378,
          0.9986303599536496,
          0.9983207965198637,
          0.997941410379321,
          0.9974765253573182,
          0.9969069821530767,
          0.9962093826779632,
          0.995355179633187,
          0.9943095842909772,
          0.9930302631693799,
          0.9914657932884728,
          0.9895538470296645,
          0.9872190828893485,
          0.9843707299525929,
          0.9808998749925357,
          0.9766764961726577,
          0.9715463421239177,
          0.9653278365689683,
          0.9578093040243725,
          0.948746967575112,
          0.9378643669135703,
          0.9248540752201094,
          0.9093828298178561,
          0.8911013771609704,
          0.8696603711021992,
          0.8447334151903693,
          0.8160476390687265,
          0.783420904231824,
          0.7468028234142966,
          0.7063144754323615,
          0.6622795773435391,
          0.6152388360016968,
          0.5659402039708967,
          0.5153013430693819,
          0.46434632916602836,
          0.41412495635473456,
          0.36562769891588276,
          0.3197106094506593,
          0.27704166681284376,
          0.23807446841118726,
          0.20304882658518425,
          0.17201283293576136,
          0.14485841878166855,
          0.12136235505708977,
          0.10122622764810389,
          0.0841112096280462,
          0.06966564566296751,
          0.05754513857001805,
          0.04742587317756678
         ]
        },
        {
         "name": "-2 + 1 x",
         "type": "scatter",
         "x": [
          -5,
          -4.795918367346939,
          -4.591836734693878,
          -4.387755102040816,
          -4.183673469387755,
          -3.979591836734694,
          -3.7755102040816326,
          -3.571428571428571,
          -3.36734693877551,
          -3.163265306122449,
          -2.9591836734693877,
          -2.7551020408163263,
          -2.5510204081632653,
          -2.3469387755102042,
          -2.142857142857143,
          -1.9387755102040813,
          -1.7346938775510203,
          -1.5306122448979593,
          -1.3265306122448979,
          -1.1224489795918364,
          -0.9183673469387754,
          -0.7142857142857144,
          -0.5102040816326525,
          -0.3061224489795915,
          -0.1020408163265305,
          0.1020408163265305,
          0.3061224489795915,
          0.5102040816326534,
          0.7142857142857144,
          0.9183673469387754,
          1.1224489795918373,
          1.3265306122448983,
          1.5306122448979593,
          1.7346938775510203,
          1.9387755102040813,
          2.1428571428571432,
          2.3469387755102042,
          2.5510204081632653,
          2.755102040816327,
          2.959183673469388,
          3.163265306122449,
          3.36734693877551,
          3.571428571428571,
          3.775510204081632,
          3.979591836734695,
          4.183673469387756,
          4.387755102040817,
          4.591836734693878,
          4.795918367346939,
          5
         ],
         "y": [
          0.0009110511944006454,
          0.0011170811931621978,
          0.0013696400463504203,
          0.001679203480136282,
          0.002058589620678834,
          0.0025234746426817693,
          0.0030930178469232342,
          0.003790617322036654,
          0.004644820366812957,
          0.0056904157090228195,
          0.006969736830620178,
          0.008534206711527124,
          0.010446152970335543,
          0.012780917110651607,
          0.015629270047407048,
          0.01910012500746423,
          0.023323503827342336,
          0.028453657876082353,
          0.03467216343103182,
          0.04219069597562743,
          0.05125303242488787,
          0.062135633086429685,
          0.0751459247798907,
          0.09061717018214395,
          0.10889862283902968,
          0.13033962889780085,
          0.15526658480963063,
          0.18395236093127348,
          0.21657909576817594,
          0.2531971765857034,
          0.2936855245676385,
          0.33772042265646085,
          0.38476116399830324,
          0.4340597960291032,
          0.48469865693061814,
          0.5356536708339718,
          0.5858750436452654,
          0.6343723010841171,
          0.6802893905493407,
          0.7229583331871563,
          0.7619255315888127,
          0.7969511734148157,
          0.8279871670642386,
          0.8551415812183314,
          0.8786376449429102,
          0.8987737723518961,
          0.9158887903719538,
          0.9303343543370325,
          0.9424548614299819,
          0.9525741268224334
         ]
        },
        {
         "name": "0 + 1 x",
         "type": "scatter",
         "x": [
          -5,
          -4.795918367346939,
          -4.591836734693878,
          -4.387755102040816,
          -4.183673469387755,
          -3.979591836734694,
          -3.7755102040816326,
          -3.571428571428571,
          -3.36734693877551,
          -3.163265306122449,
          -2.9591836734693877,
          -2.7551020408163263,
          -2.5510204081632653,
          -2.3469387755102042,
          -2.142857142857143,
          -1.9387755102040813,
          -1.7346938775510203,
          -1.5306122448979593,
          -1.3265306122448979,
          -1.1224489795918364,
          -0.9183673469387754,
          -0.7142857142857144,
          -0.5102040816326525,
          -0.3061224489795915,
          -0.1020408163265305,
          0.1020408163265305,
          0.3061224489795915,
          0.5102040816326534,
          0.7142857142857144,
          0.9183673469387754,
          1.1224489795918373,
          1.3265306122448983,
          1.5306122448979593,
          1.7346938775510203,
          1.9387755102040813,
          2.1428571428571432,
          2.3469387755102042,
          2.5510204081632653,
          2.755102040816327,
          2.959183673469388,
          3.163265306122449,
          3.36734693877551,
          3.571428571428571,
          3.775510204081632,
          3.979591836734695,
          4.183673469387756,
          4.387755102040817,
          4.591836734693878,
          4.795918367346939,
          5
         ],
         "y": [
          0.0066928509242848554,
          0.008195682245394699,
          0.010032555186013372,
          0.012276025071468199,
          0.015013569057033847,
          0.018350241705691772,
          0.022411596418032444,
          0.02734678679618289,
          0.033331686533853294,
          0.040571758423092276,
          0.04930425596537221,
          0.059799151969359574,
          0.07235796333544683,
          0.08730940263865966,
          0.10500058502026482,
          0.12578244121862014,
          0.14998816555871142,
          0.1779041247108555,
          0.209733821699624,
          0.2455573055902638,
          0.2852906753756516,
          0.32865254651727,
          0.3751456852515014,
          0.424061486151752,
          0.4745119079463219,
          0.5254880920536781,
          0.575938513848248,
          0.6248543147484988,
          0.6713474534827301,
          0.7147093246243483,
          0.7544426944097363,
          0.790266178300376,
          0.8220958752891444,
          0.8500118344412885,
          0.87421755878138,
          0.8949994149797352,
          0.9126905973613403,
          0.9276420366645531,
          0.9402008480306404,
          0.9506957440346279,
          0.9594282415769078,
          0.9666683134661466,
          0.9726532132038171,
          0.9775884035819675,
          0.9816497582943083,
          0.9849864309429661,
          0.9877239749285319,
          0.9899674448139867,
          0.9918043177546053,
          0.9933071490757153
         ]
        },
        {
         "name": "2 + 1 x",
         "type": "scatter",
         "x": [
          -5,
          -4.795918367346939,
          -4.591836734693878,
          -4.387755102040816,
          -4.183673469387755,
          -3.979591836734694,
          -3.7755102040816326,
          -3.571428571428571,
          -3.36734693877551,
          -3.163265306122449,
          -2.9591836734693877,
          -2.7551020408163263,
          -2.5510204081632653,
          -2.3469387755102042,
          -2.142857142857143,
          -1.9387755102040813,
          -1.7346938775510203,
          -1.5306122448979593,
          -1.3265306122448979,
          -1.1224489795918364,
          -0.9183673469387754,
          -0.7142857142857144,
          -0.5102040816326525,
          -0.3061224489795915,
          -0.1020408163265305,
          0.1020408163265305,
          0.3061224489795915,
          0.5102040816326534,
          0.7142857142857144,
          0.9183673469387754,
          1.1224489795918373,
          1.3265306122448983,
          1.5306122448979593,
          1.7346938775510203,
          1.9387755102040813,
          2.1428571428571432,
          2.3469387755102042,
          2.5510204081632653,
          2.755102040816327,
          2.959183673469388,
          3.163265306122449,
          3.36734693877551,
          3.571428571428571,
          3.775510204081632,
          3.979591836734695,
          4.183673469387756,
          4.387755102040817,
          4.591836734693878,
          4.795918367346939,
          5
         ],
         "y": [
          0.04742587317756678,
          0.05754513857001805,
          0.06966564566296751,
          0.08411120962804627,
          0.10122622764810399,
          0.12136235505708985,
          0.1448584187816685,
          0.17201283293576136,
          0.20304882658518425,
          0.23807446841118726,
          0.2770416668128438,
          0.3197106094506595,
          0.36562769891588276,
          0.41412495635473456,
          0.46434632916602836,
          0.5153013430693819,
          0.5659402039708967,
          0.6152388360016968,
          0.6622795773435391,
          0.7063144754323617,
          0.7468028234142966,
          0.783420904231824,
          0.8160476390687267,
          0.8447334151903693,
          0.8696603711021992,
          0.8911013771609704,
          0.9093828298178561,
          0.9248540752201094,
          0.9378643669135703,
          0.948746967575112,
          0.9578093040243727,
          0.9653278365689683,
          0.9715463421239177,
          0.9766764961726577,
          0.9808998749925357,
          0.9843707299525929,
          0.9872190828893485,
          0.9895538470296645,
          0.9914657932884728,
          0.9930302631693799,
          0.9943095842909772,
          0.995355179633187,
          0.9962093826779632,
          0.9969069821530767,
          0.9974765253573182,
          0.997941410379321,
          0.9983207965198637,
          0.9986303599536496,
          0.9988829188068378,
          0.9990889488055994
         ]
        },
        {
         "name": "-2 + 5 x",
         "type": "scatter",
         "x": [
          -5,
          -4.795918367346939,
          -4.591836734693878,
          -4.387755102040816,
          -4.183673469387755,
          -3.979591836734694,
          -3.7755102040816326,
          -3.571428571428571,
          -3.36734693877551,
          -3.163265306122449,
          -2.9591836734693877,
          -2.7551020408163263,
          -2.5510204081632653,
          -2.3469387755102042,
          -2.142857142857143,
          -1.9387755102040813,
          -1.7346938775510203,
          -1.5306122448979593,
          -1.3265306122448979,
          -1.1224489795918364,
          -0.9183673469387754,
          -0.7142857142857144,
          -0.5102040816326525,
          -0.3061224489795915,
          -0.1020408163265305,
          0.1020408163265305,
          0.3061224489795915,
          0.5102040816326534,
          0.7142857142857144,
          0.9183673469387754,
          1.1224489795918373,
          1.3265306122448983,
          1.5306122448979593,
          1.7346938775510203,
          1.9387755102040813,
          2.1428571428571432,
          2.3469387755102042,
          2.5510204081632653,
          2.755102040816327,
          2.959183673469388,
          3.163265306122449,
          3.36734693877551,
          3.571428571428571,
          3.775510204081632,
          3.979591836734695,
          4.183673469387756,
          4.387755102040817,
          4.591836734693878,
          4.795918367346939,
          5
         ],
         "y": [
          1.8795288165355508e-12,
          5.214427376128013e-12,
          1.4466526196108515e-11,
          4.0134872936836414e-11,
          1.1134725805950164e-10,
          3.089136944650301e-10,
          8.57027575331831e-10,
          2.3776746622930383e-09,
          6.596446773918516e-09,
          1.8300699589177413e-08,
          5.077212171593351e-08,
          1.408584509272982e-07,
          3.907872934126111e-07,
          1.0841709529338017e-06,
          3.0078388649967767e-06,
          8.344683773147019e-06,
          2.3150537986113917e-05,
          6.422452241784402e-05,
          0.00017815951868354005,
          0.0004941165503973957,
          0.0013696400463504214,
          0.003790617322036651,
          0.01044615297033557,
          0.028453657876082398,
          0.0751459247798907,
          0.18395236093127337,
          0.3847611639983028,
          0.6343723010841176,
          0.8279871670642388,
          0.9303343543370325,
          0.973718190863525,
          0.9903648263409561,
          0.9965054890985732,
          0.9987375898849901,
          0.999544599385677,
          0.9998358040331602,
          0.9999408097111716,
          0.9999786641836119,
          0.9999923094472246,
          0.9999972279436247,
          0.9999990008166383,
          0.9999996398463367,
          0.9999998701833785,
          0.999999953207882,
          0.999999983133884,
          0.9999999939206456,
          0.9999999978087102,
          0.9999999992101545,
          0.999999999715302,
          0.9999999998973812
         ]
        },
        {
         "name": "0 + 5 x",
         "type": "scatter",
         "x": [
          -5,
          -4.795918367346939,
          -4.591836734693878,
          -4.387755102040816,
          -4.183673469387755,
          -3.979591836734694,
          -3.7755102040816326,
          -3.571428571428571,
          -3.36734693877551,
          -3.163265306122449,
          -2.9591836734693877,
          -2.7551020408163263,
          -2.5510204081632653,
          -2.3469387755102042,
          -2.142857142857143,
          -1.9387755102040813,
          -1.7346938775510203,
          -1.5306122448979593,
          -1.3265306122448979,
          -1.1224489795918364,
          -0.9183673469387754,
          -0.7142857142857144,
          -0.5102040816326525,
          -0.3061224489795915,
          -0.1020408163265305,
          0.1020408163265305,
          0.3061224489795915,
          0.5102040816326534,
          0.7142857142857144,
          0.9183673469387754,
          1.1224489795918373,
          1.3265306122448983,
          1.5306122448979593,
          1.7346938775510203,
          1.9387755102040813,
          2.1428571428571432,
          2.3469387755102042,
          2.5510204081632653,
          2.755102040816327,
          2.959183673469388,
          3.163265306122449,
          3.36734693877551,
          3.571428571428571,
          3.775510204081632,
          3.979591836734695,
          4.183673469387756,
          4.387755102040817,
          4.591836734693878,
          4.795918367346939,
          5
         ],
         "y": [
          1.3887943864771144e-11,
          3.8529696404726013e-11,
          1.0689397360981571e-10,
          2.9655882757769305e-10,
          8.227511356784573e-10,
          2.2825806136249757e-09,
          6.33262479778251e-09,
          1.7568771197800345e-08,
          4.874151321187961e-08,
          1.3522488010304834e-07,
          3.7515793392481106e-07,
          1.040810059230615e-06,
          2.887542024270028e-06,
          8.01094450161596e-06,
          2.222466301307212e-05,
          6.165604935675795e-05,
          0.00017103532605005042,
          0.00047436395137849156,
          0.001314933926745793,
          0.0036395650278466946,
          0.01003255518601338,
          0.027346786796182864,
          0.072357963335447,
          0.17790412471085576,
          0.3751456852515014,
          0.6248543147484986,
          0.8220958752891443,
          0.9276420366645534,
          0.9726532132038171,
          0.9899674448139867,
          0.9963604349721534,
          0.9986850660732542,
          0.9995256360486215,
          0.9998289646739499,
          0.9999383439506432,
          0.999977775336987,
          0.9999919890554985,
          0.9999971124579757,
          0.9999989591899406,
          0.9999996248420662,
          0.9999998647751199,
          0.9999999512584868,
          0.9999999824312288,
          0.9999999936673751,
          0.9999999977174194,
          0.9999999991772488,
          0.9999999997034412,
          0.999999999893106,
          0.9999999999614704,
          0.999999999986112
         ]
        },
        {
         "name": "2 + 5 x",
         "type": "scatter",
         "x": [
          -5,
          -4.795918367346939,
          -4.591836734693878,
          -4.387755102040816,
          -4.183673469387755,
          -3.979591836734694,
          -3.7755102040816326,
          -3.571428571428571,
          -3.36734693877551,
          -3.163265306122449,
          -2.9591836734693877,
          -2.7551020408163263,
          -2.5510204081632653,
          -2.3469387755102042,
          -2.142857142857143,
          -1.9387755102040813,
          -1.7346938775510203,
          -1.5306122448979593,
          -1.3265306122448979,
          -1.1224489795918364,
          -0.9183673469387754,
          -0.7142857142857144,
          -0.5102040816326525,
          -0.3061224489795915,
          -0.1020408163265305,
          0.1020408163265305,
          0.3061224489795915,
          0.5102040816326534,
          0.7142857142857144,
          0.9183673469387754,
          1.1224489795918373,
          1.3265306122448983,
          1.5306122448979593,
          1.7346938775510203,
          1.9387755102040813,
          2.1428571428571432,
          2.3469387755102042,
          2.5510204081632653,
          2.755102040816327,
          2.959183673469388,
          3.163265306122449,
          3.36734693877551,
          3.571428571428571,
          3.775510204081632,
          3.979591836734695,
          4.183673469387756,
          4.387755102040817,
          4.591836734693878,
          4.795918367346939,
          5
         ],
         "y": [
          1.0261879630648827e-10,
          2.846980881392034e-10,
          7.898455671011146e-10,
          2.1912898094527708e-09,
          6.07935426503027e-09,
          1.6866115958438893e-08,
          4.679211799110886e-08,
          1.2981662139818522e-07,
          3.601536633130808e-07,
          9.991833617987925e-07,
          2.772056375373323e-06,
          7.690552775395745e-06,
          2.133581638795836e-05,
          5.919028882837066e-05,
          0.00016419596683970396,
          0.0004554006143229704,
          0.0012624101150099723,
          0.003494510901426813,
          0.009635173659044026,
          0.0262818091364752,
          0.06966564566296757,
          0.17201283293576125,
          0.3656276989158834,
          0.6152388360016972,
          0.8160476390687267,
          0.9248540752201094,
          0.9715463421239177,
          0.9895538470296645,
          0.9962093826779632,
          0.9986303599536496,
          0.9995058834496026,
          0.9998218404813165,
          0.9999357754775821,
          0.9999768494620139,
          0.9999916553162269,
          0.999996992161135,
          0.9999989158290471,
          0.9999996092127066,
          0.9999998591415492,
          0.9999999492278783,
          0.9999999816993005,
          0.9999999934035533,
          0.9999999976223253,
          0.9999999991429724,
          0.9999999996910862,
          0.9999999998886528,
          0.9999999999598652,
          0.9999999999855336,
          0.9999999999947855,
          0.9999999999981204
         ]
        }
       ],
       "layout": {
        "height": 250,
        "template": {
         "data": {
          "bar": [
           {
            "error_x": {
             "color": "rgb(36,36,36)"
            },
            "error_y": {
             "color": "rgb(36,36,36)"
            },
            "marker": {
             "line": {
              "color": "white",
              "width": 0.5
             },
             "pattern": {
              "fillmode": "overlay",
              "size": 10,
              "solidity": 0.2
             }
            },
            "type": "bar"
           }
          ],
          "barpolar": [
           {
            "marker": {
             "line": {
              "color": "white",
              "width": 0.5
             },
             "pattern": {
              "fillmode": "overlay",
              "size": 10,
              "solidity": 0.2
             }
            },
            "type": "barpolar"
           }
          ],
          "carpet": [
           {
            "aaxis": {
             "endlinecolor": "rgb(36,36,36)",
             "gridcolor": "white",
             "linecolor": "white",
             "minorgridcolor": "white",
             "startlinecolor": "rgb(36,36,36)"
            },
            "baxis": {
             "endlinecolor": "rgb(36,36,36)",
             "gridcolor": "white",
             "linecolor": "white",
             "minorgridcolor": "white",
             "startlinecolor": "rgb(36,36,36)"
            },
            "type": "carpet"
           }
          ],
          "choropleth": [
           {
            "colorbar": {
             "outlinewidth": 1,
             "tickcolor": "rgb(36,36,36)",
             "ticks": "outside"
            },
            "type": "choropleth"
           }
          ],
          "contour": [
           {
            "colorbar": {
             "outlinewidth": 1,
             "tickcolor": "rgb(36,36,36)",
             "ticks": "outside"
            },
            "colorscale": [
             [
              0,
              "#440154"
             ],
             [
              0.1111111111111111,
              "#482878"
             ],
             [
              0.2222222222222222,
              "#3e4989"
             ],
             [
              0.3333333333333333,
              "#31688e"
             ],
             [
              0.4444444444444444,
              "#26828e"
             ],
             [
              0.5555555555555556,
              "#1f9e89"
             ],
             [
              0.6666666666666666,
              "#35b779"
             ],
             [
              0.7777777777777778,
              "#6ece58"
             ],
             [
              0.8888888888888888,
              "#b5de2b"
             ],
             [
              1,
              "#fde725"
             ]
            ],
            "type": "contour"
           }
          ],
          "contourcarpet": [
           {
            "colorbar": {
             "outlinewidth": 1,
             "tickcolor": "rgb(36,36,36)",
             "ticks": "outside"
            },
            "type": "contourcarpet"
           }
          ],
          "heatmap": [
           {
            "colorbar": {
             "outlinewidth": 1,
             "tickcolor": "rgb(36,36,36)",
             "ticks": "outside"
            },
            "colorscale": [
             [
              0,
              "#440154"
             ],
             [
              0.1111111111111111,
              "#482878"
             ],
             [
              0.2222222222222222,
              "#3e4989"
             ],
             [
              0.3333333333333333,
              "#31688e"
             ],
             [
              0.4444444444444444,
              "#26828e"
             ],
             [
              0.5555555555555556,
              "#1f9e89"
             ],
             [
              0.6666666666666666,
              "#35b779"
             ],
             [
              0.7777777777777778,
              "#6ece58"
             ],
             [
              0.8888888888888888,
              "#b5de2b"
             ],
             [
              1,
              "#fde725"
             ]
            ],
            "type": "heatmap"
           }
          ],
          "heatmapgl": [
           {
            "colorbar": {
             "outlinewidth": 1,
             "tickcolor": "rgb(36,36,36)",
             "ticks": "outside"
            },
            "colorscale": [
             [
              0,
              "#440154"
             ],
             [
              0.1111111111111111,
              "#482878"
             ],
             [
              0.2222222222222222,
              "#3e4989"
             ],
             [
              0.3333333333333333,
              "#31688e"
             ],
             [
              0.4444444444444444,
              "#26828e"
             ],
             [
              0.5555555555555556,
              "#1f9e89"
             ],
             [
              0.6666666666666666,
              "#35b779"
             ],
             [
              0.7777777777777778,
              "#6ece58"
             ],
             [
              0.8888888888888888,
              "#b5de2b"
             ],
             [
              1,
              "#fde725"
             ]
            ],
            "type": "heatmapgl"
           }
          ],
          "histogram": [
           {
            "marker": {
             "line": {
              "color": "white",
              "width": 0.6
             }
            },
            "type": "histogram"
           }
          ],
          "histogram2d": [
           {
            "colorbar": {
             "outlinewidth": 1,
             "tickcolor": "rgb(36,36,36)",
             "ticks": "outside"
            },
            "colorscale": [
             [
              0,
              "#440154"
             ],
             [
              0.1111111111111111,
              "#482878"
             ],
             [
              0.2222222222222222,
              "#3e4989"
             ],
             [
              0.3333333333333333,
              "#31688e"
             ],
             [
              0.4444444444444444,
              "#26828e"
             ],
             [
              0.5555555555555556,
              "#1f9e89"
             ],
             [
              0.6666666666666666,
              "#35b779"
             ],
             [
              0.7777777777777778,
              "#6ece58"
             ],
             [
              0.8888888888888888,
              "#b5de2b"
             ],
             [
              1,
              "#fde725"
             ]
            ],
            "type": "histogram2d"
           }
          ],
          "histogram2dcontour": [
           {
            "colorbar": {
             "outlinewidth": 1,
             "tickcolor": "rgb(36,36,36)",
             "ticks": "outside"
            },
            "colorscale": [
             [
              0,
              "#440154"
             ],
             [
              0.1111111111111111,
              "#482878"
             ],
             [
              0.2222222222222222,
              "#3e4989"
             ],
             [
              0.3333333333333333,
              "#31688e"
             ],
             [
              0.4444444444444444,
              "#26828e"
             ],
             [
              0.5555555555555556,
              "#1f9e89"
             ],
             [
              0.6666666666666666,
              "#35b779"
             ],
             [
              0.7777777777777778,
              "#6ece58"
             ],
             [
              0.8888888888888888,
              "#b5de2b"
             ],
             [
              1,
              "#fde725"
             ]
            ],
            "type": "histogram2dcontour"
           }
          ],
          "mesh3d": [
           {
            "colorbar": {
             "outlinewidth": 1,
             "tickcolor": "rgb(36,36,36)",
             "ticks": "outside"
            },
            "type": "mesh3d"
           }
          ],
          "parcoords": [
           {
            "line": {
             "colorbar": {
              "outlinewidth": 1,
              "tickcolor": "rgb(36,36,36)",
              "ticks": "outside"
             }
            },
            "type": "parcoords"
           }
          ],
          "pie": [
           {
            "automargin": true,
            "type": "pie"
           }
          ],
          "scatter": [
           {
            "marker": {
             "colorbar": {
              "outlinewidth": 1,
              "tickcolor": "rgb(36,36,36)",
              "ticks": "outside"
             }
            },
            "type": "scatter"
           }
          ],
          "scatter3d": [
           {
            "line": {
             "colorbar": {
              "outlinewidth": 1,
              "tickcolor": "rgb(36,36,36)",
              "ticks": "outside"
             }
            },
            "marker": {
             "colorbar": {
              "outlinewidth": 1,
              "tickcolor": "rgb(36,36,36)",
              "ticks": "outside"
             }
            },
            "type": "scatter3d"
           }
          ],
          "scattercarpet": [
           {
            "marker": {
             "colorbar": {
              "outlinewidth": 1,
              "tickcolor": "rgb(36,36,36)",
              "ticks": "outside"
             }
            },
            "type": "scattercarpet"
           }
          ],
          "scattergeo": [
           {
            "marker": {
             "colorbar": {
              "outlinewidth": 1,
              "tickcolor": "rgb(36,36,36)",
              "ticks": "outside"
             }
            },
            "type": "scattergeo"
           }
          ],
          "scattergl": [
           {
            "marker": {
             "colorbar": {
              "outlinewidth": 1,
              "tickcolor": "rgb(36,36,36)",
              "ticks": "outside"
             }
            },
            "type": "scattergl"
           }
          ],
          "scattermapbox": [
           {
            "marker": {
             "colorbar": {
              "outlinewidth": 1,
              "tickcolor": "rgb(36,36,36)",
              "ticks": "outside"
             }
            },
            "type": "scattermapbox"
           }
          ],
          "scatterpolar": [
           {
            "marker": {
             "colorbar": {
              "outlinewidth": 1,
              "tickcolor": "rgb(36,36,36)",
              "ticks": "outside"
             }
            },
            "type": "scatterpolar"
           }
          ],
          "scatterpolargl": [
           {
            "marker": {
             "colorbar": {
              "outlinewidth": 1,
              "tickcolor": "rgb(36,36,36)",
              "ticks": "outside"
             }
            },
            "type": "scatterpolargl"
           }
          ],
          "scatterternary": [
           {
            "marker": {
             "colorbar": {
              "outlinewidth": 1,
              "tickcolor": "rgb(36,36,36)",
              "ticks": "outside"
             }
            },
            "type": "scatterternary"
           }
          ],
          "surface": [
           {
            "colorbar": {
             "outlinewidth": 1,
             "tickcolor": "rgb(36,36,36)",
             "ticks": "outside"
            },
            "colorscale": [
             [
              0,
              "#440154"
             ],
             [
              0.1111111111111111,
              "#482878"
             ],
             [
              0.2222222222222222,
              "#3e4989"
             ],
             [
              0.3333333333333333,
              "#31688e"
             ],
             [
              0.4444444444444444,
              "#26828e"
             ],
             [
              0.5555555555555556,
              "#1f9e89"
             ],
             [
              0.6666666666666666,
              "#35b779"
             ],
             [
              0.7777777777777778,
              "#6ece58"
             ],
             [
              0.8888888888888888,
              "#b5de2b"
             ],
             [
              1,
              "#fde725"
             ]
            ],
            "type": "surface"
           }
          ],
          "table": [
           {
            "cells": {
             "fill": {
              "color": "rgb(237,237,237)"
             },
             "line": {
              "color": "white"
             }
            },
            "header": {
             "fill": {
              "color": "rgb(217,217,217)"
             },
             "line": {
              "color": "white"
             }
            },
            "type": "table"
           }
          ]
         },
         "layout": {
          "annotationdefaults": {
           "arrowhead": 0,
           "arrowwidth": 1
          },
          "autosize": true,
          "autotypenumbers": "strict",
          "coloraxis": {
           "colorbar": {
            "outlinewidth": 1,
            "tickcolor": "rgb(36,36,36)",
            "ticks": "outside"
           }
          },
          "colorscale": {
           "diverging": [
            [
             0,
             "rgb(103,0,31)"
            ],
            [
             0.1,
             "rgb(178,24,43)"
            ],
            [
             0.2,
             "rgb(214,96,77)"
            ],
            [
             0.3,
             "rgb(244,165,130)"
            ],
            [
             0.4,
             "rgb(253,219,199)"
            ],
            [
             0.5,
             "rgb(247,247,247)"
            ],
            [
             0.6,
             "rgb(209,229,240)"
            ],
            [
             0.7,
             "rgb(146,197,222)"
            ],
            [
             0.8,
             "rgb(67,147,195)"
            ],
            [
             0.9,
             "rgb(33,102,172)"
            ],
            [
             1,
             "rgb(5,48,97)"
            ]
           ],
           "sequential": [
            [
             0,
             "#440154"
            ],
            [
             0.1111111111111111,
             "#482878"
            ],
            [
             0.2222222222222222,
             "#3e4989"
            ],
            [
             0.3333333333333333,
             "#31688e"
            ],
            [
             0.4444444444444444,
             "#26828e"
            ],
            [
             0.5555555555555556,
             "#1f9e89"
            ],
            [
             0.6666666666666666,
             "#35b779"
            ],
            [
             0.7777777777777778,
             "#6ece58"
            ],
            [
             0.8888888888888888,
             "#b5de2b"
            ],
            [
             1,
             "#fde725"
            ]
           ],
           "sequentialminus": [
            [
             0,
             "#440154"
            ],
            [
             0.1111111111111111,
             "#482878"
            ],
            [
             0.2222222222222222,
             "#3e4989"
            ],
            [
             0.3333333333333333,
             "#31688e"
            ],
            [
             0.4444444444444444,
             "#26828e"
            ],
            [
             0.5555555555555556,
             "#1f9e89"
            ],
            [
             0.6666666666666666,
             "#35b779"
            ],
            [
             0.7777777777777778,
             "#6ece58"
            ],
            [
             0.8888888888888888,
             "#b5de2b"
            ],
            [
             1,
             "#fde725"
            ]
           ]
          },
          "colorway": [
           "#1F77B4",
           "#FF7F0E",
           "#2CA02C",
           "#D62728",
           "#9467BD",
           "#8C564B",
           "#E377C2",
           "#7F7F7F",
           "#BCBD22",
           "#17BECF"
          ],
          "font": {
           "color": "rgb(36,36,36)"
          },
          "geo": {
           "bgcolor": "white",
           "lakecolor": "white",
           "landcolor": "white",
           "showlakes": true,
           "showland": true,
           "subunitcolor": "white"
          },
          "height": 250,
          "hoverlabel": {
           "align": "left"
          },
          "hovermode": "closest",
          "mapbox": {
           "style": "light"
          },
          "margin": {
           "b": 10,
           "l": 10,
           "r": 10,
           "t": 10
          },
          "paper_bgcolor": "white",
          "plot_bgcolor": "white",
          "polar": {
           "angularaxis": {
            "gridcolor": "rgb(232,232,232)",
            "linecolor": "rgb(36,36,36)",
            "showgrid": false,
            "showline": true,
            "ticks": "outside"
           },
           "bgcolor": "white",
           "radialaxis": {
            "gridcolor": "rgb(232,232,232)",
            "linecolor": "rgb(36,36,36)",
            "showgrid": false,
            "showline": true,
            "ticks": "outside"
           }
          },
          "scene": {
           "xaxis": {
            "backgroundcolor": "white",
            "gridcolor": "rgb(232,232,232)",
            "gridwidth": 2,
            "linecolor": "rgb(36,36,36)",
            "showbackground": true,
            "showgrid": false,
            "showline": true,
            "ticks": "outside",
            "zeroline": false,
            "zerolinecolor": "rgb(36,36,36)"
           },
           "yaxis": {
            "backgroundcolor": "white",
            "gridcolor": "rgb(232,232,232)",
            "gridwidth": 2,
            "linecolor": "rgb(36,36,36)",
            "showbackground": true,
            "showgrid": false,
            "showline": true,
            "ticks": "outside",
            "zeroline": false,
            "zerolinecolor": "rgb(36,36,36)"
           },
           "zaxis": {
            "backgroundcolor": "white",
            "gridcolor": "rgb(232,232,232)",
            "gridwidth": 2,
            "linecolor": "rgb(36,36,36)",
            "showbackground": true,
            "showgrid": false,
            "showline": true,
            "ticks": "outside",
            "zeroline": false,
            "zerolinecolor": "rgb(36,36,36)"
           }
          },
          "shapedefaults": {
           "fillcolor": "black",
           "line": {
            "width": 0
           },
           "opacity": 0.3
          },
          "ternary": {
           "aaxis": {
            "gridcolor": "rgb(232,232,232)",
            "linecolor": "rgb(36,36,36)",
            "showgrid": false,
            "showline": true,
            "ticks": "outside"
           },
           "baxis": {
            "gridcolor": "rgb(232,232,232)",
            "linecolor": "rgb(36,36,36)",
            "showgrid": false,
            "showline": true,
            "ticks": "outside"
           },
           "bgcolor": "white",
           "caxis": {
            "gridcolor": "rgb(232,232,232)",
            "linecolor": "rgb(36,36,36)",
            "showgrid": false,
            "showline": true,
            "ticks": "outside"
           }
          },
          "title": {
           "x": 0.5,
           "xanchor": "center"
          },
          "width": 350,
          "xaxis": {
           "automargin": true,
           "gridcolor": "rgb(232,232,232)",
           "linecolor": "rgb(36,36,36)",
           "showgrid": true,
           "showline": true,
           "ticks": "outside",
           "title": {
            "standoff": 15
           },
           "zeroline": false,
           "zerolinecolor": "rgb(36,36,36)"
          },
          "yaxis": {
           "automargin": true,
           "gridcolor": "rgb(232,232,232)",
           "linecolor": "rgb(36,36,36)",
           "showgrid": true,
           "showline": true,
           "ticks": "outside",
           "title": {
            "standoff": 15
           },
           "zeroline": false,
           "zerolinecolor": "rgb(36,36,36)"
          }
         }
        },
        "width": 550,
        "xaxis": {
         "autorange": true,
         "range": [
          -5,
          5
         ],
         "type": "linear"
        },
        "yaxis": {
         "autorange": true,
         "range": [
          -0.055555555553467195,
          1.055555555553467
         ],
         "type": "linear"
        }
       }
      },
      "image/png": "[encoded data removed]",
      "image/svg+xml": [
       "<svg class=\"main-svg\" xmlns=\"http://www.w3.org/2000/svg\" xmlns:xlink=\"http://www.w3.org/1999/xlink\" width=\"550\" height=\"250\" style=\"\" viewBox=\"0 0 550 250\"><rect x=\"0\" y=\"0\" width=\"550\" height=\"250\" style=\"fill: rgb(255, 255, 255); fill-opacity: 1;\"/><defs id=\"defs-4692a3\"><g class=\"clips\"><clipPath id=\"clip4692a3xyplot\" class=\"plotclip\"><rect width=\"408\" height=\"206\"/></clipPath><clipPath class=\"axesclip\" id=\"clip4692a3x\"><rect x=\"35\" y=\"0\" width=\"408\" height=\"250\"/></clipPath><clipPath class=\"axesclip\" id=\"clip4692a3y\"><rect x=\"0\" y=\"10\" width=\"550\" height=\"206\"/></clipPath><clipPath class=\"axesclip\" id=\"clip4692a3xy\"><rect x=\"35\" y=\"10\" width=\"408\" height=\"206\"/></clipPath></g><g class=\"gradients\"/><g class=\"patterns\"/></defs><g class=\"bglayer\"/><g class=\"layer-below\"><g class=\"imagelayer\"/><g class=\"shapelayer\"/></g><g class=\"cartesianlayer\"><g class=\"subplot xy\"><g class=\"layer-subplot\"><g class=\"shapelayer\"/><g class=\"imagelayer\"/></g><g class=\"gridlayer\"><g class=\"x\"><path class=\"xgrid crisp\" transform=\"translate(75.8,0)\" d=\"M0,10v206\" style=\"stroke: rgb(232, 232, 232); stroke-opacity: 1; stroke-width: 1px;\"/><path class=\"xgrid crisp\" transform=\"translate(157.4,0)\" d=\"M0,10v206\" style=\"stroke: rgb(232, 232, 232); stroke-opacity: 1; stroke-width: 1px;\"/><path class=\"xgrid crisp\" transform=\"translate(239,0)\" d=\"M0,10v206\" style=\"stroke: rgb(232, 232, 232); stroke-opacity: 1; stroke-width: 1px;\"/><path class=\"xgrid crisp\" transform=\"translate(320.6,0)\" d=\"M0,10v206\" style=\"stroke: rgb(232, 232, 232); stroke-opacity: 1; stroke-width: 1px;\"/><path class=\"xgrid crisp\" transform=\"translate(402.2,0)\" d=\"M0,10v206\" style=\"stroke: rgb(232, 232, 232); stroke-opacity: 1; stroke-width: 1px;\"/></g><g class=\"y\"><path class=\"ygrid crisp\" transform=\"translate(0,205.7)\" d=\"M35,0h408\" style=\"stroke: rgb(232, 232, 232); stroke-opacity: 1; stroke-width: 1px;\"/><path class=\"ygrid crisp\" transform=\"translate(0,168.62)\" d=\"M35,0h408\" style=\"stroke: rgb(232, 232, 232); stroke-opacity: 1; stroke-width: 1px;\"/><path class=\"ygrid crisp\" transform=\"translate(0,131.54000000000002)\" d=\"M35,0h408\" style=\"stroke: rgb(232, 232, 232); stroke-opacity: 1; stroke-width: 1px;\"/><path class=\"ygrid crisp\" transform=\"translate(0,94.46)\" d=\"M35,0h408\" style=\"stroke: rgb(232, 232, 232); stroke-opacity: 1; stroke-width: 1px;\"/><path class=\"ygrid crisp\" transform=\"translate(0,57.38)\" d=\"M35,0h408\" style=\"stroke: rgb(232, 232, 232); stroke-opacity: 1; stroke-width: 1px;\"/><path class=\"ygrid crisp\" transform=\"translate(0,20.3)\" d=\"M35,0h408\" style=\"stroke: rgb(232, 232, 232); stroke-opacity: 1; stroke-width: 1px;\"/></g></g><g class=\"zerolinelayer\"/><path class=\"xlines-below\"/><path class=\"ylines-below\"/><g class=\"overlines-below\"/><g class=\"xaxislayer-below\"/><g class=\"yaxislayer-below\"/><g class=\"overaxes-below\"/><g class=\"plot\" transform=\"translate(35,10)\" clip-path=\"url(#clip4692a3xyplot)\"><g class=\"scatterlayer mlayer\"><g class=\"trace scatter tracef26e7b\" style=\"stroke-miterlimit: 2; opacity: 1;\"><g class=\"fills\"/><g class=\"errorbars\"/><g class=\"lines\"><path class=\"js-line\" d=\"M0,19.09L16.65,23.22L24.98,25.89L41.63,32.8L49.96,37.16L66.61,47.95L74.94,54.44L91.59,69.57L99.92,78.09L124.9,105.84L133.22,115.23L149.88,133.09L158.2,141.25L174.86,155.55L183.18,161.6L199.84,171.54L208.16,175.51L224.82,181.77L233.14,184.18L249.8,187.88L258.12,189.27L283.1,192.16L291.43,192.8L324.73,194.41L333.06,194.64L399.67,195.49L408,195.53\" style=\"vector-effect: non-scaling-stroke; fill: none; stroke: rgb(31, 119, 180); stroke-opacity: 1; stroke-width: 2px; opacity: 1;\"/></g><g class=\"points\"/><g class=\"text\"/></g><g class=\"trace scatter trace4dd9de\" style=\"stroke-miterlimit: 2; opacity: 1;\"><g class=\"fills\"/><g class=\"errorbars\"/><g class=\"lines\"><path class=\"js-line\" d=\"M0,11.54L33.31,13.08L41.63,13.7L66.61,16.48L74.94,17.82L91.59,21.39L99.92,23.72L116.57,29.77L124.9,33.62L141.55,43.28L149.88,49.18L166.53,63.19L174.86,71.23L191.51,88.92L199.84,98.27L224.82,126.15L233.14,134.77L249.8,150.17L258.12,156.82L274.78,167.89L283.1,172.38L299.76,179.51L308.08,182.28L324.73,186.56L333.06,188.18L358.04,191.54L366.37,192.3L399.67,194.18L408,194.46\" style=\"vector-effect: non-scaling-stroke; fill: none; stroke: rgb(255, 127, 14); stroke-opacity: 1; stroke-width: 2px; opacity: 1;\"/></g><g class=\"points\"/><g class=\"text\"/></g><g class=\"trace scatter tracedb2279\" style=\"stroke-miterlimit: 2; opacity: 1;\"><g class=\"fills\"/><g class=\"errorbars\"/><g class=\"lines\"><path class=\"js-line\" d=\"M0,10.47L83.27,11.59L91.59,11.88L124.9,13.84L133.22,14.62L158.2,18.12L166.53,19.8L183.18,24.23L191.51,27.1L208.16,34.46L216.49,39.09L233.14,50.45L241.47,57.24L258.12,72.91L266.45,81.63L316.41,136.43L324.73,144.34L341.39,158.05L349.71,163.81L366.37,173.2L374.69,176.93L391.35,182.78L399.67,185.03L408,186.91\" style=\"vector-effect: non-scaling-stroke; fill: none; stroke: rgb(44, 160, 44); stroke-opacity: 1; stroke-width: 2px; opacity: 1;\"/></g><g class=\"points\"/><g class=\"text\"/></g><g class=\"trace scatter trace4a215b\" style=\"stroke-miterlimit: 2; opacity: 1;\"><g class=\"fills\"/><g class=\"errorbars\"/><g class=\"lines\"><path class=\"js-line\" d=\"M0,195.53L83.27,194.41L91.59,194.12L124.9,192.16L133.22,191.38L158.2,187.88L166.53,186.2L183.18,181.77L191.51,178.9L208.16,171.54L216.49,166.91L233.14,155.55L241.47,148.76L258.12,133.09L266.45,124.37L316.41,69.57L324.73,61.66L341.39,47.95L349.71,42.19L366.37,32.8L374.69,29.07L391.35,23.22L399.67,20.97L408,19.09\" style=\"vector-effect: non-scaling-stroke; fill: none; stroke: rgb(214, 39, 40); stroke-opacity: 1; stroke-width: 2px; opacity: 1;\"/></g><g class=\"points\"/><g class=\"text\"/></g><g class=\"trace scatter traceb5de6c\" style=\"stroke-miterlimit: 2; opacity: 1;\"><g class=\"fills\"/><g class=\"errorbars\"/><g class=\"lines\"><path class=\"js-line\" d=\"M0,194.46L33.31,192.92L41.63,192.3L66.61,189.52L74.94,188.18L91.59,184.61L99.92,182.28L116.57,176.23L124.9,172.38L141.55,162.72L149.88,156.82L166.53,142.81L174.86,134.77L191.51,117.08L199.84,107.73L224.82,79.85L233.14,71.23L249.8,55.83L258.12,49.18L274.78,38.11L283.1,33.62L299.76,26.49L308.08,23.72L324.73,19.44L333.06,17.82L358.04,14.46L366.37,13.7L399.67,11.82L408,11.54\" style=\"vector-effect: non-scaling-stroke; fill: none; stroke: rgb(148, 103, 189); stroke-opacity: 1; stroke-width: 2px; opacity: 1;\"/></g><g class=\"points\"/><g class=\"text\"/></g><g class=\"trace scatter trace8b738a\" style=\"stroke-miterlimit: 2; opacity: 1;\"><g class=\"fills\"/><g class=\"errorbars\"/><g class=\"lines\"><path class=\"js-line\" d=\"M0,186.91L16.65,182.78L24.98,180.11L41.63,173.2L49.96,168.84L66.61,158.05L74.94,151.56L91.59,136.43L99.92,127.91L124.9,100.16L133.22,90.77L149.88,72.91L158.2,64.75L174.86,50.45L183.18,44.4L199.84,34.46L208.16,30.49L224.82,24.23L233.14,21.82L249.8,18.12L258.12,16.73L283.1,13.84L291.43,13.2L324.73,11.59L333.06,11.36L399.67,10.51L408,10.47\" style=\"vector-effect: non-scaling-stroke; fill: none; stroke: rgb(140, 86, 75); stroke-opacity: 1; stroke-width: 2px; opacity: 1;\"/></g><g class=\"points\"/><g class=\"text\"/></g><g class=\"trace scatter tracec2d08b\" style=\"stroke-miterlimit: 2; opacity: 1;\"><g class=\"fills\"/><g class=\"errorbars\"/><g class=\"lines\"><path class=\"js-line\" d=\"M0,195.7L174.86,195L183.18,193.76L191.51,190.42L199.84,181.77L208.16,161.6L216.49,124.37L224.82,78.09L233.14,42.19L241.47,23.22L249.8,15.17L258.12,12.09L266.45,10.95L291.43,10.33L299.76,10.31L408,10.3\" style=\"vector-effect: non-scaling-stroke; fill: none; stroke: rgb(227, 119, 194); stroke-opacity: 1; stroke-width: 2px; opacity: 1;\"/></g><g class=\"points\"/><g class=\"text\"/></g><g class=\"trace scatter tracef0f798\" style=\"stroke-miterlimit: 2; opacity: 1;\"><g class=\"fills\"/><g class=\"errorbars\"/><g class=\"lines\"><path class=\"js-line\" d=\"M0,195.7L158.2,195.03L166.53,193.84L174.86,190.63L183.18,182.28L191.51,162.72L199.84,126.15L208.16,79.85L216.49,43.28L224.82,23.72L233.14,15.37L241.47,12.16L249.8,10.97L274.78,10.33L283.1,10.31L408,10.3\" style=\"vector-effect: non-scaling-stroke; fill: none; stroke: rgb(127, 127, 127); stroke-opacity: 1; stroke-width: 2px; opacity: 1;\"/></g><g class=\"points\"/><g class=\"text\"/></g><g class=\"trace scatter trace79f23f\" style=\"stroke-miterlimit: 2; opacity: 1;\"><g class=\"fills\"/><g class=\"errorbars\"/><g class=\"lines\"><path class=\"js-line\" d=\"M0,195.7L141.55,195.05L149.88,193.91L158.2,190.83L166.53,182.78L174.86,163.81L183.18,127.91L191.51,81.63L199.84,44.4L208.16,24.23L216.49,15.58L224.82,12.24L233.14,11L258.12,10.33L266.45,10.31L408,10.3\" style=\"vector-effect: non-scaling-stroke; fill: none; stroke: rgb(188, 189, 34); stroke-opacity: 1; stroke-width: 2px; opacity: 1;\"/></g><g class=\"points\"/><g class=\"text\"/></g></g></g><g class=\"overplot\"/><path class=\"xlines-above crisp\" d=\"M34,216.5H443\" style=\"fill: none; stroke-width: 1px; stroke: rgb(36, 36, 36); stroke-opacity: 1;\"/><path class=\"ylines-above crisp\" d=\"M34.5,10V216\" style=\"fill: none; stroke-width: 1px; stroke: rgb(36, 36, 36); stroke-opacity: 1;\"/><g class=\"overlines-above\"/><g class=\"xaxislayer-above\"><path class=\"xtick ticks crisp\" d=\"M0,217v5\" transform=\"translate(75.8,0)\" style=\"stroke: rgb(68, 68, 68); stroke-opacity: 1; stroke-width: 1px;\"/><path class=\"xtick ticks crisp\" d=\"M0,217v5\" transform=\"translate(157.4,0)\" style=\"stroke: rgb(68, 68, 68); stroke-opacity: 1; stroke-width: 1px;\"/><path class=\"xtick ticks crisp\" d=\"M0,217v5\" transform=\"translate(239,0)\" style=\"stroke: rgb(68, 68, 68); stroke-opacity: 1; stroke-width: 1px;\"/><path class=\"xtick ticks crisp\" d=\"M0,217v5\" transform=\"translate(320.6,0)\" style=\"stroke: rgb(68, 68, 68); stroke-opacity: 1; stroke-width: 1px;\"/><path class=\"xtick ticks crisp\" d=\"M0,217v5\" transform=\"translate(402.2,0)\" style=\"stroke: rgb(68, 68, 68); stroke-opacity: 1; stroke-width: 1px;\"/><g class=\"xtick\"><text text-anchor=\"middle\" x=\"0\" y=\"236.4\" transform=\"translate(75.8,0)\" style=\"font-family: 'Open Sans', verdana, arial, sans-serif; font-size: 12px; fill: rgb(36, 36, 36); fill-opacity: 1; white-space: pre; opacity: 1;\">−4</text></g><g class=\"xtick\"><text text-anchor=\"middle\" x=\"0\" y=\"236.4\" style=\"font-family: 'Open Sans', verdana, arial, sans-serif; font-size: 12px; fill: rgb(36, 36, 36); fill-opacity: 1; white-space: pre; opacity: 1;\" transform=\"translate(157.4,0)\">−2</text></g><g class=\"xtick\"><text text-anchor=\"middle\" x=\"0\" y=\"236.4\" style=\"font-family: 'Open Sans', verdana, arial, sans-serif; font-size: 12px; fill: rgb(36, 36, 36); fill-opacity: 1; white-space: pre; opacity: 1;\" transform=\"translate(239,0)\">0</text></g><g class=\"xtick\"><text text-anchor=\"middle\" x=\"0\" y=\"236.4\" style=\"font-family: 'Open Sans', verdana, arial, sans-serif; font-size: 12px; fill: rgb(36, 36, 36); fill-opacity: 1; white-space: pre; opacity: 1;\" transform=\"translate(320.6,0)\">2</text></g><g class=\"xtick\"><text text-anchor=\"middle\" x=\"0\" y=\"236.4\" style=\"font-family: 'Open Sans', verdana, arial, sans-serif; font-size: 12px; fill: rgb(36, 36, 36); fill-opacity: 1; white-space: pre; opacity: 1;\" transform=\"translate(402.2,0)\">4</text></g></g><g class=\"yaxislayer-above\"><path class=\"ytick ticks crisp\" d=\"M34,0h-5\" transform=\"translate(0,205.7)\" style=\"stroke: rgb(68, 68, 68); stroke-opacity: 1; stroke-width: 1px;\"/><path class=\"ytick ticks crisp\" d=\"M34,0h-5\" transform=\"translate(0,168.62)\" style=\"stroke: rgb(68, 68, 68); stroke-opacity: 1; stroke-width: 1px;\"/><path class=\"ytick ticks crisp\" d=\"M34,0h-5\" transform=\"translate(0,131.54000000000002)\" style=\"stroke: rgb(68, 68, 68); stroke-opacity: 1; stroke-width: 1px;\"/><path class=\"ytick ticks crisp\" d=\"M34,0h-5\" transform=\"translate(0,94.46)\" style=\"stroke: rgb(68, 68, 68); stroke-opacity: 1; stroke-width: 1px;\"/><path class=\"ytick ticks crisp\" d=\"M34,0h-5\" transform=\"translate(0,57.38)\" style=\"stroke: rgb(68, 68, 68); stroke-opacity: 1; stroke-width: 1px;\"/><path class=\"ytick ticks crisp\" d=\"M34,0h-5\" transform=\"translate(0,20.3)\" style=\"stroke: rgb(68, 68, 68); stroke-opacity: 1; stroke-width: 1px;\"/><g class=\"ytick\"><text text-anchor=\"end\" x=\"26.6\" y=\"4.199999999999999\" transform=\"translate(0,205.7)\" style=\"font-family: 'Open Sans', verdana, arial, sans-serif; font-size: 12px; fill: rgb(36, 36, 36); fill-opacity: 1; white-space: pre; opacity: 1;\">0</text></g><g class=\"ytick\"><text text-anchor=\"end\" x=\"26.6\" y=\"4.199999999999999\" style=\"font-family: 'Open Sans', verdana, arial, sans-serif; font-size: 12px; fill: rgb(36, 36, 36); fill-opacity: 1; white-space: pre; opacity: 1;\" transform=\"translate(0,168.62)\">0.2</text></g><g class=\"ytick\"><text text-anchor=\"end\" x=\"26.6\" y=\"4.199999999999999\" style=\"font-family: 'Open Sans', verdana, arial, sans-serif; font-size: 12px; fill: rgb(36, 36, 36); fill-opacity: 1; white-space: pre; opacity: 1;\" transform=\"translate(0,131.54000000000002)\">0.4</text></g><g class=\"ytick\"><text text-anchor=\"end\" x=\"26.6\" y=\"4.199999999999999\" style=\"font-family: 'Open Sans', verdana, arial, sans-serif; font-size: 12px; fill: rgb(36, 36, 36); fill-opacity: 1; white-space: pre; opacity: 1;\" transform=\"translate(0,94.46)\">0.6</text></g><g class=\"ytick\"><text text-anchor=\"end\" x=\"26.6\" y=\"4.199999999999999\" style=\"font-family: 'Open Sans', verdana, arial, sans-serif; font-size: 12px; fill: rgb(36, 36, 36); fill-opacity: 1; white-space: pre; opacity: 1;\" transform=\"translate(0,57.38)\">0.8</text></g><g class=\"ytick\"><text text-anchor=\"end\" x=\"26.6\" y=\"4.199999999999999\" style=\"font-family: 'Open Sans', verdana, arial, sans-serif; font-size: 12px; fill: rgb(36, 36, 36); fill-opacity: 1; white-space: pre; opacity: 1;\" transform=\"translate(0,20.3)\">1</text></g></g><g class=\"overaxes-above\"/></g></g><g class=\"polarlayer\"/><g class=\"smithlayer\"/><g class=\"ternarylayer\"/><g class=\"geolayer\"/><g class=\"funnelarealayer\"/><g class=\"pielayer\"/><g class=\"iciclelayer\"/><g class=\"treemaplayer\"/><g class=\"sunburstlayer\"/><g class=\"glimages\"/><defs id=\"topdefs-4692a3\"><g class=\"clips\"/><clipPath id=\"legend4692a3\"><rect width=\"89\" height=\"181\" x=\"0\" y=\"0\"/></clipPath></defs><g class=\"layer-above\"><g class=\"imagelayer\"/><g class=\"shapelayer\"/></g><g class=\"infolayer\"><g class=\"legend\" pointer-events=\"all\" transform=\"translate(451.16,10)\"><rect class=\"bg\" shape-rendering=\"crispEdges\" style=\"stroke: rgb(68, 68, 68); stroke-opacity: 1; fill: rgb(255, 255, 255); fill-opacity: 1; stroke-width: 0px;\" width=\"89\" height=\"181\" x=\"0\" y=\"0\"/><g class=\"scrollbox\" transform=\"\" clip-path=\"url(#legend4692a3)\"><g class=\"groups\"><g class=\"traces\" transform=\"translate(0,14.5)\" style=\"opacity: 1;\"><text class=\"legendtext\" text-anchor=\"start\" x=\"40\" y=\"4.680000000000001\" style=\"font-family: 'Open Sans', verdana, arial, sans-serif; font-size: 12px; fill: rgb(36, 36, 36); fill-opacity: 1; white-space: pre;\">-2 + -1 x</text><g class=\"layers\" style=\"opacity: 1;\"><g class=\"legendfill\"/><g class=\"legendlines\"><path class=\"js-line\" d=\"M5,0h30\" style=\"fill: none; stroke: rgb(31, 119, 180); stroke-opacity: 1; stroke-width: 2px;\"/></g><g class=\"legendsymbols\"><g class=\"legendpoints\"/></g></g><rect class=\"legendtoggle\" x=\"0\" y=\"-9.5\" width=\"83.953125\" height=\"19\" style=\"fill: rgb(0, 0, 0); fill-opacity: 0;\"/></g><g class=\"traces\" transform=\"translate(0,33.5)\" style=\"opacity: 1;\"><text class=\"legendtext\" text-anchor=\"start\" x=\"40\" y=\"4.680000000000001\" style=\"font-family: 'Open Sans', verdana, arial, sans-serif; font-size: 12px; fill: rgb(36, 36, 36); fill-opacity: 1; white-space: pre;\">0 + -1 x</text><g class=\"layers\" style=\"opacity: 1;\"><g class=\"legendfill\"/><g class=\"legendlines\"><path class=\"js-line\" d=\"M5,0h30\" style=\"fill: none; stroke: rgb(255, 127, 14); stroke-opacity: 1; stroke-width: 2px;\"/></g><g class=\"legendsymbols\"><g class=\"legendpoints\"/></g></g><rect class=\"legendtoggle\" x=\"0\" y=\"-9.5\" width=\"83.953125\" height=\"19\" style=\"fill: rgb(0, 0, 0); fill-opacity: 0;\"/></g><g class=\"traces\" transform=\"translate(0,52.5)\" style=\"opacity: 1;\"><text class=\"legendtext\" text-anchor=\"start\" x=\"40\" y=\"4.680000000000001\" style=\"font-family: 'Open Sans', verdana, arial, sans-serif; font-size: 12px; fill: rgb(36, 36, 36); fill-opacity: 1; white-space: pre;\">2 + -1 x</text><g class=\"layers\" style=\"opacity: 1;\"><g class=\"legendfill\"/><g class=\"legendlines\"><path class=\"js-line\" d=\"M5,0h30\" style=\"fill: none; stroke: rgb(44, 160, 44); stroke-opacity: 1; stroke-width: 2px;\"/></g><g class=\"legendsymbols\"><g class=\"legendpoints\"/></g></g><rect class=\"legendtoggle\" x=\"0\" y=\"-9.5\" width=\"83.953125\" height=\"19\" style=\"fill: rgb(0, 0, 0); fill-opacity: 0;\"/></g><g class=\"traces\" transform=\"translate(0,71.5)\" style=\"opacity: 1;\"><text class=\"legendtext\" text-anchor=\"start\" x=\"40\" y=\"4.680000000000001\" style=\"font-family: 'Open Sans', verdana, arial, sans-serif; font-size: 12px; fill: rgb(36, 36, 36); fill-opacity: 1; white-space: pre;\">-2 + 1 x</text><g class=\"layers\" style=\"opacity: 1;\"><g class=\"legendfill\"/><g class=\"legendlines\"><path class=\"js-line\" d=\"M5,0h30\" style=\"fill: none; stroke: rgb(214, 39, 40); stroke-opacity: 1; stroke-width: 2px;\"/></g><g class=\"legendsymbols\"><g class=\"legendpoints\"/></g></g><rect class=\"legendtoggle\" x=\"0\" y=\"-9.5\" width=\"83.953125\" height=\"19\" style=\"fill: rgb(0, 0, 0); fill-opacity: 0;\"/></g><g class=\"traces\" transform=\"translate(0,90.5)\" style=\"opacity: 1;\"><text class=\"legendtext\" text-anchor=\"start\" x=\"40\" y=\"4.680000000000001\" style=\"font-family: 'Open Sans', verdana, arial, sans-serif; font-size: 12px; fill: rgb(36, 36, 36); fill-opacity: 1; white-space: pre;\">0 + 1 x</text><g class=\"layers\" style=\"opacity: 1;\"><g class=\"legendfill\"/><g class=\"legendlines\"><path class=\"js-line\" d=\"M5,0h30\" style=\"fill: none; stroke: rgb(148, 103, 189); stroke-opacity: 1; stroke-width: 2px;\"/></g><g class=\"legendsymbols\"><g class=\"legendpoints\"/></g></g><rect class=\"legendtoggle\" x=\"0\" y=\"-9.5\" width=\"83.953125\" height=\"19\" style=\"fill: rgb(0, 0, 0); fill-opacity: 0;\"/></g><g class=\"traces\" transform=\"translate(0,109.5)\" style=\"opacity: 1;\"><text class=\"legendtext\" text-anchor=\"start\" x=\"40\" y=\"4.680000000000001\" style=\"font-family: 'Open Sans', verdana, arial, sans-serif; font-size: 12px; fill: rgb(36, 36, 36); fill-opacity: 1; white-space: pre;\">2 + 1 x</text><g class=\"layers\" style=\"opacity: 1;\"><g class=\"legendfill\"/><g class=\"legendlines\"><path class=\"js-line\" d=\"M5,0h30\" style=\"fill: none; stroke: rgb(140, 86, 75); stroke-opacity: 1; stroke-width: 2px;\"/></g><g class=\"legendsymbols\"><g class=\"legendpoints\"/></g></g><rect class=\"legendtoggle\" x=\"0\" y=\"-9.5\" width=\"83.953125\" height=\"19\" style=\"fill: rgb(0, 0, 0); fill-opacity: 0;\"/></g><g class=\"traces\" transform=\"translate(0,128.5)\" style=\"opacity: 1;\"><text class=\"legendtext\" text-anchor=\"start\" x=\"40\" y=\"4.680000000000001\" style=\"font-family: 'Open Sans', verdana, arial, sans-serif; font-size: 12px; fill: rgb(36, 36, 36); fill-opacity: 1; white-space: pre;\">-2 + 5 x</text><g class=\"layers\" style=\"opacity: 1;\"><g class=\"legendfill\"/><g class=\"legendlines\"><path class=\"js-line\" d=\"M5,0h30\" style=\"fill: none; stroke: rgb(227, 119, 194); stroke-opacity: 1; stroke-width: 2px;\"/></g><g class=\"legendsymbols\"><g class=\"legendpoints\"/></g></g><rect class=\"legendtoggle\" x=\"0\" y=\"-9.5\" width=\"83.953125\" height=\"19\" style=\"fill: rgb(0, 0, 0); fill-opacity: 0;\"/></g><g class=\"traces\" transform=\"translate(0,147.5)\" style=\"opacity: 1;\"><text class=\"legendtext\" text-anchor=\"start\" x=\"40\" y=\"4.680000000000001\" style=\"font-family: 'Open Sans', verdana, arial, sans-serif; font-size: 12px; fill: rgb(36, 36, 36); fill-opacity: 1; white-space: pre;\">0 + 5 x</text><g class=\"layers\" style=\"opacity: 1;\"><g class=\"legendfill\"/><g class=\"legendlines\"><path class=\"js-line\" d=\"M5,0h30\" style=\"fill: none; stroke: rgb(127, 127, 127); stroke-opacity: 1; stroke-width: 2px;\"/></g><g class=\"legendsymbols\"><g class=\"legendpoints\"/></g></g><rect class=\"legendtoggle\" x=\"0\" y=\"-9.5\" width=\"83.953125\" height=\"19\" style=\"fill: rgb(0, 0, 0); fill-opacity: 0;\"/></g><g class=\"traces\" transform=\"translate(0,166.5)\" style=\"opacity: 1;\"><text class=\"legendtext\" text-anchor=\"start\" x=\"40\" y=\"4.680000000000001\" style=\"font-family: 'Open Sans', verdana, arial, sans-serif; font-size: 12px; fill: rgb(36, 36, 36); fill-opacity: 1; white-space: pre;\">2 + 5 x</text><g class=\"layers\" style=\"opacity: 1;\"><g class=\"legendfill\"/><g class=\"legendlines\"><path class=\"js-line\" d=\"M5,0h30\" style=\"fill: none; stroke: rgb(188, 189, 34); stroke-opacity: 1; stroke-width: 2px;\"/></g><g class=\"legendsymbols\"><g class=\"legendpoints\"/></g></g><rect class=\"legendtoggle\" x=\"0\" y=\"-9.5\" width=\"83.953125\" height=\"19\" style=\"fill: rgb(0, 0, 0); fill-opacity: 0;\"/></g></g></g><rect class=\"scrollbar\" rx=\"20\" ry=\"3\" width=\"0\" height=\"0\" style=\"fill: rgb(128, 139, 164); fill-opacity: 1;\" x=\"0\" y=\"0\"/></g><g class=\"g-gtitle\"/><g class=\"g-xtitle\"/><g class=\"g-ytitle\"/></g></svg>"
      ]
     },
     "metadata": {},
     "output_type": "display_data"
    }
   ],
   "source": [
    "fig = go.Figure()\n",
    "for theta1 in [-1,1, 5]:\n",
    "    for theta0 in [-2, 0, 2]:\n",
    "        fig.add_trace(go.Scatter(name=f\"{theta0} + {theta1} x\", \n",
    "                                 x=t, y=logistic(theta0 + theta1*t)))\n",
    "        \n",
    "fig.update_layout(width=550, height=250)        \n",
    "fig"
   ]
  },
  {
   "cell_type": "markdown",
   "metadata": {},
   "source": [
    "We can see that changing the magnitude of $ {\\theta}_1 $ changes the sharpness of the curve; the further away from $ 0 $, the steeper the curve. And, flipping the sign of $ {\\theta}_1 $ reflects the curve over the y-axis. The logistic function is quite versatile in shape. It also has a nice interpretation, which we describe next."
   ]
  },
  {
   "cell_type": "markdown",
   "metadata": {},
   "source": [
    "## Log Odds\n",
    "            \n",
    "The logistic model is also called the *log odds* model because the logistic function coincides with a linear function of the log odds. Recall the odds are the ratio, $p/(1-p)$ for a probability $ p $. We can see this in the following equations. To show this, we multiply the numerator and denominator of the sigmoid function by $\\exp(t)$ \n",
    "\n",
    "$$\n",
    "\\begin{aligned}\n",
    "\\sigma(t) & = \\frac{1}{1+\\exp(-t)} = \\frac{\\exp(t)}{1+\\exp(t)} \\\\ \n",
    "\\\\\n",
    "(1-\\sigma(t)) & = 1 - \\frac{\\exp(t)}{1+\\exp(t)} = \\frac{1}{1+\\exp(t)}\n",
    "\\end{aligned}\n",
    "$$\n",
    "\n",
    "Then, we take the logarithm of the odds and simplify:\n",
    "\n",
    "$$\n",
    "\\begin{aligned}\n",
    "\\log \\left( \\frac{\\sigma(t)}{1-\\sigma(t)} \\right) & = \\log(\\exp{(t)}) = t\\\\\n",
    "\\end{aligned}\n",
    "$$"
   ]
  },
  {
   "cell_type": "markdown",
   "metadata": {},
   "source": [
    "And, for $\\sigma(\\theta_0 + \\theta_1x)$, we find a linear function of $x$:\n",
    "\n",
    "$$\n",
    "\\begin{aligned}\n",
    "\\log \\left( \\frac{\\sigma(\\theta_0 + \\theta_1x)}{1-\\sigma(\\theta_0 + \\theta_1x)} \\right) & = \\log(\\exp{(\\theta_0 + \\theta_1x)}) = \\theta_0 + \\theta_1x\\\\\n",
    "\\end{aligned}\n",
    "$$"
   ]
  },
  {
   "cell_type": "markdown",
   "metadata": {},
   "source": [
    "This representation of the logistic in terms of log odds gives a useful interpretation for the coefficient. Suppose the explanatory variable increases by 1. Then the odds change as follows\n",
    "\n",
    "$$\n",
    "\\begin{aligned}\n",
    "\\text{ odds } =& ~ \\exp\\left( \\theta_0 + \\theta_1(x+1) \\right)\\\\\n",
    " =& ~ \\exp(\\theta_1) \\times \\exp{(\\theta_0 + \\theta_1x)}\n",
    "\\end{aligned}\n",
    "$$\n",
    "\n",
    "So the odds increase or decrease by a factor of $ \\exp(\\theta_1) $.\n",
    "\n",
    "One last note is that the $\\log$ function that we use here is the natural logarithm. \n",
    "The natural log is the default in data science and so we don't bother with writing it as $\\ln$."
   ]
  },
  {
   "cell_type": "markdown",
   "metadata": {},
   "source": [
    "Below, we have added a logistic curve to the plot of proportions of fallen trees."
   ]
  },
  {
   "cell_type": "code",
   "execution_count": 46,
   "metadata": {
    "tags": [
     "remove-cell"
    ]
   },
   "outputs": [
    {
     "data": {
      "text/plain": [
       "LogisticRegression()"
      ]
     },
     "execution_count": 46,
     "metadata": {},
     "output_type": "execute_result"
    }
   ],
   "source": [
    "from sklearn.linear_model import LogisticRegression\n",
    "\n",
    "trees['log_diam'] = np.log(trees['diameter']) \n",
    "X = trees[['log_diam']].to_numpy()\n",
    "y = trees['status_0_1'].to_numpy()\n",
    "\n",
    "lr_model = LogisticRegression(solver=\"lbfgs\")\n",
    "lr_model.fit(X, y)"
   ]
  },
  {
   "cell_type": "code",
   "execution_count": 47,
   "metadata": {
    "ExecuteTime": {
     "end_time": "2018-04-02T16:07:18.026129Z",
     "start_time": "2018-04-02T16:07:18.007888Z"
    },
    "tags": [
     "hide-input"
    ]
   },
   "outputs": [
    {
     "data": {
      "application/vnd.plotly.v1+json": {
       "config": {
        "plotlyServerURL": "https://plot.ly"
       },
       "data": [
        {
         "hovertemplate": "Tree Diameter (cm)=%{x}<br>Proportion Down=%{y}<br>count=%{marker.size}<extra></extra>",
         "legendgroup": "",
         "marker": {
          "color": "#1F77B4",
          "size": [
           88,
           93,
           91,
           70,
           49,
           54,
           64,
           57,
           49,
           24,
           14,
           6
          ],
          "sizemode": "area",
          "sizeref": 0.2325,
          "symbol": "circle"
         },
         "mode": "markers",
         "name": "",
         "orientation": "v",
         "showlegend": false,
         "type": "scatter",
         "x": [
          5,
          6,
          7,
          8,
          9,
          10,
          12,
          14,
          17,
          20,
          25,
          32
         ],
         "xaxis": "x",
         "y": [
          0.06818181818181818,
          0.07526881720430108,
          0.1978021978021978,
          0.18571428571428572,
          0.30612244897959184,
          0.4444444444444444,
          0.609375,
          0.6491228070175439,
          0.7755102040816326,
          0.8333333333333334,
          0.7857142857142857,
          0.8333333333333334
         ],
         "yaxis": "y"
        },
        {
         "line": {
          "color": "orange",
          "width": 3
         },
         "type": "scatter",
         "x": [
          4.999999999999999,
          5.1930518265458865,
          5.393557454638315,
          5.601804678277937,
          5.818092403296908,
          6.042731076390753,
          6.276043130715319,
          6.518363448688391,
          6.77003984266024,
          7.031433554143038,
          7.302919772315708,
          7.584888172548433,
          7.877743475719788,
          8.181906029129317,
          8.497812409839362,
          8.825916051312122,
          9.166687894241417,
          9.520617062513292,
          9.888211565265717,
          10.269999026055064,
          10.666527440175942,
          11.078365961221506,
          11.506105718013021,
          11.950360663071525,
          12.411768453849135,
          12.89099136798518,
          13.388717253900541,
          13.905660518094928,
          14.442563150563979,
          15.000195789808119,
          15.579358828961796,
          16.18088356463077,
          16.80563339008643,
          17.454505034529777,
          18.128429850203847,
          18.828375149202017,
          19.555345591890944,
          20.310384628941065,
          21.094575999034394,
          21.90904528439931,
          22.75496152640529,
          23.633538903536063,
          24.546038474150258,
          25.493769986530314,
          26.478093758818407,
          27.500422631537024,
          28.56222399549745,
          29.66502189800615,
          30.810399230392928,
          32
         ],
         "y": [
          0.07632762955043874,
          0.08485807942316637,
          0.0942446257559134,
          0.10455084168247858,
          0.11583996261685688,
          0.12817357085488784,
          0.1416100297734925,
          0.1562026698679627,
          0.17199774452229005,
          0.18903219298399918,
          0.2073312709934405,
          0.2269061347256266,
          0.24775148920789927,
          0.2698434354716014,
          0.2931376680276606,
          0.3175681821397046,
          0.34304664529496964,
          0.36946256657378845,
          0.3966843601863628,
          0.4245613463632241,
          0.4529266676710316,
          0.48160102773228425,
          0.5103970901153346,
          0.5391243163718134,
          0.5675939816308826,
          0.5956240894430338,
          0.6230439170733977,
          0.6496979568225493,
          0.6754490733906562,
          0.7001807644682739,
          0.723798483149377,
          0.7462300482400214,
          0.7674252254370378,
          0.7873546043482221,
          0.8060079216496373,
          0.8233919898792028,
          0.8395283867549269,
          0.8544510448279623,
          0.8682038594299345,
          0.8808384077357921,
          0.8924118462448672,
          0.9029850302356739,
          0.9126208781502109,
          0.9213829870981817,
          0.9293344928836367,
          0.9365371589058777,
          0.9430506725000458,
          0.9489321241775844,
          0.9542356442007347,
          0.9590121714170404
         ]
        }
       ],
       "layout": {
        "height": 250,
        "legend": {
         "itemsizing": "constant",
         "tracegroupgap": 0
        },
        "showlegend": false,
        "template": {
         "data": {
          "bar": [
           {
            "error_x": {
             "color": "rgb(36,36,36)"
            },
            "error_y": {
             "color": "rgb(36,36,36)"
            },
            "marker": {
             "line": {
              "color": "white",
              "width": 0.5
             },
             "pattern": {
              "fillmode": "overlay",
              "size": 10,
              "solidity": 0.2
             }
            },
            "type": "bar"
           }
          ],
          "barpolar": [
           {
            "marker": {
             "line": {
              "color": "white",
              "width": 0.5
             },
             "pattern": {
              "fillmode": "overlay",
              "size": 10,
              "solidity": 0.2
             }
            },
            "type": "barpolar"
           }
          ],
          "carpet": [
           {
            "aaxis": {
             "endlinecolor": "rgb(36,36,36)",
             "gridcolor": "white",
             "linecolor": "white",
             "minorgridcolor": "white",
             "startlinecolor": "rgb(36,36,36)"
            },
            "baxis": {
             "endlinecolor": "rgb(36,36,36)",
             "gridcolor": "white",
             "linecolor": "white",
             "minorgridcolor": "white",
             "startlinecolor": "rgb(36,36,36)"
            },
            "type": "carpet"
           }
          ],
          "choropleth": [
           {
            "colorbar": {
             "outlinewidth": 1,
             "tickcolor": "rgb(36,36,36)",
             "ticks": "outside"
            },
            "type": "choropleth"
           }
          ],
          "contour": [
           {
            "colorbar": {
             "outlinewidth": 1,
             "tickcolor": "rgb(36,36,36)",
             "ticks": "outside"
            },
            "colorscale": [
             [
              0,
              "#440154"
             ],
             [
              0.1111111111111111,
              "#482878"
             ],
             [
              0.2222222222222222,
              "#3e4989"
             ],
             [
              0.3333333333333333,
              "#31688e"
             ],
             [
              0.4444444444444444,
              "#26828e"
             ],
             [
              0.5555555555555556,
              "#1f9e89"
             ],
             [
              0.6666666666666666,
              "#35b779"
             ],
             [
              0.7777777777777778,
              "#6ece58"
             ],
             [
              0.8888888888888888,
              "#b5de2b"
             ],
             [
              1,
              "#fde725"
             ]
            ],
            "type": "contour"
           }
          ],
          "contourcarpet": [
           {
            "colorbar": {
             "outlinewidth": 1,
             "tickcolor": "rgb(36,36,36)",
             "ticks": "outside"
            },
            "type": "contourcarpet"
           }
          ],
          "heatmap": [
           {
            "colorbar": {
             "outlinewidth": 1,
             "tickcolor": "rgb(36,36,36)",
             "ticks": "outside"
            },
            "colorscale": [
             [
              0,
              "#440154"
             ],
             [
              0.1111111111111111,
              "#482878"
             ],
             [
              0.2222222222222222,
              "#3e4989"
             ],
             [
              0.3333333333333333,
              "#31688e"
             ],
             [
              0.4444444444444444,
              "#26828e"
             ],
             [
              0.5555555555555556,
              "#1f9e89"
             ],
             [
              0.6666666666666666,
              "#35b779"
             ],
             [
              0.7777777777777778,
              "#6ece58"
             ],
             [
              0.8888888888888888,
              "#b5de2b"
             ],
             [
              1,
              "#fde725"
             ]
            ],
            "type": "heatmap"
           }
          ],
          "heatmapgl": [
           {
            "colorbar": {
             "outlinewidth": 1,
             "tickcolor": "rgb(36,36,36)",
             "ticks": "outside"
            },
            "colorscale": [
             [
              0,
              "#440154"
             ],
             [
              0.1111111111111111,
              "#482878"
             ],
             [
              0.2222222222222222,
              "#3e4989"
             ],
             [
              0.3333333333333333,
              "#31688e"
             ],
             [
              0.4444444444444444,
              "#26828e"
             ],
             [
              0.5555555555555556,
              "#1f9e89"
             ],
             [
              0.6666666666666666,
              "#35b779"
             ],
             [
              0.7777777777777778,
              "#6ece58"
             ],
             [
              0.8888888888888888,
              "#b5de2b"
             ],
             [
              1,
              "#fde725"
             ]
            ],
            "type": "heatmapgl"
           }
          ],
          "histogram": [
           {
            "marker": {
             "line": {
              "color": "white",
              "width": 0.6
             }
            },
            "type": "histogram"
           }
          ],
          "histogram2d": [
           {
            "colorbar": {
             "outlinewidth": 1,
             "tickcolor": "rgb(36,36,36)",
             "ticks": "outside"
            },
            "colorscale": [
             [
              0,
              "#440154"
             ],
             [
              0.1111111111111111,
              "#482878"
             ],
             [
              0.2222222222222222,
              "#3e4989"
             ],
             [
              0.3333333333333333,
              "#31688e"
             ],
             [
              0.4444444444444444,
              "#26828e"
             ],
             [
              0.5555555555555556,
              "#1f9e89"
             ],
             [
              0.6666666666666666,
              "#35b779"
             ],
             [
              0.7777777777777778,
              "#6ece58"
             ],
             [
              0.8888888888888888,
              "#b5de2b"
             ],
             [
              1,
              "#fde725"
             ]
            ],
            "type": "histogram2d"
           }
          ],
          "histogram2dcontour": [
           {
            "colorbar": {
             "outlinewidth": 1,
             "tickcolor": "rgb(36,36,36)",
             "ticks": "outside"
            },
            "colorscale": [
             [
              0,
              "#440154"
             ],
             [
              0.1111111111111111,
              "#482878"
             ],
             [
              0.2222222222222222,
              "#3e4989"
             ],
             [
              0.3333333333333333,
              "#31688e"
             ],
             [
              0.4444444444444444,
              "#26828e"
             ],
             [
              0.5555555555555556,
              "#1f9e89"
             ],
             [
              0.6666666666666666,
              "#35b779"
             ],
             [
              0.7777777777777778,
              "#6ece58"
             ],
             [
              0.8888888888888888,
              "#b5de2b"
             ],
             [
              1,
              "#fde725"
             ]
            ],
            "type": "histogram2dcontour"
           }
          ],
          "mesh3d": [
           {
            "colorbar": {
             "outlinewidth": 1,
             "tickcolor": "rgb(36,36,36)",
             "ticks": "outside"
            },
            "type": "mesh3d"
           }
          ],
          "parcoords": [
           {
            "line": {
             "colorbar": {
              "outlinewidth": 1,
              "tickcolor": "rgb(36,36,36)",
              "ticks": "outside"
             }
            },
            "type": "parcoords"
           }
          ],
          "pie": [
           {
            "automargin": true,
            "type": "pie"
           }
          ],
          "scatter": [
           {
            "marker": {
             "colorbar": {
              "outlinewidth": 1,
              "tickcolor": "rgb(36,36,36)",
              "ticks": "outside"
             }
            },
            "type": "scatter"
           }
          ],
          "scatter3d": [
           {
            "line": {
             "colorbar": {
              "outlinewidth": 1,
              "tickcolor": "rgb(36,36,36)",
              "ticks": "outside"
             }
            },
            "marker": {
             "colorbar": {
              "outlinewidth": 1,
              "tickcolor": "rgb(36,36,36)",
              "ticks": "outside"
             }
            },
            "type": "scatter3d"
           }
          ],
          "scattercarpet": [
           {
            "marker": {
             "colorbar": {
              "outlinewidth": 1,
              "tickcolor": "rgb(36,36,36)",
              "ticks": "outside"
             }
            },
            "type": "scattercarpet"
           }
          ],
          "scattergeo": [
           {
            "marker": {
             "colorbar": {
              "outlinewidth": 1,
              "tickcolor": "rgb(36,36,36)",
              "ticks": "outside"
             }
            },
            "type": "scattergeo"
           }
          ],
          "scattergl": [
           {
            "marker": {
             "colorbar": {
              "outlinewidth": 1,
              "tickcolor": "rgb(36,36,36)",
              "ticks": "outside"
             }
            },
            "type": "scattergl"
           }
          ],
          "scattermapbox": [
           {
            "marker": {
             "colorbar": {
              "outlinewidth": 1,
              "tickcolor": "rgb(36,36,36)",
              "ticks": "outside"
             }
            },
            "type": "scattermapbox"
           }
          ],
          "scatterpolar": [
           {
            "marker": {
             "colorbar": {
              "outlinewidth": 1,
              "tickcolor": "rgb(36,36,36)",
              "ticks": "outside"
             }
            },
            "type": "scatterpolar"
           }
          ],
          "scatterpolargl": [
           {
            "marker": {
             "colorbar": {
              "outlinewidth": 1,
              "tickcolor": "rgb(36,36,36)",
              "ticks": "outside"
             }
            },
            "type": "scatterpolargl"
           }
          ],
          "scatterternary": [
           {
            "marker": {
             "colorbar": {
              "outlinewidth": 1,
              "tickcolor": "rgb(36,36,36)",
              "ticks": "outside"
             }
            },
            "type": "scatterternary"
           }
          ],
          "surface": [
           {
            "colorbar": {
             "outlinewidth": 1,
             "tickcolor": "rgb(36,36,36)",
             "ticks": "outside"
            },
            "colorscale": [
             [
              0,
              "#440154"
             ],
             [
              0.1111111111111111,
              "#482878"
             ],
             [
              0.2222222222222222,
              "#3e4989"
             ],
             [
              0.3333333333333333,
              "#31688e"
             ],
             [
              0.4444444444444444,
              "#26828e"
             ],
             [
              0.5555555555555556,
              "#1f9e89"
             ],
             [
              0.6666666666666666,
              "#35b779"
             ],
             [
              0.7777777777777778,
              "#6ece58"
             ],
             [
              0.8888888888888888,
              "#b5de2b"
             ],
             [
              1,
              "#fde725"
             ]
            ],
            "type": "surface"
           }
          ],
          "table": [
           {
            "cells": {
             "fill": {
              "color": "rgb(237,237,237)"
             },
             "line": {
              "color": "white"
             }
            },
            "header": {
             "fill": {
              "color": "rgb(217,217,217)"
             },
             "line": {
              "color": "white"
             }
            },
            "type": "table"
           }
          ]
         },
         "layout": {
          "annotationdefaults": {
           "arrowhead": 0,
           "arrowwidth": 1
          },
          "autosize": true,
          "autotypenumbers": "strict",
          "coloraxis": {
           "colorbar": {
            "outlinewidth": 1,
            "tickcolor": "rgb(36,36,36)",
            "ticks": "outside"
           }
          },
          "colorscale": {
           "diverging": [
            [
             0,
             "rgb(103,0,31)"
            ],
            [
             0.1,
             "rgb(178,24,43)"
            ],
            [
             0.2,
             "rgb(214,96,77)"
            ],
            [
             0.3,
             "rgb(244,165,130)"
            ],
            [
             0.4,
             "rgb(253,219,199)"
            ],
            [
             0.5,
             "rgb(247,247,247)"
            ],
            [
             0.6,
             "rgb(209,229,240)"
            ],
            [
             0.7,
             "rgb(146,197,222)"
            ],
            [
             0.8,
             "rgb(67,147,195)"
            ],
            [
             0.9,
             "rgb(33,102,172)"
            ],
            [
             1,
             "rgb(5,48,97)"
            ]
           ],
           "sequential": [
            [
             0,
             "#440154"
            ],
            [
             0.1111111111111111,
             "#482878"
            ],
            [
             0.2222222222222222,
             "#3e4989"
            ],
            [
             0.3333333333333333,
             "#31688e"
            ],
            [
             0.4444444444444444,
             "#26828e"
            ],
            [
             0.5555555555555556,
             "#1f9e89"
            ],
            [
             0.6666666666666666,
             "#35b779"
            ],
            [
             0.7777777777777778,
             "#6ece58"
            ],
            [
             0.8888888888888888,
             "#b5de2b"
            ],
            [
             1,
             "#fde725"
            ]
           ],
           "sequentialminus": [
            [
             0,
             "#440154"
            ],
            [
             0.1111111111111111,
             "#482878"
            ],
            [
             0.2222222222222222,
             "#3e4989"
            ],
            [
             0.3333333333333333,
             "#31688e"
            ],
            [
             0.4444444444444444,
             "#26828e"
            ],
            [
             0.5555555555555556,
             "#1f9e89"
            ],
            [
             0.6666666666666666,
             "#35b779"
            ],
            [
             0.7777777777777778,
             "#6ece58"
            ],
            [
             0.8888888888888888,
             "#b5de2b"
            ],
            [
             1,
             "#fde725"
            ]
           ]
          },
          "colorway": [
           "#1F77B4",
           "#FF7F0E",
           "#2CA02C",
           "#D62728",
           "#9467BD",
           "#8C564B",
           "#E377C2",
           "#7F7F7F",
           "#BCBD22",
           "#17BECF"
          ],
          "font": {
           "color": "rgb(36,36,36)"
          },
          "geo": {
           "bgcolor": "white",
           "lakecolor": "white",
           "landcolor": "white",
           "showlakes": true,
           "showland": true,
           "subunitcolor": "white"
          },
          "height": 250,
          "hoverlabel": {
           "align": "left"
          },
          "hovermode": "closest",
          "mapbox": {
           "style": "light"
          },
          "margin": {
           "b": 10,
           "l": 10,
           "r": 10,
           "t": 10
          },
          "paper_bgcolor": "white",
          "plot_bgcolor": "white",
          "polar": {
           "angularaxis": {
            "gridcolor": "rgb(232,232,232)",
            "linecolor": "rgb(36,36,36)",
            "showgrid": false,
            "showline": true,
            "ticks": "outside"
           },
           "bgcolor": "white",
           "radialaxis": {
            "gridcolor": "rgb(232,232,232)",
            "linecolor": "rgb(36,36,36)",
            "showgrid": false,
            "showline": true,
            "ticks": "outside"
           }
          },
          "scene": {
           "xaxis": {
            "backgroundcolor": "white",
            "gridcolor": "rgb(232,232,232)",
            "gridwidth": 2,
            "linecolor": "rgb(36,36,36)",
            "showbackground": true,
            "showgrid": false,
            "showline": true,
            "ticks": "outside",
            "zeroline": false,
            "zerolinecolor": "rgb(36,36,36)"
           },
           "yaxis": {
            "backgroundcolor": "white",
            "gridcolor": "rgb(232,232,232)",
            "gridwidth": 2,
            "linecolor": "rgb(36,36,36)",
            "showbackground": true,
            "showgrid": false,
            "showline": true,
            "ticks": "outside",
            "zeroline": false,
            "zerolinecolor": "rgb(36,36,36)"
           },
           "zaxis": {
            "backgroundcolor": "white",
            "gridcolor": "rgb(232,232,232)",
            "gridwidth": 2,
            "linecolor": "rgb(36,36,36)",
            "showbackground": true,
            "showgrid": false,
            "showline": true,
            "ticks": "outside",
            "zeroline": false,
            "zerolinecolor": "rgb(36,36,36)"
           }
          },
          "shapedefaults": {
           "fillcolor": "black",
           "line": {
            "width": 0
           },
           "opacity": 0.3
          },
          "ternary": {
           "aaxis": {
            "gridcolor": "rgb(232,232,232)",
            "linecolor": "rgb(36,36,36)",
            "showgrid": false,
            "showline": true,
            "ticks": "outside"
           },
           "baxis": {
            "gridcolor": "rgb(232,232,232)",
            "linecolor": "rgb(36,36,36)",
            "showgrid": false,
            "showline": true,
            "ticks": "outside"
           },
           "bgcolor": "white",
           "caxis": {
            "gridcolor": "rgb(232,232,232)",
            "linecolor": "rgb(36,36,36)",
            "showgrid": false,
            "showline": true,
            "ticks": "outside"
           }
          },
          "title": {
           "x": 0.5,
           "xanchor": "center"
          },
          "width": 350,
          "xaxis": {
           "automargin": true,
           "gridcolor": "rgb(232,232,232)",
           "linecolor": "rgb(36,36,36)",
           "showgrid": true,
           "showline": true,
           "ticks": "outside",
           "title": {
            "standoff": 15
           },
           "zeroline": false,
           "zerolinecolor": "rgb(36,36,36)"
          },
          "yaxis": {
           "automargin": true,
           "gridcolor": "rgb(232,232,232)",
           "linecolor": "rgb(36,36,36)",
           "showgrid": true,
           "showline": true,
           "ticks": "outside",
           "title": {
            "standoff": 15
           },
           "zeroline": false,
           "zerolinecolor": "rgb(36,36,36)"
          }
         }
        },
        "width": 450,
        "xaxis": {
         "anchor": "y",
         "autorange": true,
         "domain": [
          0,
          1
         ],
         "range": [
          0.6130538244904317,
          1.5626667769759242
         ],
         "title": {
          "text": "Tree Diameter (cm)"
         },
         "type": "log"
        },
        "yaxis": {
         "anchor": "x",
         "autorange": true,
         "domain": [
          0,
          1
         ],
         "range": [
          -0.08307230346803651,
          1.0138587227267812
         ],
         "title": {
          "text": "Proportion Down"
         },
         "type": "linear"
        }
       }
      },
      "image/png": "[encoded data removed]",
      "image/svg+xml": [
       "<svg class=\"main-svg\" xmlns=\"http://www.w3.org/2000/svg\" xmlns:xlink=\"http://www.w3.org/1999/xlink\" width=\"450\" height=\"250\" style=\"\" viewBox=\"0 0 450 250\"><rect x=\"0\" y=\"0\" width=\"450\" height=\"250\" style=\"fill: rgb(255, 255, 255); fill-opacity: 1;\"/><defs id=\"defs-4f304c\"><g class=\"clips\"><clipPath id=\"clip4f304cxyplot\" class=\"plotclip\"><rect width=\"380\" height=\"175\"/></clipPath><clipPath class=\"axesclip\" id=\"clip4f304cx\"><rect x=\"60\" y=\"0\" width=\"380\" height=\"250\"/></clipPath><clipPath class=\"axesclip\" id=\"clip4f304cy\"><rect x=\"0\" y=\"16\" width=\"450\" height=\"175\"/></clipPath><clipPath class=\"axesclip\" id=\"clip4f304cxy\"><rect x=\"60\" y=\"16\" width=\"380\" height=\"175\"/></clipPath></g><g class=\"gradients\"/><g class=\"patterns\"/></defs><g class=\"bglayer\"/><g class=\"layer-below\"><g class=\"imagelayer\"/><g class=\"shapelayer\"/></g><g class=\"cartesianlayer\"><g class=\"subplot xy\"><g class=\"layer-subplot\"><g class=\"shapelayer\"/><g class=\"imagelayer\"/></g><g class=\"gridlayer\"><g class=\"x\"><path class=\"xgrid crisp\" transform=\"translate(94.38,0)\" d=\"M0,16v175\" style=\"stroke: rgb(232, 232, 232); stroke-opacity: 1; stroke-width: 1px;\"/><path class=\"xgrid crisp\" transform=\"translate(214.84,0)\" d=\"M0,16v175\" style=\"stroke: rgb(232, 232, 232); stroke-opacity: 1; stroke-width: 1px;\"/><path class=\"xgrid crisp\" transform=\"translate(285.31,0)\" d=\"M0,16v175\" style=\"stroke: rgb(232, 232, 232); stroke-opacity: 1; stroke-width: 1px;\"/><path class=\"xgrid crisp\" transform=\"translate(335.3,0)\" d=\"M0,16v175\" style=\"stroke: rgb(232, 232, 232); stroke-opacity: 1; stroke-width: 1px;\"/><path class=\"xgrid crisp\" transform=\"translate(374.08,0)\" d=\"M0,16v175\" style=\"stroke: rgb(232, 232, 232); stroke-opacity: 1; stroke-width: 1px;\"/><path class=\"xgrid crisp\" transform=\"translate(405.77,0)\" d=\"M0,16v175\" style=\"stroke: rgb(232, 232, 232); stroke-opacity: 1; stroke-width: 1px;\"/><path class=\"xgrid crisp\" transform=\"translate(432.56,0)\" d=\"M0,16v175\" style=\"stroke: rgb(232, 232, 232); stroke-opacity: 1; stroke-width: 1px;\"/></g><g class=\"y\"><path class=\"ygrid crisp\" transform=\"translate(0,177.75)\" d=\"M60,0h380\" style=\"stroke: rgb(232, 232, 232); stroke-opacity: 1; stroke-width: 1px;\"/><path class=\"ygrid crisp\" transform=\"translate(0,97.98)\" d=\"M60,0h380\" style=\"stroke: rgb(232, 232, 232); stroke-opacity: 1; stroke-width: 1px;\"/><path class=\"ygrid crisp\" transform=\"translate(0,18.21)\" d=\"M60,0h380\" style=\"stroke: rgb(232, 232, 232); stroke-opacity: 1; stroke-width: 1px;\"/></g></g><g class=\"zerolinelayer\"/><path class=\"xlines-below\"/><path class=\"ylines-below\"/><g class=\"overlines-below\"/><g class=\"xaxislayer-below\"/><g class=\"yaxislayer-below\"/><g class=\"overaxes-below\"/><g class=\"plot\" transform=\"translate(60,16)\" clip-path=\"url(#clip4f304cxyplot)\"><g class=\"scatterlayer mlayer\"><g class=\"trace scatter trace182349\" style=\"stroke-miterlimit: 2; opacity: 1;\"><g class=\"fills\"/><g class=\"errorbars\"/><g class=\"lines\"/><g class=\"points\"><path class=\"point\" transform=\"translate(34.38,150.87)\" d=\"M13.76,0A13.76,13.76 0 1,1 0,-13.76A13.76,13.76 0 0,1 13.76,0Z\" style=\"opacity: 0.7; stroke-width: 1px; fill: rgb(31, 119, 180); fill-opacity: 1; stroke: rgb(255, 255, 255); stroke-opacity: 1;\"/><path class=\"point\" transform=\"translate(66.07,149.74)\" d=\"M14.14,0A14.14,14.14 0 1,1 0,-14.14A14.14,14.14 0 0,1 14.14,0Z\" style=\"opacity: 0.7; stroke-width: 1px; fill: rgb(31, 119, 180); fill-opacity: 1; stroke: rgb(255, 255, 255); stroke-opacity: 1;\"/><path class=\"point\" transform=\"translate(92.86,130.19)\" d=\"M13.99,0A13.99,13.99 0 1,1 0,-13.99A13.99,13.99 0 0,1 13.99,0Z\" style=\"opacity: 0.7; stroke-width: 1px; fill: rgb(31, 119, 180); fill-opacity: 1; stroke: rgb(255, 255, 255); stroke-opacity: 1;\"/><path class=\"point\" transform=\"translate(116.06,132.12)\" d=\"M12.27,0A12.27,12.27 0 1,1 0,-12.27A12.27,12.27 0 0,1 12.27,0Z\" style=\"opacity: 0.7; stroke-width: 1px; fill: rgb(31, 119, 180); fill-opacity: 1; stroke: rgb(255, 255, 255); stroke-opacity: 1;\"/><path class=\"point\" transform=\"translate(136.53,112.91)\" d=\"M10.27,0A10.27,10.27 0 1,1 0,-10.27A10.27,10.27 0 0,1 10.27,0Z\" style=\"opacity: 0.7; stroke-width: 1px; fill: rgb(31, 119, 180); fill-opacity: 1; stroke: rgb(255, 255, 255); stroke-opacity: 1;\"/><path class=\"point\" transform=\"translate(154.84,90.84)\" d=\"M10.78,0A10.78,10.78 0 1,1 0,-10.78A10.78,10.78 0 0,1 10.78,0Z\" style=\"opacity: 0.7; stroke-width: 1px; fill: rgb(31, 119, 180); fill-opacity: 1; stroke: rgb(255, 255, 255); stroke-opacity: 1;\"/><path class=\"point\" transform=\"translate(186.53,64.53)\" d=\"M11.73,0A11.73,11.73 0 1,1 0,-11.73A11.73,11.73 0 0,1 11.73,0Z\" style=\"opacity: 0.7; stroke-width: 1px; fill: rgb(31, 119, 180); fill-opacity: 1; stroke: rgb(255, 255, 255); stroke-opacity: 1;\"/><path class=\"point\" transform=\"translate(213.32,58.19)\" d=\"M11.07,0A11.07,11.07 0 1,1 0,-11.07A11.07,11.07 0 0,1 11.07,0Z\" style=\"opacity: 0.7; stroke-width: 1px; fill: rgb(31, 119, 180); fill-opacity: 1; stroke: rgb(255, 255, 255); stroke-opacity: 1;\"/><path class=\"point\" transform=\"translate(247.06,38.03)\" d=\"M10.27,0A10.27,10.27 0 1,1 0,-10.27A10.27,10.27 0 0,1 10.27,0Z\" style=\"opacity: 0.7; stroke-width: 1px; fill: rgb(31, 119, 180); fill-opacity: 1; stroke: rgb(255, 255, 255); stroke-opacity: 1;\"/><path class=\"point\" transform=\"translate(275.3,28.8)\" d=\"M7.18,0A7.18,7.18 0 1,1 0,-7.18A7.18,7.18 0 0,1 7.18,0Z\" style=\"opacity: 0.7; stroke-width: 1px; fill: rgb(31, 119, 180); fill-opacity: 1; stroke: rgb(255, 255, 255); stroke-opacity: 1;\"/><path class=\"point\" transform=\"translate(314.08,36.4)\" d=\"M5.49,0A5.49,5.49 0 1,1 0,-5.49A5.49,5.49 0 0,1 5.49,0Z\" style=\"opacity: 0.7; stroke-width: 1px; fill: rgb(31, 119, 180); fill-opacity: 1; stroke: rgb(255, 255, 255); stroke-opacity: 1;\"/><path class=\"point\" transform=\"translate(356.98,28.8)\" d=\"M3.59,0A3.59,3.59 0 1,1 0,-3.59A3.59,3.59 0 0,1 3.59,0Z\" style=\"opacity: 0.7; stroke-width: 1px; fill: rgb(31, 119, 180); fill-opacity: 1; stroke: rgb(255, 255, 255); stroke-opacity: 1;\"/></g><g class=\"text\"/></g><g class=\"trace scatter trace4c0707\" style=\"stroke-miterlimit: 2; opacity: 1;\"><g class=\"fills\"/><g class=\"errorbars\"/><g class=\"lines\"><path class=\"js-line\" d=\"M34.38,149.57L54.13,145.07L60.72,143.27L80.47,136.83L87.05,134.31L106.8,125.55L113.39,122.22L133.14,111.08L139.72,107.02L166.06,89.49L172.64,84.91L212.14,58.1L218.73,53.99L238.48,42.7L245.06,39.32L264.81,30.39L271.4,27.81L291.15,21.22L297.73,19.38L317.48,14.75L324.07,13.48L350.4,9.51L356.98,8.75\" style=\"vector-effect: non-scaling-stroke; fill: none; stroke: rgb(255, 165, 0); stroke-opacity: 1; stroke-width: 3px; opacity: 1;\"/></g><g class=\"points\"/><g class=\"text\"/></g></g></g><g class=\"overplot\"/><path class=\"xlines-above crisp\" d=\"M59,191.5H440\" style=\"fill: none; stroke-width: 1px; stroke: rgb(36, 36, 36); stroke-opacity: 1;\"/><path class=\"ylines-above crisp\" d=\"M59.5,16V191\" style=\"fill: none; stroke-width: 1px; stroke: rgb(36, 36, 36); stroke-opacity: 1;\"/><g class=\"overlines-above\"/><g class=\"xaxislayer-above\"><path class=\"xtick ticks crisp\" d=\"M0,192v5\" transform=\"translate(94.38,0)\" style=\"stroke: rgb(68, 68, 68); stroke-opacity: 1; stroke-width: 1px;\"/><path class=\"xtick ticks crisp\" d=\"M0,192v5\" transform=\"translate(214.84,0)\" style=\"stroke: rgb(68, 68, 68); stroke-opacity: 1; stroke-width: 1px;\"/><path class=\"xtick ticks crisp\" d=\"M0,192v5\" transform=\"translate(285.31,0)\" style=\"stroke: rgb(68, 68, 68); stroke-opacity: 1; stroke-width: 1px;\"/><path class=\"xtick ticks crisp\" d=\"M0,192v5\" transform=\"translate(335.3,0)\" style=\"stroke: rgb(68, 68, 68); stroke-opacity: 1; stroke-width: 1px;\"/><path class=\"xtick ticks crisp\" d=\"M0,192v5\" transform=\"translate(374.08,0)\" style=\"stroke: rgb(68, 68, 68); stroke-opacity: 1; stroke-width: 1px;\"/><path class=\"xtick ticks crisp\" d=\"M0,192v5\" transform=\"translate(405.77,0)\" style=\"stroke: rgb(68, 68, 68); stroke-opacity: 1; stroke-width: 1px;\"/><path class=\"xtick ticks crisp\" d=\"M0,192v5\" transform=\"translate(432.56,0)\" style=\"stroke: rgb(68, 68, 68); stroke-opacity: 1; stroke-width: 1px;\"/><g class=\"xtick\"><text text-anchor=\"middle\" x=\"0\" y=\"211.4\" transform=\"translate(94.38,0)\" style=\"font-family: 'Open Sans', verdana, arial, sans-serif; font-size: 12px; fill: rgb(36, 36, 36); fill-opacity: 1; white-space: pre; opacity: 1;\">5</text></g><g class=\"xtick\"><text text-anchor=\"middle\" x=\"0\" y=\"211.4\" style=\"font-family: 'Open Sans', verdana, arial, sans-serif; font-size: 12px; fill: rgb(36, 36, 36); fill-opacity: 1; white-space: pre; opacity: 1;\" transform=\"translate(214.84,0)\">10</text></g><g class=\"xtick\"><text text-anchor=\"middle\" x=\"0\" y=\"211.4\" style=\"font-family: 'Open Sans', verdana, arial, sans-serif; font-size: 12px; fill: rgb(36, 36, 36); fill-opacity: 1; white-space: pre; opacity: 1;\" transform=\"translate(285.31,0)\">15</text></g><g class=\"xtick\"><text text-anchor=\"middle\" x=\"0\" y=\"211.4\" style=\"font-family: 'Open Sans', verdana, arial, sans-serif; font-size: 12px; fill: rgb(36, 36, 36); fill-opacity: 1; white-space: pre; opacity: 1;\" transform=\"translate(335.3,0)\">20</text></g><g class=\"xtick\"><text text-anchor=\"middle\" x=\"0\" y=\"211.4\" style=\"font-family: 'Open Sans', verdana, arial, sans-serif; font-size: 12px; fill: rgb(36, 36, 36); fill-opacity: 1; white-space: pre; opacity: 1;\" transform=\"translate(374.08,0)\">25</text></g><g class=\"xtick\"><text text-anchor=\"middle\" x=\"0\" y=\"211.4\" style=\"font-family: 'Open Sans', verdana, arial, sans-serif; font-size: 12px; fill: rgb(36, 36, 36); fill-opacity: 1; white-space: pre; opacity: 1;\" transform=\"translate(405.77,0)\">30</text></g><g class=\"xtick\"><text text-anchor=\"middle\" x=\"0\" y=\"211.4\" style=\"font-family: 'Open Sans', verdana, arial, sans-serif; font-size: 12px; fill: rgb(36, 36, 36); fill-opacity: 1; white-space: pre; opacity: 1;\" transform=\"translate(432.56,0)\">35</text></g></g><g class=\"yaxislayer-above\"><path class=\"ytick ticks crisp\" d=\"M59,0h-5\" transform=\"translate(0,177.75)\" style=\"stroke: rgb(68, 68, 68); stroke-opacity: 1; stroke-width: 1px;\"/><path class=\"ytick ticks crisp\" d=\"M59,0h-5\" transform=\"translate(0,97.98)\" style=\"stroke: rgb(68, 68, 68); stroke-opacity: 1; stroke-width: 1px;\"/><path class=\"ytick ticks crisp\" d=\"M59,0h-5\" transform=\"translate(0,18.21)\" style=\"stroke: rgb(68, 68, 68); stroke-opacity: 1; stroke-width: 1px;\"/><g class=\"ytick\"><text text-anchor=\"end\" x=\"51.6\" y=\"4.199999999999999\" transform=\"translate(0,177.75)\" style=\"font-family: 'Open Sans', verdana, arial, sans-serif; font-size: 12px; fill: rgb(36, 36, 36); fill-opacity: 1; white-space: pre; opacity: 1;\">0</text></g><g class=\"ytick\"><text text-anchor=\"end\" x=\"51.6\" y=\"4.199999999999999\" style=\"font-family: 'Open Sans', verdana, arial, sans-serif; font-size: 12px; fill: rgb(36, 36, 36); fill-opacity: 1; white-space: pre; opacity: 1;\" transform=\"translate(0,97.98)\">0.5</text></g><g class=\"ytick\"><text text-anchor=\"end\" x=\"51.6\" y=\"4.199999999999999\" style=\"font-family: 'Open Sans', verdana, arial, sans-serif; font-size: 12px; fill: rgb(36, 36, 36); fill-opacity: 1; white-space: pre; opacity: 1;\" transform=\"translate(0,18.21)\">1</text></g></g><g class=\"overaxes-above\"/></g></g><g class=\"polarlayer\"/><g class=\"smithlayer\"/><g class=\"ternarylayer\"/><g class=\"geolayer\"/><g class=\"funnelarealayer\"/><g class=\"pielayer\"/><g class=\"iciclelayer\"/><g class=\"treemaplayer\"/><g class=\"sunburstlayer\"/><g class=\"glimages\"/><defs id=\"topdefs-4f304c\"><g class=\"clips\"/></defs><g class=\"layer-above\"><g class=\"imagelayer\"/><g class=\"shapelayer\"/></g><g class=\"infolayer\"><g class=\"g-gtitle\"/><g class=\"g-xtitle\"><text class=\"xtitle\" x=\"250\" y=\"239.70625\" text-anchor=\"middle\" style=\"font-family: 'Open Sans', verdana, arial, sans-serif; font-size: 14px; fill: rgb(36, 36, 36); opacity: 1; font-weight: normal; white-space: pre;\">Tree Diameter (cm)</text></g><g class=\"g-ytitle\" transform=\"translate(5.1279296875,0)\"><text class=\"ytitle\" transform=\"rotate(-90,9.871875000000003,103.5)\" x=\"9.871875000000003\" y=\"103.5\" text-anchor=\"middle\" style=\"font-family: 'Open Sans', verdana, arial, sans-serif; font-size: 14px; fill: rgb(36, 36, 36); opacity: 1; font-weight: normal; white-space: pre;\">Proportion Down</text></g></g></svg>"
      ]
     },
     "metadata": {},
     "output_type": "display_data"
    }
   ],
   "source": [
    "X_plt = np.expand_dims(np.linspace(X.min(), X.max(), 50),1)\n",
    "p_hats = lr_model.predict_proba(X_plt)\n",
    "X_orig = np.exp(X_plt)\n",
    "\n",
    "\n",
    "fig = px.scatter(tree_bins, x='diameter', y='proportion', size='count', log_x=True,\n",
    "        labels={'diameter':\"Tree Diameter (cm)\", 'proportion':\"Proportion Down\"},\n",
    "        width=450, height=250)\n",
    "\n",
    "fig.add_trace(go.Scatter(x=X_orig.flatten(), y=p_hats[:,1],\n",
    "                         line=dict(color=\"orange\", width=3)))\n",
    "\n",
    "fig.update_layout(showlegend=False)              \n",
    "fig"
   ]
  },
  {
   "cell_type": "markdown",
   "metadata": {},
   "source": [
    "The curve follows the proportions reasonably well. In fact, we selected this particular logistic by fitting it to the data. The fitted logistic regression is "
   ]
  },
  {
   "cell_type": "code",
   "execution_count": 52,
   "metadata": {},
   "outputs": [
    {
     "data": {
      "text/plain": [
       "0.12531303145932227"
      ]
     },
     "execution_count": 52,
     "metadata": {},
     "output_type": "execute_result"
    }
   ],
   "source": [
    "1/(1+np.exp(7.39 - 3.04*np.log(6)))"
   ]
  },
  {
   "cell_type": "markdown",
   "metadata": {},
   "source": [
    "The "
   ]
  },
  {
   "cell_type": "markdown",
   "metadata": {},
   "source": [
    "The curve follows the proportions reasonably well. In fact, we selected this particular logistic by fitting it to the data. To do this, we chose a loss function and minimized the average loss for our data with respect to the model parameters. Our choice of loss function is the topic of the next section. "
   ]
  }
 ],
 "metadata": {
  "kernelspec": {
   "display_name": "Python 3",
   "language": "python",
   "name": "python3"
  },
  "language_info": {
   "codemirror_mode": {
    "name": "ipython",
    "version": 3
   },
   "file_extension": ".py",
   "mimetype": "text/x-python",
   "name": "python",
   "nbconvert_exporter": "python",
   "pygments_lexer": "ipython3",
   "version": "3.9.4"
  },
  "toc": {
   "nav_menu": {},
   "number_sections": false,
   "sideBar": false,
   "skip_h1_title": false,
   "title_cell": "Table of Contents",
   "title_sidebar": "Contents",
   "toc_cell": true,
   "toc_position": {},
   "toc_section_display": true,
   "toc_window_display": false
  }
 },
 "nbformat": 4,
 "nbformat_minor": 4
}
