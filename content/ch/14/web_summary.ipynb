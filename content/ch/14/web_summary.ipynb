{
 "cells": [
  {
   "cell_type": "markdown",
   "metadata": {},
   "source": [
    "(sec:web_summary)=\n",
    "# Summary"
   ]
  },
  {
   "cell_type": "markdown",
   "metadata": {},
   "source": [
    "The Internet abounds with data that are stored and exchanged in many different formats. In this chapter our aim has been to give you a flavor for the variety of formats available and a basic understanding of how to acquire data from online sources and services. We have also addressed the important goal of acquiring data in a reproducible fashion. Rather than copy-and-paste from a web page or complete an online form by hand, we have demonstrated how to write code to acquire data. This code gives you a record of your work flow and of the data provenance. \n",
    "\n",
    "With each format introduced, we described a model for its structure. A basic understanding of a dataset's organization, helps you uncover mistakes in reading a source, issues with quality, and how best to wrangle and analyze the data. In the long run, as you continue to develop your data science skills, you will be exposed to other forms of  data exchange, and we expect this approach of considering the model and getting your hands dirty with some simple cases should serve you well. \n",
    "\n",
    "We have only touched the surface of Web services. Topics like how to keep connections alive, retrieve data in batches, use cookies, make multiple  connections, etc. But understanding the basics presented here can get you a long way. For example, if you use a library to retrieve data from an API and things go wrong, you can poke around to see what might have gone wrong. And, you will know what's possible when a new web service comes online. \n",
    "\n",
    "Web etiquette is a topic that we must mention. If you plan to scrape data from a Web site, it's a good idea to check that you have permission to do so.  When we sign up to be a client for a web app, we typically check a box indicating our agreement to the terms of service. \n",
    "\n",
    "If you use a Web service or scrape web pages, be careful not to overburden the site with your requests. If a site offers a version of the data in a format, like CSV, JOSN, or XML, then it's better to download and use these than scrape from from a web page. Likewise, if there is a Python library that provides structured access to a web app, then use it rather than write your own code. When you make requests, start small to test your code, and consider saving the results so you don't have to repeat requests unnecessarily. \n",
    "\n",
    "We have by no means provided the depth of material to make you an expert in working with any of these data formats or with requesting data from web services. But, we hope that you have gained the confidence to learn more about a format, to consider when to use one of these formats, and to participate in projects that use these and new formats. "
   ]
  },
  {
   "cell_type": "code",
   "execution_count": null,
   "metadata": {},
   "outputs": [],
   "source": []
  }
 ],
 "metadata": {
  "kernelspec": {
   "display_name": "Python 3",
   "language": "python",
   "name": "python3"
  },
  "language_info": {
   "codemirror_mode": {
    "name": "ipython",
    "version": 3
   },
   "file_extension": ".py",
   "mimetype": "text/x-python",
   "name": "python",
   "nbconvert_exporter": "python",
   "pygments_lexer": "ipython3",
   "version": "3.9.4"
  }
 },
 "nbformat": 4,
 "nbformat_minor": 4
}
