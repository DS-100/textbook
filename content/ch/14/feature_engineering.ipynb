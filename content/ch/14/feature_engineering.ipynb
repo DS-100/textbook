{
 "cells": [
  {
   "cell_type": "markdown",
   "metadata": {},
   "source": [
    "# Feature Engineering\n",
    "\n",
    "Feature engineering refers to the practice of creating and adding new features\n",
    "to the dataset itself in order to add complexity to our models.\n",
    "\n",
    "So far we have only conducted linear regression using numerical features\n",
    "as the input—we used the (numeric) total bill in order to predict the tip\n",
    "amount. However, the tip dataset also contained categorical data, such as the\n",
    "day of week and the meal type. Feature engineering allows us to convert\n",
    "categorical variables into numerical features for linear regression.\n",
    "\n",
    "Feature engineering also allows us to use our linear regression model to\n",
    "conduct polynomial regression by creating new variables in our dataset.\n"
   ]
  }
 ],
 "metadata": {},
 "nbformat": 4,
 "nbformat_minor": 2
}
