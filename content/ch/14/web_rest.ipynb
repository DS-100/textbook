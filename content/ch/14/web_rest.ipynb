{
 "cells": [
  {
   "cell_type": "code",
   "execution_count": 2,
   "metadata": {
    "tags": [
     "remove-cell"
    ]
   },
   "outputs": [],
   "source": [
    "import sys\n",
    "import os\n",
    "if not any(path.endswith('textbook') for path in sys.path):\n",
    "    sys.path.append(os.path.abspath('../../..'))\n",
    "from textbook_utils import *"
   ]
  },
  {
   "attachments": {},
   "cell_type": "markdown",
   "metadata": {},
   "source": [
    "# REST\n"
   ]
  },
  {
   "attachments": {},
   "cell_type": "markdown",
   "metadata": {},
   "source": [
    "Web services are increasingly implementing the REST (REpresentational State Transfer) architecture for developers to access their data. These include social media platforms like Twitter and Instagram, music apps like Spotify, real estate apps like Zillow, scientific sources of data such as the Climate Data Store, government data at the World Bank, and many many more. The basic idea behind REST is that every URL identifies a resource (data).\n"
   ]
  },
  {
   "attachments": {},
   "cell_type": "markdown",
   "metadata": {},
   "source": [
    "REST is stateless, meaning that the server does not remember the client from\n",
    "one request to the next. This aspect of REST has a few advantages: the server\n",
    "and the client can understand any message received without seeing previous\n",
    "messages; code can be changed on either the client or server side without\n",
    "impacting the operation of the service; and access is scalable, fast, modular,\n",
    "and independent.\n",
    "\n",
    "In this section, we work through an example to retrieve data from Spotify.\n"
   ]
  },
  {
   "attachments": {},
   "cell_type": "markdown",
   "metadata": {},
   "source": [
    "## Example: Retrieving Info on Clash Songs from Spotify\n",
    "\n",
    "Our example follows [Steven Morse's blog post](https://stmorse.github.io/journal/spotify-api.html), where we\n",
    "use both POST and GET methods in a series of requests to retrieve data on songs by [The Clash](https://www.theclash.com/).\n"
   ]
  },
  {
   "attachments": {},
   "cell_type": "markdown",
   "metadata": {},
   "source": [
    ":::{note}\n",
    "\n",
    "In practice, we wouldn't write GET and POST requests ourselves for Spotify.\n",
    "Instead, we'd use the [`spotipy`](https://spotipy.readthedocs.io/en/2.22.1/)\n",
    "library, which has functions to interact with the [Spotify Web\n",
    "API](https://developer.spotify.com/). That said, data scientists can often find\n",
    "themselves in the position of wanting to access data available via REST that\n",
    "doesn't have a Python library available, so this section shows how to get data\n",
    "from a RESTful website like Spotify. \n",
    "\n",
    ":::\n"
   ]
  },
  {
   "attachments": {},
   "cell_type": "markdown",
   "metadata": {},
   "source": [
    "Typically a REST application provides documentation with examples on how to request their data. Spotify has extensive documentation geared to developers who want to build an app, but we can also access their service just to explore data. To do that, we need to register as a developer and get a client ID and secret. We then use these to identify us to Spotify in our HTTP requests."
   ]
  },
  {
   "attachments": {},
   "cell_type": "markdown",
   "metadata": {},
   "source": [
    "After we register, we can begin to request data. There are basically two steps in this process: authenticate and request resources.\n",
    "\n",
    "To authenticate, we issue a POST request, where we give the web service our client ID and secret. We provide these in the header of the request. In return, we receive a token from the server that authorizes us to make requests.\n"
   ]
  },
  {
   "attachments": {},
   "cell_type": "markdown",
   "metadata": {},
   "source": [
    "We begin the process and authenticate:\n"
   ]
  },
  {
   "cell_type": "code",
   "execution_count": 23,
   "metadata": {},
   "outputs": [],
   "source": [
    "AUTH_URL = 'https://accounts.spotify.com/api/token'"
   ]
  },
  {
   "cell_type": "code",
   "execution_count": 26,
   "metadata": {},
   "outputs": [],
   "source": [
    "import requests\n",
    "auth_response = requests.post(AUTH_URL, {\n",
    "    'grant_type': 'client_credentials',\n",
    "    'client_id': CLIENT_ID,\n",
    "    'client_secret': CLIENT_SECRET,\n",
    "})"
   ]
  },
  {
   "attachments": {},
   "cell_type": "markdown",
   "metadata": {},
   "source": [
    "We provided our ID and secret in key:value pairs in the header of our POST request. We can check the status of our request to see if it was successful:\n"
   ]
  },
  {
   "cell_type": "code",
   "execution_count": 27,
   "metadata": {},
   "outputs": [
    {
     "data": {
      "text/plain": [
       "200"
      ]
     },
     "execution_count": 27,
     "metadata": {},
     "output_type": "execute_result"
    }
   ],
   "source": [
    "auth_response.status_code"
   ]
  },
  {
   "attachments": {},
   "cell_type": "markdown",
   "metadata": {},
   "source": [
    "And, let's check the type of content in the body of the response:\n"
   ]
  },
  {
   "cell_type": "code",
   "execution_count": 28,
   "metadata": {},
   "outputs": [
    {
     "data": {
      "text/plain": [
       "'application/json'"
      ]
     },
     "execution_count": 28,
     "metadata": {},
     "output_type": "execute_result"
    }
   ],
   "source": [
    "auth_response.headers['content-type']"
   ]
  },
  {
   "attachments": {},
   "cell_type": "markdown",
   "metadata": {},
   "source": [
    "The body of the response contains the token that we need in the next step to get the data. Since, this information is JSON formatted, we can check the keys and retrieve the token:\n"
   ]
  },
  {
   "cell_type": "code",
   "execution_count": 29,
   "metadata": {},
   "outputs": [
    {
     "data": {
      "text/plain": [
       "dict_keys(['access_token', 'token_type', 'expires_in'])"
      ]
     },
     "execution_count": 29,
     "metadata": {},
     "output_type": "execute_result"
    }
   ],
   "source": [
    "auth_response_data = auth_response.json()\n",
    "auth_response_data.keys()"
   ]
  },
  {
   "cell_type": "code",
   "execution_count": 30,
   "metadata": {},
   "outputs": [],
   "source": [
    "access_token = auth_response_data['access_token']\n",
    "token_type = auth_response_data['token_type']"
   ]
  },
  {
   "attachments": {},
   "cell_type": "markdown",
   "metadata": {},
   "source": [
    "Notice that we did hid our ID and secret so others reading this book can't imitate us. This request won't be successful without a valid ID and secret. For example, below we make up an ID and secret and try to authenticate:\n"
   ]
  },
  {
   "cell_type": "code",
   "execution_count": 31,
   "metadata": {},
   "outputs": [],
   "source": [
    "bad_ID = '0123456789'\n",
    "bad_SECRET = 'a1b2c3d4e5'\n",
    "\n",
    "auth_bad = requests.post(AUTH_URL, {\n",
    "    'grant_type': 'client_credentials',\n",
    "    'client_id': bad_ID, 'client_secret': bad_SECRET,\n",
    "})"
   ]
  },
  {
   "attachments": {},
   "cell_type": "markdown",
   "metadata": {},
   "source": [
    "We check the status of this \"bad\" request:\n"
   ]
  },
  {
   "cell_type": "code",
   "execution_count": 32,
   "metadata": {},
   "outputs": [
    {
     "data": {
      "text/plain": [
       "400"
      ]
     },
     "execution_count": 32,
     "metadata": {},
     "output_type": "execute_result"
    }
   ],
   "source": [
    "auth_bad.status_code"
   ]
  },
  {
   "attachments": {},
   "cell_type": "markdown",
   "metadata": {},
   "source": [
    "According to {numref}`Table %s <response-codes>`, a code of 400 means that we issued a bad request. For one more example, Spotify shuts us down if we take too much time making requests. A couple of times we ran into this issue when writing this section and received the following code telling us our token had expired:\n",
    "\n",
    "```\n",
    "res_clash.status_code\n",
    "\n",
    "401\n",
    "```\n"
   ]
  },
  {
   "attachments": {},
   "cell_type": "markdown",
   "metadata": {},
   "source": [
    "Now for the second step, let's get some data.\n",
    "\n",
    "Requests for resources can be made via GET for Spotify. Other services may require POSTs. Requests must include the token we received from the web service when we authenticated, which we can use over and over. We pass the access token in the header of our GET request. We construct the name_value pairs as a dictionary:\n"
   ]
  },
  {
   "cell_type": "code",
   "execution_count": 34,
   "metadata": {},
   "outputs": [],
   "source": [
    "headers = {\"Authorization\": f\"{token_type} {access_token}\"}"
   ]
  },
  {
   "attachments": {},
   "cell_type": "markdown",
   "metadata": {},
   "source": [
    "The developer API tells us that an artist's albums are available at URLs that look like:\n",
    "'https://api.spotify.com/v1/artists/3RGLhK1IP9jnYFH4BRFJBS/albums' where the code between 'artists/' and '/albums' is an artist's ID. This particular code is for The Clash. Also information about the tracks on an album is available at a URL like: 'https://api.spotify.com/v1/albums/49kzgMsxHU5CTeb2XmFHjo/tracks' where the identifier here is for the album.\n",
    "\n",
    "If we know the ID for an artist, we can retrieve the IDs for their albums, and in turn, we can get data about the tracks on the albums. Our first step was to get the ID for The Clash from Spotify's site:\n"
   ]
  },
  {
   "cell_type": "code",
   "execution_count": 35,
   "metadata": {},
   "outputs": [],
   "source": [
    "artist_id = '3RGLhK1IP9jnYFH4BRFJBS'"
   ]
  },
  {
   "attachments": {},
   "cell_type": "markdown",
   "metadata": {},
   "source": [
    "Our first data request retrieves the group's albums. We construct the URL using `artist_id` and pass our access token in the header:\n"
   ]
  },
  {
   "cell_type": "code",
   "execution_count": 37,
   "metadata": {},
   "outputs": [],
   "source": [
    "BASE_URL = \"https://api.spotify.com/v1/\"\n",
    "\n",
    "res_clash = requests.get(\n",
    "    BASE_URL + \"artists/\" + artist_id + \"/albums\",\n",
    "    headers=headers,\n",
    "    params={\"include_groups\": \"album\"},\n",
    ")"
   ]
  },
  {
   "cell_type": "code",
   "execution_count": 38,
   "metadata": {},
   "outputs": [
    {
     "data": {
      "text/plain": [
       "200"
      ]
     },
     "execution_count": 38,
     "metadata": {},
     "output_type": "execute_result"
    }
   ],
   "source": [
    "res_clash.status_code"
   ]
  },
  {
   "attachments": {},
   "cell_type": "markdown",
   "metadata": {},
   "source": [
    "Our request was successful. Now let's check the content-type of the response body:\n"
   ]
  },
  {
   "cell_type": "code",
   "execution_count": 39,
   "metadata": {},
   "outputs": [
    {
     "data": {
      "text/plain": [
       "'application/json; charset=utf-8'"
      ]
     },
     "execution_count": 39,
     "metadata": {},
     "output_type": "execute_result"
    }
   ],
   "source": [
    "res_clash.headers['content-type']"
   ]
  },
  {
   "attachments": {},
   "cell_type": "markdown",
   "metadata": {},
   "source": [
    "The resource returned is JSON so we can load it into a Python dictionary:\n"
   ]
  },
  {
   "cell_type": "code",
   "execution_count": 40,
   "metadata": {},
   "outputs": [],
   "source": [
    "clash_albums = res_clash.json()"
   ]
  },
  {
   "attachments": {},
   "cell_type": "markdown",
   "metadata": {},
   "source": [
    "After poking around a bit, we can find that album information is in the `items` element. The keys for the first album are:\n"
   ]
  },
  {
   "cell_type": "code",
   "execution_count": 41,
   "metadata": {},
   "outputs": [
    {
     "data": {
      "text/plain": [
       "dict_keys(['album_group', 'album_type', 'artists', 'available_markets', 'external_urls', 'href', 'id', 'images', 'name', 'release_date', 'release_date_precision', 'total_tracks', 'type', 'uri'])"
      ]
     },
     "execution_count": 41,
     "metadata": {},
     "output_type": "execute_result"
    }
   ],
   "source": [
    "clash_albums['items'][0].keys()"
   ]
  },
  {
   "attachments": {},
   "cell_type": "markdown",
   "metadata": {},
   "source": [
    "Let's print the album ids, names, and release dates for a few albums:\n"
   ]
  },
  {
   "cell_type": "code",
   "execution_count": 42,
   "metadata": {},
   "outputs": [
    {
     "name": "stdout",
     "output_type": "stream",
     "text": [
      "ID:  7nL9UERtRQCB5eWEQCINsh   Combat Rock + The People's Hall ---- 2022-05-20\n",
      "ID:  3un5bLdxz0zKhiZXlmnxWE   Live At Shea Stadium ---- 2008-08-26\n",
      "ID:  4dMWTj1OkiCKFN5yBMP1vS   Live at Shea Stadium (Remastered) ---- 2008\n",
      "ID:  1Au9637RH9pXjBv5uS3JpQ   From Here To Eternity Live ---- 1999-10-04\n"
     ]
    }
   ],
   "source": [
    "for album in clash_albums['items'][:4]:\n",
    "    print('ID: ', album['id'], ' ', album['name'], '----', album['release_date'])"
   ]
  },
  {
   "attachments": {},
   "cell_type": "markdown",
   "metadata": {},
   "source": [
    "We see that some albums are remastered and others are live performances. Next, we cycle through the albums, pick up their IDs, and for each album, request information about the tracks:\n"
   ]
  },
  {
   "cell_type": "code",
   "execution_count": 64,
   "metadata": {},
   "outputs": [],
   "source": [
    "tracks = []\n",
    "\n",
    "for album in clash_albums['items']: \n",
    "    tracks_url = f\"{BASE_URL}albums/{album['id']}/tracks\"\n",
    "    res_tracks = requests.get(tracks_url, headers=headers)\n",
    "    album_tracks = res_tracks.json()['items']\n",
    "    \n",
    "    for track in album_tracks:\n",
    "        features_url = f\"{BASE_URL}audio-features/{track['id']}\"\n",
    "        res_feat = requests.get(features_url, headers=headers)\n",
    "        features = res_feat.json()\n",
    "        \n",
    "        features.update({\n",
    "            'track_name': track.get('name'),\n",
    "            'album_name': album['name'],\n",
    "            'release_date': album['release_date'],\n",
    "            'album_id': album['id']\n",
    "        })\n",
    "        \n",
    "        tracks.append(features) "
   ]
  },
  {
   "attachments": {},
   "cell_type": "markdown",
   "metadata": {},
   "source": [
    "Over a dozen features are available to explore on the tracks. Let's close the example with a plot of danceability and loudness of The Clash songs:\n"
   ]
  },
  {
   "cell_type": "code",
   "execution_count": 71,
   "metadata": {
    "tags": [
     "hide-cell"
    ]
   },
   "outputs": [],
   "source": [
    "clash_df = pd.DataFrame(tracks)"
   ]
  },
  {
   "cell_type": "code",
   "execution_count": 72,
   "metadata": {
    "tags": [
     "hide-cell"
    ]
   },
   "outputs": [
    {
     "data": {
      "text/plain": [
       "Index(['danceability', 'energy', 'key', 'loudness', 'mode', 'speechiness',\n",
       "       'acousticness', 'instrumentalness', 'liveness', 'valence', 'tempo',\n",
       "       'type', 'id', 'uri', 'track_href', 'analysis_url', 'duration_ms',\n",
       "       'time_signature', 'track_name', 'album_name', 'release_date',\n",
       "       'album_id'],\n",
       "      dtype='object')"
      ]
     },
     "execution_count": 72,
     "metadata": {},
     "output_type": "execute_result"
    }
   ],
   "source": [
    "clash_df.columns"
   ]
  },
  {
   "cell_type": "code",
   "execution_count": 73,
   "metadata": {
    "tags": [
     "hide-input"
    ]
   },
   "outputs": [
    {
     "data": {
      "application/vnd.plotly.v1+json": {
       "config": {
        "plotlyServerURL": "https://plot.ly"
       },
       "data": [
        {
         "hovertemplate": "album_name=Combat Rock + The People's Hall<br>danceability=%{x}<br>loudness=%{y}<br>duration_ms=%{marker.size}<extra></extra>",
         "legendgroup": "Combat Rock + The People's Hall",
         "marker": {
          "color": "#1F77B4",
          "size": [
           219947,
           239800,
           189000,
           222427,
           224667,
           330467,
           292040,
           150013,
           271147,
           283347,
           161080,
           194733,
           261427,
           250613,
           354747,
           131613,
           377720,
           173013,
           309573,
           224947
          ],
          "sizemode": "area",
          "sizeref": 1111.4325,
          "symbol": "circle"
         },
         "mode": "markers",
         "name": "Combat Rock + The People's Hall",
         "orientation": "v",
         "showlegend": true,
         "type": "scatter",
         "x": [
          0.823,
          0.694,
          0.742,
          0.797,
          0.763,
          0.8,
          0.772,
          0.709,
          0.384,
          0.701,
          0.866,
          0.518,
          0.378,
          0.788,
          0.813,
          0.758,
          0.8,
          0.719,
          0.845,
          0.813
         ],
         "xaxis": "x",
         "y": [
          -7.435,
          -7.559,
          -6.305,
          -6.584,
          -8.519,
          -11.539,
          -8.619,
          -8.912,
          -16.123,
          -9.631,
          -8.926,
          -19.515,
          -25.493,
          -4.833,
          -6.756,
          -8.797,
          -8.257,
          -7.582,
          -8.015,
          -10.864
         ],
         "yaxis": "y"
        },
        {
         "hovertemplate": "album_name=Live At Shea Stadium<br>danceability=%{x}<br>loudness=%{y}<br>duration_ms=%{marker.size}<extra></extra>",
         "legendgroup": "Live At Shea Stadium",
         "marker": {
          "color": "#FF7F0E",
          "size": [
           70947,
           209387,
           208173,
           247800,
           199173,
           153933,
           175960,
           143467,
           201800,
           225733,
           125693,
           198347,
           266533,
           159800,
           163893,
           204440
          ],
          "sizemode": "area",
          "sizeref": 1111.4325,
          "symbol": "circle"
         },
         "mode": "markers",
         "name": "Live At Shea Stadium",
         "orientation": "v",
         "showlegend": true,
         "type": "scatter",
         "x": [
          0.432,
          0.424,
          0.41,
          0.585,
          0.246,
          0.654,
          0.653,
          0.618,
          0.385,
          0.614,
          0.25,
          0.412,
          0.393,
          0.27,
          0.36,
          0.222
         ],
         "xaxis": "x",
         "y": [
          -5.58,
          -2.469,
          -2.296,
          -4.07,
          -3.772,
          -4.555,
          -4.38,
          -3.865,
          -3.29,
          -2.234,
          -2.434,
          -3.281,
          -3.73,
          -4.072,
          -3.839,
          -3.834
         ],
         "yaxis": "y"
        },
        {
         "hovertemplate": "album_name=Live at Shea Stadium (Remastered)<br>danceability=%{x}<br>loudness=%{y}<br>duration_ms=%{marker.size}<extra></extra>",
         "legendgroup": "Live at Shea Stadium (Remastered)",
         "marker": {
          "color": "#2CA02C",
          "size": [
           70947,
           209387,
           208173,
           247800,
           199173,
           153933,
           175960,
           143467,
           201787,
           225747,
           126040,
           198333,
           266573,
           159427,
           164933,
           203560
          ],
          "sizemode": "area",
          "sizeref": 1111.4325,
          "symbol": "circle"
         },
         "mode": "markers",
         "name": "Live at Shea Stadium (Remastered)",
         "orientation": "v",
         "showlegend": true,
         "type": "scatter",
         "x": [
          0.466,
          0.435,
          0.416,
          0.592,
          0.248,
          0.661,
          0.533,
          0.625,
          0.396,
          0.621,
          0.255,
          0.414,
          0.402,
          0.289,
          0.352,
          0.214
         ],
         "xaxis": "x",
         "y": [
          -6.364,
          -3.141,
          -2.641,
          -4.542,
          -3.903,
          -5.055,
          -4.963,
          -4.407,
          -3.837,
          -2.655,
          -3.103,
          -3.397,
          -3.813,
          -4.167,
          -3.35,
          -3.181
         ],
         "yaxis": "y"
        },
        {
         "hovertemplate": "album_name=From Here To Eternity Live<br>danceability=%{x}<br>loudness=%{y}<br>duration_ms=%{marker.size}<extra></extra>",
         "legendgroup": "From Here To Eternity Live",
         "marker": {
          "color": "#D62728",
          "size": [
           225600,
           123800,
           103827,
           210000,
           126707,
           268067,
           178493,
           167040,
           154267,
           209240,
           305133,
           283667,
           216067,
           369133,
           245027,
           178200,
           444573
          ],
          "sizemode": "area",
          "sizeref": 1111.4325,
          "symbol": "circle"
         },
         "mode": "markers",
         "name": "From Here To Eternity Live",
         "orientation": "v",
         "showlegend": true,
         "type": "scatter",
         "x": [
          0.239,
          0.333,
          0.347,
          0.283,
          0.282,
          0.592,
          0.394,
          0.287,
          0.333,
          0.381,
          0.383,
          0.548,
          0.55,
          0.639,
          0.483,
          0.297,
          0.555
         ],
         "xaxis": "x",
         "y": [
          -5.589,
          -4.979,
          -4.843,
          -5.976,
          -5.25,
          -7.697,
          -6.682,
          -5.339,
          -5.569,
          -7.038,
          -8.158,
          -7.486,
          -7.356,
          -7.831,
          -6.117,
          -5.238,
          -11.406
         ],
         "yaxis": "y"
        },
        {
         "hovertemplate": "album_name=From Here to Eternity (Live) [Remastered]<br>danceability=%{x}<br>loudness=%{y}<br>duration_ms=%{marker.size}<extra></extra>",
         "legendgroup": "From Here to Eternity (Live) [Remastered]",
         "marker": {
          "color": "#9467BD",
          "size": [
           226213,
           122827,
           105293,
           209293,
           126813,
           265947,
           180280,
           167240,
           155880,
           209333,
           304640,
           282960,
           215520,
           369600,
           245227,
           195080,
           428373,
           213333,
           169360
          ],
          "sizemode": "area",
          "sizeref": 1111.4325,
          "symbol": "circle"
         },
         "mode": "markers",
         "name": "From Here to Eternity (Live) [Remastered]",
         "orientation": "v",
         "showlegend": true,
         "type": "scatter",
         "x": [
          0.241,
          0.34,
          0.211,
          0.293,
          0.308,
          0.602,
          0.422,
          0.448,
          0.344,
          0.389,
          0.39,
          0.553,
          0.565,
          0.643,
          0.501,
          0.291,
          0.555,
          0.219,
          0.268
         ],
         "xaxis": "x",
         "y": [
          -6.414,
          -5.845,
          -5.768,
          -6.954,
          -6.066,
          -7.867,
          -7.113,
          -6.82,
          -7.289,
          -7.945,
          -9.454,
          -8.718,
          -9.183,
          -8.868,
          -6.742,
          -6.366,
          -12.312,
          -7.384,
          -7.84
         ],
         "yaxis": "y"
        },
        {
         "hovertemplate": "album_name=Raw and Unfiltered<br>danceability=%{x}<br>loudness=%{y}<br>duration_ms=%{marker.size}<extra></extra>",
         "legendgroup": "Raw and Unfiltered",
         "marker": {
          "color": "#8C564B",
          "size": [
           46747,
           48849,
           76843,
           69836,
           38639,
           39606,
           40941,
           41842,
           47314,
           39473,
           55155,
           60794,
           41008,
           71905
          ],
          "sizemode": "area",
          "sizeref": 1111.4325,
          "symbol": "circle"
         },
         "mode": "markers",
         "name": "Raw and Unfiltered",
         "orientation": "v",
         "showlegend": true,
         "type": "scatter",
         "x": [
          0.667,
          0.711,
          0.668,
          0.711,
          0.743,
          0.61,
          0.672,
          0.631,
          0.694,
          0.671,
          0.563,
          0.666,
          0.762,
          0.652
         ],
         "xaxis": "x",
         "y": [
          -18.529,
          -16.213,
          -15.035,
          -18.194,
          -15.182,
          -13.761,
          -16.062,
          -16.999,
          -17.285,
          -16.33,
          -15.18,
          -15.477,
          -14.536,
          -15.343
         ],
         "yaxis": "y"
        },
        {
         "hovertemplate": "album_name=Raw and Unfiltered: The Interviews<br>danceability=%{x}<br>loudness=%{y}<br>duration_ms=%{marker.size}<extra></extra>",
         "legendgroup": "Raw and Unfiltered: The Interviews",
         "marker": {
          "color": "#E377C2",
          "size": [
           46747,
           48849,
           76843,
           69836,
           38639,
           39606,
           40941,
           41842,
           47314,
           39473,
           55155,
           60794,
           41008,
           71905
          ],
          "sizemode": "area",
          "sizeref": 1111.4325,
          "symbol": "circle"
         },
         "mode": "markers",
         "name": "Raw and Unfiltered: The Interviews",
         "orientation": "v",
         "showlegend": true,
         "type": "scatter",
         "x": [
          0.715,
          0.626,
          0.666,
          0.653,
          0.744,
          0.687,
          0.695,
          0.63,
          0.724,
          0.648,
          0.748,
          0.691,
          0.759,
          0.653
         ],
         "xaxis": "x",
         "y": [
          -18.485,
          -16.214,
          -15.035,
          -18.197,
          -15.182,
          -13.761,
          -16.054,
          -17.002,
          -17.285,
          -16.331,
          -15.178,
          -15.475,
          -14.536,
          -15.366
         ],
         "yaxis": "y"
        },
        {
         "hovertemplate": "album_name=Cut The Crap<br>danceability=%{x}<br>loudness=%{y}<br>duration_ms=%{marker.size}<extra></extra>",
         "legendgroup": "Cut The Crap",
         "marker": {
          "color": "#7F7F7F",
          "size": [
           180293,
           189693,
           182693,
           181507,
           202467,
           181600,
           230600,
           189200,
           187627,
           205160,
           212373,
           159133
          ],
          "sizemode": "area",
          "sizeref": 1111.4325,
          "symbol": "circle"
         },
         "mode": "markers",
         "name": "Cut The Crap",
         "orientation": "v",
         "showlegend": true,
         "type": "scatter",
         "x": [
          0.553,
          0.361,
          0.475,
          0.569,
          0.646,
          0.56,
          0.548,
          0.714,
          0.524,
          0.66,
          0.566,
          0.507
         ],
         "xaxis": "x",
         "y": [
          -11.895,
          -12.129,
          -11.687,
          -11.109,
          -13.299,
          -9.587,
          -12.438,
          -10.276,
          -15.621,
          -9.929,
          -11.53,
          -10.603
         ],
         "yaxis": "y"
        },
        {
         "hovertemplate": "album_name=Combat Rock<br>danceability=%{x}<br>loudness=%{y}<br>duration_ms=%{marker.size}<extra></extra>",
         "legendgroup": "Combat Rock",
         "marker": {
          "color": "#BCBD22",
          "size": [
           219307,
           237160,
           187893,
           220333,
           226307,
           330027,
           292133,
           145693,
           266533,
           279400,
           130640,
           189107
          ],
          "sizemode": "area",
          "sizeref": 1111.4325,
          "symbol": "circle"
         },
         "mode": "markers",
         "name": "Combat Rock",
         "orientation": "v",
         "showlegend": true,
         "type": "scatter",
         "x": [
          0.811,
          0.685,
          0.722,
          0.793,
          0.764,
          0.642,
          0.755,
          0.695,
          0.372,
          0.694,
          0.897,
          0.521
         ],
         "xaxis": "x",
         "y": [
          -12.249,
          -12.674,
          -11.009,
          -12.055,
          -13.454,
          -15.985,
          -11.791,
          -11.889,
          -18.099,
          -13.396,
          -13.291,
          -23.145
         ],
         "yaxis": "y"
        },
        {
         "hovertemplate": "album_name=Combat Rock (Remastered)<br>danceability=%{x}<br>loudness=%{y}<br>duration_ms=%{marker.size}<extra></extra>",
         "legendgroup": "Combat Rock (Remastered)",
         "marker": {
          "color": "#17BECF",
          "size": [
           220907,
           239813,
           188987,
           222427,
           224240,
           330507,
           292027,
           150000,
           271133,
           283373,
           162000,
           195840
          ],
          "sizemode": "area",
          "sizeref": 1111.4325,
          "symbol": "circle"
         },
         "mode": "markers",
         "name": "Combat Rock (Remastered)",
         "orientation": "v",
         "showlegend": true,
         "type": "scatter",
         "x": [
          0.814,
          0.691,
          0.743,
          0.797,
          0.759,
          0.802,
          0.778,
          0.714,
          0.383,
          0.7,
          0.866,
          0.521
         ],
         "xaxis": "x",
         "y": [
          -7.538,
          -7.717,
          -6.465,
          -6.727,
          -8.654,
          -11.663,
          -8.761,
          -9.021,
          -16.262,
          -9.795,
          -9.069,
          -19.665
         ],
         "yaxis": "y"
        },
        {
         "hovertemplate": "album_name=Sandinista! (Remastered)<br>danceability=%{x}<br>loudness=%{y}<br>duration_ms=%{marker.size}<extra></extra>",
         "legendgroup": "Sandinista! (Remastered)",
         "marker": {
          "color": "#1F77B4",
          "size": [
           333520,
           261813,
           292187,
           185453,
           102200,
           223333,
           206453,
           165133,
           328187,
           214387,
           211720,
           217693,
           291587,
           272213,
           162427,
           264267,
           276200,
           241627,
           196920,
           129627
          ],
          "sizemode": "area",
          "sizeref": 1111.4325,
          "symbol": "circle"
         },
         "mode": "markers",
         "name": "Sandinista! (Remastered)",
         "orientation": "v",
         "showlegend": true,
         "type": "scatter",
         "x": [
          0.799,
          0.613,
          0.78,
          0.485,
          0.678,
          0.648,
          0.624,
          0.518,
          0.725,
          0.486,
          0.738,
          0.744,
          0.712,
          0.435,
          0.664,
          0.516,
          0.617,
          0.488,
          0.554,
          0.518
         ],
         "xaxis": "x",
         "y": [
          -8.208,
          -6.74,
          -7.791,
          -7.235,
          -8.669,
          -8.801,
          -11.896,
          -10.337,
          -11.798,
          -7.678,
          -10.077,
          -12.589,
          -7.556,
          -7.398,
          -7.536,
          -8.984,
          -12.062,
          -8.018,
          -6.711,
          -9.677
         ],
         "yaxis": "y"
        },
        {
         "hovertemplate": "album_name=London Calling (Remastered)<br>danceability=%{x}<br>loudness=%{y}<br>duration_ms=%{marker.size}<extra></extra>",
         "legendgroup": "London Calling (Remastered)",
         "marker": {
          "color": "#FF7F0E",
          "size": [
           200480,
           128267,
           234333,
           163933,
           208867,
           198867,
           234600,
           226947,
           229213,
           192440,
           191493,
           235000,
           107813,
           229493,
           243067,
           175773,
           186027,
           333293,
           194667
          ],
          "sizemode": "area",
          "sizeref": 1111.4325,
          "symbol": "circle"
         },
         "mode": "markers",
         "name": "London Calling (Remastered)",
         "orientation": "v",
         "showlegend": true,
         "type": "scatter",
         "x": [
          0.651,
          0.52,
          0.528,
          0.594,
          0.636,
          0.609,
          0.555,
          0.608,
          0.676,
          0.74,
          0.491,
          0.679,
          0.496,
          0.487,
          0.555,
          0.467,
          0.498,
          0.638,
          0.762
         ],
         "xaxis": "x",
         "y": [
          -7.34,
          -6.534,
          -12.024,
          -6.723,
          -9.37,
          -7.902,
          -7.534,
          -11.24,
          -7.61,
          -9.487,
          -8.077,
          -7.28,
          -8.009,
          -7.743,
          -8.615,
          -6.813,
          -7.251,
          -10.341,
          -8.712
         ],
         "yaxis": "y"
        },
        {
         "hovertemplate": "album_name=London Calling (Expanded Edition)<br>danceability=%{x}<br>loudness=%{y}<br>duration_ms=%{marker.size}<extra></extra>",
         "legendgroup": "London Calling (Expanded Edition)",
         "marker": {
          "color": "#2CA02C",
          "size": [
           199733,
           128227,
           234933,
           164040,
           209133,
           198867,
           234693,
           227133,
           229133,
           189667,
           190800,
           235067,
           107933,
           229507,
           243093,
           175800,
           186067,
           333400,
           189600,
           203573
          ],
          "sizemode": "area",
          "sizeref": 1111.4325,
          "symbol": "circle"
         },
         "mode": "markers",
         "name": "London Calling (Expanded Edition)",
         "orientation": "v",
         "showlegend": true,
         "type": "scatter",
         "x": [
          0.654,
          0.523,
          0.531,
          0.606,
          0.642,
          0.616,
          0.546,
          0.61,
          0.678,
          0.745,
          0.498,
          0.676,
          0.495,
          0.477,
          0.565,
          0.478,
          0.499,
          0.636,
          0.768,
          0.628
         ],
         "xaxis": "x",
         "y": [
          -6.92,
          -6.234,
          -10.872,
          -6.617,
          -8.302,
          -7.929,
          -6.678,
          -10.927,
          -7.995,
          -9.311,
          -8.328,
          -7.058,
          -7.558,
          -7.378,
          -10.504,
          -6.414,
          -6.941,
          -9.838,
          -8.474,
          -11.574
         ],
         "yaxis": "y"
        },
        {
         "hovertemplate": "album_name=Give 'Em Enough Rope (Remastered)<br>danceability=%{x}<br>loudness=%{y}<br>duration_ms=%{marker.size}<extra></extra>",
         "legendgroup": "Give 'Em Enough Rope (Remastered)",
         "marker": {
          "color": "#D62728",
          "size": [
           230680,
           155293,
           197440,
           183067,
           313360,
           195240,
           223733,
           220587,
           205000,
           298453
          ],
          "sizemode": "area",
          "sizeref": 1111.4325,
          "symbol": "circle"
         },
         "mode": "markers",
         "name": "Give 'Em Enough Rope (Remastered)",
         "orientation": "v",
         "showlegend": true,
         "type": "scatter",
         "x": [
          0.241,
          0.297,
          0.353,
          0.491,
          0.469,
          0.582,
          0.331,
          0.517,
          0.346,
          0.528
         ],
         "xaxis": "x",
         "y": [
          -6.618,
          -5.373,
          -5.737,
          -5.756,
          -5.908,
          -5.818,
          -5.155,
          -6.03,
          -5.144,
          -5.906
         ],
         "yaxis": "y"
        },
        {
         "hovertemplate": "album_name=The Clash (UK Version)<br>danceability=%{x}<br>loudness=%{y}<br>duration_ms=%{marker.size}<extra></extra>",
         "legendgroup": "The Clash (UK Version)",
         "marker": {
          "color": "#9467BD",
          "size": [
           125400,
           180307,
           144773,
           115160,
           124600,
           100267,
           183733,
           131000,
           111667,
           126067,
           104693,
           360200,
           94800,
           192533
          ],
          "sizemode": "area",
          "sizeref": 1111.4325,
          "symbol": "circle"
         },
         "mode": "markers",
         "name": "The Clash (UK Version)",
         "orientation": "v",
         "showlegend": true,
         "type": "scatter",
         "x": [
          0.582,
          0.545,
          0.503,
          0.178,
          0.462,
          0.282,
          0.328,
          0.548,
          0.381,
          0.349,
          0.555,
          0.717,
          0.548,
          0.403
         ],
         "xaxis": "x",
         "y": [
          -8.501,
          -7.395,
          -7.013,
          -4.046,
          -6.913,
          -7.882,
          -7.2,
          -5.033,
          -7.806,
          -7.166,
          -6.708,
          -9.637,
          -8.664,
          -7.659
         ],
         "yaxis": "y"
        },
        {
         "hovertemplate": "album_name=The Clash<br>danceability=%{x}<br>loudness=%{y}<br>duration_ms=%{marker.size}<extra></extra>",
         "legendgroup": "The Clash",
         "marker": {
          "color": "#8C564B",
          "size": [
           125400,
           180307,
           144773,
           115160,
           124600,
           100267,
           183733,
           131000,
           111667,
           126067,
           104693,
           360200,
           94800,
           192533
          ],
          "sizemode": "area",
          "sizeref": 1111.4325,
          "symbol": "circle"
         },
         "mode": "markers",
         "name": "The Clash",
         "orientation": "v",
         "showlegend": true,
         "type": "scatter",
         "x": [
          0.582,
          0.545,
          0.503,
          0.178,
          0.462,
          0.282,
          0.328,
          0.548,
          0.381,
          0.349,
          0.555,
          0.717,
          0.548,
          0.403
         ],
         "xaxis": "x",
         "y": [
          -8.501,
          -7.395,
          -7.013,
          -4.046,
          -6.913,
          -7.882,
          -7.2,
          -5.033,
          -7.806,
          -7.166,
          -6.708,
          -9.637,
          -8.664,
          -7.659
         ],
         "yaxis": "y"
        },
        {
         "hovertemplate": "album_name=The Clash (Remastered)<br>danceability=%{x}<br>loudness=%{y}<br>duration_ms=%{marker.size}<extra></extra>",
         "legendgroup": "The Clash (Remastered)",
         "marker": {
          "color": "#E377C2",
          "size": [
           128720,
           183373,
           144600,
           116440,
           126907,
           101387,
           186627,
           131280,
           114347,
           126307,
           107067,
           363373,
           96400,
           194160
          ],
          "sizemode": "area",
          "sizeref": 1111.4325,
          "symbol": "circle"
         },
         "mode": "markers",
         "name": "The Clash (Remastered)",
         "orientation": "v",
         "showlegend": true,
         "type": "scatter",
         "x": [
          0.591,
          0.545,
          0.31,
          0.168,
          0.471,
          0.287,
          0.337,
          0.556,
          0.382,
          0.353,
          0.567,
          0.721,
          0.558,
          0.403
         ],
         "xaxis": "x",
         "y": [
          -7.83,
          -7.27,
          -6.943,
          -4.862,
          -7.123,
          -6.944,
          -6.59,
          -6.082,
          -8.056,
          -7.702,
          -7.35,
          -10.294,
          -7.935,
          -8.208
         ],
         "yaxis": "y"
        }
       ],
       "layout": {
        "height": 350,
        "legend": {
         "itemsizing": "constant",
         "title": {
          "text": "album_name"
         },
         "tracegroupgap": 0
        },
        "showlegend": false,
        "template": {
         "data": {
          "bar": [
           {
            "error_x": {
             "color": "rgb(36,36,36)"
            },
            "error_y": {
             "color": "rgb(36,36,36)"
            },
            "marker": {
             "line": {
              "color": "white",
              "width": 0.5
             },
             "pattern": {
              "fillmode": "overlay",
              "size": 10,
              "solidity": 0.2
             }
            },
            "type": "bar"
           }
          ],
          "barpolar": [
           {
            "marker": {
             "line": {
              "color": "white",
              "width": 0.5
             },
             "pattern": {
              "fillmode": "overlay",
              "size": 10,
              "solidity": 0.2
             }
            },
            "type": "barpolar"
           }
          ],
          "carpet": [
           {
            "aaxis": {
             "endlinecolor": "rgb(36,36,36)",
             "gridcolor": "white",
             "linecolor": "white",
             "minorgridcolor": "white",
             "startlinecolor": "rgb(36,36,36)"
            },
            "baxis": {
             "endlinecolor": "rgb(36,36,36)",
             "gridcolor": "white",
             "linecolor": "white",
             "minorgridcolor": "white",
             "startlinecolor": "rgb(36,36,36)"
            },
            "type": "carpet"
           }
          ],
          "choropleth": [
           {
            "colorbar": {
             "outlinewidth": 1,
             "tickcolor": "rgb(36,36,36)",
             "ticks": "outside"
            },
            "type": "choropleth"
           }
          ],
          "contour": [
           {
            "colorbar": {
             "outlinewidth": 1,
             "tickcolor": "rgb(36,36,36)",
             "ticks": "outside"
            },
            "colorscale": [
             [
              0,
              "#440154"
             ],
             [
              0.1111111111111111,
              "#482878"
             ],
             [
              0.2222222222222222,
              "#3e4989"
             ],
             [
              0.3333333333333333,
              "#31688e"
             ],
             [
              0.4444444444444444,
              "#26828e"
             ],
             [
              0.5555555555555556,
              "#1f9e89"
             ],
             [
              0.6666666666666666,
              "#35b779"
             ],
             [
              0.7777777777777778,
              "#6ece58"
             ],
             [
              0.8888888888888888,
              "#b5de2b"
             ],
             [
              1,
              "#fde725"
             ]
            ],
            "type": "contour"
           }
          ],
          "contourcarpet": [
           {
            "colorbar": {
             "outlinewidth": 1,
             "tickcolor": "rgb(36,36,36)",
             "ticks": "outside"
            },
            "type": "contourcarpet"
           }
          ],
          "heatmap": [
           {
            "colorbar": {
             "outlinewidth": 1,
             "tickcolor": "rgb(36,36,36)",
             "ticks": "outside"
            },
            "colorscale": [
             [
              0,
              "#440154"
             ],
             [
              0.1111111111111111,
              "#482878"
             ],
             [
              0.2222222222222222,
              "#3e4989"
             ],
             [
              0.3333333333333333,
              "#31688e"
             ],
             [
              0.4444444444444444,
              "#26828e"
             ],
             [
              0.5555555555555556,
              "#1f9e89"
             ],
             [
              0.6666666666666666,
              "#35b779"
             ],
             [
              0.7777777777777778,
              "#6ece58"
             ],
             [
              0.8888888888888888,
              "#b5de2b"
             ],
             [
              1,
              "#fde725"
             ]
            ],
            "type": "heatmap"
           }
          ],
          "heatmapgl": [
           {
            "colorbar": {
             "outlinewidth": 1,
             "tickcolor": "rgb(36,36,36)",
             "ticks": "outside"
            },
            "colorscale": [
             [
              0,
              "#440154"
             ],
             [
              0.1111111111111111,
              "#482878"
             ],
             [
              0.2222222222222222,
              "#3e4989"
             ],
             [
              0.3333333333333333,
              "#31688e"
             ],
             [
              0.4444444444444444,
              "#26828e"
             ],
             [
              0.5555555555555556,
              "#1f9e89"
             ],
             [
              0.6666666666666666,
              "#35b779"
             ],
             [
              0.7777777777777778,
              "#6ece58"
             ],
             [
              0.8888888888888888,
              "#b5de2b"
             ],
             [
              1,
              "#fde725"
             ]
            ],
            "type": "heatmapgl"
           }
          ],
          "histogram": [
           {
            "marker": {
             "line": {
              "color": "white",
              "width": 0.6
             }
            },
            "type": "histogram"
           }
          ],
          "histogram2d": [
           {
            "colorbar": {
             "outlinewidth": 1,
             "tickcolor": "rgb(36,36,36)",
             "ticks": "outside"
            },
            "colorscale": [
             [
              0,
              "#440154"
             ],
             [
              0.1111111111111111,
              "#482878"
             ],
             [
              0.2222222222222222,
              "#3e4989"
             ],
             [
              0.3333333333333333,
              "#31688e"
             ],
             [
              0.4444444444444444,
              "#26828e"
             ],
             [
              0.5555555555555556,
              "#1f9e89"
             ],
             [
              0.6666666666666666,
              "#35b779"
             ],
             [
              0.7777777777777778,
              "#6ece58"
             ],
             [
              0.8888888888888888,
              "#b5de2b"
             ],
             [
              1,
              "#fde725"
             ]
            ],
            "type": "histogram2d"
           }
          ],
          "histogram2dcontour": [
           {
            "colorbar": {
             "outlinewidth": 1,
             "tickcolor": "rgb(36,36,36)",
             "ticks": "outside"
            },
            "colorscale": [
             [
              0,
              "#440154"
             ],
             [
              0.1111111111111111,
              "#482878"
             ],
             [
              0.2222222222222222,
              "#3e4989"
             ],
             [
              0.3333333333333333,
              "#31688e"
             ],
             [
              0.4444444444444444,
              "#26828e"
             ],
             [
              0.5555555555555556,
              "#1f9e89"
             ],
             [
              0.6666666666666666,
              "#35b779"
             ],
             [
              0.7777777777777778,
              "#6ece58"
             ],
             [
              0.8888888888888888,
              "#b5de2b"
             ],
             [
              1,
              "#fde725"
             ]
            ],
            "type": "histogram2dcontour"
           }
          ],
          "mesh3d": [
           {
            "colorbar": {
             "outlinewidth": 1,
             "tickcolor": "rgb(36,36,36)",
             "ticks": "outside"
            },
            "type": "mesh3d"
           }
          ],
          "parcoords": [
           {
            "line": {
             "colorbar": {
              "outlinewidth": 1,
              "tickcolor": "rgb(36,36,36)",
              "ticks": "outside"
             }
            },
            "type": "parcoords"
           }
          ],
          "pie": [
           {
            "automargin": true,
            "type": "pie"
           }
          ],
          "scatter": [
           {
            "fillpattern": {
             "fillmode": "overlay",
             "size": 10,
             "solidity": 0.2
            },
            "type": "scatter"
           }
          ],
          "scatter3d": [
           {
            "line": {
             "colorbar": {
              "outlinewidth": 1,
              "tickcolor": "rgb(36,36,36)",
              "ticks": "outside"
             }
            },
            "marker": {
             "colorbar": {
              "outlinewidth": 1,
              "tickcolor": "rgb(36,36,36)",
              "ticks": "outside"
             }
            },
            "type": "scatter3d"
           }
          ],
          "scattercarpet": [
           {
            "marker": {
             "colorbar": {
              "outlinewidth": 1,
              "tickcolor": "rgb(36,36,36)",
              "ticks": "outside"
             }
            },
            "type": "scattercarpet"
           }
          ],
          "scattergeo": [
           {
            "marker": {
             "colorbar": {
              "outlinewidth": 1,
              "tickcolor": "rgb(36,36,36)",
              "ticks": "outside"
             }
            },
            "type": "scattergeo"
           }
          ],
          "scattergl": [
           {
            "marker": {
             "colorbar": {
              "outlinewidth": 1,
              "tickcolor": "rgb(36,36,36)",
              "ticks": "outside"
             }
            },
            "type": "scattergl"
           }
          ],
          "scattermapbox": [
           {
            "marker": {
             "colorbar": {
              "outlinewidth": 1,
              "tickcolor": "rgb(36,36,36)",
              "ticks": "outside"
             }
            },
            "type": "scattermapbox"
           }
          ],
          "scatterpolar": [
           {
            "marker": {
             "colorbar": {
              "outlinewidth": 1,
              "tickcolor": "rgb(36,36,36)",
              "ticks": "outside"
             }
            },
            "type": "scatterpolar"
           }
          ],
          "scatterpolargl": [
           {
            "marker": {
             "colorbar": {
              "outlinewidth": 1,
              "tickcolor": "rgb(36,36,36)",
              "ticks": "outside"
             }
            },
            "type": "scatterpolargl"
           }
          ],
          "scatterternary": [
           {
            "marker": {
             "colorbar": {
              "outlinewidth": 1,
              "tickcolor": "rgb(36,36,36)",
              "ticks": "outside"
             }
            },
            "type": "scatterternary"
           }
          ],
          "surface": [
           {
            "colorbar": {
             "outlinewidth": 1,
             "tickcolor": "rgb(36,36,36)",
             "ticks": "outside"
            },
            "colorscale": [
             [
              0,
              "#440154"
             ],
             [
              0.1111111111111111,
              "#482878"
             ],
             [
              0.2222222222222222,
              "#3e4989"
             ],
             [
              0.3333333333333333,
              "#31688e"
             ],
             [
              0.4444444444444444,
              "#26828e"
             ],
             [
              0.5555555555555556,
              "#1f9e89"
             ],
             [
              0.6666666666666666,
              "#35b779"
             ],
             [
              0.7777777777777778,
              "#6ece58"
             ],
             [
              0.8888888888888888,
              "#b5de2b"
             ],
             [
              1,
              "#fde725"
             ]
            ],
            "type": "surface"
           }
          ],
          "table": [
           {
            "cells": {
             "fill": {
              "color": "rgb(237,237,237)"
             },
             "line": {
              "color": "white"
             }
            },
            "header": {
             "fill": {
              "color": "rgb(217,217,217)"
             },
             "line": {
              "color": "white"
             }
            },
            "type": "table"
           }
          ]
         },
         "layout": {
          "annotationdefaults": {
           "arrowhead": 0,
           "arrowwidth": 1
          },
          "autosize": true,
          "autotypenumbers": "strict",
          "coloraxis": {
           "colorbar": {
            "outlinewidth": 1,
            "tickcolor": "rgb(36,36,36)",
            "ticks": "outside"
           }
          },
          "colorscale": {
           "diverging": [
            [
             0,
             "rgb(103,0,31)"
            ],
            [
             0.1,
             "rgb(178,24,43)"
            ],
            [
             0.2,
             "rgb(214,96,77)"
            ],
            [
             0.3,
             "rgb(244,165,130)"
            ],
            [
             0.4,
             "rgb(253,219,199)"
            ],
            [
             0.5,
             "rgb(247,247,247)"
            ],
            [
             0.6,
             "rgb(209,229,240)"
            ],
            [
             0.7,
             "rgb(146,197,222)"
            ],
            [
             0.8,
             "rgb(67,147,195)"
            ],
            [
             0.9,
             "rgb(33,102,172)"
            ],
            [
             1,
             "rgb(5,48,97)"
            ]
           ],
           "sequential": [
            [
             0,
             "#440154"
            ],
            [
             0.1111111111111111,
             "#482878"
            ],
            [
             0.2222222222222222,
             "#3e4989"
            ],
            [
             0.3333333333333333,
             "#31688e"
            ],
            [
             0.4444444444444444,
             "#26828e"
            ],
            [
             0.5555555555555556,
             "#1f9e89"
            ],
            [
             0.6666666666666666,
             "#35b779"
            ],
            [
             0.7777777777777778,
             "#6ece58"
            ],
            [
             0.8888888888888888,
             "#b5de2b"
            ],
            [
             1,
             "#fde725"
            ]
           ],
           "sequentialminus": [
            [
             0,
             "#440154"
            ],
            [
             0.1111111111111111,
             "#482878"
            ],
            [
             0.2222222222222222,
             "#3e4989"
            ],
            [
             0.3333333333333333,
             "#31688e"
            ],
            [
             0.4444444444444444,
             "#26828e"
            ],
            [
             0.5555555555555556,
             "#1f9e89"
            ],
            [
             0.6666666666666666,
             "#35b779"
            ],
            [
             0.7777777777777778,
             "#6ece58"
            ],
            [
             0.8888888888888888,
             "#b5de2b"
            ],
            [
             1,
             "#fde725"
            ]
           ]
          },
          "colorway": [
           "#1F77B4",
           "#FF7F0E",
           "#2CA02C",
           "#D62728",
           "#9467BD",
           "#8C564B",
           "#E377C2",
           "#7F7F7F",
           "#BCBD22",
           "#17BECF"
          ],
          "font": {
           "color": "rgb(36,36,36)"
          },
          "geo": {
           "bgcolor": "white",
           "lakecolor": "white",
           "landcolor": "white",
           "showlakes": true,
           "showland": true,
           "subunitcolor": "white"
          },
          "height": 250,
          "hoverlabel": {
           "align": "left"
          },
          "hovermode": "closest",
          "mapbox": {
           "style": "light"
          },
          "margin": {
           "b": 10,
           "l": 10,
           "r": 10,
           "t": 10
          },
          "paper_bgcolor": "white",
          "plot_bgcolor": "white",
          "polar": {
           "angularaxis": {
            "gridcolor": "rgb(232,232,232)",
            "linecolor": "rgb(36,36,36)",
            "showgrid": false,
            "showline": true,
            "ticks": "outside"
           },
           "bgcolor": "white",
           "radialaxis": {
            "gridcolor": "rgb(232,232,232)",
            "linecolor": "rgb(36,36,36)",
            "showgrid": false,
            "showline": true,
            "ticks": "outside"
           }
          },
          "scene": {
           "xaxis": {
            "backgroundcolor": "white",
            "gridcolor": "rgb(232,232,232)",
            "gridwidth": 2,
            "linecolor": "rgb(36,36,36)",
            "showbackground": true,
            "showgrid": false,
            "showline": true,
            "ticks": "outside",
            "zeroline": false,
            "zerolinecolor": "rgb(36,36,36)"
           },
           "yaxis": {
            "backgroundcolor": "white",
            "gridcolor": "rgb(232,232,232)",
            "gridwidth": 2,
            "linecolor": "rgb(36,36,36)",
            "showbackground": true,
            "showgrid": false,
            "showline": true,
            "ticks": "outside",
            "zeroline": false,
            "zerolinecolor": "rgb(36,36,36)"
           },
           "zaxis": {
            "backgroundcolor": "white",
            "gridcolor": "rgb(232,232,232)",
            "gridwidth": 2,
            "linecolor": "rgb(36,36,36)",
            "showbackground": true,
            "showgrid": false,
            "showline": true,
            "ticks": "outside",
            "zeroline": false,
            "zerolinecolor": "rgb(36,36,36)"
           }
          },
          "shapedefaults": {
           "fillcolor": "black",
           "line": {
            "width": 0
           },
           "opacity": 0.3
          },
          "ternary": {
           "aaxis": {
            "gridcolor": "rgb(232,232,232)",
            "linecolor": "rgb(36,36,36)",
            "showgrid": false,
            "showline": true,
            "ticks": "outside"
           },
           "baxis": {
            "gridcolor": "rgb(232,232,232)",
            "linecolor": "rgb(36,36,36)",
            "showgrid": false,
            "showline": true,
            "ticks": "outside"
           },
           "bgcolor": "white",
           "caxis": {
            "gridcolor": "rgb(232,232,232)",
            "linecolor": "rgb(36,36,36)",
            "showgrid": false,
            "showline": true,
            "ticks": "outside"
           }
          },
          "title": {
           "x": 0.5,
           "xanchor": "center"
          },
          "width": 350,
          "xaxis": {
           "automargin": true,
           "gridcolor": "rgb(232,232,232)",
           "linecolor": "rgb(36,36,36)",
           "showgrid": true,
           "showline": true,
           "ticks": "outside",
           "title": {
            "standoff": 15
           },
           "zeroline": false,
           "zerolinecolor": "rgb(36,36,36)"
          },
          "yaxis": {
           "automargin": true,
           "gridcolor": "rgb(232,232,232)",
           "linecolor": "rgb(36,36,36)",
           "showgrid": true,
           "showline": true,
           "ticks": "outside",
           "title": {
            "standoff": 15
           },
           "zeroline": false,
           "zerolinecolor": "rgb(36,36,36)"
          }
         }
        },
        "width": 600,
        "xaxis": {
         "anchor": "y",
         "domain": [
          0,
          1
         ],
         "title": {
          "text": "danceability"
         }
        },
        "yaxis": {
         "anchor": "x",
         "domain": [
          0,
          1
         ],
         "title": {
          "text": "loudness"
         }
        }
       }
      },
      "image/svg+xml": [
       "<svg class=\"main-svg\" xmlns=\"http://www.w3.org/2000/svg\" xmlns:xlink=\"http://www.w3.org/1999/xlink\" width=\"600\" height=\"350\" style=\"\" viewBox=\"0 0 600 350\"><rect x=\"0\" y=\"0\" width=\"600\" height=\"350\" style=\"fill: rgb(255, 255, 255); fill-opacity: 1;\"/><defs id=\"defs-8333d4\"><g class=\"clips\"><clipPath id=\"clip8333d4xyplot\" class=\"plotclip\"><rect width=\"522\" height=\"278\"/></clipPath><clipPath class=\"axesclip\" id=\"clip8333d4x\"><rect x=\"68\" y=\"0\" width=\"522\" height=\"350\"/></clipPath><clipPath class=\"axesclip\" id=\"clip8333d4y\"><rect x=\"0\" y=\"14\" width=\"600\" height=\"278\"/></clipPath><clipPath class=\"axesclip\" id=\"clip8333d4xy\"><rect x=\"68\" y=\"14\" width=\"522\" height=\"278\"/></clipPath></g><g class=\"gradients\"/><g class=\"patterns\"/></defs><g class=\"bglayer\"/><g class=\"layer-below\"><g class=\"imagelayer\"/><g class=\"shapelayer\"/></g><g class=\"cartesianlayer\"><g class=\"subplot xy\"><g class=\"layer-subplot\"><g class=\"shapelayer\"/><g class=\"imagelayer\"/></g><g class=\"minor-gridlayer\"><g class=\"x\"/><g class=\"y\"/></g><g class=\"gridlayer\"><g class=\"x\"><path class=\"xgrid crisp\" transform=\"translate(122.08,0)\" d=\"M0,14v278\" style=\"stroke: rgb(232, 232, 232); stroke-opacity: 1; stroke-width: 1px;\"/><path class=\"xgrid crisp\" transform=\"translate(246.4,0)\" d=\"M0,14v278\" style=\"stroke: rgb(232, 232, 232); stroke-opacity: 1; stroke-width: 1px;\"/><path class=\"xgrid crisp\" transform=\"translate(370.72,0)\" d=\"M0,14v278\" style=\"stroke: rgb(232, 232, 232); stroke-opacity: 1; stroke-width: 1px;\"/><path class=\"xgrid crisp\" transform=\"translate(495.03,0)\" d=\"M0,14v278\" style=\"stroke: rgb(232, 232, 232); stroke-opacity: 1; stroke-width: 1px;\"/></g><g class=\"y\"><path class=\"ygrid crisp\" transform=\"translate(0,261.16999999999996)\" d=\"M68,0h522\" style=\"stroke: rgb(232, 232, 232); stroke-opacity: 1; stroke-width: 1px;\"/><path class=\"ygrid crisp\" transform=\"translate(0,212.41)\" d=\"M68,0h522\" style=\"stroke: rgb(232, 232, 232); stroke-opacity: 1; stroke-width: 1px;\"/><path class=\"ygrid crisp\" transform=\"translate(0,163.65)\" d=\"M68,0h522\" style=\"stroke: rgb(232, 232, 232); stroke-opacity: 1; stroke-width: 1px;\"/><path class=\"ygrid crisp\" transform=\"translate(0,114.9)\" d=\"M68,0h522\" style=\"stroke: rgb(232, 232, 232); stroke-opacity: 1; stroke-width: 1px;\"/><path class=\"ygrid crisp\" transform=\"translate(0,66.14)\" d=\"M68,0h522\" style=\"stroke: rgb(232, 232, 232); stroke-opacity: 1; stroke-width: 1px;\"/><path class=\"ygrid crisp\" transform=\"translate(0,17.38)\" d=\"M68,0h522\" style=\"stroke: rgb(232, 232, 232); stroke-opacity: 1; stroke-width: 1px;\"/></g></g><g class=\"zerolinelayer\"/><path class=\"xlines-below\"/><path class=\"ylines-below\"/><g class=\"overlines-below\"/><g class=\"xaxislayer-below\"/><g class=\"yaxislayer-below\"/><g class=\"overaxes-below\"/><g class=\"plot\" transform=\"translate(68,14)\" clip-path=\"url(#clip8333d4xyplot)\"><g class=\"scatterlayer mlayer\"><g class=\"trace scatter trace4a8d09\" style=\"stroke-miterlimit: 2; opacity: 1;\"><g class=\"fills\"/><g class=\"errorbars\"/><g class=\"lines\"/><g class=\"points\"><path class=\"point\" transform=\"translate(441.33,75.88)\" d=\"M9.95,0A9.95,9.95 0 1,1 0,-9.95A9.95,9.95 0 0,1 9.95,0Z\" style=\"opacity: 0.7; stroke-width: 1px; fill: rgb(31, 119, 180); fill-opacity: 1; stroke: rgb(255, 255, 255); stroke-opacity: 1;\"/><path class=\"point\" transform=\"translate(361.15,77.09)\" d=\"M10.39,0A10.39,10.39 0 1,1 0,-10.39A10.39,10.39 0 0,1 10.39,0Z\" style=\"opacity: 0.7; stroke-width: 1px; fill: rgb(31, 119, 180); fill-opacity: 1; stroke: rgb(255, 255, 255); stroke-opacity: 1;\"/><path class=\"point\" transform=\"translate(390.98,64.86)\" d=\"M9.22,0A9.22,9.22 0 1,1 0,-9.22A9.22,9.22 0 0,1 9.22,0Z\" style=\"opacity: 0.7; stroke-width: 1px; fill: rgb(31, 119, 180); fill-opacity: 1; stroke: rgb(255, 255, 255); stroke-opacity: 1;\"/><path class=\"point\" transform=\"translate(425.17,67.59)\" d=\"M10,0A10,10 0 1,1 0,-10A10,10 0 0,1 10,0Z\" style=\"opacity: 0.7; stroke-width: 1px; fill: rgb(31, 119, 180); fill-opacity: 1; stroke: rgb(255, 255, 255); stroke-opacity: 1;\"/><path class=\"point\" transform=\"translate(404.04,86.45)\" d=\"M10.05,0A10.05,10.05 0 1,1 0,-10.05A10.05,10.05 0 0,1 10.05,0Z\" style=\"opacity: 0.7; stroke-width: 1px; fill: rgb(31, 119, 180); fill-opacity: 1; stroke: rgb(255, 255, 255); stroke-opacity: 1;\"/><path class=\"point\" transform=\"translate(427.03,115.9)\" d=\"M12.19,0A12.19,12.19 0 1,1 0,-12.19A12.19,12.19 0 0,1 12.19,0Z\" style=\"opacity: 0.7; stroke-width: 1px; fill: rgb(31, 119, 180); fill-opacity: 1; stroke: rgb(255, 255, 255); stroke-opacity: 1;\"/><path class=\"point\" transform=\"translate(409.63,87.43)\" d=\"M11.46,0A11.46,11.46 0 1,1 0,-11.46A11.46,11.46 0 0,1 11.46,0Z\" style=\"opacity: 0.7; stroke-width: 1px; fill: rgb(31, 119, 180); fill-opacity: 1; stroke: rgb(255, 255, 255); stroke-opacity: 1;\"/><path class=\"point\" transform=\"translate(370.47,90.29)\" d=\"M8.22,0A8.22,8.22 0 1,1 0,-8.22A8.22,8.22 0 0,1 8.22,0Z\" style=\"opacity: 0.7; stroke-width: 1px; fill: rgb(31, 119, 180); fill-opacity: 1; stroke: rgb(255, 255, 255); stroke-opacity: 1;\"/><path class=\"point\" transform=\"translate(168.45,160.6)\" d=\"M11.04,0A11.04,11.04 0 1,1 0,-11.04A11.04,11.04 0 0,1 11.04,0Z\" style=\"opacity: 0.7; stroke-width: 1px; fill: rgb(31, 119, 180); fill-opacity: 1; stroke: rgb(255, 255, 255); stroke-opacity: 1;\"/><path class=\"point\" transform=\"translate(365.5,97.3)\" d=\"M11.29,0A11.29,11.29 0 1,1 0,-11.29A11.29,11.29 0 0,1 11.29,0Z\" style=\"opacity: 0.7; stroke-width: 1px; fill: rgb(31, 119, 180); fill-opacity: 1; stroke: rgb(255, 255, 255); stroke-opacity: 1;\"/><path class=\"point\" transform=\"translate(468.06,90.42)\" d=\"M8.51,0A8.51,8.51 0 1,1 0,-8.51A8.51,8.51 0 0,1 8.51,0Z\" style=\"opacity: 0.7; stroke-width: 1px; fill: rgb(31, 119, 180); fill-opacity: 1; stroke: rgb(255, 255, 255); stroke-opacity: 1;\"/><path class=\"point\" transform=\"translate(251.75,193.68)\" d=\"M9.36,0A9.36,9.36 0 1,1 0,-9.36A9.36,9.36 0 0,1 9.36,0Z\" style=\"opacity: 0.7; stroke-width: 1px; fill: rgb(31, 119, 180); fill-opacity: 1; stroke: rgb(255, 255, 255); stroke-opacity: 1;\"/><path class=\"point\" transform=\"translate(164.73,251.98)\" d=\"M10.84,0A10.84,10.84 0 1,1 0,-10.84A10.84,10.84 0 0,1 10.84,0Z\" style=\"opacity: 0.7; stroke-width: 1px; fill: rgb(31, 119, 180); fill-opacity: 1; stroke: rgb(255, 255, 255); stroke-opacity: 1;\"/><path class=\"point\" transform=\"translate(419.58,50.51)\" d=\"M10.62,0A10.62,10.62 0 1,1 0,-10.62A10.62,10.62 0 0,1 10.62,0Z\" style=\"opacity: 0.7; stroke-width: 1px; fill: rgb(31, 119, 180); fill-opacity: 1; stroke: rgb(255, 255, 255); stroke-opacity: 1;\"/><path class=\"point\" transform=\"translate(435.12,69.26)\" d=\"M12.63,0A12.63,12.63 0 1,1 0,-12.63A12.63,12.63 0 0,1 12.63,0Z\" style=\"opacity: 0.7; stroke-width: 1px; fill: rgb(31, 119, 180); fill-opacity: 1; stroke: rgb(255, 255, 255); stroke-opacity: 1;\"/><path class=\"point\" transform=\"translate(400.93,89.17)\" d=\"M7.69,0A7.69,7.69 0 1,1 0,-7.69A7.69,7.69 0 0,1 7.69,0Z\" style=\"opacity: 0.7; stroke-width: 1px; fill: rgb(31, 119, 180); fill-opacity: 1; stroke: rgb(255, 255, 255); stroke-opacity: 1;\"/><path class=\"point\" transform=\"translate(427.03,83.9)\" d=\"M13.04,0A13.04,13.04 0 1,1 0,-13.04A13.04,13.04 0 0,1 13.04,0Z\" style=\"opacity: 0.7; stroke-width: 1px; fill: rgb(31, 119, 180); fill-opacity: 1; stroke: rgb(255, 255, 255); stroke-opacity: 1;\"/><path class=\"point\" transform=\"translate(376.69,77.32)\" d=\"M8.82,0A8.82,8.82 0 1,1 0,-8.82A8.82,8.82 0 0,1 8.82,0Z\" style=\"opacity: 0.7; stroke-width: 1px; fill: rgb(31, 119, 180); fill-opacity: 1; stroke: rgb(255, 255, 255); stroke-opacity: 1;\"/><path class=\"point\" transform=\"translate(455.01,81.54)\" d=\"M11.8,0A11.8,11.8 0 1,1 0,-11.8A11.8,11.8 0 0,1 11.8,0Z\" style=\"opacity: 0.7; stroke-width: 1px; fill: rgb(31, 119, 180); fill-opacity: 1; stroke: rgb(255, 255, 255); stroke-opacity: 1;\"/><path class=\"point\" transform=\"translate(435.12,109.32)\" d=\"M10.06,0A10.06,10.06 0 1,1 0,-10.06A10.06,10.06 0 0,1 10.06,0Z\" style=\"opacity: 0.7; stroke-width: 1px; fill: rgb(31, 119, 180); fill-opacity: 1; stroke: rgb(255, 255, 255); stroke-opacity: 1;\"/></g><g class=\"text\"/></g><g class=\"trace scatter trace5041d4\" style=\"stroke-miterlimit: 2; opacity: 1;\"><g class=\"fills\"/><g class=\"errorbars\"/><g class=\"lines\"/><g class=\"points\"><path class=\"point\" transform=\"translate(198.29,57.79)\" d=\"M5.65,0A5.65,5.65 0 1,1 0,-5.65A5.65,5.65 0 0,1 5.65,0Z\" style=\"opacity: 0.7; stroke-width: 1px; fill: rgb(255, 127, 14); fill-opacity: 1; stroke: rgb(255, 255, 255); stroke-opacity: 1;\"/><path class=\"point\" transform=\"translate(193.32,27.46)\" d=\"M9.71,0A9.71,9.71 0 1,1 0,-9.71A9.71,9.71 0 0,1 9.71,0Z\" style=\"opacity: 0.7; stroke-width: 1px; fill: rgb(255, 127, 14); fill-opacity: 1; stroke: rgb(255, 255, 255); stroke-opacity: 1;\"/><path class=\"point\" transform=\"translate(184.62,25.77)\" d=\"M9.68,0A9.68,9.68 0 1,1 0,-9.68A9.68,9.68 0 0,1 9.68,0Z\" style=\"opacity: 0.7; stroke-width: 1px; fill: rgb(255, 127, 14); fill-opacity: 1; stroke: rgb(255, 255, 255); stroke-opacity: 1;\"/><path class=\"point\" transform=\"translate(293.39,43.07)\" d=\"M10.56,0A10.56,10.56 0 1,1 0,-10.56A10.56,10.56 0 0,1 10.56,0Z\" style=\"opacity: 0.7; stroke-width: 1px; fill: rgb(255, 127, 14); fill-opacity: 1; stroke: rgb(255, 255, 255); stroke-opacity: 1;\"/><path class=\"point\" transform=\"translate(82.68,40.16)\" d=\"M9.47,0A9.47,9.47 0 1,1 0,-9.47A9.47,9.47 0 0,1 9.47,0Z\" style=\"opacity: 0.7; stroke-width: 1px; fill: rgb(255, 127, 14); fill-opacity: 1; stroke: rgb(255, 255, 255); stroke-opacity: 1;\"/><path class=\"point\" transform=\"translate(336.28,47.8)\" d=\"M8.32,0A8.32,8.32 0 1,1 0,-8.32A8.32,8.32 0 0,1 8.32,0Z\" style=\"opacity: 0.7; stroke-width: 1px; fill: rgb(255, 127, 14); fill-opacity: 1; stroke: rgb(255, 255, 255); stroke-opacity: 1;\"/><path class=\"point\" transform=\"translate(335.66,46.09)\" d=\"M8.9,0A8.9,8.9 0 1,1 0,-8.9A8.9,8.9 0 0,1 8.9,0Z\" style=\"opacity: 0.7; stroke-width: 1px; fill: rgb(255, 127, 14); fill-opacity: 1; stroke: rgb(255, 255, 255); stroke-opacity: 1;\"/><path class=\"point\" transform=\"translate(313.91,41.07)\" d=\"M8.03,0A8.03,8.03 0 1,1 0,-8.03A8.03,8.03 0 0,1 8.03,0Z\" style=\"opacity: 0.7; stroke-width: 1px; fill: rgb(255, 127, 14); fill-opacity: 1; stroke: rgb(255, 255, 255); stroke-opacity: 1;\"/><path class=\"point\" transform=\"translate(169.08,35.46)\" d=\"M9.53,0A9.53,9.53 0 1,1 0,-9.53A9.53,9.53 0 0,1 9.53,0Z\" style=\"opacity: 0.7; stroke-width: 1px; fill: rgb(255, 127, 14); fill-opacity: 1; stroke: rgb(255, 255, 255); stroke-opacity: 1;\"/><path class=\"point\" transform=\"translate(311.42,25.17)\" d=\"M10.08,0A10.08,10.08 0 1,1 0,-10.08A10.08,10.08 0 0,1 10.08,0Z\" style=\"opacity: 0.7; stroke-width: 1px; fill: rgb(255, 127, 14); fill-opacity: 1; stroke: rgb(255, 255, 255); stroke-opacity: 1;\"/><path class=\"point\" transform=\"translate(85.16,27.12)\" d=\"M7.52,0A7.52,7.52 0 1,1 0,-7.52A7.52,7.52 0 0,1 7.52,0Z\" style=\"opacity: 0.7; stroke-width: 1px; fill: rgb(255, 127, 14); fill-opacity: 1; stroke: rgb(255, 255, 255); stroke-opacity: 1;\"/><path class=\"point\" transform=\"translate(185.86,35.38)\" d=\"M9.45,0A9.45,9.45 0 1,1 0,-9.45A9.45,9.45 0 0,1 9.45,0Z\" style=\"opacity: 0.7; stroke-width: 1px; fill: rgb(255, 127, 14); fill-opacity: 1; stroke: rgb(255, 255, 255); stroke-opacity: 1;\"/><path class=\"point\" transform=\"translate(174.05,39.75)\" d=\"M10.95,0A10.95,10.95 0 1,1 0,-10.95A10.95,10.95 0 0,1 10.95,0Z\" style=\"opacity: 0.7; stroke-width: 1px; fill: rgb(255, 127, 14); fill-opacity: 1; stroke: rgb(255, 255, 255); stroke-opacity: 1;\"/><path class=\"point\" transform=\"translate(97.59,43.09)\" d=\"M8.48,0A8.48,8.48 0 1,1 0,-8.48A8.48,8.48 0 0,1 8.48,0Z\" style=\"opacity: 0.7; stroke-width: 1px; fill: rgb(255, 127, 14); fill-opacity: 1; stroke: rgb(255, 255, 255); stroke-opacity: 1;\"/><path class=\"point\" transform=\"translate(153.54,40.82)\" d=\"M8.59,0A8.59,8.59 0 1,1 0,-8.59A8.59,8.59 0 0,1 8.59,0Z\" style=\"opacity: 0.7; stroke-width: 1px; fill: rgb(255, 127, 14); fill-opacity: 1; stroke: rgb(255, 255, 255); stroke-opacity: 1;\"/><path class=\"point\" transform=\"translate(67.76,40.77)\" d=\"M9.59,0A9.59,9.59 0 1,1 0,-9.59A9.59,9.59 0 0,1 9.59,0Z\" style=\"opacity: 0.7; stroke-width: 1px; fill: rgb(255, 127, 14); fill-opacity: 1; stroke: rgb(255, 255, 255); stroke-opacity: 1;\"/></g><g class=\"text\"/></g><g class=\"trace scatter tracede53aa\" style=\"stroke-miterlimit: 2; opacity: 1;\"><g class=\"fills\"/><g class=\"errorbars\"/><g class=\"lines\"/><g class=\"points\"><path class=\"point\" transform=\"translate(219.42,65.44)\" d=\"M5.65,0A5.65,5.65 0 1,1 0,-5.65A5.65,5.65 0 0,1 5.65,0Z\" style=\"opacity: 0.7; stroke-width: 1px; fill: rgb(44, 160, 44); fill-opacity: 1; stroke: rgb(255, 255, 255); stroke-opacity: 1;\"/><path class=\"point\" transform=\"translate(200.16,34.01)\" d=\"M9.71,0A9.71,9.71 0 1,1 0,-9.71A9.71,9.71 0 0,1 9.71,0Z\" style=\"opacity: 0.7; stroke-width: 1px; fill: rgb(44, 160, 44); fill-opacity: 1; stroke: rgb(255, 255, 255); stroke-opacity: 1;\"/><path class=\"point\" transform=\"translate(188.35,29.14)\" d=\"M9.68,0A9.68,9.68 0 1,1 0,-9.68A9.68,9.68 0 0,1 9.68,0Z\" style=\"opacity: 0.7; stroke-width: 1px; fill: rgb(44, 160, 44); fill-opacity: 1; stroke: rgb(255, 255, 255); stroke-opacity: 1;\"/><path class=\"point\" transform=\"translate(297.74,47.67)\" d=\"M10.56,0A10.56,10.56 0 1,1 0,-10.56A10.56,10.56 0 0,1 10.56,0Z\" style=\"opacity: 0.7; stroke-width: 1px; fill: rgb(44, 160, 44); fill-opacity: 1; stroke: rgb(255, 255, 255); stroke-opacity: 1;\"/><path class=\"point\" transform=\"translate(83.92,41.44)\" d=\"M9.47,0A9.47,9.47 0 1,1 0,-9.47A9.47,9.47 0 0,1 9.47,0Z\" style=\"opacity: 0.7; stroke-width: 1px; fill: rgb(44, 160, 44); fill-opacity: 1; stroke: rgb(255, 255, 255); stroke-opacity: 1;\"/><path class=\"point\" transform=\"translate(340.63,52.68)\" d=\"M8.32,0A8.32,8.32 0 1,1 0,-8.32A8.32,8.32 0 0,1 8.32,0Z\" style=\"opacity: 0.7; stroke-width: 1px; fill: rgb(44, 160, 44); fill-opacity: 1; stroke: rgb(255, 255, 255); stroke-opacity: 1;\"/><path class=\"point\" transform=\"translate(261.07,51.78)\" d=\"M8.9,0A8.9,8.9 0 1,1 0,-8.9A8.9,8.9 0 0,1 8.9,0Z\" style=\"opacity: 0.7; stroke-width: 1px; fill: rgb(44, 160, 44); fill-opacity: 1; stroke: rgb(255, 255, 255); stroke-opacity: 1;\"/><path class=\"point\" transform=\"translate(318.26,46.36)\" d=\"M8.03,0A8.03,8.03 0 1,1 0,-8.03A8.03,8.03 0 0,1 8.03,0Z\" style=\"opacity: 0.7; stroke-width: 1px; fill: rgb(44, 160, 44); fill-opacity: 1; stroke: rgb(255, 255, 255); stroke-opacity: 1;\"/><path class=\"point\" transform=\"translate(175.91,40.8)\" d=\"M9.53,0A9.53,9.53 0 1,1 0,-9.53A9.53,9.53 0 0,1 9.53,0Z\" style=\"opacity: 0.7; stroke-width: 1px; fill: rgb(44, 160, 44); fill-opacity: 1; stroke: rgb(255, 255, 255); stroke-opacity: 1;\"/><path class=\"point\" transform=\"translate(315.77,29.27)\" d=\"M10.08,0A10.08,10.08 0 1,1 0,-10.08A10.08,10.08 0 0,1 10.08,0Z\" style=\"opacity: 0.7; stroke-width: 1px; fill: rgb(44, 160, 44); fill-opacity: 1; stroke: rgb(255, 255, 255); stroke-opacity: 1;\"/><path class=\"point\" transform=\"translate(88.27,33.64)\" d=\"M7.53,0A7.53,7.53 0 1,1 0,-7.53A7.53,7.53 0 0,1 7.53,0Z\" style=\"opacity: 0.7; stroke-width: 1px; fill: rgb(44, 160, 44); fill-opacity: 1; stroke: rgb(255, 255, 255); stroke-opacity: 1;\"/><path class=\"point\" transform=\"translate(187.1,36.51)\" d=\"M9.45,0A9.45,9.45 0 1,1 0,-9.45A9.45,9.45 0 0,1 9.45,0Z\" style=\"opacity: 0.7; stroke-width: 1px; fill: rgb(44, 160, 44); fill-opacity: 1; stroke: rgb(255, 255, 255); stroke-opacity: 1;\"/><path class=\"point\" transform=\"translate(179.64,40.56)\" d=\"M10.95,0A10.95,10.95 0 1,1 0,-10.95A10.95,10.95 0 0,1 10.95,0Z\" style=\"opacity: 0.7; stroke-width: 1px; fill: rgb(44, 160, 44); fill-opacity: 1; stroke: rgb(255, 255, 255); stroke-opacity: 1;\"/><path class=\"point\" transform=\"translate(109.4,44.02)\" d=\"M8.47,0A8.47,8.47 0 1,1 0,-8.47A8.47,8.47 0 0,1 8.47,0Z\" style=\"opacity: 0.7; stroke-width: 1px; fill: rgb(44, 160, 44); fill-opacity: 1; stroke: rgb(255, 255, 255); stroke-opacity: 1;\"/><path class=\"point\" transform=\"translate(148.56,36.05)\" d=\"M8.61,0A8.61,8.61 0 1,1 0,-8.61A8.61,8.61 0 0,1 8.61,0Z\" style=\"opacity: 0.7; stroke-width: 1px; fill: rgb(44, 160, 44); fill-opacity: 1; stroke: rgb(255, 255, 255); stroke-opacity: 1;\"/><path class=\"point\" transform=\"translate(62.78,34.4)\" d=\"M9.57,0A9.57,9.57 0 1,1 0,-9.57A9.57,9.57 0 0,1 9.57,0Z\" style=\"opacity: 0.7; stroke-width: 1px; fill: rgb(44, 160, 44); fill-opacity: 1; stroke: rgb(255, 255, 255); stroke-opacity: 1;\"/></g><g class=\"text\"/></g><g class=\"trace scatter trace8f2c3b\" style=\"stroke-miterlimit: 2; opacity: 1;\"><g class=\"fills\"/><g class=\"errorbars\"/><g class=\"lines\"/><g class=\"points\"><path class=\"point\" transform=\"translate(78.32,57.88)\" d=\"M10.07,0A10.07,10.07 0 1,1 0,-10.07A10.07,10.07 0 0,1 10.07,0Z\" style=\"opacity: 0.7; stroke-width: 1px; fill: rgb(214, 39, 40); fill-opacity: 1; stroke: rgb(255, 255, 255); stroke-opacity: 1;\"/><path class=\"point\" transform=\"translate(136.75,51.93)\" d=\"M7.46,0A7.46,7.46 0 1,1 0,-7.46A7.46,7.46 0 0,1 7.46,0Z\" style=\"opacity: 0.7; stroke-width: 1px; fill: rgb(214, 39, 40); fill-opacity: 1; stroke: rgb(255, 255, 255); stroke-opacity: 1;\"/><path class=\"point\" transform=\"translate(145.46,50.61)\" d=\"M6.83,0A6.83,6.83 0 1,1 0,-6.83A6.83,6.83 0 0,1 6.83,0Z\" style=\"opacity: 0.7; stroke-width: 1px; fill: rgb(214, 39, 40); fill-opacity: 1; stroke: rgb(255, 255, 255); stroke-opacity: 1;\"/><path class=\"point\" transform=\"translate(105.67,61.66)\" d=\"M9.72,0A9.72,9.72 0 1,1 0,-9.72A9.72,9.72 0 0,1 9.72,0Z\" style=\"opacity: 0.7; stroke-width: 1px; fill: rgb(214, 39, 40); fill-opacity: 1; stroke: rgb(255, 255, 255); stroke-opacity: 1;\"/><path class=\"point\" transform=\"translate(105.05,54.58)\" d=\"M7.55,0A7.55,7.55 0 1,1 0,-7.55A7.55,7.55 0 0,1 7.55,0Z\" style=\"opacity: 0.7; stroke-width: 1px; fill: rgb(214, 39, 40); fill-opacity: 1; stroke: rgb(255, 255, 255); stroke-opacity: 1;\"/><path class=\"point\" transform=\"translate(297.74,78.44)\" d=\"M10.98,0A10.98,10.98 0 1,1 0,-10.98A10.98,10.98 0 0,1 10.98,0Z\" style=\"opacity: 0.7; stroke-width: 1px; fill: rgb(214, 39, 40); fill-opacity: 1; stroke: rgb(255, 255, 255); stroke-opacity: 1;\"/><path class=\"point\" transform=\"translate(174.67,68.54)\" d=\"M8.96,0A8.96,8.96 0 1,1 0,-8.96A8.96,8.96 0 0,1 8.96,0Z\" style=\"opacity: 0.7; stroke-width: 1px; fill: rgb(214, 39, 40); fill-opacity: 1; stroke: rgb(255, 255, 255); stroke-opacity: 1;\"/><path class=\"point\" transform=\"translate(108.16,55.44)\" d=\"M8.67,0A8.67,8.67 0 1,1 0,-8.67A8.67,8.67 0 0,1 8.67,0Z\" style=\"opacity: 0.7; stroke-width: 1px; fill: rgb(214, 39, 40); fill-opacity: 1; stroke: rgb(255, 255, 255); stroke-opacity: 1;\"/><path class=\"point\" transform=\"translate(136.75,57.69)\" d=\"M8.33,0A8.33,8.33 0 1,1 0,-8.33A8.33,8.33 0 0,1 8.33,0Z\" style=\"opacity: 0.7; stroke-width: 1px; fill: rgb(214, 39, 40); fill-opacity: 1; stroke: rgb(255, 255, 255); stroke-opacity: 1;\"/><path class=\"point\" transform=\"translate(166.59,72.01)\" d=\"M9.7,0A9.7,9.7 0 1,1 0,-9.7A9.7,9.7 0 0,1 9.7,0Z\" style=\"opacity: 0.7; stroke-width: 1px; fill: rgb(214, 39, 40); fill-opacity: 1; stroke: rgb(255, 255, 255); stroke-opacity: 1;\"/><path class=\"point\" transform=\"translate(167.83,82.93)\" d=\"M11.72,0A11.72,11.72 0 1,1 0,-11.72A11.72,11.72 0 0,1 11.72,0Z\" style=\"opacity: 0.7; stroke-width: 1px; fill: rgb(214, 39, 40); fill-opacity: 1; stroke: rgb(255, 255, 255); stroke-opacity: 1;\"/><path class=\"point\" transform=\"translate(270.39,76.38)\" d=\"M11.3,0A11.3,11.3 0 1,1 0,-11.3A11.3,11.3 0 0,1 11.3,0Z\" style=\"opacity: 0.7; stroke-width: 1px; fill: rgb(214, 39, 40); fill-opacity: 1; stroke: rgb(255, 255, 255); stroke-opacity: 1;\"/><path class=\"point\" transform=\"translate(271.64,75.11)\" d=\"M9.86,0A9.86,9.86 0 1,1 0,-9.86A9.86,9.86 0 0,1 9.86,0Z\" style=\"opacity: 0.7; stroke-width: 1px; fill: rgb(214, 39, 40); fill-opacity: 1; stroke: rgb(255, 255, 255); stroke-opacity: 1;\"/><path class=\"point\" transform=\"translate(326.96,79.75)\" d=\"M12.89,0A12.89,12.89 0 1,1 0,-12.89A12.89,12.89 0 0,1 12.89,0Z\" style=\"opacity: 0.7; stroke-width: 1px; fill: rgb(214, 39, 40); fill-opacity: 1; stroke: rgb(255, 255, 255); stroke-opacity: 1;\"/><path class=\"point\" transform=\"translate(229.99,63.03)\" d=\"M10.5,0A10.5,10.5 0 1,1 0,-10.5A10.5,10.5 0 0,1 10.5,0Z\" style=\"opacity: 0.7; stroke-width: 1px; fill: rgb(214, 39, 40); fill-opacity: 1; stroke: rgb(255, 255, 255); stroke-opacity: 1;\"/><path class=\"point\" transform=\"translate(114.38,54.46)\" d=\"M8.95,0A8.95,8.95 0 1,1 0,-8.95A8.95,8.95 0 0,1 8.95,0Z\" style=\"opacity: 0.7; stroke-width: 1px; fill: rgb(214, 39, 40); fill-opacity: 1; stroke: rgb(255, 255, 255); stroke-opacity: 1;\"/><path class=\"point\" transform=\"translate(274.75,114.61)\" d=\"M14.14,0A14.14,14.14 0 1,1 0,-14.14A14.14,14.14 0 0,1 14.14,0Z\" style=\"opacity: 0.7; stroke-width: 1px; fill: rgb(214, 39, 40); fill-opacity: 1; stroke: rgb(255, 255, 255); stroke-opacity: 1;\"/></g><g class=\"text\"/></g><g class=\"trace scatter trace2f0608\" style=\"stroke-miterlimit: 2; opacity: 1;\"><g class=\"fills\"/><g class=\"errorbars\"/><g class=\"lines\"/><g class=\"points\"><path class=\"point\" transform=\"translate(79.57,65.93)\" d=\"M10.09,0A10.09,10.09 0 1,1 0,-10.09A10.09,10.09 0 0,1 10.09,0Z\" style=\"opacity: 0.7; stroke-width: 1px; fill: rgb(148, 103, 189); fill-opacity: 1; stroke: rgb(255, 255, 255); stroke-opacity: 1;\"/><path class=\"point\" transform=\"translate(141.1,60.38)\" d=\"M7.43,0A7.43,7.43 0 1,1 0,-7.43A7.43,7.43 0 0,1 7.43,0Z\" style=\"opacity: 0.7; stroke-width: 1px; fill: rgb(148, 103, 189); fill-opacity: 1; stroke: rgb(255, 255, 255); stroke-opacity: 1;\"/><path class=\"point\" transform=\"translate(60.92,59.63)\" d=\"M6.88,0A6.88,6.88 0 1,1 0,-6.88A6.88,6.88 0 0,1 6.88,0Z\" style=\"opacity: 0.7; stroke-width: 1px; fill: rgb(148, 103, 189); fill-opacity: 1; stroke: rgb(255, 255, 255); stroke-opacity: 1;\"/><path class=\"point\" transform=\"translate(111.89,71.19)\" d=\"M9.7,0A9.7,9.7 0 1,1 0,-9.7A9.7,9.7 0 0,1 9.7,0Z\" style=\"opacity: 0.7; stroke-width: 1px; fill: rgb(148, 103, 189); fill-opacity: 1; stroke: rgb(255, 255, 255); stroke-opacity: 1;\"/><path class=\"point\" transform=\"translate(121.21,62.53)\" d=\"M7.55,0A7.55,7.55 0 1,1 0,-7.55A7.55,7.55 0 0,1 7.55,0Z\" style=\"opacity: 0.7; stroke-width: 1px; fill: rgb(148, 103, 189); fill-opacity: 1; stroke: rgb(255, 255, 255); stroke-opacity: 1;\"/><path class=\"point\" transform=\"translate(303.96,80.1)\" d=\"M10.94,0A10.94,10.94 0 1,1 0,-10.94A10.94,10.94 0 0,1 10.94,0Z\" style=\"opacity: 0.7; stroke-width: 1px; fill: rgb(148, 103, 189); fill-opacity: 1; stroke: rgb(255, 255, 255); stroke-opacity: 1;\"/><path class=\"point\" transform=\"translate(192.08,72.74)\" d=\"M9.01,0A9.01,9.01 0 1,1 0,-9.01A9.01,9.01 0 0,1 9.01,0Z\" style=\"opacity: 0.7; stroke-width: 1px; fill: rgb(148, 103, 189); fill-opacity: 1; stroke: rgb(255, 255, 255); stroke-opacity: 1;\"/><path class=\"point\" transform=\"translate(208.24,69.89)\" d=\"M8.67,0A8.67,8.67 0 1,1 0,-8.67A8.67,8.67 0 0,1 8.67,0Z\" style=\"opacity: 0.7; stroke-width: 1px; fill: rgb(148, 103, 189); fill-opacity: 1; stroke: rgb(255, 255, 255); stroke-opacity: 1;\"/><path class=\"point\" transform=\"translate(143.59,74.46)\" d=\"M8.37,0A8.37,8.37 0 1,1 0,-8.37A8.37,8.37 0 0,1 8.37,0Z\" style=\"opacity: 0.7; stroke-width: 1px; fill: rgb(148, 103, 189); fill-opacity: 1; stroke: rgb(255, 255, 255); stroke-opacity: 1;\"/><path class=\"point\" transform=\"translate(171.56,80.86)\" d=\"M9.7,0A9.7,9.7 0 1,1 0,-9.7A9.7,9.7 0 0,1 9.7,0Z\" style=\"opacity: 0.7; stroke-width: 1px; fill: rgb(148, 103, 189); fill-opacity: 1; stroke: rgb(255, 255, 255); stroke-opacity: 1;\"/><path class=\"point\" transform=\"translate(172.18,95.57)\" d=\"M11.71,0A11.71,11.71 0 1,1 0,-11.71A11.71,11.71 0 0,1 11.71,0Z\" style=\"opacity: 0.7; stroke-width: 1px; fill: rgb(148, 103, 189); fill-opacity: 1; stroke: rgb(255, 255, 255); stroke-opacity: 1;\"/><path class=\"point\" transform=\"translate(273.5,88.39)\" d=\"M11.28,0A11.28,11.28 0 1,1 0,-11.28A11.28,11.28 0 0,1 11.28,0Z\" style=\"opacity: 0.7; stroke-width: 1px; fill: rgb(148, 103, 189); fill-opacity: 1; stroke: rgb(255, 255, 255); stroke-opacity: 1;\"/><path class=\"point\" transform=\"translate(280.96,92.93)\" d=\"M9.85,0A9.85,9.85 0 1,1 0,-9.85A9.85,9.85 0 0,1 9.85,0Z\" style=\"opacity: 0.7; stroke-width: 1px; fill: rgb(148, 103, 189); fill-opacity: 1; stroke: rgb(255, 255, 255); stroke-opacity: 1;\"/><path class=\"point\" transform=\"translate(329.45,89.86)\" d=\"M12.89,0A12.89,12.89 0 1,1 0,-12.89A12.89,12.89 0 0,1 12.89,0Z\" style=\"opacity: 0.7; stroke-width: 1px; fill: rgb(148, 103, 189); fill-opacity: 1; stroke: rgb(255, 255, 255); stroke-opacity: 1;\"/><path class=\"point\" transform=\"translate(241.18,69.13)\" d=\"M10.5,0A10.5,10.5 0 1,1 0,-10.5A10.5,10.5 0 0,1 10.5,0Z\" style=\"opacity: 0.7; stroke-width: 1px; fill: rgb(148, 103, 189); fill-opacity: 1; stroke: rgb(255, 255, 255); stroke-opacity: 1;\"/><path class=\"point\" transform=\"translate(110.65,65.46)\" d=\"M9.37,0A9.37,9.37 0 1,1 0,-9.37A9.37,9.37 0 0,1 9.37,0Z\" style=\"opacity: 0.7; stroke-width: 1px; fill: rgb(148, 103, 189); fill-opacity: 1; stroke: rgb(255, 255, 255); stroke-opacity: 1;\"/><path class=\"point\" transform=\"translate(274.75,123.44)\" d=\"M13.88,0A13.88,13.88 0 1,1 0,-13.88A13.88,13.88 0 0,1 13.88,0Z\" style=\"opacity: 0.7; stroke-width: 1px; fill: rgb(148, 103, 189); fill-opacity: 1; stroke: rgb(255, 255, 255); stroke-opacity: 1;\"/><path class=\"point\" transform=\"translate(65.89,75.39)\" d=\"M9.8,0A9.8,9.8 0 1,1 0,-9.8A9.8,9.8 0 0,1 9.8,0Z\" style=\"opacity: 0.7; stroke-width: 1px; fill: rgb(148, 103, 189); fill-opacity: 1; stroke: rgb(255, 255, 255); stroke-opacity: 1;\"/><path class=\"point\" transform=\"translate(96.35,79.83)\" d=\"M8.73,0A8.73,8.73 0 1,1 0,-8.73A8.73,8.73 0 0,1 8.73,0Z\" style=\"opacity: 0.7; stroke-width: 1px; fill: rgb(148, 103, 189); fill-opacity: 1; stroke: rgb(255, 255, 255); stroke-opacity: 1;\"/></g><g class=\"text\"/></g><g class=\"trace scatter tracea18f19\" style=\"stroke-miterlimit: 2; opacity: 1;\"><g class=\"fills\"/><g class=\"errorbars\"/><g class=\"lines\"/><g class=\"points\"><path class=\"point\" transform=\"translate(344.36,184.07)\" d=\"M4.59,0A4.59,4.59 0 1,1 0,-4.59A4.59,4.59 0 0,1 4.59,0Z\" style=\"opacity: 0.7; stroke-width: 1px; fill: rgb(140, 86, 75); fill-opacity: 1; stroke: rgb(255, 255, 255); stroke-opacity: 1;\"/><path class=\"point\" transform=\"translate(371.71,161.48)\" d=\"M4.69,0A4.69,4.69 0 1,1 0,-4.69A4.69,4.69 0 0,1 4.69,0Z\" style=\"opacity: 0.7; stroke-width: 1px; fill: rgb(140, 86, 75); fill-opacity: 1; stroke: rgb(255, 255, 255); stroke-opacity: 1;\"/><path class=\"point\" transform=\"translate(344.99,149.99)\" d=\"M5.88,0A5.88,5.88 0 1,1 0,-5.88A5.88,5.88 0 0,1 5.88,0Z\" style=\"opacity: 0.7; stroke-width: 1px; fill: rgb(140, 86, 75); fill-opacity: 1; stroke: rgb(255, 255, 255); stroke-opacity: 1;\"/><path class=\"point\" transform=\"translate(371.71,180.8)\" d=\"M5.61,0A5.61,5.61 0 1,1 0,-5.61A5.61,5.61 0 0,1 5.61,0Z\" style=\"opacity: 0.7; stroke-width: 1px; fill: rgb(140, 86, 75); fill-opacity: 1; stroke: rgb(255, 255, 255); stroke-opacity: 1;\"/><path class=\"point\" transform=\"translate(391.6,151.43)\" d=\"M4.17,0A4.17,4.17 0 1,1 0,-4.17A4.17,4.17 0 0,1 4.17,0Z\" style=\"opacity: 0.7; stroke-width: 1px; fill: rgb(140, 86, 75); fill-opacity: 1; stroke: rgb(255, 255, 255); stroke-opacity: 1;\"/><path class=\"point\" transform=\"translate(308.93,137.57)\" d=\"M4.22,0A4.22,4.22 0 1,1 0,-4.22A4.22,4.22 0 0,1 4.22,0Z\" style=\"opacity: 0.7; stroke-width: 1px; fill: rgb(140, 86, 75); fill-opacity: 1; stroke: rgb(255, 255, 255); stroke-opacity: 1;\"/><path class=\"point\" transform=\"translate(347.47,160.01)\" d=\"M4.29,0A4.29,4.29 0 1,1 0,-4.29A4.29,4.29 0 0,1 4.29,0Z\" style=\"opacity: 0.7; stroke-width: 1px; fill: rgb(140, 86, 75); fill-opacity: 1; stroke: rgb(255, 255, 255); stroke-opacity: 1;\"/><path class=\"point\" transform=\"translate(321.99,169.15)\" d=\"M4.34,0A4.34,4.34 0 1,1 0,-4.34A4.34,4.34 0 0,1 4.34,0Z\" style=\"opacity: 0.7; stroke-width: 1px; fill: rgb(140, 86, 75); fill-opacity: 1; stroke: rgb(255, 255, 255); stroke-opacity: 1;\"/><path class=\"point\" transform=\"translate(361.15,171.94)\" d=\"M4.61,0A4.61,4.61 0 1,1 0,-4.61A4.61,4.61 0 0,1 4.61,0Z\" style=\"opacity: 0.7; stroke-width: 1px; fill: rgb(140, 86, 75); fill-opacity: 1; stroke: rgb(255, 255, 255); stroke-opacity: 1;\"/><path class=\"point\" transform=\"translate(346.85,162.62)\" d=\"M4.21,0A4.21,4.21 0 1,1 0,-4.21A4.21,4.21 0 0,1 4.21,0Z\" style=\"opacity: 0.7; stroke-width: 1px; fill: rgb(140, 86, 75); fill-opacity: 1; stroke: rgb(255, 255, 255); stroke-opacity: 1;\"/><path class=\"point\" transform=\"translate(279.72,151.41)\" d=\"M4.98,0A4.98,4.98 0 1,1 0,-4.98A4.98,4.98 0 0,1 4.98,0Z\" style=\"opacity: 0.7; stroke-width: 1px; fill: rgb(140, 86, 75); fill-opacity: 1; stroke: rgb(255, 255, 255); stroke-opacity: 1;\"/><path class=\"point\" transform=\"translate(343.74,154.3)\" d=\"M5.23,0A5.23,5.23 0 1,1 0,-5.23A5.23,5.23 0 0,1 5.23,0Z\" style=\"opacity: 0.7; stroke-width: 1px; fill: rgb(140, 86, 75); fill-opacity: 1; stroke: rgb(255, 255, 255); stroke-opacity: 1;\"/><path class=\"point\" transform=\"translate(403.41,145.13)\" d=\"M4.3,0A4.3,4.3 0 1,1 0,-4.3A4.3,4.3 0 0,1 4.3,0Z\" style=\"opacity: 0.7; stroke-width: 1px; fill: rgb(140, 86, 75); fill-opacity: 1; stroke: rgb(255, 255, 255); stroke-opacity: 1;\"/><path class=\"point\" transform=\"translate(335.04,153)\" d=\"M5.69,0A5.69,5.69 0 1,1 0,-5.69A5.69,5.69 0 0,1 5.69,0Z\" style=\"opacity: 0.7; stroke-width: 1px; fill: rgb(140, 86, 75); fill-opacity: 1; stroke: rgb(255, 255, 255); stroke-opacity: 1;\"/></g><g class=\"text\"/></g><g class=\"trace scatter trace9d546d\" style=\"stroke-miterlimit: 2; opacity: 1;\"><g class=\"fills\"/><g class=\"errorbars\"/><g class=\"lines\"/><g class=\"points\"><path class=\"point\" transform=\"translate(374.2,183.64)\" d=\"M4.59,0A4.59,4.59 0 1,1 0,-4.59A4.59,4.59 0 0,1 4.59,0Z\" style=\"opacity: 0.7; stroke-width: 1px; fill: rgb(227, 119, 194); fill-opacity: 1; stroke: rgb(255, 255, 255); stroke-opacity: 1;\"/><path class=\"point\" transform=\"translate(318.88,161.49)\" d=\"M4.69,0A4.69,4.69 0 1,1 0,-4.69A4.69,4.69 0 0,1 4.69,0Z\" style=\"opacity: 0.7; stroke-width: 1px; fill: rgb(227, 119, 194); fill-opacity: 1; stroke: rgb(255, 255, 255); stroke-opacity: 1;\"/><path class=\"point\" transform=\"translate(343.74,149.99)\" d=\"M5.88,0A5.88,5.88 0 1,1 0,-5.88A5.88,5.88 0 0,1 5.88,0Z\" style=\"opacity: 0.7; stroke-width: 1px; fill: rgb(227, 119, 194); fill-opacity: 1; stroke: rgb(255, 255, 255); stroke-opacity: 1;\"/><path class=\"point\" transform=\"translate(335.66,180.83)\" d=\"M5.61,0A5.61,5.61 0 1,1 0,-5.61A5.61,5.61 0 0,1 5.61,0Z\" style=\"opacity: 0.7; stroke-width: 1px; fill: rgb(227, 119, 194); fill-opacity: 1; stroke: rgb(255, 255, 255); stroke-opacity: 1;\"/><path class=\"point\" transform=\"translate(392.23,151.43)\" d=\"M4.17,0A4.17,4.17 0 1,1 0,-4.17A4.17,4.17 0 0,1 4.17,0Z\" style=\"opacity: 0.7; stroke-width: 1px; fill: rgb(227, 119, 194); fill-opacity: 1; stroke: rgb(255, 255, 255); stroke-opacity: 1;\"/><path class=\"point\" transform=\"translate(356.8,137.57)\" d=\"M4.22,0A4.22,4.22 0 1,1 0,-4.22A4.22,4.22 0 0,1 4.22,0Z\" style=\"opacity: 0.7; stroke-width: 1px; fill: rgb(227, 119, 194); fill-opacity: 1; stroke: rgb(255, 255, 255); stroke-opacity: 1;\"/><path class=\"point\" transform=\"translate(361.77,159.93)\" d=\"M4.29,0A4.29,4.29 0 1,1 0,-4.29A4.29,4.29 0 0,1 4.29,0Z\" style=\"opacity: 0.7; stroke-width: 1px; fill: rgb(227, 119, 194); fill-opacity: 1; stroke: rgb(255, 255, 255); stroke-opacity: 1;\"/><path class=\"point\" transform=\"translate(321.37,169.18)\" d=\"M4.34,0A4.34,4.34 0 1,1 0,-4.34A4.34,4.34 0 0,1 4.34,0Z\" style=\"opacity: 0.7; stroke-width: 1px; fill: rgb(227, 119, 194); fill-opacity: 1; stroke: rgb(255, 255, 255); stroke-opacity: 1;\"/><path class=\"point\" transform=\"translate(379.79,171.94)\" d=\"M4.61,0A4.61,4.61 0 1,1 0,-4.61A4.61,4.61 0 0,1 4.61,0Z\" style=\"opacity: 0.7; stroke-width: 1px; fill: rgb(227, 119, 194); fill-opacity: 1; stroke: rgb(255, 255, 255); stroke-opacity: 1;\"/><path class=\"point\" transform=\"translate(332.55,162.63)\" d=\"M4.21,0A4.21,4.21 0 1,1 0,-4.21A4.21,4.21 0 0,1 4.21,0Z\" style=\"opacity: 0.7; stroke-width: 1px; fill: rgb(227, 119, 194); fill-opacity: 1; stroke: rgb(255, 255, 255); stroke-opacity: 1;\"/><path class=\"point\" transform=\"translate(394.71,151.39)\" d=\"M4.98,0A4.98,4.98 0 1,1 0,-4.98A4.98,4.98 0 0,1 4.98,0Z\" style=\"opacity: 0.7; stroke-width: 1px; fill: rgb(227, 119, 194); fill-opacity: 1; stroke: rgb(255, 255, 255); stroke-opacity: 1;\"/><path class=\"point\" transform=\"translate(359.28,154.29)\" d=\"M5.23,0A5.23,5.23 0 1,1 0,-5.23A5.23,5.23 0 0,1 5.23,0Z\" style=\"opacity: 0.7; stroke-width: 1px; fill: rgb(227, 119, 194); fill-opacity: 1; stroke: rgb(255, 255, 255); stroke-opacity: 1;\"/><path class=\"point\" transform=\"translate(401.55,145.13)\" d=\"M4.3,0A4.3,4.3 0 1,1 0,-4.3A4.3,4.3 0 0,1 4.3,0Z\" style=\"opacity: 0.7; stroke-width: 1px; fill: rgb(227, 119, 194); fill-opacity: 1; stroke: rgb(255, 255, 255); stroke-opacity: 1;\"/><path class=\"point\" transform=\"translate(335.66,153.22)\" d=\"M5.69,0A5.69,5.69 0 1,1 0,-5.69A5.69,5.69 0 0,1 5.69,0Z\" style=\"opacity: 0.7; stroke-width: 1px; fill: rgb(227, 119, 194); fill-opacity: 1; stroke: rgb(255, 255, 255); stroke-opacity: 1;\"/></g><g class=\"text\"/></g><g class=\"trace scatter tracefbfae5\" style=\"stroke-miterlimit: 2; opacity: 1;\"><g class=\"fills\"/><g class=\"errorbars\"/><g class=\"lines\"/><g class=\"points\"><path class=\"point\" transform=\"translate(273.5,119.38)\" d=\"M9.01,0A9.01,9.01 0 1,1 0,-9.01A9.01,9.01 0 0,1 9.01,0Z\" style=\"opacity: 0.7; stroke-width: 1px; fill: rgb(127, 127, 127); fill-opacity: 1; stroke: rgb(255, 255, 255); stroke-opacity: 1;\"/><path class=\"point\" transform=\"translate(154.16,121.66)\" d=\"M9.24,0A9.24,9.24 0 1,1 0,-9.24A9.24,9.24 0 0,1 9.24,0Z\" style=\"opacity: 0.7; stroke-width: 1px; fill: rgb(127, 127, 127); fill-opacity: 1; stroke: rgb(255, 255, 255); stroke-opacity: 1;\"/><path class=\"point\" transform=\"translate(225.02,117.35)\" d=\"M9.07,0A9.07,9.07 0 1,1 0,-9.07A9.07,9.07 0 0,1 9.07,0Z\" style=\"opacity: 0.7; stroke-width: 1px; fill: rgb(127, 127, 127); fill-opacity: 1; stroke: rgb(255, 255, 255); stroke-opacity: 1;\"/><path class=\"point\" transform=\"translate(283.45,111.71)\" d=\"M9.04,0A9.04,9.04 0 1,1 0,-9.04A9.04,9.04 0 0,1 9.04,0Z\" style=\"opacity: 0.7; stroke-width: 1px; fill: rgb(127, 127, 127); fill-opacity: 1; stroke: rgb(255, 255, 255); stroke-opacity: 1;\"/><path class=\"point\" transform=\"translate(331.31,133.07)\" d=\"M9.54,0A9.54,9.54 0 1,1 0,-9.54A9.54,9.54 0 0,1 9.54,0Z\" style=\"opacity: 0.7; stroke-width: 1px; fill: rgb(127, 127, 127); fill-opacity: 1; stroke: rgb(255, 255, 255); stroke-opacity: 1;\"/><path class=\"point\" transform=\"translate(277.85,96.87)\" d=\"M9.04,0A9.04,9.04 0 1,1 0,-9.04A9.04,9.04 0 0,1 9.04,0Z\" style=\"opacity: 0.7; stroke-width: 1px; fill: rgb(127, 127, 127); fill-opacity: 1; stroke: rgb(255, 255, 255); stroke-opacity: 1;\"/><path class=\"point\" transform=\"translate(270.39,124.67)\" d=\"M10.19,0A10.19,10.19 0 1,1 0,-10.19A10.19,10.19 0 0,1 10.19,0Z\" style=\"opacity: 0.7; stroke-width: 1px; fill: rgb(127, 127, 127); fill-opacity: 1; stroke: rgb(255, 255, 255); stroke-opacity: 1;\"/><path class=\"point\" transform=\"translate(373.58,103.59)\" d=\"M9.23,0A9.23,9.23 0 1,1 0,-9.23A9.23,9.23 0 0,1 9.23,0Z\" style=\"opacity: 0.7; stroke-width: 1px; fill: rgb(127, 127, 127); fill-opacity: 1; stroke: rgb(255, 255, 255); stroke-opacity: 1;\"/><path class=\"point\" transform=\"translate(255.48,155.71)\" d=\"M9.19,0A9.19,9.19 0 1,1 0,-9.19A9.19,9.19 0 0,1 9.19,0Z\" style=\"opacity: 0.7; stroke-width: 1px; fill: rgb(127, 127, 127); fill-opacity: 1; stroke: rgb(255, 255, 255); stroke-opacity: 1;\"/><path class=\"point\" transform=\"translate(340.01,100.2)\" d=\"M9.61,0A9.61,9.61 0 1,1 0,-9.61A9.61,9.61 0 0,1 9.61,0Z\" style=\"opacity: 0.7; stroke-width: 1px; fill: rgb(127, 127, 127); fill-opacity: 1; stroke: rgb(255, 255, 255); stroke-opacity: 1;\"/><path class=\"point\" transform=\"translate(281.58,115.82)\" d=\"M9.77,0A9.77,9.77 0 1,1 0,-9.77A9.77,9.77 0 0,1 9.77,0Z\" style=\"opacity: 0.7; stroke-width: 1px; fill: rgb(127, 127, 127); fill-opacity: 1; stroke: rgb(255, 255, 255); stroke-opacity: 1;\"/><path class=\"point\" transform=\"translate(244.91,106.78)\" d=\"M8.46,0A8.46,8.46 0 1,1 0,-8.46A8.46,8.46 0 0,1 8.46,0Z\" style=\"opacity: 0.7; stroke-width: 1px; fill: rgb(127, 127, 127); fill-opacity: 1; stroke: rgb(255, 255, 255); stroke-opacity: 1;\"/></g><g class=\"text\"/></g><g class=\"trace scatter tracec820da\" style=\"stroke-miterlimit: 2; opacity: 1;\"><g class=\"fills\"/><g class=\"errorbars\"/><g class=\"lines\"/><g class=\"points\"><path class=\"point\" transform=\"translate(433.87,122.83)\" d=\"M9.93,0A9.93,9.93 0 1,1 0,-9.93A9.93,9.93 0 0,1 9.93,0Z\" style=\"opacity: 0.7; stroke-width: 1px; fill: rgb(188, 189, 34); fill-opacity: 1; stroke: rgb(255, 255, 255); stroke-opacity: 1;\"/><path class=\"point\" transform=\"translate(355.55,126.97)\" d=\"M10.33,0A10.33,10.33 0 1,1 0,-10.33A10.33,10.33 0 0,1 10.33,0Z\" style=\"opacity: 0.7; stroke-width: 1px; fill: rgb(188, 189, 34); fill-opacity: 1; stroke: rgb(255, 255, 255); stroke-opacity: 1;\"/><path class=\"point\" transform=\"translate(378.55,110.74)\" d=\"M9.19,0A9.19,9.19 0 1,1 0,-9.19A9.19,9.19 0 0,1 9.19,0Z\" style=\"opacity: 0.7; stroke-width: 1px; fill: rgb(188, 189, 34); fill-opacity: 1; stroke: rgb(255, 255, 255); stroke-opacity: 1;\"/><path class=\"point\" transform=\"translate(422.68,120.94)\" d=\"M9.96,0A9.96,9.96 0 1,1 0,-9.96A9.96,9.96 0 0,1 9.96,0Z\" style=\"opacity: 0.7; stroke-width: 1px; fill: rgb(188, 189, 34); fill-opacity: 1; stroke: rgb(255, 255, 255); stroke-opacity: 1;\"/><path class=\"point\" transform=\"translate(404.66,134.58)\" d=\"M10.09,0A10.09,10.09 0 1,1 0,-10.09A10.09,10.09 0 0,1 10.09,0Z\" style=\"opacity: 0.7; stroke-width: 1px; fill: rgb(188, 189, 34); fill-opacity: 1; stroke: rgb(255, 255, 255); stroke-opacity: 1;\"/><path class=\"point\" transform=\"translate(328.82,159.26)\" d=\"M12.18,0A12.18,12.18 0 1,1 0,-12.18A12.18,12.18 0 0,1 12.18,0Z\" style=\"opacity: 0.7; stroke-width: 1px; fill: rgb(188, 189, 34); fill-opacity: 1; stroke: rgb(255, 255, 255); stroke-opacity: 1;\"/><path class=\"point\" transform=\"translate(399.06,118.36)\" d=\"M11.46,0A11.46,11.46 0 1,1 0,-11.46A11.46,11.46 0 0,1 11.46,0Z\" style=\"opacity: 0.7; stroke-width: 1px; fill: rgb(188, 189, 34); fill-opacity: 1; stroke: rgb(255, 255, 255); stroke-opacity: 1;\"/><path class=\"point\" transform=\"translate(361.77,119.32)\" d=\"M8.1,0A8.1,8.1 0 1,1 0,-8.1A8.1,8.1 0 0,1 8.1,0Z\" style=\"opacity: 0.7; stroke-width: 1px; fill: rgb(188, 189, 34); fill-opacity: 1; stroke: rgb(255, 255, 255); stroke-opacity: 1;\"/><path class=\"point\" transform=\"translate(161,179.87)\" d=\"M10.95,0A10.95,10.95 0 1,1 0,-10.95A10.95,10.95 0 0,1 10.95,0Z\" style=\"opacity: 0.7; stroke-width: 1px; fill: rgb(188, 189, 34); fill-opacity: 1; stroke: rgb(255, 255, 255); stroke-opacity: 1;\"/><path class=\"point\" transform=\"translate(361.15,134.01)\" d=\"M11.21,0A11.21,11.21 0 1,1 0,-11.21A11.21,11.21 0 0,1 11.21,0Z\" style=\"opacity: 0.7; stroke-width: 1px; fill: rgb(188, 189, 34); fill-opacity: 1; stroke: rgb(255, 255, 255); stroke-opacity: 1;\"/><path class=\"point\" transform=\"translate(487.33,132.99)\" d=\"M7.67,0A7.67,7.67 0 1,1 0,-7.67A7.67,7.67 0 0,1 7.67,0Z\" style=\"opacity: 0.7; stroke-width: 1px; fill: rgb(188, 189, 34); fill-opacity: 1; stroke: rgb(255, 255, 255); stroke-opacity: 1;\"/><path class=\"point\" transform=\"translate(253.61,229.08)\" d=\"M9.22,0A9.22,9.22 0 1,1 0,-9.22A9.22,9.22 0 0,1 9.22,0Z\" style=\"opacity: 0.7; stroke-width: 1px; fill: rgb(188, 189, 34); fill-opacity: 1; stroke: rgb(255, 255, 255); stroke-opacity: 1;\"/></g><g class=\"text\"/></g><g class=\"trace scatter trace8f14a1\" style=\"stroke-miterlimit: 2; opacity: 1;\"><g class=\"fills\"/><g class=\"errorbars\"/><g class=\"lines\"/><g class=\"points\"><path class=\"point\" transform=\"translate(435.74,76.89)\" d=\"M9.97,0A9.97,9.97 0 1,1 0,-9.97A9.97,9.97 0 0,1 9.97,0Z\" style=\"opacity: 0.7; stroke-width: 1px; fill: rgb(23, 190, 207); fill-opacity: 1; stroke: rgb(255, 255, 255); stroke-opacity: 1;\"/><path class=\"point\" transform=\"translate(359.28,78.63)\" d=\"M10.39,0A10.39,10.39 0 1,1 0,-10.39A10.39,10.39 0 0,1 10.39,0Z\" style=\"opacity: 0.7; stroke-width: 1px; fill: rgb(23, 190, 207); fill-opacity: 1; stroke: rgb(255, 255, 255); stroke-opacity: 1;\"/><path class=\"point\" transform=\"translate(391.6,66.42)\" d=\"M9.22,0A9.22,9.22 0 1,1 0,-9.22A9.22,9.22 0 0,1 9.22,0Z\" style=\"opacity: 0.7; stroke-width: 1px; fill: rgb(23, 190, 207); fill-opacity: 1; stroke: rgb(255, 255, 255); stroke-opacity: 1;\"/><path class=\"point\" transform=\"translate(425.17,68.98)\" d=\"M10,0A10,10 0 1,1 0,-10A10,10 0 0,1 10,0Z\" style=\"opacity: 0.7; stroke-width: 1px; fill: rgb(23, 190, 207); fill-opacity: 1; stroke: rgb(255, 255, 255); stroke-opacity: 1;\"/><path class=\"point\" transform=\"translate(401.55,87.77)\" d=\"M10.04,0A10.04,10.04 0 1,1 0,-10.04A10.04,10.04 0 0,1 10.04,0Z\" style=\"opacity: 0.7; stroke-width: 1px; fill: rgb(23, 190, 207); fill-opacity: 1; stroke: rgb(255, 255, 255); stroke-opacity: 1;\"/><path class=\"point\" transform=\"translate(428.28,117.11)\" d=\"M12.19,0A12.19,12.19 0 1,1 0,-12.19A12.19,12.19 0 0,1 12.19,0Z\" style=\"opacity: 0.7; stroke-width: 1px; fill: rgb(23, 190, 207); fill-opacity: 1; stroke: rgb(255, 255, 255); stroke-opacity: 1;\"/><path class=\"point\" transform=\"translate(413.36,88.81)\" d=\"M11.46,0A11.46,11.46 0 1,1 0,-11.46A11.46,11.46 0 0,1 11.46,0Z\" style=\"opacity: 0.7; stroke-width: 1px; fill: rgb(23, 190, 207); fill-opacity: 1; stroke: rgb(255, 255, 255); stroke-opacity: 1;\"/><path class=\"point\" transform=\"translate(373.58,91.35)\" d=\"M8.21,0A8.21,8.21 0 1,1 0,-8.21A8.21,8.21 0 0,1 8.21,0Z\" style=\"opacity: 0.7; stroke-width: 1px; fill: rgb(23, 190, 207); fill-opacity: 1; stroke: rgb(255, 255, 255); stroke-opacity: 1;\"/><path class=\"point\" transform=\"translate(167.83,161.96)\" d=\"M11.04,0A11.04,11.04 0 1,1 0,-11.04A11.04,11.04 0 0,1 11.04,0Z\" style=\"opacity: 0.7; stroke-width: 1px; fill: rgb(23, 190, 207); fill-opacity: 1; stroke: rgb(255, 255, 255); stroke-opacity: 1;\"/><path class=\"point\" transform=\"translate(364.88,98.9)\" d=\"M11.29,0A11.29,11.29 0 1,1 0,-11.29A11.29,11.29 0 0,1 11.29,0Z\" style=\"opacity: 0.7; stroke-width: 1px; fill: rgb(23, 190, 207); fill-opacity: 1; stroke: rgb(255, 255, 255); stroke-opacity: 1;\"/><path class=\"point\" transform=\"translate(468.06,91.82)\" d=\"M8.54,0A8.54,8.54 0 1,1 0,-8.54A8.54,8.54 0 0,1 8.54,0Z\" style=\"opacity: 0.7; stroke-width: 1px; fill: rgb(23, 190, 207); fill-opacity: 1; stroke: rgb(255, 255, 255); stroke-opacity: 1;\"/><path class=\"point\" transform=\"translate(253.61,195.14)\" d=\"M9.39,0A9.39,9.39 0 1,1 0,-9.39A9.39,9.39 0 0,1 9.39,0Z\" style=\"opacity: 0.7; stroke-width: 1px; fill: rgb(23, 190, 207); fill-opacity: 1; stroke: rgb(255, 255, 255); stroke-opacity: 1;\"/></g><g class=\"text\"/></g><g class=\"trace scatter trace90273f\" style=\"stroke-miterlimit: 2; opacity: 1;\"><g class=\"fills\"/><g class=\"errorbars\"/><g class=\"lines\"/><g class=\"points\"><path class=\"point\" transform=\"translate(426.41,83.42)\" d=\"M12.25,0A12.25,12.25 0 1,1 0,-12.25A12.25,12.25 0 0,1 12.25,0Z\" style=\"opacity: 0.7; stroke-width: 1px; fill: rgb(31, 119, 180); fill-opacity: 1; stroke: rgb(255, 255, 255); stroke-opacity: 1;\"/><path class=\"point\" transform=\"translate(310.8,69.11)\" d=\"M10.85,0A10.85,10.85 0 1,1 0,-10.85A10.85,10.85 0 0,1 10.85,0Z\" style=\"opacity: 0.7; stroke-width: 1px; fill: rgb(31, 119, 180); fill-opacity: 1; stroke: rgb(255, 255, 255); stroke-opacity: 1;\"/><path class=\"point\" transform=\"translate(414.6,79.36)\" d=\"M11.46,0A11.46,11.46 0 1,1 0,-11.46A11.46,11.46 0 0,1 11.46,0Z\" style=\"opacity: 0.7; stroke-width: 1px; fill: rgb(31, 119, 180); fill-opacity: 1; stroke: rgb(255, 255, 255); stroke-opacity: 1;\"/><path class=\"point\" transform=\"translate(231.24,73.93)\" d=\"M9.13,0A9.13,9.13 0 1,1 0,-9.13A9.13,9.13 0 0,1 9.13,0Z\" style=\"opacity: 0.7; stroke-width: 1px; fill: rgb(31, 119, 180); fill-opacity: 1; stroke: rgb(255, 255, 255); stroke-opacity: 1;\"/><path class=\"point\" transform=\"translate(351.2,87.92)\" d=\"M6.78,0A6.78,6.78 0 1,1 0,-6.78A6.78,6.78 0 0,1 6.78,0Z\" style=\"opacity: 0.7; stroke-width: 1px; fill: rgb(31, 119, 180); fill-opacity: 1; stroke: rgb(255, 255, 255); stroke-opacity: 1;\"/><path class=\"point\" transform=\"translate(332.55,89.2)\" d=\"M10.02,0A10.02,10.02 0 1,1 0,-10.02A10.02,10.02 0 0,1 10.02,0Z\" style=\"opacity: 0.7; stroke-width: 1px; fill: rgb(31, 119, 180); fill-opacity: 1; stroke: rgb(255, 255, 255); stroke-opacity: 1;\"/><path class=\"point\" transform=\"translate(317.64,119.39)\" d=\"M9.64,0A9.64,9.64 0 1,1 0,-9.64A9.64,9.64 0 0,1 9.64,0Z\" style=\"opacity: 0.7; stroke-width: 1px; fill: rgb(31, 119, 180); fill-opacity: 1; stroke: rgb(255, 255, 255); stroke-opacity: 1;\"/><path class=\"point\" transform=\"translate(251.75,104.18)\" d=\"M8.62,0A8.62,8.62 0 1,1 0,-8.62A8.62,8.62 0 0,1 8.62,0Z\" style=\"opacity: 0.7; stroke-width: 1px; fill: rgb(31, 119, 180); fill-opacity: 1; stroke: rgb(255, 255, 255); stroke-opacity: 1;\"/><path class=\"point\" transform=\"translate(380.42,118.43)\" d=\"M12.15,0A12.15,12.15 0 1,1 0,-12.15A12.15,12.15 0 0,1 12.15,0Z\" style=\"opacity: 0.7; stroke-width: 1px; fill: rgb(31, 119, 180); fill-opacity: 1; stroke: rgb(255, 255, 255); stroke-opacity: 1;\"/><path class=\"point\" transform=\"translate(231.86,78.25)\" d=\"M9.82,0A9.82,9.82 0 1,1 0,-9.82A9.82,9.82 0 0,1 9.82,0Z\" style=\"opacity: 0.7; stroke-width: 1px; fill: rgb(31, 119, 180); fill-opacity: 1; stroke: rgb(255, 255, 255); stroke-opacity: 1;\"/><path class=\"point\" transform=\"translate(388.5,101.65)\" d=\"M9.76,0A9.76,9.76 0 1,1 0,-9.76A9.76,9.76 0 0,1 9.76,0Z\" style=\"opacity: 0.7; stroke-width: 1px; fill: rgb(31, 119, 180); fill-opacity: 1; stroke: rgb(255, 255, 255); stroke-opacity: 1;\"/><path class=\"point\" transform=\"translate(392.23,126.14)\" d=\"M9.9,0A9.9,9.9 0 1,1 0,-9.9A9.9,9.9 0 0,1 9.9,0Z\" style=\"opacity: 0.7; stroke-width: 1px; fill: rgb(31, 119, 180); fill-opacity: 1; stroke: rgb(255, 255, 255); stroke-opacity: 1;\"/><path class=\"point\" transform=\"translate(372.34,77.06)\" d=\"M11.45,0A11.45,11.45 0 1,1 0,-11.45A11.45,11.45 0 0,1 11.45,0Z\" style=\"opacity: 0.7; stroke-width: 1px; fill: rgb(31, 119, 180); fill-opacity: 1; stroke: rgb(255, 255, 255); stroke-opacity: 1;\"/><path class=\"point\" transform=\"translate(200.16,75.52)\" d=\"M11.07,0A11.07,11.07 0 1,1 0,-11.07A11.07,11.07 0 0,1 11.07,0Z\" style=\"opacity: 0.7; stroke-width: 1px; fill: rgb(31, 119, 180); fill-opacity: 1; stroke: rgb(255, 255, 255); stroke-opacity: 1;\"/><path class=\"point\" transform=\"translate(342.5,76.87)\" d=\"M8.55,0A8.55,8.55 0 1,1 0,-8.55A8.55,8.55 0 0,1 8.55,0Z\" style=\"opacity: 0.7; stroke-width: 1px; fill: rgb(31, 119, 180); fill-opacity: 1; stroke: rgb(255, 255, 255); stroke-opacity: 1;\"/><path class=\"point\" transform=\"translate(250.5,90.99)\" d=\"M10.9,0A10.9,10.9 0 1,1 0,-10.9A10.9,10.9 0 0,1 10.9,0Z\" style=\"opacity: 0.7; stroke-width: 1px; fill: rgb(31, 119, 180); fill-opacity: 1; stroke: rgb(255, 255, 255); stroke-opacity: 1;\"/><path class=\"point\" transform=\"translate(313.28,121)\" d=\"M11.15,0A11.15,11.15 0 1,1 0,-11.15A11.15,11.15 0 0,1 11.15,0Z\" style=\"opacity: 0.7; stroke-width: 1px; fill: rgb(31, 119, 180); fill-opacity: 1; stroke: rgb(255, 255, 255); stroke-opacity: 1;\"/><path class=\"point\" transform=\"translate(233.1,81.57)\" d=\"M10.43,0A10.43,10.43 0 1,1 0,-10.43A10.43,10.43 0 0,1 10.43,0Z\" style=\"opacity: 0.7; stroke-width: 1px; fill: rgb(31, 119, 180); fill-opacity: 1; stroke: rgb(255, 255, 255); stroke-opacity: 1;\"/><path class=\"point\" transform=\"translate(274.12,68.82)\" d=\"M9.41,0A9.41,9.41 0 1,1 0,-9.41A9.41,9.41 0 0,1 9.41,0Z\" style=\"opacity: 0.7; stroke-width: 1px; fill: rgb(31, 119, 180); fill-opacity: 1; stroke: rgb(255, 255, 255); stroke-opacity: 1;\"/><path class=\"point\" transform=\"translate(251.75,97.75)\" d=\"M7.64,0A7.64,7.64 0 1,1 0,-7.64A7.64,7.64 0 0,1 7.64,0Z\" style=\"opacity: 0.7; stroke-width: 1px; fill: rgb(31, 119, 180); fill-opacity: 1; stroke: rgb(255, 255, 255); stroke-opacity: 1;\"/></g><g class=\"text\"/></g><g class=\"trace scatter traced7cbf9\" style=\"stroke-miterlimit: 2; opacity: 1;\"><g class=\"fills\"/><g class=\"errorbars\"/><g class=\"lines\"/><g class=\"points\"><path class=\"point\" transform=\"translate(334.42,74.96)\" d=\"M9.5,0A9.5,9.5 0 1,1 0,-9.5A9.5,9.5 0 0,1 9.5,0Z\" style=\"opacity: 0.7; stroke-width: 1px; fill: rgb(255, 127, 14); fill-opacity: 1; stroke: rgb(255, 255, 255); stroke-opacity: 1;\"/><path class=\"point\" transform=\"translate(252.99,67.1)\" d=\"M7.6,0A7.6,7.6 0 1,1 0,-7.6A7.6,7.6 0 0,1 7.6,0Z\" style=\"opacity: 0.7; stroke-width: 1px; fill: rgb(255, 127, 14); fill-opacity: 1; stroke: rgb(255, 255, 255); stroke-opacity: 1;\"/><path class=\"point\" transform=\"translate(257.96,120.63)\" d=\"M10.27,0A10.27,10.27 0 1,1 0,-10.27A10.27,10.27 0 0,1 10.27,0Z\" style=\"opacity: 0.7; stroke-width: 1px; fill: rgb(255, 127, 14); fill-opacity: 1; stroke: rgb(255, 255, 255); stroke-opacity: 1;\"/><path class=\"point\" transform=\"translate(298.99,68.94)\" d=\"M8.59,0A8.59,8.59 0 1,1 0,-8.59A8.59,8.59 0 0,1 8.59,0Z\" style=\"opacity: 0.7; stroke-width: 1px; fill: rgb(255, 127, 14); fill-opacity: 1; stroke: rgb(255, 255, 255); stroke-opacity: 1;\"/><path class=\"point\" transform=\"translate(325.09,94.75)\" d=\"M9.69,0A9.69,9.69 0 1,1 0,-9.69A9.69,9.69 0 0,1 9.69,0Z\" style=\"opacity: 0.7; stroke-width: 1px; fill: rgb(255, 127, 14); fill-opacity: 1; stroke: rgb(255, 255, 255); stroke-opacity: 1;\"/><path class=\"point\" transform=\"translate(308.31,80.44)\" d=\"M9.46,0A9.46,9.46 0 1,1 0,-9.46A9.46,9.46 0 0,1 9.46,0Z\" style=\"opacity: 0.7; stroke-width: 1px; fill: rgb(255, 127, 14); fill-opacity: 1; stroke: rgb(255, 255, 255); stroke-opacity: 1;\"/><path class=\"point\" transform=\"translate(274.75,76.85)\" d=\"M10.27,0A10.27,10.27 0 1,1 0,-10.27A10.27,10.27 0 0,1 10.27,0Z\" style=\"opacity: 0.7; stroke-width: 1px; fill: rgb(255, 127, 14); fill-opacity: 1; stroke: rgb(255, 255, 255); stroke-opacity: 1;\"/><path class=\"point\" transform=\"translate(307.69,112.99)\" d=\"M10.1,0A10.1,10.1 0 1,1 0,-10.1A10.1,10.1 0 0,1 10.1,0Z\" style=\"opacity: 0.7; stroke-width: 1px; fill: rgb(255, 127, 14); fill-opacity: 1; stroke: rgb(255, 255, 255); stroke-opacity: 1;\"/><path class=\"point\" transform=\"translate(349.96,77.59)\" d=\"M10.15,0A10.15,10.15 0 1,1 0,-10.15A10.15,10.15 0 0,1 10.15,0Z\" style=\"opacity: 0.7; stroke-width: 1px; fill: rgb(255, 127, 14); fill-opacity: 1; stroke: rgb(255, 255, 255); stroke-opacity: 1;\"/><path class=\"point\" transform=\"translate(389.74,95.89)\" d=\"M9.3,0A9.3,9.3 0 1,1 0,-9.3A9.3,9.3 0 0,1 9.3,0Z\" style=\"opacity: 0.7; stroke-width: 1px; fill: rgb(255, 127, 14); fill-opacity: 1; stroke: rgb(255, 255, 255); stroke-opacity: 1;\"/><path class=\"point\" transform=\"translate(234.96,82.14)\" d=\"M9.28,0A9.28,9.28 0 1,1 0,-9.28A9.28,9.28 0 0,1 9.28,0Z\" style=\"opacity: 0.7; stroke-width: 1px; fill: rgb(255, 127, 14); fill-opacity: 1; stroke: rgb(255, 255, 255); stroke-opacity: 1;\"/><path class=\"point\" transform=\"translate(351.82,74.37)\" d=\"M10.28,0A10.28,10.28 0 1,1 0,-10.28A10.28,10.28 0 0,1 10.28,0Z\" style=\"opacity: 0.7; stroke-width: 1px; fill: rgb(255, 127, 14); fill-opacity: 1; stroke: rgb(255, 255, 255); stroke-opacity: 1;\"/><path class=\"point\" transform=\"translate(238.07,81.48)\" d=\"M6.96,0A6.96,6.96 0 1,1 0,-6.96A6.96,6.96 0 0,1 6.96,0Z\" style=\"opacity: 0.7; stroke-width: 1px; fill: rgb(255, 127, 14); fill-opacity: 1; stroke: rgb(255, 255, 255); stroke-opacity: 1;\"/><path class=\"point\" transform=\"translate(232.48,78.89)\" d=\"M10.16,0A10.16,10.16 0 1,1 0,-10.16A10.16,10.16 0 0,1 10.16,0Z\" style=\"opacity: 0.7; stroke-width: 1px; fill: rgb(255, 127, 14); fill-opacity: 1; stroke: rgb(255, 255, 255); stroke-opacity: 1;\"/><path class=\"point\" transform=\"translate(274.75,87.39)\" d=\"M10.46,0A10.46,10.46 0 1,1 0,-10.46A10.46,10.46 0 0,1 10.46,0Z\" style=\"opacity: 0.7; stroke-width: 1px; fill: rgb(255, 127, 14); fill-opacity: 1; stroke: rgb(255, 255, 255); stroke-opacity: 1;\"/><path class=\"point\" transform=\"translate(220.05,69.82)\" d=\"M8.89,0A8.89,8.89 0 1,1 0,-8.89A8.89,8.89 0 0,1 8.89,0Z\" style=\"opacity: 0.7; stroke-width: 1px; fill: rgb(255, 127, 14); fill-opacity: 1; stroke: rgb(255, 255, 255); stroke-opacity: 1;\"/><path class=\"point\" transform=\"translate(239.32,74.09)\" d=\"M9.15,0A9.15,9.15 0 1,1 0,-9.15A9.15,9.15 0 0,1 9.15,0Z\" style=\"opacity: 0.7; stroke-width: 1px; fill: rgb(255, 127, 14); fill-opacity: 1; stroke: rgb(255, 255, 255); stroke-opacity: 1;\"/><path class=\"point\" transform=\"translate(326.34,104.22)\" d=\"M12.24,0A12.24,12.24 0 1,1 0,-12.24A12.24,12.24 0 0,1 12.24,0Z\" style=\"opacity: 0.7; stroke-width: 1px; fill: rgb(255, 127, 14); fill-opacity: 1; stroke: rgb(255, 255, 255); stroke-opacity: 1;\"/><path class=\"point\" transform=\"translate(403.41,88.34)\" d=\"M9.36,0A9.36,9.36 0 1,1 0,-9.36A9.36,9.36 0 0,1 9.36,0Z\" style=\"opacity: 0.7; stroke-width: 1px; fill: rgb(255, 127, 14); fill-opacity: 1; stroke: rgb(255, 255, 255); stroke-opacity: 1;\"/></g><g class=\"text\"/></g><g class=\"trace scatter tracea87473\" style=\"stroke-miterlimit: 2; opacity: 1;\"><g class=\"fills\"/><g class=\"errorbars\"/><g class=\"lines\"/><g class=\"points\"><path class=\"point\" transform=\"translate(336.28,70.86)\" d=\"M9.48,0A9.48,9.48 0 1,1 0,-9.48A9.48,9.48 0 0,1 9.48,0Z\" style=\"opacity: 0.7; stroke-width: 1px; fill: rgb(44, 160, 44); fill-opacity: 1; stroke: rgb(255, 255, 255); stroke-opacity: 1;\"/><path class=\"point\" transform=\"translate(254.86,64.17)\" d=\"M7.6,0A7.6,7.6 0 1,1 0,-7.6A7.6,7.6 0 0,1 7.6,0Z\" style=\"opacity: 0.7; stroke-width: 1px; fill: rgb(44, 160, 44); fill-opacity: 1; stroke: rgb(255, 255, 255); stroke-opacity: 1;\"/><path class=\"point\" transform=\"translate(259.83,109.4)\" d=\"M10.28,0A10.28,10.28 0 1,1 0,-10.28A10.28,10.28 0 0,1 10.28,0Z\" style=\"opacity: 0.7; stroke-width: 1px; fill: rgb(44, 160, 44); fill-opacity: 1; stroke: rgb(255, 255, 255); stroke-opacity: 1;\"/><path class=\"point\" transform=\"translate(306.45,67.91)\" d=\"M8.59,0A8.59,8.59 0 1,1 0,-8.59A8.59,8.59 0 0,1 8.59,0Z\" style=\"opacity: 0.7; stroke-width: 1px; fill: rgb(44, 160, 44); fill-opacity: 1; stroke: rgb(255, 255, 255); stroke-opacity: 1;\"/><path class=\"point\" transform=\"translate(328.82,84.34)\" d=\"M9.7,0A9.7,9.7 0 1,1 0,-9.7A9.7,9.7 0 0,1 9.7,0Z\" style=\"opacity: 0.7; stroke-width: 1px; fill: rgb(44, 160, 44); fill-opacity: 1; stroke: rgb(255, 255, 255); stroke-opacity: 1;\"/><path class=\"point\" transform=\"translate(312.66,80.7)\" d=\"M9.46,0A9.46,9.46 0 1,1 0,-9.46A9.46,9.46 0 0,1 9.46,0Z\" style=\"opacity: 0.7; stroke-width: 1px; fill: rgb(44, 160, 44); fill-opacity: 1; stroke: rgb(255, 255, 255); stroke-opacity: 1;\"/><path class=\"point\" transform=\"translate(269.15,68.5)\" d=\"M10.28,0A10.28,10.28 0 1,1 0,-10.28A10.28,10.28 0 0,1 10.28,0Z\" style=\"opacity: 0.7; stroke-width: 1px; fill: rgb(44, 160, 44); fill-opacity: 1; stroke: rgb(255, 255, 255); stroke-opacity: 1;\"/><path class=\"point\" transform=\"translate(308.93,109.94)\" d=\"M10.11,0A10.11,10.11 0 1,1 0,-10.11A10.11,10.11 0 0,1 10.11,0Z\" style=\"opacity: 0.7; stroke-width: 1px; fill: rgb(44, 160, 44); fill-opacity: 1; stroke: rgb(255, 255, 255); stroke-opacity: 1;\"/><path class=\"point\" transform=\"translate(351.2,81.34)\" d=\"M10.15,0A10.15,10.15 0 1,1 0,-10.15A10.15,10.15 0 0,1 10.15,0Z\" style=\"opacity: 0.7; stroke-width: 1px; fill: rgb(44, 160, 44); fill-opacity: 1; stroke: rgb(255, 255, 255); stroke-opacity: 1;\"/><path class=\"point\" transform=\"translate(392.85,94.18)\" d=\"M9.24,0A9.24,9.24 0 1,1 0,-9.24A9.24,9.24 0 0,1 9.24,0Z\" style=\"opacity: 0.7; stroke-width: 1px; fill: rgb(44, 160, 44); fill-opacity: 1; stroke: rgb(255, 255, 255); stroke-opacity: 1;\"/><path class=\"point\" transform=\"translate(239.32,84.59)\" d=\"M9.26,0A9.26,9.26 0 1,1 0,-9.26A9.26,9.26 0 0,1 9.26,0Z\" style=\"opacity: 0.7; stroke-width: 1px; fill: rgb(44, 160, 44); fill-opacity: 1; stroke: rgb(255, 255, 255); stroke-opacity: 1;\"/><path class=\"point\" transform=\"translate(349.96,72.21)\" d=\"M10.28,0A10.28,10.28 0 1,1 0,-10.28A10.28,10.28 0 0,1 10.28,0Z\" style=\"opacity: 0.7; stroke-width: 1px; fill: rgb(44, 160, 44); fill-opacity: 1; stroke: rgb(255, 255, 255); stroke-opacity: 1;\"/><path class=\"point\" transform=\"translate(237.45,77.08)\" d=\"M6.97,0A6.97,6.97 0 1,1 0,-6.97A6.97,6.97 0 0,1 6.97,0Z\" style=\"opacity: 0.7; stroke-width: 1px; fill: rgb(44, 160, 44); fill-opacity: 1; stroke: rgb(255, 255, 255); stroke-opacity: 1;\"/><path class=\"point\" transform=\"translate(226.26,75.33)\" d=\"M10.16,0A10.16,10.16 0 1,1 0,-10.16A10.16,10.16 0 0,1 10.16,0Z\" style=\"opacity: 0.7; stroke-width: 1px; fill: rgb(44, 160, 44); fill-opacity: 1; stroke: rgb(255, 255, 255); stroke-opacity: 1;\"/><path class=\"point\" transform=\"translate(280.96,105.81)\" d=\"M10.46,0A10.46,10.46 0 1,1 0,-10.46A10.46,10.46 0 0,1 10.46,0Z\" style=\"opacity: 0.7; stroke-width: 1px; fill: rgb(44, 160, 44); fill-opacity: 1; stroke: rgb(255, 255, 255); stroke-opacity: 1;\"/><path class=\"point\" transform=\"translate(226.88,65.93)\" d=\"M8.89,0A8.89,8.89 0 1,1 0,-8.89A8.89,8.89 0 0,1 8.89,0Z\" style=\"opacity: 0.7; stroke-width: 1px; fill: rgb(44, 160, 44); fill-opacity: 1; stroke: rgb(255, 255, 255); stroke-opacity: 1;\"/><path class=\"point\" transform=\"translate(239.94,71.07)\" d=\"M9.15,0A9.15,9.15 0 1,1 0,-9.15A9.15,9.15 0 0,1 9.15,0Z\" style=\"opacity: 0.7; stroke-width: 1px; fill: rgb(44, 160, 44); fill-opacity: 1; stroke: rgb(255, 255, 255); stroke-opacity: 1;\"/><path class=\"point\" transform=\"translate(325.09,99.32)\" d=\"M12.25,0A12.25,12.25 0 1,1 0,-12.25A12.25,12.25 0 0,1 12.25,0Z\" style=\"opacity: 0.7; stroke-width: 1px; fill: rgb(44, 160, 44); fill-opacity: 1; stroke: rgb(255, 255, 255); stroke-opacity: 1;\"/><path class=\"point\" transform=\"translate(407.14,86.02)\" d=\"M9.24,0A9.24,9.24 0 1,1 0,-9.24A9.24,9.24 0 0,1 9.24,0Z\" style=\"opacity: 0.7; stroke-width: 1px; fill: rgb(44, 160, 44); fill-opacity: 1; stroke: rgb(255, 255, 255); stroke-opacity: 1;\"/><path class=\"point\" transform=\"translate(320.12,116.25)\" d=\"M9.57,0A9.57,9.57 0 1,1 0,-9.57A9.57,9.57 0 0,1 9.57,0Z\" style=\"opacity: 0.7; stroke-width: 1px; fill: rgb(44, 160, 44); fill-opacity: 1; stroke: rgb(255, 255, 255); stroke-opacity: 1;\"/></g><g class=\"text\"/></g><g class=\"trace scatter traceeaf267\" style=\"stroke-miterlimit: 2; opacity: 1;\"><g class=\"fills\"/><g class=\"errorbars\"/><g class=\"lines\"/><g class=\"points\"><path class=\"point\" transform=\"translate(79.57,67.92)\" d=\"M10.19,0A10.19,10.19 0 1,1 0,-10.19A10.19,10.19 0 0,1 10.19,0Z\" style=\"opacity: 0.7; stroke-width: 1px; fill: rgb(214, 39, 40); fill-opacity: 1; stroke: rgb(255, 255, 255); stroke-opacity: 1;\"/><path class=\"point\" transform=\"translate(114.38,55.78)\" d=\"M8.36,0A8.36,8.36 0 1,1 0,-8.36A8.36,8.36 0 0,1 8.36,0Z\" style=\"opacity: 0.7; stroke-width: 1px; fill: rgb(214, 39, 40); fill-opacity: 1; stroke: rgb(255, 255, 255); stroke-opacity: 1;\"/><path class=\"point\" transform=\"translate(149.19,59.33)\" d=\"M9.42,0A9.42,9.42 0 1,1 0,-9.42A9.42,9.42 0 0,1 9.42,0Z\" style=\"opacity: 0.7; stroke-width: 1px; fill: rgb(214, 39, 40); fill-opacity: 1; stroke: rgb(255, 255, 255); stroke-opacity: 1;\"/><path class=\"point\" transform=\"translate(234.96,59.51)\" d=\"M9.08,0A9.08,9.08 0 1,1 0,-9.08A9.08,9.08 0 0,1 9.08,0Z\" style=\"opacity: 0.7; stroke-width: 1px; fill: rgb(214, 39, 40); fill-opacity: 1; stroke: rgb(255, 255, 255); stroke-opacity: 1;\"/><path class=\"point\" transform=\"translate(221.29,60.99)\" d=\"M11.87,0A11.87,11.87 0 1,1 0,-11.87A11.87,11.87 0 0,1 11.87,0Z\" style=\"opacity: 0.7; stroke-width: 1px; fill: rgb(214, 39, 40); fill-opacity: 1; stroke: rgb(255, 255, 255); stroke-opacity: 1;\"/><path class=\"point\" transform=\"translate(291.53,60.12)\" d=\"M9.37,0A9.37,9.37 0 1,1 0,-9.37A9.37,9.37 0 0,1 9.37,0Z\" style=\"opacity: 0.7; stroke-width: 1px; fill: rgb(214, 39, 40); fill-opacity: 1; stroke: rgb(255, 255, 255); stroke-opacity: 1;\"/><path class=\"point\" transform=\"translate(135.51,53.65)\" d=\"M10.03,0A10.03,10.03 0 1,1 0,-10.03A10.03,10.03 0 0,1 10.03,0Z\" style=\"opacity: 0.7; stroke-width: 1px; fill: rgb(214, 39, 40); fill-opacity: 1; stroke: rgb(255, 255, 255); stroke-opacity: 1;\"/><path class=\"point\" transform=\"translate(251.13,62.18)\" d=\"M9.96,0A9.96,9.96 0 1,1 0,-9.96A9.96,9.96 0 0,1 9.96,0Z\" style=\"opacity: 0.7; stroke-width: 1px; fill: rgb(214, 39, 40); fill-opacity: 1; stroke: rgb(255, 255, 255); stroke-opacity: 1;\"/><path class=\"point\" transform=\"translate(144.83,53.54)\" d=\"M9.6,0A9.6,9.6 0 1,1 0,-9.6A9.6,9.6 0 0,1 9.6,0Z\" style=\"opacity: 0.7; stroke-width: 1px; fill: rgb(214, 39, 40); fill-opacity: 1; stroke: rgb(255, 255, 255); stroke-opacity: 1;\"/><path class=\"point\" transform=\"translate(257.96,60.97)\" d=\"M11.59,0A11.59,11.59 0 1,1 0,-11.59A11.59,11.59 0 0,1 11.59,0Z\" style=\"opacity: 0.7; stroke-width: 1px; fill: rgb(214, 39, 40); fill-opacity: 1; stroke: rgb(255, 255, 255); stroke-opacity: 1;\"/></g><g class=\"text\"/></g><g class=\"trace scatter traced8481a\" style=\"stroke-miterlimit: 2; opacity: 1;\"><g class=\"fills\"/><g class=\"errorbars\"/><g class=\"lines\"/><g class=\"points\"><path class=\"point\" transform=\"translate(291.53,86.28)\" d=\"M7.51,0A7.51,7.51 0 1,1 0,-7.51A7.51,7.51 0 0,1 7.51,0Z\" style=\"opacity: 0.7; stroke-width: 1px; fill: rgb(148, 103, 189); fill-opacity: 1; stroke: rgb(255, 255, 255); stroke-opacity: 1;\"/><path class=\"point\" transform=\"translate(268.53,75.49)\" d=\"M9.01,0A9.01,9.01 0 1,1 0,-9.01A9.01,9.01 0 0,1 9.01,0Z\" style=\"opacity: 0.7; stroke-width: 1px; fill: rgb(148, 103, 189); fill-opacity: 1; stroke: rgb(255, 255, 255); stroke-opacity: 1;\"/><path class=\"point\" transform=\"translate(242.42,71.77)\" d=\"M8.07,0A8.07,8.07 0 1,1 0,-8.07A8.07,8.07 0 0,1 8.07,0Z\" style=\"opacity: 0.7; stroke-width: 1px; fill: rgb(148, 103, 189); fill-opacity: 1; stroke: rgb(255, 255, 255); stroke-opacity: 1;\"/><path class=\"point\" transform=\"translate(40.41,42.84)\" d=\"M7.2,0A7.2,7.2 0 1,1 0,-7.2A7.2,7.2 0 0,1 7.2,0Z\" style=\"opacity: 0.7; stroke-width: 1px; fill: rgb(148, 103, 189); fill-opacity: 1; stroke: rgb(255, 255, 255); stroke-opacity: 1;\"/><path class=\"point\" transform=\"translate(216.94,70.79)\" d=\"M7.49,0A7.49,7.49 0 1,1 0,-7.49A7.49,7.49 0 0,1 7.49,0Z\" style=\"opacity: 0.7; stroke-width: 1px; fill: rgb(148, 103, 189); fill-opacity: 1; stroke: rgb(255, 255, 255); stroke-opacity: 1;\"/><path class=\"point\" transform=\"translate(105.05,80.24)\" d=\"M6.72,0A6.72,6.72 0 1,1 0,-6.72A6.72,6.72 0 0,1 6.72,0Z\" style=\"opacity: 0.7; stroke-width: 1px; fill: rgb(148, 103, 189); fill-opacity: 1; stroke: rgb(255, 255, 255); stroke-opacity: 1;\"/><path class=\"point\" transform=\"translate(133.65,73.59)\" d=\"M9.09,0A9.09,9.09 0 1,1 0,-9.09A9.09,9.09 0 0,1 9.09,0Z\" style=\"opacity: 0.7; stroke-width: 1px; fill: rgb(148, 103, 189); fill-opacity: 1; stroke: rgb(255, 255, 255); stroke-opacity: 1;\"/><path class=\"point\" transform=\"translate(270.39,52.46)\" d=\"M7.68,0A7.68,7.68 0 1,1 0,-7.68A7.68,7.68 0 0,1 7.68,0Z\" style=\"opacity: 0.7; stroke-width: 1px; fill: rgb(148, 103, 189); fill-opacity: 1; stroke: rgb(255, 255, 255); stroke-opacity: 1;\"/><path class=\"point\" transform=\"translate(166.59,79.5)\" d=\"M7.09,0A7.09,7.09 0 1,1 0,-7.09A7.09,7.09 0 0,1 7.09,0Z\" style=\"opacity: 0.7; stroke-width: 1px; fill: rgb(148, 103, 189); fill-opacity: 1; stroke: rgb(255, 255, 255); stroke-opacity: 1;\"/><path class=\"point\" transform=\"translate(146.7,73.26)\" d=\"M7.53,0A7.53,7.53 0 1,1 0,-7.53A7.53,7.53 0 0,1 7.53,0Z\" style=\"opacity: 0.7; stroke-width: 1px; fill: rgb(148, 103, 189); fill-opacity: 1; stroke: rgb(255, 255, 255); stroke-opacity: 1;\"/><path class=\"point\" transform=\"translate(274.75,68.79)\" d=\"M6.86,0A6.86,6.86 0 1,1 0,-6.86A6.86,6.86 0 0,1 6.86,0Z\" style=\"opacity: 0.7; stroke-width: 1px; fill: rgb(148, 103, 189); fill-opacity: 1; stroke: rgb(255, 255, 255); stroke-opacity: 1;\"/><path class=\"point\" transform=\"translate(375.44,97.36)\" d=\"M12.73,0A12.73,12.73 0 1,1 0,-12.73A12.73,12.73 0 0,1 12.73,0Z\" style=\"opacity: 0.7; stroke-width: 1px; fill: rgb(148, 103, 189); fill-opacity: 1; stroke: rgb(255, 255, 255); stroke-opacity: 1;\"/><path class=\"point\" transform=\"translate(270.39,87.87)\" d=\"M6.53,0A6.53,6.53 0 1,1 0,-6.53A6.53,6.53 0 0,1 6.53,0Z\" style=\"opacity: 0.7; stroke-width: 1px; fill: rgb(148, 103, 189); fill-opacity: 1; stroke: rgb(255, 255, 255); stroke-opacity: 1;\"/><path class=\"point\" transform=\"translate(180.26,78.07)\" d=\"M9.31,0A9.31,9.31 0 1,1 0,-9.31A9.31,9.31 0 0,1 9.31,0Z\" style=\"opacity: 0.7; stroke-width: 1px; fill: rgb(148, 103, 189); fill-opacity: 1; stroke: rgb(255, 255, 255); stroke-opacity: 1;\"/></g><g class=\"text\"/></g><g class=\"trace scatter trace2dfb6a\" style=\"stroke-miterlimit: 2; opacity: 1;\"><g class=\"fills\"/><g class=\"errorbars\"/><g class=\"lines\"/><g class=\"points\"><path class=\"point\" transform=\"translate(291.53,86.28)\" d=\"M7.51,0A7.51,7.51 0 1,1 0,-7.51A7.51,7.51 0 0,1 7.51,0Z\" style=\"opacity: 0.7; stroke-width: 1px; fill: rgb(140, 86, 75); fill-opacity: 1; stroke: rgb(255, 255, 255); stroke-opacity: 1;\"/><path class=\"point\" transform=\"translate(268.53,75.49)\" d=\"M9.01,0A9.01,9.01 0 1,1 0,-9.01A9.01,9.01 0 0,1 9.01,0Z\" style=\"opacity: 0.7; stroke-width: 1px; fill: rgb(140, 86, 75); fill-opacity: 1; stroke: rgb(255, 255, 255); stroke-opacity: 1;\"/><path class=\"point\" transform=\"translate(242.42,71.77)\" d=\"M8.07,0A8.07,8.07 0 1,1 0,-8.07A8.07,8.07 0 0,1 8.07,0Z\" style=\"opacity: 0.7; stroke-width: 1px; fill: rgb(140, 86, 75); fill-opacity: 1; stroke: rgb(255, 255, 255); stroke-opacity: 1;\"/><path class=\"point\" transform=\"translate(40.41,42.84)\" d=\"M7.2,0A7.2,7.2 0 1,1 0,-7.2A7.2,7.2 0 0,1 7.2,0Z\" style=\"opacity: 0.7; stroke-width: 1px; fill: rgb(140, 86, 75); fill-opacity: 1; stroke: rgb(255, 255, 255); stroke-opacity: 1;\"/><path class=\"point\" transform=\"translate(216.94,70.79)\" d=\"M7.49,0A7.49,7.49 0 1,1 0,-7.49A7.49,7.49 0 0,1 7.49,0Z\" style=\"opacity: 0.7; stroke-width: 1px; fill: rgb(140, 86, 75); fill-opacity: 1; stroke: rgb(255, 255, 255); stroke-opacity: 1;\"/><path class=\"point\" transform=\"translate(105.05,80.24)\" d=\"M6.72,0A6.72,6.72 0 1,1 0,-6.72A6.72,6.72 0 0,1 6.72,0Z\" style=\"opacity: 0.7; stroke-width: 1px; fill: rgb(140, 86, 75); fill-opacity: 1; stroke: rgb(255, 255, 255); stroke-opacity: 1;\"/><path class=\"point\" transform=\"translate(133.65,73.59)\" d=\"M9.09,0A9.09,9.09 0 1,1 0,-9.09A9.09,9.09 0 0,1 9.09,0Z\" style=\"opacity: 0.7; stroke-width: 1px; fill: rgb(140, 86, 75); fill-opacity: 1; stroke: rgb(255, 255, 255); stroke-opacity: 1;\"/><path class=\"point\" transform=\"translate(270.39,52.46)\" d=\"M7.68,0A7.68,7.68 0 1,1 0,-7.68A7.68,7.68 0 0,1 7.68,0Z\" style=\"opacity: 0.7; stroke-width: 1px; fill: rgb(140, 86, 75); fill-opacity: 1; stroke: rgb(255, 255, 255); stroke-opacity: 1;\"/><path class=\"point\" transform=\"translate(166.59,79.5)\" d=\"M7.09,0A7.09,7.09 0 1,1 0,-7.09A7.09,7.09 0 0,1 7.09,0Z\" style=\"opacity: 0.7; stroke-width: 1px; fill: rgb(140, 86, 75); fill-opacity: 1; stroke: rgb(255, 255, 255); stroke-opacity: 1;\"/><path class=\"point\" transform=\"translate(146.7,73.26)\" d=\"M7.53,0A7.53,7.53 0 1,1 0,-7.53A7.53,7.53 0 0,1 7.53,0Z\" style=\"opacity: 0.7; stroke-width: 1px; fill: rgb(140, 86, 75); fill-opacity: 1; stroke: rgb(255, 255, 255); stroke-opacity: 1;\"/><path class=\"point\" transform=\"translate(274.75,68.79)\" d=\"M6.86,0A6.86,6.86 0 1,1 0,-6.86A6.86,6.86 0 0,1 6.86,0Z\" style=\"opacity: 0.7; stroke-width: 1px; fill: rgb(140, 86, 75); fill-opacity: 1; stroke: rgb(255, 255, 255); stroke-opacity: 1;\"/><path class=\"point\" transform=\"translate(375.44,97.36)\" d=\"M12.73,0A12.73,12.73 0 1,1 0,-12.73A12.73,12.73 0 0,1 12.73,0Z\" style=\"opacity: 0.7; stroke-width: 1px; fill: rgb(140, 86, 75); fill-opacity: 1; stroke: rgb(255, 255, 255); stroke-opacity: 1;\"/><path class=\"point\" transform=\"translate(270.39,87.87)\" d=\"M6.53,0A6.53,6.53 0 1,1 0,-6.53A6.53,6.53 0 0,1 6.53,0Z\" style=\"opacity: 0.7; stroke-width: 1px; fill: rgb(140, 86, 75); fill-opacity: 1; stroke: rgb(255, 255, 255); stroke-opacity: 1;\"/><path class=\"point\" transform=\"translate(180.26,78.07)\" d=\"M9.31,0A9.31,9.31 0 1,1 0,-9.31A9.31,9.31 0 0,1 9.31,0Z\" style=\"opacity: 0.7; stroke-width: 1px; fill: rgb(140, 86, 75); fill-opacity: 1; stroke: rgb(255, 255, 255); stroke-opacity: 1;\"/></g><g class=\"text\"/></g><g class=\"trace scatter tracee22ce0\" style=\"stroke-miterlimit: 2; opacity: 1;\"><g class=\"fills\"/><g class=\"errorbars\"/><g class=\"lines\"/><g class=\"points\"><path class=\"point\" transform=\"translate(297.12,79.74)\" d=\"M7.61,0A7.61,7.61 0 1,1 0,-7.61A7.61,7.61 0 0,1 7.61,0Z\" style=\"opacity: 0.7; stroke-width: 1px; fill: rgb(227, 119, 194); fill-opacity: 1; stroke: rgb(255, 255, 255); stroke-opacity: 1;\"/><path class=\"point\" transform=\"translate(268.53,74.27)\" d=\"M9.08,0A9.08,9.08 0 1,1 0,-9.08A9.08,9.08 0 0,1 9.08,0Z\" style=\"opacity: 0.7; stroke-width: 1px; fill: rgb(227, 119, 194); fill-opacity: 1; stroke: rgb(255, 255, 255); stroke-opacity: 1;\"/><path class=\"point\" transform=\"translate(122.46,71.09)\" d=\"M8.07,0A8.07,8.07 0 1,1 0,-8.07A8.07,8.07 0 0,1 8.07,0Z\" style=\"opacity: 0.7; stroke-width: 1px; fill: rgb(227, 119, 194); fill-opacity: 1; stroke: rgb(255, 255, 255); stroke-opacity: 1;\"/><path class=\"point\" transform=\"translate(34.19,50.79)\" d=\"M7.24,0A7.24,7.24 0 1,1 0,-7.24A7.24,7.24 0 0,1 7.24,0Z\" style=\"opacity: 0.7; stroke-width: 1px; fill: rgb(227, 119, 194); fill-opacity: 1; stroke: rgb(255, 255, 255); stroke-opacity: 1;\"/><path class=\"point\" transform=\"translate(222.53,72.84)\" d=\"M7.56,0A7.56,7.56 0 1,1 0,-7.56A7.56,7.56 0 0,1 7.56,0Z\" style=\"opacity: 0.7; stroke-width: 1px; fill: rgb(227, 119, 194); fill-opacity: 1; stroke: rgb(255, 255, 255); stroke-opacity: 1;\"/><path class=\"point\" transform=\"translate(108.16,71.1)\" d=\"M6.75,0A6.75,6.75 0 1,1 0,-6.75A6.75,6.75 0 0,1 6.75,0Z\" style=\"opacity: 0.7; stroke-width: 1px; fill: rgb(227, 119, 194); fill-opacity: 1; stroke: rgb(255, 255, 255); stroke-opacity: 1;\"/><path class=\"point\" transform=\"translate(139.24,67.64)\" d=\"M9.16,0A9.16,9.16 0 1,1 0,-9.16A9.16,9.16 0 0,1 9.16,0Z\" style=\"opacity: 0.7; stroke-width: 1px; fill: rgb(227, 119, 194); fill-opacity: 1; stroke: rgb(255, 255, 255); stroke-opacity: 1;\"/><path class=\"point\" transform=\"translate(275.37,62.69)\" d=\"M7.68,0A7.68,7.68 0 1,1 0,-7.68A7.68,7.68 0 0,1 7.68,0Z\" style=\"opacity: 0.7; stroke-width: 1px; fill: rgb(227, 119, 194); fill-opacity: 1; stroke: rgb(255, 255, 255); stroke-opacity: 1;\"/><path class=\"point\" transform=\"translate(167.21,81.94)\" d=\"M7.17,0A7.17,7.17 0 1,1 0,-7.17A7.17,7.17 0 0,1 7.17,0Z\" style=\"opacity: 0.7; stroke-width: 1px; fill: rgb(227, 119, 194); fill-opacity: 1; stroke: rgb(255, 255, 255); stroke-opacity: 1;\"/><path class=\"point\" transform=\"translate(149.19,78.49)\" d=\"M7.54,0A7.54,7.54 0 1,1 0,-7.54A7.54,7.54 0 0,1 7.54,0Z\" style=\"opacity: 0.7; stroke-width: 1px; fill: rgb(227, 119, 194); fill-opacity: 1; stroke: rgb(255, 255, 255); stroke-opacity: 1;\"/><path class=\"point\" transform=\"translate(282.21,75.06)\" d=\"M6.94,0A6.94,6.94 0 1,1 0,-6.94A6.94,6.94 0 0,1 6.94,0Z\" style=\"opacity: 0.7; stroke-width: 1px; fill: rgb(227, 119, 194); fill-opacity: 1; stroke: rgb(255, 255, 255); stroke-opacity: 1;\"/><path class=\"point\" transform=\"translate(377.93,103.76)\" d=\"M12.79,0A12.79,12.79 0 1,1 0,-12.79A12.79,12.79 0 0,1 12.79,0Z\" style=\"opacity: 0.7; stroke-width: 1px; fill: rgb(227, 119, 194); fill-opacity: 1; stroke: rgb(255, 255, 255); stroke-opacity: 1;\"/><path class=\"point\" transform=\"translate(276.61,80.76)\" d=\"M6.59,0A6.59,6.59 0 1,1 0,-6.59A6.59,6.59 0 0,1 6.59,0Z\" style=\"opacity: 0.7; stroke-width: 1px; fill: rgb(227, 119, 194); fill-opacity: 1; stroke: rgb(255, 255, 255); stroke-opacity: 1;\"/><path class=\"point\" transform=\"translate(180.26,83.42)\" d=\"M9.35,0A9.35,9.35 0 1,1 0,-9.35A9.35,9.35 0 0,1 9.35,0Z\" style=\"opacity: 0.7; stroke-width: 1px; fill: rgb(227, 119, 194); fill-opacity: 1; stroke: rgb(255, 255, 255); stroke-opacity: 1;\"/></g><g class=\"text\"/></g></g></g><g class=\"overplot\"/><path class=\"xlines-above crisp\" d=\"M67,292.5H590\" style=\"fill: none; stroke-width: 1px; stroke: rgb(36, 36, 36); stroke-opacity: 1;\"/><path class=\"ylines-above crisp\" d=\"M67.5,14V292\" style=\"fill: none; stroke-width: 1px; stroke: rgb(36, 36, 36); stroke-opacity: 1;\"/><g class=\"overlines-above\"/><g class=\"xaxislayer-above\"><path class=\"xtick ticks crisp\" d=\"M0,293v5\" transform=\"translate(122.08,0)\" style=\"stroke: rgb(68, 68, 68); stroke-opacity: 1; stroke-width: 1px;\"/><path class=\"xtick ticks crisp\" d=\"M0,293v5\" transform=\"translate(246.4,0)\" style=\"stroke: rgb(68, 68, 68); stroke-opacity: 1; stroke-width: 1px;\"/><path class=\"xtick ticks crisp\" d=\"M0,293v5\" transform=\"translate(370.72,0)\" style=\"stroke: rgb(68, 68, 68); stroke-opacity: 1; stroke-width: 1px;\"/><path class=\"xtick ticks crisp\" d=\"M0,293v5\" transform=\"translate(495.03,0)\" style=\"stroke: rgb(68, 68, 68); stroke-opacity: 1; stroke-width: 1px;\"/><g class=\"xtick\"><text text-anchor=\"middle\" x=\"0\" y=\"312.4\" transform=\"translate(122.08,0)\" style=\"font-family: 'Open Sans', verdana, arial, sans-serif; font-size: 12px; fill: rgb(36, 36, 36); fill-opacity: 1; white-space: pre; opacity: 1;\">0.2</text></g><g class=\"xtick\"><text text-anchor=\"middle\" x=\"0\" y=\"312.4\" style=\"font-family: 'Open Sans', verdana, arial, sans-serif; font-size: 12px; fill: rgb(36, 36, 36); fill-opacity: 1; white-space: pre; opacity: 1;\" transform=\"translate(246.4,0)\">0.4</text></g><g class=\"xtick\"><text text-anchor=\"middle\" x=\"0\" y=\"312.4\" style=\"font-family: 'Open Sans', verdana, arial, sans-serif; font-size: 12px; fill: rgb(36, 36, 36); fill-opacity: 1; white-space: pre; opacity: 1;\" transform=\"translate(370.72,0)\">0.6</text></g><g class=\"xtick\"><text text-anchor=\"middle\" x=\"0\" y=\"312.4\" style=\"font-family: 'Open Sans', verdana, arial, sans-serif; font-size: 12px; fill: rgb(36, 36, 36); fill-opacity: 1; white-space: pre; opacity: 1;\" transform=\"translate(495.03,0)\">0.8</text></g></g><g class=\"yaxislayer-above\"><path class=\"ytick ticks crisp\" d=\"M67,0h-5\" transform=\"translate(0,261.16999999999996)\" style=\"stroke: rgb(68, 68, 68); stroke-opacity: 1; stroke-width: 1px;\"/><path class=\"ytick ticks crisp\" d=\"M67,0h-5\" transform=\"translate(0,212.41)\" style=\"stroke: rgb(68, 68, 68); stroke-opacity: 1; stroke-width: 1px;\"/><path class=\"ytick ticks crisp\" d=\"M67,0h-5\" transform=\"translate(0,163.65)\" style=\"stroke: rgb(68, 68, 68); stroke-opacity: 1; stroke-width: 1px;\"/><path class=\"ytick ticks crisp\" d=\"M67,0h-5\" transform=\"translate(0,114.9)\" style=\"stroke: rgb(68, 68, 68); stroke-opacity: 1; stroke-width: 1px;\"/><path class=\"ytick ticks crisp\" d=\"M67,0h-5\" transform=\"translate(0,66.14)\" style=\"stroke: rgb(68, 68, 68); stroke-opacity: 1; stroke-width: 1px;\"/><path class=\"ytick ticks crisp\" d=\"M67,0h-5\" transform=\"translate(0,17.38)\" style=\"stroke: rgb(68, 68, 68); stroke-opacity: 1; stroke-width: 1px;\"/><g class=\"ytick\"><text text-anchor=\"end\" x=\"59.6\" y=\"4.199999999999999\" transform=\"translate(0,261.16999999999996)\" style=\"font-family: 'Open Sans', verdana, arial, sans-serif; font-size: 12px; fill: rgb(36, 36, 36); fill-opacity: 1; white-space: pre; opacity: 1;\">−25</text></g><g class=\"ytick\"><text text-anchor=\"end\" x=\"59.6\" y=\"4.199999999999999\" style=\"font-family: 'Open Sans', verdana, arial, sans-serif; font-size: 12px; fill: rgb(36, 36, 36); fill-opacity: 1; white-space: pre; opacity: 1;\" transform=\"translate(0,212.41)\">−20</text></g><g class=\"ytick\"><text text-anchor=\"end\" x=\"59.6\" y=\"4.199999999999999\" style=\"font-family: 'Open Sans', verdana, arial, sans-serif; font-size: 12px; fill: rgb(36, 36, 36); fill-opacity: 1; white-space: pre; opacity: 1;\" transform=\"translate(0,163.65)\">−15</text></g><g class=\"ytick\"><text text-anchor=\"end\" x=\"59.6\" y=\"4.199999999999999\" style=\"font-family: 'Open Sans', verdana, arial, sans-serif; font-size: 12px; fill: rgb(36, 36, 36); fill-opacity: 1; white-space: pre; opacity: 1;\" transform=\"translate(0,114.9)\">−10</text></g><g class=\"ytick\"><text text-anchor=\"end\" x=\"59.6\" y=\"4.199999999999999\" style=\"font-family: 'Open Sans', verdana, arial, sans-serif; font-size: 12px; fill: rgb(36, 36, 36); fill-opacity: 1; white-space: pre; opacity: 1;\" transform=\"translate(0,66.14)\">−5</text></g><g class=\"ytick\"><text text-anchor=\"end\" x=\"59.6\" y=\"4.199999999999999\" style=\"font-family: 'Open Sans', verdana, arial, sans-serif; font-size: 12px; fill: rgb(36, 36, 36); fill-opacity: 1; white-space: pre; opacity: 1;\" transform=\"translate(0,17.38)\">0</text></g></g><g class=\"overaxes-above\"/></g></g><g class=\"polarlayer\"/><g class=\"smithlayer\"/><g class=\"ternarylayer\"/><g class=\"geolayer\"/><g class=\"funnelarealayer\"/><g class=\"pielayer\"/><g class=\"iciclelayer\"/><g class=\"treemaplayer\"/><g class=\"sunburstlayer\"/><g class=\"glimages\"/><defs id=\"topdefs-8333d4\"><g class=\"clips\"/></defs><g class=\"layer-above\"><g class=\"imagelayer\"/><g class=\"shapelayer\"/></g><g class=\"infolayer\"><g class=\"g-gtitle\"/><g class=\"g-xtitle\"><text class=\"xtitle\" x=\"329\" y=\"339.20625\" text-anchor=\"middle\" style=\"font-family: 'Open Sans', verdana, arial, sans-serif; font-size: 14px; fill: rgb(36, 36, 36); opacity: 1; font-weight: normal; white-space: pre;\">danceability</text></g><g class=\"g-ytitle\" transform=\"translate(3.7841796875,0)\"><text class=\"ytitle\" transform=\"rotate(-90,10.215625000000003,153)\" x=\"10.215625000000003\" y=\"153\" text-anchor=\"middle\" style=\"font-family: 'Open Sans', verdana, arial, sans-serif; font-size: 14px; fill: rgb(36, 36, 36); opacity: 1; font-weight: normal; white-space: pre;\">loudness</text></g></g></svg>"
      ]
     },
     "metadata": {},
     "output_type": "display_data"
    }
   ],
   "source": [
    "fig = px.scatter(clash_df, x='danceability', y='loudness', \n",
    "           color='album_name', size='duration_ms',\n",
    "           width=600, height=350)\n",
    "\n",
    "fig.update_layout(showlegend=False)\n",
    "fig"
   ]
  },
  {
   "attachments": {},
   "cell_type": "markdown",
   "metadata": {},
   "source": [
    "This section talked about REST APIs, which provide standardized approaches for programs to download data. The example shown here downloaded JSON data. At other times, the data from a REST request may be in an XML format.\n",
    "And, sometimes a REST API isn't available for the data we want, and we must extract data from web pages themselves, in HTML, a format similar to XML.\n",
    "We describe how to work with these formats next.\n"
   ]
  }
 ],
 "metadata": {
  "kernelspec": {
   "display_name": "Python 3 (ipykernel)",
   "language": "python",
   "name": "python3"
  }
 },
 "nbformat": 4,
 "nbformat_minor": 4
}
