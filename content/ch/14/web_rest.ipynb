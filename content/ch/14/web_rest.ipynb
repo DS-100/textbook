{
 "cells": [
  {
   "cell_type": "code",
   "execution_count": 2,
   "metadata": {
    "tags": [
     "remove-cell"
    ]
   },
   "outputs": [],
   "source": [
    "import sys\n",
    "import os\n",
    "if not any(path.endswith('textbook') for path in sys.path):\n",
    "    sys.path.append(os.path.abspath('../../..'))\n",
    "from textbook_utils import *"
   ]
  },
  {
   "cell_type": "code",
   "execution_count": 3,
   "metadata": {
    "tags": [
     "remove-cell"
    ]
   },
   "outputs": [],
   "source": [
    "import requests"
   ]
  },
  {
   "cell_type": "markdown",
   "metadata": {},
   "source": [
    "# REST"
   ]
  },
  {
   "cell_type": "markdown",
   "metadata": {},
   "source": [
    "Web services are increasingly implementing the REST (REpresentational State Transfer) architecture for developers to access their data. These include social media platforms like Twitter and Instagram, music apps like Spotify, real estate apps like Zillow, scientific sources of data such as the Climate Data Store, government data at the World Bank, and many many more.\n",
    "\n",
    "REST is considered stateless meaning that the server does not remember the client from one request to the next. This has a few advantages: the server and the client can understand any message received without seeing previous messages; code can be changed on either the client or server side without impacting the operation of the service; and access is scalable, fast, modular, and independent. "
   ]
  },
  {
   "cell_type": "markdown",
   "metadata": {},
   "source": [
    "In this section, we work through an example to retrieve data with REST from Spotify. We use both POST and GET methods in a series of requests to get data on the songs by [The Clash](https://www.theclash.com/). Our example follows [Steven Morse's blog post](https://stmorse.github.io/journal/spotify-api.html). While there is a library in Python, [`spotipy`](https://spotipy.readthedocs.io/en/2.22.1/), with functionality to interact with the [Spotify Web API](https://developer.spotify.com/), data scientists can find themselves in the position of needing to access data via REST when such a library doesn't yet exist. We use Spotify as an example of how we might go about retrieving data in such a situation.   \n",
    "\n",
    "Typically a REST application provides documentation on how to request their data. Spotify has extensive documentation geared to developers who want to build their own app, but we can also access their service just to explore data. To do that, we need to register as a developer and get a client ID and secret. We then use these to identify us to Spotify in our HTTP requests."
   ]
  },
  {
   "cell_type": "markdown",
   "metadata": {},
   "source": [
    "After we register, we can begin to request data. There are basically two steps in this process: authenticate and request resources. \n",
    "\n",
    "Authenticate\n",
    ": To authenticate, we issue a POST request, where we give the web service our client ID and secret. We provide these in the header. In return, we receive a token from the server that authorizes us to make requests."
   ]
  },
  {
   "cell_type": "markdown",
   "metadata": {},
   "source": [
    "We begin the process and authenticate."
   ]
  },
  {
   "cell_type": "code",
   "execution_count": 7,
   "metadata": {},
   "outputs": [],
   "source": [
    "AUTH_URL = 'https://accounts.spotify.com/api/token'"
   ]
  },
  {
   "cell_type": "code",
   "execution_count": 8,
   "metadata": {},
   "outputs": [],
   "source": [
    "auth_response = requests.post(AUTH_URL, {\n",
    "    'grant_type': 'client_credentials',\n",
    "    'client_id': CLIENT_ID,\n",
    "    'client_secret': CLIENT_SECRET,\n",
    "})"
   ]
  },
  {
   "cell_type": "markdown",
   "metadata": {},
   "source": [
    "We provided our ID and secret in key:value pairs in the header of our POST request. We can check the status of our request to see if it was successful."
   ]
  },
  {
   "cell_type": "code",
   "execution_count": 9,
   "metadata": {},
   "outputs": [
    {
     "data": {
      "text/plain": [
       "200"
      ]
     },
     "execution_count": 9,
     "metadata": {},
     "output_type": "execute_result"
    }
   ],
   "source": [
    "auth_response.status_code"
   ]
  },
  {
   "cell_type": "code",
   "execution_count": 10,
   "metadata": {},
   "outputs": [
    {
     "data": {
      "text/plain": [
       "'application/json'"
      ]
     },
     "execution_count": 10,
     "metadata": {},
     "output_type": "execute_result"
    }
   ],
   "source": [
    "auth_response.headers['content-type']"
   ]
  },
  {
   "cell_type": "markdown",
   "metadata": {},
   "source": [
    "The body of the response contains the token that we need in the next step to get the data. The content-type key tells us that the body is JSON formatted. Let's retrieve the token."
   ]
  },
  {
   "cell_type": "code",
   "execution_count": 11,
   "metadata": {},
   "outputs": [
    {
     "data": {
      "text/plain": [
       "dict_keys(['access_token', 'token_type', 'expires_in'])"
      ]
     },
     "execution_count": 11,
     "metadata": {},
     "output_type": "execute_result"
    }
   ],
   "source": [
    "auth_response_data = auth_response.json()\n",
    "auth_response_data.keys()"
   ]
  },
  {
   "cell_type": "code",
   "execution_count": 12,
   "metadata": {},
   "outputs": [],
   "source": [
    "access_token = auth_response_data['access_token']\n",
    "token_type = auth_response_data['token_type']"
   ]
  },
  {
   "cell_type": "markdown",
   "metadata": {},
   "source": [
    "Before we continue to the step of retrieving data, we point out that we did not share our ID and secret so others reading this book can't use them to imitate us. This request won't be successful without a valid ID and secret. For example, below we make up an ID and secret and try to authenticate. "
   ]
  },
  {
   "cell_type": "code",
   "execution_count": 189,
   "metadata": {},
   "outputs": [],
   "source": [
    "bad_ID = '0123456789'\n",
    "bad_SECRET = 'a1b2c3d4e5'\n",
    "\n",
    "auth_bad = requests.post(AUTH_URL, {\n",
    "    'grant_type': 'client_credentials',\n",
    "    'client_id': bad_ID, 'client_secret': bad_SECRET,\n",
    "})"
   ]
  },
  {
   "cell_type": "markdown",
   "metadata": {},
   "source": [
    "We check the status of this \"bad\" request."
   ]
  },
  {
   "cell_type": "code",
   "execution_count": 190,
   "metadata": {},
   "outputs": [
    {
     "data": {
      "text/plain": [
       "400"
      ]
     },
     "execution_count": 190,
     "metadata": {},
     "output_type": "execute_result"
    }
   ],
   "source": [
    "auth_bad.status_code"
   ]
  },
  {
   "cell_type": "markdown",
   "metadata": {},
   "source": [
    "According to {numref}`Table %s <response-codes>`, a code of 400 means that we issued a bad request. One more example, Spotify shuts us down if we take too much time making requests. A couple of times we ran into this issue and received the following code telling us our token had expired.\n",
    "\n",
    "```\n",
    "res_clash.status_code\n",
    "\n",
    "401\n",
    "```"
   ]
  },
  {
   "cell_type": "markdown",
   "metadata": {},
   "source": [
    "Now for the second step, let's get some data.\n",
    "\n",
    "Resource Requests\n",
    ": Requests for resources can be made via GET for Spotify. Other services may require POSTs.  Requests must include the token we received from the web service when we authenticated. We can use this token over and over. We pass the access token in the header of our GET request. We construct the name_value pairs as a dictionary."
   ]
  },
  {
   "cell_type": "code",
   "execution_count": 13,
   "metadata": {},
   "outputs": [],
   "source": [
    "headers = {\n",
    "    'Authorization': '{type} {token}'.format(type=token_type,token=access_token)\n",
    "}"
   ]
  },
  {
   "cell_type": "markdown",
   "metadata": {},
   "source": [
    "The developer API tells us that an artist's albums are available at URLs that look like:\n",
    "'https://api.spotify.com/v1/artists/3RGLhK1IP9jnYFH4BRFJBS/albums'  where the code between 'artists/' and '/albums' is an artist's ID. This particular code is for The Clash. Also information about the tracks on an album is available at a URL like:  'https://api.spotify.com/v1/albums/49kzgMsxHU5CTeb2XmFHjo/tracks' where the identifier here is for the album. \n",
    "\n",
    "If we know the ID for an artist, we can retrieve the IDs for their albums, and in turn, we can get data about the tracks on the albums. We start by getting the ID for The Clash from Spotify's site."
   ]
  },
  {
   "cell_type": "code",
   "execution_count": 14,
   "metadata": {},
   "outputs": [],
   "source": [
    "artist_id = '3RGLhK1IP9jnYFH4BRFJBS'"
   ]
  },
  {
   "cell_type": "markdown",
   "metadata": {},
   "source": [
    "Our request begins with getting the group's albums. We construct the URL using  `artist_id` and pass our access token in the header."
   ]
  },
  {
   "cell_type": "code",
   "execution_count": 15,
   "metadata": {},
   "outputs": [],
   "source": [
    "BASE_URL = 'https://api.spotify.com/v1/'\n",
    "\n",
    "res_clash = requests.get(BASE_URL + 'artists/' + artist_id + '/albums',\n",
    "                        headers=headers,\n",
    "                        params={'include_groups': 'album'})"
   ]
  },
  {
   "cell_type": "code",
   "execution_count": 16,
   "metadata": {},
   "outputs": [
    {
     "data": {
      "text/plain": [
       "200"
      ]
     },
     "execution_count": 16,
     "metadata": {},
     "output_type": "execute_result"
    }
   ],
   "source": [
    "res_clash.status_code"
   ]
  },
  {
   "cell_type": "markdown",
   "metadata": {},
   "source": [
    "Our request was successful. Now let's check the content-type of the response body."
   ]
  },
  {
   "cell_type": "code",
   "execution_count": 17,
   "metadata": {},
   "outputs": [
    {
     "data": {
      "text/plain": [
       "'application/json; charset=utf-8'"
      ]
     },
     "execution_count": 17,
     "metadata": {},
     "output_type": "execute_result"
    }
   ],
   "source": [
    "res_clash.headers['content-type']"
   ]
  },
  {
   "cell_type": "markdown",
   "metadata": {},
   "source": [
    "The resource returned is JSON so we can load it into a Python dictionary."
   ]
  },
  {
   "cell_type": "code",
   "execution_count": 18,
   "metadata": {},
   "outputs": [],
   "source": [
    "clash_albums = res_clash.json()"
   ]
  },
  {
   "cell_type": "markdown",
   "metadata": {},
   "source": [
    " After poking around a bit, we can find that the album information are in the `items` elements. The keys for the first album is:  "
   ]
  },
  {
   "cell_type": "code",
   "execution_count": 20,
   "metadata": {},
   "outputs": [
    {
     "data": {
      "text/plain": [
       "dict_keys(['album_group', 'album_type', 'artists', 'available_markets', 'external_urls', 'href', 'id', 'images', 'name', 'release_date', 'release_date_precision', 'total_tracks', 'type', 'uri'])"
      ]
     },
     "execution_count": 20,
     "metadata": {},
     "output_type": "execute_result"
    }
   ],
   "source": [
    "clash_albums['items'][0].keys()"
   ]
  },
  {
   "cell_type": "markdown",
   "metadata": {},
   "source": [
    "Let's print the album ids, names, and release dates for a few albums."
   ]
  },
  {
   "cell_type": "code",
   "execution_count": 21,
   "metadata": {},
   "outputs": [
    {
     "name": "stdout",
     "output_type": "stream",
     "text": [
      "ID:  7nL9UERtRQCB5eWEQCINsh   Combat Rock + The People's Hall ---- 2022-05-20\n",
      "ID:  3un5bLdxz0zKhiZXlmnxWE   Live At Shea Stadium ---- 2008-08-26\n",
      "ID:  4dMWTj1OkiCKFN5yBMP1vS   Live at Shea Stadium (Remastered) ---- 2008\n",
      "ID:  1Au9637RH9pXjBv5uS3JpQ   From Here To Eternity Live ---- 1999-10-04\n"
     ]
    }
   ],
   "source": [
    "for album in clash_albums['items'][:4]:\n",
    "    print('ID: ', album['id'], ' ', album['name'], '----', album['release_date'])"
   ]
  },
  {
   "cell_type": "markdown",
   "metadata": {},
   "source": [
    "We see that some albums are remastered and others are live performances. Next, we cycle through the albums, pick up their IDs, and for each album, request information about the tracks. "
   ]
  },
  {
   "cell_type": "code",
   "execution_count": 23,
   "metadata": {},
   "outputs": [],
   "source": [
    "tracks = []\n",
    "\n",
    "for album in clash_albums['items']: \n",
    "    \n",
    "    album_URL = BASE_URL + 'albums/' + album['id'] + '/tracks'\n",
    "    res_tracks = requests.get(album_URL, headers =headers)\n",
    "    tracks_js = res_tracks.json()['items']\n",
    "    \n",
    "    for track in tracks_js:\n",
    "        track_URL = BASE_URL + 'audio-features/' + track['id']\n",
    "        res_feat = requests.get(track_URL, headers =headers)\n",
    "        feat_js = res_feat.json()\n",
    "        \n",
    "        feat_js.update({\n",
    "            'track_name': track['name'],\n",
    "            'album_name': album['name'],\n",
    "            'release_date': album['release_date'],\n",
    "            'album_id': album['id']\n",
    "        })\n",
    "        \n",
    "        tracks.append(feat_js) "
   ]
  },
  {
   "cell_type": "markdown",
   "metadata": {},
   "source": [
    "Over a dozen features are available to explore on the tracks. Let's close the example with a plot of danceability and loudness of The Clash songs. "
   ]
  },
  {
   "cell_type": "code",
   "execution_count": 25,
   "metadata": {
    "tags": [
     "hide-cell"
    ]
   },
   "outputs": [],
   "source": [
    "clash_df = pd.DataFrame(tracks)"
   ]
  },
  {
   "cell_type": "code",
   "execution_count": 26,
   "metadata": {
    "tags": [
     "hide-cell"
    ]
   },
   "outputs": [
    {
     "data": {
      "text/plain": [
       "Index(['danceability', 'energy', 'key', 'loudness', 'mode', 'speechiness',\n",
       "       'acousticness', 'instrumentalness', 'liveness', 'valence', 'tempo',\n",
       "       'type', 'id', 'uri', 'track_href', 'analysis_url', 'duration_ms',\n",
       "       'time_signature', 'track_name', 'album_name', 'release_date',\n",
       "       'album_id'],\n",
       "      dtype='object')"
      ]
     },
     "execution_count": 26,
     "metadata": {},
     "output_type": "execute_result"
    }
   ],
   "source": [
    "clash_df.columns"
   ]
  },
  {
   "cell_type": "code",
   "execution_count": 27,
   "metadata": {
    "tags": [
     "hide-input"
    ]
   },
   "outputs": [
    {
     "data": {
      "application/vnd.plotly.v1+json": {
       "config": {
        "plotlyServerURL": "https://plot.ly"
       },
       "data": [
        {
         "hovertemplate": "album_name=Combat Rock + The People's Hall<br>danceability=%{x}<br>loudness=%{y}<br>duration_ms=%{marker.size}<extra></extra>",
         "legendgroup": "Combat Rock + The People's Hall",
         "marker": {
          "color": "#1F77B4",
          "size": [
           219947,
           239800,
           189000,
           222427,
           224667,
           330467,
           292040,
           150013,
           271147,
           283347,
           161080,
           194733,
           261427,
           250613,
           354747,
           131613,
           377720,
           173013,
           309573,
           224947
          ],
          "sizemode": "area",
          "sizeref": 1111.4325,
          "symbol": "circle"
         },
         "mode": "markers",
         "name": "Combat Rock + The People's Hall",
         "orientation": "v",
         "showlegend": true,
         "type": "scatter",
         "x": [
          0.823,
          0.694,
          0.742,
          0.797,
          0.763,
          0.8,
          0.772,
          0.709,
          0.384,
          0.701,
          0.866,
          0.518,
          0.378,
          0.788,
          0.813,
          0.758,
          0.8,
          0.719,
          0.845,
          0.813
         ],
         "xaxis": "x",
         "y": [
          -7.435,
          -7.559,
          -6.305,
          -6.584,
          -8.519,
          -11.539,
          -8.619,
          -8.912,
          -16.123,
          -9.631,
          -8.926,
          -19.515,
          -25.493,
          -4.833,
          -6.756,
          -8.797,
          -8.257,
          -7.582,
          -8.015,
          -10.864
         ],
         "yaxis": "y"
        },
        {
         "hovertemplate": "album_name=Live At Shea Stadium<br>danceability=%{x}<br>loudness=%{y}<br>duration_ms=%{marker.size}<extra></extra>",
         "legendgroup": "Live At Shea Stadium",
         "marker": {
          "color": "#FF7F0E",
          "size": [
           70947,
           209387,
           208173,
           247800,
           199173,
           153933,
           175960,
           143467,
           201800,
           225733,
           125693,
           198347,
           266533,
           159800,
           163893,
           204440
          ],
          "sizemode": "area",
          "sizeref": 1111.4325,
          "symbol": "circle"
         },
         "mode": "markers",
         "name": "Live At Shea Stadium",
         "orientation": "v",
         "showlegend": true,
         "type": "scatter",
         "x": [
          0.432,
          0.424,
          0.41,
          0.585,
          0.246,
          0.654,
          0.653,
          0.618,
          0.385,
          0.614,
          0.25,
          0.412,
          0.393,
          0.27,
          0.36,
          0.222
         ],
         "xaxis": "x",
         "y": [
          -5.58,
          -2.469,
          -2.296,
          -4.07,
          -3.772,
          -4.555,
          -4.38,
          -3.865,
          -3.29,
          -2.234,
          -2.434,
          -3.281,
          -3.73,
          -4.072,
          -3.839,
          -3.834
         ],
         "yaxis": "y"
        },
        {
         "hovertemplate": "album_name=Live at Shea Stadium (Remastered)<br>danceability=%{x}<br>loudness=%{y}<br>duration_ms=%{marker.size}<extra></extra>",
         "legendgroup": "Live at Shea Stadium (Remastered)",
         "marker": {
          "color": "#2CA02C",
          "size": [
           70947,
           209387,
           208173,
           247800,
           199173,
           153933,
           175960,
           143467,
           201787,
           225747,
           126040,
           198333,
           266573,
           159427,
           164933,
           203560
          ],
          "sizemode": "area",
          "sizeref": 1111.4325,
          "symbol": "circle"
         },
         "mode": "markers",
         "name": "Live at Shea Stadium (Remastered)",
         "orientation": "v",
         "showlegend": true,
         "type": "scatter",
         "x": [
          0.466,
          0.435,
          0.416,
          0.592,
          0.248,
          0.661,
          0.533,
          0.625,
          0.396,
          0.621,
          0.255,
          0.414,
          0.402,
          0.289,
          0.352,
          0.214
         ],
         "xaxis": "x",
         "y": [
          -6.364,
          -3.141,
          -2.641,
          -4.542,
          -3.903,
          -5.055,
          -4.963,
          -4.407,
          -3.837,
          -2.655,
          -3.103,
          -3.397,
          -3.813,
          -4.167,
          -3.35,
          -3.181
         ],
         "yaxis": "y"
        },
        {
         "hovertemplate": "album_name=From Here To Eternity Live<br>danceability=%{x}<br>loudness=%{y}<br>duration_ms=%{marker.size}<extra></extra>",
         "legendgroup": "From Here To Eternity Live",
         "marker": {
          "color": "#D62728",
          "size": [
           225600,
           123800,
           103827,
           210000,
           126707,
           268067,
           178493,
           167040,
           154267,
           209240,
           305133,
           283667,
           216067,
           369133,
           245027,
           178200,
           444573
          ],
          "sizemode": "area",
          "sizeref": 1111.4325,
          "symbol": "circle"
         },
         "mode": "markers",
         "name": "From Here To Eternity Live",
         "orientation": "v",
         "showlegend": true,
         "type": "scatter",
         "x": [
          0.239,
          0.333,
          0.347,
          0.283,
          0.282,
          0.592,
          0.394,
          0.287,
          0.333,
          0.381,
          0.383,
          0.548,
          0.55,
          0.639,
          0.483,
          0.297,
          0.555
         ],
         "xaxis": "x",
         "y": [
          -5.589,
          -4.979,
          -4.843,
          -5.976,
          -5.25,
          -7.697,
          -6.682,
          -5.339,
          -5.569,
          -7.038,
          -8.158,
          -7.486,
          -7.356,
          -7.831,
          -6.117,
          -5.238,
          -11.406
         ],
         "yaxis": "y"
        },
        {
         "hovertemplate": "album_name=From Here to Eternity (Live) [Remastered]<br>danceability=%{x}<br>loudness=%{y}<br>duration_ms=%{marker.size}<extra></extra>",
         "legendgroup": "From Here to Eternity (Live) [Remastered]",
         "marker": {
          "color": "#9467BD",
          "size": [
           226213,
           122827,
           105293,
           209293,
           126813,
           265947,
           180280,
           167240,
           155880,
           209333,
           304640,
           282960,
           215520,
           369600,
           245227,
           195080,
           428373,
           213333,
           169360
          ],
          "sizemode": "area",
          "sizeref": 1111.4325,
          "symbol": "circle"
         },
         "mode": "markers",
         "name": "From Here to Eternity (Live) [Remastered]",
         "orientation": "v",
         "showlegend": true,
         "type": "scatter",
         "x": [
          0.241,
          0.34,
          0.211,
          0.293,
          0.308,
          0.602,
          0.422,
          0.448,
          0.344,
          0.389,
          0.39,
          0.553,
          0.565,
          0.643,
          0.501,
          0.291,
          0.555,
          0.219,
          0.268
         ],
         "xaxis": "x",
         "y": [
          -6.414,
          -5.845,
          -5.768,
          -6.954,
          -6.066,
          -7.867,
          -7.113,
          -6.82,
          -7.289,
          -7.945,
          -9.454,
          -8.718,
          -9.183,
          -8.868,
          -6.742,
          -6.366,
          -12.312,
          -7.384,
          -7.84
         ],
         "yaxis": "y"
        },
        {
         "hovertemplate": "album_name=Raw and Unfiltered<br>danceability=%{x}<br>loudness=%{y}<br>duration_ms=%{marker.size}<extra></extra>",
         "legendgroup": "Raw and Unfiltered",
         "marker": {
          "color": "#8C564B",
          "size": [
           46747,
           48849,
           76843,
           69836,
           38639,
           39606,
           40941,
           41842,
           47314,
           39473,
           55155,
           60794,
           41008,
           71905
          ],
          "sizemode": "area",
          "sizeref": 1111.4325,
          "symbol": "circle"
         },
         "mode": "markers",
         "name": "Raw and Unfiltered",
         "orientation": "v",
         "showlegend": true,
         "type": "scatter",
         "x": [
          0.667,
          0.711,
          0.668,
          0.711,
          0.743,
          0.61,
          0.672,
          0.631,
          0.694,
          0.671,
          0.563,
          0.666,
          0.762,
          0.652
         ],
         "xaxis": "x",
         "y": [
          -18.529,
          -16.213,
          -15.035,
          -18.194,
          -15.182,
          -13.761,
          -16.062,
          -16.999,
          -17.285,
          -16.33,
          -15.18,
          -15.477,
          -14.536,
          -15.343
         ],
         "yaxis": "y"
        },
        {
         "hovertemplate": "album_name=Raw and Unfiltered: The Interviews<br>danceability=%{x}<br>loudness=%{y}<br>duration_ms=%{marker.size}<extra></extra>",
         "legendgroup": "Raw and Unfiltered: The Interviews",
         "marker": {
          "color": "#E377C2",
          "size": [
           46747,
           48849,
           76843,
           69836,
           38639,
           39606,
           40941,
           41842,
           47314,
           39473,
           55155,
           60794,
           41008,
           71905
          ],
          "sizemode": "area",
          "sizeref": 1111.4325,
          "symbol": "circle"
         },
         "mode": "markers",
         "name": "Raw and Unfiltered: The Interviews",
         "orientation": "v",
         "showlegend": true,
         "type": "scatter",
         "x": [
          0.715,
          0.626,
          0.666,
          0.653,
          0.744,
          0.687,
          0.695,
          0.63,
          0.724,
          0.648,
          0.748,
          0.691,
          0.759,
          0.653
         ],
         "xaxis": "x",
         "y": [
          -18.485,
          -16.214,
          -15.035,
          -18.197,
          -15.182,
          -13.761,
          -16.054,
          -17.002,
          -17.285,
          -16.331,
          -15.178,
          -15.475,
          -14.536,
          -15.366
         ],
         "yaxis": "y"
        },
        {
         "hovertemplate": "album_name=Cut The Crap<br>danceability=%{x}<br>loudness=%{y}<br>duration_ms=%{marker.size}<extra></extra>",
         "legendgroup": "Cut The Crap",
         "marker": {
          "color": "#7F7F7F",
          "size": [
           180293,
           189693,
           182693,
           181507,
           202467,
           181600,
           230600,
           189200,
           187627,
           205160,
           212373,
           159133
          ],
          "sizemode": "area",
          "sizeref": 1111.4325,
          "symbol": "circle"
         },
         "mode": "markers",
         "name": "Cut The Crap",
         "orientation": "v",
         "showlegend": true,
         "type": "scatter",
         "x": [
          0.553,
          0.361,
          0.475,
          0.569,
          0.646,
          0.56,
          0.548,
          0.714,
          0.524,
          0.66,
          0.566,
          0.507
         ],
         "xaxis": "x",
         "y": [
          -11.895,
          -12.129,
          -11.687,
          -11.109,
          -13.299,
          -9.587,
          -12.438,
          -10.276,
          -15.621,
          -9.929,
          -11.53,
          -10.603
         ],
         "yaxis": "y"
        },
        {
         "hovertemplate": "album_name=Combat Rock<br>danceability=%{x}<br>loudness=%{y}<br>duration_ms=%{marker.size}<extra></extra>",
         "legendgroup": "Combat Rock",
         "marker": {
          "color": "#BCBD22",
          "size": [
           219307,
           237160,
           187893,
           220333,
           226307,
           330027,
           292133,
           145693,
           266533,
           279400,
           130640,
           189107
          ],
          "sizemode": "area",
          "sizeref": 1111.4325,
          "symbol": "circle"
         },
         "mode": "markers",
         "name": "Combat Rock",
         "orientation": "v",
         "showlegend": true,
         "type": "scatter",
         "x": [
          0.811,
          0.685,
          0.722,
          0.793,
          0.764,
          0.642,
          0.755,
          0.695,
          0.372,
          0.694,
          0.897,
          0.521
         ],
         "xaxis": "x",
         "y": [
          -12.249,
          -12.674,
          -11.009,
          -12.055,
          -13.454,
          -15.985,
          -11.791,
          -11.889,
          -18.099,
          -13.396,
          -13.291,
          -23.145
         ],
         "yaxis": "y"
        },
        {
         "hovertemplate": "album_name=Combat Rock (Remastered)<br>danceability=%{x}<br>loudness=%{y}<br>duration_ms=%{marker.size}<extra></extra>",
         "legendgroup": "Combat Rock (Remastered)",
         "marker": {
          "color": "#17BECF",
          "size": [
           220907,
           239813,
           188987,
           222427,
           224240,
           330507,
           292027,
           150000,
           271133,
           283373,
           162000,
           195840
          ],
          "sizemode": "area",
          "sizeref": 1111.4325,
          "symbol": "circle"
         },
         "mode": "markers",
         "name": "Combat Rock (Remastered)",
         "orientation": "v",
         "showlegend": true,
         "type": "scatter",
         "x": [
          0.814,
          0.691,
          0.743,
          0.797,
          0.759,
          0.802,
          0.778,
          0.714,
          0.383,
          0.7,
          0.866,
          0.521
         ],
         "xaxis": "x",
         "y": [
          -7.538,
          -7.717,
          -6.465,
          -6.727,
          -8.654,
          -11.663,
          -8.761,
          -9.021,
          -16.262,
          -9.795,
          -9.069,
          -19.665
         ],
         "yaxis": "y"
        },
        {
         "hovertemplate": "album_name=Sandinista! (Remastered)<br>danceability=%{x}<br>loudness=%{y}<br>duration_ms=%{marker.size}<extra></extra>",
         "legendgroup": "Sandinista! (Remastered)",
         "marker": {
          "color": "#1F77B4",
          "size": [
           333520,
           261813,
           292187,
           185453,
           102200,
           223333,
           206453,
           165133,
           328187,
           214387,
           211720,
           217693,
           291587,
           272213,
           162427,
           264267,
           276200,
           241627,
           196920,
           129627
          ],
          "sizemode": "area",
          "sizeref": 1111.4325,
          "symbol": "circle"
         },
         "mode": "markers",
         "name": "Sandinista! (Remastered)",
         "orientation": "v",
         "showlegend": true,
         "type": "scatter",
         "x": [
          0.799,
          0.613,
          0.78,
          0.485,
          0.678,
          0.648,
          0.624,
          0.518,
          0.725,
          0.486,
          0.738,
          0.744,
          0.712,
          0.435,
          0.664,
          0.516,
          0.617,
          0.488,
          0.554,
          0.518
         ],
         "xaxis": "x",
         "y": [
          -8.208,
          -6.74,
          -7.791,
          -7.235,
          -8.669,
          -8.801,
          -11.896,
          -10.337,
          -11.798,
          -7.678,
          -10.077,
          -12.589,
          -7.556,
          -7.398,
          -7.536,
          -8.984,
          -12.062,
          -8.018,
          -6.711,
          -9.677
         ],
         "yaxis": "y"
        },
        {
         "hovertemplate": "album_name=London Calling (Remastered)<br>danceability=%{x}<br>loudness=%{y}<br>duration_ms=%{marker.size}<extra></extra>",
         "legendgroup": "London Calling (Remastered)",
         "marker": {
          "color": "#FF7F0E",
          "size": [
           200480,
           128267,
           234333,
           163933,
           208867,
           198867,
           234600,
           226947,
           229213,
           192440,
           191493,
           235000,
           107813,
           229493,
           243067,
           175773,
           186027,
           333293,
           194667
          ],
          "sizemode": "area",
          "sizeref": 1111.4325,
          "symbol": "circle"
         },
         "mode": "markers",
         "name": "London Calling (Remastered)",
         "orientation": "v",
         "showlegend": true,
         "type": "scatter",
         "x": [
          0.651,
          0.52,
          0.528,
          0.594,
          0.636,
          0.609,
          0.555,
          0.608,
          0.676,
          0.74,
          0.491,
          0.679,
          0.496,
          0.487,
          0.555,
          0.467,
          0.498,
          0.638,
          0.762
         ],
         "xaxis": "x",
         "y": [
          -7.34,
          -6.534,
          -12.024,
          -6.723,
          -9.37,
          -7.902,
          -7.534,
          -11.24,
          -7.61,
          -9.487,
          -8.077,
          -7.28,
          -8.009,
          -7.743,
          -8.615,
          -6.813,
          -7.251,
          -10.341,
          -8.712
         ],
         "yaxis": "y"
        },
        {
         "hovertemplate": "album_name=London Calling (Expanded Edition)<br>danceability=%{x}<br>loudness=%{y}<br>duration_ms=%{marker.size}<extra></extra>",
         "legendgroup": "London Calling (Expanded Edition)",
         "marker": {
          "color": "#2CA02C",
          "size": [
           199733,
           128227,
           234933,
           164040,
           209133,
           198867,
           234693,
           227133,
           229133,
           189667,
           190800,
           235067,
           107933,
           229507,
           243093,
           175800,
           186067,
           333400,
           189600,
           203573
          ],
          "sizemode": "area",
          "sizeref": 1111.4325,
          "symbol": "circle"
         },
         "mode": "markers",
         "name": "London Calling (Expanded Edition)",
         "orientation": "v",
         "showlegend": true,
         "type": "scatter",
         "x": [
          0.654,
          0.523,
          0.531,
          0.606,
          0.642,
          0.616,
          0.546,
          0.61,
          0.678,
          0.745,
          0.498,
          0.676,
          0.495,
          0.477,
          0.565,
          0.478,
          0.499,
          0.636,
          0.768,
          0.628
         ],
         "xaxis": "x",
         "y": [
          -6.92,
          -6.234,
          -10.872,
          -6.617,
          -8.302,
          -7.929,
          -6.678,
          -10.927,
          -7.995,
          -9.311,
          -8.328,
          -7.058,
          -7.558,
          -7.378,
          -10.504,
          -6.414,
          -6.941,
          -9.838,
          -8.474,
          -11.574
         ],
         "yaxis": "y"
        },
        {
         "hovertemplate": "album_name=Give 'Em Enough Rope (Remastered)<br>danceability=%{x}<br>loudness=%{y}<br>duration_ms=%{marker.size}<extra></extra>",
         "legendgroup": "Give 'Em Enough Rope (Remastered)",
         "marker": {
          "color": "#D62728",
          "size": [
           230680,
           155293,
           197440,
           183067,
           313360,
           195240,
           223733,
           220587,
           205000,
           298453
          ],
          "sizemode": "area",
          "sizeref": 1111.4325,
          "symbol": "circle"
         },
         "mode": "markers",
         "name": "Give 'Em Enough Rope (Remastered)",
         "orientation": "v",
         "showlegend": true,
         "type": "scatter",
         "x": [
          0.241,
          0.297,
          0.353,
          0.491,
          0.469,
          0.582,
          0.331,
          0.517,
          0.346,
          0.528
         ],
         "xaxis": "x",
         "y": [
          -6.618,
          -5.373,
          -5.737,
          -5.756,
          -5.908,
          -5.818,
          -5.155,
          -6.03,
          -5.144,
          -5.906
         ],
         "yaxis": "y"
        },
        {
         "hovertemplate": "album_name=The Clash (UK Version)<br>danceability=%{x}<br>loudness=%{y}<br>duration_ms=%{marker.size}<extra></extra>",
         "legendgroup": "The Clash (UK Version)",
         "marker": {
          "color": "#9467BD",
          "size": [
           125400,
           180307,
           144773,
           115160,
           124600,
           100267,
           183733,
           131000,
           111667,
           126067,
           104693,
           360200,
           94800,
           192533
          ],
          "sizemode": "area",
          "sizeref": 1111.4325,
          "symbol": "circle"
         },
         "mode": "markers",
         "name": "The Clash (UK Version)",
         "orientation": "v",
         "showlegend": true,
         "type": "scatter",
         "x": [
          0.582,
          0.545,
          0.503,
          0.178,
          0.462,
          0.282,
          0.328,
          0.548,
          0.381,
          0.349,
          0.555,
          0.717,
          0.548,
          0.403
         ],
         "xaxis": "x",
         "y": [
          -8.501,
          -7.395,
          -7.013,
          -4.046,
          -6.913,
          -7.882,
          -7.2,
          -5.033,
          -7.806,
          -7.166,
          -6.708,
          -9.637,
          -8.664,
          -7.659
         ],
         "yaxis": "y"
        },
        {
         "hovertemplate": "album_name=The Clash<br>danceability=%{x}<br>loudness=%{y}<br>duration_ms=%{marker.size}<extra></extra>",
         "legendgroup": "The Clash",
         "marker": {
          "color": "#8C564B",
          "size": [
           125400,
           180307,
           144773,
           115160,
           124600,
           100267,
           183733,
           131000,
           111667,
           126067,
           104693,
           360200,
           94800,
           192533
          ],
          "sizemode": "area",
          "sizeref": 1111.4325,
          "symbol": "circle"
         },
         "mode": "markers",
         "name": "The Clash",
         "orientation": "v",
         "showlegend": true,
         "type": "scatter",
         "x": [
          0.582,
          0.545,
          0.503,
          0.178,
          0.462,
          0.282,
          0.328,
          0.548,
          0.381,
          0.349,
          0.555,
          0.717,
          0.548,
          0.403
         ],
         "xaxis": "x",
         "y": [
          -8.501,
          -7.395,
          -7.013,
          -4.046,
          -6.913,
          -7.882,
          -7.2,
          -5.033,
          -7.806,
          -7.166,
          -6.708,
          -9.637,
          -8.664,
          -7.659
         ],
         "yaxis": "y"
        },
        {
         "hovertemplate": "album_name=The Clash (Remastered)<br>danceability=%{x}<br>loudness=%{y}<br>duration_ms=%{marker.size}<extra></extra>",
         "legendgroup": "The Clash (Remastered)",
         "marker": {
          "color": "#E377C2",
          "size": [
           128720,
           183373,
           144600,
           116440,
           126907,
           101387,
           186627,
           131280,
           114347,
           126307,
           107067,
           363373,
           96400,
           194160
          ],
          "sizemode": "area",
          "sizeref": 1111.4325,
          "symbol": "circle"
         },
         "mode": "markers",
         "name": "The Clash (Remastered)",
         "orientation": "v",
         "showlegend": true,
         "type": "scatter",
         "x": [
          0.591,
          0.545,
          0.31,
          0.168,
          0.471,
          0.287,
          0.337,
          0.556,
          0.382,
          0.353,
          0.567,
          0.721,
          0.558,
          0.403
         ],
         "xaxis": "x",
         "y": [
          -7.83,
          -7.27,
          -6.943,
          -4.862,
          -7.123,
          -6.944,
          -6.59,
          -6.082,
          -8.056,
          -7.702,
          -7.35,
          -10.294,
          -7.935,
          -8.208
         ],
         "yaxis": "y"
        }
       ],
       "layout": {
        "height": 350,
        "legend": {
         "itemsizing": "constant",
         "title": {
          "text": "album_name"
         },
         "tracegroupgap": 0
        },
        "showlegend": false,
        "template": {
         "data": {
          "bar": [
           {
            "error_x": {
             "color": "rgb(36,36,36)"
            },
            "error_y": {
             "color": "rgb(36,36,36)"
            },
            "marker": {
             "line": {
              "color": "white",
              "width": 0.5
             },
             "pattern": {
              "fillmode": "overlay",
              "size": 10,
              "solidity": 0.2
             }
            },
            "type": "bar"
           }
          ],
          "barpolar": [
           {
            "marker": {
             "line": {
              "color": "white",
              "width": 0.5
             },
             "pattern": {
              "fillmode": "overlay",
              "size": 10,
              "solidity": 0.2
             }
            },
            "type": "barpolar"
           }
          ],
          "carpet": [
           {
            "aaxis": {
             "endlinecolor": "rgb(36,36,36)",
             "gridcolor": "white",
             "linecolor": "white",
             "minorgridcolor": "white",
             "startlinecolor": "rgb(36,36,36)"
            },
            "baxis": {
             "endlinecolor": "rgb(36,36,36)",
             "gridcolor": "white",
             "linecolor": "white",
             "minorgridcolor": "white",
             "startlinecolor": "rgb(36,36,36)"
            },
            "type": "carpet"
           }
          ],
          "choropleth": [
           {
            "colorbar": {
             "outlinewidth": 1,
             "tickcolor": "rgb(36,36,36)",
             "ticks": "outside"
            },
            "type": "choropleth"
           }
          ],
          "contour": [
           {
            "colorbar": {
             "outlinewidth": 1,
             "tickcolor": "rgb(36,36,36)",
             "ticks": "outside"
            },
            "colorscale": [
             [
              0,
              "#440154"
             ],
             [
              0.1111111111111111,
              "#482878"
             ],
             [
              0.2222222222222222,
              "#3e4989"
             ],
             [
              0.3333333333333333,
              "#31688e"
             ],
             [
              0.4444444444444444,
              "#26828e"
             ],
             [
              0.5555555555555556,
              "#1f9e89"
             ],
             [
              0.6666666666666666,
              "#35b779"
             ],
             [
              0.7777777777777778,
              "#6ece58"
             ],
             [
              0.8888888888888888,
              "#b5de2b"
             ],
             [
              1,
              "#fde725"
             ]
            ],
            "type": "contour"
           }
          ],
          "contourcarpet": [
           {
            "colorbar": {
             "outlinewidth": 1,
             "tickcolor": "rgb(36,36,36)",
             "ticks": "outside"
            },
            "type": "contourcarpet"
           }
          ],
          "heatmap": [
           {
            "colorbar": {
             "outlinewidth": 1,
             "tickcolor": "rgb(36,36,36)",
             "ticks": "outside"
            },
            "colorscale": [
             [
              0,
              "#440154"
             ],
             [
              0.1111111111111111,
              "#482878"
             ],
             [
              0.2222222222222222,
              "#3e4989"
             ],
             [
              0.3333333333333333,
              "#31688e"
             ],
             [
              0.4444444444444444,
              "#26828e"
             ],
             [
              0.5555555555555556,
              "#1f9e89"
             ],
             [
              0.6666666666666666,
              "#35b779"
             ],
             [
              0.7777777777777778,
              "#6ece58"
             ],
             [
              0.8888888888888888,
              "#b5de2b"
             ],
             [
              1,
              "#fde725"
             ]
            ],
            "type": "heatmap"
           }
          ],
          "heatmapgl": [
           {
            "colorbar": {
             "outlinewidth": 1,
             "tickcolor": "rgb(36,36,36)",
             "ticks": "outside"
            },
            "colorscale": [
             [
              0,
              "#440154"
             ],
             [
              0.1111111111111111,
              "#482878"
             ],
             [
              0.2222222222222222,
              "#3e4989"
             ],
             [
              0.3333333333333333,
              "#31688e"
             ],
             [
              0.4444444444444444,
              "#26828e"
             ],
             [
              0.5555555555555556,
              "#1f9e89"
             ],
             [
              0.6666666666666666,
              "#35b779"
             ],
             [
              0.7777777777777778,
              "#6ece58"
             ],
             [
              0.8888888888888888,
              "#b5de2b"
             ],
             [
              1,
              "#fde725"
             ]
            ],
            "type": "heatmapgl"
           }
          ],
          "histogram": [
           {
            "marker": {
             "line": {
              "color": "white",
              "width": 0.6
             }
            },
            "type": "histogram"
           }
          ],
          "histogram2d": [
           {
            "colorbar": {
             "outlinewidth": 1,
             "tickcolor": "rgb(36,36,36)",
             "ticks": "outside"
            },
            "colorscale": [
             [
              0,
              "#440154"
             ],
             [
              0.1111111111111111,
              "#482878"
             ],
             [
              0.2222222222222222,
              "#3e4989"
             ],
             [
              0.3333333333333333,
              "#31688e"
             ],
             [
              0.4444444444444444,
              "#26828e"
             ],
             [
              0.5555555555555556,
              "#1f9e89"
             ],
             [
              0.6666666666666666,
              "#35b779"
             ],
             [
              0.7777777777777778,
              "#6ece58"
             ],
             [
              0.8888888888888888,
              "#b5de2b"
             ],
             [
              1,
              "#fde725"
             ]
            ],
            "type": "histogram2d"
           }
          ],
          "histogram2dcontour": [
           {
            "colorbar": {
             "outlinewidth": 1,
             "tickcolor": "rgb(36,36,36)",
             "ticks": "outside"
            },
            "colorscale": [
             [
              0,
              "#440154"
             ],
             [
              0.1111111111111111,
              "#482878"
             ],
             [
              0.2222222222222222,
              "#3e4989"
             ],
             [
              0.3333333333333333,
              "#31688e"
             ],
             [
              0.4444444444444444,
              "#26828e"
             ],
             [
              0.5555555555555556,
              "#1f9e89"
             ],
             [
              0.6666666666666666,
              "#35b779"
             ],
             [
              0.7777777777777778,
              "#6ece58"
             ],
             [
              0.8888888888888888,
              "#b5de2b"
             ],
             [
              1,
              "#fde725"
             ]
            ],
            "type": "histogram2dcontour"
           }
          ],
          "mesh3d": [
           {
            "colorbar": {
             "outlinewidth": 1,
             "tickcolor": "rgb(36,36,36)",
             "ticks": "outside"
            },
            "type": "mesh3d"
           }
          ],
          "parcoords": [
           {
            "line": {
             "colorbar": {
              "outlinewidth": 1,
              "tickcolor": "rgb(36,36,36)",
              "ticks": "outside"
             }
            },
            "type": "parcoords"
           }
          ],
          "pie": [
           {
            "automargin": true,
            "type": "pie"
           }
          ],
          "scatter": [
           {
            "marker": {
             "colorbar": {
              "outlinewidth": 1,
              "tickcolor": "rgb(36,36,36)",
              "ticks": "outside"
             }
            },
            "type": "scatter"
           }
          ],
          "scatter3d": [
           {
            "line": {
             "colorbar": {
              "outlinewidth": 1,
              "tickcolor": "rgb(36,36,36)",
              "ticks": "outside"
             }
            },
            "marker": {
             "colorbar": {
              "outlinewidth": 1,
              "tickcolor": "rgb(36,36,36)",
              "ticks": "outside"
             }
            },
            "type": "scatter3d"
           }
          ],
          "scattercarpet": [
           {
            "marker": {
             "colorbar": {
              "outlinewidth": 1,
              "tickcolor": "rgb(36,36,36)",
              "ticks": "outside"
             }
            },
            "type": "scattercarpet"
           }
          ],
          "scattergeo": [
           {
            "marker": {
             "colorbar": {
              "outlinewidth": 1,
              "tickcolor": "rgb(36,36,36)",
              "ticks": "outside"
             }
            },
            "type": "scattergeo"
           }
          ],
          "scattergl": [
           {
            "marker": {
             "colorbar": {
              "outlinewidth": 1,
              "tickcolor": "rgb(36,36,36)",
              "ticks": "outside"
             }
            },
            "type": "scattergl"
           }
          ],
          "scattermapbox": [
           {
            "marker": {
             "colorbar": {
              "outlinewidth": 1,
              "tickcolor": "rgb(36,36,36)",
              "ticks": "outside"
             }
            },
            "type": "scattermapbox"
           }
          ],
          "scatterpolar": [
           {
            "marker": {
             "colorbar": {
              "outlinewidth": 1,
              "tickcolor": "rgb(36,36,36)",
              "ticks": "outside"
             }
            },
            "type": "scatterpolar"
           }
          ],
          "scatterpolargl": [
           {
            "marker": {
             "colorbar": {
              "outlinewidth": 1,
              "tickcolor": "rgb(36,36,36)",
              "ticks": "outside"
             }
            },
            "type": "scatterpolargl"
           }
          ],
          "scatterternary": [
           {
            "marker": {
             "colorbar": {
              "outlinewidth": 1,
              "tickcolor": "rgb(36,36,36)",
              "ticks": "outside"
             }
            },
            "type": "scatterternary"
           }
          ],
          "surface": [
           {
            "colorbar": {
             "outlinewidth": 1,
             "tickcolor": "rgb(36,36,36)",
             "ticks": "outside"
            },
            "colorscale": [
             [
              0,
              "#440154"
             ],
             [
              0.1111111111111111,
              "#482878"
             ],
             [
              0.2222222222222222,
              "#3e4989"
             ],
             [
              0.3333333333333333,
              "#31688e"
             ],
             [
              0.4444444444444444,
              "#26828e"
             ],
             [
              0.5555555555555556,
              "#1f9e89"
             ],
             [
              0.6666666666666666,
              "#35b779"
             ],
             [
              0.7777777777777778,
              "#6ece58"
             ],
             [
              0.8888888888888888,
              "#b5de2b"
             ],
             [
              1,
              "#fde725"
             ]
            ],
            "type": "surface"
           }
          ],
          "table": [
           {
            "cells": {
             "fill": {
              "color": "rgb(237,237,237)"
             },
             "line": {
              "color": "white"
             }
            },
            "header": {
             "fill": {
              "color": "rgb(217,217,217)"
             },
             "line": {
              "color": "white"
             }
            },
            "type": "table"
           }
          ]
         },
         "layout": {
          "annotationdefaults": {
           "arrowhead": 0,
           "arrowwidth": 1
          },
          "autosize": true,
          "autotypenumbers": "strict",
          "coloraxis": {
           "colorbar": {
            "outlinewidth": 1,
            "tickcolor": "rgb(36,36,36)",
            "ticks": "outside"
           }
          },
          "colorscale": {
           "diverging": [
            [
             0,
             "rgb(103,0,31)"
            ],
            [
             0.1,
             "rgb(178,24,43)"
            ],
            [
             0.2,
             "rgb(214,96,77)"
            ],
            [
             0.3,
             "rgb(244,165,130)"
            ],
            [
             0.4,
             "rgb(253,219,199)"
            ],
            [
             0.5,
             "rgb(247,247,247)"
            ],
            [
             0.6,
             "rgb(209,229,240)"
            ],
            [
             0.7,
             "rgb(146,197,222)"
            ],
            [
             0.8,
             "rgb(67,147,195)"
            ],
            [
             0.9,
             "rgb(33,102,172)"
            ],
            [
             1,
             "rgb(5,48,97)"
            ]
           ],
           "sequential": [
            [
             0,
             "#440154"
            ],
            [
             0.1111111111111111,
             "#482878"
            ],
            [
             0.2222222222222222,
             "#3e4989"
            ],
            [
             0.3333333333333333,
             "#31688e"
            ],
            [
             0.4444444444444444,
             "#26828e"
            ],
            [
             0.5555555555555556,
             "#1f9e89"
            ],
            [
             0.6666666666666666,
             "#35b779"
            ],
            [
             0.7777777777777778,
             "#6ece58"
            ],
            [
             0.8888888888888888,
             "#b5de2b"
            ],
            [
             1,
             "#fde725"
            ]
           ],
           "sequentialminus": [
            [
             0,
             "#440154"
            ],
            [
             0.1111111111111111,
             "#482878"
            ],
            [
             0.2222222222222222,
             "#3e4989"
            ],
            [
             0.3333333333333333,
             "#31688e"
            ],
            [
             0.4444444444444444,
             "#26828e"
            ],
            [
             0.5555555555555556,
             "#1f9e89"
            ],
            [
             0.6666666666666666,
             "#35b779"
            ],
            [
             0.7777777777777778,
             "#6ece58"
            ],
            [
             0.8888888888888888,
             "#b5de2b"
            ],
            [
             1,
             "#fde725"
            ]
           ]
          },
          "colorway": [
           "#1F77B4",
           "#FF7F0E",
           "#2CA02C",
           "#D62728",
           "#9467BD",
           "#8C564B",
           "#E377C2",
           "#7F7F7F",
           "#BCBD22",
           "#17BECF"
          ],
          "font": {
           "color": "rgb(36,36,36)"
          },
          "geo": {
           "bgcolor": "white",
           "lakecolor": "white",
           "landcolor": "white",
           "showlakes": true,
           "showland": true,
           "subunitcolor": "white"
          },
          "height": 250,
          "hoverlabel": {
           "align": "left"
          },
          "hovermode": "closest",
          "mapbox": {
           "style": "light"
          },
          "margin": {
           "b": 10,
           "l": 10,
           "r": 10,
           "t": 10
          },
          "paper_bgcolor": "white",
          "plot_bgcolor": "white",
          "polar": {
           "angularaxis": {
            "gridcolor": "rgb(232,232,232)",
            "linecolor": "rgb(36,36,36)",
            "showgrid": false,
            "showline": true,
            "ticks": "outside"
           },
           "bgcolor": "white",
           "radialaxis": {
            "gridcolor": "rgb(232,232,232)",
            "linecolor": "rgb(36,36,36)",
            "showgrid": false,
            "showline": true,
            "ticks": "outside"
           }
          },
          "scene": {
           "xaxis": {
            "backgroundcolor": "white",
            "gridcolor": "rgb(232,232,232)",
            "gridwidth": 2,
            "linecolor": "rgb(36,36,36)",
            "showbackground": true,
            "showgrid": false,
            "showline": true,
            "ticks": "outside",
            "zeroline": false,
            "zerolinecolor": "rgb(36,36,36)"
           },
           "yaxis": {
            "backgroundcolor": "white",
            "gridcolor": "rgb(232,232,232)",
            "gridwidth": 2,
            "linecolor": "rgb(36,36,36)",
            "showbackground": true,
            "showgrid": false,
            "showline": true,
            "ticks": "outside",
            "zeroline": false,
            "zerolinecolor": "rgb(36,36,36)"
           },
           "zaxis": {
            "backgroundcolor": "white",
            "gridcolor": "rgb(232,232,232)",
            "gridwidth": 2,
            "linecolor": "rgb(36,36,36)",
            "showbackground": true,
            "showgrid": false,
            "showline": true,
            "ticks": "outside",
            "zeroline": false,
            "zerolinecolor": "rgb(36,36,36)"
           }
          },
          "shapedefaults": {
           "fillcolor": "black",
           "line": {
            "width": 0
           },
           "opacity": 0.3
          },
          "ternary": {
           "aaxis": {
            "gridcolor": "rgb(232,232,232)",
            "linecolor": "rgb(36,36,36)",
            "showgrid": false,
            "showline": true,
            "ticks": "outside"
           },
           "baxis": {
            "gridcolor": "rgb(232,232,232)",
            "linecolor": "rgb(36,36,36)",
            "showgrid": false,
            "showline": true,
            "ticks": "outside"
           },
           "bgcolor": "white",
           "caxis": {
            "gridcolor": "rgb(232,232,232)",
            "linecolor": "rgb(36,36,36)",
            "showgrid": false,
            "showline": true,
            "ticks": "outside"
           }
          },
          "title": {
           "x": 0.5,
           "xanchor": "center"
          },
          "width": 350,
          "xaxis": {
           "automargin": true,
           "gridcolor": "rgb(232,232,232)",
           "linecolor": "rgb(36,36,36)",
           "showgrid": true,
           "showline": true,
           "ticks": "outside",
           "title": {
            "standoff": 15
           },
           "zeroline": false,
           "zerolinecolor": "rgb(36,36,36)"
          },
          "yaxis": {
           "automargin": true,
           "gridcolor": "rgb(232,232,232)",
           "linecolor": "rgb(36,36,36)",
           "showgrid": true,
           "showline": true,
           "ticks": "outside",
           "title": {
            "standoff": 15
           },
           "zeroline": false,
           "zerolinecolor": "rgb(36,36,36)"
          }
         }
        },
        "width": 600,
        "xaxis": {
         "anchor": "y",
         "autorange": true,
         "domain": [
          0,
          1
         ],
         "range": [
          0.11310696250357566,
          0.9526579184702022
         ],
         "title": {
          "text": "danceability"
         },
         "type": "linear"
        },
        "yaxis": {
         "anchor": "x",
         "autorange": true,
         "domain": [
          0,
          1
         ],
         "range": [
          -28.172828623972944,
          0.3571279489100938
         ],
         "title": {
          "text": "loudness"
         },
         "type": "linear"
        }
       }
      },
      "image/png": "[encoded data removed]",
      "image/svg+xml": [
       "<svg class=\"main-svg\" xmlns=\"http://www.w3.org/2000/svg\" xmlns:xlink=\"http://www.w3.org/1999/xlink\" width=\"600\" height=\"350\" style=\"\" viewBox=\"0 0 600 350\"><rect x=\"0\" y=\"0\" width=\"600\" height=\"350\" style=\"fill: rgb(255, 255, 255); fill-opacity: 1;\"/><defs id=\"defs-d8cce9\"><g class=\"clips\"><clipPath id=\"clipd8cce9xyplot\" class=\"plotclip\"><rect width=\"526\" height=\"276\"/></clipPath><clipPath class=\"axesclip\" id=\"clipd8cce9x\"><rect x=\"64\" y=\"0\" width=\"526\" height=\"350\"/></clipPath><clipPath class=\"axesclip\" id=\"clipd8cce9y\"><rect x=\"0\" y=\"15\" width=\"600\" height=\"276\"/></clipPath><clipPath class=\"axesclip\" id=\"clipd8cce9xy\"><rect x=\"64\" y=\"15\" width=\"526\" height=\"276\"/></clipPath></g><g class=\"gradients\"/><g class=\"patterns\"/></defs><g class=\"bglayer\"/><g class=\"layer-below\"><g class=\"imagelayer\"/><g class=\"shapelayer\"/></g><g class=\"cartesianlayer\"><g class=\"subplot xy\"><g class=\"layer-subplot\"><g class=\"shapelayer\"/><g class=\"imagelayer\"/></g><g class=\"gridlayer\"><g class=\"x\"><path class=\"xgrid crisp\" transform=\"translate(118.44,0)\" d=\"M0,15v276\" style=\"stroke: rgb(232, 232, 232); stroke-opacity: 1; stroke-width: 1px;\"/><path class=\"xgrid crisp\" transform=\"translate(243.75,0)\" d=\"M0,15v276\" style=\"stroke: rgb(232, 232, 232); stroke-opacity: 1; stroke-width: 1px;\"/><path class=\"xgrid crisp\" transform=\"translate(369.05,0)\" d=\"M0,15v276\" style=\"stroke: rgb(232, 232, 232); stroke-opacity: 1; stroke-width: 1px;\"/><path class=\"xgrid crisp\" transform=\"translate(494.36,0)\" d=\"M0,15v276\" style=\"stroke: rgb(232, 232, 232); stroke-opacity: 1; stroke-width: 1px;\"/></g><g class=\"y\"><path class=\"ygrid crisp\" transform=\"translate(0,260.31)\" d=\"M64,0h526\" style=\"stroke: rgb(232, 232, 232); stroke-opacity: 1; stroke-width: 1px;\"/><path class=\"ygrid crisp\" transform=\"translate(0,211.94)\" d=\"M64,0h526\" style=\"stroke: rgb(232, 232, 232); stroke-opacity: 1; stroke-width: 1px;\"/><path class=\"ygrid crisp\" transform=\"translate(0,163.57)\" d=\"M64,0h526\" style=\"stroke: rgb(232, 232, 232); stroke-opacity: 1; stroke-width: 1px;\"/><path class=\"ygrid crisp\" transform=\"translate(0,115.2)\" d=\"M64,0h526\" style=\"stroke: rgb(232, 232, 232); stroke-opacity: 1; stroke-width: 1px;\"/><path class=\"ygrid crisp\" transform=\"translate(0,66.83)\" d=\"M64,0h526\" style=\"stroke: rgb(232, 232, 232); stroke-opacity: 1; stroke-width: 1px;\"/><path class=\"ygrid crisp\" transform=\"translate(0,18.45)\" d=\"M64,0h526\" style=\"stroke: rgb(232, 232, 232); stroke-opacity: 1; stroke-width: 1px;\"/></g></g><g class=\"zerolinelayer\"/><path class=\"xlines-below\"/><path class=\"ylines-below\"/><g class=\"overlines-below\"/><g class=\"xaxislayer-below\"/><g class=\"yaxislayer-below\"/><g class=\"overaxes-below\"/><g class=\"plot\" transform=\"translate(64,15)\" clip-path=\"url(#clipd8cce9xyplot)\"><g class=\"scatterlayer mlayer\"><g class=\"trace scatter tracea361d7\" style=\"stroke-miterlimit: 2; opacity: 1;\"><g class=\"fills\"/><g class=\"errorbars\"/><g class=\"lines\"/><g class=\"points\"><path class=\"point\" transform=\"translate(444.77,75.38)\" d=\"M9.95,0A9.95,9.95 0 1,1 0,-9.95A9.95,9.95 0 0,1 9.95,0Z\" style=\"opacity: 0.7; stroke-width: 1px; fill: rgb(31, 119, 180); fill-opacity: 1; stroke: rgb(255, 255, 255); stroke-opacity: 1;\"/><path class=\"point\" transform=\"translate(363.94,76.58)\" d=\"M10.39,0A10.39,10.39 0 1,1 0,-10.39A10.39,10.39 0 0,1 10.39,0Z\" style=\"opacity: 0.7; stroke-width: 1px; fill: rgb(31, 119, 180); fill-opacity: 1; stroke: rgb(255, 255, 255); stroke-opacity: 1;\"/><path class=\"point\" transform=\"translate(394.02,64.45)\" d=\"M9.22,0A9.22,9.22 0 1,1 0,-9.22A9.22,9.22 0 0,1 9.22,0Z\" style=\"opacity: 0.7; stroke-width: 1px; fill: rgb(31, 119, 180); fill-opacity: 1; stroke: rgb(255, 255, 255); stroke-opacity: 1;\"/><path class=\"point\" transform=\"translate(428.48,67.15)\" d=\"M10,0A10,10 0 1,1 0,-10A10,10 0 0,1 10,0Z\" style=\"opacity: 0.7; stroke-width: 1px; fill: rgb(31, 119, 180); fill-opacity: 1; stroke: rgb(255, 255, 255); stroke-opacity: 1;\"/><path class=\"point\" transform=\"translate(407.17,85.87)\" d=\"M10.05,0A10.05,10.05 0 1,1 0,-10.05A10.05,10.05 0 0,1 10.05,0Z\" style=\"opacity: 0.7; stroke-width: 1px; fill: rgb(31, 119, 180); fill-opacity: 1; stroke: rgb(255, 255, 255); stroke-opacity: 1;\"/><path class=\"point\" transform=\"translate(430.36,115.08)\" d=\"M12.19,0A12.19,12.19 0 1,1 0,-12.19A12.19,12.19 0 0,1 12.19,0Z\" style=\"opacity: 0.7; stroke-width: 1px; fill: rgb(31, 119, 180); fill-opacity: 1; stroke: rgb(255, 255, 255); stroke-opacity: 1;\"/><path class=\"point\" transform=\"translate(412.81,86.84)\" d=\"M11.46,0A11.46,11.46 0 1,1 0,-11.46A11.46,11.46 0 0,1 11.46,0Z\" style=\"opacity: 0.7; stroke-width: 1px; fill: rgb(31, 119, 180); fill-opacity: 1; stroke: rgb(255, 255, 255); stroke-opacity: 1;\"/><path class=\"point\" transform=\"translate(373.34,89.67)\" d=\"M8.22,0A8.22,8.22 0 1,1 0,-8.22A8.22,8.22 0 0,1 8.22,0Z\" style=\"opacity: 0.7; stroke-width: 1px; fill: rgb(31, 119, 180); fill-opacity: 1; stroke: rgb(255, 255, 255); stroke-opacity: 1;\"/><path class=\"point\" transform=\"translate(169.72,159.43)\" d=\"M11.04,0A11.04,11.04 0 1,1 0,-11.04A11.04,11.04 0 0,1 11.04,0Z\" style=\"opacity: 0.7; stroke-width: 1px; fill: rgb(31, 119, 180); fill-opacity: 1; stroke: rgb(255, 255, 255); stroke-opacity: 1;\"/><path class=\"point\" transform=\"translate(368.33,96.63)\" d=\"M11.29,0A11.29,11.29 0 1,1 0,-11.29A11.29,11.29 0 0,1 11.29,0Z\" style=\"opacity: 0.7; stroke-width: 1px; fill: rgb(31, 119, 180); fill-opacity: 1; stroke: rgb(255, 255, 255); stroke-opacity: 1;\"/><path class=\"point\" transform=\"translate(471.71,89.81)\" d=\"M8.51,0A8.51,8.51 0 1,1 0,-8.51A8.51,8.51 0 0,1 8.51,0Z\" style=\"opacity: 0.7; stroke-width: 1px; fill: rgb(31, 119, 180); fill-opacity: 1; stroke: rgb(255, 255, 255); stroke-opacity: 1;\"/><path class=\"point\" transform=\"translate(253.68,192.24)\" d=\"M9.36,0A9.36,9.36 0 1,1 0,-9.36A9.36,9.36 0 0,1 9.36,0Z\" style=\"opacity: 0.7; stroke-width: 1px; fill: rgb(31, 119, 180); fill-opacity: 1; stroke: rgb(255, 255, 255); stroke-opacity: 1;\"/><path class=\"point\" transform=\"translate(165.96,250.08)\" d=\"M10.84,0A10.84,10.84 0 1,1 0,-10.84A10.84,10.84 0 0,1 10.84,0Z\" style=\"opacity: 0.7; stroke-width: 1px; fill: rgb(31, 119, 180); fill-opacity: 1; stroke: rgb(255, 255, 255); stroke-opacity: 1;\"/><path class=\"point\" transform=\"translate(422.84,50.21)\" d=\"M10.62,0A10.62,10.62 0 1,1 0,-10.62A10.62,10.62 0 0,1 10.62,0Z\" style=\"opacity: 0.7; stroke-width: 1px; fill: rgb(31, 119, 180); fill-opacity: 1; stroke: rgb(255, 255, 255); stroke-opacity: 1;\"/><path class=\"point\" transform=\"translate(438.5,68.81)\" d=\"M12.63,0A12.63,12.63 0 1,1 0,-12.63A12.63,12.63 0 0,1 12.63,0Z\" style=\"opacity: 0.7; stroke-width: 1px; fill: rgb(31, 119, 180); fill-opacity: 1; stroke: rgb(255, 255, 255); stroke-opacity: 1;\"/><path class=\"point\" transform=\"translate(404.04,88.56)\" d=\"M7.69,0A7.69,7.69 0 1,1 0,-7.69A7.69,7.69 0 0,1 7.69,0Z\" style=\"opacity: 0.7; stroke-width: 1px; fill: rgb(31, 119, 180); fill-opacity: 1; stroke: rgb(255, 255, 255); stroke-opacity: 1;\"/><path class=\"point\" transform=\"translate(430.36,83.33)\" d=\"M13.04,0A13.04,13.04 0 1,1 0,-13.04A13.04,13.04 0 0,1 13.04,0Z\" style=\"opacity: 0.7; stroke-width: 1px; fill: rgb(31, 119, 180); fill-opacity: 1; stroke: rgb(255, 255, 255); stroke-opacity: 1;\"/><path class=\"point\" transform=\"translate(379.61,76.8)\" d=\"M8.82,0A8.82,8.82 0 1,1 0,-8.82A8.82,8.82 0 0,1 8.82,0Z\" style=\"opacity: 0.7; stroke-width: 1px; fill: rgb(31, 119, 180); fill-opacity: 1; stroke: rgb(255, 255, 255); stroke-opacity: 1;\"/><path class=\"point\" transform=\"translate(458.55,80.99)\" d=\"M11.8,0A11.8,11.8 0 1,1 0,-11.8A11.8,11.8 0 0,1 11.8,0Z\" style=\"opacity: 0.7; stroke-width: 1px; fill: rgb(31, 119, 180); fill-opacity: 1; stroke: rgb(255, 255, 255); stroke-opacity: 1;\"/><path class=\"point\" transform=\"translate(438.5,108.55)\" d=\"M10.06,0A10.06,10.06 0 1,1 0,-10.06A10.06,10.06 0 0,1 10.06,0Z\" style=\"opacity: 0.7; stroke-width: 1px; fill: rgb(31, 119, 180); fill-opacity: 1; stroke: rgb(255, 255, 255); stroke-opacity: 1;\"/></g><g class=\"text\"/></g><g class=\"trace scatter trace714150\" style=\"stroke-miterlimit: 2; opacity: 1;\"><g class=\"fills\"/><g class=\"errorbars\"/><g class=\"lines\"/><g class=\"points\"><path class=\"point\" transform=\"translate(199.79,57.44)\" d=\"M5.65,0A5.65,5.65 0 1,1 0,-5.65A5.65,5.65 0 0,1 5.65,0Z\" style=\"opacity: 0.7; stroke-width: 1px; fill: rgb(255, 127, 14); fill-opacity: 1; stroke: rgb(255, 255, 255); stroke-opacity: 1;\"/><path class=\"point\" transform=\"translate(194.78,27.34)\" d=\"M9.71,0A9.71,9.71 0 1,1 0,-9.71A9.71,9.71 0 0,1 9.71,0Z\" style=\"opacity: 0.7; stroke-width: 1px; fill: rgb(255, 127, 14); fill-opacity: 1; stroke: rgb(255, 255, 255); stroke-opacity: 1;\"/><path class=\"point\" transform=\"translate(186.01,25.67)\" d=\"M9.68,0A9.68,9.68 0 1,1 0,-9.68A9.68,9.68 0 0,1 9.68,0Z\" style=\"opacity: 0.7; stroke-width: 1px; fill: rgb(255, 127, 14); fill-opacity: 1; stroke: rgb(255, 255, 255); stroke-opacity: 1;\"/><path class=\"point\" transform=\"translate(295.65,42.83)\" d=\"M10.56,0A10.56,10.56 0 1,1 0,-10.56A10.56,10.56 0 0,1 10.56,0Z\" style=\"opacity: 0.7; stroke-width: 1px; fill: rgb(255, 127, 14); fill-opacity: 1; stroke: rgb(255, 255, 255); stroke-opacity: 1;\"/><path class=\"point\" transform=\"translate(83.26,39.95)\" d=\"M9.47,0A9.47,9.47 0 1,1 0,-9.47A9.47,9.47 0 0,1 9.47,0Z\" style=\"opacity: 0.7; stroke-width: 1px; fill: rgb(255, 127, 14); fill-opacity: 1; stroke: rgb(255, 255, 255); stroke-opacity: 1;\"/><path class=\"point\" transform=\"translate(338.88,47.52)\" d=\"M8.32,0A8.32,8.32 0 1,1 0,-8.32A8.32,8.32 0 0,1 8.32,0Z\" style=\"opacity: 0.7; stroke-width: 1px; fill: rgb(255, 127, 14); fill-opacity: 1; stroke: rgb(255, 255, 255); stroke-opacity: 1;\"/><path class=\"point\" transform=\"translate(338.26,45.83)\" d=\"M8.9,0A8.9,8.9 0 1,1 0,-8.9A8.9,8.9 0 0,1 8.9,0Z\" style=\"opacity: 0.7; stroke-width: 1px; fill: rgb(255, 127, 14); fill-opacity: 1; stroke: rgb(255, 255, 255); stroke-opacity: 1;\"/><path class=\"point\" transform=\"translate(316.33,40.85)\" d=\"M8.03,0A8.03,8.03 0 1,1 0,-8.03A8.03,8.03 0 0,1 8.03,0Z\" style=\"opacity: 0.7; stroke-width: 1px; fill: rgb(255, 127, 14); fill-opacity: 1; stroke: rgb(255, 255, 255); stroke-opacity: 1;\"/><path class=\"point\" transform=\"translate(170.35,35.28)\" d=\"M9.53,0A9.53,9.53 0 1,1 0,-9.53A9.53,9.53 0 0,1 9.53,0Z\" style=\"opacity: 0.7; stroke-width: 1px; fill: rgb(255, 127, 14); fill-opacity: 1; stroke: rgb(255, 255, 255); stroke-opacity: 1;\"/><path class=\"point\" transform=\"translate(313.82,25.07)\" d=\"M10.08,0A10.08,10.08 0 1,1 0,-10.08A10.08,10.08 0 0,1 10.08,0Z\" style=\"opacity: 0.7; stroke-width: 1px; fill: rgb(255, 127, 14); fill-opacity: 1; stroke: rgb(255, 255, 255); stroke-opacity: 1;\"/><path class=\"point\" transform=\"translate(85.77,27)\" d=\"M7.52,0A7.52,7.52 0 1,1 0,-7.52A7.52,7.52 0 0,1 7.52,0Z\" style=\"opacity: 0.7; stroke-width: 1px; fill: rgb(255, 127, 14); fill-opacity: 1; stroke: rgb(255, 255, 255); stroke-opacity: 1;\"/><path class=\"point\" transform=\"translate(187.26,35.2)\" d=\"M9.45,0A9.45,9.45 0 1,1 0,-9.45A9.45,9.45 0 0,1 9.45,0Z\" style=\"opacity: 0.7; stroke-width: 1px; fill: rgb(255, 127, 14); fill-opacity: 1; stroke: rgb(255, 255, 255); stroke-opacity: 1;\"/><path class=\"point\" transform=\"translate(175.36,39.54)\" d=\"M10.95,0A10.95,10.95 0 1,1 0,-10.95A10.95,10.95 0 0,1 10.95,0Z\" style=\"opacity: 0.7; stroke-width: 1px; fill: rgb(255, 127, 14); fill-opacity: 1; stroke: rgb(255, 255, 255); stroke-opacity: 1;\"/><path class=\"point\" transform=\"translate(98.3,42.85)\" d=\"M8.48,0A8.48,8.48 0 1,1 0,-8.48A8.48,8.48 0 0,1 8.48,0Z\" style=\"opacity: 0.7; stroke-width: 1px; fill: rgb(255, 127, 14); fill-opacity: 1; stroke: rgb(255, 255, 255); stroke-opacity: 1;\"/><path class=\"point\" transform=\"translate(154.68,40.59)\" d=\"M8.59,0A8.59,8.59 0 1,1 0,-8.59A8.59,8.59 0 0,1 8.59,0Z\" style=\"opacity: 0.7; stroke-width: 1px; fill: rgb(255, 127, 14); fill-opacity: 1; stroke: rgb(255, 255, 255); stroke-opacity: 1;\"/><path class=\"point\" transform=\"translate(68.22,40.55)\" d=\"M9.59,0A9.59,9.59 0 1,1 0,-9.59A9.59,9.59 0 0,1 9.59,0Z\" style=\"opacity: 0.7; stroke-width: 1px; fill: rgb(255, 127, 14); fill-opacity: 1; stroke: rgb(255, 255, 255); stroke-opacity: 1;\"/></g><g class=\"text\"/></g><g class=\"trace scatter trace8880b9\" style=\"stroke-miterlimit: 2; opacity: 1;\"><g class=\"fills\"/><g class=\"errorbars\"/><g class=\"lines\"/><g class=\"points\"><path class=\"point\" transform=\"translate(221.1,65.02)\" d=\"M5.65,0A5.65,5.65 0 1,1 0,-5.65A5.65,5.65 0 0,1 5.65,0Z\" style=\"opacity: 0.7; stroke-width: 1px; fill: rgb(44, 160, 44); fill-opacity: 1; stroke: rgb(255, 255, 255); stroke-opacity: 1;\"/><path class=\"point\" transform=\"translate(201.67,33.84)\" d=\"M9.71,0A9.71,9.71 0 1,1 0,-9.71A9.71,9.71 0 0,1 9.71,0Z\" style=\"opacity: 0.7; stroke-width: 1px; fill: rgb(44, 160, 44); fill-opacity: 1; stroke: rgb(255, 255, 255); stroke-opacity: 1;\"/><path class=\"point\" transform=\"translate(189.77,29)\" d=\"M9.68,0A9.68,9.68 0 1,1 0,-9.68A9.68,9.68 0 0,1 9.68,0Z\" style=\"opacity: 0.7; stroke-width: 1px; fill: rgb(44, 160, 44); fill-opacity: 1; stroke: rgb(255, 255, 255); stroke-opacity: 1;\"/><path class=\"point\" transform=\"translate(300.04,47.39)\" d=\"M10.56,0A10.56,10.56 0 1,1 0,-10.56A10.56,10.56 0 0,1 10.56,0Z\" style=\"opacity: 0.7; stroke-width: 1px; fill: rgb(44, 160, 44); fill-opacity: 1; stroke: rgb(255, 255, 255); stroke-opacity: 1;\"/><path class=\"point\" transform=\"translate(84.51,41.21)\" d=\"M9.47,0A9.47,9.47 0 1,1 0,-9.47A9.47,9.47 0 0,1 9.47,0Z\" style=\"opacity: 0.7; stroke-width: 1px; fill: rgb(44, 160, 44); fill-opacity: 1; stroke: rgb(255, 255, 255); stroke-opacity: 1;\"/><path class=\"point\" transform=\"translate(343.27,52.36)\" d=\"M8.32,0A8.32,8.32 0 1,1 0,-8.32A8.32,8.32 0 0,1 8.32,0Z\" style=\"opacity: 0.7; stroke-width: 1px; fill: rgb(44, 160, 44); fill-opacity: 1; stroke: rgb(255, 255, 255); stroke-opacity: 1;\"/><path class=\"point\" transform=\"translate(263.07,51.47)\" d=\"M8.9,0A8.9,8.9 0 1,1 0,-8.9A8.9,8.9 0 0,1 8.9,0Z\" style=\"opacity: 0.7; stroke-width: 1px; fill: rgb(44, 160, 44); fill-opacity: 1; stroke: rgb(255, 255, 255); stroke-opacity: 1;\"/><path class=\"point\" transform=\"translate(320.71,46.09)\" d=\"M8.03,0A8.03,8.03 0 1,1 0,-8.03A8.03,8.03 0 0,1 8.03,0Z\" style=\"opacity: 0.7; stroke-width: 1px; fill: rgb(44, 160, 44); fill-opacity: 1; stroke: rgb(255, 255, 255); stroke-opacity: 1;\"/><path class=\"point\" transform=\"translate(177.24,40.57)\" d=\"M9.53,0A9.53,9.53 0 1,1 0,-9.53A9.53,9.53 0 0,1 9.53,0Z\" style=\"opacity: 0.7; stroke-width: 1px; fill: rgb(44, 160, 44); fill-opacity: 1; stroke: rgb(255, 255, 255); stroke-opacity: 1;\"/><path class=\"point\" transform=\"translate(318.21,29.14)\" d=\"M10.08,0A10.08,10.08 0 1,1 0,-10.08A10.08,10.08 0 0,1 10.08,0Z\" style=\"opacity: 0.7; stroke-width: 1px; fill: rgb(44, 160, 44); fill-opacity: 1; stroke: rgb(255, 255, 255); stroke-opacity: 1;\"/><path class=\"point\" transform=\"translate(88.9,33.47)\" d=\"M7.53,0A7.53,7.53 0 1,1 0,-7.53A7.53,7.53 0 0,1 7.53,0Z\" style=\"opacity: 0.7; stroke-width: 1px; fill: rgb(44, 160, 44); fill-opacity: 1; stroke: rgb(255, 255, 255); stroke-opacity: 1;\"/><path class=\"point\" transform=\"translate(188.52,36.32)\" d=\"M9.45,0A9.45,9.45 0 1,1 0,-9.45A9.45,9.45 0 0,1 9.45,0Z\" style=\"opacity: 0.7; stroke-width: 1px; fill: rgb(44, 160, 44); fill-opacity: 1; stroke: rgb(255, 255, 255); stroke-opacity: 1;\"/><path class=\"point\" transform=\"translate(181,40.34)\" d=\"M10.95,0A10.95,10.95 0 1,1 0,-10.95A10.95,10.95 0 0,1 10.95,0Z\" style=\"opacity: 0.7; stroke-width: 1px; fill: rgb(44, 160, 44); fill-opacity: 1; stroke: rgb(255, 255, 255); stroke-opacity: 1;\"/><path class=\"point\" transform=\"translate(110.2,43.77)\" d=\"M8.47,0A8.47,8.47 0 1,1 0,-8.47A8.47,8.47 0 0,1 8.47,0Z\" style=\"opacity: 0.7; stroke-width: 1px; fill: rgb(44, 160, 44); fill-opacity: 1; stroke: rgb(255, 255, 255); stroke-opacity: 1;\"/><path class=\"point\" transform=\"translate(149.67,35.86)\" d=\"M8.61,0A8.61,8.61 0 1,1 0,-8.61A8.61,8.61 0 0,1 8.61,0Z\" style=\"opacity: 0.7; stroke-width: 1px; fill: rgb(44, 160, 44); fill-opacity: 1; stroke: rgb(255, 255, 255); stroke-opacity: 1;\"/><path class=\"point\" transform=\"translate(63.21,34.23)\" d=\"M9.57,0A9.57,9.57 0 1,1 0,-9.57A9.57,9.57 0 0,1 9.57,0Z\" style=\"opacity: 0.7; stroke-width: 1px; fill: rgb(44, 160, 44); fill-opacity: 1; stroke: rgb(255, 255, 255); stroke-opacity: 1;\"/></g><g class=\"text\"/></g><g class=\"trace scatter trace031721\" style=\"stroke-miterlimit: 2; opacity: 1;\"><g class=\"fills\"/><g class=\"errorbars\"/><g class=\"lines\"/><g class=\"points\"><path class=\"point\" transform=\"translate(78.88,57.52)\" d=\"M10.07,0A10.07,10.07 0 1,1 0,-10.07A10.07,10.07 0 0,1 10.07,0Z\" style=\"opacity: 0.7; stroke-width: 1px; fill: rgb(214, 39, 40); fill-opacity: 1; stroke: rgb(255, 255, 255); stroke-opacity: 1;\"/><path class=\"point\" transform=\"translate(137.77,51.62)\" d=\"M7.46,0A7.46,7.46 0 1,1 0,-7.46A7.46,7.46 0 0,1 7.46,0Z\" style=\"opacity: 0.7; stroke-width: 1px; fill: rgb(214, 39, 40); fill-opacity: 1; stroke: rgb(255, 255, 255); stroke-opacity: 1;\"/><path class=\"point\" transform=\"translate(146.54,50.31)\" d=\"M6.83,0A6.83,6.83 0 1,1 0,-6.83A6.83,6.83 0 0,1 6.83,0Z\" style=\"opacity: 0.7; stroke-width: 1px; fill: rgb(214, 39, 40); fill-opacity: 1; stroke: rgb(255, 255, 255); stroke-opacity: 1;\"/><path class=\"point\" transform=\"translate(106.44,61.27)\" d=\"M9.72,0A9.72,9.72 0 1,1 0,-9.72A9.72,9.72 0 0,1 9.72,0Z\" style=\"opacity: 0.7; stroke-width: 1px; fill: rgb(214, 39, 40); fill-opacity: 1; stroke: rgb(255, 255, 255); stroke-opacity: 1;\"/><path class=\"point\" transform=\"translate(105.82,54.24)\" d=\"M7.55,0A7.55,7.55 0 1,1 0,-7.55A7.55,7.55 0 0,1 7.55,0Z\" style=\"opacity: 0.7; stroke-width: 1px; fill: rgb(214, 39, 40); fill-opacity: 1; stroke: rgb(255, 255, 255); stroke-opacity: 1;\"/><path class=\"point\" transform=\"translate(300.04,77.92)\" d=\"M10.98,0A10.98,10.98 0 1,1 0,-10.98A10.98,10.98 0 0,1 10.98,0Z\" style=\"opacity: 0.7; stroke-width: 1px; fill: rgb(214, 39, 40); fill-opacity: 1; stroke: rgb(255, 255, 255); stroke-opacity: 1;\"/><path class=\"point\" transform=\"translate(175.99,68.1)\" d=\"M8.96,0A8.96,8.96 0 1,1 0,-8.96A8.96,8.96 0 0,1 8.96,0Z\" style=\"opacity: 0.7; stroke-width: 1px; fill: rgb(214, 39, 40); fill-opacity: 1; stroke: rgb(255, 255, 255); stroke-opacity: 1;\"/><path class=\"point\" transform=\"translate(108.95,55.1)\" d=\"M8.67,0A8.67,8.67 0 1,1 0,-8.67A8.67,8.67 0 0,1 8.67,0Z\" style=\"opacity: 0.7; stroke-width: 1px; fill: rgb(214, 39, 40); fill-opacity: 1; stroke: rgb(255, 255, 255); stroke-opacity: 1;\"/><path class=\"point\" transform=\"translate(137.77,57.33)\" d=\"M8.33,0A8.33,8.33 0 1,1 0,-8.33A8.33,8.33 0 0,1 8.33,0Z\" style=\"opacity: 0.7; stroke-width: 1px; fill: rgb(214, 39, 40); fill-opacity: 1; stroke: rgb(255, 255, 255); stroke-opacity: 1;\"/><path class=\"point\" transform=\"translate(167.84,71.54)\" d=\"M9.7,0A9.7,9.7 0 1,1 0,-9.7A9.7,9.7 0 0,1 9.7,0Z\" style=\"opacity: 0.7; stroke-width: 1px; fill: rgb(214, 39, 40); fill-opacity: 1; stroke: rgb(255, 255, 255); stroke-opacity: 1;\"/><path class=\"point\" transform=\"translate(169.09,82.38)\" d=\"M11.72,0A11.72,11.72 0 1,1 0,-11.72A11.72,11.72 0 0,1 11.72,0Z\" style=\"opacity: 0.7; stroke-width: 1px; fill: rgb(214, 39, 40); fill-opacity: 1; stroke: rgb(255, 255, 255); stroke-opacity: 1;\"/><path class=\"point\" transform=\"translate(272.47,75.87)\" d=\"M11.3,0A11.3,11.3 0 1,1 0,-11.3A11.3,11.3 0 0,1 11.3,0Z\" style=\"opacity: 0.7; stroke-width: 1px; fill: rgb(214, 39, 40); fill-opacity: 1; stroke: rgb(255, 255, 255); stroke-opacity: 1;\"/><path class=\"point\" transform=\"translate(273.72,74.62)\" d=\"M9.86,0A9.86,9.86 0 1,1 0,-9.86A9.86,9.86 0 0,1 9.86,0Z\" style=\"opacity: 0.7; stroke-width: 1px; fill: rgb(214, 39, 40); fill-opacity: 1; stroke: rgb(255, 255, 255); stroke-opacity: 1;\"/><path class=\"point\" transform=\"translate(329.49,79.21)\" d=\"M12.89,0A12.89,12.89 0 1,1 0,-12.89A12.89,12.89 0 0,1 12.89,0Z\" style=\"opacity: 0.7; stroke-width: 1px; fill: rgb(214, 39, 40); fill-opacity: 1; stroke: rgb(255, 255, 255); stroke-opacity: 1;\"/><path class=\"point\" transform=\"translate(231.75,62.63)\" d=\"M10.5,0A10.5,10.5 0 1,1 0,-10.5A10.5,10.5 0 0,1 10.5,0Z\" style=\"opacity: 0.7; stroke-width: 1px; fill: rgb(214, 39, 40); fill-opacity: 1; stroke: rgb(255, 255, 255); stroke-opacity: 1;\"/><path class=\"point\" transform=\"translate(115.21,54.13)\" d=\"M8.95,0A8.95,8.95 0 1,1 0,-8.95A8.95,8.95 0 0,1 8.95,0Z\" style=\"opacity: 0.7; stroke-width: 1px; fill: rgb(214, 39, 40); fill-opacity: 1; stroke: rgb(255, 255, 255); stroke-opacity: 1;\"/><path class=\"point\" transform=\"translate(276.86,113.8)\" d=\"M14.14,0A14.14,14.14 0 1,1 0,-14.14A14.14,14.14 0 0,1 14.14,0Z\" style=\"opacity: 0.7; stroke-width: 1px; fill: rgb(214, 39, 40); fill-opacity: 1; stroke: rgb(255, 255, 255); stroke-opacity: 1;\"/></g><g class=\"text\"/></g><g class=\"trace scatter trace9b1ec0\" style=\"stroke-miterlimit: 2; opacity: 1;\"><g class=\"fills\"/><g class=\"errorbars\"/><g class=\"lines\"/><g class=\"points\"><path class=\"point\" transform=\"translate(80.13,65.5)\" d=\"M10.09,0A10.09,10.09 0 1,1 0,-10.09A10.09,10.09 0 0,1 10.09,0Z\" style=\"opacity: 0.7; stroke-width: 1px; fill: rgb(148, 103, 189); fill-opacity: 1; stroke: rgb(255, 255, 255); stroke-opacity: 1;\"/><path class=\"point\" transform=\"translate(142.15,60)\" d=\"M7.43,0A7.43,7.43 0 1,1 0,-7.43A7.43,7.43 0 0,1 7.43,0Z\" style=\"opacity: 0.7; stroke-width: 1px; fill: rgb(148, 103, 189); fill-opacity: 1; stroke: rgb(255, 255, 255); stroke-opacity: 1;\"/><path class=\"point\" transform=\"translate(61.33,59.25)\" d=\"M6.88,0A6.88,6.88 0 1,1 0,-6.88A6.88,6.88 0 0,1 6.88,0Z\" style=\"opacity: 0.7; stroke-width: 1px; fill: rgb(148, 103, 189); fill-opacity: 1; stroke: rgb(255, 255, 255); stroke-opacity: 1;\"/><path class=\"point\" transform=\"translate(112.71,70.73)\" d=\"M9.7,0A9.7,9.7 0 1,1 0,-9.7A9.7,9.7 0 0,1 9.7,0Z\" style=\"opacity: 0.7; stroke-width: 1px; fill: rgb(148, 103, 189); fill-opacity: 1; stroke: rgb(255, 255, 255); stroke-opacity: 1;\"/><path class=\"point\" transform=\"translate(122.11,62.14)\" d=\"M7.55,0A7.55,7.55 0 1,1 0,-7.55A7.55,7.55 0 0,1 7.55,0Z\" style=\"opacity: 0.7; stroke-width: 1px; fill: rgb(148, 103, 189); fill-opacity: 1; stroke: rgb(255, 255, 255); stroke-opacity: 1;\"/><path class=\"point\" transform=\"translate(306.3,79.56)\" d=\"M10.94,0A10.94,10.94 0 1,1 0,-10.94A10.94,10.94 0 0,1 10.94,0Z\" style=\"opacity: 0.7; stroke-width: 1px; fill: rgb(148, 103, 189); fill-opacity: 1; stroke: rgb(255, 255, 255); stroke-opacity: 1;\"/><path class=\"point\" transform=\"translate(193.53,72.27)\" d=\"M9.01,0A9.01,9.01 0 1,1 0,-9.01A9.01,9.01 0 0,1 9.01,0Z\" style=\"opacity: 0.7; stroke-width: 1px; fill: rgb(148, 103, 189); fill-opacity: 1; stroke: rgb(255, 255, 255); stroke-opacity: 1;\"/><path class=\"point\" transform=\"translate(209.82,69.43)\" d=\"M8.67,0A8.67,8.67 0 1,1 0,-8.67A8.67,8.67 0 0,1 8.67,0Z\" style=\"opacity: 0.7; stroke-width: 1px; fill: rgb(148, 103, 189); fill-opacity: 1; stroke: rgb(255, 255, 255); stroke-opacity: 1;\"/><path class=\"point\" transform=\"translate(144.66,73.97)\" d=\"M8.37,0A8.37,8.37 0 1,1 0,-8.37A8.37,8.37 0 0,1 8.37,0Z\" style=\"opacity: 0.7; stroke-width: 1px; fill: rgb(148, 103, 189); fill-opacity: 1; stroke: rgb(255, 255, 255); stroke-opacity: 1;\"/><path class=\"point\" transform=\"translate(172.85,80.32)\" d=\"M9.7,0A9.7,9.7 0 1,1 0,-9.7A9.7,9.7 0 0,1 9.7,0Z\" style=\"opacity: 0.7; stroke-width: 1px; fill: rgb(148, 103, 189); fill-opacity: 1; stroke: rgb(255, 255, 255); stroke-opacity: 1;\"/><path class=\"point\" transform=\"translate(173.48,94.91)\" d=\"M11.71,0A11.71,11.71 0 1,1 0,-11.71A11.71,11.71 0 0,1 11.71,0Z\" style=\"opacity: 0.7; stroke-width: 1px; fill: rgb(148, 103, 189); fill-opacity: 1; stroke: rgb(255, 255, 255); stroke-opacity: 1;\"/><path class=\"point\" transform=\"translate(275.6,87.79)\" d=\"M11.28,0A11.28,11.28 0 1,1 0,-11.28A11.28,11.28 0 0,1 11.28,0Z\" style=\"opacity: 0.7; stroke-width: 1px; fill: rgb(148, 103, 189); fill-opacity: 1; stroke: rgb(255, 255, 255); stroke-opacity: 1;\"/><path class=\"point\" transform=\"translate(283.12,92.29)\" d=\"M9.85,0A9.85,9.85 0 1,1 0,-9.85A9.85,9.85 0 0,1 9.85,0Z\" style=\"opacity: 0.7; stroke-width: 1px; fill: rgb(148, 103, 189); fill-opacity: 1; stroke: rgb(255, 255, 255); stroke-opacity: 1;\"/><path class=\"point\" transform=\"translate(331.99,89.24)\" d=\"M12.89,0A12.89,12.89 0 1,1 0,-12.89A12.89,12.89 0 0,1 12.89,0Z\" style=\"opacity: 0.7; stroke-width: 1px; fill: rgb(148, 103, 189); fill-opacity: 1; stroke: rgb(255, 255, 255); stroke-opacity: 1;\"/><path class=\"point\" transform=\"translate(243.02,68.68)\" d=\"M10.5,0A10.5,10.5 0 1,1 0,-10.5A10.5,10.5 0 0,1 10.5,0Z\" style=\"opacity: 0.7; stroke-width: 1px; fill: rgb(148, 103, 189); fill-opacity: 1; stroke: rgb(255, 255, 255); stroke-opacity: 1;\"/><path class=\"point\" transform=\"translate(111.45,65.04)\" d=\"M9.37,0A9.37,9.37 0 1,1 0,-9.37A9.37,9.37 0 0,1 9.37,0Z\" style=\"opacity: 0.7; stroke-width: 1px; fill: rgb(148, 103, 189); fill-opacity: 1; stroke: rgb(255, 255, 255); stroke-opacity: 1;\"/><path class=\"point\" transform=\"translate(276.86,122.56)\" d=\"M13.88,0A13.88,13.88 0 1,1 0,-13.88A13.88,13.88 0 0,1 13.88,0Z\" style=\"opacity: 0.7; stroke-width: 1px; fill: rgb(148, 103, 189); fill-opacity: 1; stroke: rgb(255, 255, 255); stroke-opacity: 1;\"/><path class=\"point\" transform=\"translate(66.34,74.89)\" d=\"M9.8,0A9.8,9.8 0 1,1 0,-9.8A9.8,9.8 0 0,1 9.8,0Z\" style=\"opacity: 0.7; stroke-width: 1px; fill: rgb(148, 103, 189); fill-opacity: 1; stroke: rgb(255, 255, 255); stroke-opacity: 1;\"/><path class=\"point\" transform=\"translate(97.04,79.3)\" d=\"M8.73,0A8.73,8.73 0 1,1 0,-8.73A8.73,8.73 0 0,1 8.73,0Z\" style=\"opacity: 0.7; stroke-width: 1px; fill: rgb(148, 103, 189); fill-opacity: 1; stroke: rgb(255, 255, 255); stroke-opacity: 1;\"/></g><g class=\"text\"/></g><g class=\"trace scatter tracea56942\" style=\"stroke-miterlimit: 2; opacity: 1;\"><g class=\"fills\"/><g class=\"errorbars\"/><g class=\"lines\"/><g class=\"points\"><path class=\"point\" transform=\"translate(347.03,182.71)\" d=\"M4.59,0A4.59,4.59 0 1,1 0,-4.59A4.59,4.59 0 0,1 4.59,0Z\" style=\"opacity: 0.7; stroke-width: 1px; fill: rgb(140, 86, 75); fill-opacity: 1; stroke: rgb(255, 255, 255); stroke-opacity: 1;\"/><path class=\"point\" transform=\"translate(374.6,160.3)\" d=\"M4.69,0A4.69,4.69 0 1,1 0,-4.69A4.69,4.69 0 0,1 4.69,0Z\" style=\"opacity: 0.7; stroke-width: 1px; fill: rgb(140, 86, 75); fill-opacity: 1; stroke: rgb(255, 255, 255); stroke-opacity: 1;\"/><path class=\"point\" transform=\"translate(347.65,148.9)\" d=\"M5.88,0A5.88,5.88 0 1,1 0,-5.88A5.88,5.88 0 0,1 5.88,0Z\" style=\"opacity: 0.7; stroke-width: 1px; fill: rgb(140, 86, 75); fill-opacity: 1; stroke: rgb(255, 255, 255); stroke-opacity: 1;\"/><path class=\"point\" transform=\"translate(374.6,179.46)\" d=\"M5.61,0A5.61,5.61 0 1,1 0,-5.61A5.61,5.61 0 0,1 5.61,0Z\" style=\"opacity: 0.7; stroke-width: 1px; fill: rgb(140, 86, 75); fill-opacity: 1; stroke: rgb(255, 255, 255); stroke-opacity: 1;\"/><path class=\"point\" transform=\"translate(394.64,150.33)\" d=\"M4.17,0A4.17,4.17 0 1,1 0,-4.17A4.17,4.17 0 0,1 4.17,0Z\" style=\"opacity: 0.7; stroke-width: 1px; fill: rgb(140, 86, 75); fill-opacity: 1; stroke: rgb(255, 255, 255); stroke-opacity: 1;\"/><path class=\"point\" transform=\"translate(311.32,136.58)\" d=\"M4.22,0A4.22,4.22 0 1,1 0,-4.22A4.22,4.22 0 0,1 4.22,0Z\" style=\"opacity: 0.7; stroke-width: 1px; fill: rgb(140, 86, 75); fill-opacity: 1; stroke: rgb(255, 255, 255); stroke-opacity: 1;\"/><path class=\"point\" transform=\"translate(350.16,158.84)\" d=\"M4.29,0A4.29,4.29 0 1,1 0,-4.29A4.29,4.29 0 0,1 4.29,0Z\" style=\"opacity: 0.7; stroke-width: 1px; fill: rgb(140, 86, 75); fill-opacity: 1; stroke: rgb(255, 255, 255); stroke-opacity: 1;\"/><path class=\"point\" transform=\"translate(324.47,167.9)\" d=\"M4.34,0A4.34,4.34 0 1,1 0,-4.34A4.34,4.34 0 0,1 4.34,0Z\" style=\"opacity: 0.7; stroke-width: 1px; fill: rgb(140, 86, 75); fill-opacity: 1; stroke: rgb(255, 255, 255); stroke-opacity: 1;\"/><path class=\"point\" transform=\"translate(363.94,170.67)\" d=\"M4.61,0A4.61,4.61 0 1,1 0,-4.61A4.61,4.61 0 0,1 4.61,0Z\" style=\"opacity: 0.7; stroke-width: 1px; fill: rgb(140, 86, 75); fill-opacity: 1; stroke: rgb(255, 255, 255); stroke-opacity: 1;\"/><path class=\"point\" transform=\"translate(349.53,161.43)\" d=\"M4.21,0A4.21,4.21 0 1,1 0,-4.21A4.21,4.21 0 0,1 4.21,0Z\" style=\"opacity: 0.7; stroke-width: 1px; fill: rgb(140, 86, 75); fill-opacity: 1; stroke: rgb(255, 255, 255); stroke-opacity: 1;\"/><path class=\"point\" transform=\"translate(281.87,150.31)\" d=\"M4.98,0A4.98,4.98 0 1,1 0,-4.98A4.98,4.98 0 0,1 4.98,0Z\" style=\"opacity: 0.7; stroke-width: 1px; fill: rgb(140, 86, 75); fill-opacity: 1; stroke: rgb(255, 255, 255); stroke-opacity: 1;\"/><path class=\"point\" transform=\"translate(346.4,153.18)\" d=\"M5.23,0A5.23,5.23 0 1,1 0,-5.23A5.23,5.23 0 0,1 5.23,0Z\" style=\"opacity: 0.7; stroke-width: 1px; fill: rgb(140, 86, 75); fill-opacity: 1; stroke: rgb(255, 255, 255); stroke-opacity: 1;\"/><path class=\"point\" transform=\"translate(406.55,144.08)\" d=\"M4.3,0A4.3,4.3 0 1,1 0,-4.3A4.3,4.3 0 0,1 4.3,0Z\" style=\"opacity: 0.7; stroke-width: 1px; fill: rgb(140, 86, 75); fill-opacity: 1; stroke: rgb(255, 255, 255); stroke-opacity: 1;\"/><path class=\"point\" transform=\"translate(337.63,151.88)\" d=\"M5.69,0A5.69,5.69 0 1,1 0,-5.69A5.69,5.69 0 0,1 5.69,0Z\" style=\"opacity: 0.7; stroke-width: 1px; fill: rgb(140, 86, 75); fill-opacity: 1; stroke: rgb(255, 255, 255); stroke-opacity: 1;\"/></g><g class=\"text\"/></g><g class=\"trace scatter trace9225f1\" style=\"stroke-miterlimit: 2; opacity: 1;\"><g class=\"fills\"/><g class=\"errorbars\"/><g class=\"lines\"/><g class=\"points\"><path class=\"point\" transform=\"translate(377.1,182.28)\" d=\"M4.59,0A4.59,4.59 0 1,1 0,-4.59A4.59,4.59 0 0,1 4.59,0Z\" style=\"opacity: 0.7; stroke-width: 1px; fill: rgb(227, 119, 194); fill-opacity: 1; stroke: rgb(255, 255, 255); stroke-opacity: 1;\"/><path class=\"point\" transform=\"translate(321.34,160.31)\" d=\"M4.69,0A4.69,4.69 0 1,1 0,-4.69A4.69,4.69 0 0,1 4.69,0Z\" style=\"opacity: 0.7; stroke-width: 1px; fill: rgb(227, 119, 194); fill-opacity: 1; stroke: rgb(255, 255, 255); stroke-opacity: 1;\"/><path class=\"point\" transform=\"translate(346.4,148.9)\" d=\"M5.88,0A5.88,5.88 0 1,1 0,-5.88A5.88,5.88 0 0,1 5.88,0Z\" style=\"opacity: 0.7; stroke-width: 1px; fill: rgb(227, 119, 194); fill-opacity: 1; stroke: rgb(255, 255, 255); stroke-opacity: 1;\"/><path class=\"point\" transform=\"translate(338.26,179.49)\" d=\"M5.61,0A5.61,5.61 0 1,1 0,-5.61A5.61,5.61 0 0,1 5.61,0Z\" style=\"opacity: 0.7; stroke-width: 1px; fill: rgb(227, 119, 194); fill-opacity: 1; stroke: rgb(255, 255, 255); stroke-opacity: 1;\"/><path class=\"point\" transform=\"translate(395.27,150.33)\" d=\"M4.17,0A4.17,4.17 0 1,1 0,-4.17A4.17,4.17 0 0,1 4.17,0Z\" style=\"opacity: 0.7; stroke-width: 1px; fill: rgb(227, 119, 194); fill-opacity: 1; stroke: rgb(255, 255, 255); stroke-opacity: 1;\"/><path class=\"point\" transform=\"translate(359.56,136.58)\" d=\"M4.22,0A4.22,4.22 0 1,1 0,-4.22A4.22,4.22 0 0,1 4.22,0Z\" style=\"opacity: 0.7; stroke-width: 1px; fill: rgb(227, 119, 194); fill-opacity: 1; stroke: rgb(255, 255, 255); stroke-opacity: 1;\"/><path class=\"point\" transform=\"translate(364.57,158.76)\" d=\"M4.29,0A4.29,4.29 0 1,1 0,-4.29A4.29,4.29 0 0,1 4.29,0Z\" style=\"opacity: 0.7; stroke-width: 1px; fill: rgb(227, 119, 194); fill-opacity: 1; stroke: rgb(255, 255, 255); stroke-opacity: 1;\"/><path class=\"point\" transform=\"translate(323.85,167.93)\" d=\"M4.34,0A4.34,4.34 0 1,1 0,-4.34A4.34,4.34 0 0,1 4.34,0Z\" style=\"opacity: 0.7; stroke-width: 1px; fill: rgb(227, 119, 194); fill-opacity: 1; stroke: rgb(255, 255, 255); stroke-opacity: 1;\"/><path class=\"point\" transform=\"translate(382.74,170.67)\" d=\"M4.61,0A4.61,4.61 0 1,1 0,-4.61A4.61,4.61 0 0,1 4.61,0Z\" style=\"opacity: 0.7; stroke-width: 1px; fill: rgb(227, 119, 194); fill-opacity: 1; stroke: rgb(255, 255, 255); stroke-opacity: 1;\"/><path class=\"point\" transform=\"translate(335.12,161.44)\" d=\"M4.21,0A4.21,4.21 0 1,1 0,-4.21A4.21,4.21 0 0,1 4.21,0Z\" style=\"opacity: 0.7; stroke-width: 1px; fill: rgb(227, 119, 194); fill-opacity: 1; stroke: rgb(255, 255, 255); stroke-opacity: 1;\"/><path class=\"point\" transform=\"translate(397.78,150.29)\" d=\"M4.98,0A4.98,4.98 0 1,1 0,-4.98A4.98,4.98 0 0,1 4.98,0Z\" style=\"opacity: 0.7; stroke-width: 1px; fill: rgb(227, 119, 194); fill-opacity: 1; stroke: rgb(255, 255, 255); stroke-opacity: 1;\"/><path class=\"point\" transform=\"translate(362.06,153.16)\" d=\"M5.23,0A5.23,5.23 0 1,1 0,-5.23A5.23,5.23 0 0,1 5.23,0Z\" style=\"opacity: 0.7; stroke-width: 1px; fill: rgb(227, 119, 194); fill-opacity: 1; stroke: rgb(255, 255, 255); stroke-opacity: 1;\"/><path class=\"point\" transform=\"translate(404.67,144.08)\" d=\"M4.3,0A4.3,4.3 0 1,1 0,-4.3A4.3,4.3 0 0,1 4.3,0Z\" style=\"opacity: 0.7; stroke-width: 1px; fill: rgb(227, 119, 194); fill-opacity: 1; stroke: rgb(255, 255, 255); stroke-opacity: 1;\"/><path class=\"point\" transform=\"translate(338.26,152.11)\" d=\"M5.69,0A5.69,5.69 0 1,1 0,-5.69A5.69,5.69 0 0,1 5.69,0Z\" style=\"opacity: 0.7; stroke-width: 1px; fill: rgb(227, 119, 194); fill-opacity: 1; stroke: rgb(255, 255, 255); stroke-opacity: 1;\"/></g><g class=\"text\"/></g><g class=\"trace scatter trace839620\" style=\"stroke-miterlimit: 2; opacity: 1;\"><g class=\"fills\"/><g class=\"errorbars\"/><g class=\"lines\"/><g class=\"points\"><path class=\"point\" transform=\"translate(275.6,118.53)\" d=\"M9.01,0A9.01,9.01 0 1,1 0,-9.01A9.01,9.01 0 0,1 9.01,0Z\" style=\"opacity: 0.7; stroke-width: 1px; fill: rgb(127, 127, 127); fill-opacity: 1; stroke: rgb(255, 255, 255); stroke-opacity: 1;\"/><path class=\"point\" transform=\"translate(155.31,120.79)\" d=\"M9.24,0A9.24,9.24 0 1,1 0,-9.24A9.24,9.24 0 0,1 9.24,0Z\" style=\"opacity: 0.7; stroke-width: 1px; fill: rgb(127, 127, 127); fill-opacity: 1; stroke: rgb(255, 255, 255); stroke-opacity: 1;\"/><path class=\"point\" transform=\"translate(226.74,116.52)\" d=\"M9.07,0A9.07,9.07 0 1,1 0,-9.07A9.07,9.07 0 0,1 9.07,0Z\" style=\"opacity: 0.7; stroke-width: 1px; fill: rgb(127, 127, 127); fill-opacity: 1; stroke: rgb(255, 255, 255); stroke-opacity: 1;\"/><path class=\"point\" transform=\"translate(285.63,110.92)\" d=\"M9.04,0A9.04,9.04 0 1,1 0,-9.04A9.04,9.04 0 0,1 9.04,0Z\" style=\"opacity: 0.7; stroke-width: 1px; fill: rgb(127, 127, 127); fill-opacity: 1; stroke: rgb(255, 255, 255); stroke-opacity: 1;\"/><path class=\"point\" transform=\"translate(333.87,132.11)\" d=\"M9.54,0A9.54,9.54 0 1,1 0,-9.54A9.54,9.54 0 0,1 9.54,0Z\" style=\"opacity: 0.7; stroke-width: 1px; fill: rgb(127, 127, 127); fill-opacity: 1; stroke: rgb(255, 255, 255); stroke-opacity: 1;\"/><path class=\"point\" transform=\"translate(279.99,96.2)\" d=\"M9.04,0A9.04,9.04 0 1,1 0,-9.04A9.04,9.04 0 0,1 9.04,0Z\" style=\"opacity: 0.7; stroke-width: 1px; fill: rgb(127, 127, 127); fill-opacity: 1; stroke: rgb(255, 255, 255); stroke-opacity: 1;\"/><path class=\"point\" transform=\"translate(272.47,123.78)\" d=\"M10.19,0A10.19,10.19 0 1,1 0,-10.19A10.19,10.19 0 0,1 10.19,0Z\" style=\"opacity: 0.7; stroke-width: 1px; fill: rgb(127, 127, 127); fill-opacity: 1; stroke: rgb(255, 255, 255); stroke-opacity: 1;\"/><path class=\"point\" transform=\"translate(376.47,102.87)\" d=\"M9.23,0A9.23,9.23 0 1,1 0,-9.23A9.23,9.23 0 0,1 9.23,0Z\" style=\"opacity: 0.7; stroke-width: 1px; fill: rgb(127, 127, 127); fill-opacity: 1; stroke: rgb(255, 255, 255); stroke-opacity: 1;\"/><path class=\"point\" transform=\"translate(257.43,154.57)\" d=\"M9.19,0A9.19,9.19 0 1,1 0,-9.19A9.19,9.19 0 0,1 9.19,0Z\" style=\"opacity: 0.7; stroke-width: 1px; fill: rgb(127, 127, 127); fill-opacity: 1; stroke: rgb(255, 255, 255); stroke-opacity: 1;\"/><path class=\"point\" transform=\"translate(342.64,99.51)\" d=\"M9.61,0A9.61,9.61 0 1,1 0,-9.61A9.61,9.61 0 0,1 9.61,0Z\" style=\"opacity: 0.7; stroke-width: 1px; fill: rgb(127, 127, 127); fill-opacity: 1; stroke: rgb(255, 255, 255); stroke-opacity: 1;\"/><path class=\"point\" transform=\"translate(283.75,115)\" d=\"M9.77,0A9.77,9.77 0 1,1 0,-9.77A9.77,9.77 0 0,1 9.77,0Z\" style=\"opacity: 0.7; stroke-width: 1px; fill: rgb(127, 127, 127); fill-opacity: 1; stroke: rgb(255, 255, 255); stroke-opacity: 1;\"/><path class=\"point\" transform=\"translate(246.78,106.03)\" d=\"M8.46,0A8.46,8.46 0 1,1 0,-8.46A8.46,8.46 0 0,1 8.46,0Z\" style=\"opacity: 0.7; stroke-width: 1px; fill: rgb(127, 127, 127); fill-opacity: 1; stroke: rgb(255, 255, 255); stroke-opacity: 1;\"/></g><g class=\"text\"/></g><g class=\"trace scatter traceb518a9\" style=\"stroke-miterlimit: 2; opacity: 1;\"><g class=\"fills\"/><g class=\"errorbars\"/><g class=\"lines\"/><g class=\"points\"><path class=\"point\" transform=\"translate(437.25,121.95)\" d=\"M9.93,0A9.93,9.93 0 1,1 0,-9.93A9.93,9.93 0 0,1 9.93,0Z\" style=\"opacity: 0.7; stroke-width: 1px; fill: rgb(188, 189, 34); fill-opacity: 1; stroke: rgb(255, 255, 255); stroke-opacity: 1;\"/><path class=\"point\" transform=\"translate(358.31,126.06)\" d=\"M10.33,0A10.33,10.33 0 1,1 0,-10.33A10.33,10.33 0 0,1 10.33,0Z\" style=\"opacity: 0.7; stroke-width: 1px; fill: rgb(188, 189, 34); fill-opacity: 1; stroke: rgb(255, 255, 255); stroke-opacity: 1;\"/><path class=\"point\" transform=\"translate(381.49,109.96)\" d=\"M9.19,0A9.19,9.19 0 1,1 0,-9.19A9.19,9.19 0 0,1 9.19,0Z\" style=\"opacity: 0.7; stroke-width: 1px; fill: rgb(188, 189, 34); fill-opacity: 1; stroke: rgb(255, 255, 255); stroke-opacity: 1;\"/><path class=\"point\" transform=\"translate(425.97,120.08)\" d=\"M9.96,0A9.96,9.96 0 1,1 0,-9.96A9.96,9.96 0 0,1 9.96,0Z\" style=\"opacity: 0.7; stroke-width: 1px; fill: rgb(188, 189, 34); fill-opacity: 1; stroke: rgb(255, 255, 255); stroke-opacity: 1;\"/><path class=\"point\" transform=\"translate(407.8,133.61)\" d=\"M10.09,0A10.09,10.09 0 1,1 0,-10.09A10.09,10.09 0 0,1 10.09,0Z\" style=\"opacity: 0.7; stroke-width: 1px; fill: rgb(188, 189, 34); fill-opacity: 1; stroke: rgb(255, 255, 255); stroke-opacity: 1;\"/><path class=\"point\" transform=\"translate(331.36,158.09)\" d=\"M12.18,0A12.18,12.18 0 1,1 0,-12.18A12.18,12.18 0 0,1 12.18,0Z\" style=\"opacity: 0.7; stroke-width: 1px; fill: rgb(188, 189, 34); fill-opacity: 1; stroke: rgb(255, 255, 255); stroke-opacity: 1;\"/><path class=\"point\" transform=\"translate(402.16,117.52)\" d=\"M11.46,0A11.46,11.46 0 1,1 0,-11.46A11.46,11.46 0 0,1 11.46,0Z\" style=\"opacity: 0.7; stroke-width: 1px; fill: rgb(188, 189, 34); fill-opacity: 1; stroke: rgb(255, 255, 255); stroke-opacity: 1;\"/><path class=\"point\" transform=\"translate(364.57,118.47)\" d=\"M8.1,0A8.1,8.1 0 1,1 0,-8.1A8.1,8.1 0 0,1 8.1,0Z\" style=\"opacity: 0.7; stroke-width: 1px; fill: rgb(188, 189, 34); fill-opacity: 1; stroke: rgb(255, 255, 255); stroke-opacity: 1;\"/><path class=\"point\" transform=\"translate(162.2,178.55)\" d=\"M10.95,0A10.95,10.95 0 1,1 0,-10.95A10.95,10.95 0 0,1 10.95,0Z\" style=\"opacity: 0.7; stroke-width: 1px; fill: rgb(188, 189, 34); fill-opacity: 1; stroke: rgb(255, 255, 255); stroke-opacity: 1;\"/><path class=\"point\" transform=\"translate(363.94,133.05)\" d=\"M11.21,0A11.21,11.21 0 1,1 0,-11.21A11.21,11.21 0 0,1 11.21,0Z\" style=\"opacity: 0.7; stroke-width: 1px; fill: rgb(188, 189, 34); fill-opacity: 1; stroke: rgb(255, 255, 255); stroke-opacity: 1;\"/><path class=\"point\" transform=\"translate(491.13,132.03)\" d=\"M7.67,0A7.67,7.67 0 1,1 0,-7.67A7.67,7.67 0 0,1 7.67,0Z\" style=\"opacity: 0.7; stroke-width: 1px; fill: rgb(188, 189, 34); fill-opacity: 1; stroke: rgb(255, 255, 255); stroke-opacity: 1;\"/><path class=\"point\" transform=\"translate(255.56,227.36)\" d=\"M9.22,0A9.22,9.22 0 1,1 0,-9.22A9.22,9.22 0 0,1 9.22,0Z\" style=\"opacity: 0.7; stroke-width: 1px; fill: rgb(188, 189, 34); fill-opacity: 1; stroke: rgb(255, 255, 255); stroke-opacity: 1;\"/></g><g class=\"text\"/></g><g class=\"trace scatter traceea5d2e\" style=\"stroke-miterlimit: 2; opacity: 1;\"><g class=\"fills\"/><g class=\"errorbars\"/><g class=\"lines\"/><g class=\"points\"><path class=\"point\" transform=\"translate(439.13,76.38)\" d=\"M9.97,0A9.97,9.97 0 1,1 0,-9.97A9.97,9.97 0 0,1 9.97,0Z\" style=\"opacity: 0.7; stroke-width: 1px; fill: rgb(23, 190, 207); fill-opacity: 1; stroke: rgb(255, 255, 255); stroke-opacity: 1;\"/><path class=\"point\" transform=\"translate(362.06,78.11)\" d=\"M10.39,0A10.39,10.39 0 1,1 0,-10.39A10.39,10.39 0 0,1 10.39,0Z\" style=\"opacity: 0.7; stroke-width: 1px; fill: rgb(23, 190, 207); fill-opacity: 1; stroke: rgb(255, 255, 255); stroke-opacity: 1;\"/><path class=\"point\" transform=\"translate(394.64,66)\" d=\"M9.22,0A9.22,9.22 0 1,1 0,-9.22A9.22,9.22 0 0,1 9.22,0Z\" style=\"opacity: 0.7; stroke-width: 1px; fill: rgb(23, 190, 207); fill-opacity: 1; stroke: rgb(255, 255, 255); stroke-opacity: 1;\"/><path class=\"point\" transform=\"translate(428.48,68.53)\" d=\"M10,0A10,10 0 1,1 0,-10A10,10 0 0,1 10,0Z\" style=\"opacity: 0.7; stroke-width: 1px; fill: rgb(23, 190, 207); fill-opacity: 1; stroke: rgb(255, 255, 255); stroke-opacity: 1;\"/><path class=\"point\" transform=\"translate(404.67,87.17)\" d=\"M10.04,0A10.04,10.04 0 1,1 0,-10.04A10.04,10.04 0 0,1 10.04,0Z\" style=\"opacity: 0.7; stroke-width: 1px; fill: rgb(23, 190, 207); fill-opacity: 1; stroke: rgb(255, 255, 255); stroke-opacity: 1;\"/><path class=\"point\" transform=\"translate(431.61,116.28)\" d=\"M12.19,0A12.19,12.19 0 1,1 0,-12.19A12.19,12.19 0 0,1 12.19,0Z\" style=\"opacity: 0.7; stroke-width: 1px; fill: rgb(23, 190, 207); fill-opacity: 1; stroke: rgb(255, 255, 255); stroke-opacity: 1;\"/><path class=\"point\" transform=\"translate(416.57,88.21)\" d=\"M11.46,0A11.46,11.46 0 1,1 0,-11.46A11.46,11.46 0 0,1 11.46,0Z\" style=\"opacity: 0.7; stroke-width: 1px; fill: rgb(23, 190, 207); fill-opacity: 1; stroke: rgb(255, 255, 255); stroke-opacity: 1;\"/><path class=\"point\" transform=\"translate(376.47,90.72)\" d=\"M8.21,0A8.21,8.21 0 1,1 0,-8.21A8.21,8.21 0 0,1 8.21,0Z\" style=\"opacity: 0.7; stroke-width: 1px; fill: rgb(23, 190, 207); fill-opacity: 1; stroke: rgb(255, 255, 255); stroke-opacity: 1;\"/><path class=\"point\" transform=\"translate(169.09,160.77)\" d=\"M11.04,0A11.04,11.04 0 1,1 0,-11.04A11.04,11.04 0 0,1 11.04,0Z\" style=\"opacity: 0.7; stroke-width: 1px; fill: rgb(23, 190, 207); fill-opacity: 1; stroke: rgb(255, 255, 255); stroke-opacity: 1;\"/><path class=\"point\" transform=\"translate(367.7,98.21)\" d=\"M11.29,0A11.29,11.29 0 1,1 0,-11.29A11.29,11.29 0 0,1 11.29,0Z\" style=\"opacity: 0.7; stroke-width: 1px; fill: rgb(23, 190, 207); fill-opacity: 1; stroke: rgb(255, 255, 255); stroke-opacity: 1;\"/><path class=\"point\" transform=\"translate(471.71,91.19)\" d=\"M8.54,0A8.54,8.54 0 1,1 0,-8.54A8.54,8.54 0 0,1 8.54,0Z\" style=\"opacity: 0.7; stroke-width: 1px; fill: rgb(23, 190, 207); fill-opacity: 1; stroke: rgb(255, 255, 255); stroke-opacity: 1;\"/><path class=\"point\" transform=\"translate(255.56,193.69)\" d=\"M9.39,0A9.39,9.39 0 1,1 0,-9.39A9.39,9.39 0 0,1 9.39,0Z\" style=\"opacity: 0.7; stroke-width: 1px; fill: rgb(23, 190, 207); fill-opacity: 1; stroke: rgb(255, 255, 255); stroke-opacity: 1;\"/></g><g class=\"text\"/></g><g class=\"trace scatter trace89c62e\" style=\"stroke-miterlimit: 2; opacity: 1;\"><g class=\"fills\"/><g class=\"errorbars\"/><g class=\"lines\"/><g class=\"points\"><path class=\"point\" transform=\"translate(429.73,82.86)\" d=\"M12.25,0A12.25,12.25 0 1,1 0,-12.25A12.25,12.25 0 0,1 12.25,0Z\" style=\"opacity: 0.7; stroke-width: 1px; fill: rgb(31, 119, 180); fill-opacity: 1; stroke: rgb(255, 255, 255); stroke-opacity: 1;\"/><path class=\"point\" transform=\"translate(313.2,68.66)\" d=\"M10.85,0A10.85,10.85 0 1,1 0,-10.85A10.85,10.85 0 0,1 10.85,0Z\" style=\"opacity: 0.7; stroke-width: 1px; fill: rgb(31, 119, 180); fill-opacity: 1; stroke: rgb(255, 255, 255); stroke-opacity: 1;\"/><path class=\"point\" transform=\"translate(417.83,78.83)\" d=\"M11.46,0A11.46,11.46 0 1,1 0,-11.46A11.46,11.46 0 0,1 11.46,0Z\" style=\"opacity: 0.7; stroke-width: 1px; fill: rgb(31, 119, 180); fill-opacity: 1; stroke: rgb(255, 255, 255); stroke-opacity: 1;\"/><path class=\"point\" transform=\"translate(233,73.45)\" d=\"M9.13,0A9.13,9.13 0 1,1 0,-9.13A9.13,9.13 0 0,1 9.13,0Z\" style=\"opacity: 0.7; stroke-width: 1px; fill: rgb(31, 119, 180); fill-opacity: 1; stroke: rgb(255, 255, 255); stroke-opacity: 1;\"/><path class=\"point\" transform=\"translate(353.92,87.32)\" d=\"M6.78,0A6.78,6.78 0 1,1 0,-6.78A6.78,6.78 0 0,1 6.78,0Z\" style=\"opacity: 0.7; stroke-width: 1px; fill: rgb(31, 119, 180); fill-opacity: 1; stroke: rgb(255, 255, 255); stroke-opacity: 1;\"/><path class=\"point\" transform=\"translate(335.12,88.6)\" d=\"M10.02,0A10.02,10.02 0 1,1 0,-10.02A10.02,10.02 0 0,1 10.02,0Z\" style=\"opacity: 0.7; stroke-width: 1px; fill: rgb(31, 119, 180); fill-opacity: 1; stroke: rgb(255, 255, 255); stroke-opacity: 1;\"/><path class=\"point\" transform=\"translate(320.09,118.54)\" d=\"M9.64,0A9.64,9.64 0 1,1 0,-9.64A9.64,9.64 0 0,1 9.64,0Z\" style=\"opacity: 0.7; stroke-width: 1px; fill: rgb(31, 119, 180); fill-opacity: 1; stroke: rgb(255, 255, 255); stroke-opacity: 1;\"/><path class=\"point\" transform=\"translate(253.68,103.46)\" d=\"M8.62,0A8.62,8.62 0 1,1 0,-8.62A8.62,8.62 0 0,1 8.62,0Z\" style=\"opacity: 0.7; stroke-width: 1px; fill: rgb(31, 119, 180); fill-opacity: 1; stroke: rgb(255, 255, 255); stroke-opacity: 1;\"/><path class=\"point\" transform=\"translate(383.37,117.59)\" d=\"M12.15,0A12.15,12.15 0 1,1 0,-12.15A12.15,12.15 0 0,1 12.15,0Z\" style=\"opacity: 0.7; stroke-width: 1px; fill: rgb(31, 119, 180); fill-opacity: 1; stroke: rgb(255, 255, 255); stroke-opacity: 1;\"/><path class=\"point\" transform=\"translate(233.63,77.73)\" d=\"M9.82,0A9.82,9.82 0 1,1 0,-9.82A9.82,9.82 0 0,1 9.82,0Z\" style=\"opacity: 0.7; stroke-width: 1px; fill: rgb(31, 119, 180); fill-opacity: 1; stroke: rgb(255, 255, 255); stroke-opacity: 1;\"/><path class=\"point\" transform=\"translate(391.51,100.94)\" d=\"M9.76,0A9.76,9.76 0 1,1 0,-9.76A9.76,9.76 0 0,1 9.76,0Z\" style=\"opacity: 0.7; stroke-width: 1px; fill: rgb(31, 119, 180); fill-opacity: 1; stroke: rgb(255, 255, 255); stroke-opacity: 1;\"/><path class=\"point\" transform=\"translate(395.27,125.24)\" d=\"M9.9,0A9.9,9.9 0 1,1 0,-9.9A9.9,9.9 0 0,1 9.9,0Z\" style=\"opacity: 0.7; stroke-width: 1px; fill: rgb(31, 119, 180); fill-opacity: 1; stroke: rgb(255, 255, 255); stroke-opacity: 1;\"/><path class=\"point\" transform=\"translate(375.22,76.55)\" d=\"M11.45,0A11.45,11.45 0 1,1 0,-11.45A11.45,11.45 0 0,1 11.45,0Z\" style=\"opacity: 0.7; stroke-width: 1px; fill: rgb(31, 119, 180); fill-opacity: 1; stroke: rgb(255, 255, 255); stroke-opacity: 1;\"/><path class=\"point\" transform=\"translate(201.67,75.02)\" d=\"M11.07,0A11.07,11.07 0 1,1 0,-11.07A11.07,11.07 0 0,1 11.07,0Z\" style=\"opacity: 0.7; stroke-width: 1px; fill: rgb(31, 119, 180); fill-opacity: 1; stroke: rgb(255, 255, 255); stroke-opacity: 1;\"/><path class=\"point\" transform=\"translate(345.15,76.36)\" d=\"M8.55,0A8.55,8.55 0 1,1 0,-8.55A8.55,8.55 0 0,1 8.55,0Z\" style=\"opacity: 0.7; stroke-width: 1px; fill: rgb(31, 119, 180); fill-opacity: 1; stroke: rgb(255, 255, 255); stroke-opacity: 1;\"/><path class=\"point\" transform=\"translate(252.42,90.37)\" d=\"M10.9,0A10.9,10.9 0 1,1 0,-10.9A10.9,10.9 0 0,1 10.9,0Z\" style=\"opacity: 0.7; stroke-width: 1px; fill: rgb(31, 119, 180); fill-opacity: 1; stroke: rgb(255, 255, 255); stroke-opacity: 1;\"/><path class=\"point\" transform=\"translate(315.7,120.14)\" d=\"M11.15,0A11.15,11.15 0 1,1 0,-11.15A11.15,11.15 0 0,1 11.15,0Z\" style=\"opacity: 0.7; stroke-width: 1px; fill: rgb(31, 119, 180); fill-opacity: 1; stroke: rgb(255, 255, 255); stroke-opacity: 1;\"/><path class=\"point\" transform=\"translate(234.88,81.02)\" d=\"M10.43,0A10.43,10.43 0 1,1 0,-10.43A10.43,10.43 0 0,1 10.43,0Z\" style=\"opacity: 0.7; stroke-width: 1px; fill: rgb(31, 119, 180); fill-opacity: 1; stroke: rgb(255, 255, 255); stroke-opacity: 1;\"/><path class=\"point\" transform=\"translate(276.23,68.38)\" d=\"M9.41,0A9.41,9.41 0 1,1 0,-9.41A9.41,9.41 0 0,1 9.41,0Z\" style=\"opacity: 0.7; stroke-width: 1px; fill: rgb(31, 119, 180); fill-opacity: 1; stroke: rgb(255, 255, 255); stroke-opacity: 1;\"/><path class=\"point\" transform=\"translate(253.68,97.07)\" d=\"M7.64,0A7.64,7.64 0 1,1 0,-7.64A7.64,7.64 0 0,1 7.64,0Z\" style=\"opacity: 0.7; stroke-width: 1px; fill: rgb(31, 119, 180); fill-opacity: 1; stroke: rgb(255, 255, 255); stroke-opacity: 1;\"/></g><g class=\"text\"/></g><g class=\"trace scatter tracee1827e\" style=\"stroke-miterlimit: 2; opacity: 1;\"><g class=\"fills\"/><g class=\"errorbars\"/><g class=\"lines\"/><g class=\"points\"><path class=\"point\" transform=\"translate(337,74.46)\" d=\"M9.5,0A9.5,9.5 0 1,1 0,-9.5A9.5,9.5 0 0,1 9.5,0Z\" style=\"opacity: 0.7; stroke-width: 1px; fill: rgb(255, 127, 14); fill-opacity: 1; stroke: rgb(255, 255, 255); stroke-opacity: 1;\"/><path class=\"point\" transform=\"translate(254.93,66.67)\" d=\"M7.6,0A7.6,7.6 0 1,1 0,-7.6A7.6,7.6 0 0,1 7.6,0Z\" style=\"opacity: 0.7; stroke-width: 1px; fill: rgb(255, 127, 14); fill-opacity: 1; stroke: rgb(255, 255, 255); stroke-opacity: 1;\"/><path class=\"point\" transform=\"translate(259.94,119.78)\" d=\"M10.27,0A10.27,10.27 0 1,1 0,-10.27A10.27,10.27 0 0,1 10.27,0Z\" style=\"opacity: 0.7; stroke-width: 1px; fill: rgb(255, 127, 14); fill-opacity: 1; stroke: rgb(255, 255, 255); stroke-opacity: 1;\"/><path class=\"point\" transform=\"translate(301.29,68.49)\" d=\"M8.59,0A8.59,8.59 0 1,1 0,-8.59A8.59,8.59 0 0,1 8.59,0Z\" style=\"opacity: 0.7; stroke-width: 1px; fill: rgb(255, 127, 14); fill-opacity: 1; stroke: rgb(255, 255, 255); stroke-opacity: 1;\"/><path class=\"point\" transform=\"translate(327.61,94.1)\" d=\"M9.69,0A9.69,9.69 0 1,1 0,-9.69A9.69,9.69 0 0,1 9.69,0Z\" style=\"opacity: 0.7; stroke-width: 1px; fill: rgb(255, 127, 14); fill-opacity: 1; stroke: rgb(255, 255, 255); stroke-opacity: 1;\"/><path class=\"point\" transform=\"translate(310.69,79.9)\" d=\"M9.46,0A9.46,9.46 0 1,1 0,-9.46A9.46,9.46 0 0,1 9.46,0Z\" style=\"opacity: 0.7; stroke-width: 1px; fill: rgb(255, 127, 14); fill-opacity: 1; stroke: rgb(255, 255, 255); stroke-opacity: 1;\"/><path class=\"point\" transform=\"translate(276.86,76.34)\" d=\"M10.27,0A10.27,10.27 0 1,1 0,-10.27A10.27,10.27 0 0,1 10.27,0Z\" style=\"opacity: 0.7; stroke-width: 1px; fill: rgb(255, 127, 14); fill-opacity: 1; stroke: rgb(255, 255, 255); stroke-opacity: 1;\"/><path class=\"point\" transform=\"translate(310.06,112.19)\" d=\"M10.1,0A10.1,10.1 0 1,1 0,-10.1A10.1,10.1 0 0,1 10.1,0Z\" style=\"opacity: 0.7; stroke-width: 1px; fill: rgb(255, 127, 14); fill-opacity: 1; stroke: rgb(255, 255, 255); stroke-opacity: 1;\"/><path class=\"point\" transform=\"translate(352.67,77.07)\" d=\"M10.15,0A10.15,10.15 0 1,1 0,-10.15A10.15,10.15 0 0,1 10.15,0Z\" style=\"opacity: 0.7; stroke-width: 1px; fill: rgb(255, 127, 14); fill-opacity: 1; stroke: rgb(255, 255, 255); stroke-opacity: 1;\"/><path class=\"point\" transform=\"translate(392.76,95.23)\" d=\"M9.3,0A9.3,9.3 0 1,1 0,-9.3A9.3,9.3 0 0,1 9.3,0Z\" style=\"opacity: 0.7; stroke-width: 1px; fill: rgb(255, 127, 14); fill-opacity: 1; stroke: rgb(255, 255, 255); stroke-opacity: 1;\"/><path class=\"point\" transform=\"translate(236.76,81.59)\" d=\"M9.28,0A9.28,9.28 0 1,1 0,-9.28A9.28,9.28 0 0,1 9.28,0Z\" style=\"opacity: 0.7; stroke-width: 1px; fill: rgb(255, 127, 14); fill-opacity: 1; stroke: rgb(255, 255, 255); stroke-opacity: 1;\"/><path class=\"point\" transform=\"translate(354.55,73.88)\" d=\"M10.28,0A10.28,10.28 0 1,1 0,-10.28A10.28,10.28 0 0,1 10.28,0Z\" style=\"opacity: 0.7; stroke-width: 1px; fill: rgb(255, 127, 14); fill-opacity: 1; stroke: rgb(255, 255, 255); stroke-opacity: 1;\"/><path class=\"point\" transform=\"translate(239.89,80.93)\" d=\"M6.96,0A6.96,6.96 0 1,1 0,-6.96A6.96,6.96 0 0,1 6.96,0Z\" style=\"opacity: 0.7; stroke-width: 1px; fill: rgb(255, 127, 14); fill-opacity: 1; stroke: rgb(255, 255, 255); stroke-opacity: 1;\"/><path class=\"point\" transform=\"translate(234.25,78.36)\" d=\"M10.16,0A10.16,10.16 0 1,1 0,-10.16A10.16,10.16 0 0,1 10.16,0Z\" style=\"opacity: 0.7; stroke-width: 1px; fill: rgb(255, 127, 14); fill-opacity: 1; stroke: rgb(255, 255, 255); stroke-opacity: 1;\"/><path class=\"point\" transform=\"translate(276.86,86.8)\" d=\"M10.46,0A10.46,10.46 0 1,1 0,-10.46A10.46,10.46 0 0,1 10.46,0Z\" style=\"opacity: 0.7; stroke-width: 1px; fill: rgb(255, 127, 14); fill-opacity: 1; stroke: rgb(255, 255, 255); stroke-opacity: 1;\"/><path class=\"point\" transform=\"translate(221.72,69.36)\" d=\"M8.89,0A8.89,8.89 0 1,1 0,-8.89A8.89,8.89 0 0,1 8.89,0Z\" style=\"opacity: 0.7; stroke-width: 1px; fill: rgb(255, 127, 14); fill-opacity: 1; stroke: rgb(255, 255, 255); stroke-opacity: 1;\"/><path class=\"point\" transform=\"translate(241.15,73.6)\" d=\"M9.15,0A9.15,9.15 0 1,1 0,-9.15A9.15,9.15 0 0,1 9.15,0Z\" style=\"opacity: 0.7; stroke-width: 1px; fill: rgb(255, 127, 14); fill-opacity: 1; stroke: rgb(255, 255, 255); stroke-opacity: 1;\"/><path class=\"point\" transform=\"translate(328.86,103.49)\" d=\"M12.24,0A12.24,12.24 0 1,1 0,-12.24A12.24,12.24 0 0,1 12.24,0Z\" style=\"opacity: 0.7; stroke-width: 1px; fill: rgb(255, 127, 14); fill-opacity: 1; stroke: rgb(255, 255, 255); stroke-opacity: 1;\"/><path class=\"point\" transform=\"translate(406.55,87.74)\" d=\"M9.36,0A9.36,9.36 0 1,1 0,-9.36A9.36,9.36 0 0,1 9.36,0Z\" style=\"opacity: 0.7; stroke-width: 1px; fill: rgb(255, 127, 14); fill-opacity: 1; stroke: rgb(255, 255, 255); stroke-opacity: 1;\"/></g><g class=\"text\"/></g><g class=\"trace scatter trace999dc0\" style=\"stroke-miterlimit: 2; opacity: 1;\"><g class=\"fills\"/><g class=\"errorbars\"/><g class=\"lines\"/><g class=\"points\"><path class=\"point\" transform=\"translate(338.88,70.4)\" d=\"M9.48,0A9.48,9.48 0 1,1 0,-9.48A9.48,9.48 0 0,1 9.48,0Z\" style=\"opacity: 0.7; stroke-width: 1px; fill: rgb(44, 160, 44); fill-opacity: 1; stroke: rgb(255, 255, 255); stroke-opacity: 1;\"/><path class=\"point\" transform=\"translate(256.81,63.76)\" d=\"M7.6,0A7.6,7.6 0 1,1 0,-7.6A7.6,7.6 0 0,1 7.6,0Z\" style=\"opacity: 0.7; stroke-width: 1px; fill: rgb(44, 160, 44); fill-opacity: 1; stroke: rgb(255, 255, 255); stroke-opacity: 1;\"/><path class=\"point\" transform=\"translate(261.82,108.63)\" d=\"M10.28,0A10.28,10.28 0 1,1 0,-10.28A10.28,10.28 0 0,1 10.28,0Z\" style=\"opacity: 0.7; stroke-width: 1px; fill: rgb(44, 160, 44); fill-opacity: 1; stroke: rgb(255, 255, 255); stroke-opacity: 1;\"/><path class=\"point\" transform=\"translate(308.81,67.47)\" d=\"M8.59,0A8.59,8.59 0 1,1 0,-8.59A8.59,8.59 0 0,1 8.59,0Z\" style=\"opacity: 0.7; stroke-width: 1px; fill: rgb(44, 160, 44); fill-opacity: 1; stroke: rgb(255, 255, 255); stroke-opacity: 1;\"/><path class=\"point\" transform=\"translate(331.36,83.77)\" d=\"M9.7,0A9.7,9.7 0 1,1 0,-9.7A9.7,9.7 0 0,1 9.7,0Z\" style=\"opacity: 0.7; stroke-width: 1px; fill: rgb(44, 160, 44); fill-opacity: 1; stroke: rgb(255, 255, 255); stroke-opacity: 1;\"/><path class=\"point\" transform=\"translate(315.08,80.16)\" d=\"M9.46,0A9.46,9.46 0 1,1 0,-9.46A9.46,9.46 0 0,1 9.46,0Z\" style=\"opacity: 0.7; stroke-width: 1px; fill: rgb(44, 160, 44); fill-opacity: 1; stroke: rgb(255, 255, 255); stroke-opacity: 1;\"/><path class=\"point\" transform=\"translate(271.22,68.06)\" d=\"M10.28,0A10.28,10.28 0 1,1 0,-10.28A10.28,10.28 0 0,1 10.28,0Z\" style=\"opacity: 0.7; stroke-width: 1px; fill: rgb(44, 160, 44); fill-opacity: 1; stroke: rgb(255, 255, 255); stroke-opacity: 1;\"/><path class=\"point\" transform=\"translate(311.32,109.16)\" d=\"M10.11,0A10.11,10.11 0 1,1 0,-10.11A10.11,10.11 0 0,1 10.11,0Z\" style=\"opacity: 0.7; stroke-width: 1px; fill: rgb(44, 160, 44); fill-opacity: 1; stroke: rgb(255, 255, 255); stroke-opacity: 1;\"/><path class=\"point\" transform=\"translate(353.92,80.8)\" d=\"M10.15,0A10.15,10.15 0 1,1 0,-10.15A10.15,10.15 0 0,1 10.15,0Z\" style=\"opacity: 0.7; stroke-width: 1px; fill: rgb(44, 160, 44); fill-opacity: 1; stroke: rgb(255, 255, 255); stroke-opacity: 1;\"/><path class=\"point\" transform=\"translate(395.9,93.53)\" d=\"M9.24,0A9.24,9.24 0 1,1 0,-9.24A9.24,9.24 0 0,1 9.24,0Z\" style=\"opacity: 0.7; stroke-width: 1px; fill: rgb(44, 160, 44); fill-opacity: 1; stroke: rgb(255, 255, 255); stroke-opacity: 1;\"/><path class=\"point\" transform=\"translate(241.15,84.02)\" d=\"M9.26,0A9.26,9.26 0 1,1 0,-9.26A9.26,9.26 0 0,1 9.26,0Z\" style=\"opacity: 0.7; stroke-width: 1px; fill: rgb(44, 160, 44); fill-opacity: 1; stroke: rgb(255, 255, 255); stroke-opacity: 1;\"/><path class=\"point\" transform=\"translate(352.67,71.73)\" d=\"M10.28,0A10.28,10.28 0 1,1 0,-10.28A10.28,10.28 0 0,1 10.28,0Z\" style=\"opacity: 0.7; stroke-width: 1px; fill: rgb(44, 160, 44); fill-opacity: 1; stroke: rgb(255, 255, 255); stroke-opacity: 1;\"/><path class=\"point\" transform=\"translate(239.27,76.57)\" d=\"M6.97,0A6.97,6.97 0 1,1 0,-6.97A6.97,6.97 0 0,1 6.97,0Z\" style=\"opacity: 0.7; stroke-width: 1px; fill: rgb(44, 160, 44); fill-opacity: 1; stroke: rgb(255, 255, 255); stroke-opacity: 1;\"/><path class=\"point\" transform=\"translate(227.99,74.83)\" d=\"M10.16,0A10.16,10.16 0 1,1 0,-10.16A10.16,10.16 0 0,1 10.16,0Z\" style=\"opacity: 0.7; stroke-width: 1px; fill: rgb(44, 160, 44); fill-opacity: 1; stroke: rgb(255, 255, 255); stroke-opacity: 1;\"/><path class=\"point\" transform=\"translate(283.12,105.07)\" d=\"M10.46,0A10.46,10.46 0 1,1 0,-10.46A10.46,10.46 0 0,1 10.46,0Z\" style=\"opacity: 0.7; stroke-width: 1px; fill: rgb(44, 160, 44); fill-opacity: 1; stroke: rgb(255, 255, 255); stroke-opacity: 1;\"/><path class=\"point\" transform=\"translate(228.61,65.5)\" d=\"M8.89,0A8.89,8.89 0 1,1 0,-8.89A8.89,8.89 0 0,1 8.89,0Z\" style=\"opacity: 0.7; stroke-width: 1px; fill: rgb(44, 160, 44); fill-opacity: 1; stroke: rgb(255, 255, 255); stroke-opacity: 1;\"/><path class=\"point\" transform=\"translate(241.77,70.6)\" d=\"M9.15,0A9.15,9.15 0 1,1 0,-9.15A9.15,9.15 0 0,1 9.15,0Z\" style=\"opacity: 0.7; stroke-width: 1px; fill: rgb(44, 160, 44); fill-opacity: 1; stroke: rgb(255, 255, 255); stroke-opacity: 1;\"/><path class=\"point\" transform=\"translate(327.61,98.63)\" d=\"M12.25,0A12.25,12.25 0 1,1 0,-12.25A12.25,12.25 0 0,1 12.25,0Z\" style=\"opacity: 0.7; stroke-width: 1px; fill: rgb(44, 160, 44); fill-opacity: 1; stroke: rgb(255, 255, 255); stroke-opacity: 1;\"/><path class=\"point\" transform=\"translate(410.31,85.43)\" d=\"M9.24,0A9.24,9.24 0 1,1 0,-9.24A9.24,9.24 0 0,1 9.24,0Z\" style=\"opacity: 0.7; stroke-width: 1px; fill: rgb(44, 160, 44); fill-opacity: 1; stroke: rgb(255, 255, 255); stroke-opacity: 1;\"/><path class=\"point\" transform=\"translate(322.59,115.42)\" d=\"M9.57,0A9.57,9.57 0 1,1 0,-9.57A9.57,9.57 0 0,1 9.57,0Z\" style=\"opacity: 0.7; stroke-width: 1px; fill: rgb(44, 160, 44); fill-opacity: 1; stroke: rgb(255, 255, 255); stroke-opacity: 1;\"/></g><g class=\"text\"/></g><g class=\"trace scatter tracee3dc49\" style=\"stroke-miterlimit: 2; opacity: 1;\"><g class=\"fills\"/><g class=\"errorbars\"/><g class=\"lines\"/><g class=\"points\"><path class=\"point\" transform=\"translate(80.13,67.48)\" d=\"M10.19,0A10.19,10.19 0 1,1 0,-10.19A10.19,10.19 0 0,1 10.19,0Z\" style=\"opacity: 0.7; stroke-width: 1px; fill: rgb(214, 39, 40); fill-opacity: 1; stroke: rgb(255, 255, 255); stroke-opacity: 1;\"/><path class=\"point\" transform=\"translate(115.21,55.43)\" d=\"M8.36,0A8.36,8.36 0 1,1 0,-8.36A8.36,8.36 0 0,1 8.36,0Z\" style=\"opacity: 0.7; stroke-width: 1px; fill: rgb(214, 39, 40); fill-opacity: 1; stroke: rgb(255, 255, 255); stroke-opacity: 1;\"/><path class=\"point\" transform=\"translate(150.3,58.95)\" d=\"M9.42,0A9.42,9.42 0 1,1 0,-9.42A9.42,9.42 0 0,1 9.42,0Z\" style=\"opacity: 0.7; stroke-width: 1px; fill: rgb(214, 39, 40); fill-opacity: 1; stroke: rgb(255, 255, 255); stroke-opacity: 1;\"/><path class=\"point\" transform=\"translate(236.76,59.14)\" d=\"M9.08,0A9.08,9.08 0 1,1 0,-9.08A9.08,9.08 0 0,1 9.08,0Z\" style=\"opacity: 0.7; stroke-width: 1px; fill: rgb(214, 39, 40); fill-opacity: 1; stroke: rgb(255, 255, 255); stroke-opacity: 1;\"/><path class=\"point\" transform=\"translate(222.98,60.61)\" d=\"M11.87,0A11.87,11.87 0 1,1 0,-11.87A11.87,11.87 0 0,1 11.87,0Z\" style=\"opacity: 0.7; stroke-width: 1px; fill: rgb(214, 39, 40); fill-opacity: 1; stroke: rgb(255, 255, 255); stroke-opacity: 1;\"/><path class=\"point\" transform=\"translate(293.77,59.74)\" d=\"M9.37,0A9.37,9.37 0 1,1 0,-9.37A9.37,9.37 0 0,1 9.37,0Z\" style=\"opacity: 0.7; stroke-width: 1px; fill: rgb(214, 39, 40); fill-opacity: 1; stroke: rgb(255, 255, 255); stroke-opacity: 1;\"/><path class=\"point\" transform=\"translate(136.52,53.32)\" d=\"M10.03,0A10.03,10.03 0 1,1 0,-10.03A10.03,10.03 0 0,1 10.03,0Z\" style=\"opacity: 0.7; stroke-width: 1px; fill: rgb(214, 39, 40); fill-opacity: 1; stroke: rgb(255, 255, 255); stroke-opacity: 1;\"/><path class=\"point\" transform=\"translate(253.05,61.79)\" d=\"M9.96,0A9.96,9.96 0 1,1 0,-9.96A9.96,9.96 0 0,1 9.96,0Z\" style=\"opacity: 0.7; stroke-width: 1px; fill: rgb(214, 39, 40); fill-opacity: 1; stroke: rgb(255, 255, 255); stroke-opacity: 1;\"/><path class=\"point\" transform=\"translate(145.91,53.22)\" d=\"M9.6,0A9.6,9.6 0 1,1 0,-9.6A9.6,9.6 0 0,1 9.6,0Z\" style=\"opacity: 0.7; stroke-width: 1px; fill: rgb(214, 39, 40); fill-opacity: 1; stroke: rgb(255, 255, 255); stroke-opacity: 1;\"/><path class=\"point\" transform=\"translate(259.94,60.59)\" d=\"M11.59,0A11.59,11.59 0 1,1 0,-11.59A11.59,11.59 0 0,1 11.59,0Z\" style=\"opacity: 0.7; stroke-width: 1px; fill: rgb(214, 39, 40); fill-opacity: 1; stroke: rgb(255, 255, 255); stroke-opacity: 1;\"/></g><g class=\"text\"/></g><g class=\"trace scatter trace5e72be\" style=\"stroke-miterlimit: 2; opacity: 1;\"><g class=\"fills\"/><g class=\"errorbars\"/><g class=\"lines\"/><g class=\"points\"><path class=\"point\" transform=\"translate(293.77,85.69)\" d=\"M7.51,0A7.51,7.51 0 1,1 0,-7.51A7.51,7.51 0 0,1 7.51,0Z\" style=\"opacity: 0.7; stroke-width: 1px; fill: rgb(148, 103, 189); fill-opacity: 1; stroke: rgb(255, 255, 255); stroke-opacity: 1;\"/><path class=\"point\" transform=\"translate(270.59,74.99)\" d=\"M9.01,0A9.01,9.01 0 1,1 0,-9.01A9.01,9.01 0 0,1 9.01,0Z\" style=\"opacity: 0.7; stroke-width: 1px; fill: rgb(148, 103, 189); fill-opacity: 1; stroke: rgb(255, 255, 255); stroke-opacity: 1;\"/><path class=\"point\" transform=\"translate(244.28,71.3)\" d=\"M8.07,0A8.07,8.07 0 1,1 0,-8.07A8.07,8.07 0 0,1 8.07,0Z\" style=\"opacity: 0.7; stroke-width: 1px; fill: rgb(148, 103, 189); fill-opacity: 1; stroke: rgb(255, 255, 255); stroke-opacity: 1;\"/><path class=\"point\" transform=\"translate(40.66,42.6)\" d=\"M7.2,0A7.2,7.2 0 1,1 0,-7.2A7.2,7.2 0 0,1 7.2,0Z\" style=\"opacity: 0.7; stroke-width: 1px; fill: rgb(148, 103, 189); fill-opacity: 1; stroke: rgb(255, 255, 255); stroke-opacity: 1;\"/><path class=\"point\" transform=\"translate(218.59,70.33)\" d=\"M7.49,0A7.49,7.49 0 1,1 0,-7.49A7.49,7.49 0 0,1 7.49,0Z\" style=\"opacity: 0.7; stroke-width: 1px; fill: rgb(148, 103, 189); fill-opacity: 1; stroke: rgb(255, 255, 255); stroke-opacity: 1;\"/><path class=\"point\" transform=\"translate(105.82,79.71)\" d=\"M6.72,0A6.72,6.72 0 1,1 0,-6.72A6.72,6.72 0 0,1 6.72,0Z\" style=\"opacity: 0.7; stroke-width: 1px; fill: rgb(148, 103, 189); fill-opacity: 1; stroke: rgb(255, 255, 255); stroke-opacity: 1;\"/><path class=\"point\" transform=\"translate(134.64,73.11)\" d=\"M9.09,0A9.09,9.09 0 1,1 0,-9.09A9.09,9.09 0 0,1 9.09,0Z\" style=\"opacity: 0.7; stroke-width: 1px; fill: rgb(148, 103, 189); fill-opacity: 1; stroke: rgb(255, 255, 255); stroke-opacity: 1;\"/><path class=\"point\" transform=\"translate(272.47,52.14)\" d=\"M7.68,0A7.68,7.68 0 1,1 0,-7.68A7.68,7.68 0 0,1 7.68,0Z\" style=\"opacity: 0.7; stroke-width: 1px; fill: rgb(148, 103, 189); fill-opacity: 1; stroke: rgb(255, 255, 255); stroke-opacity: 1;\"/><path class=\"point\" transform=\"translate(167.84,78.97)\" d=\"M7.09,0A7.09,7.09 0 1,1 0,-7.09A7.09,7.09 0 0,1 7.09,0Z\" style=\"opacity: 0.7; stroke-width: 1px; fill: rgb(148, 103, 189); fill-opacity: 1; stroke: rgb(255, 255, 255); stroke-opacity: 1;\"/><path class=\"point\" transform=\"translate(147.79,72.78)\" d=\"M7.53,0A7.53,7.53 0 1,1 0,-7.53A7.53,7.53 0 0,1 7.53,0Z\" style=\"opacity: 0.7; stroke-width: 1px; fill: rgb(148, 103, 189); fill-opacity: 1; stroke: rgb(255, 255, 255); stroke-opacity: 1;\"/><path class=\"point\" transform=\"translate(276.86,68.35)\" d=\"M6.86,0A6.86,6.86 0 1,1 0,-6.86A6.86,6.86 0 0,1 6.86,0Z\" style=\"opacity: 0.7; stroke-width: 1px; fill: rgb(148, 103, 189); fill-opacity: 1; stroke: rgb(255, 255, 255); stroke-opacity: 1;\"/><path class=\"point\" transform=\"translate(378.35,96.68)\" d=\"M12.73,0A12.73,12.73 0 1,1 0,-12.73A12.73,12.73 0 0,1 12.73,0Z\" style=\"opacity: 0.7; stroke-width: 1px; fill: rgb(148, 103, 189); fill-opacity: 1; stroke: rgb(255, 255, 255); stroke-opacity: 1;\"/><path class=\"point\" transform=\"translate(272.47,87.27)\" d=\"M6.53,0A6.53,6.53 0 1,1 0,-6.53A6.53,6.53 0 0,1 6.53,0Z\" style=\"opacity: 0.7; stroke-width: 1px; fill: rgb(148, 103, 189); fill-opacity: 1; stroke: rgb(255, 255, 255); stroke-opacity: 1;\"/><path class=\"point\" transform=\"translate(181.63,77.55)\" d=\"M9.31,0A9.31,9.31 0 1,1 0,-9.31A9.31,9.31 0 0,1 9.31,0Z\" style=\"opacity: 0.7; stroke-width: 1px; fill: rgb(148, 103, 189); fill-opacity: 1; stroke: rgb(255, 255, 255); stroke-opacity: 1;\"/></g><g class=\"text\"/></g><g class=\"trace scatter tracea1c3e0\" style=\"stroke-miterlimit: 2; opacity: 1;\"><g class=\"fills\"/><g class=\"errorbars\"/><g class=\"lines\"/><g class=\"points\"><path class=\"point\" transform=\"translate(293.77,85.69)\" d=\"M7.51,0A7.51,7.51 0 1,1 0,-7.51A7.51,7.51 0 0,1 7.51,0Z\" style=\"opacity: 0.7; stroke-width: 1px; fill: rgb(140, 86, 75); fill-opacity: 1; stroke: rgb(255, 255, 255); stroke-opacity: 1;\"/><path class=\"point\" transform=\"translate(270.59,74.99)\" d=\"M9.01,0A9.01,9.01 0 1,1 0,-9.01A9.01,9.01 0 0,1 9.01,0Z\" style=\"opacity: 0.7; stroke-width: 1px; fill: rgb(140, 86, 75); fill-opacity: 1; stroke: rgb(255, 255, 255); stroke-opacity: 1;\"/><path class=\"point\" transform=\"translate(244.28,71.3)\" d=\"M8.07,0A8.07,8.07 0 1,1 0,-8.07A8.07,8.07 0 0,1 8.07,0Z\" style=\"opacity: 0.7; stroke-width: 1px; fill: rgb(140, 86, 75); fill-opacity: 1; stroke: rgb(255, 255, 255); stroke-opacity: 1;\"/><path class=\"point\" transform=\"translate(40.66,42.6)\" d=\"M7.2,0A7.2,7.2 0 1,1 0,-7.2A7.2,7.2 0 0,1 7.2,0Z\" style=\"opacity: 0.7; stroke-width: 1px; fill: rgb(140, 86, 75); fill-opacity: 1; stroke: rgb(255, 255, 255); stroke-opacity: 1;\"/><path class=\"point\" transform=\"translate(218.59,70.33)\" d=\"M7.49,0A7.49,7.49 0 1,1 0,-7.49A7.49,7.49 0 0,1 7.49,0Z\" style=\"opacity: 0.7; stroke-width: 1px; fill: rgb(140, 86, 75); fill-opacity: 1; stroke: rgb(255, 255, 255); stroke-opacity: 1;\"/><path class=\"point\" transform=\"translate(105.82,79.71)\" d=\"M6.72,0A6.72,6.72 0 1,1 0,-6.72A6.72,6.72 0 0,1 6.72,0Z\" style=\"opacity: 0.7; stroke-width: 1px; fill: rgb(140, 86, 75); fill-opacity: 1; stroke: rgb(255, 255, 255); stroke-opacity: 1;\"/><path class=\"point\" transform=\"translate(134.64,73.11)\" d=\"M9.09,0A9.09,9.09 0 1,1 0,-9.09A9.09,9.09 0 0,1 9.09,0Z\" style=\"opacity: 0.7; stroke-width: 1px; fill: rgb(140, 86, 75); fill-opacity: 1; stroke: rgb(255, 255, 255); stroke-opacity: 1;\"/><path class=\"point\" transform=\"translate(272.47,52.14)\" d=\"M7.68,0A7.68,7.68 0 1,1 0,-7.68A7.68,7.68 0 0,1 7.68,0Z\" style=\"opacity: 0.7; stroke-width: 1px; fill: rgb(140, 86, 75); fill-opacity: 1; stroke: rgb(255, 255, 255); stroke-opacity: 1;\"/><path class=\"point\" transform=\"translate(167.84,78.97)\" d=\"M7.09,0A7.09,7.09 0 1,1 0,-7.09A7.09,7.09 0 0,1 7.09,0Z\" style=\"opacity: 0.7; stroke-width: 1px; fill: rgb(140, 86, 75); fill-opacity: 1; stroke: rgb(255, 255, 255); stroke-opacity: 1;\"/><path class=\"point\" transform=\"translate(147.79,72.78)\" d=\"M7.53,0A7.53,7.53 0 1,1 0,-7.53A7.53,7.53 0 0,1 7.53,0Z\" style=\"opacity: 0.7; stroke-width: 1px; fill: rgb(140, 86, 75); fill-opacity: 1; stroke: rgb(255, 255, 255); stroke-opacity: 1;\"/><path class=\"point\" transform=\"translate(276.86,68.35)\" d=\"M6.86,0A6.86,6.86 0 1,1 0,-6.86A6.86,6.86 0 0,1 6.86,0Z\" style=\"opacity: 0.7; stroke-width: 1px; fill: rgb(140, 86, 75); fill-opacity: 1; stroke: rgb(255, 255, 255); stroke-opacity: 1;\"/><path class=\"point\" transform=\"translate(378.35,96.68)\" d=\"M12.73,0A12.73,12.73 0 1,1 0,-12.73A12.73,12.73 0 0,1 12.73,0Z\" style=\"opacity: 0.7; stroke-width: 1px; fill: rgb(140, 86, 75); fill-opacity: 1; stroke: rgb(255, 255, 255); stroke-opacity: 1;\"/><path class=\"point\" transform=\"translate(272.47,87.27)\" d=\"M6.53,0A6.53,6.53 0 1,1 0,-6.53A6.53,6.53 0 0,1 6.53,0Z\" style=\"opacity: 0.7; stroke-width: 1px; fill: rgb(140, 86, 75); fill-opacity: 1; stroke: rgb(255, 255, 255); stroke-opacity: 1;\"/><path class=\"point\" transform=\"translate(181.63,77.55)\" d=\"M9.31,0A9.31,9.31 0 1,1 0,-9.31A9.31,9.31 0 0,1 9.31,0Z\" style=\"opacity: 0.7; stroke-width: 1px; fill: rgb(140, 86, 75); fill-opacity: 1; stroke: rgb(255, 255, 255); stroke-opacity: 1;\"/></g><g class=\"text\"/></g><g class=\"trace scatter tracecb2347\" style=\"stroke-miterlimit: 2; opacity: 1;\"><g class=\"fills\"/><g class=\"errorbars\"/><g class=\"lines\"/><g class=\"points\"><path class=\"point\" transform=\"translate(299.41,79.2)\" d=\"M7.61,0A7.61,7.61 0 1,1 0,-7.61A7.61,7.61 0 0,1 7.61,0Z\" style=\"opacity: 0.7; stroke-width: 1px; fill: rgb(227, 119, 194); fill-opacity: 1; stroke: rgb(255, 255, 255); stroke-opacity: 1;\"/><path class=\"point\" transform=\"translate(270.59,73.79)\" d=\"M9.08,0A9.08,9.08 0 1,1 0,-9.08A9.08,9.08 0 0,1 9.08,0Z\" style=\"opacity: 0.7; stroke-width: 1px; fill: rgb(227, 119, 194); fill-opacity: 1; stroke: rgb(255, 255, 255); stroke-opacity: 1;\"/><path class=\"point\" transform=\"translate(123.36,70.62)\" d=\"M8.07,0A8.07,8.07 0 1,1 0,-8.07A8.07,8.07 0 0,1 8.07,0Z\" style=\"opacity: 0.7; stroke-width: 1px; fill: rgb(227, 119, 194); fill-opacity: 1; stroke: rgb(255, 255, 255); stroke-opacity: 1;\"/><path class=\"point\" transform=\"translate(34.39,50.49)\" d=\"M7.24,0A7.24,7.24 0 1,1 0,-7.24A7.24,7.24 0 0,1 7.24,0Z\" style=\"opacity: 0.7; stroke-width: 1px; fill: rgb(227, 119, 194); fill-opacity: 1; stroke: rgb(255, 255, 255); stroke-opacity: 1;\"/><path class=\"point\" transform=\"translate(224.23,72.36)\" d=\"M7.56,0A7.56,7.56 0 1,1 0,-7.56A7.56,7.56 0 0,1 7.56,0Z\" style=\"opacity: 0.7; stroke-width: 1px; fill: rgb(227, 119, 194); fill-opacity: 1; stroke: rgb(255, 255, 255); stroke-opacity: 1;\"/><path class=\"point\" transform=\"translate(108.95,70.63)\" d=\"M6.75,0A6.75,6.75 0 1,1 0,-6.75A6.75,6.75 0 0,1 6.75,0Z\" style=\"opacity: 0.7; stroke-width: 1px; fill: rgb(227, 119, 194); fill-opacity: 1; stroke: rgb(255, 255, 255); stroke-opacity: 1;\"/><path class=\"point\" transform=\"translate(140.27,67.21)\" d=\"M9.16,0A9.16,9.16 0 1,1 0,-9.16A9.16,9.16 0 0,1 9.16,0Z\" style=\"opacity: 0.7; stroke-width: 1px; fill: rgb(227, 119, 194); fill-opacity: 1; stroke: rgb(255, 255, 255); stroke-opacity: 1;\"/><path class=\"point\" transform=\"translate(277.48,62.29)\" d=\"M7.68,0A7.68,7.68 0 1,1 0,-7.68A7.68,7.68 0 0,1 7.68,0Z\" style=\"opacity: 0.7; stroke-width: 1px; fill: rgb(227, 119, 194); fill-opacity: 1; stroke: rgb(255, 255, 255); stroke-opacity: 1;\"/><path class=\"point\" transform=\"translate(168.47,81.39)\" d=\"M7.17,0A7.17,7.17 0 1,1 0,-7.17A7.17,7.17 0 0,1 7.17,0Z\" style=\"opacity: 0.7; stroke-width: 1px; fill: rgb(227, 119, 194); fill-opacity: 1; stroke: rgb(255, 255, 255); stroke-opacity: 1;\"/><path class=\"point\" transform=\"translate(150.3,77.96)\" d=\"M7.54,0A7.54,7.54 0 1,1 0,-7.54A7.54,7.54 0 0,1 7.54,0Z\" style=\"opacity: 0.7; stroke-width: 1px; fill: rgb(227, 119, 194); fill-opacity: 1; stroke: rgb(255, 255, 255); stroke-opacity: 1;\"/><path class=\"point\" transform=\"translate(284.38,74.56)\" d=\"M6.94,0A6.94,6.94 0 1,1 0,-6.94A6.94,6.94 0 0,1 6.94,0Z\" style=\"opacity: 0.7; stroke-width: 1px; fill: rgb(227, 119, 194); fill-opacity: 1; stroke: rgb(255, 255, 255); stroke-opacity: 1;\"/><path class=\"point\" transform=\"translate(380.86,103.04)\" d=\"M12.79,0A12.79,12.79 0 1,1 0,-12.79A12.79,12.79 0 0,1 12.79,0Z\" style=\"opacity: 0.7; stroke-width: 1px; fill: rgb(227, 119, 194); fill-opacity: 1; stroke: rgb(255, 255, 255); stroke-opacity: 1;\"/><path class=\"point\" transform=\"translate(278.74,80.22)\" d=\"M6.59,0A6.59,6.59 0 1,1 0,-6.59A6.59,6.59 0 0,1 6.59,0Z\" style=\"opacity: 0.7; stroke-width: 1px; fill: rgb(227, 119, 194); fill-opacity: 1; stroke: rgb(255, 255, 255); stroke-opacity: 1;\"/><path class=\"point\" transform=\"translate(181.63,82.86)\" d=\"M9.35,0A9.35,9.35 0 1,1 0,-9.35A9.35,9.35 0 0,1 9.35,0Z\" style=\"opacity: 0.7; stroke-width: 1px; fill: rgb(227, 119, 194); fill-opacity: 1; stroke: rgb(255, 255, 255); stroke-opacity: 1;\"/></g><g class=\"text\"/></g></g></g><g class=\"overplot\"/><path class=\"xlines-above crisp\" d=\"M63,291.5H590\" style=\"fill: none; stroke-width: 1px; stroke: rgb(36, 36, 36); stroke-opacity: 1;\"/><path class=\"ylines-above crisp\" d=\"M63.5,15V291\" style=\"fill: none; stroke-width: 1px; stroke: rgb(36, 36, 36); stroke-opacity: 1;\"/><g class=\"overlines-above\"/><g class=\"xaxislayer-above\"><path class=\"xtick ticks crisp\" d=\"M0,292v5\" transform=\"translate(118.44,0)\" style=\"stroke: rgb(68, 68, 68); stroke-opacity: 1; stroke-width: 1px;\"/><path class=\"xtick ticks crisp\" d=\"M0,292v5\" transform=\"translate(243.75,0)\" style=\"stroke: rgb(68, 68, 68); stroke-opacity: 1; stroke-width: 1px;\"/><path class=\"xtick ticks crisp\" d=\"M0,292v5\" transform=\"translate(369.05,0)\" style=\"stroke: rgb(68, 68, 68); stroke-opacity: 1; stroke-width: 1px;\"/><path class=\"xtick ticks crisp\" d=\"M0,292v5\" transform=\"translate(494.36,0)\" style=\"stroke: rgb(68, 68, 68); stroke-opacity: 1; stroke-width: 1px;\"/><g class=\"xtick\"><text text-anchor=\"middle\" x=\"0\" y=\"311.4\" transform=\"translate(118.44,0)\" style=\"font-family: 'Open Sans', verdana, arial, sans-serif; font-size: 12px; fill: rgb(36, 36, 36); fill-opacity: 1; white-space: pre; opacity: 1;\">0.2</text></g><g class=\"xtick\"><text text-anchor=\"middle\" x=\"0\" y=\"311.4\" style=\"font-family: 'Open Sans', verdana, arial, sans-serif; font-size: 12px; fill: rgb(36, 36, 36); fill-opacity: 1; white-space: pre; opacity: 1;\" transform=\"translate(243.75,0)\">0.4</text></g><g class=\"xtick\"><text text-anchor=\"middle\" x=\"0\" y=\"311.4\" style=\"font-family: 'Open Sans', verdana, arial, sans-serif; font-size: 12px; fill: rgb(36, 36, 36); fill-opacity: 1; white-space: pre; opacity: 1;\" transform=\"translate(369.05,0)\">0.6</text></g><g class=\"xtick\"><text text-anchor=\"middle\" x=\"0\" y=\"311.4\" style=\"font-family: 'Open Sans', verdana, arial, sans-serif; font-size: 12px; fill: rgb(36, 36, 36); fill-opacity: 1; white-space: pre; opacity: 1;\" transform=\"translate(494.36,0)\">0.8</text></g></g><g class=\"yaxislayer-above\"><path class=\"ytick ticks crisp\" d=\"M63,0h-5\" transform=\"translate(0,260.31)\" style=\"stroke: rgb(68, 68, 68); stroke-opacity: 1; stroke-width: 1px;\"/><path class=\"ytick ticks crisp\" d=\"M63,0h-5\" transform=\"translate(0,211.94)\" style=\"stroke: rgb(68, 68, 68); stroke-opacity: 1; stroke-width: 1px;\"/><path class=\"ytick ticks crisp\" d=\"M63,0h-5\" transform=\"translate(0,163.57)\" style=\"stroke: rgb(68, 68, 68); stroke-opacity: 1; stroke-width: 1px;\"/><path class=\"ytick ticks crisp\" d=\"M63,0h-5\" transform=\"translate(0,115.2)\" style=\"stroke: rgb(68, 68, 68); stroke-opacity: 1; stroke-width: 1px;\"/><path class=\"ytick ticks crisp\" d=\"M63,0h-5\" transform=\"translate(0,66.83)\" style=\"stroke: rgb(68, 68, 68); stroke-opacity: 1; stroke-width: 1px;\"/><path class=\"ytick ticks crisp\" d=\"M63,0h-5\" transform=\"translate(0,18.45)\" style=\"stroke: rgb(68, 68, 68); stroke-opacity: 1; stroke-width: 1px;\"/><g class=\"ytick\"><text text-anchor=\"end\" x=\"55.6\" y=\"4.199999999999999\" transform=\"translate(0,260.31)\" style=\"font-family: 'Open Sans', verdana, arial, sans-serif; font-size: 12px; fill: rgb(36, 36, 36); fill-opacity: 1; white-space: pre; opacity: 1;\">−25</text></g><g class=\"ytick\"><text text-anchor=\"end\" x=\"55.6\" y=\"4.199999999999999\" style=\"font-family: 'Open Sans', verdana, arial, sans-serif; font-size: 12px; fill: rgb(36, 36, 36); fill-opacity: 1; white-space: pre; opacity: 1;\" transform=\"translate(0,211.94)\">−20</text></g><g class=\"ytick\"><text text-anchor=\"end\" x=\"55.6\" y=\"4.199999999999999\" style=\"font-family: 'Open Sans', verdana, arial, sans-serif; font-size: 12px; fill: rgb(36, 36, 36); fill-opacity: 1; white-space: pre; opacity: 1;\" transform=\"translate(0,163.57)\">−15</text></g><g class=\"ytick\"><text text-anchor=\"end\" x=\"55.6\" y=\"4.199999999999999\" style=\"font-family: 'Open Sans', verdana, arial, sans-serif; font-size: 12px; fill: rgb(36, 36, 36); fill-opacity: 1; white-space: pre; opacity: 1;\" transform=\"translate(0,115.2)\">−10</text></g><g class=\"ytick\"><text text-anchor=\"end\" x=\"55.6\" y=\"4.199999999999999\" style=\"font-family: 'Open Sans', verdana, arial, sans-serif; font-size: 12px; fill: rgb(36, 36, 36); fill-opacity: 1; white-space: pre; opacity: 1;\" transform=\"translate(0,66.83)\">−5</text></g><g class=\"ytick\"><text text-anchor=\"end\" x=\"55.6\" y=\"4.199999999999999\" style=\"font-family: 'Open Sans', verdana, arial, sans-serif; font-size: 12px; fill: rgb(36, 36, 36); fill-opacity: 1; white-space: pre; opacity: 1;\" transform=\"translate(0,18.45)\">0</text></g></g><g class=\"overaxes-above\"/></g></g><g class=\"polarlayer\"/><g class=\"smithlayer\"/><g class=\"ternarylayer\"/><g class=\"geolayer\"/><g class=\"funnelarealayer\"/><g class=\"pielayer\"/><g class=\"iciclelayer\"/><g class=\"treemaplayer\"/><g class=\"sunburstlayer\"/><g class=\"glimages\"/><defs id=\"topdefs-d8cce9\"><g class=\"clips\"/></defs><g class=\"layer-above\"><g class=\"imagelayer\"/><g class=\"shapelayer\"/></g><g class=\"infolayer\"><g class=\"g-gtitle\"/><g class=\"g-xtitle\"><text class=\"xtitle\" x=\"327\" y=\"339.70625\" text-anchor=\"middle\" style=\"font-family: 'Open Sans', verdana, arial, sans-serif; font-size: 14px; fill: rgb(36, 36, 36); opacity: 1; font-weight: normal; white-space: pre;\">danceability</text></g><g class=\"g-ytitle\" transform=\"translate(4.7841796875,0)\"><text class=\"ytitle\" transform=\"rotate(-90,10.215625000000003,153)\" x=\"10.215625000000003\" y=\"153\" text-anchor=\"middle\" style=\"font-family: 'Open Sans', verdana, arial, sans-serif; font-size: 14px; fill: rgb(36, 36, 36); opacity: 1; font-weight: normal; white-space: pre;\">loudness</text></g></g></svg>"
      ]
     },
     "metadata": {},
     "output_type": "display_data"
    }
   ],
   "source": [
    "fig = px.scatter(clash_df, x='danceability', y='loudness', \n",
    "           color='album_name', size='duration_ms',\n",
    "           width=600, height=350)\n",
    "\n",
    "fig.update_layout(showlegend=False)\n",
    "fig"
   ]
  },
  {
   "cell_type": "markdown",
   "metadata": {},
   "source": [
    "When we retrieve HTML pages from the web, we need to do a bit of wrangling to extract the data. At other times the data from a REST request may be in an XML format, where we need to do a similar extraction. We describe how to work with these formats next. "
   ]
  }
 ],
 "metadata": {
  "kernelspec": {
   "display_name": "Python 3",
   "language": "python",
   "name": "python3"
  },
  "language_info": {
   "codemirror_mode": {
    "name": "ipython",
    "version": 3
   },
   "file_extension": ".py",
   "mimetype": "text/x-python",
   "name": "python",
   "nbconvert_exporter": "python",
   "pygments_lexer": "ipython3",
   "version": "3.9.4"
  }
 },
 "nbformat": 4,
 "nbformat_minor": 4
}
