{
 "cells": [
  {
   "cell_type": "markdown",
   "metadata": {},
   "source": [
    "(ch:web)=\n",
    "# Data Exchange"
   ]
  },
  {
   "cell_type": "markdown",
   "metadata": {},
   "source": [
    "Data can be stored and exchanged in many different formats. Plain text delimited and fixed-width formats have been our primary focus (Chapter 8), and in this chapter we expand our horizons a bit and introduce a few other popular formats. While CSV, TSV, and FWF files are useful for loading data into a data frame, other file formats can save space or represent more complex data structures. *Binary* files (a term that lumps together formats that aren't plain text) can be more economical than plain text data sources. For example, NetCDF is a popular binary format for exchanging large amounts of scientific data. And, other plain text formats, like JSON and XML, can organize data in ways that are more general and useful for complex structures. Even HTML Web pages, a close cousin to XML, often contain useful information that we can scrape and wrangle into shape for analysis.\n",
    "\n",
    "In this chapter, we introduce these popular formats, describe a mental model for their organization, and provide examples. In addition to introducing these formats, we cover programmatic ways to acquire data online. Before the Internet, data scientists had to physically move disk drives to share data with one another. Now, we can freely retrieve datasets from computers across the world. We introduce HTTP, the primary communication protocol for the Web, and REST, an architecture to transfer data. By learning a bit about these web technologies, we can take better advantage of the web as a data source.\n",
    "\n",
    "We begin with a description of NetCDF, followed by JSON. Then after an overview of web protocols for data exchange, we wrap up the chapter with an introduction to XML, HTML, and XPath, a tool for extracting content from these types of files."
   ]
  }
 ],
 "metadata": {
  "kernelspec": {
   "display_name": "Python 3",
   "language": "python",
   "name": "python3"
  },
  "language_info": {
   "codemirror_mode": {
    "name": "ipython",
    "version": 3
   },
   "file_extension": ".py",
   "mimetype": "text/x-python",
   "name": "python",
   "nbconvert_exporter": "python",
   "pygments_lexer": "ipython3",
   "version": "3.9.4"
  }
 },
 "nbformat": 4,
 "nbformat_minor": 4
}
