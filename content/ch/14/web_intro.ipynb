{
 "cells": [
  {
   "cell_type": "markdown",
   "metadata": {},
   "source": [
    "(ch:web)=\n",
    "# Web Technologies"
   ]
  },
  {
   "cell_type": "markdown",
   "metadata": {},
   "source": [
    ":::{note}\n",
    "\n",
    "This chapter is under development. When it's finished, this note will be\n",
    "removed.\n",
    "\n",
    ":::"
   ]
  },
  {
   "cell_type": "markdown",
   "metadata": {},
   "source": [
    "Before the Internet, data scientists had to physically move hard disk drives to\n",
    "share data with others. Now, we can freely retrieve datasets from computers\n",
    "across the world.\n",
    "\n",
    "Although we use the Internet to download and share data files, the web pages on\n",
    "the Internet themselves contain huge amounts of information as text, images,\n",
    "and videos. By learning web technologies, we can use the Web as a data source.\n",
    "In this chapter, we introduce HTTP, the primary communication protocol for the\n",
    "Web, and XML/HTML, the primary document formats for web pages."
   ]
  }
 ],
 "metadata": {
  "kernelspec": {
   "display_name": "Python 3",
   "language": "python",
   "name": "python3"
  },
  "language_info": {
   "codemirror_mode": {
    "name": "ipython",
    "version": 3
   },
   "file_extension": ".py",
   "mimetype": "text/x-python",
   "name": "python",
   "nbconvert_exporter": "python",
   "pygments_lexer": "ipython3",
   "version": "3.9.4"
  }
 },
 "nbformat": 4,
 "nbformat_minor": 4
}
