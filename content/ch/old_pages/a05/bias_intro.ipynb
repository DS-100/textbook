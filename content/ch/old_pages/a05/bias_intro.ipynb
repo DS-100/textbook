{
 "cells": [
  {
   "cell_type": "markdown",
   "metadata": {},
   "source": [
    "# The Bias-Variance Tradeoff"
   ]
  },
  {
   "cell_type": "markdown",
   "metadata": {},
   "source": [
    ":::{note}\n",
    "\n",
    "This is a legacy chapter which will eventually be incorporated into Chapter 17.\n",
    "This chapter will remain here as an appendix until we finish Chapter 17.\n",
    "\n",
    ":::"
   ]
  },
  {
   "cell_type": "markdown",
   "metadata": {},
   "source": [
    "Sometimes, we choose a model that is too simple to represent the underlying\n",
    "data generation process. Other times, we choose a model that is too complex—it\n",
    "fits the noise in the data rather than the data's overall pattern.\n",
    "\n",
    "To understand why this happens, we analyze our models using the tools of\n",
    "probability and statistics. These tools allow us to generalize beyond a few\n",
    "isolated examples to describe fundamental phenomena in modeling. In\n",
    "particular, we will use the tools of expectation and variance to uncover the bias-variance tradeoff."
   ]
  }
 ],
 "metadata": {
  "kernelspec": {
   "display_name": "Python 3",
   "language": "python",
   "name": "python3"
  },
  "language_info": {
   "codemirror_mode": {
    "name": "ipython",
    "version": 3
   },
   "file_extension": ".py",
   "mimetype": "text/x-python",
   "name": "python",
   "nbconvert_exporter": "python",
   "pygments_lexer": "ipython3",
   "version": "3.9.4"
  }
 },
 "nbformat": 4,
 "nbformat_minor": 4
}
