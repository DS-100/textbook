{
 "cells": [
  {
   "cell_type": "code",
   "execution_count": 1,
   "metadata": {
    "tags": [
     "remove-cell"
    ]
   },
   "outputs": [],
   "source": [
    "# Reference: https://jupyterbook.org/interactive/hiding.html\n",
    "# Use {hide, remove}-{input, output, cell} tags to hiding content\n",
    "\n",
    "import numpy as np\n",
    "import matplotlib.pyplot as plt\n",
    "import pandas as pd\n",
    "import seaborn as sns\n",
    "%matplotlib inline\n",
    "import ipywidgets as widgets\n",
    "from ipywidgets import interact, interactive, fixed, interact_manual\n",
    "from IPython.display import display, set_matplotlib_formats\n",
    "import myst_nb\n",
    "\n",
    "import plotly\n",
    "import plotly.graph_objects as go\n",
    "import plotly.express as px\n",
    "from plotly.subplots import make_subplots\n",
    "import plotly.io as pio\n",
    "pio.renderers.default = 'plotly_mimetype+svg'\n",
    "pio.templates['book'] = go.layout.Template(\n",
    "    layout=dict(\n",
    "        margin=dict(l=10, r=10, t=10, b=10),\n",
    "        autosize=True,\n",
    "        width=350, height=250,\n",
    "    )\n",
    ")\n",
    "pio.templates.default = 'seaborn+book'\n",
    "\n",
    "set_matplotlib_formats('svg')\n",
    "sns.set()\n",
    "np.set_printoptions(threshold=20, precision=2, suppress=True)\n",
    "pd.set_option('display.max_rows', 7)\n",
    "pd.set_option('display.max_columns', 8)\n",
    "pd.set_option('precision', 2)\n",
    "# This option stops scientific notation for pandas\n",
    "# pd.set_option('display.float_format', '{:.2f}'.format)\n",
    "\n",
    "def display_df(df, rows=pd.options.display.max_rows,\n",
    "               cols=pd.options.display.max_columns):\n",
    "    with pd.option_context('display.max_rows', rows,\n",
    "                           'display.max_columns', cols):\n",
    "        display(df)"
   ]
  },
  {
   "cell_type": "code",
   "execution_count": 2,
   "metadata": {
    "tags": [
     "remove-cell"
    ]
   },
   "outputs": [],
   "source": [
    "_clear = ['bingroup']\n",
    "\n",
    "def _clear_props(traces):\n",
    "    for trace in traces:\n",
    "        for prop in _clear:\n",
    "            if hasattr(trace, prop):\n",
    "                trace.update({prop: None})\n",
    "\n",
    "def left_right(left, right, width=700, height=250, **kwargs):\n",
    "    fig = make_subplots(cols=2, **kwargs)\n",
    "    fig.update_layout(width=width, height=height)\n",
    "    \n",
    "    t1 = list(left.select_traces())\n",
    "    t2 = list(right.select_traces())\n",
    "    _clear_props([*t1, *t2])\n",
    "    fig.add_traces(t1, rows=1, cols=1)\n",
    "    fig.add_traces(t2, rows=1, cols=2)\n",
    "    return fig\n",
    "\n",
    "def margin(fig, **kwargs):\n",
    "    return fig.update_layout(margin=kwargs)\n",
    "\n",
    "def to_plotly_text(text):\n",
    "    return text.strip().replace('\\n', '<br>')"
   ]
  },
  {
   "cell_type": "markdown",
   "metadata": {
    "colab_type": "text",
    "id": "C8fl0JZSL8Fc"
   },
   "source": [
    "=(ch:mult_inference)\n",
    "# Inference for Multiple Linear Regression "
   ]
  },
  {
   "cell_type": "markdown",
   "metadata": {
    "colab_type": "text",
    "id": "C8fl0JZSL8Fc"
   },
   "source": [
    "In linear regression, we fit a model of the following form:\n",
    "\n",
    "$$\n",
    "\\begin{aligned}\n",
    "f_\\boldsymbol\\theta (\\textbf{x})\n",
    "  &= \\boldsymbol\\theta \\cdot \\textbf{x} \\\\\n",
    "  &= \\theta_0 + \\theta_1 x_1\n",
    "    + \\ldots + \\theta_p x_p\n",
    "\\end{aligned}\n",
    "$$\n",
    "\n",
    "This model says that our prediction $f_\\boldsymbol\\theta (\\textbf{x})$\n",
    "depends linearly on each feature $x_i$.\n",
    "And after fitting on our sample, we find $ \\hat{\\boldsymbol \\theta} $, the\n",
    "model parameters that minimize our sample error."
   ]
  },
  {
   "cell_type": "markdown",
   "metadata": {},
   "source": [
    "Now, we'd like to generalize the model from the sample\n",
    "to the population.\n",
    "The key idea is to treat our data themselves as random draws from the\n",
    "population.\n",
    "Then, we can use bootstrap resampling to simulate drawing multiple samples.\n",
    "We'll fit the model on each resample, make confidence intervals for \n",
    "the model parameters, and use the confidence intervals to make inferences\n",
    "about the population.\n",
    "Let's see this process through an example."
   ]
  },
  {
   "cell_type": "markdown",
   "metadata": {
    "colab_type": "text",
    "id": "5u8eZneY7QFC"
   },
   "source": [
    "## The Data\n",
    "\n",
    "Otis Dudley Duncan was a quantitative sociologist interested in measuring the prestige levels of different occupations. There were only 90 occupations that were rated for their prestige level in the 1947 National Opinion Research Center (NORC) survey. Duncan wanted to “fill in” prestige scores for unrated occupations by using income and education data about each occupation recorded by the 1950 census. When joining the NORC data with the 1950 census data, only 45 occupations could be matched. Ultimately, Duncan's goal was to create a model to explain prestige using different characteristics; using this model, one can predict the prestige of other occupations not recorded in the NORC survey.\n",
    "\n",
    "The Duncan dataset is a random sample of that contains information on the prestige and other characteristics of 45 U. S. occupations in 1950. \n",
    "The variables are:\n",
    "\n",
    "`occupation` represents the type of occupation/title.\n",
    "\n",
    "`income` represents the percentage of occupational incumbents who earned incomes in excess of $3,500.\n",
    "\n",
    "`education` represents the percentage of incumbents in the occupation in the 1950 U.S. Census who were high school graduates.\n",
    "\n",
    "`prestige` represents the percentage of respondents in a survey who rated an occupation as “good” or “excellent” in prestige.\n",
    "\n",
    "\n",
    "\n",
    "\n"
   ]
  },
  {
   "cell_type": "code",
   "execution_count": 5,
   "metadata": {},
   "outputs": [
    {
     "data": {
      "text/html": [
       "<div>\n",
       "<style scoped>\n",
       "    .dataframe tbody tr th:only-of-type {\n",
       "        vertical-align: middle;\n",
       "    }\n",
       "\n",
       "    .dataframe tbody tr th {\n",
       "        vertical-align: top;\n",
       "    }\n",
       "\n",
       "    .dataframe thead th {\n",
       "        text-align: right;\n",
       "    }\n",
       "</style>\n",
       "<table border=\"1\" class=\"dataframe\">\n",
       "  <thead>\n",
       "    <tr style=\"text-align: right;\">\n",
       "      <th></th>\n",
       "      <th>occupation</th>\n",
       "      <th>income</th>\n",
       "      <th>education</th>\n",
       "      <th>prestige</th>\n",
       "    </tr>\n",
       "  </thead>\n",
       "  <tbody>\n",
       "    <tr>\n",
       "      <th>0</th>\n",
       "      <td>accountant</td>\n",
       "      <td>62</td>\n",
       "      <td>86</td>\n",
       "      <td>82</td>\n",
       "    </tr>\n",
       "    <tr>\n",
       "      <th>1</th>\n",
       "      <td>pilot</td>\n",
       "      <td>72</td>\n",
       "      <td>76</td>\n",
       "      <td>83</td>\n",
       "    </tr>\n",
       "    <tr>\n",
       "      <th>2</th>\n",
       "      <td>architect</td>\n",
       "      <td>75</td>\n",
       "      <td>92</td>\n",
       "      <td>90</td>\n",
       "    </tr>\n",
       "    <tr>\n",
       "      <th>...</th>\n",
       "      <td>...</td>\n",
       "      <td>...</td>\n",
       "      <td>...</td>\n",
       "      <td>...</td>\n",
       "    </tr>\n",
       "    <tr>\n",
       "      <th>42</th>\n",
       "      <td>janitor</td>\n",
       "      <td>7</td>\n",
       "      <td>20</td>\n",
       "      <td>8</td>\n",
       "    </tr>\n",
       "    <tr>\n",
       "      <th>43</th>\n",
       "      <td>policeman</td>\n",
       "      <td>34</td>\n",
       "      <td>47</td>\n",
       "      <td>41</td>\n",
       "    </tr>\n",
       "    <tr>\n",
       "      <th>44</th>\n",
       "      <td>waiter</td>\n",
       "      <td>8</td>\n",
       "      <td>32</td>\n",
       "      <td>10</td>\n",
       "    </tr>\n",
       "  </tbody>\n",
       "</table>\n",
       "<p>45 rows × 4 columns</p>\n",
       "</div>"
      ],
      "text/plain": [
       "    occupation  income  education  prestige\n",
       "0   accountant      62         86        82\n",
       "1        pilot      72         76        83\n",
       "2    architect      75         92        90\n",
       "..         ...     ...        ...       ...\n",
       "42     janitor       7         20         8\n",
       "43   policeman      34         47        41\n",
       "44      waiter       8         32        10\n",
       "\n",
       "[45 rows x 4 columns]"
      ]
     },
     "execution_count": 5,
     "metadata": {},
     "output_type": "execute_result"
    }
   ],
   "source": [
    "duncan = pd.read_csv('data/duncan.csv').loc[:, [\"occupation\", \"income\", \"education\", \"prestige\"]]\n",
    "duncan"
   ]
  },
  {
   "cell_type": "markdown",
   "metadata": {},
   "source": [
    "It's a good idea to explore the data through visualization in order to gain an understanding of the relationships between our variables.\n",
    "To see if we can use income and education to predict prestige, we'll\n",
    "create scatter plots that show the relation between these variables and\n",
    "prestige."
   ]
  },
  {
   "cell_type": "code",
   "execution_count": 15,
   "metadata": {
    "tags": [
     "hide-input"
    ]
   },
   "outputs": [
    {
     "data": {
      "application/vnd.plotly.v1+json": {
       "config": {
        "plotlyServerURL": "https://plot.ly"
       },
       "data": [
        {
         "hovertemplate": "income=%{x}<br>prestige=%{y}<extra></extra>",
         "legendgroup": "",
         "marker": {
          "color": "rgb(76,114,176)",
          "symbol": "circle"
         },
         "mode": "markers",
         "name": "",
         "orientation": "v",
         "showlegend": false,
         "type": "scatter",
         "x": [
          62,
          72,
          75,
          55,
          64,
          21,
          64,
          80,
          67,
          72,
          42,
          76,
          76,
          41,
          48,
          76,
          53,
          60,
          42,
          78,
          29,
          48,
          55,
          29,
          21,
          47,
          81,
          36,
          22,
          44,
          15,
          7,
          42,
          9,
          21,
          21,
          16,
          16,
          9,
          14,
          12,
          17,
          7,
          34,
          8
         ],
         "xaxis": "x",
         "y": [
          82,
          83,
          90,
          76,
          90,
          87,
          93,
          90,
          52,
          88,
          57,
          89,
          97,
          59,
          73,
          38,
          76,
          81,
          45,
          92,
          39,
          34,
          41,
          16,
          33,
          53,
          67,
          57,
          26,
          29,
          10,
          15,
          19,
          10,
          13,
          24,
          20,
          7,
          3,
          16,
          6,
          11,
          8,
          41,
          10
         ],
         "yaxis": "y"
        },
        {
         "hovertemplate": "education=%{x}<br>prestige=%{y}<extra></extra>",
         "legendgroup": "",
         "marker": {
          "color": "rgb(76,114,176)",
          "symbol": "circle"
         },
         "mode": "markers",
         "name": "",
         "orientation": "v",
         "showlegend": false,
         "type": "scatter",
         "x": [
          86,
          76,
          92,
          90,
          86,
          84,
          93,
          100,
          87,
          86,
          74,
          98,
          97,
          84,
          91,
          34,
          45,
          56,
          44,
          82,
          72,
          55,
          71,
          50,
          23,
          39,
          28,
          32,
          22,
          25,
          29,
          7,
          26,
          19,
          15,
          20,
          26,
          28,
          17,
          22,
          30,
          25,
          20,
          47,
          32
         ],
         "xaxis": "x2",
         "y": [
          82,
          83,
          90,
          76,
          90,
          87,
          93,
          90,
          52,
          88,
          57,
          89,
          97,
          59,
          73,
          38,
          76,
          81,
          45,
          92,
          39,
          34,
          41,
          16,
          33,
          53,
          67,
          57,
          26,
          29,
          10,
          15,
          19,
          10,
          13,
          24,
          20,
          7,
          3,
          16,
          6,
          11,
          8,
          41,
          10
         ],
         "yaxis": "y2"
        }
       ],
       "layout": {
        "height": 250,
        "template": {
         "data": {
          "bar": [
           {
            "error_x": {
             "color": "rgb(36,36,36)"
            },
            "error_y": {
             "color": "rgb(36,36,36)"
            },
            "marker": {
             "line": {
              "color": "rgb(234,234,242)",
              "width": 0.5
             },
             "pattern": {
              "fillmode": "overlay",
              "size": 10,
              "solidity": 0.2
             }
            },
            "type": "bar"
           }
          ],
          "barpolar": [
           {
            "marker": {
             "line": {
              "color": "rgb(234,234,242)",
              "width": 0.5
             },
             "pattern": {
              "fillmode": "overlay",
              "size": 10,
              "solidity": 0.2
             }
            },
            "type": "barpolar"
           }
          ],
          "carpet": [
           {
            "aaxis": {
             "endlinecolor": "rgb(36,36,36)",
             "gridcolor": "white",
             "linecolor": "white",
             "minorgridcolor": "white",
             "startlinecolor": "rgb(36,36,36)"
            },
            "baxis": {
             "endlinecolor": "rgb(36,36,36)",
             "gridcolor": "white",
             "linecolor": "white",
             "minorgridcolor": "white",
             "startlinecolor": "rgb(36,36,36)"
            },
            "type": "carpet"
           }
          ],
          "choropleth": [
           {
            "colorbar": {
             "outlinewidth": 0,
             "tickcolor": "rgb(36,36,36)",
             "ticklen": 8,
             "ticks": "outside",
             "tickwidth": 2
            },
            "type": "choropleth"
           }
          ],
          "contour": [
           {
            "colorbar": {
             "outlinewidth": 0,
             "tickcolor": "rgb(36,36,36)",
             "ticklen": 8,
             "ticks": "outside",
             "tickwidth": 2
            },
            "colorscale": [
             [
              0,
              "rgb(2,4,25)"
             ],
             [
              0.06274509803921569,
              "rgb(24,15,41)"
             ],
             [
              0.12549019607843137,
              "rgb(47,23,57)"
             ],
             [
              0.18823529411764706,
              "rgb(71,28,72)"
             ],
             [
              0.25098039215686274,
              "rgb(97,30,82)"
             ],
             [
              0.3137254901960784,
              "rgb(123,30,89)"
             ],
             [
              0.3764705882352941,
              "rgb(150,27,91)"
             ],
             [
              0.4392156862745098,
              "rgb(177,22,88)"
             ],
             [
              0.5019607843137255,
              "rgb(203,26,79)"
             ],
             [
              0.5647058823529412,
              "rgb(223,47,67)"
             ],
             [
              0.6274509803921569,
              "rgb(236,76,61)"
             ],
             [
              0.6901960784313725,
              "rgb(242,107,73)"
             ],
             [
              0.7529411764705882,
              "rgb(244,135,95)"
             ],
             [
              0.8156862745098039,
              "rgb(245,162,122)"
             ],
             [
              0.8784313725490196,
              "rgb(246,188,153)"
             ],
             [
              0.9411764705882353,
              "rgb(247,212,187)"
             ],
             [
              1,
              "rgb(250,234,220)"
             ]
            ],
            "type": "contour"
           }
          ],
          "contourcarpet": [
           {
            "colorbar": {
             "outlinewidth": 0,
             "tickcolor": "rgb(36,36,36)",
             "ticklen": 8,
             "ticks": "outside",
             "tickwidth": 2
            },
            "type": "contourcarpet"
           }
          ],
          "heatmap": [
           {
            "colorbar": {
             "outlinewidth": 0,
             "tickcolor": "rgb(36,36,36)",
             "ticklen": 8,
             "ticks": "outside",
             "tickwidth": 2
            },
            "colorscale": [
             [
              0,
              "rgb(2,4,25)"
             ],
             [
              0.06274509803921569,
              "rgb(24,15,41)"
             ],
             [
              0.12549019607843137,
              "rgb(47,23,57)"
             ],
             [
              0.18823529411764706,
              "rgb(71,28,72)"
             ],
             [
              0.25098039215686274,
              "rgb(97,30,82)"
             ],
             [
              0.3137254901960784,
              "rgb(123,30,89)"
             ],
             [
              0.3764705882352941,
              "rgb(150,27,91)"
             ],
             [
              0.4392156862745098,
              "rgb(177,22,88)"
             ],
             [
              0.5019607843137255,
              "rgb(203,26,79)"
             ],
             [
              0.5647058823529412,
              "rgb(223,47,67)"
             ],
             [
              0.6274509803921569,
              "rgb(236,76,61)"
             ],
             [
              0.6901960784313725,
              "rgb(242,107,73)"
             ],
             [
              0.7529411764705882,
              "rgb(244,135,95)"
             ],
             [
              0.8156862745098039,
              "rgb(245,162,122)"
             ],
             [
              0.8784313725490196,
              "rgb(246,188,153)"
             ],
             [
              0.9411764705882353,
              "rgb(247,212,187)"
             ],
             [
              1,
              "rgb(250,234,220)"
             ]
            ],
            "type": "heatmap"
           }
          ],
          "heatmapgl": [
           {
            "colorbar": {
             "outlinewidth": 0,
             "tickcolor": "rgb(36,36,36)",
             "ticklen": 8,
             "ticks": "outside",
             "tickwidth": 2
            },
            "colorscale": [
             [
              0,
              "rgb(2,4,25)"
             ],
             [
              0.06274509803921569,
              "rgb(24,15,41)"
             ],
             [
              0.12549019607843137,
              "rgb(47,23,57)"
             ],
             [
              0.18823529411764706,
              "rgb(71,28,72)"
             ],
             [
              0.25098039215686274,
              "rgb(97,30,82)"
             ],
             [
              0.3137254901960784,
              "rgb(123,30,89)"
             ],
             [
              0.3764705882352941,
              "rgb(150,27,91)"
             ],
             [
              0.4392156862745098,
              "rgb(177,22,88)"
             ],
             [
              0.5019607843137255,
              "rgb(203,26,79)"
             ],
             [
              0.5647058823529412,
              "rgb(223,47,67)"
             ],
             [
              0.6274509803921569,
              "rgb(236,76,61)"
             ],
             [
              0.6901960784313725,
              "rgb(242,107,73)"
             ],
             [
              0.7529411764705882,
              "rgb(244,135,95)"
             ],
             [
              0.8156862745098039,
              "rgb(245,162,122)"
             ],
             [
              0.8784313725490196,
              "rgb(246,188,153)"
             ],
             [
              0.9411764705882353,
              "rgb(247,212,187)"
             ],
             [
              1,
              "rgb(250,234,220)"
             ]
            ],
            "type": "heatmapgl"
           }
          ],
          "histogram": [
           {
            "marker": {
             "pattern": {
              "fillmode": "overlay",
              "size": 10,
              "solidity": 0.2
             }
            },
            "type": "histogram"
           }
          ],
          "histogram2d": [
           {
            "colorbar": {
             "outlinewidth": 0,
             "tickcolor": "rgb(36,36,36)",
             "ticklen": 8,
             "ticks": "outside",
             "tickwidth": 2
            },
            "colorscale": [
             [
              0,
              "rgb(2,4,25)"
             ],
             [
              0.06274509803921569,
              "rgb(24,15,41)"
             ],
             [
              0.12549019607843137,
              "rgb(47,23,57)"
             ],
             [
              0.18823529411764706,
              "rgb(71,28,72)"
             ],
             [
              0.25098039215686274,
              "rgb(97,30,82)"
             ],
             [
              0.3137254901960784,
              "rgb(123,30,89)"
             ],
             [
              0.3764705882352941,
              "rgb(150,27,91)"
             ],
             [
              0.4392156862745098,
              "rgb(177,22,88)"
             ],
             [
              0.5019607843137255,
              "rgb(203,26,79)"
             ],
             [
              0.5647058823529412,
              "rgb(223,47,67)"
             ],
             [
              0.6274509803921569,
              "rgb(236,76,61)"
             ],
             [
              0.6901960784313725,
              "rgb(242,107,73)"
             ],
             [
              0.7529411764705882,
              "rgb(244,135,95)"
             ],
             [
              0.8156862745098039,
              "rgb(245,162,122)"
             ],
             [
              0.8784313725490196,
              "rgb(246,188,153)"
             ],
             [
              0.9411764705882353,
              "rgb(247,212,187)"
             ],
             [
              1,
              "rgb(250,234,220)"
             ]
            ],
            "type": "histogram2d"
           }
          ],
          "histogram2dcontour": [
           {
            "colorbar": {
             "outlinewidth": 0,
             "tickcolor": "rgb(36,36,36)",
             "ticklen": 8,
             "ticks": "outside",
             "tickwidth": 2
            },
            "colorscale": [
             [
              0,
              "rgb(2,4,25)"
             ],
             [
              0.06274509803921569,
              "rgb(24,15,41)"
             ],
             [
              0.12549019607843137,
              "rgb(47,23,57)"
             ],
             [
              0.18823529411764706,
              "rgb(71,28,72)"
             ],
             [
              0.25098039215686274,
              "rgb(97,30,82)"
             ],
             [
              0.3137254901960784,
              "rgb(123,30,89)"
             ],
             [
              0.3764705882352941,
              "rgb(150,27,91)"
             ],
             [
              0.4392156862745098,
              "rgb(177,22,88)"
             ],
             [
              0.5019607843137255,
              "rgb(203,26,79)"
             ],
             [
              0.5647058823529412,
              "rgb(223,47,67)"
             ],
             [
              0.6274509803921569,
              "rgb(236,76,61)"
             ],
             [
              0.6901960784313725,
              "rgb(242,107,73)"
             ],
             [
              0.7529411764705882,
              "rgb(244,135,95)"
             ],
             [
              0.8156862745098039,
              "rgb(245,162,122)"
             ],
             [
              0.8784313725490196,
              "rgb(246,188,153)"
             ],
             [
              0.9411764705882353,
              "rgb(247,212,187)"
             ],
             [
              1,
              "rgb(250,234,220)"
             ]
            ],
            "type": "histogram2dcontour"
           }
          ],
          "mesh3d": [
           {
            "colorbar": {
             "outlinewidth": 0,
             "tickcolor": "rgb(36,36,36)",
             "ticklen": 8,
             "ticks": "outside",
             "tickwidth": 2
            },
            "type": "mesh3d"
           }
          ],
          "parcoords": [
           {
            "line": {
             "colorbar": {
              "outlinewidth": 0,
              "tickcolor": "rgb(36,36,36)",
              "ticklen": 8,
              "ticks": "outside",
              "tickwidth": 2
             }
            },
            "type": "parcoords"
           }
          ],
          "pie": [
           {
            "automargin": true,
            "type": "pie"
           }
          ],
          "scatter": [
           {
            "marker": {
             "colorbar": {
              "outlinewidth": 0,
              "tickcolor": "rgb(36,36,36)",
              "ticklen": 8,
              "ticks": "outside",
              "tickwidth": 2
             }
            },
            "type": "scatter"
           }
          ],
          "scatter3d": [
           {
            "line": {
             "colorbar": {
              "outlinewidth": 0,
              "tickcolor": "rgb(36,36,36)",
              "ticklen": 8,
              "ticks": "outside",
              "tickwidth": 2
             }
            },
            "marker": {
             "colorbar": {
              "outlinewidth": 0,
              "tickcolor": "rgb(36,36,36)",
              "ticklen": 8,
              "ticks": "outside",
              "tickwidth": 2
             }
            },
            "type": "scatter3d"
           }
          ],
          "scattercarpet": [
           {
            "marker": {
             "colorbar": {
              "outlinewidth": 0,
              "tickcolor": "rgb(36,36,36)",
              "ticklen": 8,
              "ticks": "outside",
              "tickwidth": 2
             }
            },
            "type": "scattercarpet"
           }
          ],
          "scattergeo": [
           {
            "marker": {
             "colorbar": {
              "outlinewidth": 0,
              "tickcolor": "rgb(36,36,36)",
              "ticklen": 8,
              "ticks": "outside",
              "tickwidth": 2
             }
            },
            "type": "scattergeo"
           }
          ],
          "scattergl": [
           {
            "marker": {
             "colorbar": {
              "outlinewidth": 0,
              "tickcolor": "rgb(36,36,36)",
              "ticklen": 8,
              "ticks": "outside",
              "tickwidth": 2
             }
            },
            "type": "scattergl"
           }
          ],
          "scattermapbox": [
           {
            "marker": {
             "colorbar": {
              "outlinewidth": 0,
              "tickcolor": "rgb(36,36,36)",
              "ticklen": 8,
              "ticks": "outside",
              "tickwidth": 2
             }
            },
            "type": "scattermapbox"
           }
          ],
          "scatterpolar": [
           {
            "marker": {
             "colorbar": {
              "outlinewidth": 0,
              "tickcolor": "rgb(36,36,36)",
              "ticklen": 8,
              "ticks": "outside",
              "tickwidth": 2
             }
            },
            "type": "scatterpolar"
           }
          ],
          "scatterpolargl": [
           {
            "marker": {
             "colorbar": {
              "outlinewidth": 0,
              "tickcolor": "rgb(36,36,36)",
              "ticklen": 8,
              "ticks": "outside",
              "tickwidth": 2
             }
            },
            "type": "scatterpolargl"
           }
          ],
          "scatterternary": [
           {
            "marker": {
             "colorbar": {
              "outlinewidth": 0,
              "tickcolor": "rgb(36,36,36)",
              "ticklen": 8,
              "ticks": "outside",
              "tickwidth": 2
             }
            },
            "type": "scatterternary"
           }
          ],
          "surface": [
           {
            "colorbar": {
             "outlinewidth": 0,
             "tickcolor": "rgb(36,36,36)",
             "ticklen": 8,
             "ticks": "outside",
             "tickwidth": 2
            },
            "colorscale": [
             [
              0,
              "rgb(2,4,25)"
             ],
             [
              0.06274509803921569,
              "rgb(24,15,41)"
             ],
             [
              0.12549019607843137,
              "rgb(47,23,57)"
             ],
             [
              0.18823529411764706,
              "rgb(71,28,72)"
             ],
             [
              0.25098039215686274,
              "rgb(97,30,82)"
             ],
             [
              0.3137254901960784,
              "rgb(123,30,89)"
             ],
             [
              0.3764705882352941,
              "rgb(150,27,91)"
             ],
             [
              0.4392156862745098,
              "rgb(177,22,88)"
             ],
             [
              0.5019607843137255,
              "rgb(203,26,79)"
             ],
             [
              0.5647058823529412,
              "rgb(223,47,67)"
             ],
             [
              0.6274509803921569,
              "rgb(236,76,61)"
             ],
             [
              0.6901960784313725,
              "rgb(242,107,73)"
             ],
             [
              0.7529411764705882,
              "rgb(244,135,95)"
             ],
             [
              0.8156862745098039,
              "rgb(245,162,122)"
             ],
             [
              0.8784313725490196,
              "rgb(246,188,153)"
             ],
             [
              0.9411764705882353,
              "rgb(247,212,187)"
             ],
             [
              1,
              "rgb(250,234,220)"
             ]
            ],
            "type": "surface"
           }
          ],
          "table": [
           {
            "cells": {
             "fill": {
              "color": "rgb(231,231,240)"
             },
             "line": {
              "color": "white"
             }
            },
            "header": {
             "fill": {
              "color": "rgb(183,183,191)"
             },
             "line": {
              "color": "white"
             }
            },
            "type": "table"
           }
          ]
         },
         "layout": {
          "annotationdefaults": {
           "arrowcolor": "rgb(67,103,167)"
          },
          "autosize": true,
          "autotypenumbers": "strict",
          "coloraxis": {
           "colorbar": {
            "outlinewidth": 0,
            "tickcolor": "rgb(36,36,36)",
            "ticklen": 8,
            "ticks": "outside",
            "tickwidth": 2
           }
          },
          "colorscale": {
           "sequential": [
            [
             0,
             "rgb(2,4,25)"
            ],
            [
             0.06274509803921569,
             "rgb(24,15,41)"
            ],
            [
             0.12549019607843137,
             "rgb(47,23,57)"
            ],
            [
             0.18823529411764706,
             "rgb(71,28,72)"
            ],
            [
             0.25098039215686274,
             "rgb(97,30,82)"
            ],
            [
             0.3137254901960784,
             "rgb(123,30,89)"
            ],
            [
             0.3764705882352941,
             "rgb(150,27,91)"
            ],
            [
             0.4392156862745098,
             "rgb(177,22,88)"
            ],
            [
             0.5019607843137255,
             "rgb(203,26,79)"
            ],
            [
             0.5647058823529412,
             "rgb(223,47,67)"
            ],
            [
             0.6274509803921569,
             "rgb(236,76,61)"
            ],
            [
             0.6901960784313725,
             "rgb(242,107,73)"
            ],
            [
             0.7529411764705882,
             "rgb(244,135,95)"
            ],
            [
             0.8156862745098039,
             "rgb(245,162,122)"
            ],
            [
             0.8784313725490196,
             "rgb(246,188,153)"
            ],
            [
             0.9411764705882353,
             "rgb(247,212,187)"
            ],
            [
             1,
             "rgb(250,234,220)"
            ]
           ],
           "sequentialminus": [
            [
             0,
             "rgb(2,4,25)"
            ],
            [
             0.06274509803921569,
             "rgb(24,15,41)"
            ],
            [
             0.12549019607843137,
             "rgb(47,23,57)"
            ],
            [
             0.18823529411764706,
             "rgb(71,28,72)"
            ],
            [
             0.25098039215686274,
             "rgb(97,30,82)"
            ],
            [
             0.3137254901960784,
             "rgb(123,30,89)"
            ],
            [
             0.3764705882352941,
             "rgb(150,27,91)"
            ],
            [
             0.4392156862745098,
             "rgb(177,22,88)"
            ],
            [
             0.5019607843137255,
             "rgb(203,26,79)"
            ],
            [
             0.5647058823529412,
             "rgb(223,47,67)"
            ],
            [
             0.6274509803921569,
             "rgb(236,76,61)"
            ],
            [
             0.6901960784313725,
             "rgb(242,107,73)"
            ],
            [
             0.7529411764705882,
             "rgb(244,135,95)"
            ],
            [
             0.8156862745098039,
             "rgb(245,162,122)"
            ],
            [
             0.8784313725490196,
             "rgb(246,188,153)"
            ],
            [
             0.9411764705882353,
             "rgb(247,212,187)"
            ],
            [
             1,
             "rgb(250,234,220)"
            ]
           ]
          },
          "colorway": [
           "rgb(76,114,176)",
           "rgb(221,132,82)",
           "rgb(85,168,104)",
           "rgb(196,78,82)",
           "rgb(129,114,179)",
           "rgb(147,120,96)",
           "rgb(218,139,195)",
           "rgb(140,140,140)",
           "rgb(204,185,116)",
           "rgb(100,181,205)"
          ],
          "font": {
           "color": "rgb(36,36,36)"
          },
          "geo": {
           "bgcolor": "white",
           "lakecolor": "white",
           "landcolor": "rgb(234,234,242)",
           "showlakes": true,
           "showland": true,
           "subunitcolor": "white"
          },
          "height": 250,
          "hoverlabel": {
           "align": "left"
          },
          "hovermode": "closest",
          "margin": {
           "b": 10,
           "l": 10,
           "r": 10,
           "t": 10
          },
          "paper_bgcolor": "white",
          "plot_bgcolor": "rgb(234,234,242)",
          "polar": {
           "angularaxis": {
            "gridcolor": "white",
            "linecolor": "white",
            "showgrid": true,
            "ticks": ""
           },
           "bgcolor": "rgb(234,234,242)",
           "radialaxis": {
            "gridcolor": "white",
            "linecolor": "white",
            "showgrid": true,
            "ticks": ""
           }
          },
          "scene": {
           "xaxis": {
            "backgroundcolor": "rgb(234,234,242)",
            "gridcolor": "white",
            "gridwidth": 2,
            "linecolor": "white",
            "showbackground": true,
            "showgrid": true,
            "ticks": "",
            "zerolinecolor": "white"
           },
           "yaxis": {
            "backgroundcolor": "rgb(234,234,242)",
            "gridcolor": "white",
            "gridwidth": 2,
            "linecolor": "white",
            "showbackground": true,
            "showgrid": true,
            "ticks": "",
            "zerolinecolor": "white"
           },
           "zaxis": {
            "backgroundcolor": "rgb(234,234,242)",
            "gridcolor": "white",
            "gridwidth": 2,
            "linecolor": "white",
            "showbackground": true,
            "showgrid": true,
            "ticks": "",
            "zerolinecolor": "white"
           }
          },
          "shapedefaults": {
           "fillcolor": "rgb(67,103,167)",
           "line": {
            "width": 0
           },
           "opacity": 0.5
          },
          "ternary": {
           "aaxis": {
            "gridcolor": "white",
            "linecolor": "white",
            "showgrid": true,
            "ticks": ""
           },
           "baxis": {
            "gridcolor": "white",
            "linecolor": "white",
            "showgrid": true,
            "ticks": ""
           },
           "bgcolor": "rgb(234,234,242)",
           "caxis": {
            "gridcolor": "white",
            "linecolor": "white",
            "showgrid": true,
            "ticks": ""
           }
          },
          "width": 350,
          "xaxis": {
           "automargin": true,
           "gridcolor": "white",
           "linecolor": "white",
           "showgrid": true,
           "ticks": "",
           "title": {
            "standoff": 15
           },
           "zerolinecolor": "white"
          },
          "yaxis": {
           "automargin": true,
           "gridcolor": "white",
           "linecolor": "white",
           "showgrid": true,
           "ticks": "",
           "title": {
            "standoff": 15
           },
           "zerolinecolor": "white"
          }
         }
        },
        "width": 700,
        "xaxis": {
         "anchor": "y",
         "autorange": true,
         "domain": [
          0,
          0.45
         ],
         "range": [
          1.6458849851847388,
          86.35411501481526
         ],
         "title": {
          "text": "income"
         },
         "type": "linear"
        },
        "xaxis2": {
         "anchor": "y2",
         "autorange": true,
         "domain": [
          0.55,
          1
         ],
         "range": [
          0.2711797786781167,
          106.72882022132188
         ],
         "title": {
          "text": "education"
         },
         "type": "linear"
        },
        "yaxis": {
         "anchor": "x",
         "autorange": true,
         "domain": [
          0,
          1
         ],
         "range": [
          -4.630996309963099,
          104.6309963099631
         ],
         "title": {
          "text": "prestige"
         },
         "type": "linear"
        },
        "yaxis2": {
         "anchor": "x2",
         "autorange": true,
         "domain": [
          0,
          1
         ],
         "range": [
          -4.630996309963099,
          104.6309963099631
         ],
         "type": "linear"
        }
       }
      },
      "image/png": "[encoded data removed]",
      "image/svg+xml": [
       "<svg class=\"main-svg\" xmlns=\"http://www.w3.org/2000/svg\" xmlns:xlink=\"http://www.w3.org/1999/xlink\" width=\"700\" height=\"250\" style=\"\" viewBox=\"0 0 700 250\"><rect x=\"0\" y=\"0\" width=\"700\" height=\"250\" style=\"fill: rgb(255, 255, 255); fill-opacity: 1;\"/><defs id=\"defs-0393bb\"><g class=\"clips\"><clipPath id=\"clip0393bbxyplot\" class=\"plotclip\"><rect width=\"283.95\" height=\"190\"/></clipPath><clipPath id=\"clip0393bbx2y2plot\" class=\"plotclip\"><rect width=\"283.95\" height=\"190\"/></clipPath><clipPath class=\"axesclip\" id=\"clip0393bbx\"><rect x=\"59\" y=\"0\" width=\"283.95\" height=\"250\"/></clipPath><clipPath class=\"axesclip\" id=\"clip0393bby\"><rect x=\"0\" y=\"10\" width=\"700\" height=\"190\"/></clipPath><clipPath class=\"axesclip\" id=\"clip0393bbxy\"><rect x=\"59\" y=\"10\" width=\"283.95\" height=\"190\"/></clipPath><clipPath class=\"axesclip\" id=\"clip0393bby2\"><rect x=\"0\" y=\"10\" width=\"700\" height=\"190\"/></clipPath><clipPath class=\"axesclip\" id=\"clip0393bbxy2\"><rect x=\"59\" y=\"10\" width=\"283.95\" height=\"190\"/></clipPath><clipPath class=\"axesclip\" id=\"clip0393bbx2\"><rect x=\"406.05\" y=\"0\" width=\"283.95\" height=\"250\"/></clipPath><clipPath class=\"axesclip\" id=\"clip0393bbx2y\"><rect x=\"406.05\" y=\"10\" width=\"283.95\" height=\"190\"/></clipPath><clipPath class=\"axesclip\" id=\"clip0393bbx2y2\"><rect x=\"406.05\" y=\"10\" width=\"283.95\" height=\"190\"/></clipPath></g><g class=\"gradients\"/><g class=\"patterns\"/></defs><g class=\"bglayer\"><rect class=\"bg\" x=\"59\" y=\"10\" width=\"283.95\" height=\"190\" style=\"fill: rgb(234, 234, 242); fill-opacity: 1; stroke-width: 0;\"/><rect class=\"bg\" x=\"406.05\" y=\"10\" width=\"283.95\" height=\"190\" style=\"fill: rgb(234, 234, 242); fill-opacity: 1; stroke-width: 0;\"/></g><g class=\"layer-below\"><g class=\"imagelayer\"/><g class=\"shapelayer\"/></g><g class=\"cartesianlayer\"><g class=\"subplot xy\"><g class=\"layer-subplot\"><g class=\"shapelayer\"/><g class=\"imagelayer\"/></g><g class=\"gridlayer\"><g class=\"x\"><path class=\"xgrid crisp\" transform=\"translate(120.52000000000001,0)\" d=\"M0,10v190\" style=\"stroke: rgb(255, 255, 255); stroke-opacity: 1; stroke-width: 1px;\"/><path class=\"xgrid crisp\" transform=\"translate(187.57,0)\" d=\"M0,10v190\" style=\"stroke: rgb(255, 255, 255); stroke-opacity: 1; stroke-width: 1px;\"/><path class=\"xgrid crisp\" transform=\"translate(254.61,0)\" d=\"M0,10v190\" style=\"stroke: rgb(255, 255, 255); stroke-opacity: 1; stroke-width: 1px;\"/><path class=\"xgrid crisp\" transform=\"translate(321.65,0)\" d=\"M0,10v190\" style=\"stroke: rgb(255, 255, 255); stroke-opacity: 1; stroke-width: 1px;\"/></g><g class=\"y\"><path class=\"ygrid crisp\" transform=\"translate(0,157.18)\" d=\"M59,0h283.95\" style=\"stroke: rgb(255, 255, 255); stroke-opacity: 1; stroke-width: 1px;\"/><path class=\"ygrid crisp\" transform=\"translate(0,122.39)\" d=\"M59,0h283.95\" style=\"stroke: rgb(255, 255, 255); stroke-opacity: 1; stroke-width: 1px;\"/><path class=\"ygrid crisp\" transform=\"translate(0,87.61)\" d=\"M59,0h283.95\" style=\"stroke: rgb(255, 255, 255); stroke-opacity: 1; stroke-width: 1px;\"/><path class=\"ygrid crisp\" transform=\"translate(0,52.82)\" d=\"M59,0h283.95\" style=\"stroke: rgb(255, 255, 255); stroke-opacity: 1; stroke-width: 1px;\"/><path class=\"ygrid crisp\" transform=\"translate(0,18.03)\" d=\"M59,0h283.95\" style=\"stroke: rgb(255, 255, 255); stroke-opacity: 1; stroke-width: 1px;\"/></g></g><g class=\"zerolinelayer\"><path class=\"yzl zl crisp\" transform=\"translate(0,191.97)\" d=\"M59,0h283.95\" style=\"stroke: rgb(255, 255, 255); stroke-opacity: 1; stroke-width: 1px;\"/></g><path class=\"xlines-below\"/><path class=\"ylines-below\"/><g class=\"overlines-below\"/><g class=\"xaxislayer-below\"/><g class=\"yaxislayer-below\"/><g class=\"overaxes-below\"/><g class=\"plot\" transform=\"translate(59,10)\" clip-path=\"url(#clip0393bbxyplot)\"><g class=\"scatterlayer mlayer\"><g class=\"trace scatter tracee6e276\" style=\"stroke-miterlimit: 2; opacity: 1;\"><g class=\"fills\"/><g class=\"errorbars\"/><g class=\"lines\"/><g class=\"points\"><path class=\"point\" transform=\"translate(202.31,39.34)\" d=\"M3,0A3,3 0 1,1 0,-3A3,3 0 0,1 3,0Z\" style=\"opacity: 1; stroke-width: 0px; fill: rgb(76, 114, 176); fill-opacity: 1;\"/><path class=\"point\" transform=\"translate(235.83,37.6)\" d=\"M3,0A3,3 0 1,1 0,-3A3,3 0 0,1 3,0Z\" style=\"opacity: 1; stroke-width: 0px; fill: rgb(76, 114, 176); fill-opacity: 1;\"/><path class=\"point\" transform=\"translate(245.89,25.43)\" d=\"M3,0A3,3 0 1,1 0,-3A3,3 0 0,1 3,0Z\" style=\"opacity: 1; stroke-width: 0px; fill: rgb(76, 114, 176); fill-opacity: 1;\"/><path class=\"point\" transform=\"translate(178.85,49.78)\" d=\"M3,0A3,3 0 1,1 0,-3A3,3 0 0,1 3,0Z\" style=\"opacity: 1; stroke-width: 0px; fill: rgb(76, 114, 176); fill-opacity: 1;\"/><path class=\"point\" transform=\"translate(209.02,25.43)\" d=\"M3,0A3,3 0 1,1 0,-3A3,3 0 0,1 3,0Z\" style=\"opacity: 1; stroke-width: 0px; fill: rgb(76, 114, 176); fill-opacity: 1;\"/><path class=\"point\" transform=\"translate(64.88,30.64)\" d=\"M3,0A3,3 0 1,1 0,-3A3,3 0 0,1 3,0Z\" style=\"opacity: 1; stroke-width: 0px; fill: rgb(76, 114, 176); fill-opacity: 1;\"/><path class=\"point\" transform=\"translate(209.02,20.21)\" d=\"M3,0A3,3 0 1,1 0,-3A3,3 0 0,1 3,0Z\" style=\"opacity: 1; stroke-width: 0px; fill: rgb(76, 114, 176); fill-opacity: 1;\"/><path class=\"point\" transform=\"translate(262.65,25.43)\" d=\"M3,0A3,3 0 1,1 0,-3A3,3 0 0,1 3,0Z\" style=\"opacity: 1; stroke-width: 0px; fill: rgb(76, 114, 176); fill-opacity: 1;\"/><path class=\"point\" transform=\"translate(219.07,91.52)\" d=\"M3,0A3,3 0 1,1 0,-3A3,3 0 0,1 3,0Z\" style=\"opacity: 1; stroke-width: 0px; fill: rgb(76, 114, 176); fill-opacity: 1;\"/><path class=\"point\" transform=\"translate(235.83,28.9)\" d=\"M3,0A3,3 0 1,1 0,-3A3,3 0 0,1 3,0Z\" style=\"opacity: 1; stroke-width: 0px; fill: rgb(76, 114, 176); fill-opacity: 1;\"/><path class=\"point\" transform=\"translate(135.27,82.82)\" d=\"M3,0A3,3 0 1,1 0,-3A3,3 0 0,1 3,0Z\" style=\"opacity: 1; stroke-width: 0px; fill: rgb(76, 114, 176); fill-opacity: 1;\"/><path class=\"point\" transform=\"translate(249.24,27.16)\" d=\"M3,0A3,3 0 1,1 0,-3A3,3 0 0,1 3,0Z\" style=\"opacity: 1; stroke-width: 0px; fill: rgb(76, 114, 176); fill-opacity: 1;\"/><path class=\"point\" transform=\"translate(249.24,13.25)\" d=\"M3,0A3,3 0 1,1 0,-3A3,3 0 0,1 3,0Z\" style=\"opacity: 1; stroke-width: 0px; fill: rgb(76, 114, 176); fill-opacity: 1;\"/><path class=\"point\" transform=\"translate(131.92,79.35)\" d=\"M3,0A3,3 0 1,1 0,-3A3,3 0 0,1 3,0Z\" style=\"opacity: 1; stroke-width: 0px; fill: rgb(76, 114, 176); fill-opacity: 1;\"/><path class=\"point\" transform=\"translate(155.38,54.99)\" d=\"M3,0A3,3 0 1,1 0,-3A3,3 0 0,1 3,0Z\" style=\"opacity: 1; stroke-width: 0px; fill: rgb(76, 114, 176); fill-opacity: 1;\"/><path class=\"point\" transform=\"translate(249.24,115.87)\" d=\"M3,0A3,3 0 1,1 0,-3A3,3 0 0,1 3,0Z\" style=\"opacity: 1; stroke-width: 0px; fill: rgb(76, 114, 176); fill-opacity: 1;\"/><path class=\"point\" transform=\"translate(172.14,49.78)\" d=\"M3,0A3,3 0 1,1 0,-3A3,3 0 0,1 3,0Z\" style=\"opacity: 1; stroke-width: 0px; fill: rgb(76, 114, 176); fill-opacity: 1;\"/><path class=\"point\" transform=\"translate(195.61,41.08)\" d=\"M3,0A3,3 0 1,1 0,-3A3,3 0 0,1 3,0Z\" style=\"opacity: 1; stroke-width: 0px; fill: rgb(76, 114, 176); fill-opacity: 1;\"/><path class=\"point\" transform=\"translate(135.27,103.7)\" d=\"M3,0A3,3 0 1,1 0,-3A3,3 0 0,1 3,0Z\" style=\"opacity: 1; stroke-width: 0px; fill: rgb(76, 114, 176); fill-opacity: 1;\"/><path class=\"point\" transform=\"translate(255.95,21.95)\" d=\"M3,0A3,3 0 1,1 0,-3A3,3 0 0,1 3,0Z\" style=\"opacity: 1; stroke-width: 0px; fill: rgb(76, 114, 176); fill-opacity: 1;\"/><path class=\"point\" transform=\"translate(91.69,114.13)\" d=\"M3,0A3,3 0 1,1 0,-3A3,3 0 0,1 3,0Z\" style=\"opacity: 1; stroke-width: 0px; fill: rgb(76, 114, 176); fill-opacity: 1;\"/><path class=\"point\" transform=\"translate(155.38,122.83)\" d=\"M3,0A3,3 0 1,1 0,-3A3,3 0 0,1 3,0Z\" style=\"opacity: 1; stroke-width: 0px; fill: rgb(76, 114, 176); fill-opacity: 1;\"/><path class=\"point\" transform=\"translate(178.85,110.65)\" d=\"M3,0A3,3 0 1,1 0,-3A3,3 0 0,1 3,0Z\" style=\"opacity: 1; stroke-width: 0px; fill: rgb(76, 114, 176); fill-opacity: 1;\"/><path class=\"point\" transform=\"translate(91.69,154.14)\" d=\"M3,0A3,3 0 1,1 0,-3A3,3 0 0,1 3,0Z\" style=\"opacity: 1; stroke-width: 0px; fill: rgb(76, 114, 176); fill-opacity: 1;\"/><path class=\"point\" transform=\"translate(64.88,124.57)\" d=\"M3,0A3,3 0 1,1 0,-3A3,3 0 0,1 3,0Z\" style=\"opacity: 1; stroke-width: 0px; fill: rgb(76, 114, 176); fill-opacity: 1;\"/><path class=\"point\" transform=\"translate(152.03,89.78)\" d=\"M3,0A3,3 0 1,1 0,-3A3,3 0 0,1 3,0Z\" style=\"opacity: 1; stroke-width: 0px; fill: rgb(76, 114, 176); fill-opacity: 1;\"/><path class=\"point\" transform=\"translate(266,65.43)\" d=\"M3,0A3,3 0 1,1 0,-3A3,3 0 0,1 3,0Z\" style=\"opacity: 1; stroke-width: 0px; fill: rgb(76, 114, 176); fill-opacity: 1;\"/><path class=\"point\" transform=\"translate(115.16,82.82)\" d=\"M3,0A3,3 0 1,1 0,-3A3,3 0 0,1 3,0Z\" style=\"opacity: 1; stroke-width: 0px; fill: rgb(76, 114, 176); fill-opacity: 1;\"/><path class=\"point\" transform=\"translate(68.23,136.74)\" d=\"M3,0A3,3 0 1,1 0,-3A3,3 0 0,1 3,0Z\" style=\"opacity: 1; stroke-width: 0px; fill: rgb(76, 114, 176); fill-opacity: 1;\"/><path class=\"point\" transform=\"translate(141.98,131.53)\" d=\"M3,0A3,3 0 1,1 0,-3A3,3 0 0,1 3,0Z\" style=\"opacity: 1; stroke-width: 0px; fill: rgb(76, 114, 176); fill-opacity: 1;\"/><path class=\"point\" transform=\"translate(44.76,164.57)\" d=\"M3,0A3,3 0 1,1 0,-3A3,3 0 0,1 3,0Z\" style=\"opacity: 1; stroke-width: 0px; fill: rgb(76, 114, 176); fill-opacity: 1;\"/><path class=\"point\" transform=\"translate(17.95,155.88)\" d=\"M3,0A3,3 0 1,1 0,-3A3,3 0 0,1 3,0Z\" style=\"opacity: 1; stroke-width: 0px; fill: rgb(76, 114, 176); fill-opacity: 1;\"/><path class=\"point\" transform=\"translate(135.27,148.92)\" d=\"M3,0A3,3 0 1,1 0,-3A3,3 0 0,1 3,0Z\" style=\"opacity: 1; stroke-width: 0px; fill: rgb(76, 114, 176); fill-opacity: 1;\"/><path class=\"point\" transform=\"translate(24.65,164.57)\" d=\"M3,0A3,3 0 1,1 0,-3A3,3 0 0,1 3,0Z\" style=\"opacity: 1; stroke-width: 0px; fill: rgb(76, 114, 176); fill-opacity: 1;\"/><path class=\"point\" transform=\"translate(64.88,159.36)\" d=\"M3,0A3,3 0 1,1 0,-3A3,3 0 0,1 3,0Z\" style=\"opacity: 1; stroke-width: 0px; fill: rgb(76, 114, 176); fill-opacity: 1;\"/><path class=\"point\" transform=\"translate(64.88,140.22)\" d=\"M3,0A3,3 0 1,1 0,-3A3,3 0 0,1 3,0Z\" style=\"opacity: 1; stroke-width: 0px; fill: rgb(76, 114, 176); fill-opacity: 1;\"/><path class=\"point\" transform=\"translate(48.12,147.18)\" d=\"M3,0A3,3 0 1,1 0,-3A3,3 0 0,1 3,0Z\" style=\"opacity: 1; stroke-width: 0px; fill: rgb(76, 114, 176); fill-opacity: 1;\"/><path class=\"point\" transform=\"translate(48.12,169.79)\" d=\"M3,0A3,3 0 1,1 0,-3A3,3 0 0,1 3,0Z\" style=\"opacity: 1; stroke-width: 0px; fill: rgb(76, 114, 176); fill-opacity: 1;\"/><path class=\"point\" transform=\"translate(24.65,176.75)\" d=\"M3,0A3,3 0 1,1 0,-3A3,3 0 0,1 3,0Z\" style=\"opacity: 1; stroke-width: 0px; fill: rgb(76, 114, 176); fill-opacity: 1;\"/><path class=\"point\" transform=\"translate(41.41,154.14)\" d=\"M3,0A3,3 0 1,1 0,-3A3,3 0 0,1 3,0Z\" style=\"opacity: 1; stroke-width: 0px; fill: rgb(76, 114, 176); fill-opacity: 1;\"/><path class=\"point\" transform=\"translate(34.71,171.53)\" d=\"M3,0A3,3 0 1,1 0,-3A3,3 0 0,1 3,0Z\" style=\"opacity: 1; stroke-width: 0px; fill: rgb(76, 114, 176); fill-opacity: 1;\"/><path class=\"point\" transform=\"translate(51.47,162.84)\" d=\"M3,0A3,3 0 1,1 0,-3A3,3 0 0,1 3,0Z\" style=\"opacity: 1; stroke-width: 0px; fill: rgb(76, 114, 176); fill-opacity: 1;\"/><path class=\"point\" transform=\"translate(17.95,168.05)\" d=\"M3,0A3,3 0 1,1 0,-3A3,3 0 0,1 3,0Z\" style=\"opacity: 1; stroke-width: 0px; fill: rgb(76, 114, 176); fill-opacity: 1;\"/><path class=\"point\" transform=\"translate(108.45,110.65)\" d=\"M3,0A3,3 0 1,1 0,-3A3,3 0 0,1 3,0Z\" style=\"opacity: 1; stroke-width: 0px; fill: rgb(76, 114, 176); fill-opacity: 1;\"/><path class=\"point\" transform=\"translate(21.3,164.57)\" d=\"M3,0A3,3 0 1,1 0,-3A3,3 0 0,1 3,0Z\" style=\"opacity: 1; stroke-width: 0px; fill: rgb(76, 114, 176); fill-opacity: 1;\"/></g><g class=\"text\"/></g></g></g><g class=\"overplot\"/><path class=\"xlines-above crisp\" d=\"M0,0\" style=\"fill: none;\"/><path class=\"ylines-above crisp\" d=\"M0,0\" style=\"fill: none;\"/><g class=\"overlines-above\"/><g class=\"xaxislayer-above\"><g class=\"xtick\"><text text-anchor=\"middle\" x=\"0\" y=\"213\" transform=\"translate(120.52000000000001,0)\" style=\"font-family: 'Open Sans', verdana, arial, sans-serif; font-size: 12px; fill: rgb(36, 36, 36); fill-opacity: 1; white-space: pre; opacity: 1;\">20</text></g><g class=\"xtick\"><text text-anchor=\"middle\" x=\"0\" y=\"213\" style=\"font-family: 'Open Sans', verdana, arial, sans-serif; font-size: 12px; fill: rgb(36, 36, 36); fill-opacity: 1; white-space: pre; opacity: 1;\" transform=\"translate(187.57,0)\">40</text></g><g class=\"xtick\"><text text-anchor=\"middle\" x=\"0\" y=\"213\" style=\"font-family: 'Open Sans', verdana, arial, sans-serif; font-size: 12px; fill: rgb(36, 36, 36); fill-opacity: 1; white-space: pre; opacity: 1;\" transform=\"translate(254.61,0)\">60</text></g><g class=\"xtick\"><text text-anchor=\"middle\" x=\"0\" y=\"213\" style=\"font-family: 'Open Sans', verdana, arial, sans-serif; font-size: 12px; fill: rgb(36, 36, 36); fill-opacity: 1; white-space: pre; opacity: 1;\" transform=\"translate(321.65,0)\">80</text></g></g><g class=\"yaxislayer-above\"><g class=\"ytick\"><text text-anchor=\"end\" x=\"58\" y=\"4.199999999999999\" transform=\"translate(0,191.97)\" style=\"font-family: 'Open Sans', verdana, arial, sans-serif; font-size: 12px; fill: rgb(36, 36, 36); fill-opacity: 1; white-space: pre; opacity: 1;\">0</text></g><g class=\"ytick\"><text text-anchor=\"end\" x=\"58\" y=\"4.199999999999999\" style=\"font-family: 'Open Sans', verdana, arial, sans-serif; font-size: 12px; fill: rgb(36, 36, 36); fill-opacity: 1; white-space: pre; opacity: 1;\" transform=\"translate(0,157.18)\">20</text></g><g class=\"ytick\"><text text-anchor=\"end\" x=\"58\" y=\"4.199999999999999\" style=\"font-family: 'Open Sans', verdana, arial, sans-serif; font-size: 12px; fill: rgb(36, 36, 36); fill-opacity: 1; white-space: pre; opacity: 1;\" transform=\"translate(0,122.39)\">40</text></g><g class=\"ytick\"><text text-anchor=\"end\" x=\"58\" y=\"4.199999999999999\" style=\"font-family: 'Open Sans', verdana, arial, sans-serif; font-size: 12px; fill: rgb(36, 36, 36); fill-opacity: 1; white-space: pre; opacity: 1;\" transform=\"translate(0,87.61)\">60</text></g><g class=\"ytick\"><text text-anchor=\"end\" x=\"58\" y=\"4.199999999999999\" style=\"font-family: 'Open Sans', verdana, arial, sans-serif; font-size: 12px; fill: rgb(36, 36, 36); fill-opacity: 1; white-space: pre; opacity: 1;\" transform=\"translate(0,52.82)\">80</text></g><g class=\"ytick\"><text text-anchor=\"end\" x=\"58\" y=\"4.199999999999999\" style=\"font-family: 'Open Sans', verdana, arial, sans-serif; font-size: 12px; fill: rgb(36, 36, 36); fill-opacity: 1; white-space: pre; opacity: 1;\" transform=\"translate(0,18.03)\">100</text></g></g><g class=\"overaxes-above\"/></g><g class=\"subplot x2y2\"><g class=\"layer-subplot\"><g class=\"shapelayer\"/><g class=\"imagelayer\"/></g><g class=\"gridlayer\"><g class=\"x2\"><path class=\"x2grid crisp\" transform=\"translate(538.69,0)\" d=\"M0,10v190\" style=\"stroke: rgb(255, 255, 255); stroke-opacity: 1; stroke-width: 1px;\"/><path class=\"x2grid crisp\" transform=\"translate(672.05,0)\" d=\"M0,10v190\" style=\"stroke: rgb(255, 255, 255); stroke-opacity: 1; stroke-width: 1px;\"/></g><g class=\"y2\"><path class=\"y2grid crisp\" transform=\"translate(0,157.18)\" d=\"M406.05,0h283.95\" style=\"stroke: rgb(255, 255, 255); stroke-opacity: 1; stroke-width: 1px;\"/><path class=\"y2grid crisp\" transform=\"translate(0,122.39)\" d=\"M406.05,0h283.95\" style=\"stroke: rgb(255, 255, 255); stroke-opacity: 1; stroke-width: 1px;\"/><path class=\"y2grid crisp\" transform=\"translate(0,87.61)\" d=\"M406.05,0h283.95\" style=\"stroke: rgb(255, 255, 255); stroke-opacity: 1; stroke-width: 1px;\"/><path class=\"y2grid crisp\" transform=\"translate(0,52.82)\" d=\"M406.05,0h283.95\" style=\"stroke: rgb(255, 255, 255); stroke-opacity: 1; stroke-width: 1px;\"/><path class=\"y2grid crisp\" transform=\"translate(0,18.03)\" d=\"M406.05,0h283.95\" style=\"stroke: rgb(255, 255, 255); stroke-opacity: 1; stroke-width: 1px;\"/></g></g><g class=\"zerolinelayer\"><path class=\"y2zl zl crisp\" transform=\"translate(0,191.97)\" d=\"M406.05,0h283.95\" style=\"stroke: rgb(255, 255, 255); stroke-opacity: 1; stroke-width: 1px;\"/></g><path class=\"xlines-below\"/><path class=\"ylines-below\"/><g class=\"overlines-below\"/><g class=\"xaxislayer-below\"/><g class=\"yaxislayer-below\"/><g class=\"overaxes-below\"/><g class=\"plot\" transform=\"translate(406.05,10)\" clip-path=\"url(#clip0393bbx2y2plot)\"><g class=\"scatterlayer mlayer\"><g class=\"trace scatter trace7cb4b8\" style=\"stroke-miterlimit: 2; opacity: 1;\"><g class=\"fills\"/><g class=\"errorbars\"/><g class=\"lines\"/><g class=\"points\"><path class=\"point\" transform=\"translate(228.66,39.34)\" d=\"M3,0A3,3 0 1,1 0,-3A3,3 0 0,1 3,0Z\" style=\"opacity: 1; stroke-width: 0px; fill: rgb(76, 114, 176); fill-opacity: 1;\"/><path class=\"point\" transform=\"translate(201.99,37.6)\" d=\"M3,0A3,3 0 1,1 0,-3A3,3 0 0,1 3,0Z\" style=\"opacity: 1; stroke-width: 0px; fill: rgb(76, 114, 176); fill-opacity: 1;\"/><path class=\"point\" transform=\"translate(244.66,25.43)\" d=\"M3,0A3,3 0 1,1 0,-3A3,3 0 0,1 3,0Z\" style=\"opacity: 1; stroke-width: 0px; fill: rgb(76, 114, 176); fill-opacity: 1;\"/><path class=\"point\" transform=\"translate(239.33,49.78)\" d=\"M3,0A3,3 0 1,1 0,-3A3,3 0 0,1 3,0Z\" style=\"opacity: 1; stroke-width: 0px; fill: rgb(76, 114, 176); fill-opacity: 1;\"/><path class=\"point\" transform=\"translate(228.66,25.43)\" d=\"M3,0A3,3 0 1,1 0,-3A3,3 0 0,1 3,0Z\" style=\"opacity: 1; stroke-width: 0px; fill: rgb(76, 114, 176); fill-opacity: 1;\"/><path class=\"point\" transform=\"translate(223.33,30.64)\" d=\"M3,0A3,3 0 1,1 0,-3A3,3 0 0,1 3,0Z\" style=\"opacity: 1; stroke-width: 0px; fill: rgb(76, 114, 176); fill-opacity: 1;\"/><path class=\"point\" transform=\"translate(247.33,20.21)\" d=\"M3,0A3,3 0 1,1 0,-3A3,3 0 0,1 3,0Z\" style=\"opacity: 1; stroke-width: 0px; fill: rgb(76, 114, 176); fill-opacity: 1;\"/><path class=\"point\" transform=\"translate(266,25.43)\" d=\"M3,0A3,3 0 1,1 0,-3A3,3 0 0,1 3,0Z\" style=\"opacity: 1; stroke-width: 0px; fill: rgb(76, 114, 176); fill-opacity: 1;\"/><path class=\"point\" transform=\"translate(231.33,91.52)\" d=\"M3,0A3,3 0 1,1 0,-3A3,3 0 0,1 3,0Z\" style=\"opacity: 1; stroke-width: 0px; fill: rgb(76, 114, 176); fill-opacity: 1;\"/><path class=\"point\" transform=\"translate(228.66,28.9)\" d=\"M3,0A3,3 0 1,1 0,-3A3,3 0 0,1 3,0Z\" style=\"opacity: 1; stroke-width: 0px; fill: rgb(76, 114, 176); fill-opacity: 1;\"/><path class=\"point\" transform=\"translate(196.65,82.82)\" d=\"M3,0A3,3 0 1,1 0,-3A3,3 0 0,1 3,0Z\" style=\"opacity: 1; stroke-width: 0px; fill: rgb(76, 114, 176); fill-opacity: 1;\"/><path class=\"point\" transform=\"translate(260.67,27.16)\" d=\"M3,0A3,3 0 1,1 0,-3A3,3 0 0,1 3,0Z\" style=\"opacity: 1; stroke-width: 0px; fill: rgb(76, 114, 176); fill-opacity: 1;\"/><path class=\"point\" transform=\"translate(258,13.25)\" d=\"M3,0A3,3 0 1,1 0,-3A3,3 0 0,1 3,0Z\" style=\"opacity: 1; stroke-width: 0px; fill: rgb(76, 114, 176); fill-opacity: 1;\"/><path class=\"point\" transform=\"translate(223.33,79.35)\" d=\"M3,0A3,3 0 1,1 0,-3A3,3 0 0,1 3,0Z\" style=\"opacity: 1; stroke-width: 0px; fill: rgb(76, 114, 176); fill-opacity: 1;\"/><path class=\"point\" transform=\"translate(242,54.99)\" d=\"M3,0A3,3 0 1,1 0,-3A3,3 0 0,1 3,0Z\" style=\"opacity: 1; stroke-width: 0px; fill: rgb(76, 114, 176); fill-opacity: 1;\"/><path class=\"point\" transform=\"translate(89.96,115.87)\" d=\"M3,0A3,3 0 1,1 0,-3A3,3 0 0,1 3,0Z\" style=\"opacity: 1; stroke-width: 0px; fill: rgb(76, 114, 176); fill-opacity: 1;\"/><path class=\"point\" transform=\"translate(119.3,49.78)\" d=\"M3,0A3,3 0 1,1 0,-3A3,3 0 0,1 3,0Z\" style=\"opacity: 1; stroke-width: 0px; fill: rgb(76, 114, 176); fill-opacity: 1;\"/><path class=\"point\" transform=\"translate(148.64,41.08)\" d=\"M3,0A3,3 0 1,1 0,-3A3,3 0 0,1 3,0Z\" style=\"opacity: 1; stroke-width: 0px; fill: rgb(76, 114, 176); fill-opacity: 1;\"/><path class=\"point\" transform=\"translate(116.64,103.7)\" d=\"M3,0A3,3 0 1,1 0,-3A3,3 0 0,1 3,0Z\" style=\"opacity: 1; stroke-width: 0px; fill: rgb(76, 114, 176); fill-opacity: 1;\"/><path class=\"point\" transform=\"translate(217.99,21.95)\" d=\"M3,0A3,3 0 1,1 0,-3A3,3 0 0,1 3,0Z\" style=\"opacity: 1; stroke-width: 0px; fill: rgb(76, 114, 176); fill-opacity: 1;\"/><path class=\"point\" transform=\"translate(191.32,114.13)\" d=\"M3,0A3,3 0 1,1 0,-3A3,3 0 0,1 3,0Z\" style=\"opacity: 1; stroke-width: 0px; fill: rgb(76, 114, 176); fill-opacity: 1;\"/><path class=\"point\" transform=\"translate(145.98,122.83)\" d=\"M3,0A3,3 0 1,1 0,-3A3,3 0 0,1 3,0Z\" style=\"opacity: 1; stroke-width: 0px; fill: rgb(76, 114, 176); fill-opacity: 1;\"/><path class=\"point\" transform=\"translate(188.65,110.65)\" d=\"M3,0A3,3 0 1,1 0,-3A3,3 0 0,1 3,0Z\" style=\"opacity: 1; stroke-width: 0px; fill: rgb(76, 114, 176); fill-opacity: 1;\"/><path class=\"point\" transform=\"translate(132.64,154.14)\" d=\"M3,0A3,3 0 1,1 0,-3A3,3 0 0,1 3,0Z\" style=\"opacity: 1; stroke-width: 0px; fill: rgb(76, 114, 176); fill-opacity: 1;\"/><path class=\"point\" transform=\"translate(60.62,124.57)\" d=\"M3,0A3,3 0 1,1 0,-3A3,3 0 0,1 3,0Z\" style=\"opacity: 1; stroke-width: 0px; fill: rgb(76, 114, 176); fill-opacity: 1;\"/><path class=\"point\" transform=\"translate(103.3,89.78)\" d=\"M3,0A3,3 0 1,1 0,-3A3,3 0 0,1 3,0Z\" style=\"opacity: 1; stroke-width: 0px; fill: rgb(76, 114, 176); fill-opacity: 1;\"/><path class=\"point\" transform=\"translate(73.96,65.43)\" d=\"M3,0A3,3 0 1,1 0,-3A3,3 0 0,1 3,0Z\" style=\"opacity: 1; stroke-width: 0px; fill: rgb(76, 114, 176); fill-opacity: 1;\"/><path class=\"point\" transform=\"translate(84.63,82.82)\" d=\"M3,0A3,3 0 1,1 0,-3A3,3 0 0,1 3,0Z\" style=\"opacity: 1; stroke-width: 0px; fill: rgb(76, 114, 176); fill-opacity: 1;\"/><path class=\"point\" transform=\"translate(57.96,136.74)\" d=\"M3,0A3,3 0 1,1 0,-3A3,3 0 0,1 3,0Z\" style=\"opacity: 1; stroke-width: 0px; fill: rgb(76, 114, 176); fill-opacity: 1;\"/><path class=\"point\" transform=\"translate(65.96,131.53)\" d=\"M3,0A3,3 0 1,1 0,-3A3,3 0 0,1 3,0Z\" style=\"opacity: 1; stroke-width: 0px; fill: rgb(76, 114, 176); fill-opacity: 1;\"/><path class=\"point\" transform=\"translate(76.63,164.57)\" d=\"M3,0A3,3 0 1,1 0,-3A3,3 0 0,1 3,0Z\" style=\"opacity: 1; stroke-width: 0px; fill: rgb(76, 114, 176); fill-opacity: 1;\"/><path class=\"point\" transform=\"translate(17.95,155.88)\" d=\"M3,0A3,3 0 1,1 0,-3A3,3 0 0,1 3,0Z\" style=\"opacity: 1; stroke-width: 0px; fill: rgb(76, 114, 176); fill-opacity: 1;\"/><path class=\"point\" transform=\"translate(68.63,148.92)\" d=\"M3,0A3,3 0 1,1 0,-3A3,3 0 0,1 3,0Z\" style=\"opacity: 1; stroke-width: 0px; fill: rgb(76, 114, 176); fill-opacity: 1;\"/><path class=\"point\" transform=\"translate(49.95,164.57)\" d=\"M3,0A3,3 0 1,1 0,-3A3,3 0 0,1 3,0Z\" style=\"opacity: 1; stroke-width: 0px; fill: rgb(76, 114, 176); fill-opacity: 1;\"/><path class=\"point\" transform=\"translate(39.29,159.36)\" d=\"M3,0A3,3 0 1,1 0,-3A3,3 0 0,1 3,0Z\" style=\"opacity: 1; stroke-width: 0px; fill: rgb(76, 114, 176); fill-opacity: 1;\"/><path class=\"point\" transform=\"translate(52.62,140.22)\" d=\"M3,0A3,3 0 1,1 0,-3A3,3 0 0,1 3,0Z\" style=\"opacity: 1; stroke-width: 0px; fill: rgb(76, 114, 176); fill-opacity: 1;\"/><path class=\"point\" transform=\"translate(68.63,147.18)\" d=\"M3,0A3,3 0 1,1 0,-3A3,3 0 0,1 3,0Z\" style=\"opacity: 1; stroke-width: 0px; fill: rgb(76, 114, 176); fill-opacity: 1;\"/><path class=\"point\" transform=\"translate(73.96,169.79)\" d=\"M3,0A3,3 0 1,1 0,-3A3,3 0 0,1 3,0Z\" style=\"opacity: 1; stroke-width: 0px; fill: rgb(76, 114, 176); fill-opacity: 1;\"/><path class=\"point\" transform=\"translate(44.62,176.75)\" d=\"M3,0A3,3 0 1,1 0,-3A3,3 0 0,1 3,0Z\" style=\"opacity: 1; stroke-width: 0px; fill: rgb(76, 114, 176); fill-opacity: 1;\"/><path class=\"point\" transform=\"translate(57.96,154.14)\" d=\"M3,0A3,3 0 1,1 0,-3A3,3 0 0,1 3,0Z\" style=\"opacity: 1; stroke-width: 0px; fill: rgb(76, 114, 176); fill-opacity: 1;\"/><path class=\"point\" transform=\"translate(79.29,171.53)\" d=\"M3,0A3,3 0 1,1 0,-3A3,3 0 0,1 3,0Z\" style=\"opacity: 1; stroke-width: 0px; fill: rgb(76, 114, 176); fill-opacity: 1;\"/><path class=\"point\" transform=\"translate(65.96,162.84)\" d=\"M3,0A3,3 0 1,1 0,-3A3,3 0 0,1 3,0Z\" style=\"opacity: 1; stroke-width: 0px; fill: rgb(76, 114, 176); fill-opacity: 1;\"/><path class=\"point\" transform=\"translate(52.62,168.05)\" d=\"M3,0A3,3 0 1,1 0,-3A3,3 0 0,1 3,0Z\" style=\"opacity: 1; stroke-width: 0px; fill: rgb(76, 114, 176); fill-opacity: 1;\"/><path class=\"point\" transform=\"translate(124.64,110.65)\" d=\"M3,0A3,3 0 1,1 0,-3A3,3 0 0,1 3,0Z\" style=\"opacity: 1; stroke-width: 0px; fill: rgb(76, 114, 176); fill-opacity: 1;\"/><path class=\"point\" transform=\"translate(84.63,164.57)\" d=\"M3,0A3,3 0 1,1 0,-3A3,3 0 0,1 3,0Z\" style=\"opacity: 1; stroke-width: 0px; fill: rgb(76, 114, 176); fill-opacity: 1;\"/></g><g class=\"text\"/></g></g></g><g class=\"overplot\"/><path class=\"xlines-above crisp\" d=\"M0,0\" style=\"fill: none;\"/><path class=\"ylines-above crisp\" d=\"M0,0\" style=\"fill: none;\"/><g class=\"overlines-above\"/><g class=\"xaxislayer-above\"><g class=\"x2tick\"><text text-anchor=\"middle\" x=\"0\" y=\"213\" transform=\"translate(538.69,0)\" style=\"font-family: 'Open Sans', verdana, arial, sans-serif; font-size: 12px; fill: rgb(36, 36, 36); fill-opacity: 1; white-space: pre; opacity: 1;\">50</text></g><g class=\"x2tick\"><text text-anchor=\"middle\" x=\"0\" y=\"213\" style=\"font-family: 'Open Sans', verdana, arial, sans-serif; font-size: 12px; fill: rgb(36, 36, 36); fill-opacity: 1; white-space: pre; opacity: 1;\" transform=\"translate(672.05,0)\">100</text></g></g><g class=\"yaxislayer-above\"><g class=\"y2tick\"><text text-anchor=\"end\" x=\"405.05\" y=\"4.199999999999999\" transform=\"translate(0,191.97)\" style=\"font-family: 'Open Sans', verdana, arial, sans-serif; font-size: 12px; fill: rgb(36, 36, 36); fill-opacity: 1; white-space: pre; opacity: 1;\">0</text></g><g class=\"y2tick\"><text text-anchor=\"end\" x=\"405.05\" y=\"4.199999999999999\" style=\"font-family: 'Open Sans', verdana, arial, sans-serif; font-size: 12px; fill: rgb(36, 36, 36); fill-opacity: 1; white-space: pre; opacity: 1;\" transform=\"translate(0,157.18)\">20</text></g><g class=\"y2tick\"><text text-anchor=\"end\" x=\"405.05\" y=\"4.199999999999999\" style=\"font-family: 'Open Sans', verdana, arial, sans-serif; font-size: 12px; fill: rgb(36, 36, 36); fill-opacity: 1; white-space: pre; opacity: 1;\" transform=\"translate(0,122.39)\">40</text></g><g class=\"y2tick\"><text text-anchor=\"end\" x=\"405.05\" y=\"4.199999999999999\" style=\"font-family: 'Open Sans', verdana, arial, sans-serif; font-size: 12px; fill: rgb(36, 36, 36); fill-opacity: 1; white-space: pre; opacity: 1;\" transform=\"translate(0,87.61)\">60</text></g><g class=\"y2tick\"><text text-anchor=\"end\" x=\"405.05\" y=\"4.199999999999999\" style=\"font-family: 'Open Sans', verdana, arial, sans-serif; font-size: 12px; fill: rgb(36, 36, 36); fill-opacity: 1; white-space: pre; opacity: 1;\" transform=\"translate(0,52.82)\">80</text></g><g class=\"y2tick\"><text text-anchor=\"end\" x=\"405.05\" y=\"4.199999999999999\" style=\"font-family: 'Open Sans', verdana, arial, sans-serif; font-size: 12px; fill: rgb(36, 36, 36); fill-opacity: 1; white-space: pre; opacity: 1;\" transform=\"translate(0,18.03)\">100</text></g></g><g class=\"overaxes-above\"/></g></g><g class=\"polarlayer\"/><g class=\"smithlayer\"/><g class=\"ternarylayer\"/><g class=\"geolayer\"/><g class=\"funnelarealayer\"/><g class=\"pielayer\"/><g class=\"iciclelayer\"/><g class=\"treemaplayer\"/><g class=\"sunburstlayer\"/><g class=\"glimages\"/><defs id=\"topdefs-0393bb\"><g class=\"clips\"/></defs><g class=\"layer-above\"><g class=\"imagelayer\"/><g class=\"shapelayer\"/></g><g class=\"infolayer\"><g class=\"g-gtitle\"/><g class=\"g-xtitle\"><text class=\"xtitle\" x=\"200.975\" y=\"240.3\" text-anchor=\"middle\" style=\"font-family: 'Open Sans', verdana, arial, sans-serif; font-size: 14px; fill: rgb(36, 36, 36); opacity: 1; font-weight: normal; white-space: pre;\">income</text></g><g class=\"g-x2title\"><text class=\"x2title\" x=\"548.025\" y=\"240.3\" text-anchor=\"middle\" style=\"font-family: 'Open Sans', verdana, arial, sans-serif; font-size: 14px; fill: rgb(36, 36, 36); opacity: 1; font-weight: normal; white-space: pre;\">education</text></g><g class=\"g-ytitle\" transform=\"translate(3.6904296875,0)\"><text class=\"ytitle\" transform=\"rotate(-90,10.309375000000003,105)\" x=\"10.309375000000003\" y=\"105\" text-anchor=\"middle\" style=\"font-family: 'Open Sans', verdana, arial, sans-serif; font-size: 14px; fill: rgb(36, 36, 36); opacity: 1; font-weight: normal; white-space: pre;\">prestige</text></g><g class=\"g-y2title\"/></g></svg>"
      ]
     },
     "metadata": {},
     "output_type": "display_data"
    }
   ],
   "source": [
    "f1 = px.scatter(duncan, x='income', y='prestige')\n",
    "f2 = px.scatter(duncan, x='education', y='prestige')\n",
    "\n",
    "fig = left_right(f1, f2)\n",
    "fig.update_xaxes(title='income', row=1, col=1)\n",
    "fig.update_yaxes(title='prestige', row=1, col=1)\n",
    "fig.update_xaxes(title='education', row=1, col=2)"
   ]
  },
  {
   "cell_type": "markdown",
   "metadata": {},
   "source": [
    "From the plots above, we see that both education and income are positively correlated with prestige; hence, both of these variables might be useful in helping explain prestige. Let's fit a linear model using these explanatory variables to explain prestige."
   ]
  },
  {
   "cell_type": "markdown",
   "metadata": {},
   "source": [
    "## Fitting the model \n",
    "\n",
    "We will fit the following model, that explains the prestige of an occupation as a linear function of income and education:\n",
    "\n",
    "$$\n",
    "\\begin{aligned}\n",
    "\\texttt{prestige}_i\n",
    "= \\theta_0^* \n",
    "+ \\theta_\\texttt{income}^*\\cdot\\texttt{income}_i\n",
    "+ \\theta_\\texttt{education}^*\\cdot\\texttt{education}_i\n",
    "+ \\varepsilon_i\n",
    "\\end{aligned}\n",
    "$$\n",
    "\n",
    "In order to fit this model, we will define the design matrix (X) and our response variable (y):"
   ]
  },
  {
   "cell_type": "code",
   "execution_count": 16,
   "metadata": {},
   "outputs": [
    {
     "data": {
      "text/html": [
       "<div>\n",
       "<style scoped>\n",
       "    .dataframe tbody tr th:only-of-type {\n",
       "        vertical-align: middle;\n",
       "    }\n",
       "\n",
       "    .dataframe tbody tr th {\n",
       "        vertical-align: top;\n",
       "    }\n",
       "\n",
       "    .dataframe thead th {\n",
       "        text-align: right;\n",
       "    }\n",
       "</style>\n",
       "<table border=\"1\" class=\"dataframe\">\n",
       "  <thead>\n",
       "    <tr style=\"text-align: right;\">\n",
       "      <th></th>\n",
       "      <th>income</th>\n",
       "      <th>education</th>\n",
       "    </tr>\n",
       "  </thead>\n",
       "  <tbody>\n",
       "    <tr>\n",
       "      <th>0</th>\n",
       "      <td>62</td>\n",
       "      <td>86</td>\n",
       "    </tr>\n",
       "    <tr>\n",
       "      <th>1</th>\n",
       "      <td>72</td>\n",
       "      <td>76</td>\n",
       "    </tr>\n",
       "    <tr>\n",
       "      <th>2</th>\n",
       "      <td>75</td>\n",
       "      <td>92</td>\n",
       "    </tr>\n",
       "    <tr>\n",
       "      <th>3</th>\n",
       "      <td>55</td>\n",
       "      <td>90</td>\n",
       "    </tr>\n",
       "    <tr>\n",
       "      <th>4</th>\n",
       "      <td>64</td>\n",
       "      <td>86</td>\n",
       "    </tr>\n",
       "  </tbody>\n",
       "</table>\n",
       "</div>"
      ],
      "text/plain": [
       "   income  education\n",
       "0      62         86\n",
       "1      72         76\n",
       "2      75         92\n",
       "3      55         90\n",
       "4      64         86"
      ]
     },
     "execution_count": 16,
     "metadata": {},
     "output_type": "execute_result"
    }
   ],
   "source": [
    "X = duncan.loc[:, [\"income\", \"education\"]]\n",
    "X.head()"
   ]
  },
  {
   "cell_type": "code",
   "execution_count": 17,
   "metadata": {},
   "outputs": [
    {
     "data": {
      "text/plain": [
       "0    82\n",
       "1    83\n",
       "2    90\n",
       "3    76\n",
       "4    90\n",
       "Name: prestige, dtype: int64"
      ]
     },
     "execution_count": 17,
     "metadata": {},
     "output_type": "execute_result"
    }
   ],
   "source": [
    "y = duncan.loc[:, \"prestige\"]\n",
    "y.head()"
   ]
  },
  {
   "cell_type": "markdown",
   "metadata": {},
   "source": [
    "Below, we fit our linear model and print all the $\\widehat \\theta$ coefficients of the model (from the equation above) after the model has been fit to the data. Note that these are our sample coefficients."
   ]
  },
  {
   "cell_type": "code",
   "execution_count": 23,
   "metadata": {},
   "outputs": [
    {
     "name": "stdout",
     "output_type": "stream",
     "text": [
      "\n",
      "intercept:    -6.06\n",
      "income:       0.60\n",
      "education:    0.55\n",
      "\n"
     ]
    }
   ],
   "source": [
    "import sklearn.linear_model as lm\n",
    "\n",
    "model = lm.LinearRegression()\n",
    "model.fit(X, y)\n",
    "\n",
    "intercept = model.intercept_\n",
    "income, education = model.coef_\n",
    "\n",
    "print(f\"\"\"\n",
    "intercept:    {intercept:.2f}\n",
    "income:       {income:.2f}\n",
    "education:    {education:.2f}\n",
    "\"\"\")"
   ]
  },
  {
   "cell_type": "markdown",
   "metadata": {},
   "source": [
    "The coefficients above give us an estimate of the true coefficients. But had our sample data been different, we would have fit our model to different data, causing these coefficients to be different. We would like to explore what our coefficients might have been using bootstrapping methods.\n",
    "\n",
    "In our bootstrapping methods and analysis, we will focus on the coefficient of education. We would like to explore the partial relationship between prestige and education holding income constant (rather than the marginal relationship between prestige and education ignoring income). The partial regression coefficient $\\widehat\\theta_\\texttt{education}$ illustrates the partial relationship between prestige and education within our data. "
   ]
  },
  {
   "cell_type": "markdown",
   "metadata": {
    "colab_type": "text",
    "id": "vqGBN-NtGikV"
   },
   "source": [
    "## Bootstrapping the Observations \n",
    "\n",
    "In this method, we consider the pairs $(X_i, y_i)$ to be our sample, so we construct the bootstrap resample by sampling with replacement from these pairs:\n",
    "\n",
    "$$\n",
    "\\begin{aligned}\n",
    "(X_i^*, y_i^*) \n",
    "= (X_I, y_I), \\text{ where } I=1,\\dots,n \\text{ is sampled uniformly at random.}\n",
    "\\end{aligned}\n",
    "$$\n",
    "\n",
    "In other words, we sample n observations with replacement from our data points; this is our bootstrap sample. Then we will fit a new linear regression model to this sampled data and record the education coefficient $\\tilde\\theta_\\texttt{education}$; this coefficient is our bootstrap statistic."
   ]
  },
  {
   "cell_type": "code",
   "execution_count": 24,
   "metadata": {},
   "outputs": [],
   "source": [
    "def simple_resample(n): \n",
    "    return np.random.randint(low=0, high=n, size=n)\n",
    "\n",
    "def bootstrap(boot_pop, statistic, resample=simple_resample, replicates=10000):\n",
    "    n = len(boot_pop)\n",
    "    resample_estimates = [statistic(boot_pop[resample(n)])\n",
    "                          for _ in range(replicates)]\n",
    "    return np.array(resample_estimates)"
   ]
  },
  {
   "cell_type": "code",
   "execution_count": 25,
   "metadata": {
    "colab": {
     "autoexec": {
      "startup": false,
      "wait_interval": 0
     }
    },
    "colab_type": "code",
    "id": "JmlWkVa9MAXt"
   },
   "outputs": [],
   "source": [
    "def educ_coeff(data_array):\n",
    "    X = data_array[:, 1:]\n",
    "    y = data_array[:, 0]\n",
    "    \n",
    "    linear_model = lm.LinearRegression()\n",
    "    model = linear_model.fit(X, y)\n",
    "    theta_educ = model.coef_[1]\n",
    "\n",
    "    return theta_educ\n",
    "\n",
    "data_array = duncan.loc[:, [\"prestige\", \"income\", \"education\"]].values\n",
    "\n",
    "theta_hat_sampling = bootstrap(data_array, educ_coeff)"
   ]
  },
  {
   "cell_type": "code",
   "execution_count": 45,
   "metadata": {
    "colab_type": "text",
    "id": "pi0btxqTH4Je",
    "tags": [
     "hide-input"
    ]
   },
   "outputs": [
    {
     "data": {
      "image/svg+xml": [
       "<?xml version=\"1.0\" encoding=\"utf-8\" standalone=\"no\"?>\n",
       "<!DOCTYPE svg PUBLIC \"-//W3C//DTD SVG 1.1//EN\"\n",
       "  \"http://www.w3.org/Graphics/SVG/1.1/DTD/svg11.dtd\">\n",
       "<!-- Created with matplotlib (https://matplotlib.org/) -->\n",
       "<svg height=\"234.159844pt\" version=\"1.1\" viewBox=\"0 0 317.52 234.159844\" width=\"317.52pt\" xmlns=\"http://www.w3.org/2000/svg\" xmlns:xlink=\"http://www.w3.org/1999/xlink\">\n",
       " <metadata>\n",
       "  <rdf:RDF xmlns:cc=\"http://creativecommons.org/ns#\" xmlns:dc=\"http://purl.org/dc/elements/1.1/\" xmlns:rdf=\"http://www.w3.org/1999/02/22-rdf-syntax-ns#\">\n",
       "   <cc:Work>\n",
       "    <dc:type rdf:resource=\"http://purl.org/dc/dcmitype/StillImage\"/>\n",
       "    <dc:date>2022-03-14T15:37:47.744348</dc:date>\n",
       "    <dc:format>image/svg+xml</dc:format>\n",
       "    <dc:creator>\n",
       "     <cc:Agent>\n",
       "      <dc:title>Matplotlib v3.3.4, https://matplotlib.org/</dc:title>\n",
       "     </cc:Agent>\n",
       "    </dc:creator>\n",
       "   </cc:Work>\n",
       "  </rdf:RDF>\n",
       " </metadata>\n",
       " <defs>\n",
       "  <style type=\"text/css\">*{stroke-linecap:butt;stroke-linejoin:round;}</style>\n",
       " </defs>\n",
       " <g id=\"figure_1\">\n",
       "  <g id=\"patch_1\">\n",
       "   <path d=\"M 0 234.159844 \n",
       "L 317.52 234.159844 \n",
       "L 317.52 0 \n",
       "L 0 0 \n",
       "z\n",
       "\" style=\"fill:#ffffff;\"/>\n",
       "  </g>\n",
       "  <g id=\"axes_1\">\n",
       "   <g id=\"patch_2\">\n",
       "    <path d=\"M 47.16 188.76 \n",
       "L 270.36 188.76 \n",
       "L 270.36 25.68 \n",
       "L 47.16 25.68 \n",
       "z\n",
       "\" style=\"fill:#eaeaf2;\"/>\n",
       "   </g>\n",
       "   <g id=\"matplotlib.axis_1\">\n",
       "    <g id=\"xtick_1\">\n",
       "     <g id=\"line2d_1\">\n",
       "      <path clip-path=\"url(#pab416cb66e)\" d=\"M 51.95878 188.76 \n",
       "L 51.95878 25.68 \n",
       "\" style=\"fill:none;stroke:#ffffff;stroke-linecap:round;\"/>\n",
       "     </g>\n",
       "     <g id=\"text_1\">\n",
       "      <!-- −0.25 -->\n",
       "      <g style=\"fill:#262626;\" transform=\"translate(38.042921 206.133594)scale(0.11 -0.11)\">\n",
       "       <defs>\n",
       "        <path d=\"M 52.828125 31.203125 \n",
       "L 5.5625 31.203125 \n",
       "L 5.5625 39.40625 \n",
       "L 52.828125 39.40625 \n",
       "z\n",
       "\" id=\"ArialMT-8722\"/>\n",
       "        <path d=\"M 4.15625 35.296875 \n",
       "Q 4.15625 48 6.765625 55.734375 \n",
       "Q 9.375 63.484375 14.515625 67.671875 \n",
       "Q 19.671875 71.875 27.484375 71.875 \n",
       "Q 33.25 71.875 37.59375 69.546875 \n",
       "Q 41.9375 67.234375 44.765625 62.859375 \n",
       "Q 47.609375 58.5 49.21875 52.21875 \n",
       "Q 50.828125 45.953125 50.828125 35.296875 \n",
       "Q 50.828125 22.703125 48.234375 14.96875 \n",
       "Q 45.65625 7.234375 40.5 3 \n",
       "Q 35.359375 -1.21875 27.484375 -1.21875 \n",
       "Q 17.140625 -1.21875 11.234375 6.203125 \n",
       "Q 4.15625 15.140625 4.15625 35.296875 \n",
       "z\n",
       "M 13.1875 35.296875 \n",
       "Q 13.1875 17.671875 17.3125 11.828125 \n",
       "Q 21.4375 6 27.484375 6 \n",
       "Q 33.546875 6 37.671875 11.859375 \n",
       "Q 41.796875 17.71875 41.796875 35.296875 \n",
       "Q 41.796875 52.984375 37.671875 58.78125 \n",
       "Q 33.546875 64.59375 27.390625 64.59375 \n",
       "Q 21.34375 64.59375 17.71875 59.46875 \n",
       "Q 13.1875 52.9375 13.1875 35.296875 \n",
       "z\n",
       "\" id=\"ArialMT-48\"/>\n",
       "        <path d=\"M 9.078125 0 \n",
       "L 9.078125 10.015625 \n",
       "L 19.09375 10.015625 \n",
       "L 19.09375 0 \n",
       "z\n",
       "\" id=\"ArialMT-46\"/>\n",
       "        <path d=\"M 50.34375 8.453125 \n",
       "L 50.34375 0 \n",
       "L 3.03125 0 \n",
       "Q 2.9375 3.171875 4.046875 6.109375 \n",
       "Q 5.859375 10.9375 9.828125 15.625 \n",
       "Q 13.8125 20.3125 21.34375 26.46875 \n",
       "Q 33.015625 36.03125 37.109375 41.625 \n",
       "Q 41.21875 47.21875 41.21875 52.203125 \n",
       "Q 41.21875 57.421875 37.46875 61 \n",
       "Q 33.734375 64.59375 27.734375 64.59375 \n",
       "Q 21.390625 64.59375 17.578125 60.78125 \n",
       "Q 13.765625 56.984375 13.71875 50.25 \n",
       "L 4.6875 51.171875 \n",
       "Q 5.609375 61.28125 11.65625 66.578125 \n",
       "Q 17.71875 71.875 27.9375 71.875 \n",
       "Q 38.234375 71.875 44.234375 66.15625 \n",
       "Q 50.25 60.453125 50.25 52 \n",
       "Q 50.25 47.703125 48.484375 43.546875 \n",
       "Q 46.734375 39.40625 42.65625 34.8125 \n",
       "Q 38.578125 30.21875 29.109375 22.21875 \n",
       "Q 21.1875 15.578125 18.9375 13.203125 \n",
       "Q 16.703125 10.84375 15.234375 8.453125 \n",
       "z\n",
       "\" id=\"ArialMT-50\"/>\n",
       "        <path d=\"M 4.15625 18.75 \n",
       "L 13.375 19.53125 \n",
       "Q 14.40625 12.796875 18.140625 9.390625 \n",
       "Q 21.875 6 27.15625 6 \n",
       "Q 33.5 6 37.890625 10.78125 \n",
       "Q 42.28125 15.578125 42.28125 23.484375 \n",
       "Q 42.28125 31 38.0625 35.34375 \n",
       "Q 33.84375 39.703125 27 39.703125 \n",
       "Q 22.75 39.703125 19.328125 37.765625 \n",
       "Q 15.921875 35.84375 13.96875 32.765625 \n",
       "L 5.71875 33.84375 \n",
       "L 12.640625 70.609375 \n",
       "L 48.25 70.609375 \n",
       "L 48.25 62.203125 \n",
       "L 19.671875 62.203125 \n",
       "L 15.828125 42.96875 \n",
       "Q 22.265625 47.46875 29.34375 47.46875 \n",
       "Q 38.71875 47.46875 45.15625 40.96875 \n",
       "Q 51.609375 34.46875 51.609375 24.265625 \n",
       "Q 51.609375 14.546875 45.953125 7.46875 \n",
       "Q 39.0625 -1.21875 27.15625 -1.21875 \n",
       "Q 17.390625 -1.21875 11.203125 4.25 \n",
       "Q 5.03125 9.71875 4.15625 18.75 \n",
       "z\n",
       "\" id=\"ArialMT-53\"/>\n",
       "       </defs>\n",
       "       <use xlink:href=\"#ArialMT-8722\"/>\n",
       "       <use x=\"58.398438\" xlink:href=\"#ArialMT-48\"/>\n",
       "       <use x=\"114.013672\" xlink:href=\"#ArialMT-46\"/>\n",
       "       <use x=\"141.796875\" xlink:href=\"#ArialMT-50\"/>\n",
       "       <use x=\"197.412109\" xlink:href=\"#ArialMT-53\"/>\n",
       "      </g>\n",
       "     </g>\n",
       "    </g>\n",
       "    <g id=\"xtick_2\">\n",
       "     <g id=\"line2d_2\">\n",
       "      <path clip-path=\"url(#pab416cb66e)\" d=\"M 95.559628 188.76 \n",
       "L 95.559628 25.68 \n",
       "\" style=\"fill:none;stroke:#ffffff;stroke-linecap:round;\"/>\n",
       "     </g>\n",
       "     <g id=\"text_2\">\n",
       "      <!-- 0.00 -->\n",
       "      <g style=\"fill:#262626;\" transform=\"translate(84.856113 206.133594)scale(0.11 -0.11)\">\n",
       "       <use xlink:href=\"#ArialMT-48\"/>\n",
       "       <use x=\"55.615234\" xlink:href=\"#ArialMT-46\"/>\n",
       "       <use x=\"83.398438\" xlink:href=\"#ArialMT-48\"/>\n",
       "       <use x=\"139.013672\" xlink:href=\"#ArialMT-48\"/>\n",
       "      </g>\n",
       "     </g>\n",
       "    </g>\n",
       "    <g id=\"xtick_3\">\n",
       "     <g id=\"line2d_3\">\n",
       "      <path clip-path=\"url(#pab416cb66e)\" d=\"M 139.160476 188.76 \n",
       "L 139.160476 25.68 \n",
       "\" style=\"fill:none;stroke:#ffffff;stroke-linecap:round;\"/>\n",
       "     </g>\n",
       "     <g id=\"text_3\">\n",
       "      <!-- 0.25 -->\n",
       "      <g style=\"fill:#262626;\" transform=\"translate(128.456961 206.133594)scale(0.11 -0.11)\">\n",
       "       <use xlink:href=\"#ArialMT-48\"/>\n",
       "       <use x=\"55.615234\" xlink:href=\"#ArialMT-46\"/>\n",
       "       <use x=\"83.398438\" xlink:href=\"#ArialMT-50\"/>\n",
       "       <use x=\"139.013672\" xlink:href=\"#ArialMT-53\"/>\n",
       "      </g>\n",
       "     </g>\n",
       "    </g>\n",
       "    <g id=\"xtick_4\">\n",
       "     <g id=\"line2d_4\">\n",
       "      <path clip-path=\"url(#pab416cb66e)\" d=\"M 182.761325 188.76 \n",
       "L 182.761325 25.68 \n",
       "\" style=\"fill:none;stroke:#ffffff;stroke-linecap:round;\"/>\n",
       "     </g>\n",
       "     <g id=\"text_4\">\n",
       "      <!-- 0.50 -->\n",
       "      <g style=\"fill:#262626;\" transform=\"translate(172.057809 206.133594)scale(0.11 -0.11)\">\n",
       "       <use xlink:href=\"#ArialMT-48\"/>\n",
       "       <use x=\"55.615234\" xlink:href=\"#ArialMT-46\"/>\n",
       "       <use x=\"83.398438\" xlink:href=\"#ArialMT-53\"/>\n",
       "       <use x=\"139.013672\" xlink:href=\"#ArialMT-48\"/>\n",
       "      </g>\n",
       "     </g>\n",
       "    </g>\n",
       "    <g id=\"xtick_5\">\n",
       "     <g id=\"line2d_5\">\n",
       "      <path clip-path=\"url(#pab416cb66e)\" d=\"M 226.362173 188.76 \n",
       "L 226.362173 25.68 \n",
       "\" style=\"fill:none;stroke:#ffffff;stroke-linecap:round;\"/>\n",
       "     </g>\n",
       "     <g id=\"text_5\">\n",
       "      <!-- 0.75 -->\n",
       "      <g style=\"fill:#262626;\" transform=\"translate(215.658657 206.133594)scale(0.11 -0.11)\">\n",
       "       <defs>\n",
       "        <path d=\"M 4.734375 62.203125 \n",
       "L 4.734375 70.65625 \n",
       "L 51.078125 70.65625 \n",
       "L 51.078125 63.8125 \n",
       "Q 44.234375 56.546875 37.515625 44.484375 \n",
       "Q 30.8125 32.421875 27.15625 19.671875 \n",
       "Q 24.515625 10.6875 23.78125 0 \n",
       "L 14.75 0 \n",
       "Q 14.890625 8.453125 18.0625 20.40625 \n",
       "Q 21.234375 32.375 27.171875 43.484375 \n",
       "Q 33.109375 54.59375 39.796875 62.203125 \n",
       "z\n",
       "\" id=\"ArialMT-55\"/>\n",
       "       </defs>\n",
       "       <use xlink:href=\"#ArialMT-48\"/>\n",
       "       <use x=\"55.615234\" xlink:href=\"#ArialMT-46\"/>\n",
       "       <use x=\"83.398438\" xlink:href=\"#ArialMT-55\"/>\n",
       "       <use x=\"139.013672\" xlink:href=\"#ArialMT-53\"/>\n",
       "      </g>\n",
       "     </g>\n",
       "    </g>\n",
       "    <g id=\"xtick_6\">\n",
       "     <g id=\"line2d_6\">\n",
       "      <path clip-path=\"url(#pab416cb66e)\" d=\"M 269.963021 188.76 \n",
       "L 269.963021 25.68 \n",
       "\" style=\"fill:none;stroke:#ffffff;stroke-linecap:round;\"/>\n",
       "     </g>\n",
       "     <g id=\"text_6\">\n",
       "      <!-- 1.00 -->\n",
       "      <g style=\"fill:#262626;\" transform=\"translate(259.259505 206.133594)scale(0.11 -0.11)\">\n",
       "       <defs>\n",
       "        <path d=\"M 37.25 0 \n",
       "L 28.46875 0 \n",
       "L 28.46875 56 \n",
       "Q 25.296875 52.984375 20.140625 49.953125 \n",
       "Q 14.984375 46.921875 10.890625 45.40625 \n",
       "L 10.890625 53.90625 \n",
       "Q 18.265625 57.375 23.78125 62.296875 \n",
       "Q 29.296875 67.234375 31.59375 71.875 \n",
       "L 37.25 71.875 \n",
       "z\n",
       "\" id=\"ArialMT-49\"/>\n",
       "       </defs>\n",
       "       <use xlink:href=\"#ArialMT-49\"/>\n",
       "       <use x=\"55.615234\" xlink:href=\"#ArialMT-46\"/>\n",
       "       <use x=\"83.398438\" xlink:href=\"#ArialMT-48\"/>\n",
       "       <use x=\"139.013672\" xlink:href=\"#ArialMT-48\"/>\n",
       "      </g>\n",
       "     </g>\n",
       "    </g>\n",
       "    <g id=\"text_7\">\n",
       "     <!-- $\\tilde{\\theta}_{educ}$ Values -->\n",
       "     <g style=\"fill:#262626;\" transform=\"translate(124.62 224.574844)scale(0.12 -0.12)\">\n",
       "      <defs>\n",
       "       <path d=\"M -25.296875 66.890625 \n",
       "L -28.078125 69.578125 \n",
       "Q -29.15625 70.5625 -29.953125 71.015625 \n",
       "Q -30.765625 71.484375 -31.390625 71.484375 \n",
       "Q -33.25 71.484375 -34.125 69.703125 \n",
       "Q -35.015625 67.921875 -35.109375 63.921875 \n",
       "L -41.21875 63.921875 \n",
       "Q -41.109375 70.515625 -38.625 74.09375 \n",
       "Q -36.140625 77.6875 -31.6875 77.6875 \n",
       "Q -29.828125 77.6875 -28.265625 77 \n",
       "Q -26.703125 76.3125 -24.90625 74.703125 \n",
       "L -22.125 72.015625 \n",
       "Q -21.046875 71.046875 -20.234375 70.578125 \n",
       "Q -19.4375 70.125 -18.796875 70.125 \n",
       "Q -16.9375 70.125 -16.0625 71.90625 \n",
       "Q -15.1875 73.6875 -15.09375 77.6875 \n",
       "L -8.984375 77.6875 \n",
       "Q -9.078125 71.09375 -11.5625 67.5 \n",
       "Q -14.0625 63.921875 -18.5 63.921875 \n",
       "Q -20.359375 63.921875 -21.921875 64.59375 \n",
       "Q -23.484375 65.28125 -25.296875 66.890625 \n",
       "z\n",
       "\" id=\"DejaVuSans-771\"/>\n",
       "       <path d=\"M 45.515625 34.671875 \n",
       "L 14.453125 34.671875 \n",
       "Q 12.359375 20.0625 14.5 13.875 \n",
       "Q 17.1875 6.25 24.46875 6.25 \n",
       "Q 31.78125 6.25 37.359375 13.921875 \n",
       "Q 42.234375 20.65625 45.515625 34.671875 \n",
       "z\n",
       "M 47.015625 42.96875 \n",
       "Q 48.34375 56.84375 46.625 61.71875 \n",
       "Q 43.953125 69.4375 36.765625 69.4375 \n",
       "Q 29.296875 69.4375 23.828125 61.8125 \n",
       "Q 19.53125 55.671875 16.15625 42.96875 \n",
       "z\n",
       "M 38.1875 76.765625 \n",
       "Q 49.90625 76.765625 54.59375 66.40625 \n",
       "Q 59.28125 56.109375 55.71875 37.84375 \n",
       "Q 52.203125 19.625 43.453125 9.28125 \n",
       "Q 34.765625 -1.125 23.046875 -1.125 \n",
       "Q 11.28125 -1.125 6.640625 9.28125 \n",
       "Q 2 19.625 5.515625 37.84375 \n",
       "Q 9.078125 56.109375 17.71875 66.40625 \n",
       "Q 26.421875 76.765625 38.1875 76.765625 \n",
       "z\n",
       "\" id=\"DejaVuSans-Oblique-952\"/>\n",
       "       <path d=\"M 48.09375 32.234375 \n",
       "Q 48.25 33.015625 48.3125 33.84375 \n",
       "Q 48.390625 34.671875 48.390625 35.5 \n",
       "Q 48.390625 41.453125 44.890625 44.921875 \n",
       "Q 41.40625 48.390625 35.40625 48.390625 \n",
       "Q 28.71875 48.390625 23.578125 44.15625 \n",
       "Q 18.453125 39.9375 15.828125 32.171875 \n",
       "z\n",
       "M 55.90625 25.203125 \n",
       "L 14.109375 25.203125 \n",
       "Q 13.8125 23.34375 13.71875 22.265625 \n",
       "Q 13.625 21.1875 13.625 20.40625 \n",
       "Q 13.625 13.625 17.796875 9.90625 \n",
       "Q 21.96875 6.203125 29.59375 6.203125 \n",
       "Q 35.453125 6.203125 40.671875 7.515625 \n",
       "Q 45.90625 8.84375 50.390625 11.375 \n",
       "L 48.6875 2.484375 \n",
       "Q 43.84375 0.53125 38.6875 -0.4375 \n",
       "Q 33.546875 -1.421875 28.21875 -1.421875 \n",
       "Q 16.84375 -1.421875 10.71875 4.015625 \n",
       "Q 4.59375 9.46875 4.59375 19.484375 \n",
       "Q 4.59375 28.03125 7.640625 35.375 \n",
       "Q 10.6875 42.71875 16.609375 48.484375 \n",
       "Q 20.40625 52.09375 25.65625 54.046875 \n",
       "Q 30.90625 56 36.8125 56 \n",
       "Q 46.09375 56 51.578125 50.4375 \n",
       "Q 57.078125 44.875 57.078125 35.5 \n",
       "Q 57.078125 33.25 56.78125 30.6875 \n",
       "Q 56.5 28.125 55.90625 25.203125 \n",
       "z\n",
       "\" id=\"DejaVuSans-Oblique-101\"/>\n",
       "       <path d=\"M 41.796875 8.203125 \n",
       "Q 38.1875 3.46875 33.25 1.015625 \n",
       "Q 28.328125 -1.421875 22.3125 -1.421875 \n",
       "Q 14.109375 -1.421875 9.34375 4.171875 \n",
       "Q 4.59375 9.765625 4.59375 19.484375 \n",
       "Q 4.59375 27.59375 7.46875 34.9375 \n",
       "Q 10.359375 42.28125 15.828125 48.09375 \n",
       "Q 19.4375 51.953125 23.96875 53.96875 \n",
       "Q 28.515625 56 33.5 56 \n",
       "Q 38.765625 56 42.796875 53.453125 \n",
       "Q 46.828125 50.921875 49.03125 46.1875 \n",
       "L 54.890625 75.984375 \n",
       "L 63.921875 75.984375 \n",
       "L 49.125 0 \n",
       "L 40.09375 0 \n",
       "z\n",
       "M 13.921875 21.09375 \n",
       "Q 13.921875 14.015625 17.109375 10.0625 \n",
       "Q 20.3125 6.109375 25.984375 6.109375 \n",
       "Q 30.171875 6.109375 33.765625 8.125 \n",
       "Q 37.359375 10.15625 40.09375 14.109375 \n",
       "Q 42.96875 18.21875 44.625 23.578125 \n",
       "Q 46.296875 28.953125 46.296875 34.1875 \n",
       "Q 46.296875 40.96875 43.09375 44.765625 \n",
       "Q 39.890625 48.578125 34.28125 48.578125 \n",
       "Q 30.03125 48.578125 26.359375 46.578125 \n",
       "Q 22.703125 44.578125 20.125 40.828125 \n",
       "Q 17.28125 36.765625 15.59375 31.390625 \n",
       "Q 13.921875 26.03125 13.921875 21.09375 \n",
       "z\n",
       "\" id=\"DejaVuSans-Oblique-100\"/>\n",
       "       <path d=\"M 6.6875 21.6875 \n",
       "L 13.09375 54.6875 \n",
       "L 22.125 54.6875 \n",
       "L 15.71875 22.015625 \n",
       "Q 15.234375 19.625 15.015625 17.921875 \n",
       "Q 14.796875 16.21875 14.796875 15.09375 \n",
       "Q 14.796875 10.9375 17.328125 8.65625 \n",
       "Q 19.875 6.390625 24.515625 6.390625 \n",
       "Q 31.734375 6.390625 37 11.265625 \n",
       "Q 42.28125 16.15625 43.890625 24.421875 \n",
       "L 49.90625 54.6875 \n",
       "L 58.890625 54.6875 \n",
       "L 48.296875 0 \n",
       "L 39.3125 0 \n",
       "L 41.109375 8.59375 \n",
       "Q 37.3125 3.8125 32.0625 1.1875 \n",
       "Q 26.8125 -1.421875 20.90625 -1.421875 \n",
       "Q 13.71875 -1.421875 9.71875 2.515625 \n",
       "Q 5.71875 6.453125 5.71875 13.484375 \n",
       "Q 5.71875 14.9375 5.953125 17.140625 \n",
       "Q 6.203125 19.34375 6.6875 21.6875 \n",
       "z\n",
       "\" id=\"DejaVuSans-Oblique-117\"/>\n",
       "       <path d=\"M 53.609375 52.59375 \n",
       "L 51.8125 43.703125 \n",
       "Q 48.578125 46.046875 44.9375 47.21875 \n",
       "Q 41.3125 48.390625 37.40625 48.390625 \n",
       "Q 33.109375 48.390625 29.21875 46.875 \n",
       "Q 25.34375 45.359375 22.703125 42.578125 \n",
       "Q 18.5 38.328125 16.203125 32.609375 \n",
       "Q 13.921875 26.90625 13.921875 20.796875 \n",
       "Q 13.921875 13.421875 17.609375 9.8125 \n",
       "Q 21.296875 6.203125 28.8125 6.203125 \n",
       "Q 32.515625 6.203125 36.6875 7.328125 \n",
       "Q 40.875 8.453125 45.40625 10.6875 \n",
       "L 43.703125 1.8125 \n",
       "Q 39.796875 0.203125 35.671875 -0.609375 \n",
       "Q 31.546875 -1.421875 27.203125 -1.421875 \n",
       "Q 16.3125 -1.421875 10.453125 4.015625 \n",
       "Q 4.59375 9.46875 4.59375 19.578125 \n",
       "Q 4.59375 28.078125 7.640625 35.234375 \n",
       "Q 10.6875 42.390625 16.703125 48.09375 \n",
       "Q 20.796875 52 26.3125 54 \n",
       "Q 31.84375 56 38.375 56 \n",
       "Q 42.1875 56 45.9375 55.140625 \n",
       "Q 49.703125 54.296875 53.609375 52.59375 \n",
       "z\n",
       "\" id=\"DejaVuSans-Oblique-99\"/>\n",
       "       <path id=\"ArialMT-32\"/>\n",
       "       <path d=\"M 28.171875 0 \n",
       "L 0.4375 71.578125 \n",
       "L 10.6875 71.578125 \n",
       "L 29.296875 19.578125 \n",
       "Q 31.546875 13.328125 33.0625 7.859375 \n",
       "Q 34.71875 13.71875 36.921875 19.578125 \n",
       "L 56.25 71.578125 \n",
       "L 65.921875 71.578125 \n",
       "L 37.890625 0 \n",
       "z\n",
       "\" id=\"ArialMT-86\"/>\n",
       "       <path d=\"M 40.4375 6.390625 \n",
       "Q 35.546875 2.25 31.03125 0.53125 \n",
       "Q 26.515625 -1.171875 21.34375 -1.171875 \n",
       "Q 12.796875 -1.171875 8.203125 3 \n",
       "Q 3.609375 7.171875 3.609375 13.671875 \n",
       "Q 3.609375 17.484375 5.34375 20.625 \n",
       "Q 7.078125 23.78125 9.890625 25.6875 \n",
       "Q 12.703125 27.59375 16.21875 28.5625 \n",
       "Q 18.796875 29.25 24.03125 29.890625 \n",
       "Q 34.671875 31.15625 39.703125 32.90625 \n",
       "Q 39.75 34.71875 39.75 35.203125 \n",
       "Q 39.75 40.578125 37.25 42.78125 \n",
       "Q 33.890625 45.75 27.25 45.75 \n",
       "Q 21.046875 45.75 18.09375 43.578125 \n",
       "Q 15.140625 41.40625 13.71875 35.890625 \n",
       "L 5.125 37.0625 \n",
       "Q 6.296875 42.578125 8.984375 45.96875 \n",
       "Q 11.671875 49.359375 16.75 51.1875 \n",
       "Q 21.828125 53.03125 28.515625 53.03125 \n",
       "Q 35.15625 53.03125 39.296875 51.46875 \n",
       "Q 43.453125 49.90625 45.40625 47.53125 \n",
       "Q 47.359375 45.171875 48.140625 41.546875 \n",
       "Q 48.578125 39.3125 48.578125 33.453125 \n",
       "L 48.578125 21.734375 \n",
       "Q 48.578125 9.46875 49.140625 6.21875 \n",
       "Q 49.703125 2.984375 51.375 0 \n",
       "L 42.1875 0 \n",
       "Q 40.828125 2.734375 40.4375 6.390625 \n",
       "z\n",
       "M 39.703125 26.03125 \n",
       "Q 34.90625 24.078125 25.34375 22.703125 \n",
       "Q 19.921875 21.921875 17.671875 20.9375 \n",
       "Q 15.4375 19.96875 14.203125 18.09375 \n",
       "Q 12.984375 16.21875 12.984375 13.921875 \n",
       "Q 12.984375 10.40625 15.640625 8.0625 \n",
       "Q 18.3125 5.71875 23.4375 5.71875 \n",
       "Q 28.515625 5.71875 32.46875 7.9375 \n",
       "Q 36.421875 10.15625 38.28125 14.015625 \n",
       "Q 39.703125 17 39.703125 22.796875 \n",
       "z\n",
       "\" id=\"ArialMT-97\"/>\n",
       "       <path d=\"M 6.390625 0 \n",
       "L 6.390625 71.578125 \n",
       "L 15.1875 71.578125 \n",
       "L 15.1875 0 \n",
       "z\n",
       "\" id=\"ArialMT-108\"/>\n",
       "       <path d=\"M 40.578125 0 \n",
       "L 40.578125 7.625 \n",
       "Q 34.515625 -1.171875 24.125 -1.171875 \n",
       "Q 19.53125 -1.171875 15.546875 0.578125 \n",
       "Q 11.578125 2.34375 9.640625 5 \n",
       "Q 7.71875 7.671875 6.9375 11.53125 \n",
       "Q 6.390625 14.109375 6.390625 19.734375 \n",
       "L 6.390625 51.859375 \n",
       "L 15.1875 51.859375 \n",
       "L 15.1875 23.09375 \n",
       "Q 15.1875 16.21875 15.71875 13.8125 \n",
       "Q 16.546875 10.359375 19.234375 8.375 \n",
       "Q 21.921875 6.390625 25.875 6.390625 \n",
       "Q 29.828125 6.390625 33.296875 8.421875 \n",
       "Q 36.765625 10.453125 38.203125 13.9375 \n",
       "Q 39.65625 17.4375 39.65625 24.078125 \n",
       "L 39.65625 51.859375 \n",
       "L 48.4375 51.859375 \n",
       "L 48.4375 0 \n",
       "z\n",
       "\" id=\"ArialMT-117\"/>\n",
       "       <path d=\"M 42.09375 16.703125 \n",
       "L 51.171875 15.578125 \n",
       "Q 49.03125 7.625 43.21875 3.21875 \n",
       "Q 37.40625 -1.171875 28.375 -1.171875 \n",
       "Q 17 -1.171875 10.328125 5.828125 \n",
       "Q 3.65625 12.84375 3.65625 25.484375 \n",
       "Q 3.65625 38.578125 10.390625 45.796875 \n",
       "Q 17.140625 53.03125 27.875 53.03125 \n",
       "Q 38.28125 53.03125 44.875 45.953125 \n",
       "Q 51.46875 38.875 51.46875 26.03125 \n",
       "Q 51.46875 25.25 51.421875 23.6875 \n",
       "L 12.75 23.6875 \n",
       "Q 13.234375 15.140625 17.578125 10.59375 \n",
       "Q 21.921875 6.0625 28.421875 6.0625 \n",
       "Q 33.25 6.0625 36.671875 8.59375 \n",
       "Q 40.09375 11.140625 42.09375 16.703125 \n",
       "z\n",
       "M 13.234375 30.90625 \n",
       "L 42.1875 30.90625 \n",
       "Q 41.609375 37.453125 38.875 40.71875 \n",
       "Q 34.671875 45.796875 27.984375 45.796875 \n",
       "Q 21.921875 45.796875 17.796875 41.75 \n",
       "Q 13.671875 37.703125 13.234375 30.90625 \n",
       "z\n",
       "\" id=\"ArialMT-101\"/>\n",
       "       <path d=\"M 3.078125 15.484375 \n",
       "L 11.765625 16.84375 \n",
       "Q 12.5 11.625 15.84375 8.84375 \n",
       "Q 19.1875 6.0625 25.203125 6.0625 \n",
       "Q 31.25 6.0625 34.171875 8.515625 \n",
       "Q 37.109375 10.984375 37.109375 14.3125 \n",
       "Q 37.109375 17.28125 34.515625 19 \n",
       "Q 32.71875 20.171875 25.53125 21.96875 \n",
       "Q 15.875 24.421875 12.140625 26.203125 \n",
       "Q 8.40625 27.984375 6.46875 31.125 \n",
       "Q 4.546875 34.28125 4.546875 38.09375 \n",
       "Q 4.546875 41.546875 6.125 44.5 \n",
       "Q 7.71875 47.46875 10.453125 49.421875 \n",
       "Q 12.5 50.921875 16.03125 51.96875 \n",
       "Q 19.578125 53.03125 23.640625 53.03125 \n",
       "Q 29.734375 53.03125 34.34375 51.265625 \n",
       "Q 38.96875 49.515625 41.15625 46.5 \n",
       "Q 43.359375 43.5 44.1875 38.484375 \n",
       "L 35.59375 37.3125 \n",
       "Q 35.015625 41.3125 32.203125 43.546875 \n",
       "Q 29.390625 45.796875 24.265625 45.796875 \n",
       "Q 18.21875 45.796875 15.625 43.796875 \n",
       "Q 13.03125 41.796875 13.03125 39.109375 \n",
       "Q 13.03125 37.40625 14.109375 36.03125 \n",
       "Q 15.1875 34.625 17.484375 33.6875 \n",
       "Q 18.796875 33.203125 25.25 31.453125 \n",
       "Q 34.578125 28.953125 38.25 27.359375 \n",
       "Q 41.9375 25.78125 44.03125 22.75 \n",
       "Q 46.140625 19.734375 46.140625 15.234375 \n",
       "Q 46.140625 10.84375 43.578125 6.953125 \n",
       "Q 41.015625 3.078125 36.171875 0.953125 \n",
       "Q 31.34375 -1.171875 25.25 -1.171875 \n",
       "Q 15.140625 -1.171875 9.84375 3.03125 \n",
       "Q 4.546875 7.234375 3.078125 15.484375 \n",
       "z\n",
       "\" id=\"ArialMT-115\"/>\n",
       "      </defs>\n",
       "      <use transform=\"translate(63.51416 26.3125)\" xlink:href=\"#DejaVuSans-771\"/>\n",
       "      <use transform=\"translate(0 0.96875)\" xlink:href=\"#DejaVuSans-Oblique-952\"/>\n",
       "      <use transform=\"translate(62.138672 -15.4375)scale(0.7)\" xlink:href=\"#DejaVuSans-Oblique-101\"/>\n",
       "      <use transform=\"translate(105.205078 -15.4375)scale(0.7)\" xlink:href=\"#DejaVuSans-Oblique-100\"/>\n",
       "      <use transform=\"translate(149.638672 -15.4375)scale(0.7)\" xlink:href=\"#DejaVuSans-Oblique-117\"/>\n",
       "      <use transform=\"translate(194.003906 -15.4375)scale(0.7)\" xlink:href=\"#DejaVuSans-Oblique-99\"/>\n",
       "      <use transform=\"translate(235.224609 0.96875)\" xlink:href=\"#ArialMT-32\"/>\n",
       "      <use transform=\"translate(263.007812 0.96875)\" xlink:href=\"#ArialMT-86\"/>\n",
       "      <use transform=\"translate(329.707031 0.96875)\" xlink:href=\"#ArialMT-97\"/>\n",
       "      <use transform=\"translate(385.322266 0.96875)\" xlink:href=\"#ArialMT-108\"/>\n",
       "      <use transform=\"translate(407.539062 0.96875)\" xlink:href=\"#ArialMT-117\"/>\n",
       "      <use transform=\"translate(463.154297 0.96875)\" xlink:href=\"#ArialMT-101\"/>\n",
       "      <use transform=\"translate(518.769531 0.96875)\" xlink:href=\"#ArialMT-115\"/>\n",
       "     </g>\n",
       "    </g>\n",
       "   </g>\n",
       "   <g id=\"matplotlib.axis_2\">\n",
       "    <g id=\"ytick_1\">\n",
       "     <g id=\"line2d_7\">\n",
       "      <path clip-path=\"url(#pab416cb66e)\" d=\"M 47.16 188.76 \n",
       "L 270.36 188.76 \n",
       "\" style=\"fill:none;stroke:#ffffff;stroke-linecap:round;\"/>\n",
       "     </g>\n",
       "     <g id=\"text_8\">\n",
       "      <!-- 0.0 -->\n",
       "      <g style=\"fill:#262626;\" transform=\"translate(22.37 192.696797)scale(0.11 -0.11)\">\n",
       "       <use xlink:href=\"#ArialMT-48\"/>\n",
       "       <use x=\"55.615234\" xlink:href=\"#ArialMT-46\"/>\n",
       "       <use x=\"83.398438\" xlink:href=\"#ArialMT-48\"/>\n",
       "      </g>\n",
       "     </g>\n",
       "    </g>\n",
       "    <g id=\"ytick_2\">\n",
       "     <g id=\"line2d_8\">\n",
       "      <path clip-path=\"url(#pab416cb66e)\" d=\"M 47.16 162.774966 \n",
       "L 270.36 162.774966 \n",
       "\" style=\"fill:none;stroke:#ffffff;stroke-linecap:round;\"/>\n",
       "     </g>\n",
       "     <g id=\"text_9\">\n",
       "      <!-- 0.5 -->\n",
       "      <g style=\"fill:#262626;\" transform=\"translate(22.37 166.711763)scale(0.11 -0.11)\">\n",
       "       <use xlink:href=\"#ArialMT-48\"/>\n",
       "       <use x=\"55.615234\" xlink:href=\"#ArialMT-46\"/>\n",
       "       <use x=\"83.398438\" xlink:href=\"#ArialMT-53\"/>\n",
       "      </g>\n",
       "     </g>\n",
       "    </g>\n",
       "    <g id=\"ytick_3\">\n",
       "     <g id=\"line2d_9\">\n",
       "      <path clip-path=\"url(#pab416cb66e)\" d=\"M 47.16 136.789931 \n",
       "L 270.36 136.789931 \n",
       "\" style=\"fill:none;stroke:#ffffff;stroke-linecap:round;\"/>\n",
       "     </g>\n",
       "     <g id=\"text_10\">\n",
       "      <!-- 1.0 -->\n",
       "      <g style=\"fill:#262626;\" transform=\"translate(22.37 140.726728)scale(0.11 -0.11)\">\n",
       "       <use xlink:href=\"#ArialMT-49\"/>\n",
       "       <use x=\"55.615234\" xlink:href=\"#ArialMT-46\"/>\n",
       "       <use x=\"83.398438\" xlink:href=\"#ArialMT-48\"/>\n",
       "      </g>\n",
       "     </g>\n",
       "    </g>\n",
       "    <g id=\"ytick_4\">\n",
       "     <g id=\"line2d_10\">\n",
       "      <path clip-path=\"url(#pab416cb66e)\" d=\"M 47.16 110.804897 \n",
       "L 270.36 110.804897 \n",
       "\" style=\"fill:none;stroke:#ffffff;stroke-linecap:round;\"/>\n",
       "     </g>\n",
       "     <g id=\"text_11\">\n",
       "      <!-- 1.5 -->\n",
       "      <g style=\"fill:#262626;\" transform=\"translate(22.37 114.741694)scale(0.11 -0.11)\">\n",
       "       <use xlink:href=\"#ArialMT-49\"/>\n",
       "       <use x=\"55.615234\" xlink:href=\"#ArialMT-46\"/>\n",
       "       <use x=\"83.398438\" xlink:href=\"#ArialMT-53\"/>\n",
       "      </g>\n",
       "     </g>\n",
       "    </g>\n",
       "    <g id=\"ytick_5\">\n",
       "     <g id=\"line2d_11\">\n",
       "      <path clip-path=\"url(#pab416cb66e)\" d=\"M 47.16 84.819863 \n",
       "L 270.36 84.819863 \n",
       "\" style=\"fill:none;stroke:#ffffff;stroke-linecap:round;\"/>\n",
       "     </g>\n",
       "     <g id=\"text_12\">\n",
       "      <!-- 2.0 -->\n",
       "      <g style=\"fill:#262626;\" transform=\"translate(22.37 88.75666)scale(0.11 -0.11)\">\n",
       "       <use xlink:href=\"#ArialMT-50\"/>\n",
       "       <use x=\"55.615234\" xlink:href=\"#ArialMT-46\"/>\n",
       "       <use x=\"83.398438\" xlink:href=\"#ArialMT-48\"/>\n",
       "      </g>\n",
       "     </g>\n",
       "    </g>\n",
       "    <g id=\"ytick_6\">\n",
       "     <g id=\"line2d_12\">\n",
       "      <path clip-path=\"url(#pab416cb66e)\" d=\"M 47.16 58.834829 \n",
       "L 270.36 58.834829 \n",
       "\" style=\"fill:none;stroke:#ffffff;stroke-linecap:round;\"/>\n",
       "     </g>\n",
       "     <g id=\"text_13\">\n",
       "      <!-- 2.5 -->\n",
       "      <g style=\"fill:#262626;\" transform=\"translate(22.37 62.771626)scale(0.11 -0.11)\">\n",
       "       <use xlink:href=\"#ArialMT-50\"/>\n",
       "       <use x=\"55.615234\" xlink:href=\"#ArialMT-46\"/>\n",
       "       <use x=\"83.398438\" xlink:href=\"#ArialMT-53\"/>\n",
       "      </g>\n",
       "     </g>\n",
       "    </g>\n",
       "    <g id=\"ytick_7\">\n",
       "     <g id=\"line2d_13\">\n",
       "      <path clip-path=\"url(#pab416cb66e)\" d=\"M 47.16 32.849794 \n",
       "L 270.36 32.849794 \n",
       "\" style=\"fill:none;stroke:#ffffff;stroke-linecap:round;\"/>\n",
       "     </g>\n",
       "     <g id=\"text_14\">\n",
       "      <!-- 3.0 -->\n",
       "      <g style=\"fill:#262626;\" transform=\"translate(22.37 36.786591)scale(0.11 -0.11)\">\n",
       "       <defs>\n",
       "        <path d=\"M 4.203125 18.890625 \n",
       "L 12.984375 20.0625 \n",
       "Q 14.5 12.59375 18.140625 9.296875 \n",
       "Q 21.78125 6 27 6 \n",
       "Q 33.203125 6 37.46875 10.296875 \n",
       "Q 41.75 14.59375 41.75 20.953125 \n",
       "Q 41.75 27 37.796875 30.921875 \n",
       "Q 33.84375 34.859375 27.734375 34.859375 \n",
       "Q 25.25 34.859375 21.53125 33.890625 \n",
       "L 22.515625 41.609375 \n",
       "Q 23.390625 41.5 23.921875 41.5 \n",
       "Q 29.546875 41.5 34.03125 44.421875 \n",
       "Q 38.53125 47.359375 38.53125 53.46875 \n",
       "Q 38.53125 58.296875 35.25 61.46875 \n",
       "Q 31.984375 64.65625 26.8125 64.65625 \n",
       "Q 21.6875 64.65625 18.265625 61.421875 \n",
       "Q 14.84375 58.203125 13.875 51.765625 \n",
       "L 5.078125 53.328125 \n",
       "Q 6.6875 62.15625 12.390625 67.015625 \n",
       "Q 18.109375 71.875 26.609375 71.875 \n",
       "Q 32.46875 71.875 37.390625 69.359375 \n",
       "Q 42.328125 66.84375 44.9375 62.5 \n",
       "Q 47.5625 58.15625 47.5625 53.265625 \n",
       "Q 47.5625 48.640625 45.0625 44.828125 \n",
       "Q 42.578125 41.015625 37.703125 38.765625 \n",
       "Q 44.046875 37.3125 47.5625 32.6875 \n",
       "Q 51.078125 28.078125 51.078125 21.140625 \n",
       "Q 51.078125 11.765625 44.234375 5.25 \n",
       "Q 37.40625 -1.265625 26.953125 -1.265625 \n",
       "Q 17.53125 -1.265625 11.296875 4.34375 \n",
       "Q 5.078125 9.96875 4.203125 18.890625 \n",
       "z\n",
       "\" id=\"ArialMT-51\"/>\n",
       "       </defs>\n",
       "       <use xlink:href=\"#ArialMT-51\"/>\n",
       "       <use x=\"55.615234\" xlink:href=\"#ArialMT-46\"/>\n",
       "       <use x=\"83.398438\" xlink:href=\"#ArialMT-48\"/>\n",
       "      </g>\n",
       "     </g>\n",
       "    </g>\n",
       "    <g id=\"text_15\">\n",
       "     <!-- Proportion per Unit -->\n",
       "     <g style=\"fill:#262626;\" transform=\"translate(15.985 157.575)rotate(-90)scale(0.12 -0.12)\">\n",
       "      <defs>\n",
       "       <path d=\"M 7.71875 0 \n",
       "L 7.71875 71.578125 \n",
       "L 34.71875 71.578125 \n",
       "Q 41.84375 71.578125 45.609375 70.90625 \n",
       "Q 50.875 70.015625 54.4375 67.546875 \n",
       "Q 58.015625 65.09375 60.1875 60.640625 \n",
       "Q 62.359375 56.203125 62.359375 50.875 \n",
       "Q 62.359375 41.75 56.546875 35.421875 \n",
       "Q 50.734375 29.109375 35.546875 29.109375 \n",
       "L 17.1875 29.109375 \n",
       "L 17.1875 0 \n",
       "z\n",
       "M 17.1875 37.546875 \n",
       "L 35.6875 37.546875 \n",
       "Q 44.875 37.546875 48.734375 40.96875 \n",
       "Q 52.59375 44.390625 52.59375 50.59375 \n",
       "Q 52.59375 55.078125 50.3125 58.265625 \n",
       "Q 48.046875 61.46875 44.34375 62.5 \n",
       "Q 41.9375 63.140625 35.5 63.140625 \n",
       "L 17.1875 63.140625 \n",
       "z\n",
       "\" id=\"ArialMT-80\"/>\n",
       "       <path d=\"M 6.5 0 \n",
       "L 6.5 51.859375 \n",
       "L 14.40625 51.859375 \n",
       "L 14.40625 44 \n",
       "Q 17.4375 49.515625 20 51.265625 \n",
       "Q 22.5625 53.03125 25.640625 53.03125 \n",
       "Q 30.078125 53.03125 34.671875 50.203125 \n",
       "L 31.640625 42.046875 \n",
       "Q 28.421875 43.953125 25.203125 43.953125 \n",
       "Q 22.3125 43.953125 20.015625 42.21875 \n",
       "Q 17.71875 40.484375 16.75 37.40625 \n",
       "Q 15.28125 32.71875 15.28125 27.15625 \n",
       "L 15.28125 0 \n",
       "z\n",
       "\" id=\"ArialMT-114\"/>\n",
       "       <path d=\"M 3.328125 25.921875 \n",
       "Q 3.328125 40.328125 11.328125 47.265625 \n",
       "Q 18.015625 53.03125 27.640625 53.03125 \n",
       "Q 38.328125 53.03125 45.109375 46.015625 \n",
       "Q 51.90625 39.015625 51.90625 26.65625 \n",
       "Q 51.90625 16.65625 48.90625 10.90625 \n",
       "Q 45.90625 5.171875 40.15625 2 \n",
       "Q 34.421875 -1.171875 27.640625 -1.171875 \n",
       "Q 16.75 -1.171875 10.03125 5.8125 \n",
       "Q 3.328125 12.796875 3.328125 25.921875 \n",
       "z\n",
       "M 12.359375 25.921875 \n",
       "Q 12.359375 15.96875 16.703125 11.015625 \n",
       "Q 21.046875 6.0625 27.640625 6.0625 \n",
       "Q 34.1875 6.0625 38.53125 11.03125 \n",
       "Q 42.875 16.015625 42.875 26.21875 \n",
       "Q 42.875 35.84375 38.5 40.796875 \n",
       "Q 34.125 45.75 27.640625 45.75 \n",
       "Q 21.046875 45.75 16.703125 40.8125 \n",
       "Q 12.359375 35.890625 12.359375 25.921875 \n",
       "z\n",
       "\" id=\"ArialMT-111\"/>\n",
       "       <path d=\"M 6.59375 -19.875 \n",
       "L 6.59375 51.859375 \n",
       "L 14.59375 51.859375 \n",
       "L 14.59375 45.125 \n",
       "Q 17.4375 49.078125 21 51.046875 \n",
       "Q 24.5625 53.03125 29.640625 53.03125 \n",
       "Q 36.28125 53.03125 41.359375 49.609375 \n",
       "Q 46.4375 46.1875 49.015625 39.953125 \n",
       "Q 51.609375 33.734375 51.609375 26.3125 \n",
       "Q 51.609375 18.359375 48.75 11.984375 \n",
       "Q 45.90625 5.609375 40.453125 2.21875 \n",
       "Q 35.015625 -1.171875 29 -1.171875 \n",
       "Q 24.609375 -1.171875 21.109375 0.6875 \n",
       "Q 17.625 2.546875 15.375 5.375 \n",
       "L 15.375 -19.875 \n",
       "z\n",
       "M 14.546875 25.640625 \n",
       "Q 14.546875 15.625 18.59375 10.84375 \n",
       "Q 22.65625 6.0625 28.421875 6.0625 \n",
       "Q 34.28125 6.0625 38.453125 11.015625 \n",
       "Q 42.625 15.96875 42.625 26.375 \n",
       "Q 42.625 36.28125 38.546875 41.203125 \n",
       "Q 34.46875 46.140625 28.8125 46.140625 \n",
       "Q 23.1875 46.140625 18.859375 40.890625 \n",
       "Q 14.546875 35.640625 14.546875 25.640625 \n",
       "z\n",
       "\" id=\"ArialMT-112\"/>\n",
       "       <path d=\"M 25.78125 7.859375 \n",
       "L 27.046875 0.09375 \n",
       "Q 23.34375 -0.6875 20.40625 -0.6875 \n",
       "Q 15.625 -0.6875 12.984375 0.828125 \n",
       "Q 10.359375 2.34375 9.28125 4.8125 \n",
       "Q 8.203125 7.28125 8.203125 15.1875 \n",
       "L 8.203125 45.015625 \n",
       "L 1.765625 45.015625 \n",
       "L 1.765625 51.859375 \n",
       "L 8.203125 51.859375 \n",
       "L 8.203125 64.703125 \n",
       "L 16.9375 69.96875 \n",
       "L 16.9375 51.859375 \n",
       "L 25.78125 51.859375 \n",
       "L 25.78125 45.015625 \n",
       "L 16.9375 45.015625 \n",
       "L 16.9375 14.703125 \n",
       "Q 16.9375 10.9375 17.40625 9.859375 \n",
       "Q 17.875 8.796875 18.921875 8.15625 \n",
       "Q 19.96875 7.515625 21.921875 7.515625 \n",
       "Q 23.390625 7.515625 25.78125 7.859375 \n",
       "z\n",
       "\" id=\"ArialMT-116\"/>\n",
       "       <path d=\"M 6.640625 61.46875 \n",
       "L 6.640625 71.578125 \n",
       "L 15.4375 71.578125 \n",
       "L 15.4375 61.46875 \n",
       "z\n",
       "M 6.640625 0 \n",
       "L 6.640625 51.859375 \n",
       "L 15.4375 51.859375 \n",
       "L 15.4375 0 \n",
       "z\n",
       "\" id=\"ArialMT-105\"/>\n",
       "       <path d=\"M 6.59375 0 \n",
       "L 6.59375 51.859375 \n",
       "L 14.5 51.859375 \n",
       "L 14.5 44.484375 \n",
       "Q 20.21875 53.03125 31 53.03125 \n",
       "Q 35.6875 53.03125 39.625 51.34375 \n",
       "Q 43.5625 49.65625 45.515625 46.921875 \n",
       "Q 47.46875 44.1875 48.25 40.4375 \n",
       "Q 48.734375 37.984375 48.734375 31.890625 \n",
       "L 48.734375 0 \n",
       "L 39.9375 0 \n",
       "L 39.9375 31.546875 \n",
       "Q 39.9375 36.921875 38.90625 39.578125 \n",
       "Q 37.890625 42.234375 35.28125 43.8125 \n",
       "Q 32.671875 45.40625 29.15625 45.40625 \n",
       "Q 23.53125 45.40625 19.453125 41.84375 \n",
       "Q 15.375 38.28125 15.375 28.328125 \n",
       "L 15.375 0 \n",
       "z\n",
       "\" id=\"ArialMT-110\"/>\n",
       "       <path d=\"M 54.6875 71.578125 \n",
       "L 64.15625 71.578125 \n",
       "L 64.15625 30.21875 \n",
       "Q 64.15625 19.4375 61.71875 13.078125 \n",
       "Q 59.28125 6.734375 52.90625 2.75 \n",
       "Q 46.53125 -1.21875 36.1875 -1.21875 \n",
       "Q 26.125 -1.21875 19.71875 2.25 \n",
       "Q 13.328125 5.71875 10.59375 12.28125 \n",
       "Q 7.859375 18.84375 7.859375 30.21875 \n",
       "L 7.859375 71.578125 \n",
       "L 17.328125 71.578125 \n",
       "L 17.328125 30.28125 \n",
       "Q 17.328125 20.953125 19.0625 16.53125 \n",
       "Q 20.796875 12.109375 25.015625 9.71875 \n",
       "Q 29.25 7.328125 35.359375 7.328125 \n",
       "Q 45.796875 7.328125 50.234375 12.0625 \n",
       "Q 54.6875 16.796875 54.6875 30.28125 \n",
       "z\n",
       "\" id=\"ArialMT-85\"/>\n",
       "      </defs>\n",
       "      <use xlink:href=\"#ArialMT-80\"/>\n",
       "      <use x=\"66.699219\" xlink:href=\"#ArialMT-114\"/>\n",
       "      <use x=\"100\" xlink:href=\"#ArialMT-111\"/>\n",
       "      <use x=\"155.615234\" xlink:href=\"#ArialMT-112\"/>\n",
       "      <use x=\"211.230469\" xlink:href=\"#ArialMT-111\"/>\n",
       "      <use x=\"266.845703\" xlink:href=\"#ArialMT-114\"/>\n",
       "      <use x=\"300.146484\" xlink:href=\"#ArialMT-116\"/>\n",
       "      <use x=\"327.929688\" xlink:href=\"#ArialMT-105\"/>\n",
       "      <use x=\"350.146484\" xlink:href=\"#ArialMT-111\"/>\n",
       "      <use x=\"405.761719\" xlink:href=\"#ArialMT-110\"/>\n",
       "      <use x=\"461.376953\" xlink:href=\"#ArialMT-32\"/>\n",
       "      <use x=\"489.160156\" xlink:href=\"#ArialMT-112\"/>\n",
       "      <use x=\"544.775391\" xlink:href=\"#ArialMT-101\"/>\n",
       "      <use x=\"600.390625\" xlink:href=\"#ArialMT-114\"/>\n",
       "      <use x=\"633.691406\" xlink:href=\"#ArialMT-32\"/>\n",
       "      <use x=\"661.474609\" xlink:href=\"#ArialMT-85\"/>\n",
       "      <use x=\"733.691406\" xlink:href=\"#ArialMT-110\"/>\n",
       "      <use x=\"789.306641\" xlink:href=\"#ArialMT-105\"/>\n",
       "      <use x=\"811.523438\" xlink:href=\"#ArialMT-116\"/>\n",
       "     </g>\n",
       "    </g>\n",
       "   </g>\n",
       "   <g id=\"patch_3\">\n",
       "    <path clip-path=\"url(#pab416cb66e)\" d=\"M 57.305455 188.76 \n",
       "L 64.069091 188.76 \n",
       "L 64.069091 188.491986 \n",
       "L 57.305455 188.491986 \n",
       "z\n",
       "\" style=\"fill:#4c72b0;stroke:#ffffff;stroke-linejoin:miter;\"/>\n",
       "   </g>\n",
       "   <g id=\"patch_4\">\n",
       "    <path clip-path=\"url(#pab416cb66e)\" d=\"M 64.069091 188.76 \n",
       "L 70.832727 188.76 \n",
       "L 70.832727 188.491986 \n",
       "L 64.069091 188.491986 \n",
       "z\n",
       "\" style=\"fill:#4c72b0;stroke:#ffffff;stroke-linejoin:miter;\"/>\n",
       "   </g>\n",
       "   <g id=\"patch_5\">\n",
       "    <path clip-path=\"url(#pab416cb66e)\" d=\"M 70.832727 188.76 \n",
       "L 77.596364 188.76 \n",
       "L 77.596364 188.491986 \n",
       "L 70.832727 188.491986 \n",
       "z\n",
       "\" style=\"fill:#4c72b0;stroke:#ffffff;stroke-linejoin:miter;\"/>\n",
       "   </g>\n",
       "   <g id=\"patch_6\">\n",
       "    <path clip-path=\"url(#pab416cb66e)\" d=\"M 77.596364 188.76 \n",
       "L 84.36 188.76 \n",
       "L 84.36 188.357979 \n",
       "L 77.596364 188.357979 \n",
       "z\n",
       "\" style=\"fill:#4c72b0;stroke:#ffffff;stroke-linejoin:miter;\"/>\n",
       "   </g>\n",
       "   <g id=\"patch_7\">\n",
       "    <path clip-path=\"url(#pab416cb66e)\" d=\"M 84.36 188.76 \n",
       "L 91.123636 188.76 \n",
       "L 91.123636 188.223971 \n",
       "L 84.36 188.223971 \n",
       "z\n",
       "\" style=\"fill:#4c72b0;stroke:#ffffff;stroke-linejoin:miter;\"/>\n",
       "   </g>\n",
       "   <g id=\"patch_8\">\n",
       "    <path clip-path=\"url(#pab416cb66e)\" d=\"M 91.123636 188.76 \n",
       "L 97.887273 188.76 \n",
       "L 97.887273 187.553936 \n",
       "L 91.123636 187.553936 \n",
       "z\n",
       "\" style=\"fill:#4c72b0;stroke:#ffffff;stroke-linejoin:miter;\"/>\n",
       "   </g>\n",
       "   <g id=\"patch_9\">\n",
       "    <path clip-path=\"url(#pab416cb66e)\" d=\"M 97.887273 188.76 \n",
       "L 104.650909 188.76 \n",
       "L 104.650909 187.82195 \n",
       "L 97.887273 187.82195 \n",
       "z\n",
       "\" style=\"fill:#4c72b0;stroke:#ffffff;stroke-linejoin:miter;\"/>\n",
       "   </g>\n",
       "   <g id=\"patch_10\">\n",
       "    <path clip-path=\"url(#pab416cb66e)\" d=\"M 104.650909 188.76 \n",
       "L 111.414545 188.76 \n",
       "L 111.414545 187.419929 \n",
       "L 104.650909 187.419929 \n",
       "z\n",
       "\" style=\"fill:#4c72b0;stroke:#ffffff;stroke-linejoin:miter;\"/>\n",
       "   </g>\n",
       "   <g id=\"patch_11\">\n",
       "    <path clip-path=\"url(#pab416cb66e)\" d=\"M 111.414545 188.76 \n",
       "L 118.178182 188.76 \n",
       "L 118.178182 184.203757 \n",
       "L 111.414545 184.203757 \n",
       "z\n",
       "\" style=\"fill:#4c72b0;stroke:#ffffff;stroke-linejoin:miter;\"/>\n",
       "   </g>\n",
       "   <g id=\"patch_12\">\n",
       "    <path clip-path=\"url(#pab416cb66e)\" d=\"M 118.178182 188.76 \n",
       "L 124.941818 188.76 \n",
       "L 124.941818 183.265707 \n",
       "L 118.178182 183.265707 \n",
       "z\n",
       "\" style=\"fill:#4c72b0;stroke:#ffffff;stroke-linejoin:miter;\"/>\n",
       "   </g>\n",
       "   <g id=\"patch_13\">\n",
       "    <path clip-path=\"url(#pab416cb66e)\" d=\"M 124.941818 188.76 \n",
       "L 131.705455 188.76 \n",
       "L 131.705455 178.977478 \n",
       "L 124.941818 178.977478 \n",
       "z\n",
       "\" style=\"fill:#4c72b0;stroke:#ffffff;stroke-linejoin:miter;\"/>\n",
       "   </g>\n",
       "   <g id=\"patch_14\">\n",
       "    <path clip-path=\"url(#pab416cb66e)\" d=\"M 131.705455 188.76 \n",
       "L 138.469091 188.76 \n",
       "L 138.469091 175.493292 \n",
       "L 131.705455 175.493292 \n",
       "z\n",
       "\" style=\"fill:#4c72b0;stroke:#ffffff;stroke-linejoin:miter;\"/>\n",
       "   </g>\n",
       "   <g id=\"patch_15\">\n",
       "    <path clip-path=\"url(#pab416cb66e)\" d=\"M 138.469091 188.76 \n",
       "L 145.232727 188.76 \n",
       "L 145.232727 165.71077 \n",
       "L 138.469091 165.71077 \n",
       "z\n",
       "\" style=\"fill:#4c72b0;stroke:#ffffff;stroke-linejoin:miter;\"/>\n",
       "   </g>\n",
       "   <g id=\"patch_16\">\n",
       "    <path clip-path=\"url(#pab416cb66e)\" d=\"M 145.232727 188.76 \n",
       "L 151.996364 188.76 \n",
       "L 151.996364 155.39222 \n",
       "L 145.232727 155.39222 \n",
       "z\n",
       "\" style=\"fill:#4c72b0;stroke:#ffffff;stroke-linejoin:miter;\"/>\n",
       "   </g>\n",
       "   <g id=\"patch_17\">\n",
       "    <path clip-path=\"url(#pab416cb66e)\" d=\"M 151.996364 188.76 \n",
       "L 158.76 188.76 \n",
       "L 158.76 134.755119 \n",
       "L 151.996364 134.755119 \n",
       "z\n",
       "\" style=\"fill:#4c72b0;stroke:#ffffff;stroke-linejoin:miter;\"/>\n",
       "   </g>\n",
       "   <g id=\"patch_18\">\n",
       "    <path clip-path=\"url(#pab416cb66e)\" d=\"M 158.76 188.76 \n",
       "L 165.523636 188.76 \n",
       "L 165.523636 113.850004 \n",
       "L 158.76 113.850004 \n",
       "z\n",
       "\" style=\"fill:#4c72b0;stroke:#ffffff;stroke-linejoin:miter;\"/>\n",
       "   </g>\n",
       "   <g id=\"patch_19\">\n",
       "    <path clip-path=\"url(#pab416cb66e)\" d=\"M 165.523636 188.76 \n",
       "L 172.287273 188.76 \n",
       "L 172.287273 83.966409 \n",
       "L 165.523636 83.966409 \n",
       "z\n",
       "\" style=\"fill:#4c72b0;stroke:#ffffff;stroke-linejoin:miter;\"/>\n",
       "   </g>\n",
       "   <g id=\"patch_20\">\n",
       "    <path clip-path=\"url(#pab416cb66e)\" d=\"M 172.287273 188.76 \n",
       "L 179.050909 188.76 \n",
       "L 179.050909 65.205409 \n",
       "L 172.287273 65.205409 \n",
       "z\n",
       "\" style=\"fill:#4c72b0;stroke:#ffffff;stroke-linejoin:miter;\"/>\n",
       "   </g>\n",
       "   <g id=\"patch_21\">\n",
       "    <path clip-path=\"url(#pab416cb66e)\" d=\"M 179.050909 188.76 \n",
       "L 185.814545 188.76 \n",
       "L 185.814545 47.650472 \n",
       "L 179.050909 47.650472 \n",
       "z\n",
       "\" style=\"fill:#4c72b0;stroke:#ffffff;stroke-linejoin:miter;\"/>\n",
       "   </g>\n",
       "   <g id=\"patch_22\">\n",
       "    <path clip-path=\"url(#pab416cb66e)\" d=\"M 185.814545 188.76 \n",
       "L 192.578182 188.76 \n",
       "L 192.578182 33.445714 \n",
       "L 185.814545 33.445714 \n",
       "z\n",
       "\" style=\"fill:#4c72b0;stroke:#ffffff;stroke-linejoin:miter;\"/>\n",
       "   </g>\n",
       "   <g id=\"patch_23\">\n",
       "    <path clip-path=\"url(#pab416cb66e)\" d=\"M 192.578182 188.76 \n",
       "L 199.341818 188.76 \n",
       "L 199.341818 36.125857 \n",
       "L 192.578182 36.125857 \n",
       "z\n",
       "\" style=\"fill:#4c72b0;stroke:#ffffff;stroke-linejoin:miter;\"/>\n",
       "   </g>\n",
       "   <g id=\"patch_24\">\n",
       "    <path clip-path=\"url(#pab416cb66e)\" d=\"M 199.341818 188.76 \n",
       "L 206.105455 188.76 \n",
       "L 206.105455 54.752851 \n",
       "L 199.341818 54.752851 \n",
       "z\n",
       "\" style=\"fill:#4c72b0;stroke:#ffffff;stroke-linejoin:miter;\"/>\n",
       "   </g>\n",
       "   <g id=\"patch_25\">\n",
       "    <path clip-path=\"url(#pab416cb66e)\" d=\"M 206.105455 188.76 \n",
       "L 212.869091 188.76 \n",
       "L 212.869091 73.781866 \n",
       "L 206.105455 73.781866 \n",
       "z\n",
       "\" style=\"fill:#4c72b0;stroke:#ffffff;stroke-linejoin:miter;\"/>\n",
       "   </g>\n",
       "   <g id=\"patch_26\">\n",
       "    <path clip-path=\"url(#pab416cb66e)\" d=\"M 212.869091 188.76 \n",
       "L 219.632727 188.76 \n",
       "L 219.632727 109.159753 \n",
       "L 212.869091 109.159753 \n",
       "z\n",
       "\" style=\"fill:#4c72b0;stroke:#ffffff;stroke-linejoin:miter;\"/>\n",
       "   </g>\n",
       "   <g id=\"patch_27\">\n",
       "    <path clip-path=\"url(#pab416cb66e)\" d=\"M 219.632727 188.76 \n",
       "L 226.396364 188.76 \n",
       "L 226.396364 136.765226 \n",
       "L 219.632727 136.765226 \n",
       "z\n",
       "\" style=\"fill:#4c72b0;stroke:#ffffff;stroke-linejoin:miter;\"/>\n",
       "   </g>\n",
       "   <g id=\"patch_28\">\n",
       "    <path clip-path=\"url(#pab416cb66e)\" d=\"M 226.396364 188.76 \n",
       "L 233.16 188.76 \n",
       "L 233.16 157.000306 \n",
       "L 226.396364 157.000306 \n",
       "z\n",
       "\" style=\"fill:#4c72b0;stroke:#ffffff;stroke-linejoin:miter;\"/>\n",
       "   </g>\n",
       "   <g id=\"patch_29\">\n",
       "    <path clip-path=\"url(#pab416cb66e)\" d=\"M 233.16 188.76 \n",
       "L 239.923636 188.76 \n",
       "L 239.923636 173.617192 \n",
       "L 233.16 173.617192 \n",
       "z\n",
       "\" style=\"fill:#4c72b0;stroke:#ffffff;stroke-linejoin:miter;\"/>\n",
       "   </g>\n",
       "   <g id=\"patch_30\">\n",
       "    <path clip-path=\"url(#pab416cb66e)\" d=\"M 239.923636 188.76 \n",
       "L 246.687273 188.76 \n",
       "L 246.687273 181.389607 \n",
       "L 239.923636 181.389607 \n",
       "z\n",
       "\" style=\"fill:#4c72b0;stroke:#ffffff;stroke-linejoin:miter;\"/>\n",
       "   </g>\n",
       "   <g id=\"patch_31\">\n",
       "    <path clip-path=\"url(#pab416cb66e)\" d=\"M 246.687273 188.76 \n",
       "L 253.450909 188.76 \n",
       "L 253.450909 186.079857 \n",
       "L 246.687273 186.079857 \n",
       "z\n",
       "\" style=\"fill:#4c72b0;stroke:#ffffff;stroke-linejoin:miter;\"/>\n",
       "   </g>\n",
       "   <g id=\"patch_32\">\n",
       "    <path clip-path=\"url(#pab416cb66e)\" d=\"M 253.450909 188.76 \n",
       "L 260.214545 188.76 \n",
       "L 260.214545 187.285921 \n",
       "L 253.450909 187.285921 \n",
       "z\n",
       "\" style=\"fill:#4c72b0;stroke:#ffffff;stroke-linejoin:miter;\"/>\n",
       "   </g>\n",
       "   <g id=\"patch_33\">\n",
       "    <path d=\"M 47.16 188.76 \n",
       "L 47.16 25.68 \n",
       "\" style=\"fill:none;stroke:#ffffff;stroke-linecap:square;stroke-linejoin:miter;stroke-width:1.25;\"/>\n",
       "   </g>\n",
       "   <g id=\"patch_34\">\n",
       "    <path d=\"M 270.36 188.76 \n",
       "L 270.36 25.68 \n",
       "\" style=\"fill:none;stroke:#ffffff;stroke-linecap:square;stroke-linejoin:miter;stroke-width:1.25;\"/>\n",
       "   </g>\n",
       "   <g id=\"patch_35\">\n",
       "    <path d=\"M 47.16 188.76 \n",
       "L 270.36 188.76 \n",
       "\" style=\"fill:none;stroke:#ffffff;stroke-linecap:square;stroke-linejoin:miter;stroke-width:1.25;\"/>\n",
       "   </g>\n",
       "   <g id=\"patch_36\">\n",
       "    <path d=\"M 47.16 25.68 \n",
       "L 270.36 25.68 \n",
       "\" style=\"fill:none;stroke:#ffffff;stroke-linecap:square;stroke-linejoin:miter;stroke-width:1.25;\"/>\n",
       "   </g>\n",
       "   <g id=\"text_16\">\n",
       "    <!-- Bootstrap Sampling Distribution of $\\tilde{\\theta}_{educ}$ (Nonparametric) -->\n",
       "    <g style=\"fill:#262626;\" transform=\"translate(7.2 19.68)scale(0.12 -0.12)\">\n",
       "     <defs>\n",
       "      <path d=\"M 7.328125 0 \n",
       "L 7.328125 71.578125 \n",
       "L 34.1875 71.578125 \n",
       "Q 42.390625 71.578125 47.34375 69.40625 \n",
       "Q 52.296875 67.234375 55.09375 62.71875 \n",
       "Q 57.90625 58.203125 57.90625 53.265625 \n",
       "Q 57.90625 48.6875 55.421875 44.625 \n",
       "Q 52.9375 40.578125 47.90625 38.09375 \n",
       "Q 54.390625 36.1875 57.875 31.59375 \n",
       "Q 61.375 27 61.375 20.75 \n",
       "Q 61.375 15.71875 59.25 11.390625 \n",
       "Q 57.125 7.078125 54 4.734375 \n",
       "Q 50.875 2.390625 46.15625 1.1875 \n",
       "Q 41.453125 0 34.625 0 \n",
       "z\n",
       "M 16.796875 41.5 \n",
       "L 32.28125 41.5 \n",
       "Q 38.578125 41.5 41.3125 42.328125 \n",
       "Q 44.921875 43.40625 46.75 45.890625 \n",
       "Q 48.578125 48.390625 48.578125 52.15625 \n",
       "Q 48.578125 55.71875 46.875 58.421875 \n",
       "Q 45.171875 61.140625 41.984375 62.140625 \n",
       "Q 38.8125 63.140625 31.109375 63.140625 \n",
       "L 16.796875 63.140625 \n",
       "z\n",
       "M 16.796875 8.453125 \n",
       "L 34.625 8.453125 \n",
       "Q 39.203125 8.453125 41.0625 8.796875 \n",
       "Q 44.34375 9.375 46.53125 10.734375 \n",
       "Q 48.734375 12.109375 50.140625 14.71875 \n",
       "Q 51.5625 17.328125 51.5625 20.75 \n",
       "Q 51.5625 24.75 49.515625 27.703125 \n",
       "Q 47.46875 30.671875 43.828125 31.859375 \n",
       "Q 40.1875 33.0625 33.34375 33.0625 \n",
       "L 16.796875 33.0625 \n",
       "z\n",
       "\" id=\"ArialMT-66\"/>\n",
       "      <path d=\"M 4.5 23 \n",
       "L 13.421875 23.78125 \n",
       "Q 14.0625 18.40625 16.375 14.96875 \n",
       "Q 18.703125 11.53125 23.578125 9.40625 \n",
       "Q 28.46875 7.28125 34.578125 7.28125 \n",
       "Q 39.984375 7.28125 44.140625 8.890625 \n",
       "Q 48.296875 10.5 50.3125 13.296875 \n",
       "Q 52.34375 16.109375 52.34375 19.4375 \n",
       "Q 52.34375 22.796875 50.390625 25.3125 \n",
       "Q 48.4375 27.828125 43.953125 29.546875 \n",
       "Q 41.0625 30.671875 31.203125 33.03125 \n",
       "Q 21.34375 35.40625 17.390625 37.5 \n",
       "Q 12.25 40.1875 9.734375 44.15625 \n",
       "Q 7.234375 48.140625 7.234375 53.078125 \n",
       "Q 7.234375 58.5 10.296875 63.203125 \n",
       "Q 13.375 67.921875 19.28125 70.359375 \n",
       "Q 25.203125 72.796875 32.421875 72.796875 \n",
       "Q 40.375 72.796875 46.453125 70.234375 \n",
       "Q 52.546875 67.671875 55.8125 62.6875 \n",
       "Q 59.078125 57.71875 59.328125 51.421875 \n",
       "L 50.25 50.734375 \n",
       "Q 49.515625 57.515625 45.28125 60.984375 \n",
       "Q 41.0625 64.453125 32.8125 64.453125 \n",
       "Q 24.21875 64.453125 20.28125 61.296875 \n",
       "Q 16.359375 58.15625 16.359375 53.71875 \n",
       "Q 16.359375 49.859375 19.140625 47.359375 \n",
       "Q 21.875 44.875 33.421875 42.265625 \n",
       "Q 44.96875 39.65625 49.265625 37.703125 \n",
       "Q 55.515625 34.8125 58.484375 30.390625 \n",
       "Q 61.46875 25.984375 61.46875 20.21875 \n",
       "Q 61.46875 14.5 58.203125 9.4375 \n",
       "Q 54.9375 4.390625 48.796875 1.578125 \n",
       "Q 42.671875 -1.21875 35.015625 -1.21875 \n",
       "Q 25.296875 -1.21875 18.71875 1.609375 \n",
       "Q 12.15625 4.4375 8.421875 10.125 \n",
       "Q 4.6875 15.828125 4.5 23 \n",
       "z\n",
       "\" id=\"ArialMT-83\"/>\n",
       "      <path d=\"M 6.59375 0 \n",
       "L 6.59375 51.859375 \n",
       "L 14.453125 51.859375 \n",
       "L 14.453125 44.578125 \n",
       "Q 16.890625 48.390625 20.9375 50.703125 \n",
       "Q 25 53.03125 30.171875 53.03125 \n",
       "Q 35.9375 53.03125 39.625 50.640625 \n",
       "Q 43.3125 48.25 44.828125 43.953125 \n",
       "Q 50.984375 53.03125 60.84375 53.03125 \n",
       "Q 68.5625 53.03125 72.703125 48.75 \n",
       "Q 76.859375 44.484375 76.859375 35.59375 \n",
       "L 76.859375 0 \n",
       "L 68.109375 0 \n",
       "L 68.109375 32.671875 \n",
       "Q 68.109375 37.9375 67.25 40.25 \n",
       "Q 66.40625 42.578125 64.15625 43.984375 \n",
       "Q 61.921875 45.40625 58.890625 45.40625 \n",
       "Q 53.421875 45.40625 49.796875 41.765625 \n",
       "Q 46.1875 38.140625 46.1875 30.125 \n",
       "L 46.1875 0 \n",
       "L 37.40625 0 \n",
       "L 37.40625 33.6875 \n",
       "Q 37.40625 39.546875 35.25 42.46875 \n",
       "Q 33.109375 45.40625 28.21875 45.40625 \n",
       "Q 24.515625 45.40625 21.359375 43.453125 \n",
       "Q 18.21875 41.5 16.796875 37.734375 \n",
       "Q 15.375 33.984375 15.375 26.90625 \n",
       "L 15.375 0 \n",
       "z\n",
       "\" id=\"ArialMT-109\"/>\n",
       "      <path d=\"M 4.984375 -4.296875 \n",
       "L 13.53125 -5.5625 \n",
       "Q 14.0625 -9.515625 16.5 -11.328125 \n",
       "Q 19.78125 -13.765625 25.4375 -13.765625 \n",
       "Q 31.546875 -13.765625 34.859375 -11.328125 \n",
       "Q 38.1875 -8.890625 39.359375 -4.5 \n",
       "Q 40.046875 -1.8125 39.984375 6.78125 \n",
       "Q 34.234375 0 25.640625 0 \n",
       "Q 14.9375 0 9.078125 7.71875 \n",
       "Q 3.21875 15.4375 3.21875 26.21875 \n",
       "Q 3.21875 33.640625 5.90625 39.90625 \n",
       "Q 8.59375 46.1875 13.6875 49.609375 \n",
       "Q 18.796875 53.03125 25.6875 53.03125 \n",
       "Q 34.859375 53.03125 40.828125 45.609375 \n",
       "L 40.828125 51.859375 \n",
       "L 48.921875 51.859375 \n",
       "L 48.921875 7.03125 \n",
       "Q 48.921875 -5.078125 46.453125 -10.125 \n",
       "Q 44 -15.1875 38.640625 -18.109375 \n",
       "Q 33.296875 -21.046875 25.484375 -21.046875 \n",
       "Q 16.21875 -21.046875 10.5 -16.875 \n",
       "Q 4.78125 -12.703125 4.984375 -4.296875 \n",
       "z\n",
       "M 12.25 26.859375 \n",
       "Q 12.25 16.65625 16.296875 11.96875 \n",
       "Q 20.359375 7.28125 26.46875 7.28125 \n",
       "Q 32.515625 7.28125 36.609375 11.9375 \n",
       "Q 40.71875 16.609375 40.71875 26.5625 \n",
       "Q 40.71875 36.078125 36.5 40.90625 \n",
       "Q 32.28125 45.75 26.3125 45.75 \n",
       "Q 20.453125 45.75 16.34375 40.984375 \n",
       "Q 12.25 36.234375 12.25 26.859375 \n",
       "z\n",
       "\" id=\"ArialMT-103\"/>\n",
       "      <path d=\"M 7.71875 0 \n",
       "L 7.71875 71.578125 \n",
       "L 32.375 71.578125 \n",
       "Q 40.71875 71.578125 45.125 70.5625 \n",
       "Q 51.265625 69.140625 55.609375 65.4375 \n",
       "Q 61.28125 60.640625 64.078125 53.1875 \n",
       "Q 66.890625 45.75 66.890625 36.1875 \n",
       "Q 66.890625 28.03125 64.984375 21.734375 \n",
       "Q 63.09375 15.4375 60.109375 11.296875 \n",
       "Q 57.125 7.171875 53.578125 4.796875 \n",
       "Q 50.046875 2.4375 45.046875 1.21875 \n",
       "Q 40.046875 0 33.546875 0 \n",
       "z\n",
       "M 17.1875 8.453125 \n",
       "L 32.46875 8.453125 \n",
       "Q 39.546875 8.453125 43.578125 9.765625 \n",
       "Q 47.609375 11.078125 50 13.484375 \n",
       "Q 53.375 16.84375 55.25 22.53125 \n",
       "Q 57.125 28.21875 57.125 36.328125 \n",
       "Q 57.125 47.5625 53.4375 53.59375 \n",
       "Q 49.75 59.625 44.484375 61.671875 \n",
       "Q 40.671875 63.140625 32.234375 63.140625 \n",
       "L 17.1875 63.140625 \n",
       "z\n",
       "\" id=\"ArialMT-68\"/>\n",
       "      <path d=\"M 14.703125 0 \n",
       "L 6.546875 0 \n",
       "L 6.546875 71.578125 \n",
       "L 15.328125 71.578125 \n",
       "L 15.328125 46.046875 \n",
       "Q 20.90625 53.03125 29.546875 53.03125 \n",
       "Q 34.328125 53.03125 38.59375 51.09375 \n",
       "Q 42.875 49.171875 45.625 45.671875 \n",
       "Q 48.390625 42.1875 49.953125 37.25 \n",
       "Q 51.515625 32.328125 51.515625 26.703125 \n",
       "Q 51.515625 13.375 44.921875 6.09375 \n",
       "Q 38.328125 -1.171875 29.109375 -1.171875 \n",
       "Q 19.921875 -1.171875 14.703125 6.5 \n",
       "z\n",
       "M 14.59375 26.3125 \n",
       "Q 14.59375 17 17.140625 12.84375 \n",
       "Q 21.296875 6.0625 28.375 6.0625 \n",
       "Q 34.125 6.0625 38.328125 11.0625 \n",
       "Q 42.53125 16.0625 42.53125 25.984375 \n",
       "Q 42.53125 36.140625 38.5 40.96875 \n",
       "Q 34.46875 45.796875 28.765625 45.796875 \n",
       "Q 23 45.796875 18.796875 40.796875 \n",
       "Q 14.59375 35.796875 14.59375 26.3125 \n",
       "z\n",
       "\" id=\"ArialMT-98\"/>\n",
       "      <path d=\"M 8.6875 0 \n",
       "L 8.6875 45.015625 \n",
       "L 0.921875 45.015625 \n",
       "L 0.921875 51.859375 \n",
       "L 8.6875 51.859375 \n",
       "L 8.6875 57.375 \n",
       "Q 8.6875 62.59375 9.625 65.140625 \n",
       "Q 10.890625 68.5625 14.078125 70.671875 \n",
       "Q 17.28125 72.796875 23.046875 72.796875 \n",
       "Q 26.765625 72.796875 31.25 71.921875 \n",
       "L 29.9375 64.265625 \n",
       "Q 27.203125 64.75 24.75 64.75 \n",
       "Q 20.75 64.75 19.09375 63.03125 \n",
       "Q 17.4375 61.328125 17.4375 56.640625 \n",
       "L 17.4375 51.859375 \n",
       "L 27.546875 51.859375 \n",
       "L 27.546875 45.015625 \n",
       "L 17.4375 45.015625 \n",
       "L 17.4375 0 \n",
       "z\n",
       "\" id=\"ArialMT-102\"/>\n",
       "      <path d=\"M 23.390625 -21.046875 \n",
       "Q 16.109375 -11.859375 11.078125 0.4375 \n",
       "Q 6.0625 12.75 6.0625 25.921875 \n",
       "Q 6.0625 37.546875 9.8125 48.1875 \n",
       "Q 14.203125 60.546875 23.390625 72.796875 \n",
       "L 29.6875 72.796875 \n",
       "Q 23.78125 62.640625 21.875 58.296875 \n",
       "Q 18.890625 51.5625 17.1875 44.234375 \n",
       "Q 15.09375 35.109375 15.09375 25.875 \n",
       "Q 15.09375 2.390625 29.6875 -21.046875 \n",
       "z\n",
       "\" id=\"ArialMT-40\"/>\n",
       "      <path d=\"M 7.625 0 \n",
       "L 7.625 71.578125 \n",
       "L 17.328125 71.578125 \n",
       "L 54.9375 15.375 \n",
       "L 54.9375 71.578125 \n",
       "L 64.015625 71.578125 \n",
       "L 64.015625 0 \n",
       "L 54.296875 0 \n",
       "L 16.703125 56.25 \n",
       "L 16.703125 0 \n",
       "z\n",
       "\" id=\"ArialMT-78\"/>\n",
       "      <path d=\"M 40.4375 19 \n",
       "L 49.078125 17.875 \n",
       "Q 47.65625 8.9375 41.8125 3.875 \n",
       "Q 35.984375 -1.171875 27.484375 -1.171875 \n",
       "Q 16.84375 -1.171875 10.375 5.78125 \n",
       "Q 3.90625 12.75 3.90625 25.734375 \n",
       "Q 3.90625 34.125 6.6875 40.421875 \n",
       "Q 9.46875 46.734375 15.15625 49.875 \n",
       "Q 20.84375 53.03125 27.546875 53.03125 \n",
       "Q 35.984375 53.03125 41.359375 48.75 \n",
       "Q 46.734375 44.484375 48.25 36.625 \n",
       "L 39.703125 35.296875 \n",
       "Q 38.484375 40.53125 35.375 43.15625 \n",
       "Q 32.28125 45.796875 27.875 45.796875 \n",
       "Q 21.234375 45.796875 17.078125 41.03125 \n",
       "Q 12.9375 36.28125 12.9375 25.984375 \n",
       "Q 12.9375 15.53125 16.9375 10.796875 \n",
       "Q 20.953125 6.0625 27.390625 6.0625 \n",
       "Q 32.5625 6.0625 36.03125 9.234375 \n",
       "Q 39.5 12.40625 40.4375 19 \n",
       "z\n",
       "\" id=\"ArialMT-99\"/>\n",
       "      <path d=\"M 12.359375 -21.046875 \n",
       "L 6.0625 -21.046875 \n",
       "Q 20.65625 2.390625 20.65625 25.875 \n",
       "Q 20.65625 35.0625 18.5625 44.09375 \n",
       "Q 16.890625 51.421875 13.921875 58.15625 \n",
       "Q 12.015625 62.546875 6.0625 72.796875 \n",
       "L 12.359375 72.796875 \n",
       "Q 21.53125 60.546875 25.921875 48.1875 \n",
       "Q 29.6875 37.546875 29.6875 25.921875 \n",
       "Q 29.6875 12.75 24.625 0.4375 \n",
       "Q 19.578125 -11.859375 12.359375 -21.046875 \n",
       "z\n",
       "\" id=\"ArialMT-41\"/>\n",
       "     </defs>\n",
       "     <use transform=\"translate(0 0.96875)\" xlink:href=\"#ArialMT-66\"/>\n",
       "     <use transform=\"translate(66.699219 0.96875)\" xlink:href=\"#ArialMT-111\"/>\n",
       "     <use transform=\"translate(122.314453 0.96875)\" xlink:href=\"#ArialMT-111\"/>\n",
       "     <use transform=\"translate(177.929688 0.96875)\" xlink:href=\"#ArialMT-116\"/>\n",
       "     <use transform=\"translate(205.712891 0.96875)\" xlink:href=\"#ArialMT-115\"/>\n",
       "     <use transform=\"translate(255.712891 0.96875)\" xlink:href=\"#ArialMT-116\"/>\n",
       "     <use transform=\"translate(283.496094 0.96875)\" xlink:href=\"#ArialMT-114\"/>\n",
       "     <use transform=\"translate(316.796875 0.96875)\" xlink:href=\"#ArialMT-97\"/>\n",
       "     <use transform=\"translate(372.412109 0.96875)\" xlink:href=\"#ArialMT-112\"/>\n",
       "     <use transform=\"translate(428.027344 0.96875)\" xlink:href=\"#ArialMT-32\"/>\n",
       "     <use transform=\"translate(455.810547 0.96875)\" xlink:href=\"#ArialMT-83\"/>\n",
       "     <use transform=\"translate(522.509766 0.96875)\" xlink:href=\"#ArialMT-97\"/>\n",
       "     <use transform=\"translate(578.125 0.96875)\" xlink:href=\"#ArialMT-109\"/>\n",
       "     <use transform=\"translate(661.425781 0.96875)\" xlink:href=\"#ArialMT-112\"/>\n",
       "     <use transform=\"translate(717.041016 0.96875)\" xlink:href=\"#ArialMT-108\"/>\n",
       "     <use transform=\"translate(739.257812 0.96875)\" xlink:href=\"#ArialMT-105\"/>\n",
       "     <use transform=\"translate(761.474609 0.96875)\" xlink:href=\"#ArialMT-110\"/>\n",
       "     <use transform=\"translate(817.089844 0.96875)\" xlink:href=\"#ArialMT-103\"/>\n",
       "     <use transform=\"translate(872.705078 0.96875)\" xlink:href=\"#ArialMT-32\"/>\n",
       "     <use transform=\"translate(900.488281 0.96875)\" xlink:href=\"#ArialMT-68\"/>\n",
       "     <use transform=\"translate(972.705078 0.96875)\" xlink:href=\"#ArialMT-105\"/>\n",
       "     <use transform=\"translate(994.921875 0.96875)\" xlink:href=\"#ArialMT-115\"/>\n",
       "     <use transform=\"translate(1044.921875 0.96875)\" xlink:href=\"#ArialMT-116\"/>\n",
       "     <use transform=\"translate(1072.705078 0.96875)\" xlink:href=\"#ArialMT-114\"/>\n",
       "     <use transform=\"translate(1106.005859 0.96875)\" xlink:href=\"#ArialMT-105\"/>\n",
       "     <use transform=\"translate(1128.222656 0.96875)\" xlink:href=\"#ArialMT-98\"/>\n",
       "     <use transform=\"translate(1183.837891 0.96875)\" xlink:href=\"#ArialMT-117\"/>\n",
       "     <use transform=\"translate(1239.453125 0.96875)\" xlink:href=\"#ArialMT-116\"/>\n",
       "     <use transform=\"translate(1267.236328 0.96875)\" xlink:href=\"#ArialMT-105\"/>\n",
       "     <use transform=\"translate(1289.453125 0.96875)\" xlink:href=\"#ArialMT-111\"/>\n",
       "     <use transform=\"translate(1345.068359 0.96875)\" xlink:href=\"#ArialMT-110\"/>\n",
       "     <use transform=\"translate(1400.683594 0.96875)\" xlink:href=\"#ArialMT-32\"/>\n",
       "     <use transform=\"translate(1428.466797 0.96875)\" xlink:href=\"#ArialMT-111\"/>\n",
       "     <use transform=\"translate(1484.082031 0.96875)\" xlink:href=\"#ArialMT-102\"/>\n",
       "     <use transform=\"translate(1511.865234 0.96875)\" xlink:href=\"#ArialMT-32\"/>\n",
       "     <use transform=\"translate(1603.162598 26.3125)\" xlink:href=\"#DejaVuSans-771\"/>\n",
       "     <use transform=\"translate(1539.648438 0.96875)\" xlink:href=\"#DejaVuSans-Oblique-952\"/>\n",
       "     <use transform=\"translate(1601.787109 -15.4375)scale(0.7)\" xlink:href=\"#DejaVuSans-Oblique-101\"/>\n",
       "     <use transform=\"translate(1644.853516 -15.4375)scale(0.7)\" xlink:href=\"#DejaVuSans-Oblique-100\"/>\n",
       "     <use transform=\"translate(1689.287109 -15.4375)scale(0.7)\" xlink:href=\"#DejaVuSans-Oblique-117\"/>\n",
       "     <use transform=\"translate(1733.652344 -15.4375)scale(0.7)\" xlink:href=\"#DejaVuSans-Oblique-99\"/>\n",
       "     <use transform=\"translate(1774.873047 0.96875)\" xlink:href=\"#ArialMT-32\"/>\n",
       "     <use transform=\"translate(1802.65625 0.96875)\" xlink:href=\"#ArialMT-40\"/>\n",
       "     <use transform=\"translate(1835.957031 0.96875)\" xlink:href=\"#ArialMT-78\"/>\n",
       "     <use transform=\"translate(1908.173828 0.96875)\" xlink:href=\"#ArialMT-111\"/>\n",
       "     <use transform=\"translate(1963.789062 0.96875)\" xlink:href=\"#ArialMT-110\"/>\n",
       "     <use transform=\"translate(2019.404297 0.96875)\" xlink:href=\"#ArialMT-112\"/>\n",
       "     <use transform=\"translate(2075.019531 0.96875)\" xlink:href=\"#ArialMT-97\"/>\n",
       "     <use transform=\"translate(2130.634766 0.96875)\" xlink:href=\"#ArialMT-114\"/>\n",
       "     <use transform=\"translate(2163.935547 0.96875)\" xlink:href=\"#ArialMT-97\"/>\n",
       "     <use transform=\"translate(2219.550781 0.96875)\" xlink:href=\"#ArialMT-109\"/>\n",
       "     <use transform=\"translate(2302.851562 0.96875)\" xlink:href=\"#ArialMT-101\"/>\n",
       "     <use transform=\"translate(2358.466797 0.96875)\" xlink:href=\"#ArialMT-116\"/>\n",
       "     <use transform=\"translate(2386.25 0.96875)\" xlink:href=\"#ArialMT-114\"/>\n",
       "     <use transform=\"translate(2419.550781 0.96875)\" xlink:href=\"#ArialMT-105\"/>\n",
       "     <use transform=\"translate(2441.767578 0.96875)\" xlink:href=\"#ArialMT-99\"/>\n",
       "     <use transform=\"translate(2491.767578 0.96875)\" xlink:href=\"#ArialMT-41\"/>\n",
       "    </g>\n",
       "   </g>\n",
       "  </g>\n",
       " </g>\n",
       " <defs>\n",
       "  <clipPath id=\"pab416cb66e\">\n",
       "   <rect height=\"163.08\" width=\"223.2\" x=\"47.16\" y=\"25.68\"/>\n",
       "  </clipPath>\n",
       " </defs>\n",
       "</svg>\n"
      ],
      "text/plain": [
       "<Figure size 288x216 with 1 Axes>"
      ]
     },
     "metadata": {},
     "output_type": "display_data"
    }
   ],
   "source": [
    "plt.figure(figsize = (4, 3))\n",
    "plt.hist(theta_hat_sampling, bins=30, density=True)\n",
    "plt.xlabel(\"$\\\\tilde{\\\\theta}_{educ}$ Values\")\n",
    "plt.ylabel(\"Proportion per Unit\")\n",
    "plt.title(\"Bootstrap Sampling Distribution of $\\\\tilde{\\\\theta}_{educ}$ (Nonparametric)\");\n",
    "plt.show()"
   ]
  },
  {
   "cell_type": "markdown",
   "metadata": {},
   "source": [
    "Notice how the sampling distribution above is slightly skewed to the left. "
   ]
  },
  {
   "cell_type": "markdown",
   "metadata": {
    "colab_type": "text",
    "id": "mtdypIy4GnxT"
   },
   "source": [
    "### Estimating the True Coefficients"
   ]
  },
  {
   "cell_type": "markdown",
   "metadata": {},
   "source": [
    "Although we cannot directly measure $\\theta^*_\\texttt{education}$ we can use a bootstrap confidence interval to account for variability in the sample regression coefficient $\\widehat\\theta_{\\texttt{education}}$. Below, We construct an approximate 95% confidence interval for the true coefficient $\\theta^*_\\texttt{education}$, using the bootstrap percentile method. The confidence interval extends from the 2.5th percentile to the 97.5th percentile of the 10,000 bootstrapped coefficients."
   ]
  },
  {
   "cell_type": "code",
   "execution_count": 46,
   "metadata": {
    "colab": {
     "autoexec": {
      "startup": false,
      "wait_interval": 0
     }
    },
    "colab_type": "code",
    "id": "4LWBmJJuGqwj"
   },
   "outputs": [
    {
     "data": {
      "text/plain": [
       "(0.2349176380021313, 0.7795582405415913)"
      ]
     },
     "execution_count": 46,
     "metadata": {},
     "output_type": "execute_result"
    }
   ],
   "source": [
    "left_confidence_interval_endpoint = np.percentile(theta_hat_sampling, 2.5)\n",
    "right_confidence_interval_endpoint = np.percentile(theta_hat_sampling, 97.5)\n",
    "\n",
    "left_confidence_interval_endpoint, right_confidence_interval_endpoint"
   ]
  },
  {
   "cell_type": "markdown",
   "metadata": {},
   "source": [
    "From the confidence interval above, we estimate that the true coefficient lies between 0.236 and 0.775."
   ]
  },
  {
   "cell_type": "markdown",
   "metadata": {},
   "source": [
    "## Confidence Interval Using Normal Theory\n",
    "\n",
    "We can also create confidence intervals based on normal theory. Since the $\\widehat \\theta_{educ}$ values appear normally distributed, we can construct a confidence interval using by computing the following:\n",
    "\n",
    "$$\n",
    "[\\widehat \\theta - z_{\\frac{\\alpha}{2}}*SE(\\theta^*),  \\widehat \\theta + z_{\\frac{\\alpha}{2}}*SE(\\theta^*)]\n",
    "$$\n",
    "\n",
    "where $SE(\\theta^*)$ is the standard error of our bootstrapped coefficients, $z$ is a constant, and $\\widehat \\theta$ is our sample coefficient. Note that $z$ varies depending on the confidence level of the interval we are constructing. Since we are creating a 95% confidence interval, we will use 1.96."
   ]
  },
  {
   "cell_type": "code",
   "execution_count": 55,
   "metadata": {},
   "outputs": [
    {
     "data": {
      "text/plain": [
       "income       0.15\n",
       "education    0.12\n",
       "dtype: float64"
      ]
     },
     "execution_count": 55,
     "metadata": {},
     "output_type": "execute_result"
    }
   ],
   "source": [
    "# We will use the statsmodels library in order to find the standard error of the coefficients\n",
    "import statsmodels.api as sm\n",
    "ols = sm.OLS(y, X)\n",
    "ols_result = ols.fit()\n",
    "# Now you have at your disposition several error estimates, e.g.\n",
    "ols_result.HC0_se"
   ]
  },
  {
   "cell_type": "code",
   "execution_count": 56,
   "metadata": {},
   "outputs": [
    {
     "data": {
      "text/plain": [
       "(0.3148000000000001, 0.7852)"
      ]
     },
     "execution_count": 56,
     "metadata": {},
     "output_type": "execute_result"
    }
   ],
   "source": [
    "left_confidence_interval_endpoint_normal = 0.55 - (1.96*0.12)\n",
    "right_confidence_interval_endpoint_normal = 0.55 + (1.96*0.12)\n",
    "left_confidence_interval_endpoint_normal, right_confidence_interval_endpoint_normal"
   ]
  },
  {
   "cell_type": "markdown",
   "metadata": {},
   "source": [
    "**Observations:**\n",
    "Notice how the confidence interval using normal theory is more narrow than the confidence interval using the percentile method, especially towards the left of the interval.\n",
    "\n",
    "We will not go into the normal theory confidence interval in great detail, but if you would like to learn more, refer to X."
   ]
  },
  {
   "cell_type": "markdown",
   "metadata": {},
   "source": [
    "### Could the true coefficient be 0?\n",
    "\n",
    "Although we observed a positive partial relationship between education and prestige (from the 0.55 coefficient), what if the true coefficient is actually 0 and there is no partial relationship between education and prestige? In this case, the association that we observed was just due to variability in obtaining the points that form our sample.\n",
    "\n",
    "To formally test whether the partial relationship between education and prestige is real, we would like to test the following hypotheses:\n",
    "\n",
    "**Null Hypothesis:** The true partial coefficient is 0.\n",
    "\n",
    "**Alternative Hypothesis.** The true partial coefficient is not 0.\n",
    "\n",
    "Since we have already contructed a 95% confidence interval for the true coefficient, we just need to see whether 0 lies within this interval. Notice that 0 does not lie within our confidence interval above; therefore, we have enough evidence to reject the null hypothesis.  \n",
    "\n",
    "If the confidence interval for the true coefficient did contain 0, then we would not have enough evidence to reject the null hypothesis. In this case, the observed coefficient $\\widehat\\theta_{\\texttt{education}}$ would likely spurious."
   ]
  },
  {
   "cell_type": "markdown",
   "metadata": {
    "colab_type": "text",
    "id": "wZugMnyxIe4E"
   },
   "source": [
    "### Bootstrapping Reflection\n",
    "\n",
    "In order to build the sampling distribution of the coefficient $\\widehat\\theta_{\\texttt{education}}$ and contruct the confidence interval for the true coefficient, we directly resampled the observations and fitted new regression models on our bootstrap samples. This method implicitly treats the regressors $X_i$ as random rather than fixed.\n",
    "\n",
    "In some cases, we may want to treat the $X_i$ as fixed (if, for example, the data were derive from an experimental\n",
    "design). In the case where the explanatory variables were controlled for, or the values of the explanatory variables were set by the experimenter, then we may consider the following alternative bootstrapping method."
   ]
  },
  {
   "cell_type": "markdown",
   "metadata": {
    "colab_type": "text",
    "id": "7Vih0zQDIK8A"
   },
   "source": [
    "## Alternative: Bootstrapping the Residuals\n",
    "\n",
    "Another approach to hypothesis testing in linear regression is bootstrapping the residuals. This approach makes many underlying assumptions and used less frequently in practice. In this method, we consider the *residuals* $e_i := y_i - X_i\\widehat\\beta $ to be our sample, so we construct the bootstrap resample by sampling with replacement from these residuals. Once we construct each bootstrap sample, we can compute new fitted values using these residuals. Then, we regress these new Y values onto the fixed X values to obtain bootstrap regression coefficients.\n",
    "\n",
    "For more clarity, let's break this method down into steps:\n",
    "\n",
    "1. Estimate the regression coefficients for the original sample, and calculate\n",
    "the fitted value $\\widehat y$ and residual $e_i$ for each observation.\n",
    "\n",
    "2. Select bootstrap samples of the residuals; we will denote these bootstrapped residuals as $\\tilde e_1, \\tilde e_2, \\dots \\tilde e_n$. Then, calculate bootstrapped $\\tilde y_i$ values by computing $\\widehat y + \\tilde e_i$ where the fitted values $\\widehat y_i = X_i\\widehat\\beta$\n",
    "are obtained from the original regression. \n",
    "\n",
    "3.  Regress the bootstrapped $\\tilde y_i$ values on the fixed $X$ values to obtain bootstrap regression\n",
    "coefficients $\\tilde \\theta$.\n",
    "\n",
    "4. Repeat steps two and three several times in order to obtain several bootstrap regression coefficients $\\tilde \\theta_1, \\tilde \\theta_2, \\dots \\tilde \\theta_n$. These can be used to compute bootstrap standard errors and confidence intervals. "
   ]
  },
  {
   "cell_type": "markdown",
   "metadata": {
    "colab_type": "text",
    "id": "pbef39zNJg4H"
   },
   "source": [
    "### Estimating the True Coefficients\n",
    "\n",
    "Now that we have the bootstrapped regression coefficients, we can construct a confidence interval using the same techniques as before. We will leave this as an exercise."
   ]
  },
  {
   "cell_type": "markdown",
   "metadata": {
    "colab_type": "text",
    "id": "iEZLBQRqgxnb"
   },
   "source": [
    "### Bootstrapping the Residuals Reflection\n",
    "\n",
    "Let's reflect on this method. By randomly reattaching resampled residuals to ﬁtted values, this \n",
    "procedure implicitly assumes that the errors are identically distributed. More specifically, this method assumes that the distribution of fluctuations around the regression curve is the same for all values of the input $x_i$. This is a disadvantage because the true errors may have nonconstant variance; this phenomenon is called heteroscedasticity.\n",
    "\n",
    "Although this method does not make any assumptions about the shape of the error distribution, it implicitly assumes that the functional form of the model is correct. By relying on the model to create each bootstrap sample, we assume that the model structure is appropriate.\n",
    "\n"
   ]
  },
  {
   "cell_type": "markdown",
   "metadata": {},
   "source": [
    "## Summary\n",
    "\n",
    "In this section, we highlight bootstrapping techniques used in a linear regression setting. \n",
    "\n",
    "In general, bootstrapping the observations is more commonly used for bootstrapping. This method is often more robust than other techniques because it makes less underlying assumptions; for example, if an incorrect model is fitted, this method will still yield an appropriate sampling distribution of the parameter of interest.\n",
    "\n",
    "We also highlight an alternative method, which has several disadvantages. Bootstrapping the residuals can be used when we would like the treat our observations $X$ as fixed. Note that this method should be used with caution because it makes additional assumptions about the errors and form of the model."
   ]
  }
 ],
 "metadata": {
  "colab": {
   "default_view": {},
   "name": "Bootstrapping for Linear Regression.ipynb",
   "provenance": [],
   "version": "0.3.2",
   "views": {}
  },
  "kernelspec": {
   "display_name": "Python 3",
   "language": "python",
   "name": "python3"
  },
  "language_info": {
   "codemirror_mode": {
    "name": "ipython",
    "version": 3
   },
   "file_extension": ".py",
   "mimetype": "text/x-python",
   "name": "python",
   "nbconvert_exporter": "python",
   "pygments_lexer": "ipython3",
   "version": "3.9.4"
  }
 },
 "nbformat": 4,
 "nbformat_minor": 4
}
