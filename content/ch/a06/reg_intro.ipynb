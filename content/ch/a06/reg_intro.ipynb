{
 "cells": [
  {
   "cell_type": "markdown",
   "metadata": {},
   "source": [
    "(ch:regularization)=\n",
    "# Regularization"
   ]
  },
  {
   "cell_type": "markdown",
   "metadata": {},
   "source": [
    ":::{note}\n",
    "\n",
    "This is a legacy chapter which will eventually be incorporated into Chapter 17.\n",
    "This chapter will remain here as an appendix until we finish Chapter 17.\n",
    "\n",
    ":::"
   ]
  },
  {
   "cell_type": "markdown",
   "metadata": {},
   "source": [
    "Feature engineering can incorporate important information about the data\n",
    "generation process into our model. However, adding features to the data also\n",
    "typically increases the variance of our model and can thus result in worse\n",
    "performance overall. Rather than throwing out features entirely, we can turn to\n",
    "a technique called regularization to reduce the variance of our model while\n",
    "still incorporating as much information about the data as possible."
   ]
  }
 ],
 "metadata": {
  "kernelspec": {
   "display_name": "Python 3",
   "language": "python",
   "name": "python3"
  },
  "language_info": {
   "codemirror_mode": {
    "name": "ipython",
    "version": 3
   },
   "file_extension": ".py",
   "mimetype": "text/x-python",
   "name": "python",
   "nbconvert_exporter": "python",
   "pygments_lexer": "ipython3",
   "version": "3.9.4"
  }
 },
 "nbformat": 4,
 "nbformat_minor": 4
}
