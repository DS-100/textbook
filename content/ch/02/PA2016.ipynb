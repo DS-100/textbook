{
 "cells": [
  {
   "cell_type": "markdown",
   "metadata": {},
   "source": [
    "# The Vote in Pennsylvania"
   ]
  },
  {
   "cell_type": "code",
   "execution_count": 1,
   "metadata": {
    "ExecuteTime": {
     "end_time": "2018-09-12T05:50:17.975391Z",
     "start_time": "2018-09-12T05:50:17.067217Z"
    },
    "nbgrader": {
     "grade": false,
     "grade_id": "setup",
     "locked": true,
     "schema_version": 2,
     "solution": false
    }
   },
   "outputs": [],
   "source": [
    "import numpy as np\n",
    "import matplotlib.pyplot as plt\n",
    "import seaborn as sns\n",
    "\n",
    "# Default plot configurations\n",
    "%matplotlib inline\n",
    "plt.rcParams['figure.figsize'] = (16,8)\n",
    "plt.rcParams['figure.dpi'] = 150\n",
    "sns.set()\n",
    "\n",
    "from IPython.display import display, Latex, Markdown"
   ]
  },
  {
   "cell_type": "markdown",
   "metadata": {
    "nbgrader": {
     "grade": false,
     "grade_id": "load-data",
     "locked": true,
     "schema_version": 2,
     "solution": false
    }
   },
   "source": [
    "## Background\n",
    "\n",
    "The US president is chosen by the Electoral College, not by popular vote. \n",
    "Each state is alotted a certan number of electoral college votes, as a function of their population, and\n",
    "typically, whomever wins the popular vote in the state receives all of the electoral college votes for that state. \n",
    "\n",
    "In advance of the election, polls are conducted separately in all of the states.\n",
    "The results help identify `battleground` states and are combined to predict the winner of the electoral college votes.\n",
    "In 2016, pollsters correctly predicted the election outcome in 46 of the 50 states. \n",
    "For those 46 states Trump received 231 and Clinton received 232 electoral college votes.\n",
    "The remaining 4 states, Florida, Michigan, Pennsylvania, and Wisconsin, accounted for a total of 75 votes, and \n",
    "whichever candidate received the majority of the electoral college votes in these states would win the election. \n",
    "For Donald Trump to win the election, he had to win either:\n",
    "* Florida + one (or more) other states\n",
    "* Michigan, Pennsylvania, and Wisconsin\n",
    "\n",
    "\n",
    "The election results for these four states are in the table below:\n",
    "\n",
    "\n",
    "|State | Trump |   Clinton | Total Voters |\n",
    "| --- | --- |  --- |  --- |\n",
    "|Florida | 49.02 | 47.82 | 9,419,886  | \n",
    "|Michigan | 47.50 | 47.27  |  4,799,284|\n",
    "|Pennsylvania | 48.18 | 47.46 |  6,165,478|\n",
    "|Wisconsin | 47.22 | 46.45  |  2,976,150|\n",
    "\n",
    "Those narrow electoral margins can make it hard to predict the outcome given the sample sizes that the polls used.\n",
    "\n",
    "Many experts have studied the 2016 election results. \n",
    "According to the American Association for Public Opinion Research (AAPOR),\n",
    "one online, opt-in poll adjusted their polling results for education but used only three broad categories \n",
    "(high school or less, some college, and college graduate). \n",
    "They found that had they separated out those with advanced degrees from those with college \n",
    "degrees, then they would have reduced Clinton’s margin by 0.5 percentage points. \n",
    "In other words, after the fact they were able to identify an education bias where highly educated voters tend to be more willing to participate in polls. This bias matters because these voters also tended to prefer Clinton over Trump.\n",
    "\n",
    "Now that we know how people actually voted, we can carry out a simulation study that imitates the election polling under different scenarios to help develop intuition for accuracy, bias, and variance. \n",
    "We will simulate the polls for Pennsylvania under these two scenarios: \n",
    "\n",
    "1. People surveyed didn't change their minds, didn't hide who they voted for, and were representative of those who voted on election day.\n",
    "2. People with a higher education were more likely to respond, which led to a 0.5% bias in Clinton's margin.\n",
    "\n",
    "Our ultimate goal is to understand the chance that a poll incorrectly calls the election for Hillary Clinton even if our sample was collected with absolutely no bias, and when there is a small amount of non-response bias."
   ]
  },
  {
   "cell_type": "markdown",
   "metadata": {
    "nbgrader": {
     "grade": false,
     "grade_id": "q1",
     "locked": true,
     "schema_version": 2,
     "solution": false
    }
   },
   "source": [
    "---\n",
    "## Simulation Study of the Sampling Error\n",
    "\n",
    "\n",
    "For the first scenario, our simulation takes a simple random sample (SRS) of the 6+m voters in Pennsylavania and\n",
    "calculates Trump's lead over Clinton. \n",
    "We repeat this sample collection over and over, each time calculating Trump's lead, to get \n",
    "a sense of the different values a poll that uses SRS might produce.\n",
    "\n",
    "Our population consists of the votes cast for Trump, Clinton, and a third-party candidate.\n",
    "We lump all of the third party candidates together because we are only interested in the difference between\n",
    "votes cast for Trump and Clinton."
   ]
  },
  {
   "cell_type": "code",
   "execution_count": 2,
   "metadata": {},
   "outputs": [],
   "source": [
    "#np.random.multivariate_hypergeometric(votes, n)"
   ]
  },
  {
   "cell_type": "markdown",
   "metadata": {},
   "source": [
    "### The Urn Model\n",
    "\n",
    "We can cast this problem in terms of an urn model as follows:\n",
    "\n",
    "+ There are 6,165,478 marbles in the urn, one for each vote\n",
    "+ Since we care only about whether the vote is for Clinton, Trump, or a thrid party candidate, we can label or color each marble in one of three ways, to represent these three options.\n",
    "+ The poll is a SRS of, say, 1500 marbles from the urn\n",
    "+ We tally up the counts of the three types of marbles \n",
    "\n",
    "We begin by using the proportions reported in the table to create the counts of the three types of voters."
   ]
  },
  {
   "cell_type": "code",
   "execution_count": 3,
   "metadata": {},
   "outputs": [
    {
     "data": {
      "text/plain": [
       "array([2970527., 2926135.,  268814.])"
      ]
     },
     "execution_count": 3,
     "metadata": {},
     "output_type": "execute_result"
    }
   ],
   "source": [
    "proportions = np.array([0.4818, 0.4746, 1 - (0.4818 + 0.4746)])               \n",
    "n = 1500\n",
    "N = 6165478\n",
    "votes = np.trunc(N * proportions)\n",
    "votes"
   ]
  },
  {
   "cell_type": "markdown",
   "metadata": {},
   "source": [
    "This version of the urn model is so common that there is a random chance process named for it, the multivariate hypergeometric. We can take a SRS and get our counts with the function call:"
   ]
  },
  {
   "cell_type": "code",
   "execution_count": 4,
   "metadata": {},
   "outputs": [
    {
     "data": {
      "text/plain": [
       "array([730, 714,  56])"
      ]
     },
     "execution_count": 4,
     "metadata": {},
     "output_type": "execute_result"
    }
   ],
   "source": [
    "np.random.multinomial(n, proportions)"
   ]
  },
  {
   "cell_type": "markdown",
   "metadata": {},
   "source": [
    "And, each time we call `np.random.multinomial` we get a different sample and counts, e.g.,"
   ]
  },
  {
   "cell_type": "code",
   "execution_count": 5,
   "metadata": {},
   "outputs": [
    {
     "data": {
      "text/plain": [
       "array([705, 731,  64])"
      ]
     },
     "execution_count": 5,
     "metadata": {},
     "output_type": "execute_result"
    }
   ],
   "source": [
    "np.random.multinomial(n, proportions)"
   ]
  },
  {
   "cell_type": "markdown",
   "metadata": {},
   "source": [
    "We can convert these results into a value for Trumnp's lead, i.e., $(n_T - n_C)/n$, where $n_T$ are the number  of Trump votes drawn in the sample and $n_C$ the number for Clinton. If the lead is positive, then the sample shows a win for Trump.\n",
    "\n",
    "We know the actual lead was, 0.4818 - 0.4746 =  0.007, and to get a sense of the variation in the sampling process \n",
    "we can simulate the sampling process over and over and examine the values that we get in return. \n",
    "Below we simulate 100,000 simple random samples of 1500 voters from the state of Pennsylvania.  "
   ]
  },
  {
   "cell_type": "code",
   "execution_count": 6,
   "metadata": {},
   "outputs": [],
   "source": [
    "def trump_advantage(n, proportions):\n",
    "    sample_votes = np.random.multinomial(n, proportions)\n",
    "    return (sample_votes[0] - sample_votes[1]) / n"
   ]
  },
  {
   "cell_type": "code",
   "execution_count": 7,
   "metadata": {},
   "outputs": [],
   "source": [
    "simulations = [trump_advantage(n, proportions) for i in range(100000)] "
   ]
  },
  {
   "cell_type": "markdown",
   "metadata": {
    "nbgrader": {
     "grade": false,
     "grade_id": "q1c",
     "locked": true,
     "schema_version": 2,
     "solution": false
    }
   },
   "source": [
    "On average, the polling results show Trump with close to a 0.007 lead: "
   ]
  },
  {
   "cell_type": "code",
   "execution_count": 8,
   "metadata": {},
   "outputs": [
    {
     "data": {
      "text/plain": [
       "0.007130453333333333"
      ]
     },
     "execution_count": 8,
     "metadata": {},
     "output_type": "execute_result"
    }
   ],
   "source": [
    "np.mean(simulations)"
   ]
  },
  {
   "cell_type": "markdown",
   "metadata": {},
   "source": [
    "However, many times the lead was negative, meaning Clinton was the winner in the sample.\n",
    "The histogram below shows the sampling distribution of Trump's advantage in Pennsylvania. \n",
    "The vertical dashed line at 0 shows that more often than not, Trump is called, but there are many times when a sample \n",
    "has Clinton in the lead."
   ]
  },
  {
   "cell_type": "code",
   "execution_count": 9,
   "metadata": {
    "scrolled": true
   },
   "outputs": [
    {
     "data": {
      "text/plain": [
       "Text(0.5, 0, 'Sampling Distribution Advantage')"
      ]
     },
     "execution_count": 9,
     "metadata": {},
     "output_type": "execute_result"
    },
    {
     "data": {
      "image/png": "[encoded data removed]",
      "text/plain": [
       "<Figure size 432x288 with 1 Axes>"
      ]
     },
     "metadata": {
      "needs_background": "light"
     },
     "output_type": "display_data"
    }
   ],
   "source": [
    "plt.hist(simulations, bins=20)\n",
    "plt.axvline(0, color='red', linestyle='dashed', linewidth=2)\n",
    "plt.title('Pennsylvania')\n",
    "plt.ylabel('# of Simulations')\n",
    "plt.xlabel('Sampling Distribution Advantage')"
   ]
  },
  {
   "cell_type": "markdown",
   "metadata": {},
   "source": [
    "Over the 100,0000 simulated polls, we find Trump a victor about 60% of the time: "
   ]
  },
  {
   "cell_type": "code",
   "execution_count": 10,
   "metadata": {},
   "outputs": [
    {
     "data": {
      "text/plain": [
       "0.606"
      ]
     },
     "execution_count": 10,
     "metadata": {},
     "output_type": "execute_result"
    }
   ],
   "source": [
    "np.count_nonzero(np.array(simulations) > 0) / 100000"
   ]
  },
  {
   "cell_type": "markdown",
   "metadata": {},
   "source": [
    "This number represents the percent chance that a given sample will correctly predict Trump's victory *even if the sample was collected with absoutely no bias*. \n",
    "\n",
    "**Note: Many laypeople, even well educated ones, assume that this number should be 1. After all, how could a non-biased sample be wrong? This is the type of incredibly important intuition we hope you develop.**\n",
    "\n",
    "We have just studied the sampling error, and found how our predictions might look if there was no bias in our \n",
    "sampling process. "
   ]
  },
  {
   "cell_type": "markdown",
   "metadata": {
    "nbgrader": {
     "grade": false,
     "grade_id": "q2",
     "locked": true,
     "schema_version": 2,
     "solution": false
    }
   },
   "source": [
    "---\n",
    "## Simulation Study of Selection Bias\n",
    "\n",
    "\n",
    "\"In a perfect world, polls sample from the population of voters, who would state their political preference perfectly clearly and then vote accordingly.\" (REF)\n",
    "\n",
    "That's the simulation study that we just performed. \n",
    "\n",
    "\n",
    "It's difficult to control for every source of bias. And, it's not possible to control for some of the other sources of bias. We investigate here the effect of small, education, sampling bias on the polling results. \n",
    "Specifically, we examine the impacts of a 0.5 percent bias in favor of Clinton that we described earlier. \n",
    "\n",
    "This bias essentially means that we see a distorted picture of voter preferences in our polls, where instead of 47.46 percent votes for Clinton, we have 47.96, and we have 48.18 - 0.5 = 47.68 percent for Trump. \n",
    "We adjust the proportions to reflect this bias: "
   ]
  },
  {
   "cell_type": "code",
   "execution_count": 11,
   "metadata": {},
   "outputs": [
    {
     "data": {
      "text/plain": [
       "[0.4768, 0.4797, 0.04359999999999997]"
      ]
     },
     "execution_count": 11,
     "metadata": {},
     "output_type": "execute_result"
    }
   ],
   "source": [
    "proportions_bias = [0.4818 - 0.005, 0.4747 + 0.005, 1 - (0.4818 + 0.4746) ]\n",
    "proportions_bias"
   ]
  },
  {
   "cell_type": "markdown",
   "metadata": {},
   "source": [
    "Now, our simulations find Trump winning in about 45% of the samples."
   ]
  },
  {
   "cell_type": "code",
   "execution_count": 12,
   "metadata": {},
   "outputs": [],
   "source": [
    "simulations_bias = [trump_advantage(n, proportions_bias) for i in range(100000)] "
   ]
  },
  {
   "cell_type": "code",
   "execution_count": 13,
   "metadata": {},
   "outputs": [
    {
     "data": {
      "text/plain": [
       "Text(0.5, 0, 'Sampling Distribution Advantage')"
      ]
     },
     "execution_count": 13,
     "metadata": {},
     "output_type": "execute_result"
    },
    {
     "data": {
      "image/png": "[encoded data removed]",
      "text/plain": [
       "<Figure size 432x288 with 1 Axes>"
      ]
     },
     "metadata": {
      "needs_background": "light"
     },
     "output_type": "display_data"
    }
   ],
   "source": [
    "plt.hist(simulations_bias, bins=20)\n",
    "plt.axvline(0, color='red', linestyle='dashed', linewidth=2)\n",
    "plt.title('Biased Sampling of Pennsylvania') \n",
    "plt.ylabel('# of Simulations')\n",
    "plt.xlabel('Sampling Distribution Advantage')"
   ]
  },
  {
   "cell_type": "code",
   "execution_count": 14,
   "metadata": {},
   "outputs": [
    {
     "data": {
      "text/plain": [
       "0.45178"
      ]
     },
     "execution_count": 14,
     "metadata": {},
     "output_type": "execute_result"
    }
   ],
   "source": [
    "np.count_nonzero(np.array(simulations_bias) > 0) / 100000"
   ]
  },
  {
   "cell_type": "markdown",
   "metadata": {},
   "source": [
    "Notice that the histograms from both simualtions are similar in shape. \n",
    "They are symmetric with reasonable length tails.\n",
    "The second histogram is shifted slightly to the left, which shows the non-response bias introduced in the process."
   ]
  },
  {
   "cell_type": "markdown",
   "metadata": {
    "nbgrader": {
     "grade": false,
     "grade_id": "q2c",
     "locked": true,
     "schema_version": 2,
     "solution": false
    }
   },
   "source": [
    "###  Would increasing the sample size have helped?\n",
    "\n",
    "With our simulation study we can get insight into the answer to this question. \n",
    "For example, we can try a sample size of 12,000 and run 100,000 simulations for both scenraios."
   ]
  },
  {
   "cell_type": "code",
   "execution_count": 15,
   "metadata": {},
   "outputs": [],
   "source": [
    "simulations_big = [trump_advantage(12000, proportions) for i in range(100000)] \n",
    "simulations_bias_big = [trump_advantage(12000, proportions_bias) for i in range(100000)] "
   ]
  },
  {
   "cell_type": "code",
   "execution_count": 16,
   "metadata": {},
   "outputs": [
    {
     "name": "stdout",
     "output_type": "stream",
     "text": [
      "0.79063 0.37187\n"
     ]
    }
   ],
   "source": [
    "scenario_no_bias = np.count_nonzero(np.array(simulations_big) > 0) / 100000\n",
    "scenario_bias = np.count_nonzero(np.array(simulations_bias_big) > 0) / 100000\n",
    "print(scenario_no_bias, scenario_bias)"
   ]
  },
  {
   "cell_type": "markdown",
   "metadata": {},
   "source": [
    "According to FiveThirtyEight: \"... Polls of the November 2016 presidential election were about as accurate as polls of presidential elections have been on average since 1972.\"\n",
    "\n",
    "When the margin of victory may be relatively small as it was in 2016, a larger sample size reduces the sampling error, but unfortunately, if there is bias, then the predictions are close to the biased estimate. If the bias pushes the prediction from one candidate (Trump) to another (Clinton), then we have a \"surprise\" upset. "
   ]
  },
  {
   "cell_type": "markdown",
   "metadata": {},
   "source": [
    "### References\n",
    "\n",
    "Grotenhuis, Subramanian, Nieuwenhuis, Pelzer and Eisinga (https://blogs.lse.ac.uk/usappblog/2018/02/01/better-poll-sampling-would-have-cast-more-doubt-on-the-potential-for-hillary-clinton-to-win-the-2016-election/#Author):"
   ]
  }
 ],
 "metadata": {
  "celltoolbar": "Create Assignment",
  "kernelspec": {
   "display_name": "Python 3",
   "language": "python",
   "name": "python3"
  },
  "language_info": {
   "codemirror_mode": {
    "name": "ipython",
    "version": 3
   },
   "file_extension": ".py",
   "mimetype": "text/x-python",
   "name": "python",
   "nbconvert_exporter": "python",
   "pygments_lexer": "ipython3",
   "version": "3.7.4"
  }
 },
 "nbformat": 4,
 "nbformat_minor": 2
}
