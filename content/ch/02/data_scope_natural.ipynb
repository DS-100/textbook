{
 "cells": [
  {
   "cell_type": "code",
   "execution_count": 1,
   "metadata": {
    "tags": [
     "remove-cell"
    ]
   },
   "outputs": [],
   "source": [
    "import sys\n",
    "import os\n",
    "if not any(path.endswith('textbook') for path in sys.path):\n",
    "    sys.path.append(os.path.abspath('../../..'))\n",
    "from textbook_utils import *"
   ]
  },
  {
   "cell_type": "markdown",
   "metadata": {},
   "source": [
    "(sec:scope_naturalphenomenon)=\n",
    "# Measuring Natural Phenomenon\n",
    "\n",
    "The scope-diagram introduced for observing a target population can be extended to the situation where we want to measure a quantity such as a particle count in the air, age of a fossil, speed of light, etc. In these cases we consider the quantity we want to measure as an unknown, exact value. (This unknown value is often referred to as a *parameter*.) We can adapt our scope diagram to this setting: we shrink the target to a point that represents the unknown; the instrument's accuracy acts as the access frame; and the sample consists of the measurements taken by the instrument. You might think of the frame as a dart board, where the instrument is the person throwing the darts, and the darts land within the circle, scattered around the bullseye. The scatter of darts correspond to the measurements taken by the instrument. The target point is not seen by the dart thrower, but ideally it coincides with the bullseye. \n",
    "\n",
    "To illustrate the concepts of measurement error and its connection to sampling error, we examine the problem of measuring carbon dioxide (CO2) levels in the air.  "
   ]
  },
  {
   "cell_type": "markdown",
   "metadata": {},
   "source": [
    "*What is the level of CO2 in the air?* \n",
    "Carbon dioxide (CO2) is an important signal of global warming because it traps heat in the earth's atmosphere. Without CO2, earth would be impossibly cold, but it's a delicate balance. An increase in CO2 drives global warming and threatens our planet's climate. To address this question, CO2 concentrations have been monitored at [Mauna Loa Observatory](https://gml.noaa.gov/obop/mlo/) since 1958. These data offer a crucial benchmark for understanding the threat of global warming.  "
   ]
  },
  {
   "cell_type": "markdown",
   "metadata": {},
   "source": [
    "When thinking about the scope of the data, we consider the location and time of data collection. Scientists chose to measure CO2  on the volcano, Mauna Loa, because they wanted a place that could measure the background level of CO2 in the air. Mauna Loa is in the Pacific Ocean, far away from pollution sources, and the observatory is high up on the mountain surrounded by bare lava, away from plants that remove CO2 from the air. "
   ]
  },
  {
   "cell_type": "markdown",
   "metadata": {},
   "source": [
    "It's important the the instrument measuring CO2 is as accurate as possible. [Rigorous protocols](https://gml.noaa.gov/ccgg/about/co2_measurements.html) are in place to keep the instrument in top condition. For example, samples of air are routinely measured at Mauna Loa by different types of equipment, and other samples are sent off site to a laboratory for more accurate measurement. These measurements help determine the accuracy of the instrument. In addition, once an hour, a reference gas is measured for five minutes, and once a day two other reference gases are measured for fifteen minutes. These reference gases have known CO2 levels. A comparison of the measured concentrations against the known values helps identify bias in the instrument. "
   ]
  },
  {
   "cell_type": "markdown",
   "metadata": {},
   "source": [
    "While the CO2 in background air is relatively steady at Mauna Loa, the 5-minute average concentrations that are measured in any hour deviate from the hourly average. These deviations reflect the accuracy of the instrument and variation in airflow."
   ]
  },
  {
   "cell_type": "markdown",
   "metadata": {},
   "source": [
    "```{figure} figures/InstrumentConstruct.png\n",
    "---\n",
    "name: fig:MaunaLoaConstruct\n",
    "---\n",
    "This representation is typical of many measurement processes. The access frame represents the measurement process which reflects the accuracy of the instrument. The instrument is focused on the true value of interest (represented by the star). \n",
    "```"
   ]
  },
  {
   "cell_type": "markdown",
   "metadata": {},
   "source": [
    "The scope for data collection can be summarized as follows: at this particular location (high up on Mauna Loa) during a particular one hour time period, there is a true background concentration of CO2, this is our target (see {numref}`Figure %s <fig:MaunaLoaConstruct>`). The instrument takes measurements and reports 5-minute averages. These readings form a sample contained in the access frame, the dart board. If the instrument is working properly, the bullseye coincides with the target (the one hour average concentration of CO2) and the measurements are centered around the bullseye with deviations of about 0.30 ppm. The measurements of CO2 are the number of CO2 molecules per million molecules of dry air so the unit of measurement is parts per million of ppm for short.) "
   ]
  },
  {
   "cell_type": "markdown",
   "metadata": {},
   "source": [
    "We continue the dart board analogy in the next section to introduce the concepts of bias and variation, describe common ways in which a sample might not be representative of the population, and draw connections between accuracy and the protocol. "
   ]
  }
 ],
 "metadata": {
  "celltoolbar": "Tags",
  "kernelspec": {
   "display_name": "Python 3",
   "language": "python",
   "name": "python3"
  },
  "language_info": {
   "codemirror_mode": {
    "name": "ipython",
    "version": 3
   },
   "file_extension": ".py",
   "mimetype": "text/x-python",
   "name": "python",
   "nbconvert_exporter": "python",
   "pygments_lexer": "ipython3",
   "version": "3.9.4"
  }
 },
 "nbformat": 4,
 "nbformat_minor": 4
}
