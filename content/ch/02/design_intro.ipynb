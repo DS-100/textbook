{
 "cells": [
  {
   "cell_type": "markdown",
   "metadata": {},
   "source": [
    "# Generalizing from Data\n",
    "\n",
    "Data scientists use data to draw conclusions about our world. But our data are usually incomplete. For instance, election pollsters typically collect a few thousand people within their samples but there were over 150 million votes in the 2020 US election. How can we draw conclusions about large populations using small samples? In other words, **how do we generalize from data**?\n",
    "\n",
    "Here's a basic answer to this question: the more our sample \"looks\" like our population, the more confidence we have in generalizing from our sample. Making this judgement requires us to look closely at how our data were gathered before we write any code or fit any models. In this chapter, we'll explain what to look for in a sample to determine whether we can use it to generalize to a population. "
   ]
  }
 ],
 "metadata": {
  "kernelspec": {
   "display_name": "Python 3",
   "language": "python",
   "name": "python3"
  },
  "language_info": {
   "codemirror_mode": {
    "name": "ipython",
    "version": 3
   },
   "file_extension": ".py",
   "mimetype": "text/x-python",
   "name": "python",
   "nbconvert_exporter": "python",
   "pygments_lexer": "ipython3",
   "version": "3.8.3"
  }
 },
 "nbformat": 4,
 "nbformat_minor": 2
}
