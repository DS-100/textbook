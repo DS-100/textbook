{
 "cells": [
  {
   "cell_type": "markdown",
   "metadata": {},
   "source": [
    "## Simulating Random Assignment to Treatment"
   ]
  },
  {
   "cell_type": "code",
   "execution_count": 1,
   "metadata": {},
   "outputs": [],
   "source": [
    "import numpy as np\n",
    "import matplotlib.pyplot as plt\n",
    "import seaborn as sns\n",
    "\n",
    "# Default plot configurations\n",
    "%matplotlib inline\n",
    "plt.rcParams['figure.figsize'] = (16,8)\n",
    "plt.rcParams['figure.dpi'] = 150\n",
    "sns.set()\n",
    "\n",
    "from IPython.display import display, Latex, Markdown"
   ]
  },
  {
   "cell_type": "markdown",
   "metadata": {},
   "source": [
    "In the Johnson and Johnson trials, 43,738 people were enrolled.\n",
    "These participants were split into two groups at random.\n",
    "Half received the new vaccine, and the other half received a placebo, such as a saline solution.\n",
    "Then, everyone was followed for 28 days to see whether they contracted COVID-19.\n",
    "\n",
    "A lot of information was recorded on each patient, such as their age, race and sex, and in addition\n",
    "whether they caught COVID, including the severity of the xxx. After following the participants for 28\n",
    "days, they found 468 cases of COVID-19, of these 117 were in the treatment group and 351 in the control group.\n",
    "\n",
    "\n",
    "The random assignment to treatment and control, gives the scientists a framework to assess the effectiveness of the vaccine. \n",
    "The typical argument goes as follows.\n",
    "We begin with the assumption that the vaccine is ineffective meaning that  \n",
    "the 468 who caught COVID-19 and the remaining 43,270 who did not get sick, would have had the same results whether they received the vaccine or not.\n",
    "That is, the split of 117 sick people in treatment and 351 in control was just do to the chance process in\n",
    "assigning them to treatment or control.\n",
    "\n",
    "We can set up an urn model to reflect this position."
   ]
  },
  {
   "cell_type": "markdown",
   "metadata": {},
   "source": [
    "### The Urn Model\n",
    "\n",
    "Our urn has 43,738 marbles, one for each person in the clinical trial.\n",
    "Since there were 468 cases among all enrolled in the clinical trial,\n",
    "we label 468 marbles with a 1 and the remaining 43,270 with 0. \n",
    "We draw half the marbles, i.e., 21,869, from the urn to receive the treatment, and\n",
    "the half remaining in the urn receive the placebo, such as a saline solution. \n",
    "\n",
    "The results of the experiment are simply the count of the number of marbles marked 1 that were randomly drawn from the urn (the sum of the numbers on the marbles drawn). \n",
    "\n",
    "We can simulate this process to get a sense of how likely it would be under these assumptios to draw only 117 marbles marked 1 from the urn. Since we draw half of the marbles from the urn, we would expect about half of the 468, or 234, to be drawn. The simulation study gives us a measure of the variation that might result from the random assignbment process. \n"
   ]
  },
  {
   "cell_type": "markdown",
   "metadata": {},
   "source": [
    "### Simulation study\n",
    "\n",
    "We saw earlier that we can generate random outcomes according to the hyoergeometric probability distribution, rather than having to program the urn sampling from scratch.   "
   ]
  },
  {
   "cell_type": "code",
   "execution_count": 2,
   "metadata": {},
   "outputs": [],
   "source": [
    "simulations_fast = np.random.hypergeometric(ngood=468, nbad=43270, nsample=21869, size=500000)"
   ]
  },
  {
   "cell_type": "code",
   "execution_count": 3,
   "metadata": {},
   "outputs": [
    {
     "data": {
      "text/plain": [
       "234.009778"
      ]
     },
     "execution_count": 3,
     "metadata": {},
     "output_type": "execute_result"
    }
   ],
   "source": [
    "np.mean(simulations_fast)"
   ]
  },
  {
   "cell_type": "code",
   "execution_count": 4,
   "metadata": {},
   "outputs": [
    {
     "data": {
      "text/plain": [
       "Text(0.5, 0, 'Sample Cases')"
      ]
     },
     "execution_count": 4,
     "metadata": {},
     "output_type": "execute_result"
    },
    {
     "data": {
      "image/png": "[encoded data removed]",
      "text/plain": [
       "<Figure size 432x288 with 1 Axes>"
      ]
     },
     "metadata": {
      "needs_background": "light"
     },
     "output_type": "display_data"
    }
   ],
   "source": [
    "\n",
    "plt.hist(simulations_fast, bins=30)\n",
    "#plt.axvline(0.57, color='red', linestyle='dashed', linewidth=2)\n",
    "plt.title('Sampling Distribution')\n",
    "plt.ylabel('# of Simulations')\n",
    "plt.xlabel('Sample Cases')"
   ]
  },
  {
   "cell_type": "markdown",
   "metadata": {},
   "source": [
    "In our simulation, we repeated the process of random assignment to the treatment group 500,000 times.\n",
    "Indeed, we found that on average there were 234 cases of disease in the treatment group.\n",
    "\n",
    "The histogram of outcomes shows that not one of the 500,000 simulations had as 117 cases or fewer.\n",
    "It would be an extremely rare event to see so few cases of COVID-19, if in fact the vaccine was not effective. "
   ]
  },
  {
   "cell_type": "code",
   "execution_count": 5,
   "metadata": {},
   "outputs": [
    {
     "data": {
      "text/plain": [
       "10.76626854535572"
      ]
     },
     "execution_count": 5,
     "metadata": {},
     "output_type": "execute_result"
    }
   ],
   "source": [
    "np.std(simulations_fast)"
   ]
  },
  {
   "cell_type": "markdown",
   "metadata": {},
   "source": [
    "### Vaccine Efficacy\n",
    "\n",
    "\n",
    "\n",
    "VE is measured by comparing the risk of disease among vaccinated and unvaccinated persons: \n",
    "$$ \\frac{\\textrm{Risk among unvaccinated group} − \\textrm{Risk among vaccinated group}}\n",
    " {\\textrm{Risk among unvaccinated group}},$$ \n",
    "where, e.g., the risk among unvaccinated is the nuumber of unvaccinated who contracted COVID divided by the number of unvaccinated. \n",
    "\n",
    "Since the two groups had the same number in each, we can compute the efficacy as:"
   ]
  },
  {
   "cell_type": "code",
   "execution_count": 6,
   "metadata": {},
   "outputs": [
    {
     "data": {
      "text/plain": [
       "0.6666666666666666"
      ]
     },
     "execution_count": 6,
     "metadata": {},
     "output_type": "execute_result"
    }
   ],
   "source": [
    "(351 - 117) / 351"
   ]
  },
  {
   "cell_type": "markdown",
   "metadata": {},
   "source": [
    "The Centers for Disease Control set a standard for Vaccine Efficacy (VE) of 50% when deciding whether to adopt a new vaccine. This would be equivalent to how many cases in the treatment group?"
   ]
  },
  {
   "cell_type": "code",
   "execution_count": 7,
   "metadata": {},
   "outputs": [
    {
     "data": {
      "text/plain": [
       "156.0"
      ]
     },
     "execution_count": 7,
     "metadata": {},
     "output_type": "execute_result"
    }
   ],
   "source": [
    "468/3"
   ]
  },
  {
   "cell_type": "markdown",
   "metadata": {},
   "source": [
    "The simulation study found no instances of 156 or fewer cases in the treatment group."
   ]
  },
  {
   "cell_type": "code",
   "execution_count": 8,
   "metadata": {},
   "outputs": [
    {
     "data": {
      "text/plain": [
       "0"
      ]
     },
     "execution_count": 8,
     "metadata": {},
     "output_type": "execute_result"
    }
   ],
   "source": [
    "sum(np.array(simulations_fast) < 157)"
   ]
  },
  {
   "cell_type": "markdown",
   "metadata": {},
   "source": [
    "CONCLUSION"
   ]
  }
 ],
 "metadata": {
  "celltoolbar": "Create Assignment",
  "kernelspec": {
   "display_name": "Python 3",
   "language": "python",
   "name": "python3"
  },
  "language_info": {
   "codemirror_mode": {
    "name": "ipython",
    "version": 3
   },
   "file_extension": ".py",
   "mimetype": "text/x-python",
   "name": "python",
   "nbconvert_exporter": "python",
   "pygments_lexer": "ipython3",
   "version": "3.7.4"
  }
 },
 "nbformat": 4,
 "nbformat_minor": 2
}
