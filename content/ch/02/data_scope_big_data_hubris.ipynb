{
 "cells": [
  {
   "cell_type": "code",
   "execution_count": 2,
   "metadata": {
    "tags": [
     "remove-cell"
    ]
   },
   "outputs": [],
   "source": [
    "import sys\n",
    "import os\n",
    "if not any(path.endswith('textbook') for path in sys.path):\n",
    "    sys.path.append(os.path.abspath('../../..'))\n",
    "from textbook_utils import *"
   ]
  },
  {
   "cell_type": "markdown",
   "metadata": {},
   "source": [
    "(sec:scope_bigdata)=\n",
    "# Big Data and New Opportunities  \n",
    "\n",
    "The tremendous increase in openly available data has created new roles and opportunities in data science. For example, data journalists look for interesting stories in data much like how traditional beat reporters hunt for news stories. The data lifecycle for the data journalist begins with the search for existing data that might have an interesting story, rather than beginning with a research question and looking for how to collect new or use existing data to address the question.  "
   ]
  },
  {
   "cell_type": "markdown",
   "metadata": {},
   "source": [
    "Citizen science projects are another example. They engage many people (and instruments) in data collection. Collectively, these data are often made available to researchers who organize the project and often they are made available in repositories for the general public to further investigate. "
   ]
  },
  {
   "cell_type": "markdown",
   "metadata": {},
   "source": [
    "The availability of administrative and organizational data creates other opportunities. Researchers can link data collected from scientific studies with, say, medical data that have been collected for healthcare purposes; these administrative data that have been collected for reasons that don't directly stem from the question of interest can be useful in other settings. Such linkages can help data scientists expand the possibilities of their analyses and cross-check the quality of their data. In addition, found data can include digital traces, such as your web-browsing activity, posts on social media, and online network of friends and acquaintances, and can be quite complex. "
   ]
  },
  {
   "cell_type": "markdown",
   "metadata": {},
   "source": [
    "When we have large amounts of administrative data or expansive digital traces, it can be tempting to treat them as more definitive than data collected from traditional smaller research studies. We might even consider these large datasets as a replacement for scientific studies or essentially a census. This over-reach is referred to as the \"big data hubris\"[^Lazer14]. Data with a large scope does not mean that we can ignore foundational issues of how representative the data are, nor can we ignore issues with measurement, dependency, and reliability. One well-known example is the Google Flu Trends tracking system.  \n",
    "\n",
    "[^Lazer14]: [Lazer, Kennedy, King, and Vespignani. The parable of google flu: traps in big data analysis. Science, 343:1203––1205, 2014.](https://gking.harvard.edu/files/gking/files/0314policyforumff.pdf)\n",
    "\n",
    "[^Lazer15]: [Lazer. What we can learn from the epic failure of google flu trends. Wired, oct 2015.](https://www.wired.com/2015/10/can-learn-epic-failure-google-flu-trends/)"
   ]
  },
  {
   "cell_type": "markdown",
   "metadata": {},
   "source": [
    "## Example: Google Flu Trends\n",
    "\n",
    "Digital epidemiology, a new subfield of epidemiology, leverages data generated outside the public health system to study patterns of disease and health dynamics in populations[^nih].\n",
    "The Google Flu Trends (GFT) tracking system was one of the earliest examples of digital epidemiology.\n",
    "In 2007, researchers found that counting the searches people made for flu-related\n",
    "terms could accurately estimate the number of flu cases.\n",
    "This apparent success made headlines, and many researchers became excited about the possibilities of big data.\n",
    "However, GFT did not live up to expectations and was abandoned in 2015.\n",
    "\n",
    "What went wrong? After all, GFT used millions of digital traces from online queries for terms related to influenza to predict flu activity. Despite initial success, in the 2011–2012 flu season, Google's data scientists found that GFT was not a substitute for the more traditional surveillance reports of three-week old counts collected by the Centers for Disease Control (CDC) from laboratories across the United States. In comparison, GFT overestimated the CDC numbers for 100 out of 108 weeks (see below). Week after week, GFT came in too high for the cases of influenza, even though it was based on big data. \n",
    "\n",
    "[^nih]: https://www.ncbi.nlm.nih.gov/pmc/articles/PMC5754279/"
   ]
  },
  {
   "cell_type": "code",
   "execution_count": 29,
   "metadata": {
    "tags": [
     "remove-input"
    ]
   },
   "outputs": [
    {
     "data": {
      "application/vnd.plotly.v1+json": {
       "config": {
        "plotlyServerURL": "https://plot.ly"
       },
       "data": [
        {
         "hovertemplate": "week=%{x}<br>gflu=%{y}<extra></extra>",
         "legendgroup": "",
         "line": {
          "color": "#1F77B4",
          "dash": "solid"
         },
         "marker": {
          "symbol": "circle"
         },
         "mode": "lines",
         "name": "",
         "orientation": "v",
         "showlegend": false,
         "type": "scatter",
         "x": [
          303,
          304,
          305,
          306,
          307,
          308,
          309,
          310,
          311,
          312,
          313,
          314,
          315,
          316,
          317,
          318,
          319,
          320,
          321,
          322,
          323,
          324,
          325,
          326,
          327,
          328,
          329,
          330,
          331,
          332,
          333,
          334,
          335,
          336,
          337,
          338,
          339,
          340,
          341,
          342,
          343,
          344,
          345,
          346,
          347,
          348,
          349,
          350,
          351,
          352,
          353,
          354,
          355,
          356,
          357,
          358,
          359,
          360,
          361,
          362,
          363,
          364,
          365,
          366,
          367,
          368,
          369,
          370,
          371,
          372,
          373,
          374,
          375,
          376,
          377,
          378,
          379,
          380,
          381,
          382,
          383,
          384,
          385,
          386,
          387,
          388,
          389,
          390,
          391,
          392,
          393,
          394,
          395,
          396,
          397,
          398,
          399,
          400,
          401,
          402,
          403,
          404,
          405,
          406,
          407,
          408,
          409,
          410,
          411,
          412,
          413,
          414,
          415,
          416,
          417,
          418,
          419,
          420,
          421,
          422,
          423,
          424,
          425,
          426,
          427,
          428,
          429,
          430,
          431,
          432,
          433,
          434,
          435,
          436,
          437,
          438,
          439,
          440,
          441,
          442,
          443,
          444,
          445,
          446,
          447,
          448,
          449,
          450,
          451,
          452,
          453,
          454,
          455,
          456,
          457,
          458,
          459,
          460,
          461,
          462,
          463,
          464,
          465,
          466,
          467,
          468,
          469,
          470,
          471,
          472,
          473,
          474,
          475,
          476,
          477,
          478,
          479,
          480,
          481,
          482,
          483,
          484,
          485,
          486,
          487,
          488,
          489,
          490,
          491,
          492,
          493,
          494,
          495,
          496,
          497,
          498,
          499,
          500,
          501,
          502,
          503,
          504,
          505,
          506,
          507,
          508,
          509,
          510,
          511,
          512,
          513,
          514,
          515,
          516,
          517,
          518,
          519
         ],
         "xaxis": "x",
         "y": [
          1.278,
          1.257,
          1.324,
          1.276,
          1.302,
          1.4809999,
          1.915,
          2.4979999,
          3.3610001,
          3.79,
          4.2540002,
          4.9260001,
          5.4239998,
          6.0370002,
          7.112,
          6.533,
          5.7220001,
          4.4679999,
          3.5869999,
          2.655,
          2.5599999,
          2.1900001,
          2.0320001,
          2.0550001,
          2.1989999,
          2.1689999,
          1.916,
          1.86,
          1.8609999,
          1.91,
          1.944,
          2,
          1.9680001,
          1.888,
          1.793,
          1.619,
          1.511,
          1.35,
          1.257,
          1.123,
          1.11,
          1.149,
          1.0880001,
          1.0599999,
          1.0420001,
          0.98900002,
          0.96499997,
          0.85799998,
          0.80800003,
          0.78600001,
          0.76499999,
          0.75999999,
          0.75199997,
          0.73699999,
          0.74400002,
          0.75700003,
          0.75400001,
          0.80400002,
          0.84600002,
          0.92400002,
          1.03,
          1.187,
          1.3150001,
          1.335,
          1.4299999,
          1.421,
          1.566,
          1.596,
          1.6849999,
          1.758,
          1.864,
          1.661,
          1.96,
          1.943,
          2.1129999,
          2.5120001,
          2.9170001,
          2.9779999,
          2.7260001,
          3.089,
          3.5539999,
          3.6010001,
          3.7839999,
          4.0770001,
          3.5650001,
          2.98,
          2.4820001,
          2.076,
          1.776,
          1.589,
          1.405,
          1.228,
          1.126,
          1.0549999,
          1.013,
          0.96499997,
          0.93699998,
          0.88200003,
          0.85900003,
          0.81099999,
          0.74400002,
          0.71399999,
          0.65100002,
          0.639,
          0.62599999,
          0.61000001,
          0.60399997,
          0.597,
          0.616,
          0.634,
          0.71700001,
          0.82099998,
          0.95099998,
          1.127,
          1.3430001,
          1.521,
          1.587,
          1.64,
          1.608,
          1.638,
          1.788,
          1.7970001,
          1.88,
          1.785,
          2.033,
          1.9809999,
          2.0940001,
          2.3699999,
          2.7409999,
          2.8599999,
          2.5,
          2.411,
          2.4749999,
          2.507,
          2.348,
          2.5009999,
          2.71,
          2.5190001,
          2.586,
          2.556,
          2.1619999,
          1.936,
          1.801,
          1.799,
          1.785,
          1.729,
          1.625,
          1.651,
          1.624,
          1.5369999,
          1.428,
          1.329,
          1.265,
          1.136,
          0.96600002,
          0.91100001,
          0.93900001,
          0.89700001,
          0.86900002,
          0.86900002,
          0.889,
          0.977,
          1.095,
          1.199,
          1.374,
          1.543,
          1.737,
          1.895,
          2.0179999,
          2.325,
          2.391,
          2.369,
          2.349,
          2.4920001,
          2.9130001,
          3.04,
          3.641,
          4.427,
          5.132,
          6.3590002,
          7.9039998,
          8.618,
          10.112,
          10.555,
          9.408,
          7.2090001,
          5.5409999,
          4.5549998,
          4.2399998,
          3.7839999,
          3.5039999,
          3.2420001,
          2.8940001,
          2.6730001,
          2.4820001,
          2.1210001,
          1.747,
          1.681,
          1.534,
          1.438,
          1.286,
          1.165,
          1.149,
          1.063,
          1.024,
          0.99699998,
          0.96600002,
          0.92500001,
          0.94099998,
          0.90700001,
          0.95599997,
          0.986,
          0.99699998,
          1.04,
          1.084,
          1.146,
          1.1799999
         ],
         "yaxis": "y"
        },
        {
         "line": {
          "color": "green",
          "dash": "dash",
          "width": 2
         },
         "mode": "lines",
         "showlegend": false,
         "type": "scatter",
         "x": [
          303,
          304,
          305,
          306,
          307,
          308,
          309,
          310,
          311,
          312,
          313,
          314,
          315,
          316,
          317,
          318,
          319,
          320,
          321,
          322,
          323,
          324,
          325,
          326,
          327,
          328,
          329,
          330,
          331,
          332,
          333,
          334,
          335,
          336,
          337,
          338,
          339,
          340,
          341,
          342,
          343,
          344,
          345,
          346,
          347,
          348,
          349,
          350,
          351,
          352,
          353,
          354,
          355,
          356,
          357,
          358,
          359,
          360,
          361,
          362,
          363,
          364,
          365,
          366,
          367,
          368,
          369,
          370,
          371,
          372,
          373,
          374,
          375,
          376,
          377,
          378,
          379,
          380,
          381,
          382,
          383,
          384,
          385,
          386,
          387,
          388,
          389,
          390,
          391,
          392,
          393,
          394,
          395,
          396,
          397,
          398,
          399,
          400,
          401,
          402,
          403,
          404,
          405,
          406,
          407,
          408,
          409,
          410,
          411,
          412,
          413,
          414,
          415,
          416,
          417,
          418,
          419,
          420,
          421,
          422,
          423,
          424,
          425,
          426,
          427,
          428,
          429,
          430,
          431,
          432,
          433,
          434,
          435,
          436,
          437,
          438,
          439,
          440,
          441,
          442,
          443,
          444,
          445,
          446,
          447,
          448,
          449,
          450,
          451,
          452,
          453,
          454,
          455,
          456,
          457,
          458,
          459,
          460,
          461,
          462,
          463,
          464,
          465,
          466,
          467,
          468,
          469,
          470,
          471,
          472,
          473,
          474,
          475,
          476,
          477,
          478,
          479,
          480,
          481,
          482,
          483,
          484,
          485,
          486,
          487,
          488,
          489,
          490,
          491,
          492,
          493,
          494,
          495,
          496,
          497,
          498,
          499,
          500,
          501,
          502,
          503,
          504,
          505,
          506,
          507,
          508,
          509,
          510,
          511,
          512,
          513,
          514,
          515,
          516,
          517,
          518,
          519
         ],
         "y": [
          1.171418,
          1.1083462,
          1.1308453,
          0.90364265,
          1.0954088,
          1.0915837,
          1.2474653,
          1.9112091,
          2.7805552,
          3.770149,
          3.9846411,
          3.8595753,
          3.6124198,
          4.594739,
          6.3958921,
          7.4638004,
          7.5791593,
          6.6275835,
          5.3993139,
          3.2687597,
          2.5934174,
          3.1040971,
          2.092427,
          2.2741141,
          1.4257451,
          2.0439787,
          2.9451933,
          2.2960782,
          2.646729,
          2.4623682,
          2.50983,
          2.09182,
          1.4041854,
          1.6817359,
          2.0192127,
          1.6443734,
          1.7109058,
          1.3367567,
          1.2085593,
          1.4452069,
          0.87514842,
          1.4064697,
          1.1974628,
          0.82528001,
          1.0034255,
          1.2999759,
          0.98582166,
          0.88576764,
          1.2151282,
          0.74755394,
          0.90064698,
          0.99463844,
          0.77613366,
          0.9085235,
          0.79673129,
          0.78606182,
          0.85387063,
          0.87339491,
          1.0607207,
          1.2799884,
          0.91658193,
          1.0564606,
          1.164367,
          1.2959486,
          1.7451242,
          1.4860699,
          1.4137946,
          1.6580815,
          1.3840544,
          1.2660482,
          1.8963454,
          1.9192883,
          1.9883851,
          2.5159605,
          2.1140089,
          2.2770658,
          1.9846022,
          2.8221402,
          3.3696156,
          2.8502071,
          3.7543252,
          4.1681404,
          4.8100095,
          4.2977562,
          3.3488991,
          4.0479169,
          3.2488174,
          2.2061303,
          2.1420743,
          1.8031404,
          1.3742471,
          1.4762274,
          1.2263614,
          1.4285085,
          1.3640238,
          0.79795176,
          1.0244337,
          1.2009552,
          1.020745,
          0.83253735,
          1.1570845,
          0.81167519,
          0.75051141,
          0.80043656,
          0.76971471,
          0.78403252,
          0.56783646,
          0.60842013,
          0.67322075,
          0.56113672,
          0.92830461,
          1.0543029,
          1.0278047,
          0.93351346,
          1.0702095,
          1.3536971,
          1.5346191,
          1.4532796,
          1.5246794,
          1.5008693,
          1.4576732,
          1.3479267,
          1.8122422,
          1.713089,
          1.7853081,
          2.0980618,
          1.7496631,
          2.0186653,
          1.3021564,
          1.3307593,
          2.5598328,
          2.5387111,
          2.2713671,
          2.3135726,
          2.2919707,
          1.9710411,
          1.4517988,
          2.0863514,
          2.2667179,
          1.9735357,
          1.8584507,
          2.1775451,
          1.4695228,
          1.5568247,
          1.3910998,
          1.5309417,
          1.3187002,
          0.95436966,
          1.3601385,
          1.3285744,
          1.129094,
          1.0022913,
          1.1658264,
          0.93309826,
          0.97563767,
          1.0792313,
          1.018453,
          0.99078494,
          0.86922985,
          0.81096345,
          0.92309928,
          1.0521888,
          1.0041145,
          1.0609448,
          1.4007658,
          1.1638627,
          1.3245299,
          1.4585152,
          1.5891006,
          1.6101794,
          1.4177721,
          1.6531293,
          1.4363006,
          1.4338268,
          1.7947485,
          2.0537708,
          2.0575485,
          2.9851675,
          2.5164716,
          3.5299871,
          3.2611384,
          3.9938788,
          6.9712896,
          4.2877822,
          4.1184835,
          4.6093616,
          3.9192736,
          2.9373868,
          2.110666,
          2.3714867,
          2.2130618,
          2.0035191,
          2.1618235,
          1.8759639,
          1.6148596,
          1.5638528,
          1.3012533,
          1.3516425,
          1.2337075,
          0.93166322,
          0.92781031,
          1.1144128,
          1.1074936,
          0.80061609,
          0.95099092,
          0.84016639,
          0.83907223,
          0.90041411,
          0.73570663,
          0.78248203,
          0.66062176,
          0.73382455,
          0.75467545,
          0.7614246,
          0.96807575,
          1.1112039,
          1.0119747
         ]
        },
        {
         "line": {
          "color": "purple",
          "dash": "dot",
          "width": 2
         },
         "mode": "lines",
         "showlegend": false,
         "type": "scatter",
         "x": [
          303,
          304,
          305,
          306,
          307,
          308,
          309,
          310,
          311,
          312,
          313,
          314,
          315,
          316,
          317,
          318,
          319,
          320,
          321,
          322,
          323,
          324,
          325,
          326,
          327,
          328,
          329,
          330,
          331,
          332,
          333,
          334,
          335,
          336,
          337,
          338,
          339,
          340,
          341,
          342,
          343,
          344,
          345,
          346,
          347,
          348,
          349,
          350,
          351,
          352,
          353,
          354,
          355,
          356,
          357,
          358,
          359,
          360,
          361,
          362,
          363,
          364,
          365,
          366,
          367,
          368,
          369,
          370,
          371,
          372,
          373,
          374,
          375,
          376,
          377,
          378,
          379,
          380,
          381,
          382,
          383,
          384,
          385,
          386,
          387,
          388,
          389,
          390,
          391,
          392,
          393,
          394,
          395,
          396,
          397,
          398,
          399,
          400,
          401,
          402,
          403,
          404,
          405,
          406,
          407,
          408,
          409,
          410,
          411,
          412,
          413,
          414,
          415,
          416,
          417,
          418,
          419,
          420,
          421,
          422,
          423,
          424,
          425,
          426,
          427,
          428,
          429,
          430,
          431,
          432,
          433,
          434,
          435,
          436,
          437,
          438,
          439,
          440,
          441,
          442,
          443,
          444,
          445,
          446,
          447,
          448,
          449,
          450,
          451,
          452,
          453,
          454,
          455,
          456,
          457,
          458,
          459,
          460,
          461,
          462,
          463,
          464,
          465,
          466,
          467,
          468,
          469,
          470,
          471,
          472,
          473,
          474,
          475,
          476,
          477,
          478,
          479,
          480,
          481,
          482,
          483,
          484,
          485,
          486,
          487,
          488,
          489,
          490,
          491,
          492,
          493,
          494,
          495,
          496,
          497,
          498,
          499,
          500,
          501,
          502,
          503,
          504,
          505,
          506,
          507,
          508,
          509,
          510,
          511,
          512,
          513,
          514,
          515,
          516,
          517,
          518,
          519
         ],
         "y": [
          1.23761,
          1.2296479,
          1.2824886,
          1.1106772,
          1.1290922,
          1.3016713,
          1.7539965,
          2.4758599,
          3.374625,
          4.1775184,
          4.4113564,
          4.9228292,
          4.9245415,
          5.5906243,
          7.3860154,
          7.2550654,
          6.124373,
          5.4040666,
          4.6676273,
          3.328387,
          2.9093368,
          2.787416,
          2.0380719,
          2.4550006,
          2.3545759,
          2.378211,
          2.4499755,
          2.1231856,
          2.2640908,
          2.144047,
          2.2468259,
          2.0665271,
          1.8173436,
          1.8939068,
          1.9448748,
          1.660338,
          1.5274847,
          1.3418695,
          1.2355965,
          1.1883669,
          1.0072777,
          1.3069925,
          1.1878111,
          1.0155258,
          1.010646,
          1.1596334,
          1.0349913,
          0.84356159,
          0.90774047,
          0.83651537,
          0.87946039,
          0.90410256,
          0.8347556,
          0.83605748,
          0.782718,
          0.78695947,
          0.78995627,
          0.82448322,
          0.97203529,
          1.112046,
          0.93657207,
          1.0598218,
          1.1484942,
          1.1339539,
          1.3631942,
          1.3429847,
          1.3265136,
          1.5600117,
          1.5638494,
          1.5747298,
          1.9454702,
          1.6763725,
          1.7976321,
          2.0141637,
          1.9478424,
          2.6828787,
          2.9712596,
          3.0686076,
          3.0253792,
          3.184396,
          4.0656047,
          4.0444188,
          4.398109,
          4.6126294,
          3.7815056,
          3.3915517,
          2.9827564,
          2.387172,
          2.0729294,
          1.8766692,
          1.5806473,
          1.3650028,
          1.2118539,
          1.2749646,
          1.2606399,
          1.0539271,
          1.0074966,
          1.0990185,
          1.0251664,
          0.85862255,
          0.90364271,
          0.81560743,
          0.74574542,
          0.73222905,
          0.73856729,
          0.70937115,
          0.59818536,
          0.57825321,
          0.60788023,
          0.5651238,
          0.77136534,
          0.94633812,
          0.92492616,
          0.98045528,
          1.1472502,
          1.3522742,
          1.3965435,
          1.3912328,
          1.2999481,
          1.379691,
          1.6471568,
          1.6042122,
          1.8409454,
          1.7077945,
          1.7427394,
          1.7407361,
          1.6676893,
          2.2825158,
          2.3258638,
          2.1195538,
          2.1919987,
          2.0717504,
          2.1709278,
          2.1837933,
          1.9985831,
          1.9170598,
          2.1448641,
          2.2648623,
          2.3368652,
          2.3491697,
          1.760697,
          1.7155658,
          1.6115284,
          1.6720059,
          1.6403425,
          1.5922405,
          1.3988301,
          1.3101454,
          1.4215497,
          1.3784425,
          1.2141843,
          1.0315106,
          1.0870309,
          0.96231306,
          0.84136128,
          0.91241556,
          1.0349711,
          1.0058506,
          0.88222343,
          0.8490451,
          0.9201861,
          1.0520787,
          1.14115,
          1.1838119,
          1.3174491,
          1.3273648,
          1.4377342,
          1.5563377,
          1.6347649,
          1.8990945,
          1.7478701,
          1.646062,
          1.5931162,
          1.7368813,
          2.3707273,
          2.506887,
          2.6070104,
          3.5930114,
          3.8114505,
          5.0003319,
          5.9039989,
          6.0353703,
          7.8542237,
          6.1549358,
          2.8658228,
          1.148688,
          1.5008281,
          2.3254097,
          2.5106514,
          2.7911901,
          2.2645698,
          2.1385045,
          2.0264239,
          1.8300114,
          1.7028997,
          1.4246521,
          1.0435148,
          1.2556125,
          1.3007541,
          1.0086646,
          0.89990669,
          1.000537,
          1.1118129,
          0.85035872,
          0.89299792,
          0.87895638,
          0.87862754,
          0.87574363,
          0.76949698,
          0.79660481,
          0.70342517,
          0.80110246,
          0.75854665,
          0.75959027,
          0.93035978,
          1.0350267,
          0.92335767
         ]
        }
       ],
       "layout": {
        "height": 300,
        "legend": {
         "tracegroupgap": 0
        },
        "template": {
         "data": {
          "bar": [
           {
            "error_x": {
             "color": "rgb(36,36,36)"
            },
            "error_y": {
             "color": "rgb(36,36,36)"
            },
            "marker": {
             "line": {
              "color": "white",
              "width": 0.5
             },
             "pattern": {
              "fillmode": "overlay",
              "size": 10,
              "solidity": 0.2
             }
            },
            "type": "bar"
           }
          ],
          "barpolar": [
           {
            "marker": {
             "line": {
              "color": "white",
              "width": 0.5
             },
             "pattern": {
              "fillmode": "overlay",
              "size": 10,
              "solidity": 0.2
             }
            },
            "type": "barpolar"
           }
          ],
          "carpet": [
           {
            "aaxis": {
             "endlinecolor": "rgb(36,36,36)",
             "gridcolor": "white",
             "linecolor": "white",
             "minorgridcolor": "white",
             "startlinecolor": "rgb(36,36,36)"
            },
            "baxis": {
             "endlinecolor": "rgb(36,36,36)",
             "gridcolor": "white",
             "linecolor": "white",
             "minorgridcolor": "white",
             "startlinecolor": "rgb(36,36,36)"
            },
            "type": "carpet"
           }
          ],
          "choropleth": [
           {
            "colorbar": {
             "outlinewidth": 1,
             "tickcolor": "rgb(36,36,36)",
             "ticks": "outside"
            },
            "type": "choropleth"
           }
          ],
          "contour": [
           {
            "colorbar": {
             "outlinewidth": 1,
             "tickcolor": "rgb(36,36,36)",
             "ticks": "outside"
            },
            "colorscale": [
             [
              0,
              "#440154"
             ],
             [
              0.1111111111111111,
              "#482878"
             ],
             [
              0.2222222222222222,
              "#3e4989"
             ],
             [
              0.3333333333333333,
              "#31688e"
             ],
             [
              0.4444444444444444,
              "#26828e"
             ],
             [
              0.5555555555555556,
              "#1f9e89"
             ],
             [
              0.6666666666666666,
              "#35b779"
             ],
             [
              0.7777777777777778,
              "#6ece58"
             ],
             [
              0.8888888888888888,
              "#b5de2b"
             ],
             [
              1,
              "#fde725"
             ]
            ],
            "type": "contour"
           }
          ],
          "contourcarpet": [
           {
            "colorbar": {
             "outlinewidth": 1,
             "tickcolor": "rgb(36,36,36)",
             "ticks": "outside"
            },
            "type": "contourcarpet"
           }
          ],
          "heatmap": [
           {
            "colorbar": {
             "outlinewidth": 1,
             "tickcolor": "rgb(36,36,36)",
             "ticks": "outside"
            },
            "colorscale": [
             [
              0,
              "#440154"
             ],
             [
              0.1111111111111111,
              "#482878"
             ],
             [
              0.2222222222222222,
              "#3e4989"
             ],
             [
              0.3333333333333333,
              "#31688e"
             ],
             [
              0.4444444444444444,
              "#26828e"
             ],
             [
              0.5555555555555556,
              "#1f9e89"
             ],
             [
              0.6666666666666666,
              "#35b779"
             ],
             [
              0.7777777777777778,
              "#6ece58"
             ],
             [
              0.8888888888888888,
              "#b5de2b"
             ],
             [
              1,
              "#fde725"
             ]
            ],
            "type": "heatmap"
           }
          ],
          "heatmapgl": [
           {
            "colorbar": {
             "outlinewidth": 1,
             "tickcolor": "rgb(36,36,36)",
             "ticks": "outside"
            },
            "colorscale": [
             [
              0,
              "#440154"
             ],
             [
              0.1111111111111111,
              "#482878"
             ],
             [
              0.2222222222222222,
              "#3e4989"
             ],
             [
              0.3333333333333333,
              "#31688e"
             ],
             [
              0.4444444444444444,
              "#26828e"
             ],
             [
              0.5555555555555556,
              "#1f9e89"
             ],
             [
              0.6666666666666666,
              "#35b779"
             ],
             [
              0.7777777777777778,
              "#6ece58"
             ],
             [
              0.8888888888888888,
              "#b5de2b"
             ],
             [
              1,
              "#fde725"
             ]
            ],
            "type": "heatmapgl"
           }
          ],
          "histogram": [
           {
            "marker": {
             "line": {
              "color": "white",
              "width": 0.6
             }
            },
            "type": "histogram"
           }
          ],
          "histogram2d": [
           {
            "colorbar": {
             "outlinewidth": 1,
             "tickcolor": "rgb(36,36,36)",
             "ticks": "outside"
            },
            "colorscale": [
             [
              0,
              "#440154"
             ],
             [
              0.1111111111111111,
              "#482878"
             ],
             [
              0.2222222222222222,
              "#3e4989"
             ],
             [
              0.3333333333333333,
              "#31688e"
             ],
             [
              0.4444444444444444,
              "#26828e"
             ],
             [
              0.5555555555555556,
              "#1f9e89"
             ],
             [
              0.6666666666666666,
              "#35b779"
             ],
             [
              0.7777777777777778,
              "#6ece58"
             ],
             [
              0.8888888888888888,
              "#b5de2b"
             ],
             [
              1,
              "#fde725"
             ]
            ],
            "type": "histogram2d"
           }
          ],
          "histogram2dcontour": [
           {
            "colorbar": {
             "outlinewidth": 1,
             "tickcolor": "rgb(36,36,36)",
             "ticks": "outside"
            },
            "colorscale": [
             [
              0,
              "#440154"
             ],
             [
              0.1111111111111111,
              "#482878"
             ],
             [
              0.2222222222222222,
              "#3e4989"
             ],
             [
              0.3333333333333333,
              "#31688e"
             ],
             [
              0.4444444444444444,
              "#26828e"
             ],
             [
              0.5555555555555556,
              "#1f9e89"
             ],
             [
              0.6666666666666666,
              "#35b779"
             ],
             [
              0.7777777777777778,
              "#6ece58"
             ],
             [
              0.8888888888888888,
              "#b5de2b"
             ],
             [
              1,
              "#fde725"
             ]
            ],
            "type": "histogram2dcontour"
           }
          ],
          "mesh3d": [
           {
            "colorbar": {
             "outlinewidth": 1,
             "tickcolor": "rgb(36,36,36)",
             "ticks": "outside"
            },
            "type": "mesh3d"
           }
          ],
          "parcoords": [
           {
            "line": {
             "colorbar": {
              "outlinewidth": 1,
              "tickcolor": "rgb(36,36,36)",
              "ticks": "outside"
             }
            },
            "type": "parcoords"
           }
          ],
          "pie": [
           {
            "automargin": true,
            "type": "pie"
           }
          ],
          "scatter": [
           {
            "marker": {
             "colorbar": {
              "outlinewidth": 1,
              "tickcolor": "rgb(36,36,36)",
              "ticks": "outside"
             }
            },
            "type": "scatter"
           }
          ],
          "scatter3d": [
           {
            "line": {
             "colorbar": {
              "outlinewidth": 1,
              "tickcolor": "rgb(36,36,36)",
              "ticks": "outside"
             }
            },
            "marker": {
             "colorbar": {
              "outlinewidth": 1,
              "tickcolor": "rgb(36,36,36)",
              "ticks": "outside"
             }
            },
            "type": "scatter3d"
           }
          ],
          "scattercarpet": [
           {
            "marker": {
             "colorbar": {
              "outlinewidth": 1,
              "tickcolor": "rgb(36,36,36)",
              "ticks": "outside"
             }
            },
            "type": "scattercarpet"
           }
          ],
          "scattergeo": [
           {
            "marker": {
             "colorbar": {
              "outlinewidth": 1,
              "tickcolor": "rgb(36,36,36)",
              "ticks": "outside"
             }
            },
            "type": "scattergeo"
           }
          ],
          "scattergl": [
           {
            "marker": {
             "colorbar": {
              "outlinewidth": 1,
              "tickcolor": "rgb(36,36,36)",
              "ticks": "outside"
             }
            },
            "type": "scattergl"
           }
          ],
          "scattermapbox": [
           {
            "marker": {
             "colorbar": {
              "outlinewidth": 1,
              "tickcolor": "rgb(36,36,36)",
              "ticks": "outside"
             }
            },
            "type": "scattermapbox"
           }
          ],
          "scatterpolar": [
           {
            "marker": {
             "colorbar": {
              "outlinewidth": 1,
              "tickcolor": "rgb(36,36,36)",
              "ticks": "outside"
             }
            },
            "type": "scatterpolar"
           }
          ],
          "scatterpolargl": [
           {
            "marker": {
             "colorbar": {
              "outlinewidth": 1,
              "tickcolor": "rgb(36,36,36)",
              "ticks": "outside"
             }
            },
            "type": "scatterpolargl"
           }
          ],
          "scatterternary": [
           {
            "marker": {
             "colorbar": {
              "outlinewidth": 1,
              "tickcolor": "rgb(36,36,36)",
              "ticks": "outside"
             }
            },
            "type": "scatterternary"
           }
          ],
          "surface": [
           {
            "colorbar": {
             "outlinewidth": 1,
             "tickcolor": "rgb(36,36,36)",
             "ticks": "outside"
            },
            "colorscale": [
             [
              0,
              "#440154"
             ],
             [
              0.1111111111111111,
              "#482878"
             ],
             [
              0.2222222222222222,
              "#3e4989"
             ],
             [
              0.3333333333333333,
              "#31688e"
             ],
             [
              0.4444444444444444,
              "#26828e"
             ],
             [
              0.5555555555555556,
              "#1f9e89"
             ],
             [
              0.6666666666666666,
              "#35b779"
             ],
             [
              0.7777777777777778,
              "#6ece58"
             ],
             [
              0.8888888888888888,
              "#b5de2b"
             ],
             [
              1,
              "#fde725"
             ]
            ],
            "type": "surface"
           }
          ],
          "table": [
           {
            "cells": {
             "fill": {
              "color": "rgb(237,237,237)"
             },
             "line": {
              "color": "white"
             }
            },
            "header": {
             "fill": {
              "color": "rgb(217,217,217)"
             },
             "line": {
              "color": "white"
             }
            },
            "type": "table"
           }
          ]
         },
         "layout": {
          "annotationdefaults": {
           "arrowhead": 0,
           "arrowwidth": 1
          },
          "autosize": true,
          "autotypenumbers": "strict",
          "coloraxis": {
           "colorbar": {
            "outlinewidth": 1,
            "tickcolor": "rgb(36,36,36)",
            "ticks": "outside"
           }
          },
          "colorscale": {
           "diverging": [
            [
             0,
             "rgb(103,0,31)"
            ],
            [
             0.1,
             "rgb(178,24,43)"
            ],
            [
             0.2,
             "rgb(214,96,77)"
            ],
            [
             0.3,
             "rgb(244,165,130)"
            ],
            [
             0.4,
             "rgb(253,219,199)"
            ],
            [
             0.5,
             "rgb(247,247,247)"
            ],
            [
             0.6,
             "rgb(209,229,240)"
            ],
            [
             0.7,
             "rgb(146,197,222)"
            ],
            [
             0.8,
             "rgb(67,147,195)"
            ],
            [
             0.9,
             "rgb(33,102,172)"
            ],
            [
             1,
             "rgb(5,48,97)"
            ]
           ],
           "sequential": [
            [
             0,
             "#440154"
            ],
            [
             0.1111111111111111,
             "#482878"
            ],
            [
             0.2222222222222222,
             "#3e4989"
            ],
            [
             0.3333333333333333,
             "#31688e"
            ],
            [
             0.4444444444444444,
             "#26828e"
            ],
            [
             0.5555555555555556,
             "#1f9e89"
            ],
            [
             0.6666666666666666,
             "#35b779"
            ],
            [
             0.7777777777777778,
             "#6ece58"
            ],
            [
             0.8888888888888888,
             "#b5de2b"
            ],
            [
             1,
             "#fde725"
            ]
           ],
           "sequentialminus": [
            [
             0,
             "#440154"
            ],
            [
             0.1111111111111111,
             "#482878"
            ],
            [
             0.2222222222222222,
             "#3e4989"
            ],
            [
             0.3333333333333333,
             "#31688e"
            ],
            [
             0.4444444444444444,
             "#26828e"
            ],
            [
             0.5555555555555556,
             "#1f9e89"
            ],
            [
             0.6666666666666666,
             "#35b779"
            ],
            [
             0.7777777777777778,
             "#6ece58"
            ],
            [
             0.8888888888888888,
             "#b5de2b"
            ],
            [
             1,
             "#fde725"
            ]
           ]
          },
          "colorway": [
           "#1F77B4",
           "#FF7F0E",
           "#2CA02C",
           "#D62728",
           "#9467BD",
           "#8C564B",
           "#E377C2",
           "#7F7F7F",
           "#BCBD22",
           "#17BECF"
          ],
          "font": {
           "color": "rgb(36,36,36)"
          },
          "geo": {
           "bgcolor": "white",
           "lakecolor": "white",
           "landcolor": "white",
           "showlakes": true,
           "showland": true,
           "subunitcolor": "white"
          },
          "height": 250,
          "hoverlabel": {
           "align": "left"
          },
          "hovermode": "closest",
          "mapbox": {
           "style": "light"
          },
          "margin": {
           "b": 10,
           "l": 10,
           "r": 10,
           "t": 10
          },
          "paper_bgcolor": "white",
          "plot_bgcolor": "white",
          "polar": {
           "angularaxis": {
            "gridcolor": "rgb(232,232,232)",
            "linecolor": "rgb(36,36,36)",
            "showgrid": false,
            "showline": true,
            "ticks": "outside"
           },
           "bgcolor": "white",
           "radialaxis": {
            "gridcolor": "rgb(232,232,232)",
            "linecolor": "rgb(36,36,36)",
            "showgrid": false,
            "showline": true,
            "ticks": "outside"
           }
          },
          "scene": {
           "xaxis": {
            "backgroundcolor": "white",
            "gridcolor": "rgb(232,232,232)",
            "gridwidth": 2,
            "linecolor": "rgb(36,36,36)",
            "showbackground": true,
            "showgrid": false,
            "showline": true,
            "ticks": "outside",
            "zeroline": false,
            "zerolinecolor": "rgb(36,36,36)"
           },
           "yaxis": {
            "backgroundcolor": "white",
            "gridcolor": "rgb(232,232,232)",
            "gridwidth": 2,
            "linecolor": "rgb(36,36,36)",
            "showbackground": true,
            "showgrid": false,
            "showline": true,
            "ticks": "outside",
            "zeroline": false,
            "zerolinecolor": "rgb(36,36,36)"
           },
           "zaxis": {
            "backgroundcolor": "white",
            "gridcolor": "rgb(232,232,232)",
            "gridwidth": 2,
            "linecolor": "rgb(36,36,36)",
            "showbackground": true,
            "showgrid": false,
            "showline": true,
            "ticks": "outside",
            "zeroline": false,
            "zerolinecolor": "rgb(36,36,36)"
           }
          },
          "shapedefaults": {
           "fillcolor": "black",
           "line": {
            "width": 0
           },
           "opacity": 0.3
          },
          "ternary": {
           "aaxis": {
            "gridcolor": "rgb(232,232,232)",
            "linecolor": "rgb(36,36,36)",
            "showgrid": false,
            "showline": true,
            "ticks": "outside"
           },
           "baxis": {
            "gridcolor": "rgb(232,232,232)",
            "linecolor": "rgb(36,36,36)",
            "showgrid": false,
            "showline": true,
            "ticks": "outside"
           },
           "bgcolor": "white",
           "caxis": {
            "gridcolor": "rgb(232,232,232)",
            "linecolor": "rgb(36,36,36)",
            "showgrid": false,
            "showline": true,
            "ticks": "outside"
           }
          },
          "title": {
           "x": 0.5,
           "xanchor": "center"
          },
          "width": 350,
          "xaxis": {
           "automargin": true,
           "gridcolor": "rgb(232,232,232)",
           "linecolor": "rgb(36,36,36)",
           "showgrid": true,
           "showline": true,
           "ticks": "outside",
           "title": {
            "standoff": 15
           },
           "zeroline": false,
           "zerolinecolor": "rgb(36,36,36)"
          },
          "yaxis": {
           "automargin": true,
           "gridcolor": "rgb(232,232,232)",
           "linecolor": "rgb(36,36,36)",
           "showgrid": true,
           "showline": true,
           "ticks": "outside",
           "title": {
            "standoff": 15
           },
           "zeroline": false,
           "zerolinecolor": "rgb(36,36,36)"
          }
         }
        },
        "width": 550,
        "xaxis": {
         "anchor": "y",
         "autorange": true,
         "domain": [
          0,
          1
         ],
         "range": [
          303,
          519
         ],
         "title": {
          "text": "week"
         },
         "type": "linear"
        },
        "yaxis": {
         "anchor": "x",
         "autorange": true,
         "domain": [
          0,
          1
         ],
         "range": [
          0.005922093333333267,
          11.110214626666666
         ],
         "title": {
          "text": "Percent Influenza"
         },
         "type": "linear"
        }
       }
      },
      "image/png": "[encoded data removed]",
      "image/svg+xml": [
       "<svg class=\"main-svg\" xmlns=\"http://www.w3.org/2000/svg\" xmlns:xlink=\"http://www.w3.org/1999/xlink\" width=\"550\" height=\"300\" style=\"\" viewBox=\"0 0 550 300\"><rect x=\"0\" y=\"0\" width=\"550\" height=\"300\" style=\"fill: rgb(255, 255, 255); fill-opacity: 1;\"/><defs id=\"defs-52a52d\"><g class=\"clips\"><clipPath id=\"clip52a52dxyplot\" class=\"plotclip\"><rect width=\"483\" height=\"231\"/></clipPath><clipPath class=\"axesclip\" id=\"clip52a52dx\"><rect x=\"57\" y=\"0\" width=\"483\" height=\"300\"/></clipPath><clipPath class=\"axesclip\" id=\"clip52a52dy\"><rect x=\"0\" y=\"10\" width=\"550\" height=\"231\"/></clipPath><clipPath class=\"axesclip\" id=\"clip52a52dxy\"><rect x=\"57\" y=\"10\" width=\"483\" height=\"231\"/></clipPath></g><g class=\"gradients\"/><g class=\"patterns\"/></defs><g class=\"bglayer\"/><g class=\"layer-below\"><g class=\"imagelayer\"/><g class=\"shapelayer\"/></g><g class=\"cartesianlayer\"><g class=\"subplot xy\"><g class=\"layer-subplot\"><g class=\"shapelayer\"/><g class=\"imagelayer\"/></g><g class=\"gridlayer\"><g class=\"x\"><path class=\"xgrid crisp\" transform=\"translate(162.1,0)\" d=\"M0,10v231\" style=\"stroke: rgb(232, 232, 232); stroke-opacity: 1; stroke-width: 1px;\"/><path class=\"xgrid crisp\" transform=\"translate(273.9,0)\" d=\"M0,10v231\" style=\"stroke: rgb(232, 232, 232); stroke-opacity: 1; stroke-width: 1px;\"/><path class=\"xgrid crisp\" transform=\"translate(385.71,0)\" d=\"M0,10v231\" style=\"stroke: rgb(232, 232, 232); stroke-opacity: 1; stroke-width: 1px;\"/><path class=\"xgrid crisp\" transform=\"translate(497.51,0)\" d=\"M0,10v231\" style=\"stroke: rgb(232, 232, 232); stroke-opacity: 1; stroke-width: 1px;\"/></g><g class=\"y\"><path class=\"ygrid crisp\" transform=\"translate(0,199.52)\" d=\"M57,0h483\" style=\"stroke: rgb(232, 232, 232); stroke-opacity: 1; stroke-width: 1px;\"/><path class=\"ygrid crisp\" transform=\"translate(0,157.91)\" d=\"M57,0h483\" style=\"stroke: rgb(232, 232, 232); stroke-opacity: 1; stroke-width: 1px;\"/><path class=\"ygrid crisp\" transform=\"translate(0,116.31)\" d=\"M57,0h483\" style=\"stroke: rgb(232, 232, 232); stroke-opacity: 1; stroke-width: 1px;\"/><path class=\"ygrid crisp\" transform=\"translate(0,74.7)\" d=\"M57,0h483\" style=\"stroke: rgb(232, 232, 232); stroke-opacity: 1; stroke-width: 1px;\"/><path class=\"ygrid crisp\" transform=\"translate(0,33.1)\" d=\"M57,0h483\" style=\"stroke: rgb(232, 232, 232); stroke-opacity: 1; stroke-width: 1px;\"/></g></g><g class=\"zerolinelayer\"/><path class=\"xlines-below\"/><path class=\"ylines-below\"/><g class=\"overlines-below\"/><g class=\"xaxislayer-below\"/><g class=\"yaxislayer-below\"/><g class=\"overaxes-below\"/><g class=\"plot\" transform=\"translate(57,10)\" clip-path=\"url(#clip52a52dxyplot)\"><g class=\"scatterlayer mlayer\"><g class=\"trace scatter trace1f4a43\" style=\"stroke-miterlimit: 2; opacity: 1;\"><g class=\"fills\"/><g class=\"errorbars\"/><g class=\"lines\"><path class=\"js-line\" d=\"M0,204.54L2.24,204.97L4.47,203.58L6.71,204.58L8.94,204.04L11.18,200.31L13.42,191.29L15.65,179.16L17.89,161.21L22.36,142.63L24.6,128.65L29.07,105.54L31.31,83.17L33.54,95.22L35.78,112.09L40.25,156.5L42.49,175.89L44.72,177.87L46.96,185.57L49.19,188.85L51.43,188.37L53.67,185.38L55.9,186L58.14,191.27L60.38,192.43L62.61,192.41L64.85,191.39L69.32,189.52L71.56,190.18L76.03,193.82L78.26,197.44L80.5,199.69L82.74,203.04L87.21,207.76L89.44,208.03L91.68,207.22L93.92,208.49L102.86,211.05L105.1,213.27L109.57,214.77L111.81,215.21L125.22,215.44L127.46,214.4L131.93,211.9L134.17,209.7L138.64,203.77L140.88,203.35L143.11,201.38L145.35,201.56L147.58,198.55L149.82,197.92L156.53,192.35L158.76,196.57L161,190.35L163.24,190.7L165.47,187.17L167.71,178.87L169.94,170.44L172.18,169.17L174.42,174.41L176.65,166.86L178.89,157.19L181.13,156.21L183.36,152.41L185.6,146.31L194.54,187.94L196.78,194.18L203.49,205.58L205.72,207.7L210.19,210.05L212.43,211.05L219.14,213.25L221.38,214.25L228.08,217.58L230.32,217.83L239.26,218.7L241.5,218.31L243.74,217.93L245.97,216.21L250.44,211.34L252.68,207.68L257.15,199.48L259.39,198.11L261.63,197.01L263.86,197.67L266.1,197.05L268.33,193.93L270.57,193.74L272.81,192.01L275.04,193.99L277.28,188.83L279.51,189.91L281.75,187.56L286.22,174.1L288.46,171.63L290.69,179.12L292.93,180.97L297.4,178.97L299.64,182.28L304.11,174.75L306.35,178.72L308.58,177.33L310.82,177.95L313.06,186.15L315.29,190.85L317.53,193.66L319.76,193.7L322,193.99L324.24,195.16L326.47,197.32L328.71,196.78L330.94,197.34L333.18,199.15L337.65,203.48L339.89,204.81L344.36,211.03L346.6,212.17L348.83,211.59L351.07,212.46L355.54,213.05L357.78,212.63L364.49,206.18L366.72,202.54L375.67,189.14L377.9,182.76L380.14,181.38L382.38,181.84L384.61,182.26L386.85,179.28L389.08,170.52L391.32,167.88L395.79,139.03L398.03,124.36L402.5,66.7L404.74,51.84L406.97,20.77L409.21,11.55L411.44,35.41L413.68,81.16L415.92,115.86L418.15,136.37L420.39,142.92L422.63,152.41L431.57,175.52L433.81,179.49L438.28,194.78L440.51,196.15L447.22,204.37L449.46,206.89L451.69,207.22L453.93,209.01L462.88,211.88L465.11,211.55L467.35,212.26L469.58,211.24L478.53,208.57L480.76,207.28L483,206.58\" style=\"vector-effect: non-scaling-stroke; fill: none; stroke: rgb(31, 119, 180); stroke-opacity: 1; stroke-width: 2px; opacity: 1;\"/></g><g class=\"points\"/><g class=\"text\"/></g><g class=\"trace scatter trace6d84e0\" style=\"stroke-miterlimit: 2; opacity: 1;\"><g class=\"fills\"/><g class=\"errorbars\"/><g class=\"lines\"><path class=\"js-line\" d=\"M0,206.75L2.24,208.07L4.47,207.6L6.71,212.32L8.94,208.34L11.18,208.42L13.42,205.17L17.89,173.28L20.13,152.69L22.36,148.23L24.6,150.83L26.83,155.97L29.07,135.54L31.31,98.07L33.54,75.86L35.78,73.46L38.01,93.25L40.25,118.8L42.49,163.12L44.72,177.17L46.96,166.55L49.19,187.59L51.43,183.82L53.67,201.46L55.9,188.6L58.14,169.86L60.38,183.36L62.61,176.06L64.85,179.9L67.08,178.91L69.32,187.61L71.56,201.91L73.79,196.14L76.03,189.12L78.26,196.92L80.5,195.53L82.74,203.31L84.97,205.98L87.21,201.06L89.44,212.92L91.68,201.86L93.92,206.21L96.15,213.96L98.39,210.25L100.63,204.08L102.86,210.62L105.1,212.7L107.33,205.85L109.57,215.57L114.04,210.43L116.28,214.98L118.51,212.22L120.75,214.55L122.99,214.77L125.22,213.36L127.46,212.95L129.69,209.06L131.93,204.5L134.17,212.06L140.88,204.16L143.11,194.82L145.35,200.21L147.58,201.71L149.82,196.63L152.06,202.33L154.29,204.79L156.53,191.67L158.76,191.2L161,189.76L163.24,178.78L165.47,187.15L167.71,183.75L169.94,189.84L172.18,172.41L174.42,161.03L176.65,171.83L178.89,153.02L181.13,144.41L183.36,131.06L185.6,141.72L187.83,161.46L190.07,146.92L192.31,163.54L194.54,185.23L196.78,186.56L201.25,202.54L203.49,200.41L205.72,205.61L207.96,201.41L210.19,202.75L212.43,214.52L216.9,206.14L219.14,209.89L221.38,213.8L223.61,207.05L225.85,214.24L228.08,215.51L230.32,214.47L232.56,215.11L234.79,214.81L237.03,219.31L241.5,217.12L243.74,219.45L245.97,211.81L248.21,209.19L250.44,209.74L252.68,211.7L254.92,208.86L257.15,202.96L259.39,199.2L261.63,200.89L263.86,199.41L266.1,199.9L268.33,200.8L270.57,203.08L272.81,193.42L275.04,195.49L277.28,193.98L279.51,187.48L281.75,194.73L283.99,189.13L286.22,204.03L288.46,203.44L290.69,177.87L292.93,178.31L295.17,183.87L297.4,182.99L299.64,183.44L301.88,190.12L304.11,200.92L306.35,187.72L308.58,183.97L310.82,190.07L313.06,192.46L315.29,185.82L317.53,200.55L319.76,198.74L322,202.18L324.24,199.28L326.47,203.69L328.71,211.27L330.94,202.83L333.18,203.49L337.65,210.27L339.89,206.87L342.13,211.71L344.36,210.83L346.6,208.67L348.83,209.94L351.07,210.51L353.31,213.04L355.54,214.25L357.78,211.92L360.01,209.23L362.25,210.23L364.49,209.05L366.72,201.98L368.96,206.91L371.19,203.57L375.67,198.07L377.9,197.63L380.14,201.63L382.38,196.73L384.61,201.24L386.85,201.3L391.32,188.4L393.56,188.32L395.79,169.02L398.03,178.77L400.26,157.69L402.5,163.28L404.74,148.04L406.97,86.1L409.21,141.93L411.44,145.45L413.68,135.24L415.92,149.59L420.39,187.22L422.63,181.79L427.1,189.44L429.33,186.15L433.81,197.53L436.04,198.59L438.28,204.05L440.51,203.01L442.75,205.46L444.99,211.74L447.22,211.82L449.46,207.94L451.69,208.08L453.93,214.47L456.17,211.34L458.4,213.65L460.64,213.67L462.88,212.39L465.11,215.82L467.35,214.85L469.58,217.38L471.82,215.86L476.29,215.28L478.53,210.98L480.76,208.01L483,210.07\" style=\"vector-effect: non-scaling-stroke; fill: none; stroke: rgb(0, 128, 0); stroke-opacity: 1; stroke-width: 2px; opacity: 1; stroke-dasharray: 9px, 9px;\"/></g><g class=\"points\"/><g class=\"text\"/></g><g class=\"trace scatter trace951508\" style=\"stroke-miterlimit: 2; opacity: 1;\"><g class=\"fills\"/><g class=\"errorbars\"/><g class=\"lines\"><path class=\"js-line\" d=\"M0,205.38L2.24,205.54L4.47,204.44L6.71,208.02L8.94,207.63L11.18,204.04L13.42,194.64L17.89,160.92L20.13,144.22L22.36,139.35L24.6,128.71L26.83,128.68L29.07,114.82L31.31,77.47L33.54,80.2L35.78,103.72L38.01,118.7L40.25,134.02L42.49,161.88L44.72,170.6L46.96,173.14L49.19,188.73L51.43,180.05L53.67,182.14L55.9,181.65L58.14,180.16L60.38,186.96L62.61,184.02L64.85,186.52L67.08,184.38L69.32,188.13L71.56,193.32L73.79,191.72L76.03,190.66L78.26,196.58L84.97,205.42L87.21,206.4L89.44,210.17L91.68,203.93L93.92,206.41L96.15,210L98.39,210.1L100.63,207L102.86,209.59L105.1,213.57L107.33,212.24L109.57,213.72L114.04,212.32L116.28,213.76L118.51,213.73L120.75,214.84L127.46,213.97L129.69,210.9L131.93,207.99L134.17,211.64L138.64,207.23L140.88,207.53L143.11,202.76L145.35,203.19L147.58,203.53L149.82,198.67L154.29,198.36L156.53,190.65L158.76,196.25L161,193.73L163.24,189.22L165.47,190.6L167.71,175.31L169.94,169.31L172.18,167.29L174.42,168.19L176.65,164.88L178.89,146.55L181.13,146.99L183.36,139.63L185.6,135.17L187.83,152.46L192.31,169.07L194.54,181.46L196.78,188L199.01,192.08L203.49,202.73L205.72,205.91L207.96,204.6L210.19,204.9L212.43,209.2L214.67,210.16L216.9,208.26L219.14,209.8L221.38,213.26L223.61,212.32L228.08,215.61L230.32,215.89L234.79,216.37L237.03,218.68L239.26,219.09L241.5,218.48L243.74,219.37L245.97,215.08L248.21,211.44L250.44,211.88L252.68,210.73L254.92,207.26L257.15,202.99L259.39,202.07L261.63,202.18L263.86,204.08L266.1,202.42L268.33,196.86L270.57,197.75L272.81,192.83L275.04,195.6L277.28,194.87L279.51,194.91L281.75,196.43L283.99,183.64L286.22,182.74L288.46,187.03L290.69,185.52L292.93,188.03L295.17,185.96L297.4,185.69L299.64,189.55L301.88,191.24L304.11,186.5L308.58,182.51L310.82,182.25L313.06,194.5L315.29,195.43L317.53,197.6L319.76,196.34L324.24,198L326.47,202.02L328.71,203.87L330.94,201.55L333.18,202.45L335.42,205.86L337.65,209.66L339.89,208.51L344.36,213.62L346.6,212.14L348.83,209.59L351.07,210.2L353.31,212.77L355.54,213.46L357.78,211.98L360.01,209.24L362.25,207.38L364.49,206.5L366.72,203.72L368.96,203.51L375.67,197.12L377.9,191.62L382.38,196.88L384.61,197.98L386.85,194.99L389.08,181.81L393.56,176.89L395.79,156.38L398.03,151.83L400.26,127.1L402.5,108.3L404.74,105.57L406.97,67.73L409.21,103.08L411.44,171.51L413.68,207.23L415.92,199.9L418.15,182.75L420.39,178.89L422.63,173.06L424.86,184.01L427.1,186.64L429.33,188.97L431.57,193.05L433.81,195.7L436.04,201.49L438.28,209.42L440.51,205L442.75,204.06L444.99,210.14L447.22,212.4L449.46,210.31L451.69,207.99L453.93,213.43L456.17,212.55L458.4,212.84L462.88,212.91L465.11,215.12L467.35,214.55L469.58,216.49L471.82,214.46L474.06,215.34L476.29,215.32L478.53,211.77L480.76,209.59L483,211.91\" style=\"vector-effect: non-scaling-stroke; fill: none; stroke: rgb(128, 0, 128); stroke-opacity: 1; stroke-width: 2px; opacity: 1; stroke-dasharray: 3px, 3px;\"/></g><g class=\"points\"/><g class=\"text\"/></g></g></g><g class=\"overplot\"/><path class=\"xlines-above crisp\" d=\"M56,241.5H540\" style=\"fill: none; stroke-width: 1px; stroke: rgb(36, 36, 36); stroke-opacity: 1;\"/><path class=\"ylines-above crisp\" d=\"M56.5,10V241\" style=\"fill: none; stroke-width: 1px; stroke: rgb(36, 36, 36); stroke-opacity: 1;\"/><g class=\"overlines-above\"/><g class=\"xaxislayer-above\"><path class=\"xtick ticks crisp\" d=\"M0,242v5\" transform=\"translate(162.1,0)\" style=\"stroke: rgb(68, 68, 68); stroke-opacity: 1; stroke-width: 1px;\"/><path class=\"xtick ticks crisp\" d=\"M0,242v5\" transform=\"translate(273.9,0)\" style=\"stroke: rgb(68, 68, 68); stroke-opacity: 1; stroke-width: 1px;\"/><path class=\"xtick ticks crisp\" d=\"M0,242v5\" transform=\"translate(385.71,0)\" style=\"stroke: rgb(68, 68, 68); stroke-opacity: 1; stroke-width: 1px;\"/><path class=\"xtick ticks crisp\" d=\"M0,242v5\" transform=\"translate(497.51,0)\" style=\"stroke: rgb(68, 68, 68); stroke-opacity: 1; stroke-width: 1px;\"/><g class=\"xtick\"><text text-anchor=\"middle\" x=\"0\" y=\"261.4\" transform=\"translate(162.1,0)\" style=\"font-family: 'Open Sans', verdana, arial, sans-serif; font-size: 12px; fill: rgb(36, 36, 36); fill-opacity: 1; white-space: pre; opacity: 1;\">350</text></g><g class=\"xtick\"><text text-anchor=\"middle\" x=\"0\" y=\"261.4\" style=\"font-family: 'Open Sans', verdana, arial, sans-serif; font-size: 12px; fill: rgb(36, 36, 36); fill-opacity: 1; white-space: pre; opacity: 1;\" transform=\"translate(273.9,0)\">400</text></g><g class=\"xtick\"><text text-anchor=\"middle\" x=\"0\" y=\"261.4\" style=\"font-family: 'Open Sans', verdana, arial, sans-serif; font-size: 12px; fill: rgb(36, 36, 36); fill-opacity: 1; white-space: pre; opacity: 1;\" transform=\"translate(385.71,0)\">450</text></g><g class=\"xtick\"><text text-anchor=\"middle\" x=\"0\" y=\"261.4\" style=\"font-family: 'Open Sans', verdana, arial, sans-serif; font-size: 12px; fill: rgb(36, 36, 36); fill-opacity: 1; white-space: pre; opacity: 1;\" transform=\"translate(497.51,0)\">500</text></g></g><g class=\"yaxislayer-above\"><path class=\"ytick ticks crisp\" d=\"M56,0h-5\" transform=\"translate(0,199.52)\" style=\"stroke: rgb(68, 68, 68); stroke-opacity: 1; stroke-width: 1px;\"/><path class=\"ytick ticks crisp\" d=\"M56,0h-5\" transform=\"translate(0,157.91)\" style=\"stroke: rgb(68, 68, 68); stroke-opacity: 1; stroke-width: 1px;\"/><path class=\"ytick ticks crisp\" d=\"M56,0h-5\" transform=\"translate(0,116.31)\" style=\"stroke: rgb(68, 68, 68); stroke-opacity: 1; stroke-width: 1px;\"/><path class=\"ytick ticks crisp\" d=\"M56,0h-5\" transform=\"translate(0,74.7)\" style=\"stroke: rgb(68, 68, 68); stroke-opacity: 1; stroke-width: 1px;\"/><path class=\"ytick ticks crisp\" d=\"M56,0h-5\" transform=\"translate(0,33.1)\" style=\"stroke: rgb(68, 68, 68); stroke-opacity: 1; stroke-width: 1px;\"/><g class=\"ytick\"><text text-anchor=\"end\" x=\"48.6\" y=\"4.199999999999999\" transform=\"translate(0,199.52)\" style=\"font-family: 'Open Sans', verdana, arial, sans-serif; font-size: 12px; fill: rgb(36, 36, 36); fill-opacity: 1; white-space: pre; opacity: 1;\">2</text></g><g class=\"ytick\"><text text-anchor=\"end\" x=\"48.6\" y=\"4.199999999999999\" style=\"font-family: 'Open Sans', verdana, arial, sans-serif; font-size: 12px; fill: rgb(36, 36, 36); fill-opacity: 1; white-space: pre; opacity: 1;\" transform=\"translate(0,157.91)\">4</text></g><g class=\"ytick\"><text text-anchor=\"end\" x=\"48.6\" y=\"4.199999999999999\" style=\"font-family: 'Open Sans', verdana, arial, sans-serif; font-size: 12px; fill: rgb(36, 36, 36); fill-opacity: 1; white-space: pre; opacity: 1;\" transform=\"translate(0,116.31)\">6</text></g><g class=\"ytick\"><text text-anchor=\"end\" x=\"48.6\" y=\"4.199999999999999\" style=\"font-family: 'Open Sans', verdana, arial, sans-serif; font-size: 12px; fill: rgb(36, 36, 36); fill-opacity: 1; white-space: pre; opacity: 1;\" transform=\"translate(0,74.7)\">8</text></g><g class=\"ytick\"><text text-anchor=\"end\" x=\"48.6\" y=\"4.199999999999999\" style=\"font-family: 'Open Sans', verdana, arial, sans-serif; font-size: 12px; fill: rgb(36, 36, 36); fill-opacity: 1; white-space: pre; opacity: 1;\" transform=\"translate(0,33.1)\">10</text></g></g><g class=\"overaxes-above\"/></g></g><g class=\"polarlayer\"/><g class=\"smithlayer\"/><g class=\"ternarylayer\"/><g class=\"geolayer\"/><g class=\"funnelarealayer\"/><g class=\"pielayer\"/><g class=\"iciclelayer\"/><g class=\"treemaplayer\"/><g class=\"sunburstlayer\"/><g class=\"glimages\"/><defs id=\"topdefs-52a52d\"><g class=\"clips\"/></defs><g class=\"layer-above\"><g class=\"imagelayer\"/><g class=\"shapelayer\"/></g><g class=\"infolayer\"><g class=\"g-gtitle\"/><g class=\"g-xtitle\"><text class=\"xtitle\" x=\"298.5\" y=\"289.70625\" text-anchor=\"middle\" style=\"font-family: 'Open Sans', verdana, arial, sans-serif; font-size: 14px; fill: rgb(36, 36, 36); opacity: 1; font-weight: normal; white-space: pre;\">week</text></g><g class=\"g-ytitle\" transform=\"translate(4.9248046875,0)\"><text class=\"ytitle\" transform=\"rotate(-90,10.075000000000003,125.5)\" x=\"10.075000000000003\" y=\"125.5\" text-anchor=\"middle\" style=\"font-family: 'Open Sans', verdana, arial, sans-serif; font-size: 14px; fill: rgb(36, 36, 36); opacity: 1; font-weight: normal; white-space: pre;\">Percent Influenza</text></g></g></svg>"
      ]
     },
     "metadata": {},
     "output_type": "display_data"
    }
   ],
   "source": [
    "gft_df = pd.read_csv('data/gft.csv', \n",
    "                     usecols=['gflu','dlscflu09','degflu09'])\n",
    "\n",
    "gft_df = gft_df.iloc[302:519]\n",
    "\n",
    "gft_df['week'] = np.arange(303,520)\n",
    "\n",
    "fig = px.line(gft_df, x='week', y='gflu', width=550, height=300)\n",
    "\n",
    "fig.add_trace(go.Scatter(\n",
    "        x=gft_df['week'], y=gft_df['dlscflu09'],\n",
    "        mode=\"lines\", \n",
    "        line=go.scatter.Line(color='green', width=2, dash='dash'),\n",
    "        showlegend=False))\n",
    "\n",
    "fig.add_trace(go.Scatter(\n",
    "        x=gft_df['week'], y=gft_df['degflu09'],\n",
    "        mode=\"lines\", \n",
    "        line=go.scatter.Line(color='purple', width=2, dash='dot'),\n",
    "        showlegend=False))\n",
    "                 \n",
    "fig.update_yaxes(title_text='Percent Influenza')\n",
    "fig.show()"
   ]
  },
  {
   "cell_type": "markdown",
   "metadata": {},
   "source": [
    "From weeks 412 to 519 in this plot, GFT (solid line) over estimated the actual CDC reports (dashed line) 100 times. Also plotted here are predictions from a model based on 3-week old CDC data and seasonal trends (dotted line), which follows the actuals more closely than GFT.  "
   ]
  },
  {
   "cell_type": "markdown",
   "metadata": {},
   "source": [
    "Data scientists found that a simple model built from past CDC reports that used 3-week-old CDC data and seasonal trends did a better job of predicting flu prevalence than GFT. The GFT overlooked considerable information that can be extracted by basic statistical methods. This does not mean that big data captured from online activity is useless. In fact, researchers have shown that the combination of GFT data with CDC data can substantially improve on both GFT predictions and the CDC-based model[^Lazer15]. It is often the case that combining different approaches leads to improvements over individual methods."
   ]
  },
  {
   "cell_type": "markdown",
   "metadata": {},
   "source": [
    "The GFT example shows us that even when we have tremendous amounts of information, the connections between the data and the question being asked are paramount. Understanding this framework can help us avoid answering the wrong question, applying inappropriate methods to the data, and overstating our findings. "
   ]
  },
  {
   "cell_type": "markdown",
   "metadata": {},
   "source": [
    ":::{note}\n",
    "\n",
    "In the age of big data, we are tempted to collect more and more data to answer a question precisely. After all, a census gives us perfect information, so shouldn't big data be nearly perfect? Unfortunately, this is often not the case, especially with administrative data and digital traces. The inaccessibility of a small fraction of the people you want to study (see the 2016 election upset in {numref}`Chapter %s <ch:theory_datadesign>`) or the measurement process itself (as in this GFT example) can lead to poor predictions. It is important to consider the scope of the data as it relates to the question under investigation.      \n",
    "\n",
    ":::"
   ]
  },
  {
   "cell_type": "markdown",
   "metadata": {},
   "source": [
    "A key factor to keep in mind is the scope of the data. Scope includes considering the population we want to study, how to access information about that population, and what we are actually measuring. Thinking through these points can help us see potential gaps in our approach. This is the topic of the next section."
   ]
  }
 ],
 "metadata": {
  "celltoolbar": "Tags",
  "kernelspec": {
   "display_name": "Python 3",
   "language": "python",
   "name": "python3"
  },
  "language_info": {
   "codemirror_mode": {
    "name": "ipython",
    "version": 3
   },
   "file_extension": ".py",
   "mimetype": "text/x-python",
   "name": "python",
   "nbconvert_exporter": "python",
   "pygments_lexer": "ipython3",
   "version": "3.9.4"
  }
 },
 "nbformat": 4,
 "nbformat_minor": 4
}
