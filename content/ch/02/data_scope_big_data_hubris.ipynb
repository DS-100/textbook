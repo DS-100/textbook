{
 "cells": [
  {
   "cell_type": "code",
   "execution_count": 1,
   "metadata": {
    "tags": [
     "remove-cell"
    ]
   },
   "outputs": [],
   "source": [
    "import sys\n",
    "import os\n",
    "if not any(path.endswith('textbook') for path in sys.path):\n",
    "    sys.path.append(os.path.abspath('../../..'))\n",
    "from textbook_utils import *"
   ]
  },
  {
   "cell_type": "markdown",
   "metadata": {},
   "source": [
    "(sec:scope_bigdata)=\n",
    "# Big Data and New Opportunities  \n",
    "\n",
    "The tremendous increase in openly available data has created new roles and opportunities in data science. For example, data journalists look for interesting stories in data much like how traditional beat reporters hunt for news stories. The data life cycle for the data journalist begins with the search for existing data that might have an interesting story, rather than beginning with a research question and looking for how to collect new or use existing data to address the question.  "
   ]
  },
  {
   "cell_type": "markdown",
   "metadata": {},
   "source": [
    "Citizen science projects are another example. They engage many people (and instruments) in data collection. Collectively, these data are often made available to researchers who organize the project and often they are made available in repositories for the general public to further investigate. "
   ]
  },
  {
   "cell_type": "markdown",
   "metadata": {},
   "source": [
    "The availability of administrative/organizational data creates other opportunities. Researchers can link data collected from scientific studies with, say medical data that have been collected for healthcare purposes; in other words, administrative data collected for reasons that don't directly stem from the question of interest can be useful in other settings. Such linkages can help data scientists expand the possibilities of their analyses and cross-check the quality of their data. In addition, found data can include digital traces, such as your web-browsing activity, posts on social media, and online network of friends and acquaintances, and can be quite complex. "
   ]
  },
  {
   "cell_type": "markdown",
   "metadata": {},
   "source": [
    "When we have large amounts of administrative data or expansive digital traces, it can be tempting to treat them as more definitive than data collected from traditional smaller research studies. We might even consider these large datasets as a replacement for scientific studies or essentially a census. This over-reach is referred to as the \"big data hubris\" {cite}`lazer2014`. Data with a large scope does not mean that we can ignore foundational issues of how representative the data are, nor can we ignore issues with measurement, dependency, and reliability. One well-known example is the Google Flu Trends tracking system.  "
   ]
  },
  {
   "cell_type": "markdown",
   "metadata": {},
   "source": [
    "## Example: Google Flu Trends\n",
    "\n",
    "Digital epidemiology, a new subfield of epidemiology, leverages data generated outside the public health system to study patterns of disease and health dynamics in populations [^nih]\n",
    "The Google Flu Trends (GFT) tracking system was one of the earliest examples of digital epidemiology.\n",
    "In 2007,\n",
    "researchers found that counting the searches people made for flu-related\n",
    "terms could accurately estimate the number of flu cases.\n",
    "It made headlines, and helped make researchers excited about the\n",
    "possibilities of big data.\n",
    "However, GFT did not live up to expectations and was abandoned in 2015.\n",
    "\n",
    "What went wrong with GFT? After all, it used millions of digital traces from online queries for terms related to influenza to predict flu activity. Despite initial success, in the 2011–2012 flu season, Google's data scientists found that GFT was not a substitute for more traditionally collected data from the Centers for Disease Control (CDC) surveillance reports, collected from laboratories across the United States. In comparison, GFT overestimated the CDC numbers for 100 out of 108 weeks (see {numref}`Figure %s <fig:GFTseries>`). Week after week, GFT came in too high for the cases of influenza, even though it was based on big data. \n",
    "\n",
    "[^nih]: https://www.ncbi.nlm.nih.gov/pmc/articles/PMC5754279/"
   ]
  },
  {
   "cell_type": "markdown",
   "metadata": {},
   "source": [
    "```{figure} GFTseries.png\n",
    "---\n",
    "name: fig:GFTseries\n",
    "scale: 80%\n",
    "---\n",
    "Google Flu Trend (GFT) weekly estimates for influenza-like illness. For 108 weeks, GFT (solid line) over estimated the actual CDC reports (dashed line) 100 times. Also plotted are predictions from a model based on 3-week old CDC data and seasonal trends (dotted line).  \n",
    "```"
   ]
  },
  {
   "cell_type": "markdown",
   "metadata": {},
   "source": [
    "Data scientists found that the GFT was not a substitute for more traditionally collected data from the CDC.   A simple model built from past CDC reports that used 3-week-old CDC data and seasonal trends did a better job of predicting flu prevalence than GFT. That is, the GFT overlooks considerable information that could be extracted by basic statistical methods. This does not mean that big data captured from online activity is useless. In fact, researchers have shown that the combination of GFT data with CDC data can substantially improve on both GFT predictions and the CDC-based model {cite}`lazer2014,lazer2015`. It is often the case that combining different approaches leads to improvements over individual methods."
   ]
  },
  {
   "cell_type": "markdown",
   "metadata": {},
   "source": [
    "The GFT example shows us that even when we have tremendous amounts of information, the connections between the data, the topic of investigation, and the question being asked are paramount. Understanding this framework can help us avoid answering the wrong question, applying inappropriate methods to the data, and overstating our findings. \n",
    "\n",
    "In the age of big data, we are tempted to collect more and more data. After all, a census gives us perfect information, so shouldn't big data be nearly perfect? A key factor to keep in mind is the scope of the data. What population do we want to study? How can we access information about that population? Who or what are we actually studying? Answers to these questions help us see potential gaps in our approach. This is the topic of the next section."
   ]
  }
 ],
 "metadata": {
  "celltoolbar": "Tags",
  "kernelspec": {
   "display_name": "Python 3",
   "language": "python",
   "name": "python3"
  },
  "language_info": {
   "codemirror_mode": {
    "name": "ipython",
    "version": 3
   },
   "file_extension": ".py",
   "mimetype": "text/x-python",
   "name": "python",
   "nbconvert_exporter": "python",
   "pygments_lexer": "ipython3",
   "version": "3.9.4"
  }
 },
 "nbformat": 4,
 "nbformat_minor": 4
}
