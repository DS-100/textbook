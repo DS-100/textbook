{
 "cells": [
  {
   "cell_type": "code",
   "execution_count": 1,
   "metadata": {
    "tags": [
     "remove-cell"
    ]
   },
   "outputs": [],
   "source": [
    "import sys\n",
    "import os\n",
    "if not any(path.endswith('textbook') for path in sys.path):\n",
    "    sys.path.append(os.path.abspath('../../..'))\n",
    "from textbook_utils import *"
   ]
  },
  {
   "cell_type": "markdown",
   "metadata": {},
   "source": [
    "(sec:data_scope_summary)=\n",
    "# Summary\n",
    "\n",
    "No matter the kind of data you are working with, before diving into cleaning, exploration, and analysis, take a moment to look into the data's source. If you didn't collect the data, ask yourself:\n",
    "\n",
    "+ Who collected the data?\n",
    "+ Why were the data collected?\n",
    "\n",
    "Answers to these questions can help determine whether these found data can be used to address the question of interest to you. \n",
    "\n",
    "Consider the scope of the data. Questions about the temporal and spatial aspects of data collection can provide valuable insights: \n",
    " \n",
    "+ When were the data collected? \n",
    "+ Where were the data collected?\n",
    "\n",
    "Answers to these questions help you determine whether your findings are relevant to the situation that interests you, or whether your situation may not be comparable to this other place and time. \n",
    "\n",
    "Core to the notion of scope are answers to the following questions: \n",
    "\n",
    "+ What is the target population (or unknown parameter value)?\n",
    "+ How was the target accessed?\n",
    "+ What methods were used to select samples/take measurements?\n",
    "+ What instruments were used and how were they calibrated? \n",
    "\n",
    "Answering as many of these questions as possible can give you valuable insights as to how much trust you can place in your findings and whether you can generalize from them.   \n",
    "\n",
    "This chapter has provided you with a terminology and framework for thinking about and answering these questions. The chapter has also outlined ways to identify possible sources of bias and variance that can impact the accuracy of your findings. To help you reason about bias and variance, we have introduced the following diagrams and notions:\n",
    "\n",
    "+ Scope diagram to indicate the overlap between target population, access frame, and sample;\n",
    "+ Dart board to describe an instrument's bias and variance; and \n",
    "+ Urn model for situations when a chance mechanism has been used to select a sample from an access frame, divide a group into experimental treatment groups, or take measurements from a well-calibrated instrument. \n",
    "\n",
    "These diagrams and models attempt to boil down key concepts to understanding how to identify limitations and judge the usefulness of your data in answering your question. {numref}`Chapter %s <ch:theory_datadesign>` continues the development of the urn model to more formally quantify accuracy and design simulation studies. "
   ]
  },
  {
   "cell_type": "code",
   "execution_count": null,
   "metadata": {},
   "outputs": [],
   "source": []
  }
 ],
 "metadata": {
  "celltoolbar": "Tags",
  "kernelspec": {
   "display_name": "Python 3",
   "language": "python",
   "name": "python3"
  },
  "language_info": {
   "codemirror_mode": {
    "name": "ipython",
    "version": 3
   },
   "file_extension": ".py",
   "mimetype": "text/x-python",
   "name": "python",
   "nbconvert_exporter": "python",
   "pygments_lexer": "ipython3",
   "version": "3.9.4"
  }
 },
 "nbformat": 4,
 "nbformat_minor": 4
}
