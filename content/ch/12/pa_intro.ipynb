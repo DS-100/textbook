{
 "cells": [
  {
   "cell_type": "code",
   "execution_count": 2,
   "metadata": {
    "tags": [
     "remove-cell"
    ]
   },
   "outputs": [],
   "source": [
    "import sys\n",
    "import os\n",
    "if not any(path.endswith('textbook') for path in sys.path):\n",
    "    sys.path.append(os.path.abspath('../../..'))\n",
    "from textbook_utils import *"
   ]
  },
  {
   "cell_type": "markdown",
   "metadata": {},
   "source": [
    "(ch:pa)=\n",
    "# Case Study: How Accurate are Air Quality Measurements?"
   ]
  },
  {
   "cell_type": "markdown",
   "metadata": {},
   "source": [
    "California is prone to wildfires, so much so that its\n",
    "residents (like the authors of this book) sometimes say\n",
    "that California is \"always on fire\".\n",
    "In 2020, forty separate fires covered the state in smoke,\n",
    "caused thousands of people to evacuate, and caused more than twelve billion\n",
    "dollars in damages ({numref}`fig:ca-fires`).\n",
    "\n",
    "```{figure} figures/ca-fires.jpeg\n",
    "---\n",
    "name: fig:ca-fires\n",
    "alt: ca-fires\n",
    "---\n",
    "Satellite image from August 2020 showing smoke covering California. (Image from [Wikipedia](https://en.wikipedia.org/wiki/File:California_on_fire_ESA22177856.jpeg) licensed under CC BY-SA 3.0 IGO.)\n",
    "```"
   ]
  },
  {
   "cell_type": "markdown",
   "metadata": {},
   "source": [
    "In places like California, people use air quality measurements to learn what kinds of protective measures they need to take.\n",
    "Depending on conditions, people may wish to wear a mask, use air filters, or avoid going outside altogether."
   ]
  },
  {
   "cell_type": "markdown",
   "metadata": {},
   "source": [
    "In the United States, One important source of air measurements is the Air Quality System (AQS), run by the US government {cite}`usepaAir2013`.\n",
    "The AQS places high-quality sensors at locations across the US and makes this data available to the public.\n",
    "These sensors are carefully calibrated to strict standards---in fact, the AQS sensors are generally seen as the gold standard for accuracy.\n",
    "However, they have a few downsides.\n",
    "These sensors are expensive: typically between \\$15,000  and  \\$40,000 USD each.\n",
    "This means that there are fewer sensors, and these sensors are further apart.\n",
    "A person living far away from a sensor might not be able to use these measurements for their personal use.\n",
    "Also, these sensors do not provide real-time data. Since the data undergo additional calibration, the sensors only release hourly averages with a time lag of one to two hours. In essence, the AQS sensors are accurate but not timely."
   ]
  },
  {
   "cell_type": "markdown",
   "metadata": {},
   "source": [
    "In contrast to the AQS, [PurpleAir][pa] sensors sell for about \\$250 and can be easily installed at home.\n",
    "With the lower price point, thousands of people across the US have purchased these sensors for personal use. The sensors can connect to a home WiFi network so the air quality can be easily monitored.\n",
    "These sensors can also report data back to the PurpleAir company.\n",
    "In 2020, thousands of owners of PurpleAir sensors made publicly available their sensors' measurements of air quality.\n",
    "Compared to the AQS sensors, PurpleAir sensors are more timely. They make a measurement every two minutes rather than every hour.\n",
    "Since there are more deployed PurpleAir sensors, more people live close enough to a sensor to make use of the data.\n",
    "However, PurpleAir sensors are less accurate.\n",
    "To make the sensors affordable, PurpleAir uses a simpler method of counting particles in air that doesn't measure particle density.\n",
    "This means that PurpleAir measurements can report that air quality is worse than it really is {cite}`hug2020`. In essence, PurpleAir sensors are timely but not accurate.\n",
    "\n",
    "[pa]: https://www2.purpleair.com/"
   ]
  },
  {
   "cell_type": "markdown",
   "metadata": {},
   "source": [
    "In this chapter we plan to use the AQS sensor measurements to improve the PurpleAir measurements. It's a big task, and we follow the analysis first developed by Karoline Barkjohn et al. from the US Environmental Protection Agency {cite}`barkjohnDevelopment2021`.\n",
    "Her group's work was so successful that, as of this writing, the official US government maps, like the AirNow Fire and Smoke map, includes both AQS and PurpleAir sensors, and applies the correction Barkjohn developed to the PurpleAir sensors."
   ]
  },
  {
   "cell_type": "markdown",
   "metadata": {},
   "source": [
    "Our work follows the data science life cycle, beginning with considering the question and the scope of the available data. Much of our effort is spent cleaning and wrangling the data into shape for analysis, but we also carry out an exploratory data analysis and build a model. "
   ]
  }
 ],
 "metadata": {
  "celltoolbar": "Tags",
  "kernelspec": {
   "display_name": "Python 3",
   "language": "python",
   "name": "python3"
  },
  "language_info": {
   "codemirror_mode": {
    "name": "ipython",
    "version": 3
   },
   "file_extension": ".py",
   "mimetype": "text/x-python",
   "name": "python",
   "nbconvert_exporter": "python",
   "pygments_lexer": "ipython3",
   "version": "3.9.4"
  }
 },
 "nbformat": 4,
 "nbformat_minor": 4
}
