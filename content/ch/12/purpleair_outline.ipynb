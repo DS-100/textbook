{
 "cells": [
  {
   "cell_type": "code",
   "execution_count": 115,
   "metadata": {
    "tags": [
     "remove-cell"
    ]
   },
   "outputs": [],
   "source": [
    "# Reference: https://jupyterbook.org/interactive/hiding.html\n",
    "# Use {hide, remove}-{input, output, cell} tags to hiding content\n",
    "\n",
    "import numpy as np\n",
    "import matplotlib.pyplot as plt\n",
    "import pandas as pd\n",
    "import seaborn as sns\n",
    "%matplotlib inline\n",
    "import ipywidgets as widgets\n",
    "from ipywidgets import interact, interactive, fixed, interact_manual\n",
    "from IPython.display import display\n",
    "\n",
    "sns.set()\n",
    "sns.set_context('talk')\n",
    "np.set_printoptions(threshold=20, precision=2, suppress=True)\n",
    "pd.set_option('display.max_rows', 7)\n",
    "pd.set_option('display.max_columns', 8)\n",
    "pd.set_option('precision', 2)\n",
    "# This option stops scientific notation for pandas\n",
    "# pd.set_option('display.float_format', '{:.2f}'.format)\n",
    "\n",
    "def display_df(df, rows=pd.options.display.max_rows,\n",
    "               cols=pd.options.display.max_columns):\n",
    "    with pd.option_context('display.max_rows', rows,\n",
    "                           'display.max_columns', cols):\n",
    "        display(df)"
   ]
  },
  {
   "cell_type": "markdown",
   "metadata": {},
   "source": [
    "# Outline for PurpleAir Case Study"
   ]
  },
  {
   "cell_type": "markdown",
   "metadata": {},
   "source": [
    "Introduction\n",
    "\n",
    "- wildfires, esp in california\n",
    "  - want rapid response for evacuation and safety\n",
    "- us EPA has sensors\n",
    "  - highly accurate, but expensive, sparse and slow\n",
    "- purpleair sensors\n",
    "  - cheap, ubiquitous, fast. but not as accurate\n",
    "- the AQI from purpleair are often different than US EPA sensors\n",
    "  - figure: two screenshots comparing purpleair with us EPA maps\n",
    "- is it possible to combine the readings to get accurate, timely, and spatially\n",
    "  close readings?\n",
    "- barkjohn et al. investigated this question and found that yes, you can adjust\n",
    "  the purpleair data so that it closely follows the more accurate us epa data.\n",
    "- illustrates an important application of data science: using large, inaccurate\n",
    "  data to amplify usefulness of small, accurate data.\n",
    "  - the results of this work are currently used in the official US AQI websites\n",
    "    and on purpleair as the \"EPA correction\".\n",
    "- in this case study, we replicate parts of barkjohn's analysis.\n",
    "  - serves as a real-world, extended example of EDA, data cleaning, and\n",
    "    visualization.\n",
    "  - also has ties to subsequent chapters on web data and modeling"
   ]
  },
  {
   "cell_type": "markdown",
   "metadata": {},
   "source": [
    "Overview of analysis\n",
    "\n",
    "- goal of analysis is to find a correction for purpleair data to make it match\n",
    "  us epa data.\n",
    "- this involves the following steps, which we recreate from the barkjohn study.\n",
    "  - get purpleair and epa data\n",
    "  - find co-located purpleair and EPA sensors.\n",
    "  - explore, clean, and visualize each dataset\n",
    "  - join datasets together so that they can be directly compared\n",
    "  - construct a model to the minimize the difference between purpleair and epa\n",
    "    data."
   ]
  }
 ],
 "metadata": {
  "celltoolbar": "Tags",
  "kernelspec": {
   "display_name": "Python 3",
   "language": "python",
   "name": "python3"
  },
  "language_info": {
   "codemirror_mode": {
    "name": "ipython",
    "version": 3
   },
   "file_extension": ".py",
   "mimetype": "text/x-python",
   "name": "python",
   "nbconvert_exporter": "python",
   "pygments_lexer": "ipython3",
   "version": "3.9.4"
  }
 },
 "nbformat": 4,
 "nbformat_minor": 4
}
