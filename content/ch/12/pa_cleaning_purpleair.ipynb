{
 "cells": [
  {
   "cell_type": "code",
   "execution_count": 1,
   "metadata": {
    "tags": [
     "remove-cell"
    ]
   },
   "outputs": [],
   "source": [
    "# Reference: https://jupyterbook.org/interactive/hiding.html\n",
    "# Use {hide, remove}-{input, output, cell} tags to hiding content\n",
    "\n",
    "import numpy as np\n",
    "import matplotlib.pyplot as plt\n",
    "import pandas as pd\n",
    "import seaborn as sns\n",
    "%matplotlib inline\n",
    "import ipywidgets as widgets\n",
    "from ipywidgets import interact, interactive, fixed, interact_manual\n",
    "from IPython.display import display\n",
    "\n",
    "sns.set()\n",
    "sns.set_context('talk')\n",
    "np.set_printoptions(threshold=20, precision=2, suppress=True)\n",
    "pd.set_option('display.max_rows', 7)\n",
    "pd.set_option('display.max_columns', 8)\n",
    "pd.set_option('precision', 2)\n",
    "# This option stops scientific notation for pandas\n",
    "# pd.set_option('display.float_format', '{:.2f}'.format)\n",
    "\n",
    "def display_df(df, rows=pd.options.display.max_rows,\n",
    "               cols=pd.options.display.max_columns):\n",
    "    with pd.option_context('display.max_rows', rows,\n",
    "                           'display.max_columns', cols):\n",
    "        display(df)"
   ]
  },
  {
   "cell_type": "code",
   "execution_count": 2,
   "metadata": {
    "tags": [
     "remove-cell"
    ]
   },
   "outputs": [],
   "source": [
    "def df_interact(df, nrows=7, ncols=7):\n",
    "    '''\n",
    "    Outputs sliders that show rows and columns of df\n",
    "    '''\n",
    "    def peek(row=0, col=0):\n",
    "        return df.iloc[row:row + nrows, col:col + ncols]\n",
    "\n",
    "    row_arg = (0, len(df), nrows) if len(df) > nrows else fixed(0)\n",
    "    col_arg = ((0, len(df.columns), ncols)\n",
    "               if len(df.columns) > ncols else fixed(0))\n",
    "    \n",
    "    interact(peek, row=row_arg, col=col_arg)\n",
    "    print('({} rows, {} columns) total'.format(df.shape[0], df.shape[1]))"
   ]
  },
  {
   "cell_type": "markdown",
   "metadata": {},
   "source": [
    "# Exploring and Cleaning PurpleAir Sensor Data"
   ]
  },
  {
   "cell_type": "code",
   "execution_count": 2,
   "metadata": {},
   "outputs": [
    {
     "name": "stdout",
     "output_type": "stream",
     "text": [
      "AMTS_TESTING (outside) (38.568404 -121.493163) Primary Real Time 05_20_2018 12_29_2019.csv\n",
      "AMTS_TESTING (outside) (38.568404 -121.493163) Secondary Real Time 05_20_2018 12_29_2019.csv\n",
      "AMTS_TESTING B (undefined) (38.568404 -121.493163) Primary Real Time 05_20_2018 12_29_2019.csv\n",
      "AMTS_TESTING B (undefined) (38.568404 -121.493163) Secondary Real Time 05_20_2018 12_29_2019.csv\n"
     ]
    }
   ],
   "source": [
    "!ls data/purpleair_AMTS"
   ]
  },
  {
   "cell_type": "code",
   "execution_count": 3,
   "metadata": {},
   "outputs": [
    {
     "data": {
      "text/plain": [
       "['AMTS_TESTING (outside) (38.568404 -121.493163) Primary Real Time 05_20_2018 12_29_2019.csv',\n",
       " 'AMTS_TESTING (outside) (38.568404 -121.493163) Secondary Real Time 05_20_2018 12_29_2019.csv',\n",
       " 'AMTS_TESTING B (undefined) (38.568404 -121.493163) Primary Real Time 05_20_2018 12_29_2019.csv',\n",
       " 'AMTS_TESTING B (undefined) (38.568404 -121.493163) Secondary Real Time 05_20_2018 12_29_2019.csv']"
      ]
     },
     "execution_count": 3,
     "metadata": {},
     "output_type": "execute_result"
    }
   ],
   "source": [
    "pa_csvs = !ls data/purpleair_AMTS\n",
    "pa_csvs"
   ]
  },
  {
   "cell_type": "code",
   "execution_count": 4,
   "metadata": {},
   "outputs": [
    {
     "data": {
      "text/html": [
       "<div>\n",
       "<style scoped>\n",
       "    .dataframe tbody tr th:only-of-type {\n",
       "        vertical-align: middle;\n",
       "    }\n",
       "\n",
       "    .dataframe tbody tr th {\n",
       "        vertical-align: top;\n",
       "    }\n",
       "\n",
       "    .dataframe thead th {\n",
       "        text-align: right;\n",
       "    }\n",
       "</style>\n",
       "<table border=\"1\" class=\"dataframe\">\n",
       "  <thead>\n",
       "    <tr style=\"text-align: right;\">\n",
       "      <th></th>\n",
       "      <th>created_at</th>\n",
       "      <th>entry_id</th>\n",
       "      <th>PM1.0_CF1_ug/m3</th>\n",
       "      <th>PM2.5_CF1_ug/m3</th>\n",
       "      <th>...</th>\n",
       "      <th>Temperature_F</th>\n",
       "      <th>Humidity_%</th>\n",
       "      <th>PM2.5_ATM_ug/m3</th>\n",
       "      <th>Unnamed: 10</th>\n",
       "    </tr>\n",
       "  </thead>\n",
       "  <tbody>\n",
       "    <tr>\n",
       "      <th>0</th>\n",
       "      <td>2018-05-20 00:00:35 UTC</td>\n",
       "      <td>20733</td>\n",
       "      <td>0.98</td>\n",
       "      <td>1.23</td>\n",
       "      <td>...</td>\n",
       "      <td>83.0</td>\n",
       "      <td>32.0</td>\n",
       "      <td>1.23</td>\n",
       "      <td>NaN</td>\n",
       "    </tr>\n",
       "    <tr>\n",
       "      <th>1</th>\n",
       "      <td>2018-05-20 00:01:55 UTC</td>\n",
       "      <td>20734</td>\n",
       "      <td>0.96</td>\n",
       "      <td>1.94</td>\n",
       "      <td>...</td>\n",
       "      <td>83.0</td>\n",
       "      <td>32.0</td>\n",
       "      <td>1.94</td>\n",
       "      <td>NaN</td>\n",
       "    </tr>\n",
       "    <tr>\n",
       "      <th>2</th>\n",
       "      <td>2018-05-20 00:03:15 UTC</td>\n",
       "      <td>20735</td>\n",
       "      <td>1.07</td>\n",
       "      <td>1.80</td>\n",
       "      <td>...</td>\n",
       "      <td>83.0</td>\n",
       "      <td>32.0</td>\n",
       "      <td>1.80</td>\n",
       "      <td>NaN</td>\n",
       "    </tr>\n",
       "    <tr>\n",
       "      <th>...</th>\n",
       "      <td>...</td>\n",
       "      <td>...</td>\n",
       "      <td>...</td>\n",
       "      <td>...</td>\n",
       "      <td>...</td>\n",
       "      <td>...</td>\n",
       "      <td>...</td>\n",
       "      <td>...</td>\n",
       "      <td>...</td>\n",
       "    </tr>\n",
       "    <tr>\n",
       "      <th>672752</th>\n",
       "      <td>2019-12-29 23:55:30 UTC</td>\n",
       "      <td>523358</td>\n",
       "      <td>24.44</td>\n",
       "      <td>40.45</td>\n",
       "      <td>...</td>\n",
       "      <td>52.0</td>\n",
       "      <td>67.0</td>\n",
       "      <td>36.91</td>\n",
       "      <td>NaN</td>\n",
       "    </tr>\n",
       "    <tr>\n",
       "      <th>672753</th>\n",
       "      <td>2019-12-29 23:57:30 UTC</td>\n",
       "      <td>523359</td>\n",
       "      <td>23.69</td>\n",
       "      <td>37.72</td>\n",
       "      <td>...</td>\n",
       "      <td>58.0</td>\n",
       "      <td>67.0</td>\n",
       "      <td>35.49</td>\n",
       "      <td>NaN</td>\n",
       "    </tr>\n",
       "    <tr>\n",
       "      <th>672754</th>\n",
       "      <td>2019-12-29 23:59:30 UTC</td>\n",
       "      <td>523360</td>\n",
       "      <td>24.60</td>\n",
       "      <td>37.57</td>\n",
       "      <td>...</td>\n",
       "      <td>58.0</td>\n",
       "      <td>66.0</td>\n",
       "      <td>35.33</td>\n",
       "      <td>NaN</td>\n",
       "    </tr>\n",
       "  </tbody>\n",
       "</table>\n",
       "<p>672755 rows × 11 columns</p>\n",
       "</div>"
      ],
      "text/plain": [
       "                     created_at  entry_id  PM1.0_CF1_ug/m3  PM2.5_CF1_ug/m3  \\\n",
       "0       2018-05-20 00:00:35 UTC     20733             0.98             1.23   \n",
       "1       2018-05-20 00:01:55 UTC     20734             0.96             1.94   \n",
       "2       2018-05-20 00:03:15 UTC     20735             1.07             1.80   \n",
       "...                         ...       ...              ...              ...   \n",
       "672752  2019-12-29 23:55:30 UTC    523358            24.44            40.45   \n",
       "672753  2019-12-29 23:57:30 UTC    523359            23.69            37.72   \n",
       "672754  2019-12-29 23:59:30 UTC    523360            24.60            37.57   \n",
       "\n",
       "        ...  Temperature_F  Humidity_%  PM2.5_ATM_ug/m3  Unnamed: 10  \n",
       "0       ...           83.0        32.0             1.23          NaN  \n",
       "1       ...           83.0        32.0             1.94          NaN  \n",
       "2       ...           83.0        32.0             1.80          NaN  \n",
       "...     ...            ...         ...              ...          ...  \n",
       "672752  ...           52.0        67.0            36.91          NaN  \n",
       "672753  ...           58.0        67.0            35.49          NaN  \n",
       "672754  ...           58.0        66.0            35.33          NaN  \n",
       "\n",
       "[672755 rows x 11 columns]"
      ]
     },
     "execution_count": 4,
     "metadata": {},
     "output_type": "execute_result"
    }
   ],
   "source": [
    "pa = pd.read_csv(f'data/purpleair_AMTS/{pa_csvs[0]}')\n",
    "pa"
   ]
  },
  {
   "cell_type": "code",
   "execution_count": 5,
   "metadata": {},
   "outputs": [
    {
     "data": {
      "text/html": [
       "<div>\n",
       "<style scoped>\n",
       "    .dataframe tbody tr th:only-of-type {\n",
       "        vertical-align: middle;\n",
       "    }\n",
       "\n",
       "    .dataframe tbody tr th {\n",
       "        vertical-align: top;\n",
       "    }\n",
       "\n",
       "    .dataframe thead th {\n",
       "        text-align: right;\n",
       "    }\n",
       "</style>\n",
       "<table border=\"1\" class=\"dataframe\">\n",
       "  <thead>\n",
       "    <tr style=\"text-align: right;\">\n",
       "      <th></th>\n",
       "      <th>index</th>\n",
       "      <th>0</th>\n",
       "    </tr>\n",
       "  </thead>\n",
       "  <tbody>\n",
       "    <tr>\n",
       "      <th>0</th>\n",
       "      <td>created_at</td>\n",
       "      <td>2018-05-20 00:00:35 UTC</td>\n",
       "    </tr>\n",
       "    <tr>\n",
       "      <th>1</th>\n",
       "      <td>entry_id</td>\n",
       "      <td>20733</td>\n",
       "    </tr>\n",
       "    <tr>\n",
       "      <th>2</th>\n",
       "      <td>PM1.0_CF1_ug/m3</td>\n",
       "      <td>0.98</td>\n",
       "    </tr>\n",
       "    <tr>\n",
       "      <th>3</th>\n",
       "      <td>PM2.5_CF1_ug/m3</td>\n",
       "      <td>1.23</td>\n",
       "    </tr>\n",
       "    <tr>\n",
       "      <th>4</th>\n",
       "      <td>PM10.0_CF1_ug/m3</td>\n",
       "      <td>1.23</td>\n",
       "    </tr>\n",
       "    <tr>\n",
       "      <th>5</th>\n",
       "      <td>UptimeMinutes</td>\n",
       "      <td>2299.0</td>\n",
       "    </tr>\n",
       "    <tr>\n",
       "      <th>6</th>\n",
       "      <td>RSSI_dbm</td>\n",
       "      <td>-62.0</td>\n",
       "    </tr>\n",
       "    <tr>\n",
       "      <th>7</th>\n",
       "      <td>Temperature_F</td>\n",
       "      <td>83.0</td>\n",
       "    </tr>\n",
       "    <tr>\n",
       "      <th>8</th>\n",
       "      <td>Humidity_%</td>\n",
       "      <td>32.0</td>\n",
       "    </tr>\n",
       "    <tr>\n",
       "      <th>9</th>\n",
       "      <td>PM2.5_ATM_ug/m3</td>\n",
       "      <td>1.23</td>\n",
       "    </tr>\n",
       "    <tr>\n",
       "      <th>10</th>\n",
       "      <td>Unnamed: 10</td>\n",
       "      <td>NaN</td>\n",
       "    </tr>\n",
       "  </tbody>\n",
       "</table>\n",
       "</div>"
      ],
      "text/plain": [
       "               index                        0\n",
       "0         created_at  2018-05-20 00:00:35 UTC\n",
       "1           entry_id                    20733\n",
       "2    PM1.0_CF1_ug/m3                     0.98\n",
       "3    PM2.5_CF1_ug/m3                     1.23\n",
       "4   PM10.0_CF1_ug/m3                     1.23\n",
       "5      UptimeMinutes                   2299.0\n",
       "6           RSSI_dbm                    -62.0\n",
       "7      Temperature_F                     83.0\n",
       "8         Humidity_%                     32.0\n",
       "9    PM2.5_ATM_ug/m3                     1.23\n",
       "10       Unnamed: 10                      NaN"
      ]
     },
     "metadata": {},
     "output_type": "display_data"
    }
   ],
   "source": [
    "display_df(pa.iloc[0].to_frame().reset_index(), rows=11)"
   ]
  },
  {
   "cell_type": "markdown",
   "metadata": {},
   "source": [
    "Data dictionary: https://docs.google.com/document/d/15ijz94dXJ-YAZLi9iZ_RaBwrZ4KtYeCy08goGBwnbCU/edit (from https://www.purpleair.com/sensorlist)\n",
    "\n",
    "Important columns are created_at, PM2.5_CF1_ug/m3, temp, RH\n",
    "\n",
    "questions:\n",
    "\n",
    "1. what columns do we want to keep?\n",
    "1. what's the difference between PM2.5_CF1 and PM2.5_ATM?\n",
    "1. what's granularity of data?\n",
    "1. when we aggregate, what do we do about missing data?\n",
    "1. what if sensor A and B disagree?"
   ]
  },
  {
   "cell_type": "markdown",
   "metadata": {},
   "source": [
    "## What columns do we want to keep?"
   ]
  },
  {
   "cell_type": "code",
   "execution_count": 6,
   "metadata": {},
   "outputs": [],
   "source": [
    "def subset_cols(pa):\n",
    "    cols = [\n",
    "        'created_at', 'PM2.5_CF1_ug/m3', 'Temperature_F', 'Humidity_%',\n",
    "        'PM2.5_ATM_ug/m3'\n",
    "    ]\n",
    "    return (pa[cols].rename(\n",
    "        columns={\n",
    "            'PM2.5_CF1_ug/m3': 'PM25cf1',\n",
    "            'Temperature_F': 'TempF',\n",
    "            'Humidity_%': 'RH',\n",
    "            'PM2.5_ATM_ug/m3': 'PM25cfatm'\n",
    "        }))\n"
   ]
  },
  {
   "cell_type": "code",
   "execution_count": 7,
   "metadata": {},
   "outputs": [
    {
     "data": {
      "text/html": [
       "<div>\n",
       "<style scoped>\n",
       "    .dataframe tbody tr th:only-of-type {\n",
       "        vertical-align: middle;\n",
       "    }\n",
       "\n",
       "    .dataframe tbody tr th {\n",
       "        vertical-align: top;\n",
       "    }\n",
       "\n",
       "    .dataframe thead th {\n",
       "        text-align: right;\n",
       "    }\n",
       "</style>\n",
       "<table border=\"1\" class=\"dataframe\">\n",
       "  <thead>\n",
       "    <tr style=\"text-align: right;\">\n",
       "      <th></th>\n",
       "      <th>created_at</th>\n",
       "      <th>PM25cf1</th>\n",
       "      <th>TempF</th>\n",
       "      <th>RH</th>\n",
       "      <th>PM25cfatm</th>\n",
       "    </tr>\n",
       "  </thead>\n",
       "  <tbody>\n",
       "    <tr>\n",
       "      <th>0</th>\n",
       "      <td>2018-05-20 00:00:35 UTC</td>\n",
       "      <td>1.23</td>\n",
       "      <td>83.0</td>\n",
       "      <td>32.0</td>\n",
       "      <td>1.23</td>\n",
       "    </tr>\n",
       "    <tr>\n",
       "      <th>1</th>\n",
       "      <td>2018-05-20 00:01:55 UTC</td>\n",
       "      <td>1.94</td>\n",
       "      <td>83.0</td>\n",
       "      <td>32.0</td>\n",
       "      <td>1.94</td>\n",
       "    </tr>\n",
       "    <tr>\n",
       "      <th>2</th>\n",
       "      <td>2018-05-20 00:03:15 UTC</td>\n",
       "      <td>1.80</td>\n",
       "      <td>83.0</td>\n",
       "      <td>32.0</td>\n",
       "      <td>1.80</td>\n",
       "    </tr>\n",
       "    <tr>\n",
       "      <th>...</th>\n",
       "      <td>...</td>\n",
       "      <td>...</td>\n",
       "      <td>...</td>\n",
       "      <td>...</td>\n",
       "      <td>...</td>\n",
       "    </tr>\n",
       "    <tr>\n",
       "      <th>672752</th>\n",
       "      <td>2019-12-29 23:55:30 UTC</td>\n",
       "      <td>40.45</td>\n",
       "      <td>52.0</td>\n",
       "      <td>67.0</td>\n",
       "      <td>36.91</td>\n",
       "    </tr>\n",
       "    <tr>\n",
       "      <th>672753</th>\n",
       "      <td>2019-12-29 23:57:30 UTC</td>\n",
       "      <td>37.72</td>\n",
       "      <td>58.0</td>\n",
       "      <td>67.0</td>\n",
       "      <td>35.49</td>\n",
       "    </tr>\n",
       "    <tr>\n",
       "      <th>672754</th>\n",
       "      <td>2019-12-29 23:59:30 UTC</td>\n",
       "      <td>37.57</td>\n",
       "      <td>58.0</td>\n",
       "      <td>66.0</td>\n",
       "      <td>35.33</td>\n",
       "    </tr>\n",
       "  </tbody>\n",
       "</table>\n",
       "<p>672755 rows × 5 columns</p>\n",
       "</div>"
      ],
      "text/plain": [
       "                     created_at  PM25cf1  TempF    RH  PM25cfatm\n",
       "0       2018-05-20 00:00:35 UTC     1.23   83.0  32.0       1.23\n",
       "1       2018-05-20 00:01:55 UTC     1.94   83.0  32.0       1.94\n",
       "2       2018-05-20 00:03:15 UTC     1.80   83.0  32.0       1.80\n",
       "...                         ...      ...    ...   ...        ...\n",
       "672752  2019-12-29 23:55:30 UTC    40.45   52.0  67.0      36.91\n",
       "672753  2019-12-29 23:57:30 UTC    37.72   58.0  67.0      35.49\n",
       "672754  2019-12-29 23:59:30 UTC    37.57   58.0  66.0      35.33\n",
       "\n",
       "[672755 rows x 5 columns]"
      ]
     },
     "execution_count": 7,
     "metadata": {},
     "output_type": "execute_result"
    }
   ],
   "source": [
    "\n",
    "\n",
    "pa = (pd.read_csv(f'data/purpleair_AMTS/{pa_csvs[0]}')\n",
    "      .pipe(subset_cols))\n",
    "pa"
   ]
  },
  {
   "cell_type": "markdown",
   "metadata": {},
   "source": [
    "## What's the difference between CF1 and ATM?"
   ]
  },
  {
   "cell_type": "code",
   "execution_count": 8,
   "metadata": {},
   "outputs": [
    {
     "data": {
      "text/plain": [
       "<AxesSubplot:xlabel='PM25cf1', ylabel='Density'>"
      ]
     },
     "execution_count": 8,
     "metadata": {},
     "output_type": "execute_result"
    },
    {
     "data": {
      "image/png": "[encoded data removed]",
      "text/plain": [
       "<Figure size 432x288 with 1 Axes>"
      ]
     },
     "metadata": {},
     "output_type": "display_data"
    }
   ],
   "source": [
    "sns.histplot(data=pa, x='PM25cf1', stat='density')"
   ]
  },
  {
   "cell_type": "code",
   "execution_count": 9,
   "metadata": {},
   "outputs": [
    {
     "data": {
      "text/plain": [
       "<AxesSubplot:xlabel='PM25cfatm', ylabel='Density'>"
      ]
     },
     "execution_count": 9,
     "metadata": {},
     "output_type": "execute_result"
    },
    {
     "data": {
      "image/png": "[encoded data removed]",
      "text/plain": [
       "<Figure size 432x288 with 1 Axes>"
      ]
     },
     "metadata": {},
     "output_type": "display_data"
    }
   ],
   "source": [
    "sns.histplot(data=pa, x='PM25cfatm', stat='density')"
   ]
  },
  {
   "cell_type": "code",
   "execution_count": 10,
   "metadata": {},
   "outputs": [
    {
     "data": {
      "image/png": "[encoded data removed]",
      "text/plain": [
       "<Figure size 432x288 with 1 Axes>"
      ]
     },
     "metadata": {},
     "output_type": "display_data"
    }
   ],
   "source": [
    "sns.scatterplot(data=pa, x='PM25cfatm', y='PM25cf1');"
   ]
  },
  {
   "cell_type": "code",
   "execution_count": 11,
   "metadata": {},
   "outputs": [
    {
     "data": {
      "image/png": "[encoded data removed]",
      "text/plain": [
       "<Figure size 432x288 with 1 Axes>"
      ]
     },
     "metadata": {},
     "output_type": "display_data"
    }
   ],
   "source": [
    "sns.scatterplot(data=pa, x='PM25cfatm', y='PM25cf1')\n",
    "line = np.arange(0, 450)\n",
    "plt.plot(line, line, linestyle='--', c='r');"
   ]
  },
  {
   "cell_type": "code",
   "execution_count": 12,
   "metadata": {},
   "outputs": [
    {
     "data": {
      "image/png": "[encoded data removed]",
      "text/plain": [
       "<Figure size 432x288 with 1 Axes>"
      ]
     },
     "metadata": {},
     "output_type": "display_data"
    }
   ],
   "source": [
    "sns.scatterplot(data=pa, x='PM25cfatm', y='PM25cf1')\n",
    "line = np.arange(0, 450)\n",
    "plt.plot(line, line, linestyle='--', c='r')\n",
    "plt.xlim(0, 40)\n",
    "plt.ylim(0, 40);\n"
   ]
  },
  {
   "cell_type": "markdown",
   "metadata": {},
   "source": [
    "so cf1 is generally larger than atm..."
   ]
  },
  {
   "cell_type": "code",
   "execution_count": 13,
   "metadata": {},
   "outputs": [
    {
     "data": {
      "text/html": [
       "<div>\n",
       "<style scoped>\n",
       "    .dataframe tbody tr th:only-of-type {\n",
       "        vertical-align: middle;\n",
       "    }\n",
       "\n",
       "    .dataframe tbody tr th {\n",
       "        vertical-align: top;\n",
       "    }\n",
       "\n",
       "    .dataframe thead th {\n",
       "        text-align: right;\n",
       "    }\n",
       "</style>\n",
       "<table border=\"1\" class=\"dataframe\">\n",
       "  <thead>\n",
       "    <tr style=\"text-align: right;\">\n",
       "      <th></th>\n",
       "      <th>created_at</th>\n",
       "      <th>PM25cf1</th>\n",
       "      <th>TempF</th>\n",
       "      <th>RH</th>\n",
       "      <th>PM25cfatm</th>\n",
       "    </tr>\n",
       "  </thead>\n",
       "  <tbody>\n",
       "    <tr>\n",
       "      <th>532093</th>\n",
       "      <td>2019-06-29 17:52:18 UTC</td>\n",
       "      <td>4.0</td>\n",
       "      <td>87.0</td>\n",
       "      <td>28.0</td>\n",
       "      <td>18.54</td>\n",
       "    </tr>\n",
       "  </tbody>\n",
       "</table>\n",
       "</div>"
      ],
      "text/plain": [
       "                     created_at  PM25cf1  TempF    RH  PM25cfatm\n",
       "532093  2019-06-29 17:52:18 UTC      4.0   87.0  28.0      18.54"
      ]
     },
     "execution_count": 13,
     "metadata": {},
     "output_type": "execute_result"
    }
   ],
   "source": [
    "pa[pa['PM25cf1'] < pa['PM25cfatm']]"
   ]
  },
  {
   "cell_type": "markdown",
   "metadata": {},
   "source": [
    "more investigation shows that PA sensors apply a bit of math while processing\n",
    "the readings. they use two different correction factors; cf1 is more\n",
    "\"conservative\" since it's usually higher."
   ]
  },
  {
   "cell_type": "markdown",
   "metadata": {},
   "source": [
    "## What's the granularity of the data?"
   ]
  },
  {
   "cell_type": "code",
   "execution_count": 14,
   "metadata": {},
   "outputs": [
    {
     "data": {
      "text/plain": [
       "0        2018-05-20 00:00:35+00:00\n",
       "1        2018-05-20 00:01:55+00:00\n",
       "2        2018-05-20 00:03:15+00:00\n",
       "                    ...           \n",
       "672752   2019-12-29 23:55:30+00:00\n",
       "672753   2019-12-29 23:57:30+00:00\n",
       "672754   2019-12-29 23:59:30+00:00\n",
       "Name: created_at, Length: 672755, dtype: datetime64[ns, UTC]"
      ]
     },
     "execution_count": 14,
     "metadata": {},
     "output_type": "execute_result"
    }
   ],
   "source": [
    "times = pd.to_datetime(pa['created_at'], infer_datetime_format=True)\n",
    "times"
   ]
  },
  {
   "cell_type": "code",
   "execution_count": 15,
   "metadata": {},
   "outputs": [
    {
     "data": {
      "text/plain": [
       "<AxesSubplot:xlabel='created_at', ylabel='Count'>"
      ]
     },
     "execution_count": 15,
     "metadata": {},
     "output_type": "execute_result"
    },
    {
     "data": {
      "image/png": "[encoded data removed]",
      "text/plain": [
       "<Figure size 720x360 with 1 Axes>"
      ]
     },
     "metadata": {},
     "output_type": "display_data"
    }
   ],
   "source": [
    "plt.figure(figsize=(10, 5))\n",
    "sns.histplot(times)"
   ]
  },
  {
   "cell_type": "code",
   "execution_count": 16,
   "metadata": {},
   "outputs": [
    {
     "data": {
      "image/png": "[encoded data removed]",
      "text/plain": [
       "<Figure size 720x360 with 1 Axes>"
      ]
     },
     "metadata": {},
     "output_type": "display_data"
    }
   ],
   "source": [
    "plt.figure(figsize=(10, 5))\n",
    "sns.histplot(times)\n",
    "plt.xticks(rotation=45);"
   ]
  },
  {
   "cell_type": "code",
   "execution_count": 17,
   "metadata": {},
   "outputs": [
    {
     "data": {
      "text/plain": [
       "0                    NaT\n",
       "1        0 days 00:01:20\n",
       "2        0 days 00:01:20\n",
       "               ...      \n",
       "672752   0 days 00:01:59\n",
       "672753   0 days 00:02:00\n",
       "672754   0 days 00:02:00\n",
       "Name: created_at, Length: 672755, dtype: timedelta64[ns]"
      ]
     },
     "execution_count": 17,
     "metadata": {},
     "output_type": "execute_result"
    }
   ],
   "source": [
    "times.diff()"
   ]
  },
  {
   "cell_type": "code",
   "execution_count": 18,
   "metadata": {},
   "outputs": [
    {
     "data": {
      "text/plain": [
       "1          80.0\n",
       "2          80.0\n",
       "3          80.0\n",
       "          ...  \n",
       "672752    119.0\n",
       "672753    120.0\n",
       "672754    120.0\n",
       "Name: created_at, Length: 672754, dtype: float64"
      ]
     },
     "execution_count": 18,
     "metadata": {},
     "output_type": "execute_result"
    }
   ],
   "source": [
    "intervals = (times.diff()\n",
    " .dt.total_seconds()\n",
    " .dropna()\n",
    ")\n",
    "intervals"
   ]
  },
  {
   "cell_type": "code",
   "execution_count": 19,
   "metadata": {},
   "outputs": [
    {
     "data": {
      "text/plain": [
       "80.0     368953\n",
       "120.0    120115\n",
       "81.0      47328\n",
       "79.0      47142\n",
       "121.0     13225\n",
       "119.0     12966\n",
       "82.0       8960\n",
       "78.0       8678\n",
       "77.0       6268\n",
       "83.0       6134\n",
       "Name: created_at, dtype: int64"
      ]
     },
     "metadata": {},
     "output_type": "display_data"
    }
   ],
   "source": [
    "display_df(intervals.value_counts().head(10), rows=10)"
   ]
  },
  {
   "cell_type": "markdown",
   "metadata": {},
   "source": [
    "Most readings happen every 80 or 120 seconds.\n",
    "\n",
    "(making a histogram of `intervals` doesn't complete in a reasonable time by default...)"
   ]
  },
  {
   "cell_type": "code",
   "execution_count": 20,
   "metadata": {},
   "outputs": [
    {
     "data": {
      "text/plain": [
       "<AxesSubplot:xlabel='created_at', ylabel='Count'>"
      ]
     },
     "execution_count": 20,
     "metadata": {},
     "output_type": "execute_result"
    },
    {
     "data": {
      "image/png": "[encoded data removed]",
      "text/plain": [
       "<Figure size 432x288 with 1 Axes>"
      ]
     },
     "metadata": {},
     "output_type": "display_data"
    }
   ],
   "source": [
    "sns.histplot(intervals.sample(10))"
   ]
  },
  {
   "cell_type": "code",
   "execution_count": 21,
   "metadata": {},
   "outputs": [
    {
     "data": {
      "text/plain": [
       "<AxesSubplot:xlabel='created_at', ylabel='Count'>"
      ]
     },
     "execution_count": 21,
     "metadata": {},
     "output_type": "execute_result"
    },
    {
     "data": {
      "image/png": "[encoded data removed]",
      "text/plain": [
       "<Figure size 432x288 with 1 Axes>"
      ]
     },
     "metadata": {},
     "output_type": "display_data"
    }
   ],
   "source": [
    "sns.histplot(intervals.sample(1000))"
   ]
  },
  {
   "cell_type": "code",
   "execution_count": 22,
   "metadata": {},
   "outputs": [
    {
     "data": {
      "text/plain": [
       "<AxesSubplot:xlabel='created_at', ylabel='Count'>"
      ]
     },
     "execution_count": 22,
     "metadata": {},
     "output_type": "execute_result"
    },
    {
     "data": {
      "image/png": "[encoded data removed]",
      "text/plain": [
       "<Figure size 432x288 with 1 Axes>"
      ]
     },
     "metadata": {},
     "output_type": "display_data"
    }
   ],
   "source": [
    "sns.histplot(intervals.sample(1000), bins=np.arange(70, 130))"
   ]
  },
  {
   "cell_type": "markdown",
   "metadata": {},
   "source": [
    "it turns out that purpleair switched from 80s to 120s intervals on may 30, 2019."
   ]
  },
  {
   "cell_type": "code",
   "execution_count": 23,
   "metadata": {},
   "outputs": [],
   "source": [
    "def process_times(pa):\n",
    "    times = pd.to_datetime(pa['created_at'], infer_datetime_format=True)\n",
    "    return (pa\n",
    "        .assign(timestamp=times)\n",
    "        .drop(columns=['created_at'])\n",
    "        .set_index('timestamp')\n",
    "    )"
   ]
  },
  {
   "cell_type": "code",
   "execution_count": 24,
   "metadata": {},
   "outputs": [
    {
     "data": {
      "text/html": [
       "<div>\n",
       "<style scoped>\n",
       "    .dataframe tbody tr th:only-of-type {\n",
       "        vertical-align: middle;\n",
       "    }\n",
       "\n",
       "    .dataframe tbody tr th {\n",
       "        vertical-align: top;\n",
       "    }\n",
       "\n",
       "    .dataframe thead th {\n",
       "        text-align: right;\n",
       "    }\n",
       "</style>\n",
       "<table border=\"1\" class=\"dataframe\">\n",
       "  <thead>\n",
       "    <tr style=\"text-align: right;\">\n",
       "      <th></th>\n",
       "      <th>PM25cf1</th>\n",
       "      <th>TempF</th>\n",
       "      <th>RH</th>\n",
       "      <th>PM25cfatm</th>\n",
       "    </tr>\n",
       "    <tr>\n",
       "      <th>timestamp</th>\n",
       "      <th></th>\n",
       "      <th></th>\n",
       "      <th></th>\n",
       "      <th></th>\n",
       "    </tr>\n",
       "  </thead>\n",
       "  <tbody>\n",
       "    <tr>\n",
       "      <th>2018-05-20 00:00:35+00:00</th>\n",
       "      <td>1.23</td>\n",
       "      <td>83.0</td>\n",
       "      <td>32.0</td>\n",
       "      <td>1.23</td>\n",
       "    </tr>\n",
       "    <tr>\n",
       "      <th>2018-05-20 00:01:55+00:00</th>\n",
       "      <td>1.94</td>\n",
       "      <td>83.0</td>\n",
       "      <td>32.0</td>\n",
       "      <td>1.94</td>\n",
       "    </tr>\n",
       "    <tr>\n",
       "      <th>2018-05-20 00:03:15+00:00</th>\n",
       "      <td>1.80</td>\n",
       "      <td>83.0</td>\n",
       "      <td>32.0</td>\n",
       "      <td>1.80</td>\n",
       "    </tr>\n",
       "    <tr>\n",
       "      <th>...</th>\n",
       "      <td>...</td>\n",
       "      <td>...</td>\n",
       "      <td>...</td>\n",
       "      <td>...</td>\n",
       "    </tr>\n",
       "    <tr>\n",
       "      <th>2019-12-29 23:55:30+00:00</th>\n",
       "      <td>40.45</td>\n",
       "      <td>52.0</td>\n",
       "      <td>67.0</td>\n",
       "      <td>36.91</td>\n",
       "    </tr>\n",
       "    <tr>\n",
       "      <th>2019-12-29 23:57:30+00:00</th>\n",
       "      <td>37.72</td>\n",
       "      <td>58.0</td>\n",
       "      <td>67.0</td>\n",
       "      <td>35.49</td>\n",
       "    </tr>\n",
       "    <tr>\n",
       "      <th>2019-12-29 23:59:30+00:00</th>\n",
       "      <td>37.57</td>\n",
       "      <td>58.0</td>\n",
       "      <td>66.0</td>\n",
       "      <td>35.33</td>\n",
       "    </tr>\n",
       "  </tbody>\n",
       "</table>\n",
       "<p>672755 rows × 4 columns</p>\n",
       "</div>"
      ],
      "text/plain": [
       "                           PM25cf1  TempF    RH  PM25cfatm\n",
       "timestamp                                                 \n",
       "2018-05-20 00:00:35+00:00     1.23   83.0  32.0       1.23\n",
       "2018-05-20 00:01:55+00:00     1.94   83.0  32.0       1.94\n",
       "2018-05-20 00:03:15+00:00     1.80   83.0  32.0       1.80\n",
       "...                            ...    ...   ...        ...\n",
       "2019-12-29 23:55:30+00:00    40.45   52.0  67.0      36.91\n",
       "2019-12-29 23:57:30+00:00    37.72   58.0  67.0      35.49\n",
       "2019-12-29 23:59:30+00:00    37.57   58.0  66.0      35.33\n",
       "\n",
       "[672755 rows x 4 columns]"
      ]
     },
     "execution_count": 24,
     "metadata": {},
     "output_type": "execute_result"
    }
   ],
   "source": [
    "pa = (pd.read_csv(f'data/purpleair_AMTS/{pa_csvs[0]}')\n",
    "      .pipe(subset_cols)\n",
    "      .pipe(process_times))\n",
    "pa"
   ]
  },
  {
   "cell_type": "markdown",
   "metadata": {},
   "source": [
    "## What do we do about missing data?\n",
    "\n",
    "we want to average together the measurements within each day. what do we do\n",
    "about missing data? we say that if the sensor has 90% of the measurements\n",
    "within a day, we'll keep the average. otherwise, we'll drop it.\n",
    "\n",
    "but within a day is also tricky because of timestamps...we need to adjust the\n",
    "timezone to UTC-8 time since these measurements were taken in CA. the AQS\n",
    "dataset uses the local date, so if we don't adjust for timezone then we won't\n",
    "average the right data together."
   ]
  },
  {
   "cell_type": "code",
   "execution_count": 25,
   "metadata": {},
   "outputs": [
    {
     "data": {
      "text/plain": [
       "DatetimeIndex(['2018-05-19 17:00:35-07:00', '2018-05-19 17:01:55-07:00',\n",
       "               '2018-05-19 17:03:15-07:00', '2018-05-19 17:04:35-07:00',\n",
       "               '2018-05-19 17:05:55-07:00', '2018-05-19 17:07:15-07:00',\n",
       "               '2018-05-19 17:08:35-07:00', '2018-05-19 17:09:55-07:00',\n",
       "               '2018-05-19 17:11:17-07:00', '2018-05-19 17:12:35-07:00',\n",
       "               ...\n",
       "               '2019-12-29 15:41:30-08:00', '2019-12-29 15:43:31-08:00',\n",
       "               '2019-12-29 15:45:30-08:00', '2019-12-29 15:47:30-08:00',\n",
       "               '2019-12-29 15:49:30-08:00', '2019-12-29 15:51:30-08:00',\n",
       "               '2019-12-29 15:53:31-08:00', '2019-12-29 15:55:30-08:00',\n",
       "               '2019-12-29 15:57:30-08:00', '2019-12-29 15:59:30-08:00'],\n",
       "              dtype='datetime64[ns, US/Pacific]', name='timestamp', length=672755, freq=None)"
      ]
     },
     "execution_count": 25,
     "metadata": {},
     "output_type": "execute_result"
    }
   ],
   "source": [
    "# https://pvlib-python.readthedocs.io/en/stable/timetimezones.html\n",
    "pa.index.tz_convert('US/Pacific')\n"
   ]
  },
  {
   "cell_type": "code",
   "execution_count": 26,
   "metadata": {},
   "outputs": [],
   "source": [
    "def convert_tz(pa):\n",
    "    pst = pa.index.tz_convert('US/Pacific')\n",
    "    pa.index = pst\n",
    "    return pa"
   ]
  },
  {
   "cell_type": "code",
   "execution_count": 27,
   "metadata": {},
   "outputs": [
    {
     "data": {
      "text/html": [
       "<div>\n",
       "<style scoped>\n",
       "    .dataframe tbody tr th:only-of-type {\n",
       "        vertical-align: middle;\n",
       "    }\n",
       "\n",
       "    .dataframe tbody tr th {\n",
       "        vertical-align: top;\n",
       "    }\n",
       "\n",
       "    .dataframe thead th {\n",
       "        text-align: right;\n",
       "    }\n",
       "</style>\n",
       "<table border=\"1\" class=\"dataframe\">\n",
       "  <thead>\n",
       "    <tr style=\"text-align: right;\">\n",
       "      <th></th>\n",
       "      <th>PM25cf1</th>\n",
       "      <th>TempF</th>\n",
       "      <th>RH</th>\n",
       "      <th>PM25cfatm</th>\n",
       "    </tr>\n",
       "    <tr>\n",
       "      <th>timestamp</th>\n",
       "      <th></th>\n",
       "      <th></th>\n",
       "      <th></th>\n",
       "      <th></th>\n",
       "    </tr>\n",
       "  </thead>\n",
       "  <tbody>\n",
       "    <tr>\n",
       "      <th>2018-05-19 17:00:35-07:00</th>\n",
       "      <td>1.23</td>\n",
       "      <td>83.0</td>\n",
       "      <td>32.0</td>\n",
       "      <td>1.23</td>\n",
       "    </tr>\n",
       "    <tr>\n",
       "      <th>2018-05-19 17:01:55-07:00</th>\n",
       "      <td>1.94</td>\n",
       "      <td>83.0</td>\n",
       "      <td>32.0</td>\n",
       "      <td>1.94</td>\n",
       "    </tr>\n",
       "    <tr>\n",
       "      <th>2018-05-19 17:03:15-07:00</th>\n",
       "      <td>1.80</td>\n",
       "      <td>83.0</td>\n",
       "      <td>32.0</td>\n",
       "      <td>1.80</td>\n",
       "    </tr>\n",
       "    <tr>\n",
       "      <th>...</th>\n",
       "      <td>...</td>\n",
       "      <td>...</td>\n",
       "      <td>...</td>\n",
       "      <td>...</td>\n",
       "    </tr>\n",
       "    <tr>\n",
       "      <th>2019-12-29 15:55:30-08:00</th>\n",
       "      <td>40.45</td>\n",
       "      <td>52.0</td>\n",
       "      <td>67.0</td>\n",
       "      <td>36.91</td>\n",
       "    </tr>\n",
       "    <tr>\n",
       "      <th>2019-12-29 15:57:30-08:00</th>\n",
       "      <td>37.72</td>\n",
       "      <td>58.0</td>\n",
       "      <td>67.0</td>\n",
       "      <td>35.49</td>\n",
       "    </tr>\n",
       "    <tr>\n",
       "      <th>2019-12-29 15:59:30-08:00</th>\n",
       "      <td>37.57</td>\n",
       "      <td>58.0</td>\n",
       "      <td>66.0</td>\n",
       "      <td>35.33</td>\n",
       "    </tr>\n",
       "  </tbody>\n",
       "</table>\n",
       "<p>672755 rows × 4 columns</p>\n",
       "</div>"
      ],
      "text/plain": [
       "                           PM25cf1  TempF    RH  PM25cfatm\n",
       "timestamp                                                 \n",
       "2018-05-19 17:00:35-07:00     1.23   83.0  32.0       1.23\n",
       "2018-05-19 17:01:55-07:00     1.94   83.0  32.0       1.94\n",
       "2018-05-19 17:03:15-07:00     1.80   83.0  32.0       1.80\n",
       "...                            ...    ...   ...        ...\n",
       "2019-12-29 15:55:30-08:00    40.45   52.0  67.0      36.91\n",
       "2019-12-29 15:57:30-08:00    37.72   58.0  67.0      35.49\n",
       "2019-12-29 15:59:30-08:00    37.57   58.0  66.0      35.33\n",
       "\n",
       "[672755 rows x 4 columns]"
      ]
     },
     "execution_count": 27,
     "metadata": {},
     "output_type": "execute_result"
    }
   ],
   "source": [
    "pa = (pd.read_csv(f'data/purpleair_AMTS/{pa_csvs[0]}')\n",
    "      .pipe(subset_cols)\n",
    "      .pipe(process_times)\n",
    "      .pipe(convert_tz))\n",
    "pa"
   ]
  },
  {
   "cell_type": "markdown",
   "metadata": {},
   "source": [
    "now, let's count the observations within each day"
   ]
  },
  {
   "cell_type": "code",
   "execution_count": 28,
   "metadata": {},
   "outputs": [
    {
     "data": {
      "text/plain": [
       "timestamp\n",
       "2018-05-19 00:00:00-07:00     315\n",
       "2018-05-20 00:00:00-07:00    1079\n",
       "2018-05-21 00:00:00-07:00    1074\n",
       "                             ... \n",
       "2019-12-27 00:00:00-08:00    1440\n",
       "2019-12-28 00:00:00-08:00    1200\n",
       "2019-12-29 00:00:00-08:00     480\n",
       "Freq: D, Length: 590, dtype: int64"
      ]
     },
     "execution_count": 28,
     "metadata": {},
     "output_type": "execute_result"
    }
   ],
   "source": [
    "# resample only works when the index of a dataframe is a datetimeindex\n",
    "pa.resample('D').size()"
   ]
  },
  {
   "cell_type": "code",
   "execution_count": 29,
   "metadata": {},
   "outputs": [
    {
     "data": {
      "text/plain": [
       "<AxesSubplot:ylabel='Count'>"
      ]
     },
     "execution_count": 29,
     "metadata": {},
     "output_type": "execute_result"
    },
    {
     "data": {
      "image/png": "[encoded data removed]",
      "text/plain": [
       "<Figure size 432x288 with 1 Axes>"
      ]
     },
     "metadata": {},
     "output_type": "display_data"
    }
   ],
   "source": [
    "sns.histplot(pa.resample('D').size())"
   ]
  },
  {
   "cell_type": "markdown",
   "metadata": {},
   "source": [
    "how observations do we expect? for 80s averages, there are 1080 intervals. for\n",
    "120s, there are 720 intervals. so we'll keep a day's average if there are at\n",
    "least 90% of those. (remembering that after may 30, 2019, PA switched to 120s\n",
    "intervals.)"
   ]
  },
  {
   "cell_type": "code",
   "execution_count": 30,
   "metadata": {},
   "outputs": [],
   "source": [
    "needed_measurements_80s = 0.9 * 1080\n",
    "needed_measurements_120s = 0.9 * 720\n",
    "cutoff_date = pd.Timestamp('2019-05-30', tz='US/Pacific')\n",
    "\n",
    "def has_enough_readings(series):\n",
    "    if len(series) == 0: return False\n",
    "    date = series.index[0]\n",
    "    return (len(series) >= needed_measurements_80s\n",
    "            if date < cutoff_date\n",
    "            else len(series) >= needed_measurements_120s)\n"
   ]
  },
  {
   "cell_type": "code",
   "execution_count": 31,
   "metadata": {},
   "outputs": [
    {
     "data": {
      "text/plain": [
       "timestamp\n",
       "2018-05-19 00:00:00-07:00    False\n",
       "2018-05-20 00:00:00-07:00     True\n",
       "2018-05-21 00:00:00-07:00     True\n",
       "                             ...  \n",
       "2019-12-27 00:00:00-08:00     True\n",
       "2019-12-28 00:00:00-08:00     True\n",
       "2019-12-29 00:00:00-08:00    False\n",
       "Freq: D, Name: keep, Length: 590, dtype: bool"
      ]
     },
     "execution_count": 31,
     "metadata": {},
     "output_type": "execute_result"
    }
   ],
   "source": [
    "should_keep = (pa.resample('D')\n",
    " ['PM25cf1']\n",
    " .agg(has_enough_readings)\n",
    " .rename('keep')\n",
    ")\n",
    "should_keep"
   ]
  },
  {
   "cell_type": "markdown",
   "metadata": {},
   "source": [
    "now we can group"
   ]
  },
  {
   "cell_type": "code",
   "execution_count": 32,
   "metadata": {},
   "outputs": [
    {
     "data": {
      "text/html": [
       "<div>\n",
       "<style scoped>\n",
       "    .dataframe tbody tr th:only-of-type {\n",
       "        vertical-align: middle;\n",
       "    }\n",
       "\n",
       "    .dataframe tbody tr th {\n",
       "        vertical-align: top;\n",
       "    }\n",
       "\n",
       "    .dataframe thead th {\n",
       "        text-align: right;\n",
       "    }\n",
       "</style>\n",
       "<table border=\"1\" class=\"dataframe\">\n",
       "  <thead>\n",
       "    <tr style=\"text-align: right;\">\n",
       "      <th></th>\n",
       "      <th>PM25cf1</th>\n",
       "      <th>TempF</th>\n",
       "      <th>RH</th>\n",
       "      <th>PM25cfatm</th>\n",
       "    </tr>\n",
       "    <tr>\n",
       "      <th>timestamp</th>\n",
       "      <th></th>\n",
       "      <th></th>\n",
       "      <th></th>\n",
       "      <th></th>\n",
       "    </tr>\n",
       "  </thead>\n",
       "  <tbody>\n",
       "    <tr>\n",
       "      <th>2018-05-20 00:00:00-07:00</th>\n",
       "      <td>2.48</td>\n",
       "      <td>83.35</td>\n",
       "      <td>28.72</td>\n",
       "      <td>2.48</td>\n",
       "    </tr>\n",
       "    <tr>\n",
       "      <th>2018-05-21 00:00:00-07:00</th>\n",
       "      <td>3.00</td>\n",
       "      <td>83.25</td>\n",
       "      <td>29.91</td>\n",
       "      <td>3.00</td>\n",
       "    </tr>\n",
       "    <tr>\n",
       "      <th>2018-05-22 00:00:00-07:00</th>\n",
       "      <td>3.47</td>\n",
       "      <td>83.09</td>\n",
       "      <td>31.50</td>\n",
       "      <td>3.47</td>\n",
       "    </tr>\n",
       "    <tr>\n",
       "      <th>...</th>\n",
       "      <td>...</td>\n",
       "      <td>...</td>\n",
       "      <td>...</td>\n",
       "      <td>...</td>\n",
       "    </tr>\n",
       "    <tr>\n",
       "      <th>2019-12-26 00:00:00-08:00</th>\n",
       "      <td>1.56</td>\n",
       "      <td>54.46</td>\n",
       "      <td>48.93</td>\n",
       "      <td>1.54</td>\n",
       "    </tr>\n",
       "    <tr>\n",
       "      <th>2019-12-27 00:00:00-08:00</th>\n",
       "      <td>7.66</td>\n",
       "      <td>54.38</td>\n",
       "      <td>46.43</td>\n",
       "      <td>7.58</td>\n",
       "    </tr>\n",
       "    <tr>\n",
       "      <th>2019-12-28 00:00:00-08:00</th>\n",
       "      <td>33.59</td>\n",
       "      <td>53.95</td>\n",
       "      <td>51.26</td>\n",
       "      <td>32.14</td>\n",
       "    </tr>\n",
       "  </tbody>\n",
       "</table>\n",
       "<p>517 rows × 4 columns</p>\n",
       "</div>"
      ],
      "text/plain": [
       "                           PM25cf1  TempF     RH  PM25cfatm\n",
       "timestamp                                                  \n",
       "2018-05-20 00:00:00-07:00     2.48  83.35  28.72       2.48\n",
       "2018-05-21 00:00:00-07:00     3.00  83.25  29.91       3.00\n",
       "2018-05-22 00:00:00-07:00     3.47  83.09  31.50       3.47\n",
       "...                            ...    ...    ...        ...\n",
       "2019-12-26 00:00:00-08:00     1.56  54.46  48.93       1.54\n",
       "2019-12-27 00:00:00-08:00     7.66  54.38  46.43       7.58\n",
       "2019-12-28 00:00:00-08:00    33.59  53.95  51.26      32.14\n",
       "\n",
       "[517 rows x 4 columns]"
      ]
     },
     "execution_count": 32,
     "metadata": {},
     "output_type": "execute_result"
    }
   ],
   "source": [
    "(pa.resample('D')\n",
    " .mean()\n",
    " .loc[should_keep]\n",
    " )"
   ]
  },
  {
   "cell_type": "markdown",
   "metadata": {},
   "source": [
    "finally, we can put this step into the pipeline:"
   ]
  },
  {
   "cell_type": "code",
   "execution_count": 33,
   "metadata": {},
   "outputs": [],
   "source": [
    "def compute_daily_avgs(pa):\n",
    "    should_keep = (pa.resample('D')\n",
    "        ['PM25cf1']\n",
    "        .agg(has_enough_readings)\n",
    "        .rename('keep')\n",
    "    )\n",
    "    return (pa.resample('D')\n",
    "        .mean()\n",
    "        .loc[should_keep]\n",
    "    )"
   ]
  },
  {
   "cell_type": "code",
   "execution_count": 34,
   "metadata": {},
   "outputs": [
    {
     "data": {
      "text/html": [
       "<div>\n",
       "<style scoped>\n",
       "    .dataframe tbody tr th:only-of-type {\n",
       "        vertical-align: middle;\n",
       "    }\n",
       "\n",
       "    .dataframe tbody tr th {\n",
       "        vertical-align: top;\n",
       "    }\n",
       "\n",
       "    .dataframe thead th {\n",
       "        text-align: right;\n",
       "    }\n",
       "</style>\n",
       "<table border=\"1\" class=\"dataframe\">\n",
       "  <thead>\n",
       "    <tr style=\"text-align: right;\">\n",
       "      <th></th>\n",
       "      <th>PM25cf1</th>\n",
       "      <th>TempF</th>\n",
       "      <th>RH</th>\n",
       "      <th>PM25cfatm</th>\n",
       "    </tr>\n",
       "    <tr>\n",
       "      <th>timestamp</th>\n",
       "      <th></th>\n",
       "      <th></th>\n",
       "      <th></th>\n",
       "      <th></th>\n",
       "    </tr>\n",
       "  </thead>\n",
       "  <tbody>\n",
       "    <tr>\n",
       "      <th>2018-05-20 00:00:00-07:00</th>\n",
       "      <td>2.48</td>\n",
       "      <td>83.35</td>\n",
       "      <td>28.72</td>\n",
       "      <td>2.48</td>\n",
       "    </tr>\n",
       "    <tr>\n",
       "      <th>2018-05-21 00:00:00-07:00</th>\n",
       "      <td>3.00</td>\n",
       "      <td>83.25</td>\n",
       "      <td>29.91</td>\n",
       "      <td>3.00</td>\n",
       "    </tr>\n",
       "    <tr>\n",
       "      <th>2018-05-22 00:00:00-07:00</th>\n",
       "      <td>3.47</td>\n",
       "      <td>83.09</td>\n",
       "      <td>31.50</td>\n",
       "      <td>3.47</td>\n",
       "    </tr>\n",
       "    <tr>\n",
       "      <th>...</th>\n",
       "      <td>...</td>\n",
       "      <td>...</td>\n",
       "      <td>...</td>\n",
       "      <td>...</td>\n",
       "    </tr>\n",
       "    <tr>\n",
       "      <th>2019-12-26 00:00:00-08:00</th>\n",
       "      <td>1.56</td>\n",
       "      <td>54.46</td>\n",
       "      <td>48.93</td>\n",
       "      <td>1.54</td>\n",
       "    </tr>\n",
       "    <tr>\n",
       "      <th>2019-12-27 00:00:00-08:00</th>\n",
       "      <td>7.66</td>\n",
       "      <td>54.38</td>\n",
       "      <td>46.43</td>\n",
       "      <td>7.58</td>\n",
       "    </tr>\n",
       "    <tr>\n",
       "      <th>2019-12-28 00:00:00-08:00</th>\n",
       "      <td>33.59</td>\n",
       "      <td>53.95</td>\n",
       "      <td>51.26</td>\n",
       "      <td>32.14</td>\n",
       "    </tr>\n",
       "  </tbody>\n",
       "</table>\n",
       "<p>517 rows × 4 columns</p>\n",
       "</div>"
      ],
      "text/plain": [
       "                           PM25cf1  TempF     RH  PM25cfatm\n",
       "timestamp                                                  \n",
       "2018-05-20 00:00:00-07:00     2.48  83.35  28.72       2.48\n",
       "2018-05-21 00:00:00-07:00     3.00  83.25  29.91       3.00\n",
       "2018-05-22 00:00:00-07:00     3.47  83.09  31.50       3.47\n",
       "...                            ...    ...    ...        ...\n",
       "2019-12-26 00:00:00-08:00     1.56  54.46  48.93       1.54\n",
       "2019-12-27 00:00:00-08:00     7.66  54.38  46.43       7.58\n",
       "2019-12-28 00:00:00-08:00    33.59  53.95  51.26      32.14\n",
       "\n",
       "[517 rows x 4 columns]"
      ]
     },
     "execution_count": 34,
     "metadata": {},
     "output_type": "execute_result"
    }
   ],
   "source": [
    "pa = (pd.read_csv(f'data/purpleair_AMTS/{pa_csvs[0]}')\n",
    "      .pipe(subset_cols)\n",
    "      .pipe(process_times)\n",
    "      .pipe(convert_tz)\n",
    "      .pipe(compute_daily_avgs))\n",
    "pa"
   ]
  },
  {
   "cell_type": "markdown",
   "metadata": {},
   "source": [
    "## What if A and B channels disagree?"
   ]
  },
  {
   "cell_type": "markdown",
   "metadata": {},
   "source": [
    "PA sensors have two channels. if they disagree, the sensor might be unreliable\n",
    "so we can drop the data.\n",
    "\n",
    "we can easily repeat processing on B channel dataset:"
   ]
  },
  {
   "cell_type": "code",
   "execution_count": 35,
   "metadata": {},
   "outputs": [
    {
     "data": {
      "text/plain": [
       "['AMTS_TESTING (outside) (38.568404 -121.493163) Primary Real Time 05_20_2018 12_29_2019.csv',\n",
       " 'AMTS_TESTING (outside) (38.568404 -121.493163) Secondary Real Time 05_20_2018 12_29_2019.csv',\n",
       " 'AMTS_TESTING B (undefined) (38.568404 -121.493163) Primary Real Time 05_20_2018 12_29_2019.csv',\n",
       " 'AMTS_TESTING B (undefined) (38.568404 -121.493163) Secondary Real Time 05_20_2018 12_29_2019.csv']"
      ]
     },
     "execution_count": 35,
     "metadata": {},
     "output_type": "execute_result"
    }
   ],
   "source": [
    "pa_csvs"
   ]
  },
  {
   "cell_type": "code",
   "execution_count": 36,
   "metadata": {},
   "outputs": [
    {
     "data": {
      "text/html": [
       "<div>\n",
       "<style scoped>\n",
       "    .dataframe tbody tr th:only-of-type {\n",
       "        vertical-align: middle;\n",
       "    }\n",
       "\n",
       "    .dataframe tbody tr th {\n",
       "        vertical-align: top;\n",
       "    }\n",
       "\n",
       "    .dataframe thead th {\n",
       "        text-align: right;\n",
       "    }\n",
       "</style>\n",
       "<table border=\"1\" class=\"dataframe\">\n",
       "  <thead>\n",
       "    <tr style=\"text-align: right;\">\n",
       "      <th></th>\n",
       "      <th>created_at</th>\n",
       "      <th>entry_id</th>\n",
       "      <th>PM1.0_CF1_ug/m3</th>\n",
       "      <th>PM2.5_CF1_ug/m3</th>\n",
       "      <th>...</th>\n",
       "      <th>Pressure_hpa</th>\n",
       "      <th>IAQ</th>\n",
       "      <th>PM2.5_ATM_ug/m3</th>\n",
       "      <th>Unnamed: 10</th>\n",
       "    </tr>\n",
       "  </thead>\n",
       "  <tbody>\n",
       "    <tr>\n",
       "      <th>0</th>\n",
       "      <td>2018-05-20 00:01:05 UTC</td>\n",
       "      <td>20741</td>\n",
       "      <td>1.44</td>\n",
       "      <td>1.51</td>\n",
       "      <td>...</td>\n",
       "      <td>1010.73</td>\n",
       "      <td>NaN</td>\n",
       "      <td>1.51</td>\n",
       "      <td>NaN</td>\n",
       "    </tr>\n",
       "    <tr>\n",
       "      <th>1</th>\n",
       "      <td>2018-05-20 00:02:25 UTC</td>\n",
       "      <td>20742</td>\n",
       "      <td>1.27</td>\n",
       "      <td>1.33</td>\n",
       "      <td>...</td>\n",
       "      <td>1010.75</td>\n",
       "      <td>NaN</td>\n",
       "      <td>1.33</td>\n",
       "      <td>NaN</td>\n",
       "    </tr>\n",
       "    <tr>\n",
       "      <th>2</th>\n",
       "      <td>2018-05-20 00:03:45 UTC</td>\n",
       "      <td>20743</td>\n",
       "      <td>1.34</td>\n",
       "      <td>1.83</td>\n",
       "      <td>...</td>\n",
       "      <td>1010.76</td>\n",
       "      <td>NaN</td>\n",
       "      <td>1.83</td>\n",
       "      <td>NaN</td>\n",
       "    </tr>\n",
       "    <tr>\n",
       "      <th>...</th>\n",
       "      <td>...</td>\n",
       "      <td>...</td>\n",
       "      <td>...</td>\n",
       "      <td>...</td>\n",
       "      <td>...</td>\n",
       "      <td>...</td>\n",
       "      <td>...</td>\n",
       "      <td>...</td>\n",
       "      <td>...</td>\n",
       "    </tr>\n",
       "    <tr>\n",
       "      <th>672479</th>\n",
       "      <td>2019-12-29 23:55:33 UTC</td>\n",
       "      <td>523169</td>\n",
       "      <td>27.84</td>\n",
       "      <td>40.72</td>\n",
       "      <td>...</td>\n",
       "      <td>1016.96</td>\n",
       "      <td>NaN</td>\n",
       "      <td>38.86</td>\n",
       "      <td>NaN</td>\n",
       "    </tr>\n",
       "    <tr>\n",
       "      <th>672480</th>\n",
       "      <td>2019-12-29 23:57:33 UTC</td>\n",
       "      <td>523170</td>\n",
       "      <td>27.58</td>\n",
       "      <td>39.42</td>\n",
       "      <td>...</td>\n",
       "      <td>1016.91</td>\n",
       "      <td>NaN</td>\n",
       "      <td>38.14</td>\n",
       "      <td>NaN</td>\n",
       "    </tr>\n",
       "    <tr>\n",
       "      <th>672481</th>\n",
       "      <td>2019-12-29 23:59:33 UTC</td>\n",
       "      <td>523171</td>\n",
       "      <td>27.54</td>\n",
       "      <td>39.49</td>\n",
       "      <td>...</td>\n",
       "      <td>1016.93</td>\n",
       "      <td>NaN</td>\n",
       "      <td>38.13</td>\n",
       "      <td>NaN</td>\n",
       "    </tr>\n",
       "  </tbody>\n",
       "</table>\n",
       "<p>672482 rows × 11 columns</p>\n",
       "</div>"
      ],
      "text/plain": [
       "                     created_at  entry_id  PM1.0_CF1_ug/m3  PM2.5_CF1_ug/m3  \\\n",
       "0       2018-05-20 00:01:05 UTC     20741             1.44             1.51   \n",
       "1       2018-05-20 00:02:25 UTC     20742             1.27             1.33   \n",
       "2       2018-05-20 00:03:45 UTC     20743             1.34             1.83   \n",
       "...                         ...       ...              ...              ...   \n",
       "672479  2019-12-29 23:55:33 UTC    523169            27.84            40.72   \n",
       "672480  2019-12-29 23:57:33 UTC    523170            27.58            39.42   \n",
       "672481  2019-12-29 23:59:33 UTC    523171            27.54            39.49   \n",
       "\n",
       "        ...  Pressure_hpa  IAQ  PM2.5_ATM_ug/m3  Unnamed: 10  \n",
       "0       ...       1010.73  NaN             1.51          NaN  \n",
       "1       ...       1010.75  NaN             1.33          NaN  \n",
       "2       ...       1010.76  NaN             1.83          NaN  \n",
       "...     ...           ...  ...              ...          ...  \n",
       "672479  ...       1016.96  NaN            38.86          NaN  \n",
       "672480  ...       1016.91  NaN            38.14          NaN  \n",
       "672481  ...       1016.93  NaN            38.13          NaN  \n",
       "\n",
       "[672482 rows x 11 columns]"
      ]
     },
     "execution_count": 36,
     "metadata": {},
     "output_type": "execute_result"
    }
   ],
   "source": [
    "pa_B = pd.read_csv(f'data/purpleair_AMTS/{pa_csvs[2]}')\n",
    "pa_B"
   ]
  },
  {
   "cell_type": "markdown",
   "metadata": {},
   "source": [
    "But the columns of B are different..."
   ]
  },
  {
   "cell_type": "code",
   "execution_count": 37,
   "metadata": {},
   "outputs": [
    {
     "data": {
      "text/plain": [
       "Index(['created_at', 'entry_id', 'PM1.0_CF1_ug/m3', 'PM2.5_CF1_ug/m3',\n",
       "       'PM10.0_CF1_ug/m3', 'UptimeMinutes', 'ADC', 'Pressure_hpa', 'IAQ',\n",
       "       'PM2.5_ATM_ug/m3', 'Unnamed: 10'],\n",
       "      dtype='object')"
      ]
     },
     "execution_count": 37,
     "metadata": {},
     "output_type": "execute_result"
    }
   ],
   "source": [
    "pa_B.columns"
   ]
  },
  {
   "cell_type": "markdown",
   "metadata": {},
   "source": [
    "we can define the subsetting step:"
   ]
  },
  {
   "cell_type": "code",
   "execution_count": 38,
   "metadata": {},
   "outputs": [],
   "source": [
    "def subset_cols_B(pa):\n",
    "    cols = [\n",
    "        'created_at', 'PM2.5_CF1_ug/m3', 'PM2.5_ATM_ug/m3'\n",
    "    ]\n",
    "    return (pa[cols].rename(\n",
    "        columns={\n",
    "            'PM2.5_CF1_ug/m3': 'PM25cf1',\n",
    "            'PM2.5_ATM_ug/m3': 'PM25cfatm'\n",
    "        }))\n"
   ]
  },
  {
   "cell_type": "markdown",
   "metadata": {},
   "source": [
    "Then reuse pipeline"
   ]
  },
  {
   "cell_type": "code",
   "execution_count": 39,
   "metadata": {},
   "outputs": [
    {
     "data": {
      "text/html": [
       "<div>\n",
       "<style scoped>\n",
       "    .dataframe tbody tr th:only-of-type {\n",
       "        vertical-align: middle;\n",
       "    }\n",
       "\n",
       "    .dataframe tbody tr th {\n",
       "        vertical-align: top;\n",
       "    }\n",
       "\n",
       "    .dataframe thead th {\n",
       "        text-align: right;\n",
       "    }\n",
       "</style>\n",
       "<table border=\"1\" class=\"dataframe\">\n",
       "  <thead>\n",
       "    <tr style=\"text-align: right;\">\n",
       "      <th></th>\n",
       "      <th>PM25cf1</th>\n",
       "      <th>PM25cfatm</th>\n",
       "    </tr>\n",
       "    <tr>\n",
       "      <th>timestamp</th>\n",
       "      <th></th>\n",
       "      <th></th>\n",
       "    </tr>\n",
       "  </thead>\n",
       "  <tbody>\n",
       "    <tr>\n",
       "      <th>2018-05-20 00:00:00-07:00</th>\n",
       "      <td>2.42</td>\n",
       "      <td>2.42</td>\n",
       "    </tr>\n",
       "    <tr>\n",
       "      <th>2018-05-21 00:00:00-07:00</th>\n",
       "      <td>3.01</td>\n",
       "      <td>3.01</td>\n",
       "    </tr>\n",
       "    <tr>\n",
       "      <th>2018-05-22 00:00:00-07:00</th>\n",
       "      <td>3.46</td>\n",
       "      <td>3.46</td>\n",
       "    </tr>\n",
       "    <tr>\n",
       "      <th>...</th>\n",
       "      <td>...</td>\n",
       "      <td>...</td>\n",
       "    </tr>\n",
       "    <tr>\n",
       "      <th>2019-12-26 00:00:00-08:00</th>\n",
       "      <td>1.42</td>\n",
       "      <td>1.40</td>\n",
       "    </tr>\n",
       "    <tr>\n",
       "      <th>2019-12-27 00:00:00-08:00</th>\n",
       "      <td>8.08</td>\n",
       "      <td>8.01</td>\n",
       "    </tr>\n",
       "    <tr>\n",
       "      <th>2019-12-28 00:00:00-08:00</th>\n",
       "      <td>36.78</td>\n",
       "      <td>35.22</td>\n",
       "    </tr>\n",
       "  </tbody>\n",
       "</table>\n",
       "<p>516 rows × 2 columns</p>\n",
       "</div>"
      ],
      "text/plain": [
       "                           PM25cf1  PM25cfatm\n",
       "timestamp                                    \n",
       "2018-05-20 00:00:00-07:00     2.42       2.42\n",
       "2018-05-21 00:00:00-07:00     3.01       3.01\n",
       "2018-05-22 00:00:00-07:00     3.46       3.46\n",
       "...                            ...        ...\n",
       "2019-12-26 00:00:00-08:00     1.42       1.40\n",
       "2019-12-27 00:00:00-08:00     8.08       8.01\n",
       "2019-12-28 00:00:00-08:00    36.78      35.22\n",
       "\n",
       "[516 rows x 2 columns]"
      ]
     },
     "execution_count": 39,
     "metadata": {},
     "output_type": "execute_result"
    }
   ],
   "source": [
    "pa_B = (pd.read_csv(f'data/purpleair_AMTS/{pa_csvs[2]}')\n",
    "      .pipe(subset_cols_B)\n",
    "      .pipe(process_times)\n",
    "      .pipe(convert_tz)\n",
    "      .pipe(compute_daily_avgs)\n",
    "      )\n",
    "pa_B"
   ]
  },
  {
   "cell_type": "code",
   "execution_count": 40,
   "metadata": {},
   "outputs": [
    {
     "data": {
      "text/html": [
       "<div>\n",
       "<style scoped>\n",
       "    .dataframe tbody tr th:only-of-type {\n",
       "        vertical-align: middle;\n",
       "    }\n",
       "\n",
       "    .dataframe tbody tr th {\n",
       "        vertical-align: top;\n",
       "    }\n",
       "\n",
       "    .dataframe thead th {\n",
       "        text-align: right;\n",
       "    }\n",
       "</style>\n",
       "<table border=\"1\" class=\"dataframe\">\n",
       "  <thead>\n",
       "    <tr style=\"text-align: right;\">\n",
       "      <th></th>\n",
       "      <th>PM25cf1</th>\n",
       "      <th>TempF</th>\n",
       "      <th>RH</th>\n",
       "      <th>PM25cfatm</th>\n",
       "    </tr>\n",
       "    <tr>\n",
       "      <th>timestamp</th>\n",
       "      <th></th>\n",
       "      <th></th>\n",
       "      <th></th>\n",
       "      <th></th>\n",
       "    </tr>\n",
       "  </thead>\n",
       "  <tbody>\n",
       "    <tr>\n",
       "      <th>2018-05-20 00:00:00-07:00</th>\n",
       "      <td>2.48</td>\n",
       "      <td>83.35</td>\n",
       "      <td>28.72</td>\n",
       "      <td>2.48</td>\n",
       "    </tr>\n",
       "    <tr>\n",
       "      <th>2018-05-21 00:00:00-07:00</th>\n",
       "      <td>3.00</td>\n",
       "      <td>83.25</td>\n",
       "      <td>29.91</td>\n",
       "      <td>3.00</td>\n",
       "    </tr>\n",
       "    <tr>\n",
       "      <th>2018-05-22 00:00:00-07:00</th>\n",
       "      <td>3.47</td>\n",
       "      <td>83.09</td>\n",
       "      <td>31.50</td>\n",
       "      <td>3.47</td>\n",
       "    </tr>\n",
       "    <tr>\n",
       "      <th>...</th>\n",
       "      <td>...</td>\n",
       "      <td>...</td>\n",
       "      <td>...</td>\n",
       "      <td>...</td>\n",
       "    </tr>\n",
       "    <tr>\n",
       "      <th>2019-12-26 00:00:00-08:00</th>\n",
       "      <td>1.56</td>\n",
       "      <td>54.46</td>\n",
       "      <td>48.93</td>\n",
       "      <td>1.54</td>\n",
       "    </tr>\n",
       "    <tr>\n",
       "      <th>2019-12-27 00:00:00-08:00</th>\n",
       "      <td>7.66</td>\n",
       "      <td>54.38</td>\n",
       "      <td>46.43</td>\n",
       "      <td>7.58</td>\n",
       "    </tr>\n",
       "    <tr>\n",
       "      <th>2019-12-28 00:00:00-08:00</th>\n",
       "      <td>33.59</td>\n",
       "      <td>53.95</td>\n",
       "      <td>51.26</td>\n",
       "      <td>32.14</td>\n",
       "    </tr>\n",
       "  </tbody>\n",
       "</table>\n",
       "<p>517 rows × 4 columns</p>\n",
       "</div>"
      ],
      "text/plain": [
       "                           PM25cf1  TempF     RH  PM25cfatm\n",
       "timestamp                                                  \n",
       "2018-05-20 00:00:00-07:00     2.48  83.35  28.72       2.48\n",
       "2018-05-21 00:00:00-07:00     3.00  83.25  29.91       3.00\n",
       "2018-05-22 00:00:00-07:00     3.47  83.09  31.50       3.47\n",
       "...                            ...    ...    ...        ...\n",
       "2019-12-26 00:00:00-08:00     1.56  54.46  48.93       1.54\n",
       "2019-12-27 00:00:00-08:00     7.66  54.38  46.43       7.58\n",
       "2019-12-28 00:00:00-08:00    33.59  53.95  51.26      32.14\n",
       "\n",
       "[517 rows x 4 columns]"
      ]
     },
     "execution_count": 40,
     "metadata": {},
     "output_type": "execute_result"
    }
   ],
   "source": [
    "pa"
   ]
  },
  {
   "cell_type": "markdown",
   "metadata": {},
   "source": [
    "we see some differences. again, apply threshold. if A and B differ by more than\n",
    "61% or by 5 ug/m3, remove day."
   ]
  },
  {
   "cell_type": "code",
   "execution_count": 41,
   "metadata": {},
   "outputs": [
    {
     "data": {
      "text/plain": [
       "13"
      ]
     },
     "execution_count": 41,
     "metadata": {},
     "output_type": "execute_result"
    }
   ],
   "source": [
    "A = pa['PM25cf1']\n",
    "B = pa_B['PM25cf1']\n",
    "\n",
    "abs_diff = (A - B).abs()\n",
    "perc_diff = (A - B) * 2 / (A + B)\n",
    "should_drop = (perc_diff >= 0.61) | (abs_diff >= 5)\n",
    "np.count_nonzero(should_drop)"
   ]
  },
  {
   "cell_type": "code",
   "execution_count": 42,
   "metadata": {},
   "outputs": [],
   "source": [
    "def average_A_B(pa):\n",
    "    avg_cf1 = (pa['PM25cf1'] + pa_B['PM25cf1']) / 2\n",
    "    avg_atm = (pa['PM25cfatm'] + pa_B['PM25cfatm']) / 2\n",
    "    return pa.assign(avg_cf1=avg_cf1, avg_atm=avg_atm)\n",
    "\n",
    "def drop_when_A_B_disagree(pa):\n",
    "    A = pa['PM25cf1']\n",
    "    B = pa_B['PM25cf1']\n",
    "\n",
    "    abs_diff = (A - B).abs()\n",
    "    perc_diff = (A - B) * 2 / (A + B)\n",
    "    should_drop = (perc_diff >= 0.61) | (abs_diff >= 5)\n",
    "    return pa[~should_drop]\n",
    "\n",
    "def reassign_avg_to_pm(pa):\n",
    "    return (pa.drop(columns=['PM25cf1', 'PM25cfatm'])\n",
    "            .rename(columns={'avg_cf1': 'PM25cf1', 'avg_atm': 'PM25cfatm'})\n",
    "            [['PM25cf1', 'TempF', 'RH', 'PM25cfatm']]\n",
    "            )"
   ]
  },
  {
   "cell_type": "code",
   "execution_count": 43,
   "metadata": {},
   "outputs": [
    {
     "data": {
      "text/html": [
       "<div>\n",
       "<style scoped>\n",
       "    .dataframe tbody tr th:only-of-type {\n",
       "        vertical-align: middle;\n",
       "    }\n",
       "\n",
       "    .dataframe tbody tr th {\n",
       "        vertical-align: top;\n",
       "    }\n",
       "\n",
       "    .dataframe thead th {\n",
       "        text-align: right;\n",
       "    }\n",
       "</style>\n",
       "<table border=\"1\" class=\"dataframe\">\n",
       "  <thead>\n",
       "    <tr style=\"text-align: right;\">\n",
       "      <th></th>\n",
       "      <th>PM25cf1</th>\n",
       "      <th>TempF</th>\n",
       "      <th>RH</th>\n",
       "      <th>PM25cfatm</th>\n",
       "    </tr>\n",
       "    <tr>\n",
       "      <th>timestamp</th>\n",
       "      <th></th>\n",
       "      <th></th>\n",
       "      <th></th>\n",
       "      <th></th>\n",
       "    </tr>\n",
       "  </thead>\n",
       "  <tbody>\n",
       "    <tr>\n",
       "      <th>2018-05-20 00:00:00-07:00</th>\n",
       "      <td>2.45</td>\n",
       "      <td>83.35</td>\n",
       "      <td>28.72</td>\n",
       "      <td>2.45</td>\n",
       "    </tr>\n",
       "    <tr>\n",
       "      <th>2018-05-21 00:00:00-07:00</th>\n",
       "      <td>3.01</td>\n",
       "      <td>83.25</td>\n",
       "      <td>29.91</td>\n",
       "      <td>3.01</td>\n",
       "    </tr>\n",
       "    <tr>\n",
       "      <th>2018-05-22 00:00:00-07:00</th>\n",
       "      <td>3.46</td>\n",
       "      <td>83.09</td>\n",
       "      <td>31.50</td>\n",
       "      <td>3.46</td>\n",
       "    </tr>\n",
       "    <tr>\n",
       "      <th>...</th>\n",
       "      <td>...</td>\n",
       "      <td>...</td>\n",
       "      <td>...</td>\n",
       "      <td>...</td>\n",
       "    </tr>\n",
       "    <tr>\n",
       "      <th>2019-12-26 00:00:00-08:00</th>\n",
       "      <td>1.49</td>\n",
       "      <td>54.46</td>\n",
       "      <td>48.93</td>\n",
       "      <td>1.47</td>\n",
       "    </tr>\n",
       "    <tr>\n",
       "      <th>2019-12-27 00:00:00-08:00</th>\n",
       "      <td>7.87</td>\n",
       "      <td>54.38</td>\n",
       "      <td>46.43</td>\n",
       "      <td>7.79</td>\n",
       "    </tr>\n",
       "    <tr>\n",
       "      <th>2019-12-28 00:00:00-08:00</th>\n",
       "      <td>35.19</td>\n",
       "      <td>53.95</td>\n",
       "      <td>51.26</td>\n",
       "      <td>33.68</td>\n",
       "    </tr>\n",
       "  </tbody>\n",
       "</table>\n",
       "<p>504 rows × 4 columns</p>\n",
       "</div>"
      ],
      "text/plain": [
       "                           PM25cf1  TempF     RH  PM25cfatm\n",
       "timestamp                                                  \n",
       "2018-05-20 00:00:00-07:00     2.45  83.35  28.72       2.45\n",
       "2018-05-21 00:00:00-07:00     3.01  83.25  29.91       3.01\n",
       "2018-05-22 00:00:00-07:00     3.46  83.09  31.50       3.46\n",
       "...                            ...    ...    ...        ...\n",
       "2019-12-26 00:00:00-08:00     1.49  54.46  48.93       1.47\n",
       "2019-12-27 00:00:00-08:00     7.87  54.38  46.43       7.79\n",
       "2019-12-28 00:00:00-08:00    35.19  53.95  51.26      33.68\n",
       "\n",
       "[504 rows x 4 columns]"
      ]
     },
     "execution_count": 43,
     "metadata": {},
     "output_type": "execute_result"
    }
   ],
   "source": [
    "ca1 = (pa.pipe(average_A_B)\n",
    " .pipe(drop_when_A_B_disagree)\n",
    " .pipe(reassign_avg_to_pm)\n",
    ")\n",
    "ca1"
   ]
  },
  {
   "cell_type": "markdown",
   "metadata": {},
   "source": [
    "now, we can merge ca1 and the aqs table to get the matched AQS and PA readings.\n",
    "article did this for 50 sites across the us:"
   ]
  },
  {
   "cell_type": "code",
   "execution_count": 3,
   "metadata": {},
   "outputs": [
    {
     "data": {
      "text/html": [
       "<div>\n",
       "<style scoped>\n",
       "    .dataframe tbody tr th:only-of-type {\n",
       "        vertical-align: middle;\n",
       "    }\n",
       "\n",
       "    .dataframe tbody tr th {\n",
       "        vertical-align: top;\n",
       "    }\n",
       "\n",
       "    .dataframe thead th {\n",
       "        text-align: right;\n",
       "    }\n",
       "</style>\n",
       "<table border=\"1\" class=\"dataframe\">\n",
       "  <thead>\n",
       "    <tr style=\"text-align: right;\">\n",
       "      <th></th>\n",
       "      <th>Unnamed: 0</th>\n",
       "      <th>Date</th>\n",
       "      <th>ID</th>\n",
       "      <th>region</th>\n",
       "      <th>...</th>\n",
       "      <th>ratiocfatm_FM</th>\n",
       "      <th>diffcfatm_FM</th>\n",
       "      <th>ratiocf1_FM</th>\n",
       "      <th>diffcf1_FM</th>\n",
       "    </tr>\n",
       "  </thead>\n",
       "  <tbody>\n",
       "    <tr>\n",
       "      <th>0</th>\n",
       "      <td>1</td>\n",
       "      <td>2019-05-17</td>\n",
       "      <td>AK1</td>\n",
       "      <td>Alaska</td>\n",
       "      <td>...</td>\n",
       "      <td>1.23</td>\n",
       "      <td>1.56</td>\n",
       "      <td>1.29</td>\n",
       "      <td>1.92</td>\n",
       "    </tr>\n",
       "    <tr>\n",
       "      <th>1</th>\n",
       "      <td>2</td>\n",
       "      <td>2019-05-18</td>\n",
       "      <td>AK1</td>\n",
       "      <td>Alaska</td>\n",
       "      <td>...</td>\n",
       "      <td>0.88</td>\n",
       "      <td>-0.44</td>\n",
       "      <td>0.92</td>\n",
       "      <td>-0.31</td>\n",
       "    </tr>\n",
       "    <tr>\n",
       "      <th>2</th>\n",
       "      <td>3</td>\n",
       "      <td>2019-05-21</td>\n",
       "      <td>AK1</td>\n",
       "      <td>Alaska</td>\n",
       "      <td>...</td>\n",
       "      <td>0.95</td>\n",
       "      <td>-0.20</td>\n",
       "      <td>0.95</td>\n",
       "      <td>-0.20</td>\n",
       "    </tr>\n",
       "    <tr>\n",
       "      <th>...</th>\n",
       "      <td>...</td>\n",
       "      <td>...</td>\n",
       "      <td>...</td>\n",
       "      <td>...</td>\n",
       "      <td>...</td>\n",
       "      <td>...</td>\n",
       "      <td>...</td>\n",
       "      <td>...</td>\n",
       "      <td>...</td>\n",
       "    </tr>\n",
       "    <tr>\n",
       "      <th>12427</th>\n",
       "      <td>12428</td>\n",
       "      <td>2019-02-20</td>\n",
       "      <td>WI6</td>\n",
       "      <td>North</td>\n",
       "      <td>...</td>\n",
       "      <td>1.60</td>\n",
       "      <td>9.41</td>\n",
       "      <td>1.62</td>\n",
       "      <td>9.70</td>\n",
       "    </tr>\n",
       "    <tr>\n",
       "      <th>12428</th>\n",
       "      <td>12429</td>\n",
       "      <td>2019-03-04</td>\n",
       "      <td>WI6</td>\n",
       "      <td>North</td>\n",
       "      <td>...</td>\n",
       "      <td>0.59</td>\n",
       "      <td>-5.79</td>\n",
       "      <td>0.59</td>\n",
       "      <td>-5.79</td>\n",
       "    </tr>\n",
       "    <tr>\n",
       "      <th>12429</th>\n",
       "      <td>12430</td>\n",
       "      <td>2019-03-22</td>\n",
       "      <td>WI6</td>\n",
       "      <td>North</td>\n",
       "      <td>...</td>\n",
       "      <td>1.63</td>\n",
       "      <td>3.64</td>\n",
       "      <td>1.63</td>\n",
       "      <td>3.64</td>\n",
       "    </tr>\n",
       "  </tbody>\n",
       "</table>\n",
       "<p>12430 rows × 31 columns</p>\n",
       "</div>"
      ],
      "text/plain": [
       "       Unnamed: 0        Date   ID  region  ... ratiocfatm_FM diffcfatm_FM  \\\n",
       "0               1  2019-05-17  AK1  Alaska  ...          1.23         1.56   \n",
       "1               2  2019-05-18  AK1  Alaska  ...          0.88        -0.44   \n",
       "2               3  2019-05-21  AK1  Alaska  ...          0.95        -0.20   \n",
       "...           ...         ...  ...     ...  ...           ...          ...   \n",
       "12427       12428  2019-02-20  WI6   North  ...          1.60         9.41   \n",
       "12428       12429  2019-03-04  WI6   North  ...          0.59        -5.79   \n",
       "12429       12430  2019-03-22  WI6   North  ...          1.63         3.64   \n",
       "\n",
       "       ratiocf1_FM  diffcf1_FM  \n",
       "0             1.29        1.92  \n",
       "1             0.92       -0.31  \n",
       "2             0.95       -0.20  \n",
       "...            ...         ...  \n",
       "12427         1.62        9.70  \n",
       "12428         0.59       -5.79  \n",
       "12429         1.63        3.64  \n",
       "\n",
       "[12430 rows x 31 columns]"
      ]
     },
     "execution_count": 3,
     "metadata": {},
     "output_type": "execute_result"
    }
   ],
   "source": [
    "final = pd.read_csv('data/cleaned_purpleair_aqs/Full24hrdataset.csv')\n",
    "final"
   ]
  },
  {
   "cell_type": "code",
   "execution_count": 6,
   "metadata": {},
   "outputs": [
    {
     "data": {
      "text/html": [
       "<div>\n",
       "<style scoped>\n",
       "    .dataframe tbody tr th:only-of-type {\n",
       "        vertical-align: middle;\n",
       "    }\n",
       "\n",
       "    .dataframe tbody tr th {\n",
       "        vertical-align: top;\n",
       "    }\n",
       "\n",
       "    .dataframe thead th {\n",
       "        text-align: right;\n",
       "    }\n",
       "</style>\n",
       "<table border=\"1\" class=\"dataframe\">\n",
       "  <thead>\n",
       "    <tr style=\"text-align: right;\">\n",
       "      <th></th>\n",
       "      <th>0</th>\n",
       "    </tr>\n",
       "  </thead>\n",
       "  <tbody>\n",
       "    <tr>\n",
       "      <th>Unnamed: 0</th>\n",
       "      <td>1</td>\n",
       "    </tr>\n",
       "    <tr>\n",
       "      <th>Date</th>\n",
       "      <td>2019-05-17</td>\n",
       "    </tr>\n",
       "    <tr>\n",
       "      <th>ID</th>\n",
       "      <td>AK1</td>\n",
       "    </tr>\n",
       "    <tr>\n",
       "      <th>region</th>\n",
       "      <td>Alaska</td>\n",
       "    </tr>\n",
       "    <tr>\n",
       "      <th>FEMorFRM</th>\n",
       "      <td>FRM</td>\n",
       "    </tr>\n",
       "    <tr>\n",
       "      <th>FEMorFRMtype</th>\n",
       "      <td>R &amp; P Model 2025 PM-2.5 Sequential Air Sampler...</td>\n",
       "    </tr>\n",
       "    <tr>\n",
       "      <th>PM25FM</th>\n",
       "      <td>6.7</td>\n",
       "    </tr>\n",
       "    <tr>\n",
       "      <th>PM25cfatm</th>\n",
       "      <td>8.26</td>\n",
       "    </tr>\n",
       "    <tr>\n",
       "      <th>PM25cf1</th>\n",
       "      <td>8.62</td>\n",
       "    </tr>\n",
       "    <tr>\n",
       "      <th>b0.3um</th>\n",
       "      <td>1154.62</td>\n",
       "    </tr>\n",
       "    <tr>\n",
       "      <th>b0.5um</th>\n",
       "      <td>331.85</td>\n",
       "    </tr>\n",
       "    <tr>\n",
       "      <th>b1um</th>\n",
       "      <td>52.04</td>\n",
       "    </tr>\n",
       "    <tr>\n",
       "      <th>b2.5um</th>\n",
       "      <td>4.66</td>\n",
       "    </tr>\n",
       "    <tr>\n",
       "      <th>b5um</th>\n",
       "      <td>1.8</td>\n",
       "    </tr>\n",
       "    <tr>\n",
       "      <th>b10um</th>\n",
       "      <td>0.82</td>\n",
       "    </tr>\n",
       "    <tr>\n",
       "      <th>b0.3to0.5</th>\n",
       "      <td>822.77</td>\n",
       "    </tr>\n",
       "    <tr>\n",
       "      <th>b0.5to1</th>\n",
       "      <td>279.81</td>\n",
       "    </tr>\n",
       "    <tr>\n",
       "      <th>b1to2.5</th>\n",
       "      <td>47.38</td>\n",
       "    </tr>\n",
       "    <tr>\n",
       "      <th>b2.5to5</th>\n",
       "      <td>2.86</td>\n",
       "    </tr>\n",
       "    <tr>\n",
       "      <th>b5to10</th>\n",
       "      <td>0.98</td>\n",
       "    </tr>\n",
       "    <tr>\n",
       "      <th>TempC</th>\n",
       "      <td>18.03</td>\n",
       "    </tr>\n",
       "    <tr>\n",
       "      <th>RH</th>\n",
       "      <td>38.56</td>\n",
       "    </tr>\n",
       "    <tr>\n",
       "      <th>Dewpoint</th>\n",
       "      <td>3.63</td>\n",
       "    </tr>\n",
       "    <tr>\n",
       "      <th>PM25PAlinearcor</th>\n",
       "      <td>6.03</td>\n",
       "    </tr>\n",
       "    <tr>\n",
       "      <th>PM25PARHcor</th>\n",
       "      <td>6.95</td>\n",
       "    </tr>\n",
       "    <tr>\n",
       "      <th>ratioPARHcor_FM</th>\n",
       "      <td>1.04</td>\n",
       "    </tr>\n",
       "    <tr>\n",
       "      <th>diffPARHcor_FM</th>\n",
       "      <td>0.25</td>\n",
       "    </tr>\n",
       "    <tr>\n",
       "      <th>ratiocfatm_FM</th>\n",
       "      <td>1.23</td>\n",
       "    </tr>\n",
       "    <tr>\n",
       "      <th>diffcfatm_FM</th>\n",
       "      <td>1.56</td>\n",
       "    </tr>\n",
       "    <tr>\n",
       "      <th>ratiocf1_FM</th>\n",
       "      <td>1.29</td>\n",
       "    </tr>\n",
       "    <tr>\n",
       "      <th>diffcf1_FM</th>\n",
       "      <td>1.92</td>\n",
       "    </tr>\n",
       "  </tbody>\n",
       "</table>\n",
       "</div>"
      ],
      "text/plain": [
       "                                                                 0\n",
       "Unnamed: 0                                                       1\n",
       "Date                                                    2019-05-17\n",
       "ID                                                             AK1\n",
       "region                                                      Alaska\n",
       "FEMorFRM                                                       FRM\n",
       "FEMorFRMtype     R & P Model 2025 PM-2.5 Sequential Air Sampler...\n",
       "PM25FM                                                         6.7\n",
       "PM25cfatm                                                     8.26\n",
       "PM25cf1                                                       8.62\n",
       "b0.3um                                                     1154.62\n",
       "b0.5um                                                      331.85\n",
       "b1um                                                         52.04\n",
       "b2.5um                                                        4.66\n",
       "b5um                                                           1.8\n",
       "b10um                                                         0.82\n",
       "b0.3to0.5                                                   822.77\n",
       "b0.5to1                                                     279.81\n",
       "b1to2.5                                                      47.38\n",
       "b2.5to5                                                       2.86\n",
       "b5to10                                                        0.98\n",
       "TempC                                                        18.03\n",
       "RH                                                           38.56\n",
       "Dewpoint                                                      3.63\n",
       "PM25PAlinearcor                                               6.03\n",
       "PM25PARHcor                                                   6.95\n",
       "ratioPARHcor_FM                                               1.04\n",
       "diffPARHcor_FM                                                0.25\n",
       "ratiocfatm_FM                                                 1.23\n",
       "diffcfatm_FM                                                  1.56\n",
       "ratiocf1_FM                                                   1.29\n",
       "diffcf1_FM                                                    1.92"
      ]
     },
     "metadata": {},
     "output_type": "display_data"
    }
   ],
   "source": [
    "display_df(final.iloc[0].to_frame(), rows=31)"
   ]
  }
 ],
 "metadata": {
  "celltoolbar": "Tags",
  "kernelspec": {
   "display_name": "Python 3",
   "language": "python",
   "name": "python3"
  },
  "language_info": {
   "codemirror_mode": {
    "name": "ipython",
    "version": 3
   },
   "file_extension": ".py",
   "mimetype": "text/x-python",
   "name": "python",
   "nbconvert_exporter": "python",
   "pygments_lexer": "ipython3",
   "version": "3.9.4"
  }
 },
 "nbformat": 4,
 "nbformat_minor": 4
}
