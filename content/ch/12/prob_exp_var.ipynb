{
 "cells": [
  {
   "cell_type": "code",
   "execution_count": 3,
   "metadata": {
    "tags": [
     "hide_input"
    ]
   },
   "outputs": [],
   "source": [
    "# HIDDEN\n",
    "import warnings\n",
    "# Ignore numpy dtype warnings. These warnings are caused by an interaction\n",
    "# between numpy and Cython and can be safely ignored.\n",
    "# Reference: https://stackoverflow.com/a/40846742\n",
    "warnings.filterwarnings(\"ignore\", message=\"numpy.dtype size changed\")\n",
    "warnings.filterwarnings(\"ignore\", message=\"numpy.ufunc size changed\")\n",
    "\n",
    "import numpy as np\n",
    "import matplotlib.pyplot as plt\n",
    "import pandas as pd\n",
    "import seaborn as sns\n",
    "%matplotlib inline\n",
    "import ipywidgets as widgets\n",
    "from ipywidgets import interact, interactive, fixed, interact_manual\n",
    "import nbinteract as nbi\n",
    "\n",
    "sns.set()\n",
    "sns.set_context('talk')\n",
    "np.set_printoptions(threshold=20, precision=2, suppress=True)\n",
    "pd.options.display.max_rows = 7\n",
    "pd.options.display.max_columns = 8\n",
    "pd.set_option('precision', 2)\n",
    "# This option stops scientific notation for pandas\n",
    "# pd.set_option('display.float_format', '{:.2f}'.format)"
   ]
  },
  {
   "cell_type": "markdown",
   "metadata": {},
   "source": [
    "## Expectation and Variance\n",
    "\n",
    "Although a random variable is completely described by its probability mass function (PMF), we often use **expectation** and **variance** to describe the variable's long-run average and spread. These two values have unique mathematical properties that hold particular importance for data science—for example, we can show that an estimation is accurate in the long term by showing that its expected value is equal to the population parameter. We proceed by defining expectation and variance, introducing their most useful mathematical properties, and conclude with a brief application to estimation."
   ]
  },
  {
   "cell_type": "markdown",
   "metadata": {},
   "source": [
    "### Expectation\n",
    "\n",
    "We are often interested in the long-run average of a random variable because it gives us a sense of the center of the variable's distribution. We call this long-run average the **expected value**, or the **expectation** of a random variable. The expected value of a random variable $ X $ is:\n",
    "\n",
    "$$\\mathbb{E}[X] = \\sum_{x\\in \\mathbb{X}} x \\cdot P(X = x)$$\n",
    "\n",
    "For example, if $ X $ represents the roll of a single fair six-sided die, \n",
    "\n",
    "$$\n",
    "\\begin{aligned}\n",
    "\\mathbb{E}[X]\n",
    "&= 1 \\cdot P(X = 1) + 2 \\cdot P(X = 2) + \\ldots + 6 \\cdot P(X = 6) \\\\\n",
    "&= 1 \\cdot \\frac{1}{6} + 2 \\cdot \\frac{1}{6} + \\ldots + 6 \\cdot \\frac{1}{6} \\\\\n",
    "&= 3.5\n",
    "\\end{aligned}\n",
    "$$\n",
    "\n",
    "Notice that the expected value of $ X $ does not have to be a possible value of $ X $. Although $ \\mathbb{E}[X] = 3.5 $, $ X $ cannot actually take on the value $ 3.5 $."
   ]
  },
  {
   "cell_type": "markdown",
   "metadata": {},
   "source": [
    "**Example:** Recall our dataset from the previous section:"
   ]
  },
  {
   "cell_type": "code",
   "execution_count": 4,
   "metadata": {
    "tags": [
     "hide_input"
    ]
   },
   "outputs": [
    {
     "data": {
      "text/html": [
       "<div>\n",
       "<style scoped>\n",
       "    .dataframe tbody tr th:only-of-type {\n",
       "        vertical-align: middle;\n",
       "    }\n",
       "\n",
       "    .dataframe tbody tr th {\n",
       "        vertical-align: top;\n",
       "    }\n",
       "\n",
       "    .dataframe thead th {\n",
       "        text-align: right;\n",
       "    }\n",
       "</style>\n",
       "<table border=\"1\" class=\"dataframe\">\n",
       "  <thead>\n",
       "    <tr style=\"text-align: right;\">\n",
       "      <th></th>\n",
       "      <th>Name</th>\n",
       "      <th>Age</th>\n",
       "    </tr>\n",
       "  </thead>\n",
       "  <tbody>\n",
       "    <tr>\n",
       "      <th>0</th>\n",
       "      <td>Carol</td>\n",
       "      <td>50</td>\n",
       "    </tr>\n",
       "    <tr>\n",
       "      <th>1</th>\n",
       "      <td>Bob</td>\n",
       "      <td>52</td>\n",
       "    </tr>\n",
       "    <tr>\n",
       "      <th>2</th>\n",
       "      <td>John</td>\n",
       "      <td>51</td>\n",
       "    </tr>\n",
       "    <tr>\n",
       "      <th>3</th>\n",
       "      <td>Dave</td>\n",
       "      <td>50</td>\n",
       "    </tr>\n",
       "  </tbody>\n",
       "</table>\n",
       "</div>"
      ],
      "text/plain": [
       "    Name  Age\n",
       "0  Carol   50\n",
       "1    Bob   52\n",
       "2   John   51\n",
       "3   Dave   50"
      ]
     },
     "execution_count": 4,
     "metadata": {},
     "output_type": "execute_result"
    }
   ],
   "source": [
    "# HIDDEN\n",
    "data={\"Name\":[\"Carol\",\"Bob\",\"John\",\"Dave\"], 'Age': [50,52,51,50]}\n",
    "people = pd.DataFrame(data)\n",
    "people"
   ]
  },
  {
   "cell_type": "markdown",
   "metadata": {},
   "source": [
    "We pick one person from this dataset uniformly at random. Let $ Y $ be a random variable representing the age of this person. Then:\n",
    "\n",
    "$$\n",
    "\\begin{aligned}\n",
    "\\mathbb{E}[Y]\n",
    "&= 50 \\cdot P(Y = 50) + 51 \\cdot P(Y = 51) + 52 \\cdot P(Y = 52) \\\\\n",
    "&= 50 \\cdot \\frac{2}{4} + 51 \\cdot \\frac{1}{4} + 52 \\cdot \\frac{1}{4} \\\\\n",
    "&= 50.75\n",
    "\\end{aligned}\n",
    "$$"
   ]
  },
  {
   "cell_type": "markdown",
   "metadata": {},
   "source": [
    "**Example:** Suppose we sample two people from the dataset with replacement. If the random variable $ Z $ represents the difference between the ages of the first and second persons in the sample, what is  $ \\mathbb{E}[Z] $?\n"
   ]
  },
  {
   "cell_type": "markdown",
   "metadata": {},
   "source": [
    "As in the previous section, we define $X$ as the age of the first person and $Y$ as the age of the second such that $Z = X - Y$. From the joint distribution of $X$ and $Y$ given in the previous section, we can find the PMF for $ Z $. For example, $ P(Z = 1) = P(X = 51, Y = 50) + P(X = 52, Y = 51) = \\frac{3}{16} $. Thus,\n",
    "\n",
    "$$\n",
    "\\begin{aligned}\n",
    "\\mathbb{E}[Z]\n",
    "&= (-2) \\cdot P(Z = -2) + (-1) \\cdot P(Z = -1) + \\ldots + (2) \\cdot P(Z = 2) \\\\\n",
    "&= (-2) \\cdot \\frac{2}{16} + (-1) \\cdot \\frac{3}{16}+ \\ldots + (2) \\cdot \\frac{2}{16} \\\\\n",
    "&= 0\n",
    "\\end{aligned}\n",
    "$$\n",
    "\n",
    "Since $ \\mathbb{E}[Z] = 0 $, we expect that in the long run the difference between the ages of the people in a sample of size 2 will be 0."
   ]
  },
  {
   "cell_type": "markdown",
   "metadata": {},
   "source": [
    "#### Linearity of Expectation\n",
    "\n",
    "When working with linear combinations of random variables as we did above, we can often make good use of the **linearity of expectation** instead of tediously calculating each joint probability individually.\n",
    "\n",
    "The linearity of expectation states that:\n",
    "\n",
    "$$\n",
    "\\begin{aligned}\n",
    "\\mathbb{E}[X + Y] &= \\mathbb{E}[X] + \\mathbb{E}[Y] \\\\\n",
    "\\end{aligned}\n",
    "$$\n",
    "\n",
    "From this statement we may also derive:\n",
    "\n",
    "$$\n",
    "\\begin{aligned}\n",
    "\\mathbb{E}[cX] &= c\\mathbb{E}[X] \\\\\n",
    "\\end{aligned}\n",
    "$$\n",
    "\n",
    "where $X$ and $Y$ are random variables, and $c$ is a constant.\n",
    "\n",
    "In words, the expectation of a sum of any two random variables is equal to the sum of the expectations of the variables.\n",
    "\n",
    "In the previous example, we saw that $ Z = X - Y $. Thus,  $ \\mathbb{E}[Z] = \\mathbb{E}[X - Y] = \\mathbb{E}[X] - \\mathbb{E}[Y] $. \n",
    "\n",
    "Now we can calculate $ \\mathbb{E}[X] $ and  $ \\mathbb{E}[Y] $ separately from each other. Since $ \\mathbb{E}[X] = \\mathbb{E}[Y] = 50.75 $, $ \\mathbb{E}[Z] = 50.75 - 50.75 = 0 $."
   ]
  },
  {
   "cell_type": "markdown",
   "metadata": {},
   "source": [
    "The linearity of expectation holds even if $ X $ and $ Y $ are dependent on each other! As an example, let us again consider the case in which we sample two people from our small dataset in the previous section without replacement. As before, we define $X$ as the age of the first person and $Y$ as the age of the second, and $Z = X - Y$. Clearly, $X$ and $Y$ are not independent—knowing $ X = 52 $, for example, means that $ Y \\neq 52 $.\n",
    "\n",
    "From the joint distribution of $X$ and $Y$ given in the previous section, we can find $\\mathbb{E}[Z]$:\n",
    "\n",
    "$$\n",
    "\\begin{aligned}\n",
    "\\mathbb{E}[Z]\n",
    "&= (-2) \\cdot P(Z = -2) + (-1) \\cdot P(Z = -1) + \\ldots + (2) \\cdot P(Z = 2) \\\\\n",
    "&= (-2) \\cdot \\frac{2}{12} + (-1) \\cdot \\frac{3}{12}+ \\ldots + (2) \\cdot \\frac{2}{12} \\\\\n",
    "&= 0\n",
    "\\end{aligned}\n",
    "$$\n",
    "\n",
    "A simpler way to compute this expectation is to use the linearity of expectation. Even though $X$ and $Y$ dependent, $\\mathbb{E}[Z] = \\mathbb{E}[X - Y] = \\mathbb{E}[X] - \\mathbb{E}[Y]$. Recall from the previous section that $X$ and $Y$ have the same PMF even though we are sampling without replacement, which means that $\\mathbb{E}[X] = \\mathbb{E}[Y] = 50.75$. Hence as in the first scenario, $\\mathbb{E}[Z] = 0$.\n",
    "\n",
    "Note that the linearity of expectation only holds for linear combinations of random variables. For example, $ \\mathbb{E}[XY] = \\mathbb{E}[X]\\mathbb{E}[Y] $ is not a linear combination of $ X $ and $ Y $. In this case, $ \\mathbb{E}[XY] = \\mathbb{E}[X]\\mathbb{E}[Y] $ is true in general only for independent random variables."
   ]
  },
  {
   "cell_type": "markdown",
   "metadata": {},
   "source": [
    "### Variance\n",
    "\n",
    "The variance of a random variable is a numerical description of the variable's spread. For a random variable $ X $:\n",
    "\n",
    "$$\n",
    "\\begin{aligned}\n",
    "Var(X) &= \\mathbb{E}[(X - \\mathbb{E}[X])^2] \\\\\n",
    "\\end{aligned}\n",
    "$$\n",
    "\n",
    "The above formula states that the variance of $ X $ is the average squared distance from $ X $'s expected value.\n",
    "\n",
    "With some algebraic manipulation that we omit for brevity, we may also equivalently write:\n",
    "\n",
    "$$\n",
    "\\begin{aligned}\n",
    "Var(X) &= \\mathbb{E}[X^2] - \\mathbb{E}[X]^2 \\\\\n",
    "\\end{aligned}\n",
    "$$"
   ]
  },
  {
   "cell_type": "markdown",
   "metadata": {},
   "source": [
    "Consider the following two random variables $ X $ and $ Y $ with the following probability distributions:"
   ]
  },
  {
   "cell_type": "code",
   "execution_count": 23,
   "metadata": {
    "tags": [
     "hide_input",
     "jekyll-raw"
    ]
   },
   "outputs": [],
   "source": [
    "# HIDDEN\n",
    "\n",
    "def plot_pmf(xs, probs, rv_name='X', val_name='x', prob_denom=4):\n",
    "    plt.plot(xs, probs, 'ro', ms=12, mec='b', color='b')\n",
    "    plt.vlines(xs, 0, probs, colors='b', lw=4)\n",
    "    plt.xlabel(f'${val_name}$')\n",
    "    plt.ylabel(f'$P({rv_name} = {val_name})$')\n",
    "    plt.ylim(0, 1)\n",
    "    plt.yticks(np.linspace(0, 1, prob_denom + 1),\n",
    "               ['0']\n",
    "               + [rf'$\\frac{{{n}}}{{{prob_denom}}}$'\n",
    "                  for n in range(1, prob_denom)]\n",
    "               + ['1'])\n",
    "    plt.title(f'PMF of ${rv_name}$');"
   ]
  },
  {
   "cell_type": "code",
   "execution_count": 25,
   "metadata": {
    "tags": [
     "hide_input"
    ]
   },
   "outputs": [
    {
     "data": {
      "image/png": "[encoded data removed]",
      "text/plain": [
       "<Figure size 720x360 with 2 Axes>"
      ]
     },
     "metadata": {},
     "output_type": "display_data"
    }
   ],
   "source": [
    "# HIDDEN\n",
    "\n",
    "plt.figure(figsize=(10, 5))\n",
    "\n",
    "plt.subplot(1, 2, 1)\n",
    "plot_pmf([-1, 1], [0.5, 0.5])\n",
    "plt.xlim(-2, 2);\n",
    "\n",
    "plt.subplot(1, 2, 2)\n",
    "plot_pmf((-2, -1, 1, 2), (1/4, 1/4, 1/4, 1/4), rv_name='Y', val_name='y')\n",
    "plt.tight_layout()"
   ]
  },
  {
   "cell_type": "markdown",
   "metadata": {},
   "source": [
    "$ X $ takes on values -1 and 1 with probability $ \\frac{1}{2} $ each. $ Y $ takes on values -2, -1, 1, and 2 with probability $ \\frac{1}{4} $ each. We find that $ \\mathbb{E}[X] = \\mathbb{E}[Y] = 0 $. Since $ Y $'s distribution has a higher spread than $ X $'s, we expect that $ Var(Y) $ is larger than $ Var(X) $.\n",
    "\n",
    "$$\n",
    "\\begin{aligned}\n",
    "Var(X)\n",
    "&= \\mathbb{E}[X^2] - \\mathbb{E}[X]^2 \\\\\n",
    "&= \\mathbb{E}[X^2] - 0^2 \\\\\n",
    "&= \\mathbb{E}[X^2] \\\\\n",
    "&= (-1)^2 P(X = -1) + (1)^2 P(X = 1) \\\\\n",
    "&= 1 \\cdot 0.5 + 1 \\cdot 0.5 \\\\\n",
    "&= 1 \\\\\\\\\n",
    "Var(Y)\n",
    "&= \\mathbb{E}[Y^2] - \\mathbb{E}[Y]^2 \\\\\n",
    "&= \\mathbb{E}[Y^2] - 0^2 \\\\\n",
    "&= \\mathbb{E}[Y^2] \\\\\n",
    "&= (-2)^2 P(Y = -2) + (-1)^2 P(Y = -1) + (1)^2 P(Y = 1) + (2)^2 P(Y = 2) \\\\\n",
    "&= 4 \\cdot 0.25 + 1 \\cdot 0.25 + 1 \\cdot 0.25 + 4 \\cdot 0.25\\\\\n",
    "&= 2.5\n",
    "\\end{aligned}\n",
    "$$"
   ]
  },
  {
   "cell_type": "markdown",
   "metadata": {},
   "source": [
    "As expected, the variance of $ Y $ is greater than the variance of $ X $.\n",
    "\n",
    "The variance has a useful property to simplify some calculations. If $ X $ is a random variable:\n",
    "\n",
    "$$\n",
    "\\begin{aligned}\n",
    "Var(aX + b) &= a^2 Var(X)\n",
    "\\end{aligned}\n",
    "$$\n",
    "\n",
    "If two random variables $ X $ and $ Y $ are independent:\n",
    "\n",
    "$$\n",
    "\\begin{aligned}\n",
    "Var(X + Y) = Var(X) + Var(Y)\n",
    "\\end{aligned}\n",
    "$$\n",
    "\n",
    "Note that the linearity of expectation holds for any $ X $ and $ Y $ even if they are dependent. However, $ Var(X + Y) = Var(X) + Var(Y) $ holds only when $ X $ and $ Y $ are **independent**."
   ]
  },
  {
   "cell_type": "markdown",
   "metadata": {},
   "source": [
    "#### Covariance\n",
    "\n",
    "The covariance of two random variables $X$ and $Y$ is defined as:\n",
    "\n",
    "$$\n",
    "\\begin{aligned}\n",
    "Cov(X, Y) &= \\mathbb{E}[(X - \\mathbb{E}[X])(Y - \\mathbb{E}[Y])]\n",
    "\\end{aligned}\n",
    "$$\n",
    "\n",
    "Again, we can perform some algebraic manipulation to obtain:\n",
    "\n",
    "$$\n",
    "\\begin{aligned}\n",
    "Cov(X, Y) = \\mathbb{E}[XY] - \\mathbb{E}[X]\\mathbb{E}[Y]\n",
    "\\end{aligned}\n",
    "$$\n",
    "\n",
    "Note that although the variance of a single random variable must be non-negative, the covariance of two random variables can be negative. In fact, the covariance helps measure the correlation between two random variables; the sign of the covariance helps us determine whether two random variables are positively or negatively correlated. If two random variables $X$ and $Y$ are independent, then $Cov(X, Y) = 0$, and $\\mathbb{E}[XY] = \\mathbb{E}[X]\\mathbb{E}[Y]$."
   ]
  },
  {
   "cell_type": "markdown",
   "metadata": {},
   "source": [
    "### Bernoulli Random Variables\n",
    "\n",
    "Suppose we want to use a random variable $X$ to a simulate a biased coin with $P(Heads) = p$. We can say that $X = 1$ if the coin flip is heads, and $X = 0$ if the coin flip is tails. Therefore, $P(X = 1) = p$, and $P(X = 0) = 1 - p$. This type of binary random variable is called a Bernoulli random variable; we can calculate its expected value and variance as follows:\n",
    "\n",
    "$$\\mathbb{E}[X] = 1 \\times p + 0 \\times (1 - p) = p$$\n",
    "\n",
    "$$\n",
    "\\begin{aligned}\n",
    "Var(X) &= \\mathbb{E}[X^2] - \\mathbb{E}[X]^2 \\\\\n",
    "&= 1^2 \\times p + 0^2 \\times (1 - p) - p^2 \\\\\n",
    "&= p - p^2 \\\\\n",
    "&= p(1 - p)\n",
    "\\end{aligned}\n",
    "$$"
   ]
  },
  {
   "cell_type": "markdown",
   "metadata": {},
   "source": [
    "### Sample Means\n",
    "\n",
    "Suppose we possess a biased coin with $P(Heads) = p$ and we would like to estimate $ p $. We can flip the coin $ n $ times to collect a sample of flips and calculate the proportion of heads in our sample, $ \\hat p $. If we know that $ \\hat p $ is often close to $ p $, we can use $ \\hat p $ as an **estimator** for $ p $.\n",
    "\n",
    "Notice that $ p $ is *not* a random quantity; it is a fixed value based on the bias of the coin. $ \\hat p $, however, is a random quantity since it is generated from the random outcomes of flipping the coin. Thus, we can compute the expectation and variance of $ \\hat p $ to precisely understand how well it estimates $ p $."
   ]
  },
  {
   "cell_type": "markdown",
   "metadata": {},
   "source": [
    "To compute $ \\mathbb{E}[\\hat p] $, we will first define random variables for each flip in the sample. Let $X_i$ be a Bernoulli random variable for the $i^{th}$ coin flip. Then, we know that:\n",
    "\n",
    "$$\n",
    "\\begin{aligned}\n",
    "\\hat p = \\frac{X_1 + X_2 + \\ldots + X_n}{n}\n",
    "\\end{aligned}\n",
    "$$\n",
    "\n",
    "To calculate the expectation of $ \\hat p $, we can plug in the formula above and use the fact that $ \\mathbb{E}[X_i] = p $ since $ X_i $ is a Bernoulli random variable.\n",
    "\n",
    "$$\n",
    "\\begin{aligned}\n",
    "\\mathbb{E}[\\hat p] \n",
    "&= \\mathbb{E} \\left[ \\frac{X_1 + X_2 + \\ldots + X_n}{n} \\right] \\\\\n",
    "&= \\frac{1}{n} \\mathbb{E}[X_1 + \\ldots + X_n] \\\\\n",
    "&= \\frac{1}{n} \\left( \\mathbb{E}[X_1] +  \\ldots + \\mathbb{E}[X_n] \\right) \\\\\n",
    "&= \\frac{1}{n} (p + \\ldots + p) \\\\\n",
    "&= \\frac{1}{n} (np) \\\\\n",
    "\\mathbb{E}[\\hat p] &= p\n",
    "\\end{aligned}\n",
    "$$"
   ]
  },
  {
   "cell_type": "markdown",
   "metadata": {},
   "source": [
    "We find that $ \\mathbb{E}[\\hat p] = p $. In other words, with enough flips we expect our estimator $ \\hat p $ to converge to the true coin bias $ p $. We say that $ \\hat p $ is an **unbiased estimator** of $ p $."
   ]
  },
  {
   "cell_type": "markdown",
   "metadata": {},
   "source": [
    "Next, we calculate the variance of $ \\hat p $. Since each flip is independent from the others, we know that $ X_i $ are independent. This allows us to use the linearity of variance.\n",
    "\n",
    "$$\n",
    "\\begin{aligned}\n",
    "Var(\\hat p) &= Var \\left(\\frac{1}{n} \\sum_{i=1}^{n} X_i \\right) \\\\\n",
    "&= \\frac{1}{n^2} \\sum_{i=1}^{n}Var(X_i) \\\\\n",
    "&= \\frac{1}{n^2} \\times np(1-p) \\\\\n",
    "Var(\\hat p) &= \\frac{p(1-p)}{n}\n",
    "\\end{aligned}\n",
    "$$"
   ]
  },
  {
   "cell_type": "markdown",
   "metadata": {},
   "source": [
    "From the equivalence above, we see that the variance of our estimator decreases as we increase $ n $, the number of flips in our sample. In other words, if we collect lots of data we can be more certain about our estimator's value. This behavior is known as the law of large numbers."
   ]
  },
  {
   "cell_type": "markdown",
   "metadata": {},
   "source": [
    "## Summary\n",
    "\n",
    "We use expectation and variance to provide simple descriptions of a random variable's center and spread. These mathematical tools allow us to determine how well an quantity calculated from a sample estimates a quantity in the population.\n",
    "\n",
    "Minimizing a loss function creates a model that is accurate on its training data. Expectation and variance allow us to make general statements about the model's accuracy on unseen data from the population."
   ]
  }
 ],
 "metadata": {
  "kernelspec": {
   "display_name": "Python 3",
   "language": "python",
   "name": "python3"
  },
  "language_info": {
   "codemirror_mode": {
    "name": "ipython",
    "version": 3
   },
   "file_extension": ".py",
   "mimetype": "text/x-python",
   "name": "python",
   "nbconvert_exporter": "python",
   "pygments_lexer": "ipython3",
   "version": "3.7.3"
  },
  "toc": {
   "nav_menu": {},
   "number_sections": false,
   "sideBar": false,
   "skip_h1_title": false,
   "title_cell": "Table of Contents",
   "title_sidebar": "Contents",
   "toc_cell": true,
   "toc_position": {},
   "toc_section_display": true,
   "toc_window_display": false
  }
 },
 "nbformat": 4,
 "nbformat_minor": 2
}
