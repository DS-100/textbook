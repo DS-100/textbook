{
 "cells": [
  {
   "cell_type": "code",
   "execution_count": null,
   "metadata": {
    "tags": [
     "hide_input"
    ]
   },
   "outputs": [],
   "source": [
    "# HIDDEN\n",
    "import warnings\n",
    "# Ignore numpy dtype warnings. These warnings are caused by an interaction\n",
    "# between numpy and Cython and can be safely ignored.\n",
    "# Reference: https://stackoverflow.com/a/40846742\n",
    "warnings.filterwarnings(\"ignore\", message=\"numpy.dtype size changed\")\n",
    "warnings.filterwarnings(\"ignore\", message=\"numpy.ufunc size changed\")\n",
    "\n",
    "import numpy as np\n",
    "import matplotlib.pyplot as plt\n",
    "import pandas as pd\n",
    "import seaborn as sns\n",
    "%matplotlib inline\n",
    "import ipywidgets as widgets\n",
    "from ipywidgets import interact, interactive, fixed, interact_manual\n",
    "import nbinteract as nbi\n",
    "\n",
    "sns.set()\n",
    "sns.set_context('talk')\n",
    "np.set_printoptions(threshold=20, precision=2, suppress=True)\n",
    "pd.options.display.max_rows = 7\n",
    "pd.options.display.max_columns = 8\n",
    "pd.set_option('precision', 2)\n",
    "# This option stops scientific notation for pandas\n",
    "# pd.set_option('display.float_format', '{:.2f}'.format)"
   ]
  },
  {
   "cell_type": "markdown",
   "metadata": {},
   "source": [
    "# Least Squares &mdash; A Geometric Perspective"
   ]
  },
  {
   "cell_type": "markdown",
   "metadata": {},
   "source": [
    "Recall that we found the optimal coefficients for linear models by optimizing their loss functions with gradient descent. We also mentioned that least squares linear regression can be solved analytically. While gradient descent is practical, this geometric perspective will provide a deeper understanding of linear regression.\n",
    "\n",
    "A Vector Space Review is included in the Appendix. We will assume familiarity with vector arithmetic, the 1-vector, span of a collection of vectors, and projections."
   ]
  },
  {
   "cell_type": "markdown",
   "metadata": {},
   "source": [
    "## Case Study"
   ]
  },
  {
   "cell_type": "markdown",
   "metadata": {},
   "source": [
    "We've been tasked with finding a good linear model for the data:"
   ]
  },
  {
   "cell_type": "markdown",
   "metadata": {},
   "source": [
    "| x | y |\n",
    "| - | - |\n",
    "| 3 | 2 |\n",
    "| 0 | 1 |\n",
    "| -1 | -2 |"
   ]
  },
  {
   "cell_type": "code",
   "execution_count": 2,
   "metadata": {
    "tags": [
     "hide_input"
    ]
   },
   "outputs": [
    {
     "data": {
      "image/png": "[encoded data removed]",
      "text/plain": [
       "<Figure size 432x288 with 1 Axes>"
      ]
     },
     "metadata": {},
     "output_type": "display_data"
    }
   ],
   "source": [
    "# HIDDEN\n",
    "data = pd.DataFrame(\n",
    "    [\n",
    "        [3,2],\n",
    "        [0,1],\n",
    "        [-1,-2]\n",
    "    ],\n",
    "    columns=['x', 'y']\n",
    ")\n",
    "\n",
    "sns.regplot(x='x', y='y', data=data, ci=None, fit_reg=False);"
   ]
  },
  {
   "cell_type": "markdown",
   "metadata": {},
   "source": [
    "Assume that the best model is one with the least error, and that the least squares error is an acceptable measure."
   ]
  },
  {
   "cell_type": "markdown",
   "metadata": {},
   "source": [
    "### Least Squares: Constant Model"
   ]
  },
  {
   "cell_type": "markdown",
   "metadata": {},
   "source": [
    "Like we did with the tips dataset, let's start with the constant model: the model that only ever predicts a single number.\n",
    "\n",
    "$$ \\theta = C$$\n",
    "\n",
    "Thus, we are working with just the $y$-values."
   ]
  },
  {
   "cell_type": "markdown",
   "metadata": {},
   "source": [
    "| y |\n",
    "| - |\n",
    "| 2 |\n",
    "| 1 |\n",
    "| -2 |"
   ]
  },
  {
   "cell_type": "markdown",
   "metadata": {},
   "source": [
    "Our goal is to find the $ \\theta $ that results in the line that minimizes the squared loss:\n",
    "\n",
    "$$ L(\\theta, \\textbf{y}) = \\sum_{i = 1}^{n}(y_i - \\theta)^2\\\\ $$\n",
    "\n",
    "Recall that for the constant model, the minimizing $\\theta$ for MSE is $\\bar{\\textbf{y}}$, the average of the $\\textbf{y}$ values. The calculus derivation can be found in the Loss Functions lesson in the Modeling and Estimations chapter. For the linear algebra derivation, please refer to the Vector Space Review in the Appendix."
   ]
  },
  {
   "cell_type": "markdown",
   "metadata": {},
   "source": [
    "Notice that our loss function is a sum of squares. The *L2*-norm for a vector is also a sum of squares, but with a square root: \n",
    "\n",
    "$$\\Vert \\textbf{v} \\Vert = \\sqrt{v_1^2 + v_2^2 + \\dots + v_n^2}$$ \n",
    "\n",
    "If we let $y_i - \\theta = v_i$:\n",
    "\n",
    "$$\n",
    "\\begin{aligned}\n",
    "L(\\theta, \\textbf{y}) \n",
    "&= v_1^2 + v_2^2 + \\dots + v_n^2 \\\\\n",
    "&= \\Vert \\textbf{v} \\Vert^2\n",
    "\\end{aligned}\n",
    "$$\n",
    "\n",
    "This means our loss can be expressed as the *L2*-norm of some vector $\\textbf{v}$, squared. We can express $v_i$ as $y_i - \\theta \\quad \\forall i \\in [1,n]$ so that in Cartesian notation, \n",
    "\n",
    "$$\n",
    "\\begin{aligned}\n",
    "\\textbf{v} \\quad &= \\quad \\begin{bmatrix} y_1 - \\theta \\\\ y_2 - \\theta \\\\ \\vdots \\\\ y_n - \\theta \\end{bmatrix} \\\\\n",
    "&= \\quad \\begin{bmatrix} y_1 \\\\ y_2 \\\\ \\vdots \\\\ y_n  \\end{bmatrix} \\quad - \\quad \n",
    "\\begin{bmatrix} \\theta \\\\ \\theta \\\\ \\vdots \\\\ \\theta \\end{bmatrix} \\\\\n",
    "&= \\quad \\begin{bmatrix} y_1 \\\\ y_2 \\\\ \\vdots \\\\ y_n  \\end{bmatrix} \\quad - \\quad \n",
    "\\theta \\begin{bmatrix} 1 \\\\ 1 \\\\ \\vdots \\\\ 1 \\end{bmatrix}\n",
    "\\end{aligned}\n",
    "$$\n",
    "\n",
    "So our loss function can be written as:\n",
    "\n",
    "$$ \n",
    "\\begin{aligned}\n",
    "L(\\theta, \\textbf{y})\n",
    "\\quad &= \\quad \\left \\Vert  \\qquad   \n",
    "\\begin{bmatrix} y_1 \\\\ y_2 \\\\ \\vdots \\\\ y_n  \\end{bmatrix} \\quad - \\quad \n",
    "\\theta \\begin{bmatrix} 1 \\\\ 1 \\\\ \\vdots \\\\ 1 \\end{bmatrix}\n",
    "\\qquad \\right \\Vert ^2 \\\\\n",
    "\\quad &= \\quad \\left \\Vert  \\qquad  \n",
    "\\textbf{y} \n",
    "\\quad - \\quad \n",
    "\\hat{\\textbf{y}}\n",
    "\\qquad \\right \\Vert ^2 \\\\\n",
    "\\end{aligned}\n",
    "$$"
   ]
  },
  {
   "cell_type": "markdown",
   "metadata": {},
   "source": [
    "The expression $\\theta \\begin{bmatrix} 1 \\\\ 1 \\\\ \\vdots \\\\ 1 \\end{bmatrix}$  is a scalar multiple of the columns of the $\\textbf{1}$ vector, and is the result of our predictions, denoted $\\hat{\\textbf{y}}$.\n",
    "\n",
    "This gives us a new perspective on what it means to minimize the least squares error.\n",
    "\n",
    "$\\textbf{y}$ and $\\textbf{1}$ are fixed, but $\\theta$ can take on any value, so $\\hat{\\textbf{y}}$ can be any scalar multiple of $\\textbf{1}$. We want to find $\\theta$ so that $ \\theta \\textbf{1} $ is as close to $\\textbf{y}$ as possible. We use $\\hat{\\theta}$ to denote this best-fit $\\theta$.\n",
    "\n",
    "<img src=\"https://github.com/DS-100/textbook/raw/master/assets/linear_projection__1dprojection.png\" width=\"300\" />\n",
    "\n",
    "The projection of $\\textbf{y}$ onto $\\textbf{1}$ is guaranteed to be the closest vector (see \"Vector Space Review\" in the Appendix)."
   ]
  },
  {
   "cell_type": "markdown",
   "metadata": {},
   "source": [
    "### Least Squares: Simple Linear Model\n",
    "Now, let's look at the simple linear regression model. This is strongly parallel to the constant model derivation, but be mindful of the differences and think about how you might generalize to multiple linear regression.\n",
    "\n",
    "The simple linear model is:\n",
    "\n",
    "$$\n",
    "\\begin{aligned}\n",
    "f_\\boldsymbol\\theta (x_i) \n",
    "&= \\theta_0 + \\theta_1 x_i \\\\\n",
    "\\end{aligned}\n",
    "$$\n",
    "\n",
    "Our goal is to find the $\\boldsymbol\\theta$ that results in the line with the least squared error:\n",
    "\n",
    "$$\n",
    "\\begin{aligned}\n",
    "L(\\boldsymbol\\theta, \\textbf{x}, \\textbf{y})\n",
    "&= \\sum_{i = 1}^{n}(y_i - f_\\boldsymbol\\theta (x_i))^2\\\\\n",
    "&= \\sum_{i = 1}^{n}(y_i - \\theta_0 - \\theta_1 x_i)^2\\\\\n",
    "&= \\sum_{i = 1}^{n}(y_i - \\begin{bmatrix} 1 & x_i \\end{bmatrix}\n",
    "\\begin{bmatrix} \n",
    "     \\theta_0 \\\\\n",
    "     \\theta_1\n",
    "\\end{bmatrix} ) ^2\n",
    "\\end{aligned}\n",
    "$$"
   ]
  },
  {
   "cell_type": "markdown",
   "metadata": {},
   "source": [
    "To help us visualize the translation of our loss summation into matrix form, let's expand out the loss with $n = 3$.\n",
    "\n",
    "$$\n",
    "\\begin{aligned}\n",
    "L(\\boldsymbol{\\theta}, \\textbf{x}, \\textbf{y})\n",
    "&=\n",
    "(y_1 - \\begin{bmatrix} 1 & x_1 \\end{bmatrix}\n",
    "\\begin{bmatrix} \n",
    "     \\theta_0 \\\\\n",
    "     \\theta_1\n",
    "\\end{bmatrix})^2  \\\\\n",
    "&+\n",
    "(y_2 - \\begin{bmatrix} 1 & x_2 \\end{bmatrix}\n",
    "\\begin{bmatrix} \n",
    "     \\theta_0 \\\\\n",
    "     \\theta_1\n",
    "\\end{bmatrix})^2 \\\\\n",
    "&+\n",
    "(y_3 - \\begin{bmatrix} 1 & x_3 \\end{bmatrix}\n",
    "\\begin{bmatrix} \n",
    "     \\theta_0 \\\\\n",
    "     \\theta_1\n",
    "\\end{bmatrix})^2 \\\\\n",
    "\\end{aligned}\n",
    "$$"
   ]
  },
  {
   "cell_type": "markdown",
   "metadata": {},
   "source": [
    "Again, our loss function is a sum of squares and the *L2*-norm for a vector is the square root of a sum of squares: \n",
    "\n",
    "$$\\Vert \\textbf{v} \\Vert = \\sqrt{v_1^2 + v_2^2 + \\dots + v_n^2}$$ \n",
    "\n",
    "If we let $y_i - \\begin{bmatrix} 1 & x_i \\end{bmatrix}\n",
    "\\begin{bmatrix} \n",
    "     \\theta_0 \\\\\n",
    "     \\theta_1\n",
    "\\end{bmatrix} = v_i$: \n",
    "\n",
    "$$\n",
    "\\begin{aligned}\n",
    "L(\\boldsymbol{\\theta}, \\textbf{x}, \\textbf{y}) \n",
    "&= v_1^2 + v_2^2 + \\dots + v_n^2 \\\\\n",
    "&= \\Vert \\textbf{v} \\Vert^2\n",
    "\\end{aligned}\n",
    "$$\n",
    "\n",
    "As before, our loss can be expressed as the *L2*-norm of some vector $\\textbf{v}$, squared. With each component $v_i = y_i - \\begin{bmatrix} 1 & x_i \\end{bmatrix}\n",
    "\\begin{bmatrix} \n",
    "     \\theta_0 \\\\\n",
    "     \\theta_1\n",
    "\\end{bmatrix} \\quad \\forall i \\in [1,3]$:\n",
    "\n",
    "$$ \n",
    "\\begin{aligned}\n",
    "L(\\boldsymbol{\\theta}, \\textbf{x}, \\textbf{y})\n",
    "&= \\left \\Vert  \\qquad   \n",
    "\\begin{bmatrix} y_1 \\\\ y_2 \\\\ y_3  \\end{bmatrix} \\quad - \\quad \n",
    "\\begin{bmatrix} 1 & x_1 \\\\ 1 & x_2 \\\\ 1 & x_3 \\end{bmatrix}\n",
    "\\begin{bmatrix} \n",
    "     \\theta_0 \\\\\n",
    "     \\theta_1\n",
    "\\end{bmatrix}\n",
    "\\qquad \\right \\Vert ^2 \\\\\n",
    "&= \\left \\Vert  \\qquad  \n",
    "\\textbf{y} \n",
    "\\quad - \\quad \n",
    "\\textbf{X}\n",
    "\\begin{bmatrix} \n",
    "     \\theta_0 \\\\\n",
    "     \\theta_1\n",
    "\\end{bmatrix}\n",
    "\\qquad \\right \\Vert ^2 \\\\\n",
    "&= \\left \\Vert  \\qquad  \n",
    "\\textbf{y} \n",
    "\\quad - \\quad \n",
    "f_\\boldsymbol\\theta(\\textbf{x})\n",
    "\\qquad \\right \\Vert ^2 \\\\\n",
    "&= \\left \\Vert  \\qquad  \n",
    "\\textbf{y} \n",
    "\\quad - \\quad \n",
    "\\hat{\\textbf{y}}\n",
    "\\qquad \\right \\Vert ^2 \\\\\n",
    "\\end{aligned}\n",
    "$$"
   ]
  },
  {
   "cell_type": "markdown",
   "metadata": {},
   "source": [
    "The matrix multiplication $\\begin{bmatrix} 1 & x_1 \\\\ 1 & x_2 \\\\ 1 & x_3 \\end{bmatrix}\n",
    "\\begin{bmatrix} \n",
    "     \\theta_0 \\\\\n",
    "     \\theta_1\n",
    "\\end{bmatrix}$ is a linear combination of the columns of $\\textbf{X}$: each $\\theta_i$ only ever multiplies with one column of $\\textbf{X}$—this perspective shows us that $f_\\boldsymbol\\theta$ is a linear combination of the features of our data.\n",
    "\n",
    "$\\textbf{X}$ and $\\textbf{y}$ are fixed, but $\\theta_0$ and $\\theta_1$ can take on any value, so $\\hat{\\textbf{y}}$ can take on any of the infinite linear combinations of the columns of $\\textbf{X}$. To have the smallest loss, we want to choose $\\boldsymbol\\theta$ such that $\\hat{\\textbf{y}}$ is as close to $\\textbf{y}$ as possibled, denoted as $\\hat{\\boldsymbol\\theta}$."
   ]
  },
  {
   "cell_type": "markdown",
   "metadata": {},
   "source": [
    "## Geometric Intuition\n",
    "\n",
    "Now, let's develop an intuition for why it matters that $\\hat{\\textbf{y}}$ is restricted to the linear combinations of the columns of $\\textbf{X}$. Although the span of any set of vectors includes an infinite number of linear combinations, infinite does not mean any—the linear combinations are restricted by the basis vectors."
   ]
  },
  {
   "cell_type": "markdown",
   "metadata": {},
   "source": [
    "As a reminder, here is our loss function and scatter plot:\n",
    "\n",
    "$$L(\\boldsymbol{\\theta}, \\textbf{x}, \\textbf{y}) \\quad = \\quad \\left \\Vert  \\quad  \n",
    "\\textbf{y} \n",
    "\\quad - \\quad \n",
    "\\textbf{X} \\boldsymbol\\theta\n",
    "\\quad \\right \\Vert ^2$$"
   ]
  },
  {
   "cell_type": "code",
   "execution_count": 5,
   "metadata": {
    "tags": [
     "hide_input"
    ]
   },
   "outputs": [
    {
     "data": {
      "image/png": "[encoded data removed]",
      "text/plain": [
       "<Figure size 432x288 with 1 Axes>"
      ]
     },
     "metadata": {},
     "output_type": "display_data"
    }
   ],
   "source": [
    "# HIDDEN\n",
    "sns.regplot(x='x', y='y', data=data, ci=None, fit_reg=False);"
   ]
  },
  {
   "cell_type": "markdown",
   "metadata": {},
   "source": [
    "By inspecting our scatter plot, we see that no line can perfectly fit our points, so we cannot achieve 0 loss. Thus, we know that $\\textbf{y}$ is not in the plane spanned by $\\textbf{x}$ and $\\textbf{1}$, represented as a parallelogram below.\n",
    "\n",
    "<img src=\"https://github.com/DS-100/textbook/raw/master/assets/linear_projection1.png\" width=\"500\" />\n",
    "\n",
    "Since our loss is distance-based, we can see that to minimize $ L(\\boldsymbol\\theta, \\textbf{x}, \\textbf{y}) = \\left \\Vert  \\textbf{y} - \\textbf{X} \\boldsymbol\\theta \\right \\Vert ^2$, we want $\\textbf{X} \\boldsymbol\\theta$ to be as close to $\\textbf{y}$ as possible."
   ]
  },
  {
   "cell_type": "markdown",
   "metadata": {},
   "source": [
    "Mathematically, we are looking for the projection of $\\textbf{y}$ onto the vector space spanned by the columns of $\\textbf{X}$, as the projection of any vector is the closest point in $Span(\\textbf{X})$ to that vector. Thus, choosing $\\boldsymbol\\theta$ such that $\\hat{\\textbf{y}} = \\textbf{X} \\boldsymbol\\theta= $ proj$_{Span(\\textbf{X})} $ $\\textbf{y}$ is the best solution.\n",
    "<img src=\"https://github.com/DS-100/textbook/raw/master/assets/linear_projection2.png\" width=\"500\" />\n",
    "\n",
    "To see why, consider other points on the vector space, in purple.\n",
    "<img src=\"https://github.com/DS-100/textbook/raw/master/assets/linear_projection3.png\" width=\"500\" />\n",
    "\n",
    "By the Pythagorean Theorem, any other point on the plane is farther from $\\textbf{y}$ than $\\hat{\\textbf{y}}$ is. The length of the perpendicular corresponding to $\\hat{\\textbf{y}}$ represents the least squared error."
   ]
  },
  {
   "cell_type": "markdown",
   "metadata": {},
   "source": [
    "## Linear Algebra\n",
    "\n",
    "Since we've snuck in a lot of linear algebra concepts already, all that's left is solving for the $\\hat{\\boldsymbol\\theta}$ that yields our desired $\\hat{\\textbf{y}}$.\n",
    "\n",
    "A couple things to note: \n",
    "\n",
    "<img src=\"https://github.com/DS-100/textbook/raw/master/assets/linear_projection5.png\" width=\"500\" />\n",
    "\n",
    "- $\\hat{\\textbf{y}} + \\textbf{e} = \\textbf{y}$\n",
    "- $\\textbf{e}$ is perpendicular to $\\textbf{x}$ and $\\textbf{1}$\n",
    "- $\\hat{\\textbf{y}} = \\textbf{X} \\hat{\\boldsymbol\\theta}$ is the vector closest to $\\textbf{y}$ in the vector space spanned by $\\textbf{x}$ and $\\textbf{1}$\n",
    "\n",
    "Thus, we arrive at the equation:\n",
    "\n",
    "$$\\textbf{X}  \\hat{\\boldsymbol\\theta} + \\textbf{e} = \\textbf{y}$$\n",
    "\n",
    "Left-multiplying both sides by $\\textbf{X}^T$:\n",
    "\n",
    "$$\\textbf{X}^T \\textbf{X}  \\hat{\\boldsymbol\\theta} + \\textbf{X}^T \\textbf{e} = \\textbf{X}^T \\textbf{y}$$\n",
    "\n",
    "Since $\\textbf{e}$ is perpendicular to the columns of $\\textbf{X}$, $\\textbf{X}^T \\textbf{e}$ is a column vector of $0$'s. Thus, we arrive at the Normal Equation:\n",
    "\n",
    "$$\\textbf{X}^T \\textbf{X}  \\hat{\\boldsymbol\\theta} = \\textbf{X}^T \\textbf{y}$$\n",
    "\n",
    "From here, we can easily solve for $\\hat{\\boldsymbol\\theta}$ by left-multiplying both sides by $(\\textbf{X}^T \\textbf{X})^{-1}$:\n",
    "\n",
    "$$\\hat{\\boldsymbol\\theta} = (\\textbf{X}^T \\textbf{X})^{-1} \\textbf{X}^T \\textbf{y}$$\n",
    "\n",
    "Note: we can get this same solution by minimizing with vector calculus, but in the case of least squares loss, vector calculus isn't necessary. For other loss functions, we will need to use vector calculus to get the analytic solution."
   ]
  },
  {
   "cell_type": "markdown",
   "metadata": {},
   "source": [
    "## Finishing up the Case Study"
   ]
  },
  {
   "cell_type": "markdown",
   "metadata": {},
   "source": [
    "Let's return to our case study, apply what we've learned, and explain why our solution is sound."
   ]
  },
  {
   "cell_type": "markdown",
   "metadata": {},
   "source": [
    "$$\n",
    "\\textbf{y} = \\begin{bmatrix} 2 \\\\ 1 \\\\ -2  \\end{bmatrix} \\qquad \\textbf{X} = \\begin{bmatrix} 1 & 3 \\\\ 1 & 0 \\\\ 1 & -1 \\end{bmatrix}\n",
    "$$\n"
   ]
  },
  {
   "cell_type": "markdown",
   "metadata": {},
   "source": [
    "$$\n",
    "\\begin{align}\n",
    "\\hat{\\boldsymbol\\theta} \n",
    "&= \n",
    "\\left(\n",
    "\\begin{bmatrix} 1 & 1 & 1 \\\\ 3 & 0 & -1 \\end{bmatrix}\n",
    "\\begin{bmatrix} 1 & 3 \\\\ 1 & 0 \\\\ 1 & -1 \\end{bmatrix}\n",
    "\\right)^{-1}\n",
    "\\begin{bmatrix} 1 & 1 & 1 \\\\ 3 & 0 & -1 \\end{bmatrix}\n",
    "\\begin{bmatrix} 2 \\\\ 1 \\\\ -2  \\end{bmatrix} \\\\\n",
    "&= \n",
    "\\left(\n",
    "\\begin{bmatrix} 3 & 2\\\\ 2 & 10 \\end{bmatrix}\n",
    "\\right)^{-1}\n",
    "\\begin{bmatrix} 1 \\\\ 8 \\end{bmatrix} \\\\\n",
    "&=\n",
    "\\frac{1}{30-4}\n",
    "\\begin{bmatrix} 10 & -2\\\\ -2 & 3 \\end{bmatrix}\n",
    "\\begin{bmatrix} 1 \\\\ 8 \\end{bmatrix} \\\\\n",
    "&=\n",
    "\\frac{1}{26}\n",
    "\\begin{bmatrix} -6 \\\\ 22 \\end{bmatrix}\\\\\n",
    "&=\n",
    "\\begin{bmatrix} - \\frac{3}{13} \\\\ \\frac{11}{13} \\end{bmatrix}\n",
    "\\end{align}\n",
    "$$"
   ]
  },
  {
   "cell_type": "markdown",
   "metadata": {},
   "source": [
    "We have analytically found that best model for least squares regression is $f_\\boldsymbol{\\boldsymbol\\theta}(x_i) = - \\frac{3}{13} + \\frac{11}{13} x_i$. We know that our choice of $\\boldsymbol\\theta$ is sound by the mathematical property that the projection of $\\textbf{y}$ onto the span of the columns of $\\textbf{X}$ yields the closest point in the vector space to $\\textbf{y}$. Under linear constraints using the least squares loss, solving for $\\hat{\\boldsymbol\\theta}$ by taking the projection guarantees us the optimal solution."
   ]
  },
  {
   "cell_type": "markdown",
   "metadata": {},
   "source": [
    "## When Variables are Linearly Dependent\n",
    "\n",
    "For every additional variable, we add one column to $\\textbf{X}$. The span of the columns of $\\textbf{X}$ is the linear combinations of the column vectors, so adding columns only changes the span if it is linearly independent from all existing columns.\n",
    "\n",
    "When the added column is linearly dependent, it can be expressed as a linear combination of some other columns, and thus will not introduce new any vectors to the subspace.\n",
    "\n",
    "Recall that the span of $\\textbf{X}$ is important because it is the subspace we want to project $\\textbf{y}$ onto. If the subspace does not change, then the projection will not change.\n",
    "\n",
    "For example, when we introduced $\\textbf{x}$ to the constant model to get the simple linear model, we introduced a independent variable. $\\textbf{x} = \\begin{bmatrix} 3 \\\\ 0 \\\\ -1 \\end{bmatrix}$ cannot be expressed as a scalar of $\\begin{bmatrix} 1 \\\\ 1 \\\\ 1 \\end{bmatrix}$. Thus, we moved from finding the projection of $\\textbf{y}$ onto a line:\n",
    "\n",
    "<img src=\"https://github.com/DS-100/textbook/raw/master/assets/linear_projection__1dprojection.png\" width=\"250\" />\n",
    "\n",
    "to finding the projection of $\\textbf{y}$ onto a plane:\n",
    "\n",
    "<img src=\"https://github.com/DS-100/textbook/raw/master/assets/linear_projection1.png\" width=\"500\" />\n",
    "\n",
    "\n",
    "Now, lets introduce another variable, $\\textbf{z}$, and explicitly write out the bias column:"
   ]
  },
  {
   "cell_type": "markdown",
   "metadata": {},
   "source": [
    "| **z** | **1** | **x** | **y** |\n",
    "| - | - | - | - |\n",
    "| 4 | 1 | 3 | 2 |\n",
    "| 1 | 1 | 0 | 1 |\n",
    "| 0 | 1 | -1 | -2 |"
   ]
  },
  {
   "cell_type": "markdown",
   "metadata": {},
   "source": [
    "Notice that $\\textbf{z} = \\textbf{1} + \\textbf{x}$. Since $\\textbf{z}$ is a linear combination of $\\textbf{1}$ and $\\textbf{x}$, it lies in the original $Span(\\textbf{X})$. Formally, $\\textbf{z}$ is linearly dependent to $\\{\\textbf{1}$, $\\textbf{x}\\}$ and does not change $Span(\\textbf{X})$. Thus, the projection of $\\textbf{y}$ onto the subspace spanned by $\\textbf{1}$, $\\textbf{x}$, and $\\textbf{z}$ would be the same as the projection of $\\textbf{y}$ onto the subspace spanned by $\\textbf{1}$ and $\\textbf{x}$."
   ]
  },
  {
   "cell_type": "markdown",
   "metadata": {},
   "source": [
    "<img src=\"https://github.com/DS-100/textbook/raw/master/assets/linear_projection__dependent_variablesz.png\" width=\"500\" />"
   ]
  },
  {
   "cell_type": "markdown",
   "metadata": {},
   "source": [
    "We can also observe this from minimizing the loss function:\n",
    "\n",
    "$$ \n",
    "\\begin{aligned}\n",
    "L(\\boldsymbol\\theta, \\textbf{d}, \\textbf{y})\n",
    "&= \\left \\Vert  \\qquad   \n",
    "\\begin{bmatrix} y_1 \\\\ y_2 \\\\ y_3  \\end{bmatrix} \\quad - \\quad \n",
    "\\begin{bmatrix} 1 & x_1 & z_1 \\\\ 1 & x_2 & z_2\\\\ 1 & x_3 & z_3\\end{bmatrix}\n",
    "\\begin{bmatrix} \n",
    "     \\theta_0 \\\\\n",
    "     \\theta_1 \\\\\n",
    "     \\theta_2\n",
    "\\end{bmatrix}\n",
    "\\qquad \\right \\Vert ^2\n",
    "\\end{aligned}\n",
    "$$\n",
    "\n",
    "\n",
    "Our possible solutions follow the form $\\theta_0 \\textbf{1} + \\theta_1 \\textbf{x} + \\theta_2 \\textbf{z}$.\n",
    "\n",
    "\n",
    "Since $\\textbf{z} = \\textbf{1} + \\textbf{x}$, regardless of $\\theta_0$, $\\theta_1$, and $\\theta_2$, the possible values can be rewritten as:\n",
    "\n",
    "$$\n",
    "\\begin{aligned}\n",
    "\\theta_0 \\textbf{1} + \\theta_1 \\textbf{x} + \\theta_2 (\\textbf{1} + \\textbf{x})\n",
    "&= \n",
    "(\\theta_0 + \\theta_2) \\textbf{1} + (\\theta_1 + \\theta_2) \\textbf{x} \\\\\n",
    "\\end{aligned}\n",
    "$$\n",
    "\n",
    "So adding $\\textbf{z}$ does not change the problem at all. The only difference is, we can express this projection in multiple ways. Recall that we found the projection of $\\textbf{y}$ onto the plane spanned by $\\textbf{1}$ and $\\textbf{x}$ to be:\n",
    "\n",
    "$$ \\begin{bmatrix} \\textbf{1} & \\textbf{x} \\end{bmatrix}  \\begin{bmatrix} - \\frac{3}{13} \\\\ \\frac{11}{13} \\end{bmatrix} = - \\frac{3}{13} \\textbf{1} + \\frac{11}{13} \\textbf{x}$$\n",
    "\n",
    "However, with the introduction of $\\textbf{z}$, we have more ways to express this same projection vector. \n",
    "\n",
    "Since $\\textbf{1} = \\textbf{z} - \\textbf{x}$, $\\hat{\\textbf{y}}$ can also be expressed as:\n",
    "\n",
    "$$ - \\frac{3}{13} (\\textbf{z} - \\textbf{x}) + \\frac{11}{13} \\textbf{x} = - \\frac{3}{13} \\textbf{z} + \\frac{14}{13} \\textbf{x} $$\n",
    "\n",
    "Since $\\textbf{x} = \\textbf{z} + \\textbf{1}$, $\\hat{\\textbf{y}}$ can also be expressed as:\n",
    "\n",
    "$$ - \\frac{3}{13} \\textbf{1} + \\frac{11}{13} (\\textbf{z} + \\textbf{1}) = \\frac{8}{13} \\textbf{1} + \\frac{11}{13} \\textbf{z} $$\n",
    "\n",
    "But all three expressions represent the same projection.\n",
    "\n",
    "In conclusion, adding a linearly dependent column to $\\textbf{X}$ does not change $Span(\\textbf{X})$, and thus will not change the projection and solution to the least squares problem."
   ]
  },
  {
   "cell_type": "markdown",
   "metadata": {},
   "source": [
    "## Two Schools of Thought\n",
    "We included the scatter plots twice in this lesson. The first reminded us that like before, we are finding the best-fit line for the data. The second showed that there was no line that could fit all points. Apart from these two occurences, we tried not to disrupt our vector space drawings with scatter plots. This is because scatter plots correspond with the row-space perspective of the least squares problem: looking at each data point and trying to minimize the distance between our predictions and each datum. In this lesson, we looked at the column-space perspective: each feature was a vector, constructing a space of possible solutions (projections).\n",
    "\n",
    "Both perspectives are valid and helpful to understand, and we hope you had fun seeing both sides of the least squares problem!"
   ]
  }
 ],
 "metadata": {
  "kernelspec": {
   "display_name": "Python [default]",
   "language": "python",
   "name": "python3"
  },
  "language_info": {
   "codemirror_mode": {
    "name": "ipython",
    "version": 3
   },
   "file_extension": ".py",
   "mimetype": "text/x-python",
   "name": "python",
   "nbconvert_exporter": "python",
   "pygments_lexer": "ipython3",
   "version": "3.6.3"
  }
 },
 "nbformat": 4,
 "nbformat_minor": 2
}
