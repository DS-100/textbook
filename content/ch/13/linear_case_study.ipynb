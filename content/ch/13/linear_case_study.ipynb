{
 "cells": [
  {
   "cell_type": "code",
   "execution_count": null,
   "metadata": {
    "tags": [
     "hide_input"
    ]
   },
   "outputs": [],
   "source": [
    "# HIDDEN\n",
    "import warnings\n",
    "# Ignore numpy dtype warnings. These warnings are caused by an interaction\n",
    "# between numpy and Cython and can be safely ignored.\n",
    "# Reference: https://stackoverflow.com/a/40846742\n",
    "warnings.filterwarnings(\"ignore\", message=\"numpy.dtype size changed\")\n",
    "warnings.filterwarnings(\"ignore\", message=\"numpy.ufunc size changed\")\n",
    "\n",
    "import numpy as np\n",
    "import matplotlib.pyplot as plt\n",
    "import pandas as pd\n",
    "import seaborn as sns\n",
    "%matplotlib inline\n",
    "import ipywidgets as widgets\n",
    "from ipywidgets import interact, interactive, fixed, interact_manual\n",
    "import nbinteract as nbi\n",
    "\n",
    "sns.set()\n",
    "sns.set_context('talk')\n",
    "np.set_printoptions(threshold=20, precision=2, suppress=True)\n",
    "pd.options.display.max_rows = 7\n",
    "pd.options.display.max_columns = 8\n",
    "pd.set_option('precision', 2)\n",
    "# This option stops scientific notation for pandas\n",
    "# pd.set_option('display.float_format', '{:.2f}'.format)"
   ]
  },
  {
   "cell_type": "code",
   "execution_count": 2,
   "metadata": {
    "tags": [
     "hide_input"
    ]
   },
   "outputs": [],
   "source": [
    "# HIDDEN\n",
    "from scipy.optimize import minimize as sci_min\n",
    "\n",
    "def minimize(cost_fn, grad_cost_fn, X, y, progress=True):\n",
    "    '''\n",
    "    Uses scipy.minimize to minimize cost_fn using a form of gradient descent.\n",
    "    '''\n",
    "    theta = np.zeros(X.shape[1])\n",
    "    iters = 0\n",
    "    \n",
    "    def objective(theta):\n",
    "        return cost_fn(theta, X, y)\n",
    "    def gradient(theta):\n",
    "        return grad_cost_fn(theta, X, y)\n",
    "    def print_theta(theta):\n",
    "        nonlocal iters\n",
    "        if progress and iters % progress == 0:\n",
    "            print(f'theta: {theta} | cost: {cost_fn(theta, X, y):.2f}')\n",
    "        iters += 1\n",
    "        \n",
    "    print_theta(theta)\n",
    "    return sci_min(\n",
    "        objective, theta, method='BFGS', jac=gradient, callback=print_theta,\n",
    "        tol=1e-7\n",
    "    ).x"
   ]
  },
  {
   "cell_type": "markdown",
   "metadata": {},
   "source": [
    "## Linear Regression Case Study\n",
    "\n",
    "In this section, we perform an end-to-end case study of applying the linear regression model to a dataset. The dataset we will be working with has various attributes, such as length and girth, of donkeys.\n",
    "\n",
    "Our task is to predict a donkey's weight using linear regression."
   ]
  },
  {
   "cell_type": "markdown",
   "metadata": {},
   "source": [
    "## Preliminary Data Overview\n",
    "\n",
    "We will begin by reading in the dataset and taking a quick peek at its contents."
   ]
  },
  {
   "cell_type": "code",
   "execution_count": 3,
   "metadata": {},
   "outputs": [
    {
     "data": {
      "text/html": [
       "<div>\n",
       "<style scoped>\n",
       "    .dataframe tbody tr th:only-of-type {\n",
       "        vertical-align: middle;\n",
       "    }\n",
       "\n",
       "    .dataframe tbody tr th {\n",
       "        vertical-align: top;\n",
       "    }\n",
       "\n",
       "    .dataframe thead th {\n",
       "        text-align: right;\n",
       "    }\n",
       "</style>\n",
       "<table border=\"1\" class=\"dataframe\">\n",
       "  <thead>\n",
       "    <tr style=\"text-align: right;\">\n",
       "      <th></th>\n",
       "      <th>BCS</th>\n",
       "      <th>Age</th>\n",
       "      <th>Sex</th>\n",
       "      <th>...</th>\n",
       "      <th>Height</th>\n",
       "      <th>Weight</th>\n",
       "      <th>WeightAlt</th>\n",
       "    </tr>\n",
       "  </thead>\n",
       "  <tbody>\n",
       "    <tr>\n",
       "      <th>0</th>\n",
       "      <td>3.0</td>\n",
       "      <td>&lt;2</td>\n",
       "      <td>stallion</td>\n",
       "      <td>...</td>\n",
       "      <td>90</td>\n",
       "      <td>77</td>\n",
       "      <td>NaN</td>\n",
       "    </tr>\n",
       "    <tr>\n",
       "      <th>1</th>\n",
       "      <td>2.5</td>\n",
       "      <td>&lt;2</td>\n",
       "      <td>stallion</td>\n",
       "      <td>...</td>\n",
       "      <td>94</td>\n",
       "      <td>100</td>\n",
       "      <td>NaN</td>\n",
       "    </tr>\n",
       "    <tr>\n",
       "      <th>2</th>\n",
       "      <td>1.5</td>\n",
       "      <td>&lt;2</td>\n",
       "      <td>stallion</td>\n",
       "      <td>...</td>\n",
       "      <td>95</td>\n",
       "      <td>74</td>\n",
       "      <td>NaN</td>\n",
       "    </tr>\n",
       "    <tr>\n",
       "      <th>3</th>\n",
       "      <td>3.0</td>\n",
       "      <td>&lt;2</td>\n",
       "      <td>female</td>\n",
       "      <td>...</td>\n",
       "      <td>96</td>\n",
       "      <td>116</td>\n",
       "      <td>NaN</td>\n",
       "    </tr>\n",
       "    <tr>\n",
       "      <th>4</th>\n",
       "      <td>2.5</td>\n",
       "      <td>&lt;2</td>\n",
       "      <td>female</td>\n",
       "      <td>...</td>\n",
       "      <td>91</td>\n",
       "      <td>91</td>\n",
       "      <td>NaN</td>\n",
       "    </tr>\n",
       "  </tbody>\n",
       "</table>\n",
       "<p>5 rows × 8 columns</p>\n",
       "</div>"
      ],
      "text/plain": [
       "   BCS Age       Sex    ...      Height  Weight  WeightAlt\n",
       "0  3.0  <2  stallion    ...          90      77        NaN\n",
       "1  2.5  <2  stallion    ...          94     100        NaN\n",
       "2  1.5  <2  stallion    ...          95      74        NaN\n",
       "3  3.0  <2    female    ...          96     116        NaN\n",
       "4  2.5  <2    female    ...          91      91        NaN\n",
       "\n",
       "[5 rows x 8 columns]"
      ]
     },
     "execution_count": 3,
     "metadata": {},
     "output_type": "execute_result"
    }
   ],
   "source": [
    "donkeys = pd.read_csv(\"donkeys.csv\")\n",
    "donkeys.head()"
   ]
  },
  {
   "cell_type": "markdown",
   "metadata": {},
   "source": [
    "It's always a good idea to look at _how much_ data we have by looking at the dimensions of the dataset. If we have a large number of observations, printing out the entire dataframe may crash our notebook."
   ]
  },
  {
   "cell_type": "code",
   "execution_count": 4,
   "metadata": {},
   "outputs": [
    {
     "data": {
      "text/plain": [
       "(544, 8)"
      ]
     },
     "execution_count": 4,
     "metadata": {},
     "output_type": "execute_result"
    }
   ],
   "source": [
    "donkeys.shape"
   ]
  },
  {
   "cell_type": "markdown",
   "metadata": {},
   "source": [
    "The dataset is relatively small, with only 544 rows of observations and 8 columns. Let's look at what columns are available to us."
   ]
  },
  {
   "cell_type": "code",
   "execution_count": 5,
   "metadata": {},
   "outputs": [
    {
     "data": {
      "text/plain": [
       "array(['BCS', 'Age', 'Sex', 'Length', 'Girth', 'Height', 'Weight',\n",
       "       'WeightAlt'], dtype=object)"
      ]
     },
     "execution_count": 5,
     "metadata": {},
     "output_type": "execute_result"
    }
   ],
   "source": [
    "donkeys.columns.values"
   ]
  },
  {
   "cell_type": "markdown",
   "metadata": {},
   "source": [
    "A good understanding of our data can guide our analysis, so we should understand what each of these columns represent. A few of these columns are self-explanatory, but others require a little more explanation:\n",
    "\n",
    "- `BCS`: Body Condition Score (a physical health rating)\n",
    "- `Girth`: the measurement around the middle of the donkey\n",
    "- `WeightAlt`: the second weighing (31 donkeys in our data were weighed twice in order to check the accuracy of the scale)\n",
    "\n",
    "It is also a good idea to determine which variables are quantitative and which are categorical.\n",
    "\n",
    "Quantitative: `Length`, `Girth`, `Height`, `Weight`, `WeightAlt`\n",
    "\n",
    "Categorical: `BCS`, `Age`, `Sex`\n"
   ]
  },
  {
   "cell_type": "markdown",
   "metadata": {},
   "source": [
    "## Data Cleaning\n",
    "\n",
    "In this section, we will check the data for any abnormalities that we have to deal with.\n",
    "\n",
    "By examining `WeightAlt` more closely, we can make sure that the scale is accurate by taking the difference between the two different weighings and plotting them."
   ]
  },
  {
   "cell_type": "code",
   "execution_count": 6,
   "metadata": {},
   "outputs": [
    {
     "data": {
      "image/png": "[encoded data removed]",
      "text/plain": [
       "<Figure size 432x288 with 1 Axes>"
      ]
     },
     "metadata": {},
     "output_type": "display_data"
    }
   ],
   "source": [
    "difference = donkeys['WeightAlt'] - donkeys['Weight']\n",
    "sns.distplot(difference.dropna());"
   ]
  },
  {
   "cell_type": "markdown",
   "metadata": {},
   "source": [
    "The measurements are all within 1 kg of each other, which seems reasonable.\n",
    "\n",
    "Next, we can look for unusual values that might indicate errors or other problems. We can use the quantile function in order to detect anomalous values."
   ]
  },
  {
   "cell_type": "code",
   "execution_count": 7,
   "metadata": {},
   "outputs": [
    {
     "data": {
      "text/html": [
       "<div>\n",
       "<style scoped>\n",
       "    .dataframe tbody tr th:only-of-type {\n",
       "        vertical-align: middle;\n",
       "    }\n",
       "\n",
       "    .dataframe tbody tr th {\n",
       "        vertical-align: top;\n",
       "    }\n",
       "\n",
       "    .dataframe thead th {\n",
       "        text-align: right;\n",
       "    }\n",
       "</style>\n",
       "<table border=\"1\" class=\"dataframe\">\n",
       "  <thead>\n",
       "    <tr style=\"text-align: right;\">\n",
       "      <th></th>\n",
       "      <th>BCS</th>\n",
       "      <th>Length</th>\n",
       "      <th>Girth</th>\n",
       "      <th>Height</th>\n",
       "      <th>Weight</th>\n",
       "      <th>WeightAlt</th>\n",
       "    </tr>\n",
       "  </thead>\n",
       "  <tbody>\n",
       "    <tr>\n",
       "      <th>0.005</th>\n",
       "      <td>1.5</td>\n",
       "      <td>71.145</td>\n",
       "      <td>90.000</td>\n",
       "      <td>89.0</td>\n",
       "      <td>71.715</td>\n",
       "      <td>98.75</td>\n",
       "    </tr>\n",
       "    <tr>\n",
       "      <th>0.995</th>\n",
       "      <td>4.0</td>\n",
       "      <td>111.000</td>\n",
       "      <td>131.285</td>\n",
       "      <td>112.0</td>\n",
       "      <td>214.000</td>\n",
       "      <td>192.80</td>\n",
       "    </tr>\n",
       "  </tbody>\n",
       "</table>\n",
       "</div>"
      ],
      "text/plain": [
       "       BCS   Length    Girth  Height   Weight  WeightAlt\n",
       "0.005  1.5   71.145   90.000    89.0   71.715      98.75\n",
       "0.995  4.0  111.000  131.285   112.0  214.000     192.80"
      ]
     },
     "execution_count": 7,
     "metadata": {},
     "output_type": "execute_result"
    }
   ],
   "source": [
    "donkeys.quantile([0.005, 0.995])"
   ]
  },
  {
   "cell_type": "markdown",
   "metadata": {},
   "source": [
    "For each of these numerical columns, we can look at which rows fall outside of these quantiles and what values they take on. Consider that we want our model to apply to only healthy and mature donkeys.\n",
    "\n",
    "First, let's look at the `BCS` column."
   ]
  },
  {
   "cell_type": "code",
   "execution_count": 8,
   "metadata": {},
   "outputs": [
    {
     "data": {
      "text/plain": [
       "291    4.5\n",
       "445    1.0\n",
       "Name: BCS, dtype: float64"
      ]
     },
     "execution_count": 8,
     "metadata": {},
     "output_type": "execute_result"
    }
   ],
   "source": [
    "donkeys[(donkeys['BCS'] < 1.5) | (donkeys['BCS'] > 4)]['BCS']"
   ]
  },
  {
   "cell_type": "markdown",
   "metadata": {},
   "source": [
    "Also looking at the barplot of `BCS`:"
   ]
  },
  {
   "cell_type": "code",
   "execution_count": 9,
   "metadata": {},
   "outputs": [
    {
     "data": {
      "image/png": "[encoded data removed]",
      "text/plain": [
       "<Figure size 432x288 with 1 Axes>"
      ]
     },
     "metadata": {},
     "output_type": "display_data"
    }
   ],
   "source": [
    "plt.hist(donkeys['BCS'], density=True)\n",
    "plt.xlabel('BCS');"
   ]
  },
  {
   "cell_type": "markdown",
   "metadata": {},
   "source": [
    "Considering that `BCS` is an indication of the health of a donkey, a `BCS` of 1 represents an extremely emaciated donkey and a `BCS` of 4.5 an overweight donkey. Also looking at the barplot, there only appear to be two donkeys with such outlying `BCS` values. Thus, we remove these two donkeys.\n",
    "\n",
    "---"
   ]
  },
  {
   "cell_type": "markdown",
   "metadata": {},
   "source": [
    "Now, let's look at `Length`, `Girth`, and `Height`."
   ]
  },
  {
   "cell_type": "code",
   "execution_count": 10,
   "metadata": {},
   "outputs": [
    {
     "data": {
      "text/plain": [
       "8       46\n",
       "22      68\n",
       "26      69\n",
       "216    112\n",
       "Name: Length, dtype: int64"
      ]
     },
     "execution_count": 10,
     "metadata": {},
     "output_type": "execute_result"
    }
   ],
   "source": [
    "donkeys[(donkeys['Length'] < 71.145) | (donkeys['Length'] > 111)]['Length']"
   ]
  },
  {
   "cell_type": "code",
   "execution_count": 11,
   "metadata": {},
   "outputs": [
    {
     "data": {
      "text/plain": [
       "8       66\n",
       "239    132\n",
       "283    134\n",
       "523    134\n",
       "Name: Girth, dtype: int64"
      ]
     },
     "execution_count": 11,
     "metadata": {},
     "output_type": "execute_result"
    }
   ],
   "source": [
    "donkeys[(donkeys['Girth'] < 90) | (donkeys['Girth'] > 131.285)]['Girth']"
   ]
  },
  {
   "cell_type": "code",
   "execution_count": 12,
   "metadata": {},
   "outputs": [
    {
     "data": {
      "text/plain": [
       "8       71\n",
       "22      86\n",
       "244    113\n",
       "523    116\n",
       "Name: Height, dtype: int64"
      ]
     },
     "execution_count": 12,
     "metadata": {},
     "output_type": "execute_result"
    }
   ],
   "source": [
    "donkeys[(donkeys['Height'] < 89) | (donkeys['Height'] > 112)]['Height']"
   ]
  },
  {
   "cell_type": "markdown",
   "metadata": {},
   "source": [
    "For these three columns, the donkey in row 8 seems to have a much smaller value than the cut-off while the other anomalous donkeys are close to the cut-off and likely do not need to be removed.\n",
    "\n",
    "---"
   ]
  },
  {
   "cell_type": "markdown",
   "metadata": {},
   "source": [
    "Finally, let's take a look at `Weight`."
   ]
  },
  {
   "cell_type": "code",
   "execution_count": 13,
   "metadata": {},
   "outputs": [
    {
     "data": {
      "text/plain": [
       "8       27\n",
       "26      65\n",
       "50      71\n",
       "291    227\n",
       "523    230\n",
       "Name: Weight, dtype: int64"
      ]
     },
     "execution_count": 13,
     "metadata": {},
     "output_type": "execute_result"
    }
   ],
   "source": [
    "donkeys[(donkeys['Weight'] < 71.715) | (donkeys['Weight'] > 214)]['Weight']"
   ]
  },
  {
   "cell_type": "markdown",
   "metadata": {},
   "source": [
    "The first 2 and last 2 donkeys in the list are far off from the cut-off and most likely should be removed. The middle donkey can be included.\n",
    "\n",
    "---\n",
    "\n",
    "Since `WeightAlt` closely corresponds to `Weight`, we skip checking this column for anomalies. Summarizing what we have learned, here is how we want to filter our donkeys:\n",
    "\n",
    "- Keep donkeys with `BCS` in the range 1.5 and 4\n",
    "- Keep donkeys with `Weight` between 71 and 214  \n"
   ]
  },
  {
   "cell_type": "code",
   "execution_count": 14,
   "metadata": {},
   "outputs": [],
   "source": [
    "donkeys_c = donkeys[(donkeys['BCS'] >= 1.5) & (donkeys['BCS'] <= 4) &\n",
    "                         (donkeys['Weight'] >= 71) & (donkeys['Weight'] <= 214)]"
   ]
  },
  {
   "cell_type": "markdown",
   "metadata": {},
   "source": [
    "## Train-Test Split\n",
    "\n",
    "Before we proceed with our data analysis, we divide our data into an 80/20 split, using 80% of our data to train our model and setting aside the other 20% for evaluation of the model."
   ]
  },
  {
   "cell_type": "code",
   "execution_count": 15,
   "metadata": {},
   "outputs": [
    {
     "data": {
      "text/plain": [
       "((431, 7), (108, 7))"
      ]
     },
     "execution_count": 15,
     "metadata": {},
     "output_type": "execute_result"
    }
   ],
   "source": [
    "X_train, X_test, y_train, y_test = train_test_split(donkeys_c.drop(['Weight'], axis=1),\n",
    "                                                    donkeys_c['Weight'],\n",
    "                                                    test_size=0.2,\n",
    "                                                   random_state=42)\n",
    "X_train.shape, X_test.shape"
   ]
  },
  {
   "cell_type": "markdown",
   "metadata": {},
   "source": [
    "Let's also create a function that evaluates our predictions on the test set. Let's use mean squared error. "
   ]
  },
  {
   "cell_type": "code",
   "execution_count": 16,
   "metadata": {},
   "outputs": [],
   "source": [
    "def mse_test_set(predictions):\n",
    "    return float(np.sum((predictions - y_test) ** 2))"
   ]
  },
  {
   "cell_type": "markdown",
   "metadata": {},
   "source": [
    "## Exploratory Data Analysis and Visualization\n",
    "\n",
    "As usual, we will explore our data before attempting to fit a model to it.\n",
    "\n",
    "First, we will examine the categorical variables with boxplots."
   ]
  },
  {
   "cell_type": "code",
   "execution_count": 17,
   "metadata": {
    "tags": [
     "hide_input"
    ]
   },
   "outputs": [
    {
     "data": {
      "image/png": "[encoded data removed]",
      "text/plain": [
       "<Figure size 432x288 with 1 Axes>"
      ]
     },
     "metadata": {},
     "output_type": "display_data"
    }
   ],
   "source": [
    "# HIDDEN\n",
    "sns.boxplot(x=X_train['BCS'], y=y_train);"
   ]
  },
  {
   "cell_type": "markdown",
   "metadata": {},
   "source": [
    "It seems like median weight increases with BCS, but not linearly."
   ]
  },
  {
   "cell_type": "code",
   "execution_count": 18,
   "metadata": {
    "tags": [
     "hide_input"
    ]
   },
   "outputs": [
    {
     "data": {
      "image/png": "[encoded data removed]",
      "text/plain": [
       "<Figure size 432x288 with 1 Axes>"
      ]
     },
     "metadata": {},
     "output_type": "display_data"
    }
   ],
   "source": [
    "# HIDDEN\n",
    "sns.boxplot(x=X_train['Sex'], y=y_train,\n",
    "            order = ['female', 'stallion', 'gelding']);"
   ]
  },
  {
   "cell_type": "markdown",
   "metadata": {},
   "source": [
    "It seems like the sex of the donkey doesn't appear to cause much of a difference in weight."
   ]
  },
  {
   "cell_type": "code",
   "execution_count": 19,
   "metadata": {
    "tags": [
     "hide_input"
    ]
   },
   "outputs": [
    {
     "data": {
      "image/png": "[encoded data removed]",
      "text/plain": [
       "<Figure size 432x288 with 1 Axes>"
      ]
     },
     "metadata": {},
     "output_type": "display_data"
    }
   ],
   "source": [
    "# HIDDEN\n",
    "sns.boxplot(x=X_train['Age'], y=y_train, \n",
    "            order = ['<2', '2-5', '5-10', '10-15', '15-20', '>20']);"
   ]
  },
  {
   "cell_type": "markdown",
   "metadata": {},
   "source": [
    "For donkeys over 5, the weight distribution is not too different.\n",
    "\n",
    "Now, let's look at the quantitative variables. We can plot each of them against the target variable."
   ]
  },
  {
   "cell_type": "code",
   "execution_count": 20,
   "metadata": {
    "tags": [
     "hide_input"
    ]
   },
   "outputs": [
    {
     "data": {
      "image/png": "[encoded data removed]",
      "text/plain": [
       "<Figure size 432x288 with 1 Axes>"
      ]
     },
     "metadata": {},
     "output_type": "display_data"
    }
   ],
   "source": [
    "# HIDDEN\n",
    "X_train['Weight'] = y_train\n",
    "sns.regplot('Length', 'Weight', X_train, fit_reg=False);"
   ]
  },
  {
   "cell_type": "code",
   "execution_count": 21,
   "metadata": {
    "tags": [
     "hide_input"
    ]
   },
   "outputs": [
    {
     "data": {
      "image/png": "[encoded data removed]",
      "text/plain": [
       "<Figure size 432x288 with 1 Axes>"
      ]
     },
     "metadata": {},
     "output_type": "display_data"
    }
   ],
   "source": [
    "# HIDDEN\n",
    "sns.regplot('Girth', 'Weight', X_train, fit_reg=False);"
   ]
  },
  {
   "cell_type": "code",
   "execution_count": 22,
   "metadata": {
    "tags": [
     "hide_input"
    ]
   },
   "outputs": [
    {
     "data": {
      "image/png": "[encoded data removed]",
      "text/plain": [
       "<Figure size 432x288 with 1 Axes>"
      ]
     },
     "metadata": {},
     "output_type": "display_data"
    }
   ],
   "source": [
    "# HIDDEN\n",
    "sns.regplot('Height', 'Weight', X_train, fit_reg=False);"
   ]
  },
  {
   "cell_type": "markdown",
   "metadata": {},
   "source": [
    "All three of our quantitative features have a linear relationship with our target variable of `Weight`, so we will not have to perform any transformations on our input data.\n",
    "\n",
    "It is also a good idea to see if our features are linear with each other. We plot two below: "
   ]
  },
  {
   "cell_type": "code",
   "execution_count": 23,
   "metadata": {
    "tags": [
     "hide_input"
    ]
   },
   "outputs": [
    {
     "data": {
      "image/png": "[encoded data removed]",
      "text/plain": [
       "<Figure size 432x288 with 1 Axes>"
      ]
     },
     "metadata": {},
     "output_type": "display_data"
    }
   ],
   "source": [
    "# HIDDEN\n",
    "sns.regplot('Height', 'Length', X_train, fit_reg=False);"
   ]
  },
  {
   "cell_type": "code",
   "execution_count": 24,
   "metadata": {
    "tags": [
     "hide_input"
    ]
   },
   "outputs": [
    {
     "data": {
      "image/png": "[encoded data removed]",
      "text/plain": [
       "<Figure size 432x288 with 1 Axes>"
      ]
     },
     "metadata": {},
     "output_type": "display_data"
    }
   ],
   "source": [
    "# HIDDEN\n",
    "sns.regplot('Height', 'Girth', X_train, fit_reg=False);"
   ]
  },
  {
   "cell_type": "markdown",
   "metadata": {},
   "source": [
    "From these plots, we can see that our predictor variables also have strong linear relationships with each other. This makes our model harder to interpret, so we should keep this in mind after we create our model.\n",
    "\n",
    "## Simpler Linear Models\n",
    "\n",
    "Rather than using all of our data at once, let's try to fit linear models to one or two variables first. \n",
    "\n",
    "Below are three simple linear regression models using just one quantitative variable. Which model appears to be the best?"
   ]
  },
  {
   "cell_type": "code",
   "execution_count": 25,
   "metadata": {
    "tags": [
     "hide_input"
    ]
   },
   "outputs": [
    {
     "data": {
      "image/png": "[encoded data removed]",
      "text/plain": [
       "<Figure size 432x288 with 1 Axes>"
      ]
     },
     "metadata": {},
     "output_type": "display_data"
    }
   ],
   "source": [
    "# HIDDEN\n",
    "sns.regplot('Length', 'Weight', X_train, fit_reg=True);"
   ]
  },
  {
   "cell_type": "code",
   "execution_count": 26,
   "metadata": {
    "tags": [
     "hide_input"
    ]
   },
   "outputs": [
    {
     "name": "stdout",
     "output_type": "stream",
     "text": [
      "MSE: 26052.58007702549\n"
     ]
    }
   ],
   "source": [
    "# HIDDEN\n",
    "model = LinearRegression()\n",
    "model.fit(X_train[['Length']], X_train['Weight'])\n",
    "predictions = model.predict(X_test[['Length']])\n",
    "print(\"MSE:\", mse_test_set(predictions))"
   ]
  },
  {
   "cell_type": "code",
   "execution_count": 27,
   "metadata": {},
   "outputs": [
    {
     "data": {
      "image/png": "[encoded data removed]",
      "text/plain": [
       "<Figure size 432x288 with 1 Axes>"
      ]
     },
     "metadata": {},
     "output_type": "display_data"
    }
   ],
   "source": [
    "sns.regplot('Girth', 'Weight', X_train, fit_reg=True);"
   ]
  },
  {
   "cell_type": "code",
   "execution_count": 28,
   "metadata": {
    "tags": [
     "hide_input"
    ]
   },
   "outputs": [
    {
     "name": "stdout",
     "output_type": "stream",
     "text": [
      "MSE: 13248.814105932383\n"
     ]
    }
   ],
   "source": [
    "# HIDDEN\n",
    "model = LinearRegression()\n",
    "model.fit(X_train[['Girth']], X_train['Weight'])\n",
    "predictions = model.predict(X_test[['Girth']])\n",
    "print(\"MSE:\", mse_test_set(predictions))"
   ]
  },
  {
   "cell_type": "code",
   "execution_count": 29,
   "metadata": {},
   "outputs": [
    {
     "data": {
      "image/png": "[encoded data removed]",
      "text/plain": [
       "<Figure size 432x288 with 1 Axes>"
      ]
     },
     "metadata": {},
     "output_type": "display_data"
    }
   ],
   "source": [
    "sns.regplot('Height', 'Weight', X_train, fit_reg=True);"
   ]
  },
  {
   "cell_type": "code",
   "execution_count": 30,
   "metadata": {
    "tags": [
     "hide_input"
    ]
   },
   "outputs": [
    {
     "name": "stdout",
     "output_type": "stream",
     "text": [
      "MSE: 36343.308584306134\n"
     ]
    }
   ],
   "source": [
    "# HIDDEN\n",
    "model = LinearRegression()\n",
    "model.fit(X_train[['Height']], X_train['Weight'])\n",
    "predictions = model.predict(X_test[['Height']])\n",
    "print(\"MSE:\", mse_test_set(predictions))"
   ]
  },
  {
   "cell_type": "markdown",
   "metadata": {},
   "source": [
    "Looking at the scatterplots and the mean squared errors, it seems like `Girth` is the best sole predictor of `Weight` as it has the strongest linear relationship with `Weight` and the smallest mean squared error.\n",
    "\n",
    "Can we do better with two variables? Let's try fitting a linear model using both `Girth` and `Length`. Although it is not as easy to visualize this model, we can still look at the MSE of this model."
   ]
  },
  {
   "cell_type": "code",
   "execution_count": 31,
   "metadata": {
    "tags": [
     "hide_input"
    ]
   },
   "outputs": [
    {
     "name": "stdout",
     "output_type": "stream",
     "text": [
      "MSE: 9680.902423377258\n"
     ]
    }
   ],
   "source": [
    "# HIDDEN\n",
    "model = LinearRegression()\n",
    "model.fit(X_train[['Girth', 'Length']], X_train['Weight'])\n",
    "predictions = model.predict(X_test[['Girth', 'Length']])\n",
    "print(\"MSE:\", mse_test_set(predictions))"
   ]
  },
  {
   "cell_type": "markdown",
   "metadata": {},
   "source": [
    "Wow! Looks like our MSE went down from around 13000 with just `Girth` alone to 10000 with `Girth` and `Length`. Using including the second variable improved our model.\n",
    "\n",
    "We can also use categorical variables in our model. Let's now look at a linear model using the categorical variable of `Age`. This is the plot of `Age` versus `Weight`:"
   ]
  },
  {
   "cell_type": "code",
   "execution_count": 32,
   "metadata": {
    "tags": [
     "hide_input"
    ]
   },
   "outputs": [
    {
     "data": {
      "image/png": "[encoded data removed]",
      "text/plain": [
       "<Figure size 432x288 with 1 Axes>"
      ]
     },
     "metadata": {},
     "output_type": "display_data"
    }
   ],
   "source": [
    "# HIDDEN\n",
    "sns.stripplot(x='Age', y='Weight', data=X_train, order=['<2', '2-5', '5-10', '10-15', '15-20', '>20']);"
   ]
  },
  {
   "cell_type": "markdown",
   "metadata": {},
   "source": [
    "Seeing how `Age` is a categorical variable, we need to introduce dummy variables in order to produce a linear regression model."
   ]
  },
  {
   "cell_type": "code",
   "execution_count": 33,
   "metadata": {
    "tags": [
     "hide_input"
    ]
   },
   "outputs": [
    {
     "name": "stdout",
     "output_type": "stream",
     "text": [
      "MSE: 41398.515625\n"
     ]
    }
   ],
   "source": [
    "# HIDDEN\n",
    "just_age_and_weight = X_train[['Age', 'Weight']]\n",
    "with_age_dummies = pd.get_dummies(just_age_and_weight, columns=['Age'])\n",
    "model = LinearRegression()\n",
    "model.fit(with_age_dummies.drop('Weight', axis=1), with_age_dummies['Weight'])\n",
    "\n",
    "just_age_and_weight_test = X_test[['Age']]\n",
    "with_age_dummies_test = pd.get_dummies(just_age_and_weight_test, columns=['Age'])\n",
    "predictions = model.predict(with_age_dummies_test)\n",
    "print(\"MSE:\", mse_test_set(predictions))"
   ]
  },
  {
   "cell_type": "markdown",
   "metadata": {},
   "source": [
    "A MSE of around 40000 is worse than what we could get using any single one of the quantitative variables, but this variable could still prove to be useful in our linear model.\n",
    "\n",
    "Let's try to interpret this linear model. Note that every donkey that falls into an age category, say 2-5 years of age, will receive the same prediction because they share the input values: a 1 in the column corresponding to 2-5 years of age, and 0 in all other columns. Thus, we can interpret categorical variables as simply changing the constant in the model because the categorical variable separates the donkeys into groups and gives one prediction for all donkeys within that group.\n",
    "\n",
    "Our next step is to create a final model using both our categorical variables and multiple quantitative variables."
   ]
  },
  {
   "cell_type": "markdown",
   "metadata": {},
   "source": [
    "## Transforming Variables\n",
    "\n",
    "Recall from our boxplots that `Sex` was not a useful variable, so we will drop it. We will also remove the `WeightAlt` column because we only have its value for 31 donkeys. Finally, using `get_dummies`, we transform the categorical variables `BCS` and `Age` into dummy variables so that we can include them in the model. "
   ]
  },
  {
   "cell_type": "code",
   "execution_count": 34,
   "metadata": {
    "tags": [
     "hide_input"
    ]
   },
   "outputs": [],
   "source": [
    "# HIDDEN\n",
    "X_train.drop('Weight', axis=1, inplace=True)"
   ]
  },
  {
   "cell_type": "code",
   "execution_count": 35,
   "metadata": {
    "tags": [
     "hide_input"
    ]
   },
   "outputs": [],
   "source": [
    "# HIDDEN\n",
    "pd.set_option('max_columns', 15)"
   ]
  },
  {
   "cell_type": "code",
   "execution_count": 36,
   "metadata": {},
   "outputs": [
    {
     "data": {
      "text/html": [
       "<div>\n",
       "<style scoped>\n",
       "    .dataframe tbody tr th:only-of-type {\n",
       "        vertical-align: middle;\n",
       "    }\n",
       "\n",
       "    .dataframe tbody tr th {\n",
       "        vertical-align: top;\n",
       "    }\n",
       "\n",
       "    .dataframe thead th {\n",
       "        text-align: right;\n",
       "    }\n",
       "</style>\n",
       "<table border=\"1\" class=\"dataframe\">\n",
       "  <thead>\n",
       "    <tr style=\"text-align: right;\">\n",
       "      <th></th>\n",
       "      <th>Length</th>\n",
       "      <th>Girth</th>\n",
       "      <th>Height</th>\n",
       "      <th>BCS_1.5</th>\n",
       "      <th>BCS_2.0</th>\n",
       "      <th>BCS_2.5</th>\n",
       "      <th>BCS_3.0</th>\n",
       "      <th>BCS_3.5</th>\n",
       "      <th>BCS_4.0</th>\n",
       "      <th>Age_10-15</th>\n",
       "      <th>Age_15-20</th>\n",
       "      <th>Age_2-5</th>\n",
       "      <th>Age_5-10</th>\n",
       "      <th>Age_&lt;2</th>\n",
       "      <th>Age_&gt;20</th>\n",
       "    </tr>\n",
       "  </thead>\n",
       "  <tbody>\n",
       "    <tr>\n",
       "      <th>465</th>\n",
       "      <td>98</td>\n",
       "      <td>113</td>\n",
       "      <td>99</td>\n",
       "      <td>0</td>\n",
       "      <td>0</td>\n",
       "      <td>0</td>\n",
       "      <td>1</td>\n",
       "      <td>0</td>\n",
       "      <td>0</td>\n",
       "      <td>0</td>\n",
       "      <td>0</td>\n",
       "      <td>1</td>\n",
       "      <td>0</td>\n",
       "      <td>0</td>\n",
       "      <td>0</td>\n",
       "    </tr>\n",
       "    <tr>\n",
       "      <th>233</th>\n",
       "      <td>101</td>\n",
       "      <td>119</td>\n",
       "      <td>101</td>\n",
       "      <td>0</td>\n",
       "      <td>0</td>\n",
       "      <td>0</td>\n",
       "      <td>1</td>\n",
       "      <td>0</td>\n",
       "      <td>0</td>\n",
       "      <td>1</td>\n",
       "      <td>0</td>\n",
       "      <td>0</td>\n",
       "      <td>0</td>\n",
       "      <td>0</td>\n",
       "      <td>0</td>\n",
       "    </tr>\n",
       "    <tr>\n",
       "      <th>450</th>\n",
       "      <td>106</td>\n",
       "      <td>125</td>\n",
       "      <td>103</td>\n",
       "      <td>0</td>\n",
       "      <td>0</td>\n",
       "      <td>1</td>\n",
       "      <td>0</td>\n",
       "      <td>0</td>\n",
       "      <td>0</td>\n",
       "      <td>1</td>\n",
       "      <td>0</td>\n",
       "      <td>0</td>\n",
       "      <td>0</td>\n",
       "      <td>0</td>\n",
       "      <td>0</td>\n",
       "    </tr>\n",
       "    <tr>\n",
       "      <th>453</th>\n",
       "      <td>93</td>\n",
       "      <td>120</td>\n",
       "      <td>100</td>\n",
       "      <td>0</td>\n",
       "      <td>0</td>\n",
       "      <td>1</td>\n",
       "      <td>0</td>\n",
       "      <td>0</td>\n",
       "      <td>0</td>\n",
       "      <td>0</td>\n",
       "      <td>0</td>\n",
       "      <td>1</td>\n",
       "      <td>0</td>\n",
       "      <td>0</td>\n",
       "      <td>0</td>\n",
       "    </tr>\n",
       "    <tr>\n",
       "      <th>452</th>\n",
       "      <td>98</td>\n",
       "      <td>120</td>\n",
       "      <td>108</td>\n",
       "      <td>0</td>\n",
       "      <td>0</td>\n",
       "      <td>1</td>\n",
       "      <td>0</td>\n",
       "      <td>0</td>\n",
       "      <td>0</td>\n",
       "      <td>0</td>\n",
       "      <td>0</td>\n",
       "      <td>0</td>\n",
       "      <td>1</td>\n",
       "      <td>0</td>\n",
       "      <td>0</td>\n",
       "    </tr>\n",
       "  </tbody>\n",
       "</table>\n",
       "</div>"
      ],
      "text/plain": [
       "     Length  Girth  Height  BCS_1.5  BCS_2.0  BCS_2.5  BCS_3.0  BCS_3.5  \\\n",
       "465      98    113      99        0        0        0        1        0   \n",
       "233     101    119     101        0        0        0        1        0   \n",
       "450     106    125     103        0        0        1        0        0   \n",
       "453      93    120     100        0        0        1        0        0   \n",
       "452      98    120     108        0        0        1        0        0   \n",
       "\n",
       "     BCS_4.0  Age_10-15  Age_15-20  Age_2-5  Age_5-10  Age_<2  Age_>20  \n",
       "465        0          0          0        1         0       0        0  \n",
       "233        0          1          0        0         0       0        0  \n",
       "450        0          1          0        0         0       0        0  \n",
       "453        0          0          0        1         0       0        0  \n",
       "452        0          0          0        0         1       0        0  "
      ]
     },
     "execution_count": 36,
     "metadata": {},
     "output_type": "execute_result"
    }
   ],
   "source": [
    "X_train.drop(['Sex', 'WeightAlt'], axis=1, inplace=True)\n",
    "X_train = pd.get_dummies(X_train, columns=['BCS', 'Age'])\n",
    "X_train.head()"
   ]
  },
  {
   "cell_type": "markdown",
   "metadata": {},
   "source": [
    "Recall that we noticed that the weight distribution of donkeys over the age of 5 is not very different. Thus, let's combine the columns `Age_10-15`, `Age_15-20`, and `Age_>20` into one column. "
   ]
  },
  {
   "cell_type": "code",
   "execution_count": 37,
   "metadata": {},
   "outputs": [],
   "source": [
    "age_over_10 = X_train['Age_10-15'] | X_train['Age_15-20'] | X_train['Age_>20']\n",
    "X_train['Age_>10'] = age_over_10\n",
    "X_train.drop(['Age_10-15', 'Age_15-20', 'Age_>20'], axis=1, inplace=True)"
   ]
  },
  {
   "cell_type": "markdown",
   "metadata": {},
   "source": [
    "Since we do not want our matrix to be over-parameterized, we should drop one category from the `BCS` and `Age` dummies."
   ]
  },
  {
   "cell_type": "code",
   "execution_count": 38,
   "metadata": {},
   "outputs": [
    {
     "data": {
      "text/html": [
       "<div>\n",
       "<style scoped>\n",
       "    .dataframe tbody tr th:only-of-type {\n",
       "        vertical-align: middle;\n",
       "    }\n",
       "\n",
       "    .dataframe tbody tr th {\n",
       "        vertical-align: top;\n",
       "    }\n",
       "\n",
       "    .dataframe thead th {\n",
       "        text-align: right;\n",
       "    }\n",
       "</style>\n",
       "<table border=\"1\" class=\"dataframe\">\n",
       "  <thead>\n",
       "    <tr style=\"text-align: right;\">\n",
       "      <th></th>\n",
       "      <th>Length</th>\n",
       "      <th>Girth</th>\n",
       "      <th>Height</th>\n",
       "      <th>BCS_1.5</th>\n",
       "      <th>BCS_2.0</th>\n",
       "      <th>BCS_2.5</th>\n",
       "      <th>BCS_3.5</th>\n",
       "      <th>BCS_4.0</th>\n",
       "      <th>Age_2-5</th>\n",
       "      <th>Age_&lt;2</th>\n",
       "      <th>Age_&gt;10</th>\n",
       "    </tr>\n",
       "  </thead>\n",
       "  <tbody>\n",
       "    <tr>\n",
       "      <th>465</th>\n",
       "      <td>98</td>\n",
       "      <td>113</td>\n",
       "      <td>99</td>\n",
       "      <td>0</td>\n",
       "      <td>0</td>\n",
       "      <td>0</td>\n",
       "      <td>0</td>\n",
       "      <td>0</td>\n",
       "      <td>1</td>\n",
       "      <td>0</td>\n",
       "      <td>0</td>\n",
       "    </tr>\n",
       "    <tr>\n",
       "      <th>233</th>\n",
       "      <td>101</td>\n",
       "      <td>119</td>\n",
       "      <td>101</td>\n",
       "      <td>0</td>\n",
       "      <td>0</td>\n",
       "      <td>0</td>\n",
       "      <td>0</td>\n",
       "      <td>0</td>\n",
       "      <td>0</td>\n",
       "      <td>0</td>\n",
       "      <td>1</td>\n",
       "    </tr>\n",
       "    <tr>\n",
       "      <th>450</th>\n",
       "      <td>106</td>\n",
       "      <td>125</td>\n",
       "      <td>103</td>\n",
       "      <td>0</td>\n",
       "      <td>0</td>\n",
       "      <td>1</td>\n",
       "      <td>0</td>\n",
       "      <td>0</td>\n",
       "      <td>0</td>\n",
       "      <td>0</td>\n",
       "      <td>1</td>\n",
       "    </tr>\n",
       "    <tr>\n",
       "      <th>453</th>\n",
       "      <td>93</td>\n",
       "      <td>120</td>\n",
       "      <td>100</td>\n",
       "      <td>0</td>\n",
       "      <td>0</td>\n",
       "      <td>1</td>\n",
       "      <td>0</td>\n",
       "      <td>0</td>\n",
       "      <td>1</td>\n",
       "      <td>0</td>\n",
       "      <td>0</td>\n",
       "    </tr>\n",
       "    <tr>\n",
       "      <th>452</th>\n",
       "      <td>98</td>\n",
       "      <td>120</td>\n",
       "      <td>108</td>\n",
       "      <td>0</td>\n",
       "      <td>0</td>\n",
       "      <td>1</td>\n",
       "      <td>0</td>\n",
       "      <td>0</td>\n",
       "      <td>0</td>\n",
       "      <td>0</td>\n",
       "      <td>0</td>\n",
       "    </tr>\n",
       "  </tbody>\n",
       "</table>\n",
       "</div>"
      ],
      "text/plain": [
       "     Length  Girth  Height  BCS_1.5  BCS_2.0  BCS_2.5  BCS_3.5  BCS_4.0  \\\n",
       "465      98    113      99        0        0        0        0        0   \n",
       "233     101    119     101        0        0        0        0        0   \n",
       "450     106    125     103        0        0        1        0        0   \n",
       "453      93    120     100        0        0        1        0        0   \n",
       "452      98    120     108        0        0        1        0        0   \n",
       "\n",
       "     Age_2-5  Age_<2  Age_>10  \n",
       "465        1       0        0  \n",
       "233        0       0        1  \n",
       "450        0       0        1  \n",
       "453        1       0        0  \n",
       "452        0       0        0  "
      ]
     },
     "execution_count": 38,
     "metadata": {},
     "output_type": "execute_result"
    }
   ],
   "source": [
    "X_train.drop(['BCS_3.0', 'Age_5-10'], axis=1, inplace=True)\n",
    "X_train.head()"
   ]
  },
  {
   "cell_type": "markdown",
   "metadata": {},
   "source": [
    "We should also add a column of biases in order to have a constant term in our model."
   ]
  },
  {
   "cell_type": "code",
   "execution_count": 39,
   "metadata": {},
   "outputs": [],
   "source": [
    "X_train = X_train.assign(bias=1)"
   ]
  },
  {
   "cell_type": "code",
   "execution_count": 40,
   "metadata": {
    "tags": [
     "hide_input"
    ]
   },
   "outputs": [],
   "source": [
    "# HIDDEN\n",
    "X_train = X_train.reindex(columns=['bias'] + list(X_train.columns[:-1]))\n"
   ]
  },
  {
   "cell_type": "code",
   "execution_count": 41,
   "metadata": {},
   "outputs": [
    {
     "data": {
      "text/html": [
       "<div>\n",
       "<style scoped>\n",
       "    .dataframe tbody tr th:only-of-type {\n",
       "        vertical-align: middle;\n",
       "    }\n",
       "\n",
       "    .dataframe tbody tr th {\n",
       "        vertical-align: top;\n",
       "    }\n",
       "\n",
       "    .dataframe thead th {\n",
       "        text-align: right;\n",
       "    }\n",
       "</style>\n",
       "<table border=\"1\" class=\"dataframe\">\n",
       "  <thead>\n",
       "    <tr style=\"text-align: right;\">\n",
       "      <th></th>\n",
       "      <th>bias</th>\n",
       "      <th>Length</th>\n",
       "      <th>Girth</th>\n",
       "      <th>Height</th>\n",
       "      <th>BCS_1.5</th>\n",
       "      <th>BCS_2.0</th>\n",
       "      <th>BCS_2.5</th>\n",
       "      <th>BCS_3.5</th>\n",
       "      <th>BCS_4.0</th>\n",
       "      <th>Age_2-5</th>\n",
       "      <th>Age_&lt;2</th>\n",
       "      <th>Age_&gt;10</th>\n",
       "    </tr>\n",
       "  </thead>\n",
       "  <tbody>\n",
       "    <tr>\n",
       "      <th>465</th>\n",
       "      <td>1</td>\n",
       "      <td>98</td>\n",
       "      <td>113</td>\n",
       "      <td>99</td>\n",
       "      <td>0</td>\n",
       "      <td>0</td>\n",
       "      <td>0</td>\n",
       "      <td>0</td>\n",
       "      <td>0</td>\n",
       "      <td>1</td>\n",
       "      <td>0</td>\n",
       "      <td>0</td>\n",
       "    </tr>\n",
       "    <tr>\n",
       "      <th>233</th>\n",
       "      <td>1</td>\n",
       "      <td>101</td>\n",
       "      <td>119</td>\n",
       "      <td>101</td>\n",
       "      <td>0</td>\n",
       "      <td>0</td>\n",
       "      <td>0</td>\n",
       "      <td>0</td>\n",
       "      <td>0</td>\n",
       "      <td>0</td>\n",
       "      <td>0</td>\n",
       "      <td>1</td>\n",
       "    </tr>\n",
       "    <tr>\n",
       "      <th>450</th>\n",
       "      <td>1</td>\n",
       "      <td>106</td>\n",
       "      <td>125</td>\n",
       "      <td>103</td>\n",
       "      <td>0</td>\n",
       "      <td>0</td>\n",
       "      <td>1</td>\n",
       "      <td>0</td>\n",
       "      <td>0</td>\n",
       "      <td>0</td>\n",
       "      <td>0</td>\n",
       "      <td>1</td>\n",
       "    </tr>\n",
       "    <tr>\n",
       "      <th>453</th>\n",
       "      <td>1</td>\n",
       "      <td>93</td>\n",
       "      <td>120</td>\n",
       "      <td>100</td>\n",
       "      <td>0</td>\n",
       "      <td>0</td>\n",
       "      <td>1</td>\n",
       "      <td>0</td>\n",
       "      <td>0</td>\n",
       "      <td>1</td>\n",
       "      <td>0</td>\n",
       "      <td>0</td>\n",
       "    </tr>\n",
       "    <tr>\n",
       "      <th>452</th>\n",
       "      <td>1</td>\n",
       "      <td>98</td>\n",
       "      <td>120</td>\n",
       "      <td>108</td>\n",
       "      <td>0</td>\n",
       "      <td>0</td>\n",
       "      <td>1</td>\n",
       "      <td>0</td>\n",
       "      <td>0</td>\n",
       "      <td>0</td>\n",
       "      <td>0</td>\n",
       "      <td>0</td>\n",
       "    </tr>\n",
       "  </tbody>\n",
       "</table>\n",
       "</div>"
      ],
      "text/plain": [
       "     bias  Length  Girth  Height  BCS_1.5  BCS_2.0  BCS_2.5  BCS_3.5  BCS_4.0  \\\n",
       "465     1      98    113      99        0        0        0        0        0   \n",
       "233     1     101    119     101        0        0        0        0        0   \n",
       "450     1     106    125     103        0        0        1        0        0   \n",
       "453     1      93    120     100        0        0        1        0        0   \n",
       "452     1      98    120     108        0        0        1        0        0   \n",
       "\n",
       "     Age_2-5  Age_<2  Age_>10  \n",
       "465        1       0        0  \n",
       "233        0       0        1  \n",
       "450        0       0        1  \n",
       "453        1       0        0  \n",
       "452        0       0        0  "
      ]
     },
     "execution_count": 41,
     "metadata": {},
     "output_type": "execute_result"
    }
   ],
   "source": [
    "X_train.head()"
   ]
  },
  {
   "cell_type": "markdown",
   "metadata": {},
   "source": [
    "## Multiple Linear Regression Model\n",
    "\n",
    "We are finally ready to fit our model to all of the variables we have deemed important and transformed into the proper form.\n",
    "\n",
    "Our model looks like this:\n",
    "\n",
    "$$\n",
    "f_\\theta (\\textbf{x}) = \\theta_0 + \\theta_1 (Length) + \\theta_2 (Girth) + \\theta_3 (Height) + ... + \\theta_{11} (Age_>10)\n",
    "$$\n",
    "\n",
    "Here are the functions we defined in the multiple linear regression lesson, which we will use again:"
   ]
  },
  {
   "cell_type": "code",
   "execution_count": 42,
   "metadata": {},
   "outputs": [],
   "source": [
    "def linear_model(thetas, X):\n",
    "    '''Returns predictions by a linear model on x_vals.'''\n",
    "    return X @ thetas\n",
    "\n",
    "def mse_cost(thetas, X, y):\n",
    "    return np.mean((y - linear_model(thetas, X)) ** 2)\n",
    "\n",
    "def grad_mse_cost(thetas, X, y):\n",
    "    n = len(X)\n",
    "    return -2 / n * (X.T @ y  - X.T @ X @ thetas)"
   ]
  },
  {
   "cell_type": "markdown",
   "metadata": {},
   "source": [
    "In order to use the above functions, we need `X`, and `y`. These can both be obtained from our data frames. Remember that `X` and `y` have to be numpy matrices in order to be able to multiply them with `@` notation."
   ]
  },
  {
   "cell_type": "code",
   "execution_count": 43,
   "metadata": {},
   "outputs": [],
   "source": [
    "X_train = X_train.values"
   ]
  },
  {
   "cell_type": "code",
   "execution_count": 44,
   "metadata": {},
   "outputs": [],
   "source": [
    "y_train = y_train.values"
   ]
  },
  {
   "cell_type": "markdown",
   "metadata": {},
   "source": [
    "Now we just need to call the `minimize` function defined in a previous section."
   ]
  },
  {
   "cell_type": "code",
   "execution_count": 45,
   "metadata": {},
   "outputs": [
    {
     "name": "stdout",
     "output_type": "stream",
     "text": [
      "theta: [0. 0. 0. 0. 0. 0. 0. 0. 0. 0. 0. 0.] | cost: 23979.72\n",
      "theta: [0.01 0.53 0.65 0.56 0.   0.   0.   0.   0.   0.   0.   0.  ] | cost: 1214.03\n",
      "theta: [-0.07  1.84  2.55 -2.87 -0.02 -0.13 -0.34  0.19  0.07 -0.22 -0.3   0.43] | cost: 1002.46\n",
      "theta: [-0.25 -0.76  4.81 -3.06 -0.08 -0.38 -1.11  0.61  0.24 -0.66 -0.93  1.27] | cost: 815.50\n",
      "theta: [-0.44 -0.33  4.08 -2.7  -0.14 -0.61 -1.89  1.02  0.4  -1.06 -1.57  2.09] | cost: 491.91\n",
      "theta: [-1.52  0.85  2.   -1.58 -0.52 -2.22 -5.63  3.29  1.42 -2.59 -5.14  5.54] | cost: 140.86\n",
      "theta: [-2.25  0.9   1.72 -1.3  -0.82 -3.52 -7.25  4.64  2.16 -2.95 -7.32  6.61] | cost: 130.33\n",
      "theta: [ -4.16   0.84   1.32  -0.78  -1.65  -7.09 -10.4    7.82   4.18  -3.44\n",
      " -12.61   8.24] | cost: 116.92\n",
      "theta: [ -5.89   0.75   1.17  -0.5   -2.45 -10.36 -11.81  10.04   6.08  -3.6\n",
      " -16.65   8.45] | cost: 110.37\n",
      "theta: [ -7.75   0.67   1.13  -0.35  -3.38 -13.76 -11.84  11.55   8.2   -3.8\n",
      " -20.     7.55] | cost: 105.74\n",
      "theta: [ -9.41   0.64   1.15  -0.31  -4.26 -16.36 -10.81  11.97  10.12  -4.33\n",
      " -21.88   6.15] | cost: 102.82\n",
      "theta: [-11.08   0.66   1.17  -0.32  -5.18 -18.28  -9.43  11.61  11.99  -5.37\n",
      " -22.77   4.69] | cost: 100.70\n",
      "theta: [-12.59   0.69   1.16  -0.32  -6.02 -19.17  -8.53  10.86  13.54  -6.65\n",
      " -22.89   3.73] | cost: 99.34\n",
      "theta: [-14.2    0.72   1.14  -0.3   -6.89 -19.35  -8.29  10.03  14.98  -7.99\n",
      " -22.74   3.14] | cost: 98.30\n",
      "theta: [-16.14   0.73   1.11  -0.26  -7.94 -19.03  -8.65   9.3   16.47  -9.18\n",
      " -22.59   2.76] | cost: 97.35\n",
      "theta: [-18.68   0.73   1.1   -0.21  -9.27 -18.29  -9.42   8.76  18.14 -10.04\n",
      " -22.55   2.39] | cost: 96.38\n",
      "theta: [-21.93   0.72   1.1   -0.17 -10.94 -17.19 -10.25   8.5   19.92 -10.36\n",
      " -22.66   1.99] | cost: 95.35\n",
      "theta: [-26.08   0.7    1.13  -0.14 -13.03 -15.78 -10.79   8.54  21.78 -10.05\n",
      " -22.83   1.59] | cost: 94.18\n",
      "theta: [-31.35   0.69   1.17  -0.13 -15.59 -14.12 -10.69   8.9   23.61  -9.19\n",
      " -22.93   1.32] | cost: 92.84\n",
      "theta: [-37.51   0.7    1.21  -0.13 -18.44 -12.47  -9.79   9.52  25.14  -8.06\n",
      " -22.78   1.38] | cost: 91.40\n",
      "theta: [-43.57   0.72   1.23  -0.12 -21.06 -11.3   -8.4   10.2   25.98  -7.16\n",
      " -22.24   1.87] | cost: 90.06\n",
      "theta: [-48.96   0.74   1.23  -0.1  -23.13 -10.82  -7.13  10.76  26.06  -6.79\n",
      " -21.34   2.6 ] | cost: 88.89\n",
      "theta: [-54.87   0.76   1.22  -0.05 -25.11 -10.88  -6.25  11.22  25.55  -6.8\n",
      " -20.04   3.41] | cost: 87.62\n",
      "theta: [-63.83   0.78   1.21   0.02 -27.82 -11.42  -5.83  11.68  24.36  -6.96\n",
      " -17.97   4.26] | cost: 85.79\n",
      "theta: [-77.9    0.8    1.22   0.13 -31.81 -12.47  -6.17  12.03  22.29  -6.98\n",
      " -14.93   4.9 ] | cost: 83.19\n",
      "theta: [-94.94   0.81   1.26   0.23 -36.3  -13.73  -7.37  11.98  19.65  -6.47\n",
      " -11.73   4.88] | cost: 80.40\n",
      "theta: [-108.1     0.81    1.34    0.28  -39.34  -14.55   -8.72   11.32   17.48\n",
      "   -5.47   -9.92    4.21] | cost: 78.34\n",
      "theta: [-115.07    0.81    1.4     0.29  -40.38  -14.75   -9.46   10.3    16.16\n",
      "   -4.47   -9.7     3.5 ] | cost: 77.07\n",
      "theta: [-119.8     0.81    1.44    0.28  -40.43  -14.6    -9.61    9.02   15.09\n",
      "   -3.67  -10.25    3.05] | cost: 76.03\n",
      "theta: [-125.16    0.82    1.47    0.3   -40.01  -14.23   -9.3     7.48   13.79\n",
      "   -3.14  -11.09    2.94] | cost: 74.96\n",
      "theta: [-131.24    0.83    1.48    0.33  -39.39  -13.76   -8.71    6.21   12.41\n",
      "   -3.16  -11.79    3.17] | cost: 74.03\n",
      "theta: [-137.42    0.84    1.48    0.39  -38.62  -13.25   -8.11    5.57   11.18\n",
      "   -3.67  -12.11    3.47] | cost: 73.23\n",
      "theta: [-144.82    0.85    1.47    0.46  -37.36  -12.53   -7.56    5.47    9.93\n",
      "   -4.57  -12.23    3.56] | cost: 72.28\n",
      "theta: [-155.48    0.86    1.48    0.54  -34.88  -11.3    -6.98    5.95    8.38\n",
      "   -5.92  -12.27    3.13] | cost: 70.91\n",
      "theta: [-167.86    0.88    1.52    0.62  -31.01   -9.63   -6.53    7.03    6.9\n",
      "   -7.3   -12.29    1.91] | cost: 69.33\n",
      "theta: [-176.09    0.89    1.57    0.64  -27.32   -8.32   -6.41    8.07    6.31\n",
      "   -7.84  -12.29    0.44] | cost: 68.19\n",
      "theta: [-178.63    0.9     1.6     0.62  -25.15   -7.88   -6.5     8.52    6.6\n",
      "   -7.51  -12.19   -0.39] | cost: 67.59\n",
      "theta: [-179.83    0.91    1.63    0.6   -23.4    -7.84   -6.6     8.61    7.27\n",
      "   -6.83  -11.89   -0.72] | cost: 67.08\n",
      "theta: [-182.79    0.91    1.66    0.58  -20.55   -8.01   -6.68    8.49    8.44\n",
      "   -5.7   -11.11   -0.69] | cost: 66.27\n",
      "theta: [-190.23    0.93    1.68    0.6   -15.62   -8.38   -6.68    8.1    10.26\n",
      "   -4.1    -9.46    0.01] | cost: 65.11\n",
      "theta: [-199.13    0.93    1.69    0.67  -11.37   -8.7    -6.55    7.67   11.53\n",
      "   -3.17   -7.81    1.13] | cost: 64.28\n",
      "theta: [-203.85    0.93    1.68    0.72  -10.03   -8.78   -6.42    7.5    11.68\n",
      "   -3.25   -7.13    1.86] | cost: 64.01\n",
      "theta: [-204.24    0.93    1.67    0.74  -10.33   -8.74   -6.39    7.52   11.46\n",
      "   -3.52   -7.17    1.97] | cost: 63.98\n",
      "theta: [-204.06    0.93    1.67    0.74  -10.48   -8.72   -6.39    7.54   11.39\n",
      "   -3.59   -7.22    1.95] | cost: 63.98\n",
      "theta: [-204.03    0.93    1.67    0.74  -10.5    -8.72   -6.39    7.54   11.39\n",
      "   -3.6    -7.22    1.95] | cost: 63.98\n",
      "theta: [-204.03    0.93    1.67    0.74  -10.5    -8.72   -6.39    7.54   11.39\n",
      "   -3.6    -7.22    1.95] | cost: 63.98\n",
      "theta: [-204.03    0.93    1.67    0.74  -10.5    -8.72   -6.39    7.54   11.39\n",
      "   -3.6    -7.22    1.95] | cost: 63.98\n",
      "theta: [-204.03    0.93    1.67    0.74  -10.5    -8.72   -6.39    7.54   11.39\n",
      "   -3.6    -7.22    1.95] | cost: 63.98\n",
      "theta: [-204.03    0.93    1.67    0.74  -10.5    -8.72   -6.39    7.54   11.39\n",
      "   -3.6    -7.22    1.95] | cost: 63.98\n",
      "theta: [-204.03    0.93    1.67    0.74  -10.5    -8.72   -6.39    7.54   11.39\n",
      "   -3.6    -7.22    1.95] | cost: 63.98\n"
     ]
    }
   ],
   "source": [
    "thetas = minimize(mse_cost, grad_mse_cost, X_train, y_train)"
   ]
  },
  {
   "cell_type": "markdown",
   "metadata": {},
   "source": [
    "Our linear model is:\n",
    "\n",
    "$y = -204.03 + 0.93x_1 + ... -7.22x_{9} + 1.95x_{11}$"
   ]
  },
  {
   "cell_type": "markdown",
   "metadata": {},
   "source": [
    "Let's compare this equation that we obtained to the one we would get if we had used `sklearn`'s LinearRegression model instead."
   ]
  },
  {
   "cell_type": "code",
   "execution_count": 46,
   "metadata": {},
   "outputs": [
    {
     "name": "stdout",
     "output_type": "stream",
     "text": [
      "Coefficients [-204.03    0.93    1.67    0.74  -10.5    -8.72   -6.39    7.54   11.39\n",
      "   -3.6    -7.22    1.95]\n"
     ]
    }
   ],
   "source": [
    "model = LinearRegression(fit_intercept=False) # We already accounted for it with the bias column\n",
    "model.fit(X_train[:, :14], y_train)\n",
    "print(\"Coefficients\", model.coef_)"
   ]
  },
  {
   "cell_type": "markdown",
   "metadata": {},
   "source": [
    "The coefficients look exactly the same! Our homemade functions create the same model as an established Python package!\n",
    "\n",
    "We successfully fit a linear model to our donkey data! Nice!"
   ]
  },
  {
   "cell_type": "markdown",
   "metadata": {},
   "source": [
    "## Evaluating our Model\n",
    "\n",
    "Our next step is to evaluate our model's performance on the test set. We need to perform the same data pre-processing steps on the test set as we did on the training set before we can pass it into our model."
   ]
  },
  {
   "cell_type": "code",
   "execution_count": 47,
   "metadata": {},
   "outputs": [],
   "source": [
    "X_test.drop(['Sex', 'WeightAlt'], axis=1, inplace=True)\n",
    "X_test = pd.get_dummies(X_test, columns=['BCS', 'Age'])\n",
    "age_over_10 = X_test['Age_10-15'] | X_test['Age_15-20'] | X_test['Age_>20']\n",
    "X_test['Age_>10'] = age_over_10\n",
    "X_test.drop(['Age_10-15', 'Age_15-20', 'Age_>20'], axis=1, inplace=True)\n",
    "X_test.drop(['BCS_3.0', 'Age_5-10'], axis=1, inplace=True)\n",
    "X_test = X_test.assign(bias=1)"
   ]
  },
  {
   "cell_type": "code",
   "execution_count": 48,
   "metadata": {
    "tags": [
     "hide_input"
    ]
   },
   "outputs": [],
   "source": [
    "# HIDDEN\n",
    "X_test = X_test.reindex(columns=['bias'] + list(X_test.columns[:-1]))"
   ]
  },
  {
   "cell_type": "code",
   "execution_count": 49,
   "metadata": {},
   "outputs": [
    {
     "data": {
      "text/html": [
       "<div>\n",
       "<style scoped>\n",
       "    .dataframe tbody tr th:only-of-type {\n",
       "        vertical-align: middle;\n",
       "    }\n",
       "\n",
       "    .dataframe tbody tr th {\n",
       "        vertical-align: top;\n",
       "    }\n",
       "\n",
       "    .dataframe thead th {\n",
       "        text-align: right;\n",
       "    }\n",
       "</style>\n",
       "<table border=\"1\" class=\"dataframe\">\n",
       "  <thead>\n",
       "    <tr style=\"text-align: right;\">\n",
       "      <th></th>\n",
       "      <th>bias</th>\n",
       "      <th>Length</th>\n",
       "      <th>Girth</th>\n",
       "      <th>Height</th>\n",
       "      <th>BCS_1.5</th>\n",
       "      <th>BCS_2.0</th>\n",
       "      <th>BCS_2.5</th>\n",
       "      <th>BCS_3.5</th>\n",
       "      <th>BCS_4.0</th>\n",
       "      <th>Age_2-5</th>\n",
       "      <th>Age_&lt;2</th>\n",
       "      <th>Age_&gt;10</th>\n",
       "    </tr>\n",
       "  </thead>\n",
       "  <tbody>\n",
       "    <tr>\n",
       "      <th>490</th>\n",
       "      <td>1</td>\n",
       "      <td>98</td>\n",
       "      <td>119</td>\n",
       "      <td>103</td>\n",
       "      <td>0</td>\n",
       "      <td>0</td>\n",
       "      <td>1</td>\n",
       "      <td>0</td>\n",
       "      <td>0</td>\n",
       "      <td>0</td>\n",
       "      <td>0</td>\n",
       "      <td>1</td>\n",
       "    </tr>\n",
       "    <tr>\n",
       "      <th>75</th>\n",
       "      <td>1</td>\n",
       "      <td>86</td>\n",
       "      <td>114</td>\n",
       "      <td>105</td>\n",
       "      <td>0</td>\n",
       "      <td>0</td>\n",
       "      <td>0</td>\n",
       "      <td>0</td>\n",
       "      <td>0</td>\n",
       "      <td>1</td>\n",
       "      <td>0</td>\n",
       "      <td>0</td>\n",
       "    </tr>\n",
       "    <tr>\n",
       "      <th>352</th>\n",
       "      <td>1</td>\n",
       "      <td>94</td>\n",
       "      <td>114</td>\n",
       "      <td>101</td>\n",
       "      <td>0</td>\n",
       "      <td>0</td>\n",
       "      <td>0</td>\n",
       "      <td>0</td>\n",
       "      <td>0</td>\n",
       "      <td>0</td>\n",
       "      <td>0</td>\n",
       "      <td>1</td>\n",
       "    </tr>\n",
       "    <tr>\n",
       "      <th>...</th>\n",
       "      <td>...</td>\n",
       "      <td>...</td>\n",
       "      <td>...</td>\n",
       "      <td>...</td>\n",
       "      <td>...</td>\n",
       "      <td>...</td>\n",
       "      <td>...</td>\n",
       "      <td>...</td>\n",
       "      <td>...</td>\n",
       "      <td>...</td>\n",
       "      <td>...</td>\n",
       "      <td>...</td>\n",
       "    </tr>\n",
       "    <tr>\n",
       "      <th>182</th>\n",
       "      <td>1</td>\n",
       "      <td>94</td>\n",
       "      <td>114</td>\n",
       "      <td>102</td>\n",
       "      <td>0</td>\n",
       "      <td>0</td>\n",
       "      <td>0</td>\n",
       "      <td>0</td>\n",
       "      <td>0</td>\n",
       "      <td>1</td>\n",
       "      <td>0</td>\n",
       "      <td>0</td>\n",
       "    </tr>\n",
       "    <tr>\n",
       "      <th>334</th>\n",
       "      <td>1</td>\n",
       "      <td>104</td>\n",
       "      <td>113</td>\n",
       "      <td>105</td>\n",
       "      <td>0</td>\n",
       "      <td>0</td>\n",
       "      <td>1</td>\n",
       "      <td>0</td>\n",
       "      <td>0</td>\n",
       "      <td>0</td>\n",
       "      <td>0</td>\n",
       "      <td>0</td>\n",
       "    </tr>\n",
       "    <tr>\n",
       "      <th>543</th>\n",
       "      <td>1</td>\n",
       "      <td>104</td>\n",
       "      <td>124</td>\n",
       "      <td>110</td>\n",
       "      <td>0</td>\n",
       "      <td>0</td>\n",
       "      <td>0</td>\n",
       "      <td>0</td>\n",
       "      <td>0</td>\n",
       "      <td>0</td>\n",
       "      <td>0</td>\n",
       "      <td>0</td>\n",
       "    </tr>\n",
       "  </tbody>\n",
       "</table>\n",
       "<p>108 rows × 12 columns</p>\n",
       "</div>"
      ],
      "text/plain": [
       "     bias  Length  Girth  Height  BCS_1.5  BCS_2.0  BCS_2.5  BCS_3.5  BCS_4.0  \\\n",
       "490     1      98    119     103        0        0        1        0        0   \n",
       "75      1      86    114     105        0        0        0        0        0   \n",
       "352     1      94    114     101        0        0        0        0        0   \n",
       "..    ...     ...    ...     ...      ...      ...      ...      ...      ...   \n",
       "182     1      94    114     102        0        0        0        0        0   \n",
       "334     1     104    113     105        0        0        1        0        0   \n",
       "543     1     104    124     110        0        0        0        0        0   \n",
       "\n",
       "     Age_2-5  Age_<2  Age_>10  \n",
       "490        0       0        1  \n",
       "75         1       0        0  \n",
       "352        0       0        1  \n",
       "..       ...     ...      ...  \n",
       "182        1       0        0  \n",
       "334        0       0        0  \n",
       "543        0       0        0  \n",
       "\n",
       "[108 rows x 12 columns]"
      ]
     },
     "execution_count": 49,
     "metadata": {},
     "output_type": "execute_result"
    }
   ],
   "source": [
    "X_test"
   ]
  },
  {
   "cell_type": "markdown",
   "metadata": {},
   "source": [
    "We pass `X_test` into `predict` of our `LinearRegression` model:"
   ]
  },
  {
   "cell_type": "code",
   "execution_count": 50,
   "metadata": {},
   "outputs": [],
   "source": [
    "X_test = X_test.values\n",
    "predictions = model.predict(X_test)"
   ]
  },
  {
   "cell_type": "markdown",
   "metadata": {},
   "source": [
    "Let's look at the mean squared error:"
   ]
  },
  {
   "cell_type": "code",
   "execution_count": 51,
   "metadata": {},
   "outputs": [
    {
     "data": {
      "text/plain": [
       "7261.974205350604"
      ]
     },
     "execution_count": 51,
     "metadata": {},
     "output_type": "execute_result"
    }
   ],
   "source": [
    "mse_test_set(predictions)"
   ]
  },
  {
   "cell_type": "markdown",
   "metadata": {},
   "source": [
    "With these predictions, we can also make a residual plot:"
   ]
  },
  {
   "cell_type": "code",
   "execution_count": 52,
   "metadata": {
    "tags": [
     "hide_input"
    ]
   },
   "outputs": [
    {
     "data": {
      "image/png": "[encoded data removed]",
      "text/plain": [
       "<Figure size 432x288 with 1 Axes>"
      ]
     },
     "metadata": {},
     "output_type": "display_data"
    }
   ],
   "source": [
    "# HIDDEN\n",
    "y_test = y_test.values\n",
    "resid = y_test - predictions\n",
    "resid_prop = resid / y_test\n",
    "plt.scatter(np.arange(len(resid_prop)), resid_prop, s=15)\n",
    "plt.axhline(0)\n",
    "plt.title('Residual proportions (resid / actual Weight)')\n",
    "plt.xlabel('Index of row in data')\n",
    "plt.ylabel('Error proportion');"
   ]
  },
  {
   "cell_type": "markdown",
   "metadata": {},
   "source": [
    "Looks like our model does pretty well! The residual proportions indicate that our predictions are mostly within 15% of the correct value. "
   ]
  }
 ],
 "metadata": {
  "kernelspec": {
   "display_name": "Python 3",
   "language": "python",
   "name": "python3"
  },
  "language_info": {
   "codemirror_mode": {
    "name": "ipython",
    "version": 3
   },
   "file_extension": ".py",
   "mimetype": "text/x-python",
   "name": "python",
   "nbconvert_exporter": "python",
   "pygments_lexer": "ipython3",
   "version": "3.6.5"
  }
 },
 "nbformat": 4,
 "nbformat_minor": 2
}
