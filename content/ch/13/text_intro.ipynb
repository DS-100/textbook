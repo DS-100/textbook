{
 "cells": [
  {
   "cell_type": "code",
   "execution_count": 1,
   "metadata": {
    "tags": [
     "remove-cell"
    ]
   },
   "outputs": [],
   "source": [
    "import sys\n",
    "import os\n",
    "if not any(path.endswith('textbook') for path in sys.path):\n",
    "    sys.path.append(os.path.abspath('../../..'))\n",
    "from textbook_utils import *"
   ]
  },
  {
   "cell_type": "markdown",
   "metadata": {},
   "source": [
    "(ch:text)=\n",
    "# Working with Text"
   ]
  },
  {
   "cell_type": "markdown",
   "metadata": {},
   "source": [
    "Lots of data resides not as numbers but as text: names of dog breeds,\n",
    "restaurant violation descriptions, street addresses, web logs, books,\n",
    "documents, blog posts, and Internet comments. To organize and analyze the\n",
    "information contained in text, we often need to do the following tasks:\n",
    "\n",
    "+ Convert text into a standard format. This is also referred to as\n",
    "  *canonicalizing text*. For example, we might need to convert characters to\n",
    "  lower case, use common spellings and abbreviations, remove punctuation and\n",
    "  blanks;\n",
    "+ Extract a piece of text to create a feature. As an example, a string might\n",
    "  contain a date embedded within it and we want to pull it out from the string\n",
    "  to create a date feature.\n",
    "+ Transform text into a feature. We might want to create a 0-1 variable to\n",
    "  indicate whether or not a string contains certain words.\n",
    "+ Text Analysis. In order to compare entire documents at once, we can\n",
    "  transform a document into a vector of word counts.\n",
    "\n",
    "This chapter introduces common techniques for working with text data. We\n",
    "show how simple string manipulation tools are often all we need to put text in\n",
    "a standard form or extract portions of strings. We'll also introduce regular\n",
    "expressions for more general and robust pattern matching. To make these\n",
    "text operations more concrete, we begin by introducing several examples that\n",
    "need string manipulations or regular expressions to prepare text for analysis. "
   ]
  },
  {
   "cell_type": "code",
   "execution_count": null,
   "metadata": {},
   "outputs": [],
   "source": []
  }
 ],
 "metadata": {
  "kernelspec": {
   "display_name": "Python 3",
   "language": "python",
   "name": "python3"
  },
  "language_info": {
   "codemirror_mode": {
    "name": "ipython",
    "version": 3
   },
   "file_extension": ".py",
   "mimetype": "text/x-python",
   "name": "python",
   "nbconvert_exporter": "python",
   "pygments_lexer": "ipython3",
   "version": "3.9.4"
  }
 },
 "nbformat": 4,
 "nbformat_minor": 4
}
