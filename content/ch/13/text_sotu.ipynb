{
 "cells": [
  {
   "cell_type": "code",
   "execution_count": 1,
   "metadata": {
    "tags": [
     "remove-cell"
    ]
   },
   "outputs": [],
   "source": [
    "import sys\n",
    "import os\n",
    "if not any(path.endswith('textbook') for path in sys.path):\n",
    "    sys.path.append(os.path.abspath('../../..'))\n",
    "from textbook_utils import *"
   ]
  },
  {
   "cell_type": "markdown",
   "metadata": {},
   "source": [
    "# Text Analysis\n",
    "\n",
    "So far, we've used Python methods and regular expressions to clean short\n",
    "text fields and strings.\n",
    "In this section, we analyze entire documents using a technique called\n",
    "*text mining*, which transforms free-form text into \n",
    "a quantitative representation\n",
    "to uncover meaningful patterns and insights.\n",
    "\n",
    "Text mining is a deep topic. Instead of a comprehensive treatment, we\n",
    "introduce a few key ideas through an example, where\n",
    "we analyze the State of the Union speeches from 1790 to 2022. \n",
    "Every year, the US president gives a State of the Union speech to Congress.\n",
    "These speeches talk about current events in the country and\n",
    "make recommendations for Congress to consider.\n",
    "The [American Presidency Project](https://www.presidency.ucsb.edu/) makes these speeches available online."
   ]
  },
  {
   "cell_type": "markdown",
   "metadata": {},
   "source": [
    "Let's begin by opening the file that has all of the speeches."
   ]
  },
  {
   "cell_type": "code",
   "execution_count": 2,
   "metadata": {
    "colab": {
     "autoexec": {
      "startup": false,
      "wait_interval": 0
     },
     "base_uri": "https://localhost:8080/",
     "height": 34
    },
    "colab_type": "code",
    "executionInfo": {
     "elapsed": 303,
     "status": "ok",
     "timestamp": 1524681067395,
     "user": {
      "displayName": "Andrew Kim",
      "photoUrl": "https://lh3.googleusercontent.com/a/default-user=s128",
      "userId": "109388192039284916411"
     },
     "user_tz": 420
    },
    "id": "n6NNGiO93AKJ",
    "outputId": "6248e853-8c58-4362-9004-a5028c7e5218"
   },
   "outputs": [],
   "source": [
    "from pathlib import Path\n",
    "\n",
    "with Path('data/stateoftheunion1790-2022.txt').open(mode=\"r\") as f:\n",
    "    text = f.read()"
   ]
  },
  {
   "cell_type": "markdown",
   "metadata": {},
   "source": [
    "At the beginning of this chapter, we saw that each speech in the data begins with \n",
    "a line with three asterisks: `***`.\n",
    "We can use a regular expression to count the number of times the\n",
    "string `***` appears."
   ]
  },
  {
   "cell_type": "code",
   "execution_count": 3,
   "metadata": {},
   "outputs": [
    {
     "name": "stdout",
     "output_type": "stream",
     "text": [
      "There are 232 speeches total\n"
     ]
    }
   ],
   "source": [
    "import re\n",
    "num_speeches = len(re.findall(r\"\\*\\*\\*\", text))\n",
    "print(f'There are {num_speeches} speeches total')"
   ]
  },
  {
   "cell_type": "markdown",
   "metadata": {},
   "source": [
    "In text analysis, a *document* refers to a single piece of text that we want\n",
    "to analyze. Here, each speech is a document.\n",
    "We split apart the `text` variable into its individual documents."
   ]
  },
  {
   "cell_type": "code",
   "execution_count": 4,
   "metadata": {},
   "outputs": [],
   "source": [
    "records = text.split(\"***\")"
   ]
  },
  {
   "cell_type": "markdown",
   "metadata": {},
   "source": [
    "Then, we can put the speeches into a dataframe:"
   ]
  },
  {
   "cell_type": "code",
   "execution_count": 5,
   "metadata": {
    "tags": []
   },
   "outputs": [
    {
     "data": {
      "text/html": [
       "<div>\n",
       "<style scoped>\n",
       "    .dataframe tbody tr th:only-of-type {\n",
       "        vertical-align: middle;\n",
       "    }\n",
       "\n",
       "    .dataframe tbody tr th {\n",
       "        vertical-align: top;\n",
       "    }\n",
       "\n",
       "    .dataframe thead th {\n",
       "        text-align: right;\n",
       "    }\n",
       "</style>\n",
       "<table border=\"1\" class=\"dataframe\">\n",
       "  <thead>\n",
       "    <tr style=\"text-align: right;\">\n",
       "      <th></th>\n",
       "      <th>name</th>\n",
       "      <th>date</th>\n",
       "      <th>text</th>\n",
       "    </tr>\n",
       "  </thead>\n",
       "  <tbody>\n",
       "    <tr>\n",
       "      <th>0</th>\n",
       "      <td>George Washington</td>\n",
       "      <td>January 8, 1790</td>\n",
       "      <td>Fellow-Citizens of the Senate and House of Rep...</td>\n",
       "    </tr>\n",
       "    <tr>\n",
       "      <th>1</th>\n",
       "      <td>George Washington</td>\n",
       "      <td>December 8, 1790</td>\n",
       "      <td>Fellow-Citizens of the Senate and House of Rep...</td>\n",
       "    </tr>\n",
       "    <tr>\n",
       "      <th>2</th>\n",
       "      <td>George Washington</td>\n",
       "      <td>October 25, 1791</td>\n",
       "      <td>Fellow-Citizens of the Senate and House of Rep...</td>\n",
       "    </tr>\n",
       "    <tr>\n",
       "      <th>...</th>\n",
       "      <td>...</td>\n",
       "      <td>...</td>\n",
       "      <td>...</td>\n",
       "    </tr>\n",
       "    <tr>\n",
       "      <th>229</th>\n",
       "      <td>Donald J. Trump</td>\n",
       "      <td>February 4, 2020</td>\n",
       "      <td>Thank you very much. Thank you. Thank you very...</td>\n",
       "    </tr>\n",
       "    <tr>\n",
       "      <th>230</th>\n",
       "      <td>Joseph R. Biden, Jr.</td>\n",
       "      <td>April 28, 2021</td>\n",
       "      <td>Thank you. Thank you. Thank you. Good to be ba...</td>\n",
       "    </tr>\n",
       "    <tr>\n",
       "      <th>231</th>\n",
       "      <td>Joseph R. Biden, Jr.</td>\n",
       "      <td>March 1, 2022</td>\n",
       "      <td>Madam Speaker, Madam Vice President, our First...</td>\n",
       "    </tr>\n",
       "  </tbody>\n",
       "</table>\n",
       "<p>232 rows × 3 columns</p>\n",
       "</div>"
      ],
      "text/plain": [
       "                       name              date  \\\n",
       "0         George Washington   January 8, 1790   \n",
       "1         George Washington  December 8, 1790   \n",
       "2         George Washington  October 25, 1791   \n",
       "..                      ...               ...   \n",
       "229       Donald J. Trump    February 4, 2020   \n",
       "230  Joseph R. Biden, Jr.      April 28, 2021   \n",
       "231  Joseph R. Biden, Jr.       March 1, 2022   \n",
       "\n",
       "                                                  text  \n",
       "0    Fellow-Citizens of the Senate and House of Rep...  \n",
       "1    Fellow-Citizens of the Senate and House of Rep...  \n",
       "2    Fellow-Citizens of the Senate and House of Rep...  \n",
       "..                                                 ...  \n",
       "229  Thank you very much. Thank you. Thank you very...  \n",
       "230  Thank you. Thank you. Thank you. Good to be ba...  \n",
       "231  Madam Speaker, Madam Vice President, our First...  \n",
       "\n",
       "[232 rows x 3 columns]"
      ]
     },
     "execution_count": 5,
     "metadata": {},
     "output_type": "execute_result"
    }
   ],
   "source": [
    "def extract_parts(speech):\n",
    "    speech = speech.strip().split('\\n')[1:]\n",
    "    [name, date, *lines] = speech\n",
    "    body = '\\n'.join(lines).strip()\n",
    "    return [name, date, body]\n",
    "\n",
    "def read_speeches():\n",
    "    return pd.DataFrame([extract_parts(l) for l in records[1:]],\n",
    "                        columns = [\"name\", \"date\", \"text\"])\n",
    "\n",
    "df = read_speeches()\n",
    "df"
   ]
  },
  {
   "cell_type": "markdown",
   "metadata": {},
   "source": [
    "Now that we have the speeches loaded into a data frame, we want to transform the speeches to see how they have changed over time.\n",
    "Our basic idea is to look at the words in the speeches---if two speeches\n",
    "contain very different words, our analysis should tell us that.\n",
    "With some kind of measure of document similarity, we can see how the speeches differ from each other."
   ]
  },
  {
   "cell_type": "markdown",
   "metadata": {},
   "source": [
    "There are few problems in the documents that we need to take care of first:\n",
    "\n",
    "1. Capitalization shouldn't matter: `Citizens` and `citizens` should be\n",
    "   considered the same word. We can address this by lowercasing the text.\n",
    "1. There are unspoken remarks in the text: `[laughter]` points out where the\n",
    "   audience laughed, but these shouldn't count as part of the speech.\n",
    "   We can address this by using a regex to remove text within\n",
    "   brackets: `\\[[^\\]]+\\]`. Remember that `\\[` and `\\]` match\n",
    "   the literal left and right brackets, and `[^\\]]` matches any character that\n",
    "   isn't a right bracket.\n",
    "1. We should take out characters that aren't letters or whitespace: some \n",
    "   speeches talk about finances, but a dollar amount shouldn't count as\n",
    "   a word. We can use the regex `[^a-z\\s]` to remove these characters.\n",
    "   This regex matches any character that isn't a lowercase letter\n",
    "   (`a-z`) or a whitespace character (`\\s`)."
   ]
  },
  {
   "cell_type": "code",
   "execution_count": 6,
   "metadata": {
    "tags": []
   },
   "outputs": [
    {
     "data": {
      "text/html": [
       "<div>\n",
       "<style scoped>\n",
       "    .dataframe tbody tr th:only-of-type {\n",
       "        vertical-align: middle;\n",
       "    }\n",
       "\n",
       "    .dataframe tbody tr th {\n",
       "        vertical-align: top;\n",
       "    }\n",
       "\n",
       "    .dataframe thead th {\n",
       "        text-align: right;\n",
       "    }\n",
       "</style>\n",
       "<table border=\"1\" class=\"dataframe\">\n",
       "  <thead>\n",
       "    <tr style=\"text-align: right;\">\n",
       "      <th></th>\n",
       "      <th>name</th>\n",
       "      <th>date</th>\n",
       "      <th>text</th>\n",
       "    </tr>\n",
       "  </thead>\n",
       "  <tbody>\n",
       "    <tr>\n",
       "      <th>0</th>\n",
       "      <td>George Washington</td>\n",
       "      <td>January 8, 1790</td>\n",
       "      <td>fellow citizens of the senate and house of rep...</td>\n",
       "    </tr>\n",
       "    <tr>\n",
       "      <th>1</th>\n",
       "      <td>George Washington</td>\n",
       "      <td>December 8, 1790</td>\n",
       "      <td>fellow citizens of the senate and house of rep...</td>\n",
       "    </tr>\n",
       "    <tr>\n",
       "      <th>2</th>\n",
       "      <td>George Washington</td>\n",
       "      <td>October 25, 1791</td>\n",
       "      <td>fellow citizens of the senate and house of rep...</td>\n",
       "    </tr>\n",
       "    <tr>\n",
       "      <th>...</th>\n",
       "      <td>...</td>\n",
       "      <td>...</td>\n",
       "      <td>...</td>\n",
       "    </tr>\n",
       "    <tr>\n",
       "      <th>229</th>\n",
       "      <td>Donald J. Trump</td>\n",
       "      <td>February 4, 2020</td>\n",
       "      <td>thank you very much  thank you  thank you very...</td>\n",
       "    </tr>\n",
       "    <tr>\n",
       "      <th>230</th>\n",
       "      <td>Joseph R. Biden, Jr.</td>\n",
       "      <td>April 28, 2021</td>\n",
       "      <td>thank you  thank you  thank you  good to be ba...</td>\n",
       "    </tr>\n",
       "    <tr>\n",
       "      <th>231</th>\n",
       "      <td>Joseph R. Biden, Jr.</td>\n",
       "      <td>March 1, 2022</td>\n",
       "      <td>madam speaker  madam vice president  our first...</td>\n",
       "    </tr>\n",
       "  </tbody>\n",
       "</table>\n",
       "<p>232 rows × 3 columns</p>\n",
       "</div>"
      ],
      "text/plain": [
       "                       name              date  \\\n",
       "0         George Washington   January 8, 1790   \n",
       "1         George Washington  December 8, 1790   \n",
       "2         George Washington  October 25, 1791   \n",
       "..                      ...               ...   \n",
       "229       Donald J. Trump    February 4, 2020   \n",
       "230  Joseph R. Biden, Jr.      April 28, 2021   \n",
       "231  Joseph R. Biden, Jr.       March 1, 2022   \n",
       "\n",
       "                                                  text  \n",
       "0    fellow citizens of the senate and house of rep...  \n",
       "1    fellow citizens of the senate and house of rep...  \n",
       "2    fellow citizens of the senate and house of rep...  \n",
       "..                                                 ...  \n",
       "229  thank you very much  thank you  thank you very...  \n",
       "230  thank you  thank you  thank you  good to be ba...  \n",
       "231  madam speaker  madam vice president  our first...  \n",
       "\n",
       "[232 rows x 3 columns]"
      ]
     },
     "execution_count": 6,
     "metadata": {},
     "output_type": "execute_result"
    }
   ],
   "source": [
    "def clean_text(df):\n",
    "    bracket_re = re.compile(r'\\[[^\\]]+\\]')\n",
    "    not_a_word_re = re.compile(r'[^a-z\\s]')\n",
    "    cleaned = (df['text'].str.lower()\n",
    "               .str.replace(bracket_re, '')\n",
    "               .str.replace(not_a_word_re, ' '))\n",
    "    return df.assign(text=cleaned)\n",
    "\n",
    "df = (read_speeches()\n",
    "      .pipe(clean_text))\n",
    "df"
   ]
  },
  {
   "cell_type": "markdown",
   "metadata": {},
   "source": [
    "Next, we look at some more complex issues:\n",
    "\n",
    "1. *Stop words* like `is`, `and`, `the`, and `but` appear so often that we\n",
    "   would like to just remove them.\n",
    "1. `argue` and `arguing` should count as the same word,\n",
    "   even though they appear differently in the text. To address this,\n",
    "   we'll use *word stemming*, which transforms both words to `argu`."
   ]
  },
  {
   "cell_type": "markdown",
   "metadata": {},
   "source": [
    "To handle these issues, we can use built-in methods from [the `nltk` library][nltk].\n",
    "\n",
    "[nltk]: https://www.nltk.org/"
   ]
  },
  {
   "cell_type": "markdown",
   "metadata": {},
   "source": [
    "Finally, we transform the speeches into *word vectors*.\n",
    "A word vector represents a document using a vector of numbers.\n",
    "For example, one basic type of word vector counts up how many times\n",
    "each word appears in the text, as depicted in\n",
    "{numref}`Figure %s <fig:word-vectors>`."
   ]
  },
  {
   "cell_type": "markdown",
   "metadata": {},
   "source": [
    "```{figure} figures/word-vectors.svg\n",
    "---\n",
    "name: fig:word-vectors\n",
    "---\n",
    "\n",
    "Bag-of-words vectors for three small example documents.\n",
    "```"
   ]
  },
  {
   "cell_type": "markdown",
   "metadata": {},
   "source": [
    "This simple transform is called bag-of-words, and we apply it on all of our speeches. \n",
    "Then, we calculate the *term frequency-inverse document frequency* (tf-idf for short) to\n",
    "normalize the counts and measure the rareness of a word.\n",
    "The tf-idf puts more weight on words that only appear in a few documents.\n",
    "The idea is that if just a few documents mention the word `sanction`, say, then\n",
    "this word is extra useful for distinguishing documents from each other.\n",
    "[The scikit-learn library][sklearn] has a complete\n",
    "description of the transform and an implementation, which we use.\n",
    "\n",
    "[sklearn]: https://scikit-learn.org/stable/modules/feature_extraction.html#tfidf-term-weighting"
   ]
  },
  {
   "cell_type": "markdown",
   "metadata": {},
   "source": [
    "After applying these transforms, we have a 2-dimensional array\n",
    "`speech_vectors`. Each row of this array is one speech transformed into a \n",
    "vector."
   ]
  },
  {
   "cell_type": "code",
   "execution_count": null,
   "metadata": {
    "tags": [
     "remove-output"
    ]
   },
   "outputs": [],
   "source": [
    "import nltk\n",
    "nltk.download('stopwords')\n",
    "nltk.download('punkt')\n",
    "\n",
    "from nltk.stem.porter import PorterStemmer\n",
    "from sklearn.feature_extraction.text import TfidfVectorizer\n",
    "\n",
    "stop_words = set(nltk.corpus.stopwords.words('english'))\n",
    "porter_stemmer = PorterStemmer()\n",
    "\n",
    "def stemming_tokenizer(document):\n",
    "    return [porter_stemmer.stem(word)\n",
    "            for word in nltk.word_tokenize(document)\n",
    "            if word not in stop_words]\n",
    "    return words\n",
    "\n",
    "tfidf = TfidfVectorizer(tokenizer=stemming_tokenizer)\n",
    "speech_vectors = tfidf.fit_transform(df['text'])"
   ]
  },
  {
   "cell_type": "code",
   "execution_count": 8,
   "metadata": {},
   "outputs": [
    {
     "data": {
      "text/plain": [
       "(232, 13211)"
      ]
     },
     "execution_count": 8,
     "metadata": {},
     "output_type": "execute_result"
    }
   ],
   "source": [
    "speech_vectors.shape"
   ]
  },
  {
   "cell_type": "markdown",
   "metadata": {},
   "source": [
    "We have 232 speeches, and each speech was transformed into a\n",
    "length-13211 vector.\n",
    "To visualize these speeches, we use a technique called\n",
    "*principal component analysis* to represent the data table of 13211 features\n",
    "by a new set of features that are orthogonal to each other. The first vector accounts for \n",
    "the maximum variation in the original features, the second for the maximum variance that is orthogonal to the first, and so on.\n",
    "Often the first two components, which we can plot as pairs of points, reveal clusters and outliers.\n",
    "\n",
    "Below we plot the first two principal components. Each point is one speech, and we've colored the points\n",
    "according to the year of the speech.\n",
    "Points that are close together represent similar speeches, and\n",
    "points that are far away represent dissimilar speeches."
   ]
  },
  {
   "cell_type": "code",
   "execution_count": 9,
   "metadata": {
    "tags": [
     "hide-cell"
    ]
   },
   "outputs": [],
   "source": [
    "from scipy.sparse.linalg import svds\n",
    "\n",
    "def compute_pcs(data, k):\n",
    "    centered = data - data.mean(axis=0)\n",
    "    U, s, Vt = svds(centered, k=k)\n",
    "    return U @ np.diag(s)\n",
    "\n",
    "# Setting the random seed doesn't affect svds(), so re-running this code\n",
    "# might flip the points along the x or y-axes.\n",
    "pcs = compute_pcs(speech_vectors, k=2)\n",
    "\n",
    "# So we use a hack: we make sure the first row's PCs are both positive to get\n",
    "# the same plot each time.\n",
    "if pcs[0, 0] < 0:\n",
    "    pcs[:, 0] *= -1\n",
    "if pcs[0, 1] < 0:\n",
    "    pcs[:, 1] *= -1\n",
    "\n",
    "with_pcs1 = df.assign(year=df['date'].str[-4:].astype(int),\n",
    "                      pc1=pcs[:, 0], pc2=pcs[:, 1])"
   ]
  },
  {
   "cell_type": "code",
   "execution_count": 10,
   "metadata": {
    "tags": [
     "hide-input"
    ]
   },
   "outputs": [
    {
     "data": {
      "application/vnd.plotly.v1+json": {
       "config": {
        "plotlyServerURL": "https://plot.ly"
       },
       "data": [
        {
         "customdata": [
          [
           "George Washington"
          ],
          [
           "George Washington"
          ],
          [
           "George Washington"
          ],
          [
           "George Washington"
          ],
          [
           "George Washington"
          ],
          [
           "George Washington"
          ],
          [
           "George Washington"
          ],
          [
           "George Washington"
          ],
          [
           "John Adams"
          ],
          [
           "John Adams"
          ],
          [
           "John Adams"
          ],
          [
           "John Adams"
          ],
          [
           "Thomas Jefferson"
          ],
          [
           "Thomas Jefferson"
          ],
          [
           "Thomas Jefferson"
          ],
          [
           "Thomas Jefferson"
          ],
          [
           "Thomas Jefferson"
          ],
          [
           "Thomas Jefferson"
          ],
          [
           "Thomas Jefferson"
          ],
          [
           "Thomas Jefferson"
          ],
          [
           "James Madison"
          ],
          [
           "James Madison"
          ],
          [
           "James Madison"
          ],
          [
           "James Madison"
          ],
          [
           "James Madison"
          ],
          [
           "James Madison"
          ],
          [
           "James Madison"
          ],
          [
           "James Madison"
          ],
          [
           "James Monroe"
          ],
          [
           "James Monroe"
          ],
          [
           "James Monroe"
          ],
          [
           "James Monroe"
          ],
          [
           "James Monroe"
          ],
          [
           "James Monroe"
          ],
          [
           "James Monroe"
          ],
          [
           "James Monroe"
          ],
          [
           "John Quincy Adams"
          ],
          [
           "John Quincy Adams"
          ],
          [
           "John Quincy Adams"
          ],
          [
           "John Quincy Adams"
          ],
          [
           "Andrew Jackson"
          ],
          [
           "Andrew Jackson"
          ],
          [
           "Andrew Jackson"
          ],
          [
           "Andrew Jackson"
          ],
          [
           "Andrew Jackson"
          ],
          [
           "Andrew Jackson"
          ],
          [
           "Andrew Jackson"
          ],
          [
           "Andrew Jackson"
          ],
          [
           "Martin van Buren"
          ],
          [
           "Martin van Buren"
          ],
          [
           "Martin van Buren"
          ],
          [
           "Martin van Buren"
          ],
          [
           "John Tyler"
          ],
          [
           "John Tyler"
          ],
          [
           "John Tyler"
          ],
          [
           "John Tyler"
          ],
          [
           "James Polk"
          ],
          [
           "James Polk"
          ],
          [
           "James Polk"
          ],
          [
           "James Polk"
          ],
          [
           "Zachary Taylor"
          ],
          [
           "Millard Fillmore"
          ],
          [
           "Millard Fillmore"
          ],
          [
           "Millard Fillmore"
          ],
          [
           "Franklin Pierce"
          ],
          [
           "Franklin Pierce"
          ],
          [
           "Franklin Pierce"
          ],
          [
           "Franklin Pierce"
          ],
          [
           "James Buchanan"
          ],
          [
           "James Buchanan"
          ],
          [
           "James Buchanan"
          ],
          [
           "James Buchanan"
          ],
          [
           "Abraham Lincoln"
          ],
          [
           "Abraham Lincoln"
          ],
          [
           "Abraham Lincoln"
          ],
          [
           "Abraham Lincoln"
          ],
          [
           "Andrew Johnson"
          ],
          [
           "Andrew Johnson"
          ],
          [
           "Andrew Johnson"
          ],
          [
           "Andrew Johnson"
          ],
          [
           "Ulysses S. Grant"
          ],
          [
           "Ulysses S. Grant"
          ],
          [
           "Ulysses S. Grant"
          ],
          [
           "Ulysses S. Grant"
          ],
          [
           "Ulysses S. Grant"
          ],
          [
           "Ulysses S. Grant"
          ],
          [
           "Ulysses S. Grant"
          ],
          [
           "Ulysses S. Grant"
          ],
          [
           "Rutherford B. Hayes"
          ],
          [
           "Rutherford B. Hayes"
          ],
          [
           "Rutherford B. Hayes"
          ],
          [
           "Rutherford B. Hayes"
          ],
          [
           "Chester A. Arthur"
          ],
          [
           "Chester A. Arthur"
          ],
          [
           "Chester A. Arthur"
          ],
          [
           "Chester A. Arthur"
          ],
          [
           "Grover Cleveland"
          ],
          [
           "Grover Cleveland"
          ],
          [
           "Grover Cleveland"
          ],
          [
           "Grover Cleveland"
          ],
          [
           "Benjamin Harrison"
          ],
          [
           "Benjamin Harrison"
          ],
          [
           "Benjamin Harrison"
          ],
          [
           "Benjamin Harrison"
          ],
          [
           "William McKinley"
          ],
          [
           "William McKinley"
          ],
          [
           "William McKinley"
          ],
          [
           "William McKinley"
          ],
          [
           "Theodore Roosevelt"
          ],
          [
           "Theodore Roosevelt"
          ],
          [
           "Theodore Roosevelt"
          ],
          [
           "Theodore Roosevelt"
          ],
          [
           "Theodore Roosevelt"
          ],
          [
           "Theodore Roosevelt"
          ],
          [
           "Theodore Roosevelt"
          ],
          [
           "Theodore Roosevelt"
          ],
          [
           "William H. Taft"
          ],
          [
           "William H. Taft"
          ],
          [
           "William H. Taft"
          ],
          [
           "William H. Taft"
          ],
          [
           "Woodrow Wilson"
          ],
          [
           "Woodrow Wilson"
          ],
          [
           "Woodrow Wilson"
          ],
          [
           "Woodrow Wilson"
          ],
          [
           "Woodrow Wilson"
          ],
          [
           "Woodrow Wilson"
          ],
          [
           "Woodrow Wilson"
          ],
          [
           "Woodrow Wilson"
          ],
          [
           "Warren Harding"
          ],
          [
           "Warren Harding"
          ],
          [
           "Calvin Coolidge"
          ],
          [
           "Calvin Coolidge"
          ],
          [
           "Calvin Coolidge"
          ],
          [
           "Calvin Coolidge"
          ],
          [
           "Calvin Coolidge"
          ],
          [
           "Calvin Coolidge"
          ],
          [
           "Herbert Hoover"
          ],
          [
           "Herbert Hoover"
          ],
          [
           "Herbert Hoover"
          ],
          [
           "Herbert Hoover"
          ],
          [
           "Franklin D. Roosevelt"
          ],
          [
           "Franklin D. Roosevelt"
          ],
          [
           "Franklin D. Roosevelt"
          ],
          [
           "Franklin D. Roosevelt"
          ],
          [
           "Franklin D. Roosevelt"
          ],
          [
           "Franklin D. Roosevelt"
          ],
          [
           "Franklin D. Roosevelt"
          ],
          [
           "Franklin D. Roosevelt"
          ],
          [
           "Franklin D. Roosevelt"
          ],
          [
           "Franklin D. Roosevelt"
          ],
          [
           "Franklin D. Roosevelt"
          ],
          [
           "Franklin D. Roosevelt"
          ],
          [
           "Harry S. Truman"
          ],
          [
           "Harry S. Truman"
          ],
          [
           "Harry S. Truman"
          ],
          [
           "Harry S. Truman"
          ],
          [
           "Harry S. Truman"
          ],
          [
           "Harry S. Truman"
          ],
          [
           "Harry S. Truman"
          ],
          [
           "Harry S. Truman"
          ],
          [
           "Dwight D. Eisenhower"
          ],
          [
           "Dwight D. Eisenhower"
          ],
          [
           "Dwight D. Eisenhower"
          ],
          [
           "Dwight D. Eisenhower"
          ],
          [
           "Dwight D. Eisenhower"
          ],
          [
           "Dwight D. Eisenhower"
          ],
          [
           "Dwight D. Eisenhower"
          ],
          [
           "Dwight D. Eisenhower"
          ],
          [
           "Dwight D. Eisenhower"
          ],
          [
           "John F. Kennedy"
          ],
          [
           "John F. Kennedy"
          ],
          [
           "John F. Kennedy"
          ],
          [
           "Lyndon B. Johnson"
          ],
          [
           "Lyndon B. Johnson"
          ],
          [
           "Lyndon B. Johnson"
          ],
          [
           "Lyndon B. Johnson"
          ],
          [
           "Lyndon B. Johnson"
          ],
          [
           "Lyndon B. Johnson"
          ],
          [
           "Richard Nixon"
          ],
          [
           "Richard Nixon"
          ],
          [
           "Richard Nixon"
          ],
          [
           "Richard Nixon"
          ],
          [
           "Richard Nixon"
          ],
          [
           "Gerald R. Ford"
          ],
          [
           "Gerald R. Ford"
          ],
          [
           "Gerald R. Ford"
          ],
          [
           "Jimmy Carter"
          ],
          [
           "Jimmy Carter"
          ],
          [
           "Jimmy Carter"
          ],
          [
           "Jimmy Carter"
          ],
          [
           "Ronald Reagan"
          ],
          [
           "Ronald Reagan"
          ],
          [
           "Ronald Reagan"
          ],
          [
           "Ronald Reagan"
          ],
          [
           "Ronald Reagan"
          ],
          [
           "Ronald Reagan"
          ],
          [
           "Ronald Reagan"
          ],
          [
           "George H.W. Bush"
          ],
          [
           "George H.W. Bush"
          ],
          [
           "George H.W. Bush"
          ],
          [
           "George H.W. Bush"
          ],
          [
           "William J. Clinton"
          ],
          [
           "William J. Clinton"
          ],
          [
           "William J. Clinton"
          ],
          [
           "William J. Clinton"
          ],
          [
           "William J. Clinton"
          ],
          [
           "William J. Clinton"
          ],
          [
           "William J. Clinton"
          ],
          [
           "William J. Clinton"
          ],
          [
           "George W. Bush"
          ],
          [
           "George W. Bush"
          ],
          [
           "George W. Bush"
          ],
          [
           "George W. Bush"
          ],
          [
           "George W. Bush"
          ],
          [
           "George W. Bush"
          ],
          [
           "George W. Bush"
          ],
          [
           "George W. Bush"
          ],
          [
           "George W. Bush"
          ],
          [
           "Barack Obama"
          ],
          [
           "Barack Obama"
          ],
          [
           "Barack Obama"
          ],
          [
           "Barack Obama"
          ],
          [
           "Barack Obama"
          ],
          [
           "Barack Obama"
          ],
          [
           "Barack Obama"
          ],
          [
           "Barack Obama"
          ],
          [
           "Donald J. Trump  "
          ],
          [
           "Donald J. Trump  "
          ],
          [
           "Donald J. Trump  "
          ],
          [
           "Donald J. Trump  "
          ],
          [
           "Joseph R. Biden, Jr.  "
          ],
          [
           "Joseph R. Biden, Jr.  "
          ]
         ],
         "hovertemplate": "pc1=%{x}<br>pc2=%{y}<br>name=%{customdata[0]}<br>year=%{marker.color}<extra></extra>",
         "legendgroup": "",
         "marker": {
          "color": [
           1790,
           1790,
           1791,
           1792,
           1793,
           1794,
           1795,
           1796,
           1797,
           1798,
           1799,
           1800,
           1801,
           1802,
           1803,
           1804,
           1805,
           1806,
           1807,
           1808,
           1809,
           1810,
           1811,
           1812,
           1813,
           1814,
           1815,
           1816,
           1817,
           1818,
           1819,
           1820,
           1821,
           1822,
           1823,
           1824,
           1825,
           1826,
           1827,
           1828,
           1829,
           1830,
           1831,
           1832,
           1833,
           1834,
           1835,
           1836,
           1837,
           1838,
           1839,
           1840,
           1841,
           1842,
           1843,
           1844,
           1845,
           1846,
           1847,
           1848,
           1849,
           1850,
           1851,
           1852,
           1853,
           1854,
           1855,
           1856,
           1857,
           1858,
           1859,
           1860,
           1861,
           1862,
           1863,
           1864,
           1865,
           1866,
           1867,
           1868,
           1869,
           1870,
           1871,
           1872,
           1873,
           1874,
           1875,
           1876,
           1877,
           1878,
           1879,
           1880,
           1881,
           1882,
           1883,
           1884,
           1885,
           1886,
           1887,
           1888,
           1889,
           1890,
           1891,
           1892,
           1897,
           1898,
           1899,
           1900,
           1901,
           1902,
           1903,
           1904,
           1905,
           1906,
           1907,
           1908,
           1909,
           1910,
           1911,
           1912,
           1913,
           1914,
           1915,
           1916,
           1917,
           1918,
           1919,
           1920,
           1921,
           1922,
           1923,
           1924,
           1925,
           1926,
           1927,
           1928,
           1929,
           1930,
           1931,
           1932,
           1934,
           1935,
           1936,
           1937,
           1938,
           1939,
           1940,
           1941,
           1942,
           1943,
           1944,
           1945,
           1946,
           1947,
           1948,
           1949,
           1950,
           1951,
           1952,
           1953,
           1953,
           1954,
           1955,
           1956,
           1957,
           1958,
           1959,
           1960,
           1961,
           1961,
           1962,
           1963,
           1964,
           1965,
           1966,
           1967,
           1968,
           1969,
           1970,
           1971,
           1972,
           1973,
           1974,
           1975,
           1976,
           1977,
           1978,
           1979,
           1980,
           1981,
           1982,
           1983,
           1984,
           1985,
           1986,
           1987,
           1988,
           1989,
           1990,
           1991,
           1992,
           1993,
           1994,
           1995,
           1996,
           1997,
           1998,
           1999,
           2000,
           2001,
           2001,
           2002,
           2003,
           2004,
           2005,
           2006,
           2007,
           2008,
           2009,
           2010,
           2011,
           2012,
           2013,
           2014,
           2015,
           2016,
           2017,
           2018,
           2019,
           2020,
           2021,
           2022
          ],
          "coloraxis": "coloraxis",
          "symbol": "circle"
         },
         "mode": "markers",
         "name": "",
         "orientation": "v",
         "showlegend": false,
         "type": "scatter",
         "x": [
          0.16411288242535177,
          0.18304266964724686,
          0.15264127791694315,
          0.12569999169360568,
          0.1553155178267707,
          0.14790582983771766,
          0.17775185507773417,
          0.1574806953356535,
          0.2141957099957245,
          0.20727993167369912,
          0.17512693401631016,
          0.15106350007457062,
          0.12193751384278177,
          0.14713527413522964,
          0.15712876081001204,
          0.1616339242776307,
          0.15532169675129015,
          0.14438205388735675,
          0.18708380326107343,
          0.1802197764034181,
          0.2108926233970271,
          0.13559829035134902,
          0.19531442023020312,
          0.19835878836432458,
          0.20332183202864765,
          0.1912519569474196,
          0.08969282976516904,
          0.11570432098382566,
          0.1489409295861106,
          0.1927481714339568,
          0.2028350246510685,
          0.16151485581561423,
          0.15551789867040922,
          0.15697579739032863,
          0.11208065963570518,
          0.14675706698702573,
          0.04636874742829492,
          0.09941657854552421,
          0.0855183513687392,
          0.0570242383358932,
          0.030967933341422095,
          0.03977018790555733,
          0.10721927343427624,
          0.033588538576362216,
          0.09646349793984102,
          0.043257823258557405,
          0.07415838158735034,
          0.011222556841295153,
          -0.010548193817426407,
          0.037238767102259415,
          0.014273698247844326,
          -0.010902848799881914,
          0.04942561358642488,
          0.053541144879574266,
          0.047135709792678546,
          0.04660419564731382,
          0.04982299662511046,
          0.10763728687321135,
          0.07286376173254003,
          -0.017061535970280498,
          0.044788198684099306,
          0.021530043515905588,
          0.03711313660795724,
          0.041590544038316433,
          0.00703406243874541,
          0.04712864654307281,
          0.09911231432200401,
          0.06871652860879578,
          0.06043010323236987,
          0.054964161256152715,
          0.06475641682177599,
          0.08054369876438426,
          -0.007960966433663747,
          0.025090075890837088,
          0.028855790562556122,
          0.005436347302939724,
          0.023107831639070365,
          0.018317000924382387,
          -0.022762878879196594,
          -0.043086437797080684,
          -0.027487958945983517,
          0.03866577614966657,
          -0.012919808914699448,
          0.08929915224493179,
          -0.034289993146856414,
          -0.02607764047343183,
          -0.0377498002794712,
          -0.0006771345402840972,
          -0.04428260251769969,
          -0.05455853567326759,
          -0.08088211568119183,
          -0.013508223933830922,
          0.06478042913657067,
          0.07100167167334841,
          0.04985429508128511,
          -0.05219744645577516,
          -0.08690663754025887,
          -0.10643965206071493,
          -0.08466242842236142,
          -0.05925117814533232,
          -0.10044199035112748,
          -0.10473697213032639,
          -0.09678681855036889,
          -0.10581585657667802,
          -0.05955710003905609,
          -0.00999367545747013,
          -0.0566786200838821,
          -0.10230475023285772,
          -0.18547186768689586,
          -0.1839399608207512,
          -0.07499830143513896,
          -0.19496714460434017,
          -0.2020532198998725,
          -0.153764745566456,
          -0.23728338833382467,
          -0.18832097685864946,
          -0.13150022571242817,
          -0.051987319918282586,
          -0.13831056844300132,
          -0.18903008586855735,
          -0.10956230568496166,
          -0.058992021456425014,
          -0.10264779771070764,
          -0.11122646899977548,
          -0.044134906556246654,
          -0.11810896960735566,
          -0.19594863354015682,
          -0.1145514026231895,
          -0.21122187414965496,
          -0.20914036233094,
          -0.28767661654103255,
          -0.2848824010802799,
          -0.27465078759127676,
          -0.3145724204031675,
          -0.2813379620352917,
          -0.27660688023526314,
          -0.3199921209828018,
          -0.2849909735147093,
          -0.3077686446535741,
          -0.06946065734755737,
          -0.17733701086458742,
          -0.20687104714060647,
          -0.08523854482233414,
          -0.1536679726973641,
          -0.25234547368106686,
          -0.16563740178464917,
          -0.13090109913336945,
          -0.08768112434996249,
          0.022673851287575,
          0.008882661359508706,
          -0.09392462321044112,
          -0.08278524102888057,
          -0.3065259532155959,
          -0.3358612430105792,
          -0.3017628972136981,
          -0.2719713036646494,
          -0.2980457800846938,
          -0.1229288590217489,
          -0.16104522542069663,
          -0.14288302455958224,
          -0.3421091528133704,
          -0.34143413407483886,
          -0.36740881156333854,
          -0.3632202609031215,
          -0.2923222938960135,
          -0.20295067860076876,
          -0.2705768781687622,
          -0.244812583063981,
          -0.28184193965876925,
          -0.2257054193435688,
          -0.17250383827804047,
          -0.14571889787952877,
          -0.07674636086590055,
          -0.07769689988003974,
          -0.015174185671231178,
          -0.07437001037660779,
          -0.038214209107364255,
          -0.004254194016202945,
          -0.07345426541732722,
          -0.015489716257866928,
          -0.07251920150009313,
          -0.07360419504543536,
          -0.01024333705962238,
          -0.14026582763672418,
          -0.06576101357497502,
          -0.1102030341517876,
          -0.09156301642751978,
          -0.06554459640025428,
          -0.006737714915926377,
          -0.2585479956770882,
          -0.08648993105205129,
          -0.04007541843916285,
          0.058542671428262784,
          0.03826834696580712,
          0.1274672854522877,
          0.13081380039801432,
          0.1275178496763817,
          0.08896978778879173,
          0.16086397269230415,
          0.08657006529674023,
          0.10587062143415003,
          0.0691160613007377,
          0.1606183209076365,
          0.14634097654306533,
          0.18366359168795304,
          0.17378719867741074,
          0.19691703497688282,
          0.16165414345256862,
          0.1748831618189347,
          0.07389009842604301,
          0.2796722011148228,
          0.22848609328402794,
          0.17512502635743668,
          0.21619572931368372,
          0.15057842502586372,
          0.17295541602749268,
          0.2223507492045977,
          0.17871269918863156,
          0.16856086299266793,
          0.19319709406274965,
          0.2313725693228056,
          0.2408890852533731,
          0.2435466696215187,
          0.25463270815733924,
          0.24808081787069236,
          0.23420936836325618,
          0.2055856024862379,
          0.28626737059652707,
          0.26551042303815586,
          0.2593939560084666,
          0.27103269533853397,
          0.2513380128473433
         ],
         "xaxis": "x",
         "y": [
          0.17496258064313266,
          0.15343788524533,
          0.26023703731785,
          0.2204798693681706,
          0.26083226880324223,
          0.18359618901096114,
          0.20051468417468382,
          0.25864491510949705,
          0.2536995109561559,
          0.21904374997374282,
          0.20288234457613574,
          0.1901461868472055,
          0.19372021999449074,
          0.15171446956486376,
          0.18284319239468685,
          0.19976549327023502,
          0.16603899842483405,
          0.19078182259601936,
          0.16032761982903093,
          0.21571685189666198,
          0.21334669094848954,
          0.2458101927675875,
          0.23322069743826632,
          0.17070641401302902,
          0.1408338385348363,
          0.0443833670822598,
          0.23497829233970746,
          0.2714276533789937,
          0.3316055881127417,
          0.283092303212995,
          0.3134556902730351,
          0.2743398351374374,
          0.3298749864077716,
          0.31026383554859654,
          0.32741690932695144,
          0.3408000767313736,
          0.2867286583050873,
          0.3175234037766649,
          0.3440981096771732,
          0.3019532213831832,
          0.37178282771799015,
          0.375810633148312,
          0.3490498349927511,
          0.35245917797931714,
          0.3957105046532952,
          0.3744375872752979,
          0.33080823861446385,
          0.32785440327246695,
          0.37866277550390887,
          0.38823961456188194,
          0.30860622008878774,
          0.30925673906436196,
          0.35609073509600786,
          0.32087773873695924,
          0.3450617478271269,
          0.33725784285220056,
          0.358936288948402,
          0.2878115536049928,
          0.3260553013042532,
          0.31623391660058753,
          0.3387136477676062,
          0.37750386071582737,
          0.3693732719927307,
          0.3381499337546633,
          0.3490179218539743,
          0.33144610379903755,
          0.35166049071078287,
          0.3406266057346656,
          0.3155683069961496,
          0.36079451014628555,
          0.30735515579168227,
          0.3345733331601844,
          0.23069407004743095,
          0.21090372662540094,
          0.31709550729322783,
          0.23526999410111854,
          0.24600812245860548,
          0.3382204828759686,
          0.26495478655353677,
          0.2645913510221894,
          0.3226590374769825,
          0.30818079510195195,
          0.29935542571318663,
          0.2778392818962093,
          0.3083794497008726,
          0.30665543054143735,
          0.2991613346948333,
          0.32701240633439277,
          0.287074237863152,
          0.28672962782804956,
          0.3390211413041315,
          0.3061674025269501,
          0.24275603696791728,
          0.26287944997010526,
          0.24076185506263287,
          0.3076284417719073,
          0.3313490349035252,
          0.2969244068113246,
          0.11719381065148977,
          0.238306655795506,
          0.2883402063012754,
          0.25243188243501974,
          0.2707216837778508,
          0.19529547198338698,
          0.2636573446863597,
          0.2910563319979504,
          0.29623132815532227,
          0.24660983067453732,
          0.0456422155155731,
          0.07201743119350318,
          0.20198966635703602,
          0.10132417730445616,
          0.11581582189543346,
          0.07126878363610198,
          0.11882104110371351,
          0.06146262615963834,
          0.2544211156384093,
          0.21481598946783972,
          0.19885330033390802,
          0.21688247289103124,
          0.03884138943515893,
          -0.03659862044479448,
          -0.018583764573962224,
          0.10936991414255005,
          -0.0983618462560126,
          -0.01594348592672102,
          -0.0404345045399489,
          0.04070702386888864,
          -0.006868984422103583,
          -0.04841659290654144,
          0.04012416426320083,
          0.03822024769526036,
          0.10721455942858758,
          0.07669949501011801,
          0.08526824710095318,
          0.059513267888046735,
          0.11626185302907599,
          0.02301220814213749,
          0.005748980810283569,
          -0.018794677465973124,
          -0.10791712438966833,
          -0.1516558008761423,
          -0.144126343771596,
          -0.14034123657980688,
          -0.13664499980660896,
          -0.2183173084873841,
          -0.22807872980453292,
          -0.23447166538315048,
          -0.22572744083706442,
          -0.23737300289711397,
          -0.18869631982532875,
          -0.1984573040577204,
          -0.13124365564554935,
          -0.1349569137917746,
          -0.2615961230876623,
          -0.20360759397952224,
          -0.26508714668551714,
          -0.2991860891698697,
          -0.3352559194507359,
          -0.2615144447193364,
          -0.16551407404736238,
          -0.19162210377271277,
          -0.23502120910123933,
          -0.24961419468853838,
          -0.20159541346537013,
          -0.2972200075800589,
          -0.2853400236337016,
          -0.24574648269359503,
          -0.2889347868428851,
          -0.30241764512753005,
          -0.33068424297560106,
          -0.36815099747049096,
          -0.37174027023329875,
          -0.3822755420674713,
          -0.3365215343061465,
          -0.36488783006013176,
          -0.36482227270979173,
          -0.29356030045406994,
          -0.3820974690754471,
          -0.3086400649793037,
          -0.39741274428922957,
          -0.2987367645841341,
          -0.39949402958833025,
          -0.3398853909130325,
          -0.40584394115704564,
          -0.2952003827211744,
          -0.41549621255631747,
          -0.39313017914488374,
          -0.3324219966647456,
          -0.2842704535832727,
          -0.4012621416221932,
          -0.46947037894306676,
          -0.4457464514121061,
          -0.4738051456768335,
          -0.4405509909078457,
          -0.38998302275818414,
          -0.42804982665998137,
          -0.4916219499352902,
          -0.46700849430412317,
          -0.42718805602435483,
          -0.46255931211399687,
          -0.49610284460779674,
          -0.4907307174558154,
          -0.457490687113514,
          -0.4839758453352862,
          -0.5191454864113696,
          -0.5165386378111331,
          -0.499934910789171,
          -0.5329973309866614,
          -0.4420205380370106,
          -0.30641502261159514,
          -0.39897600159592733,
          -0.36539322257977447,
          -0.44553265394143654,
          -0.40035684749930806,
          -0.45478262471845937,
          -0.3734263791790313,
          -0.4202749148195137,
          -0.4842530049502442,
          -0.47785420769226483,
          -0.4892853015189282,
          -0.470386894874642,
          -0.4944043328075801,
          -0.5119788668325986,
          -0.4871390722369794,
          -0.4634086092396371,
          -0.3889697745618195,
          -0.3969039958815135,
          -0.34716044996921375,
          -0.373365051802664,
          -0.47691670518417606,
          -0.4335229512045983
         ],
         "yaxis": "y"
        }
       ],
       "layout": {
        "coloraxis": {
         "colorbar": {
          "thickness": 15,
          "title": {
           "text": "year"
          }
         },
         "colorscale": [
          [
           0,
           "#440154"
          ],
          [
           0.1111111111111111,
           "#482878"
          ],
          [
           0.2222222222222222,
           "#3e4989"
          ],
          [
           0.3333333333333333,
           "#31688e"
          ],
          [
           0.4444444444444444,
           "#26828e"
          ],
          [
           0.5555555555555556,
           "#1f9e89"
          ],
          [
           0.6666666666666666,
           "#35b779"
          ],
          [
           0.7777777777777778,
           "#6ece58"
          ],
          [
           0.8888888888888888,
           "#b5de2b"
          ],
          [
           1,
           "#fde725"
          ]
         ]
        },
        "height": 350,
        "legend": {
         "tracegroupgap": 0
        },
        "template": {
         "data": {
          "bar": [
           {
            "error_x": {
             "color": "rgb(36,36,36)"
            },
            "error_y": {
             "color": "rgb(36,36,36)"
            },
            "marker": {
             "line": {
              "color": "white",
              "width": 0.5
             },
             "pattern": {
              "fillmode": "overlay",
              "size": 10,
              "solidity": 0.2
             }
            },
            "type": "bar"
           }
          ],
          "barpolar": [
           {
            "marker": {
             "line": {
              "color": "white",
              "width": 0.5
             },
             "pattern": {
              "fillmode": "overlay",
              "size": 10,
              "solidity": 0.2
             }
            },
            "type": "barpolar"
           }
          ],
          "carpet": [
           {
            "aaxis": {
             "endlinecolor": "rgb(36,36,36)",
             "gridcolor": "white",
             "linecolor": "white",
             "minorgridcolor": "white",
             "startlinecolor": "rgb(36,36,36)"
            },
            "baxis": {
             "endlinecolor": "rgb(36,36,36)",
             "gridcolor": "white",
             "linecolor": "white",
             "minorgridcolor": "white",
             "startlinecolor": "rgb(36,36,36)"
            },
            "type": "carpet"
           }
          ],
          "choropleth": [
           {
            "colorbar": {
             "outlinewidth": 1,
             "tickcolor": "rgb(36,36,36)",
             "ticks": "outside"
            },
            "type": "choropleth"
           }
          ],
          "contour": [
           {
            "colorbar": {
             "outlinewidth": 1,
             "tickcolor": "rgb(36,36,36)",
             "ticks": "outside"
            },
            "colorscale": [
             [
              0,
              "#440154"
             ],
             [
              0.1111111111111111,
              "#482878"
             ],
             [
              0.2222222222222222,
              "#3e4989"
             ],
             [
              0.3333333333333333,
              "#31688e"
             ],
             [
              0.4444444444444444,
              "#26828e"
             ],
             [
              0.5555555555555556,
              "#1f9e89"
             ],
             [
              0.6666666666666666,
              "#35b779"
             ],
             [
              0.7777777777777778,
              "#6ece58"
             ],
             [
              0.8888888888888888,
              "#b5de2b"
             ],
             [
              1,
              "#fde725"
             ]
            ],
            "type": "contour"
           }
          ],
          "contourcarpet": [
           {
            "colorbar": {
             "outlinewidth": 1,
             "tickcolor": "rgb(36,36,36)",
             "ticks": "outside"
            },
            "type": "contourcarpet"
           }
          ],
          "heatmap": [
           {
            "colorbar": {
             "outlinewidth": 1,
             "tickcolor": "rgb(36,36,36)",
             "ticks": "outside"
            },
            "colorscale": [
             [
              0,
              "#440154"
             ],
             [
              0.1111111111111111,
              "#482878"
             ],
             [
              0.2222222222222222,
              "#3e4989"
             ],
             [
              0.3333333333333333,
              "#31688e"
             ],
             [
              0.4444444444444444,
              "#26828e"
             ],
             [
              0.5555555555555556,
              "#1f9e89"
             ],
             [
              0.6666666666666666,
              "#35b779"
             ],
             [
              0.7777777777777778,
              "#6ece58"
             ],
             [
              0.8888888888888888,
              "#b5de2b"
             ],
             [
              1,
              "#fde725"
             ]
            ],
            "type": "heatmap"
           }
          ],
          "heatmapgl": [
           {
            "colorbar": {
             "outlinewidth": 1,
             "tickcolor": "rgb(36,36,36)",
             "ticks": "outside"
            },
            "colorscale": [
             [
              0,
              "#440154"
             ],
             [
              0.1111111111111111,
              "#482878"
             ],
             [
              0.2222222222222222,
              "#3e4989"
             ],
             [
              0.3333333333333333,
              "#31688e"
             ],
             [
              0.4444444444444444,
              "#26828e"
             ],
             [
              0.5555555555555556,
              "#1f9e89"
             ],
             [
              0.6666666666666666,
              "#35b779"
             ],
             [
              0.7777777777777778,
              "#6ece58"
             ],
             [
              0.8888888888888888,
              "#b5de2b"
             ],
             [
              1,
              "#fde725"
             ]
            ],
            "type": "heatmapgl"
           }
          ],
          "histogram": [
           {
            "marker": {
             "line": {
              "color": "white",
              "width": 0.6
             }
            },
            "type": "histogram"
           }
          ],
          "histogram2d": [
           {
            "colorbar": {
             "outlinewidth": 1,
             "tickcolor": "rgb(36,36,36)",
             "ticks": "outside"
            },
            "colorscale": [
             [
              0,
              "#440154"
             ],
             [
              0.1111111111111111,
              "#482878"
             ],
             [
              0.2222222222222222,
              "#3e4989"
             ],
             [
              0.3333333333333333,
              "#31688e"
             ],
             [
              0.4444444444444444,
              "#26828e"
             ],
             [
              0.5555555555555556,
              "#1f9e89"
             ],
             [
              0.6666666666666666,
              "#35b779"
             ],
             [
              0.7777777777777778,
              "#6ece58"
             ],
             [
              0.8888888888888888,
              "#b5de2b"
             ],
             [
              1,
              "#fde725"
             ]
            ],
            "type": "histogram2d"
           }
          ],
          "histogram2dcontour": [
           {
            "colorbar": {
             "outlinewidth": 1,
             "tickcolor": "rgb(36,36,36)",
             "ticks": "outside"
            },
            "colorscale": [
             [
              0,
              "#440154"
             ],
             [
              0.1111111111111111,
              "#482878"
             ],
             [
              0.2222222222222222,
              "#3e4989"
             ],
             [
              0.3333333333333333,
              "#31688e"
             ],
             [
              0.4444444444444444,
              "#26828e"
             ],
             [
              0.5555555555555556,
              "#1f9e89"
             ],
             [
              0.6666666666666666,
              "#35b779"
             ],
             [
              0.7777777777777778,
              "#6ece58"
             ],
             [
              0.8888888888888888,
              "#b5de2b"
             ],
             [
              1,
              "#fde725"
             ]
            ],
            "type": "histogram2dcontour"
           }
          ],
          "mesh3d": [
           {
            "colorbar": {
             "outlinewidth": 1,
             "tickcolor": "rgb(36,36,36)",
             "ticks": "outside"
            },
            "type": "mesh3d"
           }
          ],
          "parcoords": [
           {
            "line": {
             "colorbar": {
              "outlinewidth": 1,
              "tickcolor": "rgb(36,36,36)",
              "ticks": "outside"
             }
            },
            "type": "parcoords"
           }
          ],
          "pie": [
           {
            "automargin": true,
            "type": "pie"
           }
          ],
          "scatter": [
           {
            "marker": {
             "colorbar": {
              "outlinewidth": 1,
              "tickcolor": "rgb(36,36,36)",
              "ticks": "outside"
             }
            },
            "type": "scatter"
           }
          ],
          "scatter3d": [
           {
            "line": {
             "colorbar": {
              "outlinewidth": 1,
              "tickcolor": "rgb(36,36,36)",
              "ticks": "outside"
             }
            },
            "marker": {
             "colorbar": {
              "outlinewidth": 1,
              "tickcolor": "rgb(36,36,36)",
              "ticks": "outside"
             }
            },
            "type": "scatter3d"
           }
          ],
          "scattercarpet": [
           {
            "marker": {
             "colorbar": {
              "outlinewidth": 1,
              "tickcolor": "rgb(36,36,36)",
              "ticks": "outside"
             }
            },
            "type": "scattercarpet"
           }
          ],
          "scattergeo": [
           {
            "marker": {
             "colorbar": {
              "outlinewidth": 1,
              "tickcolor": "rgb(36,36,36)",
              "ticks": "outside"
             }
            },
            "type": "scattergeo"
           }
          ],
          "scattergl": [
           {
            "marker": {
             "colorbar": {
              "outlinewidth": 1,
              "tickcolor": "rgb(36,36,36)",
              "ticks": "outside"
             }
            },
            "type": "scattergl"
           }
          ],
          "scattermapbox": [
           {
            "marker": {
             "colorbar": {
              "outlinewidth": 1,
              "tickcolor": "rgb(36,36,36)",
              "ticks": "outside"
             }
            },
            "type": "scattermapbox"
           }
          ],
          "scatterpolar": [
           {
            "marker": {
             "colorbar": {
              "outlinewidth": 1,
              "tickcolor": "rgb(36,36,36)",
              "ticks": "outside"
             }
            },
            "type": "scatterpolar"
           }
          ],
          "scatterpolargl": [
           {
            "marker": {
             "colorbar": {
              "outlinewidth": 1,
              "tickcolor": "rgb(36,36,36)",
              "ticks": "outside"
             }
            },
            "type": "scatterpolargl"
           }
          ],
          "scatterternary": [
           {
            "marker": {
             "colorbar": {
              "outlinewidth": 1,
              "tickcolor": "rgb(36,36,36)",
              "ticks": "outside"
             }
            },
            "type": "scatterternary"
           }
          ],
          "surface": [
           {
            "colorbar": {
             "outlinewidth": 1,
             "tickcolor": "rgb(36,36,36)",
             "ticks": "outside"
            },
            "colorscale": [
             [
              0,
              "#440154"
             ],
             [
              0.1111111111111111,
              "#482878"
             ],
             [
              0.2222222222222222,
              "#3e4989"
             ],
             [
              0.3333333333333333,
              "#31688e"
             ],
             [
              0.4444444444444444,
              "#26828e"
             ],
             [
              0.5555555555555556,
              "#1f9e89"
             ],
             [
              0.6666666666666666,
              "#35b779"
             ],
             [
              0.7777777777777778,
              "#6ece58"
             ],
             [
              0.8888888888888888,
              "#b5de2b"
             ],
             [
              1,
              "#fde725"
             ]
            ],
            "type": "surface"
           }
          ],
          "table": [
           {
            "cells": {
             "fill": {
              "color": "rgb(237,237,237)"
             },
             "line": {
              "color": "white"
             }
            },
            "header": {
             "fill": {
              "color": "rgb(217,217,217)"
             },
             "line": {
              "color": "white"
             }
            },
            "type": "table"
           }
          ]
         },
         "layout": {
          "annotationdefaults": {
           "arrowhead": 0,
           "arrowwidth": 1
          },
          "autosize": true,
          "autotypenumbers": "strict",
          "coloraxis": {
           "colorbar": {
            "outlinewidth": 1,
            "tickcolor": "rgb(36,36,36)",
            "ticks": "outside"
           }
          },
          "colorscale": {
           "diverging": [
            [
             0,
             "rgb(103,0,31)"
            ],
            [
             0.1,
             "rgb(178,24,43)"
            ],
            [
             0.2,
             "rgb(214,96,77)"
            ],
            [
             0.3,
             "rgb(244,165,130)"
            ],
            [
             0.4,
             "rgb(253,219,199)"
            ],
            [
             0.5,
             "rgb(247,247,247)"
            ],
            [
             0.6,
             "rgb(209,229,240)"
            ],
            [
             0.7,
             "rgb(146,197,222)"
            ],
            [
             0.8,
             "rgb(67,147,195)"
            ],
            [
             0.9,
             "rgb(33,102,172)"
            ],
            [
             1,
             "rgb(5,48,97)"
            ]
           ],
           "sequential": [
            [
             0,
             "#440154"
            ],
            [
             0.1111111111111111,
             "#482878"
            ],
            [
             0.2222222222222222,
             "#3e4989"
            ],
            [
             0.3333333333333333,
             "#31688e"
            ],
            [
             0.4444444444444444,
             "#26828e"
            ],
            [
             0.5555555555555556,
             "#1f9e89"
            ],
            [
             0.6666666666666666,
             "#35b779"
            ],
            [
             0.7777777777777778,
             "#6ece58"
            ],
            [
             0.8888888888888888,
             "#b5de2b"
            ],
            [
             1,
             "#fde725"
            ]
           ],
           "sequentialminus": [
            [
             0,
             "#440154"
            ],
            [
             0.1111111111111111,
             "#482878"
            ],
            [
             0.2222222222222222,
             "#3e4989"
            ],
            [
             0.3333333333333333,
             "#31688e"
            ],
            [
             0.4444444444444444,
             "#26828e"
            ],
            [
             0.5555555555555556,
             "#1f9e89"
            ],
            [
             0.6666666666666666,
             "#35b779"
            ],
            [
             0.7777777777777778,
             "#6ece58"
            ],
            [
             0.8888888888888888,
             "#b5de2b"
            ],
            [
             1,
             "#fde725"
            ]
           ]
          },
          "colorway": [
           "#1F77B4",
           "#FF7F0E",
           "#2CA02C",
           "#D62728",
           "#9467BD",
           "#8C564B",
           "#E377C2",
           "#7F7F7F",
           "#BCBD22",
           "#17BECF"
          ],
          "font": {
           "color": "rgb(36,36,36)"
          },
          "geo": {
           "bgcolor": "white",
           "lakecolor": "white",
           "landcolor": "white",
           "showlakes": true,
           "showland": true,
           "subunitcolor": "white"
          },
          "height": 250,
          "hoverlabel": {
           "align": "left"
          },
          "hovermode": "closest",
          "mapbox": {
           "style": "light"
          },
          "margin": {
           "b": 10,
           "l": 10,
           "r": 10,
           "t": 10
          },
          "paper_bgcolor": "white",
          "plot_bgcolor": "white",
          "polar": {
           "angularaxis": {
            "gridcolor": "rgb(232,232,232)",
            "linecolor": "rgb(36,36,36)",
            "showgrid": false,
            "showline": true,
            "ticks": "outside"
           },
           "bgcolor": "white",
           "radialaxis": {
            "gridcolor": "rgb(232,232,232)",
            "linecolor": "rgb(36,36,36)",
            "showgrid": false,
            "showline": true,
            "ticks": "outside"
           }
          },
          "scene": {
           "xaxis": {
            "backgroundcolor": "white",
            "gridcolor": "rgb(232,232,232)",
            "gridwidth": 2,
            "linecolor": "rgb(36,36,36)",
            "showbackground": true,
            "showgrid": false,
            "showline": true,
            "ticks": "outside",
            "zeroline": false,
            "zerolinecolor": "rgb(36,36,36)"
           },
           "yaxis": {
            "backgroundcolor": "white",
            "gridcolor": "rgb(232,232,232)",
            "gridwidth": 2,
            "linecolor": "rgb(36,36,36)",
            "showbackground": true,
            "showgrid": false,
            "showline": true,
            "ticks": "outside",
            "zeroline": false,
            "zerolinecolor": "rgb(36,36,36)"
           },
           "zaxis": {
            "backgroundcolor": "white",
            "gridcolor": "rgb(232,232,232)",
            "gridwidth": 2,
            "linecolor": "rgb(36,36,36)",
            "showbackground": true,
            "showgrid": false,
            "showline": true,
            "ticks": "outside",
            "zeroline": false,
            "zerolinecolor": "rgb(36,36,36)"
           }
          },
          "shapedefaults": {
           "fillcolor": "black",
           "line": {
            "width": 0
           },
           "opacity": 0.3
          },
          "ternary": {
           "aaxis": {
            "gridcolor": "rgb(232,232,232)",
            "linecolor": "rgb(36,36,36)",
            "showgrid": false,
            "showline": true,
            "ticks": "outside"
           },
           "baxis": {
            "gridcolor": "rgb(232,232,232)",
            "linecolor": "rgb(36,36,36)",
            "showgrid": false,
            "showline": true,
            "ticks": "outside"
           },
           "bgcolor": "white",
           "caxis": {
            "gridcolor": "rgb(232,232,232)",
            "linecolor": "rgb(36,36,36)",
            "showgrid": false,
            "showline": true,
            "ticks": "outside"
           }
          },
          "title": {
           "x": 0.5,
           "xanchor": "center"
          },
          "width": 350,
          "xaxis": {
           "automargin": true,
           "gridcolor": "rgb(232,232,232)",
           "linecolor": "rgb(36,36,36)",
           "showgrid": true,
           "showline": true,
           "ticks": "outside",
           "title": {
            "standoff": 15
           },
           "zeroline": false,
           "zerolinecolor": "rgb(36,36,36)"
          },
          "yaxis": {
           "automargin": true,
           "gridcolor": "rgb(232,232,232)",
           "linecolor": "rgb(36,36,36)",
           "showgrid": true,
           "showline": true,
           "ticks": "outside",
           "title": {
            "standoff": 15
           },
           "zeroline": false,
           "zerolinecolor": "rgb(36,36,36)"
          }
         }
        },
        "width": 550,
        "xaxis": {
         "anchor": "y",
         "autorange": true,
         "domain": [
          0,
          1
         ],
         "range": [
          -0.41157103130303563,
          0.3304295903362241
         ],
         "title": {
          "text": "pc1"
         },
         "type": "linear"
        },
        "yaxis": {
         "anchor": "x",
         "autorange": true,
         "domain": [
          0,
          1
         ],
         "range": [
          -0.6003608170273754,
          0.4630739906940093
         ],
         "title": {
          "text": "pc2"
         },
         "type": "linear"
        }
       }
      },
      "image/png": "[encoded data removed]",
      "image/svg+xml": [
       "<svg class=\"main-svg\" xmlns=\"http://www.w3.org/2000/svg\" xmlns:xlink=\"http://www.w3.org/1999/xlink\" width=\"550\" height=\"350\" style=\"\" viewBox=\"0 0 550 350\"><rect x=\"0\" y=\"0\" width=\"550\" height=\"350\" style=\"fill: rgb(255, 255, 255); fill-opacity: 1;\"/><defs id=\"defs-f4888c\"><g class=\"clips\"><clipPath id=\"clipf4888cxyplot\" class=\"plotclip\"><rect width=\"394\" height=\"281\"/></clipPath><clipPath class=\"axesclip\" id=\"clipf4888cx\"><rect x=\"67\" y=\"0\" width=\"394\" height=\"350\"/></clipPath><clipPath class=\"axesclip\" id=\"clipf4888cy\"><rect x=\"0\" y=\"10\" width=\"550\" height=\"281\"/></clipPath><clipPath class=\"axesclip\" id=\"clipf4888cxy\"><rect x=\"67\" y=\"10\" width=\"394\" height=\"281\"/></clipPath></g><g class=\"gradients\"><linearGradient x1=\"0\" x2=\"0\" y1=\"1\" y2=\"0\" id=\"gf4888c-cbcoloraxis\"><stop offset=\"0%\" stop-color=\"rgb(68, 1, 84)\" stop-opacity=\"1\"/><stop offset=\"11.111111%\" stop-color=\"rgb(72, 40, 120)\" stop-opacity=\"1\"/><stop offset=\"22.222222%\" stop-color=\"rgb(62, 73, 137)\" stop-opacity=\"1\"/><stop offset=\"33.333333%\" stop-color=\"rgb(49, 104, 142)\" stop-opacity=\"1\"/><stop offset=\"44.444444%\" stop-color=\"rgb(38, 130, 142)\" stop-opacity=\"1\"/><stop offset=\"55.555556%\" stop-color=\"rgb(31, 158, 137)\" stop-opacity=\"1\"/><stop offset=\"66.666667%\" stop-color=\"rgb(53, 183, 121)\" stop-opacity=\"1\"/><stop offset=\"77.777778%\" stop-color=\"rgb(110, 206, 88)\" stop-opacity=\"1\"/><stop offset=\"88.888889%\" stop-color=\"rgb(181, 222, 43)\" stop-opacity=\"1\"/><stop offset=\"100%\" stop-color=\"rgb(253, 231, 37)\" stop-opacity=\"1\"/></linearGradient></g><g class=\"patterns\"/></defs><g class=\"bglayer\"/><g class=\"layer-below\"><g class=\"imagelayer\"/><g class=\"shapelayer\"/></g><g class=\"cartesianlayer\"><g class=\"subplot xy\"><g class=\"layer-subplot\"><g class=\"shapelayer\"/><g class=\"imagelayer\"/></g><g class=\"gridlayer\"><g class=\"x\"><path class=\"xgrid crisp\" transform=\"translate(73.14,0)\" d=\"M0,10v281\" style=\"stroke: rgb(232, 232, 232); stroke-opacity: 1; stroke-width: 1px;\"/><path class=\"xgrid crisp\" transform=\"translate(179.34,0)\" d=\"M0,10v281\" style=\"stroke: rgb(232, 232, 232); stroke-opacity: 1; stroke-width: 1px;\"/><path class=\"xgrid crisp\" transform=\"translate(285.53999999999996,0)\" d=\"M0,10v281\" style=\"stroke: rgb(232, 232, 232); stroke-opacity: 1; stroke-width: 1px;\"/><path class=\"xgrid crisp\" transform=\"translate(391.74,0)\" d=\"M0,10v281\" style=\"stroke: rgb(232, 232, 232); stroke-opacity: 1; stroke-width: 1px;\"/></g><g class=\"y\"><path class=\"ygrid crisp\" transform=\"translate(0,238.06)\" d=\"M67,0h394\" style=\"stroke: rgb(232, 232, 232); stroke-opacity: 1; stroke-width: 1px;\"/><path class=\"ygrid crisp\" transform=\"translate(0,185.21)\" d=\"M67,0h394\" style=\"stroke: rgb(232, 232, 232); stroke-opacity: 1; stroke-width: 1px;\"/><path class=\"ygrid crisp\" transform=\"translate(0,132.36)\" d=\"M67,0h394\" style=\"stroke: rgb(232, 232, 232); stroke-opacity: 1; stroke-width: 1px;\"/><path class=\"ygrid crisp\" transform=\"translate(0,79.51)\" d=\"M67,0h394\" style=\"stroke: rgb(232, 232, 232); stroke-opacity: 1; stroke-width: 1px;\"/><path class=\"ygrid crisp\" transform=\"translate(0,26.67)\" d=\"M67,0h394\" style=\"stroke: rgb(232, 232, 232); stroke-opacity: 1; stroke-width: 1px;\"/></g></g><g class=\"zerolinelayer\"/><path class=\"xlines-below\"/><path class=\"ylines-below\"/><g class=\"overlines-below\"/><g class=\"xaxislayer-below\"/><g class=\"yaxislayer-below\"/><g class=\"overaxes-below\"/><g class=\"plot\" transform=\"translate(67,10)\" clip-path=\"url(#clipf4888cxyplot)\"><g class=\"scatterlayer mlayer\"><g class=\"trace scatter trace7eaefd\" style=\"stroke-miterlimit: 2; opacity: 1;\"><g class=\"fills\"/><g class=\"errorbars\"/><g class=\"lines\"/><g class=\"points\"><path class=\"point plotly-customdata\" transform=\"translate(305.69,76.13)\" d=\"M3,0A3,3 0 1,1 0,-3A3,3 0 0,1 3,0Z\" style=\"opacity: 1; stroke-width: 0px; fill: rgb(68, 1, 84); fill-opacity: 1;\"/><path class=\"point plotly-customdata\" transform=\"translate(315.74,81.82)\" d=\"M3,0A3,3 0 1,1 0,-3A3,3 0 0,1 3,0Z\" style=\"opacity: 1; stroke-width: 0px; fill: rgb(68, 1, 84); fill-opacity: 1;\"/><path class=\"point plotly-customdata\" transform=\"translate(299.59,53.6)\" d=\"M3,0A3,3 0 1,1 0,-3A3,3 0 0,1 3,0Z\" style=\"opacity: 1; stroke-width: 0px; fill: rgb(68, 3, 85); fill-opacity: 1;\"/><path class=\"point plotly-customdata\" transform=\"translate(285.29,64.1)\" d=\"M3,0A3,3 0 1,1 0,-3A3,3 0 0,1 3,0Z\" style=\"opacity: 1; stroke-width: 0px; fill: rgb(68, 4, 87); fill-opacity: 1;\"/><path class=\"point plotly-customdata\" transform=\"translate(301.01,53.44)\" d=\"M3,0A3,3 0 1,1 0,-3A3,3 0 0,1 3,0Z\" style=\"opacity: 1; stroke-width: 0px; fill: rgb(68, 6, 88); fill-opacity: 1;\"/><path class=\"point plotly-customdata\" transform=\"translate(297.08,73.85)\" d=\"M3,0A3,3 0 1,1 0,-3A3,3 0 0,1 3,0Z\" style=\"opacity: 1; stroke-width: 0px; fill: rgb(69, 7, 90); fill-opacity: 1;\"/><path class=\"point plotly-customdata\" transform=\"translate(312.93,69.38)\" d=\"M3,0A3,3 0 1,1 0,-3A3,3 0 0,1 3,0Z\" style=\"opacity: 1; stroke-width: 0px; fill: rgb(69, 9, 91); fill-opacity: 1;\"/><path class=\"point plotly-customdata\" transform=\"translate(302.16,54.02)\" d=\"M3,0A3,3 0 1,1 0,-3A3,3 0 0,1 3,0Z\" style=\"opacity: 1; stroke-width: 0px; fill: rgb(69, 10, 92); fill-opacity: 1;\"/><path class=\"point plotly-customdata\" transform=\"translate(332.28,55.32)\" d=\"M3,0A3,3 0 1,1 0,-3A3,3 0 0,1 3,0Z\" style=\"opacity: 1; stroke-width: 0px; fill: rgb(69, 12, 94); fill-opacity: 1;\"/><path class=\"point plotly-customdata\" transform=\"translate(328.61,64.48)\" d=\"M3,0A3,3 0 1,1 0,-3A3,3 0 0,1 3,0Z\" style=\"opacity: 1; stroke-width: 0px; fill: rgb(69, 13, 95); fill-opacity: 1;\"/><path class=\"point plotly-customdata\" transform=\"translate(311.53,68.75)\" d=\"M3,0A3,3 0 1,1 0,-3A3,3 0 0,1 3,0Z\" style=\"opacity: 1; stroke-width: 0px; fill: rgb(69, 15, 97); fill-opacity: 1;\"/><path class=\"point plotly-customdata\" transform=\"translate(298.76,72.12)\" d=\"M3,0A3,3 0 1,1 0,-3A3,3 0 0,1 3,0Z\" style=\"opacity: 1; stroke-width: 0px; fill: rgb(70, 16, 98); fill-opacity: 1;\"/><path class=\"point plotly-customdata\" transform=\"translate(283.29,71.17)\" d=\"M3,0A3,3 0 1,1 0,-3A3,3 0 0,1 3,0Z\" style=\"opacity: 1; stroke-width: 0px; fill: rgb(70, 18, 99); fill-opacity: 1;\"/><path class=\"point plotly-customdata\" transform=\"translate(296.67,82.27)\" d=\"M3,0A3,3 0 1,1 0,-3A3,3 0 0,1 3,0Z\" style=\"opacity: 1; stroke-width: 0px; fill: rgb(70, 19, 101); fill-opacity: 1;\"/><path class=\"point plotly-customdata\" transform=\"translate(301.98,74.05)\" d=\"M3,0A3,3 0 1,1 0,-3A3,3 0 0,1 3,0Z\" style=\"opacity: 1; stroke-width: 0px; fill: rgb(70, 21, 102); fill-opacity: 1;\"/><path class=\"point plotly-customdata\" transform=\"translate(304.37,69.58)\" d=\"M3,0A3,3 0 1,1 0,-3A3,3 0 0,1 3,0Z\" style=\"opacity: 1; stroke-width: 0px; fill: rgb(70, 22, 104); fill-opacity: 1;\"/><path class=\"point plotly-customdata\" transform=\"translate(301.02,78.49)\" d=\"M3,0A3,3 0 1,1 0,-3A3,3 0 0,1 3,0Z\" style=\"opacity: 1; stroke-width: 0px; fill: rgb(70, 24, 105); fill-opacity: 1;\"/><path class=\"point plotly-customdata\" transform=\"translate(295.21,71.95)\" d=\"M3,0A3,3 0 1,1 0,-3A3,3 0 0,1 3,0Z\" style=\"opacity: 1; stroke-width: 0px; fill: rgb(70, 25, 106); fill-opacity: 1;\"/><path class=\"point plotly-customdata\" transform=\"translate(317.88,80)\" d=\"M3,0A3,3 0 1,1 0,-3A3,3 0 0,1 3,0Z\" style=\"opacity: 1; stroke-width: 0px; fill: rgb(71, 27, 108); fill-opacity: 1;\"/><path class=\"point plotly-customdata\" transform=\"translate(314.24,65.36)\" d=\"M3,0A3,3 0 1,1 0,-3A3,3 0 0,1 3,0Z\" style=\"opacity: 1; stroke-width: 0px; fill: rgb(71, 28, 109); fill-opacity: 1;\"/><path class=\"point plotly-customdata\" transform=\"translate(330.53,65.99)\" d=\"M3,0A3,3 0 1,1 0,-3A3,3 0 0,1 3,0Z\" style=\"opacity: 1; stroke-width: 0px; fill: rgb(71, 30, 111); fill-opacity: 1;\"/><path class=\"point plotly-customdata\" transform=\"translate(290.55,57.41)\" d=\"M3,0A3,3 0 1,1 0,-3A3,3 0 0,1 3,0Z\" style=\"opacity: 1; stroke-width: 0px; fill: rgb(71, 31, 112); fill-opacity: 1;\"/><path class=\"point plotly-customdata\" transform=\"translate(322.25,60.74)\" d=\"M3,0A3,3 0 1,1 0,-3A3,3 0 0,1 3,0Z\" style=\"opacity: 1; stroke-width: 0px; fill: rgb(71, 33, 113); fill-opacity: 1;\"/><path class=\"point plotly-customdata\" transform=\"translate(323.87,77.25)\" d=\"M3,0A3,3 0 1,1 0,-3A3,3 0 0,1 3,0Z\" style=\"opacity: 1; stroke-width: 0px; fill: rgb(71, 34, 115); fill-opacity: 1;\"/><path class=\"point plotly-customdata\" transform=\"translate(326.51,85.15)\" d=\"M3,0A3,3 0 1,1 0,-3A3,3 0 0,1 3,0Z\" style=\"opacity: 1; stroke-width: 0px; fill: rgb(72, 36, 116); fill-opacity: 1;\"/><path class=\"point plotly-customdata\" transform=\"translate(320.1,110.63)\" d=\"M3,0A3,3 0 1,1 0,-3A3,3 0 0,1 3,0Z\" style=\"opacity: 1; stroke-width: 0px; fill: rgb(72, 37, 118); fill-opacity: 1;\"/><path class=\"point plotly-customdata\" transform=\"translate(266.17,60.27)\" d=\"M3,0A3,3 0 1,1 0,-3A3,3 0 0,1 3,0Z\" style=\"opacity: 1; stroke-width: 0px; fill: rgb(72, 39, 119); fill-opacity: 1;\"/><path class=\"point plotly-customdata\" transform=\"translate(279.98,50.64)\" d=\"M3,0A3,3 0 1,1 0,-3A3,3 0 0,1 3,0Z\" style=\"opacity: 1; stroke-width: 0px; fill: rgb(72, 40, 120); fill-opacity: 1;\"/><path class=\"point plotly-customdata\" transform=\"translate(297.63,34.74)\" d=\"M3,0A3,3 0 1,1 0,-3A3,3 0 0,1 3,0Z\" style=\"opacity: 1; stroke-width: 0px; fill: rgb(72, 42, 121); fill-opacity: 1;\"/><path class=\"point plotly-customdata\" transform=\"translate(320.89,47.56)\" d=\"M3,0A3,3 0 1,1 0,-3A3,3 0 0,1 3,0Z\" style=\"opacity: 1; stroke-width: 0px; fill: rgb(71, 43, 121); fill-opacity: 1;\"/><path class=\"point plotly-customdata\" transform=\"translate(326.25,39.53)\" d=\"M3,0A3,3 0 1,1 0,-3A3,3 0 0,1 3,0Z\" style=\"opacity: 1; stroke-width: 0px; fill: rgb(71, 44, 122); fill-opacity: 1;\"/><path class=\"point plotly-customdata\" transform=\"translate(304.31,49.87)\" d=\"M3,0A3,3 0 1,1 0,-3A3,3 0 0,1 3,0Z\" style=\"opacity: 1; stroke-width: 0px; fill: rgb(70, 45, 123); fill-opacity: 1;\"/><path class=\"point plotly-customdata\" transform=\"translate(301.12,35.2)\" d=\"M3,0A3,3 0 1,1 0,-3A3,3 0 0,1 3,0Z\" style=\"opacity: 1; stroke-width: 0px; fill: rgb(70, 47, 123); fill-opacity: 1;\"/><path class=\"point plotly-customdata\" transform=\"translate(301.9,40.38)\" d=\"M3,0A3,3 0 1,1 0,-3A3,3 0 0,1 3,0Z\" style=\"opacity: 1; stroke-width: 0px; fill: rgb(70, 48, 124); fill-opacity: 1;\"/><path class=\"point plotly-customdata\" transform=\"translate(278.06,35.85)\" d=\"M3,0A3,3 0 1,1 0,-3A3,3 0 0,1 3,0Z\" style=\"opacity: 1; stroke-width: 0px; fill: rgb(69, 49, 125); fill-opacity: 1;\"/><path class=\"point plotly-customdata\" transform=\"translate(296.47,32.31)\" d=\"M3,0A3,3 0 1,1 0,-3A3,3 0 0,1 3,0Z\" style=\"opacity: 1; stroke-width: 0px; fill: rgb(69, 51, 125); fill-opacity: 1;\"/><path class=\"point plotly-customdata\" transform=\"translate(243.16,46.6)\" d=\"M3,0A3,3 0 1,1 0,-3A3,3 0 0,1 3,0Z\" style=\"opacity: 1; stroke-width: 0px; fill: rgb(68, 52, 126); fill-opacity: 1;\"/><path class=\"point plotly-customdata\" transform=\"translate(271.33,38.46)\" d=\"M3,0A3,3 0 1,1 0,-3A3,3 0 0,1 3,0Z\" style=\"opacity: 1; stroke-width: 0px; fill: rgb(68, 53, 127); fill-opacity: 1;\"/><path class=\"point plotly-customdata\" transform=\"translate(263.95,31.44)\" d=\"M3,0A3,3 0 1,1 0,-3A3,3 0 0,1 3,0Z\" style=\"opacity: 1; stroke-width: 0px; fill: rgb(68, 54, 127); fill-opacity: 1;\"/><path class=\"point plotly-customdata\" transform=\"translate(248.82,42.57)\" d=\"M3,0A3,3 0 1,1 0,-3A3,3 0 0,1 3,0Z\" style=\"opacity: 1; stroke-width: 0px; fill: rgb(67, 56, 128); fill-opacity: 1;\"/><path class=\"point plotly-customdata\" transform=\"translate(234.99,24.12)\" d=\"M3,0A3,3 0 1,1 0,-3A3,3 0 0,1 3,0Z\" style=\"opacity: 1; stroke-width: 0px; fill: rgb(67, 57, 129); fill-opacity: 1;\"/><path class=\"point plotly-customdata\" transform=\"translate(239.66,23.06)\" d=\"M3,0A3,3 0 1,1 0,-3A3,3 0 0,1 3,0Z\" style=\"opacity: 1; stroke-width: 0px; fill: rgb(66, 58, 129); fill-opacity: 1;\"/><path class=\"point plotly-customdata\" transform=\"translate(275.48,30.13)\" d=\"M3,0A3,3 0 1,1 0,-3A3,3 0 0,1 3,0Z\" style=\"opacity: 1; stroke-width: 0px; fill: rgb(66, 59, 130); fill-opacity: 1;\"/><path class=\"point plotly-customdata\" transform=\"translate(236.38,29.23)\" d=\"M3,0A3,3 0 1,1 0,-3A3,3 0 0,1 3,0Z\" style=\"opacity: 1; stroke-width: 0px; fill: rgb(66, 61, 131); fill-opacity: 1;\"/><path class=\"point plotly-customdata\" transform=\"translate(269.76,17.8)\" d=\"M3,0A3,3 0 1,1 0,-3A3,3 0 0,1 3,0Z\" style=\"opacity: 1; stroke-width: 0px; fill: rgb(65, 62, 131); fill-opacity: 1;\"/><path class=\"point plotly-customdata\" transform=\"translate(241.51,23.42)\" d=\"M3,0A3,3 0 1,1 0,-3A3,3 0 0,1 3,0Z\" style=\"opacity: 1; stroke-width: 0px; fill: rgb(65, 63, 132); fill-opacity: 1;\"/><path class=\"point plotly-customdata\" transform=\"translate(257.92,34.95)\" d=\"M3,0A3,3 0 1,1 0,-3A3,3 0 0,1 3,0Z\" style=\"opacity: 1; stroke-width: 0px; fill: rgb(65, 65, 133); fill-opacity: 1;\"/><path class=\"point plotly-customdata\" transform=\"translate(224.5,35.73)\" d=\"M3,0A3,3 0 1,1 0,-3A3,3 0 0,1 3,0Z\" style=\"opacity: 1; stroke-width: 0px; fill: rgb(64, 66, 133); fill-opacity: 1;\"/><path class=\"point plotly-customdata\" transform=\"translate(212.94,22.3)\" d=\"M3,0A3,3 0 1,1 0,-3A3,3 0 0,1 3,0Z\" style=\"opacity: 1; stroke-width: 0px; fill: rgb(64, 67, 134); fill-opacity: 1;\"/><path class=\"point plotly-customdata\" transform=\"translate(238.32,19.77)\" d=\"M3,0A3,3 0 1,1 0,-3A3,3 0 0,1 3,0Z\" style=\"opacity: 1; stroke-width: 0px; fill: rgb(63, 68, 135); fill-opacity: 1;\"/><path class=\"point plotly-customdata\" transform=\"translate(226.12,40.82)\" d=\"M3,0A3,3 0 1,1 0,-3A3,3 0 0,1 3,0Z\" style=\"opacity: 1; stroke-width: 0px; fill: rgb(63, 70, 135); fill-opacity: 1;\"/><path class=\"point plotly-customdata\" transform=\"translate(212.75,40.64)\" d=\"M3,0A3,3 0 1,1 0,-3A3,3 0 0,1 3,0Z\" style=\"opacity: 1; stroke-width: 0px; fill: rgb(63, 71, 136); fill-opacity: 1;\"/><path class=\"point plotly-customdata\" transform=\"translate(244.79,28.27)\" d=\"M3,0A3,3 0 1,1 0,-3A3,3 0 0,1 3,0Z\" style=\"opacity: 1; stroke-width: 0px; fill: rgb(62, 72, 137); fill-opacity: 1;\"/><path class=\"point plotly-customdata\" transform=\"translate(246.97,37.57)\" d=\"M3,0A3,3 0 1,1 0,-3A3,3 0 0,1 3,0Z\" style=\"opacity: 1; stroke-width: 0px; fill: rgb(62, 74, 137); fill-opacity: 1;\"/><path class=\"point plotly-customdata\" transform=\"translate(243.57,31.18)\" d=\"M3,0A3,3 0 1,1 0,-3A3,3 0 0,1 3,0Z\" style=\"opacity: 1; stroke-width: 0px; fill: rgb(61, 75, 137); fill-opacity: 1;\"/><path class=\"point plotly-customdata\" transform=\"translate(243.29,33.25)\" d=\"M3,0A3,3 0 1,1 0,-3A3,3 0 0,1 3,0Z\" style=\"opacity: 1; stroke-width: 0px; fill: rgb(61, 76, 137); fill-opacity: 1;\"/><path class=\"point plotly-customdata\" transform=\"translate(245,27.52)\" d=\"M3,0A3,3 0 1,1 0,-3A3,3 0 0,1 3,0Z\" style=\"opacity: 1; stroke-width: 0px; fill: rgb(60, 77, 138); fill-opacity: 1;\"/><path class=\"point plotly-customdata\" transform=\"translate(275.7,46.31)\" d=\"M3,0A3,3 0 1,1 0,-3A3,3 0 0,1 3,0Z\" style=\"opacity: 1; stroke-width: 0px; fill: rgb(60, 78, 138); fill-opacity: 1;\"/><path class=\"point plotly-customdata\" transform=\"translate(257.23,36.21)\" d=\"M3,0A3,3 0 1,1 0,-3A3,3 0 0,1 3,0Z\" style=\"opacity: 1; stroke-width: 0px; fill: rgb(59, 80, 138); fill-opacity: 1;\"/><path class=\"point plotly-customdata\" transform=\"translate(209.48,38.8)\" d=\"M3,0A3,3 0 1,1 0,-3A3,3 0 0,1 3,0Z\" style=\"opacity: 1; stroke-width: 0px; fill: rgb(59, 81, 138); fill-opacity: 1;\"/><path class=\"point plotly-customdata\" transform=\"translate(242.33,32.86)\" d=\"M3,0A3,3 0 1,1 0,-3A3,3 0 0,1 3,0Z\" style=\"opacity: 1; stroke-width: 0px; fill: rgb(58, 82, 138); fill-opacity: 1;\"/><path class=\"point plotly-customdata\" transform=\"translate(229.98,22.61)\" d=\"M3,0A3,3 0 1,1 0,-3A3,3 0 0,1 3,0Z\" style=\"opacity: 1; stroke-width: 0px; fill: rgb(58, 83, 139); fill-opacity: 1;\"/><path class=\"point plotly-customdata\" transform=\"translate(238.25,24.76)\" d=\"M3,0A3,3 0 1,1 0,-3A3,3 0 0,1 3,0Z\" style=\"opacity: 1; stroke-width: 0px; fill: rgb(57, 84, 139); fill-opacity: 1;\"/><path class=\"point plotly-customdata\" transform=\"translate(240.63,33.01)\" d=\"M3,0A3,3 0 1,1 0,-3A3,3 0 0,1 3,0Z\" style=\"opacity: 1; stroke-width: 0px; fill: rgb(57, 86, 139); fill-opacity: 1;\"/><path class=\"point plotly-customdata\" transform=\"translate(222.28,30.14)\" d=\"M3,0A3,3 0 1,1 0,-3A3,3 0 0,1 3,0Z\" style=\"opacity: 1; stroke-width: 0px; fill: rgb(56, 87, 139); fill-opacity: 1;\"/><path class=\"point plotly-customdata\" transform=\"translate(243.57,34.78)\" d=\"M3,0A3,3 0 1,1 0,-3A3,3 0 0,1 3,0Z\" style=\"opacity: 1; stroke-width: 0px; fill: rgb(56, 88, 139); fill-opacity: 1;\"/><path class=\"point plotly-customdata\" transform=\"translate(271.17,29.44)\" d=\"M3,0A3,3 0 1,1 0,-3A3,3 0 0,1 3,0Z\" style=\"opacity: 1; stroke-width: 0px; fill: rgb(55, 89, 140); fill-opacity: 1;\"/><path class=\"point plotly-customdata\" transform=\"translate(255.03,32.36)\" d=\"M3,0A3,3 0 1,1 0,-3A3,3 0 0,1 3,0Z\" style=\"opacity: 1; stroke-width: 0px; fill: rgb(55, 90, 140); fill-opacity: 1;\"/><path class=\"point plotly-customdata\" transform=\"translate(250.63,38.98)\" d=\"M3,0A3,3 0 1,1 0,-3A3,3 0 0,1 3,0Z\" style=\"opacity: 1; stroke-width: 0px; fill: rgb(54, 92, 140); fill-opacity: 1;\"/><path class=\"point plotly-customdata\" transform=\"translate(247.73,27.03)\" d=\"M3,0A3,3 0 1,1 0,-3A3,3 0 0,1 3,0Z\" style=\"opacity: 1; stroke-width: 0px; fill: rgb(54, 93, 140); fill-opacity: 1;\"/><path class=\"point plotly-customdata\" transform=\"translate(252.93,41.15)\" d=\"M3,0A3,3 0 1,1 0,-3A3,3 0 0,1 3,0Z\" style=\"opacity: 1; stroke-width: 0px; fill: rgb(53, 94, 140); fill-opacity: 1;\"/><path class=\"point plotly-customdata\" transform=\"translate(261.31,33.95)\" d=\"M3,0A3,3 0 1,1 0,-3A3,3 0 0,1 3,0Z\" style=\"opacity: 1; stroke-width: 0px; fill: rgb(53, 95, 141); fill-opacity: 1;\"/><path class=\"point plotly-customdata\" transform=\"translate(214.32,61.4)\" d=\"M3,0A3,3 0 1,1 0,-3A3,3 0 0,1 3,0Z\" style=\"opacity: 1; stroke-width: 0px; fill: rgb(52, 96, 141); fill-opacity: 1;\"/><path class=\"point plotly-customdata\" transform=\"translate(231.87,66.63)\" d=\"M3,0A3,3 0 1,1 0,-3A3,3 0 0,1 3,0Z\" style=\"opacity: 1; stroke-width: 0px; fill: rgb(52, 98, 141); fill-opacity: 1;\"/><path class=\"point plotly-customdata\" transform=\"translate(233.87,38.57)\" d=\"M3,0A3,3 0 1,1 0,-3A3,3 0 0,1 3,0Z\" style=\"opacity: 1; stroke-width: 0px; fill: rgb(51, 99, 141); fill-opacity: 1;\"/><path class=\"point plotly-customdata\" transform=\"translate(221.43,60.19)\" d=\"M3,0A3,3 0 1,1 0,-3A3,3 0 0,1 3,0Z\" style=\"opacity: 1; stroke-width: 0px; fill: rgb(51, 100, 141); fill-opacity: 1;\"/><path class=\"point plotly-customdata\" transform=\"translate(230.81,57.36)\" d=\"M3,0A3,3 0 1,1 0,-3A3,3 0 0,1 3,0Z\" style=\"opacity: 1; stroke-width: 0px; fill: rgb(50, 101, 142); fill-opacity: 1;\"/><path class=\"point plotly-customdata\" transform=\"translate(228.27,32.99)\" d=\"M3,0A3,3 0 1,1 0,-3A3,3 0 0,1 3,0Z\" style=\"opacity: 1; stroke-width: 0px; fill: rgb(50, 102, 142); fill-opacity: 1;\"/><path class=\"point plotly-customdata\" transform=\"translate(206.46,52.35)\" d=\"M3,0A3,3 0 1,1 0,-3A3,3 0 0,1 3,0Z\" style=\"opacity: 1; stroke-width: 0px; fill: rgb(49, 104, 142); fill-opacity: 1;\"/><path class=\"point plotly-customdata\" transform=\"translate(195.66,52.45)\" d=\"M3,0A3,3 0 1,1 0,-3A3,3 0 0,1 3,0Z\" style=\"opacity: 1; stroke-width: 0px; fill: rgb(49, 105, 142); fill-opacity: 1;\"/><path class=\"point plotly-customdata\" transform=\"translate(203.95,37.1)\" d=\"M3,0A3,3 0 1,1 0,-3A3,3 0 0,1 3,0Z\" style=\"opacity: 1; stroke-width: 0px; fill: rgb(48, 106, 142); fill-opacity: 1;\"/><path class=\"point plotly-customdata\" transform=\"translate(239.07,40.93)\" d=\"M3,0A3,3 0 1,1 0,-3A3,3 0 0,1 3,0Z\" style=\"opacity: 1; stroke-width: 0px; fill: rgb(48, 107, 142); fill-opacity: 1;\"/><path class=\"point plotly-customdata\" transform=\"translate(211.68,43.26)\" d=\"M3,0A3,3 0 1,1 0,-3A3,3 0 0,1 3,0Z\" style=\"opacity: 1; stroke-width: 0px; fill: rgb(47, 108, 142); fill-opacity: 1;\"/><path class=\"point plotly-customdata\" transform=\"translate(265.96,48.95)\" d=\"M3,0A3,3 0 1,1 0,-3A3,3 0 0,1 3,0Z\" style=\"opacity: 1; stroke-width: 0px; fill: rgb(47, 109, 142); fill-opacity: 1;\"/><path class=\"point plotly-customdata\" transform=\"translate(200.34,40.88)\" d=\"M3,0A3,3 0 1,1 0,-3A3,3 0 0,1 3,0Z\" style=\"opacity: 1; stroke-width: 0px; fill: rgb(47, 110, 142); fill-opacity: 1;\"/><path class=\"point plotly-customdata\" transform=\"translate(204.7,41.33)\" d=\"M3,0A3,3 0 1,1 0,-3A3,3 0 0,1 3,0Z\" style=\"opacity: 1; stroke-width: 0px; fill: rgb(46, 111, 142); fill-opacity: 1;\"/><path class=\"point plotly-customdata\" transform=\"translate(198.5,43.31)\" d=\"M3,0A3,3 0 1,1 0,-3A3,3 0 0,1 3,0Z\" style=\"opacity: 1; stroke-width: 0px; fill: rgb(46, 112, 142); fill-opacity: 1;\"/><path class=\"point plotly-customdata\" transform=\"translate(218.18,35.95)\" d=\"M3,0A3,3 0 1,1 0,-3A3,3 0 0,1 3,0Z\" style=\"opacity: 1; stroke-width: 0px; fill: rgb(45, 113, 142); fill-opacity: 1;\"/><path class=\"point plotly-customdata\" transform=\"translate(195.03,46.51)\" d=\"M3,0A3,3 0 1,1 0,-3A3,3 0 0,1 3,0Z\" style=\"opacity: 1; stroke-width: 0px; fill: rgb(45, 114, 142); fill-opacity: 1;\"/><path class=\"point plotly-customdata\" transform=\"translate(189.57,46.6)\" d=\"M3,0A3,3 0 1,1 0,-3A3,3 0 0,1 3,0Z\" style=\"opacity: 1; stroke-width: 0px; fill: rgb(44, 115, 142); fill-opacity: 1;\"/><path class=\"point plotly-customdata\" transform=\"translate(175.59,32.78)\" d=\"M3,0A3,3 0 1,1 0,-3A3,3 0 0,1 3,0Z\" style=\"opacity: 1; stroke-width: 0px; fill: rgb(44, 116, 142); fill-opacity: 1;\"/><path class=\"point plotly-customdata\" transform=\"translate(211.37,41.46)\" d=\"M3,0A3,3 0 1,1 0,-3A3,3 0 0,1 3,0Z\" style=\"opacity: 1; stroke-width: 0px; fill: rgb(44, 117, 142); fill-opacity: 1;\"/><path class=\"point plotly-customdata\" transform=\"translate(252.94,58.22)\" d=\"M3,0A3,3 0 1,1 0,-3A3,3 0 0,1 3,0Z\" style=\"opacity: 1; stroke-width: 0px; fill: rgb(43, 118, 142); fill-opacity: 1;\"/><path class=\"point plotly-customdata\" transform=\"translate(256.24,52.9)\" d=\"M3,0A3,3 0 1,1 0,-3A3,3 0 0,1 3,0Z\" style=\"opacity: 1; stroke-width: 0px; fill: rgb(43, 119, 142); fill-opacity: 1;\"/><path class=\"point plotly-customdata\" transform=\"translate(245.02,58.74)\" d=\"M3,0A3,3 0 1,1 0,-3A3,3 0 0,1 3,0Z\" style=\"opacity: 1; stroke-width: 0px; fill: rgb(42, 120, 142); fill-opacity: 1;\"/><path class=\"point plotly-customdata\" transform=\"translate(190.83,41.07)\" d=\"M3,0A3,3 0 1,1 0,-3A3,3 0 0,1 3,0Z\" style=\"opacity: 1; stroke-width: 0px; fill: rgb(42, 121, 142); fill-opacity: 1;\"/><path class=\"point plotly-customdata\" transform=\"translate(172.4,34.81)\" d=\"M3,0A3,3 0 1,1 0,-3A3,3 0 0,1 3,0Z\" style=\"opacity: 1; stroke-width: 0px; fill: rgb(41, 122, 142); fill-opacity: 1;\"/><path class=\"point plotly-customdata\" transform=\"translate(162.02,43.9)\" d=\"M3,0A3,3 0 1,1 0,-3A3,3 0 0,1 3,0Z\" style=\"opacity: 1; stroke-width: 0px; fill: rgb(41, 123, 142); fill-opacity: 1;\"/><path class=\"point plotly-customdata\" transform=\"translate(173.59,91.39)\" d=\"M3,0A3,3 0 1,1 0,-3A3,3 0 0,1 3,0Z\" style=\"opacity: 1; stroke-width: 0px; fill: rgb(41, 124, 142); fill-opacity: 1;\"/><path class=\"point plotly-customdata\" transform=\"translate(187.08,59.39)\" d=\"M3,0A3,3 0 1,1 0,-3A3,3 0 0,1 3,0Z\" style=\"opacity: 1; stroke-width: 0px; fill: rgb(40, 125, 142); fill-opacity: 1;\"/><path class=\"point plotly-customdata\" transform=\"translate(165.21,46.17)\" d=\"M3,0A3,3 0 1,1 0,-3A3,3 0 0,1 3,0Z\" style=\"opacity: 1; stroke-width: 0px; fill: rgb(40, 126, 142); fill-opacity: 1;\"/><path class=\"point plotly-customdata\" transform=\"translate(162.93,55.66)\" d=\"M3,0A3,3 0 1,1 0,-3A3,3 0 0,1 3,0Z\" style=\"opacity: 1; stroke-width: 0px; fill: rgb(39, 127, 142); fill-opacity: 1;\"/><path class=\"point plotly-customdata\" transform=\"translate(167.15,50.83)\" d=\"M3,0A3,3 0 1,1 0,-3A3,3 0 0,1 3,0Z\" style=\"opacity: 1; stroke-width: 0px; fill: rgb(39, 128, 142); fill-opacity: 1;\"/><path class=\"point plotly-customdata\" transform=\"translate(162.36,70.76)\" d=\"M3,0A3,3 0 1,1 0,-3A3,3 0 0,1 3,0Z\" style=\"opacity: 1; stroke-width: 0px; fill: rgb(38, 129, 142); fill-opacity: 1;\"/><path class=\"point plotly-customdata\" transform=\"translate(186.92,52.69)\" d=\"M3,0A3,3 0 1,1 0,-3A3,3 0 0,1 3,0Z\" style=\"opacity: 1; stroke-width: 0px; fill: rgb(37, 134, 141); fill-opacity: 1;\"/><path class=\"point plotly-customdata\" transform=\"translate(213.24,45.45)\" d=\"M3,0A3,3 0 1,1 0,-3A3,3 0 0,1 3,0Z\" style=\"opacity: 1; stroke-width: 0px; fill: rgb(37, 135, 141); fill-opacity: 1;\"/><path class=\"point plotly-customdata\" transform=\"translate(188.45,44.09)\" d=\"M3,0A3,3 0 1,1 0,-3A3,3 0 0,1 3,0Z\" style=\"opacity: 1; stroke-width: 0px; fill: rgb(36, 136, 141); fill-opacity: 1;\"/><path class=\"point plotly-customdata\" transform=\"translate(164.22,57.2)\" d=\"M3,0A3,3 0 1,1 0,-3A3,3 0 0,1 3,0Z\" style=\"opacity: 1; stroke-width: 0px; fill: rgb(36, 137, 141); fill-opacity: 1;\"/><path class=\"point plotly-customdata\" transform=\"translate(120.06,110.3)\" d=\"M3,0A3,3 0 1,1 0,-3A3,3 0 0,1 3,0Z\" style=\"opacity: 1; stroke-width: 0px; fill: rgb(36, 139, 140); fill-opacity: 1;\"/><path class=\"point plotly-customdata\" transform=\"translate(120.87,103.33)\" d=\"M3,0A3,3 0 1,1 0,-3A3,3 0 0,1 3,0Z\" style=\"opacity: 1; stroke-width: 0px; fill: rgb(36, 140, 140); fill-opacity: 1;\"/><path class=\"point plotly-customdata\" transform=\"translate(178.72,68.99)\" d=\"M3,0A3,3 0 1,1 0,-3A3,3 0 0,1 3,0Z\" style=\"opacity: 1; stroke-width: 0px; fill: rgb(35, 141, 140); fill-opacity: 1;\"/><path class=\"point plotly-customdata\" transform=\"translate(115.02,95.59)\" d=\"M3,0A3,3 0 1,1 0,-3A3,3 0 0,1 3,0Z\" style=\"opacity: 1; stroke-width: 0px; fill: rgb(35, 142, 140); fill-opacity: 1;\"/><path class=\"point plotly-customdata\" transform=\"translate(111.25,91.76)\" d=\"M3,0A3,3 0 1,1 0,-3A3,3 0 0,1 3,0Z\" style=\"opacity: 1; stroke-width: 0px; fill: rgb(35, 143, 140); fill-opacity: 1;\"/><path class=\"point plotly-customdata\" transform=\"translate(136.89,103.53)\" d=\"M3,0A3,3 0 1,1 0,-3A3,3 0 0,1 3,0Z\" style=\"opacity: 1; stroke-width: 0px; fill: rgb(35, 144, 140); fill-opacity: 1;\"/><path class=\"point plotly-customdata\" transform=\"translate(92.55,90.96)\" d=\"M3,0A3,3 0 1,1 0,-3A3,3 0 0,1 3,0Z\" style=\"opacity: 1; stroke-width: 0px; fill: rgb(34, 145, 139); fill-opacity: 1;\"/><path class=\"point plotly-customdata\" transform=\"translate(118.55,106.12)\" d=\"M3,0A3,3 0 1,1 0,-3A3,3 0 0,1 3,0Z\" style=\"opacity: 1; stroke-width: 0px; fill: rgb(34, 146, 139); fill-opacity: 1;\"/><path class=\"point plotly-customdata\" transform=\"translate(148.72,55.13)\" d=\"M3,0A3,3 0 1,1 0,-3A3,3 0 0,1 3,0Z\" style=\"opacity: 1; stroke-width: 0px; fill: rgb(34, 147, 139); fill-opacity: 1;\"/><path class=\"point plotly-customdata\" transform=\"translate(190.94,65.6)\" d=\"M3,0A3,3 0 1,1 0,-3A3,3 0 0,1 3,0Z\" style=\"opacity: 1; stroke-width: 0px; fill: rgb(33, 148, 139); fill-opacity: 1;\"/><path class=\"point plotly-customdata\" transform=\"translate(145.1,69.82)\" d=\"M3,0A3,3 0 1,1 0,-3A3,3 0 0,1 3,0Z\" style=\"opacity: 1; stroke-width: 0px; fill: rgb(33, 149, 139); fill-opacity: 1;\"/><path class=\"point plotly-customdata\" transform=\"translate(118.17,65.05)\" d=\"M3,0A3,3 0 1,1 0,-3A3,3 0 0,1 3,0Z\" style=\"opacity: 1; stroke-width: 0px; fill: rgb(33, 151, 138); fill-opacity: 1;\"/><path class=\"point plotly-customdata\" transform=\"translate(160.37,112.1)\" d=\"M3,0A3,3 0 1,1 0,-3A3,3 0 0,1 3,0Z\" style=\"opacity: 1; stroke-width: 0px; fill: rgb(33, 152, 138); fill-opacity: 1;\"/><path class=\"point plotly-customdata\" transform=\"translate(187.22,132.03)\" d=\"M3,0A3,3 0 1,1 0,-3A3,3 0 0,1 3,0Z\" style=\"opacity: 1; stroke-width: 0px; fill: rgb(32, 153, 138); fill-opacity: 1;\"/><path class=\"point plotly-customdata\" transform=\"translate(164.04,127.27)\" d=\"M3,0A3,3 0 1,1 0,-3A3,3 0 0,1 3,0Z\" style=\"opacity: 1; stroke-width: 0px; fill: rgb(32, 154, 138); fill-opacity: 1;\"/><path class=\"point plotly-customdata\" transform=\"translate(159.48,93.46)\" d=\"M3,0A3,3 0 1,1 0,-3A3,3 0 0,1 3,0Z\" style=\"opacity: 1; stroke-width: 0px; fill: rgb(32, 155, 138); fill-opacity: 1;\"/><path class=\"point plotly-customdata\" transform=\"translate(195.11,148.35)\" d=\"M3,0A3,3 0 1,1 0,-3A3,3 0 0,1 3,0Z\" style=\"opacity: 1; stroke-width: 0px; fill: rgb(32, 156, 137); fill-opacity: 1;\"/><path class=\"point plotly-customdata\" transform=\"translate(155.83,126.57)\" d=\"M3,0A3,3 0 1,1 0,-3A3,3 0 0,1 3,0Z\" style=\"opacity: 1; stroke-width: 0px; fill: rgb(31, 157, 137); fill-opacity: 1;\"/><path class=\"point plotly-customdata\" transform=\"translate(114.49,133.05)\" d=\"M3,0A3,3 0 1,1 0,-3A3,3 0 0,1 3,0Z\" style=\"opacity: 1; stroke-width: 0px; fill: rgb(31, 158, 137); fill-opacity: 1;\"/><path class=\"point plotly-customdata\" transform=\"translate(157.72,111.61)\" d=\"M3,0A3,3 0 1,1 0,-3A3,3 0 0,1 3,0Z\" style=\"opacity: 1; stroke-width: 0px; fill: rgb(32, 159, 136); fill-opacity: 1;\"/><path class=\"point plotly-customdata\" transform=\"translate(106.38,124.18)\" d=\"M3,0A3,3 0 1,1 0,-3A3,3 0 0,1 3,0Z\" style=\"opacity: 1; stroke-width: 0px; fill: rgb(33, 160, 136); fill-opacity: 1;\"/><path class=\"point plotly-customdata\" transform=\"translate(107.49,135.16)\" d=\"M3,0A3,3 0 1,1 0,-3A3,3 0 0,1 3,0Z\" style=\"opacity: 1; stroke-width: 0px; fill: rgb(34, 161, 135); fill-opacity: 1;\"/><path class=\"point plotly-customdata\" transform=\"translate(65.79,111.76)\" d=\"M3,0A3,3 0 1,1 0,-3A3,3 0 0,1 3,0Z\" style=\"opacity: 1; stroke-width: 0px; fill: rgb(35, 162, 134); fill-opacity: 1;\"/><path class=\"point plotly-customdata\" transform=\"translate(67.27,112.26)\" d=\"M3,0A3,3 0 1,1 0,-3A3,3 0 0,1 3,0Z\" style=\"opacity: 1; stroke-width: 0px; fill: rgb(35, 163, 134); fill-opacity: 1;\"/><path class=\"point plotly-customdata\" transform=\"translate(72.7,94.03)\" d=\"M3,0A3,3 0 1,1 0,-3A3,3 0 0,1 3,0Z\" style=\"opacity: 1; stroke-width: 0px; fill: rgb(36, 164, 133); fill-opacity: 1;\"/><path class=\"point plotly-customdata\" transform=\"translate(51.51,102.09)\" d=\"M3,0A3,3 0 1,1 0,-3A3,3 0 0,1 3,0Z\" style=\"opacity: 1; stroke-width: 0px; fill: rgb(37, 165, 133); fill-opacity: 1;\"/><path class=\"point plotly-customdata\" transform=\"translate(69.15,99.83)\" d=\"M3,0A3,3 0 1,1 0,-3A3,3 0 0,1 3,0Z\" style=\"opacity: 1; stroke-width: 0px; fill: rgb(38, 166, 132); fill-opacity: 1;\"/><path class=\"point plotly-customdata\" transform=\"translate(71.67,106.64)\" d=\"M3,0A3,3 0 1,1 0,-3A3,3 0 0,1 3,0Z\" style=\"opacity: 1; stroke-width: 0px; fill: rgb(39, 167, 131); fill-opacity: 1;\"/><path class=\"point plotly-customdata\" transform=\"translate(48.63,91.64)\" d=\"M3,0A3,3 0 1,1 0,-3A3,3 0 0,1 3,0Z\" style=\"opacity: 1; stroke-width: 0px; fill: rgb(40, 168, 131); fill-opacity: 1;\"/><path class=\"point plotly-customdata\" transform=\"translate(67.21,116.28)\" d=\"M3,0A3,3 0 1,1 0,-3A3,3 0 0,1 3,0Z\" style=\"opacity: 1; stroke-width: 0px; fill: rgb(40, 169, 130); fill-opacity: 1;\"/><path class=\"point plotly-customdata\" transform=\"translate(55.12,120.84)\" d=\"M3,0A3,3 0 1,1 0,-3A3,3 0 0,1 3,0Z\" style=\"opacity: 1; stroke-width: 0px; fill: rgb(41, 170, 129); fill-opacity: 1;\"/><path class=\"point plotly-customdata\" transform=\"translate(181.66,127.33)\" d=\"M3,0A3,3 0 1,1 0,-3A3,3 0 0,1 3,0Z\" style=\"opacity: 1; stroke-width: 0px; fill: rgb(42, 171, 129); fill-opacity: 1;\"/><path class=\"point plotly-customdata\" transform=\"translate(124.38,150.88)\" d=\"M3,0A3,3 0 1,1 0,-3A3,3 0 0,1 3,0Z\" style=\"opacity: 1; stroke-width: 0px; fill: rgb(44, 173, 128); fill-opacity: 1;\"/><path class=\"point plotly-customdata\" transform=\"translate(108.7,162.44)\" d=\"M3,0A3,3 0 1,1 0,-3A3,3 0 0,1 3,0Z\" style=\"opacity: 1; stroke-width: 0px; fill: rgb(45, 174, 127); fill-opacity: 1;\"/><path class=\"point plotly-customdata\" transform=\"translate(173.28,160.45)\" d=\"M3,0A3,3 0 1,1 0,-3A3,3 0 0,1 3,0Z\" style=\"opacity: 1; stroke-width: 0px; fill: rgb(46, 175, 126); fill-opacity: 1;\"/><path class=\"point plotly-customdata\" transform=\"translate(136.95,159.45)\" d=\"M3,0A3,3 0 1,1 0,-3A3,3 0 0,1 3,0Z\" style=\"opacity: 1; stroke-width: 0px; fill: rgb(46, 176, 126); fill-opacity: 1;\"/><path class=\"point plotly-customdata\" transform=\"translate(84.55,158.47)\" d=\"M3,0A3,3 0 1,1 0,-3A3,3 0 0,1 3,0Z\" style=\"opacity: 1; stroke-width: 0px; fill: rgb(47, 177, 125); fill-opacity: 1;\"/><path class=\"point plotly-customdata\" transform=\"translate(130.59,180.05)\" d=\"M3,0A3,3 0 1,1 0,-3A3,3 0 0,1 3,0Z\" style=\"opacity: 1; stroke-width: 0px; fill: rgb(48, 178, 125); fill-opacity: 1;\"/><path class=\"point plotly-customdata\" transform=\"translate(149.03,182.63)\" d=\"M3,0A3,3 0 1,1 0,-3A3,3 0 0,1 3,0Z\" style=\"opacity: 1; stroke-width: 0px; fill: rgb(49, 178, 124); fill-opacity: 1;\"/><path class=\"point plotly-customdata\" transform=\"translate(171.98,184.32)\" d=\"M3,0A3,3 0 1,1 0,-3A3,3 0 0,1 3,0Z\" style=\"opacity: 1; stroke-width: 0px; fill: rgb(50, 179, 123); fill-opacity: 1;\"/><path class=\"point plotly-customdata\" transform=\"translate(230.58,182.01)\" d=\"M3,0A3,3 0 1,1 0,-3A3,3 0 0,1 3,0Z\" style=\"opacity: 1; stroke-width: 0px; fill: rgb(51, 180, 123); fill-opacity: 1;\"/><path class=\"point plotly-customdata\" transform=\"translate(223.26,185.08)\" d=\"M3,0A3,3 0 1,1 0,-3A3,3 0 0,1 3,0Z\" style=\"opacity: 1; stroke-width: 0px; fill: rgb(52, 181, 122); fill-opacity: 1;\"/><path class=\"point plotly-customdata\" transform=\"translate(168.67,172.22)\" d=\"M3,0A3,3 0 1,1 0,-3A3,3 0 0,1 3,0Z\" style=\"opacity: 1; stroke-width: 0px; fill: rgb(52, 182, 121); fill-opacity: 1;\"/><path class=\"point plotly-customdata\" transform=\"translate(174.58,174.8)\" d=\"M3,0A3,3 0 1,1 0,-3A3,3 0 0,1 3,0Z\" style=\"opacity: 1; stroke-width: 0px; fill: rgb(54, 183, 121); fill-opacity: 1;\"/><path class=\"point plotly-customdata\" transform=\"translate(55.78,157.04)\" d=\"M3,0A3,3 0 1,1 0,-3A3,3 0 0,1 3,0Z\" style=\"opacity: 1; stroke-width: 0px; fill: rgb(56, 184, 119); fill-opacity: 1;\"/><path class=\"point plotly-customdata\" transform=\"translate(40.2,158.02)\" d=\"M3,0A3,3 0 1,1 0,-3A3,3 0 0,1 3,0Z\" style=\"opacity: 1; stroke-width: 0px; fill: rgb(58, 185, 118); fill-opacity: 1;\"/><path class=\"point plotly-customdata\" transform=\"translate(58.31,191.49)\" d=\"M3,0A3,3 0 1,1 0,-3A3,3 0 0,1 3,0Z\" style=\"opacity: 1; stroke-width: 0px; fill: rgb(60, 186, 117); fill-opacity: 1;\"/><path class=\"point plotly-customdata\" transform=\"translate(74.13,176.16)\" d=\"M3,0A3,3 0 1,1 0,-3A3,3 0 0,1 3,0Z\" style=\"opacity: 1; stroke-width: 0px; fill: rgb(63, 187, 115); fill-opacity: 1;\"/><path class=\"point plotly-customdata\" transform=\"translate(60.28,192.41)\" d=\"M3,0A3,3 0 1,1 0,-3A3,3 0 0,1 3,0Z\" style=\"opacity: 1; stroke-width: 0px; fill: rgb(65, 188, 114); fill-opacity: 1;\"/><path class=\"point plotly-customdata\" transform=\"translate(153.27,201.42)\" d=\"M3,0A3,3 0 1,1 0,-3A3,3 0 0,1 3,0Z\" style=\"opacity: 1; stroke-width: 0px; fill: rgb(67, 189, 113); fill-opacity: 1;\"/><path class=\"point plotly-customdata\" transform=\"translate(133.03,210.95)\" d=\"M3,0A3,3 0 1,1 0,-3A3,3 0 0,1 3,0Z\" style=\"opacity: 1; stroke-width: 0px; fill: rgb(69, 190, 112); fill-opacity: 1;\"/><path class=\"point plotly-customdata\" transform=\"translate(142.67,191.46)\" d=\"M3,0A3,3 0 1,1 0,-3A3,3 0 0,1 3,0Z\" style=\"opacity: 1; stroke-width: 0px; fill: rgb(71, 190, 110); fill-opacity: 1;\"/><path class=\"point plotly-customdata\" transform=\"translate(36.88,166.1)\" d=\"M3,0A3,3 0 1,1 0,-3A3,3 0 0,1 3,0Z\" style=\"opacity: 1; stroke-width: 0px; fill: rgb(71, 190, 110); fill-opacity: 1;\"/><path class=\"point plotly-customdata\" transform=\"translate(37.24,173)\" d=\"M3,0A3,3 0 1,1 0,-3A3,3 0 0,1 3,0Z\" style=\"opacity: 1; stroke-width: 0px; fill: rgb(74, 191, 109); fill-opacity: 1;\"/><path class=\"point plotly-customdata\" transform=\"translate(23.45,184.46)\" d=\"M3,0A3,3 0 1,1 0,-3A3,3 0 0,1 3,0Z\" style=\"opacity: 1; stroke-width: 0px; fill: rgb(76, 192, 108); fill-opacity: 1;\"/><path class=\"point plotly-customdata\" transform=\"translate(25.67,188.32)\" d=\"M3,0A3,3 0 1,1 0,-3A3,3 0 0,1 3,0Z\" style=\"opacity: 1; stroke-width: 0px; fill: rgb(78, 193, 106); fill-opacity: 1;\"/><path class=\"point plotly-customdata\" transform=\"translate(63.32,175.63)\" d=\"M3,0A3,3 0 1,1 0,-3A3,3 0 0,1 3,0Z\" style=\"opacity: 1; stroke-width: 0px; fill: rgb(80, 194, 105); fill-opacity: 1;\"/><path class=\"point plotly-customdata\" transform=\"translate(110.78,200.9)\" d=\"M3,0A3,3 0 1,1 0,-3A3,3 0 0,1 3,0Z\" style=\"opacity: 1; stroke-width: 0px; fill: rgb(82, 195, 104); fill-opacity: 1;\"/><path class=\"point plotly-customdata\" transform=\"translate(74.87,197.76)\" d=\"M3,0A3,3 0 1,1 0,-3A3,3 0 0,1 3,0Z\" style=\"opacity: 1; stroke-width: 0px; fill: rgb(85, 196, 103); fill-opacity: 1;\"/><path class=\"point plotly-customdata\" transform=\"translate(88.55,187.3)\" d=\"M3,0A3,3 0 1,1 0,-3A3,3 0 0,1 3,0Z\" style=\"opacity: 1; stroke-width: 0px; fill: rgb(87, 197, 101); fill-opacity: 1;\"/><path class=\"point plotly-customdata\" transform=\"translate(68.89,198.71)\" d=\"M3,0A3,3 0 1,1 0,-3A3,3 0 0,1 3,0Z\" style=\"opacity: 1; stroke-width: 0px; fill: rgb(89, 198, 100); fill-opacity: 1;\"/><path class=\"point plotly-customdata\" transform=\"translate(98.69,202.27)\" d=\"M3,0A3,3 0 1,1 0,-3A3,3 0 0,1 3,0Z\" style=\"opacity: 1; stroke-width: 0px; fill: rgb(89, 198, 100); fill-opacity: 1;\"/><path class=\"point plotly-customdata\" transform=\"translate(126.94,209.74)\" d=\"M3,0A3,3 0 1,1 0,-3A3,3 0 0,1 3,0Z\" style=\"opacity: 1; stroke-width: 0px; fill: rgb(91, 198, 99); fill-opacity: 1;\"/><path class=\"point plotly-customdata\" transform=\"translate(141.17,219.64)\" d=\"M3,0A3,3 0 1,1 0,-3A3,3 0 0,1 3,0Z\" style=\"opacity: 1; stroke-width: 0px; fill: rgb(94, 199, 98); fill-opacity: 1;\"/><path class=\"point plotly-customdata\" transform=\"translate(177.79,220.59)\" d=\"M3,0A3,3 0 1,1 0,-3A3,3 0 0,1 3,0Z\" style=\"opacity: 1; stroke-width: 0px; fill: rgb(96, 200, 96); fill-opacity: 1;\"/><path class=\"point plotly-customdata\" transform=\"translate(177.29,223.37)\" d=\"M3,0A3,3 0 1,1 0,-3A3,3 0 0,1 3,0Z\" style=\"opacity: 1; stroke-width: 0px; fill: rgb(98, 201, 95); fill-opacity: 1;\"/><path class=\"point plotly-customdata\" transform=\"translate(210.49,211.28)\" d=\"M3,0A3,3 0 1,1 0,-3A3,3 0 0,1 3,0Z\" style=\"opacity: 1; stroke-width: 0px; fill: rgb(100, 202, 94); fill-opacity: 1;\"/><path class=\"point plotly-customdata\" transform=\"translate(179.05,218.78)\" d=\"M3,0A3,3 0 1,1 0,-3A3,3 0 0,1 3,0Z\" style=\"opacity: 1; stroke-width: 0px; fill: rgb(102, 203, 92); fill-opacity: 1;\"/><path class=\"point plotly-customdata\" transform=\"translate(198.25,218.76)\" d=\"M3,0A3,3 0 1,1 0,-3A3,3 0 0,1 3,0Z\" style=\"opacity: 1; stroke-width: 0px; fill: rgb(105, 204, 91); fill-opacity: 1;\"/><path class=\"point plotly-customdata\" transform=\"translate(216.28,199.93)\" d=\"M3,0A3,3 0 1,1 0,-3A3,3 0 0,1 3,0Z\" style=\"opacity: 1; stroke-width: 0px; fill: rgb(107, 205, 90); fill-opacity: 1;\"/><path class=\"point plotly-customdata\" transform=\"translate(179.54,223.33)\" d=\"M3,0A3,3 0 1,1 0,-3A3,3 0 0,1 3,0Z\" style=\"opacity: 1; stroke-width: 0px; fill: rgb(109, 206, 89); fill-opacity: 1;\"/><path class=\"point plotly-customdata\" transform=\"translate(210.32,203.92)\" d=\"M3,0A3,3 0 1,1 0,-3A3,3 0 0,1 3,0Z\" style=\"opacity: 1; stroke-width: 0px; fill: rgb(112, 206, 87); fill-opacity: 1;\"/><path class=\"point plotly-customdata\" transform=\"translate(180.04,227.37)\" d=\"M3,0A3,3 0 1,1 0,-3A3,3 0 0,1 3,0Z\" style=\"opacity: 1; stroke-width: 0px; fill: rgb(114, 207, 85); fill-opacity: 1;\"/><path class=\"point plotly-customdata\" transform=\"translate(179.46,201.3)\" d=\"M3,0A3,3 0 1,1 0,-3A3,3 0 0,1 3,0Z\" style=\"opacity: 1; stroke-width: 0px; fill: rgb(117, 208, 84); fill-opacity: 1;\"/><path class=\"point plotly-customdata\" transform=\"translate(213.1,227.92)\" d=\"M3,0A3,3 0 1,1 0,-3A3,3 0 0,1 3,0Z\" style=\"opacity: 1; stroke-width: 0px; fill: rgb(120, 208, 82); fill-opacity: 1;\"/><path class=\"point plotly-customdata\" transform=\"translate(144.06,212.17)\" d=\"M3,0A3,3 0 1,1 0,-3A3,3 0 0,1 3,0Z\" style=\"opacity: 1; stroke-width: 0px; fill: rgb(123, 209, 80); fill-opacity: 1;\"/><path class=\"point plotly-customdata\" transform=\"translate(183.62,229.6)\" d=\"M3,0A3,3 0 1,1 0,-3A3,3 0 0,1 3,0Z\" style=\"opacity: 1; stroke-width: 0px; fill: rgb(125, 209, 78); fill-opacity: 1;\"/><path class=\"point plotly-customdata\" transform=\"translate(160.03,200.36)\" d=\"M3,0A3,3 0 1,1 0,-3A3,3 0 0,1 3,0Z\" style=\"opacity: 1; stroke-width: 0px; fill: rgb(128, 210, 77); fill-opacity: 1;\"/><path class=\"point plotly-customdata\" transform=\"translate(169.92,232.15)\" d=\"M3,0A3,3 0 1,1 0,-3A3,3 0 0,1 3,0Z\" style=\"opacity: 1; stroke-width: 0px; fill: rgb(131, 211, 75); fill-opacity: 1;\"/><path class=\"point plotly-customdata\" transform=\"translate(183.74,226.24)\" d=\"M3,0A3,3 0 1,1 0,-3A3,3 0 0,1 3,0Z\" style=\"opacity: 1; stroke-width: 0px; fill: rgb(134, 211, 73); fill-opacity: 1;\"/><path class=\"point plotly-customdata\" transform=\"translate(214.97,210.2)\" d=\"M3,0A3,3 0 1,1 0,-3A3,3 0 0,1 3,0Z\" style=\"opacity: 1; stroke-width: 0px; fill: rgb(136, 212, 71); fill-opacity: 1;\"/><path class=\"point plotly-customdata\" transform=\"translate(81.25,197.48)\" d=\"M3,0A3,3 0 1,1 0,-3A3,3 0 0,1 3,0Z\" style=\"opacity: 1; stroke-width: 0px; fill: rgb(139, 213, 70); fill-opacity: 1;\"/><path class=\"point plotly-customdata\" transform=\"translate(172.62,228.39)\" d=\"M3,0A3,3 0 1,1 0,-3A3,3 0 0,1 3,0Z\" style=\"opacity: 1; stroke-width: 0px; fill: rgb(142, 213, 68); fill-opacity: 1;\"/><path class=\"point plotly-customdata\" transform=\"translate(197.26,246.41)\" d=\"M3,0A3,3 0 1,1 0,-3A3,3 0 0,1 3,0Z\" style=\"opacity: 1; stroke-width: 0px; fill: rgb(145, 214, 66); fill-opacity: 1;\"/><path class=\"point plotly-customdata\" transform=\"translate(249.63,240.14)\" d=\"M3,0A3,3 0 1,1 0,-3A3,3 0 0,1 3,0Z\" style=\"opacity: 1; stroke-width: 0px; fill: rgb(147, 214, 64); fill-opacity: 1;\"/><path class=\"point plotly-customdata\" transform=\"translate(238.86,247.56)\" d=\"M3,0A3,3 0 1,1 0,-3A3,3 0 0,1 3,0Z\" style=\"opacity: 1; stroke-width: 0px; fill: rgb(150, 215, 63); fill-opacity: 1;\"/><path class=\"point plotly-customdata\" transform=\"translate(286.23,238.77)\" d=\"M3,0A3,3 0 1,1 0,-3A3,3 0 0,1 3,0Z\" style=\"opacity: 1; stroke-width: 0px; fill: rgb(153, 216, 61); fill-opacity: 1;\"/><path class=\"point plotly-customdata\" transform=\"translate(288,225.41)\" d=\"M3,0A3,3 0 1,1 0,-3A3,3 0 0,1 3,0Z\" style=\"opacity: 1; stroke-width: 0px; fill: rgb(156, 216, 59); fill-opacity: 1;\"/><path class=\"point plotly-customdata\" transform=\"translate(286.25,235.47)\" d=\"M3,0A3,3 0 1,1 0,-3A3,3 0 0,1 3,0Z\" style=\"opacity: 1; stroke-width: 0px; fill: rgb(158, 217, 57); fill-opacity: 1;\"/><path class=\"point plotly-customdata\" transform=\"translate(265.79,252.27)\" d=\"M3,0A3,3 0 1,1 0,-3A3,3 0 0,1 3,0Z\" style=\"opacity: 1; stroke-width: 0px; fill: rgb(161, 218, 56); fill-opacity: 1;\"/><path class=\"point plotly-customdata\" transform=\"translate(303.96,245.76)\" d=\"M3,0A3,3 0 1,1 0,-3A3,3 0 0,1 3,0Z\" style=\"opacity: 1; stroke-width: 0px; fill: rgb(164, 218, 54); fill-opacity: 1;\"/><path class=\"point plotly-customdata\" transform=\"translate(264.51,235.24)\" d=\"M3,0A3,3 0 1,1 0,-3A3,3 0 0,1 3,0Z\" style=\"opacity: 1; stroke-width: 0px; fill: rgb(167, 219, 52); fill-opacity: 1;\"/><path class=\"point plotly-customdata\" transform=\"translate(274.76,244.59)\" d=\"M3,0A3,3 0 1,1 0,-3A3,3 0 0,1 3,0Z\" style=\"opacity: 1; stroke-width: 0px; fill: rgb(169, 219, 50); fill-opacity: 1;\"/><path class=\"point plotly-customdata\" transform=\"translate(255.24,253.45)\" d=\"M3,0A3,3 0 1,1 0,-3A3,3 0 0,1 3,0Z\" style=\"opacity: 1; stroke-width: 0px; fill: rgb(172, 220, 49); fill-opacity: 1;\"/><path class=\"point plotly-customdata\" transform=\"translate(303.83,252.03)\" d=\"M3,0A3,3 0 1,1 0,-3A3,3 0 0,1 3,0Z\" style=\"opacity: 1; stroke-width: 0px; fill: rgb(175, 221, 47); fill-opacity: 1;\"/><path class=\"point plotly-customdata\" transform=\"translate(296.25,243.25)\" d=\"M3,0A3,3 0 1,1 0,-3A3,3 0 0,1 3,0Z\" style=\"opacity: 1; stroke-width: 0px; fill: rgb(178, 221, 45); fill-opacity: 1;\"/><path class=\"point plotly-customdata\" transform=\"translate(316.07,250.25)\" d=\"M3,0A3,3 0 1,1 0,-3A3,3 0 0,1 3,0Z\" style=\"opacity: 1; stroke-width: 0px; fill: rgb(180, 222, 43); fill-opacity: 1;\"/><path class=\"point plotly-customdata\" transform=\"translate(310.82,259.54)\" d=\"M3,0A3,3 0 1,1 0,-3A3,3 0 0,1 3,0Z\" style=\"opacity: 1; stroke-width: 0px; fill: rgb(183, 222, 43); fill-opacity: 1;\"/><path class=\"point plotly-customdata\" transform=\"translate(323.11,258.85)\" d=\"M3,0A3,3 0 1,1 0,-3A3,3 0 0,1 3,0Z\" style=\"opacity: 1; stroke-width: 0px; fill: rgb(186, 223, 43); fill-opacity: 1;\"/><path class=\"point plotly-customdata\" transform=\"translate(304.38,254.46)\" d=\"M3,0A3,3 0 1,1 0,-3A3,3 0 0,1 3,0Z\" style=\"opacity: 1; stroke-width: 0px; fill: rgb(189, 223, 42); fill-opacity: 1;\"/><path class=\"point plotly-customdata\" transform=\"translate(311.41,263.2)\" d=\"M3,0A3,3 0 1,1 0,-3A3,3 0 0,1 3,0Z\" style=\"opacity: 1; stroke-width: 0px; fill: rgb(192, 223, 42); fill-opacity: 1;\"/><path class=\"point plotly-customdata\" transform=\"translate(257.78,239.16)\" d=\"M3,0A3,3 0 1,1 0,-3A3,3 0 0,1 3,0Z\" style=\"opacity: 1; stroke-width: 0px; fill: rgb(194, 224, 42); fill-opacity: 1;\"/><path class=\"point plotly-customdata\" transform=\"translate(367.05,203.33)\" d=\"M3,0A3,3 0 1,1 0,-3A3,3 0 0,1 3,0Z\" style=\"opacity: 1; stroke-width: 0px; fill: rgb(194, 224, 42); fill-opacity: 1;\"/><path class=\"point plotly-customdata\" transform=\"translate(339.87,227.79)\" d=\"M3,0A3,3 0 1,1 0,-3A3,3 0 0,1 3,0Z\" style=\"opacity: 1; stroke-width: 0px; fill: rgb(197, 224, 42); fill-opacity: 1;\"/><path class=\"point plotly-customdata\" transform=\"translate(311.53,218.91)\" d=\"M3,0A3,3 0 1,1 0,-3A3,3 0 0,1 3,0Z\" style=\"opacity: 1; stroke-width: 0px; fill: rgb(200, 224, 41); fill-opacity: 1;\"/><path class=\"point plotly-customdata\" transform=\"translate(333.34,240.09)\" d=\"M3,0A3,3 0 1,1 0,-3A3,3 0 0,1 3,0Z\" style=\"opacity: 1; stroke-width: 0px; fill: rgb(203, 225, 41); fill-opacity: 1;\"/><path class=\"point plotly-customdata\" transform=\"translate(298.5,228.15)\" d=\"M3,0A3,3 0 1,1 0,-3A3,3 0 0,1 3,0Z\" style=\"opacity: 1; stroke-width: 0px; fill: rgb(206, 225, 41); fill-opacity: 1;\"/><path class=\"point plotly-customdata\" transform=\"translate(310.38,242.53)\" d=\"M3,0A3,3 0 1,1 0,-3A3,3 0 0,1 3,0Z\" style=\"opacity: 1; stroke-width: 0px; fill: rgb(208, 225, 41); fill-opacity: 1;\"/><path class=\"point plotly-customdata\" transform=\"translate(336.61,221.04)\" d=\"M3,0A3,3 0 1,1 0,-3A3,3 0 0,1 3,0Z\" style=\"opacity: 1; stroke-width: 0px; fill: rgb(211, 226, 40); fill-opacity: 1;\"/><path class=\"point plotly-customdata\" transform=\"translate(313.44,233.41)\" d=\"M3,0A3,3 0 1,1 0,-3A3,3 0 0,1 3,0Z\" style=\"opacity: 1; stroke-width: 0px; fill: rgb(214, 226, 40); fill-opacity: 1;\"/><path class=\"point plotly-customdata\" transform=\"translate(308.05,250.32)\" d=\"M3,0A3,3 0 1,1 0,-3A3,3 0 0,1 3,0Z\" style=\"opacity: 1; stroke-width: 0px; fill: rgb(217, 226, 40); fill-opacity: 1;\"/><path class=\"point plotly-customdata\" transform=\"translate(321.13,248.63)\" d=\"M3,0A3,3 0 1,1 0,-3A3,3 0 0,1 3,0Z\" style=\"opacity: 1; stroke-width: 0px; fill: rgb(219, 227, 40); fill-opacity: 1;\"/><path class=\"point plotly-customdata\" transform=\"translate(341.4,251.65)\" d=\"M3,0A3,3 0 1,1 0,-3A3,3 0 0,1 3,0Z\" style=\"opacity: 1; stroke-width: 0px; fill: rgb(222, 227, 40); fill-opacity: 1;\"/><path class=\"point plotly-customdata\" transform=\"translate(346.45,246.66)\" d=\"M3,0A3,3 0 1,1 0,-3A3,3 0 0,1 3,0Z\" style=\"opacity: 1; stroke-width: 0px; fill: rgb(225, 228, 39); fill-opacity: 1;\"/><path class=\"point plotly-customdata\" transform=\"translate(347.87,253)\" d=\"M3,0A3,3 0 1,1 0,-3A3,3 0 0,1 3,0Z\" style=\"opacity: 1; stroke-width: 0px; fill: rgb(228, 228, 39); fill-opacity: 1;\"/><path class=\"point plotly-customdata\" transform=\"translate(353.75,257.65)\" d=\"M3,0A3,3 0 1,1 0,-3A3,3 0 0,1 3,0Z\" style=\"opacity: 1; stroke-width: 0px; fill: rgb(231, 228, 39); fill-opacity: 1;\"/><path class=\"point plotly-customdata\" transform=\"translate(350.27,251.08)\" d=\"M3,0A3,3 0 1,1 0,-3A3,3 0 0,1 3,0Z\" style=\"opacity: 1; stroke-width: 0px; fill: rgb(233, 229, 39); fill-opacity: 1;\"/><path class=\"point plotly-customdata\" transform=\"translate(342.91,244.81)\" d=\"M3,0A3,3 0 1,1 0,-3A3,3 0 0,1 3,0Z\" style=\"opacity: 1; stroke-width: 0px; fill: rgb(236, 229, 38); fill-opacity: 1;\"/><path class=\"point plotly-customdata\" transform=\"translate(327.71,225.14)\" d=\"M3,0A3,3 0 1,1 0,-3A3,3 0 0,1 3,0Z\" style=\"opacity: 1; stroke-width: 0px; fill: rgb(239, 229, 38); fill-opacity: 1;\"/><path class=\"point plotly-customdata\" transform=\"translate(370.55,227.24)\" d=\"M3,0A3,3 0 1,1 0,-3A3,3 0 0,1 3,0Z\" style=\"opacity: 1; stroke-width: 0px; fill: rgb(242, 230, 38); fill-opacity: 1;\"/><path class=\"point plotly-customdata\" transform=\"translate(359.53,214.09)\" d=\"M3,0A3,3 0 1,1 0,-3A3,3 0 0,1 3,0Z\" style=\"opacity: 1; stroke-width: 0px; fill: rgb(245, 230, 38); fill-opacity: 1;\"/><path class=\"point plotly-customdata\" transform=\"translate(356.28,221.02)\" d=\"M3,0A3,3 0 1,1 0,-3A3,3 0 0,1 3,0Z\" style=\"opacity: 1; stroke-width: 0px; fill: rgb(247, 230, 37); fill-opacity: 1;\"/><path class=\"point plotly-customdata\" transform=\"translate(362.46,248.38)\" d=\"M3,0A3,3 0 1,1 0,-3A3,3 0 0,1 3,0Z\" style=\"opacity: 1; stroke-width: 0px; fill: rgb(250, 231, 37); fill-opacity: 1;\"/><path class=\"point plotly-customdata\" transform=\"translate(352,236.92)\" d=\"M3,0A3,3 0 1,1 0,-3A3,3 0 0,1 3,0Z\" style=\"opacity: 1; stroke-width: 0px; fill: rgb(253, 231, 37); fill-opacity: 1;\"/></g><g class=\"text\"/></g></g></g><g class=\"overplot\"/><path class=\"xlines-above crisp\" d=\"M66,291.5H461\" style=\"fill: none; stroke-width: 1px; stroke: rgb(36, 36, 36); stroke-opacity: 1;\"/><path class=\"ylines-above crisp\" d=\"M66.5,10V291\" style=\"fill: none; stroke-width: 1px; stroke: rgb(36, 36, 36); stroke-opacity: 1;\"/><g class=\"overlines-above\"/><g class=\"xaxislayer-above\"><path class=\"xtick ticks crisp\" d=\"M0,292v5\" transform=\"translate(73.14,0)\" style=\"stroke: rgb(68, 68, 68); stroke-opacity: 1; stroke-width: 1px;\"/><path class=\"xtick ticks crisp\" d=\"M0,292v5\" transform=\"translate(179.34,0)\" style=\"stroke: rgb(68, 68, 68); stroke-opacity: 1; stroke-width: 1px;\"/><path class=\"xtick ticks crisp\" d=\"M0,292v5\" transform=\"translate(285.53999999999996,0)\" style=\"stroke: rgb(68, 68, 68); stroke-opacity: 1; stroke-width: 1px;\"/><path class=\"xtick ticks crisp\" d=\"M0,292v5\" transform=\"translate(391.74,0)\" style=\"stroke: rgb(68, 68, 68); stroke-opacity: 1; stroke-width: 1px;\"/><g class=\"xtick\"><text text-anchor=\"middle\" x=\"0\" y=\"311.4\" transform=\"translate(73.14,0)\" style=\"font-family: 'Open Sans', verdana, arial, sans-serif; font-size: 12px; fill: rgb(36, 36, 36); fill-opacity: 1; white-space: pre; opacity: 1;\">−0.4</text></g><g class=\"xtick\"><text text-anchor=\"middle\" x=\"0\" y=\"311.4\" style=\"font-family: 'Open Sans', verdana, arial, sans-serif; font-size: 12px; fill: rgb(36, 36, 36); fill-opacity: 1; white-space: pre; opacity: 1;\" transform=\"translate(179.34,0)\">−0.2</text></g><g class=\"xtick\"><text text-anchor=\"middle\" x=\"0\" y=\"311.4\" style=\"font-family: 'Open Sans', verdana, arial, sans-serif; font-size: 12px; fill: rgb(36, 36, 36); fill-opacity: 1; white-space: pre; opacity: 1;\" transform=\"translate(285.53999999999996,0)\">0</text></g><g class=\"xtick\"><text text-anchor=\"middle\" x=\"0\" y=\"311.4\" style=\"font-family: 'Open Sans', verdana, arial, sans-serif; font-size: 12px; fill: rgb(36, 36, 36); fill-opacity: 1; white-space: pre; opacity: 1;\" transform=\"translate(391.74,0)\">0.2</text></g></g><g class=\"yaxislayer-above\"><path class=\"ytick ticks crisp\" d=\"M66,0h-5\" transform=\"translate(0,290.9)\" style=\"stroke: rgb(68, 68, 68); stroke-opacity: 1; stroke-width: 1px;\"/><path class=\"ytick ticks crisp\" d=\"M66,0h-5\" transform=\"translate(0,238.06)\" style=\"stroke: rgb(68, 68, 68); stroke-opacity: 1; stroke-width: 1px;\"/><path class=\"ytick ticks crisp\" d=\"M66,0h-5\" transform=\"translate(0,185.21)\" style=\"stroke: rgb(68, 68, 68); stroke-opacity: 1; stroke-width: 1px;\"/><path class=\"ytick ticks crisp\" d=\"M66,0h-5\" transform=\"translate(0,132.36)\" style=\"stroke: rgb(68, 68, 68); stroke-opacity: 1; stroke-width: 1px;\"/><path class=\"ytick ticks crisp\" d=\"M66,0h-5\" transform=\"translate(0,79.51)\" style=\"stroke: rgb(68, 68, 68); stroke-opacity: 1; stroke-width: 1px;\"/><path class=\"ytick ticks crisp\" d=\"M66,0h-5\" transform=\"translate(0,26.67)\" style=\"stroke: rgb(68, 68, 68); stroke-opacity: 1; stroke-width: 1px;\"/><g class=\"ytick\"><text text-anchor=\"end\" x=\"58.6\" y=\"4.199999999999999\" transform=\"translate(0,290.9)\" style=\"font-family: 'Open Sans', verdana, arial, sans-serif; font-size: 12px; fill: rgb(36, 36, 36); fill-opacity: 1; white-space: pre; opacity: 1;\">−0.6</text></g><g class=\"ytick\"><text text-anchor=\"end\" x=\"58.6\" y=\"4.199999999999999\" style=\"font-family: 'Open Sans', verdana, arial, sans-serif; font-size: 12px; fill: rgb(36, 36, 36); fill-opacity: 1; white-space: pre; opacity: 1;\" transform=\"translate(0,238.06)\">−0.4</text></g><g class=\"ytick\"><text text-anchor=\"end\" x=\"58.6\" y=\"4.199999999999999\" style=\"font-family: 'Open Sans', verdana, arial, sans-serif; font-size: 12px; fill: rgb(36, 36, 36); fill-opacity: 1; white-space: pre; opacity: 1;\" transform=\"translate(0,185.21)\">−0.2</text></g><g class=\"ytick\"><text text-anchor=\"end\" x=\"58.6\" y=\"4.199999999999999\" style=\"font-family: 'Open Sans', verdana, arial, sans-serif; font-size: 12px; fill: rgb(36, 36, 36); fill-opacity: 1; white-space: pre; opacity: 1;\" transform=\"translate(0,132.36)\">0</text></g><g class=\"ytick\"><text text-anchor=\"end\" x=\"58.6\" y=\"4.199999999999999\" style=\"font-family: 'Open Sans', verdana, arial, sans-serif; font-size: 12px; fill: rgb(36, 36, 36); fill-opacity: 1; white-space: pre; opacity: 1;\" transform=\"translate(0,79.51)\">0.2</text></g><g class=\"ytick\"><text text-anchor=\"end\" x=\"58.6\" y=\"4.199999999999999\" style=\"font-family: 'Open Sans', verdana, arial, sans-serif; font-size: 12px; fill: rgb(36, 36, 36); fill-opacity: 1; white-space: pre; opacity: 1;\" transform=\"translate(0,26.67)\">0.4</text></g></g><g class=\"overaxes-above\"/></g></g><g class=\"polarlayer\"/><g class=\"smithlayer\"/><g class=\"ternarylayer\"/><g class=\"geolayer\"/><g class=\"funnelarealayer\"/><g class=\"pielayer\"/><g class=\"iciclelayer\"/><g class=\"treemaplayer\"/><g class=\"sunburstlayer\"/><g class=\"glimages\"/><defs id=\"topdefs-f4888c\"><g class=\"clips\"/></defs><g class=\"layer-above\"><g class=\"imagelayer\"/><g class=\"shapelayer\"/></g><g class=\"infolayer\"><g class=\"cbcoloraxis colorbar\" transform=\"translate(67,10)\"><rect class=\"cbbg\" x=\"401.5\" y=\"0\" width=\"70.859375\" height=\"282\" style=\"fill: rgb(0, 0, 0); fill-opacity: 0; stroke: rgb(68, 68, 68); stroke-opacity: 1; stroke-width: 0;\"/><g class=\"cbfills\" transform=\"translate(0,34)\"><rect class=\"cbfill\" x=\"412\" y=\"0\" width=\"15\" height=\"237\" style=\"fill: url('#gf4888c-cbcoloraxis');\"/></g><g class=\"cblines\" transform=\"translate(0,34)\"/><g class=\"cbaxis crisp\" transform=\"translate(0,-10)\"><path class=\"ycbcoloraxistick ticks crisp\" d=\"M427,0h5\" transform=\"translate(0,270.78000000000003)\" style=\"stroke: rgb(36, 36, 36); stroke-opacity: 1; stroke-width: 1px;\"/><path class=\"ycbcoloraxistick ticks crisp\" d=\"M427,0h5\" transform=\"translate(0,219.71000000000004)\" style=\"stroke: rgb(36, 36, 36); stroke-opacity: 1; stroke-width: 1px;\"/><path class=\"ycbcoloraxistick ticks crisp\" d=\"M427,0h5\" transform=\"translate(0,168.63)\" style=\"stroke: rgb(36, 36, 36); stroke-opacity: 1; stroke-width: 1px;\"/><path class=\"ycbcoloraxistick ticks crisp\" d=\"M427,0h5\" transform=\"translate(0,117.55000000000001)\" style=\"stroke: rgb(36, 36, 36); stroke-opacity: 1; stroke-width: 1px;\"/><path class=\"ycbcoloraxistick ticks crisp\" d=\"M427,0h5\" transform=\"translate(0,66.47000000000001)\" style=\"stroke: rgb(36, 36, 36); stroke-opacity: 1; stroke-width: 1px;\"/><g class=\"ycbcoloraxistick\"><text text-anchor=\"start\" x=\"434.4\" y=\"4.199999999999999\" transform=\"translate(0,270.78000000000003)\" style=\"font-family: 'Open Sans', verdana, arial, sans-serif; font-size: 12px; fill: rgb(36, 36, 36); fill-opacity: 1; white-space: pre; opacity: 1;\">1800</text></g><g class=\"ycbcoloraxistick\"><text text-anchor=\"start\" x=\"434.4\" y=\"4.199999999999999\" style=\"font-family: 'Open Sans', verdana, arial, sans-serif; font-size: 12px; fill: rgb(36, 36, 36); fill-opacity: 1; white-space: pre; opacity: 1;\" transform=\"translate(0,219.71000000000004)\">1850</text></g><g class=\"ycbcoloraxistick\"><text text-anchor=\"start\" x=\"434.4\" y=\"4.199999999999999\" style=\"font-family: 'Open Sans', verdana, arial, sans-serif; font-size: 12px; fill: rgb(36, 36, 36); fill-opacity: 1; white-space: pre; opacity: 1;\" transform=\"translate(0,168.63)\">1900</text></g><g class=\"ycbcoloraxistick\"><text text-anchor=\"start\" x=\"434.4\" y=\"4.199999999999999\" style=\"font-family: 'Open Sans', verdana, arial, sans-serif; font-size: 12px; fill: rgb(36, 36, 36); fill-opacity: 1; white-space: pre; opacity: 1;\" transform=\"translate(0,117.55000000000001)\">1950</text></g><g class=\"ycbcoloraxistick\"><text text-anchor=\"start\" x=\"434.4\" y=\"4.199999999999999\" style=\"font-family: 'Open Sans', verdana, arial, sans-serif; font-size: 12px; fill: rgb(36, 36, 36); fill-opacity: 1; white-space: pre; opacity: 1;\" transform=\"translate(0,66.47000000000001)\">2000</text></g></g><g class=\"cbtitleunshift\" transform=\"translate(-67,-10)\"><g class=\"cbtitle\" transform=\"translate(-0.5,-0.5)\"><text class=\"ycbcoloraxistitle\" x=\"478.88\" y=\"33.5\" text-anchor=\"start\" style=\"font-family: 'Open Sans', verdana, arial, sans-serif; font-size: 14px; fill: rgb(36, 36, 36); opacity: 1; font-weight: normal; white-space: pre;\">year</text></g></g><rect class=\"cboutline\" x=\"412\" y=\"34\" width=\"15\" height=\"237\" style=\"stroke: rgb(68, 68, 68); stroke-opacity: 1; fill: none; stroke-width: 1;\"/></g><g class=\"g-gtitle\"/><g class=\"g-xtitle\"><text class=\"xtitle\" x=\"264\" y=\"339.70625\" text-anchor=\"middle\" style=\"font-family: 'Open Sans', verdana, arial, sans-serif; font-size: 14px; fill: rgb(36, 36, 36); opacity: 1; font-weight: normal; white-space: pre;\">pc1</text></g><g class=\"g-ytitle\" transform=\"translate(4.9873046875,0)\"><text class=\"ytitle\" transform=\"rotate(-90,10.012500000000003,150.5)\" x=\"10.012500000000003\" y=\"150.5\" text-anchor=\"middle\" style=\"font-family: 'Open Sans', verdana, arial, sans-serif; font-size: 14px; fill: rgb(36, 36, 36); opacity: 1; font-weight: normal; white-space: pre;\">pc2</text></g></g></svg>"
      ]
     },
     "metadata": {},
     "output_type": "display_data"
    }
   ],
   "source": [
    "fig = px.scatter(with_pcs1, x='pc1', y='pc2', color='year',\n",
    "           hover_data=['name'],\n",
    "           width=550, height=350)\n",
    "fig.update_layout(coloraxis_colorbar_thickness=15)\n",
    "fig"
   ]
  },
  {
   "cell_type": "markdown",
   "metadata": {},
   "source": [
    "We see a clear difference in speeches over time---speeches given in the 1800s\n",
    "used very different words than speeches after 2000.\n",
    "It's also interesting to see that the speeches cluster tightly in the same\n",
    "time period.\n",
    "This suggests that speeches within the same period\n",
    "sound relatively similar, even though the speakers were from\n",
    "different political parties."
   ]
  },
  {
   "cell_type": "markdown",
   "metadata": {},
   "source": [
    "This section gave a whirlwind introduction to text analysis.\n",
    "We used text manipulation tools from previous sections to clean up the\n",
    "presidential speeches.\n",
    "Then, we used more advanced techniques like stemming,\n",
    "the tf-idf transform, and principal component analysis to compare speeches.\n",
    "Although we don't have enough space in this book\n",
    "to cover all of these techniques in detail, we hope that this section\n",
    "piques your interest in the exciting world of text analysis."
   ]
  }
 ],
 "metadata": {
  "colab": {
   "collapsed_sections": [
    "RTJu-FQY3AIp",
    "TrPjIHHD8rOC"
   ],
   "default_view": {},
   "name": "working_with_text.ipynb",
   "provenance": [],
   "version": "0.3.2",
   "views": {}
  },
  "kernelspec": {
   "display_name": "Python 3",
   "language": "python",
   "name": "python3"
  },
  "language_info": {
   "codemirror_mode": {
    "name": "ipython",
    "version": 3
   },
   "file_extension": ".py",
   "mimetype": "text/x-python",
   "name": "python",
   "nbconvert_exporter": "python",
   "pygments_lexer": "ipython3",
   "version": "3.9.4"
  },
  "toc": {
   "nav_menu": {},
   "number_sections": false,
   "sideBar": false,
   "skip_h1_title": false,
   "title_cell": "Table of Contents",
   "title_sidebar": "Contents",
   "toc_cell": true,
   "toc_position": {},
   "toc_section_display": true,
   "toc_window_display": false
  }
 },
 "nbformat": 4,
 "nbformat_minor": 4
}
