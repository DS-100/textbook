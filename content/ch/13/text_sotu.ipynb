{
 "cells": [
  {
   "cell_type": "code",
   "execution_count": 1,
   "metadata": {
    "tags": [
     "remove-cell"
    ]
   },
   "outputs": [],
   "source": [
    "import sys\n",
    "import os\n",
    "if not any(path.endswith('textbook') for path in sys.path):\n",
    "    sys.path.append(os.path.abspath('../../..'))\n",
    "from textbook_utils import *"
   ]
  },
  {
   "cell_type": "markdown",
   "metadata": {
    "user_expressions": []
   },
   "source": [
    "# Text Analysis\n",
    "\n",
    "So far, we've used Python methods and regular expressions to clean short\n",
    "text fields and strings.\n",
    "In this section, we analyze entire documents using a technique called\n",
    "*text mining*, which transforms free-form text into \n",
    "a quantitative representation\n",
    "to uncover meaningful patterns and insights.\n",
    "\n",
    "Text mining is a deep topic. Instead of a comprehensive treatment, we\n",
    "introduce a few key ideas through an example, where\n",
    "we analyze the State of the Union speeches from 1790 to 2022. \n",
    "Every year, the US president gives a State of the Union speech to Congress.\n",
    "These speeches talk about current events in the country and\n",
    "make recommendations for Congress to consider.\n",
    "[The American Presidency Project](https://www.presidency.ucsb.edu/) makes these speeches available online."
   ]
  },
  {
   "cell_type": "markdown",
   "metadata": {
    "user_expressions": []
   },
   "source": [
    "Let's begin by opening the file that has all of the speeches:"
   ]
  },
  {
   "cell_type": "code",
   "execution_count": 2,
   "metadata": {
    "colab": {
     "autoexec": {
      "startup": false,
      "wait_interval": 0
     },
     "base_uri": "https://localhost:8080/",
     "height": 34
    },
    "colab_type": "code",
    "executionInfo": {
     "elapsed": 303,
     "status": "ok",
     "timestamp": 1524681067395,
     "user": {
      "displayName": "Andrew Kim",
      "photoUrl": "https://lh3.googleusercontent.com/a/default-user=s128",
      "userId": "109388192039284916411"
     },
     "user_tz": 420
    },
    "id": "n6NNGiO93AKJ",
    "outputId": "6248e853-8c58-4362-9004-a5028c7e5218"
   },
   "outputs": [],
   "source": [
    "from pathlib import Path\n",
    "\n",
    "text = Path('data/stateoftheunion1790-2022.txt').read_text()"
   ]
  },
  {
   "cell_type": "markdown",
   "metadata": {
    "user_expressions": []
   },
   "source": [
    "At the beginning of this chapter, we saw that each speech in the data begins with \n",
    "a line with three asterisks: `***`.\n",
    "We can use a regular expression to count the number of times the\n",
    "string `***` appears:"
   ]
  },
  {
   "cell_type": "code",
   "execution_count": 3,
   "metadata": {},
   "outputs": [
    {
     "name": "stdout",
     "output_type": "stream",
     "text": [
      "There are 232 speeches total\n"
     ]
    }
   ],
   "source": [
    "import re\n",
    "num_speeches = len(re.findall(r\"\\*\\*\\*\", text))\n",
    "print(f'There are {num_speeches} speeches total')"
   ]
  },
  {
   "cell_type": "markdown",
   "metadata": {
    "user_expressions": []
   },
   "source": [
    "In text analysis, a *document* refers to a single piece of text that we want\n",
    "to analyze. Here, each speech is a document.\n",
    "We split apart the `text` variable into its individual documents:"
   ]
  },
  {
   "cell_type": "code",
   "execution_count": 4,
   "metadata": {},
   "outputs": [],
   "source": [
    "records = text.split(\"***\")"
   ]
  },
  {
   "cell_type": "markdown",
   "metadata": {
    "user_expressions": []
   },
   "source": [
    "Then we can put the speeches into a dataframe:"
   ]
  },
  {
   "cell_type": "code",
   "execution_count": 5,
   "metadata": {
    "tags": []
   },
   "outputs": [
    {
     "data": {
      "text/html": [
       "<div>\n",
       "<style scoped>\n",
       "    .dataframe tbody tr th:only-of-type {\n",
       "        vertical-align: middle;\n",
       "    }\n",
       "\n",
       "    .dataframe tbody tr th {\n",
       "        vertical-align: top;\n",
       "    }\n",
       "\n",
       "    .dataframe thead th {\n",
       "        text-align: right;\n",
       "    }\n",
       "</style>\n",
       "<table border=\"1\" class=\"dataframe\">\n",
       "  <thead>\n",
       "    <tr style=\"text-align: right;\">\n",
       "      <th></th>\n",
       "      <th>name</th>\n",
       "      <th>date</th>\n",
       "      <th>text</th>\n",
       "    </tr>\n",
       "  </thead>\n",
       "  <tbody>\n",
       "    <tr>\n",
       "      <th>0</th>\n",
       "      <td>George Washington</td>\n",
       "      <td>January 8, 1790</td>\n",
       "      <td>Fellow-Citizens of the Senate and House of Rep...</td>\n",
       "    </tr>\n",
       "    <tr>\n",
       "      <th>1</th>\n",
       "      <td>George Washington</td>\n",
       "      <td>December 8, 1790</td>\n",
       "      <td>Fellow-Citizens of the Senate and House of Rep...</td>\n",
       "    </tr>\n",
       "    <tr>\n",
       "      <th>2</th>\n",
       "      <td>George Washington</td>\n",
       "      <td>October 25, 1791</td>\n",
       "      <td>Fellow-Citizens of the Senate and House of Rep...</td>\n",
       "    </tr>\n",
       "    <tr>\n",
       "      <th>...</th>\n",
       "      <td>...</td>\n",
       "      <td>...</td>\n",
       "      <td>...</td>\n",
       "    </tr>\n",
       "    <tr>\n",
       "      <th>229</th>\n",
       "      <td>Donald J. Trump</td>\n",
       "      <td>February 4, 2020</td>\n",
       "      <td>Thank you very much. Thank you. Thank you very...</td>\n",
       "    </tr>\n",
       "    <tr>\n",
       "      <th>230</th>\n",
       "      <td>Joseph R. Biden, Jr.</td>\n",
       "      <td>April 28, 2021</td>\n",
       "      <td>Thank you. Thank you. Thank you. Good to be ba...</td>\n",
       "    </tr>\n",
       "    <tr>\n",
       "      <th>231</th>\n",
       "      <td>Joseph R. Biden, Jr.</td>\n",
       "      <td>March 1, 2022</td>\n",
       "      <td>Madam Speaker, Madam Vice President, our First...</td>\n",
       "    </tr>\n",
       "  </tbody>\n",
       "</table>\n",
       "<p>232 rows × 3 columns</p>\n",
       "</div>"
      ],
      "text/plain": [
       "                       name              date  \\\n",
       "0         George Washington   January 8, 1790   \n",
       "1         George Washington  December 8, 1790   \n",
       "2         George Washington  October 25, 1791   \n",
       "..                      ...               ...   \n",
       "229       Donald J. Trump    February 4, 2020   \n",
       "230  Joseph R. Biden, Jr.      April 28, 2021   \n",
       "231  Joseph R. Biden, Jr.       March 1, 2022   \n",
       "\n",
       "                                                  text  \n",
       "0    Fellow-Citizens of the Senate and House of Rep...  \n",
       "1    Fellow-Citizens of the Senate and House of Rep...  \n",
       "2    Fellow-Citizens of the Senate and House of Rep...  \n",
       "..                                                 ...  \n",
       "229  Thank you very much. Thank you. Thank you very...  \n",
       "230  Thank you. Thank you. Thank you. Good to be ba...  \n",
       "231  Madam Speaker, Madam Vice President, our First...  \n",
       "\n",
       "[232 rows x 3 columns]"
      ]
     },
     "execution_count": 5,
     "metadata": {},
     "output_type": "execute_result"
    }
   ],
   "source": [
    "def extract_parts(speech):\n",
    "    speech = speech.strip().split('\\n')[1:]\n",
    "    [name, date, *lines] = speech\n",
    "    body = '\\n'.join(lines).strip()\n",
    "    return [name, date, body]\n",
    "\n",
    "def read_speeches():\n",
    "    return pd.DataFrame([extract_parts(l) for l in records[1:]],\n",
    "                        columns = [\"name\", \"date\", \"text\"])\n",
    "\n",
    "df = read_speeches()\n",
    "df"
   ]
  },
  {
   "cell_type": "markdown",
   "metadata": {
    "user_expressions": []
   },
   "source": [
    "Now that we have the speeches loaded into a data frame, we want to transform the speeches to see how they have changed over time.\n",
    "Our basic idea is to look at the words in the speeches---if two speeches\n",
    "contain very different words, our analysis should tell us that.\n",
    "With some kind of measure of document similarity, we can see how the speeches differ from one another."
   ]
  },
  {
   "cell_type": "markdown",
   "metadata": {
    "user_expressions": []
   },
   "source": [
    "There are a few problems in the documents that we need to take care of first:\n",
    "\n",
    "* Capitalization shouldn't matter: `Citizens` and `citizens` should be\n",
    "   considered the same word. We can address this by lowercasing the text.\n",
    "* There are unspoken remarks in the text: `[laughter]` points out where the\n",
    "   audience laughed, but these shouldn't count as part of the speech.\n",
    "   We can address this by using a regex to remove text within\n",
    "   brackets: `\\[[^\\]]+\\]`. Remember that `\\[` and `\\]` match\n",
    "   the literal left and right brackets, and `[^\\]]` matches any character that\n",
    "   isn't a right bracket.\n",
    "* We should take out characters that aren't letters or whitespace: some \n",
    "   speeches talk about finances, but a dollar amount shouldn't count as\n",
    "   a word. We can use the regex `[^a-z\\s]` to remove these characters.\n",
    "   This regex matches any character that isn't a lowercase letter\n",
    "   (`a-z`) or a whitespace character (`\\s`)."
   ]
  },
  {
   "cell_type": "code",
   "execution_count": 6,
   "metadata": {
    "tags": []
   },
   "outputs": [
    {
     "data": {
      "text/html": [
       "<div>\n",
       "<style scoped>\n",
       "    .dataframe tbody tr th:only-of-type {\n",
       "        vertical-align: middle;\n",
       "    }\n",
       "\n",
       "    .dataframe tbody tr th {\n",
       "        vertical-align: top;\n",
       "    }\n",
       "\n",
       "    .dataframe thead th {\n",
       "        text-align: right;\n",
       "    }\n",
       "</style>\n",
       "<table border=\"1\" class=\"dataframe\">\n",
       "  <thead>\n",
       "    <tr style=\"text-align: right;\">\n",
       "      <th></th>\n",
       "      <th>name</th>\n",
       "      <th>date</th>\n",
       "      <th>text</th>\n",
       "    </tr>\n",
       "  </thead>\n",
       "  <tbody>\n",
       "    <tr>\n",
       "      <th>0</th>\n",
       "      <td>George Washington</td>\n",
       "      <td>January 8, 1790</td>\n",
       "      <td>fellow citizens of the senate and house of rep...</td>\n",
       "    </tr>\n",
       "    <tr>\n",
       "      <th>1</th>\n",
       "      <td>George Washington</td>\n",
       "      <td>December 8, 1790</td>\n",
       "      <td>fellow citizens of the senate and house of rep...</td>\n",
       "    </tr>\n",
       "    <tr>\n",
       "      <th>2</th>\n",
       "      <td>George Washington</td>\n",
       "      <td>October 25, 1791</td>\n",
       "      <td>fellow citizens of the senate and house of rep...</td>\n",
       "    </tr>\n",
       "    <tr>\n",
       "      <th>...</th>\n",
       "      <td>...</td>\n",
       "      <td>...</td>\n",
       "      <td>...</td>\n",
       "    </tr>\n",
       "    <tr>\n",
       "      <th>229</th>\n",
       "      <td>Donald J. Trump</td>\n",
       "      <td>February 4, 2020</td>\n",
       "      <td>thank you very much  thank you  thank you very...</td>\n",
       "    </tr>\n",
       "    <tr>\n",
       "      <th>230</th>\n",
       "      <td>Joseph R. Biden, Jr.</td>\n",
       "      <td>April 28, 2021</td>\n",
       "      <td>thank you  thank you  thank you  good to be ba...</td>\n",
       "    </tr>\n",
       "    <tr>\n",
       "      <th>231</th>\n",
       "      <td>Joseph R. Biden, Jr.</td>\n",
       "      <td>March 1, 2022</td>\n",
       "      <td>madam speaker  madam vice president  our first...</td>\n",
       "    </tr>\n",
       "  </tbody>\n",
       "</table>\n",
       "<p>232 rows × 3 columns</p>\n",
       "</div>"
      ],
      "text/plain": [
       "                       name              date  \\\n",
       "0         George Washington   January 8, 1790   \n",
       "1         George Washington  December 8, 1790   \n",
       "2         George Washington  October 25, 1791   \n",
       "..                      ...               ...   \n",
       "229       Donald J. Trump    February 4, 2020   \n",
       "230  Joseph R. Biden, Jr.      April 28, 2021   \n",
       "231  Joseph R. Biden, Jr.       March 1, 2022   \n",
       "\n",
       "                                                  text  \n",
       "0    fellow citizens of the senate and house of rep...  \n",
       "1    fellow citizens of the senate and house of rep...  \n",
       "2    fellow citizens of the senate and house of rep...  \n",
       "..                                                 ...  \n",
       "229  thank you very much  thank you  thank you very...  \n",
       "230  thank you  thank you  thank you  good to be ba...  \n",
       "231  madam speaker  madam vice president  our first...  \n",
       "\n",
       "[232 rows x 3 columns]"
      ]
     },
     "execution_count": 6,
     "metadata": {},
     "output_type": "execute_result"
    }
   ],
   "source": [
    "def clean_text(df):\n",
    "    bracket_re = re.compile(r'\\[[^\\]]+\\]')\n",
    "    not_a_word_re = re.compile(r'[^a-z\\s]')\n",
    "    cleaned = (df['text'].str.lower()\n",
    "               .str.replace(bracket_re, '', regex=True)\n",
    "               .str.replace(not_a_word_re, ' ', regex=True))\n",
    "    return df.assign(text=cleaned)\n",
    "\n",
    "df = (read_speeches()\n",
    "      .pipe(clean_text))\n",
    "df"
   ]
  },
  {
   "cell_type": "markdown",
   "metadata": {
    "user_expressions": []
   },
   "source": [
    "Next, we look at some more complex issues:\n",
    "\n",
    "* *Stop words* like `is`, `and`, `the`, and `but` appear so often that we\n",
    "   would like to just remove them.\n",
    "* `argue` and `arguing` should count as the same word,\n",
    "   even though they appear differently in the text. To address this,\n",
    "   we'll use *word stemming*, which transforms both words to `argu`."
   ]
  },
  {
   "cell_type": "markdown",
   "metadata": {
    "user_expressions": []
   },
   "source": [
    "To handle these issues, we can use built-in methods from [the `nltk` library][nltk].\n",
    "\n",
    "[nltk]: https://www.nltk.org/"
   ]
  },
  {
   "cell_type": "markdown",
   "metadata": {
    "user_expressions": []
   },
   "source": [
    "Finally, we transform the speeches into *word vectors*.\n",
    "A word vector represents a document using a vector of numbers.\n",
    "For example, one basic type of word vector counts up how many times\n",
    "each word appears in the text, as depicted in\n",
    "{numref}`Figure %s <fig:word-vectors>`."
   ]
  },
  {
   "cell_type": "markdown",
   "metadata": {
    "user_expressions": []
   },
   "source": [
    "```{figure} figures/word-vectors.svg\n",
    "---\n",
    "name: fig:word-vectors\n",
    "---\n",
    "\n",
    "Bag-of-words vectors for three small example documents\n",
    "```"
   ]
  },
  {
   "cell_type": "markdown",
   "metadata": {
    "user_expressions": []
   },
   "source": [
    "This simple transform is called _bag-of-words_, and we apply it on all of our speeches. \n",
    "Then we calculate the *term frequency-inverse document frequency* (_tf-idf_ for short) to\n",
    "normalize the counts and measure the rareness of a word.\n",
    "The tf-idf puts more weight on words that only appear in a few documents.\n",
    "The idea is that if just a few documents mention the word _sanction_, say, then\n",
    "this word is extra useful for distinguishing documents from each other.\n",
    "[The `scikit-learn` library][sklearn] has a complete\n",
    "description of the transform and an implementation, which we use.\n",
    "\n",
    "[sklearn]: https://scikit-learn.org/stable/modules/feature_extraction.html#tfidf-term-weighting"
   ]
  },
  {
   "cell_type": "code",
   "execution_count": null,
   "metadata": {},
   "outputs": [],
   "source": []
  },
  {
   "cell_type": "markdown",
   "metadata": {
    "user_expressions": []
   },
   "source": [
    "After applying these transforms, we have a two-dimensional array\n",
    "`speech_vectors`. Each row of this array is one speech transformed into a \n",
    "vector:"
   ]
  },
  {
   "cell_type": "code",
   "execution_count": 7,
   "metadata": {
    "tags": [
     "remove-output"
    ]
   },
   "outputs": [
    {
     "name": "stderr",
     "output_type": "stream",
     "text": [
      "[nltk_data] Downloading package stopwords to /Users/sam/nltk_data...\n",
      "[nltk_data]   Package stopwords is already up-to-date!\n",
      "[nltk_data] Downloading package punkt to /Users/sam/nltk_data...\n",
      "[nltk_data]   Package punkt is already up-to-date!\n",
      "/Users/sam/mambaforge/envs/textbook-test2/lib/python3.10/site-packages/sklearn/feature_extraction/text.py:525: UserWarning:\n",
      "\n",
      "The parameter 'token_pattern' will not be used since 'tokenizer' is not None'\n",
      "\n"
     ]
    }
   ],
   "source": [
    "import nltk\n",
    "nltk.download('stopwords')\n",
    "nltk.download('punkt')\n",
    "\n",
    "from nltk.stem.porter import PorterStemmer\n",
    "from sklearn.feature_extraction.text import TfidfVectorizer\n",
    "\n",
    "stop_words = set(nltk.corpus.stopwords.words('english'))\n",
    "porter_stemmer = PorterStemmer()\n",
    "\n",
    "def stemming_tokenizer(document):\n",
    "    return [porter_stemmer.stem(word)\n",
    "            for word in nltk.word_tokenize(document)\n",
    "            if word not in stop_words]\n",
    "\n",
    "tfidf = TfidfVectorizer(tokenizer=stemming_tokenizer)\n",
    "speech_vectors = tfidf.fit_transform(df['text'])"
   ]
  },
  {
   "cell_type": "code",
   "execution_count": 8,
   "metadata": {},
   "outputs": [
    {
     "data": {
      "text/plain": [
       "(232, 13211)"
      ]
     },
     "execution_count": 8,
     "metadata": {},
     "output_type": "execute_result"
    }
   ],
   "source": [
    "speech_vectors.shape"
   ]
  },
  {
   "cell_type": "markdown",
   "metadata": {
    "user_expressions": []
   },
   "source": [
    "We have 232 speeches, and each speech was transformed into a\n",
    "length-13,211 vector.\n",
    "To visualize these speeches, we use a technique called\n",
    "*principal component analysis* to represent the data table of 13211 features\n",
    "by a new set of features that are orthogonal to one another. The first vector accounts for \n",
    "the maximum variation in the original features, the second for the maximum variance that is orthogonal to the first, and so on.\n",
    "Often the first two components, which we can plot as pairs of points, reveal clusters and outliers.\n",
    "\n",
    "Next, we plot the first two principal components. Each point is one speech, and we've colored the points\n",
    "according to the year of the speech.\n",
    "Points that are close together represent similar speeches, and\n",
    "points that are far away from one another represent dissimilar speeches:"
   ]
  },
  {
   "cell_type": "code",
   "execution_count": 9,
   "metadata": {
    "tags": [
     "hide-cell"
    ]
   },
   "outputs": [],
   "source": [
    "from scipy.sparse.linalg import svds\n",
    "\n",
    "def compute_pcs(data, k):\n",
    "    centered = data - data.mean(axis=0)\n",
    "    U, s, Vt = svds(centered, k=k)\n",
    "    return U @ np.diag(s)\n",
    "\n",
    "# Setting the random seed doesn't affect svds(), so re-running this code\n",
    "# might flip the points along the x or y-axes.\n",
    "pcs = compute_pcs(speech_vectors, k=2)\n",
    "\n",
    "# So we use a hack: we make sure the first row's PCs are both positive to get\n",
    "# the same plot each time.\n",
    "if pcs[0, 0] < 0:\n",
    "    pcs[:, 0] *= -1\n",
    "if pcs[0, 1] < 0:\n",
    "    pcs[:, 1] *= -1\n",
    "\n",
    "with_pcs1 = df.assign(year=df['date'].str[-4:].astype(int),\n",
    "                      pc1=pcs[:, 0], pc2=pcs[:, 1])"
   ]
  },
  {
   "cell_type": "code",
   "execution_count": 18,
   "metadata": {
    "tags": [
     "hide-cell"
    ]
   },
   "outputs": [],
   "source": [
    "fig = px.scatter(with_pcs1, x='pc1', y='pc2', color='year',\n",
    "           hover_data=['name'],\n",
    "           width=550, height=350)\n",
    "fig.update_layout(coloraxis_colorbar_thickness=15,\n",
    "                  coloraxis_colorbar_title='Year')\n",
    "fig.write_image('figures/sotu_pca.png')"
   ]
  },
  {
   "cell_type": "code",
   "execution_count": 19,
   "metadata": {
    "tags": [
     "remove-input"
    ]
   },
   "outputs": [
    {
     "data": {
      "image/png": "[encoded data removed]",
      "text/plain": [
       "<IPython.core.display.Image object>"
      ]
     },
     "metadata": {},
     "output_type": "display_data"
    }
   ],
   "source": [
    "# The colorbar for the above doesn't render in the PDF properly, so we save the\n",
    "# plot to a file.\n",
    "from IPython.display import display, Image\n",
    "display(Image(filename='figures/sotu_pca.png'))"
   ]
  },
  {
   "cell_type": "markdown",
   "metadata": {
    "user_expressions": []
   },
   "source": [
    "We see a clear difference in speeches over time---speeches given in the 1800s\n",
    "used very different words than speeches given after 2000.\n",
    "It's also interesting to see that the speeches cluster tightly in the same\n",
    "time period.\n",
    "This suggests that speeches within the same period\n",
    "sound relatively similar, even though the speakers were from\n",
    "different political parties."
   ]
  },
  {
   "cell_type": "markdown",
   "metadata": {
    "tags": [],
    "user_expressions": []
   },
   "source": [
    "This section gave a whirlwind introduction to text analysis.\n",
    "We used text manipulation tools from previous sections to clean up the\n",
    "presidential speeches.\n",
    "Then we used more advanced techniques like stemming,\n",
    "the tf-idf transform, and principal component analysis to compare speeches.\n",
    "Although we don't have enough space in this book\n",
    "to cover all of these techniques in detail, we hope that this section\n",
    "piqued your interest in the exciting world of text analysis."
   ]
  }
 ],
 "metadata": {
  "colab": {
   "collapsed_sections": [
    "RTJu-FQY3AIp",
    "TrPjIHHD8rOC"
   ],
   "default_view": {},
   "name": "working_with_text.ipynb",
   "provenance": [],
   "version": "0.3.2",
   "views": {}
  },
  "kernelspec": {
   "display_name": "Python 3 (ipykernel)",
   "language": "python",
   "name": "python3"
  },
  "language_info": {
   "codemirror_mode": {
    "name": "ipython",
    "version": 3
   },
   "file_extension": ".py",
   "mimetype": "text/x-python",
   "name": "python",
   "nbconvert_exporter": "python",
   "pygments_lexer": "ipython3",
   "version": "3.10.12"
  },
  "toc": {
   "nav_menu": {},
   "number_sections": false,
   "sideBar": false,
   "skip_h1_title": false,
   "title_cell": "Table of Contents",
   "title_sidebar": "Contents",
   "toc_cell": true,
   "toc_position": {},
   "toc_section_display": true,
   "toc_window_display": false
  }
 },
 "nbformat": 4,
 "nbformat_minor": 4
}
