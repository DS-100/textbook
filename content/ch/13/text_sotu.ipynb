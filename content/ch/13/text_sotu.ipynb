{
 "cells": [
  {
   "cell_type": "code",
   "execution_count": 1,
   "metadata": {
    "tags": [
     "remove-cell"
    ]
   },
   "outputs": [],
   "source": [
    "import sys\n",
    "import os\n",
    "if not any(path.endswith('textbook') for path in sys.path):\n",
    "    sys.path.append(os.path.abspath('../../..'))\n",
    "from textbook_utils import *"
   ]
  },
  {
   "cell_type": "markdown",
   "metadata": {},
   "source": [
    "# Text Analysis\n",
    "\n",
    "So far, we've used Python methods and regular expressions to clean short\n",
    "text fields and strings.\n",
    "In this section, we'll analyze entire documents using a technique called\n",
    "*text mining*, which transforms free-form text into \n",
    "a quantitative representation\n",
    "to uncover meaningful patterns and insights.\n",
    "\n",
    "Text mining is a deep topic. Instead of a comprehensive treatment, we'll\n",
    "introduce a few key ideas \n",
    "through an example.\n",
    "In this section, we analyze the State of the Union speeches from 1790 to 2022. \n",
    "Every year, the US president gives a State of the Union speech to Congress.\n",
    "These speeches talk about current events in the country and\n",
    "make recommendations for Congress to consider.\n",
    "The American Presidency Project makes these speeches available online [^APP].\n",
    "\n",
    "[^APP]: https://www.presidency.ucsb.edu/"
   ]
  },
  {
   "cell_type": "markdown",
   "metadata": {},
   "source": [
    "We'll start by opening the file that has all of the speeches."
   ]
  },
  {
   "cell_type": "code",
   "execution_count": 2,
   "metadata": {
    "colab": {
     "autoexec": {
      "startup": false,
      "wait_interval": 0
     },
     "base_uri": "https://localhost:8080/",
     "height": 34
    },
    "colab_type": "code",
    "executionInfo": {
     "elapsed": 303,
     "status": "ok",
     "timestamp": 1524681067395,
     "user": {
      "displayName": "Andrew Kim",
      "photoUrl": "https://lh3.googleusercontent.com/a/default-user=s128",
      "userId": "109388192039284916411"
     },
     "user_tz": 420
    },
    "id": "n6NNGiO93AKJ",
    "outputId": "6248e853-8c58-4362-9004-a5028c7e5218"
   },
   "outputs": [],
   "source": [
    "from pathlib import Path\n",
    "\n",
    "with Path('data/stateoftheunion1790-2022.txt').open(mode=\"r\") as f:\n",
    "    text = f.read()"
   ]
  },
  {
   "cell_type": "markdown",
   "metadata": {},
   "source": [
    "Earlier in the chapter, we saw that each speech in the data begins with \n",
    "a line with three asterisks: `***`.\n",
    "We can use a regular expression to count the number of times the\n",
    "string `***` appears."
   ]
  },
  {
   "cell_type": "code",
   "execution_count": 3,
   "metadata": {},
   "outputs": [
    {
     "name": "stdout",
     "output_type": "stream",
     "text": [
      "There are 232 speeches total\n"
     ]
    }
   ],
   "source": [
    "import re\n",
    "num_speeches = len(re.findall(r\"\\*\\*\\*\", text))\n",
    "print(f'There are {num_speeches} speeches total')"
   ]
  },
  {
   "cell_type": "markdown",
   "metadata": {},
   "source": [
    "In text analysis, a *document* refers to a single piece of text that we want\n",
    "to analyze. Here, each speech is a document.\n",
    "We'll split apart the `text` variable into its individual documents."
   ]
  },
  {
   "cell_type": "code",
   "execution_count": 4,
   "metadata": {},
   "outputs": [],
   "source": [
    "records = text.split(\"***\")"
   ]
  },
  {
   "cell_type": "markdown",
   "metadata": {},
   "source": [
    "Then, we can put the speeches into a dataframe:"
   ]
  },
  {
   "cell_type": "code",
   "execution_count": 5,
   "metadata": {
    "tags": [
     "hide-input"
    ]
   },
   "outputs": [
    {
     "data": {
      "text/html": [
       "<div>\n",
       "<style scoped>\n",
       "    .dataframe tbody tr th:only-of-type {\n",
       "        vertical-align: middle;\n",
       "    }\n",
       "\n",
       "    .dataframe tbody tr th {\n",
       "        vertical-align: top;\n",
       "    }\n",
       "\n",
       "    .dataframe thead th {\n",
       "        text-align: right;\n",
       "    }\n",
       "</style>\n",
       "<table border=\"1\" class=\"dataframe\">\n",
       "  <thead>\n",
       "    <tr style=\"text-align: right;\">\n",
       "      <th></th>\n",
       "      <th>name</th>\n",
       "      <th>date</th>\n",
       "      <th>text</th>\n",
       "    </tr>\n",
       "  </thead>\n",
       "  <tbody>\n",
       "    <tr>\n",
       "      <th>0</th>\n",
       "      <td>George Washington</td>\n",
       "      <td>January 8, 1790</td>\n",
       "      <td>Fellow-Citizens of the Senate and House of Rep...</td>\n",
       "    </tr>\n",
       "    <tr>\n",
       "      <th>1</th>\n",
       "      <td>George Washington</td>\n",
       "      <td>December 8, 1790</td>\n",
       "      <td>Fellow-Citizens of the Senate and House of Rep...</td>\n",
       "    </tr>\n",
       "    <tr>\n",
       "      <th>2</th>\n",
       "      <td>George Washington</td>\n",
       "      <td>October 25, 1791</td>\n",
       "      <td>Fellow-Citizens of the Senate and House of Rep...</td>\n",
       "    </tr>\n",
       "    <tr>\n",
       "      <th>...</th>\n",
       "      <td>...</td>\n",
       "      <td>...</td>\n",
       "      <td>...</td>\n",
       "    </tr>\n",
       "    <tr>\n",
       "      <th>229</th>\n",
       "      <td>Donald J. Trump</td>\n",
       "      <td>February 4, 2020</td>\n",
       "      <td>Thank you very much. Thank you. Thank you very...</td>\n",
       "    </tr>\n",
       "    <tr>\n",
       "      <th>230</th>\n",
       "      <td>Joseph R. Biden, Jr.</td>\n",
       "      <td>April 28, 2021</td>\n",
       "      <td>Thank you. Thank you. Thank you. Good to be ba...</td>\n",
       "    </tr>\n",
       "    <tr>\n",
       "      <th>231</th>\n",
       "      <td>Joseph R. Biden, Jr.</td>\n",
       "      <td>March 1, 2022</td>\n",
       "      <td>Madam Speaker, Madam Vice President, our First...</td>\n",
       "    </tr>\n",
       "  </tbody>\n",
       "</table>\n",
       "<p>232 rows × 3 columns</p>\n",
       "</div>"
      ],
      "text/plain": [
       "                       name              date  \\\n",
       "0         George Washington   January 8, 1790   \n",
       "1         George Washington  December 8, 1790   \n",
       "2         George Washington  October 25, 1791   \n",
       "..                      ...               ...   \n",
       "229       Donald J. Trump    February 4, 2020   \n",
       "230  Joseph R. Biden, Jr.      April 28, 2021   \n",
       "231  Joseph R. Biden, Jr.       March 1, 2022   \n",
       "\n",
       "                                                  text  \n",
       "0    Fellow-Citizens of the Senate and House of Rep...  \n",
       "1    Fellow-Citizens of the Senate and House of Rep...  \n",
       "2    Fellow-Citizens of the Senate and House of Rep...  \n",
       "..                                                 ...  \n",
       "229  Thank you very much. Thank you. Thank you very...  \n",
       "230  Thank you. Thank you. Thank you. Good to be ba...  \n",
       "231  Madam Speaker, Madam Vice President, our First...  \n",
       "\n",
       "[232 rows x 3 columns]"
      ]
     },
     "execution_count": 5,
     "metadata": {},
     "output_type": "execute_result"
    }
   ],
   "source": [
    "def extract_parts(speech):\n",
    "    speech = speech.strip().split('\\n')[1:]\n",
    "    [name, date, *lines] = speech\n",
    "    body = '\\n'.join(lines).strip()\n",
    "    return [name, date, body]\n",
    "\n",
    "def read_speeches():\n",
    "    return pd.DataFrame([extract_parts(l) for l in records[1:]],\n",
    "                        columns = [\"name\", \"date\", \"text\"])\n",
    "\n",
    "df = read_speeches()\n",
    "df"
   ]
  },
  {
   "cell_type": "markdown",
   "metadata": {},
   "source": [
    "## How Have the Speeches Changed Over Time?"
   ]
  },
  {
   "cell_type": "markdown",
   "metadata": {},
   "source": [
    "Now that we have the speeches loaded into a dataframe, we want to write \n",
    "a program that can help us see how the speeches have changed\n",
    "over time.\n",
    "Our basic idea is to look at the words in the speeches---if two speeches\n",
    "included a very different set of words, our program should tell us that the\n",
    "speeches are very different.\n",
    "If we have a measure of similarity, we can see how the speeches have\n",
    "become different over time."
   ]
  },
  {
   "cell_type": "markdown",
   "metadata": {},
   "source": [
    "There are few problems in the data that we need to take care of first:\n",
    "\n",
    "1. Capitalization shouldn't matter: `Citizens` and `citizens` should be\n",
    "   considered the same word. We can address this by lowercasing the text.\n",
    "1. There are unspoken remarks in the text: `[laughter]` points out where the\n",
    "   audience laughed, but these shouldn't count as part of the speech.\n",
    "   We can address this by using a regex to remove text within\n",
    "   brackets: `\\[[^\\]]+\\]`. Remember that `\\[` and `\\]` match\n",
    "   the literal left and right brackets, and `[^\\]]` matches any character that\n",
    "   isn't a right bracket.\n",
    "1. We should take out characters that aren't letters or whitespace: some \n",
    "   speeches talk about finances, but a dollar amount shouldn't count as\n",
    "   a word. We can use the regex `[^a-z\\s]` to remove these characters.\n",
    "   This regex matches any character that isn't a lowercase letter\n",
    "   (`a-z`) or a whitespace character (`\\s`)."
   ]
  },
  {
   "cell_type": "code",
   "execution_count": 6,
   "metadata": {
    "tags": [
     "hide-input"
    ]
   },
   "outputs": [
    {
     "data": {
      "text/html": [
       "<div>\n",
       "<style scoped>\n",
       "    .dataframe tbody tr th:only-of-type {\n",
       "        vertical-align: middle;\n",
       "    }\n",
       "\n",
       "    .dataframe tbody tr th {\n",
       "        vertical-align: top;\n",
       "    }\n",
       "\n",
       "    .dataframe thead th {\n",
       "        text-align: right;\n",
       "    }\n",
       "</style>\n",
       "<table border=\"1\" class=\"dataframe\">\n",
       "  <thead>\n",
       "    <tr style=\"text-align: right;\">\n",
       "      <th></th>\n",
       "      <th>name</th>\n",
       "      <th>date</th>\n",
       "      <th>text</th>\n",
       "    </tr>\n",
       "  </thead>\n",
       "  <tbody>\n",
       "    <tr>\n",
       "      <th>0</th>\n",
       "      <td>George Washington</td>\n",
       "      <td>January 8, 1790</td>\n",
       "      <td>fellow citizens of the senate and house of rep...</td>\n",
       "    </tr>\n",
       "    <tr>\n",
       "      <th>1</th>\n",
       "      <td>George Washington</td>\n",
       "      <td>December 8, 1790</td>\n",
       "      <td>fellow citizens of the senate and house of rep...</td>\n",
       "    </tr>\n",
       "    <tr>\n",
       "      <th>2</th>\n",
       "      <td>George Washington</td>\n",
       "      <td>October 25, 1791</td>\n",
       "      <td>fellow citizens of the senate and house of rep...</td>\n",
       "    </tr>\n",
       "    <tr>\n",
       "      <th>...</th>\n",
       "      <td>...</td>\n",
       "      <td>...</td>\n",
       "      <td>...</td>\n",
       "    </tr>\n",
       "    <tr>\n",
       "      <th>229</th>\n",
       "      <td>Donald J. Trump</td>\n",
       "      <td>February 4, 2020</td>\n",
       "      <td>thank you very much  thank you  thank you very...</td>\n",
       "    </tr>\n",
       "    <tr>\n",
       "      <th>230</th>\n",
       "      <td>Joseph R. Biden, Jr.</td>\n",
       "      <td>April 28, 2021</td>\n",
       "      <td>thank you  thank you  thank you  good to be ba...</td>\n",
       "    </tr>\n",
       "    <tr>\n",
       "      <th>231</th>\n",
       "      <td>Joseph R. Biden, Jr.</td>\n",
       "      <td>March 1, 2022</td>\n",
       "      <td>madam speaker  madam vice president  our first...</td>\n",
       "    </tr>\n",
       "  </tbody>\n",
       "</table>\n",
       "<p>232 rows × 3 columns</p>\n",
       "</div>"
      ],
      "text/plain": [
       "                       name              date  \\\n",
       "0         George Washington   January 8, 1790   \n",
       "1         George Washington  December 8, 1790   \n",
       "2         George Washington  October 25, 1791   \n",
       "..                      ...               ...   \n",
       "229       Donald J. Trump    February 4, 2020   \n",
       "230  Joseph R. Biden, Jr.      April 28, 2021   \n",
       "231  Joseph R. Biden, Jr.       March 1, 2022   \n",
       "\n",
       "                                                  text  \n",
       "0    fellow citizens of the senate and house of rep...  \n",
       "1    fellow citizens of the senate and house of rep...  \n",
       "2    fellow citizens of the senate and house of rep...  \n",
       "..                                                 ...  \n",
       "229  thank you very much  thank you  thank you very...  \n",
       "230  thank you  thank you  thank you  good to be ba...  \n",
       "231  madam speaker  madam vice president  our first...  \n",
       "\n",
       "[232 rows x 3 columns]"
      ]
     },
     "execution_count": 6,
     "metadata": {},
     "output_type": "execute_result"
    }
   ],
   "source": [
    "def clean_text(df):\n",
    "    bracket_re = re.compile(r'\\[[^\\]]+\\]')\n",
    "    not_a_word_re = re.compile(r'[^a-z\\s]')\n",
    "    cleaned = (df['text'].str.lower()\n",
    "               .str.replace(bracket_re, '')\n",
    "               .str.replace(not_a_word_re, ' '))\n",
    "    return df.assign(text=cleaned)\n",
    "\n",
    "df = (read_speeches()\n",
    "      .pipe(clean_text))\n",
    "df"
   ]
  },
  {
   "cell_type": "markdown",
   "metadata": {},
   "source": [
    "Next, we'll look at some more complex issues:\n",
    "\n",
    "1. *Stop words* like `is`, `and`, `the`, and `but` appear so often that we\n",
    "   should just remove them.\n",
    "1. `argue` and `arguing` should count as the same word,\n",
    "   even though they appear different in the text. To address this,\n",
    "   we'll use *word stemming*, which transforms both words to `argu`."
   ]
  },
  {
   "cell_type": "markdown",
   "metadata": {},
   "source": [
    "To handle these issues, we'll use built-in methods from \n",
    "[the `nltk` library][nltk].\n",
    "\n",
    "[nltk]: https://www.nltk.org/"
   ]
  },
  {
   "cell_type": "markdown",
   "metadata": {},
   "source": [
    "Finally, we'll transform the speeches into *word vectors*.\n",
    "A word vector represents a document using a vector of numbers.\n",
    "For example, one basic type of word vector counts up how many times\n",
    "each word appears in the text, as depicted in\n",
    "{numref}`Figure %s <fig:word-vectors>`."
   ]
  },
  {
   "cell_type": "markdown",
   "metadata": {},
   "source": [
    "```{figure} figures/word-vectors.svg\n",
    "---\n",
    "name: fig:word-vectors\n",
    "---\n",
    "\n",
    "Bag-of-words vectors for three small example documents.\n",
    "```"
   ]
  },
  {
   "cell_type": "markdown",
   "metadata": {},
   "source": [
    "This simple transform is called bag-of-words, and we'll apply it\n",
    "on all of our speeches. \n",
    "Then, we'll use a statistic called \n",
    "*term frequency-inverse document frequency* (tf-idf for short) to\n",
    "normalize the counts.\n",
    "This technique puts more weight on words that only appear in a few documents.\n",
    "The idea is that if only a few documents mention the word `sanction`,\n",
    "this word is extra useful for distinguishing documents from each other.\n",
    "[The scikit-learn library][sklearn] has a complete\n",
    "description of the transform and an implementation we'll use.\n",
    "\n",
    "[sklearn]: https://scikit-learn.org/stable/modules/feature_extraction.html#tfidf-term-weighting"
   ]
  },
  {
   "cell_type": "markdown",
   "metadata": {},
   "source": [
    "After applying these transforms, we have a 2-dimensional array\n",
    "`speech_vectors`. Each row of this array is one speech transformed into a \n",
    "vector."
   ]
  },
  {
   "cell_type": "code",
   "execution_count": 7,
   "metadata": {
    "tags": [
     "hide-input"
    ]
   },
   "outputs": [],
   "source": [
    "import nltk\n",
    "from nltk.stem.porter import PorterStemmer\n",
    "from sklearn.feature_extraction.text import TfidfVectorizer\n",
    "\n",
    "stop_words = set(nltk.corpus.stopwords.words('english'))\n",
    "porter_stemmer = PorterStemmer()\n",
    "\n",
    "def stemming_tokenizer(document):\n",
    "    return [porter_stemmer.stem(word)\n",
    "            for word in nltk.word_tokenize(document)\n",
    "            if word not in stop_words]\n",
    "    return words\n",
    "\n",
    "tfidf = TfidfVectorizer(tokenizer=stemming_tokenizer)\n",
    "speech_vectors = tfidf.fit_transform(df['text'])"
   ]
  },
  {
   "cell_type": "code",
   "execution_count": 8,
   "metadata": {},
   "outputs": [
    {
     "data": {
      "text/plain": [
       "(232, 13211)"
      ]
     },
     "execution_count": 8,
     "metadata": {},
     "output_type": "execute_result"
    }
   ],
   "source": [
    "speech_vectors.shape"
   ]
  },
  {
   "cell_type": "markdown",
   "metadata": {},
   "source": [
    "We have 232 speeches, and each speech was transformed into a\n",
    "length-13211 vector.\n",
    "To visualize these speeches, we'll use a technique called\n",
    "*principal component analysis* to compress the length-13211 vectors into\n",
    "length-2 vectors which we can put directly into a scatter plot.\n",
    "(We cover principal component analysis in detail in\n",
    "{numref}`Chapter %s <ch:pca>`.)\n",
    "\n",
    "In the plot below, each point is one speech. We've colored the points\n",
    "using the year of the speech.\n",
    "Points that are close together represent similar speeches, and\n",
    "points that are far away represent dissimilar speeches."
   ]
  },
  {
   "cell_type": "code",
   "execution_count": 100,
   "metadata": {
    "tags": [
     "hide-cell"
    ]
   },
   "outputs": [],
   "source": [
    "from scipy.sparse.linalg import svds\n",
    "\n",
    "def compute_pcs(data, k):\n",
    "    centered = data - data.mean(axis=0)\n",
    "    U, s, Vt = svds(centered, k=k)\n",
    "    return U @ np.diag(s)\n",
    "\n",
    "# Setting the random seed doesn't affect svds(), so re-running this code\n",
    "# might flip the points along the x or y-axes.\n",
    "pcs = compute_pcs(speech_vectors, k=2)\n",
    "\n",
    "# So we'll use a hack: we make sure the first row's PCs are both positive to get\n",
    "# the same plot each time.\n",
    "if pcs[0, 0] < 0:\n",
    "    pcs[:, 0] *= -1\n",
    "if pcs[0, 1] < 0:\n",
    "    pcs[:, 1] *= -1\n",
    "\n",
    "with_pcs1 = df.assign(year=df['date'].str[-4:].astype(int),\n",
    "                      pc1=pcs[:, 0], pc2=pcs[:, 1])"
   ]
  },
  {
   "cell_type": "code",
   "execution_count": 101,
   "metadata": {
    "tags": [
     "hide-input"
    ]
   },
   "outputs": [
    {
     "data": {
      "application/vnd.plotly.v1+json": {
       "config": {
        "plotlyServerURL": "https://plot.ly"
       },
       "data": [
        {
         "customdata": [
          [
           "George Washington"
          ],
          [
           "George Washington"
          ],
          [
           "George Washington"
          ],
          [
           "George Washington"
          ],
          [
           "George Washington"
          ],
          [
           "George Washington"
          ],
          [
           "George Washington"
          ],
          [
           "George Washington"
          ],
          [
           "John Adams"
          ],
          [
           "John Adams"
          ],
          [
           "John Adams"
          ],
          [
           "John Adams"
          ],
          [
           "Thomas Jefferson"
          ],
          [
           "Thomas Jefferson"
          ],
          [
           "Thomas Jefferson"
          ],
          [
           "Thomas Jefferson"
          ],
          [
           "Thomas Jefferson"
          ],
          [
           "Thomas Jefferson"
          ],
          [
           "Thomas Jefferson"
          ],
          [
           "Thomas Jefferson"
          ],
          [
           "James Madison"
          ],
          [
           "James Madison"
          ],
          [
           "James Madison"
          ],
          [
           "James Madison"
          ],
          [
           "James Madison"
          ],
          [
           "James Madison"
          ],
          [
           "James Madison"
          ],
          [
           "James Madison"
          ],
          [
           "James Monroe"
          ],
          [
           "James Monroe"
          ],
          [
           "James Monroe"
          ],
          [
           "James Monroe"
          ],
          [
           "James Monroe"
          ],
          [
           "James Monroe"
          ],
          [
           "James Monroe"
          ],
          [
           "James Monroe"
          ],
          [
           "John Quincy Adams"
          ],
          [
           "John Quincy Adams"
          ],
          [
           "John Quincy Adams"
          ],
          [
           "John Quincy Adams"
          ],
          [
           "Andrew Jackson"
          ],
          [
           "Andrew Jackson"
          ],
          [
           "Andrew Jackson"
          ],
          [
           "Andrew Jackson"
          ],
          [
           "Andrew Jackson"
          ],
          [
           "Andrew Jackson"
          ],
          [
           "Andrew Jackson"
          ],
          [
           "Andrew Jackson"
          ],
          [
           "Martin van Buren"
          ],
          [
           "Martin van Buren"
          ],
          [
           "Martin van Buren"
          ],
          [
           "Martin van Buren"
          ],
          [
           "John Tyler"
          ],
          [
           "John Tyler"
          ],
          [
           "John Tyler"
          ],
          [
           "John Tyler"
          ],
          [
           "James Polk"
          ],
          [
           "James Polk"
          ],
          [
           "James Polk"
          ],
          [
           "James Polk"
          ],
          [
           "Zachary Taylor"
          ],
          [
           "Millard Fillmore"
          ],
          [
           "Millard Fillmore"
          ],
          [
           "Millard Fillmore"
          ],
          [
           "Franklin Pierce"
          ],
          [
           "Franklin Pierce"
          ],
          [
           "Franklin Pierce"
          ],
          [
           "Franklin Pierce"
          ],
          [
           "James Buchanan"
          ],
          [
           "James Buchanan"
          ],
          [
           "James Buchanan"
          ],
          [
           "James Buchanan"
          ],
          [
           "Abraham Lincoln"
          ],
          [
           "Abraham Lincoln"
          ],
          [
           "Abraham Lincoln"
          ],
          [
           "Abraham Lincoln"
          ],
          [
           "Andrew Johnson"
          ],
          [
           "Andrew Johnson"
          ],
          [
           "Andrew Johnson"
          ],
          [
           "Andrew Johnson"
          ],
          [
           "Ulysses S. Grant"
          ],
          [
           "Ulysses S. Grant"
          ],
          [
           "Ulysses S. Grant"
          ],
          [
           "Ulysses S. Grant"
          ],
          [
           "Ulysses S. Grant"
          ],
          [
           "Ulysses S. Grant"
          ],
          [
           "Ulysses S. Grant"
          ],
          [
           "Ulysses S. Grant"
          ],
          [
           "Rutherford B. Hayes"
          ],
          [
           "Rutherford B. Hayes"
          ],
          [
           "Rutherford B. Hayes"
          ],
          [
           "Rutherford B. Hayes"
          ],
          [
           "Chester A. Arthur"
          ],
          [
           "Chester A. Arthur"
          ],
          [
           "Chester A. Arthur"
          ],
          [
           "Chester A. Arthur"
          ],
          [
           "Grover Cleveland"
          ],
          [
           "Grover Cleveland"
          ],
          [
           "Grover Cleveland"
          ],
          [
           "Grover Cleveland"
          ],
          [
           "Benjamin Harrison"
          ],
          [
           "Benjamin Harrison"
          ],
          [
           "Benjamin Harrison"
          ],
          [
           "Benjamin Harrison"
          ],
          [
           "William McKinley"
          ],
          [
           "William McKinley"
          ],
          [
           "William McKinley"
          ],
          [
           "William McKinley"
          ],
          [
           "Theodore Roosevelt"
          ],
          [
           "Theodore Roosevelt"
          ],
          [
           "Theodore Roosevelt"
          ],
          [
           "Theodore Roosevelt"
          ],
          [
           "Theodore Roosevelt"
          ],
          [
           "Theodore Roosevelt"
          ],
          [
           "Theodore Roosevelt"
          ],
          [
           "Theodore Roosevelt"
          ],
          [
           "William H. Taft"
          ],
          [
           "William H. Taft"
          ],
          [
           "William H. Taft"
          ],
          [
           "William H. Taft"
          ],
          [
           "Woodrow Wilson"
          ],
          [
           "Woodrow Wilson"
          ],
          [
           "Woodrow Wilson"
          ],
          [
           "Woodrow Wilson"
          ],
          [
           "Woodrow Wilson"
          ],
          [
           "Woodrow Wilson"
          ],
          [
           "Woodrow Wilson"
          ],
          [
           "Woodrow Wilson"
          ],
          [
           "Warren Harding"
          ],
          [
           "Warren Harding"
          ],
          [
           "Calvin Coolidge"
          ],
          [
           "Calvin Coolidge"
          ],
          [
           "Calvin Coolidge"
          ],
          [
           "Calvin Coolidge"
          ],
          [
           "Calvin Coolidge"
          ],
          [
           "Calvin Coolidge"
          ],
          [
           "Herbert Hoover"
          ],
          [
           "Herbert Hoover"
          ],
          [
           "Herbert Hoover"
          ],
          [
           "Herbert Hoover"
          ],
          [
           "Franklin D. Roosevelt"
          ],
          [
           "Franklin D. Roosevelt"
          ],
          [
           "Franklin D. Roosevelt"
          ],
          [
           "Franklin D. Roosevelt"
          ],
          [
           "Franklin D. Roosevelt"
          ],
          [
           "Franklin D. Roosevelt"
          ],
          [
           "Franklin D. Roosevelt"
          ],
          [
           "Franklin D. Roosevelt"
          ],
          [
           "Franklin D. Roosevelt"
          ],
          [
           "Franklin D. Roosevelt"
          ],
          [
           "Franklin D. Roosevelt"
          ],
          [
           "Franklin D. Roosevelt"
          ],
          [
           "Harry S. Truman"
          ],
          [
           "Harry S. Truman"
          ],
          [
           "Harry S. Truman"
          ],
          [
           "Harry S. Truman"
          ],
          [
           "Harry S. Truman"
          ],
          [
           "Harry S. Truman"
          ],
          [
           "Harry S. Truman"
          ],
          [
           "Harry S. Truman"
          ],
          [
           "Dwight D. Eisenhower"
          ],
          [
           "Dwight D. Eisenhower"
          ],
          [
           "Dwight D. Eisenhower"
          ],
          [
           "Dwight D. Eisenhower"
          ],
          [
           "Dwight D. Eisenhower"
          ],
          [
           "Dwight D. Eisenhower"
          ],
          [
           "Dwight D. Eisenhower"
          ],
          [
           "Dwight D. Eisenhower"
          ],
          [
           "Dwight D. Eisenhower"
          ],
          [
           "John F. Kennedy"
          ],
          [
           "John F. Kennedy"
          ],
          [
           "John F. Kennedy"
          ],
          [
           "Lyndon B. Johnson"
          ],
          [
           "Lyndon B. Johnson"
          ],
          [
           "Lyndon B. Johnson"
          ],
          [
           "Lyndon B. Johnson"
          ],
          [
           "Lyndon B. Johnson"
          ],
          [
           "Lyndon B. Johnson"
          ],
          [
           "Richard Nixon"
          ],
          [
           "Richard Nixon"
          ],
          [
           "Richard Nixon"
          ],
          [
           "Richard Nixon"
          ],
          [
           "Richard Nixon"
          ],
          [
           "Gerald R. Ford"
          ],
          [
           "Gerald R. Ford"
          ],
          [
           "Gerald R. Ford"
          ],
          [
           "Jimmy Carter"
          ],
          [
           "Jimmy Carter"
          ],
          [
           "Jimmy Carter"
          ],
          [
           "Jimmy Carter"
          ],
          [
           "Ronald Reagan"
          ],
          [
           "Ronald Reagan"
          ],
          [
           "Ronald Reagan"
          ],
          [
           "Ronald Reagan"
          ],
          [
           "Ronald Reagan"
          ],
          [
           "Ronald Reagan"
          ],
          [
           "Ronald Reagan"
          ],
          [
           "George H.W. Bush"
          ],
          [
           "George H.W. Bush"
          ],
          [
           "George H.W. Bush"
          ],
          [
           "George H.W. Bush"
          ],
          [
           "William J. Clinton"
          ],
          [
           "William J. Clinton"
          ],
          [
           "William J. Clinton"
          ],
          [
           "William J. Clinton"
          ],
          [
           "William J. Clinton"
          ],
          [
           "William J. Clinton"
          ],
          [
           "William J. Clinton"
          ],
          [
           "William J. Clinton"
          ],
          [
           "George W. Bush"
          ],
          [
           "George W. Bush"
          ],
          [
           "George W. Bush"
          ],
          [
           "George W. Bush"
          ],
          [
           "George W. Bush"
          ],
          [
           "George W. Bush"
          ],
          [
           "George W. Bush"
          ],
          [
           "George W. Bush"
          ],
          [
           "George W. Bush"
          ],
          [
           "Barack Obama"
          ],
          [
           "Barack Obama"
          ],
          [
           "Barack Obama"
          ],
          [
           "Barack Obama"
          ],
          [
           "Barack Obama"
          ],
          [
           "Barack Obama"
          ],
          [
           "Barack Obama"
          ],
          [
           "Barack Obama"
          ],
          [
           "Donald J. Trump  "
          ],
          [
           "Donald J. Trump  "
          ],
          [
           "Donald J. Trump  "
          ],
          [
           "Donald J. Trump  "
          ],
          [
           "Joseph R. Biden, Jr.  "
          ],
          [
           "Joseph R. Biden, Jr.  "
          ]
         ],
         "hovertemplate": "pc1=%{x}<br>pc2=%{y}<br>name=%{customdata[0]}<br>year=%{marker.color}<extra></extra>",
         "legendgroup": "",
         "marker": {
          "color": [
           1790,
           1790,
           1791,
           1792,
           1793,
           1794,
           1795,
           1796,
           1797,
           1798,
           1799,
           1800,
           1801,
           1802,
           1803,
           1804,
           1805,
           1806,
           1807,
           1808,
           1809,
           1810,
           1811,
           1812,
           1813,
           1814,
           1815,
           1816,
           1817,
           1818,
           1819,
           1820,
           1821,
           1822,
           1823,
           1824,
           1825,
           1826,
           1827,
           1828,
           1829,
           1830,
           1831,
           1832,
           1833,
           1834,
           1835,
           1836,
           1837,
           1838,
           1839,
           1840,
           1841,
           1842,
           1843,
           1844,
           1845,
           1846,
           1847,
           1848,
           1849,
           1850,
           1851,
           1852,
           1853,
           1854,
           1855,
           1856,
           1857,
           1858,
           1859,
           1860,
           1861,
           1862,
           1863,
           1864,
           1865,
           1866,
           1867,
           1868,
           1869,
           1870,
           1871,
           1872,
           1873,
           1874,
           1875,
           1876,
           1877,
           1878,
           1879,
           1880,
           1881,
           1882,
           1883,
           1884,
           1885,
           1886,
           1887,
           1888,
           1889,
           1890,
           1891,
           1892,
           1897,
           1898,
           1899,
           1900,
           1901,
           1902,
           1903,
           1904,
           1905,
           1906,
           1907,
           1908,
           1909,
           1910,
           1911,
           1912,
           1913,
           1914,
           1915,
           1916,
           1917,
           1918,
           1919,
           1920,
           1921,
           1922,
           1923,
           1924,
           1925,
           1926,
           1927,
           1928,
           1929,
           1930,
           1931,
           1932,
           1934,
           1935,
           1936,
           1937,
           1938,
           1939,
           1940,
           1941,
           1942,
           1943,
           1944,
           1945,
           1946,
           1947,
           1948,
           1949,
           1950,
           1951,
           1952,
           1953,
           1953,
           1954,
           1955,
           1956,
           1957,
           1958,
           1959,
           1960,
           1961,
           1961,
           1962,
           1963,
           1964,
           1965,
           1966,
           1967,
           1968,
           1969,
           1970,
           1971,
           1972,
           1973,
           1974,
           1975,
           1976,
           1977,
           1978,
           1979,
           1980,
           1981,
           1982,
           1983,
           1984,
           1985,
           1986,
           1987,
           1988,
           1989,
           1990,
           1991,
           1992,
           1993,
           1994,
           1995,
           1996,
           1997,
           1998,
           1999,
           2000,
           2001,
           2001,
           2002,
           2003,
           2004,
           2005,
           2006,
           2007,
           2008,
           2009,
           2010,
           2011,
           2012,
           2013,
           2014,
           2015,
           2016,
           2017,
           2018,
           2019,
           2020,
           2021,
           2022
          ],
          "coloraxis": "coloraxis",
          "symbol": "circle"
         },
         "mode": "markers",
         "name": "",
         "orientation": "v",
         "showlegend": false,
         "type": "scatter",
         "x": [
          0.16411288242535266,
          0.18304266964724775,
          0.15264127791694382,
          0.12569999169360624,
          0.1553155178267714,
          0.14790582983771822,
          0.1777518550777354,
          0.1574806953356544,
          0.2141957099957253,
          0.20727993167369993,
          0.17512693401631083,
          0.15106350007457164,
          0.12193751384278245,
          0.14713527413523056,
          0.15712876081001295,
          0.1616339242776316,
          0.15532169675129098,
          0.1443820538873577,
          0.18708380326107474,
          0.1802197764034191,
          0.2108926233970281,
          0.13559829035134977,
          0.195314420230204,
          0.19835878836432574,
          0.2033218320286486,
          0.1912519569474206,
          0.08969282976516978,
          0.11570432098382627,
          0.14894092958611116,
          0.1927481714339573,
          0.2028350246510689,
          0.16151485581561492,
          0.15551789867040955,
          0.15697579739032913,
          0.1120806596357055,
          0.1467570669870262,
          0.04636874742829531,
          0.0994165785455246,
          0.08551835136873957,
          0.057024238335893394,
          0.030967933341421967,
          0.039770187905557426,
          0.10721927343427655,
          0.033588538576362396,
          0.09646349793984121,
          0.043257823258557426,
          0.07415838158735041,
          0.011222556841294853,
          -0.010548193817426572,
          0.03723876710225929,
          0.014273698247844153,
          -0.010902848799882011,
          0.049425613586424715,
          0.05354114487957419,
          0.0471357097926784,
          0.046604195647313766,
          0.049822996625110375,
          0.10763728687321147,
          0.07286376173254014,
          -0.017061535970280713,
          0.04478819868409914,
          0.021530043515905383,
          0.03711313660795706,
          0.04159054403831628,
          0.007034062438745085,
          0.04712864654307283,
          0.09911231432200414,
          0.06871652860879567,
          0.060430103232369844,
          0.054964161256152555,
          0.06475641682177591,
          0.08054369876438426,
          -0.00796096643366412,
          0.025090075890836987,
          0.02885579056255606,
          0.005436347302939696,
          0.02310783163907033,
          0.01831700092438214,
          -0.02276287887919689,
          -0.04308643779708118,
          -0.027487958945984037,
          0.03866577614966636,
          -0.0129198089146999,
          0.08929915224493182,
          -0.03428999314685688,
          -0.026077640473432445,
          -0.03774980027947171,
          -0.0006771345402846984,
          -0.04428260251770029,
          -0.05455853567326814,
          -0.0808821156811927,
          -0.013508223933831429,
          0.06478042913657059,
          0.07100167167334846,
          0.04985429508128502,
          -0.0521974464557758,
          -0.08690663754025976,
          -0.10643965206071589,
          -0.08466242842236191,
          -0.0592511781453332,
          -0.10044199035112844,
          -0.10473697213032745,
          -0.09678681855036991,
          -0.10581585657667901,
          -0.05955710003905646,
          -0.009993675457470434,
          -0.05667862008388279,
          -0.10230475023285829,
          -0.18547186768689627,
          -0.18393996082075192,
          -0.07499830143513951,
          -0.19496714460434092,
          -0.20205321989987332,
          -0.15376474556645667,
          -0.23728338833382565,
          -0.18832097685865012,
          -0.13150022571242906,
          -0.051987319918283065,
          -0.13831056844300194,
          -0.18903008586855835,
          -0.1095623056849618,
          -0.05899202145642486,
          -0.10264779771070752,
          -0.11122646899977572,
          -0.04413490655624619,
          -0.1181089696073558,
          -0.1959486335401574,
          -0.11455140262318972,
          -0.21122187414965543,
          -0.20914036233094035,
          -0.2876766165410334,
          -0.2848824010802808,
          -0.2746507875912776,
          -0.3145724204031684,
          -0.28133796203529254,
          -0.27660688023526403,
          -0.31999212098280266,
          -0.2849909735147102,
          -0.3077686446535749,
          -0.06946065734755769,
          -0.17733701086458778,
          -0.20687104714060692,
          -0.08523854482233394,
          -0.15366797269736418,
          -0.25234547368106747,
          -0.16563740178464928,
          -0.13090109913336934,
          -0.0876811243499621,
          0.022673851287575823,
          0.008882661359509405,
          -0.09392462321044086,
          -0.08278524102888027,
          -0.30652595321559695,
          -0.3358612430105799,
          -0.30176289721369853,
          -0.27197130366464994,
          -0.2980457800846941,
          -0.1229288590217487,
          -0.16104522542069652,
          -0.14288302455958213,
          -0.3421091528133709,
          -0.34143413407483947,
          -0.3674088115633392,
          -0.36322026090312226,
          -0.29232229389601394,
          -0.20295067860076862,
          -0.2705768781687626,
          -0.244812583063981,
          -0.2818419396587698,
          -0.225705419343569,
          -0.17250383827804072,
          -0.1457188978795289,
          -0.07674636086590068,
          -0.07769689988003976,
          -0.015174185671231,
          -0.07437001037660794,
          -0.03821420910736452,
          -0.004254194016202899,
          -0.07345426541732704,
          -0.015489716257867131,
          -0.07251920150009317,
          -0.07360419504543549,
          -0.010243337059622286,
          -0.1402658276367244,
          -0.06576101357497542,
          -0.11020303415178764,
          -0.09156301642751999,
          -0.06554459640025422,
          -0.006737714915925957,
          -0.2585479956770887,
          -0.08648993105205166,
          -0.04007541843916308,
          0.058542671428262784,
          0.038268346965807186,
          0.12746728545228816,
          0.13081380039801466,
          0.12751784967638194,
          0.08896978778879197,
          0.1608639726923046,
          0.0865700652967406,
          0.10587062143414999,
          0.06911606130073747,
          0.16061832090763645,
          0.14634097654306524,
          0.18366359168795313,
          0.17378719867741108,
          0.1969170349768829,
          0.16165414345256865,
          0.17488316181893476,
          0.07389009842604277,
          0.2796722011148234,
          0.22848609328402816,
          0.17512502635743693,
          0.21619572931368364,
          0.1505784250258638,
          0.17295541602749281,
          0.2223507492045979,
          0.17871269918863172,
          0.16856086299266793,
          0.19319709406274974,
          0.23137256932280573,
          0.2408890852533731,
          0.24354666962151886,
          0.2546327081573394,
          0.24808081787069244,
          0.2342093683632564,
          0.205585602486238,
          0.2862673705965272,
          0.265510423038156,
          0.2593939560084667,
          0.27103269533853414,
          0.25133801284734336
         ],
         "xaxis": "x",
         "y": [
          0.17496258064313308,
          0.1534378852453304,
          0.26023703731785025,
          0.22047986936817102,
          0.2608322688032425,
          0.18359618901096134,
          0.2005146841746841,
          0.25864491510949733,
          0.25369951095615617,
          0.21904374997374265,
          0.20288234457613594,
          0.19014618684720566,
          0.19372021999449107,
          0.151714469564864,
          0.1828431923946872,
          0.1997654932702354,
          0.16603899842483424,
          0.19078182259601964,
          0.16032761982903132,
          0.21571685189666237,
          0.21334669094848976,
          0.24581019276758778,
          0.23322069743826618,
          0.17070641401302938,
          0.14083383853483647,
          0.04438336708225997,
          0.2349782923397078,
          0.271427653378994,
          0.33160558811274216,
          0.2830923032129952,
          0.3134556902730353,
          0.2743398351374379,
          0.3298749864077722,
          0.310263835548597,
          0.32741690932695217,
          0.34080007673137386,
          0.28672865830508765,
          0.31752340377666544,
          0.3440981096771737,
          0.30195322138318326,
          0.3717828277179903,
          0.3758106331483118,
          0.3490498349927515,
          0.35245917797931775,
          0.3957105046532959,
          0.3744375872752981,
          0.3308082386144641,
          0.32785440327246707,
          0.37866277550390937,
          0.3882396145618824,
          0.30860622008878785,
          0.30925673906436185,
          0.3560907350960078,
          0.32087773873695935,
          0.3450617478271273,
          0.3372578428522007,
          0.35893628894840235,
          0.2878115536049931,
          0.3260553013042535,
          0.3162339166005879,
          0.3387136477676062,
          0.37750386071582737,
          0.36937327199273107,
          0.33814993375466335,
          0.3490179218539743,
          0.33144610379903766,
          0.3516604907107833,
          0.3406266057346658,
          0.31556830699614974,
          0.3607945101462859,
          0.3073551557916825,
          0.3345733331601845,
          0.23069407004743117,
          0.21090372662540138,
          0.3170955072932282,
          0.2352699941011185,
          0.2460081224586057,
          0.33822048287596884,
          0.2649547865535368,
          0.26459135102218956,
          0.3226590374769826,
          0.3081807951019521,
          0.29935542571318674,
          0.2778392818962094,
          0.3083794497008729,
          0.3066554305414375,
          0.2991613346948331,
          0.32701240633439294,
          0.28707423786315217,
          0.28672962782804984,
          0.3390211413041315,
          0.30616740252694996,
          0.24275603696791756,
          0.26287944997010554,
          0.2407618550626332,
          0.3076284417719074,
          0.33134903490352546,
          0.29692440681132487,
          0.11719381065148958,
          0.23830665579550606,
          0.2883402063012754,
          0.2524318824350199,
          0.270721683777851,
          0.19529547198338706,
          0.2636573446863599,
          0.2910563319979506,
          0.2962313281553228,
          0.2466098306745375,
          0.045642215515573015,
          0.07201743119350279,
          0.20198966635703614,
          0.10132417730445602,
          0.11581582189543328,
          0.07126878363610183,
          0.11882104110371328,
          0.061462626159638295,
          0.2544211156384095,
          0.21481598946783984,
          0.19885330033390808,
          0.21688247289103096,
          0.03884138943515887,
          -0.03659862044479454,
          -0.01858376457396229,
          0.1093699141425499,
          -0.09836184625601259,
          -0.015943485926721065,
          -0.04043450453994914,
          0.04070702386888857,
          -0.006868984422103755,
          -0.04841659290654159,
          0.040124164263200625,
          0.0382202476952602,
          0.10721455942858758,
          0.07669949501011797,
          0.08526824710095307,
          0.059513267888046666,
          0.11626185302907592,
          0.023012208142137315,
          0.0057489808102834826,
          -0.018794677465973235,
          -0.1079171243896684,
          -0.15165580087614253,
          -0.14412634377159608,
          -0.14034123657980696,
          -0.1366449998066093,
          -0.2183173084873843,
          -0.22807872980453306,
          -0.2344716653831506,
          -0.2257274408370647,
          -0.23737300289711416,
          -0.18869631982532895,
          -0.19845730405772086,
          -0.13124365564554968,
          -0.13495691379177474,
          -0.2615961230876625,
          -0.20360759397952263,
          -0.26508714668551736,
          -0.29918608916987016,
          -0.3352559194507364,
          -0.26151444471933666,
          -0.16551407404736257,
          -0.19162210377271321,
          -0.2350212091012394,
          -0.2496141946885384,
          -0.20159541346537044,
          -0.2972200075800589,
          -0.28534002363370176,
          -0.2457464826935954,
          -0.28893478684288537,
          -0.30241764512753017,
          -0.33068424297560123,
          -0.36815099747049146,
          -0.3717402702332995,
          -0.38227554206747155,
          -0.33652153430614645,
          -0.36488783006013176,
          -0.3648222727097919,
          -0.2935603004540701,
          -0.3820974690754475,
          -0.30864006497930385,
          -0.39741274428923,
          -0.29873676458413445,
          -0.3994940295883303,
          -0.33988539091303266,
          -0.405843941157046,
          -0.29520038272117466,
          -0.41549621255631797,
          -0.39313017914488396,
          -0.3324219966647459,
          -0.28427045358327296,
          -0.4012621416221939,
          -0.4694703789430672,
          -0.4457464514121065,
          -0.4738051456768336,
          -0.4405509909078464,
          -0.3899830227581845,
          -0.428049826659982,
          -0.49162194993529007,
          -0.4670084943041235,
          -0.4271880560243552,
          -0.46255931211399715,
          -0.4961028446077969,
          -0.4907307174558158,
          -0.4574906871135145,
          -0.4839758453352865,
          -0.5191454864113701,
          -0.5165386378111332,
          -0.49993491078917146,
          -0.5329973309866619,
          -0.442020538037011,
          -0.30641502261159526,
          -0.3989760015959278,
          -0.36539322257977497,
          -0.4455326539414368,
          -0.40035684749930833,
          -0.45478262471846015,
          -0.3734263791790318,
          -0.42027491481951396,
          -0.48425300495024454,
          -0.477854207692265,
          -0.4892853015189283,
          -0.4703868948746424,
          -0.49440433280758034,
          -0.511978866832599,
          -0.48713907223697955,
          -0.46340860923963717,
          -0.38896977456181986,
          -0.39690399588151354,
          -0.34716044996921397,
          -0.3733650518026645,
          -0.4769167051841765,
          -0.43352295120459866
         ],
         "yaxis": "y"
        }
       ],
       "layout": {
        "coloraxis": {
         "colorbar": {
          "thickness": 15,
          "title": {
           "text": "year"
          }
         },
         "colorscale": [
          [
           0,
           "#440154"
          ],
          [
           0.1111111111111111,
           "#482878"
          ],
          [
           0.2222222222222222,
           "#3e4989"
          ],
          [
           0.3333333333333333,
           "#31688e"
          ],
          [
           0.4444444444444444,
           "#26828e"
          ],
          [
           0.5555555555555556,
           "#1f9e89"
          ],
          [
           0.6666666666666666,
           "#35b779"
          ],
          [
           0.7777777777777778,
           "#6ece58"
          ],
          [
           0.8888888888888888,
           "#b5de2b"
          ],
          [
           1,
           "#fde725"
          ]
         ]
        },
        "height": 350,
        "legend": {
         "tracegroupgap": 0
        },
        "template": {
         "data": {
          "bar": [
           {
            "error_x": {
             "color": "rgb(36,36,36)"
            },
            "error_y": {
             "color": "rgb(36,36,36)"
            },
            "marker": {
             "line": {
              "color": "white",
              "width": 0.5
             },
             "pattern": {
              "fillmode": "overlay",
              "size": 10,
              "solidity": 0.2
             }
            },
            "type": "bar"
           }
          ],
          "barpolar": [
           {
            "marker": {
             "line": {
              "color": "white",
              "width": 0.5
             },
             "pattern": {
              "fillmode": "overlay",
              "size": 10,
              "solidity": 0.2
             }
            },
            "type": "barpolar"
           }
          ],
          "carpet": [
           {
            "aaxis": {
             "endlinecolor": "rgb(36,36,36)",
             "gridcolor": "white",
             "linecolor": "white",
             "minorgridcolor": "white",
             "startlinecolor": "rgb(36,36,36)"
            },
            "baxis": {
             "endlinecolor": "rgb(36,36,36)",
             "gridcolor": "white",
             "linecolor": "white",
             "minorgridcolor": "white",
             "startlinecolor": "rgb(36,36,36)"
            },
            "type": "carpet"
           }
          ],
          "choropleth": [
           {
            "colorbar": {
             "outlinewidth": 1,
             "tickcolor": "rgb(36,36,36)",
             "ticks": "outside"
            },
            "type": "choropleth"
           }
          ],
          "contour": [
           {
            "colorbar": {
             "outlinewidth": 1,
             "tickcolor": "rgb(36,36,36)",
             "ticks": "outside"
            },
            "colorscale": [
             [
              0,
              "#440154"
             ],
             [
              0.1111111111111111,
              "#482878"
             ],
             [
              0.2222222222222222,
              "#3e4989"
             ],
             [
              0.3333333333333333,
              "#31688e"
             ],
             [
              0.4444444444444444,
              "#26828e"
             ],
             [
              0.5555555555555556,
              "#1f9e89"
             ],
             [
              0.6666666666666666,
              "#35b779"
             ],
             [
              0.7777777777777778,
              "#6ece58"
             ],
             [
              0.8888888888888888,
              "#b5de2b"
             ],
             [
              1,
              "#fde725"
             ]
            ],
            "type": "contour"
           }
          ],
          "contourcarpet": [
           {
            "colorbar": {
             "outlinewidth": 1,
             "tickcolor": "rgb(36,36,36)",
             "ticks": "outside"
            },
            "type": "contourcarpet"
           }
          ],
          "heatmap": [
           {
            "colorbar": {
             "outlinewidth": 1,
             "tickcolor": "rgb(36,36,36)",
             "ticks": "outside"
            },
            "colorscale": [
             [
              0,
              "#440154"
             ],
             [
              0.1111111111111111,
              "#482878"
             ],
             [
              0.2222222222222222,
              "#3e4989"
             ],
             [
              0.3333333333333333,
              "#31688e"
             ],
             [
              0.4444444444444444,
              "#26828e"
             ],
             [
              0.5555555555555556,
              "#1f9e89"
             ],
             [
              0.6666666666666666,
              "#35b779"
             ],
             [
              0.7777777777777778,
              "#6ece58"
             ],
             [
              0.8888888888888888,
              "#b5de2b"
             ],
             [
              1,
              "#fde725"
             ]
            ],
            "type": "heatmap"
           }
          ],
          "heatmapgl": [
           {
            "colorbar": {
             "outlinewidth": 1,
             "tickcolor": "rgb(36,36,36)",
             "ticks": "outside"
            },
            "colorscale": [
             [
              0,
              "#440154"
             ],
             [
              0.1111111111111111,
              "#482878"
             ],
             [
              0.2222222222222222,
              "#3e4989"
             ],
             [
              0.3333333333333333,
              "#31688e"
             ],
             [
              0.4444444444444444,
              "#26828e"
             ],
             [
              0.5555555555555556,
              "#1f9e89"
             ],
             [
              0.6666666666666666,
              "#35b779"
             ],
             [
              0.7777777777777778,
              "#6ece58"
             ],
             [
              0.8888888888888888,
              "#b5de2b"
             ],
             [
              1,
              "#fde725"
             ]
            ],
            "type": "heatmapgl"
           }
          ],
          "histogram": [
           {
            "marker": {
             "line": {
              "color": "white",
              "width": 0.6
             }
            },
            "type": "histogram"
           }
          ],
          "histogram2d": [
           {
            "colorbar": {
             "outlinewidth": 1,
             "tickcolor": "rgb(36,36,36)",
             "ticks": "outside"
            },
            "colorscale": [
             [
              0,
              "#440154"
             ],
             [
              0.1111111111111111,
              "#482878"
             ],
             [
              0.2222222222222222,
              "#3e4989"
             ],
             [
              0.3333333333333333,
              "#31688e"
             ],
             [
              0.4444444444444444,
              "#26828e"
             ],
             [
              0.5555555555555556,
              "#1f9e89"
             ],
             [
              0.6666666666666666,
              "#35b779"
             ],
             [
              0.7777777777777778,
              "#6ece58"
             ],
             [
              0.8888888888888888,
              "#b5de2b"
             ],
             [
              1,
              "#fde725"
             ]
            ],
            "type": "histogram2d"
           }
          ],
          "histogram2dcontour": [
           {
            "colorbar": {
             "outlinewidth": 1,
             "tickcolor": "rgb(36,36,36)",
             "ticks": "outside"
            },
            "colorscale": [
             [
              0,
              "#440154"
             ],
             [
              0.1111111111111111,
              "#482878"
             ],
             [
              0.2222222222222222,
              "#3e4989"
             ],
             [
              0.3333333333333333,
              "#31688e"
             ],
             [
              0.4444444444444444,
              "#26828e"
             ],
             [
              0.5555555555555556,
              "#1f9e89"
             ],
             [
              0.6666666666666666,
              "#35b779"
             ],
             [
              0.7777777777777778,
              "#6ece58"
             ],
             [
              0.8888888888888888,
              "#b5de2b"
             ],
             [
              1,
              "#fde725"
             ]
            ],
            "type": "histogram2dcontour"
           }
          ],
          "mesh3d": [
           {
            "colorbar": {
             "outlinewidth": 1,
             "tickcolor": "rgb(36,36,36)",
             "ticks": "outside"
            },
            "type": "mesh3d"
           }
          ],
          "parcoords": [
           {
            "line": {
             "colorbar": {
              "outlinewidth": 1,
              "tickcolor": "rgb(36,36,36)",
              "ticks": "outside"
             }
            },
            "type": "parcoords"
           }
          ],
          "pie": [
           {
            "automargin": true,
            "type": "pie"
           }
          ],
          "scatter": [
           {
            "marker": {
             "colorbar": {
              "outlinewidth": 1,
              "tickcolor": "rgb(36,36,36)",
              "ticks": "outside"
             }
            },
            "type": "scatter"
           }
          ],
          "scatter3d": [
           {
            "line": {
             "colorbar": {
              "outlinewidth": 1,
              "tickcolor": "rgb(36,36,36)",
              "ticks": "outside"
             }
            },
            "marker": {
             "colorbar": {
              "outlinewidth": 1,
              "tickcolor": "rgb(36,36,36)",
              "ticks": "outside"
             }
            },
            "type": "scatter3d"
           }
          ],
          "scattercarpet": [
           {
            "marker": {
             "colorbar": {
              "outlinewidth": 1,
              "tickcolor": "rgb(36,36,36)",
              "ticks": "outside"
             }
            },
            "type": "scattercarpet"
           }
          ],
          "scattergeo": [
           {
            "marker": {
             "colorbar": {
              "outlinewidth": 1,
              "tickcolor": "rgb(36,36,36)",
              "ticks": "outside"
             }
            },
            "type": "scattergeo"
           }
          ],
          "scattergl": [
           {
            "marker": {
             "colorbar": {
              "outlinewidth": 1,
              "tickcolor": "rgb(36,36,36)",
              "ticks": "outside"
             }
            },
            "type": "scattergl"
           }
          ],
          "scattermapbox": [
           {
            "marker": {
             "colorbar": {
              "outlinewidth": 1,
              "tickcolor": "rgb(36,36,36)",
              "ticks": "outside"
             }
            },
            "type": "scattermapbox"
           }
          ],
          "scatterpolar": [
           {
            "marker": {
             "colorbar": {
              "outlinewidth": 1,
              "tickcolor": "rgb(36,36,36)",
              "ticks": "outside"
             }
            },
            "type": "scatterpolar"
           }
          ],
          "scatterpolargl": [
           {
            "marker": {
             "colorbar": {
              "outlinewidth": 1,
              "tickcolor": "rgb(36,36,36)",
              "ticks": "outside"
             }
            },
            "type": "scatterpolargl"
           }
          ],
          "scatterternary": [
           {
            "marker": {
             "colorbar": {
              "outlinewidth": 1,
              "tickcolor": "rgb(36,36,36)",
              "ticks": "outside"
             }
            },
            "type": "scatterternary"
           }
          ],
          "surface": [
           {
            "colorbar": {
             "outlinewidth": 1,
             "tickcolor": "rgb(36,36,36)",
             "ticks": "outside"
            },
            "colorscale": [
             [
              0,
              "#440154"
             ],
             [
              0.1111111111111111,
              "#482878"
             ],
             [
              0.2222222222222222,
              "#3e4989"
             ],
             [
              0.3333333333333333,
              "#31688e"
             ],
             [
              0.4444444444444444,
              "#26828e"
             ],
             [
              0.5555555555555556,
              "#1f9e89"
             ],
             [
              0.6666666666666666,
              "#35b779"
             ],
             [
              0.7777777777777778,
              "#6ece58"
             ],
             [
              0.8888888888888888,
              "#b5de2b"
             ],
             [
              1,
              "#fde725"
             ]
            ],
            "type": "surface"
           }
          ],
          "table": [
           {
            "cells": {
             "fill": {
              "color": "rgb(237,237,237)"
             },
             "line": {
              "color": "white"
             }
            },
            "header": {
             "fill": {
              "color": "rgb(217,217,217)"
             },
             "line": {
              "color": "white"
             }
            },
            "type": "table"
           }
          ]
         },
         "layout": {
          "annotationdefaults": {
           "arrowhead": 0,
           "arrowwidth": 1
          },
          "autosize": true,
          "autotypenumbers": "strict",
          "coloraxis": {
           "colorbar": {
            "outlinewidth": 1,
            "tickcolor": "rgb(36,36,36)",
            "ticks": "outside"
           }
          },
          "colorscale": {
           "diverging": [
            [
             0,
             "rgb(103,0,31)"
            ],
            [
             0.1,
             "rgb(178,24,43)"
            ],
            [
             0.2,
             "rgb(214,96,77)"
            ],
            [
             0.3,
             "rgb(244,165,130)"
            ],
            [
             0.4,
             "rgb(253,219,199)"
            ],
            [
             0.5,
             "rgb(247,247,247)"
            ],
            [
             0.6,
             "rgb(209,229,240)"
            ],
            [
             0.7,
             "rgb(146,197,222)"
            ],
            [
             0.8,
             "rgb(67,147,195)"
            ],
            [
             0.9,
             "rgb(33,102,172)"
            ],
            [
             1,
             "rgb(5,48,97)"
            ]
           ],
           "sequential": [
            [
             0,
             "#440154"
            ],
            [
             0.1111111111111111,
             "#482878"
            ],
            [
             0.2222222222222222,
             "#3e4989"
            ],
            [
             0.3333333333333333,
             "#31688e"
            ],
            [
             0.4444444444444444,
             "#26828e"
            ],
            [
             0.5555555555555556,
             "#1f9e89"
            ],
            [
             0.6666666666666666,
             "#35b779"
            ],
            [
             0.7777777777777778,
             "#6ece58"
            ],
            [
             0.8888888888888888,
             "#b5de2b"
            ],
            [
             1,
             "#fde725"
            ]
           ],
           "sequentialminus": [
            [
             0,
             "#440154"
            ],
            [
             0.1111111111111111,
             "#482878"
            ],
            [
             0.2222222222222222,
             "#3e4989"
            ],
            [
             0.3333333333333333,
             "#31688e"
            ],
            [
             0.4444444444444444,
             "#26828e"
            ],
            [
             0.5555555555555556,
             "#1f9e89"
            ],
            [
             0.6666666666666666,
             "#35b779"
            ],
            [
             0.7777777777777778,
             "#6ece58"
            ],
            [
             0.8888888888888888,
             "#b5de2b"
            ],
            [
             1,
             "#fde725"
            ]
           ]
          },
          "colorway": [
           "#1F77B4",
           "#FF7F0E",
           "#2CA02C",
           "#D62728",
           "#9467BD",
           "#8C564B",
           "#E377C2",
           "#7F7F7F",
           "#BCBD22",
           "#17BECF"
          ],
          "font": {
           "color": "rgb(36,36,36)"
          },
          "geo": {
           "bgcolor": "white",
           "lakecolor": "white",
           "landcolor": "white",
           "showlakes": true,
           "showland": true,
           "subunitcolor": "white"
          },
          "height": 250,
          "hoverlabel": {
           "align": "left"
          },
          "hovermode": "closest",
          "mapbox": {
           "style": "light"
          },
          "margin": {
           "b": 10,
           "l": 10,
           "r": 10,
           "t": 10
          },
          "paper_bgcolor": "white",
          "plot_bgcolor": "white",
          "polar": {
           "angularaxis": {
            "gridcolor": "rgb(232,232,232)",
            "linecolor": "rgb(36,36,36)",
            "showgrid": false,
            "showline": true,
            "ticks": "outside"
           },
           "bgcolor": "white",
           "radialaxis": {
            "gridcolor": "rgb(232,232,232)",
            "linecolor": "rgb(36,36,36)",
            "showgrid": false,
            "showline": true,
            "ticks": "outside"
           }
          },
          "scene": {
           "xaxis": {
            "backgroundcolor": "white",
            "gridcolor": "rgb(232,232,232)",
            "gridwidth": 2,
            "linecolor": "rgb(36,36,36)",
            "showbackground": true,
            "showgrid": false,
            "showline": true,
            "ticks": "outside",
            "zeroline": false,
            "zerolinecolor": "rgb(36,36,36)"
           },
           "yaxis": {
            "backgroundcolor": "white",
            "gridcolor": "rgb(232,232,232)",
            "gridwidth": 2,
            "linecolor": "rgb(36,36,36)",
            "showbackground": true,
            "showgrid": false,
            "showline": true,
            "ticks": "outside",
            "zeroline": false,
            "zerolinecolor": "rgb(36,36,36)"
           },
           "zaxis": {
            "backgroundcolor": "white",
            "gridcolor": "rgb(232,232,232)",
            "gridwidth": 2,
            "linecolor": "rgb(36,36,36)",
            "showbackground": true,
            "showgrid": false,
            "showline": true,
            "ticks": "outside",
            "zeroline": false,
            "zerolinecolor": "rgb(36,36,36)"
           }
          },
          "shapedefaults": {
           "fillcolor": "black",
           "line": {
            "width": 0
           },
           "opacity": 0.3
          },
          "ternary": {
           "aaxis": {
            "gridcolor": "rgb(232,232,232)",
            "linecolor": "rgb(36,36,36)",
            "showgrid": false,
            "showline": true,
            "ticks": "outside"
           },
           "baxis": {
            "gridcolor": "rgb(232,232,232)",
            "linecolor": "rgb(36,36,36)",
            "showgrid": false,
            "showline": true,
            "ticks": "outside"
           },
           "bgcolor": "white",
           "caxis": {
            "gridcolor": "rgb(232,232,232)",
            "linecolor": "rgb(36,36,36)",
            "showgrid": false,
            "showline": true,
            "ticks": "outside"
           }
          },
          "title": {
           "x": 0.5,
           "xanchor": "center"
          },
          "width": 350,
          "xaxis": {
           "automargin": true,
           "gridcolor": "rgb(232,232,232)",
           "linecolor": "rgb(36,36,36)",
           "showgrid": true,
           "showline": true,
           "ticks": "outside",
           "title": {
            "standoff": 15
           },
           "zeroline": false,
           "zerolinecolor": "rgb(36,36,36)"
          },
          "yaxis": {
           "automargin": true,
           "gridcolor": "rgb(232,232,232)",
           "linecolor": "rgb(36,36,36)",
           "showgrid": true,
           "showline": true,
           "ticks": "outside",
           "title": {
            "standoff": 15
           },
           "zeroline": false,
           "zerolinecolor": "rgb(36,36,36)"
          }
         }
        },
        "width": 550,
        "xaxis": {
         "anchor": "y",
         "autorange": true,
         "domain": [
          0,
          1
         ],
         "range": [
          -0.4115710313030363,
          0.3304295903362243
         ],
         "title": {
          "text": "pc1"
         },
         "type": "linear"
        },
        "yaxis": {
         "anchor": "x",
         "autorange": true,
         "domain": [
          0,
          1
         ],
         "range": [
          -0.6003608170273761,
          0.46307399069401
         ],
         "title": {
          "text": "pc2"
         },
         "type": "linear"
        }
       }
      },
      "image/png": "[encoded data removed]",
      "image/svg+xml": [
       "<svg class=\"main-svg\" xmlns=\"http://www.w3.org/2000/svg\" xmlns:xlink=\"http://www.w3.org/1999/xlink\" width=\"550\" height=\"350\" style=\"\" viewBox=\"0 0 550 350\"><rect x=\"0\" y=\"0\" width=\"550\" height=\"350\" style=\"fill: rgb(255, 255, 255); fill-opacity: 1;\"/><defs id=\"defs-d3f6ed\"><g class=\"clips\"><clipPath id=\"clipd3f6edxyplot\" class=\"plotclip\"><rect width=\"385\" height=\"282\"/></clipPath><clipPath class=\"axesclip\" id=\"clipd3f6edx\"><rect x=\"73\" y=\"0\" width=\"385\" height=\"350\"/></clipPath><clipPath class=\"axesclip\" id=\"clipd3f6edy\"><rect x=\"0\" y=\"10\" width=\"550\" height=\"282\"/></clipPath><clipPath class=\"axesclip\" id=\"clipd3f6edxy\"><rect x=\"73\" y=\"10\" width=\"385\" height=\"282\"/></clipPath></g><g class=\"gradients\"><linearGradient x1=\"0\" x2=\"0\" y1=\"1\" y2=\"0\" id=\"gd3f6ed-cbcoloraxis\"><stop offset=\"0%\" stop-color=\"rgb(68, 1, 84)\" stop-opacity=\"1\"/><stop offset=\"11.111111%\" stop-color=\"rgb(72, 40, 120)\" stop-opacity=\"1\"/><stop offset=\"22.222222%\" stop-color=\"rgb(62, 73, 137)\" stop-opacity=\"1\"/><stop offset=\"33.333333%\" stop-color=\"rgb(49, 104, 142)\" stop-opacity=\"1\"/><stop offset=\"44.444444%\" stop-color=\"rgb(38, 130, 142)\" stop-opacity=\"1\"/><stop offset=\"55.555556%\" stop-color=\"rgb(31, 158, 137)\" stop-opacity=\"1\"/><stop offset=\"66.666667%\" stop-color=\"rgb(53, 183, 121)\" stop-opacity=\"1\"/><stop offset=\"77.777778%\" stop-color=\"rgb(110, 206, 88)\" stop-opacity=\"1\"/><stop offset=\"88.888889%\" stop-color=\"rgb(181, 222, 43)\" stop-opacity=\"1\"/><stop offset=\"100%\" stop-color=\"rgb(253, 231, 37)\" stop-opacity=\"1\"/></linearGradient></g><g class=\"patterns\"/></defs><g class=\"bglayer\"/><g class=\"layer-below\"><g class=\"imagelayer\"/><g class=\"shapelayer\"/></g><g class=\"cartesianlayer\"><g class=\"subplot xy\"><g class=\"layer-subplot\"><g class=\"shapelayer\"/><g class=\"imagelayer\"/></g><g class=\"gridlayer\"><g class=\"x\"><path class=\"xgrid crisp\" transform=\"translate(79.1,0)\" d=\"M0,10v282\" style=\"stroke: rgb(232, 232, 232); stroke-opacity: 1; stroke-width: 1px;\"/><path class=\"xgrid crisp\" transform=\"translate(182.82,0)\" d=\"M0,10v282\" style=\"stroke: rgb(232, 232, 232); stroke-opacity: 1; stroke-width: 1px;\"/><path class=\"xgrid crisp\" transform=\"translate(286.53999999999996,0)\" d=\"M0,10v282\" style=\"stroke: rgb(232, 232, 232); stroke-opacity: 1; stroke-width: 1px;\"/><path class=\"xgrid crisp\" transform=\"translate(390.26,0)\" d=\"M0,10v282\" style=\"stroke: rgb(232, 232, 232); stroke-opacity: 1; stroke-width: 1px;\"/></g><g class=\"y\"><path class=\"ygrid crisp\" transform=\"translate(0,238.88)\" d=\"M73,0h385\" style=\"stroke: rgb(232, 232, 232); stroke-opacity: 1; stroke-width: 1px;\"/><path class=\"ygrid crisp\" transform=\"translate(0,185.84)\" d=\"M73,0h385\" style=\"stroke: rgb(232, 232, 232); stroke-opacity: 1; stroke-width: 1px;\"/><path class=\"ygrid crisp\" transform=\"translate(0,132.8)\" d=\"M73,0h385\" style=\"stroke: rgb(232, 232, 232); stroke-opacity: 1; stroke-width: 1px;\"/><path class=\"ygrid crisp\" transform=\"translate(0,79.75)\" d=\"M73,0h385\" style=\"stroke: rgb(232, 232, 232); stroke-opacity: 1; stroke-width: 1px;\"/><path class=\"ygrid crisp\" transform=\"translate(0,26.71)\" d=\"M73,0h385\" style=\"stroke: rgb(232, 232, 232); stroke-opacity: 1; stroke-width: 1px;\"/></g></g><g class=\"zerolinelayer\"/><path class=\"xlines-below\"/><path class=\"ylines-below\"/><g class=\"overlines-below\"/><g class=\"xaxislayer-below\"/><g class=\"yaxislayer-below\"/><g class=\"overaxes-below\"/><g class=\"plot\" transform=\"translate(73,10)\" clip-path=\"url(#clipd3f6edxyplot)\"><g class=\"scatterlayer mlayer\"><g class=\"trace scatter trace34893a\" style=\"stroke-miterlimit: 2; opacity: 1;\"><g class=\"fills\"/><g class=\"errorbars\"/><g class=\"lines\"/><g class=\"points\"><path class=\"point plotly-customdata\" transform=\"translate(298.65,76.39)\" d=\"M3,0A3,3 0 1,1 0,-3A3,3 0 0,1 3,0Z\" style=\"opacity: 1; stroke-width: 0px; fill: rgb(68, 1, 84); fill-opacity: 1;\"/><path class=\"point plotly-customdata\" transform=\"translate(308.47,82.1)\" d=\"M3,0A3,3 0 1,1 0,-3A3,3 0 0,1 3,0Z\" style=\"opacity: 1; stroke-width: 0px; fill: rgb(68, 1, 84); fill-opacity: 1;\"/><path class=\"point plotly-customdata\" transform=\"translate(292.7,53.78)\" d=\"M3,0A3,3 0 1,1 0,-3A3,3 0 0,1 3,0Z\" style=\"opacity: 1; stroke-width: 0px; fill: rgb(68, 3, 85); fill-opacity: 1;\"/><path class=\"point plotly-customdata\" transform=\"translate(278.73,64.32)\" d=\"M3,0A3,3 0 1,1 0,-3A3,3 0 0,1 3,0Z\" style=\"opacity: 1; stroke-width: 0px; fill: rgb(68, 4, 87); fill-opacity: 1;\"/><path class=\"point plotly-customdata\" transform=\"translate(294.09,53.62)\" d=\"M3,0A3,3 0 1,1 0,-3A3,3 0 0,1 3,0Z\" style=\"opacity: 1; stroke-width: 0px; fill: rgb(68, 6, 88); fill-opacity: 1;\"/><path class=\"point plotly-customdata\" transform=\"translate(290.24,74.1)\" d=\"M3,0A3,3 0 1,1 0,-3A3,3 0 0,1 3,0Z\" style=\"opacity: 1; stroke-width: 0px; fill: rgb(69, 7, 90); fill-opacity: 1;\"/><path class=\"point plotly-customdata\" transform=\"translate(305.72,69.62)\" d=\"M3,0A3,3 0 1,1 0,-3A3,3 0 0,1 3,0Z\" style=\"opacity: 1; stroke-width: 0px; fill: rgb(69, 9, 91); fill-opacity: 1;\"/><path class=\"point plotly-customdata\" transform=\"translate(295.21,54.2)\" d=\"M3,0A3,3 0 1,1 0,-3A3,3 0 0,1 3,0Z\" style=\"opacity: 1; stroke-width: 0px; fill: rgb(69, 10, 92); fill-opacity: 1;\"/><path class=\"point plotly-customdata\" transform=\"translate(324.62,55.51)\" d=\"M3,0A3,3 0 1,1 0,-3A3,3 0 0,1 3,0Z\" style=\"opacity: 1; stroke-width: 0px; fill: rgb(69, 12, 94); fill-opacity: 1;\"/><path class=\"point plotly-customdata\" transform=\"translate(321.04,64.7)\" d=\"M3,0A3,3 0 1,1 0,-3A3,3 0 0,1 3,0Z\" style=\"opacity: 1; stroke-width: 0px; fill: rgb(69, 13, 95); fill-opacity: 1;\"/><path class=\"point plotly-customdata\" transform=\"translate(304.36,68.99)\" d=\"M3,0A3,3 0 1,1 0,-3A3,3 0 0,1 3,0Z\" style=\"opacity: 1; stroke-width: 0px; fill: rgb(69, 15, 97); fill-opacity: 1;\"/><path class=\"point plotly-customdata\" transform=\"translate(291.88,72.37)\" d=\"M3,0A3,3 0 1,1 0,-3A3,3 0 0,1 3,0Z\" style=\"opacity: 1; stroke-width: 0px; fill: rgb(70, 16, 98); fill-opacity: 1;\"/><path class=\"point plotly-customdata\" transform=\"translate(276.78,71.42)\" d=\"M3,0A3,3 0 1,1 0,-3A3,3 0 0,1 3,0Z\" style=\"opacity: 1; stroke-width: 0px; fill: rgb(70, 18, 99); fill-opacity: 1;\"/><path class=\"point plotly-customdata\" transform=\"translate(289.85,82.56)\" d=\"M3,0A3,3 0 1,1 0,-3A3,3 0 0,1 3,0Z\" style=\"opacity: 1; stroke-width: 0px; fill: rgb(70, 19, 101); fill-opacity: 1;\"/><path class=\"point plotly-customdata\" transform=\"translate(295.03,74.3)\" d=\"M3,0A3,3 0 1,1 0,-3A3,3 0 0,1 3,0Z\" style=\"opacity: 1; stroke-width: 0px; fill: rgb(70, 21, 102); fill-opacity: 1;\"/><path class=\"point plotly-customdata\" transform=\"translate(297.36,69.82)\" d=\"M3,0A3,3 0 1,1 0,-3A3,3 0 0,1 3,0Z\" style=\"opacity: 1; stroke-width: 0px; fill: rgb(70, 22, 104); fill-opacity: 1;\"/><path class=\"point plotly-customdata\" transform=\"translate(294.09,78.76)\" d=\"M3,0A3,3 0 1,1 0,-3A3,3 0 0,1 3,0Z\" style=\"opacity: 1; stroke-width: 0px; fill: rgb(70, 24, 105); fill-opacity: 1;\"/><path class=\"point plotly-customdata\" transform=\"translate(288.42,72.2)\" d=\"M3,0A3,3 0 1,1 0,-3A3,3 0 0,1 3,0Z\" style=\"opacity: 1; stroke-width: 0px; fill: rgb(70, 25, 106); fill-opacity: 1;\"/><path class=\"point plotly-customdata\" transform=\"translate(310.56,80.28)\" d=\"M3,0A3,3 0 1,1 0,-3A3,3 0 0,1 3,0Z\" style=\"opacity: 1; stroke-width: 0px; fill: rgb(71, 27, 108); fill-opacity: 1;\"/><path class=\"point plotly-customdata\" transform=\"translate(307,65.59)\" d=\"M3,0A3,3 0 1,1 0,-3A3,3 0 0,1 3,0Z\" style=\"opacity: 1; stroke-width: 0px; fill: rgb(71, 28, 109); fill-opacity: 1;\"/><path class=\"point plotly-customdata\" transform=\"translate(322.91,66.21)\" d=\"M3,0A3,3 0 1,1 0,-3A3,3 0 0,1 3,0Z\" style=\"opacity: 1; stroke-width: 0px; fill: rgb(71, 30, 111); fill-opacity: 1;\"/><path class=\"point plotly-customdata\" transform=\"translate(283.86,57.6)\" d=\"M3,0A3,3 0 1,1 0,-3A3,3 0 0,1 3,0Z\" style=\"opacity: 1; stroke-width: 0px; fill: rgb(71, 31, 112); fill-opacity: 1;\"/><path class=\"point plotly-customdata\" transform=\"translate(314.83,60.94)\" d=\"M3,0A3,3 0 1,1 0,-3A3,3 0 0,1 3,0Z\" style=\"opacity: 1; stroke-width: 0px; fill: rgb(71, 33, 113); fill-opacity: 1;\"/><path class=\"point plotly-customdata\" transform=\"translate(316.41,77.52)\" d=\"M3,0A3,3 0 1,1 0,-3A3,3 0 0,1 3,0Z\" style=\"opacity: 1; stroke-width: 0px; fill: rgb(71, 34, 115); fill-opacity: 1;\"/><path class=\"point plotly-customdata\" transform=\"translate(318.98,85.45)\" d=\"M3,0A3,3 0 1,1 0,-3A3,3 0 0,1 3,0Z\" style=\"opacity: 1; stroke-width: 0px; fill: rgb(72, 36, 116); fill-opacity: 1;\"/><path class=\"point plotly-customdata\" transform=\"translate(312.72,111.02)\" d=\"M3,0A3,3 0 1,1 0,-3A3,3 0 0,1 3,0Z\" style=\"opacity: 1; stroke-width: 0px; fill: rgb(72, 37, 118); fill-opacity: 1;\"/><path class=\"point plotly-customdata\" transform=\"translate(260.06,60.48)\" d=\"M3,0A3,3 0 1,1 0,-3A3,3 0 0,1 3,0Z\" style=\"opacity: 1; stroke-width: 0px; fill: rgb(72, 39, 119); fill-opacity: 1;\"/><path class=\"point plotly-customdata\" transform=\"translate(273.55,50.81)\" d=\"M3,0A3,3 0 1,1 0,-3A3,3 0 0,1 3,0Z\" style=\"opacity: 1; stroke-width: 0px; fill: rgb(72, 40, 120); fill-opacity: 1;\"/><path class=\"point plotly-customdata\" transform=\"translate(290.78,34.85)\" d=\"M3,0A3,3 0 1,1 0,-3A3,3 0 0,1 3,0Z\" style=\"opacity: 1; stroke-width: 0px; fill: rgb(72, 42, 121); fill-opacity: 1;\"/><path class=\"point plotly-customdata\" transform=\"translate(313.5,47.72)\" d=\"M3,0A3,3 0 1,1 0,-3A3,3 0 0,1 3,0Z\" style=\"opacity: 1; stroke-width: 0px; fill: rgb(71, 43, 121); fill-opacity: 1;\"/><path class=\"point plotly-customdata\" transform=\"translate(318.73,39.66)\" d=\"M3,0A3,3 0 1,1 0,-3A3,3 0 0,1 3,0Z\" style=\"opacity: 1; stroke-width: 0px; fill: rgb(71, 44, 122); fill-opacity: 1;\"/><path class=\"point plotly-customdata\" transform=\"translate(297.3,50.04)\" d=\"M3,0A3,3 0 1,1 0,-3A3,3 0 0,1 3,0Z\" style=\"opacity: 1; stroke-width: 0px; fill: rgb(70, 45, 123); fill-opacity: 1;\"/><path class=\"point plotly-customdata\" transform=\"translate(294.19,35.31)\" d=\"M3,0A3,3 0 1,1 0,-3A3,3 0 0,1 3,0Z\" style=\"opacity: 1; stroke-width: 0px; fill: rgb(70, 47, 123); fill-opacity: 1;\"/><path class=\"point plotly-customdata\" transform=\"translate(294.95,40.51)\" d=\"M3,0A3,3 0 1,1 0,-3A3,3 0 0,1 3,0Z\" style=\"opacity: 1; stroke-width: 0px; fill: rgb(70, 48, 124); fill-opacity: 1;\"/><path class=\"point plotly-customdata\" transform=\"translate(271.67,35.96)\" d=\"M3,0A3,3 0 1,1 0,-3A3,3 0 0,1 3,0Z\" style=\"opacity: 1; stroke-width: 0px; fill: rgb(69, 49, 125); fill-opacity: 1;\"/><path class=\"point plotly-customdata\" transform=\"translate(289.65,32.41)\" d=\"M3,0A3,3 0 1,1 0,-3A3,3 0 0,1 3,0Z\" style=\"opacity: 1; stroke-width: 0px; fill: rgb(69, 51, 125); fill-opacity: 1;\"/><path class=\"point plotly-customdata\" transform=\"translate(237.59,46.75)\" d=\"M3,0A3,3 0 1,1 0,-3A3,3 0 0,1 3,0Z\" style=\"opacity: 1; stroke-width: 0px; fill: rgb(68, 52, 126); fill-opacity: 1;\"/><path class=\"point plotly-customdata\" transform=\"translate(265.1,38.59)\" d=\"M3,0A3,3 0 1,1 0,-3A3,3 0 0,1 3,0Z\" style=\"opacity: 1; stroke-width: 0px; fill: rgb(68, 53, 127); fill-opacity: 1;\"/><path class=\"point plotly-customdata\" transform=\"translate(257.89,31.54)\" d=\"M3,0A3,3 0 1,1 0,-3A3,3 0 0,1 3,0Z\" style=\"opacity: 1; stroke-width: 0px; fill: rgb(68, 54, 127); fill-opacity: 1;\"/><path class=\"point plotly-customdata\" transform=\"translate(243.11,42.72)\" d=\"M3,0A3,3 0 1,1 0,-3A3,3 0 0,1 3,0Z\" style=\"opacity: 1; stroke-width: 0px; fill: rgb(67, 56, 128); fill-opacity: 1;\"/><path class=\"point plotly-customdata\" transform=\"translate(229.6,24.2)\" d=\"M3,0A3,3 0 1,1 0,-3A3,3 0 0,1 3,0Z\" style=\"opacity: 1; stroke-width: 0px; fill: rgb(67, 57, 129); fill-opacity: 1;\"/><path class=\"point plotly-customdata\" transform=\"translate(234.17,23.13)\" d=\"M3,0A3,3 0 1,1 0,-3A3,3 0 0,1 3,0Z\" style=\"opacity: 1; stroke-width: 0px; fill: rgb(66, 58, 129); fill-opacity: 1;\"/><path class=\"point plotly-customdata\" transform=\"translate(269.14,30.22)\" d=\"M3,0A3,3 0 1,1 0,-3A3,3 0 0,1 3,0Z\" style=\"opacity: 1; stroke-width: 0px; fill: rgb(66, 59, 130); fill-opacity: 1;\"/><path class=\"point plotly-customdata\" transform=\"translate(230.96,29.32)\" d=\"M3,0A3,3 0 1,1 0,-3A3,3 0 0,1 3,0Z\" style=\"opacity: 1; stroke-width: 0px; fill: rgb(66, 61, 131); fill-opacity: 1;\"/><path class=\"point plotly-customdata\" transform=\"translate(263.57,17.85)\" d=\"M3,0A3,3 0 1,1 0,-3A3,3 0 0,1 3,0Z\" style=\"opacity: 1; stroke-width: 0px; fill: rgb(65, 62, 131); fill-opacity: 1;\"/><path class=\"point plotly-customdata\" transform=\"translate(235.97,23.49)\" d=\"M3,0A3,3 0 1,1 0,-3A3,3 0 0,1 3,0Z\" style=\"opacity: 1; stroke-width: 0px; fill: rgb(65, 63, 132); fill-opacity: 1;\"/><path class=\"point plotly-customdata\" transform=\"translate(252,35.06)\" d=\"M3,0A3,3 0 1,1 0,-3A3,3 0 0,1 3,0Z\" style=\"opacity: 1; stroke-width: 0px; fill: rgb(65, 65, 133); fill-opacity: 1;\"/><path class=\"point plotly-customdata\" transform=\"translate(219.36,35.85)\" d=\"M3,0A3,3 0 1,1 0,-3A3,3 0 0,1 3,0Z\" style=\"opacity: 1; stroke-width: 0px; fill: rgb(64, 66, 133); fill-opacity: 1;\"/><path class=\"point plotly-customdata\" transform=\"translate(208.07,22.37)\" d=\"M3,0A3,3 0 1,1 0,-3A3,3 0 0,1 3,0Z\" style=\"opacity: 1; stroke-width: 0px; fill: rgb(64, 67, 134); fill-opacity: 1;\"/><path class=\"point plotly-customdata\" transform=\"translate(232.85,19.83)\" d=\"M3,0A3,3 0 1,1 0,-3A3,3 0 0,1 3,0Z\" style=\"opacity: 1; stroke-width: 0px; fill: rgb(63, 68, 135); fill-opacity: 1;\"/><path class=\"point plotly-customdata\" transform=\"translate(220.94,40.95)\" d=\"M3,0A3,3 0 1,1 0,-3A3,3 0 0,1 3,0Z\" style=\"opacity: 1; stroke-width: 0px; fill: rgb(63, 70, 135); fill-opacity: 1;\"/><path class=\"point plotly-customdata\" transform=\"translate(207.89,40.78)\" d=\"M3,0A3,3 0 1,1 0,-3A3,3 0 0,1 3,0Z\" style=\"opacity: 1; stroke-width: 0px; fill: rgb(63, 71, 136); fill-opacity: 1;\"/><path class=\"point plotly-customdata\" transform=\"translate(239.17,28.36)\" d=\"M3,0A3,3 0 1,1 0,-3A3,3 0 0,1 3,0Z\" style=\"opacity: 1; stroke-width: 0px; fill: rgb(62, 72, 137); fill-opacity: 1;\"/><path class=\"point plotly-customdata\" transform=\"translate(241.31,37.7)\" d=\"M3,0A3,3 0 1,1 0,-3A3,3 0 0,1 3,0Z\" style=\"opacity: 1; stroke-width: 0px; fill: rgb(62, 74, 137); fill-opacity: 1;\"/><path class=\"point plotly-customdata\" transform=\"translate(237.99,31.28)\" d=\"M3,0A3,3 0 1,1 0,-3A3,3 0 0,1 3,0Z\" style=\"opacity: 1; stroke-width: 0px; fill: rgb(61, 75, 137); fill-opacity: 1;\"/><path class=\"point plotly-customdata\" transform=\"translate(237.71,33.35)\" d=\"M3,0A3,3 0 1,1 0,-3A3,3 0 0,1 3,0Z\" style=\"opacity: 1; stroke-width: 0px; fill: rgb(61, 76, 137); fill-opacity: 1;\"/><path class=\"point plotly-customdata\" transform=\"translate(239.38,27.6)\" d=\"M3,0A3,3 0 1,1 0,-3A3,3 0 0,1 3,0Z\" style=\"opacity: 1; stroke-width: 0px; fill: rgb(60, 77, 138); fill-opacity: 1;\"/><path class=\"point plotly-customdata\" transform=\"translate(269.36,46.47)\" d=\"M3,0A3,3 0 1,1 0,-3A3,3 0 0,1 3,0Z\" style=\"opacity: 1; stroke-width: 0px; fill: rgb(60, 78, 138); fill-opacity: 1;\"/><path class=\"point plotly-customdata\" transform=\"translate(251.33,36.32)\" d=\"M3,0A3,3 0 1,1 0,-3A3,3 0 0,1 3,0Z\" style=\"opacity: 1; stroke-width: 0px; fill: rgb(59, 80, 138); fill-opacity: 1;\"/><path class=\"point plotly-customdata\" transform=\"translate(204.69,38.93)\" d=\"M3,0A3,3 0 1,1 0,-3A3,3 0 0,1 3,0Z\" style=\"opacity: 1; stroke-width: 0px; fill: rgb(59, 81, 138); fill-opacity: 1;\"/><path class=\"point plotly-customdata\" transform=\"translate(236.77,32.97)\" d=\"M3,0A3,3 0 1,1 0,-3A3,3 0 0,1 3,0Z\" style=\"opacity: 1; stroke-width: 0px; fill: rgb(58, 82, 138); fill-opacity: 1;\"/><path class=\"point plotly-customdata\" transform=\"translate(224.71,22.68)\" d=\"M3,0A3,3 0 1,1 0,-3A3,3 0 0,1 3,0Z\" style=\"opacity: 1; stroke-width: 0px; fill: rgb(58, 83, 139); fill-opacity: 1;\"/><path class=\"point plotly-customdata\" transform=\"translate(232.79,24.83)\" d=\"M3,0A3,3 0 1,1 0,-3A3,3 0 0,1 3,0Z\" style=\"opacity: 1; stroke-width: 0px; fill: rgb(57, 84, 139); fill-opacity: 1;\"/><path class=\"point plotly-customdata\" transform=\"translate(235.11,33.12)\" d=\"M3,0A3,3 0 1,1 0,-3A3,3 0 0,1 3,0Z\" style=\"opacity: 1; stroke-width: 0px; fill: rgb(57, 86, 139); fill-opacity: 1;\"/><path class=\"point plotly-customdata\" transform=\"translate(217.19,30.23)\" d=\"M3,0A3,3 0 1,1 0,-3A3,3 0 0,1 3,0Z\" style=\"opacity: 1; stroke-width: 0px; fill: rgb(56, 87, 139); fill-opacity: 1;\"/><path class=\"point plotly-customdata\" transform=\"translate(237.98,34.89)\" d=\"M3,0A3,3 0 1,1 0,-3A3,3 0 0,1 3,0Z\" style=\"opacity: 1; stroke-width: 0px; fill: rgb(56, 88, 139); fill-opacity: 1;\"/><path class=\"point plotly-customdata\" transform=\"translate(264.94,29.53)\" d=\"M3,0A3,3 0 1,1 0,-3A3,3 0 0,1 3,0Z\" style=\"opacity: 1; stroke-width: 0px; fill: rgb(55, 89, 140); fill-opacity: 1;\"/><path class=\"point plotly-customdata\" transform=\"translate(249.18,32.46)\" d=\"M3,0A3,3 0 1,1 0,-3A3,3 0 0,1 3,0Z\" style=\"opacity: 1; stroke-width: 0px; fill: rgb(55, 90, 140); fill-opacity: 1;\"/><path class=\"point plotly-customdata\" transform=\"translate(244.88,39.1)\" d=\"M3,0A3,3 0 1,1 0,-3A3,3 0 0,1 3,0Z\" style=\"opacity: 1; stroke-width: 0px; fill: rgb(54, 92, 140); fill-opacity: 1;\"/><path class=\"point plotly-customdata\" transform=\"translate(242.04,27.11)\" d=\"M3,0A3,3 0 1,1 0,-3A3,3 0 0,1 3,0Z\" style=\"opacity: 1; stroke-width: 0px; fill: rgb(54, 93, 140); fill-opacity: 1;\"/><path class=\"point plotly-customdata\" transform=\"translate(247.12,41.28)\" d=\"M3,0A3,3 0 1,1 0,-3A3,3 0 0,1 3,0Z\" style=\"opacity: 1; stroke-width: 0px; fill: rgb(53, 94, 140); fill-opacity: 1;\"/><path class=\"point plotly-customdata\" transform=\"translate(255.31,34.06)\" d=\"M3,0A3,3 0 1,1 0,-3A3,3 0 0,1 3,0Z\" style=\"opacity: 1; stroke-width: 0px; fill: rgb(53, 95, 141); fill-opacity: 1;\"/><path class=\"point plotly-customdata\" transform=\"translate(209.41,61.61)\" d=\"M3,0A3,3 0 1,1 0,-3A3,3 0 0,1 3,0Z\" style=\"opacity: 1; stroke-width: 0px; fill: rgb(52, 96, 141); fill-opacity: 1;\"/><path class=\"point plotly-customdata\" transform=\"translate(226.55,66.86)\" d=\"M3,0A3,3 0 1,1 0,-3A3,3 0 0,1 3,0Z\" style=\"opacity: 1; stroke-width: 0px; fill: rgb(52, 98, 141); fill-opacity: 1;\"/><path class=\"point plotly-customdata\" transform=\"translate(228.5,38.7)\" d=\"M3,0A3,3 0 1,1 0,-3A3,3 0 0,1 3,0Z\" style=\"opacity: 1; stroke-width: 0px; fill: rgb(51, 99, 141); fill-opacity: 1;\"/><path class=\"point plotly-customdata\" transform=\"translate(216.36,60.4)\" d=\"M3,0A3,3 0 1,1 0,-3A3,3 0 0,1 3,0Z\" style=\"opacity: 1; stroke-width: 0px; fill: rgb(51, 100, 141); fill-opacity: 1;\"/><path class=\"point plotly-customdata\" transform=\"translate(225.52,57.55)\" d=\"M3,0A3,3 0 1,1 0,-3A3,3 0 0,1 3,0Z\" style=\"opacity: 1; stroke-width: 0px; fill: rgb(50, 101, 142); fill-opacity: 1;\"/><path class=\"point plotly-customdata\" transform=\"translate(223.04,33.1)\" d=\"M3,0A3,3 0 1,1 0,-3A3,3 0 0,1 3,0Z\" style=\"opacity: 1; stroke-width: 0px; fill: rgb(50, 102, 142); fill-opacity: 1;\"/><path class=\"point plotly-customdata\" transform=\"translate(201.74,52.53)\" d=\"M3,0A3,3 0 1,1 0,-3A3,3 0 0,1 3,0Z\" style=\"opacity: 1; stroke-width: 0px; fill: rgb(49, 104, 142); fill-opacity: 1;\"/><path class=\"point plotly-customdata\" transform=\"translate(191.2,52.62)\" d=\"M3,0A3,3 0 1,1 0,-3A3,3 0 0,1 3,0Z\" style=\"opacity: 1; stroke-width: 0px; fill: rgb(49, 105, 142); fill-opacity: 1;\"/><path class=\"point plotly-customdata\" transform=\"translate(199.28,37.22)\" d=\"M3,0A3,3 0 1,1 0,-3A3,3 0 0,1 3,0Z\" style=\"opacity: 1; stroke-width: 0px; fill: rgb(48, 106, 142); fill-opacity: 1;\"/><path class=\"point plotly-customdata\" transform=\"translate(233.59,41.06)\" d=\"M3,0A3,3 0 1,1 0,-3A3,3 0 0,1 3,0Z\" style=\"opacity: 1; stroke-width: 0px; fill: rgb(48, 107, 142); fill-opacity: 1;\"/><path class=\"point plotly-customdata\" transform=\"translate(206.84,43.4)\" d=\"M3,0A3,3 0 1,1 0,-3A3,3 0 0,1 3,0Z\" style=\"opacity: 1; stroke-width: 0px; fill: rgb(47, 108, 142); fill-opacity: 1;\"/><path class=\"point plotly-customdata\" transform=\"translate(259.85,49.11)\" d=\"M3,0A3,3 0 1,1 0,-3A3,3 0 0,1 3,0Z\" style=\"opacity: 1; stroke-width: 0px; fill: rgb(47, 109, 142); fill-opacity: 1;\"/><path class=\"point plotly-customdata\" transform=\"translate(195.76,41.01)\" d=\"M3,0A3,3 0 1,1 0,-3A3,3 0 0,1 3,0Z\" style=\"opacity: 1; stroke-width: 0px; fill: rgb(47, 110, 142); fill-opacity: 1;\"/><path class=\"point plotly-customdata\" transform=\"translate(200.02,41.47)\" d=\"M3,0A3,3 0 1,1 0,-3A3,3 0 0,1 3,0Z\" style=\"opacity: 1; stroke-width: 0px; fill: rgb(46, 111, 142); fill-opacity: 1;\"/><path class=\"point plotly-customdata\" transform=\"translate(193.96,43.46)\" d=\"M3,0A3,3 0 1,1 0,-3A3,3 0 0,1 3,0Z\" style=\"opacity: 1; stroke-width: 0px; fill: rgb(46, 112, 142); fill-opacity: 1;\"/><path class=\"point plotly-customdata\" transform=\"translate(213.19,36.07)\" d=\"M3,0A3,3 0 1,1 0,-3A3,3 0 0,1 3,0Z\" style=\"opacity: 1; stroke-width: 0px; fill: rgb(45, 113, 142); fill-opacity: 1;\"/><path class=\"point plotly-customdata\" transform=\"translate(190.57,46.66)\" d=\"M3,0A3,3 0 1,1 0,-3A3,3 0 0,1 3,0Z\" style=\"opacity: 1; stroke-width: 0px; fill: rgb(45, 114, 142); fill-opacity: 1;\"/><path class=\"point plotly-customdata\" transform=\"translate(185.25,46.75)\" d=\"M3,0A3,3 0 1,1 0,-3A3,3 0 0,1 3,0Z\" style=\"opacity: 1; stroke-width: 0px; fill: rgb(44, 115, 142); fill-opacity: 1;\"/><path class=\"point plotly-customdata\" transform=\"translate(171.59,32.88)\" d=\"M3,0A3,3 0 1,1 0,-3A3,3 0 0,1 3,0Z\" style=\"opacity: 1; stroke-width: 0px; fill: rgb(44, 116, 142); fill-opacity: 1;\"/><path class=\"point plotly-customdata\" transform=\"translate(206.53,41.6)\" d=\"M3,0A3,3 0 1,1 0,-3A3,3 0 0,1 3,0Z\" style=\"opacity: 1; stroke-width: 0px; fill: rgb(44, 117, 142); fill-opacity: 1;\"/><path class=\"point plotly-customdata\" transform=\"translate(247.14,58.41)\" d=\"M3,0A3,3 0 1,1 0,-3A3,3 0 0,1 3,0Z\" style=\"opacity: 1; stroke-width: 0px; fill: rgb(43, 118, 142); fill-opacity: 1;\"/><path class=\"point plotly-customdata\" transform=\"translate(250.36,53.08)\" d=\"M3,0A3,3 0 1,1 0,-3A3,3 0 0,1 3,0Z\" style=\"opacity: 1; stroke-width: 0px; fill: rgb(43, 119, 142); fill-opacity: 1;\"/><path class=\"point plotly-customdata\" transform=\"translate(239.39,58.94)\" d=\"M3,0A3,3 0 1,1 0,-3A3,3 0 0,1 3,0Z\" style=\"opacity: 1; stroke-width: 0px; fill: rgb(42, 120, 142); fill-opacity: 1;\"/><path class=\"point plotly-customdata\" transform=\"translate(186.47,41.21)\" d=\"M3,0A3,3 0 1,1 0,-3A3,3 0 0,1 3,0Z\" style=\"opacity: 1; stroke-width: 0px; fill: rgb(42, 121, 142); fill-opacity: 1;\"/><path class=\"point plotly-customdata\" transform=\"translate(168.47,34.92)\" d=\"M3,0A3,3 0 1,1 0,-3A3,3 0 0,1 3,0Z\" style=\"opacity: 1; stroke-width: 0px; fill: rgb(41, 122, 142); fill-opacity: 1;\"/><path class=\"point plotly-customdata\" transform=\"translate(158.34,44.05)\" d=\"M3,0A3,3 0 1,1 0,-3A3,3 0 0,1 3,0Z\" style=\"opacity: 1; stroke-width: 0px; fill: rgb(41, 123, 142); fill-opacity: 1;\"/><path class=\"point plotly-customdata\" transform=\"translate(169.63,91.71)\" d=\"M3,0A3,3 0 1,1 0,-3A3,3 0 0,1 3,0Z\" style=\"opacity: 1; stroke-width: 0px; fill: rgb(41, 124, 142); fill-opacity: 1;\"/><path class=\"point plotly-customdata\" transform=\"translate(182.81,59.59)\" d=\"M3,0A3,3 0 1,1 0,-3A3,3 0 0,1 3,0Z\" style=\"opacity: 1; stroke-width: 0px; fill: rgb(40, 125, 142); fill-opacity: 1;\"/><path class=\"point plotly-customdata\" transform=\"translate(161.45,46.33)\" d=\"M3,0A3,3 0 1,1 0,-3A3,3 0 0,1 3,0Z\" style=\"opacity: 1; stroke-width: 0px; fill: rgb(40, 126, 142); fill-opacity: 1;\"/><path class=\"point plotly-customdata\" transform=\"translate(159.22,55.85)\" d=\"M3,0A3,3 0 1,1 0,-3A3,3 0 0,1 3,0Z\" style=\"opacity: 1; stroke-width: 0px; fill: rgb(39, 127, 142); fill-opacity: 1;\"/><path class=\"point plotly-customdata\" transform=\"translate(163.35,51)\" d=\"M3,0A3,3 0 1,1 0,-3A3,3 0 0,1 3,0Z\" style=\"opacity: 1; stroke-width: 0px; fill: rgb(39, 128, 142); fill-opacity: 1;\"/><path class=\"point plotly-customdata\" transform=\"translate(158.66,71)\" d=\"M3,0A3,3 0 1,1 0,-3A3,3 0 0,1 3,0Z\" style=\"opacity: 1; stroke-width: 0px; fill: rgb(38, 129, 142); fill-opacity: 1;\"/><path class=\"point plotly-customdata\" transform=\"translate(182.65,52.87)\" d=\"M3,0A3,3 0 1,1 0,-3A3,3 0 0,1 3,0Z\" style=\"opacity: 1; stroke-width: 0px; fill: rgb(37, 134, 141); fill-opacity: 1;\"/><path class=\"point plotly-customdata\" transform=\"translate(208.36,45.61)\" d=\"M3,0A3,3 0 1,1 0,-3A3,3 0 0,1 3,0Z\" style=\"opacity: 1; stroke-width: 0px; fill: rgb(37, 135, 141); fill-opacity: 1;\"/><path class=\"point plotly-customdata\" transform=\"translate(184.15,44.23)\" d=\"M3,0A3,3 0 1,1 0,-3A3,3 0 0,1 3,0Z\" style=\"opacity: 1; stroke-width: 0px; fill: rgb(36, 136, 141); fill-opacity: 1;\"/><path class=\"point plotly-customdata\" transform=\"translate(160.48,57.39)\" d=\"M3,0A3,3 0 1,1 0,-3A3,3 0 0,1 3,0Z\" style=\"opacity: 1; stroke-width: 0px; fill: rgb(36, 137, 141); fill-opacity: 1;\"/><path class=\"point plotly-customdata\" transform=\"translate(117.35,110.69)\" d=\"M3,0A3,3 0 1,1 0,-3A3,3 0 0,1 3,0Z\" style=\"opacity: 1; stroke-width: 0px; fill: rgb(36, 139, 140); fill-opacity: 1;\"/><path class=\"point plotly-customdata\" transform=\"translate(118.15,103.7)\" d=\"M3,0A3,3 0 1,1 0,-3A3,3 0 0,1 3,0Z\" style=\"opacity: 1; stroke-width: 0px; fill: rgb(36, 140, 140); fill-opacity: 1;\"/><path class=\"point plotly-customdata\" transform=\"translate(174.65,69.23)\" d=\"M3,0A3,3 0 1,1 0,-3A3,3 0 0,1 3,0Z\" style=\"opacity: 1; stroke-width: 0px; fill: rgb(35, 141, 140); fill-opacity: 1;\"/><path class=\"point plotly-customdata\" transform=\"translate(112.43,95.92)\" d=\"M3,0A3,3 0 1,1 0,-3A3,3 0 0,1 3,0Z\" style=\"opacity: 1; stroke-width: 0px; fill: rgb(35, 142, 140); fill-opacity: 1;\"/><path class=\"point plotly-customdata\" transform=\"translate(108.75,92.08)\" d=\"M3,0A3,3 0 1,1 0,-3A3,3 0 0,1 3,0Z\" style=\"opacity: 1; stroke-width: 0px; fill: rgb(35, 143, 140); fill-opacity: 1;\"/><path class=\"point plotly-customdata\" transform=\"translate(133.8,103.89)\" d=\"M3,0A3,3 0 1,1 0,-3A3,3 0 0,1 3,0Z\" style=\"opacity: 1; stroke-width: 0px; fill: rgb(35, 144, 140); fill-opacity: 1;\"/><path class=\"point plotly-customdata\" transform=\"translate(90.48,91.28)\" d=\"M3,0A3,3 0 1,1 0,-3A3,3 0 0,1 3,0Z\" style=\"opacity: 1; stroke-width: 0px; fill: rgb(34, 145, 139); fill-opacity: 1;\"/><path class=\"point plotly-customdata\" transform=\"translate(115.88,106.49)\" d=\"M3,0A3,3 0 1,1 0,-3A3,3 0 0,1 3,0Z\" style=\"opacity: 1; stroke-width: 0px; fill: rgb(34, 146, 139); fill-opacity: 1;\"/><path class=\"point plotly-customdata\" transform=\"translate(145.34,55.32)\" d=\"M3,0A3,3 0 1,1 0,-3A3,3 0 0,1 3,0Z\" style=\"opacity: 1; stroke-width: 0px; fill: rgb(34, 147, 139); fill-opacity: 1;\"/><path class=\"point plotly-customdata\" transform=\"translate(186.58,65.82)\" d=\"M3,0A3,3 0 1,1 0,-3A3,3 0 0,1 3,0Z\" style=\"opacity: 1; stroke-width: 0px; fill: rgb(33, 148, 139); fill-opacity: 1;\"/><path class=\"point plotly-customdata\" transform=\"translate(141.81,70.06)\" d=\"M3,0A3,3 0 1,1 0,-3A3,3 0 0,1 3,0Z\" style=\"opacity: 1; stroke-width: 0px; fill: rgb(33, 149, 139); fill-opacity: 1;\"/><path class=\"point plotly-customdata\" transform=\"translate(115.51,65.28)\" d=\"M3,0A3,3 0 1,1 0,-3A3,3 0 0,1 3,0Z\" style=\"opacity: 1; stroke-width: 0px; fill: rgb(33, 151, 138); fill-opacity: 1;\"/><path class=\"point plotly-customdata\" transform=\"translate(156.72,112.49)\" d=\"M3,0A3,3 0 1,1 0,-3A3,3 0 0,1 3,0Z\" style=\"opacity: 1; stroke-width: 0px; fill: rgb(33, 152, 138); fill-opacity: 1;\"/><path class=\"point plotly-customdata\" transform=\"translate(182.95,132.5)\" d=\"M3,0A3,3 0 1,1 0,-3A3,3 0 0,1 3,0Z\" style=\"opacity: 1; stroke-width: 0px; fill: rgb(32, 153, 138); fill-opacity: 1;\"/><path class=\"point plotly-customdata\" transform=\"translate(160.31,127.72)\" d=\"M3,0A3,3 0 1,1 0,-3A3,3 0 0,1 3,0Z\" style=\"opacity: 1; stroke-width: 0px; fill: rgb(32, 154, 138); fill-opacity: 1;\"/><path class=\"point plotly-customdata\" transform=\"translate(155.86,93.79)\" d=\"M3,0A3,3 0 1,1 0,-3A3,3 0 0,1 3,0Z\" style=\"opacity: 1; stroke-width: 0px; fill: rgb(32, 155, 138); fill-opacity: 1;\"/><path class=\"point plotly-customdata\" transform=\"translate(190.65,148.88)\" d=\"M3,0A3,3 0 1,1 0,-3A3,3 0 0,1 3,0Z\" style=\"opacity: 1; stroke-width: 0px; fill: rgb(32, 156, 137); fill-opacity: 1;\"/><path class=\"point plotly-customdata\" transform=\"translate(152.29,127.02)\" d=\"M3,0A3,3 0 1,1 0,-3A3,3 0 0,1 3,0Z\" style=\"opacity: 1; stroke-width: 0px; fill: rgb(31, 157, 137); fill-opacity: 1;\"/><path class=\"point plotly-customdata\" transform=\"translate(111.92,133.52)\" d=\"M3,0A3,3 0 1,1 0,-3A3,3 0 0,1 3,0Z\" style=\"opacity: 1; stroke-width: 0px; fill: rgb(31, 158, 137); fill-opacity: 1;\"/><path class=\"point plotly-customdata\" transform=\"translate(154.13,112)\" d=\"M3,0A3,3 0 1,1 0,-3A3,3 0 0,1 3,0Z\" style=\"opacity: 1; stroke-width: 0px; fill: rgb(32, 159, 136); fill-opacity: 1;\"/><path class=\"point plotly-customdata\" transform=\"translate(104,124.62)\" d=\"M3,0A3,3 0 1,1 0,-3A3,3 0 0,1 3,0Z\" style=\"opacity: 1; stroke-width: 0px; fill: rgb(33, 160, 136); fill-opacity: 1;\"/><path class=\"point plotly-customdata\" transform=\"translate(105.08,135.64)\" d=\"M3,0A3,3 0 1,1 0,-3A3,3 0 0,1 3,0Z\" style=\"opacity: 1; stroke-width: 0px; fill: rgb(34, 161, 135); fill-opacity: 1;\"/><path class=\"point plotly-customdata\" transform=\"translate(64.35,112.15)\" d=\"M3,0A3,3 0 1,1 0,-3A3,3 0 0,1 3,0Z\" style=\"opacity: 1; stroke-width: 0px; fill: rgb(35, 162, 134); fill-opacity: 1;\"/><path class=\"point plotly-customdata\" transform=\"translate(65.8,112.66)\" d=\"M3,0A3,3 0 1,1 0,-3A3,3 0 0,1 3,0Z\" style=\"opacity: 1; stroke-width: 0px; fill: rgb(35, 163, 134); fill-opacity: 1;\"/><path class=\"point plotly-customdata\" transform=\"translate(71.1,94.36)\" d=\"M3,0A3,3 0 1,1 0,-3A3,3 0 0,1 3,0Z\" style=\"opacity: 1; stroke-width: 0px; fill: rgb(36, 164, 133); fill-opacity: 1;\"/><path class=\"point plotly-customdata\" transform=\"translate(50.4,102.45)\" d=\"M3,0A3,3 0 1,1 0,-3A3,3 0 0,1 3,0Z\" style=\"opacity: 1; stroke-width: 0px; fill: rgb(37, 165, 133); fill-opacity: 1;\"/><path class=\"point plotly-customdata\" transform=\"translate(67.64,100.18)\" d=\"M3,0A3,3 0 1,1 0,-3A3,3 0 0,1 3,0Z\" style=\"opacity: 1; stroke-width: 0px; fill: rgb(38, 166, 132); fill-opacity: 1;\"/><path class=\"point plotly-customdata\" transform=\"translate(70.09,107.01)\" d=\"M3,0A3,3 0 1,1 0,-3A3,3 0 0,1 3,0Z\" style=\"opacity: 1; stroke-width: 0px; fill: rgb(39, 167, 131); fill-opacity: 1;\"/><path class=\"point plotly-customdata\" transform=\"translate(47.59,91.96)\" d=\"M3,0A3,3 0 1,1 0,-3A3,3 0 0,1 3,0Z\" style=\"opacity: 1; stroke-width: 0px; fill: rgb(40, 168, 131); fill-opacity: 1;\"/><path class=\"point plotly-customdata\" transform=\"translate(65.74,116.69)\" d=\"M3,0A3,3 0 1,1 0,-3A3,3 0 0,1 3,0Z\" style=\"opacity: 1; stroke-width: 0px; fill: rgb(40, 169, 130); fill-opacity: 1;\"/><path class=\"point plotly-customdata\" transform=\"translate(53.93,121.27)\" d=\"M3,0A3,3 0 1,1 0,-3A3,3 0 0,1 3,0Z\" style=\"opacity: 1; stroke-width: 0px; fill: rgb(41, 170, 129); fill-opacity: 1;\"/><path class=\"point plotly-customdata\" transform=\"translate(177.52,127.78)\" d=\"M3,0A3,3 0 1,1 0,-3A3,3 0 0,1 3,0Z\" style=\"opacity: 1; stroke-width: 0px; fill: rgb(42, 171, 129); fill-opacity: 1;\"/><path class=\"point plotly-customdata\" transform=\"translate(121.57,151.42)\" d=\"M3,0A3,3 0 1,1 0,-3A3,3 0 0,1 3,0Z\" style=\"opacity: 1; stroke-width: 0px; fill: rgb(44, 173, 128); fill-opacity: 1;\"/><path class=\"point plotly-customdata\" transform=\"translate(106.26,163.02)\" d=\"M3,0A3,3 0 1,1 0,-3A3,3 0 0,1 3,0Z\" style=\"opacity: 1; stroke-width: 0px; fill: rgb(45, 174, 127); fill-opacity: 1;\"/><path class=\"point plotly-customdata\" transform=\"translate(169.34,161.02)\" d=\"M3,0A3,3 0 1,1 0,-3A3,3 0 0,1 3,0Z\" style=\"opacity: 1; stroke-width: 0px; fill: rgb(46, 175, 126); fill-opacity: 1;\"/><path class=\"point plotly-customdata\" transform=\"translate(133.85,160.01)\" d=\"M3,0A3,3 0 1,1 0,-3A3,3 0 0,1 3,0Z\" style=\"opacity: 1; stroke-width: 0px; fill: rgb(46, 176, 126); fill-opacity: 1;\"/><path class=\"point plotly-customdata\" transform=\"translate(82.67,159.03)\" d=\"M3,0A3,3 0 1,1 0,-3A3,3 0 0,1 3,0Z\" style=\"opacity: 1; stroke-width: 0px; fill: rgb(47, 177, 125); fill-opacity: 1;\"/><path class=\"point plotly-customdata\" transform=\"translate(127.64,180.69)\" d=\"M3,0A3,3 0 1,1 0,-3A3,3 0 0,1 3,0Z\" style=\"opacity: 1; stroke-width: 0px; fill: rgb(48, 178, 125); fill-opacity: 1;\"/><path class=\"point plotly-customdata\" transform=\"translate(145.65,183.28)\" d=\"M3,0A3,3 0 1,1 0,-3A3,3 0 0,1 3,0Z\" style=\"opacity: 1; stroke-width: 0px; fill: rgb(49, 178, 124); fill-opacity: 1;\"/><path class=\"point plotly-customdata\" transform=\"translate(168.07,184.98)\" d=\"M3,0A3,3 0 1,1 0,-3A3,3 0 0,1 3,0Z\" style=\"opacity: 1; stroke-width: 0px; fill: rgb(50, 179, 123); fill-opacity: 1;\"/><path class=\"point plotly-customdata\" transform=\"translate(225.3,182.66)\" d=\"M3,0A3,3 0 1,1 0,-3A3,3 0 0,1 3,0Z\" style=\"opacity: 1; stroke-width: 0px; fill: rgb(51, 180, 123); fill-opacity: 1;\"/><path class=\"point plotly-customdata\" transform=\"translate(218.15,185.75)\" d=\"M3,0A3,3 0 1,1 0,-3A3,3 0 0,1 3,0Z\" style=\"opacity: 1; stroke-width: 0px; fill: rgb(52, 181, 122); fill-opacity: 1;\"/><path class=\"point plotly-customdata\" transform=\"translate(164.83,172.84)\" d=\"M3,0A3,3 0 1,1 0,-3A3,3 0 0,1 3,0Z\" style=\"opacity: 1; stroke-width: 0px; fill: rgb(52, 182, 121); fill-opacity: 1;\"/><path class=\"point plotly-customdata\" transform=\"translate(170.61,175.43)\" d=\"M3,0A3,3 0 1,1 0,-3A3,3 0 0,1 3,0Z\" style=\"opacity: 1; stroke-width: 0px; fill: rgb(54, 183, 121); fill-opacity: 1;\"/><path class=\"point plotly-customdata\" transform=\"translate(54.57,157.6)\" d=\"M3,0A3,3 0 1,1 0,-3A3,3 0 0,1 3,0Z\" style=\"opacity: 1; stroke-width: 0px; fill: rgb(56, 184, 119); fill-opacity: 1;\"/><path class=\"point plotly-customdata\" transform=\"translate(39.36,158.59)\" d=\"M3,0A3,3 0 1,1 0,-3A3,3 0 0,1 3,0Z\" style=\"opacity: 1; stroke-width: 0px; fill: rgb(58, 185, 118); fill-opacity: 1;\"/><path class=\"point plotly-customdata\" transform=\"translate(57.04,192.17)\" d=\"M3,0A3,3 0 1,1 0,-3A3,3 0 0,1 3,0Z\" style=\"opacity: 1; stroke-width: 0px; fill: rgb(60, 186, 117); fill-opacity: 1;\"/><path class=\"point plotly-customdata\" transform=\"translate(72.49,176.79)\" d=\"M3,0A3,3 0 1,1 0,-3A3,3 0 0,1 3,0Z\" style=\"opacity: 1; stroke-width: 0px; fill: rgb(63, 187, 115); fill-opacity: 1;\"/><path class=\"point plotly-customdata\" transform=\"translate(58.97,193.1)\" d=\"M3,0A3,3 0 1,1 0,-3A3,3 0 0,1 3,0Z\" style=\"opacity: 1; stroke-width: 0px; fill: rgb(65, 188, 114); fill-opacity: 1;\"/><path class=\"point plotly-customdata\" transform=\"translate(149.79,202.14)\" d=\"M3,0A3,3 0 1,1 0,-3A3,3 0 0,1 3,0Z\" style=\"opacity: 1; stroke-width: 0px; fill: rgb(67, 189, 113); fill-opacity: 1;\"/><path class=\"point plotly-customdata\" transform=\"translate(130.02,211.71)\" d=\"M3,0A3,3 0 1,1 0,-3A3,3 0 0,1 3,0Z\" style=\"opacity: 1; stroke-width: 0px; fill: rgb(69, 190, 112); fill-opacity: 1;\"/><path class=\"point plotly-customdata\" transform=\"translate(139.44,192.15)\" d=\"M3,0A3,3 0 1,1 0,-3A3,3 0 0,1 3,0Z\" style=\"opacity: 1; stroke-width: 0px; fill: rgb(71, 190, 110); fill-opacity: 1;\"/><path class=\"point plotly-customdata\" transform=\"translate(36.12,166.69)\" d=\"M3,0A3,3 0 1,1 0,-3A3,3 0 0,1 3,0Z\" style=\"opacity: 1; stroke-width: 0px; fill: rgb(71, 190, 110); fill-opacity: 1;\"/><path class=\"point plotly-customdata\" transform=\"translate(36.47,173.61)\" d=\"M3,0A3,3 0 1,1 0,-3A3,3 0 0,1 3,0Z\" style=\"opacity: 1; stroke-width: 0px; fill: rgb(74, 191, 109); fill-opacity: 1;\"/><path class=\"point plotly-customdata\" transform=\"translate(23,185.12)\" d=\"M3,0A3,3 0 1,1 0,-3A3,3 0 0,1 3,0Z\" style=\"opacity: 1; stroke-width: 0px; fill: rgb(76, 192, 108); fill-opacity: 1;\"/><path class=\"point plotly-customdata\" transform=\"translate(25.17,188.99)\" d=\"M3,0A3,3 0 1,1 0,-3A3,3 0 0,1 3,0Z\" style=\"opacity: 1; stroke-width: 0px; fill: rgb(78, 193, 106); fill-opacity: 1;\"/><path class=\"point plotly-customdata\" transform=\"translate(61.94,176.26)\" d=\"M3,0A3,3 0 1,1 0,-3A3,3 0 0,1 3,0Z\" style=\"opacity: 1; stroke-width: 0px; fill: rgb(80, 194, 105); fill-opacity: 1;\"/><path class=\"point plotly-customdata\" transform=\"translate(108.29,201.62)\" d=\"M3,0A3,3 0 1,1 0,-3A3,3 0 0,1 3,0Z\" style=\"opacity: 1; stroke-width: 0px; fill: rgb(82, 195, 104); fill-opacity: 1;\"/><path class=\"point plotly-customdata\" transform=\"translate(73.22,198.47)\" d=\"M3,0A3,3 0 1,1 0,-3A3,3 0 0,1 3,0Z\" style=\"opacity: 1; stroke-width: 0px; fill: rgb(85, 196, 103); fill-opacity: 1;\"/><path class=\"point plotly-customdata\" transform=\"translate(86.58,187.97)\" d=\"M3,0A3,3 0 1,1 0,-3A3,3 0 0,1 3,0Z\" style=\"opacity: 1; stroke-width: 0px; fill: rgb(87, 197, 101); fill-opacity: 1;\"/><path class=\"point plotly-customdata\" transform=\"translate(67.38,199.42)\" d=\"M3,0A3,3 0 1,1 0,-3A3,3 0 0,1 3,0Z\" style=\"opacity: 1; stroke-width: 0px; fill: rgb(89, 198, 100); fill-opacity: 1;\"/><path class=\"point plotly-customdata\" transform=\"translate(96.49,203)\" d=\"M3,0A3,3 0 1,1 0,-3A3,3 0 0,1 3,0Z\" style=\"opacity: 1; stroke-width: 0px; fill: rgb(89, 198, 100); fill-opacity: 1;\"/><path class=\"point plotly-customdata\" transform=\"translate(124.08,210.5)\" d=\"M3,0A3,3 0 1,1 0,-3A3,3 0 0,1 3,0Z\" style=\"opacity: 1; stroke-width: 0px; fill: rgb(91, 198, 99); fill-opacity: 1;\"/><path class=\"point plotly-customdata\" transform=\"translate(137.97,220.43)\" d=\"M3,0A3,3 0 1,1 0,-3A3,3 0 0,1 3,0Z\" style=\"opacity: 1; stroke-width: 0px; fill: rgb(94, 199, 98); fill-opacity: 1;\"/><path class=\"point plotly-customdata\" transform=\"translate(173.74,221.38)\" d=\"M3,0A3,3 0 1,1 0,-3A3,3 0 0,1 3,0Z\" style=\"opacity: 1; stroke-width: 0px; fill: rgb(96, 200, 96); fill-opacity: 1;\"/><path class=\"point plotly-customdata\" transform=\"translate(173.25,224.18)\" d=\"M3,0A3,3 0 1,1 0,-3A3,3 0 0,1 3,0Z\" style=\"opacity: 1; stroke-width: 0px; fill: rgb(98, 201, 95); fill-opacity: 1;\"/><path class=\"point plotly-customdata\" transform=\"translate(205.67,212.04)\" d=\"M3,0A3,3 0 1,1 0,-3A3,3 0 0,1 3,0Z\" style=\"opacity: 1; stroke-width: 0px; fill: rgb(100, 202, 94); fill-opacity: 1;\"/><path class=\"point plotly-customdata\" transform=\"translate(174.97,219.57)\" d=\"M3,0A3,3 0 1,1 0,-3A3,3 0 0,1 3,0Z\" style=\"opacity: 1; stroke-width: 0px; fill: rgb(102, 203, 92); fill-opacity: 1;\"/><path class=\"point plotly-customdata\" transform=\"translate(193.72,219.55)\" d=\"M3,0A3,3 0 1,1 0,-3A3,3 0 0,1 3,0Z\" style=\"opacity: 1; stroke-width: 0px; fill: rgb(105, 204, 91); fill-opacity: 1;\"/><path class=\"point plotly-customdata\" transform=\"translate(211.33,200.65)\" d=\"M3,0A3,3 0 1,1 0,-3A3,3 0 0,1 3,0Z\" style=\"opacity: 1; stroke-width: 0px; fill: rgb(107, 205, 90); fill-opacity: 1;\"/><path class=\"point plotly-customdata\" transform=\"translate(175.45,224.13)\" d=\"M3,0A3,3 0 1,1 0,-3A3,3 0 0,1 3,0Z\" style=\"opacity: 1; stroke-width: 0px; fill: rgb(109, 206, 89); fill-opacity: 1;\"/><path class=\"point plotly-customdata\" transform=\"translate(205.51,204.65)\" d=\"M3,0A3,3 0 1,1 0,-3A3,3 0 0,1 3,0Z\" style=\"opacity: 1; stroke-width: 0px; fill: rgb(112, 206, 87); fill-opacity: 1;\"/><path class=\"point plotly-customdata\" transform=\"translate(175.93,228.19)\" d=\"M3,0A3,3 0 1,1 0,-3A3,3 0 0,1 3,0Z\" style=\"opacity: 1; stroke-width: 0px; fill: rgb(114, 207, 85); fill-opacity: 1;\"/><path class=\"point plotly-customdata\" transform=\"translate(175.37,202.02)\" d=\"M3,0A3,3 0 1,1 0,-3A3,3 0 0,1 3,0Z\" style=\"opacity: 1; stroke-width: 0px; fill: rgb(117, 208, 84); fill-opacity: 1;\"/><path class=\"point plotly-customdata\" transform=\"translate(208.23,228.74)\" d=\"M3,0A3,3 0 1,1 0,-3A3,3 0 0,1 3,0Z\" style=\"opacity: 1; stroke-width: 0px; fill: rgb(120, 208, 82); fill-opacity: 1;\"/><path class=\"point plotly-customdata\" transform=\"translate(140.8,212.94)\" d=\"M3,0A3,3 0 1,1 0,-3A3,3 0 0,1 3,0Z\" style=\"opacity: 1; stroke-width: 0px; fill: rgb(123, 209, 80); fill-opacity: 1;\"/><path class=\"point plotly-customdata\" transform=\"translate(179.44,230.43)\" d=\"M3,0A3,3 0 1,1 0,-3A3,3 0 0,1 3,0Z\" style=\"opacity: 1; stroke-width: 0px; fill: rgb(125, 209, 78); fill-opacity: 1;\"/><path class=\"point plotly-customdata\" transform=\"translate(156.39,201.08)\" d=\"M3,0A3,3 0 1,1 0,-3A3,3 0 0,1 3,0Z\" style=\"opacity: 1; stroke-width: 0px; fill: rgb(128, 210, 77); fill-opacity: 1;\"/><path class=\"point plotly-customdata\" transform=\"translate(166.06,232.99)\" d=\"M3,0A3,3 0 1,1 0,-3A3,3 0 0,1 3,0Z\" style=\"opacity: 1; stroke-width: 0px; fill: rgb(131, 211, 75); fill-opacity: 1;\"/><path class=\"point plotly-customdata\" transform=\"translate(179.55,227.06)\" d=\"M3,0A3,3 0 1,1 0,-3A3,3 0 0,1 3,0Z\" style=\"opacity: 1; stroke-width: 0px; fill: rgb(134, 211, 73); fill-opacity: 1;\"/><path class=\"point plotly-customdata\" transform=\"translate(210.05,210.96)\" d=\"M3,0A3,3 0 1,1 0,-3A3,3 0 0,1 3,0Z\" style=\"opacity: 1; stroke-width: 0px; fill: rgb(136, 212, 71); fill-opacity: 1;\"/><path class=\"point plotly-customdata\" transform=\"translate(79.46,198.19)\" d=\"M3,0A3,3 0 1,1 0,-3A3,3 0 0,1 3,0Z\" style=\"opacity: 1; stroke-width: 0px; fill: rgb(139, 213, 70); fill-opacity: 1;\"/><path class=\"point plotly-customdata\" transform=\"translate(168.69,229.21)\" d=\"M3,0A3,3 0 1,1 0,-3A3,3 0 0,1 3,0Z\" style=\"opacity: 1; stroke-width: 0px; fill: rgb(142, 213, 68); fill-opacity: 1;\"/><path class=\"point plotly-customdata\" transform=\"translate(192.76,247.3)\" d=\"M3,0A3,3 0 1,1 0,-3A3,3 0 0,1 3,0Z\" style=\"opacity: 1; stroke-width: 0px; fill: rgb(145, 214, 66); fill-opacity: 1;\"/><path class=\"point plotly-customdata\" transform=\"translate(243.9,241.01)\" d=\"M3,0A3,3 0 1,1 0,-3A3,3 0 0,1 3,0Z\" style=\"opacity: 1; stroke-width: 0px; fill: rgb(147, 214, 64); fill-opacity: 1;\"/><path class=\"point plotly-customdata\" transform=\"translate(233.39,248.45)\" d=\"M3,0A3,3 0 1,1 0,-3A3,3 0 0,1 3,0Z\" style=\"opacity: 1; stroke-width: 0px; fill: rgb(150, 215, 63); fill-opacity: 1;\"/><path class=\"point plotly-customdata\" transform=\"translate(279.65,239.63)\" d=\"M3,0A3,3 0 1,1 0,-3A3,3 0 0,1 3,0Z\" style=\"opacity: 1; stroke-width: 0px; fill: rgb(153, 216, 61); fill-opacity: 1;\"/><path class=\"point plotly-customdata\" transform=\"translate(281.38,226.22)\" d=\"M3,0A3,3 0 1,1 0,-3A3,3 0 0,1 3,0Z\" style=\"opacity: 1; stroke-width: 0px; fill: rgb(156, 216, 59); fill-opacity: 1;\"/><path class=\"point plotly-customdata\" transform=\"translate(279.67,236.32)\" d=\"M3,0A3,3 0 1,1 0,-3A3,3 0 0,1 3,0Z\" style=\"opacity: 1; stroke-width: 0px; fill: rgb(158, 217, 57); fill-opacity: 1;\"/><path class=\"point plotly-customdata\" transform=\"translate(259.68,253.18)\" d=\"M3,0A3,3 0 1,1 0,-3A3,3 0 0,1 3,0Z\" style=\"opacity: 1; stroke-width: 0px; fill: rgb(161, 218, 56); fill-opacity: 1;\"/><path class=\"point plotly-customdata\" transform=\"translate(296.97,246.65)\" d=\"M3,0A3,3 0 1,1 0,-3A3,3 0 0,1 3,0Z\" style=\"opacity: 1; stroke-width: 0px; fill: rgb(164, 218, 54); fill-opacity: 1;\"/><path class=\"point plotly-customdata\" transform=\"translate(258.44,236.09)\" d=\"M3,0A3,3 0 1,1 0,-3A3,3 0 0,1 3,0Z\" style=\"opacity: 1; stroke-width: 0px; fill: rgb(167, 219, 52); fill-opacity: 1;\"/><path class=\"point plotly-customdata\" transform=\"translate(268.45,245.47)\" d=\"M3,0A3,3 0 1,1 0,-3A3,3 0 0,1 3,0Z\" style=\"opacity: 1; stroke-width: 0px; fill: rgb(169, 219, 50); fill-opacity: 1;\"/><path class=\"point plotly-customdata\" transform=\"translate(249.38,254.37)\" d=\"M3,0A3,3 0 1,1 0,-3A3,3 0 0,1 3,0Z\" style=\"opacity: 1; stroke-width: 0px; fill: rgb(172, 220, 49); fill-opacity: 1;\"/><path class=\"point plotly-customdata\" transform=\"translate(296.84,252.94)\" d=\"M3,0A3,3 0 1,1 0,-3A3,3 0 0,1 3,0Z\" style=\"opacity: 1; stroke-width: 0px; fill: rgb(175, 221, 47); fill-opacity: 1;\"/><path class=\"point plotly-customdata\" transform=\"translate(289.43,244.13)\" d=\"M3,0A3,3 0 1,1 0,-3A3,3 0 0,1 3,0Z\" style=\"opacity: 1; stroke-width: 0px; fill: rgb(178, 221, 45); fill-opacity: 1;\"/><path class=\"point plotly-customdata\" transform=\"translate(308.79,251.15)\" d=\"M3,0A3,3 0 1,1 0,-3A3,3 0 0,1 3,0Z\" style=\"opacity: 1; stroke-width: 0px; fill: rgb(180, 222, 43); fill-opacity: 1;\"/><path class=\"point plotly-customdata\" transform=\"translate(303.67,260.48)\" d=\"M3,0A3,3 0 1,1 0,-3A3,3 0 0,1 3,0Z\" style=\"opacity: 1; stroke-width: 0px; fill: rgb(183, 222, 43); fill-opacity: 1;\"/><path class=\"point plotly-customdata\" transform=\"translate(315.66,259.79)\" d=\"M3,0A3,3 0 1,1 0,-3A3,3 0 0,1 3,0Z\" style=\"opacity: 1; stroke-width: 0px; fill: rgb(186, 223, 43); fill-opacity: 1;\"/><path class=\"point plotly-customdata\" transform=\"translate(297.37,255.38)\" d=\"M3,0A3,3 0 1,1 0,-3A3,3 0 0,1 3,0Z\" style=\"opacity: 1; stroke-width: 0px; fill: rgb(189, 223, 42); fill-opacity: 1;\"/><path class=\"point plotly-customdata\" transform=\"translate(304.24,264.15)\" d=\"M3,0A3,3 0 1,1 0,-3A3,3 0 0,1 3,0Z\" style=\"opacity: 1; stroke-width: 0px; fill: rgb(192, 223, 42); fill-opacity: 1;\"/><path class=\"point plotly-customdata\" transform=\"translate(251.86,240.02)\" d=\"M3,0A3,3 0 1,1 0,-3A3,3 0 0,1 3,0Z\" style=\"opacity: 1; stroke-width: 0px; fill: rgb(194, 224, 42); fill-opacity: 1;\"/><path class=\"point plotly-customdata\" transform=\"translate(358.58,204.06)\" d=\"M3,0A3,3 0 1,1 0,-3A3,3 0 0,1 3,0Z\" style=\"opacity: 1; stroke-width: 0px; fill: rgb(194, 224, 42); fill-opacity: 1;\"/><path class=\"point plotly-customdata\" transform=\"translate(332.03,228.61)\" d=\"M3,0A3,3 0 1,1 0,-3A3,3 0 0,1 3,0Z\" style=\"opacity: 1; stroke-width: 0px; fill: rgb(197, 224, 42); fill-opacity: 1;\"/><path class=\"point plotly-customdata\" transform=\"translate(304.36,219.7)\" d=\"M3,0A3,3 0 1,1 0,-3A3,3 0 0,1 3,0Z\" style=\"opacity: 1; stroke-width: 0px; fill: rgb(200, 224, 41); fill-opacity: 1;\"/><path class=\"point plotly-customdata\" transform=\"translate(325.66,240.95)\" d=\"M3,0A3,3 0 1,1 0,-3A3,3 0 0,1 3,0Z\" style=\"opacity: 1; stroke-width: 0px; fill: rgb(203, 225, 41); fill-opacity: 1;\"/><path class=\"point plotly-customdata\" transform=\"translate(291.63,228.97)\" d=\"M3,0A3,3 0 1,1 0,-3A3,3 0 0,1 3,0Z\" style=\"opacity: 1; stroke-width: 0px; fill: rgb(206, 225, 41); fill-opacity: 1;\"/><path class=\"point plotly-customdata\" transform=\"translate(303.24,243.41)\" d=\"M3,0A3,3 0 1,1 0,-3A3,3 0 0,1 3,0Z\" style=\"opacity: 1; stroke-width: 0px; fill: rgb(208, 225, 41); fill-opacity: 1;\"/><path class=\"point plotly-customdata\" transform=\"translate(328.85,221.83)\" d=\"M3,0A3,3 0 1,1 0,-3A3,3 0 0,1 3,0Z\" style=\"opacity: 1; stroke-width: 0px; fill: rgb(211, 226, 40); fill-opacity: 1;\"/><path class=\"point plotly-customdata\" transform=\"translate(306.22,234.26)\" d=\"M3,0A3,3 0 1,1 0,-3A3,3 0 0,1 3,0Z\" style=\"opacity: 1; stroke-width: 0px; fill: rgb(214, 226, 40); fill-opacity: 1;\"/><path class=\"point plotly-customdata\" transform=\"translate(300.96,251.22)\" d=\"M3,0A3,3 0 1,1 0,-3A3,3 0 0,1 3,0Z\" style=\"opacity: 1; stroke-width: 0px; fill: rgb(217, 226, 40); fill-opacity: 1;\"/><path class=\"point plotly-customdata\" transform=\"translate(313.73,249.53)\" d=\"M3,0A3,3 0 1,1 0,-3A3,3 0 0,1 3,0Z\" style=\"opacity: 1; stroke-width: 0px; fill: rgb(219, 227, 40); fill-opacity: 1;\"/><path class=\"point plotly-customdata\" transform=\"translate(333.53,252.56)\" d=\"M3,0A3,3 0 1,1 0,-3A3,3 0 0,1 3,0Z\" style=\"opacity: 1; stroke-width: 0px; fill: rgb(222, 227, 40); fill-opacity: 1;\"/><path class=\"point plotly-customdata\" transform=\"translate(338.47,247.55)\" d=\"M3,0A3,3 0 1,1 0,-3A3,3 0 0,1 3,0Z\" style=\"opacity: 1; stroke-width: 0px; fill: rgb(225, 228, 39); fill-opacity: 1;\"/><path class=\"point plotly-customdata\" transform=\"translate(339.84,253.91)\" d=\"M3,0A3,3 0 1,1 0,-3A3,3 0 0,1 3,0Z\" style=\"opacity: 1; stroke-width: 0px; fill: rgb(228, 228, 39); fill-opacity: 1;\"/><path class=\"point plotly-customdata\" transform=\"translate(345.59,258.58)\" d=\"M3,0A3,3 0 1,1 0,-3A3,3 0 0,1 3,0Z\" style=\"opacity: 1; stroke-width: 0px; fill: rgb(231, 228, 39); fill-opacity: 1;\"/><path class=\"point plotly-customdata\" transform=\"translate(342.2,251.99)\" d=\"M3,0A3,3 0 1,1 0,-3A3,3 0 0,1 3,0Z\" style=\"opacity: 1; stroke-width: 0px; fill: rgb(233, 229, 39); fill-opacity: 1;\"/><path class=\"point plotly-customdata\" transform=\"translate(335,245.69)\" d=\"M3,0A3,3 0 1,1 0,-3A3,3 0 0,1 3,0Z\" style=\"opacity: 1; stroke-width: 0px; fill: rgb(236, 229, 38); fill-opacity: 1;\"/><path class=\"point plotly-customdata\" transform=\"translate(320.16,225.95)\" d=\"M3,0A3,3 0 1,1 0,-3A3,3 0 0,1 3,0Z\" style=\"opacity: 1; stroke-width: 0px; fill: rgb(239, 229, 38); fill-opacity: 1;\"/><path class=\"point plotly-customdata\" transform=\"translate(362,228.06)\" d=\"M3,0A3,3 0 1,1 0,-3A3,3 0 0,1 3,0Z\" style=\"opacity: 1; stroke-width: 0px; fill: rgb(242, 230, 38); fill-opacity: 1;\"/><path class=\"point plotly-customdata\" transform=\"translate(351.24,214.86)\" d=\"M3,0A3,3 0 1,1 0,-3A3,3 0 0,1 3,0Z\" style=\"opacity: 1; stroke-width: 0px; fill: rgb(245, 230, 38); fill-opacity: 1;\"/><path class=\"point plotly-customdata\" transform=\"translate(348.06,221.81)\" d=\"M3,0A3,3 0 1,1 0,-3A3,3 0 0,1 3,0Z\" style=\"opacity: 1; stroke-width: 0px; fill: rgb(247, 230, 37); fill-opacity: 1;\"/><path class=\"point plotly-customdata\" transform=\"translate(354.1,249.28)\" d=\"M3,0A3,3 0 1,1 0,-3A3,3 0 0,1 3,0Z\" style=\"opacity: 1; stroke-width: 0px; fill: rgb(250, 231, 37); fill-opacity: 1;\"/><path class=\"point plotly-customdata\" transform=\"translate(343.89,237.77)\" d=\"M3,0A3,3 0 1,1 0,-3A3,3 0 0,1 3,0Z\" style=\"opacity: 1; stroke-width: 0px; fill: rgb(253, 231, 37); fill-opacity: 1;\"/></g><g class=\"text\"/></g></g></g><g class=\"overplot\"/><path class=\"xlines-above crisp\" d=\"M72,292.5H458\" style=\"fill: none; stroke-width: 1px; stroke: rgb(36, 36, 36); stroke-opacity: 1;\"/><path class=\"ylines-above crisp\" d=\"M72.5,10V292\" style=\"fill: none; stroke-width: 1px; stroke: rgb(36, 36, 36); stroke-opacity: 1;\"/><g class=\"overlines-above\"/><g class=\"xaxislayer-above\"><path class=\"xtick ticks crisp\" d=\"M0,293v5\" transform=\"translate(79.1,0)\" style=\"stroke: rgb(68, 68, 68); stroke-opacity: 1; stroke-width: 1px;\"/><path class=\"xtick ticks crisp\" d=\"M0,293v5\" transform=\"translate(182.82,0)\" style=\"stroke: rgb(68, 68, 68); stroke-opacity: 1; stroke-width: 1px;\"/><path class=\"xtick ticks crisp\" d=\"M0,293v5\" transform=\"translate(286.53999999999996,0)\" style=\"stroke: rgb(68, 68, 68); stroke-opacity: 1; stroke-width: 1px;\"/><path class=\"xtick ticks crisp\" d=\"M0,293v5\" transform=\"translate(390.26,0)\" style=\"stroke: rgb(68, 68, 68); stroke-opacity: 1; stroke-width: 1px;\"/><g class=\"xtick\"><text text-anchor=\"middle\" x=\"0\" y=\"312.4\" transform=\"translate(79.1,0)\" style=\"font-family: 'Open Sans', verdana, arial, sans-serif; font-size: 12px; fill: rgb(36, 36, 36); fill-opacity: 1; white-space: pre; opacity: 1;\">−0.4</text></g><g class=\"xtick\"><text text-anchor=\"middle\" x=\"0\" y=\"312.4\" style=\"font-family: 'Open Sans', verdana, arial, sans-serif; font-size: 12px; fill: rgb(36, 36, 36); fill-opacity: 1; white-space: pre; opacity: 1;\" transform=\"translate(182.82,0)\">−0.2</text></g><g class=\"xtick\"><text text-anchor=\"middle\" x=\"0\" y=\"312.4\" style=\"font-family: 'Open Sans', verdana, arial, sans-serif; font-size: 12px; fill: rgb(36, 36, 36); fill-opacity: 1; white-space: pre; opacity: 1;\" transform=\"translate(286.53999999999996,0)\">0</text></g><g class=\"xtick\"><text text-anchor=\"middle\" x=\"0\" y=\"312.4\" style=\"font-family: 'Open Sans', verdana, arial, sans-serif; font-size: 12px; fill: rgb(36, 36, 36); fill-opacity: 1; white-space: pre; opacity: 1;\" transform=\"translate(390.26,0)\">0.2</text></g></g><g class=\"yaxislayer-above\"><path class=\"ytick ticks crisp\" d=\"M72,0h-5\" transform=\"translate(0,291.92)\" style=\"stroke: rgb(68, 68, 68); stroke-opacity: 1; stroke-width: 1px;\"/><path class=\"ytick ticks crisp\" d=\"M72,0h-5\" transform=\"translate(0,238.88)\" style=\"stroke: rgb(68, 68, 68); stroke-opacity: 1; stroke-width: 1px;\"/><path class=\"ytick ticks crisp\" d=\"M72,0h-5\" transform=\"translate(0,185.84)\" style=\"stroke: rgb(68, 68, 68); stroke-opacity: 1; stroke-width: 1px;\"/><path class=\"ytick ticks crisp\" d=\"M72,0h-5\" transform=\"translate(0,132.8)\" style=\"stroke: rgb(68, 68, 68); stroke-opacity: 1; stroke-width: 1px;\"/><path class=\"ytick ticks crisp\" d=\"M72,0h-5\" transform=\"translate(0,79.75)\" style=\"stroke: rgb(68, 68, 68); stroke-opacity: 1; stroke-width: 1px;\"/><path class=\"ytick ticks crisp\" d=\"M72,0h-5\" transform=\"translate(0,26.71)\" style=\"stroke: rgb(68, 68, 68); stroke-opacity: 1; stroke-width: 1px;\"/><g class=\"ytick\"><text text-anchor=\"end\" x=\"64.6\" y=\"4.199999999999999\" transform=\"translate(0,291.92)\" style=\"font-family: 'Open Sans', verdana, arial, sans-serif; font-size: 12px; fill: rgb(36, 36, 36); fill-opacity: 1; white-space: pre; opacity: 1;\">−0.6</text></g><g class=\"ytick\"><text text-anchor=\"end\" x=\"64.6\" y=\"4.199999999999999\" style=\"font-family: 'Open Sans', verdana, arial, sans-serif; font-size: 12px; fill: rgb(36, 36, 36); fill-opacity: 1; white-space: pre; opacity: 1;\" transform=\"translate(0,238.88)\">−0.4</text></g><g class=\"ytick\"><text text-anchor=\"end\" x=\"64.6\" y=\"4.199999999999999\" style=\"font-family: 'Open Sans', verdana, arial, sans-serif; font-size: 12px; fill: rgb(36, 36, 36); fill-opacity: 1; white-space: pre; opacity: 1;\" transform=\"translate(0,185.84)\">−0.2</text></g><g class=\"ytick\"><text text-anchor=\"end\" x=\"64.6\" y=\"4.199999999999999\" style=\"font-family: 'Open Sans', verdana, arial, sans-serif; font-size: 12px; fill: rgb(36, 36, 36); fill-opacity: 1; white-space: pre; opacity: 1;\" transform=\"translate(0,132.8)\">0</text></g><g class=\"ytick\"><text text-anchor=\"end\" x=\"64.6\" y=\"4.199999999999999\" style=\"font-family: 'Open Sans', verdana, arial, sans-serif; font-size: 12px; fill: rgb(36, 36, 36); fill-opacity: 1; white-space: pre; opacity: 1;\" transform=\"translate(0,79.75)\">0.2</text></g><g class=\"ytick\"><text text-anchor=\"end\" x=\"64.6\" y=\"4.199999999999999\" style=\"font-family: 'Open Sans', verdana, arial, sans-serif; font-size: 12px; fill: rgb(36, 36, 36); fill-opacity: 1; white-space: pre; opacity: 1;\" transform=\"translate(0,26.71)\">0.4</text></g></g><g class=\"overaxes-above\"/></g></g><g class=\"polarlayer\"/><g class=\"smithlayer\"/><g class=\"ternarylayer\"/><g class=\"geolayer\"/><g class=\"funnelarealayer\"/><g class=\"pielayer\"/><g class=\"iciclelayer\"/><g class=\"treemaplayer\"/><g class=\"sunburstlayer\"/><g class=\"glimages\"/><defs id=\"topdefs-d3f6ed\"><g class=\"clips\"/></defs><g class=\"layer-above\"><g class=\"imagelayer\"/><g class=\"shapelayer\"/></g><g class=\"infolayer\"><g class=\"cbcoloraxis colorbar\" transform=\"translate(73,10)\"><rect class=\"cbbg\" x=\"392.5\" y=\"0\" width=\"73.921875\" height=\"283\" style=\"fill: rgb(0, 0, 0); fill-opacity: 0; stroke: rgb(68, 68, 68); stroke-opacity: 1; stroke-width: 0;\"/><g class=\"cbfills\" transform=\"translate(0,32)\"><rect class=\"cbfill\" x=\"403\" y=\"0\" width=\"15\" height=\"240\" style=\"fill: url('#gd3f6ed-cbcoloraxis');\"/></g><g class=\"cblines\" transform=\"translate(0,32)\"/><g class=\"cbaxis crisp\" transform=\"translate(0,-10)\"><path class=\"ycbcoloraxistick ticks crisp\" d=\"M418,0h5\" transform=\"translate(0,271.66)\" style=\"stroke: rgb(36, 36, 36); stroke-opacity: 1; stroke-width: 1px;\"/><path class=\"ycbcoloraxistick ticks crisp\" d=\"M418,0h5\" transform=\"translate(0,219.93)\" style=\"stroke: rgb(36, 36, 36); stroke-opacity: 1; stroke-width: 1px;\"/><path class=\"ycbcoloraxistick ticks crisp\" d=\"M418,0h5\" transform=\"translate(0,168.21)\" style=\"stroke: rgb(36, 36, 36); stroke-opacity: 1; stroke-width: 1px;\"/><path class=\"ycbcoloraxistick ticks crisp\" d=\"M418,0h5\" transform=\"translate(0,116.48000000000002)\" style=\"stroke: rgb(36, 36, 36); stroke-opacity: 1; stroke-width: 1px;\"/><path class=\"ycbcoloraxistick ticks crisp\" d=\"M418,0h5\" transform=\"translate(0,64.76000000000002)\" style=\"stroke: rgb(36, 36, 36); stroke-opacity: 1; stroke-width: 1px;\"/><g class=\"ycbcoloraxistick\"><text text-anchor=\"start\" x=\"425.4\" y=\"4.199999999999999\" transform=\"translate(0,271.66)\" style=\"font-family: 'Open Sans', verdana, arial, sans-serif; font-size: 12px; fill: rgb(36, 36, 36); fill-opacity: 1; white-space: pre; opacity: 1;\">1800</text></g><g class=\"ycbcoloraxistick\"><text text-anchor=\"start\" x=\"425.4\" y=\"4.199999999999999\" style=\"font-family: 'Open Sans', verdana, arial, sans-serif; font-size: 12px; fill: rgb(36, 36, 36); fill-opacity: 1; white-space: pre; opacity: 1;\" transform=\"translate(0,219.93)\">1850</text></g><g class=\"ycbcoloraxistick\"><text text-anchor=\"start\" x=\"425.4\" y=\"4.199999999999999\" style=\"font-family: 'Open Sans', verdana, arial, sans-serif; font-size: 12px; fill: rgb(36, 36, 36); fill-opacity: 1; white-space: pre; opacity: 1;\" transform=\"translate(0,168.21)\">1900</text></g><g class=\"ycbcoloraxistick\"><text text-anchor=\"start\" x=\"425.4\" y=\"4.199999999999999\" style=\"font-family: 'Open Sans', verdana, arial, sans-serif; font-size: 12px; fill: rgb(36, 36, 36); fill-opacity: 1; white-space: pre; opacity: 1;\" transform=\"translate(0,116.48000000000002)\">1950</text></g><g class=\"ycbcoloraxistick\"><text text-anchor=\"start\" x=\"425.4\" y=\"4.199999999999999\" style=\"font-family: 'Open Sans', verdana, arial, sans-serif; font-size: 12px; fill: rgb(36, 36, 36); fill-opacity: 1; white-space: pre; opacity: 1;\" transform=\"translate(0,64.76000000000002)\">2000</text></g></g><g class=\"cbtitleunshift\" transform=\"translate(-73,-10)\"><g class=\"cbtitle\" transform=\"translate(-0.5,-0.5)\"><text class=\"ycbcoloraxistitle\" x=\"475.7\" y=\"33.5\" text-anchor=\"start\" style=\"font-family: 'Open Sans', verdana, arial, sans-serif; font-size: 14px; fill: rgb(36, 36, 36); opacity: 1; font-weight: normal; white-space: pre;\">year</text></g></g><rect class=\"cboutline\" x=\"403\" y=\"32\" width=\"15\" height=\"240\" style=\"stroke: rgb(68, 68, 68); stroke-opacity: 1; fill: none; stroke-width: 1;\"/></g><g class=\"g-gtitle\"/><g class=\"g-xtitle\"><text class=\"xtitle\" x=\"265.5\" y=\"339.70625\" text-anchor=\"middle\" style=\"font-family: 'Open Sans', verdana, arial, sans-serif; font-size: 14px; fill: rgb(36, 36, 36); opacity: 1; font-weight: normal; white-space: pre;\">pc1</text></g><g class=\"g-ytitle\" transform=\"translate(3.6435546875,0)\"><text class=\"ytitle\" transform=\"rotate(-90,10.356250000000003,151)\" x=\"10.356250000000003\" y=\"151\" text-anchor=\"middle\" style=\"font-family: 'Open Sans', verdana, arial, sans-serif; font-size: 14px; fill: rgb(36, 36, 36); opacity: 1; font-weight: normal; white-space: pre;\">pc2</text></g></g></svg>"
      ]
     },
     "metadata": {},
     "output_type": "display_data"
    }
   ],
   "source": [
    "fig = px.scatter(with_pcs1, x='pc1', y='pc2', color='year',\n",
    "           hover_data=['name'],\n",
    "           width=550, height=350)\n",
    "fig.update_layout(coloraxis_colorbar_thickness=15)\n",
    "fig"
   ]
  },
  {
   "cell_type": "markdown",
   "metadata": {},
   "source": [
    "We see a clear difference in speeches over time---speeches given in the 1800s\n",
    "used very different words than speeches after 2000.\n",
    "It's also interesting to see that the speeches cluster tightly in the same\n",
    "time period.\n",
    "This suggests that speeches within the same period\n",
    "sound relatively similar, even though the speakers were from\n",
    "different political parties.\n",
    "Here are some questions we could explore next:\n",
    "\n",
    "1. What words seem to best differentiate speeches from different centuries?\n",
    "1. If we color the points by political party, will the points of the same political party be grouped together?"
   ]
  },
  {
   "cell_type": "markdown",
   "metadata": {},
   "source": [
    "This section gave a whirlwind introduction to text analysis.\n",
    "We used text manipulation tools from previous sections to clean up the\n",
    "presidential speeches.\n",
    "Then, we used more advanced techniques like stemming,\n",
    "the tf-idf transform, and principal component analysis to compare speeches.\n",
    "Although we don't have enough space in this book\n",
    "to cover all of these techniques in detail, we hope that this section\n",
    "piques your interest in the exciting world of text analysis."
   ]
  }
 ],
 "metadata": {
  "colab": {
   "collapsed_sections": [
    "RTJu-FQY3AIp",
    "TrPjIHHD8rOC"
   ],
   "default_view": {},
   "name": "working_with_text.ipynb",
   "provenance": [],
   "version": "0.3.2",
   "views": {}
  },
  "kernelspec": {
   "display_name": "Python 3",
   "language": "python",
   "name": "python3"
  },
  "language_info": {
   "codemirror_mode": {
    "name": "ipython",
    "version": 3
   },
   "file_extension": ".py",
   "mimetype": "text/x-python",
   "name": "python",
   "nbconvert_exporter": "python",
   "pygments_lexer": "ipython3",
   "version": "3.9.4"
  },
  "toc": {
   "nav_menu": {},
   "number_sections": false,
   "sideBar": false,
   "skip_h1_title": false,
   "title_cell": "Table of Contents",
   "title_sidebar": "Contents",
   "toc_cell": true,
   "toc_position": {},
   "toc_section_display": true,
   "toc_window_display": false
  }
 },
 "nbformat": 4,
 "nbformat_minor": 4
}
