{
 "cells": [
  {
   "cell_type": "code",
   "execution_count": 1,
   "metadata": {
    "tags": [
     "remove-cell"
    ]
   },
   "outputs": [],
   "source": [
    "import sys\n",
    "import os\n",
    "if not any(path.endswith('textbook') for path in sys.path):\n",
    "    sys.path.append(os.path.abspath('../../..'))\n",
    "from textbook_utils import *"
   ]
  },
  {
   "cell_type": "code",
   "execution_count": 2,
   "metadata": {
    "tags": [
     "remove-cell"
    ]
   },
   "outputs": [],
   "source": [
    "import re\n",
    "\n",
    "marker = '↑'\n",
    "marker = '*'\n",
    "\n",
    "def _mark(match):\n",
    "    start, end = match.span()\n",
    "    return marker * (end - start)\n",
    "\n",
    "def show_regex_match(regex, text):\n",
    "    \"\"\"\n",
    "    Prints the string with the regex match highlighted.\n",
    "    \"\"\"\n",
    "    res = re.sub(f'({regex})', r'\\033[1;30;43m\\1\\033[m', text)\n",
    "    matches = ''.join([marker if c == marker else ' '\n",
    "                       for c in re.sub(regex, _mark, text)])\n",
    "    print(f'  Regex: {regex}')\n",
    "    print(f'   Text: {res}')\n",
    "    print(f'Matches: {matches}')"
   ]
  },
  {
   "cell_type": "code",
   "execution_count": 3,
   "metadata": {
    "tags": [
     "remove-cell"
    ]
   },
   "outputs": [],
   "source": [
    "log_entry = r'169.237.46.168 - - [26/Jan/2004:10:47:58 -0800]\"GET /stat141/Winter04 HTTP/1.1\" 301 328 \"http://anson.ucdavis.edu/courses\"\"Mozilla/4.0 (compatible; MSIE 6.0; Windows NT 5.0; .NET CLR 1.1.4322)\"'"
   ]
  },
  {
   "cell_type": "markdown",
   "metadata": {
    "colab_type": "text",
    "id": "lLVVSGne3AIY"
   },
   "source": [
    "# Regular Expressions\n",
    "\n",
    "*Regular expressions* (or *regex* for short) are special patterns that we use\n",
    "to match parts of strings.\n",
    "Think about the format of a Social Security Number (SSN) like `134-42-2012`.\n",
    "To describe this format, we \n",
    "might say that SSNs consist of three digits, then a dash, two digits, another\n",
    "dash, then four digits. Regexes let us capture this pattern in code. \n",
    "Regexes give us a compact and powerful way to describe this pattern of digits and dashes. The syntax of regular expressions is fortunately quite\n",
    "simple to learn; we introduce nearly all of the syntax in this section alone.\n",
    "\n",
    "As we introduce the concepts, we tackle some of the examples described in an\n",
    "earlier section, and show how to carry out the tasks with regular expressions.\n",
    "Almost all programming languages have a library to match patterns using regular\n",
    "expressions, making regular expressions useful in any programming language. We use some of the common methods available in the Python\n",
    "built-in `re` module to accomplish the tasks from the examples. These methods\n",
    "are summarized in {numref}`Table %s <regex-methods>` at the end of this section, where the basic usage and\n",
    "return value are briefly described. Since we only cover a few of the most\n",
    "commonly used methods, you may find it useful to consult [the official\n",
    "documentation on the `re` module][re] as well.\n",
    "\n",
    "[re]: https://docs.python.org/3/library/re.html"
   ]
  },
  {
   "cell_type": "markdown",
   "metadata": {},
   "source": [
    "Regular expressions are based on searching a string one character (aka\n",
    "*literal*) at a time for a pattern. We call this notion *concatenation of\n",
    "literals*."
   ]
  },
  {
   "cell_type": "markdown",
   "metadata": {
    "colab_type": "text",
    "id": "744CBmB07MUn"
   },
   "source": [
    "## Concatenation of Literals"
   ]
  },
  {
   "cell_type": "markdown",
   "metadata": {},
   "source": [
    "Concatenation is best explained with a basic example. Suppose we are looking\n",
    "for the pattern `cat` in the string `cards scatter!`. Here's how the computer matches a literal pattern like `cat`.\n",
    "\n",
    "1. Begin with the first character in the string (`c`).\n",
    "1. Does the character in the string match the first character in the pattern (`c`)?\n",
    "1. No: Move onto the next character of the string. Return to step 2.\n",
    "1. Yes: Does the rest of the pattern match (`a`, then `t`)?\n",
    "1. No: Move on to the next character of the string (one past location in step 2). Return to step 2. \n",
    "1. Yes: Report that the pattern was found.\n",
    "\n",
    "\n",
    "{numref}`Figure %s <fig:regex-literals>` contains a diagram of\n",
    "the idea behind this search through the string\n",
    "one character at a time. The pattern \"cat\" is found within the string\n",
    "`cards scatter!` in positions 8-10. Once you get the hang of this process, you can\n",
    "move on to the richer set of patterns; they all follow from this basic\n",
    "paradigm."
   ]
  },
  {
   "cell_type": "markdown",
   "metadata": {},
   "source": [
    "```{figure} figures/regex-literals.svg\n",
    "---\n",
    "name: fig:regex-literals\n",
    "---\n",
    "\n",
    "To match literal patterns, the regex engine moves along the string and checks one literal at a time for a match of the entire pattern. Notice that the pattern is found within the word `scatters` and that a partial match is found in `cards`.\n",
    "```"
   ]
  },
  {
   "cell_type": "markdown",
   "metadata": {},
   "source": [
    ":::{note}\n",
    "\n",
    "In the example above we observe that regular expressions can match patterns\n",
    "that appear anywhere in the input string. In Python, this behavior differs\n",
    "depending on the method used to match the regex—some methods only return a\n",
    "match if the regex appears at the start of the string; some methods return a\n",
    "match anywhere in the string.\n",
    "\n",
    ":::"
   ]
  },
  {
   "cell_type": "markdown",
   "metadata": {
    "colab_type": "text",
    "id": "JWMIE3Dz3AI4"
   },
   "source": [
    "Character Classes\n",
    ": We can make patterns more flexible by using a *character class* \n",
    "(also known as a *character set*), which\n",
    "lets us specify a collection of equivalent characters to match. This allows us\n",
    "to create more relaxed matches. To create a character class, wrap the set of\n",
    "desired characters in brackets `[ ]`. \n",
    "For example, the pattern `[0123456789]` means \"match any literal\n",
    "within the brackets\"---in this case, any single digit.\n",
    "Then, the following regular expression matches three digits.\n",
    "\n",
    "```\n",
    "[0123456789][0123456789][0123456789]\n",
    "```\n",
    "\n",
    "This is such a commonly used character class that\n",
    "there is a shorthand notation for the range of digits, `[0-9]`. Character\n",
    "classes allow us to create a regex for SSNs:\n",
    "\n",
    "```\n",
    "[0-9][0-9][0-9]-[0-9][0-9]-[0-9][0-9][0-9][0-9]\n",
    "```\n",
    "\n",
    "Two other ranges that are commonly used in character classes are `[a-z]` for\n",
    "lowercase and `[A-Z]` for uppercase letters. We can combine ranges with other\n",
    "equivalent characters and use partial ranges. For example `[a-cX-Z27]` is\n",
    "equivalent to the character class, `[abcXYZ27]`. "
   ]
  },
  {
   "cell_type": "markdown",
   "metadata": {
    "colab": {
     "autoexec": {
      "startup": false,
      "wait_interval": 0
     },
     "base_uri": "https://localhost:8080/",
     "height": 34
    },
    "colab_type": "code",
    "executionInfo": {
     "elapsed": 282,
     "status": "ok",
     "timestamp": 1524681499797,
     "user": {
      "displayName": "Andrew Kim",
      "photoUrl": "https://lh3.googleusercontent.com/a/default-user=s128",
      "userId": "109388192039284916411"
     },
     "user_tz": 420
    },
    "id": "q21x1CHU3AI6",
    "outputId": "95041818-9995-4b5b-8993-6cd18747d1de"
   },
   "source": [
    "Let's return to our original pattern `cat` and modify it to include two character classes:\n",
    "\n",
    "```\n",
    "c[oa][td]\n",
    "```\n",
    "\n",
    "This pattern matches `cat`, but it also matches `cot`, `cad`, and `cod`:"
   ]
  },
  {
   "cell_type": "code",
   "execution_count": 4,
   "metadata": {
    "tags": [
     "remove-input"
    ]
   },
   "outputs": [
    {
     "name": "stdout",
     "output_type": "stream",
     "text": [
      "  Regex: c[oa][td]\n",
      "   Text: The \u001b[1;30;43mcat\u001b[m eats \u001b[1;30;43mcod\u001b[m, \u001b[1;30;43mcad\u001b[ms, and \u001b[1;30;43mcot\u001b[ms, but not coats.\n",
      "Matches:     ***      ***  ***       ***                 \n"
     ]
    }
   ],
   "source": [
    "show_regex_match(r'c[oa][td]', 'The cat eats cod, cads, and cots, but not coats.')"
   ]
  },
  {
   "cell_type": "markdown",
   "metadata": {},
   "source": [
    "The idea of moving through the string one character at a time still remains the core notion, but now there's a bit more flexibility in which literal is considered a match."
   ]
  },
  {
   "cell_type": "markdown",
   "metadata": {
    "colab_type": "text",
    "id": "BvMwjXJS3AKI"
   },
   "source": [
    "Wildcard Character\n",
    ": When we really don't care what the literal is, we can specify this with `.`, the\n",
    "period character. This matches any character except a newline."
   ]
  },
  {
   "cell_type": "markdown",
   "metadata": {
    "colab_type": "text",
    "id": "CUDgfZsR3AJK"
   },
   "source": [
    "Negated Character Classes\n",
    ": A *negated character class* matches any character\n",
    "*except* those between the square brackets. To create a negated character\n",
    "class, place the caret symbol as the first character after the left sqaure\n",
    "bracket. For example, `[^0-9]` matches any character except a digit."
   ]
  },
  {
   "cell_type": "markdown",
   "metadata": {},
   "source": [
    "Shorthands for Character Classes\n",
    ": Some character sets are so common that there are shorthands for them. For example, `\\d` is short for `[0-9]`. We can use this short hand to simplify our search for SSNs.\n",
    "\n",
    "```\n",
    "\\d\\d\\d-\\d\\d-\\d\\d\\d\\d\n",
    "```"
   ]
  },
  {
   "cell_type": "markdown",
   "metadata": {},
   "source": [
    "Our regular expression for SSNs isn't quite bullet-proof. If the string has extra digits at the beginning or end of the pattern we're looking for, then we still get a match. Note that we add the `r` character before the quotes to create a raw string, which makes regexes easier to write. "
   ]
  },
  {
   "cell_type": "code",
   "execution_count": 5,
   "metadata": {
    "tags": [
     "remove-input"
    ]
   },
   "outputs": [
    {
     "name": "stdout",
     "output_type": "stream",
     "text": [
      "  Regex: \\d\\d\\d-\\d\\d-\\d\\d\\d\\d\n",
      "   Text: My other number is 6\u001b[1;30;43m382-13-3842\u001b[m0.\n",
      "Matches:                     ***********  \n"
     ]
    }
   ],
   "source": [
    "show_regex_match(r'\\d\\d\\d-\\d\\d-\\d\\d\\d\\d', 'My other number is 6382-13-38420.')"
   ]
  },
  {
   "cell_type": "markdown",
   "metadata": {},
   "source": [
    "We can remedy the situation with a different sort of metacharacter--one that matches a word boundary. \n",
    "\n",
    "Anchors and Boundaries\n",
    ": At times we want to match a position before, after, or between characters. One example is to locate the beginning or end of a string, these are called anchors. Another is to locate the beginning or end of a word, which we call a boundary. The metacharacter `\\b` denotes the boundary of a word. It has 0 length, and matches whitespace or punctuation on the boundary the pattern. We can use it to fix our regular expression for SSNs. \n"
   ]
  },
  {
   "cell_type": "code",
   "execution_count": 8,
   "metadata": {
    "tags": [
     "remove-input"
    ]
   },
   "outputs": [
    {
     "name": "stdout",
     "output_type": "stream",
     "text": [
      "  Regex: \\d\\d\\d-\\d\\d-\\d\\d\\d\\\n",
      "   Text: My other number is 6382-13-38420.\n",
      "Matches:                                  \n"
     ]
    }
   ],
   "source": [
    "show_regex_match('r\\b\\d\\d\\d-\\d\\d-\\d\\d\\d\\d\\b', 'My other number is 6382-13-38420.')"
   ]
  },
  {
   "cell_type": "code",
   "execution_count": 7,
   "metadata": {
    "tags": [
     "remove-input"
    ]
   },
   "outputs": [
    {
     "name": "stdout",
     "output_type": "stream",
     "text": [
      "  Regex: \\b\\d\\d\\d-\\d\\d-\\d\\d\\d\\d\\b\n",
      "   Text: My reeeal number is \u001b[1;30;43m382-13-3842\u001b[m.\n",
      "Matches:                     *********** \n"
     ]
    }
   ],
   "source": [
    "show_regex_match(r'\\b\\d\\d\\d-\\d\\d-\\d\\d\\d\\d\\b', 'My reeeal number is 382-13-3842.')"
   ]
  },
  {
   "cell_type": "markdown",
   "metadata": {},
   "source": [
    "Escaping Meta Characters\n",
    ": We have now seen several special characters, called *meta characters*: `[` and\n",
    "`]` denote a character class `^` switches to a negated character class, `.`\n",
    "represents any character, and `-` denotes a range. But, sometimes we might want\n",
    "to create a pattern that matches one of these literals. When this happens, we\n",
    "must escape it with a backslash. For example, we can match the literal left\n",
    "bracket character using the regex `\\[`."
   ]
  },
  {
   "cell_type": "code",
   "execution_count": 9,
   "metadata": {
    "colab": {
     "autoexec": {
      "startup": false,
      "wait_interval": 0
     },
     "base_uri": "https://localhost:8080/",
     "height": 34
    },
    "colab_type": "code",
    "executionInfo": {
     "elapsed": 303,
     "status": "ok",
     "timestamp": 1524681067395,
     "user": {
      "displayName": "Andrew Kim",
      "photoUrl": "https://lh3.googleusercontent.com/a/default-user=s128",
      "userId": "109388192039284916411"
     },
     "user_tz": 420
    },
    "id": "n6NNGiO93AKJ",
    "outputId": "6248e853-8c58-4362-9004-a5028c7e5218",
    "tags": [
     "remove-input"
    ]
   },
   "outputs": [
    {
     "name": "stdout",
     "output_type": "stream",
     "text": [
      "  Regex: \\[\n",
      "   Text: Today is \u001b[1;30;43m[\u001b[m2022/01/01]\n",
      "Matches:          *           \n"
     ]
    }
   ],
   "source": [
    "show_regex_match(r'\\[', 'Today is [2022/01/01]')"
   ]
  },
  {
   "cell_type": "markdown",
   "metadata": {},
   "source": [
    "Next, we will show how quantifiers can help create a more compact and clear\n",
    "regular expression for SSNs. "
   ]
  },
  {
   "cell_type": "markdown",
   "metadata": {
    "colab_type": "text",
    "id": "cE-nOxzl3AJP"
   },
   "source": [
    "## Quantifiers\n",
    "\n",
    "To create a regex to match SSNs, we wrote:\n",
    "\n",
    "```\n",
    "\\b[0-9][0-9][0-9]-[0-9][0-9]-[0-9][0-9][0-9][0-9]\\b\n",
    "```\n",
    "\n",
    "This matches a \"word\" consisting of 3 digits, a dash, 2 more digits, a dash, and 4 more digits.\n",
    "\n",
    "Quantifiers allow us to match multiple consecutive appearances of a literal. We\n",
    "specify the number of repetitions by placing the number in curly braces `{ }`. \n",
    "\n",
    "Let's use Python's builtin `re` module for matching this pattern. "
   ]
  },
  {
   "cell_type": "code",
   "execution_count": 10,
   "metadata": {
    "colab": {
     "autoexec": {
      "startup": false,
      "wait_interval": 0
     },
     "base_uri": "https://localhost:8080/",
     "height": 34
    },
    "colab_type": "code",
    "executionInfo": {
     "elapsed": 293,
     "status": "ok",
     "timestamp": 1524681487610,
     "user": {
      "displayName": "Andrew Kim",
      "photoUrl": "https://lh3.googleusercontent.com/a/default-user=s128",
      "userId": "109388192039284916411"
     },
     "user_tz": 420
    },
    "id": "R_5z2Idd2q5Z",
    "outputId": "ea92182c-652a-4f3f-d556-0619797074e0"
   },
   "outputs": [
    {
     "data": {
      "text/plain": [
       "['382-34-3840']"
      ]
     },
     "execution_count": 10,
     "metadata": {},
     "output_type": "execute_result"
    }
   ],
   "source": [
    "import re\n",
    "\n",
    "ssn_re = r'\\b[0-9]{3}-[0-9]{2}-[0-9]{4}\\b'\n",
    "re.findall(ssn_re, 'My SSN is 382-34-3840.')"
   ]
  },
  {
   "cell_type": "markdown",
   "metadata": {},
   "source": [
    "Our pattern shouldn't match phone numbers. Let's try it"
   ]
  },
  {
   "cell_type": "code",
   "execution_count": 11,
   "metadata": {},
   "outputs": [
    {
     "data": {
      "text/plain": [
       "[]"
      ]
     },
     "execution_count": 11,
     "metadata": {},
     "output_type": "execute_result"
    }
   ],
   "source": [
    "re.findall(ssn_re, 'My phone is 382-123-3842.')"
   ]
  },
  {
   "cell_type": "markdown",
   "metadata": {
    "colab_type": "text",
    "id": "MD0XqVY73AJX"
   },
   "source": [
    "A quantifier always modifies the character or character class to its immediate\n",
    "left. The following table shows the complete syntax for quantifiers."
   ]
  },
  {
   "cell_type": "markdown",
   "metadata": {
    "colab_type": "text",
    "id": "4HXw_UbI3AJY"
   },
   "source": [
    "Quantifier | Meaning\n",
    "--- | ---\n",
    "{m, n} | Match the preceding character m to n times.\n",
    "{m} | Match the preceding character exactly m times.\n",
    "{m,} | Match the preceding character at least m times.\n",
    "{,n} | Match the preceding character at most n times."
   ]
  },
  {
   "cell_type": "markdown",
   "metadata": {
    "colab_type": "text",
    "id": "h6_CUONr3AJa"
   },
   "source": [
    "Shorthand Quantifiers\n",
    ": Some commonly used quantifiers have a shorthand:\n",
    "\n",
    "Symbol | Quantifier | Meaning\n",
    "--- | --- | ---\n",
    " `*` | {0,} | Match the preceding character 0 or more times\n",
    " `+` | {1,} | Match the preceding character 1 or more times\n",
    " `?` | {0,1} | Match the preceding charcter 0 or 1 times"
   ]
  },
  {
   "cell_type": "markdown",
   "metadata": {
    "colab_type": "text",
    "id": "16ZfQsaqInak"
   },
   "source": [
    "Quantifiers are greedy\n",
    ": Quantifiers will return the longest match possible. This sometimes results in\n",
    "surprising behavior. Since a SSN starts and ends with a digit, we might think\n",
    "the following shorter regex will be a simpler approach for finding SSNs.  Can\n",
    "you figure out what went wrong in the matching?"
   ]
  },
  {
   "cell_type": "code",
   "execution_count": 12,
   "metadata": {},
   "outputs": [
    {
     "data": {
      "text/plain": [
       "['382-34-3842 and hers is 382-34-3333']"
      ]
     },
     "execution_count": 12,
     "metadata": {},
     "output_type": "execute_result"
    }
   ],
   "source": [
    "ssn_re_dot = r'[0-9].+[0-9]'\n",
    "re.findall(ssn_re_dot, 'My SSN is 382-34-3842 and hers is 382-34-3333.')"
   ]
  },
  {
   "cell_type": "markdown",
   "metadata": {},
   "source": [
    "Notice that we use the metacharacter `.` to match any character. In many cases, using a more specific character class prevents these false \"over\" matches. Our earlier pattern that include word boundaries does this."
   ]
  },
  {
   "cell_type": "code",
   "execution_count": 13,
   "metadata": {},
   "outputs": [
    {
     "ename": "NameError",
     "evalue": "name 'ssn_re_bdy' is not defined",
     "output_type": "error",
     "traceback": [
      "\u001b[0;31m---------------------------------------------------------------------------\u001b[0m",
      "\u001b[0;31mNameError\u001b[0m                                 Traceback (most recent call last)",
      "\u001b[0;32m<ipython-input-13-cc6a6737eb7c>\u001b[0m in \u001b[0;36m<module>\u001b[0;34m\u001b[0m\n\u001b[0;32m----> 1\u001b[0;31m \u001b[0mre\u001b[0m\u001b[0;34m.\u001b[0m\u001b[0mfindall\u001b[0m\u001b[0;34m(\u001b[0m\u001b[0mssn_re_bdy\u001b[0m\u001b[0;34m,\u001b[0m \u001b[0;34m'My SSN is 382-34-3842 and hers is 382-34-3333.'\u001b[0m\u001b[0;34m)\u001b[0m\u001b[0;34m\u001b[0m\u001b[0;34m\u001b[0m\u001b[0m\n\u001b[0m",
      "\u001b[0;31mNameError\u001b[0m: name 'ssn_re_bdy' is not defined"
     ]
    }
   ],
   "source": [
    "re.findall(ssn_re_bdy, 'My SSN is 382-34-3842 and hers is 382-34-3333.')"
   ]
  },
  {
   "cell_type": "markdown",
   "metadata": {},
   "source": [
    "Literal concatenation and quantifiers are two of the core concepts in regular\n",
    "expressions. Next, we'll introduce two more core concepts: alternation and grouping."
   ]
  },
  {
   "cell_type": "markdown",
   "metadata": {},
   "source": [
    "## Alternation and Grouping to Create Features\n",
    "\n",
    "Character classes let us match multiple options for a single literal.\n",
    "We can use alternation to match multiple options for a group of literals.\n",
    "For example, in the food safety example in \n",
    "{numref}`Chapter %s <ch:wrangling>` we marked violations related to\n",
    "body parts by seeing if the violation had the substring\n",
    "`hand`, `nail`, `hair`, or `glove`.\n",
    "We can use the `|` character in a regex to specify this alteration:"
   ]
  },
  {
   "cell_type": "code",
   "execution_count": 14,
   "metadata": {},
   "outputs": [
    {
     "data": {
      "text/plain": [
       "['hand', 'glove']"
      ]
     },
     "execution_count": 14,
     "metadata": {},
     "output_type": "execute_result"
    }
   ],
   "source": [
    "body_re = r\"hand|nail|hair|glove\"\n",
    "re.findall(body_re, \"unclean hands or improper use of gloves\")"
   ]
  },
  {
   "cell_type": "code",
   "execution_count": 15,
   "metadata": {},
   "outputs": [
    {
     "data": {
      "text/plain": [
       "['hair', 'nail']"
      ]
     },
     "execution_count": 15,
     "metadata": {},
     "output_type": "execute_result"
    }
   ],
   "source": [
    "re.findall(body_re, \"Unsanitary employee garments hair or nails\")"
   ]
  },
  {
   "cell_type": "markdown",
   "metadata": {},
   "source": [
    "Grouping using parentheses\n",
    ": A set of parentheses specifies a *regex group*, which allows us to locate multiple parts of a pattern.\n",
    "For example, we can use groups to extract the day, month, year, and time from\n",
    "the web server log entry."
   ]
  },
  {
   "cell_type": "code",
   "execution_count": 16,
   "metadata": {},
   "outputs": [
    {
     "data": {
      "text/plain": [
       "['[26/Jan/2004:10:47:58 -0800]']"
      ]
     },
     "execution_count": 16,
     "metadata": {},
     "output_type": "execute_result"
    }
   ],
   "source": [
    "# This pattern matches the entire timestamp\n",
    "time_re = r\"\\[[0-9]{2}/[a-zA-z]{3}/[0-9]{4}:[0-9:\\- ]*\\]\"\n",
    "re.findall(time_re, log_entry)"
   ]
  },
  {
   "cell_type": "code",
   "execution_count": 17,
   "metadata": {},
   "outputs": [
    {
     "data": {
      "text/plain": [
       "[('26', 'Jan', '2004', '10:47:58 -0800')]"
      ]
     },
     "execution_count": 17,
     "metadata": {},
     "output_type": "execute_result"
    }
   ],
   "source": [
    "# Same regex, but we use parens to make regex groups...\n",
    "time_re = r\"\\[([0-9]{2})/([a-zA-z]{3})/([0-9]{4}):([0-9:\\- ]*)\\]\"\n",
    "\n",
    "# ...which tells findall() to split up the match into its groups\n",
    "re.findall(time_re, log_entry)"
   ]
  },
  {
   "cell_type": "markdown",
   "metadata": {},
   "source": [
    "As we can see, `re.findall` returns a list of tuples containing the individual\n",
    "components of the date and time of the web log.\n",
    "\n",
    "We have introduced a lot of terminology, so\n",
    "in the next section we bring it all together into a set of tables for easy reference. "
   ]
  },
  {
   "cell_type": "markdown",
   "metadata": {
    "colab_type": "text",
    "id": "TrPjIHHD8rOC"
   },
   "source": [
    "## Reference Tables\n",
    "\n",
    "We conclude this section with a few tables that summarize order of\n",
    "operation, meta characters, and shorthands for character classes.\n",
    "We also provide tables summarizing the handful of methods in the `re`\n",
    "Python library that we have used in this section."
   ]
  },
  {
   "cell_type": "markdown",
   "metadata": {
    "colab_type": "text",
    "id": "TrPjIHHD8rOC"
   },
   "source": [
    "The four basic operations for regular expressions, concatenation, quantifying,\n",
    "alternation, and grouping have an order of precedence, which we make explicit\n",
    "in the table below. \n",
    "\n",
    ":::{table} Order of Operaions\n",
    ":name: regex-order\n",
    "\n",
    "| Operation  | Order | Example   | Matches | \n",
    "| ---------- | ----- | --------- | ------- |\n",
    "| concatenation | 3  | `cat`     |  `cat`    | \n",
    "| alternation   | 4  | `cat\\|mouse` |  `cat` and `mouse` | \n",
    "| quantifying   | 2  | `cat?`  | `ca` and `cat`  |  \n",
    "| grouping      | 1  |  c(at)? |  `c` and `cat`    | \n",
    "\n",
    ":::"
   ]
  },
  {
   "cell_type": "markdown",
   "metadata": {
    "colab_type": "text",
    "id": "TrPjIHHD8rOC"
   },
   "source": [
    "The following table provides a list of the meta characters introduced in this\n",
    "section, plus a few more. The column labeled \"Doesn't Match\" gives examples of\n",
    "strings that the example regexes don't match.\n",
    "\n",
    ":::{table} Meta characters\n",
    ":name: regex-meta\n",
    "\n",
    "\n",
    "| Char   | Description                         | Example                    | Matches        | Doesn't Match |\n",
    "| ------ | ----------------------------------- | -------------------------- | -------------- | ------------- |\n",
    "| .      | Any character except \\n             | `...`                      | abc            | ab    |\n",
    "| [ ]    | Any character inside brackets       | `[cb.]ar`                  | car<br>.ar     | jar           |\n",
    "| [^ ]   | Any character _not_ inside brackets | `[^b]ar`                   | car<br>par     | bar<br>ar     |\n",
    "| \\*     | ≥ 0 or more of previous symbol, shorthand for {0,}          | `[pb]*ark`                 | bbark<br>ark   | dark          |\n",
    "| +      | ≥ 1 or more of previous symbol,shorthand for {1,}           | `[pb]+ark`                 | bbpark<br>bark | dark<br>ark   |\n",
    "| ?      | 0 or 1 of previous symbol, shorthand for {0,1}               | `s?he`                     | she<br>he      | the           |\n",
    "| {_n_}  | Exactly _n_ of previous symbol          | `hello{3}`                 | hellooo        | hello         |\n",
    "| &#124; | Pattern before or after bar         | <code>we&#124;[ui]s</code> | we<br>us<br>is | es<br>e<br>s        |\n",
    "| \\      | Escape next character              | `\\[hi\\]`                   | [hi]           | hi            |\n",
    "| ^      | Beginning of line                   | `^ark`                     | ark two        | dark          |\n",
    "| \\$     | End of line                         | `ark$`                     | noahs ark      | noahs arks    |\n",
    "| \\\\b    | Word boundary                       | `ark\\b`                    | ark of noah    | noahs arks    |\n",
    "\n",
    ":::"
   ]
  },
  {
   "cell_type": "markdown",
   "metadata": {
    "colab_type": "text",
    "id": "TrPjIHHD8rOC"
   },
   "source": [
    "Additionally, we provide a table of shorthands for some commonly used character\n",
    "sets. These shorthands don't need `[ ]`.\n",
    "\n",
    ":::{table} Character Class Shorthands \n",
    ":name: regex-shorthand\n",
    "\n",
    "| Description                   | Bracket Form       | Shorthand |\n",
    "| ----------------------------- | ------------------ | --------- |\n",
    "| Alphanumeric character        | `[a-zA-Z0-9_]`      | `\\w`      |\n",
    "| Not an alphanumeric character | `[^a-zA-Z0-9_]`     | `\\W`      |\n",
    "| Digit                         | `[0-9]`            | `\\d`      |\n",
    "| Not a digit                   | `[^0-9]`           | `\\D`      |\n",
    "| Whitespace                    | `[\\t\\n\\f\\r\\p{Z}]`  | `\\s`      |\n",
    "| Not whitespace                | `[^\\t\\n\\f\\r\\p{z}]` | `\\S`      |\n",
    "\n",
    ":::"
   ]
  },
  {
   "cell_type": "markdown",
   "metadata": {},
   "source": [
    "We used the following methods in `re` in this chapter. The names of the methods\n",
    "are indicative of the functionality they perform: *search* or\n",
    "*match* a pattern in a\n",
    "string; *find all* cases of a pattern in a string; *sub*stitute all occurrences\n",
    "of a pattern with a substring, and *split* a string into pieces at the pattern.\n",
    "Each, requires a pattern and string to be specified, and some have\n",
    "extra arguments.\n",
    "The table below provides the format of the method usage and a\n",
    "description of the return value. "
   ]
  },
  {
   "cell_type": "markdown",
   "metadata": {},
   "source": [
    ":::{table} Regular Expression Methods\n",
    ":name: regex-methods\n",
    "\n",
    "| Method                                 | Return value |\n",
    "| -------------------------------------- | ------------------ |\n",
    "| `re.search(pattern, string)`           | truthy match object if the pattern is found anywhere in the string, otherwise `None` |\n",
    "| `re.match(pattern, string)`           | truthy match object if the pattern is found at the beginning of the string, otherwise `None` |\n",
    "| `re.findall(pattern, string)`          | list of all matches of `pattern` in `string`|\n",
    "| `re.sub(pattern, replacement, string)` | string where all occurrences of `pattern` are replaced by  `replacement` in the `string` |\n",
    "| `re.split(pattern, string)`            | list of the pieces of `string` around the occurrences of `pattern` |\n",
    "\n",
    ":::"
   ]
  },
  {
   "cell_type": "markdown",
   "metadata": {},
   "source": [
    "Regex and pandas\n",
    ": As seen in the previous section, `pandas` Series objects have a `.str` property\n",
    "that supports string manipulation using Python string methods. Conveniently,\n",
    "the `.str` property also supports some functions from the `re` module. The\n",
    "table below shows the analogous functionality from the above table of the `re`\n",
    "methods. Each requires a pattern.\n",
    "See [the `pandas` docs][pd_str] for a complete list of \n",
    "string methods. \n",
    "\n",
    "[pd_str]: https://pandas.pydata.org/pandas-docs/stable/text.html"
   ]
  },
  {
   "cell_type": "markdown",
   "metadata": {},
   "source": [
    ":::{table} Regular Expressions in Pandas\n",
    ":name: regex-pandas\n",
    "\n",
    "| Method                   |Return value |\n",
    "| ----------------------------- | ------------------ |\n",
    "| `str.contains(pattern)` | Series of booleans indicating whether the `pattern` is found |\n",
    "| `str.findall(pattern)`  | list of all matches of `pattern` |\n",
    "| `str.replace(pattern, replacement)`  | Series with all matching occurrences of `pattern` replaced by `replacement` |\n",
    "| `str.split(pattern)` | Series of lists of strings around given `pattern` |\n",
    "\n",
    ":::"
   ]
  },
  {
   "cell_type": "markdown",
   "metadata": {},
   "source": [
    "Regular expressions are a powerful tool, but they're somewhat notorious for being difficult to read and debug. We close with some advice for regexes.  \n",
    "\n",
    "+ Develop your regular expression on simple test strings to see what the pattern matches.\n",
    "+ If a pattern matches nothing, try weakening it by dropping part of the pattern. Then tighten it incrementally to see how the matching evolves. (Online regex checking tools can be very helpful here).\n",
    "+ Use raw strings whenever possible for cleaner patterns, especially when a pattern includes a backslash. \n",
    "+ When you have lots of long strings, consider using compiled patterns because they can be faster to match (see `compile()` in the `re` library)."
   ]
  },
  {
   "cell_type": "markdown",
   "metadata": {},
   "source": [
    "In the next section, we carry out an example text analysis.\n",
    "We'll clean the data\n",
    "using regular expressions and string manipulation, convert the text into\n",
    "quantitative data, and analyze the text via these derived quantities."
   ]
  }
 ],
 "metadata": {
  "colab": {
   "collapsed_sections": [
    "RTJu-FQY3AIp",
    "TrPjIHHD8rOC"
   ],
   "default_view": {},
   "name": "working_with_text.ipynb",
   "provenance": [],
   "version": "0.3.2",
   "views": {}
  },
  "kernelspec": {
   "display_name": "Python 3",
   "language": "python",
   "name": "python3"
  },
  "language_info": {
   "codemirror_mode": {
    "name": "ipython",
    "version": 3
   },
   "file_extension": ".py",
   "mimetype": "text/x-python",
   "name": "python",
   "nbconvert_exporter": "python",
   "pygments_lexer": "ipython3",
   "version": "3.9.4"
  },
  "toc": {
   "nav_menu": {},
   "number_sections": false,
   "sideBar": false,
   "skip_h1_title": false,
   "title_cell": "Table of Contents",
   "title_sidebar": "Contents",
   "toc_cell": true,
   "toc_position": {},
   "toc_section_display": true,
   "toc_window_display": false
  }
 },
 "nbformat": 4,
 "nbformat_minor": 4
}
