{
 "cells": [
  {
   "cell_type": "markdown",
   "metadata": {},
   "source": [
    "(sec:text_summary)=\n",
    "# Summary\n",
    "\n",
    "This chapter introduced techniques for working with text to clean and analyze as data, including string manipulation, regular expressions, and document analysis.\n",
    "Text data has rich information about how people live, work, and think.\n",
    "But this data is also hard for computers to use---think about all\n",
    "the creative ways people manage to spell the same word.\n",
    "The techniques in this chapter let us correct typos,\n",
    "extract features from logs, and compare documents."
   ]
  },
  {
   "cell_type": "markdown",
   "metadata": {},
   "source": [
    "We don't recommend you use regular expressions to: \n",
    "\n",
    "+ Parse hierarchical structures such as JSON or HTML; use a parser instead.\n",
    "+ Search for complex properties, like palindromes and balanced parentheses.\n",
    "+ Validate a complex feature, such as a valid email address."
   ]
  },
  {
   "cell_type": "markdown",
   "metadata": {},
   "source": [
    "While powerful, regular expressions are terrible at these types of tasks.\n",
    "However, all in all, in our experience, even the basics of text analysis can enable all sorts of interesting analyses---a little bit goes a long way."
   ]
  },
  {
   "cell_type": "code",
   "execution_count": null,
   "metadata": {},
   "outputs": [],
   "source": []
  }
 ],
 "metadata": {
  "kernelspec": {
   "display_name": "Python 3",
   "language": "python",
   "name": "python3"
  },
  "language_info": {
   "codemirror_mode": {
    "name": "ipython",
    "version": 3
   },
   "file_extension": ".py",
   "mimetype": "text/x-python",
   "name": "python",
   "nbconvert_exporter": "python",
   "pygments_lexer": "ipython3",
   "version": "3.9.4"
  }
 },
 "nbformat": 4,
 "nbformat_minor": 4
}
