{
 "cells": [
  {
   "cell_type": "markdown",
   "metadata": {},
   "source": [
    "(sec:text_summary)=\n",
    "# Summary\n",
    "\n",
    "This chapter introduced techniques for working with text to clean and analyze data, including string manipulation, regular expressions, and document analysis.\n",
    "Text data has rich information about how people live, work, and think.\n",
    "But this data is also hard for computers to use---think about all\n",
    "the creative ways people manage to spell the same word.\n",
    "The techniques in this chapter let us correct typos,\n",
    "extract features from web server logs, and compare speeches.\n",
    "In our experience, even the basics of text analysis can enable all sorts of interesting analyses---a little bit goes a long way."
   ]
  }
 ],
 "metadata": {
  "kernelspec": {
   "display_name": "Python 3",
   "language": "python",
   "name": "python3"
  },
  "language_info": {
   "codemirror_mode": {
    "name": "ipython",
    "version": 3
   },
   "file_extension": ".py",
   "mimetype": "text/x-python",
   "name": "python",
   "nbconvert_exporter": "python",
   "pygments_lexer": "ipython3",
   "version": "3.9.4"
  }
 },
 "nbformat": 4,
 "nbformat_minor": 4
}
