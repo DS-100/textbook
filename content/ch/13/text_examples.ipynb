{
 "cells": [
  {
   "cell_type": "code",
   "execution_count": 1,
   "metadata": {
    "tags": [
     "remove-cell"
    ]
   },
   "outputs": [],
   "source": [
    "# Reference: https://jupyterbook.org/interactive/hiding.html\n",
    "# Use {hide, remove}-{input, output, cell} tags to hide content\n",
    "\n",
    "import numpy as np\n",
    "import matplotlib.pyplot as plt\n",
    "import pandas as pd\n",
    "import seaborn as sns\n",
    "%matplotlib inline\n",
    "import ipywidgets as widgets\n",
    "from ipywidgets import interact, interactive, fixed, interact_manual\n",
    "from IPython.display import display, set_matplotlib_formats\n",
    "import myst_nb\n",
    "\n",
    "import plotly\n",
    "import plotly.graph_objects as go\n",
    "import plotly.express as px\n",
    "from plotly.subplots import make_subplots\n",
    "import plotly.io as pio\n",
    "pio.renderers.default = 'plotly_mimetype+svg'\n",
    "pio.templates['book'] = go.layout.Template(\n",
    "    layout=dict(\n",
    "        margin=dict(l=10, r=10, t=10, b=10),\n",
    "        autosize=True,\n",
    "        width=350, height=250,\n",
    "    )\n",
    ")\n",
    "pio.templates.default = 'seaborn+book'\n",
    "\n",
    "set_matplotlib_formats('svg')\n",
    "sns.set()\n",
    "np.set_printoptions(threshold=20, precision=2, suppress=True)\n",
    "pd.set_option('display.max_rows', 7)\n",
    "pd.set_option('display.max_columns', 8)\n",
    "pd.set_option('precision', 2)\n",
    "# This option stops scientific notation for pandas\n",
    "# pd.set_option('display.float_format', '{:.2f}'.format)\n",
    "\n",
    "def display_df(df, rows=pd.options.display.max_rows,\n",
    "               cols=pd.options.display.max_columns):\n",
    "    with pd.option_context('display.max_rows', rows,\n",
    "                           'display.max_columns', cols):\n",
    "        display(df)"
   ]
  },
  {
   "cell_type": "markdown",
   "metadata": {},
   "source": [
    "# Examples of Text and Tasks\n",
    "\n",
    "For each of the types of tasks introduced in this chapter, we provide a motivating example. These examples are based on real tasks that we have carried out, but we have reduced the data to snippets that reflect the core issue with the text.  \n",
    "\n",
    "*Convert text into a standard format.*  Suppose we want to study connections between populaion demographics and election results. We can, say, get county demographics from the U.S. Census and election results from a Wikipedia table (see {numref}`Chapter %s <ch:web>` on Web scarping).  We need to join the tables on county name in order to carry out our investigation. Below are snippets of a few records from two such tables; these records were chosen to highlight key differences between the county names in each of the tables."
   ]
  },
  {
   "cell_type": "code",
   "execution_count": 2,
   "metadata": {
    "tags": [
     "remove-cell"
    ]
   },
   "outputs": [],
   "source": [
    "election = pd.DataFrame({\n",
    "    'County': ['De Witt County', 'Lac qui Parle County', 'Lewis and Clark County',\n",
    "        'St John the Baptist Parish'],\n",
    "    'State': ['IL', 'MN', 'MT', 'LA'],\n",
    "    'Voted': ['97.8', '98.8', '95.2', '52.6']\n",
    "    \n",
    "})\n",
    "census = pd.DataFrame({\n",
    "    'County': ['DeWitt  ', 'Lac Qui Parle', 'Lewis & Clark', 'St. John the Baptist'],\n",
    "        'State': ['IL', 'MN', 'MT', 'LA'],\n",
    "    'Population': ['16,798', '8,067', '55,716','43,044']\n",
    "})"
   ]
  },
  {
   "cell_type": "code",
   "execution_count": 3,
   "metadata": {
    "tags": [
     "remove-input"
    ]
   },
   "outputs": [
    {
     "data": {
      "text/html": [
       "<div>\n",
       "<style scoped>\n",
       "    .dataframe tbody tr th:only-of-type {\n",
       "        vertical-align: middle;\n",
       "    }\n",
       "\n",
       "    .dataframe tbody tr th {\n",
       "        vertical-align: top;\n",
       "    }\n",
       "\n",
       "    .dataframe thead th {\n",
       "        text-align: right;\n",
       "    }\n",
       "</style>\n",
       "<table border=\"1\" class=\"dataframe\">\n",
       "  <thead>\n",
       "    <tr style=\"text-align: right;\">\n",
       "      <th></th>\n",
       "      <th>County</th>\n",
       "      <th>State</th>\n",
       "      <th>Voted</th>\n",
       "    </tr>\n",
       "  </thead>\n",
       "  <tbody>\n",
       "    <tr>\n",
       "      <th>0</th>\n",
       "      <td>De Witt County</td>\n",
       "      <td>IL</td>\n",
       "      <td>97.8</td>\n",
       "    </tr>\n",
       "    <tr>\n",
       "      <th>1</th>\n",
       "      <td>Lac qui Parle County</td>\n",
       "      <td>MN</td>\n",
       "      <td>98.8</td>\n",
       "    </tr>\n",
       "    <tr>\n",
       "      <th>2</th>\n",
       "      <td>Lewis and Clark County</td>\n",
       "      <td>MT</td>\n",
       "      <td>95.2</td>\n",
       "    </tr>\n",
       "    <tr>\n",
       "      <th>3</th>\n",
       "      <td>St John the Baptist Parish</td>\n",
       "      <td>LA</td>\n",
       "      <td>52.6</td>\n",
       "    </tr>\n",
       "  </tbody>\n",
       "</table>\n",
       "</div>"
      ],
      "text/plain": [
       "                       County State Voted\n",
       "0              De Witt County    IL  97.8\n",
       "1        Lac qui Parle County    MN  98.8\n",
       "2      Lewis and Clark County    MT  95.2\n",
       "3  St John the Baptist Parish    LA  52.6"
      ]
     },
     "execution_count": 3,
     "metadata": {},
     "output_type": "execute_result"
    }
   ],
   "source": [
    "election"
   ]
  },
  {
   "cell_type": "code",
   "execution_count": 4,
   "metadata": {
    "tags": [
     "remove-input"
    ]
   },
   "outputs": [
    {
     "data": {
      "text/html": [
       "<div>\n",
       "<style scoped>\n",
       "    .dataframe tbody tr th:only-of-type {\n",
       "        vertical-align: middle;\n",
       "    }\n",
       "\n",
       "    .dataframe tbody tr th {\n",
       "        vertical-align: top;\n",
       "    }\n",
       "\n",
       "    .dataframe thead th {\n",
       "        text-align: right;\n",
       "    }\n",
       "</style>\n",
       "<table border=\"1\" class=\"dataframe\">\n",
       "  <thead>\n",
       "    <tr style=\"text-align: right;\">\n",
       "      <th></th>\n",
       "      <th>County</th>\n",
       "      <th>State</th>\n",
       "      <th>Population</th>\n",
       "    </tr>\n",
       "  </thead>\n",
       "  <tbody>\n",
       "    <tr>\n",
       "      <th>0</th>\n",
       "      <td>DeWitt</td>\n",
       "      <td>IL</td>\n",
       "      <td>16,798</td>\n",
       "    </tr>\n",
       "    <tr>\n",
       "      <th>1</th>\n",
       "      <td>Lac Qui Parle</td>\n",
       "      <td>MN</td>\n",
       "      <td>8,067</td>\n",
       "    </tr>\n",
       "    <tr>\n",
       "      <th>2</th>\n",
       "      <td>Lewis &amp; Clark</td>\n",
       "      <td>MT</td>\n",
       "      <td>55,716</td>\n",
       "    </tr>\n",
       "    <tr>\n",
       "      <th>3</th>\n",
       "      <td>St. John the Baptist</td>\n",
       "      <td>LA</td>\n",
       "      <td>43,044</td>\n",
       "    </tr>\n",
       "  </tbody>\n",
       "</table>\n",
       "</div>"
      ],
      "text/plain": [
       "                 County State Population\n",
       "0              DeWitt      IL     16,798\n",
       "1         Lac Qui Parle    MN      8,067\n",
       "2         Lewis & Clark    MT     55,716\n",
       "3  St. John the Baptist    LA     43,044"
      ]
     },
     "execution_count": 4,
     "metadata": {},
     "output_type": "execute_result"
    }
   ],
   "source": [
    "census"
   ]
  },
  {
   "cell_type": "markdown",
   "metadata": {},
   "source": [
    "We would naturally like to join the `election` and `census` tables using the `County` column. Unfortunately, not a single county is spelled the same in the two tables. \n",
    "Before we can join these tables we need to clean the strings so that they have a common format. We need to change the case of characters, use common spellings and abbreviations, and remove punctuation."
   ]
  },
  {
   "cell_type": "markdown",
   "metadata": {},
   "source": [
    "*Extract a piece of text to create a feature.* \n",
    "The content of the Web log entry below has a lot structure. For example, the date always appears in square brackets. However, the various pieces of content are not consistently separated by the same delimiter, like in a CSV or TSV file, and they are not consistently placed at the same locations in the files, as in a fixed-width format.\n",
    "\n",
    "```\n",
    "169.237.46.168 - -\n",
    "[26/Jan/2004:10:47:58 -0800]\"GET /stat141/Winter04 HTTP/1.1\" 301 328\n",
    "\"http://anson.ucdavis.edu/courses\"\n",
    "\"Mozilla/4.0 (compatible; MSIE 6.0; Windows NT 5.0; .NET CLR 1.1.4322)\"\n",
    "```\n",
    "\n",
    "Even though the file format doesn’t align with one of the simple formats we saw in {numref}`Chapter %s <ch:files>`, we can use the structure that is there to extract pieces of text from the logs and create features for analysis."
   ]
  },
  {
   "cell_type": "markdown",
   "metadata": {},
   "source": [
    "*Transform text into features.* In {numref}`Chapter %s <ch:wrangling>`, we demonstrated how to create a categorical feature out of a string. There, we examined the descriptions of restaurant violations, such as those shown below that pertain to cleanliness, and we created nominal variables for the presence of particular words. For example, one feature indicated that a violation description contained a word like glove, nail, hand, and hair, so that we could categorize these violations as related to cleanliness of the restaurant staff."
   ]
  },
  {
   "cell_type": "markdown",
   "metadata": {},
   "source": [
    "```\n",
    "unclean or degraded floors walls or ceilings\n",
    "inadequate and inaccessible handwashing facilities\n",
    "inadequately cleaned or sanitized food contact surfaces\n",
    "wiping cloths not clean or properly stored or inadequate sanitizer\n",
    "foods not protected from contamination\n",
    "unclean nonfood contact surfaces\n",
    "unclean or unsanitary food contact surfaces\n",
    "unclean hands or improper use of gloves\n",
    "inadequate washing facilities or equipment\n",
    "These new features can be used in an analysis of food safety scores.\n",
    "```"
   ]
  },
  {
   "cell_type": "markdown",
   "metadata": {},
   "source": [
    "*Text analysis.* Some times we want to compare entire documents. To do this we must represent a document in some analyzable form. One approach is to view the document as a collection of word counts and compare these counts by measuring how similar they are. For example, consider the State of the Union Addresses, which have been given annually since 1790. The first few lines of the first of these appears below. "
   ]
  },
  {
   "cell_type": "markdown",
   "metadata": {},
   "source": [
    "```\n",
    "*** \n",
    "\n",
    "State of the Union Address\n",
    "George Washington\n",
    "January 8, 1790\n",
    "\n",
    "Fellow-Citizens of the Senate and House of Representatives:\n",
    "I embrace with great satisfaction the opportunity which now presents itself of congratulating you on the present favorable prospects of our public …\n",
    "\n",
    "```"
   ]
  },
  {
   "cell_type": "markdown",
   "metadata": {},
   "source": [
    "All together, as of 2022, there have been 232 of these speeches delivered. We are interested in whether speeches are more similar in different eras or by the president's political party. A lot of attention has been given to former President Trumps use of language. Is that apparent in his State of the Union speeches? To address these questions, we can do some text mining.  "
   ]
  },
  {
   "cell_type": "markdown",
   "metadata": {},
   "source": [
    "These examples serve to illustrate the ideas of string manipulation, regular expressions, and text analysis in the remainder of this chapter. We begin with the simpler notion of string manipulation and show how we can use these tools to canonicalize county names in order to join tables. "
   ]
  }
 ],
 "metadata": {
  "kernelspec": {
   "display_name": "Python 3",
   "language": "python",
   "name": "python3"
  },
  "language_info": {
   "codemirror_mode": {
    "name": "ipython",
    "version": 3
   },
   "file_extension": ".py",
   "mimetype": "text/x-python",
   "name": "python",
   "nbconvert_exporter": "python",
   "pygments_lexer": "ipython3",
   "version": "3.9.4"
  }
 },
 "nbformat": 4,
 "nbformat_minor": 4
}
