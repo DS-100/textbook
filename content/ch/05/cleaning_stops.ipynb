{
 "cells": [
  {
   "cell_type": "code",
   "execution_count": null,
   "metadata": {
    "tags": [
     "hide_input"
    ]
   },
   "outputs": [],
   "source": [
    "# HIDDEN\n",
    "import warnings\n",
    "# Ignore numpy dtype warnings. These warnings are caused by an interaction\n",
    "# between numpy and Cython and can be safely ignored.\n",
    "# Reference: https://stackoverflow.com/a/40846742\n",
    "warnings.filterwarnings(\"ignore\", message=\"numpy.dtype size changed\")\n",
    "warnings.filterwarnings(\"ignore\", message=\"numpy.ufunc size changed\")\n",
    "\n",
    "import numpy as np\n",
    "import matplotlib.pyplot as plt\n",
    "import pandas as pd\n",
    "import seaborn as sns\n",
    "%matplotlib inline\n",
    "import ipywidgets as widgets\n",
    "from ipywidgets import interact, interactive, fixed, interact_manual\n",
    "import nbinteract as nbi\n",
    "\n",
    "sns.set()\n",
    "sns.set_context('talk')\n",
    "np.set_printoptions(threshold=20, precision=2, suppress=True)\n",
    "pd.options.display.max_rows = 7\n",
    "pd.options.display.max_columns = 8\n",
    "pd.set_option('precision', 2)\n",
    "# This option stops scientific notation for pandas\n",
    "# pd.set_option('display.float_format', '{:.2f}'.format)"
   ]
  },
  {
   "cell_type": "code",
   "execution_count": 20,
   "metadata": {
    "tags": [
     "hide_input"
    ]
   },
   "outputs": [],
   "source": [
    "# HIDDEN\n",
    "def df_interact(df):\n",
    "    '''\n",
    "    Outputs sliders that show rows and columns of df\n",
    "    '''\n",
    "    def peek(row=0):\n",
    "        return df[row:row + 5]\n",
    "    interact(peek, row=(0, len(df), 5))\n",
    "    print('({} rows, {} columns) total'.format(df.shape[0], df.shape[1]))"
   ]
  },
  {
   "cell_type": "markdown",
   "metadata": {},
   "source": [
    "## Cleaning The Stops Dataset\n",
    "\n",
    "The Stops dataset ([webpage](https://data.cityofberkeley.info/Public-Safety/Berkeley-PD-Stop-Data/6e9j-pj9p)) records police stops of pedestrians and vehicles. Let's prepare it for further analysis.\n",
    "\n",
    "We can use the `head` command to display the first few lines of the file."
   ]
  },
  {
   "cell_type": "code",
   "execution_count": 21,
   "metadata": {},
   "outputs": [
    {
     "name": "stdout",
     "output_type": "stream",
     "text": [
      "{\r\n",
      "  \"meta\" : {\r\n",
      "    \"view\" : {\r\n",
      "      \"id\" : \"6e9j-pj9p\",\r\n",
      "      \"name\" : \"Berkeley PD - Stop Data\",\r\n",
      "      \"attribution\" : \"Berkeley Police Department\",\r\n",
      "      \"averageRating\" : 0,\r\n",
      "      \"category\" : \"Public Safety\",\r\n",
      "      \"createdAt\" : 1444171604,\r\n",
      "      \"description\" : \"This data was extracted from the Department’s Public Safety Server and covers the data beginning January 26, 2015.  On January 26, 2015 the department began collecting data pursuant to General Order B-4 (issued December 31, 2014).  Under that order, officers were required to provide certain data after making all vehicle detentions (including bicycles) and pedestrian detentions (up to five persons).  This data set lists stops by police in the categories of traffic, suspicious vehicle, pedestrian and bicycle stops.  Incident number, date and time, location and disposition codes are also listed in this data.\\r\\n\\r\\nAddress data has been changed from a specific address, where applicable, and listed as the block where the incident occurred.  Disposition codes were entered by officers who made the stop.  These codes included the person(s) race, gender, age (range), reason for the stop, enforcement action taken, and whether or not a search was conducted.\\r\\n\\r\\nThe officers of the Berkeley Police Department are prohibited from biased based policing, which is defined as any police-initiated action that relies on the race, ethnicity, or national origin rather than the behavior of an individual or information that leads the police to a particular individual who has been identified as being engaged in criminal activity.\",\r\n"
     ]
    }
   ],
   "source": [
    "!head data/stops.json"
   ]
  },
  {
   "cell_type": "markdown",
   "metadata": {},
   "source": [
    "The `stops.json` file is clearly not a CSV file. In this case, the file contains data in the JSON (JavaScript Object Notation) format, a commonly used data format where data is recorded in a dictionary format. Python's [`json` module](https://docs.python.org/3/library/json.html) makes reading in this file as a dictionary simple."
   ]
  },
  {
   "cell_type": "code",
   "execution_count": 22,
   "metadata": {},
   "outputs": [
    {
     "data": {
      "text/plain": [
       "dict_keys(['meta', 'data'])"
      ]
     },
     "execution_count": 22,
     "metadata": {},
     "output_type": "execute_result"
    }
   ],
   "source": [
    "import json\n",
    "\n",
    "# Note that this could cause our computer to run out of memory if the file\n",
    "# is large. In this case, we've verified that the file is small enough to\n",
    "# read in beforehand.\n",
    "with open('data/stops.json') as f:\n",
    "    stops_dict = json.load(f)\n",
    "\n",
    "stops_dict.keys()"
   ]
  },
  {
   "cell_type": "markdown",
   "metadata": {},
   "source": [
    "Note that `stops_dict` is a Python dictionary, so displaying it will display the entire dataset in the notebook. This could cause the browser to crash, so we only display the keys of the dictionary above. To peek at the data without potentially crashing the browser, we can print the dictionary to a string and only output some of the first characters of the string."
   ]
  },
  {
   "cell_type": "code",
   "execution_count": 23,
   "metadata": {},
   "outputs": [
    {
     "name": "stdout",
     "output_type": "stream",
     "text": [
      "{'view': {'attribution': 'Berkeley Police Department',\n",
      "          'averageRating': 0,\n",
      "          'category': 'Public Safety',\n",
      "          'columns': [{'dataTypeName': 'meta_data',\n",
      "                       'fieldName': ':sid',\n",
      "                       'flags': ['hidden'],\n",
      "                       'format': {},\n",
      "                       'id': -1,\n",
      "                       'name': 'sid',\n",
      "                       'position': 0,\n",
      "                       'renderTypeName': 'meta_data'},\n",
      "                      {'dataTypeName': 'meta_data',\n",
      "                       'fieldName': ':id',\n",
      "                       'flags': ['hidden'],\n",
      "                       'format': {},\n",
      "                       'id': -1,\n",
      "                       'name': 'id',\n",
      "                       'position': 0,\n",
      "                       'renderTypeName': 'meta_data'},\n",
      "                      {'dataTypeName': 'meta_data',\n",
      "                       'fieldName': ':position',\n",
      "                       'flags': ['hidden'],\n",
      "                       'format': {},\n",
      "              \n"
     ]
    }
   ],
   "source": [
    "from pprint import pformat\n",
    "\n",
    "def print_dict(dictionary, num_chars=1000):\n",
    "    print(pformat(dictionary)[:num_chars])\n",
    "\n",
    "print_dict(stops_dict['meta'])"
   ]
  },
  {
   "cell_type": "code",
   "execution_count": 24,
   "metadata": {},
   "outputs": [
    {
     "name": "stdout",
     "output_type": "stream",
     "text": [
      "[[1,\n",
      "  '29A1B912-A0A9-4431-ADC9-FB375809C32E',\n",
      "  1,\n",
      "  1444146408,\n",
      "  '932858',\n",
      "  1444146408,\n",
      "  '932858',\n",
      "  None,\n",
      "  '2015-00004825',\n",
      "  '2015-01-26T00:10:00',\n",
      "  'SAN PABLO AVE / MARIN AVE',\n",
      "  'T',\n",
      "  'M',\n",
      "  None,\n",
      "  None],\n",
      " [2,\n",
      "  '1644D161-1113-4C4F-BB2E-BF780E7AE73E',\n",
      "  2,\n",
      "  1444146408,\n",
      "  '932858',\n",
      "  14\n"
     ]
    }
   ],
   "source": [
    "print_dict(stops_dict['data'], num_chars=300)"
   ]
  },
  {
   "cell_type": "markdown",
   "metadata": {},
   "source": [
    "We can likely deduce that the `'meta'` key in the dictionary contains a description of the data and its columns and the `'data'` contains a list of data rows. We can use this information to initialize a DataFrame."
   ]
  },
  {
   "cell_type": "code",
   "execution_count": 25,
   "metadata": {},
   "outputs": [
    {
     "data": {
      "text/html": [
       "<div>\n",
       "<style scoped>\n",
       "    .dataframe tbody tr th:only-of-type {\n",
       "        vertical-align: middle;\n",
       "    }\n",
       "\n",
       "    .dataframe tbody tr th {\n",
       "        vertical-align: top;\n",
       "    }\n",
       "\n",
       "    .dataframe thead th {\n",
       "        text-align: right;\n",
       "    }\n",
       "</style>\n",
       "<table border=\"1\" class=\"dataframe\">\n",
       "  <thead>\n",
       "    <tr style=\"text-align: right;\">\n",
       "      <th></th>\n",
       "      <th>sid</th>\n",
       "      <th>id</th>\n",
       "      <th>position</th>\n",
       "      <th>created_at</th>\n",
       "      <th>...</th>\n",
       "      <th>Incident Type</th>\n",
       "      <th>Dispositions</th>\n",
       "      <th>Location - Latitude</th>\n",
       "      <th>Location - Longitude</th>\n",
       "    </tr>\n",
       "  </thead>\n",
       "  <tbody>\n",
       "    <tr>\n",
       "      <th>0</th>\n",
       "      <td>1</td>\n",
       "      <td>29A1B912-A0A9-4431-ADC9-FB375809C32E</td>\n",
       "      <td>1</td>\n",
       "      <td>1444146408</td>\n",
       "      <td>...</td>\n",
       "      <td>T</td>\n",
       "      <td>M</td>\n",
       "      <td>None</td>\n",
       "      <td>None</td>\n",
       "    </tr>\n",
       "    <tr>\n",
       "      <th>1</th>\n",
       "      <td>2</td>\n",
       "      <td>1644D161-1113-4C4F-BB2E-BF780E7AE73E</td>\n",
       "      <td>2</td>\n",
       "      <td>1444146408</td>\n",
       "      <td>...</td>\n",
       "      <td>T</td>\n",
       "      <td>M</td>\n",
       "      <td>None</td>\n",
       "      <td>None</td>\n",
       "    </tr>\n",
       "    <tr>\n",
       "      <th>2</th>\n",
       "      <td>3</td>\n",
       "      <td>5338ABAB-1C96-488D-B55F-6A47AC505872</td>\n",
       "      <td>3</td>\n",
       "      <td>1444146408</td>\n",
       "      <td>...</td>\n",
       "      <td>T</td>\n",
       "      <td>M</td>\n",
       "      <td>None</td>\n",
       "      <td>None</td>\n",
       "    </tr>\n",
       "    <tr>\n",
       "      <th>...</th>\n",
       "      <td>...</td>\n",
       "      <td>...</td>\n",
       "      <td>...</td>\n",
       "      <td>...</td>\n",
       "      <td>...</td>\n",
       "      <td>...</td>\n",
       "      <td>...</td>\n",
       "      <td>...</td>\n",
       "      <td>...</td>\n",
       "    </tr>\n",
       "    <tr>\n",
       "      <th>29205</th>\n",
       "      <td>31079</td>\n",
       "      <td>C2B606ED-7872-4B0B-BC9B-4EF45149F34B</td>\n",
       "      <td>31079</td>\n",
       "      <td>1496269085</td>\n",
       "      <td>...</td>\n",
       "      <td>T</td>\n",
       "      <td>BM2TWN;</td>\n",
       "      <td>None</td>\n",
       "      <td>None</td>\n",
       "    </tr>\n",
       "    <tr>\n",
       "      <th>29206</th>\n",
       "      <td>31080</td>\n",
       "      <td>8FADF18D-7FE9-441D-8709-7BFEABDACA7A</td>\n",
       "      <td>31080</td>\n",
       "      <td>1496269085</td>\n",
       "      <td>...</td>\n",
       "      <td>T</td>\n",
       "      <td>HM4TCS;</td>\n",
       "      <td>37.8698757000001</td>\n",
       "      <td>-122.286550846</td>\n",
       "    </tr>\n",
       "    <tr>\n",
       "      <th>29207</th>\n",
       "      <td>31081</td>\n",
       "      <td>F60BD2A4-8C47-4BE7-B1C6-4934BE9DF838</td>\n",
       "      <td>31081</td>\n",
       "      <td>1496269085</td>\n",
       "      <td>...</td>\n",
       "      <td>1194</td>\n",
       "      <td>AR;</td>\n",
       "      <td>37.867207539</td>\n",
       "      <td>-122.256529377</td>\n",
       "    </tr>\n",
       "  </tbody>\n",
       "</table>\n",
       "<p>29208 rows × 15 columns</p>\n",
       "</div>"
      ],
      "text/plain": [
       "         sid                                    id  position  created_at  \\\n",
       "0          1  29A1B912-A0A9-4431-ADC9-FB375809C32E         1  1444146408   \n",
       "1          2  1644D161-1113-4C4F-BB2E-BF780E7AE73E         2  1444146408   \n",
       "2          3  5338ABAB-1C96-488D-B55F-6A47AC505872         3  1444146408   \n",
       "...      ...                                   ...       ...         ...   \n",
       "29205  31079  C2B606ED-7872-4B0B-BC9B-4EF45149F34B     31079  1496269085   \n",
       "29206  31080  8FADF18D-7FE9-441D-8709-7BFEABDACA7A     31080  1496269085   \n",
       "29207  31081  F60BD2A4-8C47-4BE7-B1C6-4934BE9DF838     31081  1496269085   \n",
       "\n",
       "              ...          Incident Type  Dispositions Location - Latitude  \\\n",
       "0             ...                      T             M                None   \n",
       "1             ...                      T             M                None   \n",
       "2             ...                      T             M                None   \n",
       "...           ...                    ...           ...                 ...   \n",
       "29205         ...                      T      BM2TWN;                 None   \n",
       "29206         ...                      T      HM4TCS;     37.8698757000001   \n",
       "29207         ...                   1194          AR;         37.867207539   \n",
       "\n",
       "      Location - Longitude  \n",
       "0                     None  \n",
       "1                     None  \n",
       "2                     None  \n",
       "...                    ...  \n",
       "29205                 None  \n",
       "29206       -122.286550846  \n",
       "29207       -122.256529377  \n",
       "\n",
       "[29208 rows x 15 columns]"
      ]
     },
     "execution_count": 25,
     "metadata": {},
     "output_type": "execute_result"
    }
   ],
   "source": [
    "# Load the data from JSON and assign column titles\n",
    "stops = pd.DataFrame(\n",
    "    stops_dict['data'],\n",
    "    columns=[c['name'] for c in stops_dict['meta']['view']['columns']])\n",
    "\n",
    "stops"
   ]
  },
  {
   "cell_type": "code",
   "execution_count": 29,
   "metadata": {},
   "outputs": [
    {
     "data": {
      "text/plain": [
       "Index(['sid', 'id', 'position', 'created_at', 'created_meta', 'updated_at',\n",
       "       'updated_meta', 'meta', 'Incident Number', 'Call Date/Time', 'Location',\n",
       "       'Incident Type', 'Dispositions', 'Location - Latitude',\n",
       "       'Location - Longitude'],\n",
       "      dtype='object')"
      ]
     },
     "execution_count": 29,
     "metadata": {},
     "output_type": "execute_result"
    }
   ],
   "source": [
    "# Prints column names\n",
    "stops.columns"
   ]
  },
  {
   "cell_type": "markdown",
   "metadata": {},
   "source": [
    "The website contains documentation about the following columns:\n",
    "\n",
    "| Column | Description | Type |\n",
    "| ------ | ----------- | ---- |\n",
    "| Incident Number | Number of incident created by Computer Aided Dispatch (CAD) program | Plain Text |\n",
    "| Call Date/Time  | Date and time of the incident/stop | Date & Time |\n",
    "| Location  | General location of the incident/stop | Plain Text |\n",
    "| Incident Type | This is the occurred incident type created in the CAD program. A code signifies a traffic stop (T), suspicious vehicle stop (1196), pedestrian stop (1194) and bicycle stop (1194B). | Plain Text |\n",
    "| Dispositions  | Ordered in the following sequence: 1st Character = Race, as follows: A (Asian) B (Black) H (Hispanic) O (Other) W (White) 2nd Character = Gender, as follows: F (Female) M (Male) 3rd Character = Age Range, as follows: 1 (Less than 18) 2 (18-29) 3 (30-39), 4 (Greater than 40) 4th Character = Reason, as follows: I (Investigation) T (Traffic) R (Reasonable Suspicion) K (Probation/Parole) W (Wanted) 5th Character = Enforcement, as follows: A (Arrest) C (Citation) O (Other) W (Warning) 6th Character = Car Search, as follows: S (Search) N (No Search) Additional dispositions may also appear. They are: P - Primary case report M - MDT narrative only AR - Arrest report only (no case report submitted) IN - Incident report FC - Field Card CO - Collision investigation report MH - Emergency Psychiatric Evaluation TOW - Impounded vehicle 0 or 00000 – Officer made a stop of more than five persons | Plain Text |\n",
    "| Location - Latitude | General latitude of the call. This data is only uploaded after January 2017 | Number |\n",
    "| Location - Longitude  | General longitude of the call. This data is only uploaded after January 2017. | Number |"
   ]
  },
  {
   "cell_type": "markdown",
   "metadata": {},
   "source": [
    "Notice that the website doesn't contain descriptions for the first 8 columns of the `stops` table. Since these columns appear to contain metadata that we're not interested in analyzing this time, we drop them from the table."
   ]
  },
  {
   "cell_type": "code",
   "execution_count": 27,
   "metadata": {},
   "outputs": [
    {
     "data": {
      "text/html": [
       "<div>\n",
       "<style scoped>\n",
       "    .dataframe tbody tr th:only-of-type {\n",
       "        vertical-align: middle;\n",
       "    }\n",
       "\n",
       "    .dataframe tbody tr th {\n",
       "        vertical-align: top;\n",
       "    }\n",
       "\n",
       "    .dataframe thead th {\n",
       "        text-align: right;\n",
       "    }\n",
       "</style>\n",
       "<table border=\"1\" class=\"dataframe\">\n",
       "  <thead>\n",
       "    <tr style=\"text-align: right;\">\n",
       "      <th></th>\n",
       "      <th>Incident Number</th>\n",
       "      <th>Call Date/Time</th>\n",
       "      <th>Location</th>\n",
       "      <th>Incident Type</th>\n",
       "      <th>Dispositions</th>\n",
       "      <th>Location - Latitude</th>\n",
       "      <th>Location - Longitude</th>\n",
       "    </tr>\n",
       "  </thead>\n",
       "  <tbody>\n",
       "    <tr>\n",
       "      <th>0</th>\n",
       "      <td>2015-00004825</td>\n",
       "      <td>2015-01-26T00:10:00</td>\n",
       "      <td>SAN PABLO AVE / MARIN AVE</td>\n",
       "      <td>T</td>\n",
       "      <td>M</td>\n",
       "      <td>None</td>\n",
       "      <td>None</td>\n",
       "    </tr>\n",
       "    <tr>\n",
       "      <th>1</th>\n",
       "      <td>2015-00004829</td>\n",
       "      <td>2015-01-26T00:50:00</td>\n",
       "      <td>SAN PABLO AVE / CHANNING WAY</td>\n",
       "      <td>T</td>\n",
       "      <td>M</td>\n",
       "      <td>None</td>\n",
       "      <td>None</td>\n",
       "    </tr>\n",
       "    <tr>\n",
       "      <th>2</th>\n",
       "      <td>2015-00004831</td>\n",
       "      <td>2015-01-26T01:03:00</td>\n",
       "      <td>UNIVERSITY AVE / NINTH ST</td>\n",
       "      <td>T</td>\n",
       "      <td>M</td>\n",
       "      <td>None</td>\n",
       "      <td>None</td>\n",
       "    </tr>\n",
       "    <tr>\n",
       "      <th>...</th>\n",
       "      <td>...</td>\n",
       "      <td>...</td>\n",
       "      <td>...</td>\n",
       "      <td>...</td>\n",
       "      <td>...</td>\n",
       "      <td>...</td>\n",
       "      <td>...</td>\n",
       "    </tr>\n",
       "    <tr>\n",
       "      <th>29205</th>\n",
       "      <td>2017-00024245</td>\n",
       "      <td>2017-04-30T22:59:26</td>\n",
       "      <td>UNIVERSITY AVE/6TH ST</td>\n",
       "      <td>T</td>\n",
       "      <td>BM2TWN;</td>\n",
       "      <td>None</td>\n",
       "      <td>None</td>\n",
       "    </tr>\n",
       "    <tr>\n",
       "      <th>29206</th>\n",
       "      <td>2017-00024250</td>\n",
       "      <td>2017-04-30T23:19:27</td>\n",
       "      <td>UNIVERSITY AVE /  WEST ST</td>\n",
       "      <td>T</td>\n",
       "      <td>HM4TCS;</td>\n",
       "      <td>37.8698757000001</td>\n",
       "      <td>-122.286550846</td>\n",
       "    </tr>\n",
       "    <tr>\n",
       "      <th>29207</th>\n",
       "      <td>2017-00024254</td>\n",
       "      <td>2017-04-30T23:38:34</td>\n",
       "      <td>CHANNING WAY /  BOWDITCH ST</td>\n",
       "      <td>1194</td>\n",
       "      <td>AR;</td>\n",
       "      <td>37.867207539</td>\n",
       "      <td>-122.256529377</td>\n",
       "    </tr>\n",
       "  </tbody>\n",
       "</table>\n",
       "<p>29208 rows × 7 columns</p>\n",
       "</div>"
      ],
      "text/plain": [
       "      Incident Number       Call Date/Time                      Location  \\\n",
       "0       2015-00004825  2015-01-26T00:10:00     SAN PABLO AVE / MARIN AVE   \n",
       "1       2015-00004829  2015-01-26T00:50:00  SAN PABLO AVE / CHANNING WAY   \n",
       "2       2015-00004831  2015-01-26T01:03:00     UNIVERSITY AVE / NINTH ST   \n",
       "...               ...                  ...                           ...   \n",
       "29205   2017-00024245  2017-04-30T22:59:26         UNIVERSITY AVE/6TH ST   \n",
       "29206   2017-00024250  2017-04-30T23:19:27     UNIVERSITY AVE /  WEST ST   \n",
       "29207   2017-00024254  2017-04-30T23:38:34   CHANNING WAY /  BOWDITCH ST   \n",
       "\n",
       "      Incident Type Dispositions Location - Latitude Location - Longitude  \n",
       "0                 T            M                None                 None  \n",
       "1                 T            M                None                 None  \n",
       "2                 T            M                None                 None  \n",
       "...             ...          ...                 ...                  ...  \n",
       "29205             T     BM2TWN;                 None                 None  \n",
       "29206             T     HM4TCS;     37.8698757000001       -122.286550846  \n",
       "29207          1194         AR;         37.867207539       -122.256529377  \n",
       "\n",
       "[29208 rows x 7 columns]"
      ]
     },
     "execution_count": 27,
     "metadata": {},
     "output_type": "execute_result"
    }
   ],
   "source": [
    "columns_to_drop = ['sid', 'id', 'position', 'created_at', 'created_meta',\n",
    "                   'updated_at', 'updated_meta', 'meta']\n",
    "\n",
    "# This function takes in a DF and returns a DF so we can use it for .pipe\n",
    "def drop_unneeded_cols(stops):\n",
    "    return stops.drop(columns=columns_to_drop)\n",
    "\n",
    "stops.pipe(drop_unneeded_cols)"
   ]
  },
  {
   "cell_type": "markdown",
   "metadata": {},
   "source": [
    "As with the Calls dataset, we will answer the following three questions about the Stops dataset:\n",
    "\n",
    "1. Are there missing values in the dataset?\n",
    "1. Are there any missing values that were filled in (e.g. a 999 for unknown age or 12:00am for unknown date)?\n",
    "1. Which parts of the data were entered by a human?"
   ]
  },
  {
   "cell_type": "markdown",
   "metadata": {},
   "source": [
    "### Are there missing values?"
   ]
  },
  {
   "cell_type": "markdown",
   "metadata": {},
   "source": [
    "We can clearly see that there are many missing latitude and longitudes. The data description states that these two columns are only filled in after Jan 2017."
   ]
  },
  {
   "cell_type": "code",
   "execution_count": 10,
   "metadata": {},
   "outputs": [
    {
     "data": {
      "text/html": [
       "<div>\n",
       "<style scoped>\n",
       "    .dataframe tbody tr th:only-of-type {\n",
       "        vertical-align: middle;\n",
       "    }\n",
       "\n",
       "    .dataframe tbody tr th {\n",
       "        vertical-align: top;\n",
       "    }\n",
       "\n",
       "    .dataframe thead th {\n",
       "        text-align: right;\n",
       "    }\n",
       "</style>\n",
       "<table border=\"1\" class=\"dataframe\">\n",
       "  <thead>\n",
       "    <tr style=\"text-align: right;\">\n",
       "      <th></th>\n",
       "      <th>Incident Number</th>\n",
       "      <th>Call Date/Time</th>\n",
       "      <th>Location</th>\n",
       "      <th>Incident Type</th>\n",
       "      <th>Dispositions</th>\n",
       "      <th>Location - Latitude</th>\n",
       "      <th>Location - Longitude</th>\n",
       "    </tr>\n",
       "  </thead>\n",
       "  <tbody>\n",
       "    <tr>\n",
       "      <th>0</th>\n",
       "      <td>2015-00004825</td>\n",
       "      <td>2015-01-26T00:10:00</td>\n",
       "      <td>SAN PABLO AVE / MARIN AVE</td>\n",
       "      <td>T</td>\n",
       "      <td>M</td>\n",
       "      <td>None</td>\n",
       "      <td>None</td>\n",
       "    </tr>\n",
       "    <tr>\n",
       "      <th>1</th>\n",
       "      <td>2015-00004829</td>\n",
       "      <td>2015-01-26T00:50:00</td>\n",
       "      <td>SAN PABLO AVE / CHANNING WAY</td>\n",
       "      <td>T</td>\n",
       "      <td>M</td>\n",
       "      <td>None</td>\n",
       "      <td>None</td>\n",
       "    </tr>\n",
       "    <tr>\n",
       "      <th>2</th>\n",
       "      <td>2015-00004831</td>\n",
       "      <td>2015-01-26T01:03:00</td>\n",
       "      <td>UNIVERSITY AVE / NINTH ST</td>\n",
       "      <td>T</td>\n",
       "      <td>M</td>\n",
       "      <td>None</td>\n",
       "      <td>None</td>\n",
       "    </tr>\n",
       "    <tr>\n",
       "      <th>...</th>\n",
       "      <td>...</td>\n",
       "      <td>...</td>\n",
       "      <td>...</td>\n",
       "      <td>...</td>\n",
       "      <td>...</td>\n",
       "      <td>...</td>\n",
       "      <td>...</td>\n",
       "    </tr>\n",
       "    <tr>\n",
       "      <th>29078</th>\n",
       "      <td>2017-00023764</td>\n",
       "      <td>2017-04-29T01:59:36</td>\n",
       "      <td>2180 M L KING JR WAY</td>\n",
       "      <td>1194</td>\n",
       "      <td>BM4IWN;</td>\n",
       "      <td>None</td>\n",
       "      <td>None</td>\n",
       "    </tr>\n",
       "    <tr>\n",
       "      <th>29180</th>\n",
       "      <td>2017-00024132</td>\n",
       "      <td>2017-04-30T12:54:23</td>\n",
       "      <td>6TH/UNI</td>\n",
       "      <td>1194</td>\n",
       "      <td>M;</td>\n",
       "      <td>None</td>\n",
       "      <td>None</td>\n",
       "    </tr>\n",
       "    <tr>\n",
       "      <th>29205</th>\n",
       "      <td>2017-00024245</td>\n",
       "      <td>2017-04-30T22:59:26</td>\n",
       "      <td>UNIVERSITY AVE/6TH ST</td>\n",
       "      <td>T</td>\n",
       "      <td>BM2TWN;</td>\n",
       "      <td>None</td>\n",
       "      <td>None</td>\n",
       "    </tr>\n",
       "  </tbody>\n",
       "</table>\n",
       "<p>25067 rows × 7 columns</p>\n",
       "</div>"
      ],
      "text/plain": [
       "      Incident Number       Call Date/Time                      Location  \\\n",
       "0       2015-00004825  2015-01-26T00:10:00     SAN PABLO AVE / MARIN AVE   \n",
       "1       2015-00004829  2015-01-26T00:50:00  SAN PABLO AVE / CHANNING WAY   \n",
       "2       2015-00004831  2015-01-26T01:03:00     UNIVERSITY AVE / NINTH ST   \n",
       "...               ...                  ...                           ...   \n",
       "29078   2017-00023764  2017-04-29T01:59:36          2180 M L KING JR WAY   \n",
       "29180   2017-00024132  2017-04-30T12:54:23                       6TH/UNI   \n",
       "29205   2017-00024245  2017-04-30T22:59:26         UNIVERSITY AVE/6TH ST   \n",
       "\n",
       "      Incident Type Dispositions Location - Latitude Location - Longitude  \n",
       "0                 T            M                None                 None  \n",
       "1                 T            M                None                 None  \n",
       "2                 T            M                None                 None  \n",
       "...             ...          ...                 ...                  ...  \n",
       "29078          1194     BM4IWN;                 None                 None  \n",
       "29180          1194          M;                 None                 None  \n",
       "29205             T     BM2TWN;                 None                 None  \n",
       "\n",
       "[25067 rows x 7 columns]"
      ]
     },
     "execution_count": 10,
     "metadata": {},
     "output_type": "execute_result"
    }
   ],
   "source": [
    "# True if row contains at least one null value\n",
    "null_rows = stops.isnull().any(axis=1)\n",
    "\n",
    "stops[null_rows]"
   ]
  },
  {
   "cell_type": "markdown",
   "metadata": {},
   "source": [
    "We can check the other columns for missing values:"
   ]
  },
  {
   "cell_type": "code",
   "execution_count": 11,
   "metadata": {
    "tags": [
     "interactive"
    ]
   },
   "outputs": [
    {
     "data": {
      "application/vnd.jupyter.widget-view+json": {
       "model_id": "9472ffb4a4d24a00b10d30114ce4b9b8",
       "version_major": 2,
       "version_minor": 0
      },
      "text/plain": [
       "A Jupyter Widget"
      ]
     },
     "metadata": {},
     "output_type": "display_data"
    },
    {
     "name": "stdout",
     "output_type": "stream",
     "text": [
      "(63 rows, 7 columns) total\n"
     ]
    }
   ],
   "source": [
    "# True if row contains at least one null value without checking\n",
    "# the latitude and longitude columns\n",
    "null_rows = stops.iloc[:, :-2].isnull().any(axis=1)\n",
    "\n",
    "df_interact(stops[null_rows])"
   ]
  },
  {
   "cell_type": "markdown",
   "metadata": {},
   "source": [
    "By browsing through the table above, we can see that all other missing values are in the Dispositions column. Unfortunately, we do not know from the data description why these Dispositions might be missing. Since only there are only 63 missing values compared to 25,000 rows in the original table, we can proceed with analysis while being mindful that these missing values could impact results."
   ]
  },
  {
   "cell_type": "markdown",
   "metadata": {},
   "source": [
    "### Are there any missing values that were filled in?\n",
    "\n",
    "It doesn't seem like any previously missing values were filled in for us. Unlike in the Calls dataset where the date and time were in separate columns, the Call Date/Time column in the Stops dataset contains both date and time.\n",
    "\n",
    "### Which parts of the data were entered by a human?\n",
    "\n",
    "As with the Calls dataset, it looks like most of the columns in this dataset were recorded by a machine or were a category selected by a human (e.g. Incident Type).\n",
    "\n",
    "However, the Location column doesn't have consistently entered values. Sure enough, we spot some typos in the data:"
   ]
  },
  {
   "cell_type": "code",
   "execution_count": 12,
   "metadata": {},
   "outputs": [
    {
     "data": {
      "text/plain": [
       "2200 BLOCK SHATTUCK AVE            229\n",
       "37.8693028530001~-122.272234021    213\n",
       "UNIVERSITY AVE / SAN PABLO AVE     202\n",
       "                                  ... \n",
       "VALLEY ST / DWIGHT WAY               1\n",
       "COLLEGE AVE / SIXTY-THIRD ST         1\n",
       "GRIZZLY PEAK BLVD / MARIN AVE        1\n",
       "Name: Location, Length: 6393, dtype: int64"
      ]
     },
     "execution_count": 12,
     "metadata": {},
     "output_type": "execute_result"
    }
   ],
   "source": [
    "stops['Location'].value_counts()"
   ]
  },
  {
   "cell_type": "markdown",
   "metadata": {},
   "source": [
    "What a mess! It looks like sometimes an address was entered, sometimes a cross-street, and other times a latitude-longitude pair. Unfortunately, we don't have very complete latitude-longitude data to use in place of this column. We may have to manually clean this column if we want to use locations for future analysis.\n",
    "\n",
    "We can also check the Dispositions column:"
   ]
  },
  {
   "cell_type": "code",
   "execution_count": 14,
   "metadata": {
    "tags": [
     "interactive"
    ]
   },
   "outputs": [
    {
     "data": {
      "application/vnd.jupyter.widget-view+json": {
       "model_id": "2ca1b86cd1ea4346827b3f2a85ec479c",
       "version_major": 2,
       "version_minor": 0
      },
      "text/plain": [
       "A Jupyter Widget"
      ]
     },
     "metadata": {},
     "output_type": "display_data"
    },
    {
     "data": {
      "text/plain": [
       "<function __main__.<lambda>>"
      ]
     },
     "execution_count": 14,
     "metadata": {},
     "output_type": "execute_result"
    }
   ],
   "source": [
    "dispositions = stops['Dispositions'].value_counts()\n",
    "\n",
    "# Outputs a slider to pan through the unique Dispositions in\n",
    "# order of how often they appear\n",
    "interact(lambda row=0: dispositions.iloc[row:row+7],\n",
    "         row=(0, len(dispositions), 7))"
   ]
  },
  {
   "cell_type": "markdown",
   "metadata": {},
   "source": [
    "The Dispositions columns also contains inconsistencies. For example, some dispositions start with a space, some end with a semicolon, and some contain multiple entries. The variety of values suggests that this field contains human-entered values and should be treated with caution."
   ]
  },
  {
   "cell_type": "code",
   "execution_count": 15,
   "metadata": {},
   "outputs": [
    {
     "data": {
      "text/plain": [
       "M           1683\n",
       "M;           238\n",
       " M           176\n",
       "HF4TWN;       14\n",
       " OM4KWS        1\n",
       "Name: Dispositions, dtype: int64"
      ]
     },
     "execution_count": 15,
     "metadata": {},
     "output_type": "execute_result"
    }
   ],
   "source": [
    "# Strange values...\n",
    "dispositions.iloc[[0, 20, 30, 266, 1027]]"
   ]
  },
  {
   "cell_type": "markdown",
   "metadata": {},
   "source": [
    "In addition, the most common disposition is `M` which isn't a permitted first character in the Dispositions column. This could mean that the format of the column changed over time or that officers are allowed to enter in the disposition without matching the format in the data description. In any case, the column will be challenging to work with.\n",
    "\n",
    "We can take some simple steps to clean the Dispositions column by removing leading and trailing whitespace, removing trailing semi-colons, and replacing the remaining semi-colons with commas."
   ]
  },
  {
   "cell_type": "code",
   "execution_count": 30,
   "metadata": {},
   "outputs": [],
   "source": [
    "def clean_dispositions(stops):\n",
    "    cleaned = (stops['Dispositions']\n",
    "               .str.strip()\n",
    "               .str.rstrip(';')\n",
    "               .str.replace(';', ','))\n",
    "    return stops.assign(Dispositions=cleaned)"
   ]
  },
  {
   "cell_type": "markdown",
   "metadata": {},
   "source": [
    "As before, we can now pipe the `stops` DF through the cleaning functions we've defined:"
   ]
  },
  {
   "cell_type": "code",
   "execution_count": 31,
   "metadata": {
    "tags": [
     "interactive"
    ]
   },
   "outputs": [
    {
     "data": {
      "application/vnd.jupyter.widget-view+json": {
       "model_id": "0c50019399354a5782e62f58b387f849",
       "version_major": 2,
       "version_minor": 0
      },
      "text/plain": [
       "A Jupyter Widget"
      ]
     },
     "metadata": {},
     "output_type": "display_data"
    },
    {
     "name": "stdout",
     "output_type": "stream",
     "text": [
      "(29208 rows, 7 columns) total\n"
     ]
    }
   ],
   "source": [
    "stops_final = (stops\n",
    "               .pipe(drop_unneeded_cols)\n",
    "               .pipe(clean_dispositions))\n",
    "df_interact(stops_final)"
   ]
  },
  {
   "cell_type": "markdown",
   "metadata": {},
   "source": [
    "## Conclusion\n",
    "\n",
    "As these two datasets have shown, data cleaning can often be both difficult and tedious. Cleaning 100% of the data often takes too long, but not cleaning the data at all results in faulty conclusions; we have to weigh our options and strike a balance each time we encounter a new dataset.\n",
    "\n",
    "The decisions made during data cleaning impact all future analyses. For example, we chose not to clean the Location column of the Stops dataset so we should treat that column with caution. Each decision made during data cleaning should be carefully documented for future reference, preferably in a notebook so that both code and explanations appear together."
   ]
  },
  {
   "cell_type": "code",
   "execution_count": 33,
   "metadata": {
    "tags": [
     "hide_input"
    ]
   },
   "outputs": [],
   "source": [
    "# HIDDEN\n",
    "# Save data to CSV for other chapters\n",
    "# stops_final.to_csv('../ch5/data/stops.csv', index=False)"
   ]
  }
 ],
 "metadata": {
  "celltoolbar": "Tags",
  "kernelspec": {
   "display_name": "Python 3",
   "language": "python",
   "name": "python3"
  },
  "language_info": {
   "codemirror_mode": {
    "name": "ipython",
    "version": 3
   },
   "file_extension": ".py",
   "mimetype": "text/x-python",
   "name": "python",
   "nbconvert_exporter": "python",
   "pygments_lexer": "ipython3",
   "version": "3.7.3"
  },
  "toc": {
   "nav_menu": {},
   "number_sections": false,
   "sideBar": true,
   "skip_h1_title": false,
   "title_cell": "Table of Contents",
   "title_sidebar": "Contents",
   "toc_cell": true,
   "toc_position": {},
   "toc_section_display": true,
   "toc_window_display": false
  }
 },
 "nbformat": 4,
 "nbformat_minor": 2
}
