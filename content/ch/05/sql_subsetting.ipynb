{
 "cells": [
  {
   "cell_type": "code",
   "execution_count": 17,
   "source": [
    "# Reference: https://jupyterbook.org/interactive/hiding.html\n",
    "# Use {hide, remove}-{input, output, cell} tags to hiding content\n",
    "\n",
    "import numpy as np\n",
    "import matplotlib.pyplot as plt\n",
    "import pandas as pd\n",
    "import seaborn as sns\n",
    "%matplotlib inline\n",
    "import ipywidgets as widgets\n",
    "from ipywidgets import interact, interactive, fixed, interact_manual\n",
    "from IPython.display import display\n",
    "\n",
    "sns.set()\n",
    "sns.set_context('talk')\n",
    "np.set_printoptions(threshold=20, precision=2, suppress=True)\n",
    "pd.set_option('display.max_rows', 7)\n",
    "pd.set_option('display.max_columns', 8)\n",
    "pd.set_option('precision', 2)\n",
    "# This option stops scientific notation for pandas\n",
    "# pd.set_option('display.float_format', '{:.2f}'.format)\n",
    "\n",
    "def display_df(df, rows=pd.options.display.max_rows,\n",
    "               cols=pd.options.display.max_columns):\n",
    "    with pd.option_context('display.max_rows', rows,\n",
    "                           'display.max_columns', cols):\n",
    "        display(df)"
   ],
   "outputs": [],
   "metadata": {
    "tags": [
     "remove-cell"
    ]
   }
  },
  {
   "cell_type": "code",
   "execution_count": 18,
   "source": [
    "# Prep sqlite database\n",
    "# import sqlalchemy\n",
    "# db = sqlalchemy.create_engine('sqlite:///babynames.db')\n",
    "\n",
    "# csvs = [('babynames.csv', 'baby'), ('nyt_names.csv', 'nyt')]\n",
    "\n",
    "# for csv, name in csvs:\n",
    "#     df = pd.read_csv(csv)\n",
    "#     df.to_sql(name, db, index=False, if_exists='replace')"
   ],
   "outputs": [],
   "metadata": {
    "tags": [
     "remove-cell"
    ]
   }
  },
  {
   "cell_type": "markdown",
   "source": [
    "# Subsetting\n"
   ],
   "metadata": {}
  },
  {
   "cell_type": "markdown",
   "source": [
    "This section introduces operations for taking subsets of relations. When data\n",
    "scientists begin working with a relation, they often want to subset the specific\n",
    "data that they plan to use. For example, a data scientist can *slice* out the\n",
    "ten relevant features from a relation with hundreds of columns. Or, they can\n",
    "*filter* a relation to remove rows with incomplete data. For the rest of this\n",
    "chapter, we'll introduce relation operations using a dataset of baby names.\n",
    "\n",
    "To work with relations, we'll introduce a domain-specific programming language\n",
    "called **SQL** (Structured Query Language). We commonly pronounce \"SQL\" like\n",
    "\"sequel\" instead of spelling out the acronym. SQL is a specialized language for\n",
    "working with relations---as such, SQL has its own syntax that makes it easier\n",
    "to write programs that operate on relational data."
   ],
   "metadata": {}
  },
  {
   "cell_type": "markdown",
   "source": [
    "## About the Data"
   ],
   "metadata": {}
  },
  {
   "cell_type": "markdown",
   "source": [
    "There's a 2021 New York Times article that talks about Prince Harry and\n",
    "Meghan's unique choice for their new baby daughter's name: Lilibet\n",
    "{cite}`williamsLilith2021`. The article has an interview with Pamela Redmond,\n",
    "an expert on baby names, who talks about interesting trends in how people name\n",
    "their kids. For example, she says that names that start with the letter \"L\"\n",
    "have become very popular in recent years, while names that start with the\n",
    "letter \"J\" were most popular in the 1970s and 1980s. Are these claims reflected\n",
    "in data? We can use SQL to find out."
   ],
   "metadata": {}
  },
  {
   "cell_type": "markdown",
   "source": [
    "In this chapter, we'll use SQL queries within Python programs. This illustrates\n",
    "a common workflow---data scientists often process and subset data in SQL before\n",
    "loading the data into Python for further analysis. SQL databases make it easier\n",
    "to work with large amounts of data compared to `pandas` programs. However,\n",
    "loading data into `pandas` makes it easier to visualize the data and build\n",
    "statistical models.\n",
    "\n",
    "So, in this chapter we'll use the `pandas.read_sql` function which runs a SQL\n",
    "query and stores the output in a dataframe. Using this function requires some\n",
    "setup. We start by importing the `pandas` and `sqlalchemy` Python packages."
   ],
   "metadata": {}
  },
  {
   "cell_type": "code",
   "execution_count": 19,
   "source": [
    "import pandas as pd\n",
    "import sqlalchemy"
   ],
   "outputs": [],
   "metadata": {}
  },
  {
   "cell_type": "markdown",
   "source": [
    "Our database is stored in a file called `babynames.db`. This file is a SQLite\n",
    "database {cite}`SQLite`, so we'll set up a `sqlalchemy` object that can process\n",
    "this format."
   ],
   "metadata": {}
  },
  {
   "cell_type": "code",
   "execution_count": 20,
   "source": [
    "db = sqlalchemy.create_engine('sqlite:///babynames.db')"
   ],
   "outputs": [],
   "metadata": {}
  },
  {
   "cell_type": "markdown",
   "source": [
    ":::{note}\n",
    "\n",
    "SQL is a programming language that is implemented differently across database\n",
    "systems. In this book, we use SQLite, one popular database system. Other\n",
    "systems make different tradeoffs that are useful for different domains. For\n",
    "instance, PostgreSQL and MySQL are systems that are useful for large web\n",
    "applications where many end users are writing data at the same time. \n",
    "\n",
    "To make matters more complicated, each SQL system has slight differences. In\n",
    "this book, we'll rely on core parts of SQL syntax that are unlikely to change\n",
    "across implementations. While we won't go over other systems in detail, we'll\n",
    "point out where different SQL systems may differ in capabilities. \n",
    "\n",
    ":::"
   ],
   "metadata": {}
  },
  {
   "cell_type": "markdown",
   "source": [
    "Now, we can use `pd.read_sql` to run SQL queries on this database. This\n",
    "database has two relations: `baby` and `nyt`. Here's a simple example that\n",
    "reads in the entire `baby` relation."
   ],
   "metadata": {}
  },
  {
   "cell_type": "code",
   "execution_count": 21,
   "source": [
    "# SQL query saved in a Python string\n",
    "query = ''' \n",
    "SELECT *\n",
    "FROM baby;\n",
    "'''\n",
    "\n",
    "pd.read_sql(query, db)"
   ],
   "outputs": [
    {
     "output_type": "execute_result",
     "data": {
      "text/html": [
       "<div>\n",
       "<style scoped>\n",
       "    .dataframe tbody tr th:only-of-type {\n",
       "        vertical-align: middle;\n",
       "    }\n",
       "\n",
       "    .dataframe tbody tr th {\n",
       "        vertical-align: top;\n",
       "    }\n",
       "\n",
       "    .dataframe thead th {\n",
       "        text-align: right;\n",
       "    }\n",
       "</style>\n",
       "<table border=\"1\" class=\"dataframe\">\n",
       "  <thead>\n",
       "    <tr style=\"text-align: right;\">\n",
       "      <th></th>\n",
       "      <th>Name</th>\n",
       "      <th>Sex</th>\n",
       "      <th>Count</th>\n",
       "      <th>Year</th>\n",
       "    </tr>\n",
       "  </thead>\n",
       "  <tbody>\n",
       "    <tr>\n",
       "      <th>0</th>\n",
       "      <td>Liam</td>\n",
       "      <td>M</td>\n",
       "      <td>19659</td>\n",
       "      <td>2020</td>\n",
       "    </tr>\n",
       "    <tr>\n",
       "      <th>1</th>\n",
       "      <td>Noah</td>\n",
       "      <td>M</td>\n",
       "      <td>18252</td>\n",
       "      <td>2020</td>\n",
       "    </tr>\n",
       "    <tr>\n",
       "      <th>2</th>\n",
       "      <td>Oliver</td>\n",
       "      <td>M</td>\n",
       "      <td>14147</td>\n",
       "      <td>2020</td>\n",
       "    </tr>\n",
       "    <tr>\n",
       "      <th>...</th>\n",
       "      <td>...</td>\n",
       "      <td>...</td>\n",
       "      <td>...</td>\n",
       "      <td>...</td>\n",
       "    </tr>\n",
       "    <tr>\n",
       "      <th>2020719</th>\n",
       "      <td>Verona</td>\n",
       "      <td>F</td>\n",
       "      <td>5</td>\n",
       "      <td>1880</td>\n",
       "    </tr>\n",
       "    <tr>\n",
       "      <th>2020720</th>\n",
       "      <td>Vertie</td>\n",
       "      <td>F</td>\n",
       "      <td>5</td>\n",
       "      <td>1880</td>\n",
       "    </tr>\n",
       "    <tr>\n",
       "      <th>2020721</th>\n",
       "      <td>Wilma</td>\n",
       "      <td>F</td>\n",
       "      <td>5</td>\n",
       "      <td>1880</td>\n",
       "    </tr>\n",
       "  </tbody>\n",
       "</table>\n",
       "<p>2020722 rows × 4 columns</p>\n",
       "</div>"
      ],
      "text/plain": [
       "           Name Sex  Count  Year\n",
       "0          Liam   M  19659  2020\n",
       "1          Noah   M  18252  2020\n",
       "2        Oliver   M  14147  2020\n",
       "...         ...  ..    ...   ...\n",
       "2020719  Verona   F      5  1880\n",
       "2020720  Vertie   F      5  1880\n",
       "2020721   Wilma   F      5  1880\n",
       "\n",
       "[2020722 rows x 4 columns]"
      ]
     },
     "metadata": {},
     "execution_count": 21
    }
   ],
   "metadata": {}
  },
  {
   "cell_type": "markdown",
   "source": [
    "The text inside the `query` variable contains SQL code. `SELECT` and `FROM` are\n",
    "SQL keywords. We read the query above like:\n",
    "\n",
    "```sql\n",
    "SELECT *    -- Get all the columns...\n",
    "FROM baby;  -- ...from the baby relation\n",
    "```"
   ],
   "metadata": {}
  },
  {
   "cell_type": "markdown",
   "source": [
    "The data in the `baby` relation comes from the US Social Security department,\n",
    "which records the baby name and birth sex for birth certificate purposes. They\n",
    "make the baby names data available on their website {cite}`babynamesData`."
   ],
   "metadata": {}
  },
  {
   "cell_type": "markdown",
   "source": [
    "The Social Security website has a page that describes the data in more detail\n",
    "([link](https://www.ssa.gov/oact/babynames/background.html)). We won't go\n",
    "in-depth in this chapter about the data's limitations, but we'll point out\n",
    "this relevant quote from the website:\n",
    "\n",
    "> All names are from Social Security card applications for births that occurred\n",
    "> in the United States after 1879. Note that many people born before 1937 never\n",
    "> applied for a Social Security card, so their names are not included in our\n",
    "> data. For others who did apply, our records may not show the place of birth,\n",
    "> and again their names are not included in our data.\n",
    ">\n",
    "> All data are from a 100% sample of our records on Social Security card\n",
    "> applications as of March 2021."
   ],
   "metadata": {}
  },
  {
   "cell_type": "markdown",
   "source": [
    "## What's a Relation?"
   ],
   "metadata": {}
  },
  {
   "cell_type": "markdown",
   "source": [
    "Let's examine the `baby` relation in more detail. A relation has rows and\n",
    "columns. Every column has a label, as illustrated in\n",
    "{numref}`fig:relation-labels`. Unlike dataframes, however, individual rows in a\n",
    "relation don't have labels. Also, unlike dataframes, rows of a relation aren't\n",
    "ordered.\n",
    "\n",
    "```{figure} figures/relation-labels.svg\n",
    "---\n",
    "name: fig:relation-labels\n",
    "alt: relation-labels\n",
    "---\n",
    "The `baby` relation has labels for columns (boxed).\n",
    "```\n",
    "\n",
    "Relations have a long history. More formal treatments of relations use the term\n",
    "\"tuple\" to refer to the rows of a relation, and \"attribute\" to refer to the\n",
    "columns. There is also a rigorous way to define data operations using\n",
    "relational algebra, which is derived from mathematical set algebra. Interested\n",
    "data scientists can find a more in-depth treatment of relations in books on\n",
    "database systems such as the one by Garcia-Molina, Ullman, and Widom\n",
    "{cite}`garcia-molinaDatabase2008`."
   ],
   "metadata": {}
  },
  {
   "cell_type": "markdown",
   "source": [
    "## Slicing\n",
    "\n",
    "*Slicing* is an operation that creates a new relation by taking a subset of\n",
    "rows or columns out of another relation. Think about slicing a tomato---slices\n",
    "can go both vertially and horizontally. To slice columns of a relation, we give\n",
    "the `SELECT` statement the columns we want. "
   ],
   "metadata": {}
  },
  {
   "cell_type": "code",
   "execution_count": 22,
   "source": [
    "query = ''' \n",
    "SELECT Name\n",
    "FROM baby;\n",
    "''' \n",
    "\n",
    "pd.read_sql(query, db)"
   ],
   "outputs": [
    {
     "output_type": "execute_result",
     "data": {
      "text/html": [
       "<div>\n",
       "<style scoped>\n",
       "    .dataframe tbody tr th:only-of-type {\n",
       "        vertical-align: middle;\n",
       "    }\n",
       "\n",
       "    .dataframe tbody tr th {\n",
       "        vertical-align: top;\n",
       "    }\n",
       "\n",
       "    .dataframe thead th {\n",
       "        text-align: right;\n",
       "    }\n",
       "</style>\n",
       "<table border=\"1\" class=\"dataframe\">\n",
       "  <thead>\n",
       "    <tr style=\"text-align: right;\">\n",
       "      <th></th>\n",
       "      <th>Name</th>\n",
       "    </tr>\n",
       "  </thead>\n",
       "  <tbody>\n",
       "    <tr>\n",
       "      <th>0</th>\n",
       "      <td>Liam</td>\n",
       "    </tr>\n",
       "    <tr>\n",
       "      <th>1</th>\n",
       "      <td>Noah</td>\n",
       "    </tr>\n",
       "    <tr>\n",
       "      <th>2</th>\n",
       "      <td>Oliver</td>\n",
       "    </tr>\n",
       "    <tr>\n",
       "      <th>...</th>\n",
       "      <td>...</td>\n",
       "    </tr>\n",
       "    <tr>\n",
       "      <th>2020719</th>\n",
       "      <td>Verona</td>\n",
       "    </tr>\n",
       "    <tr>\n",
       "      <th>2020720</th>\n",
       "      <td>Vertie</td>\n",
       "    </tr>\n",
       "    <tr>\n",
       "      <th>2020721</th>\n",
       "      <td>Wilma</td>\n",
       "    </tr>\n",
       "  </tbody>\n",
       "</table>\n",
       "<p>2020722 rows × 1 columns</p>\n",
       "</div>"
      ],
      "text/plain": [
       "           Name\n",
       "0          Liam\n",
       "1          Noah\n",
       "2        Oliver\n",
       "...         ...\n",
       "2020719  Verona\n",
       "2020720  Vertie\n",
       "2020721   Wilma\n",
       "\n",
       "[2020722 rows x 1 columns]"
      ]
     },
     "metadata": {},
     "execution_count": 22
    }
   ],
   "metadata": {}
  },
  {
   "cell_type": "code",
   "execution_count": 23,
   "source": [
    "query = ''' \n",
    "SELECT Name, Count\n",
    "FROM baby;\n",
    "''' \n",
    "\n",
    "pd.read_sql(query, db)"
   ],
   "outputs": [
    {
     "output_type": "execute_result",
     "data": {
      "text/html": [
       "<div>\n",
       "<style scoped>\n",
       "    .dataframe tbody tr th:only-of-type {\n",
       "        vertical-align: middle;\n",
       "    }\n",
       "\n",
       "    .dataframe tbody tr th {\n",
       "        vertical-align: top;\n",
       "    }\n",
       "\n",
       "    .dataframe thead th {\n",
       "        text-align: right;\n",
       "    }\n",
       "</style>\n",
       "<table border=\"1\" class=\"dataframe\">\n",
       "  <thead>\n",
       "    <tr style=\"text-align: right;\">\n",
       "      <th></th>\n",
       "      <th>Name</th>\n",
       "      <th>Count</th>\n",
       "    </tr>\n",
       "  </thead>\n",
       "  <tbody>\n",
       "    <tr>\n",
       "      <th>0</th>\n",
       "      <td>Liam</td>\n",
       "      <td>19659</td>\n",
       "    </tr>\n",
       "    <tr>\n",
       "      <th>1</th>\n",
       "      <td>Noah</td>\n",
       "      <td>18252</td>\n",
       "    </tr>\n",
       "    <tr>\n",
       "      <th>2</th>\n",
       "      <td>Oliver</td>\n",
       "      <td>14147</td>\n",
       "    </tr>\n",
       "    <tr>\n",
       "      <th>...</th>\n",
       "      <td>...</td>\n",
       "      <td>...</td>\n",
       "    </tr>\n",
       "    <tr>\n",
       "      <th>2020719</th>\n",
       "      <td>Verona</td>\n",
       "      <td>5</td>\n",
       "    </tr>\n",
       "    <tr>\n",
       "      <th>2020720</th>\n",
       "      <td>Vertie</td>\n",
       "      <td>5</td>\n",
       "    </tr>\n",
       "    <tr>\n",
       "      <th>2020721</th>\n",
       "      <td>Wilma</td>\n",
       "      <td>5</td>\n",
       "    </tr>\n",
       "  </tbody>\n",
       "</table>\n",
       "<p>2020722 rows × 2 columns</p>\n",
       "</div>"
      ],
      "text/plain": [
       "           Name  Count\n",
       "0          Liam  19659\n",
       "1          Noah  18252\n",
       "2        Oliver  14147\n",
       "...         ...    ...\n",
       "2020719  Verona      5\n",
       "2020720  Vertie      5\n",
       "2020721   Wilma      5\n",
       "\n",
       "[2020722 rows x 2 columns]"
      ]
     },
     "metadata": {},
     "execution_count": 23
    }
   ],
   "metadata": {}
  },
  {
   "cell_type": "markdown",
   "source": [
    "To slice out a specific number of rows, use the `LIMIT` keyword:"
   ],
   "metadata": {}
  },
  {
   "cell_type": "code",
   "execution_count": 24,
   "source": [
    "query = ''' \n",
    "SELECT Name\n",
    "FROM baby\n",
    "LIMIT 10;\n",
    "''' \n",
    "\n",
    "pd.read_sql(query, db)"
   ],
   "outputs": [
    {
     "output_type": "execute_result",
     "data": {
      "text/html": [
       "<div>\n",
       "<style scoped>\n",
       "    .dataframe tbody tr th:only-of-type {\n",
       "        vertical-align: middle;\n",
       "    }\n",
       "\n",
       "    .dataframe tbody tr th {\n",
       "        vertical-align: top;\n",
       "    }\n",
       "\n",
       "    .dataframe thead th {\n",
       "        text-align: right;\n",
       "    }\n",
       "</style>\n",
       "<table border=\"1\" class=\"dataframe\">\n",
       "  <thead>\n",
       "    <tr style=\"text-align: right;\">\n",
       "      <th></th>\n",
       "      <th>Name</th>\n",
       "    </tr>\n",
       "  </thead>\n",
       "  <tbody>\n",
       "    <tr>\n",
       "      <th>0</th>\n",
       "      <td>Liam</td>\n",
       "    </tr>\n",
       "    <tr>\n",
       "      <th>1</th>\n",
       "      <td>Noah</td>\n",
       "    </tr>\n",
       "    <tr>\n",
       "      <th>2</th>\n",
       "      <td>Oliver</td>\n",
       "    </tr>\n",
       "    <tr>\n",
       "      <th>...</th>\n",
       "      <td>...</td>\n",
       "    </tr>\n",
       "    <tr>\n",
       "      <th>7</th>\n",
       "      <td>Lucas</td>\n",
       "    </tr>\n",
       "    <tr>\n",
       "      <th>8</th>\n",
       "      <td>Henry</td>\n",
       "    </tr>\n",
       "    <tr>\n",
       "      <th>9</th>\n",
       "      <td>Alexander</td>\n",
       "    </tr>\n",
       "  </tbody>\n",
       "</table>\n",
       "<p>10 rows × 1 columns</p>\n",
       "</div>"
      ],
      "text/plain": [
       "         Name\n",
       "0        Liam\n",
       "1        Noah\n",
       "2      Oliver\n",
       "..        ...\n",
       "7       Lucas\n",
       "8       Henry\n",
       "9   Alexander\n",
       "\n",
       "[10 rows x 1 columns]"
      ]
     },
     "metadata": {},
     "execution_count": 24
    }
   ],
   "metadata": {}
  },
  {
   "cell_type": "markdown",
   "source": [
    "## Filtering Rows"
   ],
   "metadata": {}
  },
  {
   "cell_type": "markdown",
   "source": [
    "So far, we've shown how to use `SELECT` and `LIMIT` to slice columns and rows\n",
    "of a relation. \n",
    "\n",
    "However, data scientists often want to *filter* rows---they want to take\n",
    "subsets of rows using some criteria. Let's say you want to find the most\n",
    "popular baby names in 2020. To do this, you can filter rows to keep only the\n",
    "rows where the `Year` is 2020.\n",
    "\n",
    "To filter a relation, use the `WHERE` keyword with a predicate:"
   ],
   "metadata": {}
  },
  {
   "cell_type": "code",
   "execution_count": 25,
   "source": [
    "query = ''' \n",
    "SELECT *\n",
    "FROM baby\n",
    "WHERE Year = 2020;\n",
    "'''\n",
    "\n",
    "pd.read_sql(query, db)"
   ],
   "outputs": [
    {
     "output_type": "execute_result",
     "data": {
      "text/html": [
       "<div>\n",
       "<style scoped>\n",
       "    .dataframe tbody tr th:only-of-type {\n",
       "        vertical-align: middle;\n",
       "    }\n",
       "\n",
       "    .dataframe tbody tr th {\n",
       "        vertical-align: top;\n",
       "    }\n",
       "\n",
       "    .dataframe thead th {\n",
       "        text-align: right;\n",
       "    }\n",
       "</style>\n",
       "<table border=\"1\" class=\"dataframe\">\n",
       "  <thead>\n",
       "    <tr style=\"text-align: right;\">\n",
       "      <th></th>\n",
       "      <th>Name</th>\n",
       "      <th>Sex</th>\n",
       "      <th>Count</th>\n",
       "      <th>Year</th>\n",
       "    </tr>\n",
       "  </thead>\n",
       "  <tbody>\n",
       "    <tr>\n",
       "      <th>0</th>\n",
       "      <td>Liam</td>\n",
       "      <td>M</td>\n",
       "      <td>19659</td>\n",
       "      <td>2020</td>\n",
       "    </tr>\n",
       "    <tr>\n",
       "      <th>1</th>\n",
       "      <td>Noah</td>\n",
       "      <td>M</td>\n",
       "      <td>18252</td>\n",
       "      <td>2020</td>\n",
       "    </tr>\n",
       "    <tr>\n",
       "      <th>2</th>\n",
       "      <td>Oliver</td>\n",
       "      <td>M</td>\n",
       "      <td>14147</td>\n",
       "      <td>2020</td>\n",
       "    </tr>\n",
       "    <tr>\n",
       "      <th>...</th>\n",
       "      <td>...</td>\n",
       "      <td>...</td>\n",
       "      <td>...</td>\n",
       "      <td>...</td>\n",
       "    </tr>\n",
       "    <tr>\n",
       "      <th>31267</th>\n",
       "      <td>Zylynn</td>\n",
       "      <td>F</td>\n",
       "      <td>5</td>\n",
       "      <td>2020</td>\n",
       "    </tr>\n",
       "    <tr>\n",
       "      <th>31268</th>\n",
       "      <td>Zynique</td>\n",
       "      <td>F</td>\n",
       "      <td>5</td>\n",
       "      <td>2020</td>\n",
       "    </tr>\n",
       "    <tr>\n",
       "      <th>31269</th>\n",
       "      <td>Zynlee</td>\n",
       "      <td>F</td>\n",
       "      <td>5</td>\n",
       "      <td>2020</td>\n",
       "    </tr>\n",
       "  </tbody>\n",
       "</table>\n",
       "<p>31270 rows × 4 columns</p>\n",
       "</div>"
      ],
      "text/plain": [
       "          Name Sex  Count  Year\n",
       "0         Liam   M  19659  2020\n",
       "1         Noah   M  18252  2020\n",
       "2       Oliver   M  14147  2020\n",
       "...        ...  ..    ...   ...\n",
       "31267   Zylynn   F      5  2020\n",
       "31268  Zynique   F      5  2020\n",
       "31269   Zynlee   F      5  2020\n",
       "\n",
       "[31270 rows x 4 columns]"
      ]
     },
     "metadata": {},
     "execution_count": 25
    }
   ],
   "metadata": {}
  },
  {
   "cell_type": "markdown",
   "source": [
    ":::{warning}\n",
    "\n",
    "Note that when comparing for equality, SQL uses a single equals sign:\n",
    "\n",
    "```sql\n",
    "SELECT *\n",
    "FROM baby\n",
    "WHERE Year = 2020;\n",
    "--         ↑\n",
    "--         Single equals sign\n",
    "```\n",
    "\n",
    "In Python, however, single equals signs are used for variable assignment. The\n",
    "statement `Year = 2020` will assign the value `2020` to the variable `Year`. To\n",
    "compare for equality, Python code uses double equals signs:\n",
    "\n",
    "```python\n",
    "# Assignment\n",
    "my_year = 2021\n",
    "\n",
    "# Comparison, which evaluates to False\n",
    "my_year == 2020\n",
    "```\n",
    "\n",
    ":::"
   ],
   "metadata": {}
  },
  {
   "cell_type": "markdown",
   "source": [
    "To add more predicates to the filter, use the `AND` and `OR` keywords. For\n",
    "instance, to find the names that have more than 10000 babies in either 2020 or\n",
    "2019, we write:"
   ],
   "metadata": {}
  },
  {
   "cell_type": "code",
   "execution_count": 26,
   "source": [
    "query = ''' \n",
    "SELECT *\n",
    "FROM baby\n",
    "WHERE Count > 10000\n",
    "  AND (Year = 2020\n",
    "       OR Year = 2019);\n",
    "'''\n",
    "\n",
    "pd.read_sql(query, db)"
   ],
   "outputs": [
    {
     "output_type": "execute_result",
     "data": {
      "text/html": [
       "<div>\n",
       "<style scoped>\n",
       "    .dataframe tbody tr th:only-of-type {\n",
       "        vertical-align: middle;\n",
       "    }\n",
       "\n",
       "    .dataframe tbody tr th {\n",
       "        vertical-align: top;\n",
       "    }\n",
       "\n",
       "    .dataframe thead th {\n",
       "        text-align: right;\n",
       "    }\n",
       "</style>\n",
       "<table border=\"1\" class=\"dataframe\">\n",
       "  <thead>\n",
       "    <tr style=\"text-align: right;\">\n",
       "      <th></th>\n",
       "      <th>Name</th>\n",
       "      <th>Sex</th>\n",
       "      <th>Count</th>\n",
       "      <th>Year</th>\n",
       "    </tr>\n",
       "  </thead>\n",
       "  <tbody>\n",
       "    <tr>\n",
       "      <th>0</th>\n",
       "      <td>Liam</td>\n",
       "      <td>M</td>\n",
       "      <td>19659</td>\n",
       "      <td>2020</td>\n",
       "    </tr>\n",
       "    <tr>\n",
       "      <th>1</th>\n",
       "      <td>Noah</td>\n",
       "      <td>M</td>\n",
       "      <td>18252</td>\n",
       "      <td>2020</td>\n",
       "    </tr>\n",
       "    <tr>\n",
       "      <th>2</th>\n",
       "      <td>Oliver</td>\n",
       "      <td>M</td>\n",
       "      <td>14147</td>\n",
       "      <td>2020</td>\n",
       "    </tr>\n",
       "    <tr>\n",
       "      <th>...</th>\n",
       "      <td>...</td>\n",
       "      <td>...</td>\n",
       "      <td>...</td>\n",
       "      <td>...</td>\n",
       "    </tr>\n",
       "    <tr>\n",
       "      <th>41</th>\n",
       "      <td>Mia</td>\n",
       "      <td>F</td>\n",
       "      <td>12452</td>\n",
       "      <td>2019</td>\n",
       "    </tr>\n",
       "    <tr>\n",
       "      <th>42</th>\n",
       "      <td>Harper</td>\n",
       "      <td>F</td>\n",
       "      <td>10464</td>\n",
       "      <td>2019</td>\n",
       "    </tr>\n",
       "    <tr>\n",
       "      <th>43</th>\n",
       "      <td>Evelyn</td>\n",
       "      <td>F</td>\n",
       "      <td>10412</td>\n",
       "      <td>2019</td>\n",
       "    </tr>\n",
       "  </tbody>\n",
       "</table>\n",
       "<p>44 rows × 4 columns</p>\n",
       "</div>"
      ],
      "text/plain": [
       "      Name Sex  Count  Year\n",
       "0     Liam   M  19659  2020\n",
       "1     Noah   M  18252  2020\n",
       "2   Oliver   M  14147  2020\n",
       "..     ...  ..    ...   ...\n",
       "41     Mia   F  12452  2019\n",
       "42  Harper   F  10464  2019\n",
       "43  Evelyn   F  10412  2019\n",
       "\n",
       "[44 rows x 4 columns]"
      ]
     },
     "metadata": {},
     "execution_count": 26
    }
   ],
   "metadata": {}
  },
  {
   "cell_type": "markdown",
   "source": [
    "Finally, to find the ten most common names in 2020, we can sort the dataframe\n",
    "by `Count` in descending order using the `ORDER BY` keyword with the `DESC`\n",
    "option (short for DESCending)."
   ],
   "metadata": {}
  },
  {
   "cell_type": "code",
   "execution_count": 27,
   "source": [
    "query = ''' \n",
    "SELECT *\n",
    "FROM baby\n",
    "WHERE Year = 2020\n",
    "ORDER BY Count DESC\n",
    "LIMIT 10;\n",
    "'''\n",
    "\n",
    "pd.read_sql(query, db)"
   ],
   "outputs": [
    {
     "output_type": "execute_result",
     "data": {
      "text/html": [
       "<div>\n",
       "<style scoped>\n",
       "    .dataframe tbody tr th:only-of-type {\n",
       "        vertical-align: middle;\n",
       "    }\n",
       "\n",
       "    .dataframe tbody tr th {\n",
       "        vertical-align: top;\n",
       "    }\n",
       "\n",
       "    .dataframe thead th {\n",
       "        text-align: right;\n",
       "    }\n",
       "</style>\n",
       "<table border=\"1\" class=\"dataframe\">\n",
       "  <thead>\n",
       "    <tr style=\"text-align: right;\">\n",
       "      <th></th>\n",
       "      <th>Name</th>\n",
       "      <th>Sex</th>\n",
       "      <th>Count</th>\n",
       "      <th>Year</th>\n",
       "    </tr>\n",
       "  </thead>\n",
       "  <tbody>\n",
       "    <tr>\n",
       "      <th>0</th>\n",
       "      <td>Liam</td>\n",
       "      <td>M</td>\n",
       "      <td>19659</td>\n",
       "      <td>2020</td>\n",
       "    </tr>\n",
       "    <tr>\n",
       "      <th>1</th>\n",
       "      <td>Noah</td>\n",
       "      <td>M</td>\n",
       "      <td>18252</td>\n",
       "      <td>2020</td>\n",
       "    </tr>\n",
       "    <tr>\n",
       "      <th>2</th>\n",
       "      <td>Emma</td>\n",
       "      <td>F</td>\n",
       "      <td>15581</td>\n",
       "      <td>2020</td>\n",
       "    </tr>\n",
       "    <tr>\n",
       "      <th>...</th>\n",
       "      <td>...</td>\n",
       "      <td>...</td>\n",
       "      <td>...</td>\n",
       "      <td>...</td>\n",
       "    </tr>\n",
       "    <tr>\n",
       "      <th>7</th>\n",
       "      <td>Sophia</td>\n",
       "      <td>F</td>\n",
       "      <td>12976</td>\n",
       "      <td>2020</td>\n",
       "    </tr>\n",
       "    <tr>\n",
       "      <th>8</th>\n",
       "      <td>Amelia</td>\n",
       "      <td>F</td>\n",
       "      <td>12704</td>\n",
       "      <td>2020</td>\n",
       "    </tr>\n",
       "    <tr>\n",
       "      <th>9</th>\n",
       "      <td>William</td>\n",
       "      <td>M</td>\n",
       "      <td>12541</td>\n",
       "      <td>2020</td>\n",
       "    </tr>\n",
       "  </tbody>\n",
       "</table>\n",
       "<p>10 rows × 4 columns</p>\n",
       "</div>"
      ],
      "text/plain": [
       "       Name Sex  Count  Year\n",
       "0      Liam   M  19659  2020\n",
       "1      Noah   M  18252  2020\n",
       "2      Emma   F  15581  2020\n",
       "..      ...  ..    ...   ...\n",
       "7    Sophia   F  12976  2020\n",
       "8    Amelia   F  12704  2020\n",
       "9   William   M  12541  2020\n",
       "\n",
       "[10 rows x 4 columns]"
      ]
     },
     "metadata": {},
     "execution_count": 27
    }
   ],
   "metadata": {}
  },
  {
   "cell_type": "markdown",
   "source": [
    "## Example: How recently has Luna become a popular name?\n",
    "\n",
    "The New York Times article mentions that the name \"Luna\" was almost nonexistent\n",
    "before 2000 but has since grown to become a very popular name for girls. We can\n",
    "check this using slicing and filtering. When approaching a data manipulation\n",
    "task, we recommend you start by breaking the problem down into steps. For\n",
    "example, you could think:\n",
    "\n",
    "1. Filter: keep only rows with `'Luna'` in the `Name` column, and `'F'` in the\n",
    "   `Sex` column.\n",
    "1. Slice: keep the `Count` and `Year` columns.\n",
    "\n",
    "Now, it's a matter of translating each step into code."
   ],
   "metadata": {}
  },
  {
   "cell_type": "code",
   "execution_count": 28,
   "source": [
    "query = ''' \n",
    "SELECT *\n",
    "FROM baby\n",
    "WHERE Name = \"Luna\"\n",
    "  AND Sex = \"F\";\n",
    "'''\n",
    "\n",
    "luna = pd.read_sql(query, db)\n",
    "luna"
   ],
   "outputs": [
    {
     "output_type": "execute_result",
     "data": {
      "text/html": [
       "<div>\n",
       "<style scoped>\n",
       "    .dataframe tbody tr th:only-of-type {\n",
       "        vertical-align: middle;\n",
       "    }\n",
       "\n",
       "    .dataframe tbody tr th {\n",
       "        vertical-align: top;\n",
       "    }\n",
       "\n",
       "    .dataframe thead th {\n",
       "        text-align: right;\n",
       "    }\n",
       "</style>\n",
       "<table border=\"1\" class=\"dataframe\">\n",
       "  <thead>\n",
       "    <tr style=\"text-align: right;\">\n",
       "      <th></th>\n",
       "      <th>Name</th>\n",
       "      <th>Sex</th>\n",
       "      <th>Count</th>\n",
       "      <th>Year</th>\n",
       "    </tr>\n",
       "  </thead>\n",
       "  <tbody>\n",
       "    <tr>\n",
       "      <th>0</th>\n",
       "      <td>Luna</td>\n",
       "      <td>F</td>\n",
       "      <td>7770</td>\n",
       "      <td>2020</td>\n",
       "    </tr>\n",
       "    <tr>\n",
       "      <th>1</th>\n",
       "      <td>Luna</td>\n",
       "      <td>F</td>\n",
       "      <td>7772</td>\n",
       "      <td>2019</td>\n",
       "    </tr>\n",
       "    <tr>\n",
       "      <th>2</th>\n",
       "      <td>Luna</td>\n",
       "      <td>F</td>\n",
       "      <td>6929</td>\n",
       "      <td>2018</td>\n",
       "    </tr>\n",
       "    <tr>\n",
       "      <th>...</th>\n",
       "      <td>...</td>\n",
       "      <td>...</td>\n",
       "      <td>...</td>\n",
       "      <td>...</td>\n",
       "    </tr>\n",
       "    <tr>\n",
       "      <th>125</th>\n",
       "      <td>Luna</td>\n",
       "      <td>F</td>\n",
       "      <td>17</td>\n",
       "      <td>1883</td>\n",
       "    </tr>\n",
       "    <tr>\n",
       "      <th>126</th>\n",
       "      <td>Luna</td>\n",
       "      <td>F</td>\n",
       "      <td>18</td>\n",
       "      <td>1881</td>\n",
       "    </tr>\n",
       "    <tr>\n",
       "      <th>127</th>\n",
       "      <td>Luna</td>\n",
       "      <td>F</td>\n",
       "      <td>15</td>\n",
       "      <td>1880</td>\n",
       "    </tr>\n",
       "  </tbody>\n",
       "</table>\n",
       "<p>128 rows × 4 columns</p>\n",
       "</div>"
      ],
      "text/plain": [
       "     Name Sex  Count  Year\n",
       "0    Luna   F   7770  2020\n",
       "1    Luna   F   7772  2019\n",
       "2    Luna   F   6929  2018\n",
       "..    ...  ..    ...   ...\n",
       "125  Luna   F     17  1883\n",
       "126  Luna   F     18  1881\n",
       "127  Luna   F     15  1880\n",
       "\n",
       "[128 rows x 4 columns]"
      ]
     },
     "metadata": {},
     "execution_count": 28
    }
   ],
   "metadata": {}
  },
  {
   "cell_type": "markdown",
   "source": [
    "`pd.read_sql` returns a `pandas.DataFrame` object, which we can use to make\n",
    "a plot.  This illustrates a common workflow: process the data using SQL, load\n",
    "it into a `pandas` dataframe, then visualize the results."
   ],
   "metadata": {}
  },
  {
   "cell_type": "code",
   "execution_count": 29,
   "source": [
    "luna.plot('Year', 'Count');"
   ],
   "outputs": [
    {
     "output_type": "display_data",
     "data": {
      "image/png": "[encoded data removed]",
      "text/plain": [
       "<Figure size 432x288 with 1 Axes>"
      ]
     },
     "metadata": {}
    }
   ],
   "metadata": {}
  },
  {
   "cell_type": "markdown",
   "source": [
    "It's just as the article says. Luna wasn't popular at all until the year 2000\n",
    "or so. Think about that---if someone tells you that their name is Luna, you can\n",
    "take a pretty good guess at their age even without any other information about\n",
    "them!\n",
    "\n",
    "Just for fun, here's the same plot for the name Siri."
   ],
   "metadata": {}
  },
  {
   "cell_type": "code",
   "execution_count": 30,
   "source": [
    "query = ''' \n",
    "SELECT *\n",
    "FROM baby\n",
    "WHERE Name = \"Siri\"\n",
    "  AND Sex = \"F\";\n",
    "'''\n",
    "\n",
    "siri = pd.read_sql(query, db)\n",
    "siri.plot('Year', 'Count');"
   ],
   "outputs": [
    {
     "output_type": "display_data",
     "data": {
      "image/png": "[encoded data removed]",
      "text/plain": [
       "<Figure size 432x288 with 1 Axes>"
      ]
     },
     "metadata": {}
    }
   ],
   "metadata": {}
  },
  {
   "cell_type": "markdown",
   "source": [
    "Why might the popularity have dropped so suddenly? Well, Siri happens to be the\n",
    "name of the voice assistant for Apple products and was introduced in 2011.\n",
    "Let's draw a line for the year 2011 and take a look..."
   ],
   "metadata": {}
  },
  {
   "cell_type": "code",
   "execution_count": 31,
   "source": [
    "siri.plot('Year', 'Count')\n",
    "plt.axvline(2011, c='red');"
   ],
   "outputs": [
    {
     "output_type": "display_data",
     "data": {
      "image/png": "[encoded data removed]",
      "text/plain": [
       "<Figure size 432x288 with 1 Axes>"
      ]
     },
     "metadata": {}
    }
   ],
   "metadata": {}
  }
 ],
 "metadata": {
  "interpreter": {
   "hash": "301397dfac98ba5645188aec337edeb5e3836fad86b22b9be8631e97bb683640"
  },
  "kernelspec": {
   "display_name": "Python 3",
   "language": "python",
   "name": "python3"
  },
  "toc": {
   "nav_menu": {},
   "number_sections": false,
   "sideBar": true,
   "skip_h1_title": false,
   "title_cell": "Table of Contents",
   "title_sidebar": "Contents",
   "toc_cell": true,
   "toc_position": {},
   "toc_section_display": true,
   "toc_window_display": false
  }
 },
 "nbformat": 4,
 "nbformat_minor": 4
}