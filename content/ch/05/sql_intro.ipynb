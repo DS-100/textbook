{
 "cells": [
  {
   "cell_type": "code",
   "execution_count": 28,
   "source": [
    "# Reference: https://jupyterbook.org/interactive/hiding.html\n",
    "# Use {hide, remove}-{input, output, cell} tags to hiding content\n",
    "\n",
    "import numpy as np\n",
    "import matplotlib.pyplot as plt\n",
    "import pandas as pd\n",
    "import seaborn as sns\n",
    "%matplotlib inline\n",
    "import ipywidgets as widgets\n",
    "from ipywidgets import interact, interactive, fixed, interact_manual\n",
    "from IPython.display import display\n",
    "\n",
    "sns.set()\n",
    "sns.set_context('talk')\n",
    "np.set_printoptions(threshold=20, precision=2, suppress=True)\n",
    "pd.set_option('display.max_rows', 7)\n",
    "pd.set_option('display.max_columns', 8)\n",
    "pd.set_option('precision', 2)\n",
    "# This option stops scientific notation for pandas\n",
    "# pd.set_option('display.float_format', '{:.2f}'.format)\n",
    "\n",
    "def display_df(df, rows=pd.options.display.max_rows,\n",
    "               cols=pd.options.display.max_columns):\n",
    "    with pd.option_context('display.max_rows', rows,\n",
    "                           'display.max_columns', cols):\n",
    "        display(df)"
   ],
   "outputs": [],
   "metadata": {
    "tags": [
     "remove-cell"
    ]
   }
  },
  {
   "cell_type": "markdown",
   "source": [
    "(ch:sql)=\n",
    "# Working with Relations using SQL"
   ],
   "metadata": {}
  },
  {
   "cell_type": "markdown",
   "source": [
    "In Data 8, you worked with data stored in CSV files. However, CSV files are\n",
    "inconvenient in many real-world scenarios. Data scientists commonly work on a\n",
    "team to analyze a shared dataset. For instance, an astrophysics group might\n",
    "receive new telescope data on an hourly basis. Instead of downloading a new\n",
    "CSV file every hour, data scientists prefer to use shared data storage that\n",
    "always reflects the most up-to-date data. \n",
    "\n",
    "**Database systems** are software systems specifically designed for\n",
    "large-scale data storage and retrieval. Industry, academic research, and\n",
    "governments all rely on database systems. One common and useful type of\n",
    "database system is an relational database management system (RDBMS). These\n",
    "systems allow data scientists to use a query language called SQL to quickly\n",
    "retrieve and process large amounts of data at once. In this chapter, we\n",
    "introduce the relational database model and SQL."
   ],
   "metadata": {}
  }
 ],
 "metadata": {
  "kernelspec": {
   "display_name": "Python 3",
   "language": "python",
   "name": "python3"
  }
 },
 "nbformat": 4,
 "nbformat_minor": 2
}