{
 "cells": [
  {
   "cell_type": "code",
   "execution_count": 53,
   "source": [
    "# Reference: https://jupyterbook.org/interactive/hiding.html\n",
    "# Use {hide, remove}-{input, output, cell} tags to hiding content\n",
    "\n",
    "import numpy as np\n",
    "import matplotlib.pyplot as plt\n",
    "import pandas as pd\n",
    "import seaborn as sns\n",
    "%matplotlib inline\n",
    "import ipywidgets as widgets\n",
    "from ipywidgets import interact, interactive, fixed, interact_manual\n",
    "from IPython.display import display\n",
    "\n",
    "sns.set()\n",
    "sns.set_context('talk')\n",
    "np.set_printoptions(threshold=20, precision=2, suppress=True)\n",
    "pd.set_option('display.max_rows', 7)\n",
    "pd.set_option('display.max_columns', 8)\n",
    "pd.set_option('precision', 2)\n",
    "# This option stops scientific notation for pandas\n",
    "# pd.set_option('display.float_format', '{:.2f}'.format)\n",
    "\n",
    "def display_df(df, rows=pd.options.display.max_rows,\n",
    "               cols=pd.options.display.max_columns):\n",
    "    with pd.option_context('display.max_rows', rows,\n",
    "                           'display.max_columns', cols):\n",
    "        display(df)"
   ],
   "outputs": [],
   "metadata": {
    "tags": [
     "remove-cell"
    ]
   }
  },
  {
   "cell_type": "code",
   "execution_count": 60,
   "source": [
    "dogs = pd.read_csv('dogs.csv')"
   ],
   "outputs": [],
   "metadata": {
    "tags": [
     "remove-cell"
    ]
   }
  },
  {
   "cell_type": "markdown",
   "source": [
    "(ch:sql)=\n",
    "# Working With Relations Using SQL"
   ],
   "metadata": {}
  },
  {
   "cell_type": "markdown",
   "source": [
    ":::{note}\n",
    "\n",
    "This chapter repeats the data analyses in the {ref}`ch:pandas` chapter using\n",
    "relations and SQL instead of dataframes and Python. The datasets, data\n",
    "manipulations, and conclusions are nearly identical across the two chapters so\n",
    "that it's easier for the reader to see how the same data manipulations are\n",
    "performed in both `pandas` and SQL.\n",
    "\n",
    "If you've already read the dataframe chapter, you can focus your attention on\n",
    "this section where we introduce the relation, and the specific SQL code\n",
    "examples in the sections that follow. \n",
    "\n",
    ":::"
   ],
   "metadata": {}
  },
  {
   "cell_type": "markdown",
   "source": [
    "Data scientists work with data stored in tables. This chapter introduces\n",
    "*relations*, one of the most widely used ways to represent data tables. We'll\n",
    "also introduce SQL, the standard programming language for working with\n",
    "relations. Here's an example of a relation that holds information about\n",
    "popular dog breeds:"
   ],
   "metadata": {}
  },
  {
   "cell_type": "code",
   "execution_count": 61,
   "source": [
    "# Jupyter doesn't have a built-in way to display relations, so we jiggle the\n",
    "# dataframe output a bit to make it look like a relation\n",
    "from IPython.display import display, HTML\n",
    "display(HTML(dogs.to_html(index=False)))"
   ],
   "outputs": [
    {
     "output_type": "display_data",
     "data": {
      "text/html": [
       "<table border=\"1\" class=\"dataframe\">\n",
       "  <thead>\n",
       "    <tr style=\"text-align: right;\">\n",
       "      <th>breed</th>\n",
       "      <th>grooming</th>\n",
       "      <th>food_cost</th>\n",
       "      <th>kids</th>\n",
       "      <th>size</th>\n",
       "    </tr>\n",
       "  </thead>\n",
       "  <tbody>\n",
       "    <tr>\n",
       "      <td>Labrador Retriever</td>\n",
       "      <td>weekly</td>\n",
       "      <td>466.0</td>\n",
       "      <td>high</td>\n",
       "      <td>medium</td>\n",
       "    </tr>\n",
       "    <tr>\n",
       "      <td>German Shepherd</td>\n",
       "      <td>weekly</td>\n",
       "      <td>466.0</td>\n",
       "      <td>medium</td>\n",
       "      <td>large</td>\n",
       "    </tr>\n",
       "    <tr>\n",
       "      <td>Beagle</td>\n",
       "      <td>daily</td>\n",
       "      <td>324.0</td>\n",
       "      <td>high</td>\n",
       "      <td>small</td>\n",
       "    </tr>\n",
       "    <tr>\n",
       "      <td>Golden Retriever</td>\n",
       "      <td>weekly</td>\n",
       "      <td>466.0</td>\n",
       "      <td>high</td>\n",
       "      <td>medium</td>\n",
       "    </tr>\n",
       "    <tr>\n",
       "      <td>Yorkshire Terrier</td>\n",
       "      <td>daily</td>\n",
       "      <td>324.0</td>\n",
       "      <td>low</td>\n",
       "      <td>small</td>\n",
       "    </tr>\n",
       "    <tr>\n",
       "      <td>Bulldog</td>\n",
       "      <td>weekly</td>\n",
       "      <td>466.0</td>\n",
       "      <td>medium</td>\n",
       "      <td>medium</td>\n",
       "    </tr>\n",
       "    <tr>\n",
       "      <td>Boxer</td>\n",
       "      <td>weekly</td>\n",
       "      <td>466.0</td>\n",
       "      <td>high</td>\n",
       "      <td>medium</td>\n",
       "    </tr>\n",
       "  </tbody>\n",
       "</table>"
      ],
      "text/plain": [
       "<IPython.core.display.HTML object>"
      ]
     },
     "metadata": {}
    }
   ],
   "metadata": {
    "tags": [
     "remove-input"
    ]
   }
  },
  {
   "cell_type": "markdown",
   "source": [
    "In a relation, each row represents a single record---in this case, a single\n",
    "dog breed. Each column represents a feature about the record---for example, the\n",
    "`grooming` column represents how often each dog breed needs to be groomed.\n",
    "\n",
    "Relations have labels for columns. For instance, this relation has a column\n",
    "labeled `grooming`. Within a column, data have the same type. For instance, the\n",
    "`food_cost` column contains numbers, and the `size` column contains categories.\n",
    "But data types can be different within a row.\n",
    "\n",
    "Because of these properties, relations enable all sorts of useful operations."
   ],
   "metadata": {}
  },
  {
   "cell_type": "markdown",
   "source": [
    ":::{note}\n",
    "\n",
    "As a data scientist, you'll often find yourself working with people from\n",
    "different backgrounds who use different terms. For instance, computer\n",
    "scientists say that the columns of a relation represent *features* of the\n",
    "data, while statisticians call them *variables* instead.\n",
    "\n",
    "Other times, people will use the same term to refer to slightly different\n",
    "things. *Data types* in a programming sense refers to how a computer stores\n",
    "data internally. For instance, the `size` column has a string data type in\n",
    "Python. But from a statistical point of view, the `size` column stores ordered\n",
    "categorical data (ordinal data). We talk more about this specific distinction \n",
    "in the {ref}`ch:eda` chapter.\n",
    "\n",
    ":::"
   ],
   "metadata": {}
  },
  {
   "cell_type": "markdown",
   "source": [
    "In this chapter, we'll show you how to do common relation operations using SQL.\n",
    "First, we'll explain the structure of SQL queries. Then, we'll show how to use\n",
    "SQL to perform common data manipulation tasks, like slicing, filtering,\n",
    "sorting, grouping, and joining."
   ],
   "metadata": {}
  }
 ],
 "metadata": {
  "kernelspec": {
   "display_name": "Python 3",
   "language": "python",
   "name": "python3"
  },
  "language_info": {
   "name": "python",
   "version": "3.9.4",
   "mimetype": "text/x-python",
   "codemirror_mode": {
    "name": "ipython",
    "version": 3
   },
   "pygments_lexer": "ipython3",
   "nbconvert_exporter": "python",
   "file_extension": ".py"
  }
 },
 "nbformat": 4,
 "nbformat_minor": 2
}