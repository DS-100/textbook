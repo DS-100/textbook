{
 "cells": [
  {
   "cell_type": "markdown",
   "metadata": {},
   "source": [
    "# Relational Databases and SQL\n",
    "\n",
    "Thus far we have worked with datasets that are stored as text files on a\n",
    "computer. While useful for analysis of small datasets, using text files to\n",
    "store data presents challenges for many real-world use cases.\n",
    "\n",
    "Many datasets are collected by multiple people—a team of data scientists, for\n",
    "example. If the data are stored in text files, however, the team will likely\n",
    "have to send and download new versions of the files each time the data are\n",
    "updated. Text files alone do not provide a consistent point of data retrieval\n",
    "for multiple analysts to use. This issue, among others, makes text files\n",
    "difficult to use for larger datasets or teams.\n",
    "\n",
    "We often turn to relational database management systems (RDBMSs) to store data,\n",
    "such as MySQL or PostgreSQL. To work with these systems, we use a query\n",
    "language called SQL instead of Python. In this chapter, we discuss the\n",
    "relational database model and introduce SQL.\n"
   ]
  }
 ],
 "metadata": {},
 "nbformat": 4,
 "nbformat_minor": 2
}
