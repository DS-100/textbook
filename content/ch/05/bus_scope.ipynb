{
 "cells": [
  {
   "cell_type": "code",
   "execution_count": 1,
   "metadata": {
    "tags": [
     "remove-cell"
    ]
   },
   "outputs": [],
   "source": [
    "import sys\n",
    "import os\n",
    "if not any(path.endswith('textbook') for path in sys.path):\n",
    "    sys.path.append(os.path.abspath('../../..'))\n",
    "from textbook_utils import *"
   ]
  },
  {
   "cell_type": "markdown",
   "metadata": {},
   "source": [
    "# Question and Scope"
   ]
  },
  {
   "cell_type": "markdown",
   "metadata": {},
   "source": [
    "Our original question comes from the experience of a regular bus rider: Why is my bus always late? By that we are not looking for reasons for its lateness, like traffic jams, maintenance delays, and so on. Instead, we want to study patterns in a bus' actual arrival times at a stop, compared to its scheduled times. This information will help us better understand what it's like to wait for the bus. \n",
    "\n",
    "Bus lines differ across the world, and in our analysis, we limit the investigation to one bus stop in the city of Seattle.  These data are for Seattle's Rapid Ride lines C, D, and E for the stop located at Third Avenue and Pike Street. The data are from the Washington State Transportation Center, and contain records for all of the actual and scheduled stop times for the three bus lines between March 26 and May 27, 2016. In other words, the \n",
    "\n",
    "If we consider the narrow scope of bus actual and scheduled arrival times at one particular stop in a two-month period, then the population, access frame, and sample are one and the same. Since this is administrative data, we have access to all of the bus stops in this window of time and place.  Yet, our analysis might carry over to other locations in and beyond Seattle and to other times of year, but we focus on this narrow location and time frame to gain insights into one bus rider's experience. If we are lucky, the ideas that we uncover, or the approach that we take can be useful to others. \n",
    "\n",
    "Let's take a look at these data to better understand their structure."
   ]
  }
 ],
 "metadata": {
  "celltoolbar": "Tags",
  "kernelspec": {
   "display_name": "Python 3",
   "language": "python",
   "name": "python3"
  },
  "language_info": {
   "codemirror_mode": {
    "name": "ipython",
    "version": 3
   },
   "file_extension": ".py",
   "mimetype": "text/x-python",
   "name": "python",
   "nbconvert_exporter": "python",
   "pygments_lexer": "ipython3",
   "version": "3.9.4"
  }
 },
 "nbformat": 4,
 "nbformat_minor": 4
}
