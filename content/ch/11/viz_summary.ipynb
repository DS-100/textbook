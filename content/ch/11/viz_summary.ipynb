{
 "cells": [
  {
   "cell_type": "code",
   "execution_count": 1,
   "metadata": {
    "tags": [
     "remove-cell"
    ]
   },
   "outputs": [],
   "source": [
    "import sys\n",
    "import os\n",
    "if not any(path.endswith('textbook') for path in sys.path):\n",
    "    sys.path.append(os.path.abspath('../../..'))\n",
    "from textbook_utils import *          \n",
    "\n",
    "from sklearn.linear_model import LinearRegression\n",
    "from sklearn.metrics import mean_squared_error\n",
    "from sklearn.model_selection import train_test_split"
   ]
  },
  {
   "cell_type": "markdown",
   "metadata": {},
   "source": [
    "(ch:viz_summary)=\n",
    "# Summary\n"
   ]
  },
  {
   "cell_type": "markdown",
   "metadata": {},
   "source": [
    "When we analyze a dataset, we use visualizations to uncover patterns\n",
    "in the data that are difficult to detect otherwise.\n",
    "Data visualization is an iterative process.\n",
    "We create a plot, then decide whether to make adjustments or choose a new\n",
    "type of plot entirely.\n",
    "This chapter covered principles that we use to make these decisions.\n",
    "\n",
    "We started by covering principles of scale, and saw how adjusting the scale\n",
    "by changing or transforming plot axes can reveal hidden structure in the data.\n",
    "We then discussed smoothing and aggregating techniques that help us work with\n",
    "large datasets that would otherwise result in over-plotting.\n",
    "To facilitate meaningful comparisons, we applied principles of perception, like aligning baselines to make lines, bars, and points easier to compare.\n",
    "We showed how to take the data design into account to improve visualizations.\n",
    "And we saw how adding context to a plot helps a reader understand\n",
    "our message.\n",
    "\n",
    "After this chapter, you should be able to create a plot and understand\n",
    "what kinds of adjustments would make the plot more effective.\n",
    "As you learn how to make informative visualizations, be patient and iterate.\n",
    "None of us makes the perfect plot on the first try. And, as we make discoveries in an analysis, we continue to refine our plots. Then, when it comes time to present our findings to others, we sift through our work to get the few plots that best convince our future reader of the correctness and importance of our analysis. This can even lead to the creation of a new plot that best conveys our findings, which we iteratively develop. \n",
    "\n",
    "In the next chapter, we walk through an extended case study that\n",
    "combines everything we've learned in the book so far. We hope that you\n",
    "find yourself surprised by how much you can already do."
   ]
  }
 ],
 "metadata": {
  "kernelspec": {
   "display_name": "Python 3",
   "language": "python",
   "name": "python3"
  },
  "language_info": {
   "codemirror_mode": {
    "name": "ipython",
    "version": 3
   },
   "file_extension": ".py",
   "mimetype": "text/x-python",
   "name": "python",
   "nbconvert_exporter": "python",
   "pygments_lexer": "ipython3",
   "version": "3.9.4"
  }
 },
 "nbformat": 4,
 "nbformat_minor": 4
}
