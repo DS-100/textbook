{
 "cells": [
  {
   "cell_type": "code",
   "execution_count": 1,
   "metadata": {
    "tags": [
     "remove-cell"
    ]
   },
   "outputs": [],
   "source": [
    "import sys\n",
    "import os\n",
    "if not any(path.endswith('textbook') for path in sys.path):\n",
    "    sys.path.append(os.path.abspath('../../..'))\n",
    "from textbook_utils import *          \n",
    "\n",
    "from sklearn.linear_model import LinearRegression\n",
    "from sklearn.metrics import mean_squared_error\n",
    "from sklearn.model_selection import train_test_split"
   ]
  },
  {
   "cell_type": "code",
   "execution_count": 2,
   "metadata": {
    "tags": [
     "remove-cell"
    ]
   },
   "outputs": [],
   "source": [
    "_clear = ['bingroup']\n",
    "\n",
    "def _clear_prop(trace, prop):\n",
    "    if hasattr(trace, prop):\n",
    "        trace.update({prop: None})\n",
    "        \n",
    "def _clear_props(traces):\n",
    "    for trace in traces:\n",
    "        for prop in _clear:\n",
    "            _clear_prop(trace, prop)\n",
    "\n",
    "def left_right(left, right, width=700, height=250, **kwargs):\n",
    "    fig = make_subplots(cols=2, **kwargs)\n",
    "    fig.update_layout(width=width, height=height)\n",
    "    \n",
    "    t1 = list(left.select_traces())\n",
    "    t2 = list(right.select_traces())\n",
    "    _clear_props([*t1, *t2])\n",
    "    fig.add_traces(t1, rows=1, cols=1)\n",
    "    fig.add_traces(t2, rows=1, cols=2)\n",
    "    return fig\n",
    "\n",
    "def margin(fig, **kwargs):\n",
    "    return fig.update_layout(margin=kwargs)"
   ]
  },
  {
   "cell_type": "code",
   "execution_count": 3,
   "metadata": {
    "tags": [
     "remove-cell"
    ]
   },
   "outputs": [
    {
     "name": "stderr",
     "output_type": "stream",
     "text": [
      "b'Skipping line 30550: expected 11 fields, saw 12\\n'\n",
      "b'Skipping line 343819: expected 11 fields, saw 12\\n'\n"
     ]
    }
   ],
   "source": [
    "runners = pd.read_csv('data/cherryBlossomMen.csv')\n",
    "runnersOver17 = runners[runners[\"age\"] > 17]\n",
    "runnersOver17 = runnersOver17[runnersOver17[\"age\"] < 76]\n",
    "\n",
    "dogs = pd.read_csv('data/akc.csv').dropna()\n",
    "sfh_all = pd.read_csv('data/sfhousing.csv', error_bad_lines=False)\n",
    "\n",
    "# DAWN\n",
    "colspecs = [(0,6), (14,29), (33,35), (35, 37), (37, 39), (1213, 1214)]\n",
    "varNames = [\"id\", \"wt\", \"age\", \"sex\", \"race\",\"type\"]\n",
    "dawn = pd.read_fwf('data/DAWN-Data.txt', colspecs=colspecs, header=None, index_col=0,\n",
    "                   names = varNames)"
   ]
  },
  {
   "cell_type": "markdown",
   "metadata": {},
   "source": [
    "(sec:viz_data_design)=\n",
    "# Incorporating the Data Design\n"
   ]
  },
  {
   "cell_type": "markdown",
   "metadata": {},
   "source": [
    "When we create a visualization, it's important to consider the data scope, especially the data design\n",
    "(see {numref}`Chapter %s <ch:data_scope>`).\n",
    "Considering the question of how the data were collected can impact our plot choice and the comparisons we portray.\n",
    "These considerations include the time and place that the data were collected and the design used to select a sample.\n",
    "We look at a few examples of how the data scope can inform the visualizations we make."
   ]
  },
  {
   "cell_type": "markdown",
   "metadata": {},
   "source": [
    "## Data Collected over Time \n",
    "\n",
    "When data are collected over time, we typically make a line plot that puts timestamps on the x-axis and a feature of interest on the y-axis to look for trends in time.\n",
    "As an example, let's revisit the data on San Francisco housing prices. \n",
    "These data were collected from 2003 through 2008 and show the crash in 2008/2009 of the [US housing bubble](https://en.wikipedia.org/wiki/2000s_United_States_housing_bubble).\n",
    "Since time is a key aspect of the scope of these data, let's visualize sale price as a time series. Our earlier explorations showed that sale price\n",
    "is highly skewed so let's work with percentiles, rather than averages. We plot the median price (this is a form of smoothing as we saw earlier in this chapter):"
   ]
  },
  {
   "cell_type": "code",
   "execution_count": 4,
   "metadata": {
    "tags": [
     "remove-cell"
    ]
   },
   "outputs": [],
   "source": [
    "def parse_dates(sfh):\n",
    "    dates = pd.to_datetime(sfh['date'], infer_datetime_format=True)\n",
    "    return sfh.assign(date=dates).set_index('date')\n",
    "\n",
    "percs = [10, 30, 50, 70, 90]\n",
    "\n",
    "def find_percentiles(series):\n",
    "    prices = np.percentile(series, percs, interpolation='lower')\n",
    "    return pd.Series(prices, index=percs)\n",
    "\n",
    "monthly_percentiles = (sfh_all\n",
    " .pipe(parse_dates)\n",
    " .resample('M')\n",
    " ['price']\n",
    " .apply(find_percentiles)\n",
    " .reset_index()\n",
    " .rename(columns={'level_1': 'percentile'})\n",
    ")\n",
    "\n",
    "rel_prices = (monthly_percentiles\n",
    " .groupby('percentile')\n",
    " ['price']\n",
    " .transform(lambda s: s / s.iloc[0])\n",
    ")\n",
    "\n",
    "rel_percentiles = monthly_percentiles.assign(rel_price=rel_prices)"
   ]
  },
  {
   "cell_type": "code",
   "execution_count": 5,
   "metadata": {
    "tags": [
     "hide-input"
    ]
   },
   "outputs": [
    {
     "data": {
      "application/vnd.plotly.v1+json": {
       "config": {
        "plotlyServerURL": "https://plot.ly"
       },
       "data": [
        {
         "hovertemplate": "=%{x}<br>Sale Price (USD)=%{y}<extra></extra>",
         "legendgroup": "",
         "line": {
          "color": "#1F77B4",
          "dash": "solid"
         },
         "marker": {
          "symbol": "circle"
         },
         "mode": "lines",
         "name": "",
         "orientation": "v",
         "showlegend": false,
         "type": "scatter",
         "x": [
          "2003-04-30T00:00:00",
          "2003-05-31T00:00:00",
          "2003-06-30T00:00:00",
          "2003-07-31T00:00:00",
          "2003-08-31T00:00:00",
          "2003-09-30T00:00:00",
          "2003-10-31T00:00:00",
          "2003-11-30T00:00:00",
          "2003-12-31T00:00:00",
          "2004-01-31T00:00:00",
          "2004-02-29T00:00:00",
          "2004-03-31T00:00:00",
          "2004-04-30T00:00:00",
          "2004-05-31T00:00:00",
          "2004-06-30T00:00:00",
          "2004-07-31T00:00:00",
          "2004-08-31T00:00:00",
          "2004-09-30T00:00:00",
          "2004-10-31T00:00:00",
          "2004-11-30T00:00:00",
          "2004-12-31T00:00:00",
          "2005-01-31T00:00:00",
          "2005-02-28T00:00:00",
          "2005-03-31T00:00:00",
          "2005-04-30T00:00:00",
          "2005-05-31T00:00:00",
          "2005-06-30T00:00:00",
          "2005-07-31T00:00:00",
          "2005-08-31T00:00:00",
          "2005-09-30T00:00:00",
          "2005-10-31T00:00:00",
          "2005-11-30T00:00:00",
          "2005-12-31T00:00:00",
          "2006-01-31T00:00:00",
          "2006-02-28T00:00:00",
          "2006-03-31T00:00:00",
          "2006-04-30T00:00:00",
          "2006-05-31T00:00:00",
          "2006-06-30T00:00:00",
          "2006-07-31T00:00:00",
          "2006-08-31T00:00:00",
          "2006-09-30T00:00:00",
          "2006-10-31T00:00:00",
          "2006-11-30T00:00:00",
          "2006-12-31T00:00:00",
          "2007-01-31T00:00:00",
          "2007-02-28T00:00:00",
          "2007-03-31T00:00:00",
          "2007-04-30T00:00:00",
          "2007-05-31T00:00:00",
          "2007-06-30T00:00:00",
          "2007-07-31T00:00:00",
          "2007-08-31T00:00:00",
          "2007-09-30T00:00:00",
          "2007-10-31T00:00:00",
          "2007-11-30T00:00:00",
          "2007-12-31T00:00:00",
          "2008-01-31T00:00:00",
          "2008-02-29T00:00:00",
          "2008-03-31T00:00:00",
          "2008-04-30T00:00:00",
          "2008-05-31T00:00:00",
          "2008-06-30T00:00:00",
          "2008-07-31T00:00:00",
          "2008-08-31T00:00:00",
          "2008-09-30T00:00:00",
          "2008-10-31T00:00:00",
          "2008-11-30T00:00:00"
         ],
         "xaxis": "x",
         "y": [
          421000,
          435000,
          445000,
          450000,
          459000,
          455500,
          459000,
          457500,
          465000,
          469000,
          462000,
          470000,
          485000,
          500000,
          520000,
          525000,
          530000,
          525000,
          520000,
          540000,
          540000,
          548000,
          542000,
          569000,
          579000,
          600000,
          614000,
          622500,
          630500,
          640000,
          625000,
          635500,
          635000,
          625000,
          620000,
          630000,
          635000,
          645000,
          650000,
          647000,
          650000,
          640000,
          630000,
          631000,
          630000,
          631000,
          625000,
          624000,
          655000,
          673000,
          678000,
          680000,
          677500,
          660000,
          631500,
          644500,
          625000,
          583500,
          550000,
          540000,
          503000,
          490000,
          470000,
          455000,
          425000,
          400000,
          370000,
          365000
         ],
         "yaxis": "y"
        }
       ],
       "layout": {
        "height": 250,
        "legend": {
         "tracegroupgap": 0
        },
        "margin": {
         "t": 30
        },
        "template": {
         "data": {
          "bar": [
           {
            "error_x": {
             "color": "rgb(36,36,36)"
            },
            "error_y": {
             "color": "rgb(36,36,36)"
            },
            "marker": {
             "line": {
              "color": "white",
              "width": 0.5
             },
             "pattern": {
              "fillmode": "overlay",
              "size": 10,
              "solidity": 0.2
             }
            },
            "type": "bar"
           }
          ],
          "barpolar": [
           {
            "marker": {
             "line": {
              "color": "white",
              "width": 0.5
             },
             "pattern": {
              "fillmode": "overlay",
              "size": 10,
              "solidity": 0.2
             }
            },
            "type": "barpolar"
           }
          ],
          "carpet": [
           {
            "aaxis": {
             "endlinecolor": "rgb(36,36,36)",
             "gridcolor": "white",
             "linecolor": "white",
             "minorgridcolor": "white",
             "startlinecolor": "rgb(36,36,36)"
            },
            "baxis": {
             "endlinecolor": "rgb(36,36,36)",
             "gridcolor": "white",
             "linecolor": "white",
             "minorgridcolor": "white",
             "startlinecolor": "rgb(36,36,36)"
            },
            "type": "carpet"
           }
          ],
          "choropleth": [
           {
            "colorbar": {
             "outlinewidth": 1,
             "tickcolor": "rgb(36,36,36)",
             "ticks": "outside"
            },
            "type": "choropleth"
           }
          ],
          "contour": [
           {
            "colorbar": {
             "outlinewidth": 1,
             "tickcolor": "rgb(36,36,36)",
             "ticks": "outside"
            },
            "colorscale": [
             [
              0,
              "#440154"
             ],
             [
              0.1111111111111111,
              "#482878"
             ],
             [
              0.2222222222222222,
              "#3e4989"
             ],
             [
              0.3333333333333333,
              "#31688e"
             ],
             [
              0.4444444444444444,
              "#26828e"
             ],
             [
              0.5555555555555556,
              "#1f9e89"
             ],
             [
              0.6666666666666666,
              "#35b779"
             ],
             [
              0.7777777777777778,
              "#6ece58"
             ],
             [
              0.8888888888888888,
              "#b5de2b"
             ],
             [
              1,
              "#fde725"
             ]
            ],
            "type": "contour"
           }
          ],
          "contourcarpet": [
           {
            "colorbar": {
             "outlinewidth": 1,
             "tickcolor": "rgb(36,36,36)",
             "ticks": "outside"
            },
            "type": "contourcarpet"
           }
          ],
          "heatmap": [
           {
            "colorbar": {
             "outlinewidth": 1,
             "tickcolor": "rgb(36,36,36)",
             "ticks": "outside"
            },
            "colorscale": [
             [
              0,
              "#440154"
             ],
             [
              0.1111111111111111,
              "#482878"
             ],
             [
              0.2222222222222222,
              "#3e4989"
             ],
             [
              0.3333333333333333,
              "#31688e"
             ],
             [
              0.4444444444444444,
              "#26828e"
             ],
             [
              0.5555555555555556,
              "#1f9e89"
             ],
             [
              0.6666666666666666,
              "#35b779"
             ],
             [
              0.7777777777777778,
              "#6ece58"
             ],
             [
              0.8888888888888888,
              "#b5de2b"
             ],
             [
              1,
              "#fde725"
             ]
            ],
            "type": "heatmap"
           }
          ],
          "heatmapgl": [
           {
            "colorbar": {
             "outlinewidth": 1,
             "tickcolor": "rgb(36,36,36)",
             "ticks": "outside"
            },
            "colorscale": [
             [
              0,
              "#440154"
             ],
             [
              0.1111111111111111,
              "#482878"
             ],
             [
              0.2222222222222222,
              "#3e4989"
             ],
             [
              0.3333333333333333,
              "#31688e"
             ],
             [
              0.4444444444444444,
              "#26828e"
             ],
             [
              0.5555555555555556,
              "#1f9e89"
             ],
             [
              0.6666666666666666,
              "#35b779"
             ],
             [
              0.7777777777777778,
              "#6ece58"
             ],
             [
              0.8888888888888888,
              "#b5de2b"
             ],
             [
              1,
              "#fde725"
             ]
            ],
            "type": "heatmapgl"
           }
          ],
          "histogram": [
           {
            "marker": {
             "line": {
              "color": "white",
              "width": 0.6
             }
            },
            "type": "histogram"
           }
          ],
          "histogram2d": [
           {
            "colorbar": {
             "outlinewidth": 1,
             "tickcolor": "rgb(36,36,36)",
             "ticks": "outside"
            },
            "colorscale": [
             [
              0,
              "#440154"
             ],
             [
              0.1111111111111111,
              "#482878"
             ],
             [
              0.2222222222222222,
              "#3e4989"
             ],
             [
              0.3333333333333333,
              "#31688e"
             ],
             [
              0.4444444444444444,
              "#26828e"
             ],
             [
              0.5555555555555556,
              "#1f9e89"
             ],
             [
              0.6666666666666666,
              "#35b779"
             ],
             [
              0.7777777777777778,
              "#6ece58"
             ],
             [
              0.8888888888888888,
              "#b5de2b"
             ],
             [
              1,
              "#fde725"
             ]
            ],
            "type": "histogram2d"
           }
          ],
          "histogram2dcontour": [
           {
            "colorbar": {
             "outlinewidth": 1,
             "tickcolor": "rgb(36,36,36)",
             "ticks": "outside"
            },
            "colorscale": [
             [
              0,
              "#440154"
             ],
             [
              0.1111111111111111,
              "#482878"
             ],
             [
              0.2222222222222222,
              "#3e4989"
             ],
             [
              0.3333333333333333,
              "#31688e"
             ],
             [
              0.4444444444444444,
              "#26828e"
             ],
             [
              0.5555555555555556,
              "#1f9e89"
             ],
             [
              0.6666666666666666,
              "#35b779"
             ],
             [
              0.7777777777777778,
              "#6ece58"
             ],
             [
              0.8888888888888888,
              "#b5de2b"
             ],
             [
              1,
              "#fde725"
             ]
            ],
            "type": "histogram2dcontour"
           }
          ],
          "mesh3d": [
           {
            "colorbar": {
             "outlinewidth": 1,
             "tickcolor": "rgb(36,36,36)",
             "ticks": "outside"
            },
            "type": "mesh3d"
           }
          ],
          "parcoords": [
           {
            "line": {
             "colorbar": {
              "outlinewidth": 1,
              "tickcolor": "rgb(36,36,36)",
              "ticks": "outside"
             }
            },
            "type": "parcoords"
           }
          ],
          "pie": [
           {
            "automargin": true,
            "type": "pie"
           }
          ],
          "scatter": [
           {
            "marker": {
             "colorbar": {
              "outlinewidth": 1,
              "tickcolor": "rgb(36,36,36)",
              "ticks": "outside"
             }
            },
            "type": "scatter"
           }
          ],
          "scatter3d": [
           {
            "line": {
             "colorbar": {
              "outlinewidth": 1,
              "tickcolor": "rgb(36,36,36)",
              "ticks": "outside"
             }
            },
            "marker": {
             "colorbar": {
              "outlinewidth": 1,
              "tickcolor": "rgb(36,36,36)",
              "ticks": "outside"
             }
            },
            "type": "scatter3d"
           }
          ],
          "scattercarpet": [
           {
            "marker": {
             "colorbar": {
              "outlinewidth": 1,
              "tickcolor": "rgb(36,36,36)",
              "ticks": "outside"
             }
            },
            "type": "scattercarpet"
           }
          ],
          "scattergeo": [
           {
            "marker": {
             "colorbar": {
              "outlinewidth": 1,
              "tickcolor": "rgb(36,36,36)",
              "ticks": "outside"
             }
            },
            "type": "scattergeo"
           }
          ],
          "scattergl": [
           {
            "marker": {
             "colorbar": {
              "outlinewidth": 1,
              "tickcolor": "rgb(36,36,36)",
              "ticks": "outside"
             }
            },
            "type": "scattergl"
           }
          ],
          "scattermapbox": [
           {
            "marker": {
             "colorbar": {
              "outlinewidth": 1,
              "tickcolor": "rgb(36,36,36)",
              "ticks": "outside"
             }
            },
            "type": "scattermapbox"
           }
          ],
          "scatterpolar": [
           {
            "marker": {
             "colorbar": {
              "outlinewidth": 1,
              "tickcolor": "rgb(36,36,36)",
              "ticks": "outside"
             }
            },
            "type": "scatterpolar"
           }
          ],
          "scatterpolargl": [
           {
            "marker": {
             "colorbar": {
              "outlinewidth": 1,
              "tickcolor": "rgb(36,36,36)",
              "ticks": "outside"
             }
            },
            "type": "scatterpolargl"
           }
          ],
          "scatterternary": [
           {
            "marker": {
             "colorbar": {
              "outlinewidth": 1,
              "tickcolor": "rgb(36,36,36)",
              "ticks": "outside"
             }
            },
            "type": "scatterternary"
           }
          ],
          "surface": [
           {
            "colorbar": {
             "outlinewidth": 1,
             "tickcolor": "rgb(36,36,36)",
             "ticks": "outside"
            },
            "colorscale": [
             [
              0,
              "#440154"
             ],
             [
              0.1111111111111111,
              "#482878"
             ],
             [
              0.2222222222222222,
              "#3e4989"
             ],
             [
              0.3333333333333333,
              "#31688e"
             ],
             [
              0.4444444444444444,
              "#26828e"
             ],
             [
              0.5555555555555556,
              "#1f9e89"
             ],
             [
              0.6666666666666666,
              "#35b779"
             ],
             [
              0.7777777777777778,
              "#6ece58"
             ],
             [
              0.8888888888888888,
              "#b5de2b"
             ],
             [
              1,
              "#fde725"
             ]
            ],
            "type": "surface"
           }
          ],
          "table": [
           {
            "cells": {
             "fill": {
              "color": "rgb(237,237,237)"
             },
             "line": {
              "color": "white"
             }
            },
            "header": {
             "fill": {
              "color": "rgb(217,217,217)"
             },
             "line": {
              "color": "white"
             }
            },
            "type": "table"
           }
          ]
         },
         "layout": {
          "annotationdefaults": {
           "arrowhead": 0,
           "arrowwidth": 1
          },
          "autosize": true,
          "autotypenumbers": "strict",
          "coloraxis": {
           "colorbar": {
            "outlinewidth": 1,
            "tickcolor": "rgb(36,36,36)",
            "ticks": "outside"
           }
          },
          "colorscale": {
           "diverging": [
            [
             0,
             "rgb(103,0,31)"
            ],
            [
             0.1,
             "rgb(178,24,43)"
            ],
            [
             0.2,
             "rgb(214,96,77)"
            ],
            [
             0.3,
             "rgb(244,165,130)"
            ],
            [
             0.4,
             "rgb(253,219,199)"
            ],
            [
             0.5,
             "rgb(247,247,247)"
            ],
            [
             0.6,
             "rgb(209,229,240)"
            ],
            [
             0.7,
             "rgb(146,197,222)"
            ],
            [
             0.8,
             "rgb(67,147,195)"
            ],
            [
             0.9,
             "rgb(33,102,172)"
            ],
            [
             1,
             "rgb(5,48,97)"
            ]
           ],
           "sequential": [
            [
             0,
             "#440154"
            ],
            [
             0.1111111111111111,
             "#482878"
            ],
            [
             0.2222222222222222,
             "#3e4989"
            ],
            [
             0.3333333333333333,
             "#31688e"
            ],
            [
             0.4444444444444444,
             "#26828e"
            ],
            [
             0.5555555555555556,
             "#1f9e89"
            ],
            [
             0.6666666666666666,
             "#35b779"
            ],
            [
             0.7777777777777778,
             "#6ece58"
            ],
            [
             0.8888888888888888,
             "#b5de2b"
            ],
            [
             1,
             "#fde725"
            ]
           ],
           "sequentialminus": [
            [
             0,
             "#440154"
            ],
            [
             0.1111111111111111,
             "#482878"
            ],
            [
             0.2222222222222222,
             "#3e4989"
            ],
            [
             0.3333333333333333,
             "#31688e"
            ],
            [
             0.4444444444444444,
             "#26828e"
            ],
            [
             0.5555555555555556,
             "#1f9e89"
            ],
            [
             0.6666666666666666,
             "#35b779"
            ],
            [
             0.7777777777777778,
             "#6ece58"
            ],
            [
             0.8888888888888888,
             "#b5de2b"
            ],
            [
             1,
             "#fde725"
            ]
           ]
          },
          "colorway": [
           "#1F77B4",
           "#FF7F0E",
           "#2CA02C",
           "#D62728",
           "#9467BD",
           "#8C564B",
           "#E377C2",
           "#7F7F7F",
           "#BCBD22",
           "#17BECF"
          ],
          "font": {
           "color": "rgb(36,36,36)"
          },
          "geo": {
           "bgcolor": "white",
           "lakecolor": "white",
           "landcolor": "white",
           "showlakes": true,
           "showland": true,
           "subunitcolor": "white"
          },
          "height": 250,
          "hoverlabel": {
           "align": "left"
          },
          "hovermode": "closest",
          "mapbox": {
           "style": "light"
          },
          "margin": {
           "b": 10,
           "l": 10,
           "r": 10,
           "t": 10
          },
          "paper_bgcolor": "white",
          "plot_bgcolor": "white",
          "polar": {
           "angularaxis": {
            "gridcolor": "rgb(232,232,232)",
            "linecolor": "rgb(36,36,36)",
            "showgrid": false,
            "showline": true,
            "ticks": "outside"
           },
           "bgcolor": "white",
           "radialaxis": {
            "gridcolor": "rgb(232,232,232)",
            "linecolor": "rgb(36,36,36)",
            "showgrid": false,
            "showline": true,
            "ticks": "outside"
           }
          },
          "scene": {
           "xaxis": {
            "backgroundcolor": "white",
            "gridcolor": "rgb(232,232,232)",
            "gridwidth": 2,
            "linecolor": "rgb(36,36,36)",
            "showbackground": true,
            "showgrid": false,
            "showline": true,
            "ticks": "outside",
            "zeroline": false,
            "zerolinecolor": "rgb(36,36,36)"
           },
           "yaxis": {
            "backgroundcolor": "white",
            "gridcolor": "rgb(232,232,232)",
            "gridwidth": 2,
            "linecolor": "rgb(36,36,36)",
            "showbackground": true,
            "showgrid": false,
            "showline": true,
            "ticks": "outside",
            "zeroline": false,
            "zerolinecolor": "rgb(36,36,36)"
           },
           "zaxis": {
            "backgroundcolor": "white",
            "gridcolor": "rgb(232,232,232)",
            "gridwidth": 2,
            "linecolor": "rgb(36,36,36)",
            "showbackground": true,
            "showgrid": false,
            "showline": true,
            "ticks": "outside",
            "zeroline": false,
            "zerolinecolor": "rgb(36,36,36)"
           }
          },
          "shapedefaults": {
           "fillcolor": "black",
           "line": {
            "width": 0
           },
           "opacity": 0.3
          },
          "ternary": {
           "aaxis": {
            "gridcolor": "rgb(232,232,232)",
            "linecolor": "rgb(36,36,36)",
            "showgrid": false,
            "showline": true,
            "ticks": "outside"
           },
           "baxis": {
            "gridcolor": "rgb(232,232,232)",
            "linecolor": "rgb(36,36,36)",
            "showgrid": false,
            "showline": true,
            "ticks": "outside"
           },
           "bgcolor": "white",
           "caxis": {
            "gridcolor": "rgb(232,232,232)",
            "linecolor": "rgb(36,36,36)",
            "showgrid": false,
            "showline": true,
            "ticks": "outside"
           }
          },
          "title": {
           "x": 0.5,
           "xanchor": "center"
          },
          "width": 350,
          "xaxis": {
           "automargin": true,
           "gridcolor": "rgb(232,232,232)",
           "linecolor": "rgb(36,36,36)",
           "showgrid": true,
           "showline": true,
           "ticks": "outside",
           "title": {
            "standoff": 15
           },
           "zeroline": false,
           "zerolinecolor": "rgb(36,36,36)"
          },
          "yaxis": {
           "automargin": true,
           "gridcolor": "rgb(232,232,232)",
           "linecolor": "rgb(36,36,36)",
           "showgrid": true,
           "showline": true,
           "ticks": "outside",
           "title": {
            "standoff": 15
           },
           "zeroline": false,
           "zerolinecolor": "rgb(36,36,36)"
          }
         }
        },
        "title": {
         "text": "Median Sale Price"
        },
        "width": 500,
        "xaxis": {
         "anchor": "y",
         "autorange": true,
         "domain": [
          0,
          1
         ],
         "range": [
          "2003-04-30",
          "2008-11-30"
         ],
         "title": {
          "text": ""
         },
         "type": "date"
        },
        "yaxis": {
         "anchor": "x",
         "autorange": true,
         "domain": [
          0,
          1
         ],
         "range": [
          347500,
          697500
         ],
         "title": {
          "text": "Sale Price (USD)"
         },
         "type": "linear"
        }
       }
      },
      "image/png": "[encoded data removed]",
      "image/svg+xml": [
       "<svg class=\"main-svg\" xmlns=\"http://www.w3.org/2000/svg\" xmlns:xlink=\"http://www.w3.org/1999/xlink\" width=\"500\" height=\"250\" style=\"\" viewBox=\"0 0 500 250\"><rect x=\"0\" y=\"0\" width=\"500\" height=\"250\" style=\"fill: rgb(255, 255, 255); fill-opacity: 1;\"/><defs id=\"defs-573dbb\"><g class=\"clips\"><clipPath id=\"clip573dbbxyplot\" class=\"plotclip\"><rect width=\"420\" height=\"161\"/></clipPath><clipPath class=\"axesclip\" id=\"clip573dbbx\"><rect x=\"70\" y=\"0\" width=\"420\" height=\"250\"/></clipPath><clipPath class=\"axesclip\" id=\"clip573dbby\"><rect x=\"0\" y=\"30\" width=\"500\" height=\"161\"/></clipPath><clipPath class=\"axesclip\" id=\"clip573dbbxy\"><rect x=\"70\" y=\"30\" width=\"420\" height=\"161\"/></clipPath></g><g class=\"gradients\"/><g class=\"patterns\"/></defs><g class=\"bglayer\"/><g class=\"layer-below\"><g class=\"imagelayer\"/><g class=\"shapelayer\"/></g><g class=\"cartesianlayer\"><g class=\"subplot xy\"><g class=\"layer-subplot\"><g class=\"shapelayer\"/><g class=\"imagelayer\"/></g><g class=\"gridlayer\"><g class=\"x\"><path class=\"xgrid crisp\" transform=\"translate(120.62,0)\" d=\"M0,30v161\" style=\"stroke: rgb(232, 232, 232); stroke-opacity: 1; stroke-width: 1px;\"/><path class=\"xgrid crisp\" transform=\"translate(195.94,0)\" d=\"M0,30v161\" style=\"stroke: rgb(232, 232, 232); stroke-opacity: 1; stroke-width: 1px;\"/><path class=\"xgrid crisp\" transform=\"translate(271.05,0)\" d=\"M0,30v161\" style=\"stroke: rgb(232, 232, 232); stroke-opacity: 1; stroke-width: 1px;\"/><path class=\"xgrid crisp\" transform=\"translate(346.16,0)\" d=\"M0,30v161\" style=\"stroke: rgb(232, 232, 232); stroke-opacity: 1; stroke-width: 1px;\"/><path class=\"xgrid crisp\" transform=\"translate(421.27,0)\" d=\"M0,30v161\" style=\"stroke: rgb(232, 232, 232); stroke-opacity: 1; stroke-width: 1px;\"/></g><g class=\"y\"><path class=\"ygrid crisp\" transform=\"translate(0,166.85)\" d=\"M70,0h420\" style=\"stroke: rgb(232, 232, 232); stroke-opacity: 1; stroke-width: 1px;\"/><path class=\"ygrid crisp\" transform=\"translate(0,120.85)\" d=\"M70,0h420\" style=\"stroke: rgb(232, 232, 232); stroke-opacity: 1; stroke-width: 1px;\"/><path class=\"ygrid crisp\" transform=\"translate(0,74.85)\" d=\"M70,0h420\" style=\"stroke: rgb(232, 232, 232); stroke-opacity: 1; stroke-width: 1px;\"/></g></g><g class=\"zerolinelayer\"/><path class=\"xlines-below\"/><path class=\"ylines-below\"/><g class=\"overlines-below\"/><g class=\"xaxislayer-below\"/><g class=\"yaxislayer-below\"/><g class=\"overaxes-below\"/><g class=\"plot\" transform=\"translate(70,30)\" clip-path=\"url(#clip573dbbxyplot)\"><g class=\"scatterlayer mlayer\"><g class=\"trace scatter trace39c9a4\" style=\"stroke-miterlimit: 2; opacity: 1;\"><g class=\"fills\"/><g class=\"errorbars\"/><g class=\"lines\"><path class=\"js-line\" d=\"M0,127.19L6.38,120.75L12.55,116.15L18.93,113.85L25.31,109.71L31.48,111.32L37.86,109.71L44.04,110.4L50.42,106.95L56.8,105.11L62.76,108.33L69.14,104.65L75.32,97.75L81.7,90.85L87.87,81.65L100.63,77.05L106.8,79.35L113.18,81.65L119.35,72.45L125.73,72.45L132.11,68.77L137.87,71.53L144.25,59.11L150.43,54.51L156.81,44.85L162.98,38.41L169.36,34.5L181.91,26.45L188.29,33.35L194.46,28.52L200.84,28.75L207.22,33.35L212.98,35.65L219.36,31.05L225.54,28.75L231.92,24.15L238.09,21.85L244.47,23.23L250.85,21.85L263.4,31.05L269.57,30.59L275.95,31.05L282.33,30.59L288.09,33.35L294.47,33.81L300.65,19.55L307.03,11.27L313.2,8.97L319.58,8.05L325.96,9.2L332.13,17.25L338.51,30.36L344.68,24.38L351.06,33.35L357.44,52.44L363.41,67.85L369.79,72.45L375.96,89.47L382.34,95.45L388.52,104.65L394.89,111.55L401.27,125.35L407.45,136.85L413.83,150.65L420,152.95\" style=\"vector-effect: non-scaling-stroke; fill: none; stroke: rgb(31, 119, 180); stroke-opacity: 1; stroke-width: 2px; opacity: 1;\"/></g><g class=\"points\"/><g class=\"text\"/></g></g></g><g class=\"overplot\"/><path class=\"xlines-above crisp\" d=\"M69,191.5H490\" style=\"fill: none; stroke-width: 1px; stroke: rgb(36, 36, 36); stroke-opacity: 1;\"/><path class=\"ylines-above crisp\" d=\"M69.5,30V191\" style=\"fill: none; stroke-width: 1px; stroke: rgb(36, 36, 36); stroke-opacity: 1;\"/><g class=\"overlines-above\"/><g class=\"xaxislayer-above\"><path class=\"xtick ticks crisp\" d=\"M0,192v5\" transform=\"translate(120.62,0)\" style=\"stroke: rgb(68, 68, 68); stroke-opacity: 1; stroke-width: 1px;\"/><path class=\"xtick ticks crisp\" d=\"M0,192v5\" transform=\"translate(195.94,0)\" style=\"stroke: rgb(68, 68, 68); stroke-opacity: 1; stroke-width: 1px;\"/><path class=\"xtick ticks crisp\" d=\"M0,192v5\" transform=\"translate(271.05,0)\" style=\"stroke: rgb(68, 68, 68); stroke-opacity: 1; stroke-width: 1px;\"/><path class=\"xtick ticks crisp\" d=\"M0,192v5\" transform=\"translate(346.16,0)\" style=\"stroke: rgb(68, 68, 68); stroke-opacity: 1; stroke-width: 1px;\"/><path class=\"xtick ticks crisp\" d=\"M0,192v5\" transform=\"translate(421.27,0)\" style=\"stroke: rgb(68, 68, 68); stroke-opacity: 1; stroke-width: 1px;\"/><g class=\"xtick\"><text text-anchor=\"middle\" x=\"0\" y=\"211.4\" transform=\"translate(120.62,0)\" style=\"font-family: 'Open Sans', verdana, arial, sans-serif; font-size: 12px; fill: rgb(36, 36, 36); fill-opacity: 1; white-space: pre; opacity: 1;\">2004</text></g><g class=\"xtick\"><text text-anchor=\"middle\" x=\"0\" y=\"211.4\" style=\"font-family: 'Open Sans', verdana, arial, sans-serif; font-size: 12px; fill: rgb(36, 36, 36); fill-opacity: 1; white-space: pre; opacity: 1;\" transform=\"translate(195.94,0)\">2005</text></g><g class=\"xtick\"><text text-anchor=\"middle\" x=\"0\" y=\"211.4\" style=\"font-family: 'Open Sans', verdana, arial, sans-serif; font-size: 12px; fill: rgb(36, 36, 36); fill-opacity: 1; white-space: pre; opacity: 1;\" transform=\"translate(271.05,0)\">2006</text></g><g class=\"xtick\"><text text-anchor=\"middle\" x=\"0\" y=\"211.4\" style=\"font-family: 'Open Sans', verdana, arial, sans-serif; font-size: 12px; fill: rgb(36, 36, 36); fill-opacity: 1; white-space: pre; opacity: 1;\" transform=\"translate(346.16,0)\">2007</text></g><g class=\"xtick\"><text text-anchor=\"middle\" x=\"0\" y=\"211.4\" style=\"font-family: 'Open Sans', verdana, arial, sans-serif; font-size: 12px; fill: rgb(36, 36, 36); fill-opacity: 1; white-space: pre; opacity: 1;\" transform=\"translate(421.27,0)\">2008</text></g></g><g class=\"yaxislayer-above\"><path class=\"ytick ticks crisp\" d=\"M69,0h-5\" transform=\"translate(0,166.85)\" style=\"stroke: rgb(68, 68, 68); stroke-opacity: 1; stroke-width: 1px;\"/><path class=\"ytick ticks crisp\" d=\"M69,0h-5\" transform=\"translate(0,120.85)\" style=\"stroke: rgb(68, 68, 68); stroke-opacity: 1; stroke-width: 1px;\"/><path class=\"ytick ticks crisp\" d=\"M69,0h-5\" transform=\"translate(0,74.85)\" style=\"stroke: rgb(68, 68, 68); stroke-opacity: 1; stroke-width: 1px;\"/><g class=\"ytick\"><text text-anchor=\"end\" x=\"61.6\" y=\"4.199999999999999\" transform=\"translate(0,166.85)\" style=\"font-family: 'Open Sans', verdana, arial, sans-serif; font-size: 12px; fill: rgb(36, 36, 36); fill-opacity: 1; white-space: pre; opacity: 1;\">400k</text></g><g class=\"ytick\"><text text-anchor=\"end\" x=\"61.6\" y=\"4.199999999999999\" style=\"font-family: 'Open Sans', verdana, arial, sans-serif; font-size: 12px; fill: rgb(36, 36, 36); fill-opacity: 1; white-space: pre; opacity: 1;\" transform=\"translate(0,120.85)\">500k</text></g><g class=\"ytick\"><text text-anchor=\"end\" x=\"61.6\" y=\"4.199999999999999\" style=\"font-family: 'Open Sans', verdana, arial, sans-serif; font-size: 12px; fill: rgb(36, 36, 36); fill-opacity: 1; white-space: pre; opacity: 1;\" transform=\"translate(0,74.85)\">600k</text></g></g><g class=\"overaxes-above\"/></g></g><g class=\"polarlayer\"/><g class=\"smithlayer\"/><g class=\"ternarylayer\"/><g class=\"geolayer\"/><g class=\"funnelarealayer\"/><g class=\"pielayer\"/><g class=\"iciclelayer\"/><g class=\"treemaplayer\"/><g class=\"sunburstlayer\"/><g class=\"glimages\"/><defs id=\"topdefs-573dbb\"><g class=\"clips\"/></defs><g class=\"layer-above\"><g class=\"imagelayer\"/><g class=\"shapelayer\"/></g><g class=\"infolayer\"><g class=\"g-gtitle\"><text class=\"gtitle\" x=\"250\" y=\"15\" text-anchor=\"middle\" dy=\"0em\" style=\"font-family: 'Open Sans', verdana, arial, sans-serif; font-size: 17px; fill: rgb(36, 36, 36); opacity: 1; font-weight: normal; white-space: pre;\">Median Sale Price</text></g><g class=\"g-xtitle\"/><g class=\"g-ytitle\" transform=\"translate(5.0966796875,0)\"><text class=\"ytitle\" transform=\"rotate(-90,9.903125000000003,110.5)\" x=\"9.903125000000003\" y=\"110.5\" text-anchor=\"middle\" style=\"font-family: 'Open Sans', verdana, arial, sans-serif; font-size: 14px; fill: rgb(36, 36, 36); opacity: 1; font-weight: normal; white-space: pre;\">Sale Price (USD)</text></g></g></svg>"
      ]
     },
     "metadata": {},
     "output_type": "display_data"
    }
   ],
   "source": [
    "sfh_labels={'price':\"Sale Price (USD)\", 'date':\"\"}\n",
    "medians = rel_percentiles.query('percentile == 50')\n",
    "fig = px.line(medians, x='date', y='price',\n",
    "              title='Median Sale Price',\n",
    "              labels=sfh_labels,\n",
    "              width=500, height=250)\n",
    "margin(fig, t=30)"
   ]
  },
  {
   "cell_type": "markdown",
   "metadata": {},
   "source": [
    "This plot shows the rise in prices from 2003 to 2007 and the fall in 2008.\n",
    "But we can show more information by plotting a few additional percentiles instead of just the median. Let's draw separate lines for the 10th, 30th, 50th (median), 70th, and 90th percentile sale prices. When we examine prices over time, we typically need to adjust for inflation so that the comparisons are on the same footing. In addition to adjusting for inflation, let's plot the prices \n",
    "relative to the starting price in 2003 for each of the percentiles.\n",
    "This means that all the lines start at y=1 in 2003.\n",
    "(A value of 1.5 for the 90th percentile in 2006 indicates that the sale price is 1.5 times the 90th percentile in 2003.)\n",
    "This normalization lets us see how the housing crash affected home owners in the different parts of the market."
   ]
  },
  {
   "cell_type": "code",
   "execution_count": 18,
   "metadata": {
    "tags": [
     "hide-input"
    ]
   },
   "outputs": [
    {
     "data": {
      "application/vnd.plotly.v1+json": {
       "config": {
        "plotlyServerURL": "https://plot.ly"
       },
       "data": [
        {
         "hovertemplate": "percentile=10<br>=%{x}<br>sale price relatve to 2003=%{y}<extra></extra>",
         "legendgroup": "10",
         "line": {
          "color": "#000004",
          "dash": "solid"
         },
         "marker": {
          "symbol": "circle"
         },
         "mode": "lines",
         "name": "10",
         "orientation": "v",
         "showlegend": true,
         "type": "scatter",
         "x": [
          "2003-04-30T00:00:00",
          "2003-05-31T00:00:00",
          "2003-06-30T00:00:00",
          "2003-07-31T00:00:00",
          "2003-08-31T00:00:00",
          "2003-09-30T00:00:00",
          "2003-10-31T00:00:00",
          "2003-11-30T00:00:00",
          "2003-12-31T00:00:00",
          "2004-01-31T00:00:00",
          "2004-02-29T00:00:00",
          "2004-03-31T00:00:00",
          "2004-04-30T00:00:00",
          "2004-05-31T00:00:00",
          "2004-06-30T00:00:00",
          "2004-07-31T00:00:00",
          "2004-08-31T00:00:00",
          "2004-09-30T00:00:00",
          "2004-10-31T00:00:00",
          "2004-11-30T00:00:00",
          "2004-12-31T00:00:00",
          "2005-01-31T00:00:00",
          "2005-02-28T00:00:00",
          "2005-03-31T00:00:00",
          "2005-04-30T00:00:00",
          "2005-05-31T00:00:00",
          "2005-06-30T00:00:00",
          "2005-07-31T00:00:00",
          "2005-08-31T00:00:00",
          "2005-09-30T00:00:00",
          "2005-10-31T00:00:00",
          "2005-11-30T00:00:00",
          "2005-12-31T00:00:00",
          "2006-01-31T00:00:00",
          "2006-02-28T00:00:00",
          "2006-03-31T00:00:00",
          "2006-04-30T00:00:00",
          "2006-05-31T00:00:00",
          "2006-06-30T00:00:00",
          "2006-07-31T00:00:00",
          "2006-08-31T00:00:00",
          "2006-09-30T00:00:00",
          "2006-10-31T00:00:00",
          "2006-11-30T00:00:00",
          "2006-12-31T00:00:00",
          "2007-01-31T00:00:00",
          "2007-02-28T00:00:00",
          "2007-03-31T00:00:00",
          "2007-04-30T00:00:00",
          "2007-05-31T00:00:00",
          "2007-06-30T00:00:00",
          "2007-07-31T00:00:00",
          "2007-08-31T00:00:00",
          "2007-09-30T00:00:00",
          "2007-10-31T00:00:00",
          "2007-11-30T00:00:00",
          "2007-12-31T00:00:00",
          "2008-01-31T00:00:00",
          "2008-02-29T00:00:00",
          "2008-03-31T00:00:00",
          "2008-04-30T00:00:00",
          "2008-05-31T00:00:00",
          "2008-06-30T00:00:00",
          "2008-07-31T00:00:00",
          "2008-08-31T00:00:00",
          "2008-09-30T00:00:00",
          "2008-10-31T00:00:00",
          "2008-11-30T00:00:00"
         ],
         "xaxis": "x",
         "y": [
          1,
          1.0196078431372548,
          1.0392156862745099,
          1.0294117647058822,
          1.0745098039215686,
          1.0745098039215686,
          1.072549019607843,
          1.0980392156862746,
          1.0980392156862746,
          1.1176470588235294,
          1.0823529411764705,
          1.0980392156862746,
          1.1215686274509804,
          1.1764705882352942,
          1.203921568627451,
          1.2156862745098038,
          1.2254901960784315,
          1.2470588235294118,
          1.2549019607843137,
          1.2745098039215685,
          1.2941176470588236,
          1.2941176470588236,
          1.2745098039215685,
          1.3137254901960784,
          1.3529411764705883,
          1.411764705882353,
          1.4509803921568627,
          1.4705882352941178,
          1.4901960784313726,
          1.5568627450980392,
          1.5490196078431373,
          1.5490196078431373,
          1.5098039215686274,
          1.5176470588235293,
          1.5098039215686274,
          1.507843137254902,
          1.4901960784313726,
          1.535294117647059,
          1.5333333333333334,
          1.5254901960784313,
          1.5490196078431373,
          1.5294117647058822,
          1.5294117647058822,
          1.5254901960784313,
          1.5392156862745099,
          1.5647058823529412,
          1.4705882352941178,
          1.4705882352941178,
          1.5098039215686274,
          1.5098039215686274,
          1.5098039215686274,
          1.5490196078431373,
          1.5098039215686274,
          1.4431372549019608,
          1.3666666666666667,
          1.3725490196078431,
          1.3137254901960784,
          1.2509803921568627,
          1.1764705882352942,
          1.0588235294117647,
          0.9803921568627451,
          0.9411764705882353,
          0.8823529411764706,
          0.8588235294117647,
          0.7803921568627451,
          0.7058823529411765,
          0.6745098039215687,
          0.6764705882352942
         ],
         "yaxis": "y"
        },
        {
         "hovertemplate": "percentile=30<br>=%{x}<br>sale price relatve to 2003=%{y}<extra></extra>",
         "legendgroup": "30",
         "line": {
          "color": "#180f3d",
          "dash": "dot"
         },
         "marker": {
          "symbol": "circle"
         },
         "mode": "lines",
         "name": "30",
         "orientation": "v",
         "showlegend": true,
         "type": "scatter",
         "x": [
          "2003-04-30T00:00:00",
          "2003-05-31T00:00:00",
          "2003-06-30T00:00:00",
          "2003-07-31T00:00:00",
          "2003-08-31T00:00:00",
          "2003-09-30T00:00:00",
          "2003-10-31T00:00:00",
          "2003-11-30T00:00:00",
          "2003-12-31T00:00:00",
          "2004-01-31T00:00:00",
          "2004-02-29T00:00:00",
          "2004-03-31T00:00:00",
          "2004-04-30T00:00:00",
          "2004-05-31T00:00:00",
          "2004-06-30T00:00:00",
          "2004-07-31T00:00:00",
          "2004-08-31T00:00:00",
          "2004-09-30T00:00:00",
          "2004-10-31T00:00:00",
          "2004-11-30T00:00:00",
          "2004-12-31T00:00:00",
          "2005-01-31T00:00:00",
          "2005-02-28T00:00:00",
          "2005-03-31T00:00:00",
          "2005-04-30T00:00:00",
          "2005-05-31T00:00:00",
          "2005-06-30T00:00:00",
          "2005-07-31T00:00:00",
          "2005-08-31T00:00:00",
          "2005-09-30T00:00:00",
          "2005-10-31T00:00:00",
          "2005-11-30T00:00:00",
          "2005-12-31T00:00:00",
          "2006-01-31T00:00:00",
          "2006-02-28T00:00:00",
          "2006-03-31T00:00:00",
          "2006-04-30T00:00:00",
          "2006-05-31T00:00:00",
          "2006-06-30T00:00:00",
          "2006-07-31T00:00:00",
          "2006-08-31T00:00:00",
          "2006-09-30T00:00:00",
          "2006-10-31T00:00:00",
          "2006-11-30T00:00:00",
          "2006-12-31T00:00:00",
          "2007-01-31T00:00:00",
          "2007-02-28T00:00:00",
          "2007-03-31T00:00:00",
          "2007-04-30T00:00:00",
          "2007-05-31T00:00:00",
          "2007-06-30T00:00:00",
          "2007-07-31T00:00:00",
          "2007-08-31T00:00:00",
          "2007-09-30T00:00:00",
          "2007-10-31T00:00:00",
          "2007-11-30T00:00:00",
          "2007-12-31T00:00:00",
          "2008-01-31T00:00:00",
          "2008-02-29T00:00:00",
          "2008-03-31T00:00:00",
          "2008-04-30T00:00:00",
          "2008-05-31T00:00:00",
          "2008-06-30T00:00:00",
          "2008-07-31T00:00:00",
          "2008-08-31T00:00:00",
          "2008-09-30T00:00:00",
          "2008-10-31T00:00:00",
          "2008-11-30T00:00:00"
         ],
         "xaxis": "x",
         "y": [
          1,
          1.0294117647058822,
          1.0588235294117647,
          1.0588235294117647,
          1.088235294117647,
          1.088235294117647,
          1.088235294117647,
          1.1029411764705883,
          1.1176470588235294,
          1.125,
          1.1176470588235294,
          1.1323529411764706,
          1.161764705882353,
          1.2058823529411764,
          1.238235294117647,
          1.25,
          1.2647058823529411,
          1.2647058823529411,
          1.2647058823529411,
          1.2941176470588236,
          1.2941176470588236,
          1.3088235294117647,
          1.2882352941176471,
          1.3470588235294119,
          1.386764705882353,
          1.4264705882352942,
          1.4705882352941178,
          1.488235294117647,
          1.526470588235294,
          1.5529411764705883,
          1.5235294117647058,
          1.5441176470588236,
          1.535294117647059,
          1.5147058823529411,
          1.5058823529411764,
          1.5147058823529411,
          1.5147058823529411,
          1.5647058823529412,
          1.5588235294117647,
          1.5588235294117647,
          1.5676470588235294,
          1.5441176470588236,
          1.5294117647058822,
          1.5147058823529411,
          1.5294117647058822,
          1.5441176470588236,
          1.5,
          1.4705882352941178,
          1.5588235294117647,
          1.5823529411764705,
          1.588235294117647,
          1.6,
          1.6029411764705883,
          1.55,
          1.4705882352941178,
          1.4411764705882353,
          1.411764705882353,
          1.3088235294117647,
          1.25,
          1.1764705882352942,
          1.1176470588235294,
          1.0588235294117647,
          1.026470588235294,
          0.9852941176470589,
          0.8970588235294118,
          0.8529411764705882,
          0.7941176470588235,
          0.788235294117647
         ],
         "yaxis": "y"
        },
        {
         "hovertemplate": "percentile=50<br>=%{x}<br>sale price relatve to 2003=%{y}<extra></extra>",
         "legendgroup": "50",
         "line": {
          "color": "#440f76",
          "dash": "dash"
         },
         "marker": {
          "symbol": "circle"
         },
         "mode": "lines",
         "name": "50",
         "orientation": "v",
         "showlegend": true,
         "type": "scatter",
         "x": [
          "2003-04-30T00:00:00",
          "2003-05-31T00:00:00",
          "2003-06-30T00:00:00",
          "2003-07-31T00:00:00",
          "2003-08-31T00:00:00",
          "2003-09-30T00:00:00",
          "2003-10-31T00:00:00",
          "2003-11-30T00:00:00",
          "2003-12-31T00:00:00",
          "2004-01-31T00:00:00",
          "2004-02-29T00:00:00",
          "2004-03-31T00:00:00",
          "2004-04-30T00:00:00",
          "2004-05-31T00:00:00",
          "2004-06-30T00:00:00",
          "2004-07-31T00:00:00",
          "2004-08-31T00:00:00",
          "2004-09-30T00:00:00",
          "2004-10-31T00:00:00",
          "2004-11-30T00:00:00",
          "2004-12-31T00:00:00",
          "2005-01-31T00:00:00",
          "2005-02-28T00:00:00",
          "2005-03-31T00:00:00",
          "2005-04-30T00:00:00",
          "2005-05-31T00:00:00",
          "2005-06-30T00:00:00",
          "2005-07-31T00:00:00",
          "2005-08-31T00:00:00",
          "2005-09-30T00:00:00",
          "2005-10-31T00:00:00",
          "2005-11-30T00:00:00",
          "2005-12-31T00:00:00",
          "2006-01-31T00:00:00",
          "2006-02-28T00:00:00",
          "2006-03-31T00:00:00",
          "2006-04-30T00:00:00",
          "2006-05-31T00:00:00",
          "2006-06-30T00:00:00",
          "2006-07-31T00:00:00",
          "2006-08-31T00:00:00",
          "2006-09-30T00:00:00",
          "2006-10-31T00:00:00",
          "2006-11-30T00:00:00",
          "2006-12-31T00:00:00",
          "2007-01-31T00:00:00",
          "2007-02-28T00:00:00",
          "2007-03-31T00:00:00",
          "2007-04-30T00:00:00",
          "2007-05-31T00:00:00",
          "2007-06-30T00:00:00",
          "2007-07-31T00:00:00",
          "2007-08-31T00:00:00",
          "2007-09-30T00:00:00",
          "2007-10-31T00:00:00",
          "2007-11-30T00:00:00",
          "2007-12-31T00:00:00",
          "2008-01-31T00:00:00",
          "2008-02-29T00:00:00",
          "2008-03-31T00:00:00",
          "2008-04-30T00:00:00",
          "2008-05-31T00:00:00",
          "2008-06-30T00:00:00",
          "2008-07-31T00:00:00",
          "2008-08-31T00:00:00",
          "2008-09-30T00:00:00",
          "2008-10-31T00:00:00",
          "2008-11-30T00:00:00"
         ],
         "xaxis": "x",
         "y": [
          1,
          1.0332541567695963,
          1.0570071258907363,
          1.0688836104513064,
          1.0902612826603326,
          1.0819477434679334,
          1.0902612826603326,
          1.0866983372921615,
          1.1045130641330165,
          1.1140142517814726,
          1.0973871733966747,
          1.1163895486935866,
          1.152019002375297,
          1.187648456057007,
          1.2351543942992873,
          1.2470308788598574,
          1.2589073634204275,
          1.2470308788598574,
          1.2351543942992873,
          1.2826603325415677,
          1.2826603325415677,
          1.3016627078384797,
          1.2874109263657958,
          1.3515439429928742,
          1.3752969121140142,
          1.4251781472684086,
          1.4584323040380047,
          1.4786223277909738,
          1.497624703087886,
          1.520190023752969,
          1.484560570071259,
          1.509501187648456,
          1.508313539192399,
          1.484560570071259,
          1.4726840855106889,
          1.496437054631829,
          1.508313539192399,
          1.5320665083135392,
          1.5439429928741093,
          1.5368171021377672,
          1.5439429928741093,
          1.520190023752969,
          1.496437054631829,
          1.498812351543943,
          1.496437054631829,
          1.498812351543943,
          1.484560570071259,
          1.482185273159145,
          1.5558194774346794,
          1.5985748218527316,
          1.6104513064133017,
          1.6152019002375297,
          1.6092636579572446,
          1.5676959619952493,
          1.5,
          1.5308788598574823,
          1.484560570071259,
          1.3859857482185274,
          1.3064133016627077,
          1.2826603325415677,
          1.1947743467933492,
          1.163895486935867,
          1.1163895486935866,
          1.0807600950118765,
          1.009501187648456,
          0.9501187648456056,
          0.8788598574821853,
          0.8669833729216152
         ],
         "yaxis": "y"
        },
        {
         "hovertemplate": "percentile=70<br>=%{x}<br>sale price relatve to 2003=%{y}<extra></extra>",
         "legendgroup": "70",
         "line": {
          "color": "#721f81",
          "dash": "longdash"
         },
         "marker": {
          "symbol": "circle"
         },
         "mode": "lines",
         "name": "70",
         "orientation": "v",
         "showlegend": true,
         "type": "scatter",
         "x": [
          "2003-04-30T00:00:00",
          "2003-05-31T00:00:00",
          "2003-06-30T00:00:00",
          "2003-07-31T00:00:00",
          "2003-08-31T00:00:00",
          "2003-09-30T00:00:00",
          "2003-10-31T00:00:00",
          "2003-11-30T00:00:00",
          "2003-12-31T00:00:00",
          "2004-01-31T00:00:00",
          "2004-02-29T00:00:00",
          "2004-03-31T00:00:00",
          "2004-04-30T00:00:00",
          "2004-05-31T00:00:00",
          "2004-06-30T00:00:00",
          "2004-07-31T00:00:00",
          "2004-08-31T00:00:00",
          "2004-09-30T00:00:00",
          "2004-10-31T00:00:00",
          "2004-11-30T00:00:00",
          "2004-12-31T00:00:00",
          "2005-01-31T00:00:00",
          "2005-02-28T00:00:00",
          "2005-03-31T00:00:00",
          "2005-04-30T00:00:00",
          "2005-05-31T00:00:00",
          "2005-06-30T00:00:00",
          "2005-07-31T00:00:00",
          "2005-08-31T00:00:00",
          "2005-09-30T00:00:00",
          "2005-10-31T00:00:00",
          "2005-11-30T00:00:00",
          "2005-12-31T00:00:00",
          "2006-01-31T00:00:00",
          "2006-02-28T00:00:00",
          "2006-03-31T00:00:00",
          "2006-04-30T00:00:00",
          "2006-05-31T00:00:00",
          "2006-06-30T00:00:00",
          "2006-07-31T00:00:00",
          "2006-08-31T00:00:00",
          "2006-09-30T00:00:00",
          "2006-10-31T00:00:00",
          "2006-11-30T00:00:00",
          "2006-12-31T00:00:00",
          "2007-01-31T00:00:00",
          "2007-02-28T00:00:00",
          "2007-03-31T00:00:00",
          "2007-04-30T00:00:00",
          "2007-05-31T00:00:00",
          "2007-06-30T00:00:00",
          "2007-07-31T00:00:00",
          "2007-08-31T00:00:00",
          "2007-09-30T00:00:00",
          "2007-10-31T00:00:00",
          "2007-11-30T00:00:00",
          "2007-12-31T00:00:00",
          "2008-01-31T00:00:00",
          "2008-02-29T00:00:00",
          "2008-03-31T00:00:00",
          "2008-04-30T00:00:00",
          "2008-05-31T00:00:00",
          "2008-06-30T00:00:00",
          "2008-07-31T00:00:00",
          "2008-08-31T00:00:00",
          "2008-09-30T00:00:00",
          "2008-10-31T00:00:00",
          "2008-11-30T00:00:00"
         ],
         "xaxis": "x",
         "y": [
          1,
          1.0242990654205608,
          1.02803738317757,
          1.0560747663551402,
          1.074766355140187,
          1.0710280373831775,
          1.0654205607476634,
          1.0542056074766355,
          1.074766355140187,
          1.0841121495327102,
          1.074766355140187,
          1.091588785046729,
          1.1214953271028036,
          1.1682242990654206,
          1.2018691588785047,
          1.2149532710280373,
          1.2149532710280373,
          1.205607476635514,
          1.183177570093458,
          1.2242990654205608,
          1.233644859813084,
          1.2383177570093458,
          1.2271028037383178,
          1.302803738317757,
          1.3420560747663552,
          1.3831775700934579,
          1.3831775700934579,
          1.4018691588785046,
          1.4233644859813084,
          1.4242990654205607,
          1.3934579439252337,
          1.4018691588785046,
          1.4149532710280375,
          1.3962616822429907,
          1.3925233644859814,
          1.4102803738317757,
          1.4158878504672898,
          1.4485981308411215,
          1.4654205607476636,
          1.4579439252336448,
          1.4579439252336448,
          1.425233644859813,
          1.411214953271028,
          1.411214953271028,
          1.4018691588785046,
          1.3869158878504673,
          1.3831775700934579,
          1.4018691588785046,
          1.4850467289719627,
          1.5420560747663552,
          1.5485981308411214,
          1.588785046728972,
          1.588785046728972,
          1.5420560747663552,
          1.485981308411215,
          1.514018691588785,
          1.4953271028037383,
          1.4018691588785046,
          1.3457943925233644,
          1.355140186915888,
          1.2616822429906542,
          1.2429906542056075,
          1.2429906542056075,
          1.2149532710280373,
          1.1308411214953271,
          1.080373831775701,
          0.9766355140186916,
          0.9626168224299065
         ],
         "yaxis": "y"
        },
        {
         "hovertemplate": "percentile=90<br>=%{x}<br>sale price relatve to 2003=%{y}<extra></extra>",
         "legendgroup": "90",
         "line": {
          "color": "#9e2f7f",
          "dash": "dashdot"
         },
         "marker": {
          "symbol": "circle"
         },
         "mode": "lines",
         "name": "90",
         "orientation": "v",
         "showlegend": true,
         "type": "scatter",
         "x": [
          "2003-04-30T00:00:00",
          "2003-05-31T00:00:00",
          "2003-06-30T00:00:00",
          "2003-07-31T00:00:00",
          "2003-08-31T00:00:00",
          "2003-09-30T00:00:00",
          "2003-10-31T00:00:00",
          "2003-11-30T00:00:00",
          "2003-12-31T00:00:00",
          "2004-01-31T00:00:00",
          "2004-02-29T00:00:00",
          "2004-03-31T00:00:00",
          "2004-04-30T00:00:00",
          "2004-05-31T00:00:00",
          "2004-06-30T00:00:00",
          "2004-07-31T00:00:00",
          "2004-08-31T00:00:00",
          "2004-09-30T00:00:00",
          "2004-10-31T00:00:00",
          "2004-11-30T00:00:00",
          "2004-12-31T00:00:00",
          "2005-01-31T00:00:00",
          "2005-02-28T00:00:00",
          "2005-03-31T00:00:00",
          "2005-04-30T00:00:00",
          "2005-05-31T00:00:00",
          "2005-06-30T00:00:00",
          "2005-07-31T00:00:00",
          "2005-08-31T00:00:00",
          "2005-09-30T00:00:00",
          "2005-10-31T00:00:00",
          "2005-11-30T00:00:00",
          "2005-12-31T00:00:00",
          "2006-01-31T00:00:00",
          "2006-02-28T00:00:00",
          "2006-03-31T00:00:00",
          "2006-04-30T00:00:00",
          "2006-05-31T00:00:00",
          "2006-06-30T00:00:00",
          "2006-07-31T00:00:00",
          "2006-08-31T00:00:00",
          "2006-09-30T00:00:00",
          "2006-10-31T00:00:00",
          "2006-11-30T00:00:00",
          "2006-12-31T00:00:00",
          "2007-01-31T00:00:00",
          "2007-02-28T00:00:00",
          "2007-03-31T00:00:00",
          "2007-04-30T00:00:00",
          "2007-05-31T00:00:00",
          "2007-06-30T00:00:00",
          "2007-07-31T00:00:00",
          "2007-08-31T00:00:00",
          "2007-09-30T00:00:00",
          "2007-10-31T00:00:00",
          "2007-11-30T00:00:00",
          "2007-12-31T00:00:00",
          "2008-01-31T00:00:00",
          "2008-02-29T00:00:00",
          "2008-03-31T00:00:00",
          "2008-04-30T00:00:00",
          "2008-05-31T00:00:00",
          "2008-06-30T00:00:00",
          "2008-07-31T00:00:00",
          "2008-08-31T00:00:00",
          "2008-09-30T00:00:00",
          "2008-10-31T00:00:00",
          "2008-11-30T00:00:00"
         ],
         "xaxis": "x",
         "y": [
          1,
          1.0165184243964422,
          1.0165184243964422,
          1.0279542566709021,
          1.0800508259212198,
          1.0355781448538754,
          1.0292249047013977,
          1.0101651842439645,
          1.0393900889453622,
          1.0419313850063532,
          1.0419313850063532,
          1.0546378653113089,
          1.0864040660736975,
          1.130876747141042,
          1.181702668360864,
          1.167725540025413,
          1.1664548919949174,
          1.1435832274459974,
          1.1188055908513341,
          1.167725540025413,
          1.1664548919949174,
          1.181702668360864,
          1.1689961880559085,
          1.2827191867852605,
          1.3290978398983482,
          1.3659466327827192,
          1.3532401524777637,
          1.369123252858958,
          1.4294790343074968,
          1.3977128335451081,
          1.3151207115628971,
          1.3964421855146125,
          1.3767471410419314,
          1.3303684879288438,
          1.3151207115628971,
          1.3329097839898347,
          1.3913595933926302,
          1.4612452350698857,
          1.4739517153748412,
          1.4980940279542567,
          1.4612452350698857,
          1.3786531130876747,
          1.3360864040660736,
          1.3977128335451081,
          1.3348157560355782,
          1.2706480304955527,
          1.3468869123252858,
          1.3913595933926302,
          1.531130876747141,
          1.5870393900889455,
          1.6200762388818297,
          1.6518424396442186,
          1.6200762388818297,
          1.5762388818297333,
          1.5247776365946633,
          1.5883100381194408,
          1.5692503176620076,
          1.4739517153748412,
          1.4358322744599745,
          1.5095298602287166,
          1.3977128335451081,
          1.4167725540025413,
          1.47141041931385,
          1.3532401524777637,
          1.2388818297331639,
          1.2071156289707752,
          1.1118170266836087,
          1.0692503176620076
         ],
         "yaxis": "y"
        }
       ],
       "layout": {
        "height": 350,
        "legend": {
         "title": {
          "text": "percentile"
         },
         "tracegroupgap": 0
        },
        "margin": {
         "t": 30
        },
        "template": {
         "data": {
          "bar": [
           {
            "error_x": {
             "color": "rgb(36,36,36)"
            },
            "error_y": {
             "color": "rgb(36,36,36)"
            },
            "marker": {
             "line": {
              "color": "white",
              "width": 0.5
             },
             "pattern": {
              "fillmode": "overlay",
              "size": 10,
              "solidity": 0.2
             }
            },
            "type": "bar"
           }
          ],
          "barpolar": [
           {
            "marker": {
             "line": {
              "color": "white",
              "width": 0.5
             },
             "pattern": {
              "fillmode": "overlay",
              "size": 10,
              "solidity": 0.2
             }
            },
            "type": "barpolar"
           }
          ],
          "carpet": [
           {
            "aaxis": {
             "endlinecolor": "rgb(36,36,36)",
             "gridcolor": "white",
             "linecolor": "white",
             "minorgridcolor": "white",
             "startlinecolor": "rgb(36,36,36)"
            },
            "baxis": {
             "endlinecolor": "rgb(36,36,36)",
             "gridcolor": "white",
             "linecolor": "white",
             "minorgridcolor": "white",
             "startlinecolor": "rgb(36,36,36)"
            },
            "type": "carpet"
           }
          ],
          "choropleth": [
           {
            "colorbar": {
             "outlinewidth": 1,
             "tickcolor": "rgb(36,36,36)",
             "ticks": "outside"
            },
            "type": "choropleth"
           }
          ],
          "contour": [
           {
            "colorbar": {
             "outlinewidth": 1,
             "tickcolor": "rgb(36,36,36)",
             "ticks": "outside"
            },
            "colorscale": [
             [
              0,
              "#440154"
             ],
             [
              0.1111111111111111,
              "#482878"
             ],
             [
              0.2222222222222222,
              "#3e4989"
             ],
             [
              0.3333333333333333,
              "#31688e"
             ],
             [
              0.4444444444444444,
              "#26828e"
             ],
             [
              0.5555555555555556,
              "#1f9e89"
             ],
             [
              0.6666666666666666,
              "#35b779"
             ],
             [
              0.7777777777777778,
              "#6ece58"
             ],
             [
              0.8888888888888888,
              "#b5de2b"
             ],
             [
              1,
              "#fde725"
             ]
            ],
            "type": "contour"
           }
          ],
          "contourcarpet": [
           {
            "colorbar": {
             "outlinewidth": 1,
             "tickcolor": "rgb(36,36,36)",
             "ticks": "outside"
            },
            "type": "contourcarpet"
           }
          ],
          "heatmap": [
           {
            "colorbar": {
             "outlinewidth": 1,
             "tickcolor": "rgb(36,36,36)",
             "ticks": "outside"
            },
            "colorscale": [
             [
              0,
              "#440154"
             ],
             [
              0.1111111111111111,
              "#482878"
             ],
             [
              0.2222222222222222,
              "#3e4989"
             ],
             [
              0.3333333333333333,
              "#31688e"
             ],
             [
              0.4444444444444444,
              "#26828e"
             ],
             [
              0.5555555555555556,
              "#1f9e89"
             ],
             [
              0.6666666666666666,
              "#35b779"
             ],
             [
              0.7777777777777778,
              "#6ece58"
             ],
             [
              0.8888888888888888,
              "#b5de2b"
             ],
             [
              1,
              "#fde725"
             ]
            ],
            "type": "heatmap"
           }
          ],
          "heatmapgl": [
           {
            "colorbar": {
             "outlinewidth": 1,
             "tickcolor": "rgb(36,36,36)",
             "ticks": "outside"
            },
            "colorscale": [
             [
              0,
              "#440154"
             ],
             [
              0.1111111111111111,
              "#482878"
             ],
             [
              0.2222222222222222,
              "#3e4989"
             ],
             [
              0.3333333333333333,
              "#31688e"
             ],
             [
              0.4444444444444444,
              "#26828e"
             ],
             [
              0.5555555555555556,
              "#1f9e89"
             ],
             [
              0.6666666666666666,
              "#35b779"
             ],
             [
              0.7777777777777778,
              "#6ece58"
             ],
             [
              0.8888888888888888,
              "#b5de2b"
             ],
             [
              1,
              "#fde725"
             ]
            ],
            "type": "heatmapgl"
           }
          ],
          "histogram": [
           {
            "marker": {
             "line": {
              "color": "white",
              "width": 0.6
             }
            },
            "type": "histogram"
           }
          ],
          "histogram2d": [
           {
            "colorbar": {
             "outlinewidth": 1,
             "tickcolor": "rgb(36,36,36)",
             "ticks": "outside"
            },
            "colorscale": [
             [
              0,
              "#440154"
             ],
             [
              0.1111111111111111,
              "#482878"
             ],
             [
              0.2222222222222222,
              "#3e4989"
             ],
             [
              0.3333333333333333,
              "#31688e"
             ],
             [
              0.4444444444444444,
              "#26828e"
             ],
             [
              0.5555555555555556,
              "#1f9e89"
             ],
             [
              0.6666666666666666,
              "#35b779"
             ],
             [
              0.7777777777777778,
              "#6ece58"
             ],
             [
              0.8888888888888888,
              "#b5de2b"
             ],
             [
              1,
              "#fde725"
             ]
            ],
            "type": "histogram2d"
           }
          ],
          "histogram2dcontour": [
           {
            "colorbar": {
             "outlinewidth": 1,
             "tickcolor": "rgb(36,36,36)",
             "ticks": "outside"
            },
            "colorscale": [
             [
              0,
              "#440154"
             ],
             [
              0.1111111111111111,
              "#482878"
             ],
             [
              0.2222222222222222,
              "#3e4989"
             ],
             [
              0.3333333333333333,
              "#31688e"
             ],
             [
              0.4444444444444444,
              "#26828e"
             ],
             [
              0.5555555555555556,
              "#1f9e89"
             ],
             [
              0.6666666666666666,
              "#35b779"
             ],
             [
              0.7777777777777778,
              "#6ece58"
             ],
             [
              0.8888888888888888,
              "#b5de2b"
             ],
             [
              1,
              "#fde725"
             ]
            ],
            "type": "histogram2dcontour"
           }
          ],
          "mesh3d": [
           {
            "colorbar": {
             "outlinewidth": 1,
             "tickcolor": "rgb(36,36,36)",
             "ticks": "outside"
            },
            "type": "mesh3d"
           }
          ],
          "parcoords": [
           {
            "line": {
             "colorbar": {
              "outlinewidth": 1,
              "tickcolor": "rgb(36,36,36)",
              "ticks": "outside"
             }
            },
            "type": "parcoords"
           }
          ],
          "pie": [
           {
            "automargin": true,
            "type": "pie"
           }
          ],
          "scatter": [
           {
            "marker": {
             "colorbar": {
              "outlinewidth": 1,
              "tickcolor": "rgb(36,36,36)",
              "ticks": "outside"
             }
            },
            "type": "scatter"
           }
          ],
          "scatter3d": [
           {
            "line": {
             "colorbar": {
              "outlinewidth": 1,
              "tickcolor": "rgb(36,36,36)",
              "ticks": "outside"
             }
            },
            "marker": {
             "colorbar": {
              "outlinewidth": 1,
              "tickcolor": "rgb(36,36,36)",
              "ticks": "outside"
             }
            },
            "type": "scatter3d"
           }
          ],
          "scattercarpet": [
           {
            "marker": {
             "colorbar": {
              "outlinewidth": 1,
              "tickcolor": "rgb(36,36,36)",
              "ticks": "outside"
             }
            },
            "type": "scattercarpet"
           }
          ],
          "scattergeo": [
           {
            "marker": {
             "colorbar": {
              "outlinewidth": 1,
              "tickcolor": "rgb(36,36,36)",
              "ticks": "outside"
             }
            },
            "type": "scattergeo"
           }
          ],
          "scattergl": [
           {
            "marker": {
             "colorbar": {
              "outlinewidth": 1,
              "tickcolor": "rgb(36,36,36)",
              "ticks": "outside"
             }
            },
            "type": "scattergl"
           }
          ],
          "scattermapbox": [
           {
            "marker": {
             "colorbar": {
              "outlinewidth": 1,
              "tickcolor": "rgb(36,36,36)",
              "ticks": "outside"
             }
            },
            "type": "scattermapbox"
           }
          ],
          "scatterpolar": [
           {
            "marker": {
             "colorbar": {
              "outlinewidth": 1,
              "tickcolor": "rgb(36,36,36)",
              "ticks": "outside"
             }
            },
            "type": "scatterpolar"
           }
          ],
          "scatterpolargl": [
           {
            "marker": {
             "colorbar": {
              "outlinewidth": 1,
              "tickcolor": "rgb(36,36,36)",
              "ticks": "outside"
             }
            },
            "type": "scatterpolargl"
           }
          ],
          "scatterternary": [
           {
            "marker": {
             "colorbar": {
              "outlinewidth": 1,
              "tickcolor": "rgb(36,36,36)",
              "ticks": "outside"
             }
            },
            "type": "scatterternary"
           }
          ],
          "surface": [
           {
            "colorbar": {
             "outlinewidth": 1,
             "tickcolor": "rgb(36,36,36)",
             "ticks": "outside"
            },
            "colorscale": [
             [
              0,
              "#440154"
             ],
             [
              0.1111111111111111,
              "#482878"
             ],
             [
              0.2222222222222222,
              "#3e4989"
             ],
             [
              0.3333333333333333,
              "#31688e"
             ],
             [
              0.4444444444444444,
              "#26828e"
             ],
             [
              0.5555555555555556,
              "#1f9e89"
             ],
             [
              0.6666666666666666,
              "#35b779"
             ],
             [
              0.7777777777777778,
              "#6ece58"
             ],
             [
              0.8888888888888888,
              "#b5de2b"
             ],
             [
              1,
              "#fde725"
             ]
            ],
            "type": "surface"
           }
          ],
          "table": [
           {
            "cells": {
             "fill": {
              "color": "rgb(237,237,237)"
             },
             "line": {
              "color": "white"
             }
            },
            "header": {
             "fill": {
              "color": "rgb(217,217,217)"
             },
             "line": {
              "color": "white"
             }
            },
            "type": "table"
           }
          ]
         },
         "layout": {
          "annotationdefaults": {
           "arrowhead": 0,
           "arrowwidth": 1
          },
          "autosize": true,
          "autotypenumbers": "strict",
          "coloraxis": {
           "colorbar": {
            "outlinewidth": 1,
            "tickcolor": "rgb(36,36,36)",
            "ticks": "outside"
           }
          },
          "colorscale": {
           "diverging": [
            [
             0,
             "rgb(103,0,31)"
            ],
            [
             0.1,
             "rgb(178,24,43)"
            ],
            [
             0.2,
             "rgb(214,96,77)"
            ],
            [
             0.3,
             "rgb(244,165,130)"
            ],
            [
             0.4,
             "rgb(253,219,199)"
            ],
            [
             0.5,
             "rgb(247,247,247)"
            ],
            [
             0.6,
             "rgb(209,229,240)"
            ],
            [
             0.7,
             "rgb(146,197,222)"
            ],
            [
             0.8,
             "rgb(67,147,195)"
            ],
            [
             0.9,
             "rgb(33,102,172)"
            ],
            [
             1,
             "rgb(5,48,97)"
            ]
           ],
           "sequential": [
            [
             0,
             "#440154"
            ],
            [
             0.1111111111111111,
             "#482878"
            ],
            [
             0.2222222222222222,
             "#3e4989"
            ],
            [
             0.3333333333333333,
             "#31688e"
            ],
            [
             0.4444444444444444,
             "#26828e"
            ],
            [
             0.5555555555555556,
             "#1f9e89"
            ],
            [
             0.6666666666666666,
             "#35b779"
            ],
            [
             0.7777777777777778,
             "#6ece58"
            ],
            [
             0.8888888888888888,
             "#b5de2b"
            ],
            [
             1,
             "#fde725"
            ]
           ],
           "sequentialminus": [
            [
             0,
             "#440154"
            ],
            [
             0.1111111111111111,
             "#482878"
            ],
            [
             0.2222222222222222,
             "#3e4989"
            ],
            [
             0.3333333333333333,
             "#31688e"
            ],
            [
             0.4444444444444444,
             "#26828e"
            ],
            [
             0.5555555555555556,
             "#1f9e89"
            ],
            [
             0.6666666666666666,
             "#35b779"
            ],
            [
             0.7777777777777778,
             "#6ece58"
            ],
            [
             0.8888888888888888,
             "#b5de2b"
            ],
            [
             1,
             "#fde725"
            ]
           ]
          },
          "colorway": [
           "#1F77B4",
           "#FF7F0E",
           "#2CA02C",
           "#D62728",
           "#9467BD",
           "#8C564B",
           "#E377C2",
           "#7F7F7F",
           "#BCBD22",
           "#17BECF"
          ],
          "font": {
           "color": "rgb(36,36,36)"
          },
          "geo": {
           "bgcolor": "white",
           "lakecolor": "white",
           "landcolor": "white",
           "showlakes": true,
           "showland": true,
           "subunitcolor": "white"
          },
          "height": 250,
          "hoverlabel": {
           "align": "left"
          },
          "hovermode": "closest",
          "mapbox": {
           "style": "light"
          },
          "margin": {
           "b": 10,
           "l": 10,
           "r": 10,
           "t": 10
          },
          "paper_bgcolor": "white",
          "plot_bgcolor": "white",
          "polar": {
           "angularaxis": {
            "gridcolor": "rgb(232,232,232)",
            "linecolor": "rgb(36,36,36)",
            "showgrid": false,
            "showline": true,
            "ticks": "outside"
           },
           "bgcolor": "white",
           "radialaxis": {
            "gridcolor": "rgb(232,232,232)",
            "linecolor": "rgb(36,36,36)",
            "showgrid": false,
            "showline": true,
            "ticks": "outside"
           }
          },
          "scene": {
           "xaxis": {
            "backgroundcolor": "white",
            "gridcolor": "rgb(232,232,232)",
            "gridwidth": 2,
            "linecolor": "rgb(36,36,36)",
            "showbackground": true,
            "showgrid": false,
            "showline": true,
            "ticks": "outside",
            "zeroline": false,
            "zerolinecolor": "rgb(36,36,36)"
           },
           "yaxis": {
            "backgroundcolor": "white",
            "gridcolor": "rgb(232,232,232)",
            "gridwidth": 2,
            "linecolor": "rgb(36,36,36)",
            "showbackground": true,
            "showgrid": false,
            "showline": true,
            "ticks": "outside",
            "zeroline": false,
            "zerolinecolor": "rgb(36,36,36)"
           },
           "zaxis": {
            "backgroundcolor": "white",
            "gridcolor": "rgb(232,232,232)",
            "gridwidth": 2,
            "linecolor": "rgb(36,36,36)",
            "showbackground": true,
            "showgrid": false,
            "showline": true,
            "ticks": "outside",
            "zeroline": false,
            "zerolinecolor": "rgb(36,36,36)"
           }
          },
          "shapedefaults": {
           "fillcolor": "black",
           "line": {
            "width": 0
           },
           "opacity": 0.3
          },
          "ternary": {
           "aaxis": {
            "gridcolor": "rgb(232,232,232)",
            "linecolor": "rgb(36,36,36)",
            "showgrid": false,
            "showline": true,
            "ticks": "outside"
           },
           "baxis": {
            "gridcolor": "rgb(232,232,232)",
            "linecolor": "rgb(36,36,36)",
            "showgrid": false,
            "showline": true,
            "ticks": "outside"
           },
           "bgcolor": "white",
           "caxis": {
            "gridcolor": "rgb(232,232,232)",
            "linecolor": "rgb(36,36,36)",
            "showgrid": false,
            "showline": true,
            "ticks": "outside"
           }
          },
          "title": {
           "x": 0.5,
           "xanchor": "center"
          },
          "width": 350,
          "xaxis": {
           "automargin": true,
           "gridcolor": "rgb(232,232,232)",
           "linecolor": "rgb(36,36,36)",
           "showgrid": true,
           "showline": true,
           "ticks": "outside",
           "title": {
            "standoff": 15
           },
           "zeroline": false,
           "zerolinecolor": "rgb(36,36,36)"
          },
          "yaxis": {
           "automargin": true,
           "gridcolor": "rgb(232,232,232)",
           "linecolor": "rgb(36,36,36)",
           "showgrid": true,
           "showline": true,
           "ticks": "outside",
           "title": {
            "standoff": 15
           },
           "zeroline": false,
           "zerolinecolor": "rgb(36,36,36)"
          }
         }
        },
        "title": {
         "text": "SF House Sale Prices, Inflation Adjusted"
        },
        "width": 600,
        "xaxis": {
         "anchor": "y",
         "autorange": true,
         "domain": [
          0,
          1
         ],
         "range": [
          "2003-04-30",
          "2008-11-30"
         ],
         "title": {
          "text": ""
         },
         "type": "date"
        },
        "yaxis": {
         "anchor": "x",
         "autorange": true,
         "domain": [
          0,
          1
         ],
         "range": [
          0.6202135463814215,
          1.706138697184366
         ],
         "title": {
          "text": "sale price relatve to 2003"
         },
         "type": "linear"
        }
       }
      },
      "image/png": "[encoded data removed]",
      "image/svg+xml": [
       "<svg class=\"main-svg\" xmlns=\"http://www.w3.org/2000/svg\" xmlns:xlink=\"http://www.w3.org/1999/xlink\" width=\"600\" height=\"350\" style=\"\" viewBox=\"0 0 600 350\"><rect x=\"0\" y=\"0\" width=\"600\" height=\"350\" style=\"fill: rgb(255, 255, 255); fill-opacity: 1;\"/><defs id=\"defs-5ffb2c\"><g class=\"clips\"><clipPath id=\"clip5ffb2cxyplot\" class=\"plotclip\"><rect width=\"451\" height=\"261\"/></clipPath><clipPath class=\"axesclip\" id=\"clip5ffb2cx\"><rect x=\"60\" y=\"0\" width=\"451\" height=\"350\"/></clipPath><clipPath class=\"axesclip\" id=\"clip5ffb2cy\"><rect x=\"0\" y=\"30\" width=\"600\" height=\"261\"/></clipPath><clipPath class=\"axesclip\" id=\"clip5ffb2cxy\"><rect x=\"60\" y=\"30\" width=\"451\" height=\"261\"/></clipPath></g><g class=\"gradients\"/><g class=\"patterns\"/></defs><g class=\"bglayer\"/><g class=\"layer-below\"><g class=\"imagelayer\"/><g class=\"shapelayer\"/></g><g class=\"cartesianlayer\"><g class=\"subplot xy\"><g class=\"layer-subplot\"><g class=\"shapelayer\"/><g class=\"imagelayer\"/></g><g class=\"gridlayer\"><g class=\"x\"><path class=\"xgrid crisp\" transform=\"translate(114.36,0)\" d=\"M0,30v261\" style=\"stroke: rgb(232, 232, 232); stroke-opacity: 1; stroke-width: 1px;\"/><path class=\"xgrid crisp\" transform=\"translate(195.23,0)\" d=\"M0,30v261\" style=\"stroke: rgb(232, 232, 232); stroke-opacity: 1; stroke-width: 1px;\"/><path class=\"xgrid crisp\" transform=\"translate(275.89,0)\" d=\"M0,30v261\" style=\"stroke: rgb(232, 232, 232); stroke-opacity: 1; stroke-width: 1px;\"/><path class=\"xgrid crisp\" transform=\"translate(356.54,0)\" d=\"M0,30v261\" style=\"stroke: rgb(232, 232, 232); stroke-opacity: 1; stroke-width: 1px;\"/><path class=\"xgrid crisp\" transform=\"translate(437.2,0)\" d=\"M0,30v261\" style=\"stroke: rgb(232, 232, 232); stroke-opacity: 1; stroke-width: 1px;\"/></g><g class=\"y\"><path class=\"ygrid crisp\" transform=\"translate(0,247.79)\" d=\"M60,0h451\" style=\"stroke: rgb(232, 232, 232); stroke-opacity: 1; stroke-width: 1px;\"/><path class=\"ygrid crisp\" transform=\"translate(0,199.72)\" d=\"M60,0h451\" style=\"stroke: rgb(232, 232, 232); stroke-opacity: 1; stroke-width: 1px;\"/><path class=\"ygrid crisp\" transform=\"translate(0,151.65)\" d=\"M60,0h451\" style=\"stroke: rgb(232, 232, 232); stroke-opacity: 1; stroke-width: 1px;\"/><path class=\"ygrid crisp\" transform=\"translate(0,103.58)\" d=\"M60,0h451\" style=\"stroke: rgb(232, 232, 232); stroke-opacity: 1; stroke-width: 1px;\"/><path class=\"ygrid crisp\" transform=\"translate(0,55.510000000000005)\" d=\"M60,0h451\" style=\"stroke: rgb(232, 232, 232); stroke-opacity: 1; stroke-width: 1px;\"/></g></g><g class=\"zerolinelayer\"/><path class=\"xlines-below\"/><path class=\"ylines-below\"/><g class=\"overlines-below\"/><g class=\"xaxislayer-below\"/><g class=\"yaxislayer-below\"/><g class=\"overaxes-below\"/><g class=\"plot\" transform=\"translate(60,30)\" clip-path=\"url(#clip5ffb2cxyplot)\"><g class=\"scatterlayer mlayer\"><g class=\"trace scatter trace707775\" style=\"stroke-miterlimit: 2; opacity: 1;\"><g class=\"fills\"/><g class=\"errorbars\"/><g class=\"lines\"><path class=\"js-line\" d=\"M0,169.72L13.48,160.29L20.33,162.65L27.18,151.81L33.81,151.81L40.66,152.28L47.29,146.16L54.14,146.16L60.99,141.44L67.4,149.93L74.25,146.16L80.88,140.5L87.73,127.3L94.35,120.71L101.2,117.88L108.05,115.52L114.68,110.34L121.53,108.45L128.16,103.74L135.01,99.03L141.86,99.03L148.05,103.74L154.9,94.32L161.53,84.89L168.38,70.75L175.01,61.33L181.86,56.61L188.71,51.9L195.34,35.88L202.19,37.76L208.82,37.76L215.67,47.19L222.52,45.3L228.7,47.19L235.55,47.66L242.18,51.9L249.03,41.06L255.66,41.53L262.51,43.42L269.36,37.76L275.99,42.48L282.84,42.48L289.47,43.42L296.32,40.12L303.17,33.99L309.36,56.61L316.21,56.61L322.84,47.19L329.69,47.19L336.32,47.19L343.17,37.76L350.02,47.19L356.65,63.21L363.5,81.59L370.12,80.18L383.83,109.4L390.23,127.3L397.08,155.58L403.71,174.43L410.56,183.86L417.19,198L424.04,203.65L430.89,222.5L437.52,240.41L444.37,247.95L451,247.48\" style=\"vector-effect: non-scaling-stroke; fill: none; stroke: rgb(0, 0, 4); stroke-opacity: 1; stroke-width: 2px; opacity: 1;\"/></g><g class=\"points\"/><g class=\"text\"/></g><g class=\"trace scatter trace437992\" style=\"stroke-miterlimit: 2; opacity: 1;\"><g class=\"fills\"/><g class=\"errorbars\"/><g class=\"lines\"><path class=\"js-line\" d=\"M0,169.72L13.48,155.58L20.33,155.58L27.18,148.51L33.81,148.51L40.66,148.51L47.29,144.98L54.14,141.44L60.99,139.68L67.4,141.44L74.25,137.91L80.88,130.84L87.73,120.24L94.35,112.46L101.2,109.63L108.05,106.1L114.68,106.1L121.53,106.1L128.16,99.03L135.01,99.03L141.86,95.49L148.05,100.44L154.9,86.3L175.01,56.61L181.86,52.37L188.71,43.18L195.34,36.82L202.19,43.89L208.82,38.94L215.67,41.06L222.52,46.01L228.7,48.13L235.55,46.01L242.18,46.01L249.03,33.99L255.66,35.41L262.51,35.41L269.36,33.29L275.99,38.94L289.47,46.01L296.32,42.48L303.17,38.94L309.36,49.55L316.21,56.61L322.84,35.41L329.69,29.75L336.32,28.34L343.17,25.51L350.02,24.8L356.65,37.53L363.5,56.61L376.98,70.75L383.83,95.49L390.23,109.63L397.08,127.3L410.56,155.58L417.19,163.36L424.04,173.25L430.89,194.46L437.52,205.06L444.37,219.2L451,220.62\" style=\"vector-effect: non-scaling-stroke; fill: none; stroke: rgb(24, 15, 61); stroke-opacity: 1; stroke-width: 2px; opacity: 1; stroke-dasharray: 3px, 3px;\"/></g><g class=\"points\"/><g class=\"text\"/></g><g class=\"trace scatter traceb81342\" style=\"stroke-miterlimit: 2; opacity: 1;\"><g class=\"fills\"/><g class=\"errorbars\"/><g class=\"lines\"><path class=\"js-line\" d=\"M0,169.72L6.85,161.73L13.48,156.02L20.33,153.16L27.18,148.02L33.81,150.02L40.66,148.02L47.29,148.88L54.14,144.6L60.99,142.32L67.4,146.31L74.25,141.75L80.88,133.18L87.73,124.62L94.35,113.2L108.05,107.49L114.68,110.35L121.53,113.2L128.16,101.78L135.01,101.78L141.86,97.22L148.05,100.64L154.9,85.23L161.53,79.52L168.38,67.53L175.01,59.54L181.86,54.68L188.71,50.12L195.34,44.69L202.19,53.26L208.82,47.26L215.67,47.55L222.52,53.26L228.7,56.11L235.55,50.4L242.18,47.55L249.03,41.84L255.66,38.98L262.51,40.7L269.36,38.98L275.99,44.69L282.84,50.4L289.47,49.83L296.32,50.4L303.17,49.83L309.36,53.26L316.21,53.83L322.84,36.13L329.69,25.85L336.32,23L343.17,21.86L350.02,23.28L356.65,33.27L363.5,49.55L370.12,42.12L376.98,53.26L383.83,76.95L390.23,96.07L397.08,101.78L403.71,122.91L410.56,130.33L417.19,141.75L424.04,150.31L430.89,167.44L437.52,181.71L444.37,198.83L451,201.69\" style=\"vector-effect: non-scaling-stroke; fill: none; stroke: rgb(68, 15, 118); stroke-opacity: 1; stroke-width: 2px; opacity: 1; stroke-dasharray: 9px, 9px;\"/></g><g class=\"points\"/><g class=\"text\"/></g><g class=\"trace scatter tracebf2404\" style=\"stroke-miterlimit: 2; opacity: 1;\"><g class=\"fills\"/><g class=\"errorbars\"/><g class=\"lines\"><path class=\"js-line\" d=\"M0,169.72L6.85,163.88L13.48,162.98L20.33,156.24L27.18,151.75L40.66,154L47.29,156.69L54.14,151.75L60.99,149.5L67.4,151.75L74.25,147.71L80.88,140.52L87.73,129.29L94.35,121.2L101.2,118.06L108.05,118.06L114.68,120.3L121.53,125.69L128.16,115.81L135.01,113.56L141.86,112.44L148.05,115.14L154.9,96.94L168.38,77.62L175.01,77.62L188.71,67.96L195.34,67.74L202.19,75.15L208.82,73.13L215.67,69.99L222.52,74.48L228.7,75.38L235.55,71.11L242.18,69.76L249.03,61.9L255.66,57.86L262.51,59.65L269.36,59.65L275.99,67.51L282.84,70.88L289.47,70.88L296.32,73.13L303.17,76.72L309.36,77.62L316.21,73.13L322.84,53.14L329.69,39.44L336.32,37.86L343.17,28.21L350.02,28.21L356.65,39.44L363.5,52.91L370.12,46.18L376.98,50.67L383.83,73.13L390.23,86.61L397.08,84.36L403.71,106.82L410.56,111.32L417.19,111.32L424.04,118.06L430.89,138.27L437.52,150.4L444.37,175.33L451,178.7\" style=\"vector-effect: non-scaling-stroke; fill: none; stroke: rgb(114, 31, 129); stroke-opacity: 1; stroke-width: 2px; opacity: 1; stroke-dasharray: 15px, 15px;\"/></g><g class=\"points\"/><g class=\"text\"/></g><g class=\"trace scatter trace5d619b\" style=\"stroke-miterlimit: 2; opacity: 1;\"><g class=\"fills\"/><g class=\"errorbars\"/><g class=\"lines\"><path class=\"js-line\" d=\"M0,169.72L6.85,165.75L13.48,165.75L20.33,163L27.18,150.48L33.81,161.17L40.66,162.69L47.29,167.28L54.14,160.25L67.4,159.64L74.25,156.59L80.88,148.95L87.73,138.26L94.35,126.05L101.2,129.41L108.05,129.71L114.68,135.21L121.53,141.16L128.16,129.41L135.01,129.71L141.86,126.05L148.05,129.1L154.9,101.77L161.53,90.62L168.38,81.76L175.01,84.82L181.86,81L188.71,66.49L195.34,74.13L202.19,93.98L208.82,74.43L215.67,79.17L222.52,90.32L228.7,93.98L235.55,89.7L242.18,75.66L249.03,58.86L255.66,55.81L262.51,50L269.36,58.86L275.99,78.71L282.84,88.94L289.47,74.13L303.17,104.67L309.36,86.35L316.21,75.66L322.84,42.06L329.69,28.63L336.32,20.68L343.17,13.05L350.02,20.68L356.65,31.22L363.5,43.59L370.12,28.32L376.98,32.9L383.83,55.81L390.23,64.97L397.08,47.25L403.71,74.13L410.56,69.55L417.19,56.42L430.89,112.3L437.52,119.94L444.37,142.84L451,153.07\" style=\"vector-effect: non-scaling-stroke; fill: none; stroke: rgb(158, 47, 127); stroke-opacity: 1; stroke-width: 2px; opacity: 1; stroke-dasharray: 9px, 3px, 3px, 3px;\"/></g><g class=\"points\"/><g class=\"text\"/></g></g></g><g class=\"overplot\"/><path class=\"xlines-above crisp\" d=\"M59,291.5H511\" style=\"fill: none; stroke-width: 1px; stroke: rgb(36, 36, 36); stroke-opacity: 1;\"/><path class=\"ylines-above crisp\" d=\"M59.5,30V291\" style=\"fill: none; stroke-width: 1px; stroke: rgb(36, 36, 36); stroke-opacity: 1;\"/><g class=\"overlines-above\"/><g class=\"xaxislayer-above\"><path class=\"xtick ticks crisp\" d=\"M0,292v5\" transform=\"translate(114.36,0)\" style=\"stroke: rgb(68, 68, 68); stroke-opacity: 1; stroke-width: 1px;\"/><path class=\"xtick ticks crisp\" d=\"M0,292v5\" transform=\"translate(195.23,0)\" style=\"stroke: rgb(68, 68, 68); stroke-opacity: 1; stroke-width: 1px;\"/><path class=\"xtick ticks crisp\" d=\"M0,292v5\" transform=\"translate(275.89,0)\" style=\"stroke: rgb(68, 68, 68); stroke-opacity: 1; stroke-width: 1px;\"/><path class=\"xtick ticks crisp\" d=\"M0,292v5\" transform=\"translate(356.54,0)\" style=\"stroke: rgb(68, 68, 68); stroke-opacity: 1; stroke-width: 1px;\"/><path class=\"xtick ticks crisp\" d=\"M0,292v5\" transform=\"translate(437.2,0)\" style=\"stroke: rgb(68, 68, 68); stroke-opacity: 1; stroke-width: 1px;\"/><g class=\"xtick\"><text text-anchor=\"middle\" x=\"0\" y=\"311.4\" transform=\"translate(114.36,0)\" style=\"font-family: 'Open Sans', verdana, arial, sans-serif; font-size: 12px; fill: rgb(36, 36, 36); fill-opacity: 1; white-space: pre; opacity: 1;\">2004</text></g><g class=\"xtick\"><text text-anchor=\"middle\" x=\"0\" y=\"311.4\" style=\"font-family: 'Open Sans', verdana, arial, sans-serif; font-size: 12px; fill: rgb(36, 36, 36); fill-opacity: 1; white-space: pre; opacity: 1;\" transform=\"translate(195.23,0)\">2005</text></g><g class=\"xtick\"><text text-anchor=\"middle\" x=\"0\" y=\"311.4\" style=\"font-family: 'Open Sans', verdana, arial, sans-serif; font-size: 12px; fill: rgb(36, 36, 36); fill-opacity: 1; white-space: pre; opacity: 1;\" transform=\"translate(275.89,0)\">2006</text></g><g class=\"xtick\"><text text-anchor=\"middle\" x=\"0\" y=\"311.4\" style=\"font-family: 'Open Sans', verdana, arial, sans-serif; font-size: 12px; fill: rgb(36, 36, 36); fill-opacity: 1; white-space: pre; opacity: 1;\" transform=\"translate(356.54,0)\">2007</text></g><g class=\"xtick\"><text text-anchor=\"middle\" x=\"0\" y=\"311.4\" style=\"font-family: 'Open Sans', verdana, arial, sans-serif; font-size: 12px; fill: rgb(36, 36, 36); fill-opacity: 1; white-space: pre; opacity: 1;\" transform=\"translate(437.2,0)\">2008</text></g></g><g class=\"yaxislayer-above\"><path class=\"ytick ticks crisp\" d=\"M59,0h-5\" transform=\"translate(0,247.79)\" style=\"stroke: rgb(68, 68, 68); stroke-opacity: 1; stroke-width: 1px;\"/><path class=\"ytick ticks crisp\" d=\"M59,0h-5\" transform=\"translate(0,199.72)\" style=\"stroke: rgb(68, 68, 68); stroke-opacity: 1; stroke-width: 1px;\"/><path class=\"ytick ticks crisp\" d=\"M59,0h-5\" transform=\"translate(0,151.65)\" style=\"stroke: rgb(68, 68, 68); stroke-opacity: 1; stroke-width: 1px;\"/><path class=\"ytick ticks crisp\" d=\"M59,0h-5\" transform=\"translate(0,103.58)\" style=\"stroke: rgb(68, 68, 68); stroke-opacity: 1; stroke-width: 1px;\"/><path class=\"ytick ticks crisp\" d=\"M59,0h-5\" transform=\"translate(0,55.510000000000005)\" style=\"stroke: rgb(68, 68, 68); stroke-opacity: 1; stroke-width: 1px;\"/><g class=\"ytick\"><text text-anchor=\"end\" x=\"51.6\" y=\"4.199999999999999\" transform=\"translate(0,247.79)\" style=\"font-family: 'Open Sans', verdana, arial, sans-serif; font-size: 12px; fill: rgb(36, 36, 36); fill-opacity: 1; white-space: pre; opacity: 1;\">0.8</text></g><g class=\"ytick\"><text text-anchor=\"end\" x=\"51.6\" y=\"4.199999999999999\" style=\"font-family: 'Open Sans', verdana, arial, sans-serif; font-size: 12px; fill: rgb(36, 36, 36); fill-opacity: 1; white-space: pre; opacity: 1;\" transform=\"translate(0,199.72)\">1</text></g><g class=\"ytick\"><text text-anchor=\"end\" x=\"51.6\" y=\"4.199999999999999\" style=\"font-family: 'Open Sans', verdana, arial, sans-serif; font-size: 12px; fill: rgb(36, 36, 36); fill-opacity: 1; white-space: pre; opacity: 1;\" transform=\"translate(0,151.65)\">1.2</text></g><g class=\"ytick\"><text text-anchor=\"end\" x=\"51.6\" y=\"4.199999999999999\" style=\"font-family: 'Open Sans', verdana, arial, sans-serif; font-size: 12px; fill: rgb(36, 36, 36); fill-opacity: 1; white-space: pre; opacity: 1;\" transform=\"translate(0,103.58)\">1.4</text></g><g class=\"ytick\"><text text-anchor=\"end\" x=\"51.6\" y=\"4.199999999999999\" style=\"font-family: 'Open Sans', verdana, arial, sans-serif; font-size: 12px; fill: rgb(36, 36, 36); fill-opacity: 1; white-space: pre; opacity: 1;\" transform=\"translate(0,55.510000000000005)\">1.6</text></g></g><g class=\"overaxes-above\"/></g></g><g class=\"polarlayer\"/><g class=\"smithlayer\"/><g class=\"ternarylayer\"/><g class=\"geolayer\"/><g class=\"funnelarealayer\"/><g class=\"pielayer\"/><g class=\"iciclelayer\"/><g class=\"treemaplayer\"/><g class=\"sunburstlayer\"/><g class=\"glimages\"/><defs id=\"topdefs-5ffb2c\"><g class=\"clips\"/><clipPath id=\"legend5ffb2c\"><rect width=\"70\" height=\"124\" x=\"0\" y=\"0\"/></clipPath></defs><g class=\"layer-above\"><g class=\"imagelayer\"/><g class=\"shapelayer\"/></g><g class=\"infolayer\"><g class=\"legend\" pointer-events=\"all\" transform=\"translate(520.02,30)\"><rect class=\"bg\" shape-rendering=\"crispEdges\" width=\"70\" height=\"124\" x=\"0\" y=\"0\" style=\"stroke: rgb(68, 68, 68); stroke-opacity: 1; fill: rgb(255, 255, 255); fill-opacity: 1; stroke-width: 0px;\"/><g class=\"scrollbox\" transform=\"\" clip-path=\"url(#legend5ffb2c)\"><text class=\"legendtitletext\" text-anchor=\"start\" x=\"2\" y=\"18.2\" style=\"font-family: 'Open Sans', verdana, arial, sans-serif; font-size: 14px; fill: rgb(36, 36, 36); fill-opacity: 1; white-space: pre;\">percentile</text><g class=\"groups\" transform=\"\"><g class=\"traces\" transform=\"translate(0,32.7)\" style=\"opacity: 1;\"><text class=\"legendtext\" text-anchor=\"start\" x=\"40\" y=\"4.680000000000001\" style=\"font-family: 'Open Sans', verdana, arial, sans-serif; font-size: 12px; fill: rgb(36, 36, 36); fill-opacity: 1; white-space: pre;\">10</text><g class=\"layers\" style=\"opacity: 1;\"><g class=\"legendfill\"/><g class=\"legendlines\"><path class=\"js-line\" d=\"M5,0h30\" style=\"fill: none; stroke: rgb(0, 0, 4); stroke-opacity: 1; stroke-width: 2px;\"/></g><g class=\"legendsymbols\"><g class=\"legendpoints\"/></g></g><rect class=\"legendtoggle\" x=\"0\" y=\"-9.5\" width=\"53.734375\" height=\"19\" style=\"fill: rgb(0, 0, 0); fill-opacity: 0;\"/></g></g><g class=\"groups\" transform=\"\"><g class=\"traces\" transform=\"translate(0,51.7)\" style=\"opacity: 1;\"><text class=\"legendtext\" text-anchor=\"start\" x=\"40\" y=\"4.680000000000001\" style=\"font-family: 'Open Sans', verdana, arial, sans-serif; font-size: 12px; fill: rgb(36, 36, 36); fill-opacity: 1; white-space: pre;\">30</text><g class=\"layers\" style=\"opacity: 1;\"><g class=\"legendfill\"/><g class=\"legendlines\"><path class=\"js-line\" d=\"M5,0h30\" style=\"fill: none; stroke: rgb(24, 15, 61); stroke-opacity: 1; stroke-dasharray: 3px, 3px; stroke-width: 2px;\"/></g><g class=\"legendsymbols\"><g class=\"legendpoints\"/></g></g><rect class=\"legendtoggle\" x=\"0\" y=\"-9.5\" width=\"53.734375\" height=\"19\" style=\"fill: rgb(0, 0, 0); fill-opacity: 0;\"/></g></g><g class=\"groups\" transform=\"\"><g class=\"traces\" transform=\"translate(0,70.7)\" style=\"opacity: 1;\"><text class=\"legendtext\" text-anchor=\"start\" x=\"40\" y=\"4.680000000000001\" style=\"font-family: 'Open Sans', verdana, arial, sans-serif; font-size: 12px; fill: rgb(36, 36, 36); fill-opacity: 1; white-space: pre;\">50</text><g class=\"layers\" style=\"opacity: 1;\"><g class=\"legendfill\"/><g class=\"legendlines\"><path class=\"js-line\" d=\"M5,0h30\" style=\"fill: none; stroke: rgb(68, 15, 118); stroke-opacity: 1; stroke-dasharray: 9px, 9px; stroke-width: 2px;\"/></g><g class=\"legendsymbols\"><g class=\"legendpoints\"/></g></g><rect class=\"legendtoggle\" x=\"0\" y=\"-9.5\" width=\"53.734375\" height=\"19\" style=\"fill: rgb(0, 0, 0); fill-opacity: 0;\"/></g></g><g class=\"groups\" transform=\"\"><g class=\"traces\" transform=\"translate(0,89.7)\" style=\"opacity: 1;\"><text class=\"legendtext\" text-anchor=\"start\" x=\"40\" y=\"4.680000000000001\" style=\"font-family: 'Open Sans', verdana, arial, sans-serif; font-size: 12px; fill: rgb(36, 36, 36); fill-opacity: 1; white-space: pre;\">70</text><g class=\"layers\" style=\"opacity: 1;\"><g class=\"legendfill\"/><g class=\"legendlines\"><path class=\"js-line\" d=\"M5,0h30\" style=\"fill: none; stroke: rgb(114, 31, 129); stroke-opacity: 1; stroke-dasharray: 15px, 15px; stroke-width: 2px;\"/></g><g class=\"legendsymbols\"><g class=\"legendpoints\"/></g></g><rect class=\"legendtoggle\" x=\"0\" y=\"-9.5\" width=\"53.734375\" height=\"19\" style=\"fill: rgb(0, 0, 0); fill-opacity: 0;\"/></g></g><g class=\"groups\" transform=\"\"><g class=\"traces\" transform=\"translate(0,108.7)\" style=\"opacity: 1;\"><text class=\"legendtext\" text-anchor=\"start\" x=\"40\" y=\"4.680000000000001\" style=\"font-family: 'Open Sans', verdana, arial, sans-serif; font-size: 12px; fill: rgb(36, 36, 36); fill-opacity: 1; white-space: pre;\">90</text><g class=\"layers\" style=\"opacity: 1;\"><g class=\"legendfill\"/><g class=\"legendlines\"><path class=\"js-line\" d=\"M5,0h30\" style=\"fill: none; stroke: rgb(158, 47, 127); stroke-opacity: 1; stroke-dasharray: 9px, 3px, 3px, 3px; stroke-width: 2px;\"/></g><g class=\"legendsymbols\"><g class=\"legendpoints\"/></g></g><rect class=\"legendtoggle\" x=\"0\" y=\"-9.5\" width=\"53.734375\" height=\"19\" style=\"fill: rgb(0, 0, 0); fill-opacity: 0;\"/></g></g></g><rect class=\"scrollbar\" rx=\"20\" ry=\"3\" width=\"0\" height=\"0\" x=\"0\" y=\"0\" style=\"fill: rgb(128, 139, 164); fill-opacity: 1;\"/></g><g class=\"g-gtitle\"><text class=\"gtitle\" x=\"300\" y=\"15\" text-anchor=\"middle\" dy=\"0em\" style=\"font-family: 'Open Sans', verdana, arial, sans-serif; font-size: 17px; fill: rgb(36, 36, 36); opacity: 1; font-weight: normal; white-space: pre;\">SF House Sale Prices, Inflation Adjusted</text></g><g class=\"g-xtitle\"/><g class=\"g-ytitle\" transform=\"translate(5.1279296875,0)\"><text class=\"ytitle\" transform=\"rotate(-90,9.871875000000003,160.5)\" x=\"9.871875000000003\" y=\"160.5\" text-anchor=\"middle\" style=\"font-family: 'Open Sans', verdana, arial, sans-serif; font-size: 14px; fill: rgb(36, 36, 36); opacity: 1; font-weight: normal; white-space: pre;\">sale price relatve to 2003</text></g></g></svg>"
      ]
     },
     "metadata": {},
     "output_type": "display_data"
    }
   ],
   "source": [
    "infl_2003 = [1, 2.66, 6.14, 9.57, 12.69,17.01, 16.60]\n",
    "\n",
    "fig = px.line(rel_percentiles, x='date', y='rel_price', \n",
    "              line_dash='percentile', color='percentile',\n",
    "              color_discrete_sequence=plotly.express.colors.sequential.Magma,\n",
    "              title='SF House Sale Prices, Inflation Adjusted',\n",
    "              labels=dict(date='',rel_price='sale price relatve to 2003'),\n",
    "              width=600, height=350)\n",
    "margin(fig, t=30)"
   ]
  },
  {
   "cell_type": "markdown",
   "metadata": {},
   "source": [
    "When we follow the 10th percentile line plot over time, we see that it\n",
    "increases quickly in 2005, stays high relative to its 2003 value for a few\n",
    "years, and then drops earlier and faster than the other percentiles. This tells us that the less expensive houses, such as starter homes, suffered greater volatility and lost much more value in the housing market crash.\n",
    "In contrast, higher-end homes were affected less by the crash; at the end of 2008, the 90th percentile home prices were still higher than 2003 prices.\n",
    "Applying this bit of domain knowledge helps reveal trends in the data that we might otherwise miss, and shows how we can use the data design to improve a visualization.\n",
    "\n",
    "The housing data are an example of observational data that form a complete census in a geographic region over a specific period of time. Next we consider another observational study where self-selection and the time period impact the visualization.  "
   ]
  },
  {
   "cell_type": "markdown",
   "metadata": {},
   "source": [
    "## Observational Studies\n",
    "\n",
    "We need to be particularly cautious with data that do not form a census or scientific sample.\n",
    "We should also take care with cross-sectional studies, whether from a census or scientific sample. For this example, we revisit the data from the Cherry Blossom Ten-Mile Run.\n",
    "Earlier in this chapter, we made a smoothed curve to examine the relationship between race time and age.\n",
    "We reproduce this plot:"
   ]
  },
  {
   "cell_type": "code",
   "execution_count": 6,
   "metadata": {
    "tags": [
     "hide-input"
    ]
   },
   "outputs": [
    {
     "data": {
      "application/vnd.plotly.v1+json": {
       "config": {
        "plotlyServerURL": "https://plot.ly"
       },
       "data": [
        {
         "hovertemplate": "Runner Age (5-yr)=%{x}<br>Average Race Time (sec)=%{y}<extra></extra>",
         "legendgroup": "",
         "line": {
          "color": "#1F77B4",
          "dash": "solid"
         },
         "marker": {
          "symbol": "circle"
         },
         "mode": "lines+markers",
         "name": "",
         "orientation": "v",
         "showlegend": false,
         "type": "scatter",
         "x": [
          15,
          20,
          25,
          30,
          35,
          40,
          45,
          50,
          55,
          60,
          65,
          70,
          75
         ],
         "xaxis": "x",
         "y": [
          4957.632850241546,
          5251.547776442308,
          5412.690494690495,
          5423.640667378976,
          5432.876569423929,
          5392.896788241698,
          5425.743173431734,
          5562.478145695364,
          5779.1868162692845,
          5948.924603174603,
          6165.36253776435,
          6351.75,
          6794.916666666667
         ],
         "yaxis": "y"
        }
       ],
       "layout": {
        "height": 250,
        "legend": {
         "tracegroupgap": 0
        },
        "template": {
         "data": {
          "bar": [
           {
            "error_x": {
             "color": "rgb(36,36,36)"
            },
            "error_y": {
             "color": "rgb(36,36,36)"
            },
            "marker": {
             "line": {
              "color": "white",
              "width": 0.5
             },
             "pattern": {
              "fillmode": "overlay",
              "size": 10,
              "solidity": 0.2
             }
            },
            "type": "bar"
           }
          ],
          "barpolar": [
           {
            "marker": {
             "line": {
              "color": "white",
              "width": 0.5
             },
             "pattern": {
              "fillmode": "overlay",
              "size": 10,
              "solidity": 0.2
             }
            },
            "type": "barpolar"
           }
          ],
          "carpet": [
           {
            "aaxis": {
             "endlinecolor": "rgb(36,36,36)",
             "gridcolor": "white",
             "linecolor": "white",
             "minorgridcolor": "white",
             "startlinecolor": "rgb(36,36,36)"
            },
            "baxis": {
             "endlinecolor": "rgb(36,36,36)",
             "gridcolor": "white",
             "linecolor": "white",
             "minorgridcolor": "white",
             "startlinecolor": "rgb(36,36,36)"
            },
            "type": "carpet"
           }
          ],
          "choropleth": [
           {
            "colorbar": {
             "outlinewidth": 1,
             "tickcolor": "rgb(36,36,36)",
             "ticks": "outside"
            },
            "type": "choropleth"
           }
          ],
          "contour": [
           {
            "colorbar": {
             "outlinewidth": 1,
             "tickcolor": "rgb(36,36,36)",
             "ticks": "outside"
            },
            "colorscale": [
             [
              0,
              "#440154"
             ],
             [
              0.1111111111111111,
              "#482878"
             ],
             [
              0.2222222222222222,
              "#3e4989"
             ],
             [
              0.3333333333333333,
              "#31688e"
             ],
             [
              0.4444444444444444,
              "#26828e"
             ],
             [
              0.5555555555555556,
              "#1f9e89"
             ],
             [
              0.6666666666666666,
              "#35b779"
             ],
             [
              0.7777777777777778,
              "#6ece58"
             ],
             [
              0.8888888888888888,
              "#b5de2b"
             ],
             [
              1,
              "#fde725"
             ]
            ],
            "type": "contour"
           }
          ],
          "contourcarpet": [
           {
            "colorbar": {
             "outlinewidth": 1,
             "tickcolor": "rgb(36,36,36)",
             "ticks": "outside"
            },
            "type": "contourcarpet"
           }
          ],
          "heatmap": [
           {
            "colorbar": {
             "outlinewidth": 1,
             "tickcolor": "rgb(36,36,36)",
             "ticks": "outside"
            },
            "colorscale": [
             [
              0,
              "#440154"
             ],
             [
              0.1111111111111111,
              "#482878"
             ],
             [
              0.2222222222222222,
              "#3e4989"
             ],
             [
              0.3333333333333333,
              "#31688e"
             ],
             [
              0.4444444444444444,
              "#26828e"
             ],
             [
              0.5555555555555556,
              "#1f9e89"
             ],
             [
              0.6666666666666666,
              "#35b779"
             ],
             [
              0.7777777777777778,
              "#6ece58"
             ],
             [
              0.8888888888888888,
              "#b5de2b"
             ],
             [
              1,
              "#fde725"
             ]
            ],
            "type": "heatmap"
           }
          ],
          "heatmapgl": [
           {
            "colorbar": {
             "outlinewidth": 1,
             "tickcolor": "rgb(36,36,36)",
             "ticks": "outside"
            },
            "colorscale": [
             [
              0,
              "#440154"
             ],
             [
              0.1111111111111111,
              "#482878"
             ],
             [
              0.2222222222222222,
              "#3e4989"
             ],
             [
              0.3333333333333333,
              "#31688e"
             ],
             [
              0.4444444444444444,
              "#26828e"
             ],
             [
              0.5555555555555556,
              "#1f9e89"
             ],
             [
              0.6666666666666666,
              "#35b779"
             ],
             [
              0.7777777777777778,
              "#6ece58"
             ],
             [
              0.8888888888888888,
              "#b5de2b"
             ],
             [
              1,
              "#fde725"
             ]
            ],
            "type": "heatmapgl"
           }
          ],
          "histogram": [
           {
            "marker": {
             "line": {
              "color": "white",
              "width": 0.6
             }
            },
            "type": "histogram"
           }
          ],
          "histogram2d": [
           {
            "colorbar": {
             "outlinewidth": 1,
             "tickcolor": "rgb(36,36,36)",
             "ticks": "outside"
            },
            "colorscale": [
             [
              0,
              "#440154"
             ],
             [
              0.1111111111111111,
              "#482878"
             ],
             [
              0.2222222222222222,
              "#3e4989"
             ],
             [
              0.3333333333333333,
              "#31688e"
             ],
             [
              0.4444444444444444,
              "#26828e"
             ],
             [
              0.5555555555555556,
              "#1f9e89"
             ],
             [
              0.6666666666666666,
              "#35b779"
             ],
             [
              0.7777777777777778,
              "#6ece58"
             ],
             [
              0.8888888888888888,
              "#b5de2b"
             ],
             [
              1,
              "#fde725"
             ]
            ],
            "type": "histogram2d"
           }
          ],
          "histogram2dcontour": [
           {
            "colorbar": {
             "outlinewidth": 1,
             "tickcolor": "rgb(36,36,36)",
             "ticks": "outside"
            },
            "colorscale": [
             [
              0,
              "#440154"
             ],
             [
              0.1111111111111111,
              "#482878"
             ],
             [
              0.2222222222222222,
              "#3e4989"
             ],
             [
              0.3333333333333333,
              "#31688e"
             ],
             [
              0.4444444444444444,
              "#26828e"
             ],
             [
              0.5555555555555556,
              "#1f9e89"
             ],
             [
              0.6666666666666666,
              "#35b779"
             ],
             [
              0.7777777777777778,
              "#6ece58"
             ],
             [
              0.8888888888888888,
              "#b5de2b"
             ],
             [
              1,
              "#fde725"
             ]
            ],
            "type": "histogram2dcontour"
           }
          ],
          "mesh3d": [
           {
            "colorbar": {
             "outlinewidth": 1,
             "tickcolor": "rgb(36,36,36)",
             "ticks": "outside"
            },
            "type": "mesh3d"
           }
          ],
          "parcoords": [
           {
            "line": {
             "colorbar": {
              "outlinewidth": 1,
              "tickcolor": "rgb(36,36,36)",
              "ticks": "outside"
             }
            },
            "type": "parcoords"
           }
          ],
          "pie": [
           {
            "automargin": true,
            "type": "pie"
           }
          ],
          "scatter": [
           {
            "marker": {
             "colorbar": {
              "outlinewidth": 1,
              "tickcolor": "rgb(36,36,36)",
              "ticks": "outside"
             }
            },
            "type": "scatter"
           }
          ],
          "scatter3d": [
           {
            "line": {
             "colorbar": {
              "outlinewidth": 1,
              "tickcolor": "rgb(36,36,36)",
              "ticks": "outside"
             }
            },
            "marker": {
             "colorbar": {
              "outlinewidth": 1,
              "tickcolor": "rgb(36,36,36)",
              "ticks": "outside"
             }
            },
            "type": "scatter3d"
           }
          ],
          "scattercarpet": [
           {
            "marker": {
             "colorbar": {
              "outlinewidth": 1,
              "tickcolor": "rgb(36,36,36)",
              "ticks": "outside"
             }
            },
            "type": "scattercarpet"
           }
          ],
          "scattergeo": [
           {
            "marker": {
             "colorbar": {
              "outlinewidth": 1,
              "tickcolor": "rgb(36,36,36)",
              "ticks": "outside"
             }
            },
            "type": "scattergeo"
           }
          ],
          "scattergl": [
           {
            "marker": {
             "colorbar": {
              "outlinewidth": 1,
              "tickcolor": "rgb(36,36,36)",
              "ticks": "outside"
             }
            },
            "type": "scattergl"
           }
          ],
          "scattermapbox": [
           {
            "marker": {
             "colorbar": {
              "outlinewidth": 1,
              "tickcolor": "rgb(36,36,36)",
              "ticks": "outside"
             }
            },
            "type": "scattermapbox"
           }
          ],
          "scatterpolar": [
           {
            "marker": {
             "colorbar": {
              "outlinewidth": 1,
              "tickcolor": "rgb(36,36,36)",
              "ticks": "outside"
             }
            },
            "type": "scatterpolar"
           }
          ],
          "scatterpolargl": [
           {
            "marker": {
             "colorbar": {
              "outlinewidth": 1,
              "tickcolor": "rgb(36,36,36)",
              "ticks": "outside"
             }
            },
            "type": "scatterpolargl"
           }
          ],
          "scatterternary": [
           {
            "marker": {
             "colorbar": {
              "outlinewidth": 1,
              "tickcolor": "rgb(36,36,36)",
              "ticks": "outside"
             }
            },
            "type": "scatterternary"
           }
          ],
          "surface": [
           {
            "colorbar": {
             "outlinewidth": 1,
             "tickcolor": "rgb(36,36,36)",
             "ticks": "outside"
            },
            "colorscale": [
             [
              0,
              "#440154"
             ],
             [
              0.1111111111111111,
              "#482878"
             ],
             [
              0.2222222222222222,
              "#3e4989"
             ],
             [
              0.3333333333333333,
              "#31688e"
             ],
             [
              0.4444444444444444,
              "#26828e"
             ],
             [
              0.5555555555555556,
              "#1f9e89"
             ],
             [
              0.6666666666666666,
              "#35b779"
             ],
             [
              0.7777777777777778,
              "#6ece58"
             ],
             [
              0.8888888888888888,
              "#b5de2b"
             ],
             [
              1,
              "#fde725"
             ]
            ],
            "type": "surface"
           }
          ],
          "table": [
           {
            "cells": {
             "fill": {
              "color": "rgb(237,237,237)"
             },
             "line": {
              "color": "white"
             }
            },
            "header": {
             "fill": {
              "color": "rgb(217,217,217)"
             },
             "line": {
              "color": "white"
             }
            },
            "type": "table"
           }
          ]
         },
         "layout": {
          "annotationdefaults": {
           "arrowhead": 0,
           "arrowwidth": 1
          },
          "autosize": true,
          "autotypenumbers": "strict",
          "coloraxis": {
           "colorbar": {
            "outlinewidth": 1,
            "tickcolor": "rgb(36,36,36)",
            "ticks": "outside"
           }
          },
          "colorscale": {
           "diverging": [
            [
             0,
             "rgb(103,0,31)"
            ],
            [
             0.1,
             "rgb(178,24,43)"
            ],
            [
             0.2,
             "rgb(214,96,77)"
            ],
            [
             0.3,
             "rgb(244,165,130)"
            ],
            [
             0.4,
             "rgb(253,219,199)"
            ],
            [
             0.5,
             "rgb(247,247,247)"
            ],
            [
             0.6,
             "rgb(209,229,240)"
            ],
            [
             0.7,
             "rgb(146,197,222)"
            ],
            [
             0.8,
             "rgb(67,147,195)"
            ],
            [
             0.9,
             "rgb(33,102,172)"
            ],
            [
             1,
             "rgb(5,48,97)"
            ]
           ],
           "sequential": [
            [
             0,
             "#440154"
            ],
            [
             0.1111111111111111,
             "#482878"
            ],
            [
             0.2222222222222222,
             "#3e4989"
            ],
            [
             0.3333333333333333,
             "#31688e"
            ],
            [
             0.4444444444444444,
             "#26828e"
            ],
            [
             0.5555555555555556,
             "#1f9e89"
            ],
            [
             0.6666666666666666,
             "#35b779"
            ],
            [
             0.7777777777777778,
             "#6ece58"
            ],
            [
             0.8888888888888888,
             "#b5de2b"
            ],
            [
             1,
             "#fde725"
            ]
           ],
           "sequentialminus": [
            [
             0,
             "#440154"
            ],
            [
             0.1111111111111111,
             "#482878"
            ],
            [
             0.2222222222222222,
             "#3e4989"
            ],
            [
             0.3333333333333333,
             "#31688e"
            ],
            [
             0.4444444444444444,
             "#26828e"
            ],
            [
             0.5555555555555556,
             "#1f9e89"
            ],
            [
             0.6666666666666666,
             "#35b779"
            ],
            [
             0.7777777777777778,
             "#6ece58"
            ],
            [
             0.8888888888888888,
             "#b5de2b"
            ],
            [
             1,
             "#fde725"
            ]
           ]
          },
          "colorway": [
           "#1F77B4",
           "#FF7F0E",
           "#2CA02C",
           "#D62728",
           "#9467BD",
           "#8C564B",
           "#E377C2",
           "#7F7F7F",
           "#BCBD22",
           "#17BECF"
          ],
          "font": {
           "color": "rgb(36,36,36)"
          },
          "geo": {
           "bgcolor": "white",
           "lakecolor": "white",
           "landcolor": "white",
           "showlakes": true,
           "showland": true,
           "subunitcolor": "white"
          },
          "height": 250,
          "hoverlabel": {
           "align": "left"
          },
          "hovermode": "closest",
          "mapbox": {
           "style": "light"
          },
          "margin": {
           "b": 10,
           "l": 10,
           "r": 10,
           "t": 10
          },
          "paper_bgcolor": "white",
          "plot_bgcolor": "white",
          "polar": {
           "angularaxis": {
            "gridcolor": "rgb(232,232,232)",
            "linecolor": "rgb(36,36,36)",
            "showgrid": false,
            "showline": true,
            "ticks": "outside"
           },
           "bgcolor": "white",
           "radialaxis": {
            "gridcolor": "rgb(232,232,232)",
            "linecolor": "rgb(36,36,36)",
            "showgrid": false,
            "showline": true,
            "ticks": "outside"
           }
          },
          "scene": {
           "xaxis": {
            "backgroundcolor": "white",
            "gridcolor": "rgb(232,232,232)",
            "gridwidth": 2,
            "linecolor": "rgb(36,36,36)",
            "showbackground": true,
            "showgrid": false,
            "showline": true,
            "ticks": "outside",
            "zeroline": false,
            "zerolinecolor": "rgb(36,36,36)"
           },
           "yaxis": {
            "backgroundcolor": "white",
            "gridcolor": "rgb(232,232,232)",
            "gridwidth": 2,
            "linecolor": "rgb(36,36,36)",
            "showbackground": true,
            "showgrid": false,
            "showline": true,
            "ticks": "outside",
            "zeroline": false,
            "zerolinecolor": "rgb(36,36,36)"
           },
           "zaxis": {
            "backgroundcolor": "white",
            "gridcolor": "rgb(232,232,232)",
            "gridwidth": 2,
            "linecolor": "rgb(36,36,36)",
            "showbackground": true,
            "showgrid": false,
            "showline": true,
            "ticks": "outside",
            "zeroline": false,
            "zerolinecolor": "rgb(36,36,36)"
           }
          },
          "shapedefaults": {
           "fillcolor": "black",
           "line": {
            "width": 0
           },
           "opacity": 0.3
          },
          "ternary": {
           "aaxis": {
            "gridcolor": "rgb(232,232,232)",
            "linecolor": "rgb(36,36,36)",
            "showgrid": false,
            "showline": true,
            "ticks": "outside"
           },
           "baxis": {
            "gridcolor": "rgb(232,232,232)",
            "linecolor": "rgb(36,36,36)",
            "showgrid": false,
            "showline": true,
            "ticks": "outside"
           },
           "bgcolor": "white",
           "caxis": {
            "gridcolor": "rgb(232,232,232)",
            "linecolor": "rgb(36,36,36)",
            "showgrid": false,
            "showline": true,
            "ticks": "outside"
           }
          },
          "title": {
           "x": 0.5,
           "xanchor": "center"
          },
          "width": 350,
          "xaxis": {
           "automargin": true,
           "gridcolor": "rgb(232,232,232)",
           "linecolor": "rgb(36,36,36)",
           "showgrid": true,
           "showline": true,
           "ticks": "outside",
           "title": {
            "standoff": 15
           },
           "zeroline": false,
           "zerolinecolor": "rgb(36,36,36)"
          },
          "yaxis": {
           "automargin": true,
           "gridcolor": "rgb(232,232,232)",
           "linecolor": "rgb(36,36,36)",
           "showgrid": true,
           "showline": true,
           "ticks": "outside",
           "title": {
            "standoff": 15
           },
           "zeroline": false,
           "zerolinecolor": "rgb(36,36,36)"
          }
         }
        },
        "width": 350,
        "xaxis": {
         "anchor": "y",
         "autorange": true,
         "domain": [
          0,
          1
         ],
         "range": [
          10.601023017902813,
          79.39897698209718
         ],
         "title": {
          "text": "Runner Age (5-yr)"
         },
         "type": "linear"
        },
        "yaxis": {
         "anchor": "x",
         "autorange": true,
         "domain": [
          0,
          1
         ],
         "range": [
          4806.299305516697,
          6946.250211391516
         ],
         "title": {
          "text": "Average Race Time (sec)"
         },
         "type": "linear"
        }
       }
      },
      "image/png": "[encoded data removed]",
      "image/svg+xml": [
       "<svg class=\"main-svg\" xmlns=\"http://www.w3.org/2000/svg\" xmlns:xlink=\"http://www.w3.org/1999/xlink\" width=\"350\" height=\"250\" style=\"\" viewBox=\"0 0 350 250\"><rect x=\"0\" y=\"0\" width=\"350\" height=\"250\" style=\"fill: rgb(255, 255, 255); fill-opacity: 1;\"/><defs id=\"defs-a0c462\"><g class=\"clips\"><clipPath id=\"clipa0c462xyplot\" class=\"plotclip\"><rect width=\"269\" height=\"181\"/></clipPath><clipPath class=\"axesclip\" id=\"clipa0c462x\"><rect x=\"71\" y=\"0\" width=\"269\" height=\"250\"/></clipPath><clipPath class=\"axesclip\" id=\"clipa0c462y\"><rect x=\"0\" y=\"10\" width=\"350\" height=\"181\"/></clipPath><clipPath class=\"axesclip\" id=\"clipa0c462xy\"><rect x=\"71\" y=\"10\" width=\"269\" height=\"181\"/></clipPath></g><g class=\"gradients\"/><g class=\"patterns\"/></defs><g class=\"bglayer\"/><g class=\"layer-below\"><g class=\"imagelayer\"/><g class=\"shapelayer\"/></g><g class=\"cartesianlayer\"><g class=\"subplot xy\"><g class=\"layer-subplot\"><g class=\"shapelayer\"/><g class=\"imagelayer\"/></g><g class=\"gridlayer\"><g class=\"x\"><path class=\"xgrid crisp\" transform=\"translate(107.75,0)\" d=\"M0,10v181\" style=\"stroke: rgb(232, 232, 232); stroke-opacity: 1; stroke-width: 1px;\"/><path class=\"xgrid crisp\" transform=\"translate(185.95,0)\" d=\"M0,10v181\" style=\"stroke: rgb(232, 232, 232); stroke-opacity: 1; stroke-width: 1px;\"/><path class=\"xgrid crisp\" transform=\"translate(264.15,0)\" d=\"M0,10v181\" style=\"stroke: rgb(232, 232, 232); stroke-opacity: 1; stroke-width: 1px;\"/></g><g class=\"y\"><path class=\"ygrid crisp\" transform=\"translate(0,174.62)\" d=\"M71,0h269\" style=\"stroke: rgb(232, 232, 232); stroke-opacity: 1; stroke-width: 1px;\"/><path class=\"ygrid crisp\" transform=\"translate(0,132.32999999999998)\" d=\"M71,0h269\" style=\"stroke: rgb(232, 232, 232); stroke-opacity: 1; stroke-width: 1px;\"/><path class=\"ygrid crisp\" transform=\"translate(0,90.04)\" d=\"M71,0h269\" style=\"stroke: rgb(232, 232, 232); stroke-opacity: 1; stroke-width: 1px;\"/><path class=\"ygrid crisp\" transform=\"translate(0,47.74)\" d=\"M71,0h269\" style=\"stroke: rgb(232, 232, 232); stroke-opacity: 1; stroke-width: 1px;\"/></g></g><g class=\"zerolinelayer\"/><path class=\"xlines-below\"/><path class=\"ylines-below\"/><g class=\"overlines-below\"/><g class=\"xaxislayer-below\"/><g class=\"yaxislayer-below\"/><g class=\"overaxes-below\"/><g class=\"plot\" transform=\"translate(71,10)\" clip-path=\"url(#clipa0c462xyplot)\"><g class=\"scatterlayer mlayer\"><g class=\"trace scatter tracebf508f\" style=\"stroke-miterlimit: 2; opacity: 1;\"><g class=\"fills\"/><g class=\"errorbars\"/><g class=\"lines\"><path class=\"js-line\" d=\"M17.2,168.2L36.75,143.34L56.3,129.71L95.4,128L114.95,131.38L134.5,128.61L154.05,117.04L173.6,98.71L193.15,84.36L212.7,66.05L232.25,50.28L251.8,12.8\" style=\"vector-effect: non-scaling-stroke; fill: none; stroke: rgb(31, 119, 180); stroke-opacity: 1; stroke-width: 2px; opacity: 1;\"/></g><g class=\"points\"><path class=\"point\" transform=\"translate(17.2,168.2)\" d=\"M3,0A3,3 0 1,1 0,-3A3,3 0 0,1 3,0Z\" style=\"opacity: 1; stroke-width: 0px; fill: rgb(31, 119, 180); fill-opacity: 1;\"/><path class=\"point\" transform=\"translate(36.75,143.34)\" d=\"M3,0A3,3 0 1,1 0,-3A3,3 0 0,1 3,0Z\" style=\"opacity: 1; stroke-width: 0px; fill: rgb(31, 119, 180); fill-opacity: 1;\"/><path class=\"point\" transform=\"translate(56.3,129.71)\" d=\"M3,0A3,3 0 1,1 0,-3A3,3 0 0,1 3,0Z\" style=\"opacity: 1; stroke-width: 0px; fill: rgb(31, 119, 180); fill-opacity: 1;\"/><path class=\"point\" transform=\"translate(75.85,128.78)\" d=\"M3,0A3,3 0 1,1 0,-3A3,3 0 0,1 3,0Z\" style=\"opacity: 1; stroke-width: 0px; fill: rgb(31, 119, 180); fill-opacity: 1;\"/><path class=\"point\" transform=\"translate(95.4,128)\" d=\"M3,0A3,3 0 1,1 0,-3A3,3 0 0,1 3,0Z\" style=\"opacity: 1; stroke-width: 0px; fill: rgb(31, 119, 180); fill-opacity: 1;\"/><path class=\"point\" transform=\"translate(114.95,131.38)\" d=\"M3,0A3,3 0 1,1 0,-3A3,3 0 0,1 3,0Z\" style=\"opacity: 1; stroke-width: 0px; fill: rgb(31, 119, 180); fill-opacity: 1;\"/><path class=\"point\" transform=\"translate(134.5,128.61)\" d=\"M3,0A3,3 0 1,1 0,-3A3,3 0 0,1 3,0Z\" style=\"opacity: 1; stroke-width: 0px; fill: rgb(31, 119, 180); fill-opacity: 1;\"/><path class=\"point\" transform=\"translate(154.05,117.04)\" d=\"M3,0A3,3 0 1,1 0,-3A3,3 0 0,1 3,0Z\" style=\"opacity: 1; stroke-width: 0px; fill: rgb(31, 119, 180); fill-opacity: 1;\"/><path class=\"point\" transform=\"translate(173.6,98.71)\" d=\"M3,0A3,3 0 1,1 0,-3A3,3 0 0,1 3,0Z\" style=\"opacity: 1; stroke-width: 0px; fill: rgb(31, 119, 180); fill-opacity: 1;\"/><path class=\"point\" transform=\"translate(193.15,84.36)\" d=\"M3,0A3,3 0 1,1 0,-3A3,3 0 0,1 3,0Z\" style=\"opacity: 1; stroke-width: 0px; fill: rgb(31, 119, 180); fill-opacity: 1;\"/><path class=\"point\" transform=\"translate(212.7,66.05)\" d=\"M3,0A3,3 0 1,1 0,-3A3,3 0 0,1 3,0Z\" style=\"opacity: 1; stroke-width: 0px; fill: rgb(31, 119, 180); fill-opacity: 1;\"/><path class=\"point\" transform=\"translate(232.25,50.28)\" d=\"M3,0A3,3 0 1,1 0,-3A3,3 0 0,1 3,0Z\" style=\"opacity: 1; stroke-width: 0px; fill: rgb(31, 119, 180); fill-opacity: 1;\"/><path class=\"point\" transform=\"translate(251.8,12.8)\" d=\"M3,0A3,3 0 1,1 0,-3A3,3 0 0,1 3,0Z\" style=\"opacity: 1; stroke-width: 0px; fill: rgb(31, 119, 180); fill-opacity: 1;\"/></g><g class=\"text\"/></g></g></g><g class=\"overplot\"/><path class=\"xlines-above crisp\" d=\"M70,191.5H340\" style=\"fill: none; stroke-width: 1px; stroke: rgb(36, 36, 36); stroke-opacity: 1;\"/><path class=\"ylines-above crisp\" d=\"M70.5,10V191\" style=\"fill: none; stroke-width: 1px; stroke: rgb(36, 36, 36); stroke-opacity: 1;\"/><g class=\"overlines-above\"/><g class=\"xaxislayer-above\"><path class=\"xtick ticks crisp\" d=\"M0,192v5\" transform=\"translate(107.75,0)\" style=\"stroke: rgb(68, 68, 68); stroke-opacity: 1; stroke-width: 1px;\"/><path class=\"xtick ticks crisp\" d=\"M0,192v5\" transform=\"translate(185.95,0)\" style=\"stroke: rgb(68, 68, 68); stroke-opacity: 1; stroke-width: 1px;\"/><path class=\"xtick ticks crisp\" d=\"M0,192v5\" transform=\"translate(264.15,0)\" style=\"stroke: rgb(68, 68, 68); stroke-opacity: 1; stroke-width: 1px;\"/><g class=\"xtick\"><text text-anchor=\"middle\" x=\"0\" y=\"211.4\" transform=\"translate(107.75,0)\" style=\"font-family: 'Open Sans', verdana, arial, sans-serif; font-size: 12px; fill: rgb(36, 36, 36); fill-opacity: 1; white-space: pre; opacity: 1;\">20</text></g><g class=\"xtick\"><text text-anchor=\"middle\" x=\"0\" y=\"211.4\" style=\"font-family: 'Open Sans', verdana, arial, sans-serif; font-size: 12px; fill: rgb(36, 36, 36); fill-opacity: 1; white-space: pre; opacity: 1;\" transform=\"translate(185.95,0)\">40</text></g><g class=\"xtick\"><text text-anchor=\"middle\" x=\"0\" y=\"211.4\" style=\"font-family: 'Open Sans', verdana, arial, sans-serif; font-size: 12px; fill: rgb(36, 36, 36); fill-opacity: 1; white-space: pre; opacity: 1;\" transform=\"translate(264.15,0)\">60</text></g></g><g class=\"yaxislayer-above\"><path class=\"ytick ticks crisp\" d=\"M70,0h-5\" transform=\"translate(0,174.62)\" style=\"stroke: rgb(68, 68, 68); stroke-opacity: 1; stroke-width: 1px;\"/><path class=\"ytick ticks crisp\" d=\"M70,0h-5\" transform=\"translate(0,132.32999999999998)\" style=\"stroke: rgb(68, 68, 68); stroke-opacity: 1; stroke-width: 1px;\"/><path class=\"ytick ticks crisp\" d=\"M70,0h-5\" transform=\"translate(0,90.04)\" style=\"stroke: rgb(68, 68, 68); stroke-opacity: 1; stroke-width: 1px;\"/><path class=\"ytick ticks crisp\" d=\"M70,0h-5\" transform=\"translate(0,47.74)\" style=\"stroke: rgb(68, 68, 68); stroke-opacity: 1; stroke-width: 1px;\"/><g class=\"ytick\"><text text-anchor=\"end\" x=\"62.6\" y=\"4.199999999999999\" transform=\"translate(0,174.62)\" style=\"font-family: 'Open Sans', verdana, arial, sans-serif; font-size: 12px; fill: rgb(36, 36, 36); fill-opacity: 1; white-space: pre; opacity: 1;\">5000</text></g><g class=\"ytick\"><text text-anchor=\"end\" x=\"62.6\" y=\"4.199999999999999\" style=\"font-family: 'Open Sans', verdana, arial, sans-serif; font-size: 12px; fill: rgb(36, 36, 36); fill-opacity: 1; white-space: pre; opacity: 1;\" transform=\"translate(0,132.32999999999998)\">5500</text></g><g class=\"ytick\"><text text-anchor=\"end\" x=\"62.6\" y=\"4.199999999999999\" style=\"font-family: 'Open Sans', verdana, arial, sans-serif; font-size: 12px; fill: rgb(36, 36, 36); fill-opacity: 1; white-space: pre; opacity: 1;\" transform=\"translate(0,90.04)\">6000</text></g><g class=\"ytick\"><text text-anchor=\"end\" x=\"62.6\" y=\"4.199999999999999\" style=\"font-family: 'Open Sans', verdana, arial, sans-serif; font-size: 12px; fill: rgb(36, 36, 36); fill-opacity: 1; white-space: pre; opacity: 1;\" transform=\"translate(0,47.74)\">6500</text></g></g><g class=\"overaxes-above\"/></g></g><g class=\"polarlayer\"/><g class=\"smithlayer\"/><g class=\"ternarylayer\"/><g class=\"geolayer\"/><g class=\"funnelarealayer\"/><g class=\"pielayer\"/><g class=\"iciclelayer\"/><g class=\"treemaplayer\"/><g class=\"sunburstlayer\"/><g class=\"glimages\"/><defs id=\"topdefs-a0c462\"><g class=\"clips\"/></defs><g class=\"layer-above\"><g class=\"imagelayer\"/><g class=\"shapelayer\"/></g><g class=\"infolayer\"><g class=\"g-gtitle\"/><g class=\"g-xtitle\"><text class=\"xtitle\" x=\"205.5\" y=\"239.70625\" text-anchor=\"middle\" style=\"font-family: 'Open Sans', verdana, arial, sans-serif; font-size: 14px; fill: rgb(36, 36, 36); opacity: 1; font-weight: normal; white-space: pre;\">Runner Age (5-yr)</text></g><g class=\"g-ytitle\" transform=\"translate(4.6591796875,0)\"><text class=\"ytitle\" transform=\"rotate(-90,10.340625000000003,100.5)\" x=\"10.340625000000003\" y=\"100.5\" text-anchor=\"middle\" style=\"font-family: 'Open Sans', verdana, arial, sans-serif; font-size: 14px; fill: rgb(36, 36, 36); opacity: 1; font-weight: normal; white-space: pre;\">Average Race Time (sec)</text></g></g></svg>"
      ]
     },
     "metadata": {},
     "output_type": "display_data"
    }
   ],
   "source": [
    "times = (\n",
    "    runnersOver17.assign(age_5yr=runnersOver17['age'] // 5 * 5)\n",
    "    .groupby('age_5yr')['time'].mean().reset_index()\n",
    ")\n",
    "\n",
    "px.line(times, x='age_5yr', y='time',\n",
    "        labels={'time':\"Average Race Time (sec)\", 'age_5yr':\"Runner Age (5-yr)\"},\n",
    "        markers=True, \n",
    "        width=350, height=250)"
   ]
  },
  {
   "cell_type": "markdown",
   "metadata": {},
   "source": [
    "It's tempting to look at this plot and conclude something like: a runner at age 60 can expect to typically take an additional 600 seconds to finish the run than when they were 40. \n",
    "However, this is a *cross-sectional* study, not a *longitudinal* study. The study does not follow people over time, instead it gets a snapshot of a cross-section of people.\n",
    "The 60-year-old runners represented in the plot are different people than the 40-year-old runners.\n",
    "These two groups could be different in ways that affect the relationship between race time and age. \n",
    "As a group, the 60-year-olds in the race are likely to be more fit for their age than the 40-year-olds.\n",
    "In other words, the data design doesn't let us make conclusions about individual runners.\n",
    "The visualization isn't wrong, but we need to be careful about the conclusions we draw from it."
   ]
  },
  {
   "cell_type": "markdown",
   "metadata": {},
   "source": [
    "The design is even more complex because we have race results from many years.\n",
    "Each year forms a cohort, a group of racers, and from one year to the next, the cohort changes.\n",
    "We create a visualization that makes this message clear by comparing runners in different race years. \n",
    "Below, we've separately plotted lines for the runners in 1999, 2005, and 2010:"
   ]
  },
  {
   "cell_type": "code",
   "execution_count": 7,
   "metadata": {
    "tags": [
     "remove-cell"
    ]
   },
   "outputs": [],
   "source": [
    "few = (runnersOver17.assign(age5=runnersOver17['age'] // 5 * 5)\n",
    "       .query('year in [1999, 2005, 2010]')\n",
    "       .groupby(['year', 'age5'])\n",
    "       ['time']\n",
    "       .median()\n",
    "       .reset_index()\n",
    "      )"
   ]
  },
  {
   "cell_type": "code",
   "execution_count": 8,
   "metadata": {
    "tags": [
     "hide-input"
    ]
   },
   "outputs": [
    {
     "data": {
      "application/vnd.plotly.v1+json": {
       "config": {
        "plotlyServerURL": "https://plot.ly"
       },
       "data": [
        {
         "hovertemplate": "year=1999<br>age5=%{x}<br>time=%{y}<extra></extra>",
         "legendgroup": "1999",
         "line": {
          "color": "#1F77B4",
          "dash": "solid"
         },
         "marker": {
          "symbol": "circle"
         },
         "mode": "lines",
         "name": "1999",
         "orientation": "v",
         "showlegend": true,
         "type": "scatter",
         "x": [
          15,
          20,
          25,
          30,
          35,
          40,
          45,
          50,
          55,
          60,
          65,
          70,
          75
         ],
         "xaxis": "x",
         "y": [
          5030.5,
          4643,
          4999.5,
          4932,
          4952,
          4905.5,
          5094,
          5334,
          5389,
          5522,
          5142,
          5998.5,
          5591
         ],
         "yaxis": "y"
        },
        {
         "hovertemplate": "year=2005<br>age5=%{x}<br>time=%{y}<extra></extra>",
         "legendgroup": "2005",
         "line": {
          "color": "#FF7F0E",
          "dash": "dot"
         },
         "marker": {
          "symbol": "circle"
         },
         "mode": "lines",
         "name": "2005",
         "orientation": "v",
         "showlegend": true,
         "type": "scatter",
         "x": [
          15,
          20,
          25,
          30,
          35,
          40,
          45,
          50,
          55,
          60,
          65,
          70,
          75
         ],
         "xaxis": "x",
         "y": [
          4274.5,
          5123,
          5395,
          5394.5,
          5410.5,
          5349,
          5379,
          5548,
          5910,
          5807,
          6241.5,
          6248,
          6239
         ],
         "yaxis": "y"
        },
        {
         "hovertemplate": "year=2010<br>age5=%{x}<br>time=%{y}<extra></extra>",
         "legendgroup": "2010",
         "line": {
          "color": "#2CA02C",
          "dash": "dash"
         },
         "marker": {
          "symbol": "circle"
         },
         "mode": "lines",
         "name": "2010",
         "orientation": "v",
         "showlegend": true,
         "type": "scatter",
         "x": [
          15,
          20,
          25,
          30,
          35,
          40,
          45,
          50,
          55,
          60,
          65,
          70
         ],
         "xaxis": "x",
         "y": [
          4562,
          5543.5,
          5736,
          5831,
          5905,
          5685,
          5800,
          5831,
          6137.5,
          6550,
          6900,
          7157
         ],
         "yaxis": "y"
        }
       ],
       "layout": {
        "height": 250,
        "legend": {
         "title": {
          "text": "year"
         },
         "tracegroupgap": 0
        },
        "margin": {
         "t": 30
        },
        "template": {
         "data": {
          "bar": [
           {
            "error_x": {
             "color": "rgb(36,36,36)"
            },
            "error_y": {
             "color": "rgb(36,36,36)"
            },
            "marker": {
             "line": {
              "color": "white",
              "width": 0.5
             },
             "pattern": {
              "fillmode": "overlay",
              "size": 10,
              "solidity": 0.2
             }
            },
            "type": "bar"
           }
          ],
          "barpolar": [
           {
            "marker": {
             "line": {
              "color": "white",
              "width": 0.5
             },
             "pattern": {
              "fillmode": "overlay",
              "size": 10,
              "solidity": 0.2
             }
            },
            "type": "barpolar"
           }
          ],
          "carpet": [
           {
            "aaxis": {
             "endlinecolor": "rgb(36,36,36)",
             "gridcolor": "white",
             "linecolor": "white",
             "minorgridcolor": "white",
             "startlinecolor": "rgb(36,36,36)"
            },
            "baxis": {
             "endlinecolor": "rgb(36,36,36)",
             "gridcolor": "white",
             "linecolor": "white",
             "minorgridcolor": "white",
             "startlinecolor": "rgb(36,36,36)"
            },
            "type": "carpet"
           }
          ],
          "choropleth": [
           {
            "colorbar": {
             "outlinewidth": 1,
             "tickcolor": "rgb(36,36,36)",
             "ticks": "outside"
            },
            "type": "choropleth"
           }
          ],
          "contour": [
           {
            "colorbar": {
             "outlinewidth": 1,
             "tickcolor": "rgb(36,36,36)",
             "ticks": "outside"
            },
            "colorscale": [
             [
              0,
              "#440154"
             ],
             [
              0.1111111111111111,
              "#482878"
             ],
             [
              0.2222222222222222,
              "#3e4989"
             ],
             [
              0.3333333333333333,
              "#31688e"
             ],
             [
              0.4444444444444444,
              "#26828e"
             ],
             [
              0.5555555555555556,
              "#1f9e89"
             ],
             [
              0.6666666666666666,
              "#35b779"
             ],
             [
              0.7777777777777778,
              "#6ece58"
             ],
             [
              0.8888888888888888,
              "#b5de2b"
             ],
             [
              1,
              "#fde725"
             ]
            ],
            "type": "contour"
           }
          ],
          "contourcarpet": [
           {
            "colorbar": {
             "outlinewidth": 1,
             "tickcolor": "rgb(36,36,36)",
             "ticks": "outside"
            },
            "type": "contourcarpet"
           }
          ],
          "heatmap": [
           {
            "colorbar": {
             "outlinewidth": 1,
             "tickcolor": "rgb(36,36,36)",
             "ticks": "outside"
            },
            "colorscale": [
             [
              0,
              "#440154"
             ],
             [
              0.1111111111111111,
              "#482878"
             ],
             [
              0.2222222222222222,
              "#3e4989"
             ],
             [
              0.3333333333333333,
              "#31688e"
             ],
             [
              0.4444444444444444,
              "#26828e"
             ],
             [
              0.5555555555555556,
              "#1f9e89"
             ],
             [
              0.6666666666666666,
              "#35b779"
             ],
             [
              0.7777777777777778,
              "#6ece58"
             ],
             [
              0.8888888888888888,
              "#b5de2b"
             ],
             [
              1,
              "#fde725"
             ]
            ],
            "type": "heatmap"
           }
          ],
          "heatmapgl": [
           {
            "colorbar": {
             "outlinewidth": 1,
             "tickcolor": "rgb(36,36,36)",
             "ticks": "outside"
            },
            "colorscale": [
             [
              0,
              "#440154"
             ],
             [
              0.1111111111111111,
              "#482878"
             ],
             [
              0.2222222222222222,
              "#3e4989"
             ],
             [
              0.3333333333333333,
              "#31688e"
             ],
             [
              0.4444444444444444,
              "#26828e"
             ],
             [
              0.5555555555555556,
              "#1f9e89"
             ],
             [
              0.6666666666666666,
              "#35b779"
             ],
             [
              0.7777777777777778,
              "#6ece58"
             ],
             [
              0.8888888888888888,
              "#b5de2b"
             ],
             [
              1,
              "#fde725"
             ]
            ],
            "type": "heatmapgl"
           }
          ],
          "histogram": [
           {
            "marker": {
             "line": {
              "color": "white",
              "width": 0.6
             }
            },
            "type": "histogram"
           }
          ],
          "histogram2d": [
           {
            "colorbar": {
             "outlinewidth": 1,
             "tickcolor": "rgb(36,36,36)",
             "ticks": "outside"
            },
            "colorscale": [
             [
              0,
              "#440154"
             ],
             [
              0.1111111111111111,
              "#482878"
             ],
             [
              0.2222222222222222,
              "#3e4989"
             ],
             [
              0.3333333333333333,
              "#31688e"
             ],
             [
              0.4444444444444444,
              "#26828e"
             ],
             [
              0.5555555555555556,
              "#1f9e89"
             ],
             [
              0.6666666666666666,
              "#35b779"
             ],
             [
              0.7777777777777778,
              "#6ece58"
             ],
             [
              0.8888888888888888,
              "#b5de2b"
             ],
             [
              1,
              "#fde725"
             ]
            ],
            "type": "histogram2d"
           }
          ],
          "histogram2dcontour": [
           {
            "colorbar": {
             "outlinewidth": 1,
             "tickcolor": "rgb(36,36,36)",
             "ticks": "outside"
            },
            "colorscale": [
             [
              0,
              "#440154"
             ],
             [
              0.1111111111111111,
              "#482878"
             ],
             [
              0.2222222222222222,
              "#3e4989"
             ],
             [
              0.3333333333333333,
              "#31688e"
             ],
             [
              0.4444444444444444,
              "#26828e"
             ],
             [
              0.5555555555555556,
              "#1f9e89"
             ],
             [
              0.6666666666666666,
              "#35b779"
             ],
             [
              0.7777777777777778,
              "#6ece58"
             ],
             [
              0.8888888888888888,
              "#b5de2b"
             ],
             [
              1,
              "#fde725"
             ]
            ],
            "type": "histogram2dcontour"
           }
          ],
          "mesh3d": [
           {
            "colorbar": {
             "outlinewidth": 1,
             "tickcolor": "rgb(36,36,36)",
             "ticks": "outside"
            },
            "type": "mesh3d"
           }
          ],
          "parcoords": [
           {
            "line": {
             "colorbar": {
              "outlinewidth": 1,
              "tickcolor": "rgb(36,36,36)",
              "ticks": "outside"
             }
            },
            "type": "parcoords"
           }
          ],
          "pie": [
           {
            "automargin": true,
            "type": "pie"
           }
          ],
          "scatter": [
           {
            "marker": {
             "colorbar": {
              "outlinewidth": 1,
              "tickcolor": "rgb(36,36,36)",
              "ticks": "outside"
             }
            },
            "type": "scatter"
           }
          ],
          "scatter3d": [
           {
            "line": {
             "colorbar": {
              "outlinewidth": 1,
              "tickcolor": "rgb(36,36,36)",
              "ticks": "outside"
             }
            },
            "marker": {
             "colorbar": {
              "outlinewidth": 1,
              "tickcolor": "rgb(36,36,36)",
              "ticks": "outside"
             }
            },
            "type": "scatter3d"
           }
          ],
          "scattercarpet": [
           {
            "marker": {
             "colorbar": {
              "outlinewidth": 1,
              "tickcolor": "rgb(36,36,36)",
              "ticks": "outside"
             }
            },
            "type": "scattercarpet"
           }
          ],
          "scattergeo": [
           {
            "marker": {
             "colorbar": {
              "outlinewidth": 1,
              "tickcolor": "rgb(36,36,36)",
              "ticks": "outside"
             }
            },
            "type": "scattergeo"
           }
          ],
          "scattergl": [
           {
            "marker": {
             "colorbar": {
              "outlinewidth": 1,
              "tickcolor": "rgb(36,36,36)",
              "ticks": "outside"
             }
            },
            "type": "scattergl"
           }
          ],
          "scattermapbox": [
           {
            "marker": {
             "colorbar": {
              "outlinewidth": 1,
              "tickcolor": "rgb(36,36,36)",
              "ticks": "outside"
             }
            },
            "type": "scattermapbox"
           }
          ],
          "scatterpolar": [
           {
            "marker": {
             "colorbar": {
              "outlinewidth": 1,
              "tickcolor": "rgb(36,36,36)",
              "ticks": "outside"
             }
            },
            "type": "scatterpolar"
           }
          ],
          "scatterpolargl": [
           {
            "marker": {
             "colorbar": {
              "outlinewidth": 1,
              "tickcolor": "rgb(36,36,36)",
              "ticks": "outside"
             }
            },
            "type": "scatterpolargl"
           }
          ],
          "scatterternary": [
           {
            "marker": {
             "colorbar": {
              "outlinewidth": 1,
              "tickcolor": "rgb(36,36,36)",
              "ticks": "outside"
             }
            },
            "type": "scatterternary"
           }
          ],
          "surface": [
           {
            "colorbar": {
             "outlinewidth": 1,
             "tickcolor": "rgb(36,36,36)",
             "ticks": "outside"
            },
            "colorscale": [
             [
              0,
              "#440154"
             ],
             [
              0.1111111111111111,
              "#482878"
             ],
             [
              0.2222222222222222,
              "#3e4989"
             ],
             [
              0.3333333333333333,
              "#31688e"
             ],
             [
              0.4444444444444444,
              "#26828e"
             ],
             [
              0.5555555555555556,
              "#1f9e89"
             ],
             [
              0.6666666666666666,
              "#35b779"
             ],
             [
              0.7777777777777778,
              "#6ece58"
             ],
             [
              0.8888888888888888,
              "#b5de2b"
             ],
             [
              1,
              "#fde725"
             ]
            ],
            "type": "surface"
           }
          ],
          "table": [
           {
            "cells": {
             "fill": {
              "color": "rgb(237,237,237)"
             },
             "line": {
              "color": "white"
             }
            },
            "header": {
             "fill": {
              "color": "rgb(217,217,217)"
             },
             "line": {
              "color": "white"
             }
            },
            "type": "table"
           }
          ]
         },
         "layout": {
          "annotationdefaults": {
           "arrowhead": 0,
           "arrowwidth": 1
          },
          "autosize": true,
          "autotypenumbers": "strict",
          "coloraxis": {
           "colorbar": {
            "outlinewidth": 1,
            "tickcolor": "rgb(36,36,36)",
            "ticks": "outside"
           }
          },
          "colorscale": {
           "diverging": [
            [
             0,
             "rgb(103,0,31)"
            ],
            [
             0.1,
             "rgb(178,24,43)"
            ],
            [
             0.2,
             "rgb(214,96,77)"
            ],
            [
             0.3,
             "rgb(244,165,130)"
            ],
            [
             0.4,
             "rgb(253,219,199)"
            ],
            [
             0.5,
             "rgb(247,247,247)"
            ],
            [
             0.6,
             "rgb(209,229,240)"
            ],
            [
             0.7,
             "rgb(146,197,222)"
            ],
            [
             0.8,
             "rgb(67,147,195)"
            ],
            [
             0.9,
             "rgb(33,102,172)"
            ],
            [
             1,
             "rgb(5,48,97)"
            ]
           ],
           "sequential": [
            [
             0,
             "#440154"
            ],
            [
             0.1111111111111111,
             "#482878"
            ],
            [
             0.2222222222222222,
             "#3e4989"
            ],
            [
             0.3333333333333333,
             "#31688e"
            ],
            [
             0.4444444444444444,
             "#26828e"
            ],
            [
             0.5555555555555556,
             "#1f9e89"
            ],
            [
             0.6666666666666666,
             "#35b779"
            ],
            [
             0.7777777777777778,
             "#6ece58"
            ],
            [
             0.8888888888888888,
             "#b5de2b"
            ],
            [
             1,
             "#fde725"
            ]
           ],
           "sequentialminus": [
            [
             0,
             "#440154"
            ],
            [
             0.1111111111111111,
             "#482878"
            ],
            [
             0.2222222222222222,
             "#3e4989"
            ],
            [
             0.3333333333333333,
             "#31688e"
            ],
            [
             0.4444444444444444,
             "#26828e"
            ],
            [
             0.5555555555555556,
             "#1f9e89"
            ],
            [
             0.6666666666666666,
             "#35b779"
            ],
            [
             0.7777777777777778,
             "#6ece58"
            ],
            [
             0.8888888888888888,
             "#b5de2b"
            ],
            [
             1,
             "#fde725"
            ]
           ]
          },
          "colorway": [
           "#1F77B4",
           "#FF7F0E",
           "#2CA02C",
           "#D62728",
           "#9467BD",
           "#8C564B",
           "#E377C2",
           "#7F7F7F",
           "#BCBD22",
           "#17BECF"
          ],
          "font": {
           "color": "rgb(36,36,36)"
          },
          "geo": {
           "bgcolor": "white",
           "lakecolor": "white",
           "landcolor": "white",
           "showlakes": true,
           "showland": true,
           "subunitcolor": "white"
          },
          "height": 250,
          "hoverlabel": {
           "align": "left"
          },
          "hovermode": "closest",
          "mapbox": {
           "style": "light"
          },
          "margin": {
           "b": 10,
           "l": 10,
           "r": 10,
           "t": 10
          },
          "paper_bgcolor": "white",
          "plot_bgcolor": "white",
          "polar": {
           "angularaxis": {
            "gridcolor": "rgb(232,232,232)",
            "linecolor": "rgb(36,36,36)",
            "showgrid": false,
            "showline": true,
            "ticks": "outside"
           },
           "bgcolor": "white",
           "radialaxis": {
            "gridcolor": "rgb(232,232,232)",
            "linecolor": "rgb(36,36,36)",
            "showgrid": false,
            "showline": true,
            "ticks": "outside"
           }
          },
          "scene": {
           "xaxis": {
            "backgroundcolor": "white",
            "gridcolor": "rgb(232,232,232)",
            "gridwidth": 2,
            "linecolor": "rgb(36,36,36)",
            "showbackground": true,
            "showgrid": false,
            "showline": true,
            "ticks": "outside",
            "zeroline": false,
            "zerolinecolor": "rgb(36,36,36)"
           },
           "yaxis": {
            "backgroundcolor": "white",
            "gridcolor": "rgb(232,232,232)",
            "gridwidth": 2,
            "linecolor": "rgb(36,36,36)",
            "showbackground": true,
            "showgrid": false,
            "showline": true,
            "ticks": "outside",
            "zeroline": false,
            "zerolinecolor": "rgb(36,36,36)"
           },
           "zaxis": {
            "backgroundcolor": "white",
            "gridcolor": "rgb(232,232,232)",
            "gridwidth": 2,
            "linecolor": "rgb(36,36,36)",
            "showbackground": true,
            "showgrid": false,
            "showline": true,
            "ticks": "outside",
            "zeroline": false,
            "zerolinecolor": "rgb(36,36,36)"
           }
          },
          "shapedefaults": {
           "fillcolor": "black",
           "line": {
            "width": 0
           },
           "opacity": 0.3
          },
          "ternary": {
           "aaxis": {
            "gridcolor": "rgb(232,232,232)",
            "linecolor": "rgb(36,36,36)",
            "showgrid": false,
            "showline": true,
            "ticks": "outside"
           },
           "baxis": {
            "gridcolor": "rgb(232,232,232)",
            "linecolor": "rgb(36,36,36)",
            "showgrid": false,
            "showline": true,
            "ticks": "outside"
           },
           "bgcolor": "white",
           "caxis": {
            "gridcolor": "rgb(232,232,232)",
            "linecolor": "rgb(36,36,36)",
            "showgrid": false,
            "showline": true,
            "ticks": "outside"
           }
          },
          "title": {
           "x": 0.5,
           "xanchor": "center"
          },
          "width": 350,
          "xaxis": {
           "automargin": true,
           "gridcolor": "rgb(232,232,232)",
           "linecolor": "rgb(36,36,36)",
           "showgrid": true,
           "showline": true,
           "ticks": "outside",
           "title": {
            "standoff": 15
           },
           "zeroline": false,
           "zerolinecolor": "rgb(36,36,36)"
          },
          "yaxis": {
           "automargin": true,
           "gridcolor": "rgb(232,232,232)",
           "linecolor": "rgb(36,36,36)",
           "showgrid": true,
           "showline": true,
           "ticks": "outside",
           "title": {
            "standoff": 15
           },
           "zeroline": false,
           "zerolinecolor": "rgb(36,36,36)"
          }
         }
        },
        "title": {
         "text": "Median Race Times vs. Age"
        },
        "width": 450,
        "xaxis": {
         "anchor": "y",
         "domain": [
          0,
          1
         ],
         "range": [
          18,
          75
         ],
         "title": {
          "text": "Runner Age (yr)"
         },
         "type": "linear"
        },
        "yaxis": {
         "anchor": "x",
         "domain": [
          0,
          1
         ],
         "range": [
          4500,
          7500
         ],
         "title": {
          "text": "Race Time (sec)"
         },
         "type": "linear"
        }
       }
      },
      "image/png": "[encoded data removed]",
      "image/svg+xml": [
       "<svg class=\"main-svg\" xmlns=\"http://www.w3.org/2000/svg\" xmlns:xlink=\"http://www.w3.org/1999/xlink\" width=\"450\" height=\"250\" style=\"\" viewBox=\"0 0 450 250\"><rect x=\"0\" y=\"0\" width=\"450\" height=\"250\" style=\"fill: rgb(255, 255, 255); fill-opacity: 1;\"/><defs id=\"defs-ba3298\"><g class=\"clips\"><clipPath id=\"clipba3298xyplot\" class=\"plotclip\"><rect width=\"290\" height=\"161\"/></clipPath><clipPath class=\"axesclip\" id=\"clipba3298x\"><rect x=\"71\" y=\"0\" width=\"290\" height=\"250\"/></clipPath><clipPath class=\"axesclip\" id=\"clipba3298y\"><rect x=\"0\" y=\"30\" width=\"450\" height=\"161\"/></clipPath><clipPath class=\"axesclip\" id=\"clipba3298xy\"><rect x=\"71\" y=\"30\" width=\"290\" height=\"161\"/></clipPath></g><g class=\"gradients\"/><g class=\"patterns\"/></defs><g class=\"bglayer\"/><g class=\"layer-below\"><g class=\"imagelayer\"/><g class=\"shapelayer\"/></g><g class=\"cartesianlayer\"><g class=\"subplot xy\"><g class=\"layer-subplot\"><g class=\"shapelayer\"/><g class=\"imagelayer\"/></g><g class=\"gridlayer\"><g class=\"x\"><path class=\"xgrid crisp\" transform=\"translate(81.18,0)\" d=\"M0,30v161\" style=\"stroke: rgb(232, 232, 232); stroke-opacity: 1; stroke-width: 1px;\"/><path class=\"xgrid crisp\" transform=\"translate(182.93,0)\" d=\"M0,30v161\" style=\"stroke: rgb(232, 232, 232); stroke-opacity: 1; stroke-width: 1px;\"/><path class=\"xgrid crisp\" transform=\"translate(284.68,0)\" d=\"M0,30v161\" style=\"stroke: rgb(232, 232, 232); stroke-opacity: 1; stroke-width: 1px;\"/></g><g class=\"y\"><path class=\"ygrid crisp\" transform=\"translate(0,164.17)\" d=\"M71,0h290\" style=\"stroke: rgb(232, 232, 232); stroke-opacity: 1; stroke-width: 1px;\"/><path class=\"ygrid crisp\" transform=\"translate(0,110.5)\" d=\"M71,0h290\" style=\"stroke: rgb(232, 232, 232); stroke-opacity: 1; stroke-width: 1px;\"/><path class=\"ygrid crisp\" transform=\"translate(0,56.83)\" d=\"M71,0h290\" style=\"stroke: rgb(232, 232, 232); stroke-opacity: 1; stroke-width: 1px;\"/></g></g><g class=\"zerolinelayer\"/><path class=\"xlines-below\"/><path class=\"ylines-below\"/><g class=\"overlines-below\"/><g class=\"xaxislayer-below\"/><g class=\"yaxislayer-below\"/><g class=\"overaxes-below\"/><g class=\"plot\" transform=\"translate(71,30)\" clip-path=\"url(#clipba3298xyplot)\"><g class=\"scatterlayer mlayer\"><g class=\"trace scatter trace9bd05f\" style=\"stroke-miterlimit: 2; opacity: 1;\"><g class=\"fills\"/><g class=\"errorbars\"/><g class=\"lines\"><path class=\"js-line\" d=\"M-15.26,132.53L10.18,153.33L35.61,134.19L61.05,137.82L86.49,136.74L111.93,139.24L137.37,129.12L162.81,116.24L188.25,113.29L213.68,106.15L239.12,126.55L264.56,80.58L290,102.45\" style=\"vector-effect: non-scaling-stroke; fill: none; stroke: rgb(31, 119, 180); stroke-opacity: 1; stroke-width: 2px; opacity: 1;\"/></g><g class=\"points\"/><g class=\"text\"/></g><g class=\"trace scatter trace289196\" style=\"stroke-miterlimit: 2; opacity: 1;\"><g class=\"fills\"/><g class=\"errorbars\"/><g class=\"lines\"><path class=\"js-line\" d=\"M-15.26,173.1L10.18,127.57L35.61,112.97L61.05,113L86.49,112.14L111.93,115.44L137.37,113.83L162.81,104.76L188.25,85.33L213.68,90.86L239.12,67.54L264.56,67.19L290,67.67\" style=\"vector-effect: non-scaling-stroke; fill: none; stroke: rgb(255, 127, 14); stroke-opacity: 1; stroke-width: 2px; opacity: 1; stroke-dasharray: 3px, 3px;\"/></g><g class=\"points\"/><g class=\"text\"/></g><g class=\"trace scatter tracec8e9e0\" style=\"stroke-miterlimit: 2; opacity: 1;\"><g class=\"fills\"/><g class=\"errorbars\"/><g class=\"lines\"><path class=\"js-line\" d=\"M-15.26,157.67L10.18,105L35.61,94.67L61.05,89.57L86.49,85.6L111.93,97.4L137.37,91.23L162.81,89.57L188.25,73.12L213.68,50.98L239.12,32.2L264.56,18.41\" style=\"vector-effect: non-scaling-stroke; fill: none; stroke: rgb(44, 160, 44); stroke-opacity: 1; stroke-width: 2px; opacity: 1; stroke-dasharray: 9px, 9px;\"/></g><g class=\"points\"/><g class=\"text\"/></g></g></g><g class=\"overplot\"/><path class=\"xlines-above crisp\" d=\"M70,191.5H361\" style=\"fill: none; stroke-width: 1px; stroke: rgb(36, 36, 36); stroke-opacity: 1;\"/><path class=\"ylines-above crisp\" d=\"M70.5,30V191\" style=\"fill: none; stroke-width: 1px; stroke: rgb(36, 36, 36); stroke-opacity: 1;\"/><g class=\"overlines-above\"/><g class=\"xaxislayer-above\"><path class=\"xtick ticks crisp\" d=\"M0,192v5\" transform=\"translate(81.18,0)\" style=\"stroke: rgb(68, 68, 68); stroke-opacity: 1; stroke-width: 1px;\"/><path class=\"xtick ticks crisp\" d=\"M0,192v5\" transform=\"translate(182.93,0)\" style=\"stroke: rgb(68, 68, 68); stroke-opacity: 1; stroke-width: 1px;\"/><path class=\"xtick ticks crisp\" d=\"M0,192v5\" transform=\"translate(284.68,0)\" style=\"stroke: rgb(68, 68, 68); stroke-opacity: 1; stroke-width: 1px;\"/><g class=\"xtick\"><text text-anchor=\"middle\" x=\"0\" y=\"211.4\" transform=\"translate(81.18,0)\" style=\"font-family: 'Open Sans', verdana, arial, sans-serif; font-size: 12px; fill: rgb(36, 36, 36); fill-opacity: 1; white-space: pre; opacity: 1;\">20</text></g><g class=\"xtick\"><text text-anchor=\"middle\" x=\"0\" y=\"211.4\" style=\"font-family: 'Open Sans', verdana, arial, sans-serif; font-size: 12px; fill: rgb(36, 36, 36); fill-opacity: 1; white-space: pre; opacity: 1;\" transform=\"translate(182.93,0)\">40</text></g><g class=\"xtick\"><text text-anchor=\"middle\" x=\"0\" y=\"211.4\" style=\"font-family: 'Open Sans', verdana, arial, sans-serif; font-size: 12px; fill: rgb(36, 36, 36); fill-opacity: 1; white-space: pre; opacity: 1;\" transform=\"translate(284.68,0)\">60</text></g></g><g class=\"yaxislayer-above\"><path class=\"ytick ticks crisp\" d=\"M70,0h-5\" transform=\"translate(0,164.17)\" style=\"stroke: rgb(68, 68, 68); stroke-opacity: 1; stroke-width: 1px;\"/><path class=\"ytick ticks crisp\" d=\"M70,0h-5\" transform=\"translate(0,110.5)\" style=\"stroke: rgb(68, 68, 68); stroke-opacity: 1; stroke-width: 1px;\"/><path class=\"ytick ticks crisp\" d=\"M70,0h-5\" transform=\"translate(0,56.83)\" style=\"stroke: rgb(68, 68, 68); stroke-opacity: 1; stroke-width: 1px;\"/><g class=\"ytick\"><text text-anchor=\"end\" x=\"62.6\" y=\"4.199999999999999\" transform=\"translate(0,164.17)\" style=\"font-family: 'Open Sans', verdana, arial, sans-serif; font-size: 12px; fill: rgb(36, 36, 36); fill-opacity: 1; white-space: pre; opacity: 1;\">5000</text></g><g class=\"ytick\"><text text-anchor=\"end\" x=\"62.6\" y=\"4.199999999999999\" style=\"font-family: 'Open Sans', verdana, arial, sans-serif; font-size: 12px; fill: rgb(36, 36, 36); fill-opacity: 1; white-space: pre; opacity: 1;\" transform=\"translate(0,110.5)\">6000</text></g><g class=\"ytick\"><text text-anchor=\"end\" x=\"62.6\" y=\"4.199999999999999\" style=\"font-family: 'Open Sans', verdana, arial, sans-serif; font-size: 12px; fill: rgb(36, 36, 36); fill-opacity: 1; white-space: pre; opacity: 1;\" transform=\"translate(0,56.83)\">7000</text></g></g><g class=\"overaxes-above\"/></g></g><g class=\"polarlayer\"/><g class=\"smithlayer\"/><g class=\"ternarylayer\"/><g class=\"geolayer\"/><g class=\"funnelarealayer\"/><g class=\"pielayer\"/><g class=\"iciclelayer\"/><g class=\"treemaplayer\"/><g class=\"sunburstlayer\"/><g class=\"glimages\"/><defs id=\"topdefs-ba3298\"><g class=\"clips\"/><clipPath id=\"legendba3298\"><rect width=\"73\" height=\"86\" x=\"0\" y=\"0\"/></clipPath></defs><g class=\"layer-above\"><g class=\"imagelayer\"/><g class=\"shapelayer\"/></g><g class=\"infolayer\"><g class=\"legend\" pointer-events=\"all\" transform=\"translate(366.8,30)\"><rect class=\"bg\" shape-rendering=\"crispEdges\" style=\"stroke: rgb(68, 68, 68); stroke-opacity: 1; fill: rgb(255, 255, 255); fill-opacity: 1; stroke-width: 0px;\" width=\"73\" height=\"86\" x=\"0\" y=\"0\"/><g class=\"scrollbox\" transform=\"\" clip-path=\"url(#legendba3298)\"><text class=\"legendtitletext\" text-anchor=\"start\" x=\"2\" y=\"18.2\" style=\"font-family: 'Open Sans', verdana, arial, sans-serif; font-size: 14px; fill: rgb(36, 36, 36); fill-opacity: 1; white-space: pre;\">year</text><g class=\"groups\" transform=\"\"><g class=\"traces\" transform=\"translate(0,32.7)\" style=\"opacity: 1;\"><text class=\"legendtext\" text-anchor=\"start\" x=\"40\" y=\"4.680000000000001\" style=\"font-family: 'Open Sans', verdana, arial, sans-serif; font-size: 12px; fill: rgb(36, 36, 36); fill-opacity: 1; white-space: pre;\">1999</text><g class=\"layers\" style=\"opacity: 1;\"><g class=\"legendfill\"/><g class=\"legendlines\"><path class=\"js-line\" d=\"M5,0h30\" style=\"fill: none; stroke: rgb(31, 119, 180); stroke-opacity: 1; stroke-width: 2px;\"/></g><g class=\"legendsymbols\"><g class=\"legendpoints\"/></g></g><rect class=\"legendtoggle\" x=\"0\" y=\"-9.5\" width=\"67.453125\" height=\"19\" style=\"fill: rgb(0, 0, 0); fill-opacity: 0;\"/></g></g><g class=\"groups\" transform=\"\"><g class=\"traces\" transform=\"translate(0,51.7)\" style=\"opacity: 1;\"><text class=\"legendtext\" text-anchor=\"start\" x=\"40\" y=\"4.680000000000001\" style=\"font-family: 'Open Sans', verdana, arial, sans-serif; font-size: 12px; fill: rgb(36, 36, 36); fill-opacity: 1; white-space: pre;\">2005</text><g class=\"layers\" style=\"opacity: 1;\"><g class=\"legendfill\"/><g class=\"legendlines\"><path class=\"js-line\" d=\"M5,0h30\" style=\"fill: none; stroke: rgb(255, 127, 14); stroke-opacity: 1; stroke-dasharray: 3px, 3px; stroke-width: 2px;\"/></g><g class=\"legendsymbols\"><g class=\"legendpoints\"/></g></g><rect class=\"legendtoggle\" x=\"0\" y=\"-9.5\" width=\"67.453125\" height=\"19\" style=\"fill: rgb(0, 0, 0); fill-opacity: 0;\"/></g></g><g class=\"groups\" transform=\"\"><g class=\"traces\" transform=\"translate(0,70.7)\" style=\"opacity: 1;\"><text class=\"legendtext\" text-anchor=\"start\" x=\"40\" y=\"4.680000000000001\" style=\"font-family: 'Open Sans', verdana, arial, sans-serif; font-size: 12px; fill: rgb(36, 36, 36); fill-opacity: 1; white-space: pre;\">2010</text><g class=\"layers\" style=\"opacity: 1;\"><g class=\"legendfill\"/><g class=\"legendlines\"><path class=\"js-line\" d=\"M5,0h30\" style=\"fill: none; stroke: rgb(44, 160, 44); stroke-opacity: 1; stroke-dasharray: 9px, 9px; stroke-width: 2px;\"/></g><g class=\"legendsymbols\"><g class=\"legendpoints\"/></g></g><rect class=\"legendtoggle\" x=\"0\" y=\"-9.5\" width=\"67.453125\" height=\"19\" style=\"fill: rgb(0, 0, 0); fill-opacity: 0;\"/></g></g></g><rect class=\"scrollbar\" rx=\"20\" ry=\"3\" width=\"0\" height=\"0\" style=\"fill: rgb(128, 139, 164); fill-opacity: 1;\" x=\"0\" y=\"0\"/></g><g class=\"g-gtitle\"><text class=\"gtitle\" x=\"225\" y=\"15\" text-anchor=\"middle\" dy=\"0em\" style=\"font-family: 'Open Sans', verdana, arial, sans-serif; font-size: 17px; fill: rgb(36, 36, 36); opacity: 1; font-weight: normal; white-space: pre;\">Median Race Times vs. Age</text></g><g class=\"g-xtitle\"><text class=\"xtitle\" x=\"216\" y=\"239.70625\" text-anchor=\"middle\" style=\"font-family: 'Open Sans', verdana, arial, sans-serif; font-size: 14px; fill: rgb(36, 36, 36); opacity: 1; font-weight: normal; white-space: pre;\">Runner Age (yr)</text></g><g class=\"g-ytitle\" transform=\"translate(4.6591796875,0)\"><text class=\"ytitle\" transform=\"rotate(-90,10.340625000000003,110.5)\" x=\"10.340625000000003\" y=\"110.5\" text-anchor=\"middle\" style=\"font-family: 'Open Sans', verdana, arial, sans-serif; font-size: 14px; fill: rgb(36, 36, 36); opacity: 1; font-weight: normal; white-space: pre;\">Race Time (sec)</text></g></g></svg>"
      ]
     },
     "metadata": {},
     "output_type": "display_data"
    }
   ],
   "source": [
    "fig = px.line(few, x='age5', y='time', color='year',\n",
    "              line_dash='year',\n",
    "              title='Median Race Times vs. Age',\n",
    "              width=450, height=250,\n",
    "             )\n",
    "fig.update_xaxes(range=[18, 75], title=\"Runner Age (yr)\")\n",
    "fig.update_yaxes(range=[4500, 7500], title=\"Race Time (sec)\")\n",
    "margin(fig, t=30)"
   ]
  },
  {
   "cell_type": "markdown",
   "metadata": {},
   "source": [
    "We see that the median race times in 2010 are higher at every age group than the times for \n",
    "the runners in 2005, and in turn, the 2005 runners times are higher than for the runners in 1999.\n",
    "It's interesting that race times have slowed over the years. \n",
    "This is quite likely due to the increased popularity of the race where there is higher participation from novice runners in more recent years. This example has shown how we need to be aware of the data scope when interpreting patterns. We also need to keep data scope in mind with scientific studies. This is the topic of the next section."
   ]
  },
  {
   "cell_type": "markdown",
   "metadata": {},
   "source": [
    "## Unequal Sampling\n",
    "\n",
    "In a scientific study, we must consider the sample design because it can impact our plots. Some samples draw individuals at unequal rates and this needs to be accounted for in our visualizations.\n",
    "We have seen an example of a scientific study in {numref}`Chapters %s <ch:files>` and {numref}` %s <ch:wrangling>`: the Drug Abuse Warning Network (DAWN) survey.  These data are from a complex randomized study of drug-related emergency room visits, and each record comes with its weight that we must use in order to accurately represent the emergency room visits in the population. The two bar plots below show the distribution of the type of ER visit. The one on the left doesn't use the survey weights and the one on the right does."
   ]
  },
  {
   "cell_type": "code",
   "execution_count": 9,
   "metadata": {
    "tags": [
     "remove-cell"
    ]
   },
   "outputs": [],
   "source": [
    "dawn_type = dawn.groupby('type')['wt'].sum()\n",
    "dawn_wt_norm = dawn_type/sum(dawn_type)\n",
    "dawn_wts = dawn_wt_norm.sort_values(ascending=False)\n",
    "\n",
    "dawn_cts = dawn['type'].value_counts(normalize=True)\n",
    "\n",
    "types = {1:'suicide attempt', 2:'detox', 3:'alcohol', 4:'adverse reaction',\n",
    "        5:'overmedication', 6:'malicious poisoning', 7:'accidental ingestion', \n",
    "         8:'other'}\n",
    "\n",
    "types_ct = {k: types[k] for k in dawn_cts.index}\n",
    "types_wt = {k: types[k] for k in dawn_wts.index}"
   ]
  },
  {
   "cell_type": "code",
   "execution_count": 135,
   "metadata": {
    "tags": [
     "hide-input"
    ]
   },
   "outputs": [
    {
     "data": {
      "application/vnd.plotly.v1+json": {
       "config": {
        "plotlyServerURL": "https://plot.ly"
       },
       "data": [
        {
         "alignmentgroup": "True",
         "hovertemplate": "x=%{x}<br>y=%{y}<extra></extra>",
         "legendgroup": "",
         "marker": {
          "color": "#1F77B4",
          "pattern": {
           "shape": ""
          }
         },
         "name": "",
         "offsetgroup": "",
         "orientation": "v",
         "showlegend": false,
         "textposition": "auto",
         "type": "bar",
         "x": [
          "adverse reaction",
          "other",
          "overmedication",
          "detox",
          "suicide attempt",
          "alcohol",
          "accidental ingestion",
          "malicious poisoning"
         ],
         "xaxis": "x",
         "y": [
          0.3843445558895516,
          0.38230276906431193,
          0.07916723019401338,
          0.06474820143884892,
          0.039409103402541765,
          0.032376282115605275,
          0.014192163552360052,
          0.0034596943427671447
         ],
         "yaxis": "y"
        },
        {
         "alignmentgroup": "True",
         "hovertemplate": "x=%{x}<br>y=%{y}<extra></extra>",
         "legendgroup": "",
         "marker": {
          "color": "#1F77B4",
          "pattern": {
           "shape": ""
          }
         },
         "name": "",
         "offsetgroup": "",
         "orientation": "v",
         "showlegend": false,
         "textposition": "auto",
         "type": "bar",
         "x": [
          "adverse reaction",
          "other",
          "overmedication",
          "detox",
          "suicide attempt",
          "alcohol",
          "accidental ingestion",
          "malicious poisoning"
         ],
         "xaxis": "x2",
         "y": [
          0.454092986579416,
          0.31759324157124846,
          0.08533016050459873,
          0.04945287748494375,
          0.045065871230697815,
          0.022989247379936507,
          0.02242260252573724,
          0.003053012723421613
         ],
         "yaxis": "y2"
        }
       ],
       "layout": {
        "height": 250,
        "template": {
         "data": {
          "bar": [
           {
            "error_x": {
             "color": "rgb(36,36,36)"
            },
            "error_y": {
             "color": "rgb(36,36,36)"
            },
            "marker": {
             "line": {
              "color": "white",
              "width": 0.5
             },
             "pattern": {
              "fillmode": "overlay",
              "size": 10,
              "solidity": 0.2
             }
            },
            "type": "bar"
           }
          ],
          "barpolar": [
           {
            "marker": {
             "line": {
              "color": "white",
              "width": 0.5
             },
             "pattern": {
              "fillmode": "overlay",
              "size": 10,
              "solidity": 0.2
             }
            },
            "type": "barpolar"
           }
          ],
          "carpet": [
           {
            "aaxis": {
             "endlinecolor": "rgb(36,36,36)",
             "gridcolor": "white",
             "linecolor": "white",
             "minorgridcolor": "white",
             "startlinecolor": "rgb(36,36,36)"
            },
            "baxis": {
             "endlinecolor": "rgb(36,36,36)",
             "gridcolor": "white",
             "linecolor": "white",
             "minorgridcolor": "white",
             "startlinecolor": "rgb(36,36,36)"
            },
            "type": "carpet"
           }
          ],
          "choropleth": [
           {
            "colorbar": {
             "outlinewidth": 1,
             "tickcolor": "rgb(36,36,36)",
             "ticks": "outside"
            },
            "type": "choropleth"
           }
          ],
          "contour": [
           {
            "colorbar": {
             "outlinewidth": 1,
             "tickcolor": "rgb(36,36,36)",
             "ticks": "outside"
            },
            "colorscale": [
             [
              0,
              "#440154"
             ],
             [
              0.1111111111111111,
              "#482878"
             ],
             [
              0.2222222222222222,
              "#3e4989"
             ],
             [
              0.3333333333333333,
              "#31688e"
             ],
             [
              0.4444444444444444,
              "#26828e"
             ],
             [
              0.5555555555555556,
              "#1f9e89"
             ],
             [
              0.6666666666666666,
              "#35b779"
             ],
             [
              0.7777777777777778,
              "#6ece58"
             ],
             [
              0.8888888888888888,
              "#b5de2b"
             ],
             [
              1,
              "#fde725"
             ]
            ],
            "type": "contour"
           }
          ],
          "contourcarpet": [
           {
            "colorbar": {
             "outlinewidth": 1,
             "tickcolor": "rgb(36,36,36)",
             "ticks": "outside"
            },
            "type": "contourcarpet"
           }
          ],
          "heatmap": [
           {
            "colorbar": {
             "outlinewidth": 1,
             "tickcolor": "rgb(36,36,36)",
             "ticks": "outside"
            },
            "colorscale": [
             [
              0,
              "#440154"
             ],
             [
              0.1111111111111111,
              "#482878"
             ],
             [
              0.2222222222222222,
              "#3e4989"
             ],
             [
              0.3333333333333333,
              "#31688e"
             ],
             [
              0.4444444444444444,
              "#26828e"
             ],
             [
              0.5555555555555556,
              "#1f9e89"
             ],
             [
              0.6666666666666666,
              "#35b779"
             ],
             [
              0.7777777777777778,
              "#6ece58"
             ],
             [
              0.8888888888888888,
              "#b5de2b"
             ],
             [
              1,
              "#fde725"
             ]
            ],
            "type": "heatmap"
           }
          ],
          "heatmapgl": [
           {
            "colorbar": {
             "outlinewidth": 1,
             "tickcolor": "rgb(36,36,36)",
             "ticks": "outside"
            },
            "colorscale": [
             [
              0,
              "#440154"
             ],
             [
              0.1111111111111111,
              "#482878"
             ],
             [
              0.2222222222222222,
              "#3e4989"
             ],
             [
              0.3333333333333333,
              "#31688e"
             ],
             [
              0.4444444444444444,
              "#26828e"
             ],
             [
              0.5555555555555556,
              "#1f9e89"
             ],
             [
              0.6666666666666666,
              "#35b779"
             ],
             [
              0.7777777777777778,
              "#6ece58"
             ],
             [
              0.8888888888888888,
              "#b5de2b"
             ],
             [
              1,
              "#fde725"
             ]
            ],
            "type": "heatmapgl"
           }
          ],
          "histogram": [
           {
            "marker": {
             "line": {
              "color": "white",
              "width": 0.6
             }
            },
            "type": "histogram"
           }
          ],
          "histogram2d": [
           {
            "colorbar": {
             "outlinewidth": 1,
             "tickcolor": "rgb(36,36,36)",
             "ticks": "outside"
            },
            "colorscale": [
             [
              0,
              "#440154"
             ],
             [
              0.1111111111111111,
              "#482878"
             ],
             [
              0.2222222222222222,
              "#3e4989"
             ],
             [
              0.3333333333333333,
              "#31688e"
             ],
             [
              0.4444444444444444,
              "#26828e"
             ],
             [
              0.5555555555555556,
              "#1f9e89"
             ],
             [
              0.6666666666666666,
              "#35b779"
             ],
             [
              0.7777777777777778,
              "#6ece58"
             ],
             [
              0.8888888888888888,
              "#b5de2b"
             ],
             [
              1,
              "#fde725"
             ]
            ],
            "type": "histogram2d"
           }
          ],
          "histogram2dcontour": [
           {
            "colorbar": {
             "outlinewidth": 1,
             "tickcolor": "rgb(36,36,36)",
             "ticks": "outside"
            },
            "colorscale": [
             [
              0,
              "#440154"
             ],
             [
              0.1111111111111111,
              "#482878"
             ],
             [
              0.2222222222222222,
              "#3e4989"
             ],
             [
              0.3333333333333333,
              "#31688e"
             ],
             [
              0.4444444444444444,
              "#26828e"
             ],
             [
              0.5555555555555556,
              "#1f9e89"
             ],
             [
              0.6666666666666666,
              "#35b779"
             ],
             [
              0.7777777777777778,
              "#6ece58"
             ],
             [
              0.8888888888888888,
              "#b5de2b"
             ],
             [
              1,
              "#fde725"
             ]
            ],
            "type": "histogram2dcontour"
           }
          ],
          "mesh3d": [
           {
            "colorbar": {
             "outlinewidth": 1,
             "tickcolor": "rgb(36,36,36)",
             "ticks": "outside"
            },
            "type": "mesh3d"
           }
          ],
          "parcoords": [
           {
            "line": {
             "colorbar": {
              "outlinewidth": 1,
              "tickcolor": "rgb(36,36,36)",
              "ticks": "outside"
             }
            },
            "type": "parcoords"
           }
          ],
          "pie": [
           {
            "automargin": true,
            "type": "pie"
           }
          ],
          "scatter": [
           {
            "marker": {
             "colorbar": {
              "outlinewidth": 1,
              "tickcolor": "rgb(36,36,36)",
              "ticks": "outside"
             }
            },
            "type": "scatter"
           }
          ],
          "scatter3d": [
           {
            "line": {
             "colorbar": {
              "outlinewidth": 1,
              "tickcolor": "rgb(36,36,36)",
              "ticks": "outside"
             }
            },
            "marker": {
             "colorbar": {
              "outlinewidth": 1,
              "tickcolor": "rgb(36,36,36)",
              "ticks": "outside"
             }
            },
            "type": "scatter3d"
           }
          ],
          "scattercarpet": [
           {
            "marker": {
             "colorbar": {
              "outlinewidth": 1,
              "tickcolor": "rgb(36,36,36)",
              "ticks": "outside"
             }
            },
            "type": "scattercarpet"
           }
          ],
          "scattergeo": [
           {
            "marker": {
             "colorbar": {
              "outlinewidth": 1,
              "tickcolor": "rgb(36,36,36)",
              "ticks": "outside"
             }
            },
            "type": "scattergeo"
           }
          ],
          "scattergl": [
           {
            "marker": {
             "colorbar": {
              "outlinewidth": 1,
              "tickcolor": "rgb(36,36,36)",
              "ticks": "outside"
             }
            },
            "type": "scattergl"
           }
          ],
          "scattermapbox": [
           {
            "marker": {
             "colorbar": {
              "outlinewidth": 1,
              "tickcolor": "rgb(36,36,36)",
              "ticks": "outside"
             }
            },
            "type": "scattermapbox"
           }
          ],
          "scatterpolar": [
           {
            "marker": {
             "colorbar": {
              "outlinewidth": 1,
              "tickcolor": "rgb(36,36,36)",
              "ticks": "outside"
             }
            },
            "type": "scatterpolar"
           }
          ],
          "scatterpolargl": [
           {
            "marker": {
             "colorbar": {
              "outlinewidth": 1,
              "tickcolor": "rgb(36,36,36)",
              "ticks": "outside"
             }
            },
            "type": "scatterpolargl"
           }
          ],
          "scatterternary": [
           {
            "marker": {
             "colorbar": {
              "outlinewidth": 1,
              "tickcolor": "rgb(36,36,36)",
              "ticks": "outside"
             }
            },
            "type": "scatterternary"
           }
          ],
          "surface": [
           {
            "colorbar": {
             "outlinewidth": 1,
             "tickcolor": "rgb(36,36,36)",
             "ticks": "outside"
            },
            "colorscale": [
             [
              0,
              "#440154"
             ],
             [
              0.1111111111111111,
              "#482878"
             ],
             [
              0.2222222222222222,
              "#3e4989"
             ],
             [
              0.3333333333333333,
              "#31688e"
             ],
             [
              0.4444444444444444,
              "#26828e"
             ],
             [
              0.5555555555555556,
              "#1f9e89"
             ],
             [
              0.6666666666666666,
              "#35b779"
             ],
             [
              0.7777777777777778,
              "#6ece58"
             ],
             [
              0.8888888888888888,
              "#b5de2b"
             ],
             [
              1,
              "#fde725"
             ]
            ],
            "type": "surface"
           }
          ],
          "table": [
           {
            "cells": {
             "fill": {
              "color": "rgb(237,237,237)"
             },
             "line": {
              "color": "white"
             }
            },
            "header": {
             "fill": {
              "color": "rgb(217,217,217)"
             },
             "line": {
              "color": "white"
             }
            },
            "type": "table"
           }
          ]
         },
         "layout": {
          "annotationdefaults": {
           "arrowhead": 0,
           "arrowwidth": 1
          },
          "autosize": true,
          "autotypenumbers": "strict",
          "coloraxis": {
           "colorbar": {
            "outlinewidth": 1,
            "tickcolor": "rgb(36,36,36)",
            "ticks": "outside"
           }
          },
          "colorscale": {
           "diverging": [
            [
             0,
             "rgb(103,0,31)"
            ],
            [
             0.1,
             "rgb(178,24,43)"
            ],
            [
             0.2,
             "rgb(214,96,77)"
            ],
            [
             0.3,
             "rgb(244,165,130)"
            ],
            [
             0.4,
             "rgb(253,219,199)"
            ],
            [
             0.5,
             "rgb(247,247,247)"
            ],
            [
             0.6,
             "rgb(209,229,240)"
            ],
            [
             0.7,
             "rgb(146,197,222)"
            ],
            [
             0.8,
             "rgb(67,147,195)"
            ],
            [
             0.9,
             "rgb(33,102,172)"
            ],
            [
             1,
             "rgb(5,48,97)"
            ]
           ],
           "sequential": [
            [
             0,
             "#440154"
            ],
            [
             0.1111111111111111,
             "#482878"
            ],
            [
             0.2222222222222222,
             "#3e4989"
            ],
            [
             0.3333333333333333,
             "#31688e"
            ],
            [
             0.4444444444444444,
             "#26828e"
            ],
            [
             0.5555555555555556,
             "#1f9e89"
            ],
            [
             0.6666666666666666,
             "#35b779"
            ],
            [
             0.7777777777777778,
             "#6ece58"
            ],
            [
             0.8888888888888888,
             "#b5de2b"
            ],
            [
             1,
             "#fde725"
            ]
           ],
           "sequentialminus": [
            [
             0,
             "#440154"
            ],
            [
             0.1111111111111111,
             "#482878"
            ],
            [
             0.2222222222222222,
             "#3e4989"
            ],
            [
             0.3333333333333333,
             "#31688e"
            ],
            [
             0.4444444444444444,
             "#26828e"
            ],
            [
             0.5555555555555556,
             "#1f9e89"
            ],
            [
             0.6666666666666666,
             "#35b779"
            ],
            [
             0.7777777777777778,
             "#6ece58"
            ],
            [
             0.8888888888888888,
             "#b5de2b"
            ],
            [
             1,
             "#fde725"
            ]
           ]
          },
          "colorway": [
           "#1F77B4",
           "#FF7F0E",
           "#2CA02C",
           "#D62728",
           "#9467BD",
           "#8C564B",
           "#E377C2",
           "#7F7F7F",
           "#BCBD22",
           "#17BECF"
          ],
          "font": {
           "color": "rgb(36,36,36)"
          },
          "geo": {
           "bgcolor": "white",
           "lakecolor": "white",
           "landcolor": "white",
           "showlakes": true,
           "showland": true,
           "subunitcolor": "white"
          },
          "height": 250,
          "hoverlabel": {
           "align": "left"
          },
          "hovermode": "closest",
          "mapbox": {
           "style": "light"
          },
          "margin": {
           "b": 10,
           "l": 10,
           "r": 10,
           "t": 10
          },
          "paper_bgcolor": "white",
          "plot_bgcolor": "white",
          "polar": {
           "angularaxis": {
            "gridcolor": "rgb(232,232,232)",
            "linecolor": "rgb(36,36,36)",
            "showgrid": false,
            "showline": true,
            "ticks": "outside"
           },
           "bgcolor": "white",
           "radialaxis": {
            "gridcolor": "rgb(232,232,232)",
            "linecolor": "rgb(36,36,36)",
            "showgrid": false,
            "showline": true,
            "ticks": "outside"
           }
          },
          "scene": {
           "xaxis": {
            "backgroundcolor": "white",
            "gridcolor": "rgb(232,232,232)",
            "gridwidth": 2,
            "linecolor": "rgb(36,36,36)",
            "showbackground": true,
            "showgrid": false,
            "showline": true,
            "ticks": "outside",
            "zeroline": false,
            "zerolinecolor": "rgb(36,36,36)"
           },
           "yaxis": {
            "backgroundcolor": "white",
            "gridcolor": "rgb(232,232,232)",
            "gridwidth": 2,
            "linecolor": "rgb(36,36,36)",
            "showbackground": true,
            "showgrid": false,
            "showline": true,
            "ticks": "outside",
            "zeroline": false,
            "zerolinecolor": "rgb(36,36,36)"
           },
           "zaxis": {
            "backgroundcolor": "white",
            "gridcolor": "rgb(232,232,232)",
            "gridwidth": 2,
            "linecolor": "rgb(36,36,36)",
            "showbackground": true,
            "showgrid": false,
            "showline": true,
            "ticks": "outside",
            "zeroline": false,
            "zerolinecolor": "rgb(36,36,36)"
           }
          },
          "shapedefaults": {
           "fillcolor": "black",
           "line": {
            "width": 0
           },
           "opacity": 0.3
          },
          "ternary": {
           "aaxis": {
            "gridcolor": "rgb(232,232,232)",
            "linecolor": "rgb(36,36,36)",
            "showgrid": false,
            "showline": true,
            "ticks": "outside"
           },
           "baxis": {
            "gridcolor": "rgb(232,232,232)",
            "linecolor": "rgb(36,36,36)",
            "showgrid": false,
            "showline": true,
            "ticks": "outside"
           },
           "bgcolor": "white",
           "caxis": {
            "gridcolor": "rgb(232,232,232)",
            "linecolor": "rgb(36,36,36)",
            "showgrid": false,
            "showline": true,
            "ticks": "outside"
           }
          },
          "title": {
           "x": 0.5,
           "xanchor": "center"
          },
          "width": 350,
          "xaxis": {
           "automargin": true,
           "gridcolor": "rgb(232,232,232)",
           "linecolor": "rgb(36,36,36)",
           "showgrid": true,
           "showline": true,
           "ticks": "outside",
           "title": {
            "standoff": 15
           },
           "zeroline": false,
           "zerolinecolor": "rgb(36,36,36)"
          },
          "yaxis": {
           "automargin": true,
           "gridcolor": "rgb(232,232,232)",
           "linecolor": "rgb(36,36,36)",
           "showgrid": true,
           "showline": true,
           "ticks": "outside",
           "title": {
            "standoff": 15
           },
           "zeroline": false,
           "zerolinecolor": "rgb(36,36,36)"
          }
         }
        },
        "width": 700,
        "xaxis": {
         "anchor": "y",
         "autorange": true,
         "domain": [
          0,
          0.45
         ],
         "range": [
          -0.5,
          7.5
         ],
         "type": "category"
        },
        "xaxis2": {
         "anchor": "y2",
         "autorange": true,
         "domain": [
          0.55,
          1
         ],
         "range": [
          -0.5,
          7.5
         ],
         "type": "category"
        },
        "yaxis": {
         "anchor": "x",
         "autorange": true,
         "domain": [
          0,
          1
         ],
         "range": [
          0,
          0.4045732167258438
         ],
         "type": "linear"
        },
        "yaxis2": {
         "anchor": "x2",
         "autorange": true,
         "domain": [
          0,
          1
         ],
         "range": [
          0,
          0.4779926174520168
         ],
         "type": "linear"
        }
       }
      },
      "image/png": "[encoded data removed]",
      "image/svg+xml": [
       "<svg class=\"main-svg\" xmlns=\"http://www.w3.org/2000/svg\" xmlns:xlink=\"http://www.w3.org/1999/xlink\" width=\"700\" height=\"250\" style=\"\" viewBox=\"0 0 700 250\"><rect x=\"0\" y=\"0\" width=\"700\" height=\"250\" style=\"fill: rgb(255, 255, 255); fill-opacity: 1;\"/><defs id=\"defs-18cd3b\"><g class=\"clips\"><clipPath id=\"clip18cd3bxyplot\" class=\"plotclip\"><rect width=\"256.95\" height=\"145\"/></clipPath><clipPath id=\"clip18cd3bx2y2plot\" class=\"plotclip\"><rect width=\"256.95\" height=\"145\"/></clipPath><clipPath class=\"axesclip\" id=\"clip18cd3bx\"><rect x=\"35\" y=\"0\" width=\"256.95\" height=\"250\"/></clipPath><clipPath class=\"axesclip\" id=\"clip18cd3by\"><rect x=\"0\" y=\"17\" width=\"700\" height=\"145\"/></clipPath><clipPath class=\"axesclip\" id=\"clip18cd3bxy\"><rect x=\"35\" y=\"17\" width=\"256.95\" height=\"145\"/></clipPath><clipPath class=\"axesclip\" id=\"clip18cd3by2\"><rect x=\"0\" y=\"17\" width=\"700\" height=\"145\"/></clipPath><clipPath class=\"axesclip\" id=\"clip18cd3bxy2\"><rect x=\"35\" y=\"17\" width=\"256.95\" height=\"145\"/></clipPath><clipPath class=\"axesclip\" id=\"clip18cd3bx2\"><rect x=\"349.05\" y=\"0\" width=\"256.95\" height=\"250\"/></clipPath><clipPath class=\"axesclip\" id=\"clip18cd3bx2y\"><rect x=\"349.05\" y=\"17\" width=\"256.95\" height=\"145\"/></clipPath><clipPath class=\"axesclip\" id=\"clip18cd3bx2y2\"><rect x=\"349.05\" y=\"17\" width=\"256.95\" height=\"145\"/></clipPath></g><g class=\"gradients\"/><g class=\"patterns\"/></defs><g class=\"bglayer\"/><g class=\"layer-below\"><g class=\"imagelayer\"/><g class=\"shapelayer\"/></g><g class=\"cartesianlayer\"><g class=\"subplot xy\"><g class=\"layer-subplot\"><g class=\"shapelayer\"/><g class=\"imagelayer\"/></g><g class=\"gridlayer\"><g class=\"x\"><path class=\"xgrid crisp\" transform=\"translate(51.06,0)\" d=\"M0,17v145\" style=\"stroke: rgb(232, 232, 232); stroke-opacity: 1; stroke-width: 1px;\"/><path class=\"xgrid crisp\" transform=\"translate(83.18,0)\" d=\"M0,17v145\" style=\"stroke: rgb(232, 232, 232); stroke-opacity: 1; stroke-width: 1px;\"/><path class=\"xgrid crisp\" transform=\"translate(115.3,0)\" d=\"M0,17v145\" style=\"stroke: rgb(232, 232, 232); stroke-opacity: 1; stroke-width: 1px;\"/><path class=\"xgrid crisp\" transform=\"translate(147.42000000000002,0)\" d=\"M0,17v145\" style=\"stroke: rgb(232, 232, 232); stroke-opacity: 1; stroke-width: 1px;\"/><path class=\"xgrid crisp\" transform=\"translate(179.53,0)\" d=\"M0,17v145\" style=\"stroke: rgb(232, 232, 232); stroke-opacity: 1; stroke-width: 1px;\"/><path class=\"xgrid crisp\" transform=\"translate(211.65,0)\" d=\"M0,17v145\" style=\"stroke: rgb(232, 232, 232); stroke-opacity: 1; stroke-width: 1px;\"/><path class=\"xgrid crisp\" transform=\"translate(243.77,0)\" d=\"M0,17v145\" style=\"stroke: rgb(232, 232, 232); stroke-opacity: 1; stroke-width: 1px;\"/><path class=\"xgrid crisp\" transform=\"translate(275.89,0)\" d=\"M0,17v145\" style=\"stroke: rgb(232, 232, 232); stroke-opacity: 1; stroke-width: 1px;\"/></g><g class=\"y\"><path class=\"ygrid crisp\" transform=\"translate(0,126.16)\" d=\"M35,0h256.95\" style=\"stroke: rgb(232, 232, 232); stroke-opacity: 1; stroke-width: 1px;\"/><path class=\"ygrid crisp\" transform=\"translate(0,90.32)\" d=\"M35,0h256.95\" style=\"stroke: rgb(232, 232, 232); stroke-opacity: 1; stroke-width: 1px;\"/><path class=\"ygrid crisp\" transform=\"translate(0,54.48)\" d=\"M35,0h256.95\" style=\"stroke: rgb(232, 232, 232); stroke-opacity: 1; stroke-width: 1px;\"/><path class=\"ygrid crisp\" transform=\"translate(0,18.64)\" d=\"M35,0h256.95\" style=\"stroke: rgb(232, 232, 232); stroke-opacity: 1; stroke-width: 1px;\"/></g></g><g class=\"zerolinelayer\"/><path class=\"xlines-below\"/><path class=\"ylines-below\"/><g class=\"overlines-below\"/><g class=\"xaxislayer-below\"/><g class=\"yaxislayer-below\"/><g class=\"overaxes-below\"/><g class=\"plot\" transform=\"translate(35,17)\" clip-path=\"url(#clip18cd3bxyplot)\"><g class=\"barlayer mlayer\"><g class=\"trace bars\" style=\"opacity: 1;\"><g class=\"points\"><g class=\"point\"><path d=\"M3.21,145V7.25H28.91V145Z\" style=\"vector-effect: non-scaling-stroke; opacity: 1; stroke-width: 0.5px; fill: rgb(31, 119, 180); fill-opacity: 1; stroke: rgb(255, 255, 255); stroke-opacity: 1;\"/></g><g class=\"point\"><path d=\"M35.33,145V7.98H61.03V145Z\" style=\"vector-effect: non-scaling-stroke; opacity: 1; stroke-width: 0.5px; fill: rgb(31, 119, 180); fill-opacity: 1; stroke: rgb(255, 255, 255); stroke-opacity: 1;\"/></g><g class=\"point\"><path d=\"M67.45,145V116.63H93.14V145Z\" style=\"vector-effect: non-scaling-stroke; opacity: 1; stroke-width: 0.5px; fill: rgb(31, 119, 180); fill-opacity: 1; stroke: rgb(255, 255, 255); stroke-opacity: 1;\"/></g><g class=\"point\"><path d=\"M99.57,145V121.79H125.26V145Z\" style=\"vector-effect: non-scaling-stroke; opacity: 1; stroke-width: 0.5px; fill: rgb(31, 119, 180); fill-opacity: 1; stroke: rgb(255, 255, 255); stroke-opacity: 1;\"/></g><g class=\"point\"><path d=\"M131.69,145V130.88H157.38V145Z\" style=\"vector-effect: non-scaling-stroke; opacity: 1; stroke-width: 0.5px; fill: rgb(31, 119, 180); fill-opacity: 1; stroke: rgb(255, 255, 255); stroke-opacity: 1;\"/></g><g class=\"point\"><path d=\"M163.81,145V133.4H189.5V145Z\" style=\"vector-effect: non-scaling-stroke; opacity: 1; stroke-width: 0.5px; fill: rgb(31, 119, 180); fill-opacity: 1; stroke: rgb(255, 255, 255); stroke-opacity: 1;\"/></g><g class=\"point\"><path d=\"M195.92,145V139.91H221.62V145Z\" style=\"vector-effect: non-scaling-stroke; opacity: 1; stroke-width: 0.5px; fill: rgb(31, 119, 180); fill-opacity: 1; stroke: rgb(255, 255, 255); stroke-opacity: 1;\"/></g><g class=\"point\"><path d=\"M228.04,145V143.76H253.74V145Z\" style=\"vector-effect: non-scaling-stroke; opacity: 1; stroke-width: 0.5px; fill: rgb(31, 119, 180); fill-opacity: 1; stroke: rgb(255, 255, 255); stroke-opacity: 1;\"/></g></g></g></g></g><g class=\"overplot\"/><path class=\"xlines-above crisp\" d=\"M34,162.5H291.95\" style=\"fill: none; stroke-width: 1px; stroke: rgb(36, 36, 36); stroke-opacity: 1;\"/><path class=\"ylines-above crisp\" d=\"M34.5,17V162\" style=\"fill: none; stroke-width: 1px; stroke: rgb(36, 36, 36); stroke-opacity: 1;\"/><g class=\"overlines-above\"/><g class=\"xaxislayer-above\"><path class=\"xtick ticks crisp\" d=\"M0,163v5\" transform=\"translate(51.06,0)\" style=\"stroke: rgb(68, 68, 68); stroke-opacity: 1; stroke-width: 1px;\"/><path class=\"xtick ticks crisp\" d=\"M0,163v5\" transform=\"translate(83.18,0)\" style=\"stroke: rgb(68, 68, 68); stroke-opacity: 1; stroke-width: 1px;\"/><path class=\"xtick ticks crisp\" d=\"M0,163v5\" transform=\"translate(115.3,0)\" style=\"stroke: rgb(68, 68, 68); stroke-opacity: 1; stroke-width: 1px;\"/><path class=\"xtick ticks crisp\" d=\"M0,163v5\" transform=\"translate(147.42000000000002,0)\" style=\"stroke: rgb(68, 68, 68); stroke-opacity: 1; stroke-width: 1px;\"/><path class=\"xtick ticks crisp\" d=\"M0,163v5\" transform=\"translate(179.53,0)\" style=\"stroke: rgb(68, 68, 68); stroke-opacity: 1; stroke-width: 1px;\"/><path class=\"xtick ticks crisp\" d=\"M0,163v5\" transform=\"translate(211.65,0)\" style=\"stroke: rgb(68, 68, 68); stroke-opacity: 1; stroke-width: 1px;\"/><path class=\"xtick ticks crisp\" d=\"M0,163v5\" transform=\"translate(243.77,0)\" style=\"stroke: rgb(68, 68, 68); stroke-opacity: 1; stroke-width: 1px;\"/><path class=\"xtick ticks crisp\" d=\"M0,163v5\" transform=\"translate(275.89,0)\" style=\"stroke: rgb(68, 68, 68); stroke-opacity: 1; stroke-width: 1px;\"/><g class=\"xtick\"><text text-anchor=\"start\" x=\"0\" y=\"182.4\" transform=\"translate(51.06,0) rotate(30,0,176.4)\" style=\"font-family: 'Open Sans', verdana, arial, sans-serif; font-size: 12px; fill: rgb(36, 36, 36); fill-opacity: 1; white-space: pre; opacity: 1;\">adverse reaction</text></g><g class=\"xtick\"><text text-anchor=\"start\" x=\"0\" y=\"182.4\" transform=\"translate(83.18,0) rotate(30,0,176.4)\" style=\"font-family: 'Open Sans', verdana, arial, sans-serif; font-size: 12px; fill: rgb(36, 36, 36); fill-opacity: 1; white-space: pre; opacity: 1;\">other</text></g><g class=\"xtick\"><text text-anchor=\"start\" x=\"0\" y=\"182.4\" transform=\"translate(115.3,0) rotate(30,0,176.4)\" style=\"font-family: 'Open Sans', verdana, arial, sans-serif; font-size: 12px; fill: rgb(36, 36, 36); fill-opacity: 1; white-space: pre; opacity: 1;\">overmedication</text></g><g class=\"xtick\"><text text-anchor=\"start\" x=\"0\" y=\"182.4\" transform=\"translate(147.42000000000002,0) rotate(30,0,176.4)\" style=\"font-family: 'Open Sans', verdana, arial, sans-serif; font-size: 12px; fill: rgb(36, 36, 36); fill-opacity: 1; white-space: pre; opacity: 1;\">detox</text></g><g class=\"xtick\"><text text-anchor=\"start\" x=\"0\" y=\"182.4\" transform=\"translate(179.53,0) rotate(30,0,176.4)\" style=\"font-family: 'Open Sans', verdana, arial, sans-serif; font-size: 12px; fill: rgb(36, 36, 36); fill-opacity: 1; white-space: pre; opacity: 1;\">suicide attempt</text></g><g class=\"xtick\"><text text-anchor=\"start\" x=\"0\" y=\"182.4\" transform=\"translate(211.65,0) rotate(30,0,176.4)\" style=\"font-family: 'Open Sans', verdana, arial, sans-serif; font-size: 12px; fill: rgb(36, 36, 36); fill-opacity: 1; white-space: pre; opacity: 1;\">alcohol</text></g><g class=\"xtick\"><text text-anchor=\"start\" x=\"0\" y=\"182.4\" transform=\"translate(243.77,0) rotate(30,0,176.4)\" style=\"font-family: 'Open Sans', verdana, arial, sans-serif; font-size: 12px; fill: rgb(36, 36, 36); fill-opacity: 1; white-space: pre; opacity: 1;\">accidental ingestion</text></g><g class=\"xtick\"><text text-anchor=\"start\" x=\"0\" y=\"182.4\" transform=\"translate(275.89,0) rotate(30,0,176.4)\" style=\"font-family: 'Open Sans', verdana, arial, sans-serif; font-size: 12px; fill: rgb(36, 36, 36); fill-opacity: 1; white-space: pre; opacity: 1;\">malicious poisoning</text></g></g><g class=\"yaxislayer-above\"><path class=\"ytick ticks crisp\" d=\"M34,0h-5\" transform=\"translate(0,162)\" style=\"stroke: rgb(68, 68, 68); stroke-opacity: 1; stroke-width: 1px;\"/><path class=\"ytick ticks crisp\" d=\"M34,0h-5\" transform=\"translate(0,126.16)\" style=\"stroke: rgb(68, 68, 68); stroke-opacity: 1; stroke-width: 1px;\"/><path class=\"ytick ticks crisp\" d=\"M34,0h-5\" transform=\"translate(0,90.32)\" style=\"stroke: rgb(68, 68, 68); stroke-opacity: 1; stroke-width: 1px;\"/><path class=\"ytick ticks crisp\" d=\"M34,0h-5\" transform=\"translate(0,54.48)\" style=\"stroke: rgb(68, 68, 68); stroke-opacity: 1; stroke-width: 1px;\"/><path class=\"ytick ticks crisp\" d=\"M34,0h-5\" transform=\"translate(0,18.64)\" style=\"stroke: rgb(68, 68, 68); stroke-opacity: 1; stroke-width: 1px;\"/><g class=\"ytick\"><text text-anchor=\"end\" x=\"26.6\" y=\"4.199999999999999\" transform=\"translate(0,162)\" style=\"font-family: 'Open Sans', verdana, arial, sans-serif; font-size: 12px; fill: rgb(36, 36, 36); fill-opacity: 1; white-space: pre; opacity: 1;\">0</text></g><g class=\"ytick\"><text text-anchor=\"end\" x=\"26.6\" y=\"4.199999999999999\" style=\"font-family: 'Open Sans', verdana, arial, sans-serif; font-size: 12px; fill: rgb(36, 36, 36); fill-opacity: 1; white-space: pre; opacity: 1;\" transform=\"translate(0,126.16)\">0.1</text></g><g class=\"ytick\"><text text-anchor=\"end\" x=\"26.6\" y=\"4.199999999999999\" style=\"font-family: 'Open Sans', verdana, arial, sans-serif; font-size: 12px; fill: rgb(36, 36, 36); fill-opacity: 1; white-space: pre; opacity: 1;\" transform=\"translate(0,90.32)\">0.2</text></g><g class=\"ytick\"><text text-anchor=\"end\" x=\"26.6\" y=\"4.199999999999999\" style=\"font-family: 'Open Sans', verdana, arial, sans-serif; font-size: 12px; fill: rgb(36, 36, 36); fill-opacity: 1; white-space: pre; opacity: 1;\" transform=\"translate(0,54.48)\">0.3</text></g><g class=\"ytick\"><text text-anchor=\"end\" x=\"26.6\" y=\"4.199999999999999\" style=\"font-family: 'Open Sans', verdana, arial, sans-serif; font-size: 12px; fill: rgb(36, 36, 36); fill-opacity: 1; white-space: pre; opacity: 1;\" transform=\"translate(0,18.64)\">0.4</text></g></g><g class=\"overaxes-above\"/></g><g class=\"subplot x2y2\"><g class=\"layer-subplot\"><g class=\"shapelayer\"/><g class=\"imagelayer\"/></g><g class=\"gridlayer\"><g class=\"x2\"><path class=\"x2grid crisp\" transform=\"translate(365.11,0)\" d=\"M0,17v145\" style=\"stroke: rgb(232, 232, 232); stroke-opacity: 1; stroke-width: 1px;\"/><path class=\"x2grid crisp\" transform=\"translate(397.23,0)\" d=\"M0,17v145\" style=\"stroke: rgb(232, 232, 232); stroke-opacity: 1; stroke-width: 1px;\"/><path class=\"x2grid crisp\" transform=\"translate(429.35,0)\" d=\"M0,17v145\" style=\"stroke: rgb(232, 232, 232); stroke-opacity: 1; stroke-width: 1px;\"/><path class=\"x2grid crisp\" transform=\"translate(461.47,0)\" d=\"M0,17v145\" style=\"stroke: rgb(232, 232, 232); stroke-opacity: 1; stroke-width: 1px;\"/><path class=\"x2grid crisp\" transform=\"translate(493.58000000000004,0)\" d=\"M0,17v145\" style=\"stroke: rgb(232, 232, 232); stroke-opacity: 1; stroke-width: 1px;\"/><path class=\"x2grid crisp\" transform=\"translate(525.7,0)\" d=\"M0,17v145\" style=\"stroke: rgb(232, 232, 232); stroke-opacity: 1; stroke-width: 1px;\"/><path class=\"x2grid crisp\" transform=\"translate(557.82,0)\" d=\"M0,17v145\" style=\"stroke: rgb(232, 232, 232); stroke-opacity: 1; stroke-width: 1px;\"/><path class=\"x2grid crisp\" transform=\"translate(589.94,0)\" d=\"M0,17v145\" style=\"stroke: rgb(232, 232, 232); stroke-opacity: 1; stroke-width: 1px;\"/></g><g class=\"y2\"><path class=\"y2grid crisp\" transform=\"translate(0,131.66)\" d=\"M349.05,0h256.95\" style=\"stroke: rgb(232, 232, 232); stroke-opacity: 1; stroke-width: 1px;\"/><path class=\"y2grid crisp\" transform=\"translate(0,101.33)\" d=\"M349.05,0h256.95\" style=\"stroke: rgb(232, 232, 232); stroke-opacity: 1; stroke-width: 1px;\"/><path class=\"y2grid crisp\" transform=\"translate(0,70.99000000000001)\" d=\"M349.05,0h256.95\" style=\"stroke: rgb(232, 232, 232); stroke-opacity: 1; stroke-width: 1px;\"/><path class=\"y2grid crisp\" transform=\"translate(0,40.66)\" d=\"M349.05,0h256.95\" style=\"stroke: rgb(232, 232, 232); stroke-opacity: 1; stroke-width: 1px;\"/></g></g><g class=\"zerolinelayer\"/><path class=\"xlines-below\"/><path class=\"ylines-below\"/><g class=\"overlines-below\"/><g class=\"xaxislayer-below\"/><g class=\"yaxislayer-below\"/><g class=\"overaxes-below\"/><g class=\"plot\" transform=\"translate(349.05,17)\" clip-path=\"url(#clip18cd3bx2y2plot)\"><g class=\"barlayer mlayer\"><g class=\"trace bars\" style=\"opacity: 1;\"><g class=\"points\"><g class=\"point\"><path d=\"M3.21,145V7.25H28.91V145Z\" style=\"vector-effect: non-scaling-stroke; opacity: 1; stroke-width: 0.5px; fill: rgb(31, 119, 180); fill-opacity: 1; stroke: rgb(255, 255, 255); stroke-opacity: 1;\"/></g><g class=\"point\"><path d=\"M35.33,145V48.66H61.03V145Z\" style=\"vector-effect: non-scaling-stroke; opacity: 1; stroke-width: 0.5px; fill: rgb(31, 119, 180); fill-opacity: 1; stroke: rgb(255, 255, 255); stroke-opacity: 1;\"/></g><g class=\"point\"><path d=\"M67.45,145V119.11H93.14V145Z\" style=\"vector-effect: non-scaling-stroke; opacity: 1; stroke-width: 0.5px; fill: rgb(31, 119, 180); fill-opacity: 1; stroke: rgb(255, 255, 255); stroke-opacity: 1;\"/></g><g class=\"point\"><path d=\"M99.57,145V130H125.26V145Z\" style=\"vector-effect: non-scaling-stroke; opacity: 1; stroke-width: 0.5px; fill: rgb(31, 119, 180); fill-opacity: 1; stroke: rgb(255, 255, 255); stroke-opacity: 1;\"/></g><g class=\"point\"><path d=\"M131.69,145V131.33H157.38V145Z\" style=\"vector-effect: non-scaling-stroke; opacity: 1; stroke-width: 0.5px; fill: rgb(31, 119, 180); fill-opacity: 1; stroke: rgb(255, 255, 255); stroke-opacity: 1;\"/></g><g class=\"point\"><path d=\"M163.81,145V138.03H189.5V145Z\" style=\"vector-effect: non-scaling-stroke; opacity: 1; stroke-width: 0.5px; fill: rgb(31, 119, 180); fill-opacity: 1; stroke: rgb(255, 255, 255); stroke-opacity: 1;\"/></g><g class=\"point\"><path d=\"M195.92,145V138.2H221.62V145Z\" style=\"vector-effect: non-scaling-stroke; opacity: 1; stroke-width: 0.5px; fill: rgb(31, 119, 180); fill-opacity: 1; stroke: rgb(255, 255, 255); stroke-opacity: 1;\"/></g><g class=\"point\"><path d=\"M228.04,145V144.07H253.74V145Z\" style=\"vector-effect: non-scaling-stroke; opacity: 1; stroke-width: 0.5px; fill: rgb(31, 119, 180); fill-opacity: 1; stroke: rgb(255, 255, 255); stroke-opacity: 1;\"/></g></g></g></g></g><g class=\"overplot\"/><path class=\"xlines-above crisp\" d=\"M348.05,162.5H606\" style=\"fill: none; stroke-width: 1px; stroke: rgb(36, 36, 36); stroke-opacity: 1;\"/><path class=\"ylines-above crisp\" d=\"M348.55,17V162\" style=\"fill: none; stroke-width: 1px; stroke: rgb(36, 36, 36); stroke-opacity: 1;\"/><g class=\"overlines-above\"/><g class=\"xaxislayer-above\"><path class=\"x2tick ticks crisp\" d=\"M0,163v5\" transform=\"translate(365.11,0)\" style=\"stroke: rgb(68, 68, 68); stroke-opacity: 1; stroke-width: 1px;\"/><path class=\"x2tick ticks crisp\" d=\"M0,163v5\" transform=\"translate(397.23,0)\" style=\"stroke: rgb(68, 68, 68); stroke-opacity: 1; stroke-width: 1px;\"/><path class=\"x2tick ticks crisp\" d=\"M0,163v5\" transform=\"translate(429.35,0)\" style=\"stroke: rgb(68, 68, 68); stroke-opacity: 1; stroke-width: 1px;\"/><path class=\"x2tick ticks crisp\" d=\"M0,163v5\" transform=\"translate(461.47,0)\" style=\"stroke: rgb(68, 68, 68); stroke-opacity: 1; stroke-width: 1px;\"/><path class=\"x2tick ticks crisp\" d=\"M0,163v5\" transform=\"translate(493.58000000000004,0)\" style=\"stroke: rgb(68, 68, 68); stroke-opacity: 1; stroke-width: 1px;\"/><path class=\"x2tick ticks crisp\" d=\"M0,163v5\" transform=\"translate(525.7,0)\" style=\"stroke: rgb(68, 68, 68); stroke-opacity: 1; stroke-width: 1px;\"/><path class=\"x2tick ticks crisp\" d=\"M0,163v5\" transform=\"translate(557.82,0)\" style=\"stroke: rgb(68, 68, 68); stroke-opacity: 1; stroke-width: 1px;\"/><path class=\"x2tick ticks crisp\" d=\"M0,163v5\" transform=\"translate(589.94,0)\" style=\"stroke: rgb(68, 68, 68); stroke-opacity: 1; stroke-width: 1px;\"/><g class=\"x2tick\"><text text-anchor=\"start\" x=\"0\" y=\"182.4\" transform=\"translate(365.11,0) rotate(30,0,176.4)\" style=\"font-family: 'Open Sans', verdana, arial, sans-serif; font-size: 12px; fill: rgb(36, 36, 36); fill-opacity: 1; white-space: pre; opacity: 1;\">adverse reaction</text></g><g class=\"x2tick\"><text text-anchor=\"start\" x=\"0\" y=\"182.4\" transform=\"translate(397.23,0) rotate(30,0,176.4)\" style=\"font-family: 'Open Sans', verdana, arial, sans-serif; font-size: 12px; fill: rgb(36, 36, 36); fill-opacity: 1; white-space: pre; opacity: 1;\">other</text></g><g class=\"x2tick\"><text text-anchor=\"start\" x=\"0\" y=\"182.4\" transform=\"translate(429.35,0) rotate(30,0,176.4)\" style=\"font-family: 'Open Sans', verdana, arial, sans-serif; font-size: 12px; fill: rgb(36, 36, 36); fill-opacity: 1; white-space: pre; opacity: 1;\">overmedication</text></g><g class=\"x2tick\"><text text-anchor=\"start\" x=\"0\" y=\"182.4\" transform=\"translate(461.47,0) rotate(30,0,176.4)\" style=\"font-family: 'Open Sans', verdana, arial, sans-serif; font-size: 12px; fill: rgb(36, 36, 36); fill-opacity: 1; white-space: pre; opacity: 1;\">detox</text></g><g class=\"x2tick\"><text text-anchor=\"start\" x=\"0\" y=\"182.4\" transform=\"translate(493.58000000000004,0) rotate(30,0,176.4)\" style=\"font-family: 'Open Sans', verdana, arial, sans-serif; font-size: 12px; fill: rgb(36, 36, 36); fill-opacity: 1; white-space: pre; opacity: 1;\">suicide attempt</text></g><g class=\"x2tick\"><text text-anchor=\"start\" x=\"0\" y=\"182.4\" transform=\"translate(525.7,0) rotate(30,0,176.4)\" style=\"font-family: 'Open Sans', verdana, arial, sans-serif; font-size: 12px; fill: rgb(36, 36, 36); fill-opacity: 1; white-space: pre; opacity: 1;\">alcohol</text></g><g class=\"x2tick\"><text text-anchor=\"start\" x=\"0\" y=\"182.4\" transform=\"translate(557.82,0) rotate(30,0,176.4)\" style=\"font-family: 'Open Sans', verdana, arial, sans-serif; font-size: 12px; fill: rgb(36, 36, 36); fill-opacity: 1; white-space: pre; opacity: 1;\">accidental ingestion</text></g><g class=\"x2tick\"><text text-anchor=\"start\" x=\"0\" y=\"182.4\" transform=\"translate(589.94,0) rotate(30,0,176.4)\" style=\"font-family: 'Open Sans', verdana, arial, sans-serif; font-size: 12px; fill: rgb(36, 36, 36); fill-opacity: 1; white-space: pre; opacity: 1;\">malicious poisoning</text></g></g><g class=\"yaxislayer-above\"><path class=\"y2tick ticks crisp\" d=\"M348.05,0h-5\" transform=\"translate(0,162)\" style=\"stroke: rgb(68, 68, 68); stroke-opacity: 1; stroke-width: 1px;\"/><path class=\"y2tick ticks crisp\" d=\"M348.05,0h-5\" transform=\"translate(0,131.66)\" style=\"stroke: rgb(68, 68, 68); stroke-opacity: 1; stroke-width: 1px;\"/><path class=\"y2tick ticks crisp\" d=\"M348.05,0h-5\" transform=\"translate(0,101.33)\" style=\"stroke: rgb(68, 68, 68); stroke-opacity: 1; stroke-width: 1px;\"/><path class=\"y2tick ticks crisp\" d=\"M348.05,0h-5\" transform=\"translate(0,70.99000000000001)\" style=\"stroke: rgb(68, 68, 68); stroke-opacity: 1; stroke-width: 1px;\"/><path class=\"y2tick ticks crisp\" d=\"M348.05,0h-5\" transform=\"translate(0,40.66)\" style=\"stroke: rgb(68, 68, 68); stroke-opacity: 1; stroke-width: 1px;\"/><g class=\"y2tick\"><text text-anchor=\"end\" x=\"340.65000000000003\" y=\"4.199999999999999\" transform=\"translate(0,162)\" style=\"font-family: 'Open Sans', verdana, arial, sans-serif; font-size: 12px; fill: rgb(36, 36, 36); fill-opacity: 1; white-space: pre; opacity: 1;\">0</text></g><g class=\"y2tick\"><text text-anchor=\"end\" x=\"340.65000000000003\" y=\"4.199999999999999\" style=\"font-family: 'Open Sans', verdana, arial, sans-serif; font-size: 12px; fill: rgb(36, 36, 36); fill-opacity: 1; white-space: pre; opacity: 1;\" transform=\"translate(0,131.66)\">0.1</text></g><g class=\"y2tick\"><text text-anchor=\"end\" x=\"340.65000000000003\" y=\"4.199999999999999\" style=\"font-family: 'Open Sans', verdana, arial, sans-serif; font-size: 12px; fill: rgb(36, 36, 36); fill-opacity: 1; white-space: pre; opacity: 1;\" transform=\"translate(0,101.33)\">0.2</text></g><g class=\"y2tick\"><text text-anchor=\"end\" x=\"340.65000000000003\" y=\"4.199999999999999\" style=\"font-family: 'Open Sans', verdana, arial, sans-serif; font-size: 12px; fill: rgb(36, 36, 36); fill-opacity: 1; white-space: pre; opacity: 1;\" transform=\"translate(0,70.99000000000001)\">0.3</text></g><g class=\"y2tick\"><text text-anchor=\"end\" x=\"340.65000000000003\" y=\"4.199999999999999\" style=\"font-family: 'Open Sans', verdana, arial, sans-serif; font-size: 12px; fill: rgb(36, 36, 36); fill-opacity: 1; white-space: pre; opacity: 1;\" transform=\"translate(0,40.66)\">0.4</text></g></g><g class=\"overaxes-above\"/></g></g><g class=\"polarlayer\"/><g class=\"smithlayer\"/><g class=\"ternarylayer\"/><g class=\"geolayer\"/><g class=\"funnelarealayer\"/><g class=\"pielayer\"/><g class=\"iciclelayer\"/><g class=\"treemaplayer\"/><g class=\"sunburstlayer\"/><g class=\"glimages\"/><defs id=\"topdefs-18cd3b\"><g class=\"clips\"/></defs><g class=\"layer-above\"><g class=\"imagelayer\"/><g class=\"shapelayer\"/></g><g class=\"infolayer\"><g class=\"g-gtitle\"/><g class=\"g-xtitle\"/><g class=\"g-x2title\"/><g class=\"g-ytitle\"/><g class=\"g-y2title\"/></g></svg>"
      ]
     },
     "metadata": {},
     "output_type": "display_data"
    }
   ],
   "source": [
    "fig1 = px.bar(x=types_ct, y=dawn_cts.values)\n",
    "fig2 = px.bar(x=types_wt, y=dawn_wt_sort.values)\n",
    "\n",
    "fig = left_right(fig1, fig2)\n",
    "fig.show()"
   ]
  },
  {
   "cell_type": "markdown",
   "metadata": {},
   "source": [
    "In the unweighted bar plot, the \"Other\" category is as frequent as the \"Adverse Reaction\" category. However, when weighted, \"Other\" drops to about 2/3 of \"Adverse Reaction\". Ignoring sampling weights can give a misleading presentation of a distribution. Whether for a histogram, bar plot, box plot, two-dimensional contour, or smooth curve we need to use the weights to get a representative plot. Another aspect of the data scope that can impact our choice of plots is where the data are collected, which is the topic of the next section."
   ]
  },
  {
   "cell_type": "markdown",
   "metadata": {},
   "source": [
    "## Geographic Data\n",
    "\n",
    "When our data contains geographic information like latitude and longitude, we should consider making a map, in addition to the typical plots.\n",
    "For example, the map below shows the locations for US Air Quality sensors,\n",
    "which are the focus of the case study in {numref}`Chapter %s <ch:pa>`."
   ]
  },
  {
   "cell_type": "code",
   "execution_count": 10,
   "metadata": {
    "tags": [
     "remove-cell"
    ]
   },
   "outputs": [],
   "source": [
    "def rollup_dup_sites(df):\n",
    "    return (\n",
    "        df.groupby('AQS_Site_ID')\n",
    "        .first()\n",
    "        .reset_index()\n",
    "    )\n",
    "\n",
    "def subset_aqs(df):\n",
    "    subset = df[['AQS_Site_ID', 'Latitude', 'Longitude']]\n",
    "    subset.columns = ['site_id', 'lat', 'lon']\n",
    "    return subset\n",
    "\n",
    "aqs_sites = (pd.read_csv('data/list_of_aqs_sites.csv')\n",
    "             .pipe(rollup_dup_sites)\n",
    "             .pipe(subset_aqs))"
   ]
  },
  {
   "cell_type": "code",
   "execution_count": 11,
   "metadata": {
    "tags": [
     "hide-input"
    ]
   },
   "outputs": [
    {
     "data": {
      "application/vnd.plotly.v1+json": {
       "config": {
        "plotlyServerURL": "https://plot.ly"
       },
       "data": [
        {
         "geo": "geo",
         "hovertemplate": "lat=%{lat}<br>lon=%{lon}<extra></extra>",
         "lat": [
          30.4974780008256,
          33.284928000866,
          34.2885670008786,
          33.991494000875,
          33.5530560008695,
          33.3311110008666,
          33.5452780008694,
          33.4997220008688,
          33.5214274856,
          34.687761126,
          30.7701810008299,
          32.4128110008542,
          34.5307170008815,
          32.437028,
          32.3626060008535,
          33.1899310008648,
          58.3884971242076,
          35.8804038106536,
          34.2439,
          33.4837800008686,
          33.4101800008677,
          33.5603100008696,
          33.5745300008698,
          33.4031400008676,
          33.4112300008677,
          33.41046,
          33.4881307853725,
          33.4265000008679,
          33.503833,
          35.5400171245985,
          32.3226614191457,
          32.29515,
          32.8775830008606,
          33.4211940008678,
          32.884761,
          31.337204,
          32.690278,
          34.5185148426158,
          33.1394711168438,
          35.1972876317392,
          34.469441080768,
          35.6372827821457,
          34.5836985877722,
          34.7561888042723,
          34.6813433627688,
          33.2205625298932,
          36.1797000452413,
          37.687526,
          37.743065,
          37.814781,
          37.793624,
          37.8647670009145,
          37.7012220009132,
          39.76168,
          38.20185,
          39.0212210009231,
          39.18919,
          37.936013,
          37.9604,
          36.78538,
          36.9851185574381,
          36.6342250009037,
          36.710833,
          36.819449,
          36.72639,
          41.04711698495945,
          40.7767800009332,
          32.67618,
          33.37907778,
          32.79222,
          37.360684,
          36.487823,
          36.5955560009034,
          37.3621369693511,
          37.155494,
          35.385574,
          35.356615,
          35.324636,
          35.6429431008838,
          35.0465280008874,
          36.102244,
          36.31567,
          39.0189300009231,
          34.1365,
          34.0665900008759,
          34.19925,
          33.9013890008739,
          34.0102900008752,
          34.1326,
          33.82376,
          33.79236,
          33.8596620008734,
          34.6697390008831,
          36.953256,
          37.97231,
          39.15047,
          39.41174,
          37.281853,
          37.30832,
          37.64571,
          37.962069,
          36.4818700009023,
          36.2092860008996,
          36.6942610009043,
          38.2788490009178,
          39.2334770009245,
          39.3278300009251,
          33.83062,
          33.63003,
          38.93568,
          38.74643,
          39.9395670009288,
          39.81336,
          33.4478670008682,
          33.747236000872,
          33.7196900008716,
          33.9447129,
          33.70853,
          33.85275,
          33.9995800008751,
          33.996360000875,
          38.6137790009202,
          38.56844,
          38.683304,
          38.593322,
          38.494475,
          36.8434250009057,
          34.030833,
          34.5109611108812,
          34.10002,
          34.2646400008783,
          34.1066780008764,
          32.6312420008573,
          32.8457090008602,
          32.985442,
          32.7895650008594,
          32.7101770008584,
          33.3625928342781,
          37.765946,
          37.9507408985318,
          37.793392,
          35.02083,
          35.0467300008874,
          35.2595015184308,
          35.49453,
          37.482934,
          34.4277749961254,
          34.6378200008827,
          34.4455100008805,
          36.999571,
          37.348497,
          37.338135,
          36.983320000907,
          37.0631500009077,
          40.5501300009321,
          41.726892,
          38.102507,
          38.403765,
          37.642165,
          37.488317,
          39.1387725442464,
          40.17093,
          36.3321793109462,
          34.210169,
          34.404281,
          34.44806,
          34.276316,
          34.25239,
          38.66121,
          39.8281,
          39.6043990009268,
          40.1645760009301,
          40.0210970009293,
          38.8764000009221,
          39.7511840009277,
          39.7385780009277,
          39.77949,
          39.73217,
          39.7861,
          39.5344880009264,
          38.8480140009219,
          39.43806,
          39.5464,
          37.10258,
          40.5712880009322,
          39.0637980009234,
          38.2760990009177,
          40.0869440009297,
          40.4148770009314,
          40.2093870009303,
          41.170833000935,
          41.399167000936,
          41.771444,
          41.7847220009375,
          41.8213420009376,
          41.3014000009356,
          41.550556,
          41.35362,
          38.986672,
          39.155,
          39.761111,
          39.5513,
          39.57768,
          39.6919623535267,
          39.739444,
          38.6539,
          38.895572,
          38.9218470009224,
          38.8947700009222,
          38.8751610009221,
          30.135797178,
          30.354722,
          30.262778,
          30.525367,
          30.4397220008247,
          32.7774646615604,
          32.8052638843599,
          32.0907794615767,
          33.91813699186,
          33.6108449850019,
          34.0154357417377,
          31.5130968576628,
          33.6878000008712,
          31.5776000008422,
          33.8022405397525,
          33.7784000008724,
          31.1698048619361,
          33.9632,
          34.2993000008787,
          32.6056000008569,
          30.8486000008311,
          32.521272004906,
          32.4274,
          33.433900000868,
          34.9784,
          32.9673591607715,
          43.600699,
          47.316576569,
          43.58031,
          42.082222,
          42.68,
          45.1818970009432,
          47.536389,
          40.1238858574616,
          40.05278,
          41.6709918952829,
          41.6871654376343,
          41.9654848301767,
          41.912739,
          41.7513999786378,
          41.5786196210494,
          41.80118,
          41.9651934814238,
          41.7827660079251,
          42.0602846910538,
          42.139996190948,
          41.8644264230095,
          41.7710709444974,
          38.0821551646727,
          39.101439,
          42.0504030003903,
          41.7847165129183,
          42.221441662101,
          40.5187353721062,
          39.866833885022,
          38.7006315001362,
          38.901361539954,
          38.7045342604079,
          38.8606694707698,
          40.6970070002047,
          38.1762776056649,
          41.5147269688183,
          38.6120344810656,
          39.8319208689568,
          41.526885089371,
          41.2215370677657,
          42.2670002,
          41.094965496,
          39.237456874,
          38.3938222909186,
          38.2881908269178,
          40.1995024089303,
          38.3917990009186,
          41.657154959937,
          38.9854769349229,
          39.96088418,
          39.9288040209288,
          40.0095437619292,
          40.4813468883318,
          41.6359519529369,
          41.6066623240368,
          41.5732824669367,
          41.5984727179368,
          41.653500828937,
          41.5944266019368,
          41.7072116056478,
          40.1257028009299,
          39.7449926753646,
          39.8108330009281,
          39.7889030009279,
          39.7588551909278,
          39.787933053,
          39.159383056924,
          41.6175000009369,
          41.6966604109371,
          38.1675230301528,
          40.431639,
          37.9744364480379,
          38.0133330009157,
          39.4859870009261,
          41.169645500935,
          42.5015430009398,
          41.8232826881747,
          41.8749989322255,
          41.657232000937,
          40.4009586474442,
          41.97677,
          40.9691120009341,
          41.4009679259914,
          41.4194287908978,
          41.406900000936,
          43.1237040009413,
          41.6031590009368,
          41.6035166709368,
          41.2641709943154,
          41.5300106207475,
          41.5120770009364,
          40.695078,
          42.4998443259973,
          38.838575,
          37.67696,
          37.702066,
          39.024265,
          37.47689,
          38.770081,
          39.117219,
          36.60843,
          38.45934,
          39.021881,
          38.23887,
          36.91171,
          37.780776,
          38.06503,
          37.705612,
          38.0609100009161,
          38.2287600009174,
          38.1936,
          38.182500000917,
          38.2315800009174,
          37.05822,
          37.28329,
          37.4826,
          37.09798,
          37.04926,
          32.471819333,
          30.2277977301424,
          30.461981,
          30.2191008729756,
          30.0412377293313,
          29.9003140259356,
          30.2261097092031,
          29.996013,
          32.5099590139388,
          31.177824119,
          29.943164,
          30.5032871520732,
          30.500642,
          44.089406,
          47.355332,
          46.698421913,
          46.682299,
          43.677994,
          43.660246,
          44.377050000943,
          44.312319,
          44.551419,
          44.8173980009432,
          39.460478000926,
          39.310833,
          39.702982,
          38.587525,
          39.70595,
          39.410191,
          39.14313,
          39.305021,
          39.114313,
          39.055277,
          39.564178,
          39.297733,
          42.4522993070341,
          42.7022230009403,
          41.6857067155718,
          42.4746421384544,
          42.7708365765507,
          42.605816,
          42.1943804653421,
          42.1202291946886,
          42.2984926849719,
          42.6120846820042,
          42.241229,
          42.0651056363863,
          42.3488727124916,
          42.3295,
          42.325186,
          42.387222,
          42.2639545825909,
          42.7677855514527,
          43.5713906134716,
          43.0472241917062,
          42.7613867496543,
          42.2780666736986,
          42.9841730428365,
          41.9955676998722,
          42.7313941191528,
          44.3070000829522,
          44.3105554203758,
          42.4630634106704,
          42.8944506594294,
          42.9533362711269,
          46.2888771607497,
          42.2405654781129,
          42.2286201358284,
          42.3027864681917,
          42.4308404181017,
          42.3066744897716,
          42.3859980524931,
          42.3121580009392,
          42.295824,
          42.312078,
          42.388405,
          45.1376795361548,
          46.851811,
          47.8781590009383,
          46.7136940009414,
          47.3844300009398,
          47.972085,
          46.396740000942,
          44.7384600009432,
          44.706123,
          44.9652420009432,
          44.9536600009432,
          44.9480500009432,
          47.948622,
          44.4438000009431,
          43.996908,
          44.9507200009432,
          44.9593900009432,
          47.5233550009394,
          46.8182600009412,
          46.7436571531727,
          44.7914370009432,
          45.549839,
          45.02862,
          45.02124,
          45.2091600009432,
          33.750838,
          34.82166,
          31.323639,
          30.3008330008224,
          30.390369181243,
          32.329111,
          32.346722,
          30.3782867218264,
          39.7416944853212,
          38.75961,
          37.70097,
          39.3031741035639,
          37.2561370295805,
          39.1046863699472,
          39.047911,
          38.4486717884839,
          38.6503289014021,
          38.542550531558,
          38.656428944875,
          38.6564789512734,
          38.6311400009204,
          47.048537,
          48.363694,
          44.657014,
          46.8505,
          46.658762,
          48.3915450080109,
          46.8421813619225,
          47.012907,
          48.317507,
          45.440295,
          46.243621,
          47.8679000009384,
          45.366151,
          46.002602,
          45.8063110009428,
          41.2474860009354,
          41.1978470009352,
          40.285,
          40.942099,
          40.9155550009339,
          40.812591238,
          41.1332940009349,
          41.876853,
          41.875556,
          41.5512110009366,
          36.815897,
          36.106389,
          36.0047334387416,
          36.16976,
          36.173415,
          36.270592,
          36.048705,
          35.987908,
          36.141875,
          36.163962,
          35.969848,
          35.7856650008953,
          36.1397070008989,
          36.214465,
          38.897557,
          39.3998365,
          39.52193333333333,
          39.5409171,
          39.621434,
          39.1447,
          43.5661220009421,
          42.9305210009409,
          43.6296050009422,
          42.8618300009407,
          43.0753710009412,
          42.8625310009407,
          39.464872,
          39.36326,
          40.85355,
          39.934559,
          39.989036,
          39.422273,
          40.720989,
          39.800339,
          40.725413,
          40.515262,
          40.283092,
          40.222411,
          40.462182,
          40.787628,
          39.994908,
          40.64144,
          40.603943,
          40.92458,
          35.1343000008884,
          35.1443000008885,
          35.01708,
          35.1852000008889,
          35.193240000889,
          32.003711801,
          31.796218122,
          31.787884954,
          32.322037337,
          32.726656,
          35.6197500008936,
          36.383359115,
          42.64225,
          42.68075,
          40.816,
          40.8679,
          42.49963,
          42.99328,
          42.8769066671345,
          42.9211072796373,
          44.39308,
          40.71961,
          43.1450126807403,
          43.14618,
          40.7997,
          40.71436,
          43.05235,
          41.49916,
          40.73614,
          40.739264,
          40.63307,
          42.09142,
          40.74529,
          35.6062000008935,
          35.728889,
          35.041416,
          35.8145,
          36.0329550008979,
          36.11094,
          36.026612,
          36.1090060008986,
          35.46676663,
          35.59095,
          35.2401000008895,
          35.213171,
          35.28179100089,
          35.9124870008966,
          35.2631650008898,
          34.364167,
          36.5117080009026,
          35.6412760008938,
          35.551868,
          35.434767,
          35.856111,
          35.8652,
          46.8943000009411,
          48.6419300009354,
          46.8254250009412,
          46.933754000941,
          47.34242300094,
          47.5812,
          47.2986110009401,
          47.1858330009404,
          47.9408610009381,
          40.7709440009332,
          39.442165,
          39.9679,
          39.49072,
          39.33839,
          39.479822,
          39.472436,
          39.478686,
          39.92882,
          41.55523,
          41.477011,
          41.471782,
          41.492117,
          41.4466244,
          41.44013,
          41.39629,
          40.002707,
          40.11107,
          40.0877,
          39.2787,
          39.19433,
          39.12886,
          39.10492,
          39.146025,
          40.332933300931,
          40.3663,
          41.726811,
          38.508075,
          41.463071,
          41.644067,
          41.62057,
          41.6798670009371,
          41.0959600009347,
          41.0604,
          39.7559690009278,
          41.1644,
          39.83562,
          38.754599,
          38.59246,
          40.7868036,
          40.800717,
          41.063526,
          41.087862,
          41.2317200009353,
          34.244189,
          35.3201050008904,
          34.63298,
          36.1584140008991,
          36.6971860009043,
          35.472920000892,
          35.503069688433,
          35.6141310008935,
          36.985702,
          34.8856080008856,
          35.4081400008914,
          35.9537080008971,
          36.2049020008996,
          36.5123682770749,
          44.299787,
          43.58925,
          42.33155,
          42.434139,
          42.190296,
          42.189215,
          44.0672238,
          44.026312,
          43.744352,
          43.799501,
          45.496641,
          45.66408,
          45.528501,
          45.393497,
          39.9200201125851,
          40.4997665699716,
          40.4654203279986,
          40.3237675516937,
          40.3756436265984,
          40.6174879021179,
          40.402328034171,
          40.43743,
          40.2943405647412,
          40.8141826239239,
          40.7477958611323,
          40.38335,
          40.535278,
          41.705226,
          40.309722,
          40.811389,
          39.8344605866755,
          40.246528,
          40.246992,
          39.835556,
          39.818715,
          42.14175,
          39.917663,
          39.80933,
          40.56333,
          41.442778,
          40.046667,
          40.0438330009294,
          40.338516,
          40.611944,
          41.266263,
          41.2150135311878,
          40.112222,
          40.628056,
          39.991389,
          39.922867,
          39.9600480009289,
          40.054171,
          39.988842,
          41.8673310595086,
          41.644722,
          40.146667,
          40.445278,
          40.268963,
          40.304694,
          41.605244,
          39.965278,
          41.615237,
          41.807469,
          41.874668,
          41.829495,
          41.841039,
          41.49511,
          32.836602,
          32.980254000862,
          32.7909840008595,
          34.6153670008825,
          33.7399630008719,
          34.21426338,
          34.84389511,
          34.75184811,
          34.0510170008757,
          34.093959,
          34.95556569,
          34.9127000008859,
          44.3486039691769,
          45.468596,
          44.89965,
          43.55764,
          44.373786,
          43.74561,
          43.59901,
          44.087397,
          42.751518,
          35.768847,
          36.176382189,
          36.1424,
          36.05266,
          34.99438,
          35.050918,
          35.980675,
          35.9780740008973,
          36.0191860008977,
          35.1168780008882,
          35.7210950008947,
          35.450115,
          35.7053190008945,
          35.6518800008939,
          36.6114110009035,
          36.185702,
          35.939078,
          35.9025660008965,
          35.9071210008966,
          35.8898240008964,
          35.9255000008968,
          35.151194,
          35.151699,
          35.16126,
          36.538761,
          36.29756,
          31.122419,
          33.436111,
          30.628333,
          32.774262,
          32.820061,
          33.219069,
          31.870259,
          32.482083,
          31.768286,
          31.765685,
          29.901036,
          29.828086,
          29.770698,
          29.723333,
          29.767997,
          29.733726,
          29.81453,
          32.669001,
          29.922894,
          29.863957,
          33.58553,
          30.194167,
          35.201592,
          32.80581,
          32.759154,
          32.664753,
          30.354944,
          30.263204,
          30.35386,
          41.842649,
          40.902967,
          40.2941780318187,
          37.74743,
          40.598056,
          40.736389,
          40.78422,
          40.496392,
          40.777145,
          40.807897,
          40.662878,
          40.6005316001733,
          40.4647097224075,
          39.868622038887175,
          40.341389,
          40.1363362850841,
          37.179125,
          41.3036139529338,
          42.8875900009408,
          44.5283900009431,
          44.4762000009431,
          43.6080560009422,
          38.0765700009162,
          38.857700000922,
          37.3443800009102,
          37.3574800009103,
          38.7733500009214,
          38.76835,
          39.2810200009248,
          37.556520000912,
          37.6713200009129,
          39.0247300009231,
          37.2834200009096,
          38.4775300009192,
          36.6080000009035,
          37.103733000908,
          37.3327055009101,
          36.8555500009058,
          37.59088,
          37.2978830009098,
          36.8418830009057,
          45.64336,
          47.597222,
          47.55975,
          47.4985350009395,
          47.568236,
          47.386111,
          47.592675,
          46.99364,
          48.39999,
          47.22634,
          47.1864,
          48.52059,
          48.2469,
          48.054315,
          47.663962,
          47.672482,
          48.544448,
          48.7600360009349,
          46.598056,
          46.38024,
          39.448104902,
          40.3410227904978,
          40.394650973,
          38.4102420009187,
          40.4273718231455,
          39.2781170009248,
          38.346258,
          38.3661830009184,
          39.4814830009261,
          39.9159609716958,
          39.6493670009271,
          40.1148755622005,
          39.3235330009251,
          46.6022480009417,
          44.50729,
          43.1008379448758,
          43.0733,
          43.466111000942,
          44.7614000009432,
          45.565000000943,
          42.6938000009403,
          44.334686000943,
          42.504722,
          43.7775,
          43.016667,
          43.060975,
          42.9326580009409,
          44.0208550009427,
          44.3073799619567,
          43.498100000942,
          43.4351,
          45.2066,
          46.0519000009426,
          43.0200753785299,
          41.32417,
          44.2880049189629,
          43.0242100009411,
          42.5299990009399,
          43.0816670009412,
          42.8421683785244,
          41.1822271062504,
          42.82231,
          44.5245684728303,
          44.8151420009432,
          42.8698240009408,
          41.5925362836364,
          43.457760000942,
          44.373056,
          32.62922544,
          32.633671045
         ],
         "legendgroup": "",
         "locationmode": "USA-states",
         "lon": [
          -87.880258,
          -85.803608,
          -85.969858,
          -85.992647,
          -86.815,
          -87.003611,
          -86.549167,
          -86.924167,
          -86.844112,
          -86.586362477,
          -88.087761,
          -86.263394,
          -86.967536,
          -84.999653,
          -88.277992,
          -87.484189,
          -134.56723651676,
          -109.438003185736,
          -113.5586,
          -112.14256,
          -111.86536,
          -112.06619,
          -112.19193,
          -112.07526,
          -111.93471,
          -112.00264,
          -111.855442782055,
          -112.11821,
          -112.095767,
          -113.410781954534,
          -111.038389291448,
          -110.9823,
          -111.752222,
          -111.503222,
          -112.03705,
          -110.936718,
          -114.61444,
          -91.5589604988523,
          -91.9392076139,
          -90.1931407655994,
          -93.0001781024042,
          -91.188905955467,
          -94.2262344697634,
          -92.2812958643647,
          -92.328697163421,
          -92.672262743334,
          -94.1168273808054,
          -121.784217,
          -122.169935,
          -122.282347,
          -122.263376,
          -122.302741,
          -121.903019,
          -121.84047,
          -120.680277,
          -122.281803,
          -121.99887,
          -122.026154,
          -122.356811,
          -119.77321,
          -119.658339349936,
          -120.382331,
          -119.7775,
          -119.716433,
          -119.733,
          -123.67523342370988,
          -124.17949,
          -115.48307,
          -116.015997,
          -115.56306,
          -118.330783,
          -117.871036,
          -118.049167,
          -118.417477920338,
          -118.293547,
          -119.015009,
          -119.062613,
          -118.997627,
          -117.715066487047,
          -118.162833,
          -119.56565,
          -119.643447,
          -122.91333,
          -117.92391,
          -118.22688,
          -118.53276,
          -118.205,
          -118.0685,
          -118.1272,
          -118.18921,
          -118.17533,
          -118.200707,
          -118.130511,
          -120.034203,
          -122.520004,
          -123.20655,
          -123.35264,
          -120.433671,
          -120.480456,
          -118.96652,
          -119.120278,
          -121.73333,
          -121.126371,
          -121.623271,
          -122.275024,
          -121.055608,
          -120.184592,
          -117.93845,
          -117.67593,
          -121.09959,
          -121.26498,
          -120.944376,
          -120.47069,
          -117.088649,
          -115.820124,
          -116.1897,
          -116.830074,
          -116.21537,
          -116.54101,
          -117.41601,
          -117.4924,
          -121.368014,
          -121.49311,
          -121.164457,
          -121.503795,
          -121.211131,
          -121.3621,
          -117.61722,
          -117.32554,
          -117.49201,
          -116.86147,
          -117.274063,
          -117.059088,
          -117.123964,
          -117.08218,
          -116.944308,
          -117.142665,
          -117.090229999878,
          -122.399044,
          -121.268522670981,
          -121.247874,
          -120.56388,
          -120.58777,
          -120.64471988005812,
          -120.66617,
          -122.20337,
          -119.691217778642,
          -120.4575,
          -119.8284,
          -121.574684,
          -121.894898,
          -121.849783,
          -121.98822,
          -122.083092,
          -122.38092,
          -122.633579,
          -122.237976,
          -122.818294,
          -120.994212,
          -120.836008,
          -121.618548986224,
          -122.25556,
          -119.291227556039,
          -118.870509,
          -118.80998,
          -119.2313,
          -118.683685,
          -119.143182,
          -121.73269,
          -104.93647,
          -105.019526,
          -105.100856,
          -105.263382,
          -107.6023,
          -104.987625,
          -104.939925,
          -105.00518,
          -105.0153,
          -104.9886,
          -105.070358,
          -104.828564,
          -108.02611,
          -107.3286,
          -107.870219,
          -105.079693,
          -108.561173,
          -104.597613,
          -108.761389,
          -104.70693,
          -104.82405,
          -73.194722,
          -73.443056,
          -72.679923,
          -72.631667,
          -73.297257,
          -72.902871,
          -73.043611,
          -72.07882,
          -75.5568,
          -75.518056,
          -75.491944,
          -75.732,
          -75.6036,
          -75.7612986130814,
          -75.558056,
          -75.6106,
          -76.958072,
          -77.013178,
          -76.953426,
          -77.012816,
          -81.633980694,
          -81.547778,
          -81.606833,
          -87.20355,
          -84.346389,
          -83.6409957140849,
          -83.5434927764767,
          -81.1302223986278,
          -83.3443853953649,
          -84.390717275216,
          -84.6074234375265,
          -82.7499709789252,
          -84.2905,
          -84.0998,
          -84.4356184457623,
          -84.3914,
          -81.4950347836971,
          -84.0691,
          -83.8134,
          -83.5978,
          -83.2933,
          -84.9446347567188,
          -84.9457,
          -82.0224,
          -85.2943,
          -82.8068706036265,
          -116.347853,
          -116.571281045,
          -116.562676,
          -111.864167,
          -114.2525,
          -113.890285,
          -116.236667,
          -88.240552608195,
          -88.37251,
          -87.7324568962847,
          -87.5393154841479,
          -87.7499280553202,
          -87.722673,
          -87.7134881520007,
          -87.5574060746384,
          -87.832349,
          -87.8762647334973,
          -87.8053767946675,
          -87.8632254343829,
          -87.7992269168431,
          -87.7489023825124,
          -88.1525336515249,
          -88.6249434004072,
          -90.344494,
          -88.2800147147357,
          -88.3293736067335,
          -88.2422073399828,
          -88.9968957084304,
          -88.925594450544,
          -90.1447626742938,
          -90.1463079297551,
          -90.1396748417377,
          -90.1058511128885,
          -89.5847372162892,
          -89.7884586171723,
          -90.5173502630811,
          -90.1604766324869,
          -89.6441635862289,
          -88.1164738092357,
          -88.190967175228,
          -89.08917,
          -85.101816308,
          -85.891331718,
          -85.66411754,
          -85.741336506,
          -85.387907948,
          -86.929668,
          -85.96844591,
          -86.990419044,
          -85.939546219,
          -86.078775372,
          -85.523470388,
          -86.109688135,
          -87.442016638,
          -87.304943321,
          -87.406579074,
          -87.34294729,
          -87.435561426,
          -87.495043676,
          -86.8912156987957,
          -85.652184,
          -86.1664643225722,
          -86.114444,
          -86.214628,
          -86.11541484,
          -86.130879593,
          -86.504761719,
          -87.199167,
          -86.214722,
          -86.9832141559544,
          -86.8525,
          -87.5322885681949,
          -87.577222,
          -87.401312,
          -85.6292924,
          -92.316017,
          -90.2119824210275,
          -90.17757390303,
          -91.503478,
          -91.3910115339692,
          -91.68766,
          -95.044951,
          -91.0679566789336,
          -91.0709752344439,
          -91.0616,
          -94.693518,
          -93.643118,
          -93.7479,
          -95.896124000951,
          -90.5876108140407,
          -90.624044,
          -92.006318,
          -96.3947548868099,
          -94.746424,
          -95.47594,
          -97.314847,
          -95.711275,
          -97.366399,
          -99.763424,
          -94.635605,
          -83.73694,
          -82.64041,
          -84.47445,
          -82.9881,
          -87.323337,
          -87.075307,
          -84.49761,
          -85.852629,
          -85.89804,
          -85.65452,
          -85.7119,
          -85.5744,
          -85.82678,
          -88.57251,
          -83.20932,
          -82.53532,
          -84.61152,
          -86.21487,
          -93.79517889,
          -93.5799647199621,
          -91.179219,
          -91.062551898386,
          -90.2728258440869,
          -90.1098360043164,
          -92.0429082948787,
          -90.11819,
          -92.046195875745,
          -92.410745974,
          -89.97625,
          -90.3772123061861,
          -91.213556,
          -70.214219,
          -68.321106,
          -68.038402602,
          -68.016195,
          -70.256178,
          -70.268965,
          -68.2609,
          -69.786717,
          -70.546319,
          -68.772762,
          -76.633543,
          -76.474444,
          -75.864771,
          -76.141006,
          -79.012,
          -76.296946,
          -76.84611,
          -75.797317,
          -77.106876,
          -76.878333,
          -77.720244,
          -76.604603,
          -73.2396482491513,
          -73.110414,
          -71.1692346663934,
          -70.9708155859215,
          -71.102290324038,
          -72.596689,
          -72.5551116962843,
          -72.5845032277788,
          -72.3340786435613,
          -71.3069864063041,
          -70.963346,
          -71.0121294262363,
          -71.0971627875593,
          -71.0826,
          -71.056061,
          -71.026111,
          -71.7943222531487,
          -86.1485772164682,
          -83.8907206820599,
          -83.6701590874905,
          -84.5627790819823,
          -85.5418899211592,
          -85.6713387423289,
          -83.9465593762963,
          -82.79346283166,
          -86.2426486419024,
          -84.8918653238824,
          -83.1831986800023,
          -85.8527340226485,
          -82.4562287816265,
          -85.9502269219365,
          -83.5996022282151,
          -83.2082000228824,
          -83.1065304278455,
          -83.0001375444892,
          -83.1487538477324,
          -83.2661886555648,
          -83.091943,
          -83.129431,
          -83.103469,
          -82.979793,
          -93.207614975211,
          -95.846272,
          -95.029172,
          -92.511722,
          -94.60166,
          -89.69098,
          -94.1303,
          -93.23725,
          -93.285803,
          -93.254759,
          -93.25821,
          -93.34315,
          -91.495574,
          -95.81789,
          -92.450366,
          -93.09827,
          -93.03587,
          -92.536305,
          -92.08936,
          -92.1659975412759,
          -93.512534,
          -94.13345,
          -92.78336,
          -92.77525,
          -93.66921,
          -90.734175,
          -89.98783,
          -89.287167,
          -89.395916,
          -89.0497776193734,
          -90.182722,
          -90.225667,
          -88.5339296135032,
          -94.858584090462,
          -94.57983,
          -94.03474,
          -94.3770140393154,
          -93.2998938430676,
          -94.5707895938208,
          -94.450513,
          -90.3959043035092,
          -90.3503131332522,
          -90.2637112060473,
          -90.1983482680334,
          -90.1898679960933,
          -90.28115,
          -109.455315,
          -114.189272,
          -111.089618,
          -111.987164,
          -112.013089,
          -115.553309333839,
          -114.021498634245,
          -114.224273,
          -107.862471,
          -105.370283,
          -114.158889,
          -104.67694444,
          -106.48982,
          -112.501247,
          -108.425978,
          -95.973142,
          -96.056686,
          -96.824166,
          -98.364967,
          -98.378888,
          -96.683313549,
          -95.956103,
          -103.656561,
          -103.658056,
          -96.146175,
          -114.050347,
          -115.253333,
          -115.268516754406,
          -115.263038,
          -115.332728,
          -115.238282,
          -115.052942,
          -115.148885,
          -115.078742,
          -115.11393,
          -114.835007,
          -115.357087,
          -115.175654,
          -115.091437,
          -119.732507,
          -119.7396057,
          -119.7954,
          -119.7467605,
          -119.71877,
          -119.7661,
          -71.496335,
          -72.272332,
          -72.309499,
          -71.878626,
          -70.748017,
          -71.38014,
          -74.448736,
          -74.431,
          -73.96618,
          -75.125219,
          -75.050008,
          -75.025204,
          -74.192892,
          -75.212119,
          -74.052293,
          -74.806671,
          -74.742613,
          -74.763167,
          -74.429439,
          -74.676301,
          -74.170447,
          -74.208365,
          -74.276174,
          -75.067815,
          -106.5852,
          -106.60468,
          -106.65739,
          -106.50815,
          -106.613815,
          -106.599714692,
          -106.584433773,
          -106.683324495,
          -106.768337357,
          -103.122917,
          -106.07968,
          -105.583899941,
          -73.75464,
          -73.75733,
          -73.902,
          -73.87809,
          -79.31881,
          -78.77153,
          -78.8095260117327,
          -78.7658253281598,
          -73.8589,
          -73.94771,
          -77.5572802599319,
          -77.54817,
          -73.93432,
          -73.99518,
          -76.05921,
          -74.00885,
          -73.82153,
          -73.817694,
          -74.13719,
          -77.20978,
          -73.41919,
          -82.5844,
          -81.365556,
          -78.953112,
          -80.2627,
          -78.904037,
          -80.224501,
          -80.341962,
          -79.802314,
          -83.277928059,
          -78.4622,
          -80.785683,
          -80.874084,
          -80.851473,
          -82.062082,
          -79.836636,
          -77.838611,
          -77.655389,
          -77.360126,
          -80.395039,
          -83.442133,
          -78.574167,
          -78.8197,
          -103.37853,
          -102.4018,
          -100.76821,
          -96.85535,
          -102.645864,
          -103.2995,
          -101.766944,
          -101.428056,
          -101.571583,
          -84.0539,
          -81.908827,
          -80.7464,
          -84.36374,
          -84.5666,
          -84.409617,
          -84.394952,
          -84.397112,
          -83.80949,
          -81.575256,
          -81.682383,
          -81.656792,
          -81.678449,
          -81.6623559,
          -81.494833,
          -81.818667,
          -82.994424,
          -83.065415,
          -82.959773,
          -84.36625,
          -84.478974,
          -84.50404,
          -84.55117,
          -84.538375,
          -80.9334011,
          -80.6158,
          -81.242156,
          -82.659241,
          -82.114261,
          -83.54616,
          -83.64226,
          -83.4785,
          -80.65847,
          -81.9239,
          -84.198674,
          -81.2352,
          -84.720524,
          -82.91701,
          -82.80677,
          -81.394153,
          -81.373,
          -81.468956,
          -81.541532,
          -80.80116,
          -97.462931,
          -97.484099,
          -98.42879,
          -98.931973,
          -97.08135,
          -97.52709,
          -97.5779809690174,
          -97.475083,
          -94.83931,
          -95.78441,
          -94.524413,
          -96.004975,
          -95.976537,
          -95.8826218983248,
          -120.844773,
          -119.04872,
          -122.880266,
          -123.348466,
          -121.731369,
          -120.353969,
          -123.1413524,
          -123.083737,
          -122.480487,
          -123.053487,
          -122.602877,
          -118.68909,
          -122.972398,
          -122.747894,
          -77.3096801656909,
          -80.0713371969741,
          -79.9607574502479,
          -79.8680624013838,
          -80.1699434614088,
          -79.7276639640966,
          -79.8609731768317,
          -79.863572,
          -79.8853311242625,
          -79.5647497763623,
          -80.3164417143694,
          -75.9686,
          -78.370833,
          -76.512726,
          -78.915,
          -77.877028,
          -75.768242075333,
          -77.18675,
          -76.846988,
          -75.3725,
          -75.413973,
          -80.038611,
          -79.805499,
          -80.26567,
          -78.919972,
          -75.623056,
          -76.283333,
          -76.1124,
          -76.394788,
          -75.4325,
          -77.231189,
          -80.4847786925965,
          -75.309167,
          -75.341111,
          -75.080833,
          -75.186921,
          -75.142614,
          -74.985166,
          -75.207205,
          -75.6862189163781,
          -76.939167,
          -79.902222,
          -80.420833,
          -80.243995,
          -79.505667,
          -75.95774,
          -76.699444,
          -71.72,
          -71.412968,
          -71.379971,
          -71.417457,
          -71.36097,
          -71.423705,
          -79.956983,
          -80.06501,
          -79.958694,
          -80.198787,
          -81.853635,
          -79.76734715,
          -82.4145845,
          -82.25670125,
          -81.15495,
          -80.962304,
          -81.92479656,
          -80.8745,
          -96.8072988595708,
          -98.494061,
          -97.128802,
          -103.48386,
          -100.287269,
          -101.941218,
          -96.78331,
          -103.273777,
          -96.707208,
          -83.942152,
          -86.738899956,
          -86.7341,
          -89.382157,
          -85.24293,
          -85.293019,
          -83.925773,
          -83.950666,
          -83.87381,
          -87.419725,
          -84.343035,
          -84.596195,
          -88.81964,
          -87.0096,
          -87.384666,
          -85.492107,
          -84.542802,
          -84.524061,
          -84.49709,
          -84.51713,
          -84.51657,
          -90.041559,
          -89.850249,
          -89.87065,
          -82.521599,
          -86.653137,
          -97.431052,
          -94.07778,
          -96.362777,
          -96.797686,
          -96.860117,
          -97.196284,
          -102.334745,
          -97.026899,
          -106.501243,
          -106.455227,
          -95.326137,
          -95.284096,
          -95.031232,
          -95.635833,
          -95.220582,
          -95.257593,
          -95.38769,
          -94.167468,
          -93.909018,
          -94.317802,
          -101.78698,
          -93.866944,
          -101.909275,
          -97.356529,
          -97.342332,
          -97.337917,
          -97.761803,
          -97.712891,
          -97.69166,
          -111.852199,
          -111.884467,
          -110.009732293952,
          -113.055525,
          -111.894167,
          -111.872222,
          -111.931,
          -112.036298,
          -111.945849,
          -112.087717,
          -111.9011881,
          -112.353414322914,
          -109.561471504638,
          -109.0973024087982,
          -111.713611,
          -111.660502185749,
          -113.305096,
          -111.98787086473,
          -73.24984,
          -72.86884,
          -73.2106,
          -72.982778,
          -78.50397,
          -77.05922,
          -77.25925,
          -77.59355,
          -77.10468,
          -77.18347,
          -78.08157,
          -77.40027,
          -77.5664,
          -77.48925,
          -79.88452,
          -78.81952,
          -82.1641,
          -76.3870167,
          -79.2150111,
          -76.30135,
          -77.46925,
          -80.0810167,
          -76.181233,
          -122.58737,
          -122.319722,
          -122.338265,
          -122.278385,
          -122.308628,
          -122.230278,
          -122.627397,
          -120.545,
          -119.51896,
          -122.46256,
          -122.4517,
          -122.61428,
          -121.6031,
          -122.171529,
          -117.257654,
          -117.364852,
          -117.903425,
          -122.456463,
          -120.499167,
          -120.33266,
          -77.963845203,
          -80.5966352305208,
          -80.611812762,
          -82.432436,
          -80.5923178147893,
          -80.34225,
          -81.621161,
          -81.693717,
          -80.134667,
          -80.7338580229214,
          -79.920867,
          -80.7009723435715,
          -81.552367,
          -90.656141,
          -87.99344,
          -89.3572982165232,
          -89.4358,
          -88.621111,
          -91.143,
          -88.8086,
          -90.6979,
          -90.792025,
          -87.8093,
          -91.2269,
          -87.933333,
          -87.913504,
          -87.9344,
          -90.40164,
          -88.3951780631114,
          -87.81,
          -89.6797,
          -90.5972,
          -89.654,
          -88.2150699551098,
          -105.61489,
          -105.51702183267,
          -108.3637,
          -108.720003,
          -107.549444,
          -108.736281332747,
          -104.778334205813,
          -106.36501,
          -109.069259753515,
          -106.955933,
          -109.87076,
          -109.220852333074,
          -110.79799,
          -110.830833,
          -115.447768755,
          -115.504994847
         ],
         "marker": {
          "color": "#1F77B4",
          "symbol": "circle"
         },
         "mode": "markers",
         "name": "",
         "showlegend": false,
         "type": "scattergeo"
        }
       ],
       "layout": {
        "geo": {
         "center": {
          "lat": 39.674642017314426,
          "lon": -96.93193622873447
         },
         "domain": {
          "x": [
           0,
           1
          ],
          "y": [
           0,
           1
          ]
         },
         "landcolor": "rgb(217, 217, 217)",
         "projection": {
          "scale": 0.912565488543452
         },
         "scope": "usa"
        },
        "height": 300,
        "legend": {
         "tracegroupgap": 0
        },
        "template": {
         "data": {
          "bar": [
           {
            "error_x": {
             "color": "rgb(36,36,36)"
            },
            "error_y": {
             "color": "rgb(36,36,36)"
            },
            "marker": {
             "line": {
              "color": "white",
              "width": 0.5
             },
             "pattern": {
              "fillmode": "overlay",
              "size": 10,
              "solidity": 0.2
             }
            },
            "type": "bar"
           }
          ],
          "barpolar": [
           {
            "marker": {
             "line": {
              "color": "white",
              "width": 0.5
             },
             "pattern": {
              "fillmode": "overlay",
              "size": 10,
              "solidity": 0.2
             }
            },
            "type": "barpolar"
           }
          ],
          "carpet": [
           {
            "aaxis": {
             "endlinecolor": "rgb(36,36,36)",
             "gridcolor": "white",
             "linecolor": "white",
             "minorgridcolor": "white",
             "startlinecolor": "rgb(36,36,36)"
            },
            "baxis": {
             "endlinecolor": "rgb(36,36,36)",
             "gridcolor": "white",
             "linecolor": "white",
             "minorgridcolor": "white",
             "startlinecolor": "rgb(36,36,36)"
            },
            "type": "carpet"
           }
          ],
          "choropleth": [
           {
            "colorbar": {
             "outlinewidth": 1,
             "tickcolor": "rgb(36,36,36)",
             "ticks": "outside"
            },
            "type": "choropleth"
           }
          ],
          "contour": [
           {
            "colorbar": {
             "outlinewidth": 1,
             "tickcolor": "rgb(36,36,36)",
             "ticks": "outside"
            },
            "colorscale": [
             [
              0,
              "#440154"
             ],
             [
              0.1111111111111111,
              "#482878"
             ],
             [
              0.2222222222222222,
              "#3e4989"
             ],
             [
              0.3333333333333333,
              "#31688e"
             ],
             [
              0.4444444444444444,
              "#26828e"
             ],
             [
              0.5555555555555556,
              "#1f9e89"
             ],
             [
              0.6666666666666666,
              "#35b779"
             ],
             [
              0.7777777777777778,
              "#6ece58"
             ],
             [
              0.8888888888888888,
              "#b5de2b"
             ],
             [
              1,
              "#fde725"
             ]
            ],
            "type": "contour"
           }
          ],
          "contourcarpet": [
           {
            "colorbar": {
             "outlinewidth": 1,
             "tickcolor": "rgb(36,36,36)",
             "ticks": "outside"
            },
            "type": "contourcarpet"
           }
          ],
          "heatmap": [
           {
            "colorbar": {
             "outlinewidth": 1,
             "tickcolor": "rgb(36,36,36)",
             "ticks": "outside"
            },
            "colorscale": [
             [
              0,
              "#440154"
             ],
             [
              0.1111111111111111,
              "#482878"
             ],
             [
              0.2222222222222222,
              "#3e4989"
             ],
             [
              0.3333333333333333,
              "#31688e"
             ],
             [
              0.4444444444444444,
              "#26828e"
             ],
             [
              0.5555555555555556,
              "#1f9e89"
             ],
             [
              0.6666666666666666,
              "#35b779"
             ],
             [
              0.7777777777777778,
              "#6ece58"
             ],
             [
              0.8888888888888888,
              "#b5de2b"
             ],
             [
              1,
              "#fde725"
             ]
            ],
            "type": "heatmap"
           }
          ],
          "heatmapgl": [
           {
            "colorbar": {
             "outlinewidth": 1,
             "tickcolor": "rgb(36,36,36)",
             "ticks": "outside"
            },
            "colorscale": [
             [
              0,
              "#440154"
             ],
             [
              0.1111111111111111,
              "#482878"
             ],
             [
              0.2222222222222222,
              "#3e4989"
             ],
             [
              0.3333333333333333,
              "#31688e"
             ],
             [
              0.4444444444444444,
              "#26828e"
             ],
             [
              0.5555555555555556,
              "#1f9e89"
             ],
             [
              0.6666666666666666,
              "#35b779"
             ],
             [
              0.7777777777777778,
              "#6ece58"
             ],
             [
              0.8888888888888888,
              "#b5de2b"
             ],
             [
              1,
              "#fde725"
             ]
            ],
            "type": "heatmapgl"
           }
          ],
          "histogram": [
           {
            "marker": {
             "line": {
              "color": "white",
              "width": 0.6
             }
            },
            "type": "histogram"
           }
          ],
          "histogram2d": [
           {
            "colorbar": {
             "outlinewidth": 1,
             "tickcolor": "rgb(36,36,36)",
             "ticks": "outside"
            },
            "colorscale": [
             [
              0,
              "#440154"
             ],
             [
              0.1111111111111111,
              "#482878"
             ],
             [
              0.2222222222222222,
              "#3e4989"
             ],
             [
              0.3333333333333333,
              "#31688e"
             ],
             [
              0.4444444444444444,
              "#26828e"
             ],
             [
              0.5555555555555556,
              "#1f9e89"
             ],
             [
              0.6666666666666666,
              "#35b779"
             ],
             [
              0.7777777777777778,
              "#6ece58"
             ],
             [
              0.8888888888888888,
              "#b5de2b"
             ],
             [
              1,
              "#fde725"
             ]
            ],
            "type": "histogram2d"
           }
          ],
          "histogram2dcontour": [
           {
            "colorbar": {
             "outlinewidth": 1,
             "tickcolor": "rgb(36,36,36)",
             "ticks": "outside"
            },
            "colorscale": [
             [
              0,
              "#440154"
             ],
             [
              0.1111111111111111,
              "#482878"
             ],
             [
              0.2222222222222222,
              "#3e4989"
             ],
             [
              0.3333333333333333,
              "#31688e"
             ],
             [
              0.4444444444444444,
              "#26828e"
             ],
             [
              0.5555555555555556,
              "#1f9e89"
             ],
             [
              0.6666666666666666,
              "#35b779"
             ],
             [
              0.7777777777777778,
              "#6ece58"
             ],
             [
              0.8888888888888888,
              "#b5de2b"
             ],
             [
              1,
              "#fde725"
             ]
            ],
            "type": "histogram2dcontour"
           }
          ],
          "mesh3d": [
           {
            "colorbar": {
             "outlinewidth": 1,
             "tickcolor": "rgb(36,36,36)",
             "ticks": "outside"
            },
            "type": "mesh3d"
           }
          ],
          "parcoords": [
           {
            "line": {
             "colorbar": {
              "outlinewidth": 1,
              "tickcolor": "rgb(36,36,36)",
              "ticks": "outside"
             }
            },
            "type": "parcoords"
           }
          ],
          "pie": [
           {
            "automargin": true,
            "type": "pie"
           }
          ],
          "scatter": [
           {
            "marker": {
             "colorbar": {
              "outlinewidth": 1,
              "tickcolor": "rgb(36,36,36)",
              "ticks": "outside"
             }
            },
            "type": "scatter"
           }
          ],
          "scatter3d": [
           {
            "line": {
             "colorbar": {
              "outlinewidth": 1,
              "tickcolor": "rgb(36,36,36)",
              "ticks": "outside"
             }
            },
            "marker": {
             "colorbar": {
              "outlinewidth": 1,
              "tickcolor": "rgb(36,36,36)",
              "ticks": "outside"
             }
            },
            "type": "scatter3d"
           }
          ],
          "scattercarpet": [
           {
            "marker": {
             "colorbar": {
              "outlinewidth": 1,
              "tickcolor": "rgb(36,36,36)",
              "ticks": "outside"
             }
            },
            "type": "scattercarpet"
           }
          ],
          "scattergeo": [
           {
            "marker": {
             "colorbar": {
              "outlinewidth": 1,
              "tickcolor": "rgb(36,36,36)",
              "ticks": "outside"
             }
            },
            "type": "scattergeo"
           }
          ],
          "scattergl": [
           {
            "marker": {
             "colorbar": {
              "outlinewidth": 1,
              "tickcolor": "rgb(36,36,36)",
              "ticks": "outside"
             }
            },
            "type": "scattergl"
           }
          ],
          "scattermapbox": [
           {
            "marker": {
             "colorbar": {
              "outlinewidth": 1,
              "tickcolor": "rgb(36,36,36)",
              "ticks": "outside"
             }
            },
            "type": "scattermapbox"
           }
          ],
          "scatterpolar": [
           {
            "marker": {
             "colorbar": {
              "outlinewidth": 1,
              "tickcolor": "rgb(36,36,36)",
              "ticks": "outside"
             }
            },
            "type": "scatterpolar"
           }
          ],
          "scatterpolargl": [
           {
            "marker": {
             "colorbar": {
              "outlinewidth": 1,
              "tickcolor": "rgb(36,36,36)",
              "ticks": "outside"
             }
            },
            "type": "scatterpolargl"
           }
          ],
          "scatterternary": [
           {
            "marker": {
             "colorbar": {
              "outlinewidth": 1,
              "tickcolor": "rgb(36,36,36)",
              "ticks": "outside"
             }
            },
            "type": "scatterternary"
           }
          ],
          "surface": [
           {
            "colorbar": {
             "outlinewidth": 1,
             "tickcolor": "rgb(36,36,36)",
             "ticks": "outside"
            },
            "colorscale": [
             [
              0,
              "#440154"
             ],
             [
              0.1111111111111111,
              "#482878"
             ],
             [
              0.2222222222222222,
              "#3e4989"
             ],
             [
              0.3333333333333333,
              "#31688e"
             ],
             [
              0.4444444444444444,
              "#26828e"
             ],
             [
              0.5555555555555556,
              "#1f9e89"
             ],
             [
              0.6666666666666666,
              "#35b779"
             ],
             [
              0.7777777777777778,
              "#6ece58"
             ],
             [
              0.8888888888888888,
              "#b5de2b"
             ],
             [
              1,
              "#fde725"
             ]
            ],
            "type": "surface"
           }
          ],
          "table": [
           {
            "cells": {
             "fill": {
              "color": "rgb(237,237,237)"
             },
             "line": {
              "color": "white"
             }
            },
            "header": {
             "fill": {
              "color": "rgb(217,217,217)"
             },
             "line": {
              "color": "white"
             }
            },
            "type": "table"
           }
          ]
         },
         "layout": {
          "annotationdefaults": {
           "arrowhead": 0,
           "arrowwidth": 1
          },
          "autosize": true,
          "autotypenumbers": "strict",
          "coloraxis": {
           "colorbar": {
            "outlinewidth": 1,
            "tickcolor": "rgb(36,36,36)",
            "ticks": "outside"
           }
          },
          "colorscale": {
           "diverging": [
            [
             0,
             "rgb(103,0,31)"
            ],
            [
             0.1,
             "rgb(178,24,43)"
            ],
            [
             0.2,
             "rgb(214,96,77)"
            ],
            [
             0.3,
             "rgb(244,165,130)"
            ],
            [
             0.4,
             "rgb(253,219,199)"
            ],
            [
             0.5,
             "rgb(247,247,247)"
            ],
            [
             0.6,
             "rgb(209,229,240)"
            ],
            [
             0.7,
             "rgb(146,197,222)"
            ],
            [
             0.8,
             "rgb(67,147,195)"
            ],
            [
             0.9,
             "rgb(33,102,172)"
            ],
            [
             1,
             "rgb(5,48,97)"
            ]
           ],
           "sequential": [
            [
             0,
             "#440154"
            ],
            [
             0.1111111111111111,
             "#482878"
            ],
            [
             0.2222222222222222,
             "#3e4989"
            ],
            [
             0.3333333333333333,
             "#31688e"
            ],
            [
             0.4444444444444444,
             "#26828e"
            ],
            [
             0.5555555555555556,
             "#1f9e89"
            ],
            [
             0.6666666666666666,
             "#35b779"
            ],
            [
             0.7777777777777778,
             "#6ece58"
            ],
            [
             0.8888888888888888,
             "#b5de2b"
            ],
            [
             1,
             "#fde725"
            ]
           ],
           "sequentialminus": [
            [
             0,
             "#440154"
            ],
            [
             0.1111111111111111,
             "#482878"
            ],
            [
             0.2222222222222222,
             "#3e4989"
            ],
            [
             0.3333333333333333,
             "#31688e"
            ],
            [
             0.4444444444444444,
             "#26828e"
            ],
            [
             0.5555555555555556,
             "#1f9e89"
            ],
            [
             0.6666666666666666,
             "#35b779"
            ],
            [
             0.7777777777777778,
             "#6ece58"
            ],
            [
             0.8888888888888888,
             "#b5de2b"
            ],
            [
             1,
             "#fde725"
            ]
           ]
          },
          "colorway": [
           "#1F77B4",
           "#FF7F0E",
           "#2CA02C",
           "#D62728",
           "#9467BD",
           "#8C564B",
           "#E377C2",
           "#7F7F7F",
           "#BCBD22",
           "#17BECF"
          ],
          "font": {
           "color": "rgb(36,36,36)"
          },
          "geo": {
           "bgcolor": "white",
           "lakecolor": "white",
           "landcolor": "white",
           "showlakes": true,
           "showland": true,
           "subunitcolor": "white"
          },
          "height": 250,
          "hoverlabel": {
           "align": "left"
          },
          "hovermode": "closest",
          "mapbox": {
           "style": "light"
          },
          "margin": {
           "b": 10,
           "l": 10,
           "r": 10,
           "t": 10
          },
          "paper_bgcolor": "white",
          "plot_bgcolor": "white",
          "polar": {
           "angularaxis": {
            "gridcolor": "rgb(232,232,232)",
            "linecolor": "rgb(36,36,36)",
            "showgrid": false,
            "showline": true,
            "ticks": "outside"
           },
           "bgcolor": "white",
           "radialaxis": {
            "gridcolor": "rgb(232,232,232)",
            "linecolor": "rgb(36,36,36)",
            "showgrid": false,
            "showline": true,
            "ticks": "outside"
           }
          },
          "scene": {
           "xaxis": {
            "backgroundcolor": "white",
            "gridcolor": "rgb(232,232,232)",
            "gridwidth": 2,
            "linecolor": "rgb(36,36,36)",
            "showbackground": true,
            "showgrid": false,
            "showline": true,
            "ticks": "outside",
            "zeroline": false,
            "zerolinecolor": "rgb(36,36,36)"
           },
           "yaxis": {
            "backgroundcolor": "white",
            "gridcolor": "rgb(232,232,232)",
            "gridwidth": 2,
            "linecolor": "rgb(36,36,36)",
            "showbackground": true,
            "showgrid": false,
            "showline": true,
            "ticks": "outside",
            "zeroline": false,
            "zerolinecolor": "rgb(36,36,36)"
           },
           "zaxis": {
            "backgroundcolor": "white",
            "gridcolor": "rgb(232,232,232)",
            "gridwidth": 2,
            "linecolor": "rgb(36,36,36)",
            "showbackground": true,
            "showgrid": false,
            "showline": true,
            "ticks": "outside",
            "zeroline": false,
            "zerolinecolor": "rgb(36,36,36)"
           }
          },
          "shapedefaults": {
           "fillcolor": "black",
           "line": {
            "width": 0
           },
           "opacity": 0.3
          },
          "ternary": {
           "aaxis": {
            "gridcolor": "rgb(232,232,232)",
            "linecolor": "rgb(36,36,36)",
            "showgrid": false,
            "showline": true,
            "ticks": "outside"
           },
           "baxis": {
            "gridcolor": "rgb(232,232,232)",
            "linecolor": "rgb(36,36,36)",
            "showgrid": false,
            "showline": true,
            "ticks": "outside"
           },
           "bgcolor": "white",
           "caxis": {
            "gridcolor": "rgb(232,232,232)",
            "linecolor": "rgb(36,36,36)",
            "showgrid": false,
            "showline": true,
            "ticks": "outside"
           }
          },
          "title": {
           "x": 0.5,
           "xanchor": "center"
          },
          "width": 350,
          "xaxis": {
           "automargin": true,
           "gridcolor": "rgb(232,232,232)",
           "linecolor": "rgb(36,36,36)",
           "showgrid": true,
           "showline": true,
           "ticks": "outside",
           "title": {
            "standoff": 15
           },
           "zeroline": false,
           "zerolinecolor": "rgb(36,36,36)"
          },
          "yaxis": {
           "automargin": true,
           "gridcolor": "rgb(232,232,232)",
           "linecolor": "rgb(36,36,36)",
           "showgrid": true,
           "showline": true,
           "ticks": "outside",
           "title": {
            "standoff": 15
           },
           "zeroline": false,
           "zerolinecolor": "rgb(36,36,36)"
          }
         }
        },
        "width": 550
       }
      },
      "image/png": "[encoded data removed]",
      "image/svg+xml": [
       "<svg class=\"main-svg\" xmlns=\"http://www.w3.org/2000/svg\" xmlns:xlink=\"http://www.w3.org/1999/xlink\" width=\"550\" height=\"300\" style=\"\" viewBox=\"0 0 550 300\"><rect x=\"0\" y=\"0\" width=\"550\" height=\"300\" style=\"fill: rgb(255, 255, 255); fill-opacity: 1;\"/><defs id=\"defs-4ab978\"><g class=\"clips\"><clipPath id=\"clip4ab978geo\"><rect x=\"10\" y=\"11.384615384615415\" width=\"530\" height=\"277.23076923076917\"/></clipPath></g><g class=\"gradients\"/><g class=\"patterns\"/></defs><g class=\"bglayer\"/><g class=\"layer-below\"><g class=\"imagelayer\"/><g class=\"shapelayer\"/></g><g class=\"cartesianlayer\"/><g class=\"polarlayer\"/><g class=\"smithlayer\"/><g class=\"ternarylayer\"/><g class=\"geolayer\"><g class=\"geo geo\" clip-path=\"url(#clip4ab978geo)\"><g class=\"layer bg\"><rect x=\"10\" y=\"11.384615384615415\" width=\"530\" height=\"277.23076923076917\" style=\"pointer-events: all; fill: rgb(255, 255, 255); fill-opacity: 1;\"/></g><g class=\"layer land\"><path d=\"M199.7015371024356,271.7806412112061L201.4521533444276,272.6298850455695L202.95849583972392,273.9965776283491L205.4834049123058,277.50823895406165L205.2387113448078,278.1136244131753L201.5055511521732,280.29767410394675L198.38814354548217,281.8696936611425L197.02057659108155,283.6023890015366L194.63533175463718,282.14695212650673L194.87347123328456,279.3003245567236L193.23512019468717,275.60125428899005L193.73009442060936,274.47970317771694L195.46923970751544,272.8364284765794L194.71287036469846,270.8600617322172L195.33148389463733,269.91088441990485L196.0794317546657,270.07949945068964ZM193.94190114238296,264.84364808571695L193.20097125421924,266.13561212739967L189.96998010201716,266.8328565396758L188.34974937785785,264.68727161725394L187.2305478063325,263.91555978406507L187.10556467828786,263.2284729103619L188.09770659289785,262.36829368511246L191.45215071630787,263.3056515579318ZM186.73062176247944,260.7386577939701L186.3593628147616,261.8550898213852L181.27123164990954,261.51046152683534L182.01695959833606,260.3094608463372ZM174.59535641383152,255.23026754769663L175.45926610303604,255.91937625084958L178.17456790744012,259.2728627010334L177.67699645072102,259.8722570532974L176.93345739291675,259.6984582188592L173.58693769541242,259.3426803953939L172.48239900226466,257.0213390186218L172.11253002428583,256.67648630220003ZM161.8927616386672,250.17789285189195L162.1186309430591,252.4918545388364L160.99603358005027,253.50932073529395L157.80079837188123,251.59203623664948L158.30250811162463,250.91246675881587L159.6720661529344,249.89953753515857ZM101.35092735428104,269.014559322282L102.60350307354906,269.2364897046157L103.44264335092012,270.30788071938855L101.81196551632817,272.04122910304125L99.88260354670956,273.41940230427394L98.90214751759595,272.5062678592559L98.61734301806904,270.8361826563173L100.34999793218596,269.5681489382343ZM78.1954590956266,258.35994821890404L79.50868231138492,258.9099380728818L79.42903140070985,260.28322670141097L78.25535213277257,260.65704514406536L77.24359045734747,259.784134056074L76.37536033690503,258.6191194414173ZM72.41363941365246,244.57547651745716L73.16955933165261,245.46879156727044L74.21292848521149,245.36302171978414L75.24436766150107,246.58563325319108L76.66585284136684,247.41436304445355L76.4575670122096,247.77143068014868L75.08570863333865,248.23115104977524L74.09609421460462,247.17785712849044L73.66924697546241,246.41297076819637L72.25381817798429,246.25952687331016L71.96220899072897,245.83441939192835ZM479.58594159206655,62.814816400959614L473.41703282285033,68.26578263165254L466.85406574078206,73.29577049388706L464.6957028273739,80.19814457587626L464.10612373831,82.79038723358747L464.67528444935317,84.88779271333141L465.4243291095564,88.01865748135856L469.2892380773327,92.5558776853199L472.3749488950741,91.97093419286836L470.52314115794366,88.60234128298157L473.3860566061512,90.14992805633977L473.52878569838293,93.18456716317871L471.56683127223596,94.546055045775L469.0526703137912,96.14170931574279L465.59331878578473,96.89747838023214L460.6172771617621,100.01166970215752L457.50389225400914,101.35195950281252L453.32937349596364,102.94041251010492L448.32663805507326,107.03003395533636L447.8857541802381,107.3146976229869L450.9383585295834,106.04042358490955L458.2736669487979,102.77388969385112L460.9534774829933,104.0644051746508L451.30110420272365,109.6294095066097L446.58279569504174,110.84849179606232L446.5995099607536,110.48633882025581L446.57253849119786,109.5076382294576L444.9825840509768,112.74556448371953L444.90529958050564,112.85306717991375L447.23710110026025,112.75402891115272L447.2560844060332,115.88460722608806L447.2733148232342,120.35910171195837L445.5623772026312,124.60588057593509L443.50324702088756,129.2802241970146L442.43239346915897,126.83854488922043L440.6356969636222,126.70404325718164L439.42005506713696,125.90133147273343L437.619944945829,124.77887032814266L437.5212487530255,124.8004640192392L439.2020370060401,127.73610841642437L440.38547898697857,129.7978791229645L442.57390684757024,131.18808959731933L443.61233243295214,134.88987574465284L441.97351960364165,139.36595341690406L439.35964105501455,148.32794721124344L438.5551548080006,148.05379642892518L439.52088945193657,140.70592664328018L434.6729278251289,137.72716546056125L432.0315817144242,129.63412721302313L431.42745130564253,134.21647571135264L434.4717097434491,140.2663451727247L429.2159402826819,139.7478082852818L429.01444996513624,139.78868238716382L435.0324549078895,141.9318520585208L437.3325021128713,151.34549105725756L439.7472282570309,151.6356307874193L441.2995800340433,154.87177266098615L444.6085950888713,164.68590312905104L441.0567656775829,173.196070229918L436.361588753737,176.03210543167017L433.3205531125468,177.88578414735963L432.1556598061513,179.80254584250912L429.0406313350822,184.84075141385597L425.10316696011944,186.29114921632276L424.28115099509523,187.23999382292197L421.58744450083407,190.73877678106948L420.99896128578587,194.29133866924155L417.87394137440583,197.49132015852473L412.8926724589606,202.48374873428816L409.7849788881966,206.86776202871L408.960806709564,208.05617741758556L405.91661063676094,214.60025178026922L405.692132010679,222.00361495131676L407.6356645208558,227.13538500417923L408.23996917448994,228.79275057345524L408.86524670087516,229.83333647955408L412.53519396463696,236.86594553860812L416.9715856405272,242.5302901939557L417.5843566155677,243.39090187443065L417.61227691691903,243.56103180580948L418.39751134217977,247.62303583920203L418.4114684629477,247.7080096044296L424.5202177735954,258.5440473547212L425.4154637872898,265.2642343958311L425.5981798436357,269.2281312937228L424.543869607196,274.60677739694614L424.35397399250587,275.6775335095328L421.814076466143,277.3927260936431L417.069490043598,276.85407877612533L414.96527832876575,272.7708237563157L411.16895371344555,271.01634070523266L405.05174093444725,263.17448757622225L399.73828078777393,256.1257132200047L398.04913408420384,252.539915132178L397.9092265535504,252.38558698555084L398.8263270563069,245.471383866657L398.81425263057434,245.38601186411694L395.52265658879855,240.27090694459213L387.5462794438226,232.70951410618204L383.9471989290272,231.60008635126297L375.75115263892644,237.2912823584104L374.2094726289807,236.94539384124977L374.0954334278716,236.95831237057706L369.36356201625983,232.69591212800293L363.54918838584433,230.78088703915319L353.81101257680825,233.01331455215876L346.3405255303239,232.51763396079866L346.0002220379328,232.5449062866286L345.2129527414859,232.69430233472542L339.3549990231612,233.74363405483803L335.81237771659755,235.37840070327582L336.0692454836802,235.79470123973408L337.60330178778827,238.11749854663123L337.77558723717095,242.26503849852907L339.86824271104024,244.10967995643517L339.2146672113095,244.67568116401992L338.2386150782151,245.60975857669138L335.27232346651687,244.51242247486346L334.79508665758055,244.28413145109806L334.6913103168194,244.4640382180845L331.5803828437898,246.4784686970633L325.2165342472987,246.49996414421156L318.27895408533186,241.48360431457098L310.64299747986183,243.0974724010598L310.6398168194957,243.01110876999553L304.13833021993173,240.89035925750318L298.6556741474364,241.81060697618943L291.34627077827133,244.27769300623106L283.32493028561174,251.86166284808354L274.8274257577115,255.99384840300291L274.35922754972785,256.2495610909284L273.301357471769,257.2762058784098L269.4008435875154,261.027018469099L267.3408102462397,265.559072708909L267.19049298621593,267.79153843970823L267.1220936042841,272.513183458202L267.3257716486739,274.91796256540874L267.5295933564186,277.40671976734643L267.52720502414434,277.5780607168201L269.1624545826724,280.85371555537165L265.55707265155934,281.05976464480943L259.12592064930186,278.7058392279549L252.03947399879837,275.4243406691676L249.57878095055776,270.6221104066658L247.8260965907847,263.4232815532407L242.7811183089276,257.44971007232266L239.9054634729901,251.36684479061898L235.85724884363106,244.25211823662846L229.77353469343393,239.84351373089197L222.5542963856113,239.55459276789207L216.4641342880374,247.1726580253969L209.33089037051826,243.5753106243539L205.01072375573864,240.07965042631787L203.34255973908836,234.37136440242438L201.01030621861202,228.76203740991605L196.27353226272822,223.76752252896864L192.23919316126262,220.1204610608957L189.50355789657056,216.24370370399333L174.61788027947927,214.45364323375037L174.08278232736336,218.58369419620328L167.28341830732177,217.6738943256978L150.25110673006347,215.22825880557315L132.1573462337495,204.81283084321666L120.43150929510838,197.51586536264773L121.5832835589253,195.70771224379405L110.73892157193856,194.62172386792923L101.16104805660754,193.3176628752966L100.91530192697027,187.91334523657997L96.9067621099143,180.91334188211266L93.36422815799233,178.81892117916937L93.21032456938556,175.73734579780353L88.79556066925102,174.1198510296433L86.52486422011856,170.68050102063796L82.35442621210794,169.07886428273832L79.32387939163607,167.8412012720902L77.90298756188238,166.02569537921852L77.65694915161419,165.6901757028952L78.17630503363358,159.96741045983822L73.17385997650527,147.9454005661911L70.5832300420013,132.4390467452116L71.5551229992567,130.1759369153183L69.12878236330013,125.9326573135603L65.66443858289196,115.9902772558791L67.1095089933848,107.67966749118204L64.80482248108737,101.14257301911135L68.92300707694497,93.47198275538017L71.2120834867527,84.97543874580595L71.19729021344247,76.7804216188917L76.77648111968733,68.40907193975943L82.62557365847499,54.34048919542363L83.84323842691697,51.276931359901766L86.5699948215406,37.865839425618276L87.04186166176666,28.93446458033071L86.45054906595146,23.905989929091277L87.5863866071376,22.645336438657125L87.8824991776898,22.289177285963206L88.94242262319051,23.06436013816193L96.33907264036367,28.417065573864875L97.21735638510265,38.59334835277713L99.59810491024558,36.502882699282964L99.80885645297124,34.777075438574116L100.84833799694096,28.207626098676258L100.82898464459012,19.66086078977105L119.37153920992142,24.742473825253853L138.8287549512168,29.44032148434428L145.34588410947094,30.871138468934305L165.49990239643876,34.84998266493534L185.16303721491022,38.09153090820058L205.2661293081311,40.76186568215377L225.4435520658366,42.7957315504778L248.30556510414482,44.325388890310535L271.3831840370151,45.040305833971104L285.42998333529306,45.0689215115238L285.39580999014424,41.23202882568984L287.66362585015526,41.12260105103451L288.87683202389377,46.65118821108649L291.01889769933314,48.32603785580528L295.79822026713134,48.82307239111418L302.8312211600708,50.23531047913923L309.5199605991668,53.04642369592625L315.0484509298185,51.48291152937719L323.552964206698,53.53867001384799L325.7703857751973,53.29946846613285L331.67715425328237,50.01867423004734L338.3753659579882,53.14386846614002L345.51512667217173,56.339631688650854L351.4154133859165,59.088153299927285L357.08720605302597,61.733587540205406L358.12205408026205,64.29843714637445L359.86331837092587,65.04393853979508L359.5342941235883,66.12508388874562L361.4802548149805,66.2351675658141L362.71169808773396,65.0400254631241L363.3646258555965,67.30325144342947L364.9350665160063,68.75544299139602L366.84636535522304,68.50788681942333L368.0970457496898,69.56130468413602L367.42144398188987,71.47871378281809L375.410428053728,75.26853802434977L378.2873955435444,84.12362816593787L380.98229250781367,92.75786046186494L379.7599399651451,98.99125400703491L377.0135294849196,105.08608567240827L375.9593911999576,108.8315269590131L375.9072276508898,109.89258937373967L376.8816351280507,111.25282703397329L379.726730452022,112.52699230106248L381.5697467094911,112.26465710766149L389.3476933603797,105.55449382574159L396.753366308453,102.68249270310662L405.4090096102043,96.05402247993123L405.4120725802492,94.99352105460281L404.19342929172217,92.03586362050453L402.61670869000096,90.29009497458026L405.6062559292608,88.07163384654854L412.7185043405009,86.72584076156187L419.2565595392098,85.42094135640411L420.77528573359825,81.03252852552458L421.44960127559386,80.0944632895094L427.4420185898033,71.27144650925516L430.12737917489426,68.71999304750574L440.757731787927,66.22753683891881L453.58179922126266,62.8907894272549L453.661511424854,60.27528742246591L455.7054541453333,59.28312065377207L458.23219501520214,56.897658767713665L459.422671824223,51.82266378912226L459.4078643140235,43.59305960404242L462.3560474348425,34.79539887618L465.34998424445405,36.69772076626066L469.2695212170372,33.74140317075012L473.1405920420268,35.62108032710381L477.1994222694301,48.889811579011734L483.3163439306775,52.96735176275632L485.4862855785701,55.82276214315476L483.9084459415682,57.67882915233736ZM143.45074671104533,270.52203490449216L141.9368871245225,267.77576445984636L138.65840280178753,265.82377795372474L136.66136214161585,262.9222632863506L135.61599916717122,263.0821914235697L134.86747347136594,263.20940082694165L133.99527920902366,263.43036267621346L131.98882465231293,263.9225017164605L129.62312666262247,263.4681179829L125.11074827862309,260.7159448762443L123.55539476340974,260.4527323840164L123.28677688622602,260.41410920577584L121.95925737003593,260.1477876795129L120.00874425351634,259.7312113248836L117.62752410635582,260.4270957686142L113.98187237253303,259.27283256074065L111.74790272493448,257.99788070533L109.91653054850153,258.9353096893419L110.49750910218437,261.3525306585697L110.18398206566422,261.4718569039567L109.52970043696904,261.67962115507277L107.5279770230985,262.5868826094629L106.03339962729822,263.8590543210369L104.0419304384989,264.70369369148796L103.71483251873694,262.61886441050063L104.39088093913692,259.10130082608254L106.17496072640677,257.89287321868227L105.66215798537657,257.0384899416746L103.55661109971732,259.1004474972298L102.41421694322176,261.53002274519264L101.04757773030629,262.91748613425955L99.86057398068225,264.07653153204365L100.80958353173494,265.317631628133L101.21833304318454,265.79952198155206L100.50850210883657,266.83695480253994L99.4696737348761,268.38513183268503L97.4205809045865,269.8477583785389L95.48700172687312,270.8871328120738L94.95461591258572,272.44514568749855L91.82595835234322,274.13847208198104L91.67576260827838,274.4933177702765L91.10388726175557,275.76126216479554L88.7928932446915,277.04472543691054L88.65764189998873,277.0941045510232L87.30385045322208,276.69908388679255L86.15160885186852,277.19312152385265L85.32731426471797,277.5011259584687L84.60022220946824,277.84605173363104L83.14190680717269,278.46378783949933L81.29475302560402,279.4415115963177L77.64193859325735,279.8998187793959L77.42207740402651,279.25087819461135L79.89374954975746,277.9575324807995L82.032798571597,277.1610213843823L84.3983999664094,275.5069234814099L86.8871597769226,275.35068067941154L87.73407432077327,274.3368634714899L87.99677942278522,273.9960991548669L90.84493370637553,272.0992052136379L90.89931596253211,272.04226662081237L91.34491827178579,271.40440978811773L92.81109918592655,270.24934056897655L93.3010532834866,267.57242504813235L94.3413381984269,265.4972316267943L92.15768321002984,266.47226167899436L91.60209201427804,265.7970724529861L90.52613245800936,267.02762286570237L89.45298982397605,265.1440439137648L88.86445807519469,266.37165542335094L88.41559173590973,264.7451457238269L88.34140025145757,264.5246229862505L87.98447235784994,264.7643265564984L86.36940798348216,265.75435772829974L85.25039807493303,265.6246869589361L85.33869701195272,263.70932692945877L85.34099437798662,263.49555835064814L85.82279535268475,262.23888941755945L84.89091884337626,260.89991365053146L84.85294020913383,260.83380717942543L83.47328284738919,261.0462288280921L82.4673719648923,261.2074646722923L81.24998138226984,259.2978619460865L80.20001313501925,258.2604343868362L80.54070947835201,256.2859291194667L79.50515675533912,254.52836308018087L80.30365748720472,253.0696433984114L80.51173245710912,252.64447809444724L82.17995820653135,250.89990484185378L83.03318688790806,249.19539459695787L84.37085996668522,249.12550795869961L85.36261688375023,249.84891169308102L85.77516301666643,249.44592419330337L86.86205032849773,248.30294292596423L87.4360376429991,248.52577619087415L87.97115252720626,248.74079024334065L89.29190650509854,247.7862696387749L89.25891080857183,247.50876070450454L89.17863811038121,246.1300130845605L88.39168105268587,245.40434474725808L89.64212474193903,244.1696231655241L88.71821339315814,244.10104643656814L87.03370550255006,244.69156437944304L86.4615626142916,245.3802133914846L85.93646123564596,244.94241088132918L85.3809006012984,244.466343934661L84.57693316726103,244.46923492138356L83.17747837755726,244.52179434186843L81.11729857937402,243.29458436050922L80.7751317137222,241.7500120868833L79.33837072872207,239.3562347387659L81.19289989700451,238.5375475007082L81.65727886390759,238.3209644742023L82.44898737366238,238.07187695640604L85.09676219971925,237.15142359801112L86.24582888732249,237.32694809543312L86.11212306839718,237.85573734387927L85.80201997345354,239.06005383327908L87.84335295166017,239.24948955535973L88.83846968235615,239.30954452234624L87.9600383194839,237.01513090024412L87.32805121698554,236.3542209980587L86.43131754836536,235.43653293801768L85.77739513430095,233.6637831025874L85.72605428950801,233.53399114474334L85.58426601712914,233.29843298355303L84.70516613634584,231.84315518035584L83.0991249237747,230.4200060008263L83.32500572487743,230.0670740721392L84.16573028454913,228.73387580642353L86.24431881040572,228.97284698769045L86.46043123325688,229.00733256230887L88.29331135642796,227.67951748635386L88.8196587070638,226.0073047782323L90.26992449989402,224.5144212722428L91.24725715906767,224.32698723127154L91.49224425949583,224.2635499241281L93.90421285899278,222.93520090763653L94.84862816178094,223.20889351539745L94.98623202019729,223.24721314771386L95.28255479783776,222.9686813679482L96.88877126814008,221.47981718085677L98.65058255533728,222.26624826149964L99.48433920466712,223.84272928512956L100.0143405406622,223.16293553262958L102.03247329912584,223.3415281678093L101.99124773855226,224.14249436452658L103.86932949912762,224.66518570560228L105.07653346057026,224.24008628662096L107.72137343642835,225.1286169523735L110.10702606282712,225.1923466506496L111.1080886652685,225.54029054493046L112.66018803817914,224.73994197176663L113.99165106641885,225.21216063663422L114.67449065935212,225.4535203963392L114.79135381191293,225.4624768270489L116.10346047567907,225.66683369065365L118.63871172341923,238.53241604833397L122.58896991069051,258.4482799373608L124.30715639082503,258.1871683321233L126.20383368676674,258.79309161417154L127.75431426609109,260.0194691494746L129.90195619859443,261.92711261167574L131.08383264143805,259.5461288936008L132.52569327710341,257.94759669676813L133.94029588476386,259.4647312252557L135.5395776689931,260.50536374518845L137.64647947142086,261.53003992921265L139.55087000997082,263.5888144761359L142.7089212810272,266.80506364525013L146.6448930102577,267.79211095017234L147.4964440483277,269.89701483058707L147.04648589008582,271.87317887499495L145.51898305004164,271.01317397356524L145.36409961909777,270.9723255066539Z\" style=\"stroke: none; fill: rgb(217, 217, 217); fill-opacity: 1;\"/></g><g class=\"layer lakes\"><path d=\"M421.673913296461,79.78166220542295L422.70058380068986,80.9835058273373L423.89748199452947,84.8099598771895L419.25423776204116,89.23176285844676L413.1719195488889,89.55632401331053L407.377412563824,90.30453706083239L404.19342929172217,92.03586362050453L402.61670869000096,90.29009497458026L405.6062559292608,88.07163384654854L412.7185043405009,86.72584076156187L419.2565595392098,85.42094135640411L420.77528573359825,81.03252852552458L421.44960127559386,80.0944632895094ZM375.9593911999576,108.8315269590131L375.9072276508898,109.89258937373967L376.8816351280507,111.25282703397329L379.726730452022,112.52699230106248L381.5697467094911,112.26465710766149L389.3476933603797,105.55449382574159L396.753366308453,102.68249270310662L405.4090096102043,96.05402247993123L405.4120725802492,94.99352105460281L405.6777435749033,95.9168696360187L400.46921853129425,103.10983288682928L395.39301370024657,106.96515436080159L391.7457167950979,108.87700701902384L387.8333005372368,112.39346549616687L382.59761579466044,114.57987342670884L378.82674653504245,114.58753821750145L373.86795539509615,113.06503329217128ZM323.552964206698,53.53867001384799L325.7703857751973,53.29946846613285L331.67715425328237,50.01867423004734L338.3753659579882,53.14386846614002L345.51512667217173,56.339631688650854L351.4154133859165,59.088153299927285L357.08720605302597,61.733587540205406L358.12205408026205,64.29843714637445L359.86331837092587,65.04393853979508L359.5342941235883,66.12508388874562L357.39829932323397,65.94503587843337L355.6230392181397,63.29008319752933L348.8559393689164,64.9854912873991L342.9100153965794,67.82956934543017L337.6611322626916,64.41781150659546L333.5758940603023,63.46822958915419L335.3818022987627,57.97067979365676L329.5425083666722,61.80135339243594L324.17480554263466,65.46149609556085L318.98140075377114,68.37722881862737L314.52374129020075,65.17723624132645L307.63698520931575,67.57095464166468L307.5755303294489,66.10895916077465L312.0784511392767,61.59958315695724L316.8018725502628,57.30822688292449ZM418.8184820426834,260.4464493908595L416.7705982316939,260.4286123325326L416.4943579712144,257.95116688789847L418.5365654392161,257.9698782560029ZM157.7542602746111,112.53054935737134L157.80390074537897,114.57188435274827L157.01036730574236,117.44145714698021L153.68897912646594,114.03129943663657L153.57070200908294,113.56791740167586L153.13841839300738,108.7133581381508L154.9292556062095,110.97773754701336L156.10526461428682,112.24501677709992L157.61116621542635,111.62214535844737ZM358.02856406791295,72.90537920582892L359.15792429154277,71.46835820935354L359.34072573169533,71.44659843948091L365.4422509330635,69.8210937565787L361.4802548149805,66.2351675658141L362.71169808773396,65.0400254631241L363.3646258555965,67.30325144342947L364.9350665160063,68.75544299139602L366.84636535522304,68.50788681942333L368.0970457496898,69.56130468413602L367.42144398188987,71.47871378281809L375.410428053728,75.26853802434977L378.2873955435444,84.12362816593787L380.98229250781367,92.75786046186494L379.7599399651451,98.99125400703491L378.7880108512915,94.91844939871555L376.63766547804767,89.26359244426942L373.77414407128623,88.61166193367762L369.9507790519341,93.67544913233297L368.5229183101974,93.77306800246026L367.81443169736843,91.23953461308031L371.22454527297623,86.68266323127142L371.25359315950004,81.9588325353796L370.08723224944265,77.48821313699352L364.33016617863257,74.22753305503772ZM359.15792429154277,71.46835820935354L358.02856406791295,72.90537920582892L357.55879497969835,76.8736017068486L356.1088723843119,78.08355986593136L355.3713423736944,83.21554258698393L354.35024957126984,79.93335285092843L351.73561428220734,82.65282329478032L350.3169098597773,86.19647301550873L348.95154638234175,91.38835635445349L349.00692204293875,95.74210958903296L352.1229112305118,101.79677503751435L352.52374371314113,108.4850942300809L350.02966617540505,113.8096442374611L348.70592649470746,115.33871616945589L346.76608967285614,116.6608114847345L344.2363207749333,116.98149305379167L343.4908444205674,116.34919431659586L340.97694855826256,111.15358444498298L340.6479829592835,108.4754831037315L340.6231496883499,105.94667515974328L339.33636036661835,101.08600555455973L340.1663269664049,95.17614838422458L341.2335063029405,87.9443302658637L344.23102205742407,79.75687231791068L343.1285715404705,79.94795681285984L338.50679152835914,86.9667103163577L337.3759255637,85.84635951403277L339.8480201439778,81.89708353797755L343.4959590523589,74.96597582168721L348.18436390340196,73.63633293516676L353.45654022174483,70.9929503071354Z\" style=\"stroke: none; fill: rgb(255, 255, 255); fill-opacity: 1;\"/></g><g class=\"layer subunits\"><path d=\"M307.63698520931575,67.57095464166468L305.75220562576885,68.25069844917931L306.06652377405646,73.93128680079451L305.87968104996736,73.85227316366297L304.17757588941333,75.03887292450986L302.65065466324324,76.12899566614823L301.697237653035,77.97491399537972L303.3324518169626,79.8212649489983L302.86552097544165,82.43202011949126L302.9598224623646,85.19831964769844L302.7557243800416,87.45685903238507L304.9782752064297,89.28476428670774L305.8261044646039,89.33969250767274L308.23316484696863,90.71782794059379L309.0149231587926,91.37878965032877L309.62852673186313,92.48014423496102L311.49936921251725,94.13215040401047L314.0292261795325,95.48725351901612L314.35659344399204,96.33949328836269L314.47789217285117,98.76615868291935L314.729166499986,99.97036760449117L305.09440231197834,100.21412065206437L294.41438534272623,100.52116249057428L284.3998545654731,100.83400628836682L276.3845067356399,100.84179947692166L276.52415927449505,91.30176446793149L275.73450351378824,81.51806713721982L274.4416880145388,80.73137474574742L273.80659767681175,79.17086334526982L274.18774314408057,77.79218996016101L275.7628854148514,76.68087842750742L275.86340828400756,75.21428350013656L275.874283312359,73.3165846067921L275.51740603535103,71.76253231793345L274.88915710090674,70.12095980383253L274.5403720321899,68.05133983449423L274.5577860491048,65.81379065802247L274.29083365424225,65.20948915973571L274.0443426055604,62.284354775268184L273.96620955206197,60.909150379490825L273.88692258442575,59.70629654285369L273.54715916530284,57.64357697731208L272.76349147854404,55.57767483677361L271.9828457935729,53.68375517658592L271.9154935085844,51.88481287159834L271.85069715470775,49.916141136896044L272.0428486283584,48.6359111279786L272.1451834499628,47.440712050299965L271.5468275224754,45.981431552807464L271.3831840370151,45.040305833971104L278.58209393951745,45.093377832410226L285.42998333529306,45.0689215115238L285.4064353237058,42.425013136980795L285.39580999014424,41.23202882568984L286.52934933216943,41.135729464258645L287.66362585015526,41.12260105103451L288.03480368900193,42.82247525069016L288.87683202389377,46.65118821108649L291.01889769933314,48.32603785580528L293.8498355047792,48.612171745956005L295.79822026713134,48.82307239111418L302.8312211600708,50.23531047913923L307.34291221861747,52.11411422280992L309.5199605991668,53.04642369592625L311.6277374359827,52.431839339627345L315.0484509298185,51.48291152937719L323.552964206698,53.53867001384799L316.8018725502628,57.30822688292449L312.0784511392767,61.59958315695724L307.5755303294489,66.10895916077465ZM225.09364024131264,42.7659405553473L223.7061997791116,61.13205136553228L223.02797065455206,73.43617360786197L221.8696064306702,82.70386280202354L209.90780314705245,81.40527463189255L197.10943070710596,80.0526466147308L186.0237714337079,78.51986864116515L172.08370407030958,76.52615341768814L171.27738678534922,81.56973704902532L171.11616856097243,81.98259025334573L170.37723123859058,81.24973734220725L169.95003188927544,79.77693916849671L169.1731589944744,79.29948217142555L167.81756673165972,81.18315206120332L166.1985202335664,81.17742266321761L162.22420968362468,79.88447613341498L161.86097190243413,80.87648221933921L159.62012342422332,80.0429711762036L158.0641485955805,81.26155629199354L157.24536223304125,78.3848338530276L156.6788602063191,76.7854513697983L155.25231629361895,76.25916196372782L155.01041755000568,75.51006393425422L155.0417343407517,72.78757377847455L153.9997402852013,71.27269642655222L153.77281364843188,67.97527542287804L153.2135535599951,66.46211601577068L152.44605104170574,66.05144110647296L151.45873646043273,67.26867094384954L149.86473480978316,68.19134530217417L148.7923062483067,66.92417720363426L149.20334262792926,64.36441717923225L150.1336229239912,63.931619116894694L150.1084247067028,61.20069128273144L151.23595216463923,58.78632055898845L152.48763973281655,56.660836059109045L150.3600270003317,56.15515282855506L148.95181485666652,54.38178543047343L147.61194313491384,50.95071666796434L146.77234143522955,49.1992288541735L145.46334472548259,47.96301218934161L144.4767842915286,46.089332543335956L144.84787500813286,44.32549074435502L143.6669326744284,41.27019913276234L145.34588410947094,30.871138468934305L165.49990239643876,34.84998266493534L185.16303721491022,38.09153090820058L205.2661293081311,40.76186568215377ZM271.3831840370151,45.040305833971104L271.5468275224754,45.981431552807464L272.1451834499628,47.440712050299965L272.0428486283584,48.6359111279786L271.85069715470775,49.916141136896044L271.9154935085844,51.88481287159834L271.9828457935729,53.68375517658592L272.76349147854404,55.57767483677361L273.54715916530284,57.64357697731208L273.88692258442575,59.70629654285369L273.96620955206197,60.909150379490825L274.0443426055604,62.284354775268184L274.29083365424225,65.20948915973571L274.5577860491048,65.81379065802247L274.5403720321899,68.05133983449423L274.88915710090674,70.12095980383253L275.51740603535103,71.76253231793345L275.874283312359,73.3165846067921L275.86340828400756,75.21428350013656L262.43222726962404,75.52096090281987L250.94074178743676,75.12720135820064L236.4279639851013,74.34845209462685L223.02797065455206,73.43617360786197L223.7061997791116,61.13205136553228L225.09364024131264,42.7659405553473L225.4435520658366,42.7957315504778L248.30556510414482,44.325388890310535ZM199.7015371024356,271.7806412112061L201.4521533444276,272.6298850455695L202.95849583972392,273.9965776283491L205.4834049123058,277.50823895406165L205.2387113448078,278.1136244131753L201.5055511521732,280.29767410394675L198.38814354548217,281.8696936611425L197.02057659108155,283.6023890015366L194.63533175463718,282.14695212650673L194.87347123328456,279.3003245567236L193.23512019468717,275.60125428899005L193.73009442060936,274.47970317771694L195.46923970751544,272.8364284765794L194.71287036469846,270.8600617322172L195.33148389463733,269.91088441990485L196.0794317546657,270.07949945068964ZM193.94190114238296,264.84364808571695L193.20097125421924,266.13561212739967L189.96998010201716,266.8328565396758L188.34974937785785,264.68727161725394L187.2305478063325,263.91555978406507L187.10556467828786,263.2284729103619L188.09770659289785,262.36829368511246L191.45215071630787,263.3056515579318ZM186.73062176247944,260.7386577939701L186.3593628147616,261.8550898213852L181.27123164990954,261.51046152683534L182.01695959833606,260.3094608463372ZM174.59535641383152,255.23026754769663L175.45926610303604,255.91937625084958L178.17456790744012,259.2728627010334L177.67699645072102,259.8722570532974L176.93345739291675,259.6984582188592L173.58693769541242,259.3426803953939L172.48239900226466,257.0213390186218L172.11253002428583,256.67648630220003ZM161.8927616386672,250.17789285189195L162.1186309430591,252.4918545388364L160.99603358005027,253.50932073529395L157.80079837188123,251.59203623664948L158.30250811162463,250.91246675881587L159.6720661529344,249.89953753515857ZM145.34588410947094,30.871138468934305L143.6669326744284,41.27019913276234L144.84787500813286,44.32549074435502L144.4767842915286,46.089332543335956L145.46334472548259,47.96301218934161L146.77234143522955,49.1992288541735L147.61194313491384,50.95071666796434L148.95181485666652,54.38178543047343L150.3600270003317,56.15515282855506L152.48763973281655,56.660836059109045L151.23595216463923,58.78632055898845L150.1084247067028,61.20069128273144L150.1336229239912,63.931619116894694L149.20334262792926,64.36441717923225L148.7923062483067,66.92417720363426L149.86473480978316,68.19134530217417L151.45873646043273,67.26867094384954L152.44605104170574,66.05144110647296L153.2135535599951,66.46211601577068L153.77281364843188,67.97527542287804L153.9997402852013,71.27269642655222L155.0417343407517,72.78757377847455L155.01041755000568,75.51006393425422L155.25231629361895,76.25916196372782L156.6788602063191,76.7854513697983L157.24536223304125,78.3848338530276L158.0641485955805,81.26155629199354L159.62012342422332,80.0429711762036L161.86097190243413,80.87648221933921L162.22420968362468,79.88447613341498L166.1985202335664,81.17742266321761L167.81756673165972,81.18315206120332L169.1731589944744,79.29948217142555L169.95003188927544,79.77693916849671L170.37723123859058,81.24973734220725L171.11616856097243,81.98259025334573L171.2745244047345,82.18337221039297L167.27452724805266,107.22567146362309L145.26565986836349,103.4441248592014L123.23124542660238,98.76194119361043L127.44185503405436,80.91389594690133L128.64229331278338,78.1607649671626L128.3735686926342,76.7676884833158L127.23739970291516,75.8003359614118L127.60147015060849,74.1945727182702L129.10584459728798,72.22556366133261L131.02225121184813,70.52550533356731L132.73671937411422,67.53838528529502L134.29292169834568,65.22556819170973L135.2037323015656,64.09829025129858L135.17516671613535,62.500427681678275L134.18954587168452,61.399248317351294L132.98409211603428,59.18585415035005L133.4690661693826,57.437977370778185L133.18281806552994,55.7833513251598L136.09852371631357,41.98251719204916L138.8287549512168,29.44032148434428L143.11467012146312,30.389274033416086ZM138.8287549512168,29.44032148434428L136.09852371631357,41.98251719204916L133.18281806552994,55.7833513251598L133.4690661693826,57.437977370778185L132.98409211603428,59.18585415035005L118.82272867910362,55.94537573404318L116.07237446355415,56.328933773440326L114.39240792459586,55.46046225707687L112.86213761170151,55.87250046901556L110.08164437917358,56.31499761401187L106.97918439126744,55.41188443062515L105.2623936395888,55.75929875365614L103.65554343794048,55.68541420067203L102.7207057887669,54.89542190024662L100.42999550455218,53.82098711097473L98.73615417464987,53.71036430130482L95.87555619246453,53.984777112817085L94.16127423381732,53.58784519066597L92.68016134729436,52.7139361228551L92.53071264699665,51.23267589861342L92.83308036444976,49.52288632169183L92.12662634616481,47.34136758677988L90.35981282098453,46.19477681212004L88.95984570432461,44.791295529536285L86.85480618974879,44.16158736440775L85.39002898276641,43.628865052073024L86.5699948215406,37.865839425618276L87.04186166176666,28.93446458033071L86.45054906595146,23.905989929091277L87.8824991776898,22.289177285963206L96.33907264036367,28.417065573864875L97.21735638510265,38.59334835277713L99.59810491024558,36.502882699282964L99.7306456395913,35.37972864219364L100.84833799694096,28.207626098676258L100.82898464459012,19.66086078977105L119.37153920992142,24.742473825253853L130.27689691354024,27.454586908086412ZM175.20028101384526,160.32855214344227L167.28341830732177,217.6738943256978L150.25110673006347,215.22825880557315L132.1573462337495,204.81283084321666L123.95236623092569,199.7190207161578L120.43150929510838,197.51586536264773L121.5832835589253,195.70771224379405L122.66740405883576,195.9232825712386L124.02956526601895,194.15415482135018L122.78660275224735,192.48997304267613L122.76868962529409,190.8901789703508L122.6957539949207,189.01277396329834L124.7639742769945,187.02852630692075L126.3152134974982,182.54324170310684L129.27128896459095,180.99071694992563L128.04363841703318,178.7998126014142L127.35337048388897,176.71119499345895L127.07375975718418,174.79092174930759L126.9230002920126,173.33965189635796L126.88218207010269,172.44301574830564L127.81457934936336,170.495311966617L127.78530370272566,168.445437422932L127.95005684360018,166.52254748303397L128.3922155342837,164.29889589579483L128.04091258651482,162.80611353883535L128.7987236547359,161.7121380807572L130.45903468341334,162.04062777738505L131.8829596923883,163.03017359411416L132.8396668146806,163.65984056333502L133.65645396482202,162.21851055467715L134.1374866562655,161.95568261322802L135.59657880375786,153.79693735924798L148.37705566568718,155.9615199810645L163.6277970227701,158.55229485382358ZM126.88218207010269,172.44301574830564L126.9230002920126,173.33965189635796L127.07375975718418,174.79092174930759L127.35337048388897,176.71119499345895L128.04363841703318,178.7998126014142L129.27128896459095,180.99071694992563L126.3152134974982,182.54324170310684L124.7639742769945,187.02852630692075L122.6957539949207,189.01277396329834L122.76868962529409,190.8901789703508L122.78660275224735,192.48997304267613L124.02956526601895,194.15415482135018L122.66740405883576,195.9232825712386L121.5832835589253,195.70771224379405L110.73892157193856,194.62172386792923L101.93669810736958,193.40349334751585L101.16104805660754,193.3176628752966L100.91530192697027,187.91334523657997L96.9067621099143,180.91334188211266L93.36422815799233,178.81892117916937L93.21032456938556,175.73734579780353L88.79556066925102,174.1198510296433L86.52486422011856,170.68050102063796L79.32387939163607,167.8412012720902L77.65694915161419,165.6901757028952L77.7015871021571,165.5217480116264L78.17630503363358,159.96741045983822L75.15219345904393,152.74098185912658L73.17385997650527,147.9454005661911L70.5832300420013,132.4390467452116L70.89938780505639,131.71271755426835L71.5551229992567,130.1759369153183L69.17883341177401,126.12901619529526L69.12878236330013,125.9326573135603L67.57308769718657,121.74793170990682L65.66443858289196,115.9902772558791L67.1095089933848,107.67966749118204L66.2735229580305,105.23942883488559L64.80482248108737,101.14257301911135L67.56553341803081,95.88131927077478L68.92300707694497,93.47198275538017L71.2120834867527,84.97543874580595L101.59816402000533,93.62826019251156L93.91152040119565,123.42004056898094L105.03191692823341,140.46358885025512L116.1089475380239,156.84508471979677ZM233.10972906826186,135.1411676898972L232.100733982541,150.9859626931514L231.14693024668222,165.96405810897153L223.42923668023772,165.43336281750135L213.84239797135353,164.66468653681937L200.20994710068337,163.3620943799918L187.64072346926736,161.94209198356936L175.20028101384526,160.32855214344227L180.72090420540556,119.61691746525895L188.2713779780857,120.61986231481296L195.8319967975565,121.54322336545346L210.98031330989386,123.1507931436376L218.5736980520673,123.7480051247424L233.7634113593038,124.87604148126184L233.12635440356684,134.8800910667341ZM123.23124542660238,98.76194119361043L145.26565986836349,103.4441248592014L135.59657880375786,153.79693735924798L134.1374866562655,161.95568261322802L133.65645396482202,162.21851055467715L132.8396668146806,163.65984056333502L131.8829596923883,163.03017359411416L130.45903468341334,162.04062777738505L128.7987236547359,161.7121380807572L128.04091258651482,162.80611353883535L128.3922155342837,164.29889589579483L127.95005684360018,166.52254748303397L127.78530370272566,168.445437422932L127.81457934936336,170.495311966617L126.88218207010269,172.44301574830564L116.1089475380239,156.84508471979677L105.03191692823341,140.46358885025512L93.91152040119565,123.42004056898094L101.59816402000533,93.62826019251156L123.21214140012327,98.84684718814833ZM167.28341830732177,217.6738943256978L175.20028101384526,160.32855214344227L187.64072346926736,161.94209198356936L200.20994710068337,163.3620943799918L213.84239797135353,164.66468653681937L223.42923668023772,165.43336281750135L223.05656235042147,170.47969419990386L221.07303638964015,197.33834397231084L219.65782848765994,216.5014777784627L211.7626222087431,215.87984890955846L196.4360162002819,214.45239541795763L188.67265257208118,213.61779076808216L188.6866835247805,214.4930377767102L189.50355789657056,216.24370370399333L174.61788027947927,214.45364323375037L174.08278232736336,218.58369419620328ZM132.98409211603428,59.18585415035005L134.18954587168452,61.399248317351294L135.17516671613535,62.500427681678275L135.2037323015656,64.09829025129858L134.29292169834568,65.22556819170973L132.73671937411422,67.53838528529502L131.02225121184813,70.52550533356731L129.10584459728798,72.22556366133261L127.60147015060849,74.1945727182702L127.23739970291516,75.8003359614118L128.3735686926342,76.7676884833158L128.64229331278338,78.1607649671626L127.44185503405436,80.91389594690133L123.23124542660238,98.76194119361043L123.21214140012327,98.84684718814833L101.59816402000533,93.62826019251156L71.2120834867527,84.97543874580595L71.19729021344247,76.7804216188917L76.77648111968733,68.40907193975943L80.35636627344138,59.89262470167017L83.84323842691697,51.276931359901766L85.39002898276641,43.628865052073024L86.85480618974879,44.16158736440775L88.95984570432461,44.791295529536285L90.35981282098453,46.19477681212004L92.12662634616481,47.34136758677988L92.83308036444976,49.52288632169183L92.53071264699665,51.23267589861342L92.68016134729436,52.7139361228551L94.16127423381732,53.58784519066597L95.87555619246453,53.984777112817085L98.73615417464987,53.71036430130482L100.42999550455218,53.82098711097473L102.7207057887669,54.89542190024662L103.65554343794048,55.68541420067203L105.2623936395888,55.75929875365614L106.97918439126744,55.41188443062515L110.08164437917358,56.31499761401187L112.86213761170151,55.87250046901556L114.39240792459586,55.46046225707687L116.07237446355415,56.328933773440326L118.82272867910362,55.94537573404318ZM145.26565986836349,103.4441248592014L167.27452724805266,107.22567146362309L165.69497026888934,117.11461313290914L180.72090420540556,119.61691746525895L175.20028101384526,160.32855214344227L163.6277970227701,158.55229485382358L148.37705566568718,155.9615199810645L135.59657880375786,153.79693735924798ZM171.11616856097243,81.98259025334573L171.27738678534922,81.56973704902532L172.08370407030958,76.52615341768814L186.0237714337079,78.51986864116515L197.10943070710596,80.0526466147308L209.90780314705245,81.40527463189255L221.8696064306702,82.70386280202354L220.29560627750666,103.45756147686296L218.5736980520673,123.7480051247424L210.98031330989386,123.1507931436376L195.8319967975565,121.54322336545346L188.2713779780857,120.61986231481296L180.72090420540556,119.61691746525895L165.69497026888934,117.11461313290914L167.27452724805266,107.22567146362309L171.2745244047345,82.18337221039297ZM331.260625471738,175.7355410830421L331.21290968508583,176.6127780945526L330.56948128816003,178.1410582322024L329.1464551475019,179.19428701527727L328.9381962869778,180.95486825712982L327.74204937391596,182.3398924516817L328.03139083086023,185.29144068763793L327.1265481419339,186.30730067433694L327.0719910445251,187.18369149274434L325.6113756978697,187.9689128417507L325.6978725808227,189.4476958685072L324.67346861469287,192.29929330088322L323.8440151096761,192.95680712825344L322.40673245240123,194.43138980548503L321.65125821721153,196.564662155134L319.9865379614139,200.22471215938202L319.890818983597,202.66930155366214L321.0136258436769,205.31256190658831L320.6765509310215,207.33277074491895L313.51122864783173,207.31766603972477L304.2810373980508,208.00061201155557L296.1340813049642,208.20806399620108L296.5617541449021,202.36949588117642L294.59253055484066,202.32154884415195L292.9558533882649,202.52441850196487L292.5073799344615,201.8354266999276L292.5797327065664,192.8646158498252L292.6311644089482,182.9273085014392L290.7692677230961,172.14052085702048L300.65676235402054,172.02201206612716L309.59690093134896,171.81371211164503L318.110321515951,171.43543286230118L327.3919174549492,171.5270481167753L328.0990847074952,172.70647879132508L327.22156460193673,173.89725306813688L326.44675800320863,175.0805829152198L325.9761992467377,176.07003182158724ZM276.3845067356399,100.84179947692166L284.3998545654731,100.83400628836682L294.41438534272623,100.52116249057428L305.09440231197834,100.21412065206437L314.729166499986,99.97036760449117L314.85068682218144,100.4858298392121L315.8896689084862,102.08481373632156L315.2601864225426,102.89983345914482L315.36598976882595,104.98222359134661L315.7989592513066,105.91726058463468L316.26901777496334,107.54665923468224L318.826523364604,108.36703849894883L319.58984127908406,109.89196029431798L320.117759762946,110.64597861265815L321.0189837324721,111.11668475898728L321.37579969223617,112.22858320286753L322.58669647939723,112.94082168611158L323.4166947784223,113.76194572623024L323.1974064851075,116.56561788724713L321.96474125252246,118.90720930288069L321.5209277568126,119.71829227142331L319.79077141636947,120.42769163299988L317.2626861779686,121.00053953203968L316.6692368174325,122.86283803575884L317.6948102285673,123.59452628033421L318.07362202616434,125.14486141471349L317.17623620611994,126.9370469969196L316.76130652511205,128.52914486462868L314.8527685045532,130.19485884356544L314.74178621413444,132.03297430948015L313.70422060316,131.20939042878967L312.13667772124705,129.62306098665897L303.79736065468865,130.20900494875877L295.0471626291393,130.53338580465743L288.18233089271297,130.64571478549374L281.3167447199084,130.69324449383305L280.7171909810973,128.8640065521061L281.0116702065161,127.03352560074819L280.81088375283827,125.20416376116589L280.0196010899396,122.24330247849554L279.5281773181177,121.02412773556136L278.93946693527795,120.67541764130209L278.94200484108256,118.32466319039759L278.45586258278564,116.67014563373601L277.0967115949231,114.75193290260086L277.0999122834454,113.88187265406805L276.621103216846,112.2271031526783L276.33515185529774,111.18209752372275L276.3397175764168,110.2255372637855L275.1865259783049,109.08875718462525L275.77505676066056,107.44063007058242L276.16868204545835,105.79151572228602L276.3662680088047,104.66297927034003L275.41537632009056,103.26792949715247L275.43030724211457,100.83659236745746ZM231.14693024668222,165.96405810897153L232.100733982541,150.9859626931514L233.10972906826186,135.1411676898972L246.53184271641345,135.87244091603543L256.55585862748876,136.2577945461719L274.3078091060986,136.60361572757262L284.9411042538684,136.60491364350196L286.76009152065143,137.98505778607523L287.76509691942607,137.97473178538797L287.98274851441533,139.45504391885407L286.9946451895316,141.38445684721768L287.5095952136824,142.33876244601277L288.54654141525276,144.50811409815037L290.58843637378806,145.4407131788778L290.64648516715516,156.4350320927095L290.8060623482287,167.4283646122147L283.69772179026205,167.49848236088815L269.27156103521827,167.43751916035353L254.74463710093303,167.10084550071093L246.8053403312475,166.7999853006175L238.76521028927934,166.41100938920772ZM331.260625471738,175.7355410830421L325.9761992467377,176.07003182158724L326.44675800320863,175.0805829152198L327.22156460193673,173.89725306813688L328.0990847074952,172.70647879132508L327.3919174549492,171.5270481167753L318.110321515951,171.43543286230118L309.59690093134896,171.81371211164503L300.65676235402054,172.02201206612716L290.7692677230961,172.14052085702048L290.8060623482287,167.4283646122147L290.64648516715516,156.4350320927095L290.58843637378806,145.4407131788778L288.54654141525276,144.50811409815037L287.5095952136824,142.33876244601277L286.9946451895316,141.38445684721768L287.98274851441533,139.45504391885407L287.76509691942607,137.97473178538797L286.76009152065143,137.98505778607523L284.9411042538684,136.60491364350196L283.9254190393773,134.43150854901387L282.7198462295555,133.12966474241426L281.4182883708144,131.56469165478165L281.3167447199084,130.69324449383305L288.18233089271297,130.64571478549374L295.0471626291393,130.53338580465743L303.79736065468865,130.20900494875877L312.13667772124705,129.62306098665897L313.70422060316,131.20939042878967L314.74178621413444,132.03297430948015L314.2629715808903,134.58710432137798L315.1143620122066,137.68940320831632L316.4240584655009,139.7209374494903L318.02549011427845,141.3862490765831L319.91854982984034,142.68334763629167L320.6506382518773,143.08002667655967L321.3654290139749,144.96244931062301L321.5649611717388,146.6989074877801L322.5052244945766,147.0823446005552L323.9897988876994,146.29622235958277L325.5144301013402,147.8646865391512L325.22381912770504,149.80566109685822L324.5978158750368,151.32959811646242L324.194673315632,153.18934343637744L325.41837618400797,154.68935249661746L327.04769894814433,155.98741476560497L327.979921151088,156.01565240771492L330.1846436280954,158.057453665116L331.0342585013345,158.350008875632L331.71803193066813,160.75226485533403L331.61794973922656,162.33344025334304L332.72813086146255,164.79322571461432L333.64710573827335,164.46627955978346L335.11441331933486,165.93554788351702L334.98133062747735,166.99491297748796L335.19936226869265,168.55361997141864L334.0047537311376,169.51388656462132L332.30029090936426,170.76948932885853L332.15564877800784,171.74118165525073L331.7299921171849,173.25637516993544ZM233.10972906826186,135.1411676898972L233.12635440356684,134.8800910667341L233.7634113593038,124.87604148126184L218.5736980520673,123.7480051247424L220.29560627750666,103.45756147686296L234.67382242074865,104.52928893153029L245.71028244169838,105.15102894366959L260.5022372534176,105.71157109413036L262.39196061104064,107.06467567622559L265.167818350758,107.90996247980087L265.7547596923487,107.48713990547452L267.48872814312614,107.51937657359775L270.18733162806444,107.47412568773512L272.09984448818716,108.80137921679597L274.11967926230545,109.68973139619771L274.4030424248779,110.5614782933315L275.0774453113622,111.00104104032965L276.33515185529774,111.18209752372275L276.621103216846,112.2271031526783L277.0999122834454,113.88187265406805L277.0967115949231,114.75193290260086L278.45586258278564,116.67014563373601L278.94200484108256,118.32466319039759L278.93946693527795,120.67541764130209L279.5281773181177,121.02412773556136L280.0196010899396,122.24330247849554L280.81088375283827,125.20416376116589L281.0116702065161,127.03352560074819L280.7171909810973,128.8640065521061L281.3167447199084,130.69324449383305L281.4182883708144,131.56469165478165L282.7198462295555,133.12966474241426L283.9254190393773,134.43150854901387L284.9411042538684,136.60491364350196L274.3078091060986,136.60361572757262L256.55585862748876,136.2577945461719L246.53184271641345,135.87244091603543ZM223.42923668023772,165.43336281750135L231.14693024668222,165.96405810897153L238.76521028927934,166.41100938920772L246.8053403312475,166.7999853006175L254.74463710093303,167.10084550071093L269.27156103521827,167.43751916035353L283.69772179026205,167.49848236088815L290.8060623482287,167.4283646122147L290.7692677230961,172.14052085702048L292.6311644089482,182.9273085014392L292.5797327065664,192.8646158498252L292.5073799344615,201.8354266999276L288.87945757509647,199.88326379029473L286.4732380463079,198.8626213437587L284.62742820903253,199.5726262591009L281.6859685971345,199.41123539250447L279.9435278830603,199.50069887629564L278.41742788725116,200.28312727430858L277.1077297082664,200.71514275073082L275.8013107839708,200.18753007122905L273.0710112967483,200.77877622205938L271.77928854553176,199.02589300897353L270.4559007083312,200.49156031615206L268.1759435349344,199.76537295525418L265.806461426659,198.16023877211364L263.2841178185257,199.15705220089393L262.24909301003265,196.69654416403404L258.33745857721533,196.7750095646341L255.96524877768485,196.1848435197989L253.16871250577316,195.39907610661493L251.9449897663949,193.1783418227056L249.75768309352028,193.79574502733863L248.4910670698485,192.96218001329675L246.48644449400987,191.7469067576293L246.89743942869762,181.99439071806347L247.32340088747168,171.88673340085887L239.22966404793902,171.5029319810476L231.1404187166562,171.03390156862372L223.05656235042147,170.47969419990386ZM275.86340828400756,75.21428350013656L275.7628854148514,76.68087842750742L274.18774314408057,77.79218996016101L273.80659767681175,79.17086334526982L274.4416880145388,80.73137474574742L275.73450351378824,81.51806713721982L276.52415927449505,91.30176446793149L276.3845067356399,100.84179947692166L275.43030724211457,100.83659236745746L275.41537632009056,103.26792949715247L276.3662680088047,104.66297927034003L276.16868204545835,105.79151572228602L275.77505676066056,107.44063007058242L275.1865259783049,109.08875718462525L276.3397175764168,110.2255372637855L276.33515185529774,111.18209752372275L275.0774453113622,111.00104104032965L274.4030424248779,110.5614782933315L274.11967926230545,109.68973139619771L272.09984448818716,108.80137921679597L270.18733162806444,107.47412568773512L267.48872814312614,107.51937657359775L265.7547596923487,107.48713990547452L265.167818350758,107.90996247980087L262.39196061104064,107.06467567622559L260.5022372534176,105.71157109413036L245.71028244169838,105.15102894366959L234.67382242074865,104.52928893153029L220.29560627750666,103.45756147686296L221.8696064306702,82.70386280202354L223.02797065455206,73.43617360786197L236.4279639851013,74.34845209462685L250.94074178743676,75.12720135820064L262.43222726962404,75.52096090281987ZM296.1340813049642,208.20806399620108L304.2810373980508,208.00061201155557L313.51122864783173,207.31766603972477L320.6765509310215,207.33277074491895L321.3679310050198,207.9067538214976L320.67244986928466,209.42239999671068L321.99440107313546,211.44312442454162L321.72581264884184,212.6753858592275L322.9300243756875,214.43908775065427L321.76330929058463,215.54415716379037L321.5279645802596,217.469376022753L319.9342157720134,219.1143091376103L319.25777082028804,221.31973808326467L318.5894178173114,223.78377021176584L317.51882512115367,224.96251782735663L318.0893883157038,227.5400248794051L325.65651094919,227.4133387359746L333.88938323402385,226.99997179127047L333.77164229621195,228.65788691666836L333.31916900116715,230.42380446801474L333.96413691502124,231.59695043454542L335.17803831352506,232.7315757407344L335.5209501708348,234.44385491408457L335.81237771659755,235.37840070327582L335.9378666181358,235.54339695150765L337.60330178778827,238.11749854663123L337.77558723717095,242.26503849852907L339.86824271104024,244.10967995643517L338.2386150782151,245.60975857669138L334.79508665758055,244.28413145109806L331.5803828437898,246.4784686970633L325.2165342472987,246.49996414421156L318.27895408533186,241.48360431457098L310.64299747986183,243.0974724010598L304.13833021993173,240.89035925750318L298.6556741474364,241.81060697618943L298.0575349036713,240.69962763210168L298.94013168676076,239.20918310322173L300.1640273194658,237.79554114617287L300.22914719192613,235.8028967706651L299.529356310185,235.1271366316443L300.26581413946803,232.683983613823L300.80442165726913,231.54403180562537L301.49908432468703,227.79838253459133L300.6742529704833,226.43210878521933L299.6041091778999,224.1162956927712L298.87557494769163,221.79036043530652L298.2802492269522,220.2414180047873L296.9135657850742,219.05569770297518ZM189.50355789657056,216.24370370399333L188.6866835247805,214.4930377767102L188.67265257208118,213.61779076808216L196.4360162002819,214.45239541795763L211.7626222087431,215.87984890955846L219.65782848765994,216.5014777784627L221.07303638964015,197.33834397231084L223.05656235042147,170.47969419990386L231.1404187166562,171.03390156862372L239.22966404793902,171.5029319810476L247.32340088747168,171.88673340085887L246.89743942869762,181.99439071806347L246.48644449400987,191.7469067576293L248.4910670698485,192.96218001329675L249.75768309352028,193.79574502733863L251.9449897663949,193.1783418227056L253.16871250577316,195.39907610661493L255.96524877768485,196.1848435197989L258.33745857721533,196.7750095646341L262.24909301003265,196.69654416403404L263.2841178185257,199.15705220089393L265.806461426659,198.16023877211364L268.1759435349344,199.76537295525418L270.4559007083312,200.49156031615206L271.77928854553176,199.02589300897353L273.0710112967483,200.77877622205938L275.8013107839708,200.18753007122905L277.1077297082664,200.71514275073082L278.41742788725116,200.28312727430858L279.9435278830603,199.50069887629564L281.6859685971345,199.41123539250447L284.62742820903253,199.5726262591009L286.4732380463079,198.8626213437587L288.87945757509647,199.88326379029473L292.5073799344615,201.8354266999276L292.9558533882649,202.52441850196487L294.59253055484066,202.32154884415195L296.5617541449021,202.36949588117642L296.1340813049642,208.20806399620108L296.9135657850742,219.05569770297518L298.2802492269522,220.2414180047873L298.87557494769163,221.79036043530652L299.6041091778999,224.1162956927712L300.6742529704833,226.43210878521933L301.49908432468703,227.79838253459133L300.80442165726913,231.54403180562537L300.26581413946803,232.683983613823L299.529356310185,235.1271366316443L300.22914719192613,235.8028967706651L300.1640273194658,237.79554114617287L298.94013168676076,239.20918310322173L298.0575349036713,240.69962763210168L298.6556741474364,241.81060697618943L291.34627077827133,244.27769300623106L283.32493028561174,251.86166284808354L274.35922754972785,256.2495610909284L269.6375314702663,260.8576832276536L269.4008435875154,261.027018469099L267.3408102462397,265.559072708909L267.17307380824053,268.99399338287895L267.1220936042841,272.513183458202L267.5295933564186,277.40671976734643L268.459783023003,279.475083947294L269.1624545826724,280.85371555537165L265.55707265155934,281.05976464480943L259.12592064930186,278.7058392279549L252.03947399879837,275.4243406691676L249.57878095055776,270.6221104066658L247.8260965907847,263.4232815532407L242.7811183089276,257.44971007232266L240.64626133251087,252.95519704991955L239.9054634729901,251.36684479061898L235.85724884363106,244.25211823662846L229.77353469343393,239.84351373089197L226.44983343991888,239.72510716347125L222.5542963856113,239.55459276789207L216.4641342880374,247.1726580253969L209.33089037051826,243.5753106243539L207.92506833526932,242.41606577713964L205.01072375573864,240.07965042631787L203.34255973908836,234.37136440242438L201.01030621861202,228.76203740991605L196.27353226272822,223.76752252896864L195.8510572514912,223.46301361910622L192.23919316126262,220.1204610608957L189.7990385858807,216.6257126316558ZM446.8258297106812,95.7475959664207L452.45120413083885,94.54518746871076L459.2223886271426,93.08759615468892L460.7206904885112,98.45495062380144L460.6172771617621,100.01166970215752L457.50389225400914,101.35195950281252L453.32937349596364,102.94041251010492L452.15570252607813,103.94833909180471L448.30633558741073,106.94529734455443L448.14920719467545,106.71413912200603L447.6527667797259,105.48913920475383L448.9643218906974,104.18838114216425L448.1852222360825,103.48014400458578ZM459.2223886271426,93.08759615468892L452.45120413083885,94.54518746871076L446.8258297106812,95.7475959664207L446.6732254290921,88.53517484901857L452.7085432716023,87.21580383181515L461.41743897697245,85.04372794261667L461.8936566780269,83.8368110230333L463.20144935438094,82.76516124518076L464.10612373831,82.79038723358747L465.4243291095564,88.01865748135856L469.2892380773327,92.5558776853199L472.3749488950741,91.97093419286836L471.74106134064243,90.79237844274337L470.52314115794366,88.60234128298157L473.3860566061512,90.14992805633977L473.5053241464217,92.01545775361438L473.52878569838293,93.18456716317871L470.0973668391129,95.49410826791552L469.0526703137912,96.14170931574279L465.59331878578473,96.89747838023214L464.903559615217,95.45958267887357L463.4540089225205,94.58467441058127L462.2898206545121,92.10199635511668ZM464.10612373831,82.79038723358747L463.20144935438094,82.76516124518076L461.8936566780269,83.8368110230333L461.41743897697245,85.04372794261667L452.7085432716023,87.21580383181515L451.89218076978125,86.34607159622072L452.1117528639179,84.85642023780696L451.54417993419827,82.22187141982806L451.67337233298707,81.56195879995869L451.26080146813075,79.15834437413372L451.59926052543545,77.01231655473362L451.93697171586325,76.03041711383298L452.1598376660463,73.46573510792331L451.93222178166445,71.8232255767171L451.946667388947,70.74533104281386L453.11552276990597,69.9948884405324L454.44836544835107,68.39262508513121L454.39061463557516,67.06426948270376L453.4722753246734,65.78342669640722L453.58179922126266,62.8907894272549L453.661511424854,60.27528742246591L455.7054541453333,59.28312065377207L461.56930662420535,77.08734264479295L461.54127768503577,78.08414054027025L463.2428622626778,79.24334580780646L463.97763213130486,80.48400642988429L464.6957028273739,80.19814457587626ZM460.6172771617621,100.01166970215752L460.7206904885112,98.45495062380144L459.2223886271426,93.08759615468892L462.2898206545121,92.10199635511668L463.4540089225205,94.58467441058127L464.903559615217,95.45958267887357L465.59331878578473,96.89747838023214L464.97399225860795,97.24342635880015ZM452.7085432716023,87.21580383181515L446.6732254290921,88.53517484901857L445.0489414801154,80.25791591011438L443.9170084114905,80.44404518144881L443.7426019544405,80.12906888872152L443.8365410229954,78.49881082185607L442.57766726947295,76.1262721565567L442.8016231732721,73.84142436164592L441.9753082422635,72.43669780122747L441.19007962515497,69.59647061976989L441.1366732200988,68.18394202868836L440.757731787927,66.22753683891881L447.5292481355349,64.45658629392898L453.58179922126266,62.8907894272549L453.4722753246734,65.78342669640722L454.39061463557516,67.06426948270376L454.44836544835107,68.39262508513121L453.11552276990597,69.9948884405324L451.946667388947,70.74533104281386L451.93222178166445,71.8232255767171L452.1598376660463,73.46573510792331L451.93697171586325,76.03041711383298L451.59926052543545,77.01231655473362L451.26080146813075,79.15834437413372L451.67337233298707,81.56195879995869L451.54417993419827,82.22187141982806L452.1117528639179,84.85642023780696L451.89218076978125,86.34607159622072ZM344.27315491153365,185.34270010420744L354.64417163774965,184.41724926484125L365.2249035180847,183.41754078510468L368.7790452648076,195.817534025398L371.89168531286924,205.70672941708102L373.4707815074553,208.76115116239555L374.45468903123873,210.4829608630002L373.2284898045574,212.46199073389306L373.15275103474045,215.70423996281357L373.81644943479824,217.54954987070676L373.80233363079344,219.38510331016317L373.7772469867017,221.13399402365155L374.48608781150864,222.3614029720017L375.0643854055679,223.42878602077997L357.43818260350616,225.37357979861787L352.54223664809103,226.43082705035914L352.38555774688234,227.22763227246202L354.63316745414556,229.46199581801534L354.3676585232075,231.57275915963788L353.81101257680825,233.01331455215876L346.0002220379328,232.5449062866286L344.53413195771583,217.0065839760374L344.65449885124315,200.60293616028667L345.0815455027553,187.2868251735391ZM353.81101257680825,233.01331455215876L354.3676585232075,231.57275915963788L354.63316745414556,229.46199581801534L352.38555774688234,227.22763227246202L352.54223664809103,226.43082705035914L357.43818260350616,225.37357979861787L375.0643854055679,223.42878602077997L376.62272981265085,226.0382608660728L385.46196290872194,225.47295971591393L399.60480397437664,225.01798675499515L400.5431835705068,226.71828089607675L401.52991124241845,225.61017569189374L401.00953526607486,222.09736917718675L401.96629873038114,221.60464006128353L403.8739452348526,222.10607101804368L405.692132010679,222.00361495131676L408.23996917448994,228.79275057345524L412.53519396463696,236.86594553860812L417.5843566155677,243.39090187443065L418.39751134217977,247.62303583920203L424.5202177735954,258.5440473547212L425.4154637872898,265.2642343958311L425.5981798436357,269.2281312937228L424.35397399250587,275.6775335095328L421.814076466143,277.3927260936431L417.069490043598,276.85407877612533L416.1812583121725,275.0906510602477L414.96527832876575,272.7708237563157L411.16895371344555,271.01634070523266L408.32064547367554,267.37359649302437L405.05174093444725,263.17448757622225L399.73828078777393,256.1257132200047L397.9092265535504,252.38558698555084L398.81425263057434,245.38601186411694L395.52265658879855,240.27090694459213L387.5462794438226,232.70951410618204L383.9471989290272,231.60008635126297L375.75115263892644,237.2912823584104L374.0954334278716,236.95831237057706L369.25010416008206,232.70816781016498L363.54918838584433,230.78088703915319L358.0659766954074,232.01371663950556ZM375.0643854055679,223.42878602077997L374.48608781150864,222.3614029720017L373.7772469867017,221.13399402365155L373.80233363079344,219.38510331016317L373.81644943479824,217.54954987070676L373.15275103474045,215.70423996281357L373.2284898045574,212.46199073389306L374.45468903123873,210.4829608630002L373.4707815074553,208.76115116239555L371.89168531286924,205.70672941708102L368.7790452648076,195.817534025398L365.2249035180847,183.41754078510468L371.52849347945397,182.78855155861822L375.88817814918553,182.17485805855983L386.11983080159484,180.93110782045642L385.279447028396,181.9250849494453L384.2555892602949,183.99736147416758L386.73407746075424,185.42018056080843L388.20851976914963,185.83263776455783L390.26308821807066,188.79947238892152L391.48713277531516,190.47315498654558L394.74533208287426,192.4669558796645L395.4742620381018,193.6798283127917L397.663689350338,195.0277140952034L399.000235997032,197.29079014678047L402.0188313076697,198.8553495971434L402.9212386049789,201.09158322985945L403.6401141724506,202.1238125135851L403.43187773539853,202.94763639863788L405.1379451469963,203.82535641162502L406.31186232433276,205.57568931642328L406.60970699627217,207.463213745198L407.4477766047538,207.77017604987486L408.960806709564,208.05617741758556L405.91661063676094,214.60025178026922L405.692132010679,222.00361495131676L403.8739452348526,222.10607101804368L401.96629873038114,221.60464006128353L401.00953526607486,222.09736917718675L401.52991124241845,225.61017569189374L400.5431835705068,226.71828089607675L399.60480397437664,225.01798675499515L385.46196290872194,225.47295971591393L376.62272981265085,226.0382608660728ZM320.6765509310215,207.33277074491895L321.0136258436769,205.31256190658831L319.890818983597,202.66930155366214L319.9865379614139,200.22471215938202L321.65125821721153,196.564662155134L322.40673245240123,194.43138980548503L323.8440151096761,192.95680712825344L324.67346861469287,192.29929330088322L325.6978725808227,189.4476958685072L325.6113756978697,187.9689128417507L327.0719910445251,187.18369149274434L327.1265481419339,186.30730067433694L335.2643040028218,185.77208057678735L344.27315491153365,185.34270010420744L345.0815455027553,187.2868251735391L344.65449885124315,200.60293616028667L344.53413195771583,217.0065839760374L346.0002220379328,232.5449062866286L339.3549990231612,233.74363405483803L335.9378666181358,235.54339695150765L335.81237771659755,235.37840070327582L335.5209501708348,234.44385491408457L335.17803831352506,232.7315757407344L333.96413691502124,231.59695043454542L333.31916900116715,230.42380446801474L333.77164229621195,228.65788691666836L333.88938323402385,226.99997179127047L325.65651094919,227.4133387359746L318.0893883157038,227.5400248794051L317.51882512115367,224.96251782735663L318.5894178173114,223.78377021176584L319.25777082028804,221.31973808326467L319.9342157720134,219.1143091376103L321.5279645802596,217.469376022753L321.76330929058463,215.54415716379037L322.9300243756875,214.43908775065427L321.72581264884184,212.6753858592275L321.99440107313546,211.44312442454162L320.67244986928466,209.42239999671068L321.3679310050198,207.9067538214976ZM408.960806709564,208.05617741758556L407.4477766047538,207.77017604987486L406.60970699627217,207.463213745198L406.31186232433276,205.57568931642328L405.1379451469963,203.82535641162502L403.43187773539853,202.94763639863788L403.6401141724506,202.1238125135851L402.9212386049789,201.09158322985945L402.0188313076697,198.8553495971434L399.000235997032,197.29079014678047L397.663689350338,195.0277140952034L395.4742620381018,193.6798283127917L394.74533208287426,192.4669558796645L391.48713277531516,190.47315498654558L390.26308821807066,188.79947238892152L388.20851976914963,185.83263776455783L386.73407746075424,185.42018056080843L384.2555892602949,183.99736147416758L385.279447028396,181.9250849494453L386.11983080159484,180.93110782045642L386.93504642023015,180.5551978035811L391.0447552244156,178.2161836267519L398.57894305323356,177.184526409414L402.45685229957485,177.020214935205L402.69936661424373,177.86420718262315L403.344756995296,177.1436325364765L404.8926908769758,178.66041382680748L405.0732435719066,179.77877703883604L414.21403289333676,178.33618210938477L425.10316696011944,186.29114921632276L421.58744450083407,190.73877678106948L420.99896128578587,194.29133866924155L412.8926724589606,202.48374873428816ZM314.74178621413444,132.03297430948015L314.8527685045532,130.19485884356544L316.76130652511205,128.52914486462868L317.17623620611994,126.9370469969196L318.07362202616434,125.14486141471349L317.6948102285673,123.59452628033421L316.6692368174325,122.86283803575884L317.2626861779686,121.00053953203968L319.79077141636947,120.42769163299988L321.5209277568126,119.71829227142331L321.96474125252246,118.90720930288069L323.1974064851075,116.56561788724713L323.4166947784223,113.76194572623024L322.58669647939723,112.94082168611158L321.37579969223617,112.22858320286753L321.0189837324721,111.11668475898728L320.117759762946,110.64597861265815L319.58984127908406,109.89196029431798L327.22336914233335,109.41978457600601L334.94786604735646,108.85759614640705L340.6479829592835,108.4754831037315L340.97694855826256,111.15358444498298L343.4908444205674,116.34919431659586L344.5463318519142,128.15010720916848L345.5020776683672,139.97155055387185L344.9487874409581,142.9108122717733L345.6177074564389,143.55221986067136L346.18621996572324,145.34093111113606L346.30299043492033,146.64447764507844L345.6527729441659,147.40320076360706L345.2890156475738,149.09960869700473L343.8502763528383,151.50177206664938L342.95132623942357,154.29296904091035L342.817991981095,156.40581264176637L342.98669450066035,157.17977040171246L342.1735587393399,158.64851334381729L342.9768398918333,159.54487135709496L341.59238550790104,160.44735618745642L339.90051442434594,161.45904363818562L340.38516191061797,163.60874317754678L339.413255842039,164.56087582984054L337.3619122367854,163.75643906572066L335.24302331996375,163.38917908613723L334.68829173023573,164.39179062278708L335.11441331933486,165.93554788351702L333.64710573827335,164.46627955978346L332.72813086146255,164.79322571461432L331.61794973922656,162.33344025334304L331.71803193066813,160.75226485533403L331.0342585013345,158.350008875632L330.1846436280954,158.057453665116L327.979921151088,156.01565240771492L327.04769894814433,155.98741476560497L325.41837618400797,154.68935249661746L324.194673315632,153.18934343637744L324.5978158750368,151.32959811646242L325.22381912770504,149.80566109685822L325.5144301013402,147.8646865391512L323.9897988876994,146.29622235958277L322.5052244945766,147.0823446005552L321.5649611717388,146.6989074877801L321.3654290139749,144.96244931062301L320.6506382518773,143.08002667655967L319.91854982984034,142.68334763629167L318.02549011427845,141.3862490765831L316.4240584655009,139.7209374494903L315.1143620122066,137.68940320831632L314.2629715808903,134.58710432137798ZM342.817991981095,156.40581264176637L342.95132623942357,154.29296904091035L343.8502763528383,151.50177206664938L345.2890156475738,149.09960869700473L345.6527729441659,147.40320076360706L346.30299043492033,146.64447764507844L346.18621996572324,145.34093111113606L345.6177074564389,143.55221986067136L344.9487874409581,142.9108122717733L345.5020776683672,139.97155055387185L344.5463318519142,128.15010720916848L343.4908444205674,116.34919431659586L344.2363207749333,116.98149305379167L346.76608967285614,116.6608114847345L348.70592649470746,115.33871616945589L356.69786211136375,114.60660364454304L363.7868098005588,113.7159446850456L363.87889298455707,114.49405937952884L364.97427504421853,123.75017802885367L366.042413542393,133.6321108446337L366.8820493405346,140.73546659930037L366.42855090187885,141.2281502050417L367.2802720548377,143.23614801258316L367.068570390391,144.05187353422542L365.7511282866409,144.20604570829528L364.64392929535205,145.29983180993185L362.7680971709332,145.07314645807628L362.7879100921659,147.09029700964822L361.7545959856277,147.99504875862357L360.9245423523519,149.84151571403942L359.82901453868,150.22315610181897L358.4104694024129,153.44489891850844L356.7818018827295,152.73676246033227L356.1450523123163,151.57397066227117L355.0146376114372,153.70567875570282L354.20258818670777,154.92668168377128L352.4479097287224,153.95880534633318L350.6895551664237,155.09124501921139L350.16191736126996,156.10494232404847L347.5488136926663,154.76782752858855L346.0034131387751,156.04451931277526L343.87698212094284,155.44055203174992L343.8703584232522,156.5796249256535ZM332.30029090936426,170.76948932885853L334.0047537311376,169.51388656462132L335.19936226869265,168.55361997141864L334.98133062747735,166.99491297748796L335.11441331933486,165.93554788351702L334.68829173023573,164.39179062278708L335.24302331996375,163.38917908613723L337.3619122367854,163.75643906572066L339.413255842039,164.56087582984054L340.38516191061797,163.60874317754678L339.90051442434594,161.45904363818562L341.59238550790104,160.44735618745642L342.9768398918333,159.54487135709496L342.1735587393399,158.64851334381729L342.98669450066035,157.17977040171246L342.817991981095,156.40581264176637L343.8703584232522,156.5796249256535L343.87698212094284,155.44055203174992L346.0034131387751,156.04451931277526L347.5488136926663,154.76782752858855L350.16191736126996,156.10494232404847L350.6895551664237,155.09124501921139L352.4479097287224,153.95880534633318L354.20258818670777,154.92668168377128L355.0146376114372,153.70567875570282L356.1450523123163,151.57397066227117L356.7818018827295,152.73676246033227L358.4104694024129,153.44489891850844L359.82901453868,150.22315610181897L360.9245423523519,149.84151571403942L361.7545959856277,147.99504875862357L362.7879100921659,147.09029700964822L362.7680971709332,145.07314645807628L364.64392929535205,145.29983180993185L365.7511282866409,144.20604570829528L367.068570390391,144.05187353422542L367.2802720548377,143.23614801258316L366.42855090187885,141.2281502050417L366.8820493405346,140.73546659930037L369.5254049300911,140.59398513814546L370.96485799033724,141.47213633558334L373.36978918737844,143.45749493127278L375.08984301284465,144.0295845638953L376.4072133819466,144.65071955068686L378.197859900559,144.15090508634955L379.69814805732756,144.56624466850337L381.2373623461508,143.74051038154096L382.7324157239941,143.35779398145525L383.5455155067619,144.74200244846963L385.10021605656146,145.49209531551088L385.4384646057745,146.41351206883712L385.6437831450848,148.58776475611444L386.7842049310838,150.01158356590548L387.4165631666451,151.50756314945102L388.7307409104975,152.63992907779846L389.72792031150493,153.7288976596381L391.2931788200296,153.6742015092226L390.586588212702,154.5727725573475L388.54648164957655,157.16328342332275L386.24147653308125,158.72610715596198L386.15639144464683,159.6192257655619L385.4734194261273,160.77219338683523L383.5544217271341,162.1824377670066L383.46242533174205,162.28307655338773L383.37040331248926,162.38370412555128L382.87639675732254,163.41948357544123L381.686445609961,164.02014120083908L381.2932661172415,164.2487701562058L379.08172229833355,165.15656502481937L373.6919134550375,166.10385979250026L366.5430017188163,166.51162877626922L364.26493624495913,166.94289633211275L359.639849497202,167.17767006817223L354.92756491667205,167.5683734363099L350.5272856805433,167.90101507302847L345.52772961181165,168.6102487370004L345.2810922061217,168.1936235320195L343.7114519918253,168.32655012358765L343.8496243900776,169.97828661943515ZM386.11983080159484,180.93110782045642L375.88817814918553,182.17485805855983L375.8336528482521,179.98605949621037L377.45710282361136,179.16843449500374L377.95131130220307,177.96369952085723L378.8557158716253,176.61797011972504L380.51422481745635,176.1397683779495L382.3594423907158,175.45709234350824L384.1316935658075,174.25158207925557L384.75202483013777,173.28727866180918L386.224085913846,172.29274154207064L386.1164091872057,171.515315550347L387.91768929876247,169.85449853849792L388.6816810131511,170.71523443192535L391.3306716969537,168.30732342690288L392.83382513703003,168.35100434224358L393.8315476138888,166.43903431683367L395.3318245969583,165.7720680224474L395.0054039478446,164.3216935116967L395.0172559954081,162.99640862804364L391.9240882113562,163.63579600155248L395.0172559954081,162.99640862804364L408.58136176751873,161.25595959297618L424.43213157005226,158.4787215979909L432.8764502162041,156.72245097826556L440.3741568678288,155.07013713510003L441.2995800340433,154.87177266098615L442.12237041914153,157.1931167500863L444.6085950888713,164.68590312905104L442.6154643456382,169.66062805023967L441.0567656775829,173.196070229918L433.3205531125468,177.88578414735963L429.0406313350822,184.84075141385597L425.10316696011944,186.29114921632276L414.21403289333676,178.33618210938477L405.0732435719066,179.77877703883604L404.8926908769758,178.66041382680748L403.344756995296,177.1436325364765L402.69936661424373,177.86420718262315L402.45685229957485,177.020214935205L398.57894305323356,177.184526409414L391.0447552244156,178.2161836267519L386.93504642023015,180.5551978035811ZM366.8820493405346,140.73546659930037L366.042413542393,133.6321108446337L364.97427504421853,123.75017802885367L363.87889298455707,114.49405937952884L367.6612094209489,113.94852160282295L371.06265040575056,113.51930811771865L373.86795539509615,113.06503329217128L378.82674653504245,114.58753821750145L382.59761579466044,114.57987342670884L387.8333005372368,112.39346549616687L391.7457167950979,108.87700701902384L395.39301370024657,106.96515436080159L397.6112619908951,120.45875595839868L396.61604496751613,121.15151862594024L397.1213195129081,122.39392485285606L397.20454504798045,124.76532747083866L396.8464817849274,127.561897614614L396.3995311539677,129.84231901258863L396.4659636175205,130.8916750117238L394.74178414924086,133.55047954473883L393.92344768110274,134.20865846145318L392.96354264265386,134.62282338473636L391.9365611780678,134.6046078290866L390.4962252917,136.5887574441649L390.46821771939574,138.44580855235574L390.4097967789447,139.4251253600499L389.7693158230911,139.9622393431285L389.5011095070973,138.85549442351532L388.456520574975,138.74606513031438L387.67816285780196,141.15341779081507L387.90536322662535,143.41291542921175L386.9914186491004,144.95660497888412L385.10021605656146,145.49209531551088L383.5455155067619,144.74200244846963L382.7324157239941,143.35779398145525L381.2373623461508,143.74051038154096L379.69814805732756,144.56624466850337L378.197859900559,144.15090508634955L376.4072133819466,144.65071955068686L375.08984301284465,144.0295845638953L373.36978918737844,143.45749493127278L370.96485799033724,141.47213633558334L369.5254049300911,140.59398513814546ZM327.1265481419339,186.30730067433694L328.03139083086023,185.29144068763793L327.74204937391596,182.3398924516817L328.9381962869778,180.95486825712982L329.1464551475019,179.19428701527727L330.56948128816003,178.1410582322024L331.21290968508583,176.6127780945526L331.260625471738,175.7355410830421L331.7299921171849,173.25637516993544L332.15564877800784,171.74118165525073L332.30029090936426,170.76948932885853L343.8496243900776,169.97828661943515L343.7114519918253,168.32655012358765L345.2810922061217,168.1936235320195L345.52772961181165,168.6102487370004L350.5272856805433,167.90101507302847L354.92756491667205,167.5683734363099L359.639849497202,167.17767006817223L364.26493624495913,166.94289633211275L366.5430017188163,166.51162877626922L373.6919134550375,166.10385979250026L379.08172229833355,165.15656502481937L381.2932661172415,164.2487701562058L381.686445609961,164.02014120083908L381.2932661172415,164.2487701562058L379.08172229833355,165.15656502481937L391.00054275899726,163.85968357970182L391.9240882113562,163.63579600155248L395.0172559954081,162.99640862804364L395.0054039478446,164.3216935116967L395.3318245969583,165.7720680224474L393.8315476138888,166.43903431683367L392.83382513703003,168.35100434224358L391.3306716969537,168.30732342690288L388.6816810131511,170.71523443192535L387.91768929876247,169.85449853849792L386.1164091872057,171.515315550347L386.224085913846,172.29274154207064L384.75202483013777,173.28727866180918L384.1316935658075,174.25158207925557L382.3594423907158,175.45709234350824L380.51422481745635,176.1397683779495L378.8557158716253,176.61797011972504L377.95131130220307,177.96369952085723L377.45710282361136,179.16843449500374L375.8336528482521,179.98605949621037L375.88817814918553,182.17485805855983L371.52849347945397,182.78855155861822L365.2249035180847,183.41754078510468L354.64417163774965,184.41724926484125L344.27315491153365,185.34270010420744L335.2643040028218,185.77208057678735ZM381.686445609961,164.02014120083908L382.87639675732254,163.41948357544123L383.37040331248926,162.38370412555128L383.46242533174205,162.28307655338773L383.5544217271341,162.1824377670066L385.4734194261273,160.77219338683523L386.15639144464683,159.6192257655619L386.24147653308125,158.72610715596198L388.54648164957655,157.16328342332275L390.586588212702,154.5727725573475L391.2931788200296,153.6742015092226L391.8584968202139,155.35442785044637L392.69515072797515,156.02330799824125L392.92703423932187,156.1649409390413L394.2939046837969,156.8407183767477L395.8994735269462,155.62366863325968L396.5662188985188,155.16718640291356L397.6133489172347,155.79859156759704L399.9591204509279,154.63203638918247L400.4591363968903,154.46346668257723L400.4648715802674,153.84389896548743L400.40943169030857,153.49929993556333L401.3888153242934,153.69466922646188L402.1999979128027,152.85537733463417L402.3025321534191,152.83861508291182L403.35615149983244,152.84241051579681L404.5453436703566,151.76065458673418L404.5615275923805,151.22716077669003L404.5040602918472,150.88288533298407L404.20082145793754,149.69494890479808L404.9178023235009,147.7168602941349L406.22528124594965,146.1680472068441L406.38190299016367,144.6364690312036L406.91437688969444,143.48284453552031L407.3882105299572,142.60431582979453L407.80868053978367,140.22897624419164L408.95218592452693,140.82658328832633L410.1985377682418,141.40460726237256L411.2324524192908,140.77791615303147L411.4669390570583,139.76101856089417L412.05637708904374,138.41415245428658L412.38844675133294,137.37898359387958L412.5963723230484,136.8093521755797L413.27648730434055,137.1292452904696L414.14427485612975,135.6401958219824L414.9030785946459,134.70199078117417L415.4077796951003,134.0761105158083L415.64381720911797,133.67727667248772L416.21478264940345,132.86074436439168L416.311195905611,130.6237368389248L416.3140104950511,130.09065264937385L420.3710443913985,131.8931488526709L420.7031798158482,132.00667070415415L421.2333370195719,129.94869009716058L421.44883501299233,129.99556703113012L422.3938172643275,130.07732682986943L423.5401804714885,130.65169645825767L423.31092817217296,131.58621171343725L423.26189530884164,131.86263821057054L424.97553637540307,132.14563826570742L426.5949202415024,132.978008967765L427.36664264856313,133.71240020337473L427.48765705648157,134.31104615093733L427.56042104048356,135.18650210084462L427.2945364146302,135.41817955971027L426.4470197866967,136.3893911315119L425.98687773314305,138.79458739243148L427.0956837389565,139.1071643587341L428.3175145491289,138.41626662487033L428.84440185009765,139.46700775595878L429.01444996513624,139.78868238716382L434.9134677757959,141.8676953970683L435.0324549078895,141.9318520585208L437.3325021128713,151.34549105725756L439.7472282570309,151.6356307874193L441.2995800340433,154.87177266098615L440.3741568678288,155.07013713510003L432.8764502162041,156.72245097826556L424.43213157005226,158.4787215979909L408.58136176751873,161.25595959297618L395.0172559954081,162.99640862804364L391.9240882113562,163.63579600155248L391.00054275899726,163.85968357970182L379.08172229833355,165.15656502481937L381.2932661172415,164.2487701562058ZM439.52088945193657,140.70592664328018L440.19775697175953,139.93377190142172L441.97351960364165,139.36595341690406L439.35964105501455,148.32794721124344L438.5551548080006,148.05379642892518ZM314.729166499986,99.97036760449117L314.47789217285117,98.76615868291935L314.35659344399204,96.33949328836269L314.0292261795325,95.48725351901612L311.49936921251725,94.13215040401047L309.62852673186313,92.48014423496102L309.0149231587926,91.37878965032877L308.23316484696863,90.71782794059379L305.8261044646039,89.33969250767274L304.9782752064297,89.28476428670774L302.7557243800416,87.45685903238507L302.9598224623646,85.19831964769844L302.86552097544165,82.43202011949126L303.3324518169626,79.8212649489983L301.697237653035,77.97491399537972L302.65065466324324,76.12899566614823L304.17757588941333,75.03887292450986L305.87968104996736,73.85227316366297L306.06652377405646,73.93128680079451L305.75220562576885,68.25069844917931L307.63698520931575,67.57095464166468L314.52374129020075,65.17723624132645L318.8853562262047,68.29660977888113L318.98140075377114,68.37722881862737L319.42601775189917,68.17825777038121L320.5384957834402,68.45606511902542L321.1967508617166,70.2282852884552L327.43645268492713,71.62594299677784L331.68972946596375,73.1255353483902L333.6137192245843,72.97346337070121L335.0019236970972,73.03344137800923L335.59602147143084,74.6296592415373L337.3078634004093,75.17819417473373L338.0705359251574,76.49935893097455L337.68408680923176,77.3998228795877L337.4550080220895,79.06741969295541L339.03391852063373,79.01742352227149L338.71426533374245,80.69433622154622L339.7475670609796,81.8191358745429L339.7399434924848,81.73297052847323L339.93320105655914,81.8026861214314L339.8480201439778,81.89708353797755L337.3759255637,85.84635951403277L338.50679152835914,86.9667103163577L343.1285715404705,79.94795681285984L344.23102205742407,79.75687231791068L341.2335063029405,87.9443302658637L340.1663269664049,95.17614838422458L339.33636036661835,101.08600555455973L340.6231496883499,105.94667515974328L340.6479829592835,108.4754831037315L334.94786604735646,108.85759614640705L327.22336914233335,109.41978457600601L319.58984127908406,109.89196029431798L318.826523364604,108.36703849894883L316.26901777496334,107.54665923468224L315.7989592513066,105.91726058463468L315.36598976882595,104.98222359134661L315.2601864225426,102.89983345914482L315.8896689084862,102.08481373632156L314.85068682218144,100.4858298392121ZM391.2931788200296,153.6742015092226L389.72792031150493,153.7288976596381L388.7307409104975,152.63992907779846L387.4165631666451,151.50756314945102L386.7842049310838,150.01158356590548L385.6437831450848,148.58776475611444L385.4384646057745,146.41351206883712L385.10021605656146,145.49209531551088L386.9914186491004,144.95660497888412L387.90536322662535,143.41291542921175L387.67816285780196,141.15341779081507L388.456520574975,138.74606513031438L389.5011095070973,138.85549442351532L389.7693158230911,139.9622393431285L390.4097967789447,139.4251253600499L390.46821771939574,138.44580855235574L390.4962252917,136.5887574441649L391.9365611780678,134.6046078290866L392.96354264265386,134.62282338473636L393.92344768110274,134.20865846145318L394.74178414924086,133.55047954473883L396.4659636175205,130.8916750117238L396.3995311539677,129.84231901258863L396.8464817849274,127.561897614614L397.20454504798045,124.76532747083866L397.1213195129081,122.39392485285606L396.61604496751613,121.15151862594024L397.6112619908951,120.45875595839868L399.13877943799906,129.75064269240062L407.0814553056065,128.40025027692337L407.88701516138565,133.5726061693183L408.9333965773159,132.50223136492872L410.014724831029,131.0691301972621L411.43003047623813,130.37106778040692L412.33580241815457,129.14236595858262L414.5992932638944,129.1687513695872L415.3484763025171,128.23050050038432L416.59071982592116,127.19808768038331L419.1149681127605,127.5156628701506L420.3877991612527,128.78003647694362L421.2333370195719,129.94869009716058L420.7031798158482,132.00667070415415L420.3710443913985,131.8931488526709L416.3140104950511,130.09065264937385L416.311195905611,130.6237368389248L416.21478264940345,132.86074436439168L415.64381720911797,133.67727667248772L415.4077796951003,134.0761105158083L414.9030785946459,134.70199078117417L414.14427485612975,135.6401958219824L413.27648730434055,137.1292452904696L412.5963723230484,136.8093521755797L412.38844675133294,137.37898359387958L412.05637708904374,138.41415245428658L411.4669390570583,139.76101856089417L411.2324524192908,140.77791615303147L410.1985377682418,141.40460726237256L408.95218592452693,140.82658328832633L407.80868053978367,140.22897624419164L407.3882105299572,142.60431582979453L406.91437688969444,143.48284453552031L406.38190299016367,144.6364690312036L406.22528124594965,146.1680472068441L404.9178023235009,147.7168602941349L404.20082145793754,149.69494890479808L404.5040602918472,150.88288533298407L404.5615275923805,151.22716077669003L404.5453436703566,151.76065458673418L403.35615149983244,152.84241051579681L402.3025321534191,152.83861508291182L402.1999979128027,152.85537733463417L401.3888153242934,153.69466922646188L400.40943169030857,153.49929993556333L400.4648715802674,153.84389896548743L400.4591363968903,154.46346668257723L399.9591204509279,154.63203638918247L397.6133489172347,155.79859156759704L396.5662188985188,155.16718640291356L395.8994735269462,155.62366863325968L394.2939046837969,156.8407183767477L392.92703423932187,156.1649409390413L392.69515072797515,156.02330799824125L391.8584968202139,155.35442785044637ZM443.5169557208575,134.46413859111635L438.41201165254637,135.58909866596707L435.1482535339154,122.90624389834721L435.4741629179556,122.03263049018199L436.06956050477993,121.45707090962452L437.8517276965439,121.60256633146349L436.8957366225145,122.88367600350927L437.619944945829,124.77887032814266L440.38547898697857,129.7978791229645L442.67347677592664,131.165804677915ZM427.48765705648157,134.31104615093733L427.36664264856313,133.71240020337473L426.5949202415024,132.978008967765L427.09004619218626,132.34410571209617L428.31345819044566,133.25324995693705ZM441.97351960364165,139.36595341690406L440.19775697175953,139.93377190142172L439.52088945193657,140.70592664328018L434.6729278251289,137.72716546056125L432.0315817144242,129.63412721302313L431.42745130564253,134.21647571135264L434.4717097434491,140.2663451727247L429.01444996513624,139.78868238716382L428.84440185009765,139.46700775595878L428.3175145491289,138.41626662487033L427.0956837389565,139.1071643587341L425.98687773314305,138.79458739243148L426.4470197866967,136.3893911315119L427.2945364146302,135.41817955971027L427.56042104048356,135.18650210084462L427.48765705648157,134.31104615093733L428.31345819044566,133.25324995693705L427.09004619218626,132.34410571209617L426.5949202415024,132.978008967765L424.97553637540307,132.14563826570742L423.26189530884164,131.86263821057054L423.31092817217296,131.58621171343725L423.5401804714885,130.65169645825767L422.3938172643275,130.07732682986943L421.44883501299233,129.99556703113012L421.2333370195719,129.94869009716058L420.3877991612527,128.78003647694362L419.1149681127605,127.5156628701506L416.59071982592116,127.19808768038331L415.3484763025171,128.23050050038432L414.5992932638944,129.1687513695872L412.33580241815457,129.14236595858262L411.43003047623813,130.37106778040692L410.014724831029,131.0691301972621L408.9333965773159,132.50223136492872L407.88701516138565,133.5726061693183L407.0814553056065,128.40025027692337L414.1337567822084,127.21479039690922L416.49349445250795,126.68388591778194L421.9321139084774,125.63434498029767L428.4478039378556,124.32092907899772L435.1482535339154,122.90624389834721L438.41201165254637,135.58909866596707L443.5169557208575,134.46413859111635L443.61233243295214,134.88987574465284ZM437.619944945829,124.77887032814266L436.8957366225145,122.88367600350927L437.8517276965439,121.60256633146349L439.2152025992227,120.31829248852853L439.5726266559093,119.6132344660578L441.02868162372044,117.85646435250766L441.75488085606753,116.52976524042612L438.8413507571511,114.50552336471014L438.49678330770996,113.42137781817507L437.56564703179663,113.36105835604423L437.30319289655546,111.7229627677795L437.8898352043227,110.25274836364247L437.218296772912,109.06352754805579L438.1854585832802,107.95399022346709L438.9181779849944,105.37725345881472L439.78154678464375,104.73423134909814L446.38060290274115,107.40390867366034L446.57253849119786,109.5076382294576L444.90529958050564,112.85306717991375L447.23710110026025,112.75402891115272L447.2733148232342,120.35910171195837L446.54907458619175,122.13976835110151L443.50324702088756,129.2802241970146L442.43239346915897,126.83854488922043L442.017368678381,126.84234739714555L440.6356969636222,126.70404325718164L439.1847483250786,125.77463114548283ZM446.8258297106812,95.7475959664207L448.1852222360825,103.48014400458578L448.9643218906974,104.18838114216425L447.6527667797259,105.48913920475383L448.14920719467545,106.71413912200603L448.30633558741073,106.94529734455443L447.8857541802381,107.3146976229869L458.2736669487979,102.77388969385112L460.9534774829933,104.0644051746508L454.18191825869053,108.02551014086572L451.30110420272365,109.6294095066097L446.58279569504174,110.84849179606232L446.57253849119786,109.5076382294576L446.38060290274115,107.40390867366034L439.78154678464375,104.73423134909814L438.3801040390839,104.33820352468354L436.9805883992325,103.93946472766777L436.17811925554724,102.60227667745471L436.1220095581074,101.45499767251789L435.0541706501399,100.71235991451107L433.0761337419674,99.45672424523013L423.1569429113576,101.56800577008084L412.4423281229106,103.68363316559777L400.9278784587825,105.76793236658659L400.4544259084744,103.02410430958668L405.6777435749033,95.9168696360187L405.4120725802492,94.99352105460281L404.19342929172217,92.03586362050453L407.377412563824,90.30453706083239L413.1719195488889,89.55632401331053L419.25423776204116,89.23176285844676L423.89748199452947,84.8099598771895L422.70058380068986,80.9835058273373L421.673913296461,79.78166220542295L427.4420185898033,71.27144650925516L430.12737917489426,68.71999304750574L440.757731787927,66.22753683891881L441.1366732200988,68.18394202868836L441.19007962515497,69.59647061976989L441.9753082422635,72.43669780122747L442.8016231732721,73.84142436164592L442.57766726947295,76.1262721565567L443.8365410229954,78.49881082185607L443.7426019544405,80.12906888872152L443.9170084114905,80.44404518144881L445.0489414801154,80.25791591011438L446.6732254290921,88.53517484901857ZM397.6112619908951,120.45875595839868L395.39301370024657,106.96515436080159L400.46921853129425,103.10983288682928L400.4544259084744,103.02410430958668L400.9278784587825,105.76793236658659L412.4423281229106,103.68363316559777L423.1569429113576,101.56800577008084L433.0761337419674,99.45672424523013L435.0541706501399,100.71235991451107L436.1220095581074,101.45499767251789L436.17811925554724,102.60227667745471L436.9805883992325,103.93946472766777L438.3801040390839,104.33820352468354L439.78154678464375,104.73423134909814L438.9181779849944,105.37725345881472L438.1854585832802,107.95399022346709L437.218296772912,109.06352754805579L437.8898352043227,110.25274836364247L437.30319289655546,111.7229627677795L437.56564703179663,113.36105835604423L438.49678330770996,113.42137781817507L438.8413507571511,114.50552336471014L441.75488085606753,116.52976524042612L441.02868162372044,117.85646435250766L439.5726266559093,119.6132344660578L439.2152025992227,120.31829248852853L437.8517276965439,121.60256633146349L436.06956050477993,121.45707090962452L435.4741629179556,122.03263049018199L435.1482535339154,122.90624389834721L428.4478039378556,124.32092907899772L421.9321139084774,125.63434498029767L416.49349445250795,126.68388591778194L414.1337567822084,127.21479039690922L407.0814553056065,128.40025027692337L399.13877943799906,129.75064269240062ZM464.6957028273739,80.19814457587626L463.97763213130486,80.48400642988429L463.2428622626778,79.24334580780646L461.54127768503577,78.08414054027025L461.56930662420535,77.08734264479295L455.7054541453333,59.28312065377207L458.23219501520214,56.897658767713665L458.79854097830173,54.413333443707074L459.422671824223,51.82266378912226L459.4110564094113,48.69203463907223L459.4078643140235,43.59305960404242L461.42376324960674,37.74579700058075L462.3560474348425,34.79539887618L464.6613140147448,36.27238129253362L465.34998424445405,36.69772076626066L469.355760865546,33.715467388389754L473.1405920420268,35.62108032710381L475.5586739632226,43.526037509304274L477.1994222694301,48.889811579011734L483.3163439306775,52.96735176275632L485.4862855785701,55.82276214315476L479.58594159206655,62.814816400959614L473.41703282285033,68.26578263165254L466.85406574078206,73.29577049388706ZM339.93320105655914,81.8026861214314L339.7399434924848,81.73297052847323L339.7475670609796,81.8191358745429L338.71426533374245,80.69433622154622L339.03391852063373,79.01742352227149L337.4550080220895,79.06741969295541L337.68408680923176,77.3998228795877L338.0705359251574,76.49935893097455L337.3078634004093,75.17819417473373L335.59602147143084,74.6296592415373L335.0019236970972,73.03344137800923L333.6137192245843,72.97346337070121L331.68972946596375,73.1255353483902L327.43645268492713,71.62594299677784L321.1967508617166,70.2282852884552L320.5384957834402,68.45606511902542L319.42601775189917,68.17825777038121L318.98140075377114,68.37722881862737L318.8853562262047,68.29660977888113L318.98140075377114,68.37722881862737L324.17480554263466,65.46149609556085L329.5425083666722,61.80135339243594L335.3818022987627,57.97067979365676L333.5758940603023,63.46822958915419L337.6611322626916,64.41781150659546L342.9100153965794,67.82956934543017L348.8559393689164,64.9854912873991L355.6230392181397,63.29008319752933L357.39829932323397,65.94503587843337L359.5342941235883,66.12508388874562L361.4802548149805,66.2351675658141L365.4422509330635,69.8210937565787L359.34072573169533,71.44659843948091L359.15792429154277,71.46835820935354L353.45654022174483,70.9929503071354L348.18436390340196,73.63633293516676L343.4959590523589,74.96597582168721ZM373.86795539509615,113.06503329217128L371.06265040575056,113.51930811771865L367.6612094209489,113.94852160282295L363.87889298455707,114.49405937952884L363.7868098005588,113.7159446850456L356.69786211136375,114.60660364454304L348.70592649470746,115.33871616945589L350.02966617540505,113.8096442374611L352.52374371314113,108.4850942300809L352.1229112305118,101.79677503751435L349.00692204293875,95.74210958903296L348.95154638234175,91.38835635445349L350.3169098597773,86.19647301550873L351.73561428220734,82.65282329478032L354.35024957126984,79.93335285092843L355.3713423736944,83.21554258698393L356.1088723843119,78.08355986593136L357.55879497969835,76.8736017068486L358.02856406791295,72.90537920582892L364.33016617863257,74.22753305503772L370.08723224944265,77.48821313699352L371.25359315950004,81.9588325353796L371.22454527297623,86.68266323127142L367.81443169736843,91.23953461308031L368.5229183101974,93.77306800246026L369.9507790519341,93.67544913233297L373.77414407128623,88.61166193367762L376.63766547804767,89.26359244426942L378.7880108512915,94.91844939871555L379.7599399651451,98.99125400703491L378.7203732563584,101.24680391930701L377.0135294849196,105.08608567240827L376.40992528530535,107.10125359950308L375.9593911999576,108.8315269590131ZM101.35092735428104,269.014559322282L102.60350307354906,269.2364897046157L103.44264335092012,270.30788071938855L101.81196551632817,272.04122910304125L99.88260354670956,273.41940230427394L98.90214751759595,272.5062678592559L98.61734301806904,270.8361826563173L100.34999793218596,269.5681489382343ZM78.1954590956266,258.35994821890404L79.50868231138492,258.9099380728818L79.42903140070985,260.28322670141097L78.25535213277257,260.65704514406536L77.24359045734747,259.784134056074L76.37536033690503,258.6191194414173ZM72.41363941365246,244.57547651745716L73.16955933165261,245.46879156727044L74.21292848521149,245.36302171978414L75.24436766150107,246.58563325319108L76.66585284136684,247.41436304445355L76.4575670122096,247.77143068014868L75.08570863333865,248.23115104977524L74.09609421460462,247.17785712849044L73.66924697546241,246.41297076819637L72.25381817798429,246.25952687331016L71.96220899072897,245.83441939192835ZM136.66136214161585,262.9222632863506L134.86747347136594,263.20940082694165L131.98882465231293,263.9225017164605L129.62312666262247,263.4681179829L125.11074827862309,260.7159448762443L123.28677688622602,260.41410920577584L120.00874425351634,259.7312113248836L117.62752410635582,260.4270957686142L113.98187237253303,259.27283256074065L111.74790272493448,257.99788070533L109.91653054850153,258.9353096893419L110.49750910218437,261.3525306585697L109.52970043696904,261.67962115507277L107.5279770230985,262.5868826094629L106.03339962729822,263.8590543210369L104.0419304384989,264.70369369148796L103.71483251873694,262.61886441050063L104.39088093913692,259.10130082608254L106.17496072640677,257.89287321868227L105.66215798537657,257.0384899416746L103.55661109971732,259.1004474972298L102.41421694322176,261.53002274519264L99.86057398068225,264.07653153204365L101.21833304318454,265.79952198155206L99.4696737348761,268.38513183268503L97.4205809045865,269.8477583785389L95.48700172687312,270.8871328120738L94.95461591258572,272.44514568749855L91.82595835234322,274.13847208198104L91.10388726175557,275.76126216479554L88.65764189998873,277.0941045510232L87.30385045322208,276.69908388679255L85.32731426471797,277.5011259584687L83.14190680717269,278.46378783949933L81.29475302560402,279.4415115963177L77.64193859325735,279.8998187793959L77.42207740402651,279.25087819461135L79.89374954975746,277.9575324807995L82.032798571597,277.1610213843823L84.3983999664094,275.5069234814099L86.8871597769226,275.35068067941154L87.99677942278522,273.9960991548669L90.84493370637553,272.0992052136379L91.34491827178579,271.40440978811773L92.81109918592655,270.24934056897655L93.3010532834866,267.57242504813235L94.3413381984269,265.4972316267943L92.15768321002984,266.47226167899436L91.60209201427804,265.7970724529861L90.52613245800936,267.02762286570237L89.45298982397605,265.1440439137648L88.86445807519469,266.37165542335094L88.34140025145757,264.5246229862505L86.36940798348216,265.75435772829974L85.25039807493303,265.6246869589361L85.34099437798662,263.49555835064814L85.82279535268475,262.23888941755945L84.85294020913383,260.83380717942543L82.4673719648923,261.2074646722923L81.24998138226984,259.2978619460865L80.20001313501925,258.2604343868362L80.54070947835201,256.2859291194667L79.50515675533912,254.52836308018087L80.51173245710912,252.64447809444724L82.17995820653135,250.89990484185378L83.03318688790806,249.19539459695787L84.37085996668522,249.12550795869961L85.36261688375023,249.84891169308102L86.86205032849773,248.30294292596423L87.97115252720626,248.74079024334065L89.29190650509854,247.7862696387749L89.17863811038121,246.1300130845605L88.39168105268587,245.40434474725808L89.64212474193903,244.1696231655241L88.71821339315814,244.10104643656814L87.03370550255006,244.69156437944304L86.45758041736508,245.4102273712758L85.3809006012984,244.466343934661L83.17747837755726,244.52179434186843L81.11729857937402,243.29458436050922L80.7751317137222,241.7500120868833L79.33837072872207,239.3562347387659L81.65727886390759,238.3209644742023L85.09676219971925,237.15142359801112L86.24582888732249,237.32694809543312L85.80201997345354,239.06005383327908L88.83846968235615,239.30954452234624L87.9600383194839,237.01513090024412L86.43131754836536,235.43653293801768L85.72605428950801,233.53399114474334L84.70516613634584,231.84315518035584L83.0991249237747,230.4200060008263L84.16573028454913,228.73387580642353L86.46043123325688,229.00733256230887L88.29331135642796,227.67951748635386L88.8196587070638,226.0073047782323L90.26992449989402,224.5144212722428L91.49224425949583,224.2635499241281L93.90421285899278,222.93520090763653L94.98623202019729,223.24721314771386L96.88877126814008,221.47981718085677L98.65058255533728,222.26624826149964L99.48433920466712,223.84272928512956L100.0143405406622,223.16293553262958L102.03247329912584,223.3415281678093L101.99124773855226,224.14249436452658L103.86932949912762,224.66518570560228L105.07653346057026,224.24008628662096L107.72137343642835,225.1286169523735L110.10702606282712,225.1923466506496L111.1080886652685,225.54029054493046L112.66018803817914,224.73994197176663L114.67449065935212,225.4535203963392L116.10346047567907,225.66683369065365L118.63871172341923,238.53241604833397L122.58896991069051,258.4482799373608L124.30715639082503,258.1871683321233L126.20383368676674,258.79309161417154L127.54604932420838,259.8508380016922L127.75431426609109,260.0194691494746L127.78410831595681,260.04353022445184L129.90195619859443,261.92711261167574L131.08383264143805,259.5461288936008L132.52569327710341,257.94759669676813L133.94029588476386,259.4647312252557L134.88534475524153,260.06972723516276L135.5395776689931,260.50536374518845L137.64647947142086,261.53003992921265L139.2072447103024,263.2552251073354L139.55087000997082,263.5888144761359L142.7089212810272,266.80506364525013L146.6448930102577,267.79211095017234L147.4964440483277,269.89701483058707L147.04648589008582,271.87317887499495L145.51898305004164,271.01317397356524L143.4606011043579,270.5506489789393L141.9368871245225,267.77576445984636L138.65840280178753,265.82377795372474Z\" style=\"fill: none; stroke-miterlimit: 2; stroke: rgb(255, 255, 255); stroke-opacity: 1; stroke-width: 1px;\"/></g><g class=\"layer backplot\"><g class=\"choroplethlayer\"/></g><g class=\"layer frontplot\"><g class=\"scatterlayer\"><g class=\"trace scattergeo\" style=\"opacity: 1;\"><path class=\"point\" d=\"M3,0A3,3 0 1,1 0,-3A3,3 0 0,1 3,0Z\" transform=\"translate(350.59795074998334,230.98447587619216)\" style=\"opacity: 1; stroke-width: 0px; fill: rgb(31, 119, 180); fill-opacity: 1;\"/><path class=\"point\" d=\"M3,0A3,3 0 1,1 0,-3A3,3 0 0,1 3,0Z\" transform=\"translate(365.61649276833555,200.9380871414466)\" style=\"opacity: 1; stroke-width: 0px; fill: rgb(31, 119, 180); fill-opacity: 1;\"/><path class=\"point\" d=\"M3,0A3,3 0 1,1 0,-3A3,3 0 0,1 3,0Z\" transform=\"translate(363.13860830267265,190.8676035247425)\" style=\"opacity: 1; stroke-width: 0px; fill: rgb(31, 119, 180); fill-opacity: 1;\"/><path class=\"point\" d=\"M3,0A3,3 0 1,1 0,-3A3,3 0 0,1 3,0Z\" transform=\"translate(363.2695876703799,193.91382605970028)\" style=\"opacity: 1; stroke-width: 0px; fill: rgb(31, 119, 180); fill-opacity: 1;\"/><path class=\"point\" d=\"M3,0A3,3 0 1,1 0,-3A3,3 0 0,1 3,0Z\" transform=\"translate(356.85893764340165,199.07555158060393)\" style=\"opacity: 1; stroke-width: 0px; fill: rgb(31, 119, 180); fill-opacity: 1;\"/><path class=\"point\" d=\"M3,0A3,3 0 1,1 0,-3A3,3 0 0,1 3,0Z\" transform=\"translate(355.4942789606671,201.48857289291175)\" style=\"opacity: 1; stroke-width: 0px; fill: rgb(31, 119, 180); fill-opacity: 1;\"/><path class=\"point\" d=\"M3,0A3,3 0 1,1 0,-3A3,3 0 0,1 3,0Z\" transform=\"translate(359.0923180207151,198.935895015908)\" style=\"opacity: 1; stroke-width: 0px; fill: rgb(31, 119, 180); fill-opacity: 1;\"/><path class=\"point\" d=\"M3,0A3,3 0 1,1 0,-3A3,3 0 0,1 3,0Z\" transform=\"translate(355.9969014366617,199.70709325630162)\" style=\"opacity: 1; stroke-width: 0px; fill: rgb(31, 119, 180); fill-opacity: 1;\"/><path class=\"point\" d=\"M3,0A3,3 0 1,1 0,-3A3,3 0 0,1 3,0Z\" transform=\"translate(356.6463247055175,199.42140745735304)\" style=\"opacity: 1; stroke-width: 0px; fill: rgb(31, 119, 180); fill-opacity: 1;\"/><path class=\"point\" d=\"M3,0A3,3 0 1,1 0,-3A3,3 0 0,1 3,0Z\" transform=\"translate(357.6237306972055,187.32157337336724)\" style=\"opacity: 1; stroke-width: 0px; fill: rgb(31, 119, 180); fill-opacity: 1;\"/><path class=\"point\" d=\"M3,0A3,3 0 1,1 0,-3A3,3 0 0,1 3,0Z\" transform=\"translate(348.5596782122584,228.36827609150862)\" style=\"opacity: 1; stroke-width: 0px; fill: rgb(31, 119, 180); fill-opacity: 1;\"/><path class=\"point\" d=\"M3,0A3,3 0 1,1 0,-3A3,3 0 0,1 3,0Z\" transform=\"translate(362.6688917129051,210.21678139730676)\" style=\"opacity: 1; stroke-width: 0px; fill: rgb(31, 119, 180); fill-opacity: 1;\"/><path class=\"point\" d=\"M3,0A3,3 0 1,1 0,-3A3,3 0 0,1 3,0Z\" transform=\"translate(354.6314668906444,189.22992456534445)\" style=\"opacity: 1; stroke-width: 0px; fill: rgb(31, 119, 180); fill-opacity: 1;\"/><path class=\"point\" d=\"M3,0A3,3 0 1,1 0,-3A3,3 0 0,1 3,0Z\" transform=\"translate(373.36191619444855,208.7966172429933)\" style=\"opacity: 1; stroke-width: 0px; fill: rgb(31, 119, 180); fill-opacity: 1;\"/><path class=\"point\" d=\"M3,0A3,3 0 1,1 0,-3A3,3 0 0,1 3,0Z\" transform=\"translate(345.5890897324013,212.30515843443152)\" style=\"opacity: 1; stroke-width: 0px; fill: rgb(31, 119, 180); fill-opacity: 1;\"/><path class=\"point\" d=\"M3,0A3,3 0 1,1 0,-3A3,3 0 0,1 3,0Z\" transform=\"translate(351.5865855856443,203.30042687359406)\" style=\"opacity: 1; stroke-width: 0px; fill: rgb(31, 119, 180); fill-opacity: 1;\"/><path class=\"point\" d=\"M3,0A3,3 0 1,1 0,-3A3,3 0 0,1 3,0Z\" transform=\"translate(135.51127578851828,262.2725784101722)\" style=\"opacity: 1; stroke-width: 0px; fill: rgb(31, 119, 180); fill-opacity: 1;\"/><path class=\"point\" d=\"M3,0A3,3 0 1,1 0,-3A3,3 0 0,1 3,0Z\" transform=\"translate(170.4095846043717,171.21333586971667)\" style=\"opacity: 1; stroke-width: 0px; fill: rgb(31, 119, 180); fill-opacity: 1;\"/><path class=\"point\" d=\"M3,0A3,3 0 1,1 0,-3A3,3 0 0,1 3,0Z\" transform=\"translate(134.14753741795528,182.24675472812555)\" style=\"opacity: 1; stroke-width: 0px; fill: rgb(31, 119, 180); fill-opacity: 1;\"/><path class=\"point\" d=\"M3,0A3,3 0 1,1 0,-3A3,3 0 0,1 3,0Z\" transform=\"translate(144.45312491926407,192.00092239342183)\" style=\"opacity: 1; stroke-width: 0px; fill: rgb(31, 119, 180); fill-opacity: 1;\"/><path class=\"point\" d=\"M3,0A3,3 0 1,1 0,-3A3,3 0 0,1 3,0Z\" transform=\"translate(146.6288519596588,193.13491253624488)\" style=\"opacity: 1; stroke-width: 0px; fill: rgb(31, 119, 180); fill-opacity: 1;\"/><path class=\"point\" d=\"M3,0A3,3 0 1,1 0,-3A3,3 0 0,1 3,0Z\" transform=\"translate(145.21871226180323,191.3371360181436)\" style=\"opacity: 1; stroke-width: 0px; fill: rgb(31, 119, 180); fill-opacity: 1;\"/><path class=\"point\" d=\"M3,0A3,3 0 1,1 0,-3A3,3 0 0,1 3,0Z\" transform=\"translate(144.2009450081745,191.01505213283912)\" style=\"opacity: 1; stroke-width: 0px; fill: rgb(31, 119, 180); fill-opacity: 1;\"/><path class=\"point\" d=\"M3,0A3,3 0 1,1 0,-3A3,3 0 0,1 3,0Z\" transform=\"translate(144.872706844985,192.9100982754954)\" style=\"opacity: 1; stroke-width: 0px; fill: rgb(31, 119, 180); fill-opacity: 1;\"/><path class=\"point\" d=\"M3,0A3,3 0 1,1 0,-3A3,3 0 0,1 3,0Z\" transform=\"translate(146.0543580168005,193.02699876053003)\" style=\"opacity: 1; stroke-width: 0px; fill: rgb(31, 119, 180); fill-opacity: 1;\"/><path class=\"point\" d=\"M3,0A3,3 0 1,1 0,-3A3,3 0 0,1 3,0Z\" transform=\"translate(145.4886266406353,192.93903662536894)\" style=\"opacity: 1; stroke-width: 0px; fill: rgb(31, 119, 180); fill-opacity: 1;\"/><path class=\"point\" d=\"M3,0A3,3 0 1,1 0,-3A3,3 0 0,1 3,0Z\" transform=\"translate(146.84375209020814,192.3620169268197)\" style=\"opacity: 1; stroke-width: 0px; fill: rgb(31, 119, 180); fill-opacity: 1;\"/><path class=\"point\" d=\"M3,0A3,3 0 1,1 0,-3A3,3 0 0,1 3,0Z\" transform=\"translate(144.55624493930262,192.61342532577123)\" style=\"opacity: 1; stroke-width: 0px; fill: rgb(31, 119, 180); fill-opacity: 1;\"/><path class=\"point\" d=\"M3,0A3,3 0 1,1 0,-3A3,3 0 0,1 3,0Z\" transform=\"translate(144.8760445295379,191.86509534819578)\" style=\"opacity: 1; stroke-width: 0px; fill: rgb(31, 119, 180); fill-opacity: 1;\"/><path class=\"point\" d=\"M3,0A3,3 0 1,1 0,-3A3,3 0 0,1 3,0Z\" transform=\"translate(137.7795079921789,169.4081228340013)\" style=\"opacity: 1; stroke-width: 0px; fill: rgb(31, 119, 180); fill-opacity: 1;\"/><path class=\"point\" d=\"M3,0A3,3 0 1,1 0,-3A3,3 0 0,1 3,0Z\" transform=\"translate(151.7536991232593,205.24641548884722)\" style=\"opacity: 1; stroke-width: 0px; fill: rgb(31, 119, 180); fill-opacity: 1;\"/><path class=\"point\" d=\"M3,0A3,3 0 1,1 0,-3A3,3 0 0,1 3,0Z\" transform=\"translate(152.18285600556172,205.59944485931806)\" style=\"opacity: 1; stroke-width: 0px; fill: rgb(31, 119, 180); fill-opacity: 1;\"/><path class=\"point\" d=\"M3,0A3,3 0 1,1 0,-3A3,3 0 0,1 3,0Z\" transform=\"translate(146.67016593903998,198.66725756536886)\" style=\"opacity: 1; stroke-width: 0px; fill: rgb(31, 119, 180); fill-opacity: 1;\"/><path class=\"point\" d=\"M3,0A3,3 0 1,1 0,-3A3,3 0 0,1 3,0Z\" transform=\"translate(149.65761041020554,193.52503183697695)\" style=\"opacity: 1; stroke-width: 0px; fill: rgb(31, 119, 180); fill-opacity: 1;\"/><path class=\"point\" d=\"M3,0A3,3 0 1,1 0,-3A3,3 0 0,1 3,0Z\" transform=\"translate(144.2994960170595,198.1926074857729)\" style=\"opacity: 1; stroke-width: 0px; fill: rgb(31, 119, 180); fill-opacity: 1;\"/><path class=\"point\" d=\"M3,0A3,3 0 1,1 0,-3A3,3 0 0,1 3,0Z\" transform=\"translate(151.03675211657944,215.32142100959686)\" style=\"opacity: 1; stroke-width: 0px; fill: rgb(31, 119, 180); fill-opacity: 1;\"/><path class=\"point\" d=\"M3,0A3,3 0 1,1 0,-3A3,3 0 0,1 3,0Z\" transform=\"translate(122.40872767035697,196.1794448802176)\" style=\"opacity: 1; stroke-width: 0px; fill: rgb(31, 119, 180); fill-opacity: 1;\"/><path class=\"point\" d=\"M3,0A3,3 0 1,1 0,-3A3,3 0 0,1 3,0Z\" transform=\"translate(316.5969746231566,192.05568026683085)\" style=\"opacity: 1; stroke-width: 0px; fill: rgb(31, 119, 180); fill-opacity: 1;\"/><path class=\"point\" d=\"M3,0A3,3 0 1,1 0,-3A3,3 0 0,1 3,0Z\" transform=\"translate(314.0441716066227,206.30522563879532)\" style=\"opacity: 1; stroke-width: 0px; fill: rgb(31, 119, 180); fill-opacity: 1;\"/><path class=\"point\" d=\"M3,0A3,3 0 1,1 0,-3A3,3 0 0,1 3,0Z\" transform=\"translate(327.5028633701381,184.49928010498348)\" style=\"opacity: 1; stroke-width: 0px; fill: rgb(31, 119, 180); fill-opacity: 1;\"/><path class=\"point\" d=\"M3,0A3,3 0 1,1 0,-3A3,3 0 0,1 3,0Z\" transform=\"translate(304.6484053112766,193.02688591010775)\" style=\"opacity: 1; stroke-width: 0px; fill: rgb(31, 119, 180); fill-opacity: 1;\"/><path class=\"point\" d=\"M3,0A3,3 0 1,1 0,-3A3,3 0 0,1 3,0Z\" transform=\"translate(319.0873924763189,180.45052702913858)\" style=\"opacity: 1; stroke-width: 0px; fill: rgb(31, 119, 180); fill-opacity: 1;\"/><path class=\"point\" d=\"M3,0A3,3 0 1,1 0,-3A3,3 0 0,1 3,0Z\" transform=\"translate(294.4371995806421,192.11215355118412)\" style=\"opacity: 1; stroke-width: 0px; fill: rgb(31, 119, 180); fill-opacity: 1;\"/><path class=\"point\" d=\"M3,0A3,3 0 1,1 0,-3A3,3 0 0,1 3,0Z\" transform=\"translate(310.50602821459046,189.87921669839824)\" style=\"opacity: 1; stroke-width: 0px; fill: rgb(31, 119, 180); fill-opacity: 1;\"/><path class=\"point\" d=\"M3,0A3,3 0 1,1 0,-3A3,3 0 0,1 3,0Z\" transform=\"translate(310.1433517608345,190.66103346564762)\" style=\"opacity: 1; stroke-width: 0px; fill: rgb(31, 119, 180); fill-opacity: 1;\"/><path class=\"point\" d=\"M3,0A3,3 0 1,1 0,-3A3,3 0 0,1 3,0Z\" transform=\"translate(307.8206426160124,205.71691826532043)\" style=\"opacity: 1; stroke-width: 0px; fill: rgb(31, 119, 180); fill-opacity: 1;\"/><path class=\"point\" d=\"M3,0A3,3 0 1,1 0,-3A3,3 0 0,1 3,0Z\" transform=\"translate(295.0209568875988,175.73111779880662)\" style=\"opacity: 1; stroke-width: 0px; fill: rgb(31, 119, 180); fill-opacity: 1;\"/><path class=\"point\" d=\"M3,0A3,3 0 1,1 0,-3A3,3 0 0,1 3,0Z\" transform=\"translate(76.82682593789804,132.71718218827294)\" style=\"opacity: 1; stroke-width: 0px; fill: rgb(31, 119, 180); fill-opacity: 1;\"/><path class=\"point\" d=\"M3,0A3,3 0 1,1 0,-3A3,3 0 0,1 3,0Z\" transform=\"translate(74.02324863347968,131.33916638634628)\" style=\"opacity: 1; stroke-width: 0px; fill: rgb(31, 119, 180); fill-opacity: 1;\"/><path class=\"point\" d=\"M3,0A3,3 0 1,1 0,-3A3,3 0 0,1 3,0Z\" transform=\"translate(73.36328409996631,130.38718370937175)\" style=\"opacity: 1; stroke-width: 0px; fill: rgb(31, 119, 180); fill-opacity: 1;\"/><path class=\"point\" d=\"M3,0A3,3 0 1,1 0,-3A3,3 0 0,1 3,0Z\" transform=\"translate(73.44916778427358,130.63729463096155)\" style=\"opacity: 1; stroke-width: 0px; fill: rgb(31, 119, 180); fill-opacity: 1;\"/><path class=\"point\" d=\"M3,0A3,3 0 1,1 0,-3A3,3 0 0,1 3,0Z\" transform=\"translate(73.34746502767791,129.84930707792046)\" style=\"opacity: 1; stroke-width: 0px; fill: rgb(31, 119, 180); fill-opacity: 1;\"/><path class=\"point\" d=\"M3,0A3,3 0 1,1 0,-3A3,3 0 0,1 3,0Z\" transform=\"translate(75.953062261474,132.3276094799507)\" style=\"opacity: 1; stroke-width: 0px; fill: rgb(31, 119, 180); fill-opacity: 1;\"/><path class=\"point\" d=\"M3,0A3,3 0 1,1 0,-3A3,3 0 0,1 3,0Z\" transform=\"translate(82.11186883772896,112.09098557385255)\" style=\"opacity: 1; stroke-width: 0px; fill: rgb(31, 119, 180); fill-opacity: 1;\"/><path class=\"point\" d=\"M3,0A3,3 0 1,1 0,-3A3,3 0 0,1 3,0Z\" transform=\"translate(86.66828549771742,129.92196153006762)\" style=\"opacity: 1; stroke-width: 0px; fill: rgb(31, 119, 180); fill-opacity: 1;\"/><path class=\"point\" d=\"M3,0A3,3 0 1,1 0,-3A3,3 0 0,1 3,0Z\" transform=\"translate(76.74828465204416,118.47537693989602)\" style=\"opacity: 1; stroke-width: 0px; fill: rgb(31, 119, 180); fill-opacity: 1;\"/><path class=\"point\" d=\"M3,0A3,3 0 1,1 0,-3A3,3 0 0,1 3,0Z\" transform=\"translate(79.34389149333646,117.41667019163282)\" style=\"opacity: 1; stroke-width: 0px; fill: rgb(31, 119, 180); fill-opacity: 1;\"/><path class=\"point\" d=\"M3,0A3,3 0 1,1 0,-3A3,3 0 0,1 3,0Z\" transform=\"translate(75.66047489814346,129.7426870831609)\" style=\"opacity: 1; stroke-width: 0px; fill: rgb(31, 119, 180); fill-opacity: 1;\"/><path class=\"point\" d=\"M3,0A3,3 0 1,1 0,-3A3,3 0 0,1 3,0Z\" transform=\"translate(73.20291560519709,128.78762065882398)\" style=\"opacity: 1; stroke-width: 0px; fill: rgb(31, 119, 180); fill-opacity: 1;\"/><path class=\"point\" d=\"M3,0A3,3 0 1,1 0,-3A3,3 0 0,1 3,0Z\" transform=\"translate(90.01282923229485,145.81803341489888)\" style=\"opacity: 1; stroke-width: 0px; fill: rgb(31, 119, 180); fill-opacity: 1;\"/><path class=\"point\" d=\"M3,0A3,3 0 1,1 0,-3A3,3 0 0,1 3,0Z\" transform=\"translate(91.41542425036118,144.05997094512406)\" style=\"opacity: 1; stroke-width: 0px; fill: rgb(31, 119, 180); fill-opacity: 1;\"/><path class=\"point\" d=\"M3,0A3,3 0 1,1 0,-3A3,3 0 0,1 3,0Z\" transform=\"translate(84.86438991140861,146.08751618414408)\" style=\"opacity: 1; stroke-width: 0px; fill: rgb(31, 119, 180); fill-opacity: 1;\"/><path class=\"point\" d=\"M3,0A3,3 0 1,1 0,-3A3,3 0 0,1 3,0Z\" transform=\"translate(89.7899043904653,146.55071698522886)\" style=\"opacity: 1; stroke-width: 0px; fill: rgb(31, 119, 180); fill-opacity: 1;\"/><path class=\"point\" d=\"M3,0A3,3 0 1,1 0,-3A3,3 0 0,1 3,0Z\" transform=\"translate(90.54278030054056,145.59240243568087)\" style=\"opacity: 1; stroke-width: 0px; fill: rgb(31, 119, 180); fill-opacity: 1;\"/><path class=\"point\" d=\"M3,0A3,3 0 1,1 0,-3A3,3 0 0,1 3,0Z\" transform=\"translate(90.17737919071863,146.48485359664596)\" style=\"opacity: 1; stroke-width: 0px; fill: rgb(31, 119, 180); fill-opacity: 1;\"/><path class=\"point\" d=\"M3,0A3,3 0 1,1 0,-3A3,3 0 0,1 3,0Z\" transform=\"translate(72.25090611269366,95.51745296011154)\" style=\"opacity: 1; stroke-width: 0px; fill: rgb(31, 119, 180); fill-opacity: 1;\"/><path class=\"point\" d=\"M3,0A3,3 0 1,1 0,-3A3,3 0 0,1 3,0Z\" transform=\"translate(67.77158838116469,97.0572027547646)\" style=\"opacity: 1; stroke-width: 0px; fill: rgb(31, 119, 180); fill-opacity: 1;\"/><path class=\"point\" d=\"M3,0A3,3 0 1,1 0,-3A3,3 0 0,1 3,0Z\" transform=\"translate(115.13961172586559,194.8498250565932)\" style=\"opacity: 1; stroke-width: 0px; fill: rgb(31, 119, 180); fill-opacity: 1;\"/><path class=\"point\" d=\"M3,0A3,3 0 1,1 0,-3A3,3 0 0,1 3,0Z\" transform=\"translate(112.2069138229761,186.88304655921849)\" style=\"opacity: 1; stroke-width: 0px; fill: rgb(31, 119, 180); fill-opacity: 1;\"/><path class=\"point\" d=\"M3,0A3,3 0 1,1 0,-3A3,3 0 0,1 3,0Z\" transform=\"translate(114.71599534169886,193.54951565609906)\" style=\"opacity: 1; stroke-width: 0px; fill: rgb(31, 119, 180); fill-opacity: 1;\"/><path class=\"point\" d=\"M3,0A3,3 0 1,1 0,-3A3,3 0 0,1 3,0Z\" transform=\"translate(102.67783703455183,142.86882691843817)\" style=\"opacity: 1; stroke-width: 0px; fill: rgb(31, 119, 180); fill-opacity: 1;\"/><path class=\"point\" d=\"M3,0A3,3 0 1,1 0,-3A3,3 0 0,1 3,0Z\" transform=\"translate(104.21406427054492,152.4388554734129)\" style=\"opacity: 1; stroke-width: 0px; fill: rgb(31, 119, 180); fill-opacity: 1;\"/><path class=\"point\" d=\"M3,0A3,3 0 1,1 0,-3A3,3 0 0,1 3,0Z\" transform=\"translate(103.06449955832929,151.03267520665014)\" style=\"opacity: 1; stroke-width: 0px; fill: rgb(31, 119, 180); fill-opacity: 1;\"/><path class=\"point\" d=\"M3,0A3,3 0 1,1 0,-3A3,3 0 0,1 3,0Z\" transform=\"translate(102.00678156313364,142.6925329589816)\" style=\"opacity: 1; stroke-width: 0px; fill: rgb(31, 119, 180); fill-opacity: 1;\"/><path class=\"point\" d=\"M3,0A3,3 0 1,1 0,-3A3,3 0 0,1 3,0Z\" transform=\"translate(102.47810257955416,144.98658548591249)\" style=\"opacity: 1; stroke-width: 0px; fill: rgb(31, 119, 180); fill-opacity: 1;\"/><path class=\"point\" d=\"M3,0A3,3 0 1,1 0,-3A3,3 0 0,1 3,0Z\" transform=\"translate(92.49849697186738,161.25009789160072)\" style=\"opacity: 1; stroke-width: 0px; fill: rgb(31, 119, 180); fill-opacity: 1;\"/><path class=\"point\" d=\"M3,0A3,3 0 1,1 0,-3A3,3 0 0,1 3,0Z\" transform=\"translate(92.04752731629318,161.44450982296848)\" style=\"opacity: 1; stroke-width: 0px; fill: rgb(31, 119, 180); fill-opacity: 1;\"/><path class=\"point\" d=\"M3,0A3,3 0 1,1 0,-3A3,3 0 0,1 3,0Z\" transform=\"translate(92.48737990025171,161.89103572361842)\" style=\"opacity: 1; stroke-width: 0px; fill: rgb(31, 119, 180); fill-opacity: 1;\"/><path class=\"point\" d=\"M3,0A3,3 0 1,1 0,-3A3,3 0 0,1 3,0Z\" transform=\"translate(103.4804138661394,161.16871502301996)\" style=\"opacity: 1; stroke-width: 0px; fill: rgb(31, 119, 180); fill-opacity: 1;\"/><path class=\"point\" d=\"M3,0A3,3 0 1,1 0,-3A3,3 0 0,1 3,0Z\" transform=\"translate(98.49857613997148,166.2806495001479)\" style=\"opacity: 1; stroke-width: 0px; fill: rgb(31, 119, 180); fill-opacity: 1;\"/><path class=\"point\" d=\"M3,0A3,3 0 1,1 0,-3A3,3 0 0,1 3,0Z\" transform=\"translate(89.91449070008608,153.0261940750578)\" style=\"opacity: 1; stroke-width: 0px; fill: rgb(31, 119, 180); fill-opacity: 1;\"/><path class=\"point\" d=\"M3,0A3,3 0 1,1 0,-3A3,3 0 0,1 3,0Z\" transform=\"translate(89.84001943939415,150.7481458133537)\" style=\"opacity: 1; stroke-width: 0px; fill: rgb(31, 119, 180); fill-opacity: 1;\"/><path class=\"point\" d=\"M3,0A3,3 0 1,1 0,-3A3,3 0 0,1 3,0Z\" transform=\"translate(71.99410376535647,117.13354848731245)\" style=\"opacity: 1; stroke-width: 0px; fill: rgb(31, 119, 180); fill-opacity: 1;\"/><path class=\"point\" d=\"M3,0A3,3 0 1,1 0,-3A3,3 0 0,1 3,0Z\" transform=\"translate(98.28491675912065,175.8129117059422)\" style=\"opacity: 1; stroke-width: 0px; fill: rgb(31, 119, 180); fill-opacity: 1;\"/><path class=\"point\" d=\"M3,0A3,3 0 1,1 0,-3A3,3 0 0,1 3,0Z\" transform=\"translate(95.65732851492925,175.92725473972496)\" style=\"opacity: 1; stroke-width: 0px; fill: rgb(31, 119, 180); fill-opacity: 1;\"/><path class=\"point\" d=\"M3,0A3,3 0 1,1 0,-3A3,3 0 0,1 3,0Z\" transform=\"translate(93.49085341470663,174.01000754899047)\" style=\"opacity: 1; stroke-width: 0px; fill: rgb(31, 119, 180); fill-opacity: 1;\"/><path class=\"point\" d=\"M3,0A3,3 0 1,1 0,-3A3,3 0 0,1 3,0Z\" transform=\"translate(95.44349569044812,177.61560338680874)\" style=\"opacity: 1; stroke-width: 0px; fill: rgb(31, 119, 180); fill-opacity: 1;\"/><path class=\"point\" d=\"M3,0A3,3 0 1,1 0,-3A3,3 0 0,1 3,0Z\" transform=\"translate(96.81240712837052,176.7940687495178)\" style=\"opacity: 1; stroke-width: 0px; fill: rgb(31, 119, 180); fill-opacity: 1;\"/><path class=\"point\" d=\"M3,0A3,3 0 1,1 0,-3A3,3 0 0,1 3,0Z\" transform=\"translate(96.62375538491531,175.46195581190483)\" style=\"opacity: 1; stroke-width: 0px; fill: rgb(31, 119, 180); fill-opacity: 1;\"/><path class=\"point\" d=\"M3,0A3,3 0 1,1 0,-3A3,3 0 0,1 3,0Z\" transform=\"translate(95.38822859150264,178.41959547023305)\" style=\"opacity: 1; stroke-width: 0px; fill: rgb(31, 119, 180); fill-opacity: 1;\"/><path class=\"point\" d=\"M3,0A3,3 0 1,1 0,-3A3,3 0 0,1 3,0Z\" transform=\"translate(95.42708946372898,178.75932362783726)\" style=\"opacity: 1; stroke-width: 0px; fill: rgb(31, 119, 180); fill-opacity: 1;\"/><path class=\"point\" d=\"M3,0A3,3 0 1,1 0,-3A3,3 0 0,1 3,0Z\" transform=\"translate(95.37956297536988,178.0396331883572)\" style=\"opacity: 1; stroke-width: 0px; fill: rgb(31, 119, 180); fill-opacity: 1;\"/><path class=\"point\" d=\"M3,0A3,3 0 1,1 0,-3A3,3 0 0,1 3,0Z\" transform=\"translate(97.86682497071305,170.100386228432)\" style=\"opacity: 1; stroke-width: 0px; fill: rgb(31, 119, 180); fill-opacity: 1;\"/><path class=\"point\" d=\"M3,0A3,3 0 1,1 0,-3A3,3 0 0,1 3,0Z\" transform=\"translate(88.40560228691368,143.62614949756528)\" style=\"opacity: 1; stroke-width: 0px; fill: rgb(31, 119, 180); fill-opacity: 1;\"/><path class=\"point\" d=\"M3,0A3,3 0 1,1 0,-3A3,3 0 0,1 3,0Z\" transform=\"translate(71.99118842880415,128.31443729229625)\" style=\"opacity: 1; stroke-width: 0px; fill: rgb(31, 119, 180); fill-opacity: 1;\"/><path class=\"point\" d=\"M3,0A3,3 0 1,1 0,-3A3,3 0 0,1 3,0Z\" transform=\"translate(70.17398864835178,115.19426504762737)\" style=\"opacity: 1; stroke-width: 0px; fill: rgb(31, 119, 180); fill-opacity: 1;\"/><path class=\"point\" d=\"M3,0A3,3 0 1,1 0,-3A3,3 0 0,1 3,0Z\" transform=\"translate(69.84098964633333,112.30043256431821)\" style=\"opacity: 1; stroke-width: 0px; fill: rgb(31, 119, 180); fill-opacity: 1;\"/><path class=\"point\" d=\"M3,0A3,3 0 1,1 0,-3A3,3 0 0,1 3,0Z\" transform=\"translate(86.15319960749514,139.5536751286926)\" style=\"opacity: 1; stroke-width: 0px; fill: rgb(31, 119, 180); fill-opacity: 1;\"/><path class=\"point\" d=\"M3,0A3,3 0 1,1 0,-3A3,3 0 0,1 3,0Z\" transform=\"translate(85.86000102196519,139.19560079161084)\" style=\"opacity: 1; stroke-width: 0px; fill: rgb(31, 119, 180); fill-opacity: 1;\"/><path class=\"point\" d=\"M3,0A3,3 0 1,1 0,-3A3,3 0 0,1 3,0Z\" transform=\"translate(98.43497641205096,138.82740853578844)\" style=\"opacity: 1; stroke-width: 0px; fill: rgb(31, 119, 180); fill-opacity: 1;\"/><path class=\"point\" d=\"M3,0A3,3 0 1,1 0,-3A3,3 0 0,1 3,0Z\" transform=\"translate(98.0274852173068,135.38137652090364)\" style=\"opacity: 1; stroke-width: 0px; fill: rgb(31, 119, 180); fill-opacity: 1;\"/><path class=\"point\" d=\"M3,0A3,3 0 1,1 0,-3A3,3 0 0,1 3,0Z\" transform=\"translate(73.90774830237717,144.74939853182116)\" style=\"opacity: 1; stroke-width: 0px; fill: rgb(31, 119, 180); fill-opacity: 1;\"/><path class=\"point\" d=\"M3,0A3,3 0 1,1 0,-3A3,3 0 0,1 3,0Z\" transform=\"translate(77.91610215199776,148.74841980365397)\" style=\"opacity: 1; stroke-width: 0px; fill: rgb(31, 119, 180); fill-opacity: 1;\"/><path class=\"point\" d=\"M3,0A3,3 0 1,1 0,-3A3,3 0 0,1 3,0Z\" transform=\"translate(75.34700296505409,142.88634874447433)\" style=\"opacity: 1; stroke-width: 0px; fill: rgb(31, 119, 180); fill-opacity: 1;\"/><path class=\"point\" d=\"M3,0A3,3 0 1,1 0,-3A3,3 0 0,1 3,0Z\" transform=\"translate(74.71951520836444,125.82032010585925)\" style=\"opacity: 1; stroke-width: 0px; fill: rgb(31, 119, 180); fill-opacity: 1;\"/><path class=\"point\" d=\"M3,0A3,3 0 1,1 0,-3A3,3 0 0,1 3,0Z\" transform=\"translate(86.55944342716182,118.9312562172401)\" style=\"opacity: 1; stroke-width: 0px; fill: rgb(31, 119, 180); fill-opacity: 1;\"/><path class=\"point\" d=\"M3,0A3,3 0 1,1 0,-3A3,3 0 0,1 3,0Z\" transform=\"translate(93.3696105257657,119.73423966874373)\" style=\"opacity: 1; stroke-width: 0px; fill: rgb(31, 119, 180); fill-opacity: 1;\"/><path class=\"point\" d=\"M3,0A3,3 0 1,1 0,-3A3,3 0 0,1 3,0Z\" transform=\"translate(97.45001764069781,178.83483287109078)\" style=\"opacity: 1; stroke-width: 0px; fill: rgb(31, 119, 180); fill-opacity: 1;\"/><path class=\"point\" d=\"M3,0A3,3 0 1,1 0,-3A3,3 0 0,1 3,0Z\" transform=\"translate(99.1284956647851,181.33593788797623)\" style=\"opacity: 1; stroke-width: 0px; fill: rgb(31, 119, 180); fill-opacity: 1;\"/><path class=\"point\" d=\"M3,0A3,3 0 1,1 0,-3A3,3 0 0,1 3,0Z\" transform=\"translate(85.43053352518353,121.79209748096667)\" style=\"opacity: 1; stroke-width: 0px; fill: rgb(31, 119, 180); fill-opacity: 1;\"/><path class=\"point\" d=\"M3,0A3,3 0 1,1 0,-3A3,3 0 0,1 3,0Z\" transform=\"translate(83.67024631675994,123.32710667526993)\" style=\"opacity: 1; stroke-width: 0px; fill: rgb(31, 119, 180); fill-opacity: 1;\"/><path class=\"point\" d=\"M3,0A3,3 0 1,1 0,-3A3,3 0 0,1 3,0Z\" transform=\"translate(89.27678942975825,112.16002850295308)\" style=\"opacity: 1; stroke-width: 0px; fill: rgb(31, 119, 180); fill-opacity: 1;\"/><path class=\"point\" d=\"M3,0A3,3 0 1,1 0,-3A3,3 0 0,1 3,0Z\" transform=\"translate(92.48238088542865,114.35240909014846)\" style=\"opacity: 1; stroke-width: 0px; fill: rgb(31, 119, 180); fill-opacity: 1;\"/><path class=\"point\" d=\"M3,0A3,3 0 1,1 0,-3A3,3 0 0,1 3,0Z\" transform=\"translate(103.52915313052014,184.25592533976584)\" style=\"opacity: 1; stroke-width: 0px; fill: rgb(31, 119, 180); fill-opacity: 1;\"/><path class=\"point\" d=\"M3,0A3,3 0 1,1 0,-3A3,3 0 0,1 3,0Z\" transform=\"translate(114.6023998766918,183.53948508777142)\" style=\"opacity: 1; stroke-width: 0px; fill: rgb(31, 119, 180); fill-opacity: 1;\"/><path class=\"point\" d=\"M3,0A3,3 0 1,1 0,-3A3,3 0 0,1 3,0Z\" transform=\"translate(111.51019863258668,183.16725443568697)\" style=\"opacity: 1; stroke-width: 0px; fill: rgb(31, 119, 180); fill-opacity: 1;\"/><path class=\"point\" d=\"M3,0A3,3 0 1,1 0,-3A3,3 0 0,1 3,0Z\" transform=\"translate(106.76045840181905,179.76712214655083)\" style=\"opacity: 1; stroke-width: 0px; fill: rgb(31, 119, 180); fill-opacity: 1;\"/><path class=\"point\" d=\"M3,0A3,3 0 1,1 0,-3A3,3 0 0,1 3,0Z\" transform=\"translate(111.27544967530602,183.23348509392184)\" style=\"opacity: 1; stroke-width: 0px; fill: rgb(31, 119, 180); fill-opacity: 1;\"/><path class=\"point\" d=\"M3,0A3,3 0 1,1 0,-3A3,3 0 0,1 3,0Z\" transform=\"translate(108.92086236253303,181.20941889535283)\" style=\"opacity: 1; stroke-width: 0px; fill: rgb(31, 119, 180); fill-opacity: 1;\"/><path class=\"point\" d=\"M3,0A3,3 0 1,1 0,-3A3,3 0 0,1 3,0Z\" transform=\"translate(102.10240455192684,178.13840079833147)\" style=\"opacity: 1; stroke-width: 0px; fill: rgb(31, 119, 180); fill-opacity: 1;\"/><path class=\"point\" d=\"M3,0A3,3 0 1,1 0,-3A3,3 0 0,1 3,0Z\" transform=\"translate(101.47229336020771,178.027537273613)\" style=\"opacity: 1; stroke-width: 0px; fill: rgb(31, 119, 180); fill-opacity: 1;\"/><path class=\"point\" d=\"M3,0A3,3 0 1,1 0,-3A3,3 0 0,1 3,0Z\" transform=\"translate(82.53068008544156,124.42749254800714)\" style=\"opacity: 1; stroke-width: 0px; fill: rgb(31, 119, 180); fill-opacity: 1;\"/><path class=\"point\" d=\"M3,0A3,3 0 1,1 0,-3A3,3 0 0,1 3,0Z\" transform=\"translate(81.45835833473384,124.61606953994368)\" style=\"opacity: 1; stroke-width: 0px; fill: rgb(31, 119, 180); fill-opacity: 1;\"/><path class=\"point\" d=\"M3,0A3,3 0 1,1 0,-3A3,3 0 0,1 3,0Z\" transform=\"translate(84.26235181888308,124.15939938932695)\" style=\"opacity: 1; stroke-width: 0px; fill: rgb(31, 119, 180); fill-opacity: 1;\"/><path class=\"point\" d=\"M3,0A3,3 0 1,1 0,-3A3,3 0 0,1 3,0Z\" transform=\"translate(81.4449798355528,124.34751925912542)\" style=\"opacity: 1; stroke-width: 0px; fill: rgb(31, 119, 180); fill-opacity: 1;\"/><path class=\"point\" d=\"M3,0A3,3 0 1,1 0,-3A3,3 0 0,1 3,0Z\" transform=\"translate(83.40025391840493,125.93374222792545)\" style=\"opacity: 1; stroke-width: 0px; fill: rgb(31, 119, 180); fill-opacity: 1;\"/><path class=\"point\" d=\"M3,0A3,3 0 1,1 0,-3A3,3 0 0,1 3,0Z\" transform=\"translate(77.78378975751366,141.9684617096376)\" style=\"opacity: 1; stroke-width: 0px; fill: rgb(31, 119, 180); fill-opacity: 1;\"/><path class=\"point\" d=\"M3,0A3,3 0 1,1 0,-3A3,3 0 0,1 3,0Z\" transform=\"translate(100.53460552772543,177.44880011427807)\" style=\"opacity: 1; stroke-width: 0px; fill: rgb(31, 119, 180); fill-opacity: 1;\"/><path class=\"point\" d=\"M3,0A3,3 0 1,1 0,-3A3,3 0 0,1 3,0Z\" transform=\"translate(104.00571921906297,173.19943068829082)\" style=\"opacity: 1; stroke-width: 0px; fill: rgb(31, 119, 180); fill-opacity: 1;\"/><path class=\"point\" d=\"M3,0A3,3 0 1,1 0,-3A3,3 0 0,1 3,0Z\" transform=\"translate(101.71352194572484,176.99355294499242)\" style=\"opacity: 1; stroke-width: 0px; fill: rgb(31, 119, 180); fill-opacity: 1;\"/><path class=\"point\" d=\"M3,0A3,3 0 1,1 0,-3A3,3 0 0,1 3,0Z\" transform=\"translate(107.21750825771747,176.51149422570916)\" style=\"opacity: 1; stroke-width: 0px; fill: rgb(31, 119, 180); fill-opacity: 1;\"/><path class=\"point\" d=\"M3,0A3,3 0 1,1 0,-3A3,3 0 0,1 3,0Z\" transform=\"translate(103.50332814699172,177.33319815095257)\" style=\"opacity: 1; stroke-width: 0px; fill: rgb(31, 119, 180); fill-opacity: 1;\"/><path class=\"point\" d=\"M3,0A3,3 0 1,1 0,-3A3,3 0 0,1 3,0Z\" transform=\"translate(101.9361685841784,192.46037347890518)\" style=\"opacity: 1; stroke-width: 0px; fill: rgb(31, 119, 180); fill-opacity: 1;\"/><path class=\"point\" d=\"M3,0A3,3 0 1,1 0,-3A3,3 0 0,1 3,0Z\" transform=\"translate(101.88094222153643,190.19973589531327)\" style=\"opacity: 1; stroke-width: 0px; fill: rgb(31, 119, 180); fill-opacity: 1;\"/><path class=\"point\" d=\"M3,0A3,3 0 1,1 0,-3A3,3 0 0,1 3,0Z\" transform=\"translate(102.54133638947235,188.88364922569565)\" style=\"opacity: 1; stroke-width: 0px; fill: rgb(31, 119, 180); fill-opacity: 1;\"/><path class=\"point\" d=\"M3,0A3,3 0 1,1 0,-3A3,3 0 0,1 3,0Z\" transform=\"translate(103.24320949554041,191.09476317747567)\" style=\"opacity: 1; stroke-width: 0px; fill: rgb(31, 119, 180); fill-opacity: 1;\"/><path class=\"point\" d=\"M3,0A3,3 0 1,1 0,-3A3,3 0 0,1 3,0Z\" transform=\"translate(101.42033549757667,191.51654900928128)\" style=\"opacity: 1; stroke-width: 0px; fill: rgb(31, 119, 180); fill-opacity: 1;\"/><path class=\"point\" d=\"M3,0A3,3 0 1,1 0,-3A3,3 0 0,1 3,0Z\" transform=\"translate(103.324080865625,185.10435852672515)\" style=\"opacity: 1; stroke-width: 0px; fill: rgb(31, 119, 180); fill-opacity: 1;\"/><path class=\"point\" d=\"M3,0A3,3 0 1,1 0,-3A3,3 0 0,1 3,0Z\" transform=\"translate(72.33323686445453,130.61534969311657)\" style=\"opacity: 1; stroke-width: 0px; fill: rgb(31, 119, 180); fill-opacity: 1;\"/><path class=\"point\" d=\"M3,0A3,3 0 1,1 0,-3A3,3 0 0,1 3,0Z\" transform=\"translate(81.4974740767644,131.20031323056332)\" style=\"opacity: 1; stroke-width: 0px; fill: rgb(31, 119, 180); fill-opacity: 1;\"/><path class=\"point\" d=\"M3,0A3,3 0 1,1 0,-3A3,3 0 0,1 3,0Z\" transform=\"translate(81.23158304008518,132.80188960232772)\" style=\"opacity: 1; stroke-width: 0px; fill: rgb(31, 119, 180); fill-opacity: 1;\"/><path class=\"point\" d=\"M3,0A3,3 0 1,1 0,-3A3,3 0 0,1 3,0Z\" transform=\"translate(79.21598093702488,161.71442346071854)\" style=\"opacity: 1; stroke-width: 0px; fill: rgb(31, 119, 180); fill-opacity: 1;\"/><path class=\"point\" d=\"M3,0A3,3 0 1,1 0,-3A3,3 0 0,1 3,0Z\" transform=\"translate(79.09328131386823,161.4073027945832)\" style=\"opacity: 1; stroke-width: 0px; fill: rgb(31, 119, 180); fill-opacity: 1;\"/><path class=\"point\" d=\"M3,0A3,3 0 1,1 0,-3A3,3 0 0,1 3,0Z\" transform=\"translate(79.19842975501902,159.17826597859602)\" style=\"opacity: 1; stroke-width: 0px; fill: rgb(31, 119, 180); fill-opacity: 1;\"/><path class=\"point\" d=\"M3,0A3,3 0 1,1 0,-3A3,3 0 0,1 3,0Z\" transform=\"translate(79.646360982376,156.8034615663109)\" style=\"opacity: 1; stroke-width: 0px; fill: rgb(31, 119, 180); fill-opacity: 1;\"/><path class=\"point\" d=\"M3,0A3,3 0 1,1 0,-3A3,3 0 0,1 3,0Z\" transform=\"translate(73.04026373914846,133.8361244239826)\" style=\"opacity: 1; stroke-width: 0px; fill: rgb(31, 119, 180); fill-opacity: 1;\"/><path class=\"point\" d=\"M3,0A3,3 0 1,1 0,-3A3,3 0 0,1 3,0Z\" transform=\"translate(84.68843261901236,169.41401292437195)\" style=\"opacity: 1; stroke-width: 0px; fill: rgb(31, 119, 180); fill-opacity: 1;\"/><path class=\"point\" d=\"M3,0A3,3 0 1,1 0,-3A3,3 0 0,1 3,0Z\" transform=\"translate(79.0658169263566,165.73514348139753)\" style=\"opacity: 1; stroke-width: 0px; fill: rgb(31, 119, 180); fill-opacity: 1;\"/><path class=\"point\" d=\"M3,0A3,3 0 1,1 0,-3A3,3 0 0,1 3,0Z\" transform=\"translate(83.62792660671738,168.95567789930703)\" style=\"opacity: 1; stroke-width: 0px; fill: rgb(31, 119, 180); fill-opacity: 1;\"/><path class=\"point\" d=\"M3,0A3,3 0 1,1 0,-3A3,3 0 0,1 3,0Z\" transform=\"translate(76.55813934762818,139.97003440481262)\" style=\"opacity: 1; stroke-width: 0px; fill: rgb(31, 119, 180); fill-opacity: 1;\"/><path class=\"point\" d=\"M3,0A3,3 0 1,1 0,-3A3,3 0 0,1 3,0Z\" transform=\"translate(75.04106444744139,135.8320917438328)\" style=\"opacity: 1; stroke-width: 0px; fill: rgb(31, 119, 180); fill-opacity: 1;\"/><path class=\"point\" d=\"M3,0A3,3 0 1,1 0,-3A3,3 0 0,1 3,0Z\" transform=\"translate(75.3602361940751,136.03161344139073)\" style=\"opacity: 1; stroke-width: 0px; fill: rgb(31, 119, 180); fill-opacity: 1;\"/><path class=\"point\" d=\"M3,0A3,3 0 1,1 0,-3A3,3 0 0,1 3,0Z\" transform=\"translate(73.30972380333958,139.23972768408697)\" style=\"opacity: 1; stroke-width: 0px; fill: rgb(31, 119, 180); fill-opacity: 1;\"/><path class=\"point\" d=\"M3,0A3,3 0 1,1 0,-3A3,3 0 0,1 3,0Z\" transform=\"translate(72.7972508238864,138.24463742869318)\" style=\"opacity: 1; stroke-width: 0px; fill: rgb(31, 119, 180); fill-opacity: 1;\"/><path class=\"point\" d=\"M3,0A3,3 0 1,1 0,-3A3,3 0 0,1 3,0Z\" transform=\"translate(80.30059423995647,103.17834099601578)\" style=\"opacity: 1; stroke-width: 0px; fill: rgb(31, 119, 180); fill-opacity: 1;\"/><path class=\"point\" d=\"M3,0A3,3 0 1,1 0,-3A3,3 0 0,1 3,0Z\" transform=\"translate(81.77605816140291,91.05670284098107)\" style=\"opacity: 1; stroke-width: 0px; fill: rgb(31, 119, 180); fill-opacity: 1;\"/><path class=\"point\" d=\"M3,0A3,3 0 1,1 0,-3A3,3 0 0,1 3,0Z\" transform=\"translate(74.50778661547474,127.64176550920234)\" style=\"opacity: 1; stroke-width: 0px; fill: rgb(31, 119, 180); fill-opacity: 1;\"/><path class=\"point\" d=\"M3,0A3,3 0 1,1 0,-3A3,3 0 0,1 3,0Z\" transform=\"translate(70.94991673911721,123.4052496554446)\" style=\"opacity: 1; stroke-width: 0px; fill: rgb(31, 119, 180); fill-opacity: 1;\"/><path class=\"point\" d=\"M3,0A3,3 0 1,1 0,-3A3,3 0 0,1 3,0Z\" transform=\"translate(82.77574637218069,134.82798664789607)\" style=\"opacity: 1; stroke-width: 0px; fill: rgb(31, 119, 180); fill-opacity: 1;\"/><path class=\"point\" d=\"M3,0A3,3 0 1,1 0,-3A3,3 0 0,1 3,0Z\" transform=\"translate(83.58570712664533,136.68039080305948)\" style=\"opacity: 1; stroke-width: 0px; fill: rgb(31, 119, 180); fill-opacity: 1;\"/><path class=\"point\" d=\"M3,0A3,3 0 1,1 0,-3A3,3 0 0,1 3,0Z\" transform=\"translate(82.06531492285879,118.71147143853574)\" style=\"opacity: 1; stroke-width: 0px; fill: rgb(31, 119, 180); fill-opacity: 1;\"/><path class=\"point\" d=\"M3,0A3,3 0 1,1 0,-3A3,3 0 0,1 3,0Z\" transform=\"translate(80.16322332905926,107.18217805269)\" style=\"opacity: 1; stroke-width: 0px; fill: rgb(31, 119, 180); fill-opacity: 1;\"/><path class=\"point\" d=\"M3,0A3,3 0 1,1 0,-3A3,3 0 0,1 3,0Z\" transform=\"translate(92.65240288446972,151.28231896267442)\" style=\"opacity: 1; stroke-width: 0px; fill: rgb(31, 119, 180); fill-opacity: 1;\"/><path class=\"point\" d=\"M3,0A3,3 0 1,1 0,-3A3,3 0 0,1 3,0Z\" transform=\"translate(90.77984298497677,173.234741072615)\" style=\"opacity: 1; stroke-width: 0px; fill: rgb(31, 119, 180); fill-opacity: 1;\"/><path class=\"point\" d=\"M3,0A3,3 0 1,1 0,-3A3,3 0 0,1 3,0Z\" transform=\"translate(91.74294761163009,171.4231524962824)\" style=\"opacity: 1; stroke-width: 0px; fill: rgb(31, 119, 180); fill-opacity: 1;\"/><path class=\"point\" d=\"M3,0A3,3 0 1,1 0,-3A3,3 0 0,1 3,0Z\" transform=\"translate(88.44829439161919,170.1470946857869)\" style=\"opacity: 1; stroke-width: 0px; fill: rgb(31, 119, 180); fill-opacity: 1;\"/><path class=\"point\" d=\"M3,0A3,3 0 1,1 0,-3A3,3 0 0,1 3,0Z\" transform=\"translate(92.4538655702975,172.94618587696954)\" style=\"opacity: 1; stroke-width: 0px; fill: rgb(31, 119, 180); fill-opacity: 1;\"/><path class=\"point\" d=\"M3,0A3,3 0 1,1 0,-3A3,3 0 0,1 3,0Z\" transform=\"translate(88.67599314267704,172.26975789445027)\" style=\"opacity: 1; stroke-width: 0px; fill: rgb(31, 119, 180); fill-opacity: 1;\"/><path class=\"point\" d=\"M3,0A3,3 0 1,1 0,-3A3,3 0 0,1 3,0Z\" transform=\"translate(79.89538548107708,123.19649931642175)\" style=\"opacity: 1; stroke-width: 0px; fill: rgb(31, 119, 180); fill-opacity: 1;\"/><path class=\"point\" d=\"M3,0A3,3 0 1,1 0,-3A3,3 0 0,1 3,0Z\" transform=\"translate(210.69342805850027,135.1910882402899)\" style=\"opacity: 1; stroke-width: 0px; fill: rgb(31, 119, 180); fill-opacity: 1;\"/><path class=\"point\" d=\"M3,0A3,3 0 1,1 0,-3A3,3 0 0,1 3,0Z\" transform=\"translate(209.83638527755096,137.41531685041002)\" style=\"opacity: 1; stroke-width: 0px; fill: rgb(31, 119, 180); fill-opacity: 1;\"/><path class=\"point\" d=\"M3,0A3,3 0 1,1 0,-3A3,3 0 0,1 3,0Z\" transform=\"translate(209.7576489818129,131.63481050093924)\" style=\"opacity: 1; stroke-width: 0px; fill: rgb(31, 119, 180); fill-opacity: 1;\"/><path class=\"point\" d=\"M3,0A3,3 0 1,1 0,-3A3,3 0 0,1 3,0Z\" transform=\"translate(208.3690552020832,132.97886855191183)\" style=\"opacity: 1; stroke-width: 0px; fill: rgb(31, 119, 180); fill-opacity: 1;\"/><path class=\"point\" d=\"M3,0A3,3 0 1,1 0,-3A3,3 0 0,1 3,0Z\" transform=\"translate(189.00531196774435,142.66089088686556)\" style=\"opacity: 1; stroke-width: 0px; fill: rgb(31, 119, 180); fill-opacity: 1;\"/><path class=\"point\" d=\"M3,0A3,3 0 1,1 0,-3A3,3 0 0,1 3,0Z\" transform=\"translate(210.22499872650954,135.93942565375306)\" style=\"opacity: 1; stroke-width: 0px; fill: rgb(31, 119, 180); fill-opacity: 1;\"/><path class=\"point\" d=\"M3,0A3,3 0 1,1 0,-3A3,3 0 0,1 3,0Z\" transform=\"translate(210.58055871481685,136.10297074868208)\" style=\"opacity: 1; stroke-width: 0px; fill: rgb(31, 119, 180); fill-opacity: 1;\"/><path class=\"point\" d=\"M3,0A3,3 0 1,1 0,-3A3,3 0 0,1 3,0Z\" transform=\"translate(210.11715048676461,135.63747194567344)\" style=\"opacity: 1; stroke-width: 0px; fill: rgb(31, 119, 180); fill-opacity: 1;\"/><path class=\"point\" d=\"M3,0A3,3 0 1,1 0,-3A3,3 0 0,1 3,0Z\" transform=\"translate(209.9931906901548,136.11336279968953)\" style=\"opacity: 1; stroke-width: 0px; fill: rgb(31, 119, 180); fill-opacity: 1;\"/><path class=\"point\" d=\"M3,0A3,3 0 1,1 0,-3A3,3 0 0,1 3,0Z\" transform=\"translate(210.25131090455406,135.58208935561817)\" style=\"opacity: 1; stroke-width: 0px; fill: rgb(31, 119, 180); fill-opacity: 1;\"/><path class=\"point\" d=\"M3,0A3,3 0 1,1 0,-3A3,3 0 0,1 3,0Z\" transform=\"translate(209.37540975381012,138.09191250641908)\" style=\"opacity: 1; stroke-width: 0px; fill: rgb(31, 119, 180); fill-opacity: 1;\"/><path class=\"point\" d=\"M3,0A3,3 0 1,1 0,-3A3,3 0 0,1 3,0Z\" transform=\"translate(210.59154050478253,145.2829917380289)\" style=\"opacity: 1; stroke-width: 0px; fill: rgb(31, 119, 180); fill-opacity: 1;\"/><path class=\"point\" d=\"M3,0A3,3 0 1,1 0,-3A3,3 0 0,1 3,0Z\" transform=\"translate(186.43668419692065,136.53106330622512)\" style=\"opacity: 1; stroke-width: 0px; fill: rgb(31, 119, 180); fill-opacity: 1;\"/><path class=\"point\" d=\"M3,0A3,3 0 1,1 0,-3A3,3 0 0,1 3,0Z\" transform=\"translate(191.95248570038362,136.09205704107967)\" style=\"opacity: 1; stroke-width: 0px; fill: rgb(31, 119, 180); fill-opacity: 1;\"/><path class=\"point\" d=\"M3,0A3,3 0 1,1 0,-3A3,3 0 0,1 3,0Z\" transform=\"translate(184.6533812056129,160.46796679214066)\" style=\"opacity: 1; stroke-width: 0px; fill: rgb(31, 119, 180); fill-opacity: 1;\"/><path class=\"point\" d=\"M3,0A3,3 0 1,1 0,-3A3,3 0 0,1 3,0Z\" transform=\"translate(210.3176855926465,127.49839634694774)\" style=\"opacity: 1; stroke-width: 0px; fill: rgb(31, 119, 180); fill-opacity: 1;\"/><path class=\"point\" d=\"M3,0A3,3 0 1,1 0,-3A3,3 0 0,1 3,0Z\" transform=\"translate(181.80415708196384,139.80159195827252)\" style=\"opacity: 1; stroke-width: 0px; fill: rgb(31, 119, 180); fill-opacity: 1;\"/><path class=\"point\" d=\"M3,0A3,3 0 1,1 0,-3A3,3 0 0,1 3,0Z\" transform=\"translate(211.8644444504049,151.29509048822115)\" style=\"opacity: 1; stroke-width: 0px; fill: rgb(31, 119, 180); fill-opacity: 1;\"/><path class=\"point\" d=\"M3,0A3,3 0 1,1 0,-3A3,3 0 0,1 3,0Z\" transform=\"translate(181.65818843766073,129.190156622065)\" style=\"opacity: 1; stroke-width: 0px; fill: rgb(31, 119, 180); fill-opacity: 1;\"/><path class=\"point\" d=\"M3,0A3,3 0 1,1 0,-3A3,3 0 0,1 3,0Z\" transform=\"translate(213.01184744644254,129.36217232986314)\" style=\"opacity: 1; stroke-width: 0px; fill: rgb(31, 119, 180); fill-opacity: 1;\"/><path class=\"point\" d=\"M3,0A3,3 0 1,1 0,-3A3,3 0 0,1 3,0Z\" transform=\"translate(211.9217942925016,131.37782440197617)\" style=\"opacity: 1; stroke-width: 0px; fill: rgb(31, 119, 180); fill-opacity: 1;\"/><path class=\"point\" d=\"M3,0A3,3 0 1,1 0,-3A3,3 0 0,1 3,0Z\" transform=\"translate(451.14975241766484,104.00295216934154)\" style=\"opacity: 1; stroke-width: 0px; fill: rgb(31, 119, 180); fill-opacity: 1;\"/><path class=\"point\" d=\"M3,0A3,3 0 1,1 0,-3A3,3 0 0,1 3,0Z\" transform=\"translate(448.7682389347268,102.1744338710107)\" style=\"opacity: 1; stroke-width: 0px; fill: rgb(31, 119, 180); fill-opacity: 1;\"/><path class=\"point\" d=\"M3,0A3,3 0 1,1 0,-3A3,3 0 0,1 3,0Z\" transform=\"translate(453.44801656658865,97.09549606671999)\" style=\"opacity: 1; stroke-width: 0px; fill: rgb(31, 119, 180); fill-opacity: 1;\"/><path class=\"point\" d=\"M3,0A3,3 0 1,1 0,-3A3,3 0 0,1 3,0Z\" transform=\"translate(453.76716050167005,96.87531200801209)\" style=\"opacity: 1; stroke-width: 0px; fill: rgb(31, 119, 180); fill-opacity: 1;\"/><path class=\"point\" d=\"M3,0A3,3 0 1,1 0,-3A3,3 0 0,1 3,0Z\" transform=\"translate(448.8170272212282,97.71283735584126)\" style=\"opacity: 1; stroke-width: 0px; fill: rgb(31, 119, 180); fill-opacity: 1;\"/><path class=\"point\" d=\"M3,0A3,3 0 1,1 0,-3A3,3 0 0,1 3,0Z\" transform=\"translate(452.97867657097936,102.17459520773247)\" style=\"opacity: 1; stroke-width: 0px; fill: rgb(31, 119, 180); fill-opacity: 1;\"/><path class=\"point\" d=\"M3,0A3,3 0 1,1 0,-3A3,3 0 0,1 3,0Z\" transform=\"translate(451.3330172468885,99.95190088992933)\" style=\"opacity: 1; stroke-width: 0px; fill: rgb(31, 119, 180); fill-opacity: 1;\"/><path class=\"point\" d=\"M3,0A3,3 0 1,1 0,-3A3,3 0 0,1 3,0Z\" transform=\"translate(458.898343727573,100.12790342052568)\" style=\"opacity: 1; stroke-width: 0px; fill: rgb(31, 119, 180); fill-opacity: 1;\"/><path class=\"point\" d=\"M3,0A3,3 0 1,1 0,-3A3,3 0 0,1 3,0Z\" transform=\"translate(438.46567113149297,129.93325422314547)\" style=\"opacity: 1; stroke-width: 0px; fill: rgb(31, 119, 180); fill-opacity: 1;\"/><path class=\"point\" d=\"M3,0A3,3 0 1,1 0,-3A3,3 0 0,1 3,0Z\" transform=\"translate(438.3924590828708,128.18089765610927)\" style=\"opacity: 1; stroke-width: 0px; fill: rgb(31, 119, 180); fill-opacity: 1;\"/><path class=\"point\" d=\"M3,0A3,3 0 1,1 0,-3A3,3 0 0,1 3,0Z\" transform=\"translate(437.2599932823149,122.06204982588599)\" style=\"opacity: 1; stroke-width: 0px; fill: rgb(31, 119, 180); fill-opacity: 1;\"/><path class=\"point\" d=\"M3,0A3,3 0 1,1 0,-3A3,3 0 0,1 3,0Z\" transform=\"translate(435.89964897198615,124.56162772095956)\" style=\"opacity: 1; stroke-width: 0px; fill: rgb(31, 119, 180); fill-opacity: 1;\"/><path class=\"point\" d=\"M3,0A3,3 0 1,1 0,-3A3,3 0 0,1 3,0Z\" transform=\"translate(436.8162723716747,124.0854994888648)\" style=\"opacity: 1; stroke-width: 0px; fill: rgb(31, 119, 180); fill-opacity: 1;\"/><path class=\"point\" d=\"M3,0A3,3 0 1,1 0,-3A3,3 0 0,1 3,0Z\" transform=\"translate(435.37228679585337,123.19908068499683)\" style=\"opacity: 1; stroke-width: 0px; fill: rgb(31, 119, 180); fill-opacity: 1;\"/><path class=\"point\" d=\"M3,0A3,3 0 1,1 0,-3A3,3 0 0,1 3,0Z\" transform=\"translate(436.8074232747683,122.38863971114495)\" style=\"opacity: 1; stroke-width: 0px; fill: rgb(31, 119, 180); fill-opacity: 1;\"/><path class=\"point\" d=\"M3,0A3,3 0 1,1 0,-3A3,3 0 0,1 3,0Z\" transform=\"translate(438.78143099604915,133.36019397143502)\" style=\"opacity: 1; stroke-width: 0px; fill: rgb(31, 119, 180); fill-opacity: 1;\"/><path class=\"point\" d=\"M3,0A3,3 0 1,1 0,-3A3,3 0 0,1 3,0Z\" transform=\"translate(427.9216324267476,133.11103900913383)\" style=\"opacity: 1; stroke-width: 0px; fill: rgb(31, 119, 180); fill-opacity: 1;\"/><path class=\"point\" d=\"M3,0A3,3 0 1,1 0,-3A3,3 0 0,1 3,0Z\" transform=\"translate(427.4449441530255,132.93253656688933)\" style=\"opacity: 1; stroke-width: 0px; fill: rgb(31, 119, 180); fill-opacity: 1;\"/><path class=\"point\" d=\"M3,0A3,3 0 1,1 0,-3A3,3 0 0,1 3,0Z\" transform=\"translate(427.95894652530984,133.11185994106916)\" style=\"opacity: 1; stroke-width: 0px; fill: rgb(31, 119, 180); fill-opacity: 1;\"/><path class=\"point\" d=\"M3,0A3,3 0 1,1 0,-3A3,3 0 0,1 3,0Z\" transform=\"translate(427.542811813815,133.40160708196072)\" style=\"opacity: 1; stroke-width: 0px; fill: rgb(31, 119, 180); fill-opacity: 1;\"/><path class=\"point\" d=\"M3,0A3,3 0 1,1 0,-3A3,3 0 0,1 3,0Z\" transform=\"translate(405.35656267162176,228.18339943101222)\" style=\"opacity: 1; stroke-width: 0px; fill: rgb(31, 119, 180); fill-opacity: 1;\"/><path class=\"point\" d=\"M3,0A3,3 0 1,1 0,-3A3,3 0 0,1 3,0Z\" transform=\"translate(405.7670503944042,225.86589867014976)\" style=\"opacity: 1; stroke-width: 0px; fill: rgb(31, 119, 180); fill-opacity: 1;\"/><path class=\"point\" d=\"M3,0A3,3 0 1,1 0,-3A3,3 0 0,1 3,0Z\" transform=\"translate(405.3971594186066,226.86957234390803)\" style=\"opacity: 1; stroke-width: 0px; fill: rgb(31, 119, 180); fill-opacity: 1;\"/><path class=\"point\" d=\"M3,0A3,3 0 1,1 0,-3A3,3 0 0,1 3,0Z\" transform=\"translate(356.4630161385204,230.1759276400059)\" style=\"opacity: 1; stroke-width: 0px; fill: rgb(31, 119, 180); fill-opacity: 1;\"/><path class=\"point\" d=\"M3,0A3,3 0 1,1 0,-3A3,3 0 0,1 3,0Z\" transform=\"translate(381.3888129604,228.36131566282268)\" style=\"opacity: 1; stroke-width: 0px; fill: rgb(31, 119, 180); fill-opacity: 1;\"/><path class=\"point\" d=\"M3,0A3,3 0 1,1 0,-3A3,3 0 0,1 3,0Z\" transform=\"translate(384.41544629017983,203.92454726906806)\" style=\"opacity: 1; stroke-width: 0px; fill: rgb(31, 119, 180); fill-opacity: 1;\"/><path class=\"point\" d=\"M3,0A3,3 0 1,1 0,-3A3,3 0 0,1 3,0Z\" transform=\"translate(385.1995913255339,203.53486882526664)\" style=\"opacity: 1; stroke-width: 0px; fill: rgb(31, 119, 180); fill-opacity: 1;\"/><path class=\"point\" d=\"M3,0A3,3 0 1,1 0,-3A3,3 0 0,1 3,0Z\" transform=\"translate(406.62048517045355,207.8124540287464)\" style=\"opacity: 1; stroke-width: 0px; fill: rgb(31, 119, 180); fill-opacity: 1;\"/><path class=\"point\" d=\"M3,0A3,3 0 1,1 0,-3A3,3 0 0,1 3,0Z\" transform=\"translate(385.3637294817956,192.0237045799775)\" style=\"opacity: 1; stroke-width: 0px; fill: rgb(31, 119, 180); fill-opacity: 1;\"/><path class=\"point\" d=\"M3,0A3,3 0 1,1 0,-3A3,3 0 0,1 3,0Z\" transform=\"translate(377.05772616822264,196.26198306219788)\" style=\"opacity: 1; stroke-width: 0px; fill: rgb(31, 119, 180); fill-opacity: 1;\"/><path class=\"point\" d=\"M3,0A3,3 0 1,1 0,-3A3,3 0 0,1 3,0Z\" transform=\"translate(374.75402713245916,192.36865393642302)\" style=\"opacity: 1; stroke-width: 0px; fill: rgb(31, 119, 180); fill-opacity: 1;\"/><path class=\"point\" d=\"M3,0A3,3 0 1,1 0,-3A3,3 0 0,1 3,0Z\" transform=\"translate(393.71155950562917,215.6995858839624)\" style=\"opacity: 1; stroke-width: 0px; fill: rgb(31, 119, 180); fill-opacity: 1;\"/><path class=\"point\" d=\"M3,0A3,3 0 1,1 0,-3A3,3 0 0,1 3,0Z\" transform=\"translate(377.7969901692639,195.37701520507477)\" style=\"opacity: 1; stroke-width: 0px; fill: rgb(31, 119, 180); fill-opacity: 1;\"/><path class=\"point\" d=\"M3,0A3,3 0 1,1 0,-3A3,3 0 0,1 3,0Z\" transform=\"translate(382.08021798887097,216.58343640916996)\" style=\"opacity: 1; stroke-width: 0px; fill: rgb(31, 119, 180); fill-opacity: 1;\"/><path class=\"point\" d=\"M3,0A3,3 0 1,1 0,-3A3,3 0 0,1 3,0Z\" transform=\"translate(376.44524589894513,194.3627524776286)\" style=\"opacity: 1; stroke-width: 0px; fill: rgb(31, 119, 180); fill-opacity: 1;\"/><path class=\"point\" d=\"M3,0A3,3 0 1,1 0,-3A3,3 0 0,1 3,0Z\" transform=\"translate(376.84301975636697,194.5599619271124)\" style=\"opacity: 1; stroke-width: 0px; fill: rgb(31, 119, 180); fill-opacity: 1;\"/><path class=\"point\" d=\"M3,0A3,3 0 1,1 0,-3A3,3 0 0,1 3,0Z\" transform=\"translate(404.96066100734026,217.58536949570777)\" style=\"opacity: 1; stroke-width: 0px; fill: rgb(31, 119, 180); fill-opacity: 1;\"/><path class=\"point\" d=\"M3,0A3,3 0 1,1 0,-3A3,3 0 0,1 3,0Z\" transform=\"translate(379.2887766126262,192.34848051111874)\" style=\"opacity: 1; stroke-width: 0px; fill: rgb(31, 119, 180); fill-opacity: 1;\"/><path class=\"point\" d=\"M3,0A3,3 0 1,1 0,-3A3,3 0 0,1 3,0Z\" transform=\"translate(380.9710180359753,188.66315880519056)\" style=\"opacity: 1; stroke-width: 0px; fill: rgb(31, 119, 180); fill-opacity: 1;\"/><path class=\"point\" d=\"M3,0A3,3 0 1,1 0,-3A3,3 0 0,1 3,0Z\" transform=\"translate(385.0079692411427,205.61923467012866)\" style=\"opacity: 1; stroke-width: 0px; fill: rgb(31, 119, 180); fill-opacity: 1;\"/><path class=\"point\" d=\"M3,0A3,3 0 1,1 0,-3A3,3 0 0,1 3,0Z\" transform=\"translate(389.96889861802265,223.05511509340033)\" style=\"opacity: 1; stroke-width: 0px; fill: rgb(31, 119, 180); fill-opacity: 1;\"/><path class=\"point\" d=\"M3,0A3,3 0 1,1 0,-3A3,3 0 0,1 3,0Z\" transform=\"translate(373.7282492008138,207.88697576590647)\" style=\"opacity: 1; stroke-width: 0px; fill: rgb(31, 119, 180); fill-opacity: 1;\"/><path class=\"point\" d=\"M3,0A3,3 0 1,1 0,-3A3,3 0 0,1 3,0Z\" transform=\"translate(373.8305797306974,208.84106921230517)\" style=\"opacity: 1; stroke-width: 0px; fill: rgb(31, 119, 180); fill-opacity: 1;\"/><path class=\"point\" d=\"M3,0A3,3 0 1,1 0,-3A3,3 0 0,1 3,0Z\" transform=\"translate(397.0503411521526,195.38213575854502)\" style=\"opacity: 1; stroke-width: 0px; fill: rgb(31, 119, 180); fill-opacity: 1;\"/><path class=\"point\" d=\"M3,0A3,3 0 1,1 0,-3A3,3 0 0,1 3,0Z\" transform=\"translate(367.93979575323254,183.22968634381732)\" style=\"opacity: 1; stroke-width: 0px; fill: rgb(31, 119, 180); fill-opacity: 1;\"/><path class=\"point\" d=\"M3,0A3,3 0 1,1 0,-3A3,3 0 0,1 3,0Z\" transform=\"translate(391.16916013444,201.05137323053424)\" style=\"opacity: 1; stroke-width: 0px; fill: rgb(31, 119, 180); fill-opacity: 1;\"/><path class=\"point\" d=\"M3,0A3,3 0 1,1 0,-3A3,3 0 0,1 3,0Z\" transform=\"translate(131.73267981900392,83.90828570007)\" style=\"opacity: 1; stroke-width: 0px; fill: rgb(31, 119, 180); fill-opacity: 1;\"/><path class=\"point\" d=\"M3,0A3,3 0 1,1 0,-3A3,3 0 0,1 3,0Z\" transform=\"translate(138.24378838139208,46.67244757904075)\" style=\"opacity: 1; stroke-width: 0px; fill: rgb(31, 119, 180); fill-opacity: 1;\"/><path class=\"point\" d=\"M3,0A3,3 0 1,1 0,-3A3,3 0 0,1 3,0Z\" transform=\"translate(130.14999455846416,83.7754053307973)\" style=\"opacity: 1; stroke-width: 0px; fill: rgb(31, 119, 180); fill-opacity: 1;\"/><path class=\"point\" d=\"M3,0A3,3 0 1,1 0,-3A3,3 0 0,1 3,0Z\" transform=\"translate(161.41424767868205,105.43903531976912)\" style=\"opacity: 1; stroke-width: 0px; fill: rgb(31, 119, 180); fill-opacity: 1;\"/><path class=\"point\" d=\"M3,0A3,3 0 1,1 0,-3A3,3 0 0,1 3,0Z\" transform=\"translate(144.97668729464777,96.24091034960492)\" style=\"opacity: 1; stroke-width: 0px; fill: rgb(31, 119, 180); fill-opacity: 1;\"/><path class=\"point\" d=\"M3,0A3,3 0 1,1 0,-3A3,3 0 0,1 3,0Z\" transform=\"translate(152.3950276322992,71.674225321812)\" style=\"opacity: 1; stroke-width: 0px; fill: rgb(31, 119, 180); fill-opacity: 1;\"/><path class=\"point\" d=\"M3,0A3,3 0 1,1 0,-3A3,3 0 0,1 3,0Z\" transform=\"translate(140.97905554915457,44.99592534610599)\" style=\"opacity: 1; stroke-width: 0px; fill: rgb(31, 119, 180); fill-opacity: 1;\"/><path class=\"point\" d=\"M3,0A3,3 0 1,1 0,-3A3,3 0 0,1 3,0Z\" transform=\"translate(339.41810804216385,132.96554823605237)\" style=\"opacity: 1; stroke-width: 0px; fill: rgb(31, 119, 180); fill-opacity: 1;\"/><path class=\"point\" d=\"M3,0A3,3 0 1,1 0,-3A3,3 0 0,1 3,0Z\" transform=\"translate(338.46344822312045,133.77475984345722)\" style=\"opacity: 1; stroke-width: 0px; fill: rgb(31, 119, 180); fill-opacity: 1;\"/><path class=\"point\" d=\"M3,0A3,3 0 1,1 0,-3A3,3 0 0,1 3,0Z\" transform=\"translate(341.94029883886543,116.83755664468742)\" style=\"opacity: 1; stroke-width: 0px; fill: rgb(31, 119, 180); fill-opacity: 1;\"/><path class=\"point\" d=\"M3,0A3,3 0 1,1 0,-3A3,3 0 0,1 3,0Z\" transform=\"translate(343.3754691096004,116.54463944545836)\" style=\"opacity: 1; stroke-width: 0px; fill: rgb(31, 119, 180); fill-opacity: 1;\"/><path class=\"point\" d=\"M3,0A3,3 0 1,1 0,-3A3,3 0 0,1 3,0Z\" transform=\"translate(341.54769442121085,113.84470921153508)\" style=\"opacity: 1; stroke-width: 0px; fill: rgb(31, 119, 180); fill-opacity: 1;\"/><path class=\"point\" d=\"M3,0A3,3 0 1,1 0,-3A3,3 0 0,1 3,0Z\" transform=\"translate(341.7984255634949,114.364937705758)\" style=\"opacity: 1; stroke-width: 0px; fill: rgb(31, 119, 180); fill-opacity: 1;\"/><path class=\"point\" d=\"M3,0A3,3 0 1,1 0,-3A3,3 0 0,1 3,0Z\" transform=\"translate(342.01100023743857,116.00475411862931)\" style=\"opacity: 1; stroke-width: 0px; fill: rgb(31, 119, 180); fill-opacity: 1;\"/><path class=\"point\" d=\"M3,0A3,3 0 1,1 0,-3A3,3 0 0,1 3,0Z\" transform=\"translate(343.3383348173144,117.66413688884376)\" style=\"opacity: 1; stroke-width: 0px; fill: rgb(31, 119, 180); fill-opacity: 1;\"/><path class=\"point\" d=\"M3,0A3,3 0 1,1 0,-3A3,3 0 0,1 3,0Z\" transform=\"translate(341.075880640878,115.57420733977602)\" style=\"opacity: 1; stroke-width: 0px; fill: rgb(31, 119, 180); fill-opacity: 1;\"/><path class=\"point\" d=\"M3,0A3,3 0 1,1 0,-3A3,3 0 0,1 3,0Z\" transform=\"translate(340.60338928736456,113.92924590793854)\" style=\"opacity: 1; stroke-width: 0px; fill: rgb(31, 119, 180); fill-opacity: 1;\"/><path class=\"point\" d=\"M3,0A3,3 0 1,1 0,-3A3,3 0 0,1 3,0Z\" transform=\"translate(341.294253894845,115.74463158596393)\" style=\"opacity: 1; stroke-width: 0px; fill: rgb(31, 119, 180); fill-opacity: 1;\"/><path class=\"point\" d=\"M3,0A3,3 0 1,1 0,-3A3,3 0 0,1 3,0Z\" transform=\"translate(340.6176436248491,112.95095989722694)\" style=\"opacity: 1; stroke-width: 0px; fill: rgb(31, 119, 180); fill-opacity: 1;\"/><path class=\"point\" d=\"M3,0A3,3 0 1,1 0,-3A3,3 0 0,1 3,0Z\" transform=\"translate(341.0251712940849,112.09688031654099)\" style=\"opacity: 1; stroke-width: 0px; fill: rgb(31, 119, 180); fill-opacity: 1;\"/><path class=\"point\" d=\"M3,0A3,3 0 1,1 0,-3A3,3 0 0,1 3,0Z\" transform=\"translate(341.64507729330074,114.87486073326562)\" style=\"opacity: 1; stroke-width: 0px; fill: rgb(31, 119, 180); fill-opacity: 1;\"/><path class=\"point\" d=\"M3,0A3,3 0 1,1 0,-3A3,3 0 0,1 3,0Z\" transform=\"translate(338.70140780884475,116.08416383506636)\" style=\"opacity: 1; stroke-width: 0px; fill: rgb(31, 119, 180); fill-opacity: 1;\"/><path class=\"point\" d=\"M3,0A3,3 0 1,1 0,-3A3,3 0 0,1 3,0Z\" transform=\"translate(338.0907850737679,154.09076522238843)\" style=\"opacity: 1; stroke-width: 0px; fill: rgb(31, 119, 180); fill-opacity: 1;\"/><path class=\"point\" d=\"M3,0A3,3 0 1,1 0,-3A3,3 0 0,1 3,0Z\" transform=\"translate(323.87612773483676,144.58040272691306)\" style=\"opacity: 1; stroke-width: 0px; fill: rgb(31, 119, 180); fill-opacity: 1;\"/><path class=\"point\" d=\"M3,0A3,3 0 1,1 0,-3A3,3 0 0,1 3,0Z\" transform=\"translate(337.51323721285263,113.31203691587814)\" style=\"opacity: 1; stroke-width: 0px; fill: rgb(31, 119, 180); fill-opacity: 1;\"/><path class=\"point\" d=\"M3,0A3,3 0 1,1 0,-3A3,3 0 0,1 3,0Z\" transform=\"translate(337.3638012064953,116.05339905631632)\" style=\"opacity: 1; stroke-width: 0px; fill: rgb(31, 119, 180); fill-opacity: 1;\"/><path class=\"point\" d=\"M3,0A3,3 0 1,1 0,-3A3,3 0 0,1 3,0Z\" transform=\"translate(337.65293264455534,111.5441170556702)\" style=\"opacity: 1; stroke-width: 0px; fill: rgb(31, 119, 180); fill-opacity: 1;\"/><path class=\"point\" d=\"M3,0A3,3 0 1,1 0,-3A3,3 0 0,1 3,0Z\" transform=\"translate(333.3115140157929,129.3790602632132)\" style=\"opacity: 1; stroke-width: 0px; fill: rgb(31, 119, 180); fill-opacity: 1;\"/><path class=\"point\" d=\"M3,0A3,3 0 1,1 0,-3A3,3 0 0,1 3,0Z\" transform=\"translate(334.3534364048947,136.00649565619295)\" style=\"opacity: 1; stroke-width: 0px; fill: rgb(31, 119, 180); fill-opacity: 1;\"/><path class=\"point\" d=\"M3,0A3,3 0 1,1 0,-3A3,3 0 0,1 3,0Z\" transform=\"translate(325.6870970702895,148.59184330976882)\" style=\"opacity: 1; stroke-width: 0px; fill: rgb(31, 119, 180); fill-opacity: 1;\"/><path class=\"point\" d=\"M3,0A3,3 0 1,1 0,-3A3,3 0 0,1 3,0Z\" transform=\"translate(325.54816969288737,146.53624275848102)\" style=\"opacity: 1; stroke-width: 0px; fill: rgb(31, 119, 180); fill-opacity: 1;\"/><path class=\"point\" d=\"M3,0A3,3 0 1,1 0,-3A3,3 0 0,1 3,0Z\" transform=\"translate(325.72452581224985,148.54939915559828)\" style=\"opacity: 1; stroke-width: 0px; fill: rgb(31, 119, 180); fill-opacity: 1;\"/><path class=\"point\" d=\"M3,0A3,3 0 1,1 0,-3A3,3 0 0,1 3,0Z\" transform=\"translate(325.8904241816156,146.93350881492097)\" style=\"opacity: 1; stroke-width: 0px; fill: rgb(31, 119, 180); fill-opacity: 1;\"/><path class=\"point\" d=\"M3,0A3,3 0 1,1 0,-3A3,3 0 0,1 3,0Z\" transform=\"translate(328.6963916991598,127.87294323672938)\" style=\"opacity: 1; stroke-width: 0px; fill: rgb(31, 119, 180); fill-opacity: 1;\"/><path class=\"point\" d=\"M3,0A3,3 0 1,1 0,-3A3,3 0 0,1 3,0Z\" transform=\"translate(328.83229921555346,153.78503416342517)\" style=\"opacity: 1; stroke-width: 0px; fill: rgb(31, 119, 180); fill-opacity: 1;\"/><path class=\"point\" d=\"M3,0A3,3 0 1,1 0,-3A3,3 0 0,1 3,0Z\" transform=\"translate(321.1010303332393,119.95226583144427)\" style=\"opacity: 1; stroke-width: 0px; fill: rgb(31, 119, 180); fill-opacity: 1;\"/><path class=\"point\" d=\"M3,0A3,3 0 1,1 0,-3A3,3 0 0,1 3,0Z\" transform=\"translate(325.61970977960993,149.507093602437)\" style=\"opacity: 1; stroke-width: 0px; fill: rgb(31, 119, 180); fill-opacity: 1;\"/><path class=\"point\" d=\"M3,0A3,3 0 1,1 0,-3A3,3 0 0,1 3,0Z\" transform=\"translate(328.8362161263561,136.75602390192245)\" style=\"opacity: 1; stroke-width: 0px; fill: rgb(31, 119, 180); fill-opacity: 1;\"/><path class=\"point\" d=\"M3,0A3,3 0 1,1 0,-3A3,3 0 0,1 3,0Z\" transform=\"translate(339.1790525094777,118.55414712176122)\" style=\"opacity: 1; stroke-width: 0px; fill: rgb(31, 119, 180); fill-opacity: 1;\"/><path class=\"point\" d=\"M3,0A3,3 0 1,1 0,-3A3,3 0 0,1 3,0Z\" transform=\"translate(338.8751771361251,121.71844408362807)\" style=\"opacity: 1; stroke-width: 0px; fill: rgb(31, 119, 180); fill-opacity: 1;\"/><path class=\"point\" d=\"M3,0A3,3 0 1,1 0,-3A3,3 0 0,1 3,0Z\" transform=\"translate(331.3053684884656,111.5672809244785)\" style=\"opacity: 1; stroke-width: 0px; fill: rgb(31, 119, 180); fill-opacity: 1;\"/><path class=\"point\" d=\"M3,0A3,3 0 1,1 0,-3A3,3 0 0,1 3,0Z\" transform=\"translate(362.3389379748988,120.70503890870606)\" style=\"opacity: 1; stroke-width: 0px; fill: rgb(31, 119, 180); fill-opacity: 1;\"/><path class=\"point\" d=\"M3,0A3,3 0 1,1 0,-3A3,3 0 0,1 3,0Z\" transform=\"translate(358.3991371643526,140.31046012432944)\" style=\"opacity: 1; stroke-width: 0px; fill: rgb(31, 119, 180); fill-opacity: 1;\"/><path class=\"point\" d=\"M3,0A3,3 0 1,1 0,-3A3,3 0 0,1 3,0Z\" transform=\"translate(361.100635030148,148.72788746233937)\" style=\"opacity: 1; stroke-width: 0px; fill: rgb(31, 119, 180); fill-opacity: 1;\"/><path class=\"point\" d=\"M3,0A3,3 0 1,1 0,-3A3,3 0 0,1 3,0Z\" transform=\"translate(360.6117766608566,149.8717342909393)\" style=\"opacity: 1; stroke-width: 0px; fill: rgb(31, 119, 180); fill-opacity: 1;\"/><path class=\"point\" d=\"M3,0A3,3 0 1,1 0,-3A3,3 0 0,1 3,0Z\" transform=\"translate(361.2020566113588,130.0744461364614)\" style=\"opacity: 1; stroke-width: 0px; fill: rgb(31, 119, 180); fill-opacity: 1;\"/><path class=\"point\" d=\"M3,0A3,3 0 1,1 0,-3A3,3 0 0,1 3,0Z\" transform=\"translate(351.16982656582513,149.76614883491948)\" style=\"opacity: 1; stroke-width: 0px; fill: rgb(31, 119, 180); fill-opacity: 1;\"/><path class=\"point\" d=\"M3,0A3,3 0 1,1 0,-3A3,3 0 0,1 3,0Z\" transform=\"translate(355.1872182986928,115.70073488557364)\" style=\"opacity: 1; stroke-width: 0px; fill: rgb(31, 119, 180); fill-opacity: 1;\"/><path class=\"point\" d=\"M3,0A3,3 0 1,1 0,-3A3,3 0 0,1 3,0Z\" transform=\"translate(350.1159026361451,143.74548547619048)\" style=\"opacity: 1; stroke-width: 0px; fill: rgb(31, 119, 180); fill-opacity: 1;\"/><path class=\"point\" d=\"M3,0A3,3 0 1,1 0,-3A3,3 0 0,1 3,0Z\" transform=\"translate(357.2410093570873,132.9691074347677)\" style=\"opacity: 1; stroke-width: 0px; fill: rgb(31, 119, 180); fill-opacity: 1;\"/><path class=\"point\" d=\"M3,0A3,3 0 1,1 0,-3A3,3 0 0,1 3,0Z\" transform=\"translate(356.2063109207778,133.40919659937907)\" style=\"opacity: 1; stroke-width: 0px; fill: rgb(31, 119, 180); fill-opacity: 1;\"/><path class=\"point\" d=\"M3,0A3,3 0 1,1 0,-3A3,3 0 0,1 3,0Z\" transform=\"translate(360.37969116496345,132.12659167725775)\" style=\"opacity: 1; stroke-width: 0px; fill: rgb(31, 119, 180); fill-opacity: 1;\"/><path class=\"point\" d=\"M3,0A3,3 0 1,1 0,-3A3,3 0 0,1 3,0Z\" transform=\"translate(355.3801639663324,127.79746463391649)\" style=\"opacity: 1; stroke-width: 0px; fill: rgb(31, 119, 180); fill-opacity: 1;\"/><path class=\"point\" d=\"M3,0A3,3 0 1,1 0,-3A3,3 0 0,1 3,0Z\" transform=\"translate(344.15278202754644,117.00150244018073)\" style=\"opacity: 1; stroke-width: 0px; fill: rgb(31, 119, 180); fill-opacity: 1;\"/><path class=\"point\" d=\"M3,0A3,3 0 1,1 0,-3A3,3 0 0,1 3,0Z\" transform=\"translate(345.20944844959274,117.20657319138121)\" style=\"opacity: 1; stroke-width: 0px; fill: rgb(31, 119, 180); fill-opacity: 1;\"/><path class=\"point\" d=\"M3,0A3,3 0 1,1 0,-3A3,3 0 0,1 3,0Z\" transform=\"translate(344.47684909510406,117.61671639319457)\" style=\"opacity: 1; stroke-width: 0px; fill: rgb(31, 119, 180); fill-opacity: 1;\"/><path class=\"point\" d=\"M3,0A3,3 0 1,1 0,-3A3,3 0 0,1 3,0Z\" transform=\"translate(344.93160763990414,117.31624213958042)\" style=\"opacity: 1; stroke-width: 0px; fill: rgb(31, 119, 180); fill-opacity: 1;\"/><path class=\"point\" d=\"M3,0A3,3 0 1,1 0,-3A3,3 0 0,1 3,0Z\" transform=\"translate(344.1850814021482,116.81811233424293)\" style=\"opacity: 1; stroke-width: 0px; fill: rgb(31, 119, 180); fill-opacity: 1;\"/><path class=\"point\" d=\"M3,0A3,3 0 1,1 0,-3A3,3 0 0,1 3,0Z\" transform=\"translate(343.79258531702266,117.46097256318978)\" style=\"opacity: 1; stroke-width: 0px; fill: rgb(31, 119, 180); fill-opacity: 1;\"/><path class=\"point\" d=\"M3,0A3,3 0 1,1 0,-3A3,3 0 0,1 3,0Z\" transform=\"translate(348.2179738401171,115.88959027244482)\" style=\"opacity: 1; stroke-width: 0px; fill: rgb(31, 119, 180); fill-opacity: 1;\"/><path class=\"point\" d=\"M3,0A3,3 0 1,1 0,-3A3,3 0 0,1 3,0Z\" transform=\"translate(359.2631134626678,131.05069999612698)\" style=\"opacity: 1; stroke-width: 0px; fill: rgb(31, 119, 180); fill-opacity: 1;\"/><path class=\"point\" d=\"M3,0A3,3 0 1,1 0,-3A3,3 0 0,1 3,0Z\" transform=\"translate(355.7274153968615,135.3551288714873)\" style=\"opacity: 1; stroke-width: 0px; fill: rgb(31, 119, 180); fill-opacity: 1;\"/><path class=\"point\" d=\"M3,0A3,3 0 1,1 0,-3A3,3 0 0,1 3,0Z\" transform=\"translate(356.0579545441505,134.64157340704332)\" style=\"opacity: 1; stroke-width: 0px; fill: rgb(31, 119, 180); fill-opacity: 1;\"/><path class=\"point\" d=\"M3,0A3,3 0 1,1 0,-3A3,3 0 0,1 3,0Z\" transform=\"translate(355.31012839085366,134.94543768215664)\" style=\"opacity: 1; stroke-width: 0px; fill: rgb(31, 119, 180); fill-opacity: 1;\"/><path class=\"point\" d=\"M3,0A3,3 0 1,1 0,-3A3,3 0 0,1 3,0Z\" transform=\"translate(356.10584411233515,135.1727383991115)\" style=\"opacity: 1; stroke-width: 0px; fill: rgb(31, 119, 180); fill-opacity: 1;\"/><path class=\"point\" d=\"M3,0A3,3 0 1,1 0,-3A3,3 0 0,1 3,0Z\" transform=\"translate(355.9558348154511,134.88843904261773)\" style=\"opacity: 1; stroke-width: 0px; fill: rgb(31, 119, 180); fill-opacity: 1;\"/><path class=\"point\" d=\"M3,0A3,3 0 1,1 0,-3A3,3 0 0,1 3,0Z\" transform=\"translate(353.7205660549019,141.60018936258035)\" style=\"opacity: 1; stroke-width: 0px; fill: rgb(31, 119, 180); fill-opacity: 1;\"/><path class=\"point\" d=\"M3,0A3,3 0 1,1 0,-3A3,3 0 0,1 3,0Z\" transform=\"translate(345.9936790434295,117.02270778835668)\" style=\"opacity: 1; stroke-width: 0px; fill: rgb(31, 119, 180); fill-opacity: 1;\"/><path class=\"point\" d=\"M3,0A3,3 0 1,1 0,-3A3,3 0 0,1 3,0Z\" transform=\"translate(353.2993899191623,115.49143993284639)\" style=\"opacity: 1; stroke-width: 0px; fill: rgb(31, 119, 180); fill-opacity: 1;\"/><path class=\"point\" d=\"M3,0A3,3 0 1,1 0,-3A3,3 0 0,1 3,0Z\" transform=\"translate(350.96733883983717,152.09808498077803)\" style=\"opacity: 1; stroke-width: 0px; fill: rgb(31, 119, 180); fill-opacity: 1;\"/><path class=\"point\" d=\"M3,0A3,3 0 1,1 0,-3A3,3 0 0,1 3,0Z\" transform=\"translate(349.7645128693813,128.87407994516968)\" style=\"opacity: 1; stroke-width: 0px; fill: rgb(31, 119, 180); fill-opacity: 1;\"/><path class=\"point\" d=\"M3,0A3,3 0 1,1 0,-3A3,3 0 0,1 3,0Z\" transform=\"translate(346.81659787602797,154.4713902300532)\" style=\"opacity: 1; stroke-width: 0px; fill: rgb(31, 119, 180); fill-opacity: 1;\"/><path class=\"point\" d=\"M3,0A3,3 0 1,1 0,-3A3,3 0 0,1 3,0Z\" transform=\"translate(346.42611934618003,154.10532400537517)\" style=\"opacity: 1; stroke-width: 0px; fill: rgb(31, 119, 180); fill-opacity: 1;\"/><path class=\"point\" d=\"M3,0A3,3 0 1,1 0,-3A3,3 0 0,1 3,0Z\" transform=\"translate(346.4500525022725,138.9275646953413)\" style=\"opacity: 1; stroke-width: 0px; fill: rgb(31, 119, 180); fill-opacity: 1;\"/><path class=\"point\" d=\"M3,0A3,3 0 1,1 0,-3A3,3 0 0,1 3,0Z\" transform=\"translate(358.272804339722,120.3917537733252)\" style=\"opacity: 1; stroke-width: 0px; fill: rgb(31, 119, 180); fill-opacity: 1;\"/><path class=\"point\" d=\"M3,0A3,3 0 1,1 0,-3A3,3 0 0,1 3,0Z\" transform=\"translate(307.1403554048162,110.51232263327671)\" style=\"opacity: 1; stroke-width: 0px; fill: rgb(31, 119, 180); fill-opacity: 1;\"/><path class=\"point\" d=\"M3,0A3,3 0 1,1 0,-3A3,3 0 0,1 3,0Z\" transform=\"translate(323.2110615661582,116.66122560288966)\" style=\"opacity: 1; stroke-width: 0px; fill: rgb(31, 119, 180); fill-opacity: 1;\"/><path class=\"point\" d=\"M3,0A3,3 0 1,1 0,-3A3,3 0 0,1 3,0Z\" transform=\"translate(323.43689911816637,116.11686762883824)\" style=\"opacity: 1; stroke-width: 0px; fill: rgb(31, 119, 180); fill-opacity: 1;\"/><path class=\"point\" d=\"M3,0A3,3 0 1,1 0,-3A3,3 0 0,1 3,0Z\" transform=\"translate(313.59414685104196,118.88504437750254)\" style=\"opacity: 1; stroke-width: 0px; fill: rgb(31, 119, 180); fill-opacity: 1;\"/><path class=\"point\" d=\"M3,0A3,3 0 1,1 0,-3A3,3 0 0,1 3,0Z\" transform=\"translate(315.065039748374,131.705016121798)\" style=\"opacity: 1; stroke-width: 0px; fill: rgb(31, 119, 180); fill-opacity: 1;\"/><path class=\"point\" d=\"M3,0A3,3 0 1,1 0,-3A3,3 0 0,1 3,0Z\" transform=\"translate(312.05894246198795,115.68062797670746)\" style=\"opacity: 1; stroke-width: 0px; fill: rgb(31, 119, 180); fill-opacity: 1;\"/><path class=\"point\" d=\"M3,0A3,3 0 1,1 0,-3A3,3 0 0,1 3,0Z\" transform=\"translate(286.9834352822804,126.70072713770082)\" style=\"opacity: 1; stroke-width: 0px; fill: rgb(31, 119, 180); fill-opacity: 1;\"/><path class=\"point\" d=\"M3,0A3,3 0 1,1 0,-3A3,3 0 0,1 3,0Z\" transform=\"translate(317.00903816662617,121.34384870802324)\" style=\"opacity: 1; stroke-width: 0px; fill: rgb(31, 119, 180); fill-opacity: 1;\"/><path class=\"point\" d=\"M3,0A3,3 0 1,1 0,-3A3,3 0 0,1 3,0Z\" transform=\"translate(316.97642871018945,121.15615260538937)\" style=\"opacity: 1; stroke-width: 0px; fill: rgb(31, 119, 180); fill-opacity: 1;\"/><path class=\"point\" d=\"M3,0A3,3 0 1,1 0,-3A3,3 0 0,1 3,0Z\" transform=\"translate(317.0539063626231,121.28065927571691)\" style=\"opacity: 1; stroke-width: 0px; fill: rgb(31, 119, 180); fill-opacity: 1;\"/><path class=\"point\" d=\"M3,0A3,3 0 1,1 0,-3A3,3 0 0,1 3,0Z\" transform=\"translate(289.3551026614783,104.61603164898429)\" style=\"opacity: 1; stroke-width: 0px; fill: rgb(31, 119, 180); fill-opacity: 1;\"/><path class=\"point\" d=\"M3,0A3,3 0 1,1 0,-3A3,3 0 0,1 3,0Z\" transform=\"translate(297.49102730164316,120.0200457527518)\" style=\"opacity: 1; stroke-width: 0px; fill: rgb(31, 119, 180); fill-opacity: 1;\"/><path class=\"point\" d=\"M3,0A3,3 0 1,1 0,-3A3,3 0 0,1 3,0Z\" transform=\"translate(296.7007612411229,120.03554620686316)\" style=\"opacity: 1; stroke-width: 0px; fill: rgb(31, 119, 180); fill-opacity: 1;\"/><path class=\"point\" d=\"M3,0A3,3 0 1,1 0,-3A3,3 0 0,1 3,0Z\" transform=\"translate(280.50133893664207,123.712930689323)\" style=\"opacity: 1; stroke-width: 0px; fill: rgb(31, 119, 180); fill-opacity: 1;\"/><path class=\"point\" d=\"M3,0A3,3 0 1,1 0,-3A3,3 0 0,1 3,0Z\" transform=\"translate(320.5623184148584,119.82635596232188)\" style=\"opacity: 1; stroke-width: 0px; fill: rgb(31, 119, 180); fill-opacity: 1;\"/><path class=\"point\" d=\"M3,0A3,3 0 1,1 0,-3A3,3 0 0,1 3,0Z\" transform=\"translate(320.29802999881593,120.02537711133215)\" style=\"opacity: 1; stroke-width: 0px; fill: rgb(31, 119, 180); fill-opacity: 1;\"/><path class=\"point\" d=\"M3,0A3,3 0 1,1 0,-3A3,3 0 0,1 3,0Z\" transform=\"translate(310.22192553499633,128.90540067779847)\" style=\"opacity: 1; stroke-width: 0px; fill: rgb(31, 119, 180); fill-opacity: 1;\"/><path class=\"point\" d=\"M3,0A3,3 0 1,1 0,-3A3,3 0 0,1 3,0Z\" transform=\"translate(276.77430887795,111.05519922155833)\" style=\"opacity: 1; stroke-width: 0px; fill: rgb(31, 119, 180); fill-opacity: 1;\"/><path class=\"point\" d=\"M3,0A3,3 0 1,1 0,-3A3,3 0 0,1 3,0Z\" transform=\"translate(289.5438449747193,148.52773371368443)\" style=\"opacity: 1; stroke-width: 0px; fill: rgb(31, 119, 180); fill-opacity: 1;\"/><path class=\"point\" d=\"M3,0A3,3 0 1,1 0,-3A3,3 0 0,1 3,0Z\" transform=\"translate(283.88921036053347,160.5046314166354)\" style=\"opacity: 1; stroke-width: 0px; fill: rgb(31, 119, 180); fill-opacity: 1;\"/><path class=\"point\" d=\"M3,0A3,3 0 1,1 0,-3A3,3 0 0,1 3,0Z\" transform=\"translate(269.2422802921921,160.1859969448421)\" style=\"opacity: 1; stroke-width: 0px; fill: rgb(31, 119, 180); fill-opacity: 1;\"/><path class=\"point\" d=\"M3,0A3,3 0 1,1 0,-3A3,3 0 0,1 3,0Z\" transform=\"translate(281.97226729068933,146.68331574128263)\" style=\"opacity: 1; stroke-width: 0px; fill: rgb(31, 119, 180); fill-opacity: 1;\"/><path class=\"point\" d=\"M3,0A3,3 0 1,1 0,-3A3,3 0 0,1 3,0Z\" transform=\"translate(268.79850966666453,162.4913562199502)\" style=\"opacity: 1; stroke-width: 0px; fill: rgb(31, 119, 180); fill-opacity: 1;\"/><path class=\"point\" d=\"M3,0A3,3 0 1,1 0,-3A3,3 0 0,1 3,0Z\" transform=\"translate(250.1822151386334,148.7108107550156)\" style=\"opacity: 1; stroke-width: 0px; fill: rgb(31, 119, 180); fill-opacity: 1;\"/><path class=\"point\" d=\"M3,0A3,3 0 1,1 0,-3A3,3 0 0,1 3,0Z\" transform=\"translate(290.3717192812185,145.6562640795318)\" style=\"opacity: 1; stroke-width: 0px; fill: rgb(31, 119, 180); fill-opacity: 1;\"/><path class=\"point\" d=\"M3,0A3,3 0 1,1 0,-3A3,3 0 0,1 3,0Z\" transform=\"translate(378.5559010465194,165.09798417120703)\" style=\"opacity: 1; stroke-width: 0px; fill: rgb(31, 119, 180); fill-opacity: 1;\"/><path class=\"point\" d=\"M3,0A3,3 0 1,1 0,-3A3,3 0 0,1 3,0Z\" transform=\"translate(384.6765372210816,145.09600800617068)\" style=\"opacity: 1; stroke-width: 0px; fill: rgb(31, 119, 180); fill-opacity: 1;\"/><path class=\"point\" d=\"M3,0A3,3 0 1,1 0,-3A3,3 0 0,1 3,0Z\" transform=\"translate(369.6449087938547,141.25173989637238)\" style=\"opacity: 1; stroke-width: 0px; fill: rgb(31, 119, 180); fill-opacity: 1;\"/><path class=\"point\" d=\"M3,0A3,3 0 1,1 0,-3A3,3 0 0,1 3,0Z\" transform=\"translate(382.2710091558326,147.7169081532606)\" style=\"opacity: 1; stroke-width: 0px; fill: rgb(31, 119, 180); fill-opacity: 1;\"/><path class=\"point\" d=\"M3,0A3,3 0 1,1 0,-3A3,3 0 0,1 3,0Z\" transform=\"translate(349.462349143635,165.18496679893337)\" style=\"opacity: 1; stroke-width: 0px; fill: rgb(31, 119, 180); fill-opacity: 1;\"/><path class=\"point\" d=\"M3,0A3,3 0 1,1 0,-3A3,3 0 0,1 3,0Z\" transform=\"translate(350.6139796341698,156.11923596900436)\" style=\"opacity: 1; stroke-width: 0px; fill: rgb(31, 119, 180); fill-opacity: 1;\"/><path class=\"point\" d=\"M3,0A3,3 0 1,1 0,-3A3,3 0 0,1 3,0Z\" transform=\"translate(370.6507901025077,151.0231953892917)\" style=\"opacity: 1; stroke-width: 0px; fill: rgb(31, 119, 180); fill-opacity: 1;\"/><path class=\"point\" d=\"M3,0A3,3 0 1,1 0,-3A3,3 0 0,1 3,0Z\" transform=\"translate(360.37476201896067,155.91204344327383)\" style=\"opacity: 1; stroke-width: 0px; fill: rgb(31, 119, 180); fill-opacity: 1;\"/><path class=\"point\" d=\"M3,0A3,3 0 1,1 0,-3A3,3 0 0,1 3,0Z\" transform=\"translate(359.6282410417595,152.3239503850624)\" style=\"opacity: 1; stroke-width: 0px; fill: rgb(31, 119, 180); fill-opacity: 1;\"/><path class=\"point\" d=\"M3,0A3,3 0 1,1 0,-3A3,3 0 0,1 3,0Z\" transform=\"translate(361.3599726072218,150.40396487019848)\" style=\"opacity: 1; stroke-width: 0px; fill: rgb(31, 119, 180); fill-opacity: 1;\"/><path class=\"point\" d=\"M3,0A3,3 0 1,1 0,-3A3,3 0 0,1 3,0Z\" transform=\"translate(360.9478987827349,150.8119211473005)\" style=\"opacity: 1; stroke-width: 0px; fill: rgb(31, 119, 180); fill-opacity: 1;\"/><path class=\"point\" d=\"M3,0A3,3 0 1,1 0,-3A3,3 0 0,1 3,0Z\" transform=\"translate(362.0417309641215,150.80687297304996)\" style=\"opacity: 1; stroke-width: 0px; fill: rgb(31, 119, 180); fill-opacity: 1;\"/><path class=\"point\" d=\"M3,0A3,3 0 1,1 0,-3A3,3 0 0,1 3,0Z\" transform=\"translate(360.0026528931438,150.52193426686557)\" style=\"opacity: 1; stroke-width: 0px; fill: rgb(31, 119, 180); fill-opacity: 1;\"/><path class=\"point\" d=\"M3,0A3,3 0 1,1 0,-3A3,3 0 0,1 3,0Z\" transform=\"translate(339.3255060729576,164.5367173488038)\" style=\"opacity: 1; stroke-width: 0px; fill: rgb(31, 119, 180); fill-opacity: 1;\"/><path class=\"point\" d=\"M3,0A3,3 0 1,1 0,-3A3,3 0 0,1 3,0Z\" transform=\"translate(381.85409881990626,157.67378358965846)\" style=\"opacity: 1; stroke-width: 0px; fill: rgb(31, 119, 180); fill-opacity: 1;\"/><path class=\"point\" d=\"M3,0A3,3 0 1,1 0,-3A3,3 0 0,1 3,0Z\" transform=\"translate(386.91232903506074,154.90516837746742)\" style=\"opacity: 1; stroke-width: 0px; fill: rgb(31, 119, 180); fill-opacity: 1;\"/><path class=\"point\" d=\"M3,0A3,3 0 1,1 0,-3A3,3 0 0,1 3,0Z\" transform=\"translate(370.9411469379077,160.98693927400603)\" style=\"opacity: 1; stroke-width: 0px; fill: rgb(31, 119, 180); fill-opacity: 1;\"/><path class=\"point\" d=\"M3,0A3,3 0 1,1 0,-3A3,3 0 0,1 3,0Z\" transform=\"translate(358.1980900947519,162.9154307826762)\" style=\"opacity: 1; stroke-width: 0px; fill: rgb(31, 119, 180); fill-opacity: 1;\"/><path class=\"point\" d=\"M3,0A3,3 0 1,1 0,-3A3,3 0 0,1 3,0Z\" transform=\"translate(298.5160444240818,213.64837648373845)\" style=\"opacity: 1; stroke-width: 0px; fill: rgb(31, 119, 180); fill-opacity: 1;\"/><path class=\"point\" d=\"M3,0A3,3 0 1,1 0,-3A3,3 0 0,1 3,0Z\" transform=\"translate(300.9338237730844,236.49035404074596)\" style=\"opacity: 1; stroke-width: 0px; fill: rgb(31, 119, 180); fill-opacity: 1;\"/><path class=\"point\" d=\"M3,0A3,3 0 1,1 0,-3A3,3 0 0,1 3,0Z\" transform=\"translate(321.8500786970659,233.30692685308736)\" style=\"opacity: 1; stroke-width: 0px; fill: rgb(31, 119, 180); fill-opacity: 1;\"/><path class=\"point\" d=\"M3,0A3,3 0 1,1 0,-3A3,3 0 0,1 3,0Z\" transform=\"translate(322.9973310392804,235.72454003482045)\" style=\"opacity: 1; stroke-width: 0px; fill: rgb(31, 119, 180); fill-opacity: 1;\"/><path class=\"point\" d=\"M3,0A3,3 0 1,1 0,-3A3,3 0 0,1 3,0Z\" transform=\"translate(330.0215661932279,237.14331514310095)\" style=\"opacity: 1; stroke-width: 0px; fill: rgb(31, 119, 180); fill-opacity: 1;\"/><path class=\"point\" d=\"M3,0A3,3 0 1,1 0,-3A3,3 0 0,1 3,0Z\" transform=\"translate(331.54027432877865,238.48702520639398)\" style=\"opacity: 1; stroke-width: 0px; fill: rgb(31, 119, 180); fill-opacity: 1;\"/><path class=\"point\" d=\"M3,0A3,3 0 1,1 0,-3A3,3 0 0,1 3,0Z\" transform=\"translate(314.4058025543968,236.055415136345)\" style=\"opacity: 1; stroke-width: 0px; fill: rgb(31, 119, 180); fill-opacity: 1;\"/><path class=\"point\" d=\"M3,0A3,3 0 1,1 0,-3A3,3 0 0,1 3,0Z\" transform=\"translate(331.40664179055454,237.51970809413228)\" style=\"opacity: 1; stroke-width: 0px; fill: rgb(31, 119, 180); fill-opacity: 1;\"/><path class=\"point\" d=\"M3,0A3,3 0 1,1 0,-3A3,3 0 0,1 3,0Z\" transform=\"translate(313.40795298983966,212.77567864815512)\" style=\"opacity: 1; stroke-width: 0px; fill: rgb(31, 119, 180); fill-opacity: 1;\"/><path class=\"point\" d=\"M3,0A3,3 0 1,1 0,-3A3,3 0 0,1 3,0Z\" transform=\"translate(310.81641587418017,226.49200942436784)\" style=\"opacity: 1; stroke-width: 0px; fill: rgb(31, 119, 180); fill-opacity: 1;\"/><path class=\"point\" d=\"M3,0A3,3 0 1,1 0,-3A3,3 0 0,1 3,0Z\" transform=\"translate(332.6864996805098,237.9782600270209)\" style=\"opacity: 1; stroke-width: 0px; fill: rgb(31, 119, 180); fill-opacity: 1;\"/><path class=\"point\" d=\"M3,0A3,3 0 1,1 0,-3A3,3 0 0,1 3,0Z\" transform=\"translate(328.8275580539638,232.50181034737517)\" style=\"opacity: 1; stroke-width: 0px; fill: rgb(31, 119, 180); fill-opacity: 1;\"/><path class=\"point\" d=\"M3,0A3,3 0 1,1 0,-3A3,3 0 0,1 3,0Z\" transform=\"translate(321.5303864855921,232.9287906981786)\" style=\"opacity: 1; stroke-width: 0px; fill: rgb(31, 119, 180); fill-opacity: 1;\"/><path class=\"point\" d=\"M3,0A3,3 0 1,1 0,-3A3,3 0 0,1 3,0Z\" transform=\"translate(465.036936861733,69.52734928176744)\" style=\"opacity: 1; stroke-width: 0px; fill: rgb(31, 119, 180); fill-opacity: 1;\"/><path class=\"point\" d=\"M3,0A3,3 0 1,1 0,-3A3,3 0 0,1 3,0Z\" transform=\"translate(468.74534576654213,33.92940199196971)\" style=\"opacity: 1; stroke-width: 0px; fill: rgb(31, 119, 180); fill-opacity: 1;\"/><path class=\"point\" d=\"M3,0A3,3 0 1,1 0,-3A3,3 0 0,1 3,0Z\" transform=\"translate(472.5474910546262,39.72485555070813)\" style=\"opacity: 1; stroke-width: 0px; fill: rgb(31, 119, 180); fill-opacity: 1;\"/><path class=\"point\" d=\"M3,0A3,3 0 1,1 0,-3A3,3 0 0,1 3,0Z\" transform=\"translate(472.7435835066992,39.83605788115807)\" style=\"opacity: 1; stroke-width: 0px; fill: rgb(31, 119, 180); fill-opacity: 1;\"/><path class=\"point\" d=\"M3,0A3,3 0 1,1 0,-3A3,3 0 0,1 3,0Z\" transform=\"translate(465.8661151447147,73.65436441601196)\" style=\"opacity: 1; stroke-width: 0px; fill: rgb(31, 119, 180); fill-opacity: 1;\"/><path class=\"point\" d=\"M3,0A3,3 0 1,1 0,-3A3,3 0 0,1 3,0Z\" transform=\"translate(465.82438072013605,73.85399569149581)\" style=\"opacity: 1; stroke-width: 0px; fill: rgb(31, 119, 180); fill-opacity: 1;\"/><path class=\"point\" d=\"M3,0A3,3 0 1,1 0,-3A3,3 0 0,1 3,0Z\" transform=\"translate(477.8452877434265,62.7691075593051)\" style=\"opacity: 1; stroke-width: 0px; fill: rgb(31, 119, 180); fill-opacity: 1;\"/><path class=\"point\" d=\"M3,0A3,3 0 1,1 0,-3A3,3 0 0,1 3,0Z\" transform=\"translate(467.4127186054102,66.49972716298225)\" style=\"opacity: 1; stroke-width: 0px; fill: rgb(31, 119, 180); fill-opacity: 1;\"/><path class=\"point\" d=\"M3,0A3,3 0 1,1 0,-3A3,3 0 0,1 3,0Z\" transform=\"translate(461.46142111165875,65.62849232829075)\" style=\"opacity: 1; stroke-width: 0px; fill: rgb(31, 119, 180); fill-opacity: 1;\"/><path class=\"point\" d=\"M3,0A3,3 0 1,1 0,-3A3,3 0 0,1 3,0Z\" transform=\"translate(473.0230233992362,59.52291549938087)\" style=\"opacity: 1; stroke-width: 0px; fill: rgb(31, 119, 180); fill-opacity: 1;\"/><path class=\"point\" d=\"M3,0A3,3 0 1,1 0,-3A3,3 0 0,1 3,0Z\" transform=\"translate(429.23962712071796,126.92331753064855)\" style=\"opacity: 1; stroke-width: 0px; fill: rgb(31, 119, 180); fill-opacity: 1;\"/><path class=\"point\" d=\"M3,0A3,3 0 1,1 0,-3A3,3 0 0,1 3,0Z\" transform=\"translate(430.7640065142891,128.17531539089788)\" style=\"opacity: 1; stroke-width: 0px; fill: rgb(31, 119, 180); fill-opacity: 1;\"/><path class=\"point\" d=\"M3,0A3,3 0 1,1 0,-3A3,3 0 0,1 3,0Z\" transform=\"translate(434.56466735057563,123.25758266248363)\" style=\"opacity: 1; stroke-width: 0px; fill: rgb(31, 119, 180); fill-opacity: 1;\"/><path class=\"point\" d=\"M3,0A3,3 0 1,1 0,-3A3,3 0 0,1 3,0Z\" transform=\"translate(434.8460178430919,134.90299451951176)\" style=\"opacity: 1; stroke-width: 0px; fill: rgb(31, 119, 180); fill-opacity: 1;\"/><path class=\"point\" d=\"M3,0A3,3 0 1,1 0,-3A3,3 0 0,1 3,0Z\" transform=\"translate(410.6380333341103,127.95964537638457)\" style=\"opacity: 1; stroke-width: 0px; fill: rgb(31, 119, 180); fill-opacity: 1;\"/><path class=\"point\" d=\"M3,0A3,3 0 1,1 0,-3A3,3 0 0,1 3,0Z\" transform=\"translate(431.90764247586725,126.89420193348883)\" style=\"opacity: 1; stroke-width: 0px; fill: rgb(31, 119, 180); fill-opacity: 1;\"/><path class=\"point\" d=\"M3,0A3,3 0 1,1 0,-3A3,3 0 0,1 3,0Z\" transform=\"translate(428.27269849175934,130.44664397408155)\" style=\"opacity: 1; stroke-width: 0px; fill: rgb(31, 119, 180); fill-opacity: 1;\"/><path class=\"point\" d=\"M3,0A3,3 0 1,1 0,-3A3,3 0 0,1 3,0Z\" transform=\"translate(435.9370767719681,127.13908976797978)\" style=\"opacity: 1; stroke-width: 0px; fill: rgb(31, 119, 180); fill-opacity: 1;\"/><path class=\"point\" d=\"M3,0A3,3 0 1,1 0,-3A3,3 0 0,1 3,0Z\" transform=\"translate(426.3354818865947,131.14141655606284)\" style=\"opacity: 1; stroke-width: 0px; fill: rgb(31, 119, 180); fill-opacity: 1;\"/><path class=\"point\" d=\"M3,0A3,3 0 1,1 0,-3A3,3 0 0,1 3,0Z\" transform=\"translate(428.2063335935035,131.38040421564307)\" style=\"opacity: 1; stroke-width: 0px; fill: rgb(31, 119, 180); fill-opacity: 1;\"/><path class=\"point\" d=\"M3,0A3,3 0 1,1 0,-3A3,3 0 0,1 3,0Z\" transform=\"translate(420.7528201296526,127.54116657888619)\" style=\"opacity: 1; stroke-width: 0px; fill: rgb(31, 119, 180); fill-opacity: 1;\"/><path class=\"point\" d=\"M3,0A3,3 0 1,1 0,-3A3,3 0 0,1 3,0Z\" transform=\"translate(429.7984017974694,128.5131364482724)\" style=\"opacity: 1; stroke-width: 0px; fill: rgb(31, 119, 180); fill-opacity: 1;\"/><path class=\"point\" d=\"M3,0A3,3 0 1,1 0,-3A3,3 0 0,1 3,0Z\" transform=\"translate(447.70607219624264,91.33626410005252)\" style=\"opacity: 1; stroke-width: 0px; fill: rgb(31, 119, 180); fill-opacity: 1;\"/><path class=\"point\" d=\"M3,0A3,3 0 1,1 0,-3A3,3 0 0,1 3,0Z\" transform=\"translate(448.03173313363817,88.62451740520055)\" style=\"opacity: 1; stroke-width: 0px; fill: rgb(31, 119, 180); fill-opacity: 1;\"/><path class=\"point\" d=\"M3,0A3,3 0 1,1 0,-3A3,3 0 0,1 3,0Z\" transform=\"translate(464.68023494259415,95.09478380277267)\" style=\"opacity: 1; stroke-width: 0px; fill: rgb(31, 119, 180); fill-opacity: 1;\"/><path class=\"point\" d=\"M3,0A3,3 0 1,1 0,-3A3,3 0 0,1 3,0Z\" transform=\"translate(464.02185210430343,86.9096848254161)\" style=\"opacity: 1; stroke-width: 0px; fill: rgb(31, 119, 180); fill-opacity: 1;\"/><path class=\"point\" d=\"M3,0A3,3 0 1,1 0,-3A3,3 0 0,1 3,0Z\" transform=\"translate(462.29143919598596,84.23779153699564)\" style=\"opacity: 1; stroke-width: 0px; fill: rgb(31, 119, 180); fill-opacity: 1;\"/><path class=\"point\" d=\"M3,0A3,3 0 1,1 0,-3A3,3 0 0,1 3,0Z\" transform=\"translate(451.97394683147877,88.66101210509231)\" style=\"opacity: 1; stroke-width: 0px; fill: rgb(31, 119, 180); fill-opacity: 1;\"/><path class=\"point\" d=\"M3,0A3,3 0 1,1 0,-3A3,3 0 0,1 3,0Z\" transform=\"translate(453.3016803134923,92.6678669245722)\" style=\"opacity: 1; stroke-width: 0px; fill: rgb(31, 119, 180); fill-opacity: 1;\"/><path class=\"point\" d=\"M3,0A3,3 0 1,1 0,-3A3,3 0 0,1 3,0Z\" transform=\"translate(453.2735847731296,93.45756533223937)\" style=\"opacity: 1; stroke-width: 0px; fill: rgb(31, 119, 180); fill-opacity: 1;\"/><path class=\"point\" d=\"M3,0A3,3 0 1,1 0,-3A3,3 0 0,1 3,0Z\" transform=\"translate(454.6418497595097,91.2296747037289)\" style=\"opacity: 1; stroke-width: 0px; fill: rgb(31, 119, 180); fill-opacity: 1;\"/><path class=\"point\" d=\"M3,0A3,3 0 1,1 0,-3A3,3 0 0,1 3,0Z\" transform=\"translate(461.24154126478015,86.19851956523473)\" style=\"opacity: 1; stroke-width: 0px; fill: rgb(31, 119, 180); fill-opacity: 1;\"/><path class=\"point\" d=\"M3,0A3,3 0 1,1 0,-3A3,3 0 0,1 3,0Z\" transform=\"translate(464.6974808418351,89.20118867259731)\" style=\"opacity: 1; stroke-width: 0px; fill: rgb(31, 119, 180); fill-opacity: 1;\"/><path class=\"point\" d=\"M3,0A3,3 0 1,1 0,-3A3,3 0 0,1 3,0Z\" transform=\"translate(464.81390229917014,91.03680304089204)\" style=\"opacity: 1; stroke-width: 0px; fill: rgb(31, 119, 180); fill-opacity: 1;\"/><path class=\"point\" d=\"M3,0A3,3 0 1,1 0,-3A3,3 0 0,1 3,0Z\" transform=\"translate(463.44623373843524,88.39699504588634)\" style=\"opacity: 1; stroke-width: 0px; fill: rgb(31, 119, 180); fill-opacity: 1;\"/><path class=\"point\" d=\"M3,0A3,3 0 1,1 0,-3A3,3 0 0,1 3,0Z\" transform=\"translate(463.60258293583274,88.5602967674862)\" style=\"opacity: 1; stroke-width: 0px; fill: rgb(31, 119, 180); fill-opacity: 1;\"/><path class=\"point\" d=\"M3,0A3,3 0 1,1 0,-3A3,3 0 0,1 3,0Z\" transform=\"translate(463.8053768862926,88.55155592400484)\" style=\"opacity: 1; stroke-width: 0px; fill: rgb(31, 119, 180); fill-opacity: 1;\"/><path class=\"point\" d=\"M3,0A3,3 0 1,1 0,-3A3,3 0 0,1 3,0Z\" transform=\"translate(463.8564228848013,87.88051929671656)\" style=\"opacity: 1; stroke-width: 0px; fill: rgb(31, 119, 180); fill-opacity: 1;\"/><path class=\"point\" d=\"M3,0A3,3 0 1,1 0,-3A3,3 0 0,1 3,0Z\" transform=\"translate(458.63489425391276,90.56721125414771)\" style=\"opacity: 1; stroke-width: 0px; fill: rgb(31, 119, 180); fill-opacity: 1;\"/><path class=\"point\" d=\"M3,0A3,3 0 1,1 0,-3A3,3 0 0,1 3,0Z\" transform=\"translate(352.66082421916917,104.53686253869773)\" style=\"opacity: 1; stroke-width: 0px; fill: rgb(31, 119, 180); fill-opacity: 1;\"/><path class=\"point\" d=\"M3,0A3,3 0 1,1 0,-3A3,3 0 0,1 3,0Z\" transform=\"translate(368.2540951458019,94.46098157869955)\" style=\"opacity: 1; stroke-width: 0px; fill: rgb(31, 119, 180); fill-opacity: 1;\"/><path class=\"point\" d=\"M3,0A3,3 0 1,1 0,-3A3,3 0 0,1 3,0Z\" transform=\"translate(370.5505581521037,99.56363142960578)\" style=\"opacity: 1; stroke-width: 0px; fill: rgb(31, 119, 180); fill-opacity: 1;\"/><path class=\"point\" d=\"M3,0A3,3 0 1,1 0,-3A3,3 0 0,1 3,0Z\" transform=\"translate(364.358264665979,103.28715695450859)\" style=\"opacity: 1; stroke-width: 0px; fill: rgb(31, 119, 180); fill-opacity: 1;\"/><path class=\"point\" d=\"M3,0A3,3 0 1,1 0,-3A3,3 0 0,1 3,0Z\" transform=\"translate(357.6856815152676,109.03638098484481)\" style=\"opacity: 1; stroke-width: 0px; fill: rgb(31, 119, 180); fill-opacity: 1;\"/><path class=\"point\" d=\"M3,0A3,3 0 1,1 0,-3A3,3 0 0,1 3,0Z\" transform=\"translate(355.9410847263023,101.96243798412104)\" style=\"opacity: 1; stroke-width: 0px; fill: rgb(31, 119, 180); fill-opacity: 1;\"/><path class=\"point\" d=\"M3,0A3,3 0 1,1 0,-3A3,3 0 0,1 3,0Z\" transform=\"translate(369.88600752040463,110.49659634325792)\" style=\"opacity: 1; stroke-width: 0px; fill: rgb(31, 119, 180); fill-opacity: 1;\"/><path class=\"point\" d=\"M3,0A3,3 0 1,1 0,-3A3,3 0 0,1 3,0Z\" transform=\"translate(377.41637157288886,101.8939897386204)\" style=\"opacity: 1; stroke-width: 0px; fill: rgb(31, 119, 180); fill-opacity: 1;\"/><path class=\"point\" d=\"M3,0A3,3 0 1,1 0,-3A3,3 0 0,1 3,0Z\" transform=\"translate(350.35595154871163,88.97390357683156)\" style=\"opacity: 1; stroke-width: 0px; fill: rgb(31, 119, 180); fill-opacity: 1;\"/><path class=\"point\" d=\"M3,0A3,3 0 1,1 0,-3A3,3 0 0,1 3,0Z\" transform=\"translate(360.0893810961713,87.86470598202004)\" style=\"opacity: 1; stroke-width: 0px; fill: rgb(31, 119, 180); fill-opacity: 1;\"/><path class=\"point\" d=\"M3,0A3,3 0 1,1 0,-3A3,3 0 0,1 3,0Z\" transform=\"translate(374.91986211664033,105.00850018875911)\" style=\"opacity: 1; stroke-width: 0px; fill: rgb(31, 119, 180); fill-opacity: 1;\"/><path class=\"point\" d=\"M3,0A3,3 0 1,1 0,-3A3,3 0 0,1 3,0Z\" transform=\"translate(354.70523679126404,103.01865227875646)\" style=\"opacity: 1; stroke-width: 0px; fill: rgb(31, 119, 180); fill-opacity: 1;\"/><path class=\"point\" d=\"M3,0A3,3 0 1,1 0,-3A3,3 0 0,1 3,0Z\" transform=\"translate(379.5722634846524,99.29665596430061)\" style=\"opacity: 1; stroke-width: 0px; fill: rgb(31, 119, 180); fill-opacity: 1;\"/><path class=\"point\" d=\"M3,0A3,3 0 1,1 0,-3A3,3 0 0,1 3,0Z\" transform=\"translate(350.3380110448435,68.7102805744347)\" style=\"opacity: 1; stroke-width: 0px; fill: rgb(31, 119, 180); fill-opacity: 1;\"/><path class=\"point\" d=\"M3,0A3,3 0 1,1 0,-3A3,3 0 0,1 3,0Z\" transform=\"translate(372.1407994806186,107.67624023985962)\" style=\"opacity: 1; stroke-width: 0px; fill: rgb(31, 119, 180); fill-opacity: 1;\"/><path class=\"point\" d=\"M3,0A3,3 0 1,1 0,-3A3,3 0 0,1 3,0Z\" transform=\"translate(375.0571704412531,107.41078858872163)\" style=\"opacity: 1; stroke-width: 0px; fill: rgb(31, 119, 180); fill-opacity: 1;\"/><path class=\"point\" d=\"M3,0A3,3 0 1,1 0,-3A3,3 0 0,1 3,0Z\" transform=\"translate(375.7076753488805,106.55636505216029)\" style=\"opacity: 1; stroke-width: 0px; fill: rgb(31, 119, 180); fill-opacity: 1;\"/><path class=\"point\" d=\"M3,0A3,3 0 1,1 0,-3A3,3 0 0,1 3,0Z\" transform=\"translate(376.3162003433112,105.15042103679014)\" style=\"opacity: 1; stroke-width: 0px; fill: rgb(31, 119, 180); fill-opacity: 1;\"/><path class=\"point\" d=\"M3,0A3,3 0 1,1 0,-3A3,3 0 0,1 3,0Z\" transform=\"translate(375.3898739258942,106.55951733216676)\" style=\"opacity: 1; stroke-width: 0px; fill: rgb(31, 119, 180); fill-opacity: 1;\"/><path class=\"point\" d=\"M3,0A3,3 0 1,1 0,-3A3,3 0 0,1 3,0Z\" transform=\"translate(374.41242487948,105.8727846699278)\" style=\"opacity: 1; stroke-width: 0px; fill: rgb(31, 119, 180); fill-opacity: 1;\"/><path class=\"point\" d=\"M3,0A3,3 0 1,1 0,-3A3,3 0 0,1 3,0Z\" transform=\"translate(375.80262818440633,106.44660597265664)\" style=\"opacity: 1; stroke-width: 0px; fill: rgb(31, 119, 180); fill-opacity: 1;\"/><path class=\"point\" d=\"M3,0A3,3 0 1,1 0,-3A3,3 0 0,1 3,0Z\" transform=\"translate(375.547840662128,106.65007093370451)\" style=\"opacity: 1; stroke-width: 0px; fill: rgb(31, 119, 180); fill-opacity: 1;\"/><path class=\"point\" d=\"M3,0A3,3 0 1,1 0,-3A3,3 0 0,1 3,0Z\" transform=\"translate(375.7174658855144,106.45906467520689)\" style=\"opacity: 1; stroke-width: 0px; fill: rgb(31, 119, 180); fill-opacity: 1;\"/><path class=\"point\" d=\"M3,0A3,3 0 1,1 0,-3A3,3 0 0,1 3,0Z\" transform=\"translate(376.52572868447925,105.55984253411663)\" style=\"opacity: 1; stroke-width: 0px; fill: rgb(31, 119, 180); fill-opacity: 1;\"/><path class=\"point\" d=\"M3,0A3,3 0 1,1 0,-3A3,3 0 0,1 3,0Z\" transform=\"translate(299.71457799769377,83.84856439902558)\" style=\"opacity: 1; stroke-width: 0px; fill: rgb(31, 119, 180); fill-opacity: 1;\"/><path class=\"point\" d=\"M3,0A3,3 0 1,1 0,-3A3,3 0 0,1 3,0Z\" transform=\"translate(280.78706780157944,66.74275947698061)\" style=\"opacity: 1; stroke-width: 0px; fill: rgb(31, 119, 180); fill-opacity: 1;\"/><path class=\"point\" d=\"M3,0A3,3 0 1,1 0,-3A3,3 0 0,1 3,0Z\" transform=\"translate(286.3848016258999,56.338337904306286)\" style=\"opacity: 1; stroke-width: 0px; fill: rgb(31, 119, 180); fill-opacity: 1;\"/><path class=\"point\" d=\"M3,0A3,3 0 1,1 0,-3A3,3 0 0,1 3,0Z\" transform=\"translate(304.1098274471937,67.69440676433555)\" style=\"opacity: 1; stroke-width: 0px; fill: rgb(31, 119, 180); fill-opacity: 1;\"/><path class=\"point\" d=\"M3,0A3,3 0 1,1 0,-3A3,3 0 0,1 3,0Z\" transform=\"translate(289.39550849130876,61.28550911291501)\" style=\"opacity: 1; stroke-width: 0px; fill: rgb(31, 119, 180); fill-opacity: 1;\"/><path class=\"point\" d=\"M3,0A3,3 0 1,1 0,-3A3,3 0 0,1 3,0Z\" transform=\"translate(322.9711356753857,53.98901732403357)\" style=\"opacity: 1; stroke-width: 0px; fill: rgb(31, 119, 180); fill-opacity: 1;\"/><path class=\"point\" d=\"M3,0A3,3 0 1,1 0,-3A3,3 0 0,1 3,0Z\" transform=\"translate(292.8552986970866,71.22461734629303)\" style=\"opacity: 1; stroke-width: 0px; fill: rgb(31, 119, 180); fill-opacity: 1;\"/><path class=\"point\" d=\"M3,0A3,3 0 1,1 0,-3A3,3 0 0,1 3,0Z\" transform=\"translate(299.62049507871086,87.9171452661908)\" style=\"opacity: 1; stroke-width: 0px; fill: rgb(31, 119, 180); fill-opacity: 1;\"/><path class=\"point\" d=\"M3,0A3,3 0 1,1 0,-3A3,3 0 0,1 3,0Z\" transform=\"translate(299.28015525274884,88.25646064709366)\" style=\"opacity: 1; stroke-width: 0px; fill: rgb(31, 119, 180); fill-opacity: 1;\"/><path class=\"point\" d=\"M3,0A3,3 0 1,1 0,-3A3,3 0 0,1 3,0Z\" transform=\"translate(299.427683469754,85.61260073367583)\" style=\"opacity: 1; stroke-width: 0px; fill: rgb(31, 119, 180); fill-opacity: 1;\"/><path class=\"point\" d=\"M3,0A3,3 0 1,1 0,-3A3,3 0 0,1 3,0Z\" transform=\"translate(299.40630921115616,85.73116693143044)\" style=\"opacity: 1; stroke-width: 0px; fill: rgb(31, 119, 180); fill-opacity: 1;\"/><path class=\"point\" d=\"M3,0A3,3 0 1,1 0,-3A3,3 0 0,1 3,0Z\" transform=\"translate(298.7980027879885,85.80557972630811)\" style=\"opacity: 1; stroke-width: 0px; fill: rgb(31, 119, 180); fill-opacity: 1;\"/><path class=\"point\" d=\"M3,0A3,3 0 1,1 0,-3A3,3 0 0,1 3,0Z\" transform=\"translate(310.62044748444663,54.92930868416465)\" style=\"opacity: 1; stroke-width: 0px; fill: rgb(31, 119, 180); fill-opacity: 1;\"/><path class=\"point\" d=\"M3,0A3,3 0 1,1 0,-3A3,3 0 0,1 3,0Z\" transform=\"translate(281.03206546933035,91.20743406852881)\" style=\"opacity: 1; stroke-width: 0px; fill: rgb(31, 119, 180); fill-opacity: 1;\"/><path class=\"point\" d=\"M3,0A3,3 0 1,1 0,-3A3,3 0 0,1 3,0Z\" transform=\"translate(305.5701664297738,95.28291785069854)\" style=\"opacity: 1; stroke-width: 0px; fill: rgb(31, 119, 180); fill-opacity: 1;\"/><path class=\"point\" d=\"M3,0A3,3 0 1,1 0,-3A3,3 0 0,1 3,0Z\" transform=\"translate(300.55561187556617,85.72697681452075)\" style=\"opacity: 1; stroke-width: 0px; fill: rgb(31, 119, 180); fill-opacity: 1;\"/><path class=\"point\" d=\"M3,0A3,3 0 1,1 0,-3A3,3 0 0,1 3,0Z\" transform=\"translate(301.0009033837557,85.6249313164675)\" style=\"opacity: 1; stroke-width: 0px; fill: rgb(31, 119, 180); fill-opacity: 1;\"/><path class=\"point\" d=\"M3,0A3,3 0 1,1 0,-3A3,3 0 0,1 3,0Z\" transform=\"translate(303.6396173507962,59.517309276509195)\" style=\"opacity: 1; stroke-width: 0px; fill: rgb(31, 119, 180); fill-opacity: 1;\"/><path class=\"point\" d=\"M3,0A3,3 0 1,1 0,-3A3,3 0 0,1 3,0Z\" transform=\"translate(307.0185554027124,66.52147858626842)\" style=\"opacity: 1; stroke-width: 0px; fill: rgb(31, 119, 180); fill-opacity: 1;\"/><path class=\"point\" d=\"M3,0A3,3 0 1,1 0,-3A3,3 0 0,1 3,0Z\" transform=\"translate(306.51421970923167,67.29806814616)\" style=\"opacity: 1; stroke-width: 0px; fill: rgb(31, 119, 180); fill-opacity: 1;\"/><path class=\"point\" d=\"M3,0A3,3 0 1,1 0,-3A3,3 0 0,1 3,0Z\" transform=\"translate(297.62334140287766,87.43257207894771)\" style=\"opacity: 1; stroke-width: 0px; fill: rgb(31, 119, 180); fill-opacity: 1;\"/><path class=\"point\" d=\"M3,0A3,3 0 1,1 0,-3A3,3 0 0,1 3,0Z\" transform=\"translate(293.00198827447423,79.82050060466793)\" style=\"opacity: 1; stroke-width: 0px; fill: rgb(31, 119, 180); fill-opacity: 1;\"/><path class=\"point\" d=\"M3,0A3,3 0 1,1 0,-3A3,3 0 0,1 3,0Z\" transform=\"translate(302.7897977116414,84.86170121002897)\" style=\"opacity: 1; stroke-width: 0px; fill: rgb(31, 119, 180); fill-opacity: 1;\"/><path class=\"point\" d=\"M3,0A3,3 0 1,1 0,-3A3,3 0 0,1 3,0Z\" transform=\"translate(302.8505037141213,84.93479931022665)\" style=\"opacity: 1; stroke-width: 0px; fill: rgb(31, 119, 180); fill-opacity: 1;\"/><path class=\"point\" d=\"M3,0A3,3 0 1,1 0,-3A3,3 0 0,1 3,0Z\" transform=\"translate(296.39127396541204,83.2106505549134)\" style=\"opacity: 1; stroke-width: 0px; fill: rgb(31, 119, 180); fill-opacity: 1;\"/><path class=\"point\" d=\"M3,0A3,3 0 1,1 0,-3A3,3 0 0,1 3,0Z\" transform=\"translate(323.87584923870503,199.55752976828842)\" style=\"opacity: 1; stroke-width: 0px; fill: rgb(31, 119, 180); fill-opacity: 1;\"/><path class=\"point\" d=\"M3,0A3,3 0 1,1 0,-3A3,3 0 0,1 3,0Z\" transform=\"translate(329.4337394654503,188.23750604542028)\" style=\"opacity: 1; stroke-width: 0px; fill: rgb(31, 119, 180); fill-opacity: 1;\"/><path class=\"point\" d=\"M3,0A3,3 0 1,1 0,-3A3,3 0 0,1 3,0Z\" transform=\"translate(337.74408514305804,223.54175433316175)\" style=\"opacity: 1; stroke-width: 0px; fill: rgb(31, 119, 180); fill-opacity: 1;\"/><path class=\"point\" d=\"M3,0A3,3 0 1,1 0,-3A3,3 0 0,1 3,0Z\" transform=\"translate(337.52930946101105,234.00745167800488)\" style=\"opacity: 1; stroke-width: 0px; fill: rgb(31, 119, 180); fill-opacity: 1;\"/><path class=\"point\" d=\"M3,0A3,3 0 1,1 0,-3A3,3 0 0,1 3,0Z\" transform=\"translate(340.4876879515308,232.88204776162394)\" style=\"opacity: 1; stroke-width: 0px; fill: rgb(31, 119, 180); fill-opacity: 1;\"/><path class=\"point\" d=\"M3,0A3,3 0 1,1 0,-3A3,3 0 0,1 3,0Z\" transform=\"translate(329.3847299391351,213.8044566332)\" style=\"opacity: 1; stroke-width: 0px; fill: rgb(31, 119, 180); fill-opacity: 1;\"/><path class=\"point\" d=\"M3,0A3,3 0 1,1 0,-3A3,3 0 0,1 3,0Z\" transform=\"translate(329.0075698802309,213.64717408998797)\" style=\"opacity: 1; stroke-width: 0px; fill: rgb(31, 119, 180); fill-opacity: 1;\"/><path class=\"point\" d=\"M3,0A3,3 0 1,1 0,-3A3,3 0 0,1 3,0Z\" transform=\"translate(344.99903118380337,232.662651330916)\" style=\"opacity: 1; stroke-width: 0px; fill: rgb(31, 119, 180); fill-opacity: 1;\"/><path class=\"point\" d=\"M3,0A3,3 0 1,1 0,-3A3,3 0 0,1 3,0Z\" transform=\"translate(288.55309162957326,139.27170912902199)\" style=\"opacity: 1; stroke-width: 0px; fill: rgb(31, 119, 180); fill-opacity: 1;\"/><path class=\"point\" d=\"M3,0A3,3 0 1,1 0,-3A3,3 0 0,1 3,0Z\" transform=\"translate(290.86220535738255,149.31975067417108)\" style=\"opacity: 1; stroke-width: 0px; fill: rgb(31, 119, 180); fill-opacity: 1;\"/><path class=\"point\" d=\"M3,0A3,3 0 1,1 0,-3A3,3 0 0,1 3,0Z\" transform=\"translate(295.36527856106613,160.10786139492586)\" style=\"opacity: 1; stroke-width: 0px; fill: rgb(31, 119, 180); fill-opacity: 1;\"/><path class=\"point\" d=\"M3,0A3,3 0 1,1 0,-3A3,3 0 0,1 3,0Z\" transform=\"translate(292.3588946958817,143.71645106827657)\" style=\"opacity: 1; stroke-width: 0px; fill: rgb(31, 119, 180); fill-opacity: 1;\"/><path class=\"point\" d=\"M3,0A3,3 0 1,1 0,-3A3,3 0 0,1 3,0Z\" transform=\"translate(301.34592666415716,164.5284459550037)\" style=\"opacity: 1; stroke-width: 0px; fill: rgb(31, 119, 180); fill-opacity: 1;\"/><path class=\"point\" d=\"M3,0A3,3 0 1,1 0,-3A3,3 0 0,1 3,0Z\" transform=\"translate(290.8799111920624,145.77742867546823)\" style=\"opacity: 1; stroke-width: 0px; fill: rgb(31, 119, 180); fill-opacity: 1;\"/><path class=\"point\" d=\"M3,0A3,3 0 1,1 0,-3A3,3 0 0,1 3,0Z\" transform=\"translate(291.82901113626394,146.34530783906524)\" style=\"opacity: 1; stroke-width: 0px; fill: rgb(31, 119, 180); fill-opacity: 1;\"/><path class=\"point\" d=\"M3,0A3,3 0 1,1 0,-3A3,3 0 0,1 3,0Z\" transform=\"translate(323.86996705988054,151.29242706304336)\" style=\"opacity: 1; stroke-width: 0px; fill: rgb(31, 119, 180); fill-opacity: 1;\"/><path class=\"point\" d=\"M3,0A3,3 0 1,1 0,-3A3,3 0 0,1 3,0Z\" transform=\"translate(324.10580099678805,149.2049268235777)\" style=\"opacity: 1; stroke-width: 0px; fill: rgb(31, 119, 180); fill-opacity: 1;\"/><path class=\"point\" d=\"M3,0A3,3 0 1,1 0,-3A3,3 0 0,1 3,0Z\" transform=\"translate(324.8521742228337,150.26842422918833)\" style=\"opacity: 1; stroke-width: 0px; fill: rgb(31, 119, 180); fill-opacity: 1;\"/><path class=\"point\" d=\"M3,0A3,3 0 1,1 0,-3A3,3 0 0,1 3,0Z\" transform=\"translate(325.2945657768807,149.07050007621808)\" style=\"opacity: 1; stroke-width: 0px; fill: rgb(31, 119, 180); fill-opacity: 1;\"/><path class=\"point\" d=\"M3,0A3,3 0 1,1 0,-3A3,3 0 0,1 3,0Z\" transform=\"translate(325.3610766095644,149.06591785821263)\" style=\"opacity: 1; stroke-width: 0px; fill: rgb(31, 119, 180); fill-opacity: 1;\"/><path class=\"point\" d=\"M3,0A3,3 0 1,1 0,-3A3,3 0 0,1 3,0Z\" transform=\"translate(324.66043521839833,149.36902793855478)\" style=\"opacity: 1; stroke-width: 0px; fill: rgb(31, 119, 180); fill-opacity: 1;\"/><path class=\"point\" d=\"M3,0A3,3 0 1,1 0,-3A3,3 0 0,1 3,0Z\" transform=\"translate(186.38313789434892,58.13530598434198)\" style=\"opacity: 1; stroke-width: 0px; fill: rgb(31, 119, 180); fill-opacity: 1;\"/><path class=\"point\" d=\"M3,0A3,3 0 1,1 0,-3A3,3 0 0,1 3,0Z\" transform=\"translate(156.42026554759371,39.64604583956162)\" style=\"opacity: 1; stroke-width: 0px; fill: rgb(31, 119, 180); fill-opacity: 1;\"/><path class=\"point\" d=\"M3,0A3,3 0 1,1 0,-3A3,3 0 0,1 3,0Z\" transform=\"translate(171.29804772609197,80.41164493560359)\" style=\"opacity: 1; stroke-width: 0px; fill: rgb(31, 119, 180); fill-opacity: 1;\"/><path class=\"point\" d=\"M3,0A3,3 0 1,1 0,-3A3,3 0 0,1 3,0Z\" transform=\"translate(168.63847258805743,57.39287206309683)\" style=\"opacity: 1; stroke-width: 0px; fill: rgb(31, 119, 180); fill-opacity: 1;\"/><path class=\"point\" d=\"M3,0A3,3 0 1,1 0,-3A3,3 0 0,1 3,0Z\" transform=\"translate(168.13447180058157,59.276699070755285)\" style=\"opacity: 1; stroke-width: 0px; fill: rgb(31, 119, 180); fill-opacity: 1;\"/><path class=\"point\" d=\"M3,0A3,3 0 1,1 0,-3A3,3 0 0,1 3,0Z\" transform=\"translate(147.35774541478833,37.536666129616435)\" style=\"opacity: 1; stroke-width: 0px; fill: rgb(31, 119, 180); fill-opacity: 1;\"/><path class=\"point\" d=\"M3,0A3,3 0 1,1 0,-3A3,3 0 0,1 3,0Z\" transform=\"translate(154.6485348020344,54.948441741686395)\" style=\"opacity: 1; stroke-width: 0px; fill: rgb(31, 119, 180); fill-opacity: 1;\"/><path class=\"point\" d=\"M3,0A3,3 0 1,1 0,-3A3,3 0 0,1 3,0Z\" transform=\"translate(153.58779795014163,52.98394302296617)\" style=\"opacity: 1; stroke-width: 0px; fill: rgb(31, 119, 180); fill-opacity: 1;\"/><path class=\"point\" d=\"M3,0A3,3 0 1,1 0,-3A3,3 0 0,1 3,0Z\" transform=\"translate(198.96474938524727,46.899291352355306)\" style=\"opacity: 1; stroke-width: 0px; fill: rgb(31, 119, 180); fill-opacity: 1;\"/><path class=\"point\" d=\"M3,0A3,3 0 1,1 0,-3A3,3 0 0,1 3,0Z\" transform=\"translate(213.00078208084724,77.7732559860703)\" style=\"opacity: 1; stroke-width: 0px; fill: rgb(31, 119, 180); fill-opacity: 1;\"/><path class=\"point\" d=\"M3,0A3,3 0 1,1 0,-3A3,3 0 0,1 3,0Z\" transform=\"translate(152.55483113788944,60.72210371333847)\" style=\"opacity: 1; stroke-width: 0px; fill: rgb(31, 119, 180); fill-opacity: 1;\"/><path class=\"point\" d=\"M3,0A3,3 0 1,1 0,-3A3,3 0 0,1 3,0Z\" transform=\"translate(220.1645296142813,53.75572654255842)\" style=\"opacity: 1; stroke-width: 0px; fill: rgb(31, 119, 180); fill-opacity: 1;\"/><path class=\"point\" d=\"M3,0A3,3 0 1,1 0,-3A3,3 0 0,1 3,0Z\" transform=\"translate(204.9776821698519,77.68994828829568)\" style=\"opacity: 1; stroke-width: 0px; fill: rgb(31, 119, 180); fill-opacity: 1;\"/><path class=\"point\" d=\"M3,0A3,3 0 1,1 0,-3A3,3 0 0,1 3,0Z\" transform=\"translate(163.61731395069256,65.24858043836838)\" style=\"opacity: 1; stroke-width: 0px; fill: rgb(31, 119, 180); fill-opacity: 1;\"/><path class=\"point\" d=\"M3,0A3,3 0 1,1 0,-3A3,3 0 0,1 3,0Z\" transform=\"translate(191.838909128081,71.59263786604333)\" style=\"opacity: 1; stroke-width: 0px; fill: rgb(31, 119, 180); fill-opacity: 1;\"/><path class=\"point\" d=\"M3,0A3,3 0 1,1 0,-3A3,3 0 0,1 3,0Z\" transform=\"translate(279.9175962648984,123.88430202653086)\" style=\"opacity: 1; stroke-width: 0px; fill: rgb(31, 119, 180); fill-opacity: 1;\"/><path class=\"point\" d=\"M3,0A3,3 0 1,1 0,-3A3,3 0 0,1 3,0Z\" transform=\"translate(279.28388485243096,124.3928677667293)\" style=\"opacity: 1; stroke-width: 0px; fill: rgb(31, 119, 180); fill-opacity: 1;\"/><path class=\"point\" d=\"M3,0A3,3 0 1,1 0,-3A3,3 0 0,1 3,0Z\" transform=\"translate(273.37987812721997,133.72409559129602)\" style=\"opacity: 1; stroke-width: 0px; fill: rgb(31, 119, 180); fill-opacity: 1;\"/><path class=\"point\" d=\"M3,0A3,3 0 1,1 0,-3A3,3 0 0,1 3,0Z\" transform=\"translate(261.7074039917669,126.79009735429293)\" style=\"opacity: 1; stroke-width: 0px; fill: rgb(31, 119, 180); fill-opacity: 1;\"/><path class=\"point\" d=\"M3,0A3,3 0 1,1 0,-3A3,3 0 0,1 3,0Z\" transform=\"translate(261.5946238635406,127.05945290311905)\" style=\"opacity: 1; stroke-width: 0px; fill: rgb(31, 119, 180); fill-opacity: 1;\"/><path class=\"point\" d=\"M3,0A3,3 0 1,1 0,-3A3,3 0 0,1 3,0Z\" transform=\"translate(274.50126594633747,128.32296772110323)\" style=\"opacity: 1; stroke-width: 0px; fill: rgb(31, 119, 180); fill-opacity: 1;\"/><path class=\"point\" d=\"M3,0A3,3 0 1,1 0,-3A3,3 0 0,1 3,0Z\" transform=\"translate(280.04732182562776,125.05445258271072)\" style=\"opacity: 1; stroke-width: 0px; fill: rgb(31, 119, 180); fill-opacity: 1;\"/><path class=\"point\" d=\"M3,0A3,3 0 1,1 0,-3A3,3 0 0,1 3,0Z\" transform=\"translate(222.24553513756393,115.12151274234986)\" style=\"opacity: 1; stroke-width: 0px; fill: rgb(31, 119, 180); fill-opacity: 1;\"/><path class=\"point\" d=\"M3,0A3,3 0 1,1 0,-3A3,3 0 0,1 3,0Z\" transform=\"translate(222.23326939541326,115.13384599769898)\" style=\"opacity: 1; stroke-width: 0px; fill: rgb(31, 119, 180); fill-opacity: 1;\"/><path class=\"point\" d=\"M3,0A3,3 0 1,1 0,-3A3,3 0 0,1 3,0Z\" transform=\"translate(278.61049299177125,120.77173688653806)\" style=\"opacity: 1; stroke-width: 0px; fill: rgb(31, 119, 180); fill-opacity: 1;\"/><path class=\"point\" d=\"M3,0A3,3 0 1,1 0,-3A3,3 0 0,1 3,0Z\" transform=\"translate(135.0986270330424,155.58039778533265)\" style=\"opacity: 1; stroke-width: 0px; fill: rgb(31, 119, 180); fill-opacity: 1;\"/><path class=\"point\" d=\"M3,0A3,3 0 1,1 0,-3A3,3 0 0,1 3,0Z\" transform=\"translate(124.12375394063142,160.82158592129355)\" style=\"opacity: 1; stroke-width: 0px; fill: rgb(31, 119, 180); fill-opacity: 1;\"/><path class=\"point\" d=\"M3,0A3,3 0 1,1 0,-3A3,3 0 0,1 3,0Z\" transform=\"translate(123.79274076726571,161.81830810192702)\" style=\"opacity: 1; stroke-width: 0px; fill: rgb(31, 119, 180); fill-opacity: 1;\"/><path class=\"point\" d=\"M3,0A3,3 0 1,1 0,-3A3,3 0 0,1 3,0Z\" transform=\"translate(124.17728019944164,160.16881123839107)\" style=\"opacity: 1; stroke-width: 0px; fill: rgb(31, 119, 180); fill-opacity: 1;\"/><path class=\"point\" d=\"M3,0A3,3 0 1,1 0,-3A3,3 0 0,1 3,0Z\" transform=\"translate(123.62992156357257,160.01783352439912)\" style=\"opacity: 1; stroke-width: 0px; fill: rgb(31, 119, 180); fill-opacity: 1;\"/><path class=\"point\" d=\"M3,0A3,3 0 1,1 0,-3A3,3 0 0,1 3,0Z\" transform=\"translate(124.58241933587774,159.19583204903103)\" style=\"opacity: 1; stroke-width: 0px; fill: rgb(31, 119, 180); fill-opacity: 1;\"/><path class=\"point\" d=\"M3,0A3,3 0 1,1 0,-3A3,3 0 0,1 3,0Z\" transform=\"translate(125.60344095599723,161.72792176944125)\" style=\"opacity: 1; stroke-width: 0px; fill: rgb(31, 119, 180); fill-opacity: 1;\"/><path class=\"point\" d=\"M3,0A3,3 0 1,1 0,-3A3,3 0 0,1 3,0Z\" transform=\"translate(124.71308420108059,162.18309129001977)\" style=\"opacity: 1; stroke-width: 0px; fill: rgb(31, 119, 180); fill-opacity: 1;\"/><path class=\"point\" d=\"M3,0A3,3 0 1,1 0,-3A3,3 0 0,1 3,0Z\" transform=\"translate(125.5881654273326,160.74934451633465)\" style=\"opacity: 1; stroke-width: 0px; fill: rgb(31, 119, 180); fill-opacity: 1;\"/><path class=\"point\" d=\"M3,0A3,3 0 1,1 0,-3A3,3 0 0,1 3,0Z\" transform=\"translate(125.35300907442777,160.4701815566982)\" style=\"opacity: 1; stroke-width: 0px; fill: rgb(31, 119, 180); fill-opacity: 1;\"/><path class=\"point\" d=\"M3,0A3,3 0 1,1 0,-3A3,3 0 0,1 3,0Z\" transform=\"translate(127.18366578148024,162.87249147852543)\" style=\"opacity: 1; stroke-width: 0px; fill: rgb(31, 119, 180); fill-opacity: 1;\"/><path class=\"point\" d=\"M3,0A3,3 0 1,1 0,-3A3,3 0 0,1 3,0Z\" transform=\"translate(122.6313923024733,163.8735807970922)\" style=\"opacity: 1; stroke-width: 0px; fill: rgb(31, 119, 180); fill-opacity: 1;\"/><path class=\"point\" d=\"M3,0A3,3 0 1,1 0,-3A3,3 0 0,1 3,0Z\" transform=\"translate(124.8114378591886,160.61358775530636)\" style=\"opacity: 1; stroke-width: 0px; fill: rgb(31, 119, 180); fill-opacity: 1;\"/><path class=\"point\" d=\"M3,0A3,3 0 1,1 0,-3A3,3 0 0,1 3,0Z\" transform=\"translate(125.63559586683516,159.9989314879861)\" style=\"opacity: 1; stroke-width: 0px; fill: rgb(31, 119, 180); fill-opacity: 1;\"/><path class=\"point\" d=\"M3,0A3,3 0 1,1 0,-3A3,3 0 0,1 3,0Z\" transform=\"translate(95.68834531846963,124.89134000000445)\" style=\"opacity: 1; stroke-width: 0px; fill: rgb(31, 119, 180); fill-opacity: 1;\"/><path class=\"point\" d=\"M3,0A3,3 0 1,1 0,-3A3,3 0 0,1 3,0Z\" transform=\"translate(96.90862566414333,119.8828514970761)\" style=\"opacity: 1; stroke-width: 0px; fill: rgb(31, 119, 180); fill-opacity: 1;\"/><path class=\"point\" d=\"M3,0A3,3 0 1,1 0,-3A3,3 0 0,1 3,0Z\" transform=\"translate(96.79839440535721,118.56160625038899)\" style=\"opacity: 1; stroke-width: 0px; fill: rgb(31, 119, 180); fill-opacity: 1;\"/><path class=\"point\" d=\"M3,0A3,3 0 1,1 0,-3A3,3 0 0,1 3,0Z\" transform=\"translate(97.21262993109897,118.46637895099377)\" style=\"opacity: 1; stroke-width: 0px; fill: rgb(31, 119, 180); fill-opacity: 1;\"/><path class=\"point\" d=\"M3,0A3,3 0 1,1 0,-3A3,3 0 0,1 3,0Z\" transform=\"translate(97.62729826007845,117.71953116036809)\" style=\"opacity: 1; stroke-width: 0px; fill: rgb(31, 119, 180); fill-opacity: 1;\"/><path class=\"point\" d=\"M3,0A3,3 0 1,1 0,-3A3,3 0 0,1 3,0Z\" transform=\"translate(96.06097210713205,122.36868066119484)\" style=\"opacity: 1; stroke-width: 0px; fill: rgb(31, 119, 180); fill-opacity: 1;\"/><path class=\"point\" d=\"M3,0A3,3 0 1,1 0,-3A3,3 0 0,1 3,0Z\" transform=\"translate(457.39462849365464,77.13067369939301)\" style=\"opacity: 1; stroke-width: 0px; fill: rgb(31, 119, 180); fill-opacity: 1;\"/><path class=\"point\" d=\"M3,0A3,3 0 1,1 0,-3A3,3 0 0,1 3,0Z\" transform=\"translate(453.49156765160365,84.85169903631214)\" style=\"opacity: 1; stroke-width: 0px; fill: rgb(31, 119, 180); fill-opacity: 1;\"/><path class=\"point\" d=\"M3,0A3,3 0 1,1 0,-3A3,3 0 0,1 3,0Z\" transform=\"translate(451.4631137709337,77.99800679888853)\" style=\"opacity: 1; stroke-width: 0px; fill: rgb(31, 119, 180); fill-opacity: 1;\"/><path class=\"point\" d=\"M3,0A3,3 0 1,1 0,-3A3,3 0 0,1 3,0Z\" transform=\"translate(456.48967871831405,84.80578103353639)\" style=\"opacity: 1; stroke-width: 0px; fill: rgb(31, 119, 180); fill-opacity: 1;\"/><path class=\"point\" d=\"M3,0A3,3 0 1,1 0,-3A3,3 0 0,1 3,0Z\" transform=\"translate(464.0109125161234,80.54843029220905)\" style=\"opacity: 1; stroke-width: 0px; fill: rgb(31, 119, 180); fill-opacity: 1;\"/><path class=\"point\" d=\"M3,0A3,3 0 1,1 0,-3A3,3 0 0,1 3,0Z\" transform=\"translate(460.0598216020841,83.86232756519661)\" style=\"opacity: 1; stroke-width: 0px; fill: rgb(31, 119, 180); fill-opacity: 1;\"/><path class=\"point\" d=\"M3,0A3,3 0 1,1 0,-3A3,3 0 0,1 3,0Z\" transform=\"translate(445.8229967492155,123.25129282625386)\" style=\"opacity: 1; stroke-width: 0px; fill: rgb(31, 119, 180); fill-opacity: 1;\"/><path class=\"point\" d=\"M3,0A3,3 0 1,1 0,-3A3,3 0 0,1 3,0Z\" transform=\"translate(446.19194586268264,124.23623990156574)\" style=\"opacity: 1; stroke-width: 0px; fill: rgb(31, 119, 180); fill-opacity: 1;\"/><path class=\"point\" d=\"M3,0A3,3 0 1,1 0,-3A3,3 0 0,1 3,0Z\" transform=\"translate(446.20372718876456,108.53637874114719)\" style=\"opacity: 1; stroke-width: 0px; fill: rgb(31, 119, 180); fill-opacity: 1;\"/><path class=\"point\" d=\"M3,0A3,3 0 1,1 0,-3A3,3 0 0,1 3,0Z\" transform=\"translate(439.6445055014871,119.71213416721798)\" style=\"opacity: 1; stroke-width: 0px; fill: rgb(31, 119, 180); fill-opacity: 1;\"/><path class=\"point\" d=\"M3,0A3,3 0 1,1 0,-3A3,3 0 0,1 3,0Z\" transform=\"translate(440.0891946546252,119.04002715643037)\" style=\"opacity: 1; stroke-width: 0px; fill: rgb(31, 119, 180); fill-opacity: 1;\"/><path class=\"point\" d=\"M3,0A3,3 0 1,1 0,-3A3,3 0 0,1 3,0Z\" transform=\"translate(441.5488689107994,124.6720676845706)\" style=\"opacity: 1; stroke-width: 0px; fill: rgb(31, 119, 180); fill-opacity: 1;\"/><path class=\"point\" d=\"M3,0A3,3 0 1,1 0,-3A3,3 0 0,1 3,0Z\" transform=\"translate(444.83007682597054,110.2548755421584)\" style=\"opacity: 1; stroke-width: 0px; fill: rgb(31, 119, 180); fill-opacity: 1;\"/><path class=\"point\" d=\"M3,0A3,3 0 1,1 0,-3A3,3 0 0,1 3,0Z\" transform=\"translate(439.28817406174625,121.20221942427276)\" style=\"opacity: 1; stroke-width: 0px; fill: rgb(31, 119, 180); fill-opacity: 1;\"/><path class=\"point\" d=\"M3,0A3,3 0 1,1 0,-3A3,3 0 0,1 3,0Z\" transform=\"translate(445.8653362686018,109.96569154826801)\" style=\"opacity: 1; stroke-width: 0px; fill: rgb(31, 119, 180); fill-opacity: 1;\"/><path class=\"point\" d=\"M3,0A3,3 0 1,1 0,-3A3,3 0 0,1 3,0Z\" transform=\"translate(440.7276488576768,113.36358024861738)\" style=\"opacity: 1; stroke-width: 0px; fill: rgb(31, 119, 180); fill-opacity: 1;\"/><path class=\"point\" d=\"M3,0A3,3 0 1,1 0,-3A3,3 0 0,1 3,0Z\" transform=\"translate(441.7342828028992,115.57653427872742)\" style=\"opacity: 1; stroke-width: 0px; fill: rgb(31, 119, 180); fill-opacity: 1;\"/><path class=\"point\" d=\"M3,0A3,3 0 1,1 0,-3A3,3 0 0,1 3,0Z\" transform=\"translate(441.71814935151406,116.21844766780839)\" style=\"opacity: 1; stroke-width: 0px; fill: rgb(31, 119, 180); fill-opacity: 1;\"/><path class=\"point\" d=\"M3,0A3,3 0 1,1 0,-3A3,3 0 0,1 3,0Z\" transform=\"translate(443.6671617601637,113.24926547934626)\" style=\"opacity: 1; stroke-width: 0px; fill: rgb(31, 119, 180); fill-opacity: 1;\"/><path class=\"point\" d=\"M3,0A3,3 0 1,1 0,-3A3,3 0 0,1 3,0Z\" transform=\"translate(441.0802067311794,110.41947375401259)\" style=\"opacity: 1; stroke-width: 0px; fill: rgb(31, 119, 180); fill-opacity: 1;\"/><path class=\"point\" d=\"M3,0A3,3 0 1,1 0,-3A3,3 0 0,1 3,0Z\" transform=\"translate(446.6922825995611,117.46658588643612)\" style=\"opacity: 1; stroke-width: 0px; fill: rgb(31, 119, 180); fill-opacity: 1;\"/><path class=\"point\" d=\"M3,0A3,3 0 1,1 0,-3A3,3 0 0,1 3,0Z\" transform=\"translate(444.90034726606245,111.07599784027985)\" style=\"opacity: 1; stroke-width: 0px; fill: rgb(31, 119, 180); fill-opacity: 1;\"/><path class=\"point\" d=\"M3,0A3,3 0 1,1 0,-3A3,3 0 0,1 3,0Z\" transform=\"translate(444.4824470941679,111.56813764969473)\" style=\"opacity: 1; stroke-width: 0px; fill: rgb(31, 119, 180); fill-opacity: 1;\"/><path class=\"point\" d=\"M3,0A3,3 0 1,1 0,-3A3,3 0 0,1 3,0Z\" transform=\"translate(437.859258434498,109.70819359935331)\" style=\"opacity: 1; stroke-width: 0px; fill: rgb(31, 119, 180); fill-opacity: 1;\"/><path class=\"point\" d=\"M3,0A3,3 0 1,1 0,-3A3,3 0 0,1 3,0Z\" transform=\"translate(192.654692287488,181.7524466321466)\" style=\"opacity: 1; stroke-width: 0px; fill: rgb(31, 119, 180); fill-opacity: 1;\"/><path class=\"point\" d=\"M3,0A3,3 0 1,1 0,-3A3,3 0 0,1 3,0Z\" transform=\"translate(192.5065579860238,181.63269187984093)\" style=\"opacity: 1; stroke-width: 0px; fill: rgb(31, 119, 180); fill-opacity: 1;\"/><path class=\"point\" d=\"M3,0A3,3 0 1,1 0,-3A3,3 0 0,1 3,0Z\" transform=\"translate(191.92895874063265,182.88037149900265)\" style=\"opacity: 1; stroke-width: 0px; fill: rgb(31, 119, 180); fill-opacity: 1;\"/><path class=\"point\" d=\"M3,0A3,3 0 1,1 0,-3A3,3 0 0,1 3,0Z\" transform=\"translate(193.343390062434,181.30405605401694)\" style=\"opacity: 1; stroke-width: 0px; fill: rgb(31, 119, 180); fill-opacity: 1;\"/><path class=\"point\" d=\"M3,0A3,3 0 1,1 0,-3A3,3 0 0,1 3,0Z\" transform=\"translate(192.48767067426888,181.1256266426488)\" style=\"opacity: 1; stroke-width: 0px; fill: rgb(31, 119, 180); fill-opacity: 1;\"/><path class=\"point\" d=\"M3,0A3,3 0 1,1 0,-3A3,3 0 0,1 3,0Z\" transform=\"translate(188.96950268246502,213.5841567233319)\" style=\"opacity: 1; stroke-width: 0px; fill: rgb(31, 119, 180); fill-opacity: 1;\"/><path class=\"point\" d=\"M3,0A3,3 0 1,1 0,-3A3,3 0 0,1 3,0Z\" transform=\"translate(188.8642884424959,215.7046104579769)\" style=\"opacity: 1; stroke-width: 0px; fill: rgb(31, 119, 180); fill-opacity: 1;\"/><path class=\"point\" d=\"M3,0A3,3 0 1,1 0,-3A3,3 0 0,1 3,0Z\" transform=\"translate(188.009494104182,215.69419283478499)\" style=\"opacity: 1; stroke-width: 0px; fill: rgb(31, 119, 180); fill-opacity: 1;\"/><path class=\"point\" d=\"M3,0A3,3 0 1,1 0,-3A3,3 0 0,1 3,0Z\" transform=\"translate(187.89973945586763,210.19050517081217)\" style=\"opacity: 1; stroke-width: 0px; fill: rgb(31, 119, 180); fill-opacity: 1;\"/><path class=\"point\" d=\"M3,0A3,3 0 1,1 0,-3A3,3 0 0,1 3,0Z\" transform=\"translate(219.21825600378918,208.99320192788798)\" style=\"opacity: 1; stroke-width: 0px; fill: rgb(31, 119, 180); fill-opacity: 1;\"/><path class=\"point\" d=\"M3,0A3,3 0 1,1 0,-3A3,3 0 0,1 3,0Z\" transform=\"translate(197.32339061160536,177.25411783479296)\" style=\"opacity: 1; stroke-width: 0px; fill: rgb(31, 119, 180); fill-opacity: 1;\"/><path class=\"point\" d=\"M3,0A3,3 0 1,1 0,-3A3,3 0 0,1 3,0Z\" transform=\"translate(202.15038289759022,169.87910413667004)\" style=\"opacity: 1; stroke-width: 0px; fill: rgb(31, 119, 180); fill-opacity: 1;\"/><path class=\"point\" d=\"M3,0A3,3 0 1,1 0,-3A3,3 0 0,1 3,0Z\" transform=\"translate(443.5248081377794,90.34630665835175)\" style=\"opacity: 1; stroke-width: 0px; fill: rgb(31, 119, 180); fill-opacity: 1;\"/><path class=\"point\" d=\"M3,0A3,3 0 1,1 0,-3A3,3 0 0,1 3,0Z\" transform=\"translate(443.41405031228345,89.96791263682036)\" style=\"opacity: 1; stroke-width: 0px; fill: rgb(31, 119, 180); fill-opacity: 1;\"/><path class=\"point\" d=\"M3,0A3,3 0 1,1 0,-3A3,3 0 0,1 3,0Z\" transform=\"translate(446.7686156242048,108.79837109539562)\" style=\"opacity: 1; stroke-width: 0px; fill: rgb(31, 119, 180); fill-opacity: 1;\"/><path class=\"point\" d=\"M3,0A3,3 0 1,1 0,-3A3,3 0 0,1 3,0Z\" transform=\"translate(446.82337452422485,108.2386309707149)\" style=\"opacity: 1; stroke-width: 0px; fill: rgb(31, 119, 180); fill-opacity: 1;\"/><path class=\"point\" d=\"M3,0A3,3 0 1,1 0,-3A3,3 0 0,1 3,0Z\" transform=\"translate(403.29927296711423,100.19028128261584)\" style=\"opacity: 1; stroke-width: 0px; fill: rgb(31, 119, 180); fill-opacity: 1;\"/><path class=\"point\" d=\"M3,0A3,3 0 1,1 0,-3A3,3 0 0,1 3,0Z\" transform=\"translate(406.40002371528965,94.50165521696255)\" style=\"opacity: 1; stroke-width: 0px; fill: rgb(31, 119, 180); fill-opacity: 1;\"/><path class=\"point\" d=\"M3,0A3,3 0 1,1 0,-3A3,3 0 0,1 3,0Z\" transform=\"translate(406.3376910019275,95.72252503189657)\" style=\"opacity: 1; stroke-width: 0px; fill: rgb(31, 119, 180); fill-opacity: 1;\"/><path class=\"point\" d=\"M3,0A3,3 0 1,1 0,-3A3,3 0 0,1 3,0Z\" transform=\"translate(406.57456296015056,95.21974849715474)\" style=\"opacity: 1; stroke-width: 0px; fill: rgb(31, 119, 180); fill-opacity: 1;\"/><path class=\"point\" d=\"M3,0A3,3 0 1,1 0,-3A3,3 0 0,1 3,0Z\" transform=\"translate(438.64356640871216,73.12959012126674)\" style=\"opacity: 1; stroke-width: 0px; fill: rgb(31, 119, 180); fill-opacity: 1;\"/><path class=\"point\" d=\"M3,0A3,3 0 1,1 0,-3A3,3 0 0,1 3,0Z\" transform=\"translate(446.65652051639904,109.84033610831386)\" style=\"opacity: 1; stroke-width: 0px; fill: rgb(31, 119, 180); fill-opacity: 1;\"/><path class=\"point\" d=\"M3,0A3,3 0 1,1 0,-3A3,3 0 0,1 3,0Z\" transform=\"translate(414.9211330624686,91.30508538629584)\" style=\"opacity: 1; stroke-width: 0px; fill: rgb(31, 119, 180); fill-opacity: 1;\"/><path class=\"point\" d=\"M3,0A3,3 0 1,1 0,-3A3,3 0 0,1 3,0Z\" transform=\"translate(414.98477972684213,91.2804171069456)\" style=\"opacity: 1; stroke-width: 0px; fill: rgb(31, 119, 180); fill-opacity: 1;\"/><path class=\"point\" d=\"M3,0A3,3 0 1,1 0,-3A3,3 0 0,1 3,0Z\" transform=\"translate(446.5671415970787,109.01775519729978)\" style=\"opacity: 1; stroke-width: 0px; fill: rgb(31, 119, 180); fill-opacity: 1;\"/><path class=\"point\" d=\"M3,0A3,3 0 1,1 0,-3A3,3 0 0,1 3,0Z\" transform=\"translate(446.31596007822554,109.97601728035744)\" style=\"opacity: 1; stroke-width: 0px; fill: rgb(31, 119, 180); fill-opacity: 1;\"/><path class=\"point\" d=\"M3,0A3,3 0 1,1 0,-3A3,3 0 0,1 3,0Z\" transform=\"translate(425.9455789872989,90.01484015186577)\" style=\"opacity: 1; stroke-width: 0px; fill: rgb(31, 119, 180); fill-opacity: 1;\"/><path class=\"point\" d=\"M3,0A3,3 0 1,1 0,-3A3,3 0 0,1 3,0Z\" transform=\"translate(444.3698938815653,102.17132485898804)\" style=\"opacity: 1; stroke-width: 0px; fill: rgb(31, 119, 180); fill-opacity: 1;\"/><path class=\"point\" d=\"M3,0A3,3 0 1,1 0,-3A3,3 0 0,1 3,0Z\" transform=\"translate(447.55520284500824,109.45320279275165)\" style=\"opacity: 1; stroke-width: 0px; fill: rgb(31, 119, 180); fill-opacity: 1;\"/><path class=\"point\" d=\"M3,0A3,3 0 1,1 0,-3A3,3 0 0,1 3,0Z\" transform=\"translate(447.57629642891516,109.41526849456517)\" style=\"opacity: 1; stroke-width: 0px; fill: rgb(31, 119, 180); fill-opacity: 1;\"/><path class=\"point\" d=\"M3,0A3,3 0 1,1 0,-3A3,3 0 0,1 3,0Z\" transform=\"translate(445.44990599473783,111.03565498123794)\" style=\"opacity: 1; stroke-width: 0px; fill: rgb(31, 119, 180); fill-opacity: 1;\"/><path class=\"point\" d=\"M3,0A3,3 0 1,1 0,-3A3,3 0 0,1 3,0Z\" transform=\"translate(419.55239778214565,101.37253913336508)\" style=\"opacity: 1; stroke-width: 0px; fill: rgb(31, 119, 180); fill-opacity: 1;\"/><path class=\"point\" d=\"M3,0A3,3 0 1,1 0,-3A3,3 0 0,1 3,0Z\" transform=\"translate(450.52095519369016,108.64519693106433)\" style=\"opacity: 1; stroke-width: 0px; fill: rgb(31, 119, 180); fill-opacity: 1;\"/><path class=\"point\" d=\"M3,0A3,3 0 1,1 0,-3A3,3 0 0,1 3,0Z\" transform=\"translate(389.2330356052206,174.02380918921716)\" style=\"opacity: 1; stroke-width: 0px; fill: rgb(31, 119, 180); fill-opacity: 1;\"/><path class=\"point\" d=\"M3,0A3,3 0 1,1 0,-3A3,3 0 0,1 3,0Z\" transform=\"translate(398.9146908832542,171.31243514053)\" style=\"opacity: 1; stroke-width: 0px; fill: rgb(31, 119, 180); fill-opacity: 1;\"/><path class=\"point\" d=\"M3,0A3,3 0 1,1 0,-3A3,3 0 0,1 3,0Z\" transform=\"translate(419.6262771714597,174.97678424970275)\" style=\"opacity: 1; stroke-width: 0px; fill: rgb(31, 119, 180); fill-opacity: 1;\"/><path class=\"point\" d=\"M3,0A3,3 0 1,1 0,-3A3,3 0 0,1 3,0Z\" transform=\"translate(407.67361664841684,169.01141476649792)\" style=\"opacity: 1; stroke-width: 0px; fill: rgb(31, 119, 180); fill-opacity: 1;\"/><path class=\"point\" d=\"M3,0A3,3 0 1,1 0,-3A3,3 0 0,1 3,0Z\" transform=\"translate(418.2053376813635,164.89909701852037)\" style=\"opacity: 1; stroke-width: 0px; fill: rgb(31, 119, 180); fill-opacity: 1;\"/><path class=\"point\" d=\"M3,0A3,3 0 1,1 0,-3A3,3 0 0,1 3,0Z\" transform=\"translate(407.4788885016479,165.9605196496866)\" style=\"opacity: 1; stroke-width: 0px; fill: rgb(31, 119, 180); fill-opacity: 1;\"/><path class=\"point\" d=\"M3,0A3,3 0 1,1 0,-3A3,3 0 0,1 3,0Z\" transform=\"translate(406.6781240608318,166.9713028844077)\" style=\"opacity: 1; stroke-width: 0px; fill: rgb(31, 119, 180); fill-opacity: 1;\"/><path class=\"point\" d=\"M3,0A3,3 0 1,1 0,-3A3,3 0 0,1 3,0Z\" transform=\"translate(410.8687940422026,165.40501591664128)\" style=\"opacity: 1; stroke-width: 0px; fill: rgb(31, 119, 180); fill-opacity: 1;\"/><path class=\"point\" d=\"M3,0A3,3 0 1,1 0,-3A3,3 0 0,1 3,0Z\" transform=\"translate(383.79701325761846,176.21971652966312)\" style=\"opacity: 1; stroke-width: 0px; fill: rgb(31, 119, 180); fill-opacity: 1;\"/><path class=\"point\" d=\"M3,0A3,3 0 1,1 0,-3A3,3 0 0,1 3,0Z\" transform=\"translate(422.5763047412868,168.7042295950115)\" style=\"opacity: 1; stroke-width: 0px; fill: rgb(31, 119, 180); fill-opacity: 1;\"/><path class=\"point\" d=\"M3,0A3,3 0 1,1 0,-3A3,3 0 0,1 3,0Z\" transform=\"translate(404.3972888928039,175.51976649929918)\" style=\"opacity: 1; stroke-width: 0px; fill: rgb(31, 119, 180); fill-opacity: 1;\"/><path class=\"point\" d=\"M3,0A3,3 0 1,1 0,-3A3,3 0 0,1 3,0Z\" transform=\"translate(403.7227357269713,175.90804092400765)\" style=\"opacity: 1; stroke-width: 0px; fill: rgb(31, 119, 180); fill-opacity: 1;\"/><path class=\"point\" d=\"M3,0A3,3 0 1,1 0,-3A3,3 0 0,1 3,0Z\" transform=\"translate(403.79486410607046,175.18379805575256)\" style=\"opacity: 1; stroke-width: 0px; fill: rgb(31, 119, 180); fill-opacity: 1;\"/><path class=\"point\" d=\"M3,0A3,3 0 1,1 0,-3A3,3 0 0,1 3,0Z\" transform=\"translate(393.00788615837087,170.3021925317209)\" style=\"opacity: 1; stroke-width: 0px; fill: rgb(31, 119, 180); fill-opacity: 1;\"/><path class=\"point\" d=\"M3,0A3,3 0 1,1 0,-3A3,3 0 0,1 3,0Z\" transform=\"translate(412.0619347165233,174.00317710226187)\" style=\"opacity: 1; stroke-width: 0px; fill: rgb(31, 119, 180); fill-opacity: 1;\"/><path class=\"point\" d=\"M3,0A3,3 0 1,1 0,-3A3,3 0 0,1 3,0Z\" transform=\"translate(429.9837453704933,180.09812467980106)\" style=\"opacity: 1; stroke-width: 0px; fill: rgb(31, 119, 180); fill-opacity: 1;\"/><path class=\"point\" d=\"M3,0A3,3 0 1,1 0,-3A3,3 0 0,1 3,0Z\" transform=\"translate(427.25657463573236,158.19282555690683)\" style=\"opacity: 1; stroke-width: 0px; fill: rgb(31, 119, 180); fill-opacity: 1;\"/><path class=\"point\" d=\"M3,0A3,3 0 1,1 0,-3A3,3 0 0,1 3,0Z\" transform=\"translate(431.3412502707187,166.48996409179523)\" style=\"opacity: 1; stroke-width: 0px; fill: rgb(31, 119, 180); fill-opacity: 1;\"/><path class=\"point\" d=\"M3,0A3,3 0 1,1 0,-3A3,3 0 0,1 3,0Z\" transform=\"translate(407.0476190335633,171.84651356665358)\" style=\"opacity: 1; stroke-width: 0px; fill: rgb(31, 119, 180); fill-opacity: 1;\"/><path class=\"point\" d=\"M3,0A3,3 0 1,1 0,-3A3,3 0 0,1 3,0Z\" transform=\"translate(382.5047174725236,176.72370269878064)\" style=\"opacity: 1; stroke-width: 0px; fill: rgb(31, 119, 180); fill-opacity: 1;\"/><path class=\"point\" d=\"M3,0A3,3 0 1,1 0,-3A3,3 0 0,1 3,0Z\" transform=\"translate(421.1786069376732,166.19767603222624)\" style=\"opacity: 1; stroke-width: 0px; fill: rgb(31, 119, 180); fill-opacity: 1;\"/><path class=\"point\" d=\"M3,0A3,3 0 1,1 0,-3A3,3 0 0,1 3,0Z\" transform=\"translate(419.1904984629013,166.4688657494611)\" style=\"opacity: 1; stroke-width: 0px; fill: rgb(31, 119, 180); fill-opacity: 1;\"/><path class=\"point\" d=\"M3,0A3,3 0 1,1 0,-3A3,3 0 0,1 3,0Z\" transform=\"translate(228.2930324064378,64.31654371815245)\" style=\"opacity: 1; stroke-width: 0px; fill: rgb(31, 119, 180); fill-opacity: 1;\"/><path class=\"point\" d=\"M3,0A3,3 0 1,1 0,-3A3,3 0 0,1 3,0Z\" transform=\"translate(236.27555181124228,47.21735772852708)\" style=\"opacity: 1; stroke-width: 0px; fill: rgb(31, 119, 180); fill-opacity: 1;\"/><path class=\"point\" d=\"M3,0A3,3 0 1,1 0,-3A3,3 0 0,1 3,0Z\" transform=\"translate(246.42992312870004,66.17566811363395)\" style=\"opacity: 1; stroke-width: 0px; fill: rgb(31, 119, 180); fill-opacity: 1;\"/><path class=\"point\" d=\"M3,0A3,3 0 1,1 0,-3A3,3 0 0,1 3,0Z\" transform=\"translate(273.75071917942927,65.88737824211591)\" style=\"opacity: 1; stroke-width: 0px; fill: rgb(31, 119, 180); fill-opacity: 1;\"/><path class=\"point\" d=\"M3,0A3,3 0 1,1 0,-3A3,3 0 0,1 3,0Z\" transform=\"translate(233.70685395850938,60.172056124550295)\" style=\"opacity: 1; stroke-width: 0px; fill: rgb(31, 119, 180); fill-opacity: 1;\"/><path class=\"point\" d=\"M3,0A3,3 0 1,1 0,-3A3,3 0 0,1 3,0Z\" transform=\"translate(229.37551554752628,57.43519895111325)\" style=\"opacity: 1; stroke-width: 0px; fill: rgb(31, 119, 180); fill-opacity: 1;\"/><path class=\"point\" d=\"M3,0A3,3 0 1,1 0,-3A3,3 0 0,1 3,0Z\" transform=\"translate(239.75643529452807,61.011400042456955)\" style=\"opacity: 1; stroke-width: 0px; fill: rgb(31, 119, 180); fill-opacity: 1;\"/><path class=\"point\" d=\"M3,0A3,3 0 1,1 0,-3A3,3 0 0,1 3,0Z\" transform=\"translate(242.03678197623097,62.287975103678946)\" style=\"opacity: 1; stroke-width: 0px; fill: rgb(31, 119, 180); fill-opacity: 1;\"/><path class=\"point\" d=\"M3,0A3,3 0 1,1 0,-3A3,3 0 0,1 3,0Z\" transform=\"translate(241.48833816965004,54.6193415155214)\" style=\"opacity: 1; stroke-width: 0px; fill: rgb(31, 119, 180); fill-opacity: 1;\"/><path class=\"point\" d=\"M3,0A3,3 0 1,1 0,-3A3,3 0 0,1 3,0Z\" transform=\"translate(370.6600819591061,123.04558089231853)\" style=\"opacity: 1; stroke-width: 0px; fill: rgb(31, 119, 180); fill-opacity: 1;\"/><path class=\"point\" d=\"M3,0A3,3 0 1,1 0,-3A3,3 0 0,1 3,0Z\" transform=\"translate(388.8932885209015,134.28980624550684)\" style=\"opacity: 1; stroke-width: 0px; fill: rgb(31, 119, 180); fill-opacity: 1;\"/><path class=\"point\" d=\"M3,0A3,3 0 1,1 0,-3A3,3 0 0,1 3,0Z\" transform=\"translate(396.96339564539915,127.57516481641227)\" style=\"opacity: 1; stroke-width: 0px; fill: rgb(31, 119, 180); fill-opacity: 1;\"/><path class=\"point\" d=\"M3,0A3,3 0 1,1 0,-3A3,3 0 0,1 3,0Z\" transform=\"translate(369.91686867242674,136.3711857964406)\" style=\"opacity: 1; stroke-width: 0px; fill: rgb(31, 119, 180); fill-opacity: 1;\"/><path class=\"point\" d=\"M3,0A3,3 0 1,1 0,-3A3,3 0 0,1 3,0Z\" transform=\"translate(368.5395690276904,138.1138814403875)\" style=\"opacity: 1; stroke-width: 0px; fill: rgb(31, 119, 180); fill-opacity: 1;\"/><path class=\"point\" d=\"M3,0A3,3 0 1,1 0,-3A3,3 0 0,1 3,0Z\" transform=\"translate(369.5766070124532,136.5256364339469)\" style=\"opacity: 1; stroke-width: 0px; fill: rgb(31, 119, 180); fill-opacity: 1;\"/><path class=\"point\" d=\"M3,0A3,3 0 1,1 0,-3A3,3 0 0,1 3,0Z\" transform=\"translate(369.69897360842555,136.58698707475781)\" style=\"opacity: 1; stroke-width: 0px; fill: rgb(31, 119, 180); fill-opacity: 1;\"/><path class=\"point\" d=\"M3,0A3,3 0 1,1 0,-3A3,3 0 0,1 3,0Z\" transform=\"translate(369.6744985168422,136.52537670073843)\" style=\"opacity: 1; stroke-width: 0px; fill: rgb(31, 119, 180); fill-opacity: 1;\"/><path class=\"point\" d=\"M3,0A3,3 0 1,1 0,-3A3,3 0 0,1 3,0Z\" transform=\"translate(373.6153589940559,131.37475414181068)\" style=\"opacity: 1; stroke-width: 0px; fill: rgb(31, 119, 180); fill-opacity: 1;\"/><path class=\"point\" d=\"M3,0A3,3 0 1,1 0,-3A3,3 0 0,1 3,0Z\" transform=\"translate(388.18243169835273,112.48446176800616)\" style=\"opacity: 1; stroke-width: 0px; fill: rgb(31, 119, 180); fill-opacity: 1;\"/><path class=\"point\" d=\"M3,0A3,3 0 1,1 0,-3A3,3 0 0,1 3,0Z\" transform=\"translate(387.5032532314151,113.39846297437361)\" style=\"opacity: 1; stroke-width: 0px; fill: rgb(31, 119, 180); fill-opacity: 1;\"/><path class=\"point\" d=\"M3,0A3,3 0 1,1 0,-3A3,3 0 0,1 3,0Z\" transform=\"translate(387.7025033963691,113.4223735189014)\" style=\"opacity: 1; stroke-width: 0px; fill: rgb(31, 119, 180); fill-opacity: 1;\"/><path class=\"point\" d=\"M3,0A3,3 0 1,1 0,-3A3,3 0 0,1 3,0Z\" transform=\"translate(387.50941541069176,113.24100424860677)\" style=\"opacity: 1; stroke-width: 0px; fill: rgb(31, 119, 180); fill-opacity: 1;\"/><path class=\"point\" d=\"M3,0A3,3 0 1,1 0,-3A3,3 0 0,1 3,0Z\" transform=\"translate(387.6996636842686,113.68349611601735)\" style=\"opacity: 1; stroke-width: 0px; fill: rgb(31, 119, 180); fill-opacity: 1;\"/><path class=\"point\" d=\"M3,0A3,3 0 1,1 0,-3A3,3 0 0,1 3,0Z\" transform=\"translate(388.9617435411627,113.5578184326655)\" style=\"opacity: 1; stroke-width: 0px; fill: rgb(31, 119, 180); fill-opacity: 1;\"/><path class=\"point\" d=\"M3,0A3,3 0 1,1 0,-3A3,3 0 0,1 3,0Z\" transform=\"translate(386.6078445367497,114.3700789741194)\" style=\"opacity: 1; stroke-width: 0px; fill: rgb(31, 119, 180); fill-opacity: 1;\"/><path class=\"point\" d=\"M3,0A3,3 0 1,1 0,-3A3,3 0 0,1 3,0Z\" transform=\"translate(379.7522814342798,129.79184621997183)\" style=\"opacity: 1; stroke-width: 0px; fill: rgb(31, 119, 180); fill-opacity: 1;\"/><path class=\"point\" d=\"M3,0A3,3 0 1,1 0,-3A3,3 0 0,1 3,0Z\" transform=\"translate(379.05879961406424,128.76508338138876)\" style=\"opacity: 1; stroke-width: 0px; fill: rgb(31, 119, 180); fill-opacity: 1;\"/><path class=\"point\" d=\"M3,0A3,3 0 1,1 0,-3A3,3 0 0,1 3,0Z\" transform=\"translate(379.8978988618598,128.89167607205917)\" style=\"opacity: 1; stroke-width: 0px; fill: rgb(31, 119, 180); fill-opacity: 1;\"/><path class=\"point\" d=\"M3,0A3,3 0 1,1 0,-3A3,3 0 0,1 3,0Z\" transform=\"translate(370.1631560441023,138.5329613691281)\" style=\"opacity: 1; stroke-width: 0px; fill: rgb(31, 119, 180); fill-opacity: 1;\"/><path class=\"point\" d=\"M3,0A3,3 0 1,1 0,-3A3,3 0 0,1 3,0Z\" transform=\"translate(369.3957737220779,139.49919588868664)\" style=\"opacity: 1; stroke-width: 0px; fill: rgb(31, 119, 180); fill-opacity: 1;\"/><path class=\"point\" d=\"M3,0A3,3 0 1,1 0,-3A3,3 0 0,1 3,0Z\" transform=\"translate(369.2826793369603,140.1898059441753)\" style=\"opacity: 1; stroke-width: 0px; fill: rgb(31, 119, 180); fill-opacity: 1;\"/><path class=\"point\" d=\"M3,0A3,3 0 1,1 0,-3A3,3 0 0,1 3,0Z\" transform=\"translate(368.9467799701588,140.47804098490707)\" style=\"opacity: 1; stroke-width: 0px; fill: rgb(31, 119, 180); fill-opacity: 1;\"/><path class=\"point\" d=\"M3,0A3,3 0 1,1 0,-3A3,3 0 0,1 3,0Z\" transform=\"translate(368.99527217161693,140.0472351955757)\" style=\"opacity: 1; stroke-width: 0px; fill: rgb(31, 119, 180); fill-opacity: 1;\"/><path class=\"point\" d=\"M3,0A3,3 0 1,1 0,-3A3,3 0 0,1 3,0Z\" transform=\"translate(394.9470616413047,124.1072327557361)\" style=\"opacity: 1; stroke-width: 0px; fill: rgb(31, 119, 180); fill-opacity: 1;\"/><path class=\"point\" d=\"M3,0A3,3 0 1,1 0,-3A3,3 0 0,1 3,0Z\" transform=\"translate(397.2999768385159,123.38042049558862)\" style=\"opacity: 1; stroke-width: 0px; fill: rgb(31, 119, 180); fill-opacity: 1;\"/><path class=\"point\" d=\"M3,0A3,3 0 1,1 0,-3A3,3 0 0,1 3,0Z\" transform=\"translate(390.3954982484586,110.36370574105985)\" style=\"opacity: 1; stroke-width: 0px; fill: rgb(31, 119, 180); fill-opacity: 1;\"/><path class=\"point\" d=\"M3,0A3,3 0 1,1 0,-3A3,3 0 0,1 3,0Z\" transform=\"translate(384.4595750182144,144.6214679171773)\" style=\"opacity: 1; stroke-width: 0px; fill: rgb(31, 119, 180); fill-opacity: 1;\"/><path class=\"point\" d=\"M3,0A3,3 0 1,1 0,-3A3,3 0 0,1 3,0Z\" transform=\"translate(384.2962067334111,114.0222109931891)\" style=\"opacity: 1; stroke-width: 0px; fill: rgb(31, 119, 180); fill-opacity: 1;\"/><path class=\"point\" d=\"M3,0A3,3 0 1,1 0,-3A3,3 0 0,1 3,0Z\" transform=\"translate(373.33480792385933,113.67897136902985)\" style=\"opacity: 1; stroke-width: 0px; fill: rgb(31, 119, 180); fill-opacity: 1;\"/><path class=\"point\" d=\"M3,0A3,3 0 1,1 0,-3A3,3 0 0,1 3,0Z\" transform=\"translate(372.6476786356999,114.01190555983129)\" style=\"opacity: 1; stroke-width: 0px; fill: rgb(31, 119, 180); fill-opacity: 1;\"/><path class=\"point\" d=\"M3,0A3,3 0 1,1 0,-3A3,3 0 0,1 3,0Z\" transform=\"translate(373.79233210159896,113.24865452149373)\" style=\"opacity: 1; stroke-width: 0px; fill: rgb(31, 119, 180); fill-opacity: 1;\"/><path class=\"point\" d=\"M3,0A3,3 0 1,1 0,-3A3,3 0 0,1 3,0Z\" transform=\"translate(395.7744254541151,116.0497605022178)\" style=\"opacity: 1; stroke-width: 0px; fill: rgb(31, 119, 180); fill-opacity: 1;\"/><path class=\"point\" d=\"M3,0A3,3 0 1,1 0,-3A3,3 0 0,1 3,0Z\" transform=\"translate(386.32835977558204,117.89225357717396)\" style=\"opacity: 1; stroke-width: 0px; fill: rgb(31, 119, 180); fill-opacity: 1;\"/><path class=\"point\" d=\"M3,0A3,3 0 1,1 0,-3A3,3 0 0,1 3,0Z\" transform=\"translate(370.8528417159058,133.51280760145755)\" style=\"opacity: 1; stroke-width: 0px; fill: rgb(31, 119, 180); fill-opacity: 1;\"/><path class=\"point\" d=\"M3,0A3,3 0 1,1 0,-3A3,3 0 0,1 3,0Z\" transform=\"translate(391.3387225693534,116.04794867641982)\" style=\"opacity: 1; stroke-width: 0px; fill: rgb(31, 119, 180); fill-opacity: 1;\"/><path class=\"point\" d=\"M3,0A3,3 0 1,1 0,-3A3,3 0 0,1 3,0Z\" transform=\"translate(366.7453434695278,133.19078224619398)\" style=\"opacity: 1; stroke-width: 0px; fill: rgb(31, 119, 180); fill-opacity: 1;\"/><path class=\"point\" d=\"M3,0A3,3 0 1,1 0,-3A3,3 0 0,1 3,0Z\" transform=\"translate(382.1014017290553,142.3963804781897)\" style=\"opacity: 1; stroke-width: 0px; fill: rgb(31, 119, 180); fill-opacity: 1;\"/><path class=\"point\" d=\"M3,0A3,3 0 1,1 0,-3A3,3 0 0,1 3,0Z\" transform=\"translate(383.1888872834829,143.92533358146073)\" style=\"opacity: 1; stroke-width: 0px; fill: rgb(31, 119, 180); fill-opacity: 1;\"/><path class=\"point\" d=\"M3,0A3,3 0 1,1 0,-3A3,3 0 0,1 3,0Z\" transform=\"translate(390.738968126835,120.0583436721522)\" style=\"opacity: 1; stroke-width: 0px; fill: rgb(31, 119, 180); fill-opacity: 1;\"/><path class=\"point\" d=\"M3,0A3,3 0 1,1 0,-3A3,3 0 0,1 3,0Z\" transform=\"translate(390.8766253937944,119.89266600901544)\" style=\"opacity: 1; stroke-width: 0px; fill: rgb(31, 119, 180); fill-opacity: 1;\"/><path class=\"point\" d=\"M3,0A3,3 0 1,1 0,-3A3,3 0 0,1 3,0Z\" transform=\"translate(389.74282650449425,117.34207426222918)\" style=\"opacity: 1; stroke-width: 0px; fill: rgb(31, 119, 180); fill-opacity: 1;\"/><path class=\"point\" d=\"M3,0A3,3 0 1,1 0,-3A3,3 0 0,1 3,0Z\" transform=\"translate(389.15974232386964,117.17934884144773)\" style=\"opacity: 1; stroke-width: 0px; fill: rgb(31, 119, 180); fill-opacity: 1;\"/><path class=\"point\" d=\"M3,0A3,3 0 1,1 0,-3A3,3 0 0,1 3,0Z\" transform=\"translate(394.48268473663603,114.84969232629595)\" style=\"opacity: 1; stroke-width: 0px; fill: rgb(31, 119, 180); fill-opacity: 1;\"/><path class=\"point\" d=\"M3,0A3,3 0 1,1 0,-3A3,3 0 0,1 3,0Z\" transform=\"translate(267.5170614629536,195.6344608920968)\" style=\"opacity: 1; stroke-width: 0px; fill: rgb(31, 119, 180); fill-opacity: 1;\"/><path class=\"point\" d=\"M3,0A3,3 0 1,1 0,-3A3,3 0 0,1 3,0Z\" transform=\"translate(267.5127879122076,184.60495206193622)\" style=\"opacity: 1; stroke-width: 0px; fill: rgb(31, 119, 180); fill-opacity: 1;\"/><path class=\"point\" d=\"M3,0A3,3 0 1,1 0,-3A3,3 0 0,1 3,0Z\" transform=\"translate(259.5675969712839,191.48705708191778)\" style=\"opacity: 1; stroke-width: 0px; fill: rgb(31, 119, 180); fill-opacity: 1;\"/><path class=\"point\" d=\"M3,0A3,3 0 1,1 0,-3A3,3 0 0,1 3,0Z\" transform=\"translate(255.87749627789927,175.7334760644029)\" style=\"opacity: 1; stroke-width: 0px; fill: rgb(31, 119, 180); fill-opacity: 1;\"/><path class=\"point\" d=\"M3,0A3,3 0 1,1 0,-3A3,3 0 0,1 3,0Z\" transform=\"translate(270.98445929451,170.5229016102217)\" style=\"opacity: 1; stroke-width: 0px; fill: rgb(31, 119, 180); fill-opacity: 1;\"/><path class=\"point\" d=\"M3,0A3,3 0 1,1 0,-3A3,3 0 0,1 3,0Z\" transform=\"translate(267.1845561710221,183.03239594444688)\" style=\"opacity: 1; stroke-width: 0px; fill: rgb(31, 119, 180); fill-opacity: 1;\"/><path class=\"point\" d=\"M3,0A3,3 0 1,1 0,-3A3,3 0 0,1 3,0Z\" transform=\"translate(266.77217918216064,182.7164041285124)\" style=\"opacity: 1; stroke-width: 0px; fill: rgb(31, 119, 180); fill-opacity: 1;\"/><path class=\"point\" d=\"M3,0A3,3 0 1,1 0,-3A3,3 0 0,1 3,0Z\" transform=\"translate(267.6337033300603,181.59099998237548)\" style=\"opacity: 1; stroke-width: 0px; fill: rgb(31, 119, 180); fill-opacity: 1;\"/><path class=\"point\" d=\"M3,0A3,3 0 1,1 0,-3A3,3 0 0,1 3,0Z\" transform=\"translate(289.0477766677714,167.55448331293542)\" style=\"opacity: 1; stroke-width: 0px; fill: rgb(31, 119, 180); fill-opacity: 1;\"/><path class=\"point\" d=\"M3,0A3,3 0 1,1 0,-3A3,3 0 0,1 3,0Z\" transform=\"translate(281.4965652991674,189.15305440802615)\" style=\"opacity: 1; stroke-width: 0px; fill: rgb(31, 119, 180); fill-opacity: 1;\"/><path class=\"point\" d=\"M3,0A3,3 0 1,1 0,-3A3,3 0 0,1 3,0Z\" transform=\"translate(291.8311548298688,183.7033489848261)\" style=\"opacity: 1; stroke-width: 0px; fill: rgb(31, 119, 180); fill-opacity: 1;\"/><path class=\"point\" d=\"M3,0A3,3 0 1,1 0,-3A3,3 0 0,1 3,0Z\" transform=\"translate(279.6734038585092,178.2013732603944)\" style=\"opacity: 1; stroke-width: 0px; fill: rgb(31, 119, 180); fill-opacity: 1;\"/><path class=\"point\" d=\"M3,0A3,3 0 1,1 0,-3A3,3 0 0,1 3,0Z\" transform=\"translate(279.90462908918926,175.6241624587413)\" style=\"opacity: 1; stroke-width: 0px; fill: rgb(31, 119, 180); fill-opacity: 1;\"/><path class=\"point\" d=\"M3,0A3,3 0 1,1 0,-3A3,3 0 0,1 3,0Z\" transform=\"translate(280.6638969796859,172.46862785443227)\" style=\"opacity: 1; stroke-width: 0px; fill: rgb(31, 119, 180); fill-opacity: 1;\"/><path class=\"point\" d=\"M3,0A3,3 0 1,1 0,-3A3,3 0 0,1 3,0Z\" transform=\"translate(101.55072647793207,69.25694388659315)\" style=\"opacity: 1; stroke-width: 0px; fill: rgb(31, 119, 180); fill-opacity: 1;\"/><path class=\"point\" d=\"M3,0A3,3 0 1,1 0,-3A3,3 0 0,1 3,0Z\" transform=\"translate(112.42571673940304,79.54233410227505)\" style=\"opacity: 1; stroke-width: 0px; fill: rgb(31, 119, 180); fill-opacity: 1;\"/><path class=\"point\" d=\"M3,0A3,3 0 1,1 0,-3A3,3 0 0,1 3,0Z\" transform=\"translate(81.71902522325018,84.59656987475609)\" style=\"opacity: 1; stroke-width: 0px; fill: rgb(31, 119, 180); fill-opacity: 1;\"/><path class=\"point\" d=\"M3,0A3,3 0 1,1 0,-3A3,3 0 0,1 3,0Z\" transform=\"translate(78.66310820025777,82.60641464963703)\" style=\"opacity: 1; stroke-width: 0px; fill: rgb(31, 119, 180); fill-opacity: 1;\"/><path class=\"point\" d=\"M3,0A3,3 0 1,1 0,-3A3,3 0 0,1 3,0Z\" transform=\"translate(89.58240173821196,88.3330407316165)\" style=\"opacity: 1; stroke-width: 0px; fill: rgb(31, 119, 180); fill-opacity: 1;\"/><path class=\"point\" d=\"M3,0A3,3 0 1,1 0,-3A3,3 0 0,1 3,0Z\" transform=\"translate(99.52707120788034,91.02715340562906)\" style=\"opacity: 1; stroke-width: 0px; fill: rgb(31, 119, 180); fill-opacity: 1;\"/><path class=\"point\" d=\"M3,0A3,3 0 1,1 0,-3A3,3 0 0,1 3,0Z\" transform=\"translate(84.84412305234235,67.03358956412302)\" style=\"opacity: 1; stroke-width: 0px; fill: rgb(31, 119, 180); fill-opacity: 1;\"/><path class=\"point\" d=\"M3,0A3,3 0 1,1 0,-3A3,3 0 0,1 3,0Z\" transform=\"translate(85.12919468052462,67.55211734525676)\" style=\"opacity: 1; stroke-width: 0px; fill: rgb(31, 119, 180); fill-opacity: 1;\"/><path class=\"point\" d=\"M3,0A3,3 0 1,1 0,-3A3,3 0 0,1 3,0Z\" transform=\"translate(88.5578905571929,71.5401309858151)\" style=\"opacity: 1; stroke-width: 0px; fill: rgb(31, 119, 180); fill-opacity: 1;\"/><path class=\"point\" d=\"M3,0A3,3 0 1,1 0,-3A3,3 0 0,1 3,0Z\" transform=\"translate(84.6907043343029,69.83529005753866)\" style=\"opacity: 1; stroke-width: 0px; fill: rgb(31, 119, 180); fill-opacity: 1;\"/><path class=\"point\" d=\"M3,0A3,3 0 1,1 0,-3A3,3 0 0,1 3,0Z\" transform=\"translate(92.62918522895913,54.13672930420239)\" style=\"opacity: 1; stroke-width: 0px; fill: rgb(31, 119, 180); fill-opacity: 1;\"/><path class=\"point\" d=\"M3,0A3,3 0 1,1 0,-3A3,3 0 0,1 3,0Z\" transform=\"translate(119.98373502699249,59.63335216257269)\" style=\"opacity: 1; stroke-width: 0px; fill: rgb(31, 119, 180); fill-opacity: 1;\"/><path class=\"point\" d=\"M3,0A3,3 0 1,1 0,-3A3,3 0 0,1 3,0Z\" transform=\"translate(90.1908459886497,53.09354753004732)\" style=\"opacity: 1; stroke-width: 0px; fill: rgb(31, 119, 180); fill-opacity: 1;\"/><path class=\"point\" d=\"M3,0A3,3 0 1,1 0,-3A3,3 0 0,1 3,0Z\" transform=\"translate(91.34511163438162,54.857892703637674)\" style=\"opacity: 1; stroke-width: 0px; fill: rgb(31, 119, 180); fill-opacity: 1;\"/><path class=\"point\" d=\"M3,0A3,3 0 1,1 0,-3A3,3 0 0,1 3,0Z\" transform=\"translate(423.1667543143931,123.34467593942787)\" style=\"opacity: 1; stroke-width: 0px; fill: rgb(31, 119, 180); fill-opacity: 1;\"/><path class=\"point\" d=\"M3,0A3,3 0 1,1 0,-3A3,3 0 0,1 3,0Z\" transform=\"translate(401.19479824863606,121.34550236864919)\" style=\"opacity: 1; stroke-width: 0px; fill: rgb(31, 119, 180); fill-opacity: 1;\"/><path class=\"point\" d=\"M3,0A3,3 0 1,1 0,-3A3,3 0 0,1 3,0Z\" transform=\"translate(402.08930266862626,121.55087728856091)\" style=\"opacity: 1; stroke-width: 0px; fill: rgb(31, 119, 180); fill-opacity: 1;\"/><path class=\"point\" d=\"M3,0A3,3 0 1,1 0,-3A3,3 0 0,1 3,0Z\" transform=\"translate(403.03514112145024,122.86298684289847)\" style=\"opacity: 1; stroke-width: 0px; fill: rgb(31, 119, 180); fill-opacity: 1;\"/><path class=\"point\" d=\"M3,0A3,3 0 1,1 0,-3A3,3 0 0,1 3,0Z\" transform=\"translate(400.66078459749724,122.72639793678707)\" style=\"opacity: 1; stroke-width: 0px; fill: rgb(31, 119, 180); fill-opacity: 1;\"/><path class=\"point\" d=\"M3,0A3,3 0 1,1 0,-3A3,3 0 0,1 3,0Z\" transform=\"translate(403.5847983778841,119.71209429534088)\" style=\"opacity: 1; stroke-width: 0px; fill: rgb(31, 119, 180); fill-opacity: 1;\"/><path class=\"point\" d=\"M3,0A3,3 0 1,1 0,-3A3,3 0 0,1 3,0Z\" transform=\"translate(402.95266100529415,122.05970052393354)\" style=\"opacity: 1; stroke-width: 0px; fill: rgb(31, 119, 180); fill-opacity: 1;\"/><path class=\"point\" d=\"M3,0A3,3 0 1,1 0,-3A3,3 0 0,1 3,0Z\" transform=\"translate(402.8721849267773,121.70827513314657)\" style=\"opacity: 1; stroke-width: 0px; fill: rgb(31, 119, 180); fill-opacity: 1;\"/><path class=\"point\" d=\"M3,0A3,3 0 1,1 0,-3A3,3 0 0,1 3,0Z\" transform=\"translate(402.95532328991266,123.18285366303604)\" style=\"opacity: 1; stroke-width: 0px; fill: rgb(31, 119, 180); fill-opacity: 1;\"/><path class=\"point\" d=\"M3,0A3,3 0 1,1 0,-3A3,3 0 0,1 3,0Z\" transform=\"translate(404.4656544435496,117.51219473385476)\" style=\"opacity: 1; stroke-width: 0px; fill: rgb(31, 119, 180); fill-opacity: 1;\"/><path class=\"point\" d=\"M3,0A3,3 0 1,1 0,-3A3,3 0 0,1 3,0Z\" transform=\"translate(398.9248802470912,119.14783742706857)\" style=\"opacity: 1; stroke-width: 0px; fill: rgb(31, 119, 180); fill-opacity: 1;\"/><path class=\"point\" d=\"M3,0A3,3 0 1,1 0,-3A3,3 0 0,1 3,0Z\" transform=\"translate(432.3180139500272,116.60168981057217)\" style=\"opacity: 1; stroke-width: 0px; fill: rgb(31, 119, 180); fill-opacity: 1;\"/><path class=\"point\" d=\"M3,0A3,3 0 1,1 0,-3A3,3 0 0,1 3,0Z\" transform=\"translate(413.9548528095341,118.69928020469541)\" style=\"opacity: 1; stroke-width: 0px; fill: rgb(31, 119, 180); fill-opacity: 1;\"/><path class=\"point\" d=\"M3,0A3,3 0 1,1 0,-3A3,3 0 0,1 3,0Z\" transform=\"translate(425.47345275671927,104.19960310701782)\" style=\"opacity: 1; stroke-width: 0px; fill: rgb(31, 119, 180); fill-opacity: 1;\"/><path class=\"point\" d=\"M3,0A3,3 0 1,1 0,-3A3,3 0 0,1 3,0Z\" transform=\"translate(410.2701952309015,121.73193765773476)\" style=\"opacity: 1; stroke-width: 0px; fill: rgb(31, 119, 180); fill-opacity: 1;\"/><path class=\"point\" d=\"M3,0A3,3 0 1,1 0,-3A3,3 0 0,1 3,0Z\" transform=\"translate(417.13344652507396,115.21256911333927)\" style=\"opacity: 1; stroke-width: 0px; fill: rgb(31, 119, 180); fill-opacity: 1;\"/><path class=\"point\" d=\"M3,0A3,3 0 1,1 0,-3A3,3 0 0,1 3,0Z\" transform=\"translate(435.01082899772354,121.78146959243838)\" style=\"opacity: 1; stroke-width: 0px; fill: rgb(31, 119, 180); fill-opacity: 1;\"/><path class=\"point\" d=\"M3,0A3,3 0 1,1 0,-3A3,3 0 0,1 3,0Z\" transform=\"translate(423.4393342398507,119.8747610660476)\" style=\"opacity: 1; stroke-width: 0px; fill: rgb(31, 119, 180); fill-opacity: 1;\"/><path class=\"point\" d=\"M3,0A3,3 0 1,1 0,-3A3,3 0 0,1 3,0Z\" transform=\"translate(425.9991082699331,119.35173098726352)\" style=\"opacity: 1; stroke-width: 0px; fill: rgb(31, 119, 180); fill-opacity: 1;\"/><path class=\"point\" d=\"M3,0A3,3 0 1,1 0,-3A3,3 0 0,1 3,0Z\" transform=\"translate(437.99870796139305,121.1176441874021)\" style=\"opacity: 1; stroke-width: 0px; fill: rgb(31, 119, 180); fill-opacity: 1;\"/><path class=\"point\" d=\"M3,0A3,3 0 1,1 0,-3A3,3 0 0,1 3,0Z\" transform=\"translate(437.7225936852493,121.35538363653126)\" style=\"opacity: 1; stroke-width: 0px; fill: rgb(31, 119, 180); fill-opacity: 1;\"/><path class=\"point\" d=\"M3,0A3,3 0 1,1 0,-3A3,3 0 0,1 3,0Z\" transform=\"translate(398.6300161903686,104.71689772529862)\" style=\"opacity: 1; stroke-width: 0px; fill: rgb(31, 119, 180); fill-opacity: 1;\"/><path class=\"point\" d=\"M3,0A3,3 0 1,1 0,-3A3,3 0 0,1 3,0Z\" transform=\"translate(404.21511618967446,126.88685456856592)\" style=\"opacity: 1; stroke-width: 0px; fill: rgb(31, 119, 180); fill-opacity: 1;\"/><path class=\"point\" d=\"M3,0A3,3 0 1,1 0,-3A3,3 0 0,1 3,0Z\" transform=\"translate(400.89339084974915,128.57736177798432)\" style=\"opacity: 1; stroke-width: 0px; fill: rgb(31, 119, 180); fill-opacity: 1;\"/><path class=\"point\" d=\"M3,0A3,3 0 1,1 0,-3A3,3 0 0,1 3,0Z\" transform=\"translate(409.76775573193885,119.17993615291988)\" style=\"opacity: 1; stroke-width: 0px; fill: rgb(31, 119, 180); fill-opacity: 1;\"/><path class=\"point\" d=\"M3,0A3,3 0 1,1 0,-3A3,3 0 0,1 3,0Z\" transform=\"translate(432.599902677185,105.43126625601906)\" style=\"opacity: 1; stroke-width: 0px; fill: rgb(31, 119, 180); fill-opacity: 1;\"/><path class=\"point\" d=\"M3,0A3,3 0 1,1 0,-3A3,3 0 0,1 3,0Z\" transform=\"translate(430.6663156455104,120.48229960080704)\" style=\"opacity: 1; stroke-width: 0px; fill: rgb(31, 119, 180); fill-opacity: 1;\"/><path class=\"point\" d=\"M3,0A3,3 0 1,1 0,-3A3,3 0 0,1 3,0Z\" transform=\"translate(431.96195890965987,120.2380931628993)\" style=\"opacity: 1; stroke-width: 0px; fill: rgb(31, 119, 180); fill-opacity: 1;\"/><path class=\"point\" d=\"M3,0A3,3 0 1,1 0,-3A3,3 0 0,1 3,0Z\" transform=\"translate(429.2120776547591,117.7288593700506)\" style=\"opacity: 1; stroke-width: 0px; fill: rgb(31, 119, 180); fill-opacity: 1;\"/><path class=\"point\" d=\"M3,0A3,3 0 1,1 0,-3A3,3 0 0,1 3,0Z\" transform=\"translate(435.8357412314047,113.4401641132867)\" style=\"opacity: 1; stroke-width: 0px; fill: rgb(31, 119, 180); fill-opacity: 1;\"/><path class=\"point\" d=\"M3,0A3,3 0 1,1 0,-3A3,3 0 0,1 3,0Z\" transform=\"translate(421.05320600816697,109.69085074875818)\" style=\"opacity: 1; stroke-width: 0px; fill: rgb(31, 119, 180); fill-opacity: 1;\"/><path class=\"point\" d=\"M3,0A3,3 0 1,1 0,-3A3,3 0 0,1 3,0Z\" transform=\"translate(396.87851027231125,114.63262814477855)\" style=\"opacity: 1; stroke-width: 0px; fill: rgb(31, 119, 180); fill-opacity: 1;\"/><path class=\"point\" d=\"M3,0A3,3 0 1,1 0,-3A3,3 0 0,1 3,0Z\" transform=\"translate(437.8640170985576,118.24087682165327)\" style=\"opacity: 1; stroke-width: 0px; fill: rgb(31, 119, 180); fill-opacity: 1;\"/><path class=\"point\" d=\"M3,0A3,3 0 1,1 0,-3A3,3 0 0,1 3,0Z\" transform=\"translate(436.4828867416273,113.12840344673907)\" style=\"opacity: 1; stroke-width: 0px; fill: rgb(31, 119, 180); fill-opacity: 1;\"/><path class=\"point\" d=\"M3,0A3,3 0 1,1 0,-3A3,3 0 0,1 3,0Z\" transform=\"translate(439.8517806206909,119.06844796892307)\" style=\"opacity: 1; stroke-width: 0px; fill: rgb(31, 119, 180); fill-opacity: 1;\"/><path class=\"point\" d=\"M3,0A3,3 0 1,1 0,-3A3,3 0 0,1 3,0Z\" transform=\"translate(439.20542887534737,119.93288878118364)\" style=\"opacity: 1; stroke-width: 0px; fill: rgb(31, 119, 180); fill-opacity: 1;\"/><path class=\"point\" d=\"M3,0A3,3 0 1,1 0,-3A3,3 0 0,1 3,0Z\" transform=\"translate(439.45646003788875,119.4861854088993)\" style=\"opacity: 1; stroke-width: 0px; fill: rgb(31, 119, 180); fill-opacity: 1;\"/><path class=\"point\" d=\"M3,0A3,3 0 1,1 0,-3A3,3 0 0,1 3,0Z\" transform=\"translate(440.4309339612945,118.27855936501015)\" style=\"opacity: 1; stroke-width: 0px; fill: rgb(31, 119, 180); fill-opacity: 1;\"/><path class=\"point\" d=\"M3,0A3,3 0 1,1 0,-3A3,3 0 0,1 3,0Z\" transform=\"translate(438.9055947372868,119.30624280047874)\" style=\"opacity: 1; stroke-width: 0px; fill: rgb(31, 119, 180); fill-opacity: 1;\"/><path class=\"point\" d=\"M3,0A3,3 0 1,1 0,-3A3,3 0 0,1 3,0Z\" transform=\"translate(431.210931665498,101.2833155656619)\" style=\"opacity: 1; stroke-width: 0px; fill: rgb(31, 119, 180); fill-opacity: 1;\"/><path class=\"point\" d=\"M3,0A3,3 0 1,1 0,-3A3,3 0 0,1 3,0Z\" transform=\"translate(422.45060093050955,105.45379677443611)\" style=\"opacity: 1; stroke-width: 0px; fill: rgb(31, 119, 180); fill-opacity: 1;\"/><path class=\"point\" d=\"M3,0A3,3 0 1,1 0,-3A3,3 0 0,1 3,0Z\" transform=\"translate(403.08269472460273,124.69769362809649)\" style=\"opacity: 1; stroke-width: 0px; fill: rgb(31, 119, 180); fill-opacity: 1;\"/><path class=\"point\" d=\"M3,0A3,3 0 1,1 0,-3A3,3 0 0,1 3,0Z\" transform=\"translate(398.6447153742129,122.33862460843034)\" style=\"opacity: 1; stroke-width: 0px; fill: rgb(31, 119, 180); fill-opacity: 1;\"/><path class=\"point\" d=\"M3,0A3,3 0 1,1 0,-3A3,3 0 0,1 3,0Z\" transform=\"translate(400.28075677227713,123.89950644540289)\" style=\"opacity: 1; stroke-width: 0px; fill: rgb(31, 119, 180); fill-opacity: 1;\"/><path class=\"point\" d=\"M3,0A3,3 0 1,1 0,-3A3,3 0 0,1 3,0Z\" transform=\"translate(405.8117057386896,122.58021797536321)\" style=\"opacity: 1; stroke-width: 0px; fill: rgb(31, 119, 180); fill-opacity: 1;\"/><path class=\"point\" d=\"M3,0A3,3 0 1,1 0,-3A3,3 0 0,1 3,0Z\" transform=\"translate(429.7780996530794,104.3378776864202)\" style=\"opacity: 1; stroke-width: 0px; fill: rgb(31, 119, 180); fill-opacity: 1;\"/><path class=\"point\" d=\"M3,0A3,3 0 1,1 0,-3A3,3 0 0,1 3,0Z\" transform=\"translate(427.6933120428215,121.95404985246643)\" style=\"opacity: 1; stroke-width: 0px; fill: rgb(31, 119, 180); fill-opacity: 1;\"/><path class=\"point\" d=\"M3,0A3,3 0 1,1 0,-3A3,3 0 0,1 3,0Z\" transform=\"translate(460.8506145306323,96.85336231787795)\" style=\"opacity: 1; stroke-width: 0px; fill: rgb(31, 119, 180); fill-opacity: 1;\"/><path class=\"point\" d=\"M3,0A3,3 0 1,1 0,-3A3,3 0 0,1 3,0Z\" transform=\"translate(462.5865419626206,94.36136606166355)\" style=\"opacity: 1; stroke-width: 0px; fill: rgb(31, 119, 180); fill-opacity: 1;\"/><path class=\"point\" d=\"M3,0A3,3 0 1,1 0,-3A3,3 0 0,1 3,0Z\" transform=\"translate(462.6501965489264,93.63268975876565)\" style=\"opacity: 1; stroke-width: 0px; fill: rgb(31, 119, 180); fill-opacity: 1;\"/><path class=\"point\" d=\"M3,0A3,3 0 1,1 0,-3A3,3 0 0,1 3,0Z\" transform=\"translate(462.49621317270805,94.15195686984919)\" style=\"opacity: 1; stroke-width: 0px; fill: rgb(31, 119, 180); fill-opacity: 1;\"/><path class=\"point\" d=\"M3,0A3,3 0 1,1 0,-3A3,3 0 0,1 3,0Z\" transform=\"translate(462.87647698545607,93.92894336987843)\" style=\"opacity: 1; stroke-width: 0px; fill: rgb(31, 119, 180); fill-opacity: 1;\"/><path class=\"point\" d=\"M3,0A3,3 0 1,1 0,-3A3,3 0 0,1 3,0Z\" transform=\"translate(463.32654227888156,97.47490821633397)\" style=\"opacity: 1; stroke-width: 0px; fill: rgb(31, 119, 180); fill-opacity: 1;\"/><path class=\"point\" d=\"M3,0A3,3 0 1,1 0,-3A3,3 0 0,1 3,0Z\" transform=\"translate(415.2610859994762,198.66964313129836)\" style=\"opacity: 1; stroke-width: 0px; fill: rgb(31, 119, 180); fill-opacity: 1;\"/><path class=\"point\" d=\"M3,0A3,3 0 1,1 0,-3A3,3 0 0,1 3,0Z\" transform=\"translate(414.1117794236544,197.3745180961365)\" style=\"opacity: 1; stroke-width: 0px; fill: rgb(31, 119, 180); fill-opacity: 1;\"/><path class=\"point\" d=\"M3,0A3,3 0 1,1 0,-3A3,3 0 0,1 3,0Z\" transform=\"translate(415.32513261296526,199.13197454467888)\" style=\"opacity: 1; stroke-width: 0px; fill: rgb(31, 119, 180); fill-opacity: 1;\"/><path class=\"point\" d=\"M3,0A3,3 0 1,1 0,-3A3,3 0 0,1 3,0Z\" transform=\"translate(410.2232631868329,181.05120139468085)\" style=\"opacity: 1; stroke-width: 0px; fill: rgb(31, 119, 180); fill-opacity: 1;\"/><path class=\"point\" d=\"M3,0A3,3 0 1,1 0,-3A3,3 0 0,1 3,0Z\" transform=\"translate(397.99201430188873,192.07398351665137)\" style=\"opacity: 1; stroke-width: 0px; fill: rgb(31, 119, 180); fill-opacity: 1;\"/><path class=\"point\" d=\"M3,0A3,3 0 1,1 0,-3A3,3 0 0,1 3,0Z\" transform=\"translate(414.4510008850392,184.5008720296031)\" style=\"opacity: 1; stroke-width: 0px; fill: rgb(31, 119, 180); fill-opacity: 1;\"/><path class=\"point\" d=\"M3,0A3,3 0 1,1 0,-3A3,3 0 0,1 3,0Z\" transform=\"translate(391.72343177067205,181.56376116384985)\" style=\"opacity: 1; stroke-width: 0px; fill: rgb(31, 119, 180); fill-opacity: 1;\"/><path class=\"point\" d=\"M3,0A3,3 0 1,1 0,-3A3,3 0 0,1 3,0Z\" transform=\"translate(393.15207592598375,182.3102796317596)\" style=\"opacity: 1; stroke-width: 0px; fill: rgb(31, 119, 180); fill-opacity: 1;\"/><path class=\"point\" d=\"M3,0A3,3 0 1,1 0,-3A3,3 0 0,1 3,0Z\" transform=\"translate(403.2917624669616,188.03652088485882)\" style=\"opacity: 1; stroke-width: 0px; fill: rgb(31, 119, 180); fill-opacity: 1;\"/><path class=\"point\" d=\"M3,0A3,3 0 1,1 0,-3A3,3 0 0,1 3,0Z\" transform=\"translate(404.812826653779,187.35007166903165)\" style=\"opacity: 1; stroke-width: 0px; fill: rgb(31, 119, 180); fill-opacity: 1;\"/><path class=\"point\" d=\"M3,0A3,3 0 1,1 0,-3A3,3 0 0,1 3,0Z\" transform=\"translate(395.56369582157714,179.84398606977845)\" style=\"opacity: 1; stroke-width: 0px; fill: rgb(31, 119, 180); fill-opacity: 1;\"/><path class=\"point\" d=\"M3,0A3,3 0 1,1 0,-3A3,3 0 0,1 3,0Z\" transform=\"translate(404.20754363750194,178.950262337622)\" style=\"opacity: 1; stroke-width: 0px; fill: rgb(31, 119, 180); fill-opacity: 1;\"/><path class=\"point\" d=\"M3,0A3,3 0 1,1 0,-3A3,3 0 0,1 3,0Z\" transform=\"translate(273.8626185796768,92.1542119126654)\" style=\"opacity: 1; stroke-width: 0px; fill: rgb(31, 119, 180); fill-opacity: 1;\"/><path class=\"point\" d=\"M3,0A3,3 0 1,1 0,-3A3,3 0 0,1 3,0Z\" transform=\"translate(261.9379038161836,80.54356198966167)\" style=\"opacity: 1; stroke-width: 0px; fill: rgb(31, 119, 180); fill-opacity: 1;\"/><path class=\"point\" d=\"M3,0A3,3 0 1,1 0,-3A3,3 0 0,1 3,0Z\" transform=\"translate(271.5991137000615,86.51688128759497)\" style=\"opacity: 1; stroke-width: 0px; fill: rgb(31, 119, 180); fill-opacity: 1;\"/><path class=\"point\" d=\"M3,0A3,3 0 1,1 0,-3A3,3 0 0,1 3,0Z\" transform=\"translate(224.89110062173188,98.0898513860331)\" style=\"opacity: 1; stroke-width: 0px; fill: rgb(31, 119, 180); fill-opacity: 1;\"/><path class=\"point\" d=\"M3,0A3,3 0 1,1 0,-3A3,3 0 0,1 3,0Z\" transform=\"translate(248.66133855611446,91.22186623751566)\" style=\"opacity: 1; stroke-width: 0px; fill: rgb(31, 119, 180); fill-opacity: 1;\"/><path class=\"point\" d=\"M3,0A3,3 0 1,1 0,-3A3,3 0 0,1 3,0Z\" transform=\"translate(236.29493928417463,96.97278249605631)\" style=\"opacity: 1; stroke-width: 0px; fill: rgb(31, 119, 180); fill-opacity: 1;\"/><path class=\"point\" d=\"M3,0A3,3 0 1,1 0,-3A3,3 0 0,1 3,0Z\" transform=\"translate(273.9734571448129,99.80329607844612)\" style=\"opacity: 1; stroke-width: 0px; fill: rgb(31, 119, 180); fill-opacity: 1;\"/><path class=\"point\" d=\"M3,0A3,3 0 1,1 0,-3A3,3 0 0,1 3,0Z\" transform=\"translate(226.84038505953487,92.81847658706357)\" style=\"opacity: 1; stroke-width: 0px; fill: rgb(31, 119, 180); fill-opacity: 1;\"/><path class=\"point\" d=\"M3,0A3,3 0 1,1 0,-3A3,3 0 0,1 3,0Z\" transform=\"translate(274.46672310704247,108.4676120328196)\" style=\"opacity: 1; stroke-width: 0px; fill: rgb(31, 119, 180); fill-opacity: 1;\"/><path class=\"point\" d=\"M3,0A3,3 0 1,1 0,-3A3,3 0 0,1 3,0Z\" transform=\"translate(378.0007670522653,173.85473661130015)\" style=\"opacity: 1; stroke-width: 0px; fill: rgb(31, 119, 180); fill-opacity: 1;\"/><path class=\"point\" d=\"M3,0A3,3 0 1,1 0,-3A3,3 0 0,1 3,0Z\" transform=\"translate(354.8801240024896,172.251792455319)\" style=\"opacity: 1; stroke-width: 0px; fill: rgb(31, 119, 180); fill-opacity: 1;\"/><path class=\"point\" d=\"M3,0A3,3 0 1,1 0,-3A3,3 0 0,1 3,0Z\" transform=\"translate(354.9528963740658,172.59500374977864)\" style=\"opacity: 1; stroke-width: 0px; fill: rgb(31, 119, 180); fill-opacity: 1;\"/><path class=\"point\" d=\"M3,0A3,3 0 1,1 0,-3A3,3 0 0,1 3,0Z\" transform=\"translate(333.5565198642282,175.31091882449783)\" style=\"opacity: 1; stroke-width: 0px; fill: rgb(31, 119, 180); fill-opacity: 1;\"/><path class=\"point\" d=\"M3,0A3,3 0 1,1 0,-3A3,3 0 0,1 3,0Z\" transform=\"translate(368.3428294891097,183.01910941085407)\" style=\"opacity: 1; stroke-width: 0px; fill: rgb(31, 119, 180); fill-opacity: 1;\"/><path class=\"point\" d=\"M3,0A3,3 0 1,1 0,-3A3,3 0 0,1 3,0Z\" transform=\"translate(367.86673060555864,182.4897414607418)\" style=\"opacity: 1; stroke-width: 0px; fill: rgb(31, 119, 180); fill-opacity: 1;\"/><path class=\"point\" d=\"M3,0A3,3 0 1,1 0,-3A3,3 0 0,1 3,0Z\" transform=\"translate(377.8582385606196,171.68225044552474)\" style=\"opacity: 1; stroke-width: 0px; fill: rgb(31, 119, 180); fill-opacity: 1;\"/><path class=\"point\" d=\"M3,0A3,3 0 1,1 0,-3A3,3 0 0,1 3,0Z\" transform=\"translate(377.6603582444512,171.7343991864567)\" style=\"opacity: 1; stroke-width: 0px; fill: rgb(31, 119, 180); fill-opacity: 1;\"/><path class=\"point\" d=\"M3,0A3,3 0 1,1 0,-3A3,3 0 0,1 3,0Z\" transform=\"translate(378.22805384919144,171.2365925024073)\" style=\"opacity: 1; stroke-width: 0px; fill: rgb(31, 119, 180); fill-opacity: 1;\"/><path class=\"point\" d=\"M3,0A3,3 0 1,1 0,-3A3,3 0 0,1 3,0Z\" transform=\"translate(350.3496761035406,183.5935130712599)\" style=\"opacity: 1; stroke-width: 0px; fill: rgb(31, 119, 180); fill-opacity: 1;\"/><path class=\"point\" d=\"M3,0A3,3 0 1,1 0,-3A3,3 0 0,1 3,0Z\" transform=\"translate(374.80967230435994,174.74859120503805)\" style=\"opacity: 1; stroke-width: 0px; fill: rgb(31, 119, 180); fill-opacity: 1;\"/><path class=\"point\" d=\"M3,0A3,3 0 1,1 0,-3A3,3 0 0,1 3,0Z\" transform=\"translate(373.08714370181826,177.75851573244847)\" style=\"opacity: 1; stroke-width: 0px; fill: rgb(31, 119, 180); fill-opacity: 1;\"/><path class=\"point\" d=\"M3,0A3,3 0 1,1 0,-3A3,3 0 0,1 3,0Z\" transform=\"translate(338.3937099930851,178.53178894811492)\" style=\"opacity: 1; stroke-width: 0px; fill: rgb(31, 119, 180); fill-opacity: 1;\"/><path class=\"point\" d=\"M3,0A3,3 0 1,1 0,-3A3,3 0 0,1 3,0Z\" transform=\"translate(353.197907669559,177.81944907263136)\" style=\"opacity: 1; stroke-width: 0px; fill: rgb(31, 119, 180); fill-opacity: 1;\"/><path class=\"point\" d=\"M3,0A3,3 0 1,1 0,-3A3,3 0 0,1 3,0Z\" transform=\"translate(349.24968744417225,168.29909399788977)\" style=\"opacity: 1; stroke-width: 0px; fill: rgb(31, 119, 180); fill-opacity: 1;\"/><path class=\"point\" d=\"M3,0A3,3 0 1,1 0,-3A3,3 0 0,1 3,0Z\" transform=\"translate(364.95015463900086,171.10457916269615)\" style=\"opacity: 1; stroke-width: 0px; fill: rgb(31, 119, 180); fill-opacity: 1;\"/><path class=\"point\" d=\"M3,0A3,3 0 1,1 0,-3A3,3 0 0,1 3,0Z\" transform=\"translate(372.91906925915333,172.72686206416842)\" style=\"opacity: 1; stroke-width: 0px; fill: rgb(31, 119, 180); fill-opacity: 1;\"/><path class=\"point\" d=\"M3,0A3,3 0 1,1 0,-3A3,3 0 0,1 3,0Z\" transform=\"translate(373.1159049237667,173.08031218609335)\" style=\"opacity: 1; stroke-width: 0px; fill: rgb(31, 119, 180); fill-opacity: 1;\"/><path class=\"point\" d=\"M3,0A3,3 0 1,1 0,-3A3,3 0 0,1 3,0Z\" transform=\"translate(373.32870694157043,173.00738929210263)\" style=\"opacity: 1; stroke-width: 0px; fill: rgb(31, 119, 180); fill-opacity: 1;\"/><path class=\"point\" d=\"M3,0A3,3 0 1,1 0,-3A3,3 0 0,1 3,0Z\" transform=\"translate(373.1877955734615,173.20326221425648)\" style=\"opacity: 1; stroke-width: 0px; fill: rgb(31, 119, 180); fill-opacity: 1;\"/><path class=\"point\" d=\"M3,0A3,3 0 1,1 0,-3A3,3 0 0,1 3,0Z\" transform=\"translate(373.1482193244109,172.839388123366)\" style=\"opacity: 1; stroke-width: 0px; fill: rgb(31, 119, 180); fill-opacity: 1;\"/><path class=\"point\" d=\"M3,0A3,3 0 1,1 0,-3A3,3 0 0,1 3,0Z\" transform=\"translate(328.77833692076126,184.89376365202918)\" style=\"opacity: 1; stroke-width: 0px; fill: rgb(31, 119, 180); fill-opacity: 1;\"/><path class=\"point\" d=\"M3,0A3,3 0 1,1 0,-3A3,3 0 0,1 3,0Z\" transform=\"translate(330.35116628698455,184.78825320930827)\" style=\"opacity: 1; stroke-width: 0px; fill: rgb(31, 119, 180); fill-opacity: 1;\"/><path class=\"point\" d=\"M3,0A3,3 0 1,1 0,-3A3,3 0 0,1 3,0Z\" transform=\"translate(330.17709955218925,184.70127560684602)\" style=\"opacity: 1; stroke-width: 0px; fill: rgb(31, 119, 180); fill-opacity: 1;\"/><path class=\"point\" d=\"M3,0A3,3 0 1,1 0,-3A3,3 0 0,1 3,0Z\" transform=\"translate(388.38999968058505,164.47960295871616)\" style=\"opacity: 1; stroke-width: 0px; fill: rgb(31, 119, 180); fill-opacity: 1;\"/><path class=\"point\" d=\"M3,0A3,3 0 1,1 0,-3A3,3 0 0,1 3,0Z\" transform=\"translate(355.45189105826523,170.94630309885736)\" style=\"opacity: 1; stroke-width: 0px; fill: rgb(31, 119, 180); fill-opacity: 1;\"/><path class=\"point\" d=\"M3,0A3,3 0 1,1 0,-3A3,3 0 0,1 3,0Z\" transform=\"translate(267.3022898255196,227.55099974479856)\" style=\"opacity: 1; stroke-width: 0px; fill: rgb(31, 119, 180); fill-opacity: 1;\"/><path class=\"point\" d=\"M3,0A3,3 0 1,1 0,-3A3,3 0 0,1 3,0Z\" transform=\"translate(295.90698788199586,203.83938375382428)\" style=\"opacity: 1; stroke-width: 0px; fill: rgb(31, 119, 180); fill-opacity: 1;\"/><path class=\"point\" d=\"M3,0A3,3 0 1,1 0,-3A3,3 0 0,1 3,0Z\" transform=\"translate(276.54822427281687,232.67503558687332)\" style=\"opacity: 1; stroke-width: 0px; fill: rgb(31, 119, 180); fill-opacity: 1;\"/><path class=\"point\" d=\"M3,0A3,3 0 1,1 0,-3A3,3 0 0,1 3,0Z\" transform=\"translate(272.936951275127,210.74590344819183)\" style=\"opacity: 1; stroke-width: 0px; fill: rgb(31, 119, 180); fill-opacity: 1;\"/><path class=\"point\" d=\"M3,0A3,3 0 1,1 0,-3A3,3 0 0,1 3,0Z\" transform=\"translate(272.41079973379874,210.27293653560554)\" style=\"opacity: 1; stroke-width: 0px; fill: rgb(31, 119, 180); fill-opacity: 1;\"/><path class=\"point\" d=\"M3,0A3,3 0 1,1 0,-3A3,3 0 0,1 3,0Z\" transform=\"translate(269.6079428612396,206.16069542129793)\" style=\"opacity: 1; stroke-width: 0px; fill: rgb(31, 119, 180); fill-opacity: 1;\"/><path class=\"point\" d=\"M3,0A3,3 0 1,1 0,-3A3,3 0 0,1 3,0Z\" transform=\"translate(225.31889968608598,218.19907548936828)\" style=\"opacity: 1; stroke-width: 0px; fill: rgb(31, 119, 180); fill-opacity: 1;\"/><path class=\"point\" d=\"M3,0A3,3 0 1,1 0,-3A3,3 0 0,1 3,0Z\" transform=\"translate(270.95738618705184,213.71425432396438)\" style=\"opacity: 1; stroke-width: 0px; fill: rgb(31, 119, 180); fill-opacity: 1;\"/><path class=\"point\" d=\"M3,0A3,3 0 1,1 0,-3A3,3 0 0,1 3,0Z\" transform=\"translate(189.5439755801911,216.06727747439732)\" style=\"opacity: 1; stroke-width: 0px; fill: rgb(31, 119, 180); fill-opacity: 1;\"/><path class=\"point\" d=\"M3,0A3,3 0 1,1 0,-3A3,3 0 0,1 3,0Z\" transform=\"translate(189.93458258924903,216.13723461809008)\" style=\"opacity: 1; stroke-width: 0px; fill: rgb(31, 119, 180); fill-opacity: 1;\"/><path class=\"point\" d=\"M3,0A3,3 0 1,1 0,-3A3,3 0 0,1 3,0Z\" transform=\"translate(285.64683955483247,240.06508562173997)\" style=\"opacity: 1; stroke-width: 0px; fill: rgb(31, 119, 180); fill-opacity: 1;\"/><path class=\"point\" d=\"M3,0A3,3 0 1,1 0,-3A3,3 0 0,1 3,0Z\" transform=\"translate(286.0225631388054,240.80449019007995)\" style=\"opacity: 1; stroke-width: 0px; fill: rgb(31, 119, 180); fill-opacity: 1;\"/><path class=\"point\" d=\"M3,0A3,3 0 1,1 0,-3A3,3 0 0,1 3,0Z\" transform=\"translate(288.2567014470022,241.36844755083075)\" style=\"opacity: 1; stroke-width: 0px; fill: rgb(31, 119, 180); fill-opacity: 1;\"/><path class=\"point\" d=\"M3,0A3,3 0 1,1 0,-3A3,3 0 0,1 3,0Z\" transform=\"translate(282.92713657268155,241.88755989788172)\" style=\"opacity: 1; stroke-width: 0px; fill: rgb(31, 119, 180); fill-opacity: 1;\"/><path class=\"point\" d=\"M3,0A3,3 0 1,1 0,-3A3,3 0 0,1 3,0Z\" transform=\"translate(286.5872532293453,241.4112747455065)\" style=\"opacity: 1; stroke-width: 0px; fill: rgb(31, 119, 180); fill-opacity: 1;\"/><path class=\"point\" d=\"M3,0A3,3 0 1,1 0,-3A3,3 0 0,1 3,0Z\" transform=\"translate(286.2636016797637,241.7624364195426)\" style=\"opacity: 1; stroke-width: 0px; fill: rgb(31, 119, 180); fill-opacity: 1;\"/><path class=\"point\" d=\"M3,0A3,3 0 1,1 0,-3A3,3 0 0,1 3,0Z\" transform=\"translate(285.11058750675085,240.94876056004455)\" style=\"opacity: 1; stroke-width: 0px; fill: rgb(31, 119, 180); fill-opacity: 1;\"/><path class=\"point\" d=\"M3,0A3,3 0 1,1 0,-3A3,3 0 0,1 3,0Z\" transform=\"translate(295.30283952088445,211.70038175553594)\" style=\"opacity: 1; stroke-width: 0px; fill: rgb(31, 119, 180); fill-opacity: 1;\"/><path class=\"point\" d=\"M3,0A3,3 0 1,1 0,-3A3,3 0 0,1 3,0Z\" transform=\"translate(298.11731822704456,239.66128328878858)\" style=\"opacity: 1; stroke-width: 0px; fill: rgb(31, 119, 180); fill-opacity: 1;\"/><path class=\"point\" d=\"M3,0A3,3 0 1,1 0,-3A3,3 0 0,1 3,0Z\" transform=\"translate(294.53052260744744,240.33221852348646)\" style=\"opacity: 1; stroke-width: 0px; fill: rgb(31, 119, 180); fill-opacity: 1;\"/><path class=\"point\" d=\"M3,0A3,3 0 1,1 0,-3A3,3 0 0,1 3,0Z\" transform=\"translate(231.0835862596253,200.99271118721026)\" style=\"opacity: 1; stroke-width: 0px; fill: rgb(31, 119, 180); fill-opacity: 1;\"/><path class=\"point\" d=\"M3,0A3,3 0 1,1 0,-3A3,3 0 0,1 3,0Z\" transform=\"translate(298.4256065080102,236.89292033900733)\" style=\"opacity: 1; stroke-width: 0px; fill: rgb(31, 119, 180); fill-opacity: 1;\"/><path class=\"point\" d=\"M3,0A3,3 0 1,1 0,-3A3,3 0 0,1 3,0Z\" transform=\"translate(231.0860338735102,184.4032802790408)\" style=\"opacity: 1; stroke-width: 0px; fill: rgb(31, 119, 180); fill-opacity: 1;\"/><path class=\"point\" d=\"M3,0A3,3 0 1,1 0,-3A3,3 0 0,1 3,0Z\" transform=\"translate(268.19396947297355,210.3695105046445)\" style=\"opacity: 1; stroke-width: 0px; fill: rgb(31, 119, 180); fill-opacity: 1;\"/><path class=\"point\" d=\"M3,0A3,3 0 1,1 0,-3A3,3 0 0,1 3,0Z\" transform=\"translate(268.3077878050631,210.84828907581942)\" style=\"opacity: 1; stroke-width: 0px; fill: rgb(31, 119, 180); fill-opacity: 1;\"/><path class=\"point\" d=\"M3,0A3,3 0 1,1 0,-3A3,3 0 0,1 3,0Z\" transform=\"translate(268.33171333322855,211.81398980423575)\" style=\"opacity: 1; stroke-width: 0px; fill: rgb(31, 119, 180); fill-opacity: 1;\"/><path class=\"point\" d=\"M3,0A3,3 0 1,1 0,-3A3,3 0 0,1 3,0Z\" transform=\"translate(264.28897025009604,235.3229256491304)\" style=\"opacity: 1; stroke-width: 0px; fill: rgb(31, 119, 180); fill-opacity: 1;\"/><path class=\"point\" d=\"M3,0A3,3 0 1,1 0,-3A3,3 0 0,1 3,0Z\" transform=\"translate(264.70032472354563,236.26474994867363)\" style=\"opacity: 1; stroke-width: 0px; fill: rgb(31, 119, 180); fill-opacity: 1;\"/><path class=\"point\" d=\"M3,0A3,3 0 1,1 0,-3A3,3 0 0,1 3,0Z\" transform=\"translate(264.90282589910356,235.3451200049688)\" style=\"opacity: 1; stroke-width: 0px; fill: rgb(31, 119, 180); fill-opacity: 1;\"/><path class=\"point\" d=\"M3,0A3,3 0 1,1 0,-3A3,3 0 0,1 3,0Z\" transform=\"translate(161.0954620476425,107.87266903002819)\" style=\"opacity: 1; stroke-width: 0px; fill: rgb(31, 119, 180); fill-opacity: 1;\"/><path class=\"point\" d=\"M3,0A3,3 0 1,1 0,-3A3,3 0 0,1 3,0Z\" transform=\"translate(159.25471438125032,117.3256883373449)\" style=\"opacity: 1; stroke-width: 0px; fill: rgb(31, 119, 180); fill-opacity: 1;\"/><path class=\"point\" d=\"M3,0A3,3 0 1,1 0,-3A3,3 0 0,1 3,0Z\" transform=\"translate(172.4448095733826,125.73717044270217)\" style=\"opacity: 1; stroke-width: 0px; fill: rgb(31, 119, 180); fill-opacity: 1;\"/><path class=\"point\" d=\"M3,0A3,3 0 1,1 0,-3A3,3 0 0,1 3,0Z\" transform=\"translate(144.68724815867958,147.64491501518955)\" style=\"opacity: 1; stroke-width: 0px; fill: rgb(31, 119, 180); fill-opacity: 1;\"/><path class=\"point\" d=\"M3,0A3,3 0 1,1 0,-3A3,3 0 0,1 3,0Z\" transform=\"translate(158.66151722786037,120.39575527985784)\" style=\"opacity: 1; stroke-width: 0px; fill: rgb(31, 119, 180); fill-opacity: 1;\"/><path class=\"point\" d=\"M3,0A3,3 0 1,1 0,-3A3,3 0 0,1 3,0Z\" transform=\"translate(159.06285342947126,119.02510897056823)\" style=\"opacity: 1; stroke-width: 0px; fill: rgb(31, 119, 180); fill-opacity: 1;\"/><path class=\"point\" d=\"M3,0A3,3 0 1,1 0,-3A3,3 0 0,1 3,0Z\" transform=\"translate(158.7020520683376,118.46686634286675)\" style=\"opacity: 1; stroke-width: 0px; fill: rgb(31, 119, 180); fill-opacity: 1;\"/><path class=\"point\" d=\"M3,0A3,3 0 1,1 0,-3A3,3 0 0,1 3,0Z\" transform=\"translate(157.41421538483723,121.24157960935923)\" style=\"opacity: 1; stroke-width: 0px; fill: rgb(31, 119, 180); fill-opacity: 1;\"/><path class=\"point\" d=\"M3,0A3,3 0 1,1 0,-3A3,3 0 0,1 3,0Z\" transform=\"translate(158.578206912018,118.5194646488062)\" style=\"opacity: 1; stroke-width: 0px; fill: rgb(31, 119, 180); fill-opacity: 1;\"/><path class=\"point\" d=\"M3,0A3,3 0 1,1 0,-3A3,3 0 0,1 3,0Z\" transform=\"translate(157.56385394435847,118.02709827882956)\" style=\"opacity: 1; stroke-width: 0px; fill: rgb(31, 119, 180); fill-opacity: 1;\"/><path class=\"point\" d=\"M3,0A3,3 0 1,1 0,-3A3,3 0 0,1 3,0Z\" transform=\"translate(158.7192209800395,119.73145844509418)\" style=\"opacity: 1; stroke-width: 0px; fill: rgb(31, 119, 180); fill-opacity: 1;\"/><path class=\"point\" d=\"M3,0A3,3 0 1,1 0,-3A3,3 0 0,1 3,0Z\" transform=\"translate(155.2022573070371,119.77745607222079)\" style=\"opacity: 1; stroke-width: 0px; fill: rgb(31, 119, 180); fill-opacity: 1;\"/><path class=\"point\" d=\"M3,0A3,3 0 1,1 0,-3A3,3 0 0,1 3,0Z\" transform=\"translate(176.10201411315876,124.50397032592866)\" style=\"opacity: 1; stroke-width: 0px; fill: rgb(31, 119, 180); fill-opacity: 1;\"/><path class=\"point\" d=\"M3,0A3,3 0 1,1 0,-3A3,3 0 0,1 3,0Z\" transform=\"translate(178.78560000941505,131.05743942023474)\" style=\"opacity: 1; stroke-width: 0px; fill: rgb(31, 119, 180); fill-opacity: 1;\"/><path class=\"point\" d=\"M3,0A3,3 0 1,1 0,-3A3,3 0 0,1 3,0Z\" transform=\"translate(159.59086216100286,123.22054739318975)\" style=\"opacity: 1; stroke-width: 0px; fill: rgb(31, 119, 180); fill-opacity: 1;\"/><path class=\"point\" d=\"M3,0A3,3 0 1,1 0,-3A3,3 0 0,1 3,0Z\" transform=\"translate(159.64819998461343,125.36217895902672)\" style=\"opacity: 1; stroke-width: 0px; fill: rgb(31, 119, 180); fill-opacity: 1;\"/><path class=\"point\" d=\"M3,0A3,3 0 1,1 0,-3A3,3 0 0,1 3,0Z\" transform=\"translate(141.67687795454432,153.02479537465803)\" style=\"opacity: 1; stroke-width: 0px; fill: rgb(31, 119, 180); fill-opacity: 1;\"/><path class=\"point\" d=\"M3,0A3,3 0 1,1 0,-3A3,3 0 0,1 3,0Z\" transform=\"translate(159.16539312933043,113.14611453367718)\" style=\"opacity: 1; stroke-width: 0px; fill: rgb(31, 119, 180); fill-opacity: 1;\"/><path class=\"point\" d=\"M3,0A3,3 0 1,1 0,-3A3,3 0 0,1 3,0Z\" transform=\"translate(446.5768009923829,87.02928551971678)\" style=\"opacity: 1; stroke-width: 0px; fill: rgb(31, 119, 180); fill-opacity: 1;\"/><path class=\"point\" d=\"M3,0A3,3 0 1,1 0,-3A3,3 0 0,1 3,0Z\" transform=\"translate(445.2801542313351,70.09930619980662)\" style=\"opacity: 1; stroke-width: 0px; fill: rgb(31, 119, 180); fill-opacity: 1;\"/><path class=\"point\" d=\"M3,0A3,3 0 1,1 0,-3A3,3 0 0,1 3,0Z\" transform=\"translate(443.00766865831906,71.20698541362026)\" style=\"opacity: 1; stroke-width: 0px; fill: rgb(31, 119, 180); fill-opacity: 1;\"/><path class=\"point\" d=\"M3,0A3,3 0 1,1 0,-3A3,3 0 0,1 3,0Z\" transform=\"translate(446.7320428294597,79.41132021820403)\" style=\"opacity: 1; stroke-width: 0px; fill: rgb(31, 119, 180); fill-opacity: 1;\"/><path class=\"point\" d=\"M3,0A3,3 0 1,1 0,-3A3,3 0 0,1 3,0Z\" transform=\"translate(417.5706925323343,143.68957088194685)\" style=\"opacity: 1; stroke-width: 0px; fill: rgb(31, 119, 180); fill-opacity: 1;\"/><path class=\"point\" d=\"M3,0A3,3 0 1,1 0,-3A3,3 0 0,1 3,0Z\" transform=\"translate(427.2218034992766,133.6493621119493)\" style=\"opacity: 1; stroke-width: 0px; fill: rgb(31, 119, 180); fill-opacity: 1;\"/><path class=\"point\" d=\"M3,0A3,3 0 1,1 0,-3A3,3 0 0,1 3,0Z\" transform=\"translate(428.72749054745947,149.19090416826754)\" style=\"opacity: 1; stroke-width: 0px; fill: rgb(31, 119, 180); fill-opacity: 1;\"/><path class=\"point\" d=\"M3,0A3,3 0 1,1 0,-3A3,3 0 0,1 3,0Z\" transform=\"translate(426.0771117352287,149.57846852740585)\" style=\"opacity: 1; stroke-width: 0px; fill: rgb(31, 119, 180); fill-opacity: 1;\"/><path class=\"point\" d=\"M3,0A3,3 0 1,1 0,-3A3,3 0 0,1 3,0Z\" transform=\"translate(427.04343585174115,134.56852886540577)\" style=\"opacity: 1; stroke-width: 0px; fill: rgb(31, 119, 180); fill-opacity: 1;\"/><path class=\"point\" d=\"M3,0A3,3 0 1,1 0,-3A3,3 0 0,1 3,0Z\" transform=\"translate(426.4472575885825,134.74072899132165)\" style=\"opacity: 1; stroke-width: 0px; fill: rgb(31, 119, 180); fill-opacity: 1;\"/><path class=\"point\" d=\"M3,0A3,3 0 1,1 0,-3A3,3 0 0,1 3,0Z\" transform=\"translate(418.5429809132727,130.92624517031783)\" style=\"opacity: 1; stroke-width: 0px; fill: rgb(31, 119, 180); fill-opacity: 1;\"/><path class=\"point\" d=\"M3,0A3,3 0 1,1 0,-3A3,3 0 0,1 3,0Z\" transform=\"translate(427.197180015886,147.27520483721605)\" style=\"opacity: 1; stroke-width: 0px; fill: rgb(31, 119, 180); fill-opacity: 1;\"/><path class=\"point\" d=\"M3,0A3,3 0 1,1 0,-3A3,3 0 0,1 3,0Z\" transform=\"translate(425.66939679478685,146.37554952935102)\" style=\"opacity: 1; stroke-width: 0px; fill: rgb(31, 119, 180); fill-opacity: 1;\"/><path class=\"point\" d=\"M3,0A3,3 0 1,1 0,-3A3,3 0 0,1 3,0Z\" transform=\"translate(423.5839807966007,132.62740819968707)\" style=\"opacity: 1; stroke-width: 0px; fill: rgb(31, 119, 180); fill-opacity: 1;\"/><path class=\"point\" d=\"M3,0A3,3 0 1,1 0,-3A3,3 0 0,1 3,0Z\" transform=\"translate(408.1757560251398,153.63861189154102)\" style=\"opacity: 1; stroke-width: 0px; fill: rgb(31, 119, 180); fill-opacity: 1;\"/><path class=\"point\" d=\"M3,0A3,3 0 1,1 0,-3A3,3 0 0,1 3,0Z\" transform=\"translate(414.37182832555345,140.0944689552967)\" style=\"opacity: 1; stroke-width: 0px; fill: rgb(31, 119, 180); fill-opacity: 1;\"/><path class=\"point\" d=\"M3,0A3,3 0 1,1 0,-3A3,3 0 0,1 3,0Z\" transform=\"translate(391.14930935685,163.3624163508897)\" style=\"opacity: 1; stroke-width: 0px; fill: rgb(31, 119, 180); fill-opacity: 1;\"/><path class=\"point\" d=\"M3,0A3,3 0 1,1 0,-3A3,3 0 0,1 3,0Z\" transform=\"translate(436.07250515859073,150.2096346960637)\" style=\"opacity: 1; stroke-width: 0px; fill: rgb(31, 119, 180); fill-opacity: 1;\"/><path class=\"point\" d=\"M3,0A3,3 0 1,1 0,-3A3,3 0 0,1 3,0Z\" transform=\"translate(413.3692796172437,152.21707080946965)\" style=\"opacity: 1; stroke-width: 0px; fill: rgb(31, 119, 180); fill-opacity: 1;\"/><path class=\"point\" d=\"M3,0A3,3 0 1,1 0,-3A3,3 0 0,1 3,0Z\" transform=\"translate(437.2698404746625,152.56113304538025)\" style=\"opacity: 1; stroke-width: 0px; fill: rgb(31, 119, 180); fill-opacity: 1;\"/><path class=\"point\" d=\"M3,0A3,3 0 1,1 0,-3A3,3 0 0,1 3,0Z\" transform=\"translate(426.58884584149973,147.0360320514726)\" style=\"opacity: 1; stroke-width: 0px; fill: rgb(31, 119, 180); fill-opacity: 1;\"/><path class=\"point\" d=\"M3,0A3,3 0 1,1 0,-3A3,3 0 0,1 3,0Z\" transform=\"translate(406.599433908858,153.75621887521731)\" style=\"opacity: 1; stroke-width: 0px; fill: rgb(31, 119, 180); fill-opacity: 1;\"/><path class=\"point\" d=\"M3,0A3,3 0 1,1 0,-3A3,3 0 0,1 3,0Z\" transform=\"translate(438.24568849156714,152.4986425742622)\" style=\"opacity: 1; stroke-width: 0px; fill: rgb(31, 119, 180); fill-opacity: 1;\"/><path class=\"point\" d=\"M3,0A3,3 0 1,1 0,-3A3,3 0 0,1 3,0Z\" transform=\"translate(93.14708419028952,52.734083607038144)\" style=\"opacity: 1; stroke-width: 0px; fill: rgb(31, 119, 180); fill-opacity: 1;\"/><path class=\"point\" d=\"M3,0A3,3 0 1,1 0,-3A3,3 0 0,1 3,0Z\" transform=\"translate(100.38808596721728,34.21780951922392)\" style=\"opacity: 1; stroke-width: 0px; fill: rgb(31, 119, 180); fill-opacity: 1;\"/><path class=\"point\" d=\"M3,0A3,3 0 1,1 0,-3A3,3 0 0,1 3,0Z\" transform=\"translate(100.16148025908234,34.54674139799215)\" style=\"opacity: 1; stroke-width: 0px; fill: rgb(31, 119, 180); fill-opacity: 1;\"/><path class=\"point\" d=\"M3,0A3,3 0 1,1 0,-3A3,3 0 0,1 3,0Z\" transform=\"translate(100.39046439638497,35.25447772249987)\" style=\"opacity: 1; stroke-width: 0px; fill: rgb(31, 119, 180); fill-opacity: 1;\"/><path class=\"point\" d=\"M3,0A3,3 0 1,1 0,-3A3,3 0 0,1 3,0Z\" transform=\"translate(100.38174881447304,34.520271446966206)\" style=\"opacity: 1; stroke-width: 0px; fill: rgb(31, 119, 180); fill-opacity: 1;\"/><path class=\"point\" d=\"M3,0A3,3 0 1,1 0,-3A3,3 0 0,1 3,0Z\" transform=\"translate(100.4008797233428,36.437930286792835)\" style=\"opacity: 1; stroke-width: 0px; fill: rgb(31, 119, 180); fill-opacity: 1;\"/><path class=\"point\" d=\"M3,0A3,3 0 1,1 0,-3A3,3 0 0,1 3,0Z\" transform=\"translate(98.33389433401629,33.67811060323743)\" style=\"opacity: 1; stroke-width: 0px; fill: rgb(31, 119, 180); fill-opacity: 1;\"/><path class=\"point\" d=\"M3,0A3,3 0 1,1 0,-3A3,3 0 0,1 3,0Z\" transform=\"translate(110.64173534962836,43.35460076436999)\" style=\"opacity: 1; stroke-width: 0px; fill: rgb(31, 119, 180); fill-opacity: 1;\"/><path class=\"point\" d=\"M3,0A3,3 0 1,1 0,-3A3,3 0 0,1 3,0Z\" transform=\"translate(121.03776296575174,31.381341214377017)\" style=\"opacity: 1; stroke-width: 0px; fill: rgb(31, 119, 180); fill-opacity: 1;\"/><path class=\"point\" d=\"M3,0A3,3 0 1,1 0,-3A3,3 0 0,1 3,0Z\" transform=\"translate(98.4102019133947,37.55047302842246)\" style=\"opacity: 1; stroke-width: 0px; fill: rgb(31, 119, 180); fill-opacity: 1;\"/><path class=\"point\" d=\"M3,0A3,3 0 1,1 0,-3A3,3 0 0,1 3,0Z\" transform=\"translate(98.37173089008417,37.959475629051326)\" style=\"opacity: 1; stroke-width: 0px; fill: rgb(31, 119, 180); fill-opacity: 1;\"/><path class=\"point\" d=\"M3,0A3,3 0 1,1 0,-3A3,3 0 0,1 3,0Z\" transform=\"translate(101.00560811309182,24.71527416912528)\" style=\"opacity: 1; stroke-width: 0px; fill: rgb(31, 119, 180); fill-opacity: 1;\"/><path class=\"point\" d=\"M3,0A3,3 0 1,1 0,-3A3,3 0 0,1 3,0Z\" transform=\"translate(106.89385696796998,29.23685319553647)\" style=\"opacity: 1; stroke-width: 0px; fill: rgb(31, 119, 180); fill-opacity: 1;\"/><path class=\"point\" d=\"M3,0A3,3 0 1,1 0,-3A3,3 0 0,1 3,0Z\" transform=\"translate(102.62579202061772,30.05928352644014)\" style=\"opacity: 1; stroke-width: 0px; fill: rgb(31, 119, 180); fill-opacity: 1;\"/><path class=\"point\" d=\"M3,0A3,3 0 1,1 0,-3A3,3 0 0,1 3,0Z\" transform=\"translate(134.37947777320508,42.212641031956025)\" style=\"opacity: 1; stroke-width: 0px; fill: rgb(31, 119, 180); fill-opacity: 1;\"/><path class=\"point\" d=\"M3,0A3,3 0 1,1 0,-3A3,3 0 0,1 3,0Z\" transform=\"translate(133.67810973194165,41.964477953867686)\" style=\"opacity: 1; stroke-width: 0px; fill: rgb(31, 119, 180); fill-opacity: 1;\"/><path class=\"point\" d=\"M3,0A3,3 0 1,1 0,-3A3,3 0 0,1 3,0Z\" transform=\"translate(132.06838638180284,32.57254033369452)\" style=\"opacity: 1; stroke-width: 0px; fill: rgb(31, 119, 180); fill-opacity: 1;\"/><path class=\"point\" d=\"M3,0A3,3 0 1,1 0,-3A3,3 0 0,1 3,0Z\" transform=\"translate(102.69926607989174,22.696261552527744)\" style=\"opacity: 1; stroke-width: 0px; fill: rgb(31, 119, 180); fill-opacity: 1;\"/><path class=\"point\" d=\"M3,0A3,3 0 1,1 0,-3A3,3 0 0,1 3,0Z\" transform=\"translate(109.9293629174737,47.30906564803615)\" style=\"opacity: 1; stroke-width: 0px; fill: rgb(31, 119, 180); fill-opacity: 1;\"/><path class=\"point\" d=\"M3,0A3,3 0 1,1 0,-3A3,3 0 0,1 3,0Z\" transform=\"translate(110.4988479159129,49.74119663283301)\" style=\"opacity: 1; stroke-width: 0px; fill: rgb(31, 119, 180); fill-opacity: 1;\"/><path class=\"point\" d=\"M3,0A3,3 0 1,1 0,-3A3,3 0 0,1 3,0Z\" transform=\"translate(419.12073235888283,129.0699271130478)\" style=\"opacity: 1; stroke-width: 0px; fill: rgb(31, 119, 180); fill-opacity: 1;\"/><path class=\"point\" d=\"M3,0A3,3 0 1,1 0,-3A3,3 0 0,1 3,0Z\" transform=\"translate(397.487003932296,123.61252981568549)\" style=\"opacity: 1; stroke-width: 0px; fill: rgb(31, 119, 180); fill-opacity: 1;\"/><path class=\"point\" d=\"M3,0A3,3 0 1,1 0,-3A3,3 0 0,1 3,0Z\" transform=\"translate(397.2833170820296,123.08854122238358)\" style=\"opacity: 1; stroke-width: 0px; fill: rgb(31, 119, 180); fill-opacity: 1;\"/><path class=\"point\" d=\"M3,0A3,3 0 1,1 0,-3A3,3 0 0,1 3,0Z\" transform=\"translate(386.3712010587221,145.363398930112)\" style=\"opacity: 1; stroke-width: 0px; fill: rgb(31, 119, 180); fill-opacity: 1;\"/><path class=\"point\" d=\"M3,0A3,3 0 1,1 0,-3A3,3 0 0,1 3,0Z\" transform=\"translate(397.3767974081462,122.7332557502458)\" style=\"opacity: 1; stroke-width: 0px; fill: rgb(31, 119, 180); fill-opacity: 1;\"/><path class=\"point\" d=\"M3,0A3,3 0 1,1 0,-3A3,3 0 0,1 3,0Z\" transform=\"translate(401.2028656696506,134.05164554839791)\" style=\"opacity: 1; stroke-width: 0px; fill: rgb(31, 119, 180); fill-opacity: 1;\"/><path class=\"point\" d=\"M3,0A3,3 0 1,1 0,-3A3,3 0 0,1 3,0Z\" transform=\"translate(392.80043120302304,145.0752433689807)\" style=\"opacity: 1; stroke-width: 0px; fill: rgb(31, 119, 180); fill-opacity: 1;\"/><path class=\"point\" d=\"M3,0A3,3 0 1,1 0,-3A3,3 0 0,1 3,0Z\" transform=\"translate(392.20345159160536,144.959145143772)\" style=\"opacity: 1; stroke-width: 0px; fill: rgb(31, 119, 180); fill-opacity: 1;\"/><path class=\"point\" d=\"M3,0A3,3 0 1,1 0,-3A3,3 0 0,1 3,0Z\" transform=\"translate(402.45187941451957,131.7266957647625)\" style=\"opacity: 1; stroke-width: 0px; fill: rgb(31, 119, 180); fill-opacity: 1;\"/><path class=\"point\" d=\"M3,0A3,3 0 1,1 0,-3A3,3 0 0,1 3,0Z\" transform=\"translate(397.14418652811685,128.08564516486558)\" style=\"opacity: 1; stroke-width: 0px; fill: rgb(31, 119, 180); fill-opacity: 1;\"/><path class=\"point\" d=\"M3,0A3,3 0 1,1 0,-3A3,3 0 0,1 3,0Z\" transform=\"translate(403.80014518708305,129.75073316126196)\" style=\"opacity: 1; stroke-width: 0px; fill: rgb(31, 119, 180); fill-opacity: 1;\"/><path class=\"point\" d=\"M3,0A3,3 0 1,1 0,-3A3,3 0 0,1 3,0Z\" transform=\"translate(397.0679285331104,126.03087824716653)\" style=\"opacity: 1; stroke-width: 0px; fill: rgb(31, 119, 180); fill-opacity: 1;\"/><path class=\"point\" d=\"M3,0A3,3 0 1,1 0,-3A3,3 0 0,1 3,0Z\" transform=\"translate(391.81846320321165,135.0785121622015)\" style=\"opacity: 1; stroke-width: 0px; fill: rgb(31, 119, 180); fill-opacity: 1;\"/><path class=\"point\" d=\"M3,0A3,3 0 1,1 0,-3A3,3 0 0,1 3,0Z\" transform=\"translate(317.1392863553205,68.21866259483181)\" style=\"opacity: 1; stroke-width: 0px; fill: rgb(31, 119, 180); fill-opacity: 1;\"/><path class=\"point\" d=\"M3,0A3,3 0 1,1 0,-3A3,3 0 0,1 3,0Z\" transform=\"translate(337.5419552349371,88.12445573259708)\" style=\"opacity: 1; stroke-width: 0px; fill: rgb(31, 119, 180); fill-opacity: 1;\"/><path class=\"point\" d=\"M3,0A3,3 0 1,1 0,-3A3,3 0 0,1 3,0Z\" transform=\"translate(328.7115063698448,103.20304099653896)\" style=\"opacity: 1; stroke-width: 0px; fill: rgb(31, 119, 180); fill-opacity: 1;\"/><path class=\"point\" d=\"M3,0A3,3 0 1,1 0,-3A3,3 0 0,1 3,0Z\" transform=\"translate(328.1528149256191,103.52404770087094)\" style=\"opacity: 1; stroke-width: 0px; fill: rgb(31, 119, 180); fill-opacity: 1;\"/><path class=\"point\" d=\"M3,0A3,3 0 1,1 0,-3A3,3 0 0,1 3,0Z\" transform=\"translate(333.8419215178628,99.08188443898587)\" style=\"opacity: 1; stroke-width: 0px; fill: rgb(31, 119, 180); fill-opacity: 1;\"/><path class=\"point\" d=\"M3,0A3,3 0 1,1 0,-3A3,3 0 0,1 3,0Z\" transform=\"translate(314.688022140287,87.07901698065024)\" style=\"opacity: 1; stroke-width: 0px; fill: rgb(31, 119, 180); fill-opacity: 1;\"/><path class=\"point\" d=\"M3,0A3,3 0 1,1 0,-3A3,3 0 0,1 3,0Z\" transform=\"translate(330.85254971070236,77.86129230673981)\" style=\"opacity: 1; stroke-width: 0px; fill: rgb(31, 119, 180); fill-opacity: 1;\"/><path class=\"point\" d=\"M3,0A3,3 0 1,1 0,-3A3,3 0 0,1 3,0Z\" transform=\"translate(319.0666189675774,107.9794461982529)\" style=\"opacity: 1; stroke-width: 0px; fill: rgb(31, 119, 180); fill-opacity: 1;\"/><path class=\"point\" d=\"M3,0A3,3 0 1,1 0,-3A3,3 0 0,1 3,0Z\" transform=\"translate(317.45099963934456,91.28677932372847)\" style=\"opacity: 1; stroke-width: 0px; fill: rgb(31, 119, 180); fill-opacity: 1;\"/><path class=\"point\" d=\"M3,0A3,3 0 1,1 0,-3A3,3 0 0,1 3,0Z\" transform=\"translate(340.6288104084892,108.38500777085414)\" style=\"opacity: 1; stroke-width: 0px; fill: rgb(31, 119, 180); fill-opacity: 1;\"/><path class=\"point\" d=\"M3,0A3,3 0 1,1 0,-3A3,3 0 0,1 3,0Z\" transform=\"translate(314.587984850642,97.12891329835861)\" style=\"opacity: 1; stroke-width: 0px; fill: rgb(31, 119, 180); fill-opacity: 1;\"/><path class=\"point\" d=\"M3,0A3,3 0 1,1 0,-3A3,3 0 0,1 3,0Z\" transform=\"translate(339.2648116518119,103.24762335679424)\" style=\"opacity: 1; stroke-width: 0px; fill: rgb(31, 119, 180); fill-opacity: 1;\"/><path class=\"point\" d=\"M3,0A3,3 0 1,1 0,-3A3,3 0 0,1 3,0Z\" transform=\"translate(339.3723575499732,102.78394194035974)\" style=\"opacity: 1; stroke-width: 0px; fill: rgb(31, 119, 180); fill-opacity: 1;\"/><path class=\"point\" d=\"M3,0A3,3 0 1,1 0,-3A3,3 0 0,1 3,0Z\" transform=\"translate(339.32974295991323,104.10396824302524)\" style=\"opacity: 1; stroke-width: 0px; fill: rgb(31, 119, 180); fill-opacity: 1;\"/><path class=\"point\" d=\"M3,0A3,3 0 1,1 0,-3A3,3 0 0,1 3,0Z\" transform=\"translate(320.4649879155794,94.32096930532475)\" style=\"opacity: 1; stroke-width: 0px; fill: rgb(31, 119, 180); fill-opacity: 1;\"/><path class=\"point\" d=\"M3,0A3,3 0 1,1 0,-3A3,3 0 0,1 3,0Z\" transform=\"translate(334.8096011399702,90.3939486922751)\" style=\"opacity: 1; stroke-width: 0px; fill: rgb(31, 119, 180); fill-opacity: 1;\"/><path class=\"point\" d=\"M3,0A3,3 0 1,1 0,-3A3,3 0 0,1 3,0Z\" transform=\"translate(339.7497193022979,98.26913107620311)\" style=\"opacity: 1; stroke-width: 0px; fill: rgb(31, 119, 180); fill-opacity: 1;\"/><path class=\"point\" d=\"M3,0A3,3 0 1,1 0,-3A3,3 0 0,1 3,0Z\" transform=\"translate(326.11008309067375,99.9576196062377)\" style=\"opacity: 1; stroke-width: 0px; fill: rgb(31, 119, 180); fill-opacity: 1;\"/><path class=\"point\" d=\"M3,0A3,3 0 1,1 0,-3A3,3 0 0,1 3,0Z\" transform=\"translate(318.3567074855271,82.34256691218724)\" style=\"opacity: 1; stroke-width: 0px; fill: rgb(31, 119, 180); fill-opacity: 1;\"/><path class=\"point\" d=\"M3,0A3,3 0 1,1 0,-3A3,3 0 0,1 3,0Z\" transform=\"translate(324.52044610641315,73.35542126698516)\" style=\"opacity: 1; stroke-width: 0px; fill: rgb(31, 119, 180); fill-opacity: 1;\"/><path class=\"point\" d=\"M3,0A3,3 0 1,1 0,-3A3,3 0 0,1 3,0Z\" transform=\"translate(337.1868223010105,103.38635185900154)\" style=\"opacity: 1; stroke-width: 0px; fill: rgb(31, 119, 180); fill-opacity: 1;\"/><path class=\"point\" d=\"M3,0A3,3 0 1,1 0,-3A3,3 0 0,1 3,0Z\" transform=\"translate(207.02009275901958,119.4184783453839)\" style=\"opacity: 1; stroke-width: 0px; fill: rgb(31, 119, 180); fill-opacity: 1;\"/><path class=\"point\" d=\"M3,0A3,3 0 1,1 0,-3A3,3 0 0,1 3,0Z\" transform=\"translate(210.78668282889828,89.34303573209377)\" style=\"opacity: 1; stroke-width: 0px; fill: rgb(31, 119, 180); fill-opacity: 1;\"/><path class=\"point\" d=\"M3,0A3,3 0 1,1 0,-3A3,3 0 0,1 3,0Z\" transform=\"translate(188.5988196511156,99.76447295340483)\" style=\"opacity: 1; stroke-width: 0px; fill: rgb(31, 119, 180); fill-opacity: 1;\"/><path class=\"point\" d=\"M3,0A3,3 0 1,1 0,-3A3,3 0 0,1 3,0Z\" transform=\"translate(185.31416557549278,104.42645367250998)\" style=\"opacity: 1; stroke-width: 0px; fill: rgb(31, 119, 180); fill-opacity: 1;\"/><path class=\"point\" d=\"M3,0A3,3 0 1,1 0,-3A3,3 0 0,1 3,0Z\" transform=\"translate(194.64010762472714,99.93657102350306)\" style=\"opacity: 1; stroke-width: 0px; fill: rgb(31, 119, 180); fill-opacity: 1;\"/><path class=\"point\" d=\"M3,0A3,3 0 1,1 0,-3A3,3 0 0,1 3,0Z\" transform=\"translate(185.62062865946268,101.24627527182321)\" style=\"opacity: 1; stroke-width: 0px; fill: rgb(31, 119, 180); fill-opacity: 1;\"/><path class=\"point\" d=\"M3,0A3,3 0 1,1 0,-3A3,3 0 0,1 3,0Z\" transform=\"translate(213.19191319574475,121.47885047989439)\" style=\"opacity: 1; stroke-width: 0px; fill: rgb(31, 119, 180); fill-opacity: 1;\"/><path class=\"point\" d=\"M3,0A3,3 0 1,1 0,-3A3,3 0 0,1 3,0Z\" transform=\"translate(203.03954158662725,103.5782202769742)\" style=\"opacity: 1; stroke-width: 0px; fill: rgb(31, 119, 180); fill-opacity: 1;\"/><path class=\"point\" d=\"M3,0A3,3 0 1,1 0,-3A3,3 0 0,1 3,0Z\" transform=\"translate(185.53018548405058,83.89982374562379)\" style=\"opacity: 1; stroke-width: 0px; fill: rgb(31, 119, 180); fill-opacity: 1;\"/><path class=\"point\" d=\"M3,0A3,3 0 1,1 0,-3A3,3 0 0,1 3,0Z\" transform=\"translate(201.02627810259526,82.88524401128973)\" style=\"opacity: 1; stroke-width: 0px; fill: rgb(31, 119, 180); fill-opacity: 1;\"/><path class=\"point\" d=\"M3,0A3,3 0 1,1 0,-3A3,3 0 0,1 3,0Z\" transform=\"translate(177.33755564527536,99.79368892418302)\" style=\"opacity: 1; stroke-width: 0px; fill: rgb(31, 119, 180); fill-opacity: 1;\"/><path class=\"point\" d=\"M3,0A3,3 0 1,1 0,-3A3,3 0 0,1 3,0Z\" transform=\"translate(180.29012953830892,113.42302886612941)\" style=\"opacity: 1; stroke-width: 0px; fill: rgb(31, 119, 180); fill-opacity: 1;\"/><path class=\"point\" d=\"M3,0A3,3 0 1,1 0,-3A3,3 0 0,1 3,0Z\" transform=\"translate(171.4792110494351,92.82642397609754)\" style=\"opacity: 1; stroke-width: 0px; fill: rgb(31, 119, 180); fill-opacity: 1;\"/><path class=\"point\" d=\"M3,0A3,3 0 1,1 0,-3A3,3 0 0,1 3,0Z\" transform=\"translate(172.6924102649556,83.56285642441281)\" style=\"opacity: 1; stroke-width: 0px; fill: rgb(31, 119, 180); fill-opacity: 1;\"/><path class=\"point\" d=\"M3,0A3,3 0 1,1 0,-3A3,3 0 0,1 3,0Z\" transform=\"translate(115.33607650260419,195.38095942728432)\" style=\"opacity: 1; stroke-width: 0px; fill: rgb(31, 119, 180); fill-opacity: 1;\"/><path class=\"point\" d=\"M3,0A3,3 0 1,1 0,-3A3,3 0 0,1 3,0Z\" transform=\"translate(114.86844750738192,195.23734526683762)\" style=\"opacity: 1; stroke-width: 0px; fill: rgb(31, 119, 180); fill-opacity: 1;\"/></g></g></g></g></g><g class=\"funnelarealayer\"/><g class=\"pielayer\"/><g class=\"iciclelayer\"/><g class=\"treemaplayer\"/><g class=\"sunburstlayer\"/><g class=\"glimages\"/><defs id=\"topdefs-4ab978\"><g class=\"clips\"/></defs><g class=\"layer-above\"><g class=\"imagelayer\"/><g class=\"shapelayer\"/></g><g class=\"infolayer\"><g class=\"g-gtitle\"/></g></svg>"
      ]
     },
     "metadata": {},
     "output_type": "display_data"
    }
   ],
   "source": [
    "fig = px.scatter_geo(aqs_sites, lat='lat', lon='lon',\n",
    "               locationmode='USA-states', scope='usa',\n",
    "               width=550, height=300)\n",
    "\n",
    "fig.update_layout(geo = dict(landcolor = 'rgb(217, 217, 217)'))\n",
    "fig.show()"
   ]
  },
  {
   "cell_type": "markdown",
   "metadata": {},
   "source": [
    "Notice that there are many more points in California and the Eastern Seaboard.\n",
    "A simple histogram of air quality with data from all of these sensors would misrepresent the distribution of air quality in the US. To incorporate the spatial aspect into the distribution, we can add air quality measurements to the map with different color markers, and we can facet the histograms of air quality by location.\n",
    "\n",
    "In addition to plotting features like bars, color, and line styles, we also have the option to add text with contextual information to make our plot more informative. This is the topic of the next section."
   ]
  }
 ],
 "metadata": {
  "kernelspec": {
   "display_name": "Python 3",
   "language": "python",
   "name": "python3"
  },
  "language_info": {
   "codemirror_mode": {
    "name": "ipython",
    "version": 3
   },
   "file_extension": ".py",
   "mimetype": "text/x-python",
   "name": "python",
   "nbconvert_exporter": "python",
   "pygments_lexer": "ipython3",
   "version": "3.9.4"
  }
 },
 "nbformat": 4,
 "nbformat_minor": 4
}
