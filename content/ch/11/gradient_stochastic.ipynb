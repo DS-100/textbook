{
 "cells": [
  {
   "cell_type": "code",
   "execution_count": 1,
   "metadata": {
    "tags": [
     "hide_input"
    ]
   },
   "outputs": [],
   "source": [
    "# HIDDEN\n",
    "import warnings\n",
    "# Ignore numpy dtype warnings. These warnings are caused by an interaction\n",
    "# between numpy and Cython and can be safely ignored.\n",
    "# Reference: https://stackoverflow.com/a/40846742\n",
    "warnings.filterwarnings(\"ignore\", message=\"numpy.dtype size changed\")\n",
    "warnings.filterwarnings(\"ignore\", message=\"numpy.ufunc size changed\")\n",
    "\n",
    "import numpy as np\n",
    "import matplotlib.pyplot as plt\n",
    "import pandas as pd\n",
    "import seaborn as sns\n",
    "%matplotlib inline\n",
    "import ipywidgets as widgets\n",
    "from ipywidgets import interact, interactive, fixed, interact_manual\n",
    "import nbinteract as nbi\n",
    "\n",
    "sns.set()\n",
    "sns.set_context('talk')\n",
    "np.set_printoptions(threshold=20, precision=2, suppress=True)\n",
    "pd.options.display.max_rows = 7\n",
    "pd.options.display.max_columns = 8\n",
    "pd.set_option('precision', 2)\n",
    "# This option stops scientific notation for pandas\n",
    "# pd.set_option('display.float_format', '{:.2f}'.format)"
   ]
  },
  {
   "cell_type": "markdown",
   "metadata": {},
   "source": [
    "## Stochastic Gradient Descent\n",
    "\n",
    "In this section, we discuss a modification to gradient descent that makes it much more useful for large datasets. The modified algorithm is called **stochastic gradient descent**.\n",
    "\n",
    "Recall gradient descent updates our model parameter $ \\theta $ by using the gradient of our chosen loss function. Specifically, we used this gradient update formula:\n",
    "\n",
    "$$\n",
    "{\\theta}^{(t+1)} = \\theta^{(t)} - \\alpha \\cdot \\nabla_{\\theta} L(\\theta^{(t)}, \\textbf{y})\n",
    "$$\n",
    "\n",
    "In this equation:\n",
    "\n",
    "- $\\theta^{(t)}$ is our current estimate of $\\theta^*$ at the $t$th iteration\n",
    "- $\\alpha$ is the learning rate\n",
    "- $\\nabla_{\\theta} L(\\theta^{(t)}, \\textbf{y})$ is the gradient of the loss function\n",
    "- We compute the next estimate $\\theta^{(t+1)}$ by subtracting the product of $\\alpha$ and $\\nabla_{\\theta} L(\\theta, \\textbf{y})$ computed at $\\theta^{(t)}$"
   ]
  },
  {
   "cell_type": "markdown",
   "metadata": {},
   "source": [
    "### Limitations of Batch Gradient Descent\n",
    "\n",
    "In the expression above, we calculate $\\nabla_{\\theta}L(\\theta, \\textbf{y})$ using the average gradient of the loss function $\\ell(\\theta, y_i)$ using **the entire dataset**. In other words, each time we update $ \\theta $ we consult all the other points in our dataset as a complete batch. For this reason, the gradient update rule above is often referred to as **batch gradient descent**. \n",
    "\n",
    "Unfortunately, we often work with large datasets. Although batch gradient descent will often find an optimal $ \\theta $ in relatively few iterations, each iteration will take a long time to compute if the training set contains many points."
   ]
  },
  {
   "cell_type": "markdown",
   "metadata": {},
   "source": [
    "### Stochastic Gradient Descent\n",
    "\n",
    "To circumvent the difficulty of computing a gradient across the entire training set, stochastic gradient descent approximates the overall gradient using **a single randomly chosen data point**. Since the observation is chosen randomly, we expect that using the gradient at each individual observation will eventually converge to the same parameters as batch gradient descent.\n",
    "\n",
    "Consider once again the formula for batch gradient descent:\n",
    "\n",
    "$$\n",
    "{\\theta}^{(t+1)} = \\theta^{(t)} - \\alpha \\cdot \\nabla_{\\theta} L(\\theta^{(t)}, \\textbf{y})\n",
    "$$\n",
    "\n",
    "In this formula, we have the term $\\nabla_{\\theta} L(\\theta^{(t)}, \\textbf{y})$, the average gradient of the loss function across all points in the training set. That is:\n",
    "\n",
    "$$\n",
    "\\begin{aligned}\n",
    "\\nabla_{\\theta} L(\\theta^{(t)}, \\textbf{y}) &= \\frac{1}{n} \\sum_{i=1}^{n} \\nabla_{\\theta} \\ell(\\theta^{(t)}, y_i)\n",
    "\\end{aligned}\n",
    "$$\n",
    "\n",
    "Where $ \\ell(\\theta, y_i) $ is the loss at a single point in the training set. To conduct stochastic gradient descent, we simply replace the average gradient with the gradient at a single point. The gradient update formula for stochastic gradient descent is:\n",
    "\n",
    "$$\n",
    "{\\theta}^{(t+1)} = \\theta^{(t)} - \\alpha \\cdot \\nabla_{\\theta} \\ell(\\theta^{(t)}, y_i)\n",
    "$$\n",
    "\n",
    "In this formula, $ y_i $ is chosen randomly from $ \\textbf{y} $. Note that choosing the points randomly is critical to the success of stochastic gradient descent! If the points are not chosen randomly, stochastic gradient descent may produce significantly worse results than batch gradient descent.\n",
    "\n",
    "We most commonly run stochastic gradient descent by shuffling the data points and using each one in its shuffled order until one complete pass through the training data is completed. If the algorithm hasn't converged, we reshuffle the points and run another pass through the data. Each **iteration** of stochastic gradient descent looks at one data point; each complete pass through the data is called an **epoch**."
   ]
  },
  {
   "cell_type": "markdown",
   "metadata": {},
   "source": [
    "#### Using the MSE Loss\n",
    "\n",
    "As an example, we derive the stochastic gradient descent update formula for the mean squared loss. Recall the definition of the mean squared loss:\n",
    "\n",
    "$$\n",
    "\\begin{aligned}\n",
    "L(\\theta, \\textbf{y})\n",
    "&= \\frac{1}{n} \\sum_{i = 1}^{n}(y_i - \\theta)^2\n",
    "\\end{aligned}\n",
    "$$\n",
    "\n",
    "Taking the gradient with respect to $ \\theta $, we have:\n",
    "\n",
    "$$\n",
    "\\begin{aligned}\n",
    "\\nabla_{\\theta}  L(\\theta, \\textbf{y})\n",
    "&= \\frac{1}{n} \\sum_{i = 1}^{n} -2(y_i - \\theta)\n",
    "\\end{aligned}\n",
    "$$\n",
    "\n",
    "Since the above equation gives us the average gradient loss across all points in the dataset, the gradient loss on a single point is simply the piece of the equation that is being averaged:\n",
    "\n",
    "$$\n",
    "\\begin{aligned}\n",
    "\\nabla_{\\theta}  \\ell(\\theta, y_i)\n",
    "&= -2(y_i - \\theta)\n",
    "\\end{aligned}\n",
    "$$\n",
    "\n",
    "Thus, the batch gradient update rule for the MSE loss is:\n",
    "\n",
    "$$\n",
    "\\begin{aligned}\n",
    "{\\theta}^{(t+1)} = \\theta^{(t)} - \\alpha \\cdot \\left( \\frac{1}{n} \\sum_{i = 1}^{n} -2(y_i - \\theta) \\right)\n",
    "\\end{aligned}\n",
    "$$\n",
    "\n",
    "And the stochastic gradient update rule is:\n",
    "\n",
    "$$\n",
    "\\begin{aligned}\n",
    "{\\theta}^{(t+1)} = \\theta^{(t)} - \\alpha \\cdot \\left( -2(y_i - \\theta) \\right)\n",
    "\\end{aligned}\n",
    "$$"
   ]
  },
  {
   "cell_type": "markdown",
   "metadata": {},
   "source": [
    "### Behavior of Stochastic Gradient Descent\n",
    "\n",
    "Since stochastic descent only examines a single data point a time, it will likely update $ \\theta $ less accurately than a update from batch gradient descent. However, since stochastic gradient descent computes updates much faster than batch gradient descent, stochastic gradient descent can make significant progress towards the optimal $ \\theta $ by the time batch gradient descent finishes a single update.\n",
    "\n",
    "In the image below, we show successive updates to $ \\theta $ using batch gradient descent. The darkest area of the plot corresponds to the optimal value of $ \\theta $ on our training data, $ \\hat{\\theta} $.\n",
    "\n",
    "(This image technically shows a model that has two parameters, but it is more important to see that batch gradient descent always takes a step towards $ \\hat{\\theta} $.)"
   ]
  },
  {
   "cell_type": "markdown",
   "metadata": {},
   "source": [
    "<img style=\"max-width: 500px\" src=\"https://raw.githubusercontent.com/DS-100/textbook/master/assets/gd.png\"></img>"
   ]
  },
  {
   "cell_type": "markdown",
   "metadata": {},
   "source": [
    "Stochastic gradient descent, on the other hand, often takes steps away from $ \\hat{\\theta} $! However, since it makes updates more often, it often converges faster than batch gradient descent."
   ]
  },
  {
   "cell_type": "markdown",
   "metadata": {},
   "source": [
    "<img style=\"max-width: 500px\" src=\"https://raw.githubusercontent.com/DS-100/textbook/master/assets/sgd.png\"></img>"
   ]
  },
  {
   "cell_type": "markdown",
   "metadata": {},
   "source": [
    "### Defining a Function for Stochastic Gradient Descent\n",
    "\n",
    "As we previously did for batch gradient descent, we define a function that computes the stochastic gradient descent of the loss function. It will be similar to our `minimize` function but we will need to implement the random selection of one observation at each iteration."
   ]
  },
  {
   "cell_type": "code",
   "execution_count": 4,
   "metadata": {
    "ExecuteTime": {
     "end_time": "2018-07-17T02:31:17.342385Z",
     "start_time": "2018-07-17T02:31:17.322951Z"
    }
   },
   "outputs": [],
   "source": [
    "def minimize_sgd(loss_fn, grad_loss_fn, dataset, alpha=0.2):\n",
    "    \"\"\"\n",
    "    Uses stochastic gradient descent to minimize loss_fn.\n",
    "    Returns the minimizing value of theta once theta changes\n",
    "    less than 0.001 between iterations.\n",
    "    \"\"\"\n",
    "    NUM_OBS = len(dataset)\n",
    "    theta = 0\n",
    "    np.random.shuffle(dataset)\n",
    "    while True:\n",
    "        for i in range(0, NUM_OBS, 1):\n",
    "            rand_obs = dataset[i]\n",
    "            gradient = grad_loss_fn(theta, rand_obs)\n",
    "            new_theta = theta - alpha * gradient\n",
    "        \n",
    "            if abs(new_theta - theta) < 0.001:\n",
    "                return new_theta\n",
    "        \n",
    "            theta = new_theta\n",
    "        np.random.shuffle(dataset)"
   ]
  },
  {
   "cell_type": "markdown",
   "metadata": {},
   "source": [
    "### Mini-batch Gradient Descent\n",
    "\n",
    "**Mini-batch gradient descent** strikes a balance between batch gradient descent and stochastic gradient descent by increasing the number of observations that we select at each iteration. In mini-batch gradient descent, we use a few data points for each gradient update instead of a single point.\n",
    "\n",
    "We use the average of the gradients of their loss functions to construct an estimate of the true gradient of the cross entropy loss. If $\\mathcal{B}$ is the mini-batch of data points that we randomly sample from the $n$ observations, the following approximation holds.\n",
    "\n",
    "$$\n",
    "\\nabla_\\theta L(\\theta, \\textbf{y}) \\approx \\frac{1}{|\\mathcal{B}|} \\sum_{i\\in\\mathcal{B}}\\nabla_{\\theta}\\ell(\\theta, y_i)\n",
    "$$\n",
    "\n",
    "As with stochastic gradient descent, we perform mini-batch gradient descent by shuffling our training data and selecting mini-batches by iterating through the shuffled data. After each epoch, we re-shuffle our data and select new mini-batches.\n",
    "\n",
    "While we have made the distinction between stochastic and mini-batch gradient descent in this textbook, stochastic gradient descent is sometimes used as an umbrella term that encompasses the selection of a mini-batch of any size. \n",
    "\n",
    "\n",
    "#### Selecting the Mini-Batch Size\n",
    "\n",
    "Mini-batch gradient descent is most optimal when running on a Graphical Processing Unit (GPU) chip found in some computers. Since computations on these types of hardware can be executed in parallel, using a mini-batch can increase the accuracy of the gradient without increasing computation time. Depending on the memory of the GPU, the mini-batch size is often set between 10 and 100 observations.\n",
    "\n",
    "### Defining a Function for Mini-Batch Gradient Descent\n",
    "\n",
    "A function for mini-batch gradient descent requires the ability to select a batch size. Below is a function that implements this feature."
   ]
  },
  {
   "cell_type": "code",
   "execution_count": 3,
   "metadata": {
    "ExecuteTime": {
     "end_time": "2018-07-17T02:31:17.364444Z",
     "start_time": "2018-07-17T02:31:17.345099Z"
    }
   },
   "outputs": [],
   "source": [
    "def minimize_mini_batch(loss_fn, grad_loss_fn, dataset, minibatch_size, alpha=0.2):\n",
    "    \"\"\"\n",
    "    Uses mini-batch gradient descent to minimize loss_fn.\n",
    "    Returns the minimizing value of theta once theta changes\n",
    "    less than 0.001 between iterations.\n",
    "    \"\"\"\n",
    "    NUM_OBS = len(dataset)\n",
    "    assert minibatch_size < NUM_OBS\n",
    "    \n",
    "    theta = 0\n",
    "    np.random.shuffle(dataset)\n",
    "    while True:\n",
    "        for i in range(0, NUM_OBS, minibatch_size):\n",
    "            mini_batch = dataset[i:i+minibatch_size]\n",
    "            gradient = grad_loss_fn(theta, mini_batch)\n",
    "            new_theta = theta - alpha * gradient\n",
    "            \n",
    "            if abs(new_theta - theta) < 0.001:\n",
    "                return new_theta\n",
    "            \n",
    "            theta = new_theta\n",
    "        np.random.shuffle(dataset)"
   ]
  },
  {
   "cell_type": "markdown",
   "metadata": {},
   "source": [
    "## Summary\n",
    "\n",
    "We use batch gradient descent to iteratively improve model parameters until the model achieves minimal loss. Since batch gradient descent is computationally intractable with large datasets, we often use stochastic gradient descent to fit models instead. When using a GPU, mini-batch gradient descent can converge more quickly than stochastic gradient descent for the same computational cost. For large datasets, stochastic gradient descent and mini-batch gradient descent are often preferred to batch gradient descent for their faster computation times."
   ]
  }
 ],
 "metadata": {
  "kernelspec": {
   "display_name": "Python [default]",
   "language": "python",
   "name": "python3"
  },
  "language_info": {
   "codemirror_mode": {
    "name": "ipython",
    "version": 3
   },
   "file_extension": ".py",
   "mimetype": "text/x-python",
   "name": "python",
   "nbconvert_exporter": "python",
   "pygments_lexer": "ipython3",
   "version": "3.6.3"
  }
 },
 "nbformat": 4,
 "nbformat_minor": 2
}
