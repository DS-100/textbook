{
 "cells": [
  {
   "cell_type": "code",
   "execution_count": 1,
   "metadata": {
    "tags": [
     "remove-cell"
    ]
   },
   "outputs": [],
   "source": [
    "# Reference: https://jupyterbook.org/interactive/hiding.html\n",
    "# Use {hide, remove}-{input, output, cell} tags to hiding content\n",
    "\n",
    "import numpy as np\n",
    "import matplotlib.pyplot as plt\n",
    "import pandas as pd\n",
    "import seaborn as sns\n",
    "%matplotlib inline\n",
    "import ipywidgets as widgets\n",
    "from ipywidgets import interact, interactive, fixed, interact_manual\n",
    "from IPython.display import display\n",
    "\n",
    "sns.set()\n",
    "sns.set_context('talk')\n",
    "np.set_printoptions(threshold=20, precision=2, suppress=True)\n",
    "pd.set_option('display.max_rows', 7)\n",
    "pd.set_option('display.max_columns', 8)\n",
    "pd.set_option('precision', 2)\n",
    "# This option stops scientific notation for pandas\n",
    "# pd.set_option('display.float_format', '{:.2f}'.format)\n",
    "\n",
    "def display_df(df, rows=pd.options.display.max_rows,\n",
    "               cols=pd.options.display.max_columns):\n",
    "    with pd.option_context('display.max_rows', rows,\n",
    "                           'display.max_columns', cols):\n",
    "        display(df)"
   ]
  },
  {
   "cell_type": "code",
   "execution_count": 2,
   "metadata": {
    "tags": [
     "remove-cell"
    ]
   },
   "outputs": [],
   "source": [
    "def df_interact(df, nrows=7, ncols=7):\n",
    "    '''\n",
    "    Outputs sliders that show rows and columns of df\n",
    "    '''\n",
    "    def peek(row=0, col=0):\n",
    "        return df.iloc[row:row + nrows, col:col + ncols]\n",
    "\n",
    "    row_arg = (0, len(df), nrows) if len(df) > nrows else fixed(0)\n",
    "    col_arg = ((0, len(df.columns), ncols)\n",
    "               if len(df.columns) > ncols else fixed(0))\n",
    "    \n",
    "    interact(peek, row=row_arg, col=col_arg)\n",
    "    print('({} rows, {} columns) total'.format(df.shape[0], df.shape[1]))"
   ]
  },
  {
   "cell_type": "markdown",
   "metadata": {},
   "source": [
    "(ch:pa_cleaning_pa)=\n",
    "# Exploring and Cleaning PurpleAir Sensor Data"
   ]
  },
  {
   "cell_type": "markdown",
   "metadata": {},
   "source": [
    "To recap our analysis, our plan is to:\n",
    "\n",
    "1. Find a list of possibly collocated AQS and PurpleAir sensors.\n",
    "2. Contact AQS sites to find truly collocated sensor pairs.\n",
    "3. Explore and clean AQS measurements for one sensor.\n",
    "4. Explore and clean PurpleAir measurements for the other sensor in the pair\n",
    "5. Join the AQS and PurpleAir measurements together for all the sensor pairs. \n",
    "6. Fit a model to make PurpleAir measurements match AQS measurements.\n",
    "\n",
    "In this section, we'll perform step 4 of this plan.\n",
    "We'll explore and clean data from a PurpleAir sensor.\n",
    "We'll use Barkjohn's data to skip step 5."
   ]
  },
  {
   "cell_type": "markdown",
   "metadata": {},
   "source": [
    "In the previous section ({numref}`ch:pa_cleaning_aqs`),\n",
    "we analyzed data from the AQS site `06-067-0010`.\n",
    "The matching PurpleAir sensor is named `AMTS_TESTINGA`, and we've used\n",
    "the PurpleAir website to download the\n",
    "data for this sensor into the `data/purpleair_AMTS` folder. "
   ]
  },
  {
   "cell_type": "code",
   "execution_count": 3,
   "metadata": {},
   "outputs": [
    {
     "name": "stdout",
     "output_type": "stream",
     "text": [
      "-rw-r--r--  1 sam  staff    50M Nov  3 15:52 data/purpleair_AMTS/AMTS_TESTING (outside) (38.568404 -121.493163) Primary Real Time 05_20_2018 12_29_2019.csv\n",
      "-rw-r--r--  1 sam  staff    50M Nov  3 15:52 data/purpleair_AMTS/AMTS_TESTING (outside) (38.568404 -121.493163) Secondary Real Time 05_20_2018 12_29_2019.csv\n",
      "-rw-r--r--  1 sam  staff    48M Nov  3 15:52 data/purpleair_AMTS/AMTS_TESTING B (undefined) (38.568404 -121.493163) Primary Real Time 05_20_2018 12_29_2019.csv\n",
      "-rw-r--r--  1 sam  staff    50M Nov  3 15:52 data/purpleair_AMTS/AMTS_TESTING B (undefined) (38.568404 -121.493163) Secondary Real Time 05_20_2018 12_29_2019.csv\n"
     ]
    }
   ],
   "source": [
    "!ls -alh data/purpleair_AMTS/*"
   ]
  },
  {
   "cell_type": "markdown",
   "metadata": {},
   "source": [
    "There are four CSV files. What does each one contain?\n",
    "The data dictionary for the PurpleAir data [^pa_dict] says that each sensor\n",
    "has two separate instruments, A and B, that each record data.\n",
    "In this case, the first two CSV files correspond to the instrument A,\n",
    "and then last two CSV files correspond to B.\n",
    "Having two instruments is useful for data cleaning; if A and B disagree about\n",
    "a measurement, we might question the integrity of the measurement and decide to\n",
    "remove it.\n",
    "\n",
    "The data dictionary also mentions that each instrument records Primary data and\n",
    "Secondary data. The Primary data contains the fields we're interested in: PM2.5,\n",
    "temperature, and humidity. The Secondary data contains data for other particle\n",
    "sizes, like PM1.0 and PM10. Since we're interested in PM2.5, we'll work\n",
    "only with the Primary data for instruments A and B.\n",
    "\n",
    "[^pa_dict]: <a href=\"/purpleair_study/pa_data_dict.pdf\" target=\"_blank\">pa_data_dict.pdf</a>,\n",
    "downloaded from https://www.purpleair.com/sensorlist in November 2021."
   ]
  },
  {
   "cell_type": "markdown",
   "metadata": {},
   "source": [
    "Our goals for this section:\n",
    "\n",
    "1. Load and subset columns from instrument A.\n",
    "2. Check and adjust the granularity of the PM2.5 readings.\n",
    "3. Repeat steps 1 and 2 for instrument B.\n",
    "4. Average together A and B measurements, dropping values where the two instruments\n",
    "   disagree.\n",
    "5. Join PurpleAir and AQS data."
   ]
  },
  {
   "cell_type": "markdown",
   "metadata": {},
   "source": [
    "## Loading and Subsetting Columns from Instrument A"
   ]
  },
  {
   "cell_type": "markdown",
   "metadata": {},
   "source": [
    "When CSV files have long names, we can load the CSV names into a Python variable\n",
    "to more easily load them into `pandas`."
   ]
  },
  {
   "cell_type": "code",
   "execution_count": 4,
   "metadata": {},
   "outputs": [
    {
     "data": {
      "text/plain": [
       "[PosixPath('data/purpleair_AMTS/AMTS_TESTING (outside) (38.568404 -121.493163) Primary Real Time 05_20_2018 12_29_2019.csv'),\n",
       " PosixPath('data/purpleair_AMTS/AMTS_TESTING (outside) (38.568404 -121.493163) Secondary Real Time 05_20_2018 12_29_2019.csv'),\n",
       " PosixPath('data/purpleair_AMTS/AMTS_TESTING B (undefined) (38.568404 -121.493163) Primary Real Time 05_20_2018 12_29_2019.csv'),\n",
       " PosixPath('data/purpleair_AMTS/AMTS_TESTING B (undefined) (38.568404 -121.493163) Secondary Real Time 05_20_2018 12_29_2019.csv')]"
      ]
     },
     "execution_count": 4,
     "metadata": {},
     "output_type": "execute_result"
    }
   ],
   "source": [
    "from pathlib import Path\n",
    "\n",
    "data_folder = Path('data/purpleair_AMTS')\n",
    "pa_csvs = sorted(data_folder.glob('*.csv'))\n",
    "pa_csvs"
   ]
  },
  {
   "cell_type": "code",
   "execution_count": 5,
   "metadata": {},
   "outputs": [
    {
     "data": {
      "text/html": [
       "<div>\n",
       "<style scoped>\n",
       "    .dataframe tbody tr th:only-of-type {\n",
       "        vertical-align: middle;\n",
       "    }\n",
       "\n",
       "    .dataframe tbody tr th {\n",
       "        vertical-align: top;\n",
       "    }\n",
       "\n",
       "    .dataframe thead th {\n",
       "        text-align: right;\n",
       "    }\n",
       "</style>\n",
       "<table border=\"1\" class=\"dataframe\">\n",
       "  <thead>\n",
       "    <tr style=\"text-align: right;\">\n",
       "      <th></th>\n",
       "      <th>created_at</th>\n",
       "      <th>entry_id</th>\n",
       "      <th>PM1.0_CF1_ug/m3</th>\n",
       "      <th>PM2.5_CF1_ug/m3</th>\n",
       "      <th>...</th>\n",
       "      <th>Temperature_F</th>\n",
       "      <th>Humidity_%</th>\n",
       "      <th>PM2.5_ATM_ug/m3</th>\n",
       "      <th>Unnamed: 10</th>\n",
       "    </tr>\n",
       "  </thead>\n",
       "  <tbody>\n",
       "    <tr>\n",
       "      <th>0</th>\n",
       "      <td>2018-05-20 00:00:35 UTC</td>\n",
       "      <td>20733</td>\n",
       "      <td>0.98</td>\n",
       "      <td>1.23</td>\n",
       "      <td>...</td>\n",
       "      <td>83.0</td>\n",
       "      <td>32.0</td>\n",
       "      <td>1.23</td>\n",
       "      <td>NaN</td>\n",
       "    </tr>\n",
       "    <tr>\n",
       "      <th>1</th>\n",
       "      <td>2018-05-20 00:01:55 UTC</td>\n",
       "      <td>20734</td>\n",
       "      <td>0.96</td>\n",
       "      <td>1.94</td>\n",
       "      <td>...</td>\n",
       "      <td>83.0</td>\n",
       "      <td>32.0</td>\n",
       "      <td>1.94</td>\n",
       "      <td>NaN</td>\n",
       "    </tr>\n",
       "    <tr>\n",
       "      <th>2</th>\n",
       "      <td>2018-05-20 00:03:15 UTC</td>\n",
       "      <td>20735</td>\n",
       "      <td>1.07</td>\n",
       "      <td>1.80</td>\n",
       "      <td>...</td>\n",
       "      <td>83.0</td>\n",
       "      <td>32.0</td>\n",
       "      <td>1.80</td>\n",
       "      <td>NaN</td>\n",
       "    </tr>\n",
       "    <tr>\n",
       "      <th>...</th>\n",
       "      <td>...</td>\n",
       "      <td>...</td>\n",
       "      <td>...</td>\n",
       "      <td>...</td>\n",
       "      <td>...</td>\n",
       "      <td>...</td>\n",
       "      <td>...</td>\n",
       "      <td>...</td>\n",
       "      <td>...</td>\n",
       "    </tr>\n",
       "    <tr>\n",
       "      <th>672752</th>\n",
       "      <td>2019-12-29 23:55:30 UTC</td>\n",
       "      <td>523358</td>\n",
       "      <td>24.44</td>\n",
       "      <td>40.45</td>\n",
       "      <td>...</td>\n",
       "      <td>52.0</td>\n",
       "      <td>67.0</td>\n",
       "      <td>36.91</td>\n",
       "      <td>NaN</td>\n",
       "    </tr>\n",
       "    <tr>\n",
       "      <th>672753</th>\n",
       "      <td>2019-12-29 23:57:30 UTC</td>\n",
       "      <td>523359</td>\n",
       "      <td>23.69</td>\n",
       "      <td>37.72</td>\n",
       "      <td>...</td>\n",
       "      <td>58.0</td>\n",
       "      <td>67.0</td>\n",
       "      <td>35.49</td>\n",
       "      <td>NaN</td>\n",
       "    </tr>\n",
       "    <tr>\n",
       "      <th>672754</th>\n",
       "      <td>2019-12-29 23:59:30 UTC</td>\n",
       "      <td>523360</td>\n",
       "      <td>24.60</td>\n",
       "      <td>37.57</td>\n",
       "      <td>...</td>\n",
       "      <td>58.0</td>\n",
       "      <td>66.0</td>\n",
       "      <td>35.33</td>\n",
       "      <td>NaN</td>\n",
       "    </tr>\n",
       "  </tbody>\n",
       "</table>\n",
       "<p>672755 rows × 11 columns</p>\n",
       "</div>"
      ],
      "text/plain": [
       "                     created_at  entry_id  PM1.0_CF1_ug/m3  PM2.5_CF1_ug/m3  \\\n",
       "0       2018-05-20 00:00:35 UTC     20733             0.98             1.23   \n",
       "1       2018-05-20 00:01:55 UTC     20734             0.96             1.94   \n",
       "2       2018-05-20 00:03:15 UTC     20735             1.07             1.80   \n",
       "...                         ...       ...              ...              ...   \n",
       "672752  2019-12-29 23:55:30 UTC    523358            24.44            40.45   \n",
       "672753  2019-12-29 23:57:30 UTC    523359            23.69            37.72   \n",
       "672754  2019-12-29 23:59:30 UTC    523360            24.60            37.57   \n",
       "\n",
       "        ...  Temperature_F  Humidity_%  PM2.5_ATM_ug/m3  Unnamed: 10  \n",
       "0       ...           83.0        32.0             1.23          NaN  \n",
       "1       ...           83.0        32.0             1.94          NaN  \n",
       "2       ...           83.0        32.0             1.80          NaN  \n",
       "...     ...            ...         ...              ...          ...  \n",
       "672752  ...           52.0        67.0            36.91          NaN  \n",
       "672753  ...           58.0        67.0            35.49          NaN  \n",
       "672754  ...           58.0        66.0            35.33          NaN  \n",
       "\n",
       "[672755 rows x 11 columns]"
      ]
     },
     "execution_count": 5,
     "metadata": {},
     "output_type": "execute_result"
    }
   ],
   "source": [
    "# The Primary data for instrument A is the first CSV in `pa_csvs`\n",
    "pa = pd.read_csv(pa_csvs[0])\n",
    "pa"
   ]
  },
  {
   "cell_type": "markdown",
   "metadata": {},
   "source": [
    "Let's look at the columns to see which ones we want to subset."
   ]
  },
  {
   "cell_type": "code",
   "execution_count": 6,
   "metadata": {},
   "outputs": [
    {
     "data": {
      "text/html": [
       "<div>\n",
       "<style scoped>\n",
       "    .dataframe tbody tr th:only-of-type {\n",
       "        vertical-align: middle;\n",
       "    }\n",
       "\n",
       "    .dataframe tbody tr th {\n",
       "        vertical-align: top;\n",
       "    }\n",
       "\n",
       "    .dataframe thead th {\n",
       "        text-align: right;\n",
       "    }\n",
       "</style>\n",
       "<table border=\"1\" class=\"dataframe\">\n",
       "  <thead>\n",
       "    <tr style=\"text-align: right;\">\n",
       "      <th></th>\n",
       "      <th>index</th>\n",
       "      <th>0</th>\n",
       "    </tr>\n",
       "  </thead>\n",
       "  <tbody>\n",
       "    <tr>\n",
       "      <th>0</th>\n",
       "      <td>created_at</td>\n",
       "      <td>2018-05-20 00:00:35 UTC</td>\n",
       "    </tr>\n",
       "    <tr>\n",
       "      <th>1</th>\n",
       "      <td>entry_id</td>\n",
       "      <td>20733</td>\n",
       "    </tr>\n",
       "    <tr>\n",
       "      <th>2</th>\n",
       "      <td>PM1.0_CF1_ug/m3</td>\n",
       "      <td>0.98</td>\n",
       "    </tr>\n",
       "    <tr>\n",
       "      <th>3</th>\n",
       "      <td>PM2.5_CF1_ug/m3</td>\n",
       "      <td>1.23</td>\n",
       "    </tr>\n",
       "    <tr>\n",
       "      <th>4</th>\n",
       "      <td>PM10.0_CF1_ug/m3</td>\n",
       "      <td>1.23</td>\n",
       "    </tr>\n",
       "    <tr>\n",
       "      <th>5</th>\n",
       "      <td>UptimeMinutes</td>\n",
       "      <td>2299.0</td>\n",
       "    </tr>\n",
       "    <tr>\n",
       "      <th>6</th>\n",
       "      <td>RSSI_dbm</td>\n",
       "      <td>-62.0</td>\n",
       "    </tr>\n",
       "    <tr>\n",
       "      <th>7</th>\n",
       "      <td>Temperature_F</td>\n",
       "      <td>83.0</td>\n",
       "    </tr>\n",
       "    <tr>\n",
       "      <th>8</th>\n",
       "      <td>Humidity_%</td>\n",
       "      <td>32.0</td>\n",
       "    </tr>\n",
       "    <tr>\n",
       "      <th>9</th>\n",
       "      <td>PM2.5_ATM_ug/m3</td>\n",
       "      <td>1.23</td>\n",
       "    </tr>\n",
       "    <tr>\n",
       "      <th>10</th>\n",
       "      <td>Unnamed: 10</td>\n",
       "      <td>NaN</td>\n",
       "    </tr>\n",
       "  </tbody>\n",
       "</table>\n",
       "</div>"
      ],
      "text/plain": [
       "               index                        0\n",
       "0         created_at  2018-05-20 00:00:35 UTC\n",
       "1           entry_id                    20733\n",
       "2    PM1.0_CF1_ug/m3                     0.98\n",
       "3    PM2.5_CF1_ug/m3                     1.23\n",
       "4   PM10.0_CF1_ug/m3                     1.23\n",
       "5      UptimeMinutes                   2299.0\n",
       "6           RSSI_dbm                    -62.0\n",
       "7      Temperature_F                     83.0\n",
       "8         Humidity_%                     32.0\n",
       "9    PM2.5_ATM_ug/m3                     1.23\n",
       "10       Unnamed: 10                      NaN"
      ]
     },
     "metadata": {},
     "output_type": "display_data"
    }
   ],
   "source": [
    "display_df(pa.iloc[0].to_frame().reset_index(), rows=11)"
   ]
  },
  {
   "cell_type": "markdown",
   "metadata": {},
   "source": [
    "Although we're interested in PM2.5, it appears there are two columns that\n",
    "contain PM2.5 data: `PM2.5_CF1_ug/m3` and `PM2.5_ATM_ug/m3`.\n",
    "What is the difference between these two columns?\n",
    "For brevity, we'll share what Barkjohn et al. found: PurpleAir sensors use a\n",
    "calculation to convert a raw laser recording into a PM2.5 number.\n",
    "There are two ways to convert the raw laser data into PM2.5 which correspond to\n",
    "the CF1 and ATM columns.\n",
    "The CF1 conversions result in higher PM2.5 numbers when more PM2.5 particles are\n",
    "present.\n",
    "Barkjohn found that using CF1 produced better results than ATM, so we'll\n",
    "keep `PM2.5_CF1_ug/m3`.\n",
    "\n",
    "So, we'll subset and rename the columns of `pa`."
   ]
  },
  {
   "cell_type": "code",
   "execution_count": 7,
   "metadata": {},
   "outputs": [
    {
     "data": {
      "text/html": [
       "<div>\n",
       "<style scoped>\n",
       "    .dataframe tbody tr th:only-of-type {\n",
       "        vertical-align: middle;\n",
       "    }\n",
       "\n",
       "    .dataframe tbody tr th {\n",
       "        vertical-align: top;\n",
       "    }\n",
       "\n",
       "    .dataframe thead th {\n",
       "        text-align: right;\n",
       "    }\n",
       "</style>\n",
       "<table border=\"1\" class=\"dataframe\">\n",
       "  <thead>\n",
       "    <tr style=\"text-align: right;\">\n",
       "      <th></th>\n",
       "      <th>timestamp</th>\n",
       "      <th>PM25cf1</th>\n",
       "      <th>TempF</th>\n",
       "      <th>RH</th>\n",
       "    </tr>\n",
       "  </thead>\n",
       "  <tbody>\n",
       "    <tr>\n",
       "      <th>0</th>\n",
       "      <td>2018-05-20 00:00:35 UTC</td>\n",
       "      <td>1.23</td>\n",
       "      <td>83.0</td>\n",
       "      <td>32.0</td>\n",
       "    </tr>\n",
       "    <tr>\n",
       "      <th>1</th>\n",
       "      <td>2018-05-20 00:01:55 UTC</td>\n",
       "      <td>1.94</td>\n",
       "      <td>83.0</td>\n",
       "      <td>32.0</td>\n",
       "    </tr>\n",
       "    <tr>\n",
       "      <th>2</th>\n",
       "      <td>2018-05-20 00:03:15 UTC</td>\n",
       "      <td>1.80</td>\n",
       "      <td>83.0</td>\n",
       "      <td>32.0</td>\n",
       "    </tr>\n",
       "    <tr>\n",
       "      <th>...</th>\n",
       "      <td>...</td>\n",
       "      <td>...</td>\n",
       "      <td>...</td>\n",
       "      <td>...</td>\n",
       "    </tr>\n",
       "    <tr>\n",
       "      <th>672752</th>\n",
       "      <td>2019-12-29 23:55:30 UTC</td>\n",
       "      <td>40.45</td>\n",
       "      <td>52.0</td>\n",
       "      <td>67.0</td>\n",
       "    </tr>\n",
       "    <tr>\n",
       "      <th>672753</th>\n",
       "      <td>2019-12-29 23:57:30 UTC</td>\n",
       "      <td>37.72</td>\n",
       "      <td>58.0</td>\n",
       "      <td>67.0</td>\n",
       "    </tr>\n",
       "    <tr>\n",
       "      <th>672754</th>\n",
       "      <td>2019-12-29 23:59:30 UTC</td>\n",
       "      <td>37.57</td>\n",
       "      <td>58.0</td>\n",
       "      <td>66.0</td>\n",
       "    </tr>\n",
       "  </tbody>\n",
       "</table>\n",
       "<p>672755 rows × 4 columns</p>\n",
       "</div>"
      ],
      "text/plain": [
       "                      timestamp  PM25cf1  TempF    RH\n",
       "0       2018-05-20 00:00:35 UTC     1.23   83.0  32.0\n",
       "1       2018-05-20 00:01:55 UTC     1.94   83.0  32.0\n",
       "2       2018-05-20 00:03:15 UTC     1.80   83.0  32.0\n",
       "...                         ...      ...    ...   ...\n",
       "672752  2019-12-29 23:55:30 UTC    40.45   52.0  67.0\n",
       "672753  2019-12-29 23:57:30 UTC    37.72   58.0  67.0\n",
       "672754  2019-12-29 23:59:30 UTC    37.57   58.0  66.0\n",
       "\n",
       "[672755 rows x 4 columns]"
      ]
     },
     "execution_count": 7,
     "metadata": {},
     "output_type": "execute_result"
    }
   ],
   "source": [
    "def subset_and_rename_A(df):\n",
    "    df = df[['created_at', 'PM2.5_CF1_ug/m3', 'Temperature_F', 'Humidity_%']]\n",
    "    df.columns = ['timestamp', 'PM25cf1', 'TempF',\n",
    "                  'RH'] # RH stands for Relative Humidity\n",
    "    return df\n",
    "\n",
    "pa = (pd.read_csv(pa_csvs[0])\n",
    "      .pipe(subset_and_rename_A))\n",
    "pa"
   ]
  },
  {
   "cell_type": "markdown",
   "metadata": {},
   "source": [
    "## What's the Granularity?"
   ]
  },
  {
   "cell_type": "markdown",
   "metadata": {},
   "source": [
    "In order for the granularity of these measurements to match the AQS data,\n",
    "we want one average PM2.5 for each date (a 24-hour period).\n",
    "PurpleAir states that sensors take measurements every 2 minutes.\n",
    "Let's double check the granularity of the raw measurements, before we aggregate\n",
    "measurements to 24-hour periods."
   ]
  },
  {
   "cell_type": "markdown",
   "metadata": {},
   "source": [
    "### Parsing the Timestamps"
   ]
  },
  {
   "cell_type": "markdown",
   "metadata": {},
   "source": [
    "Like the AQS data, we'll convert the `timestamp` column from strings\n",
    "to `pd.TimeStamp` objects using `pd.to_datetime`."
   ]
  },
  {
   "cell_type": "code",
   "execution_count": 8,
   "metadata": {},
   "outputs": [
    {
     "data": {
      "text/html": [
       "<div>\n",
       "<style scoped>\n",
       "    .dataframe tbody tr th:only-of-type {\n",
       "        vertical-align: middle;\n",
       "    }\n",
       "\n",
       "    .dataframe tbody tr th {\n",
       "        vertical-align: top;\n",
       "    }\n",
       "\n",
       "    .dataframe thead th {\n",
       "        text-align: right;\n",
       "    }\n",
       "</style>\n",
       "<table border=\"1\" class=\"dataframe\">\n",
       "  <thead>\n",
       "    <tr style=\"text-align: right;\">\n",
       "      <th></th>\n",
       "      <th>timestamp</th>\n",
       "      <th>PM25cf1</th>\n",
       "      <th>TempF</th>\n",
       "      <th>RH</th>\n",
       "    </tr>\n",
       "  </thead>\n",
       "  <tbody>\n",
       "    <tr>\n",
       "      <th>0</th>\n",
       "      <td>2018-05-20 00:00:35 UTC</td>\n",
       "      <td>1.23</td>\n",
       "      <td>83.0</td>\n",
       "      <td>32.0</td>\n",
       "    </tr>\n",
       "    <tr>\n",
       "      <th>1</th>\n",
       "      <td>2018-05-20 00:01:55 UTC</td>\n",
       "      <td>1.94</td>\n",
       "      <td>83.0</td>\n",
       "      <td>32.0</td>\n",
       "    </tr>\n",
       "  </tbody>\n",
       "</table>\n",
       "</div>"
      ],
      "text/plain": [
       "                 timestamp  PM25cf1  TempF    RH\n",
       "0  2018-05-20 00:00:35 UTC     1.23   83.0  32.0\n",
       "1  2018-05-20 00:01:55 UTC     1.94   83.0  32.0"
      ]
     },
     "execution_count": 8,
     "metadata": {},
     "output_type": "execute_result"
    }
   ],
   "source": [
    "pa.head(2)"
   ]
  },
  {
   "cell_type": "code",
   "execution_count": 9,
   "metadata": {},
   "outputs": [
    {
     "data": {
      "text/plain": [
       "0        2018-05-20 00:00:35+00:00\n",
       "1        2018-05-20 00:01:55+00:00\n",
       "2        2018-05-20 00:03:15+00:00\n",
       "                    ...           \n",
       "672752   2019-12-29 23:55:30+00:00\n",
       "672753   2019-12-29 23:57:30+00:00\n",
       "672754   2019-12-29 23:59:30+00:00\n",
       "Name: timestamp, Length: 672755, dtype: datetime64[ns, UTC]"
      ]
     },
     "execution_count": 9,
     "metadata": {},
     "output_type": "execute_result"
    }
   ],
   "source": [
    "date_format = '%Y-%m-%d %X %Z'\n",
    "times = pd.to_datetime(pa['timestamp'], format=date_format)\n",
    "times"
   ]
  },
  {
   "cell_type": "markdown",
   "metadata": {},
   "source": [
    "Next, we'll apply this conversion to the `pa` dataframe.\n",
    "As we'll soon see, `pandas` has special support for dataframes with an index\n",
    "of timestamps, so we'll also set the dataframe index to the timestamps."
   ]
  },
  {
   "cell_type": "code",
   "execution_count": 10,
   "metadata": {},
   "outputs": [
    {
     "data": {
      "text/html": [
       "<div>\n",
       "<style scoped>\n",
       "    .dataframe tbody tr th:only-of-type {\n",
       "        vertical-align: middle;\n",
       "    }\n",
       "\n",
       "    .dataframe tbody tr th {\n",
       "        vertical-align: top;\n",
       "    }\n",
       "\n",
       "    .dataframe thead th {\n",
       "        text-align: right;\n",
       "    }\n",
       "</style>\n",
       "<table border=\"1\" class=\"dataframe\">\n",
       "  <thead>\n",
       "    <tr style=\"text-align: right;\">\n",
       "      <th></th>\n",
       "      <th>PM25cf1</th>\n",
       "      <th>TempF</th>\n",
       "      <th>RH</th>\n",
       "    </tr>\n",
       "    <tr>\n",
       "      <th>timestamp</th>\n",
       "      <th></th>\n",
       "      <th></th>\n",
       "      <th></th>\n",
       "    </tr>\n",
       "  </thead>\n",
       "  <tbody>\n",
       "    <tr>\n",
       "      <th>2018-05-20 00:00:35+00:00</th>\n",
       "      <td>1.23</td>\n",
       "      <td>83.0</td>\n",
       "      <td>32.0</td>\n",
       "    </tr>\n",
       "    <tr>\n",
       "      <th>2018-05-20 00:01:55+00:00</th>\n",
       "      <td>1.94</td>\n",
       "      <td>83.0</td>\n",
       "      <td>32.0</td>\n",
       "    </tr>\n",
       "  </tbody>\n",
       "</table>\n",
       "</div>"
      ],
      "text/plain": [
       "                           PM25cf1  TempF    RH\n",
       "timestamp                                      \n",
       "2018-05-20 00:00:35+00:00     1.23   83.0  32.0\n",
       "2018-05-20 00:01:55+00:00     1.94   83.0  32.0"
      ]
     },
     "execution_count": 10,
     "metadata": {},
     "output_type": "execute_result"
    }
   ],
   "source": [
    "def parse_timestamps(df):\n",
    "    date_format = '%Y-%m-%d %X %Z'\n",
    "    times = pd.to_datetime(df['timestamp'], format=date_format)\n",
    "    return (df.assign(timestamp=times)\n",
    "            .set_index('timestamp'))\n",
    "\n",
    "pa = (pd.read_csv(pa_csvs[0])\n",
    "      .pipe(subset_and_rename_A)\n",
    "      .pipe(parse_timestamps))\n",
    "pa.head(2)"
   ]
  },
  {
   "cell_type": "markdown",
   "metadata": {},
   "source": [
    "Timestamps are tricky---notice that the original timestamps were given in the UTC\n",
    "timezone. However, the AQS data were averaged according to the *local time in\n",
    "California*, which is either 7 or 8 hours behind UTC time, depending on whether\n",
    "daylight saving time is in effect.\n",
    "Thus, we also need to change the timezone of the PurpleAir timestamps to match\n",
    "the local timezone using the `df.tz_convert()` method.\n",
    "This method only operates on the index of the dataframe, which is one reason\n",
    "why we set the index of `pa` to the timestamps."
   ]
  },
  {
   "cell_type": "code",
   "execution_count": 11,
   "metadata": {},
   "outputs": [
    {
     "data": {
      "text/html": [
       "<div>\n",
       "<style scoped>\n",
       "    .dataframe tbody tr th:only-of-type {\n",
       "        vertical-align: middle;\n",
       "    }\n",
       "\n",
       "    .dataframe tbody tr th {\n",
       "        vertical-align: top;\n",
       "    }\n",
       "\n",
       "    .dataframe thead th {\n",
       "        text-align: right;\n",
       "    }\n",
       "</style>\n",
       "<table border=\"1\" class=\"dataframe\">\n",
       "  <thead>\n",
       "    <tr style=\"text-align: right;\">\n",
       "      <th></th>\n",
       "      <th>PM25cf1</th>\n",
       "      <th>TempF</th>\n",
       "      <th>RH</th>\n",
       "    </tr>\n",
       "    <tr>\n",
       "      <th>timestamp</th>\n",
       "      <th></th>\n",
       "      <th></th>\n",
       "      <th></th>\n",
       "    </tr>\n",
       "  </thead>\n",
       "  <tbody>\n",
       "    <tr>\n",
       "      <th>2018-05-19 17:00:35-07:00</th>\n",
       "      <td>1.23</td>\n",
       "      <td>83.0</td>\n",
       "      <td>32.0</td>\n",
       "    </tr>\n",
       "    <tr>\n",
       "      <th>2018-05-19 17:01:55-07:00</th>\n",
       "      <td>1.94</td>\n",
       "      <td>83.0</td>\n",
       "      <td>32.0</td>\n",
       "    </tr>\n",
       "    <tr>\n",
       "      <th>2018-05-19 17:03:15-07:00</th>\n",
       "      <td>1.80</td>\n",
       "      <td>83.0</td>\n",
       "      <td>32.0</td>\n",
       "    </tr>\n",
       "    <tr>\n",
       "      <th>...</th>\n",
       "      <td>...</td>\n",
       "      <td>...</td>\n",
       "      <td>...</td>\n",
       "    </tr>\n",
       "    <tr>\n",
       "      <th>2019-12-29 15:55:30-08:00</th>\n",
       "      <td>40.45</td>\n",
       "      <td>52.0</td>\n",
       "      <td>67.0</td>\n",
       "    </tr>\n",
       "    <tr>\n",
       "      <th>2019-12-29 15:57:30-08:00</th>\n",
       "      <td>37.72</td>\n",
       "      <td>58.0</td>\n",
       "      <td>67.0</td>\n",
       "    </tr>\n",
       "    <tr>\n",
       "      <th>2019-12-29 15:59:30-08:00</th>\n",
       "      <td>37.57</td>\n",
       "      <td>58.0</td>\n",
       "      <td>66.0</td>\n",
       "    </tr>\n",
       "  </tbody>\n",
       "</table>\n",
       "<p>672755 rows × 3 columns</p>\n",
       "</div>"
      ],
      "text/plain": [
       "                           PM25cf1  TempF    RH\n",
       "timestamp                                      \n",
       "2018-05-19 17:00:35-07:00     1.23   83.0  32.0\n",
       "2018-05-19 17:01:55-07:00     1.94   83.0  32.0\n",
       "2018-05-19 17:03:15-07:00     1.80   83.0  32.0\n",
       "...                            ...    ...   ...\n",
       "2019-12-29 15:55:30-08:00    40.45   52.0  67.0\n",
       "2019-12-29 15:57:30-08:00    37.72   58.0  67.0\n",
       "2019-12-29 15:59:30-08:00    37.57   58.0  66.0\n",
       "\n",
       "[672755 rows x 3 columns]"
      ]
     },
     "execution_count": 11,
     "metadata": {},
     "output_type": "execute_result"
    }
   ],
   "source": [
    "# https://pvlib-python.readthedocs.io/en/stable/timetimezones.html\n",
    "# The US/Pacific timezone corresponds to the timezone in California, and will\n",
    "# automatically adjust for Daylight Saving Time.\n",
    "pa.tz_convert('US/Pacific')"
   ]
  },
  {
   "cell_type": "code",
   "execution_count": 12,
   "metadata": {},
   "outputs": [
    {
     "data": {
      "text/html": [
       "<div>\n",
       "<style scoped>\n",
       "    .dataframe tbody tr th:only-of-type {\n",
       "        vertical-align: middle;\n",
       "    }\n",
       "\n",
       "    .dataframe tbody tr th {\n",
       "        vertical-align: top;\n",
       "    }\n",
       "\n",
       "    .dataframe thead th {\n",
       "        text-align: right;\n",
       "    }\n",
       "</style>\n",
       "<table border=\"1\" class=\"dataframe\">\n",
       "  <thead>\n",
       "    <tr style=\"text-align: right;\">\n",
       "      <th></th>\n",
       "      <th>PM25cf1</th>\n",
       "      <th>TempF</th>\n",
       "      <th>RH</th>\n",
       "    </tr>\n",
       "    <tr>\n",
       "      <th>timestamp</th>\n",
       "      <th></th>\n",
       "      <th></th>\n",
       "      <th></th>\n",
       "    </tr>\n",
       "  </thead>\n",
       "  <tbody>\n",
       "    <tr>\n",
       "      <th>2018-05-19 17:00:35-07:00</th>\n",
       "      <td>1.23</td>\n",
       "      <td>83.0</td>\n",
       "      <td>32.0</td>\n",
       "    </tr>\n",
       "    <tr>\n",
       "      <th>2018-05-19 17:01:55-07:00</th>\n",
       "      <td>1.94</td>\n",
       "      <td>83.0</td>\n",
       "      <td>32.0</td>\n",
       "    </tr>\n",
       "  </tbody>\n",
       "</table>\n",
       "</div>"
      ],
      "text/plain": [
       "                           PM25cf1  TempF    RH\n",
       "timestamp                                      \n",
       "2018-05-19 17:00:35-07:00     1.23   83.0  32.0\n",
       "2018-05-19 17:01:55-07:00     1.94   83.0  32.0"
      ]
     },
     "execution_count": 12,
     "metadata": {},
     "output_type": "execute_result"
    }
   ],
   "source": [
    "def convert_tz(pa):\n",
    "    return pa.tz_convert('US/Pacific')\n",
    "\n",
    "pa = (pd.read_csv(pa_csvs[0])\n",
    "      .pipe(subset_and_rename_A)\n",
    "      .pipe(parse_timestamps)\n",
    "      .pipe(convert_tz))\n",
    "pa.head(2)"
   ]
  },
  {
   "cell_type": "markdown",
   "metadata": {},
   "source": [
    "### Visualizing Timestamps"
   ]
  },
  {
   "cell_type": "markdown",
   "metadata": {},
   "source": [
    "One way to visualize the timestamps is to count how many appear in each 24-hour\n",
    "period, then plot those counts over time.\n",
    "To group time series data in `pandas`, we can use the `df.resample()` method.\n",
    "This method works on dataframes that have a index of timestamps.\n",
    "It behaves like `df.groupby()`, except that we can specify how we want the\n",
    "timestamps to be grouped---we can group into dates, weeks, months, and many\n",
    "more options."
   ]
  },
  {
   "cell_type": "code",
   "execution_count": 13,
   "metadata": {},
   "outputs": [
    {
     "data": {
      "text/plain": [
       "timestamp\n",
       "2018-05-19 00:00:00-07:00     315\n",
       "2018-05-20 00:00:00-07:00    1079\n",
       "2018-05-21 00:00:00-07:00    1074\n",
       "                             ... \n",
       "2019-12-27 00:00:00-08:00    1440\n",
       "2019-12-28 00:00:00-08:00    1200\n",
       "2019-12-29 00:00:00-08:00     480\n",
       "Freq: D, Length: 590, dtype: int64"
      ]
     },
     "execution_count": 13,
     "metadata": {},
     "output_type": "execute_result"
    }
   ],
   "source": [
    "# The 'D' argument tells resample to aggregate timestamps into individual dates\n",
    "(pa.resample('D')\n",
    " .size() # We can call aggregation methods just like we would with `groupby()`\n",
    ")"
   ]
  },
  {
   "cell_type": "code",
   "execution_count": 14,
   "metadata": {},
   "outputs": [],
   "source": [
    "# We'll reuse this plotting code later, so we'll put it in a function\n",
    "def plot_measurements_per_day(df, extra_lines=False):\n",
    "    # Make the plot wider\n",
    "    plt.figure(figsize=(10, 6))\n",
    "    pa.resample('D').size().plot(label='Sensor', linewidth=1.5)\n",
    "    plt.xlabel('')\n",
    "    plt.ylabel('# measurements / day')\n",
    "    if not extra_lines: return\n",
    "\n",
    "    plt.axvline('2019-05-30', c='red', label='May 30, 2019')\n",
    "    plt.axhline(1080, xmax=0.63, c='red', linestyle='--', linewidth=3,\n",
    "                label='1080 points / day')\n",
    "    plt.axhline(720, xmin=0.64, c='red', linestyle='--', linewidth=3,\n",
    "                label='720 points / day')\n",
    "    plt.legend(loc='upper right');"
   ]
  },
  {
   "cell_type": "code",
   "execution_count": 15,
   "metadata": {},
   "outputs": [
    {
     "data": {
      "image/png": "[encoded data removed]",
      "text/plain": [
       "<Figure size 720x432 with 1 Axes>"
      ]
     },
     "metadata": {},
     "output_type": "display_data"
    }
   ],
   "source": [
    "plot_measurements_per_day(pa)"
   ]
  },
  {
   "cell_type": "markdown",
   "metadata": {},
   "source": [
    "This is a fascinating plot. First, we see clear gaps in the data where there\n",
    "were no measurements. It appears that significant portions of data in July 2018,\n",
    "September 2019, and October 2019 are missing. Even when the sensor appears to be\n",
    "working, the number of measurements per day is slightly different. For\n",
    "instance, the plot is \"bumpy\" between August and September 2018---each date\n",
    "has a different number of measurements. This means we need to decide: what should\n",
    "we do with missing data? But perhaps more urgently..."
   ]
  },
  {
   "cell_type": "markdown",
   "metadata": {},
   "source": [
    "There are strange \"steps\" in the plot---some dates have around 1000\n",
    "readings, some around 2000, some around 700, and some around 1400. If a sensor\n",
    "takes measurements every 2 minutes, there should be a maximum of 720 measurements\n",
    "per day. For a perfect sensor, the plot would display a flat line at 720\n",
    "measurements. Why is this not the case?"
   ]
  },
  {
   "cell_type": "markdown",
   "metadata": {},
   "source": [
    "### Why is the Sampling Rate Inconsistent?"
   ]
  },
  {
   "cell_type": "markdown",
   "metadata": {},
   "source": [
    "Deeper digging reveals that although PurpleAir sensors currently record data\n",
    "every 120 seconds, this was not always the case. Before May 30, 2019, sensors\n",
    "recorded data every 80 seconds. That is, before May 30, 2019, a perfect sensor\n",
    "would record 1080 points a day.\n",
    "\n",
    "Let's mark these on the plot of measurement counts per day."
   ]
  },
  {
   "cell_type": "code",
   "execution_count": 16,
   "metadata": {},
   "outputs": [
    {
     "data": {
      "image/png": "[encoded data removed]",
      "text/plain": [
       "<Figure size 720x432 with 1 Axes>"
      ]
     },
     "metadata": {},
     "output_type": "display_data"
    }
   ],
   "source": [
    "plot_measurements_per_day(pa, extra_lines=True)"
   ]
  },
  {
   "cell_type": "markdown",
   "metadata": {},
   "source": [
    "We see that the change in sampling rate does explain the drop at May 30, 2019.\n",
    "But what about the time periods where there were many more points than expected?\n",
    "This could mean that some measurements were duplicated in the data.\n",
    "We can check this by looking at the measurements for, say, Jan 1, 2019."
   ]
  },
  {
   "cell_type": "code",
   "execution_count": 17,
   "metadata": {},
   "outputs": [
    {
     "data": {
      "text/html": [
       "<div>\n",
       "<style scoped>\n",
       "    .dataframe tbody tr th:only-of-type {\n",
       "        vertical-align: middle;\n",
       "    }\n",
       "\n",
       "    .dataframe tbody tr th {\n",
       "        vertical-align: top;\n",
       "    }\n",
       "\n",
       "    .dataframe thead th {\n",
       "        text-align: right;\n",
       "    }\n",
       "</style>\n",
       "<table border=\"1\" class=\"dataframe\">\n",
       "  <thead>\n",
       "    <tr style=\"text-align: right;\">\n",
       "      <th></th>\n",
       "      <th>PM25cf1</th>\n",
       "      <th>TempF</th>\n",
       "      <th>RH</th>\n",
       "    </tr>\n",
       "    <tr>\n",
       "      <th>timestamp</th>\n",
       "      <th></th>\n",
       "      <th></th>\n",
       "      <th></th>\n",
       "    </tr>\n",
       "  </thead>\n",
       "  <tbody>\n",
       "    <tr>\n",
       "      <th>2019-01-01 00:00:17-08:00</th>\n",
       "      <td>0.61</td>\n",
       "      <td>50.0</td>\n",
       "      <td>28.0</td>\n",
       "    </tr>\n",
       "    <tr>\n",
       "      <th>2019-01-01 00:01:40-08:00</th>\n",
       "      <td>0.53</td>\n",
       "      <td>50.0</td>\n",
       "      <td>28.0</td>\n",
       "    </tr>\n",
       "    <tr>\n",
       "      <th>2019-01-01 00:02:57-08:00</th>\n",
       "      <td>0.40</td>\n",
       "      <td>50.0</td>\n",
       "      <td>28.0</td>\n",
       "    </tr>\n",
       "    <tr>\n",
       "      <th>...</th>\n",
       "      <td>...</td>\n",
       "      <td>...</td>\n",
       "      <td>...</td>\n",
       "    </tr>\n",
       "    <tr>\n",
       "      <th>2019-01-01 23:56:51-08:00</th>\n",
       "      <td>55.83</td>\n",
       "      <td>44.0</td>\n",
       "      <td>62.0</td>\n",
       "    </tr>\n",
       "    <tr>\n",
       "      <th>2019-01-01 23:58:19-08:00</th>\n",
       "      <td>60.64</td>\n",
       "      <td>44.0</td>\n",
       "      <td>61.0</td>\n",
       "    </tr>\n",
       "    <tr>\n",
       "      <th>2019-01-01 23:59:29-08:00</th>\n",
       "      <td>60.82</td>\n",
       "      <td>44.0</td>\n",
       "      <td>62.0</td>\n",
       "    </tr>\n",
       "  </tbody>\n",
       "</table>\n",
       "<p>2154 rows × 3 columns</p>\n",
       "</div>"
      ],
      "text/plain": [
       "                           PM25cf1  TempF    RH\n",
       "timestamp                                      \n",
       "2019-01-01 00:00:17-08:00     0.61   50.0  28.0\n",
       "2019-01-01 00:01:40-08:00     0.53   50.0  28.0\n",
       "2019-01-01 00:02:57-08:00     0.40   50.0  28.0\n",
       "...                            ...    ...   ...\n",
       "2019-01-01 23:56:51-08:00    55.83   44.0  62.0\n",
       "2019-01-01 23:58:19-08:00    60.64   44.0  61.0\n",
       "2019-01-01 23:59:29-08:00    60.82   44.0  62.0\n",
       "\n",
       "[2154 rows x 3 columns]"
      ]
     },
     "execution_count": 17,
     "metadata": {},
     "output_type": "execute_result"
    }
   ],
   "source": [
    "# Passing a string into .loc will filter timestamps\n",
    "pa.loc['2019-01-01']"
   ]
  },
  {
   "cell_type": "markdown",
   "metadata": {},
   "source": [
    "There are 2154 readings, which is almost double the 1080 expected readings.\n",
    "Is this because the readings are duplicated?"
   ]
  },
  {
   "cell_type": "code",
   "execution_count": 18,
   "metadata": {},
   "outputs": [
    {
     "data": {
      "text/plain": [
       "2019-01-01 00:00:17-08:00    2\n",
       "2019-01-01 16:08:39-08:00    2\n",
       "2019-01-01 15:49:59-08:00    2\n",
       "                            ..\n",
       "2019-01-01 08:12:08-08:00    2\n",
       "2019-01-01 08:13:28-08:00    2\n",
       "2019-01-01 23:59:29-08:00    2\n",
       "Name: timestamp, Length: 1077, dtype: int64"
      ]
     },
     "execution_count": 18,
     "metadata": {},
     "output_type": "execute_result"
    }
   ],
   "source": [
    "pa.loc['2019-01-01'].index.value_counts()"
   ]
  },
  {
   "cell_type": "markdown",
   "metadata": {},
   "source": [
    "We see that each timestamp appears exactly twice.\n",
    "And, if we look at the data for one timestamp, we see that the data are\n",
    "repeated."
   ]
  },
  {
   "cell_type": "code",
   "execution_count": 19,
   "metadata": {},
   "outputs": [
    {
     "data": {
      "text/html": [
       "<div>\n",
       "<style scoped>\n",
       "    .dataframe tbody tr th:only-of-type {\n",
       "        vertical-align: middle;\n",
       "    }\n",
       "\n",
       "    .dataframe tbody tr th {\n",
       "        vertical-align: top;\n",
       "    }\n",
       "\n",
       "    .dataframe thead th {\n",
       "        text-align: right;\n",
       "    }\n",
       "</style>\n",
       "<table border=\"1\" class=\"dataframe\">\n",
       "  <thead>\n",
       "    <tr style=\"text-align: right;\">\n",
       "      <th></th>\n",
       "      <th>PM25cf1</th>\n",
       "      <th>TempF</th>\n",
       "      <th>RH</th>\n",
       "    </tr>\n",
       "    <tr>\n",
       "      <th>timestamp</th>\n",
       "      <th></th>\n",
       "      <th></th>\n",
       "      <th></th>\n",
       "    </tr>\n",
       "  </thead>\n",
       "  <tbody>\n",
       "    <tr>\n",
       "      <th>2019-01-01 00:00:17-08:00</th>\n",
       "      <td>0.61</td>\n",
       "      <td>50.0</td>\n",
       "      <td>28.0</td>\n",
       "    </tr>\n",
       "    <tr>\n",
       "      <th>2019-01-01 00:00:17-08:00</th>\n",
       "      <td>0.61</td>\n",
       "      <td>50.0</td>\n",
       "      <td>28.0</td>\n",
       "    </tr>\n",
       "  </tbody>\n",
       "</table>\n",
       "</div>"
      ],
      "text/plain": [
       "                           PM25cf1  TempF    RH\n",
       "timestamp                                      \n",
       "2019-01-01 00:00:17-08:00     0.61   50.0  28.0\n",
       "2019-01-01 00:00:17-08:00     0.61   50.0  28.0"
      ]
     },
     "execution_count": 19,
     "metadata": {},
     "output_type": "execute_result"
    }
   ],
   "source": [
    "pa.loc['2019-01-01 00:00']"
   ]
  },
  {
   "cell_type": "markdown",
   "metadata": {},
   "source": [
    "Next, we can verify that all duplicated dates contain the same PM2.5 reading.\n",
    "Using `.groupby('timestamp')` is possible, but runs very slowly.\n",
    "Instead, we'll resample into minute-long intervals.\n",
    "We know that the PM2.5 readings within an interval are all equal if the maximum\n",
    "reading minus minimum reading is zero."
   ]
  },
  {
   "cell_type": "code",
   "execution_count": 20,
   "metadata": {},
   "outputs": [
    {
     "data": {
      "text/plain": [
       "timestamp\n",
       "2018-05-19 17:00:00-07:00    0\n",
       "2018-05-19 17:01:00-07:00    0\n",
       "2018-05-19 17:02:00-07:00    0\n",
       "                            ..\n",
       "2019-12-29 15:57:00-08:00    0\n",
       "2019-12-29 15:58:00-08:00    0\n",
       "2019-12-29 15:59:00-08:00    0\n",
       "Freq: T, Name: PM25cf1, Length: 848160, dtype: int64"
      ]
     },
     "execution_count": 20,
     "metadata": {},
     "output_type": "execute_result"
    }
   ],
   "source": [
    "# Some 1-min intervals have no readings, so we need to handle that case\n",
    "def ptp(s):\n",
    "    return 0 if len(s) == 0 else np.ptp(s)\n",
    "\n",
    "(pa\n",
    " .resample('1min')\n",
    " ['PM25cf1']\n",
    " .agg(ptp)\n",
    ")"
   ]
  },
  {
   "cell_type": "code",
   "execution_count": 21,
   "metadata": {},
   "outputs": [
    {
     "data": {
      "text/plain": [
       "count    848160.0\n",
       "mean          0.0\n",
       "std           0.0\n",
       "           ...   \n",
       "50%           0.0\n",
       "75%           0.0\n",
       "max           0.0\n",
       "Name: PM25cf1, Length: 8, dtype: float64"
      ]
     },
     "execution_count": 21,
     "metadata": {},
     "output_type": "execute_result"
    }
   ],
   "source": [
    "(pa\n",
    " .resample('1min')\n",
    " ['PM25cf1']\n",
    " .agg(ptp)\n",
    " .describe()\n",
    ")\n",
    "# A standard deviation of 0 means that all values are equal."
   ]
  },
  {
   "cell_type": "markdown",
   "metadata": {},
   "source": [
    "So, every duplicated timestamp has identical PM2.5 readings. Since this is also\n",
    "true for both temperature and humidity, we'll drop duplicate rows from `pa`."
   ]
  },
  {
   "cell_type": "code",
   "execution_count": 22,
   "metadata": {},
   "outputs": [
    {
     "data": {
      "text/html": [
       "<div>\n",
       "<style scoped>\n",
       "    .dataframe tbody tr th:only-of-type {\n",
       "        vertical-align: middle;\n",
       "    }\n",
       "\n",
       "    .dataframe tbody tr th {\n",
       "        vertical-align: top;\n",
       "    }\n",
       "\n",
       "    .dataframe thead th {\n",
       "        text-align: right;\n",
       "    }\n",
       "</style>\n",
       "<table border=\"1\" class=\"dataframe\">\n",
       "  <thead>\n",
       "    <tr style=\"text-align: right;\">\n",
       "      <th></th>\n",
       "      <th>PM25cf1</th>\n",
       "      <th>TempF</th>\n",
       "      <th>RH</th>\n",
       "    </tr>\n",
       "    <tr>\n",
       "      <th>timestamp</th>\n",
       "      <th></th>\n",
       "      <th></th>\n",
       "      <th></th>\n",
       "    </tr>\n",
       "  </thead>\n",
       "  <tbody>\n",
       "    <tr>\n",
       "      <th>2018-05-19 17:00:35-07:00</th>\n",
       "      <td>1.23</td>\n",
       "      <td>83.0</td>\n",
       "      <td>32.0</td>\n",
       "    </tr>\n",
       "    <tr>\n",
       "      <th>2018-05-19 17:01:55-07:00</th>\n",
       "      <td>1.94</td>\n",
       "      <td>83.0</td>\n",
       "      <td>32.0</td>\n",
       "    </tr>\n",
       "  </tbody>\n",
       "</table>\n",
       "</div>"
      ],
      "text/plain": [
       "                           PM25cf1  TempF    RH\n",
       "timestamp                                      \n",
       "2018-05-19 17:00:35-07:00     1.23   83.0  32.0\n",
       "2018-05-19 17:01:55-07:00     1.94   83.0  32.0"
      ]
     },
     "execution_count": 22,
     "metadata": {},
     "output_type": "execute_result"
    }
   ],
   "source": [
    "def drop_duplicate_rows(df):\n",
    "    return df[~df.index.duplicated()]\n",
    "\n",
    "pa = (pd.read_csv(pa_csvs[0])\n",
    "      .pipe(subset_and_rename_A)\n",
    "      .pipe(parse_timestamps)\n",
    "      .pipe(convert_tz)\n",
    "      .pipe(drop_duplicate_rows))\n",
    "pa.head(2)"
   ]
  },
  {
   "cell_type": "code",
   "execution_count": 23,
   "metadata": {},
   "outputs": [
    {
     "data": {
      "image/png": "[encoded data removed]",
      "text/plain": [
       "<Figure size 720x432 with 1 Axes>"
      ]
     },
     "metadata": {},
     "output_type": "display_data"
    }
   ],
   "source": [
    "plot_measurements_per_day(pa, extra_lines=True)"
   ]
  },
  {
   "cell_type": "markdown",
   "metadata": {},
   "source": [
    "We see that after dropping duplicate dates, the plot of measurements per day\n",
    "looks much more consistent with the the sampling rate we expect [^dst].\n",
    "\n",
    "[^dst]: Careful readers will see two spikes above the maximum measurements around\n",
    "November of each year when Daylight Saving Time is no longer in effect.\n",
    "When clocks are rolled back one hour, that day has 25 hours instead of the usual\n",
    "24 hours. Timestamps are tricky!"
   ]
  },
  {
   "cell_type": "markdown",
   "metadata": {},
   "source": [
    "## What do we do About Missing Data?"
   ]
  },
  {
   "cell_type": "markdown",
   "metadata": {},
   "source": [
    "Next, we must decide how to handle missing values. We'll follow Barkjohn's\n",
    "original analysis: we only keep a 24-hour average if there are at least 90%\n",
    "of the possible points for that day. We'll need to remember that\n",
    "before May 30, 2019 there are 1080 possible points in a day---after May 30,\n",
    "there are 720 points possible.\n"
   ]
  },
  {
   "cell_type": "code",
   "execution_count": 24,
   "metadata": {},
   "outputs": [
    {
     "data": {
      "text/html": [
       "<div>\n",
       "<style scoped>\n",
       "    .dataframe tbody tr th:only-of-type {\n",
       "        vertical-align: middle;\n",
       "    }\n",
       "\n",
       "    .dataframe tbody tr th {\n",
       "        vertical-align: top;\n",
       "    }\n",
       "\n",
       "    .dataframe thead th {\n",
       "        text-align: right;\n",
       "    }\n",
       "</style>\n",
       "<table border=\"1\" class=\"dataframe\">\n",
       "  <thead>\n",
       "    <tr style=\"text-align: right;\">\n",
       "      <th></th>\n",
       "      <th>per_day</th>\n",
       "    </tr>\n",
       "    <tr>\n",
       "      <th>timestamp</th>\n",
       "      <th></th>\n",
       "    </tr>\n",
       "  </thead>\n",
       "  <tbody>\n",
       "    <tr>\n",
       "      <th>2018-05-19 00:00:00-07:00</th>\n",
       "      <td>315</td>\n",
       "    </tr>\n",
       "    <tr>\n",
       "      <th>2018-05-20 00:00:00-07:00</th>\n",
       "      <td>1079</td>\n",
       "    </tr>\n",
       "    <tr>\n",
       "      <th>2018-05-21 00:00:00-07:00</th>\n",
       "      <td>1074</td>\n",
       "    </tr>\n",
       "    <tr>\n",
       "      <th>...</th>\n",
       "      <td>...</td>\n",
       "    </tr>\n",
       "    <tr>\n",
       "      <th>2019-12-27 00:00:00-08:00</th>\n",
       "      <td>720</td>\n",
       "    </tr>\n",
       "    <tr>\n",
       "      <th>2019-12-28 00:00:00-08:00</th>\n",
       "      <td>720</td>\n",
       "    </tr>\n",
       "    <tr>\n",
       "      <th>2019-12-29 00:00:00-08:00</th>\n",
       "      <td>480</td>\n",
       "    </tr>\n",
       "  </tbody>\n",
       "</table>\n",
       "<p>590 rows × 1 columns</p>\n",
       "</div>"
      ],
      "text/plain": [
       "                           per_day\n",
       "timestamp                         \n",
       "2018-05-19 00:00:00-07:00      315\n",
       "2018-05-20 00:00:00-07:00     1079\n",
       "2018-05-21 00:00:00-07:00     1074\n",
       "...                            ...\n",
       "2019-12-27 00:00:00-08:00      720\n",
       "2019-12-28 00:00:00-08:00      720\n",
       "2019-12-29 00:00:00-08:00      480\n",
       "\n",
       "[590 rows x 1 columns]"
      ]
     },
     "execution_count": 24,
     "metadata": {},
     "output_type": "execute_result"
    }
   ],
   "source": [
    "per_day = (pa\n",
    " .resample('D')\n",
    " .size()\n",
    " .rename('per_day')\n",
    " .to_frame()\n",
    ")\n",
    "per_day"
   ]
  },
  {
   "cell_type": "code",
   "execution_count": 25,
   "metadata": {},
   "outputs": [],
   "source": [
    "needed_measurements_80s = 0.9 * 1080\n",
    "needed_measurements_120s = 0.9 * 720\n",
    "cutoff_date = pd.Timestamp('2019-05-30', tz='US/Pacific')\n",
    "\n",
    "def has_enough_readings(one_day):\n",
    "    [n] = one_day\n",
    "    date = one_day.name\n",
    "    return (n >= needed_measurements_80s\n",
    "            if date <= cutoff_date\n",
    "            else n >= needed_measurements_120s)"
   ]
  },
  {
   "cell_type": "code",
   "execution_count": 26,
   "metadata": {},
   "outputs": [
    {
     "data": {
      "text/plain": [
       "timestamp\n",
       "2018-05-19 00:00:00-07:00    False\n",
       "2018-05-20 00:00:00-07:00     True\n",
       "2018-05-21 00:00:00-07:00     True\n",
       "                             ...  \n",
       "2019-12-27 00:00:00-08:00     True\n",
       "2019-12-28 00:00:00-08:00     True\n",
       "2019-12-29 00:00:00-08:00    False\n",
       "Freq: D, Length: 590, dtype: bool"
      ]
     },
     "execution_count": 26,
     "metadata": {},
     "output_type": "execute_result"
    }
   ],
   "source": [
    "should_keep = per_day.apply(has_enough_readings, axis='columns')\n",
    "should_keep"
   ]
  },
  {
   "cell_type": "markdown",
   "metadata": {},
   "source": [
    "Now, we can average together the readings for each day, then remove the days\n",
    "with incomplete data."
   ]
  },
  {
   "cell_type": "code",
   "execution_count": 27,
   "metadata": {},
   "outputs": [
    {
     "data": {
      "text/html": [
       "<div>\n",
       "<style scoped>\n",
       "    .dataframe tbody tr th:only-of-type {\n",
       "        vertical-align: middle;\n",
       "    }\n",
       "\n",
       "    .dataframe tbody tr th {\n",
       "        vertical-align: top;\n",
       "    }\n",
       "\n",
       "    .dataframe thead th {\n",
       "        text-align: right;\n",
       "    }\n",
       "</style>\n",
       "<table border=\"1\" class=\"dataframe\">\n",
       "  <thead>\n",
       "    <tr style=\"text-align: right;\">\n",
       "      <th></th>\n",
       "      <th>PM25cf1</th>\n",
       "      <th>TempF</th>\n",
       "      <th>RH</th>\n",
       "    </tr>\n",
       "    <tr>\n",
       "      <th>timestamp</th>\n",
       "      <th></th>\n",
       "      <th></th>\n",
       "      <th></th>\n",
       "    </tr>\n",
       "  </thead>\n",
       "  <tbody>\n",
       "    <tr>\n",
       "      <th>2018-05-20 00:00:00-07:00</th>\n",
       "      <td>2.48</td>\n",
       "      <td>83.35</td>\n",
       "      <td>28.72</td>\n",
       "    </tr>\n",
       "    <tr>\n",
       "      <th>2018-05-21 00:00:00-07:00</th>\n",
       "      <td>3.00</td>\n",
       "      <td>83.25</td>\n",
       "      <td>29.91</td>\n",
       "    </tr>\n",
       "    <tr>\n",
       "      <th>2018-05-22 00:00:00-07:00</th>\n",
       "      <td>3.47</td>\n",
       "      <td>83.09</td>\n",
       "      <td>31.50</td>\n",
       "    </tr>\n",
       "    <tr>\n",
       "      <th>...</th>\n",
       "      <td>...</td>\n",
       "      <td>...</td>\n",
       "      <td>...</td>\n",
       "    </tr>\n",
       "    <tr>\n",
       "      <th>2019-12-26 00:00:00-08:00</th>\n",
       "      <td>1.56</td>\n",
       "      <td>54.46</td>\n",
       "      <td>48.93</td>\n",
       "    </tr>\n",
       "    <tr>\n",
       "      <th>2019-12-27 00:00:00-08:00</th>\n",
       "      <td>7.66</td>\n",
       "      <td>54.38</td>\n",
       "      <td>46.43</td>\n",
       "    </tr>\n",
       "    <tr>\n",
       "      <th>2019-12-28 00:00:00-08:00</th>\n",
       "      <td>35.78</td>\n",
       "      <td>54.28</td>\n",
       "      <td>51.10</td>\n",
       "    </tr>\n",
       "  </tbody>\n",
       "</table>\n",
       "<p>515 rows × 3 columns</p>\n",
       "</div>"
      ],
      "text/plain": [
       "                           PM25cf1  TempF     RH\n",
       "timestamp                                       \n",
       "2018-05-20 00:00:00-07:00     2.48  83.35  28.72\n",
       "2018-05-21 00:00:00-07:00     3.00  83.25  29.91\n",
       "2018-05-22 00:00:00-07:00     3.47  83.09  31.50\n",
       "...                            ...    ...    ...\n",
       "2019-12-26 00:00:00-08:00     1.56  54.46  48.93\n",
       "2019-12-27 00:00:00-08:00     7.66  54.38  46.43\n",
       "2019-12-28 00:00:00-08:00    35.78  54.28  51.10\n",
       "\n",
       "[515 rows x 3 columns]"
      ]
     },
     "execution_count": 27,
     "metadata": {},
     "output_type": "execute_result"
    }
   ],
   "source": [
    "(pa.resample('D')\n",
    " .mean()\n",
    " .loc[should_keep]\n",
    " )"
   ]
  },
  {
   "cell_type": "markdown",
   "metadata": {},
   "source": [
    "Finally, we can put this step into the pipeline:"
   ]
  },
  {
   "cell_type": "code",
   "execution_count": 28,
   "metadata": {},
   "outputs": [
    {
     "data": {
      "text/html": [
       "<div>\n",
       "<style scoped>\n",
       "    .dataframe tbody tr th:only-of-type {\n",
       "        vertical-align: middle;\n",
       "    }\n",
       "\n",
       "    .dataframe tbody tr th {\n",
       "        vertical-align: top;\n",
       "    }\n",
       "\n",
       "    .dataframe thead th {\n",
       "        text-align: right;\n",
       "    }\n",
       "</style>\n",
       "<table border=\"1\" class=\"dataframe\">\n",
       "  <thead>\n",
       "    <tr style=\"text-align: right;\">\n",
       "      <th></th>\n",
       "      <th>PM25cf1</th>\n",
       "      <th>TempF</th>\n",
       "      <th>RH</th>\n",
       "    </tr>\n",
       "    <tr>\n",
       "      <th>timestamp</th>\n",
       "      <th></th>\n",
       "      <th></th>\n",
       "      <th></th>\n",
       "    </tr>\n",
       "  </thead>\n",
       "  <tbody>\n",
       "    <tr>\n",
       "      <th>2018-05-20 00:00:00-07:00</th>\n",
       "      <td>2.48</td>\n",
       "      <td>83.35</td>\n",
       "      <td>28.72</td>\n",
       "    </tr>\n",
       "    <tr>\n",
       "      <th>2018-05-21 00:00:00-07:00</th>\n",
       "      <td>3.00</td>\n",
       "      <td>83.25</td>\n",
       "      <td>29.91</td>\n",
       "    </tr>\n",
       "  </tbody>\n",
       "</table>\n",
       "</div>"
      ],
      "text/plain": [
       "                           PM25cf1  TempF     RH\n",
       "timestamp                                       \n",
       "2018-05-20 00:00:00-07:00     2.48  83.35  28.72\n",
       "2018-05-21 00:00:00-07:00     3.00  83.25  29.91"
      ]
     },
     "execution_count": 28,
     "metadata": {},
     "output_type": "execute_result"
    }
   ],
   "source": [
    "def compute_daily_avgs(pa):\n",
    "    should_keep = (pa.resample('D')\n",
    "                   ['PM25cf1']\n",
    "                   .size()\n",
    "                   .to_frame()\n",
    "                   .apply(has_enough_readings, axis='columns'))\n",
    "    return (pa.resample('D')\n",
    "            .mean()\n",
    "            .loc[should_keep])\n",
    "\n",
    "pa = (pd.read_csv(pa_csvs[0])\n",
    "      .pipe(subset_and_rename_A)\n",
    "      .pipe(parse_timestamps)\n",
    "      .pipe(convert_tz)\n",
    "      .pipe(drop_duplicate_rows)\n",
    "      .pipe(compute_daily_avgs))\n",
    "pa.head(2)"
   ]
  },
  {
   "cell_type": "markdown",
   "metadata": {},
   "source": [
    "Now, we have the average daily PM2.5 readings for instrument A."
   ]
  },
  {
   "cell_type": "markdown",
   "metadata": {},
   "source": [
    "## What if A and B channels disagree?"
   ]
  },
  {
   "cell_type": "markdown",
   "metadata": {},
   "source": [
    "Recall that there are two instruments per sensor named A and B.\n",
    "If the sensors disagree on a particular day, we'll drop the day from the\n",
    "data. First, we'll need to repeat the data wrangling we just performed on\n",
    "instrument A on instrument B.\n",
    "\n",
    "Thankfully, the CSV for instrument B is very similar to the CSV for instrument A\n",
    "except that the CSVs contain slightly different sets of columns.\n",
    "We'll define a subset procedure for instrument B, then reuse the same pipeline."
   ]
  },
  {
   "cell_type": "code",
   "execution_count": 29,
   "metadata": {},
   "outputs": [
    {
     "data": {
      "text/html": [
       "<div>\n",
       "<style scoped>\n",
       "    .dataframe tbody tr th:only-of-type {\n",
       "        vertical-align: middle;\n",
       "    }\n",
       "\n",
       "    .dataframe tbody tr th {\n",
       "        vertical-align: top;\n",
       "    }\n",
       "\n",
       "    .dataframe thead th {\n",
       "        text-align: right;\n",
       "    }\n",
       "</style>\n",
       "<table border=\"1\" class=\"dataframe\">\n",
       "  <thead>\n",
       "    <tr style=\"text-align: right;\">\n",
       "      <th></th>\n",
       "      <th>created_at</th>\n",
       "      <th>entry_id</th>\n",
       "      <th>PM1.0_CF1_ug/m3</th>\n",
       "      <th>PM2.5_CF1_ug/m3</th>\n",
       "      <th>...</th>\n",
       "      <th>Pressure_hpa</th>\n",
       "      <th>IAQ</th>\n",
       "      <th>PM2.5_ATM_ug/m3</th>\n",
       "      <th>Unnamed: 10</th>\n",
       "    </tr>\n",
       "  </thead>\n",
       "  <tbody>\n",
       "    <tr>\n",
       "      <th>0</th>\n",
       "      <td>2018-05-20 00:01:05 UTC</td>\n",
       "      <td>20741</td>\n",
       "      <td>1.44</td>\n",
       "      <td>1.51</td>\n",
       "      <td>...</td>\n",
       "      <td>1010.73</td>\n",
       "      <td>NaN</td>\n",
       "      <td>1.51</td>\n",
       "      <td>NaN</td>\n",
       "    </tr>\n",
       "    <tr>\n",
       "      <th>1</th>\n",
       "      <td>2018-05-20 00:02:25 UTC</td>\n",
       "      <td>20742</td>\n",
       "      <td>1.27</td>\n",
       "      <td>1.33</td>\n",
       "      <td>...</td>\n",
       "      <td>1010.75</td>\n",
       "      <td>NaN</td>\n",
       "      <td>1.33</td>\n",
       "      <td>NaN</td>\n",
       "    </tr>\n",
       "  </tbody>\n",
       "</table>\n",
       "<p>2 rows × 11 columns</p>\n",
       "</div>"
      ],
      "text/plain": [
       "                created_at  entry_id  PM1.0_CF1_ug/m3  PM2.5_CF1_ug/m3  ...  \\\n",
       "0  2018-05-20 00:01:05 UTC     20741             1.44             1.51  ...   \n",
       "1  2018-05-20 00:02:25 UTC     20742             1.27             1.33  ...   \n",
       "\n",
       "   Pressure_hpa  IAQ  PM2.5_ATM_ug/m3  Unnamed: 10  \n",
       "0       1010.73  NaN             1.51          NaN  \n",
       "1       1010.75  NaN             1.33          NaN  \n",
       "\n",
       "[2 rows x 11 columns]"
      ]
     },
     "execution_count": 29,
     "metadata": {},
     "output_type": "execute_result"
    }
   ],
   "source": [
    "pa_B = pd.read_csv(pa_csvs[2])\n",
    "pa_B.head(2)"
   ]
  },
  {
   "cell_type": "code",
   "execution_count": 30,
   "metadata": {},
   "outputs": [],
   "source": [
    "def subset_and_rename_B(df):\n",
    "    df = df[['created_at', 'PM2.5_CF1_ug/m3']]\n",
    "    df.columns = ['timestamp', 'PM25cf1']\n",
    "    return df"
   ]
  },
  {
   "cell_type": "code",
   "execution_count": 31,
   "metadata": {},
   "outputs": [
    {
     "data": {
      "text/html": [
       "<div>\n",
       "<style scoped>\n",
       "    .dataframe tbody tr th:only-of-type {\n",
       "        vertical-align: middle;\n",
       "    }\n",
       "\n",
       "    .dataframe tbody tr th {\n",
       "        vertical-align: top;\n",
       "    }\n",
       "\n",
       "    .dataframe thead th {\n",
       "        text-align: right;\n",
       "    }\n",
       "</style>\n",
       "<table border=\"1\" class=\"dataframe\">\n",
       "  <thead>\n",
       "    <tr style=\"text-align: right;\">\n",
       "      <th></th>\n",
       "      <th>PM25cf1</th>\n",
       "    </tr>\n",
       "    <tr>\n",
       "      <th>timestamp</th>\n",
       "      <th></th>\n",
       "    </tr>\n",
       "  </thead>\n",
       "  <tbody>\n",
       "    <tr>\n",
       "      <th>2018-05-20 00:00:00-07:00</th>\n",
       "      <td>2.42</td>\n",
       "    </tr>\n",
       "    <tr>\n",
       "      <th>2018-05-21 00:00:00-07:00</th>\n",
       "      <td>3.01</td>\n",
       "    </tr>\n",
       "  </tbody>\n",
       "</table>\n",
       "</div>"
      ],
      "text/plain": [
       "                           PM25cf1\n",
       "timestamp                         \n",
       "2018-05-20 00:00:00-07:00     2.42\n",
       "2018-05-21 00:00:00-07:00     3.01"
      ]
     },
     "execution_count": 31,
     "metadata": {},
     "output_type": "execute_result"
    }
   ],
   "source": [
    "pa_B = (pd.read_csv(pa_csvs[2])\n",
    "        .pipe(subset_and_rename_B)\n",
    "        .pipe(parse_timestamps)\n",
    "        .pipe(convert_tz)\n",
    "        .pipe(drop_duplicate_rows)\n",
    "        .pipe(compute_daily_avgs))\n",
    "pa_B.head(2)"
   ]
  },
  {
   "cell_type": "markdown",
   "metadata": {},
   "source": [
    "We can see that the values in B differ slightly from the values in A."
   ]
  },
  {
   "cell_type": "code",
   "execution_count": 32,
   "metadata": {},
   "outputs": [
    {
     "data": {
      "text/html": [
       "<div>\n",
       "<style scoped>\n",
       "    .dataframe tbody tr th:only-of-type {\n",
       "        vertical-align: middle;\n",
       "    }\n",
       "\n",
       "    .dataframe tbody tr th {\n",
       "        vertical-align: top;\n",
       "    }\n",
       "\n",
       "    .dataframe thead th {\n",
       "        text-align: right;\n",
       "    }\n",
       "</style>\n",
       "<table border=\"1\" class=\"dataframe\">\n",
       "  <thead>\n",
       "    <tr style=\"text-align: right;\">\n",
       "      <th></th>\n",
       "      <th>A</th>\n",
       "      <th>B</th>\n",
       "    </tr>\n",
       "    <tr>\n",
       "      <th>timestamp</th>\n",
       "      <th></th>\n",
       "      <th></th>\n",
       "    </tr>\n",
       "  </thead>\n",
       "  <tbody>\n",
       "    <tr>\n",
       "      <th>2018-05-20 00:00:00-07:00</th>\n",
       "      <td>2.48</td>\n",
       "      <td>2.42</td>\n",
       "    </tr>\n",
       "    <tr>\n",
       "      <th>2018-05-21 00:00:00-07:00</th>\n",
       "      <td>3.00</td>\n",
       "      <td>3.01</td>\n",
       "    </tr>\n",
       "    <tr>\n",
       "      <th>2018-05-22 00:00:00-07:00</th>\n",
       "      <td>3.47</td>\n",
       "      <td>3.46</td>\n",
       "    </tr>\n",
       "    <tr>\n",
       "      <th>...</th>\n",
       "      <td>...</td>\n",
       "      <td>...</td>\n",
       "    </tr>\n",
       "    <tr>\n",
       "      <th>2019-12-26 00:00:00-08:00</th>\n",
       "      <td>1.56</td>\n",
       "      <td>1.42</td>\n",
       "    </tr>\n",
       "    <tr>\n",
       "      <th>2019-12-27 00:00:00-08:00</th>\n",
       "      <td>7.66</td>\n",
       "      <td>8.08</td>\n",
       "    </tr>\n",
       "    <tr>\n",
       "      <th>2019-12-28 00:00:00-08:00</th>\n",
       "      <td>35.78</td>\n",
       "      <td>39.15</td>\n",
       "    </tr>\n",
       "  </tbody>\n",
       "</table>\n",
       "<p>515 rows × 2 columns</p>\n",
       "</div>"
      ],
      "text/plain": [
       "                               A      B\n",
       "timestamp                              \n",
       "2018-05-20 00:00:00-07:00   2.48   2.42\n",
       "2018-05-21 00:00:00-07:00   3.00   3.01\n",
       "2018-05-22 00:00:00-07:00   3.47   3.46\n",
       "...                          ...    ...\n",
       "2019-12-26 00:00:00-08:00   1.56   1.42\n",
       "2019-12-27 00:00:00-08:00   7.66   8.08\n",
       "2019-12-28 00:00:00-08:00  35.78  39.15\n",
       "\n",
       "[515 rows x 2 columns]"
      ]
     },
     "execution_count": 32,
     "metadata": {},
     "output_type": "execute_result"
    }
   ],
   "source": [
    "(pa\n",
    " .rename(columns={'PM25cf1': 'A'})\n",
    " .assign(B=pa_B['PM25cf1'])\n",
    " [['A', 'B']]\n",
    ")"
   ]
  },
  {
   "cell_type": "markdown",
   "metadata": {},
   "source": [
    "We'll apply Barkjohn's method: drop rows if the PM2.5 values for A and B differ by more\n",
    "than 61%, or by more than 5 µg m⁻³."
   ]
  },
  {
   "cell_type": "code",
   "execution_count": 33,
   "metadata": {},
   "outputs": [
    {
     "data": {
      "text/plain": [
       "12"
      ]
     },
     "execution_count": 33,
     "metadata": {},
     "output_type": "execute_result"
    }
   ],
   "source": [
    "A = pa['PM25cf1']\n",
    "B = pa_B['PM25cf1']\n",
    "\n",
    "abs_diff = (A - B).abs()\n",
    "perc_diff = (A - B) * 2 / (A + B)\n",
    "should_drop = (perc_diff >= 0.61) | (abs_diff >= 5)\n",
    "# We'll end up dropping 12 rows\n",
    "np.count_nonzero(should_drop)"
   ]
  },
  {
   "cell_type": "markdown",
   "metadata": {},
   "source": [
    "Finally, we'll add this step into the pipeline. After dropping rows, our final\n",
    "PM2.5 values will be the average of instruments A and B."
   ]
  },
  {
   "cell_type": "code",
   "execution_count": 34,
   "metadata": {},
   "outputs": [],
   "source": [
    "def process_instrument_B(pa, pa_B):\n",
    "    A = pa['PM25cf1']\n",
    "    B = pa_B['PM25cf1']\n",
    "    avg = (A + B) / 2\n",
    "\n",
    "    abs_diff = (A - B).abs()\n",
    "    perc_diff = (A - B) * 2 / (A + B)\n",
    "    should_drop = (perc_diff.isna()) | (perc_diff >= 0.61) | (abs_diff >= 5)\n",
    "    return (\n",
    "        pa.assign(PM25cf1=avg)\n",
    "        .loc[~should_drop]\n",
    "    )"
   ]
  },
  {
   "cell_type": "code",
   "execution_count": 35,
   "metadata": {},
   "outputs": [
    {
     "data": {
      "text/html": [
       "<div>\n",
       "<style scoped>\n",
       "    .dataframe tbody tr th:only-of-type {\n",
       "        vertical-align: middle;\n",
       "    }\n",
       "\n",
       "    .dataframe tbody tr th {\n",
       "        vertical-align: top;\n",
       "    }\n",
       "\n",
       "    .dataframe thead th {\n",
       "        text-align: right;\n",
       "    }\n",
       "</style>\n",
       "<table border=\"1\" class=\"dataframe\">\n",
       "  <thead>\n",
       "    <tr style=\"text-align: right;\">\n",
       "      <th></th>\n",
       "      <th>PM25cf1</th>\n",
       "      <th>TempF</th>\n",
       "      <th>RH</th>\n",
       "    </tr>\n",
       "    <tr>\n",
       "      <th>timestamp</th>\n",
       "      <th></th>\n",
       "      <th></th>\n",
       "      <th></th>\n",
       "    </tr>\n",
       "  </thead>\n",
       "  <tbody>\n",
       "    <tr>\n",
       "      <th>2018-05-20 00:00:00-07:00</th>\n",
       "      <td>2.45</td>\n",
       "      <td>83.35</td>\n",
       "      <td>28.72</td>\n",
       "    </tr>\n",
       "    <tr>\n",
       "      <th>2018-05-21 00:00:00-07:00</th>\n",
       "      <td>3.01</td>\n",
       "      <td>83.25</td>\n",
       "      <td>29.91</td>\n",
       "    </tr>\n",
       "    <tr>\n",
       "      <th>2018-05-22 00:00:00-07:00</th>\n",
       "      <td>3.46</td>\n",
       "      <td>83.09</td>\n",
       "      <td>31.50</td>\n",
       "    </tr>\n",
       "    <tr>\n",
       "      <th>...</th>\n",
       "      <td>...</td>\n",
       "      <td>...</td>\n",
       "      <td>...</td>\n",
       "    </tr>\n",
       "    <tr>\n",
       "      <th>2019-12-26 00:00:00-08:00</th>\n",
       "      <td>1.49</td>\n",
       "      <td>54.46</td>\n",
       "      <td>48.93</td>\n",
       "    </tr>\n",
       "    <tr>\n",
       "      <th>2019-12-27 00:00:00-08:00</th>\n",
       "      <td>7.87</td>\n",
       "      <td>54.38</td>\n",
       "      <td>46.43</td>\n",
       "    </tr>\n",
       "    <tr>\n",
       "      <th>2019-12-28 00:00:00-08:00</th>\n",
       "      <td>37.46</td>\n",
       "      <td>54.28</td>\n",
       "      <td>51.10</td>\n",
       "    </tr>\n",
       "  </tbody>\n",
       "</table>\n",
       "<p>502 rows × 3 columns</p>\n",
       "</div>"
      ],
      "text/plain": [
       "                           PM25cf1  TempF     RH\n",
       "timestamp                                       \n",
       "2018-05-20 00:00:00-07:00     2.45  83.35  28.72\n",
       "2018-05-21 00:00:00-07:00     3.01  83.25  29.91\n",
       "2018-05-22 00:00:00-07:00     3.46  83.09  31.50\n",
       "...                            ...    ...    ...\n",
       "2019-12-26 00:00:00-08:00     1.49  54.46  48.93\n",
       "2019-12-27 00:00:00-08:00     7.87  54.38  46.43\n",
       "2019-12-28 00:00:00-08:00    37.46  54.28  51.10\n",
       "\n",
       "[502 rows x 3 columns]"
      ]
     },
     "execution_count": 35,
     "metadata": {},
     "output_type": "execute_result"
    }
   ],
   "source": [
    "pa = (pd.read_csv(pa_csvs[0])\n",
    "      .pipe(subset_and_rename_A)\n",
    "      .pipe(parse_timestamps)\n",
    "      .pipe(convert_tz)\n",
    "      .pipe(drop_duplicate_rows)\n",
    "      .pipe(compute_daily_avgs)\n",
    "      .pipe(process_instrument_B, pa_B))\n",
    "pa"
   ]
  },
  {
   "cell_type": "markdown",
   "metadata": {},
   "source": [
    "At last, we have the final PM2.5 readings for a PurpleAir sensor.\n",
    "We've done a lot of work: we've decided how to handle \n",
    "missing data, we aggregated the readings for instrument A, averaged the readings\n",
    "together with instrument B, and removed rows where A and B disagreed.\n",
    "This work has given us a set of PM2.5 readings that we are more confident in.\n",
    "We know that each PM2.5 value in the final `pa` dataframe is the daily average from\n",
    "two separate instruments that generated consistent and complete readings."
   ]
  },
  {
   "cell_type": "markdown",
   "metadata": {},
   "source": [
    "To fully replicate Barkjohn's analysis, we would need to repeat this process\n",
    "over all the PurpleAir sensors.\n",
    "Then, we would repeat the AQS cleaning procedure on all the AQS sensor.\n",
    "Finally, we would merge the PurpleAir and AQS data together.\n",
    "This procedure produces daily average readings for each collocated sensor pair."
   ]
  },
  {
   "cell_type": "markdown",
   "metadata": {},
   "source": [
    "For brevity, we'll omit the code to repeat the data processing for the rest of\n",
    "the raw sensor data.\n",
    "Instead, we'll reuse Barkjohn's cleaned and merged final dataset:"
   ]
  },
  {
   "cell_type": "code",
   "execution_count": 36,
   "metadata": {},
   "outputs": [
    {
     "data": {
      "text/html": [
       "<div>\n",
       "<style scoped>\n",
       "    .dataframe tbody tr th:only-of-type {\n",
       "        vertical-align: middle;\n",
       "    }\n",
       "\n",
       "    .dataframe tbody tr th {\n",
       "        vertical-align: top;\n",
       "    }\n",
       "\n",
       "    .dataframe thead th {\n",
       "        text-align: right;\n",
       "    }\n",
       "</style>\n",
       "<table border=\"1\" class=\"dataframe\">\n",
       "  <thead>\n",
       "    <tr style=\"text-align: right;\">\n",
       "      <th></th>\n",
       "      <th>Date</th>\n",
       "      <th>ID</th>\n",
       "      <th>PM25FM</th>\n",
       "      <th>PM25cf1</th>\n",
       "      <th>TempC</th>\n",
       "      <th>RH</th>\n",
       "    </tr>\n",
       "  </thead>\n",
       "  <tbody>\n",
       "    <tr>\n",
       "      <th>0</th>\n",
       "      <td>2019-05-17</td>\n",
       "      <td>AK1</td>\n",
       "      <td>6.7</td>\n",
       "      <td>8.62</td>\n",
       "      <td>18.03</td>\n",
       "      <td>38.56</td>\n",
       "    </tr>\n",
       "    <tr>\n",
       "      <th>1</th>\n",
       "      <td>2019-05-18</td>\n",
       "      <td>AK1</td>\n",
       "      <td>3.8</td>\n",
       "      <td>3.49</td>\n",
       "      <td>16.12</td>\n",
       "      <td>49.40</td>\n",
       "    </tr>\n",
       "    <tr>\n",
       "      <th>2</th>\n",
       "      <td>2019-05-21</td>\n",
       "      <td>AK1</td>\n",
       "      <td>4.0</td>\n",
       "      <td>3.80</td>\n",
       "      <td>19.90</td>\n",
       "      <td>29.97</td>\n",
       "    </tr>\n",
       "    <tr>\n",
       "      <th>...</th>\n",
       "      <td>...</td>\n",
       "      <td>...</td>\n",
       "      <td>...</td>\n",
       "      <td>...</td>\n",
       "      <td>...</td>\n",
       "      <td>...</td>\n",
       "    </tr>\n",
       "    <tr>\n",
       "      <th>12427</th>\n",
       "      <td>2019-02-20</td>\n",
       "      <td>WI6</td>\n",
       "      <td>15.6</td>\n",
       "      <td>25.30</td>\n",
       "      <td>1.71</td>\n",
       "      <td>65.78</td>\n",
       "    </tr>\n",
       "    <tr>\n",
       "      <th>12428</th>\n",
       "      <td>2019-03-04</td>\n",
       "      <td>WI6</td>\n",
       "      <td>14.0</td>\n",
       "      <td>8.21</td>\n",
       "      <td>-14.38</td>\n",
       "      <td>48.21</td>\n",
       "    </tr>\n",
       "    <tr>\n",
       "      <th>12429</th>\n",
       "      <td>2019-03-22</td>\n",
       "      <td>WI6</td>\n",
       "      <td>5.8</td>\n",
       "      <td>9.44</td>\n",
       "      <td>5.08</td>\n",
       "      <td>52.20</td>\n",
       "    </tr>\n",
       "  </tbody>\n",
       "</table>\n",
       "<p>12430 rows × 6 columns</p>\n",
       "</div>"
      ],
      "text/plain": [
       "             Date   ID  PM25FM  PM25cf1  TempC     RH\n",
       "0      2019-05-17  AK1     6.7     8.62  18.03  38.56\n",
       "1      2019-05-18  AK1     3.8     3.49  16.12  49.40\n",
       "2      2019-05-21  AK1     4.0     3.80  19.90  29.97\n",
       "...           ...  ...     ...      ...    ...    ...\n",
       "12427  2019-02-20  WI6    15.6    25.30   1.71  65.78\n",
       "12428  2019-03-04  WI6    14.0     8.21 -14.38  48.21\n",
       "12429  2019-03-22  WI6     5.8     9.44   5.08  52.20\n",
       "\n",
       "[12430 rows x 6 columns]"
      ]
     },
     "execution_count": 36,
     "metadata": {},
     "output_type": "execute_result"
    }
   ],
   "source": [
    "# just display a few columns\n",
    "cols = [1, 2, 6, 8, 20, 21]\n",
    "final = (pd.read_csv('data/cleaned_purpleair_aqs/Full24hrdataset.csv')\n",
    "         .iloc[:, cols])\n",
    "final"
   ]
  },
  {
   "cell_type": "markdown",
   "metadata": {},
   "source": [
    "In the next section, we'll proceed to the final step of the analysis---constructing\n",
    "models that can produce a correction for PurpleAir sensor measurements."
   ]
  }
 ],
 "metadata": {
  "celltoolbar": "Tags",
  "kernelspec": {
   "display_name": "Python 3",
   "language": "python",
   "name": "python3"
  },
  "language_info": {
   "codemirror_mode": {
    "name": "ipython",
    "version": 3
   },
   "file_extension": ".py",
   "mimetype": "text/x-python",
   "name": "python",
   "nbconvert_exporter": "python",
   "pygments_lexer": "ipython3",
   "version": "3.9.4"
  },
  "toc-autonumbering": false,
  "toc-showcode": false,
  "toc-showmarkdowntxt": false,
  "toc-showtags": false
 },
 "nbformat": 4,
 "nbformat_minor": 4
}
