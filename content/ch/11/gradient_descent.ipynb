{
 "cells": [
  {
   "cell_type": "markdown",
   "metadata": {},
   "source": [
    "# Gradient Descent and Numerical Optimization\n",
    "\n",
    "In order to use a dataset for estimation and prediction, we need to precisely\n",
    "define our model and select a loss function. For example, in the tip percentage\n",
    "dataset, our model assumed that there was a single tip percentage that does not\n",
    "vary by table. Then, we decided to use the mean squared error loss function and\n",
    "found the model that minimized the loss function.\n",
    "\n",
    "We also found that there are simple expressions that minimize the MSE and the\n",
    "mean absolute error loss functions: the mean and the median. However, as our models\n",
    "and loss functions become more complicated we will no longer be able to find\n",
    "useful algebraic expressions for the models that minimize the loss. For\n",
    "example, the Huber loss has useful properties but is difficult to differentiate\n",
    "by hand.\n",
    "\n",
    "We can use the computer to address this issue using gradient descent, a\n",
    "computational method of minimizing loss functions.\n"
   ]
  }
 ],
 "metadata": {},
 "nbformat": 4,
 "nbformat_minor": 2
}
