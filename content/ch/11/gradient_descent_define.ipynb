{
 "cells": [
  {
   "cell_type": "code",
   "execution_count": 1,
   "metadata": {
    "tags": [
     "hide_input"
    ]
   },
   "outputs": [],
   "source": [
    "# HIDDEN\n",
    "import warnings\n",
    "# Ignore numpy dtype warnings. These warnings are caused by an interaction\n",
    "# between numpy and Cython and can be safely ignored.\n",
    "# Reference: https://stackoverflow.com/a/40846742\n",
    "warnings.filterwarnings(\"ignore\", message=\"numpy.dtype size changed\")\n",
    "warnings.filterwarnings(\"ignore\", message=\"numpy.ufunc size changed\")\n",
    "\n",
    "import numpy as np\n",
    "import matplotlib.pyplot as plt\n",
    "import pandas as pd\n",
    "import seaborn as sns\n",
    "%matplotlib inline\n",
    "import ipywidgets as widgets\n",
    "from ipywidgets import interact, interactive, fixed, interact_manual\n",
    "import nbinteract as nbi\n",
    "\n",
    "sns.set()\n",
    "sns.set_context('talk')\n",
    "np.set_printoptions(threshold=20, precision=2, suppress=True)\n",
    "pd.options.display.max_rows = 7\n",
    "pd.options.display.max_columns = 8\n",
    "pd.set_option('precision', 2)\n",
    "# This option stops scientific notation for pandas\n",
    "# pd.set_option('display.float_format', '{:.2f}'.format)"
   ]
  },
  {
   "cell_type": "code",
   "execution_count": 2,
   "metadata": {
    "ExecuteTime": {
     "end_time": "2018-07-01T02:28:39.341580Z",
     "start_time": "2018-07-01T02:28:39.325588Z"
    },
    "tags": [
     "hide_input"
    ]
   },
   "outputs": [],
   "source": [
    "# HIDDEN\n",
    "tips = sns.load_dataset('tips')\n",
    "tips['pcttip'] = tips['tip'] / tips['total_bill'] * 100"
   ]
  },
  {
   "cell_type": "code",
   "execution_count": 3,
   "metadata": {
    "ExecuteTime": {
     "end_time": "2018-07-01T02:28:39.353362Z",
     "start_time": "2018-07-01T02:28:39.345386Z"
    },
    "tags": [
     "hide_input"
    ]
   },
   "outputs": [],
   "source": [
    "# HIDDEN\n",
    "def mse(theta, y_vals):\n",
    "    return np.mean((y_vals - theta) ** 2)\n",
    "\n",
    "def grad_mse(theta, y_vals):\n",
    "    return -2 * np.mean(y_vals - theta)\n",
    "\n",
    "def plot_loss(y_vals, xlim, loss_fn):\n",
    "    thetas = np.arange(xlim[0], xlim[1] + 0.01, 0.05)\n",
    "    losses = [loss_fn(theta, y_vals) for theta in thetas]\n",
    "    \n",
    "    plt.figure(figsize=(5, 3))\n",
    "    plt.plot(thetas, losses, zorder=1)\n",
    "    plt.xlim(*xlim)\n",
    "    plt.title(loss_fn.__name__)\n",
    "    plt.xlabel(r'$ \\theta $')\n",
    "    plt.ylabel('Loss')\n",
    "    \n",
    "def plot_theta_on_loss(y_vals, theta, loss_fn, **kwargs):\n",
    "    loss = loss_fn(theta, y_vals)\n",
    "    default_args = dict(label=r'$ \\theta $', zorder=2,\n",
    "                        s=200, c=sns.xkcd_rgb['green'])\n",
    "    plt.scatter([theta], [loss], **{**default_args, **kwargs})\n",
    "\n",
    "def plot_tangent_on_loss(y_vals, theta, loss_fn, eps=1e-6):\n",
    "    slope = ((loss_fn(theta + eps, y_vals) - loss_fn(theta - eps, y_vals))\n",
    "             / (2 * eps))\n",
    "    xs = np.arange(theta - 1, theta + 1, 0.05)\n",
    "    ys = loss_fn(theta, y_vals) + slope * (xs - theta)\n",
    "    plt.plot(xs, ys, zorder=3, c=sns.xkcd_rgb['green'], linestyle='--')"
   ]
  },
  {
   "cell_type": "markdown",
   "metadata": {},
   "source": [
    "## Gradient Descent\n",
    "\n",
    "We are interested in creating a function that can minimize a loss function without forcing the user to predetermine which values of $\\theta$ to try. In other words, while the `simple_minimize` function has the following signature:\n",
    "\n",
    "```python\n",
    "simple_minimize(loss_fn, dataset, thetas)\n",
    "```\n",
    "\n",
    "We would like a function that has the following signature:\n",
    "\n",
    "```python\n",
    "minimize(loss_fn, dataset)\n",
    "```\n",
    "\n",
    "This function needs to automatically find the minimizing $\\theta$ value no matter how small or large it is. We will use a technique called gradient descent to implement this new `minimize` function."
   ]
  },
  {
   "cell_type": "markdown",
   "metadata": {},
   "source": [
    "### Intuition\n",
    "\n",
    "As with loss functions, we will discuss the intuition for gradient descent first, then formalize our understanding with mathematics.\n",
    "\n",
    "Since the `minimize` function is not given values of $\\theta$ to try, we start by picking a $\\theta$ anywhere we'd like. Then, we can iteratively improve the estimate of $\\theta$. To improve an estimate of $\\theta$, we look at the slope of the loss function at that choice of $ \\theta $.\n",
    "\n",
    "For example, suppose we are using MSE for the simple dataset $ \\textbf{y} = [ 12.1, 12.8, 14.9, 16.3, 17.2 ] $ and our current choice of $ \\theta $ is 12."
   ]
  },
  {
   "cell_type": "code",
   "execution_count": 4,
   "metadata": {
    "ExecuteTime": {
     "end_time": "2018-07-01T02:28:39.675276Z",
     "start_time": "2018-07-01T02:28:39.356044Z"
    },
    "tags": [
     "hide_input"
    ]
   },
   "outputs": [
    {
     "data": {
      "image/png": "[encoded data removed]",
      "text/plain": [
       "<Figure size 360x216 with 1 Axes>"
      ]
     },
     "metadata": {},
     "output_type": "display_data"
    }
   ],
   "source": [
    "# HIDDEN\n",
    "pts = np.array([12.1, 12.8, 14.9, 16.3, 17.2])\n",
    "plot_loss(pts, (11, 18), mse)\n",
    "plot_theta_on_loss(pts, 12, mse)"
   ]
  },
  {
   "cell_type": "markdown",
   "metadata": {},
   "source": [
    "We'd like to choose a new value for $\\theta$ that decreases the loss. To do this, we look at the slope of the loss function at $\\theta= 12 $:"
   ]
  },
  {
   "cell_type": "code",
   "execution_count": 5,
   "metadata": {
    "ExecuteTime": {
     "end_time": "2018-07-01T02:28:39.842735Z",
     "start_time": "2018-07-01T02:28:39.677286Z"
    },
    "tags": [
     "hide_input"
    ]
   },
   "outputs": [
    {
     "data": {
      "image/png": "[encoded data removed]",
      "text/plain": [
       "<Figure size 360x216 with 1 Axes>"
      ]
     },
     "metadata": {},
     "output_type": "display_data"
    }
   ],
   "source": [
    "# HIDDEN\n",
    "pts = np.array([12.1, 12.8, 14.9, 16.3, 17.2])\n",
    "plot_loss(pts, (11, 18), mse)\n",
    "plot_tangent_on_loss(pts, 12, mse)"
   ]
  },
  {
   "cell_type": "markdown",
   "metadata": {},
   "source": [
    "The slope is negative, which means that increasing $\\theta$ will decrease the loss.\n",
    "\n",
    "If $\\theta = 16.5 $ on the other hand, the slope of the loss function is positive:"
   ]
  },
  {
   "cell_type": "code",
   "execution_count": 6,
   "metadata": {
    "ExecuteTime": {
     "end_time": "2018-07-01T02:28:39.992805Z",
     "start_time": "2018-07-01T02:28:39.844970Z"
    },
    "tags": [
     "hide_input"
    ]
   },
   "outputs": [
    {
     "data": {
      "image/png": "[encoded data removed]",
      "text/plain": [
       "<Figure size 360x216 with 1 Axes>"
      ]
     },
     "metadata": {},
     "output_type": "display_data"
    }
   ],
   "source": [
    "# HIDDEN\n",
    "pts = np.array([12.1, 12.8, 14.9, 16.3, 17.2])\n",
    "plot_loss(pts, (11, 18), mse)\n",
    "plot_tangent_on_loss(pts, 16.5, mse)"
   ]
  },
  {
   "cell_type": "markdown",
   "metadata": {},
   "source": [
    "When the slope is positive, decreasing $ \\theta $ will decrease the loss.\n",
    "\n",
    "The slope of the tangent line tells us which direction to move $ \\theta $ in order to decrease the loss. If the slope is negative, we want $ \\theta $ to move in the positive direction. If the slope is positive, $\\theta $ should move in the negative direction. Mathematically, we write:\n",
    "\n",
    "$$\n",
    "\\theta^{(t+1)} = \\theta^{(t)} - \\frac{\\partial}{\\partial \\theta} L(\\theta^{(t)}, \\textbf{y})\n",
    "$$\n",
    "\n",
    "Where $ \\theta^{(t)} $ is the current estimate and $ \\theta^{(t+1)} $ is the next estimate.\n",
    "\n",
    "For the MSE, we have:\n",
    "\n",
    "$$\n",
    "\\begin{aligned}\n",
    "L(\\theta, \\textbf{y})\n",
    "&= \\frac{1}{n} \\sum_{i = 1}^{n}(y_i - \\theta)^2\\\\\n",
    "\\frac{\\partial}{\\partial \\hat{\\theta}} L(\\theta, \\textbf{y})\n",
    "&= \\frac{1}{n} \\sum_{i = 1}^{n} -2(y_i - \\theta) \\\\\n",
    "&= -\\frac{2}{n} \\sum_{i = 1}^{n} (y_i - \\theta) \\\\\n",
    "\\end{aligned}\n",
    "$$\n",
    "\n",
    "When $ \\theta^{(t)} = 12 $, we can compute $ -\\frac{2}{n} \\sum_{i = 1}^{n} (y_i - \\theta) = -5.32 $. Thus, $ \\theta^{(t+1)} = 12 - (-5.32) = 17.32 $.\n",
    "\n",
    "We've plotted the old value of $ \\theta $ as a green outlined circle and the new value as a filled in circle on the loss curve below."
   ]
  },
  {
   "cell_type": "code",
   "execution_count": 7,
   "metadata": {
    "ExecuteTime": {
     "end_time": "2018-07-01T02:28:40.176902Z",
     "start_time": "2018-07-01T02:28:39.995361Z"
    },
    "tags": [
     "hide_input"
    ]
   },
   "outputs": [
    {
     "data": {
      "image/png": "[encoded data removed]",
      "text/plain": [
       "<Figure size 360x216 with 1 Axes>"
      ]
     },
     "metadata": {},
     "output_type": "display_data"
    }
   ],
   "source": [
    "# HIDDEN\n",
    "pts = np.array([12.1, 12.8, 14.9, 16.3, 17.2])\n",
    "plot_loss(pts, (11, 18), mse)\n",
    "plot_theta_on_loss(pts, 12, mse, c='none',\n",
    "                   edgecolor=sns.xkcd_rgb['green'], linewidth=2)\n",
    "plot_theta_on_loss(pts, 17.32, mse)"
   ]
  },
  {
   "cell_type": "markdown",
   "metadata": {},
   "source": [
    "Although $ \\theta $ went in the right direction, it ended up as far away from the minimum as it started. We can remedy this by multiplying the slope by a small constant before subtracting it from $ \\theta$. Our final update formula is:\n",
    "\n",
    "$$\n",
    "\\theta^{(t+1)} = \\theta^{(t)} - \\alpha \\cdot \\frac{\\partial}{\\partial \\theta} L(\\theta^{(t)}, \\textbf{y})\n",
    "$$\n",
    "\n",
    "where $ \\alpha $ is a small constant. For example, if we set $ \\alpha = 0.3 $, this is the new $ \\theta^{(t+1)} $:"
   ]
  },
  {
   "cell_type": "code",
   "execution_count": 8,
   "metadata": {
    "ExecuteTime": {
     "end_time": "2018-07-01T02:28:40.183218Z",
     "start_time": "2018-07-01T02:28:40.179165Z"
    },
    "tags": [
     "hide_input"
    ]
   },
   "outputs": [],
   "source": [
    "# HIDDEN\n",
    "def plot_one_gd_iter(y_vals, theta, loss_fn, grad_loss, alpha=0.3):\n",
    "    new_theta = theta - alpha * grad_loss(theta, y_vals)\n",
    "    plot_loss(pts, (11, 18), loss_fn)\n",
    "    plot_theta_on_loss(pts, theta, loss_fn, c='none',\n",
    "                       edgecolor=sns.xkcd_rgb['green'], linewidth=2)\n",
    "    plot_theta_on_loss(pts, new_theta, loss_fn)\n",
    "    print(f'old theta: {theta}')\n",
    "    print(f'new theta: {new_theta}')"
   ]
  },
  {
   "cell_type": "code",
   "execution_count": 9,
   "metadata": {
    "ExecuteTime": {
     "end_time": "2018-07-01T02:28:40.357223Z",
     "start_time": "2018-07-01T02:28:40.187179Z"
    },
    "tags": [
     "hide_input"
    ]
   },
   "outputs": [
    {
     "name": "stdout",
     "output_type": "stream",
     "text": [
      "old theta: 12\n",
      "new theta: 13.596\n"
     ]
    },
    {
     "data": {
      "image/png": "[encoded data removed]",
      "text/plain": [
       "<Figure size 360x216 with 1 Axes>"
      ]
     },
     "metadata": {},
     "output_type": "display_data"
    }
   ],
   "source": [
    "# HIDDEN\n",
    "plot_one_gd_iter(pts, 12, mse, grad_mse)"
   ]
  },
  {
   "cell_type": "markdown",
   "metadata": {},
   "source": [
    "Here are the $ \\theta $ values for successive iterations of this process. Notice that $ \\theta $ changes more slowly as it gets closer to the minimum loss because the slope is also smaller."
   ]
  },
  {
   "cell_type": "code",
   "execution_count": 10,
   "metadata": {
    "ExecuteTime": {
     "end_time": "2018-07-01T02:28:40.513635Z",
     "start_time": "2018-07-01T02:28:40.359270Z"
    },
    "tags": [
     "hide_input"
    ]
   },
   "outputs": [
    {
     "name": "stdout",
     "output_type": "stream",
     "text": [
      "old theta: 13.6\n",
      "new theta: 14.236\n"
     ]
    },
    {
     "data": {
      "image/png": "[encoded data removed]",
      "text/plain": [
       "<Figure size 360x216 with 1 Axes>"
      ]
     },
     "metadata": {},
     "output_type": "display_data"
    }
   ],
   "source": [
    "# HIDDEN\n",
    "plot_one_gd_iter(pts, 13.60, mse, grad_mse)"
   ]
  },
  {
   "cell_type": "code",
   "execution_count": 11,
   "metadata": {
    "ExecuteTime": {
     "end_time": "2018-07-01T02:28:40.705208Z",
     "start_time": "2018-07-01T02:28:40.515870Z"
    },
    "tags": [
     "hide_input"
    ]
   },
   "outputs": [
    {
     "name": "stdout",
     "output_type": "stream",
     "text": [
      "old theta: 14.24\n",
      "new theta: 14.492\n"
     ]
    },
    {
     "data": {
      "image/png": "[encoded data removed]",
      "text/plain": [
       "<Figure size 360x216 with 1 Axes>"
      ]
     },
     "metadata": {},
     "output_type": "display_data"
    }
   ],
   "source": [
    "# HIDDEN\n",
    "plot_one_gd_iter(pts, 14.24, mse, grad_mse)"
   ]
  },
  {
   "cell_type": "code",
   "execution_count": 12,
   "metadata": {
    "ExecuteTime": {
     "end_time": "2018-07-01T02:28:40.862293Z",
     "start_time": "2018-07-01T02:28:40.707500Z"
    },
    "tags": [
     "hide_input"
    ]
   },
   "outputs": [
    {
     "name": "stdout",
     "output_type": "stream",
     "text": [
      "old theta: 14.49\n",
      "new theta: 14.592\n"
     ]
    },
    {
     "data": {
      "image/png": "[encoded data removed]",
      "text/plain": [
       "<Figure size 360x216 with 1 Axes>"
      ]
     },
     "metadata": {},
     "output_type": "display_data"
    }
   ],
   "source": [
    "# HIDDEN\n",
    "plot_one_gd_iter(pts, 14.49, mse, grad_mse)"
   ]
  },
  {
   "cell_type": "markdown",
   "metadata": {},
   "source": [
    "### Gradient Descent Analysis\n",
    "\n",
    "We now have the full algorithm for gradient descent:\n",
    "\n",
    "1. Choose a starting value of $ \\theta $ (0 is a common choice).\n",
    "2. Compute $ \\theta - \\alpha \\cdot \\frac{\\partial}{\\partial \\theta} L(\\theta, \\textbf{y}) $ and store this as the new value of $ \\theta $.\n",
    "3. Repeat until $ \\theta $ doesn't change between iterations.\n",
    "\n",
    "You will more commonly see the gradient $ \\nabla_\\theta $ in place of the partial derivative $ \\frac{\\partial}{\\partial \\theta} $. The two notations are essentially equivalent, but since the gradient notation is more common we will use it in the gradient update formula from now on:\n",
    "\n",
    "$$\n",
    "\\theta^{(t+1)} = \\theta^{(t)} - \\alpha \\cdot \\nabla_\\theta L(\\theta^{(t)}, \\textbf{y})\n",
    "$$\n",
    "\n",
    "To review notation:\n",
    "\n",
    "- $ \\theta^{(t)} $ is the current estimate of $ \\theta^* $ at the $t$th iteration.\n",
    "- $ \\theta^{(t+1)} $ is the next choice of $ \\theta $.\n",
    "- $ \\alpha $ is called the learning rate, usually set to a small constant. Sometimes it is useful to start with a larger $ \\alpha $ and decrease it over time. If $ \\alpha $ changes between iterations, we use the variable $ \\alpha^t $ to mark that $ \\alpha $ varies over time $ t $.\n",
    "- $ \\nabla_\\theta L(\\theta^{(t)}, \\textbf{y}) $ is the partial derivative / gradient of the loss function with respect to $ \\theta $ at time $t$.\n",
    "\n",
    "You can now see the importance of choosing a differentiable loss function: $ \\nabla_\\theta L(\\theta, \\textbf{y}) $ is a crucial part of the gradient descent algorithm. (While it is possible to estimate the gradient by computing the difference in loss for two slightly different values of $ \\theta $ and dividing by the distance between $ \\theta $ values, this typically increases the runtime of gradient descent so significantly that it becomes impractical to use.)\n",
    "\n",
    "The gradient algorithm is simple yet powerful since we can use it for many types of models and many types of loss functions. It is the computational tool of choice for fitting many important models, including linear regression on large datasets and neural networks."
   ]
  },
  {
   "cell_type": "markdown",
   "metadata": {},
   "source": [
    "### Defining the `minimize` Function\n",
    "\n",
    "Now we return to our original task: defining the `minimize` function. We will have to change our function signature slightly since we now need to compute the gradient of the loss function. "
   ]
  },
  {
   "cell_type": "code",
   "execution_count": 13,
   "metadata": {
    "ExecuteTime": {
     "end_time": "2018-07-01T02:28:40.869020Z",
     "start_time": "2018-07-01T02:28:40.864546Z"
    }
   },
   "outputs": [],
   "source": [
    "def minimize(loss_fn, grad_loss_fn, dataset, alpha=0.2, progress=True):\n",
    "    '''\n",
    "    Uses gradient descent to minimize loss_fn. Returns the minimizing value of\n",
    "    theta_hat once theta_hat changes less than 0.001 between iterations.\n",
    "    '''\n",
    "    theta = 0\n",
    "    while True:\n",
    "        if progress:\n",
    "            print(f'theta: {theta:.2f} | loss: {loss_fn(theta, dataset):.2f}')\n",
    "        gradient = grad_loss_fn(theta, dataset)\n",
    "        new_theta = theta - alpha * gradient\n",
    "        \n",
    "        if abs(new_theta - theta) < 0.001:\n",
    "            return new_theta\n",
    "        \n",
    "        theta = new_theta"
   ]
  },
  {
   "cell_type": "markdown",
   "metadata": {},
   "source": [
    "Then we can define functions to compute our MSE and its gradient:"
   ]
  },
  {
   "cell_type": "code",
   "execution_count": 14,
   "metadata": {
    "ExecuteTime": {
     "end_time": "2018-07-01T02:28:40.877459Z",
     "start_time": "2018-07-01T02:28:40.871531Z"
    }
   },
   "outputs": [],
   "source": [
    "def mse(theta, y_vals):\n",
    "    return np.mean((y_vals - theta) ** 2)\n",
    "\n",
    "def grad_mse(theta, y_vals):\n",
    "    return -2 * np.mean(y_vals - theta)"
   ]
  },
  {
   "cell_type": "markdown",
   "metadata": {},
   "source": [
    "Finally, we can use the `minimize` function to compute the minimizing value of $ \\theta $ for $ \\textbf{y} = [12.1, 12.8, 14.9, 16.3, 17.2] $."
   ]
  },
  {
   "cell_type": "code",
   "execution_count": 15,
   "metadata": {
    "ExecuteTime": {
     "end_time": "2018-07-01T02:28:40.892127Z",
     "start_time": "2018-07-01T02:28:40.879929Z"
    }
   },
   "outputs": [
    {
     "name": "stdout",
     "output_type": "stream",
     "text": [
      "theta: 0.00 | loss: 218.76\n",
      "theta: 5.86 | loss: 81.21\n",
      "theta: 9.38 | loss: 31.70\n",
      "theta: 11.49 | loss: 13.87\n",
      "theta: 12.76 | loss: 7.45\n",
      "theta: 13.52 | loss: 5.14\n",
      "theta: 13.98 | loss: 4.31\n",
      "theta: 14.25 | loss: 4.01\n",
      "theta: 14.41 | loss: 3.90\n",
      "theta: 14.51 | loss: 3.86\n",
      "theta: 14.57 | loss: 3.85\n",
      "theta: 14.61 | loss: 3.85\n",
      "theta: 14.63 | loss: 3.84\n",
      "theta: 14.64 | loss: 3.84\n",
      "theta: 14.65 | loss: 3.84\n",
      "theta: 14.65 | loss: 3.84\n",
      "theta: 14.66 | loss: 3.84\n",
      "theta: 14.66 | loss: 3.84\n",
      "Minimizing theta: 14.658511131035242\n",
      "\n",
      "CPU times: user 7.88 ms, sys: 3.58 ms, total: 11.5 ms\n",
      "Wall time: 8.54 ms\n"
     ]
    }
   ],
   "source": [
    "%%time\n",
    "theta = minimize(mse, grad_mse, np.array([12.1, 12.8, 14.9, 16.3, 17.2]))\n",
    "print(f'Minimizing theta: {theta}')\n",
    "print()"
   ]
  },
  {
   "cell_type": "markdown",
   "metadata": {},
   "source": [
    "We can see that gradient descent quickly finds the same solution as the analytic method:"
   ]
  },
  {
   "cell_type": "code",
   "execution_count": 16,
   "metadata": {
    "ExecuteTime": {
     "end_time": "2018-07-01T02:28:40.902365Z",
     "start_time": "2018-07-01T02:28:40.895179Z"
    }
   },
   "outputs": [
    {
     "data": {
      "text/plain": [
       "14.66"
      ]
     },
     "execution_count": 16,
     "metadata": {},
     "output_type": "execute_result"
    }
   ],
   "source": [
    "np.mean([12.1, 12.8, 14.9, 16.3, 17.2])"
   ]
  },
  {
   "cell_type": "markdown",
   "metadata": {},
   "source": [
    "### Minimizing the Huber loss\n",
    "\n",
    "Now, we can apply gradient descent to minimize the Huber loss on our dataset of tip percentages.\n",
    "\n",
    "The Huber loss is:\n",
    "\n",
    "$$\n",
    "L_\\delta(\\theta, \\textbf{y}) = \\frac{1}{n} \\sum_{i=1}^n \\begin{cases}\n",
    "    \\frac{1}{2}(y_i - \\theta)^2 &  | y_i - \\theta | \\le \\delta \\\\\n",
    "     \\delta (|y_i - \\theta| - \\frac{1}{2} \\delta ) & \\text{otherwise}\n",
    "\\end{cases}\n",
    "$$\n",
    "\n",
    "The gradient of the Huber loss is:\n",
    "\n",
    "$$\n",
    "\\nabla_{\\theta} L_\\delta(\\theta, \\textbf{y}) = \\frac{1}{n} \\sum_{i=1}^n \\begin{cases}\n",
    "    -(y_i - \\theta) &  | y_i - \\theta | \\le \\delta \\\\\n",
    "    - \\delta \\cdot \\text{sign} (y_i - \\theta) & \\text{otherwise}\n",
    "\\end{cases}\n",
    "$$\n",
    "\n",
    "(Note that in previous definitions of Huber loss we used the variable $ \\alpha $ to denote the transition point. To avoid confusion with the $ \\alpha $ used in gradient descent, we replace the transition point parameter of the Huber loss with $ \\delta $.)"
   ]
  },
  {
   "cell_type": "code",
   "execution_count": 17,
   "metadata": {
    "ExecuteTime": {
     "end_time": "2018-07-01T02:28:40.909807Z",
     "start_time": "2018-07-01T02:28:40.905060Z"
    }
   },
   "outputs": [],
   "source": [
    "def huber_loss(theta, dataset, delta = 1):\n",
    "    d = np.abs(theta - dataset)\n",
    "    return np.mean(\n",
    "        np.where(d <= delta,\n",
    "                 (theta - dataset)**2 / 2.0,\n",
    "                 delta * (d - delta / 2.0))\n",
    "    )\n",
    "\n",
    "def grad_huber_loss(theta, dataset, delta = 1):\n",
    "    d = np.abs(theta - dataset)\n",
    "    return np.mean(\n",
    "        np.where(d <= delta,\n",
    "                 -(dataset - theta),\n",
    "                 -delta * np.sign(dataset - theta))\n",
    "    )"
   ]
  },
  {
   "cell_type": "markdown",
   "metadata": {},
   "source": [
    "Let's minimize the Huber loss on the tips dataset:"
   ]
  },
  {
   "cell_type": "code",
   "execution_count": 18,
   "metadata": {
    "ExecuteTime": {
     "end_time": "2018-07-01T02:28:41.054144Z",
     "start_time": "2018-07-01T02:28:40.912188Z"
    }
   },
   "outputs": [
    {
     "name": "stdout",
     "output_type": "stream",
     "text": [
      "Minimizing theta: 15.506849531471964\n",
      "\n",
      "CPU times: user 194 ms, sys: 4.13 ms, total: 198 ms\n",
      "Wall time: 208 ms\n"
     ]
    }
   ],
   "source": [
    "%%time\n",
    "theta = minimize(huber_loss, grad_huber_loss, tips['pcttip'], progress=False)\n",
    "print(f'Minimizing theta: {theta}')\n",
    "print()"
   ]
  },
  {
   "cell_type": "markdown",
   "metadata": {},
   "source": [
    "### Summary\n",
    "\n",
    "Gradient descent gives us a generic way to minimize a loss function when we cannot solve for the minimizing value of $ \\theta $ analytically. As our models and loss functions increase in complexity, we will turn to gradient descent as our tool of choice to fit models."
   ]
  }
 ],
 "metadata": {
  "kernelspec": {
   "display_name": "Python 3",
   "language": "python",
   "name": "python3"
  },
  "language_info": {
   "codemirror_mode": {
    "name": "ipython",
    "version": 3
   },
   "file_extension": ".py",
   "mimetype": "text/x-python",
   "name": "python",
   "nbconvert_exporter": "python",
   "pygments_lexer": "ipython3",
   "version": "3.6.5"
  },
  "toc": {
   "nav_menu": {},
   "number_sections": false,
   "sideBar": true,
   "skip_h1_title": false,
   "title_cell": "Table of Contents",
   "title_sidebar": "Contents",
   "toc_cell": true,
   "toc_position": {},
   "toc_section_display": true,
   "toc_window_display": true
  }
 },
 "nbformat": 4,
 "nbformat_minor": 2
}
