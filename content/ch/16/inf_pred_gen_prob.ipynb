{
 "cells": [
  {
   "cell_type": "code",
   "execution_count": 4,
   "metadata": {
    "tags": [
     "remove-cell"
    ]
   },
   "outputs": [],
   "source": [
    "# Reference: https://jupyterbook.org/interactive/hiding.html\n",
    "# Use {hide, remove}-{input, output, cell} tags to hiding content\n",
    "\n",
    "import sys\n",
    "import os\n",
    "if not any(path.endswith('textbook') for path in sys.path):\n",
    "    sys.path.append(os.path.abspath('../../..'))\n",
    "from textbook_utils import *"
   ]
  },
  {
   "cell_type": "markdown",
   "metadata": {},
   "source": [
    "(sec:theory_probIntro)=\n",
    "# Probability, Inference, and Prediction\n",
    "\n",
    "Hypothesis testing, confidence intervals, and prediction intervals rely on probability calculations computed from the sampling distribution and the data generation process. These probability frameworks also enable us to run simulation and bootstrap studies for a hypothetical survey, an experiment, or some other chance process in order to study its random behavior. For example, we found the sampling distribution for an average of ranks under the assumption that the treatment in a Wikipedia experiment was not effective. Using simulation, we quantified the typical deviations from the expected outcome and the distribution of the possible values for the summary statistic. The triptych in {numref}`Figure 1 %s <triptych>` provided a diagram to guide us in the process; it helped keep straight the differences between the population, probability, and sample and also showed their connections. In this section, we bring more mathematical rigor to these concepts. "
   ]
  },
  {
   "cell_type": "markdown",
   "metadata": {},
   "source": [
    "We formally introduce the notions of expected value, standard deviation, and random variable. We begin with the Wikipedia example to describe these notions, before generalizing them. Along the way, we connect this formalism to the triptych that we have used as our guide throughout the chapter, but this time we create a triptych that represents the distributions for this particular example (see {numref}`Figure %s <triptychRank>`). "
   ]
  },
  {
   "cell_type": "markdown",
   "metadata": {},
   "source": [
    "```{figure} TriptychRank.png\n",
    "---\n",
    "name: triptychRank\n",
    "---\n",
    "\n",
    "This diagram shows the population, sampling, and sample distributions and their summaries from the Wikipedia example. In this example, the population is known to consist of the integers from 1 to 200, and the sample are the ranks of the observed post-productivity measurements for the treatment group. In the middle, the sampling distribution of the average rank is created from a simulation study. Notice it is normal in shape with a center that matches the population average. \n",
    "```"
   ]
  },
  {
   "cell_type": "markdown",
   "metadata": {},
   "source": [
    "## Formalizing the theory for average rank statistics\n",
    "\n",
    "Recall in the Wikipedia example, we pooled the post-award productivity values from the treatment and control groups and converted them into ranks, $1, 2, 3, \\ldots, 200$ so the population is simply made up of the integers from $1$ to $200$. This means the population distribution is flat as it ranges from $1$ to $200$ (see leftside of {numref}`Figure %s <triptychRank>`). In this example, the population summary (also called *population parameter*) we used was the average rank:\n",
    "\n",
    "$$\\theta^* ~=~ Avg(pop) ~=~  \\frac{1}{200} \\Sigma_{k=1}^{200} k ~=~ 100.5. $$\n",
    "\n",
    "Another relevant summary is the spread about $\\theta^*$, defined as:\n",
    "\n",
    "$$ SD(pop) ~=~ \\sqrt{\\frac {1}{200} \\Sigma_{k=1}^{200} (k - \\theta^*)^2} ~=~  \n",
    "\\sqrt{\\frac {1}{200} \\Sigma_{k=1}^{200} (k - 100.5)^2}\n",
    "~\\approx~ 57.7 $$\n",
    "\n",
    "The SD(pop), which is short for the *population standard deviation*, represents the typical deviation of a rank from the population average.   To calculate SD(pop) for this example takes some mathematical handiwork. If you want to learn more see Pitman. "
   ]
  },
  {
   "cell_type": "markdown",
   "metadata": {},
   "source": [
    "The observed sample consists of the integer ranks of the treatment group; we refer to these values as $k_1, k_2, \\ldots, k_{100}$. The sample distribution appears on the right in {numref}`Figure %s <triptychRank>` (each of the 100 integers appears once). \n",
    "\n",
    "A parallel to the population average is the sample average, which was our statistic of interest:\n",
    "\n",
    "$$ Avg(sample) ~=~  \\frac{1}{100} \\Sigma_{i=1}^{100} k_i ~=~ \\bar{k} ~=~113.7. $$\n",
    "\n",
    "The $Avg(sample)$ is the observed value for $\\hat{\\theta}$. Similarly, the spread about $Avg(sample)$, called the standard deviation of the sample represents the typical deviation of a rank in the sample from the sample average:\n",
    "\n",
    "$$ SD(sample) ~=~ \\sqrt{\\frac {1}{100} \\Sigma_{i=1}^{100} (k_i - \\bar{k})^2} ~=~ 55.3.$$\n",
    "\n",
    "We have uncovered a direct parellel between the sample statistic and the population parameter in the case where they are averages. The parallel with the two SDs is also note worthy.  "
   ]
  },
  {
   "cell_type": "markdown",
   "metadata": {},
   "source": [
    "Next we turn to the data generation process itself: draw 100 marbles from the urn (with values $1, 2,\\ldots,200$), without replacement, to create the treatment ranks.  We represent the action of drawing the first marble from the urn and the integer that we get, by the capital letter $Z_1$. This $Z_1$ is called a *random variable*. It has a probability distribution determined by the urn model. That is, we can list all of the values that $Z_1$ might take and the probability associated with each:\n",
    "\n",
    "$${\\mathbb{P}}(Z_1 = k) ~=~ \\frac{1}{200} ~~~~\\textrm{for }k=1, \\ldots, 200.$$\n",
    "\n",
    "In this example, the probability distribution of $Z_1$ is determined by a simple formula because all of the integers are equally likely to be drawn from the urn. ({numref}`Chapter %s <ch:theorydesign>` first introduces the notion of a probability distribution).  "
   ]
  },
  {
   "cell_type": "markdown",
   "metadata": {},
   "source": [
    "We often summarize the distribution of a random variable by its *expected value* and *standard deviation*. Like with the population and sample, these two quantities give us a sense of what to expect as an outcome and how far the actual value might be from what is expected. "
   ]
  },
  {
   "cell_type": "markdown",
   "metadata": {},
   "source": [
    "For our example, the expected value of $Z_1$ is simply, \n",
    "\n",
    "$$\n",
    "\\begin{aligned}\n",
    "\\mathbb{E}[Z_1]\n",
    "&= 1 \\mathbb{P}(Z_1 = 1) + 2 \\mathbb{P}(Z_1 = 2) +  \\cdots + 200 \\mathbb{P}(Z_1 = 200) \\\\\n",
    "&= 1 \\times \\frac{1}{200} + 2 \\times \\frac{1}{200} + \\cdots + 200 \\times \\frac{1}{200} \\\\\n",
    "&= 100.5\n",
    "\\end{aligned}\n",
    "$$\n",
    "\n",
    "Notice that $\\mathbb{E}[Z_1] = \\theta^*$, the population average from the urn. The average value in a population and the expected value of a random variable that represents one draw from an urn containing the population are always the same. This is more easily seen by expressing the population average as a weighted average of the unique values in the population weighted by the fraction of units that have that value. The expected value of a random variable of a draw at random from the population urn uses the exact same weights because they match the chance of selecting the particular value. "
   ]
  },
  {
   "cell_type": "markdown",
   "metadata": {},
   "source": [
    ":::{note}\n",
    "\n",
    "The term *expected value* can be a bit confusing because it need not be a possible value of the random variable. For example, $\\mathbb{E}[Z_1] = 100.5$, but only integers are possible values for $Z_1$. \n",
    "\n",
    ":::"
   ]
  },
  {
   "cell_type": "markdown",
   "metadata": {},
   "source": [
    "Next, the variance of $Z_1$ is \n",
    "\n",
    "$$\n",
    "\\begin{aligned}\n",
    "\\mathbb{V}(Z_1)\n",
    "&= (1 - \\mathbb{E}[Z_1)]^2 \\mathbb{P}(Z_1 = 1) + \\cdots + [200 - \\mathbb{E}(Z_1)]^2  \\mathbb{P}(Z_1 = 200) \\\\\n",
    "&= (1 - 100.5)^2 \\times \\frac{1}{200} + \\cdots + (200 - 100.5)^2  \\times \\frac{1}{200} \\\\\n",
    "&= 3333.25\n",
    "\\end{aligned}\n",
    "$$\n",
    "\n",
    "The $SD(Z_1) = \\sqrt{3333.25} = 57.7$. We again point out that the standard deviation of $Z_1 $ matches the $SD(pop)$."
   ]
  },
  {
   "cell_type": "markdown",
   "metadata": {},
   "source": [
    "To describe the entire data generation process in the triptych, we also define, $Z_2 , Z_3, \\ldots, Z_{100}$ as the result of the remaining 99 draws from the urn. By symmetry these random variables should all have the same probability distribution. That is,\n",
    "\n",
    "$$\\mathbb{P}(Z_1 = 17) ~=~ \\mathbb{P}(Z_2 = 17) ~=~ \\cdots ~=~ \\mathbb{P}(Z_{100} = 17) ~=~ \\frac{1}{200}.$$\n",
    "\n",
    "This implies that each $Z_i$ has the same expected value, 100.5, and standard deviation, 57.7.  However, these random variables are not independent. For example, if you know that $Z_1 = 17$, then it is not possible for $Z_2 = 17$. More on this later. "
   ]
  },
  {
   "cell_type": "markdown",
   "metadata": {},
   "source": [
    "To complete the middle portion of triptych, which involves $\\hat{\\theta}$ and its sampling distribution,we describe the average rank statistic as follows:\n",
    "\n",
    "$$\\hat{\\theta} = \\frac{1}{100} \\Sigma_{i=1}^{100} Z_i$$\n",
    "\n",
    "Our simulation study showed us that the sampling distribution for $\\hat{\\theta}$ looks normal in shape. We can use the expected value and SD of $Z_1$ and our knowledge of the data generation process to find the expected value and SD of $\\hat{\\theta}$. However, we need some more information about how combinations of random variables behave so we present the results and then circle back to explain why.\n",
    "\n",
    "$$\n",
    "\\begin{align}\n",
    "\\mathbb{E}(\\hat{\\theta}) ~&=~ \\mathbb{E}[\\frac{1}{100} \\Sigma_{i=1}^{100} Z_i]\\\\\n",
    "~&=~ \\frac{1}{100} \\Sigma_{i=1}^{100} \\mathbb{E}[Z_i] \\\\\n",
    "~&=~  100.5 \\\\\n",
    "~&=~ \\theta^*\n",
    "\\end{align}\n",
    "$$\n",
    "\n",
    "That is, the expected value of the average of draws from the population is the population average. Below we provide formulas for the variance of the average of the draws in terms of the population variance, as well as the SD.\n",
    "\n",
    "$$\n",
    "\\begin{align}\n",
    "\\mathbb{V}(\\hat{\\theta}) ~&=~ \\mathbb{V}[\\frac{1}{100} \\Sigma_{i=1}^{100} Z_i]\\\\\n",
    " ~&=~ \\frac{200-100}{100-1} \\times \\frac{\\mathbb{V}(Z_i)}{100} \\\\\n",
    " ~&=~ 16.75 \\\\\n",
    " ~&~\\\\\n",
    " SD(\\hat{\\theta}) ~&=~ \\sqrt{\\frac{100}{199}} \\frac{SD(Z_1)}{10} \\\\\n",
    " ~&=~ 4.1 \n",
    "\\end{align}\n",
    "$$\n",
    "\n",
    "These computations relied on several properties of expected value and variance of a random variable and sums of random variables. We conclude this section with providing these properties for general random variables. "
   ]
  },
  {
   "cell_type": "markdown",
   "metadata": {},
   "source": [
    "## General properties of random variables\n",
    "\n",
    "In general, a *random variable* represents a numeric outcome of a probabilistic event. In this book, we use capital letters like $X$ or $Y$ or $Z$ to denote a random variable. The probability distribution for $X$ is the specification, $\\mathbb{P}(X = x) = p_x$ for all values $x$ that the random variable takes on. Although random variables can represent either discrete (e.g., the number of children in a family drawn at random from a population) or continuous (e.g., the air quality measured by an air monitor) quantities, we simplify all random variables to those with discrete outcomes. Since most measurements are made to a certain degree of precision, this simplification doesn't limit us too much. "
   ]
  },
  {
   "cell_type": "markdown",
   "metadata": {},
   "source": [
    "Then, the expected value of $X$ is defined as:\n",
    "\n",
    "$$\\mathbb{E}[X] = \\sum_{x} x p_x,$$\n",
    "\n",
    "the variance $X$ is defined as:\n",
    "\n",
    "$$\n",
    "\\begin{align}\n",
    "\\mathbb{V}(X) ~&=~ \\mathbb{E}[(X - \\mathbb{E}[X])^2] \\\\\n",
    " ~&=~ \\sum_{x} [x - \\mathbb{E}(X)]^2  p_x,\n",
    "\\end{align}\n",
    "$$\n",
    "\n",
    "and, the $SD(X)$ is the square-root of $\\mathbb{V}(X)$. "
   ]
  },
  {
   "cell_type": "markdown",
   "metadata": {},
   "source": [
    "Simple formulas provide the expected value, variance, and standard deviation of scale and shift changes to random variables, such as $a + bX$ for constants $a$ and $b$. \n",
    "\n",
    "$$\n",
    "\\begin{aligned}\n",
    "\\mathbb{E}(a + bX) ~&=~ a + b\\mathbb{E}(X)  \\\\\n",
    "\\mathbb{V}(a + bX) ~&=~ b^2\\mathbb{V}(X) \\\\\n",
    "SD(a + bX) ~&=~ |b|SD(X) \\\\\n",
    "\\end{aligned}\n",
    "$$\n",
    "\n",
    "To convince yourself that these formulas make sense, think about how a distribution might change if you added a constant $a$ to each value: it would simply shift the distribution, which in turn would shift the expected value but not change the size of the deviations about the expected value. On the other hand, scaling the values by 2 would spread the distribution out and essentially double the deviations from the expected value. "
   ]
  },
  {
   "cell_type": "markdown",
   "metadata": {},
   "source": [
    "We are also interested in the properties of the sum of two or more random variables, say $X$ and $Y$. For this, we need to know how $X$ and $Y$ vary together. In other words, the joint distribution of $X$ and $Y$ assigns probabilities to combinations of their outcomes,\n",
    "\n",
    "$$ \n",
    "\\mathbb{P}(X =x, Y=y) ~=~ p_{x,y} \n",
    "$$\n",
    "\n",
    "When $X$ and $Y$ are independent, then $p_{x,y} = p_x p_y$. A summary of how $X$ and $Y$ vary together, called the covariance, is defined as:\n",
    "\n",
    "$$\n",
    "\\begin{align}\n",
    "Cov(X, Y) ~&=~ \\mathbb{E}[(X - \\mathbb{E}[X])(Y - \\mathbb{E}[Y])] \\\\\n",
    " ~&=~ \\mathbb{E}[(XY) - \\mathbb{E}(X)\\mathbb{E}(Y)] \\\\\n",
    " ~&=~ \\Sigma{x,y}[(xy) - \\mathbb{E}(X)\\mathbb{E}(Y)]p_{x,y} \n",
    " \\end{align}\n",
    "$$\n",
    "\n",
    "If $X$ and $Y$ are independent, then  $Cov(X,Y) = 0$. \n",
    "\n",
    "Below are useful properties of expected value and variance of a sum of two random variables:\n",
    "\n",
    "$$\n",
    "\\begin{aligned}\n",
    "\\mathbb{E}(X + Y) ~&=~ \\mathbb{E}(X) + \\mathbb{E}(Y) \\\\\n",
    "\\mathbb{V}(X + Y) ~&=~ \\mathbb{V}(X) + 2Cov(X,Y) + \\mathbb{V}(Y) \\\\\n",
    "\\end{aligned}\n",
    "$$"
   ]
  },
  {
   "cell_type": "markdown",
   "metadata": {},
   "source": [
    "These properties can be used to show that for random variables, $X_1, X_2, \\ldots X_n$, that are independent with expected value $\\mu$ and standard deviation $\\sigma$, the average, $\\bar{X}$, has the following expected value, variance, and standard deviation.\n",
    "\n",
    "$$\n",
    "\\begin{align}\n",
    "\\mathbb{E}(\\bar{X}) ~&=~ \\mu\\\\\n",
    "\\mathbb{V}(\\bar{X}) ~&=~ \\sigma^2 /n\\\\\n",
    "SD(\\bar{X}) ~&=~ \\sigma/\\sqrt{n}\n",
    "\\end{align}\n",
    "$$\n",
    "\n",
    "This situation arises from the urn model where $X_1, \\ldots,X_n$ are the result of random draws with replacement. In this case, $\\mu$ represents the average of the urn and $\\sigma$ the standard deviation.\n",
    "\n",
    "And, when the random draws are made without replacement from an urn with $N$ marbles, then $\\bar{X}$ has \n",
    "\n",
    "$$\n",
    "\\begin{align}\n",
    "\\mathbb{E}(\\bar{X}) ~&=~ \\mu\\\\\n",
    "\\mathbb{V}(\\bar{X}) ~&=~ \\frac{N-n}{N-1} \\times \\frac{\\sigma^2}{n}\\\\\n",
    "\\end{align}\n",
    "$$\n",
    "\n",
    "We used this formula earlier to compute the $SD(\\hat{\\theta})$ in our example. "
   ]
  },
  {
   "cell_type": "markdown",
   "metadata": {},
   "source": [
    "## Probability behind testing and intervals\n",
    "\n",
    "As mentioned at the beginning of this chapter, probability is the underpinning behind conducting a hyptohesis test, providing a confidence interval for an estimator and a prediction interval for a future observation.  \n",
    "\n",
    "We now have the technical machinery to explain these concepts, which we have carefully defined in this chapter without the use of formal technicalities. This time we present the results in terms of random variables and their distributions. \n",
    "\n",
    "As introduced, a hypothesis test relies on a null model which provides the probability distribution for the statistic, $\\hat{\\theta}$. The tests we carried out were essentially computing (sometimes approximately) the following probability: given the assumptions of the null distribution,\n",
    "\n",
    "$$ \\mathbb{P}(\\hat{\\theta} \\geq \\textrm{observed statistic}) $$\n",
    "\n",
    "Often times, the random variable is normalized to and the following $p$-value is computed. Given the assumptions of the null distribution,\n",
    "\n",
    "$$ \n",
    "\\mathbb{P}\\left( \\frac{\\hat{\\theta} - {\\theta}^*}{SD(\\hat{\\theta})} \\geq \\frac{\\textrm{observed stat}- \\theta^*}{SD(\\hat{\\theta})}\\right)$$"
   ]
  },
  {
   "cell_type": "markdown",
   "metadata": {},
   "source": [
    "When, $SD(\\hat{\\theta})$ is not known, we approximated it via simulation or, when we have a formula for $SD(\\hat{\\theta})$ in terms of $SD(pop)$, we substitute $SD(samp)$ in for $SD(pop)$. This normalization has been popular because it simplifies the null distribution. For example, if $\\hat{\\theta}$ has an approximate normal distribution than the normalized version will have a standard normal distribution with center 0 and SD of 1. These approximations are useful if many hypothesis tests are being carried out, such as in the case of A/B testing, for there is no need to simulate every for every sample."
   ]
  },
  {
   "cell_type": "markdown",
   "metadata": {},
   "source": [
    "The probability statement behind a confidence interval is quite similar. In particular, to create a 95% confidence interval under the normal conditions, we begin with the probability,\n",
    "\n",
    "$$\n",
    "\\mathbb{P}\\left( \\frac{|\\hat{\\theta} - \\theta^*|}{SD(\\hat{\\theta})} \\leq 1.96 \\right) ~=~ \\mathbb{P}\\left(\\hat{\\theta} - 1.96SD(\\hat{\\theta}) \\leq \\theta^* \\leq \\hat{\\theta} + 1.96SD(\\hat{\\theta}) \\right) ~\\approx~ 0.95\n",
    "$$"
   ]
  },
  {
   "cell_type": "markdown",
   "metadata": {},
   "source": [
    "Note that $\\hat{\\theta}$ is the random variable in the above probability statement. The confidence interval is created by substituting the observed statistic in for $\\hat\\theta$ and calling it a 95% confidence interval:\n",
    "\n",
    "$$\n",
    "\\left(\\textrm{observed stat} - 1.96SD(\\hat{\\theta}),~ \\textrm{observed stat} + 1.96SD(\\hat{\\theta}) \\right)\n",
    "$$\n"
   ]
  },
  {
   "cell_type": "markdown",
   "metadata": {},
   "source": [
    "Lastly, consider prediction intervals. The simplest case provides a measure of the expected variation of a future observation about the estimator. In the simple case, where the statistic is $\\bar{X}$ and we have a hypothetical new observation $X_0$ with the same expected value and standard deviation of each of the $X_i$, we have the standard deviation:\n",
    "\n",
    "$$\n",
    "\\begin{align}\n",
    "SD(X_0 - \\bar{X}) ~&=~ \\sqrt{ \\mathbb{V}(X_0) + \\mathbb{V}(\\bar{X})} \\\\\n",
    " ~&=~ \\sqrt{ \\sigma^2 + \\sigma^2/n} \\\\\n",
    " ~&=~ \\sigma\\sqrt{1 + 1/n}\n",
    "\\end{align}\n",
    "$$"
   ]
  },
  {
   "cell_type": "markdown",
   "metadata": {},
   "source": [
    "Notice there are two parts to the variation: one due to the variation of $X_0$ and the other due to the approximation of $\\mathbb{E}(X_0)$ by $\\bar{X}$. \n",
    "\n",
    "In the case of more complex models, the variation in prediction breaks down into these two components: the inherent variation in the data about the model plus the variation in the sampling distribution due to the estimation of the model. "
   ]
  }
 ],
 "metadata": {
  "celltoolbar": "Tags",
  "kernelspec": {
   "display_name": "Python 3",
   "language": "python",
   "name": "python3"
  },
  "language_info": {
   "codemirror_mode": {
    "name": "ipython",
    "version": 3
   },
   "file_extension": ".py",
   "mimetype": "text/x-python",
   "name": "python",
   "nbconvert_exporter": "python",
   "pygments_lexer": "ipython3",
   "version": "3.9.4"
  }
 },
 "nbformat": 4,
 "nbformat_minor": 4
}
