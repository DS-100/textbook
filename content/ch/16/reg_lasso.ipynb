{
 "cells": [
  {
   "cell_type": "code",
   "execution_count": null,
   "metadata": {
    "tags": [
     "hide_input"
    ]
   },
   "outputs": [],
   "source": [
    "# HIDDEN\n",
    "import warnings\n",
    "# Ignore numpy dtype warnings. These warnings are caused by an interaction\n",
    "# between numpy and Cython and can be safely ignored.\n",
    "# Reference: https://stackoverflow.com/a/40846742\n",
    "warnings.filterwarnings(\"ignore\", message=\"numpy.dtype size changed\")\n",
    "warnings.filterwarnings(\"ignore\", message=\"numpy.ufunc size changed\")\n",
    "\n",
    "import numpy as np\n",
    "import matplotlib.pyplot as plt\n",
    "import pandas as pd\n",
    "import seaborn as sns\n",
    "%matplotlib inline\n",
    "import ipywidgets as widgets\n",
    "from ipywidgets import interact, interactive, fixed, interact_manual\n",
    "import nbinteract as nbi\n",
    "\n",
    "sns.set()\n",
    "sns.set_context('talk')\n",
    "np.set_printoptions(threshold=20, precision=2, suppress=True)\n",
    "pd.options.display.max_rows = 7\n",
    "pd.options.display.max_columns = 8\n",
    "pd.set_option('precision', 2)\n",
    "# This option stops scientific notation for pandas\n",
    "# pd.set_option('display.float_format', '{:.2f}'.format)"
   ]
  },
  {
   "cell_type": "code",
   "execution_count": 3,
   "metadata": {
    "tags": [
     "hide_input"
    ]
   },
   "outputs": [],
   "source": [
    "# HIDDEN\n",
    "def df_interact(df, nrows=7, ncols=7):\n",
    "    '''\n",
    "    Outputs sliders that show rows and columns of df\n",
    "    '''\n",
    "    def peek(row=0, col=0):\n",
    "        return df.iloc[row:row + nrows, col:col + ncols]\n",
    "    if len(df.columns) <= ncols:\n",
    "        interact(peek, row=(0, len(df) - nrows, nrows), col=fixed(0))\n",
    "    else:\n",
    "        interact(peek,\n",
    "                 row=(0, len(df) - nrows, nrows),\n",
    "                 col=(0, len(df.columns) - ncols))\n",
    "    print('({} rows, {} columns) total'.format(df.shape[0], df.shape[1]))"
   ]
  },
  {
   "cell_type": "code",
   "execution_count": 4,
   "metadata": {
    "scrolled": true,
    "tags": [
     "hide_input"
    ]
   },
   "outputs": [],
   "source": [
    "# HIDDEN\n",
    "df = pd.read_csv('water_large.csv')"
   ]
  },
  {
   "cell_type": "code",
   "execution_count": 22,
   "metadata": {
    "tags": [
     "hide_input"
    ]
   },
   "outputs": [],
   "source": [
    "# HIDDEN\n",
    "from collections import namedtuple\n",
    "Curve = namedtuple('Curve', ['xs', 'ys'])\n",
    "\n",
    "def flatten(seq): return [item for subseq in seq for item in subseq]\n",
    "\n",
    "def make_curve(clf, x_start=-50, x_end=50):\n",
    "    xs = np.linspace(x_start, x_end, num=100)\n",
    "    ys = clf.predict(xs.reshape(-1, 1))\n",
    "    return Curve(xs, ys)\n",
    "\n",
    "def plot_data(df=df, ax=plt, **kwargs):\n",
    "    ax.scatter(df.iloc[:, 0], df.iloc[:, 1], s=50, **kwargs)\n",
    "\n",
    "def plot_curve(curve, ax=plt, **kwargs):\n",
    "    ax.plot(curve.xs, curve.ys, **kwargs)\n",
    "    \n",
    "def plot_curves(curves, cols=2, labels=None):\n",
    "    if labels is None:\n",
    "        labels = [f'Deg {deg} poly' for deg in degrees]\n",
    "    rows = int(np.ceil(len(curves) / cols))\n",
    "    fig, axes = plt.subplots(rows, cols, figsize=(10, 8),\n",
    "                             sharex=True, sharey=True)\n",
    "    for ax, curve, label in zip(flatten(axes), curves, labels):\n",
    "        plot_data(ax=ax, label='Training data')\n",
    "        plot_curve(curve, ax=ax, label=label)\n",
    "        ax.set_ylim(-5e10, 170e10)\n",
    "        ax.legend()\n",
    "        \n",
    "    # add a big axes, hide frame\n",
    "    fig.add_subplot(111, frameon=False)\n",
    "    # hide tick and tick label of the big axes\n",
    "    plt.tick_params(labelcolor='none', top='off', bottom='off',\n",
    "                    left='off', right='off')\n",
    "    plt.grid(False)\n",
    "    plt.title('Polynomial Regression')\n",
    "    plt.xlabel('Water Level Change (m)')\n",
    "    plt.ylabel('Water Flow (Liters)')\n",
    "    plt.tight_layout()"
   ]
  },
  {
   "cell_type": "code",
   "execution_count": 23,
   "metadata": {
    "tags": [
     "hide_input"
    ]
   },
   "outputs": [],
   "source": [
    "# HIDDEN\n",
    "def coefs(clf):\n",
    "    reg = clf.named_steps['reg']\n",
    "    return np.append(reg.intercept_, reg.coef_)\n",
    "\n",
    "def coef_table(clf):\n",
    "    vals = coefs(clf)\n",
    "    return (pd.DataFrame({'Coefficient Value': vals})\n",
    "            .rename_axis('degree'))"
   ]
  },
  {
   "cell_type": "code",
   "execution_count": 120,
   "metadata": {
    "tags": [
     "hide_input"
    ]
   },
   "outputs": [],
   "source": [
    "# HIDDEN\n",
    "X = df.iloc[:, [0]].as_matrix()\n",
    "y = df.iloc[:, 1].as_matrix()\n",
    "\n",
    "degrees = [1, 2, 8, 12]\n",
    "clfs = [Pipeline([('poly', PolynomialFeatures(degree=deg, include_bias=False)),\n",
    "                  ('reg', LinearRegression())])\n",
    "        .fit(X, y)\n",
    "        for deg in degrees]\n",
    "\n",
    "curves = [make_curve(clf) for clf in clfs]\n",
    "\n",
    "alphas = [0.1, 1.0, 10.0]\n",
    "\n",
    "ridge_clfs = [Pipeline([('poly', PolynomialFeatures(degree=deg, include_bias=False)),\n",
    "                        ('reg', RidgeCV(alphas=alphas, normalize=True))])\n",
    "        .fit(X, y)\n",
    "        for deg in degrees]\n",
    "\n",
    "ridge_curves = [make_curve(clf) for clf in ridge_clfs]\n",
    "\n",
    "lasso_clfs = [Pipeline([('poly', PolynomialFeatures(degree=deg, include_bias=False)),\n",
    "                        ('reg', LassoCV(normalize=True, precompute=True, tol=0.001))])\n",
    "        .fit(X, y)\n",
    "        for deg in degrees]\n",
    "lasso_curves = [make_curve(clf) for clf in lasso_clfs]"
   ]
  },
  {
   "cell_type": "markdown",
   "metadata": {},
   "source": [
    "## L1 Regularization: Lasso Regression\n",
    "\n",
    "In this section we introduce $ L_1 $ regularization, another regularization technique that is useful for feature selection.\n",
    "\n",
    "We start with a brief review of $ L_2 $ regularization for linear regression. We use the model:\n",
    "\n",
    "$$\n",
    "f_\\hat{\\theta}(x) = \\hat{\\theta} \\cdot x\n",
    "$$\n",
    "\n",
    "We fit the model by minimizing the mean squared error cost function with an additional regularization term:\n",
    "\n",
    "$$\n",
    "\\begin{aligned}\n",
    "L(\\hat{\\theta}, X, y)\n",
    "&= \\frac{1}{n} \\sum_{i}(y_i - f_\\hat{\\theta} (X_i))^2\n",
    "    + \\lambda \\sum_{j = 1}^{p} \\hat{\\theta_j}^2\n",
    "\\end{aligned}\n",
    "$$\n",
    "\n",
    "In the above definitions, $ X $ represents the $ n \\times p $ data matrix, $ x $ represents a row of $ X $, $ y $ represents the observed outcomes, $ \\hat{\\theta} $ represents the model weights, and $ \\lambda $ represents the regularization parameter."
   ]
  },
  {
   "cell_type": "markdown",
   "metadata": {},
   "source": [
    "## L1 Regularization Definition\n",
    "\n",
    "To add $ L_1 $ regularization to the model, we modify the cost function above:\n",
    "\n",
    "$$\n",
    "\\begin{aligned}\n",
    "L(\\hat{\\theta}, X, y)\n",
    "&= \\frac{1}{n} \\sum_{i}(y_i - f_\\hat{\\theta} (X_i))^2\n",
    "    + \\lambda \\sum_{j = 1}^{p} |\\hat{\\theta_j}|\n",
    "\\end{aligned}\n",
    "$$\n",
    "\n",
    "Observe that the two cost functions only differ in their regularization term. $ L_1 $ regularization penalizes the sum of the absolute weight values instead of the sum of squared values.\n",
    "\n",
    "Using $ L_1 $ regularization with a linear model and the mean squared error cost function is also known more commonly as **lasso regression**. (Lasso stands for Least Absolute Shrinkage and Selection Operator.)"
   ]
  },
  {
   "cell_type": "markdown",
   "metadata": {},
   "source": [
    "## Comparing Lasso and Ridge Regression\n",
    "\n",
    "To conduct lasso regression, we make use of `scikit-learn`'s convenient [`LassoCV`](http://scikit-learn.org/stable/modules/generated/sklearn.linear_model.LassoCV.html) classifier, a version of the [`Lasso`](http://scikit-learn.org/stable/modules/generated/sklearn.linear_model.Lasso.html) classifier that performs cross-validation to select the regularization parameter. Below, we display our dataset of water level change and water flow out of a dam."
   ]
  },
  {
   "cell_type": "code",
   "execution_count": 124,
   "metadata": {
    "tags": [
     "hide_input"
    ]
   },
   "outputs": [
    {
     "data": {
      "text/html": [
       "<div>\n",
       "<style scoped>\n",
       "    .dataframe tbody tr th:only-of-type {\n",
       "        vertical-align: middle;\n",
       "    }\n",
       "\n",
       "    .dataframe tbody tr th {\n",
       "        vertical-align: top;\n",
       "    }\n",
       "\n",
       "    .dataframe thead th {\n",
       "        text-align: right;\n",
       "    }\n",
       "</style>\n",
       "<table border=\"1\" class=\"dataframe\">\n",
       "  <thead>\n",
       "    <tr style=\"text-align: right;\">\n",
       "      <th></th>\n",
       "      <th>water_level_change</th>\n",
       "      <th>water_flow</th>\n",
       "    </tr>\n",
       "  </thead>\n",
       "  <tbody>\n",
       "    <tr>\n",
       "      <th>0</th>\n",
       "      <td>-15.94</td>\n",
       "      <td>60422330445.52</td>\n",
       "    </tr>\n",
       "    <tr>\n",
       "      <th>1</th>\n",
       "      <td>-29.15</td>\n",
       "      <td>33214896575.60</td>\n",
       "    </tr>\n",
       "    <tr>\n",
       "      <th>2</th>\n",
       "      <td>36.19</td>\n",
       "      <td>972706380901.06</td>\n",
       "    </tr>\n",
       "    <tr>\n",
       "      <th>...</th>\n",
       "      <td>...</td>\n",
       "      <td>...</td>\n",
       "    </tr>\n",
       "    <tr>\n",
       "      <th>20</th>\n",
       "      <td>7.09</td>\n",
       "      <td>236352046523.78</td>\n",
       "    </tr>\n",
       "    <tr>\n",
       "      <th>21</th>\n",
       "      <td>46.28</td>\n",
       "      <td>1494256381086.73</td>\n",
       "    </tr>\n",
       "    <tr>\n",
       "      <th>22</th>\n",
       "      <td>14.61</td>\n",
       "      <td>378146284247.97</td>\n",
       "    </tr>\n",
       "  </tbody>\n",
       "</table>\n",
       "<p>23 rows × 2 columns</p>\n",
       "</div>"
      ],
      "text/plain": [
       "    water_level_change       water_flow\n",
       "0               -15.94   60422330445.52\n",
       "1               -29.15   33214896575.60\n",
       "2                36.19  972706380901.06\n",
       "..                 ...              ...\n",
       "20                7.09  236352046523.78\n",
       "21               46.28 1494256381086.73\n",
       "22               14.61  378146284247.97\n",
       "\n",
       "[23 rows x 2 columns]"
      ]
     },
     "execution_count": 124,
     "metadata": {},
     "output_type": "execute_result"
    }
   ],
   "source": [
    "# HIDDEN\n",
    "df"
   ]
  },
  {
   "cell_type": "markdown",
   "metadata": {},
   "source": [
    "Since the procedure is almost identical to using the `RidgeCV` classifier from the previous section, we omit the code and instead display the base degree 12 polynomial, ridge regression, and lasso regression model predictions below."
   ]
  },
  {
   "cell_type": "code",
   "execution_count": 125,
   "metadata": {
    "tags": [
     "hide_input"
    ]
   },
   "outputs": [
    {
     "data": {
      "image/png": "[encoded data removed]",
      "text/plain": [
       "<matplotlib.figure.Figure at 0x10a763208>"
      ]
     },
     "metadata": {},
     "output_type": "display_data"
    }
   ],
   "source": [
    "# HIDDEN\n",
    "fig = plt.figure(figsize=(10, 4))\n",
    "\n",
    "plt.subplot(131)\n",
    "plot_data()\n",
    "plot_curve(curves[3])\n",
    "plt.title('Base')\n",
    "plt.ylim(-5e10, 170e10)\n",
    "\n",
    "plt.subplot(132)\n",
    "plot_data()\n",
    "plot_curve(ridge_curves[3])\n",
    "plt.title('Ridge Regression')\n",
    "plt.ylim(-5e10, 170e10)\n",
    "\n",
    "plt.subplot(133)\n",
    "plot_data()\n",
    "plot_curve(lasso_curves[3])\n",
    "plt.title('Lasso Regression')\n",
    "plt.ylim(-5e10, 170e10)\n",
    "plt.tight_layout()"
   ]
  },
  {
   "cell_type": "markdown",
   "metadata": {},
   "source": [
    "We can see that both regularized models have less variance than the base degree 12 polynomial. At a glance, it appears that using $ L_2 $ and $ L_1 $ regularization produces nearly identical models. Comparing the coefficients of ridge and lasso regression, however, reveals the most significant difference between the two types of regularization: the lasso regression model sets a number of model weights to zero."
   ]
  },
  {
   "cell_type": "code",
   "execution_count": 135,
   "metadata": {
    "tags": [
     "hide_input"
    ]
   },
   "outputs": [
    {
     "data": {
      "text/html": [
       "<div>\n",
       "<style scoped>\n",
       "    .dataframe tbody tr th:only-of-type {\n",
       "        vertical-align: middle;\n",
       "    }\n",
       "\n",
       "    .dataframe tbody tr th {\n",
       "        vertical-align: top;\n",
       "    }\n",
       "\n",
       "    .dataframe thead th {\n",
       "        text-align: right;\n",
       "    }\n",
       "</style>\n",
       "<table border=\"1\" class=\"dataframe\">\n",
       "  <thead>\n",
       "    <tr style=\"text-align: right;\">\n",
       "      <th></th>\n",
       "      <th>Ridge</th>\n",
       "      <th>Lasso</th>\n",
       "    </tr>\n",
       "    <tr>\n",
       "      <th>degree</th>\n",
       "      <th></th>\n",
       "      <th></th>\n",
       "    </tr>\n",
       "  </thead>\n",
       "  <tbody>\n",
       "    <tr>\n",
       "      <th>0</th>\n",
       "      <td>221303288116.2275085449</td>\n",
       "      <td>198212062407.2835693359</td>\n",
       "    </tr>\n",
       "    <tr>\n",
       "      <th>1</th>\n",
       "      <td>6953405307.7653837204</td>\n",
       "      <td>9655088668.0876655579</td>\n",
       "    </tr>\n",
       "    <tr>\n",
       "      <th>2</th>\n",
       "      <td>142621063.9297277331</td>\n",
       "      <td>198852674.1646585464</td>\n",
       "    </tr>\n",
       "    <tr>\n",
       "      <th>3</th>\n",
       "      <td>1893283.0567885502</td>\n",
       "      <td>0.0000000000</td>\n",
       "    </tr>\n",
       "    <tr>\n",
       "      <th>4</th>\n",
       "      <td>38202.1520293704</td>\n",
       "      <td>34434.3458919188</td>\n",
       "    </tr>\n",
       "    <tr>\n",
       "      <th>5</th>\n",
       "      <td>484.4262914111</td>\n",
       "      <td>975.6965959434</td>\n",
       "    </tr>\n",
       "    <tr>\n",
       "      <th>6</th>\n",
       "      <td>8.1525126516</td>\n",
       "      <td>0.0000000000</td>\n",
       "    </tr>\n",
       "    <tr>\n",
       "      <th>7</th>\n",
       "      <td>0.1197232472</td>\n",
       "      <td>0.0887942172</td>\n",
       "    </tr>\n",
       "    <tr>\n",
       "      <th>8</th>\n",
       "      <td>0.0012506185</td>\n",
       "      <td>0.0000000000</td>\n",
       "    </tr>\n",
       "    <tr>\n",
       "      <th>9</th>\n",
       "      <td>0.0000289599</td>\n",
       "      <td>0.0000000000</td>\n",
       "    </tr>\n",
       "    <tr>\n",
       "      <th>10</th>\n",
       "      <td>-0.0000000004</td>\n",
       "      <td>0.0000000000</td>\n",
       "    </tr>\n",
       "    <tr>\n",
       "      <th>11</th>\n",
       "      <td>0.0000000069</td>\n",
       "      <td>0.0000000000</td>\n",
       "    </tr>\n",
       "    <tr>\n",
       "      <th>12</th>\n",
       "      <td>-0.0000000001</td>\n",
       "      <td>-0.0000000000</td>\n",
       "    </tr>\n",
       "  </tbody>\n",
       "</table>\n",
       "</div>"
      ],
      "text/plain": [
       "                         Ridge                   Lasso\n",
       "degree                                                \n",
       "0      221303288116.2275085449 198212062407.2835693359\n",
       "1        6953405307.7653837204   9655088668.0876655579\n",
       "2         142621063.9297277331    198852674.1646585464\n",
       "3           1893283.0567885502            0.0000000000\n",
       "4             38202.1520293704        34434.3458919188\n",
       "5               484.4262914111          975.6965959434\n",
       "6                 8.1525126516            0.0000000000\n",
       "7                 0.1197232472            0.0887942172\n",
       "8                 0.0012506185            0.0000000000\n",
       "9                 0.0000289599            0.0000000000\n",
       "10               -0.0000000004            0.0000000000\n",
       "11                0.0000000069            0.0000000000\n",
       "12               -0.0000000001           -0.0000000000"
      ]
     },
     "metadata": {},
     "output_type": "display_data"
    }
   ],
   "source": [
    "# HIDDEN\n",
    "ridge = coef_table(ridge_clfs[3]).rename(columns={'Coefficient Value': 'Ridge'})\n",
    "lasso = coef_table(lasso_clfs[3]).rename(columns={'Coefficient Value': 'Lasso'})\n",
    "\n",
    "pd.options.display.max_rows = 20\n",
    "pd.set_option('display.float_format', '{:.10f}'.format)\n",
    "display(ridge.join(lasso))\n",
    "pd.options.display.max_rows = 7\n",
    "pd.set_option('display.float_format', '{:.2f}'.format)"
   ]
  },
  {
   "cell_type": "markdown",
   "metadata": {},
   "source": [
    "If you will forgive the verbose output above, you will notice that ridge regression results in non-zero weights for the all polynomial features. Lasso regression, on the other hand, produces weights of zero for seven features.\n",
    "\n",
    "In other words, the lasso regression model completely tosses out a majority of the features when making predictions. Nonetheless, the plots above show that the lasso regression model will make nearly identical predictions compared to the ridge regression model."
   ]
  },
  {
   "cell_type": "markdown",
   "metadata": {},
   "source": [
    "## Feature Selection with Lasso Regression\n",
    "\n",
    "Lasso regression performs **feature selection**—it discards a subset of the original features when fitting model parameters. This is particularly useful when working with high-dimensional data with many features. A model that only uses a few features to make a prediction will run much faster than a model that requires many calculations. Since unneeded features tend to increase model variance without decreasing bias, we can sometimes increase the accuracy of other models by using lasso regression to select a subset of features to use."
   ]
  },
  {
   "cell_type": "markdown",
   "metadata": {},
   "source": [
    "## Lasso vs. Ridge In Practice\n",
    "\n",
    "If our goal is merely to achieve the highest prediction accuracy, we can try both types of regularization and use cross-validation to select between the two types.\n",
    "\n",
    "Sometimes we prefer one type of regularization over the other because it maps more closely to the domain we are working with. For example, if know that the phenomenon we are trying to model results from many small factors, we might prefer ridge regression because it won't discard these factors. On the other hand, some outcomes result from a few highly influential features. We prefer lasso regression in these situations because it will discard unneeded features."
   ]
  },
  {
   "cell_type": "markdown",
   "metadata": {},
   "source": [
    "## Summary\n",
    "\n",
    "Using $ L_1 $ regularization, like $ L_2 $ regularization, allows us to tune model bias and variance by penalizing large model weights. $ L_1 $ regularization for least squares linear regression is also known by the more common name lasso regression. Lasso regression may also be used to perform feature selection since it discards insignificant features."
   ]
  }
 ],
 "metadata": {
  "kernelspec": {
   "display_name": "Python [default]",
   "language": "python",
   "name": "python3"
  },
  "language_info": {
   "codemirror_mode": {
    "name": "ipython",
    "version": 3
   },
   "file_extension": ".py",
   "mimetype": "text/x-python",
   "name": "python",
   "nbconvert_exporter": "python",
   "pygments_lexer": "ipython3",
   "version": "3.6.3"
  },
  "toc": {
   "nav_menu": {},
   "number_sections": false,
   "sideBar": false,
   "skip_h1_title": false,
   "title_cell": "Table of Contents",
   "title_sidebar": "Contents",
   "toc_cell": true,
   "toc_position": {},
   "toc_section_display": true,
   "toc_window_display": false
  }
 },
 "nbformat": 4,
 "nbformat_minor": 2
}
