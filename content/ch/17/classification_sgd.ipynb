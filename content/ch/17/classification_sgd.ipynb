{
 "cells": [
  {
   "cell_type": "code",
   "execution_count": null,
   "metadata": {
    "tags": [
     "hide_input"
    ]
   },
   "outputs": [],
   "source": [
    "# HIDDEN\n",
    "import warnings\n",
    "# Ignore numpy dtype warnings. These warnings are caused by an interaction\n",
    "# between numpy and Cython and can be safely ignored.\n",
    "# Reference: https://stackoverflow.com/a/40846742\n",
    "warnings.filterwarnings(\"ignore\", message=\"numpy.dtype size changed\")\n",
    "warnings.filterwarnings(\"ignore\", message=\"numpy.ufunc size changed\")\n",
    "\n",
    "import numpy as np\n",
    "import matplotlib.pyplot as plt\n",
    "import pandas as pd\n",
    "import seaborn as sns\n",
    "%matplotlib inline\n",
    "import ipywidgets as widgets\n",
    "from ipywidgets import interact, interactive, fixed, interact_manual\n",
    "import nbinteract as nbi\n",
    "\n",
    "sns.set()\n",
    "sns.set_context('talk')\n",
    "np.set_printoptions(threshold=20, precision=2, suppress=True)\n",
    "pd.options.display.max_rows = 7\n",
    "pd.options.display.max_columns = 8\n",
    "pd.set_option('precision', 2)\n",
    "# This option stops scientific notation for pandas\n",
    "# pd.set_option('display.float_format', '{:.2f}'.format)"
   ]
  },
  {
   "cell_type": "markdown",
   "metadata": {},
   "source": [
    "## Fitting a Logistic Model\n",
    "\n",
    "Previously, we covered batch gradient descent, an algorithm that iteratively updates $\\boldsymbol{\\theta}$ to find the loss-minimizing parameters $\\boldsymbol{\\hat\\theta}$. We also discussed stochastic gradient descent and mini-batch gradient descent, methods that take advantage of statistical theory and parallelized hardware to decrease the time spent training the gradient descent algorithm. In this section, we will apply these concepts to logistic regression and walk through examples using scikit-learn functions.\n",
    "\n",
    "### Batch Gradient Descent\n",
    "\n",
    "The general update formula for batch gradient descent is given by:\n",
    "\n",
    "$$\n",
    "\\boldsymbol{\\theta}^{(t+1)} = \\boldsymbol{\\theta}^{(t)} - \\alpha \\cdot \\nabla_\\boldsymbol{\\theta} L(\\boldsymbol{\\theta}^{(t)}, \\textbf{X}, \\textbf{y})\n",
    "$$\n",
    "\n",
    "In logistic regression, we use the cross entropy loss as our loss function:\n",
    "\n",
    "$$\n",
    "L(\\boldsymbol{\\theta}, \\textbf{X}, \\textbf{y}) = \\frac{1}{n} \\sum_{i=1}^{n} \\left(-y_i \\ln \\left(f_{\\boldsymbol{\\theta}} \\left(\\textbf{X}_i \\right) \\right) - \\left(1 - y_i \\right) \\ln \\left(1 - f_{\\boldsymbol{\\theta}} \\left(\\textbf{X}_i \\right) \\right) \\right)\n",
    "$$\n",
    "\n",
    "The gradient of the cross entropy loss is $\\nabla_{\\boldsymbol{\\theta}} L(\\boldsymbol{\\theta}, \\textbf{X}, \\textbf{y}) = -\\frac{1}{n}\\sum_{i=1}^n(y_i - \\sigma_i)\\textbf{X}_i $. Plugging this into the update formula allows us to find the gradient descent algorithm specific to logistic regression. Letting $ \\sigma_i = f_\\boldsymbol{\\theta}(\\textbf{X}_i) = \\sigma(\\textbf{X}_i \\cdot \\boldsymbol{\\theta}) $:\n",
    "\n",
    "$$\n",
    "\\begin{align}\n",
    "\\boldsymbol{\\theta}^{(t+1)} &= \\boldsymbol{\\theta}^{(t)} - \\alpha \\cdot \\left(- \\frac{1}{n} \\sum_{i=1}^{n} \\left(y_i - \\sigma_i\\right) \\textbf{X}_i \\right) \\\\\n",
    "&= \\boldsymbol{\\theta}^{(t)} + \\alpha \\cdot \\left(\\frac{1}{n} \\sum_{i=1}^{n} \\left(y_i - \\sigma_i\\right) \\textbf{X}_i \\right)\n",
    "\\end{align}\n",
    "$$\n",
    "\n",
    "- $\\boldsymbol{\\theta}^{(t)}$ is the current estimate of $\\boldsymbol{\\theta}$ at iteration $t$\n",
    "- $\\alpha$ is the learning rate\n",
    "- $-\\frac{1}{n} \\sum_{i=1}^{n} \\left(y_i - \\sigma_i\\right) \\textbf{X}_i$ is the gradient of the cross entropy loss\n",
    "- $\\boldsymbol{\\theta}^{(t+1)}$ is the next estimate of $\\boldsymbol{\\theta}$ computed by subtracting the product of $\\alpha$ and the cross entropy loss computed at $\\boldsymbol{\\theta}^{(t)}$\n",
    "\n",
    "\n",
    "### Stochastic Gradient Descent\n",
    "\n",
    "Stochastic gradient descent approximates the gradient of the loss function across all observations using the gradient of the loss of a single data point.The general update formula is below, where $\\ell(\\boldsymbol{\\theta}, \\textbf{X}_i, y_i)$ is the loss function for a single data point:\n",
    "\n",
    "$$\n",
    "\\boldsymbol{\\theta}^{(t+1)} = \\boldsymbol{\\theta}^{(t)} - \\alpha \\nabla_\\boldsymbol{\\theta} \\ell(\\boldsymbol{\\theta}, \\textbf{X}_i, y_i)\n",
    "$$\n",
    "\n",
    "Returning back to our example in logistic regression, we approximate the gradient of the cross entropy loss across all data points using the gradient of the cross entropy loss of one data point. This is shown below, with $ \\sigma_i = f_{\\boldsymbol{\\theta}}(\\textbf{X}_i) = \\sigma(\\textbf{X}_i \\cdot \\boldsymbol{\\theta}) $.\n",
    "\n",
    "$$\n",
    "\\begin{align}\n",
    "\\nabla_\\boldsymbol{\\theta} L(\\boldsymbol{\\theta}, \\textbf{X}, \\textbf{y}) &\\approx \\nabla_\\boldsymbol{\\theta} \\ell(\\boldsymbol{\\theta}, \\textbf{X}_i, y_i)\\\\\n",
    "&= -(y_i - \\sigma_i)\\textbf{X}_i\n",
    "\\end{align}\n",
    "$$\n",
    "\n",
    "When we plug this approximation into the general formula for stochastic gradient descent, we find the stochastic gradient descent update formula for logistic regression.\n",
    "\n",
    "$$\n",
    "\\begin{align}\n",
    "\\boldsymbol{\\theta}^{(t+1)} &= \\boldsymbol{\\theta}^{(t)} - \\alpha \\nabla_\\boldsymbol{\\theta} \\ell(\\boldsymbol{\\theta}, \\textbf{X}_i, y_i) \\\\\n",
    "&= \\boldsymbol{\\theta}^{(t)} + \\alpha \\cdot (y_i - \\sigma_i)\\textbf{X}_i\n",
    "\\end{align}\n",
    "$$\n",
    "\n",
    "### Mini-batch Gradient Descent\n",
    "\n",
    "Similarly, we can approximate the gradient of the cross entropy loss for all observations using a random sample of data points, known as a mini-batch.\n",
    "\n",
    "$$\n",
    "\\nabla_\\boldsymbol{\\theta} L(\\boldsymbol{\\theta}, \\textbf{X}, \\textbf{y}) \\approx \\frac{1}{|\\mathcal{B}|} \\sum_{i\\in\\mathcal{B}}\\nabla_{\\boldsymbol{\\theta}} \\ell(\\boldsymbol{\\theta}, \\textbf{X}_i, y_i)\n",
    "$$\n",
    "\n",
    "We substitute this approximation for the gradient of the cross entropy loss, yielding a mini-batch gradient descent update formula specific to logistic regression:\n",
    "\n",
    "$$\n",
    "\\begin{align}\n",
    "\\boldsymbol{\\theta}^{(t+1)} &= \\boldsymbol{\\theta}^{(t)} - \\alpha \\cdot -\\frac{1}{|\\mathcal{B}|} \\sum_{i\\in\\mathcal{B}}(y_i - \\sigma_i)\\textbf{X}_i \\\\\n",
    "&= \\boldsymbol{\\theta}^{(t)} + \\alpha \\cdot \\frac{1}{|\\mathcal{B}|} \\sum_{i\\in\\mathcal{B}}(y_i - \\sigma_i)\\textbf{X}_i\n",
    "\\end{align}\n",
    "$$"
   ]
  },
  {
   "cell_type": "markdown",
   "metadata": {},
   "source": [
    "## Implementation in Scikit-learn\n",
    "\n",
    "Scikit-learn's [`SGDClassifier`](http://scikit-learn.org/stable/modules/generated/sklearn.linear_model.SGDClassifier.html) class provides an implementation for stochastic gradient descent, which we can use by specifying `loss=log`. Since scikit-learn does not have a model that implements batch gradient descent, we will compare `SGDClassifier`'s performance against [`LogisticRegression`](http://scikit-learn.org/stable/modules/generated/sklearn.linear_model.LogisticRegression.html) on the `emails` dataset. We omit feature extraction for brevity:"
   ]
  },
  {
   "cell_type": "code",
   "execution_count": 2,
   "metadata": {
    "ExecuteTime": {
     "end_time": "2018-07-03T14:30:39.367209Z",
     "start_time": "2018-07-03T14:30:37.384927Z"
    },
    "tags": [
     "hide_input"
    ]
   },
   "outputs": [],
   "source": [
    "# HIDDEN\n",
    "emails = pd.read_csv('emails_sgd.csv').sample(frac=0.5)\n",
    "\n",
    "X, y = emails['email'], emails['spam']\n",
    "X_tr = CountVectorizer().fit_transform(X)\n",
    "\n",
    "X_train, X_test, y_train, y_test = train_test_split(X_tr, y, random_state=42)\n",
    "\n",
    "y_train = y_train.reset_index(drop=True)\n",
    "y_test = y_test.reset_index(drop=True)"
   ]
  },
  {
   "cell_type": "code",
   "execution_count": 3,
   "metadata": {
    "ExecuteTime": {
     "end_time": "2018-07-03T14:30:39.377531Z",
     "start_time": "2018-07-03T14:30:39.370811Z"
    }
   },
   "outputs": [],
   "source": [
    "log_reg = LogisticRegression(tol=0.0001, random_state=42)\n",
    "stochastic_gd = SGDClassifier(tol=0.0001, loss='log', random_state=42)"
   ]
  },
  {
   "cell_type": "code",
   "execution_count": 4,
   "metadata": {
    "ExecuteTime": {
     "end_time": "2018-07-03T14:30:42.652456Z",
     "start_time": "2018-07-03T14:30:39.380528Z"
    }
   },
   "outputs": [
    {
     "name": "stdout",
     "output_type": "stream",
     "text": [
      "Logistic Regression\n",
      "  Accuracy:   0.9913793103448276\n",
      "  Precision:  0.974169741697417\n",
      "  Recall:     0.9924812030075187\n",
      "\n",
      "CPU times: user 3.2 s, sys: 0 ns, total: 3.2 s\n",
      "Wall time: 3.26 s\n"
     ]
    }
   ],
   "source": [
    "%%time\n",
    "log_reg.fit(X_train, y_train)\n",
    "log_reg_pred = log_reg.predict(X_test)\n",
    "print('Logistic Regression')\n",
    "print('  Accuracy:  ', accuracy_score(y_test, log_reg_pred))\n",
    "print('  Precision: ', precision_score(y_test, log_reg_pred))\n",
    "print('  Recall:    ', recall_score(y_test, log_reg_pred))\n",
    "print()"
   ]
  },
  {
   "cell_type": "code",
   "execution_count": 5,
   "metadata": {
    "ExecuteTime": {
     "end_time": "2018-07-03T14:30:42.779747Z",
     "start_time": "2018-07-03T14:30:42.655133Z"
    }
   },
   "outputs": [
    {
     "name": "stdout",
     "output_type": "stream",
     "text": [
      "Stochastic GD\n",
      "  Accuracy:   0.9808429118773946\n",
      "  Precision:  0.9392857142857143\n",
      "  Recall:     0.9887218045112782\n",
      "\n",
      "CPU times: user 93.8 ms, sys: 31.2 ms, total: 125 ms\n",
      "Wall time: 119 ms\n"
     ]
    }
   ],
   "source": [
    "%%time\n",
    "stochastic_gd.fit(X_train, y_train)\n",
    "stochastic_gd_pred = stochastic_gd.predict(X_test)\n",
    "print('Stochastic GD')\n",
    "print('  Accuracy:  ', accuracy_score(y_test, stochastic_gd_pred))\n",
    "print('  Precision: ', precision_score(y_test, stochastic_gd_pred))\n",
    "print('  Recall:    ', recall_score(y_test, stochastic_gd_pred))\n",
    "print()"
   ]
  },
  {
   "cell_type": "markdown",
   "metadata": {},
   "source": [
    "The results above indicate that `SGDClassifier` is able to find a solution in significantly less time than `LogisticRegression`. Although the evaluation metrics are slightly worse on the `SGDClassifier`, we can improve the `SGDClassifier`'s performance by tuning hyperparameters. Furthermore, this discrepancy is a tradeoff that data scientists often encounter in the real world. Depending on the situation, data scientists might place greater value on the lower runtime or on the higher metrics."
   ]
  },
  {
   "cell_type": "markdown",
   "metadata": {},
   "source": [
    "## Summary\n",
    "\n",
    "Stochastic gradient descent is a method that data scientists use to cut down on computational cost and runtime. We can see the value of stochastic gradient descent in logistic regression, since we would only have to calculate the gradient of the cross entropy loss for one observation at each iteration instead of for every observation in batch gradient descent. From the example using scikit-learn's `SGDClassifier`, we observe that stochastic gradient descent may achieve slightly worse evaluation metrics, but drastically improves runtime. On larger datasets or for more complex models, the difference in runtime might be much larger and thus more valuable."
   ]
  }
 ],
 "metadata": {
  "kernelspec": {
   "display_name": "Python 3",
   "language": "python",
   "name": "python3"
  },
  "language_info": {
   "codemirror_mode": {
    "name": "ipython",
    "version": 3
   },
   "file_extension": ".py",
   "mimetype": "text/x-python",
   "name": "python",
   "nbconvert_exporter": "python",
   "pygments_lexer": "ipython3",
   "version": "3.6.5"
  }
 },
 "nbformat": 4,
 "nbformat_minor": 2
}
