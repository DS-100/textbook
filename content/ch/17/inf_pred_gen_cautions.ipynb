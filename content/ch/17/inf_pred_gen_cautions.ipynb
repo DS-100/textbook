{
 "cells": [
  {
   "cell_type": "code",
   "execution_count": 1,
   "metadata": {
    "tags": [
     "remove-cell"
    ]
   },
   "outputs": [],
   "source": [
    "# Reference: https://jupyterbook.org/interactive/hiding.html\n",
    "# Use {hide, remove}-{input, output, cell} tags to hiding content\n",
    "\n",
    "import sys\n",
    "import os\n",
    "if not any(path.endswith('textbook') for path in sys.path):\n",
    "    sys.path.append(os.path.abspath('../../..'))\n",
    "from textbook_utils import *"
   ]
  },
  {
   "cell_type": "markdown",
   "metadata": {},
   "source": [
    "# A Closer look at testing and intervals"
   ]
  },
  {
   "cell_type": "markdown",
   "metadata": {},
   "source": [
    "\n",
    "+ Sample is clearly not random\n",
    "+ Complete population\n",
    "+ Large n -  Approximations and unimportant differences\n",
    "+ Large p - number of tests, contradictions tests\n"
   ]
  },
  {
   "cell_type": "markdown",
   "metadata": {},
   "source": [
    "The sampling distribution of a statistic often is close to normal. There are distributions that look like the normal but with thicker tails that are used as well. "
   ]
  },
  {
   "cell_type": "markdown",
   "metadata": {},
   "source": [
    "\n",
    "\n",
    "A sample of convenience is where the data is not collected according to a sampling design. In some cases, it may be reasonable to proceed as if the data were collected using a random mechanism\n",
    "\n",
    "\n",
    "The sample is the complete population in which case one might argue that inference is not required since the population and sample values are one and the same. \n",
    "In these situations, we can put a different meaning to the hypothesis tests we are making. We might suppose that if the number of species had no relation to the\n",
    "five geographic variables, then the observed response values would be randomly distributed between the islands without relation to the predictors. We might then ask what the chance would be under this assumption that an F-statistic would be observed as large or larger than one we actually observed.\n",
    "\n",
    "Thus it is possible to give some meaning to the p-value when the sample is the population or for samples of convenience although one has to be clear that one's conclusion apply only the particular sample.\n",
    "Tests involving just one predictor also fall within the permutation test framework. We permute that predictor rather than the response.\n",
    "\n",
    "Another approach that gives meaning to the p-value when the sample is the population involves the imaginative concept of \"alternative worlds\" where the sample/population at hand is supposed to have been randomly selected from parallel universes. This argument is definitely more tenuous.\n",
    "\n",
    "\n",
    "A model is usually only an approximation of underlying reality which makes the meaning of the parameters debatable at the very least. We will say more on the interpretation of parameter estimates later but the precision of the statement that beta* = 0 exactly is at odds with the acknowledged approximate nature of the model. Furthermore, it is highly unlikely that a predictor that one has taken the\n",
    "trouble to measure and analyze has exactly zero effect on the response. It may be small but it won't be zero.\n",
    "\n",
    "The inference depends on the correctness of the model we use. We can partially check the assumptions about the model but there will always be some element of doubt. Sometimes the data may suggest more than one possible model which may lead to contradictory results.\n",
    "\n",
    "Statistical significance is not equivalent to practical significance. The larger the sample, the smaller your p-values will be so don't confuse p-values with a big predictor effect. With large datasets it will be very easy to get statistically significant results, but the actual effects may be unimportant"
   ]
  }
 ],
 "metadata": {
  "kernelspec": {
   "display_name": "Python 3",
   "language": "python",
   "name": "python3"
  },
  "language_info": {
   "codemirror_mode": {
    "name": "ipython",
    "version": 3
   },
   "file_extension": ".py",
   "mimetype": "text/x-python",
   "name": "python",
   "nbconvert_exporter": "python",
   "pygments_lexer": "ipython3",
   "version": "3.9.4"
  }
 },
 "nbformat": 4,
 "nbformat_minor": 4
}
