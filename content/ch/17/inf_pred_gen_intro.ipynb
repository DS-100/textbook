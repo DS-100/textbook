{
 "cells": [
  {
   "cell_type": "markdown",
   "metadata": {},
   "source": [
    "(ch:inf_pred_theory)=\n",
    "# Theory for Inference and Prediction\n",
    "\n",
    "When you want to generalize your findings beyond descriptions for your collection of data to a larger setting, the data needs to be representative of that larger world. For example, you may want to predict air quality at a future time based on a sensor reading ({numref}`Chapter %s <ch:pa>`); test whether an incentive improves the productivity of contributors based on experimental findings ({numref}`Chapter %s <ch:theory_datadesign>`); or construct an interval estimate for the amount of time you might spend waiting for a bus ({numref}`Chapter %s <ch:bus>`). We have touched on all of these scenarios in earlier chapters, and now, in this chapter, we formalize the framework for making predictions and inferences.\n",
    "\n",
    "At the core of this framework is the notion of a distribution, be it a population, empirical (aka sample), or probability distribution. Understanding the connections between these distributions is central to the basics of hypothesis testing, confidence intervals, prediction bands, and risk. We begin with a brief review of the urn model, first introduced in {numref}`Chapter %s <ch:theory_datadesign>`, then introduce formal definitions of hypothesis tests, confidence intervals, and prediction bands. We use simulation in our examples, including the bootstrap as a special case. We wrap up the chapter with formal definitions of expectation, variance, and standard error--essential concepts in the theory of testing, inference, and prediction."
   ]
  }
 ],
 "metadata": {
  "kernelspec": {
   "display_name": "Python 3",
   "language": "python",
   "name": "python3"
  },
  "language_info": {
   "codemirror_mode": {
    "name": "ipython",
    "version": 3
   },
   "file_extension": ".py",
   "mimetype": "text/x-python",
   "name": "python",
   "nbconvert_exporter": "python",
   "pygments_lexer": "ipython3",
   "version": "3.9.4"
  }
 },
 "nbformat": 4,
 "nbformat_minor": 4
}
