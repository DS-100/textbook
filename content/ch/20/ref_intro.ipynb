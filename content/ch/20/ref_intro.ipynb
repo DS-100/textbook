{
 "cells": [
  {
   "cell_type": "markdown",
   "metadata": {},
   "source": [
    "# Reference Tables\n",
    "\n",
    "This appendix contains reference tables for the `pandas`, `seaborn`,\n",
    "`matplotlib`, and `scikit-learn` methods used in the book. It is meant to\n",
    "provide a helpful overview of the small subset of methods that we use most\n",
    "often in this book.\n",
    "\n",
    "For each library, we list the methods used, the chapter where each method is\n",
    "first mentioned, and a brief description of the method's functionality.\n"
   ]
  }
 ],
 "metadata": {
  "kernelspec": {
   "display_name": "Python 3",
   "language": "python",
   "name": "python3"
  },
  "language_info": {
   "codemirror_mode": {
    "name": "ipython",
    "version": 3
   },
   "file_extension": ".py",
   "mimetype": "text/x-python",
   "name": "python",
   "nbconvert_exporter": "python",
   "pygments_lexer": "ipython3",
   "version": "3.8.3"
  }
 },
 "nbformat": 4,
 "nbformat_minor": 2
}
