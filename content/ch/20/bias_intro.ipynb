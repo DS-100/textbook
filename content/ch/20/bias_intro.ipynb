{
 "cells": [
  {
   "cell_type": "markdown",
   "metadata": {},
   "source": [
    "# The Bias-Variance Tradeoff\n",
    "\n",
    "Sometimes, we choose a model that is too simple to represent the underlying\n",
    "data generation process. Other times, we choose a model that is too complex—it\n",
    "fits the noise in the data rather than the data's overall pattern.\n",
    "\n",
    "To understand why this happens, we analyze our models using the tools of\n",
    "probability and statistics. These tools allow us to generalize beyond a few\n",
    "isolated examples to describe fundamental phenomena in modeling. In\n",
    "particular, we will use the tools of expectation and variance to uncover the bias-variance tradeoff.\n"
   ]
  }
 ],
 "metadata": {},
 "nbformat": 4,
 "nbformat_minor": 2
}
