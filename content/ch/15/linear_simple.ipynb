{
 "cells": [
  {
   "cell_type": "code",
   "execution_count": 1,
   "metadata": {
    "tags": [
     "remove-cell"
    ]
   },
   "outputs": [],
   "source": [
    "import sys\n",
    "import os\n",
    "if not any(path.endswith('textbook') for path in sys.path):\n",
    "    sys.path.append(os.path.abspath('../../..'))\n",
    "from textbook_utils import *"
   ]
  },
  {
   "cell_type": "markdown",
   "metadata": {},
   "source": [
    "(sec:linear_simple)=\n",
    "# Simple Linear Model"
   ]
  },
  {
   "cell_type": "markdown",
   "metadata": {},
   "source": [
    "Modeling starts with an outcome variable $ y $ and one or more\n",
    "predictor variables $ x $.\n",
    "When $ y $ is a numeric variable like height or income, we say that we're\n",
    "doing *regression*.\n",
    "When $ y $ is a categorical variable like\n",
    "the presidential candidate on a ballet, we say that we're\n",
    "doing *classification*.\n",
    "We assume that $ x $ is numeric [^feat].\n",
    "\n",
    "[^feat]: Later in this chapter\n",
    "({numref}`Section %s <sec:linear_feature_eng>`) \n",
    "we'll see ways of working with categorical predictor variables."
   ]
  },
  {
   "cell_type": "markdown",
   "metadata": {},
   "source": [
    "When we use a simple linear model,\n",
    "we assume that the outcome $ y $ depends linearly\n",
    "on a single predictor $ x $ with some random measurement error $ \\epsilon $:\n",
    "\n",
    "$$\n",
    "\\begin{aligned}\n",
    "y = \\theta_0 + \\theta_1 x + \\epsilon\n",
    "\\end{aligned}\n",
    "$$\n"
   ]
  },
  {
   "cell_type": "markdown",
   "metadata": {},
   "source": [
    "The simple linear model $ f_{\\theta}(x) $ doesn't try to model the measurement\n",
    "error. Instead, it predicts $ y $ for a single value of $ x $:\n",
    "\n",
    "$$\n",
    "\\begin{aligned}\n",
    "f_{\\theta}(x) = \\theta_0 + \\theta_1 x\n",
    "\\end{aligned}\n",
    "$$\n"
   ]
  },
  {
   "cell_type": "markdown",
   "metadata": {},
   "source": [
    "In the equations above, $ \\theta_0 $ and $ \\theta_1 $ are constants that\n",
    "we call the *model parameters*.\n",
    "Our goal in modeling is to figure out what $ \\theta_0 $ and $ \\theta_1 $\n",
    "are."
   ]
  },
  {
   "cell_type": "markdown",
   "metadata": {},
   "source": [
    ":::{note}\n",
    "\n",
    "We'll work with $ \\epsilon $ more rigorously in future chapters.\n",
    "For now, the important thing to remember is that the model depends on\n",
    "$ x $. When $ \\theta_1 $ is positive, bigger values of $ x $ make the\n",
    "prediction $ f_{\\theta}(x) $ bigger.\n",
    "\n",
    ":::"
   ]
  },
  {
   "cell_type": "markdown",
   "metadata": {},
   "source": [
    "The simple linear model is useful because $ x $ and $ y $ can be any two\n",
    "variables of interest. In this chapter, we'll use linear models to understand\n",
    "what factors contribute to wealth opportunity in the US."
   ]
  },
  {
   "cell_type": "markdown",
   "metadata": {},
   "source": [
    "## Data: Where is the Land of Opportunity?\n",
    "\n",
    "In a famous study, the economist Raj Chetty and his colleagues\n",
    "did a large-scale data analysis on \n",
    "economic mobility in the US {cite}`chettyWhere2014`.\n",
    "The US was nicknamed \"the land of opportunity\" because people believed that\n",
    "even poor people in the US could end up wealthy---an economist would say that\n",
    "the US had high economic mobility. \n",
    "But Chetty had a hunch that some places in the US have much higher economic\n",
    "mobility than others.\n",
    "His analysis found this to be true.\n",
    "Cities like San Jose, Washington DC, and Seattle have higher\n",
    "mobility than places like Charlotte, Milwaukee, and Atlanta.\n",
    "This means that overall, more people with low incomes in San Jose\n",
    "end up with high incomes than people in Charlotte.\n",
    "\n",
    "Chetty also used linear models to find out that social and economic\n",
    "factors like segregation, income inequality, and local school systems \n",
    "are related to economic mobility.\n",
    "To do this analysis, Chetty used government records to get the incomes of\n",
    "everyone born in the US between 1980-82.\n",
    "He took the parent incomes and compared them to their children's incomes\n",
    "in 2011-12, when the children were about 30 years old.\n"
   ]
  }
 ],
 "metadata": {
  "kernelspec": {
   "display_name": "Python 3",
   "language": "python",
   "name": "python3"
  },
  "language_info": {
   "codemirror_mode": {
    "name": "ipython",
    "version": 3
   },
   "file_extension": ".py",
   "mimetype": "text/x-python",
   "name": "python",
   "nbconvert_exporter": "python",
   "pygments_lexer": "ipython3",
   "version": "3.9.4"
  }
 },
 "nbformat": 4,
 "nbformat_minor": 4
}
