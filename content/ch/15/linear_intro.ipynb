{
 "cells": [
  {
   "cell_type": "code",
   "execution_count": 1,
   "metadata": {
    "tags": [
     "remove-cell"
    ]
   },
   "outputs": [],
   "source": [
    "import sys\n",
    "import os\n",
    "if not any(path.endswith('textbook') for path in sys.path):\n",
    "    sys.path.append(os.path.abspath('../../..'))\n",
    "from textbook_utils import *"
   ]
  },
  {
   "cell_type": "markdown",
   "metadata": {},
   "source": [
    "(ch:linear)=\n",
    "# Linear Models"
   ]
  },
  {
   "cell_type": "markdown",
   "metadata": {},
   "source": [
    "In this chapter, we extend the basic modeling process introduced in {numref}`Chapter %s <ch:modeling>`, to the design of *linear models*. These seemingly simple models are capable of expressing complex non-linear relationships between variables, can be made robust to noisy data, and applied to problems at scale.  Linear models, are a key building block in many other more advanced modeling techniques including artificial neural networks and deep learning. But perhaps more critically, linear models are a powerful tool for generalization.  They allow us to make predictions and in some cases gain insights into the underlying phenomena that generated the data.  "
   ]
  },
  {
   "cell_type": "markdown",
   "metadata": {},
   "source": [
    "In this chapter, we start by describing the simple linear model, which\n",
    "models the relationship between a single explanatory variable and an outcome variable.\n",
    "We explain how to fit this model using the loss minimization approach\n",
    "first introduced in {numref}`Chapter %s <ch:modeling>`.\n",
    "Then, we introduce the multiple linear model, which models the relationship\n",
    "between multiple explanatory variables and the outcome.\n",
    "To fit this model, we use linear algebra to reveal the geometry of the modeling problem.\n",
    "Finally, we introduce basic feature engineering techniques that let us include categorical features as explanatory variables, and to transform features to model complex non-linear relationships using linear models. "
   ]
  }
 ],
 "metadata": {
  "kernelspec": {
   "display_name": "Python 3",
   "language": "python",
   "name": "python3"
  },
  "language_info": {
   "codemirror_mode": {
    "name": "ipython",
    "version": 3
   },
   "file_extension": ".py",
   "mimetype": "text/x-python",
   "name": "python",
   "nbconvert_exporter": "python",
   "pygments_lexer": "ipython3",
   "version": "3.9.4"
  }
 },
 "nbformat": 4,
 "nbformat_minor": 4
}
