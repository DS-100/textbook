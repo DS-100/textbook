{
 "cells": [
  {
   "cell_type": "code",
   "execution_count": 1,
   "metadata": {
    "tags": [
     "remove-cell"
    ]
   },
   "outputs": [],
   "source": [
    "import sys\n",
    "import os\n",
    "if not any(path.endswith('textbook') for path in sys.path):\n",
    "    sys.path.append(os.path.abspath('../../..'))\n",
    "from textbook_utils import *"
   ]
  },
  {
   "cell_type": "markdown",
   "metadata": {},
   "source": [
    "(ch:linear)=\n",
    "# Linear Models"
   ]
  },
  {
   "cell_type": "markdown",
   "metadata": {},
   "source": [
    "At this point in the book,\n",
    "we've covered the first three stages of the data science lifecycle.\n",
    "We've talked about asking questions and obtaining data.\n",
    "We've also used exploratory data analysis ({numref}`Chapter %s <ch:eda>`) and \n",
    "simple models ({numref}`Chapter %s <ch:modeling>`)\n",
    "to understand the data.\n",
    "Now, we'll dive deeper into statistical models, which\n",
    "will also lead us into the last stage of the\n",
    "lifecycle---understanding the world.\n",
    "In this chapter, we'll introduce *linear models*, which let us\n",
    "model relationships between variables for the first time in this book."
   ]
  },
  {
   "cell_type": "markdown",
   "metadata": {},
   "source": [
    "Simply put, linear models estimate how much our measurements \n",
    "vary together. \n",
    "Being able to model relationships opens the door to all kinds of useful\n",
    "data analyses.\n",
    "We can use these models to make predictions---for example,\n",
    "data scientists use linear models to predict the future\n",
    "sales of a product based on past trends.\n",
    "We can also use these models to make inferences about how well one variable\n",
    "predicts the outcome.\n",
    "We saw an example of this in {numref}`Chapter %s <ch:pa>`, where we \n",
    "wanted to know how cheap air quality sensor readings were related to\n",
    "expensive ones.\n",
    "In that case study, understanding how the two measurements varied together\n",
    "enabled us to calibrate the cheap sensors. "
   ]
  },
  {
   "cell_type": "markdown",
   "metadata": {},
   "source": [
    "In this chapter, we'll start by explaining the simple linear model, which\n",
    "models the relationship between a single predictor variable and the outcome.\n",
    "We'll explain how to fit this model using the loss minimization approach\n",
    "first introduced in {numref}`Chapter %s <ch:modeling>`.\n",
    "We'll then introduce the multiple linear model, which models the relationship\n",
    "between multiple predictor variables and the outcome.\n",
    "To fit this model, we'll use linear algebra to reveal the geometry of the\n",
    "modeling problem.\n",
    "Finally, we'll go over feature engineering techniques that let us use\n",
    "linear models to model all sorts of relationships, even nonlinear ones."
   ]
  }
 ],
 "metadata": {
  "kernelspec": {
   "display_name": "Python 3",
   "language": "python",
   "name": "python3"
  },
  "language_info": {
   "codemirror_mode": {
    "name": "ipython",
    "version": 3
   },
   "file_extension": ".py",
   "mimetype": "text/x-python",
   "name": "python",
   "nbconvert_exporter": "python",
   "pygments_lexer": "ipython3",
   "version": "3.9.4"
  }
 },
 "nbformat": 4,
 "nbformat_minor": 4
}
