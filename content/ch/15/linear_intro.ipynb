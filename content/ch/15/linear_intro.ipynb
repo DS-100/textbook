{
 "cells": [
  {
   "cell_type": "code",
   "execution_count": 1,
   "metadata": {
    "tags": [
     "remove-cell"
    ]
   },
   "outputs": [],
   "source": [
    "import sys\n",
    "import os\n",
    "if not any(path.endswith('textbook') for path in sys.path):\n",
    "    sys.path.append(os.path.abspath('../../..'))\n",
    "from textbook_utils import *"
   ]
  },
  {
   "cell_type": "markdown",
   "metadata": {},
   "source": [
    "(ch:linear)=\n",
    "# Linear Models"
   ]
  },
  {
   "cell_type": "markdown",
   "metadata": {},
   "source": [
    "At this point in the book,\n",
    "we've covered the first three stages of the data science lifecycle.\n",
    "We've talked about asking questions and obtaining data.\n",
    "We've also used exploratory data analysis ({numref}`Chapter %s <ch:eda>`) and \n",
    "simple models ({numref}`Chapter %s <ch:modeling>`)\n",
    "to understand the data.\n",
    "Now, we'll dive deeper into statistical models.\n",
    "This will lead us into the last stage of the\n",
    "lifecycle---understanding the world.\n",
    "In this chapter, we'll introduce *linear models*, which let us\n",
    "model relationships between variables for the first time in this book."
   ]
  },
  {
   "cell_type": "markdown",
   "metadata": {},
   "source": [
    "Modeling relationships is very useful.\n",
    "For example, we can use linear models to "
   ]
  },
  {
   "cell_type": "markdown",
   "metadata": {},
   "source": [
    "Now that we have a general method for fitting a model to a cost function, we\n",
    "turn our attention to improvements on our model. For the sake of simplicity, we\n",
    "previously restricted ourselves to a constant model: our model only ever\n",
    "predicts a single number.\n",
    "\n",
    "However, giving our waiter such a model would hardly satisfy him. He would\n",
    "likely point out that he collected much more information about his tables than\n",
    "simply the tip percents. Why didn't we use his other data—e.g. size of the\n",
    "table or total bill—in order to make our model more useful?\n",
    "\n",
    "In this chapter we will introduce linear models which will allow us to make use\n",
    "of our entire dataset to make predictions. Linear models are not only widely\n",
    "used in practice but also have rich theoretical underpinnings that will allow\n",
    "us to understand future tools for modeling. We introduce a simple linear regression model that uses one explanatory variable, explain how gradient descent is used to fit the model, and finally extend the model to incorporate multiple explanatory variables."
   ]
  },
  {
   "cell_type": "code",
   "execution_count": null,
   "metadata": {},
   "outputs": [],
   "source": []
  }
 ],
 "metadata": {
  "kernelspec": {
   "display_name": "Python 3",
   "language": "python",
   "name": "python3"
  },
  "language_info": {
   "codemirror_mode": {
    "name": "ipython",
    "version": 3
   },
   "file_extension": ".py",
   "mimetype": "text/x-python",
   "name": "python",
   "nbconvert_exporter": "python",
   "pygments_lexer": "ipython3",
   "version": "3.9.4"
  }
 },
 "nbformat": 4,
 "nbformat_minor": 4
}
