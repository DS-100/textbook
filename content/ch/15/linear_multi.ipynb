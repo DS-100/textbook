{
 "cells": [
  {
   "cell_type": "code",
   "execution_count": 19,
   "metadata": {
    "tags": [
     "remove-cell"
    ]
   },
   "outputs": [],
   "source": [
    "import sys\n",
    "import os\n",
    "if not any(path.endswith('textbook') for path in sys.path):\n",
    "    sys.path.append(os.path.abspath('../../..'))\n",
    "from textbook_utils import *"
   ]
  },
  {
   "cell_type": "code",
   "execution_count": 20,
   "metadata": {
    "tags": [
     "remove-cell"
    ]
   },
   "outputs": [],
   "source": [
    "csv_file = 'data/Full24hrdataset.csv'\n",
    "usecols = ['Date', 'ID', 'region', 'PM25FM', 'PM25cf1', 'RH']\n",
    "full = (pd.read_csv(csv_file, usecols=usecols, parse_dates=['Date'])\n",
    "        .dropna())\n",
    "full.columns = ['date', 'id', 'region', 'pm25aqs', 'pm25pa', 'rh']\n",
    "\n",
    "bad_dates = ['2019-08-21', '2019-08-22', '2019-09-24']\n",
    "GA = full.loc[(full['id'] == 'GA1') & (~full['date'].isin(bad_dates)) , :]"
   ]
  },
  {
   "cell_type": "markdown",
   "metadata": {
    "user_expressions": []
   },
   "source": [
    "(sec:linear_multi)=\n",
    "# Multiple Linear Model"
   ]
  },
  {
   "cell_type": "markdown",
   "metadata": {
    "user_expressions": []
   },
   "source": [
    "So far in this chapter, we've used a single input variable to predict an outcome variable.\n",
    "Now we introduce the *multiple linear model* that uses\n",
    "more than one feature to predict (or describe or explain) the outcome.\n",
    "Having multiple explanatory features can improve our model's fit to the data and improve predictions."
   ]
  },
  {
   "cell_type": "markdown",
   "metadata": {
    "user_expressions": []
   },
   "source": [
    "We start by generalizing from a simple linear model to one that includes a second explanatory variable, called $v$. This model is linear in both $x$ and $v$; meaning that for a pair of values for $x$ and $v$, we can describe, explain, or predict $y$ by the linear combination: \n",
    "\n",
    "$$ y \\approx \\theta_0 + \\theta_1 x + \\theta_2 v$$\n",
    "\n",
    "Notice that for a particular value of $v$, say $v^\\star$, we can re-express the preceding equation as:\n",
    "\n",
    "$$ y \\approx (\\theta_0 + \\theta_2 v^\\star) ~+~ \\theta_1 x$$\n",
    "\n",
    "In other words, when we hold $v$ constant at $v^\\star$, we have a simple linear relation between $x$ and $y$ with slope $\\theta_1$ and intercept $\\theta_0 + \\theta_2 v^\\star$. \n",
    "For a different value of $v$, say $v^\\dagger$,  we again have a simple linear relationship between $x$ and $y$. The slope for $x$ remains the same and the only change is the intercept, which is now $\\theta_0 + \\theta_2v^\\dagger$."
   ]
  },
  {
   "cell_type": "markdown",
   "metadata": {
    "user_expressions": []
   },
   "source": [
    "With multiple linear regression, we need to remember to interpret the coefficient $\\theta_1$ of $x$ in the presence of the other variables in the model. Holding fixed the values of the other variables in the model (that's just $v$ in this case), an increase of 1 unit in $x$ corresponds to a $\\theta_1$ change in $y$, on average. One way to visualize this kind of multiple linear relationship is to create facets of scatter plots of $(x, y)$ where in each plot the values of $v$ are roughly the same. We make such a scatter plot for the air quality measurements next, and provide examples of additional visualizations and statistics to examine when fitting a multiple linear model.    "
   ]
  },
  {
   "cell_type": "markdown",
   "metadata": {
    "user_expressions": []
   },
   "source": [
    "The scientists who studied the air quality monitors (see {numref}`Chapter %s <ch:pa>`) were looking for an improved model that incorporated weather factors.\n",
    "One weather variable they examined was a daily measurement for relative humidity.  Let's consider a two-variable linear model to explain the PurpleAir measurements based on the AQS sensor measurements and relative humidity. This model has the following form:\n",
    "\n",
    "$$ PA \\approx \\theta_0 + \\theta_1 AQ + \\theta_2 RH$$\n",
    "\n",
    "where $PA$, $AQ$, and $RH$ refer to the variables: the PurpleAir average daily measurement, AQS measurement, and relative humidity, respectively.\n",
    "\n",
    "For a first step, we make a facet plot to compare the relationship between the two air quality measurements for fixed values of humidity. To do this, we transform relative humidity to a categorical variable so that each facet consists of observations with similar humidity:"
   ]
  },
  {
   "cell_type": "code",
   "execution_count": 21,
   "metadata": {},
   "outputs": [],
   "source": [
    "rh_cat = pd.cut(GA['rh'], bins=[43,50,55,60,78], \n",
    "                labels=['<50','50-55','55-60','>60'])"
   ]
  },
  {
   "cell_type": "markdown",
   "metadata": {
    "user_expressions": []
   },
   "source": [
    "Then we use this qualitative feature to subdivide the data into a two-by-two panel of scatterplots: "
   ]
  },
  {
   "cell_type": "code",
   "execution_count": 32,
   "metadata": {
    "tags": []
   },
   "outputs": [
    {
     "data": {
      "application/vnd.plotly.v1+json": {
       "config": {
        "plotlyServerURL": "https://plot.ly"
       },
       "data": [
        {
         "hovertemplate": "facet_col=55-60<br>AQS PM2.5=%{x}<br>PurpleAir PM2.5=%{y}<extra></extra>",
         "legendgroup": "",
         "marker": {
          "color": "#1F77B4",
          "symbol": "circle"
         },
         "mode": "markers",
         "name": "",
         "orientation": "v",
         "showlegend": false,
         "type": "scatter",
         "x": [
          8.645833,
          7.704167,
          6.3,
          9.441667,
          9.754167,
          11.020833,
          11.679167,
          6.686957,
          7.478261,
          7.278261,
          9.533333,
          9.759091,
          10.4,
          9.854167,
          13.995833,
          11.733333,
          12.83913,
          10.782609,
          7.65,
          7.133333,
          5.741667,
          6,
          8.295833,
          6.3,
          7.725,
          9.516667,
          10.833333,
          13.870833,
          8.156522,
          13.5125,
          13.9375,
          11,
          11.5,
          12.9,
          7,
          7.9,
          5.9,
          8.9,
          9.3,
          10.1,
          9.3,
          12.1,
          9.5,
          12,
          9.5,
          5.4,
          5.8,
          5.7,
          4.2,
          8,
          5.9,
          7.8,
          5.9,
          11.5,
          7.7,
          5.9,
          9.1,
          13.3,
          6.8,
          4.5
         ],
         "xaxis": "x3",
         "y": [
          16.189375,
          13.5925486111111,
          10.3005709238043,
          17.5458402777778,
          19.2110265363129,
          21.6665694444444,
          25.6766180555556,
          11.3800432917262,
          12.5601805555556,
          9.85393305439331,
          15.917875,
          16.7362361111111,
          20.2967430555556,
          17.6836180555556,
          28.7283101529903,
          23.1521736111111,
          23.2944652777778,
          17.830875,
          8.04743055555556,
          8.51965972222222,
          7.42860416666667,
          10.0599235048679,
          13.4507293598362,
          9.77823119777159,
          13.5492569444444,
          14.8651736111111,
          18.7000486111111,
          24.6267385257302,
          13.0367696629213,
          23.3369027777778,
          25.8159791666667,
          19.2110265363129,
          21.6665694444444,
          25.6766180555556,
          11.3800432917262,
          12.5601805555556,
          9.85393305439331,
          15.917875,
          16.7362361111111,
          20.2967430555556,
          17.6836180555556,
          28.7283101529903,
          23.1521736111111,
          23.2944652777778,
          17.830875,
          8.04743055555556,
          8.51965972222222,
          7.42860416666667,
          10.0599235048679,
          13.4507293598362,
          9.77823119777159,
          13.5492569444444,
          10.3005709238043,
          19.2110265363129,
          12.5601805555556,
          9.85393305439331,
          15.917875,
          23.2944652777778,
          8.04743055555556,
          10.0599235048679
         ],
         "yaxis": "y3"
        },
        {
         "hovertemplate": "facet_col=>60<br>AQS PM2.5=%{x}<br>PurpleAir PM2.5=%{y}<extra></extra>",
         "legendgroup": "",
         "marker": {
          "color": "#1F77B4",
          "symbol": "circle"
         },
         "mode": "markers",
         "name": "",
         "orientation": "v",
         "showlegend": false,
         "type": "scatter",
         "x": [
          8.025,
          6.9625,
          5.629167,
          6.15,
          6.366667,
          7.495833,
          8.566667,
          8.15,
          7.9625,
          11.445833,
          6.391667,
          4.804167,
          14.2,
          6.145833,
          12.220833,
          7.5,
          4.8,
          6.2,
          5.4,
          6.7,
          9.2,
          6.9,
          6.8,
          11.9,
          5,
          3.1,
          5,
          9.9,
          7.5,
          5.2
         ],
         "xaxis": "x4",
         "y": [
          14.7903058742853,
          11.7940416666667,
          7.89279861111111,
          10.2429930555556,
          11.2007361111111,
          11.9909027777778,
          20.3900555555556,
          13.6182847222222,
          13.0892230794421,
          25.4701458333333,
          14.5480216736208,
          7.63855354659249,
          26.9433888888889,
          10.3297708333333,
          21.3630528511822,
          11.7940416666667,
          7.89279861111111,
          10.2429930555556,
          11.2007361111111,
          11.9909027777778,
          20.3900555555556,
          13.6182847222222,
          13.0892230794421,
          25.4701458333333,
          14.5480216736208,
          7.63855354659249,
          7.89279861111111,
          20.3900555555556,
          13.6182847222222,
          14.5480216736208
         ],
         "yaxis": "y4"
        },
        {
         "hovertemplate": "facet_col=50-55<br>AQS PM2.5=%{x}<br>PurpleAir PM2.5=%{y}<extra></extra>",
         "legendgroup": "",
         "marker": {
          "color": "#1F77B4",
          "symbol": "circle"
         },
         "mode": "markers",
         "name": "",
         "orientation": "v",
         "showlegend": false,
         "type": "scatter",
         "x": [
          11.745833,
          8.9125,
          11.808333,
          10.125,
          10.395833,
          5.433333,
          5.504167,
          7.833333,
          8.8875,
          15.454167,
          14.845833,
          11.454167,
          11.520833,
          7.408333,
          9.4875,
          10.475,
          15.779167,
          16.995833,
          17.625,
          8.866667,
          6.804167,
          5.479167,
          4.304167,
          7.2,
          10.708333,
          7.2875,
          9.345833,
          10.854167,
          8.979167,
          11.2,
          8.5,
          12.5,
          10.4,
          10.4,
          5.1,
          6.5,
          7.2,
          8.3,
          14.7,
          14.2,
          12.1,
          11.4,
          7.1,
          8.5,
          10,
          13.5,
          15.8,
          16.3,
          8.6,
          6.3,
          4.4,
          4.3,
          11.3,
          12.3,
          14.7,
          11.9,
          7.8,
          17.9,
          8.9,
          6.3
         ],
         "xaxis": "x",
         "y": [
          22.3404027777778,
          14.5682766385455,
          25.0813977746871,
          18.0511111111111,
          19.4304166666667,
          7.9386875,
          7.53994444444444,
          11.6666944444444,
          15.1454861111111,
          29.1896527777778,
          27.2041041666667,
          20.7385694444444,
          20.6703203342618,
          9.15297222222222,
          14.5964812239221,
          17.2498194444444,
          31.2008680555556,
          34.2497529693147,
          34.9209166666667,
          13.4541805555556,
          12.9443611111111,
          7.56710416666667,
          4.54415972222222,
          12.0913333333333,
          18.2288550724638,
          12.3139733333333,
          13.5520694444444,
          19.8465763888889,
          13.103125,
          22.3404027777778,
          14.5682766385455,
          25.0813977746871,
          18.0511111111111,
          19.4304166666667,
          7.9386875,
          7.53994444444444,
          11.6666944444444,
          15.1454861111111,
          29.1896527777778,
          27.2041041666667,
          20.7385694444444,
          20.6703203342618,
          9.15297222222222,
          14.5964812239221,
          17.2498194444444,
          31.2008680555556,
          34.2497529693147,
          34.9209166666667,
          13.4541805555556,
          12.9443611111111,
          7.56710416666667,
          4.54415972222222,
          22.3404027777778,
          25.0813977746871,
          29.1896527777778,
          20.6703203342618,
          9.15297222222222,
          34.9209166666667,
          13.4541805555556,
          12.9443611111111
         ],
         "yaxis": "y"
        },
        {
         "hovertemplate": "facet_col=<50<br>AQS PM2.5=%{x}<br>PurpleAir PM2.5=%{y}<extra></extra>",
         "legendgroup": "",
         "marker": {
          "color": "#1F77B4",
          "symbol": "circle"
         },
         "mode": "markers",
         "name": "",
         "orientation": "v",
         "showlegend": false,
         "type": "scatter",
         "x": [
          8.604167,
          6.975,
          12.783333,
          6.85,
          7.929167,
          7.866667,
          8.579167,
          11.275,
          13.658333,
          5.0375,
          6.295833,
          10.826087,
          9.854167,
          9.5,
          6.6,
          13.1,
          6.9,
          7.6,
          7.8,
          9.3,
          10.1,
          12.2,
          4.2,
          9.5,
          8.1,
          11.4
         ],
         "xaxis": "x2",
         "y": [
          15.4784444444444,
          9.99670833333333,
          22.4718680555556,
          8.64885416666667,
          10.8636319444444,
          10.4440833333333,
          11.8642222222222,
          19.6090347222222,
          23.6401180555556,
          6.38982638888889,
          8.49286111111111,
          16.6307152777778,
          18.6737222222222,
          15.4784444444444,
          9.99670833333333,
          22.4718680555556,
          8.64885416666667,
          10.8636319444444,
          10.4440833333333,
          11.8642222222222,
          19.6090347222222,
          23.6401180555556,
          6.38982638888889,
          15.4784444444444,
          10.4440833333333,
          19.6090347222222
         ],
         "yaxis": "y2"
        }
       ],
       "layout": {
        "annotations": [
         {
          "font": {},
          "showarrow": false,
          "text": "facet_col=50-55",
          "x": 0.245,
          "xanchor": "center",
          "xref": "paper",
          "y": 0.425,
          "yanchor": "bottom",
          "yref": "paper"
         },
         {
          "font": {},
          "showarrow": false,
          "text": "facet_col=<50",
          "x": 0.755,
          "xanchor": "center",
          "xref": "paper",
          "y": 0.425,
          "yanchor": "bottom",
          "yref": "paper"
         },
         {
          "font": {},
          "showarrow": false,
          "text": "facet_col=55-60",
          "x": 0.245,
          "xanchor": "center",
          "xref": "paper",
          "y": 1,
          "yanchor": "bottom",
          "yref": "paper"
         },
         {
          "font": {},
          "showarrow": false,
          "text": "facet_col=>60",
          "x": 0.755,
          "xanchor": "center",
          "xref": "paper",
          "y": 1,
          "yanchor": "bottom",
          "yref": "paper"
         }
        ],
        "height": 350,
        "legend": {
         "tracegroupgap": 0
        },
        "margin": {
         "t": 30
        },
        "template": {
         "data": {
          "bar": [
           {
            "error_x": {
             "color": "rgb(36,36,36)"
            },
            "error_y": {
             "color": "rgb(36,36,36)"
            },
            "marker": {
             "line": {
              "color": "white",
              "width": 0.5
             },
             "pattern": {
              "fillmode": "overlay",
              "size": 10,
              "solidity": 0.2
             }
            },
            "type": "bar"
           }
          ],
          "barpolar": [
           {
            "marker": {
             "line": {
              "color": "white",
              "width": 0.5
             },
             "pattern": {
              "fillmode": "overlay",
              "size": 10,
              "solidity": 0.2
             }
            },
            "type": "barpolar"
           }
          ],
          "carpet": [
           {
            "aaxis": {
             "endlinecolor": "rgb(36,36,36)",
             "gridcolor": "white",
             "linecolor": "white",
             "minorgridcolor": "white",
             "startlinecolor": "rgb(36,36,36)"
            },
            "baxis": {
             "endlinecolor": "rgb(36,36,36)",
             "gridcolor": "white",
             "linecolor": "white",
             "minorgridcolor": "white",
             "startlinecolor": "rgb(36,36,36)"
            },
            "type": "carpet"
           }
          ],
          "choropleth": [
           {
            "colorbar": {
             "outlinewidth": 1,
             "tickcolor": "rgb(36,36,36)",
             "ticks": "outside"
            },
            "type": "choropleth"
           }
          ],
          "contour": [
           {
            "colorbar": {
             "outlinewidth": 1,
             "tickcolor": "rgb(36,36,36)",
             "ticks": "outside"
            },
            "colorscale": [
             [
              0,
              "#440154"
             ],
             [
              0.1111111111111111,
              "#482878"
             ],
             [
              0.2222222222222222,
              "#3e4989"
             ],
             [
              0.3333333333333333,
              "#31688e"
             ],
             [
              0.4444444444444444,
              "#26828e"
             ],
             [
              0.5555555555555556,
              "#1f9e89"
             ],
             [
              0.6666666666666666,
              "#35b779"
             ],
             [
              0.7777777777777778,
              "#6ece58"
             ],
             [
              0.8888888888888888,
              "#b5de2b"
             ],
             [
              1,
              "#fde725"
             ]
            ],
            "type": "contour"
           }
          ],
          "contourcarpet": [
           {
            "colorbar": {
             "outlinewidth": 1,
             "tickcolor": "rgb(36,36,36)",
             "ticks": "outside"
            },
            "type": "contourcarpet"
           }
          ],
          "heatmap": [
           {
            "colorbar": {
             "outlinewidth": 1,
             "tickcolor": "rgb(36,36,36)",
             "ticks": "outside"
            },
            "colorscale": [
             [
              0,
              "#440154"
             ],
             [
              0.1111111111111111,
              "#482878"
             ],
             [
              0.2222222222222222,
              "#3e4989"
             ],
             [
              0.3333333333333333,
              "#31688e"
             ],
             [
              0.4444444444444444,
              "#26828e"
             ],
             [
              0.5555555555555556,
              "#1f9e89"
             ],
             [
              0.6666666666666666,
              "#35b779"
             ],
             [
              0.7777777777777778,
              "#6ece58"
             ],
             [
              0.8888888888888888,
              "#b5de2b"
             ],
             [
              1,
              "#fde725"
             ]
            ],
            "type": "heatmap"
           }
          ],
          "heatmapgl": [
           {
            "colorbar": {
             "outlinewidth": 1,
             "tickcolor": "rgb(36,36,36)",
             "ticks": "outside"
            },
            "colorscale": [
             [
              0,
              "#440154"
             ],
             [
              0.1111111111111111,
              "#482878"
             ],
             [
              0.2222222222222222,
              "#3e4989"
             ],
             [
              0.3333333333333333,
              "#31688e"
             ],
             [
              0.4444444444444444,
              "#26828e"
             ],
             [
              0.5555555555555556,
              "#1f9e89"
             ],
             [
              0.6666666666666666,
              "#35b779"
             ],
             [
              0.7777777777777778,
              "#6ece58"
             ],
             [
              0.8888888888888888,
              "#b5de2b"
             ],
             [
              1,
              "#fde725"
             ]
            ],
            "type": "heatmapgl"
           }
          ],
          "histogram": [
           {
            "marker": {
             "line": {
              "color": "white",
              "width": 0.6
             }
            },
            "type": "histogram"
           }
          ],
          "histogram2d": [
           {
            "colorbar": {
             "outlinewidth": 1,
             "tickcolor": "rgb(36,36,36)",
             "ticks": "outside"
            },
            "colorscale": [
             [
              0,
              "#440154"
             ],
             [
              0.1111111111111111,
              "#482878"
             ],
             [
              0.2222222222222222,
              "#3e4989"
             ],
             [
              0.3333333333333333,
              "#31688e"
             ],
             [
              0.4444444444444444,
              "#26828e"
             ],
             [
              0.5555555555555556,
              "#1f9e89"
             ],
             [
              0.6666666666666666,
              "#35b779"
             ],
             [
              0.7777777777777778,
              "#6ece58"
             ],
             [
              0.8888888888888888,
              "#b5de2b"
             ],
             [
              1,
              "#fde725"
             ]
            ],
            "type": "histogram2d"
           }
          ],
          "histogram2dcontour": [
           {
            "colorbar": {
             "outlinewidth": 1,
             "tickcolor": "rgb(36,36,36)",
             "ticks": "outside"
            },
            "colorscale": [
             [
              0,
              "#440154"
             ],
             [
              0.1111111111111111,
              "#482878"
             ],
             [
              0.2222222222222222,
              "#3e4989"
             ],
             [
              0.3333333333333333,
              "#31688e"
             ],
             [
              0.4444444444444444,
              "#26828e"
             ],
             [
              0.5555555555555556,
              "#1f9e89"
             ],
             [
              0.6666666666666666,
              "#35b779"
             ],
             [
              0.7777777777777778,
              "#6ece58"
             ],
             [
              0.8888888888888888,
              "#b5de2b"
             ],
             [
              1,
              "#fde725"
             ]
            ],
            "type": "histogram2dcontour"
           }
          ],
          "mesh3d": [
           {
            "colorbar": {
             "outlinewidth": 1,
             "tickcolor": "rgb(36,36,36)",
             "ticks": "outside"
            },
            "type": "mesh3d"
           }
          ],
          "parcoords": [
           {
            "line": {
             "colorbar": {
              "outlinewidth": 1,
              "tickcolor": "rgb(36,36,36)",
              "ticks": "outside"
             }
            },
            "type": "parcoords"
           }
          ],
          "pie": [
           {
            "automargin": true,
            "type": "pie"
           }
          ],
          "scatter": [
           {
            "fillpattern": {
             "fillmode": "overlay",
             "size": 10,
             "solidity": 0.2
            },
            "type": "scatter"
           }
          ],
          "scatter3d": [
           {
            "line": {
             "colorbar": {
              "outlinewidth": 1,
              "tickcolor": "rgb(36,36,36)",
              "ticks": "outside"
             }
            },
            "marker": {
             "colorbar": {
              "outlinewidth": 1,
              "tickcolor": "rgb(36,36,36)",
              "ticks": "outside"
             }
            },
            "type": "scatter3d"
           }
          ],
          "scattercarpet": [
           {
            "marker": {
             "colorbar": {
              "outlinewidth": 1,
              "tickcolor": "rgb(36,36,36)",
              "ticks": "outside"
             }
            },
            "type": "scattercarpet"
           }
          ],
          "scattergeo": [
           {
            "marker": {
             "colorbar": {
              "outlinewidth": 1,
              "tickcolor": "rgb(36,36,36)",
              "ticks": "outside"
             }
            },
            "type": "scattergeo"
           }
          ],
          "scattergl": [
           {
            "marker": {
             "colorbar": {
              "outlinewidth": 1,
              "tickcolor": "rgb(36,36,36)",
              "ticks": "outside"
             }
            },
            "type": "scattergl"
           }
          ],
          "scattermapbox": [
           {
            "marker": {
             "colorbar": {
              "outlinewidth": 1,
              "tickcolor": "rgb(36,36,36)",
              "ticks": "outside"
             }
            },
            "type": "scattermapbox"
           }
          ],
          "scatterpolar": [
           {
            "marker": {
             "colorbar": {
              "outlinewidth": 1,
              "tickcolor": "rgb(36,36,36)",
              "ticks": "outside"
             }
            },
            "type": "scatterpolar"
           }
          ],
          "scatterpolargl": [
           {
            "marker": {
             "colorbar": {
              "outlinewidth": 1,
              "tickcolor": "rgb(36,36,36)",
              "ticks": "outside"
             }
            },
            "type": "scatterpolargl"
           }
          ],
          "scatterternary": [
           {
            "marker": {
             "colorbar": {
              "outlinewidth": 1,
              "tickcolor": "rgb(36,36,36)",
              "ticks": "outside"
             }
            },
            "type": "scatterternary"
           }
          ],
          "surface": [
           {
            "colorbar": {
             "outlinewidth": 1,
             "tickcolor": "rgb(36,36,36)",
             "ticks": "outside"
            },
            "colorscale": [
             [
              0,
              "#440154"
             ],
             [
              0.1111111111111111,
              "#482878"
             ],
             [
              0.2222222222222222,
              "#3e4989"
             ],
             [
              0.3333333333333333,
              "#31688e"
             ],
             [
              0.4444444444444444,
              "#26828e"
             ],
             [
              0.5555555555555556,
              "#1f9e89"
             ],
             [
              0.6666666666666666,
              "#35b779"
             ],
             [
              0.7777777777777778,
              "#6ece58"
             ],
             [
              0.8888888888888888,
              "#b5de2b"
             ],
             [
              1,
              "#fde725"
             ]
            ],
            "type": "surface"
           }
          ],
          "table": [
           {
            "cells": {
             "fill": {
              "color": "rgb(237,237,237)"
             },
             "line": {
              "color": "white"
             }
            },
            "header": {
             "fill": {
              "color": "rgb(217,217,217)"
             },
             "line": {
              "color": "white"
             }
            },
            "type": "table"
           }
          ]
         },
         "layout": {
          "annotationdefaults": {
           "arrowhead": 0,
           "arrowwidth": 1
          },
          "autosize": true,
          "autotypenumbers": "strict",
          "coloraxis": {
           "colorbar": {
            "outlinewidth": 1,
            "tickcolor": "rgb(36,36,36)",
            "ticks": "outside"
           }
          },
          "colorscale": {
           "diverging": [
            [
             0,
             "rgb(103,0,31)"
            ],
            [
             0.1,
             "rgb(178,24,43)"
            ],
            [
             0.2,
             "rgb(214,96,77)"
            ],
            [
             0.3,
             "rgb(244,165,130)"
            ],
            [
             0.4,
             "rgb(253,219,199)"
            ],
            [
             0.5,
             "rgb(247,247,247)"
            ],
            [
             0.6,
             "rgb(209,229,240)"
            ],
            [
             0.7,
             "rgb(146,197,222)"
            ],
            [
             0.8,
             "rgb(67,147,195)"
            ],
            [
             0.9,
             "rgb(33,102,172)"
            ],
            [
             1,
             "rgb(5,48,97)"
            ]
           ],
           "sequential": [
            [
             0,
             "#440154"
            ],
            [
             0.1111111111111111,
             "#482878"
            ],
            [
             0.2222222222222222,
             "#3e4989"
            ],
            [
             0.3333333333333333,
             "#31688e"
            ],
            [
             0.4444444444444444,
             "#26828e"
            ],
            [
             0.5555555555555556,
             "#1f9e89"
            ],
            [
             0.6666666666666666,
             "#35b779"
            ],
            [
             0.7777777777777778,
             "#6ece58"
            ],
            [
             0.8888888888888888,
             "#b5de2b"
            ],
            [
             1,
             "#fde725"
            ]
           ],
           "sequentialminus": [
            [
             0,
             "#440154"
            ],
            [
             0.1111111111111111,
             "#482878"
            ],
            [
             0.2222222222222222,
             "#3e4989"
            ],
            [
             0.3333333333333333,
             "#31688e"
            ],
            [
             0.4444444444444444,
             "#26828e"
            ],
            [
             0.5555555555555556,
             "#1f9e89"
            ],
            [
             0.6666666666666666,
             "#35b779"
            ],
            [
             0.7777777777777778,
             "#6ece58"
            ],
            [
             0.8888888888888888,
             "#b5de2b"
            ],
            [
             1,
             "#fde725"
            ]
           ]
          },
          "colorway": [
           "#1F77B4",
           "#FF7F0E",
           "#2CA02C",
           "#D62728",
           "#9467BD",
           "#8C564B",
           "#E377C2",
           "#7F7F7F",
           "#BCBD22",
           "#17BECF"
          ],
          "font": {
           "color": "rgb(36,36,36)"
          },
          "geo": {
           "bgcolor": "white",
           "lakecolor": "white",
           "landcolor": "white",
           "showlakes": true,
           "showland": true,
           "subunitcolor": "white"
          },
          "height": 250,
          "hoverlabel": {
           "align": "left"
          },
          "hovermode": "closest",
          "mapbox": {
           "style": "light"
          },
          "margin": {
           "b": 10,
           "l": 10,
           "r": 10,
           "t": 10
          },
          "paper_bgcolor": "white",
          "plot_bgcolor": "white",
          "polar": {
           "angularaxis": {
            "gridcolor": "rgb(232,232,232)",
            "linecolor": "rgb(36,36,36)",
            "showgrid": false,
            "showline": true,
            "ticks": "outside"
           },
           "bgcolor": "white",
           "radialaxis": {
            "gridcolor": "rgb(232,232,232)",
            "linecolor": "rgb(36,36,36)",
            "showgrid": false,
            "showline": true,
            "ticks": "outside"
           }
          },
          "scene": {
           "xaxis": {
            "backgroundcolor": "white",
            "gridcolor": "rgb(232,232,232)",
            "gridwidth": 2,
            "linecolor": "rgb(36,36,36)",
            "showbackground": true,
            "showgrid": false,
            "showline": true,
            "ticks": "outside",
            "zeroline": false,
            "zerolinecolor": "rgb(36,36,36)"
           },
           "yaxis": {
            "backgroundcolor": "white",
            "gridcolor": "rgb(232,232,232)",
            "gridwidth": 2,
            "linecolor": "rgb(36,36,36)",
            "showbackground": true,
            "showgrid": false,
            "showline": true,
            "ticks": "outside",
            "zeroline": false,
            "zerolinecolor": "rgb(36,36,36)"
           },
           "zaxis": {
            "backgroundcolor": "white",
            "gridcolor": "rgb(232,232,232)",
            "gridwidth": 2,
            "linecolor": "rgb(36,36,36)",
            "showbackground": true,
            "showgrid": false,
            "showline": true,
            "ticks": "outside",
            "zeroline": false,
            "zerolinecolor": "rgb(36,36,36)"
           }
          },
          "shapedefaults": {
           "fillcolor": "black",
           "line": {
            "width": 0
           },
           "opacity": 0.3
          },
          "ternary": {
           "aaxis": {
            "gridcolor": "rgb(232,232,232)",
            "linecolor": "rgb(36,36,36)",
            "showgrid": false,
            "showline": true,
            "ticks": "outside"
           },
           "baxis": {
            "gridcolor": "rgb(232,232,232)",
            "linecolor": "rgb(36,36,36)",
            "showgrid": false,
            "showline": true,
            "ticks": "outside"
           },
           "bgcolor": "white",
           "caxis": {
            "gridcolor": "rgb(232,232,232)",
            "linecolor": "rgb(36,36,36)",
            "showgrid": false,
            "showline": true,
            "ticks": "outside"
           }
          },
          "title": {
           "x": 0.5,
           "xanchor": "center"
          },
          "width": 350,
          "xaxis": {
           "automargin": true,
           "gridcolor": "rgb(232,232,232)",
           "linecolor": "rgb(36,36,36)",
           "showgrid": true,
           "showline": true,
           "ticks": "outside",
           "title": {
            "standoff": 15
           },
           "zeroline": false,
           "zerolinecolor": "rgb(36,36,36)"
          },
          "yaxis": {
           "automargin": true,
           "gridcolor": "rgb(232,232,232)",
           "linecolor": "rgb(36,36,36)",
           "showgrid": true,
           "showline": true,
           "ticks": "outside",
           "title": {
            "standoff": 15
           },
           "zeroline": false,
           "zerolinecolor": "rgb(36,36,36)"
          }
         }
        },
        "width": 550,
        "xaxis": {
         "anchor": "y",
         "autorange": true,
         "domain": [
          0,
          0.49
         ],
         "range": [
          1.9777010554590444,
          19.022298944540953
         ],
         "title": {
          "text": "AQS PM2.5"
         },
         "type": "linear"
        },
        "xaxis2": {
         "anchor": "y2",
         "autorange": true,
         "domain": [
          0.51,
          1
         ],
         "matches": "x",
         "range": [
          1.9777010554590444,
          19.022298944540953
         ],
         "title": {
          "text": "AQS PM2.5"
         },
         "type": "linear"
        },
        "xaxis3": {
         "anchor": "y3",
         "autorange": true,
         "domain": [
          0,
          0.49
         ],
         "matches": "x",
         "range": [
          1.9777010554590444,
          19.022298944540953
         ],
         "showticklabels": false,
         "type": "linear"
        },
        "xaxis4": {
         "anchor": "y4",
         "autorange": true,
         "domain": [
          0.51,
          1
         ],
         "matches": "x",
         "range": [
          1.9777010554590444,
          19.022298944540953
         ],
         "showticklabels": false,
         "type": "linear"
        },
        "yaxis": {
         "anchor": "x",
         "autorange": true,
         "domain": [
          0,
          0.425
         ],
         "range": [
          1.485757461427895,
          37.97931892746102
         ],
         "title": {
          "text": "PurpleAir PM2.5"
         },
         "type": "linear"
        },
        "yaxis2": {
         "anchor": "x2",
         "autorange": true,
         "domain": [
          0,
          0.425
         ],
         "matches": "y",
         "range": [
          1.485757461427895,
          37.97931892746102
         ],
         "showticklabels": false,
         "type": "linear"
        },
        "yaxis3": {
         "anchor": "x3",
         "autorange": true,
         "domain": [
          0.575,
          1
         ],
         "matches": "y",
         "range": [
          1.485757461427895,
          37.97931892746102
         ],
         "title": {
          "text": "PurpleAir PM2.5"
         },
         "type": "linear"
        },
        "yaxis4": {
         "anchor": "x4",
         "autorange": true,
         "domain": [
          0.575,
          1
         ],
         "matches": "y",
         "range": [
          1.485757461427895,
          37.97931892746102
         ],
         "showticklabels": false,
         "type": "linear"
        }
       }
      },
      "image/png": "[encoded data removed]",
      "image/svg+xml": [
       "<svg class=\"main-svg\" xmlns=\"http://www.w3.org/2000/svg\" xmlns:xlink=\"http://www.w3.org/1999/xlink\" width=\"550\" height=\"350\" style=\"\" viewBox=\"0 0 550 350\"><rect x=\"0\" y=\"0\" width=\"550\" height=\"350\" style=\"fill: rgb(255, 255, 255); fill-opacity: 1;\"/><defs id=\"defs-f6dc21\"><g class=\"clips\"><clipPath id=\"clipf6dc21xyplot\" class=\"plotclip\"><rect width=\"236.18\" height=\"111.35\"/></clipPath><clipPath id=\"clipf6dc21x2y2plot\" class=\"plotclip\"><rect width=\"236.18\" height=\"111.35\"/></clipPath><clipPath id=\"clipf6dc21x3y3plot\" class=\"plotclip\"><rect width=\"236.18\" height=\"111.35000000000001\"/></clipPath><clipPath id=\"clipf6dc21x4y4plot\" class=\"plotclip\"><rect width=\"236.18\" height=\"111.35000000000001\"/></clipPath><clipPath class=\"axesclip\" id=\"clipf6dc21x\"><rect x=\"58\" y=\"0\" width=\"236.18\" height=\"350\"/></clipPath><clipPath class=\"axesclip\" id=\"clipf6dc21y\"><rect x=\"0\" y=\"180.64999999999998\" width=\"550\" height=\"111.35\"/></clipPath><clipPath class=\"axesclip\" id=\"clipf6dc21xy\"><rect x=\"58\" y=\"180.64999999999998\" width=\"236.18\" height=\"111.35\"/></clipPath><clipPath class=\"axesclip\" id=\"clipf6dc21y2\"><rect x=\"0\" y=\"180.64999999999998\" width=\"550\" height=\"111.35\"/></clipPath><clipPath class=\"axesclip\" id=\"clipf6dc21xy2\"><rect x=\"58\" y=\"180.64999999999998\" width=\"236.18\" height=\"111.35\"/></clipPath><clipPath class=\"axesclip\" id=\"clipf6dc21y3\"><rect x=\"0\" y=\"30\" width=\"550\" height=\"111.35000000000001\"/></clipPath><clipPath class=\"axesclip\" id=\"clipf6dc21xy3\"><rect x=\"58\" y=\"30\" width=\"236.18\" height=\"111.35000000000001\"/></clipPath><clipPath class=\"axesclip\" id=\"clipf6dc21y4\"><rect x=\"0\" y=\"30\" width=\"550\" height=\"111.35000000000001\"/></clipPath><clipPath class=\"axesclip\" id=\"clipf6dc21xy4\"><rect x=\"58\" y=\"30\" width=\"236.18\" height=\"111.35000000000001\"/></clipPath><clipPath class=\"axesclip\" id=\"clipf6dc21x2\"><rect x=\"303.82\" y=\"0\" width=\"236.18\" height=\"350\"/></clipPath><clipPath class=\"axesclip\" id=\"clipf6dc21x2y\"><rect x=\"303.82\" y=\"180.64999999999998\" width=\"236.18\" height=\"111.35\"/></clipPath><clipPath class=\"axesclip\" id=\"clipf6dc21x2y2\"><rect x=\"303.82\" y=\"180.64999999999998\" width=\"236.18\" height=\"111.35\"/></clipPath><clipPath class=\"axesclip\" id=\"clipf6dc21x2y3\"><rect x=\"303.82\" y=\"30\" width=\"236.18\" height=\"111.35000000000001\"/></clipPath><clipPath class=\"axesclip\" id=\"clipf6dc21x2y4\"><rect x=\"303.82\" y=\"30\" width=\"236.18\" height=\"111.35000000000001\"/></clipPath><clipPath class=\"axesclip\" id=\"clipf6dc21x3\"><rect x=\"58\" y=\"0\" width=\"236.18\" height=\"350\"/></clipPath><clipPath class=\"axesclip\" id=\"clipf6dc21x3y\"><rect x=\"58\" y=\"180.64999999999998\" width=\"236.18\" height=\"111.35\"/></clipPath><clipPath class=\"axesclip\" id=\"clipf6dc21x3y2\"><rect x=\"58\" y=\"180.64999999999998\" width=\"236.18\" height=\"111.35\"/></clipPath><clipPath class=\"axesclip\" id=\"clipf6dc21x3y3\"><rect x=\"58\" y=\"30\" width=\"236.18\" height=\"111.35000000000001\"/></clipPath><clipPath class=\"axesclip\" id=\"clipf6dc21x3y4\"><rect x=\"58\" y=\"30\" width=\"236.18\" height=\"111.35000000000001\"/></clipPath><clipPath class=\"axesclip\" id=\"clipf6dc21x4\"><rect x=\"303.82\" y=\"0\" width=\"236.18\" height=\"350\"/></clipPath><clipPath class=\"axesclip\" id=\"clipf6dc21x4y\"><rect x=\"303.82\" y=\"180.64999999999998\" width=\"236.18\" height=\"111.35\"/></clipPath><clipPath class=\"axesclip\" id=\"clipf6dc21x4y2\"><rect x=\"303.82\" y=\"180.64999999999998\" width=\"236.18\" height=\"111.35\"/></clipPath><clipPath class=\"axesclip\" id=\"clipf6dc21x4y3\"><rect x=\"303.82\" y=\"30\" width=\"236.18\" height=\"111.35000000000001\"/></clipPath><clipPath class=\"axesclip\" id=\"clipf6dc21x4y4\"><rect x=\"303.82\" y=\"30\" width=\"236.18\" height=\"111.35000000000001\"/></clipPath></g><g class=\"gradients\"/><g class=\"patterns\"/></defs><g class=\"bglayer\"/><g class=\"layer-below\"><g class=\"imagelayer\"/><g class=\"shapelayer\"/></g><g class=\"cartesianlayer\"><g class=\"subplot xy\"><g class=\"layer-subplot\"><g class=\"shapelayer\"/><g class=\"imagelayer\"/></g><g class=\"minor-gridlayer\"><g class=\"x\"/><g class=\"y\"/></g><g class=\"gridlayer\"><g class=\"x\"><path class=\"xgrid crisp\" transform=\"translate(99.59,0)\" d=\"M0,180.64999999999998v111.35\" style=\"stroke: rgb(232, 232, 232); stroke-opacity: 1; stroke-width: 1px;\"/><path class=\"xgrid crisp\" transform=\"translate(168.98000000000002,0)\" d=\"M0,180.64999999999998v111.35\" style=\"stroke: rgb(232, 232, 232); stroke-opacity: 1; stroke-width: 1px;\"/><path class=\"xgrid crisp\" transform=\"translate(238.37,0)\" d=\"M0,180.64999999999998v111.35\" style=\"stroke: rgb(232, 232, 232); stroke-opacity: 1; stroke-width: 1px;\"/></g><g class=\"y\"><path class=\"ygrid crisp\" transform=\"translate(0,266.03)\" d=\"M58,0h236.18\" style=\"stroke: rgb(232, 232, 232); stroke-opacity: 1; stroke-width: 1px;\"/><path class=\"ygrid crisp\" transform=\"translate(0,235.51)\" d=\"M58,0h236.18\" style=\"stroke: rgb(232, 232, 232); stroke-opacity: 1; stroke-width: 1px;\"/><path class=\"ygrid crisp\" transform=\"translate(0,204.98999999999998)\" d=\"M58,0h236.18\" style=\"stroke: rgb(232, 232, 232); stroke-opacity: 1; stroke-width: 1px;\"/></g></g><g class=\"zerolinelayer\"/><path class=\"xlines-below\"/><path class=\"ylines-below\"/><g class=\"overlines-below\"/><g class=\"xaxislayer-below\"/><g class=\"yaxislayer-below\"/><g class=\"overaxes-below\"/><g class=\"plot\" transform=\"translate(58,180.64999999999998)\" clip-path=\"url(#clipf6dc21xyplot)\"><g class=\"scatterlayer mlayer\"><g class=\"trace scatter trace3cb74c\" style=\"stroke-miterlimit: 2; opacity: 1;\"><g class=\"fills\"/><g class=\"errorbars\"/><g class=\"lines\"/><g class=\"points\"><path class=\"point\" transform=\"translate(135.21,47.72)\" d=\"M3,0A3,3 0 1,1 0,-3A3,3 0 0,1 3,0Z\" style=\"opacity: 1; stroke-width: 0px; fill: rgb(31, 119, 180); fill-opacity: 1;\"/><path class=\"point\" transform=\"translate(95.89,71.44)\" d=\"M3,0A3,3 0 1,1 0,-3A3,3 0 0,1 3,0Z\" style=\"opacity: 1; stroke-width: 0px; fill: rgb(31, 119, 180); fill-opacity: 1;\"/><path class=\"point\" transform=\"translate(136.08,39.35)\" d=\"M3,0A3,3 0 1,1 0,-3A3,3 0 0,1 3,0Z\" style=\"opacity: 1; stroke-width: 0px; fill: rgb(31, 119, 180); fill-opacity: 1;\"/><path class=\"point\" transform=\"translate(112.72,60.81)\" d=\"M3,0A3,3 0 1,1 0,-3A3,3 0 0,1 3,0Z\" style=\"opacity: 1; stroke-width: 0px; fill: rgb(31, 119, 180); fill-opacity: 1;\"/><path class=\"point\" transform=\"translate(116.47,56.6)\" d=\"M3,0A3,3 0 1,1 0,-3A3,3 0 0,1 3,0Z\" style=\"opacity: 1; stroke-width: 0px; fill: rgb(31, 119, 180); fill-opacity: 1;\"/><path class=\"point\" transform=\"translate(47.6,91.67)\" d=\"M3,0A3,3 0 1,1 0,-3A3,3 0 0,1 3,0Z\" style=\"opacity: 1; stroke-width: 0px; fill: rgb(31, 119, 180); fill-opacity: 1;\"/><path class=\"point\" transform=\"translate(48.59,92.89)\" d=\"M3,0A3,3 0 1,1 0,-3A3,3 0 0,1 3,0Z\" style=\"opacity: 1; stroke-width: 0px; fill: rgb(31, 119, 180); fill-opacity: 1;\"/><path class=\"point\" transform=\"translate(80.91,80.29)\" d=\"M3,0A3,3 0 1,1 0,-3A3,3 0 0,1 3,0Z\" style=\"opacity: 1; stroke-width: 0px; fill: rgb(31, 119, 180); fill-opacity: 1;\"/><path class=\"point\" transform=\"translate(95.54,69.68)\" d=\"M3,0A3,3 0 1,1 0,-3A3,3 0 0,1 3,0Z\" style=\"opacity: 1; stroke-width: 0px; fill: rgb(31, 119, 180); fill-opacity: 1;\"/><path class=\"point\" transform=\"translate(186.68,26.81)\" d=\"M3,0A3,3 0 1,1 0,-3A3,3 0 0,1 3,0Z\" style=\"opacity: 1; stroke-width: 0px; fill: rgb(31, 119, 180); fill-opacity: 1;\"/><path class=\"point\" transform=\"translate(178.23,32.87)\" d=\"M3,0A3,3 0 1,1 0,-3A3,3 0 0,1 3,0Z\" style=\"opacity: 1; stroke-width: 0px; fill: rgb(31, 119, 180); fill-opacity: 1;\"/><path class=\"point\" transform=\"translate(131.16,52.6)\" d=\"M3,0A3,3 0 1,1 0,-3A3,3 0 0,1 3,0Z\" style=\"opacity: 1; stroke-width: 0px; fill: rgb(31, 119, 180); fill-opacity: 1;\"/><path class=\"point\" transform=\"translate(132.09,52.81)\" d=\"M3,0A3,3 0 1,1 0,-3A3,3 0 0,1 3,0Z\" style=\"opacity: 1; stroke-width: 0px; fill: rgb(31, 119, 180); fill-opacity: 1;\"/><path class=\"point\" transform=\"translate(75.01,87.97)\" d=\"M3,0A3,3 0 1,1 0,-3A3,3 0 0,1 3,0Z\" style=\"opacity: 1; stroke-width: 0px; fill: rgb(31, 119, 180); fill-opacity: 1;\"/><path class=\"point\" transform=\"translate(103.87,71.35)\" d=\"M3,0A3,3 0 1,1 0,-3A3,3 0 0,1 3,0Z\" style=\"opacity: 1; stroke-width: 0px; fill: rgb(31, 119, 180); fill-opacity: 1;\"/><path class=\"point\" transform=\"translate(117.57,63.25)\" d=\"M3,0A3,3 0 1,1 0,-3A3,3 0 0,1 3,0Z\" style=\"opacity: 1; stroke-width: 0px; fill: rgb(31, 119, 180); fill-opacity: 1;\"/><path class=\"point\" transform=\"translate(191.19,20.67)\" d=\"M3,0A3,3 0 1,1 0,-3A3,3 0 0,1 3,0Z\" style=\"opacity: 1; stroke-width: 0px; fill: rgb(31, 119, 180); fill-opacity: 1;\"/><path class=\"point\" transform=\"translate(208.07,11.37)\" d=\"M3,0A3,3 0 1,1 0,-3A3,3 0 0,1 3,0Z\" style=\"opacity: 1; stroke-width: 0px; fill: rgb(31, 119, 180); fill-opacity: 1;\"/><path class=\"point\" transform=\"translate(216.8,9.32)\" d=\"M3,0A3,3 0 1,1 0,-3A3,3 0 0,1 3,0Z\" style=\"opacity: 1; stroke-width: 0px; fill: rgb(31, 119, 180); fill-opacity: 1;\"/><path class=\"point\" transform=\"translate(95.25,74.84)\" d=\"M3,0A3,3 0 1,1 0,-3A3,3 0 0,1 3,0Z\" style=\"opacity: 1; stroke-width: 0px; fill: rgb(31, 119, 180); fill-opacity: 1;\"/><path class=\"point\" transform=\"translate(66.63,76.39)\" d=\"M3,0A3,3 0 1,1 0,-3A3,3 0 0,1 3,0Z\" style=\"opacity: 1; stroke-width: 0px; fill: rgb(31, 119, 180); fill-opacity: 1;\"/><path class=\"point\" transform=\"translate(48.24,92.81)\" d=\"M3,0A3,3 0 1,1 0,-3A3,3 0 0,1 3,0Z\" style=\"opacity: 1; stroke-width: 0px; fill: rgb(31, 119, 180); fill-opacity: 1;\"/><path class=\"point\" transform=\"translate(31.93,102.03)\" d=\"M3,0A3,3 0 1,1 0,-3A3,3 0 0,1 3,0Z\" style=\"opacity: 1; stroke-width: 0px; fill: rgb(31, 119, 180); fill-opacity: 1;\"/><path class=\"point\" transform=\"translate(72.12,79)\" d=\"M3,0A3,3 0 1,1 0,-3A3,3 0 0,1 3,0Z\" style=\"opacity: 1; stroke-width: 0px; fill: rgb(31, 119, 180); fill-opacity: 1;\"/><path class=\"point\" transform=\"translate(120.81,60.26)\" d=\"M3,0A3,3 0 1,1 0,-3A3,3 0 0,1 3,0Z\" style=\"opacity: 1; stroke-width: 0px; fill: rgb(31, 119, 180); fill-opacity: 1;\"/><path class=\"point\" transform=\"translate(73.34,78.32)\" d=\"M3,0A3,3 0 1,1 0,-3A3,3 0 0,1 3,0Z\" style=\"opacity: 1; stroke-width: 0px; fill: rgb(31, 119, 180); fill-opacity: 1;\"/><path class=\"point\" transform=\"translate(101.9,74.54)\" d=\"M3,0A3,3 0 1,1 0,-3A3,3 0 0,1 3,0Z\" style=\"opacity: 1; stroke-width: 0px; fill: rgb(31, 119, 180); fill-opacity: 1;\"/><path class=\"point\" transform=\"translate(122.84,55.33)\" d=\"M3,0A3,3 0 1,1 0,-3A3,3 0 0,1 3,0Z\" style=\"opacity: 1; stroke-width: 0px; fill: rgb(31, 119, 180); fill-opacity: 1;\"/><path class=\"point\" transform=\"translate(96.81,75.91)\" d=\"M3,0A3,3 0 1,1 0,-3A3,3 0 0,1 3,0Z\" style=\"opacity: 1; stroke-width: 0px; fill: rgb(31, 119, 180); fill-opacity: 1;\"/><path class=\"point\" transform=\"translate(127.64,47.72)\" d=\"M3,0A3,3 0 1,1 0,-3A3,3 0 0,1 3,0Z\" style=\"opacity: 1; stroke-width: 0px; fill: rgb(31, 119, 180); fill-opacity: 1;\"/><path class=\"point\" transform=\"translate(90.16,71.44)\" d=\"M3,0A3,3 0 1,1 0,-3A3,3 0 0,1 3,0Z\" style=\"opacity: 1; stroke-width: 0px; fill: rgb(31, 119, 180); fill-opacity: 1;\"/><path class=\"point\" transform=\"translate(145.68,39.35)\" d=\"M3,0A3,3 0 1,1 0,-3A3,3 0 0,1 3,0Z\" style=\"opacity: 1; stroke-width: 0px; fill: rgb(31, 119, 180); fill-opacity: 1;\"/><path class=\"point\" transform=\"translate(116.53,60.81)\" d=\"M3,0A3,3 0 1,1 0,-3A3,3 0 0,1 3,0Z\" style=\"opacity: 1; stroke-width: 0px; fill: rgb(31, 119, 180); fill-opacity: 1;\"/><path class=\"point\" transform=\"translate(116.53,56.6)\" d=\"M3,0A3,3 0 1,1 0,-3A3,3 0 0,1 3,0Z\" style=\"opacity: 1; stroke-width: 0px; fill: rgb(31, 119, 180); fill-opacity: 1;\"/><path class=\"point\" transform=\"translate(42.98,91.67)\" d=\"M3,0A3,3 0 1,1 0,-3A3,3 0 0,1 3,0Z\" style=\"opacity: 1; stroke-width: 0px; fill: rgb(31, 119, 180); fill-opacity: 1;\"/><path class=\"point\" transform=\"translate(62.41,92.89)\" d=\"M3,0A3,3 0 1,1 0,-3A3,3 0 0,1 3,0Z\" style=\"opacity: 1; stroke-width: 0px; fill: rgb(31, 119, 180); fill-opacity: 1;\"/><path class=\"point\" transform=\"translate(72.12,80.29)\" d=\"M3,0A3,3 0 1,1 0,-3A3,3 0 0,1 3,0Z\" style=\"opacity: 1; stroke-width: 0px; fill: rgb(31, 119, 180); fill-opacity: 1;\"/><path class=\"point\" transform=\"translate(87.39,69.68)\" d=\"M3,0A3,3 0 1,1 0,-3A3,3 0 0,1 3,0Z\" style=\"opacity: 1; stroke-width: 0px; fill: rgb(31, 119, 180); fill-opacity: 1;\"/><path class=\"point\" transform=\"translate(176.21,26.81)\" d=\"M3,0A3,3 0 1,1 0,-3A3,3 0 0,1 3,0Z\" style=\"opacity: 1; stroke-width: 0px; fill: rgb(31, 119, 180); fill-opacity: 1;\"/><path class=\"point\" transform=\"translate(169.27,32.87)\" d=\"M3,0A3,3 0 1,1 0,-3A3,3 0 0,1 3,0Z\" style=\"opacity: 1; stroke-width: 0px; fill: rgb(31, 119, 180); fill-opacity: 1;\"/><path class=\"point\" transform=\"translate(140.13,52.6)\" d=\"M3,0A3,3 0 1,1 0,-3A3,3 0 0,1 3,0Z\" style=\"opacity: 1; stroke-width: 0px; fill: rgb(31, 119, 180); fill-opacity: 1;\"/><path class=\"point\" transform=\"translate(130.41,52.81)\" d=\"M3,0A3,3 0 1,1 0,-3A3,3 0 0,1 3,0Z\" style=\"opacity: 1; stroke-width: 0px; fill: rgb(31, 119, 180); fill-opacity: 1;\"/><path class=\"point\" transform=\"translate(70.73,87.97)\" d=\"M3,0A3,3 0 1,1 0,-3A3,3 0 0,1 3,0Z\" style=\"opacity: 1; stroke-width: 0px; fill: rgb(31, 119, 180); fill-opacity: 1;\"/><path class=\"point\" transform=\"translate(90.16,71.35)\" d=\"M3,0A3,3 0 1,1 0,-3A3,3 0 0,1 3,0Z\" style=\"opacity: 1; stroke-width: 0px; fill: rgb(31, 119, 180); fill-opacity: 1;\"/><path class=\"point\" transform=\"translate(110.98,63.25)\" d=\"M3,0A3,3 0 1,1 0,-3A3,3 0 0,1 3,0Z\" style=\"opacity: 1; stroke-width: 0px; fill: rgb(31, 119, 180); fill-opacity: 1;\"/><path class=\"point\" transform=\"translate(159.56,20.67)\" d=\"M3,0A3,3 0 1,1 0,-3A3,3 0 0,1 3,0Z\" style=\"opacity: 1; stroke-width: 0px; fill: rgb(31, 119, 180); fill-opacity: 1;\"/><path class=\"point\" transform=\"translate(191.48,11.37)\" d=\"M3,0A3,3 0 1,1 0,-3A3,3 0 0,1 3,0Z\" style=\"opacity: 1; stroke-width: 0px; fill: rgb(31, 119, 180); fill-opacity: 1;\"/><path class=\"point\" transform=\"translate(198.42,9.32)\" d=\"M3,0A3,3 0 1,1 0,-3A3,3 0 0,1 3,0Z\" style=\"opacity: 1; stroke-width: 0px; fill: rgb(31, 119, 180); fill-opacity: 1;\"/><path class=\"point\" transform=\"translate(91.55,74.84)\" d=\"M3,0A3,3 0 1,1 0,-3A3,3 0 0,1 3,0Z\" style=\"opacity: 1; stroke-width: 0px; fill: rgb(31, 119, 180); fill-opacity: 1;\"/><path class=\"point\" transform=\"translate(59.63,76.39)\" d=\"M3,0A3,3 0 1,1 0,-3A3,3 0 0,1 3,0Z\" style=\"opacity: 1; stroke-width: 0px; fill: rgb(31, 119, 180); fill-opacity: 1;\"/><path class=\"point\" transform=\"translate(33.26,92.81)\" d=\"M3,0A3,3 0 1,1 0,-3A3,3 0 0,1 3,0Z\" style=\"opacity: 1; stroke-width: 0px; fill: rgb(31, 119, 180); fill-opacity: 1;\"/><path class=\"point\" transform=\"translate(31.87,102.03)\" d=\"M3,0A3,3 0 1,1 0,-3A3,3 0 0,1 3,0Z\" style=\"opacity: 1; stroke-width: 0px; fill: rgb(31, 119, 180); fill-opacity: 1;\"/><path class=\"point\" transform=\"translate(129.02,47.72)\" d=\"M3,0A3,3 0 1,1 0,-3A3,3 0 0,1 3,0Z\" style=\"opacity: 1; stroke-width: 0px; fill: rgb(31, 119, 180); fill-opacity: 1;\"/><path class=\"point\" transform=\"translate(142.9,39.35)\" d=\"M3,0A3,3 0 1,1 0,-3A3,3 0 0,1 3,0Z\" style=\"opacity: 1; stroke-width: 0px; fill: rgb(31, 119, 180); fill-opacity: 1;\"/><path class=\"point\" transform=\"translate(176.21,26.81)\" d=\"M3,0A3,3 0 1,1 0,-3A3,3 0 0,1 3,0Z\" style=\"opacity: 1; stroke-width: 0px; fill: rgb(31, 119, 180); fill-opacity: 1;\"/><path class=\"point\" transform=\"translate(137.35,52.81)\" d=\"M3,0A3,3 0 1,1 0,-3A3,3 0 0,1 3,0Z\" style=\"opacity: 1; stroke-width: 0px; fill: rgb(31, 119, 180); fill-opacity: 1;\"/><path class=\"point\" transform=\"translate(80.45,87.97)\" d=\"M3,0A3,3 0 1,1 0,-3A3,3 0 0,1 3,0Z\" style=\"opacity: 1; stroke-width: 0px; fill: rgb(31, 119, 180); fill-opacity: 1;\"/><path class=\"point\" transform=\"translate(220.62,9.32)\" d=\"M3,0A3,3 0 1,1 0,-3A3,3 0 0,1 3,0Z\" style=\"opacity: 1; stroke-width: 0px; fill: rgb(31, 119, 180); fill-opacity: 1;\"/><path class=\"point\" transform=\"translate(95.71,74.84)\" d=\"M3,0A3,3 0 1,1 0,-3A3,3 0 0,1 3,0Z\" style=\"opacity: 1; stroke-width: 0px; fill: rgb(31, 119, 180); fill-opacity: 1;\"/><path class=\"point\" transform=\"translate(59.63,76.39)\" d=\"M3,0A3,3 0 1,1 0,-3A3,3 0 0,1 3,0Z\" style=\"opacity: 1; stroke-width: 0px; fill: rgb(31, 119, 180); fill-opacity: 1;\"/></g><g class=\"text\"/></g></g></g><g class=\"overplot\"/><path class=\"xlines-above crisp\" d=\"M57,292.5H294.18\" style=\"fill: none; stroke-width: 1px; stroke: rgb(36, 36, 36); stroke-opacity: 1;\"/><path class=\"ylines-above crisp\" d=\"M57.5,180.64999999999998V292\" style=\"fill: none; stroke-width: 1px; stroke: rgb(36, 36, 36); stroke-opacity: 1;\"/><g class=\"overlines-above\"/><g class=\"xaxislayer-above\"><path class=\"xtick ticks crisp\" d=\"M0,293v5\" transform=\"translate(99.59,0)\" style=\"stroke: rgb(68, 68, 68); stroke-opacity: 1; stroke-width: 1px;\"/><path class=\"xtick ticks crisp\" d=\"M0,293v5\" transform=\"translate(168.98000000000002,0)\" style=\"stroke: rgb(68, 68, 68); stroke-opacity: 1; stroke-width: 1px;\"/><path class=\"xtick ticks crisp\" d=\"M0,293v5\" transform=\"translate(238.37,0)\" style=\"stroke: rgb(68, 68, 68); stroke-opacity: 1; stroke-width: 1px;\"/><g class=\"xtick\"><text text-anchor=\"middle\" x=\"0\" y=\"312.4\" transform=\"translate(99.59,0)\" style=\"font-family: 'Open Sans', verdana, arial, sans-serif; font-size: 12px; fill: rgb(36, 36, 36); fill-opacity: 1; white-space: pre; opacity: 1;\">5</text></g><g class=\"xtick\"><text text-anchor=\"middle\" x=\"0\" y=\"312.4\" style=\"font-family: 'Open Sans', verdana, arial, sans-serif; font-size: 12px; fill: rgb(36, 36, 36); fill-opacity: 1; white-space: pre; opacity: 1;\" transform=\"translate(168.98000000000002,0)\">10</text></g><g class=\"xtick\"><text text-anchor=\"middle\" x=\"0\" y=\"312.4\" style=\"font-family: 'Open Sans', verdana, arial, sans-serif; font-size: 12px; fill: rgb(36, 36, 36); fill-opacity: 1; white-space: pre; opacity: 1;\" transform=\"translate(238.37,0)\">15</text></g></g><g class=\"yaxislayer-above\"><path class=\"ytick ticks crisp\" d=\"M57,0h-5\" transform=\"translate(0,266.03)\" style=\"stroke: rgb(68, 68, 68); stroke-opacity: 1; stroke-width: 1px;\"/><path class=\"ytick ticks crisp\" d=\"M57,0h-5\" transform=\"translate(0,235.51)\" style=\"stroke: rgb(68, 68, 68); stroke-opacity: 1; stroke-width: 1px;\"/><path class=\"ytick ticks crisp\" d=\"M57,0h-5\" transform=\"translate(0,204.98999999999998)\" style=\"stroke: rgb(68, 68, 68); stroke-opacity: 1; stroke-width: 1px;\"/><g class=\"ytick\"><text text-anchor=\"end\" x=\"49.6\" y=\"4.199999999999999\" transform=\"translate(0,266.03)\" style=\"font-family: 'Open Sans', verdana, arial, sans-serif; font-size: 12px; fill: rgb(36, 36, 36); fill-opacity: 1; white-space: pre; opacity: 1;\">10</text></g><g class=\"ytick\"><text text-anchor=\"end\" x=\"49.6\" y=\"4.199999999999999\" style=\"font-family: 'Open Sans', verdana, arial, sans-serif; font-size: 12px; fill: rgb(36, 36, 36); fill-opacity: 1; white-space: pre; opacity: 1;\" transform=\"translate(0,235.51)\">20</text></g><g class=\"ytick\"><text text-anchor=\"end\" x=\"49.6\" y=\"4.199999999999999\" style=\"font-family: 'Open Sans', verdana, arial, sans-serif; font-size: 12px; fill: rgb(36, 36, 36); fill-opacity: 1; white-space: pre; opacity: 1;\" transform=\"translate(0,204.98999999999998)\">30</text></g></g><g class=\"overaxes-above\"/></g><g class=\"subplot x2y2\"><g class=\"layer-subplot\"><g class=\"shapelayer\"/><g class=\"imagelayer\"/></g><g class=\"minor-gridlayer\"><g class=\"x2\"/><g class=\"y2\"/></g><g class=\"gridlayer\"><g class=\"x2\"><path class=\"x2grid crisp\" transform=\"translate(345.40999999999997,0)\" d=\"M0,180.64999999999998v111.35\" style=\"stroke: rgb(232, 232, 232); stroke-opacity: 1; stroke-width: 1px;\"/><path class=\"x2grid crisp\" transform=\"translate(414.8,0)\" d=\"M0,180.64999999999998v111.35\" style=\"stroke: rgb(232, 232, 232); stroke-opacity: 1; stroke-width: 1px;\"/><path class=\"x2grid crisp\" transform=\"translate(484.19,0)\" d=\"M0,180.64999999999998v111.35\" style=\"stroke: rgb(232, 232, 232); stroke-opacity: 1; stroke-width: 1px;\"/></g><g class=\"y2\"><path class=\"y2grid crisp\" transform=\"translate(0,266.03)\" d=\"M303.82,0h236.18\" style=\"stroke: rgb(232, 232, 232); stroke-opacity: 1; stroke-width: 1px;\"/><path class=\"y2grid crisp\" transform=\"translate(0,235.51)\" d=\"M303.82,0h236.18\" style=\"stroke: rgb(232, 232, 232); stroke-opacity: 1; stroke-width: 1px;\"/><path class=\"y2grid crisp\" transform=\"translate(0,204.98999999999998)\" d=\"M303.82,0h236.18\" style=\"stroke: rgb(232, 232, 232); stroke-opacity: 1; stroke-width: 1px;\"/></g></g><g class=\"zerolinelayer\"/><path class=\"xlines-below\"/><path class=\"ylines-below\"/><g class=\"overlines-below\"/><g class=\"xaxislayer-below\"/><g class=\"yaxislayer-below\"/><g class=\"overaxes-below\"/><g class=\"plot\" transform=\"translate(303.82,180.64999999999998)\" clip-path=\"url(#clipf6dc21x2y2plot)\"><g class=\"scatterlayer mlayer\"><g class=\"trace scatter tracef56384\" style=\"stroke-miterlimit: 2; opacity: 1;\"><g class=\"fills\"/><g class=\"errorbars\"/><g class=\"lines\"/><g class=\"points\"><path class=\"point\" transform=\"translate(91.61,68.66)\" d=\"M3,0A3,3 0 1,1 0,-3A3,3 0 0,1 3,0Z\" style=\"opacity: 1; stroke-width: 0px; fill: rgb(31, 119, 180); fill-opacity: 1;\"/><path class=\"point\" transform=\"translate(69,85.39)\" d=\"M3,0A3,3 0 1,1 0,-3A3,3 0 0,1 3,0Z\" style=\"opacity: 1; stroke-width: 0px; fill: rgb(31, 119, 180); fill-opacity: 1;\"/><path class=\"point\" transform=\"translate(149.61,47.31)\" d=\"M3,0A3,3 0 1,1 0,-3A3,3 0 0,1 3,0Z\" style=\"opacity: 1; stroke-width: 0px; fill: rgb(31, 119, 180); fill-opacity: 1;\"/><path class=\"point\" transform=\"translate(67.26,89.5)\" d=\"M3,0A3,3 0 1,1 0,-3A3,3 0 0,1 3,0Z\" style=\"opacity: 1; stroke-width: 0px; fill: rgb(31, 119, 180); fill-opacity: 1;\"/><path class=\"point\" transform=\"translate(82.24,82.74)\" d=\"M3,0A3,3 0 1,1 0,-3A3,3 0 0,1 3,0Z\" style=\"opacity: 1; stroke-width: 0px; fill: rgb(31, 119, 180); fill-opacity: 1;\"/><path class=\"point\" transform=\"translate(81.37,84.02)\" d=\"M3,0A3,3 0 1,1 0,-3A3,3 0 0,1 3,0Z\" style=\"opacity: 1; stroke-width: 0px; fill: rgb(31, 119, 180); fill-opacity: 1;\"/><path class=\"point\" transform=\"translate(91.26,79.69)\" d=\"M3,0A3,3 0 1,1 0,-3A3,3 0 0,1 3,0Z\" style=\"opacity: 1; stroke-width: 0px; fill: rgb(31, 119, 180); fill-opacity: 1;\"/><path class=\"point\" transform=\"translate(128.68,56.05)\" d=\"M3,0A3,3 0 1,1 0,-3A3,3 0 0,1 3,0Z\" style=\"opacity: 1; stroke-width: 0px; fill: rgb(31, 119, 180); fill-opacity: 1;\"/><path class=\"point\" transform=\"translate(161.75,43.75)\" d=\"M3,0A3,3 0 1,1 0,-3A3,3 0 0,1 3,0Z\" style=\"opacity: 1; stroke-width: 0px; fill: rgb(31, 119, 180); fill-opacity: 1;\"/><path class=\"point\" transform=\"translate(42.11,96.4)\" d=\"M3,0A3,3 0 1,1 0,-3A3,3 0 0,1 3,0Z\" style=\"opacity: 1; stroke-width: 0px; fill: rgb(31, 119, 180); fill-opacity: 1;\"/><path class=\"point\" transform=\"translate(59.57,89.98)\" d=\"M3,0A3,3 0 1,1 0,-3A3,3 0 0,1 3,0Z\" style=\"opacity: 1; stroke-width: 0px; fill: rgb(31, 119, 180); fill-opacity: 1;\"/><path class=\"point\" transform=\"translate(122.45,65.14)\" d=\"M3,0A3,3 0 1,1 0,-3A3,3 0 0,1 3,0Z\" style=\"opacity: 1; stroke-width: 0px; fill: rgb(31, 119, 180); fill-opacity: 1;\"/><path class=\"point\" transform=\"translate(108.96,58.91)\" d=\"M3,0A3,3 0 1,1 0,-3A3,3 0 0,1 3,0Z\" style=\"opacity: 1; stroke-width: 0px; fill: rgb(31, 119, 180); fill-opacity: 1;\"/><path class=\"point\" transform=\"translate(104.04,68.66)\" d=\"M3,0A3,3 0 1,1 0,-3A3,3 0 0,1 3,0Z\" style=\"opacity: 1; stroke-width: 0px; fill: rgb(31, 119, 180); fill-opacity: 1;\"/><path class=\"point\" transform=\"translate(63.79,85.39)\" d=\"M3,0A3,3 0 1,1 0,-3A3,3 0 0,1 3,0Z\" style=\"opacity: 1; stroke-width: 0px; fill: rgb(31, 119, 180); fill-opacity: 1;\"/><path class=\"point\" transform=\"translate(154,47.31)\" d=\"M3,0A3,3 0 1,1 0,-3A3,3 0 0,1 3,0Z\" style=\"opacity: 1; stroke-width: 0px; fill: rgb(31, 119, 180); fill-opacity: 1;\"/><path class=\"point\" transform=\"translate(67.96,89.5)\" d=\"M3,0A3,3 0 1,1 0,-3A3,3 0 0,1 3,0Z\" style=\"opacity: 1; stroke-width: 0px; fill: rgb(31, 119, 180); fill-opacity: 1;\"/><path class=\"point\" transform=\"translate(77.67,82.74)\" d=\"M3,0A3,3 0 1,1 0,-3A3,3 0 0,1 3,0Z\" style=\"opacity: 1; stroke-width: 0px; fill: rgb(31, 119, 180); fill-opacity: 1;\"/><path class=\"point\" transform=\"translate(80.45,84.02)\" d=\"M3,0A3,3 0 1,1 0,-3A3,3 0 0,1 3,0Z\" style=\"opacity: 1; stroke-width: 0px; fill: rgb(31, 119, 180); fill-opacity: 1;\"/><path class=\"point\" transform=\"translate(101.27,79.69)\" d=\"M3,0A3,3 0 1,1 0,-3A3,3 0 0,1 3,0Z\" style=\"opacity: 1; stroke-width: 0px; fill: rgb(31, 119, 180); fill-opacity: 1;\"/><path class=\"point\" transform=\"translate(112.37,56.05)\" d=\"M3,0A3,3 0 1,1 0,-3A3,3 0 0,1 3,0Z\" style=\"opacity: 1; stroke-width: 0px; fill: rgb(31, 119, 180); fill-opacity: 1;\"/><path class=\"point\" transform=\"translate(141.51,43.75)\" d=\"M3,0A3,3 0 1,1 0,-3A3,3 0 0,1 3,0Z\" style=\"opacity: 1; stroke-width: 0px; fill: rgb(31, 119, 180); fill-opacity: 1;\"/><path class=\"point\" transform=\"translate(30.49,96.4)\" d=\"M3,0A3,3 0 1,1 0,-3A3,3 0 0,1 3,0Z\" style=\"opacity: 1; stroke-width: 0px; fill: rgb(31, 119, 180); fill-opacity: 1;\"/><path class=\"point\" transform=\"translate(104.04,68.66)\" d=\"M3,0A3,3 0 1,1 0,-3A3,3 0 0,1 3,0Z\" style=\"opacity: 1; stroke-width: 0px; fill: rgb(31, 119, 180); fill-opacity: 1;\"/><path class=\"point\" transform=\"translate(84.61,84.02)\" d=\"M3,0A3,3 0 1,1 0,-3A3,3 0 0,1 3,0Z\" style=\"opacity: 1; stroke-width: 0px; fill: rgb(31, 119, 180); fill-opacity: 1;\"/><path class=\"point\" transform=\"translate(130.41,56.05)\" d=\"M3,0A3,3 0 1,1 0,-3A3,3 0 0,1 3,0Z\" style=\"opacity: 1; stroke-width: 0px; fill: rgb(31, 119, 180); fill-opacity: 1;\"/></g><g class=\"text\"/></g></g></g><g class=\"overplot\"/><path class=\"xlines-above crisp\" d=\"M302.82,292.5H540\" style=\"fill: none; stroke-width: 1px; stroke: rgb(36, 36, 36); stroke-opacity: 1;\"/><path class=\"ylines-above crisp\" d=\"M303.32,180.64999999999998V292\" style=\"fill: none; stroke-width: 1px; stroke: rgb(36, 36, 36); stroke-opacity: 1;\"/><g class=\"overlines-above\"/><g class=\"xaxislayer-above\"><path class=\"x2tick ticks crisp\" d=\"M0,293v5\" transform=\"translate(345.40999999999997,0)\" style=\"stroke: rgb(68, 68, 68); stroke-opacity: 1; stroke-width: 1px;\"/><path class=\"x2tick ticks crisp\" d=\"M0,293v5\" transform=\"translate(414.8,0)\" style=\"stroke: rgb(68, 68, 68); stroke-opacity: 1; stroke-width: 1px;\"/><path class=\"x2tick ticks crisp\" d=\"M0,293v5\" transform=\"translate(484.19,0)\" style=\"stroke: rgb(68, 68, 68); stroke-opacity: 1; stroke-width: 1px;\"/><g class=\"x2tick\"><text text-anchor=\"middle\" x=\"0\" y=\"312.4\" transform=\"translate(345.40999999999997,0)\" style=\"font-family: 'Open Sans', verdana, arial, sans-serif; font-size: 12px; fill: rgb(36, 36, 36); fill-opacity: 1; white-space: pre; opacity: 1;\">5</text></g><g class=\"x2tick\"><text text-anchor=\"middle\" x=\"0\" y=\"312.4\" style=\"font-family: 'Open Sans', verdana, arial, sans-serif; font-size: 12px; fill: rgb(36, 36, 36); fill-opacity: 1; white-space: pre; opacity: 1;\" transform=\"translate(414.8,0)\">10</text></g><g class=\"x2tick\"><text text-anchor=\"middle\" x=\"0\" y=\"312.4\" style=\"font-family: 'Open Sans', verdana, arial, sans-serif; font-size: 12px; fill: rgb(36, 36, 36); fill-opacity: 1; white-space: pre; opacity: 1;\" transform=\"translate(484.19,0)\">15</text></g></g><g class=\"yaxislayer-above\"><path class=\"y2tick ticks crisp\" d=\"M302.82,0h-5\" transform=\"translate(0,266.03)\" style=\"stroke: rgb(68, 68, 68); stroke-opacity: 1; stroke-width: 1px;\"/><path class=\"y2tick ticks crisp\" d=\"M302.82,0h-5\" transform=\"translate(0,235.51)\" style=\"stroke: rgb(68, 68, 68); stroke-opacity: 1; stroke-width: 1px;\"/><path class=\"y2tick ticks crisp\" d=\"M302.82,0h-5\" transform=\"translate(0,204.98999999999998)\" style=\"stroke: rgb(68, 68, 68); stroke-opacity: 1; stroke-width: 1px;\"/></g><g class=\"overaxes-above\"/></g><g class=\"subplot x3y3\"><g class=\"layer-subplot\"><g class=\"shapelayer\"/><g class=\"imagelayer\"/></g><g class=\"minor-gridlayer\"><g class=\"x3\"/><g class=\"y3\"/></g><g class=\"gridlayer\"><g class=\"x3\"><path class=\"x3grid crisp\" transform=\"translate(99.59,0)\" d=\"M0,30v111.35000000000001\" style=\"stroke: rgb(232, 232, 232); stroke-opacity: 1; stroke-width: 1px;\"/><path class=\"x3grid crisp\" transform=\"translate(168.98000000000002,0)\" d=\"M0,30v111.35000000000001\" style=\"stroke: rgb(232, 232, 232); stroke-opacity: 1; stroke-width: 1px;\"/><path class=\"x3grid crisp\" transform=\"translate(238.37,0)\" d=\"M0,30v111.35000000000001\" style=\"stroke: rgb(232, 232, 232); stroke-opacity: 1; stroke-width: 1px;\"/></g><g class=\"y3\"><path class=\"y3grid crisp\" transform=\"translate(0,115.38)\" d=\"M58,0h236.18\" style=\"stroke: rgb(232, 232, 232); stroke-opacity: 1; stroke-width: 1px;\"/><path class=\"y3grid crisp\" transform=\"translate(0,84.86)\" d=\"M58,0h236.18\" style=\"stroke: rgb(232, 232, 232); stroke-opacity: 1; stroke-width: 1px;\"/><path class=\"y3grid crisp\" transform=\"translate(0,54.34)\" d=\"M58,0h236.18\" style=\"stroke: rgb(232, 232, 232); stroke-opacity: 1; stroke-width: 1px;\"/></g></g><g class=\"zerolinelayer\"/><path class=\"xlines-below\"/><path class=\"ylines-below\"/><g class=\"overlines-below\"/><g class=\"xaxislayer-below\"/><g class=\"yaxislayer-below\"/><g class=\"overaxes-below\"/><g class=\"plot\" transform=\"translate(58,30)\" clip-path=\"url(#clipf6dc21x3y3plot)\"><g class=\"scatterlayer mlayer\"><g class=\"trace scatter trace1286b2\" style=\"stroke-miterlimit: 2; opacity: 1;\"><g class=\"fills\"/><g class=\"errorbars\"/><g class=\"lines\"/><g class=\"points\"><path class=\"point\" transform=\"translate(92.19,66.49)\" d=\"M3,0A3,3 0 1,1 0,-3A3,3 0 0,1 3,0Z\" style=\"opacity: 1; stroke-width: 0px; fill: rgb(31, 119, 180); fill-opacity: 1;\"/><path class=\"point\" transform=\"translate(79.12,74.42)\" d=\"M3,0A3,3 0 1,1 0,-3A3,3 0 0,1 3,0Z\" style=\"opacity: 1; stroke-width: 0px; fill: rgb(31, 119, 180); fill-opacity: 1;\"/><path class=\"point\" transform=\"translate(59.63,84.46)\" d=\"M3,0A3,3 0 1,1 0,-3A3,3 0 0,1 3,0Z\" style=\"opacity: 1; stroke-width: 0px; fill: rgb(31, 119, 180); fill-opacity: 1;\"/><path class=\"point\" transform=\"translate(103.23,62.35)\" d=\"M3,0A3,3 0 1,1 0,-3A3,3 0 0,1 3,0Z\" style=\"opacity: 1; stroke-width: 0px; fill: rgb(31, 119, 180); fill-opacity: 1;\"/><path class=\"point\" transform=\"translate(107.57,57.27)\" d=\"M3,0A3,3 0 1,1 0,-3A3,3 0 0,1 3,0Z\" style=\"opacity: 1; stroke-width: 0px; fill: rgb(31, 119, 180); fill-opacity: 1;\"/><path class=\"point\" transform=\"translate(125.15,49.77)\" d=\"M3,0A3,3 0 1,1 0,-3A3,3 0 0,1 3,0Z\" style=\"opacity: 1; stroke-width: 0px; fill: rgb(31, 119, 180); fill-opacity: 1;\"/><path class=\"point\" transform=\"translate(134.29,37.53)\" d=\"M3,0A3,3 0 1,1 0,-3A3,3 0 0,1 3,0Z\" style=\"opacity: 1; stroke-width: 0px; fill: rgb(31, 119, 180); fill-opacity: 1;\"/><path class=\"point\" transform=\"translate(65,81.17)\" d=\"M3,0A3,3 0 1,1 0,-3A3,3 0 0,1 3,0Z\" style=\"opacity: 1; stroke-width: 0px; fill: rgb(31, 119, 180); fill-opacity: 1;\"/><path class=\"point\" transform=\"translate(75.98,77.57)\" d=\"M3,0A3,3 0 1,1 0,-3A3,3 0 0,1 3,0Z\" style=\"opacity: 1; stroke-width: 0px; fill: rgb(31, 119, 180); fill-opacity: 1;\"/><path class=\"point\" transform=\"translate(73.21,85.83)\" d=\"M3,0A3,3 0 1,1 0,-3A3,3 0 0,1 3,0Z\" style=\"opacity: 1; stroke-width: 0px; fill: rgb(31, 119, 180); fill-opacity: 1;\"/><path class=\"point\" transform=\"translate(104.5,67.32)\" d=\"M3,0A3,3 0 1,1 0,-3A3,3 0 0,1 3,0Z\" style=\"opacity: 1; stroke-width: 0px; fill: rgb(31, 119, 180); fill-opacity: 1;\"/><path class=\"point\" transform=\"translate(107.64,64.82)\" d=\"M3,0A3,3 0 1,1 0,-3A3,3 0 0,1 3,0Z\" style=\"opacity: 1; stroke-width: 0px; fill: rgb(31, 119, 180); fill-opacity: 1;\"/><path class=\"point\" transform=\"translate(116.53,53.95)\" d=\"M3,0A3,3 0 1,1 0,-3A3,3 0 0,1 3,0Z\" style=\"opacity: 1; stroke-width: 0px; fill: rgb(31, 119, 180); fill-opacity: 1;\"/><path class=\"point\" transform=\"translate(108.96,61.93)\" d=\"M3,0A3,3 0 1,1 0,-3A3,3 0 0,1 3,0Z\" style=\"opacity: 1; stroke-width: 0px; fill: rgb(31, 119, 180); fill-opacity: 1;\"/><path class=\"point\" transform=\"translate(166.44,28.22)\" d=\"M3,0A3,3 0 1,1 0,-3A3,3 0 0,1 3,0Z\" style=\"opacity: 1; stroke-width: 0px; fill: rgb(31, 119, 180); fill-opacity: 1;\"/><path class=\"point\" transform=\"translate(135.04,45.24)\" d=\"M3,0A3,3 0 1,1 0,-3A3,3 0 0,1 3,0Z\" style=\"opacity: 1; stroke-width: 0px; fill: rgb(31, 119, 180); fill-opacity: 1;\"/><path class=\"point\" transform=\"translate(150.38,44.8)\" d=\"M3,0A3,3 0 1,1 0,-3A3,3 0 0,1 3,0Z\" style=\"opacity: 1; stroke-width: 0px; fill: rgb(31, 119, 180); fill-opacity: 1;\"/><path class=\"point\" transform=\"translate(121.84,61.48)\" d=\"M3,0A3,3 0 1,1 0,-3A3,3 0 0,1 3,0Z\" style=\"opacity: 1; stroke-width: 0px; fill: rgb(31, 119, 180); fill-opacity: 1;\"/><path class=\"point\" transform=\"translate(78.37,91.34)\" d=\"M3,0A3,3 0 1,1 0,-3A3,3 0 0,1 3,0Z\" style=\"opacity: 1; stroke-width: 0px; fill: rgb(31, 119, 180); fill-opacity: 1;\"/><path class=\"point\" transform=\"translate(71.2,89.9)\" d=\"M3,0A3,3 0 1,1 0,-3A3,3 0 0,1 3,0Z\" style=\"opacity: 1; stroke-width: 0px; fill: rgb(31, 119, 180); fill-opacity: 1;\"/><path class=\"point\" transform=\"translate(51.88,93.23)\" d=\"M3,0A3,3 0 1,1 0,-3A3,3 0 0,1 3,0Z\" style=\"opacity: 1; stroke-width: 0px; fill: rgb(31, 119, 180); fill-opacity: 1;\"/><path class=\"point\" transform=\"translate(55.47,85.2)\" d=\"M3,0A3,3 0 1,1 0,-3A3,3 0 0,1 3,0Z\" style=\"opacity: 1; stroke-width: 0px; fill: rgb(31, 119, 180); fill-opacity: 1;\"/><path class=\"point\" transform=\"translate(87.33,74.85)\" d=\"M3,0A3,3 0 1,1 0,-3A3,3 0 0,1 3,0Z\" style=\"opacity: 1; stroke-width: 0px; fill: rgb(31, 119, 180); fill-opacity: 1;\"/><path class=\"point\" transform=\"translate(59.63,86.06)\" d=\"M3,0A3,3 0 1,1 0,-3A3,3 0 0,1 3,0Z\" style=\"opacity: 1; stroke-width: 0px; fill: rgb(31, 119, 180); fill-opacity: 1;\"/><path class=\"point\" transform=\"translate(79.41,74.55)\" d=\"M3,0A3,3 0 1,1 0,-3A3,3 0 0,1 3,0Z\" style=\"opacity: 1; stroke-width: 0px; fill: rgb(31, 119, 180); fill-opacity: 1;\"/><path class=\"point\" transform=\"translate(104.27,70.53)\" d=\"M3,0A3,3 0 1,1 0,-3A3,3 0 0,1 3,0Z\" style=\"opacity: 1; stroke-width: 0px; fill: rgb(31, 119, 180); fill-opacity: 1;\"/><path class=\"point\" transform=\"translate(122.55,58.83)\" d=\"M3,0A3,3 0 1,1 0,-3A3,3 0 0,1 3,0Z\" style=\"opacity: 1; stroke-width: 0px; fill: rgb(31, 119, 180); fill-opacity: 1;\"/><path class=\"point\" transform=\"translate(164.7,40.74)\" d=\"M3,0A3,3 0 1,1 0,-3A3,3 0 0,1 3,0Z\" style=\"opacity: 1; stroke-width: 0px; fill: rgb(31, 119, 180); fill-opacity: 1;\"/><path class=\"point\" transform=\"translate(85.4,76.11)\" d=\"M3,0A3,3 0 1,1 0,-3A3,3 0 0,1 3,0Z\" style=\"opacity: 1; stroke-width: 0px; fill: rgb(31, 119, 180); fill-opacity: 1;\"/><path class=\"point\" transform=\"translate(159.73,44.67)\" d=\"M3,0A3,3 0 1,1 0,-3A3,3 0 0,1 3,0Z\" style=\"opacity: 1; stroke-width: 0px; fill: rgb(31, 119, 180); fill-opacity: 1;\"/><path class=\"point\" transform=\"translate(165.63,37.11)\" d=\"M3,0A3,3 0 1,1 0,-3A3,3 0 0,1 3,0Z\" style=\"opacity: 1; stroke-width: 0px; fill: rgb(31, 119, 180); fill-opacity: 1;\"/><path class=\"point\" transform=\"translate(124.86,57.27)\" d=\"M3,0A3,3 0 1,1 0,-3A3,3 0 0,1 3,0Z\" style=\"opacity: 1; stroke-width: 0px; fill: rgb(31, 119, 180); fill-opacity: 1;\"/><path class=\"point\" transform=\"translate(131.8,49.77)\" d=\"M3,0A3,3 0 1,1 0,-3A3,3 0 0,1 3,0Z\" style=\"opacity: 1; stroke-width: 0px; fill: rgb(31, 119, 180); fill-opacity: 1;\"/><path class=\"point\" transform=\"translate(151.23,37.53)\" d=\"M3,0A3,3 0 1,1 0,-3A3,3 0 0,1 3,0Z\" style=\"opacity: 1; stroke-width: 0px; fill: rgb(31, 119, 180); fill-opacity: 1;\"/><path class=\"point\" transform=\"translate(69.35,81.17)\" d=\"M3,0A3,3 0 1,1 0,-3A3,3 0 0,1 3,0Z\" style=\"opacity: 1; stroke-width: 0px; fill: rgb(31, 119, 180); fill-opacity: 1;\"/><path class=\"point\" transform=\"translate(81.84,77.57)\" d=\"M3,0A3,3 0 1,1 0,-3A3,3 0 0,1 3,0Z\" style=\"opacity: 1; stroke-width: 0px; fill: rgb(31, 119, 180); fill-opacity: 1;\"/><path class=\"point\" transform=\"translate(54.08,85.83)\" d=\"M3,0A3,3 0 1,1 0,-3A3,3 0 0,1 3,0Z\" style=\"opacity: 1; stroke-width: 0px; fill: rgb(31, 119, 180); fill-opacity: 1;\"/><path class=\"point\" transform=\"translate(95.71,67.32)\" d=\"M3,0A3,3 0 1,1 0,-3A3,3 0 0,1 3,0Z\" style=\"opacity: 1; stroke-width: 0px; fill: rgb(31, 119, 180); fill-opacity: 1;\"/><path class=\"point\" transform=\"translate(101.27,64.82)\" d=\"M3,0A3,3 0 1,1 0,-3A3,3 0 0,1 3,0Z\" style=\"opacity: 1; stroke-width: 0px; fill: rgb(31, 119, 180); fill-opacity: 1;\"/><path class=\"point\" transform=\"translate(112.37,53.95)\" d=\"M3,0A3,3 0 1,1 0,-3A3,3 0 0,1 3,0Z\" style=\"opacity: 1; stroke-width: 0px; fill: rgb(31, 119, 180); fill-opacity: 1;\"/><path class=\"point\" transform=\"translate(101.27,61.93)\" d=\"M3,0A3,3 0 1,1 0,-3A3,3 0 0,1 3,0Z\" style=\"opacity: 1; stroke-width: 0px; fill: rgb(31, 119, 180); fill-opacity: 1;\"/><path class=\"point\" transform=\"translate(140.13,28.22)\" d=\"M3,0A3,3 0 1,1 0,-3A3,3 0 0,1 3,0Z\" style=\"opacity: 1; stroke-width: 0px; fill: rgb(31, 119, 180); fill-opacity: 1;\"/><path class=\"point\" transform=\"translate(104.04,45.24)\" d=\"M3,0A3,3 0 1,1 0,-3A3,3 0 0,1 3,0Z\" style=\"opacity: 1; stroke-width: 0px; fill: rgb(31, 119, 180); fill-opacity: 1;\"/><path class=\"point\" transform=\"translate(138.74,44.8)\" d=\"M3,0A3,3 0 1,1 0,-3A3,3 0 0,1 3,0Z\" style=\"opacity: 1; stroke-width: 0px; fill: rgb(31, 119, 180); fill-opacity: 1;\"/><path class=\"point\" transform=\"translate(104.04,61.48)\" d=\"M3,0A3,3 0 1,1 0,-3A3,3 0 0,1 3,0Z\" style=\"opacity: 1; stroke-width: 0px; fill: rgb(31, 119, 180); fill-opacity: 1;\"/><path class=\"point\" transform=\"translate(47.14,91.34)\" d=\"M3,0A3,3 0 1,1 0,-3A3,3 0 0,1 3,0Z\" style=\"opacity: 1; stroke-width: 0px; fill: rgb(31, 119, 180); fill-opacity: 1;\"/><path class=\"point\" transform=\"translate(52.69,89.9)\" d=\"M3,0A3,3 0 1,1 0,-3A3,3 0 0,1 3,0Z\" style=\"opacity: 1; stroke-width: 0px; fill: rgb(31, 119, 180); fill-opacity: 1;\"/><path class=\"point\" transform=\"translate(51.3,93.23)\" d=\"M3,0A3,3 0 1,1 0,-3A3,3 0 0,1 3,0Z\" style=\"opacity: 1; stroke-width: 0px; fill: rgb(31, 119, 180); fill-opacity: 1;\"/><path class=\"point\" transform=\"translate(30.49,85.2)\" d=\"M3,0A3,3 0 1,1 0,-3A3,3 0 0,1 3,0Z\" style=\"opacity: 1; stroke-width: 0px; fill: rgb(31, 119, 180); fill-opacity: 1;\"/><path class=\"point\" transform=\"translate(83.22,74.85)\" d=\"M3,0A3,3 0 1,1 0,-3A3,3 0 0,1 3,0Z\" style=\"opacity: 1; stroke-width: 0px; fill: rgb(31, 119, 180); fill-opacity: 1;\"/><path class=\"point\" transform=\"translate(54.08,86.06)\" d=\"M3,0A3,3 0 1,1 0,-3A3,3 0 0,1 3,0Z\" style=\"opacity: 1; stroke-width: 0px; fill: rgb(31, 119, 180); fill-opacity: 1;\"/><path class=\"point\" transform=\"translate(80.45,74.55)\" d=\"M3,0A3,3 0 1,1 0,-3A3,3 0 0,1 3,0Z\" style=\"opacity: 1; stroke-width: 0px; fill: rgb(31, 119, 180); fill-opacity: 1;\"/><path class=\"point\" transform=\"translate(54.08,84.46)\" d=\"M3,0A3,3 0 1,1 0,-3A3,3 0 0,1 3,0Z\" style=\"opacity: 1; stroke-width: 0px; fill: rgb(31, 119, 180); fill-opacity: 1;\"/><path class=\"point\" transform=\"translate(131.8,57.27)\" d=\"M3,0A3,3 0 1,1 0,-3A3,3 0 0,1 3,0Z\" style=\"opacity: 1; stroke-width: 0px; fill: rgb(31, 119, 180); fill-opacity: 1;\"/><path class=\"point\" transform=\"translate(79.06,77.57)\" d=\"M3,0A3,3 0 1,1 0,-3A3,3 0 0,1 3,0Z\" style=\"opacity: 1; stroke-width: 0px; fill: rgb(31, 119, 180); fill-opacity: 1;\"/><path class=\"point\" transform=\"translate(54.08,85.83)\" d=\"M3,0A3,3 0 1,1 0,-3A3,3 0 0,1 3,0Z\" style=\"opacity: 1; stroke-width: 0px; fill: rgb(31, 119, 180); fill-opacity: 1;\"/><path class=\"point\" transform=\"translate(98.49,67.32)\" d=\"M3,0A3,3 0 1,1 0,-3A3,3 0 0,1 3,0Z\" style=\"opacity: 1; stroke-width: 0px; fill: rgb(31, 119, 180); fill-opacity: 1;\"/><path class=\"point\" transform=\"translate(156.78,44.8)\" d=\"M3,0A3,3 0 1,1 0,-3A3,3 0 0,1 3,0Z\" style=\"opacity: 1; stroke-width: 0px; fill: rgb(31, 119, 180); fill-opacity: 1;\"/><path class=\"point\" transform=\"translate(66.57,91.34)\" d=\"M3,0A3,3 0 1,1 0,-3A3,3 0 0,1 3,0Z\" style=\"opacity: 1; stroke-width: 0px; fill: rgb(31, 119, 180); fill-opacity: 1;\"/><path class=\"point\" transform=\"translate(34.65,85.2)\" d=\"M3,0A3,3 0 1,1 0,-3A3,3 0 0,1 3,0Z\" style=\"opacity: 1; stroke-width: 0px; fill: rgb(31, 119, 180); fill-opacity: 1;\"/></g><g class=\"text\"/></g></g></g><g class=\"overplot\"/><path class=\"xlines-above crisp\" d=\"M57,141.85000000000002H294.18\" style=\"fill: none; stroke-width: 1px; stroke: rgb(36, 36, 36); stroke-opacity: 1;\"/><path class=\"ylines-above crisp\" d=\"M57.5,30V141.35000000000002\" style=\"fill: none; stroke-width: 1px; stroke: rgb(36, 36, 36); stroke-opacity: 1;\"/><g class=\"overlines-above\"/><g class=\"xaxislayer-above\"><path class=\"x3tick ticks crisp\" d=\"M0,142.35000000000002v5\" transform=\"translate(99.59,0)\" style=\"stroke: rgb(68, 68, 68); stroke-opacity: 1; stroke-width: 1px;\"/><path class=\"x3tick ticks crisp\" d=\"M0,142.35000000000002v5\" transform=\"translate(168.98000000000002,0)\" style=\"stroke: rgb(68, 68, 68); stroke-opacity: 1; stroke-width: 1px;\"/><path class=\"x3tick ticks crisp\" d=\"M0,142.35000000000002v5\" transform=\"translate(238.37,0)\" style=\"stroke: rgb(68, 68, 68); stroke-opacity: 1; stroke-width: 1px;\"/></g><g class=\"yaxislayer-above\"><path class=\"y3tick ticks crisp\" d=\"M57,0h-5\" transform=\"translate(0,115.38)\" style=\"stroke: rgb(68, 68, 68); stroke-opacity: 1; stroke-width: 1px;\"/><path class=\"y3tick ticks crisp\" d=\"M57,0h-5\" transform=\"translate(0,84.86)\" style=\"stroke: rgb(68, 68, 68); stroke-opacity: 1; stroke-width: 1px;\"/><path class=\"y3tick ticks crisp\" d=\"M57,0h-5\" transform=\"translate(0,54.34)\" style=\"stroke: rgb(68, 68, 68); stroke-opacity: 1; stroke-width: 1px;\"/><g class=\"y3tick\"><text text-anchor=\"end\" x=\"49.6\" y=\"4.199999999999999\" transform=\"translate(0,115.38)\" style=\"font-family: 'Open Sans', verdana, arial, sans-serif; font-size: 12px; fill: rgb(36, 36, 36); fill-opacity: 1; white-space: pre; opacity: 1;\">10</text></g><g class=\"y3tick\"><text text-anchor=\"end\" x=\"49.6\" y=\"4.199999999999999\" style=\"font-family: 'Open Sans', verdana, arial, sans-serif; font-size: 12px; fill: rgb(36, 36, 36); fill-opacity: 1; white-space: pre; opacity: 1;\" transform=\"translate(0,84.86)\">20</text></g><g class=\"y3tick\"><text text-anchor=\"end\" x=\"49.6\" y=\"4.199999999999999\" style=\"font-family: 'Open Sans', verdana, arial, sans-serif; font-size: 12px; fill: rgb(36, 36, 36); fill-opacity: 1; white-space: pre; opacity: 1;\" transform=\"translate(0,54.34)\">30</text></g></g><g class=\"overaxes-above\"/></g><g class=\"subplot x4y4\"><g class=\"layer-subplot\"><g class=\"shapelayer\"/><g class=\"imagelayer\"/></g><g class=\"minor-gridlayer\"><g class=\"x4\"/><g class=\"y4\"/></g><g class=\"gridlayer\"><g class=\"x4\"><path class=\"x4grid crisp\" transform=\"translate(345.40999999999997,0)\" d=\"M0,30v111.35000000000001\" style=\"stroke: rgb(232, 232, 232); stroke-opacity: 1; stroke-width: 1px;\"/><path class=\"x4grid crisp\" transform=\"translate(414.8,0)\" d=\"M0,30v111.35000000000001\" style=\"stroke: rgb(232, 232, 232); stroke-opacity: 1; stroke-width: 1px;\"/><path class=\"x4grid crisp\" transform=\"translate(484.19,0)\" d=\"M0,30v111.35000000000001\" style=\"stroke: rgb(232, 232, 232); stroke-opacity: 1; stroke-width: 1px;\"/></g><g class=\"y4\"><path class=\"y4grid crisp\" transform=\"translate(0,115.38)\" d=\"M303.82,0h236.18\" style=\"stroke: rgb(232, 232, 232); stroke-opacity: 1; stroke-width: 1px;\"/><path class=\"y4grid crisp\" transform=\"translate(0,84.86)\" d=\"M303.82,0h236.18\" style=\"stroke: rgb(232, 232, 232); stroke-opacity: 1; stroke-width: 1px;\"/><path class=\"y4grid crisp\" transform=\"translate(0,54.34)\" d=\"M303.82,0h236.18\" style=\"stroke: rgb(232, 232, 232); stroke-opacity: 1; stroke-width: 1px;\"/></g></g><g class=\"zerolinelayer\"/><path class=\"xlines-below\"/><path class=\"ylines-below\"/><g class=\"overlines-below\"/><g class=\"xaxislayer-below\"/><g class=\"yaxislayer-below\"/><g class=\"overaxes-below\"/><g class=\"plot\" transform=\"translate(303.82,30)\" clip-path=\"url(#clipf6dc21x4y4plot)\"><g class=\"scatterlayer mlayer\"><g class=\"trace scatter tracee1c97d\" style=\"stroke-miterlimit: 2; opacity: 1;\"><g class=\"fills\"/><g class=\"errorbars\"/><g class=\"lines\"/><g class=\"points\"><path class=\"point\" transform=\"translate(83.57,70.76)\" d=\"M3,0A3,3 0 1,1 0,-3A3,3 0 0,1 3,0Z\" style=\"opacity: 1; stroke-width: 0px; fill: rgb(31, 119, 180); fill-opacity: 1;\"/><path class=\"point\" transform=\"translate(68.83,79.9)\" d=\"M3,0A3,3 0 1,1 0,-3A3,3 0 0,1 3,0Z\" style=\"opacity: 1; stroke-width: 0px; fill: rgb(31, 119, 180); fill-opacity: 1;\"/><path class=\"point\" transform=\"translate(50.32,91.81)\" d=\"M3,0A3,3 0 1,1 0,-3A3,3 0 0,1 3,0Z\" style=\"opacity: 1; stroke-width: 0px; fill: rgb(31, 119, 180); fill-opacity: 1;\"/><path class=\"point\" transform=\"translate(57.55,84.64)\" d=\"M3,0A3,3 0 1,1 0,-3A3,3 0 0,1 3,0Z\" style=\"opacity: 1; stroke-width: 0px; fill: rgb(31, 119, 180); fill-opacity: 1;\"/><path class=\"point\" transform=\"translate(60.56,81.72)\" d=\"M3,0A3,3 0 1,1 0,-3A3,3 0 0,1 3,0Z\" style=\"opacity: 1; stroke-width: 0px; fill: rgb(31, 119, 180); fill-opacity: 1;\"/><path class=\"point\" transform=\"translate(76.23,79.3)\" d=\"M3,0A3,3 0 1,1 0,-3A3,3 0 0,1 3,0Z\" style=\"opacity: 1; stroke-width: 0px; fill: rgb(31, 119, 180); fill-opacity: 1;\"/><path class=\"point\" transform=\"translate(91.09,53.67)\" d=\"M3,0A3,3 0 1,1 0,-3A3,3 0 0,1 3,0Z\" style=\"opacity: 1; stroke-width: 0px; fill: rgb(31, 119, 180); fill-opacity: 1;\"/><path class=\"point\" transform=\"translate(85.31,74.34)\" d=\"M3,0A3,3 0 1,1 0,-3A3,3 0 0,1 3,0Z\" style=\"opacity: 1; stroke-width: 0px; fill: rgb(31, 119, 180); fill-opacity: 1;\"/><path class=\"point\" transform=\"translate(82.7,75.95)\" d=\"M3,0A3,3 0 1,1 0,-3A3,3 0 0,1 3,0Z\" style=\"opacity: 1; stroke-width: 0px; fill: rgb(31, 119, 180); fill-opacity: 1;\"/><path class=\"point\" transform=\"translate(131.05,38.16)\" d=\"M3,0A3,3 0 1,1 0,-3A3,3 0 0,1 3,0Z\" style=\"opacity: 1; stroke-width: 0px; fill: rgb(31, 119, 180); fill-opacity: 1;\"/><path class=\"point\" transform=\"translate(60.9,71.5)\" d=\"M3,0A3,3 0 1,1 0,-3A3,3 0 0,1 3,0Z\" style=\"opacity: 1; stroke-width: 0px; fill: rgb(31, 119, 180); fill-opacity: 1;\"/><path class=\"point\" transform=\"translate(38.87,92.59)\" d=\"M3,0A3,3 0 1,1 0,-3A3,3 0 0,1 3,0Z\" style=\"opacity: 1; stroke-width: 0px; fill: rgb(31, 119, 180); fill-opacity: 1;\"/><path class=\"point\" transform=\"translate(169.27,33.67)\" d=\"M3,0A3,3 0 1,1 0,-3A3,3 0 0,1 3,0Z\" style=\"opacity: 1; stroke-width: 0px; fill: rgb(31, 119, 180); fill-opacity: 1;\"/><path class=\"point\" transform=\"translate(57.49,84.37)\" d=\"M3,0A3,3 0 1,1 0,-3A3,3 0 0,1 3,0Z\" style=\"opacity: 1; stroke-width: 0px; fill: rgb(31, 119, 180); fill-opacity: 1;\"/><path class=\"point\" transform=\"translate(141.8,50.7)\" d=\"M3,0A3,3 0 1,1 0,-3A3,3 0 0,1 3,0Z\" style=\"opacity: 1; stroke-width: 0px; fill: rgb(31, 119, 180); fill-opacity: 1;\"/><path class=\"point\" transform=\"translate(76.28,79.9)\" d=\"M3,0A3,3 0 1,1 0,-3A3,3 0 0,1 3,0Z\" style=\"opacity: 1; stroke-width: 0px; fill: rgb(31, 119, 180); fill-opacity: 1;\"/><path class=\"point\" transform=\"translate(38.81,91.81)\" d=\"M3,0A3,3 0 1,1 0,-3A3,3 0 0,1 3,0Z\" style=\"opacity: 1; stroke-width: 0px; fill: rgb(31, 119, 180); fill-opacity: 1;\"/><path class=\"point\" transform=\"translate(58.24,84.64)\" d=\"M3,0A3,3 0 1,1 0,-3A3,3 0 0,1 3,0Z\" style=\"opacity: 1; stroke-width: 0px; fill: rgb(31, 119, 180); fill-opacity: 1;\"/><path class=\"point\" transform=\"translate(47.14,81.72)\" d=\"M3,0A3,3 0 1,1 0,-3A3,3 0 0,1 3,0Z\" style=\"opacity: 1; stroke-width: 0px; fill: rgb(31, 119, 180); fill-opacity: 1;\"/><path class=\"point\" transform=\"translate(65.18,79.3)\" d=\"M3,0A3,3 0 1,1 0,-3A3,3 0 0,1 3,0Z\" style=\"opacity: 1; stroke-width: 0px; fill: rgb(31, 119, 180); fill-opacity: 1;\"/><path class=\"point\" transform=\"translate(99.88,53.67)\" d=\"M3,0A3,3 0 1,1 0,-3A3,3 0 0,1 3,0Z\" style=\"opacity: 1; stroke-width: 0px; fill: rgb(31, 119, 180); fill-opacity: 1;\"/><path class=\"point\" transform=\"translate(67.96,74.34)\" d=\"M3,0A3,3 0 1,1 0,-3A3,3 0 0,1 3,0Z\" style=\"opacity: 1; stroke-width: 0px; fill: rgb(31, 119, 180); fill-opacity: 1;\"/><path class=\"point\" transform=\"translate(66.57,75.95)\" d=\"M3,0A3,3 0 1,1 0,-3A3,3 0 0,1 3,0Z\" style=\"opacity: 1; stroke-width: 0px; fill: rgb(31, 119, 180); fill-opacity: 1;\"/><path class=\"point\" transform=\"translate(137.35,38.16)\" d=\"M3,0A3,3 0 1,1 0,-3A3,3 0 0,1 3,0Z\" style=\"opacity: 1; stroke-width: 0px; fill: rgb(31, 119, 180); fill-opacity: 1;\"/><path class=\"point\" transform=\"translate(41.59,71.5)\" d=\"M3,0A3,3 0 1,1 0,-3A3,3 0 0,1 3,0Z\" style=\"opacity: 1; stroke-width: 0px; fill: rgb(31, 119, 180); fill-opacity: 1;\"/><path class=\"point\" transform=\"translate(15.22,92.59)\" d=\"M3,0A3,3 0 1,1 0,-3A3,3 0 0,1 3,0Z\" style=\"opacity: 1; stroke-width: 0px; fill: rgb(31, 119, 180); fill-opacity: 1;\"/><path class=\"point\" transform=\"translate(41.59,91.81)\" d=\"M3,0A3,3 0 1,1 0,-3A3,3 0 0,1 3,0Z\" style=\"opacity: 1; stroke-width: 0px; fill: rgb(31, 119, 180); fill-opacity: 1;\"/><path class=\"point\" transform=\"translate(109.59,53.67)\" d=\"M3,0A3,3 0 1,1 0,-3A3,3 0 0,1 3,0Z\" style=\"opacity: 1; stroke-width: 0px; fill: rgb(31, 119, 180); fill-opacity: 1;\"/><path class=\"point\" transform=\"translate(76.28,74.34)\" d=\"M3,0A3,3 0 1,1 0,-3A3,3 0 0,1 3,0Z\" style=\"opacity: 1; stroke-width: 0px; fill: rgb(31, 119, 180); fill-opacity: 1;\"/><path class=\"point\" transform=\"translate(44.36,71.5)\" d=\"M3,0A3,3 0 1,1 0,-3A3,3 0 0,1 3,0Z\" style=\"opacity: 1; stroke-width: 0px; fill: rgb(31, 119, 180); fill-opacity: 1;\"/></g><g class=\"text\"/></g></g></g><g class=\"overplot\"/><path class=\"xlines-above crisp\" d=\"M302.82,141.85000000000002H540\" style=\"fill: none; stroke-width: 1px; stroke: rgb(36, 36, 36); stroke-opacity: 1;\"/><path class=\"ylines-above crisp\" d=\"M303.32,30V141.35000000000002\" style=\"fill: none; stroke-width: 1px; stroke: rgb(36, 36, 36); stroke-opacity: 1;\"/><g class=\"overlines-above\"/><g class=\"xaxislayer-above\"><path class=\"x4tick ticks crisp\" d=\"M0,142.35000000000002v5\" transform=\"translate(345.40999999999997,0)\" style=\"stroke: rgb(68, 68, 68); stroke-opacity: 1; stroke-width: 1px;\"/><path class=\"x4tick ticks crisp\" d=\"M0,142.35000000000002v5\" transform=\"translate(414.8,0)\" style=\"stroke: rgb(68, 68, 68); stroke-opacity: 1; stroke-width: 1px;\"/><path class=\"x4tick ticks crisp\" d=\"M0,142.35000000000002v5\" transform=\"translate(484.19,0)\" style=\"stroke: rgb(68, 68, 68); stroke-opacity: 1; stroke-width: 1px;\"/></g><g class=\"yaxislayer-above\"><path class=\"y4tick ticks crisp\" d=\"M302.82,0h-5\" transform=\"translate(0,115.38)\" style=\"stroke: rgb(68, 68, 68); stroke-opacity: 1; stroke-width: 1px;\"/><path class=\"y4tick ticks crisp\" d=\"M302.82,0h-5\" transform=\"translate(0,84.86)\" style=\"stroke: rgb(68, 68, 68); stroke-opacity: 1; stroke-width: 1px;\"/><path class=\"y4tick ticks crisp\" d=\"M302.82,0h-5\" transform=\"translate(0,54.34)\" style=\"stroke: rgb(68, 68, 68); stroke-opacity: 1; stroke-width: 1px;\"/></g><g class=\"overaxes-above\"/></g></g><g class=\"polarlayer\"/><g class=\"smithlayer\"/><g class=\"ternarylayer\"/><g class=\"geolayer\"/><g class=\"funnelarealayer\"/><g class=\"pielayer\"/><g class=\"iciclelayer\"/><g class=\"treemaplayer\"/><g class=\"sunburstlayer\"/><g class=\"glimages\"/><defs id=\"topdefs-f6dc21\"><g class=\"clips\"/></defs><g class=\"layer-above\"><g class=\"imagelayer\"/><g class=\"shapelayer\"/></g><g class=\"infolayer\"><g class=\"g-gtitle\"/><g class=\"g-xtitle\"><text class=\"xtitle\" x=\"176.09\" y=\"339.20625\" text-anchor=\"middle\" style=\"font-family: 'Open Sans', verdana, arial, sans-serif; font-size: 14px; fill: rgb(36, 36, 36); opacity: 1; font-weight: normal; white-space: pre;\">AQS PM2.5</text></g><g class=\"g-x2title\"><text class=\"x2title\" x=\"421.90999999999997\" y=\"339.20625\" text-anchor=\"middle\" style=\"font-family: 'Open Sans', verdana, arial, sans-serif; font-size: 14px; fill: rgb(36, 36, 36); opacity: 1; font-weight: normal; white-space: pre;\">AQS PM2.5</text></g><g class=\"g-x3title\"/><g class=\"g-x4title\"/><g class=\"g-ytitle\" transform=\"translate(3.984375,0)\"><text class=\"ytitle\" transform=\"rotate(-90,10.028125000000003,236.325)\" x=\"10.028125000000003\" y=\"236.325\" text-anchor=\"middle\" style=\"font-family: 'Open Sans', verdana, arial, sans-serif; font-size: 14px; fill: rgb(36, 36, 36); opacity: 1; font-weight: normal; white-space: pre;\">PurpleAir PM2.5</text></g><g class=\"g-y2title\"/><g class=\"g-y3title\" transform=\"translate(3.974609375,0)\"><text class=\"y3title\" transform=\"rotate(-90,10.028125000000003,85.67500000000001)\" x=\"10.028125000000003\" y=\"85.67500000000001\" text-anchor=\"middle\" style=\"font-family: 'Open Sans', verdana, arial, sans-serif; font-size: 14px; fill: rgb(36, 36, 36); opacity: 1; font-weight: normal; white-space: pre;\">PurpleAir PM2.5</text></g><g class=\"g-y4title\"/><g class=\"annotation\" data-index=\"0\" style=\"opacity: 1;\"><g class=\"annotation-text-g\" transform=\"rotate(0,176.09,171.14999999999998)\"><g class=\"cursor-pointer\" transform=\"translate(124,162)\"><rect class=\"bg\" x=\"0.5\" y=\"0.5\" width=\"103\" height=\"18\" style=\"stroke-width: 1px; stroke: rgb(0, 0, 0); stroke-opacity: 0; fill: rgb(0, 0, 0); fill-opacity: 0;\"/><text class=\"annotation-text\" text-anchor=\"middle\" x=\"51.90625\" y=\"14\" style=\"font-family: 'Open Sans', verdana, arial, sans-serif; font-size: 12px; fill: rgb(36, 36, 36); fill-opacity: 1; white-space: pre;\">facet_col=50-55</text></g></g></g><g class=\"annotation\" data-index=\"1\" style=\"opacity: 1;\"><g class=\"annotation-text-g\" transform=\"rotate(0,421.91,171.14999999999998)\"><g class=\"cursor-pointer\" transform=\"translate(375,162)\"><rect class=\"bg\" x=\"0.5\" y=\"0.5\" width=\"92\" height=\"18\" style=\"stroke-width: 1px; stroke: rgb(0, 0, 0); stroke-opacity: 0; fill: rgb(0, 0, 0); fill-opacity: 0;\"/><text class=\"annotation-text\" text-anchor=\"middle\" x=\"46.46875\" y=\"14\" style=\"font-family: 'Open Sans', verdana, arial, sans-serif; font-size: 12px; fill: rgb(36, 36, 36); fill-opacity: 1; white-space: pre;\">facet_col=&#60;50</text></g></g></g><g class=\"annotation\" data-index=\"2\" style=\"opacity: 1;\"><g class=\"annotation-text-g\" transform=\"rotate(0,176.09,20.499999999999996)\"><g class=\"cursor-pointer\" transform=\"translate(124,11)\"><rect class=\"bg\" x=\"0.5\" y=\"0.5\" width=\"103\" height=\"18\" style=\"stroke-width: 1px; stroke: rgb(0, 0, 0); stroke-opacity: 0; fill: rgb(0, 0, 0); fill-opacity: 0;\"/><text class=\"annotation-text\" text-anchor=\"middle\" x=\"51.90625\" y=\"14\" style=\"font-family: 'Open Sans', verdana, arial, sans-serif; font-size: 12px; fill: rgb(36, 36, 36); fill-opacity: 1; white-space: pre;\">facet_col=55-60</text></g></g></g><g class=\"annotation\" data-index=\"3\" style=\"opacity: 1;\"><g class=\"annotation-text-g\" transform=\"rotate(0,421.91,20.499999999999996)\"><g class=\"cursor-pointer\" transform=\"translate(375,11)\"><rect class=\"bg\" x=\"0.5\" y=\"0.5\" width=\"92\" height=\"18\" style=\"stroke-width: 1px; stroke: rgb(0, 0, 0); stroke-opacity: 0; fill: rgb(0, 0, 0); fill-opacity: 0;\"/><text class=\"annotation-text\" text-anchor=\"middle\" x=\"46.46875\" y=\"14\" style=\"font-family: 'Open Sans', verdana, arial, sans-serif; font-size: 12px; fill: rgb(36, 36, 36); fill-opacity: 1; white-space: pre;\">facet_col=>60</text></g></g></g></g></svg>"
      ]
     },
     "metadata": {},
     "output_type": "display_data"
    }
   ],
   "source": [
    "fig = px.scatter(GA, x='pm25aqs', y='pm25pa', \n",
    "                 facet_col=rh_cat, facet_col_wrap=2,\n",
    "                 facet_row_spacing=0.15,\n",
    "                 labels={'pm25aqs':'AQS PM2.5', 'pm25pa':'PurpleAir PM2.5'},\n",
    "                 width=550, height=350)\n",
    "\n",
    "fig.update_layout(margin=dict(t=30))\n",
    "fig.show()"
   ]
  },
  {
   "cell_type": "markdown",
   "metadata": {
    "user_expressions": []
   },
   "source": [
    "These four plots show a linear relationship between the two sources of air quality measurements. And the slopes appear to be similar, which means that a multiple linear model may fit well. It's difficult to see from these plots if the relative humidity affects the intercept much. \n",
    "\n",
    "We also want to examine the pairwise scatterplots between the three features. When two explanatory features are highly correlated, their coefficients in the model may be unstable.  While linear relationships between three or more features may not show up in pairwise plots, it's still a good idea to check:  "
   ]
  },
  {
   "cell_type": "code",
   "execution_count": 33,
   "metadata": {},
   "outputs": [
    {
     "data": {
      "application/vnd.plotly.v1+json": {
       "config": {
        "plotlyServerURL": "https://plot.ly"
       },
       "data": [
        {
         "diagonal": {
          "visible": false
         },
         "dimensions": [
          {
           "axis": {
            "matches": true
           },
           "label": "PurpleAir",
           "values": [
            16.189375,
            13.5925486111111,
            10.3005709238043,
            14.7903058742853,
            17.5458402777778,
            22.3404027777778,
            14.5682766385455,
            19.2110265363129,
            21.6665694444444,
            25.6766180555556,
            25.0813977746871,
            11.3800432917262,
            15.4784444444444,
            18.0511111111111,
            19.4304166666667,
            12.5601805555556,
            7.9386875,
            7.53994444444444,
            11.7940416666667,
            7.89279861111111,
            10.2429930555556,
            11.2007361111111,
            9.85393305439331,
            9.99670833333333,
            11.6666944444444,
            15.917875,
            16.7362361111111,
            15.1454861111111,
            29.1896527777778,
            27.2041041666667,
            20.2967430555556,
            17.6836180555556,
            20.7385694444444,
            22.4718680555556,
            20.6703203342618,
            8.64885416666667,
            10.8636319444444,
            10.4440833333333,
            9.15297222222222,
            11.8642222222222,
            14.5964812239221,
            17.2498194444444,
            19.6090347222222,
            28.7283101529903,
            23.1521736111111,
            23.2944652777778,
            31.2008680555556,
            34.2497529693147,
            34.9209166666667,
            23.6401180555556,
            17.830875,
            8.04743055555556,
            8.51965972222222,
            7.42860416666667,
            10.0599235048679,
            11.9909027777778,
            13.4507293598362,
            13.4541805555556,
            9.77823119777159,
            20.3900555555556,
            6.38982638888889,
            12.9443611111111,
            13.6182847222222,
            7.56710416666667,
            4.54415972222222,
            13.5492569444444,
            13.0892230794421,
            25.4701458333333,
            14.5480216736208,
            7.63855354659249,
            12.0913333333333,
            18.2288550724638,
            12.3139733333333,
            14.8651736111111,
            18.7000486111111,
            24.6267385257302,
            26.9433888888889,
            13.0367696629213,
            13.5520694444444,
            23.3369027777778,
            25.8159791666667,
            10.3297708333333,
            8.49286111111111,
            16.6307152777778,
            21.3630528511822,
            19.8465763888889,
            13.103125,
            18.6737222222222,
            22.3404027777778,
            14.5682766385455,
            19.2110265363129,
            21.6665694444444,
            25.6766180555556,
            25.0813977746871,
            11.3800432917262,
            15.4784444444444,
            18.0511111111111,
            19.4304166666667,
            12.5601805555556,
            7.9386875,
            7.53994444444444,
            11.7940416666667,
            7.89279861111111,
            10.2429930555556,
            11.2007361111111,
            9.85393305439331,
            9.99670833333333,
            11.6666944444444,
            15.917875,
            16.7362361111111,
            15.1454861111111,
            29.1896527777778,
            27.2041041666667,
            20.2967430555556,
            17.6836180555556,
            20.7385694444444,
            22.4718680555556,
            20.6703203342618,
            8.64885416666667,
            10.8636319444444,
            10.4440833333333,
            9.15297222222222,
            11.8642222222222,
            14.5964812239221,
            17.2498194444444,
            19.6090347222222,
            28.7283101529903,
            23.1521736111111,
            23.2944652777778,
            31.2008680555556,
            34.2497529693147,
            34.9209166666667,
            23.6401180555556,
            17.830875,
            8.04743055555556,
            8.51965972222222,
            7.42860416666667,
            10.0599235048679,
            11.9909027777778,
            13.4507293598362,
            13.4541805555556,
            9.77823119777159,
            20.3900555555556,
            6.38982638888889,
            12.9443611111111,
            13.6182847222222,
            7.56710416666667,
            4.54415972222222,
            13.5492569444444,
            13.0892230794421,
            25.4701458333333,
            14.5480216736208,
            7.63855354659249,
            10.3005709238043,
            22.3404027777778,
            19.2110265363129,
            25.0813977746871,
            15.4784444444444,
            12.5601805555556,
            7.89279861111111,
            9.85393305439331,
            15.917875,
            29.1896527777778,
            20.6703203342618,
            10.4440833333333,
            9.15297222222222,
            19.6090347222222,
            23.2944652777778,
            34.9209166666667,
            8.04743055555556,
            10.0599235048679,
            13.4541805555556,
            20.3900555555556,
            12.9443611111111,
            13.6182847222222,
            14.5480216736208
           ]
          },
          {
           "axis": {
            "matches": true
           },
           "label": "AQS",
           "values": [
            8.645833,
            7.704167,
            6.3,
            8.025,
            9.441667,
            11.745833,
            8.9125,
            9.754167,
            11.020833,
            11.679167,
            11.808333,
            6.686957,
            8.604167,
            10.125,
            10.395833,
            7.478261,
            5.433333,
            5.504167,
            6.9625,
            5.629167,
            6.15,
            6.366667,
            7.278261,
            6.975,
            7.833333,
            9.533333,
            9.759091,
            8.8875,
            15.454167,
            14.845833,
            10.4,
            9.854167,
            11.454167,
            12.783333,
            11.520833,
            6.85,
            7.929167,
            7.866667,
            7.408333,
            8.579167,
            9.4875,
            10.475,
            11.275,
            13.995833,
            11.733333,
            12.83913,
            15.779167,
            16.995833,
            17.625,
            13.658333,
            10.782609,
            7.65,
            7.133333,
            5.741667,
            6,
            7.495833,
            8.295833,
            8.866667,
            6.3,
            8.566667,
            5.0375,
            6.804167,
            8.15,
            5.479167,
            4.304167,
            7.725,
            7.9625,
            11.445833,
            6.391667,
            4.804167,
            7.2,
            10.708333,
            7.2875,
            9.516667,
            10.833333,
            13.870833,
            14.2,
            8.156522,
            9.345833,
            13.5125,
            13.9375,
            6.145833,
            6.295833,
            10.826087,
            12.220833,
            10.854167,
            8.979167,
            9.854167,
            11.2,
            8.5,
            11,
            11.5,
            12.9,
            12.5,
            7,
            9.5,
            10.4,
            10.4,
            7.9,
            5.1,
            6.5,
            7.5,
            4.8,
            6.2,
            5.4,
            5.9,
            6.6,
            7.2,
            8.9,
            9.3,
            8.3,
            14.7,
            14.2,
            10.1,
            9.3,
            12.1,
            13.1,
            11.4,
            6.9,
            7.6,
            7.8,
            7.1,
            9.3,
            8.5,
            10,
            10.1,
            12.1,
            9.5,
            12,
            13.5,
            15.8,
            16.3,
            12.2,
            9.5,
            5.4,
            5.8,
            5.7,
            4.2,
            6.7,
            8,
            8.6,
            5.9,
            9.2,
            4.2,
            6.3,
            6.9,
            4.4,
            4.3,
            7.8,
            6.8,
            11.9,
            5,
            3.1,
            5.9,
            11.3,
            11.5,
            12.3,
            9.5,
            7.7,
            5,
            5.9,
            9.1,
            14.7,
            11.9,
            8.1,
            7.8,
            11.4,
            13.3,
            17.9,
            6.8,
            4.5,
            8.9,
            9.9,
            6.3,
            7.5,
            5.2
           ]
          },
          {
           "axis": {
            "matches": true
           },
           "label": "Humidity",
           "values": [
            59.5972222222222,
            56.4555555555556,
            59.0850767085077,
            62.1098748261474,
            57.2666666666667,
            53.7638888888889,
            51.2572298325723,
            58.7765363128492,
            56.8208333333333,
            55.0944444444444,
            52.7816411682893,
            55.9106317411402,
            49.9222222222222,
            50.1430555555556,
            52.2222222222222,
            56.5944444444444,
            53.2166666666667,
            54.2902777777778,
            62.1875,
            62.3041666666667,
            64.5458333333333,
            67.5361111111111,
            55.0962343096234,
            49.6986111111111,
            51.4472222222222,
            55.2611111111111,
            57.7972222222222,
            53.6111111111111,
            51.2388888888889,
            53.5194444444444,
            57.8472222222222,
            56.3041666666667,
            51.5694444444444,
            48.9152777777778,
            53.6183844011142,
            43.5680555555556,
            45.8680555555556,
            49.9222222222222,
            50.8625,
            49.8805555555556,
            50.5229485396384,
            51.0111111111111,
            49.9194444444444,
            56.0611961057024,
            58.5625,
            55.0986111111111,
            54.5152777777778,
            53.7969401947149,
            51.2541666666667,
            48.3638888888889,
            56.5569444444444,
            58.5736111111111,
            57.6027777777778,
            57.0902777777778,
            57.6968011126565,
            60.2375,
            55.3616133518776,
            52.2083333333333,
            55.2228412256267,
            67.825,
            49.3777777777778,
            54.2916666666667,
            63.9388888888889,
            54.0527777777778,
            50.8611111111111,
            57.2472222222222,
            62.8543689320388,
            67.3763888888889,
            76.9694019471488,
            70.4436717663421,
            52.9111111111111,
            53.5492753623188,
            53.964,
            55.2694444444444,
            56.4625,
            58.3699582753825,
            64.1097222222222,
            58.3932584269663,
            54.2333333333333,
            56.4222222222222,
            56.9847222222222,
            60.1041666666667,
            44.4388888888889,
            48.7541666666667,
            70.105702364395,
            51.4,
            50.3527777777778,
            49.5055555555556,
            53.7638888888889,
            51.2572298325723,
            58.7765363128492,
            56.8208333333333,
            55.0944444444444,
            52.7816411682893,
            55.9106317411402,
            49.9222222222222,
            50.1430555555556,
            52.2222222222222,
            56.5944444444444,
            53.2166666666667,
            54.2902777777778,
            62.1875,
            62.3041666666667,
            64.5458333333333,
            67.5361111111111,
            55.0962343096234,
            49.6986111111111,
            51.4472222222222,
            55.2611111111111,
            57.7972222222222,
            53.6111111111111,
            51.2388888888889,
            53.5194444444444,
            57.8472222222222,
            56.3041666666667,
            51.5694444444444,
            48.9152777777778,
            53.6183844011142,
            43.5680555555556,
            45.8680555555556,
            49.9222222222222,
            50.8625,
            49.8805555555556,
            50.5229485396384,
            51.0111111111111,
            49.9194444444444,
            56.0611961057024,
            58.5625,
            55.0986111111111,
            54.5152777777778,
            53.7969401947149,
            51.2541666666667,
            48.3638888888889,
            56.5569444444444,
            58.5736111111111,
            57.6027777777778,
            57.0902777777778,
            57.6968011126565,
            60.2375,
            55.3616133518776,
            52.2083333333333,
            55.2228412256267,
            67.825,
            49.3777777777778,
            54.2916666666667,
            63.9388888888889,
            54.0527777777778,
            50.8611111111111,
            57.2472222222222,
            62.8543689320388,
            67.3763888888889,
            76.9694019471488,
            70.4436717663421,
            59.0850767085077,
            53.7638888888889,
            58.7765363128492,
            52.7816411682893,
            49.9222222222222,
            56.5944444444444,
            62.3041666666667,
            55.0962343096234,
            55.2611111111111,
            51.2388888888889,
            53.6183844011142,
            49.9222222222222,
            50.8625,
            49.9194444444444,
            55.0986111111111,
            51.2541666666667,
            58.5736111111111,
            57.6968011126565,
            52.2083333333333,
            67.825,
            54.2916666666667,
            63.9388888888889,
            76.9694019471488
           ]
          }
         ],
         "hovertemplate": "%{xaxis.title.text}=%{x}<br>%{yaxis.title.text}=%{y}<extra></extra>",
         "legendgroup": "",
         "marker": {
          "color": "#1F77B4",
          "symbol": "circle"
         },
         "name": "",
         "showlegend": false,
         "type": "splom"
        }
       ],
       "layout": {
        "dragmode": "select",
        "height": 400,
        "legend": {
         "tracegroupgap": 0
        },
        "template": {
         "data": {
          "bar": [
           {
            "error_x": {
             "color": "rgb(36,36,36)"
            },
            "error_y": {
             "color": "rgb(36,36,36)"
            },
            "marker": {
             "line": {
              "color": "white",
              "width": 0.5
             },
             "pattern": {
              "fillmode": "overlay",
              "size": 10,
              "solidity": 0.2
             }
            },
            "type": "bar"
           }
          ],
          "barpolar": [
           {
            "marker": {
             "line": {
              "color": "white",
              "width": 0.5
             },
             "pattern": {
              "fillmode": "overlay",
              "size": 10,
              "solidity": 0.2
             }
            },
            "type": "barpolar"
           }
          ],
          "carpet": [
           {
            "aaxis": {
             "endlinecolor": "rgb(36,36,36)",
             "gridcolor": "white",
             "linecolor": "white",
             "minorgridcolor": "white",
             "startlinecolor": "rgb(36,36,36)"
            },
            "baxis": {
             "endlinecolor": "rgb(36,36,36)",
             "gridcolor": "white",
             "linecolor": "white",
             "minorgridcolor": "white",
             "startlinecolor": "rgb(36,36,36)"
            },
            "type": "carpet"
           }
          ],
          "choropleth": [
           {
            "colorbar": {
             "outlinewidth": 1,
             "tickcolor": "rgb(36,36,36)",
             "ticks": "outside"
            },
            "type": "choropleth"
           }
          ],
          "contour": [
           {
            "colorbar": {
             "outlinewidth": 1,
             "tickcolor": "rgb(36,36,36)",
             "ticks": "outside"
            },
            "colorscale": [
             [
              0,
              "#440154"
             ],
             [
              0.1111111111111111,
              "#482878"
             ],
             [
              0.2222222222222222,
              "#3e4989"
             ],
             [
              0.3333333333333333,
              "#31688e"
             ],
             [
              0.4444444444444444,
              "#26828e"
             ],
             [
              0.5555555555555556,
              "#1f9e89"
             ],
             [
              0.6666666666666666,
              "#35b779"
             ],
             [
              0.7777777777777778,
              "#6ece58"
             ],
             [
              0.8888888888888888,
              "#b5de2b"
             ],
             [
              1,
              "#fde725"
             ]
            ],
            "type": "contour"
           }
          ],
          "contourcarpet": [
           {
            "colorbar": {
             "outlinewidth": 1,
             "tickcolor": "rgb(36,36,36)",
             "ticks": "outside"
            },
            "type": "contourcarpet"
           }
          ],
          "heatmap": [
           {
            "colorbar": {
             "outlinewidth": 1,
             "tickcolor": "rgb(36,36,36)",
             "ticks": "outside"
            },
            "colorscale": [
             [
              0,
              "#440154"
             ],
             [
              0.1111111111111111,
              "#482878"
             ],
             [
              0.2222222222222222,
              "#3e4989"
             ],
             [
              0.3333333333333333,
              "#31688e"
             ],
             [
              0.4444444444444444,
              "#26828e"
             ],
             [
              0.5555555555555556,
              "#1f9e89"
             ],
             [
              0.6666666666666666,
              "#35b779"
             ],
             [
              0.7777777777777778,
              "#6ece58"
             ],
             [
              0.8888888888888888,
              "#b5de2b"
             ],
             [
              1,
              "#fde725"
             ]
            ],
            "type": "heatmap"
           }
          ],
          "heatmapgl": [
           {
            "colorbar": {
             "outlinewidth": 1,
             "tickcolor": "rgb(36,36,36)",
             "ticks": "outside"
            },
            "colorscale": [
             [
              0,
              "#440154"
             ],
             [
              0.1111111111111111,
              "#482878"
             ],
             [
              0.2222222222222222,
              "#3e4989"
             ],
             [
              0.3333333333333333,
              "#31688e"
             ],
             [
              0.4444444444444444,
              "#26828e"
             ],
             [
              0.5555555555555556,
              "#1f9e89"
             ],
             [
              0.6666666666666666,
              "#35b779"
             ],
             [
              0.7777777777777778,
              "#6ece58"
             ],
             [
              0.8888888888888888,
              "#b5de2b"
             ],
             [
              1,
              "#fde725"
             ]
            ],
            "type": "heatmapgl"
           }
          ],
          "histogram": [
           {
            "marker": {
             "line": {
              "color": "white",
              "width": 0.6
             }
            },
            "type": "histogram"
           }
          ],
          "histogram2d": [
           {
            "colorbar": {
             "outlinewidth": 1,
             "tickcolor": "rgb(36,36,36)",
             "ticks": "outside"
            },
            "colorscale": [
             [
              0,
              "#440154"
             ],
             [
              0.1111111111111111,
              "#482878"
             ],
             [
              0.2222222222222222,
              "#3e4989"
             ],
             [
              0.3333333333333333,
              "#31688e"
             ],
             [
              0.4444444444444444,
              "#26828e"
             ],
             [
              0.5555555555555556,
              "#1f9e89"
             ],
             [
              0.6666666666666666,
              "#35b779"
             ],
             [
              0.7777777777777778,
              "#6ece58"
             ],
             [
              0.8888888888888888,
              "#b5de2b"
             ],
             [
              1,
              "#fde725"
             ]
            ],
            "type": "histogram2d"
           }
          ],
          "histogram2dcontour": [
           {
            "colorbar": {
             "outlinewidth": 1,
             "tickcolor": "rgb(36,36,36)",
             "ticks": "outside"
            },
            "colorscale": [
             [
              0,
              "#440154"
             ],
             [
              0.1111111111111111,
              "#482878"
             ],
             [
              0.2222222222222222,
              "#3e4989"
             ],
             [
              0.3333333333333333,
              "#31688e"
             ],
             [
              0.4444444444444444,
              "#26828e"
             ],
             [
              0.5555555555555556,
              "#1f9e89"
             ],
             [
              0.6666666666666666,
              "#35b779"
             ],
             [
              0.7777777777777778,
              "#6ece58"
             ],
             [
              0.8888888888888888,
              "#b5de2b"
             ],
             [
              1,
              "#fde725"
             ]
            ],
            "type": "histogram2dcontour"
           }
          ],
          "mesh3d": [
           {
            "colorbar": {
             "outlinewidth": 1,
             "tickcolor": "rgb(36,36,36)",
             "ticks": "outside"
            },
            "type": "mesh3d"
           }
          ],
          "parcoords": [
           {
            "line": {
             "colorbar": {
              "outlinewidth": 1,
              "tickcolor": "rgb(36,36,36)",
              "ticks": "outside"
             }
            },
            "type": "parcoords"
           }
          ],
          "pie": [
           {
            "automargin": true,
            "type": "pie"
           }
          ],
          "scatter": [
           {
            "fillpattern": {
             "fillmode": "overlay",
             "size": 10,
             "solidity": 0.2
            },
            "type": "scatter"
           }
          ],
          "scatter3d": [
           {
            "line": {
             "colorbar": {
              "outlinewidth": 1,
              "tickcolor": "rgb(36,36,36)",
              "ticks": "outside"
             }
            },
            "marker": {
             "colorbar": {
              "outlinewidth": 1,
              "tickcolor": "rgb(36,36,36)",
              "ticks": "outside"
             }
            },
            "type": "scatter3d"
           }
          ],
          "scattercarpet": [
           {
            "marker": {
             "colorbar": {
              "outlinewidth": 1,
              "tickcolor": "rgb(36,36,36)",
              "ticks": "outside"
             }
            },
            "type": "scattercarpet"
           }
          ],
          "scattergeo": [
           {
            "marker": {
             "colorbar": {
              "outlinewidth": 1,
              "tickcolor": "rgb(36,36,36)",
              "ticks": "outside"
             }
            },
            "type": "scattergeo"
           }
          ],
          "scattergl": [
           {
            "marker": {
             "colorbar": {
              "outlinewidth": 1,
              "tickcolor": "rgb(36,36,36)",
              "ticks": "outside"
             }
            },
            "type": "scattergl"
           }
          ],
          "scattermapbox": [
           {
            "marker": {
             "colorbar": {
              "outlinewidth": 1,
              "tickcolor": "rgb(36,36,36)",
              "ticks": "outside"
             }
            },
            "type": "scattermapbox"
           }
          ],
          "scatterpolar": [
           {
            "marker": {
             "colorbar": {
              "outlinewidth": 1,
              "tickcolor": "rgb(36,36,36)",
              "ticks": "outside"
             }
            },
            "type": "scatterpolar"
           }
          ],
          "scatterpolargl": [
           {
            "marker": {
             "colorbar": {
              "outlinewidth": 1,
              "tickcolor": "rgb(36,36,36)",
              "ticks": "outside"
             }
            },
            "type": "scatterpolargl"
           }
          ],
          "scatterternary": [
           {
            "marker": {
             "colorbar": {
              "outlinewidth": 1,
              "tickcolor": "rgb(36,36,36)",
              "ticks": "outside"
             }
            },
            "type": "scatterternary"
           }
          ],
          "surface": [
           {
            "colorbar": {
             "outlinewidth": 1,
             "tickcolor": "rgb(36,36,36)",
             "ticks": "outside"
            },
            "colorscale": [
             [
              0,
              "#440154"
             ],
             [
              0.1111111111111111,
              "#482878"
             ],
             [
              0.2222222222222222,
              "#3e4989"
             ],
             [
              0.3333333333333333,
              "#31688e"
             ],
             [
              0.4444444444444444,
              "#26828e"
             ],
             [
              0.5555555555555556,
              "#1f9e89"
             ],
             [
              0.6666666666666666,
              "#35b779"
             ],
             [
              0.7777777777777778,
              "#6ece58"
             ],
             [
              0.8888888888888888,
              "#b5de2b"
             ],
             [
              1,
              "#fde725"
             ]
            ],
            "type": "surface"
           }
          ],
          "table": [
           {
            "cells": {
             "fill": {
              "color": "rgb(237,237,237)"
             },
             "line": {
              "color": "white"
             }
            },
            "header": {
             "fill": {
              "color": "rgb(217,217,217)"
             },
             "line": {
              "color": "white"
             }
            },
            "type": "table"
           }
          ]
         },
         "layout": {
          "annotationdefaults": {
           "arrowhead": 0,
           "arrowwidth": 1
          },
          "autosize": true,
          "autotypenumbers": "strict",
          "coloraxis": {
           "colorbar": {
            "outlinewidth": 1,
            "tickcolor": "rgb(36,36,36)",
            "ticks": "outside"
           }
          },
          "colorscale": {
           "diverging": [
            [
             0,
             "rgb(103,0,31)"
            ],
            [
             0.1,
             "rgb(178,24,43)"
            ],
            [
             0.2,
             "rgb(214,96,77)"
            ],
            [
             0.3,
             "rgb(244,165,130)"
            ],
            [
             0.4,
             "rgb(253,219,199)"
            ],
            [
             0.5,
             "rgb(247,247,247)"
            ],
            [
             0.6,
             "rgb(209,229,240)"
            ],
            [
             0.7,
             "rgb(146,197,222)"
            ],
            [
             0.8,
             "rgb(67,147,195)"
            ],
            [
             0.9,
             "rgb(33,102,172)"
            ],
            [
             1,
             "rgb(5,48,97)"
            ]
           ],
           "sequential": [
            [
             0,
             "#440154"
            ],
            [
             0.1111111111111111,
             "#482878"
            ],
            [
             0.2222222222222222,
             "#3e4989"
            ],
            [
             0.3333333333333333,
             "#31688e"
            ],
            [
             0.4444444444444444,
             "#26828e"
            ],
            [
             0.5555555555555556,
             "#1f9e89"
            ],
            [
             0.6666666666666666,
             "#35b779"
            ],
            [
             0.7777777777777778,
             "#6ece58"
            ],
            [
             0.8888888888888888,
             "#b5de2b"
            ],
            [
             1,
             "#fde725"
            ]
           ],
           "sequentialminus": [
            [
             0,
             "#440154"
            ],
            [
             0.1111111111111111,
             "#482878"
            ],
            [
             0.2222222222222222,
             "#3e4989"
            ],
            [
             0.3333333333333333,
             "#31688e"
            ],
            [
             0.4444444444444444,
             "#26828e"
            ],
            [
             0.5555555555555556,
             "#1f9e89"
            ],
            [
             0.6666666666666666,
             "#35b779"
            ],
            [
             0.7777777777777778,
             "#6ece58"
            ],
            [
             0.8888888888888888,
             "#b5de2b"
            ],
            [
             1,
             "#fde725"
            ]
           ]
          },
          "colorway": [
           "#1F77B4",
           "#FF7F0E",
           "#2CA02C",
           "#D62728",
           "#9467BD",
           "#8C564B",
           "#E377C2",
           "#7F7F7F",
           "#BCBD22",
           "#17BECF"
          ],
          "font": {
           "color": "rgb(36,36,36)"
          },
          "geo": {
           "bgcolor": "white",
           "lakecolor": "white",
           "landcolor": "white",
           "showlakes": true,
           "showland": true,
           "subunitcolor": "white"
          },
          "height": 250,
          "hoverlabel": {
           "align": "left"
          },
          "hovermode": "closest",
          "mapbox": {
           "style": "light"
          },
          "margin": {
           "b": 10,
           "l": 10,
           "r": 10,
           "t": 10
          },
          "paper_bgcolor": "white",
          "plot_bgcolor": "white",
          "polar": {
           "angularaxis": {
            "gridcolor": "rgb(232,232,232)",
            "linecolor": "rgb(36,36,36)",
            "showgrid": false,
            "showline": true,
            "ticks": "outside"
           },
           "bgcolor": "white",
           "radialaxis": {
            "gridcolor": "rgb(232,232,232)",
            "linecolor": "rgb(36,36,36)",
            "showgrid": false,
            "showline": true,
            "ticks": "outside"
           }
          },
          "scene": {
           "xaxis": {
            "backgroundcolor": "white",
            "gridcolor": "rgb(232,232,232)",
            "gridwidth": 2,
            "linecolor": "rgb(36,36,36)",
            "showbackground": true,
            "showgrid": false,
            "showline": true,
            "ticks": "outside",
            "zeroline": false,
            "zerolinecolor": "rgb(36,36,36)"
           },
           "yaxis": {
            "backgroundcolor": "white",
            "gridcolor": "rgb(232,232,232)",
            "gridwidth": 2,
            "linecolor": "rgb(36,36,36)",
            "showbackground": true,
            "showgrid": false,
            "showline": true,
            "ticks": "outside",
            "zeroline": false,
            "zerolinecolor": "rgb(36,36,36)"
           },
           "zaxis": {
            "backgroundcolor": "white",
            "gridcolor": "rgb(232,232,232)",
            "gridwidth": 2,
            "linecolor": "rgb(36,36,36)",
            "showbackground": true,
            "showgrid": false,
            "showline": true,
            "ticks": "outside",
            "zeroline": false,
            "zerolinecolor": "rgb(36,36,36)"
           }
          },
          "shapedefaults": {
           "fillcolor": "black",
           "line": {
            "width": 0
           },
           "opacity": 0.3
          },
          "ternary": {
           "aaxis": {
            "gridcolor": "rgb(232,232,232)",
            "linecolor": "rgb(36,36,36)",
            "showgrid": false,
            "showline": true,
            "ticks": "outside"
           },
           "baxis": {
            "gridcolor": "rgb(232,232,232)",
            "linecolor": "rgb(36,36,36)",
            "showgrid": false,
            "showline": true,
            "ticks": "outside"
           },
           "bgcolor": "white",
           "caxis": {
            "gridcolor": "rgb(232,232,232)",
            "linecolor": "rgb(36,36,36)",
            "showgrid": false,
            "showline": true,
            "ticks": "outside"
           }
          },
          "title": {
           "x": 0.5,
           "xanchor": "center"
          },
          "width": 350,
          "xaxis": {
           "automargin": true,
           "gridcolor": "rgb(232,232,232)",
           "linecolor": "rgb(36,36,36)",
           "showgrid": true,
           "showline": true,
           "ticks": "outside",
           "title": {
            "standoff": 15
           },
           "zeroline": false,
           "zerolinecolor": "rgb(36,36,36)"
          },
          "yaxis": {
           "automargin": true,
           "gridcolor": "rgb(232,232,232)",
           "linecolor": "rgb(36,36,36)",
           "showgrid": true,
           "showline": true,
           "ticks": "outside",
           "title": {
            "standoff": 15
           },
           "zeroline": false,
           "zerolinecolor": "rgb(36,36,36)"
          }
         }
        },
        "width": 550,
        "xaxis": {
         "autorange": true,
         "range": [
          1.3264117067214105,
          38.13866468216751
         ],
         "type": "linear"
        },
        "xaxis2": {
         "autorange": true,
         "range": [
          1.5322661330665333,
          19.467733866933465
         ],
         "type": "linear"
        },
        "xaxis3": {
         "autorange": true,
         "range": [
          40.029918938036914,
          80.50753856466748
         ],
         "type": "linear"
        },
        "yaxis": {
         "autorange": true,
         "range": [
          1.3264117067214105,
          38.13866468216751
         ],
         "type": "linear"
        },
        "yaxis2": {
         "autorange": true,
         "range": [
          1.5322661330665333,
          19.467733866933465
         ],
         "type": "linear"
        },
        "yaxis3": {
         "autorange": true,
         "range": [
          40.029918938036914,
          80.50753856466748
         ],
         "type": "linear"
        }
       }
      },
      "image/png": "[encoded data removed]",
      "image/svg+xml": [
       "<svg class=\"main-svg\" xmlns=\"http://www.w3.org/2000/svg\" xmlns:xlink=\"http://www.w3.org/1999/xlink\" width=\"550\" height=\"400\" style=\"\" viewBox=\"0 0 550 400\"><rect x=\"0\" y=\"0\" width=\"550\" height=\"400\" style=\"fill: rgb(255, 255, 255); fill-opacity: 1;\"/><defs id=\"defs-a7efa1\"><g class=\"clips\"><clipPath id=\"clipa7efa1xy2plot\" class=\"plotclip\"><rect width=\"147.72413793103448\" height=\"100.86206896551722\"/></clipPath><clipPath id=\"clipa7efa1xy3plot\" class=\"plotclip\"><rect width=\"147.72413793103448\" height=\"100.86206896551724\"/></clipPath><clipPath id=\"clipa7efa1x2yplot\" class=\"plotclip\"><rect width=\"147.72413793103445\" height=\"100.86206896551722\"/></clipPath><clipPath id=\"clipa7efa1x2y3plot\" class=\"plotclip\"><rect width=\"147.72413793103445\" height=\"100.86206896551724\"/></clipPath><clipPath id=\"clipa7efa1x3yplot\" class=\"plotclip\"><rect width=\"147.72413793103445\" height=\"100.86206896551722\"/></clipPath><clipPath id=\"clipa7efa1x3y2plot\" class=\"plotclip\"><rect width=\"147.72413793103445\" height=\"100.86206896551722\"/></clipPath><clipPath class=\"axesclip\" id=\"clipa7efa1x\"><rect x=\"57\" y=\"0\" width=\"147.72413793103448\" height=\"400\"/></clipPath><clipPath class=\"axesclip\" id=\"clipa7efa1y\"><rect x=\"0\" y=\"17\" width=\"550\" height=\"100.86206896551722\"/></clipPath><clipPath class=\"axesclip\" id=\"clipa7efa1xy\"><rect x=\"57\" y=\"17\" width=\"147.72413793103448\" height=\"100.86206896551722\"/></clipPath><clipPath class=\"axesclip\" id=\"clipa7efa1y2\"><rect x=\"0\" y=\"129.0689655172414\" width=\"550\" height=\"100.86206896551722\"/></clipPath><clipPath class=\"axesclip\" id=\"clipa7efa1xy2\"><rect x=\"57\" y=\"129.0689655172414\" width=\"147.72413793103448\" height=\"100.86206896551722\"/></clipPath><clipPath class=\"axesclip\" id=\"clipa7efa1y3\"><rect x=\"0\" y=\"241.13793103448276\" width=\"550\" height=\"100.86206896551724\"/></clipPath><clipPath class=\"axesclip\" id=\"clipa7efa1xy3\"><rect x=\"57\" y=\"241.13793103448276\" width=\"147.72413793103448\" height=\"100.86206896551724\"/></clipPath><clipPath class=\"axesclip\" id=\"clipa7efa1x2\"><rect x=\"221.13793103448276\" y=\"0\" width=\"147.72413793103445\" height=\"400\"/></clipPath><clipPath class=\"axesclip\" id=\"clipa7efa1x2y\"><rect x=\"221.13793103448276\" y=\"17\" width=\"147.72413793103445\" height=\"100.86206896551722\"/></clipPath><clipPath class=\"axesclip\" id=\"clipa7efa1x2y2\"><rect x=\"221.13793103448276\" y=\"129.0689655172414\" width=\"147.72413793103445\" height=\"100.86206896551722\"/></clipPath><clipPath class=\"axesclip\" id=\"clipa7efa1x2y3\"><rect x=\"221.13793103448276\" y=\"241.13793103448276\" width=\"147.72413793103445\" height=\"100.86206896551724\"/></clipPath><clipPath class=\"axesclip\" id=\"clipa7efa1x3\"><rect x=\"385.2758620689655\" y=\"0\" width=\"147.72413793103445\" height=\"400\"/></clipPath><clipPath class=\"axesclip\" id=\"clipa7efa1x3y\"><rect x=\"385.2758620689655\" y=\"17\" width=\"147.72413793103445\" height=\"100.86206896551722\"/></clipPath><clipPath class=\"axesclip\" id=\"clipa7efa1x3y2\"><rect x=\"385.2758620689655\" y=\"129.0689655172414\" width=\"147.72413793103445\" height=\"100.86206896551722\"/></clipPath><clipPath class=\"axesclip\" id=\"clipa7efa1x3y3\"><rect x=\"385.2758620689655\" y=\"241.13793103448276\" width=\"147.72413793103445\" height=\"100.86206896551724\"/></clipPath></g><g class=\"gradients\"/><g class=\"patterns\"/></defs><g class=\"bglayer\"/><g class=\"layer-below\"><g class=\"imagelayer\"/><g class=\"shapelayer\"/></g><g class=\"cartesianlayer\"><g class=\"subplot xy2\"><g class=\"layer-subplot\"><g class=\"shapelayer\"/><g class=\"imagelayer\"/></g><g class=\"minor-gridlayer\"><g class=\"x\"/><g class=\"y2\"/></g><g class=\"gridlayer\"><g class=\"x\"><path class=\"xgrid crisp\" transform=\"translate(91.28,0)\" d=\"M0,129.0689655172414v100.86206896551722\" style=\"stroke: rgb(232, 232, 232); stroke-opacity: 1; stroke-width: 1px;\"/><path class=\"xgrid crisp\" transform=\"translate(131.95,0)\" d=\"M0,129.0689655172414v100.86206896551722\" style=\"stroke: rgb(232, 232, 232); stroke-opacity: 1; stroke-width: 1px;\"/><path class=\"xgrid crisp\" transform=\"translate(172.62,0)\" d=\"M0,129.0689655172414v100.86206896551722\" style=\"stroke: rgb(232, 232, 232); stroke-opacity: 1; stroke-width: 1px;\"/></g><g class=\"y2\"><path class=\"y2grid crisp\" transform=\"translate(0,210.8489655172414)\" d=\"M57,0h147.72413793103448\" style=\"stroke: rgb(232, 232, 232); stroke-opacity: 1; stroke-width: 1px;\"/><path class=\"y2grid crisp\" transform=\"translate(0,182.3489655172414)\" d=\"M57,0h147.72413793103448\" style=\"stroke: rgb(232, 232, 232); stroke-opacity: 1; stroke-width: 1px;\"/><path class=\"y2grid crisp\" transform=\"translate(0,153.8489655172414)\" d=\"M57,0h147.72413793103448\" style=\"stroke: rgb(232, 232, 232); stroke-opacity: 1; stroke-width: 1px;\"/></g></g><g class=\"zerolinelayer\"/><path class=\"xlines-below\"/><path class=\"ylines-below\"/><g class=\"overlines-below\"/><g class=\"xaxislayer-below\"/><g class=\"yaxislayer-below\"/><g class=\"overaxes-below\"/><g class=\"plot\" transform=\"translate(57,129.0689655172414)\" clip-path=\"url(#clipa7efa1xy2plot)\"/><g class=\"overplot\"/><path class=\"xlines-above crisp\" d=\"M57,342.5h147.72413793103448\" style=\"fill: none; stroke-width: 1px; stroke: rgb(36, 36, 36); stroke-opacity: 1;\"/><path class=\"ylines-above crisp\" d=\"M57.5,129.0689655172414v100.86206896551722\" style=\"fill: none; stroke-width: 1px; stroke: rgb(36, 36, 36); stroke-opacity: 1;\"/><g class=\"overlines-above\"/><g class=\"xaxislayer-above\"><path class=\"xtick ticks crisp\" d=\"M0,343v5\" transform=\"translate(91.28,0)\" style=\"stroke: rgb(68, 68, 68); stroke-opacity: 1; stroke-width: 1px;\"/><path class=\"xtick ticks crisp\" d=\"M0,343v5\" transform=\"translate(131.95,0)\" style=\"stroke: rgb(68, 68, 68); stroke-opacity: 1; stroke-width: 1px;\"/><path class=\"xtick ticks crisp\" d=\"M0,343v5\" transform=\"translate(172.62,0)\" style=\"stroke: rgb(68, 68, 68); stroke-opacity: 1; stroke-width: 1px;\"/><g class=\"xtick\"><text text-anchor=\"middle\" x=\"0\" y=\"362.4\" transform=\"translate(91.28,0)\" style=\"font-family: 'Open Sans', verdana, arial, sans-serif; font-size: 12px; fill: rgb(36, 36, 36); fill-opacity: 1; white-space: pre; opacity: 1;\">10</text></g><g class=\"xtick\"><text text-anchor=\"middle\" x=\"0\" y=\"362.4\" style=\"font-family: 'Open Sans', verdana, arial, sans-serif; font-size: 12px; fill: rgb(36, 36, 36); fill-opacity: 1; white-space: pre; opacity: 1;\" transform=\"translate(131.95,0)\">20</text></g><g class=\"xtick\"><text text-anchor=\"middle\" x=\"0\" y=\"362.4\" style=\"font-family: 'Open Sans', verdana, arial, sans-serif; font-size: 12px; fill: rgb(36, 36, 36); fill-opacity: 1; white-space: pre; opacity: 1;\" transform=\"translate(172.62,0)\">30</text></g></g><g class=\"yaxislayer-above\"><path class=\"y2tick ticks crisp\" d=\"M57,0h-5\" transform=\"translate(0,210.8489655172414)\" style=\"stroke: rgb(68, 68, 68); stroke-opacity: 1; stroke-width: 1px;\"/><path class=\"y2tick ticks crisp\" d=\"M57,0h-5\" transform=\"translate(0,182.3489655172414)\" style=\"stroke: rgb(68, 68, 68); stroke-opacity: 1; stroke-width: 1px;\"/><path class=\"y2tick ticks crisp\" d=\"M57,0h-5\" transform=\"translate(0,153.8489655172414)\" style=\"stroke: rgb(68, 68, 68); stroke-opacity: 1; stroke-width: 1px;\"/><g class=\"y2tick\"><text text-anchor=\"end\" x=\"49.6\" y=\"4.199999999999999\" transform=\"translate(0,210.8489655172414)\" style=\"font-family: 'Open Sans', verdana, arial, sans-serif; font-size: 12px; fill: rgb(36, 36, 36); fill-opacity: 1; white-space: pre; opacity: 1;\">5</text></g><g class=\"y2tick\"><text text-anchor=\"end\" x=\"49.6\" y=\"4.199999999999999\" style=\"font-family: 'Open Sans', verdana, arial, sans-serif; font-size: 12px; fill: rgb(36, 36, 36); fill-opacity: 1; white-space: pre; opacity: 1;\" transform=\"translate(0,182.3489655172414)\">10</text></g><g class=\"y2tick\"><text text-anchor=\"end\" x=\"49.6\" y=\"4.199999999999999\" style=\"font-family: 'Open Sans', verdana, arial, sans-serif; font-size: 12px; fill: rgb(36, 36, 36); fill-opacity: 1; white-space: pre; opacity: 1;\" transform=\"translate(0,153.8489655172414)\">15</text></g></g><g class=\"overaxes-above\"/></g><g class=\"subplot xy3\"><g class=\"layer-subplot\"><g class=\"shapelayer\"/><g class=\"imagelayer\"/></g><g class=\"minor-gridlayer\"><g class=\"x\"/><g class=\"y3\"/></g><g class=\"gridlayer\"><g class=\"x\"><path class=\"xgrid crisp\" transform=\"translate(91.28,0)\" d=\"M0,241.13793103448276v100.86206896551724\" style=\"stroke: rgb(232, 232, 232); stroke-opacity: 1; stroke-width: 1px;\"/><path class=\"xgrid crisp\" transform=\"translate(131.95,0)\" d=\"M0,241.13793103448276v100.86206896551724\" style=\"stroke: rgb(232, 232, 232); stroke-opacity: 1; stroke-width: 1px;\"/><path class=\"xgrid crisp\" transform=\"translate(172.62,0)\" d=\"M0,241.13793103448276v100.86206896551724\" style=\"stroke: rgb(232, 232, 232); stroke-opacity: 1; stroke-width: 1px;\"/></g><g class=\"y3\"><path class=\"y3grid crisp\" transform=\"translate(0,317.5079310344828)\" d=\"M57,0h147.72413793103448\" style=\"stroke: rgb(232, 232, 232); stroke-opacity: 1; stroke-width: 1px;\"/><path class=\"y3grid crisp\" transform=\"translate(0,292.24793103448275)\" d=\"M57,0h147.72413793103448\" style=\"stroke: rgb(232, 232, 232); stroke-opacity: 1; stroke-width: 1px;\"/><path class=\"y3grid crisp\" transform=\"translate(0,266.98793103448276)\" d=\"M57,0h147.72413793103448\" style=\"stroke: rgb(232, 232, 232); stroke-opacity: 1; stroke-width: 1px;\"/></g></g><g class=\"zerolinelayer\"/><path class=\"xlines-below\"/><path class=\"ylines-below\"/><g class=\"overlines-below\"/><g class=\"xaxislayer-below\"/><g class=\"yaxislayer-below\"/><g class=\"overaxes-below\"/><g class=\"plot\" transform=\"translate(57,241.13793103448276)\" clip-path=\"url(#clipa7efa1xy3plot)\"/><g class=\"overplot\"/><path class=\"xlines-above crisp\" d=\"M0,0\" style=\"fill: none;\"/><path class=\"ylines-above crisp\" d=\"M57.5,241.13793103448276v100.86206896551724\" style=\"fill: none; stroke-width: 1px; stroke: rgb(36, 36, 36); stroke-opacity: 1;\"/><g class=\"overlines-above\"/><g class=\"xaxislayer-above\"/><g class=\"yaxislayer-above\"><path class=\"y3tick ticks crisp\" d=\"M57,0h-5\" transform=\"translate(0,317.5079310344828)\" style=\"stroke: rgb(68, 68, 68); stroke-opacity: 1; stroke-width: 1px;\"/><path class=\"y3tick ticks crisp\" d=\"M57,0h-5\" transform=\"translate(0,292.24793103448275)\" style=\"stroke: rgb(68, 68, 68); stroke-opacity: 1; stroke-width: 1px;\"/><path class=\"y3tick ticks crisp\" d=\"M57,0h-5\" transform=\"translate(0,266.98793103448276)\" style=\"stroke: rgb(68, 68, 68); stroke-opacity: 1; stroke-width: 1px;\"/><path class=\"y3tick ticks crisp\" d=\"M57,0h-5\" transform=\"translate(0,241.73793103448276)\" style=\"stroke: rgb(68, 68, 68); stroke-opacity: 1; stroke-width: 1px;\"/><g class=\"y3tick\"><text text-anchor=\"end\" x=\"49.6\" y=\"4.199999999999999\" transform=\"translate(0,317.5079310344828)\" style=\"font-family: 'Open Sans', verdana, arial, sans-serif; font-size: 12px; fill: rgb(36, 36, 36); fill-opacity: 1; white-space: pre; opacity: 1;\">50</text></g><g class=\"y3tick\"><text text-anchor=\"end\" x=\"49.6\" y=\"4.199999999999999\" style=\"font-family: 'Open Sans', verdana, arial, sans-serif; font-size: 12px; fill: rgb(36, 36, 36); fill-opacity: 1; white-space: pre; opacity: 1;\" transform=\"translate(0,292.24793103448275)\">60</text></g><g class=\"y3tick\"><text text-anchor=\"end\" x=\"49.6\" y=\"4.199999999999999\" style=\"font-family: 'Open Sans', verdana, arial, sans-serif; font-size: 12px; fill: rgb(36, 36, 36); fill-opacity: 1; white-space: pre; opacity: 1;\" transform=\"translate(0,266.98793103448276)\">70</text></g><g class=\"y3tick\"><text text-anchor=\"end\" x=\"49.6\" y=\"4.199999999999999\" style=\"font-family: 'Open Sans', verdana, arial, sans-serif; font-size: 12px; fill: rgb(36, 36, 36); fill-opacity: 1; white-space: pre; opacity: 1;\" transform=\"translate(0,241.73793103448276)\">80</text></g></g><g class=\"overaxes-above\"/></g><g class=\"subplot x2y\"><g class=\"layer-subplot\"><g class=\"shapelayer\"/><g class=\"imagelayer\"/></g><g class=\"minor-gridlayer\"><g class=\"x2\"/><g class=\"y\"/></g><g class=\"gridlayer\"><g class=\"x2\"><path class=\"x2grid crisp\" transform=\"translate(249.08793103448275,0)\" d=\"M0,17v100.86206896551722\" style=\"stroke: rgb(232, 232, 232); stroke-opacity: 1; stroke-width: 1px;\"/><path class=\"x2grid crisp\" transform=\"translate(290.82793103448273,0)\" d=\"M0,17v100.86206896551722\" style=\"stroke: rgb(232, 232, 232); stroke-opacity: 1; stroke-width: 1px;\"/><path class=\"x2grid crisp\" transform=\"translate(332.56793103448274,0)\" d=\"M0,17v100.86206896551722\" style=\"stroke: rgb(232, 232, 232); stroke-opacity: 1; stroke-width: 1px;\"/></g><g class=\"y\"><path class=\"ygrid crisp\" transform=\"translate(0,94.46)\" d=\"M221.13793103448276,0h147.72413793103445\" style=\"stroke: rgb(232, 232, 232); stroke-opacity: 1; stroke-width: 1px;\"/><path class=\"ygrid crisp\" transform=\"translate(0,66.69)\" d=\"M221.13793103448276,0h147.72413793103445\" style=\"stroke: rgb(232, 232, 232); stroke-opacity: 1; stroke-width: 1px;\"/><path class=\"ygrid crisp\" transform=\"translate(0,38.92)\" d=\"M221.13793103448276,0h147.72413793103445\" style=\"stroke: rgb(232, 232, 232); stroke-opacity: 1; stroke-width: 1px;\"/></g></g><g class=\"zerolinelayer\"/><path class=\"xlines-below\"/><path class=\"ylines-below\"/><g class=\"overlines-below\"/><g class=\"xaxislayer-below\"/><g class=\"yaxislayer-below\"/><g class=\"overaxes-below\"/><g class=\"plot\" transform=\"translate(221.13793103448276,17)\" clip-path=\"url(#clipa7efa1x2yplot)\"/><g class=\"overplot\"/><path class=\"xlines-above crisp\" d=\"M221.13793103448276,342.5h147.72413793103445\" style=\"fill: none; stroke-width: 1px; stroke: rgb(36, 36, 36); stroke-opacity: 1;\"/><path class=\"ylines-above crisp\" d=\"M57.5,17v100.86206896551722\" style=\"fill: none; stroke-width: 1px; stroke: rgb(36, 36, 36); stroke-opacity: 1;\"/><g class=\"overlines-above\"/><g class=\"xaxislayer-above\"><path class=\"x2tick ticks crisp\" d=\"M0,343v5\" transform=\"translate(249.08793103448275,0)\" style=\"stroke: rgb(68, 68, 68); stroke-opacity: 1; stroke-width: 1px;\"/><path class=\"x2tick ticks crisp\" d=\"M0,343v5\" transform=\"translate(290.82793103448273,0)\" style=\"stroke: rgb(68, 68, 68); stroke-opacity: 1; stroke-width: 1px;\"/><path class=\"x2tick ticks crisp\" d=\"M0,343v5\" transform=\"translate(332.56793103448274,0)\" style=\"stroke: rgb(68, 68, 68); stroke-opacity: 1; stroke-width: 1px;\"/><g class=\"x2tick\"><text text-anchor=\"middle\" x=\"0\" y=\"362.4\" transform=\"translate(249.08793103448275,0)\" style=\"font-family: 'Open Sans', verdana, arial, sans-serif; font-size: 12px; fill: rgb(36, 36, 36); fill-opacity: 1; white-space: pre; opacity: 1;\">5</text></g><g class=\"x2tick\"><text text-anchor=\"middle\" x=\"0\" y=\"362.4\" style=\"font-family: 'Open Sans', verdana, arial, sans-serif; font-size: 12px; fill: rgb(36, 36, 36); fill-opacity: 1; white-space: pre; opacity: 1;\" transform=\"translate(290.82793103448273,0)\">10</text></g><g class=\"x2tick\"><text text-anchor=\"middle\" x=\"0\" y=\"362.4\" style=\"font-family: 'Open Sans', verdana, arial, sans-serif; font-size: 12px; fill: rgb(36, 36, 36); fill-opacity: 1; white-space: pre; opacity: 1;\" transform=\"translate(332.56793103448274,0)\">15</text></g></g><g class=\"yaxislayer-above\"><path class=\"ytick ticks crisp\" d=\"M57,0h-5\" transform=\"translate(0,94.46)\" style=\"stroke: rgb(68, 68, 68); stroke-opacity: 1; stroke-width: 1px;\"/><path class=\"ytick ticks crisp\" d=\"M57,0h-5\" transform=\"translate(0,66.69)\" style=\"stroke: rgb(68, 68, 68); stroke-opacity: 1; stroke-width: 1px;\"/><path class=\"ytick ticks crisp\" d=\"M57,0h-5\" transform=\"translate(0,38.92)\" style=\"stroke: rgb(68, 68, 68); stroke-opacity: 1; stroke-width: 1px;\"/><g class=\"ytick\"><text text-anchor=\"end\" x=\"49.6\" y=\"4.199999999999999\" transform=\"translate(0,94.46)\" style=\"font-family: 'Open Sans', verdana, arial, sans-serif; font-size: 12px; fill: rgb(36, 36, 36); fill-opacity: 1; white-space: pre; opacity: 1;\">10</text></g><g class=\"ytick\"><text text-anchor=\"end\" x=\"49.6\" y=\"4.199999999999999\" style=\"font-family: 'Open Sans', verdana, arial, sans-serif; font-size: 12px; fill: rgb(36, 36, 36); fill-opacity: 1; white-space: pre; opacity: 1;\" transform=\"translate(0,66.69)\">20</text></g><g class=\"ytick\"><text text-anchor=\"end\" x=\"49.6\" y=\"4.199999999999999\" style=\"font-family: 'Open Sans', verdana, arial, sans-serif; font-size: 12px; fill: rgb(36, 36, 36); fill-opacity: 1; white-space: pre; opacity: 1;\" transform=\"translate(0,38.92)\">30</text></g></g><g class=\"overaxes-above\"/></g><g class=\"subplot x2y3\"><g class=\"layer-subplot\"><g class=\"shapelayer\"/><g class=\"imagelayer\"/></g><g class=\"minor-gridlayer\"><g class=\"x2\"/><g class=\"y3\"/></g><g class=\"gridlayer\"><g class=\"x2\"><path class=\"x2grid crisp\" transform=\"translate(249.08793103448275,0)\" d=\"M0,241.13793103448276v100.86206896551724\" style=\"stroke: rgb(232, 232, 232); stroke-opacity: 1; stroke-width: 1px;\"/><path class=\"x2grid crisp\" transform=\"translate(290.82793103448273,0)\" d=\"M0,241.13793103448276v100.86206896551724\" style=\"stroke: rgb(232, 232, 232); stroke-opacity: 1; stroke-width: 1px;\"/><path class=\"x2grid crisp\" transform=\"translate(332.56793103448274,0)\" d=\"M0,241.13793103448276v100.86206896551724\" style=\"stroke: rgb(232, 232, 232); stroke-opacity: 1; stroke-width: 1px;\"/></g><g class=\"y3\"><path class=\"y3grid crisp\" transform=\"translate(0,317.5079310344828)\" d=\"M221.13793103448276,0h147.72413793103445\" style=\"stroke: rgb(232, 232, 232); stroke-opacity: 1; stroke-width: 1px;\"/><path class=\"y3grid crisp\" transform=\"translate(0,292.24793103448275)\" d=\"M221.13793103448276,0h147.72413793103445\" style=\"stroke: rgb(232, 232, 232); stroke-opacity: 1; stroke-width: 1px;\"/><path class=\"y3grid crisp\" transform=\"translate(0,266.98793103448276)\" d=\"M221.13793103448276,0h147.72413793103445\" style=\"stroke: rgb(232, 232, 232); stroke-opacity: 1; stroke-width: 1px;\"/></g></g><g class=\"zerolinelayer\"/><path class=\"xlines-below\"/><path class=\"ylines-below\"/><g class=\"overlines-below\"/><g class=\"xaxislayer-below\"/><g class=\"yaxislayer-below\"/><g class=\"overaxes-below\"/><g class=\"plot\" transform=\"translate(221.13793103448276,241.13793103448276)\" clip-path=\"url(#clipa7efa1x2y3plot)\"/><g class=\"overplot\"/><path class=\"xlines-above crisp\" d=\"M0,0\" style=\"fill: none;\"/><path class=\"ylines-above crisp\" d=\"M0,0\" style=\"fill: none;\"/><g class=\"overlines-above\"/><g class=\"xaxislayer-above\"/><g class=\"yaxislayer-above\"/><g class=\"overaxes-above\"/></g><g class=\"subplot x3y\"><g class=\"layer-subplot\"><g class=\"shapelayer\"/><g class=\"imagelayer\"/></g><g class=\"minor-gridlayer\"><g class=\"x3\"/><g class=\"y\"/></g><g class=\"gridlayer\"><g class=\"x3\"><path class=\"x3grid crisp\" transform=\"translate(421.1558620689655,0)\" d=\"M0,17v100.86206896551722\" style=\"stroke: rgb(232, 232, 232); stroke-opacity: 1; stroke-width: 1px;\"/><path class=\"x3grid crisp\" transform=\"translate(458.1458620689655,0)\" d=\"M0,17v100.86206896551722\" style=\"stroke: rgb(232, 232, 232); stroke-opacity: 1; stroke-width: 1px;\"/><path class=\"x3grid crisp\" transform=\"translate(495.13586206896554,0)\" d=\"M0,17v100.86206896551722\" style=\"stroke: rgb(232, 232, 232); stroke-opacity: 1; stroke-width: 1px;\"/></g><g class=\"y\"><path class=\"ygrid crisp\" transform=\"translate(0,94.46)\" d=\"M385.2758620689655,0h147.72413793103445\" style=\"stroke: rgb(232, 232, 232); stroke-opacity: 1; stroke-width: 1px;\"/><path class=\"ygrid crisp\" transform=\"translate(0,66.69)\" d=\"M385.2758620689655,0h147.72413793103445\" style=\"stroke: rgb(232, 232, 232); stroke-opacity: 1; stroke-width: 1px;\"/><path class=\"ygrid crisp\" transform=\"translate(0,38.92)\" d=\"M385.2758620689655,0h147.72413793103445\" style=\"stroke: rgb(232, 232, 232); stroke-opacity: 1; stroke-width: 1px;\"/></g></g><g class=\"zerolinelayer\"/><path class=\"xlines-below\"/><path class=\"ylines-below\"/><g class=\"overlines-below\"/><g class=\"xaxislayer-below\"/><g class=\"yaxislayer-below\"/><g class=\"overaxes-below\"/><g class=\"plot\" transform=\"translate(385.2758620689655,17)\" clip-path=\"url(#clipa7efa1x3yplot)\"/><g class=\"overplot\"/><path class=\"xlines-above crisp\" d=\"M385.2758620689655,342.5h147.72413793103445\" style=\"fill: none; stroke-width: 1px; stroke: rgb(36, 36, 36); stroke-opacity: 1;\"/><path class=\"ylines-above crisp\" d=\"M0,0\" style=\"fill: none;\"/><g class=\"overlines-above\"/><g class=\"xaxislayer-above\"><path class=\"x3tick ticks crisp\" d=\"M0,343v5\" transform=\"translate(421.1558620689655,0)\" style=\"stroke: rgb(68, 68, 68); stroke-opacity: 1; stroke-width: 1px;\"/><path class=\"x3tick ticks crisp\" d=\"M0,343v5\" transform=\"translate(458.1458620689655,0)\" style=\"stroke: rgb(68, 68, 68); stroke-opacity: 1; stroke-width: 1px;\"/><path class=\"x3tick ticks crisp\" d=\"M0,343v5\" transform=\"translate(495.13586206896554,0)\" style=\"stroke: rgb(68, 68, 68); stroke-opacity: 1; stroke-width: 1px;\"/><path class=\"x3tick ticks crisp\" d=\"M0,343v5\" transform=\"translate(532.1258620689655,0)\" style=\"stroke: rgb(68, 68, 68); stroke-opacity: 1; stroke-width: 1px;\"/><g class=\"x3tick\"><text text-anchor=\"middle\" x=\"0\" y=\"362.4\" transform=\"translate(421.1558620689655,0)\" style=\"font-family: 'Open Sans', verdana, arial, sans-serif; font-size: 12px; fill: rgb(36, 36, 36); fill-opacity: 1; white-space: pre; opacity: 1;\">50</text></g><g class=\"x3tick\"><text text-anchor=\"middle\" x=\"0\" y=\"362.4\" style=\"font-family: 'Open Sans', verdana, arial, sans-serif; font-size: 12px; fill: rgb(36, 36, 36); fill-opacity: 1; white-space: pre; opacity: 1;\" transform=\"translate(458.1458620689655,0)\">60</text></g><g class=\"x3tick\"><text text-anchor=\"middle\" x=\"0\" y=\"362.4\" style=\"font-family: 'Open Sans', verdana, arial, sans-serif; font-size: 12px; fill: rgb(36, 36, 36); fill-opacity: 1; white-space: pre; opacity: 1;\" transform=\"translate(495.13586206896554,0)\">70</text></g><g class=\"x3tick\"><text text-anchor=\"middle\" x=\"0\" y=\"362.4\" style=\"font-family: 'Open Sans', verdana, arial, sans-serif; font-size: 12px; fill: rgb(36, 36, 36); fill-opacity: 1; white-space: pre; opacity: 1;\" transform=\"translate(532.1258620689655,0)\">80</text></g></g><g class=\"yaxislayer-above\"/><g class=\"overaxes-above\"/></g><g class=\"subplot x3y2\"><g class=\"layer-subplot\"><g class=\"shapelayer\"/><g class=\"imagelayer\"/></g><g class=\"minor-gridlayer\"><g class=\"x3\"/><g class=\"y2\"/></g><g class=\"gridlayer\"><g class=\"x3\"><path class=\"x3grid crisp\" transform=\"translate(421.1558620689655,0)\" d=\"M0,129.0689655172414v100.86206896551722\" style=\"stroke: rgb(232, 232, 232); stroke-opacity: 1; stroke-width: 1px;\"/><path class=\"x3grid crisp\" transform=\"translate(458.1458620689655,0)\" d=\"M0,129.0689655172414v100.86206896551722\" style=\"stroke: rgb(232, 232, 232); stroke-opacity: 1; stroke-width: 1px;\"/><path class=\"x3grid crisp\" transform=\"translate(495.13586206896554,0)\" d=\"M0,129.0689655172414v100.86206896551722\" style=\"stroke: rgb(232, 232, 232); stroke-opacity: 1; stroke-width: 1px;\"/></g><g class=\"y2\"><path class=\"y2grid crisp\" transform=\"translate(0,210.8489655172414)\" d=\"M385.2758620689655,0h147.72413793103445\" style=\"stroke: rgb(232, 232, 232); stroke-opacity: 1; stroke-width: 1px;\"/><path class=\"y2grid crisp\" transform=\"translate(0,182.3489655172414)\" d=\"M385.2758620689655,0h147.72413793103445\" style=\"stroke: rgb(232, 232, 232); stroke-opacity: 1; stroke-width: 1px;\"/><path class=\"y2grid crisp\" transform=\"translate(0,153.8489655172414)\" d=\"M385.2758620689655,0h147.72413793103445\" style=\"stroke: rgb(232, 232, 232); stroke-opacity: 1; stroke-width: 1px;\"/></g></g><g class=\"zerolinelayer\"/><path class=\"xlines-below\"/><path class=\"ylines-below\"/><g class=\"overlines-below\"/><g class=\"xaxislayer-below\"/><g class=\"yaxislayer-below\"/><g class=\"overaxes-below\"/><g class=\"plot\" transform=\"translate(385.2758620689655,129.0689655172414)\" clip-path=\"url(#clipa7efa1x3y2plot)\"/><g class=\"overplot\"/><path class=\"xlines-above crisp\" d=\"M0,0\" style=\"fill: none;\"/><path class=\"ylines-above crisp\" d=\"M0,0\" style=\"fill: none;\"/><g class=\"overlines-above\"/><g class=\"xaxislayer-above\"/><g class=\"yaxislayer-above\"/><g class=\"overaxes-above\"/></g></g><g class=\"polarlayer\"/><g class=\"smithlayer\"/><g class=\"ternarylayer\"/><g class=\"geolayer\"/><g class=\"funnelarealayer\"/><g class=\"pielayer\"/><g class=\"iciclelayer\"/><g class=\"treemaplayer\"/><g class=\"sunburstlayer\"/><g class=\"glimages\"><image xmlns=\"http://www.w3.org/2000/svg\" xlink:href=\"data:image/png;base64,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\" preserveAspectRatio=\"none\" x=\"0\" y=\"0\" width=\"550px\" height=\"400px\"/><image xmlns=\"http://www.w3.org/2000/svg\" xlink:href=\"data:image/png;base64,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\" preserveAspectRatio=\"none\" x=\"0\" y=\"0\" width=\"550px\" height=\"400px\"/></g><defs id=\"topdefs-a7efa1\"><g class=\"clips\"/></defs><g class=\"layer-above\"><g class=\"imagelayer\"/><g class=\"shapelayer\"/></g><g class=\"infolayer\"><g class=\"g-gtitle\"/><g class=\"g-xtitle\"><text class=\"xtitle\" x=\"130.86206896551724\" y=\"389.20625\" text-anchor=\"middle\" style=\"font-family: 'Open Sans', verdana, arial, sans-serif; font-size: 14px; fill: rgb(36, 36, 36); opacity: 1; font-weight: normal; white-space: pre;\">PurpleAir</text></g><g class=\"g-x2title\"><text class=\"x2title\" x=\"295\" y=\"389.20625\" text-anchor=\"middle\" style=\"font-family: 'Open Sans', verdana, arial, sans-serif; font-size: 14px; fill: rgb(36, 36, 36); opacity: 1; font-weight: normal; white-space: pre;\">AQS</text></g><g class=\"g-x3title\"><text class=\"x3title\" x=\"459.13793103448273\" y=\"389.20625\" text-anchor=\"middle\" style=\"font-family: 'Open Sans', verdana, arial, sans-serif; font-size: 14px; fill: rgb(36, 36, 36); opacity: 1; font-weight: normal; white-space: pre;\">Humidity</text></g><g class=\"g-ytitle\" transform=\"translate(4.9814453125,0)\"><text class=\"ytitle\" transform=\"rotate(-90,9.028125000000003,67.4310344827586)\" x=\"9.028125000000003\" y=\"67.4310344827586\" text-anchor=\"middle\" style=\"font-family: 'Open Sans', verdana, arial, sans-serif; font-size: 14px; fill: rgb(36, 36, 36); opacity: 1; font-weight: normal; white-space: pre;\">PurpleAir</text></g><g class=\"g-y2title\" transform=\"translate(4.9716796875,0)\"><text class=\"y2title\" transform=\"rotate(-90,9.028125000000003,179.5)\" x=\"9.028125000000003\" y=\"179.5\" text-anchor=\"middle\" style=\"font-family: 'Open Sans', verdana, arial, sans-serif; font-size: 14px; fill: rgb(36, 36, 36); opacity: 1; font-weight: normal; white-space: pre;\">AQS</text></g><g class=\"g-y3title\" transform=\"translate(4.978515625,0)\"><text class=\"y3title\" transform=\"rotate(-90,9.028125000000003,291.5689655172414)\" x=\"9.028125000000003\" y=\"291.5689655172414\" text-anchor=\"middle\" style=\"font-family: 'Open Sans', verdana, arial, sans-serif; font-size: 14px; fill: rgb(36, 36, 36); opacity: 1; font-weight: normal; white-space: pre;\">Humidity</text></g></g></svg>"
      ]
     },
     "metadata": {},
     "output_type": "display_data"
    }
   ],
   "source": [
    "fig = px.scatter_matrix(\n",
    "    GA[['pm25pa', 'pm25aqs', 'rh']],\n",
    "    labels={'pm25aqs':'AQS', 'pm25pa':'PurpleAir', 'rh':'Humidity'},\n",
    "    width=550, height=400)\n",
    "\n",
    "fig.update_traces(diagonal_visible=False)"
   ]
  },
  {
   "cell_type": "markdown",
   "metadata": {
    "user_expressions": []
   },
   "source": [
    "The relationship between humidity and air quality does not appear to be particularly strong. Another pairwise measure we should examine are the correlations between features: "
   ]
  },
  {
   "cell_type": "code",
   "execution_count": 24,
   "metadata": {
    "tags": [
     "hide-input"
    ]
   },
   "outputs": [
    {
     "data": {
      "text/html": [
       "<div>\n",
       "<style scoped>\n",
       "    .dataframe tbody tr th:only-of-type {\n",
       "        vertical-align: middle;\n",
       "    }\n",
       "\n",
       "    .dataframe tbody tr th {\n",
       "        vertical-align: top;\n",
       "    }\n",
       "\n",
       "    .dataframe thead th {\n",
       "        text-align: right;\n",
       "    }\n",
       "</style>\n",
       "<table border=\"1\" class=\"dataframe\">\n",
       "  <thead>\n",
       "    <tr style=\"text-align: right;\">\n",
       "      <th></th>\n",
       "      <th>pm25pa</th>\n",
       "      <th>pm25aqs</th>\n",
       "      <th>rh</th>\n",
       "    </tr>\n",
       "  </thead>\n",
       "  <tbody>\n",
       "    <tr>\n",
       "      <th>pm25pa</th>\n",
       "      <td>1.00</td>\n",
       "      <td>0.95</td>\n",
       "      <td>-0.06</td>\n",
       "    </tr>\n",
       "    <tr>\n",
       "      <th>pm25aqs</th>\n",
       "      <td>0.95</td>\n",
       "      <td>1.00</td>\n",
       "      <td>-0.24</td>\n",
       "    </tr>\n",
       "    <tr>\n",
       "      <th>rh</th>\n",
       "      <td>-0.06</td>\n",
       "      <td>-0.24</td>\n",
       "      <td>1.00</td>\n",
       "    </tr>\n",
       "  </tbody>\n",
       "</table>\n",
       "</div>"
      ],
      "text/plain": [
       "         pm25pa  pm25aqs    rh\n",
       "pm25pa     1.00     0.95 -0.06\n",
       "pm25aqs    0.95     1.00 -0.24\n",
       "rh        -0.06    -0.24  1.00"
      ]
     },
     "execution_count": 24,
     "metadata": {},
     "output_type": "execute_result"
    }
   ],
   "source": [
    "GA[['pm25pa', 'pm25aqs', 'rh']].corr()"
   ]
  },
  {
   "cell_type": "markdown",
   "metadata": {
    "user_expressions": []
   },
   "source": [
    "One small surprise is that relative humidity has a small negative correlation with the AQS measurement of air quality. This suggests that humidity might be helpful in the model.\n",
    "\n",
    "\n",
    "In the next section, we derive the equation for the fit. But for now, we use the functionality in `LinearRegression`  to fit the model. The only change from earlier is that we provide two columns for the explanatory variables (that's why the `x` input is a data frame):"
   ]
  },
  {
   "cell_type": "code",
   "execution_count": 25,
   "metadata": {},
   "outputs": [],
   "source": [
    "from sklearn.linear_model import LinearRegression\n",
    "\n",
    "y = GA['pm25pa']\n",
    "X2 = GA[['pm25aqs', 'rh']]\n",
    "\n",
    "model2 = LinearRegression().fit(X2, y)"
   ]
  },
  {
   "cell_type": "markdown",
   "metadata": {
    "user_expressions": []
   },
   "source": [
    "The fitted multiple linear model, including the coefficient units, is:"
   ]
  },
  {
   "cell_type": "code",
   "execution_count": 26,
   "metadata": {
    "tags": [
     "hide-input"
    ]
   },
   "outputs": [
    {
     "name": "stdout",
     "output_type": "stream",
     "text": [
      "PA estimate = -15.8 ppm + 2.25 ppm/ppm x AQS +  0.21 ppm/percent x RH\n"
     ]
    }
   ],
   "source": [
    "print(f\"PA estimate = {model2.intercept_:.1f} ppm +\", \n",
    "      f\"{model2.coef_[0]:.2f} ppm/ppm x AQS + \",  \n",
    "      f\"{model2.coef_[1]:.2f} ppm/percent x RH\")"
   ]
  },
  {
   "cell_type": "markdown",
   "metadata": {
    "user_expressions": []
   },
   "source": [
    "The coefficient for humidity in the model adjusts the air quality prediction by 0.21 ppm for each percentage point of relative humidity. Notice that the coefficient for AQS differs from the simple linear model that we fitted earlier. This happens because the coefficient reflects the additional information coming from relative humidity."
   ]
  },
  {
   "cell_type": "markdown",
   "metadata": {
    "user_expressions": []
   },
   "source": [
    "Lastly, to check the quality of the fit, we make residual plots of the predicted values and the errors. This time, we use `LinearRegression` to compute the predictions for us:"
   ]
  },
  {
   "cell_type": "code",
   "execution_count": 27,
   "metadata": {},
   "outputs": [],
   "source": [
    "predicted_2var = model2.predict(X2)\n",
    "error_2var = y - predicted_2var"
   ]
  },
  {
   "cell_type": "code",
   "execution_count": 28,
   "metadata": {
    "tags": []
   },
   "outputs": [
    {
     "data": {
      "application/vnd.plotly.v1+json": {
       "config": {
        "plotlyServerURL": "https://plot.ly"
       },
       "data": [
        {
         "hovertemplate": "Predicted PurpleAir measurement=%{x}<br>Error=%{y}<extra></extra>",
         "legendgroup": "",
         "marker": {
          "color": "#1F77B4",
          "symbol": "circle"
         },
         "mode": "markers",
         "name": "",
         "orientation": "v",
         "showlegend": false,
         "type": "scatter",
         "x": [
          15.94368311947651,
          13.173022890519015,
          10.55047996518795,
          15.06267807660144,
          17.256710174459258,
          21.727712168705786,
          14.824205514001644,
          18.272578172934253,
          20.72420095721455,
          21.85194094355294,
          21.66594944512037,
          10.767796091922879,
          13.85380423170627,
          17.327345511325845,
          18.36674198663065,
          12.692479901527761,
          7.386338617428564,
          7.767486783057407,
          12.683799390869702,
          9.702512877226717,
          11.338937477770564,
          12.444206092704569,
          11.93259416224478,
          10.135503238157611,
          12.430940609212769,
          17.049578585224957,
          18.081643389476802,
          15.253463362363753,
          29.56544903556921,
          28.664735075057756,
          19.53657809323588,
          17.987927304984495,
          20.617575830583725,
          23.06598084606678,
          21.19054065597367,
          8.589010859261279,
          11.49596390253798,
          12.191466846193912,
          11.352354641319586,
          13.788857933201925,
          15.968782141051982,
          18.295332194539462,
          19.87333360887169,
          27.27318693275197,
          22.689495650719955,
          24.467376613738686,
          30.973927085279584,
          33.56811885710347,
          34.46169489652825,
          24.924493413188337,
          20.13279949567655,
          13.487886727880813,
          12.123026660323092,
          8.880458817327785,
          9.587872161484846,
          13.483653808495468,
          14.280966524347079,
          14.917110849061245,
          9.753696583901505,
          17.462641131335964,
          5.702157434292296,
          10.69799514443553,
          15.721757766504595,
          7.66213985486759,
          4.355225816930918,
          13.383302516859779,
          15.075391970854746,
          23.859780687603745,
          14.44665467314152,
          9.522137778101708,
          11.305399261203213,
          19.344894741040456,
          11.719837853734298,
          17.013732317068865,
          20.22764825190975,
          27.467734980486462,
          29.393802472182237,
          14.592388867449543,
          16.414918762839342,
          26.258226314244823,
          27.33222781352122,
          10.41322432500941,
          7.51956299854821,
          18.62107809477198,
          26.16970404171071,
          19.230209181031682,
          14.787884608874727,
          16.585366437535285,
          20.497395420032753,
          13.894423586511685,
          21.080706677347827,
          21.804251422304446,
          24.60371902811864,
          23.224978478917215,
          11.47340027114043,
          15.873026858249574,
          17.947200129652487,
          18.376134474610893,
          13.643086690176702,
          6.635000437462473,
          10.01211108899222,
          13.89533341759904,
          7.833556534266549,
          11.451638317466312,
          10.265322440581087,
          8.825970721846627,
          9.290246940439467,
          11.003397391072166,
          15.622035367084358,
          17.046844565541548,
          13.929228495938666,
          27.86554395215267,
          27.209016646993213,
          18.860373055061366,
          16.738825580350976,
          22.073294258648268,
          23.779753582145474,
          20.91818104471453,
          8.701711698957034,
          10.75401595653534,
          12.041198308593977,
          10.657366881201376,
          15.413627620810097,
          13.74294055706087,
          17.224674217429815,
          17.2248638760215,
          22.99994751229361,
          17.65552556231527,
          22.57596350146074,
          25.836646391142594,
          30.872691192385652,
          31.475122644590805,
          21.637386340067813,
          17.24177726964995,
          8.41634894157194,
          9.117671686441952,
          8.786540699575724,
          5.530641932437746,
          11.689832861343668,
          13.614153974152806,
          14.316038952678298,
          8.852089866335483,
          18.890184349476563,
          3.814418369388438,
          9.56159425949776,
          12.904236774110778,
          5.229679313428662,
          4.345833328950675,
          13.552353776403407,
          12.455097447928495,
          24.88348073284576,
          11.309813883604136,
          5.680916740465872,
          9.648873247621928,
          20.722797099424263,
          22.207715074305348,
          22.774175120134203,
          15.873026858249574,
          13.19228333139369,
          8.284359893049562,
          8.825970721846627,
          16.072838725867367,
          27.86554395215267,
          22.045189441672058,
          12.717403346768492,
          12.23517863694191,
          20.155085708111073,
          25.506185333550313,
          35.08154951485488,
          11.571972453053014,
          6.206846970612261,
          14.992243990852817,
          20.467996105217104,
          9.56159425949776,
          14.25664685045981,
          11.760617242387148
         ],
         "xaxis": "x",
         "y": [
          0.24569188052348778,
          0.4195257205920857,
          -0.2499090413836509,
          -0.2723722023161397,
          0.2891301033185414,
          0.6126906090720148,
          -0.25592887545614396,
          0.9384483633786473,
          0.9423684872298494,
          3.824677112002661,
          3.4154483295667326,
          0.6122471998033205,
          1.6246402127381288,
          0.7237655997852563,
          1.0636746800360513,
          -0.13229934597216086,
          0.5523488825714367,
          -0.22754233861296758,
          -0.889757724203001,
          -1.8097142661156065,
          -1.0959444222149646,
          -1.2434699815934689,
          -2.0786611078514685,
          -0.13879490482428025,
          -0.7642461647683696,
          -1.1317035852249564,
          -1.3454072783657018,
          -0.10797725125265245,
          -0.3757962577914107,
          -1.4606309083910567,
          0.7601649623197169,
          -0.30430924942889703,
          0.12099361386067642,
          -0.5941127905111792,
          -0.5202203217118715,
          0.05984330740539079,
          -0.6323319580935802,
          -1.7473835128606119,
          -2.1993824190973665,
          -1.9246357109797252,
          -1.3723009171298823,
          -1.0455127500950603,
          -0.2642988866494882,
          1.455123220238331,
          0.4626779603911437,
          -1.1729113359608867,
          0.226940970276015,
          0.6816341122112277,
          0.45922177013844845,
          -1.2843753576327366,
          -2.301924495676552,
          -5.440456172325254,
          -3.603366938100871,
          -1.4518546506611152,
          0.472051343383054,
          -1.4927510307176686,
          -0.8302371645108781,
          -1.4629302935056447,
          0.0245346138700846,
          2.9274144242196343,
          0.6876689545965942,
          2.246365966675569,
          -2.1034730442823957,
          -0.09503568820091957,
          0.18893390529130194,
          0.1659544275846212,
          -1.986168891412646,
          1.6103651457295562,
          0.10136700047928038,
          -1.883584231509218,
          0.785934072130086,
          -1.1160396685766543,
          0.5941354795990019,
          -2.1485587059577647,
          -1.5275996407986483,
          -2.8409964547562616,
          -2.4504135832933365,
          -1.5556192045282433,
          -2.8628493183949413,
          -2.921323536467021,
          -1.516248646854521,
          -0.08345349167611005,
          0.9732981125628992,
          -1.9903628169941818,
          -4.806651190528509,
          0.6163672078572162,
          -1.6847596088747263,
          2.0883557846869145,
          1.8430073577450479,
          0.6738530520338148,
          -1.8696801410349266,
          -0.13768197786004777,
          1.0728990274369608,
          1.8564192957698857,
          -0.09335697941423149,
          -0.3945824138051748,
          0.10391098145861477,
          1.0542821920558083,
          -1.0829061346211013,
          1.3036870625375272,
          -2.472166644547781,
          -2.10129175093234,
          0.059242076844561176,
          -1.2086452619107124,
          0.9354136705300125,
          1.027962332546684,
          0.7064613928938641,
          0.6632970533722329,
          0.2958396329156425,
          -0.31060845443044727,
          1.2162576151724345,
          1.324108825625128,
          -0.004912480326513702,
          1.4363700004942324,
          0.944792475204622,
          -1.3347248142038666,
          -1.3078855265898746,
          -0.24786071045273061,
          -0.05285753229036416,
          0.10961598790905924,
          -1.597114975260677,
          -1.504394658979157,
          -3.549405398587897,
          0.85354066686123,
          0.02514522701458688,
          2.3841708462007,
          5.728362640696691,
          5.49664804879583,
          0.7185017763170585,
          5.364221664413005,
          3.3770617769290467,
          3.4457940220758942,
          2.002731715487787,
          0.5890977303500478,
          -0.3689183860163805,
          -0.5980119642197312,
          -1.3579365329090543,
          4.529281572430154,
          0.30106991643413217,
          -0.1634246143166056,
          -0.8618583971226972,
          0.9261413314361064,
          1.4998712060790353,
          2.5754080195004523,
          3.38276685161334,
          0.7140479481114212,
          2.3374248532380086,
          0.1983263932715449,
          -0.003096831959007673,
          0.634125631513605,
          0.5866651004875401,
          3.2382077900166646,
          1.9576368061266187,
          0.651697676182371,
          1.617605678353538,
          -2.9966885379924477,
          2.3072226545528984,
          -0.3945824138051748,
          -0.6321027758380886,
          -0.3915612819384515,
          1.027962332546684,
          -0.15496372586736662,
          1.324108825625128,
          -1.3748691074102588,
          -2.2733200134351925,
          -3.082206414719691,
          -0.546050985888872,
          -2.2117200557725134,
          -0.1606328481881789,
          -3.524541897497455,
          3.8530765342556386,
          -1.5380634352972162,
          -0.07794054966150554,
          3.38276685161334,
          -0.6383621282376097,
          2.787404431233652
         ],
         "yaxis": "y"
        }
       ],
       "layout": {
        "height": 250,
        "legend": {
         "tracegroupgap": 0
        },
        "shapes": [
         {
          "line": {
           "dash": "dash",
           "width": 3
          },
          "opacity": 1,
          "type": "line",
          "x0": 0,
          "x1": 1,
          "xref": "x domain",
          "y0": 0,
          "y1": 0,
          "yref": "y"
         }
        ],
        "template": {
         "data": {
          "bar": [
           {
            "error_x": {
             "color": "rgb(36,36,36)"
            },
            "error_y": {
             "color": "rgb(36,36,36)"
            },
            "marker": {
             "line": {
              "color": "white",
              "width": 0.5
             },
             "pattern": {
              "fillmode": "overlay",
              "size": 10,
              "solidity": 0.2
             }
            },
            "type": "bar"
           }
          ],
          "barpolar": [
           {
            "marker": {
             "line": {
              "color": "white",
              "width": 0.5
             },
             "pattern": {
              "fillmode": "overlay",
              "size": 10,
              "solidity": 0.2
             }
            },
            "type": "barpolar"
           }
          ],
          "carpet": [
           {
            "aaxis": {
             "endlinecolor": "rgb(36,36,36)",
             "gridcolor": "white",
             "linecolor": "white",
             "minorgridcolor": "white",
             "startlinecolor": "rgb(36,36,36)"
            },
            "baxis": {
             "endlinecolor": "rgb(36,36,36)",
             "gridcolor": "white",
             "linecolor": "white",
             "minorgridcolor": "white",
             "startlinecolor": "rgb(36,36,36)"
            },
            "type": "carpet"
           }
          ],
          "choropleth": [
           {
            "colorbar": {
             "outlinewidth": 1,
             "tickcolor": "rgb(36,36,36)",
             "ticks": "outside"
            },
            "type": "choropleth"
           }
          ],
          "contour": [
           {
            "colorbar": {
             "outlinewidth": 1,
             "tickcolor": "rgb(36,36,36)",
             "ticks": "outside"
            },
            "colorscale": [
             [
              0,
              "#440154"
             ],
             [
              0.1111111111111111,
              "#482878"
             ],
             [
              0.2222222222222222,
              "#3e4989"
             ],
             [
              0.3333333333333333,
              "#31688e"
             ],
             [
              0.4444444444444444,
              "#26828e"
             ],
             [
              0.5555555555555556,
              "#1f9e89"
             ],
             [
              0.6666666666666666,
              "#35b779"
             ],
             [
              0.7777777777777778,
              "#6ece58"
             ],
             [
              0.8888888888888888,
              "#b5de2b"
             ],
             [
              1,
              "#fde725"
             ]
            ],
            "type": "contour"
           }
          ],
          "contourcarpet": [
           {
            "colorbar": {
             "outlinewidth": 1,
             "tickcolor": "rgb(36,36,36)",
             "ticks": "outside"
            },
            "type": "contourcarpet"
           }
          ],
          "heatmap": [
           {
            "colorbar": {
             "outlinewidth": 1,
             "tickcolor": "rgb(36,36,36)",
             "ticks": "outside"
            },
            "colorscale": [
             [
              0,
              "#440154"
             ],
             [
              0.1111111111111111,
              "#482878"
             ],
             [
              0.2222222222222222,
              "#3e4989"
             ],
             [
              0.3333333333333333,
              "#31688e"
             ],
             [
              0.4444444444444444,
              "#26828e"
             ],
             [
              0.5555555555555556,
              "#1f9e89"
             ],
             [
              0.6666666666666666,
              "#35b779"
             ],
             [
              0.7777777777777778,
              "#6ece58"
             ],
             [
              0.8888888888888888,
              "#b5de2b"
             ],
             [
              1,
              "#fde725"
             ]
            ],
            "type": "heatmap"
           }
          ],
          "heatmapgl": [
           {
            "colorbar": {
             "outlinewidth": 1,
             "tickcolor": "rgb(36,36,36)",
             "ticks": "outside"
            },
            "colorscale": [
             [
              0,
              "#440154"
             ],
             [
              0.1111111111111111,
              "#482878"
             ],
             [
              0.2222222222222222,
              "#3e4989"
             ],
             [
              0.3333333333333333,
              "#31688e"
             ],
             [
              0.4444444444444444,
              "#26828e"
             ],
             [
              0.5555555555555556,
              "#1f9e89"
             ],
             [
              0.6666666666666666,
              "#35b779"
             ],
             [
              0.7777777777777778,
              "#6ece58"
             ],
             [
              0.8888888888888888,
              "#b5de2b"
             ],
             [
              1,
              "#fde725"
             ]
            ],
            "type": "heatmapgl"
           }
          ],
          "histogram": [
           {
            "marker": {
             "line": {
              "color": "white",
              "width": 0.6
             }
            },
            "type": "histogram"
           }
          ],
          "histogram2d": [
           {
            "colorbar": {
             "outlinewidth": 1,
             "tickcolor": "rgb(36,36,36)",
             "ticks": "outside"
            },
            "colorscale": [
             [
              0,
              "#440154"
             ],
             [
              0.1111111111111111,
              "#482878"
             ],
             [
              0.2222222222222222,
              "#3e4989"
             ],
             [
              0.3333333333333333,
              "#31688e"
             ],
             [
              0.4444444444444444,
              "#26828e"
             ],
             [
              0.5555555555555556,
              "#1f9e89"
             ],
             [
              0.6666666666666666,
              "#35b779"
             ],
             [
              0.7777777777777778,
              "#6ece58"
             ],
             [
              0.8888888888888888,
              "#b5de2b"
             ],
             [
              1,
              "#fde725"
             ]
            ],
            "type": "histogram2d"
           }
          ],
          "histogram2dcontour": [
           {
            "colorbar": {
             "outlinewidth": 1,
             "tickcolor": "rgb(36,36,36)",
             "ticks": "outside"
            },
            "colorscale": [
             [
              0,
              "#440154"
             ],
             [
              0.1111111111111111,
              "#482878"
             ],
             [
              0.2222222222222222,
              "#3e4989"
             ],
             [
              0.3333333333333333,
              "#31688e"
             ],
             [
              0.4444444444444444,
              "#26828e"
             ],
             [
              0.5555555555555556,
              "#1f9e89"
             ],
             [
              0.6666666666666666,
              "#35b779"
             ],
             [
              0.7777777777777778,
              "#6ece58"
             ],
             [
              0.8888888888888888,
              "#b5de2b"
             ],
             [
              1,
              "#fde725"
             ]
            ],
            "type": "histogram2dcontour"
           }
          ],
          "mesh3d": [
           {
            "colorbar": {
             "outlinewidth": 1,
             "tickcolor": "rgb(36,36,36)",
             "ticks": "outside"
            },
            "type": "mesh3d"
           }
          ],
          "parcoords": [
           {
            "line": {
             "colorbar": {
              "outlinewidth": 1,
              "tickcolor": "rgb(36,36,36)",
              "ticks": "outside"
             }
            },
            "type": "parcoords"
           }
          ],
          "pie": [
           {
            "automargin": true,
            "type": "pie"
           }
          ],
          "scatter": [
           {
            "fillpattern": {
             "fillmode": "overlay",
             "size": 10,
             "solidity": 0.2
            },
            "type": "scatter"
           }
          ],
          "scatter3d": [
           {
            "line": {
             "colorbar": {
              "outlinewidth": 1,
              "tickcolor": "rgb(36,36,36)",
              "ticks": "outside"
             }
            },
            "marker": {
             "colorbar": {
              "outlinewidth": 1,
              "tickcolor": "rgb(36,36,36)",
              "ticks": "outside"
             }
            },
            "type": "scatter3d"
           }
          ],
          "scattercarpet": [
           {
            "marker": {
             "colorbar": {
              "outlinewidth": 1,
              "tickcolor": "rgb(36,36,36)",
              "ticks": "outside"
             }
            },
            "type": "scattercarpet"
           }
          ],
          "scattergeo": [
           {
            "marker": {
             "colorbar": {
              "outlinewidth": 1,
              "tickcolor": "rgb(36,36,36)",
              "ticks": "outside"
             }
            },
            "type": "scattergeo"
           }
          ],
          "scattergl": [
           {
            "marker": {
             "colorbar": {
              "outlinewidth": 1,
              "tickcolor": "rgb(36,36,36)",
              "ticks": "outside"
             }
            },
            "type": "scattergl"
           }
          ],
          "scattermapbox": [
           {
            "marker": {
             "colorbar": {
              "outlinewidth": 1,
              "tickcolor": "rgb(36,36,36)",
              "ticks": "outside"
             }
            },
            "type": "scattermapbox"
           }
          ],
          "scatterpolar": [
           {
            "marker": {
             "colorbar": {
              "outlinewidth": 1,
              "tickcolor": "rgb(36,36,36)",
              "ticks": "outside"
             }
            },
            "type": "scatterpolar"
           }
          ],
          "scatterpolargl": [
           {
            "marker": {
             "colorbar": {
              "outlinewidth": 1,
              "tickcolor": "rgb(36,36,36)",
              "ticks": "outside"
             }
            },
            "type": "scatterpolargl"
           }
          ],
          "scatterternary": [
           {
            "marker": {
             "colorbar": {
              "outlinewidth": 1,
              "tickcolor": "rgb(36,36,36)",
              "ticks": "outside"
             }
            },
            "type": "scatterternary"
           }
          ],
          "surface": [
           {
            "colorbar": {
             "outlinewidth": 1,
             "tickcolor": "rgb(36,36,36)",
             "ticks": "outside"
            },
            "colorscale": [
             [
              0,
              "#440154"
             ],
             [
              0.1111111111111111,
              "#482878"
             ],
             [
              0.2222222222222222,
              "#3e4989"
             ],
             [
              0.3333333333333333,
              "#31688e"
             ],
             [
              0.4444444444444444,
              "#26828e"
             ],
             [
              0.5555555555555556,
              "#1f9e89"
             ],
             [
              0.6666666666666666,
              "#35b779"
             ],
             [
              0.7777777777777778,
              "#6ece58"
             ],
             [
              0.8888888888888888,
              "#b5de2b"
             ],
             [
              1,
              "#fde725"
             ]
            ],
            "type": "surface"
           }
          ],
          "table": [
           {
            "cells": {
             "fill": {
              "color": "rgb(237,237,237)"
             },
             "line": {
              "color": "white"
             }
            },
            "header": {
             "fill": {
              "color": "rgb(217,217,217)"
             },
             "line": {
              "color": "white"
             }
            },
            "type": "table"
           }
          ]
         },
         "layout": {
          "annotationdefaults": {
           "arrowhead": 0,
           "arrowwidth": 1
          },
          "autosize": true,
          "autotypenumbers": "strict",
          "coloraxis": {
           "colorbar": {
            "outlinewidth": 1,
            "tickcolor": "rgb(36,36,36)",
            "ticks": "outside"
           }
          },
          "colorscale": {
           "diverging": [
            [
             0,
             "rgb(103,0,31)"
            ],
            [
             0.1,
             "rgb(178,24,43)"
            ],
            [
             0.2,
             "rgb(214,96,77)"
            ],
            [
             0.3,
             "rgb(244,165,130)"
            ],
            [
             0.4,
             "rgb(253,219,199)"
            ],
            [
             0.5,
             "rgb(247,247,247)"
            ],
            [
             0.6,
             "rgb(209,229,240)"
            ],
            [
             0.7,
             "rgb(146,197,222)"
            ],
            [
             0.8,
             "rgb(67,147,195)"
            ],
            [
             0.9,
             "rgb(33,102,172)"
            ],
            [
             1,
             "rgb(5,48,97)"
            ]
           ],
           "sequential": [
            [
             0,
             "#440154"
            ],
            [
             0.1111111111111111,
             "#482878"
            ],
            [
             0.2222222222222222,
             "#3e4989"
            ],
            [
             0.3333333333333333,
             "#31688e"
            ],
            [
             0.4444444444444444,
             "#26828e"
            ],
            [
             0.5555555555555556,
             "#1f9e89"
            ],
            [
             0.6666666666666666,
             "#35b779"
            ],
            [
             0.7777777777777778,
             "#6ece58"
            ],
            [
             0.8888888888888888,
             "#b5de2b"
            ],
            [
             1,
             "#fde725"
            ]
           ],
           "sequentialminus": [
            [
             0,
             "#440154"
            ],
            [
             0.1111111111111111,
             "#482878"
            ],
            [
             0.2222222222222222,
             "#3e4989"
            ],
            [
             0.3333333333333333,
             "#31688e"
            ],
            [
             0.4444444444444444,
             "#26828e"
            ],
            [
             0.5555555555555556,
             "#1f9e89"
            ],
            [
             0.6666666666666666,
             "#35b779"
            ],
            [
             0.7777777777777778,
             "#6ece58"
            ],
            [
             0.8888888888888888,
             "#b5de2b"
            ],
            [
             1,
             "#fde725"
            ]
           ]
          },
          "colorway": [
           "#1F77B4",
           "#FF7F0E",
           "#2CA02C",
           "#D62728",
           "#9467BD",
           "#8C564B",
           "#E377C2",
           "#7F7F7F",
           "#BCBD22",
           "#17BECF"
          ],
          "font": {
           "color": "rgb(36,36,36)"
          },
          "geo": {
           "bgcolor": "white",
           "lakecolor": "white",
           "landcolor": "white",
           "showlakes": true,
           "showland": true,
           "subunitcolor": "white"
          },
          "height": 250,
          "hoverlabel": {
           "align": "left"
          },
          "hovermode": "closest",
          "mapbox": {
           "style": "light"
          },
          "margin": {
           "b": 10,
           "l": 10,
           "r": 10,
           "t": 10
          },
          "paper_bgcolor": "white",
          "plot_bgcolor": "white",
          "polar": {
           "angularaxis": {
            "gridcolor": "rgb(232,232,232)",
            "linecolor": "rgb(36,36,36)",
            "showgrid": false,
            "showline": true,
            "ticks": "outside"
           },
           "bgcolor": "white",
           "radialaxis": {
            "gridcolor": "rgb(232,232,232)",
            "linecolor": "rgb(36,36,36)",
            "showgrid": false,
            "showline": true,
            "ticks": "outside"
           }
          },
          "scene": {
           "xaxis": {
            "backgroundcolor": "white",
            "gridcolor": "rgb(232,232,232)",
            "gridwidth": 2,
            "linecolor": "rgb(36,36,36)",
            "showbackground": true,
            "showgrid": false,
            "showline": true,
            "ticks": "outside",
            "zeroline": false,
            "zerolinecolor": "rgb(36,36,36)"
           },
           "yaxis": {
            "backgroundcolor": "white",
            "gridcolor": "rgb(232,232,232)",
            "gridwidth": 2,
            "linecolor": "rgb(36,36,36)",
            "showbackground": true,
            "showgrid": false,
            "showline": true,
            "ticks": "outside",
            "zeroline": false,
            "zerolinecolor": "rgb(36,36,36)"
           },
           "zaxis": {
            "backgroundcolor": "white",
            "gridcolor": "rgb(232,232,232)",
            "gridwidth": 2,
            "linecolor": "rgb(36,36,36)",
            "showbackground": true,
            "showgrid": false,
            "showline": true,
            "ticks": "outside",
            "zeroline": false,
            "zerolinecolor": "rgb(36,36,36)"
           }
          },
          "shapedefaults": {
           "fillcolor": "black",
           "line": {
            "width": 0
           },
           "opacity": 0.3
          },
          "ternary": {
           "aaxis": {
            "gridcolor": "rgb(232,232,232)",
            "linecolor": "rgb(36,36,36)",
            "showgrid": false,
            "showline": true,
            "ticks": "outside"
           },
           "baxis": {
            "gridcolor": "rgb(232,232,232)",
            "linecolor": "rgb(36,36,36)",
            "showgrid": false,
            "showline": true,
            "ticks": "outside"
           },
           "bgcolor": "white",
           "caxis": {
            "gridcolor": "rgb(232,232,232)",
            "linecolor": "rgb(36,36,36)",
            "showgrid": false,
            "showline": true,
            "ticks": "outside"
           }
          },
          "title": {
           "x": 0.5,
           "xanchor": "center"
          },
          "width": 350,
          "xaxis": {
           "automargin": true,
           "gridcolor": "rgb(232,232,232)",
           "linecolor": "rgb(36,36,36)",
           "showgrid": true,
           "showline": true,
           "ticks": "outside",
           "title": {
            "standoff": 15
           },
           "zeroline": false,
           "zerolinecolor": "rgb(36,36,36)"
          },
          "yaxis": {
           "automargin": true,
           "gridcolor": "rgb(232,232,232)",
           "linecolor": "rgb(36,36,36)",
           "showgrid": true,
           "showline": true,
           "ticks": "outside",
           "title": {
            "standoff": 15
           },
           "zeroline": false,
           "zerolinecolor": "rgb(36,36,36)"
          }
         }
        },
        "width": 350,
        "xaxis": {
         "anchor": "y",
         "autorange": true,
         "domain": [
          0,
          1
         ],
         "range": [
          1.5365514054908203,
          37.35941647875249
         ],
         "title": {
          "text": "Predicted PurpleAir measurement"
         },
         "type": "linear"
        },
        "yaxis": {
         "anchor": "x",
         "domain": [
          0,
          1
         ],
         "range": [
          -12,
          12
         ],
         "title": {
          "text": "Error"
         },
         "type": "linear"
        }
       }
      },
      "image/png": "[encoded data removed]",
      "image/svg+xml": [
       "<svg class=\"main-svg\" xmlns=\"http://www.w3.org/2000/svg\" xmlns:xlink=\"http://www.w3.org/1999/xlink\" width=\"350\" height=\"250\" style=\"\" viewBox=\"0 0 350 250\"><rect x=\"0\" y=\"0\" width=\"350\" height=\"250\" style=\"fill: rgb(255, 255, 255); fill-opacity: 1;\"/><defs id=\"defs-a9fc36\"><g class=\"clips\"><clipPath id=\"clipa9fc36xyplot\" class=\"plotclip\"><rect width=\"272\" height=\"182\"/></clipPath><clipPath class=\"axesclip\" id=\"clipa9fc36x\"><rect x=\"68\" y=\"0\" width=\"272\" height=\"250\"/></clipPath><clipPath class=\"axesclip\" id=\"clipa9fc36y\"><rect x=\"0\" y=\"10\" width=\"350\" height=\"182\"/></clipPath><clipPath class=\"axesclip\" id=\"clipa9fc36xy\"><rect x=\"68\" y=\"10\" width=\"272\" height=\"182\"/></clipPath></g><g class=\"gradients\"/><g class=\"patterns\"/></defs><g class=\"bglayer\"/><g class=\"layer-below\"><g class=\"imagelayer\"/><g class=\"shapelayer\"/></g><g class=\"cartesianlayer\"><g class=\"subplot xy\"><g class=\"layer-subplot\"><g class=\"shapelayer\"/><g class=\"imagelayer\"/></g><g class=\"minor-gridlayer\"><g class=\"x\"/><g class=\"y\"/></g><g class=\"gridlayer\"><g class=\"x\"><path class=\"xgrid crisp\" transform=\"translate(132.3,0)\" d=\"M0,10v182\" style=\"stroke: rgb(232, 232, 232); stroke-opacity: 1; stroke-width: 1px;\"/><path class=\"xgrid crisp\" transform=\"translate(208.19,0)\" d=\"M0,10v182\" style=\"stroke: rgb(232, 232, 232); stroke-opacity: 1; stroke-width: 1px;\"/><path class=\"xgrid crisp\" transform=\"translate(284.08000000000004,0)\" d=\"M0,10v182\" style=\"stroke: rgb(232, 232, 232); stroke-opacity: 1; stroke-width: 1px;\"/></g><g class=\"y\"><path class=\"ygrid crisp\" transform=\"translate(0,176.83)\" d=\"M68,0h272\" style=\"stroke: rgb(232, 232, 232); stroke-opacity: 1; stroke-width: 1px;\"/><path class=\"ygrid crisp\" transform=\"translate(0,138.92)\" d=\"M68,0h272\" style=\"stroke: rgb(232, 232, 232); stroke-opacity: 1; stroke-width: 1px;\"/><path class=\"ygrid crisp\" transform=\"translate(0,101)\" d=\"M68,0h272\" style=\"stroke: rgb(232, 232, 232); stroke-opacity: 1; stroke-width: 1px;\"/><path class=\"ygrid crisp\" transform=\"translate(0,63.08)\" d=\"M68,0h272\" style=\"stroke: rgb(232, 232, 232); stroke-opacity: 1; stroke-width: 1px;\"/><path class=\"ygrid crisp\" transform=\"translate(0,25.17)\" d=\"M68,0h272\" style=\"stroke: rgb(232, 232, 232); stroke-opacity: 1; stroke-width: 1px;\"/></g></g><g class=\"zerolinelayer\"/><path class=\"xlines-below\"/><path class=\"ylines-below\"/><g class=\"overlines-below\"/><g class=\"xaxislayer-below\"/><g class=\"yaxislayer-below\"/><g class=\"overaxes-below\"/><g class=\"plot\" transform=\"translate(68,10)\" clip-path=\"url(#clipa9fc36xyplot)\"><g class=\"scatterlayer mlayer\"><g class=\"trace scatter trace6bf5dc\" style=\"stroke-miterlimit: 2; opacity: 1;\"><g class=\"fills\"/><g class=\"errorbars\"/><g class=\"lines\"/><g class=\"points\"><path class=\"point\" transform=\"translate(109.4,89.14)\" d=\"M3,0A3,3 0 1,1 0,-3A3,3 0 0,1 3,0Z\" style=\"opacity: 1; stroke-width: 0px; fill: rgb(31, 119, 180); fill-opacity: 1;\"/><path class=\"point\" transform=\"translate(88.38,87.82)\" d=\"M3,0A3,3 0 1,1 0,-3A3,3 0 0,1 3,0Z\" style=\"opacity: 1; stroke-width: 0px; fill: rgb(31, 119, 180); fill-opacity: 1;\"/><path class=\"point\" transform=\"translate(68.47,92.9)\" d=\"M3,0A3,3 0 1,1 0,-3A3,3 0 0,1 3,0Z\" style=\"opacity: 1; stroke-width: 0px; fill: rgb(31, 119, 180); fill-opacity: 1;\"/><path class=\"point\" transform=\"translate(102.72,93.07)\" d=\"M3,0A3,3 0 1,1 0,-3A3,3 0 0,1 3,0Z\" style=\"opacity: 1; stroke-width: 0px; fill: rgb(31, 119, 180); fill-opacity: 1;\"/><path class=\"point\" transform=\"translate(119.37,88.81)\" d=\"M3,0A3,3 0 1,1 0,-3A3,3 0 0,1 3,0Z\" style=\"opacity: 1; stroke-width: 0px; fill: rgb(31, 119, 180); fill-opacity: 1;\"/><path class=\"point\" transform=\"translate(153.3,86.35)\" d=\"M3,0A3,3 0 1,1 0,-3A3,3 0 0,1 3,0Z\" style=\"opacity: 1; stroke-width: 0px; fill: rgb(31, 119, 180); fill-opacity: 1;\"/><path class=\"point\" transform=\"translate(100.91,92.94)\" d=\"M3,0A3,3 0 1,1 0,-3A3,3 0 0,1 3,0Z\" style=\"opacity: 1; stroke-width: 0px; fill: rgb(31, 119, 180); fill-opacity: 1;\"/><path class=\"point\" transform=\"translate(127.08,83.88)\" d=\"M3,0A3,3 0 1,1 0,-3A3,3 0 0,1 3,0Z\" style=\"opacity: 1; stroke-width: 0px; fill: rgb(31, 119, 180); fill-opacity: 1;\"/><path class=\"point\" transform=\"translate(145.69,83.85)\" d=\"M3,0A3,3 0 1,1 0,-3A3,3 0 0,1 3,0Z\" style=\"opacity: 1; stroke-width: 0px; fill: rgb(31, 119, 180); fill-opacity: 1;\"/><path class=\"point\" transform=\"translate(154.24,62)\" d=\"M3,0A3,3 0 1,1 0,-3A3,3 0 0,1 3,0Z\" style=\"opacity: 1; stroke-width: 0px; fill: rgb(31, 119, 180); fill-opacity: 1;\"/><path class=\"point\" transform=\"translate(152.83,65.1)\" d=\"M3,0A3,3 0 1,1 0,-3A3,3 0 0,1 3,0Z\" style=\"opacity: 1; stroke-width: 0px; fill: rgb(31, 119, 180); fill-opacity: 1;\"/><path class=\"point\" transform=\"translate(70.12,86.36)\" d=\"M3,0A3,3 0 1,1 0,-3A3,3 0 0,1 3,0Z\" style=\"opacity: 1; stroke-width: 0px; fill: rgb(31, 119, 180); fill-opacity: 1;\"/><path class=\"point\" transform=\"translate(93.54,78.68)\" d=\"M3,0A3,3 0 1,1 0,-3A3,3 0 0,1 3,0Z\" style=\"opacity: 1; stroke-width: 0px; fill: rgb(31, 119, 180); fill-opacity: 1;\"/><path class=\"point\" transform=\"translate(119.91,85.51)\" d=\"M3,0A3,3 0 1,1 0,-3A3,3 0 0,1 3,0Z\" style=\"opacity: 1; stroke-width: 0px; fill: rgb(31, 119, 180); fill-opacity: 1;\"/><path class=\"point\" transform=\"translate(127.79,82.93)\" d=\"M3,0A3,3 0 1,1 0,-3A3,3 0 0,1 3,0Z\" style=\"opacity: 1; stroke-width: 0px; fill: rgb(31, 119, 180); fill-opacity: 1;\"/><path class=\"point\" transform=\"translate(84.73,92)\" d=\"M3,0A3,3 0 1,1 0,-3A3,3 0 0,1 3,0Z\" style=\"opacity: 1; stroke-width: 0px; fill: rgb(31, 119, 180); fill-opacity: 1;\"/><path class=\"point\" transform=\"translate(44.46,86.81)\" d=\"M3,0A3,3 0 1,1 0,-3A3,3 0 0,1 3,0Z\" style=\"opacity: 1; stroke-width: 0px; fill: rgb(31, 119, 180); fill-opacity: 1;\"/><path class=\"point\" transform=\"translate(47.35,92.73)\" d=\"M3,0A3,3 0 1,1 0,-3A3,3 0 0,1 3,0Z\" style=\"opacity: 1; stroke-width: 0px; fill: rgb(31, 119, 180); fill-opacity: 1;\"/><path class=\"point\" transform=\"translate(84.66,97.75)\" d=\"M3,0A3,3 0 1,1 0,-3A3,3 0 0,1 3,0Z\" style=\"opacity: 1; stroke-width: 0px; fill: rgb(31, 119, 180); fill-opacity: 1;\"/><path class=\"point\" transform=\"translate(62.04,104.72)\" d=\"M3,0A3,3 0 1,1 0,-3A3,3 0 0,1 3,0Z\" style=\"opacity: 1; stroke-width: 0px; fill: rgb(31, 119, 180); fill-opacity: 1;\"/><path class=\"point\" transform=\"translate(74.46,99.31)\" d=\"M3,0A3,3 0 1,1 0,-3A3,3 0 0,1 3,0Z\" style=\"opacity: 1; stroke-width: 0px; fill: rgb(31, 119, 180); fill-opacity: 1;\"/><path class=\"point\" transform=\"translate(82.85,100.43)\" d=\"M3,0A3,3 0 1,1 0,-3A3,3 0 0,1 3,0Z\" style=\"opacity: 1; stroke-width: 0px; fill: rgb(31, 119, 180); fill-opacity: 1;\"/><path class=\"point\" transform=\"translate(78.96,106.76)\" d=\"M3,0A3,3 0 1,1 0,-3A3,3 0 0,1 3,0Z\" style=\"opacity: 1; stroke-width: 0px; fill: rgb(31, 119, 180); fill-opacity: 1;\"/><path class=\"point\" transform=\"translate(65.32,92.05)\" d=\"M3,0A3,3 0 1,1 0,-3A3,3 0 0,1 3,0Z\" style=\"opacity: 1; stroke-width: 0px; fill: rgb(31, 119, 180); fill-opacity: 1;\"/><path class=\"point\" transform=\"translate(82.74,96.8)\" d=\"M3,0A3,3 0 1,1 0,-3A3,3 0 0,1 3,0Z\" style=\"opacity: 1; stroke-width: 0px; fill: rgb(31, 119, 180); fill-opacity: 1;\"/><path class=\"point\" transform=\"translate(117.8,99.58)\" d=\"M3,0A3,3 0 1,1 0,-3A3,3 0 0,1 3,0Z\" style=\"opacity: 1; stroke-width: 0px; fill: rgb(31, 119, 180); fill-opacity: 1;\"/><path class=\"point\" transform=\"translate(125.63,101.2)\" d=\"M3,0A3,3 0 1,1 0,-3A3,3 0 0,1 3,0Z\" style=\"opacity: 1; stroke-width: 0px; fill: rgb(31, 119, 180); fill-opacity: 1;\"/><path class=\"point\" transform=\"translate(104.17,91.82)\" d=\"M3,0A3,3 0 1,1 0,-3A3,3 0 0,1 3,0Z\" style=\"opacity: 1; stroke-width: 0px; fill: rgb(31, 119, 180); fill-opacity: 1;\"/><path class=\"point\" transform=\"translate(212.79,93.85)\" d=\"M3,0A3,3 0 1,1 0,-3A3,3 0 0,1 3,0Z\" style=\"opacity: 1; stroke-width: 0px; fill: rgb(31, 119, 180); fill-opacity: 1;\"/><path class=\"point\" transform=\"translate(205.95,102.08)\" d=\"M3,0A3,3 0 1,1 0,-3A3,3 0 0,1 3,0Z\" style=\"opacity: 1; stroke-width: 0px; fill: rgb(31, 119, 180); fill-opacity: 1;\"/><path class=\"point\" transform=\"translate(136.67,85.24)\" d=\"M3,0A3,3 0 1,1 0,-3A3,3 0 0,1 3,0Z\" style=\"opacity: 1; stroke-width: 0px; fill: rgb(31, 119, 180); fill-opacity: 1;\"/><path class=\"point\" transform=\"translate(124.92,93.31)\" d=\"M3,0A3,3 0 1,1 0,-3A3,3 0 0,1 3,0Z\" style=\"opacity: 1; stroke-width: 0px; fill: rgb(31, 119, 180); fill-opacity: 1;\"/><path class=\"point\" transform=\"translate(144.88,90.08)\" d=\"M3,0A3,3 0 1,1 0,-3A3,3 0 0,1 3,0Z\" style=\"opacity: 1; stroke-width: 0px; fill: rgb(31, 119, 180); fill-opacity: 1;\"/><path class=\"point\" transform=\"translate(163.46,95.51)\" d=\"M3,0A3,3 0 1,1 0,-3A3,3 0 0,1 3,0Z\" style=\"opacity: 1; stroke-width: 0px; fill: rgb(31, 119, 180); fill-opacity: 1;\"/><path class=\"point\" transform=\"translate(149.23,94.95)\" d=\"M3,0A3,3 0 1,1 0,-3A3,3 0 0,1 3,0Z\" style=\"opacity: 1; stroke-width: 0px; fill: rgb(31, 119, 180); fill-opacity: 1;\"/><path class=\"point\" transform=\"translate(53.59,90.55)\" d=\"M3,0A3,3 0 1,1 0,-3A3,3 0 0,1 3,0Z\" style=\"opacity: 1; stroke-width: 0px; fill: rgb(31, 119, 180); fill-opacity: 1;\"/><path class=\"point\" transform=\"translate(75.65,95.8)\" d=\"M3,0A3,3 0 1,1 0,-3A3,3 0 0,1 3,0Z\" style=\"opacity: 1; stroke-width: 0px; fill: rgb(31, 119, 180); fill-opacity: 1;\"/><path class=\"point\" transform=\"translate(80.93,104.25)\" d=\"M3,0A3,3 0 1,1 0,-3A3,3 0 0,1 3,0Z\" style=\"opacity: 1; stroke-width: 0px; fill: rgb(31, 119, 180); fill-opacity: 1;\"/><path class=\"point\" transform=\"translate(74.56,107.68)\" d=\"M3,0A3,3 0 1,1 0,-3A3,3 0 0,1 3,0Z\" style=\"opacity: 1; stroke-width: 0px; fill: rgb(31, 119, 180); fill-opacity: 1;\"/><path class=\"point\" transform=\"translate(93.05,105.6)\" d=\"M3,0A3,3 0 1,1 0,-3A3,3 0 0,1 3,0Z\" style=\"opacity: 1; stroke-width: 0px; fill: rgb(31, 119, 180); fill-opacity: 1;\"/><path class=\"point\" transform=\"translate(109.59,101.41)\" d=\"M3,0A3,3 0 1,1 0,-3A3,3 0 0,1 3,0Z\" style=\"opacity: 1; stroke-width: 0px; fill: rgb(31, 119, 180); fill-opacity: 1;\"/><path class=\"point\" transform=\"translate(127.25,98.93)\" d=\"M3,0A3,3 0 1,1 0,-3A3,3 0 0,1 3,0Z\" style=\"opacity: 1; stroke-width: 0px; fill: rgb(31, 119, 180); fill-opacity: 1;\"/><path class=\"point\" transform=\"translate(139.23,93)\" d=\"M3,0A3,3 0 1,1 0,-3A3,3 0 0,1 3,0Z\" style=\"opacity: 1; stroke-width: 0px; fill: rgb(31, 119, 180); fill-opacity: 1;\"/><path class=\"point\" transform=\"translate(195.39,79.97)\" d=\"M3,0A3,3 0 1,1 0,-3A3,3 0 0,1 3,0Z\" style=\"opacity: 1; stroke-width: 0px; fill: rgb(31, 119, 180); fill-opacity: 1;\"/><path class=\"point\" transform=\"translate(160.6,87.49)\" d=\"M3,0A3,3 0 1,1 0,-3A3,3 0 0,1 3,0Z\" style=\"opacity: 1; stroke-width: 0px; fill: rgb(31, 119, 180); fill-opacity: 1;\"/><path class=\"point\" transform=\"translate(174.09,99.89)\" d=\"M3,0A3,3 0 1,1 0,-3A3,3 0 0,1 3,0Z\" style=\"opacity: 1; stroke-width: 0px; fill: rgb(31, 119, 180); fill-opacity: 1;\"/><path class=\"point\" transform=\"translate(223.48,89.28)\" d=\"M3,0A3,3 0 1,1 0,-3A3,3 0 0,1 3,0Z\" style=\"opacity: 1; stroke-width: 0px; fill: rgb(31, 119, 180); fill-opacity: 1;\"/><path class=\"point\" transform=\"translate(243.16,85.83)\" d=\"M3,0A3,3 0 1,1 0,-3A3,3 0 0,1 3,0Z\" style=\"opacity: 1; stroke-width: 0px; fill: rgb(31, 119, 180); fill-opacity: 1;\"/><path class=\"point\" transform=\"translate(249.95,87.52)\" d=\"M3,0A3,3 0 1,1 0,-3A3,3 0 0,1 3,0Z\" style=\"opacity: 1; stroke-width: 0px; fill: rgb(31, 119, 180); fill-opacity: 1;\"/><path class=\"point\" transform=\"translate(177.56,100.74)\" d=\"M3,0A3,3 0 1,1 0,-3A3,3 0 0,1 3,0Z\" style=\"opacity: 1; stroke-width: 0px; fill: rgb(31, 119, 180); fill-opacity: 1;\"/><path class=\"point\" transform=\"translate(141.2,108.46)\" d=\"M3,0A3,3 0 1,1 0,-3A3,3 0 0,1 3,0Z\" style=\"opacity: 1; stroke-width: 0px; fill: rgb(31, 119, 180); fill-opacity: 1;\"/><path class=\"point\" transform=\"translate(90.77,132.26)\" d=\"M3,0A3,3 0 1,1 0,-3A3,3 0 0,1 3,0Z\" style=\"opacity: 1; stroke-width: 0px; fill: rgb(31, 119, 180); fill-opacity: 1;\"/><path class=\"point\" transform=\"translate(80.41,118.33)\" d=\"M3,0A3,3 0 1,1 0,-3A3,3 0 0,1 3,0Z\" style=\"opacity: 1; stroke-width: 0px; fill: rgb(31, 119, 180); fill-opacity: 1;\"/><path class=\"point\" transform=\"translate(55.8,102.01)\" d=\"M3,0A3,3 0 1,1 0,-3A3,3 0 0,1 3,0Z\" style=\"opacity: 1; stroke-width: 0px; fill: rgb(31, 119, 180); fill-opacity: 1;\"/><path class=\"point\" transform=\"translate(61.17,87.42)\" d=\"M3,0A3,3 0 1,1 0,-3A3,3 0 0,1 3,0Z\" style=\"opacity: 1; stroke-width: 0px; fill: rgb(31, 119, 180); fill-opacity: 1;\"/><path class=\"point\" transform=\"translate(90.73,102.32)\" d=\"M3,0A3,3 0 1,1 0,-3A3,3 0 0,1 3,0Z\" style=\"opacity: 1; stroke-width: 0px; fill: rgb(31, 119, 180); fill-opacity: 1;\"/><path class=\"point\" transform=\"translate(96.79,97.3)\" d=\"M3,0A3,3 0 1,1 0,-3A3,3 0 0,1 3,0Z\" style=\"opacity: 1; stroke-width: 0px; fill: rgb(31, 119, 180); fill-opacity: 1;\"/><path class=\"point\" transform=\"translate(101.61,102.09)\" d=\"M3,0A3,3 0 1,1 0,-3A3,3 0 0,1 3,0Z\" style=\"opacity: 1; stroke-width: 0px; fill: rgb(31, 119, 180); fill-opacity: 1;\"/><path class=\"point\" transform=\"translate(62.43,90.81)\" d=\"M3,0A3,3 0 1,1 0,-3A3,3 0 0,1 3,0Z\" style=\"opacity: 1; stroke-width: 0px; fill: rgb(31, 119, 180); fill-opacity: 1;\"/><path class=\"point\" transform=\"translate(120.93,68.8)\" d=\"M3,0A3,3 0 1,1 0,-3A3,3 0 0,1 3,0Z\" style=\"opacity: 1; stroke-width: 0px; fill: rgb(31, 119, 180); fill-opacity: 1;\"/><path class=\"point\" transform=\"translate(31.68,85.79)\" d=\"M3,0A3,3 0 1,1 0,-3A3,3 0 0,1 3,0Z\" style=\"opacity: 1; stroke-width: 0px; fill: rgb(31, 119, 180); fill-opacity: 1;\"/><path class=\"point\" transform=\"translate(69.59,73.97)\" d=\"M3,0A3,3 0 1,1 0,-3A3,3 0 0,1 3,0Z\" style=\"opacity: 1; stroke-width: 0px; fill: rgb(31, 119, 180); fill-opacity: 1;\"/><path class=\"point\" transform=\"translate(107.72,106.95)\" d=\"M3,0A3,3 0 1,1 0,-3A3,3 0 0,1 3,0Z\" style=\"opacity: 1; stroke-width: 0px; fill: rgb(31, 119, 180); fill-opacity: 1;\"/><path class=\"point\" transform=\"translate(46.55,91.72)\" d=\"M3,0A3,3 0 1,1 0,-3A3,3 0 0,1 3,0Z\" style=\"opacity: 1; stroke-width: 0px; fill: rgb(31, 119, 180); fill-opacity: 1;\"/><path class=\"point\" transform=\"translate(21.45,89.57)\" d=\"M3,0A3,3 0 1,1 0,-3A3,3 0 0,1 3,0Z\" style=\"opacity: 1; stroke-width: 0px; fill: rgb(31, 119, 180); fill-opacity: 1;\"/><path class=\"point\" transform=\"translate(89.97,89.74)\" d=\"M3,0A3,3 0 1,1 0,-3A3,3 0 0,1 3,0Z\" style=\"opacity: 1; stroke-width: 0px; fill: rgb(31, 119, 180); fill-opacity: 1;\"/><path class=\"point\" transform=\"translate(102.81,106.06)\" d=\"M3,0A3,3 0 1,1 0,-3A3,3 0 0,1 3,0Z\" style=\"opacity: 1; stroke-width: 0px; fill: rgb(31, 119, 180); fill-opacity: 1;\"/><path class=\"point\" transform=\"translate(169.48,78.79)\" d=\"M3,0A3,3 0 1,1 0,-3A3,3 0 0,1 3,0Z\" style=\"opacity: 1; stroke-width: 0px; fill: rgb(31, 119, 180); fill-opacity: 1;\"/><path class=\"point\" transform=\"translate(98.04,90.23)\" d=\"M3,0A3,3 0 1,1 0,-3A3,3 0 0,1 3,0Z\" style=\"opacity: 1; stroke-width: 0px; fill: rgb(31, 119, 180); fill-opacity: 1;\"/><path class=\"point\" transform=\"translate(60.67,105.28)\" d=\"M3,0A3,3 0 1,1 0,-3A3,3 0 0,1 3,0Z\" style=\"opacity: 1; stroke-width: 0px; fill: rgb(31, 119, 180); fill-opacity: 1;\"/><path class=\"point\" transform=\"translate(74.2,85.04)\" d=\"M3,0A3,3 0 1,1 0,-3A3,3 0 0,1 3,0Z\" style=\"opacity: 1; stroke-width: 0px; fill: rgb(31, 119, 180); fill-opacity: 1;\"/><path class=\"point\" transform=\"translate(135.22,99.46)\" d=\"M3,0A3,3 0 1,1 0,-3A3,3 0 0,1 3,0Z\" style=\"opacity: 1; stroke-width: 0px; fill: rgb(31, 119, 180); fill-opacity: 1;\"/><path class=\"point\" transform=\"translate(77.35,86.49)\" d=\"M3,0A3,3 0 1,1 0,-3A3,3 0 0,1 3,0Z\" style=\"opacity: 1; stroke-width: 0px; fill: rgb(31, 119, 180); fill-opacity: 1;\"/><path class=\"point\" transform=\"translate(117.53,107.29)\" d=\"M3,0A3,3 0 1,1 0,-3A3,3 0 0,1 3,0Z\" style=\"opacity: 1; stroke-width: 0px; fill: rgb(31, 119, 180); fill-opacity: 1;\"/><path class=\"point\" transform=\"translate(141.92,102.58)\" d=\"M3,0A3,3 0 1,1 0,-3A3,3 0 0,1 3,0Z\" style=\"opacity: 1; stroke-width: 0px; fill: rgb(31, 119, 180); fill-opacity: 1;\"/><path class=\"point\" transform=\"translate(196.87,112.54)\" d=\"M3,0A3,3 0 1,1 0,-3A3,3 0 0,1 3,0Z\" style=\"opacity: 1; stroke-width: 0px; fill: rgb(31, 119, 180); fill-opacity: 1;\"/><path class=\"point\" transform=\"translate(211.48,109.58)\" d=\"M3,0A3,3 0 1,1 0,-3A3,3 0 0,1 3,0Z\" style=\"opacity: 1; stroke-width: 0px; fill: rgb(31, 119, 180); fill-opacity: 1;\"/><path class=\"point\" transform=\"translate(99.15,102.8)\" d=\"M3,0A3,3 0 1,1 0,-3A3,3 0 0,1 3,0Z\" style=\"opacity: 1; stroke-width: 0px; fill: rgb(31, 119, 180); fill-opacity: 1;\"/><path class=\"point\" transform=\"translate(112.98,112.71)\" d=\"M3,0A3,3 0 1,1 0,-3A3,3 0 0,1 3,0Z\" style=\"opacity: 1; stroke-width: 0px; fill: rgb(31, 119, 180); fill-opacity: 1;\"/><path class=\"point\" transform=\"translate(187.69,113.15)\" d=\"M3,0A3,3 0 1,1 0,-3A3,3 0 0,1 3,0Z\" style=\"opacity: 1; stroke-width: 0px; fill: rgb(31, 119, 180); fill-opacity: 1;\"/><path class=\"point\" transform=\"translate(195.84,102.5)\" d=\"M3,0A3,3 0 1,1 0,-3A3,3 0 0,1 3,0Z\" style=\"opacity: 1; stroke-width: 0px; fill: rgb(31, 119, 180); fill-opacity: 1;\"/><path class=\"point\" transform=\"translate(67.43,91.63)\" d=\"M3,0A3,3 0 1,1 0,-3A3,3 0 0,1 3,0Z\" style=\"opacity: 1; stroke-width: 0px; fill: rgb(31, 119, 180); fill-opacity: 1;\"/><path class=\"point\" transform=\"translate(45.47,83.62)\" d=\"M3,0A3,3 0 1,1 0,-3A3,3 0 0,1 3,0Z\" style=\"opacity: 1; stroke-width: 0px; fill: rgb(31, 119, 180); fill-opacity: 1;\"/><path class=\"point\" transform=\"translate(129.72,106.09)\" d=\"M3,0A3,3 0 1,1 0,-3A3,3 0 0,1 3,0Z\" style=\"opacity: 1; stroke-width: 0px; fill: rgb(31, 119, 180); fill-opacity: 1;\"/><path class=\"point\" transform=\"translate(187.01,127.45)\" d=\"M3,0A3,3 0 1,1 0,-3A3,3 0 0,1 3,0Z\" style=\"opacity: 1; stroke-width: 0px; fill: rgb(31, 119, 180); fill-opacity: 1;\"/><path class=\"point\" transform=\"translate(134.35,86.33)\" d=\"M3,0A3,3 0 1,1 0,-3A3,3 0 0,1 3,0Z\" style=\"opacity: 1; stroke-width: 0px; fill: rgb(31, 119, 180); fill-opacity: 1;\"/><path class=\"point\" transform=\"translate(100.63,103.78)\" d=\"M3,0A3,3 0 1,1 0,-3A3,3 0 0,1 3,0Z\" style=\"opacity: 1; stroke-width: 0px; fill: rgb(31, 119, 180); fill-opacity: 1;\"/><path class=\"point\" transform=\"translate(114.27,75.16)\" d=\"M3,0A3,3 0 1,1 0,-3A3,3 0 0,1 3,0Z\" style=\"opacity: 1; stroke-width: 0px; fill: rgb(31, 119, 180); fill-opacity: 1;\"/><path class=\"point\" transform=\"translate(143.96,77.02)\" d=\"M3,0A3,3 0 1,1 0,-3A3,3 0 0,1 3,0Z\" style=\"opacity: 1; stroke-width: 0px; fill: rgb(31, 119, 180); fill-opacity: 1;\"/><path class=\"point\" transform=\"translate(93.85,85.89)\" d=\"M3,0A3,3 0 1,1 0,-3A3,3 0 0,1 3,0Z\" style=\"opacity: 1; stroke-width: 0px; fill: rgb(31, 119, 180); fill-opacity: 1;\"/><path class=\"point\" transform=\"translate(148.39,105.18)\" d=\"M3,0A3,3 0 1,1 0,-3A3,3 0 0,1 3,0Z\" style=\"opacity: 1; stroke-width: 0px; fill: rgb(31, 119, 180); fill-opacity: 1;\"/><path class=\"point\" transform=\"translate(153.88,92.04)\" d=\"M3,0A3,3 0 1,1 0,-3A3,3 0 0,1 3,0Z\" style=\"opacity: 1; stroke-width: 0px; fill: rgb(31, 119, 180); fill-opacity: 1;\"/><path class=\"point\" transform=\"translate(175.13,82.86)\" d=\"M3,0A3,3 0 1,1 0,-3A3,3 0 0,1 3,0Z\" style=\"opacity: 1; stroke-width: 0px; fill: rgb(31, 119, 180); fill-opacity: 1;\"/><path class=\"point\" transform=\"translate(164.67,76.92)\" d=\"M3,0A3,3 0 1,1 0,-3A3,3 0 0,1 3,0Z\" style=\"opacity: 1; stroke-width: 0px; fill: rgb(31, 119, 180); fill-opacity: 1;\"/><path class=\"point\" transform=\"translate(75.48,91.71)\" d=\"M3,0A3,3 0 1,1 0,-3A3,3 0 0,1 3,0Z\" style=\"opacity: 1; stroke-width: 0px; fill: rgb(31, 119, 180); fill-opacity: 1;\"/><path class=\"point\" transform=\"translate(108.87,93.99)\" d=\"M3,0A3,3 0 1,1 0,-3A3,3 0 0,1 3,0Z\" style=\"opacity: 1; stroke-width: 0px; fill: rgb(31, 119, 180); fill-opacity: 1;\"/><path class=\"point\" transform=\"translate(124.61,90.21)\" d=\"M3,0A3,3 0 1,1 0,-3A3,3 0 0,1 3,0Z\" style=\"opacity: 1; stroke-width: 0px; fill: rgb(31, 119, 180); fill-opacity: 1;\"/><path class=\"point\" transform=\"translate(127.87,83.01)\" d=\"M3,0A3,3 0 1,1 0,-3A3,3 0 0,1 3,0Z\" style=\"opacity: 1; stroke-width: 0px; fill: rgb(31, 119, 180); fill-opacity: 1;\"/><path class=\"point\" transform=\"translate(91.94,99.21)\" d=\"M3,0A3,3 0 1,1 0,-3A3,3 0 0,1 3,0Z\" style=\"opacity: 1; stroke-width: 0px; fill: rgb(31, 119, 180); fill-opacity: 1;\"/><path class=\"point\" transform=\"translate(38.76,81.11)\" d=\"M3,0A3,3 0 1,1 0,-3A3,3 0 0,1 3,0Z\" style=\"opacity: 1; stroke-width: 0px; fill: rgb(31, 119, 180); fill-opacity: 1;\"/><path class=\"point\" transform=\"translate(64.39,109.75)\" d=\"M3,0A3,3 0 1,1 0,-3A3,3 0 0,1 3,0Z\" style=\"opacity: 1; stroke-width: 0px; fill: rgb(31, 119, 180); fill-opacity: 1;\"/><path class=\"point\" transform=\"translate(93.86,106.93)\" d=\"M3,0A3,3 0 1,1 0,-3A3,3 0 0,1 3,0Z\" style=\"opacity: 1; stroke-width: 0px; fill: rgb(31, 119, 180); fill-opacity: 1;\"/><path class=\"point\" transform=\"translate(47.85,90.55)\" d=\"M3,0A3,3 0 1,1 0,-3A3,3 0 0,1 3,0Z\" style=\"opacity: 1; stroke-width: 0px; fill: rgb(31, 119, 180); fill-opacity: 1;\"/><path class=\"point\" transform=\"translate(75.31,100.17)\" d=\"M3,0A3,3 0 1,1 0,-3A3,3 0 0,1 3,0Z\" style=\"opacity: 1; stroke-width: 0px; fill: rgb(31, 119, 180); fill-opacity: 1;\"/><path class=\"point\" transform=\"translate(66.31,83.91)\" d=\"M3,0A3,3 0 1,1 0,-3A3,3 0 0,1 3,0Z\" style=\"opacity: 1; stroke-width: 0px; fill: rgb(31, 119, 180); fill-opacity: 1;\"/><path class=\"point\" transform=\"translate(55.38,83.2)\" d=\"M3,0A3,3 0 1,1 0,-3A3,3 0 0,1 3,0Z\" style=\"opacity: 1; stroke-width: 0px; fill: rgb(31, 119, 180); fill-opacity: 1;\"/><path class=\"point\" transform=\"translate(58.91,85.64)\" d=\"M3,0A3,3 0 1,1 0,-3A3,3 0 0,1 3,0Z\" style=\"opacity: 1; stroke-width: 0px; fill: rgb(31, 119, 180); fill-opacity: 1;\"/><path class=\"point\" transform=\"translate(71.91,85.97)\" d=\"M3,0A3,3 0 1,1 0,-3A3,3 0 0,1 3,0Z\" style=\"opacity: 1; stroke-width: 0px; fill: rgb(31, 119, 180); fill-opacity: 1;\"/><path class=\"point\" transform=\"translate(106.96,88.76)\" d=\"M3,0A3,3 0 1,1 0,-3A3,3 0 0,1 3,0Z\" style=\"opacity: 1; stroke-width: 0px; fill: rgb(31, 119, 180); fill-opacity: 1;\"/><path class=\"point\" transform=\"translate(117.78,93.36)\" d=\"M3,0A3,3 0 1,1 0,-3A3,3 0 0,1 3,0Z\" style=\"opacity: 1; stroke-width: 0px; fill: rgb(31, 119, 180); fill-opacity: 1;\"/><path class=\"point\" transform=\"translate(94.12,81.78)\" d=\"M3,0A3,3 0 1,1 0,-3A3,3 0 0,1 3,0Z\" style=\"opacity: 1; stroke-width: 0px; fill: rgb(31, 119, 180); fill-opacity: 1;\"/><path class=\"point\" transform=\"translate(199.88,80.96)\" d=\"M3,0A3,3 0 1,1 0,-3A3,3 0 0,1 3,0Z\" style=\"opacity: 1; stroke-width: 0px; fill: rgb(31, 119, 180); fill-opacity: 1;\"/><path class=\"point\" transform=\"translate(194.9,91.04)\" d=\"M3,0A3,3 0 1,1 0,-3A3,3 0 0,1 3,0Z\" style=\"opacity: 1; stroke-width: 0px; fill: rgb(31, 119, 180); fill-opacity: 1;\"/><path class=\"point\" transform=\"translate(131.54,80.11)\" d=\"M3,0A3,3 0 1,1 0,-3A3,3 0 0,1 3,0Z\" style=\"opacity: 1; stroke-width: 0px; fill: rgb(31, 119, 180); fill-opacity: 1;\"/><path class=\"point\" transform=\"translate(115.44,83.84)\" d=\"M3,0A3,3 0 1,1 0,-3A3,3 0 0,1 3,0Z\" style=\"opacity: 1; stroke-width: 0px; fill: rgb(31, 119, 180); fill-opacity: 1;\"/><path class=\"point\" transform=\"translate(155.92,101.12)\" d=\"M3,0A3,3 0 1,1 0,-3A3,3 0 0,1 3,0Z\" style=\"opacity: 1; stroke-width: 0px; fill: rgb(31, 119, 180); fill-opacity: 1;\"/><path class=\"point\" transform=\"translate(168.88,100.92)\" d=\"M3,0A3,3 0 1,1 0,-3A3,3 0 0,1 3,0Z\" style=\"opacity: 1; stroke-width: 0px; fill: rgb(31, 119, 180); fill-opacity: 1;\"/><path class=\"point\" transform=\"translate(147.16,92.88)\" d=\"M3,0A3,3 0 1,1 0,-3A3,3 0 0,1 3,0Z\" style=\"opacity: 1; stroke-width: 0px; fill: rgb(31, 119, 180); fill-opacity: 1;\"/><path class=\"point\" transform=\"translate(54.44,91.4)\" d=\"M3,0A3,3 0 1,1 0,-3A3,3 0 0,1 3,0Z\" style=\"opacity: 1; stroke-width: 0px; fill: rgb(31, 119, 180); fill-opacity: 1;\"/><path class=\"point\" transform=\"translate(70.02,90.17)\" d=\"M3,0A3,3 0 1,1 0,-3A3,3 0 0,1 3,0Z\" style=\"opacity: 1; stroke-width: 0px; fill: rgb(31, 119, 180); fill-opacity: 1;\"/><path class=\"point\" transform=\"translate(79.79,103.11)\" d=\"M3,0A3,3 0 1,1 0,-3A3,3 0 0,1 3,0Z\" style=\"opacity: 1; stroke-width: 0px; fill: rgb(31, 119, 180); fill-opacity: 1;\"/><path class=\"point\" transform=\"translate(69.28,102.41)\" d=\"M3,0A3,3 0 1,1 0,-3A3,3 0 0,1 3,0Z\" style=\"opacity: 1; stroke-width: 0px; fill: rgb(31, 119, 180); fill-opacity: 1;\"/><path class=\"point\" transform=\"translate(105.38,117.92)\" d=\"M3,0A3,3 0 1,1 0,-3A3,3 0 0,1 3,0Z\" style=\"opacity: 1; stroke-width: 0px; fill: rgb(31, 119, 180); fill-opacity: 1;\"/><path class=\"point\" transform=\"translate(92.7,84.53)\" d=\"M3,0A3,3 0 1,1 0,-3A3,3 0 0,1 3,0Z\" style=\"opacity: 1; stroke-width: 0px; fill: rgb(31, 119, 180); fill-opacity: 1;\"/><path class=\"point\" transform=\"translate(119.13,90.81)\" d=\"M3,0A3,3 0 1,1 0,-3A3,3 0 0,1 3,0Z\" style=\"opacity: 1; stroke-width: 0px; fill: rgb(31, 119, 180); fill-opacity: 1;\"/><path class=\"point\" transform=\"translate(119.13,72.92)\" d=\"M3,0A3,3 0 1,1 0,-3A3,3 0 0,1 3,0Z\" style=\"opacity: 1; stroke-width: 0px; fill: rgb(31, 119, 180); fill-opacity: 1;\"/><path class=\"point\" transform=\"translate(162.96,47.56)\" d=\"M3,0A3,3 0 1,1 0,-3A3,3 0 0,1 3,0Z\" style=\"opacity: 1; stroke-width: 0px; fill: rgb(31, 119, 180); fill-opacity: 1;\"/><path class=\"point\" transform=\"translate(122.4,49.32)\" d=\"M3,0A3,3 0 1,1 0,-3A3,3 0 0,1 3,0Z\" style=\"opacity: 1; stroke-width: 0px; fill: rgb(31, 119, 180); fill-opacity: 1;\"/><path class=\"point\" transform=\"translate(159.74,85.55)\" d=\"M3,0A3,3 0 1,1 0,-3A3,3 0 0,1 3,0Z\" style=\"opacity: 1; stroke-width: 0px; fill: rgb(31, 119, 180); fill-opacity: 1;\"/><path class=\"point\" transform=\"translate(184.49,50.32)\" d=\"M3,0A3,3 0 1,1 0,-3A3,3 0 0,1 3,0Z\" style=\"opacity: 1; stroke-width: 0px; fill: rgb(31, 119, 180); fill-opacity: 1;\"/><path class=\"point\" transform=\"translate(222.71,65.39)\" d=\"M3,0A3,3 0 1,1 0,-3A3,3 0 0,1 3,0Z\" style=\"opacity: 1; stroke-width: 0px; fill: rgb(31, 119, 180); fill-opacity: 1;\"/><path class=\"point\" transform=\"translate(227.28,64.87)\" d=\"M3,0A3,3 0 1,1 0,-3A3,3 0 0,1 3,0Z\" style=\"opacity: 1; stroke-width: 0px; fill: rgb(31, 119, 180); fill-opacity: 1;\"/><path class=\"point\" transform=\"translate(152.62,75.81)\" d=\"M3,0A3,3 0 1,1 0,-3A3,3 0 0,1 3,0Z\" style=\"opacity: 1; stroke-width: 0px; fill: rgb(31, 119, 180); fill-opacity: 1;\"/><path class=\"point\" transform=\"translate(119.26,86.53)\" d=\"M3,0A3,3 0 1,1 0,-3A3,3 0 0,1 3,0Z\" style=\"opacity: 1; stroke-width: 0px; fill: rgb(31, 119, 180); fill-opacity: 1;\"/><path class=\"point\" transform=\"translate(52.28,93.8)\" d=\"M3,0A3,3 0 1,1 0,-3A3,3 0 0,1 3,0Z\" style=\"opacity: 1; stroke-width: 0px; fill: rgb(31, 119, 180); fill-opacity: 1;\"/><path class=\"point\" transform=\"translate(57.6,95.53)\" d=\"M3,0A3,3 0 1,1 0,-3A3,3 0 0,1 3,0Z\" style=\"opacity: 1; stroke-width: 0px; fill: rgb(31, 119, 180); fill-opacity: 1;\"/><path class=\"point\" transform=\"translate(55.09,101.3)\" d=\"M3,0A3,3 0 1,1 0,-3A3,3 0 0,1 3,0Z\" style=\"opacity: 1; stroke-width: 0px; fill: rgb(31, 119, 180); fill-opacity: 1;\"/><path class=\"point\" transform=\"translate(30.38,56.65)\" d=\"M3,0A3,3 0 1,1 0,-3A3,3 0 0,1 3,0Z\" style=\"opacity: 1; stroke-width: 0px; fill: rgb(31, 119, 180); fill-opacity: 1;\"/><path class=\"point\" transform=\"translate(77.12,88.72)\" d=\"M3,0A3,3 0 1,1 0,-3A3,3 0 0,1 3,0Z\" style=\"opacity: 1; stroke-width: 0px; fill: rgb(31, 119, 180); fill-opacity: 1;\"/><path class=\"point\" transform=\"translate(91.72,92.24)\" d=\"M3,0A3,3 0 1,1 0,-3A3,3 0 0,1 3,0Z\" style=\"opacity: 1; stroke-width: 0px; fill: rgb(31, 119, 180); fill-opacity: 1;\"/><path class=\"point\" transform=\"translate(97.05,97.54)\" d=\"M3,0A3,3 0 1,1 0,-3A3,3 0 0,1 3,0Z\" style=\"opacity: 1; stroke-width: 0px; fill: rgb(31, 119, 180); fill-opacity: 1;\"/><path class=\"point\" transform=\"translate(55.58,83.98)\" d=\"M3,0A3,3 0 1,1 0,-3A3,3 0 0,1 3,0Z\" style=\"opacity: 1; stroke-width: 0px; fill: rgb(31, 119, 180); fill-opacity: 1;\"/><path class=\"point\" transform=\"translate(131.77,79.63)\" d=\"M3,0A3,3 0 1,1 0,-3A3,3 0 0,1 3,0Z\" style=\"opacity: 1; stroke-width: 0px; fill: rgb(31, 119, 180); fill-opacity: 1;\"/><path class=\"point\" transform=\"translate(17.35,71.47)\" d=\"M3,0A3,3 0 1,1 0,-3A3,3 0 0,1 3,0Z\" style=\"opacity: 1; stroke-width: 0px; fill: rgb(31, 119, 180); fill-opacity: 1;\"/><path class=\"point\" transform=\"translate(60.97,65.35)\" d=\"M3,0A3,3 0 1,1 0,-3A3,3 0 0,1 3,0Z\" style=\"opacity: 1; stroke-width: 0px; fill: rgb(31, 119, 180); fill-opacity: 1;\"/><path class=\"point\" transform=\"translate(86.34,85.59)\" d=\"M3,0A3,3 0 1,1 0,-3A3,3 0 0,1 3,0Z\" style=\"opacity: 1; stroke-width: 0px; fill: rgb(31, 119, 180); fill-opacity: 1;\"/><path class=\"point\" transform=\"translate(28.09,73.27)\" d=\"M3,0A3,3 0 1,1 0,-3A3,3 0 0,1 3,0Z\" style=\"opacity: 1; stroke-width: 0px; fill: rgb(31, 119, 180); fill-opacity: 1;\"/><path class=\"point\" transform=\"translate(21.38,89.5)\" d=\"M3,0A3,3 0 1,1 0,-3A3,3 0 0,1 3,0Z\" style=\"opacity: 1; stroke-width: 0px; fill: rgb(31, 119, 180); fill-opacity: 1;\"/><path class=\"point\" transform=\"translate(91.26,91.02)\" d=\"M3,0A3,3 0 1,1 0,-3A3,3 0 0,1 3,0Z\" style=\"opacity: 1; stroke-width: 0px; fill: rgb(31, 119, 180); fill-opacity: 1;\"/><path class=\"point\" transform=\"translate(82.93,86.19)\" d=\"M3,0A3,3 0 1,1 0,-3A3,3 0 0,1 3,0Z\" style=\"opacity: 1; stroke-width: 0px; fill: rgb(31, 119, 180); fill-opacity: 1;\"/><path class=\"point\" transform=\"translate(177.25,86.55)\" d=\"M3,0A3,3 0 1,1 0,-3A3,3 0 0,1 3,0Z\" style=\"opacity: 1; stroke-width: 0px; fill: rgb(31, 119, 180); fill-opacity: 1;\"/><path class=\"point\" transform=\"translate(74.24,66.44)\" d=\"M3,0A3,3 0 1,1 0,-3A3,3 0 0,1 3,0Z\" style=\"opacity: 1; stroke-width: 0px; fill: rgb(31, 119, 180); fill-opacity: 1;\"/><path class=\"point\" transform=\"translate(31.52,76.15)\" d=\"M3,0A3,3 0 1,1 0,-3A3,3 0 0,1 3,0Z\" style=\"opacity: 1; stroke-width: 0px; fill: rgb(31, 119, 180); fill-opacity: 1;\"/><path class=\"point\" transform=\"translate(61.63,86.06)\" d=\"M3,0A3,3 0 1,1 0,-3A3,3 0 0,1 3,0Z\" style=\"opacity: 1; stroke-width: 0px; fill: rgb(31, 119, 180); fill-opacity: 1;\"/><path class=\"point\" transform=\"translate(145.68,78.73)\" d=\"M3,0A3,3 0 1,1 0,-3A3,3 0 0,1 3,0Z\" style=\"opacity: 1; stroke-width: 0px; fill: rgb(31, 119, 180); fill-opacity: 1;\"/><path class=\"point\" transform=\"translate(156.94,113.72)\" d=\"M3,0A3,3 0 1,1 0,-3A3,3 0 0,1 3,0Z\" style=\"opacity: 1; stroke-width: 0px; fill: rgb(31, 119, 180); fill-opacity: 1;\"/><path class=\"point\" transform=\"translate(161.24,73.5)\" d=\"M3,0A3,3 0 1,1 0,-3A3,3 0 0,1 3,0Z\" style=\"opacity: 1; stroke-width: 0px; fill: rgb(31, 119, 180); fill-opacity: 1;\"/><path class=\"point\" transform=\"translate(108.87,93.99)\" d=\"M3,0A3,3 0 1,1 0,-3A3,3 0 0,1 3,0Z\" style=\"opacity: 1; stroke-width: 0px; fill: rgb(31, 119, 180); fill-opacity: 1;\"/><path class=\"point\" transform=\"translate(88.52,95.79)\" d=\"M3,0A3,3 0 1,1 0,-3A3,3 0 0,1 3,0Z\" style=\"opacity: 1; stroke-width: 0px; fill: rgb(31, 119, 180); fill-opacity: 1;\"/><path class=\"point\" transform=\"translate(51.27,93.97)\" d=\"M3,0A3,3 0 1,1 0,-3A3,3 0 0,1 3,0Z\" style=\"opacity: 1; stroke-width: 0px; fill: rgb(31, 119, 180); fill-opacity: 1;\"/><path class=\"point\" transform=\"translate(55.38,83.2)\" d=\"M3,0A3,3 0 1,1 0,-3A3,3 0 0,1 3,0Z\" style=\"opacity: 1; stroke-width: 0px; fill: rgb(31, 119, 180); fill-opacity: 1;\"/><path class=\"point\" transform=\"translate(110.38,92.18)\" d=\"M3,0A3,3 0 1,1 0,-3A3,3 0 0,1 3,0Z\" style=\"opacity: 1; stroke-width: 0px; fill: rgb(31, 119, 180); fill-opacity: 1;\"/><path class=\"point\" transform=\"translate(199.88,80.96)\" d=\"M3,0A3,3 0 1,1 0,-3A3,3 0 0,1 3,0Z\" style=\"opacity: 1; stroke-width: 0px; fill: rgb(31, 119, 180); fill-opacity: 1;\"/><path class=\"point\" transform=\"translate(155.71,101.43)\" d=\"M3,0A3,3 0 1,1 0,-3A3,3 0 0,1 3,0Z\" style=\"opacity: 1; stroke-width: 0px; fill: rgb(31, 119, 180); fill-opacity: 1;\"/><path class=\"point\" transform=\"translate(84.92,108.24)\" d=\"M3,0A3,3 0 1,1 0,-3A3,3 0 0,1 3,0Z\" style=\"opacity: 1; stroke-width: 0px; fill: rgb(31, 119, 180); fill-opacity: 1;\"/><path class=\"point\" transform=\"translate(81.26,114.37)\" d=\"M3,0A3,3 0 1,1 0,-3A3,3 0 0,1 3,0Z\" style=\"opacity: 1; stroke-width: 0px; fill: rgb(31, 119, 180); fill-opacity: 1;\"/><path class=\"point\" transform=\"translate(141.37,95.14)\" d=\"M3,0A3,3 0 1,1 0,-3A3,3 0 0,1 3,0Z\" style=\"opacity: 1; stroke-width: 0px; fill: rgb(31, 119, 180); fill-opacity: 1;\"/><path class=\"point\" transform=\"translate(181.98,107.77)\" d=\"M3,0A3,3 0 1,1 0,-3A3,3 0 0,1 3,0Z\" style=\"opacity: 1; stroke-width: 0px; fill: rgb(31, 119, 180); fill-opacity: 1;\"/><path class=\"point\" transform=\"translate(254.65,92.22)\" d=\"M3,0A3,3 0 1,1 0,-3A3,3 0 0,1 3,0Z\" style=\"opacity: 1; stroke-width: 0px; fill: rgb(31, 119, 180); fill-opacity: 1;\"/><path class=\"point\" transform=\"translate(76.23,117.73)\" d=\"M3,0A3,3 0 1,1 0,-3A3,3 0 0,1 3,0Z\" style=\"opacity: 1; stroke-width: 0px; fill: rgb(31, 119, 180); fill-opacity: 1;\"/><path class=\"point\" transform=\"translate(35.51,61.78)\" d=\"M3,0A3,3 0 1,1 0,-3A3,3 0 0,1 3,0Z\" style=\"opacity: 1; stroke-width: 0px; fill: rgb(31, 119, 180); fill-opacity: 1;\"/><path class=\"point\" transform=\"translate(102.18,102.66)\" d=\"M3,0A3,3 0 1,1 0,-3A3,3 0 0,1 3,0Z\" style=\"opacity: 1; stroke-width: 0px; fill: rgb(31, 119, 180); fill-opacity: 1;\"/><path class=\"point\" transform=\"translate(143.74,91.59)\" d=\"M3,0A3,3 0 1,1 0,-3A3,3 0 0,1 3,0Z\" style=\"opacity: 1; stroke-width: 0px; fill: rgb(31, 119, 180); fill-opacity: 1;\"/><path class=\"point\" transform=\"translate(60.97,65.35)\" d=\"M3,0A3,3 0 1,1 0,-3A3,3 0 0,1 3,0Z\" style=\"opacity: 1; stroke-width: 0px; fill: rgb(31, 119, 180); fill-opacity: 1;\"/><path class=\"point\" transform=\"translate(96.6,95.84)\" d=\"M3,0A3,3 0 1,1 0,-3A3,3 0 0,1 3,0Z\" style=\"opacity: 1; stroke-width: 0px; fill: rgb(31, 119, 180); fill-opacity: 1;\"/><path class=\"point\" transform=\"translate(77.66,69.86)\" d=\"M3,0A3,3 0 1,1 0,-3A3,3 0 0,1 3,0Z\" style=\"opacity: 1; stroke-width: 0px; fill: rgb(31, 119, 180); fill-opacity: 1;\"/></g><g class=\"text\"/></g></g></g><g class=\"overplot\"/><path class=\"xlines-above crisp\" d=\"M67,192.5H340\" style=\"fill: none; stroke-width: 1px; stroke: rgb(36, 36, 36); stroke-opacity: 1;\"/><path class=\"ylines-above crisp\" d=\"M67.5,10V192\" style=\"fill: none; stroke-width: 1px; stroke: rgb(36, 36, 36); stroke-opacity: 1;\"/><g class=\"overlines-above\"/><g class=\"xaxislayer-above\"><path class=\"xtick ticks crisp\" d=\"M0,193v5\" transform=\"translate(132.3,0)\" style=\"stroke: rgb(68, 68, 68); stroke-opacity: 1; stroke-width: 1px;\"/><path class=\"xtick ticks crisp\" d=\"M0,193v5\" transform=\"translate(208.19,0)\" style=\"stroke: rgb(68, 68, 68); stroke-opacity: 1; stroke-width: 1px;\"/><path class=\"xtick ticks crisp\" d=\"M0,193v5\" transform=\"translate(284.08000000000004,0)\" style=\"stroke: rgb(68, 68, 68); stroke-opacity: 1; stroke-width: 1px;\"/><g class=\"xtick\"><text text-anchor=\"middle\" x=\"0\" y=\"212.4\" transform=\"translate(132.3,0)\" style=\"font-family: 'Open Sans', verdana, arial, sans-serif; font-size: 12px; fill: rgb(36, 36, 36); fill-opacity: 1; white-space: pre; opacity: 1;\">10</text></g><g class=\"xtick\"><text text-anchor=\"middle\" x=\"0\" y=\"212.4\" style=\"font-family: 'Open Sans', verdana, arial, sans-serif; font-size: 12px; fill: rgb(36, 36, 36); fill-opacity: 1; white-space: pre; opacity: 1;\" transform=\"translate(208.19,0)\">20</text></g><g class=\"xtick\"><text text-anchor=\"middle\" x=\"0\" y=\"212.4\" style=\"font-family: 'Open Sans', verdana, arial, sans-serif; font-size: 12px; fill: rgb(36, 36, 36); fill-opacity: 1; white-space: pre; opacity: 1;\" transform=\"translate(284.08000000000004,0)\">30</text></g></g><g class=\"yaxislayer-above\"><path class=\"ytick ticks crisp\" d=\"M67,0h-5\" transform=\"translate(0,176.83)\" style=\"stroke: rgb(68, 68, 68); stroke-opacity: 1; stroke-width: 1px;\"/><path class=\"ytick ticks crisp\" d=\"M67,0h-5\" transform=\"translate(0,138.92)\" style=\"stroke: rgb(68, 68, 68); stroke-opacity: 1; stroke-width: 1px;\"/><path class=\"ytick ticks crisp\" d=\"M67,0h-5\" transform=\"translate(0,101)\" style=\"stroke: rgb(68, 68, 68); stroke-opacity: 1; stroke-width: 1px;\"/><path class=\"ytick ticks crisp\" d=\"M67,0h-5\" transform=\"translate(0,63.08)\" style=\"stroke: rgb(68, 68, 68); stroke-opacity: 1; stroke-width: 1px;\"/><path class=\"ytick ticks crisp\" d=\"M67,0h-5\" transform=\"translate(0,25.17)\" style=\"stroke: rgb(68, 68, 68); stroke-opacity: 1; stroke-width: 1px;\"/><g class=\"ytick\"><text text-anchor=\"end\" x=\"59.6\" y=\"4.199999999999999\" transform=\"translate(0,176.83)\" style=\"font-family: 'Open Sans', verdana, arial, sans-serif; font-size: 12px; fill: rgb(36, 36, 36); fill-opacity: 1; white-space: pre; opacity: 1;\">−10</text></g><g class=\"ytick\"><text text-anchor=\"end\" x=\"59.6\" y=\"4.199999999999999\" style=\"font-family: 'Open Sans', verdana, arial, sans-serif; font-size: 12px; fill: rgb(36, 36, 36); fill-opacity: 1; white-space: pre; opacity: 1;\" transform=\"translate(0,138.92)\">−5</text></g><g class=\"ytick\"><text text-anchor=\"end\" x=\"59.6\" y=\"4.199999999999999\" style=\"font-family: 'Open Sans', verdana, arial, sans-serif; font-size: 12px; fill: rgb(36, 36, 36); fill-opacity: 1; white-space: pre; opacity: 1;\" transform=\"translate(0,101)\">0</text></g><g class=\"ytick\"><text text-anchor=\"end\" x=\"59.6\" y=\"4.199999999999999\" style=\"font-family: 'Open Sans', verdana, arial, sans-serif; font-size: 12px; fill: rgb(36, 36, 36); fill-opacity: 1; white-space: pre; opacity: 1;\" transform=\"translate(0,63.08)\">5</text></g><g class=\"ytick\"><text text-anchor=\"end\" x=\"59.6\" y=\"4.199999999999999\" style=\"font-family: 'Open Sans', verdana, arial, sans-serif; font-size: 12px; fill: rgb(36, 36, 36); fill-opacity: 1; white-space: pre; opacity: 1;\" transform=\"translate(0,25.17)\">10</text></g></g><g class=\"overaxes-above\"/></g></g><g class=\"polarlayer\"/><g class=\"smithlayer\"/><g class=\"ternarylayer\"/><g class=\"geolayer\"/><g class=\"funnelarealayer\"/><g class=\"pielayer\"/><g class=\"iciclelayer\"/><g class=\"treemaplayer\"/><g class=\"sunburstlayer\"/><g class=\"glimages\"/><defs id=\"topdefs-a9fc36\"><g class=\"clips\"/></defs><g class=\"layer-above\"><g class=\"imagelayer\"/><g class=\"shapelayer\"><g class=\"shape-group\" data-index=\"0\" clip-path=\"url(#clipa9fc36y)\"><path data-index=\"0\" fill-rule=\"evenodd\" d=\"M68,101L340,101\" style=\"opacity: 1; stroke: rgb(0, 0, 0); stroke-opacity: 1; fill: rgb(0, 0, 0); fill-opacity: 1; stroke-dasharray: 9px, 9px; stroke-width: 3px;\"/></g></g></g><g class=\"infolayer\"><g class=\"g-gtitle\"/><g class=\"g-xtitle\"><text class=\"xtitle\" x=\"204\" y=\"239.20625\" text-anchor=\"middle\" style=\"font-family: 'Open Sans', verdana, arial, sans-serif; font-size: 14px; fill: rgb(36, 36, 36); opacity: 1; font-weight: normal; white-space: pre;\">Predicted PurpleAir measurement</text></g><g class=\"g-ytitle\" transform=\"translate(3.7841796875,0)\"><text class=\"ytitle\" transform=\"rotate(-90,10.215625000000003,101)\" x=\"10.215625000000003\" y=\"101\" text-anchor=\"middle\" style=\"font-family: 'Open Sans', verdana, arial, sans-serif; font-size: 14px; fill: rgb(36, 36, 36); opacity: 1; font-weight: normal; white-space: pre;\">Error</text></g></g></svg>"
      ]
     },
     "metadata": {},
     "output_type": "display_data"
    }
   ],
   "source": [
    "fig = px.scatter(y = error_2var, x=predicted_2var,\n",
    "                 labels={\"y\": \"Error\", \"x\": \"Predicted PurpleAir measurement\"},\n",
    "                 width=350, height=250)\n",
    "\n",
    "fig.update_yaxes(range=[-12, 12])\n",
    "fig.add_hline(0, line_width=3, line_dash='dash', opacity=1)\n",
    "\n",
    "fig.show()"
   ]
  },
  {
   "cell_type": "markdown",
   "metadata": {
    "user_expressions": []
   },
   "source": [
    "The residual plot appears to have no clear patterns, which indicates that the model fits pretty well. Notice also that the errors nearly all fall within –4 and +4 ppm, a smaller range than in the simple linear model. And we find the standard deviation of the residuals is quite a bit smaller: "
   ]
  },
  {
   "cell_type": "code",
   "execution_count": 29,
   "metadata": {},
   "outputs": [
    {
     "data": {
      "text/plain": [
       "1.8211427707294048"
      ]
     },
     "execution_count": 29,
     "metadata": {},
     "output_type": "execute_result"
    }
   ],
   "source": [
    "error_2var.std()"
   ]
  },
  {
   "cell_type": "markdown",
   "metadata": {
    "user_expressions": []
   },
   "source": [
    "The residual standard deviation has been reduced from 2.8 ppm in the one variable model to 1.8 ppm, a good size reduction. "
   ]
  },
  {
   "cell_type": "markdown",
   "metadata": {
    "tags": [],
    "user_expressions": []
   },
   "source": [
    "The correlation coefficient can't capture the strength of a linear association model when we have more than one explanatory variable. Instead, we adapt the MSE to give us a sense of model fit. In the next section, we describe how to fit a multiple linear model and use the MSE to assess fit. "
   ]
  }
 ],
 "metadata": {
  "kernelspec": {
   "display_name": "Python 3 (ipykernel)",
   "language": "python",
   "name": "python3"
  },
  "language_info": {
   "codemirror_mode": {
    "name": "ipython",
    "version": 3
   },
   "file_extension": ".py",
   "mimetype": "text/x-python",
   "name": "python",
   "nbconvert_exporter": "python",
   "pygments_lexer": "ipython3",
   "version": "3.10.12"
  }
 },
 "nbformat": 4,
 "nbformat_minor": 4
}
