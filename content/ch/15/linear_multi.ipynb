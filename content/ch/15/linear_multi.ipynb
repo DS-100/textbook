{
 "cells": [
  {
   "cell_type": "code",
   "execution_count": 1,
   "metadata": {
    "tags": [
     "remove-cell"
    ]
   },
   "outputs": [],
   "source": [
    "import sys\n",
    "import os\n",
    "if not any(path.endswith('textbook') for path in sys.path):\n",
    "    sys.path.append(os.path.abspath('../../..'))\n",
    "from textbook_utils import *"
   ]
  },
  {
   "cell_type": "code",
   "execution_count": 2,
   "metadata": {
    "tags": [
     "remove-cell"
    ]
   },
   "outputs": [],
   "source": [
    "csv_file = 'data/Full24hrdataset.csv'\n",
    "usecols = ['Date', 'ID', 'region', 'PM25FM', 'PM25cf1', 'RH']\n",
    "full = (pd.read_csv(csv_file, usecols=usecols, parse_dates=['Date'])\n",
    "        .dropna())\n",
    "full.columns = ['date', 'id', 'region', 'pm25aqs', 'pm25pa', 'rh']\n",
    "\n",
    "bad_dates = ['2019-08-21', '2019-08-22', '2019-09-24']\n",
    "GA = full.loc[(full['id'] == 'GA1') & (~full['date'].isin(bad_dates)) , :]"
   ]
  },
  {
   "cell_type": "markdown",
   "metadata": {},
   "source": [
    "(sec:linear_multi)=\n",
    "# Multiple Linear Model"
   ]
  },
  {
   "cell_type": "markdown",
   "metadata": {},
   "source": [
    "So far in this chapter, we've used a single input variable to predict an outcome variable.\n",
    "Now we introduce the *multiple linear model* that uses\n",
    "more than one feature to predict (or describe or explain) the outcome.\n",
    "Having multiple explanatory features can improve our model's fit to the data and improve predictions."
   ]
  },
  {
   "cell_type": "markdown",
   "metadata": {},
   "source": [
    "We start by generalizing from a simple linear model to one that includes a second explanatory variable, called $v$. This model is linear in both $x$ and $v$; meaning that for a pair of values for $x$ and $v$, we can describe, explain, or predict $y$ by the linear combination: \n",
    "\n",
    "$$ y \\approx \\theta_0 + \\theta_1 x + \\theta_2 v$$\n",
    "\n",
    "Notice that for a particular value of $v$, say $v^\\star$, we can re-express the preceding equation as:\n",
    "\n",
    "$$ y \\approx (\\theta_0 + \\theta_2 v^\\star) ~+~ \\theta_1 x$$\n",
    "\n",
    "In other words, when we hold $v$ constant at $v^\\star$, we have a simple linear relation between $x$ and $y$ with slope $\\theta_1$ and intercept $\\theta_0 + \\theta_2 v^\\star$. \n",
    "For a different value of $v$, say $v^\\dagger$,  we again have a simple linear relationship between $x$ and $y$. The slope for $x$ remains the same and the only change is the intercept, which is now $\\theta_0 + \\theta_2v^\\dagger$."
   ]
  },
  {
   "cell_type": "markdown",
   "metadata": {},
   "source": [
    "With multiple linear regression, we need to remember to interpret the coefficient $\\theta_1$ of $x$ in the presence of the other variables in the model. Holding fixed the values of the other variables in the model (that's just $v$ in this case), an increase of 1 unit in $x$ corresponds to a $\\theta_1$ change in $y$, on average. One way to visualize this kind of multiple linear relationship is to create facets of scatter plots of $(x, y)$ where in each plot the values of $v$ are roughly the same. We make such a scatter plot for the air quality measurements next, and provide examples of additional visualizations and statistics to examine when fitting a multiple linear model.    "
   ]
  },
  {
   "cell_type": "markdown",
   "metadata": {},
   "source": [
    "The scientists who studied the air quality monitors (see {numref}`Chapter %s <ch:pa>`) were looking for an improved model that incorporated weather factors.\n",
    "One weather variable they examined was a daily measurement for relative humidity.  Let's consider a two-variable linear model to explain the PurpleAir measurements based on the AQS sensor measurements and relative humidity. This model has the following form:\n",
    "\n",
    "$$ PA \\approx \\theta_0 + \\theta_1 AQ + \\theta_2 RH$$\n",
    "\n",
    "where $PA$, $AQ$, and $RH$ refer to the variables: the PurpleAir average daily measurement, AQS measurement, and relative humidity, respectively.\n",
    "\n",
    "For a first step, we make a facet plot to compare the relationship between the two air quality measurements for fixed values of humidity. To do this, we transform relative humidity to a categorical variable so that each facet consists of observations with similar humidity:"
   ]
  },
  {
   "cell_type": "code",
   "execution_count": 3,
   "metadata": {},
   "outputs": [],
   "source": [
    "rh_cat = pd.cut(GA['rh'], bins=[43,50,55,60,78], \n",
    "                labels=['<50','50-55','55-60','>60'])"
   ]
  },
  {
   "cell_type": "markdown",
   "metadata": {},
   "source": [
    "Then we use this qualitative feature to subdivide the data into a two-by-two panel of scatterplots: "
   ]
  },
  {
   "cell_type": "code",
   "execution_count": 4,
   "metadata": {
    "tags": []
   },
   "outputs": [
    {
     "data": {
      "application/vnd.plotly.v1+json": {
       "config": {
        "plotlyServerURL": "https://plot.ly"
       },
       "data": [
        {
         "hovertemplate": "facet_col=55-60<br>AQS PM2.5=%{x}<br>PurpleAir PM2.5=%{y}<extra></extra>",
         "legendgroup": "",
         "marker": {
          "color": "#1F77B4",
          "symbol": "circle"
         },
         "mode": "markers",
         "name": "",
         "orientation": "v",
         "showlegend": false,
         "type": "scatter",
         "x": [
          8.645833,
          7.704167,
          6.3,
          9.441667,
          9.754167,
          11.020833,
          11.679167,
          6.686957,
          7.478261,
          7.278261,
          9.533333,
          9.759091,
          10.4,
          9.854167,
          13.995833,
          11.733333,
          12.83913,
          10.782609,
          7.65,
          7.133333,
          5.741667,
          6,
          8.295833,
          6.3,
          7.725,
          9.516667,
          10.833333,
          13.870833,
          8.156522,
          13.5125,
          13.9375,
          11,
          11.5,
          12.9,
          7,
          7.9,
          5.9,
          8.9,
          9.3,
          10.1,
          9.3,
          12.1,
          9.5,
          12,
          9.5,
          5.4,
          5.8,
          5.7,
          4.2,
          8,
          5.9,
          7.8,
          5.9,
          11.5,
          7.7,
          5.9,
          9.1,
          13.3,
          6.8,
          4.5
         ],
         "xaxis": "x3",
         "y": [
          16.189375,
          13.5925486111111,
          10.3005709238043,
          17.5458402777778,
          19.2110265363129,
          21.6665694444444,
          25.6766180555556,
          11.3800432917262,
          12.5601805555556,
          9.85393305439331,
          15.917875,
          16.7362361111111,
          20.2967430555556,
          17.6836180555556,
          28.7283101529903,
          23.1521736111111,
          23.2944652777778,
          17.830875,
          8.04743055555556,
          8.51965972222222,
          7.42860416666667,
          10.0599235048679,
          13.4507293598362,
          9.77823119777159,
          13.5492569444444,
          14.8651736111111,
          18.7000486111111,
          24.6267385257302,
          13.0367696629213,
          23.3369027777778,
          25.8159791666667,
          19.2110265363129,
          21.6665694444444,
          25.6766180555556,
          11.3800432917262,
          12.5601805555556,
          9.85393305439331,
          15.917875,
          16.7362361111111,
          20.2967430555556,
          17.6836180555556,
          28.7283101529903,
          23.1521736111111,
          23.2944652777778,
          17.830875,
          8.04743055555556,
          8.51965972222222,
          7.42860416666667,
          10.0599235048679,
          13.4507293598362,
          9.77823119777159,
          13.5492569444444,
          10.3005709238043,
          19.2110265363129,
          12.5601805555556,
          9.85393305439331,
          15.917875,
          23.2944652777778,
          8.04743055555556,
          10.0599235048679
         ],
         "yaxis": "y3"
        },
        {
         "hovertemplate": "facet_col=>60<br>AQS PM2.5=%{x}<br>PurpleAir PM2.5=%{y}<extra></extra>",
         "legendgroup": "",
         "marker": {
          "color": "#1F77B4",
          "symbol": "circle"
         },
         "mode": "markers",
         "name": "",
         "orientation": "v",
         "showlegend": false,
         "type": "scatter",
         "x": [
          8.025,
          6.9625,
          5.629167,
          6.15,
          6.366667,
          7.495833,
          8.566667,
          8.15,
          7.9625,
          11.445833,
          6.391667,
          4.804167,
          14.2,
          6.145833,
          12.220833,
          7.5,
          4.8,
          6.2,
          5.4,
          6.7,
          9.2,
          6.9,
          6.8,
          11.9,
          5,
          3.1,
          5,
          9.9,
          7.5,
          5.2
         ],
         "xaxis": "x4",
         "y": [
          14.7903058742853,
          11.7940416666667,
          7.89279861111111,
          10.2429930555556,
          11.2007361111111,
          11.9909027777778,
          20.3900555555556,
          13.6182847222222,
          13.0892230794421,
          25.4701458333333,
          14.5480216736208,
          7.63855354659249,
          26.9433888888889,
          10.3297708333333,
          21.3630528511822,
          11.7940416666667,
          7.89279861111111,
          10.2429930555556,
          11.2007361111111,
          11.9909027777778,
          20.3900555555556,
          13.6182847222222,
          13.0892230794421,
          25.4701458333333,
          14.5480216736208,
          7.63855354659249,
          7.89279861111111,
          20.3900555555556,
          13.6182847222222,
          14.5480216736208
         ],
         "yaxis": "y4"
        },
        {
         "hovertemplate": "facet_col=50-55<br>AQS PM2.5=%{x}<br>PurpleAir PM2.5=%{y}<extra></extra>",
         "legendgroup": "",
         "marker": {
          "color": "#1F77B4",
          "symbol": "circle"
         },
         "mode": "markers",
         "name": "",
         "orientation": "v",
         "showlegend": false,
         "type": "scatter",
         "x": [
          11.745833,
          8.9125,
          11.808333,
          10.125,
          10.395833,
          5.433333,
          5.504167,
          7.833333,
          8.8875,
          15.454167,
          14.845833,
          11.454167,
          11.520833,
          7.408333,
          9.4875,
          10.475,
          15.779167,
          16.995833,
          17.625,
          8.866667,
          6.804167,
          5.479167,
          4.304167,
          7.2,
          10.708333,
          7.2875,
          9.345833,
          10.854167,
          8.979167,
          11.2,
          8.5,
          12.5,
          10.4,
          10.4,
          5.1,
          6.5,
          7.2,
          8.3,
          14.7,
          14.2,
          12.1,
          11.4,
          7.1,
          8.5,
          10,
          13.5,
          15.8,
          16.3,
          8.6,
          6.3,
          4.4,
          4.3,
          11.3,
          12.3,
          14.7,
          11.9,
          7.8,
          17.9,
          8.9,
          6.3
         ],
         "xaxis": "x",
         "y": [
          22.3404027777778,
          14.5682766385455,
          25.0813977746871,
          18.0511111111111,
          19.4304166666667,
          7.9386875,
          7.53994444444444,
          11.6666944444444,
          15.1454861111111,
          29.1896527777778,
          27.2041041666667,
          20.7385694444444,
          20.6703203342618,
          9.15297222222222,
          14.5964812239221,
          17.2498194444444,
          31.2008680555556,
          34.2497529693147,
          34.9209166666667,
          13.4541805555556,
          12.9443611111111,
          7.56710416666667,
          4.54415972222222,
          12.0913333333333,
          18.2288550724638,
          12.3139733333333,
          13.5520694444444,
          19.8465763888889,
          13.103125,
          22.3404027777778,
          14.5682766385455,
          25.0813977746871,
          18.0511111111111,
          19.4304166666667,
          7.9386875,
          7.53994444444444,
          11.6666944444444,
          15.1454861111111,
          29.1896527777778,
          27.2041041666667,
          20.7385694444444,
          20.6703203342618,
          9.15297222222222,
          14.5964812239221,
          17.2498194444444,
          31.2008680555556,
          34.2497529693147,
          34.9209166666667,
          13.4541805555556,
          12.9443611111111,
          7.56710416666667,
          4.54415972222222,
          22.3404027777778,
          25.0813977746871,
          29.1896527777778,
          20.6703203342618,
          9.15297222222222,
          34.9209166666667,
          13.4541805555556,
          12.9443611111111
         ],
         "yaxis": "y"
        },
        {
         "hovertemplate": "facet_col=<50<br>AQS PM2.5=%{x}<br>PurpleAir PM2.5=%{y}<extra></extra>",
         "legendgroup": "",
         "marker": {
          "color": "#1F77B4",
          "symbol": "circle"
         },
         "mode": "markers",
         "name": "",
         "orientation": "v",
         "showlegend": false,
         "type": "scatter",
         "x": [
          8.604167,
          6.975,
          12.783333,
          6.85,
          7.929167,
          7.866667,
          8.579167,
          11.275,
          13.658333,
          5.0375,
          6.295833,
          10.826087,
          9.854167,
          9.5,
          6.6,
          13.1,
          6.9,
          7.6,
          7.8,
          9.3,
          10.1,
          12.2,
          4.2,
          9.5,
          8.1,
          11.4
         ],
         "xaxis": "x2",
         "y": [
          15.4784444444444,
          9.99670833333333,
          22.4718680555556,
          8.64885416666667,
          10.8636319444444,
          10.4440833333333,
          11.8642222222222,
          19.6090347222222,
          23.6401180555556,
          6.38982638888889,
          8.49286111111111,
          16.6307152777778,
          18.6737222222222,
          15.4784444444444,
          9.99670833333333,
          22.4718680555556,
          8.64885416666667,
          10.8636319444444,
          10.4440833333333,
          11.8642222222222,
          19.6090347222222,
          23.6401180555556,
          6.38982638888889,
          15.4784444444444,
          10.4440833333333,
          19.6090347222222
         ],
         "yaxis": "y2"
        }
       ],
       "layout": {
        "annotations": [
         {
          "font": {},
          "showarrow": false,
          "text": "facet_col=50-55",
          "x": 0.245,
          "xanchor": "center",
          "xref": "paper",
          "y": 0.46499999999999997,
          "yanchor": "bottom",
          "yref": "paper"
         },
         {
          "font": {},
          "showarrow": false,
          "text": "facet_col=<50",
          "x": 0.755,
          "xanchor": "center",
          "xref": "paper",
          "y": 0.46499999999999997,
          "yanchor": "bottom",
          "yref": "paper"
         },
         {
          "font": {},
          "showarrow": false,
          "text": "facet_col=55-60",
          "x": 0.245,
          "xanchor": "center",
          "xref": "paper",
          "y": 0.9999999999999999,
          "yanchor": "bottom",
          "yref": "paper"
         },
         {
          "font": {},
          "showarrow": false,
          "text": "facet_col=>60",
          "x": 0.755,
          "xanchor": "center",
          "xref": "paper",
          "y": 0.9999999999999999,
          "yanchor": "bottom",
          "yref": "paper"
         }
        ],
        "height": 350,
        "legend": {
         "tracegroupgap": 0
        },
        "margin": {
         "t": 30
        },
        "template": {
         "data": {
          "bar": [
           {
            "error_x": {
             "color": "rgb(36,36,36)"
            },
            "error_y": {
             "color": "rgb(36,36,36)"
            },
            "marker": {
             "line": {
              "color": "white",
              "width": 0.5
             },
             "pattern": {
              "fillmode": "overlay",
              "size": 10,
              "solidity": 0.2
             }
            },
            "type": "bar"
           }
          ],
          "barpolar": [
           {
            "marker": {
             "line": {
              "color": "white",
              "width": 0.5
             },
             "pattern": {
              "fillmode": "overlay",
              "size": 10,
              "solidity": 0.2
             }
            },
            "type": "barpolar"
           }
          ],
          "carpet": [
           {
            "aaxis": {
             "endlinecolor": "rgb(36,36,36)",
             "gridcolor": "white",
             "linecolor": "white",
             "minorgridcolor": "white",
             "startlinecolor": "rgb(36,36,36)"
            },
            "baxis": {
             "endlinecolor": "rgb(36,36,36)",
             "gridcolor": "white",
             "linecolor": "white",
             "minorgridcolor": "white",
             "startlinecolor": "rgb(36,36,36)"
            },
            "type": "carpet"
           }
          ],
          "choropleth": [
           {
            "colorbar": {
             "outlinewidth": 1,
             "tickcolor": "rgb(36,36,36)",
             "ticks": "outside"
            },
            "type": "choropleth"
           }
          ],
          "contour": [
           {
            "colorbar": {
             "outlinewidth": 1,
             "tickcolor": "rgb(36,36,36)",
             "ticks": "outside"
            },
            "colorscale": [
             [
              0,
              "#440154"
             ],
             [
              0.1111111111111111,
              "#482878"
             ],
             [
              0.2222222222222222,
              "#3e4989"
             ],
             [
              0.3333333333333333,
              "#31688e"
             ],
             [
              0.4444444444444444,
              "#26828e"
             ],
             [
              0.5555555555555556,
              "#1f9e89"
             ],
             [
              0.6666666666666666,
              "#35b779"
             ],
             [
              0.7777777777777778,
              "#6ece58"
             ],
             [
              0.8888888888888888,
              "#b5de2b"
             ],
             [
              1,
              "#fde725"
             ]
            ],
            "type": "contour"
           }
          ],
          "contourcarpet": [
           {
            "colorbar": {
             "outlinewidth": 1,
             "tickcolor": "rgb(36,36,36)",
             "ticks": "outside"
            },
            "type": "contourcarpet"
           }
          ],
          "heatmap": [
           {
            "colorbar": {
             "outlinewidth": 1,
             "tickcolor": "rgb(36,36,36)",
             "ticks": "outside"
            },
            "colorscale": [
             [
              0,
              "#440154"
             ],
             [
              0.1111111111111111,
              "#482878"
             ],
             [
              0.2222222222222222,
              "#3e4989"
             ],
             [
              0.3333333333333333,
              "#31688e"
             ],
             [
              0.4444444444444444,
              "#26828e"
             ],
             [
              0.5555555555555556,
              "#1f9e89"
             ],
             [
              0.6666666666666666,
              "#35b779"
             ],
             [
              0.7777777777777778,
              "#6ece58"
             ],
             [
              0.8888888888888888,
              "#b5de2b"
             ],
             [
              1,
              "#fde725"
             ]
            ],
            "type": "heatmap"
           }
          ],
          "heatmapgl": [
           {
            "colorbar": {
             "outlinewidth": 1,
             "tickcolor": "rgb(36,36,36)",
             "ticks": "outside"
            },
            "colorscale": [
             [
              0,
              "#440154"
             ],
             [
              0.1111111111111111,
              "#482878"
             ],
             [
              0.2222222222222222,
              "#3e4989"
             ],
             [
              0.3333333333333333,
              "#31688e"
             ],
             [
              0.4444444444444444,
              "#26828e"
             ],
             [
              0.5555555555555556,
              "#1f9e89"
             ],
             [
              0.6666666666666666,
              "#35b779"
             ],
             [
              0.7777777777777778,
              "#6ece58"
             ],
             [
              0.8888888888888888,
              "#b5de2b"
             ],
             [
              1,
              "#fde725"
             ]
            ],
            "type": "heatmapgl"
           }
          ],
          "histogram": [
           {
            "marker": {
             "line": {
              "color": "white",
              "width": 0.6
             }
            },
            "type": "histogram"
           }
          ],
          "histogram2d": [
           {
            "colorbar": {
             "outlinewidth": 1,
             "tickcolor": "rgb(36,36,36)",
             "ticks": "outside"
            },
            "colorscale": [
             [
              0,
              "#440154"
             ],
             [
              0.1111111111111111,
              "#482878"
             ],
             [
              0.2222222222222222,
              "#3e4989"
             ],
             [
              0.3333333333333333,
              "#31688e"
             ],
             [
              0.4444444444444444,
              "#26828e"
             ],
             [
              0.5555555555555556,
              "#1f9e89"
             ],
             [
              0.6666666666666666,
              "#35b779"
             ],
             [
              0.7777777777777778,
              "#6ece58"
             ],
             [
              0.8888888888888888,
              "#b5de2b"
             ],
             [
              1,
              "#fde725"
             ]
            ],
            "type": "histogram2d"
           }
          ],
          "histogram2dcontour": [
           {
            "colorbar": {
             "outlinewidth": 1,
             "tickcolor": "rgb(36,36,36)",
             "ticks": "outside"
            },
            "colorscale": [
             [
              0,
              "#440154"
             ],
             [
              0.1111111111111111,
              "#482878"
             ],
             [
              0.2222222222222222,
              "#3e4989"
             ],
             [
              0.3333333333333333,
              "#31688e"
             ],
             [
              0.4444444444444444,
              "#26828e"
             ],
             [
              0.5555555555555556,
              "#1f9e89"
             ],
             [
              0.6666666666666666,
              "#35b779"
             ],
             [
              0.7777777777777778,
              "#6ece58"
             ],
             [
              0.8888888888888888,
              "#b5de2b"
             ],
             [
              1,
              "#fde725"
             ]
            ],
            "type": "histogram2dcontour"
           }
          ],
          "mesh3d": [
           {
            "colorbar": {
             "outlinewidth": 1,
             "tickcolor": "rgb(36,36,36)",
             "ticks": "outside"
            },
            "type": "mesh3d"
           }
          ],
          "parcoords": [
           {
            "line": {
             "colorbar": {
              "outlinewidth": 1,
              "tickcolor": "rgb(36,36,36)",
              "ticks": "outside"
             }
            },
            "type": "parcoords"
           }
          ],
          "pie": [
           {
            "automargin": true,
            "type": "pie"
           }
          ],
          "scatter": [
           {
            "marker": {
             "colorbar": {
              "outlinewidth": 1,
              "tickcolor": "rgb(36,36,36)",
              "ticks": "outside"
             }
            },
            "type": "scatter"
           }
          ],
          "scatter3d": [
           {
            "line": {
             "colorbar": {
              "outlinewidth": 1,
              "tickcolor": "rgb(36,36,36)",
              "ticks": "outside"
             }
            },
            "marker": {
             "colorbar": {
              "outlinewidth": 1,
              "tickcolor": "rgb(36,36,36)",
              "ticks": "outside"
             }
            },
            "type": "scatter3d"
           }
          ],
          "scattercarpet": [
           {
            "marker": {
             "colorbar": {
              "outlinewidth": 1,
              "tickcolor": "rgb(36,36,36)",
              "ticks": "outside"
             }
            },
            "type": "scattercarpet"
           }
          ],
          "scattergeo": [
           {
            "marker": {
             "colorbar": {
              "outlinewidth": 1,
              "tickcolor": "rgb(36,36,36)",
              "ticks": "outside"
             }
            },
            "type": "scattergeo"
           }
          ],
          "scattergl": [
           {
            "marker": {
             "colorbar": {
              "outlinewidth": 1,
              "tickcolor": "rgb(36,36,36)",
              "ticks": "outside"
             }
            },
            "type": "scattergl"
           }
          ],
          "scattermapbox": [
           {
            "marker": {
             "colorbar": {
              "outlinewidth": 1,
              "tickcolor": "rgb(36,36,36)",
              "ticks": "outside"
             }
            },
            "type": "scattermapbox"
           }
          ],
          "scatterpolar": [
           {
            "marker": {
             "colorbar": {
              "outlinewidth": 1,
              "tickcolor": "rgb(36,36,36)",
              "ticks": "outside"
             }
            },
            "type": "scatterpolar"
           }
          ],
          "scatterpolargl": [
           {
            "marker": {
             "colorbar": {
              "outlinewidth": 1,
              "tickcolor": "rgb(36,36,36)",
              "ticks": "outside"
             }
            },
            "type": "scatterpolargl"
           }
          ],
          "scatterternary": [
           {
            "marker": {
             "colorbar": {
              "outlinewidth": 1,
              "tickcolor": "rgb(36,36,36)",
              "ticks": "outside"
             }
            },
            "type": "scatterternary"
           }
          ],
          "surface": [
           {
            "colorbar": {
             "outlinewidth": 1,
             "tickcolor": "rgb(36,36,36)",
             "ticks": "outside"
            },
            "colorscale": [
             [
              0,
              "#440154"
             ],
             [
              0.1111111111111111,
              "#482878"
             ],
             [
              0.2222222222222222,
              "#3e4989"
             ],
             [
              0.3333333333333333,
              "#31688e"
             ],
             [
              0.4444444444444444,
              "#26828e"
             ],
             [
              0.5555555555555556,
              "#1f9e89"
             ],
             [
              0.6666666666666666,
              "#35b779"
             ],
             [
              0.7777777777777778,
              "#6ece58"
             ],
             [
              0.8888888888888888,
              "#b5de2b"
             ],
             [
              1,
              "#fde725"
             ]
            ],
            "type": "surface"
           }
          ],
          "table": [
           {
            "cells": {
             "fill": {
              "color": "rgb(237,237,237)"
             },
             "line": {
              "color": "white"
             }
            },
            "header": {
             "fill": {
              "color": "rgb(217,217,217)"
             },
             "line": {
              "color": "white"
             }
            },
            "type": "table"
           }
          ]
         },
         "layout": {
          "annotationdefaults": {
           "arrowhead": 0,
           "arrowwidth": 1
          },
          "autosize": true,
          "autotypenumbers": "strict",
          "coloraxis": {
           "colorbar": {
            "outlinewidth": 1,
            "tickcolor": "rgb(36,36,36)",
            "ticks": "outside"
           }
          },
          "colorscale": {
           "diverging": [
            [
             0,
             "rgb(103,0,31)"
            ],
            [
             0.1,
             "rgb(178,24,43)"
            ],
            [
             0.2,
             "rgb(214,96,77)"
            ],
            [
             0.3,
             "rgb(244,165,130)"
            ],
            [
             0.4,
             "rgb(253,219,199)"
            ],
            [
             0.5,
             "rgb(247,247,247)"
            ],
            [
             0.6,
             "rgb(209,229,240)"
            ],
            [
             0.7,
             "rgb(146,197,222)"
            ],
            [
             0.8,
             "rgb(67,147,195)"
            ],
            [
             0.9,
             "rgb(33,102,172)"
            ],
            [
             1,
             "rgb(5,48,97)"
            ]
           ],
           "sequential": [
            [
             0,
             "#440154"
            ],
            [
             0.1111111111111111,
             "#482878"
            ],
            [
             0.2222222222222222,
             "#3e4989"
            ],
            [
             0.3333333333333333,
             "#31688e"
            ],
            [
             0.4444444444444444,
             "#26828e"
            ],
            [
             0.5555555555555556,
             "#1f9e89"
            ],
            [
             0.6666666666666666,
             "#35b779"
            ],
            [
             0.7777777777777778,
             "#6ece58"
            ],
            [
             0.8888888888888888,
             "#b5de2b"
            ],
            [
             1,
             "#fde725"
            ]
           ],
           "sequentialminus": [
            [
             0,
             "#440154"
            ],
            [
             0.1111111111111111,
             "#482878"
            ],
            [
             0.2222222222222222,
             "#3e4989"
            ],
            [
             0.3333333333333333,
             "#31688e"
            ],
            [
             0.4444444444444444,
             "#26828e"
            ],
            [
             0.5555555555555556,
             "#1f9e89"
            ],
            [
             0.6666666666666666,
             "#35b779"
            ],
            [
             0.7777777777777778,
             "#6ece58"
            ],
            [
             0.8888888888888888,
             "#b5de2b"
            ],
            [
             1,
             "#fde725"
            ]
           ]
          },
          "colorway": [
           "#1F77B4",
           "#FF7F0E",
           "#2CA02C",
           "#D62728",
           "#9467BD",
           "#8C564B",
           "#E377C2",
           "#7F7F7F",
           "#BCBD22",
           "#17BECF"
          ],
          "font": {
           "color": "rgb(36,36,36)"
          },
          "geo": {
           "bgcolor": "white",
           "lakecolor": "white",
           "landcolor": "white",
           "showlakes": true,
           "showland": true,
           "subunitcolor": "white"
          },
          "height": 250,
          "hoverlabel": {
           "align": "left"
          },
          "hovermode": "closest",
          "mapbox": {
           "style": "light"
          },
          "margin": {
           "b": 10,
           "l": 10,
           "r": 10,
           "t": 10
          },
          "paper_bgcolor": "white",
          "plot_bgcolor": "white",
          "polar": {
           "angularaxis": {
            "gridcolor": "rgb(232,232,232)",
            "linecolor": "rgb(36,36,36)",
            "showgrid": false,
            "showline": true,
            "ticks": "outside"
           },
           "bgcolor": "white",
           "radialaxis": {
            "gridcolor": "rgb(232,232,232)",
            "linecolor": "rgb(36,36,36)",
            "showgrid": false,
            "showline": true,
            "ticks": "outside"
           }
          },
          "scene": {
           "xaxis": {
            "backgroundcolor": "white",
            "gridcolor": "rgb(232,232,232)",
            "gridwidth": 2,
            "linecolor": "rgb(36,36,36)",
            "showbackground": true,
            "showgrid": false,
            "showline": true,
            "ticks": "outside",
            "zeroline": false,
            "zerolinecolor": "rgb(36,36,36)"
           },
           "yaxis": {
            "backgroundcolor": "white",
            "gridcolor": "rgb(232,232,232)",
            "gridwidth": 2,
            "linecolor": "rgb(36,36,36)",
            "showbackground": true,
            "showgrid": false,
            "showline": true,
            "ticks": "outside",
            "zeroline": false,
            "zerolinecolor": "rgb(36,36,36)"
           },
           "zaxis": {
            "backgroundcolor": "white",
            "gridcolor": "rgb(232,232,232)",
            "gridwidth": 2,
            "linecolor": "rgb(36,36,36)",
            "showbackground": true,
            "showgrid": false,
            "showline": true,
            "ticks": "outside",
            "zeroline": false,
            "zerolinecolor": "rgb(36,36,36)"
           }
          },
          "shapedefaults": {
           "fillcolor": "black",
           "line": {
            "width": 0
           },
           "opacity": 0.3
          },
          "ternary": {
           "aaxis": {
            "gridcolor": "rgb(232,232,232)",
            "linecolor": "rgb(36,36,36)",
            "showgrid": false,
            "showline": true,
            "ticks": "outside"
           },
           "baxis": {
            "gridcolor": "rgb(232,232,232)",
            "linecolor": "rgb(36,36,36)",
            "showgrid": false,
            "showline": true,
            "ticks": "outside"
           },
           "bgcolor": "white",
           "caxis": {
            "gridcolor": "rgb(232,232,232)",
            "linecolor": "rgb(36,36,36)",
            "showgrid": false,
            "showline": true,
            "ticks": "outside"
           }
          },
          "title": {
           "x": 0.5,
           "xanchor": "center"
          },
          "width": 350,
          "xaxis": {
           "automargin": true,
           "gridcolor": "rgb(232,232,232)",
           "linecolor": "rgb(36,36,36)",
           "showgrid": true,
           "showline": true,
           "ticks": "outside",
           "title": {
            "standoff": 15
           },
           "zeroline": false,
           "zerolinecolor": "rgb(36,36,36)"
          },
          "yaxis": {
           "automargin": true,
           "gridcolor": "rgb(232,232,232)",
           "linecolor": "rgb(36,36,36)",
           "showgrid": true,
           "showline": true,
           "ticks": "outside",
           "title": {
            "standoff": 15
           },
           "zeroline": false,
           "zerolinecolor": "rgb(36,36,36)"
          }
         }
        },
        "width": 550,
        "xaxis": {
         "anchor": "y",
         "autorange": true,
         "domain": [
          0,
          0.49
         ],
         "range": [
          1.9777010554590444,
          19.022298944540953
         ],
         "title": {
          "text": "AQS PM2.5"
         },
         "type": "linear"
        },
        "xaxis2": {
         "anchor": "y2",
         "autorange": true,
         "domain": [
          0.51,
          1
         ],
         "matches": "x",
         "range": [
          1.9777010554590444,
          19.022298944540953
         ],
         "title": {
          "text": "AQS PM2.5"
         },
         "type": "linear"
        },
        "xaxis3": {
         "anchor": "y3",
         "autorange": true,
         "domain": [
          0,
          0.49
         ],
         "matches": "x",
         "range": [
          1.9777010554590444,
          19.022298944540953
         ],
         "showticklabels": false,
         "type": "linear"
        },
        "xaxis4": {
         "anchor": "y4",
         "autorange": true,
         "domain": [
          0.51,
          1
         ],
         "matches": "x",
         "range": [
          1.9777010554590444,
          19.022298944540953
         ],
         "showticklabels": false,
         "type": "linear"
        },
        "yaxis": {
         "anchor": "x",
         "autorange": true,
         "domain": [
          0,
          0.46499999999999997
         ],
         "range": [
          1.6123697728000623,
          37.85270661608886
         ],
         "title": {
          "text": "PurpleAir PM2.5"
         },
         "type": "linear"
        },
        "yaxis2": {
         "anchor": "x2",
         "autorange": true,
         "domain": [
          0,
          0.46499999999999997
         ],
         "matches": "y",
         "range": [
          1.6123697728000623,
          37.85270661608886
         ],
         "showticklabels": false,
         "type": "linear"
        },
        "yaxis3": {
         "anchor": "x3",
         "autorange": true,
         "domain": [
          0.5349999999999999,
          0.9999999999999999
         ],
         "matches": "y",
         "range": [
          1.6123697728000623,
          37.85270661608886
         ],
         "title": {
          "text": "PurpleAir PM2.5"
         },
         "type": "linear"
        },
        "yaxis4": {
         "anchor": "x4",
         "autorange": true,
         "domain": [
          0.5349999999999999,
          0.9999999999999999
         ],
         "matches": "y",
         "range": [
          1.6123697728000623,
          37.85270661608886
         ],
         "showticklabels": false,
         "type": "linear"
        }
       }
      },
      "image/png": "[encoded data removed]",
      "image/svg+xml": [
       "<svg class=\"main-svg\" xmlns=\"http://www.w3.org/2000/svg\" xmlns:xlink=\"http://www.w3.org/1999/xlink\" width=\"550\" height=\"350\" style=\"\" viewBox=\"0 0 550 350\"><rect x=\"0\" y=\"0\" width=\"550\" height=\"350\" style=\"fill: rgb(255, 255, 255); fill-opacity: 1;\"/><defs id=\"defs-dc8a79\"><g class=\"clips\"><clipPath id=\"clipdc8a79xyplot\" class=\"plotclip\"><rect width=\"236.67\" height=\"121.365\"/></clipPath><clipPath id=\"clipdc8a79x2y2plot\" class=\"plotclip\"><rect width=\"236.67\" height=\"121.365\"/></clipPath><clipPath id=\"clipdc8a79x3y3plot\" class=\"plotclip\"><rect width=\"236.67\" height=\"121.365\"/></clipPath><clipPath id=\"clipdc8a79x4y4plot\" class=\"plotclip\"><rect width=\"236.67\" height=\"121.365\"/></clipPath><clipPath class=\"axesclip\" id=\"clipdc8a79x\"><rect x=\"57\" y=\"0\" width=\"236.67\" height=\"350\"/></clipPath><clipPath class=\"axesclip\" id=\"clipdc8a79y\"><rect x=\"0\" y=\"169.63500000000002\" width=\"550\" height=\"121.365\"/></clipPath><clipPath class=\"axesclip\" id=\"clipdc8a79xy\"><rect x=\"57\" y=\"169.63500000000002\" width=\"236.67\" height=\"121.365\"/></clipPath><clipPath class=\"axesclip\" id=\"clipdc8a79y2\"><rect x=\"0\" y=\"169.63500000000002\" width=\"550\" height=\"121.365\"/></clipPath><clipPath class=\"axesclip\" id=\"clipdc8a79xy2\"><rect x=\"57\" y=\"169.63500000000002\" width=\"236.67\" height=\"121.365\"/></clipPath><clipPath class=\"axesclip\" id=\"clipdc8a79y3\"><rect x=\"0\" y=\"30.00000000000003\" width=\"550\" height=\"121.365\"/></clipPath><clipPath class=\"axesclip\" id=\"clipdc8a79xy3\"><rect x=\"57\" y=\"30.00000000000003\" width=\"236.67\" height=\"121.365\"/></clipPath><clipPath class=\"axesclip\" id=\"clipdc8a79y4\"><rect x=\"0\" y=\"30.00000000000003\" width=\"550\" height=\"121.365\"/></clipPath><clipPath class=\"axesclip\" id=\"clipdc8a79xy4\"><rect x=\"57\" y=\"30.00000000000003\" width=\"236.67\" height=\"121.365\"/></clipPath><clipPath class=\"axesclip\" id=\"clipdc8a79x2\"><rect x=\"303.33000000000004\" y=\"0\" width=\"236.67\" height=\"350\"/></clipPath><clipPath class=\"axesclip\" id=\"clipdc8a79x2y\"><rect x=\"303.33000000000004\" y=\"169.63500000000002\" width=\"236.67\" height=\"121.365\"/></clipPath><clipPath class=\"axesclip\" id=\"clipdc8a79x2y2\"><rect x=\"303.33000000000004\" y=\"169.63500000000002\" width=\"236.67\" height=\"121.365\"/></clipPath><clipPath class=\"axesclip\" id=\"clipdc8a79x2y3\"><rect x=\"303.33000000000004\" y=\"30.00000000000003\" width=\"236.67\" height=\"121.365\"/></clipPath><clipPath class=\"axesclip\" id=\"clipdc8a79x2y4\"><rect x=\"303.33000000000004\" y=\"30.00000000000003\" width=\"236.67\" height=\"121.365\"/></clipPath><clipPath class=\"axesclip\" id=\"clipdc8a79x3\"><rect x=\"57\" y=\"0\" width=\"236.67\" height=\"350\"/></clipPath><clipPath class=\"axesclip\" id=\"clipdc8a79x3y\"><rect x=\"57\" y=\"169.63500000000002\" width=\"236.67\" height=\"121.365\"/></clipPath><clipPath class=\"axesclip\" id=\"clipdc8a79x3y2\"><rect x=\"57\" y=\"169.63500000000002\" width=\"236.67\" height=\"121.365\"/></clipPath><clipPath class=\"axesclip\" id=\"clipdc8a79x3y3\"><rect x=\"57\" y=\"30.00000000000003\" width=\"236.67\" height=\"121.365\"/></clipPath><clipPath class=\"axesclip\" id=\"clipdc8a79x3y4\"><rect x=\"57\" y=\"30.00000000000003\" width=\"236.67\" height=\"121.365\"/></clipPath><clipPath class=\"axesclip\" id=\"clipdc8a79x4\"><rect x=\"303.33000000000004\" y=\"0\" width=\"236.67\" height=\"350\"/></clipPath><clipPath class=\"axesclip\" id=\"clipdc8a79x4y\"><rect x=\"303.33000000000004\" y=\"169.63500000000002\" width=\"236.67\" height=\"121.365\"/></clipPath><clipPath class=\"axesclip\" id=\"clipdc8a79x4y2\"><rect x=\"303.33000000000004\" y=\"169.63500000000002\" width=\"236.67\" height=\"121.365\"/></clipPath><clipPath class=\"axesclip\" id=\"clipdc8a79x4y3\"><rect x=\"303.33000000000004\" y=\"30.00000000000003\" width=\"236.67\" height=\"121.365\"/></clipPath><clipPath class=\"axesclip\" id=\"clipdc8a79x4y4\"><rect x=\"303.33000000000004\" y=\"30.00000000000003\" width=\"236.67\" height=\"121.365\"/></clipPath></g><g class=\"gradients\"/><g class=\"patterns\"/></defs><g class=\"bglayer\"/><g class=\"layer-below\"><g class=\"imagelayer\"/><g class=\"shapelayer\"/></g><g class=\"cartesianlayer\"><g class=\"subplot xy\"><g class=\"layer-subplot\"><g class=\"shapelayer\"/><g class=\"imagelayer\"/></g><g class=\"gridlayer\"><g class=\"x\"><path class=\"xgrid crisp\" transform=\"translate(98.68,0)\" d=\"M0,169.63500000000002v121.365\" style=\"stroke: rgb(232, 232, 232); stroke-opacity: 1; stroke-width: 1px;\"/><path class=\"xgrid crisp\" transform=\"translate(168.20999999999998,0)\" d=\"M0,169.63500000000002v121.365\" style=\"stroke: rgb(232, 232, 232); stroke-opacity: 1; stroke-width: 1px;\"/><path class=\"xgrid crisp\" transform=\"translate(237.75,0)\" d=\"M0,169.63500000000002v121.365\" style=\"stroke: rgb(232, 232, 232); stroke-opacity: 1; stroke-width: 1px;\"/></g><g class=\"y\"><path class=\"ygrid crisp\" transform=\"translate(0,262.915)\" d=\"M57,0h236.67\" style=\"stroke: rgb(232, 232, 232); stroke-opacity: 1; stroke-width: 1px;\"/><path class=\"ygrid crisp\" transform=\"translate(0,229.425)\" d=\"M57,0h236.67\" style=\"stroke: rgb(232, 232, 232); stroke-opacity: 1; stroke-width: 1px;\"/><path class=\"ygrid crisp\" transform=\"translate(0,195.93500000000003)\" d=\"M57,0h236.67\" style=\"stroke: rgb(232, 232, 232); stroke-opacity: 1; stroke-width: 1px;\"/></g></g><g class=\"zerolinelayer\"/><path class=\"xlines-below\"/><path class=\"ylines-below\"/><g class=\"overlines-below\"/><g class=\"xaxislayer-below\"/><g class=\"yaxislayer-below\"/><g class=\"overaxes-below\"/><g class=\"plot\" transform=\"translate(57,169.63500000000002)\" clip-path=\"url(#clipdc8a79xyplot)\"><g class=\"scatterlayer mlayer\"><g class=\"trace scatter trace2e00ea\" style=\"stroke-miterlimit: 2; opacity: 1;\"><g class=\"fills\"/><g class=\"errorbars\"/><g class=\"lines\"/><g class=\"points\"><path class=\"point\" transform=\"translate(135.5,51.95)\" d=\"M3,0A3,3 0 1,1 0,-3A3,3 0 0,1 3,0Z\" style=\"opacity: 1; stroke-width: 0px; fill: rgb(31, 119, 180); fill-opacity: 1;\"/><path class=\"point\" transform=\"translate(96.09,77.98)\" d=\"M3,0A3,3 0 1,1 0,-3A3,3 0 0,1 3,0Z\" style=\"opacity: 1; stroke-width: 0px; fill: rgb(31, 119, 180); fill-opacity: 1;\"/><path class=\"point\" transform=\"translate(136.36,42.77)\" d=\"M3,0A3,3 0 1,1 0,-3A3,3 0 0,1 3,0Z\" style=\"opacity: 1; stroke-width: 0px; fill: rgb(31, 119, 180); fill-opacity: 1;\"/><path class=\"point\" transform=\"translate(112.95,66.31)\" d=\"M3,0A3,3 0 1,1 0,-3A3,3 0 0,1 3,0Z\" style=\"opacity: 1; stroke-width: 0px; fill: rgb(31, 119, 180); fill-opacity: 1;\"/><path class=\"point\" transform=\"translate(116.72,61.69)\" d=\"M3,0A3,3 0 1,1 0,-3A3,3 0 0,1 3,0Z\" style=\"opacity: 1; stroke-width: 0px; fill: rgb(31, 119, 180); fill-opacity: 1;\"/><path class=\"point\" transform=\"translate(47.7,100.18)\" d=\"M3,0A3,3 0 1,1 0,-3A3,3 0 0,1 3,0Z\" style=\"opacity: 1; stroke-width: 0px; fill: rgb(31, 119, 180); fill-opacity: 1;\"/><path class=\"point\" transform=\"translate(48.69,101.51)\" d=\"M3,0A3,3 0 1,1 0,-3A3,3 0 0,1 3,0Z\" style=\"opacity: 1; stroke-width: 0px; fill: rgb(31, 119, 180); fill-opacity: 1;\"/><path class=\"point\" transform=\"translate(81.08,87.69)\" d=\"M3,0A3,3 0 1,1 0,-3A3,3 0 0,1 3,0Z\" style=\"opacity: 1; stroke-width: 0px; fill: rgb(31, 119, 180); fill-opacity: 1;\"/><path class=\"point\" transform=\"translate(95.74,76.04)\" d=\"M3,0A3,3 0 1,1 0,-3A3,3 0 0,1 3,0Z\" style=\"opacity: 1; stroke-width: 0px; fill: rgb(31, 119, 180); fill-opacity: 1;\"/><path class=\"point\" transform=\"translate(187.07,29.01)\" d=\"M3,0A3,3 0 1,1 0,-3A3,3 0 0,1 3,0Z\" style=\"opacity: 1; stroke-width: 0px; fill: rgb(31, 119, 180); fill-opacity: 1;\"/><path class=\"point\" transform=\"translate(178.61,35.66)\" d=\"M3,0A3,3 0 1,1 0,-3A3,3 0 0,1 3,0Z\" style=\"opacity: 1; stroke-width: 0px; fill: rgb(31, 119, 180); fill-opacity: 1;\"/><path class=\"point\" transform=\"translate(131.44,57.31)\" d=\"M3,0A3,3 0 1,1 0,-3A3,3 0 0,1 3,0Z\" style=\"opacity: 1; stroke-width: 0px; fill: rgb(31, 119, 180); fill-opacity: 1;\"/><path class=\"point\" transform=\"translate(132.37,57.54)\" d=\"M3,0A3,3 0 1,1 0,-3A3,3 0 0,1 3,0Z\" style=\"opacity: 1; stroke-width: 0px; fill: rgb(31, 119, 180); fill-opacity: 1;\"/><path class=\"point\" transform=\"translate(75.17,96.11)\" d=\"M3,0A3,3 0 1,1 0,-3A3,3 0 0,1 3,0Z\" style=\"opacity: 1; stroke-width: 0px; fill: rgb(31, 119, 180); fill-opacity: 1;\"/><path class=\"point\" transform=\"translate(104.09,77.88)\" d=\"M3,0A3,3 0 1,1 0,-3A3,3 0 0,1 3,0Z\" style=\"opacity: 1; stroke-width: 0px; fill: rgb(31, 119, 180); fill-opacity: 1;\"/><path class=\"point\" transform=\"translate(117.82,69)\" d=\"M3,0A3,3 0 1,1 0,-3A3,3 0 0,1 3,0Z\" style=\"opacity: 1; stroke-width: 0px; fill: rgb(31, 119, 180); fill-opacity: 1;\"/><path class=\"point\" transform=\"translate(191.59,22.28)\" d=\"M3,0A3,3 0 1,1 0,-3A3,3 0 0,1 3,0Z\" style=\"opacity: 1; stroke-width: 0px; fill: rgb(31, 119, 180); fill-opacity: 1;\"/><path class=\"point\" transform=\"translate(208.51,12.07)\" d=\"M3,0A3,3 0 1,1 0,-3A3,3 0 0,1 3,0Z\" style=\"opacity: 1; stroke-width: 0px; fill: rgb(31, 119, 180); fill-opacity: 1;\"/><path class=\"point\" transform=\"translate(217.26,9.82)\" d=\"M3,0A3,3 0 1,1 0,-3A3,3 0 0,1 3,0Z\" style=\"opacity: 1; stroke-width: 0px; fill: rgb(31, 119, 180); fill-opacity: 1;\"/><path class=\"point\" transform=\"translate(95.45,81.71)\" d=\"M3,0A3,3 0 1,1 0,-3A3,3 0 0,1 3,0Z\" style=\"opacity: 1; stroke-width: 0px; fill: rgb(31, 119, 180); fill-opacity: 1;\"/><path class=\"point\" transform=\"translate(66.77,83.42)\" d=\"M3,0A3,3 0 1,1 0,-3A3,3 0 0,1 3,0Z\" style=\"opacity: 1; stroke-width: 0px; fill: rgb(31, 119, 180); fill-opacity: 1;\"/><path class=\"point\" transform=\"translate(48.34,101.42)\" d=\"M3,0A3,3 0 1,1 0,-3A3,3 0 0,1 3,0Z\" style=\"opacity: 1; stroke-width: 0px; fill: rgb(31, 119, 180); fill-opacity: 1;\"/><path class=\"point\" transform=\"translate(32,111.55)\" d=\"M3,0A3,3 0 1,1 0,-3A3,3 0 0,1 3,0Z\" style=\"opacity: 1; stroke-width: 0px; fill: rgb(31, 119, 180); fill-opacity: 1;\"/><path class=\"point\" transform=\"translate(72.27,86.27)\" d=\"M3,0A3,3 0 1,1 0,-3A3,3 0 0,1 3,0Z\" style=\"opacity: 1; stroke-width: 0px; fill: rgb(31, 119, 180); fill-opacity: 1;\"/><path class=\"point\" transform=\"translate(121.07,65.72)\" d=\"M3,0A3,3 0 1,1 0,-3A3,3 0 0,1 3,0Z\" style=\"opacity: 1; stroke-width: 0px; fill: rgb(31, 119, 180); fill-opacity: 1;\"/><path class=\"point\" transform=\"translate(73.49,85.53)\" d=\"M3,0A3,3 0 1,1 0,-3A3,3 0 0,1 3,0Z\" style=\"opacity: 1; stroke-width: 0px; fill: rgb(31, 119, 180); fill-opacity: 1;\"/><path class=\"point\" transform=\"translate(102.12,81.38)\" d=\"M3,0A3,3 0 1,1 0,-3A3,3 0 0,1 3,0Z\" style=\"opacity: 1; stroke-width: 0px; fill: rgb(31, 119, 180); fill-opacity: 1;\"/><path class=\"point\" transform=\"translate(123.09,60.3)\" d=\"M3,0A3,3 0 1,1 0,-3A3,3 0 0,1 3,0Z\" style=\"opacity: 1; stroke-width: 0px; fill: rgb(31, 119, 180); fill-opacity: 1;\"/><path class=\"point\" transform=\"translate(97.02,82.88)\" d=\"M3,0A3,3 0 1,1 0,-3A3,3 0 0,1 3,0Z\" style=\"opacity: 1; stroke-width: 0px; fill: rgb(31, 119, 180); fill-opacity: 1;\"/><path class=\"point\" transform=\"translate(127.9,51.95)\" d=\"M3,0A3,3 0 1,1 0,-3A3,3 0 0,1 3,0Z\" style=\"opacity: 1; stroke-width: 0px; fill: rgb(31, 119, 180); fill-opacity: 1;\"/><path class=\"point\" transform=\"translate(90.35,77.98)\" d=\"M3,0A3,3 0 1,1 0,-3A3,3 0 0,1 3,0Z\" style=\"opacity: 1; stroke-width: 0px; fill: rgb(31, 119, 180); fill-opacity: 1;\"/><path class=\"point\" transform=\"translate(145.98,42.77)\" d=\"M3,0A3,3 0 1,1 0,-3A3,3 0 0,1 3,0Z\" style=\"opacity: 1; stroke-width: 0px; fill: rgb(31, 119, 180); fill-opacity: 1;\"/><path class=\"point\" transform=\"translate(116.78,66.31)\" d=\"M3,0A3,3 0 1,1 0,-3A3,3 0 0,1 3,0Z\" style=\"opacity: 1; stroke-width: 0px; fill: rgb(31, 119, 180); fill-opacity: 1;\"/><path class=\"point\" transform=\"translate(116.78,61.69)\" d=\"M3,0A3,3 0 1,1 0,-3A3,3 0 0,1 3,0Z\" style=\"opacity: 1; stroke-width: 0px; fill: rgb(31, 119, 180); fill-opacity: 1;\"/><path class=\"point\" transform=\"translate(43.07,100.18)\" d=\"M3,0A3,3 0 1,1 0,-3A3,3 0 0,1 3,0Z\" style=\"opacity: 1; stroke-width: 0px; fill: rgb(31, 119, 180); fill-opacity: 1;\"/><path class=\"point\" transform=\"translate(62.54,101.51)\" d=\"M3,0A3,3 0 1,1 0,-3A3,3 0 0,1 3,0Z\" style=\"opacity: 1; stroke-width: 0px; fill: rgb(31, 119, 180); fill-opacity: 1;\"/><path class=\"point\" transform=\"translate(72.27,87.69)\" d=\"M3,0A3,3 0 1,1 0,-3A3,3 0 0,1 3,0Z\" style=\"opacity: 1; stroke-width: 0px; fill: rgb(31, 119, 180); fill-opacity: 1;\"/><path class=\"point\" transform=\"translate(87.57,76.04)\" d=\"M3,0A3,3 0 1,1 0,-3A3,3 0 0,1 3,0Z\" style=\"opacity: 1; stroke-width: 0px; fill: rgb(31, 119, 180); fill-opacity: 1;\"/><path class=\"point\" transform=\"translate(176.58,29.01)\" d=\"M3,0A3,3 0 1,1 0,-3A3,3 0 0,1 3,0Z\" style=\"opacity: 1; stroke-width: 0px; fill: rgb(31, 119, 180); fill-opacity: 1;\"/><path class=\"point\" transform=\"translate(169.63,35.66)\" d=\"M3,0A3,3 0 1,1 0,-3A3,3 0 0,1 3,0Z\" style=\"opacity: 1; stroke-width: 0px; fill: rgb(31, 119, 180); fill-opacity: 1;\"/><path class=\"point\" transform=\"translate(140.42,57.31)\" d=\"M3,0A3,3 0 1,1 0,-3A3,3 0 0,1 3,0Z\" style=\"opacity: 1; stroke-width: 0px; fill: rgb(31, 119, 180); fill-opacity: 1;\"/><path class=\"point\" transform=\"translate(130.69,57.54)\" d=\"M3,0A3,3 0 1,1 0,-3A3,3 0 0,1 3,0Z\" style=\"opacity: 1; stroke-width: 0px; fill: rgb(31, 119, 180); fill-opacity: 1;\"/><path class=\"point\" transform=\"translate(70.88,96.11)\" d=\"M3,0A3,3 0 1,1 0,-3A3,3 0 0,1 3,0Z\" style=\"opacity: 1; stroke-width: 0px; fill: rgb(31, 119, 180); fill-opacity: 1;\"/><path class=\"point\" transform=\"translate(90.35,77.88)\" d=\"M3,0A3,3 0 1,1 0,-3A3,3 0 0,1 3,0Z\" style=\"opacity: 1; stroke-width: 0px; fill: rgb(31, 119, 180); fill-opacity: 1;\"/><path class=\"point\" transform=\"translate(111.21,69)\" d=\"M3,0A3,3 0 1,1 0,-3A3,3 0 0,1 3,0Z\" style=\"opacity: 1; stroke-width: 0px; fill: rgb(31, 119, 180); fill-opacity: 1;\"/><path class=\"point\" transform=\"translate(159.89,22.28)\" d=\"M3,0A3,3 0 1,1 0,-3A3,3 0 0,1 3,0Z\" style=\"opacity: 1; stroke-width: 0px; fill: rgb(31, 119, 180); fill-opacity: 1;\"/><path class=\"point\" transform=\"translate(191.88,12.07)\" d=\"M3,0A3,3 0 1,1 0,-3A3,3 0 0,1 3,0Z\" style=\"opacity: 1; stroke-width: 0px; fill: rgb(31, 119, 180); fill-opacity: 1;\"/><path class=\"point\" transform=\"translate(198.83,9.82)\" d=\"M3,0A3,3 0 1,1 0,-3A3,3 0 0,1 3,0Z\" style=\"opacity: 1; stroke-width: 0px; fill: rgb(31, 119, 180); fill-opacity: 1;\"/><path class=\"point\" transform=\"translate(91.74,81.71)\" d=\"M3,0A3,3 0 1,1 0,-3A3,3 0 0,1 3,0Z\" style=\"opacity: 1; stroke-width: 0px; fill: rgb(31, 119, 180); fill-opacity: 1;\"/><path class=\"point\" transform=\"translate(59.76,83.42)\" d=\"M3,0A3,3 0 1,1 0,-3A3,3 0 0,1 3,0Z\" style=\"opacity: 1; stroke-width: 0px; fill: rgb(31, 119, 180); fill-opacity: 1;\"/><path class=\"point\" transform=\"translate(33.33,101.42)\" d=\"M3,0A3,3 0 1,1 0,-3A3,3 0 0,1 3,0Z\" style=\"opacity: 1; stroke-width: 0px; fill: rgb(31, 119, 180); fill-opacity: 1;\"/><path class=\"point\" transform=\"translate(31.94,111.55)\" d=\"M3,0A3,3 0 1,1 0,-3A3,3 0 0,1 3,0Z\" style=\"opacity: 1; stroke-width: 0px; fill: rgb(31, 119, 180); fill-opacity: 1;\"/><path class=\"point\" transform=\"translate(129.29,51.95)\" d=\"M3,0A3,3 0 1,1 0,-3A3,3 0 0,1 3,0Z\" style=\"opacity: 1; stroke-width: 0px; fill: rgb(31, 119, 180); fill-opacity: 1;\"/><path class=\"point\" transform=\"translate(143.2,42.77)\" d=\"M3,0A3,3 0 1,1 0,-3A3,3 0 0,1 3,0Z\" style=\"opacity: 1; stroke-width: 0px; fill: rgb(31, 119, 180); fill-opacity: 1;\"/><path class=\"point\" transform=\"translate(176.58,29.01)\" d=\"M3,0A3,3 0 1,1 0,-3A3,3 0 0,1 3,0Z\" style=\"opacity: 1; stroke-width: 0px; fill: rgb(31, 119, 180); fill-opacity: 1;\"/><path class=\"point\" transform=\"translate(137.64,57.54)\" d=\"M3,0A3,3 0 1,1 0,-3A3,3 0 0,1 3,0Z\" style=\"opacity: 1; stroke-width: 0px; fill: rgb(31, 119, 180); fill-opacity: 1;\"/><path class=\"point\" transform=\"translate(80.62,96.11)\" d=\"M3,0A3,3 0 1,1 0,-3A3,3 0 0,1 3,0Z\" style=\"opacity: 1; stroke-width: 0px; fill: rgb(31, 119, 180); fill-opacity: 1;\"/><path class=\"point\" transform=\"translate(221.09,9.82)\" d=\"M3,0A3,3 0 1,1 0,-3A3,3 0 0,1 3,0Z\" style=\"opacity: 1; stroke-width: 0px; fill: rgb(31, 119, 180); fill-opacity: 1;\"/><path class=\"point\" transform=\"translate(95.92,81.71)\" d=\"M3,0A3,3 0 1,1 0,-3A3,3 0 0,1 3,0Z\" style=\"opacity: 1; stroke-width: 0px; fill: rgb(31, 119, 180); fill-opacity: 1;\"/><path class=\"point\" transform=\"translate(59.76,83.42)\" d=\"M3,0A3,3 0 1,1 0,-3A3,3 0 0,1 3,0Z\" style=\"opacity: 1; stroke-width: 0px; fill: rgb(31, 119, 180); fill-opacity: 1;\"/></g><g class=\"text\"/></g></g></g><g class=\"overplot\"/><path class=\"xlines-above crisp\" d=\"M56,291.5H293.66999999999996\" style=\"fill: none; stroke-width: 1px; stroke: rgb(36, 36, 36); stroke-opacity: 1;\"/><path class=\"ylines-above crisp\" d=\"M56.5,169.63500000000002V291\" style=\"fill: none; stroke-width: 1px; stroke: rgb(36, 36, 36); stroke-opacity: 1;\"/><g class=\"overlines-above\"/><g class=\"xaxislayer-above\"><path class=\"xtick ticks crisp\" d=\"M0,292v5\" transform=\"translate(98.68,0)\" style=\"stroke: rgb(68, 68, 68); stroke-opacity: 1; stroke-width: 1px;\"/><path class=\"xtick ticks crisp\" d=\"M0,292v5\" transform=\"translate(168.20999999999998,0)\" style=\"stroke: rgb(68, 68, 68); stroke-opacity: 1; stroke-width: 1px;\"/><path class=\"xtick ticks crisp\" d=\"M0,292v5\" transform=\"translate(237.75,0)\" style=\"stroke: rgb(68, 68, 68); stroke-opacity: 1; stroke-width: 1px;\"/><g class=\"xtick\"><text text-anchor=\"middle\" x=\"0\" y=\"311.4\" transform=\"translate(98.68,0)\" style=\"font-family: 'Open Sans', verdana, arial, sans-serif; font-size: 12px; fill: rgb(36, 36, 36); fill-opacity: 1; white-space: pre; opacity: 1;\">5</text></g><g class=\"xtick\"><text text-anchor=\"middle\" x=\"0\" y=\"311.4\" style=\"font-family: 'Open Sans', verdana, arial, sans-serif; font-size: 12px; fill: rgb(36, 36, 36); fill-opacity: 1; white-space: pre; opacity: 1;\" transform=\"translate(168.20999999999998,0)\">10</text></g><g class=\"xtick\"><text text-anchor=\"middle\" x=\"0\" y=\"311.4\" style=\"font-family: 'Open Sans', verdana, arial, sans-serif; font-size: 12px; fill: rgb(36, 36, 36); fill-opacity: 1; white-space: pre; opacity: 1;\" transform=\"translate(237.75,0)\">15</text></g></g><g class=\"yaxislayer-above\"><path class=\"ytick ticks crisp\" d=\"M56,0h-5\" transform=\"translate(0,262.915)\" style=\"stroke: rgb(68, 68, 68); stroke-opacity: 1; stroke-width: 1px;\"/><path class=\"ytick ticks crisp\" d=\"M56,0h-5\" transform=\"translate(0,229.425)\" style=\"stroke: rgb(68, 68, 68); stroke-opacity: 1; stroke-width: 1px;\"/><path class=\"ytick ticks crisp\" d=\"M56,0h-5\" transform=\"translate(0,195.93500000000003)\" style=\"stroke: rgb(68, 68, 68); stroke-opacity: 1; stroke-width: 1px;\"/><g class=\"ytick\"><text text-anchor=\"end\" x=\"48.6\" y=\"4.199999999999999\" transform=\"translate(0,262.915)\" style=\"font-family: 'Open Sans', verdana, arial, sans-serif; font-size: 12px; fill: rgb(36, 36, 36); fill-opacity: 1; white-space: pre; opacity: 1;\">10</text></g><g class=\"ytick\"><text text-anchor=\"end\" x=\"48.6\" y=\"4.199999999999999\" style=\"font-family: 'Open Sans', verdana, arial, sans-serif; font-size: 12px; fill: rgb(36, 36, 36); fill-opacity: 1; white-space: pre; opacity: 1;\" transform=\"translate(0,229.425)\">20</text></g><g class=\"ytick\"><text text-anchor=\"end\" x=\"48.6\" y=\"4.199999999999999\" style=\"font-family: 'Open Sans', verdana, arial, sans-serif; font-size: 12px; fill: rgb(36, 36, 36); fill-opacity: 1; white-space: pre; opacity: 1;\" transform=\"translate(0,195.93500000000003)\">30</text></g></g><g class=\"overaxes-above\"/></g><g class=\"subplot x2y2\"><g class=\"layer-subplot\"><g class=\"shapelayer\"/><g class=\"imagelayer\"/></g><g class=\"gridlayer\"><g class=\"x2\"><path class=\"x2grid crisp\" transform=\"translate(345.01000000000005,0)\" d=\"M0,169.63500000000002v121.365\" style=\"stroke: rgb(232, 232, 232); stroke-opacity: 1; stroke-width: 1px;\"/><path class=\"x2grid crisp\" transform=\"translate(414.54,0)\" d=\"M0,169.63500000000002v121.365\" style=\"stroke: rgb(232, 232, 232); stroke-opacity: 1; stroke-width: 1px;\"/><path class=\"x2grid crisp\" transform=\"translate(484.08000000000004,0)\" d=\"M0,169.63500000000002v121.365\" style=\"stroke: rgb(232, 232, 232); stroke-opacity: 1; stroke-width: 1px;\"/></g><g class=\"y2\"><path class=\"y2grid crisp\" transform=\"translate(0,262.915)\" d=\"M303.33000000000004,0h236.67\" style=\"stroke: rgb(232, 232, 232); stroke-opacity: 1; stroke-width: 1px;\"/><path class=\"y2grid crisp\" transform=\"translate(0,229.425)\" d=\"M303.33000000000004,0h236.67\" style=\"stroke: rgb(232, 232, 232); stroke-opacity: 1; stroke-width: 1px;\"/><path class=\"y2grid crisp\" transform=\"translate(0,195.93500000000003)\" d=\"M303.33000000000004,0h236.67\" style=\"stroke: rgb(232, 232, 232); stroke-opacity: 1; stroke-width: 1px;\"/></g></g><g class=\"zerolinelayer\"/><path class=\"xlines-below\"/><path class=\"ylines-below\"/><g class=\"overlines-below\"/><g class=\"xaxislayer-below\"/><g class=\"yaxislayer-below\"/><g class=\"overaxes-below\"/><g class=\"plot\" transform=\"translate(303.33000000000004,169.63500000000002)\" clip-path=\"url(#clipdc8a79x2y2plot)\"><g class=\"scatterlayer mlayer\"><g class=\"trace scatter tracec9cd8d\" style=\"stroke-miterlimit: 2; opacity: 1;\"><g class=\"fills\"/><g class=\"errorbars\"/><g class=\"lines\"/><g class=\"points\"><path class=\"point\" transform=\"translate(91.8,74.93)\" d=\"M3,0A3,3 0 1,1 0,-3A3,3 0 0,1 3,0Z\" style=\"opacity: 1; stroke-width: 0px; fill: rgb(31, 119, 180); fill-opacity: 1;\"/><path class=\"point\" transform=\"translate(69.14,93.29)\" d=\"M3,0A3,3 0 1,1 0,-3A3,3 0 0,1 3,0Z\" style=\"opacity: 1; stroke-width: 0px; fill: rgb(31, 119, 180); fill-opacity: 1;\"/><path class=\"point\" transform=\"translate(149.92,51.51)\" d=\"M3,0A3,3 0 1,1 0,-3A3,3 0 0,1 3,0Z\" style=\"opacity: 1; stroke-width: 0px; fill: rgb(31, 119, 180); fill-opacity: 1;\"/><path class=\"point\" transform=\"translate(67.41,97.8)\" d=\"M3,0A3,3 0 1,1 0,-3A3,3 0 0,1 3,0Z\" style=\"opacity: 1; stroke-width: 0px; fill: rgb(31, 119, 180); fill-opacity: 1;\"/><path class=\"point\" transform=\"translate(82.41,90.38)\" d=\"M3,0A3,3 0 1,1 0,-3A3,3 0 0,1 3,0Z\" style=\"opacity: 1; stroke-width: 0px; fill: rgb(31, 119, 180); fill-opacity: 1;\"/><path class=\"point\" transform=\"translate(81.54,91.79)\" d=\"M3,0A3,3 0 1,1 0,-3A3,3 0 0,1 3,0Z\" style=\"opacity: 1; stroke-width: 0px; fill: rgb(31, 119, 180); fill-opacity: 1;\"/><path class=\"point\" transform=\"translate(91.45,87.03)\" d=\"M3,0A3,3 0 1,1 0,-3A3,3 0 0,1 3,0Z\" style=\"opacity: 1; stroke-width: 0px; fill: rgb(31, 119, 180); fill-opacity: 1;\"/><path class=\"point\" transform=\"translate(128.95,61.1)\" d=\"M3,0A3,3 0 1,1 0,-3A3,3 0 0,1 3,0Z\" style=\"opacity: 1; stroke-width: 0px; fill: rgb(31, 119, 180); fill-opacity: 1;\"/><path class=\"point\" transform=\"translate(162.09,47.6)\" d=\"M3,0A3,3 0 1,1 0,-3A3,3 0 0,1 3,0Z\" style=\"opacity: 1; stroke-width: 0px; fill: rgb(31, 119, 180); fill-opacity: 1;\"/><path class=\"point\" transform=\"translate(42.2,105.37)\" d=\"M3,0A3,3 0 1,1 0,-3A3,3 0 0,1 3,0Z\" style=\"opacity: 1; stroke-width: 0px; fill: rgb(31, 119, 180); fill-opacity: 1;\"/><path class=\"point\" transform=\"translate(59.7,98.32)\" d=\"M3,0A3,3 0 1,1 0,-3A3,3 0 0,1 3,0Z\" style=\"opacity: 1; stroke-width: 0px; fill: rgb(31, 119, 180); fill-opacity: 1;\"/><path class=\"point\" transform=\"translate(122.7,71.07)\" d=\"M3,0A3,3 0 1,1 0,-3A3,3 0 0,1 3,0Z\" style=\"opacity: 1; stroke-width: 0px; fill: rgb(31, 119, 180); fill-opacity: 1;\"/><path class=\"point\" transform=\"translate(109.19,64.23)\" d=\"M3,0A3,3 0 1,1 0,-3A3,3 0 0,1 3,0Z\" style=\"opacity: 1; stroke-width: 0px; fill: rgb(31, 119, 180); fill-opacity: 1;\"/><path class=\"point\" transform=\"translate(104.26,74.93)\" d=\"M3,0A3,3 0 1,1 0,-3A3,3 0 0,1 3,0Z\" style=\"opacity: 1; stroke-width: 0px; fill: rgb(31, 119, 180); fill-opacity: 1;\"/><path class=\"point\" transform=\"translate(63.93,93.29)\" d=\"M3,0A3,3 0 1,1 0,-3A3,3 0 0,1 3,0Z\" style=\"opacity: 1; stroke-width: 0px; fill: rgb(31, 119, 180); fill-opacity: 1;\"/><path class=\"point\" transform=\"translate(154.33,51.51)\" d=\"M3,0A3,3 0 1,1 0,-3A3,3 0 0,1 3,0Z\" style=\"opacity: 1; stroke-width: 0px; fill: rgb(31, 119, 180); fill-opacity: 1;\"/><path class=\"point\" transform=\"translate(68.1,97.8)\" d=\"M3,0A3,3 0 1,1 0,-3A3,3 0 0,1 3,0Z\" style=\"opacity: 1; stroke-width: 0px; fill: rgb(31, 119, 180); fill-opacity: 1;\"/><path class=\"point\" transform=\"translate(77.84,90.38)\" d=\"M3,0A3,3 0 1,1 0,-3A3,3 0 0,1 3,0Z\" style=\"opacity: 1; stroke-width: 0px; fill: rgb(31, 119, 180); fill-opacity: 1;\"/><path class=\"point\" transform=\"translate(80.62,91.79)\" d=\"M3,0A3,3 0 1,1 0,-3A3,3 0 0,1 3,0Z\" style=\"opacity: 1; stroke-width: 0px; fill: rgb(31, 119, 180); fill-opacity: 1;\"/><path class=\"point\" transform=\"translate(101.48,87.03)\" d=\"M3,0A3,3 0 1,1 0,-3A3,3 0 0,1 3,0Z\" style=\"opacity: 1; stroke-width: 0px; fill: rgb(31, 119, 180); fill-opacity: 1;\"/><path class=\"point\" transform=\"translate(112.61,61.1)\" d=\"M3,0A3,3 0 1,1 0,-3A3,3 0 0,1 3,0Z\" style=\"opacity: 1; stroke-width: 0px; fill: rgb(31, 119, 180); fill-opacity: 1;\"/><path class=\"point\" transform=\"translate(141.81,47.6)\" d=\"M3,0A3,3 0 1,1 0,-3A3,3 0 0,1 3,0Z\" style=\"opacity: 1; stroke-width: 0px; fill: rgb(31, 119, 180); fill-opacity: 1;\"/><path class=\"point\" transform=\"translate(30.55,105.37)\" d=\"M3,0A3,3 0 1,1 0,-3A3,3 0 0,1 3,0Z\" style=\"opacity: 1; stroke-width: 0px; fill: rgb(31, 119, 180); fill-opacity: 1;\"/><path class=\"point\" transform=\"translate(104.26,74.93)\" d=\"M3,0A3,3 0 1,1 0,-3A3,3 0 0,1 3,0Z\" style=\"opacity: 1; stroke-width: 0px; fill: rgb(31, 119, 180); fill-opacity: 1;\"/><path class=\"point\" transform=\"translate(84.79,91.79)\" d=\"M3,0A3,3 0 1,1 0,-3A3,3 0 0,1 3,0Z\" style=\"opacity: 1; stroke-width: 0px; fill: rgb(31, 119, 180); fill-opacity: 1;\"/><path class=\"point\" transform=\"translate(130.69,61.1)\" d=\"M3,0A3,3 0 1,1 0,-3A3,3 0 0,1 3,0Z\" style=\"opacity: 1; stroke-width: 0px; fill: rgb(31, 119, 180); fill-opacity: 1;\"/></g><g class=\"text\"/></g></g></g><g class=\"overplot\"/><path class=\"xlines-above crisp\" d=\"M302.33000000000004,291.5H540\" style=\"fill: none; stroke-width: 1px; stroke: rgb(36, 36, 36); stroke-opacity: 1;\"/><path class=\"ylines-above crisp\" d=\"M302.83000000000004,169.63500000000002V291\" style=\"fill: none; stroke-width: 1px; stroke: rgb(36, 36, 36); stroke-opacity: 1;\"/><g class=\"overlines-above\"/><g class=\"xaxislayer-above\"><path class=\"x2tick ticks crisp\" d=\"M0,292v5\" transform=\"translate(345.01000000000005,0)\" style=\"stroke: rgb(68, 68, 68); stroke-opacity: 1; stroke-width: 1px;\"/><path class=\"x2tick ticks crisp\" d=\"M0,292v5\" transform=\"translate(414.54,0)\" style=\"stroke: rgb(68, 68, 68); stroke-opacity: 1; stroke-width: 1px;\"/><path class=\"x2tick ticks crisp\" d=\"M0,292v5\" transform=\"translate(484.08000000000004,0)\" style=\"stroke: rgb(68, 68, 68); stroke-opacity: 1; stroke-width: 1px;\"/><g class=\"x2tick\"><text text-anchor=\"middle\" x=\"0\" y=\"311.4\" transform=\"translate(345.01000000000005,0)\" style=\"font-family: 'Open Sans', verdana, arial, sans-serif; font-size: 12px; fill: rgb(36, 36, 36); fill-opacity: 1; white-space: pre; opacity: 1;\">5</text></g><g class=\"x2tick\"><text text-anchor=\"middle\" x=\"0\" y=\"311.4\" style=\"font-family: 'Open Sans', verdana, arial, sans-serif; font-size: 12px; fill: rgb(36, 36, 36); fill-opacity: 1; white-space: pre; opacity: 1;\" transform=\"translate(414.54,0)\">10</text></g><g class=\"x2tick\"><text text-anchor=\"middle\" x=\"0\" y=\"311.4\" style=\"font-family: 'Open Sans', verdana, arial, sans-serif; font-size: 12px; fill: rgb(36, 36, 36); fill-opacity: 1; white-space: pre; opacity: 1;\" transform=\"translate(484.08000000000004,0)\">15</text></g></g><g class=\"yaxislayer-above\"><path class=\"y2tick ticks crisp\" d=\"M302.33000000000004,0h-5\" transform=\"translate(0,262.915)\" style=\"stroke: rgb(68, 68, 68); stroke-opacity: 1; stroke-width: 1px;\"/><path class=\"y2tick ticks crisp\" d=\"M302.33000000000004,0h-5\" transform=\"translate(0,229.425)\" style=\"stroke: rgb(68, 68, 68); stroke-opacity: 1; stroke-width: 1px;\"/><path class=\"y2tick ticks crisp\" d=\"M302.33000000000004,0h-5\" transform=\"translate(0,195.93500000000003)\" style=\"stroke: rgb(68, 68, 68); stroke-opacity: 1; stroke-width: 1px;\"/></g><g class=\"overaxes-above\"/></g><g class=\"subplot x3y3\"><g class=\"layer-subplot\"><g class=\"shapelayer\"/><g class=\"imagelayer\"/></g><g class=\"gridlayer\"><g class=\"x3\"><path class=\"x3grid crisp\" transform=\"translate(98.68,0)\" d=\"M0,30.00000000000003v121.365\" style=\"stroke: rgb(232, 232, 232); stroke-opacity: 1; stroke-width: 1px;\"/><path class=\"x3grid crisp\" transform=\"translate(168.20999999999998,0)\" d=\"M0,30.00000000000003v121.365\" style=\"stroke: rgb(232, 232, 232); stroke-opacity: 1; stroke-width: 1px;\"/><path class=\"x3grid crisp\" transform=\"translate(237.75,0)\" d=\"M0,30.00000000000003v121.365\" style=\"stroke: rgb(232, 232, 232); stroke-opacity: 1; stroke-width: 1px;\"/></g><g class=\"y3\"><path class=\"y3grid crisp\" transform=\"translate(0,123.28000000000003)\" d=\"M57,0h236.67\" style=\"stroke: rgb(232, 232, 232); stroke-opacity: 1; stroke-width: 1px;\"/><path class=\"y3grid crisp\" transform=\"translate(0,89.79000000000002)\" d=\"M57,0h236.67\" style=\"stroke: rgb(232, 232, 232); stroke-opacity: 1; stroke-width: 1px;\"/><path class=\"y3grid crisp\" transform=\"translate(0,56.300000000000026)\" d=\"M57,0h236.67\" style=\"stroke: rgb(232, 232, 232); stroke-opacity: 1; stroke-width: 1px;\"/></g></g><g class=\"zerolinelayer\"/><path class=\"xlines-below\"/><path class=\"ylines-below\"/><g class=\"overlines-below\"/><g class=\"xaxislayer-below\"/><g class=\"yaxislayer-below\"/><g class=\"overaxes-below\"/><g class=\"plot\" transform=\"translate(57,30.00000000000003)\" clip-path=\"url(#clipdc8a79x3y3plot)\"><g class=\"scatterlayer mlayer\"><g class=\"trace scatter tracedcb29d\" style=\"stroke-miterlimit: 2; opacity: 1;\"><g class=\"fills\"/><g class=\"errorbars\"/><g class=\"lines\"/><g class=\"points\"><path class=\"point\" transform=\"translate(92.38,72.55)\" d=\"M3,0A3,3 0 1,1 0,-3A3,3 0 0,1 3,0Z\" style=\"opacity: 1; stroke-width: 0px; fill: rgb(31, 119, 180); fill-opacity: 1;\"/><path class=\"point\" transform=\"translate(79.28,81.24)\" d=\"M3,0A3,3 0 1,1 0,-3A3,3 0 0,1 3,0Z\" style=\"opacity: 1; stroke-width: 0px; fill: rgb(31, 119, 180); fill-opacity: 1;\"/><path class=\"point\" transform=\"translate(59.76,92.27)\" d=\"M3,0A3,3 0 1,1 0,-3A3,3 0 0,1 3,0Z\" style=\"opacity: 1; stroke-width: 0px; fill: rgb(31, 119, 180); fill-opacity: 1;\"/><path class=\"point\" transform=\"translate(103.45,68.01)\" d=\"M3,0A3,3 0 1,1 0,-3A3,3 0 0,1 3,0Z\" style=\"opacity: 1; stroke-width: 0px; fill: rgb(31, 119, 180); fill-opacity: 1;\"/><path class=\"point\" transform=\"translate(107.8,62.43)\" d=\"M3,0A3,3 0 1,1 0,-3A3,3 0 0,1 3,0Z\" style=\"opacity: 1; stroke-width: 0px; fill: rgb(31, 119, 180); fill-opacity: 1;\"/><path class=\"point\" transform=\"translate(125.41,54.21)\" d=\"M3,0A3,3 0 1,1 0,-3A3,3 0 0,1 3,0Z\" style=\"opacity: 1; stroke-width: 0px; fill: rgb(31, 119, 180); fill-opacity: 1;\"/><path class=\"point\" transform=\"translate(134.57,40.78)\" d=\"M3,0A3,3 0 1,1 0,-3A3,3 0 0,1 3,0Z\" style=\"opacity: 1; stroke-width: 0px; fill: rgb(31, 119, 180); fill-opacity: 1;\"/><path class=\"point\" transform=\"translate(65.14,88.65)\" d=\"M3,0A3,3 0 1,1 0,-3A3,3 0 0,1 3,0Z\" style=\"opacity: 1; stroke-width: 0px; fill: rgb(31, 119, 180); fill-opacity: 1;\"/><path class=\"point\" transform=\"translate(76.14,84.7)\" d=\"M3,0A3,3 0 1,1 0,-3A3,3 0 0,1 3,0Z\" style=\"opacity: 1; stroke-width: 0px; fill: rgb(31, 119, 180); fill-opacity: 1;\"/><path class=\"point\" transform=\"translate(73.36,93.76)\" d=\"M3,0A3,3 0 1,1 0,-3A3,3 0 0,1 3,0Z\" style=\"opacity: 1; stroke-width: 0px; fill: rgb(31, 119, 180); fill-opacity: 1;\"/><path class=\"point\" transform=\"translate(104.72,73.46)\" d=\"M3,0A3,3 0 1,1 0,-3A3,3 0 0,1 3,0Z\" style=\"opacity: 1; stroke-width: 0px; fill: rgb(31, 119, 180); fill-opacity: 1;\"/><path class=\"point\" transform=\"translate(107.86,70.72)\" d=\"M3,0A3,3 0 1,1 0,-3A3,3 0 0,1 3,0Z\" style=\"opacity: 1; stroke-width: 0px; fill: rgb(31, 119, 180); fill-opacity: 1;\"/><path class=\"point\" transform=\"translate(116.78,58.79)\" d=\"M3,0A3,3 0 1,1 0,-3A3,3 0 0,1 3,0Z\" style=\"opacity: 1; stroke-width: 0px; fill: rgb(31, 119, 180); fill-opacity: 1;\"/><path class=\"point\" transform=\"translate(109.19,67.54)\" d=\"M3,0A3,3 0 1,1 0,-3A3,3 0 0,1 3,0Z\" style=\"opacity: 1; stroke-width: 0px; fill: rgb(31, 119, 180); fill-opacity: 1;\"/><path class=\"point\" transform=\"translate(166.79,30.56)\" d=\"M3,0A3,3 0 1,1 0,-3A3,3 0 0,1 3,0Z\" style=\"opacity: 1; stroke-width: 0px; fill: rgb(31, 119, 180); fill-opacity: 1;\"/><path class=\"point\" transform=\"translate(135.32,49.23)\" d=\"M3,0A3,3 0 1,1 0,-3A3,3 0 0,1 3,0Z\" style=\"opacity: 1; stroke-width: 0px; fill: rgb(31, 119, 180); fill-opacity: 1;\"/><path class=\"point\" transform=\"translate(150.7,48.75)\" d=\"M3,0A3,3 0 1,1 0,-3A3,3 0 0,1 3,0Z\" style=\"opacity: 1; stroke-width: 0px; fill: rgb(31, 119, 180); fill-opacity: 1;\"/><path class=\"point\" transform=\"translate(122.1,67.05)\" d=\"M3,0A3,3 0 1,1 0,-3A3,3 0 0,1 3,0Z\" style=\"opacity: 1; stroke-width: 0px; fill: rgb(31, 119, 180); fill-opacity: 1;\"/><path class=\"point\" transform=\"translate(78.53,99.81)\" d=\"M3,0A3,3 0 1,1 0,-3A3,3 0 0,1 3,0Z\" style=\"opacity: 1; stroke-width: 0px; fill: rgb(31, 119, 180); fill-opacity: 1;\"/><path class=\"point\" transform=\"translate(71.35,98.23)\" d=\"M3,0A3,3 0 1,1 0,-3A3,3 0 0,1 3,0Z\" style=\"opacity: 1; stroke-width: 0px; fill: rgb(31, 119, 180); fill-opacity: 1;\"/><path class=\"point\" transform=\"translate(51.99,101.89)\" d=\"M3,0A3,3 0 1,1 0,-3A3,3 0 0,1 3,0Z\" style=\"opacity: 1; stroke-width: 0px; fill: rgb(31, 119, 180); fill-opacity: 1;\"/><path class=\"point\" transform=\"translate(55.58,93.08)\" d=\"M3,0A3,3 0 1,1 0,-3A3,3 0 0,1 3,0Z\" style=\"opacity: 1; stroke-width: 0px; fill: rgb(31, 119, 180); fill-opacity: 1;\"/><path class=\"point\" transform=\"translate(87.51,81.72)\" d=\"M3,0A3,3 0 1,1 0,-3A3,3 0 0,1 3,0Z\" style=\"opacity: 1; stroke-width: 0px; fill: rgb(31, 119, 180); fill-opacity: 1;\"/><path class=\"point\" transform=\"translate(59.76,94.02)\" d=\"M3,0A3,3 0 1,1 0,-3A3,3 0 0,1 3,0Z\" style=\"opacity: 1; stroke-width: 0px; fill: rgb(31, 119, 180); fill-opacity: 1;\"/><path class=\"point\" transform=\"translate(79.57,81.39)\" d=\"M3,0A3,3 0 1,1 0,-3A3,3 0 0,1 3,0Z\" style=\"opacity: 1; stroke-width: 0px; fill: rgb(31, 119, 180); fill-opacity: 1;\"/><path class=\"point\" transform=\"translate(104.49,76.98)\" d=\"M3,0A3,3 0 1,1 0,-3A3,3 0 0,1 3,0Z\" style=\"opacity: 1; stroke-width: 0px; fill: rgb(31, 119, 180); fill-opacity: 1;\"/><path class=\"point\" transform=\"translate(122.8,64.14)\" d=\"M3,0A3,3 0 1,1 0,-3A3,3 0 0,1 3,0Z\" style=\"opacity: 1; stroke-width: 0px; fill: rgb(31, 119, 180); fill-opacity: 1;\"/><path class=\"point\" transform=\"translate(165.05,44.29)\" d=\"M3,0A3,3 0 1,1 0,-3A3,3 0 0,1 3,0Z\" style=\"opacity: 1; stroke-width: 0px; fill: rgb(31, 119, 180); fill-opacity: 1;\"/><path class=\"point\" transform=\"translate(85.58,83.11)\" d=\"M3,0A3,3 0 1,1 0,-3A3,3 0 0,1 3,0Z\" style=\"opacity: 1; stroke-width: 0px; fill: rgb(31, 119, 180); fill-opacity: 1;\"/><path class=\"point\" transform=\"translate(160.07,48.61)\" d=\"M3,0A3,3 0 1,1 0,-3A3,3 0 0,1 3,0Z\" style=\"opacity: 1; stroke-width: 0px; fill: rgb(31, 119, 180); fill-opacity: 1;\"/><path class=\"point\" transform=\"translate(165.98,40.31)\" d=\"M3,0A3,3 0 1,1 0,-3A3,3 0 0,1 3,0Z\" style=\"opacity: 1; stroke-width: 0px; fill: rgb(31, 119, 180); fill-opacity: 1;\"/><path class=\"point\" transform=\"translate(125.12,62.43)\" d=\"M3,0A3,3 0 1,1 0,-3A3,3 0 0,1 3,0Z\" style=\"opacity: 1; stroke-width: 0px; fill: rgb(31, 119, 180); fill-opacity: 1;\"/><path class=\"point\" transform=\"translate(132.08,54.21)\" d=\"M3,0A3,3 0 1,1 0,-3A3,3 0 0,1 3,0Z\" style=\"opacity: 1; stroke-width: 0px; fill: rgb(31, 119, 180); fill-opacity: 1;\"/><path class=\"point\" transform=\"translate(151.55,40.78)\" d=\"M3,0A3,3 0 1,1 0,-3A3,3 0 0,1 3,0Z\" style=\"opacity: 1; stroke-width: 0px; fill: rgb(31, 119, 180); fill-opacity: 1;\"/><path class=\"point\" transform=\"translate(69.49,88.65)\" d=\"M3,0A3,3 0 1,1 0,-3A3,3 0 0,1 3,0Z\" style=\"opacity: 1; stroke-width: 0px; fill: rgb(31, 119, 180); fill-opacity: 1;\"/><path class=\"point\" transform=\"translate(82.01,84.7)\" d=\"M3,0A3,3 0 1,1 0,-3A3,3 0 0,1 3,0Z\" style=\"opacity: 1; stroke-width: 0px; fill: rgb(31, 119, 180); fill-opacity: 1;\"/><path class=\"point\" transform=\"translate(54.19,93.76)\" d=\"M3,0A3,3 0 1,1 0,-3A3,3 0 0,1 3,0Z\" style=\"opacity: 1; stroke-width: 0px; fill: rgb(31, 119, 180); fill-opacity: 1;\"/><path class=\"point\" transform=\"translate(95.92,73.46)\" d=\"M3,0A3,3 0 1,1 0,-3A3,3 0 0,1 3,0Z\" style=\"opacity: 1; stroke-width: 0px; fill: rgb(31, 119, 180); fill-opacity: 1;\"/><path class=\"point\" transform=\"translate(101.48,70.72)\" d=\"M3,0A3,3 0 1,1 0,-3A3,3 0 0,1 3,0Z\" style=\"opacity: 1; stroke-width: 0px; fill: rgb(31, 119, 180); fill-opacity: 1;\"/><path class=\"point\" transform=\"translate(112.61,58.79)\" d=\"M3,0A3,3 0 1,1 0,-3A3,3 0 0,1 3,0Z\" style=\"opacity: 1; stroke-width: 0px; fill: rgb(31, 119, 180); fill-opacity: 1;\"/><path class=\"point\" transform=\"translate(101.48,67.54)\" d=\"M3,0A3,3 0 1,1 0,-3A3,3 0 0,1 3,0Z\" style=\"opacity: 1; stroke-width: 0px; fill: rgb(31, 119, 180); fill-opacity: 1;\"/><path class=\"point\" transform=\"translate(140.42,30.56)\" d=\"M3,0A3,3 0 1,1 0,-3A3,3 0 0,1 3,0Z\" style=\"opacity: 1; stroke-width: 0px; fill: rgb(31, 119, 180); fill-opacity: 1;\"/><path class=\"point\" transform=\"translate(104.26,49.23)\" d=\"M3,0A3,3 0 1,1 0,-3A3,3 0 0,1 3,0Z\" style=\"opacity: 1; stroke-width: 0px; fill: rgb(31, 119, 180); fill-opacity: 1;\"/><path class=\"point\" transform=\"translate(139.03,48.75)\" d=\"M3,0A3,3 0 1,1 0,-3A3,3 0 0,1 3,0Z\" style=\"opacity: 1; stroke-width: 0px; fill: rgb(31, 119, 180); fill-opacity: 1;\"/><path class=\"point\" transform=\"translate(104.26,67.05)\" d=\"M3,0A3,3 0 1,1 0,-3A3,3 0 0,1 3,0Z\" style=\"opacity: 1; stroke-width: 0px; fill: rgb(31, 119, 180); fill-opacity: 1;\"/><path class=\"point\" transform=\"translate(47.24,99.81)\" d=\"M3,0A3,3 0 1,1 0,-3A3,3 0 0,1 3,0Z\" style=\"opacity: 1; stroke-width: 0px; fill: rgb(31, 119, 180); fill-opacity: 1;\"/><path class=\"point\" transform=\"translate(52.8,98.23)\" d=\"M3,0A3,3 0 1,1 0,-3A3,3 0 0,1 3,0Z\" style=\"opacity: 1; stroke-width: 0px; fill: rgb(31, 119, 180); fill-opacity: 1;\"/><path class=\"point\" transform=\"translate(51.41,101.89)\" d=\"M3,0A3,3 0 1,1 0,-3A3,3 0 0,1 3,0Z\" style=\"opacity: 1; stroke-width: 0px; fill: rgb(31, 119, 180); fill-opacity: 1;\"/><path class=\"point\" transform=\"translate(30.55,93.08)\" d=\"M3,0A3,3 0 1,1 0,-3A3,3 0 0,1 3,0Z\" style=\"opacity: 1; stroke-width: 0px; fill: rgb(31, 119, 180); fill-opacity: 1;\"/><path class=\"point\" transform=\"translate(83.4,81.72)\" d=\"M3,0A3,3 0 1,1 0,-3A3,3 0 0,1 3,0Z\" style=\"opacity: 1; stroke-width: 0px; fill: rgb(31, 119, 180); fill-opacity: 1;\"/><path class=\"point\" transform=\"translate(54.19,94.02)\" d=\"M3,0A3,3 0 1,1 0,-3A3,3 0 0,1 3,0Z\" style=\"opacity: 1; stroke-width: 0px; fill: rgb(31, 119, 180); fill-opacity: 1;\"/><path class=\"point\" transform=\"translate(80.62,81.39)\" d=\"M3,0A3,3 0 1,1 0,-3A3,3 0 0,1 3,0Z\" style=\"opacity: 1; stroke-width: 0px; fill: rgb(31, 119, 180); fill-opacity: 1;\"/><path class=\"point\" transform=\"translate(54.19,92.27)\" d=\"M3,0A3,3 0 1,1 0,-3A3,3 0 0,1 3,0Z\" style=\"opacity: 1; stroke-width: 0px; fill: rgb(31, 119, 180); fill-opacity: 1;\"/><path class=\"point\" transform=\"translate(132.08,62.43)\" d=\"M3,0A3,3 0 1,1 0,-3A3,3 0 0,1 3,0Z\" style=\"opacity: 1; stroke-width: 0px; fill: rgb(31, 119, 180); fill-opacity: 1;\"/><path class=\"point\" transform=\"translate(79.23,84.7)\" d=\"M3,0A3,3 0 1,1 0,-3A3,3 0 0,1 3,0Z\" style=\"opacity: 1; stroke-width: 0px; fill: rgb(31, 119, 180); fill-opacity: 1;\"/><path class=\"point\" transform=\"translate(54.19,93.76)\" d=\"M3,0A3,3 0 1,1 0,-3A3,3 0 0,1 3,0Z\" style=\"opacity: 1; stroke-width: 0px; fill: rgb(31, 119, 180); fill-opacity: 1;\"/><path class=\"point\" transform=\"translate(98.7,73.46)\" d=\"M3,0A3,3 0 1,1 0,-3A3,3 0 0,1 3,0Z\" style=\"opacity: 1; stroke-width: 0px; fill: rgb(31, 119, 180); fill-opacity: 1;\"/><path class=\"point\" transform=\"translate(157.11,48.75)\" d=\"M3,0A3,3 0 1,1 0,-3A3,3 0 0,1 3,0Z\" style=\"opacity: 1; stroke-width: 0px; fill: rgb(31, 119, 180); fill-opacity: 1;\"/><path class=\"point\" transform=\"translate(66.71,99.81)\" d=\"M3,0A3,3 0 1,1 0,-3A3,3 0 0,1 3,0Z\" style=\"opacity: 1; stroke-width: 0px; fill: rgb(31, 119, 180); fill-opacity: 1;\"/><path class=\"point\" transform=\"translate(34.72,93.08)\" d=\"M3,0A3,3 0 1,1 0,-3A3,3 0 0,1 3,0Z\" style=\"opacity: 1; stroke-width: 0px; fill: rgb(31, 119, 180); fill-opacity: 1;\"/></g><g class=\"text\"/></g></g></g><g class=\"overplot\"/><path class=\"xlines-above crisp\" d=\"M56,151.865H293.66999999999996\" style=\"fill: none; stroke-width: 1px; stroke: rgb(36, 36, 36); stroke-opacity: 1;\"/><path class=\"ylines-above crisp\" d=\"M56.5,30.00000000000003V151.365\" style=\"fill: none; stroke-width: 1px; stroke: rgb(36, 36, 36); stroke-opacity: 1;\"/><g class=\"overlines-above\"/><g class=\"xaxislayer-above\"><path class=\"x3tick ticks crisp\" d=\"M0,152.365v5\" transform=\"translate(98.68,0)\" style=\"stroke: rgb(68, 68, 68); stroke-opacity: 1; stroke-width: 1px;\"/><path class=\"x3tick ticks crisp\" d=\"M0,152.365v5\" transform=\"translate(168.20999999999998,0)\" style=\"stroke: rgb(68, 68, 68); stroke-opacity: 1; stroke-width: 1px;\"/><path class=\"x3tick ticks crisp\" d=\"M0,152.365v5\" transform=\"translate(237.75,0)\" style=\"stroke: rgb(68, 68, 68); stroke-opacity: 1; stroke-width: 1px;\"/></g><g class=\"yaxislayer-above\"><path class=\"y3tick ticks crisp\" d=\"M56,0h-5\" transform=\"translate(0,123.28000000000003)\" style=\"stroke: rgb(68, 68, 68); stroke-opacity: 1; stroke-width: 1px;\"/><path class=\"y3tick ticks crisp\" d=\"M56,0h-5\" transform=\"translate(0,89.79000000000002)\" style=\"stroke: rgb(68, 68, 68); stroke-opacity: 1; stroke-width: 1px;\"/><path class=\"y3tick ticks crisp\" d=\"M56,0h-5\" transform=\"translate(0,56.300000000000026)\" style=\"stroke: rgb(68, 68, 68); stroke-opacity: 1; stroke-width: 1px;\"/><g class=\"y3tick\"><text text-anchor=\"end\" x=\"48.6\" y=\"4.199999999999999\" transform=\"translate(0,123.28000000000003)\" style=\"font-family: 'Open Sans', verdana, arial, sans-serif; font-size: 12px; fill: rgb(36, 36, 36); fill-opacity: 1; white-space: pre; opacity: 1;\">10</text></g><g class=\"y3tick\"><text text-anchor=\"end\" x=\"48.6\" y=\"4.199999999999999\" style=\"font-family: 'Open Sans', verdana, arial, sans-serif; font-size: 12px; fill: rgb(36, 36, 36); fill-opacity: 1; white-space: pre; opacity: 1;\" transform=\"translate(0,89.79000000000002)\">20</text></g><g class=\"y3tick\"><text text-anchor=\"end\" x=\"48.6\" y=\"4.199999999999999\" style=\"font-family: 'Open Sans', verdana, arial, sans-serif; font-size: 12px; fill: rgb(36, 36, 36); fill-opacity: 1; white-space: pre; opacity: 1;\" transform=\"translate(0,56.300000000000026)\">30</text></g></g><g class=\"overaxes-above\"/></g><g class=\"subplot x4y4\"><g class=\"layer-subplot\"><g class=\"shapelayer\"/><g class=\"imagelayer\"/></g><g class=\"gridlayer\"><g class=\"x4\"><path class=\"x4grid crisp\" transform=\"translate(345.01000000000005,0)\" d=\"M0,30.00000000000003v121.365\" style=\"stroke: rgb(232, 232, 232); stroke-opacity: 1; stroke-width: 1px;\"/><path class=\"x4grid crisp\" transform=\"translate(414.54,0)\" d=\"M0,30.00000000000003v121.365\" style=\"stroke: rgb(232, 232, 232); stroke-opacity: 1; stroke-width: 1px;\"/><path class=\"x4grid crisp\" transform=\"translate(484.08000000000004,0)\" d=\"M0,30.00000000000003v121.365\" style=\"stroke: rgb(232, 232, 232); stroke-opacity: 1; stroke-width: 1px;\"/></g><g class=\"y4\"><path class=\"y4grid crisp\" transform=\"translate(0,123.28000000000003)\" d=\"M303.33000000000004,0h236.67\" style=\"stroke: rgb(232, 232, 232); stroke-opacity: 1; stroke-width: 1px;\"/><path class=\"y4grid crisp\" transform=\"translate(0,89.79000000000002)\" d=\"M303.33000000000004,0h236.67\" style=\"stroke: rgb(232, 232, 232); stroke-opacity: 1; stroke-width: 1px;\"/><path class=\"y4grid crisp\" transform=\"translate(0,56.300000000000026)\" d=\"M303.33000000000004,0h236.67\" style=\"stroke: rgb(232, 232, 232); stroke-opacity: 1; stroke-width: 1px;\"/></g></g><g class=\"zerolinelayer\"/><path class=\"xlines-below\"/><path class=\"ylines-below\"/><g class=\"overlines-below\"/><g class=\"xaxislayer-below\"/><g class=\"yaxislayer-below\"/><g class=\"overaxes-below\"/><g class=\"plot\" transform=\"translate(303.33000000000004,30.00000000000003)\" clip-path=\"url(#clipdc8a79x4y4plot)\"><g class=\"scatterlayer mlayer\"><g class=\"trace scatter traceabaca8\" style=\"stroke-miterlimit: 2; opacity: 1;\"><g class=\"fills\"/><g class=\"errorbars\"/><g class=\"lines\"/><g class=\"points\"><path class=\"point\" transform=\"translate(83.75,77.23)\" d=\"M3,0A3,3 0 1,1 0,-3A3,3 0 0,1 3,0Z\" style=\"opacity: 1; stroke-width: 0px; fill: rgb(31, 119, 180); fill-opacity: 1;\"/><path class=\"point\" transform=\"translate(68.97,87.27)\" d=\"M3,0A3,3 0 1,1 0,-3A3,3 0 0,1 3,0Z\" style=\"opacity: 1; stroke-width: 0px; fill: rgb(31, 119, 180); fill-opacity: 1;\"/><path class=\"point\" transform=\"translate(50.43,100.33)\" d=\"M3,0A3,3 0 1,1 0,-3A3,3 0 0,1 3,0Z\" style=\"opacity: 1; stroke-width: 0px; fill: rgb(31, 119, 180); fill-opacity: 1;\"/><path class=\"point\" transform=\"translate(57.67,92.46)\" d=\"M3,0A3,3 0 1,1 0,-3A3,3 0 0,1 3,0Z\" style=\"opacity: 1; stroke-width: 0px; fill: rgb(31, 119, 180); fill-opacity: 1;\"/><path class=\"point\" transform=\"translate(60.68,89.25)\" d=\"M3,0A3,3 0 1,1 0,-3A3,3 0 0,1 3,0Z\" style=\"opacity: 1; stroke-width: 0px; fill: rgb(31, 119, 180); fill-opacity: 1;\"/><path class=\"point\" transform=\"translate(76.39,86.61)\" d=\"M3,0A3,3 0 1,1 0,-3A3,3 0 0,1 3,0Z\" style=\"opacity: 1; stroke-width: 0px; fill: rgb(31, 119, 180); fill-opacity: 1;\"/><path class=\"point\" transform=\"translate(91.28,58.48)\" d=\"M3,0A3,3 0 1,1 0,-3A3,3 0 0,1 3,0Z\" style=\"opacity: 1; stroke-width: 0px; fill: rgb(31, 119, 180); fill-opacity: 1;\"/><path class=\"point\" transform=\"translate(85.49,81.16)\" d=\"M3,0A3,3 0 1,1 0,-3A3,3 0 0,1 3,0Z\" style=\"opacity: 1; stroke-width: 0px; fill: rgb(31, 119, 180); fill-opacity: 1;\"/><path class=\"point\" transform=\"translate(82.88,82.93)\" d=\"M3,0A3,3 0 1,1 0,-3A3,3 0 0,1 3,0Z\" style=\"opacity: 1; stroke-width: 0px; fill: rgb(31, 119, 180); fill-opacity: 1;\"/><path class=\"point\" transform=\"translate(131.32,41.47)\" d=\"M3,0A3,3 0 1,1 0,-3A3,3 0 0,1 3,0Z\" style=\"opacity: 1; stroke-width: 0px; fill: rgb(31, 119, 180); fill-opacity: 1;\"/><path class=\"point\" transform=\"translate(61.03,78.04)\" d=\"M3,0A3,3 0 1,1 0,-3A3,3 0 0,1 3,0Z\" style=\"opacity: 1; stroke-width: 0px; fill: rgb(31, 119, 180); fill-opacity: 1;\"/><path class=\"point\" transform=\"translate(38.95,101.18)\" d=\"M3,0A3,3 0 1,1 0,-3A3,3 0 0,1 3,0Z\" style=\"opacity: 1; stroke-width: 0px; fill: rgb(31, 119, 180); fill-opacity: 1;\"/><path class=\"point\" transform=\"translate(169.63,36.53)\" d=\"M3,0A3,3 0 1,1 0,-3A3,3 0 0,1 3,0Z\" style=\"opacity: 1; stroke-width: 0px; fill: rgb(31, 119, 180); fill-opacity: 1;\"/><path class=\"point\" transform=\"translate(57.61,92.17)\" d=\"M3,0A3,3 0 1,1 0,-3A3,3 0 0,1 3,0Z\" style=\"opacity: 1; stroke-width: 0px; fill: rgb(31, 119, 180); fill-opacity: 1;\"/><path class=\"point\" transform=\"translate(142.1,55.22)\" d=\"M3,0A3,3 0 1,1 0,-3A3,3 0 0,1 3,0Z\" style=\"opacity: 1; stroke-width: 0px; fill: rgb(31, 119, 180); fill-opacity: 1;\"/><path class=\"point\" transform=\"translate(76.45,87.27)\" d=\"M3,0A3,3 0 1,1 0,-3A3,3 0 0,1 3,0Z\" style=\"opacity: 1; stroke-width: 0px; fill: rgb(31, 119, 180); fill-opacity: 1;\"/><path class=\"point\" transform=\"translate(38.89,100.33)\" d=\"M3,0A3,3 0 1,1 0,-3A3,3 0 0,1 3,0Z\" style=\"opacity: 1; stroke-width: 0px; fill: rgb(31, 119, 180); fill-opacity: 1;\"/><path class=\"point\" transform=\"translate(58.37,92.46)\" d=\"M3,0A3,3 0 1,1 0,-3A3,3 0 0,1 3,0Z\" style=\"opacity: 1; stroke-width: 0px; fill: rgb(31, 119, 180); fill-opacity: 1;\"/><path class=\"point\" transform=\"translate(47.24,89.25)\" d=\"M3,0A3,3 0 1,1 0,-3A3,3 0 0,1 3,0Z\" style=\"opacity: 1; stroke-width: 0px; fill: rgb(31, 119, 180); fill-opacity: 1;\"/><path class=\"point\" transform=\"translate(65.32,86.61)\" d=\"M3,0A3,3 0 1,1 0,-3A3,3 0 0,1 3,0Z\" style=\"opacity: 1; stroke-width: 0px; fill: rgb(31, 119, 180); fill-opacity: 1;\"/><path class=\"point\" transform=\"translate(100.09,58.48)\" d=\"M3,0A3,3 0 1,1 0,-3A3,3 0 0,1 3,0Z\" style=\"opacity: 1; stroke-width: 0px; fill: rgb(31, 119, 180); fill-opacity: 1;\"/><path class=\"point\" transform=\"translate(68.1,81.16)\" d=\"M3,0A3,3 0 1,1 0,-3A3,3 0 0,1 3,0Z\" style=\"opacity: 1; stroke-width: 0px; fill: rgb(31, 119, 180); fill-opacity: 1;\"/><path class=\"point\" transform=\"translate(66.71,82.93)\" d=\"M3,0A3,3 0 1,1 0,-3A3,3 0 0,1 3,0Z\" style=\"opacity: 1; stroke-width: 0px; fill: rgb(31, 119, 180); fill-opacity: 1;\"/><path class=\"point\" transform=\"translate(137.64,41.47)\" d=\"M3,0A3,3 0 1,1 0,-3A3,3 0 0,1 3,0Z\" style=\"opacity: 1; stroke-width: 0px; fill: rgb(31, 119, 180); fill-opacity: 1;\"/><path class=\"point\" transform=\"translate(41.68,78.04)\" d=\"M3,0A3,3 0 1,1 0,-3A3,3 0 0,1 3,0Z\" style=\"opacity: 1; stroke-width: 0px; fill: rgb(31, 119, 180); fill-opacity: 1;\"/><path class=\"point\" transform=\"translate(15.25,101.18)\" d=\"M3,0A3,3 0 1,1 0,-3A3,3 0 0,1 3,0Z\" style=\"opacity: 1; stroke-width: 0px; fill: rgb(31, 119, 180); fill-opacity: 1;\"/><path class=\"point\" transform=\"translate(41.68,100.33)\" d=\"M3,0A3,3 0 1,1 0,-3A3,3 0 0,1 3,0Z\" style=\"opacity: 1; stroke-width: 0px; fill: rgb(31, 119, 180); fill-opacity: 1;\"/><path class=\"point\" transform=\"translate(109.82,58.48)\" d=\"M3,0A3,3 0 1,1 0,-3A3,3 0 0,1 3,0Z\" style=\"opacity: 1; stroke-width: 0px; fill: rgb(31, 119, 180); fill-opacity: 1;\"/><path class=\"point\" transform=\"translate(76.45,81.16)\" d=\"M3,0A3,3 0 1,1 0,-3A3,3 0 0,1 3,0Z\" style=\"opacity: 1; stroke-width: 0px; fill: rgb(31, 119, 180); fill-opacity: 1;\"/><path class=\"point\" transform=\"translate(44.46,78.04)\" d=\"M3,0A3,3 0 1,1 0,-3A3,3 0 0,1 3,0Z\" style=\"opacity: 1; stroke-width: 0px; fill: rgb(31, 119, 180); fill-opacity: 1;\"/></g><g class=\"text\"/></g></g></g><g class=\"overplot\"/><path class=\"xlines-above crisp\" d=\"M302.33000000000004,151.865H540\" style=\"fill: none; stroke-width: 1px; stroke: rgb(36, 36, 36); stroke-opacity: 1;\"/><path class=\"ylines-above crisp\" d=\"M302.83000000000004,30.00000000000003V151.365\" style=\"fill: none; stroke-width: 1px; stroke: rgb(36, 36, 36); stroke-opacity: 1;\"/><g class=\"overlines-above\"/><g class=\"xaxislayer-above\"><path class=\"x4tick ticks crisp\" d=\"M0,152.365v5\" transform=\"translate(345.01000000000005,0)\" style=\"stroke: rgb(68, 68, 68); stroke-opacity: 1; stroke-width: 1px;\"/><path class=\"x4tick ticks crisp\" d=\"M0,152.365v5\" transform=\"translate(414.54,0)\" style=\"stroke: rgb(68, 68, 68); stroke-opacity: 1; stroke-width: 1px;\"/><path class=\"x4tick ticks crisp\" d=\"M0,152.365v5\" transform=\"translate(484.08000000000004,0)\" style=\"stroke: rgb(68, 68, 68); stroke-opacity: 1; stroke-width: 1px;\"/></g><g class=\"yaxislayer-above\"><path class=\"y4tick ticks crisp\" d=\"M302.33000000000004,0h-5\" transform=\"translate(0,123.28000000000003)\" style=\"stroke: rgb(68, 68, 68); stroke-opacity: 1; stroke-width: 1px;\"/><path class=\"y4tick ticks crisp\" d=\"M302.33000000000004,0h-5\" transform=\"translate(0,89.79000000000002)\" style=\"stroke: rgb(68, 68, 68); stroke-opacity: 1; stroke-width: 1px;\"/><path class=\"y4tick ticks crisp\" d=\"M302.33000000000004,0h-5\" transform=\"translate(0,56.300000000000026)\" style=\"stroke: rgb(68, 68, 68); stroke-opacity: 1; stroke-width: 1px;\"/></g><g class=\"overaxes-above\"/></g></g><g class=\"polarlayer\"/><g class=\"smithlayer\"/><g class=\"ternarylayer\"/><g class=\"geolayer\"/><g class=\"funnelarealayer\"/><g class=\"pielayer\"/><g class=\"iciclelayer\"/><g class=\"treemaplayer\"/><g class=\"sunburstlayer\"/><g class=\"glimages\"/><defs id=\"topdefs-dc8a79\"><g class=\"clips\"/></defs><g class=\"layer-above\"><g class=\"imagelayer\"/><g class=\"shapelayer\"/></g><g class=\"infolayer\"><g class=\"g-gtitle\"/><g class=\"g-xtitle\"><text class=\"xtitle\" x=\"175.33499999999998\" y=\"339.70625\" text-anchor=\"middle\" style=\"font-family: 'Open Sans', verdana, arial, sans-serif; font-size: 14px; fill: rgb(36, 36, 36); opacity: 1; font-weight: normal; white-space: pre;\">AQS PM2.5</text></g><g class=\"g-x2title\"><text class=\"x2title\" x=\"421.665\" y=\"339.70625\" text-anchor=\"middle\" style=\"font-family: 'Open Sans', verdana, arial, sans-serif; font-size: 14px; fill: rgb(36, 36, 36); opacity: 1; font-weight: normal; white-space: pre;\">AQS PM2.5</text></g><g class=\"g-x3title\"/><g class=\"g-x4title\"/><g class=\"g-ytitle\" transform=\"translate(4.9296875,0)\"><text class=\"ytitle\" transform=\"rotate(-90,10.075000000000003,230.31750000000002)\" x=\"10.075000000000003\" y=\"230.31750000000002\" text-anchor=\"middle\" style=\"font-family: 'Open Sans', verdana, arial, sans-serif; font-size: 14px; fill: rgb(36, 36, 36); opacity: 1; font-weight: normal; white-space: pre;\">PurpleAir PM2.5</text></g><g class=\"g-y2title\"/><g class=\"g-y3title\" transform=\"translate(4.935546875,0)\"><text class=\"y3title\" transform=\"rotate(-90,10.075000000000003,90.68250000000003)\" x=\"10.075000000000003\" y=\"90.68250000000003\" text-anchor=\"middle\" style=\"font-family: 'Open Sans', verdana, arial, sans-serif; font-size: 14px; fill: rgb(36, 36, 36); opacity: 1; font-weight: normal; white-space: pre;\">PurpleAir PM2.5</text></g><g class=\"g-y4title\"/><g class=\"annotation\" data-index=\"0\" style=\"opacity: 1;\"><g class=\"annotation-text-g\" transform=\"rotate(0,175.33499999999998,159.13500000000002)\"><g class=\"cursor-pointer\" transform=\"translate(130,149)\"><rect class=\"bg\" x=\"0.5\" y=\"0.5\" width=\"90\" height=\"20\" style=\"stroke-width: 1px; stroke: rgb(0, 0, 0); stroke-opacity: 0; fill: rgb(0, 0, 0); fill-opacity: 0;\"/><text class=\"annotation-text\" text-anchor=\"middle\" x=\"45.484375\" y=\"15\" style=\"font-family: 'Open Sans', verdana, arial, sans-serif; font-size: 12px; fill: rgb(36, 36, 36); fill-opacity: 1; white-space: pre;\">facet_col=50-55</text></g></g></g><g class=\"annotation\" data-index=\"1\" style=\"opacity: 1;\"><g class=\"annotation-text-g\" transform=\"rotate(0,421.665,159.13500000000002)\"><g class=\"cursor-pointer\" transform=\"translate(382,149)\"><rect class=\"bg\" x=\"0.5\" y=\"0.5\" width=\"79\" height=\"20\" style=\"stroke-width: 1px; stroke: rgb(0, 0, 0); stroke-opacity: 0; fill: rgb(0, 0, 0); fill-opacity: 0;\"/><text class=\"annotation-text\" text-anchor=\"middle\" x=\"40.125\" y=\"15\" style=\"font-family: 'Open Sans', verdana, arial, sans-serif; font-size: 12px; fill: rgb(36, 36, 36); fill-opacity: 1; white-space: pre;\">facet_col=&#60;50</text></g></g></g><g class=\"annotation\" data-index=\"2\" style=\"opacity: 1;\"><g class=\"annotation-text-g\" transform=\"rotate(0,175.33499999999998,19.500000000000025)\"><g class=\"cursor-pointer\" transform=\"translate(130,9)\"><rect class=\"bg\" x=\"0.5\" y=\"0.5\" width=\"90\" height=\"20\" style=\"stroke-width: 1px; stroke: rgb(0, 0, 0); stroke-opacity: 0; fill: rgb(0, 0, 0); fill-opacity: 0;\"/><text class=\"annotation-text\" text-anchor=\"middle\" x=\"45.484375\" y=\"15\" style=\"font-family: 'Open Sans', verdana, arial, sans-serif; font-size: 12px; fill: rgb(36, 36, 36); fill-opacity: 1; white-space: pre;\">facet_col=55-60</text></g></g></g><g class=\"annotation\" data-index=\"3\" style=\"opacity: 1;\"><g class=\"annotation-text-g\" transform=\"rotate(0,421.665,19.50000000000003)\"><g class=\"cursor-pointer\" transform=\"translate(382,9)\"><rect class=\"bg\" x=\"0.5\" y=\"0.5\" width=\"79\" height=\"20\" style=\"stroke-width: 1px; stroke: rgb(0, 0, 0); stroke-opacity: 0; fill: rgb(0, 0, 0); fill-opacity: 0;\"/><text class=\"annotation-text\" text-anchor=\"middle\" x=\"40.125\" y=\"15\" style=\"font-family: 'Open Sans', verdana, arial, sans-serif; font-size: 12px; fill: rgb(36, 36, 36); fill-opacity: 1; white-space: pre;\">facet_col=>60</text></g></g></g></g></svg>"
      ]
     },
     "metadata": {},
     "output_type": "display_data"
    }
   ],
   "source": [
    "fig = px.scatter(GA, x='pm25aqs', y='pm25pa', \n",
    "                 facet_col=rh_cat, facet_col_wrap=2,\n",
    "                 labels={'pm25aqs':'AQS PM2.5', 'pm25pa':'PurpleAir PM2.5'},\n",
    "                 width=550, height=350)\n",
    "\n",
    "fig.update_layout(margin=dict(t=30))\n",
    "fig.show()"
   ]
  },
  {
   "cell_type": "markdown",
   "metadata": {},
   "source": [
    "These four plots show a linear relationship between the two sources of air quality measurements. And the slopes appear to be similar, which means that a multiple linear model may fit well. It's difficult to see from these plots if the relative humidity affects the intercept much. \n",
    "\n",
    "We also want to examine the pairwise scatterplots between the three features. When two explanatory features are highly correlated, their coefficients in the model may be unstable.  While linear relationships between three or more features may not show up in pairwise plots, it's still a good idea to check:  "
   ]
  },
  {
   "cell_type": "code",
   "execution_count": 5,
   "metadata": {},
   "outputs": [
    {
     "data": {
      "application/vnd.plotly.v1+json": {
       "config": {
        "plotlyServerURL": "https://plot.ly"
       },
       "data": [
        {
         "diagonal": {
          "visible": false
         },
         "dimensions": [
          {
           "axis": {
            "matches": true
           },
           "label": "PurpleAir",
           "values": [
            16.189375,
            13.5925486111111,
            10.3005709238043,
            14.7903058742853,
            17.5458402777778,
            22.3404027777778,
            14.5682766385455,
            19.2110265363129,
            21.6665694444444,
            25.6766180555556,
            25.0813977746871,
            11.3800432917262,
            15.4784444444444,
            18.0511111111111,
            19.4304166666667,
            12.5601805555556,
            7.9386875,
            7.53994444444444,
            11.7940416666667,
            7.89279861111111,
            10.2429930555556,
            11.2007361111111,
            9.85393305439331,
            9.99670833333333,
            11.6666944444444,
            15.917875,
            16.7362361111111,
            15.1454861111111,
            29.1896527777778,
            27.2041041666667,
            20.2967430555556,
            17.6836180555556,
            20.7385694444444,
            22.4718680555556,
            20.6703203342618,
            8.64885416666667,
            10.8636319444444,
            10.4440833333333,
            9.15297222222222,
            11.8642222222222,
            14.5964812239221,
            17.2498194444444,
            19.6090347222222,
            28.7283101529903,
            23.1521736111111,
            23.2944652777778,
            31.2008680555556,
            34.2497529693147,
            34.9209166666667,
            23.6401180555556,
            17.830875,
            8.04743055555556,
            8.51965972222222,
            7.42860416666667,
            10.0599235048679,
            11.9909027777778,
            13.4507293598362,
            13.4541805555556,
            9.77823119777159,
            20.3900555555556,
            6.38982638888889,
            12.9443611111111,
            13.6182847222222,
            7.56710416666667,
            4.54415972222222,
            13.5492569444444,
            13.0892230794421,
            25.4701458333333,
            14.5480216736208,
            7.63855354659249,
            12.0913333333333,
            18.2288550724638,
            12.3139733333333,
            14.8651736111111,
            18.7000486111111,
            24.6267385257302,
            26.9433888888889,
            13.0367696629213,
            13.5520694444444,
            23.3369027777778,
            25.8159791666667,
            10.3297708333333,
            8.49286111111111,
            16.6307152777778,
            21.3630528511822,
            19.8465763888889,
            13.103125,
            18.6737222222222,
            22.3404027777778,
            14.5682766385455,
            19.2110265363129,
            21.6665694444444,
            25.6766180555556,
            25.0813977746871,
            11.3800432917262,
            15.4784444444444,
            18.0511111111111,
            19.4304166666667,
            12.5601805555556,
            7.9386875,
            7.53994444444444,
            11.7940416666667,
            7.89279861111111,
            10.2429930555556,
            11.2007361111111,
            9.85393305439331,
            9.99670833333333,
            11.6666944444444,
            15.917875,
            16.7362361111111,
            15.1454861111111,
            29.1896527777778,
            27.2041041666667,
            20.2967430555556,
            17.6836180555556,
            20.7385694444444,
            22.4718680555556,
            20.6703203342618,
            8.64885416666667,
            10.8636319444444,
            10.4440833333333,
            9.15297222222222,
            11.8642222222222,
            14.5964812239221,
            17.2498194444444,
            19.6090347222222,
            28.7283101529903,
            23.1521736111111,
            23.2944652777778,
            31.2008680555556,
            34.2497529693147,
            34.9209166666667,
            23.6401180555556,
            17.830875,
            8.04743055555556,
            8.51965972222222,
            7.42860416666667,
            10.0599235048679,
            11.9909027777778,
            13.4507293598362,
            13.4541805555556,
            9.77823119777159,
            20.3900555555556,
            6.38982638888889,
            12.9443611111111,
            13.6182847222222,
            7.56710416666667,
            4.54415972222222,
            13.5492569444444,
            13.0892230794421,
            25.4701458333333,
            14.5480216736208,
            7.63855354659249,
            10.3005709238043,
            22.3404027777778,
            19.2110265363129,
            25.0813977746871,
            15.4784444444444,
            12.5601805555556,
            7.89279861111111,
            9.85393305439331,
            15.917875,
            29.1896527777778,
            20.6703203342618,
            10.4440833333333,
            9.15297222222222,
            19.6090347222222,
            23.2944652777778,
            34.9209166666667,
            8.04743055555556,
            10.0599235048679,
            13.4541805555556,
            20.3900555555556,
            12.9443611111111,
            13.6182847222222,
            14.5480216736208
           ]
          },
          {
           "axis": {
            "matches": true
           },
           "label": "AQS",
           "values": [
            8.645833,
            7.704167,
            6.3,
            8.025,
            9.441667,
            11.745833,
            8.9125,
            9.754167,
            11.020833,
            11.679167,
            11.808333,
            6.686957,
            8.604167,
            10.125,
            10.395833,
            7.478261,
            5.433333,
            5.504167,
            6.9625,
            5.629167,
            6.15,
            6.366667,
            7.278261,
            6.975,
            7.833333,
            9.533333,
            9.759091,
            8.8875,
            15.454167,
            14.845833,
            10.4,
            9.854167,
            11.454167,
            12.783333,
            11.520833,
            6.85,
            7.929167,
            7.866667,
            7.408333,
            8.579167,
            9.4875,
            10.475,
            11.275,
            13.995833,
            11.733333,
            12.83913,
            15.779167,
            16.995833,
            17.625,
            13.658333,
            10.782609,
            7.65,
            7.133333,
            5.741667,
            6,
            7.495833,
            8.295833,
            8.866667,
            6.3,
            8.566667,
            5.0375,
            6.804167,
            8.15,
            5.479167,
            4.304167,
            7.725,
            7.9625,
            11.445833,
            6.391667,
            4.804167,
            7.2,
            10.708333,
            7.2875,
            9.516667,
            10.833333,
            13.870833,
            14.2,
            8.156522,
            9.345833,
            13.5125,
            13.9375,
            6.145833,
            6.295833,
            10.826087,
            12.220833,
            10.854167,
            8.979167,
            9.854167,
            11.2,
            8.5,
            11,
            11.5,
            12.9,
            12.5,
            7,
            9.5,
            10.4,
            10.4,
            7.9,
            5.1,
            6.5,
            7.5,
            4.8,
            6.2,
            5.4,
            5.9,
            6.6,
            7.2,
            8.9,
            9.3,
            8.3,
            14.7,
            14.2,
            10.1,
            9.3,
            12.1,
            13.1,
            11.4,
            6.9,
            7.6,
            7.8,
            7.1,
            9.3,
            8.5,
            10,
            10.1,
            12.1,
            9.5,
            12,
            13.5,
            15.8,
            16.3,
            12.2,
            9.5,
            5.4,
            5.8,
            5.7,
            4.2,
            6.7,
            8,
            8.6,
            5.9,
            9.2,
            4.2,
            6.3,
            6.9,
            4.4,
            4.3,
            7.8,
            6.8,
            11.9,
            5,
            3.1,
            5.9,
            11.3,
            11.5,
            12.3,
            9.5,
            7.7,
            5,
            5.9,
            9.1,
            14.7,
            11.9,
            8.1,
            7.8,
            11.4,
            13.3,
            17.9,
            6.8,
            4.5,
            8.9,
            9.9,
            6.3,
            7.5,
            5.2
           ]
          },
          {
           "axis": {
            "matches": true
           },
           "label": "Humidity",
           "values": [
            59.5972222222222,
            56.4555555555556,
            59.0850767085077,
            62.1098748261474,
            57.2666666666667,
            53.7638888888889,
            51.2572298325723,
            58.7765363128492,
            56.8208333333333,
            55.0944444444444,
            52.7816411682893,
            55.9106317411402,
            49.9222222222222,
            50.1430555555556,
            52.2222222222222,
            56.5944444444444,
            53.2166666666667,
            54.2902777777778,
            62.1875,
            62.3041666666667,
            64.5458333333333,
            67.5361111111111,
            55.0962343096234,
            49.6986111111111,
            51.4472222222222,
            55.2611111111111,
            57.7972222222222,
            53.6111111111111,
            51.2388888888889,
            53.5194444444444,
            57.8472222222222,
            56.3041666666667,
            51.5694444444444,
            48.9152777777778,
            53.6183844011142,
            43.5680555555556,
            45.8680555555556,
            49.9222222222222,
            50.8625,
            49.8805555555556,
            50.5229485396384,
            51.0111111111111,
            49.9194444444444,
            56.0611961057024,
            58.5625,
            55.0986111111111,
            54.5152777777778,
            53.7969401947149,
            51.2541666666667,
            48.3638888888889,
            56.5569444444444,
            58.5736111111111,
            57.6027777777778,
            57.0902777777778,
            57.6968011126565,
            60.2375,
            55.3616133518776,
            52.2083333333333,
            55.2228412256267,
            67.825,
            49.3777777777778,
            54.2916666666667,
            63.9388888888889,
            54.0527777777778,
            50.8611111111111,
            57.2472222222222,
            62.8543689320388,
            67.3763888888889,
            76.9694019471488,
            70.4436717663421,
            52.9111111111111,
            53.5492753623188,
            53.964,
            55.2694444444444,
            56.4625,
            58.3699582753825,
            64.1097222222222,
            58.3932584269663,
            54.2333333333333,
            56.4222222222222,
            56.9847222222222,
            60.1041666666667,
            44.4388888888889,
            48.7541666666667,
            70.105702364395,
            51.4,
            50.3527777777778,
            49.5055555555556,
            53.7638888888889,
            51.2572298325723,
            58.7765363128492,
            56.8208333333333,
            55.0944444444444,
            52.7816411682893,
            55.9106317411402,
            49.9222222222222,
            50.1430555555556,
            52.2222222222222,
            56.5944444444444,
            53.2166666666667,
            54.2902777777778,
            62.1875,
            62.3041666666667,
            64.5458333333333,
            67.5361111111111,
            55.0962343096234,
            49.6986111111111,
            51.4472222222222,
            55.2611111111111,
            57.7972222222222,
            53.6111111111111,
            51.2388888888889,
            53.5194444444444,
            57.8472222222222,
            56.3041666666667,
            51.5694444444444,
            48.9152777777778,
            53.6183844011142,
            43.5680555555556,
            45.8680555555556,
            49.9222222222222,
            50.8625,
            49.8805555555556,
            50.5229485396384,
            51.0111111111111,
            49.9194444444444,
            56.0611961057024,
            58.5625,
            55.0986111111111,
            54.5152777777778,
            53.7969401947149,
            51.2541666666667,
            48.3638888888889,
            56.5569444444444,
            58.5736111111111,
            57.6027777777778,
            57.0902777777778,
            57.6968011126565,
            60.2375,
            55.3616133518776,
            52.2083333333333,
            55.2228412256267,
            67.825,
            49.3777777777778,
            54.2916666666667,
            63.9388888888889,
            54.0527777777778,
            50.8611111111111,
            57.2472222222222,
            62.8543689320388,
            67.3763888888889,
            76.9694019471488,
            70.4436717663421,
            59.0850767085077,
            53.7638888888889,
            58.7765363128492,
            52.7816411682893,
            49.9222222222222,
            56.5944444444444,
            62.3041666666667,
            55.0962343096234,
            55.2611111111111,
            51.2388888888889,
            53.6183844011142,
            49.9222222222222,
            50.8625,
            49.9194444444444,
            55.0986111111111,
            51.2541666666667,
            58.5736111111111,
            57.6968011126565,
            52.2083333333333,
            67.825,
            54.2916666666667,
            63.9388888888889,
            76.9694019471488
           ]
          }
         ],
         "hovertemplate": "%{xaxis.title.text}=%{x}<br>%{yaxis.title.text}=%{y}<extra></extra>",
         "legendgroup": "",
         "marker": {
          "color": "#1F77B4",
          "symbol": "circle"
         },
         "name": "",
         "showlegend": false,
         "type": "splom"
        }
       ],
       "layout": {
        "dragmode": "select",
        "height": 400,
        "legend": {
         "tracegroupgap": 0
        },
        "template": {
         "data": {
          "bar": [
           {
            "error_x": {
             "color": "rgb(36,36,36)"
            },
            "error_y": {
             "color": "rgb(36,36,36)"
            },
            "marker": {
             "line": {
              "color": "white",
              "width": 0.5
             },
             "pattern": {
              "fillmode": "overlay",
              "size": 10,
              "solidity": 0.2
             }
            },
            "type": "bar"
           }
          ],
          "barpolar": [
           {
            "marker": {
             "line": {
              "color": "white",
              "width": 0.5
             },
             "pattern": {
              "fillmode": "overlay",
              "size": 10,
              "solidity": 0.2
             }
            },
            "type": "barpolar"
           }
          ],
          "carpet": [
           {
            "aaxis": {
             "endlinecolor": "rgb(36,36,36)",
             "gridcolor": "white",
             "linecolor": "white",
             "minorgridcolor": "white",
             "startlinecolor": "rgb(36,36,36)"
            },
            "baxis": {
             "endlinecolor": "rgb(36,36,36)",
             "gridcolor": "white",
             "linecolor": "white",
             "minorgridcolor": "white",
             "startlinecolor": "rgb(36,36,36)"
            },
            "type": "carpet"
           }
          ],
          "choropleth": [
           {
            "colorbar": {
             "outlinewidth": 1,
             "tickcolor": "rgb(36,36,36)",
             "ticks": "outside"
            },
            "type": "choropleth"
           }
          ],
          "contour": [
           {
            "colorbar": {
             "outlinewidth": 1,
             "tickcolor": "rgb(36,36,36)",
             "ticks": "outside"
            },
            "colorscale": [
             [
              0,
              "#440154"
             ],
             [
              0.1111111111111111,
              "#482878"
             ],
             [
              0.2222222222222222,
              "#3e4989"
             ],
             [
              0.3333333333333333,
              "#31688e"
             ],
             [
              0.4444444444444444,
              "#26828e"
             ],
             [
              0.5555555555555556,
              "#1f9e89"
             ],
             [
              0.6666666666666666,
              "#35b779"
             ],
             [
              0.7777777777777778,
              "#6ece58"
             ],
             [
              0.8888888888888888,
              "#b5de2b"
             ],
             [
              1,
              "#fde725"
             ]
            ],
            "type": "contour"
           }
          ],
          "contourcarpet": [
           {
            "colorbar": {
             "outlinewidth": 1,
             "tickcolor": "rgb(36,36,36)",
             "ticks": "outside"
            },
            "type": "contourcarpet"
           }
          ],
          "heatmap": [
           {
            "colorbar": {
             "outlinewidth": 1,
             "tickcolor": "rgb(36,36,36)",
             "ticks": "outside"
            },
            "colorscale": [
             [
              0,
              "#440154"
             ],
             [
              0.1111111111111111,
              "#482878"
             ],
             [
              0.2222222222222222,
              "#3e4989"
             ],
             [
              0.3333333333333333,
              "#31688e"
             ],
             [
              0.4444444444444444,
              "#26828e"
             ],
             [
              0.5555555555555556,
              "#1f9e89"
             ],
             [
              0.6666666666666666,
              "#35b779"
             ],
             [
              0.7777777777777778,
              "#6ece58"
             ],
             [
              0.8888888888888888,
              "#b5de2b"
             ],
             [
              1,
              "#fde725"
             ]
            ],
            "type": "heatmap"
           }
          ],
          "heatmapgl": [
           {
            "colorbar": {
             "outlinewidth": 1,
             "tickcolor": "rgb(36,36,36)",
             "ticks": "outside"
            },
            "colorscale": [
             [
              0,
              "#440154"
             ],
             [
              0.1111111111111111,
              "#482878"
             ],
             [
              0.2222222222222222,
              "#3e4989"
             ],
             [
              0.3333333333333333,
              "#31688e"
             ],
             [
              0.4444444444444444,
              "#26828e"
             ],
             [
              0.5555555555555556,
              "#1f9e89"
             ],
             [
              0.6666666666666666,
              "#35b779"
             ],
             [
              0.7777777777777778,
              "#6ece58"
             ],
             [
              0.8888888888888888,
              "#b5de2b"
             ],
             [
              1,
              "#fde725"
             ]
            ],
            "type": "heatmapgl"
           }
          ],
          "histogram": [
           {
            "marker": {
             "line": {
              "color": "white",
              "width": 0.6
             }
            },
            "type": "histogram"
           }
          ],
          "histogram2d": [
           {
            "colorbar": {
             "outlinewidth": 1,
             "tickcolor": "rgb(36,36,36)",
             "ticks": "outside"
            },
            "colorscale": [
             [
              0,
              "#440154"
             ],
             [
              0.1111111111111111,
              "#482878"
             ],
             [
              0.2222222222222222,
              "#3e4989"
             ],
             [
              0.3333333333333333,
              "#31688e"
             ],
             [
              0.4444444444444444,
              "#26828e"
             ],
             [
              0.5555555555555556,
              "#1f9e89"
             ],
             [
              0.6666666666666666,
              "#35b779"
             ],
             [
              0.7777777777777778,
              "#6ece58"
             ],
             [
              0.8888888888888888,
              "#b5de2b"
             ],
             [
              1,
              "#fde725"
             ]
            ],
            "type": "histogram2d"
           }
          ],
          "histogram2dcontour": [
           {
            "colorbar": {
             "outlinewidth": 1,
             "tickcolor": "rgb(36,36,36)",
             "ticks": "outside"
            },
            "colorscale": [
             [
              0,
              "#440154"
             ],
             [
              0.1111111111111111,
              "#482878"
             ],
             [
              0.2222222222222222,
              "#3e4989"
             ],
             [
              0.3333333333333333,
              "#31688e"
             ],
             [
              0.4444444444444444,
              "#26828e"
             ],
             [
              0.5555555555555556,
              "#1f9e89"
             ],
             [
              0.6666666666666666,
              "#35b779"
             ],
             [
              0.7777777777777778,
              "#6ece58"
             ],
             [
              0.8888888888888888,
              "#b5de2b"
             ],
             [
              1,
              "#fde725"
             ]
            ],
            "type": "histogram2dcontour"
           }
          ],
          "mesh3d": [
           {
            "colorbar": {
             "outlinewidth": 1,
             "tickcolor": "rgb(36,36,36)",
             "ticks": "outside"
            },
            "type": "mesh3d"
           }
          ],
          "parcoords": [
           {
            "line": {
             "colorbar": {
              "outlinewidth": 1,
              "tickcolor": "rgb(36,36,36)",
              "ticks": "outside"
             }
            },
            "type": "parcoords"
           }
          ],
          "pie": [
           {
            "automargin": true,
            "type": "pie"
           }
          ],
          "scatter": [
           {
            "marker": {
             "colorbar": {
              "outlinewidth": 1,
              "tickcolor": "rgb(36,36,36)",
              "ticks": "outside"
             }
            },
            "type": "scatter"
           }
          ],
          "scatter3d": [
           {
            "line": {
             "colorbar": {
              "outlinewidth": 1,
              "tickcolor": "rgb(36,36,36)",
              "ticks": "outside"
             }
            },
            "marker": {
             "colorbar": {
              "outlinewidth": 1,
              "tickcolor": "rgb(36,36,36)",
              "ticks": "outside"
             }
            },
            "type": "scatter3d"
           }
          ],
          "scattercarpet": [
           {
            "marker": {
             "colorbar": {
              "outlinewidth": 1,
              "tickcolor": "rgb(36,36,36)",
              "ticks": "outside"
             }
            },
            "type": "scattercarpet"
           }
          ],
          "scattergeo": [
           {
            "marker": {
             "colorbar": {
              "outlinewidth": 1,
              "tickcolor": "rgb(36,36,36)",
              "ticks": "outside"
             }
            },
            "type": "scattergeo"
           }
          ],
          "scattergl": [
           {
            "marker": {
             "colorbar": {
              "outlinewidth": 1,
              "tickcolor": "rgb(36,36,36)",
              "ticks": "outside"
             }
            },
            "type": "scattergl"
           }
          ],
          "scattermapbox": [
           {
            "marker": {
             "colorbar": {
              "outlinewidth": 1,
              "tickcolor": "rgb(36,36,36)",
              "ticks": "outside"
             }
            },
            "type": "scattermapbox"
           }
          ],
          "scatterpolar": [
           {
            "marker": {
             "colorbar": {
              "outlinewidth": 1,
              "tickcolor": "rgb(36,36,36)",
              "ticks": "outside"
             }
            },
            "type": "scatterpolar"
           }
          ],
          "scatterpolargl": [
           {
            "marker": {
             "colorbar": {
              "outlinewidth": 1,
              "tickcolor": "rgb(36,36,36)",
              "ticks": "outside"
             }
            },
            "type": "scatterpolargl"
           }
          ],
          "scatterternary": [
           {
            "marker": {
             "colorbar": {
              "outlinewidth": 1,
              "tickcolor": "rgb(36,36,36)",
              "ticks": "outside"
             }
            },
            "type": "scatterternary"
           }
          ],
          "surface": [
           {
            "colorbar": {
             "outlinewidth": 1,
             "tickcolor": "rgb(36,36,36)",
             "ticks": "outside"
            },
            "colorscale": [
             [
              0,
              "#440154"
             ],
             [
              0.1111111111111111,
              "#482878"
             ],
             [
              0.2222222222222222,
              "#3e4989"
             ],
             [
              0.3333333333333333,
              "#31688e"
             ],
             [
              0.4444444444444444,
              "#26828e"
             ],
             [
              0.5555555555555556,
              "#1f9e89"
             ],
             [
              0.6666666666666666,
              "#35b779"
             ],
             [
              0.7777777777777778,
              "#6ece58"
             ],
             [
              0.8888888888888888,
              "#b5de2b"
             ],
             [
              1,
              "#fde725"
             ]
            ],
            "type": "surface"
           }
          ],
          "table": [
           {
            "cells": {
             "fill": {
              "color": "rgb(237,237,237)"
             },
             "line": {
              "color": "white"
             }
            },
            "header": {
             "fill": {
              "color": "rgb(217,217,217)"
             },
             "line": {
              "color": "white"
             }
            },
            "type": "table"
           }
          ]
         },
         "layout": {
          "annotationdefaults": {
           "arrowhead": 0,
           "arrowwidth": 1
          },
          "autosize": true,
          "autotypenumbers": "strict",
          "coloraxis": {
           "colorbar": {
            "outlinewidth": 1,
            "tickcolor": "rgb(36,36,36)",
            "ticks": "outside"
           }
          },
          "colorscale": {
           "diverging": [
            [
             0,
             "rgb(103,0,31)"
            ],
            [
             0.1,
             "rgb(178,24,43)"
            ],
            [
             0.2,
             "rgb(214,96,77)"
            ],
            [
             0.3,
             "rgb(244,165,130)"
            ],
            [
             0.4,
             "rgb(253,219,199)"
            ],
            [
             0.5,
             "rgb(247,247,247)"
            ],
            [
             0.6,
             "rgb(209,229,240)"
            ],
            [
             0.7,
             "rgb(146,197,222)"
            ],
            [
             0.8,
             "rgb(67,147,195)"
            ],
            [
             0.9,
             "rgb(33,102,172)"
            ],
            [
             1,
             "rgb(5,48,97)"
            ]
           ],
           "sequential": [
            [
             0,
             "#440154"
            ],
            [
             0.1111111111111111,
             "#482878"
            ],
            [
             0.2222222222222222,
             "#3e4989"
            ],
            [
             0.3333333333333333,
             "#31688e"
            ],
            [
             0.4444444444444444,
             "#26828e"
            ],
            [
             0.5555555555555556,
             "#1f9e89"
            ],
            [
             0.6666666666666666,
             "#35b779"
            ],
            [
             0.7777777777777778,
             "#6ece58"
            ],
            [
             0.8888888888888888,
             "#b5de2b"
            ],
            [
             1,
             "#fde725"
            ]
           ],
           "sequentialminus": [
            [
             0,
             "#440154"
            ],
            [
             0.1111111111111111,
             "#482878"
            ],
            [
             0.2222222222222222,
             "#3e4989"
            ],
            [
             0.3333333333333333,
             "#31688e"
            ],
            [
             0.4444444444444444,
             "#26828e"
            ],
            [
             0.5555555555555556,
             "#1f9e89"
            ],
            [
             0.6666666666666666,
             "#35b779"
            ],
            [
             0.7777777777777778,
             "#6ece58"
            ],
            [
             0.8888888888888888,
             "#b5de2b"
            ],
            [
             1,
             "#fde725"
            ]
           ]
          },
          "colorway": [
           "#1F77B4",
           "#FF7F0E",
           "#2CA02C",
           "#D62728",
           "#9467BD",
           "#8C564B",
           "#E377C2",
           "#7F7F7F",
           "#BCBD22",
           "#17BECF"
          ],
          "font": {
           "color": "rgb(36,36,36)"
          },
          "geo": {
           "bgcolor": "white",
           "lakecolor": "white",
           "landcolor": "white",
           "showlakes": true,
           "showland": true,
           "subunitcolor": "white"
          },
          "height": 250,
          "hoverlabel": {
           "align": "left"
          },
          "hovermode": "closest",
          "mapbox": {
           "style": "light"
          },
          "margin": {
           "b": 10,
           "l": 10,
           "r": 10,
           "t": 10
          },
          "paper_bgcolor": "white",
          "plot_bgcolor": "white",
          "polar": {
           "angularaxis": {
            "gridcolor": "rgb(232,232,232)",
            "linecolor": "rgb(36,36,36)",
            "showgrid": false,
            "showline": true,
            "ticks": "outside"
           },
           "bgcolor": "white",
           "radialaxis": {
            "gridcolor": "rgb(232,232,232)",
            "linecolor": "rgb(36,36,36)",
            "showgrid": false,
            "showline": true,
            "ticks": "outside"
           }
          },
          "scene": {
           "xaxis": {
            "backgroundcolor": "white",
            "gridcolor": "rgb(232,232,232)",
            "gridwidth": 2,
            "linecolor": "rgb(36,36,36)",
            "showbackground": true,
            "showgrid": false,
            "showline": true,
            "ticks": "outside",
            "zeroline": false,
            "zerolinecolor": "rgb(36,36,36)"
           },
           "yaxis": {
            "backgroundcolor": "white",
            "gridcolor": "rgb(232,232,232)",
            "gridwidth": 2,
            "linecolor": "rgb(36,36,36)",
            "showbackground": true,
            "showgrid": false,
            "showline": true,
            "ticks": "outside",
            "zeroline": false,
            "zerolinecolor": "rgb(36,36,36)"
           },
           "zaxis": {
            "backgroundcolor": "white",
            "gridcolor": "rgb(232,232,232)",
            "gridwidth": 2,
            "linecolor": "rgb(36,36,36)",
            "showbackground": true,
            "showgrid": false,
            "showline": true,
            "ticks": "outside",
            "zeroline": false,
            "zerolinecolor": "rgb(36,36,36)"
           }
          },
          "shapedefaults": {
           "fillcolor": "black",
           "line": {
            "width": 0
           },
           "opacity": 0.3
          },
          "ternary": {
           "aaxis": {
            "gridcolor": "rgb(232,232,232)",
            "linecolor": "rgb(36,36,36)",
            "showgrid": false,
            "showline": true,
            "ticks": "outside"
           },
           "baxis": {
            "gridcolor": "rgb(232,232,232)",
            "linecolor": "rgb(36,36,36)",
            "showgrid": false,
            "showline": true,
            "ticks": "outside"
           },
           "bgcolor": "white",
           "caxis": {
            "gridcolor": "rgb(232,232,232)",
            "linecolor": "rgb(36,36,36)",
            "showgrid": false,
            "showline": true,
            "ticks": "outside"
           }
          },
          "title": {
           "x": 0.5,
           "xanchor": "center"
          },
          "width": 350,
          "xaxis": {
           "automargin": true,
           "gridcolor": "rgb(232,232,232)",
           "linecolor": "rgb(36,36,36)",
           "showgrid": true,
           "showline": true,
           "ticks": "outside",
           "title": {
            "standoff": 15
           },
           "zeroline": false,
           "zerolinecolor": "rgb(36,36,36)"
          },
          "yaxis": {
           "automargin": true,
           "gridcolor": "rgb(232,232,232)",
           "linecolor": "rgb(36,36,36)",
           "showgrid": true,
           "showline": true,
           "ticks": "outside",
           "title": {
            "standoff": 15
           },
           "zeroline": false,
           "zerolinecolor": "rgb(36,36,36)"
          }
         }
        },
        "width": 550,
        "xaxis": {
         "autorange": true,
         "range": [
          1.3264117067214105,
          38.13866468216751
         ],
         "type": "linear"
        },
        "xaxis2": {
         "autorange": true,
         "range": [
          1.5322661330665333,
          19.467733866933465
         ],
         "type": "linear"
        },
        "xaxis3": {
         "autorange": true,
         "range": [
          40.029918938036914,
          80.50753856466748
         ],
         "type": "linear"
        },
        "yaxis": {
         "autorange": true,
         "range": [
          1.3264117067214105,
          38.13866468216751
         ],
         "type": "linear"
        },
        "yaxis2": {
         "autorange": true,
         "range": [
          1.5322661330665333,
          19.467733866933465
         ],
         "type": "linear"
        },
        "yaxis3": {
         "autorange": true,
         "range": [
          40.029918938036914,
          80.50753856466748
         ],
         "type": "linear"
        }
       }
      },
      "image/png": "[encoded data removed]",
      "image/svg+xml": [
       "<svg class=\"main-svg\" xmlns=\"http://www.w3.org/2000/svg\" xmlns:xlink=\"http://www.w3.org/1999/xlink\" width=\"550\" height=\"400\" style=\"\" viewBox=\"0 0 550 400\"><rect x=\"0\" y=\"0\" width=\"550\" height=\"400\" style=\"fill: rgb(255, 255, 255); fill-opacity: 1;\"/><defs id=\"defs-246fe9\"><g class=\"clips\"><clipPath id=\"clip246fe9xy2plot\" class=\"plotclip\"><rect width=\"148.3448275862069\" height=\"100.24137931034481\"/></clipPath><clipPath id=\"clip246fe9xy3plot\" class=\"plotclip\"><rect width=\"148.3448275862069\" height=\"100.24137931034483\"/></clipPath><clipPath id=\"clip246fe9x2yplot\" class=\"plotclip\"><rect width=\"148.34482758620686\" height=\"100.24137931034481\"/></clipPath><clipPath id=\"clip246fe9x2y3plot\" class=\"plotclip\"><rect width=\"148.34482758620686\" height=\"100.24137931034483\"/></clipPath><clipPath id=\"clip246fe9x3yplot\" class=\"plotclip\"><rect width=\"148.34482758620686\" height=\"100.24137931034481\"/></clipPath><clipPath id=\"clip246fe9x3y2plot\" class=\"plotclip\"><rect width=\"148.34482758620686\" height=\"100.24137931034481\"/></clipPath><clipPath class=\"axesclip\" id=\"clip246fe9x\"><rect x=\"56\" y=\"0\" width=\"148.3448275862069\" height=\"400\"/></clipPath><clipPath class=\"axesclip\" id=\"clip246fe9y\"><rect x=\"0\" y=\"18\" width=\"550\" height=\"100.24137931034481\"/></clipPath><clipPath class=\"axesclip\" id=\"clip246fe9xy\"><rect x=\"56\" y=\"18\" width=\"148.3448275862069\" height=\"100.24137931034481\"/></clipPath><clipPath class=\"axesclip\" id=\"clip246fe9y2\"><rect x=\"0\" y=\"129.3793103448276\" width=\"550\" height=\"100.24137931034481\"/></clipPath><clipPath class=\"axesclip\" id=\"clip246fe9xy2\"><rect x=\"56\" y=\"129.3793103448276\" width=\"148.3448275862069\" height=\"100.24137931034481\"/></clipPath><clipPath class=\"axesclip\" id=\"clip246fe9y3\"><rect x=\"0\" y=\"240.75862068965517\" width=\"550\" height=\"100.24137931034483\"/></clipPath><clipPath class=\"axesclip\" id=\"clip246fe9xy3\"><rect x=\"56\" y=\"240.75862068965517\" width=\"148.3448275862069\" height=\"100.24137931034483\"/></clipPath><clipPath class=\"axesclip\" id=\"clip246fe9x2\"><rect x=\"220.82758620689657\" y=\"0\" width=\"148.34482758620686\" height=\"400\"/></clipPath><clipPath class=\"axesclip\" id=\"clip246fe9x2y\"><rect x=\"220.82758620689657\" y=\"18\" width=\"148.34482758620686\" height=\"100.24137931034481\"/></clipPath><clipPath class=\"axesclip\" id=\"clip246fe9x2y2\"><rect x=\"220.82758620689657\" y=\"129.3793103448276\" width=\"148.34482758620686\" height=\"100.24137931034481\"/></clipPath><clipPath class=\"axesclip\" id=\"clip246fe9x2y3\"><rect x=\"220.82758620689657\" y=\"240.75862068965517\" width=\"148.34482758620686\" height=\"100.24137931034483\"/></clipPath><clipPath class=\"axesclip\" id=\"clip246fe9x3\"><rect x=\"385.65517241379314\" y=\"0\" width=\"148.34482758620686\" height=\"400\"/></clipPath><clipPath class=\"axesclip\" id=\"clip246fe9x3y\"><rect x=\"385.65517241379314\" y=\"18\" width=\"148.34482758620686\" height=\"100.24137931034481\"/></clipPath><clipPath class=\"axesclip\" id=\"clip246fe9x3y2\"><rect x=\"385.65517241379314\" y=\"129.3793103448276\" width=\"148.34482758620686\" height=\"100.24137931034481\"/></clipPath><clipPath class=\"axesclip\" id=\"clip246fe9x3y3\"><rect x=\"385.65517241379314\" y=\"240.75862068965517\" width=\"148.34482758620686\" height=\"100.24137931034483\"/></clipPath></g><g class=\"gradients\"/><g class=\"patterns\"/></defs><g class=\"bglayer\"/><g class=\"layer-below\"><g class=\"imagelayer\"/><g class=\"shapelayer\"/></g><g class=\"cartesianlayer\"><g class=\"subplot xy2\"><g class=\"layer-subplot\"><g class=\"shapelayer\"/><g class=\"imagelayer\"/></g><g class=\"gridlayer\"><g class=\"x\"><path class=\"xgrid crisp\" transform=\"translate(90.42,0)\" d=\"M0,129.3793103448276v100.24137931034481\" style=\"stroke: rgb(232, 232, 232); stroke-opacity: 1; stroke-width: 1px;\"/><path class=\"xgrid crisp\" transform=\"translate(131.26,0)\" d=\"M0,129.3793103448276v100.24137931034481\" style=\"stroke: rgb(232, 232, 232); stroke-opacity: 1; stroke-width: 1px;\"/><path class=\"xgrid crisp\" transform=\"translate(172.11,0)\" d=\"M0,129.3793103448276v100.24137931034481\" style=\"stroke: rgb(232, 232, 232); stroke-opacity: 1; stroke-width: 1px;\"/></g><g class=\"y2\"><path class=\"y2grid crisp\" transform=\"translate(0,210.6593103448276)\" d=\"M56,0h148.3448275862069\" style=\"stroke: rgb(232, 232, 232); stroke-opacity: 1; stroke-width: 1px;\"/><path class=\"y2grid crisp\" transform=\"translate(0,182.3293103448276)\" d=\"M56,0h148.3448275862069\" style=\"stroke: rgb(232, 232, 232); stroke-opacity: 1; stroke-width: 1px;\"/><path class=\"y2grid crisp\" transform=\"translate(0,154.00931034482758)\" d=\"M56,0h148.3448275862069\" style=\"stroke: rgb(232, 232, 232); stroke-opacity: 1; stroke-width: 1px;\"/></g></g><g class=\"zerolinelayer\"/><path class=\"xlines-below\"/><path class=\"ylines-below\"/><g class=\"overlines-below\"/><g class=\"xaxislayer-below\"/><g class=\"yaxislayer-below\"/><g class=\"overaxes-below\"/><g class=\"plot\" transform=\"translate(56,129.3793103448276)\" clip-path=\"url(#clip246fe9xy2plot)\"/><g class=\"overplot\"/><path class=\"xlines-above crisp\" d=\"M56,341.5h148.3448275862069\" style=\"fill: none; stroke-width: 1px; stroke: rgb(36, 36, 36); stroke-opacity: 1;\"/><path class=\"ylines-above crisp\" d=\"M56.5,129.3793103448276v100.24137931034481\" style=\"fill: none; stroke-width: 1px; stroke: rgb(36, 36, 36); stroke-opacity: 1;\"/><g class=\"overlines-above\"/><g class=\"xaxislayer-above\"><path class=\"xtick ticks crisp\" d=\"M0,342v5\" transform=\"translate(90.42,0)\" style=\"stroke: rgb(68, 68, 68); stroke-opacity: 1; stroke-width: 1px;\"/><path class=\"xtick ticks crisp\" d=\"M0,342v5\" transform=\"translate(131.26,0)\" style=\"stroke: rgb(68, 68, 68); stroke-opacity: 1; stroke-width: 1px;\"/><path class=\"xtick ticks crisp\" d=\"M0,342v5\" transform=\"translate(172.11,0)\" style=\"stroke: rgb(68, 68, 68); stroke-opacity: 1; stroke-width: 1px;\"/><g class=\"xtick\"><text text-anchor=\"middle\" x=\"0\" y=\"361.4\" transform=\"translate(90.42,0)\" style=\"font-family: 'Open Sans', verdana, arial, sans-serif; font-size: 12px; fill: rgb(36, 36, 36); fill-opacity: 1; white-space: pre; opacity: 1;\">10</text></g><g class=\"xtick\"><text text-anchor=\"middle\" x=\"0\" y=\"361.4\" style=\"font-family: 'Open Sans', verdana, arial, sans-serif; font-size: 12px; fill: rgb(36, 36, 36); fill-opacity: 1; white-space: pre; opacity: 1;\" transform=\"translate(131.26,0)\">20</text></g><g class=\"xtick\"><text text-anchor=\"middle\" x=\"0\" y=\"361.4\" style=\"font-family: 'Open Sans', verdana, arial, sans-serif; font-size: 12px; fill: rgb(36, 36, 36); fill-opacity: 1; white-space: pre; opacity: 1;\" transform=\"translate(172.11,0)\">30</text></g></g><g class=\"yaxislayer-above\"><path class=\"y2tick ticks crisp\" d=\"M56,0h-5\" transform=\"translate(0,210.6593103448276)\" style=\"stroke: rgb(68, 68, 68); stroke-opacity: 1; stroke-width: 1px;\"/><path class=\"y2tick ticks crisp\" d=\"M56,0h-5\" transform=\"translate(0,182.3293103448276)\" style=\"stroke: rgb(68, 68, 68); stroke-opacity: 1; stroke-width: 1px;\"/><path class=\"y2tick ticks crisp\" d=\"M56,0h-5\" transform=\"translate(0,154.00931034482758)\" style=\"stroke: rgb(68, 68, 68); stroke-opacity: 1; stroke-width: 1px;\"/><g class=\"y2tick\"><text text-anchor=\"end\" x=\"48.6\" y=\"4.199999999999999\" transform=\"translate(0,210.6593103448276)\" style=\"font-family: 'Open Sans', verdana, arial, sans-serif; font-size: 12px; fill: rgb(36, 36, 36); fill-opacity: 1; white-space: pre; opacity: 1;\">5</text></g><g class=\"y2tick\"><text text-anchor=\"end\" x=\"48.6\" y=\"4.199999999999999\" style=\"font-family: 'Open Sans', verdana, arial, sans-serif; font-size: 12px; fill: rgb(36, 36, 36); fill-opacity: 1; white-space: pre; opacity: 1;\" transform=\"translate(0,182.3293103448276)\">10</text></g><g class=\"y2tick\"><text text-anchor=\"end\" x=\"48.6\" y=\"4.199999999999999\" style=\"font-family: 'Open Sans', verdana, arial, sans-serif; font-size: 12px; fill: rgb(36, 36, 36); fill-opacity: 1; white-space: pre; opacity: 1;\" transform=\"translate(0,154.00931034482758)\">15</text></g></g><g class=\"overaxes-above\"/></g><g class=\"subplot xy3\"><g class=\"layer-subplot\"><g class=\"shapelayer\"/><g class=\"imagelayer\"/></g><g class=\"gridlayer\"><g class=\"x\"><path class=\"xgrid crisp\" transform=\"translate(90.42,0)\" d=\"M0,240.75862068965517v100.24137931034483\" style=\"stroke: rgb(232, 232, 232); stroke-opacity: 1; stroke-width: 1px;\"/><path class=\"xgrid crisp\" transform=\"translate(131.26,0)\" d=\"M0,240.75862068965517v100.24137931034483\" style=\"stroke: rgb(232, 232, 232); stroke-opacity: 1; stroke-width: 1px;\"/><path class=\"xgrid crisp\" transform=\"translate(172.11,0)\" d=\"M0,240.75862068965517v100.24137931034483\" style=\"stroke: rgb(232, 232, 232); stroke-opacity: 1; stroke-width: 1px;\"/></g><g class=\"y3\"><path class=\"y3grid crisp\" transform=\"translate(0,316.6586206896552)\" d=\"M56,0h148.3448275862069\" style=\"stroke: rgb(232, 232, 232); stroke-opacity: 1; stroke-width: 1px;\"/><path class=\"y3grid crisp\" transform=\"translate(0,291.5586206896552)\" d=\"M56,0h148.3448275862069\" style=\"stroke: rgb(232, 232, 232); stroke-opacity: 1; stroke-width: 1px;\"/><path class=\"y3grid crisp\" transform=\"translate(0,266.4486206896552)\" d=\"M56,0h148.3448275862069\" style=\"stroke: rgb(232, 232, 232); stroke-opacity: 1; stroke-width: 1px;\"/></g></g><g class=\"zerolinelayer\"/><path class=\"xlines-below\"/><path class=\"ylines-below\"/><g class=\"overlines-below\"/><g class=\"xaxislayer-below\"/><g class=\"yaxislayer-below\"/><g class=\"overaxes-below\"/><g class=\"plot\" transform=\"translate(56,240.75862068965517)\" clip-path=\"url(#clip246fe9xy3plot)\"/><g class=\"overplot\"/><path class=\"xlines-above crisp\" d=\"M0,0\" style=\"fill: none;\"/><path class=\"ylines-above crisp\" d=\"M56.5,240.75862068965517v100.24137931034483\" style=\"fill: none; stroke-width: 1px; stroke: rgb(36, 36, 36); stroke-opacity: 1;\"/><g class=\"overlines-above\"/><g class=\"xaxislayer-above\"/><g class=\"yaxislayer-above\"><path class=\"y3tick ticks crisp\" d=\"M56,0h-5\" transform=\"translate(0,316.6586206896552)\" style=\"stroke: rgb(68, 68, 68); stroke-opacity: 1; stroke-width: 1px;\"/><path class=\"y3tick ticks crisp\" d=\"M56,0h-5\" transform=\"translate(0,291.5586206896552)\" style=\"stroke: rgb(68, 68, 68); stroke-opacity: 1; stroke-width: 1px;\"/><path class=\"y3tick ticks crisp\" d=\"M56,0h-5\" transform=\"translate(0,266.4486206896552)\" style=\"stroke: rgb(68, 68, 68); stroke-opacity: 1; stroke-width: 1px;\"/><path class=\"y3tick ticks crisp\" d=\"M56,0h-5\" transform=\"translate(0,241.34862068965518)\" style=\"stroke: rgb(68, 68, 68); stroke-opacity: 1; stroke-width: 1px;\"/><g class=\"y3tick\"><text text-anchor=\"end\" x=\"48.6\" y=\"4.199999999999999\" transform=\"translate(0,316.6586206896552)\" style=\"font-family: 'Open Sans', verdana, arial, sans-serif; font-size: 12px; fill: rgb(36, 36, 36); fill-opacity: 1; white-space: pre; opacity: 1;\">50</text></g><g class=\"y3tick\"><text text-anchor=\"end\" x=\"48.6\" y=\"4.199999999999999\" style=\"font-family: 'Open Sans', verdana, arial, sans-serif; font-size: 12px; fill: rgb(36, 36, 36); fill-opacity: 1; white-space: pre; opacity: 1;\" transform=\"translate(0,291.5586206896552)\">60</text></g><g class=\"y3tick\"><text text-anchor=\"end\" x=\"48.6\" y=\"4.199999999999999\" style=\"font-family: 'Open Sans', verdana, arial, sans-serif; font-size: 12px; fill: rgb(36, 36, 36); fill-opacity: 1; white-space: pre; opacity: 1;\" transform=\"translate(0,266.4486206896552)\">70</text></g><g class=\"y3tick\"><text text-anchor=\"end\" x=\"48.6\" y=\"4.199999999999999\" style=\"font-family: 'Open Sans', verdana, arial, sans-serif; font-size: 12px; fill: rgb(36, 36, 36); fill-opacity: 1; white-space: pre; opacity: 1;\" transform=\"translate(0,241.34862068965518)\">80</text></g></g><g class=\"overaxes-above\"/></g><g class=\"subplot x2y\"><g class=\"layer-subplot\"><g class=\"shapelayer\"/><g class=\"imagelayer\"/></g><g class=\"gridlayer\"><g class=\"x2\"><path class=\"x2grid crisp\" transform=\"translate(248.88758620689657,0)\" d=\"M0,18v100.24137931034481\" style=\"stroke: rgb(232, 232, 232); stroke-opacity: 1; stroke-width: 1px;\"/><path class=\"x2grid crisp\" transform=\"translate(290.8075862068966,0)\" d=\"M0,18v100.24137931034481\" style=\"stroke: rgb(232, 232, 232); stroke-opacity: 1; stroke-width: 1px;\"/><path class=\"x2grid crisp\" transform=\"translate(332.7275862068966,0)\" d=\"M0,18v100.24137931034481\" style=\"stroke: rgb(232, 232, 232); stroke-opacity: 1; stroke-width: 1px;\"/></g><g class=\"y\"><path class=\"ygrid crisp\" transform=\"translate(0,94.98)\" d=\"M220.82758620689657,0h148.34482758620686\" style=\"stroke: rgb(232, 232, 232); stroke-opacity: 1; stroke-width: 1px;\"/><path class=\"ygrid crisp\" transform=\"translate(0,67.38)\" d=\"M220.82758620689657,0h148.34482758620686\" style=\"stroke: rgb(232, 232, 232); stroke-opacity: 1; stroke-width: 1px;\"/><path class=\"ygrid crisp\" transform=\"translate(0,39.78)\" d=\"M220.82758620689657,0h148.34482758620686\" style=\"stroke: rgb(232, 232, 232); stroke-opacity: 1; stroke-width: 1px;\"/></g></g><g class=\"zerolinelayer\"/><path class=\"xlines-below\"/><path class=\"ylines-below\"/><g class=\"overlines-below\"/><g class=\"xaxislayer-below\"/><g class=\"yaxislayer-below\"/><g class=\"overaxes-below\"/><g class=\"plot\" transform=\"translate(220.82758620689657,18)\" clip-path=\"url(#clip246fe9x2yplot)\"/><g class=\"overplot\"/><path class=\"xlines-above crisp\" d=\"M220.82758620689657,341.5h148.34482758620686\" style=\"fill: none; stroke-width: 1px; stroke: rgb(36, 36, 36); stroke-opacity: 1;\"/><path class=\"ylines-above crisp\" d=\"M56.5,18v100.24137931034481\" style=\"fill: none; stroke-width: 1px; stroke: rgb(36, 36, 36); stroke-opacity: 1;\"/><g class=\"overlines-above\"/><g class=\"xaxislayer-above\"><path class=\"x2tick ticks crisp\" d=\"M0,342v5\" transform=\"translate(248.88758620689657,0)\" style=\"stroke: rgb(68, 68, 68); stroke-opacity: 1; stroke-width: 1px;\"/><path class=\"x2tick ticks crisp\" d=\"M0,342v5\" transform=\"translate(290.8075862068966,0)\" style=\"stroke: rgb(68, 68, 68); stroke-opacity: 1; stroke-width: 1px;\"/><path class=\"x2tick ticks crisp\" d=\"M0,342v5\" transform=\"translate(332.7275862068966,0)\" style=\"stroke: rgb(68, 68, 68); stroke-opacity: 1; stroke-width: 1px;\"/><g class=\"x2tick\"><text text-anchor=\"middle\" x=\"0\" y=\"361.4\" transform=\"translate(248.88758620689657,0)\" style=\"font-family: 'Open Sans', verdana, arial, sans-serif; font-size: 12px; fill: rgb(36, 36, 36); fill-opacity: 1; white-space: pre; opacity: 1;\">5</text></g><g class=\"x2tick\"><text text-anchor=\"middle\" x=\"0\" y=\"361.4\" style=\"font-family: 'Open Sans', verdana, arial, sans-serif; font-size: 12px; fill: rgb(36, 36, 36); fill-opacity: 1; white-space: pre; opacity: 1;\" transform=\"translate(290.8075862068966,0)\">10</text></g><g class=\"x2tick\"><text text-anchor=\"middle\" x=\"0\" y=\"361.4\" style=\"font-family: 'Open Sans', verdana, arial, sans-serif; font-size: 12px; fill: rgb(36, 36, 36); fill-opacity: 1; white-space: pre; opacity: 1;\" transform=\"translate(332.7275862068966,0)\">15</text></g></g><g class=\"yaxislayer-above\"><path class=\"ytick ticks crisp\" d=\"M56,0h-5\" transform=\"translate(0,94.98)\" style=\"stroke: rgb(68, 68, 68); stroke-opacity: 1; stroke-width: 1px;\"/><path class=\"ytick ticks crisp\" d=\"M56,0h-5\" transform=\"translate(0,67.38)\" style=\"stroke: rgb(68, 68, 68); stroke-opacity: 1; stroke-width: 1px;\"/><path class=\"ytick ticks crisp\" d=\"M56,0h-5\" transform=\"translate(0,39.78)\" style=\"stroke: rgb(68, 68, 68); stroke-opacity: 1; stroke-width: 1px;\"/><g class=\"ytick\"><text text-anchor=\"end\" x=\"48.6\" y=\"4.199999999999999\" transform=\"translate(0,94.98)\" style=\"font-family: 'Open Sans', verdana, arial, sans-serif; font-size: 12px; fill: rgb(36, 36, 36); fill-opacity: 1; white-space: pre; opacity: 1;\">10</text></g><g class=\"ytick\"><text text-anchor=\"end\" x=\"48.6\" y=\"4.199999999999999\" style=\"font-family: 'Open Sans', verdana, arial, sans-serif; font-size: 12px; fill: rgb(36, 36, 36); fill-opacity: 1; white-space: pre; opacity: 1;\" transform=\"translate(0,67.38)\">20</text></g><g class=\"ytick\"><text text-anchor=\"end\" x=\"48.6\" y=\"4.199999999999999\" style=\"font-family: 'Open Sans', verdana, arial, sans-serif; font-size: 12px; fill: rgb(36, 36, 36); fill-opacity: 1; white-space: pre; opacity: 1;\" transform=\"translate(0,39.78)\">30</text></g></g><g class=\"overaxes-above\"/></g><g class=\"subplot x2y3\"><g class=\"layer-subplot\"><g class=\"shapelayer\"/><g class=\"imagelayer\"/></g><g class=\"gridlayer\"><g class=\"x2\"><path class=\"x2grid crisp\" transform=\"translate(248.88758620689657,0)\" d=\"M0,240.75862068965517v100.24137931034483\" style=\"stroke: rgb(232, 232, 232); stroke-opacity: 1; stroke-width: 1px;\"/><path class=\"x2grid crisp\" transform=\"translate(290.8075862068966,0)\" d=\"M0,240.75862068965517v100.24137931034483\" style=\"stroke: rgb(232, 232, 232); stroke-opacity: 1; stroke-width: 1px;\"/><path class=\"x2grid crisp\" transform=\"translate(332.7275862068966,0)\" d=\"M0,240.75862068965517v100.24137931034483\" style=\"stroke: rgb(232, 232, 232); stroke-opacity: 1; stroke-width: 1px;\"/></g><g class=\"y3\"><path class=\"y3grid crisp\" transform=\"translate(0,316.6586206896552)\" d=\"M220.82758620689657,0h148.34482758620686\" style=\"stroke: rgb(232, 232, 232); stroke-opacity: 1; stroke-width: 1px;\"/><path class=\"y3grid crisp\" transform=\"translate(0,291.5586206896552)\" d=\"M220.82758620689657,0h148.34482758620686\" style=\"stroke: rgb(232, 232, 232); stroke-opacity: 1; stroke-width: 1px;\"/><path class=\"y3grid crisp\" transform=\"translate(0,266.4486206896552)\" d=\"M220.82758620689657,0h148.34482758620686\" style=\"stroke: rgb(232, 232, 232); stroke-opacity: 1; stroke-width: 1px;\"/></g></g><g class=\"zerolinelayer\"/><path class=\"xlines-below\"/><path class=\"ylines-below\"/><g class=\"overlines-below\"/><g class=\"xaxislayer-below\"/><g class=\"yaxislayer-below\"/><g class=\"overaxes-below\"/><g class=\"plot\" transform=\"translate(220.82758620689657,240.75862068965517)\" clip-path=\"url(#clip246fe9x2y3plot)\"/><g class=\"overplot\"/><path class=\"xlines-above crisp\" d=\"M0,0\" style=\"fill: none;\"/><path class=\"ylines-above crisp\" d=\"M0,0\" style=\"fill: none;\"/><g class=\"overlines-above\"/><g class=\"xaxislayer-above\"/><g class=\"yaxislayer-above\"/><g class=\"overaxes-above\"/></g><g class=\"subplot x3y\"><g class=\"layer-subplot\"><g class=\"shapelayer\"/><g class=\"imagelayer\"/></g><g class=\"gridlayer\"><g class=\"x3\"><path class=\"x3grid crisp\" transform=\"translate(421.6851724137931,0)\" d=\"M0,18v100.24137931034481\" style=\"stroke: rgb(232, 232, 232); stroke-opacity: 1; stroke-width: 1px;\"/><path class=\"x3grid crisp\" transform=\"translate(458.82517241379315,0)\" d=\"M0,18v100.24137931034481\" style=\"stroke: rgb(232, 232, 232); stroke-opacity: 1; stroke-width: 1px;\"/><path class=\"x3grid crisp\" transform=\"translate(495.97517241379313,0)\" d=\"M0,18v100.24137931034481\" style=\"stroke: rgb(232, 232, 232); stroke-opacity: 1; stroke-width: 1px;\"/></g><g class=\"y\"><path class=\"ygrid crisp\" transform=\"translate(0,94.98)\" d=\"M385.65517241379314,0h148.34482758620686\" style=\"stroke: rgb(232, 232, 232); stroke-opacity: 1; stroke-width: 1px;\"/><path class=\"ygrid crisp\" transform=\"translate(0,67.38)\" d=\"M385.65517241379314,0h148.34482758620686\" style=\"stroke: rgb(232, 232, 232); stroke-opacity: 1; stroke-width: 1px;\"/><path class=\"ygrid crisp\" transform=\"translate(0,39.78)\" d=\"M385.65517241379314,0h148.34482758620686\" style=\"stroke: rgb(232, 232, 232); stroke-opacity: 1; stroke-width: 1px;\"/></g></g><g class=\"zerolinelayer\"/><path class=\"xlines-below\"/><path class=\"ylines-below\"/><g class=\"overlines-below\"/><g class=\"xaxislayer-below\"/><g class=\"yaxislayer-below\"/><g class=\"overaxes-below\"/><g class=\"plot\" transform=\"translate(385.65517241379314,18)\" clip-path=\"url(#clip246fe9x3yplot)\"/><g class=\"overplot\"/><path class=\"xlines-above crisp\" d=\"M385.65517241379314,341.5h148.34482758620686\" style=\"fill: none; stroke-width: 1px; stroke: rgb(36, 36, 36); stroke-opacity: 1;\"/><path class=\"ylines-above crisp\" d=\"M0,0\" style=\"fill: none;\"/><g class=\"overlines-above\"/><g class=\"xaxislayer-above\"><path class=\"x3tick ticks crisp\" d=\"M0,342v5\" transform=\"translate(421.6851724137931,0)\" style=\"stroke: rgb(68, 68, 68); stroke-opacity: 1; stroke-width: 1px;\"/><path class=\"x3tick ticks crisp\" d=\"M0,342v5\" transform=\"translate(458.82517241379315,0)\" style=\"stroke: rgb(68, 68, 68); stroke-opacity: 1; stroke-width: 1px;\"/><path class=\"x3tick ticks crisp\" d=\"M0,342v5\" transform=\"translate(495.97517241379313,0)\" style=\"stroke: rgb(68, 68, 68); stroke-opacity: 1; stroke-width: 1px;\"/><path class=\"x3tick ticks crisp\" d=\"M0,342v5\" transform=\"translate(533.1251724137932,0)\" style=\"stroke: rgb(68, 68, 68); stroke-opacity: 1; stroke-width: 1px;\"/><g class=\"x3tick\"><text text-anchor=\"middle\" x=\"0\" y=\"361.4\" transform=\"translate(421.6851724137931,0)\" style=\"font-family: 'Open Sans', verdana, arial, sans-serif; font-size: 12px; fill: rgb(36, 36, 36); fill-opacity: 1; white-space: pre; opacity: 1;\">50</text></g><g class=\"x3tick\"><text text-anchor=\"middle\" x=\"0\" y=\"361.4\" style=\"font-family: 'Open Sans', verdana, arial, sans-serif; font-size: 12px; fill: rgb(36, 36, 36); fill-opacity: 1; white-space: pre; opacity: 1;\" transform=\"translate(458.82517241379315,0)\">60</text></g><g class=\"x3tick\"><text text-anchor=\"middle\" x=\"0\" y=\"361.4\" style=\"font-family: 'Open Sans', verdana, arial, sans-serif; font-size: 12px; fill: rgb(36, 36, 36); fill-opacity: 1; white-space: pre; opacity: 1;\" transform=\"translate(495.97517241379313,0)\">70</text></g><g class=\"x3tick\"><text text-anchor=\"middle\" x=\"0\" y=\"361.4\" style=\"font-family: 'Open Sans', verdana, arial, sans-serif; font-size: 12px; fill: rgb(36, 36, 36); fill-opacity: 1; white-space: pre; opacity: 1;\" transform=\"translate(533.1251724137932,0)\">80</text></g></g><g class=\"yaxislayer-above\"/><g class=\"overaxes-above\"/></g><g class=\"subplot x3y2\"><g class=\"layer-subplot\"><g class=\"shapelayer\"/><g class=\"imagelayer\"/></g><g class=\"gridlayer\"><g class=\"x3\"><path class=\"x3grid crisp\" transform=\"translate(421.6851724137931,0)\" d=\"M0,129.3793103448276v100.24137931034481\" style=\"stroke: rgb(232, 232, 232); stroke-opacity: 1; stroke-width: 1px;\"/><path class=\"x3grid crisp\" transform=\"translate(458.82517241379315,0)\" d=\"M0,129.3793103448276v100.24137931034481\" style=\"stroke: rgb(232, 232, 232); stroke-opacity: 1; stroke-width: 1px;\"/><path class=\"x3grid crisp\" transform=\"translate(495.97517241379313,0)\" d=\"M0,129.3793103448276v100.24137931034481\" style=\"stroke: rgb(232, 232, 232); stroke-opacity: 1; stroke-width: 1px;\"/></g><g class=\"y2\"><path class=\"y2grid crisp\" transform=\"translate(0,210.6593103448276)\" d=\"M385.65517241379314,0h148.34482758620686\" style=\"stroke: rgb(232, 232, 232); stroke-opacity: 1; stroke-width: 1px;\"/><path class=\"y2grid crisp\" transform=\"translate(0,182.3293103448276)\" d=\"M385.65517241379314,0h148.34482758620686\" style=\"stroke: rgb(232, 232, 232); stroke-opacity: 1; stroke-width: 1px;\"/><path class=\"y2grid crisp\" transform=\"translate(0,154.00931034482758)\" d=\"M385.65517241379314,0h148.34482758620686\" style=\"stroke: rgb(232, 232, 232); stroke-opacity: 1; stroke-width: 1px;\"/></g></g><g class=\"zerolinelayer\"/><path class=\"xlines-below\"/><path class=\"ylines-below\"/><g class=\"overlines-below\"/><g class=\"xaxislayer-below\"/><g class=\"yaxislayer-below\"/><g class=\"overaxes-below\"/><g class=\"plot\" transform=\"translate(385.65517241379314,129.3793103448276)\" clip-path=\"url(#clip246fe9x3y2plot)\"/><g class=\"overplot\"/><path class=\"xlines-above crisp\" d=\"M0,0\" style=\"fill: none;\"/><path class=\"ylines-above crisp\" d=\"M0,0\" style=\"fill: none;\"/><g class=\"overlines-above\"/><g class=\"xaxislayer-above\"/><g class=\"yaxislayer-above\"/><g class=\"overaxes-above\"/></g></g><g class=\"polarlayer\"/><g class=\"smithlayer\"/><g class=\"ternarylayer\"/><g class=\"geolayer\"/><g class=\"funnelarealayer\"/><g class=\"pielayer\"/><g class=\"iciclelayer\"/><g class=\"treemaplayer\"/><g class=\"sunburstlayer\"/><g class=\"glimages\"><image xmlns=\"http://www.w3.org/2000/svg\" xlink:href=\"data:image/png;base64,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\" preserveAspectRatio=\"none\" x=\"0\" y=\"0\" width=\"550px\" height=\"400px\"/><image xmlns=\"http://www.w3.org/2000/svg\" xlink:href=\"data:image/png;base64,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\" preserveAspectRatio=\"none\" x=\"0\" y=\"0\" width=\"550px\" height=\"400px\"/></g><defs id=\"topdefs-246fe9\"><g class=\"clips\"/></defs><g class=\"layer-above\"><g class=\"imagelayer\"/><g class=\"shapelayer\"/></g><g class=\"infolayer\"><g class=\"g-gtitle\"/><g class=\"g-xtitle\"><text class=\"xtitle\" x=\"130.17241379310343\" y=\"389.70625\" text-anchor=\"middle\" style=\"font-family: 'Open Sans', verdana, arial, sans-serif; font-size: 14px; fill: rgb(36, 36, 36); opacity: 1; font-weight: normal; white-space: pre;\">PurpleAir</text></g><g class=\"g-x2title\"><text class=\"x2title\" x=\"295\" y=\"389.70625\" text-anchor=\"middle\" style=\"font-family: 'Open Sans', verdana, arial, sans-serif; font-size: 14px; fill: rgb(36, 36, 36); opacity: 1; font-weight: normal; white-space: pre;\">AQS</text></g><g class=\"g-x3title\"><text class=\"x3title\" x=\"459.82758620689657\" y=\"389.70625\" text-anchor=\"middle\" style=\"font-family: 'Open Sans', verdana, arial, sans-serif; font-size: 14px; fill: rgb(36, 36, 36); opacity: 1; font-weight: normal; white-space: pre;\">Humidity</text></g><g class=\"g-ytitle\" transform=\"translate(4.9365234375,0)\"><text class=\"ytitle\" transform=\"rotate(-90,10.075000000000003,68.12068965517241)\" x=\"10.075000000000003\" y=\"68.12068965517241\" text-anchor=\"middle\" style=\"font-family: 'Open Sans', verdana, arial, sans-serif; font-size: 14px; fill: rgb(36, 36, 36); opacity: 1; font-weight: normal; white-space: pre;\">PurpleAir</text></g><g class=\"g-y2title\" transform=\"translate(4.9248046875,0)\"><text class=\"y2title\" transform=\"rotate(-90,10.075000000000003,179.5)\" x=\"10.075000000000003\" y=\"179.5\" text-anchor=\"middle\" style=\"font-family: 'Open Sans', verdana, arial, sans-serif; font-size: 14px; fill: rgb(36, 36, 36); opacity: 1; font-weight: normal; white-space: pre;\">AQS</text></g><g class=\"g-y3title\" transform=\"translate(4.9296875,0)\"><text class=\"y3title\" transform=\"rotate(-90,10.075000000000003,290.87931034482756)\" x=\"10.075000000000003\" y=\"290.87931034482756\" text-anchor=\"middle\" style=\"font-family: 'Open Sans', verdana, arial, sans-serif; font-size: 14px; fill: rgb(36, 36, 36); opacity: 1; font-weight: normal; white-space: pre;\">Humidity</text></g></g></svg>"
      ]
     },
     "metadata": {},
     "output_type": "display_data"
    }
   ],
   "source": [
    "fig = px.scatter_matrix(GA[['pm25pa', 'pm25aqs', 'rh']],\n",
    "                  labels={'pm25aqs':'AQS', 'pm25pa':'PurpleAir',\n",
    "                         'rh':'Humidity'},\n",
    "                width=550, height=400)\n",
    "\n",
    "fig.update_traces(diagonal_visible=False)\n",
    "fig"
   ]
  },
  {
   "cell_type": "markdown",
   "metadata": {},
   "source": [
    "The relationship between humidity and air quality does not appear to be particularly strong. Another pairwise measure we should examine are the correlations between features: "
   ]
  },
  {
   "cell_type": "code",
   "execution_count": 7,
   "metadata": {
    "tags": [
     "hide-input"
    ]
   },
   "outputs": [
    {
     "data": {
      "text/html": [
       "<div>\n",
       "<style scoped>\n",
       "    .dataframe tbody tr th:only-of-type {\n",
       "        vertical-align: middle;\n",
       "    }\n",
       "\n",
       "    .dataframe tbody tr th {\n",
       "        vertical-align: top;\n",
       "    }\n",
       "\n",
       "    .dataframe thead th {\n",
       "        text-align: right;\n",
       "    }\n",
       "</style>\n",
       "<table border=\"1\" class=\"dataframe\">\n",
       "  <thead>\n",
       "    <tr style=\"text-align: right;\">\n",
       "      <th></th>\n",
       "      <th>pm25pa</th>\n",
       "      <th>pm25aqs</th>\n",
       "      <th>rh</th>\n",
       "    </tr>\n",
       "  </thead>\n",
       "  <tbody>\n",
       "    <tr>\n",
       "      <th>pm25pa</th>\n",
       "      <td>1.00</td>\n",
       "      <td>0.95</td>\n",
       "      <td>-0.06</td>\n",
       "    </tr>\n",
       "    <tr>\n",
       "      <th>pm25aqs</th>\n",
       "      <td>0.95</td>\n",
       "      <td>1.00</td>\n",
       "      <td>-0.24</td>\n",
       "    </tr>\n",
       "    <tr>\n",
       "      <th>rh</th>\n",
       "      <td>-0.06</td>\n",
       "      <td>-0.24</td>\n",
       "      <td>1.00</td>\n",
       "    </tr>\n",
       "  </tbody>\n",
       "</table>\n",
       "</div>"
      ],
      "text/plain": [
       "         pm25pa  pm25aqs    rh\n",
       "pm25pa     1.00     0.95 -0.06\n",
       "pm25aqs    0.95     1.00 -0.24\n",
       "rh        -0.06    -0.24  1.00"
      ]
     },
     "execution_count": 7,
     "metadata": {},
     "output_type": "execute_result"
    }
   ],
   "source": [
    "GA[['pm25pa', 'pm25aqs', 'rh']].corr()"
   ]
  },
  {
   "cell_type": "markdown",
   "metadata": {},
   "source": [
    "One small surprise is that relative humidity has a small negative correlation with the AQS measurement of air quality. This suggests that humidity might be helpful in the model.\n",
    "\n",
    "\n",
    "In the next section, we derive the equation for the fit. But for now, we use the functionality in `LinearRegression`  to fit the model. The only change from earlier is that we provide two columns for the explanatory variables (that's why the `x` input is a data frame):"
   ]
  },
  {
   "cell_type": "code",
   "execution_count": 6,
   "metadata": {},
   "outputs": [],
   "source": [
    "from sklearn.linear_model import LinearRegression\n",
    "\n",
    "y = GA['pm25pa']\n",
    "X2 = GA[['pm25aqs', 'rh']]\n",
    "\n",
    "model2 = LinearRegression().fit(X2, y)"
   ]
  },
  {
   "cell_type": "markdown",
   "metadata": {},
   "source": [
    "The fitted multiple linear model, including the coefficient units, is:"
   ]
  },
  {
   "cell_type": "code",
   "execution_count": 16,
   "metadata": {
    "tags": [
     "hide-input"
    ]
   },
   "outputs": [
    {
     "name": "stdout",
     "output_type": "stream",
     "text": [
      "PA estimate = -15.8 ppm + 2.25 ppm/ppm x AQS +  0.21 ppm/percent x RH\n"
     ]
    }
   ],
   "source": [
    "print(f\"PA estimate = {model2.intercept_:.1f} ppm +\", \n",
    "      f\"{model2.coef_[0]:.2f} ppm/ppm x AQS + \",  \n",
    "      f\"{model2.coef_[1]:.2f} ppm/percent x RH\")"
   ]
  },
  {
   "cell_type": "markdown",
   "metadata": {},
   "source": [
    "The coefficient for humidity in the model adjusts the air quality prediction by 0.21 ppm for each percentage point of relative humidity. Notice that the coefficient for AQS differs from the simple linear model that we fitted earlier. This happens because the coefficient reflects the additional information coming from relative humidity."
   ]
  },
  {
   "cell_type": "markdown",
   "metadata": {},
   "source": [
    "Lastly, to check the quality of the fit, we make residual plots of the predicted values and the errors. This time, we use `LinearRegression` to compute the predictions for us:"
   ]
  },
  {
   "cell_type": "code",
   "execution_count": 7,
   "metadata": {},
   "outputs": [],
   "source": [
    "predicted_2var = model2.predict(X2)\n",
    "error_2var = y - predicted_2var"
   ]
  },
  {
   "cell_type": "code",
   "execution_count": 8,
   "metadata": {
    "tags": []
   },
   "outputs": [
    {
     "data": {
      "application/vnd.plotly.v1+json": {
       "config": {
        "plotlyServerURL": "https://plot.ly"
       },
       "data": [
        {
         "hovertemplate": "Predicted PurpleAir measurement=%{x}<br>Error=%{y}<extra></extra>",
         "legendgroup": "",
         "marker": {
          "color": "#1F77B4",
          "symbol": "circle"
         },
         "mode": "markers",
         "name": "",
         "orientation": "v",
         "showlegend": false,
         "type": "scatter",
         "x": [
          15.94368311947651,
          13.173022890519015,
          10.550479965187954,
          15.062678076601443,
          17.256710174459265,
          21.727712168705786,
          14.824205514001648,
          18.272578172934253,
          20.724200957214556,
          21.85194094355294,
          21.66594944512037,
          10.767796091922882,
          13.85380423170627,
          17.327345511325845,
          18.36674198663065,
          12.692479901527761,
          7.386338617428564,
          7.767486783057411,
          12.683799390869705,
          9.702512877226717,
          11.338937477770564,
          12.444206092704576,
          11.932594162244783,
          10.135503238157614,
          12.430940609212769,
          17.049578585224964,
          18.081643389476802,
          15.25346336236376,
          29.56544903556921,
          28.664735075057756,
          19.53657809323588,
          17.987927304984503,
          20.617575830583732,
          23.06598084606678,
          21.19054065597367,
          8.589010859261279,
          11.49596390253798,
          12.191466846193915,
          11.35235464131959,
          13.788857933201925,
          15.968782141051989,
          18.295332194539462,
          19.87333360887169,
          27.27318693275197,
          22.689495650719962,
          24.467376613738686,
          30.97392708527959,
          33.56811885710347,
          34.46169489652825,
          24.924493413188344,
          20.13279949567655,
          13.487886727880817,
          12.123026660323095,
          8.880458817327785,
          9.587872161484846,
          13.483653808495468,
          14.280966524347086,
          14.917110849061249,
          9.753696583901508,
          17.46264113133597,
          5.702157434292296,
          10.69799514443553,
          15.721757766504599,
          7.66213985486759,
          4.355225816930918,
          13.383302516859779,
          15.075391970854746,
          23.859780687603752,
          14.446654673141524,
          9.522137778101708,
          11.305399261203217,
          19.344894741040456,
          11.719837853734298,
          17.013732317068865,
          20.22764825190975,
          27.467734980486462,
          29.393802472182237,
          14.59238886744955,
          16.414918762839342,
          26.258226314244823,
          27.33222781352122,
          10.413224325009416,
          7.51956299854821,
          18.62107809477199,
          26.169704041710716,
          19.230209181031682,
          14.787884608874734,
          16.585366437535285,
          20.497395420032753,
          13.894423586511689,
          21.080706677347827,
          21.804251422304446,
          24.60371902811864,
          23.224978478917215,
          11.473400271140434,
          15.873026858249574,
          17.947200129652487,
          18.3761344746109,
          13.643086690176709,
          6.635000437462473,
          10.01211108899222,
          13.895333417599044,
          7.833556534266556,
          11.451638317466319,
          10.265322440581095,
          8.82597072184663,
          9.290246940439467,
          11.00339739107217,
          15.622035367084361,
          17.046844565541548,
          13.929228495938666,
          27.86554395215267,
          27.209016646993213,
          18.860373055061366,
          16.738825580350976,
          22.073294258648268,
          23.779753582145474,
          20.918181044714537,
          8.701711698957034,
          10.754015956535344,
          12.04119830859398,
          10.657366881201376,
          15.413627620810097,
          13.74294055706087,
          17.224674217429815,
          17.2248638760215,
          22.99994751229361,
          17.65552556231527,
          22.57596350146075,
          25.8366463911426,
          30.872691192385652,
          31.475122644590805,
          21.63738634006782,
          17.24177726964996,
          8.416348941571947,
          9.117671686441955,
          8.786540699575731,
          5.530641932437749,
          11.689832861343671,
          13.614153974152813,
          14.316038952678301,
          8.85208986633549,
          18.89018434947657,
          3.8144183693884415,
          9.56159425949776,
          12.904236774110785,
          5.229679313428665,
          4.345833328950675,
          13.552353776403407,
          12.455097447928495,
          24.88348073284577,
          11.309813883604143,
          5.680916740465875,
          9.648873247621935,
          20.722797099424263,
          22.207715074305355,
          22.77417512013421,
          15.873026858249574,
          13.192283331393696,
          8.284359893049565,
          8.82597072184663,
          16.07283872586737,
          27.86554395215267,
          22.045189441672058,
          12.717403346768496,
          12.235178636941914,
          20.155085708111073,
          25.50618533355032,
          35.081549514854885,
          11.571972453053018,
          6.206846970612265,
          14.99224399085282,
          20.46799610521711,
          9.56159425949776,
          14.256646850459813,
          11.760617242387156
         ],
         "xaxis": "x",
         "y": [
          0.24569188052348778,
          0.4195257205920857,
          -0.24990904138365444,
          -0.27237220231614323,
          0.2891301033185343,
          0.6126906090720148,
          -0.2559288754561475,
          0.9384483633786473,
          0.9423684872298423,
          3.824677112002661,
          3.4154483295667326,
          0.612247199803317,
          1.6246402127381288,
          0.7237655997852563,
          1.0636746800360513,
          -0.13229934597216086,
          0.5523488825714367,
          -0.22754233861297113,
          -0.8897577242030046,
          -1.8097142661156065,
          -1.0959444222149646,
          -1.243469981593476,
          -2.078661107851472,
          -0.1387949048242838,
          -0.7642461647683696,
          -1.1317035852249635,
          -1.3454072783657018,
          -0.10797725125265956,
          -0.3757962577914107,
          -1.4606309083910567,
          0.7601649623197169,
          -0.30430924942890414,
          0.12099361386066931,
          -0.5941127905111792,
          -0.5202203217118715,
          0.05984330740539079,
          -0.6323319580935802,
          -1.7473835128606154,
          -2.19938241909737,
          -1.9246357109797252,
          -1.3723009171298894,
          -1.0455127500950603,
          -0.2642988866494882,
          1.455123220238331,
          0.4626779603911366,
          -1.1729113359608867,
          0.2269409702760079,
          0.6816341122112277,
          0.45922177013844845,
          -1.2843753576327437,
          -2.301924495676552,
          -5.440456172325257,
          -3.6033669381008746,
          -1.4518546506611152,
          0.472051343383054,
          -1.4927510307176686,
          -0.8302371645108853,
          -1.4629302935056483,
          0.024534613870081046,
          2.927414424219627,
          0.6876689545965942,
          2.246365966675569,
          -2.1034730442823992,
          -0.09503568820091957,
          0.18893390529130194,
          0.1659544275846212,
          -1.986168891412646,
          1.6103651457295491,
          0.10136700047927683,
          -1.883584231509218,
          0.7859340721300825,
          -1.1160396685766543,
          0.5941354795990019,
          -2.1485587059577647,
          -1.5275996407986483,
          -2.8409964547562616,
          -2.4504135832933365,
          -1.5556192045282504,
          -2.8628493183949413,
          -2.921323536467021,
          -1.516248646854521,
          -0.08345349167611715,
          0.9732981125628992,
          -1.990362816994189,
          -4.806651190528516,
          0.6163672078572162,
          -1.6847596088747334,
          2.0883557846869145,
          1.8430073577450479,
          0.6738530520338113,
          -1.8696801410349266,
          -0.13768197786004777,
          1.0728990274369608,
          1.8564192957698857,
          -0.09335697941423504,
          -0.3945824138051748,
          0.10391098145861477,
          1.0542821920558012,
          -1.0829061346211084,
          1.3036870625375272,
          -2.472166644547781,
          -2.1012917509323437,
          0.05924207684455407,
          -1.2086452619107195,
          0.9354136705300053,
          1.0279623325466805,
          0.7064613928938641,
          0.6632970533722293,
          0.295839632915639,
          -0.31060845443044727,
          1.2162576151724345,
          1.324108825625128,
          -0.004912480326513702,
          1.4363700004942324,
          0.944792475204622,
          -1.3347248142038666,
          -1.3078855265898746,
          -0.24786071045273772,
          -0.05285753229036416,
          0.10961598790905569,
          -1.5971149752606806,
          -1.504394658979157,
          -3.549405398587897,
          0.85354066686123,
          0.02514522701458688,
          2.3841708462007,
          5.728362640696691,
          5.49664804879583,
          0.7185017763170514,
          5.364221664412998,
          3.3770617769290467,
          3.4457940220758942,
          2.00273171548778,
          0.5890977303500406,
          -0.3689183860163876,
          -0.5980119642197348,
          -1.3579365329090614,
          4.5292815724301505,
          0.3010699164341286,
          -0.1634246143166127,
          -0.8618583971227007,
          0.9261413314360993,
          1.4998712060790282,
          2.5754080195004487,
          3.38276685161334,
          0.7140479481114141,
          2.337424853238005,
          0.1983263932715449,
          -0.003096831959007673,
          0.634125631513605,
          0.586665100487533,
          3.2382077900166575,
          1.9576368061266152,
          0.6516976761823638,
          1.617605678353538,
          -2.996688537992455,
          2.3072226545528913,
          -0.3945824138051748,
          -0.6321027758380957,
          -0.3915612819384551,
          1.0279623325466805,
          -0.15496372586737017,
          1.324108825625128,
          -1.3748691074102588,
          -2.273320013435196,
          -3.0822064147196944,
          -0.546050985888872,
          -2.2117200557725205,
          -0.16063284818818602,
          -3.5245418974974587,
          3.853076534255635,
          -1.5380634352972198,
          -0.07794054966151265,
          3.38276685161334,
          -0.6383621282376133,
          2.787404431233645
         ],
         "yaxis": "y"
        }
       ],
       "layout": {
        "height": 250,
        "legend": {
         "tracegroupgap": 0
        },
        "shapes": [
         {
          "line": {
           "dash": "dash",
           "width": 3
          },
          "opacity": 1,
          "type": "line",
          "x0": 0,
          "x1": 1,
          "xref": "x domain",
          "y0": 0,
          "y1": 0,
          "yref": "y"
         }
        ],
        "template": {
         "data": {
          "bar": [
           {
            "error_x": {
             "color": "rgb(36,36,36)"
            },
            "error_y": {
             "color": "rgb(36,36,36)"
            },
            "marker": {
             "line": {
              "color": "white",
              "width": 0.5
             },
             "pattern": {
              "fillmode": "overlay",
              "size": 10,
              "solidity": 0.2
             }
            },
            "type": "bar"
           }
          ],
          "barpolar": [
           {
            "marker": {
             "line": {
              "color": "white",
              "width": 0.5
             },
             "pattern": {
              "fillmode": "overlay",
              "size": 10,
              "solidity": 0.2
             }
            },
            "type": "barpolar"
           }
          ],
          "carpet": [
           {
            "aaxis": {
             "endlinecolor": "rgb(36,36,36)",
             "gridcolor": "white",
             "linecolor": "white",
             "minorgridcolor": "white",
             "startlinecolor": "rgb(36,36,36)"
            },
            "baxis": {
             "endlinecolor": "rgb(36,36,36)",
             "gridcolor": "white",
             "linecolor": "white",
             "minorgridcolor": "white",
             "startlinecolor": "rgb(36,36,36)"
            },
            "type": "carpet"
           }
          ],
          "choropleth": [
           {
            "colorbar": {
             "outlinewidth": 1,
             "tickcolor": "rgb(36,36,36)",
             "ticks": "outside"
            },
            "type": "choropleth"
           }
          ],
          "contour": [
           {
            "colorbar": {
             "outlinewidth": 1,
             "tickcolor": "rgb(36,36,36)",
             "ticks": "outside"
            },
            "colorscale": [
             [
              0,
              "#440154"
             ],
             [
              0.1111111111111111,
              "#482878"
             ],
             [
              0.2222222222222222,
              "#3e4989"
             ],
             [
              0.3333333333333333,
              "#31688e"
             ],
             [
              0.4444444444444444,
              "#26828e"
             ],
             [
              0.5555555555555556,
              "#1f9e89"
             ],
             [
              0.6666666666666666,
              "#35b779"
             ],
             [
              0.7777777777777778,
              "#6ece58"
             ],
             [
              0.8888888888888888,
              "#b5de2b"
             ],
             [
              1,
              "#fde725"
             ]
            ],
            "type": "contour"
           }
          ],
          "contourcarpet": [
           {
            "colorbar": {
             "outlinewidth": 1,
             "tickcolor": "rgb(36,36,36)",
             "ticks": "outside"
            },
            "type": "contourcarpet"
           }
          ],
          "heatmap": [
           {
            "colorbar": {
             "outlinewidth": 1,
             "tickcolor": "rgb(36,36,36)",
             "ticks": "outside"
            },
            "colorscale": [
             [
              0,
              "#440154"
             ],
             [
              0.1111111111111111,
              "#482878"
             ],
             [
              0.2222222222222222,
              "#3e4989"
             ],
             [
              0.3333333333333333,
              "#31688e"
             ],
             [
              0.4444444444444444,
              "#26828e"
             ],
             [
              0.5555555555555556,
              "#1f9e89"
             ],
             [
              0.6666666666666666,
              "#35b779"
             ],
             [
              0.7777777777777778,
              "#6ece58"
             ],
             [
              0.8888888888888888,
              "#b5de2b"
             ],
             [
              1,
              "#fde725"
             ]
            ],
            "type": "heatmap"
           }
          ],
          "heatmapgl": [
           {
            "colorbar": {
             "outlinewidth": 1,
             "tickcolor": "rgb(36,36,36)",
             "ticks": "outside"
            },
            "colorscale": [
             [
              0,
              "#440154"
             ],
             [
              0.1111111111111111,
              "#482878"
             ],
             [
              0.2222222222222222,
              "#3e4989"
             ],
             [
              0.3333333333333333,
              "#31688e"
             ],
             [
              0.4444444444444444,
              "#26828e"
             ],
             [
              0.5555555555555556,
              "#1f9e89"
             ],
             [
              0.6666666666666666,
              "#35b779"
             ],
             [
              0.7777777777777778,
              "#6ece58"
             ],
             [
              0.8888888888888888,
              "#b5de2b"
             ],
             [
              1,
              "#fde725"
             ]
            ],
            "type": "heatmapgl"
           }
          ],
          "histogram": [
           {
            "marker": {
             "line": {
              "color": "white",
              "width": 0.6
             }
            },
            "type": "histogram"
           }
          ],
          "histogram2d": [
           {
            "colorbar": {
             "outlinewidth": 1,
             "tickcolor": "rgb(36,36,36)",
             "ticks": "outside"
            },
            "colorscale": [
             [
              0,
              "#440154"
             ],
             [
              0.1111111111111111,
              "#482878"
             ],
             [
              0.2222222222222222,
              "#3e4989"
             ],
             [
              0.3333333333333333,
              "#31688e"
             ],
             [
              0.4444444444444444,
              "#26828e"
             ],
             [
              0.5555555555555556,
              "#1f9e89"
             ],
             [
              0.6666666666666666,
              "#35b779"
             ],
             [
              0.7777777777777778,
              "#6ece58"
             ],
             [
              0.8888888888888888,
              "#b5de2b"
             ],
             [
              1,
              "#fde725"
             ]
            ],
            "type": "histogram2d"
           }
          ],
          "histogram2dcontour": [
           {
            "colorbar": {
             "outlinewidth": 1,
             "tickcolor": "rgb(36,36,36)",
             "ticks": "outside"
            },
            "colorscale": [
             [
              0,
              "#440154"
             ],
             [
              0.1111111111111111,
              "#482878"
             ],
             [
              0.2222222222222222,
              "#3e4989"
             ],
             [
              0.3333333333333333,
              "#31688e"
             ],
             [
              0.4444444444444444,
              "#26828e"
             ],
             [
              0.5555555555555556,
              "#1f9e89"
             ],
             [
              0.6666666666666666,
              "#35b779"
             ],
             [
              0.7777777777777778,
              "#6ece58"
             ],
             [
              0.8888888888888888,
              "#b5de2b"
             ],
             [
              1,
              "#fde725"
             ]
            ],
            "type": "histogram2dcontour"
           }
          ],
          "mesh3d": [
           {
            "colorbar": {
             "outlinewidth": 1,
             "tickcolor": "rgb(36,36,36)",
             "ticks": "outside"
            },
            "type": "mesh3d"
           }
          ],
          "parcoords": [
           {
            "line": {
             "colorbar": {
              "outlinewidth": 1,
              "tickcolor": "rgb(36,36,36)",
              "ticks": "outside"
             }
            },
            "type": "parcoords"
           }
          ],
          "pie": [
           {
            "automargin": true,
            "type": "pie"
           }
          ],
          "scatter": [
           {
            "marker": {
             "colorbar": {
              "outlinewidth": 1,
              "tickcolor": "rgb(36,36,36)",
              "ticks": "outside"
             }
            },
            "type": "scatter"
           }
          ],
          "scatter3d": [
           {
            "line": {
             "colorbar": {
              "outlinewidth": 1,
              "tickcolor": "rgb(36,36,36)",
              "ticks": "outside"
             }
            },
            "marker": {
             "colorbar": {
              "outlinewidth": 1,
              "tickcolor": "rgb(36,36,36)",
              "ticks": "outside"
             }
            },
            "type": "scatter3d"
           }
          ],
          "scattercarpet": [
           {
            "marker": {
             "colorbar": {
              "outlinewidth": 1,
              "tickcolor": "rgb(36,36,36)",
              "ticks": "outside"
             }
            },
            "type": "scattercarpet"
           }
          ],
          "scattergeo": [
           {
            "marker": {
             "colorbar": {
              "outlinewidth": 1,
              "tickcolor": "rgb(36,36,36)",
              "ticks": "outside"
             }
            },
            "type": "scattergeo"
           }
          ],
          "scattergl": [
           {
            "marker": {
             "colorbar": {
              "outlinewidth": 1,
              "tickcolor": "rgb(36,36,36)",
              "ticks": "outside"
             }
            },
            "type": "scattergl"
           }
          ],
          "scattermapbox": [
           {
            "marker": {
             "colorbar": {
              "outlinewidth": 1,
              "tickcolor": "rgb(36,36,36)",
              "ticks": "outside"
             }
            },
            "type": "scattermapbox"
           }
          ],
          "scatterpolar": [
           {
            "marker": {
             "colorbar": {
              "outlinewidth": 1,
              "tickcolor": "rgb(36,36,36)",
              "ticks": "outside"
             }
            },
            "type": "scatterpolar"
           }
          ],
          "scatterpolargl": [
           {
            "marker": {
             "colorbar": {
              "outlinewidth": 1,
              "tickcolor": "rgb(36,36,36)",
              "ticks": "outside"
             }
            },
            "type": "scatterpolargl"
           }
          ],
          "scatterternary": [
           {
            "marker": {
             "colorbar": {
              "outlinewidth": 1,
              "tickcolor": "rgb(36,36,36)",
              "ticks": "outside"
             }
            },
            "type": "scatterternary"
           }
          ],
          "surface": [
           {
            "colorbar": {
             "outlinewidth": 1,
             "tickcolor": "rgb(36,36,36)",
             "ticks": "outside"
            },
            "colorscale": [
             [
              0,
              "#440154"
             ],
             [
              0.1111111111111111,
              "#482878"
             ],
             [
              0.2222222222222222,
              "#3e4989"
             ],
             [
              0.3333333333333333,
              "#31688e"
             ],
             [
              0.4444444444444444,
              "#26828e"
             ],
             [
              0.5555555555555556,
              "#1f9e89"
             ],
             [
              0.6666666666666666,
              "#35b779"
             ],
             [
              0.7777777777777778,
              "#6ece58"
             ],
             [
              0.8888888888888888,
              "#b5de2b"
             ],
             [
              1,
              "#fde725"
             ]
            ],
            "type": "surface"
           }
          ],
          "table": [
           {
            "cells": {
             "fill": {
              "color": "rgb(237,237,237)"
             },
             "line": {
              "color": "white"
             }
            },
            "header": {
             "fill": {
              "color": "rgb(217,217,217)"
             },
             "line": {
              "color": "white"
             }
            },
            "type": "table"
           }
          ]
         },
         "layout": {
          "annotationdefaults": {
           "arrowhead": 0,
           "arrowwidth": 1
          },
          "autosize": true,
          "autotypenumbers": "strict",
          "coloraxis": {
           "colorbar": {
            "outlinewidth": 1,
            "tickcolor": "rgb(36,36,36)",
            "ticks": "outside"
           }
          },
          "colorscale": {
           "diverging": [
            [
             0,
             "rgb(103,0,31)"
            ],
            [
             0.1,
             "rgb(178,24,43)"
            ],
            [
             0.2,
             "rgb(214,96,77)"
            ],
            [
             0.3,
             "rgb(244,165,130)"
            ],
            [
             0.4,
             "rgb(253,219,199)"
            ],
            [
             0.5,
             "rgb(247,247,247)"
            ],
            [
             0.6,
             "rgb(209,229,240)"
            ],
            [
             0.7,
             "rgb(146,197,222)"
            ],
            [
             0.8,
             "rgb(67,147,195)"
            ],
            [
             0.9,
             "rgb(33,102,172)"
            ],
            [
             1,
             "rgb(5,48,97)"
            ]
           ],
           "sequential": [
            [
             0,
             "#440154"
            ],
            [
             0.1111111111111111,
             "#482878"
            ],
            [
             0.2222222222222222,
             "#3e4989"
            ],
            [
             0.3333333333333333,
             "#31688e"
            ],
            [
             0.4444444444444444,
             "#26828e"
            ],
            [
             0.5555555555555556,
             "#1f9e89"
            ],
            [
             0.6666666666666666,
             "#35b779"
            ],
            [
             0.7777777777777778,
             "#6ece58"
            ],
            [
             0.8888888888888888,
             "#b5de2b"
            ],
            [
             1,
             "#fde725"
            ]
           ],
           "sequentialminus": [
            [
             0,
             "#440154"
            ],
            [
             0.1111111111111111,
             "#482878"
            ],
            [
             0.2222222222222222,
             "#3e4989"
            ],
            [
             0.3333333333333333,
             "#31688e"
            ],
            [
             0.4444444444444444,
             "#26828e"
            ],
            [
             0.5555555555555556,
             "#1f9e89"
            ],
            [
             0.6666666666666666,
             "#35b779"
            ],
            [
             0.7777777777777778,
             "#6ece58"
            ],
            [
             0.8888888888888888,
             "#b5de2b"
            ],
            [
             1,
             "#fde725"
            ]
           ]
          },
          "colorway": [
           "#1F77B4",
           "#FF7F0E",
           "#2CA02C",
           "#D62728",
           "#9467BD",
           "#8C564B",
           "#E377C2",
           "#7F7F7F",
           "#BCBD22",
           "#17BECF"
          ],
          "font": {
           "color": "rgb(36,36,36)"
          },
          "geo": {
           "bgcolor": "white",
           "lakecolor": "white",
           "landcolor": "white",
           "showlakes": true,
           "showland": true,
           "subunitcolor": "white"
          },
          "height": 250,
          "hoverlabel": {
           "align": "left"
          },
          "hovermode": "closest",
          "mapbox": {
           "style": "light"
          },
          "margin": {
           "b": 10,
           "l": 10,
           "r": 10,
           "t": 10
          },
          "paper_bgcolor": "white",
          "plot_bgcolor": "white",
          "polar": {
           "angularaxis": {
            "gridcolor": "rgb(232,232,232)",
            "linecolor": "rgb(36,36,36)",
            "showgrid": false,
            "showline": true,
            "ticks": "outside"
           },
           "bgcolor": "white",
           "radialaxis": {
            "gridcolor": "rgb(232,232,232)",
            "linecolor": "rgb(36,36,36)",
            "showgrid": false,
            "showline": true,
            "ticks": "outside"
           }
          },
          "scene": {
           "xaxis": {
            "backgroundcolor": "white",
            "gridcolor": "rgb(232,232,232)",
            "gridwidth": 2,
            "linecolor": "rgb(36,36,36)",
            "showbackground": true,
            "showgrid": false,
            "showline": true,
            "ticks": "outside",
            "zeroline": false,
            "zerolinecolor": "rgb(36,36,36)"
           },
           "yaxis": {
            "backgroundcolor": "white",
            "gridcolor": "rgb(232,232,232)",
            "gridwidth": 2,
            "linecolor": "rgb(36,36,36)",
            "showbackground": true,
            "showgrid": false,
            "showline": true,
            "ticks": "outside",
            "zeroline": false,
            "zerolinecolor": "rgb(36,36,36)"
           },
           "zaxis": {
            "backgroundcolor": "white",
            "gridcolor": "rgb(232,232,232)",
            "gridwidth": 2,
            "linecolor": "rgb(36,36,36)",
            "showbackground": true,
            "showgrid": false,
            "showline": true,
            "ticks": "outside",
            "zeroline": false,
            "zerolinecolor": "rgb(36,36,36)"
           }
          },
          "shapedefaults": {
           "fillcolor": "black",
           "line": {
            "width": 0
           },
           "opacity": 0.3
          },
          "ternary": {
           "aaxis": {
            "gridcolor": "rgb(232,232,232)",
            "linecolor": "rgb(36,36,36)",
            "showgrid": false,
            "showline": true,
            "ticks": "outside"
           },
           "baxis": {
            "gridcolor": "rgb(232,232,232)",
            "linecolor": "rgb(36,36,36)",
            "showgrid": false,
            "showline": true,
            "ticks": "outside"
           },
           "bgcolor": "white",
           "caxis": {
            "gridcolor": "rgb(232,232,232)",
            "linecolor": "rgb(36,36,36)",
            "showgrid": false,
            "showline": true,
            "ticks": "outside"
           }
          },
          "title": {
           "x": 0.5,
           "xanchor": "center"
          },
          "width": 350,
          "xaxis": {
           "automargin": true,
           "gridcolor": "rgb(232,232,232)",
           "linecolor": "rgb(36,36,36)",
           "showgrid": true,
           "showline": true,
           "ticks": "outside",
           "title": {
            "standoff": 15
           },
           "zeroline": false,
           "zerolinecolor": "rgb(36,36,36)"
          },
          "yaxis": {
           "automargin": true,
           "gridcolor": "rgb(232,232,232)",
           "linecolor": "rgb(36,36,36)",
           "showgrid": true,
           "showline": true,
           "ticks": "outside",
           "title": {
            "standoff": 15
           },
           "zeroline": false,
           "zerolinecolor": "rgb(36,36,36)"
          }
         }
        },
        "width": 350,
        "xaxis": {
         "anchor": "y",
         "autorange": true,
         "domain": [
          0,
          1
         ],
         "range": [
          1.5365514054908234,
          37.3594164787525
         ],
         "title": {
          "text": "Predicted PurpleAir measurement"
         },
         "type": "linear"
        },
        "yaxis": {
         "anchor": "x",
         "domain": [
          0,
          1
         ],
         "range": [
          -12,
          12
         ],
         "title": {
          "text": "Error"
         },
         "type": "linear"
        }
       }
      },
      "image/png": "[encoded data removed]",
      "image/svg+xml": [
       "<svg class=\"main-svg\" xmlns=\"http://www.w3.org/2000/svg\" xmlns:xlink=\"http://www.w3.org/1999/xlink\" width=\"350\" height=\"250\" style=\"\" viewBox=\"0 0 350 250\"><rect x=\"0\" y=\"0\" width=\"350\" height=\"250\" style=\"fill: rgb(255, 255, 255); fill-opacity: 1;\"/><defs id=\"defs-7e9866\"><g class=\"clips\"><clipPath id=\"clip7e9866xyplot\" class=\"plotclip\"><rect width=\"276\" height=\"181\"/></clipPath><clipPath class=\"axesclip\" id=\"clip7e9866x\"><rect x=\"64\" y=\"0\" width=\"276\" height=\"250\"/></clipPath><clipPath class=\"axesclip\" id=\"clip7e9866y\"><rect x=\"0\" y=\"10\" width=\"350\" height=\"181\"/></clipPath><clipPath class=\"axesclip\" id=\"clip7e9866xy\"><rect x=\"64\" y=\"10\" width=\"276\" height=\"181\"/></clipPath></g><g class=\"gradients\"/><g class=\"patterns\"/></defs><g class=\"bglayer\"/><g class=\"layer-below\"><g class=\"imagelayer\"/><g class=\"shapelayer\"/></g><g class=\"cartesianlayer\"><g class=\"subplot xy\"><g class=\"layer-subplot\"><g class=\"shapelayer\"/><g class=\"imagelayer\"/></g><g class=\"gridlayer\"><g class=\"x\"><path class=\"xgrid crisp\" transform=\"translate(129.20999999999998,0)\" d=\"M0,10v181\" style=\"stroke: rgb(232, 232, 232); stroke-opacity: 1; stroke-width: 1px;\"/><path class=\"xgrid crisp\" transform=\"translate(206.25,0)\" d=\"M0,10v181\" style=\"stroke: rgb(232, 232, 232); stroke-opacity: 1; stroke-width: 1px;\"/><path class=\"xgrid crisp\" transform=\"translate(283.3,0)\" d=\"M0,10v181\" style=\"stroke: rgb(232, 232, 232); stroke-opacity: 1; stroke-width: 1px;\"/></g><g class=\"y\"><path class=\"ygrid crisp\" transform=\"translate(0,175.92)\" d=\"M64,0h276\" style=\"stroke: rgb(232, 232, 232); stroke-opacity: 1; stroke-width: 1px;\"/><path class=\"ygrid crisp\" transform=\"translate(0,138.21)\" d=\"M64,0h276\" style=\"stroke: rgb(232, 232, 232); stroke-opacity: 1; stroke-width: 1px;\"/><path class=\"ygrid crisp\" transform=\"translate(0,100.5)\" d=\"M64,0h276\" style=\"stroke: rgb(232, 232, 232); stroke-opacity: 1; stroke-width: 1px;\"/><path class=\"ygrid crisp\" transform=\"translate(0,62.79)\" d=\"M64,0h276\" style=\"stroke: rgb(232, 232, 232); stroke-opacity: 1; stroke-width: 1px;\"/><path class=\"ygrid crisp\" transform=\"translate(0,25.08)\" d=\"M64,0h276\" style=\"stroke: rgb(232, 232, 232); stroke-opacity: 1; stroke-width: 1px;\"/></g></g><g class=\"zerolinelayer\"/><path class=\"xlines-below\"/><path class=\"ylines-below\"/><g class=\"overlines-below\"/><g class=\"xaxislayer-below\"/><g class=\"yaxislayer-below\"/><g class=\"overaxes-below\"/><g class=\"plot\" transform=\"translate(64,10)\" clip-path=\"url(#clip7e9866xyplot)\"><g class=\"scatterlayer mlayer\"><g class=\"trace scatter trace8bcac2\" style=\"stroke-miterlimit: 2; opacity: 1;\"><g class=\"fills\"/><g class=\"errorbars\"/><g class=\"lines\"/><g class=\"points\"><path class=\"point\" transform=\"translate(111,88.65)\" d=\"M3,0A3,3 0 1,1 0,-3A3,3 0 0,1 3,0Z\" style=\"opacity: 1; stroke-width: 0px; fill: rgb(31, 119, 180); fill-opacity: 1;\"/><path class=\"point\" transform=\"translate(89.65,87.34)\" d=\"M3,0A3,3 0 1,1 0,-3A3,3 0 0,1 3,0Z\" style=\"opacity: 1; stroke-width: 0px; fill: rgb(31, 119, 180); fill-opacity: 1;\"/><path class=\"point\" transform=\"translate(69.45,92.38)\" d=\"M3,0A3,3 0 1,1 0,-3A3,3 0 0,1 3,0Z\" style=\"opacity: 1; stroke-width: 0px; fill: rgb(31, 119, 180); fill-opacity: 1;\"/><path class=\"point\" transform=\"translate(104.21,92.55)\" d=\"M3,0A3,3 0 1,1 0,-3A3,3 0 0,1 3,0Z\" style=\"opacity: 1; stroke-width: 0px; fill: rgb(31, 119, 180); fill-opacity: 1;\"/><path class=\"point\" transform=\"translate(121.12,88.32)\" d=\"M3,0A3,3 0 1,1 0,-3A3,3 0 0,1 3,0Z\" style=\"opacity: 1; stroke-width: 0px; fill: rgb(31, 119, 180); fill-opacity: 1;\"/><path class=\"point\" transform=\"translate(155.56,85.88)\" d=\"M3,0A3,3 0 1,1 0,-3A3,3 0 0,1 3,0Z\" style=\"opacity: 1; stroke-width: 0px; fill: rgb(31, 119, 180); fill-opacity: 1;\"/><path class=\"point\" transform=\"translate(102.38,92.43)\" d=\"M3,0A3,3 0 1,1 0,-3A3,3 0 0,1 3,0Z\" style=\"opacity: 1; stroke-width: 0px; fill: rgb(31, 119, 180); fill-opacity: 1;\"/><path class=\"point\" transform=\"translate(128.94,83.42)\" d=\"M3,0A3,3 0 1,1 0,-3A3,3 0 0,1 3,0Z\" style=\"opacity: 1; stroke-width: 0px; fill: rgb(31, 119, 180); fill-opacity: 1;\"/><path class=\"point\" transform=\"translate(147.83,83.39)\" d=\"M3,0A3,3 0 1,1 0,-3A3,3 0 0,1 3,0Z\" style=\"opacity: 1; stroke-width: 0px; fill: rgb(31, 119, 180); fill-opacity: 1;\"/><path class=\"point\" transform=\"translate(156.52,61.66)\" d=\"M3,0A3,3 0 1,1 0,-3A3,3 0 0,1 3,0Z\" style=\"opacity: 1; stroke-width: 0px; fill: rgb(31, 119, 180); fill-opacity: 1;\"/><path class=\"point\" transform=\"translate(155.09,64.74)\" d=\"M3,0A3,3 0 1,1 0,-3A3,3 0 0,1 3,0Z\" style=\"opacity: 1; stroke-width: 0px; fill: rgb(31, 119, 180); fill-opacity: 1;\"/><path class=\"point\" transform=\"translate(71.12,85.88)\" d=\"M3,0A3,3 0 1,1 0,-3A3,3 0 0,1 3,0Z\" style=\"opacity: 1; stroke-width: 0px; fill: rgb(31, 119, 180); fill-opacity: 1;\"/><path class=\"point\" transform=\"translate(94.9,78.25)\" d=\"M3,0A3,3 0 1,1 0,-3A3,3 0 0,1 3,0Z\" style=\"opacity: 1; stroke-width: 0px; fill: rgb(31, 119, 180); fill-opacity: 1;\"/><path class=\"point\" transform=\"translate(121.66,85.04)\" d=\"M3,0A3,3 0 1,1 0,-3A3,3 0 0,1 3,0Z\" style=\"opacity: 1; stroke-width: 0px; fill: rgb(31, 119, 180); fill-opacity: 1;\"/><path class=\"point\" transform=\"translate(129.67,82.48)\" d=\"M3,0A3,3 0 1,1 0,-3A3,3 0 0,1 3,0Z\" style=\"opacity: 1; stroke-width: 0px; fill: rgb(31, 119, 180); fill-opacity: 1;\"/><path class=\"point\" transform=\"translate(85.95,91.5)\" d=\"M3,0A3,3 0 1,1 0,-3A3,3 0 0,1 3,0Z\" style=\"opacity: 1; stroke-width: 0px; fill: rgb(31, 119, 180); fill-opacity: 1;\"/><path class=\"point\" transform=\"translate(45.07,86.33)\" d=\"M3,0A3,3 0 1,1 0,-3A3,3 0 0,1 3,0Z\" style=\"opacity: 1; stroke-width: 0px; fill: rgb(31, 119, 180); fill-opacity: 1;\"/><path class=\"point\" transform=\"translate(48.01,92.22)\" d=\"M3,0A3,3 0 1,1 0,-3A3,3 0 0,1 3,0Z\" style=\"opacity: 1; stroke-width: 0px; fill: rgb(31, 119, 180); fill-opacity: 1;\"/><path class=\"point\" transform=\"translate(85.88,97.21)\" d=\"M3,0A3,3 0 1,1 0,-3A3,3 0 0,1 3,0Z\" style=\"opacity: 1; stroke-width: 0px; fill: rgb(31, 119, 180); fill-opacity: 1;\"/><path class=\"point\" transform=\"translate(62.92,104.15)\" d=\"M3,0A3,3 0 1,1 0,-3A3,3 0 0,1 3,0Z\" style=\"opacity: 1; stroke-width: 0px; fill: rgb(31, 119, 180); fill-opacity: 1;\"/><path class=\"point\" transform=\"translate(75.52,98.77)\" d=\"M3,0A3,3 0 1,1 0,-3A3,3 0 0,1 3,0Z\" style=\"opacity: 1; stroke-width: 0px; fill: rgb(31, 119, 180); fill-opacity: 1;\"/><path class=\"point\" transform=\"translate(84.04,99.88)\" d=\"M3,0A3,3 0 1,1 0,-3A3,3 0 0,1 3,0Z\" style=\"opacity: 1; stroke-width: 0px; fill: rgb(31, 119, 180); fill-opacity: 1;\"/><path class=\"point\" transform=\"translate(80.1,106.18)\" d=\"M3,0A3,3 0 1,1 0,-3A3,3 0 0,1 3,0Z\" style=\"opacity: 1; stroke-width: 0px; fill: rgb(31, 119, 180); fill-opacity: 1;\"/><path class=\"point\" transform=\"translate(66.25,91.55)\" d=\"M3,0A3,3 0 1,1 0,-3A3,3 0 0,1 3,0Z\" style=\"opacity: 1; stroke-width: 0px; fill: rgb(31, 119, 180); fill-opacity: 1;\"/><path class=\"point\" transform=\"translate(83.94,96.26)\" d=\"M3,0A3,3 0 1,1 0,-3A3,3 0 0,1 3,0Z\" style=\"opacity: 1; stroke-width: 0px; fill: rgb(31, 119, 180); fill-opacity: 1;\"/><path class=\"point\" transform=\"translate(119.52,99.03)\" d=\"M3,0A3,3 0 1,1 0,-3A3,3 0 0,1 3,0Z\" style=\"opacity: 1; stroke-width: 0px; fill: rgb(31, 119, 180); fill-opacity: 1;\"/><path class=\"point\" transform=\"translate(127.47,100.65)\" d=\"M3,0A3,3 0 1,1 0,-3A3,3 0 0,1 3,0Z\" style=\"opacity: 1; stroke-width: 0px; fill: rgb(31, 119, 180); fill-opacity: 1;\"/><path class=\"point\" transform=\"translate(105.68,91.31)\" d=\"M3,0A3,3 0 1,1 0,-3A3,3 0 0,1 3,0Z\" style=\"opacity: 1; stroke-width: 0px; fill: rgb(31, 119, 180); fill-opacity: 1;\"/><path class=\"point\" transform=\"translate(215.95,93.33)\" d=\"M3,0A3,3 0 1,1 0,-3A3,3 0 0,1 3,0Z\" style=\"opacity: 1; stroke-width: 0px; fill: rgb(31, 119, 180); fill-opacity: 1;\"/><path class=\"point\" transform=\"translate(209.01,101.52)\" d=\"M3,0A3,3 0 1,1 0,-3A3,3 0 0,1 3,0Z\" style=\"opacity: 1; stroke-width: 0px; fill: rgb(31, 119, 180); fill-opacity: 1;\"/><path class=\"point\" transform=\"translate(138.68,84.77)\" d=\"M3,0A3,3 0 1,1 0,-3A3,3 0 0,1 3,0Z\" style=\"opacity: 1; stroke-width: 0px; fill: rgb(31, 119, 180); fill-opacity: 1;\"/><path class=\"point\" transform=\"translate(126.75,92.79)\" d=\"M3,0A3,3 0 1,1 0,-3A3,3 0 0,1 3,0Z\" style=\"opacity: 1; stroke-width: 0px; fill: rgb(31, 119, 180); fill-opacity: 1;\"/><path class=\"point\" transform=\"translate(147.01,89.59)\" d=\"M3,0A3,3 0 1,1 0,-3A3,3 0 0,1 3,0Z\" style=\"opacity: 1; stroke-width: 0px; fill: rgb(31, 119, 180); fill-opacity: 1;\"/><path class=\"point\" transform=\"translate(165.88,94.98)\" d=\"M3,0A3,3 0 1,1 0,-3A3,3 0 0,1 3,0Z\" style=\"opacity: 1; stroke-width: 0px; fill: rgb(31, 119, 180); fill-opacity: 1;\"/><path class=\"point\" transform=\"translate(151.43,94.42)\" d=\"M3,0A3,3 0 1,1 0,-3A3,3 0 0,1 3,0Z\" style=\"opacity: 1; stroke-width: 0px; fill: rgb(31, 119, 180); fill-opacity: 1;\"/><path class=\"point\" transform=\"translate(54.34,90.05)\" d=\"M3,0A3,3 0 1,1 0,-3A3,3 0 0,1 3,0Z\" style=\"opacity: 1; stroke-width: 0px; fill: rgb(31, 119, 180); fill-opacity: 1;\"/><path class=\"point\" transform=\"translate(76.73,95.27)\" d=\"M3,0A3,3 0 1,1 0,-3A3,3 0 0,1 3,0Z\" style=\"opacity: 1; stroke-width: 0px; fill: rgb(31, 119, 180); fill-opacity: 1;\"/><path class=\"point\" transform=\"translate(82.09,103.68)\" d=\"M3,0A3,3 0 1,1 0,-3A3,3 0 0,1 3,0Z\" style=\"opacity: 1; stroke-width: 0px; fill: rgb(31, 119, 180); fill-opacity: 1;\"/><path class=\"point\" transform=\"translate(75.63,107.09)\" d=\"M3,0A3,3 0 1,1 0,-3A3,3 0 0,1 3,0Z\" style=\"opacity: 1; stroke-width: 0px; fill: rgb(31, 119, 180); fill-opacity: 1;\"/><path class=\"point\" transform=\"translate(94.4,105.01)\" d=\"M3,0A3,3 0 1,1 0,-3A3,3 0 0,1 3,0Z\" style=\"opacity: 1; stroke-width: 0px; fill: rgb(31, 119, 180); fill-opacity: 1;\"/><path class=\"point\" transform=\"translate(111.19,100.85)\" d=\"M3,0A3,3 0 1,1 0,-3A3,3 0 0,1 3,0Z\" style=\"opacity: 1; stroke-width: 0px; fill: rgb(31, 119, 180); fill-opacity: 1;\"/><path class=\"point\" transform=\"translate(129.12,98.38)\" d=\"M3,0A3,3 0 1,1 0,-3A3,3 0 0,1 3,0Z\" style=\"opacity: 1; stroke-width: 0px; fill: rgb(31, 119, 180); fill-opacity: 1;\"/><path class=\"point\" transform=\"translate(141.28,92.49)\" d=\"M3,0A3,3 0 1,1 0,-3A3,3 0 0,1 3,0Z\" style=\"opacity: 1; stroke-width: 0px; fill: rgb(31, 119, 180); fill-opacity: 1;\"/><path class=\"point\" transform=\"translate(198.29,79.53)\" d=\"M3,0A3,3 0 1,1 0,-3A3,3 0 0,1 3,0Z\" style=\"opacity: 1; stroke-width: 0px; fill: rgb(31, 119, 180); fill-opacity: 1;\"/><path class=\"point\" transform=\"translate(162.97,87.01)\" d=\"M3,0A3,3 0 1,1 0,-3A3,3 0 0,1 3,0Z\" style=\"opacity: 1; stroke-width: 0px; fill: rgb(31, 119, 180); fill-opacity: 1;\"/><path class=\"point\" transform=\"translate(176.67,99.35)\" d=\"M3,0A3,3 0 1,1 0,-3A3,3 0 0,1 3,0Z\" style=\"opacity: 1; stroke-width: 0px; fill: rgb(31, 119, 180); fill-opacity: 1;\"/><path class=\"point\" transform=\"translate(226.8,88.79)\" d=\"M3,0A3,3 0 1,1 0,-3A3,3 0 0,1 3,0Z\" style=\"opacity: 1; stroke-width: 0px; fill: rgb(31, 119, 180); fill-opacity: 1;\"/><path class=\"point\" transform=\"translate(246.79,85.36)\" d=\"M3,0A3,3 0 1,1 0,-3A3,3 0 0,1 3,0Z\" style=\"opacity: 1; stroke-width: 0px; fill: rgb(31, 119, 180); fill-opacity: 1;\"/><path class=\"point\" transform=\"translate(253.67,87.04)\" d=\"M3,0A3,3 0 1,1 0,-3A3,3 0 0,1 3,0Z\" style=\"opacity: 1; stroke-width: 0px; fill: rgb(31, 119, 180); fill-opacity: 1;\"/><path class=\"point\" transform=\"translate(180.19,100.19)\" d=\"M3,0A3,3 0 1,1 0,-3A3,3 0 0,1 3,0Z\" style=\"opacity: 1; stroke-width: 0px; fill: rgb(31, 119, 180); fill-opacity: 1;\"/><path class=\"point\" transform=\"translate(143.28,107.86)\" d=\"M3,0A3,3 0 1,1 0,-3A3,3 0 0,1 3,0Z\" style=\"opacity: 1; stroke-width: 0px; fill: rgb(31, 119, 180); fill-opacity: 1;\"/><path class=\"point\" transform=\"translate(92.08,131.53)\" d=\"M3,0A3,3 0 1,1 0,-3A3,3 0 0,1 3,0Z\" style=\"opacity: 1; stroke-width: 0px; fill: rgb(31, 119, 180); fill-opacity: 1;\"/><path class=\"point\" transform=\"translate(81.56,117.68)\" d=\"M3,0A3,3 0 1,1 0,-3A3,3 0 0,1 3,0Z\" style=\"opacity: 1; stroke-width: 0px; fill: rgb(31, 119, 180); fill-opacity: 1;\"/><path class=\"point\" transform=\"translate(56.58,101.45)\" d=\"M3,0A3,3 0 1,1 0,-3A3,3 0 0,1 3,0Z\" style=\"opacity: 1; stroke-width: 0px; fill: rgb(31, 119, 180); fill-opacity: 1;\"/><path class=\"point\" transform=\"translate(62.03,86.94)\" d=\"M3,0A3,3 0 1,1 0,-3A3,3 0 0,1 3,0Z\" style=\"opacity: 1; stroke-width: 0px; fill: rgb(31, 119, 180); fill-opacity: 1;\"/><path class=\"point\" transform=\"translate(92.05,101.76)\" d=\"M3,0A3,3 0 1,1 0,-3A3,3 0 0,1 3,0Z\" style=\"opacity: 1; stroke-width: 0px; fill: rgb(31, 119, 180); fill-opacity: 1;\"/><path class=\"point\" transform=\"translate(98.19,96.76)\" d=\"M3,0A3,3 0 1,1 0,-3A3,3 0 0,1 3,0Z\" style=\"opacity: 1; stroke-width: 0px; fill: rgb(31, 119, 180); fill-opacity: 1;\"/><path class=\"point\" transform=\"translate(103.09,101.53)\" d=\"M3,0A3,3 0 1,1 0,-3A3,3 0 0,1 3,0Z\" style=\"opacity: 1; stroke-width: 0px; fill: rgb(31, 119, 180); fill-opacity: 1;\"/><path class=\"point\" transform=\"translate(63.31,90.31)\" d=\"M3,0A3,3 0 1,1 0,-3A3,3 0 0,1 3,0Z\" style=\"opacity: 1; stroke-width: 0px; fill: rgb(31, 119, 180); fill-opacity: 1;\"/><path class=\"point\" transform=\"translate(122.7,68.42)\" d=\"M3,0A3,3 0 1,1 0,-3A3,3 0 0,1 3,0Z\" style=\"opacity: 1; stroke-width: 0px; fill: rgb(31, 119, 180); fill-opacity: 1;\"/><path class=\"point\" transform=\"translate(32.09,85.31)\" d=\"M3,0A3,3 0 1,1 0,-3A3,3 0 0,1 3,0Z\" style=\"opacity: 1; stroke-width: 0px; fill: rgb(31, 119, 180); fill-opacity: 1;\"/><path class=\"point\" transform=\"translate(70.59,73.56)\" d=\"M3,0A3,3 0 1,1 0,-3A3,3 0 0,1 3,0Z\" style=\"opacity: 1; stroke-width: 0px; fill: rgb(31, 119, 180); fill-opacity: 1;\"/><path class=\"point\" transform=\"translate(109.29,106.36)\" d=\"M3,0A3,3 0 1,1 0,-3A3,3 0 0,1 3,0Z\" style=\"opacity: 1; stroke-width: 0px; fill: rgb(31, 119, 180); fill-opacity: 1;\"/><path class=\"point\" transform=\"translate(47.2,91.22)\" d=\"M3,0A3,3 0 1,1 0,-3A3,3 0 0,1 3,0Z\" style=\"opacity: 1; stroke-width: 0px; fill: rgb(31, 119, 180); fill-opacity: 1;\"/><path class=\"point\" transform=\"translate(21.72,89.08)\" d=\"M3,0A3,3 0 1,1 0,-3A3,3 0 0,1 3,0Z\" style=\"opacity: 1; stroke-width: 0px; fill: rgb(31, 119, 180); fill-opacity: 1;\"/><path class=\"point\" transform=\"translate(91.27,89.25)\" d=\"M3,0A3,3 0 1,1 0,-3A3,3 0 0,1 3,0Z\" style=\"opacity: 1; stroke-width: 0px; fill: rgb(31, 119, 180); fill-opacity: 1;\"/><path class=\"point\" transform=\"translate(104.31,105.48)\" d=\"M3,0A3,3 0 1,1 0,-3A3,3 0 0,1 3,0Z\" style=\"opacity: 1; stroke-width: 0px; fill: rgb(31, 119, 180); fill-opacity: 1;\"/><path class=\"point\" transform=\"translate(171.99,78.36)\" d=\"M3,0A3,3 0 1,1 0,-3A3,3 0 0,1 3,0Z\" style=\"opacity: 1; stroke-width: 0px; fill: rgb(31, 119, 180); fill-opacity: 1;\"/><path class=\"point\" transform=\"translate(99.47,89.74)\" d=\"M3,0A3,3 0 1,1 0,-3A3,3 0 0,1 3,0Z\" style=\"opacity: 1; stroke-width: 0px; fill: rgb(31, 119, 180); fill-opacity: 1;\"/><path class=\"point\" transform=\"translate(61.53,104.71)\" d=\"M3,0A3,3 0 1,1 0,-3A3,3 0 0,1 3,0Z\" style=\"opacity: 1; stroke-width: 0px; fill: rgb(31, 119, 180); fill-opacity: 1;\"/><path class=\"point\" transform=\"translate(75.26,84.57)\" d=\"M3,0A3,3 0 1,1 0,-3A3,3 0 0,1 3,0Z\" style=\"opacity: 1; stroke-width: 0px; fill: rgb(31, 119, 180); fill-opacity: 1;\"/><path class=\"point\" transform=\"translate(137.21,98.92)\" d=\"M3,0A3,3 0 1,1 0,-3A3,3 0 0,1 3,0Z\" style=\"opacity: 1; stroke-width: 0px; fill: rgb(31, 119, 180); fill-opacity: 1;\"/><path class=\"point\" transform=\"translate(78.46,86.02)\" d=\"M3,0A3,3 0 1,1 0,-3A3,3 0 0,1 3,0Z\" style=\"opacity: 1; stroke-width: 0px; fill: rgb(31, 119, 180); fill-opacity: 1;\"/><path class=\"point\" transform=\"translate(119.25,106.7)\" d=\"M3,0A3,3 0 1,1 0,-3A3,3 0 0,1 3,0Z\" style=\"opacity: 1; stroke-width: 0px; fill: rgb(31, 119, 180); fill-opacity: 1;\"/><path class=\"point\" transform=\"translate(144.01,102.02)\" d=\"M3,0A3,3 0 1,1 0,-3A3,3 0 0,1 3,0Z\" style=\"opacity: 1; stroke-width: 0px; fill: rgb(31, 119, 180); fill-opacity: 1;\"/><path class=\"point\" transform=\"translate(199.79,111.93)\" d=\"M3,0A3,3 0 1,1 0,-3A3,3 0 0,1 3,0Z\" style=\"opacity: 1; stroke-width: 0px; fill: rgb(31, 119, 180); fill-opacity: 1;\"/><path class=\"point\" transform=\"translate(214.63,108.98)\" d=\"M3,0A3,3 0 1,1 0,-3A3,3 0 0,1 3,0Z\" style=\"opacity: 1; stroke-width: 0px; fill: rgb(31, 119, 180); fill-opacity: 1;\"/><path class=\"point\" transform=\"translate(100.59,102.23)\" d=\"M3,0A3,3 0 1,1 0,-3A3,3 0 0,1 3,0Z\" style=\"opacity: 1; stroke-width: 0px; fill: rgb(31, 119, 180); fill-opacity: 1;\"/><path class=\"point\" transform=\"translate(114.63,112.09)\" d=\"M3,0A3,3 0 1,1 0,-3A3,3 0 0,1 3,0Z\" style=\"opacity: 1; stroke-width: 0px; fill: rgb(31, 119, 180); fill-opacity: 1;\"/><path class=\"point\" transform=\"translate(190.47,112.53)\" d=\"M3,0A3,3 0 1,1 0,-3A3,3 0 0,1 3,0Z\" style=\"opacity: 1; stroke-width: 0px; fill: rgb(31, 119, 180); fill-opacity: 1;\"/><path class=\"point\" transform=\"translate(198.74,101.94)\" d=\"M3,0A3,3 0 1,1 0,-3A3,3 0 0,1 3,0Z\" style=\"opacity: 1; stroke-width: 0px; fill: rgb(31, 119, 180); fill-opacity: 1;\"/><path class=\"point\" transform=\"translate(68.39,91.13)\" d=\"M3,0A3,3 0 1,1 0,-3A3,3 0 0,1 3,0Z\" style=\"opacity: 1; stroke-width: 0px; fill: rgb(31, 119, 180); fill-opacity: 1;\"/><path class=\"point\" transform=\"translate(46.1,83.16)\" d=\"M3,0A3,3 0 1,1 0,-3A3,3 0 0,1 3,0Z\" style=\"opacity: 1; stroke-width: 0px; fill: rgb(31, 119, 180); fill-opacity: 1;\"/><path class=\"point\" transform=\"translate(131.63,105.51)\" d=\"M3,0A3,3 0 1,1 0,-3A3,3 0 0,1 3,0Z\" style=\"opacity: 1; stroke-width: 0px; fill: rgb(31, 119, 180); fill-opacity: 1;\"/><path class=\"point\" transform=\"translate(189.79,126.75)\" d=\"M3,0A3,3 0 1,1 0,-3A3,3 0 0,1 3,0Z\" style=\"opacity: 1; stroke-width: 0px; fill: rgb(31, 119, 180); fill-opacity: 1;\"/><path class=\"point\" transform=\"translate(136.32,85.85)\" d=\"M3,0A3,3 0 1,1 0,-3A3,3 0 0,1 3,0Z\" style=\"opacity: 1; stroke-width: 0px; fill: rgb(31, 119, 180); fill-opacity: 1;\"/><path class=\"point\" transform=\"translate(102.1,103.21)\" d=\"M3,0A3,3 0 1,1 0,-3A3,3 0 0,1 3,0Z\" style=\"opacity: 1; stroke-width: 0px; fill: rgb(31, 119, 180); fill-opacity: 1;\"/><path class=\"point\" transform=\"translate(115.94,74.75)\" d=\"M3,0A3,3 0 1,1 0,-3A3,3 0 0,1 3,0Z\" style=\"opacity: 1; stroke-width: 0px; fill: rgb(31, 119, 180); fill-opacity: 1;\"/><path class=\"point\" transform=\"translate(146.09,76.6)\" d=\"M3,0A3,3 0 1,1 0,-3A3,3 0 0,1 3,0Z\" style=\"opacity: 1; stroke-width: 0px; fill: rgb(31, 119, 180); fill-opacity: 1;\"/><path class=\"point\" transform=\"translate(95.21,85.42)\" d=\"M3,0A3,3 0 1,1 0,-3A3,3 0 0,1 3,0Z\" style=\"opacity: 1; stroke-width: 0px; fill: rgb(31, 119, 180); fill-opacity: 1;\"/><path class=\"point\" transform=\"translate(150.58,104.6)\" d=\"M3,0A3,3 0 1,1 0,-3A3,3 0 0,1 3,0Z\" style=\"opacity: 1; stroke-width: 0px; fill: rgb(31, 119, 180); fill-opacity: 1;\"/><path class=\"point\" transform=\"translate(156.15,91.54)\" d=\"M3,0A3,3 0 1,1 0,-3A3,3 0 0,1 3,0Z\" style=\"opacity: 1; stroke-width: 0px; fill: rgb(31, 119, 180); fill-opacity: 1;\"/><path class=\"point\" transform=\"translate(177.72,82.41)\" d=\"M3,0A3,3 0 1,1 0,-3A3,3 0 0,1 3,0Z\" style=\"opacity: 1; stroke-width: 0px; fill: rgb(31, 119, 180); fill-opacity: 1;\"/><path class=\"point\" transform=\"translate(167.1,76.5)\" d=\"M3,0A3,3 0 1,1 0,-3A3,3 0 0,1 3,0Z\" style=\"opacity: 1; stroke-width: 0px; fill: rgb(31, 119, 180); fill-opacity: 1;\"/><path class=\"point\" transform=\"translate(76.56,91.2)\" d=\"M3,0A3,3 0 1,1 0,-3A3,3 0 0,1 3,0Z\" style=\"opacity: 1; stroke-width: 0px; fill: rgb(31, 119, 180); fill-opacity: 1;\"/><path class=\"point\" transform=\"translate(110.46,93.48)\" d=\"M3,0A3,3 0 1,1 0,-3A3,3 0 0,1 3,0Z\" style=\"opacity: 1; stroke-width: 0px; fill: rgb(31, 119, 180); fill-opacity: 1;\"/><path class=\"point\" transform=\"translate(126.44,89.72)\" d=\"M3,0A3,3 0 1,1 0,-3A3,3 0 0,1 3,0Z\" style=\"opacity: 1; stroke-width: 0px; fill: rgb(31, 119, 180); fill-opacity: 1;\"/><path class=\"point\" transform=\"translate(129.74,82.55)\" d=\"M3,0A3,3 0 1,1 0,-3A3,3 0 0,1 3,0Z\" style=\"opacity: 1; stroke-width: 0px; fill: rgb(31, 119, 180); fill-opacity: 1;\"/><path class=\"point\" transform=\"translate(93.28,98.67)\" d=\"M3,0A3,3 0 1,1 0,-3A3,3 0 0,1 3,0Z\" style=\"opacity: 1; stroke-width: 0px; fill: rgb(31, 119, 180); fill-opacity: 1;\"/><path class=\"point\" transform=\"translate(39.28,80.67)\" d=\"M3,0A3,3 0 1,1 0,-3A3,3 0 0,1 3,0Z\" style=\"opacity: 1; stroke-width: 0px; fill: rgb(31, 119, 180); fill-opacity: 1;\"/><path class=\"point\" transform=\"translate(65.3,109.14)\" d=\"M3,0A3,3 0 1,1 0,-3A3,3 0 0,1 3,0Z\" style=\"opacity: 1; stroke-width: 0px; fill: rgb(31, 119, 180); fill-opacity: 1;\"/><path class=\"point\" transform=\"translate(95.22,106.35)\" d=\"M3,0A3,3 0 1,1 0,-3A3,3 0 0,1 3,0Z\" style=\"opacity: 1; stroke-width: 0px; fill: rgb(31, 119, 180); fill-opacity: 1;\"/><path class=\"point\" transform=\"translate(48.52,90.05)\" d=\"M3,0A3,3 0 1,1 0,-3A3,3 0 0,1 3,0Z\" style=\"opacity: 1; stroke-width: 0px; fill: rgb(31, 119, 180); fill-opacity: 1;\"/><path class=\"point\" transform=\"translate(76.39,99.62)\" d=\"M3,0A3,3 0 1,1 0,-3A3,3 0 0,1 3,0Z\" style=\"opacity: 1; stroke-width: 0px; fill: rgb(31, 119, 180); fill-opacity: 1;\"/><path class=\"point\" transform=\"translate(67.25,83.45)\" d=\"M3,0A3,3 0 1,1 0,-3A3,3 0 0,1 3,0Z\" style=\"opacity: 1; stroke-width: 0px; fill: rgb(31, 119, 180); fill-opacity: 1;\"/><path class=\"point\" transform=\"translate(56.16,82.75)\" d=\"M3,0A3,3 0 1,1 0,-3A3,3 0 0,1 3,0Z\" style=\"opacity: 1; stroke-width: 0px; fill: rgb(31, 119, 180); fill-opacity: 1;\"/><path class=\"point\" transform=\"translate(59.74,85.17)\" d=\"M3,0A3,3 0 1,1 0,-3A3,3 0 0,1 3,0Z\" style=\"opacity: 1; stroke-width: 0px; fill: rgb(31, 119, 180); fill-opacity: 1;\"/><path class=\"point\" transform=\"translate(72.94,85.5)\" d=\"M3,0A3,3 0 1,1 0,-3A3,3 0 0,1 3,0Z\" style=\"opacity: 1; stroke-width: 0px; fill: rgb(31, 119, 180); fill-opacity: 1;\"/><path class=\"point\" transform=\"translate(108.52,88.27)\" d=\"M3,0A3,3 0 1,1 0,-3A3,3 0 0,1 3,0Z\" style=\"opacity: 1; stroke-width: 0px; fill: rgb(31, 119, 180); fill-opacity: 1;\"/><path class=\"point\" transform=\"translate(119.5,92.84)\" d=\"M3,0A3,3 0 1,1 0,-3A3,3 0 0,1 3,0Z\" style=\"opacity: 1; stroke-width: 0px; fill: rgb(31, 119, 180); fill-opacity: 1;\"/><path class=\"point\" transform=\"translate(95.48,81.33)\" d=\"M3,0A3,3 0 1,1 0,-3A3,3 0 0,1 3,0Z\" style=\"opacity: 1; stroke-width: 0px; fill: rgb(31, 119, 180); fill-opacity: 1;\"/><path class=\"point\" transform=\"translate(202.85,80.51)\" d=\"M3,0A3,3 0 1,1 0,-3A3,3 0 0,1 3,0Z\" style=\"opacity: 1; stroke-width: 0px; fill: rgb(31, 119, 180); fill-opacity: 1;\"/><path class=\"point\" transform=\"translate(197.8,90.54)\" d=\"M3,0A3,3 0 1,1 0,-3A3,3 0 0,1 3,0Z\" style=\"opacity: 1; stroke-width: 0px; fill: rgb(31, 119, 180); fill-opacity: 1;\"/><path class=\"point\" transform=\"translate(133.47,79.67)\" d=\"M3,0A3,3 0 1,1 0,-3A3,3 0 0,1 3,0Z\" style=\"opacity: 1; stroke-width: 0px; fill: rgb(31, 119, 180); fill-opacity: 1;\"/><path class=\"point\" transform=\"translate(117.13,83.37)\" d=\"M3,0A3,3 0 1,1 0,-3A3,3 0 0,1 3,0Z\" style=\"opacity: 1; stroke-width: 0px; fill: rgb(31, 119, 180); fill-opacity: 1;\"/><path class=\"point\" transform=\"translate(158.23,100.57)\" d=\"M3,0A3,3 0 1,1 0,-3A3,3 0 0,1 3,0Z\" style=\"opacity: 1; stroke-width: 0px; fill: rgb(31, 119, 180); fill-opacity: 1;\"/><path class=\"point\" transform=\"translate(171.37,100.36)\" d=\"M3,0A3,3 0 1,1 0,-3A3,3 0 0,1 3,0Z\" style=\"opacity: 1; stroke-width: 0px; fill: rgb(31, 119, 180); fill-opacity: 1;\"/><path class=\"point\" transform=\"translate(149.33,92.37)\" d=\"M3,0A3,3 0 1,1 0,-3A3,3 0 0,1 3,0Z\" style=\"opacity: 1; stroke-width: 0px; fill: rgb(31, 119, 180); fill-opacity: 1;\"/><path class=\"point\" transform=\"translate(55.2,90.9)\" d=\"M3,0A3,3 0 1,1 0,-3A3,3 0 0,1 3,0Z\" style=\"opacity: 1; stroke-width: 0px; fill: rgb(31, 119, 180); fill-opacity: 1;\"/><path class=\"point\" transform=\"translate(71.02,89.67)\" d=\"M3,0A3,3 0 1,1 0,-3A3,3 0 0,1 3,0Z\" style=\"opacity: 1; stroke-width: 0px; fill: rgb(31, 119, 180); fill-opacity: 1;\"/><path class=\"point\" transform=\"translate(80.93,102.54)\" d=\"M3,0A3,3 0 1,1 0,-3A3,3 0 0,1 3,0Z\" style=\"opacity: 1; stroke-width: 0px; fill: rgb(31, 119, 180); fill-opacity: 1;\"/><path class=\"point\" transform=\"translate(70.27,101.85)\" d=\"M3,0A3,3 0 1,1 0,-3A3,3 0 0,1 3,0Z\" style=\"opacity: 1; stroke-width: 0px; fill: rgb(31, 119, 180); fill-opacity: 1;\"/><path class=\"point\" transform=\"translate(106.92,117.27)\" d=\"M3,0A3,3 0 1,1 0,-3A3,3 0 0,1 3,0Z\" style=\"opacity: 1; stroke-width: 0px; fill: rgb(31, 119, 180); fill-opacity: 1;\"/><path class=\"point\" transform=\"translate(94.05,84.06)\" d=\"M3,0A3,3 0 1,1 0,-3A3,3 0 0,1 3,0Z\" style=\"opacity: 1; stroke-width: 0px; fill: rgb(31, 119, 180); fill-opacity: 1;\"/><path class=\"point\" transform=\"translate(120.87,90.31)\" d=\"M3,0A3,3 0 1,1 0,-3A3,3 0 0,1 3,0Z\" style=\"opacity: 1; stroke-width: 0px; fill: rgb(31, 119, 180); fill-opacity: 1;\"/><path class=\"point\" transform=\"translate(120.87,72.52)\" d=\"M3,0A3,3 0 1,1 0,-3A3,3 0 0,1 3,0Z\" style=\"opacity: 1; stroke-width: 0px; fill: rgb(31, 119, 180); fill-opacity: 1;\"/><path class=\"point\" transform=\"translate(165.37,47.3)\" d=\"M3,0A3,3 0 1,1 0,-3A3,3 0 0,1 3,0Z\" style=\"opacity: 1; stroke-width: 0px; fill: rgb(31, 119, 180); fill-opacity: 1;\"/><path class=\"point\" transform=\"translate(124.19,49.05)\" d=\"M3,0A3,3 0 1,1 0,-3A3,3 0 0,1 3,0Z\" style=\"opacity: 1; stroke-width: 0px; fill: rgb(31, 119, 180); fill-opacity: 1;\"/><path class=\"point\" transform=\"translate(162.1,85.08)\" d=\"M3,0A3,3 0 1,1 0,-3A3,3 0 0,1 3,0Z\" style=\"opacity: 1; stroke-width: 0px; fill: rgb(31, 119, 180); fill-opacity: 1;\"/><path class=\"point\" transform=\"translate(187.22,50.04)\" d=\"M3,0A3,3 0 1,1 0,-3A3,3 0 0,1 3,0Z\" style=\"opacity: 1; stroke-width: 0px; fill: rgb(31, 119, 180); fill-opacity: 1;\"/><path class=\"point\" transform=\"translate(226.02,65.03)\" d=\"M3,0A3,3 0 1,1 0,-3A3,3 0 0,1 3,0Z\" style=\"opacity: 1; stroke-width: 0px; fill: rgb(31, 119, 180); fill-opacity: 1;\"/><path class=\"point\" transform=\"translate(230.66,64.51)\" d=\"M3,0A3,3 0 1,1 0,-3A3,3 0 0,1 3,0Z\" style=\"opacity: 1; stroke-width: 0px; fill: rgb(31, 119, 180); fill-opacity: 1;\"/><path class=\"point\" transform=\"translate(154.87,75.4)\" d=\"M3,0A3,3 0 1,1 0,-3A3,3 0 0,1 3,0Z\" style=\"opacity: 1; stroke-width: 0px; fill: rgb(31, 119, 180); fill-opacity: 1;\"/><path class=\"point\" transform=\"translate(121,86.06)\" d=\"M3,0A3,3 0 1,1 0,-3A3,3 0 0,1 3,0Z\" style=\"opacity: 1; stroke-width: 0px; fill: rgb(31, 119, 180); fill-opacity: 1;\"/><path class=\"point\" transform=\"translate(53.01,93.28)\" d=\"M3,0A3,3 0 1,1 0,-3A3,3 0 0,1 3,0Z\" style=\"opacity: 1; stroke-width: 0px; fill: rgb(31, 119, 180); fill-opacity: 1;\"/><path class=\"point\" transform=\"translate(58.41,95.01)\" d=\"M3,0A3,3 0 1,1 0,-3A3,3 0 0,1 3,0Z\" style=\"opacity: 1; stroke-width: 0px; fill: rgb(31, 119, 180); fill-opacity: 1;\"/><path class=\"point\" transform=\"translate(55.86,100.74)\" d=\"M3,0A3,3 0 1,1 0,-3A3,3 0 0,1 3,0Z\" style=\"opacity: 1; stroke-width: 0px; fill: rgb(31, 119, 180); fill-opacity: 1;\"/><path class=\"point\" transform=\"translate(30.77,56.34)\" d=\"M3,0A3,3 0 1,1 0,-3A3,3 0 0,1 3,0Z\" style=\"opacity: 1; stroke-width: 0px; fill: rgb(31, 119, 180); fill-opacity: 1;\"/><path class=\"point\" transform=\"translate(78.23,88.23)\" d=\"M3,0A3,3 0 1,1 0,-3A3,3 0 0,1 3,0Z\" style=\"opacity: 1; stroke-width: 0px; fill: rgb(31, 119, 180); fill-opacity: 1;\"/><path class=\"point\" transform=\"translate(93.05,91.73)\" d=\"M3,0A3,3 0 1,1 0,-3A3,3 0 0,1 3,0Z\" style=\"opacity: 1; stroke-width: 0px; fill: rgb(31, 119, 180); fill-opacity: 1;\"/><path class=\"point\" transform=\"translate(98.46,97)\" d=\"M3,0A3,3 0 1,1 0,-3A3,3 0 0,1 3,0Z\" style=\"opacity: 1; stroke-width: 0px; fill: rgb(31, 119, 180); fill-opacity: 1;\"/><path class=\"point\" transform=\"translate(56.36,83.52)\" d=\"M3,0A3,3 0 1,1 0,-3A3,3 0 0,1 3,0Z\" style=\"opacity: 1; stroke-width: 0px; fill: rgb(31, 119, 180); fill-opacity: 1;\"/><path class=\"point\" transform=\"translate(133.7,79.19)\" d=\"M3,0A3,3 0 1,1 0,-3A3,3 0 0,1 3,0Z\" style=\"opacity: 1; stroke-width: 0px; fill: rgb(31, 119, 180); fill-opacity: 1;\"/><path class=\"point\" transform=\"translate(17.55,71.08)\" d=\"M3,0A3,3 0 1,1 0,-3A3,3 0 0,1 3,0Z\" style=\"opacity: 1; stroke-width: 0px; fill: rgb(31, 119, 180); fill-opacity: 1;\"/><path class=\"point\" transform=\"translate(61.83,64.99)\" d=\"M3,0A3,3 0 1,1 0,-3A3,3 0 0,1 3,0Z\" style=\"opacity: 1; stroke-width: 0px; fill: rgb(31, 119, 180); fill-opacity: 1;\"/><path class=\"point\" transform=\"translate(87.58,85.11)\" d=\"M3,0A3,3 0 1,1 0,-3A3,3 0 0,1 3,0Z\" style=\"opacity: 1; stroke-width: 0px; fill: rgb(31, 119, 180); fill-opacity: 1;\"/><path class=\"point\" transform=\"translate(28.45,72.87)\" d=\"M3,0A3,3 0 1,1 0,-3A3,3 0 0,1 3,0Z\" style=\"opacity: 1; stroke-width: 0px; fill: rgb(31, 119, 180); fill-opacity: 1;\"/><path class=\"point\" transform=\"translate(21.64,89)\" d=\"M3,0A3,3 0 1,1 0,-3A3,3 0 0,1 3,0Z\" style=\"opacity: 1; stroke-width: 0px; fill: rgb(31, 119, 180); fill-opacity: 1;\"/><path class=\"point\" transform=\"translate(92.58,90.52)\" d=\"M3,0A3,3 0 1,1 0,-3A3,3 0 0,1 3,0Z\" style=\"opacity: 1; stroke-width: 0px; fill: rgb(31, 119, 180); fill-opacity: 1;\"/><path class=\"point\" transform=\"translate(84.12,85.72)\" d=\"M3,0A3,3 0 1,1 0,-3A3,3 0 0,1 3,0Z\" style=\"opacity: 1; stroke-width: 0px; fill: rgb(31, 119, 180); fill-opacity: 1;\"/><path class=\"point\" transform=\"translate(179.88,86.08)\" d=\"M3,0A3,3 0 1,1 0,-3A3,3 0 0,1 3,0Z\" style=\"opacity: 1; stroke-width: 0px; fill: rgb(31, 119, 180); fill-opacity: 1;\"/><path class=\"point\" transform=\"translate(75.3,66.08)\" d=\"M3,0A3,3 0 1,1 0,-3A3,3 0 0,1 3,0Z\" style=\"opacity: 1; stroke-width: 0px; fill: rgb(31, 119, 180); fill-opacity: 1;\"/><path class=\"point\" transform=\"translate(31.93,75.74)\" d=\"M3,0A3,3 0 1,1 0,-3A3,3 0 0,1 3,0Z\" style=\"opacity: 1; stroke-width: 0px; fill: rgb(31, 119, 180); fill-opacity: 1;\"/><path class=\"point\" transform=\"translate(62.5,85.59)\" d=\"M3,0A3,3 0 1,1 0,-3A3,3 0 0,1 3,0Z\" style=\"opacity: 1; stroke-width: 0px; fill: rgb(31, 119, 180); fill-opacity: 1;\"/><path class=\"point\" transform=\"translate(147.82,78.3)\" d=\"M3,0A3,3 0 1,1 0,-3A3,3 0 0,1 3,0Z\" style=\"opacity: 1; stroke-width: 0px; fill: rgb(31, 119, 180); fill-opacity: 1;\"/><path class=\"point\" transform=\"translate(159.26,113.1)\" d=\"M3,0A3,3 0 1,1 0,-3A3,3 0 0,1 3,0Z\" style=\"opacity: 1; stroke-width: 0px; fill: rgb(31, 119, 180); fill-opacity: 1;\"/><path class=\"point\" transform=\"translate(163.63,73.1)\" d=\"M3,0A3,3 0 1,1 0,-3A3,3 0 0,1 3,0Z\" style=\"opacity: 1; stroke-width: 0px; fill: rgb(31, 119, 180); fill-opacity: 1;\"/><path class=\"point\" transform=\"translate(110.46,93.48)\" d=\"M3,0A3,3 0 1,1 0,-3A3,3 0 0,1 3,0Z\" style=\"opacity: 1; stroke-width: 0px; fill: rgb(31, 119, 180); fill-opacity: 1;\"/><path class=\"point\" transform=\"translate(89.8,95.27)\" d=\"M3,0A3,3 0 1,1 0,-3A3,3 0 0,1 3,0Z\" style=\"opacity: 1; stroke-width: 0px; fill: rgb(31, 119, 180); fill-opacity: 1;\"/><path class=\"point\" transform=\"translate(51.99,93.45)\" d=\"M3,0A3,3 0 1,1 0,-3A3,3 0 0,1 3,0Z\" style=\"opacity: 1; stroke-width: 0px; fill: rgb(31, 119, 180); fill-opacity: 1;\"/><path class=\"point\" transform=\"translate(56.16,82.75)\" d=\"M3,0A3,3 0 1,1 0,-3A3,3 0 0,1 3,0Z\" style=\"opacity: 1; stroke-width: 0px; fill: rgb(31, 119, 180); fill-opacity: 1;\"/><path class=\"point\" transform=\"translate(112,91.67)\" d=\"M3,0A3,3 0 1,1 0,-3A3,3 0 0,1 3,0Z\" style=\"opacity: 1; stroke-width: 0px; fill: rgb(31, 119, 180); fill-opacity: 1;\"/><path class=\"point\" transform=\"translate(202.85,80.51)\" d=\"M3,0A3,3 0 1,1 0,-3A3,3 0 0,1 3,0Z\" style=\"opacity: 1; stroke-width: 0px; fill: rgb(31, 119, 180); fill-opacity: 1;\"/><path class=\"point\" transform=\"translate(158.01,100.87)\" d=\"M3,0A3,3 0 1,1 0,-3A3,3 0 0,1 3,0Z\" style=\"opacity: 1; stroke-width: 0px; fill: rgb(31, 119, 180); fill-opacity: 1;\"/><path class=\"point\" transform=\"translate(86.14,107.64)\" d=\"M3,0A3,3 0 1,1 0,-3A3,3 0 0,1 3,0Z\" style=\"opacity: 1; stroke-width: 0px; fill: rgb(31, 119, 180); fill-opacity: 1;\"/><path class=\"point\" transform=\"translate(82.43,113.74)\" d=\"M3,0A3,3 0 1,1 0,-3A3,3 0 0,1 3,0Z\" style=\"opacity: 1; stroke-width: 0px; fill: rgb(31, 119, 180); fill-opacity: 1;\"/><path class=\"point\" transform=\"translate(143.45,94.62)\" d=\"M3,0A3,3 0 1,1 0,-3A3,3 0 0,1 3,0Z\" style=\"opacity: 1; stroke-width: 0px; fill: rgb(31, 119, 180); fill-opacity: 1;\"/><path class=\"point\" transform=\"translate(184.68,107.18)\" d=\"M3,0A3,3 0 1,1 0,-3A3,3 0 0,1 3,0Z\" style=\"opacity: 1; stroke-width: 0px; fill: rgb(31, 119, 180); fill-opacity: 1;\"/><path class=\"point\" transform=\"translate(258.45,91.71)\" d=\"M3,0A3,3 0 1,1 0,-3A3,3 0 0,1 3,0Z\" style=\"opacity: 1; stroke-width: 0px; fill: rgb(31, 119, 180); fill-opacity: 1;\"/><path class=\"point\" transform=\"translate(77.32,117.08)\" d=\"M3,0A3,3 0 1,1 0,-3A3,3 0 0,1 3,0Z\" style=\"opacity: 1; stroke-width: 0px; fill: rgb(31, 119, 180); fill-opacity: 1;\"/><path class=\"point\" transform=\"translate(35.98,61.44)\" d=\"M3,0A3,3 0 1,1 0,-3A3,3 0 0,1 3,0Z\" style=\"opacity: 1; stroke-width: 0px; fill: rgb(31, 119, 180); fill-opacity: 1;\"/><path class=\"point\" transform=\"translate(103.67,102.1)\" d=\"M3,0A3,3 0 1,1 0,-3A3,3 0 0,1 3,0Z\" style=\"opacity: 1; stroke-width: 0px; fill: rgb(31, 119, 180); fill-opacity: 1;\"/><path class=\"point\" transform=\"translate(145.86,91.09)\" d=\"M3,0A3,3 0 1,1 0,-3A3,3 0 0,1 3,0Z\" style=\"opacity: 1; stroke-width: 0px; fill: rgb(31, 119, 180); fill-opacity: 1;\"/><path class=\"point\" transform=\"translate(61.83,64.99)\" d=\"M3,0A3,3 0 1,1 0,-3A3,3 0 0,1 3,0Z\" style=\"opacity: 1; stroke-width: 0px; fill: rgb(31, 119, 180); fill-opacity: 1;\"/><path class=\"point\" transform=\"translate(98,95.31)\" d=\"M3,0A3,3 0 1,1 0,-3A3,3 0 0,1 3,0Z\" style=\"opacity: 1; stroke-width: 0px; fill: rgb(31, 119, 180); fill-opacity: 1;\"/><path class=\"point\" transform=\"translate(78.77,69.48)\" d=\"M3,0A3,3 0 1,1 0,-3A3,3 0 0,1 3,0Z\" style=\"opacity: 1; stroke-width: 0px; fill: rgb(31, 119, 180); fill-opacity: 1;\"/></g><g class=\"text\"/></g></g></g><g class=\"overplot\"/><path class=\"xlines-above crisp\" d=\"M63,191.5H340\" style=\"fill: none; stroke-width: 1px; stroke: rgb(36, 36, 36); stroke-opacity: 1;\"/><path class=\"ylines-above crisp\" d=\"M63.5,10V191\" style=\"fill: none; stroke-width: 1px; stroke: rgb(36, 36, 36); stroke-opacity: 1;\"/><g class=\"overlines-above\"/><g class=\"xaxislayer-above\"><path class=\"xtick ticks crisp\" d=\"M0,192v5\" transform=\"translate(129.20999999999998,0)\" style=\"stroke: rgb(68, 68, 68); stroke-opacity: 1; stroke-width: 1px;\"/><path class=\"xtick ticks crisp\" d=\"M0,192v5\" transform=\"translate(206.25,0)\" style=\"stroke: rgb(68, 68, 68); stroke-opacity: 1; stroke-width: 1px;\"/><path class=\"xtick ticks crisp\" d=\"M0,192v5\" transform=\"translate(283.3,0)\" style=\"stroke: rgb(68, 68, 68); stroke-opacity: 1; stroke-width: 1px;\"/><g class=\"xtick\"><text text-anchor=\"middle\" x=\"0\" y=\"211.4\" transform=\"translate(129.20999999999998,0)\" style=\"font-family: 'Open Sans', verdana, arial, sans-serif; font-size: 12px; fill: rgb(36, 36, 36); fill-opacity: 1; white-space: pre; opacity: 1;\">10</text></g><g class=\"xtick\"><text text-anchor=\"middle\" x=\"0\" y=\"211.4\" style=\"font-family: 'Open Sans', verdana, arial, sans-serif; font-size: 12px; fill: rgb(36, 36, 36); fill-opacity: 1; white-space: pre; opacity: 1;\" transform=\"translate(206.25,0)\">20</text></g><g class=\"xtick\"><text text-anchor=\"middle\" x=\"0\" y=\"211.4\" style=\"font-family: 'Open Sans', verdana, arial, sans-serif; font-size: 12px; fill: rgb(36, 36, 36); fill-opacity: 1; white-space: pre; opacity: 1;\" transform=\"translate(283.3,0)\">30</text></g></g><g class=\"yaxislayer-above\"><path class=\"ytick ticks crisp\" d=\"M63,0h-5\" transform=\"translate(0,175.92)\" style=\"stroke: rgb(68, 68, 68); stroke-opacity: 1; stroke-width: 1px;\"/><path class=\"ytick ticks crisp\" d=\"M63,0h-5\" transform=\"translate(0,138.21)\" style=\"stroke: rgb(68, 68, 68); stroke-opacity: 1; stroke-width: 1px;\"/><path class=\"ytick ticks crisp\" d=\"M63,0h-5\" transform=\"translate(0,100.5)\" style=\"stroke: rgb(68, 68, 68); stroke-opacity: 1; stroke-width: 1px;\"/><path class=\"ytick ticks crisp\" d=\"M63,0h-5\" transform=\"translate(0,62.79)\" style=\"stroke: rgb(68, 68, 68); stroke-opacity: 1; stroke-width: 1px;\"/><path class=\"ytick ticks crisp\" d=\"M63,0h-5\" transform=\"translate(0,25.08)\" style=\"stroke: rgb(68, 68, 68); stroke-opacity: 1; stroke-width: 1px;\"/><g class=\"ytick\"><text text-anchor=\"end\" x=\"55.6\" y=\"4.199999999999999\" transform=\"translate(0,175.92)\" style=\"font-family: 'Open Sans', verdana, arial, sans-serif; font-size: 12px; fill: rgb(36, 36, 36); fill-opacity: 1; white-space: pre; opacity: 1;\">−10</text></g><g class=\"ytick\"><text text-anchor=\"end\" x=\"55.6\" y=\"4.199999999999999\" style=\"font-family: 'Open Sans', verdana, arial, sans-serif; font-size: 12px; fill: rgb(36, 36, 36); fill-opacity: 1; white-space: pre; opacity: 1;\" transform=\"translate(0,138.21)\">−5</text></g><g class=\"ytick\"><text text-anchor=\"end\" x=\"55.6\" y=\"4.199999999999999\" style=\"font-family: 'Open Sans', verdana, arial, sans-serif; font-size: 12px; fill: rgb(36, 36, 36); fill-opacity: 1; white-space: pre; opacity: 1;\" transform=\"translate(0,100.5)\">0</text></g><g class=\"ytick\"><text text-anchor=\"end\" x=\"55.6\" y=\"4.199999999999999\" style=\"font-family: 'Open Sans', verdana, arial, sans-serif; font-size: 12px; fill: rgb(36, 36, 36); fill-opacity: 1; white-space: pre; opacity: 1;\" transform=\"translate(0,62.79)\">5</text></g><g class=\"ytick\"><text text-anchor=\"end\" x=\"55.6\" y=\"4.199999999999999\" style=\"font-family: 'Open Sans', verdana, arial, sans-serif; font-size: 12px; fill: rgb(36, 36, 36); fill-opacity: 1; white-space: pre; opacity: 1;\" transform=\"translate(0,25.08)\">10</text></g></g><g class=\"overaxes-above\"/></g></g><g class=\"polarlayer\"/><g class=\"smithlayer\"/><g class=\"ternarylayer\"/><g class=\"geolayer\"/><g class=\"funnelarealayer\"/><g class=\"pielayer\"/><g class=\"iciclelayer\"/><g class=\"treemaplayer\"/><g class=\"sunburstlayer\"/><g class=\"glimages\"/><defs id=\"topdefs-7e9866\"><g class=\"clips\"/></defs><g class=\"layer-above\"><g class=\"imagelayer\"/><g class=\"shapelayer\"><path data-index=\"0\" fill-rule=\"evenodd\" d=\"M64,100.5L340,100.5\" clip-path=\"url(#clip7e9866y)\" style=\"opacity: 1; stroke: rgb(0, 0, 0); stroke-opacity: 1; fill: rgb(0, 0, 0); fill-opacity: 1; stroke-dasharray: 9px, 9px; stroke-width: 3px;\"/></g></g><g class=\"infolayer\"><g class=\"g-gtitle\"/><g class=\"g-xtitle\"><text class=\"xtitle\" x=\"202\" y=\"239.70625\" text-anchor=\"middle\" style=\"font-family: 'Open Sans', verdana, arial, sans-serif; font-size: 14px; fill: rgb(36, 36, 36); opacity: 1; font-weight: normal; white-space: pre;\">Predicted PurpleAir measurement</text></g><g class=\"g-ytitle\" transform=\"translate(4.7841796875,0)\"><text class=\"ytitle\" transform=\"rotate(-90,10.215625000000003,100.5)\" x=\"10.215625000000003\" y=\"100.5\" text-anchor=\"middle\" style=\"font-family: 'Open Sans', verdana, arial, sans-serif; font-size: 14px; fill: rgb(36, 36, 36); opacity: 1; font-weight: normal; white-space: pre;\">Error</text></g></g></svg>"
      ]
     },
     "metadata": {},
     "output_type": "display_data"
    }
   ],
   "source": [
    "fig = px.scatter(y = error_2var, x=predicted_2var,\n",
    "                 labels={\"y\": \"Error\", \"x\": \"Predicted PurpleAir measurement\"},\n",
    "                 width=350, height=250)\n",
    "\n",
    "fig.update_yaxes(range=[-12, 12])\n",
    "fig.add_hline(0, line_width=3, line_dash='dash', opacity=1)\n",
    "\n",
    "fig.show()"
   ]
  },
  {
   "cell_type": "markdown",
   "metadata": {},
   "source": [
    "The residual plot appears to have no clear patterns, which indicates that the model fits pretty well. Notice also that the errors nearly all fall within –4 and +4 ppm, a smaller range than in the simple linear model. And we find the standard deviation of the residuals is quite a bit smaller: "
   ]
  },
  {
   "cell_type": "code",
   "execution_count": 19,
   "metadata": {},
   "outputs": [
    {
     "data": {
      "text/plain": [
       "1.8211427707294048"
      ]
     },
     "execution_count": 19,
     "metadata": {},
     "output_type": "execute_result"
    }
   ],
   "source": [
    "error_2var.std()"
   ]
  },
  {
   "cell_type": "markdown",
   "metadata": {},
   "source": [
    "The residual standard deviation has been reduced from 2.8 ppm in the one variable model to 1.8 ppm, a good size reduction. "
   ]
  },
  {
   "cell_type": "markdown",
   "metadata": {},
   "source": [
    "The correlation coefficient can't capture the strength of a linear association model when we have more than one explanatory variable. Instead, we adapt the MSE to give us a sense of model fit. In the next section, we describe how to fit a multiple linear model and use the MSE to assess fit. "
   ]
  }
 ],
 "metadata": {
  "kernelspec": {
   "display_name": "Python 3",
   "language": "python",
   "name": "python3"
  },
  "language_info": {
   "codemirror_mode": {
    "name": "ipython",
    "version": 3
   },
   "file_extension": ".py",
   "mimetype": "text/x-python",
   "name": "python",
   "nbconvert_exporter": "python",
   "pygments_lexer": "ipython3",
   "version": "3.9.4"
  }
 },
 "nbformat": 4,
 "nbformat_minor": 4
}
