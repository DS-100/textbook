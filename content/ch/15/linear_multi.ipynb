{
 "cells": [
  {
   "cell_type": "code",
   "execution_count": 2,
   "metadata": {
    "tags": [
     "remove-cell"
    ]
   },
   "outputs": [],
   "source": [
    "import sys\n",
    "import os\n",
    "if not any(path.endswith('textbook') for path in sys.path):\n",
    "    sys.path.append(os.path.abspath('../../..'))\n",
    "from textbook_utils import *"
   ]
  },
  {
   "cell_type": "code",
   "execution_count": 3,
   "metadata": {
    "tags": [
     "remove-cell"
    ]
   },
   "outputs": [],
   "source": [
    "outlier_czs = [34105, 34113, 34112, 34106]\n",
    "df = (\n",
    "    pd.read_csv('data/mobility.csv')\n",
    "    # filter out rows with NaN AUM values\n",
    "    .query('not aum.isnull()', engine='python')\n",
    "    # take out outlier CZs\n",
    "    .query('cz not in @outlier_czs')\n",
    ")"
   ]
  },
  {
   "cell_type": "markdown",
   "metadata": {},
   "source": [
    "(sec:linear_multi)=\n",
    "# Multiple Linear Model"
   ]
  },
  {
   "cell_type": "markdown",
   "metadata": {},
   "source": [
    "So far, we've used a single predictor variable $ x $ to predict the outcome\n",
    "$ y $.\n",
    "Now, we'll introduce the *multiple linear model*, a linear model that uses\n",
    "multiple predictors to predict $ y $.\n",
    "This is useful because having multiple predictors can\n",
    "improve our model's fit to the data and improve accuracy.\n",
    "After defining the multiple linear model, we'll use it to predict AUM using\n",
    "a combination of variables."
   ]
  },
  {
   "cell_type": "markdown",
   "metadata": {},
   "source": [
    "If we have multiple predictors, we say that $ x $ is a $ p $-dimensional\n",
    "column vector\n",
    "$ x = [ x_1, x_2, \\ldots, x_p ] $. Then, for a given $ x $ the\n",
    "outcome $ y $ depends on a linear combination of $ x_i $:"
   ]
  },
  {
   "cell_type": "markdown",
   "metadata": {},
   "source": [
    "$$\n",
    "\\begin{aligned}\n",
    "y = \\theta_0 + \\theta_1 x_1 + \\ldots + \\theta_p x_p + \\epsilon\n",
    "\\end{aligned}\n",
    "$$"
   ]
  },
  {
   "cell_type": "markdown",
   "metadata": {},
   "source": [
    "Similar to the simple linear model, our\n",
    "multiple linear model $ f_{\\theta}(x) $ predicts $ y $ for a given $ x $:"
   ]
  },
  {
   "cell_type": "markdown",
   "metadata": {},
   "source": [
    "$$\n",
    "\\begin{aligned}\n",
    "f_{\\theta}(x) = \\theta_0 + \\theta_1 x_1 + \\ldots + \\theta_p x_p\n",
    "\\end{aligned}\n",
    "$$"
   ]
  },
  {
   "cell_type": "markdown",
   "metadata": {},
   "source": [
    "We can simplify this notation if we add an intercept term to $ x $ so that\n",
    "$ x = [ 1, x_1, x_2, \\ldots, x_p ] $.\n",
    "Since we also write our model parameters as a column vector\n",
    "$ \\theta = [ \\theta_0, \\theta_1, \\ldots, \\theta_p ] $, we can\n",
    "use the definition of the dot product to\n",
    "write our model as:"
   ]
  },
  {
   "cell_type": "markdown",
   "metadata": {},
   "source": [
    "$$\n",
    "\\begin{aligned}\n",
    "f_{\\theta}(x) &= \\theta_0 + \\theta_1 x_1 + \\ldots + \\theta_p x_p \\\\\n",
    "&= \\theta \\cdot x \\\\\n",
    "\\end{aligned}\n",
    "$$"
   ]
  },
  {
   "cell_type": "markdown",
   "metadata": {},
   "source": [
    "As a final simplification, we'll use matrix notation to show how our\n",
    "models works on our entire dataset.\n",
    "Before, we said that a single observation is $ (x, y) $, where $ x $ is a\n",
    "vector of predictor variables and $ y $ is the scalar outcome. \n",
    "Now, we'll say that $ X $ is a matrix. Each row of $ X $ has the predictors\n",
    "for a single observation.\n",
    "We'll also say that $ y $ is a vector (instead of scalar) with the outcomes\n",
    "for each observation:"
   ]
  },
  {
   "cell_type": "markdown",
   "metadata": {},
   "source": [
    "$$\n",
    "\\begin{aligned}\n",
    "X = \n",
    "\\begin{bmatrix}\n",
    "1 & x_{11} & x_{12} & \\cdots & x_{1p} \\\\\n",
    "1 & x_{21} & x_{22} & \\cdots & x_{2p} \\\\\n",
    "  &        & \\vdots &        &        \\\\\n",
    "1 & x_{n1} & x_{n2} & \\cdots & x_{np} \\\\\n",
    "\\end{bmatrix}\n",
    "& &\n",
    "y =  \n",
    "\\begin{bmatrix}\n",
    "y_1 \\\\\n",
    "y_2 \\\\\n",
    "\\vdots \\\\\n",
    "y_n\n",
    "\\end{bmatrix}\n",
    "\\end{aligned}\n",
    "$$\n"
   ]
  },
  {
   "cell_type": "markdown",
   "metadata": {},
   "source": [
    "We call $ X $ the *design matrix*.\n",
    "It's a $ n \\times (p + 1) $ matrix (remember that we added an extra dimension\n",
    "for the intercept term).\n",
    "Now, we can write the predictions for the entire dataset using\n",
    "matrix multiplication:"
   ]
  },
  {
   "cell_type": "markdown",
   "metadata": {},
   "source": [
    "$$\n",
    "\\begin{aligned}\n",
    "f_{\\theta}(x) &= X \\theta\n",
    "\\end{aligned}\n",
    "$$"
   ]
  },
  {
   "cell_type": "markdown",
   "metadata": {},
   "source": [
    "$ X $ is an $ n \\times (p + 1) $ matrix and $ \\theta $ is a $ (p + 1) $-dimensional column vector.\n",
    "This means that $ X \\theta $ is\n",
    "an $ n $-dimensional column vector. Each item in the vector\n",
    "is the model's predictions for one observation.\n",
    "It's easier to understand the design matrix through an example, so let's\n",
    "return to the Opportunity data."
   ]
  },
  {
   "cell_type": "markdown",
   "metadata": {},
   "source": [
    "## Predicting Upward Mobility Using Multiple Variables"
   ]
  },
  {
   "cell_type": "markdown",
   "metadata": {},
   "source": [
    "Before, we used the fraction of people with a ≤15 min commute time to predict\n",
    "the AUM for a commuting zone.\n",
    "Now, we'd like to use a combination of predictors.\n",
    "In his original analysis, Chetty created nine high-level\n",
    "predictor categories like segregation, income, and K-12 education.\n",
    "We'll take one predictor from each of Chetty's categories for a total of\n",
    "nine predictors, described in {numref}`Table %s <tbl:linear-predictors>`."
   ]
  },
  {
   "cell_type": "markdown",
   "metadata": {},
   "source": [
    ":::{table} The nine variables we use to predict AUM\n",
    ":name: tbl:linear-predictors\n",
    "\n",
    "| Column name | Description |\n",
    "| ----------- | ----------- |\n",
    "| frac_traveltime_lt15 | Fraction of people with a ≤15 minute commute to work.\n",
    "| gini | Gini coefficient, an measure of wealth inequality. Values are between 0 and 1, where small values mean wealth is evenly distributed and large values mean more inequality.\n",
    "| dropout_r | High school dropout rate.\n",
    "| rel_tot | Fraction of people who self-reported as religious.\n",
    "| cs_fam_wkidsinglemom | Fraction of children with a single mother.\n",
    "| taxrate | Local tax rate.\n",
    "| gradrate_r | College graduation rate.\n",
    "| frac_worked1416 | Fraction of teenagers who are working.\n",
    "| cs_born_foreign | Fraction of people born outside the US.\n",
    ":::"
   ]
  },
  {
   "cell_type": "markdown",
   "metadata": {},
   "source": [
    "Our original dataframe has around 40 predictors:"
   ]
  },
  {
   "cell_type": "code",
   "execution_count": 4,
   "metadata": {},
   "outputs": [
    {
     "data": {
      "text/html": [
       "<div>\n",
       "<style scoped>\n",
       "    .dataframe tbody tr th:only-of-type {\n",
       "        vertical-align: middle;\n",
       "    }\n",
       "\n",
       "    .dataframe tbody tr th {\n",
       "        vertical-align: top;\n",
       "    }\n",
       "\n",
       "    .dataframe thead th {\n",
       "        text-align: right;\n",
       "    }\n",
       "</style>\n",
       "<table border=\"1\" class=\"dataframe\">\n",
       "  <thead>\n",
       "    <tr style=\"text-align: right;\">\n",
       "      <th></th>\n",
       "      <th>cz</th>\n",
       "      <th>czname</th>\n",
       "      <th>stateabbrv</th>\n",
       "      <th>aum</th>\n",
       "      <th>...</th>\n",
       "      <th>cs_fam_wkidsinglemom</th>\n",
       "      <th>cs_divorced</th>\n",
       "      <th>cs_married</th>\n",
       "      <th>incgrowth0010</th>\n",
       "    </tr>\n",
       "  </thead>\n",
       "  <tbody>\n",
       "    <tr>\n",
       "      <th>0</th>\n",
       "      <td>100.0</td>\n",
       "      <td>Johnson City</td>\n",
       "      <td>TN</td>\n",
       "      <td>38.39</td>\n",
       "      <td>...</td>\n",
       "      <td>0.19</td>\n",
       "      <td>0.11</td>\n",
       "      <td>0.60</td>\n",
       "      <td>-2.28e-03</td>\n",
       "    </tr>\n",
       "    <tr>\n",
       "      <th>1</th>\n",
       "      <td>200.0</td>\n",
       "      <td>Morristown</td>\n",
       "      <td>TN</td>\n",
       "      <td>37.78</td>\n",
       "      <td>...</td>\n",
       "      <td>0.19</td>\n",
       "      <td>0.12</td>\n",
       "      <td>0.61</td>\n",
       "      <td>-2.15e-03</td>\n",
       "    </tr>\n",
       "  </tbody>\n",
       "</table>\n",
       "<p>2 rows × 43 columns</p>\n",
       "</div>"
      ],
      "text/plain": [
       "      cz        czname stateabbrv    aum  ...  cs_fam_wkidsinglemom  \\\n",
       "0  100.0  Johnson City         TN  38.39  ...                  0.19   \n",
       "1  200.0    Morristown         TN  37.78  ...                  0.19   \n",
       "\n",
       "   cs_divorced  cs_married  incgrowth0010  \n",
       "0         0.11        0.60      -2.28e-03  \n",
       "1         0.12        0.61      -2.15e-03  \n",
       "\n",
       "[2 rows x 43 columns]"
      ]
     },
     "execution_count": 4,
     "metadata": {},
     "output_type": "execute_result"
    }
   ],
   "source": [
    "df.head(2)"
   ]
  },
  {
   "cell_type": "markdown",
   "metadata": {},
   "source": [
    "We'll subset out the design matrix into a DataFrame `X` and\n",
    "the column of outcomes into a Series `y`."
   ]
  },
  {
   "cell_type": "code",
   "execution_count": 13,
   "metadata": {
    "tags": [
     "hide-cell"
    ]
   },
   "outputs": [],
   "source": [
    "predictors = [\n",
    "    'frac_traveltime_lt15',\n",
    "    'gini',\n",
    "    'dropout_r',\n",
    "    'rel_tot',\n",
    "    'cs_fam_wkidsinglemom',\n",
    "    'taxrate',\n",
    "    'gradrate_r',\n",
    "    'frac_worked1416',\n",
    "    'cs_born_foreign',\n",
    "]\n",
    "\n",
    "X = (df[predictors]\n",
    "    # Some predictors are missing; we'll drop them for simplicity\n",
    "    .dropna()\n",
    "    .assign(intr=1)\n",
    "    # Move intercept column to appear first\n",
    "    [['intr', *predictors]]\n",
    ")\n",
    "y = df.loc[X.index, 'aum']\n",
    "X = X.reset_index(drop=True)\n",
    "y = y.reset_index(drop=True)"
   ]
  },
  {
   "cell_type": "code",
   "execution_count": 18,
   "metadata": {},
   "outputs": [
    {
     "name": "stdout",
     "output_type": "stream",
     "text": [
      "X: (479, 10) matrix\n",
      "y: (479,) vector\n"
     ]
    }
   ],
   "source": [
    "print(f'X: {X.shape} matrix')\n",
    "print(f'y: {y.shape} vector')"
   ]
  },
  {
   "cell_type": "markdown",
   "metadata": {},
   "source": [
    "Let's look at `X`, a dataframe that we're using as our design matrix.\n",
    "It has 479 observations and 9 predictors plus an intercept column:"
   ]
  },
  {
   "cell_type": "code",
   "execution_count": 19,
   "metadata": {},
   "outputs": [
    {
     "data": {
      "text/html": [
       "<div>\n",
       "<style scoped>\n",
       "    .dataframe tbody tr th:only-of-type {\n",
       "        vertical-align: middle;\n",
       "    }\n",
       "\n",
       "    .dataframe tbody tr th {\n",
       "        vertical-align: top;\n",
       "    }\n",
       "\n",
       "    .dataframe thead th {\n",
       "        text-align: right;\n",
       "    }\n",
       "</style>\n",
       "<table border=\"1\" class=\"dataframe\">\n",
       "  <thead>\n",
       "    <tr style=\"text-align: right;\">\n",
       "      <th></th>\n",
       "      <th>intr</th>\n",
       "      <th>frac_traveltime_lt15</th>\n",
       "      <th>gini</th>\n",
       "      <th>dropout_r</th>\n",
       "      <th>...</th>\n",
       "      <th>taxrate</th>\n",
       "      <th>gradrate_r</th>\n",
       "      <th>frac_worked1416</th>\n",
       "      <th>cs_born_foreign</th>\n",
       "    </tr>\n",
       "  </thead>\n",
       "  <tbody>\n",
       "    <tr>\n",
       "      <th>0</th>\n",
       "      <td>1</td>\n",
       "      <td>0.33</td>\n",
       "      <td>0.47</td>\n",
       "      <td>-1.53e-02</td>\n",
       "      <td>...</td>\n",
       "      <td>0.02</td>\n",
       "      <td>-2.43e-03</td>\n",
       "      <td>3.75e-03</td>\n",
       "      <td>1.18e-02</td>\n",
       "    </tr>\n",
       "    <tr>\n",
       "      <th>1</th>\n",
       "      <td>1</td>\n",
       "      <td>0.28</td>\n",
       "      <td>0.43</td>\n",
       "      <td>-2.35e-02</td>\n",
       "      <td>...</td>\n",
       "      <td>0.02</td>\n",
       "      <td>-1.01e-01</td>\n",
       "      <td>4.78e-03</td>\n",
       "      <td>2.31e-02</td>\n",
       "    </tr>\n",
       "    <tr>\n",
       "      <th>2</th>\n",
       "      <td>1</td>\n",
       "      <td>0.36</td>\n",
       "      <td>0.44</td>\n",
       "      <td>-4.63e-03</td>\n",
       "      <td>...</td>\n",
       "      <td>0.01</td>\n",
       "      <td>1.11e-01</td>\n",
       "      <td>2.89e-03</td>\n",
       "      <td>7.08e-03</td>\n",
       "    </tr>\n",
       "    <tr>\n",
       "      <th>...</th>\n",
       "      <td>...</td>\n",
       "      <td>...</td>\n",
       "      <td>...</td>\n",
       "      <td>...</td>\n",
       "      <td>...</td>\n",
       "      <td>...</td>\n",
       "      <td>...</td>\n",
       "      <td>...</td>\n",
       "      <td>...</td>\n",
       "    </tr>\n",
       "    <tr>\n",
       "      <th>476</th>\n",
       "      <td>1</td>\n",
       "      <td>0.45</td>\n",
       "      <td>0.36</td>\n",
       "      <td>7.07e-03</td>\n",
       "      <td>...</td>\n",
       "      <td>0.02</td>\n",
       "      <td>-4.30e-02</td>\n",
       "      <td>4.33e-03</td>\n",
       "      <td>1.12e-01</td>\n",
       "    </tr>\n",
       "    <tr>\n",
       "      <th>477</th>\n",
       "      <td>1</td>\n",
       "      <td>0.65</td>\n",
       "      <td>0.36</td>\n",
       "      <td>-1.53e-02</td>\n",
       "      <td>...</td>\n",
       "      <td>0.02</td>\n",
       "      <td>-4.94e-02</td>\n",
       "      <td>4.30e-03</td>\n",
       "      <td>2.33e-02</td>\n",
       "    </tr>\n",
       "    <tr>\n",
       "      <th>478</th>\n",
       "      <td>1</td>\n",
       "      <td>0.47</td>\n",
       "      <td>0.44</td>\n",
       "      <td>2.61e-03</td>\n",
       "      <td>...</td>\n",
       "      <td>0.02</td>\n",
       "      <td>-2.70e-01</td>\n",
       "      <td>5.46e-03</td>\n",
       "      <td>3.69e-02</td>\n",
       "    </tr>\n",
       "  </tbody>\n",
       "</table>\n",
       "<p>479 rows × 10 columns</p>\n",
       "</div>"
      ],
      "text/plain": [
       "     intr  frac_traveltime_lt15  gini  dropout_r  ...  taxrate  gradrate_r  \\\n",
       "0       1                  0.33  0.47  -1.53e-02  ...     0.02   -2.43e-03   \n",
       "1       1                  0.28  0.43  -2.35e-02  ...     0.02   -1.01e-01   \n",
       "2       1                  0.36  0.44  -4.63e-03  ...     0.01    1.11e-01   \n",
       "..    ...                   ...   ...        ...  ...      ...         ...   \n",
       "476     1                  0.45  0.36   7.07e-03  ...     0.02   -4.30e-02   \n",
       "477     1                  0.65  0.36  -1.53e-02  ...     0.02   -4.94e-02   \n",
       "478     1                  0.47  0.44   2.61e-03  ...     0.02   -2.70e-01   \n",
       "\n",
       "     frac_worked1416  cs_born_foreign  \n",
       "0           3.75e-03         1.18e-02  \n",
       "1           4.78e-03         2.31e-02  \n",
       "2           2.89e-03         7.08e-03  \n",
       "..               ...              ...  \n",
       "476         4.33e-03         1.12e-01  \n",
       "477         4.30e-03         2.33e-02  \n",
       "478         5.46e-03         3.69e-02  \n",
       "\n",
       "[479 rows x 10 columns]"
      ]
     },
     "execution_count": 19,
     "metadata": {},
     "output_type": "execute_result"
    }
   ],
   "source": [
    "X"
   ]
  },
  {
   "cell_type": "markdown",
   "metadata": {},
   "source": [
    "Notice that our design matrix is a subset of our original dataframe---we just\n",
    "selected specific variables we want to use for prediction.\n",
    "Each row of our design matrix corresponds to an observation in our original\n",
    "data, and each column corresponds to a predictor variable, as depicted in\n",
    "{numref}`Figure %s <fig:design-matrix>`.\n"
   ]
  },
  {
   "cell_type": "markdown",
   "metadata": {},
   "source": [
    "```{figure} figures/design-matrix.svg\n",
    "---\n",
    "name: fig:design-matrix\n",
    "---\n",
    "\n",
    "Each row and column of $X$ represent an observation and a feature.\n",
    "```"
   ]
  },
  {
   "cell_type": "markdown",
   "metadata": {},
   "source": [
    "One technicality: the design matrix is defined as a mathematical matrix,\n",
    "not a dataframe, and a matrix doesn't include the column or row labels that the \n",
    "`X` dataframe has.\n",
    "But, we usually don't have to worry about converting `X` into a matrix\n",
    "since most Python libraries for modeling treat dataframes as if\n",
    "they were matrices."
   ]
  },
  {
   "cell_type": "markdown",
   "metadata": {},
   "source": [
    ":::{note}\n",
    "\n",
    "Once again, we'll point out that people from different backgrounds use\n",
    "different terminology.\n",
    "For example, we say that each row in the design matrix $X$ is an observation\n",
    "and each column is a variable.\n",
    "This is more common among people with backgrounds in statistics.\n",
    "Others say that each column of the design matrix represents a *feature*.\n",
    "Also, we say that our overall process of fitting and interpreting models\n",
    "is called *modeling*, while others call it *machine learning*.\n",
    "\n",
    ":::"
   ]
  },
  {
   "cell_type": "markdown",
   "metadata": {},
   "source": [
    "Now that we have our data prepared for modeling, in the next section we'll \n",
    "fit our model by finding the $ \\hat{\\theta} $ that minimizes our loss."
   ]
  }
 ],
 "metadata": {
  "kernelspec": {
   "display_name": "Python 3",
   "language": "python",
   "name": "python3"
  },
  "language_info": {
   "codemirror_mode": {
    "name": "ipython",
    "version": 3
   },
   "file_extension": ".py",
   "mimetype": "text/x-python",
   "name": "python",
   "nbconvert_exporter": "python",
   "pygments_lexer": "ipython3",
   "version": "3.9.4"
  }
 },
 "nbformat": 4,
 "nbformat_minor": 4
}
