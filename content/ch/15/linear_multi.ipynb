{
 "cells": [
  {
   "cell_type": "code",
   "execution_count": 3,
   "metadata": {
    "tags": [
     "remove-cell"
    ]
   },
   "outputs": [],
   "source": [
    "import sys\n",
    "import os\n",
    "if not any(path.endswith('textbook') for path in sys.path):\n",
    "    sys.path.append(os.path.abspath('../../..'))\n",
    "from textbook_utils import *"
   ]
  },
  {
   "cell_type": "code",
   "execution_count": 4,
   "metadata": {
    "tags": [
     "remove-cell"
    ]
   },
   "outputs": [],
   "source": [
    "csv_file = 'data/Full24hrdataset.csv'\n",
    "usecols = ['Date', 'ID', 'region', 'PM25FM', 'PM25cf1', 'RH']\n",
    "full = (pd.read_csv(csv_file, usecols=usecols, parse_dates=['Date'])\n",
    "        .dropna())\n",
    "full.columns = ['date', 'id', 'region', 'pm25aqs', 'pm25pa', 'rh']\n",
    "\n",
    "bad_dates = ['2019-08-21', '2019-08-22', '2019-09-24']\n",
    "GA = full.loc[(full['id'] == 'GA1') & (~full['date'].isin(bad_dates)) , :]"
   ]
  },
  {
   "cell_type": "markdown",
   "metadata": {},
   "source": [
    "(sec:linear_multi)=\n",
    "# Multiple Linear Model"
   ]
  },
  {
   "cell_type": "markdown",
   "metadata": {},
   "source": [
    "So far in this chapter, we've used a single input variable to predict an outcome variable.\n",
    "Now, we introduce the *multiple linear model* that uses\n",
    "more than one feature to predict (or describe or explain) the outcome.\n",
    "Having multiple explanatory features can improve our model's fit to the data and improve predictions."
   ]
  },
  {
   "cell_type": "markdown",
   "metadata": {},
   "source": [
    "We start by generalizing from a simple linear model to one that includes a second explanatory variable, called $v$. This model is linear in both $x$ and $v$; meaning that for a pair of values for $x$ and $v$, we can describe, explain, or predict $y$ by the linear combination: \n",
    "\n",
    "$$ y \\approx \\theta_0 + \\theta_1 x + \\theta_2 v.$$\n",
    "\n",
    "Notice that for a particular value of $v$, say $v^\\star$, we can re-express the above equation as\n",
    "\n",
    "$$ y \\approx (\\theta_0 + \\theta_2 v^\\star) ~+~ \\theta_1 x.$$\n",
    "\n",
    "In other words, when we hold $v$ constant at $v^\\star$, we have a simple linear relation between $x$ and $y$ with slope $\\theta_1$ and intercept $\\theta_0 + \\theta_2 v^\\star$. \n",
    "For a different value of $v$, say $v^\\dagger$,  we again have a simple linear relationship between $x$ and $y$. The slope for $x$ remains the same and the only change is the intercept, which is now $\\theta_0 + \\theta_2v^\\dagger$."
   ]
  },
  {
   "cell_type": "markdown",
   "metadata": {},
   "source": [
    "With multiple linear regression, we need to remember to interpret the coefficient $\\theta_1$ of $x$ in the presence of the other variables in the model. Holding fixed the values of the other variables in the model (that's just $v$ in this case), an increase of 1 unit in $x$ corresponds to a $\\theta_1$ change in $y$, on average. One way to visualize this kind of multiple linear relationship is to create facets of scatter plots of $(x, y)$ where in each plot the values of $v$ are roughly the same. We make such a scatter plot for the air quality measurements next, and provide examples of additional visualizations and statistics to examine when fitting a multiple linear model.    "
   ]
  },
  {
   "cell_type": "markdown",
   "metadata": {},
   "source": [
    "## Example: A Multiple Linear Model for Air Quality"
   ]
  },
  {
   "cell_type": "markdown",
   "metadata": {},
   "source": [
    "The scientists who studied the air quality monitors (see {numref}`Chapter %s <ch:pa>`) were looking for an improved model that incorporated weather factors.\n",
    "One weather variable that they examined was a daily measurement for relative humidity.  Let's consider a two-variable linear model to explain the PurpleAir measurements based on the AQS sensor measurements and relative humidity. This model has the following form:\n",
    "\n",
    "$$ PA \\approx \\theta_0 + \\theta_1 AQ + \\theta_2 RH,$$\n",
    "\n",
    "where $PA$, $AQ$, and $RH$ refer to the variables: PurpleAir average daily measurement, the AQS measurement, and relative humidity, respectively.\n",
    "\n",
    "For a first step, we make a facet plot to compare the relationship between the two air quality measurements for fixed values of humidity. To do this, we transform relative humidity to a categorical variable so each facet consists of observations with similar humidity."
   ]
  },
  {
   "cell_type": "code",
   "execution_count": 5,
   "metadata": {},
   "outputs": [],
   "source": [
    "rh_cat = pd.cut(GA['rh'], bins=[43,50,55,60,78], \n",
    "                labels=['<50','50-55','55-60','>60'])"
   ]
  },
  {
   "cell_type": "code",
   "execution_count": 6,
   "metadata": {
    "tags": []
   },
   "outputs": [
    {
     "data": {
      "application/vnd.plotly.v1+json": {
       "config": {
        "plotlyServerURL": "https://plot.ly"
       },
       "data": [
        {
         "hovertemplate": "facet_col=55-60<br>pm25aqs=%{x}<br>pm25pa=%{y}<extra></extra>",
         "legendgroup": "",
         "marker": {
          "color": "#1F77B4",
          "symbol": "circle"
         },
         "mode": "markers",
         "name": "",
         "orientation": "v",
         "showlegend": false,
         "type": "scatter",
         "x": [
          8.645833,
          7.704167,
          6.3,
          9.441667,
          9.754167,
          11.020833,
          11.679167,
          6.686957,
          7.478261,
          7.278261,
          9.533333,
          9.759091,
          10.4,
          9.854167,
          13.995833,
          11.733333,
          12.83913,
          10.782609,
          7.65,
          7.133333,
          5.741667,
          6,
          8.295833,
          6.3,
          7.725,
          9.516667,
          10.833333,
          13.870833,
          8.156522,
          13.5125,
          13.9375,
          11,
          11.5,
          12.9,
          7,
          7.9,
          5.9,
          8.9,
          9.3,
          10.1,
          9.3,
          12.1,
          9.5,
          12,
          9.5,
          5.4,
          5.8,
          5.7,
          4.2,
          8,
          5.9,
          7.8,
          5.9,
          11.5,
          7.7,
          5.9,
          9.1,
          13.3,
          6.8,
          4.5
         ],
         "xaxis": "x3",
         "y": [
          16.189375,
          13.5925486111111,
          10.3005709238043,
          17.5458402777778,
          19.2110265363129,
          21.6665694444444,
          25.6766180555556,
          11.3800432917262,
          12.5601805555556,
          9.85393305439331,
          15.917875,
          16.7362361111111,
          20.2967430555556,
          17.6836180555556,
          28.7283101529903,
          23.1521736111111,
          23.2944652777778,
          17.830875,
          8.04743055555556,
          8.51965972222222,
          7.42860416666667,
          10.0599235048679,
          13.4507293598362,
          9.77823119777159,
          13.5492569444444,
          14.8651736111111,
          18.7000486111111,
          24.6267385257302,
          13.0367696629213,
          23.3369027777778,
          25.8159791666667,
          19.2110265363129,
          21.6665694444444,
          25.6766180555556,
          11.3800432917262,
          12.5601805555556,
          9.85393305439331,
          15.917875,
          16.7362361111111,
          20.2967430555556,
          17.6836180555556,
          28.7283101529903,
          23.1521736111111,
          23.2944652777778,
          17.830875,
          8.04743055555556,
          8.51965972222222,
          7.42860416666667,
          10.0599235048679,
          13.4507293598362,
          9.77823119777159,
          13.5492569444444,
          10.3005709238043,
          19.2110265363129,
          12.5601805555556,
          9.85393305439331,
          15.917875,
          23.2944652777778,
          8.04743055555556,
          10.0599235048679
         ],
         "yaxis": "y3"
        },
        {
         "hovertemplate": "facet_col=>60<br>pm25aqs=%{x}<br>pm25pa=%{y}<extra></extra>",
         "legendgroup": "",
         "marker": {
          "color": "#1F77B4",
          "symbol": "circle"
         },
         "mode": "markers",
         "name": "",
         "orientation": "v",
         "showlegend": false,
         "type": "scatter",
         "x": [
          8.025,
          6.9625,
          5.629167,
          6.15,
          6.366667,
          7.495833,
          8.566667,
          8.15,
          7.9625,
          11.445833,
          6.391667,
          4.804167,
          14.2,
          6.145833,
          12.220833,
          7.5,
          4.8,
          6.2,
          5.4,
          6.7,
          9.2,
          6.9,
          6.8,
          11.9,
          5,
          3.1,
          5,
          9.9,
          7.5,
          5.2
         ],
         "xaxis": "x4",
         "y": [
          14.7903058742853,
          11.7940416666667,
          7.89279861111111,
          10.2429930555556,
          11.2007361111111,
          11.9909027777778,
          20.3900555555556,
          13.6182847222222,
          13.0892230794421,
          25.4701458333333,
          14.5480216736208,
          7.63855354659249,
          26.9433888888889,
          10.3297708333333,
          21.3630528511822,
          11.7940416666667,
          7.89279861111111,
          10.2429930555556,
          11.2007361111111,
          11.9909027777778,
          20.3900555555556,
          13.6182847222222,
          13.0892230794421,
          25.4701458333333,
          14.5480216736208,
          7.63855354659249,
          7.89279861111111,
          20.3900555555556,
          13.6182847222222,
          14.5480216736208
         ],
         "yaxis": "y4"
        },
        {
         "hovertemplate": "facet_col=50-55<br>pm25aqs=%{x}<br>pm25pa=%{y}<extra></extra>",
         "legendgroup": "",
         "marker": {
          "color": "#1F77B4",
          "symbol": "circle"
         },
         "mode": "markers",
         "name": "",
         "orientation": "v",
         "showlegend": false,
         "type": "scatter",
         "x": [
          11.745833,
          8.9125,
          11.808333,
          10.125,
          10.395833,
          5.433333,
          5.504167,
          7.833333,
          8.8875,
          15.454167,
          14.845833,
          11.454167,
          11.520833,
          7.408333,
          9.4875,
          10.475,
          15.779167,
          16.995833,
          17.625,
          8.866667,
          6.804167,
          5.479167,
          4.304167,
          7.2,
          10.708333,
          7.2875,
          9.345833,
          10.854167,
          8.979167,
          11.2,
          8.5,
          12.5,
          10.4,
          10.4,
          5.1,
          6.5,
          7.2,
          8.3,
          14.7,
          14.2,
          12.1,
          11.4,
          7.1,
          8.5,
          10,
          13.5,
          15.8,
          16.3,
          8.6,
          6.3,
          4.4,
          4.3,
          11.3,
          12.3,
          14.7,
          11.9,
          7.8,
          17.9,
          8.9,
          6.3
         ],
         "xaxis": "x",
         "y": [
          22.3404027777778,
          14.5682766385455,
          25.0813977746871,
          18.0511111111111,
          19.4304166666667,
          7.9386875,
          7.53994444444444,
          11.6666944444444,
          15.1454861111111,
          29.1896527777778,
          27.2041041666667,
          20.7385694444444,
          20.6703203342618,
          9.15297222222222,
          14.5964812239221,
          17.2498194444444,
          31.2008680555556,
          34.2497529693147,
          34.9209166666667,
          13.4541805555556,
          12.9443611111111,
          7.56710416666667,
          4.54415972222222,
          12.0913333333333,
          18.2288550724638,
          12.3139733333333,
          13.5520694444444,
          19.8465763888889,
          13.103125,
          22.3404027777778,
          14.5682766385455,
          25.0813977746871,
          18.0511111111111,
          19.4304166666667,
          7.9386875,
          7.53994444444444,
          11.6666944444444,
          15.1454861111111,
          29.1896527777778,
          27.2041041666667,
          20.7385694444444,
          20.6703203342618,
          9.15297222222222,
          14.5964812239221,
          17.2498194444444,
          31.2008680555556,
          34.2497529693147,
          34.9209166666667,
          13.4541805555556,
          12.9443611111111,
          7.56710416666667,
          4.54415972222222,
          22.3404027777778,
          25.0813977746871,
          29.1896527777778,
          20.6703203342618,
          9.15297222222222,
          34.9209166666667,
          13.4541805555556,
          12.9443611111111
         ],
         "yaxis": "y"
        },
        {
         "hovertemplate": "facet_col=<50<br>pm25aqs=%{x}<br>pm25pa=%{y}<extra></extra>",
         "legendgroup": "",
         "marker": {
          "color": "#1F77B4",
          "symbol": "circle"
         },
         "mode": "markers",
         "name": "",
         "orientation": "v",
         "showlegend": false,
         "type": "scatter",
         "x": [
          8.604167,
          6.975,
          12.783333,
          6.85,
          7.929167,
          7.866667,
          8.579167,
          11.275,
          13.658333,
          5.0375,
          6.295833,
          10.826087,
          9.854167,
          9.5,
          6.6,
          13.1,
          6.9,
          7.6,
          7.8,
          9.3,
          10.1,
          12.2,
          4.2,
          9.5,
          8.1,
          11.4
         ],
         "xaxis": "x2",
         "y": [
          15.4784444444444,
          9.99670833333333,
          22.4718680555556,
          8.64885416666667,
          10.8636319444444,
          10.4440833333333,
          11.8642222222222,
          19.6090347222222,
          23.6401180555556,
          6.38982638888889,
          8.49286111111111,
          16.6307152777778,
          18.6737222222222,
          15.4784444444444,
          9.99670833333333,
          22.4718680555556,
          8.64885416666667,
          10.8636319444444,
          10.4440833333333,
          11.8642222222222,
          19.6090347222222,
          23.6401180555556,
          6.38982638888889,
          15.4784444444444,
          10.4440833333333,
          19.6090347222222
         ],
         "yaxis": "y2"
        }
       ],
       "layout": {
        "annotations": [
         {
          "font": {},
          "showarrow": false,
          "text": "facet_col=50-55",
          "x": 0.245,
          "xanchor": "center",
          "xref": "paper",
          "y": 0.46499999999999997,
          "yanchor": "bottom",
          "yref": "paper"
         },
         {
          "font": {},
          "showarrow": false,
          "text": "facet_col=<50",
          "x": 0.755,
          "xanchor": "center",
          "xref": "paper",
          "y": 0.46499999999999997,
          "yanchor": "bottom",
          "yref": "paper"
         },
         {
          "font": {},
          "showarrow": false,
          "text": "facet_col=55-60",
          "x": 0.245,
          "xanchor": "center",
          "xref": "paper",
          "y": 0.9999999999999999,
          "yanchor": "bottom",
          "yref": "paper"
         },
         {
          "font": {},
          "showarrow": false,
          "text": "facet_col=>60",
          "x": 0.755,
          "xanchor": "center",
          "xref": "paper",
          "y": 0.9999999999999999,
          "yanchor": "bottom",
          "yref": "paper"
         }
        ],
        "height": 350,
        "legend": {
         "tracegroupgap": 0
        },
        "margin": {
         "t": 30
        },
        "template": {
         "data": {
          "bar": [
           {
            "error_x": {
             "color": "rgb(36,36,36)"
            },
            "error_y": {
             "color": "rgb(36,36,36)"
            },
            "marker": {
             "line": {
              "color": "white",
              "width": 0.5
             },
             "pattern": {
              "fillmode": "overlay",
              "size": 10,
              "solidity": 0.2
             }
            },
            "type": "bar"
           }
          ],
          "barpolar": [
           {
            "marker": {
             "line": {
              "color": "white",
              "width": 0.5
             },
             "pattern": {
              "fillmode": "overlay",
              "size": 10,
              "solidity": 0.2
             }
            },
            "type": "barpolar"
           }
          ],
          "carpet": [
           {
            "aaxis": {
             "endlinecolor": "rgb(36,36,36)",
             "gridcolor": "white",
             "linecolor": "white",
             "minorgridcolor": "white",
             "startlinecolor": "rgb(36,36,36)"
            },
            "baxis": {
             "endlinecolor": "rgb(36,36,36)",
             "gridcolor": "white",
             "linecolor": "white",
             "minorgridcolor": "white",
             "startlinecolor": "rgb(36,36,36)"
            },
            "type": "carpet"
           }
          ],
          "choropleth": [
           {
            "colorbar": {
             "outlinewidth": 1,
             "tickcolor": "rgb(36,36,36)",
             "ticks": "outside"
            },
            "type": "choropleth"
           }
          ],
          "contour": [
           {
            "colorbar": {
             "outlinewidth": 1,
             "tickcolor": "rgb(36,36,36)",
             "ticks": "outside"
            },
            "colorscale": [
             [
              0,
              "#440154"
             ],
             [
              0.1111111111111111,
              "#482878"
             ],
             [
              0.2222222222222222,
              "#3e4989"
             ],
             [
              0.3333333333333333,
              "#31688e"
             ],
             [
              0.4444444444444444,
              "#26828e"
             ],
             [
              0.5555555555555556,
              "#1f9e89"
             ],
             [
              0.6666666666666666,
              "#35b779"
             ],
             [
              0.7777777777777778,
              "#6ece58"
             ],
             [
              0.8888888888888888,
              "#b5de2b"
             ],
             [
              1,
              "#fde725"
             ]
            ],
            "type": "contour"
           }
          ],
          "contourcarpet": [
           {
            "colorbar": {
             "outlinewidth": 1,
             "tickcolor": "rgb(36,36,36)",
             "ticks": "outside"
            },
            "type": "contourcarpet"
           }
          ],
          "heatmap": [
           {
            "colorbar": {
             "outlinewidth": 1,
             "tickcolor": "rgb(36,36,36)",
             "ticks": "outside"
            },
            "colorscale": [
             [
              0,
              "#440154"
             ],
             [
              0.1111111111111111,
              "#482878"
             ],
             [
              0.2222222222222222,
              "#3e4989"
             ],
             [
              0.3333333333333333,
              "#31688e"
             ],
             [
              0.4444444444444444,
              "#26828e"
             ],
             [
              0.5555555555555556,
              "#1f9e89"
             ],
             [
              0.6666666666666666,
              "#35b779"
             ],
             [
              0.7777777777777778,
              "#6ece58"
             ],
             [
              0.8888888888888888,
              "#b5de2b"
             ],
             [
              1,
              "#fde725"
             ]
            ],
            "type": "heatmap"
           }
          ],
          "heatmapgl": [
           {
            "colorbar": {
             "outlinewidth": 1,
             "tickcolor": "rgb(36,36,36)",
             "ticks": "outside"
            },
            "colorscale": [
             [
              0,
              "#440154"
             ],
             [
              0.1111111111111111,
              "#482878"
             ],
             [
              0.2222222222222222,
              "#3e4989"
             ],
             [
              0.3333333333333333,
              "#31688e"
             ],
             [
              0.4444444444444444,
              "#26828e"
             ],
             [
              0.5555555555555556,
              "#1f9e89"
             ],
             [
              0.6666666666666666,
              "#35b779"
             ],
             [
              0.7777777777777778,
              "#6ece58"
             ],
             [
              0.8888888888888888,
              "#b5de2b"
             ],
             [
              1,
              "#fde725"
             ]
            ],
            "type": "heatmapgl"
           }
          ],
          "histogram": [
           {
            "marker": {
             "line": {
              "color": "white",
              "width": 0.6
             }
            },
            "type": "histogram"
           }
          ],
          "histogram2d": [
           {
            "colorbar": {
             "outlinewidth": 1,
             "tickcolor": "rgb(36,36,36)",
             "ticks": "outside"
            },
            "colorscale": [
             [
              0,
              "#440154"
             ],
             [
              0.1111111111111111,
              "#482878"
             ],
             [
              0.2222222222222222,
              "#3e4989"
             ],
             [
              0.3333333333333333,
              "#31688e"
             ],
             [
              0.4444444444444444,
              "#26828e"
             ],
             [
              0.5555555555555556,
              "#1f9e89"
             ],
             [
              0.6666666666666666,
              "#35b779"
             ],
             [
              0.7777777777777778,
              "#6ece58"
             ],
             [
              0.8888888888888888,
              "#b5de2b"
             ],
             [
              1,
              "#fde725"
             ]
            ],
            "type": "histogram2d"
           }
          ],
          "histogram2dcontour": [
           {
            "colorbar": {
             "outlinewidth": 1,
             "tickcolor": "rgb(36,36,36)",
             "ticks": "outside"
            },
            "colorscale": [
             [
              0,
              "#440154"
             ],
             [
              0.1111111111111111,
              "#482878"
             ],
             [
              0.2222222222222222,
              "#3e4989"
             ],
             [
              0.3333333333333333,
              "#31688e"
             ],
             [
              0.4444444444444444,
              "#26828e"
             ],
             [
              0.5555555555555556,
              "#1f9e89"
             ],
             [
              0.6666666666666666,
              "#35b779"
             ],
             [
              0.7777777777777778,
              "#6ece58"
             ],
             [
              0.8888888888888888,
              "#b5de2b"
             ],
             [
              1,
              "#fde725"
             ]
            ],
            "type": "histogram2dcontour"
           }
          ],
          "mesh3d": [
           {
            "colorbar": {
             "outlinewidth": 1,
             "tickcolor": "rgb(36,36,36)",
             "ticks": "outside"
            },
            "type": "mesh3d"
           }
          ],
          "parcoords": [
           {
            "line": {
             "colorbar": {
              "outlinewidth": 1,
              "tickcolor": "rgb(36,36,36)",
              "ticks": "outside"
             }
            },
            "type": "parcoords"
           }
          ],
          "pie": [
           {
            "automargin": true,
            "type": "pie"
           }
          ],
          "scatter": [
           {
            "marker": {
             "colorbar": {
              "outlinewidth": 1,
              "tickcolor": "rgb(36,36,36)",
              "ticks": "outside"
             }
            },
            "type": "scatter"
           }
          ],
          "scatter3d": [
           {
            "line": {
             "colorbar": {
              "outlinewidth": 1,
              "tickcolor": "rgb(36,36,36)",
              "ticks": "outside"
             }
            },
            "marker": {
             "colorbar": {
              "outlinewidth": 1,
              "tickcolor": "rgb(36,36,36)",
              "ticks": "outside"
             }
            },
            "type": "scatter3d"
           }
          ],
          "scattercarpet": [
           {
            "marker": {
             "colorbar": {
              "outlinewidth": 1,
              "tickcolor": "rgb(36,36,36)",
              "ticks": "outside"
             }
            },
            "type": "scattercarpet"
           }
          ],
          "scattergeo": [
           {
            "marker": {
             "colorbar": {
              "outlinewidth": 1,
              "tickcolor": "rgb(36,36,36)",
              "ticks": "outside"
             }
            },
            "type": "scattergeo"
           }
          ],
          "scattergl": [
           {
            "marker": {
             "colorbar": {
              "outlinewidth": 1,
              "tickcolor": "rgb(36,36,36)",
              "ticks": "outside"
             }
            },
            "type": "scattergl"
           }
          ],
          "scattermapbox": [
           {
            "marker": {
             "colorbar": {
              "outlinewidth": 1,
              "tickcolor": "rgb(36,36,36)",
              "ticks": "outside"
             }
            },
            "type": "scattermapbox"
           }
          ],
          "scatterpolar": [
           {
            "marker": {
             "colorbar": {
              "outlinewidth": 1,
              "tickcolor": "rgb(36,36,36)",
              "ticks": "outside"
             }
            },
            "type": "scatterpolar"
           }
          ],
          "scatterpolargl": [
           {
            "marker": {
             "colorbar": {
              "outlinewidth": 1,
              "tickcolor": "rgb(36,36,36)",
              "ticks": "outside"
             }
            },
            "type": "scatterpolargl"
           }
          ],
          "scatterternary": [
           {
            "marker": {
             "colorbar": {
              "outlinewidth": 1,
              "tickcolor": "rgb(36,36,36)",
              "ticks": "outside"
             }
            },
            "type": "scatterternary"
           }
          ],
          "surface": [
           {
            "colorbar": {
             "outlinewidth": 1,
             "tickcolor": "rgb(36,36,36)",
             "ticks": "outside"
            },
            "colorscale": [
             [
              0,
              "#440154"
             ],
             [
              0.1111111111111111,
              "#482878"
             ],
             [
              0.2222222222222222,
              "#3e4989"
             ],
             [
              0.3333333333333333,
              "#31688e"
             ],
             [
              0.4444444444444444,
              "#26828e"
             ],
             [
              0.5555555555555556,
              "#1f9e89"
             ],
             [
              0.6666666666666666,
              "#35b779"
             ],
             [
              0.7777777777777778,
              "#6ece58"
             ],
             [
              0.8888888888888888,
              "#b5de2b"
             ],
             [
              1,
              "#fde725"
             ]
            ],
            "type": "surface"
           }
          ],
          "table": [
           {
            "cells": {
             "fill": {
              "color": "rgb(237,237,237)"
             },
             "line": {
              "color": "white"
             }
            },
            "header": {
             "fill": {
              "color": "rgb(217,217,217)"
             },
             "line": {
              "color": "white"
             }
            },
            "type": "table"
           }
          ]
         },
         "layout": {
          "annotationdefaults": {
           "arrowhead": 0,
           "arrowwidth": 1
          },
          "autosize": true,
          "autotypenumbers": "strict",
          "coloraxis": {
           "colorbar": {
            "outlinewidth": 1,
            "tickcolor": "rgb(36,36,36)",
            "ticks": "outside"
           }
          },
          "colorscale": {
           "diverging": [
            [
             0,
             "rgb(103,0,31)"
            ],
            [
             0.1,
             "rgb(178,24,43)"
            ],
            [
             0.2,
             "rgb(214,96,77)"
            ],
            [
             0.3,
             "rgb(244,165,130)"
            ],
            [
             0.4,
             "rgb(253,219,199)"
            ],
            [
             0.5,
             "rgb(247,247,247)"
            ],
            [
             0.6,
             "rgb(209,229,240)"
            ],
            [
             0.7,
             "rgb(146,197,222)"
            ],
            [
             0.8,
             "rgb(67,147,195)"
            ],
            [
             0.9,
             "rgb(33,102,172)"
            ],
            [
             1,
             "rgb(5,48,97)"
            ]
           ],
           "sequential": [
            [
             0,
             "#440154"
            ],
            [
             0.1111111111111111,
             "#482878"
            ],
            [
             0.2222222222222222,
             "#3e4989"
            ],
            [
             0.3333333333333333,
             "#31688e"
            ],
            [
             0.4444444444444444,
             "#26828e"
            ],
            [
             0.5555555555555556,
             "#1f9e89"
            ],
            [
             0.6666666666666666,
             "#35b779"
            ],
            [
             0.7777777777777778,
             "#6ece58"
            ],
            [
             0.8888888888888888,
             "#b5de2b"
            ],
            [
             1,
             "#fde725"
            ]
           ],
           "sequentialminus": [
            [
             0,
             "#440154"
            ],
            [
             0.1111111111111111,
             "#482878"
            ],
            [
             0.2222222222222222,
             "#3e4989"
            ],
            [
             0.3333333333333333,
             "#31688e"
            ],
            [
             0.4444444444444444,
             "#26828e"
            ],
            [
             0.5555555555555556,
             "#1f9e89"
            ],
            [
             0.6666666666666666,
             "#35b779"
            ],
            [
             0.7777777777777778,
             "#6ece58"
            ],
            [
             0.8888888888888888,
             "#b5de2b"
            ],
            [
             1,
             "#fde725"
            ]
           ]
          },
          "colorway": [
           "#1F77B4",
           "#FF7F0E",
           "#2CA02C",
           "#D62728",
           "#9467BD",
           "#8C564B",
           "#E377C2",
           "#7F7F7F",
           "#BCBD22",
           "#17BECF"
          ],
          "font": {
           "color": "rgb(36,36,36)"
          },
          "geo": {
           "bgcolor": "white",
           "lakecolor": "white",
           "landcolor": "white",
           "showlakes": true,
           "showland": true,
           "subunitcolor": "white"
          },
          "height": 250,
          "hoverlabel": {
           "align": "left"
          },
          "hovermode": "closest",
          "mapbox": {
           "style": "light"
          },
          "margin": {
           "b": 10,
           "l": 10,
           "r": 10,
           "t": 10
          },
          "paper_bgcolor": "white",
          "plot_bgcolor": "white",
          "polar": {
           "angularaxis": {
            "gridcolor": "rgb(232,232,232)",
            "linecolor": "rgb(36,36,36)",
            "showgrid": false,
            "showline": true,
            "ticks": "outside"
           },
           "bgcolor": "white",
           "radialaxis": {
            "gridcolor": "rgb(232,232,232)",
            "linecolor": "rgb(36,36,36)",
            "showgrid": false,
            "showline": true,
            "ticks": "outside"
           }
          },
          "scene": {
           "xaxis": {
            "backgroundcolor": "white",
            "gridcolor": "rgb(232,232,232)",
            "gridwidth": 2,
            "linecolor": "rgb(36,36,36)",
            "showbackground": true,
            "showgrid": false,
            "showline": true,
            "ticks": "outside",
            "zeroline": false,
            "zerolinecolor": "rgb(36,36,36)"
           },
           "yaxis": {
            "backgroundcolor": "white",
            "gridcolor": "rgb(232,232,232)",
            "gridwidth": 2,
            "linecolor": "rgb(36,36,36)",
            "showbackground": true,
            "showgrid": false,
            "showline": true,
            "ticks": "outside",
            "zeroline": false,
            "zerolinecolor": "rgb(36,36,36)"
           },
           "zaxis": {
            "backgroundcolor": "white",
            "gridcolor": "rgb(232,232,232)",
            "gridwidth": 2,
            "linecolor": "rgb(36,36,36)",
            "showbackground": true,
            "showgrid": false,
            "showline": true,
            "ticks": "outside",
            "zeroline": false,
            "zerolinecolor": "rgb(36,36,36)"
           }
          },
          "shapedefaults": {
           "fillcolor": "black",
           "line": {
            "width": 0
           },
           "opacity": 0.3
          },
          "ternary": {
           "aaxis": {
            "gridcolor": "rgb(232,232,232)",
            "linecolor": "rgb(36,36,36)",
            "showgrid": false,
            "showline": true,
            "ticks": "outside"
           },
           "baxis": {
            "gridcolor": "rgb(232,232,232)",
            "linecolor": "rgb(36,36,36)",
            "showgrid": false,
            "showline": true,
            "ticks": "outside"
           },
           "bgcolor": "white",
           "caxis": {
            "gridcolor": "rgb(232,232,232)",
            "linecolor": "rgb(36,36,36)",
            "showgrid": false,
            "showline": true,
            "ticks": "outside"
           }
          },
          "title": {
           "x": 0.5,
           "xanchor": "center"
          },
          "width": 350,
          "xaxis": {
           "automargin": true,
           "gridcolor": "rgb(232,232,232)",
           "linecolor": "rgb(36,36,36)",
           "showgrid": true,
           "showline": true,
           "ticks": "outside",
           "title": {
            "standoff": 15
           },
           "zeroline": false,
           "zerolinecolor": "rgb(36,36,36)"
          },
          "yaxis": {
           "automargin": true,
           "gridcolor": "rgb(232,232,232)",
           "linecolor": "rgb(36,36,36)",
           "showgrid": true,
           "showline": true,
           "ticks": "outside",
           "title": {
            "standoff": 15
           },
           "zeroline": false,
           "zerolinecolor": "rgb(36,36,36)"
          }
         }
        },
        "width": 550,
        "xaxis": {
         "anchor": "y",
         "autorange": true,
         "domain": [
          0,
          0.49
         ],
         "range": [
          1.9777010554590444,
          19.022298944540953
         ],
         "title": {
          "text": "pm25aqs"
         },
         "type": "linear"
        },
        "xaxis2": {
         "anchor": "y2",
         "autorange": true,
         "domain": [
          0.51,
          1
         ],
         "matches": "x",
         "range": [
          1.9777010554590444,
          19.022298944540953
         ],
         "title": {
          "text": "pm25aqs"
         },
         "type": "linear"
        },
        "xaxis3": {
         "anchor": "y3",
         "autorange": true,
         "domain": [
          0,
          0.49
         ],
         "matches": "x",
         "range": [
          1.9777010554590444,
          19.022298944540953
         ],
         "showticklabels": false,
         "type": "linear"
        },
        "xaxis4": {
         "anchor": "y4",
         "autorange": true,
         "domain": [
          0.51,
          1
         ],
         "matches": "x",
         "range": [
          1.9777010554590444,
          19.022298944540953
         ],
         "showticklabels": false,
         "type": "linear"
        },
        "yaxis": {
         "anchor": "x",
         "autorange": true,
         "domain": [
          0,
          0.46499999999999997
         ],
         "range": [
          1.6123697728000623,
          37.85270661608886
         ],
         "title": {
          "text": "pm25pa"
         },
         "type": "linear"
        },
        "yaxis2": {
         "anchor": "x2",
         "autorange": true,
         "domain": [
          0,
          0.46499999999999997
         ],
         "matches": "y",
         "range": [
          1.6123697728000623,
          37.85270661608886
         ],
         "showticklabels": false,
         "type": "linear"
        },
        "yaxis3": {
         "anchor": "x3",
         "autorange": true,
         "domain": [
          0.5349999999999999,
          0.9999999999999999
         ],
         "matches": "y",
         "range": [
          1.6123697728000623,
          37.85270661608886
         ],
         "title": {
          "text": "pm25pa"
         },
         "type": "linear"
        },
        "yaxis4": {
         "anchor": "x4",
         "autorange": true,
         "domain": [
          0.5349999999999999,
          0.9999999999999999
         ],
         "matches": "y",
         "range": [
          1.6123697728000623,
          37.85270661608886
         ],
         "showticklabels": false,
         "type": "linear"
        }
       }
      },
      "image/png": "[encoded data removed]",
      "image/svg+xml": [
       "<svg class=\"main-svg\" xmlns=\"http://www.w3.org/2000/svg\" xmlns:xlink=\"http://www.w3.org/1999/xlink\" width=\"550\" height=\"350\" style=\"\" viewBox=\"0 0 550 350\"><rect x=\"0\" y=\"0\" width=\"550\" height=\"350\" style=\"fill: rgb(255, 255, 255); fill-opacity: 1;\"/><defs id=\"defs-6cf94b\"><g class=\"clips\"><clipPath id=\"clip6cf94bxyplot\" class=\"plotclip\"><rect width=\"236.67\" height=\"121.365\"/></clipPath><clipPath id=\"clip6cf94bx2y2plot\" class=\"plotclip\"><rect width=\"236.67\" height=\"121.365\"/></clipPath><clipPath id=\"clip6cf94bx3y3plot\" class=\"plotclip\"><rect width=\"236.67\" height=\"121.365\"/></clipPath><clipPath id=\"clip6cf94bx4y4plot\" class=\"plotclip\"><rect width=\"236.67\" height=\"121.365\"/></clipPath><clipPath class=\"axesclip\" id=\"clip6cf94bx\"><rect x=\"57\" y=\"0\" width=\"236.67\" height=\"350\"/></clipPath><clipPath class=\"axesclip\" id=\"clip6cf94by\"><rect x=\"0\" y=\"169.63500000000002\" width=\"550\" height=\"121.365\"/></clipPath><clipPath class=\"axesclip\" id=\"clip6cf94bxy\"><rect x=\"57\" y=\"169.63500000000002\" width=\"236.67\" height=\"121.365\"/></clipPath><clipPath class=\"axesclip\" id=\"clip6cf94by2\"><rect x=\"0\" y=\"169.63500000000002\" width=\"550\" height=\"121.365\"/></clipPath><clipPath class=\"axesclip\" id=\"clip6cf94bxy2\"><rect x=\"57\" y=\"169.63500000000002\" width=\"236.67\" height=\"121.365\"/></clipPath><clipPath class=\"axesclip\" id=\"clip6cf94by3\"><rect x=\"0\" y=\"30.00000000000003\" width=\"550\" height=\"121.365\"/></clipPath><clipPath class=\"axesclip\" id=\"clip6cf94bxy3\"><rect x=\"57\" y=\"30.00000000000003\" width=\"236.67\" height=\"121.365\"/></clipPath><clipPath class=\"axesclip\" id=\"clip6cf94by4\"><rect x=\"0\" y=\"30.00000000000003\" width=\"550\" height=\"121.365\"/></clipPath><clipPath class=\"axesclip\" id=\"clip6cf94bxy4\"><rect x=\"57\" y=\"30.00000000000003\" width=\"236.67\" height=\"121.365\"/></clipPath><clipPath class=\"axesclip\" id=\"clip6cf94bx2\"><rect x=\"303.33000000000004\" y=\"0\" width=\"236.67\" height=\"350\"/></clipPath><clipPath class=\"axesclip\" id=\"clip6cf94bx2y\"><rect x=\"303.33000000000004\" y=\"169.63500000000002\" width=\"236.67\" height=\"121.365\"/></clipPath><clipPath class=\"axesclip\" id=\"clip6cf94bx2y2\"><rect x=\"303.33000000000004\" y=\"169.63500000000002\" width=\"236.67\" height=\"121.365\"/></clipPath><clipPath class=\"axesclip\" id=\"clip6cf94bx2y3\"><rect x=\"303.33000000000004\" y=\"30.00000000000003\" width=\"236.67\" height=\"121.365\"/></clipPath><clipPath class=\"axesclip\" id=\"clip6cf94bx2y4\"><rect x=\"303.33000000000004\" y=\"30.00000000000003\" width=\"236.67\" height=\"121.365\"/></clipPath><clipPath class=\"axesclip\" id=\"clip6cf94bx3\"><rect x=\"57\" y=\"0\" width=\"236.67\" height=\"350\"/></clipPath><clipPath class=\"axesclip\" id=\"clip6cf94bx3y\"><rect x=\"57\" y=\"169.63500000000002\" width=\"236.67\" height=\"121.365\"/></clipPath><clipPath class=\"axesclip\" id=\"clip6cf94bx3y2\"><rect x=\"57\" y=\"169.63500000000002\" width=\"236.67\" height=\"121.365\"/></clipPath><clipPath class=\"axesclip\" id=\"clip6cf94bx3y3\"><rect x=\"57\" y=\"30.00000000000003\" width=\"236.67\" height=\"121.365\"/></clipPath><clipPath class=\"axesclip\" id=\"clip6cf94bx3y4\"><rect x=\"57\" y=\"30.00000000000003\" width=\"236.67\" height=\"121.365\"/></clipPath><clipPath class=\"axesclip\" id=\"clip6cf94bx4\"><rect x=\"303.33000000000004\" y=\"0\" width=\"236.67\" height=\"350\"/></clipPath><clipPath class=\"axesclip\" id=\"clip6cf94bx4y\"><rect x=\"303.33000000000004\" y=\"169.63500000000002\" width=\"236.67\" height=\"121.365\"/></clipPath><clipPath class=\"axesclip\" id=\"clip6cf94bx4y2\"><rect x=\"303.33000000000004\" y=\"169.63500000000002\" width=\"236.67\" height=\"121.365\"/></clipPath><clipPath class=\"axesclip\" id=\"clip6cf94bx4y3\"><rect x=\"303.33000000000004\" y=\"30.00000000000003\" width=\"236.67\" height=\"121.365\"/></clipPath><clipPath class=\"axesclip\" id=\"clip6cf94bx4y4\"><rect x=\"303.33000000000004\" y=\"30.00000000000003\" width=\"236.67\" height=\"121.365\"/></clipPath></g><g class=\"gradients\"/><g class=\"patterns\"/></defs><g class=\"bglayer\"/><g class=\"layer-below\"><g class=\"imagelayer\"/><g class=\"shapelayer\"/></g><g class=\"cartesianlayer\"><g class=\"subplot xy\"><g class=\"layer-subplot\"><g class=\"shapelayer\"/><g class=\"imagelayer\"/></g><g class=\"gridlayer\"><g class=\"x\"><path class=\"xgrid crisp\" transform=\"translate(98.68,0)\" d=\"M0,169.63500000000002v121.365\" style=\"stroke: rgb(232, 232, 232); stroke-opacity: 1; stroke-width: 1px;\"/><path class=\"xgrid crisp\" transform=\"translate(168.20999999999998,0)\" d=\"M0,169.63500000000002v121.365\" style=\"stroke: rgb(232, 232, 232); stroke-opacity: 1; stroke-width: 1px;\"/><path class=\"xgrid crisp\" transform=\"translate(237.75,0)\" d=\"M0,169.63500000000002v121.365\" style=\"stroke: rgb(232, 232, 232); stroke-opacity: 1; stroke-width: 1px;\"/></g><g class=\"y\"><path class=\"ygrid crisp\" transform=\"translate(0,262.915)\" d=\"M57,0h236.67\" style=\"stroke: rgb(232, 232, 232); stroke-opacity: 1; stroke-width: 1px;\"/><path class=\"ygrid crisp\" transform=\"translate(0,229.425)\" d=\"M57,0h236.67\" style=\"stroke: rgb(232, 232, 232); stroke-opacity: 1; stroke-width: 1px;\"/><path class=\"ygrid crisp\" transform=\"translate(0,195.93500000000003)\" d=\"M57,0h236.67\" style=\"stroke: rgb(232, 232, 232); stroke-opacity: 1; stroke-width: 1px;\"/></g></g><g class=\"zerolinelayer\"/><path class=\"xlines-below\"/><path class=\"ylines-below\"/><g class=\"overlines-below\"/><g class=\"xaxislayer-below\"/><g class=\"yaxislayer-below\"/><g class=\"overaxes-below\"/><g class=\"plot\" transform=\"translate(57,169.63500000000002)\" clip-path=\"url(#clip6cf94bxyplot)\"><g class=\"scatterlayer mlayer\"><g class=\"trace scatter tracebd27d0\" style=\"stroke-miterlimit: 2; opacity: 1;\"><g class=\"fills\"/><g class=\"errorbars\"/><g class=\"lines\"/><g class=\"points\"><path class=\"point\" transform=\"translate(135.5,51.95)\" d=\"M3,0A3,3 0 1,1 0,-3A3,3 0 0,1 3,0Z\" style=\"opacity: 1; stroke-width: 0px; fill: rgb(31, 119, 180); fill-opacity: 1;\"/><path class=\"point\" transform=\"translate(96.09,77.98)\" d=\"M3,0A3,3 0 1,1 0,-3A3,3 0 0,1 3,0Z\" style=\"opacity: 1; stroke-width: 0px; fill: rgb(31, 119, 180); fill-opacity: 1;\"/><path class=\"point\" transform=\"translate(136.36,42.77)\" d=\"M3,0A3,3 0 1,1 0,-3A3,3 0 0,1 3,0Z\" style=\"opacity: 1; stroke-width: 0px; fill: rgb(31, 119, 180); fill-opacity: 1;\"/><path class=\"point\" transform=\"translate(112.95,66.31)\" d=\"M3,0A3,3 0 1,1 0,-3A3,3 0 0,1 3,0Z\" style=\"opacity: 1; stroke-width: 0px; fill: rgb(31, 119, 180); fill-opacity: 1;\"/><path class=\"point\" transform=\"translate(116.72,61.69)\" d=\"M3,0A3,3 0 1,1 0,-3A3,3 0 0,1 3,0Z\" style=\"opacity: 1; stroke-width: 0px; fill: rgb(31, 119, 180); fill-opacity: 1;\"/><path class=\"point\" transform=\"translate(47.7,100.18)\" d=\"M3,0A3,3 0 1,1 0,-3A3,3 0 0,1 3,0Z\" style=\"opacity: 1; stroke-width: 0px; fill: rgb(31, 119, 180); fill-opacity: 1;\"/><path class=\"point\" transform=\"translate(48.69,101.51)\" d=\"M3,0A3,3 0 1,1 0,-3A3,3 0 0,1 3,0Z\" style=\"opacity: 1; stroke-width: 0px; fill: rgb(31, 119, 180); fill-opacity: 1;\"/><path class=\"point\" transform=\"translate(81.08,87.69)\" d=\"M3,0A3,3 0 1,1 0,-3A3,3 0 0,1 3,0Z\" style=\"opacity: 1; stroke-width: 0px; fill: rgb(31, 119, 180); fill-opacity: 1;\"/><path class=\"point\" transform=\"translate(95.74,76.04)\" d=\"M3,0A3,3 0 1,1 0,-3A3,3 0 0,1 3,0Z\" style=\"opacity: 1; stroke-width: 0px; fill: rgb(31, 119, 180); fill-opacity: 1;\"/><path class=\"point\" transform=\"translate(187.07,29.01)\" d=\"M3,0A3,3 0 1,1 0,-3A3,3 0 0,1 3,0Z\" style=\"opacity: 1; stroke-width: 0px; fill: rgb(31, 119, 180); fill-opacity: 1;\"/><path class=\"point\" transform=\"translate(178.61,35.66)\" d=\"M3,0A3,3 0 1,1 0,-3A3,3 0 0,1 3,0Z\" style=\"opacity: 1; stroke-width: 0px; fill: rgb(31, 119, 180); fill-opacity: 1;\"/><path class=\"point\" transform=\"translate(131.44,57.31)\" d=\"M3,0A3,3 0 1,1 0,-3A3,3 0 0,1 3,0Z\" style=\"opacity: 1; stroke-width: 0px; fill: rgb(31, 119, 180); fill-opacity: 1;\"/><path class=\"point\" transform=\"translate(132.37,57.54)\" d=\"M3,0A3,3 0 1,1 0,-3A3,3 0 0,1 3,0Z\" style=\"opacity: 1; stroke-width: 0px; fill: rgb(31, 119, 180); fill-opacity: 1;\"/><path class=\"point\" transform=\"translate(75.17,96.11)\" d=\"M3,0A3,3 0 1,1 0,-3A3,3 0 0,1 3,0Z\" style=\"opacity: 1; stroke-width: 0px; fill: rgb(31, 119, 180); fill-opacity: 1;\"/><path class=\"point\" transform=\"translate(104.09,77.88)\" d=\"M3,0A3,3 0 1,1 0,-3A3,3 0 0,1 3,0Z\" style=\"opacity: 1; stroke-width: 0px; fill: rgb(31, 119, 180); fill-opacity: 1;\"/><path class=\"point\" transform=\"translate(117.82,69)\" d=\"M3,0A3,3 0 1,1 0,-3A3,3 0 0,1 3,0Z\" style=\"opacity: 1; stroke-width: 0px; fill: rgb(31, 119, 180); fill-opacity: 1;\"/><path class=\"point\" transform=\"translate(191.59,22.28)\" d=\"M3,0A3,3 0 1,1 0,-3A3,3 0 0,1 3,0Z\" style=\"opacity: 1; stroke-width: 0px; fill: rgb(31, 119, 180); fill-opacity: 1;\"/><path class=\"point\" transform=\"translate(208.51,12.07)\" d=\"M3,0A3,3 0 1,1 0,-3A3,3 0 0,1 3,0Z\" style=\"opacity: 1; stroke-width: 0px; fill: rgb(31, 119, 180); fill-opacity: 1;\"/><path class=\"point\" transform=\"translate(217.26,9.82)\" d=\"M3,0A3,3 0 1,1 0,-3A3,3 0 0,1 3,0Z\" style=\"opacity: 1; stroke-width: 0px; fill: rgb(31, 119, 180); fill-opacity: 1;\"/><path class=\"point\" transform=\"translate(95.45,81.71)\" d=\"M3,0A3,3 0 1,1 0,-3A3,3 0 0,1 3,0Z\" style=\"opacity: 1; stroke-width: 0px; fill: rgb(31, 119, 180); fill-opacity: 1;\"/><path class=\"point\" transform=\"translate(66.77,83.42)\" d=\"M3,0A3,3 0 1,1 0,-3A3,3 0 0,1 3,0Z\" style=\"opacity: 1; stroke-width: 0px; fill: rgb(31, 119, 180); fill-opacity: 1;\"/><path class=\"point\" transform=\"translate(48.34,101.42)\" d=\"M3,0A3,3 0 1,1 0,-3A3,3 0 0,1 3,0Z\" style=\"opacity: 1; stroke-width: 0px; fill: rgb(31, 119, 180); fill-opacity: 1;\"/><path class=\"point\" transform=\"translate(32,111.55)\" d=\"M3,0A3,3 0 1,1 0,-3A3,3 0 0,1 3,0Z\" style=\"opacity: 1; stroke-width: 0px; fill: rgb(31, 119, 180); fill-opacity: 1;\"/><path class=\"point\" transform=\"translate(72.27,86.27)\" d=\"M3,0A3,3 0 1,1 0,-3A3,3 0 0,1 3,0Z\" style=\"opacity: 1; stroke-width: 0px; fill: rgb(31, 119, 180); fill-opacity: 1;\"/><path class=\"point\" transform=\"translate(121.07,65.72)\" d=\"M3,0A3,3 0 1,1 0,-3A3,3 0 0,1 3,0Z\" style=\"opacity: 1; stroke-width: 0px; fill: rgb(31, 119, 180); fill-opacity: 1;\"/><path class=\"point\" transform=\"translate(73.49,85.53)\" d=\"M3,0A3,3 0 1,1 0,-3A3,3 0 0,1 3,0Z\" style=\"opacity: 1; stroke-width: 0px; fill: rgb(31, 119, 180); fill-opacity: 1;\"/><path class=\"point\" transform=\"translate(102.12,81.38)\" d=\"M3,0A3,3 0 1,1 0,-3A3,3 0 0,1 3,0Z\" style=\"opacity: 1; stroke-width: 0px; fill: rgb(31, 119, 180); fill-opacity: 1;\"/><path class=\"point\" transform=\"translate(123.09,60.3)\" d=\"M3,0A3,3 0 1,1 0,-3A3,3 0 0,1 3,0Z\" style=\"opacity: 1; stroke-width: 0px; fill: rgb(31, 119, 180); fill-opacity: 1;\"/><path class=\"point\" transform=\"translate(97.02,82.88)\" d=\"M3,0A3,3 0 1,1 0,-3A3,3 0 0,1 3,0Z\" style=\"opacity: 1; stroke-width: 0px; fill: rgb(31, 119, 180); fill-opacity: 1;\"/><path class=\"point\" transform=\"translate(127.9,51.95)\" d=\"M3,0A3,3 0 1,1 0,-3A3,3 0 0,1 3,0Z\" style=\"opacity: 1; stroke-width: 0px; fill: rgb(31, 119, 180); fill-opacity: 1;\"/><path class=\"point\" transform=\"translate(90.35,77.98)\" d=\"M3,0A3,3 0 1,1 0,-3A3,3 0 0,1 3,0Z\" style=\"opacity: 1; stroke-width: 0px; fill: rgb(31, 119, 180); fill-opacity: 1;\"/><path class=\"point\" transform=\"translate(145.98,42.77)\" d=\"M3,0A3,3 0 1,1 0,-3A3,3 0 0,1 3,0Z\" style=\"opacity: 1; stroke-width: 0px; fill: rgb(31, 119, 180); fill-opacity: 1;\"/><path class=\"point\" transform=\"translate(116.78,66.31)\" d=\"M3,0A3,3 0 1,1 0,-3A3,3 0 0,1 3,0Z\" style=\"opacity: 1; stroke-width: 0px; fill: rgb(31, 119, 180); fill-opacity: 1;\"/><path class=\"point\" transform=\"translate(116.78,61.69)\" d=\"M3,0A3,3 0 1,1 0,-3A3,3 0 0,1 3,0Z\" style=\"opacity: 1; stroke-width: 0px; fill: rgb(31, 119, 180); fill-opacity: 1;\"/><path class=\"point\" transform=\"translate(43.07,100.18)\" d=\"M3,0A3,3 0 1,1 0,-3A3,3 0 0,1 3,0Z\" style=\"opacity: 1; stroke-width: 0px; fill: rgb(31, 119, 180); fill-opacity: 1;\"/><path class=\"point\" transform=\"translate(62.54,101.51)\" d=\"M3,0A3,3 0 1,1 0,-3A3,3 0 0,1 3,0Z\" style=\"opacity: 1; stroke-width: 0px; fill: rgb(31, 119, 180); fill-opacity: 1;\"/><path class=\"point\" transform=\"translate(72.27,87.69)\" d=\"M3,0A3,3 0 1,1 0,-3A3,3 0 0,1 3,0Z\" style=\"opacity: 1; stroke-width: 0px; fill: rgb(31, 119, 180); fill-opacity: 1;\"/><path class=\"point\" transform=\"translate(87.57,76.04)\" d=\"M3,0A3,3 0 1,1 0,-3A3,3 0 0,1 3,0Z\" style=\"opacity: 1; stroke-width: 0px; fill: rgb(31, 119, 180); fill-opacity: 1;\"/><path class=\"point\" transform=\"translate(176.58,29.01)\" d=\"M3,0A3,3 0 1,1 0,-3A3,3 0 0,1 3,0Z\" style=\"opacity: 1; stroke-width: 0px; fill: rgb(31, 119, 180); fill-opacity: 1;\"/><path class=\"point\" transform=\"translate(169.63,35.66)\" d=\"M3,0A3,3 0 1,1 0,-3A3,3 0 0,1 3,0Z\" style=\"opacity: 1; stroke-width: 0px; fill: rgb(31, 119, 180); fill-opacity: 1;\"/><path class=\"point\" transform=\"translate(140.42,57.31)\" d=\"M3,0A3,3 0 1,1 0,-3A3,3 0 0,1 3,0Z\" style=\"opacity: 1; stroke-width: 0px; fill: rgb(31, 119, 180); fill-opacity: 1;\"/><path class=\"point\" transform=\"translate(130.69,57.54)\" d=\"M3,0A3,3 0 1,1 0,-3A3,3 0 0,1 3,0Z\" style=\"opacity: 1; stroke-width: 0px; fill: rgb(31, 119, 180); fill-opacity: 1;\"/><path class=\"point\" transform=\"translate(70.88,96.11)\" d=\"M3,0A3,3 0 1,1 0,-3A3,3 0 0,1 3,0Z\" style=\"opacity: 1; stroke-width: 0px; fill: rgb(31, 119, 180); fill-opacity: 1;\"/><path class=\"point\" transform=\"translate(90.35,77.88)\" d=\"M3,0A3,3 0 1,1 0,-3A3,3 0 0,1 3,0Z\" style=\"opacity: 1; stroke-width: 0px; fill: rgb(31, 119, 180); fill-opacity: 1;\"/><path class=\"point\" transform=\"translate(111.21,69)\" d=\"M3,0A3,3 0 1,1 0,-3A3,3 0 0,1 3,0Z\" style=\"opacity: 1; stroke-width: 0px; fill: rgb(31, 119, 180); fill-opacity: 1;\"/><path class=\"point\" transform=\"translate(159.89,22.28)\" d=\"M3,0A3,3 0 1,1 0,-3A3,3 0 0,1 3,0Z\" style=\"opacity: 1; stroke-width: 0px; fill: rgb(31, 119, 180); fill-opacity: 1;\"/><path class=\"point\" transform=\"translate(191.88,12.07)\" d=\"M3,0A3,3 0 1,1 0,-3A3,3 0 0,1 3,0Z\" style=\"opacity: 1; stroke-width: 0px; fill: rgb(31, 119, 180); fill-opacity: 1;\"/><path class=\"point\" transform=\"translate(198.83,9.82)\" d=\"M3,0A3,3 0 1,1 0,-3A3,3 0 0,1 3,0Z\" style=\"opacity: 1; stroke-width: 0px; fill: rgb(31, 119, 180); fill-opacity: 1;\"/><path class=\"point\" transform=\"translate(91.74,81.71)\" d=\"M3,0A3,3 0 1,1 0,-3A3,3 0 0,1 3,0Z\" style=\"opacity: 1; stroke-width: 0px; fill: rgb(31, 119, 180); fill-opacity: 1;\"/><path class=\"point\" transform=\"translate(59.76,83.42)\" d=\"M3,0A3,3 0 1,1 0,-3A3,3 0 0,1 3,0Z\" style=\"opacity: 1; stroke-width: 0px; fill: rgb(31, 119, 180); fill-opacity: 1;\"/><path class=\"point\" transform=\"translate(33.33,101.42)\" d=\"M3,0A3,3 0 1,1 0,-3A3,3 0 0,1 3,0Z\" style=\"opacity: 1; stroke-width: 0px; fill: rgb(31, 119, 180); fill-opacity: 1;\"/><path class=\"point\" transform=\"translate(31.94,111.55)\" d=\"M3,0A3,3 0 1,1 0,-3A3,3 0 0,1 3,0Z\" style=\"opacity: 1; stroke-width: 0px; fill: rgb(31, 119, 180); fill-opacity: 1;\"/><path class=\"point\" transform=\"translate(129.29,51.95)\" d=\"M3,0A3,3 0 1,1 0,-3A3,3 0 0,1 3,0Z\" style=\"opacity: 1; stroke-width: 0px; fill: rgb(31, 119, 180); fill-opacity: 1;\"/><path class=\"point\" transform=\"translate(143.2,42.77)\" d=\"M3,0A3,3 0 1,1 0,-3A3,3 0 0,1 3,0Z\" style=\"opacity: 1; stroke-width: 0px; fill: rgb(31, 119, 180); fill-opacity: 1;\"/><path class=\"point\" transform=\"translate(176.58,29.01)\" d=\"M3,0A3,3 0 1,1 0,-3A3,3 0 0,1 3,0Z\" style=\"opacity: 1; stroke-width: 0px; fill: rgb(31, 119, 180); fill-opacity: 1;\"/><path class=\"point\" transform=\"translate(137.64,57.54)\" d=\"M3,0A3,3 0 1,1 0,-3A3,3 0 0,1 3,0Z\" style=\"opacity: 1; stroke-width: 0px; fill: rgb(31, 119, 180); fill-opacity: 1;\"/><path class=\"point\" transform=\"translate(80.62,96.11)\" d=\"M3,0A3,3 0 1,1 0,-3A3,3 0 0,1 3,0Z\" style=\"opacity: 1; stroke-width: 0px; fill: rgb(31, 119, 180); fill-opacity: 1;\"/><path class=\"point\" transform=\"translate(221.09,9.82)\" d=\"M3,0A3,3 0 1,1 0,-3A3,3 0 0,1 3,0Z\" style=\"opacity: 1; stroke-width: 0px; fill: rgb(31, 119, 180); fill-opacity: 1;\"/><path class=\"point\" transform=\"translate(95.92,81.71)\" d=\"M3,0A3,3 0 1,1 0,-3A3,3 0 0,1 3,0Z\" style=\"opacity: 1; stroke-width: 0px; fill: rgb(31, 119, 180); fill-opacity: 1;\"/><path class=\"point\" transform=\"translate(59.76,83.42)\" d=\"M3,0A3,3 0 1,1 0,-3A3,3 0 0,1 3,0Z\" style=\"opacity: 1; stroke-width: 0px; fill: rgb(31, 119, 180); fill-opacity: 1;\"/></g><g class=\"text\"/></g></g></g><g class=\"overplot\"/><path class=\"xlines-above crisp\" d=\"M56,291.5H293.66999999999996\" style=\"fill: none; stroke-width: 1px; stroke: rgb(36, 36, 36); stroke-opacity: 1;\"/><path class=\"ylines-above crisp\" d=\"M56.5,169.63500000000002V291\" style=\"fill: none; stroke-width: 1px; stroke: rgb(36, 36, 36); stroke-opacity: 1;\"/><g class=\"overlines-above\"/><g class=\"xaxislayer-above\"><path class=\"xtick ticks crisp\" d=\"M0,292v5\" transform=\"translate(98.68,0)\" style=\"stroke: rgb(68, 68, 68); stroke-opacity: 1; stroke-width: 1px;\"/><path class=\"xtick ticks crisp\" d=\"M0,292v5\" transform=\"translate(168.20999999999998,0)\" style=\"stroke: rgb(68, 68, 68); stroke-opacity: 1; stroke-width: 1px;\"/><path class=\"xtick ticks crisp\" d=\"M0,292v5\" transform=\"translate(237.75,0)\" style=\"stroke: rgb(68, 68, 68); stroke-opacity: 1; stroke-width: 1px;\"/><g class=\"xtick\"><text text-anchor=\"middle\" x=\"0\" y=\"311.4\" transform=\"translate(98.68,0)\" style=\"font-family: 'Open Sans', verdana, arial, sans-serif; font-size: 12px; fill: rgb(36, 36, 36); fill-opacity: 1; white-space: pre; opacity: 1;\">5</text></g><g class=\"xtick\"><text text-anchor=\"middle\" x=\"0\" y=\"311.4\" style=\"font-family: 'Open Sans', verdana, arial, sans-serif; font-size: 12px; fill: rgb(36, 36, 36); fill-opacity: 1; white-space: pre; opacity: 1;\" transform=\"translate(168.20999999999998,0)\">10</text></g><g class=\"xtick\"><text text-anchor=\"middle\" x=\"0\" y=\"311.4\" style=\"font-family: 'Open Sans', verdana, arial, sans-serif; font-size: 12px; fill: rgb(36, 36, 36); fill-opacity: 1; white-space: pre; opacity: 1;\" transform=\"translate(237.75,0)\">15</text></g></g><g class=\"yaxislayer-above\"><path class=\"ytick ticks crisp\" d=\"M56,0h-5\" transform=\"translate(0,262.915)\" style=\"stroke: rgb(68, 68, 68); stroke-opacity: 1; stroke-width: 1px;\"/><path class=\"ytick ticks crisp\" d=\"M56,0h-5\" transform=\"translate(0,229.425)\" style=\"stroke: rgb(68, 68, 68); stroke-opacity: 1; stroke-width: 1px;\"/><path class=\"ytick ticks crisp\" d=\"M56,0h-5\" transform=\"translate(0,195.93500000000003)\" style=\"stroke: rgb(68, 68, 68); stroke-opacity: 1; stroke-width: 1px;\"/><g class=\"ytick\"><text text-anchor=\"end\" x=\"48.6\" y=\"4.199999999999999\" transform=\"translate(0,262.915)\" style=\"font-family: 'Open Sans', verdana, arial, sans-serif; font-size: 12px; fill: rgb(36, 36, 36); fill-opacity: 1; white-space: pre; opacity: 1;\">10</text></g><g class=\"ytick\"><text text-anchor=\"end\" x=\"48.6\" y=\"4.199999999999999\" style=\"font-family: 'Open Sans', verdana, arial, sans-serif; font-size: 12px; fill: rgb(36, 36, 36); fill-opacity: 1; white-space: pre; opacity: 1;\" transform=\"translate(0,229.425)\">20</text></g><g class=\"ytick\"><text text-anchor=\"end\" x=\"48.6\" y=\"4.199999999999999\" style=\"font-family: 'Open Sans', verdana, arial, sans-serif; font-size: 12px; fill: rgb(36, 36, 36); fill-opacity: 1; white-space: pre; opacity: 1;\" transform=\"translate(0,195.93500000000003)\">30</text></g></g><g class=\"overaxes-above\"/></g><g class=\"subplot x2y2\"><g class=\"layer-subplot\"><g class=\"shapelayer\"/><g class=\"imagelayer\"/></g><g class=\"gridlayer\"><g class=\"x2\"><path class=\"x2grid crisp\" transform=\"translate(345.01000000000005,0)\" d=\"M0,169.63500000000002v121.365\" style=\"stroke: rgb(232, 232, 232); stroke-opacity: 1; stroke-width: 1px;\"/><path class=\"x2grid crisp\" transform=\"translate(414.54,0)\" d=\"M0,169.63500000000002v121.365\" style=\"stroke: rgb(232, 232, 232); stroke-opacity: 1; stroke-width: 1px;\"/><path class=\"x2grid crisp\" transform=\"translate(484.08000000000004,0)\" d=\"M0,169.63500000000002v121.365\" style=\"stroke: rgb(232, 232, 232); stroke-opacity: 1; stroke-width: 1px;\"/></g><g class=\"y2\"><path class=\"y2grid crisp\" transform=\"translate(0,262.915)\" d=\"M303.33000000000004,0h236.67\" style=\"stroke: rgb(232, 232, 232); stroke-opacity: 1; stroke-width: 1px;\"/><path class=\"y2grid crisp\" transform=\"translate(0,229.425)\" d=\"M303.33000000000004,0h236.67\" style=\"stroke: rgb(232, 232, 232); stroke-opacity: 1; stroke-width: 1px;\"/><path class=\"y2grid crisp\" transform=\"translate(0,195.93500000000003)\" d=\"M303.33000000000004,0h236.67\" style=\"stroke: rgb(232, 232, 232); stroke-opacity: 1; stroke-width: 1px;\"/></g></g><g class=\"zerolinelayer\"/><path class=\"xlines-below\"/><path class=\"ylines-below\"/><g class=\"overlines-below\"/><g class=\"xaxislayer-below\"/><g class=\"yaxislayer-below\"/><g class=\"overaxes-below\"/><g class=\"plot\" transform=\"translate(303.33000000000004,169.63500000000002)\" clip-path=\"url(#clip6cf94bx2y2plot)\"><g class=\"scatterlayer mlayer\"><g class=\"trace scatter tracea3043c\" style=\"stroke-miterlimit: 2; opacity: 1;\"><g class=\"fills\"/><g class=\"errorbars\"/><g class=\"lines\"/><g class=\"points\"><path class=\"point\" transform=\"translate(91.8,74.93)\" d=\"M3,0A3,3 0 1,1 0,-3A3,3 0 0,1 3,0Z\" style=\"opacity: 1; stroke-width: 0px; fill: rgb(31, 119, 180); fill-opacity: 1;\"/><path class=\"point\" transform=\"translate(69.14,93.29)\" d=\"M3,0A3,3 0 1,1 0,-3A3,3 0 0,1 3,0Z\" style=\"opacity: 1; stroke-width: 0px; fill: rgb(31, 119, 180); fill-opacity: 1;\"/><path class=\"point\" transform=\"translate(149.92,51.51)\" d=\"M3,0A3,3 0 1,1 0,-3A3,3 0 0,1 3,0Z\" style=\"opacity: 1; stroke-width: 0px; fill: rgb(31, 119, 180); fill-opacity: 1;\"/><path class=\"point\" transform=\"translate(67.41,97.8)\" d=\"M3,0A3,3 0 1,1 0,-3A3,3 0 0,1 3,0Z\" style=\"opacity: 1; stroke-width: 0px; fill: rgb(31, 119, 180); fill-opacity: 1;\"/><path class=\"point\" transform=\"translate(82.41,90.38)\" d=\"M3,0A3,3 0 1,1 0,-3A3,3 0 0,1 3,0Z\" style=\"opacity: 1; stroke-width: 0px; fill: rgb(31, 119, 180); fill-opacity: 1;\"/><path class=\"point\" transform=\"translate(81.54,91.79)\" d=\"M3,0A3,3 0 1,1 0,-3A3,3 0 0,1 3,0Z\" style=\"opacity: 1; stroke-width: 0px; fill: rgb(31, 119, 180); fill-opacity: 1;\"/><path class=\"point\" transform=\"translate(91.45,87.03)\" d=\"M3,0A3,3 0 1,1 0,-3A3,3 0 0,1 3,0Z\" style=\"opacity: 1; stroke-width: 0px; fill: rgb(31, 119, 180); fill-opacity: 1;\"/><path class=\"point\" transform=\"translate(128.95,61.1)\" d=\"M3,0A3,3 0 1,1 0,-3A3,3 0 0,1 3,0Z\" style=\"opacity: 1; stroke-width: 0px; fill: rgb(31, 119, 180); fill-opacity: 1;\"/><path class=\"point\" transform=\"translate(162.09,47.6)\" d=\"M3,0A3,3 0 1,1 0,-3A3,3 0 0,1 3,0Z\" style=\"opacity: 1; stroke-width: 0px; fill: rgb(31, 119, 180); fill-opacity: 1;\"/><path class=\"point\" transform=\"translate(42.2,105.37)\" d=\"M3,0A3,3 0 1,1 0,-3A3,3 0 0,1 3,0Z\" style=\"opacity: 1; stroke-width: 0px; fill: rgb(31, 119, 180); fill-opacity: 1;\"/><path class=\"point\" transform=\"translate(59.7,98.32)\" d=\"M3,0A3,3 0 1,1 0,-3A3,3 0 0,1 3,0Z\" style=\"opacity: 1; stroke-width: 0px; fill: rgb(31, 119, 180); fill-opacity: 1;\"/><path class=\"point\" transform=\"translate(122.7,71.07)\" d=\"M3,0A3,3 0 1,1 0,-3A3,3 0 0,1 3,0Z\" style=\"opacity: 1; stroke-width: 0px; fill: rgb(31, 119, 180); fill-opacity: 1;\"/><path class=\"point\" transform=\"translate(109.19,64.23)\" d=\"M3,0A3,3 0 1,1 0,-3A3,3 0 0,1 3,0Z\" style=\"opacity: 1; stroke-width: 0px; fill: rgb(31, 119, 180); fill-opacity: 1;\"/><path class=\"point\" transform=\"translate(104.26,74.93)\" d=\"M3,0A3,3 0 1,1 0,-3A3,3 0 0,1 3,0Z\" style=\"opacity: 1; stroke-width: 0px; fill: rgb(31, 119, 180); fill-opacity: 1;\"/><path class=\"point\" transform=\"translate(63.93,93.29)\" d=\"M3,0A3,3 0 1,1 0,-3A3,3 0 0,1 3,0Z\" style=\"opacity: 1; stroke-width: 0px; fill: rgb(31, 119, 180); fill-opacity: 1;\"/><path class=\"point\" transform=\"translate(154.33,51.51)\" d=\"M3,0A3,3 0 1,1 0,-3A3,3 0 0,1 3,0Z\" style=\"opacity: 1; stroke-width: 0px; fill: rgb(31, 119, 180); fill-opacity: 1;\"/><path class=\"point\" transform=\"translate(68.1,97.8)\" d=\"M3,0A3,3 0 1,1 0,-3A3,3 0 0,1 3,0Z\" style=\"opacity: 1; stroke-width: 0px; fill: rgb(31, 119, 180); fill-opacity: 1;\"/><path class=\"point\" transform=\"translate(77.84,90.38)\" d=\"M3,0A3,3 0 1,1 0,-3A3,3 0 0,1 3,0Z\" style=\"opacity: 1; stroke-width: 0px; fill: rgb(31, 119, 180); fill-opacity: 1;\"/><path class=\"point\" transform=\"translate(80.62,91.79)\" d=\"M3,0A3,3 0 1,1 0,-3A3,3 0 0,1 3,0Z\" style=\"opacity: 1; stroke-width: 0px; fill: rgb(31, 119, 180); fill-opacity: 1;\"/><path class=\"point\" transform=\"translate(101.48,87.03)\" d=\"M3,0A3,3 0 1,1 0,-3A3,3 0 0,1 3,0Z\" style=\"opacity: 1; stroke-width: 0px; fill: rgb(31, 119, 180); fill-opacity: 1;\"/><path class=\"point\" transform=\"translate(112.61,61.1)\" d=\"M3,0A3,3 0 1,1 0,-3A3,3 0 0,1 3,0Z\" style=\"opacity: 1; stroke-width: 0px; fill: rgb(31, 119, 180); fill-opacity: 1;\"/><path class=\"point\" transform=\"translate(141.81,47.6)\" d=\"M3,0A3,3 0 1,1 0,-3A3,3 0 0,1 3,0Z\" style=\"opacity: 1; stroke-width: 0px; fill: rgb(31, 119, 180); fill-opacity: 1;\"/><path class=\"point\" transform=\"translate(30.55,105.37)\" d=\"M3,0A3,3 0 1,1 0,-3A3,3 0 0,1 3,0Z\" style=\"opacity: 1; stroke-width: 0px; fill: rgb(31, 119, 180); fill-opacity: 1;\"/><path class=\"point\" transform=\"translate(104.26,74.93)\" d=\"M3,0A3,3 0 1,1 0,-3A3,3 0 0,1 3,0Z\" style=\"opacity: 1; stroke-width: 0px; fill: rgb(31, 119, 180); fill-opacity: 1;\"/><path class=\"point\" transform=\"translate(84.79,91.79)\" d=\"M3,0A3,3 0 1,1 0,-3A3,3 0 0,1 3,0Z\" style=\"opacity: 1; stroke-width: 0px; fill: rgb(31, 119, 180); fill-opacity: 1;\"/><path class=\"point\" transform=\"translate(130.69,61.1)\" d=\"M3,0A3,3 0 1,1 0,-3A3,3 0 0,1 3,0Z\" style=\"opacity: 1; stroke-width: 0px; fill: rgb(31, 119, 180); fill-opacity: 1;\"/></g><g class=\"text\"/></g></g></g><g class=\"overplot\"/><path class=\"xlines-above crisp\" d=\"M302.33000000000004,291.5H540\" style=\"fill: none; stroke-width: 1px; stroke: rgb(36, 36, 36); stroke-opacity: 1;\"/><path class=\"ylines-above crisp\" d=\"M302.83000000000004,169.63500000000002V291\" style=\"fill: none; stroke-width: 1px; stroke: rgb(36, 36, 36); stroke-opacity: 1;\"/><g class=\"overlines-above\"/><g class=\"xaxislayer-above\"><path class=\"x2tick ticks crisp\" d=\"M0,292v5\" transform=\"translate(345.01000000000005,0)\" style=\"stroke: rgb(68, 68, 68); stroke-opacity: 1; stroke-width: 1px;\"/><path class=\"x2tick ticks crisp\" d=\"M0,292v5\" transform=\"translate(414.54,0)\" style=\"stroke: rgb(68, 68, 68); stroke-opacity: 1; stroke-width: 1px;\"/><path class=\"x2tick ticks crisp\" d=\"M0,292v5\" transform=\"translate(484.08000000000004,0)\" style=\"stroke: rgb(68, 68, 68); stroke-opacity: 1; stroke-width: 1px;\"/><g class=\"x2tick\"><text text-anchor=\"middle\" x=\"0\" y=\"311.4\" transform=\"translate(345.01000000000005,0)\" style=\"font-family: 'Open Sans', verdana, arial, sans-serif; font-size: 12px; fill: rgb(36, 36, 36); fill-opacity: 1; white-space: pre; opacity: 1;\">5</text></g><g class=\"x2tick\"><text text-anchor=\"middle\" x=\"0\" y=\"311.4\" style=\"font-family: 'Open Sans', verdana, arial, sans-serif; font-size: 12px; fill: rgb(36, 36, 36); fill-opacity: 1; white-space: pre; opacity: 1;\" transform=\"translate(414.54,0)\">10</text></g><g class=\"x2tick\"><text text-anchor=\"middle\" x=\"0\" y=\"311.4\" style=\"font-family: 'Open Sans', verdana, arial, sans-serif; font-size: 12px; fill: rgb(36, 36, 36); fill-opacity: 1; white-space: pre; opacity: 1;\" transform=\"translate(484.08000000000004,0)\">15</text></g></g><g class=\"yaxislayer-above\"><path class=\"y2tick ticks crisp\" d=\"M302.33000000000004,0h-5\" transform=\"translate(0,262.915)\" style=\"stroke: rgb(68, 68, 68); stroke-opacity: 1; stroke-width: 1px;\"/><path class=\"y2tick ticks crisp\" d=\"M302.33000000000004,0h-5\" transform=\"translate(0,229.425)\" style=\"stroke: rgb(68, 68, 68); stroke-opacity: 1; stroke-width: 1px;\"/><path class=\"y2tick ticks crisp\" d=\"M302.33000000000004,0h-5\" transform=\"translate(0,195.93500000000003)\" style=\"stroke: rgb(68, 68, 68); stroke-opacity: 1; stroke-width: 1px;\"/></g><g class=\"overaxes-above\"/></g><g class=\"subplot x3y3\"><g class=\"layer-subplot\"><g class=\"shapelayer\"/><g class=\"imagelayer\"/></g><g class=\"gridlayer\"><g class=\"x3\"><path class=\"x3grid crisp\" transform=\"translate(98.68,0)\" d=\"M0,30.00000000000003v121.365\" style=\"stroke: rgb(232, 232, 232); stroke-opacity: 1; stroke-width: 1px;\"/><path class=\"x3grid crisp\" transform=\"translate(168.20999999999998,0)\" d=\"M0,30.00000000000003v121.365\" style=\"stroke: rgb(232, 232, 232); stroke-opacity: 1; stroke-width: 1px;\"/><path class=\"x3grid crisp\" transform=\"translate(237.75,0)\" d=\"M0,30.00000000000003v121.365\" style=\"stroke: rgb(232, 232, 232); stroke-opacity: 1; stroke-width: 1px;\"/></g><g class=\"y3\"><path class=\"y3grid crisp\" transform=\"translate(0,123.28000000000003)\" d=\"M57,0h236.67\" style=\"stroke: rgb(232, 232, 232); stroke-opacity: 1; stroke-width: 1px;\"/><path class=\"y3grid crisp\" transform=\"translate(0,89.79000000000002)\" d=\"M57,0h236.67\" style=\"stroke: rgb(232, 232, 232); stroke-opacity: 1; stroke-width: 1px;\"/><path class=\"y3grid crisp\" transform=\"translate(0,56.300000000000026)\" d=\"M57,0h236.67\" style=\"stroke: rgb(232, 232, 232); stroke-opacity: 1; stroke-width: 1px;\"/></g></g><g class=\"zerolinelayer\"/><path class=\"xlines-below\"/><path class=\"ylines-below\"/><g class=\"overlines-below\"/><g class=\"xaxislayer-below\"/><g class=\"yaxislayer-below\"/><g class=\"overaxes-below\"/><g class=\"plot\" transform=\"translate(57,30.00000000000003)\" clip-path=\"url(#clip6cf94bx3y3plot)\"><g class=\"scatterlayer mlayer\"><g class=\"trace scatter trace2edddc\" style=\"stroke-miterlimit: 2; opacity: 1;\"><g class=\"fills\"/><g class=\"errorbars\"/><g class=\"lines\"/><g class=\"points\"><path class=\"point\" transform=\"translate(92.38,72.55)\" d=\"M3,0A3,3 0 1,1 0,-3A3,3 0 0,1 3,0Z\" style=\"opacity: 1; stroke-width: 0px; fill: rgb(31, 119, 180); fill-opacity: 1;\"/><path class=\"point\" transform=\"translate(79.28,81.24)\" d=\"M3,0A3,3 0 1,1 0,-3A3,3 0 0,1 3,0Z\" style=\"opacity: 1; stroke-width: 0px; fill: rgb(31, 119, 180); fill-opacity: 1;\"/><path class=\"point\" transform=\"translate(59.76,92.27)\" d=\"M3,0A3,3 0 1,1 0,-3A3,3 0 0,1 3,0Z\" style=\"opacity: 1; stroke-width: 0px; fill: rgb(31, 119, 180); fill-opacity: 1;\"/><path class=\"point\" transform=\"translate(103.45,68.01)\" d=\"M3,0A3,3 0 1,1 0,-3A3,3 0 0,1 3,0Z\" style=\"opacity: 1; stroke-width: 0px; fill: rgb(31, 119, 180); fill-opacity: 1;\"/><path class=\"point\" transform=\"translate(107.8,62.43)\" d=\"M3,0A3,3 0 1,1 0,-3A3,3 0 0,1 3,0Z\" style=\"opacity: 1; stroke-width: 0px; fill: rgb(31, 119, 180); fill-opacity: 1;\"/><path class=\"point\" transform=\"translate(125.41,54.21)\" d=\"M3,0A3,3 0 1,1 0,-3A3,3 0 0,1 3,0Z\" style=\"opacity: 1; stroke-width: 0px; fill: rgb(31, 119, 180); fill-opacity: 1;\"/><path class=\"point\" transform=\"translate(134.57,40.78)\" d=\"M3,0A3,3 0 1,1 0,-3A3,3 0 0,1 3,0Z\" style=\"opacity: 1; stroke-width: 0px; fill: rgb(31, 119, 180); fill-opacity: 1;\"/><path class=\"point\" transform=\"translate(65.14,88.65)\" d=\"M3,0A3,3 0 1,1 0,-3A3,3 0 0,1 3,0Z\" style=\"opacity: 1; stroke-width: 0px; fill: rgb(31, 119, 180); fill-opacity: 1;\"/><path class=\"point\" transform=\"translate(76.14,84.7)\" d=\"M3,0A3,3 0 1,1 0,-3A3,3 0 0,1 3,0Z\" style=\"opacity: 1; stroke-width: 0px; fill: rgb(31, 119, 180); fill-opacity: 1;\"/><path class=\"point\" transform=\"translate(73.36,93.76)\" d=\"M3,0A3,3 0 1,1 0,-3A3,3 0 0,1 3,0Z\" style=\"opacity: 1; stroke-width: 0px; fill: rgb(31, 119, 180); fill-opacity: 1;\"/><path class=\"point\" transform=\"translate(104.72,73.46)\" d=\"M3,0A3,3 0 1,1 0,-3A3,3 0 0,1 3,0Z\" style=\"opacity: 1; stroke-width: 0px; fill: rgb(31, 119, 180); fill-opacity: 1;\"/><path class=\"point\" transform=\"translate(107.86,70.72)\" d=\"M3,0A3,3 0 1,1 0,-3A3,3 0 0,1 3,0Z\" style=\"opacity: 1; stroke-width: 0px; fill: rgb(31, 119, 180); fill-opacity: 1;\"/><path class=\"point\" transform=\"translate(116.78,58.79)\" d=\"M3,0A3,3 0 1,1 0,-3A3,3 0 0,1 3,0Z\" style=\"opacity: 1; stroke-width: 0px; fill: rgb(31, 119, 180); fill-opacity: 1;\"/><path class=\"point\" transform=\"translate(109.19,67.54)\" d=\"M3,0A3,3 0 1,1 0,-3A3,3 0 0,1 3,0Z\" style=\"opacity: 1; stroke-width: 0px; fill: rgb(31, 119, 180); fill-opacity: 1;\"/><path class=\"point\" transform=\"translate(166.79,30.56)\" d=\"M3,0A3,3 0 1,1 0,-3A3,3 0 0,1 3,0Z\" style=\"opacity: 1; stroke-width: 0px; fill: rgb(31, 119, 180); fill-opacity: 1;\"/><path class=\"point\" transform=\"translate(135.32,49.23)\" d=\"M3,0A3,3 0 1,1 0,-3A3,3 0 0,1 3,0Z\" style=\"opacity: 1; stroke-width: 0px; fill: rgb(31, 119, 180); fill-opacity: 1;\"/><path class=\"point\" transform=\"translate(150.7,48.75)\" d=\"M3,0A3,3 0 1,1 0,-3A3,3 0 0,1 3,0Z\" style=\"opacity: 1; stroke-width: 0px; fill: rgb(31, 119, 180); fill-opacity: 1;\"/><path class=\"point\" transform=\"translate(122.1,67.05)\" d=\"M3,0A3,3 0 1,1 0,-3A3,3 0 0,1 3,0Z\" style=\"opacity: 1; stroke-width: 0px; fill: rgb(31, 119, 180); fill-opacity: 1;\"/><path class=\"point\" transform=\"translate(78.53,99.81)\" d=\"M3,0A3,3 0 1,1 0,-3A3,3 0 0,1 3,0Z\" style=\"opacity: 1; stroke-width: 0px; fill: rgb(31, 119, 180); fill-opacity: 1;\"/><path class=\"point\" transform=\"translate(71.35,98.23)\" d=\"M3,0A3,3 0 1,1 0,-3A3,3 0 0,1 3,0Z\" style=\"opacity: 1; stroke-width: 0px; fill: rgb(31, 119, 180); fill-opacity: 1;\"/><path class=\"point\" transform=\"translate(51.99,101.89)\" d=\"M3,0A3,3 0 1,1 0,-3A3,3 0 0,1 3,0Z\" style=\"opacity: 1; stroke-width: 0px; fill: rgb(31, 119, 180); fill-opacity: 1;\"/><path class=\"point\" transform=\"translate(55.58,93.08)\" d=\"M3,0A3,3 0 1,1 0,-3A3,3 0 0,1 3,0Z\" style=\"opacity: 1; stroke-width: 0px; fill: rgb(31, 119, 180); fill-opacity: 1;\"/><path class=\"point\" transform=\"translate(87.51,81.72)\" d=\"M3,0A3,3 0 1,1 0,-3A3,3 0 0,1 3,0Z\" style=\"opacity: 1; stroke-width: 0px; fill: rgb(31, 119, 180); fill-opacity: 1;\"/><path class=\"point\" transform=\"translate(59.76,94.02)\" d=\"M3,0A3,3 0 1,1 0,-3A3,3 0 0,1 3,0Z\" style=\"opacity: 1; stroke-width: 0px; fill: rgb(31, 119, 180); fill-opacity: 1;\"/><path class=\"point\" transform=\"translate(79.57,81.39)\" d=\"M3,0A3,3 0 1,1 0,-3A3,3 0 0,1 3,0Z\" style=\"opacity: 1; stroke-width: 0px; fill: rgb(31, 119, 180); fill-opacity: 1;\"/><path class=\"point\" transform=\"translate(104.49,76.98)\" d=\"M3,0A3,3 0 1,1 0,-3A3,3 0 0,1 3,0Z\" style=\"opacity: 1; stroke-width: 0px; fill: rgb(31, 119, 180); fill-opacity: 1;\"/><path class=\"point\" transform=\"translate(122.8,64.14)\" d=\"M3,0A3,3 0 1,1 0,-3A3,3 0 0,1 3,0Z\" style=\"opacity: 1; stroke-width: 0px; fill: rgb(31, 119, 180); fill-opacity: 1;\"/><path class=\"point\" transform=\"translate(165.05,44.29)\" d=\"M3,0A3,3 0 1,1 0,-3A3,3 0 0,1 3,0Z\" style=\"opacity: 1; stroke-width: 0px; fill: rgb(31, 119, 180); fill-opacity: 1;\"/><path class=\"point\" transform=\"translate(85.58,83.11)\" d=\"M3,0A3,3 0 1,1 0,-3A3,3 0 0,1 3,0Z\" style=\"opacity: 1; stroke-width: 0px; fill: rgb(31, 119, 180); fill-opacity: 1;\"/><path class=\"point\" transform=\"translate(160.07,48.61)\" d=\"M3,0A3,3 0 1,1 0,-3A3,3 0 0,1 3,0Z\" style=\"opacity: 1; stroke-width: 0px; fill: rgb(31, 119, 180); fill-opacity: 1;\"/><path class=\"point\" transform=\"translate(165.98,40.31)\" d=\"M3,0A3,3 0 1,1 0,-3A3,3 0 0,1 3,0Z\" style=\"opacity: 1; stroke-width: 0px; fill: rgb(31, 119, 180); fill-opacity: 1;\"/><path class=\"point\" transform=\"translate(125.12,62.43)\" d=\"M3,0A3,3 0 1,1 0,-3A3,3 0 0,1 3,0Z\" style=\"opacity: 1; stroke-width: 0px; fill: rgb(31, 119, 180); fill-opacity: 1;\"/><path class=\"point\" transform=\"translate(132.08,54.21)\" d=\"M3,0A3,3 0 1,1 0,-3A3,3 0 0,1 3,0Z\" style=\"opacity: 1; stroke-width: 0px; fill: rgb(31, 119, 180); fill-opacity: 1;\"/><path class=\"point\" transform=\"translate(151.55,40.78)\" d=\"M3,0A3,3 0 1,1 0,-3A3,3 0 0,1 3,0Z\" style=\"opacity: 1; stroke-width: 0px; fill: rgb(31, 119, 180); fill-opacity: 1;\"/><path class=\"point\" transform=\"translate(69.49,88.65)\" d=\"M3,0A3,3 0 1,1 0,-3A3,3 0 0,1 3,0Z\" style=\"opacity: 1; stroke-width: 0px; fill: rgb(31, 119, 180); fill-opacity: 1;\"/><path class=\"point\" transform=\"translate(82.01,84.7)\" d=\"M3,0A3,3 0 1,1 0,-3A3,3 0 0,1 3,0Z\" style=\"opacity: 1; stroke-width: 0px; fill: rgb(31, 119, 180); fill-opacity: 1;\"/><path class=\"point\" transform=\"translate(54.19,93.76)\" d=\"M3,0A3,3 0 1,1 0,-3A3,3 0 0,1 3,0Z\" style=\"opacity: 1; stroke-width: 0px; fill: rgb(31, 119, 180); fill-opacity: 1;\"/><path class=\"point\" transform=\"translate(95.92,73.46)\" d=\"M3,0A3,3 0 1,1 0,-3A3,3 0 0,1 3,0Z\" style=\"opacity: 1; stroke-width: 0px; fill: rgb(31, 119, 180); fill-opacity: 1;\"/><path class=\"point\" transform=\"translate(101.48,70.72)\" d=\"M3,0A3,3 0 1,1 0,-3A3,3 0 0,1 3,0Z\" style=\"opacity: 1; stroke-width: 0px; fill: rgb(31, 119, 180); fill-opacity: 1;\"/><path class=\"point\" transform=\"translate(112.61,58.79)\" d=\"M3,0A3,3 0 1,1 0,-3A3,3 0 0,1 3,0Z\" style=\"opacity: 1; stroke-width: 0px; fill: rgb(31, 119, 180); fill-opacity: 1;\"/><path class=\"point\" transform=\"translate(101.48,67.54)\" d=\"M3,0A3,3 0 1,1 0,-3A3,3 0 0,1 3,0Z\" style=\"opacity: 1; stroke-width: 0px; fill: rgb(31, 119, 180); fill-opacity: 1;\"/><path class=\"point\" transform=\"translate(140.42,30.56)\" d=\"M3,0A3,3 0 1,1 0,-3A3,3 0 0,1 3,0Z\" style=\"opacity: 1; stroke-width: 0px; fill: rgb(31, 119, 180); fill-opacity: 1;\"/><path class=\"point\" transform=\"translate(104.26,49.23)\" d=\"M3,0A3,3 0 1,1 0,-3A3,3 0 0,1 3,0Z\" style=\"opacity: 1; stroke-width: 0px; fill: rgb(31, 119, 180); fill-opacity: 1;\"/><path class=\"point\" transform=\"translate(139.03,48.75)\" d=\"M3,0A3,3 0 1,1 0,-3A3,3 0 0,1 3,0Z\" style=\"opacity: 1; stroke-width: 0px; fill: rgb(31, 119, 180); fill-opacity: 1;\"/><path class=\"point\" transform=\"translate(104.26,67.05)\" d=\"M3,0A3,3 0 1,1 0,-3A3,3 0 0,1 3,0Z\" style=\"opacity: 1; stroke-width: 0px; fill: rgb(31, 119, 180); fill-opacity: 1;\"/><path class=\"point\" transform=\"translate(47.24,99.81)\" d=\"M3,0A3,3 0 1,1 0,-3A3,3 0 0,1 3,0Z\" style=\"opacity: 1; stroke-width: 0px; fill: rgb(31, 119, 180); fill-opacity: 1;\"/><path class=\"point\" transform=\"translate(52.8,98.23)\" d=\"M3,0A3,3 0 1,1 0,-3A3,3 0 0,1 3,0Z\" style=\"opacity: 1; stroke-width: 0px; fill: rgb(31, 119, 180); fill-opacity: 1;\"/><path class=\"point\" transform=\"translate(51.41,101.89)\" d=\"M3,0A3,3 0 1,1 0,-3A3,3 0 0,1 3,0Z\" style=\"opacity: 1; stroke-width: 0px; fill: rgb(31, 119, 180); fill-opacity: 1;\"/><path class=\"point\" transform=\"translate(30.55,93.08)\" d=\"M3,0A3,3 0 1,1 0,-3A3,3 0 0,1 3,0Z\" style=\"opacity: 1; stroke-width: 0px; fill: rgb(31, 119, 180); fill-opacity: 1;\"/><path class=\"point\" transform=\"translate(83.4,81.72)\" d=\"M3,0A3,3 0 1,1 0,-3A3,3 0 0,1 3,0Z\" style=\"opacity: 1; stroke-width: 0px; fill: rgb(31, 119, 180); fill-opacity: 1;\"/><path class=\"point\" transform=\"translate(54.19,94.02)\" d=\"M3,0A3,3 0 1,1 0,-3A3,3 0 0,1 3,0Z\" style=\"opacity: 1; stroke-width: 0px; fill: rgb(31, 119, 180); fill-opacity: 1;\"/><path class=\"point\" transform=\"translate(80.62,81.39)\" d=\"M3,0A3,3 0 1,1 0,-3A3,3 0 0,1 3,0Z\" style=\"opacity: 1; stroke-width: 0px; fill: rgb(31, 119, 180); fill-opacity: 1;\"/><path class=\"point\" transform=\"translate(54.19,92.27)\" d=\"M3,0A3,3 0 1,1 0,-3A3,3 0 0,1 3,0Z\" style=\"opacity: 1; stroke-width: 0px; fill: rgb(31, 119, 180); fill-opacity: 1;\"/><path class=\"point\" transform=\"translate(132.08,62.43)\" d=\"M3,0A3,3 0 1,1 0,-3A3,3 0 0,1 3,0Z\" style=\"opacity: 1; stroke-width: 0px; fill: rgb(31, 119, 180); fill-opacity: 1;\"/><path class=\"point\" transform=\"translate(79.23,84.7)\" d=\"M3,0A3,3 0 1,1 0,-3A3,3 0 0,1 3,0Z\" style=\"opacity: 1; stroke-width: 0px; fill: rgb(31, 119, 180); fill-opacity: 1;\"/><path class=\"point\" transform=\"translate(54.19,93.76)\" d=\"M3,0A3,3 0 1,1 0,-3A3,3 0 0,1 3,0Z\" style=\"opacity: 1; stroke-width: 0px; fill: rgb(31, 119, 180); fill-opacity: 1;\"/><path class=\"point\" transform=\"translate(98.7,73.46)\" d=\"M3,0A3,3 0 1,1 0,-3A3,3 0 0,1 3,0Z\" style=\"opacity: 1; stroke-width: 0px; fill: rgb(31, 119, 180); fill-opacity: 1;\"/><path class=\"point\" transform=\"translate(157.11,48.75)\" d=\"M3,0A3,3 0 1,1 0,-3A3,3 0 0,1 3,0Z\" style=\"opacity: 1; stroke-width: 0px; fill: rgb(31, 119, 180); fill-opacity: 1;\"/><path class=\"point\" transform=\"translate(66.71,99.81)\" d=\"M3,0A3,3 0 1,1 0,-3A3,3 0 0,1 3,0Z\" style=\"opacity: 1; stroke-width: 0px; fill: rgb(31, 119, 180); fill-opacity: 1;\"/><path class=\"point\" transform=\"translate(34.72,93.08)\" d=\"M3,0A3,3 0 1,1 0,-3A3,3 0 0,1 3,0Z\" style=\"opacity: 1; stroke-width: 0px; fill: rgb(31, 119, 180); fill-opacity: 1;\"/></g><g class=\"text\"/></g></g></g><g class=\"overplot\"/><path class=\"xlines-above crisp\" d=\"M56,151.865H293.66999999999996\" style=\"fill: none; stroke-width: 1px; stroke: rgb(36, 36, 36); stroke-opacity: 1;\"/><path class=\"ylines-above crisp\" d=\"M56.5,30.00000000000003V151.365\" style=\"fill: none; stroke-width: 1px; stroke: rgb(36, 36, 36); stroke-opacity: 1;\"/><g class=\"overlines-above\"/><g class=\"xaxislayer-above\"><path class=\"x3tick ticks crisp\" d=\"M0,152.365v5\" transform=\"translate(98.68,0)\" style=\"stroke: rgb(68, 68, 68); stroke-opacity: 1; stroke-width: 1px;\"/><path class=\"x3tick ticks crisp\" d=\"M0,152.365v5\" transform=\"translate(168.20999999999998,0)\" style=\"stroke: rgb(68, 68, 68); stroke-opacity: 1; stroke-width: 1px;\"/><path class=\"x3tick ticks crisp\" d=\"M0,152.365v5\" transform=\"translate(237.75,0)\" style=\"stroke: rgb(68, 68, 68); stroke-opacity: 1; stroke-width: 1px;\"/></g><g class=\"yaxislayer-above\"><path class=\"y3tick ticks crisp\" d=\"M56,0h-5\" transform=\"translate(0,123.28000000000003)\" style=\"stroke: rgb(68, 68, 68); stroke-opacity: 1; stroke-width: 1px;\"/><path class=\"y3tick ticks crisp\" d=\"M56,0h-5\" transform=\"translate(0,89.79000000000002)\" style=\"stroke: rgb(68, 68, 68); stroke-opacity: 1; stroke-width: 1px;\"/><path class=\"y3tick ticks crisp\" d=\"M56,0h-5\" transform=\"translate(0,56.300000000000026)\" style=\"stroke: rgb(68, 68, 68); stroke-opacity: 1; stroke-width: 1px;\"/><g class=\"y3tick\"><text text-anchor=\"end\" x=\"48.6\" y=\"4.199999999999999\" transform=\"translate(0,123.28000000000003)\" style=\"font-family: 'Open Sans', verdana, arial, sans-serif; font-size: 12px; fill: rgb(36, 36, 36); fill-opacity: 1; white-space: pre; opacity: 1;\">10</text></g><g class=\"y3tick\"><text text-anchor=\"end\" x=\"48.6\" y=\"4.199999999999999\" style=\"font-family: 'Open Sans', verdana, arial, sans-serif; font-size: 12px; fill: rgb(36, 36, 36); fill-opacity: 1; white-space: pre; opacity: 1;\" transform=\"translate(0,89.79000000000002)\">20</text></g><g class=\"y3tick\"><text text-anchor=\"end\" x=\"48.6\" y=\"4.199999999999999\" style=\"font-family: 'Open Sans', verdana, arial, sans-serif; font-size: 12px; fill: rgb(36, 36, 36); fill-opacity: 1; white-space: pre; opacity: 1;\" transform=\"translate(0,56.300000000000026)\">30</text></g></g><g class=\"overaxes-above\"/></g><g class=\"subplot x4y4\"><g class=\"layer-subplot\"><g class=\"shapelayer\"/><g class=\"imagelayer\"/></g><g class=\"gridlayer\"><g class=\"x4\"><path class=\"x4grid crisp\" transform=\"translate(345.01000000000005,0)\" d=\"M0,30.00000000000003v121.365\" style=\"stroke: rgb(232, 232, 232); stroke-opacity: 1; stroke-width: 1px;\"/><path class=\"x4grid crisp\" transform=\"translate(414.54,0)\" d=\"M0,30.00000000000003v121.365\" style=\"stroke: rgb(232, 232, 232); stroke-opacity: 1; stroke-width: 1px;\"/><path class=\"x4grid crisp\" transform=\"translate(484.08000000000004,0)\" d=\"M0,30.00000000000003v121.365\" style=\"stroke: rgb(232, 232, 232); stroke-opacity: 1; stroke-width: 1px;\"/></g><g class=\"y4\"><path class=\"y4grid crisp\" transform=\"translate(0,123.28000000000003)\" d=\"M303.33000000000004,0h236.67\" style=\"stroke: rgb(232, 232, 232); stroke-opacity: 1; stroke-width: 1px;\"/><path class=\"y4grid crisp\" transform=\"translate(0,89.79000000000002)\" d=\"M303.33000000000004,0h236.67\" style=\"stroke: rgb(232, 232, 232); stroke-opacity: 1; stroke-width: 1px;\"/><path class=\"y4grid crisp\" transform=\"translate(0,56.300000000000026)\" d=\"M303.33000000000004,0h236.67\" style=\"stroke: rgb(232, 232, 232); stroke-opacity: 1; stroke-width: 1px;\"/></g></g><g class=\"zerolinelayer\"/><path class=\"xlines-below\"/><path class=\"ylines-below\"/><g class=\"overlines-below\"/><g class=\"xaxislayer-below\"/><g class=\"yaxislayer-below\"/><g class=\"overaxes-below\"/><g class=\"plot\" transform=\"translate(303.33000000000004,30.00000000000003)\" clip-path=\"url(#clip6cf94bx4y4plot)\"><g class=\"scatterlayer mlayer\"><g class=\"trace scatter tracedf5bae\" style=\"stroke-miterlimit: 2; opacity: 1;\"><g class=\"fills\"/><g class=\"errorbars\"/><g class=\"lines\"/><g class=\"points\"><path class=\"point\" transform=\"translate(83.75,77.23)\" d=\"M3,0A3,3 0 1,1 0,-3A3,3 0 0,1 3,0Z\" style=\"opacity: 1; stroke-width: 0px; fill: rgb(31, 119, 180); fill-opacity: 1;\"/><path class=\"point\" transform=\"translate(68.97,87.27)\" d=\"M3,0A3,3 0 1,1 0,-3A3,3 0 0,1 3,0Z\" style=\"opacity: 1; stroke-width: 0px; fill: rgb(31, 119, 180); fill-opacity: 1;\"/><path class=\"point\" transform=\"translate(50.43,100.33)\" d=\"M3,0A3,3 0 1,1 0,-3A3,3 0 0,1 3,0Z\" style=\"opacity: 1; stroke-width: 0px; fill: rgb(31, 119, 180); fill-opacity: 1;\"/><path class=\"point\" transform=\"translate(57.67,92.46)\" d=\"M3,0A3,3 0 1,1 0,-3A3,3 0 0,1 3,0Z\" style=\"opacity: 1; stroke-width: 0px; fill: rgb(31, 119, 180); fill-opacity: 1;\"/><path class=\"point\" transform=\"translate(60.68,89.25)\" d=\"M3,0A3,3 0 1,1 0,-3A3,3 0 0,1 3,0Z\" style=\"opacity: 1; stroke-width: 0px; fill: rgb(31, 119, 180); fill-opacity: 1;\"/><path class=\"point\" transform=\"translate(76.39,86.61)\" d=\"M3,0A3,3 0 1,1 0,-3A3,3 0 0,1 3,0Z\" style=\"opacity: 1; stroke-width: 0px; fill: rgb(31, 119, 180); fill-opacity: 1;\"/><path class=\"point\" transform=\"translate(91.28,58.48)\" d=\"M3,0A3,3 0 1,1 0,-3A3,3 0 0,1 3,0Z\" style=\"opacity: 1; stroke-width: 0px; fill: rgb(31, 119, 180); fill-opacity: 1;\"/><path class=\"point\" transform=\"translate(85.49,81.16)\" d=\"M3,0A3,3 0 1,1 0,-3A3,3 0 0,1 3,0Z\" style=\"opacity: 1; stroke-width: 0px; fill: rgb(31, 119, 180); fill-opacity: 1;\"/><path class=\"point\" transform=\"translate(82.88,82.93)\" d=\"M3,0A3,3 0 1,1 0,-3A3,3 0 0,1 3,0Z\" style=\"opacity: 1; stroke-width: 0px; fill: rgb(31, 119, 180); fill-opacity: 1;\"/><path class=\"point\" transform=\"translate(131.32,41.47)\" d=\"M3,0A3,3 0 1,1 0,-3A3,3 0 0,1 3,0Z\" style=\"opacity: 1; stroke-width: 0px; fill: rgb(31, 119, 180); fill-opacity: 1;\"/><path class=\"point\" transform=\"translate(61.03,78.04)\" d=\"M3,0A3,3 0 1,1 0,-3A3,3 0 0,1 3,0Z\" style=\"opacity: 1; stroke-width: 0px; fill: rgb(31, 119, 180); fill-opacity: 1;\"/><path class=\"point\" transform=\"translate(38.95,101.18)\" d=\"M3,0A3,3 0 1,1 0,-3A3,3 0 0,1 3,0Z\" style=\"opacity: 1; stroke-width: 0px; fill: rgb(31, 119, 180); fill-opacity: 1;\"/><path class=\"point\" transform=\"translate(169.63,36.53)\" d=\"M3,0A3,3 0 1,1 0,-3A3,3 0 0,1 3,0Z\" style=\"opacity: 1; stroke-width: 0px; fill: rgb(31, 119, 180); fill-opacity: 1;\"/><path class=\"point\" transform=\"translate(57.61,92.17)\" d=\"M3,0A3,3 0 1,1 0,-3A3,3 0 0,1 3,0Z\" style=\"opacity: 1; stroke-width: 0px; fill: rgb(31, 119, 180); fill-opacity: 1;\"/><path class=\"point\" transform=\"translate(142.1,55.22)\" d=\"M3,0A3,3 0 1,1 0,-3A3,3 0 0,1 3,0Z\" style=\"opacity: 1; stroke-width: 0px; fill: rgb(31, 119, 180); fill-opacity: 1;\"/><path class=\"point\" transform=\"translate(76.45,87.27)\" d=\"M3,0A3,3 0 1,1 0,-3A3,3 0 0,1 3,0Z\" style=\"opacity: 1; stroke-width: 0px; fill: rgb(31, 119, 180); fill-opacity: 1;\"/><path class=\"point\" transform=\"translate(38.89,100.33)\" d=\"M3,0A3,3 0 1,1 0,-3A3,3 0 0,1 3,0Z\" style=\"opacity: 1; stroke-width: 0px; fill: rgb(31, 119, 180); fill-opacity: 1;\"/><path class=\"point\" transform=\"translate(58.37,92.46)\" d=\"M3,0A3,3 0 1,1 0,-3A3,3 0 0,1 3,0Z\" style=\"opacity: 1; stroke-width: 0px; fill: rgb(31, 119, 180); fill-opacity: 1;\"/><path class=\"point\" transform=\"translate(47.24,89.25)\" d=\"M3,0A3,3 0 1,1 0,-3A3,3 0 0,1 3,0Z\" style=\"opacity: 1; stroke-width: 0px; fill: rgb(31, 119, 180); fill-opacity: 1;\"/><path class=\"point\" transform=\"translate(65.32,86.61)\" d=\"M3,0A3,3 0 1,1 0,-3A3,3 0 0,1 3,0Z\" style=\"opacity: 1; stroke-width: 0px; fill: rgb(31, 119, 180); fill-opacity: 1;\"/><path class=\"point\" transform=\"translate(100.09,58.48)\" d=\"M3,0A3,3 0 1,1 0,-3A3,3 0 0,1 3,0Z\" style=\"opacity: 1; stroke-width: 0px; fill: rgb(31, 119, 180); fill-opacity: 1;\"/><path class=\"point\" transform=\"translate(68.1,81.16)\" d=\"M3,0A3,3 0 1,1 0,-3A3,3 0 0,1 3,0Z\" style=\"opacity: 1; stroke-width: 0px; fill: rgb(31, 119, 180); fill-opacity: 1;\"/><path class=\"point\" transform=\"translate(66.71,82.93)\" d=\"M3,0A3,3 0 1,1 0,-3A3,3 0 0,1 3,0Z\" style=\"opacity: 1; stroke-width: 0px; fill: rgb(31, 119, 180); fill-opacity: 1;\"/><path class=\"point\" transform=\"translate(137.64,41.47)\" d=\"M3,0A3,3 0 1,1 0,-3A3,3 0 0,1 3,0Z\" style=\"opacity: 1; stroke-width: 0px; fill: rgb(31, 119, 180); fill-opacity: 1;\"/><path class=\"point\" transform=\"translate(41.68,78.04)\" d=\"M3,0A3,3 0 1,1 0,-3A3,3 0 0,1 3,0Z\" style=\"opacity: 1; stroke-width: 0px; fill: rgb(31, 119, 180); fill-opacity: 1;\"/><path class=\"point\" transform=\"translate(15.25,101.18)\" d=\"M3,0A3,3 0 1,1 0,-3A3,3 0 0,1 3,0Z\" style=\"opacity: 1; stroke-width: 0px; fill: rgb(31, 119, 180); fill-opacity: 1;\"/><path class=\"point\" transform=\"translate(41.68,100.33)\" d=\"M3,0A3,3 0 1,1 0,-3A3,3 0 0,1 3,0Z\" style=\"opacity: 1; stroke-width: 0px; fill: rgb(31, 119, 180); fill-opacity: 1;\"/><path class=\"point\" transform=\"translate(109.82,58.48)\" d=\"M3,0A3,3 0 1,1 0,-3A3,3 0 0,1 3,0Z\" style=\"opacity: 1; stroke-width: 0px; fill: rgb(31, 119, 180); fill-opacity: 1;\"/><path class=\"point\" transform=\"translate(76.45,81.16)\" d=\"M3,0A3,3 0 1,1 0,-3A3,3 0 0,1 3,0Z\" style=\"opacity: 1; stroke-width: 0px; fill: rgb(31, 119, 180); fill-opacity: 1;\"/><path class=\"point\" transform=\"translate(44.46,78.04)\" d=\"M3,0A3,3 0 1,1 0,-3A3,3 0 0,1 3,0Z\" style=\"opacity: 1; stroke-width: 0px; fill: rgb(31, 119, 180); fill-opacity: 1;\"/></g><g class=\"text\"/></g></g></g><g class=\"overplot\"/><path class=\"xlines-above crisp\" d=\"M302.33000000000004,151.865H540\" style=\"fill: none; stroke-width: 1px; stroke: rgb(36, 36, 36); stroke-opacity: 1;\"/><path class=\"ylines-above crisp\" d=\"M302.83000000000004,30.00000000000003V151.365\" style=\"fill: none; stroke-width: 1px; stroke: rgb(36, 36, 36); stroke-opacity: 1;\"/><g class=\"overlines-above\"/><g class=\"xaxislayer-above\"><path class=\"x4tick ticks crisp\" d=\"M0,152.365v5\" transform=\"translate(345.01000000000005,0)\" style=\"stroke: rgb(68, 68, 68); stroke-opacity: 1; stroke-width: 1px;\"/><path class=\"x4tick ticks crisp\" d=\"M0,152.365v5\" transform=\"translate(414.54,0)\" style=\"stroke: rgb(68, 68, 68); stroke-opacity: 1; stroke-width: 1px;\"/><path class=\"x4tick ticks crisp\" d=\"M0,152.365v5\" transform=\"translate(484.08000000000004,0)\" style=\"stroke: rgb(68, 68, 68); stroke-opacity: 1; stroke-width: 1px;\"/></g><g class=\"yaxislayer-above\"><path class=\"y4tick ticks crisp\" d=\"M302.33000000000004,0h-5\" transform=\"translate(0,123.28000000000003)\" style=\"stroke: rgb(68, 68, 68); stroke-opacity: 1; stroke-width: 1px;\"/><path class=\"y4tick ticks crisp\" d=\"M302.33000000000004,0h-5\" transform=\"translate(0,89.79000000000002)\" style=\"stroke: rgb(68, 68, 68); stroke-opacity: 1; stroke-width: 1px;\"/><path class=\"y4tick ticks crisp\" d=\"M302.33000000000004,0h-5\" transform=\"translate(0,56.300000000000026)\" style=\"stroke: rgb(68, 68, 68); stroke-opacity: 1; stroke-width: 1px;\"/></g><g class=\"overaxes-above\"/></g></g><g class=\"polarlayer\"/><g class=\"smithlayer\"/><g class=\"ternarylayer\"/><g class=\"geolayer\"/><g class=\"funnelarealayer\"/><g class=\"pielayer\"/><g class=\"iciclelayer\"/><g class=\"treemaplayer\"/><g class=\"sunburstlayer\"/><g class=\"glimages\"/><defs id=\"topdefs-6cf94b\"><g class=\"clips\"/></defs><g class=\"layer-above\"><g class=\"imagelayer\"/><g class=\"shapelayer\"/></g><g class=\"infolayer\"><g class=\"g-gtitle\"/><g class=\"g-xtitle\"><text class=\"xtitle\" x=\"175.33499999999998\" y=\"339.70625\" text-anchor=\"middle\" style=\"font-family: 'Open Sans', verdana, arial, sans-serif; font-size: 14px; fill: rgb(36, 36, 36); opacity: 1; font-weight: normal; white-space: pre;\">pm25aqs</text></g><g class=\"g-x2title\"><text class=\"x2title\" x=\"421.665\" y=\"339.70625\" text-anchor=\"middle\" style=\"font-family: 'Open Sans', verdana, arial, sans-serif; font-size: 14px; fill: rgb(36, 36, 36); opacity: 1; font-weight: normal; white-space: pre;\">pm25aqs</text></g><g class=\"g-x3title\"/><g class=\"g-x4title\"/><g class=\"g-ytitle\" transform=\"translate(4.9296875,0)\"><text class=\"ytitle\" transform=\"rotate(-90,10.075000000000003,230.31750000000002)\" x=\"10.075000000000003\" y=\"230.31750000000002\" text-anchor=\"middle\" style=\"font-family: 'Open Sans', verdana, arial, sans-serif; font-size: 14px; fill: rgb(36, 36, 36); opacity: 1; font-weight: normal; white-space: pre;\">pm25pa</text></g><g class=\"g-y2title\"/><g class=\"g-y3title\" transform=\"translate(4.935546875,0)\"><text class=\"y3title\" transform=\"rotate(-90,10.075000000000003,90.68250000000003)\" x=\"10.075000000000003\" y=\"90.68250000000003\" text-anchor=\"middle\" style=\"font-family: 'Open Sans', verdana, arial, sans-serif; font-size: 14px; fill: rgb(36, 36, 36); opacity: 1; font-weight: normal; white-space: pre;\">pm25pa</text></g><g class=\"g-y4title\"/><g class=\"annotation\" data-index=\"0\" style=\"opacity: 1;\"><g class=\"annotation-text-g\" transform=\"rotate(0,175.33499999999998,159.13500000000002)\"><g class=\"cursor-pointer\" transform=\"translate(130,149)\"><rect class=\"bg\" x=\"0.5\" y=\"0.5\" width=\"90\" height=\"20\" style=\"stroke-width: 1px; stroke: rgb(0, 0, 0); stroke-opacity: 0; fill: rgb(0, 0, 0); fill-opacity: 0;\"/><text class=\"annotation-text\" text-anchor=\"middle\" x=\"45.484375\" y=\"15\" style=\"font-family: 'Open Sans', verdana, arial, sans-serif; font-size: 12px; fill: rgb(36, 36, 36); fill-opacity: 1; white-space: pre;\">facet_col=50-55</text></g></g></g><g class=\"annotation\" data-index=\"1\" style=\"opacity: 1;\"><g class=\"annotation-text-g\" transform=\"rotate(0,421.665,159.13500000000002)\"><g class=\"cursor-pointer\" transform=\"translate(382,149)\"><rect class=\"bg\" x=\"0.5\" y=\"0.5\" width=\"79\" height=\"20\" style=\"stroke-width: 1px; stroke: rgb(0, 0, 0); stroke-opacity: 0; fill: rgb(0, 0, 0); fill-opacity: 0;\"/><text class=\"annotation-text\" text-anchor=\"middle\" x=\"40.125\" y=\"15\" style=\"font-family: 'Open Sans', verdana, arial, sans-serif; font-size: 12px; fill: rgb(36, 36, 36); fill-opacity: 1; white-space: pre;\">facet_col=&#60;50</text></g></g></g><g class=\"annotation\" data-index=\"2\" style=\"opacity: 1;\"><g class=\"annotation-text-g\" transform=\"rotate(0,175.33499999999998,19.500000000000025)\"><g class=\"cursor-pointer\" transform=\"translate(130,9)\"><rect class=\"bg\" x=\"0.5\" y=\"0.5\" width=\"90\" height=\"20\" style=\"stroke-width: 1px; stroke: rgb(0, 0, 0); stroke-opacity: 0; fill: rgb(0, 0, 0); fill-opacity: 0;\"/><text class=\"annotation-text\" text-anchor=\"middle\" x=\"45.484375\" y=\"15\" style=\"font-family: 'Open Sans', verdana, arial, sans-serif; font-size: 12px; fill: rgb(36, 36, 36); fill-opacity: 1; white-space: pre;\">facet_col=55-60</text></g></g></g><g class=\"annotation\" data-index=\"3\" style=\"opacity: 1;\"><g class=\"annotation-text-g\" transform=\"rotate(0,421.665,19.50000000000003)\"><g class=\"cursor-pointer\" transform=\"translate(382,9)\"><rect class=\"bg\" x=\"0.5\" y=\"0.5\" width=\"79\" height=\"20\" style=\"stroke-width: 1px; stroke: rgb(0, 0, 0); stroke-opacity: 0; fill: rgb(0, 0, 0); fill-opacity: 0;\"/><text class=\"annotation-text\" text-anchor=\"middle\" x=\"40.125\" y=\"15\" style=\"font-family: 'Open Sans', verdana, arial, sans-serif; font-size: 12px; fill: rgb(36, 36, 36); fill-opacity: 1; white-space: pre;\">facet_col=>60</text></g></g></g></g></svg>"
      ]
     },
     "metadata": {},
     "output_type": "display_data"
    }
   ],
   "source": [
    "fig = px.scatter(GA, x='pm25aqs', y='pm25pa', \n",
    "                 facet_col=rh_cat, facet_col_wrap=2,\n",
    "                 width=550, height=350)\n",
    "\n",
    "fig.update_layout(margin=dict(t=30))\n",
    "fig.show()"
   ]
  },
  {
   "cell_type": "markdown",
   "metadata": {},
   "source": [
    "These four plots show a linear relationship between the two sources of air quality measurements. And, the slopes appear to be similar, which means that a multiple linear model may fit well. It's difficult to see from these plots if the relative humidity affects the intercept much. \n",
    "\n",
    "We also want to examine the pairwise scatter plots between the three features. When two explanatory features are highly correlated, their coefficients in the model may be unstable.  While linear relationships between three or more features may not show up in pairwise plots, it's still a good idea to check.  "
   ]
  },
  {
   "cell_type": "code",
   "execution_count": 7,
   "metadata": {},
   "outputs": [
    {
     "data": {
      "application/vnd.plotly.v1+json": {
       "config": {
        "plotlyServerURL": "https://plot.ly"
       },
       "data": [
        {
         "diagonal": {
          "visible": false
         },
         "dimensions": [
          {
           "axis": {
            "matches": true
           },
           "label": "pm25pa",
           "values": [
            16.189375,
            13.5925486111111,
            10.3005709238043,
            14.7903058742853,
            17.5458402777778,
            22.3404027777778,
            14.5682766385455,
            19.2110265363129,
            21.6665694444444,
            25.6766180555556,
            25.0813977746871,
            11.3800432917262,
            15.4784444444444,
            18.0511111111111,
            19.4304166666667,
            12.5601805555556,
            7.9386875,
            7.53994444444444,
            11.7940416666667,
            7.89279861111111,
            10.2429930555556,
            11.2007361111111,
            9.85393305439331,
            9.99670833333333,
            11.6666944444444,
            15.917875,
            16.7362361111111,
            15.1454861111111,
            29.1896527777778,
            27.2041041666667,
            20.2967430555556,
            17.6836180555556,
            20.7385694444444,
            22.4718680555556,
            20.6703203342618,
            8.64885416666667,
            10.8636319444444,
            10.4440833333333,
            9.15297222222222,
            11.8642222222222,
            14.5964812239221,
            17.2498194444444,
            19.6090347222222,
            28.7283101529903,
            23.1521736111111,
            23.2944652777778,
            31.2008680555556,
            34.2497529693147,
            34.9209166666667,
            23.6401180555556,
            17.830875,
            8.04743055555556,
            8.51965972222222,
            7.42860416666667,
            10.0599235048679,
            11.9909027777778,
            13.4507293598362,
            13.4541805555556,
            9.77823119777159,
            20.3900555555556,
            6.38982638888889,
            12.9443611111111,
            13.6182847222222,
            7.56710416666667,
            4.54415972222222,
            13.5492569444444,
            13.0892230794421,
            25.4701458333333,
            14.5480216736208,
            7.63855354659249,
            12.0913333333333,
            18.2288550724638,
            12.3139733333333,
            14.8651736111111,
            18.7000486111111,
            24.6267385257302,
            26.9433888888889,
            13.0367696629213,
            13.5520694444444,
            23.3369027777778,
            25.8159791666667,
            10.3297708333333,
            8.49286111111111,
            16.6307152777778,
            21.3630528511822,
            19.8465763888889,
            13.103125,
            18.6737222222222,
            22.3404027777778,
            14.5682766385455,
            19.2110265363129,
            21.6665694444444,
            25.6766180555556,
            25.0813977746871,
            11.3800432917262,
            15.4784444444444,
            18.0511111111111,
            19.4304166666667,
            12.5601805555556,
            7.9386875,
            7.53994444444444,
            11.7940416666667,
            7.89279861111111,
            10.2429930555556,
            11.2007361111111,
            9.85393305439331,
            9.99670833333333,
            11.6666944444444,
            15.917875,
            16.7362361111111,
            15.1454861111111,
            29.1896527777778,
            27.2041041666667,
            20.2967430555556,
            17.6836180555556,
            20.7385694444444,
            22.4718680555556,
            20.6703203342618,
            8.64885416666667,
            10.8636319444444,
            10.4440833333333,
            9.15297222222222,
            11.8642222222222,
            14.5964812239221,
            17.2498194444444,
            19.6090347222222,
            28.7283101529903,
            23.1521736111111,
            23.2944652777778,
            31.2008680555556,
            34.2497529693147,
            34.9209166666667,
            23.6401180555556,
            17.830875,
            8.04743055555556,
            8.51965972222222,
            7.42860416666667,
            10.0599235048679,
            11.9909027777778,
            13.4507293598362,
            13.4541805555556,
            9.77823119777159,
            20.3900555555556,
            6.38982638888889,
            12.9443611111111,
            13.6182847222222,
            7.56710416666667,
            4.54415972222222,
            13.5492569444444,
            13.0892230794421,
            25.4701458333333,
            14.5480216736208,
            7.63855354659249,
            10.3005709238043,
            22.3404027777778,
            19.2110265363129,
            25.0813977746871,
            15.4784444444444,
            12.5601805555556,
            7.89279861111111,
            9.85393305439331,
            15.917875,
            29.1896527777778,
            20.6703203342618,
            10.4440833333333,
            9.15297222222222,
            19.6090347222222,
            23.2944652777778,
            34.9209166666667,
            8.04743055555556,
            10.0599235048679,
            13.4541805555556,
            20.3900555555556,
            12.9443611111111,
            13.6182847222222,
            14.5480216736208
           ]
          },
          {
           "axis": {
            "matches": true
           },
           "label": "pm25aqs",
           "values": [
            8.645833,
            7.704167,
            6.3,
            8.025,
            9.441667,
            11.745833,
            8.9125,
            9.754167,
            11.020833,
            11.679167,
            11.808333,
            6.686957,
            8.604167,
            10.125,
            10.395833,
            7.478261,
            5.433333,
            5.504167,
            6.9625,
            5.629167,
            6.15,
            6.366667,
            7.278261,
            6.975,
            7.833333,
            9.533333,
            9.759091,
            8.8875,
            15.454167,
            14.845833,
            10.4,
            9.854167,
            11.454167,
            12.783333,
            11.520833,
            6.85,
            7.929167,
            7.866667,
            7.408333,
            8.579167,
            9.4875,
            10.475,
            11.275,
            13.995833,
            11.733333,
            12.83913,
            15.779167,
            16.995833,
            17.625,
            13.658333,
            10.782609,
            7.65,
            7.133333,
            5.741667,
            6,
            7.495833,
            8.295833,
            8.866667,
            6.3,
            8.566667,
            5.0375,
            6.804167,
            8.15,
            5.479167,
            4.304167,
            7.725,
            7.9625,
            11.445833,
            6.391667,
            4.804167,
            7.2,
            10.708333,
            7.2875,
            9.516667,
            10.833333,
            13.870833,
            14.2,
            8.156522,
            9.345833,
            13.5125,
            13.9375,
            6.145833,
            6.295833,
            10.826087,
            12.220833,
            10.854167,
            8.979167,
            9.854167,
            11.2,
            8.5,
            11,
            11.5,
            12.9,
            12.5,
            7,
            9.5,
            10.4,
            10.4,
            7.9,
            5.1,
            6.5,
            7.5,
            4.8,
            6.2,
            5.4,
            5.9,
            6.6,
            7.2,
            8.9,
            9.3,
            8.3,
            14.7,
            14.2,
            10.1,
            9.3,
            12.1,
            13.1,
            11.4,
            6.9,
            7.6,
            7.8,
            7.1,
            9.3,
            8.5,
            10,
            10.1,
            12.1,
            9.5,
            12,
            13.5,
            15.8,
            16.3,
            12.2,
            9.5,
            5.4,
            5.8,
            5.7,
            4.2,
            6.7,
            8,
            8.6,
            5.9,
            9.2,
            4.2,
            6.3,
            6.9,
            4.4,
            4.3,
            7.8,
            6.8,
            11.9,
            5,
            3.1,
            5.9,
            11.3,
            11.5,
            12.3,
            9.5,
            7.7,
            5,
            5.9,
            9.1,
            14.7,
            11.9,
            8.1,
            7.8,
            11.4,
            13.3,
            17.9,
            6.8,
            4.5,
            8.9,
            9.9,
            6.3,
            7.5,
            5.2
           ]
          },
          {
           "axis": {
            "matches": true
           },
           "label": "rh",
           "values": [
            59.5972222222222,
            56.4555555555556,
            59.0850767085077,
            62.1098748261474,
            57.2666666666667,
            53.7638888888889,
            51.2572298325723,
            58.7765363128492,
            56.8208333333333,
            55.0944444444444,
            52.7816411682893,
            55.9106317411402,
            49.9222222222222,
            50.1430555555556,
            52.2222222222222,
            56.5944444444444,
            53.2166666666667,
            54.2902777777778,
            62.1875,
            62.3041666666667,
            64.5458333333333,
            67.5361111111111,
            55.0962343096234,
            49.6986111111111,
            51.4472222222222,
            55.2611111111111,
            57.7972222222222,
            53.6111111111111,
            51.2388888888889,
            53.5194444444444,
            57.8472222222222,
            56.3041666666667,
            51.5694444444444,
            48.9152777777778,
            53.6183844011142,
            43.5680555555556,
            45.8680555555556,
            49.9222222222222,
            50.8625,
            49.8805555555556,
            50.5229485396384,
            51.0111111111111,
            49.9194444444444,
            56.0611961057024,
            58.5625,
            55.0986111111111,
            54.5152777777778,
            53.7969401947149,
            51.2541666666667,
            48.3638888888889,
            56.5569444444444,
            58.5736111111111,
            57.6027777777778,
            57.0902777777778,
            57.6968011126565,
            60.2375,
            55.3616133518776,
            52.2083333333333,
            55.2228412256267,
            67.825,
            49.3777777777778,
            54.2916666666667,
            63.9388888888889,
            54.0527777777778,
            50.8611111111111,
            57.2472222222222,
            62.8543689320388,
            67.3763888888889,
            76.9694019471488,
            70.4436717663421,
            52.9111111111111,
            53.5492753623188,
            53.964,
            55.2694444444444,
            56.4625,
            58.3699582753825,
            64.1097222222222,
            58.3932584269663,
            54.2333333333333,
            56.4222222222222,
            56.9847222222222,
            60.1041666666667,
            44.4388888888889,
            48.7541666666667,
            70.105702364395,
            51.4,
            50.3527777777778,
            49.5055555555556,
            53.7638888888889,
            51.2572298325723,
            58.7765363128492,
            56.8208333333333,
            55.0944444444444,
            52.7816411682893,
            55.9106317411402,
            49.9222222222222,
            50.1430555555556,
            52.2222222222222,
            56.5944444444444,
            53.2166666666667,
            54.2902777777778,
            62.1875,
            62.3041666666667,
            64.5458333333333,
            67.5361111111111,
            55.0962343096234,
            49.6986111111111,
            51.4472222222222,
            55.2611111111111,
            57.7972222222222,
            53.6111111111111,
            51.2388888888889,
            53.5194444444444,
            57.8472222222222,
            56.3041666666667,
            51.5694444444444,
            48.9152777777778,
            53.6183844011142,
            43.5680555555556,
            45.8680555555556,
            49.9222222222222,
            50.8625,
            49.8805555555556,
            50.5229485396384,
            51.0111111111111,
            49.9194444444444,
            56.0611961057024,
            58.5625,
            55.0986111111111,
            54.5152777777778,
            53.7969401947149,
            51.2541666666667,
            48.3638888888889,
            56.5569444444444,
            58.5736111111111,
            57.6027777777778,
            57.0902777777778,
            57.6968011126565,
            60.2375,
            55.3616133518776,
            52.2083333333333,
            55.2228412256267,
            67.825,
            49.3777777777778,
            54.2916666666667,
            63.9388888888889,
            54.0527777777778,
            50.8611111111111,
            57.2472222222222,
            62.8543689320388,
            67.3763888888889,
            76.9694019471488,
            70.4436717663421,
            59.0850767085077,
            53.7638888888889,
            58.7765363128492,
            52.7816411682893,
            49.9222222222222,
            56.5944444444444,
            62.3041666666667,
            55.0962343096234,
            55.2611111111111,
            51.2388888888889,
            53.6183844011142,
            49.9222222222222,
            50.8625,
            49.9194444444444,
            55.0986111111111,
            51.2541666666667,
            58.5736111111111,
            57.6968011126565,
            52.2083333333333,
            67.825,
            54.2916666666667,
            63.9388888888889,
            76.9694019471488
           ]
          }
         ],
         "hovertemplate": "%{xaxis.title.text}=%{x}<br>%{yaxis.title.text}=%{y}<extra></extra>",
         "legendgroup": "",
         "marker": {
          "color": "#1F77B4",
          "symbol": "circle"
         },
         "name": "",
         "showlegend": false,
         "type": "splom"
        }
       ],
       "layout": {
        "dragmode": "select",
        "height": 350,
        "legend": {
         "tracegroupgap": 0
        },
        "template": {
         "data": {
          "bar": [
           {
            "error_x": {
             "color": "rgb(36,36,36)"
            },
            "error_y": {
             "color": "rgb(36,36,36)"
            },
            "marker": {
             "line": {
              "color": "white",
              "width": 0.5
             },
             "pattern": {
              "fillmode": "overlay",
              "size": 10,
              "solidity": 0.2
             }
            },
            "type": "bar"
           }
          ],
          "barpolar": [
           {
            "marker": {
             "line": {
              "color": "white",
              "width": 0.5
             },
             "pattern": {
              "fillmode": "overlay",
              "size": 10,
              "solidity": 0.2
             }
            },
            "type": "barpolar"
           }
          ],
          "carpet": [
           {
            "aaxis": {
             "endlinecolor": "rgb(36,36,36)",
             "gridcolor": "white",
             "linecolor": "white",
             "minorgridcolor": "white",
             "startlinecolor": "rgb(36,36,36)"
            },
            "baxis": {
             "endlinecolor": "rgb(36,36,36)",
             "gridcolor": "white",
             "linecolor": "white",
             "minorgridcolor": "white",
             "startlinecolor": "rgb(36,36,36)"
            },
            "type": "carpet"
           }
          ],
          "choropleth": [
           {
            "colorbar": {
             "outlinewidth": 1,
             "tickcolor": "rgb(36,36,36)",
             "ticks": "outside"
            },
            "type": "choropleth"
           }
          ],
          "contour": [
           {
            "colorbar": {
             "outlinewidth": 1,
             "tickcolor": "rgb(36,36,36)",
             "ticks": "outside"
            },
            "colorscale": [
             [
              0,
              "#440154"
             ],
             [
              0.1111111111111111,
              "#482878"
             ],
             [
              0.2222222222222222,
              "#3e4989"
             ],
             [
              0.3333333333333333,
              "#31688e"
             ],
             [
              0.4444444444444444,
              "#26828e"
             ],
             [
              0.5555555555555556,
              "#1f9e89"
             ],
             [
              0.6666666666666666,
              "#35b779"
             ],
             [
              0.7777777777777778,
              "#6ece58"
             ],
             [
              0.8888888888888888,
              "#b5de2b"
             ],
             [
              1,
              "#fde725"
             ]
            ],
            "type": "contour"
           }
          ],
          "contourcarpet": [
           {
            "colorbar": {
             "outlinewidth": 1,
             "tickcolor": "rgb(36,36,36)",
             "ticks": "outside"
            },
            "type": "contourcarpet"
           }
          ],
          "heatmap": [
           {
            "colorbar": {
             "outlinewidth": 1,
             "tickcolor": "rgb(36,36,36)",
             "ticks": "outside"
            },
            "colorscale": [
             [
              0,
              "#440154"
             ],
             [
              0.1111111111111111,
              "#482878"
             ],
             [
              0.2222222222222222,
              "#3e4989"
             ],
             [
              0.3333333333333333,
              "#31688e"
             ],
             [
              0.4444444444444444,
              "#26828e"
             ],
             [
              0.5555555555555556,
              "#1f9e89"
             ],
             [
              0.6666666666666666,
              "#35b779"
             ],
             [
              0.7777777777777778,
              "#6ece58"
             ],
             [
              0.8888888888888888,
              "#b5de2b"
             ],
             [
              1,
              "#fde725"
             ]
            ],
            "type": "heatmap"
           }
          ],
          "heatmapgl": [
           {
            "colorbar": {
             "outlinewidth": 1,
             "tickcolor": "rgb(36,36,36)",
             "ticks": "outside"
            },
            "colorscale": [
             [
              0,
              "#440154"
             ],
             [
              0.1111111111111111,
              "#482878"
             ],
             [
              0.2222222222222222,
              "#3e4989"
             ],
             [
              0.3333333333333333,
              "#31688e"
             ],
             [
              0.4444444444444444,
              "#26828e"
             ],
             [
              0.5555555555555556,
              "#1f9e89"
             ],
             [
              0.6666666666666666,
              "#35b779"
             ],
             [
              0.7777777777777778,
              "#6ece58"
             ],
             [
              0.8888888888888888,
              "#b5de2b"
             ],
             [
              1,
              "#fde725"
             ]
            ],
            "type": "heatmapgl"
           }
          ],
          "histogram": [
           {
            "marker": {
             "line": {
              "color": "white",
              "width": 0.6
             }
            },
            "type": "histogram"
           }
          ],
          "histogram2d": [
           {
            "colorbar": {
             "outlinewidth": 1,
             "tickcolor": "rgb(36,36,36)",
             "ticks": "outside"
            },
            "colorscale": [
             [
              0,
              "#440154"
             ],
             [
              0.1111111111111111,
              "#482878"
             ],
             [
              0.2222222222222222,
              "#3e4989"
             ],
             [
              0.3333333333333333,
              "#31688e"
             ],
             [
              0.4444444444444444,
              "#26828e"
             ],
             [
              0.5555555555555556,
              "#1f9e89"
             ],
             [
              0.6666666666666666,
              "#35b779"
             ],
             [
              0.7777777777777778,
              "#6ece58"
             ],
             [
              0.8888888888888888,
              "#b5de2b"
             ],
             [
              1,
              "#fde725"
             ]
            ],
            "type": "histogram2d"
           }
          ],
          "histogram2dcontour": [
           {
            "colorbar": {
             "outlinewidth": 1,
             "tickcolor": "rgb(36,36,36)",
             "ticks": "outside"
            },
            "colorscale": [
             [
              0,
              "#440154"
             ],
             [
              0.1111111111111111,
              "#482878"
             ],
             [
              0.2222222222222222,
              "#3e4989"
             ],
             [
              0.3333333333333333,
              "#31688e"
             ],
             [
              0.4444444444444444,
              "#26828e"
             ],
             [
              0.5555555555555556,
              "#1f9e89"
             ],
             [
              0.6666666666666666,
              "#35b779"
             ],
             [
              0.7777777777777778,
              "#6ece58"
             ],
             [
              0.8888888888888888,
              "#b5de2b"
             ],
             [
              1,
              "#fde725"
             ]
            ],
            "type": "histogram2dcontour"
           }
          ],
          "mesh3d": [
           {
            "colorbar": {
             "outlinewidth": 1,
             "tickcolor": "rgb(36,36,36)",
             "ticks": "outside"
            },
            "type": "mesh3d"
           }
          ],
          "parcoords": [
           {
            "line": {
             "colorbar": {
              "outlinewidth": 1,
              "tickcolor": "rgb(36,36,36)",
              "ticks": "outside"
             }
            },
            "type": "parcoords"
           }
          ],
          "pie": [
           {
            "automargin": true,
            "type": "pie"
           }
          ],
          "scatter": [
           {
            "marker": {
             "colorbar": {
              "outlinewidth": 1,
              "tickcolor": "rgb(36,36,36)",
              "ticks": "outside"
             }
            },
            "type": "scatter"
           }
          ],
          "scatter3d": [
           {
            "line": {
             "colorbar": {
              "outlinewidth": 1,
              "tickcolor": "rgb(36,36,36)",
              "ticks": "outside"
             }
            },
            "marker": {
             "colorbar": {
              "outlinewidth": 1,
              "tickcolor": "rgb(36,36,36)",
              "ticks": "outside"
             }
            },
            "type": "scatter3d"
           }
          ],
          "scattercarpet": [
           {
            "marker": {
             "colorbar": {
              "outlinewidth": 1,
              "tickcolor": "rgb(36,36,36)",
              "ticks": "outside"
             }
            },
            "type": "scattercarpet"
           }
          ],
          "scattergeo": [
           {
            "marker": {
             "colorbar": {
              "outlinewidth": 1,
              "tickcolor": "rgb(36,36,36)",
              "ticks": "outside"
             }
            },
            "type": "scattergeo"
           }
          ],
          "scattergl": [
           {
            "marker": {
             "colorbar": {
              "outlinewidth": 1,
              "tickcolor": "rgb(36,36,36)",
              "ticks": "outside"
             }
            },
            "type": "scattergl"
           }
          ],
          "scattermapbox": [
           {
            "marker": {
             "colorbar": {
              "outlinewidth": 1,
              "tickcolor": "rgb(36,36,36)",
              "ticks": "outside"
             }
            },
            "type": "scattermapbox"
           }
          ],
          "scatterpolar": [
           {
            "marker": {
             "colorbar": {
              "outlinewidth": 1,
              "tickcolor": "rgb(36,36,36)",
              "ticks": "outside"
             }
            },
            "type": "scatterpolar"
           }
          ],
          "scatterpolargl": [
           {
            "marker": {
             "colorbar": {
              "outlinewidth": 1,
              "tickcolor": "rgb(36,36,36)",
              "ticks": "outside"
             }
            },
            "type": "scatterpolargl"
           }
          ],
          "scatterternary": [
           {
            "marker": {
             "colorbar": {
              "outlinewidth": 1,
              "tickcolor": "rgb(36,36,36)",
              "ticks": "outside"
             }
            },
            "type": "scatterternary"
           }
          ],
          "surface": [
           {
            "colorbar": {
             "outlinewidth": 1,
             "tickcolor": "rgb(36,36,36)",
             "ticks": "outside"
            },
            "colorscale": [
             [
              0,
              "#440154"
             ],
             [
              0.1111111111111111,
              "#482878"
             ],
             [
              0.2222222222222222,
              "#3e4989"
             ],
             [
              0.3333333333333333,
              "#31688e"
             ],
             [
              0.4444444444444444,
              "#26828e"
             ],
             [
              0.5555555555555556,
              "#1f9e89"
             ],
             [
              0.6666666666666666,
              "#35b779"
             ],
             [
              0.7777777777777778,
              "#6ece58"
             ],
             [
              0.8888888888888888,
              "#b5de2b"
             ],
             [
              1,
              "#fde725"
             ]
            ],
            "type": "surface"
           }
          ],
          "table": [
           {
            "cells": {
             "fill": {
              "color": "rgb(237,237,237)"
             },
             "line": {
              "color": "white"
             }
            },
            "header": {
             "fill": {
              "color": "rgb(217,217,217)"
             },
             "line": {
              "color": "white"
             }
            },
            "type": "table"
           }
          ]
         },
         "layout": {
          "annotationdefaults": {
           "arrowhead": 0,
           "arrowwidth": 1
          },
          "autosize": true,
          "autotypenumbers": "strict",
          "coloraxis": {
           "colorbar": {
            "outlinewidth": 1,
            "tickcolor": "rgb(36,36,36)",
            "ticks": "outside"
           }
          },
          "colorscale": {
           "diverging": [
            [
             0,
             "rgb(103,0,31)"
            ],
            [
             0.1,
             "rgb(178,24,43)"
            ],
            [
             0.2,
             "rgb(214,96,77)"
            ],
            [
             0.3,
             "rgb(244,165,130)"
            ],
            [
             0.4,
             "rgb(253,219,199)"
            ],
            [
             0.5,
             "rgb(247,247,247)"
            ],
            [
             0.6,
             "rgb(209,229,240)"
            ],
            [
             0.7,
             "rgb(146,197,222)"
            ],
            [
             0.8,
             "rgb(67,147,195)"
            ],
            [
             0.9,
             "rgb(33,102,172)"
            ],
            [
             1,
             "rgb(5,48,97)"
            ]
           ],
           "sequential": [
            [
             0,
             "#440154"
            ],
            [
             0.1111111111111111,
             "#482878"
            ],
            [
             0.2222222222222222,
             "#3e4989"
            ],
            [
             0.3333333333333333,
             "#31688e"
            ],
            [
             0.4444444444444444,
             "#26828e"
            ],
            [
             0.5555555555555556,
             "#1f9e89"
            ],
            [
             0.6666666666666666,
             "#35b779"
            ],
            [
             0.7777777777777778,
             "#6ece58"
            ],
            [
             0.8888888888888888,
             "#b5de2b"
            ],
            [
             1,
             "#fde725"
            ]
           ],
           "sequentialminus": [
            [
             0,
             "#440154"
            ],
            [
             0.1111111111111111,
             "#482878"
            ],
            [
             0.2222222222222222,
             "#3e4989"
            ],
            [
             0.3333333333333333,
             "#31688e"
            ],
            [
             0.4444444444444444,
             "#26828e"
            ],
            [
             0.5555555555555556,
             "#1f9e89"
            ],
            [
             0.6666666666666666,
             "#35b779"
            ],
            [
             0.7777777777777778,
             "#6ece58"
            ],
            [
             0.8888888888888888,
             "#b5de2b"
            ],
            [
             1,
             "#fde725"
            ]
           ]
          },
          "colorway": [
           "#1F77B4",
           "#FF7F0E",
           "#2CA02C",
           "#D62728",
           "#9467BD",
           "#8C564B",
           "#E377C2",
           "#7F7F7F",
           "#BCBD22",
           "#17BECF"
          ],
          "font": {
           "color": "rgb(36,36,36)"
          },
          "geo": {
           "bgcolor": "white",
           "lakecolor": "white",
           "landcolor": "white",
           "showlakes": true,
           "showland": true,
           "subunitcolor": "white"
          },
          "height": 250,
          "hoverlabel": {
           "align": "left"
          },
          "hovermode": "closest",
          "mapbox": {
           "style": "light"
          },
          "margin": {
           "b": 10,
           "l": 10,
           "r": 10,
           "t": 10
          },
          "paper_bgcolor": "white",
          "plot_bgcolor": "white",
          "polar": {
           "angularaxis": {
            "gridcolor": "rgb(232,232,232)",
            "linecolor": "rgb(36,36,36)",
            "showgrid": false,
            "showline": true,
            "ticks": "outside"
           },
           "bgcolor": "white",
           "radialaxis": {
            "gridcolor": "rgb(232,232,232)",
            "linecolor": "rgb(36,36,36)",
            "showgrid": false,
            "showline": true,
            "ticks": "outside"
           }
          },
          "scene": {
           "xaxis": {
            "backgroundcolor": "white",
            "gridcolor": "rgb(232,232,232)",
            "gridwidth": 2,
            "linecolor": "rgb(36,36,36)",
            "showbackground": true,
            "showgrid": false,
            "showline": true,
            "ticks": "outside",
            "zeroline": false,
            "zerolinecolor": "rgb(36,36,36)"
           },
           "yaxis": {
            "backgroundcolor": "white",
            "gridcolor": "rgb(232,232,232)",
            "gridwidth": 2,
            "linecolor": "rgb(36,36,36)",
            "showbackground": true,
            "showgrid": false,
            "showline": true,
            "ticks": "outside",
            "zeroline": false,
            "zerolinecolor": "rgb(36,36,36)"
           },
           "zaxis": {
            "backgroundcolor": "white",
            "gridcolor": "rgb(232,232,232)",
            "gridwidth": 2,
            "linecolor": "rgb(36,36,36)",
            "showbackground": true,
            "showgrid": false,
            "showline": true,
            "ticks": "outside",
            "zeroline": false,
            "zerolinecolor": "rgb(36,36,36)"
           }
          },
          "shapedefaults": {
           "fillcolor": "black",
           "line": {
            "width": 0
           },
           "opacity": 0.3
          },
          "ternary": {
           "aaxis": {
            "gridcolor": "rgb(232,232,232)",
            "linecolor": "rgb(36,36,36)",
            "showgrid": false,
            "showline": true,
            "ticks": "outside"
           },
           "baxis": {
            "gridcolor": "rgb(232,232,232)",
            "linecolor": "rgb(36,36,36)",
            "showgrid": false,
            "showline": true,
            "ticks": "outside"
           },
           "bgcolor": "white",
           "caxis": {
            "gridcolor": "rgb(232,232,232)",
            "linecolor": "rgb(36,36,36)",
            "showgrid": false,
            "showline": true,
            "ticks": "outside"
           }
          },
          "title": {
           "x": 0.5,
           "xanchor": "center"
          },
          "width": 350,
          "xaxis": {
           "automargin": true,
           "gridcolor": "rgb(232,232,232)",
           "linecolor": "rgb(36,36,36)",
           "showgrid": true,
           "showline": true,
           "ticks": "outside",
           "title": {
            "standoff": 15
           },
           "zeroline": false,
           "zerolinecolor": "rgb(36,36,36)"
          },
          "yaxis": {
           "automargin": true,
           "gridcolor": "rgb(232,232,232)",
           "linecolor": "rgb(36,36,36)",
           "showgrid": true,
           "showline": true,
           "ticks": "outside",
           "title": {
            "standoff": 15
           },
           "zeroline": false,
           "zerolinecolor": "rgb(36,36,36)"
          }
         }
        },
        "width": 550,
        "xaxis": {
         "autorange": true,
         "range": [
          1.0230415599971625,
          38.44203482889176
         ],
         "type": "linear"
        },
        "xaxis2": {
         "autorange": true,
         "range": [
          1.3844597632249367,
          19.61554023677506
         ],
         "type": "linear"
        },
        "xaxis3": {
         "autorange": true,
         "range": [
          39.69634246790427,
          80.84111503480013
         ],
         "type": "linear"
        },
        "yaxis": {
         "autorange": true,
         "range": [
          1.0230415599971625,
          38.44203482889176
         ],
         "type": "linear"
        },
        "yaxis2": {
         "autorange": true,
         "range": [
          1.3844597632249367,
          19.61554023677506
         ],
         "type": "linear"
        },
        "yaxis3": {
         "autorange": true,
         "range": [
          39.69634246790427,
          80.84111503480013
         ],
         "type": "linear"
        }
       }
      },
      "image/png": "[encoded data removed]",
      "image/svg+xml": [
       "<svg class=\"main-svg\" xmlns=\"http://www.w3.org/2000/svg\" xmlns:xlink=\"http://www.w3.org/1999/xlink\" width=\"550\" height=\"350\" style=\"\" viewBox=\"0 0 550 350\"><rect x=\"0\" y=\"0\" width=\"550\" height=\"350\" style=\"fill: rgb(255, 255, 255); fill-opacity: 1;\"/><defs id=\"defs-321fe7\"><g class=\"clips\"><clipPath id=\"clip321fe7xy2plot\" class=\"plotclip\"><rect width=\"148.6551724137931\" height=\"84.72413793103448\"/></clipPath><clipPath id=\"clip321fe7xy3plot\" class=\"plotclip\"><rect width=\"148.6551724137931\" height=\"84.72413793103449\"/></clipPath><clipPath id=\"clip321fe7x2yplot\" class=\"plotclip\"><rect width=\"148.65517241379308\" height=\"84.72413793103448\"/></clipPath><clipPath id=\"clip321fe7x2y3plot\" class=\"plotclip\"><rect width=\"148.65517241379308\" height=\"84.72413793103449\"/></clipPath><clipPath id=\"clip321fe7x3yplot\" class=\"plotclip\"><rect width=\"148.65517241379308\" height=\"84.72413793103448\"/></clipPath><clipPath id=\"clip321fe7x3y2plot\" class=\"plotclip\"><rect width=\"148.65517241379308\" height=\"84.72413793103448\"/></clipPath><clipPath class=\"axesclip\" id=\"clip321fe7x\"><rect x=\"56\" y=\"0\" width=\"148.6551724137931\" height=\"350\"/></clipPath><clipPath class=\"axesclip\" id=\"clip321fe7y\"><rect x=\"0\" y=\"18\" width=\"550\" height=\"84.72413793103448\"/></clipPath><clipPath class=\"axesclip\" id=\"clip321fe7xy\"><rect x=\"56\" y=\"18\" width=\"148.6551724137931\" height=\"84.72413793103448\"/></clipPath><clipPath class=\"axesclip\" id=\"clip321fe7y2\"><rect x=\"0\" y=\"112.13793103448276\" width=\"550\" height=\"84.72413793103448\"/></clipPath><clipPath class=\"axesclip\" id=\"clip321fe7xy2\"><rect x=\"56\" y=\"112.13793103448276\" width=\"148.6551724137931\" height=\"84.72413793103448\"/></clipPath><clipPath class=\"axesclip\" id=\"clip321fe7y3\"><rect x=\"0\" y=\"206.27586206896552\" width=\"550\" height=\"84.72413793103449\"/></clipPath><clipPath class=\"axesclip\" id=\"clip321fe7xy3\"><rect x=\"56\" y=\"206.27586206896552\" width=\"148.6551724137931\" height=\"84.72413793103449\"/></clipPath><clipPath class=\"axesclip\" id=\"clip321fe7x2\"><rect x=\"221.17241379310346\" y=\"0\" width=\"148.65517241379308\" height=\"350\"/></clipPath><clipPath class=\"axesclip\" id=\"clip321fe7x2y\"><rect x=\"221.17241379310346\" y=\"18\" width=\"148.65517241379308\" height=\"84.72413793103448\"/></clipPath><clipPath class=\"axesclip\" id=\"clip321fe7x2y2\"><rect x=\"221.17241379310346\" y=\"112.13793103448276\" width=\"148.65517241379308\" height=\"84.72413793103448\"/></clipPath><clipPath class=\"axesclip\" id=\"clip321fe7x2y3\"><rect x=\"221.17241379310346\" y=\"206.27586206896552\" width=\"148.65517241379308\" height=\"84.72413793103449\"/></clipPath><clipPath class=\"axesclip\" id=\"clip321fe7x3\"><rect x=\"386.3448275862069\" y=\"0\" width=\"148.65517241379308\" height=\"350\"/></clipPath><clipPath class=\"axesclip\" id=\"clip321fe7x3y\"><rect x=\"386.3448275862069\" y=\"18\" width=\"148.65517241379308\" height=\"84.72413793103448\"/></clipPath><clipPath class=\"axesclip\" id=\"clip321fe7x3y2\"><rect x=\"386.3448275862069\" y=\"112.13793103448276\" width=\"148.65517241379308\" height=\"84.72413793103448\"/></clipPath><clipPath class=\"axesclip\" id=\"clip321fe7x3y3\"><rect x=\"386.3448275862069\" y=\"206.27586206896552\" width=\"148.65517241379308\" height=\"84.72413793103449\"/></clipPath></g><g class=\"gradients\"/><g class=\"patterns\"/></defs><g class=\"bglayer\"/><g class=\"layer-below\"><g class=\"imagelayer\"/><g class=\"shapelayer\"/></g><g class=\"cartesianlayer\"><g class=\"subplot xy2\"><g class=\"layer-subplot\"><g class=\"shapelayer\"/><g class=\"imagelayer\"/></g><g class=\"gridlayer\"><g class=\"x\"><path class=\"xgrid crisp\" transform=\"translate(90.95,0)\" d=\"M0,112.13793103448276v84.72413793103448\" style=\"stroke: rgb(232, 232, 232); stroke-opacity: 1; stroke-width: 1px;\"/><path class=\"xgrid crisp\" transform=\"translate(131.41,0)\" d=\"M0,112.13793103448276v84.72413793103448\" style=\"stroke: rgb(232, 232, 232); stroke-opacity: 1; stroke-width: 1px;\"/><path class=\"xgrid crisp\" transform=\"translate(171.87,0)\" d=\"M0,112.13793103448276v84.72413793103448\" style=\"stroke: rgb(232, 232, 232); stroke-opacity: 1; stroke-width: 1px;\"/></g><g class=\"y2\"><path class=\"y2grid crisp\" transform=\"translate(0,180.52793103448278)\" d=\"M56,0h148.6551724137931\" style=\"stroke: rgb(232, 232, 232); stroke-opacity: 1; stroke-width: 1px;\"/><path class=\"y2grid crisp\" transform=\"translate(0,156.86793103448275)\" d=\"M56,0h148.6551724137931\" style=\"stroke: rgb(232, 232, 232); stroke-opacity: 1; stroke-width: 1px;\"/><path class=\"y2grid crisp\" transform=\"translate(0,133.19793103448276)\" d=\"M56,0h148.6551724137931\" style=\"stroke: rgb(232, 232, 232); stroke-opacity: 1; stroke-width: 1px;\"/></g></g><g class=\"zerolinelayer\"/><path class=\"xlines-below\"/><path class=\"ylines-below\"/><g class=\"overlines-below\"/><g class=\"xaxislayer-below\"/><g class=\"yaxislayer-below\"/><g class=\"overaxes-below\"/><g class=\"plot\" transform=\"translate(56,112.13793103448276)\" clip-path=\"url(#clip321fe7xy2plot)\"/><g class=\"overplot\"/><path class=\"xlines-above crisp\" d=\"M56,291.5h148.6551724137931\" style=\"fill: none; stroke-width: 1px; stroke: rgb(36, 36, 36); stroke-opacity: 1;\"/><path class=\"ylines-above crisp\" d=\"M56.5,112.13793103448276v84.72413793103448\" style=\"fill: none; stroke-width: 1px; stroke: rgb(36, 36, 36); stroke-opacity: 1;\"/><g class=\"overlines-above\"/><g class=\"xaxislayer-above\"><path class=\"xtick ticks crisp\" d=\"M0,292v5\" transform=\"translate(90.95,0)\" style=\"stroke: rgb(68, 68, 68); stroke-opacity: 1; stroke-width: 1px;\"/><path class=\"xtick ticks crisp\" d=\"M0,292v5\" transform=\"translate(131.41,0)\" style=\"stroke: rgb(68, 68, 68); stroke-opacity: 1; stroke-width: 1px;\"/><path class=\"xtick ticks crisp\" d=\"M0,292v5\" transform=\"translate(171.87,0)\" style=\"stroke: rgb(68, 68, 68); stroke-opacity: 1; stroke-width: 1px;\"/><g class=\"xtick\"><text text-anchor=\"middle\" x=\"0\" y=\"311.4\" transform=\"translate(90.95,0)\" style=\"font-family: 'Open Sans', verdana, arial, sans-serif; font-size: 12px; fill: rgb(36, 36, 36); fill-opacity: 1; white-space: pre; opacity: 1;\">10</text></g><g class=\"xtick\"><text text-anchor=\"middle\" x=\"0\" y=\"311.4\" style=\"font-family: 'Open Sans', verdana, arial, sans-serif; font-size: 12px; fill: rgb(36, 36, 36); fill-opacity: 1; white-space: pre; opacity: 1;\" transform=\"translate(131.41,0)\">20</text></g><g class=\"xtick\"><text text-anchor=\"middle\" x=\"0\" y=\"311.4\" style=\"font-family: 'Open Sans', verdana, arial, sans-serif; font-size: 12px; fill: rgb(36, 36, 36); fill-opacity: 1; white-space: pre; opacity: 1;\" transform=\"translate(171.87,0)\">30</text></g></g><g class=\"yaxislayer-above\"><path class=\"y2tick ticks crisp\" d=\"M56,0h-5\" transform=\"translate(0,180.52793103448278)\" style=\"stroke: rgb(68, 68, 68); stroke-opacity: 1; stroke-width: 1px;\"/><path class=\"y2tick ticks crisp\" d=\"M56,0h-5\" transform=\"translate(0,156.86793103448275)\" style=\"stroke: rgb(68, 68, 68); stroke-opacity: 1; stroke-width: 1px;\"/><path class=\"y2tick ticks crisp\" d=\"M56,0h-5\" transform=\"translate(0,133.19793103448276)\" style=\"stroke: rgb(68, 68, 68); stroke-opacity: 1; stroke-width: 1px;\"/><g class=\"y2tick\"><text text-anchor=\"end\" x=\"48.6\" y=\"4.199999999999999\" transform=\"translate(0,180.52793103448278)\" style=\"font-family: 'Open Sans', verdana, arial, sans-serif; font-size: 12px; fill: rgb(36, 36, 36); fill-opacity: 1; white-space: pre; opacity: 1;\">5</text></g><g class=\"y2tick\"><text text-anchor=\"end\" x=\"48.6\" y=\"4.199999999999999\" style=\"font-family: 'Open Sans', verdana, arial, sans-serif; font-size: 12px; fill: rgb(36, 36, 36); fill-opacity: 1; white-space: pre; opacity: 1;\" transform=\"translate(0,156.86793103448275)\">10</text></g><g class=\"y2tick\"><text text-anchor=\"end\" x=\"48.6\" y=\"4.199999999999999\" style=\"font-family: 'Open Sans', verdana, arial, sans-serif; font-size: 12px; fill: rgb(36, 36, 36); fill-opacity: 1; white-space: pre; opacity: 1;\" transform=\"translate(0,133.19793103448276)\">15</text></g></g><g class=\"overaxes-above\"/></g><g class=\"subplot xy3\"><g class=\"layer-subplot\"><g class=\"shapelayer\"/><g class=\"imagelayer\"/></g><g class=\"gridlayer\"><g class=\"x\"><path class=\"xgrid crisp\" transform=\"translate(90.95,0)\" d=\"M0,206.27586206896552v84.72413793103449\" style=\"stroke: rgb(232, 232, 232); stroke-opacity: 1; stroke-width: 1px;\"/><path class=\"xgrid crisp\" transform=\"translate(131.41,0)\" d=\"M0,206.27586206896552v84.72413793103449\" style=\"stroke: rgb(232, 232, 232); stroke-opacity: 1; stroke-width: 1px;\"/><path class=\"xgrid crisp\" transform=\"translate(171.87,0)\" d=\"M0,206.27586206896552v84.72413793103449\" style=\"stroke: rgb(232, 232, 232); stroke-opacity: 1; stroke-width: 1px;\"/></g><g class=\"y3\"><path class=\"y3grid crisp\" transform=\"translate(0,270.1758620689655)\" d=\"M56,0h148.6551724137931\" style=\"stroke: rgb(232, 232, 232); stroke-opacity: 1; stroke-width: 1px;\"/><path class=\"y3grid crisp\" transform=\"translate(0,249.20586206896553)\" d=\"M56,0h148.6551724137931\" style=\"stroke: rgb(232, 232, 232); stroke-opacity: 1; stroke-width: 1px;\"/><path class=\"y3grid crisp\" transform=\"translate(0,228.2258620689655)\" d=\"M56,0h148.6551724137931\" style=\"stroke: rgb(232, 232, 232); stroke-opacity: 1; stroke-width: 1px;\"/></g></g><g class=\"zerolinelayer\"/><path class=\"xlines-below\"/><path class=\"ylines-below\"/><g class=\"overlines-below\"/><g class=\"xaxislayer-below\"/><g class=\"yaxislayer-below\"/><g class=\"overaxes-below\"/><g class=\"plot\" transform=\"translate(56,206.27586206896552)\" clip-path=\"url(#clip321fe7xy3plot)\"/><g class=\"overplot\"/><path class=\"xlines-above crisp\" d=\"M0,0\" style=\"fill: none;\"/><path class=\"ylines-above crisp\" d=\"M56.5,206.27586206896552v84.72413793103449\" style=\"fill: none; stroke-width: 1px; stroke: rgb(36, 36, 36); stroke-opacity: 1;\"/><g class=\"overlines-above\"/><g class=\"xaxislayer-above\"/><g class=\"yaxislayer-above\"><path class=\"y3tick ticks crisp\" d=\"M56,0h-5\" transform=\"translate(0,270.1758620689655)\" style=\"stroke: rgb(68, 68, 68); stroke-opacity: 1; stroke-width: 1px;\"/><path class=\"y3tick ticks crisp\" d=\"M56,0h-5\" transform=\"translate(0,249.20586206896553)\" style=\"stroke: rgb(68, 68, 68); stroke-opacity: 1; stroke-width: 1px;\"/><path class=\"y3tick ticks crisp\" d=\"M56,0h-5\" transform=\"translate(0,228.2258620689655)\" style=\"stroke: rgb(68, 68, 68); stroke-opacity: 1; stroke-width: 1px;\"/><path class=\"y3tick ticks crisp\" d=\"M56,0h-5\" transform=\"translate(0,207.2558620689655)\" style=\"stroke: rgb(68, 68, 68); stroke-opacity: 1; stroke-width: 1px;\"/><g class=\"y3tick\"><text text-anchor=\"end\" x=\"48.6\" y=\"4.199999999999999\" transform=\"translate(0,270.1758620689655)\" style=\"font-family: 'Open Sans', verdana, arial, sans-serif; font-size: 12px; fill: rgb(36, 36, 36); fill-opacity: 1; white-space: pre; opacity: 1;\">50</text></g><g class=\"y3tick\"><text text-anchor=\"end\" x=\"48.6\" y=\"4.199999999999999\" style=\"font-family: 'Open Sans', verdana, arial, sans-serif; font-size: 12px; fill: rgb(36, 36, 36); fill-opacity: 1; white-space: pre; opacity: 1;\" transform=\"translate(0,249.20586206896553)\">60</text></g><g class=\"y3tick\"><text text-anchor=\"end\" x=\"48.6\" y=\"4.199999999999999\" style=\"font-family: 'Open Sans', verdana, arial, sans-serif; font-size: 12px; fill: rgb(36, 36, 36); fill-opacity: 1; white-space: pre; opacity: 1;\" transform=\"translate(0,228.2258620689655)\">70</text></g><g class=\"y3tick\"><text text-anchor=\"end\" x=\"48.6\" y=\"4.199999999999999\" style=\"font-family: 'Open Sans', verdana, arial, sans-serif; font-size: 12px; fill: rgb(36, 36, 36); fill-opacity: 1; white-space: pre; opacity: 1;\" transform=\"translate(0,207.2558620689655)\">80</text></g></g><g class=\"overaxes-above\"/></g><g class=\"subplot x2y\"><g class=\"layer-subplot\"><g class=\"shapelayer\"/><g class=\"imagelayer\"/></g><g class=\"gridlayer\"><g class=\"x2\"><path class=\"x2grid crisp\" transform=\"translate(249.82241379310346,0)\" d=\"M0,18v84.72413793103448\" style=\"stroke: rgb(232, 232, 232); stroke-opacity: 1; stroke-width: 1px;\"/><path class=\"x2grid crisp\" transform=\"translate(291.35241379310344,0)\" d=\"M0,18v84.72413793103448\" style=\"stroke: rgb(232, 232, 232); stroke-opacity: 1; stroke-width: 1px;\"/><path class=\"x2grid crisp\" transform=\"translate(332.8724137931035,0)\" d=\"M0,18v84.72413793103448\" style=\"stroke: rgb(232, 232, 232); stroke-opacity: 1; stroke-width: 1px;\"/></g><g class=\"y\"><path class=\"ygrid crisp\" transform=\"translate(0,82.8)\" d=\"M221.17241379310346,0h148.65517241379308\" style=\"stroke: rgb(232, 232, 232); stroke-opacity: 1; stroke-width: 1px;\"/><path class=\"ygrid crisp\" transform=\"translate(0,59.75)\" d=\"M221.17241379310346,0h148.65517241379308\" style=\"stroke: rgb(232, 232, 232); stroke-opacity: 1; stroke-width: 1px;\"/><path class=\"ygrid crisp\" transform=\"translate(0,36.69)\" d=\"M221.17241379310346,0h148.65517241379308\" style=\"stroke: rgb(232, 232, 232); stroke-opacity: 1; stroke-width: 1px;\"/></g></g><g class=\"zerolinelayer\"/><path class=\"xlines-below\"/><path class=\"ylines-below\"/><g class=\"overlines-below\"/><g class=\"xaxislayer-below\"/><g class=\"yaxislayer-below\"/><g class=\"overaxes-below\"/><g class=\"plot\" transform=\"translate(221.17241379310346,18)\" clip-path=\"url(#clip321fe7x2yplot)\"/><g class=\"overplot\"/><path class=\"xlines-above crisp\" d=\"M221.17241379310346,291.5h148.65517241379308\" style=\"fill: none; stroke-width: 1px; stroke: rgb(36, 36, 36); stroke-opacity: 1;\"/><path class=\"ylines-above crisp\" d=\"M56.5,18v84.72413793103448\" style=\"fill: none; stroke-width: 1px; stroke: rgb(36, 36, 36); stroke-opacity: 1;\"/><g class=\"overlines-above\"/><g class=\"xaxislayer-above\"><path class=\"x2tick ticks crisp\" d=\"M0,292v5\" transform=\"translate(249.82241379310346,0)\" style=\"stroke: rgb(68, 68, 68); stroke-opacity: 1; stroke-width: 1px;\"/><path class=\"x2tick ticks crisp\" d=\"M0,292v5\" transform=\"translate(291.35241379310344,0)\" style=\"stroke: rgb(68, 68, 68); stroke-opacity: 1; stroke-width: 1px;\"/><path class=\"x2tick ticks crisp\" d=\"M0,292v5\" transform=\"translate(332.8724137931035,0)\" style=\"stroke: rgb(68, 68, 68); stroke-opacity: 1; stroke-width: 1px;\"/><g class=\"x2tick\"><text text-anchor=\"middle\" x=\"0\" y=\"311.4\" transform=\"translate(249.82241379310346,0)\" style=\"font-family: 'Open Sans', verdana, arial, sans-serif; font-size: 12px; fill: rgb(36, 36, 36); fill-opacity: 1; white-space: pre; opacity: 1;\">5</text></g><g class=\"x2tick\"><text text-anchor=\"middle\" x=\"0\" y=\"311.4\" style=\"font-family: 'Open Sans', verdana, arial, sans-serif; font-size: 12px; fill: rgb(36, 36, 36); fill-opacity: 1; white-space: pre; opacity: 1;\" transform=\"translate(291.35241379310344,0)\">10</text></g><g class=\"x2tick\"><text text-anchor=\"middle\" x=\"0\" y=\"311.4\" style=\"font-family: 'Open Sans', verdana, arial, sans-serif; font-size: 12px; fill: rgb(36, 36, 36); fill-opacity: 1; white-space: pre; opacity: 1;\" transform=\"translate(332.8724137931035,0)\">15</text></g></g><g class=\"yaxislayer-above\"><path class=\"ytick ticks crisp\" d=\"M56,0h-5\" transform=\"translate(0,82.8)\" style=\"stroke: rgb(68, 68, 68); stroke-opacity: 1; stroke-width: 1px;\"/><path class=\"ytick ticks crisp\" d=\"M56,0h-5\" transform=\"translate(0,59.75)\" style=\"stroke: rgb(68, 68, 68); stroke-opacity: 1; stroke-width: 1px;\"/><path class=\"ytick ticks crisp\" d=\"M56,0h-5\" transform=\"translate(0,36.69)\" style=\"stroke: rgb(68, 68, 68); stroke-opacity: 1; stroke-width: 1px;\"/><g class=\"ytick\"><text text-anchor=\"end\" x=\"48.6\" y=\"4.199999999999999\" transform=\"translate(0,82.8)\" style=\"font-family: 'Open Sans', verdana, arial, sans-serif; font-size: 12px; fill: rgb(36, 36, 36); fill-opacity: 1; white-space: pre; opacity: 1;\">10</text></g><g class=\"ytick\"><text text-anchor=\"end\" x=\"48.6\" y=\"4.199999999999999\" style=\"font-family: 'Open Sans', verdana, arial, sans-serif; font-size: 12px; fill: rgb(36, 36, 36); fill-opacity: 1; white-space: pre; opacity: 1;\" transform=\"translate(0,59.75)\">20</text></g><g class=\"ytick\"><text text-anchor=\"end\" x=\"48.6\" y=\"4.199999999999999\" style=\"font-family: 'Open Sans', verdana, arial, sans-serif; font-size: 12px; fill: rgb(36, 36, 36); fill-opacity: 1; white-space: pre; opacity: 1;\" transform=\"translate(0,36.69)\">30</text></g></g><g class=\"overaxes-above\"/></g><g class=\"subplot x2y3\"><g class=\"layer-subplot\"><g class=\"shapelayer\"/><g class=\"imagelayer\"/></g><g class=\"gridlayer\"><g class=\"x2\"><path class=\"x2grid crisp\" transform=\"translate(249.82241379310346,0)\" d=\"M0,206.27586206896552v84.72413793103449\" style=\"stroke: rgb(232, 232, 232); stroke-opacity: 1; stroke-width: 1px;\"/><path class=\"x2grid crisp\" transform=\"translate(291.35241379310344,0)\" d=\"M0,206.27586206896552v84.72413793103449\" style=\"stroke: rgb(232, 232, 232); stroke-opacity: 1; stroke-width: 1px;\"/><path class=\"x2grid crisp\" transform=\"translate(332.8724137931035,0)\" d=\"M0,206.27586206896552v84.72413793103449\" style=\"stroke: rgb(232, 232, 232); stroke-opacity: 1; stroke-width: 1px;\"/></g><g class=\"y3\"><path class=\"y3grid crisp\" transform=\"translate(0,270.1758620689655)\" d=\"M221.17241379310346,0h148.65517241379308\" style=\"stroke: rgb(232, 232, 232); stroke-opacity: 1; stroke-width: 1px;\"/><path class=\"y3grid crisp\" transform=\"translate(0,249.20586206896553)\" d=\"M221.17241379310346,0h148.65517241379308\" style=\"stroke: rgb(232, 232, 232); stroke-opacity: 1; stroke-width: 1px;\"/><path class=\"y3grid crisp\" transform=\"translate(0,228.2258620689655)\" d=\"M221.17241379310346,0h148.65517241379308\" style=\"stroke: rgb(232, 232, 232); stroke-opacity: 1; stroke-width: 1px;\"/></g></g><g class=\"zerolinelayer\"/><path class=\"xlines-below\"/><path class=\"ylines-below\"/><g class=\"overlines-below\"/><g class=\"xaxislayer-below\"/><g class=\"yaxislayer-below\"/><g class=\"overaxes-below\"/><g class=\"plot\" transform=\"translate(221.17241379310346,206.27586206896552)\" clip-path=\"url(#clip321fe7x2y3plot)\"/><g class=\"overplot\"/><path class=\"xlines-above crisp\" d=\"M0,0\" style=\"fill: none;\"/><path class=\"ylines-above crisp\" d=\"M0,0\" style=\"fill: none;\"/><g class=\"overlines-above\"/><g class=\"xaxislayer-above\"/><g class=\"yaxislayer-above\"/><g class=\"overaxes-above\"/></g><g class=\"subplot x3y\"><g class=\"layer-subplot\"><g class=\"shapelayer\"/><g class=\"imagelayer\"/></g><g class=\"gridlayer\"><g class=\"x3\"><path class=\"x3grid crisp\" transform=\"translate(422.88482758620694,0)\" d=\"M0,18v84.72413793103448\" style=\"stroke: rgb(232, 232, 232); stroke-opacity: 1; stroke-width: 1px;\"/><path class=\"x3grid crisp\" transform=\"translate(459.6848275862069,0)\" d=\"M0,18v84.72413793103448\" style=\"stroke: rgb(232, 232, 232); stroke-opacity: 1; stroke-width: 1px;\"/><path class=\"x3grid crisp\" transform=\"translate(496.4748275862069,0)\" d=\"M0,18v84.72413793103448\" style=\"stroke: rgb(232, 232, 232); stroke-opacity: 1; stroke-width: 1px;\"/><path class=\"x3grid crisp\" transform=\"translate(533.2748275862069,0)\" d=\"M0,18v84.72413793103448\" style=\"stroke: rgb(232, 232, 232); stroke-opacity: 1; stroke-width: 1px;\"/></g><g class=\"y\"><path class=\"ygrid crisp\" transform=\"translate(0,82.8)\" d=\"M386.3448275862069,0h148.65517241379308\" style=\"stroke: rgb(232, 232, 232); stroke-opacity: 1; stroke-width: 1px;\"/><path class=\"ygrid crisp\" transform=\"translate(0,59.75)\" d=\"M386.3448275862069,0h148.65517241379308\" style=\"stroke: rgb(232, 232, 232); stroke-opacity: 1; stroke-width: 1px;\"/><path class=\"ygrid crisp\" transform=\"translate(0,36.69)\" d=\"M386.3448275862069,0h148.65517241379308\" style=\"stroke: rgb(232, 232, 232); stroke-opacity: 1; stroke-width: 1px;\"/></g></g><g class=\"zerolinelayer\"/><path class=\"xlines-below\"/><path class=\"ylines-below\"/><g class=\"overlines-below\"/><g class=\"xaxislayer-below\"/><g class=\"yaxislayer-below\"/><g class=\"overaxes-below\"/><g class=\"plot\" transform=\"translate(386.3448275862069,18)\" clip-path=\"url(#clip321fe7x3yplot)\"/><g class=\"overplot\"/><path class=\"xlines-above crisp\" d=\"M386.3448275862069,291.5h148.65517241379308\" style=\"fill: none; stroke-width: 1px; stroke: rgb(36, 36, 36); stroke-opacity: 1;\"/><path class=\"ylines-above crisp\" d=\"M0,0\" style=\"fill: none;\"/><g class=\"overlines-above\"/><g class=\"xaxislayer-above\"><path class=\"x3tick ticks crisp\" d=\"M0,292v5\" transform=\"translate(422.88482758620694,0)\" style=\"stroke: rgb(68, 68, 68); stroke-opacity: 1; stroke-width: 1px;\"/><path class=\"x3tick ticks crisp\" d=\"M0,292v5\" transform=\"translate(459.6848275862069,0)\" style=\"stroke: rgb(68, 68, 68); stroke-opacity: 1; stroke-width: 1px;\"/><path class=\"x3tick ticks crisp\" d=\"M0,292v5\" transform=\"translate(496.4748275862069,0)\" style=\"stroke: rgb(68, 68, 68); stroke-opacity: 1; stroke-width: 1px;\"/><path class=\"x3tick ticks crisp\" d=\"M0,292v5\" transform=\"translate(533.2748275862069,0)\" style=\"stroke: rgb(68, 68, 68); stroke-opacity: 1; stroke-width: 1px;\"/><g class=\"x3tick\"><text text-anchor=\"middle\" x=\"0\" y=\"311.4\" transform=\"translate(422.88482758620694,0)\" style=\"font-family: 'Open Sans', verdana, arial, sans-serif; font-size: 12px; fill: rgb(36, 36, 36); fill-opacity: 1; white-space: pre; opacity: 1;\">50</text></g><g class=\"x3tick\"><text text-anchor=\"middle\" x=\"0\" y=\"311.4\" style=\"font-family: 'Open Sans', verdana, arial, sans-serif; font-size: 12px; fill: rgb(36, 36, 36); fill-opacity: 1; white-space: pre; opacity: 1;\" transform=\"translate(459.6848275862069,0)\">60</text></g><g class=\"x3tick\"><text text-anchor=\"middle\" x=\"0\" y=\"311.4\" style=\"font-family: 'Open Sans', verdana, arial, sans-serif; font-size: 12px; fill: rgb(36, 36, 36); fill-opacity: 1; white-space: pre; opacity: 1;\" transform=\"translate(496.4748275862069,0)\">70</text></g><g class=\"x3tick\"><text text-anchor=\"middle\" x=\"0\" y=\"311.4\" style=\"font-family: 'Open Sans', verdana, arial, sans-serif; font-size: 12px; fill: rgb(36, 36, 36); fill-opacity: 1; white-space: pre; opacity: 1;\" transform=\"translate(533.2748275862069,0)\">80</text></g></g><g class=\"yaxislayer-above\"/><g class=\"overaxes-above\"/></g><g class=\"subplot x3y2\"><g class=\"layer-subplot\"><g class=\"shapelayer\"/><g class=\"imagelayer\"/></g><g class=\"gridlayer\"><g class=\"x3\"><path class=\"x3grid crisp\" transform=\"translate(422.88482758620694,0)\" d=\"M0,112.13793103448276v84.72413793103448\" style=\"stroke: rgb(232, 232, 232); stroke-opacity: 1; stroke-width: 1px;\"/><path class=\"x3grid crisp\" transform=\"translate(459.6848275862069,0)\" d=\"M0,112.13793103448276v84.72413793103448\" style=\"stroke: rgb(232, 232, 232); stroke-opacity: 1; stroke-width: 1px;\"/><path class=\"x3grid crisp\" transform=\"translate(496.4748275862069,0)\" d=\"M0,112.13793103448276v84.72413793103448\" style=\"stroke: rgb(232, 232, 232); stroke-opacity: 1; stroke-width: 1px;\"/><path class=\"x3grid crisp\" transform=\"translate(533.2748275862069,0)\" d=\"M0,112.13793103448276v84.72413793103448\" style=\"stroke: rgb(232, 232, 232); stroke-opacity: 1; stroke-width: 1px;\"/></g><g class=\"y2\"><path class=\"y2grid crisp\" transform=\"translate(0,180.52793103448278)\" d=\"M386.3448275862069,0h148.65517241379308\" style=\"stroke: rgb(232, 232, 232); stroke-opacity: 1; stroke-width: 1px;\"/><path class=\"y2grid crisp\" transform=\"translate(0,156.86793103448275)\" d=\"M386.3448275862069,0h148.65517241379308\" style=\"stroke: rgb(232, 232, 232); stroke-opacity: 1; stroke-width: 1px;\"/><path class=\"y2grid crisp\" transform=\"translate(0,133.19793103448276)\" d=\"M386.3448275862069,0h148.65517241379308\" style=\"stroke: rgb(232, 232, 232); stroke-opacity: 1; stroke-width: 1px;\"/></g></g><g class=\"zerolinelayer\"/><path class=\"xlines-below\"/><path class=\"ylines-below\"/><g class=\"overlines-below\"/><g class=\"xaxislayer-below\"/><g class=\"yaxislayer-below\"/><g class=\"overaxes-below\"/><g class=\"plot\" transform=\"translate(386.3448275862069,112.13793103448276)\" clip-path=\"url(#clip321fe7x3y2plot)\"/><g class=\"overplot\"/><path class=\"xlines-above crisp\" d=\"M0,0\" style=\"fill: none;\"/><path class=\"ylines-above crisp\" d=\"M0,0\" style=\"fill: none;\"/><g class=\"overlines-above\"/><g class=\"xaxislayer-above\"/><g class=\"yaxislayer-above\"/><g class=\"overaxes-above\"/></g></g><g class=\"polarlayer\"/><g class=\"smithlayer\"/><g class=\"ternarylayer\"/><g class=\"geolayer\"/><g class=\"funnelarealayer\"/><g class=\"pielayer\"/><g class=\"iciclelayer\"/><g class=\"treemaplayer\"/><g class=\"sunburstlayer\"/><g class=\"glimages\"><image xmlns=\"http://www.w3.org/2000/svg\" xlink:href=\"data:image/png;base64,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\" preserveAspectRatio=\"none\" x=\"0\" y=\"0\" width=\"550px\" height=\"350px\"/><image xmlns=\"http://www.w3.org/2000/svg\" xlink:href=\"data:image/png;base64,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\" preserveAspectRatio=\"none\" x=\"0\" y=\"0\" width=\"550px\" height=\"350px\"/></g><defs id=\"topdefs-321fe7\"><g class=\"clips\"/></defs><g class=\"layer-above\"><g class=\"imagelayer\"/><g class=\"shapelayer\"/></g><g class=\"infolayer\"><g class=\"g-gtitle\"/><g class=\"g-xtitle\"><text class=\"xtitle\" x=\"130.32758620689657\" y=\"339.70625\" text-anchor=\"middle\" style=\"font-family: 'Open Sans', verdana, arial, sans-serif; font-size: 14px; fill: rgb(36, 36, 36); opacity: 1; font-weight: normal; white-space: pre;\">pm25pa</text></g><g class=\"g-x2title\"><text class=\"x2title\" x=\"295.5\" y=\"339.70625\" text-anchor=\"middle\" style=\"font-family: 'Open Sans', verdana, arial, sans-serif; font-size: 14px; fill: rgb(36, 36, 36); opacity: 1; font-weight: normal; white-space: pre;\">pm25aqs</text></g><g class=\"g-x3title\"><text class=\"x3title\" x=\"460.6724137931035\" y=\"339.70625\" text-anchor=\"middle\" style=\"font-family: 'Open Sans', verdana, arial, sans-serif; font-size: 14px; fill: rgb(36, 36, 36); opacity: 1; font-weight: normal; white-space: pre;\">rh</text></g><g class=\"g-ytitle\" transform=\"translate(4.927734375,0)\"><text class=\"ytitle\" transform=\"rotate(-90,10.075000000000003,60.36206896551724)\" x=\"10.075000000000003\" y=\"60.36206896551724\" text-anchor=\"middle\" style=\"font-family: 'Open Sans', verdana, arial, sans-serif; font-size: 14px; fill: rgb(36, 36, 36); opacity: 1; font-weight: normal; white-space: pre;\">pm25pa</text></g><g class=\"g-y2title\" transform=\"translate(4.9248046875,0)\"><text class=\"y2title\" transform=\"rotate(-90,10.075000000000003,154.5)\" x=\"10.075000000000003\" y=\"154.5\" text-anchor=\"middle\" style=\"font-family: 'Open Sans', verdana, arial, sans-serif; font-size: 14px; fill: rgb(36, 36, 36); opacity: 1; font-weight: normal; white-space: pre;\">pm25aqs</text></g><g class=\"g-y3title\" transform=\"translate(4.9375,0)\"><text class=\"y3title\" transform=\"rotate(-90,10.075000000000003,248.63793103448276)\" x=\"10.075000000000003\" y=\"248.63793103448276\" text-anchor=\"middle\" style=\"font-family: 'Open Sans', verdana, arial, sans-serif; font-size: 14px; fill: rgb(36, 36, 36); opacity: 1; font-weight: normal; white-space: pre;\">rh</text></g></g></svg>"
      ]
     },
     "metadata": {},
     "output_type": "display_data"
    }
   ],
   "source": [
    "fig = px.scatter_matrix(GA[['pm25pa', 'pm25aqs', 'rh']],\n",
    "                 width=550, height=350)\n",
    "    \n",
    "fig.update_traces(diagonal_visible=False)\n",
    "fig.show()"
   ]
  },
  {
   "cell_type": "markdown",
   "metadata": {},
   "source": [
    "The relationship between humidity and air quality does not appear particularly strong. Another pairwise measure we should examine are the correlations between features. "
   ]
  },
  {
   "cell_type": "code",
   "execution_count": 12,
   "metadata": {},
   "outputs": [
    {
     "data": {
      "text/html": [
       "<div>\n",
       "<style scoped>\n",
       "    .dataframe tbody tr th:only-of-type {\n",
       "        vertical-align: middle;\n",
       "    }\n",
       "\n",
       "    .dataframe tbody tr th {\n",
       "        vertical-align: top;\n",
       "    }\n",
       "\n",
       "    .dataframe thead th {\n",
       "        text-align: right;\n",
       "    }\n",
       "</style>\n",
       "<table border=\"1\" class=\"dataframe\">\n",
       "  <thead>\n",
       "    <tr style=\"text-align: right;\">\n",
       "      <th></th>\n",
       "      <th>pm25pa</th>\n",
       "      <th>pm25aqs</th>\n",
       "      <th>rh</th>\n",
       "    </tr>\n",
       "  </thead>\n",
       "  <tbody>\n",
       "    <tr>\n",
       "      <th>pm25pa</th>\n",
       "      <td>1.00</td>\n",
       "      <td>0.95</td>\n",
       "      <td>-0.06</td>\n",
       "    </tr>\n",
       "    <tr>\n",
       "      <th>pm25aqs</th>\n",
       "      <td>0.95</td>\n",
       "      <td>1.00</td>\n",
       "      <td>-0.24</td>\n",
       "    </tr>\n",
       "    <tr>\n",
       "      <th>rh</th>\n",
       "      <td>-0.06</td>\n",
       "      <td>-0.24</td>\n",
       "      <td>1.00</td>\n",
       "    </tr>\n",
       "  </tbody>\n",
       "</table>\n",
       "</div>"
      ],
      "text/plain": [
       "         pm25pa  pm25aqs    rh\n",
       "pm25pa     1.00     0.95 -0.06\n",
       "pm25aqs    0.95     1.00 -0.24\n",
       "rh        -0.06    -0.24  1.00"
      ]
     },
     "execution_count": 12,
     "metadata": {},
     "output_type": "execute_result"
    }
   ],
   "source": [
    "GA[['pm25pa', 'pm25aqs', 'rh']].corr()"
   ]
  },
  {
   "cell_type": "markdown",
   "metadata": {},
   "source": [
    "One small surprise is that relative humidity has a small negative correlation with the AQS measurement of air quality. This suggests that humidity might be helpful in the model.\n",
    "\n",
    "\n",
    "In the next section, we derive the equation for the fit. But for now, we use the functionality in `LinearRegression`  to fit the model. The only change from earlier, is that we provide two columns for the explanatory variables (that's why the `x` input is a data frame)."
   ]
  },
  {
   "cell_type": "code",
   "execution_count": 8,
   "metadata": {},
   "outputs": [],
   "source": [
    "from sklearn.linear_model import LinearRegression\n",
    "\n",
    "y = GA['pm25pa']\n",
    "X2 = GA[['pm25aqs', 'rh']]\n",
    "\n",
    "model2 = LinearRegression().fit(X2, y)"
   ]
  },
  {
   "cell_type": "markdown",
   "metadata": {},
   "source": [
    "The coefficients of the multiple linear model, including their units, are:"
   ]
  },
  {
   "cell_type": "code",
   "execution_count": 14,
   "metadata": {},
   "outputs": [
    {
     "name": "stdout",
     "output_type": "stream",
     "text": [
      "Intercept: -15.8 ppm \n",
      "AQS coefficient: 2.25 ppm/ppm \n",
      "Humidity coefficient: 0.21 ppm/percent\n"
     ]
    }
   ],
   "source": [
    "print(f\"Intercept: {model2.intercept_:.1f} ppm\", \n",
    "      f\"\\nAQS coefficient: {model2.coef_[0]:.2f} ppm/ppm\",  \n",
    "      f\"\\nHumidity coefficient: {model2.coef_[1]:.2f} ppm/percent\")"
   ]
  },
  {
   "cell_type": "markdown",
   "metadata": {},
   "source": [
    "The coefficient for humidity in the model adjusts the air quality prediction by 0.21 ppm for each percentage point of relative humidity. Notice that the coefficient for AQS differs from the simple linear model that we fitted earlier. This happens because the coefficient reflects the additional information coming from relative humidity."
   ]
  },
  {
   "cell_type": "markdown",
   "metadata": {},
   "source": [
    "Lastly, to check the quality of the fit, we make residual plots of the predicted values and the errors. This time, we use `LinearRegression` to compute the predictions for us."
   ]
  },
  {
   "cell_type": "code",
   "execution_count": 9,
   "metadata": {},
   "outputs": [],
   "source": [
    "predicted_2var = model2.predict(X2)\n",
    "error_2var = y - predicted_2var"
   ]
  },
  {
   "cell_type": "code",
   "execution_count": 18,
   "metadata": {
    "tags": []
   },
   "outputs": [
    {
     "data": {
      "application/vnd.plotly.v1+json": {
       "config": {
        "plotlyServerURL": "https://plot.ly"
       },
       "data": [
        {
         "hovertemplate": "predicted values=%{x}<br>error=%{y}<extra></extra>",
         "legendgroup": "",
         "marker": {
          "color": "#1F77B4",
          "symbol": "circle"
         },
         "mode": "markers",
         "name": "",
         "orientation": "v",
         "showlegend": false,
         "type": "scatter",
         "x": [
          15.94368311947651,
          13.173022890519015,
          10.550479965187954,
          15.062678076601443,
          17.256710174459265,
          21.727712168705786,
          14.824205514001648,
          18.272578172934253,
          20.724200957214556,
          21.85194094355294,
          21.66594944512037,
          10.767796091922882,
          13.85380423170627,
          17.327345511325845,
          18.36674198663065,
          12.692479901527761,
          7.386338617428564,
          7.767486783057411,
          12.683799390869705,
          9.702512877226717,
          11.338937477770564,
          12.444206092704576,
          11.932594162244783,
          10.135503238157614,
          12.430940609212769,
          17.049578585224964,
          18.081643389476802,
          15.25346336236376,
          29.56544903556921,
          28.664735075057756,
          19.53657809323588,
          17.987927304984503,
          20.617575830583732,
          23.06598084606678,
          21.19054065597367,
          8.589010859261279,
          11.49596390253798,
          12.191466846193915,
          11.35235464131959,
          13.788857933201925,
          15.968782141051989,
          18.295332194539462,
          19.87333360887169,
          27.27318693275197,
          22.689495650719962,
          24.467376613738686,
          30.97392708527959,
          33.56811885710347,
          34.46169489652825,
          24.924493413188344,
          20.13279949567655,
          13.487886727880817,
          12.123026660323095,
          8.880458817327785,
          9.587872161484846,
          13.483653808495468,
          14.280966524347086,
          14.917110849061249,
          9.753696583901508,
          17.46264113133597,
          5.702157434292296,
          10.69799514443553,
          15.721757766504599,
          7.66213985486759,
          4.355225816930918,
          13.383302516859779,
          15.075391970854746,
          23.859780687603752,
          14.446654673141524,
          9.522137778101708,
          11.305399261203217,
          19.344894741040456,
          11.719837853734298,
          17.013732317068865,
          20.22764825190975,
          27.467734980486462,
          29.393802472182237,
          14.59238886744955,
          16.414918762839342,
          26.258226314244823,
          27.33222781352122,
          10.413224325009416,
          7.51956299854821,
          18.62107809477199,
          26.169704041710716,
          19.230209181031682,
          14.787884608874734,
          16.585366437535285,
          20.497395420032753,
          13.894423586511689,
          21.080706677347827,
          21.804251422304446,
          24.60371902811864,
          23.224978478917215,
          11.473400271140434,
          15.873026858249574,
          17.947200129652487,
          18.3761344746109,
          13.643086690176709,
          6.635000437462473,
          10.01211108899222,
          13.895333417599044,
          7.833556534266556,
          11.451638317466319,
          10.265322440581095,
          8.82597072184663,
          9.290246940439467,
          11.00339739107217,
          15.622035367084361,
          17.046844565541548,
          13.929228495938666,
          27.86554395215267,
          27.209016646993213,
          18.860373055061366,
          16.738825580350976,
          22.073294258648268,
          23.779753582145474,
          20.918181044714537,
          8.701711698957034,
          10.754015956535344,
          12.04119830859398,
          10.657366881201376,
          15.413627620810097,
          13.74294055706087,
          17.224674217429815,
          17.2248638760215,
          22.99994751229361,
          17.65552556231527,
          22.57596350146075,
          25.8366463911426,
          30.872691192385652,
          31.475122644590805,
          21.63738634006782,
          17.24177726964996,
          8.416348941571947,
          9.117671686441955,
          8.786540699575731,
          5.530641932437749,
          11.689832861343671,
          13.614153974152813,
          14.316038952678301,
          8.85208986633549,
          18.89018434947657,
          3.8144183693884415,
          9.56159425949776,
          12.904236774110785,
          5.229679313428665,
          4.345833328950675,
          13.552353776403407,
          12.455097447928495,
          24.88348073284577,
          11.309813883604143,
          5.680916740465875,
          9.648873247621935,
          20.722797099424263,
          22.207715074305355,
          22.77417512013421,
          15.873026858249574,
          13.192283331393696,
          8.284359893049565,
          8.82597072184663,
          16.07283872586737,
          27.86554395215267,
          22.045189441672058,
          12.717403346768496,
          12.235178636941914,
          20.155085708111073,
          25.50618533355032,
          35.081549514854885,
          11.571972453053018,
          6.206846970612265,
          14.99224399085282,
          20.46799610521711,
          9.56159425949776,
          14.256646850459813,
          11.760617242387156
         ],
         "xaxis": "x",
         "y": [
          0.24569188052348778,
          0.4195257205920857,
          -0.24990904138365444,
          -0.27237220231614323,
          0.2891301033185343,
          0.6126906090720148,
          -0.2559288754561475,
          0.9384483633786473,
          0.9423684872298423,
          3.824677112002661,
          3.4154483295667326,
          0.612247199803317,
          1.6246402127381288,
          0.7237655997852563,
          1.0636746800360513,
          -0.13229934597216086,
          0.5523488825714367,
          -0.22754233861297113,
          -0.8897577242030046,
          -1.8097142661156065,
          -1.0959444222149646,
          -1.243469981593476,
          -2.078661107851472,
          -0.1387949048242838,
          -0.7642461647683696,
          -1.1317035852249635,
          -1.3454072783657018,
          -0.10797725125265956,
          -0.3757962577914107,
          -1.4606309083910567,
          0.7601649623197169,
          -0.30430924942890414,
          0.12099361386066931,
          -0.5941127905111792,
          -0.5202203217118715,
          0.05984330740539079,
          -0.6323319580935802,
          -1.7473835128606154,
          -2.19938241909737,
          -1.9246357109797252,
          -1.3723009171298894,
          -1.0455127500950603,
          -0.2642988866494882,
          1.455123220238331,
          0.4626779603911366,
          -1.1729113359608867,
          0.2269409702760079,
          0.6816341122112277,
          0.45922177013844845,
          -1.2843753576327437,
          -2.301924495676552,
          -5.440456172325257,
          -3.6033669381008746,
          -1.4518546506611152,
          0.472051343383054,
          -1.4927510307176686,
          -0.8302371645108853,
          -1.4629302935056483,
          0.024534613870081046,
          2.927414424219627,
          0.6876689545965942,
          2.246365966675569,
          -2.1034730442823992,
          -0.09503568820091957,
          0.18893390529130194,
          0.1659544275846212,
          -1.986168891412646,
          1.6103651457295491,
          0.10136700047927683,
          -1.883584231509218,
          0.7859340721300825,
          -1.1160396685766543,
          0.5941354795990019,
          -2.1485587059577647,
          -1.5275996407986483,
          -2.8409964547562616,
          -2.4504135832933365,
          -1.5556192045282504,
          -2.8628493183949413,
          -2.921323536467021,
          -1.516248646854521,
          -0.08345349167611715,
          0.9732981125628992,
          -1.990362816994189,
          -4.806651190528516,
          0.6163672078572162,
          -1.6847596088747334,
          2.0883557846869145,
          1.8430073577450479,
          0.6738530520338113,
          -1.8696801410349266,
          -0.13768197786004777,
          1.0728990274369608,
          1.8564192957698857,
          -0.09335697941423504,
          -0.3945824138051748,
          0.10391098145861477,
          1.0542821920558012,
          -1.0829061346211084,
          1.3036870625375272,
          -2.472166644547781,
          -2.1012917509323437,
          0.05924207684455407,
          -1.2086452619107195,
          0.9354136705300053,
          1.0279623325466805,
          0.7064613928938641,
          0.6632970533722293,
          0.295839632915639,
          -0.31060845443044727,
          1.2162576151724345,
          1.324108825625128,
          -0.004912480326513702,
          1.4363700004942324,
          0.944792475204622,
          -1.3347248142038666,
          -1.3078855265898746,
          -0.24786071045273772,
          -0.05285753229036416,
          0.10961598790905569,
          -1.5971149752606806,
          -1.504394658979157,
          -3.549405398587897,
          0.85354066686123,
          0.02514522701458688,
          2.3841708462007,
          5.728362640696691,
          5.49664804879583,
          0.7185017763170514,
          5.364221664412998,
          3.3770617769290467,
          3.4457940220758942,
          2.00273171548778,
          0.5890977303500406,
          -0.3689183860163876,
          -0.5980119642197348,
          -1.3579365329090614,
          4.5292815724301505,
          0.3010699164341286,
          -0.1634246143166127,
          -0.8618583971227007,
          0.9261413314360993,
          1.4998712060790282,
          2.5754080195004487,
          3.38276685161334,
          0.7140479481114141,
          2.337424853238005,
          0.1983263932715449,
          -0.003096831959007673,
          0.634125631513605,
          0.586665100487533,
          3.2382077900166575,
          1.9576368061266152,
          0.6516976761823638,
          1.617605678353538,
          -2.996688537992455,
          2.3072226545528913,
          -0.3945824138051748,
          -0.6321027758380957,
          -0.3915612819384551,
          1.0279623325466805,
          -0.15496372586737017,
          1.324108825625128,
          -1.3748691074102588,
          -2.273320013435196,
          -3.0822064147196944,
          -0.546050985888872,
          -2.2117200557725205,
          -0.16063284818818602,
          -3.5245418974974587,
          3.853076534255635,
          -1.5380634352972198,
          -0.07794054966151265,
          3.38276685161334,
          -0.6383621282376133,
          2.787404431233645
         ],
         "yaxis": "y"
        }
       ],
       "layout": {
        "height": 250,
        "legend": {
         "tracegroupgap": 0
        },
        "shapes": [
         {
          "line": {
           "color": "black",
           "dash": "dash",
           "width": 2
          },
          "opacity": 1,
          "type": "line",
          "x0": 0,
          "x1": 1,
          "xref": "x domain",
          "y0": 0,
          "y1": 0,
          "yref": "y"
         }
        ],
        "template": {
         "data": {
          "bar": [
           {
            "error_x": {
             "color": "rgb(36,36,36)"
            },
            "error_y": {
             "color": "rgb(36,36,36)"
            },
            "marker": {
             "line": {
              "color": "white",
              "width": 0.5
             },
             "pattern": {
              "fillmode": "overlay",
              "size": 10,
              "solidity": 0.2
             }
            },
            "type": "bar"
           }
          ],
          "barpolar": [
           {
            "marker": {
             "line": {
              "color": "white",
              "width": 0.5
             },
             "pattern": {
              "fillmode": "overlay",
              "size": 10,
              "solidity": 0.2
             }
            },
            "type": "barpolar"
           }
          ],
          "carpet": [
           {
            "aaxis": {
             "endlinecolor": "rgb(36,36,36)",
             "gridcolor": "white",
             "linecolor": "white",
             "minorgridcolor": "white",
             "startlinecolor": "rgb(36,36,36)"
            },
            "baxis": {
             "endlinecolor": "rgb(36,36,36)",
             "gridcolor": "white",
             "linecolor": "white",
             "minorgridcolor": "white",
             "startlinecolor": "rgb(36,36,36)"
            },
            "type": "carpet"
           }
          ],
          "choropleth": [
           {
            "colorbar": {
             "outlinewidth": 1,
             "tickcolor": "rgb(36,36,36)",
             "ticks": "outside"
            },
            "type": "choropleth"
           }
          ],
          "contour": [
           {
            "colorbar": {
             "outlinewidth": 1,
             "tickcolor": "rgb(36,36,36)",
             "ticks": "outside"
            },
            "colorscale": [
             [
              0,
              "#440154"
             ],
             [
              0.1111111111111111,
              "#482878"
             ],
             [
              0.2222222222222222,
              "#3e4989"
             ],
             [
              0.3333333333333333,
              "#31688e"
             ],
             [
              0.4444444444444444,
              "#26828e"
             ],
             [
              0.5555555555555556,
              "#1f9e89"
             ],
             [
              0.6666666666666666,
              "#35b779"
             ],
             [
              0.7777777777777778,
              "#6ece58"
             ],
             [
              0.8888888888888888,
              "#b5de2b"
             ],
             [
              1,
              "#fde725"
             ]
            ],
            "type": "contour"
           }
          ],
          "contourcarpet": [
           {
            "colorbar": {
             "outlinewidth": 1,
             "tickcolor": "rgb(36,36,36)",
             "ticks": "outside"
            },
            "type": "contourcarpet"
           }
          ],
          "heatmap": [
           {
            "colorbar": {
             "outlinewidth": 1,
             "tickcolor": "rgb(36,36,36)",
             "ticks": "outside"
            },
            "colorscale": [
             [
              0,
              "#440154"
             ],
             [
              0.1111111111111111,
              "#482878"
             ],
             [
              0.2222222222222222,
              "#3e4989"
             ],
             [
              0.3333333333333333,
              "#31688e"
             ],
             [
              0.4444444444444444,
              "#26828e"
             ],
             [
              0.5555555555555556,
              "#1f9e89"
             ],
             [
              0.6666666666666666,
              "#35b779"
             ],
             [
              0.7777777777777778,
              "#6ece58"
             ],
             [
              0.8888888888888888,
              "#b5de2b"
             ],
             [
              1,
              "#fde725"
             ]
            ],
            "type": "heatmap"
           }
          ],
          "heatmapgl": [
           {
            "colorbar": {
             "outlinewidth": 1,
             "tickcolor": "rgb(36,36,36)",
             "ticks": "outside"
            },
            "colorscale": [
             [
              0,
              "#440154"
             ],
             [
              0.1111111111111111,
              "#482878"
             ],
             [
              0.2222222222222222,
              "#3e4989"
             ],
             [
              0.3333333333333333,
              "#31688e"
             ],
             [
              0.4444444444444444,
              "#26828e"
             ],
             [
              0.5555555555555556,
              "#1f9e89"
             ],
             [
              0.6666666666666666,
              "#35b779"
             ],
             [
              0.7777777777777778,
              "#6ece58"
             ],
             [
              0.8888888888888888,
              "#b5de2b"
             ],
             [
              1,
              "#fde725"
             ]
            ],
            "type": "heatmapgl"
           }
          ],
          "histogram": [
           {
            "marker": {
             "line": {
              "color": "white",
              "width": 0.6
             }
            },
            "type": "histogram"
           }
          ],
          "histogram2d": [
           {
            "colorbar": {
             "outlinewidth": 1,
             "tickcolor": "rgb(36,36,36)",
             "ticks": "outside"
            },
            "colorscale": [
             [
              0,
              "#440154"
             ],
             [
              0.1111111111111111,
              "#482878"
             ],
             [
              0.2222222222222222,
              "#3e4989"
             ],
             [
              0.3333333333333333,
              "#31688e"
             ],
             [
              0.4444444444444444,
              "#26828e"
             ],
             [
              0.5555555555555556,
              "#1f9e89"
             ],
             [
              0.6666666666666666,
              "#35b779"
             ],
             [
              0.7777777777777778,
              "#6ece58"
             ],
             [
              0.8888888888888888,
              "#b5de2b"
             ],
             [
              1,
              "#fde725"
             ]
            ],
            "type": "histogram2d"
           }
          ],
          "histogram2dcontour": [
           {
            "colorbar": {
             "outlinewidth": 1,
             "tickcolor": "rgb(36,36,36)",
             "ticks": "outside"
            },
            "colorscale": [
             [
              0,
              "#440154"
             ],
             [
              0.1111111111111111,
              "#482878"
             ],
             [
              0.2222222222222222,
              "#3e4989"
             ],
             [
              0.3333333333333333,
              "#31688e"
             ],
             [
              0.4444444444444444,
              "#26828e"
             ],
             [
              0.5555555555555556,
              "#1f9e89"
             ],
             [
              0.6666666666666666,
              "#35b779"
             ],
             [
              0.7777777777777778,
              "#6ece58"
             ],
             [
              0.8888888888888888,
              "#b5de2b"
             ],
             [
              1,
              "#fde725"
             ]
            ],
            "type": "histogram2dcontour"
           }
          ],
          "mesh3d": [
           {
            "colorbar": {
             "outlinewidth": 1,
             "tickcolor": "rgb(36,36,36)",
             "ticks": "outside"
            },
            "type": "mesh3d"
           }
          ],
          "parcoords": [
           {
            "line": {
             "colorbar": {
              "outlinewidth": 1,
              "tickcolor": "rgb(36,36,36)",
              "ticks": "outside"
             }
            },
            "type": "parcoords"
           }
          ],
          "pie": [
           {
            "automargin": true,
            "type": "pie"
           }
          ],
          "scatter": [
           {
            "marker": {
             "colorbar": {
              "outlinewidth": 1,
              "tickcolor": "rgb(36,36,36)",
              "ticks": "outside"
             }
            },
            "type": "scatter"
           }
          ],
          "scatter3d": [
           {
            "line": {
             "colorbar": {
              "outlinewidth": 1,
              "tickcolor": "rgb(36,36,36)",
              "ticks": "outside"
             }
            },
            "marker": {
             "colorbar": {
              "outlinewidth": 1,
              "tickcolor": "rgb(36,36,36)",
              "ticks": "outside"
             }
            },
            "type": "scatter3d"
           }
          ],
          "scattercarpet": [
           {
            "marker": {
             "colorbar": {
              "outlinewidth": 1,
              "tickcolor": "rgb(36,36,36)",
              "ticks": "outside"
             }
            },
            "type": "scattercarpet"
           }
          ],
          "scattergeo": [
           {
            "marker": {
             "colorbar": {
              "outlinewidth": 1,
              "tickcolor": "rgb(36,36,36)",
              "ticks": "outside"
             }
            },
            "type": "scattergeo"
           }
          ],
          "scattergl": [
           {
            "marker": {
             "colorbar": {
              "outlinewidth": 1,
              "tickcolor": "rgb(36,36,36)",
              "ticks": "outside"
             }
            },
            "type": "scattergl"
           }
          ],
          "scattermapbox": [
           {
            "marker": {
             "colorbar": {
              "outlinewidth": 1,
              "tickcolor": "rgb(36,36,36)",
              "ticks": "outside"
             }
            },
            "type": "scattermapbox"
           }
          ],
          "scatterpolar": [
           {
            "marker": {
             "colorbar": {
              "outlinewidth": 1,
              "tickcolor": "rgb(36,36,36)",
              "ticks": "outside"
             }
            },
            "type": "scatterpolar"
           }
          ],
          "scatterpolargl": [
           {
            "marker": {
             "colorbar": {
              "outlinewidth": 1,
              "tickcolor": "rgb(36,36,36)",
              "ticks": "outside"
             }
            },
            "type": "scatterpolargl"
           }
          ],
          "scatterternary": [
           {
            "marker": {
             "colorbar": {
              "outlinewidth": 1,
              "tickcolor": "rgb(36,36,36)",
              "ticks": "outside"
             }
            },
            "type": "scatterternary"
           }
          ],
          "surface": [
           {
            "colorbar": {
             "outlinewidth": 1,
             "tickcolor": "rgb(36,36,36)",
             "ticks": "outside"
            },
            "colorscale": [
             [
              0,
              "#440154"
             ],
             [
              0.1111111111111111,
              "#482878"
             ],
             [
              0.2222222222222222,
              "#3e4989"
             ],
             [
              0.3333333333333333,
              "#31688e"
             ],
             [
              0.4444444444444444,
              "#26828e"
             ],
             [
              0.5555555555555556,
              "#1f9e89"
             ],
             [
              0.6666666666666666,
              "#35b779"
             ],
             [
              0.7777777777777778,
              "#6ece58"
             ],
             [
              0.8888888888888888,
              "#b5de2b"
             ],
             [
              1,
              "#fde725"
             ]
            ],
            "type": "surface"
           }
          ],
          "table": [
           {
            "cells": {
             "fill": {
              "color": "rgb(237,237,237)"
             },
             "line": {
              "color": "white"
             }
            },
            "header": {
             "fill": {
              "color": "rgb(217,217,217)"
             },
             "line": {
              "color": "white"
             }
            },
            "type": "table"
           }
          ]
         },
         "layout": {
          "annotationdefaults": {
           "arrowhead": 0,
           "arrowwidth": 1
          },
          "autosize": true,
          "autotypenumbers": "strict",
          "coloraxis": {
           "colorbar": {
            "outlinewidth": 1,
            "tickcolor": "rgb(36,36,36)",
            "ticks": "outside"
           }
          },
          "colorscale": {
           "diverging": [
            [
             0,
             "rgb(103,0,31)"
            ],
            [
             0.1,
             "rgb(178,24,43)"
            ],
            [
             0.2,
             "rgb(214,96,77)"
            ],
            [
             0.3,
             "rgb(244,165,130)"
            ],
            [
             0.4,
             "rgb(253,219,199)"
            ],
            [
             0.5,
             "rgb(247,247,247)"
            ],
            [
             0.6,
             "rgb(209,229,240)"
            ],
            [
             0.7,
             "rgb(146,197,222)"
            ],
            [
             0.8,
             "rgb(67,147,195)"
            ],
            [
             0.9,
             "rgb(33,102,172)"
            ],
            [
             1,
             "rgb(5,48,97)"
            ]
           ],
           "sequential": [
            [
             0,
             "#440154"
            ],
            [
             0.1111111111111111,
             "#482878"
            ],
            [
             0.2222222222222222,
             "#3e4989"
            ],
            [
             0.3333333333333333,
             "#31688e"
            ],
            [
             0.4444444444444444,
             "#26828e"
            ],
            [
             0.5555555555555556,
             "#1f9e89"
            ],
            [
             0.6666666666666666,
             "#35b779"
            ],
            [
             0.7777777777777778,
             "#6ece58"
            ],
            [
             0.8888888888888888,
             "#b5de2b"
            ],
            [
             1,
             "#fde725"
            ]
           ],
           "sequentialminus": [
            [
             0,
             "#440154"
            ],
            [
             0.1111111111111111,
             "#482878"
            ],
            [
             0.2222222222222222,
             "#3e4989"
            ],
            [
             0.3333333333333333,
             "#31688e"
            ],
            [
             0.4444444444444444,
             "#26828e"
            ],
            [
             0.5555555555555556,
             "#1f9e89"
            ],
            [
             0.6666666666666666,
             "#35b779"
            ],
            [
             0.7777777777777778,
             "#6ece58"
            ],
            [
             0.8888888888888888,
             "#b5de2b"
            ],
            [
             1,
             "#fde725"
            ]
           ]
          },
          "colorway": [
           "#1F77B4",
           "#FF7F0E",
           "#2CA02C",
           "#D62728",
           "#9467BD",
           "#8C564B",
           "#E377C2",
           "#7F7F7F",
           "#BCBD22",
           "#17BECF"
          ],
          "font": {
           "color": "rgb(36,36,36)"
          },
          "geo": {
           "bgcolor": "white",
           "lakecolor": "white",
           "landcolor": "white",
           "showlakes": true,
           "showland": true,
           "subunitcolor": "white"
          },
          "height": 250,
          "hoverlabel": {
           "align": "left"
          },
          "hovermode": "closest",
          "mapbox": {
           "style": "light"
          },
          "margin": {
           "b": 10,
           "l": 10,
           "r": 10,
           "t": 10
          },
          "paper_bgcolor": "white",
          "plot_bgcolor": "white",
          "polar": {
           "angularaxis": {
            "gridcolor": "rgb(232,232,232)",
            "linecolor": "rgb(36,36,36)",
            "showgrid": false,
            "showline": true,
            "ticks": "outside"
           },
           "bgcolor": "white",
           "radialaxis": {
            "gridcolor": "rgb(232,232,232)",
            "linecolor": "rgb(36,36,36)",
            "showgrid": false,
            "showline": true,
            "ticks": "outside"
           }
          },
          "scene": {
           "xaxis": {
            "backgroundcolor": "white",
            "gridcolor": "rgb(232,232,232)",
            "gridwidth": 2,
            "linecolor": "rgb(36,36,36)",
            "showbackground": true,
            "showgrid": false,
            "showline": true,
            "ticks": "outside",
            "zeroline": false,
            "zerolinecolor": "rgb(36,36,36)"
           },
           "yaxis": {
            "backgroundcolor": "white",
            "gridcolor": "rgb(232,232,232)",
            "gridwidth": 2,
            "linecolor": "rgb(36,36,36)",
            "showbackground": true,
            "showgrid": false,
            "showline": true,
            "ticks": "outside",
            "zeroline": false,
            "zerolinecolor": "rgb(36,36,36)"
           },
           "zaxis": {
            "backgroundcolor": "white",
            "gridcolor": "rgb(232,232,232)",
            "gridwidth": 2,
            "linecolor": "rgb(36,36,36)",
            "showbackground": true,
            "showgrid": false,
            "showline": true,
            "ticks": "outside",
            "zeroline": false,
            "zerolinecolor": "rgb(36,36,36)"
           }
          },
          "shapedefaults": {
           "fillcolor": "black",
           "line": {
            "width": 0
           },
           "opacity": 0.3
          },
          "ternary": {
           "aaxis": {
            "gridcolor": "rgb(232,232,232)",
            "linecolor": "rgb(36,36,36)",
            "showgrid": false,
            "showline": true,
            "ticks": "outside"
           },
           "baxis": {
            "gridcolor": "rgb(232,232,232)",
            "linecolor": "rgb(36,36,36)",
            "showgrid": false,
            "showline": true,
            "ticks": "outside"
           },
           "bgcolor": "white",
           "caxis": {
            "gridcolor": "rgb(232,232,232)",
            "linecolor": "rgb(36,36,36)",
            "showgrid": false,
            "showline": true,
            "ticks": "outside"
           }
          },
          "title": {
           "x": 0.5,
           "xanchor": "center"
          },
          "width": 350,
          "xaxis": {
           "automargin": true,
           "gridcolor": "rgb(232,232,232)",
           "linecolor": "rgb(36,36,36)",
           "showgrid": true,
           "showline": true,
           "ticks": "outside",
           "title": {
            "standoff": 15
           },
           "zeroline": false,
           "zerolinecolor": "rgb(36,36,36)"
          },
          "yaxis": {
           "automargin": true,
           "gridcolor": "rgb(232,232,232)",
           "linecolor": "rgb(36,36,36)",
           "showgrid": true,
           "showline": true,
           "ticks": "outside",
           "title": {
            "standoff": 15
           },
           "zeroline": false,
           "zerolinecolor": "rgb(36,36,36)"
          }
         }
        },
        "width": 350,
        "xaxis": {
         "anchor": "y",
         "autorange": true,
         "domain": [
          0,
          1
         ],
         "range": [
          1.5365514054908234,
          37.3594164787525
         ],
         "title": {
          "text": "predicted values"
         },
         "type": "linear"
        },
        "yaxis": {
         "anchor": "x",
         "domain": [
          0,
          1
         ],
         "range": [
          -12,
          12
         ],
         "title": {
          "text": "error"
         },
         "type": "linear"
        }
       }
      },
      "image/png": "[encoded data removed]",
      "image/svg+xml": [
       "<svg class=\"main-svg\" xmlns=\"http://www.w3.org/2000/svg\" xmlns:xlink=\"http://www.w3.org/1999/xlink\" width=\"350\" height=\"250\" style=\"\" viewBox=\"0 0 350 250\"><rect x=\"0\" y=\"0\" width=\"350\" height=\"250\" style=\"fill: rgb(255, 255, 255); fill-opacity: 1;\"/><defs id=\"defs-7e8b6f\"><g class=\"clips\"><clipPath id=\"clip7e8b6fxyplot\" class=\"plotclip\"><rect width=\"276\" height=\"181\"/></clipPath><clipPath class=\"axesclip\" id=\"clip7e8b6fx\"><rect x=\"64\" y=\"0\" width=\"276\" height=\"250\"/></clipPath><clipPath class=\"axesclip\" id=\"clip7e8b6fy\"><rect x=\"0\" y=\"10\" width=\"350\" height=\"181\"/></clipPath><clipPath class=\"axesclip\" id=\"clip7e8b6fxy\"><rect x=\"64\" y=\"10\" width=\"276\" height=\"181\"/></clipPath></g><g class=\"gradients\"/><g class=\"patterns\"/></defs><g class=\"bglayer\"/><g class=\"layer-below\"><g class=\"imagelayer\"/><g class=\"shapelayer\"/></g><g class=\"cartesianlayer\"><g class=\"subplot xy\"><g class=\"layer-subplot\"><g class=\"shapelayer\"/><g class=\"imagelayer\"/></g><g class=\"gridlayer\"><g class=\"x\"><path class=\"xgrid crisp\" transform=\"translate(129.20999999999998,0)\" d=\"M0,10v181\" style=\"stroke: rgb(232, 232, 232); stroke-opacity: 1; stroke-width: 1px;\"/><path class=\"xgrid crisp\" transform=\"translate(206.25,0)\" d=\"M0,10v181\" style=\"stroke: rgb(232, 232, 232); stroke-opacity: 1; stroke-width: 1px;\"/><path class=\"xgrid crisp\" transform=\"translate(283.3,0)\" d=\"M0,10v181\" style=\"stroke: rgb(232, 232, 232); stroke-opacity: 1; stroke-width: 1px;\"/></g><g class=\"y\"><path class=\"ygrid crisp\" transform=\"translate(0,175.92)\" d=\"M64,0h276\" style=\"stroke: rgb(232, 232, 232); stroke-opacity: 1; stroke-width: 1px;\"/><path class=\"ygrid crisp\" transform=\"translate(0,138.21)\" d=\"M64,0h276\" style=\"stroke: rgb(232, 232, 232); stroke-opacity: 1; stroke-width: 1px;\"/><path class=\"ygrid crisp\" transform=\"translate(0,100.5)\" d=\"M64,0h276\" style=\"stroke: rgb(232, 232, 232); stroke-opacity: 1; stroke-width: 1px;\"/><path class=\"ygrid crisp\" transform=\"translate(0,62.79)\" d=\"M64,0h276\" style=\"stroke: rgb(232, 232, 232); stroke-opacity: 1; stroke-width: 1px;\"/><path class=\"ygrid crisp\" transform=\"translate(0,25.08)\" d=\"M64,0h276\" style=\"stroke: rgb(232, 232, 232); stroke-opacity: 1; stroke-width: 1px;\"/></g></g><g class=\"zerolinelayer\"/><path class=\"xlines-below\"/><path class=\"ylines-below\"/><g class=\"overlines-below\"/><g class=\"xaxislayer-below\"/><g class=\"yaxislayer-below\"/><g class=\"overaxes-below\"/><g class=\"plot\" transform=\"translate(64,10)\" clip-path=\"url(#clip7e8b6fxyplot)\"><g class=\"scatterlayer mlayer\"><g class=\"trace scatter tracead03dc\" style=\"stroke-miterlimit: 2; opacity: 1;\"><g class=\"fills\"/><g class=\"errorbars\"/><g class=\"lines\"/><g class=\"points\"><path class=\"point\" transform=\"translate(111,88.65)\" d=\"M3,0A3,3 0 1,1 0,-3A3,3 0 0,1 3,0Z\" style=\"opacity: 1; stroke-width: 0px; fill: rgb(31, 119, 180); fill-opacity: 1;\"/><path class=\"point\" transform=\"translate(89.65,87.34)\" d=\"M3,0A3,3 0 1,1 0,-3A3,3 0 0,1 3,0Z\" style=\"opacity: 1; stroke-width: 0px; fill: rgb(31, 119, 180); fill-opacity: 1;\"/><path class=\"point\" transform=\"translate(69.45,92.38)\" d=\"M3,0A3,3 0 1,1 0,-3A3,3 0 0,1 3,0Z\" style=\"opacity: 1; stroke-width: 0px; fill: rgb(31, 119, 180); fill-opacity: 1;\"/><path class=\"point\" transform=\"translate(104.21,92.55)\" d=\"M3,0A3,3 0 1,1 0,-3A3,3 0 0,1 3,0Z\" style=\"opacity: 1; stroke-width: 0px; fill: rgb(31, 119, 180); fill-opacity: 1;\"/><path class=\"point\" transform=\"translate(121.12,88.32)\" d=\"M3,0A3,3 0 1,1 0,-3A3,3 0 0,1 3,0Z\" style=\"opacity: 1; stroke-width: 0px; fill: rgb(31, 119, 180); fill-opacity: 1;\"/><path class=\"point\" transform=\"translate(155.56,85.88)\" d=\"M3,0A3,3 0 1,1 0,-3A3,3 0 0,1 3,0Z\" style=\"opacity: 1; stroke-width: 0px; fill: rgb(31, 119, 180); fill-opacity: 1;\"/><path class=\"point\" transform=\"translate(102.38,92.43)\" d=\"M3,0A3,3 0 1,1 0,-3A3,3 0 0,1 3,0Z\" style=\"opacity: 1; stroke-width: 0px; fill: rgb(31, 119, 180); fill-opacity: 1;\"/><path class=\"point\" transform=\"translate(128.94,83.42)\" d=\"M3,0A3,3 0 1,1 0,-3A3,3 0 0,1 3,0Z\" style=\"opacity: 1; stroke-width: 0px; fill: rgb(31, 119, 180); fill-opacity: 1;\"/><path class=\"point\" transform=\"translate(147.83,83.39)\" d=\"M3,0A3,3 0 1,1 0,-3A3,3 0 0,1 3,0Z\" style=\"opacity: 1; stroke-width: 0px; fill: rgb(31, 119, 180); fill-opacity: 1;\"/><path class=\"point\" transform=\"translate(156.52,61.66)\" d=\"M3,0A3,3 0 1,1 0,-3A3,3 0 0,1 3,0Z\" style=\"opacity: 1; stroke-width: 0px; fill: rgb(31, 119, 180); fill-opacity: 1;\"/><path class=\"point\" transform=\"translate(155.09,64.74)\" d=\"M3,0A3,3 0 1,1 0,-3A3,3 0 0,1 3,0Z\" style=\"opacity: 1; stroke-width: 0px; fill: rgb(31, 119, 180); fill-opacity: 1;\"/><path class=\"point\" transform=\"translate(71.12,85.88)\" d=\"M3,0A3,3 0 1,1 0,-3A3,3 0 0,1 3,0Z\" style=\"opacity: 1; stroke-width: 0px; fill: rgb(31, 119, 180); fill-opacity: 1;\"/><path class=\"point\" transform=\"translate(94.9,78.25)\" d=\"M3,0A3,3 0 1,1 0,-3A3,3 0 0,1 3,0Z\" style=\"opacity: 1; stroke-width: 0px; fill: rgb(31, 119, 180); fill-opacity: 1;\"/><path class=\"point\" transform=\"translate(121.66,85.04)\" d=\"M3,0A3,3 0 1,1 0,-3A3,3 0 0,1 3,0Z\" style=\"opacity: 1; stroke-width: 0px; fill: rgb(31, 119, 180); fill-opacity: 1;\"/><path class=\"point\" transform=\"translate(129.67,82.48)\" d=\"M3,0A3,3 0 1,1 0,-3A3,3 0 0,1 3,0Z\" style=\"opacity: 1; stroke-width: 0px; fill: rgb(31, 119, 180); fill-opacity: 1;\"/><path class=\"point\" transform=\"translate(85.95,91.5)\" d=\"M3,0A3,3 0 1,1 0,-3A3,3 0 0,1 3,0Z\" style=\"opacity: 1; stroke-width: 0px; fill: rgb(31, 119, 180); fill-opacity: 1;\"/><path class=\"point\" transform=\"translate(45.07,86.33)\" d=\"M3,0A3,3 0 1,1 0,-3A3,3 0 0,1 3,0Z\" style=\"opacity: 1; stroke-width: 0px; fill: rgb(31, 119, 180); fill-opacity: 1;\"/><path class=\"point\" transform=\"translate(48.01,92.22)\" d=\"M3,0A3,3 0 1,1 0,-3A3,3 0 0,1 3,0Z\" style=\"opacity: 1; stroke-width: 0px; fill: rgb(31, 119, 180); fill-opacity: 1;\"/><path class=\"point\" transform=\"translate(85.88,97.21)\" d=\"M3,0A3,3 0 1,1 0,-3A3,3 0 0,1 3,0Z\" style=\"opacity: 1; stroke-width: 0px; fill: rgb(31, 119, 180); fill-opacity: 1;\"/><path class=\"point\" transform=\"translate(62.92,104.15)\" d=\"M3,0A3,3 0 1,1 0,-3A3,3 0 0,1 3,0Z\" style=\"opacity: 1; stroke-width: 0px; fill: rgb(31, 119, 180); fill-opacity: 1;\"/><path class=\"point\" transform=\"translate(75.52,98.77)\" d=\"M3,0A3,3 0 1,1 0,-3A3,3 0 0,1 3,0Z\" style=\"opacity: 1; stroke-width: 0px; fill: rgb(31, 119, 180); fill-opacity: 1;\"/><path class=\"point\" transform=\"translate(84.04,99.88)\" d=\"M3,0A3,3 0 1,1 0,-3A3,3 0 0,1 3,0Z\" style=\"opacity: 1; stroke-width: 0px; fill: rgb(31, 119, 180); fill-opacity: 1;\"/><path class=\"point\" transform=\"translate(80.1,106.18)\" d=\"M3,0A3,3 0 1,1 0,-3A3,3 0 0,1 3,0Z\" style=\"opacity: 1; stroke-width: 0px; fill: rgb(31, 119, 180); fill-opacity: 1;\"/><path class=\"point\" transform=\"translate(66.25,91.55)\" d=\"M3,0A3,3 0 1,1 0,-3A3,3 0 0,1 3,0Z\" style=\"opacity: 1; stroke-width: 0px; fill: rgb(31, 119, 180); fill-opacity: 1;\"/><path class=\"point\" transform=\"translate(83.94,96.26)\" d=\"M3,0A3,3 0 1,1 0,-3A3,3 0 0,1 3,0Z\" style=\"opacity: 1; stroke-width: 0px; fill: rgb(31, 119, 180); fill-opacity: 1;\"/><path class=\"point\" transform=\"translate(119.52,99.03)\" d=\"M3,0A3,3 0 1,1 0,-3A3,3 0 0,1 3,0Z\" style=\"opacity: 1; stroke-width: 0px; fill: rgb(31, 119, 180); fill-opacity: 1;\"/><path class=\"point\" transform=\"translate(127.47,100.65)\" d=\"M3,0A3,3 0 1,1 0,-3A3,3 0 0,1 3,0Z\" style=\"opacity: 1; stroke-width: 0px; fill: rgb(31, 119, 180); fill-opacity: 1;\"/><path class=\"point\" transform=\"translate(105.68,91.31)\" d=\"M3,0A3,3 0 1,1 0,-3A3,3 0 0,1 3,0Z\" style=\"opacity: 1; stroke-width: 0px; fill: rgb(31, 119, 180); fill-opacity: 1;\"/><path class=\"point\" transform=\"translate(215.95,93.33)\" d=\"M3,0A3,3 0 1,1 0,-3A3,3 0 0,1 3,0Z\" style=\"opacity: 1; stroke-width: 0px; fill: rgb(31, 119, 180); fill-opacity: 1;\"/><path class=\"point\" transform=\"translate(209.01,101.52)\" d=\"M3,0A3,3 0 1,1 0,-3A3,3 0 0,1 3,0Z\" style=\"opacity: 1; stroke-width: 0px; fill: rgb(31, 119, 180); fill-opacity: 1;\"/><path class=\"point\" transform=\"translate(138.68,84.77)\" d=\"M3,0A3,3 0 1,1 0,-3A3,3 0 0,1 3,0Z\" style=\"opacity: 1; stroke-width: 0px; fill: rgb(31, 119, 180); fill-opacity: 1;\"/><path class=\"point\" transform=\"translate(126.75,92.79)\" d=\"M3,0A3,3 0 1,1 0,-3A3,3 0 0,1 3,0Z\" style=\"opacity: 1; stroke-width: 0px; fill: rgb(31, 119, 180); fill-opacity: 1;\"/><path class=\"point\" transform=\"translate(147.01,89.59)\" d=\"M3,0A3,3 0 1,1 0,-3A3,3 0 0,1 3,0Z\" style=\"opacity: 1; stroke-width: 0px; fill: rgb(31, 119, 180); fill-opacity: 1;\"/><path class=\"point\" transform=\"translate(165.88,94.98)\" d=\"M3,0A3,3 0 1,1 0,-3A3,3 0 0,1 3,0Z\" style=\"opacity: 1; stroke-width: 0px; fill: rgb(31, 119, 180); fill-opacity: 1;\"/><path class=\"point\" transform=\"translate(151.43,94.42)\" d=\"M3,0A3,3 0 1,1 0,-3A3,3 0 0,1 3,0Z\" style=\"opacity: 1; stroke-width: 0px; fill: rgb(31, 119, 180); fill-opacity: 1;\"/><path class=\"point\" transform=\"translate(54.34,90.05)\" d=\"M3,0A3,3 0 1,1 0,-3A3,3 0 0,1 3,0Z\" style=\"opacity: 1; stroke-width: 0px; fill: rgb(31, 119, 180); fill-opacity: 1;\"/><path class=\"point\" transform=\"translate(76.73,95.27)\" d=\"M3,0A3,3 0 1,1 0,-3A3,3 0 0,1 3,0Z\" style=\"opacity: 1; stroke-width: 0px; fill: rgb(31, 119, 180); fill-opacity: 1;\"/><path class=\"point\" transform=\"translate(82.09,103.68)\" d=\"M3,0A3,3 0 1,1 0,-3A3,3 0 0,1 3,0Z\" style=\"opacity: 1; stroke-width: 0px; fill: rgb(31, 119, 180); fill-opacity: 1;\"/><path class=\"point\" transform=\"translate(75.63,107.09)\" d=\"M3,0A3,3 0 1,1 0,-3A3,3 0 0,1 3,0Z\" style=\"opacity: 1; stroke-width: 0px; fill: rgb(31, 119, 180); fill-opacity: 1;\"/><path class=\"point\" transform=\"translate(94.4,105.01)\" d=\"M3,0A3,3 0 1,1 0,-3A3,3 0 0,1 3,0Z\" style=\"opacity: 1; stroke-width: 0px; fill: rgb(31, 119, 180); fill-opacity: 1;\"/><path class=\"point\" transform=\"translate(111.19,100.85)\" d=\"M3,0A3,3 0 1,1 0,-3A3,3 0 0,1 3,0Z\" style=\"opacity: 1; stroke-width: 0px; fill: rgb(31, 119, 180); fill-opacity: 1;\"/><path class=\"point\" transform=\"translate(129.12,98.38)\" d=\"M3,0A3,3 0 1,1 0,-3A3,3 0 0,1 3,0Z\" style=\"opacity: 1; stroke-width: 0px; fill: rgb(31, 119, 180); fill-opacity: 1;\"/><path class=\"point\" transform=\"translate(141.28,92.49)\" d=\"M3,0A3,3 0 1,1 0,-3A3,3 0 0,1 3,0Z\" style=\"opacity: 1; stroke-width: 0px; fill: rgb(31, 119, 180); fill-opacity: 1;\"/><path class=\"point\" transform=\"translate(198.29,79.53)\" d=\"M3,0A3,3 0 1,1 0,-3A3,3 0 0,1 3,0Z\" style=\"opacity: 1; stroke-width: 0px; fill: rgb(31, 119, 180); fill-opacity: 1;\"/><path class=\"point\" transform=\"translate(162.97,87.01)\" d=\"M3,0A3,3 0 1,1 0,-3A3,3 0 0,1 3,0Z\" style=\"opacity: 1; stroke-width: 0px; fill: rgb(31, 119, 180); fill-opacity: 1;\"/><path class=\"point\" transform=\"translate(176.67,99.35)\" d=\"M3,0A3,3 0 1,1 0,-3A3,3 0 0,1 3,0Z\" style=\"opacity: 1; stroke-width: 0px; fill: rgb(31, 119, 180); fill-opacity: 1;\"/><path class=\"point\" transform=\"translate(226.8,88.79)\" d=\"M3,0A3,3 0 1,1 0,-3A3,3 0 0,1 3,0Z\" style=\"opacity: 1; stroke-width: 0px; fill: rgb(31, 119, 180); fill-opacity: 1;\"/><path class=\"point\" transform=\"translate(246.79,85.36)\" d=\"M3,0A3,3 0 1,1 0,-3A3,3 0 0,1 3,0Z\" style=\"opacity: 1; stroke-width: 0px; fill: rgb(31, 119, 180); fill-opacity: 1;\"/><path class=\"point\" transform=\"translate(253.67,87.04)\" d=\"M3,0A3,3 0 1,1 0,-3A3,3 0 0,1 3,0Z\" style=\"opacity: 1; stroke-width: 0px; fill: rgb(31, 119, 180); fill-opacity: 1;\"/><path class=\"point\" transform=\"translate(180.19,100.19)\" d=\"M3,0A3,3 0 1,1 0,-3A3,3 0 0,1 3,0Z\" style=\"opacity: 1; stroke-width: 0px; fill: rgb(31, 119, 180); fill-opacity: 1;\"/><path class=\"point\" transform=\"translate(143.28,107.86)\" d=\"M3,0A3,3 0 1,1 0,-3A3,3 0 0,1 3,0Z\" style=\"opacity: 1; stroke-width: 0px; fill: rgb(31, 119, 180); fill-opacity: 1;\"/><path class=\"point\" transform=\"translate(92.08,131.53)\" d=\"M3,0A3,3 0 1,1 0,-3A3,3 0 0,1 3,0Z\" style=\"opacity: 1; stroke-width: 0px; fill: rgb(31, 119, 180); fill-opacity: 1;\"/><path class=\"point\" transform=\"translate(81.56,117.68)\" d=\"M3,0A3,3 0 1,1 0,-3A3,3 0 0,1 3,0Z\" style=\"opacity: 1; stroke-width: 0px; fill: rgb(31, 119, 180); fill-opacity: 1;\"/><path class=\"point\" transform=\"translate(56.58,101.45)\" d=\"M3,0A3,3 0 1,1 0,-3A3,3 0 0,1 3,0Z\" style=\"opacity: 1; stroke-width: 0px; fill: rgb(31, 119, 180); fill-opacity: 1;\"/><path class=\"point\" transform=\"translate(62.03,86.94)\" d=\"M3,0A3,3 0 1,1 0,-3A3,3 0 0,1 3,0Z\" style=\"opacity: 1; stroke-width: 0px; fill: rgb(31, 119, 180); fill-opacity: 1;\"/><path class=\"point\" transform=\"translate(92.05,101.76)\" d=\"M3,0A3,3 0 1,1 0,-3A3,3 0 0,1 3,0Z\" style=\"opacity: 1; stroke-width: 0px; fill: rgb(31, 119, 180); fill-opacity: 1;\"/><path class=\"point\" transform=\"translate(98.19,96.76)\" d=\"M3,0A3,3 0 1,1 0,-3A3,3 0 0,1 3,0Z\" style=\"opacity: 1; stroke-width: 0px; fill: rgb(31, 119, 180); fill-opacity: 1;\"/><path class=\"point\" transform=\"translate(103.09,101.53)\" d=\"M3,0A3,3 0 1,1 0,-3A3,3 0 0,1 3,0Z\" style=\"opacity: 1; stroke-width: 0px; fill: rgb(31, 119, 180); fill-opacity: 1;\"/><path class=\"point\" transform=\"translate(63.31,90.31)\" d=\"M3,0A3,3 0 1,1 0,-3A3,3 0 0,1 3,0Z\" style=\"opacity: 1; stroke-width: 0px; fill: rgb(31, 119, 180); fill-opacity: 1;\"/><path class=\"point\" transform=\"translate(122.7,68.42)\" d=\"M3,0A3,3 0 1,1 0,-3A3,3 0 0,1 3,0Z\" style=\"opacity: 1; stroke-width: 0px; fill: rgb(31, 119, 180); fill-opacity: 1;\"/><path class=\"point\" transform=\"translate(32.09,85.31)\" d=\"M3,0A3,3 0 1,1 0,-3A3,3 0 0,1 3,0Z\" style=\"opacity: 1; stroke-width: 0px; fill: rgb(31, 119, 180); fill-opacity: 1;\"/><path class=\"point\" transform=\"translate(70.59,73.56)\" d=\"M3,0A3,3 0 1,1 0,-3A3,3 0 0,1 3,0Z\" style=\"opacity: 1; stroke-width: 0px; fill: rgb(31, 119, 180); fill-opacity: 1;\"/><path class=\"point\" transform=\"translate(109.29,106.36)\" d=\"M3,0A3,3 0 1,1 0,-3A3,3 0 0,1 3,0Z\" style=\"opacity: 1; stroke-width: 0px; fill: rgb(31, 119, 180); fill-opacity: 1;\"/><path class=\"point\" transform=\"translate(47.2,91.22)\" d=\"M3,0A3,3 0 1,1 0,-3A3,3 0 0,1 3,0Z\" style=\"opacity: 1; stroke-width: 0px; fill: rgb(31, 119, 180); fill-opacity: 1;\"/><path class=\"point\" transform=\"translate(21.72,89.08)\" d=\"M3,0A3,3 0 1,1 0,-3A3,3 0 0,1 3,0Z\" style=\"opacity: 1; stroke-width: 0px; fill: rgb(31, 119, 180); fill-opacity: 1;\"/><path class=\"point\" transform=\"translate(91.27,89.25)\" d=\"M3,0A3,3 0 1,1 0,-3A3,3 0 0,1 3,0Z\" style=\"opacity: 1; stroke-width: 0px; fill: rgb(31, 119, 180); fill-opacity: 1;\"/><path class=\"point\" transform=\"translate(104.31,105.48)\" d=\"M3,0A3,3 0 1,1 0,-3A3,3 0 0,1 3,0Z\" style=\"opacity: 1; stroke-width: 0px; fill: rgb(31, 119, 180); fill-opacity: 1;\"/><path class=\"point\" transform=\"translate(171.99,78.36)\" d=\"M3,0A3,3 0 1,1 0,-3A3,3 0 0,1 3,0Z\" style=\"opacity: 1; stroke-width: 0px; fill: rgb(31, 119, 180); fill-opacity: 1;\"/><path class=\"point\" transform=\"translate(99.47,89.74)\" d=\"M3,0A3,3 0 1,1 0,-3A3,3 0 0,1 3,0Z\" style=\"opacity: 1; stroke-width: 0px; fill: rgb(31, 119, 180); fill-opacity: 1;\"/><path class=\"point\" transform=\"translate(61.53,104.71)\" d=\"M3,0A3,3 0 1,1 0,-3A3,3 0 0,1 3,0Z\" style=\"opacity: 1; stroke-width: 0px; fill: rgb(31, 119, 180); fill-opacity: 1;\"/><path class=\"point\" transform=\"translate(75.26,84.57)\" d=\"M3,0A3,3 0 1,1 0,-3A3,3 0 0,1 3,0Z\" style=\"opacity: 1; stroke-width: 0px; fill: rgb(31, 119, 180); fill-opacity: 1;\"/><path class=\"point\" transform=\"translate(137.21,98.92)\" d=\"M3,0A3,3 0 1,1 0,-3A3,3 0 0,1 3,0Z\" style=\"opacity: 1; stroke-width: 0px; fill: rgb(31, 119, 180); fill-opacity: 1;\"/><path class=\"point\" transform=\"translate(78.46,86.02)\" d=\"M3,0A3,3 0 1,1 0,-3A3,3 0 0,1 3,0Z\" style=\"opacity: 1; stroke-width: 0px; fill: rgb(31, 119, 180); fill-opacity: 1;\"/><path class=\"point\" transform=\"translate(119.25,106.7)\" d=\"M3,0A3,3 0 1,1 0,-3A3,3 0 0,1 3,0Z\" style=\"opacity: 1; stroke-width: 0px; fill: rgb(31, 119, 180); fill-opacity: 1;\"/><path class=\"point\" transform=\"translate(144.01,102.02)\" d=\"M3,0A3,3 0 1,1 0,-3A3,3 0 0,1 3,0Z\" style=\"opacity: 1; stroke-width: 0px; fill: rgb(31, 119, 180); fill-opacity: 1;\"/><path class=\"point\" transform=\"translate(199.79,111.93)\" d=\"M3,0A3,3 0 1,1 0,-3A3,3 0 0,1 3,0Z\" style=\"opacity: 1; stroke-width: 0px; fill: rgb(31, 119, 180); fill-opacity: 1;\"/><path class=\"point\" transform=\"translate(214.63,108.98)\" d=\"M3,0A3,3 0 1,1 0,-3A3,3 0 0,1 3,0Z\" style=\"opacity: 1; stroke-width: 0px; fill: rgb(31, 119, 180); fill-opacity: 1;\"/><path class=\"point\" transform=\"translate(100.59,102.23)\" d=\"M3,0A3,3 0 1,1 0,-3A3,3 0 0,1 3,0Z\" style=\"opacity: 1; stroke-width: 0px; fill: rgb(31, 119, 180); fill-opacity: 1;\"/><path class=\"point\" transform=\"translate(114.63,112.09)\" d=\"M3,0A3,3 0 1,1 0,-3A3,3 0 0,1 3,0Z\" style=\"opacity: 1; stroke-width: 0px; fill: rgb(31, 119, 180); fill-opacity: 1;\"/><path class=\"point\" transform=\"translate(190.47,112.53)\" d=\"M3,0A3,3 0 1,1 0,-3A3,3 0 0,1 3,0Z\" style=\"opacity: 1; stroke-width: 0px; fill: rgb(31, 119, 180); fill-opacity: 1;\"/><path class=\"point\" transform=\"translate(198.74,101.94)\" d=\"M3,0A3,3 0 1,1 0,-3A3,3 0 0,1 3,0Z\" style=\"opacity: 1; stroke-width: 0px; fill: rgb(31, 119, 180); fill-opacity: 1;\"/><path class=\"point\" transform=\"translate(68.39,91.13)\" d=\"M3,0A3,3 0 1,1 0,-3A3,3 0 0,1 3,0Z\" style=\"opacity: 1; stroke-width: 0px; fill: rgb(31, 119, 180); fill-opacity: 1;\"/><path class=\"point\" transform=\"translate(46.1,83.16)\" d=\"M3,0A3,3 0 1,1 0,-3A3,3 0 0,1 3,0Z\" style=\"opacity: 1; stroke-width: 0px; fill: rgb(31, 119, 180); fill-opacity: 1;\"/><path class=\"point\" transform=\"translate(131.63,105.51)\" d=\"M3,0A3,3 0 1,1 0,-3A3,3 0 0,1 3,0Z\" style=\"opacity: 1; stroke-width: 0px; fill: rgb(31, 119, 180); fill-opacity: 1;\"/><path class=\"point\" transform=\"translate(189.79,126.75)\" d=\"M3,0A3,3 0 1,1 0,-3A3,3 0 0,1 3,0Z\" style=\"opacity: 1; stroke-width: 0px; fill: rgb(31, 119, 180); fill-opacity: 1;\"/><path class=\"point\" transform=\"translate(136.32,85.85)\" d=\"M3,0A3,3 0 1,1 0,-3A3,3 0 0,1 3,0Z\" style=\"opacity: 1; stroke-width: 0px; fill: rgb(31, 119, 180); fill-opacity: 1;\"/><path class=\"point\" transform=\"translate(102.1,103.21)\" d=\"M3,0A3,3 0 1,1 0,-3A3,3 0 0,1 3,0Z\" style=\"opacity: 1; stroke-width: 0px; fill: rgb(31, 119, 180); fill-opacity: 1;\"/><path class=\"point\" transform=\"translate(115.94,74.75)\" d=\"M3,0A3,3 0 1,1 0,-3A3,3 0 0,1 3,0Z\" style=\"opacity: 1; stroke-width: 0px; fill: rgb(31, 119, 180); fill-opacity: 1;\"/><path class=\"point\" transform=\"translate(146.09,76.6)\" d=\"M3,0A3,3 0 1,1 0,-3A3,3 0 0,1 3,0Z\" style=\"opacity: 1; stroke-width: 0px; fill: rgb(31, 119, 180); fill-opacity: 1;\"/><path class=\"point\" transform=\"translate(95.21,85.42)\" d=\"M3,0A3,3 0 1,1 0,-3A3,3 0 0,1 3,0Z\" style=\"opacity: 1; stroke-width: 0px; fill: rgb(31, 119, 180); fill-opacity: 1;\"/><path class=\"point\" transform=\"translate(150.58,104.6)\" d=\"M3,0A3,3 0 1,1 0,-3A3,3 0 0,1 3,0Z\" style=\"opacity: 1; stroke-width: 0px; fill: rgb(31, 119, 180); fill-opacity: 1;\"/><path class=\"point\" transform=\"translate(156.15,91.54)\" d=\"M3,0A3,3 0 1,1 0,-3A3,3 0 0,1 3,0Z\" style=\"opacity: 1; stroke-width: 0px; fill: rgb(31, 119, 180); fill-opacity: 1;\"/><path class=\"point\" transform=\"translate(177.72,82.41)\" d=\"M3,0A3,3 0 1,1 0,-3A3,3 0 0,1 3,0Z\" style=\"opacity: 1; stroke-width: 0px; fill: rgb(31, 119, 180); fill-opacity: 1;\"/><path class=\"point\" transform=\"translate(167.1,76.5)\" d=\"M3,0A3,3 0 1,1 0,-3A3,3 0 0,1 3,0Z\" style=\"opacity: 1; stroke-width: 0px; fill: rgb(31, 119, 180); fill-opacity: 1;\"/><path class=\"point\" transform=\"translate(76.56,91.2)\" d=\"M3,0A3,3 0 1,1 0,-3A3,3 0 0,1 3,0Z\" style=\"opacity: 1; stroke-width: 0px; fill: rgb(31, 119, 180); fill-opacity: 1;\"/><path class=\"point\" transform=\"translate(110.46,93.48)\" d=\"M3,0A3,3 0 1,1 0,-3A3,3 0 0,1 3,0Z\" style=\"opacity: 1; stroke-width: 0px; fill: rgb(31, 119, 180); fill-opacity: 1;\"/><path class=\"point\" transform=\"translate(126.44,89.72)\" d=\"M3,0A3,3 0 1,1 0,-3A3,3 0 0,1 3,0Z\" style=\"opacity: 1; stroke-width: 0px; fill: rgb(31, 119, 180); fill-opacity: 1;\"/><path class=\"point\" transform=\"translate(129.74,82.55)\" d=\"M3,0A3,3 0 1,1 0,-3A3,3 0 0,1 3,0Z\" style=\"opacity: 1; stroke-width: 0px; fill: rgb(31, 119, 180); fill-opacity: 1;\"/><path class=\"point\" transform=\"translate(93.28,98.67)\" d=\"M3,0A3,3 0 1,1 0,-3A3,3 0 0,1 3,0Z\" style=\"opacity: 1; stroke-width: 0px; fill: rgb(31, 119, 180); fill-opacity: 1;\"/><path class=\"point\" transform=\"translate(39.28,80.67)\" d=\"M3,0A3,3 0 1,1 0,-3A3,3 0 0,1 3,0Z\" style=\"opacity: 1; stroke-width: 0px; fill: rgb(31, 119, 180); fill-opacity: 1;\"/><path class=\"point\" transform=\"translate(65.3,109.14)\" d=\"M3,0A3,3 0 1,1 0,-3A3,3 0 0,1 3,0Z\" style=\"opacity: 1; stroke-width: 0px; fill: rgb(31, 119, 180); fill-opacity: 1;\"/><path class=\"point\" transform=\"translate(95.22,106.35)\" d=\"M3,0A3,3 0 1,1 0,-3A3,3 0 0,1 3,0Z\" style=\"opacity: 1; stroke-width: 0px; fill: rgb(31, 119, 180); fill-opacity: 1;\"/><path class=\"point\" transform=\"translate(48.52,90.05)\" d=\"M3,0A3,3 0 1,1 0,-3A3,3 0 0,1 3,0Z\" style=\"opacity: 1; stroke-width: 0px; fill: rgb(31, 119, 180); fill-opacity: 1;\"/><path class=\"point\" transform=\"translate(76.39,99.62)\" d=\"M3,0A3,3 0 1,1 0,-3A3,3 0 0,1 3,0Z\" style=\"opacity: 1; stroke-width: 0px; fill: rgb(31, 119, 180); fill-opacity: 1;\"/><path class=\"point\" transform=\"translate(67.25,83.45)\" d=\"M3,0A3,3 0 1,1 0,-3A3,3 0 0,1 3,0Z\" style=\"opacity: 1; stroke-width: 0px; fill: rgb(31, 119, 180); fill-opacity: 1;\"/><path class=\"point\" transform=\"translate(56.16,82.75)\" d=\"M3,0A3,3 0 1,1 0,-3A3,3 0 0,1 3,0Z\" style=\"opacity: 1; stroke-width: 0px; fill: rgb(31, 119, 180); fill-opacity: 1;\"/><path class=\"point\" transform=\"translate(59.74,85.17)\" d=\"M3,0A3,3 0 1,1 0,-3A3,3 0 0,1 3,0Z\" style=\"opacity: 1; stroke-width: 0px; fill: rgb(31, 119, 180); fill-opacity: 1;\"/><path class=\"point\" transform=\"translate(72.94,85.5)\" d=\"M3,0A3,3 0 1,1 0,-3A3,3 0 0,1 3,0Z\" style=\"opacity: 1; stroke-width: 0px; fill: rgb(31, 119, 180); fill-opacity: 1;\"/><path class=\"point\" transform=\"translate(108.52,88.27)\" d=\"M3,0A3,3 0 1,1 0,-3A3,3 0 0,1 3,0Z\" style=\"opacity: 1; stroke-width: 0px; fill: rgb(31, 119, 180); fill-opacity: 1;\"/><path class=\"point\" transform=\"translate(119.5,92.84)\" d=\"M3,0A3,3 0 1,1 0,-3A3,3 0 0,1 3,0Z\" style=\"opacity: 1; stroke-width: 0px; fill: rgb(31, 119, 180); fill-opacity: 1;\"/><path class=\"point\" transform=\"translate(95.48,81.33)\" d=\"M3,0A3,3 0 1,1 0,-3A3,3 0 0,1 3,0Z\" style=\"opacity: 1; stroke-width: 0px; fill: rgb(31, 119, 180); fill-opacity: 1;\"/><path class=\"point\" transform=\"translate(202.85,80.51)\" d=\"M3,0A3,3 0 1,1 0,-3A3,3 0 0,1 3,0Z\" style=\"opacity: 1; stroke-width: 0px; fill: rgb(31, 119, 180); fill-opacity: 1;\"/><path class=\"point\" transform=\"translate(197.8,90.54)\" d=\"M3,0A3,3 0 1,1 0,-3A3,3 0 0,1 3,0Z\" style=\"opacity: 1; stroke-width: 0px; fill: rgb(31, 119, 180); fill-opacity: 1;\"/><path class=\"point\" transform=\"translate(133.47,79.67)\" d=\"M3,0A3,3 0 1,1 0,-3A3,3 0 0,1 3,0Z\" style=\"opacity: 1; stroke-width: 0px; fill: rgb(31, 119, 180); fill-opacity: 1;\"/><path class=\"point\" transform=\"translate(117.13,83.37)\" d=\"M3,0A3,3 0 1,1 0,-3A3,3 0 0,1 3,0Z\" style=\"opacity: 1; stroke-width: 0px; fill: rgb(31, 119, 180); fill-opacity: 1;\"/><path class=\"point\" transform=\"translate(158.23,100.57)\" d=\"M3,0A3,3 0 1,1 0,-3A3,3 0 0,1 3,0Z\" style=\"opacity: 1; stroke-width: 0px; fill: rgb(31, 119, 180); fill-opacity: 1;\"/><path class=\"point\" transform=\"translate(171.37,100.36)\" d=\"M3,0A3,3 0 1,1 0,-3A3,3 0 0,1 3,0Z\" style=\"opacity: 1; stroke-width: 0px; fill: rgb(31, 119, 180); fill-opacity: 1;\"/><path class=\"point\" transform=\"translate(149.33,92.37)\" d=\"M3,0A3,3 0 1,1 0,-3A3,3 0 0,1 3,0Z\" style=\"opacity: 1; stroke-width: 0px; fill: rgb(31, 119, 180); fill-opacity: 1;\"/><path class=\"point\" transform=\"translate(55.2,90.9)\" d=\"M3,0A3,3 0 1,1 0,-3A3,3 0 0,1 3,0Z\" style=\"opacity: 1; stroke-width: 0px; fill: rgb(31, 119, 180); fill-opacity: 1;\"/><path class=\"point\" transform=\"translate(71.02,89.67)\" d=\"M3,0A3,3 0 1,1 0,-3A3,3 0 0,1 3,0Z\" style=\"opacity: 1; stroke-width: 0px; fill: rgb(31, 119, 180); fill-opacity: 1;\"/><path class=\"point\" transform=\"translate(80.93,102.54)\" d=\"M3,0A3,3 0 1,1 0,-3A3,3 0 0,1 3,0Z\" style=\"opacity: 1; stroke-width: 0px; fill: rgb(31, 119, 180); fill-opacity: 1;\"/><path class=\"point\" transform=\"translate(70.27,101.85)\" d=\"M3,0A3,3 0 1,1 0,-3A3,3 0 0,1 3,0Z\" style=\"opacity: 1; stroke-width: 0px; fill: rgb(31, 119, 180); fill-opacity: 1;\"/><path class=\"point\" transform=\"translate(106.92,117.27)\" d=\"M3,0A3,3 0 1,1 0,-3A3,3 0 0,1 3,0Z\" style=\"opacity: 1; stroke-width: 0px; fill: rgb(31, 119, 180); fill-opacity: 1;\"/><path class=\"point\" transform=\"translate(94.05,84.06)\" d=\"M3,0A3,3 0 1,1 0,-3A3,3 0 0,1 3,0Z\" style=\"opacity: 1; stroke-width: 0px; fill: rgb(31, 119, 180); fill-opacity: 1;\"/><path class=\"point\" transform=\"translate(120.87,90.31)\" d=\"M3,0A3,3 0 1,1 0,-3A3,3 0 0,1 3,0Z\" style=\"opacity: 1; stroke-width: 0px; fill: rgb(31, 119, 180); fill-opacity: 1;\"/><path class=\"point\" transform=\"translate(120.87,72.52)\" d=\"M3,0A3,3 0 1,1 0,-3A3,3 0 0,1 3,0Z\" style=\"opacity: 1; stroke-width: 0px; fill: rgb(31, 119, 180); fill-opacity: 1;\"/><path class=\"point\" transform=\"translate(165.37,47.3)\" d=\"M3,0A3,3 0 1,1 0,-3A3,3 0 0,1 3,0Z\" style=\"opacity: 1; stroke-width: 0px; fill: rgb(31, 119, 180); fill-opacity: 1;\"/><path class=\"point\" transform=\"translate(124.19,49.05)\" d=\"M3,0A3,3 0 1,1 0,-3A3,3 0 0,1 3,0Z\" style=\"opacity: 1; stroke-width: 0px; fill: rgb(31, 119, 180); fill-opacity: 1;\"/><path class=\"point\" transform=\"translate(162.1,85.08)\" d=\"M3,0A3,3 0 1,1 0,-3A3,3 0 0,1 3,0Z\" style=\"opacity: 1; stroke-width: 0px; fill: rgb(31, 119, 180); fill-opacity: 1;\"/><path class=\"point\" transform=\"translate(187.22,50.04)\" d=\"M3,0A3,3 0 1,1 0,-3A3,3 0 0,1 3,0Z\" style=\"opacity: 1; stroke-width: 0px; fill: rgb(31, 119, 180); fill-opacity: 1;\"/><path class=\"point\" transform=\"translate(226.02,65.03)\" d=\"M3,0A3,3 0 1,1 0,-3A3,3 0 0,1 3,0Z\" style=\"opacity: 1; stroke-width: 0px; fill: rgb(31, 119, 180); fill-opacity: 1;\"/><path class=\"point\" transform=\"translate(230.66,64.51)\" d=\"M3,0A3,3 0 1,1 0,-3A3,3 0 0,1 3,0Z\" style=\"opacity: 1; stroke-width: 0px; fill: rgb(31, 119, 180); fill-opacity: 1;\"/><path class=\"point\" transform=\"translate(154.87,75.4)\" d=\"M3,0A3,3 0 1,1 0,-3A3,3 0 0,1 3,0Z\" style=\"opacity: 1; stroke-width: 0px; fill: rgb(31, 119, 180); fill-opacity: 1;\"/><path class=\"point\" transform=\"translate(121,86.06)\" d=\"M3,0A3,3 0 1,1 0,-3A3,3 0 0,1 3,0Z\" style=\"opacity: 1; stroke-width: 0px; fill: rgb(31, 119, 180); fill-opacity: 1;\"/><path class=\"point\" transform=\"translate(53.01,93.28)\" d=\"M3,0A3,3 0 1,1 0,-3A3,3 0 0,1 3,0Z\" style=\"opacity: 1; stroke-width: 0px; fill: rgb(31, 119, 180); fill-opacity: 1;\"/><path class=\"point\" transform=\"translate(58.41,95.01)\" d=\"M3,0A3,3 0 1,1 0,-3A3,3 0 0,1 3,0Z\" style=\"opacity: 1; stroke-width: 0px; fill: rgb(31, 119, 180); fill-opacity: 1;\"/><path class=\"point\" transform=\"translate(55.86,100.74)\" d=\"M3,0A3,3 0 1,1 0,-3A3,3 0 0,1 3,0Z\" style=\"opacity: 1; stroke-width: 0px; fill: rgb(31, 119, 180); fill-opacity: 1;\"/><path class=\"point\" transform=\"translate(30.77,56.34)\" d=\"M3,0A3,3 0 1,1 0,-3A3,3 0 0,1 3,0Z\" style=\"opacity: 1; stroke-width: 0px; fill: rgb(31, 119, 180); fill-opacity: 1;\"/><path class=\"point\" transform=\"translate(78.23,88.23)\" d=\"M3,0A3,3 0 1,1 0,-3A3,3 0 0,1 3,0Z\" style=\"opacity: 1; stroke-width: 0px; fill: rgb(31, 119, 180); fill-opacity: 1;\"/><path class=\"point\" transform=\"translate(93.05,91.73)\" d=\"M3,0A3,3 0 1,1 0,-3A3,3 0 0,1 3,0Z\" style=\"opacity: 1; stroke-width: 0px; fill: rgb(31, 119, 180); fill-opacity: 1;\"/><path class=\"point\" transform=\"translate(98.46,97)\" d=\"M3,0A3,3 0 1,1 0,-3A3,3 0 0,1 3,0Z\" style=\"opacity: 1; stroke-width: 0px; fill: rgb(31, 119, 180); fill-opacity: 1;\"/><path class=\"point\" transform=\"translate(56.36,83.52)\" d=\"M3,0A3,3 0 1,1 0,-3A3,3 0 0,1 3,0Z\" style=\"opacity: 1; stroke-width: 0px; fill: rgb(31, 119, 180); fill-opacity: 1;\"/><path class=\"point\" transform=\"translate(133.7,79.19)\" d=\"M3,0A3,3 0 1,1 0,-3A3,3 0 0,1 3,0Z\" style=\"opacity: 1; stroke-width: 0px; fill: rgb(31, 119, 180); fill-opacity: 1;\"/><path class=\"point\" transform=\"translate(17.55,71.08)\" d=\"M3,0A3,3 0 1,1 0,-3A3,3 0 0,1 3,0Z\" style=\"opacity: 1; stroke-width: 0px; fill: rgb(31, 119, 180); fill-opacity: 1;\"/><path class=\"point\" transform=\"translate(61.83,64.99)\" d=\"M3,0A3,3 0 1,1 0,-3A3,3 0 0,1 3,0Z\" style=\"opacity: 1; stroke-width: 0px; fill: rgb(31, 119, 180); fill-opacity: 1;\"/><path class=\"point\" transform=\"translate(87.58,85.11)\" d=\"M3,0A3,3 0 1,1 0,-3A3,3 0 0,1 3,0Z\" style=\"opacity: 1; stroke-width: 0px; fill: rgb(31, 119, 180); fill-opacity: 1;\"/><path class=\"point\" transform=\"translate(28.45,72.87)\" d=\"M3,0A3,3 0 1,1 0,-3A3,3 0 0,1 3,0Z\" style=\"opacity: 1; stroke-width: 0px; fill: rgb(31, 119, 180); fill-opacity: 1;\"/><path class=\"point\" transform=\"translate(21.64,89)\" d=\"M3,0A3,3 0 1,1 0,-3A3,3 0 0,1 3,0Z\" style=\"opacity: 1; stroke-width: 0px; fill: rgb(31, 119, 180); fill-opacity: 1;\"/><path class=\"point\" transform=\"translate(92.58,90.52)\" d=\"M3,0A3,3 0 1,1 0,-3A3,3 0 0,1 3,0Z\" style=\"opacity: 1; stroke-width: 0px; fill: rgb(31, 119, 180); fill-opacity: 1;\"/><path class=\"point\" transform=\"translate(84.12,85.72)\" d=\"M3,0A3,3 0 1,1 0,-3A3,3 0 0,1 3,0Z\" style=\"opacity: 1; stroke-width: 0px; fill: rgb(31, 119, 180); fill-opacity: 1;\"/><path class=\"point\" transform=\"translate(179.88,86.08)\" d=\"M3,0A3,3 0 1,1 0,-3A3,3 0 0,1 3,0Z\" style=\"opacity: 1; stroke-width: 0px; fill: rgb(31, 119, 180); fill-opacity: 1;\"/><path class=\"point\" transform=\"translate(75.3,66.08)\" d=\"M3,0A3,3 0 1,1 0,-3A3,3 0 0,1 3,0Z\" style=\"opacity: 1; stroke-width: 0px; fill: rgb(31, 119, 180); fill-opacity: 1;\"/><path class=\"point\" transform=\"translate(31.93,75.74)\" d=\"M3,0A3,3 0 1,1 0,-3A3,3 0 0,1 3,0Z\" style=\"opacity: 1; stroke-width: 0px; fill: rgb(31, 119, 180); fill-opacity: 1;\"/><path class=\"point\" transform=\"translate(62.5,85.59)\" d=\"M3,0A3,3 0 1,1 0,-3A3,3 0 0,1 3,0Z\" style=\"opacity: 1; stroke-width: 0px; fill: rgb(31, 119, 180); fill-opacity: 1;\"/><path class=\"point\" transform=\"translate(147.82,78.3)\" d=\"M3,0A3,3 0 1,1 0,-3A3,3 0 0,1 3,0Z\" style=\"opacity: 1; stroke-width: 0px; fill: rgb(31, 119, 180); fill-opacity: 1;\"/><path class=\"point\" transform=\"translate(159.26,113.1)\" d=\"M3,0A3,3 0 1,1 0,-3A3,3 0 0,1 3,0Z\" style=\"opacity: 1; stroke-width: 0px; fill: rgb(31, 119, 180); fill-opacity: 1;\"/><path class=\"point\" transform=\"translate(163.63,73.1)\" d=\"M3,0A3,3 0 1,1 0,-3A3,3 0 0,1 3,0Z\" style=\"opacity: 1; stroke-width: 0px; fill: rgb(31, 119, 180); fill-opacity: 1;\"/><path class=\"point\" transform=\"translate(110.46,93.48)\" d=\"M3,0A3,3 0 1,1 0,-3A3,3 0 0,1 3,0Z\" style=\"opacity: 1; stroke-width: 0px; fill: rgb(31, 119, 180); fill-opacity: 1;\"/><path class=\"point\" transform=\"translate(89.8,95.27)\" d=\"M3,0A3,3 0 1,1 0,-3A3,3 0 0,1 3,0Z\" style=\"opacity: 1; stroke-width: 0px; fill: rgb(31, 119, 180); fill-opacity: 1;\"/><path class=\"point\" transform=\"translate(51.99,93.45)\" d=\"M3,0A3,3 0 1,1 0,-3A3,3 0 0,1 3,0Z\" style=\"opacity: 1; stroke-width: 0px; fill: rgb(31, 119, 180); fill-opacity: 1;\"/><path class=\"point\" transform=\"translate(56.16,82.75)\" d=\"M3,0A3,3 0 1,1 0,-3A3,3 0 0,1 3,0Z\" style=\"opacity: 1; stroke-width: 0px; fill: rgb(31, 119, 180); fill-opacity: 1;\"/><path class=\"point\" transform=\"translate(112,91.67)\" d=\"M3,0A3,3 0 1,1 0,-3A3,3 0 0,1 3,0Z\" style=\"opacity: 1; stroke-width: 0px; fill: rgb(31, 119, 180); fill-opacity: 1;\"/><path class=\"point\" transform=\"translate(202.85,80.51)\" d=\"M3,0A3,3 0 1,1 0,-3A3,3 0 0,1 3,0Z\" style=\"opacity: 1; stroke-width: 0px; fill: rgb(31, 119, 180); fill-opacity: 1;\"/><path class=\"point\" transform=\"translate(158.01,100.87)\" d=\"M3,0A3,3 0 1,1 0,-3A3,3 0 0,1 3,0Z\" style=\"opacity: 1; stroke-width: 0px; fill: rgb(31, 119, 180); fill-opacity: 1;\"/><path class=\"point\" transform=\"translate(86.14,107.64)\" d=\"M3,0A3,3 0 1,1 0,-3A3,3 0 0,1 3,0Z\" style=\"opacity: 1; stroke-width: 0px; fill: rgb(31, 119, 180); fill-opacity: 1;\"/><path class=\"point\" transform=\"translate(82.43,113.74)\" d=\"M3,0A3,3 0 1,1 0,-3A3,3 0 0,1 3,0Z\" style=\"opacity: 1; stroke-width: 0px; fill: rgb(31, 119, 180); fill-opacity: 1;\"/><path class=\"point\" transform=\"translate(143.45,94.62)\" d=\"M3,0A3,3 0 1,1 0,-3A3,3 0 0,1 3,0Z\" style=\"opacity: 1; stroke-width: 0px; fill: rgb(31, 119, 180); fill-opacity: 1;\"/><path class=\"point\" transform=\"translate(184.68,107.18)\" d=\"M3,0A3,3 0 1,1 0,-3A3,3 0 0,1 3,0Z\" style=\"opacity: 1; stroke-width: 0px; fill: rgb(31, 119, 180); fill-opacity: 1;\"/><path class=\"point\" transform=\"translate(258.45,91.71)\" d=\"M3,0A3,3 0 1,1 0,-3A3,3 0 0,1 3,0Z\" style=\"opacity: 1; stroke-width: 0px; fill: rgb(31, 119, 180); fill-opacity: 1;\"/><path class=\"point\" transform=\"translate(77.32,117.08)\" d=\"M3,0A3,3 0 1,1 0,-3A3,3 0 0,1 3,0Z\" style=\"opacity: 1; stroke-width: 0px; fill: rgb(31, 119, 180); fill-opacity: 1;\"/><path class=\"point\" transform=\"translate(35.98,61.44)\" d=\"M3,0A3,3 0 1,1 0,-3A3,3 0 0,1 3,0Z\" style=\"opacity: 1; stroke-width: 0px; fill: rgb(31, 119, 180); fill-opacity: 1;\"/><path class=\"point\" transform=\"translate(103.67,102.1)\" d=\"M3,0A3,3 0 1,1 0,-3A3,3 0 0,1 3,0Z\" style=\"opacity: 1; stroke-width: 0px; fill: rgb(31, 119, 180); fill-opacity: 1;\"/><path class=\"point\" transform=\"translate(145.86,91.09)\" d=\"M3,0A3,3 0 1,1 0,-3A3,3 0 0,1 3,0Z\" style=\"opacity: 1; stroke-width: 0px; fill: rgb(31, 119, 180); fill-opacity: 1;\"/><path class=\"point\" transform=\"translate(61.83,64.99)\" d=\"M3,0A3,3 0 1,1 0,-3A3,3 0 0,1 3,0Z\" style=\"opacity: 1; stroke-width: 0px; fill: rgb(31, 119, 180); fill-opacity: 1;\"/><path class=\"point\" transform=\"translate(98,95.31)\" d=\"M3,0A3,3 0 1,1 0,-3A3,3 0 0,1 3,0Z\" style=\"opacity: 1; stroke-width: 0px; fill: rgb(31, 119, 180); fill-opacity: 1;\"/><path class=\"point\" transform=\"translate(78.77,69.48)\" d=\"M3,0A3,3 0 1,1 0,-3A3,3 0 0,1 3,0Z\" style=\"opacity: 1; stroke-width: 0px; fill: rgb(31, 119, 180); fill-opacity: 1;\"/></g><g class=\"text\"/></g></g></g><g class=\"overplot\"/><path class=\"xlines-above crisp\" d=\"M63,191.5H340\" style=\"fill: none; stroke-width: 1px; stroke: rgb(36, 36, 36); stroke-opacity: 1;\"/><path class=\"ylines-above crisp\" d=\"M63.5,10V191\" style=\"fill: none; stroke-width: 1px; stroke: rgb(36, 36, 36); stroke-opacity: 1;\"/><g class=\"overlines-above\"/><g class=\"xaxislayer-above\"><path class=\"xtick ticks crisp\" d=\"M0,192v5\" transform=\"translate(129.20999999999998,0)\" style=\"stroke: rgb(68, 68, 68); stroke-opacity: 1; stroke-width: 1px;\"/><path class=\"xtick ticks crisp\" d=\"M0,192v5\" transform=\"translate(206.25,0)\" style=\"stroke: rgb(68, 68, 68); stroke-opacity: 1; stroke-width: 1px;\"/><path class=\"xtick ticks crisp\" d=\"M0,192v5\" transform=\"translate(283.3,0)\" style=\"stroke: rgb(68, 68, 68); stroke-opacity: 1; stroke-width: 1px;\"/><g class=\"xtick\"><text text-anchor=\"middle\" x=\"0\" y=\"211.4\" transform=\"translate(129.20999999999998,0)\" style=\"font-family: 'Open Sans', verdana, arial, sans-serif; font-size: 12px; fill: rgb(36, 36, 36); fill-opacity: 1; white-space: pre; opacity: 1;\">10</text></g><g class=\"xtick\"><text text-anchor=\"middle\" x=\"0\" y=\"211.4\" style=\"font-family: 'Open Sans', verdana, arial, sans-serif; font-size: 12px; fill: rgb(36, 36, 36); fill-opacity: 1; white-space: pre; opacity: 1;\" transform=\"translate(206.25,0)\">20</text></g><g class=\"xtick\"><text text-anchor=\"middle\" x=\"0\" y=\"211.4\" style=\"font-family: 'Open Sans', verdana, arial, sans-serif; font-size: 12px; fill: rgb(36, 36, 36); fill-opacity: 1; white-space: pre; opacity: 1;\" transform=\"translate(283.3,0)\">30</text></g></g><g class=\"yaxislayer-above\"><path class=\"ytick ticks crisp\" d=\"M63,0h-5\" transform=\"translate(0,175.92)\" style=\"stroke: rgb(68, 68, 68); stroke-opacity: 1; stroke-width: 1px;\"/><path class=\"ytick ticks crisp\" d=\"M63,0h-5\" transform=\"translate(0,138.21)\" style=\"stroke: rgb(68, 68, 68); stroke-opacity: 1; stroke-width: 1px;\"/><path class=\"ytick ticks crisp\" d=\"M63,0h-5\" transform=\"translate(0,100.5)\" style=\"stroke: rgb(68, 68, 68); stroke-opacity: 1; stroke-width: 1px;\"/><path class=\"ytick ticks crisp\" d=\"M63,0h-5\" transform=\"translate(0,62.79)\" style=\"stroke: rgb(68, 68, 68); stroke-opacity: 1; stroke-width: 1px;\"/><path class=\"ytick ticks crisp\" d=\"M63,0h-5\" transform=\"translate(0,25.08)\" style=\"stroke: rgb(68, 68, 68); stroke-opacity: 1; stroke-width: 1px;\"/><g class=\"ytick\"><text text-anchor=\"end\" x=\"55.6\" y=\"4.199999999999999\" transform=\"translate(0,175.92)\" style=\"font-family: 'Open Sans', verdana, arial, sans-serif; font-size: 12px; fill: rgb(36, 36, 36); fill-opacity: 1; white-space: pre; opacity: 1;\">−10</text></g><g class=\"ytick\"><text text-anchor=\"end\" x=\"55.6\" y=\"4.199999999999999\" style=\"font-family: 'Open Sans', verdana, arial, sans-serif; font-size: 12px; fill: rgb(36, 36, 36); fill-opacity: 1; white-space: pre; opacity: 1;\" transform=\"translate(0,138.21)\">−5</text></g><g class=\"ytick\"><text text-anchor=\"end\" x=\"55.6\" y=\"4.199999999999999\" style=\"font-family: 'Open Sans', verdana, arial, sans-serif; font-size: 12px; fill: rgb(36, 36, 36); fill-opacity: 1; white-space: pre; opacity: 1;\" transform=\"translate(0,100.5)\">0</text></g><g class=\"ytick\"><text text-anchor=\"end\" x=\"55.6\" y=\"4.199999999999999\" style=\"font-family: 'Open Sans', verdana, arial, sans-serif; font-size: 12px; fill: rgb(36, 36, 36); fill-opacity: 1; white-space: pre; opacity: 1;\" transform=\"translate(0,62.79)\">5</text></g><g class=\"ytick\"><text text-anchor=\"end\" x=\"55.6\" y=\"4.199999999999999\" style=\"font-family: 'Open Sans', verdana, arial, sans-serif; font-size: 12px; fill: rgb(36, 36, 36); fill-opacity: 1; white-space: pre; opacity: 1;\" transform=\"translate(0,25.08)\">10</text></g></g><g class=\"overaxes-above\"/></g></g><g class=\"polarlayer\"/><g class=\"smithlayer\"/><g class=\"ternarylayer\"/><g class=\"geolayer\"/><g class=\"funnelarealayer\"/><g class=\"pielayer\"/><g class=\"iciclelayer\"/><g class=\"treemaplayer\"/><g class=\"sunburstlayer\"/><g class=\"glimages\"/><defs id=\"topdefs-7e8b6f\"><g class=\"clips\"/></defs><g class=\"layer-above\"><g class=\"imagelayer\"/><g class=\"shapelayer\"><path data-index=\"0\" fill-rule=\"evenodd\" d=\"M64,100.5L340,100.5\" clip-path=\"url(#clip7e8b6fy)\" style=\"opacity: 1; stroke: rgb(0, 0, 0); stroke-opacity: 1; fill: rgb(0, 0, 0); fill-opacity: 1; stroke-dasharray: 9px, 9px; stroke-width: 2px;\"/></g></g><g class=\"infolayer\"><g class=\"g-gtitle\"/><g class=\"g-xtitle\"><text class=\"xtitle\" x=\"202\" y=\"239.70625\" text-anchor=\"middle\" style=\"font-family: 'Open Sans', verdana, arial, sans-serif; font-size: 14px; fill: rgb(36, 36, 36); opacity: 1; font-weight: normal; white-space: pre;\">predicted values</text></g><g class=\"g-ytitle\" transform=\"translate(4.7841796875,0)\"><text class=\"ytitle\" transform=\"rotate(-90,10.215625000000003,100.5)\" x=\"10.215625000000003\" y=\"100.5\" text-anchor=\"middle\" style=\"font-family: 'Open Sans', verdana, arial, sans-serif; font-size: 14px; fill: rgb(36, 36, 36); opacity: 1; font-weight: normal; white-space: pre;\">error</text></g></g></svg>"
      ]
     },
     "metadata": {},
     "output_type": "display_data"
    }
   ],
   "source": [
    "fig = px.scatter(y = error_2var, x=predicted_2var,\n",
    "                 labels={\"y\": \"error\", \"x\": \"predicted values\"},\n",
    "                 width=350, height=250)\n",
    "\n",
    "fig.update_yaxes(range=[-12, 12])\n",
    "fig.add_hline(0, line_color='black', line_width=2, line_dash='dash', opacity=1)\n",
    "\n",
    "fig.show()"
   ]
  },
  {
   "cell_type": "markdown",
   "metadata": {},
   "source": [
    "The residual plot appears to have no clear patterns, which indicates that the model fits pretty well. Notice also that the errors nearly all fall within -4 and +4 ppm, a smaller range than in the simple linear model. And, we find the standard deviation of the residuals is quite a bit smaller: "
   ]
  },
  {
   "cell_type": "code",
   "execution_count": 12,
   "metadata": {},
   "outputs": [
    {
     "data": {
      "text/plain": [
       "1.8211427707294048"
      ]
     },
     "execution_count": 12,
     "metadata": {},
     "output_type": "execute_result"
    }
   ],
   "source": [
    "error_2var.std()"
   ]
  },
  {
   "cell_type": "markdown",
   "metadata": {},
   "source": [
    "The residual standard deviation has been reduced from 2.8 ppm in the one variable model to 1.8 ppm, a good size reduction. "
   ]
  },
  {
   "cell_type": "markdown",
   "metadata": {},
   "source": [
    "The correlation coefficient can't capture the strength of a linear association model when we have more than one explanatory variable. Instead, we adapt the Mean Square Error to give us a sense of model fit. In the next section, we describe how to fit a multiple linear model and use the MSE to assess fit. "
   ]
  }
 ],
 "metadata": {
  "kernelspec": {
   "display_name": "Python 3",
   "language": "python",
   "name": "python3"
  },
  "language_info": {
   "codemirror_mode": {
    "name": "ipython",
    "version": 3
   },
   "file_extension": ".py",
   "mimetype": "text/x-python",
   "name": "python",
   "nbconvert_exporter": "python",
   "pygments_lexer": "ipython3",
   "version": "3.9.4"
  }
 },
 "nbformat": 4,
 "nbformat_minor": 4
}
