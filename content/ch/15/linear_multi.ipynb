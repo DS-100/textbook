{
 "cells": [
  {
   "cell_type": "code",
   "execution_count": 2,
   "metadata": {
    "tags": [
     "remove-cell"
    ]
   },
   "outputs": [],
   "source": [
    "import sys\n",
    "import os\n",
    "if not any(path.endswith('textbook') for path in sys.path):\n",
    "    sys.path.append(os.path.abspath('../../..'))\n",
    "from textbook_utils import *"
   ]
  },
  {
   "cell_type": "code",
   "execution_count": 3,
   "metadata": {
    "tags": [
     "remove-cell"
    ]
   },
   "outputs": [],
   "source": [
    "csv_file = 'data/Full24hrdataset.csv'\n",
    "usecols = ['Date', 'ID', 'region', 'PM25FM', 'PM25cf1', 'RH']\n",
    "full = (pd.read_csv(csv_file, usecols=usecols, parse_dates=['Date'])\n",
    "        .dropna())\n",
    "full.columns = ['date', 'id', 'region', 'pm25aqs', 'pm25pa', 'rh']\n",
    "\n",
    "bad_dates = ['2019-08-21', '2019-08-22', '2019-09-24']\n",
    "GA = full.loc[(full['id'] == 'GA1') & (~full['date'].isin(bad_dates)) , :]"
   ]
  },
  {
   "cell_type": "markdown",
   "metadata": {},
   "source": [
    "(sec:linear_multi)=\n",
    "# Multiple Linear Model"
   ]
  },
  {
   "cell_type": "markdown",
   "metadata": {},
   "source": [
    "So far in this chapter, we've used a single input variable to predict an outcome variable.\n",
    "Now, we introduce the *multiple linear model* that uses\n",
    "more than one feature to predict (or describe or explain) the outcome.\n",
    "Having multiple explanatory features can improve our model's fit to the data and improve predictions."
   ]
  },
  {
   "cell_type": "markdown",
   "metadata": {},
   "source": [
    "We start by generalizing from a simple linear model to one that includes a second explanatory variable, called $v$. This model is linear in both $x$ and $v$; meaning that for a pair of values for $x$ and $v$, we can describe, explain, or predict $y$ by the linear combination: \n",
    "\n",
    "$$ y \\approx \\theta_0 + \\theta_1 x + \\theta_2 v.$$\n",
    "\n",
    "Notice that for a particular value of $v$, say $v^\\star$, we can re-express the above equation as\n",
    "\n",
    "$$ y \\approx (\\theta_0 + \\theta_2 v^\\star) ~+~ \\theta_1 x.$$\n",
    "\n",
    "In other words, when we hold $v$ constant at $v^\\star$, we have a simple linear relation between $x$ and $y$ with slope $\\theta_1$ and intercept $\\theta_0 + \\theta_2 v^\\star$. \n",
    "For a different value of $v$, say $v^\\dagger$,  we again have a simple linear relationship between $x$ and $y$. The slope for $x$ remains the same and the only change is the intercept, which is now $\\theta_0 + \\theta_2v^\\dagger$."
   ]
  },
  {
   "cell_type": "markdown",
   "metadata": {},
   "source": [
    "With multiple linear regression, we need to remember to interpret the coefficient $\\theta_1$ of $x$ in the presence of the other variables in the model. Holding fixed the values of the other variables in the model (that's just $v$ in this case), an increase of 1 unit in $x$ corresponds to a $\\theta_1$ change in $y$, on average. One way to visualize this kind of multiple linear relationship is to create facets of scatter plots of $(x, y)$ where in each plot the values of $v$ are roughly the same. We make such a scatter plot for the air quality measurements next, and provide examples of additional visualizations and statistics to examine when fitting a multiple linear model.    "
   ]
  },
  {
   "cell_type": "markdown",
   "metadata": {},
   "source": [
    "## Example: A Multiple Linear Model for Air Quality"
   ]
  },
  {
   "cell_type": "markdown",
   "metadata": {},
   "source": [
    "The scientists who studied the air quality monitors (see {numref}`Chapter %s <ch:pa>`) were looking for an improved model that incorporated weather factors.\n",
    "One weather variable that they examined was a daily measurement for relative humidity.  Let's consider a two-variable linear model to explain the PurpleAir measurements based on the AQS sensor measurements and relative humidity. This model has the following form:\n",
    "\n",
    "$$ PA \\approx \\theta_0 + \\theta_1 AQ + \\theta_2 RH,$$\n",
    "\n",
    "where $PA$, $AQ$, and $RH$ refer to the variables: PurpleAir average daily measurement, the AQS measurement, and relative humidity, respectively.\n",
    "\n",
    "For a first step, we make a facet plot to compare the relationship between the two air quality measurements for fixed values of humidity. To do this, we transform relative humidity to a categorical variable so each facet consists of observations with similar humidity:"
   ]
  },
  {
   "cell_type": "code",
   "execution_count": 4,
   "metadata": {},
   "outputs": [],
   "source": [
    "rh_cat = pd.cut(GA['rh'], bins=[43,50,55,60,78], \n",
    "                labels=['<50','50-55','55-60','>60'])"
   ]
  },
  {
   "cell_type": "markdown",
   "metadata": {},
   "source": [
    "Then, we use this qualitative feature to subdivide the data into a two-by-two panel of scatter plots: "
   ]
  },
  {
   "cell_type": "code",
   "execution_count": 5,
   "metadata": {
    "tags": []
   },
   "outputs": [
    {
     "data": {
      "application/vnd.plotly.v1+json": {
       "config": {
        "plotlyServerURL": "https://plot.ly"
       },
       "data": [
        {
         "hovertemplate": "facet_col=55-60<br>pm25aqs=%{x}<br>pm25pa=%{y}<extra></extra>",
         "legendgroup": "",
         "marker": {
          "color": "#1F77B4",
          "symbol": "circle"
         },
         "mode": "markers",
         "name": "",
         "orientation": "v",
         "showlegend": false,
         "type": "scatter",
         "x": [
          8.645833,
          7.704167,
          6.3,
          9.441667,
          9.754167,
          11.020833,
          11.679167,
          6.686957,
          7.478261,
          7.278261,
          9.533333,
          9.759091,
          10.4,
          9.854167,
          13.995833,
          11.733333,
          12.83913,
          10.782609,
          7.65,
          7.133333,
          5.741667,
          6,
          8.295833,
          6.3,
          7.725,
          9.516667,
          10.833333,
          13.870833,
          8.156522,
          13.5125,
          13.9375,
          11,
          11.5,
          12.9,
          7,
          7.9,
          5.9,
          8.9,
          9.3,
          10.1,
          9.3,
          12.1,
          9.5,
          12,
          9.5,
          5.4,
          5.8,
          5.7,
          4.2,
          8,
          5.9,
          7.8,
          5.9,
          11.5,
          7.7,
          5.9,
          9.1,
          13.3,
          6.8,
          4.5
         ],
         "xaxis": "x3",
         "y": [
          16.189375,
          13.5925486111111,
          10.3005709238043,
          17.5458402777778,
          19.2110265363129,
          21.6665694444444,
          25.6766180555556,
          11.3800432917262,
          12.5601805555556,
          9.85393305439331,
          15.917875,
          16.7362361111111,
          20.2967430555556,
          17.6836180555556,
          28.7283101529903,
          23.1521736111111,
          23.2944652777778,
          17.830875,
          8.04743055555556,
          8.51965972222222,
          7.42860416666667,
          10.0599235048679,
          13.4507293598362,
          9.77823119777159,
          13.5492569444444,
          14.8651736111111,
          18.7000486111111,
          24.6267385257302,
          13.0367696629213,
          23.3369027777778,
          25.8159791666667,
          19.2110265363129,
          21.6665694444444,
          25.6766180555556,
          11.3800432917262,
          12.5601805555556,
          9.85393305439331,
          15.917875,
          16.7362361111111,
          20.2967430555556,
          17.6836180555556,
          28.7283101529903,
          23.1521736111111,
          23.2944652777778,
          17.830875,
          8.04743055555556,
          8.51965972222222,
          7.42860416666667,
          10.0599235048679,
          13.4507293598362,
          9.77823119777159,
          13.5492569444444,
          10.3005709238043,
          19.2110265363129,
          12.5601805555556,
          9.85393305439331,
          15.917875,
          23.2944652777778,
          8.04743055555556,
          10.0599235048679
         ],
         "yaxis": "y3"
        },
        {
         "hovertemplate": "facet_col=>60<br>pm25aqs=%{x}<br>pm25pa=%{y}<extra></extra>",
         "legendgroup": "",
         "marker": {
          "color": "#1F77B4",
          "symbol": "circle"
         },
         "mode": "markers",
         "name": "",
         "orientation": "v",
         "showlegend": false,
         "type": "scatter",
         "x": [
          8.025,
          6.9625,
          5.629167,
          6.15,
          6.366667,
          7.495833,
          8.566667,
          8.15,
          7.9625,
          11.445833,
          6.391667,
          4.804167,
          14.2,
          6.145833,
          12.220833,
          7.5,
          4.8,
          6.2,
          5.4,
          6.7,
          9.2,
          6.9,
          6.8,
          11.9,
          5,
          3.1,
          5,
          9.9,
          7.5,
          5.2
         ],
         "xaxis": "x4",
         "y": [
          14.7903058742853,
          11.7940416666667,
          7.89279861111111,
          10.2429930555556,
          11.2007361111111,
          11.9909027777778,
          20.3900555555556,
          13.6182847222222,
          13.0892230794421,
          25.4701458333333,
          14.5480216736208,
          7.63855354659249,
          26.9433888888889,
          10.3297708333333,
          21.3630528511822,
          11.7940416666667,
          7.89279861111111,
          10.2429930555556,
          11.2007361111111,
          11.9909027777778,
          20.3900555555556,
          13.6182847222222,
          13.0892230794421,
          25.4701458333333,
          14.5480216736208,
          7.63855354659249,
          7.89279861111111,
          20.3900555555556,
          13.6182847222222,
          14.5480216736208
         ],
         "yaxis": "y4"
        },
        {
         "hovertemplate": "facet_col=50-55<br>pm25aqs=%{x}<br>pm25pa=%{y}<extra></extra>",
         "legendgroup": "",
         "marker": {
          "color": "#1F77B4",
          "symbol": "circle"
         },
         "mode": "markers",
         "name": "",
         "orientation": "v",
         "showlegend": false,
         "type": "scatter",
         "x": [
          11.745833,
          8.9125,
          11.808333,
          10.125,
          10.395833,
          5.433333,
          5.504167,
          7.833333,
          8.8875,
          15.454167,
          14.845833,
          11.454167,
          11.520833,
          7.408333,
          9.4875,
          10.475,
          15.779167,
          16.995833,
          17.625,
          8.866667,
          6.804167,
          5.479167,
          4.304167,
          7.2,
          10.708333,
          7.2875,
          9.345833,
          10.854167,
          8.979167,
          11.2,
          8.5,
          12.5,
          10.4,
          10.4,
          5.1,
          6.5,
          7.2,
          8.3,
          14.7,
          14.2,
          12.1,
          11.4,
          7.1,
          8.5,
          10,
          13.5,
          15.8,
          16.3,
          8.6,
          6.3,
          4.4,
          4.3,
          11.3,
          12.3,
          14.7,
          11.9,
          7.8,
          17.9,
          8.9,
          6.3
         ],
         "xaxis": "x",
         "y": [
          22.3404027777778,
          14.5682766385455,
          25.0813977746871,
          18.0511111111111,
          19.4304166666667,
          7.9386875,
          7.53994444444444,
          11.6666944444444,
          15.1454861111111,
          29.1896527777778,
          27.2041041666667,
          20.7385694444444,
          20.6703203342618,
          9.15297222222222,
          14.5964812239221,
          17.2498194444444,
          31.2008680555556,
          34.2497529693147,
          34.9209166666667,
          13.4541805555556,
          12.9443611111111,
          7.56710416666667,
          4.54415972222222,
          12.0913333333333,
          18.2288550724638,
          12.3139733333333,
          13.5520694444444,
          19.8465763888889,
          13.103125,
          22.3404027777778,
          14.5682766385455,
          25.0813977746871,
          18.0511111111111,
          19.4304166666667,
          7.9386875,
          7.53994444444444,
          11.6666944444444,
          15.1454861111111,
          29.1896527777778,
          27.2041041666667,
          20.7385694444444,
          20.6703203342618,
          9.15297222222222,
          14.5964812239221,
          17.2498194444444,
          31.2008680555556,
          34.2497529693147,
          34.9209166666667,
          13.4541805555556,
          12.9443611111111,
          7.56710416666667,
          4.54415972222222,
          22.3404027777778,
          25.0813977746871,
          29.1896527777778,
          20.6703203342618,
          9.15297222222222,
          34.9209166666667,
          13.4541805555556,
          12.9443611111111
         ],
         "yaxis": "y"
        },
        {
         "hovertemplate": "facet_col=<50<br>pm25aqs=%{x}<br>pm25pa=%{y}<extra></extra>",
         "legendgroup": "",
         "marker": {
          "color": "#1F77B4",
          "symbol": "circle"
         },
         "mode": "markers",
         "name": "",
         "orientation": "v",
         "showlegend": false,
         "type": "scatter",
         "x": [
          8.604167,
          6.975,
          12.783333,
          6.85,
          7.929167,
          7.866667,
          8.579167,
          11.275,
          13.658333,
          5.0375,
          6.295833,
          10.826087,
          9.854167,
          9.5,
          6.6,
          13.1,
          6.9,
          7.6,
          7.8,
          9.3,
          10.1,
          12.2,
          4.2,
          9.5,
          8.1,
          11.4
         ],
         "xaxis": "x2",
         "y": [
          15.4784444444444,
          9.99670833333333,
          22.4718680555556,
          8.64885416666667,
          10.8636319444444,
          10.4440833333333,
          11.8642222222222,
          19.6090347222222,
          23.6401180555556,
          6.38982638888889,
          8.49286111111111,
          16.6307152777778,
          18.6737222222222,
          15.4784444444444,
          9.99670833333333,
          22.4718680555556,
          8.64885416666667,
          10.8636319444444,
          10.4440833333333,
          11.8642222222222,
          19.6090347222222,
          23.6401180555556,
          6.38982638888889,
          15.4784444444444,
          10.4440833333333,
          19.6090347222222
         ],
         "yaxis": "y2"
        }
       ],
       "layout": {
        "annotations": [
         {
          "font": {},
          "showarrow": false,
          "text": "facet_col=50-55",
          "x": 0.245,
          "xanchor": "center",
          "xref": "paper",
          "y": 0.46499999999999997,
          "yanchor": "bottom",
          "yref": "paper"
         },
         {
          "font": {},
          "showarrow": false,
          "text": "facet_col=<50",
          "x": 0.755,
          "xanchor": "center",
          "xref": "paper",
          "y": 0.46499999999999997,
          "yanchor": "bottom",
          "yref": "paper"
         },
         {
          "font": {},
          "showarrow": false,
          "text": "facet_col=55-60",
          "x": 0.245,
          "xanchor": "center",
          "xref": "paper",
          "y": 0.9999999999999999,
          "yanchor": "bottom",
          "yref": "paper"
         },
         {
          "font": {},
          "showarrow": false,
          "text": "facet_col=>60",
          "x": 0.755,
          "xanchor": "center",
          "xref": "paper",
          "y": 0.9999999999999999,
          "yanchor": "bottom",
          "yref": "paper"
         }
        ],
        "height": 350,
        "legend": {
         "tracegroupgap": 0
        },
        "margin": {
         "t": 30
        },
        "template": {
         "data": {
          "bar": [
           {
            "error_x": {
             "color": "rgb(36,36,36)"
            },
            "error_y": {
             "color": "rgb(36,36,36)"
            },
            "marker": {
             "line": {
              "color": "white",
              "width": 0.5
             },
             "pattern": {
              "fillmode": "overlay",
              "size": 10,
              "solidity": 0.2
             }
            },
            "type": "bar"
           }
          ],
          "barpolar": [
           {
            "marker": {
             "line": {
              "color": "white",
              "width": 0.5
             },
             "pattern": {
              "fillmode": "overlay",
              "size": 10,
              "solidity": 0.2
             }
            },
            "type": "barpolar"
           }
          ],
          "carpet": [
           {
            "aaxis": {
             "endlinecolor": "rgb(36,36,36)",
             "gridcolor": "white",
             "linecolor": "white",
             "minorgridcolor": "white",
             "startlinecolor": "rgb(36,36,36)"
            },
            "baxis": {
             "endlinecolor": "rgb(36,36,36)",
             "gridcolor": "white",
             "linecolor": "white",
             "minorgridcolor": "white",
             "startlinecolor": "rgb(36,36,36)"
            },
            "type": "carpet"
           }
          ],
          "choropleth": [
           {
            "colorbar": {
             "outlinewidth": 1,
             "tickcolor": "rgb(36,36,36)",
             "ticks": "outside"
            },
            "type": "choropleth"
           }
          ],
          "contour": [
           {
            "colorbar": {
             "outlinewidth": 1,
             "tickcolor": "rgb(36,36,36)",
             "ticks": "outside"
            },
            "colorscale": [
             [
              0,
              "#440154"
             ],
             [
              0.1111111111111111,
              "#482878"
             ],
             [
              0.2222222222222222,
              "#3e4989"
             ],
             [
              0.3333333333333333,
              "#31688e"
             ],
             [
              0.4444444444444444,
              "#26828e"
             ],
             [
              0.5555555555555556,
              "#1f9e89"
             ],
             [
              0.6666666666666666,
              "#35b779"
             ],
             [
              0.7777777777777778,
              "#6ece58"
             ],
             [
              0.8888888888888888,
              "#b5de2b"
             ],
             [
              1,
              "#fde725"
             ]
            ],
            "type": "contour"
           }
          ],
          "contourcarpet": [
           {
            "colorbar": {
             "outlinewidth": 1,
             "tickcolor": "rgb(36,36,36)",
             "ticks": "outside"
            },
            "type": "contourcarpet"
           }
          ],
          "heatmap": [
           {
            "colorbar": {
             "outlinewidth": 1,
             "tickcolor": "rgb(36,36,36)",
             "ticks": "outside"
            },
            "colorscale": [
             [
              0,
              "#440154"
             ],
             [
              0.1111111111111111,
              "#482878"
             ],
             [
              0.2222222222222222,
              "#3e4989"
             ],
             [
              0.3333333333333333,
              "#31688e"
             ],
             [
              0.4444444444444444,
              "#26828e"
             ],
             [
              0.5555555555555556,
              "#1f9e89"
             ],
             [
              0.6666666666666666,
              "#35b779"
             ],
             [
              0.7777777777777778,
              "#6ece58"
             ],
             [
              0.8888888888888888,
              "#b5de2b"
             ],
             [
              1,
              "#fde725"
             ]
            ],
            "type": "heatmap"
           }
          ],
          "heatmapgl": [
           {
            "colorbar": {
             "outlinewidth": 1,
             "tickcolor": "rgb(36,36,36)",
             "ticks": "outside"
            },
            "colorscale": [
             [
              0,
              "#440154"
             ],
             [
              0.1111111111111111,
              "#482878"
             ],
             [
              0.2222222222222222,
              "#3e4989"
             ],
             [
              0.3333333333333333,
              "#31688e"
             ],
             [
              0.4444444444444444,
              "#26828e"
             ],
             [
              0.5555555555555556,
              "#1f9e89"
             ],
             [
              0.6666666666666666,
              "#35b779"
             ],
             [
              0.7777777777777778,
              "#6ece58"
             ],
             [
              0.8888888888888888,
              "#b5de2b"
             ],
             [
              1,
              "#fde725"
             ]
            ],
            "type": "heatmapgl"
           }
          ],
          "histogram": [
           {
            "marker": {
             "line": {
              "color": "white",
              "width": 0.6
             }
            },
            "type": "histogram"
           }
          ],
          "histogram2d": [
           {
            "colorbar": {
             "outlinewidth": 1,
             "tickcolor": "rgb(36,36,36)",
             "ticks": "outside"
            },
            "colorscale": [
             [
              0,
              "#440154"
             ],
             [
              0.1111111111111111,
              "#482878"
             ],
             [
              0.2222222222222222,
              "#3e4989"
             ],
             [
              0.3333333333333333,
              "#31688e"
             ],
             [
              0.4444444444444444,
              "#26828e"
             ],
             [
              0.5555555555555556,
              "#1f9e89"
             ],
             [
              0.6666666666666666,
              "#35b779"
             ],
             [
              0.7777777777777778,
              "#6ece58"
             ],
             [
              0.8888888888888888,
              "#b5de2b"
             ],
             [
              1,
              "#fde725"
             ]
            ],
            "type": "histogram2d"
           }
          ],
          "histogram2dcontour": [
           {
            "colorbar": {
             "outlinewidth": 1,
             "tickcolor": "rgb(36,36,36)",
             "ticks": "outside"
            },
            "colorscale": [
             [
              0,
              "#440154"
             ],
             [
              0.1111111111111111,
              "#482878"
             ],
             [
              0.2222222222222222,
              "#3e4989"
             ],
             [
              0.3333333333333333,
              "#31688e"
             ],
             [
              0.4444444444444444,
              "#26828e"
             ],
             [
              0.5555555555555556,
              "#1f9e89"
             ],
             [
              0.6666666666666666,
              "#35b779"
             ],
             [
              0.7777777777777778,
              "#6ece58"
             ],
             [
              0.8888888888888888,
              "#b5de2b"
             ],
             [
              1,
              "#fde725"
             ]
            ],
            "type": "histogram2dcontour"
           }
          ],
          "mesh3d": [
           {
            "colorbar": {
             "outlinewidth": 1,
             "tickcolor": "rgb(36,36,36)",
             "ticks": "outside"
            },
            "type": "mesh3d"
           }
          ],
          "parcoords": [
           {
            "line": {
             "colorbar": {
              "outlinewidth": 1,
              "tickcolor": "rgb(36,36,36)",
              "ticks": "outside"
             }
            },
            "type": "parcoords"
           }
          ],
          "pie": [
           {
            "automargin": true,
            "type": "pie"
           }
          ],
          "scatter": [
           {
            "marker": {
             "colorbar": {
              "outlinewidth": 1,
              "tickcolor": "rgb(36,36,36)",
              "ticks": "outside"
             }
            },
            "type": "scatter"
           }
          ],
          "scatter3d": [
           {
            "line": {
             "colorbar": {
              "outlinewidth": 1,
              "tickcolor": "rgb(36,36,36)",
              "ticks": "outside"
             }
            },
            "marker": {
             "colorbar": {
              "outlinewidth": 1,
              "tickcolor": "rgb(36,36,36)",
              "ticks": "outside"
             }
            },
            "type": "scatter3d"
           }
          ],
          "scattercarpet": [
           {
            "marker": {
             "colorbar": {
              "outlinewidth": 1,
              "tickcolor": "rgb(36,36,36)",
              "ticks": "outside"
             }
            },
            "type": "scattercarpet"
           }
          ],
          "scattergeo": [
           {
            "marker": {
             "colorbar": {
              "outlinewidth": 1,
              "tickcolor": "rgb(36,36,36)",
              "ticks": "outside"
             }
            },
            "type": "scattergeo"
           }
          ],
          "scattergl": [
           {
            "marker": {
             "colorbar": {
              "outlinewidth": 1,
              "tickcolor": "rgb(36,36,36)",
              "ticks": "outside"
             }
            },
            "type": "scattergl"
           }
          ],
          "scattermapbox": [
           {
            "marker": {
             "colorbar": {
              "outlinewidth": 1,
              "tickcolor": "rgb(36,36,36)",
              "ticks": "outside"
             }
            },
            "type": "scattermapbox"
           }
          ],
          "scatterpolar": [
           {
            "marker": {
             "colorbar": {
              "outlinewidth": 1,
              "tickcolor": "rgb(36,36,36)",
              "ticks": "outside"
             }
            },
            "type": "scatterpolar"
           }
          ],
          "scatterpolargl": [
           {
            "marker": {
             "colorbar": {
              "outlinewidth": 1,
              "tickcolor": "rgb(36,36,36)",
              "ticks": "outside"
             }
            },
            "type": "scatterpolargl"
           }
          ],
          "scatterternary": [
           {
            "marker": {
             "colorbar": {
              "outlinewidth": 1,
              "tickcolor": "rgb(36,36,36)",
              "ticks": "outside"
             }
            },
            "type": "scatterternary"
           }
          ],
          "surface": [
           {
            "colorbar": {
             "outlinewidth": 1,
             "tickcolor": "rgb(36,36,36)",
             "ticks": "outside"
            },
            "colorscale": [
             [
              0,
              "#440154"
             ],
             [
              0.1111111111111111,
              "#482878"
             ],
             [
              0.2222222222222222,
              "#3e4989"
             ],
             [
              0.3333333333333333,
              "#31688e"
             ],
             [
              0.4444444444444444,
              "#26828e"
             ],
             [
              0.5555555555555556,
              "#1f9e89"
             ],
             [
              0.6666666666666666,
              "#35b779"
             ],
             [
              0.7777777777777778,
              "#6ece58"
             ],
             [
              0.8888888888888888,
              "#b5de2b"
             ],
             [
              1,
              "#fde725"
             ]
            ],
            "type": "surface"
           }
          ],
          "table": [
           {
            "cells": {
             "fill": {
              "color": "rgb(237,237,237)"
             },
             "line": {
              "color": "white"
             }
            },
            "header": {
             "fill": {
              "color": "rgb(217,217,217)"
             },
             "line": {
              "color": "white"
             }
            },
            "type": "table"
           }
          ]
         },
         "layout": {
          "annotationdefaults": {
           "arrowhead": 0,
           "arrowwidth": 1
          },
          "autosize": true,
          "autotypenumbers": "strict",
          "coloraxis": {
           "colorbar": {
            "outlinewidth": 1,
            "tickcolor": "rgb(36,36,36)",
            "ticks": "outside"
           }
          },
          "colorscale": {
           "diverging": [
            [
             0,
             "rgb(103,0,31)"
            ],
            [
             0.1,
             "rgb(178,24,43)"
            ],
            [
             0.2,
             "rgb(214,96,77)"
            ],
            [
             0.3,
             "rgb(244,165,130)"
            ],
            [
             0.4,
             "rgb(253,219,199)"
            ],
            [
             0.5,
             "rgb(247,247,247)"
            ],
            [
             0.6,
             "rgb(209,229,240)"
            ],
            [
             0.7,
             "rgb(146,197,222)"
            ],
            [
             0.8,
             "rgb(67,147,195)"
            ],
            [
             0.9,
             "rgb(33,102,172)"
            ],
            [
             1,
             "rgb(5,48,97)"
            ]
           ],
           "sequential": [
            [
             0,
             "#440154"
            ],
            [
             0.1111111111111111,
             "#482878"
            ],
            [
             0.2222222222222222,
             "#3e4989"
            ],
            [
             0.3333333333333333,
             "#31688e"
            ],
            [
             0.4444444444444444,
             "#26828e"
            ],
            [
             0.5555555555555556,
             "#1f9e89"
            ],
            [
             0.6666666666666666,
             "#35b779"
            ],
            [
             0.7777777777777778,
             "#6ece58"
            ],
            [
             0.8888888888888888,
             "#b5de2b"
            ],
            [
             1,
             "#fde725"
            ]
           ],
           "sequentialminus": [
            [
             0,
             "#440154"
            ],
            [
             0.1111111111111111,
             "#482878"
            ],
            [
             0.2222222222222222,
             "#3e4989"
            ],
            [
             0.3333333333333333,
             "#31688e"
            ],
            [
             0.4444444444444444,
             "#26828e"
            ],
            [
             0.5555555555555556,
             "#1f9e89"
            ],
            [
             0.6666666666666666,
             "#35b779"
            ],
            [
             0.7777777777777778,
             "#6ece58"
            ],
            [
             0.8888888888888888,
             "#b5de2b"
            ],
            [
             1,
             "#fde725"
            ]
           ]
          },
          "colorway": [
           "#1F77B4",
           "#FF7F0E",
           "#2CA02C",
           "#D62728",
           "#9467BD",
           "#8C564B",
           "#E377C2",
           "#7F7F7F",
           "#BCBD22",
           "#17BECF"
          ],
          "font": {
           "color": "rgb(36,36,36)"
          },
          "geo": {
           "bgcolor": "white",
           "lakecolor": "white",
           "landcolor": "white",
           "showlakes": true,
           "showland": true,
           "subunitcolor": "white"
          },
          "height": 250,
          "hoverlabel": {
           "align": "left"
          },
          "hovermode": "closest",
          "mapbox": {
           "style": "light"
          },
          "margin": {
           "b": 10,
           "l": 10,
           "r": 10,
           "t": 10
          },
          "paper_bgcolor": "white",
          "plot_bgcolor": "white",
          "polar": {
           "angularaxis": {
            "gridcolor": "rgb(232,232,232)",
            "linecolor": "rgb(36,36,36)",
            "showgrid": false,
            "showline": true,
            "ticks": "outside"
           },
           "bgcolor": "white",
           "radialaxis": {
            "gridcolor": "rgb(232,232,232)",
            "linecolor": "rgb(36,36,36)",
            "showgrid": false,
            "showline": true,
            "ticks": "outside"
           }
          },
          "scene": {
           "xaxis": {
            "backgroundcolor": "white",
            "gridcolor": "rgb(232,232,232)",
            "gridwidth": 2,
            "linecolor": "rgb(36,36,36)",
            "showbackground": true,
            "showgrid": false,
            "showline": true,
            "ticks": "outside",
            "zeroline": false,
            "zerolinecolor": "rgb(36,36,36)"
           },
           "yaxis": {
            "backgroundcolor": "white",
            "gridcolor": "rgb(232,232,232)",
            "gridwidth": 2,
            "linecolor": "rgb(36,36,36)",
            "showbackground": true,
            "showgrid": false,
            "showline": true,
            "ticks": "outside",
            "zeroline": false,
            "zerolinecolor": "rgb(36,36,36)"
           },
           "zaxis": {
            "backgroundcolor": "white",
            "gridcolor": "rgb(232,232,232)",
            "gridwidth": 2,
            "linecolor": "rgb(36,36,36)",
            "showbackground": true,
            "showgrid": false,
            "showline": true,
            "ticks": "outside",
            "zeroline": false,
            "zerolinecolor": "rgb(36,36,36)"
           }
          },
          "shapedefaults": {
           "fillcolor": "black",
           "line": {
            "width": 0
           },
           "opacity": 0.3
          },
          "ternary": {
           "aaxis": {
            "gridcolor": "rgb(232,232,232)",
            "linecolor": "rgb(36,36,36)",
            "showgrid": false,
            "showline": true,
            "ticks": "outside"
           },
           "baxis": {
            "gridcolor": "rgb(232,232,232)",
            "linecolor": "rgb(36,36,36)",
            "showgrid": false,
            "showline": true,
            "ticks": "outside"
           },
           "bgcolor": "white",
           "caxis": {
            "gridcolor": "rgb(232,232,232)",
            "linecolor": "rgb(36,36,36)",
            "showgrid": false,
            "showline": true,
            "ticks": "outside"
           }
          },
          "title": {
           "x": 0.5,
           "xanchor": "center"
          },
          "width": 350,
          "xaxis": {
           "automargin": true,
           "gridcolor": "rgb(232,232,232)",
           "linecolor": "rgb(36,36,36)",
           "showgrid": true,
           "showline": true,
           "ticks": "outside",
           "title": {
            "standoff": 15
           },
           "zeroline": false,
           "zerolinecolor": "rgb(36,36,36)"
          },
          "yaxis": {
           "automargin": true,
           "gridcolor": "rgb(232,232,232)",
           "linecolor": "rgb(36,36,36)",
           "showgrid": true,
           "showline": true,
           "ticks": "outside",
           "title": {
            "standoff": 15
           },
           "zeroline": false,
           "zerolinecolor": "rgb(36,36,36)"
          }
         }
        },
        "width": 550,
        "xaxis": {
         "anchor": "y",
         "autorange": true,
         "domain": [
          0,
          0.49
         ],
         "range": [
          1.9777010554590444,
          19.022298944540953
         ],
         "title": {
          "text": "pm25aqs"
         },
         "type": "linear"
        },
        "xaxis2": {
         "anchor": "y2",
         "autorange": true,
         "domain": [
          0.51,
          1
         ],
         "matches": "x",
         "range": [
          1.9777010554590444,
          19.022298944540953
         ],
         "title": {
          "text": "pm25aqs"
         },
         "type": "linear"
        },
        "xaxis3": {
         "anchor": "y3",
         "autorange": true,
         "domain": [
          0,
          0.49
         ],
         "matches": "x",
         "range": [
          1.9777010554590444,
          19.022298944540953
         ],
         "showticklabels": false,
         "type": "linear"
        },
        "xaxis4": {
         "anchor": "y4",
         "autorange": true,
         "domain": [
          0.51,
          1
         ],
         "matches": "x",
         "range": [
          1.9777010554590444,
          19.022298944540953
         ],
         "showticklabels": false,
         "type": "linear"
        },
        "yaxis": {
         "anchor": "x",
         "autorange": true,
         "domain": [
          0,
          0.46499999999999997
         ],
         "range": [
          1.6123697728000623,
          37.85270661608886
         ],
         "title": {
          "text": "pm25pa"
         },
         "type": "linear"
        },
        "yaxis2": {
         "anchor": "x2",
         "autorange": true,
         "domain": [
          0,
          0.46499999999999997
         ],
         "matches": "y",
         "range": [
          1.6123697728000623,
          37.85270661608886
         ],
         "showticklabels": false,
         "type": "linear"
        },
        "yaxis3": {
         "anchor": "x3",
         "autorange": true,
         "domain": [
          0.5349999999999999,
          0.9999999999999999
         ],
         "matches": "y",
         "range": [
          1.6123697728000623,
          37.85270661608886
         ],
         "title": {
          "text": "pm25pa"
         },
         "type": "linear"
        },
        "yaxis4": {
         "anchor": "x4",
         "autorange": true,
         "domain": [
          0.5349999999999999,
          0.9999999999999999
         ],
         "matches": "y",
         "range": [
          1.6123697728000623,
          37.85270661608886
         ],
         "showticklabels": false,
         "type": "linear"
        }
       }
      },
      "image/png": "[encoded data removed]",
      "image/svg+xml": [
       "<svg class=\"main-svg\" xmlns=\"http://www.w3.org/2000/svg\" xmlns:xlink=\"http://www.w3.org/1999/xlink\" width=\"550\" height=\"350\" style=\"\" viewBox=\"0 0 550 350\"><rect x=\"0\" y=\"0\" width=\"550\" height=\"350\" style=\"fill: rgb(255, 255, 255); fill-opacity: 1;\"/><defs id=\"defs-105f45\"><g class=\"clips\"><clipPath id=\"clip105f45xyplot\" class=\"plotclip\"><rect width=\"236.67\" height=\"121.365\"/></clipPath><clipPath id=\"clip105f45x2y2plot\" class=\"plotclip\"><rect width=\"236.67\" height=\"121.365\"/></clipPath><clipPath id=\"clip105f45x3y3plot\" class=\"plotclip\"><rect width=\"236.67\" height=\"121.365\"/></clipPath><clipPath id=\"clip105f45x4y4plot\" class=\"plotclip\"><rect width=\"236.67\" height=\"121.365\"/></clipPath><clipPath class=\"axesclip\" id=\"clip105f45x\"><rect x=\"57\" y=\"0\" width=\"236.67\" height=\"350\"/></clipPath><clipPath class=\"axesclip\" id=\"clip105f45y\"><rect x=\"0\" y=\"169.63500000000002\" width=\"550\" height=\"121.365\"/></clipPath><clipPath class=\"axesclip\" id=\"clip105f45xy\"><rect x=\"57\" y=\"169.63500000000002\" width=\"236.67\" height=\"121.365\"/></clipPath><clipPath class=\"axesclip\" id=\"clip105f45y2\"><rect x=\"0\" y=\"169.63500000000002\" width=\"550\" height=\"121.365\"/></clipPath><clipPath class=\"axesclip\" id=\"clip105f45xy2\"><rect x=\"57\" y=\"169.63500000000002\" width=\"236.67\" height=\"121.365\"/></clipPath><clipPath class=\"axesclip\" id=\"clip105f45y3\"><rect x=\"0\" y=\"30.00000000000003\" width=\"550\" height=\"121.365\"/></clipPath><clipPath class=\"axesclip\" id=\"clip105f45xy3\"><rect x=\"57\" y=\"30.00000000000003\" width=\"236.67\" height=\"121.365\"/></clipPath><clipPath class=\"axesclip\" id=\"clip105f45y4\"><rect x=\"0\" y=\"30.00000000000003\" width=\"550\" height=\"121.365\"/></clipPath><clipPath class=\"axesclip\" id=\"clip105f45xy4\"><rect x=\"57\" y=\"30.00000000000003\" width=\"236.67\" height=\"121.365\"/></clipPath><clipPath class=\"axesclip\" id=\"clip105f45x2\"><rect x=\"303.33000000000004\" y=\"0\" width=\"236.67\" height=\"350\"/></clipPath><clipPath class=\"axesclip\" id=\"clip105f45x2y\"><rect x=\"303.33000000000004\" y=\"169.63500000000002\" width=\"236.67\" height=\"121.365\"/></clipPath><clipPath class=\"axesclip\" id=\"clip105f45x2y2\"><rect x=\"303.33000000000004\" y=\"169.63500000000002\" width=\"236.67\" height=\"121.365\"/></clipPath><clipPath class=\"axesclip\" id=\"clip105f45x2y3\"><rect x=\"303.33000000000004\" y=\"30.00000000000003\" width=\"236.67\" height=\"121.365\"/></clipPath><clipPath class=\"axesclip\" id=\"clip105f45x2y4\"><rect x=\"303.33000000000004\" y=\"30.00000000000003\" width=\"236.67\" height=\"121.365\"/></clipPath><clipPath class=\"axesclip\" id=\"clip105f45x3\"><rect x=\"57\" y=\"0\" width=\"236.67\" height=\"350\"/></clipPath><clipPath class=\"axesclip\" id=\"clip105f45x3y\"><rect x=\"57\" y=\"169.63500000000002\" width=\"236.67\" height=\"121.365\"/></clipPath><clipPath class=\"axesclip\" id=\"clip105f45x3y2\"><rect x=\"57\" y=\"169.63500000000002\" width=\"236.67\" height=\"121.365\"/></clipPath><clipPath class=\"axesclip\" id=\"clip105f45x3y3\"><rect x=\"57\" y=\"30.00000000000003\" width=\"236.67\" height=\"121.365\"/></clipPath><clipPath class=\"axesclip\" id=\"clip105f45x3y4\"><rect x=\"57\" y=\"30.00000000000003\" width=\"236.67\" height=\"121.365\"/></clipPath><clipPath class=\"axesclip\" id=\"clip105f45x4\"><rect x=\"303.33000000000004\" y=\"0\" width=\"236.67\" height=\"350\"/></clipPath><clipPath class=\"axesclip\" id=\"clip105f45x4y\"><rect x=\"303.33000000000004\" y=\"169.63500000000002\" width=\"236.67\" height=\"121.365\"/></clipPath><clipPath class=\"axesclip\" id=\"clip105f45x4y2\"><rect x=\"303.33000000000004\" y=\"169.63500000000002\" width=\"236.67\" height=\"121.365\"/></clipPath><clipPath class=\"axesclip\" id=\"clip105f45x4y3\"><rect x=\"303.33000000000004\" y=\"30.00000000000003\" width=\"236.67\" height=\"121.365\"/></clipPath><clipPath class=\"axesclip\" id=\"clip105f45x4y4\"><rect x=\"303.33000000000004\" y=\"30.00000000000003\" width=\"236.67\" height=\"121.365\"/></clipPath></g><g class=\"gradients\"/><g class=\"patterns\"/></defs><g class=\"bglayer\"/><g class=\"layer-below\"><g class=\"imagelayer\"/><g class=\"shapelayer\"/></g><g class=\"cartesianlayer\"><g class=\"subplot xy\"><g class=\"layer-subplot\"><g class=\"shapelayer\"/><g class=\"imagelayer\"/></g><g class=\"gridlayer\"><g class=\"x\"><path class=\"xgrid crisp\" transform=\"translate(98.68,0)\" d=\"M0,169.63500000000002v121.365\" style=\"stroke: rgb(232, 232, 232); stroke-opacity: 1; stroke-width: 1px;\"/><path class=\"xgrid crisp\" transform=\"translate(168.20999999999998,0)\" d=\"M0,169.63500000000002v121.365\" style=\"stroke: rgb(232, 232, 232); stroke-opacity: 1; stroke-width: 1px;\"/><path class=\"xgrid crisp\" transform=\"translate(237.75,0)\" d=\"M0,169.63500000000002v121.365\" style=\"stroke: rgb(232, 232, 232); stroke-opacity: 1; stroke-width: 1px;\"/></g><g class=\"y\"><path class=\"ygrid crisp\" transform=\"translate(0,262.915)\" d=\"M57,0h236.67\" style=\"stroke: rgb(232, 232, 232); stroke-opacity: 1; stroke-width: 1px;\"/><path class=\"ygrid crisp\" transform=\"translate(0,229.425)\" d=\"M57,0h236.67\" style=\"stroke: rgb(232, 232, 232); stroke-opacity: 1; stroke-width: 1px;\"/><path class=\"ygrid crisp\" transform=\"translate(0,195.93500000000003)\" d=\"M57,0h236.67\" style=\"stroke: rgb(232, 232, 232); stroke-opacity: 1; stroke-width: 1px;\"/></g></g><g class=\"zerolinelayer\"/><path class=\"xlines-below\"/><path class=\"ylines-below\"/><g class=\"overlines-below\"/><g class=\"xaxislayer-below\"/><g class=\"yaxislayer-below\"/><g class=\"overaxes-below\"/><g class=\"plot\" transform=\"translate(57,169.63500000000002)\" clip-path=\"url(#clip105f45xyplot)\"><g class=\"scatterlayer mlayer\"><g class=\"trace scatter tracea4f598\" style=\"stroke-miterlimit: 2; opacity: 1;\"><g class=\"fills\"/><g class=\"errorbars\"/><g class=\"lines\"/><g class=\"points\"><path class=\"point\" transform=\"translate(135.5,51.95)\" d=\"M3,0A3,3 0 1,1 0,-3A3,3 0 0,1 3,0Z\" style=\"opacity: 1; stroke-width: 0px; fill: rgb(31, 119, 180); fill-opacity: 1;\"/><path class=\"point\" transform=\"translate(96.09,77.98)\" d=\"M3,0A3,3 0 1,1 0,-3A3,3 0 0,1 3,0Z\" style=\"opacity: 1; stroke-width: 0px; fill: rgb(31, 119, 180); fill-opacity: 1;\"/><path class=\"point\" transform=\"translate(136.36,42.77)\" d=\"M3,0A3,3 0 1,1 0,-3A3,3 0 0,1 3,0Z\" style=\"opacity: 1; stroke-width: 0px; fill: rgb(31, 119, 180); fill-opacity: 1;\"/><path class=\"point\" transform=\"translate(112.95,66.31)\" d=\"M3,0A3,3 0 1,1 0,-3A3,3 0 0,1 3,0Z\" style=\"opacity: 1; stroke-width: 0px; fill: rgb(31, 119, 180); fill-opacity: 1;\"/><path class=\"point\" transform=\"translate(116.72,61.69)\" d=\"M3,0A3,3 0 1,1 0,-3A3,3 0 0,1 3,0Z\" style=\"opacity: 1; stroke-width: 0px; fill: rgb(31, 119, 180); fill-opacity: 1;\"/><path class=\"point\" transform=\"translate(47.7,100.18)\" d=\"M3,0A3,3 0 1,1 0,-3A3,3 0 0,1 3,0Z\" style=\"opacity: 1; stroke-width: 0px; fill: rgb(31, 119, 180); fill-opacity: 1;\"/><path class=\"point\" transform=\"translate(48.69,101.51)\" d=\"M3,0A3,3 0 1,1 0,-3A3,3 0 0,1 3,0Z\" style=\"opacity: 1; stroke-width: 0px; fill: rgb(31, 119, 180); fill-opacity: 1;\"/><path class=\"point\" transform=\"translate(81.08,87.69)\" d=\"M3,0A3,3 0 1,1 0,-3A3,3 0 0,1 3,0Z\" style=\"opacity: 1; stroke-width: 0px; fill: rgb(31, 119, 180); fill-opacity: 1;\"/><path class=\"point\" transform=\"translate(95.74,76.04)\" d=\"M3,0A3,3 0 1,1 0,-3A3,3 0 0,1 3,0Z\" style=\"opacity: 1; stroke-width: 0px; fill: rgb(31, 119, 180); fill-opacity: 1;\"/><path class=\"point\" transform=\"translate(187.07,29.01)\" d=\"M3,0A3,3 0 1,1 0,-3A3,3 0 0,1 3,0Z\" style=\"opacity: 1; stroke-width: 0px; fill: rgb(31, 119, 180); fill-opacity: 1;\"/><path class=\"point\" transform=\"translate(178.61,35.66)\" d=\"M3,0A3,3 0 1,1 0,-3A3,3 0 0,1 3,0Z\" style=\"opacity: 1; stroke-width: 0px; fill: rgb(31, 119, 180); fill-opacity: 1;\"/><path class=\"point\" transform=\"translate(131.44,57.31)\" d=\"M3,0A3,3 0 1,1 0,-3A3,3 0 0,1 3,0Z\" style=\"opacity: 1; stroke-width: 0px; fill: rgb(31, 119, 180); fill-opacity: 1;\"/><path class=\"point\" transform=\"translate(132.37,57.54)\" d=\"M3,0A3,3 0 1,1 0,-3A3,3 0 0,1 3,0Z\" style=\"opacity: 1; stroke-width: 0px; fill: rgb(31, 119, 180); fill-opacity: 1;\"/><path class=\"point\" transform=\"translate(75.17,96.11)\" d=\"M3,0A3,3 0 1,1 0,-3A3,3 0 0,1 3,0Z\" style=\"opacity: 1; stroke-width: 0px; fill: rgb(31, 119, 180); fill-opacity: 1;\"/><path class=\"point\" transform=\"translate(104.09,77.88)\" d=\"M3,0A3,3 0 1,1 0,-3A3,3 0 0,1 3,0Z\" style=\"opacity: 1; stroke-width: 0px; fill: rgb(31, 119, 180); fill-opacity: 1;\"/><path class=\"point\" transform=\"translate(117.82,69)\" d=\"M3,0A3,3 0 1,1 0,-3A3,3 0 0,1 3,0Z\" style=\"opacity: 1; stroke-width: 0px; fill: rgb(31, 119, 180); fill-opacity: 1;\"/><path class=\"point\" transform=\"translate(191.59,22.28)\" d=\"M3,0A3,3 0 1,1 0,-3A3,3 0 0,1 3,0Z\" style=\"opacity: 1; stroke-width: 0px; fill: rgb(31, 119, 180); fill-opacity: 1;\"/><path class=\"point\" transform=\"translate(208.51,12.07)\" d=\"M3,0A3,3 0 1,1 0,-3A3,3 0 0,1 3,0Z\" style=\"opacity: 1; stroke-width: 0px; fill: rgb(31, 119, 180); fill-opacity: 1;\"/><path class=\"point\" transform=\"translate(217.26,9.82)\" d=\"M3,0A3,3 0 1,1 0,-3A3,3 0 0,1 3,0Z\" style=\"opacity: 1; stroke-width: 0px; fill: rgb(31, 119, 180); fill-opacity: 1;\"/><path class=\"point\" transform=\"translate(95.45,81.71)\" d=\"M3,0A3,3 0 1,1 0,-3A3,3 0 0,1 3,0Z\" style=\"opacity: 1; stroke-width: 0px; fill: rgb(31, 119, 180); fill-opacity: 1;\"/><path class=\"point\" transform=\"translate(66.77,83.42)\" d=\"M3,0A3,3 0 1,1 0,-3A3,3 0 0,1 3,0Z\" style=\"opacity: 1; stroke-width: 0px; fill: rgb(31, 119, 180); fill-opacity: 1;\"/><path class=\"point\" transform=\"translate(48.34,101.42)\" d=\"M3,0A3,3 0 1,1 0,-3A3,3 0 0,1 3,0Z\" style=\"opacity: 1; stroke-width: 0px; fill: rgb(31, 119, 180); fill-opacity: 1;\"/><path class=\"point\" transform=\"translate(32,111.55)\" d=\"M3,0A3,3 0 1,1 0,-3A3,3 0 0,1 3,0Z\" style=\"opacity: 1; stroke-width: 0px; fill: rgb(31, 119, 180); fill-opacity: 1;\"/><path class=\"point\" transform=\"translate(72.27,86.27)\" d=\"M3,0A3,3 0 1,1 0,-3A3,3 0 0,1 3,0Z\" style=\"opacity: 1; stroke-width: 0px; fill: rgb(31, 119, 180); fill-opacity: 1;\"/><path class=\"point\" transform=\"translate(121.07,65.72)\" d=\"M3,0A3,3 0 1,1 0,-3A3,3 0 0,1 3,0Z\" style=\"opacity: 1; stroke-width: 0px; fill: rgb(31, 119, 180); fill-opacity: 1;\"/><path class=\"point\" transform=\"translate(73.49,85.53)\" d=\"M3,0A3,3 0 1,1 0,-3A3,3 0 0,1 3,0Z\" style=\"opacity: 1; stroke-width: 0px; fill: rgb(31, 119, 180); fill-opacity: 1;\"/><path class=\"point\" transform=\"translate(102.12,81.38)\" d=\"M3,0A3,3 0 1,1 0,-3A3,3 0 0,1 3,0Z\" style=\"opacity: 1; stroke-width: 0px; fill: rgb(31, 119, 180); fill-opacity: 1;\"/><path class=\"point\" transform=\"translate(123.09,60.3)\" d=\"M3,0A3,3 0 1,1 0,-3A3,3 0 0,1 3,0Z\" style=\"opacity: 1; stroke-width: 0px; fill: rgb(31, 119, 180); fill-opacity: 1;\"/><path class=\"point\" transform=\"translate(97.02,82.88)\" d=\"M3,0A3,3 0 1,1 0,-3A3,3 0 0,1 3,0Z\" style=\"opacity: 1; stroke-width: 0px; fill: rgb(31, 119, 180); fill-opacity: 1;\"/><path class=\"point\" transform=\"translate(127.9,51.95)\" d=\"M3,0A3,3 0 1,1 0,-3A3,3 0 0,1 3,0Z\" style=\"opacity: 1; stroke-width: 0px; fill: rgb(31, 119, 180); fill-opacity: 1;\"/><path class=\"point\" transform=\"translate(90.35,77.98)\" d=\"M3,0A3,3 0 1,1 0,-3A3,3 0 0,1 3,0Z\" style=\"opacity: 1; stroke-width: 0px; fill: rgb(31, 119, 180); fill-opacity: 1;\"/><path class=\"point\" transform=\"translate(145.98,42.77)\" d=\"M3,0A3,3 0 1,1 0,-3A3,3 0 0,1 3,0Z\" style=\"opacity: 1; stroke-width: 0px; fill: rgb(31, 119, 180); fill-opacity: 1;\"/><path class=\"point\" transform=\"translate(116.78,66.31)\" d=\"M3,0A3,3 0 1,1 0,-3A3,3 0 0,1 3,0Z\" style=\"opacity: 1; stroke-width: 0px; fill: rgb(31, 119, 180); fill-opacity: 1;\"/><path class=\"point\" transform=\"translate(116.78,61.69)\" d=\"M3,0A3,3 0 1,1 0,-3A3,3 0 0,1 3,0Z\" style=\"opacity: 1; stroke-width: 0px; fill: rgb(31, 119, 180); fill-opacity: 1;\"/><path class=\"point\" transform=\"translate(43.07,100.18)\" d=\"M3,0A3,3 0 1,1 0,-3A3,3 0 0,1 3,0Z\" style=\"opacity: 1; stroke-width: 0px; fill: rgb(31, 119, 180); fill-opacity: 1;\"/><path class=\"point\" transform=\"translate(62.54,101.51)\" d=\"M3,0A3,3 0 1,1 0,-3A3,3 0 0,1 3,0Z\" style=\"opacity: 1; stroke-width: 0px; fill: rgb(31, 119, 180); fill-opacity: 1;\"/><path class=\"point\" transform=\"translate(72.27,87.69)\" d=\"M3,0A3,3 0 1,1 0,-3A3,3 0 0,1 3,0Z\" style=\"opacity: 1; stroke-width: 0px; fill: rgb(31, 119, 180); fill-opacity: 1;\"/><path class=\"point\" transform=\"translate(87.57,76.04)\" d=\"M3,0A3,3 0 1,1 0,-3A3,3 0 0,1 3,0Z\" style=\"opacity: 1; stroke-width: 0px; fill: rgb(31, 119, 180); fill-opacity: 1;\"/><path class=\"point\" transform=\"translate(176.58,29.01)\" d=\"M3,0A3,3 0 1,1 0,-3A3,3 0 0,1 3,0Z\" style=\"opacity: 1; stroke-width: 0px; fill: rgb(31, 119, 180); fill-opacity: 1;\"/><path class=\"point\" transform=\"translate(169.63,35.66)\" d=\"M3,0A3,3 0 1,1 0,-3A3,3 0 0,1 3,0Z\" style=\"opacity: 1; stroke-width: 0px; fill: rgb(31, 119, 180); fill-opacity: 1;\"/><path class=\"point\" transform=\"translate(140.42,57.31)\" d=\"M3,0A3,3 0 1,1 0,-3A3,3 0 0,1 3,0Z\" style=\"opacity: 1; stroke-width: 0px; fill: rgb(31, 119, 180); fill-opacity: 1;\"/><path class=\"point\" transform=\"translate(130.69,57.54)\" d=\"M3,0A3,3 0 1,1 0,-3A3,3 0 0,1 3,0Z\" style=\"opacity: 1; stroke-width: 0px; fill: rgb(31, 119, 180); fill-opacity: 1;\"/><path class=\"point\" transform=\"translate(70.88,96.11)\" d=\"M3,0A3,3 0 1,1 0,-3A3,3 0 0,1 3,0Z\" style=\"opacity: 1; stroke-width: 0px; fill: rgb(31, 119, 180); fill-opacity: 1;\"/><path class=\"point\" transform=\"translate(90.35,77.88)\" d=\"M3,0A3,3 0 1,1 0,-3A3,3 0 0,1 3,0Z\" style=\"opacity: 1; stroke-width: 0px; fill: rgb(31, 119, 180); fill-opacity: 1;\"/><path class=\"point\" transform=\"translate(111.21,69)\" d=\"M3,0A3,3 0 1,1 0,-3A3,3 0 0,1 3,0Z\" style=\"opacity: 1; stroke-width: 0px; fill: rgb(31, 119, 180); fill-opacity: 1;\"/><path class=\"point\" transform=\"translate(159.89,22.28)\" d=\"M3,0A3,3 0 1,1 0,-3A3,3 0 0,1 3,0Z\" style=\"opacity: 1; stroke-width: 0px; fill: rgb(31, 119, 180); fill-opacity: 1;\"/><path class=\"point\" transform=\"translate(191.88,12.07)\" d=\"M3,0A3,3 0 1,1 0,-3A3,3 0 0,1 3,0Z\" style=\"opacity: 1; stroke-width: 0px; fill: rgb(31, 119, 180); fill-opacity: 1;\"/><path class=\"point\" transform=\"translate(198.83,9.82)\" d=\"M3,0A3,3 0 1,1 0,-3A3,3 0 0,1 3,0Z\" style=\"opacity: 1; stroke-width: 0px; fill: rgb(31, 119, 180); fill-opacity: 1;\"/><path class=\"point\" transform=\"translate(91.74,81.71)\" d=\"M3,0A3,3 0 1,1 0,-3A3,3 0 0,1 3,0Z\" style=\"opacity: 1; stroke-width: 0px; fill: rgb(31, 119, 180); fill-opacity: 1;\"/><path class=\"point\" transform=\"translate(59.76,83.42)\" d=\"M3,0A3,3 0 1,1 0,-3A3,3 0 0,1 3,0Z\" style=\"opacity: 1; stroke-width: 0px; fill: rgb(31, 119, 180); fill-opacity: 1;\"/><path class=\"point\" transform=\"translate(33.33,101.42)\" d=\"M3,0A3,3 0 1,1 0,-3A3,3 0 0,1 3,0Z\" style=\"opacity: 1; stroke-width: 0px; fill: rgb(31, 119, 180); fill-opacity: 1;\"/><path class=\"point\" transform=\"translate(31.94,111.55)\" d=\"M3,0A3,3 0 1,1 0,-3A3,3 0 0,1 3,0Z\" style=\"opacity: 1; stroke-width: 0px; fill: rgb(31, 119, 180); fill-opacity: 1;\"/><path class=\"point\" transform=\"translate(129.29,51.95)\" d=\"M3,0A3,3 0 1,1 0,-3A3,3 0 0,1 3,0Z\" style=\"opacity: 1; stroke-width: 0px; fill: rgb(31, 119, 180); fill-opacity: 1;\"/><path class=\"point\" transform=\"translate(143.2,42.77)\" d=\"M3,0A3,3 0 1,1 0,-3A3,3 0 0,1 3,0Z\" style=\"opacity: 1; stroke-width: 0px; fill: rgb(31, 119, 180); fill-opacity: 1;\"/><path class=\"point\" transform=\"translate(176.58,29.01)\" d=\"M3,0A3,3 0 1,1 0,-3A3,3 0 0,1 3,0Z\" style=\"opacity: 1; stroke-width: 0px; fill: rgb(31, 119, 180); fill-opacity: 1;\"/><path class=\"point\" transform=\"translate(137.64,57.54)\" d=\"M3,0A3,3 0 1,1 0,-3A3,3 0 0,1 3,0Z\" style=\"opacity: 1; stroke-width: 0px; fill: rgb(31, 119, 180); fill-opacity: 1;\"/><path class=\"point\" transform=\"translate(80.62,96.11)\" d=\"M3,0A3,3 0 1,1 0,-3A3,3 0 0,1 3,0Z\" style=\"opacity: 1; stroke-width: 0px; fill: rgb(31, 119, 180); fill-opacity: 1;\"/><path class=\"point\" transform=\"translate(221.09,9.82)\" d=\"M3,0A3,3 0 1,1 0,-3A3,3 0 0,1 3,0Z\" style=\"opacity: 1; stroke-width: 0px; fill: rgb(31, 119, 180); fill-opacity: 1;\"/><path class=\"point\" transform=\"translate(95.92,81.71)\" d=\"M3,0A3,3 0 1,1 0,-3A3,3 0 0,1 3,0Z\" style=\"opacity: 1; stroke-width: 0px; fill: rgb(31, 119, 180); fill-opacity: 1;\"/><path class=\"point\" transform=\"translate(59.76,83.42)\" d=\"M3,0A3,3 0 1,1 0,-3A3,3 0 0,1 3,0Z\" style=\"opacity: 1; stroke-width: 0px; fill: rgb(31, 119, 180); fill-opacity: 1;\"/></g><g class=\"text\"/></g></g></g><g class=\"overplot\"/><path class=\"xlines-above crisp\" d=\"M56,291.5H293.66999999999996\" style=\"fill: none; stroke-width: 1px; stroke: rgb(36, 36, 36); stroke-opacity: 1;\"/><path class=\"ylines-above crisp\" d=\"M56.5,169.63500000000002V291\" style=\"fill: none; stroke-width: 1px; stroke: rgb(36, 36, 36); stroke-opacity: 1;\"/><g class=\"overlines-above\"/><g class=\"xaxislayer-above\"><path class=\"xtick ticks crisp\" d=\"M0,292v5\" transform=\"translate(98.68,0)\" style=\"stroke: rgb(68, 68, 68); stroke-opacity: 1; stroke-width: 1px;\"/><path class=\"xtick ticks crisp\" d=\"M0,292v5\" transform=\"translate(168.20999999999998,0)\" style=\"stroke: rgb(68, 68, 68); stroke-opacity: 1; stroke-width: 1px;\"/><path class=\"xtick ticks crisp\" d=\"M0,292v5\" transform=\"translate(237.75,0)\" style=\"stroke: rgb(68, 68, 68); stroke-opacity: 1; stroke-width: 1px;\"/><g class=\"xtick\"><text text-anchor=\"middle\" x=\"0\" y=\"311.4\" transform=\"translate(98.68,0)\" style=\"font-family: 'Open Sans', verdana, arial, sans-serif; font-size: 12px; fill: rgb(36, 36, 36); fill-opacity: 1; white-space: pre; opacity: 1;\">5</text></g><g class=\"xtick\"><text text-anchor=\"middle\" x=\"0\" y=\"311.4\" style=\"font-family: 'Open Sans', verdana, arial, sans-serif; font-size: 12px; fill: rgb(36, 36, 36); fill-opacity: 1; white-space: pre; opacity: 1;\" transform=\"translate(168.20999999999998,0)\">10</text></g><g class=\"xtick\"><text text-anchor=\"middle\" x=\"0\" y=\"311.4\" style=\"font-family: 'Open Sans', verdana, arial, sans-serif; font-size: 12px; fill: rgb(36, 36, 36); fill-opacity: 1; white-space: pre; opacity: 1;\" transform=\"translate(237.75,0)\">15</text></g></g><g class=\"yaxislayer-above\"><path class=\"ytick ticks crisp\" d=\"M56,0h-5\" transform=\"translate(0,262.915)\" style=\"stroke: rgb(68, 68, 68); stroke-opacity: 1; stroke-width: 1px;\"/><path class=\"ytick ticks crisp\" d=\"M56,0h-5\" transform=\"translate(0,229.425)\" style=\"stroke: rgb(68, 68, 68); stroke-opacity: 1; stroke-width: 1px;\"/><path class=\"ytick ticks crisp\" d=\"M56,0h-5\" transform=\"translate(0,195.93500000000003)\" style=\"stroke: rgb(68, 68, 68); stroke-opacity: 1; stroke-width: 1px;\"/><g class=\"ytick\"><text text-anchor=\"end\" x=\"48.6\" y=\"4.199999999999999\" transform=\"translate(0,262.915)\" style=\"font-family: 'Open Sans', verdana, arial, sans-serif; font-size: 12px; fill: rgb(36, 36, 36); fill-opacity: 1; white-space: pre; opacity: 1;\">10</text></g><g class=\"ytick\"><text text-anchor=\"end\" x=\"48.6\" y=\"4.199999999999999\" style=\"font-family: 'Open Sans', verdana, arial, sans-serif; font-size: 12px; fill: rgb(36, 36, 36); fill-opacity: 1; white-space: pre; opacity: 1;\" transform=\"translate(0,229.425)\">20</text></g><g class=\"ytick\"><text text-anchor=\"end\" x=\"48.6\" y=\"4.199999999999999\" style=\"font-family: 'Open Sans', verdana, arial, sans-serif; font-size: 12px; fill: rgb(36, 36, 36); fill-opacity: 1; white-space: pre; opacity: 1;\" transform=\"translate(0,195.93500000000003)\">30</text></g></g><g class=\"overaxes-above\"/></g><g class=\"subplot x2y2\"><g class=\"layer-subplot\"><g class=\"shapelayer\"/><g class=\"imagelayer\"/></g><g class=\"gridlayer\"><g class=\"x2\"><path class=\"x2grid crisp\" transform=\"translate(345.01000000000005,0)\" d=\"M0,169.63500000000002v121.365\" style=\"stroke: rgb(232, 232, 232); stroke-opacity: 1; stroke-width: 1px;\"/><path class=\"x2grid crisp\" transform=\"translate(414.54,0)\" d=\"M0,169.63500000000002v121.365\" style=\"stroke: rgb(232, 232, 232); stroke-opacity: 1; stroke-width: 1px;\"/><path class=\"x2grid crisp\" transform=\"translate(484.08000000000004,0)\" d=\"M0,169.63500000000002v121.365\" style=\"stroke: rgb(232, 232, 232); stroke-opacity: 1; stroke-width: 1px;\"/></g><g class=\"y2\"><path class=\"y2grid crisp\" transform=\"translate(0,262.915)\" d=\"M303.33000000000004,0h236.67\" style=\"stroke: rgb(232, 232, 232); stroke-opacity: 1; stroke-width: 1px;\"/><path class=\"y2grid crisp\" transform=\"translate(0,229.425)\" d=\"M303.33000000000004,0h236.67\" style=\"stroke: rgb(232, 232, 232); stroke-opacity: 1; stroke-width: 1px;\"/><path class=\"y2grid crisp\" transform=\"translate(0,195.93500000000003)\" d=\"M303.33000000000004,0h236.67\" style=\"stroke: rgb(232, 232, 232); stroke-opacity: 1; stroke-width: 1px;\"/></g></g><g class=\"zerolinelayer\"/><path class=\"xlines-below\"/><path class=\"ylines-below\"/><g class=\"overlines-below\"/><g class=\"xaxislayer-below\"/><g class=\"yaxislayer-below\"/><g class=\"overaxes-below\"/><g class=\"plot\" transform=\"translate(303.33000000000004,169.63500000000002)\" clip-path=\"url(#clip105f45x2y2plot)\"><g class=\"scatterlayer mlayer\"><g class=\"trace scatter trace62a501\" style=\"stroke-miterlimit: 2; opacity: 1;\"><g class=\"fills\"/><g class=\"errorbars\"/><g class=\"lines\"/><g class=\"points\"><path class=\"point\" transform=\"translate(91.8,74.93)\" d=\"M3,0A3,3 0 1,1 0,-3A3,3 0 0,1 3,0Z\" style=\"opacity: 1; stroke-width: 0px; fill: rgb(31, 119, 180); fill-opacity: 1;\"/><path class=\"point\" transform=\"translate(69.14,93.29)\" d=\"M3,0A3,3 0 1,1 0,-3A3,3 0 0,1 3,0Z\" style=\"opacity: 1; stroke-width: 0px; fill: rgb(31, 119, 180); fill-opacity: 1;\"/><path class=\"point\" transform=\"translate(149.92,51.51)\" d=\"M3,0A3,3 0 1,1 0,-3A3,3 0 0,1 3,0Z\" style=\"opacity: 1; stroke-width: 0px; fill: rgb(31, 119, 180); fill-opacity: 1;\"/><path class=\"point\" transform=\"translate(67.41,97.8)\" d=\"M3,0A3,3 0 1,1 0,-3A3,3 0 0,1 3,0Z\" style=\"opacity: 1; stroke-width: 0px; fill: rgb(31, 119, 180); fill-opacity: 1;\"/><path class=\"point\" transform=\"translate(82.41,90.38)\" d=\"M3,0A3,3 0 1,1 0,-3A3,3 0 0,1 3,0Z\" style=\"opacity: 1; stroke-width: 0px; fill: rgb(31, 119, 180); fill-opacity: 1;\"/><path class=\"point\" transform=\"translate(81.54,91.79)\" d=\"M3,0A3,3 0 1,1 0,-3A3,3 0 0,1 3,0Z\" style=\"opacity: 1; stroke-width: 0px; fill: rgb(31, 119, 180); fill-opacity: 1;\"/><path class=\"point\" transform=\"translate(91.45,87.03)\" d=\"M3,0A3,3 0 1,1 0,-3A3,3 0 0,1 3,0Z\" style=\"opacity: 1; stroke-width: 0px; fill: rgb(31, 119, 180); fill-opacity: 1;\"/><path class=\"point\" transform=\"translate(128.95,61.1)\" d=\"M3,0A3,3 0 1,1 0,-3A3,3 0 0,1 3,0Z\" style=\"opacity: 1; stroke-width: 0px; fill: rgb(31, 119, 180); fill-opacity: 1;\"/><path class=\"point\" transform=\"translate(162.09,47.6)\" d=\"M3,0A3,3 0 1,1 0,-3A3,3 0 0,1 3,0Z\" style=\"opacity: 1; stroke-width: 0px; fill: rgb(31, 119, 180); fill-opacity: 1;\"/><path class=\"point\" transform=\"translate(42.2,105.37)\" d=\"M3,0A3,3 0 1,1 0,-3A3,3 0 0,1 3,0Z\" style=\"opacity: 1; stroke-width: 0px; fill: rgb(31, 119, 180); fill-opacity: 1;\"/><path class=\"point\" transform=\"translate(59.7,98.32)\" d=\"M3,0A3,3 0 1,1 0,-3A3,3 0 0,1 3,0Z\" style=\"opacity: 1; stroke-width: 0px; fill: rgb(31, 119, 180); fill-opacity: 1;\"/><path class=\"point\" transform=\"translate(122.7,71.07)\" d=\"M3,0A3,3 0 1,1 0,-3A3,3 0 0,1 3,0Z\" style=\"opacity: 1; stroke-width: 0px; fill: rgb(31, 119, 180); fill-opacity: 1;\"/><path class=\"point\" transform=\"translate(109.19,64.23)\" d=\"M3,0A3,3 0 1,1 0,-3A3,3 0 0,1 3,0Z\" style=\"opacity: 1; stroke-width: 0px; fill: rgb(31, 119, 180); fill-opacity: 1;\"/><path class=\"point\" transform=\"translate(104.26,74.93)\" d=\"M3,0A3,3 0 1,1 0,-3A3,3 0 0,1 3,0Z\" style=\"opacity: 1; stroke-width: 0px; fill: rgb(31, 119, 180); fill-opacity: 1;\"/><path class=\"point\" transform=\"translate(63.93,93.29)\" d=\"M3,0A3,3 0 1,1 0,-3A3,3 0 0,1 3,0Z\" style=\"opacity: 1; stroke-width: 0px; fill: rgb(31, 119, 180); fill-opacity: 1;\"/><path class=\"point\" transform=\"translate(154.33,51.51)\" d=\"M3,0A3,3 0 1,1 0,-3A3,3 0 0,1 3,0Z\" style=\"opacity: 1; stroke-width: 0px; fill: rgb(31, 119, 180); fill-opacity: 1;\"/><path class=\"point\" transform=\"translate(68.1,97.8)\" d=\"M3,0A3,3 0 1,1 0,-3A3,3 0 0,1 3,0Z\" style=\"opacity: 1; stroke-width: 0px; fill: rgb(31, 119, 180); fill-opacity: 1;\"/><path class=\"point\" transform=\"translate(77.84,90.38)\" d=\"M3,0A3,3 0 1,1 0,-3A3,3 0 0,1 3,0Z\" style=\"opacity: 1; stroke-width: 0px; fill: rgb(31, 119, 180); fill-opacity: 1;\"/><path class=\"point\" transform=\"translate(80.62,91.79)\" d=\"M3,0A3,3 0 1,1 0,-3A3,3 0 0,1 3,0Z\" style=\"opacity: 1; stroke-width: 0px; fill: rgb(31, 119, 180); fill-opacity: 1;\"/><path class=\"point\" transform=\"translate(101.48,87.03)\" d=\"M3,0A3,3 0 1,1 0,-3A3,3 0 0,1 3,0Z\" style=\"opacity: 1; stroke-width: 0px; fill: rgb(31, 119, 180); fill-opacity: 1;\"/><path class=\"point\" transform=\"translate(112.61,61.1)\" d=\"M3,0A3,3 0 1,1 0,-3A3,3 0 0,1 3,0Z\" style=\"opacity: 1; stroke-width: 0px; fill: rgb(31, 119, 180); fill-opacity: 1;\"/><path class=\"point\" transform=\"translate(141.81,47.6)\" d=\"M3,0A3,3 0 1,1 0,-3A3,3 0 0,1 3,0Z\" style=\"opacity: 1; stroke-width: 0px; fill: rgb(31, 119, 180); fill-opacity: 1;\"/><path class=\"point\" transform=\"translate(30.55,105.37)\" d=\"M3,0A3,3 0 1,1 0,-3A3,3 0 0,1 3,0Z\" style=\"opacity: 1; stroke-width: 0px; fill: rgb(31, 119, 180); fill-opacity: 1;\"/><path class=\"point\" transform=\"translate(104.26,74.93)\" d=\"M3,0A3,3 0 1,1 0,-3A3,3 0 0,1 3,0Z\" style=\"opacity: 1; stroke-width: 0px; fill: rgb(31, 119, 180); fill-opacity: 1;\"/><path class=\"point\" transform=\"translate(84.79,91.79)\" d=\"M3,0A3,3 0 1,1 0,-3A3,3 0 0,1 3,0Z\" style=\"opacity: 1; stroke-width: 0px; fill: rgb(31, 119, 180); fill-opacity: 1;\"/><path class=\"point\" transform=\"translate(130.69,61.1)\" d=\"M3,0A3,3 0 1,1 0,-3A3,3 0 0,1 3,0Z\" style=\"opacity: 1; stroke-width: 0px; fill: rgb(31, 119, 180); fill-opacity: 1;\"/></g><g class=\"text\"/></g></g></g><g class=\"overplot\"/><path class=\"xlines-above crisp\" d=\"M302.33000000000004,291.5H540\" style=\"fill: none; stroke-width: 1px; stroke: rgb(36, 36, 36); stroke-opacity: 1;\"/><path class=\"ylines-above crisp\" d=\"M302.83000000000004,169.63500000000002V291\" style=\"fill: none; stroke-width: 1px; stroke: rgb(36, 36, 36); stroke-opacity: 1;\"/><g class=\"overlines-above\"/><g class=\"xaxislayer-above\"><path class=\"x2tick ticks crisp\" d=\"M0,292v5\" transform=\"translate(345.01000000000005,0)\" style=\"stroke: rgb(68, 68, 68); stroke-opacity: 1; stroke-width: 1px;\"/><path class=\"x2tick ticks crisp\" d=\"M0,292v5\" transform=\"translate(414.54,0)\" style=\"stroke: rgb(68, 68, 68); stroke-opacity: 1; stroke-width: 1px;\"/><path class=\"x2tick ticks crisp\" d=\"M0,292v5\" transform=\"translate(484.08000000000004,0)\" style=\"stroke: rgb(68, 68, 68); stroke-opacity: 1; stroke-width: 1px;\"/><g class=\"x2tick\"><text text-anchor=\"middle\" x=\"0\" y=\"311.4\" transform=\"translate(345.01000000000005,0)\" style=\"font-family: 'Open Sans', verdana, arial, sans-serif; font-size: 12px; fill: rgb(36, 36, 36); fill-opacity: 1; white-space: pre; opacity: 1;\">5</text></g><g class=\"x2tick\"><text text-anchor=\"middle\" x=\"0\" y=\"311.4\" style=\"font-family: 'Open Sans', verdana, arial, sans-serif; font-size: 12px; fill: rgb(36, 36, 36); fill-opacity: 1; white-space: pre; opacity: 1;\" transform=\"translate(414.54,0)\">10</text></g><g class=\"x2tick\"><text text-anchor=\"middle\" x=\"0\" y=\"311.4\" style=\"font-family: 'Open Sans', verdana, arial, sans-serif; font-size: 12px; fill: rgb(36, 36, 36); fill-opacity: 1; white-space: pre; opacity: 1;\" transform=\"translate(484.08000000000004,0)\">15</text></g></g><g class=\"yaxislayer-above\"><path class=\"y2tick ticks crisp\" d=\"M302.33000000000004,0h-5\" transform=\"translate(0,262.915)\" style=\"stroke: rgb(68, 68, 68); stroke-opacity: 1; stroke-width: 1px;\"/><path class=\"y2tick ticks crisp\" d=\"M302.33000000000004,0h-5\" transform=\"translate(0,229.425)\" style=\"stroke: rgb(68, 68, 68); stroke-opacity: 1; stroke-width: 1px;\"/><path class=\"y2tick ticks crisp\" d=\"M302.33000000000004,0h-5\" transform=\"translate(0,195.93500000000003)\" style=\"stroke: rgb(68, 68, 68); stroke-opacity: 1; stroke-width: 1px;\"/></g><g class=\"overaxes-above\"/></g><g class=\"subplot x3y3\"><g class=\"layer-subplot\"><g class=\"shapelayer\"/><g class=\"imagelayer\"/></g><g class=\"gridlayer\"><g class=\"x3\"><path class=\"x3grid crisp\" transform=\"translate(98.68,0)\" d=\"M0,30.00000000000003v121.365\" style=\"stroke: rgb(232, 232, 232); stroke-opacity: 1; stroke-width: 1px;\"/><path class=\"x3grid crisp\" transform=\"translate(168.20999999999998,0)\" d=\"M0,30.00000000000003v121.365\" style=\"stroke: rgb(232, 232, 232); stroke-opacity: 1; stroke-width: 1px;\"/><path class=\"x3grid crisp\" transform=\"translate(237.75,0)\" d=\"M0,30.00000000000003v121.365\" style=\"stroke: rgb(232, 232, 232); stroke-opacity: 1; stroke-width: 1px;\"/></g><g class=\"y3\"><path class=\"y3grid crisp\" transform=\"translate(0,123.28000000000003)\" d=\"M57,0h236.67\" style=\"stroke: rgb(232, 232, 232); stroke-opacity: 1; stroke-width: 1px;\"/><path class=\"y3grid crisp\" transform=\"translate(0,89.79000000000002)\" d=\"M57,0h236.67\" style=\"stroke: rgb(232, 232, 232); stroke-opacity: 1; stroke-width: 1px;\"/><path class=\"y3grid crisp\" transform=\"translate(0,56.300000000000026)\" d=\"M57,0h236.67\" style=\"stroke: rgb(232, 232, 232); stroke-opacity: 1; stroke-width: 1px;\"/></g></g><g class=\"zerolinelayer\"/><path class=\"xlines-below\"/><path class=\"ylines-below\"/><g class=\"overlines-below\"/><g class=\"xaxislayer-below\"/><g class=\"yaxislayer-below\"/><g class=\"overaxes-below\"/><g class=\"plot\" transform=\"translate(57,30.00000000000003)\" clip-path=\"url(#clip105f45x3y3plot)\"><g class=\"scatterlayer mlayer\"><g class=\"trace scatter trace4652ab\" style=\"stroke-miterlimit: 2; opacity: 1;\"><g class=\"fills\"/><g class=\"errorbars\"/><g class=\"lines\"/><g class=\"points\"><path class=\"point\" transform=\"translate(92.38,72.55)\" d=\"M3,0A3,3 0 1,1 0,-3A3,3 0 0,1 3,0Z\" style=\"opacity: 1; stroke-width: 0px; fill: rgb(31, 119, 180); fill-opacity: 1;\"/><path class=\"point\" transform=\"translate(79.28,81.24)\" d=\"M3,0A3,3 0 1,1 0,-3A3,3 0 0,1 3,0Z\" style=\"opacity: 1; stroke-width: 0px; fill: rgb(31, 119, 180); fill-opacity: 1;\"/><path class=\"point\" transform=\"translate(59.76,92.27)\" d=\"M3,0A3,3 0 1,1 0,-3A3,3 0 0,1 3,0Z\" style=\"opacity: 1; stroke-width: 0px; fill: rgb(31, 119, 180); fill-opacity: 1;\"/><path class=\"point\" transform=\"translate(103.45,68.01)\" d=\"M3,0A3,3 0 1,1 0,-3A3,3 0 0,1 3,0Z\" style=\"opacity: 1; stroke-width: 0px; fill: rgb(31, 119, 180); fill-opacity: 1;\"/><path class=\"point\" transform=\"translate(107.8,62.43)\" d=\"M3,0A3,3 0 1,1 0,-3A3,3 0 0,1 3,0Z\" style=\"opacity: 1; stroke-width: 0px; fill: rgb(31, 119, 180); fill-opacity: 1;\"/><path class=\"point\" transform=\"translate(125.41,54.21)\" d=\"M3,0A3,3 0 1,1 0,-3A3,3 0 0,1 3,0Z\" style=\"opacity: 1; stroke-width: 0px; fill: rgb(31, 119, 180); fill-opacity: 1;\"/><path class=\"point\" transform=\"translate(134.57,40.78)\" d=\"M3,0A3,3 0 1,1 0,-3A3,3 0 0,1 3,0Z\" style=\"opacity: 1; stroke-width: 0px; fill: rgb(31, 119, 180); fill-opacity: 1;\"/><path class=\"point\" transform=\"translate(65.14,88.65)\" d=\"M3,0A3,3 0 1,1 0,-3A3,3 0 0,1 3,0Z\" style=\"opacity: 1; stroke-width: 0px; fill: rgb(31, 119, 180); fill-opacity: 1;\"/><path class=\"point\" transform=\"translate(76.14,84.7)\" d=\"M3,0A3,3 0 1,1 0,-3A3,3 0 0,1 3,0Z\" style=\"opacity: 1; stroke-width: 0px; fill: rgb(31, 119, 180); fill-opacity: 1;\"/><path class=\"point\" transform=\"translate(73.36,93.76)\" d=\"M3,0A3,3 0 1,1 0,-3A3,3 0 0,1 3,0Z\" style=\"opacity: 1; stroke-width: 0px; fill: rgb(31, 119, 180); fill-opacity: 1;\"/><path class=\"point\" transform=\"translate(104.72,73.46)\" d=\"M3,0A3,3 0 1,1 0,-3A3,3 0 0,1 3,0Z\" style=\"opacity: 1; stroke-width: 0px; fill: rgb(31, 119, 180); fill-opacity: 1;\"/><path class=\"point\" transform=\"translate(107.86,70.72)\" d=\"M3,0A3,3 0 1,1 0,-3A3,3 0 0,1 3,0Z\" style=\"opacity: 1; stroke-width: 0px; fill: rgb(31, 119, 180); fill-opacity: 1;\"/><path class=\"point\" transform=\"translate(116.78,58.79)\" d=\"M3,0A3,3 0 1,1 0,-3A3,3 0 0,1 3,0Z\" style=\"opacity: 1; stroke-width: 0px; fill: rgb(31, 119, 180); fill-opacity: 1;\"/><path class=\"point\" transform=\"translate(109.19,67.54)\" d=\"M3,0A3,3 0 1,1 0,-3A3,3 0 0,1 3,0Z\" style=\"opacity: 1; stroke-width: 0px; fill: rgb(31, 119, 180); fill-opacity: 1;\"/><path class=\"point\" transform=\"translate(166.79,30.56)\" d=\"M3,0A3,3 0 1,1 0,-3A3,3 0 0,1 3,0Z\" style=\"opacity: 1; stroke-width: 0px; fill: rgb(31, 119, 180); fill-opacity: 1;\"/><path class=\"point\" transform=\"translate(135.32,49.23)\" d=\"M3,0A3,3 0 1,1 0,-3A3,3 0 0,1 3,0Z\" style=\"opacity: 1; stroke-width: 0px; fill: rgb(31, 119, 180); fill-opacity: 1;\"/><path class=\"point\" transform=\"translate(150.7,48.75)\" d=\"M3,0A3,3 0 1,1 0,-3A3,3 0 0,1 3,0Z\" style=\"opacity: 1; stroke-width: 0px; fill: rgb(31, 119, 180); fill-opacity: 1;\"/><path class=\"point\" transform=\"translate(122.1,67.05)\" d=\"M3,0A3,3 0 1,1 0,-3A3,3 0 0,1 3,0Z\" style=\"opacity: 1; stroke-width: 0px; fill: rgb(31, 119, 180); fill-opacity: 1;\"/><path class=\"point\" transform=\"translate(78.53,99.81)\" d=\"M3,0A3,3 0 1,1 0,-3A3,3 0 0,1 3,0Z\" style=\"opacity: 1; stroke-width: 0px; fill: rgb(31, 119, 180); fill-opacity: 1;\"/><path class=\"point\" transform=\"translate(71.35,98.23)\" d=\"M3,0A3,3 0 1,1 0,-3A3,3 0 0,1 3,0Z\" style=\"opacity: 1; stroke-width: 0px; fill: rgb(31, 119, 180); fill-opacity: 1;\"/><path class=\"point\" transform=\"translate(51.99,101.89)\" d=\"M3,0A3,3 0 1,1 0,-3A3,3 0 0,1 3,0Z\" style=\"opacity: 1; stroke-width: 0px; fill: rgb(31, 119, 180); fill-opacity: 1;\"/><path class=\"point\" transform=\"translate(55.58,93.08)\" d=\"M3,0A3,3 0 1,1 0,-3A3,3 0 0,1 3,0Z\" style=\"opacity: 1; stroke-width: 0px; fill: rgb(31, 119, 180); fill-opacity: 1;\"/><path class=\"point\" transform=\"translate(87.51,81.72)\" d=\"M3,0A3,3 0 1,1 0,-3A3,3 0 0,1 3,0Z\" style=\"opacity: 1; stroke-width: 0px; fill: rgb(31, 119, 180); fill-opacity: 1;\"/><path class=\"point\" transform=\"translate(59.76,94.02)\" d=\"M3,0A3,3 0 1,1 0,-3A3,3 0 0,1 3,0Z\" style=\"opacity: 1; stroke-width: 0px; fill: rgb(31, 119, 180); fill-opacity: 1;\"/><path class=\"point\" transform=\"translate(79.57,81.39)\" d=\"M3,0A3,3 0 1,1 0,-3A3,3 0 0,1 3,0Z\" style=\"opacity: 1; stroke-width: 0px; fill: rgb(31, 119, 180); fill-opacity: 1;\"/><path class=\"point\" transform=\"translate(104.49,76.98)\" d=\"M3,0A3,3 0 1,1 0,-3A3,3 0 0,1 3,0Z\" style=\"opacity: 1; stroke-width: 0px; fill: rgb(31, 119, 180); fill-opacity: 1;\"/><path class=\"point\" transform=\"translate(122.8,64.14)\" d=\"M3,0A3,3 0 1,1 0,-3A3,3 0 0,1 3,0Z\" style=\"opacity: 1; stroke-width: 0px; fill: rgb(31, 119, 180); fill-opacity: 1;\"/><path class=\"point\" transform=\"translate(165.05,44.29)\" d=\"M3,0A3,3 0 1,1 0,-3A3,3 0 0,1 3,0Z\" style=\"opacity: 1; stroke-width: 0px; fill: rgb(31, 119, 180); fill-opacity: 1;\"/><path class=\"point\" transform=\"translate(85.58,83.11)\" d=\"M3,0A3,3 0 1,1 0,-3A3,3 0 0,1 3,0Z\" style=\"opacity: 1; stroke-width: 0px; fill: rgb(31, 119, 180); fill-opacity: 1;\"/><path class=\"point\" transform=\"translate(160.07,48.61)\" d=\"M3,0A3,3 0 1,1 0,-3A3,3 0 0,1 3,0Z\" style=\"opacity: 1; stroke-width: 0px; fill: rgb(31, 119, 180); fill-opacity: 1;\"/><path class=\"point\" transform=\"translate(165.98,40.31)\" d=\"M3,0A3,3 0 1,1 0,-3A3,3 0 0,1 3,0Z\" style=\"opacity: 1; stroke-width: 0px; fill: rgb(31, 119, 180); fill-opacity: 1;\"/><path class=\"point\" transform=\"translate(125.12,62.43)\" d=\"M3,0A3,3 0 1,1 0,-3A3,3 0 0,1 3,0Z\" style=\"opacity: 1; stroke-width: 0px; fill: rgb(31, 119, 180); fill-opacity: 1;\"/><path class=\"point\" transform=\"translate(132.08,54.21)\" d=\"M3,0A3,3 0 1,1 0,-3A3,3 0 0,1 3,0Z\" style=\"opacity: 1; stroke-width: 0px; fill: rgb(31, 119, 180); fill-opacity: 1;\"/><path class=\"point\" transform=\"translate(151.55,40.78)\" d=\"M3,0A3,3 0 1,1 0,-3A3,3 0 0,1 3,0Z\" style=\"opacity: 1; stroke-width: 0px; fill: rgb(31, 119, 180); fill-opacity: 1;\"/><path class=\"point\" transform=\"translate(69.49,88.65)\" d=\"M3,0A3,3 0 1,1 0,-3A3,3 0 0,1 3,0Z\" style=\"opacity: 1; stroke-width: 0px; fill: rgb(31, 119, 180); fill-opacity: 1;\"/><path class=\"point\" transform=\"translate(82.01,84.7)\" d=\"M3,0A3,3 0 1,1 0,-3A3,3 0 0,1 3,0Z\" style=\"opacity: 1; stroke-width: 0px; fill: rgb(31, 119, 180); fill-opacity: 1;\"/><path class=\"point\" transform=\"translate(54.19,93.76)\" d=\"M3,0A3,3 0 1,1 0,-3A3,3 0 0,1 3,0Z\" style=\"opacity: 1; stroke-width: 0px; fill: rgb(31, 119, 180); fill-opacity: 1;\"/><path class=\"point\" transform=\"translate(95.92,73.46)\" d=\"M3,0A3,3 0 1,1 0,-3A3,3 0 0,1 3,0Z\" style=\"opacity: 1; stroke-width: 0px; fill: rgb(31, 119, 180); fill-opacity: 1;\"/><path class=\"point\" transform=\"translate(101.48,70.72)\" d=\"M3,0A3,3 0 1,1 0,-3A3,3 0 0,1 3,0Z\" style=\"opacity: 1; stroke-width: 0px; fill: rgb(31, 119, 180); fill-opacity: 1;\"/><path class=\"point\" transform=\"translate(112.61,58.79)\" d=\"M3,0A3,3 0 1,1 0,-3A3,3 0 0,1 3,0Z\" style=\"opacity: 1; stroke-width: 0px; fill: rgb(31, 119, 180); fill-opacity: 1;\"/><path class=\"point\" transform=\"translate(101.48,67.54)\" d=\"M3,0A3,3 0 1,1 0,-3A3,3 0 0,1 3,0Z\" style=\"opacity: 1; stroke-width: 0px; fill: rgb(31, 119, 180); fill-opacity: 1;\"/><path class=\"point\" transform=\"translate(140.42,30.56)\" d=\"M3,0A3,3 0 1,1 0,-3A3,3 0 0,1 3,0Z\" style=\"opacity: 1; stroke-width: 0px; fill: rgb(31, 119, 180); fill-opacity: 1;\"/><path class=\"point\" transform=\"translate(104.26,49.23)\" d=\"M3,0A3,3 0 1,1 0,-3A3,3 0 0,1 3,0Z\" style=\"opacity: 1; stroke-width: 0px; fill: rgb(31, 119, 180); fill-opacity: 1;\"/><path class=\"point\" transform=\"translate(139.03,48.75)\" d=\"M3,0A3,3 0 1,1 0,-3A3,3 0 0,1 3,0Z\" style=\"opacity: 1; stroke-width: 0px; fill: rgb(31, 119, 180); fill-opacity: 1;\"/><path class=\"point\" transform=\"translate(104.26,67.05)\" d=\"M3,0A3,3 0 1,1 0,-3A3,3 0 0,1 3,0Z\" style=\"opacity: 1; stroke-width: 0px; fill: rgb(31, 119, 180); fill-opacity: 1;\"/><path class=\"point\" transform=\"translate(47.24,99.81)\" d=\"M3,0A3,3 0 1,1 0,-3A3,3 0 0,1 3,0Z\" style=\"opacity: 1; stroke-width: 0px; fill: rgb(31, 119, 180); fill-opacity: 1;\"/><path class=\"point\" transform=\"translate(52.8,98.23)\" d=\"M3,0A3,3 0 1,1 0,-3A3,3 0 0,1 3,0Z\" style=\"opacity: 1; stroke-width: 0px; fill: rgb(31, 119, 180); fill-opacity: 1;\"/><path class=\"point\" transform=\"translate(51.41,101.89)\" d=\"M3,0A3,3 0 1,1 0,-3A3,3 0 0,1 3,0Z\" style=\"opacity: 1; stroke-width: 0px; fill: rgb(31, 119, 180); fill-opacity: 1;\"/><path class=\"point\" transform=\"translate(30.55,93.08)\" d=\"M3,0A3,3 0 1,1 0,-3A3,3 0 0,1 3,0Z\" style=\"opacity: 1; stroke-width: 0px; fill: rgb(31, 119, 180); fill-opacity: 1;\"/><path class=\"point\" transform=\"translate(83.4,81.72)\" d=\"M3,0A3,3 0 1,1 0,-3A3,3 0 0,1 3,0Z\" style=\"opacity: 1; stroke-width: 0px; fill: rgb(31, 119, 180); fill-opacity: 1;\"/><path class=\"point\" transform=\"translate(54.19,94.02)\" d=\"M3,0A3,3 0 1,1 0,-3A3,3 0 0,1 3,0Z\" style=\"opacity: 1; stroke-width: 0px; fill: rgb(31, 119, 180); fill-opacity: 1;\"/><path class=\"point\" transform=\"translate(80.62,81.39)\" d=\"M3,0A3,3 0 1,1 0,-3A3,3 0 0,1 3,0Z\" style=\"opacity: 1; stroke-width: 0px; fill: rgb(31, 119, 180); fill-opacity: 1;\"/><path class=\"point\" transform=\"translate(54.19,92.27)\" d=\"M3,0A3,3 0 1,1 0,-3A3,3 0 0,1 3,0Z\" style=\"opacity: 1; stroke-width: 0px; fill: rgb(31, 119, 180); fill-opacity: 1;\"/><path class=\"point\" transform=\"translate(132.08,62.43)\" d=\"M3,0A3,3 0 1,1 0,-3A3,3 0 0,1 3,0Z\" style=\"opacity: 1; stroke-width: 0px; fill: rgb(31, 119, 180); fill-opacity: 1;\"/><path class=\"point\" transform=\"translate(79.23,84.7)\" d=\"M3,0A3,3 0 1,1 0,-3A3,3 0 0,1 3,0Z\" style=\"opacity: 1; stroke-width: 0px; fill: rgb(31, 119, 180); fill-opacity: 1;\"/><path class=\"point\" transform=\"translate(54.19,93.76)\" d=\"M3,0A3,3 0 1,1 0,-3A3,3 0 0,1 3,0Z\" style=\"opacity: 1; stroke-width: 0px; fill: rgb(31, 119, 180); fill-opacity: 1;\"/><path class=\"point\" transform=\"translate(98.7,73.46)\" d=\"M3,0A3,3 0 1,1 0,-3A3,3 0 0,1 3,0Z\" style=\"opacity: 1; stroke-width: 0px; fill: rgb(31, 119, 180); fill-opacity: 1;\"/><path class=\"point\" transform=\"translate(157.11,48.75)\" d=\"M3,0A3,3 0 1,1 0,-3A3,3 0 0,1 3,0Z\" style=\"opacity: 1; stroke-width: 0px; fill: rgb(31, 119, 180); fill-opacity: 1;\"/><path class=\"point\" transform=\"translate(66.71,99.81)\" d=\"M3,0A3,3 0 1,1 0,-3A3,3 0 0,1 3,0Z\" style=\"opacity: 1; stroke-width: 0px; fill: rgb(31, 119, 180); fill-opacity: 1;\"/><path class=\"point\" transform=\"translate(34.72,93.08)\" d=\"M3,0A3,3 0 1,1 0,-3A3,3 0 0,1 3,0Z\" style=\"opacity: 1; stroke-width: 0px; fill: rgb(31, 119, 180); fill-opacity: 1;\"/></g><g class=\"text\"/></g></g></g><g class=\"overplot\"/><path class=\"xlines-above crisp\" d=\"M56,151.865H293.66999999999996\" style=\"fill: none; stroke-width: 1px; stroke: rgb(36, 36, 36); stroke-opacity: 1;\"/><path class=\"ylines-above crisp\" d=\"M56.5,30.00000000000003V151.365\" style=\"fill: none; stroke-width: 1px; stroke: rgb(36, 36, 36); stroke-opacity: 1;\"/><g class=\"overlines-above\"/><g class=\"xaxislayer-above\"><path class=\"x3tick ticks crisp\" d=\"M0,152.365v5\" transform=\"translate(98.68,0)\" style=\"stroke: rgb(68, 68, 68); stroke-opacity: 1; stroke-width: 1px;\"/><path class=\"x3tick ticks crisp\" d=\"M0,152.365v5\" transform=\"translate(168.20999999999998,0)\" style=\"stroke: rgb(68, 68, 68); stroke-opacity: 1; stroke-width: 1px;\"/><path class=\"x3tick ticks crisp\" d=\"M0,152.365v5\" transform=\"translate(237.75,0)\" style=\"stroke: rgb(68, 68, 68); stroke-opacity: 1; stroke-width: 1px;\"/></g><g class=\"yaxislayer-above\"><path class=\"y3tick ticks crisp\" d=\"M56,0h-5\" transform=\"translate(0,123.28000000000003)\" style=\"stroke: rgb(68, 68, 68); stroke-opacity: 1; stroke-width: 1px;\"/><path class=\"y3tick ticks crisp\" d=\"M56,0h-5\" transform=\"translate(0,89.79000000000002)\" style=\"stroke: rgb(68, 68, 68); stroke-opacity: 1; stroke-width: 1px;\"/><path class=\"y3tick ticks crisp\" d=\"M56,0h-5\" transform=\"translate(0,56.300000000000026)\" style=\"stroke: rgb(68, 68, 68); stroke-opacity: 1; stroke-width: 1px;\"/><g class=\"y3tick\"><text text-anchor=\"end\" x=\"48.6\" y=\"4.199999999999999\" transform=\"translate(0,123.28000000000003)\" style=\"font-family: 'Open Sans', verdana, arial, sans-serif; font-size: 12px; fill: rgb(36, 36, 36); fill-opacity: 1; white-space: pre; opacity: 1;\">10</text></g><g class=\"y3tick\"><text text-anchor=\"end\" x=\"48.6\" y=\"4.199999999999999\" style=\"font-family: 'Open Sans', verdana, arial, sans-serif; font-size: 12px; fill: rgb(36, 36, 36); fill-opacity: 1; white-space: pre; opacity: 1;\" transform=\"translate(0,89.79000000000002)\">20</text></g><g class=\"y3tick\"><text text-anchor=\"end\" x=\"48.6\" y=\"4.199999999999999\" style=\"font-family: 'Open Sans', verdana, arial, sans-serif; font-size: 12px; fill: rgb(36, 36, 36); fill-opacity: 1; white-space: pre; opacity: 1;\" transform=\"translate(0,56.300000000000026)\">30</text></g></g><g class=\"overaxes-above\"/></g><g class=\"subplot x4y4\"><g class=\"layer-subplot\"><g class=\"shapelayer\"/><g class=\"imagelayer\"/></g><g class=\"gridlayer\"><g class=\"x4\"><path class=\"x4grid crisp\" transform=\"translate(345.01000000000005,0)\" d=\"M0,30.00000000000003v121.365\" style=\"stroke: rgb(232, 232, 232); stroke-opacity: 1; stroke-width: 1px;\"/><path class=\"x4grid crisp\" transform=\"translate(414.54,0)\" d=\"M0,30.00000000000003v121.365\" style=\"stroke: rgb(232, 232, 232); stroke-opacity: 1; stroke-width: 1px;\"/><path class=\"x4grid crisp\" transform=\"translate(484.08000000000004,0)\" d=\"M0,30.00000000000003v121.365\" style=\"stroke: rgb(232, 232, 232); stroke-opacity: 1; stroke-width: 1px;\"/></g><g class=\"y4\"><path class=\"y4grid crisp\" transform=\"translate(0,123.28000000000003)\" d=\"M303.33000000000004,0h236.67\" style=\"stroke: rgb(232, 232, 232); stroke-opacity: 1; stroke-width: 1px;\"/><path class=\"y4grid crisp\" transform=\"translate(0,89.79000000000002)\" d=\"M303.33000000000004,0h236.67\" style=\"stroke: rgb(232, 232, 232); stroke-opacity: 1; stroke-width: 1px;\"/><path class=\"y4grid crisp\" transform=\"translate(0,56.300000000000026)\" d=\"M303.33000000000004,0h236.67\" style=\"stroke: rgb(232, 232, 232); stroke-opacity: 1; stroke-width: 1px;\"/></g></g><g class=\"zerolinelayer\"/><path class=\"xlines-below\"/><path class=\"ylines-below\"/><g class=\"overlines-below\"/><g class=\"xaxislayer-below\"/><g class=\"yaxislayer-below\"/><g class=\"overaxes-below\"/><g class=\"plot\" transform=\"translate(303.33000000000004,30.00000000000003)\" clip-path=\"url(#clip105f45x4y4plot)\"><g class=\"scatterlayer mlayer\"><g class=\"trace scatter tracedb8e6e\" style=\"stroke-miterlimit: 2; opacity: 1;\"><g class=\"fills\"/><g class=\"errorbars\"/><g class=\"lines\"/><g class=\"points\"><path class=\"point\" transform=\"translate(83.75,77.23)\" d=\"M3,0A3,3 0 1,1 0,-3A3,3 0 0,1 3,0Z\" style=\"opacity: 1; stroke-width: 0px; fill: rgb(31, 119, 180); fill-opacity: 1;\"/><path class=\"point\" transform=\"translate(68.97,87.27)\" d=\"M3,0A3,3 0 1,1 0,-3A3,3 0 0,1 3,0Z\" style=\"opacity: 1; stroke-width: 0px; fill: rgb(31, 119, 180); fill-opacity: 1;\"/><path class=\"point\" transform=\"translate(50.43,100.33)\" d=\"M3,0A3,3 0 1,1 0,-3A3,3 0 0,1 3,0Z\" style=\"opacity: 1; stroke-width: 0px; fill: rgb(31, 119, 180); fill-opacity: 1;\"/><path class=\"point\" transform=\"translate(57.67,92.46)\" d=\"M3,0A3,3 0 1,1 0,-3A3,3 0 0,1 3,0Z\" style=\"opacity: 1; stroke-width: 0px; fill: rgb(31, 119, 180); fill-opacity: 1;\"/><path class=\"point\" transform=\"translate(60.68,89.25)\" d=\"M3,0A3,3 0 1,1 0,-3A3,3 0 0,1 3,0Z\" style=\"opacity: 1; stroke-width: 0px; fill: rgb(31, 119, 180); fill-opacity: 1;\"/><path class=\"point\" transform=\"translate(76.39,86.61)\" d=\"M3,0A3,3 0 1,1 0,-3A3,3 0 0,1 3,0Z\" style=\"opacity: 1; stroke-width: 0px; fill: rgb(31, 119, 180); fill-opacity: 1;\"/><path class=\"point\" transform=\"translate(91.28,58.48)\" d=\"M3,0A3,3 0 1,1 0,-3A3,3 0 0,1 3,0Z\" style=\"opacity: 1; stroke-width: 0px; fill: rgb(31, 119, 180); fill-opacity: 1;\"/><path class=\"point\" transform=\"translate(85.49,81.16)\" d=\"M3,0A3,3 0 1,1 0,-3A3,3 0 0,1 3,0Z\" style=\"opacity: 1; stroke-width: 0px; fill: rgb(31, 119, 180); fill-opacity: 1;\"/><path class=\"point\" transform=\"translate(82.88,82.93)\" d=\"M3,0A3,3 0 1,1 0,-3A3,3 0 0,1 3,0Z\" style=\"opacity: 1; stroke-width: 0px; fill: rgb(31, 119, 180); fill-opacity: 1;\"/><path class=\"point\" transform=\"translate(131.32,41.47)\" d=\"M3,0A3,3 0 1,1 0,-3A3,3 0 0,1 3,0Z\" style=\"opacity: 1; stroke-width: 0px; fill: rgb(31, 119, 180); fill-opacity: 1;\"/><path class=\"point\" transform=\"translate(61.03,78.04)\" d=\"M3,0A3,3 0 1,1 0,-3A3,3 0 0,1 3,0Z\" style=\"opacity: 1; stroke-width: 0px; fill: rgb(31, 119, 180); fill-opacity: 1;\"/><path class=\"point\" transform=\"translate(38.95,101.18)\" d=\"M3,0A3,3 0 1,1 0,-3A3,3 0 0,1 3,0Z\" style=\"opacity: 1; stroke-width: 0px; fill: rgb(31, 119, 180); fill-opacity: 1;\"/><path class=\"point\" transform=\"translate(169.63,36.53)\" d=\"M3,0A3,3 0 1,1 0,-3A3,3 0 0,1 3,0Z\" style=\"opacity: 1; stroke-width: 0px; fill: rgb(31, 119, 180); fill-opacity: 1;\"/><path class=\"point\" transform=\"translate(57.61,92.17)\" d=\"M3,0A3,3 0 1,1 0,-3A3,3 0 0,1 3,0Z\" style=\"opacity: 1; stroke-width: 0px; fill: rgb(31, 119, 180); fill-opacity: 1;\"/><path class=\"point\" transform=\"translate(142.1,55.22)\" d=\"M3,0A3,3 0 1,1 0,-3A3,3 0 0,1 3,0Z\" style=\"opacity: 1; stroke-width: 0px; fill: rgb(31, 119, 180); fill-opacity: 1;\"/><path class=\"point\" transform=\"translate(76.45,87.27)\" d=\"M3,0A3,3 0 1,1 0,-3A3,3 0 0,1 3,0Z\" style=\"opacity: 1; stroke-width: 0px; fill: rgb(31, 119, 180); fill-opacity: 1;\"/><path class=\"point\" transform=\"translate(38.89,100.33)\" d=\"M3,0A3,3 0 1,1 0,-3A3,3 0 0,1 3,0Z\" style=\"opacity: 1; stroke-width: 0px; fill: rgb(31, 119, 180); fill-opacity: 1;\"/><path class=\"point\" transform=\"translate(58.37,92.46)\" d=\"M3,0A3,3 0 1,1 0,-3A3,3 0 0,1 3,0Z\" style=\"opacity: 1; stroke-width: 0px; fill: rgb(31, 119, 180); fill-opacity: 1;\"/><path class=\"point\" transform=\"translate(47.24,89.25)\" d=\"M3,0A3,3 0 1,1 0,-3A3,3 0 0,1 3,0Z\" style=\"opacity: 1; stroke-width: 0px; fill: rgb(31, 119, 180); fill-opacity: 1;\"/><path class=\"point\" transform=\"translate(65.32,86.61)\" d=\"M3,0A3,3 0 1,1 0,-3A3,3 0 0,1 3,0Z\" style=\"opacity: 1; stroke-width: 0px; fill: rgb(31, 119, 180); fill-opacity: 1;\"/><path class=\"point\" transform=\"translate(100.09,58.48)\" d=\"M3,0A3,3 0 1,1 0,-3A3,3 0 0,1 3,0Z\" style=\"opacity: 1; stroke-width: 0px; fill: rgb(31, 119, 180); fill-opacity: 1;\"/><path class=\"point\" transform=\"translate(68.1,81.16)\" d=\"M3,0A3,3 0 1,1 0,-3A3,3 0 0,1 3,0Z\" style=\"opacity: 1; stroke-width: 0px; fill: rgb(31, 119, 180); fill-opacity: 1;\"/><path class=\"point\" transform=\"translate(66.71,82.93)\" d=\"M3,0A3,3 0 1,1 0,-3A3,3 0 0,1 3,0Z\" style=\"opacity: 1; stroke-width: 0px; fill: rgb(31, 119, 180); fill-opacity: 1;\"/><path class=\"point\" transform=\"translate(137.64,41.47)\" d=\"M3,0A3,3 0 1,1 0,-3A3,3 0 0,1 3,0Z\" style=\"opacity: 1; stroke-width: 0px; fill: rgb(31, 119, 180); fill-opacity: 1;\"/><path class=\"point\" transform=\"translate(41.68,78.04)\" d=\"M3,0A3,3 0 1,1 0,-3A3,3 0 0,1 3,0Z\" style=\"opacity: 1; stroke-width: 0px; fill: rgb(31, 119, 180); fill-opacity: 1;\"/><path class=\"point\" transform=\"translate(15.25,101.18)\" d=\"M3,0A3,3 0 1,1 0,-3A3,3 0 0,1 3,0Z\" style=\"opacity: 1; stroke-width: 0px; fill: rgb(31, 119, 180); fill-opacity: 1;\"/><path class=\"point\" transform=\"translate(41.68,100.33)\" d=\"M3,0A3,3 0 1,1 0,-3A3,3 0 0,1 3,0Z\" style=\"opacity: 1; stroke-width: 0px; fill: rgb(31, 119, 180); fill-opacity: 1;\"/><path class=\"point\" transform=\"translate(109.82,58.48)\" d=\"M3,0A3,3 0 1,1 0,-3A3,3 0 0,1 3,0Z\" style=\"opacity: 1; stroke-width: 0px; fill: rgb(31, 119, 180); fill-opacity: 1;\"/><path class=\"point\" transform=\"translate(76.45,81.16)\" d=\"M3,0A3,3 0 1,1 0,-3A3,3 0 0,1 3,0Z\" style=\"opacity: 1; stroke-width: 0px; fill: rgb(31, 119, 180); fill-opacity: 1;\"/><path class=\"point\" transform=\"translate(44.46,78.04)\" d=\"M3,0A3,3 0 1,1 0,-3A3,3 0 0,1 3,0Z\" style=\"opacity: 1; stroke-width: 0px; fill: rgb(31, 119, 180); fill-opacity: 1;\"/></g><g class=\"text\"/></g></g></g><g class=\"overplot\"/><path class=\"xlines-above crisp\" d=\"M302.33000000000004,151.865H540\" style=\"fill: none; stroke-width: 1px; stroke: rgb(36, 36, 36); stroke-opacity: 1;\"/><path class=\"ylines-above crisp\" d=\"M302.83000000000004,30.00000000000003V151.365\" style=\"fill: none; stroke-width: 1px; stroke: rgb(36, 36, 36); stroke-opacity: 1;\"/><g class=\"overlines-above\"/><g class=\"xaxislayer-above\"><path class=\"x4tick ticks crisp\" d=\"M0,152.365v5\" transform=\"translate(345.01000000000005,0)\" style=\"stroke: rgb(68, 68, 68); stroke-opacity: 1; stroke-width: 1px;\"/><path class=\"x4tick ticks crisp\" d=\"M0,152.365v5\" transform=\"translate(414.54,0)\" style=\"stroke: rgb(68, 68, 68); stroke-opacity: 1; stroke-width: 1px;\"/><path class=\"x4tick ticks crisp\" d=\"M0,152.365v5\" transform=\"translate(484.08000000000004,0)\" style=\"stroke: rgb(68, 68, 68); stroke-opacity: 1; stroke-width: 1px;\"/></g><g class=\"yaxislayer-above\"><path class=\"y4tick ticks crisp\" d=\"M302.33000000000004,0h-5\" transform=\"translate(0,123.28000000000003)\" style=\"stroke: rgb(68, 68, 68); stroke-opacity: 1; stroke-width: 1px;\"/><path class=\"y4tick ticks crisp\" d=\"M302.33000000000004,0h-5\" transform=\"translate(0,89.79000000000002)\" style=\"stroke: rgb(68, 68, 68); stroke-opacity: 1; stroke-width: 1px;\"/><path class=\"y4tick ticks crisp\" d=\"M302.33000000000004,0h-5\" transform=\"translate(0,56.300000000000026)\" style=\"stroke: rgb(68, 68, 68); stroke-opacity: 1; stroke-width: 1px;\"/></g><g class=\"overaxes-above\"/></g></g><g class=\"polarlayer\"/><g class=\"smithlayer\"/><g class=\"ternarylayer\"/><g class=\"geolayer\"/><g class=\"funnelarealayer\"/><g class=\"pielayer\"/><g class=\"iciclelayer\"/><g class=\"treemaplayer\"/><g class=\"sunburstlayer\"/><g class=\"glimages\"/><defs id=\"topdefs-105f45\"><g class=\"clips\"/></defs><g class=\"layer-above\"><g class=\"imagelayer\"/><g class=\"shapelayer\"/></g><g class=\"infolayer\"><g class=\"g-gtitle\"/><g class=\"g-xtitle\"><text class=\"xtitle\" x=\"175.33499999999998\" y=\"339.70625\" text-anchor=\"middle\" style=\"font-family: 'Open Sans', verdana, arial, sans-serif; font-size: 14px; fill: rgb(36, 36, 36); opacity: 1; font-weight: normal; white-space: pre;\">pm25aqs</text></g><g class=\"g-x2title\"><text class=\"x2title\" x=\"421.665\" y=\"339.70625\" text-anchor=\"middle\" style=\"font-family: 'Open Sans', verdana, arial, sans-serif; font-size: 14px; fill: rgb(36, 36, 36); opacity: 1; font-weight: normal; white-space: pre;\">pm25aqs</text></g><g class=\"g-x3title\"/><g class=\"g-x4title\"/><g class=\"g-ytitle\" transform=\"translate(4.9296875,0)\"><text class=\"ytitle\" transform=\"rotate(-90,10.075000000000003,230.31750000000002)\" x=\"10.075000000000003\" y=\"230.31750000000002\" text-anchor=\"middle\" style=\"font-family: 'Open Sans', verdana, arial, sans-serif; font-size: 14px; fill: rgb(36, 36, 36); opacity: 1; font-weight: normal; white-space: pre;\">pm25pa</text></g><g class=\"g-y2title\"/><g class=\"g-y3title\" transform=\"translate(4.935546875,0)\"><text class=\"y3title\" transform=\"rotate(-90,10.075000000000003,90.68250000000003)\" x=\"10.075000000000003\" y=\"90.68250000000003\" text-anchor=\"middle\" style=\"font-family: 'Open Sans', verdana, arial, sans-serif; font-size: 14px; fill: rgb(36, 36, 36); opacity: 1; font-weight: normal; white-space: pre;\">pm25pa</text></g><g class=\"g-y4title\"/><g class=\"annotation\" data-index=\"0\" style=\"opacity: 1;\"><g class=\"annotation-text-g\" transform=\"rotate(0,175.33499999999998,159.13500000000002)\"><g class=\"cursor-pointer\" transform=\"translate(130,149)\"><rect class=\"bg\" x=\"0.5\" y=\"0.5\" width=\"90\" height=\"20\" style=\"stroke-width: 1px; stroke: rgb(0, 0, 0); stroke-opacity: 0; fill: rgb(0, 0, 0); fill-opacity: 0;\"/><text class=\"annotation-text\" text-anchor=\"middle\" x=\"45.484375\" y=\"15\" style=\"font-family: 'Open Sans', verdana, arial, sans-serif; font-size: 12px; fill: rgb(36, 36, 36); fill-opacity: 1; white-space: pre;\">facet_col=50-55</text></g></g></g><g class=\"annotation\" data-index=\"1\" style=\"opacity: 1;\"><g class=\"annotation-text-g\" transform=\"rotate(0,421.665,159.13500000000002)\"><g class=\"cursor-pointer\" transform=\"translate(382,149)\"><rect class=\"bg\" x=\"0.5\" y=\"0.5\" width=\"79\" height=\"20\" style=\"stroke-width: 1px; stroke: rgb(0, 0, 0); stroke-opacity: 0; fill: rgb(0, 0, 0); fill-opacity: 0;\"/><text class=\"annotation-text\" text-anchor=\"middle\" x=\"40.125\" y=\"15\" style=\"font-family: 'Open Sans', verdana, arial, sans-serif; font-size: 12px; fill: rgb(36, 36, 36); fill-opacity: 1; white-space: pre;\">facet_col=&#60;50</text></g></g></g><g class=\"annotation\" data-index=\"2\" style=\"opacity: 1;\"><g class=\"annotation-text-g\" transform=\"rotate(0,175.33499999999998,19.500000000000025)\"><g class=\"cursor-pointer\" transform=\"translate(130,9)\"><rect class=\"bg\" x=\"0.5\" y=\"0.5\" width=\"90\" height=\"20\" style=\"stroke-width: 1px; stroke: rgb(0, 0, 0); stroke-opacity: 0; fill: rgb(0, 0, 0); fill-opacity: 0;\"/><text class=\"annotation-text\" text-anchor=\"middle\" x=\"45.484375\" y=\"15\" style=\"font-family: 'Open Sans', verdana, arial, sans-serif; font-size: 12px; fill: rgb(36, 36, 36); fill-opacity: 1; white-space: pre;\">facet_col=55-60</text></g></g></g><g class=\"annotation\" data-index=\"3\" style=\"opacity: 1;\"><g class=\"annotation-text-g\" transform=\"rotate(0,421.665,19.50000000000003)\"><g class=\"cursor-pointer\" transform=\"translate(382,9)\"><rect class=\"bg\" x=\"0.5\" y=\"0.5\" width=\"79\" height=\"20\" style=\"stroke-width: 1px; stroke: rgb(0, 0, 0); stroke-opacity: 0; fill: rgb(0, 0, 0); fill-opacity: 0;\"/><text class=\"annotation-text\" text-anchor=\"middle\" x=\"40.125\" y=\"15\" style=\"font-family: 'Open Sans', verdana, arial, sans-serif; font-size: 12px; fill: rgb(36, 36, 36); fill-opacity: 1; white-space: pre;\">facet_col=>60</text></g></g></g></g></svg>"
      ]
     },
     "metadata": {},
     "output_type": "display_data"
    }
   ],
   "source": [
    "fig = px.scatter(GA, x='pm25aqs', y='pm25pa', \n",
    "                 facet_col=rh_cat, facet_col_wrap=2,\n",
    "                 width=550, height=350)\n",
    "\n",
    "fig.update_layout(margin=dict(t=30))\n",
    "fig.show()"
   ]
  },
  {
   "cell_type": "markdown",
   "metadata": {},
   "source": [
    "These four plots show a linear relationship between the two sources of air quality measurements. And, the slopes appear to be similar, which means that a multiple linear model may fit well. It's difficult to see from these plots if the relative humidity affects the intercept much. \n",
    "\n",
    "We also want to examine the pairwise scatter plots between the three features. When two explanatory features are highly correlated, their coefficients in the model may be unstable.  While linear relationships between three or more features may not show up in pairwise plots, it's still a good idea to check:  "
   ]
  },
  {
   "cell_type": "code",
   "execution_count": 6,
   "metadata": {},
   "outputs": [
    {
     "data": {
      "application/vnd.plotly.v1+json": {
       "config": {
        "plotlyServerURL": "https://plot.ly"
       },
       "data": [
        {
         "dimensions": [
          {
           "axis": {
            "matches": true
           },
           "label": "pm25pa",
           "values": [
            16.189375,
            13.5925486111111,
            10.3005709238043,
            14.7903058742853,
            17.5458402777778,
            22.3404027777778,
            14.5682766385455,
            19.2110265363129,
            21.6665694444444,
            25.6766180555556,
            25.0813977746871,
            11.3800432917262,
            15.4784444444444,
            18.0511111111111,
            19.4304166666667,
            12.5601805555556,
            7.9386875,
            7.53994444444444,
            11.7940416666667,
            7.89279861111111,
            10.2429930555556,
            11.2007361111111,
            9.85393305439331,
            9.99670833333333,
            11.6666944444444,
            15.917875,
            16.7362361111111,
            15.1454861111111,
            29.1896527777778,
            27.2041041666667,
            20.2967430555556,
            17.6836180555556,
            20.7385694444444,
            22.4718680555556,
            20.6703203342618,
            8.64885416666667,
            10.8636319444444,
            10.4440833333333,
            9.15297222222222,
            11.8642222222222,
            14.5964812239221,
            17.2498194444444,
            19.6090347222222,
            28.7283101529903,
            23.1521736111111,
            23.2944652777778,
            31.2008680555556,
            34.2497529693147,
            34.9209166666667,
            23.6401180555556,
            17.830875,
            8.04743055555556,
            8.51965972222222,
            7.42860416666667,
            10.0599235048679,
            11.9909027777778,
            13.4507293598362,
            13.4541805555556,
            9.77823119777159,
            20.3900555555556,
            6.38982638888889,
            12.9443611111111,
            13.6182847222222,
            7.56710416666667,
            4.54415972222222,
            13.5492569444444,
            13.0892230794421,
            25.4701458333333,
            14.5480216736208,
            7.63855354659249,
            12.0913333333333,
            18.2288550724638,
            12.3139733333333,
            14.8651736111111,
            18.7000486111111,
            24.6267385257302,
            26.9433888888889,
            13.0367696629213,
            13.5520694444444,
            23.3369027777778,
            25.8159791666667,
            10.3297708333333,
            8.49286111111111,
            16.6307152777778,
            21.3630528511822,
            19.8465763888889,
            13.103125,
            18.6737222222222,
            22.3404027777778,
            14.5682766385455,
            19.2110265363129,
            21.6665694444444,
            25.6766180555556,
            25.0813977746871,
            11.3800432917262,
            15.4784444444444,
            18.0511111111111,
            19.4304166666667,
            12.5601805555556,
            7.9386875,
            7.53994444444444,
            11.7940416666667,
            7.89279861111111,
            10.2429930555556,
            11.2007361111111,
            9.85393305439331,
            9.99670833333333,
            11.6666944444444,
            15.917875,
            16.7362361111111,
            15.1454861111111,
            29.1896527777778,
            27.2041041666667,
            20.2967430555556,
            17.6836180555556,
            20.7385694444444,
            22.4718680555556,
            20.6703203342618,
            8.64885416666667,
            10.8636319444444,
            10.4440833333333,
            9.15297222222222,
            11.8642222222222,
            14.5964812239221,
            17.2498194444444,
            19.6090347222222,
            28.7283101529903,
            23.1521736111111,
            23.2944652777778,
            31.2008680555556,
            34.2497529693147,
            34.9209166666667,
            23.6401180555556,
            17.830875,
            8.04743055555556,
            8.51965972222222,
            7.42860416666667,
            10.0599235048679,
            11.9909027777778,
            13.4507293598362,
            13.4541805555556,
            9.77823119777159,
            20.3900555555556,
            6.38982638888889,
            12.9443611111111,
            13.6182847222222,
            7.56710416666667,
            4.54415972222222,
            13.5492569444444,
            13.0892230794421,
            25.4701458333333,
            14.5480216736208,
            7.63855354659249,
            10.3005709238043,
            22.3404027777778,
            19.2110265363129,
            25.0813977746871,
            15.4784444444444,
            12.5601805555556,
            7.89279861111111,
            9.85393305439331,
            15.917875,
            29.1896527777778,
            20.6703203342618,
            10.4440833333333,
            9.15297222222222,
            19.6090347222222,
            23.2944652777778,
            34.9209166666667,
            8.04743055555556,
            10.0599235048679,
            13.4541805555556,
            20.3900555555556,
            12.9443611111111,
            13.6182847222222,
            14.5480216736208
           ]
          },
          {
           "axis": {
            "matches": true
           },
           "label": "pm25aqs",
           "values": [
            8.645833,
            7.704167,
            6.3,
            8.025,
            9.441667,
            11.745833,
            8.9125,
            9.754167,
            11.020833,
            11.679167,
            11.808333,
            6.686957,
            8.604167,
            10.125,
            10.395833,
            7.478261,
            5.433333,
            5.504167,
            6.9625,
            5.629167,
            6.15,
            6.366667,
            7.278261,
            6.975,
            7.833333,
            9.533333,
            9.759091,
            8.8875,
            15.454167,
            14.845833,
            10.4,
            9.854167,
            11.454167,
            12.783333,
            11.520833,
            6.85,
            7.929167,
            7.866667,
            7.408333,
            8.579167,
            9.4875,
            10.475,
            11.275,
            13.995833,
            11.733333,
            12.83913,
            15.779167,
            16.995833,
            17.625,
            13.658333,
            10.782609,
            7.65,
            7.133333,
            5.741667,
            6,
            7.495833,
            8.295833,
            8.866667,
            6.3,
            8.566667,
            5.0375,
            6.804167,
            8.15,
            5.479167,
            4.304167,
            7.725,
            7.9625,
            11.445833,
            6.391667,
            4.804167,
            7.2,
            10.708333,
            7.2875,
            9.516667,
            10.833333,
            13.870833,
            14.2,
            8.156522,
            9.345833,
            13.5125,
            13.9375,
            6.145833,
            6.295833,
            10.826087,
            12.220833,
            10.854167,
            8.979167,
            9.854167,
            11.2,
            8.5,
            11,
            11.5,
            12.9,
            12.5,
            7,
            9.5,
            10.4,
            10.4,
            7.9,
            5.1,
            6.5,
            7.5,
            4.8,
            6.2,
            5.4,
            5.9,
            6.6,
            7.2,
            8.9,
            9.3,
            8.3,
            14.7,
            14.2,
            10.1,
            9.3,
            12.1,
            13.1,
            11.4,
            6.9,
            7.6,
            7.8,
            7.1,
            9.3,
            8.5,
            10,
            10.1,
            12.1,
            9.5,
            12,
            13.5,
            15.8,
            16.3,
            12.2,
            9.5,
            5.4,
            5.8,
            5.7,
            4.2,
            6.7,
            8,
            8.6,
            5.9,
            9.2,
            4.2,
            6.3,
            6.9,
            4.4,
            4.3,
            7.8,
            6.8,
            11.9,
            5,
            3.1,
            5.9,
            11.3,
            11.5,
            12.3,
            9.5,
            7.7,
            5,
            5.9,
            9.1,
            14.7,
            11.9,
            8.1,
            7.8,
            11.4,
            13.3,
            17.9,
            6.8,
            4.5,
            8.9,
            9.9,
            6.3,
            7.5,
            5.2
           ]
          },
          {
           "axis": {
            "matches": true
           },
           "label": "rh",
           "values": [
            59.5972222222222,
            56.4555555555556,
            59.0850767085077,
            62.1098748261474,
            57.2666666666667,
            53.7638888888889,
            51.2572298325723,
            58.7765363128492,
            56.8208333333333,
            55.0944444444444,
            52.7816411682893,
            55.9106317411402,
            49.9222222222222,
            50.1430555555556,
            52.2222222222222,
            56.5944444444444,
            53.2166666666667,
            54.2902777777778,
            62.1875,
            62.3041666666667,
            64.5458333333333,
            67.5361111111111,
            55.0962343096234,
            49.6986111111111,
            51.4472222222222,
            55.2611111111111,
            57.7972222222222,
            53.6111111111111,
            51.2388888888889,
            53.5194444444444,
            57.8472222222222,
            56.3041666666667,
            51.5694444444444,
            48.9152777777778,
            53.6183844011142,
            43.5680555555556,
            45.8680555555556,
            49.9222222222222,
            50.8625,
            49.8805555555556,
            50.5229485396384,
            51.0111111111111,
            49.9194444444444,
            56.0611961057024,
            58.5625,
            55.0986111111111,
            54.5152777777778,
            53.7969401947149,
            51.2541666666667,
            48.3638888888889,
            56.5569444444444,
            58.5736111111111,
            57.6027777777778,
            57.0902777777778,
            57.6968011126565,
            60.2375,
            55.3616133518776,
            52.2083333333333,
            55.2228412256267,
            67.825,
            49.3777777777778,
            54.2916666666667,
            63.9388888888889,
            54.0527777777778,
            50.8611111111111,
            57.2472222222222,
            62.8543689320388,
            67.3763888888889,
            76.9694019471488,
            70.4436717663421,
            52.9111111111111,
            53.5492753623188,
            53.964,
            55.2694444444444,
            56.4625,
            58.3699582753825,
            64.1097222222222,
            58.3932584269663,
            54.2333333333333,
            56.4222222222222,
            56.9847222222222,
            60.1041666666667,
            44.4388888888889,
            48.7541666666667,
            70.105702364395,
            51.4,
            50.3527777777778,
            49.5055555555556,
            53.7638888888889,
            51.2572298325723,
            58.7765363128492,
            56.8208333333333,
            55.0944444444444,
            52.7816411682893,
            55.9106317411402,
            49.9222222222222,
            50.1430555555556,
            52.2222222222222,
            56.5944444444444,
            53.2166666666667,
            54.2902777777778,
            62.1875,
            62.3041666666667,
            64.5458333333333,
            67.5361111111111,
            55.0962343096234,
            49.6986111111111,
            51.4472222222222,
            55.2611111111111,
            57.7972222222222,
            53.6111111111111,
            51.2388888888889,
            53.5194444444444,
            57.8472222222222,
            56.3041666666667,
            51.5694444444444,
            48.9152777777778,
            53.6183844011142,
            43.5680555555556,
            45.8680555555556,
            49.9222222222222,
            50.8625,
            49.8805555555556,
            50.5229485396384,
            51.0111111111111,
            49.9194444444444,
            56.0611961057024,
            58.5625,
            55.0986111111111,
            54.5152777777778,
            53.7969401947149,
            51.2541666666667,
            48.3638888888889,
            56.5569444444444,
            58.5736111111111,
            57.6027777777778,
            57.0902777777778,
            57.6968011126565,
            60.2375,
            55.3616133518776,
            52.2083333333333,
            55.2228412256267,
            67.825,
            49.3777777777778,
            54.2916666666667,
            63.9388888888889,
            54.0527777777778,
            50.8611111111111,
            57.2472222222222,
            62.8543689320388,
            67.3763888888889,
            76.9694019471488,
            70.4436717663421,
            59.0850767085077,
            53.7638888888889,
            58.7765363128492,
            52.7816411682893,
            49.9222222222222,
            56.5944444444444,
            62.3041666666667,
            55.0962343096234,
            55.2611111111111,
            51.2388888888889,
            53.6183844011142,
            49.9222222222222,
            50.8625,
            49.9194444444444,
            55.0986111111111,
            51.2541666666667,
            58.5736111111111,
            57.6968011126565,
            52.2083333333333,
            67.825,
            54.2916666666667,
            63.9388888888889,
            76.9694019471488
           ]
          }
         ],
         "hovertemplate": "%{xaxis.title.text}=%{x}<br>%{yaxis.title.text}=%{y}<extra></extra>",
         "legendgroup": "",
         "marker": {
          "color": "#1F77B4",
          "symbol": "circle"
         },
         "name": "",
         "showlegend": false,
         "type": "splom"
        }
       ],
       "layout": {
        "dragmode": "select",
        "height": 350,
        "legend": {
         "tracegroupgap": 0
        },
        "template": {
         "data": {
          "bar": [
           {
            "error_x": {
             "color": "rgb(36,36,36)"
            },
            "error_y": {
             "color": "rgb(36,36,36)"
            },
            "marker": {
             "line": {
              "color": "white",
              "width": 0.5
             },
             "pattern": {
              "fillmode": "overlay",
              "size": 10,
              "solidity": 0.2
             }
            },
            "type": "bar"
           }
          ],
          "barpolar": [
           {
            "marker": {
             "line": {
              "color": "white",
              "width": 0.5
             },
             "pattern": {
              "fillmode": "overlay",
              "size": 10,
              "solidity": 0.2
             }
            },
            "type": "barpolar"
           }
          ],
          "carpet": [
           {
            "aaxis": {
             "endlinecolor": "rgb(36,36,36)",
             "gridcolor": "white",
             "linecolor": "white",
             "minorgridcolor": "white",
             "startlinecolor": "rgb(36,36,36)"
            },
            "baxis": {
             "endlinecolor": "rgb(36,36,36)",
             "gridcolor": "white",
             "linecolor": "white",
             "minorgridcolor": "white",
             "startlinecolor": "rgb(36,36,36)"
            },
            "type": "carpet"
           }
          ],
          "choropleth": [
           {
            "colorbar": {
             "outlinewidth": 1,
             "tickcolor": "rgb(36,36,36)",
             "ticks": "outside"
            },
            "type": "choropleth"
           }
          ],
          "contour": [
           {
            "colorbar": {
             "outlinewidth": 1,
             "tickcolor": "rgb(36,36,36)",
             "ticks": "outside"
            },
            "colorscale": [
             [
              0,
              "#440154"
             ],
             [
              0.1111111111111111,
              "#482878"
             ],
             [
              0.2222222222222222,
              "#3e4989"
             ],
             [
              0.3333333333333333,
              "#31688e"
             ],
             [
              0.4444444444444444,
              "#26828e"
             ],
             [
              0.5555555555555556,
              "#1f9e89"
             ],
             [
              0.6666666666666666,
              "#35b779"
             ],
             [
              0.7777777777777778,
              "#6ece58"
             ],
             [
              0.8888888888888888,
              "#b5de2b"
             ],
             [
              1,
              "#fde725"
             ]
            ],
            "type": "contour"
           }
          ],
          "contourcarpet": [
           {
            "colorbar": {
             "outlinewidth": 1,
             "tickcolor": "rgb(36,36,36)",
             "ticks": "outside"
            },
            "type": "contourcarpet"
           }
          ],
          "heatmap": [
           {
            "colorbar": {
             "outlinewidth": 1,
             "tickcolor": "rgb(36,36,36)",
             "ticks": "outside"
            },
            "colorscale": [
             [
              0,
              "#440154"
             ],
             [
              0.1111111111111111,
              "#482878"
             ],
             [
              0.2222222222222222,
              "#3e4989"
             ],
             [
              0.3333333333333333,
              "#31688e"
             ],
             [
              0.4444444444444444,
              "#26828e"
             ],
             [
              0.5555555555555556,
              "#1f9e89"
             ],
             [
              0.6666666666666666,
              "#35b779"
             ],
             [
              0.7777777777777778,
              "#6ece58"
             ],
             [
              0.8888888888888888,
              "#b5de2b"
             ],
             [
              1,
              "#fde725"
             ]
            ],
            "type": "heatmap"
           }
          ],
          "heatmapgl": [
           {
            "colorbar": {
             "outlinewidth": 1,
             "tickcolor": "rgb(36,36,36)",
             "ticks": "outside"
            },
            "colorscale": [
             [
              0,
              "#440154"
             ],
             [
              0.1111111111111111,
              "#482878"
             ],
             [
              0.2222222222222222,
              "#3e4989"
             ],
             [
              0.3333333333333333,
              "#31688e"
             ],
             [
              0.4444444444444444,
              "#26828e"
             ],
             [
              0.5555555555555556,
              "#1f9e89"
             ],
             [
              0.6666666666666666,
              "#35b779"
             ],
             [
              0.7777777777777778,
              "#6ece58"
             ],
             [
              0.8888888888888888,
              "#b5de2b"
             ],
             [
              1,
              "#fde725"
             ]
            ],
            "type": "heatmapgl"
           }
          ],
          "histogram": [
           {
            "marker": {
             "line": {
              "color": "white",
              "width": 0.6
             }
            },
            "type": "histogram"
           }
          ],
          "histogram2d": [
           {
            "colorbar": {
             "outlinewidth": 1,
             "tickcolor": "rgb(36,36,36)",
             "ticks": "outside"
            },
            "colorscale": [
             [
              0,
              "#440154"
             ],
             [
              0.1111111111111111,
              "#482878"
             ],
             [
              0.2222222222222222,
              "#3e4989"
             ],
             [
              0.3333333333333333,
              "#31688e"
             ],
             [
              0.4444444444444444,
              "#26828e"
             ],
             [
              0.5555555555555556,
              "#1f9e89"
             ],
             [
              0.6666666666666666,
              "#35b779"
             ],
             [
              0.7777777777777778,
              "#6ece58"
             ],
             [
              0.8888888888888888,
              "#b5de2b"
             ],
             [
              1,
              "#fde725"
             ]
            ],
            "type": "histogram2d"
           }
          ],
          "histogram2dcontour": [
           {
            "colorbar": {
             "outlinewidth": 1,
             "tickcolor": "rgb(36,36,36)",
             "ticks": "outside"
            },
            "colorscale": [
             [
              0,
              "#440154"
             ],
             [
              0.1111111111111111,
              "#482878"
             ],
             [
              0.2222222222222222,
              "#3e4989"
             ],
             [
              0.3333333333333333,
              "#31688e"
             ],
             [
              0.4444444444444444,
              "#26828e"
             ],
             [
              0.5555555555555556,
              "#1f9e89"
             ],
             [
              0.6666666666666666,
              "#35b779"
             ],
             [
              0.7777777777777778,
              "#6ece58"
             ],
             [
              0.8888888888888888,
              "#b5de2b"
             ],
             [
              1,
              "#fde725"
             ]
            ],
            "type": "histogram2dcontour"
           }
          ],
          "mesh3d": [
           {
            "colorbar": {
             "outlinewidth": 1,
             "tickcolor": "rgb(36,36,36)",
             "ticks": "outside"
            },
            "type": "mesh3d"
           }
          ],
          "parcoords": [
           {
            "line": {
             "colorbar": {
              "outlinewidth": 1,
              "tickcolor": "rgb(36,36,36)",
              "ticks": "outside"
             }
            },
            "type": "parcoords"
           }
          ],
          "pie": [
           {
            "automargin": true,
            "type": "pie"
           }
          ],
          "scatter": [
           {
            "marker": {
             "colorbar": {
              "outlinewidth": 1,
              "tickcolor": "rgb(36,36,36)",
              "ticks": "outside"
             }
            },
            "type": "scatter"
           }
          ],
          "scatter3d": [
           {
            "line": {
             "colorbar": {
              "outlinewidth": 1,
              "tickcolor": "rgb(36,36,36)",
              "ticks": "outside"
             }
            },
            "marker": {
             "colorbar": {
              "outlinewidth": 1,
              "tickcolor": "rgb(36,36,36)",
              "ticks": "outside"
             }
            },
            "type": "scatter3d"
           }
          ],
          "scattercarpet": [
           {
            "marker": {
             "colorbar": {
              "outlinewidth": 1,
              "tickcolor": "rgb(36,36,36)",
              "ticks": "outside"
             }
            },
            "type": "scattercarpet"
           }
          ],
          "scattergeo": [
           {
            "marker": {
             "colorbar": {
              "outlinewidth": 1,
              "tickcolor": "rgb(36,36,36)",
              "ticks": "outside"
             }
            },
            "type": "scattergeo"
           }
          ],
          "scattergl": [
           {
            "marker": {
             "colorbar": {
              "outlinewidth": 1,
              "tickcolor": "rgb(36,36,36)",
              "ticks": "outside"
             }
            },
            "type": "scattergl"
           }
          ],
          "scattermapbox": [
           {
            "marker": {
             "colorbar": {
              "outlinewidth": 1,
              "tickcolor": "rgb(36,36,36)",
              "ticks": "outside"
             }
            },
            "type": "scattermapbox"
           }
          ],
          "scatterpolar": [
           {
            "marker": {
             "colorbar": {
              "outlinewidth": 1,
              "tickcolor": "rgb(36,36,36)",
              "ticks": "outside"
             }
            },
            "type": "scatterpolar"
           }
          ],
          "scatterpolargl": [
           {
            "marker": {
             "colorbar": {
              "outlinewidth": 1,
              "tickcolor": "rgb(36,36,36)",
              "ticks": "outside"
             }
            },
            "type": "scatterpolargl"
           }
          ],
          "scatterternary": [
           {
            "marker": {
             "colorbar": {
              "outlinewidth": 1,
              "tickcolor": "rgb(36,36,36)",
              "ticks": "outside"
             }
            },
            "type": "scatterternary"
           }
          ],
          "surface": [
           {
            "colorbar": {
             "outlinewidth": 1,
             "tickcolor": "rgb(36,36,36)",
             "ticks": "outside"
            },
            "colorscale": [
             [
              0,
              "#440154"
             ],
             [
              0.1111111111111111,
              "#482878"
             ],
             [
              0.2222222222222222,
              "#3e4989"
             ],
             [
              0.3333333333333333,
              "#31688e"
             ],
             [
              0.4444444444444444,
              "#26828e"
             ],
             [
              0.5555555555555556,
              "#1f9e89"
             ],
             [
              0.6666666666666666,
              "#35b779"
             ],
             [
              0.7777777777777778,
              "#6ece58"
             ],
             [
              0.8888888888888888,
              "#b5de2b"
             ],
             [
              1,
              "#fde725"
             ]
            ],
            "type": "surface"
           }
          ],
          "table": [
           {
            "cells": {
             "fill": {
              "color": "rgb(237,237,237)"
             },
             "line": {
              "color": "white"
             }
            },
            "header": {
             "fill": {
              "color": "rgb(217,217,217)"
             },
             "line": {
              "color": "white"
             }
            },
            "type": "table"
           }
          ]
         },
         "layout": {
          "annotationdefaults": {
           "arrowhead": 0,
           "arrowwidth": 1
          },
          "autosize": true,
          "autotypenumbers": "strict",
          "coloraxis": {
           "colorbar": {
            "outlinewidth": 1,
            "tickcolor": "rgb(36,36,36)",
            "ticks": "outside"
           }
          },
          "colorscale": {
           "diverging": [
            [
             0,
             "rgb(103,0,31)"
            ],
            [
             0.1,
             "rgb(178,24,43)"
            ],
            [
             0.2,
             "rgb(214,96,77)"
            ],
            [
             0.3,
             "rgb(244,165,130)"
            ],
            [
             0.4,
             "rgb(253,219,199)"
            ],
            [
             0.5,
             "rgb(247,247,247)"
            ],
            [
             0.6,
             "rgb(209,229,240)"
            ],
            [
             0.7,
             "rgb(146,197,222)"
            ],
            [
             0.8,
             "rgb(67,147,195)"
            ],
            [
             0.9,
             "rgb(33,102,172)"
            ],
            [
             1,
             "rgb(5,48,97)"
            ]
           ],
           "sequential": [
            [
             0,
             "#440154"
            ],
            [
             0.1111111111111111,
             "#482878"
            ],
            [
             0.2222222222222222,
             "#3e4989"
            ],
            [
             0.3333333333333333,
             "#31688e"
            ],
            [
             0.4444444444444444,
             "#26828e"
            ],
            [
             0.5555555555555556,
             "#1f9e89"
            ],
            [
             0.6666666666666666,
             "#35b779"
            ],
            [
             0.7777777777777778,
             "#6ece58"
            ],
            [
             0.8888888888888888,
             "#b5de2b"
            ],
            [
             1,
             "#fde725"
            ]
           ],
           "sequentialminus": [
            [
             0,
             "#440154"
            ],
            [
             0.1111111111111111,
             "#482878"
            ],
            [
             0.2222222222222222,
             "#3e4989"
            ],
            [
             0.3333333333333333,
             "#31688e"
            ],
            [
             0.4444444444444444,
             "#26828e"
            ],
            [
             0.5555555555555556,
             "#1f9e89"
            ],
            [
             0.6666666666666666,
             "#35b779"
            ],
            [
             0.7777777777777778,
             "#6ece58"
            ],
            [
             0.8888888888888888,
             "#b5de2b"
            ],
            [
             1,
             "#fde725"
            ]
           ]
          },
          "colorway": [
           "#1F77B4",
           "#FF7F0E",
           "#2CA02C",
           "#D62728",
           "#9467BD",
           "#8C564B",
           "#E377C2",
           "#7F7F7F",
           "#BCBD22",
           "#17BECF"
          ],
          "font": {
           "color": "rgb(36,36,36)"
          },
          "geo": {
           "bgcolor": "white",
           "lakecolor": "white",
           "landcolor": "white",
           "showlakes": true,
           "showland": true,
           "subunitcolor": "white"
          },
          "height": 250,
          "hoverlabel": {
           "align": "left"
          },
          "hovermode": "closest",
          "mapbox": {
           "style": "light"
          },
          "margin": {
           "b": 10,
           "l": 10,
           "r": 10,
           "t": 10
          },
          "paper_bgcolor": "white",
          "plot_bgcolor": "white",
          "polar": {
           "angularaxis": {
            "gridcolor": "rgb(232,232,232)",
            "linecolor": "rgb(36,36,36)",
            "showgrid": false,
            "showline": true,
            "ticks": "outside"
           },
           "bgcolor": "white",
           "radialaxis": {
            "gridcolor": "rgb(232,232,232)",
            "linecolor": "rgb(36,36,36)",
            "showgrid": false,
            "showline": true,
            "ticks": "outside"
           }
          },
          "scene": {
           "xaxis": {
            "backgroundcolor": "white",
            "gridcolor": "rgb(232,232,232)",
            "gridwidth": 2,
            "linecolor": "rgb(36,36,36)",
            "showbackground": true,
            "showgrid": false,
            "showline": true,
            "ticks": "outside",
            "zeroline": false,
            "zerolinecolor": "rgb(36,36,36)"
           },
           "yaxis": {
            "backgroundcolor": "white",
            "gridcolor": "rgb(232,232,232)",
            "gridwidth": 2,
            "linecolor": "rgb(36,36,36)",
            "showbackground": true,
            "showgrid": false,
            "showline": true,
            "ticks": "outside",
            "zeroline": false,
            "zerolinecolor": "rgb(36,36,36)"
           },
           "zaxis": {
            "backgroundcolor": "white",
            "gridcolor": "rgb(232,232,232)",
            "gridwidth": 2,
            "linecolor": "rgb(36,36,36)",
            "showbackground": true,
            "showgrid": false,
            "showline": true,
            "ticks": "outside",
            "zeroline": false,
            "zerolinecolor": "rgb(36,36,36)"
           }
          },
          "shapedefaults": {
           "fillcolor": "black",
           "line": {
            "width": 0
           },
           "opacity": 0.3
          },
          "ternary": {
           "aaxis": {
            "gridcolor": "rgb(232,232,232)",
            "linecolor": "rgb(36,36,36)",
            "showgrid": false,
            "showline": true,
            "ticks": "outside"
           },
           "baxis": {
            "gridcolor": "rgb(232,232,232)",
            "linecolor": "rgb(36,36,36)",
            "showgrid": false,
            "showline": true,
            "ticks": "outside"
           },
           "bgcolor": "white",
           "caxis": {
            "gridcolor": "rgb(232,232,232)",
            "linecolor": "rgb(36,36,36)",
            "showgrid": false,
            "showline": true,
            "ticks": "outside"
           }
          },
          "title": {
           "x": 0.5,
           "xanchor": "center"
          },
          "width": 350,
          "xaxis": {
           "automargin": true,
           "gridcolor": "rgb(232,232,232)",
           "linecolor": "rgb(36,36,36)",
           "showgrid": true,
           "showline": true,
           "ticks": "outside",
           "title": {
            "standoff": 15
           },
           "zeroline": false,
           "zerolinecolor": "rgb(36,36,36)"
          },
          "yaxis": {
           "automargin": true,
           "gridcolor": "rgb(232,232,232)",
           "linecolor": "rgb(36,36,36)",
           "showgrid": true,
           "showline": true,
           "ticks": "outside",
           "title": {
            "standoff": 15
           },
           "zeroline": false,
           "zerolinecolor": "rgb(36,36,36)"
          }
         }
        },
        "width": 550,
        "xaxis": {
         "autorange": true,
         "range": [
          1.0230415599971634,
          38.44203482889176
         ],
         "type": "linear"
        },
        "xaxis2": {
         "autorange": true,
         "range": [
          1.3844597632249362,
          19.61554023677506
         ],
         "type": "linear"
        },
        "xaxis3": {
         "autorange": true,
         "range": [
          39.69634246790427,
          80.84111503480013
         ],
         "type": "linear"
        },
        "yaxis": {
         "autorange": true,
         "range": [
          1.0230415599971634,
          38.44203482889176
         ],
         "type": "linear"
        },
        "yaxis2": {
         "autorange": true,
         "range": [
          1.3844597632249362,
          19.61554023677506
         ],
         "type": "linear"
        },
        "yaxis3": {
         "autorange": true,
         "range": [
          39.69634246790427,
          80.84111503480013
         ],
         "type": "linear"
        }
       }
      },
      "image/png": "[encoded data removed]",
      "image/svg+xml": [
       "<svg class=\"main-svg\" xmlns=\"http://www.w3.org/2000/svg\" xmlns:xlink=\"http://www.w3.org/1999/xlink\" width=\"550\" height=\"350\" style=\"\" viewBox=\"0 0 550 350\"><rect x=\"0\" y=\"0\" width=\"550\" height=\"350\" style=\"fill: rgb(255, 255, 255); fill-opacity: 1;\"/><defs id=\"defs-28b30a\"><g class=\"clips\"><clipPath id=\"clip28b30axyplot\" class=\"plotclip\"><rect width=\"148.3448275862069\" height=\"84.72413793103448\"/></clipPath><clipPath id=\"clip28b30axy2plot\" class=\"plotclip\"><rect width=\"148.3448275862069\" height=\"84.72413793103448\"/></clipPath><clipPath id=\"clip28b30axy3plot\" class=\"plotclip\"><rect width=\"148.3448275862069\" height=\"84.72413793103449\"/></clipPath><clipPath id=\"clip28b30ax2yplot\" class=\"plotclip\"><rect width=\"148.34482758620686\" height=\"84.72413793103448\"/></clipPath><clipPath id=\"clip28b30ax2y2plot\" class=\"plotclip\"><rect width=\"148.34482758620686\" height=\"84.72413793103448\"/></clipPath><clipPath id=\"clip28b30ax2y3plot\" class=\"plotclip\"><rect width=\"148.34482758620686\" height=\"84.72413793103449\"/></clipPath><clipPath id=\"clip28b30ax3yplot\" class=\"plotclip\"><rect width=\"148.34482758620686\" height=\"84.72413793103448\"/></clipPath><clipPath id=\"clip28b30ax3y2plot\" class=\"plotclip\"><rect width=\"148.34482758620686\" height=\"84.72413793103448\"/></clipPath><clipPath id=\"clip28b30ax3y3plot\" class=\"plotclip\"><rect width=\"148.34482758620686\" height=\"84.72413793103449\"/></clipPath><clipPath class=\"axesclip\" id=\"clip28b30ax\"><rect x=\"57\" y=\"0\" width=\"148.3448275862069\" height=\"350\"/></clipPath><clipPath class=\"axesclip\" id=\"clip28b30ay\"><rect x=\"0\" y=\"18\" width=\"550\" height=\"84.72413793103448\"/></clipPath><clipPath class=\"axesclip\" id=\"clip28b30axy\"><rect x=\"57\" y=\"18\" width=\"148.3448275862069\" height=\"84.72413793103448\"/></clipPath><clipPath class=\"axesclip\" id=\"clip28b30ay2\"><rect x=\"0\" y=\"112.13793103448276\" width=\"550\" height=\"84.72413793103448\"/></clipPath><clipPath class=\"axesclip\" id=\"clip28b30axy2\"><rect x=\"57\" y=\"112.13793103448276\" width=\"148.3448275862069\" height=\"84.72413793103448\"/></clipPath><clipPath class=\"axesclip\" id=\"clip28b30ay3\"><rect x=\"0\" y=\"206.27586206896552\" width=\"550\" height=\"84.72413793103449\"/></clipPath><clipPath class=\"axesclip\" id=\"clip28b30axy3\"><rect x=\"57\" y=\"206.27586206896552\" width=\"148.3448275862069\" height=\"84.72413793103449\"/></clipPath><clipPath class=\"axesclip\" id=\"clip28b30ax2\"><rect x=\"221.82758620689657\" y=\"0\" width=\"148.34482758620686\" height=\"350\"/></clipPath><clipPath class=\"axesclip\" id=\"clip28b30ax2y\"><rect x=\"221.82758620689657\" y=\"18\" width=\"148.34482758620686\" height=\"84.72413793103448\"/></clipPath><clipPath class=\"axesclip\" id=\"clip28b30ax2y2\"><rect x=\"221.82758620689657\" y=\"112.13793103448276\" width=\"148.34482758620686\" height=\"84.72413793103448\"/></clipPath><clipPath class=\"axesclip\" id=\"clip28b30ax2y3\"><rect x=\"221.82758620689657\" y=\"206.27586206896552\" width=\"148.34482758620686\" height=\"84.72413793103449\"/></clipPath><clipPath class=\"axesclip\" id=\"clip28b30ax3\"><rect x=\"386.65517241379314\" y=\"0\" width=\"148.34482758620686\" height=\"350\"/></clipPath><clipPath class=\"axesclip\" id=\"clip28b30ax3y\"><rect x=\"386.65517241379314\" y=\"18\" width=\"148.34482758620686\" height=\"84.72413793103448\"/></clipPath><clipPath class=\"axesclip\" id=\"clip28b30ax3y2\"><rect x=\"386.65517241379314\" y=\"112.13793103448276\" width=\"148.34482758620686\" height=\"84.72413793103448\"/></clipPath><clipPath class=\"axesclip\" id=\"clip28b30ax3y3\"><rect x=\"386.65517241379314\" y=\"206.27586206896552\" width=\"148.34482758620686\" height=\"84.72413793103449\"/></clipPath></g><g class=\"gradients\"/><g class=\"patterns\"/></defs><g class=\"bglayer\"/><g class=\"layer-below\"><g class=\"imagelayer\"/><g class=\"shapelayer\"/></g><g class=\"cartesianlayer\"><g class=\"subplot xy\"><g class=\"layer-subplot\"><g class=\"shapelayer\"/><g class=\"imagelayer\"/></g><g class=\"gridlayer\"><g class=\"x\"><path class=\"xgrid crisp\" transform=\"translate(91.88,0)\" d=\"M0,18v84.72413793103448\" style=\"stroke: rgb(232, 232, 232); stroke-opacity: 1; stroke-width: 1px;\"/><path class=\"xgrid crisp\" transform=\"translate(132.25,0)\" d=\"M0,18v84.72413793103448\" style=\"stroke: rgb(232, 232, 232); stroke-opacity: 1; stroke-width: 1px;\"/><path class=\"xgrid crisp\" transform=\"translate(172.63,0)\" d=\"M0,18v84.72413793103448\" style=\"stroke: rgb(232, 232, 232); stroke-opacity: 1; stroke-width: 1px;\"/></g><g class=\"y\"><path class=\"ygrid crisp\" transform=\"translate(0,82.8)\" d=\"M57,0h148.3448275862069\" style=\"stroke: rgb(232, 232, 232); stroke-opacity: 1; stroke-width: 1px;\"/><path class=\"ygrid crisp\" transform=\"translate(0,59.75)\" d=\"M57,0h148.3448275862069\" style=\"stroke: rgb(232, 232, 232); stroke-opacity: 1; stroke-width: 1px;\"/><path class=\"ygrid crisp\" transform=\"translate(0,36.69)\" d=\"M57,0h148.3448275862069\" style=\"stroke: rgb(232, 232, 232); stroke-opacity: 1; stroke-width: 1px;\"/></g></g><g class=\"zerolinelayer\"/><path class=\"xlines-below\"/><path class=\"ylines-below\"/><g class=\"overlines-below\"/><g class=\"xaxislayer-below\"/><g class=\"yaxislayer-below\"/><g class=\"overaxes-below\"/><g class=\"plot\" transform=\"translate(57,18)\" clip-path=\"url(#clip28b30axyplot)\"/><g class=\"overplot\"/><path class=\"xlines-above crisp\" d=\"M0,0\" style=\"fill: none;\"/><path class=\"ylines-above crisp\" d=\"M56.5,18V102.72413793103448\" style=\"fill: none; stroke-width: 1px; stroke: rgb(36, 36, 36); stroke-opacity: 1;\"/><g class=\"overlines-above\"/><g class=\"xaxislayer-above\"/><g class=\"yaxislayer-above\"><path class=\"ytick ticks crisp\" d=\"M56,0h-5\" transform=\"translate(0,82.8)\" style=\"stroke: rgb(68, 68, 68); stroke-opacity: 1; stroke-width: 1px;\"/><path class=\"ytick ticks crisp\" d=\"M56,0h-5\" transform=\"translate(0,59.75)\" style=\"stroke: rgb(68, 68, 68); stroke-opacity: 1; stroke-width: 1px;\"/><path class=\"ytick ticks crisp\" d=\"M56,0h-5\" transform=\"translate(0,36.69)\" style=\"stroke: rgb(68, 68, 68); stroke-opacity: 1; stroke-width: 1px;\"/><g class=\"ytick\"><text text-anchor=\"end\" x=\"48.6\" y=\"4.199999999999999\" transform=\"translate(0,82.8)\" style=\"font-family: 'Open Sans', verdana, arial, sans-serif; font-size: 12px; fill: rgb(36, 36, 36); fill-opacity: 1; white-space: pre; opacity: 1;\">10</text></g><g class=\"ytick\"><text text-anchor=\"end\" x=\"48.6\" y=\"4.199999999999999\" style=\"font-family: 'Open Sans', verdana, arial, sans-serif; font-size: 12px; fill: rgb(36, 36, 36); fill-opacity: 1; white-space: pre; opacity: 1;\" transform=\"translate(0,59.75)\">20</text></g><g class=\"ytick\"><text text-anchor=\"end\" x=\"48.6\" y=\"4.199999999999999\" style=\"font-family: 'Open Sans', verdana, arial, sans-serif; font-size: 12px; fill: rgb(36, 36, 36); fill-opacity: 1; white-space: pre; opacity: 1;\" transform=\"translate(0,36.69)\">30</text></g></g><g class=\"overaxes-above\"/></g><g class=\"subplot xy2\"><g class=\"layer-subplot\"><g class=\"shapelayer\"/><g class=\"imagelayer\"/></g><g class=\"gridlayer\"><g class=\"x\"><path class=\"xgrid crisp\" transform=\"translate(91.88,0)\" d=\"M0,112.13793103448276v84.72413793103448\" style=\"stroke: rgb(232, 232, 232); stroke-opacity: 1; stroke-width: 1px;\"/><path class=\"xgrid crisp\" transform=\"translate(132.25,0)\" d=\"M0,112.13793103448276v84.72413793103448\" style=\"stroke: rgb(232, 232, 232); stroke-opacity: 1; stroke-width: 1px;\"/><path class=\"xgrid crisp\" transform=\"translate(172.63,0)\" d=\"M0,112.13793103448276v84.72413793103448\" style=\"stroke: rgb(232, 232, 232); stroke-opacity: 1; stroke-width: 1px;\"/></g><g class=\"y2\"><path class=\"y2grid crisp\" transform=\"translate(0,180.52793103448278)\" d=\"M57,0h148.3448275862069\" style=\"stroke: rgb(232, 232, 232); stroke-opacity: 1; stroke-width: 1px;\"/><path class=\"y2grid crisp\" transform=\"translate(0,156.86793103448275)\" d=\"M57,0h148.3448275862069\" style=\"stroke: rgb(232, 232, 232); stroke-opacity: 1; stroke-width: 1px;\"/><path class=\"y2grid crisp\" transform=\"translate(0,133.19793103448276)\" d=\"M57,0h148.3448275862069\" style=\"stroke: rgb(232, 232, 232); stroke-opacity: 1; stroke-width: 1px;\"/></g></g><g class=\"zerolinelayer\"/><path class=\"xlines-below\"/><path class=\"ylines-below\"/><g class=\"overlines-below\"/><g class=\"xaxislayer-below\"/><g class=\"yaxislayer-below\"/><g class=\"overaxes-below\"/><g class=\"plot\" transform=\"translate(57,112.13793103448276)\" clip-path=\"url(#clip28b30axy2plot)\"/><g class=\"overplot\"/><path class=\"xlines-above crisp\" d=\"M0,0\" style=\"fill: none;\"/><path class=\"ylines-above crisp\" d=\"M56.5,112.13793103448276V196.86206896551724\" style=\"fill: none; stroke-width: 1px; stroke: rgb(36, 36, 36); stroke-opacity: 1;\"/><g class=\"overlines-above\"/><g class=\"xaxislayer-above\"/><g class=\"yaxislayer-above\"><path class=\"y2tick ticks crisp\" d=\"M56,0h-5\" transform=\"translate(0,180.52793103448278)\" style=\"stroke: rgb(68, 68, 68); stroke-opacity: 1; stroke-width: 1px;\"/><path class=\"y2tick ticks crisp\" d=\"M56,0h-5\" transform=\"translate(0,156.86793103448275)\" style=\"stroke: rgb(68, 68, 68); stroke-opacity: 1; stroke-width: 1px;\"/><path class=\"y2tick ticks crisp\" d=\"M56,0h-5\" transform=\"translate(0,133.19793103448276)\" style=\"stroke: rgb(68, 68, 68); stroke-opacity: 1; stroke-width: 1px;\"/><g class=\"y2tick\"><text text-anchor=\"end\" x=\"48.6\" y=\"4.199999999999999\" transform=\"translate(0,180.52793103448278)\" style=\"font-family: 'Open Sans', verdana, arial, sans-serif; font-size: 12px; fill: rgb(36, 36, 36); fill-opacity: 1; white-space: pre; opacity: 1;\">5</text></g><g class=\"y2tick\"><text text-anchor=\"end\" x=\"48.6\" y=\"4.199999999999999\" style=\"font-family: 'Open Sans', verdana, arial, sans-serif; font-size: 12px; fill: rgb(36, 36, 36); fill-opacity: 1; white-space: pre; opacity: 1;\" transform=\"translate(0,156.86793103448275)\">10</text></g><g class=\"y2tick\"><text text-anchor=\"end\" x=\"48.6\" y=\"4.199999999999999\" style=\"font-family: 'Open Sans', verdana, arial, sans-serif; font-size: 12px; fill: rgb(36, 36, 36); fill-opacity: 1; white-space: pre; opacity: 1;\" transform=\"translate(0,133.19793103448276)\">15</text></g></g><g class=\"overaxes-above\"/></g><g class=\"subplot xy3\"><g class=\"layer-subplot\"><g class=\"shapelayer\"/><g class=\"imagelayer\"/></g><g class=\"gridlayer\"><g class=\"x\"><path class=\"xgrid crisp\" transform=\"translate(91.88,0)\" d=\"M0,206.27586206896552v84.72413793103449\" style=\"stroke: rgb(232, 232, 232); stroke-opacity: 1; stroke-width: 1px;\"/><path class=\"xgrid crisp\" transform=\"translate(132.25,0)\" d=\"M0,206.27586206896552v84.72413793103449\" style=\"stroke: rgb(232, 232, 232); stroke-opacity: 1; stroke-width: 1px;\"/><path class=\"xgrid crisp\" transform=\"translate(172.63,0)\" d=\"M0,206.27586206896552v84.72413793103449\" style=\"stroke: rgb(232, 232, 232); stroke-opacity: 1; stroke-width: 1px;\"/></g><g class=\"y3\"><path class=\"y3grid crisp\" transform=\"translate(0,270.1758620689655)\" d=\"M57,0h148.3448275862069\" style=\"stroke: rgb(232, 232, 232); stroke-opacity: 1; stroke-width: 1px;\"/><path class=\"y3grid crisp\" transform=\"translate(0,249.20586206896553)\" d=\"M57,0h148.3448275862069\" style=\"stroke: rgb(232, 232, 232); stroke-opacity: 1; stroke-width: 1px;\"/><path class=\"y3grid crisp\" transform=\"translate(0,228.2258620689655)\" d=\"M57,0h148.3448275862069\" style=\"stroke: rgb(232, 232, 232); stroke-opacity: 1; stroke-width: 1px;\"/></g></g><g class=\"zerolinelayer\"/><path class=\"xlines-below\"/><path class=\"ylines-below\"/><g class=\"overlines-below\"/><g class=\"xaxislayer-below\"/><g class=\"yaxislayer-below\"/><g class=\"overaxes-below\"/><g class=\"plot\" transform=\"translate(57,206.27586206896552)\" clip-path=\"url(#clip28b30axy3plot)\"/><g class=\"overplot\"/><path class=\"xlines-above crisp\" d=\"M56,291.5H205.3448275862069\" style=\"fill: none; stroke-width: 1px; stroke: rgb(36, 36, 36); stroke-opacity: 1;\"/><path class=\"ylines-above crisp\" d=\"M56.5,206.27586206896552V291\" style=\"fill: none; stroke-width: 1px; stroke: rgb(36, 36, 36); stroke-opacity: 1;\"/><g class=\"overlines-above\"/><g class=\"xaxislayer-above\"><path class=\"xtick ticks crisp\" d=\"M0,292v5\" transform=\"translate(91.88,0)\" style=\"stroke: rgb(68, 68, 68); stroke-opacity: 1; stroke-width: 1px;\"/><path class=\"xtick ticks crisp\" d=\"M0,292v5\" transform=\"translate(132.25,0)\" style=\"stroke: rgb(68, 68, 68); stroke-opacity: 1; stroke-width: 1px;\"/><path class=\"xtick ticks crisp\" d=\"M0,292v5\" transform=\"translate(172.63,0)\" style=\"stroke: rgb(68, 68, 68); stroke-opacity: 1; stroke-width: 1px;\"/><g class=\"xtick\"><text text-anchor=\"middle\" x=\"0\" y=\"311.4\" transform=\"translate(91.88,0)\" style=\"font-family: 'Open Sans', verdana, arial, sans-serif; font-size: 12px; fill: rgb(36, 36, 36); fill-opacity: 1; white-space: pre; opacity: 1;\">10</text></g><g class=\"xtick\"><text text-anchor=\"middle\" x=\"0\" y=\"311.4\" style=\"font-family: 'Open Sans', verdana, arial, sans-serif; font-size: 12px; fill: rgb(36, 36, 36); fill-opacity: 1; white-space: pre; opacity: 1;\" transform=\"translate(132.25,0)\">20</text></g><g class=\"xtick\"><text text-anchor=\"middle\" x=\"0\" y=\"311.4\" style=\"font-family: 'Open Sans', verdana, arial, sans-serif; font-size: 12px; fill: rgb(36, 36, 36); fill-opacity: 1; white-space: pre; opacity: 1;\" transform=\"translate(172.63,0)\">30</text></g></g><g class=\"yaxislayer-above\"><path class=\"y3tick ticks crisp\" d=\"M56,0h-5\" transform=\"translate(0,270.1758620689655)\" style=\"stroke: rgb(68, 68, 68); stroke-opacity: 1; stroke-width: 1px;\"/><path class=\"y3tick ticks crisp\" d=\"M56,0h-5\" transform=\"translate(0,249.20586206896553)\" style=\"stroke: rgb(68, 68, 68); stroke-opacity: 1; stroke-width: 1px;\"/><path class=\"y3tick ticks crisp\" d=\"M56,0h-5\" transform=\"translate(0,228.2258620689655)\" style=\"stroke: rgb(68, 68, 68); stroke-opacity: 1; stroke-width: 1px;\"/><path class=\"y3tick ticks crisp\" d=\"M56,0h-5\" transform=\"translate(0,207.2558620689655)\" style=\"stroke: rgb(68, 68, 68); stroke-opacity: 1; stroke-width: 1px;\"/><g class=\"y3tick\"><text text-anchor=\"end\" x=\"48.6\" y=\"4.199999999999999\" transform=\"translate(0,270.1758620689655)\" style=\"font-family: 'Open Sans', verdana, arial, sans-serif; font-size: 12px; fill: rgb(36, 36, 36); fill-opacity: 1; white-space: pre; opacity: 1;\">50</text></g><g class=\"y3tick\"><text text-anchor=\"end\" x=\"48.6\" y=\"4.199999999999999\" style=\"font-family: 'Open Sans', verdana, arial, sans-serif; font-size: 12px; fill: rgb(36, 36, 36); fill-opacity: 1; white-space: pre; opacity: 1;\" transform=\"translate(0,249.20586206896553)\">60</text></g><g class=\"y3tick\"><text text-anchor=\"end\" x=\"48.6\" y=\"4.199999999999999\" style=\"font-family: 'Open Sans', verdana, arial, sans-serif; font-size: 12px; fill: rgb(36, 36, 36); fill-opacity: 1; white-space: pre; opacity: 1;\" transform=\"translate(0,228.2258620689655)\">70</text></g><g class=\"y3tick\"><text text-anchor=\"end\" x=\"48.6\" y=\"4.199999999999999\" style=\"font-family: 'Open Sans', verdana, arial, sans-serif; font-size: 12px; fill: rgb(36, 36, 36); fill-opacity: 1; white-space: pre; opacity: 1;\" transform=\"translate(0,207.2558620689655)\">80</text></g></g><g class=\"overaxes-above\"/></g><g class=\"subplot x2y\"><g class=\"layer-subplot\"><g class=\"shapelayer\"/><g class=\"imagelayer\"/></g><g class=\"gridlayer\"><g class=\"x2\"><path class=\"x2grid crisp\" transform=\"translate(250.41758620689657,0)\" d=\"M0,18v84.72413793103448\" style=\"stroke: rgb(232, 232, 232); stroke-opacity: 1; stroke-width: 1px;\"/><path class=\"x2grid crisp\" transform=\"translate(291.8575862068966,0)\" d=\"M0,18v84.72413793103448\" style=\"stroke: rgb(232, 232, 232); stroke-opacity: 1; stroke-width: 1px;\"/><path class=\"x2grid crisp\" transform=\"translate(333.28758620689655,0)\" d=\"M0,18v84.72413793103448\" style=\"stroke: rgb(232, 232, 232); stroke-opacity: 1; stroke-width: 1px;\"/></g><g class=\"y\"><path class=\"ygrid crisp\" transform=\"translate(0,82.8)\" d=\"M221.82758620689657,0h148.34482758620686\" style=\"stroke: rgb(232, 232, 232); stroke-opacity: 1; stroke-width: 1px;\"/><path class=\"ygrid crisp\" transform=\"translate(0,59.75)\" d=\"M221.82758620689657,0h148.34482758620686\" style=\"stroke: rgb(232, 232, 232); stroke-opacity: 1; stroke-width: 1px;\"/><path class=\"ygrid crisp\" transform=\"translate(0,36.69)\" d=\"M221.82758620689657,0h148.34482758620686\" style=\"stroke: rgb(232, 232, 232); stroke-opacity: 1; stroke-width: 1px;\"/></g></g><g class=\"zerolinelayer\"/><path class=\"xlines-below\"/><path class=\"ylines-below\"/><g class=\"overlines-below\"/><g class=\"xaxislayer-below\"/><g class=\"yaxislayer-below\"/><g class=\"overaxes-below\"/><g class=\"plot\" transform=\"translate(221.82758620689657,18)\" clip-path=\"url(#clip28b30ax2yplot)\"/><g class=\"overplot\"/><path class=\"xlines-above crisp\" d=\"M0,0\" style=\"fill: none;\"/><path class=\"ylines-above crisp\" d=\"M0,0\" style=\"fill: none;\"/><g class=\"overlines-above\"/><g class=\"xaxislayer-above\"/><g class=\"yaxislayer-above\"/><g class=\"overaxes-above\"/></g><g class=\"subplot x2y2\"><g class=\"layer-subplot\"><g class=\"shapelayer\"/><g class=\"imagelayer\"/></g><g class=\"gridlayer\"><g class=\"x2\"><path class=\"x2grid crisp\" transform=\"translate(250.41758620689657,0)\" d=\"M0,112.13793103448276v84.72413793103448\" style=\"stroke: rgb(232, 232, 232); stroke-opacity: 1; stroke-width: 1px;\"/><path class=\"x2grid crisp\" transform=\"translate(291.8575862068966,0)\" d=\"M0,112.13793103448276v84.72413793103448\" style=\"stroke: rgb(232, 232, 232); stroke-opacity: 1; stroke-width: 1px;\"/><path class=\"x2grid crisp\" transform=\"translate(333.28758620689655,0)\" d=\"M0,112.13793103448276v84.72413793103448\" style=\"stroke: rgb(232, 232, 232); stroke-opacity: 1; stroke-width: 1px;\"/></g><g class=\"y2\"><path class=\"y2grid crisp\" transform=\"translate(0,180.52793103448278)\" d=\"M221.82758620689657,0h148.34482758620686\" style=\"stroke: rgb(232, 232, 232); stroke-opacity: 1; stroke-width: 1px;\"/><path class=\"y2grid crisp\" transform=\"translate(0,156.86793103448275)\" d=\"M221.82758620689657,0h148.34482758620686\" style=\"stroke: rgb(232, 232, 232); stroke-opacity: 1; stroke-width: 1px;\"/><path class=\"y2grid crisp\" transform=\"translate(0,133.19793103448276)\" d=\"M221.82758620689657,0h148.34482758620686\" style=\"stroke: rgb(232, 232, 232); stroke-opacity: 1; stroke-width: 1px;\"/></g></g><g class=\"zerolinelayer\"/><path class=\"xlines-below\"/><path class=\"ylines-below\"/><g class=\"overlines-below\"/><g class=\"xaxislayer-below\"/><g class=\"yaxislayer-below\"/><g class=\"overaxes-below\"/><g class=\"plot\" transform=\"translate(221.82758620689657,112.13793103448276)\" clip-path=\"url(#clip28b30ax2y2plot)\"/><g class=\"overplot\"/><path class=\"xlines-above crisp\" d=\"M0,0\" style=\"fill: none;\"/><path class=\"ylines-above crisp\" d=\"M0,0\" style=\"fill: none;\"/><g class=\"overlines-above\"/><g class=\"xaxislayer-above\"/><g class=\"yaxislayer-above\"/><g class=\"overaxes-above\"/></g><g class=\"subplot x2y3\"><g class=\"layer-subplot\"><g class=\"shapelayer\"/><g class=\"imagelayer\"/></g><g class=\"gridlayer\"><g class=\"x2\"><path class=\"x2grid crisp\" transform=\"translate(250.41758620689657,0)\" d=\"M0,206.27586206896552v84.72413793103449\" style=\"stroke: rgb(232, 232, 232); stroke-opacity: 1; stroke-width: 1px;\"/><path class=\"x2grid crisp\" transform=\"translate(291.8575862068966,0)\" d=\"M0,206.27586206896552v84.72413793103449\" style=\"stroke: rgb(232, 232, 232); stroke-opacity: 1; stroke-width: 1px;\"/><path class=\"x2grid crisp\" transform=\"translate(333.28758620689655,0)\" d=\"M0,206.27586206896552v84.72413793103449\" style=\"stroke: rgb(232, 232, 232); stroke-opacity: 1; stroke-width: 1px;\"/></g><g class=\"y3\"><path class=\"y3grid crisp\" transform=\"translate(0,270.1758620689655)\" d=\"M221.82758620689657,0h148.34482758620686\" style=\"stroke: rgb(232, 232, 232); stroke-opacity: 1; stroke-width: 1px;\"/><path class=\"y3grid crisp\" transform=\"translate(0,249.20586206896553)\" d=\"M221.82758620689657,0h148.34482758620686\" style=\"stroke: rgb(232, 232, 232); stroke-opacity: 1; stroke-width: 1px;\"/><path class=\"y3grid crisp\" transform=\"translate(0,228.2258620689655)\" d=\"M221.82758620689657,0h148.34482758620686\" style=\"stroke: rgb(232, 232, 232); stroke-opacity: 1; stroke-width: 1px;\"/></g></g><g class=\"zerolinelayer\"/><path class=\"xlines-below\"/><path class=\"ylines-below\"/><g class=\"overlines-below\"/><g class=\"xaxislayer-below\"/><g class=\"yaxislayer-below\"/><g class=\"overaxes-below\"/><g class=\"plot\" transform=\"translate(221.82758620689657,206.27586206896552)\" clip-path=\"url(#clip28b30ax2y3plot)\"/><g class=\"overplot\"/><path class=\"xlines-above crisp\" d=\"M221.82758620689657,291.5H370.17241379310343\" style=\"fill: none; stroke-width: 1px; stroke: rgb(36, 36, 36); stroke-opacity: 1;\"/><path class=\"ylines-above crisp\" d=\"M0,0\" style=\"fill: none;\"/><g class=\"overlines-above\"/><g class=\"xaxislayer-above\"><path class=\"x2tick ticks crisp\" d=\"M0,292v5\" transform=\"translate(250.41758620689657,0)\" style=\"stroke: rgb(68, 68, 68); stroke-opacity: 1; stroke-width: 1px;\"/><path class=\"x2tick ticks crisp\" d=\"M0,292v5\" transform=\"translate(291.8575862068966,0)\" style=\"stroke: rgb(68, 68, 68); stroke-opacity: 1; stroke-width: 1px;\"/><path class=\"x2tick ticks crisp\" d=\"M0,292v5\" transform=\"translate(333.28758620689655,0)\" style=\"stroke: rgb(68, 68, 68); stroke-opacity: 1; stroke-width: 1px;\"/><g class=\"x2tick\"><text text-anchor=\"middle\" x=\"0\" y=\"311.4\" transform=\"translate(250.41758620689657,0)\" style=\"font-family: 'Open Sans', verdana, arial, sans-serif; font-size: 12px; fill: rgb(36, 36, 36); fill-opacity: 1; white-space: pre; opacity: 1;\">5</text></g><g class=\"x2tick\"><text text-anchor=\"middle\" x=\"0\" y=\"311.4\" style=\"font-family: 'Open Sans', verdana, arial, sans-serif; font-size: 12px; fill: rgb(36, 36, 36); fill-opacity: 1; white-space: pre; opacity: 1;\" transform=\"translate(291.8575862068966,0)\">10</text></g><g class=\"x2tick\"><text text-anchor=\"middle\" x=\"0\" y=\"311.4\" style=\"font-family: 'Open Sans', verdana, arial, sans-serif; font-size: 12px; fill: rgb(36, 36, 36); fill-opacity: 1; white-space: pre; opacity: 1;\" transform=\"translate(333.28758620689655,0)\">15</text></g></g><g class=\"yaxislayer-above\"/><g class=\"overaxes-above\"/></g><g class=\"subplot x3y\"><g class=\"layer-subplot\"><g class=\"shapelayer\"/><g class=\"imagelayer\"/></g><g class=\"gridlayer\"><g class=\"x3\"><path class=\"x3grid crisp\" transform=\"translate(423.12517241379317,0)\" d=\"M0,18v84.72413793103448\" style=\"stroke: rgb(232, 232, 232); stroke-opacity: 1; stroke-width: 1px;\"/><path class=\"x3grid crisp\" transform=\"translate(459.84517241379314,0)\" d=\"M0,18v84.72413793103448\" style=\"stroke: rgb(232, 232, 232); stroke-opacity: 1; stroke-width: 1px;\"/><path class=\"x3grid crisp\" transform=\"translate(496.5551724137931,0)\" d=\"M0,18v84.72413793103448\" style=\"stroke: rgb(232, 232, 232); stroke-opacity: 1; stroke-width: 1px;\"/><path class=\"x3grid crisp\" transform=\"translate(533.2751724137931,0)\" d=\"M0,18v84.72413793103448\" style=\"stroke: rgb(232, 232, 232); stroke-opacity: 1; stroke-width: 1px;\"/></g><g class=\"y\"><path class=\"ygrid crisp\" transform=\"translate(0,82.8)\" d=\"M386.65517241379314,0h148.34482758620686\" style=\"stroke: rgb(232, 232, 232); stroke-opacity: 1; stroke-width: 1px;\"/><path class=\"ygrid crisp\" transform=\"translate(0,59.75)\" d=\"M386.65517241379314,0h148.34482758620686\" style=\"stroke: rgb(232, 232, 232); stroke-opacity: 1; stroke-width: 1px;\"/><path class=\"ygrid crisp\" transform=\"translate(0,36.69)\" d=\"M386.65517241379314,0h148.34482758620686\" style=\"stroke: rgb(232, 232, 232); stroke-opacity: 1; stroke-width: 1px;\"/></g></g><g class=\"zerolinelayer\"/><path class=\"xlines-below\"/><path class=\"ylines-below\"/><g class=\"overlines-below\"/><g class=\"xaxislayer-below\"/><g class=\"yaxislayer-below\"/><g class=\"overaxes-below\"/><g class=\"plot\" transform=\"translate(386.65517241379314,18)\" clip-path=\"url(#clip28b30ax3yplot)\"/><g class=\"overplot\"/><path class=\"xlines-above crisp\" d=\"M0,0\" style=\"fill: none;\"/><path class=\"ylines-above crisp\" d=\"M0,0\" style=\"fill: none;\"/><g class=\"overlines-above\"/><g class=\"xaxislayer-above\"/><g class=\"yaxislayer-above\"/><g class=\"overaxes-above\"/></g><g class=\"subplot x3y2\"><g class=\"layer-subplot\"><g class=\"shapelayer\"/><g class=\"imagelayer\"/></g><g class=\"gridlayer\"><g class=\"x3\"><path class=\"x3grid crisp\" transform=\"translate(423.12517241379317,0)\" d=\"M0,112.13793103448276v84.72413793103448\" style=\"stroke: rgb(232, 232, 232); stroke-opacity: 1; stroke-width: 1px;\"/><path class=\"x3grid crisp\" transform=\"translate(459.84517241379314,0)\" d=\"M0,112.13793103448276v84.72413793103448\" style=\"stroke: rgb(232, 232, 232); stroke-opacity: 1; stroke-width: 1px;\"/><path class=\"x3grid crisp\" transform=\"translate(496.5551724137931,0)\" d=\"M0,112.13793103448276v84.72413793103448\" style=\"stroke: rgb(232, 232, 232); stroke-opacity: 1; stroke-width: 1px;\"/><path class=\"x3grid crisp\" transform=\"translate(533.2751724137931,0)\" d=\"M0,112.13793103448276v84.72413793103448\" style=\"stroke: rgb(232, 232, 232); stroke-opacity: 1; stroke-width: 1px;\"/></g><g class=\"y2\"><path class=\"y2grid crisp\" transform=\"translate(0,180.52793103448278)\" d=\"M386.65517241379314,0h148.34482758620686\" style=\"stroke: rgb(232, 232, 232); stroke-opacity: 1; stroke-width: 1px;\"/><path class=\"y2grid crisp\" transform=\"translate(0,156.86793103448275)\" d=\"M386.65517241379314,0h148.34482758620686\" style=\"stroke: rgb(232, 232, 232); stroke-opacity: 1; stroke-width: 1px;\"/><path class=\"y2grid crisp\" transform=\"translate(0,133.19793103448276)\" d=\"M386.65517241379314,0h148.34482758620686\" style=\"stroke: rgb(232, 232, 232); stroke-opacity: 1; stroke-width: 1px;\"/></g></g><g class=\"zerolinelayer\"/><path class=\"xlines-below\"/><path class=\"ylines-below\"/><g class=\"overlines-below\"/><g class=\"xaxislayer-below\"/><g class=\"yaxislayer-below\"/><g class=\"overaxes-below\"/><g class=\"plot\" transform=\"translate(386.65517241379314,112.13793103448276)\" clip-path=\"url(#clip28b30ax3y2plot)\"/><g class=\"overplot\"/><path class=\"xlines-above crisp\" d=\"M0,0\" style=\"fill: none;\"/><path class=\"ylines-above crisp\" d=\"M0,0\" style=\"fill: none;\"/><g class=\"overlines-above\"/><g class=\"xaxislayer-above\"/><g class=\"yaxislayer-above\"/><g class=\"overaxes-above\"/></g><g class=\"subplot x3y3\"><g class=\"layer-subplot\"><g class=\"shapelayer\"/><g class=\"imagelayer\"/></g><g class=\"gridlayer\"><g class=\"x3\"><path class=\"x3grid crisp\" transform=\"translate(423.12517241379317,0)\" d=\"M0,206.27586206896552v84.72413793103449\" style=\"stroke: rgb(232, 232, 232); stroke-opacity: 1; stroke-width: 1px;\"/><path class=\"x3grid crisp\" transform=\"translate(459.84517241379314,0)\" d=\"M0,206.27586206896552v84.72413793103449\" style=\"stroke: rgb(232, 232, 232); stroke-opacity: 1; stroke-width: 1px;\"/><path class=\"x3grid crisp\" transform=\"translate(496.5551724137931,0)\" d=\"M0,206.27586206896552v84.72413793103449\" style=\"stroke: rgb(232, 232, 232); stroke-opacity: 1; stroke-width: 1px;\"/><path class=\"x3grid crisp\" transform=\"translate(533.2751724137931,0)\" d=\"M0,206.27586206896552v84.72413793103449\" style=\"stroke: rgb(232, 232, 232); stroke-opacity: 1; stroke-width: 1px;\"/></g><g class=\"y3\"><path class=\"y3grid crisp\" transform=\"translate(0,270.1758620689655)\" d=\"M386.65517241379314,0h148.34482758620686\" style=\"stroke: rgb(232, 232, 232); stroke-opacity: 1; stroke-width: 1px;\"/><path class=\"y3grid crisp\" transform=\"translate(0,249.20586206896553)\" d=\"M386.65517241379314,0h148.34482758620686\" style=\"stroke: rgb(232, 232, 232); stroke-opacity: 1; stroke-width: 1px;\"/><path class=\"y3grid crisp\" transform=\"translate(0,228.2258620689655)\" d=\"M386.65517241379314,0h148.34482758620686\" style=\"stroke: rgb(232, 232, 232); stroke-opacity: 1; stroke-width: 1px;\"/></g></g><g class=\"zerolinelayer\"/><path class=\"xlines-below\"/><path class=\"ylines-below\"/><g class=\"overlines-below\"/><g class=\"xaxislayer-below\"/><g class=\"yaxislayer-below\"/><g class=\"overaxes-below\"/><g class=\"plot\" transform=\"translate(386.65517241379314,206.27586206896552)\" clip-path=\"url(#clip28b30ax3y3plot)\"/><g class=\"overplot\"/><path class=\"xlines-above crisp\" d=\"M386.65517241379314,291.5H535\" style=\"fill: none; stroke-width: 1px; stroke: rgb(36, 36, 36); stroke-opacity: 1;\"/><path class=\"ylines-above crisp\" d=\"M0,0\" style=\"fill: none;\"/><g class=\"overlines-above\"/><g class=\"xaxislayer-above\"><path class=\"x3tick ticks crisp\" d=\"M0,292v5\" transform=\"translate(423.12517241379317,0)\" style=\"stroke: rgb(68, 68, 68); stroke-opacity: 1; stroke-width: 1px;\"/><path class=\"x3tick ticks crisp\" d=\"M0,292v5\" transform=\"translate(459.84517241379314,0)\" style=\"stroke: rgb(68, 68, 68); stroke-opacity: 1; stroke-width: 1px;\"/><path class=\"x3tick ticks crisp\" d=\"M0,292v5\" transform=\"translate(496.5551724137931,0)\" style=\"stroke: rgb(68, 68, 68); stroke-opacity: 1; stroke-width: 1px;\"/><path class=\"x3tick ticks crisp\" d=\"M0,292v5\" transform=\"translate(533.2751724137931,0)\" style=\"stroke: rgb(68, 68, 68); stroke-opacity: 1; stroke-width: 1px;\"/><g class=\"x3tick\"><text text-anchor=\"middle\" x=\"0\" y=\"311.4\" transform=\"translate(423.12517241379317,0)\" style=\"font-family: 'Open Sans', verdana, arial, sans-serif; font-size: 12px; fill: rgb(36, 36, 36); fill-opacity: 1; white-space: pre; opacity: 1;\">50</text></g><g class=\"x3tick\"><text text-anchor=\"middle\" x=\"0\" y=\"311.4\" style=\"font-family: 'Open Sans', verdana, arial, sans-serif; font-size: 12px; fill: rgb(36, 36, 36); fill-opacity: 1; white-space: pre; opacity: 1;\" transform=\"translate(459.84517241379314,0)\">60</text></g><g class=\"x3tick\"><text text-anchor=\"middle\" x=\"0\" y=\"311.4\" style=\"font-family: 'Open Sans', verdana, arial, sans-serif; font-size: 12px; fill: rgb(36, 36, 36); fill-opacity: 1; white-space: pre; opacity: 1;\" transform=\"translate(496.5551724137931,0)\">70</text></g><g class=\"x3tick\"><text text-anchor=\"middle\" x=\"0\" y=\"311.4\" style=\"font-family: 'Open Sans', verdana, arial, sans-serif; font-size: 12px; fill: rgb(36, 36, 36); fill-opacity: 1; white-space: pre; opacity: 1;\" transform=\"translate(533.2751724137931,0)\">80</text></g></g><g class=\"yaxislayer-above\"/><g class=\"overaxes-above\"/></g></g><g class=\"polarlayer\"/><g class=\"smithlayer\"/><g class=\"ternarylayer\"/><g class=\"geolayer\"/><g class=\"funnelarealayer\"/><g class=\"pielayer\"/><g class=\"iciclelayer\"/><g class=\"treemaplayer\"/><g class=\"sunburstlayer\"/><g class=\"glimages\"><image xmlns=\"http://www.w3.org/2000/svg\" xlink:href=\"data:image/png;base64,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\" preserveAspectRatio=\"none\" x=\"0\" y=\"0\" width=\"550px\" height=\"350px\"/><image xmlns=\"http://www.w3.org/2000/svg\" xlink:href=\"data:image/png;base64,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\" preserveAspectRatio=\"none\" x=\"0\" y=\"0\" width=\"550px\" height=\"350px\"/></g><defs id=\"topdefs-28b30a\"><g class=\"clips\"/></defs><g class=\"layer-above\"><g class=\"imagelayer\"/><g class=\"shapelayer\"/></g><g class=\"infolayer\"><g class=\"g-gtitle\"/><g class=\"g-xtitle\"><text class=\"xtitle\" x=\"131.17241379310343\" y=\"339.70625\" text-anchor=\"middle\" style=\"font-family: 'Open Sans', verdana, arial, sans-serif; font-size: 14px; fill: rgb(36, 36, 36); opacity: 1; font-weight: normal; white-space: pre;\">pm25pa</text></g><g class=\"g-x2title\"><text class=\"x2title\" x=\"296\" y=\"339.70625\" text-anchor=\"middle\" style=\"font-family: 'Open Sans', verdana, arial, sans-serif; font-size: 14px; fill: rgb(36, 36, 36); opacity: 1; font-weight: normal; white-space: pre;\">pm25aqs</text></g><g class=\"g-x3title\"><text class=\"x3title\" x=\"460.82758620689657\" y=\"339.70625\" text-anchor=\"middle\" style=\"font-family: 'Open Sans', verdana, arial, sans-serif; font-size: 14px; fill: rgb(36, 36, 36); opacity: 1; font-weight: normal; white-space: pre;\">rh</text></g><g class=\"g-ytitle\" transform=\"translate(4.927734375,0)\"><text class=\"ytitle\" transform=\"rotate(-90,10.075000000000003,60.36206896551724)\" x=\"10.075000000000003\" y=\"60.36206896551724\" text-anchor=\"middle\" style=\"font-family: 'Open Sans', verdana, arial, sans-serif; font-size: 14px; fill: rgb(36, 36, 36); opacity: 1; font-weight: normal; white-space: pre;\">pm25pa</text></g><g class=\"g-y2title\" transform=\"translate(4.9248046875,0)\"><text class=\"y2title\" transform=\"rotate(-90,10.075000000000003,154.5)\" x=\"10.075000000000003\" y=\"154.5\" text-anchor=\"middle\" style=\"font-family: 'Open Sans', verdana, arial, sans-serif; font-size: 14px; fill: rgb(36, 36, 36); opacity: 1; font-weight: normal; white-space: pre;\">pm25aqs</text></g><g class=\"g-y3title\" transform=\"translate(4.9375,0)\"><text class=\"y3title\" transform=\"rotate(-90,10.075000000000003,248.63793103448276)\" x=\"10.075000000000003\" y=\"248.63793103448276\" text-anchor=\"middle\" style=\"font-family: 'Open Sans', verdana, arial, sans-serif; font-size: 14px; fill: rgb(36, 36, 36); opacity: 1; font-weight: normal; white-space: pre;\">rh</text></g></g></svg>"
      ]
     },
     "metadata": {},
     "output_type": "display_data"
    }
   ],
   "source": [
    "px.scatter_matrix(GA[['pm25pa', 'pm25aqs', 'rh']],\n",
    "                  width=550, height=350)"
   ]
  },
  {
   "cell_type": "markdown",
   "metadata": {},
   "source": [
    "The relationship between humidity and air quality does not appear particularly strong. Another pairwise measure we should examine are the correlations between features "
   ]
  },
  {
   "cell_type": "code",
   "execution_count": 7,
   "metadata": {
    "tags": [
     "hide-input"
    ]
   },
   "outputs": [
    {
     "data": {
      "text/html": [
       "<div>\n",
       "<style scoped>\n",
       "    .dataframe tbody tr th:only-of-type {\n",
       "        vertical-align: middle;\n",
       "    }\n",
       "\n",
       "    .dataframe tbody tr th {\n",
       "        vertical-align: top;\n",
       "    }\n",
       "\n",
       "    .dataframe thead th {\n",
       "        text-align: right;\n",
       "    }\n",
       "</style>\n",
       "<table border=\"1\" class=\"dataframe\">\n",
       "  <thead>\n",
       "    <tr style=\"text-align: right;\">\n",
       "      <th></th>\n",
       "      <th>pm25pa</th>\n",
       "      <th>pm25aqs</th>\n",
       "      <th>rh</th>\n",
       "    </tr>\n",
       "  </thead>\n",
       "  <tbody>\n",
       "    <tr>\n",
       "      <th>pm25pa</th>\n",
       "      <td>1.00</td>\n",
       "      <td>0.95</td>\n",
       "      <td>-0.06</td>\n",
       "    </tr>\n",
       "    <tr>\n",
       "      <th>pm25aqs</th>\n",
       "      <td>0.95</td>\n",
       "      <td>1.00</td>\n",
       "      <td>-0.24</td>\n",
       "    </tr>\n",
       "    <tr>\n",
       "      <th>rh</th>\n",
       "      <td>-0.06</td>\n",
       "      <td>-0.24</td>\n",
       "      <td>1.00</td>\n",
       "    </tr>\n",
       "  </tbody>\n",
       "</table>\n",
       "</div>"
      ],
      "text/plain": [
       "         pm25pa  pm25aqs    rh\n",
       "pm25pa     1.00     0.95 -0.06\n",
       "pm25aqs    0.95     1.00 -0.24\n",
       "rh        -0.06    -0.24  1.00"
      ]
     },
     "execution_count": 7,
     "metadata": {},
     "output_type": "execute_result"
    }
   ],
   "source": [
    "GA[['pm25pa', 'pm25aqs', 'rh']].corr()"
   ]
  },
  {
   "cell_type": "markdown",
   "metadata": {},
   "source": [
    "One small surprise is that relative humidity has a small negative correlation with the AQS measurement of air quality. This suggests that humidity might be helpful in the model.\n",
    "\n",
    "\n",
    "In the next section, we derive the equation for the fit. But for now, we use the functionality in `LinearRegression`  to fit the model. The only change from earlier, is that we provide two columns for the explanatory variables (that's why the `x` input is a data frame):"
   ]
  },
  {
   "cell_type": "code",
   "execution_count": 9,
   "metadata": {},
   "outputs": [],
   "source": [
    "from sklearn.linear_model import LinearRegression\n",
    "\n",
    "y = GA['pm25pa']\n",
    "X2 = GA[['pm25aqs', 'rh']]\n",
    "\n",
    "model2 = LinearRegression().fit(X2, y)"
   ]
  },
  {
   "cell_type": "markdown",
   "metadata": {},
   "source": [
    "The fitted multiple linear model, including the coefficient units is:"
   ]
  },
  {
   "cell_type": "code",
   "execution_count": 15,
   "metadata": {
    "tags": [
     "hide-input"
    ]
   },
   "outputs": [
    {
     "name": "stdout",
     "output_type": "stream",
     "text": [
      "PA estimate = -15.8 ppm + 2.25 ppm/ppm x AQS +  0.21 ppm/percent x RH\n"
     ]
    }
   ],
   "source": [
    "print(f\"PA estimate = {model2.intercept_:.1f} ppm +\", \n",
    "      f\"{model2.coef_[0]:.2f} ppm/ppm x AQS + \",  \n",
    "      f\"{model2.coef_[1]:.2f} ppm/percent x RH\")"
   ]
  },
  {
   "cell_type": "markdown",
   "metadata": {},
   "source": [
    "The coefficient for humidity in the model adjusts the air quality prediction by 0.21 ppm for each percentage point of relative humidity. Notice that the coefficient for AQS differs from the simple linear model that we fitted earlier. This happens because the coefficient reflects the additional information coming from relative humidity."
   ]
  },
  {
   "cell_type": "markdown",
   "metadata": {},
   "source": [
    "Lastly, to check the quality of the fit, we make residual plots of the predicted values and the errors. This time, we use `LinearRegression` to compute the predictions for us:"
   ]
  },
  {
   "cell_type": "code",
   "execution_count": 16,
   "metadata": {},
   "outputs": [],
   "source": [
    "predicted_2var = model2.predict(X2)\n",
    "error_2var = y - predicted_2var"
   ]
  },
  {
   "cell_type": "code",
   "execution_count": 18,
   "metadata": {
    "tags": []
   },
   "outputs": [
    {
     "data": {
      "application/vnd.plotly.v1+json": {
       "config": {
        "plotlyServerURL": "https://plot.ly"
       },
       "data": [
        {
         "hovertemplate": "predicted values=%{x}<br>error=%{y}<extra></extra>",
         "legendgroup": "",
         "marker": {
          "color": "#1F77B4",
          "symbol": "circle"
         },
         "mode": "markers",
         "name": "",
         "orientation": "v",
         "showlegend": false,
         "type": "scatter",
         "x": [
          15.94368311947651,
          13.173022890519015,
          10.550479965187954,
          15.062678076601443,
          17.256710174459265,
          21.727712168705786,
          14.824205514001648,
          18.272578172934253,
          20.724200957214556,
          21.85194094355294,
          21.66594944512037,
          10.767796091922882,
          13.85380423170627,
          17.327345511325845,
          18.36674198663065,
          12.692479901527761,
          7.386338617428564,
          7.767486783057411,
          12.683799390869705,
          9.702512877226717,
          11.338937477770564,
          12.444206092704576,
          11.932594162244783,
          10.135503238157614,
          12.430940609212769,
          17.049578585224964,
          18.081643389476802,
          15.25346336236376,
          29.56544903556921,
          28.664735075057756,
          19.53657809323588,
          17.987927304984503,
          20.617575830583732,
          23.06598084606678,
          21.19054065597367,
          8.589010859261279,
          11.49596390253798,
          12.191466846193915,
          11.35235464131959,
          13.788857933201925,
          15.968782141051989,
          18.295332194539462,
          19.87333360887169,
          27.27318693275197,
          22.689495650719962,
          24.467376613738686,
          30.97392708527959,
          33.56811885710347,
          34.46169489652825,
          24.924493413188344,
          20.13279949567655,
          13.487886727880817,
          12.123026660323095,
          8.880458817327785,
          9.587872161484846,
          13.483653808495468,
          14.280966524347086,
          14.917110849061249,
          9.753696583901508,
          17.46264113133597,
          5.702157434292296,
          10.69799514443553,
          15.721757766504599,
          7.66213985486759,
          4.355225816930918,
          13.383302516859779,
          15.075391970854746,
          23.859780687603752,
          14.446654673141524,
          9.522137778101708,
          11.305399261203217,
          19.344894741040456,
          11.719837853734298,
          17.013732317068865,
          20.22764825190975,
          27.467734980486462,
          29.393802472182237,
          14.59238886744955,
          16.414918762839342,
          26.258226314244823,
          27.33222781352122,
          10.413224325009416,
          7.51956299854821,
          18.62107809477199,
          26.169704041710716,
          19.230209181031682,
          14.787884608874734,
          16.585366437535285,
          20.497395420032753,
          13.894423586511689,
          21.080706677347827,
          21.804251422304446,
          24.60371902811864,
          23.224978478917215,
          11.473400271140434,
          15.873026858249574,
          17.947200129652487,
          18.3761344746109,
          13.643086690176709,
          6.635000437462473,
          10.01211108899222,
          13.895333417599044,
          7.833556534266556,
          11.451638317466319,
          10.265322440581095,
          8.82597072184663,
          9.290246940439467,
          11.00339739107217,
          15.622035367084361,
          17.046844565541548,
          13.929228495938666,
          27.86554395215267,
          27.209016646993213,
          18.860373055061366,
          16.738825580350976,
          22.073294258648268,
          23.779753582145474,
          20.918181044714537,
          8.701711698957034,
          10.754015956535344,
          12.04119830859398,
          10.657366881201376,
          15.413627620810097,
          13.74294055706087,
          17.224674217429815,
          17.2248638760215,
          22.99994751229361,
          17.65552556231527,
          22.57596350146075,
          25.8366463911426,
          30.872691192385652,
          31.475122644590805,
          21.63738634006782,
          17.24177726964996,
          8.416348941571947,
          9.117671686441955,
          8.786540699575731,
          5.530641932437749,
          11.689832861343671,
          13.614153974152813,
          14.316038952678301,
          8.85208986633549,
          18.89018434947657,
          3.8144183693884415,
          9.56159425949776,
          12.904236774110785,
          5.229679313428665,
          4.345833328950675,
          13.552353776403407,
          12.455097447928495,
          24.88348073284577,
          11.309813883604143,
          5.680916740465875,
          9.648873247621935,
          20.722797099424263,
          22.207715074305355,
          22.77417512013421,
          15.873026858249574,
          13.192283331393696,
          8.284359893049565,
          8.82597072184663,
          16.07283872586737,
          27.86554395215267,
          22.045189441672058,
          12.717403346768496,
          12.235178636941914,
          20.155085708111073,
          25.50618533355032,
          35.081549514854885,
          11.571972453053018,
          6.206846970612265,
          14.99224399085282,
          20.46799610521711,
          9.56159425949776,
          14.256646850459813,
          11.760617242387156
         ],
         "xaxis": "x",
         "y": [
          0.24569188052348778,
          0.4195257205920857,
          -0.24990904138365444,
          -0.27237220231614323,
          0.2891301033185343,
          0.6126906090720148,
          -0.2559288754561475,
          0.9384483633786473,
          0.9423684872298423,
          3.824677112002661,
          3.4154483295667326,
          0.612247199803317,
          1.6246402127381288,
          0.7237655997852563,
          1.0636746800360513,
          -0.13229934597216086,
          0.5523488825714367,
          -0.22754233861297113,
          -0.8897577242030046,
          -1.8097142661156065,
          -1.0959444222149646,
          -1.243469981593476,
          -2.078661107851472,
          -0.1387949048242838,
          -0.7642461647683696,
          -1.1317035852249635,
          -1.3454072783657018,
          -0.10797725125265956,
          -0.3757962577914107,
          -1.4606309083910567,
          0.7601649623197169,
          -0.30430924942890414,
          0.12099361386066931,
          -0.5941127905111792,
          -0.5202203217118715,
          0.05984330740539079,
          -0.6323319580935802,
          -1.7473835128606154,
          -2.19938241909737,
          -1.9246357109797252,
          -1.3723009171298894,
          -1.0455127500950603,
          -0.2642988866494882,
          1.455123220238331,
          0.4626779603911366,
          -1.1729113359608867,
          0.2269409702760079,
          0.6816341122112277,
          0.45922177013844845,
          -1.2843753576327437,
          -2.301924495676552,
          -5.440456172325257,
          -3.6033669381008746,
          -1.4518546506611152,
          0.472051343383054,
          -1.4927510307176686,
          -0.8302371645108853,
          -1.4629302935056483,
          0.024534613870081046,
          2.927414424219627,
          0.6876689545965942,
          2.246365966675569,
          -2.1034730442823992,
          -0.09503568820091957,
          0.18893390529130194,
          0.1659544275846212,
          -1.986168891412646,
          1.6103651457295491,
          0.10136700047927683,
          -1.883584231509218,
          0.7859340721300825,
          -1.1160396685766543,
          0.5941354795990019,
          -2.1485587059577647,
          -1.5275996407986483,
          -2.8409964547562616,
          -2.4504135832933365,
          -1.5556192045282504,
          -2.8628493183949413,
          -2.921323536467021,
          -1.516248646854521,
          -0.08345349167611715,
          0.9732981125628992,
          -1.990362816994189,
          -4.806651190528516,
          0.6163672078572162,
          -1.6847596088747334,
          2.0883557846869145,
          1.8430073577450479,
          0.6738530520338113,
          -1.8696801410349266,
          -0.13768197786004777,
          1.0728990274369608,
          1.8564192957698857,
          -0.09335697941423504,
          -0.3945824138051748,
          0.10391098145861477,
          1.0542821920558012,
          -1.0829061346211084,
          1.3036870625375272,
          -2.472166644547781,
          -2.1012917509323437,
          0.05924207684455407,
          -1.2086452619107195,
          0.9354136705300053,
          1.0279623325466805,
          0.7064613928938641,
          0.6632970533722293,
          0.295839632915639,
          -0.31060845443044727,
          1.2162576151724345,
          1.324108825625128,
          -0.004912480326513702,
          1.4363700004942324,
          0.944792475204622,
          -1.3347248142038666,
          -1.3078855265898746,
          -0.24786071045273772,
          -0.05285753229036416,
          0.10961598790905569,
          -1.5971149752606806,
          -1.504394658979157,
          -3.549405398587897,
          0.85354066686123,
          0.02514522701458688,
          2.3841708462007,
          5.728362640696691,
          5.49664804879583,
          0.7185017763170514,
          5.364221664412998,
          3.3770617769290467,
          3.4457940220758942,
          2.00273171548778,
          0.5890977303500406,
          -0.3689183860163876,
          -0.5980119642197348,
          -1.3579365329090614,
          4.5292815724301505,
          0.3010699164341286,
          -0.1634246143166127,
          -0.8618583971227007,
          0.9261413314360993,
          1.4998712060790282,
          2.5754080195004487,
          3.38276685161334,
          0.7140479481114141,
          2.337424853238005,
          0.1983263932715449,
          -0.003096831959007673,
          0.634125631513605,
          0.586665100487533,
          3.2382077900166575,
          1.9576368061266152,
          0.6516976761823638,
          1.617605678353538,
          -2.996688537992455,
          2.3072226545528913,
          -0.3945824138051748,
          -0.6321027758380957,
          -0.3915612819384551,
          1.0279623325466805,
          -0.15496372586737017,
          1.324108825625128,
          -1.3748691074102588,
          -2.273320013435196,
          -3.0822064147196944,
          -0.546050985888872,
          -2.2117200557725205,
          -0.16063284818818602,
          -3.5245418974974587,
          3.853076534255635,
          -1.5380634352972198,
          -0.07794054966151265,
          3.38276685161334,
          -0.6383621282376133,
          2.787404431233645
         ],
         "yaxis": "y"
        }
       ],
       "layout": {
        "height": 250,
        "legend": {
         "tracegroupgap": 0
        },
        "shapes": [
         {
          "line": {
           "dash": "dash",
           "width": 3
          },
          "opacity": 1,
          "type": "line",
          "x0": 0,
          "x1": 1,
          "xref": "x domain",
          "y0": 0,
          "y1": 0,
          "yref": "y"
         }
        ],
        "template": {
         "data": {
          "bar": [
           {
            "error_x": {
             "color": "rgb(36,36,36)"
            },
            "error_y": {
             "color": "rgb(36,36,36)"
            },
            "marker": {
             "line": {
              "color": "white",
              "width": 0.5
             },
             "pattern": {
              "fillmode": "overlay",
              "size": 10,
              "solidity": 0.2
             }
            },
            "type": "bar"
           }
          ],
          "barpolar": [
           {
            "marker": {
             "line": {
              "color": "white",
              "width": 0.5
             },
             "pattern": {
              "fillmode": "overlay",
              "size": 10,
              "solidity": 0.2
             }
            },
            "type": "barpolar"
           }
          ],
          "carpet": [
           {
            "aaxis": {
             "endlinecolor": "rgb(36,36,36)",
             "gridcolor": "white",
             "linecolor": "white",
             "minorgridcolor": "white",
             "startlinecolor": "rgb(36,36,36)"
            },
            "baxis": {
             "endlinecolor": "rgb(36,36,36)",
             "gridcolor": "white",
             "linecolor": "white",
             "minorgridcolor": "white",
             "startlinecolor": "rgb(36,36,36)"
            },
            "type": "carpet"
           }
          ],
          "choropleth": [
           {
            "colorbar": {
             "outlinewidth": 1,
             "tickcolor": "rgb(36,36,36)",
             "ticks": "outside"
            },
            "type": "choropleth"
           }
          ],
          "contour": [
           {
            "colorbar": {
             "outlinewidth": 1,
             "tickcolor": "rgb(36,36,36)",
             "ticks": "outside"
            },
            "colorscale": [
             [
              0,
              "#440154"
             ],
             [
              0.1111111111111111,
              "#482878"
             ],
             [
              0.2222222222222222,
              "#3e4989"
             ],
             [
              0.3333333333333333,
              "#31688e"
             ],
             [
              0.4444444444444444,
              "#26828e"
             ],
             [
              0.5555555555555556,
              "#1f9e89"
             ],
             [
              0.6666666666666666,
              "#35b779"
             ],
             [
              0.7777777777777778,
              "#6ece58"
             ],
             [
              0.8888888888888888,
              "#b5de2b"
             ],
             [
              1,
              "#fde725"
             ]
            ],
            "type": "contour"
           }
          ],
          "contourcarpet": [
           {
            "colorbar": {
             "outlinewidth": 1,
             "tickcolor": "rgb(36,36,36)",
             "ticks": "outside"
            },
            "type": "contourcarpet"
           }
          ],
          "heatmap": [
           {
            "colorbar": {
             "outlinewidth": 1,
             "tickcolor": "rgb(36,36,36)",
             "ticks": "outside"
            },
            "colorscale": [
             [
              0,
              "#440154"
             ],
             [
              0.1111111111111111,
              "#482878"
             ],
             [
              0.2222222222222222,
              "#3e4989"
             ],
             [
              0.3333333333333333,
              "#31688e"
             ],
             [
              0.4444444444444444,
              "#26828e"
             ],
             [
              0.5555555555555556,
              "#1f9e89"
             ],
             [
              0.6666666666666666,
              "#35b779"
             ],
             [
              0.7777777777777778,
              "#6ece58"
             ],
             [
              0.8888888888888888,
              "#b5de2b"
             ],
             [
              1,
              "#fde725"
             ]
            ],
            "type": "heatmap"
           }
          ],
          "heatmapgl": [
           {
            "colorbar": {
             "outlinewidth": 1,
             "tickcolor": "rgb(36,36,36)",
             "ticks": "outside"
            },
            "colorscale": [
             [
              0,
              "#440154"
             ],
             [
              0.1111111111111111,
              "#482878"
             ],
             [
              0.2222222222222222,
              "#3e4989"
             ],
             [
              0.3333333333333333,
              "#31688e"
             ],
             [
              0.4444444444444444,
              "#26828e"
             ],
             [
              0.5555555555555556,
              "#1f9e89"
             ],
             [
              0.6666666666666666,
              "#35b779"
             ],
             [
              0.7777777777777778,
              "#6ece58"
             ],
             [
              0.8888888888888888,
              "#b5de2b"
             ],
             [
              1,
              "#fde725"
             ]
            ],
            "type": "heatmapgl"
           }
          ],
          "histogram": [
           {
            "marker": {
             "line": {
              "color": "white",
              "width": 0.6
             }
            },
            "type": "histogram"
           }
          ],
          "histogram2d": [
           {
            "colorbar": {
             "outlinewidth": 1,
             "tickcolor": "rgb(36,36,36)",
             "ticks": "outside"
            },
            "colorscale": [
             [
              0,
              "#440154"
             ],
             [
              0.1111111111111111,
              "#482878"
             ],
             [
              0.2222222222222222,
              "#3e4989"
             ],
             [
              0.3333333333333333,
              "#31688e"
             ],
             [
              0.4444444444444444,
              "#26828e"
             ],
             [
              0.5555555555555556,
              "#1f9e89"
             ],
             [
              0.6666666666666666,
              "#35b779"
             ],
             [
              0.7777777777777778,
              "#6ece58"
             ],
             [
              0.8888888888888888,
              "#b5de2b"
             ],
             [
              1,
              "#fde725"
             ]
            ],
            "type": "histogram2d"
           }
          ],
          "histogram2dcontour": [
           {
            "colorbar": {
             "outlinewidth": 1,
             "tickcolor": "rgb(36,36,36)",
             "ticks": "outside"
            },
            "colorscale": [
             [
              0,
              "#440154"
             ],
             [
              0.1111111111111111,
              "#482878"
             ],
             [
              0.2222222222222222,
              "#3e4989"
             ],
             [
              0.3333333333333333,
              "#31688e"
             ],
             [
              0.4444444444444444,
              "#26828e"
             ],
             [
              0.5555555555555556,
              "#1f9e89"
             ],
             [
              0.6666666666666666,
              "#35b779"
             ],
             [
              0.7777777777777778,
              "#6ece58"
             ],
             [
              0.8888888888888888,
              "#b5de2b"
             ],
             [
              1,
              "#fde725"
             ]
            ],
            "type": "histogram2dcontour"
           }
          ],
          "mesh3d": [
           {
            "colorbar": {
             "outlinewidth": 1,
             "tickcolor": "rgb(36,36,36)",
             "ticks": "outside"
            },
            "type": "mesh3d"
           }
          ],
          "parcoords": [
           {
            "line": {
             "colorbar": {
              "outlinewidth": 1,
              "tickcolor": "rgb(36,36,36)",
              "ticks": "outside"
             }
            },
            "type": "parcoords"
           }
          ],
          "pie": [
           {
            "automargin": true,
            "type": "pie"
           }
          ],
          "scatter": [
           {
            "marker": {
             "colorbar": {
              "outlinewidth": 1,
              "tickcolor": "rgb(36,36,36)",
              "ticks": "outside"
             }
            },
            "type": "scatter"
           }
          ],
          "scatter3d": [
           {
            "line": {
             "colorbar": {
              "outlinewidth": 1,
              "tickcolor": "rgb(36,36,36)",
              "ticks": "outside"
             }
            },
            "marker": {
             "colorbar": {
              "outlinewidth": 1,
              "tickcolor": "rgb(36,36,36)",
              "ticks": "outside"
             }
            },
            "type": "scatter3d"
           }
          ],
          "scattercarpet": [
           {
            "marker": {
             "colorbar": {
              "outlinewidth": 1,
              "tickcolor": "rgb(36,36,36)",
              "ticks": "outside"
             }
            },
            "type": "scattercarpet"
           }
          ],
          "scattergeo": [
           {
            "marker": {
             "colorbar": {
              "outlinewidth": 1,
              "tickcolor": "rgb(36,36,36)",
              "ticks": "outside"
             }
            },
            "type": "scattergeo"
           }
          ],
          "scattergl": [
           {
            "marker": {
             "colorbar": {
              "outlinewidth": 1,
              "tickcolor": "rgb(36,36,36)",
              "ticks": "outside"
             }
            },
            "type": "scattergl"
           }
          ],
          "scattermapbox": [
           {
            "marker": {
             "colorbar": {
              "outlinewidth": 1,
              "tickcolor": "rgb(36,36,36)",
              "ticks": "outside"
             }
            },
            "type": "scattermapbox"
           }
          ],
          "scatterpolar": [
           {
            "marker": {
             "colorbar": {
              "outlinewidth": 1,
              "tickcolor": "rgb(36,36,36)",
              "ticks": "outside"
             }
            },
            "type": "scatterpolar"
           }
          ],
          "scatterpolargl": [
           {
            "marker": {
             "colorbar": {
              "outlinewidth": 1,
              "tickcolor": "rgb(36,36,36)",
              "ticks": "outside"
             }
            },
            "type": "scatterpolargl"
           }
          ],
          "scatterternary": [
           {
            "marker": {
             "colorbar": {
              "outlinewidth": 1,
              "tickcolor": "rgb(36,36,36)",
              "ticks": "outside"
             }
            },
            "type": "scatterternary"
           }
          ],
          "surface": [
           {
            "colorbar": {
             "outlinewidth": 1,
             "tickcolor": "rgb(36,36,36)",
             "ticks": "outside"
            },
            "colorscale": [
             [
              0,
              "#440154"
             ],
             [
              0.1111111111111111,
              "#482878"
             ],
             [
              0.2222222222222222,
              "#3e4989"
             ],
             [
              0.3333333333333333,
              "#31688e"
             ],
             [
              0.4444444444444444,
              "#26828e"
             ],
             [
              0.5555555555555556,
              "#1f9e89"
             ],
             [
              0.6666666666666666,
              "#35b779"
             ],
             [
              0.7777777777777778,
              "#6ece58"
             ],
             [
              0.8888888888888888,
              "#b5de2b"
             ],
             [
              1,
              "#fde725"
             ]
            ],
            "type": "surface"
           }
          ],
          "table": [
           {
            "cells": {
             "fill": {
              "color": "rgb(237,237,237)"
             },
             "line": {
              "color": "white"
             }
            },
            "header": {
             "fill": {
              "color": "rgb(217,217,217)"
             },
             "line": {
              "color": "white"
             }
            },
            "type": "table"
           }
          ]
         },
         "layout": {
          "annotationdefaults": {
           "arrowhead": 0,
           "arrowwidth": 1
          },
          "autosize": true,
          "autotypenumbers": "strict",
          "coloraxis": {
           "colorbar": {
            "outlinewidth": 1,
            "tickcolor": "rgb(36,36,36)",
            "ticks": "outside"
           }
          },
          "colorscale": {
           "diverging": [
            [
             0,
             "rgb(103,0,31)"
            ],
            [
             0.1,
             "rgb(178,24,43)"
            ],
            [
             0.2,
             "rgb(214,96,77)"
            ],
            [
             0.3,
             "rgb(244,165,130)"
            ],
            [
             0.4,
             "rgb(253,219,199)"
            ],
            [
             0.5,
             "rgb(247,247,247)"
            ],
            [
             0.6,
             "rgb(209,229,240)"
            ],
            [
             0.7,
             "rgb(146,197,222)"
            ],
            [
             0.8,
             "rgb(67,147,195)"
            ],
            [
             0.9,
             "rgb(33,102,172)"
            ],
            [
             1,
             "rgb(5,48,97)"
            ]
           ],
           "sequential": [
            [
             0,
             "#440154"
            ],
            [
             0.1111111111111111,
             "#482878"
            ],
            [
             0.2222222222222222,
             "#3e4989"
            ],
            [
             0.3333333333333333,
             "#31688e"
            ],
            [
             0.4444444444444444,
             "#26828e"
            ],
            [
             0.5555555555555556,
             "#1f9e89"
            ],
            [
             0.6666666666666666,
             "#35b779"
            ],
            [
             0.7777777777777778,
             "#6ece58"
            ],
            [
             0.8888888888888888,
             "#b5de2b"
            ],
            [
             1,
             "#fde725"
            ]
           ],
           "sequentialminus": [
            [
             0,
             "#440154"
            ],
            [
             0.1111111111111111,
             "#482878"
            ],
            [
             0.2222222222222222,
             "#3e4989"
            ],
            [
             0.3333333333333333,
             "#31688e"
            ],
            [
             0.4444444444444444,
             "#26828e"
            ],
            [
             0.5555555555555556,
             "#1f9e89"
            ],
            [
             0.6666666666666666,
             "#35b779"
            ],
            [
             0.7777777777777778,
             "#6ece58"
            ],
            [
             0.8888888888888888,
             "#b5de2b"
            ],
            [
             1,
             "#fde725"
            ]
           ]
          },
          "colorway": [
           "#1F77B4",
           "#FF7F0E",
           "#2CA02C",
           "#D62728",
           "#9467BD",
           "#8C564B",
           "#E377C2",
           "#7F7F7F",
           "#BCBD22",
           "#17BECF"
          ],
          "font": {
           "color": "rgb(36,36,36)"
          },
          "geo": {
           "bgcolor": "white",
           "lakecolor": "white",
           "landcolor": "white",
           "showlakes": true,
           "showland": true,
           "subunitcolor": "white"
          },
          "height": 250,
          "hoverlabel": {
           "align": "left"
          },
          "hovermode": "closest",
          "mapbox": {
           "style": "light"
          },
          "margin": {
           "b": 10,
           "l": 10,
           "r": 10,
           "t": 10
          },
          "paper_bgcolor": "white",
          "plot_bgcolor": "white",
          "polar": {
           "angularaxis": {
            "gridcolor": "rgb(232,232,232)",
            "linecolor": "rgb(36,36,36)",
            "showgrid": false,
            "showline": true,
            "ticks": "outside"
           },
           "bgcolor": "white",
           "radialaxis": {
            "gridcolor": "rgb(232,232,232)",
            "linecolor": "rgb(36,36,36)",
            "showgrid": false,
            "showline": true,
            "ticks": "outside"
           }
          },
          "scene": {
           "xaxis": {
            "backgroundcolor": "white",
            "gridcolor": "rgb(232,232,232)",
            "gridwidth": 2,
            "linecolor": "rgb(36,36,36)",
            "showbackground": true,
            "showgrid": false,
            "showline": true,
            "ticks": "outside",
            "zeroline": false,
            "zerolinecolor": "rgb(36,36,36)"
           },
           "yaxis": {
            "backgroundcolor": "white",
            "gridcolor": "rgb(232,232,232)",
            "gridwidth": 2,
            "linecolor": "rgb(36,36,36)",
            "showbackground": true,
            "showgrid": false,
            "showline": true,
            "ticks": "outside",
            "zeroline": false,
            "zerolinecolor": "rgb(36,36,36)"
           },
           "zaxis": {
            "backgroundcolor": "white",
            "gridcolor": "rgb(232,232,232)",
            "gridwidth": 2,
            "linecolor": "rgb(36,36,36)",
            "showbackground": true,
            "showgrid": false,
            "showline": true,
            "ticks": "outside",
            "zeroline": false,
            "zerolinecolor": "rgb(36,36,36)"
           }
          },
          "shapedefaults": {
           "fillcolor": "black",
           "line": {
            "width": 0
           },
           "opacity": 0.3
          },
          "ternary": {
           "aaxis": {
            "gridcolor": "rgb(232,232,232)",
            "linecolor": "rgb(36,36,36)",
            "showgrid": false,
            "showline": true,
            "ticks": "outside"
           },
           "baxis": {
            "gridcolor": "rgb(232,232,232)",
            "linecolor": "rgb(36,36,36)",
            "showgrid": false,
            "showline": true,
            "ticks": "outside"
           },
           "bgcolor": "white",
           "caxis": {
            "gridcolor": "rgb(232,232,232)",
            "linecolor": "rgb(36,36,36)",
            "showgrid": false,
            "showline": true,
            "ticks": "outside"
           }
          },
          "title": {
           "x": 0.5,
           "xanchor": "center"
          },
          "width": 350,
          "xaxis": {
           "automargin": true,
           "gridcolor": "rgb(232,232,232)",
           "linecolor": "rgb(36,36,36)",
           "showgrid": true,
           "showline": true,
           "ticks": "outside",
           "title": {
            "standoff": 15
           },
           "zeroline": false,
           "zerolinecolor": "rgb(36,36,36)"
          },
          "yaxis": {
           "automargin": true,
           "gridcolor": "rgb(232,232,232)",
           "linecolor": "rgb(36,36,36)",
           "showgrid": true,
           "showline": true,
           "ticks": "outside",
           "title": {
            "standoff": 15
           },
           "zeroline": false,
           "zerolinecolor": "rgb(36,36,36)"
          }
         }
        },
        "width": 350,
        "xaxis": {
         "anchor": "y",
         "autorange": true,
         "domain": [
          0,
          1
         ],
         "range": [
          1.5365514054908234,
          37.3594164787525
         ],
         "title": {
          "text": "predicted values"
         },
         "type": "linear"
        },
        "yaxis": {
         "anchor": "x",
         "domain": [
          0,
          1
         ],
         "range": [
          -12,
          12
         ],
         "title": {
          "text": "error"
         },
         "type": "linear"
        }
       }
      },
      "image/png": "[encoded data removed]",
      "image/svg+xml": [
       "<svg class=\"main-svg\" xmlns=\"http://www.w3.org/2000/svg\" xmlns:xlink=\"http://www.w3.org/1999/xlink\" width=\"350\" height=\"250\" style=\"\" viewBox=\"0 0 350 250\"><rect x=\"0\" y=\"0\" width=\"350\" height=\"250\" style=\"fill: rgb(255, 255, 255); fill-opacity: 1;\"/><defs id=\"defs-348b57\"><g class=\"clips\"><clipPath id=\"clip348b57xyplot\" class=\"plotclip\"><rect width=\"276\" height=\"181\"/></clipPath><clipPath class=\"axesclip\" id=\"clip348b57x\"><rect x=\"64\" y=\"0\" width=\"276\" height=\"250\"/></clipPath><clipPath class=\"axesclip\" id=\"clip348b57y\"><rect x=\"0\" y=\"10\" width=\"350\" height=\"181\"/></clipPath><clipPath class=\"axesclip\" id=\"clip348b57xy\"><rect x=\"64\" y=\"10\" width=\"276\" height=\"181\"/></clipPath></g><g class=\"gradients\"/><g class=\"patterns\"/></defs><g class=\"bglayer\"/><g class=\"layer-below\"><g class=\"imagelayer\"/><g class=\"shapelayer\"/></g><g class=\"cartesianlayer\"><g class=\"subplot xy\"><g class=\"layer-subplot\"><g class=\"shapelayer\"/><g class=\"imagelayer\"/></g><g class=\"gridlayer\"><g class=\"x\"><path class=\"xgrid crisp\" transform=\"translate(129.20999999999998,0)\" d=\"M0,10v181\" style=\"stroke: rgb(232, 232, 232); stroke-opacity: 1; stroke-width: 1px;\"/><path class=\"xgrid crisp\" transform=\"translate(206.25,0)\" d=\"M0,10v181\" style=\"stroke: rgb(232, 232, 232); stroke-opacity: 1; stroke-width: 1px;\"/><path class=\"xgrid crisp\" transform=\"translate(283.3,0)\" d=\"M0,10v181\" style=\"stroke: rgb(232, 232, 232); stroke-opacity: 1; stroke-width: 1px;\"/></g><g class=\"y\"><path class=\"ygrid crisp\" transform=\"translate(0,175.92)\" d=\"M64,0h276\" style=\"stroke: rgb(232, 232, 232); stroke-opacity: 1; stroke-width: 1px;\"/><path class=\"ygrid crisp\" transform=\"translate(0,138.21)\" d=\"M64,0h276\" style=\"stroke: rgb(232, 232, 232); stroke-opacity: 1; stroke-width: 1px;\"/><path class=\"ygrid crisp\" transform=\"translate(0,100.5)\" d=\"M64,0h276\" style=\"stroke: rgb(232, 232, 232); stroke-opacity: 1; stroke-width: 1px;\"/><path class=\"ygrid crisp\" transform=\"translate(0,62.79)\" d=\"M64,0h276\" style=\"stroke: rgb(232, 232, 232); stroke-opacity: 1; stroke-width: 1px;\"/><path class=\"ygrid crisp\" transform=\"translate(0,25.08)\" d=\"M64,0h276\" style=\"stroke: rgb(232, 232, 232); stroke-opacity: 1; stroke-width: 1px;\"/></g></g><g class=\"zerolinelayer\"/><path class=\"xlines-below\"/><path class=\"ylines-below\"/><g class=\"overlines-below\"/><g class=\"xaxislayer-below\"/><g class=\"yaxislayer-below\"/><g class=\"overaxes-below\"/><g class=\"plot\" transform=\"translate(64,10)\" clip-path=\"url(#clip348b57xyplot)\"><g class=\"scatterlayer mlayer\"><g class=\"trace scatter tracee49583\" style=\"stroke-miterlimit: 2; opacity: 1;\"><g class=\"fills\"/><g class=\"errorbars\"/><g class=\"lines\"/><g class=\"points\"><path class=\"point\" transform=\"translate(111,88.65)\" d=\"M3,0A3,3 0 1,1 0,-3A3,3 0 0,1 3,0Z\" style=\"opacity: 1; stroke-width: 0px; fill: rgb(31, 119, 180); fill-opacity: 1;\"/><path class=\"point\" transform=\"translate(89.65,87.34)\" d=\"M3,0A3,3 0 1,1 0,-3A3,3 0 0,1 3,0Z\" style=\"opacity: 1; stroke-width: 0px; fill: rgb(31, 119, 180); fill-opacity: 1;\"/><path class=\"point\" transform=\"translate(69.45,92.38)\" d=\"M3,0A3,3 0 1,1 0,-3A3,3 0 0,1 3,0Z\" style=\"opacity: 1; stroke-width: 0px; fill: rgb(31, 119, 180); fill-opacity: 1;\"/><path class=\"point\" transform=\"translate(104.21,92.55)\" d=\"M3,0A3,3 0 1,1 0,-3A3,3 0 0,1 3,0Z\" style=\"opacity: 1; stroke-width: 0px; fill: rgb(31, 119, 180); fill-opacity: 1;\"/><path class=\"point\" transform=\"translate(121.12,88.32)\" d=\"M3,0A3,3 0 1,1 0,-3A3,3 0 0,1 3,0Z\" style=\"opacity: 1; stroke-width: 0px; fill: rgb(31, 119, 180); fill-opacity: 1;\"/><path class=\"point\" transform=\"translate(155.56,85.88)\" d=\"M3,0A3,3 0 1,1 0,-3A3,3 0 0,1 3,0Z\" style=\"opacity: 1; stroke-width: 0px; fill: rgb(31, 119, 180); fill-opacity: 1;\"/><path class=\"point\" transform=\"translate(102.38,92.43)\" d=\"M3,0A3,3 0 1,1 0,-3A3,3 0 0,1 3,0Z\" style=\"opacity: 1; stroke-width: 0px; fill: rgb(31, 119, 180); fill-opacity: 1;\"/><path class=\"point\" transform=\"translate(128.94,83.42)\" d=\"M3,0A3,3 0 1,1 0,-3A3,3 0 0,1 3,0Z\" style=\"opacity: 1; stroke-width: 0px; fill: rgb(31, 119, 180); fill-opacity: 1;\"/><path class=\"point\" transform=\"translate(147.83,83.39)\" d=\"M3,0A3,3 0 1,1 0,-3A3,3 0 0,1 3,0Z\" style=\"opacity: 1; stroke-width: 0px; fill: rgb(31, 119, 180); fill-opacity: 1;\"/><path class=\"point\" transform=\"translate(156.52,61.66)\" d=\"M3,0A3,3 0 1,1 0,-3A3,3 0 0,1 3,0Z\" style=\"opacity: 1; stroke-width: 0px; fill: rgb(31, 119, 180); fill-opacity: 1;\"/><path class=\"point\" transform=\"translate(155.09,64.74)\" d=\"M3,0A3,3 0 1,1 0,-3A3,3 0 0,1 3,0Z\" style=\"opacity: 1; stroke-width: 0px; fill: rgb(31, 119, 180); fill-opacity: 1;\"/><path class=\"point\" transform=\"translate(71.12,85.88)\" d=\"M3,0A3,3 0 1,1 0,-3A3,3 0 0,1 3,0Z\" style=\"opacity: 1; stroke-width: 0px; fill: rgb(31, 119, 180); fill-opacity: 1;\"/><path class=\"point\" transform=\"translate(94.9,78.25)\" d=\"M3,0A3,3 0 1,1 0,-3A3,3 0 0,1 3,0Z\" style=\"opacity: 1; stroke-width: 0px; fill: rgb(31, 119, 180); fill-opacity: 1;\"/><path class=\"point\" transform=\"translate(121.66,85.04)\" d=\"M3,0A3,3 0 1,1 0,-3A3,3 0 0,1 3,0Z\" style=\"opacity: 1; stroke-width: 0px; fill: rgb(31, 119, 180); fill-opacity: 1;\"/><path class=\"point\" transform=\"translate(129.67,82.48)\" d=\"M3,0A3,3 0 1,1 0,-3A3,3 0 0,1 3,0Z\" style=\"opacity: 1; stroke-width: 0px; fill: rgb(31, 119, 180); fill-opacity: 1;\"/><path class=\"point\" transform=\"translate(85.95,91.5)\" d=\"M3,0A3,3 0 1,1 0,-3A3,3 0 0,1 3,0Z\" style=\"opacity: 1; stroke-width: 0px; fill: rgb(31, 119, 180); fill-opacity: 1;\"/><path class=\"point\" transform=\"translate(45.07,86.33)\" d=\"M3,0A3,3 0 1,1 0,-3A3,3 0 0,1 3,0Z\" style=\"opacity: 1; stroke-width: 0px; fill: rgb(31, 119, 180); fill-opacity: 1;\"/><path class=\"point\" transform=\"translate(48.01,92.22)\" d=\"M3,0A3,3 0 1,1 0,-3A3,3 0 0,1 3,0Z\" style=\"opacity: 1; stroke-width: 0px; fill: rgb(31, 119, 180); fill-opacity: 1;\"/><path class=\"point\" transform=\"translate(85.88,97.21)\" d=\"M3,0A3,3 0 1,1 0,-3A3,3 0 0,1 3,0Z\" style=\"opacity: 1; stroke-width: 0px; fill: rgb(31, 119, 180); fill-opacity: 1;\"/><path class=\"point\" transform=\"translate(62.92,104.15)\" d=\"M3,0A3,3 0 1,1 0,-3A3,3 0 0,1 3,0Z\" style=\"opacity: 1; stroke-width: 0px; fill: rgb(31, 119, 180); fill-opacity: 1;\"/><path class=\"point\" transform=\"translate(75.52,98.77)\" d=\"M3,0A3,3 0 1,1 0,-3A3,3 0 0,1 3,0Z\" style=\"opacity: 1; stroke-width: 0px; fill: rgb(31, 119, 180); fill-opacity: 1;\"/><path class=\"point\" transform=\"translate(84.04,99.88)\" d=\"M3,0A3,3 0 1,1 0,-3A3,3 0 0,1 3,0Z\" style=\"opacity: 1; stroke-width: 0px; fill: rgb(31, 119, 180); fill-opacity: 1;\"/><path class=\"point\" transform=\"translate(80.1,106.18)\" d=\"M3,0A3,3 0 1,1 0,-3A3,3 0 0,1 3,0Z\" style=\"opacity: 1; stroke-width: 0px; fill: rgb(31, 119, 180); fill-opacity: 1;\"/><path class=\"point\" transform=\"translate(66.25,91.55)\" d=\"M3,0A3,3 0 1,1 0,-3A3,3 0 0,1 3,0Z\" style=\"opacity: 1; stroke-width: 0px; fill: rgb(31, 119, 180); fill-opacity: 1;\"/><path class=\"point\" transform=\"translate(83.94,96.26)\" d=\"M3,0A3,3 0 1,1 0,-3A3,3 0 0,1 3,0Z\" style=\"opacity: 1; stroke-width: 0px; fill: rgb(31, 119, 180); fill-opacity: 1;\"/><path class=\"point\" transform=\"translate(119.52,99.03)\" d=\"M3,0A3,3 0 1,1 0,-3A3,3 0 0,1 3,0Z\" style=\"opacity: 1; stroke-width: 0px; fill: rgb(31, 119, 180); fill-opacity: 1;\"/><path class=\"point\" transform=\"translate(127.47,100.65)\" d=\"M3,0A3,3 0 1,1 0,-3A3,3 0 0,1 3,0Z\" style=\"opacity: 1; stroke-width: 0px; fill: rgb(31, 119, 180); fill-opacity: 1;\"/><path class=\"point\" transform=\"translate(105.68,91.31)\" d=\"M3,0A3,3 0 1,1 0,-3A3,3 0 0,1 3,0Z\" style=\"opacity: 1; stroke-width: 0px; fill: rgb(31, 119, 180); fill-opacity: 1;\"/><path class=\"point\" transform=\"translate(215.95,93.33)\" d=\"M3,0A3,3 0 1,1 0,-3A3,3 0 0,1 3,0Z\" style=\"opacity: 1; stroke-width: 0px; fill: rgb(31, 119, 180); fill-opacity: 1;\"/><path class=\"point\" transform=\"translate(209.01,101.52)\" d=\"M3,0A3,3 0 1,1 0,-3A3,3 0 0,1 3,0Z\" style=\"opacity: 1; stroke-width: 0px; fill: rgb(31, 119, 180); fill-opacity: 1;\"/><path class=\"point\" transform=\"translate(138.68,84.77)\" d=\"M3,0A3,3 0 1,1 0,-3A3,3 0 0,1 3,0Z\" style=\"opacity: 1; stroke-width: 0px; fill: rgb(31, 119, 180); fill-opacity: 1;\"/><path class=\"point\" transform=\"translate(126.75,92.79)\" d=\"M3,0A3,3 0 1,1 0,-3A3,3 0 0,1 3,0Z\" style=\"opacity: 1; stroke-width: 0px; fill: rgb(31, 119, 180); fill-opacity: 1;\"/><path class=\"point\" transform=\"translate(147.01,89.59)\" d=\"M3,0A3,3 0 1,1 0,-3A3,3 0 0,1 3,0Z\" style=\"opacity: 1; stroke-width: 0px; fill: rgb(31, 119, 180); fill-opacity: 1;\"/><path class=\"point\" transform=\"translate(165.88,94.98)\" d=\"M3,0A3,3 0 1,1 0,-3A3,3 0 0,1 3,0Z\" style=\"opacity: 1; stroke-width: 0px; fill: rgb(31, 119, 180); fill-opacity: 1;\"/><path class=\"point\" transform=\"translate(151.43,94.42)\" d=\"M3,0A3,3 0 1,1 0,-3A3,3 0 0,1 3,0Z\" style=\"opacity: 1; stroke-width: 0px; fill: rgb(31, 119, 180); fill-opacity: 1;\"/><path class=\"point\" transform=\"translate(54.34,90.05)\" d=\"M3,0A3,3 0 1,1 0,-3A3,3 0 0,1 3,0Z\" style=\"opacity: 1; stroke-width: 0px; fill: rgb(31, 119, 180); fill-opacity: 1;\"/><path class=\"point\" transform=\"translate(76.73,95.27)\" d=\"M3,0A3,3 0 1,1 0,-3A3,3 0 0,1 3,0Z\" style=\"opacity: 1; stroke-width: 0px; fill: rgb(31, 119, 180); fill-opacity: 1;\"/><path class=\"point\" transform=\"translate(82.09,103.68)\" d=\"M3,0A3,3 0 1,1 0,-3A3,3 0 0,1 3,0Z\" style=\"opacity: 1; stroke-width: 0px; fill: rgb(31, 119, 180); fill-opacity: 1;\"/><path class=\"point\" transform=\"translate(75.63,107.09)\" d=\"M3,0A3,3 0 1,1 0,-3A3,3 0 0,1 3,0Z\" style=\"opacity: 1; stroke-width: 0px; fill: rgb(31, 119, 180); fill-opacity: 1;\"/><path class=\"point\" transform=\"translate(94.4,105.01)\" d=\"M3,0A3,3 0 1,1 0,-3A3,3 0 0,1 3,0Z\" style=\"opacity: 1; stroke-width: 0px; fill: rgb(31, 119, 180); fill-opacity: 1;\"/><path class=\"point\" transform=\"translate(111.19,100.85)\" d=\"M3,0A3,3 0 1,1 0,-3A3,3 0 0,1 3,0Z\" style=\"opacity: 1; stroke-width: 0px; fill: rgb(31, 119, 180); fill-opacity: 1;\"/><path class=\"point\" transform=\"translate(129.12,98.38)\" d=\"M3,0A3,3 0 1,1 0,-3A3,3 0 0,1 3,0Z\" style=\"opacity: 1; stroke-width: 0px; fill: rgb(31, 119, 180); fill-opacity: 1;\"/><path class=\"point\" transform=\"translate(141.28,92.49)\" d=\"M3,0A3,3 0 1,1 0,-3A3,3 0 0,1 3,0Z\" style=\"opacity: 1; stroke-width: 0px; fill: rgb(31, 119, 180); fill-opacity: 1;\"/><path class=\"point\" transform=\"translate(198.29,79.53)\" d=\"M3,0A3,3 0 1,1 0,-3A3,3 0 0,1 3,0Z\" style=\"opacity: 1; stroke-width: 0px; fill: rgb(31, 119, 180); fill-opacity: 1;\"/><path class=\"point\" transform=\"translate(162.97,87.01)\" d=\"M3,0A3,3 0 1,1 0,-3A3,3 0 0,1 3,0Z\" style=\"opacity: 1; stroke-width: 0px; fill: rgb(31, 119, 180); fill-opacity: 1;\"/><path class=\"point\" transform=\"translate(176.67,99.35)\" d=\"M3,0A3,3 0 1,1 0,-3A3,3 0 0,1 3,0Z\" style=\"opacity: 1; stroke-width: 0px; fill: rgb(31, 119, 180); fill-opacity: 1;\"/><path class=\"point\" transform=\"translate(226.8,88.79)\" d=\"M3,0A3,3 0 1,1 0,-3A3,3 0 0,1 3,0Z\" style=\"opacity: 1; stroke-width: 0px; fill: rgb(31, 119, 180); fill-opacity: 1;\"/><path class=\"point\" transform=\"translate(246.79,85.36)\" d=\"M3,0A3,3 0 1,1 0,-3A3,3 0 0,1 3,0Z\" style=\"opacity: 1; stroke-width: 0px; fill: rgb(31, 119, 180); fill-opacity: 1;\"/><path class=\"point\" transform=\"translate(253.67,87.04)\" d=\"M3,0A3,3 0 1,1 0,-3A3,3 0 0,1 3,0Z\" style=\"opacity: 1; stroke-width: 0px; fill: rgb(31, 119, 180); fill-opacity: 1;\"/><path class=\"point\" transform=\"translate(180.19,100.19)\" d=\"M3,0A3,3 0 1,1 0,-3A3,3 0 0,1 3,0Z\" style=\"opacity: 1; stroke-width: 0px; fill: rgb(31, 119, 180); fill-opacity: 1;\"/><path class=\"point\" transform=\"translate(143.28,107.86)\" d=\"M3,0A3,3 0 1,1 0,-3A3,3 0 0,1 3,0Z\" style=\"opacity: 1; stroke-width: 0px; fill: rgb(31, 119, 180); fill-opacity: 1;\"/><path class=\"point\" transform=\"translate(92.08,131.53)\" d=\"M3,0A3,3 0 1,1 0,-3A3,3 0 0,1 3,0Z\" style=\"opacity: 1; stroke-width: 0px; fill: rgb(31, 119, 180); fill-opacity: 1;\"/><path class=\"point\" transform=\"translate(81.56,117.68)\" d=\"M3,0A3,3 0 1,1 0,-3A3,3 0 0,1 3,0Z\" style=\"opacity: 1; stroke-width: 0px; fill: rgb(31, 119, 180); fill-opacity: 1;\"/><path class=\"point\" transform=\"translate(56.58,101.45)\" d=\"M3,0A3,3 0 1,1 0,-3A3,3 0 0,1 3,0Z\" style=\"opacity: 1; stroke-width: 0px; fill: rgb(31, 119, 180); fill-opacity: 1;\"/><path class=\"point\" transform=\"translate(62.03,86.94)\" d=\"M3,0A3,3 0 1,1 0,-3A3,3 0 0,1 3,0Z\" style=\"opacity: 1; stroke-width: 0px; fill: rgb(31, 119, 180); fill-opacity: 1;\"/><path class=\"point\" transform=\"translate(92.05,101.76)\" d=\"M3,0A3,3 0 1,1 0,-3A3,3 0 0,1 3,0Z\" style=\"opacity: 1; stroke-width: 0px; fill: rgb(31, 119, 180); fill-opacity: 1;\"/><path class=\"point\" transform=\"translate(98.19,96.76)\" d=\"M3,0A3,3 0 1,1 0,-3A3,3 0 0,1 3,0Z\" style=\"opacity: 1; stroke-width: 0px; fill: rgb(31, 119, 180); fill-opacity: 1;\"/><path class=\"point\" transform=\"translate(103.09,101.53)\" d=\"M3,0A3,3 0 1,1 0,-3A3,3 0 0,1 3,0Z\" style=\"opacity: 1; stroke-width: 0px; fill: rgb(31, 119, 180); fill-opacity: 1;\"/><path class=\"point\" transform=\"translate(63.31,90.31)\" d=\"M3,0A3,3 0 1,1 0,-3A3,3 0 0,1 3,0Z\" style=\"opacity: 1; stroke-width: 0px; fill: rgb(31, 119, 180); fill-opacity: 1;\"/><path class=\"point\" transform=\"translate(122.7,68.42)\" d=\"M3,0A3,3 0 1,1 0,-3A3,3 0 0,1 3,0Z\" style=\"opacity: 1; stroke-width: 0px; fill: rgb(31, 119, 180); fill-opacity: 1;\"/><path class=\"point\" transform=\"translate(32.09,85.31)\" d=\"M3,0A3,3 0 1,1 0,-3A3,3 0 0,1 3,0Z\" style=\"opacity: 1; stroke-width: 0px; fill: rgb(31, 119, 180); fill-opacity: 1;\"/><path class=\"point\" transform=\"translate(70.59,73.56)\" d=\"M3,0A3,3 0 1,1 0,-3A3,3 0 0,1 3,0Z\" style=\"opacity: 1; stroke-width: 0px; fill: rgb(31, 119, 180); fill-opacity: 1;\"/><path class=\"point\" transform=\"translate(109.29,106.36)\" d=\"M3,0A3,3 0 1,1 0,-3A3,3 0 0,1 3,0Z\" style=\"opacity: 1; stroke-width: 0px; fill: rgb(31, 119, 180); fill-opacity: 1;\"/><path class=\"point\" transform=\"translate(47.2,91.22)\" d=\"M3,0A3,3 0 1,1 0,-3A3,3 0 0,1 3,0Z\" style=\"opacity: 1; stroke-width: 0px; fill: rgb(31, 119, 180); fill-opacity: 1;\"/><path class=\"point\" transform=\"translate(21.72,89.08)\" d=\"M3,0A3,3 0 1,1 0,-3A3,3 0 0,1 3,0Z\" style=\"opacity: 1; stroke-width: 0px; fill: rgb(31, 119, 180); fill-opacity: 1;\"/><path class=\"point\" transform=\"translate(91.27,89.25)\" d=\"M3,0A3,3 0 1,1 0,-3A3,3 0 0,1 3,0Z\" style=\"opacity: 1; stroke-width: 0px; fill: rgb(31, 119, 180); fill-opacity: 1;\"/><path class=\"point\" transform=\"translate(104.31,105.48)\" d=\"M3,0A3,3 0 1,1 0,-3A3,3 0 0,1 3,0Z\" style=\"opacity: 1; stroke-width: 0px; fill: rgb(31, 119, 180); fill-opacity: 1;\"/><path class=\"point\" transform=\"translate(171.99,78.36)\" d=\"M3,0A3,3 0 1,1 0,-3A3,3 0 0,1 3,0Z\" style=\"opacity: 1; stroke-width: 0px; fill: rgb(31, 119, 180); fill-opacity: 1;\"/><path class=\"point\" transform=\"translate(99.47,89.74)\" d=\"M3,0A3,3 0 1,1 0,-3A3,3 0 0,1 3,0Z\" style=\"opacity: 1; stroke-width: 0px; fill: rgb(31, 119, 180); fill-opacity: 1;\"/><path class=\"point\" transform=\"translate(61.53,104.71)\" d=\"M3,0A3,3 0 1,1 0,-3A3,3 0 0,1 3,0Z\" style=\"opacity: 1; stroke-width: 0px; fill: rgb(31, 119, 180); fill-opacity: 1;\"/><path class=\"point\" transform=\"translate(75.26,84.57)\" d=\"M3,0A3,3 0 1,1 0,-3A3,3 0 0,1 3,0Z\" style=\"opacity: 1; stroke-width: 0px; fill: rgb(31, 119, 180); fill-opacity: 1;\"/><path class=\"point\" transform=\"translate(137.21,98.92)\" d=\"M3,0A3,3 0 1,1 0,-3A3,3 0 0,1 3,0Z\" style=\"opacity: 1; stroke-width: 0px; fill: rgb(31, 119, 180); fill-opacity: 1;\"/><path class=\"point\" transform=\"translate(78.46,86.02)\" d=\"M3,0A3,3 0 1,1 0,-3A3,3 0 0,1 3,0Z\" style=\"opacity: 1; stroke-width: 0px; fill: rgb(31, 119, 180); fill-opacity: 1;\"/><path class=\"point\" transform=\"translate(119.25,106.7)\" d=\"M3,0A3,3 0 1,1 0,-3A3,3 0 0,1 3,0Z\" style=\"opacity: 1; stroke-width: 0px; fill: rgb(31, 119, 180); fill-opacity: 1;\"/><path class=\"point\" transform=\"translate(144.01,102.02)\" d=\"M3,0A3,3 0 1,1 0,-3A3,3 0 0,1 3,0Z\" style=\"opacity: 1; stroke-width: 0px; fill: rgb(31, 119, 180); fill-opacity: 1;\"/><path class=\"point\" transform=\"translate(199.79,111.93)\" d=\"M3,0A3,3 0 1,1 0,-3A3,3 0 0,1 3,0Z\" style=\"opacity: 1; stroke-width: 0px; fill: rgb(31, 119, 180); fill-opacity: 1;\"/><path class=\"point\" transform=\"translate(214.63,108.98)\" d=\"M3,0A3,3 0 1,1 0,-3A3,3 0 0,1 3,0Z\" style=\"opacity: 1; stroke-width: 0px; fill: rgb(31, 119, 180); fill-opacity: 1;\"/><path class=\"point\" transform=\"translate(100.59,102.23)\" d=\"M3,0A3,3 0 1,1 0,-3A3,3 0 0,1 3,0Z\" style=\"opacity: 1; stroke-width: 0px; fill: rgb(31, 119, 180); fill-opacity: 1;\"/><path class=\"point\" transform=\"translate(114.63,112.09)\" d=\"M3,0A3,3 0 1,1 0,-3A3,3 0 0,1 3,0Z\" style=\"opacity: 1; stroke-width: 0px; fill: rgb(31, 119, 180); fill-opacity: 1;\"/><path class=\"point\" transform=\"translate(190.47,112.53)\" d=\"M3,0A3,3 0 1,1 0,-3A3,3 0 0,1 3,0Z\" style=\"opacity: 1; stroke-width: 0px; fill: rgb(31, 119, 180); fill-opacity: 1;\"/><path class=\"point\" transform=\"translate(198.74,101.94)\" d=\"M3,0A3,3 0 1,1 0,-3A3,3 0 0,1 3,0Z\" style=\"opacity: 1; stroke-width: 0px; fill: rgb(31, 119, 180); fill-opacity: 1;\"/><path class=\"point\" transform=\"translate(68.39,91.13)\" d=\"M3,0A3,3 0 1,1 0,-3A3,3 0 0,1 3,0Z\" style=\"opacity: 1; stroke-width: 0px; fill: rgb(31, 119, 180); fill-opacity: 1;\"/><path class=\"point\" transform=\"translate(46.1,83.16)\" d=\"M3,0A3,3 0 1,1 0,-3A3,3 0 0,1 3,0Z\" style=\"opacity: 1; stroke-width: 0px; fill: rgb(31, 119, 180); fill-opacity: 1;\"/><path class=\"point\" transform=\"translate(131.63,105.51)\" d=\"M3,0A3,3 0 1,1 0,-3A3,3 0 0,1 3,0Z\" style=\"opacity: 1; stroke-width: 0px; fill: rgb(31, 119, 180); fill-opacity: 1;\"/><path class=\"point\" transform=\"translate(189.79,126.75)\" d=\"M3,0A3,3 0 1,1 0,-3A3,3 0 0,1 3,0Z\" style=\"opacity: 1; stroke-width: 0px; fill: rgb(31, 119, 180); fill-opacity: 1;\"/><path class=\"point\" transform=\"translate(136.32,85.85)\" d=\"M3,0A3,3 0 1,1 0,-3A3,3 0 0,1 3,0Z\" style=\"opacity: 1; stroke-width: 0px; fill: rgb(31, 119, 180); fill-opacity: 1;\"/><path class=\"point\" transform=\"translate(102.1,103.21)\" d=\"M3,0A3,3 0 1,1 0,-3A3,3 0 0,1 3,0Z\" style=\"opacity: 1; stroke-width: 0px; fill: rgb(31, 119, 180); fill-opacity: 1;\"/><path class=\"point\" transform=\"translate(115.94,74.75)\" d=\"M3,0A3,3 0 1,1 0,-3A3,3 0 0,1 3,0Z\" style=\"opacity: 1; stroke-width: 0px; fill: rgb(31, 119, 180); fill-opacity: 1;\"/><path class=\"point\" transform=\"translate(146.09,76.6)\" d=\"M3,0A3,3 0 1,1 0,-3A3,3 0 0,1 3,0Z\" style=\"opacity: 1; stroke-width: 0px; fill: rgb(31, 119, 180); fill-opacity: 1;\"/><path class=\"point\" transform=\"translate(95.21,85.42)\" d=\"M3,0A3,3 0 1,1 0,-3A3,3 0 0,1 3,0Z\" style=\"opacity: 1; stroke-width: 0px; fill: rgb(31, 119, 180); fill-opacity: 1;\"/><path class=\"point\" transform=\"translate(150.58,104.6)\" d=\"M3,0A3,3 0 1,1 0,-3A3,3 0 0,1 3,0Z\" style=\"opacity: 1; stroke-width: 0px; fill: rgb(31, 119, 180); fill-opacity: 1;\"/><path class=\"point\" transform=\"translate(156.15,91.54)\" d=\"M3,0A3,3 0 1,1 0,-3A3,3 0 0,1 3,0Z\" style=\"opacity: 1; stroke-width: 0px; fill: rgb(31, 119, 180); fill-opacity: 1;\"/><path class=\"point\" transform=\"translate(177.72,82.41)\" d=\"M3,0A3,3 0 1,1 0,-3A3,3 0 0,1 3,0Z\" style=\"opacity: 1; stroke-width: 0px; fill: rgb(31, 119, 180); fill-opacity: 1;\"/><path class=\"point\" transform=\"translate(167.1,76.5)\" d=\"M3,0A3,3 0 1,1 0,-3A3,3 0 0,1 3,0Z\" style=\"opacity: 1; stroke-width: 0px; fill: rgb(31, 119, 180); fill-opacity: 1;\"/><path class=\"point\" transform=\"translate(76.56,91.2)\" d=\"M3,0A3,3 0 1,1 0,-3A3,3 0 0,1 3,0Z\" style=\"opacity: 1; stroke-width: 0px; fill: rgb(31, 119, 180); fill-opacity: 1;\"/><path class=\"point\" transform=\"translate(110.46,93.48)\" d=\"M3,0A3,3 0 1,1 0,-3A3,3 0 0,1 3,0Z\" style=\"opacity: 1; stroke-width: 0px; fill: rgb(31, 119, 180); fill-opacity: 1;\"/><path class=\"point\" transform=\"translate(126.44,89.72)\" d=\"M3,0A3,3 0 1,1 0,-3A3,3 0 0,1 3,0Z\" style=\"opacity: 1; stroke-width: 0px; fill: rgb(31, 119, 180); fill-opacity: 1;\"/><path class=\"point\" transform=\"translate(129.74,82.55)\" d=\"M3,0A3,3 0 1,1 0,-3A3,3 0 0,1 3,0Z\" style=\"opacity: 1; stroke-width: 0px; fill: rgb(31, 119, 180); fill-opacity: 1;\"/><path class=\"point\" transform=\"translate(93.28,98.67)\" d=\"M3,0A3,3 0 1,1 0,-3A3,3 0 0,1 3,0Z\" style=\"opacity: 1; stroke-width: 0px; fill: rgb(31, 119, 180); fill-opacity: 1;\"/><path class=\"point\" transform=\"translate(39.28,80.67)\" d=\"M3,0A3,3 0 1,1 0,-3A3,3 0 0,1 3,0Z\" style=\"opacity: 1; stroke-width: 0px; fill: rgb(31, 119, 180); fill-opacity: 1;\"/><path class=\"point\" transform=\"translate(65.3,109.14)\" d=\"M3,0A3,3 0 1,1 0,-3A3,3 0 0,1 3,0Z\" style=\"opacity: 1; stroke-width: 0px; fill: rgb(31, 119, 180); fill-opacity: 1;\"/><path class=\"point\" transform=\"translate(95.22,106.35)\" d=\"M3,0A3,3 0 1,1 0,-3A3,3 0 0,1 3,0Z\" style=\"opacity: 1; stroke-width: 0px; fill: rgb(31, 119, 180); fill-opacity: 1;\"/><path class=\"point\" transform=\"translate(48.52,90.05)\" d=\"M3,0A3,3 0 1,1 0,-3A3,3 0 0,1 3,0Z\" style=\"opacity: 1; stroke-width: 0px; fill: rgb(31, 119, 180); fill-opacity: 1;\"/><path class=\"point\" transform=\"translate(76.39,99.62)\" d=\"M3,0A3,3 0 1,1 0,-3A3,3 0 0,1 3,0Z\" style=\"opacity: 1; stroke-width: 0px; fill: rgb(31, 119, 180); fill-opacity: 1;\"/><path class=\"point\" transform=\"translate(67.25,83.45)\" d=\"M3,0A3,3 0 1,1 0,-3A3,3 0 0,1 3,0Z\" style=\"opacity: 1; stroke-width: 0px; fill: rgb(31, 119, 180); fill-opacity: 1;\"/><path class=\"point\" transform=\"translate(56.16,82.75)\" d=\"M3,0A3,3 0 1,1 0,-3A3,3 0 0,1 3,0Z\" style=\"opacity: 1; stroke-width: 0px; fill: rgb(31, 119, 180); fill-opacity: 1;\"/><path class=\"point\" transform=\"translate(59.74,85.17)\" d=\"M3,0A3,3 0 1,1 0,-3A3,3 0 0,1 3,0Z\" style=\"opacity: 1; stroke-width: 0px; fill: rgb(31, 119, 180); fill-opacity: 1;\"/><path class=\"point\" transform=\"translate(72.94,85.5)\" d=\"M3,0A3,3 0 1,1 0,-3A3,3 0 0,1 3,0Z\" style=\"opacity: 1; stroke-width: 0px; fill: rgb(31, 119, 180); fill-opacity: 1;\"/><path class=\"point\" transform=\"translate(108.52,88.27)\" d=\"M3,0A3,3 0 1,1 0,-3A3,3 0 0,1 3,0Z\" style=\"opacity: 1; stroke-width: 0px; fill: rgb(31, 119, 180); fill-opacity: 1;\"/><path class=\"point\" transform=\"translate(119.5,92.84)\" d=\"M3,0A3,3 0 1,1 0,-3A3,3 0 0,1 3,0Z\" style=\"opacity: 1; stroke-width: 0px; fill: rgb(31, 119, 180); fill-opacity: 1;\"/><path class=\"point\" transform=\"translate(95.48,81.33)\" d=\"M3,0A3,3 0 1,1 0,-3A3,3 0 0,1 3,0Z\" style=\"opacity: 1; stroke-width: 0px; fill: rgb(31, 119, 180); fill-opacity: 1;\"/><path class=\"point\" transform=\"translate(202.85,80.51)\" d=\"M3,0A3,3 0 1,1 0,-3A3,3 0 0,1 3,0Z\" style=\"opacity: 1; stroke-width: 0px; fill: rgb(31, 119, 180); fill-opacity: 1;\"/><path class=\"point\" transform=\"translate(197.8,90.54)\" d=\"M3,0A3,3 0 1,1 0,-3A3,3 0 0,1 3,0Z\" style=\"opacity: 1; stroke-width: 0px; fill: rgb(31, 119, 180); fill-opacity: 1;\"/><path class=\"point\" transform=\"translate(133.47,79.67)\" d=\"M3,0A3,3 0 1,1 0,-3A3,3 0 0,1 3,0Z\" style=\"opacity: 1; stroke-width: 0px; fill: rgb(31, 119, 180); fill-opacity: 1;\"/><path class=\"point\" transform=\"translate(117.13,83.37)\" d=\"M3,0A3,3 0 1,1 0,-3A3,3 0 0,1 3,0Z\" style=\"opacity: 1; stroke-width: 0px; fill: rgb(31, 119, 180); fill-opacity: 1;\"/><path class=\"point\" transform=\"translate(158.23,100.57)\" d=\"M3,0A3,3 0 1,1 0,-3A3,3 0 0,1 3,0Z\" style=\"opacity: 1; stroke-width: 0px; fill: rgb(31, 119, 180); fill-opacity: 1;\"/><path class=\"point\" transform=\"translate(171.37,100.36)\" d=\"M3,0A3,3 0 1,1 0,-3A3,3 0 0,1 3,0Z\" style=\"opacity: 1; stroke-width: 0px; fill: rgb(31, 119, 180); fill-opacity: 1;\"/><path class=\"point\" transform=\"translate(149.33,92.37)\" d=\"M3,0A3,3 0 1,1 0,-3A3,3 0 0,1 3,0Z\" style=\"opacity: 1; stroke-width: 0px; fill: rgb(31, 119, 180); fill-opacity: 1;\"/><path class=\"point\" transform=\"translate(55.2,90.9)\" d=\"M3,0A3,3 0 1,1 0,-3A3,3 0 0,1 3,0Z\" style=\"opacity: 1; stroke-width: 0px; fill: rgb(31, 119, 180); fill-opacity: 1;\"/><path class=\"point\" transform=\"translate(71.02,89.67)\" d=\"M3,0A3,3 0 1,1 0,-3A3,3 0 0,1 3,0Z\" style=\"opacity: 1; stroke-width: 0px; fill: rgb(31, 119, 180); fill-opacity: 1;\"/><path class=\"point\" transform=\"translate(80.93,102.54)\" d=\"M3,0A3,3 0 1,1 0,-3A3,3 0 0,1 3,0Z\" style=\"opacity: 1; stroke-width: 0px; fill: rgb(31, 119, 180); fill-opacity: 1;\"/><path class=\"point\" transform=\"translate(70.27,101.85)\" d=\"M3,0A3,3 0 1,1 0,-3A3,3 0 0,1 3,0Z\" style=\"opacity: 1; stroke-width: 0px; fill: rgb(31, 119, 180); fill-opacity: 1;\"/><path class=\"point\" transform=\"translate(106.92,117.27)\" d=\"M3,0A3,3 0 1,1 0,-3A3,3 0 0,1 3,0Z\" style=\"opacity: 1; stroke-width: 0px; fill: rgb(31, 119, 180); fill-opacity: 1;\"/><path class=\"point\" transform=\"translate(94.05,84.06)\" d=\"M3,0A3,3 0 1,1 0,-3A3,3 0 0,1 3,0Z\" style=\"opacity: 1; stroke-width: 0px; fill: rgb(31, 119, 180); fill-opacity: 1;\"/><path class=\"point\" transform=\"translate(120.87,90.31)\" d=\"M3,0A3,3 0 1,1 0,-3A3,3 0 0,1 3,0Z\" style=\"opacity: 1; stroke-width: 0px; fill: rgb(31, 119, 180); fill-opacity: 1;\"/><path class=\"point\" transform=\"translate(120.87,72.52)\" d=\"M3,0A3,3 0 1,1 0,-3A3,3 0 0,1 3,0Z\" style=\"opacity: 1; stroke-width: 0px; fill: rgb(31, 119, 180); fill-opacity: 1;\"/><path class=\"point\" transform=\"translate(165.37,47.3)\" d=\"M3,0A3,3 0 1,1 0,-3A3,3 0 0,1 3,0Z\" style=\"opacity: 1; stroke-width: 0px; fill: rgb(31, 119, 180); fill-opacity: 1;\"/><path class=\"point\" transform=\"translate(124.19,49.05)\" d=\"M3,0A3,3 0 1,1 0,-3A3,3 0 0,1 3,0Z\" style=\"opacity: 1; stroke-width: 0px; fill: rgb(31, 119, 180); fill-opacity: 1;\"/><path class=\"point\" transform=\"translate(162.1,85.08)\" d=\"M3,0A3,3 0 1,1 0,-3A3,3 0 0,1 3,0Z\" style=\"opacity: 1; stroke-width: 0px; fill: rgb(31, 119, 180); fill-opacity: 1;\"/><path class=\"point\" transform=\"translate(187.22,50.04)\" d=\"M3,0A3,3 0 1,1 0,-3A3,3 0 0,1 3,0Z\" style=\"opacity: 1; stroke-width: 0px; fill: rgb(31, 119, 180); fill-opacity: 1;\"/><path class=\"point\" transform=\"translate(226.02,65.03)\" d=\"M3,0A3,3 0 1,1 0,-3A3,3 0 0,1 3,0Z\" style=\"opacity: 1; stroke-width: 0px; fill: rgb(31, 119, 180); fill-opacity: 1;\"/><path class=\"point\" transform=\"translate(230.66,64.51)\" d=\"M3,0A3,3 0 1,1 0,-3A3,3 0 0,1 3,0Z\" style=\"opacity: 1; stroke-width: 0px; fill: rgb(31, 119, 180); fill-opacity: 1;\"/><path class=\"point\" transform=\"translate(154.87,75.4)\" d=\"M3,0A3,3 0 1,1 0,-3A3,3 0 0,1 3,0Z\" style=\"opacity: 1; stroke-width: 0px; fill: rgb(31, 119, 180); fill-opacity: 1;\"/><path class=\"point\" transform=\"translate(121,86.06)\" d=\"M3,0A3,3 0 1,1 0,-3A3,3 0 0,1 3,0Z\" style=\"opacity: 1; stroke-width: 0px; fill: rgb(31, 119, 180); fill-opacity: 1;\"/><path class=\"point\" transform=\"translate(53.01,93.28)\" d=\"M3,0A3,3 0 1,1 0,-3A3,3 0 0,1 3,0Z\" style=\"opacity: 1; stroke-width: 0px; fill: rgb(31, 119, 180); fill-opacity: 1;\"/><path class=\"point\" transform=\"translate(58.41,95.01)\" d=\"M3,0A3,3 0 1,1 0,-3A3,3 0 0,1 3,0Z\" style=\"opacity: 1; stroke-width: 0px; fill: rgb(31, 119, 180); fill-opacity: 1;\"/><path class=\"point\" transform=\"translate(55.86,100.74)\" d=\"M3,0A3,3 0 1,1 0,-3A3,3 0 0,1 3,0Z\" style=\"opacity: 1; stroke-width: 0px; fill: rgb(31, 119, 180); fill-opacity: 1;\"/><path class=\"point\" transform=\"translate(30.77,56.34)\" d=\"M3,0A3,3 0 1,1 0,-3A3,3 0 0,1 3,0Z\" style=\"opacity: 1; stroke-width: 0px; fill: rgb(31, 119, 180); fill-opacity: 1;\"/><path class=\"point\" transform=\"translate(78.23,88.23)\" d=\"M3,0A3,3 0 1,1 0,-3A3,3 0 0,1 3,0Z\" style=\"opacity: 1; stroke-width: 0px; fill: rgb(31, 119, 180); fill-opacity: 1;\"/><path class=\"point\" transform=\"translate(93.05,91.73)\" d=\"M3,0A3,3 0 1,1 0,-3A3,3 0 0,1 3,0Z\" style=\"opacity: 1; stroke-width: 0px; fill: rgb(31, 119, 180); fill-opacity: 1;\"/><path class=\"point\" transform=\"translate(98.46,97)\" d=\"M3,0A3,3 0 1,1 0,-3A3,3 0 0,1 3,0Z\" style=\"opacity: 1; stroke-width: 0px; fill: rgb(31, 119, 180); fill-opacity: 1;\"/><path class=\"point\" transform=\"translate(56.36,83.52)\" d=\"M3,0A3,3 0 1,1 0,-3A3,3 0 0,1 3,0Z\" style=\"opacity: 1; stroke-width: 0px; fill: rgb(31, 119, 180); fill-opacity: 1;\"/><path class=\"point\" transform=\"translate(133.7,79.19)\" d=\"M3,0A3,3 0 1,1 0,-3A3,3 0 0,1 3,0Z\" style=\"opacity: 1; stroke-width: 0px; fill: rgb(31, 119, 180); fill-opacity: 1;\"/><path class=\"point\" transform=\"translate(17.55,71.08)\" d=\"M3,0A3,3 0 1,1 0,-3A3,3 0 0,1 3,0Z\" style=\"opacity: 1; stroke-width: 0px; fill: rgb(31, 119, 180); fill-opacity: 1;\"/><path class=\"point\" transform=\"translate(61.83,64.99)\" d=\"M3,0A3,3 0 1,1 0,-3A3,3 0 0,1 3,0Z\" style=\"opacity: 1; stroke-width: 0px; fill: rgb(31, 119, 180); fill-opacity: 1;\"/><path class=\"point\" transform=\"translate(87.58,85.11)\" d=\"M3,0A3,3 0 1,1 0,-3A3,3 0 0,1 3,0Z\" style=\"opacity: 1; stroke-width: 0px; fill: rgb(31, 119, 180); fill-opacity: 1;\"/><path class=\"point\" transform=\"translate(28.45,72.87)\" d=\"M3,0A3,3 0 1,1 0,-3A3,3 0 0,1 3,0Z\" style=\"opacity: 1; stroke-width: 0px; fill: rgb(31, 119, 180); fill-opacity: 1;\"/><path class=\"point\" transform=\"translate(21.64,89)\" d=\"M3,0A3,3 0 1,1 0,-3A3,3 0 0,1 3,0Z\" style=\"opacity: 1; stroke-width: 0px; fill: rgb(31, 119, 180); fill-opacity: 1;\"/><path class=\"point\" transform=\"translate(92.58,90.52)\" d=\"M3,0A3,3 0 1,1 0,-3A3,3 0 0,1 3,0Z\" style=\"opacity: 1; stroke-width: 0px; fill: rgb(31, 119, 180); fill-opacity: 1;\"/><path class=\"point\" transform=\"translate(84.12,85.72)\" d=\"M3,0A3,3 0 1,1 0,-3A3,3 0 0,1 3,0Z\" style=\"opacity: 1; stroke-width: 0px; fill: rgb(31, 119, 180); fill-opacity: 1;\"/><path class=\"point\" transform=\"translate(179.88,86.08)\" d=\"M3,0A3,3 0 1,1 0,-3A3,3 0 0,1 3,0Z\" style=\"opacity: 1; stroke-width: 0px; fill: rgb(31, 119, 180); fill-opacity: 1;\"/><path class=\"point\" transform=\"translate(75.3,66.08)\" d=\"M3,0A3,3 0 1,1 0,-3A3,3 0 0,1 3,0Z\" style=\"opacity: 1; stroke-width: 0px; fill: rgb(31, 119, 180); fill-opacity: 1;\"/><path class=\"point\" transform=\"translate(31.93,75.74)\" d=\"M3,0A3,3 0 1,1 0,-3A3,3 0 0,1 3,0Z\" style=\"opacity: 1; stroke-width: 0px; fill: rgb(31, 119, 180); fill-opacity: 1;\"/><path class=\"point\" transform=\"translate(62.5,85.59)\" d=\"M3,0A3,3 0 1,1 0,-3A3,3 0 0,1 3,0Z\" style=\"opacity: 1; stroke-width: 0px; fill: rgb(31, 119, 180); fill-opacity: 1;\"/><path class=\"point\" transform=\"translate(147.82,78.3)\" d=\"M3,0A3,3 0 1,1 0,-3A3,3 0 0,1 3,0Z\" style=\"opacity: 1; stroke-width: 0px; fill: rgb(31, 119, 180); fill-opacity: 1;\"/><path class=\"point\" transform=\"translate(159.26,113.1)\" d=\"M3,0A3,3 0 1,1 0,-3A3,3 0 0,1 3,0Z\" style=\"opacity: 1; stroke-width: 0px; fill: rgb(31, 119, 180); fill-opacity: 1;\"/><path class=\"point\" transform=\"translate(163.63,73.1)\" d=\"M3,0A3,3 0 1,1 0,-3A3,3 0 0,1 3,0Z\" style=\"opacity: 1; stroke-width: 0px; fill: rgb(31, 119, 180); fill-opacity: 1;\"/><path class=\"point\" transform=\"translate(110.46,93.48)\" d=\"M3,0A3,3 0 1,1 0,-3A3,3 0 0,1 3,0Z\" style=\"opacity: 1; stroke-width: 0px; fill: rgb(31, 119, 180); fill-opacity: 1;\"/><path class=\"point\" transform=\"translate(89.8,95.27)\" d=\"M3,0A3,3 0 1,1 0,-3A3,3 0 0,1 3,0Z\" style=\"opacity: 1; stroke-width: 0px; fill: rgb(31, 119, 180); fill-opacity: 1;\"/><path class=\"point\" transform=\"translate(51.99,93.45)\" d=\"M3,0A3,3 0 1,1 0,-3A3,3 0 0,1 3,0Z\" style=\"opacity: 1; stroke-width: 0px; fill: rgb(31, 119, 180); fill-opacity: 1;\"/><path class=\"point\" transform=\"translate(56.16,82.75)\" d=\"M3,0A3,3 0 1,1 0,-3A3,3 0 0,1 3,0Z\" style=\"opacity: 1; stroke-width: 0px; fill: rgb(31, 119, 180); fill-opacity: 1;\"/><path class=\"point\" transform=\"translate(112,91.67)\" d=\"M3,0A3,3 0 1,1 0,-3A3,3 0 0,1 3,0Z\" style=\"opacity: 1; stroke-width: 0px; fill: rgb(31, 119, 180); fill-opacity: 1;\"/><path class=\"point\" transform=\"translate(202.85,80.51)\" d=\"M3,0A3,3 0 1,1 0,-3A3,3 0 0,1 3,0Z\" style=\"opacity: 1; stroke-width: 0px; fill: rgb(31, 119, 180); fill-opacity: 1;\"/><path class=\"point\" transform=\"translate(158.01,100.87)\" d=\"M3,0A3,3 0 1,1 0,-3A3,3 0 0,1 3,0Z\" style=\"opacity: 1; stroke-width: 0px; fill: rgb(31, 119, 180); fill-opacity: 1;\"/><path class=\"point\" transform=\"translate(86.14,107.64)\" d=\"M3,0A3,3 0 1,1 0,-3A3,3 0 0,1 3,0Z\" style=\"opacity: 1; stroke-width: 0px; fill: rgb(31, 119, 180); fill-opacity: 1;\"/><path class=\"point\" transform=\"translate(82.43,113.74)\" d=\"M3,0A3,3 0 1,1 0,-3A3,3 0 0,1 3,0Z\" style=\"opacity: 1; stroke-width: 0px; fill: rgb(31, 119, 180); fill-opacity: 1;\"/><path class=\"point\" transform=\"translate(143.45,94.62)\" d=\"M3,0A3,3 0 1,1 0,-3A3,3 0 0,1 3,0Z\" style=\"opacity: 1; stroke-width: 0px; fill: rgb(31, 119, 180); fill-opacity: 1;\"/><path class=\"point\" transform=\"translate(184.68,107.18)\" d=\"M3,0A3,3 0 1,1 0,-3A3,3 0 0,1 3,0Z\" style=\"opacity: 1; stroke-width: 0px; fill: rgb(31, 119, 180); fill-opacity: 1;\"/><path class=\"point\" transform=\"translate(258.45,91.71)\" d=\"M3,0A3,3 0 1,1 0,-3A3,3 0 0,1 3,0Z\" style=\"opacity: 1; stroke-width: 0px; fill: rgb(31, 119, 180); fill-opacity: 1;\"/><path class=\"point\" transform=\"translate(77.32,117.08)\" d=\"M3,0A3,3 0 1,1 0,-3A3,3 0 0,1 3,0Z\" style=\"opacity: 1; stroke-width: 0px; fill: rgb(31, 119, 180); fill-opacity: 1;\"/><path class=\"point\" transform=\"translate(35.98,61.44)\" d=\"M3,0A3,3 0 1,1 0,-3A3,3 0 0,1 3,0Z\" style=\"opacity: 1; stroke-width: 0px; fill: rgb(31, 119, 180); fill-opacity: 1;\"/><path class=\"point\" transform=\"translate(103.67,102.1)\" d=\"M3,0A3,3 0 1,1 0,-3A3,3 0 0,1 3,0Z\" style=\"opacity: 1; stroke-width: 0px; fill: rgb(31, 119, 180); fill-opacity: 1;\"/><path class=\"point\" transform=\"translate(145.86,91.09)\" d=\"M3,0A3,3 0 1,1 0,-3A3,3 0 0,1 3,0Z\" style=\"opacity: 1; stroke-width: 0px; fill: rgb(31, 119, 180); fill-opacity: 1;\"/><path class=\"point\" transform=\"translate(61.83,64.99)\" d=\"M3,0A3,3 0 1,1 0,-3A3,3 0 0,1 3,0Z\" style=\"opacity: 1; stroke-width: 0px; fill: rgb(31, 119, 180); fill-opacity: 1;\"/><path class=\"point\" transform=\"translate(98,95.31)\" d=\"M3,0A3,3 0 1,1 0,-3A3,3 0 0,1 3,0Z\" style=\"opacity: 1; stroke-width: 0px; fill: rgb(31, 119, 180); fill-opacity: 1;\"/><path class=\"point\" transform=\"translate(78.77,69.48)\" d=\"M3,0A3,3 0 1,1 0,-3A3,3 0 0,1 3,0Z\" style=\"opacity: 1; stroke-width: 0px; fill: rgb(31, 119, 180); fill-opacity: 1;\"/></g><g class=\"text\"/></g></g></g><g class=\"overplot\"/><path class=\"xlines-above crisp\" d=\"M63,191.5H340\" style=\"fill: none; stroke-width: 1px; stroke: rgb(36, 36, 36); stroke-opacity: 1;\"/><path class=\"ylines-above crisp\" d=\"M63.5,10V191\" style=\"fill: none; stroke-width: 1px; stroke: rgb(36, 36, 36); stroke-opacity: 1;\"/><g class=\"overlines-above\"/><g class=\"xaxislayer-above\"><path class=\"xtick ticks crisp\" d=\"M0,192v5\" transform=\"translate(129.20999999999998,0)\" style=\"stroke: rgb(68, 68, 68); stroke-opacity: 1; stroke-width: 1px;\"/><path class=\"xtick ticks crisp\" d=\"M0,192v5\" transform=\"translate(206.25,0)\" style=\"stroke: rgb(68, 68, 68); stroke-opacity: 1; stroke-width: 1px;\"/><path class=\"xtick ticks crisp\" d=\"M0,192v5\" transform=\"translate(283.3,0)\" style=\"stroke: rgb(68, 68, 68); stroke-opacity: 1; stroke-width: 1px;\"/><g class=\"xtick\"><text text-anchor=\"middle\" x=\"0\" y=\"211.4\" transform=\"translate(129.20999999999998,0)\" style=\"font-family: 'Open Sans', verdana, arial, sans-serif; font-size: 12px; fill: rgb(36, 36, 36); fill-opacity: 1; white-space: pre; opacity: 1;\">10</text></g><g class=\"xtick\"><text text-anchor=\"middle\" x=\"0\" y=\"211.4\" style=\"font-family: 'Open Sans', verdana, arial, sans-serif; font-size: 12px; fill: rgb(36, 36, 36); fill-opacity: 1; white-space: pre; opacity: 1;\" transform=\"translate(206.25,0)\">20</text></g><g class=\"xtick\"><text text-anchor=\"middle\" x=\"0\" y=\"211.4\" style=\"font-family: 'Open Sans', verdana, arial, sans-serif; font-size: 12px; fill: rgb(36, 36, 36); fill-opacity: 1; white-space: pre; opacity: 1;\" transform=\"translate(283.3,0)\">30</text></g></g><g class=\"yaxislayer-above\"><path class=\"ytick ticks crisp\" d=\"M63,0h-5\" transform=\"translate(0,175.92)\" style=\"stroke: rgb(68, 68, 68); stroke-opacity: 1; stroke-width: 1px;\"/><path class=\"ytick ticks crisp\" d=\"M63,0h-5\" transform=\"translate(0,138.21)\" style=\"stroke: rgb(68, 68, 68); stroke-opacity: 1; stroke-width: 1px;\"/><path class=\"ytick ticks crisp\" d=\"M63,0h-5\" transform=\"translate(0,100.5)\" style=\"stroke: rgb(68, 68, 68); stroke-opacity: 1; stroke-width: 1px;\"/><path class=\"ytick ticks crisp\" d=\"M63,0h-5\" transform=\"translate(0,62.79)\" style=\"stroke: rgb(68, 68, 68); stroke-opacity: 1; stroke-width: 1px;\"/><path class=\"ytick ticks crisp\" d=\"M63,0h-5\" transform=\"translate(0,25.08)\" style=\"stroke: rgb(68, 68, 68); stroke-opacity: 1; stroke-width: 1px;\"/><g class=\"ytick\"><text text-anchor=\"end\" x=\"55.6\" y=\"4.199999999999999\" transform=\"translate(0,175.92)\" style=\"font-family: 'Open Sans', verdana, arial, sans-serif; font-size: 12px; fill: rgb(36, 36, 36); fill-opacity: 1; white-space: pre; opacity: 1;\">−10</text></g><g class=\"ytick\"><text text-anchor=\"end\" x=\"55.6\" y=\"4.199999999999999\" style=\"font-family: 'Open Sans', verdana, arial, sans-serif; font-size: 12px; fill: rgb(36, 36, 36); fill-opacity: 1; white-space: pre; opacity: 1;\" transform=\"translate(0,138.21)\">−5</text></g><g class=\"ytick\"><text text-anchor=\"end\" x=\"55.6\" y=\"4.199999999999999\" style=\"font-family: 'Open Sans', verdana, arial, sans-serif; font-size: 12px; fill: rgb(36, 36, 36); fill-opacity: 1; white-space: pre; opacity: 1;\" transform=\"translate(0,100.5)\">0</text></g><g class=\"ytick\"><text text-anchor=\"end\" x=\"55.6\" y=\"4.199999999999999\" style=\"font-family: 'Open Sans', verdana, arial, sans-serif; font-size: 12px; fill: rgb(36, 36, 36); fill-opacity: 1; white-space: pre; opacity: 1;\" transform=\"translate(0,62.79)\">5</text></g><g class=\"ytick\"><text text-anchor=\"end\" x=\"55.6\" y=\"4.199999999999999\" style=\"font-family: 'Open Sans', verdana, arial, sans-serif; font-size: 12px; fill: rgb(36, 36, 36); fill-opacity: 1; white-space: pre; opacity: 1;\" transform=\"translate(0,25.08)\">10</text></g></g><g class=\"overaxes-above\"/></g></g><g class=\"polarlayer\"/><g class=\"smithlayer\"/><g class=\"ternarylayer\"/><g class=\"geolayer\"/><g class=\"funnelarealayer\"/><g class=\"pielayer\"/><g class=\"iciclelayer\"/><g class=\"treemaplayer\"/><g class=\"sunburstlayer\"/><g class=\"glimages\"/><defs id=\"topdefs-348b57\"><g class=\"clips\"/></defs><g class=\"layer-above\"><g class=\"imagelayer\"/><g class=\"shapelayer\"><path data-index=\"0\" fill-rule=\"evenodd\" d=\"M64,100.5L340,100.5\" clip-path=\"url(#clip348b57y)\" style=\"opacity: 1; stroke: rgb(0, 0, 0); stroke-opacity: 1; fill: rgb(0, 0, 0); fill-opacity: 1; stroke-dasharray: 9px, 9px; stroke-width: 3px;\"/></g></g><g class=\"infolayer\"><g class=\"g-gtitle\"/><g class=\"g-xtitle\"><text class=\"xtitle\" x=\"202\" y=\"239.70625\" text-anchor=\"middle\" style=\"font-family: 'Open Sans', verdana, arial, sans-serif; font-size: 14px; fill: rgb(36, 36, 36); opacity: 1; font-weight: normal; white-space: pre;\">predicted values</text></g><g class=\"g-ytitle\" transform=\"translate(4.7841796875,0)\"><text class=\"ytitle\" transform=\"rotate(-90,10.215625000000003,100.5)\" x=\"10.215625000000003\" y=\"100.5\" text-anchor=\"middle\" style=\"font-family: 'Open Sans', verdana, arial, sans-serif; font-size: 14px; fill: rgb(36, 36, 36); opacity: 1; font-weight: normal; white-space: pre;\">error</text></g></g></svg>"
      ]
     },
     "metadata": {},
     "output_type": "display_data"
    }
   ],
   "source": [
    "fig = px.scatter(y = error_2var, x=predicted_2var,\n",
    "                 labels={\"y\": \"error\", \"x\": \"predicted values\"},\n",
    "                 width=350, height=250)\n",
    "\n",
    "fig.update_yaxes(range=[-12, 12])\n",
    "fig.add_hline(0, line_width=3, line_dash='dash', opacity=1)\n",
    "\n",
    "fig.show()"
   ]
  },
  {
   "cell_type": "markdown",
   "metadata": {},
   "source": [
    "The residual plot appears to have no clear patterns, which indicates that the model fits pretty well. Notice also that the errors nearly all fall within -4 and +4 ppm, a smaller range than in the simple linear model. And, we find the standard deviation of the residuals is quite a bit smaller: "
   ]
  },
  {
   "cell_type": "code",
   "execution_count": 19,
   "metadata": {},
   "outputs": [
    {
     "data": {
      "text/plain": [
       "1.8211427707294048"
      ]
     },
     "execution_count": 19,
     "metadata": {},
     "output_type": "execute_result"
    }
   ],
   "source": [
    "error_2var.std()"
   ]
  },
  {
   "cell_type": "markdown",
   "metadata": {},
   "source": [
    "The residual standard deviation has been reduced from 2.8 ppm in the one variable model to 1.8 ppm, a good size reduction. "
   ]
  },
  {
   "cell_type": "markdown",
   "metadata": {},
   "source": [
    "The correlation coefficient can't capture the strength of a linear association model when we have more than one explanatory variable. Instead, we adapt the Mean Square Error to give us a sense of model fit. In the next section, we describe how to fit a multiple linear model and use the MSE to assess fit. "
   ]
  }
 ],
 "metadata": {
  "kernelspec": {
   "display_name": "Python 3",
   "language": "python",
   "name": "python3"
  },
  "language_info": {
   "codemirror_mode": {
    "name": "ipython",
    "version": 3
   },
   "file_extension": ".py",
   "mimetype": "text/x-python",
   "name": "python",
   "nbconvert_exporter": "python",
   "pygments_lexer": "ipython3",
   "version": "3.9.4"
  }
 },
 "nbformat": 4,
 "nbformat_minor": 4
}
