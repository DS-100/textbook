{
 "cells": [
  {
   "cell_type": "markdown",
   "metadata": {},
   "source": [
    "(ch:linear_models)=\n",
    "# Linear Models\n",
    "\n",
    "Now that we have a general method for fitting a model to a cost function, we\n",
    "turn our attention to improvements on our model. For the sake of simplicity, we\n",
    "previously restricted ourselves to a constant model: our model only ever\n",
    "predicts a single number.\n",
    "\n",
    "However, giving our waiter such a model would hardly satisfy him. He would\n",
    "likely point out that he collected much more information about his tables than\n",
    "simply the tip percents. Why didn't we use his other data—e.g. size of the\n",
    "table or total bill—in order to make our model more useful?\n",
    "\n",
    "In this chapter we will introduce linear models which will allow us to make use\n",
    "of our entire dataset to make predictions. Linear models are not only widely\n",
    "used in practice but also have rich theoretical underpinnings that will allow\n",
    "us to understand future tools for modeling. We introduce a simple linear regression model that uses one explanatory variable, explain how gradient descent is used to fit the model, and finally extend the model to incorporate multiple explanatory variables.\n"
   ]
  },
  {
   "cell_type": "code",
   "execution_count": null,
   "metadata": {},
   "outputs": [],
   "source": []
  }
 ],
 "metadata": {
  "kernelspec": {
   "display_name": "Python 3",
   "language": "python",
   "name": "python3"
  },
  "language_info": {
   "codemirror_mode": {
    "name": "ipython",
    "version": 3
   },
   "file_extension": ".py",
   "mimetype": "text/x-python",
   "name": "python",
   "nbconvert_exporter": "python",
   "pygments_lexer": "ipython3",
   "version": "3.9.4"
  }
 },
 "nbformat": 4,
 "nbformat_minor": 4
}
