{
 "cells": [
  {
   "cell_type": "code",
   "execution_count": 1,
   "metadata": {
    "tags": [
     "remove-cell"
    ]
   },
   "outputs": [],
   "source": [
    "import sys\n",
    "import os\n",
    "if not any(path.endswith('textbook') for path in sys.path):\n",
    "    sys.path.append(os.path.abspath('../../..'))\n",
    "from textbook_utils import *"
   ]
  },
  {
   "cell_type": "markdown",
   "metadata": {},
   "source": [
    "(sec:linear_summary)=\n",
    "# Summary"
   ]
  },
  {
   "cell_type": "markdown",
   "metadata": {},
   "source": [
    "Linear models let us model relationships between variables for the \n",
    "first time in this book.\n",
    "We discussed the simple linear model and extended it to the multiple\n",
    "linear model.\n",
    "Along the way, we used mathematical techniques that are widely useful\n",
    "in modeling---we used calculus to minimize loss for\n",
    "the simple linear model and used matrix geometry for the multiple linear model.\n",
    "We concluded the chapter by introducing one-hot encoding, a feature\n",
    "engineering technique that lets us fit models on categorical data.\n"
   ]
  },
  {
   "cell_type": "markdown",
   "metadata": {},
   "source": [
    "Linear models may seem simple, but they are used for all sorts of tasks today\n",
    "because they are interpretable enough for non-technical people to understand,\n",
    "yet sophisticated enough to capture many common patterns in data.\n",
    "Data scientists use linear models to measure the size of an effect,\n",
    "to make predictions, and to calibrate scientific instruments\n",
    "({numref}`Chapter %s <ch:pa>`)."
   ]
  },
  {
   "cell_type": "markdown",
   "metadata": {},
   "source": [
    "In this chapter, we used linear models in a descriptive way---we looked\n",
    "for patterns in the data that we already have.\n",
    "In the next chapter, we'll see how to use linear models and\n",
    "simulation techniques to make inferences\n",
    "about the population."
   ]
  }
 ],
 "metadata": {
  "kernelspec": {
   "display_name": "Python 3",
   "language": "python",
   "name": "python3"
  },
  "language_info": {
   "codemirror_mode": {
    "name": "ipython",
    "version": 3
   },
   "file_extension": ".py",
   "mimetype": "text/x-python",
   "name": "python",
   "nbconvert_exporter": "python",
   "pygments_lexer": "ipython3",
   "version": "3.9.4"
  }
 },
 "nbformat": 4,
 "nbformat_minor": 4
}
