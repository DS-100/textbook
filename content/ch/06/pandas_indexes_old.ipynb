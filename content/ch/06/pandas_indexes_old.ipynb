{
 "cells": [
  {
   "cell_type": "code",
   "execution_count": 1,
   "source": [
    "# Reference: https://jupyterbook.org/interactive/hiding.html\n",
    "# Use {hide, remove}-{input, output, cell} tags to hiding content\n",
    "\n",
    "import numpy as np\n",
    "import matplotlib.pyplot as plt\n",
    "import pandas as pd\n",
    "import seaborn as sns\n",
    "%matplotlib inline\n",
    "import ipywidgets as widgets\n",
    "from ipywidgets import interact, interactive, fixed, interact_manual\n",
    "\n",
    "sns.set()\n",
    "sns.set_context('talk')\n",
    "np.set_printoptions(threshold=20, precision=2, suppress=True)\n",
    "pd.set_option('display.max_rows', 7)\n",
    "pd.set_option('display.max_columns', 8)\n",
    "pd.set_option('precision', 2)\n",
    "# This option stops scientific notation for pandas\n",
    "# pd.set_option('display.float_format', '{:.2f}'.format)\n",
    "\n",
    "def display_df(df, rows=pd.options.display.max_rows,\n",
    "               cols=pd.options.display.max_columns):\n",
    "    with pd.option_context('display.max_rows', rows,\n",
    "                           'display.max_columns', cols):\n",
    "        display(df)"
   ],
   "outputs": [],
   "metadata": {
    "tags": [
     "remove-cell"
    ]
   }
  },
  {
   "cell_type": "markdown",
   "source": [
    "# Indexes, Slicing, and Sorting\n"
   ],
   "metadata": {}
  },
  {
   "cell_type": "markdown",
   "source": [
    "This section introduces the main `pandas` data structures for working with data\n",
    "tables.\n",
    "\n",
    "\n",
    ":::{admonition} Synopsis\n",
    ":class: synopsis-box\n",
    "\n",
    "This section introduces the `pandas.DataFrame` object, the primary data\n",
    "structure data scientists use to work with data tables in Python. Dataframes\n",
    "store row labels in `pandas.Index` objects. Every column of a dataframe is a\n",
    "`pandas.Series` object.\n",
    "\n",
    "To create a `pandas` DataFrame object using a CSV file, use `pd.read_csv`:\n",
    "\n",
    "```python\n",
    ">>> df = pd.read_csv('babynames.csv')\n",
    "```\n",
    "\n",
    "To select values using row and column labels, use `DataFrame.loc` with a slice:\n",
    "\n",
    "```python\n",
    ">>> df.loc[:, '']\n",
    "```\n",
    "\n",
    "To select values using row and column positions, use `DataFrame.iloc` with a\n",
    "slice:\n",
    "\n",
    "```python\n",
    ">>> df.iloc[:, :]\n",
    "```\n",
    "\n",
    "To sort a dataframe, use `DataFrame.sort_values()`:\n",
    "\n",
    "```python\n",
    ">>> df.sort_values('Year')\n",
    "```\n",
    ":::"
   ],
   "metadata": {}
  },
  {
   "cell_type": "markdown",
   "source": [
    "There's a 2021 New York Times article that talks about Prince Harry and\n",
    "Meghan's unique choice for their new baby daughter's name: Lilibet\n",
    "[^williamsLilith2021]. The article has an interview with Pamela Redmond, an\n",
    "expert on baby names, who talks about interesting trends in how people name\n",
    "their kids. For example, she says that names that start with the letter \"L\"\n",
    "have become very popular in recent years, while names that start with the\n",
    "letter \"J\" were popular in the 1970s and 1980s. Are these claims reflected in\n",
    "data? We can use `pandas` to find out!"
   ],
   "metadata": {}
  },
  {
   "cell_type": "markdown",
   "source": [
    "[^williamsLilith2021]: Williams, Alex. “Lilith, Lilibet … Lucifer? How Baby Names Went to ‘L.’” The New York Times, June 12, 2021, sec. Style. https://www.nytimes.com/2021/06/12/style/lilibet-popular-baby-names.html."
   ],
   "metadata": {}
  },
  {
   "cell_type": "markdown",
   "source": [
    "First, import the package as `pd`, the canonical abbreviation:"
   ],
   "metadata": {}
  },
  {
   "cell_type": "code",
   "execution_count": 4,
   "source": [
    "import pandas as pd"
   ],
   "outputs": [],
   "metadata": {}
  },
  {
   "cell_type": "markdown",
   "source": [
    "We have a dataset of baby names stored in a comma-separated values (CSV) file\n",
    "called `babynames.csv`. Use the `pd.read_csv` function to read the file as a\n",
    "`pandas` DataFrame object."
   ],
   "metadata": {}
  },
  {
   "cell_type": "code",
   "execution_count": 6,
   "source": [
    "baby = pd.read_csv('babynames.csv')\n",
    "baby"
   ],
   "outputs": [
    {
     "output_type": "execute_result",
     "data": {
      "text/plain": [
       "             Name Sex  Count  Year\n",
       "0            Mary   F   9217  1884\n",
       "1            Anna   F   3860  1884\n",
       "2            Emma   F   2587  1884\n",
       "...           ...  ..    ...   ...\n",
       "1891891     Verna   M      5  1883\n",
       "1891892    Winnie   M      5  1883\n",
       "1891893  Winthrop   M      5  1883\n",
       "\n",
       "[1891894 rows x 4 columns]"
      ],
      "text/html": [
       "<div>\n",
       "<style scoped>\n",
       "    .dataframe tbody tr th:only-of-type {\n",
       "        vertical-align: middle;\n",
       "    }\n",
       "\n",
       "    .dataframe tbody tr th {\n",
       "        vertical-align: top;\n",
       "    }\n",
       "\n",
       "    .dataframe thead th {\n",
       "        text-align: right;\n",
       "    }\n",
       "</style>\n",
       "<table border=\"1\" class=\"dataframe\">\n",
       "  <thead>\n",
       "    <tr style=\"text-align: right;\">\n",
       "      <th></th>\n",
       "      <th>Name</th>\n",
       "      <th>Sex</th>\n",
       "      <th>Count</th>\n",
       "      <th>Year</th>\n",
       "    </tr>\n",
       "  </thead>\n",
       "  <tbody>\n",
       "    <tr>\n",
       "      <th>0</th>\n",
       "      <td>Mary</td>\n",
       "      <td>F</td>\n",
       "      <td>9217</td>\n",
       "      <td>1884</td>\n",
       "    </tr>\n",
       "    <tr>\n",
       "      <th>1</th>\n",
       "      <td>Anna</td>\n",
       "      <td>F</td>\n",
       "      <td>3860</td>\n",
       "      <td>1884</td>\n",
       "    </tr>\n",
       "    <tr>\n",
       "      <th>2</th>\n",
       "      <td>Emma</td>\n",
       "      <td>F</td>\n",
       "      <td>2587</td>\n",
       "      <td>1884</td>\n",
       "    </tr>\n",
       "    <tr>\n",
       "      <th>...</th>\n",
       "      <td>...</td>\n",
       "      <td>...</td>\n",
       "      <td>...</td>\n",
       "      <td>...</td>\n",
       "    </tr>\n",
       "    <tr>\n",
       "      <th>1891891</th>\n",
       "      <td>Verna</td>\n",
       "      <td>M</td>\n",
       "      <td>5</td>\n",
       "      <td>1883</td>\n",
       "    </tr>\n",
       "    <tr>\n",
       "      <th>1891892</th>\n",
       "      <td>Winnie</td>\n",
       "      <td>M</td>\n",
       "      <td>5</td>\n",
       "      <td>1883</td>\n",
       "    </tr>\n",
       "    <tr>\n",
       "      <th>1891893</th>\n",
       "      <td>Winthrop</td>\n",
       "      <td>M</td>\n",
       "      <td>5</td>\n",
       "      <td>1883</td>\n",
       "    </tr>\n",
       "  </tbody>\n",
       "</table>\n",
       "<p>1891894 rows × 4 columns</p>\n",
       "</div>"
      ]
     },
     "metadata": {},
     "execution_count": 6
    }
   ],
   "metadata": {}
  },
  {
   "cell_type": "code",
   "execution_count": null,
   "source": [],
   "outputs": [],
   "metadata": {}
  },
  {
   "cell_type": "markdown",
   "source": [
    "\n",
    "In the remaining sections of this chapter we will work with the Baby Names dataset from Chapter 1. We will pose a question, break the question down into high-level steps, then translate each step into Python code using `pandas` DataFrames. We begin by importing `pandas`:"
   ],
   "metadata": {}
  },
  {
   "cell_type": "code",
   "execution_count": 2,
   "source": [
    "baby.loc[1, 'Name']  # Row labeled 1, Column labeled 'Name'\n"
   ],
   "outputs": [],
   "metadata": {}
  },
  {
   "cell_type": "markdown",
   "source": [
    "Now we can read in the data using `pd.read_csv` ([docs](https://pandas.pydata.org/pandas-docs/stable/generated/pandas.read_csv.html))."
   ],
   "metadata": {}
  },
  {
   "cell_type": "code",
   "execution_count": 3,
   "source": [
    "baby = pd.read_csv('babynames.csv')\n",
    "baby"
   ],
   "outputs": [
    {
     "output_type": "execute_result",
     "data": {
      "text/plain": [
       "             Name Sex  Count  Year\n",
       "0            Mary   F   9217  1884\n",
       "1            Anna   F   3860  1884\n",
       "2            Emma   F   2587  1884\n",
       "...           ...  ..    ...   ...\n",
       "1891891     Verna   M      5  1883\n",
       "1891892    Winnie   M      5  1883\n",
       "1891893  Winthrop   M      5  1883\n",
       "\n",
       "[1891894 rows x 4 columns]"
      ],
      "text/html": [
       "<div>\n",
       "<style scoped>\n",
       "    .dataframe tbody tr th:only-of-type {\n",
       "        vertical-align: middle;\n",
       "    }\n",
       "\n",
       "    .dataframe tbody tr th {\n",
       "        vertical-align: top;\n",
       "    }\n",
       "\n",
       "    .dataframe thead th {\n",
       "        text-align: right;\n",
       "    }\n",
       "</style>\n",
       "<table border=\"1\" class=\"dataframe\">\n",
       "  <thead>\n",
       "    <tr style=\"text-align: right;\">\n",
       "      <th></th>\n",
       "      <th>Name</th>\n",
       "      <th>Sex</th>\n",
       "      <th>Count</th>\n",
       "      <th>Year</th>\n",
       "    </tr>\n",
       "  </thead>\n",
       "  <tbody>\n",
       "    <tr>\n",
       "      <th>0</th>\n",
       "      <td>Mary</td>\n",
       "      <td>F</td>\n",
       "      <td>9217</td>\n",
       "      <td>1884</td>\n",
       "    </tr>\n",
       "    <tr>\n",
       "      <th>1</th>\n",
       "      <td>Anna</td>\n",
       "      <td>F</td>\n",
       "      <td>3860</td>\n",
       "      <td>1884</td>\n",
       "    </tr>\n",
       "    <tr>\n",
       "      <th>2</th>\n",
       "      <td>Emma</td>\n",
       "      <td>F</td>\n",
       "      <td>2587</td>\n",
       "      <td>1884</td>\n",
       "    </tr>\n",
       "    <tr>\n",
       "      <th>...</th>\n",
       "      <td>...</td>\n",
       "      <td>...</td>\n",
       "      <td>...</td>\n",
       "      <td>...</td>\n",
       "    </tr>\n",
       "    <tr>\n",
       "      <th>1891891</th>\n",
       "      <td>Verna</td>\n",
       "      <td>M</td>\n",
       "      <td>5</td>\n",
       "      <td>1883</td>\n",
       "    </tr>\n",
       "    <tr>\n",
       "      <th>1891892</th>\n",
       "      <td>Winnie</td>\n",
       "      <td>M</td>\n",
       "      <td>5</td>\n",
       "      <td>1883</td>\n",
       "    </tr>\n",
       "    <tr>\n",
       "      <th>1891893</th>\n",
       "      <td>Winthrop</td>\n",
       "      <td>M</td>\n",
       "      <td>5</td>\n",
       "      <td>1883</td>\n",
       "    </tr>\n",
       "  </tbody>\n",
       "</table>\n",
       "<p>1891894 rows × 4 columns</p>\n",
       "</div>"
      ]
     },
     "metadata": {},
     "execution_count": 3
    }
   ],
   "metadata": {}
  },
  {
   "cell_type": "code",
   "execution_count": null,
   "source": [],
   "outputs": [],
   "metadata": {}
  },
  {
   "cell_type": "code",
   "execution_count": null,
   "source": [],
   "outputs": [],
   "metadata": {}
  },
  {
   "cell_type": "code",
   "execution_count": null,
   "source": [],
   "outputs": [],
   "metadata": {}
  },
  {
   "cell_type": "code",
   "execution_count": null,
   "source": [],
   "outputs": [],
   "metadata": {}
  },
  {
   "cell_type": "markdown",
   "source": [
    "Note that for the code above to work, the `babynames.csv` file must be located in the same directory as this notebook. We can check what files are in the current folder by running the `ls` command-line tool:"
   ],
   "metadata": {}
  },
  {
   "cell_type": "code",
   "execution_count": 3,
   "source": [
    "baby.loc[1, 'Name']  # Row labeled 1, Column labeled 'Name'\n"
   ],
   "outputs": [
    {
     "output_type": "stream",
     "name": "stdout",
     "text": [
      "babynames.csv                       pandas_indexes.ipynb\n",
      "\u001b[34mothers\u001b[m\u001b[m                              pandas_intro.ipynb\n",
      "pandas_apply_strings_plotting.ipynb pandas_structure.ipynb\n",
      "pandas_grouping_pivoting.ipynb\n"
     ]
    }
   ],
   "metadata": {}
  },
  {
   "cell_type": "markdown",
   "source": [
    "When we use `pandas` to read in data, we get a DataFrame. A DataFrame is a tabular data structure where each column is labeled (in this case 'Name', 'Sex', 'Count', 'Year') and each row is labeled (in this case 0, 1, 2, ..., 1891893). Note that the Table object introduced in Data 8 only labels columns while DataFrames label both columns and rows.\n",
    "\n",
    "The labels of a DataFrame are called the *indexes* of the DataFrame and make many data manipulations easier."
   ],
   "metadata": {}
  },
  {
   "cell_type": "markdown",
   "source": [
    "## Slicing\n",
    "\n",
    "Let's use `pandas` to answer the following question:\n",
    "\n",
    "**What were the five most popular baby names in 2016?**\n",
    "\n",
    "### Breaking the Problem Down\n",
    "\n",
    "We can decompose this question into the following simpler table manipulations:\n",
    "\n",
    "1. Slice out the rows for the year 2016.\n",
    "2. Sort the rows in descending order by Count.\n",
    "\n",
    "Now, we can express these steps in `pandas`.\n",
    "\n",
    "### Slicing using `.loc`\n",
    "\n",
    "To select subsets of a DataFrame, we use the `.loc` slicing syntax. The first argument is the label of the row and the second is the label of the column:"
   ],
   "metadata": {}
  },
  {
   "cell_type": "code",
   "execution_count": 10,
   "source": [
    "baby"
   ],
   "outputs": [
    {
     "output_type": "execute_result",
     "data": {
      "text/plain": [
       "             Name Sex  Count  Year\n",
       "0            Mary   F   9217  1884\n",
       "1            Anna   F   3860  1884\n",
       "2            Emma   F   2587  1884\n",
       "...           ...  ..    ...   ...\n",
       "1891891     Verna   M      5  1883\n",
       "1891892    Winnie   M      5  1883\n",
       "1891893  Winthrop   M      5  1883\n",
       "\n",
       "[1891894 rows x 4 columns]"
      ],
      "text/html": [
       "<div>\n",
       "<style>\n",
       "    .dataframe thead tr:only-child th {\n",
       "        text-align: right;\n",
       "    }\n",
       "\n",
       "    .dataframe thead th {\n",
       "        text-align: left;\n",
       "    }\n",
       "\n",
       "    .dataframe tbody tr th {\n",
       "        vertical-align: top;\n",
       "    }\n",
       "</style>\n",
       "<table border=\"1\" class=\"dataframe\">\n",
       "  <thead>\n",
       "    <tr style=\"text-align: right;\">\n",
       "      <th></th>\n",
       "      <th>Name</th>\n",
       "      <th>Sex</th>\n",
       "      <th>Count</th>\n",
       "      <th>Year</th>\n",
       "    </tr>\n",
       "  </thead>\n",
       "  <tbody>\n",
       "    <tr>\n",
       "      <th>0</th>\n",
       "      <td>Mary</td>\n",
       "      <td>F</td>\n",
       "      <td>9217</td>\n",
       "      <td>1884</td>\n",
       "    </tr>\n",
       "    <tr>\n",
       "      <th>1</th>\n",
       "      <td>Anna</td>\n",
       "      <td>F</td>\n",
       "      <td>3860</td>\n",
       "      <td>1884</td>\n",
       "    </tr>\n",
       "    <tr>\n",
       "      <th>2</th>\n",
       "      <td>Emma</td>\n",
       "      <td>F</td>\n",
       "      <td>2587</td>\n",
       "      <td>1884</td>\n",
       "    </tr>\n",
       "    <tr>\n",
       "      <th>...</th>\n",
       "      <td>...</td>\n",
       "      <td>...</td>\n",
       "      <td>...</td>\n",
       "      <td>...</td>\n",
       "    </tr>\n",
       "    <tr>\n",
       "      <th>1891891</th>\n",
       "      <td>Verna</td>\n",
       "      <td>M</td>\n",
       "      <td>5</td>\n",
       "      <td>1883</td>\n",
       "    </tr>\n",
       "    <tr>\n",
       "      <th>1891892</th>\n",
       "      <td>Winnie</td>\n",
       "      <td>M</td>\n",
       "      <td>5</td>\n",
       "      <td>1883</td>\n",
       "    </tr>\n",
       "    <tr>\n",
       "      <th>1891893</th>\n",
       "      <td>Winthrop</td>\n",
       "      <td>M</td>\n",
       "      <td>5</td>\n",
       "      <td>1883</td>\n",
       "    </tr>\n",
       "  </tbody>\n",
       "</table>\n",
       "<p>1891894 rows × 4 columns</p>\n",
       "</div>"
      ]
     },
     "metadata": {},
     "execution_count": 10
    }
   ],
   "metadata": {}
  },
  {
   "cell_type": "code",
   "execution_count": 11,
   "source": [
    "baby.loc[1, 'Name'] # Row labeled 1, Column labeled 'Name'"
   ],
   "outputs": [
    {
     "output_type": "execute_result",
     "data": {
      "text/plain": [
       "'Anna'"
      ]
     },
     "metadata": {},
     "execution_count": 11
    }
   ],
   "metadata": {}
  },
  {
   "cell_type": "markdown",
   "source": [
    "To slice out multiple rows or columns, we can use `:`. Note that `.loc` slicing is inclusive, unlike Python's slicing."
   ],
   "metadata": {}
  },
  {
   "cell_type": "code",
   "execution_count": 12,
   "source": [
    "# Get rows 1 through 5, columns Name through Count inclusive\n",
    "baby.loc[1:5, 'Name':'Count']"
   ],
   "outputs": [
    {
     "output_type": "execute_result",
     "data": {
      "text/plain": [
       "        Name Sex  Count\n",
       "1       Anna   F   3860\n",
       "2       Emma   F   2587\n",
       "3  Elizabeth   F   2549\n",
       "4     Minnie   F   2243\n",
       "5   Margaret   F   2142"
      ],
      "text/html": [
       "<div>\n",
       "<style>\n",
       "    .dataframe thead tr:only-child th {\n",
       "        text-align: right;\n",
       "    }\n",
       "\n",
       "    .dataframe thead th {\n",
       "        text-align: left;\n",
       "    }\n",
       "\n",
       "    .dataframe tbody tr th {\n",
       "        vertical-align: top;\n",
       "    }\n",
       "</style>\n",
       "<table border=\"1\" class=\"dataframe\">\n",
       "  <thead>\n",
       "    <tr style=\"text-align: right;\">\n",
       "      <th></th>\n",
       "      <th>Name</th>\n",
       "      <th>Sex</th>\n",
       "      <th>Count</th>\n",
       "    </tr>\n",
       "  </thead>\n",
       "  <tbody>\n",
       "    <tr>\n",
       "      <th>1</th>\n",
       "      <td>Anna</td>\n",
       "      <td>F</td>\n",
       "      <td>3860</td>\n",
       "    </tr>\n",
       "    <tr>\n",
       "      <th>2</th>\n",
       "      <td>Emma</td>\n",
       "      <td>F</td>\n",
       "      <td>2587</td>\n",
       "    </tr>\n",
       "    <tr>\n",
       "      <th>3</th>\n",
       "      <td>Elizabeth</td>\n",
       "      <td>F</td>\n",
       "      <td>2549</td>\n",
       "    </tr>\n",
       "    <tr>\n",
       "      <th>4</th>\n",
       "      <td>Minnie</td>\n",
       "      <td>F</td>\n",
       "      <td>2243</td>\n",
       "    </tr>\n",
       "    <tr>\n",
       "      <th>5</th>\n",
       "      <td>Margaret</td>\n",
       "      <td>F</td>\n",
       "      <td>2142</td>\n",
       "    </tr>\n",
       "  </tbody>\n",
       "</table>\n",
       "</div>"
      ]
     },
     "metadata": {},
     "execution_count": 12
    }
   ],
   "metadata": {}
  },
  {
   "cell_type": "markdown",
   "source": [
    "We will often want a single column from a DataFrame:"
   ],
   "metadata": {}
  },
  {
   "cell_type": "code",
   "execution_count": 13,
   "source": [
    "baby.loc[:, 'Year']"
   ],
   "outputs": [
    {
     "output_type": "execute_result",
     "data": {
      "text/plain": [
       "0          1884\n",
       "1          1884\n",
       "2          1884\n",
       "           ... \n",
       "1891891    1883\n",
       "1891892    1883\n",
       "1891893    1883\n",
       "Name: Year, Length: 1891894, dtype: int64"
      ]
     },
     "metadata": {},
     "execution_count": 13
    }
   ],
   "metadata": {}
  },
  {
   "cell_type": "markdown",
   "source": [
    "Note that when we select a single column, we get a `pandas` Series. A Series is like a one-dimensional NumPy array since we can perform arithmetic on all the elements at once."
   ],
   "metadata": {}
  },
  {
   "cell_type": "code",
   "execution_count": 14,
   "source": [
    "baby.loc[:, 'Year'] * 2"
   ],
   "outputs": [
    {
     "output_type": "execute_result",
     "data": {
      "text/plain": [
       "0          3768\n",
       "1          3768\n",
       "2          3768\n",
       "           ... \n",
       "1891891    3766\n",
       "1891892    3766\n",
       "1891893    3766\n",
       "Name: Year, Length: 1891894, dtype: int64"
      ]
     },
     "metadata": {},
     "execution_count": 14
    }
   ],
   "metadata": {}
  },
  {
   "cell_type": "markdown",
   "source": [
    "To select out specific columns, we can pass a list into the `.loc` slice:"
   ],
   "metadata": {}
  },
  {
   "cell_type": "code",
   "execution_count": 15,
   "source": [
    "# This is a DataFrame again\n",
    "baby.loc[:, ['Name', 'Year']]"
   ],
   "outputs": [
    {
     "output_type": "execute_result",
     "data": {
      "text/plain": [
       "             Name  Year\n",
       "0            Mary  1884\n",
       "1            Anna  1884\n",
       "2            Emma  1884\n",
       "...           ...   ...\n",
       "1891891     Verna  1883\n",
       "1891892    Winnie  1883\n",
       "1891893  Winthrop  1883\n",
       "\n",
       "[1891894 rows x 2 columns]"
      ],
      "text/html": [
       "<div>\n",
       "<style>\n",
       "    .dataframe thead tr:only-child th {\n",
       "        text-align: right;\n",
       "    }\n",
       "\n",
       "    .dataframe thead th {\n",
       "        text-align: left;\n",
       "    }\n",
       "\n",
       "    .dataframe tbody tr th {\n",
       "        vertical-align: top;\n",
       "    }\n",
       "</style>\n",
       "<table border=\"1\" class=\"dataframe\">\n",
       "  <thead>\n",
       "    <tr style=\"text-align: right;\">\n",
       "      <th></th>\n",
       "      <th>Name</th>\n",
       "      <th>Year</th>\n",
       "    </tr>\n",
       "  </thead>\n",
       "  <tbody>\n",
       "    <tr>\n",
       "      <th>0</th>\n",
       "      <td>Mary</td>\n",
       "      <td>1884</td>\n",
       "    </tr>\n",
       "    <tr>\n",
       "      <th>1</th>\n",
       "      <td>Anna</td>\n",
       "      <td>1884</td>\n",
       "    </tr>\n",
       "    <tr>\n",
       "      <th>2</th>\n",
       "      <td>Emma</td>\n",
       "      <td>1884</td>\n",
       "    </tr>\n",
       "    <tr>\n",
       "      <th>...</th>\n",
       "      <td>...</td>\n",
       "      <td>...</td>\n",
       "    </tr>\n",
       "    <tr>\n",
       "      <th>1891891</th>\n",
       "      <td>Verna</td>\n",
       "      <td>1883</td>\n",
       "    </tr>\n",
       "    <tr>\n",
       "      <th>1891892</th>\n",
       "      <td>Winnie</td>\n",
       "      <td>1883</td>\n",
       "    </tr>\n",
       "    <tr>\n",
       "      <th>1891893</th>\n",
       "      <td>Winthrop</td>\n",
       "      <td>1883</td>\n",
       "    </tr>\n",
       "  </tbody>\n",
       "</table>\n",
       "<p>1891894 rows × 2 columns</p>\n",
       "</div>"
      ]
     },
     "metadata": {},
     "execution_count": 15
    }
   ],
   "metadata": {}
  },
  {
   "cell_type": "markdown",
   "source": [
    "Selecting columns is common, so there's a shorthand."
   ],
   "metadata": {}
  },
  {
   "cell_type": "code",
   "execution_count": 16,
   "source": [
    "# Shorthand for baby.loc[:, 'Name']\n",
    "baby['Name']"
   ],
   "outputs": [
    {
     "output_type": "execute_result",
     "data": {
      "text/plain": [
       "0              Mary\n",
       "1              Anna\n",
       "2              Emma\n",
       "             ...   \n",
       "1891891       Verna\n",
       "1891892      Winnie\n",
       "1891893    Winthrop\n",
       "Name: Name, Length: 1891894, dtype: object"
      ]
     },
     "metadata": {},
     "execution_count": 16
    }
   ],
   "metadata": {}
  },
  {
   "cell_type": "code",
   "execution_count": 17,
   "source": [
    "# Shorthand for baby.loc[:, ['Name', 'Count']]\n",
    "baby[['Name', 'Count']]"
   ],
   "outputs": [
    {
     "output_type": "execute_result",
     "data": {
      "text/plain": [
       "             Name  Count\n",
       "0            Mary   9217\n",
       "1            Anna   3860\n",
       "2            Emma   2587\n",
       "...           ...    ...\n",
       "1891891     Verna      5\n",
       "1891892    Winnie      5\n",
       "1891893  Winthrop      5\n",
       "\n",
       "[1891894 rows x 2 columns]"
      ],
      "text/html": [
       "<div>\n",
       "<style>\n",
       "    .dataframe thead tr:only-child th {\n",
       "        text-align: right;\n",
       "    }\n",
       "\n",
       "    .dataframe thead th {\n",
       "        text-align: left;\n",
       "    }\n",
       "\n",
       "    .dataframe tbody tr th {\n",
       "        vertical-align: top;\n",
       "    }\n",
       "</style>\n",
       "<table border=\"1\" class=\"dataframe\">\n",
       "  <thead>\n",
       "    <tr style=\"text-align: right;\">\n",
       "      <th></th>\n",
       "      <th>Name</th>\n",
       "      <th>Count</th>\n",
       "    </tr>\n",
       "  </thead>\n",
       "  <tbody>\n",
       "    <tr>\n",
       "      <th>0</th>\n",
       "      <td>Mary</td>\n",
       "      <td>9217</td>\n",
       "    </tr>\n",
       "    <tr>\n",
       "      <th>1</th>\n",
       "      <td>Anna</td>\n",
       "      <td>3860</td>\n",
       "    </tr>\n",
       "    <tr>\n",
       "      <th>2</th>\n",
       "      <td>Emma</td>\n",
       "      <td>2587</td>\n",
       "    </tr>\n",
       "    <tr>\n",
       "      <th>...</th>\n",
       "      <td>...</td>\n",
       "      <td>...</td>\n",
       "    </tr>\n",
       "    <tr>\n",
       "      <th>1891891</th>\n",
       "      <td>Verna</td>\n",
       "      <td>5</td>\n",
       "    </tr>\n",
       "    <tr>\n",
       "      <th>1891892</th>\n",
       "      <td>Winnie</td>\n",
       "      <td>5</td>\n",
       "    </tr>\n",
       "    <tr>\n",
       "      <th>1891893</th>\n",
       "      <td>Winthrop</td>\n",
       "      <td>5</td>\n",
       "    </tr>\n",
       "  </tbody>\n",
       "</table>\n",
       "<p>1891894 rows × 2 columns</p>\n",
       "</div>"
      ]
     },
     "metadata": {},
     "execution_count": 17
    }
   ],
   "metadata": {}
  },
  {
   "cell_type": "markdown",
   "source": [
    "#### Slicing rows using a predicate\n",
    "\n",
    "To slice out the rows with year 2016, we will first create a Series containing `True` for each row we want to keep and `False` for each row we want to drop. This is simple because math and boolean operators on Series are applied to each element in the Series."
   ],
   "metadata": {}
  },
  {
   "cell_type": "code",
   "execution_count": 18,
   "source": [
    "# Series of years\n",
    "baby['Year']"
   ],
   "outputs": [
    {
     "output_type": "execute_result",
     "data": {
      "text/plain": [
       "0          1884\n",
       "1          1884\n",
       "2          1884\n",
       "           ... \n",
       "1891891    1883\n",
       "1891892    1883\n",
       "1891893    1883\n",
       "Name: Year, Length: 1891894, dtype: int64"
      ]
     },
     "metadata": {},
     "execution_count": 18
    }
   ],
   "metadata": {}
  },
  {
   "cell_type": "code",
   "execution_count": 21,
   "source": [
    "# Compare each year with 2016\n",
    "baby['Year'] == 2016"
   ],
   "outputs": [
    {
     "output_type": "execute_result",
     "data": {
      "text/plain": [
       "0          False\n",
       "1          False\n",
       "2          False\n",
       "           ...  \n",
       "1891891    False\n",
       "1891892    False\n",
       "1891893    False\n",
       "Name: Year, Length: 1891894, dtype: bool"
      ]
     },
     "metadata": {},
     "execution_count": 21
    }
   ],
   "metadata": {}
  },
  {
   "cell_type": "markdown",
   "source": [
    "Once we have this Series of `True` and `False`, we can pass it into `.loc`."
   ],
   "metadata": {}
  },
  {
   "cell_type": "code",
   "execution_count": 23,
   "source": [
    "# We are slicing rows, so the boolean Series goes in the first\n",
    "# argument to .loc\n",
    "baby_2016 = baby.loc[baby['Year'] == 2016, :]\n",
    "baby_2016"
   ],
   "outputs": [
    {
     "output_type": "execute_result",
     "data": {
      "text/plain": [
       "           Name Sex  Count  Year\n",
       "1850880    Emma   F  19414  2016\n",
       "1850881  Olivia   F  19246  2016\n",
       "1850882     Ava   F  16237  2016\n",
       "...         ...  ..    ...   ...\n",
       "1883745  Zyahir   M      5  2016\n",
       "1883746    Zyel   M      5  2016\n",
       "1883747   Zylyn   M      5  2016\n",
       "\n",
       "[32868 rows x 4 columns]"
      ],
      "text/html": [
       "<div>\n",
       "<style>\n",
       "    .dataframe thead tr:only-child th {\n",
       "        text-align: right;\n",
       "    }\n",
       "\n",
       "    .dataframe thead th {\n",
       "        text-align: left;\n",
       "    }\n",
       "\n",
       "    .dataframe tbody tr th {\n",
       "        vertical-align: top;\n",
       "    }\n",
       "</style>\n",
       "<table border=\"1\" class=\"dataframe\">\n",
       "  <thead>\n",
       "    <tr style=\"text-align: right;\">\n",
       "      <th></th>\n",
       "      <th>Name</th>\n",
       "      <th>Sex</th>\n",
       "      <th>Count</th>\n",
       "      <th>Year</th>\n",
       "    </tr>\n",
       "  </thead>\n",
       "  <tbody>\n",
       "    <tr>\n",
       "      <th>1850880</th>\n",
       "      <td>Emma</td>\n",
       "      <td>F</td>\n",
       "      <td>19414</td>\n",
       "      <td>2016</td>\n",
       "    </tr>\n",
       "    <tr>\n",
       "      <th>1850881</th>\n",
       "      <td>Olivia</td>\n",
       "      <td>F</td>\n",
       "      <td>19246</td>\n",
       "      <td>2016</td>\n",
       "    </tr>\n",
       "    <tr>\n",
       "      <th>1850882</th>\n",
       "      <td>Ava</td>\n",
       "      <td>F</td>\n",
       "      <td>16237</td>\n",
       "      <td>2016</td>\n",
       "    </tr>\n",
       "    <tr>\n",
       "      <th>...</th>\n",
       "      <td>...</td>\n",
       "      <td>...</td>\n",
       "      <td>...</td>\n",
       "      <td>...</td>\n",
       "    </tr>\n",
       "    <tr>\n",
       "      <th>1883745</th>\n",
       "      <td>Zyahir</td>\n",
       "      <td>M</td>\n",
       "      <td>5</td>\n",
       "      <td>2016</td>\n",
       "    </tr>\n",
       "    <tr>\n",
       "      <th>1883746</th>\n",
       "      <td>Zyel</td>\n",
       "      <td>M</td>\n",
       "      <td>5</td>\n",
       "      <td>2016</td>\n",
       "    </tr>\n",
       "    <tr>\n",
       "      <th>1883747</th>\n",
       "      <td>Zylyn</td>\n",
       "      <td>M</td>\n",
       "      <td>5</td>\n",
       "      <td>2016</td>\n",
       "    </tr>\n",
       "  </tbody>\n",
       "</table>\n",
       "<p>32868 rows × 4 columns</p>\n",
       "</div>"
      ]
     },
     "metadata": {},
     "execution_count": 23
    }
   ],
   "metadata": {}
  },
  {
   "cell_type": "markdown",
   "source": [
    "## Sorting Rows\n",
    "\n",
    "The next step is the sort the rows in descending order by 'Count'. We can use the `sort_values()` function."
   ],
   "metadata": {}
  },
  {
   "cell_type": "code",
   "execution_count": 25,
   "source": [
    "sorted_2016 = baby_2016.sort_values('Count', ascending=False)\n",
    "sorted_2016"
   ],
   "outputs": [
    {
     "output_type": "execute_result",
     "data": {
      "text/plain": [
       "             Name Sex  Count  Year\n",
       "1850880      Emma   F  19414  2016\n",
       "1850881    Olivia   F  19246  2016\n",
       "1869637      Noah   M  19015  2016\n",
       "...           ...  ..    ...   ...\n",
       "1868752  Mikaelyn   F      5  2016\n",
       "1868751    Miette   F      5  2016\n",
       "1883747     Zylyn   M      5  2016\n",
       "\n",
       "[32868 rows x 4 columns]"
      ],
      "text/html": [
       "<div>\n",
       "<style>\n",
       "    .dataframe thead tr:only-child th {\n",
       "        text-align: right;\n",
       "    }\n",
       "\n",
       "    .dataframe thead th {\n",
       "        text-align: left;\n",
       "    }\n",
       "\n",
       "    .dataframe tbody tr th {\n",
       "        vertical-align: top;\n",
       "    }\n",
       "</style>\n",
       "<table border=\"1\" class=\"dataframe\">\n",
       "  <thead>\n",
       "    <tr style=\"text-align: right;\">\n",
       "      <th></th>\n",
       "      <th>Name</th>\n",
       "      <th>Sex</th>\n",
       "      <th>Count</th>\n",
       "      <th>Year</th>\n",
       "    </tr>\n",
       "  </thead>\n",
       "  <tbody>\n",
       "    <tr>\n",
       "      <th>1850880</th>\n",
       "      <td>Emma</td>\n",
       "      <td>F</td>\n",
       "      <td>19414</td>\n",
       "      <td>2016</td>\n",
       "    </tr>\n",
       "    <tr>\n",
       "      <th>1850881</th>\n",
       "      <td>Olivia</td>\n",
       "      <td>F</td>\n",
       "      <td>19246</td>\n",
       "      <td>2016</td>\n",
       "    </tr>\n",
       "    <tr>\n",
       "      <th>1869637</th>\n",
       "      <td>Noah</td>\n",
       "      <td>M</td>\n",
       "      <td>19015</td>\n",
       "      <td>2016</td>\n",
       "    </tr>\n",
       "    <tr>\n",
       "      <th>...</th>\n",
       "      <td>...</td>\n",
       "      <td>...</td>\n",
       "      <td>...</td>\n",
       "      <td>...</td>\n",
       "    </tr>\n",
       "    <tr>\n",
       "      <th>1868752</th>\n",
       "      <td>Mikaelyn</td>\n",
       "      <td>F</td>\n",
       "      <td>5</td>\n",
       "      <td>2016</td>\n",
       "    </tr>\n",
       "    <tr>\n",
       "      <th>1868751</th>\n",
       "      <td>Miette</td>\n",
       "      <td>F</td>\n",
       "      <td>5</td>\n",
       "      <td>2016</td>\n",
       "    </tr>\n",
       "    <tr>\n",
       "      <th>1883747</th>\n",
       "      <td>Zylyn</td>\n",
       "      <td>M</td>\n",
       "      <td>5</td>\n",
       "      <td>2016</td>\n",
       "    </tr>\n",
       "  </tbody>\n",
       "</table>\n",
       "<p>32868 rows × 4 columns</p>\n",
       "</div>"
      ]
     },
     "metadata": {},
     "execution_count": 25
    }
   ],
   "metadata": {}
  },
  {
   "cell_type": "markdown",
   "source": [
    "Finally, we will use `.iloc` to slice out the first five rows of the DataFrame. `.iloc` works like `.loc` but takes in numerical indices instead of labels. It does not include the right endpoint in its slices, like Python's list slicing."
   ],
   "metadata": {}
  },
  {
   "cell_type": "code",
   "execution_count": 27,
   "source": [
    "# Get the value in the zeroth row, zeroth column\n",
    "sorted_2016.iloc[0, 0]"
   ],
   "outputs": [
    {
     "output_type": "execute_result",
     "data": {
      "text/plain": [
       "'Emma'"
      ]
     },
     "metadata": {},
     "execution_count": 27
    }
   ],
   "metadata": {}
  },
  {
   "cell_type": "code",
   "execution_count": 28,
   "source": [
    "# Get the first five rows\n",
    "sorted_2016.iloc[0:5]"
   ],
   "outputs": [
    {
     "output_type": "execute_result",
     "data": {
      "text/plain": [
       "           Name Sex  Count  Year\n",
       "1850880    Emma   F  19414  2016\n",
       "1850881  Olivia   F  19246  2016\n",
       "1869637    Noah   M  19015  2016\n",
       "1869638    Liam   M  18138  2016\n",
       "1850882     Ava   F  16237  2016"
      ],
      "text/html": [
       "<div>\n",
       "<style>\n",
       "    .dataframe thead tr:only-child th {\n",
       "        text-align: right;\n",
       "    }\n",
       "\n",
       "    .dataframe thead th {\n",
       "        text-align: left;\n",
       "    }\n",
       "\n",
       "    .dataframe tbody tr th {\n",
       "        vertical-align: top;\n",
       "    }\n",
       "</style>\n",
       "<table border=\"1\" class=\"dataframe\">\n",
       "  <thead>\n",
       "    <tr style=\"text-align: right;\">\n",
       "      <th></th>\n",
       "      <th>Name</th>\n",
       "      <th>Sex</th>\n",
       "      <th>Count</th>\n",
       "      <th>Year</th>\n",
       "    </tr>\n",
       "  </thead>\n",
       "  <tbody>\n",
       "    <tr>\n",
       "      <th>1850880</th>\n",
       "      <td>Emma</td>\n",
       "      <td>F</td>\n",
       "      <td>19414</td>\n",
       "      <td>2016</td>\n",
       "    </tr>\n",
       "    <tr>\n",
       "      <th>1850881</th>\n",
       "      <td>Olivia</td>\n",
       "      <td>F</td>\n",
       "      <td>19246</td>\n",
       "      <td>2016</td>\n",
       "    </tr>\n",
       "    <tr>\n",
       "      <th>1869637</th>\n",
       "      <td>Noah</td>\n",
       "      <td>M</td>\n",
       "      <td>19015</td>\n",
       "      <td>2016</td>\n",
       "    </tr>\n",
       "    <tr>\n",
       "      <th>1869638</th>\n",
       "      <td>Liam</td>\n",
       "      <td>M</td>\n",
       "      <td>18138</td>\n",
       "      <td>2016</td>\n",
       "    </tr>\n",
       "    <tr>\n",
       "      <th>1850882</th>\n",
       "      <td>Ava</td>\n",
       "      <td>F</td>\n",
       "      <td>16237</td>\n",
       "      <td>2016</td>\n",
       "    </tr>\n",
       "  </tbody>\n",
       "</table>\n",
       "</div>"
      ]
     },
     "metadata": {},
     "execution_count": 28
    }
   ],
   "metadata": {}
  },
  {
   "cell_type": "markdown",
   "source": [
    "## Summary\n",
    "\n",
    "We now have the five most popular baby names in 2016 and learned to express the following operations in `pandas`:\n",
    "\n",
    "| Operation | `pandas` |\n",
    "| --------- | -------  |\n",
    "| Read a CSV file | `pd.read_csv()` |\n",
    "| Slicing using labels or indices | `.loc` and `.iloc` |\n",
    "| Slicing rows using a predicate | Use a boolean-valued Series in `.loc` |\n",
    "| Sorting rows | `.sort_values()` |"
   ],
   "metadata": {}
  }
 ],
 "metadata": {
  "kernelspec": {
   "display_name": "Python 3 (ipykernel)",
   "language": "python",
   "name": "python3"
  },
  "toc": {
   "nav_menu": {},
   "number_sections": false,
   "sideBar": true,
   "skip_h1_title": false,
   "title_cell": "Table of Contents",
   "title_sidebar": "Contents",
   "toc_cell": true,
   "toc_position": {},
   "toc_section_display": true,
   "toc_window_display": false
  },
  "language_info": {
   "name": "python",
   "version": "3.8.5",
   "mimetype": "text/x-python",
   "codemirror_mode": {
    "name": "ipython",
    "version": 3
   },
   "pygments_lexer": "ipython3",
   "nbconvert_exporter": "python",
   "file_extension": ".py"
  }
 },
 "nbformat": 4,
 "nbformat_minor": 4
}