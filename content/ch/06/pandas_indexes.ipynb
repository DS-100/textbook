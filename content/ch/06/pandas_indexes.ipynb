{
 "cells": [
  {
   "cell_type": "code",
   "execution_count": 8,
   "source": [
    "# Reference: https://jupyterbook.org/interactive/hiding.html\n",
    "# Use {hide, remove}-{input, output, cell} tags to hiding content\n",
    "\n",
    "import numpy as np\n",
    "import matplotlib.pyplot as plt\n",
    "import pandas as pd\n",
    "import seaborn as sns\n",
    "%matplotlib inline\n",
    "import ipywidgets as widgets\n",
    "from ipywidgets import interact, interactive, fixed, interact_manual\n",
    "\n",
    "sns.set()\n",
    "sns.set_context('talk')\n",
    "np.set_printoptions(threshold=20, precision=2, suppress=True)\n",
    "pd.set_option('display.max_rows', 7)\n",
    "pd.set_option('display.max_columns', 8)\n",
    "pd.set_option('precision', 2)\n",
    "# This option stops scientific notation for pandas\n",
    "# pd.set_option('display.float_format', '{:.2f}'.format)\n",
    "\n",
    "def display_df(df, rows=pd.options.display.max_rows,\n",
    "               cols=pd.options.display.max_columns):\n",
    "    with pd.option_context('display.max_rows', rows,\n",
    "                           'display.max_columns', cols):\n",
    "        display(df)"
   ],
   "outputs": [],
   "metadata": {
    "tags": [
     "remove-cell"
    ]
   }
  },
  {
   "cell_type": "markdown",
   "source": [
    "# DataFrames, Indices, Slicing\n"
   ],
   "metadata": {}
  },
  {
   "cell_type": "markdown",
   "source": [
    "This section introduces the main `pandas` data structures for working with data\n",
    "tables.\n",
    "\n",
    "\n",
    ":::{admonition} Synopsis\n",
    ":class: synopsis-box\n",
    "\n",
    "This section introduces the `pandas.DataFrame` object, the primary data\n",
    "structure data scientists use to work with data tables in Python. Dataframes\n",
    "store row labels in `pandas.Index` objects. Every column of a dataframe is a\n",
    "`pandas.Series` object.\n",
    "\n",
    "To create a `pandas` DataFrame object using a CSV file, use `pd.read_csv`:\n",
    "\n",
    "```python\n",
    "df = pd.read_csv('babynames.csv')\n",
    "```\n",
    "\n",
    "To select values using row and column labels, use `DataFrame.loc` with a slice:\n",
    "\n",
    "```python\n",
    "df.loc[:, '']\n",
    "```\n",
    "\n",
    "To select values using row and column positions, use `DataFrame.iloc` with a\n",
    "slice:\n",
    "\n",
    "```python\n",
    "df.iloc[:, :]\n",
    "```\n",
    "\n",
    "To sort a dataframe, use `DataFrame.sort_values()`:\n",
    "\n",
    "```python\n",
    "df.sort_values('Year')\n",
    "```\n",
    ":::"
   ],
   "metadata": {}
  },
  {
   "cell_type": "markdown",
   "source": [
    "There's a 2021 New York Times article that talks about Prince Harry and\n",
    "Meghan's unique choice for their new baby daughter's name: Lilibet\n",
    "[^williamsLilith2021]. The article has an interview with Pamela Redmond, an\n",
    "expert on baby names, who talks about interesting trends in how people name\n",
    "their kids. For example, she says that names that start with the letter \"L\"\n",
    "have become very popular in recent years, while names that start with the\n",
    "letter \"J\" were popular in the 1970s and 1980s. Are these claims reflected in\n",
    "data? We can use `pandas` to find out!"
   ],
   "metadata": {}
  },
  {
   "cell_type": "markdown",
   "source": [
    "[^williamsLilith2021]: Williams, Alex. “Lilith, Lilibet … Lucifer? How Baby Names Went to ‘L.’” The New York Times, June 12, 2021, sec. Style. https://www.nytimes.com/2021/06/12/style/lilibet-popular-baby-names.html."
   ],
   "metadata": {}
  },
  {
   "cell_type": "markdown",
   "source": [
    "First, import the package as `pd`, the canonical abbreviation:"
   ],
   "metadata": {}
  },
  {
   "cell_type": "code",
   "execution_count": 9,
   "source": [
    "import pandas as pd"
   ],
   "outputs": [],
   "metadata": {}
  },
  {
   "cell_type": "markdown",
   "source": [
    "We have a dataset of baby names stored in a comma-separated values (CSV) file\n",
    "called `babynames.csv`. Use the `pd.read_csv` function to read the file as a\n",
    "`pandas.DataFrame` object."
   ],
   "metadata": {}
  },
  {
   "cell_type": "code",
   "execution_count": 10,
   "source": [
    "baby = pd.read_csv('babynames.csv')\n",
    "baby"
   ],
   "outputs": [
    {
     "output_type": "execute_result",
     "data": {
      "text/plain": [
       "             Name Sex  Count  Year\n",
       "0            Mary   F   9217  1884\n",
       "1            Anna   F   3860  1884\n",
       "2            Emma   F   2587  1884\n",
       "...           ...  ..    ...   ...\n",
       "1891891     Verna   M      5  1883\n",
       "1891892    Winnie   M      5  1883\n",
       "1891893  Winthrop   M      5  1883\n",
       "\n",
       "[1891894 rows x 4 columns]"
      ],
      "text/html": [
       "<div>\n",
       "<style scoped>\n",
       "    .dataframe tbody tr th:only-of-type {\n",
       "        vertical-align: middle;\n",
       "    }\n",
       "\n",
       "    .dataframe tbody tr th {\n",
       "        vertical-align: top;\n",
       "    }\n",
       "\n",
       "    .dataframe thead th {\n",
       "        text-align: right;\n",
       "    }\n",
       "</style>\n",
       "<table border=\"1\" class=\"dataframe\">\n",
       "  <thead>\n",
       "    <tr style=\"text-align: right;\">\n",
       "      <th></th>\n",
       "      <th>Name</th>\n",
       "      <th>Sex</th>\n",
       "      <th>Count</th>\n",
       "      <th>Year</th>\n",
       "    </tr>\n",
       "  </thead>\n",
       "  <tbody>\n",
       "    <tr>\n",
       "      <th>0</th>\n",
       "      <td>Mary</td>\n",
       "      <td>F</td>\n",
       "      <td>9217</td>\n",
       "      <td>1884</td>\n",
       "    </tr>\n",
       "    <tr>\n",
       "      <th>1</th>\n",
       "      <td>Anna</td>\n",
       "      <td>F</td>\n",
       "      <td>3860</td>\n",
       "      <td>1884</td>\n",
       "    </tr>\n",
       "    <tr>\n",
       "      <th>2</th>\n",
       "      <td>Emma</td>\n",
       "      <td>F</td>\n",
       "      <td>2587</td>\n",
       "      <td>1884</td>\n",
       "    </tr>\n",
       "    <tr>\n",
       "      <th>...</th>\n",
       "      <td>...</td>\n",
       "      <td>...</td>\n",
       "      <td>...</td>\n",
       "      <td>...</td>\n",
       "    </tr>\n",
       "    <tr>\n",
       "      <th>1891891</th>\n",
       "      <td>Verna</td>\n",
       "      <td>M</td>\n",
       "      <td>5</td>\n",
       "      <td>1883</td>\n",
       "    </tr>\n",
       "    <tr>\n",
       "      <th>1891892</th>\n",
       "      <td>Winnie</td>\n",
       "      <td>M</td>\n",
       "      <td>5</td>\n",
       "      <td>1883</td>\n",
       "    </tr>\n",
       "    <tr>\n",
       "      <th>1891893</th>\n",
       "      <td>Winthrop</td>\n",
       "      <td>M</td>\n",
       "      <td>5</td>\n",
       "      <td>1883</td>\n",
       "    </tr>\n",
       "  </tbody>\n",
       "</table>\n",
       "<p>1891894 rows × 4 columns</p>\n",
       "</div>"
      ]
     },
     "metadata": {},
     "execution_count": 10
    }
   ],
   "metadata": {}
  },
  {
   "cell_type": "markdown",
   "source": [
    "## DataFrames and Indices"
   ],
   "metadata": {}
  },
  {
   "cell_type": "markdown",
   "source": [
    "Let's pause here and explain what you're looking at. A dataframe has rows and\n",
    "columns. Every row and column has a label:\n",
    "\n",
    "```{image} figures/baby_labels.svg\n",
    ":alt: baby_labels\n",
    "```"
   ],
   "metadata": {}
  },
  {
   "cell_type": "markdown",
   "source": [
    "By default, `pandas` assigns row labels as incrementing numbers starting from\n",
    "0. In this case, the data at the row labeled `0` and column labeled `Name` has\n",
    "the data `'Mary'`.\n",
    "\n",
    "Dataframes can also have strings as row labels. Here's an example of a\n",
    "dataframe with US state mottos. Every row is labeled with the state.\n",
    "\n",
    "```{image} figures/motto_labels.svg\n",
    ":alt: motto_labels\n",
    "```"
   ],
   "metadata": {}
  },
  {
   "cell_type": "markdown",
   "source": [
    "The row labels have a special name. We call them the **index** of a dataframe,\n",
    "and `pandas` stores the row labels in a special `pandas.Index` object. We won't\n",
    "discuss the `pandas.Index` object since you don't often have to manipulate the\n",
    "index itself. But you should remember that even though the index looks like a\n",
    "column of data, the index really represents row labels, not data. For instance,\n",
    "the dataframe of US state mottos has 4 columns of data, not 5, since the index\n",
    "doesn't count as a column."
   ],
   "metadata": {}
  },
  {
   "cell_type": "markdown",
   "source": [
    "## About the Data\n",
    "\n",
    "The data in the `baby` table comes from the US Social Security department,\n",
    "which records the baby name and birth sex for birth certificate purposes. They\n",
    "make the baby names data available on their website [^babynamesData], and we've\n",
    "loaded this data into the `baby` table.\n",
    "\n",
    "[^babynamesData]: “Social Secuity Baby Names.” Accessed August 16, 2021. https://www.ssa.gov/oact/babynames/index.html."
   ],
   "metadata": {}
  },
  {
   "cell_type": "markdown",
   "source": [
    "When you start working with a dataset you should collect information about how\n",
    "the data were collected. In this case, the Social Security website also has a\n",
    "page that describes the data in more detail\n",
    "([link](https://www.ssa.gov/oact/babynames/background.html)). We won't go\n",
    "in-depth in this chapter about the data's limitations, but you should remember\n",
    "this quote from the website:\n",
    "\n",
    "> All names are from Social Security card applications for births that occurred\n",
    "> in the United States after 1879. Note that many people born before 1937 never\n",
    "> applied for a Social Security card, so their names are not included in our\n",
    "> data. For others who did apply, our records may not show the place of birth,\n",
    "> and again their names are not included in our data.\n",
    ">\n",
    "> All data are from a 100% sample of our records on Social Security card\n",
    "> applications as of March 2021."
   ],
   "metadata": {}
  },
  {
   "cell_type": "markdown",
   "source": [
    "## Slicing\n",
    "\n"
   ],
   "metadata": {}
  },
  {
   "cell_type": "markdown",
   "source": [
    "## Summary\n",
    "\n",
    "We now have the five most popular baby names in 2016 and learned to express the following operations in `pandas`:\n",
    "\n",
    "| Operation | `pandas` |\n",
    "| --------- | -------  |\n",
    "| Read a CSV file | `pd.read_csv()` |\n",
    "| Slicing using labels or indices | `.loc` and `.iloc` |\n",
    "| Slicing rows using a predicate | Use a boolean-valued Series in `.loc` |\n",
    "| Sorting rows | `.sort_values()` |"
   ],
   "metadata": {}
  }
 ],
 "metadata": {
  "kernelspec": {
   "display_name": "Python 3 (ipykernel)",
   "language": "python",
   "name": "python3"
  },
  "toc": {
   "nav_menu": {},
   "number_sections": false,
   "sideBar": true,
   "skip_h1_title": false,
   "title_cell": "Table of Contents",
   "title_sidebar": "Contents",
   "toc_cell": true,
   "toc_position": {},
   "toc_section_display": true,
   "toc_window_display": false
  },
  "language_info": {
   "name": "python",
   "version": "3.8.5",
   "mimetype": "text/x-python",
   "codemirror_mode": {
    "name": "ipython",
    "version": 3
   },
   "pygments_lexer": "ipython3",
   "nbconvert_exporter": "python",
   "file_extension": ".py"
  }
 },
 "nbformat": 4,
 "nbformat_minor": 4
}