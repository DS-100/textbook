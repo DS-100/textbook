{
 "cells": [
  {
   "cell_type": "code",
   "execution_count": 1,
   "source": [
    "# Reference: https://jupyterbook.org/interactive/hiding.html\n",
    "# Use {hide, remove}-{input, output, cell} tags to hiding content\n",
    "\n",
    "import numpy as np\n",
    "import matplotlib.pyplot as plt\n",
    "import pandas as pd\n",
    "import seaborn as sns\n",
    "%matplotlib inline\n",
    "import ipywidgets as widgets\n",
    "from ipywidgets import interact, interactive, fixed, interact_manual\n",
    "from IPython import display\n",
    "\n",
    "sns.set()\n",
    "sns.set_context('talk')\n",
    "np.set_printoptions(threshold=20, precision=2, suppress=True)\n",
    "pd.set_option('display.max_rows', 7)\n",
    "pd.set_option('display.max_columns', 8)\n",
    "pd.set_option('precision', 2)\n",
    "# This option stops scientific notation for pandas\n",
    "# pd.set_option('display.float_format', '{:.2f}'.format)\n",
    "\n",
    "def display_df(df, rows=pd.options.display.max_rows,\n",
    "               cols=pd.options.display.max_columns):\n",
    "    with pd.option_context('display.max_rows', rows,\n",
    "                           'display.max_columns', cols):\n",
    "        display(df)"
   ],
   "outputs": [],
   "metadata": {
    "tags": [
     "remove-cell"
    ]
   }
  },
  {
   "cell_type": "markdown",
   "source": [
    "# Working with Dataframes using pandas"
   ],
   "metadata": {}
  },
  {
   "cell_type": "markdown",
   "source": [
    "Every data scientist needs to work with data stored as a table. In Python, we\n",
    "work with data tables using a special data structure called a *dataframe*.\n",
    "Here's an example:\n"
   ],
   "metadata": {}
  },
  {
   "cell_type": "markdown",
   "source": [
    "```{image} figures/intro_df.png\n",
    ":alt: dataframe\n",
    ":align: center\n",
    "```"
   ],
   "metadata": {}
  },
  {
   "cell_type": "markdown",
   "source": [
    "The defining trait of a dataframe is that both rows and columns have labels\n",
    "that we use to select data. For example, we can get column of data under the\n",
    "`Motto` label. We can also get the row of data under the `Alabama` label.\n",
    "Having labels for both rows and columns is very convenient for working with\n",
    "data, as we will see in this chapter."
   ],
   "metadata": {}
  },
  {
   "cell_type": "markdown",
   "source": [
    "Data scientists use the `pandas` library when working with dataframes in\n",
    "Python. This chapter explains how to use `pandas`. First, we'll explain the\n",
    "main objects that `pandas` provides: the `DataFrame` and `Series` classes.\n",
    "Then, we'll show you how to use `pandas` to perform common data manipulation\n",
    "tasks, like slicing, filtering, sorting, grouping, and joining. We won't go\n",
    "over every single `pandas` function---there are too many! Instead, we'll give\n",
    "you enough to start working with real datasets. With those skills, you'll know\n",
    "enough to read and understand the `pandas` documentation yourself."
   ],
   "metadata": {}
  },
  {
   "cell_type": "markdown",
   "source": [
    "```{admonition} What's the difference between a matrix, relation, and dataframe?\n",
    "\n",
    "There are multiple ways to put data in a table. Here's a brief overview of the\n",
    "differences between three common data tables: the matrix, relation, and\n",
    "dataframe.\n",
    "\n",
    "A matrix stores numbers:\n",
    "\n",
    "$$\n",
    "\\begin{aligned}\n",
    "\\mathbf{X} = \\begin{bmatrix}\n",
    "1 & 0 \\\\\n",
    "0 & 4 \\\\\n",
    "0 & 0 \\\\\n",
    "\\end{bmatrix}\n",
    "\\end{aligned}\n",
    "$$\n",
    "\n",
    "Neither columns nor rows of a matrix have labels. Matrices are the basic object\n",
    "in linear algebra, a highly useful branch of math in machine learning. You'll\n",
    "see matrices later when we go over modeling.\n",
    "\n",
    "A relation is similar to a dataframe, but only has labels for columns, not\n",
    "rows:\n",
    "\n",
    "```{image} figures/intro_relation.png\n",
    ":alt: relation\n",
    ":align: center\n",
    "```\n",
    "\n",
    "Relations are the main data object for relational database systems, which we\n",
    "also cover in this book in the SQL chapter.\n",
    "\n",
    "This only covers the basic differences between matrices, relations, and\n",
    "dataframes. For a more thorough treatment, see Petersohn et al. 2020\n",
    "[^petersohnScalable2020].\n",
    "```"
   ],
   "metadata": {}
  },
  {
   "cell_type": "markdown",
   "source": [
    "[^petersohnScalable2020]: Petersohn, Devin, Stephen Macke, Doris Xin, William Ma, Doris Lee, Xiangxi Mo, Joseph E. Gonzalez, Joseph M. Hellerstein, Anthony D. Joseph, and Aditya Parameswaran. “Towards Scalable Dataframe Systems.” ArXiv Preprint ArXiv:2001.00888, 2020."
   ],
   "metadata": {}
  }
 ],
 "metadata": {
  "kernelspec": {
   "display_name": "Python 3",
   "language": "python",
   "name": "python3"
  },
  "language_info": {
   "name": "python",
   "version": "3.8.5",
   "mimetype": "text/x-python",
   "codemirror_mode": {
    "name": "ipython",
    "version": 3
   },
   "pygments_lexer": "ipython3",
   "nbconvert_exporter": "python",
   "file_extension": ".py"
  }
 },
 "nbformat": 4,
 "nbformat_minor": 4
}