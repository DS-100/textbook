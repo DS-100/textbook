{
 "cells": [
  {
   "cell_type": "code",
   "execution_count": 4,
   "source": [
    "# Reference: https://jupyterbook.org/interactive/hiding.html\n",
    "# Use {hide, remove}-{input, output, cell} tags to hiding content\n",
    "\n",
    "import numpy as np\n",
    "import matplotlib.pyplot as plt\n",
    "import pandas as pd\n",
    "import seaborn as sns\n",
    "%matplotlib inline\n",
    "import ipywidgets as widgets\n",
    "from ipywidgets import interact, interactive, fixed, interact_manual\n",
    "from IPython import display\n",
    "\n",
    "sns.set()\n",
    "sns.set_context('talk')\n",
    "np.set_printoptions(threshold=20, precision=2, suppress=True)\n",
    "pd.set_option('display.max_rows', 7)\n",
    "pd.set_option('display.max_columns', 8)\n",
    "pd.set_option('precision', 2)\n",
    "# This option stops scientific notation for pandas\n",
    "# pd.set_option('display.float_format', '{:.2f}'.format)\n",
    "\n",
    "def display_df(df, rows=pd.options.display.max_rows,\n",
    "               cols=pd.options.display.max_columns):\n",
    "    with pd.option_context('display.max_rows', rows,\n",
    "                           'display.max_columns', cols):\n",
    "        display(df)"
   ],
   "outputs": [],
   "metadata": {
    "tags": [
     "remove-cell"
    ]
   }
  },
  {
   "cell_type": "code",
   "execution_count": 29,
   "source": [
    "# Code to make small dogs table from all_dogs\n",
    "# (pd.read_csv('all_dogs.csv')\n",
    "#  .sort_values('popularity_all')\n",
    "#  .head(7)\n",
    "#  [['breed', 'grooming', 'food_cost', 'kids', 'size']]\n",
    "#  .to_csv('dogs.csv', index=False)\n",
    "# )"
   ],
   "outputs": [],
   "metadata": {
    "tags": [
     "remove-cell"
    ]
   }
  },
  {
   "cell_type": "code",
   "execution_count": 9,
   "source": [
    "dogs = pd.read_csv('dogs.csv', index_col='breed')"
   ],
   "outputs": [],
   "metadata": {
    "tags": [
     "remove-cell"
    ]
   }
  },
  {
   "cell_type": "markdown",
   "source": [
    "(ch:pandas)=\n",
    "# Working with Dataframes using pandas"
   ],
   "metadata": {}
  },
  {
   "cell_type": "markdown",
   "source": [
    "Every data scientist needs to work with data stored in a table. This chapter\n",
    "introduces *dataframes*, one of the most widely used tools to work with data\n",
    "tables. We'll also introduce `pandas`, the standard Python package for working\n",
    "with dataframes. Here's an example of a dataframe that holds information about\n",
    "popular dog breeds:"
   ],
   "metadata": {}
  },
  {
   "cell_type": "code",
   "execution_count": 10,
   "source": [
    "dogs"
   ],
   "outputs": [
    {
     "output_type": "execute_result",
     "data": {
      "text/plain": [
       "                   grooming  food_cost    kids    size\n",
       "breed                                                 \n",
       "Labrador Retriever   weekly      466.0    high  medium\n",
       "German Shepherd      weekly      466.0  medium   large\n",
       "Beagle                daily      324.0    high   small\n",
       "Golden Retriever     weekly      466.0    high  medium\n",
       "Yorkshire Terrier     daily      324.0     low   small\n",
       "Bulldog              weekly      466.0  medium  medium\n",
       "Boxer                weekly      466.0    high  medium"
      ],
      "text/html": [
       "<div>\n",
       "<style scoped>\n",
       "    .dataframe tbody tr th:only-of-type {\n",
       "        vertical-align: middle;\n",
       "    }\n",
       "\n",
       "    .dataframe tbody tr th {\n",
       "        vertical-align: top;\n",
       "    }\n",
       "\n",
       "    .dataframe thead th {\n",
       "        text-align: right;\n",
       "    }\n",
       "</style>\n",
       "<table border=\"1\" class=\"dataframe\">\n",
       "  <thead>\n",
       "    <tr style=\"text-align: right;\">\n",
       "      <th></th>\n",
       "      <th>grooming</th>\n",
       "      <th>food_cost</th>\n",
       "      <th>kids</th>\n",
       "      <th>size</th>\n",
       "    </tr>\n",
       "    <tr>\n",
       "      <th>breed</th>\n",
       "      <th></th>\n",
       "      <th></th>\n",
       "      <th></th>\n",
       "      <th></th>\n",
       "    </tr>\n",
       "  </thead>\n",
       "  <tbody>\n",
       "    <tr>\n",
       "      <th>Labrador Retriever</th>\n",
       "      <td>weekly</td>\n",
       "      <td>466.0</td>\n",
       "      <td>high</td>\n",
       "      <td>medium</td>\n",
       "    </tr>\n",
       "    <tr>\n",
       "      <th>German Shepherd</th>\n",
       "      <td>weekly</td>\n",
       "      <td>466.0</td>\n",
       "      <td>medium</td>\n",
       "      <td>large</td>\n",
       "    </tr>\n",
       "    <tr>\n",
       "      <th>Beagle</th>\n",
       "      <td>daily</td>\n",
       "      <td>324.0</td>\n",
       "      <td>high</td>\n",
       "      <td>small</td>\n",
       "    </tr>\n",
       "    <tr>\n",
       "      <th>Golden Retriever</th>\n",
       "      <td>weekly</td>\n",
       "      <td>466.0</td>\n",
       "      <td>high</td>\n",
       "      <td>medium</td>\n",
       "    </tr>\n",
       "    <tr>\n",
       "      <th>Yorkshire Terrier</th>\n",
       "      <td>daily</td>\n",
       "      <td>324.0</td>\n",
       "      <td>low</td>\n",
       "      <td>small</td>\n",
       "    </tr>\n",
       "    <tr>\n",
       "      <th>Bulldog</th>\n",
       "      <td>weekly</td>\n",
       "      <td>466.0</td>\n",
       "      <td>medium</td>\n",
       "      <td>medium</td>\n",
       "    </tr>\n",
       "    <tr>\n",
       "      <th>Boxer</th>\n",
       "      <td>weekly</td>\n",
       "      <td>466.0</td>\n",
       "      <td>high</td>\n",
       "      <td>medium</td>\n",
       "    </tr>\n",
       "  </tbody>\n",
       "</table>\n",
       "</div>"
      ]
     },
     "metadata": {},
     "execution_count": 10
    }
   ],
   "metadata": {
    "tags": [
     "remove-input"
    ]
   }
  },
  {
   "cell_type": "markdown",
   "source": [
    "Dataframes have labels for both columns and rows. For instance, this dataframe\n",
    "has a column labeled `grooming` and a row labeled `German Shepherd`.\n",
    "\n",
    "Notice that each row of this dataframe represents a single record---in this\n",
    "case, a single dog breed. Each column of the dataframe represents a feature\n",
    "about the record---for example, the `grooming` column represents how often each\n",
    "dog breed needs to be groomed.\n",
    "\n",
    "Notice also that within a column, the data types are the same. For instance,\n",
    "the `food_cost` column only stores numbers, and the `size` column only stores\n",
    "categories. But data types can be different within a row.\n",
    "\n",
    "When these conditions are met, you can do all sorts of useful operations on\n",
    "dataframes.\n"
   ],
   "metadata": {}
  },
  {
   "cell_type": "markdown",
   "source": [
    ":::{note}\n",
    "\n",
    "As a data scientist, you'll often find yourself working with people from\n",
    "different backgrounds who use different terms. For instance, computer\n",
    "scientists say that the columns of the dataframe above represent *features* of\n",
    "the data, while statisticians would call them *variables* instead.\n",
    "\n",
    "Other times, people will use the same term to refer to slightly different\n",
    "things. *Data types* in a programming sense refers to how a computer stores\n",
    "data internally. For instance, the `size` column has a string data type in\n",
    "Python. But from a statistical point of view, the `size` column stores ordered\n",
    "categorical data (ordinal data). We talk more about this specific distinction \n",
    "in the {ref}`ch:eda` chapter.\n",
    "\n",
    ":::"
   ],
   "metadata": {}
  },
  {
   "cell_type": "markdown",
   "source": [
    "In this chapter, we'll show you how to do common dataframe operations using\n",
    "`pandas`. Data scientists use the `pandas` library when working with dataframes\n",
    "in Python. This chapter explains how to use `pandas`. First, we'll explain the\n",
    "main objects that `pandas` provides: the `DataFrame` and `Series` classes.\n",
    "Then, we'll show you how to use `pandas` to perform common data manipulation\n",
    "tasks, like slicing, filtering, sorting, grouping, and joining."
   ],
   "metadata": {}
  },
  {
   "cell_type": "markdown",
   "source": [
    ":::{admonition} What's the difference between a matrix, relation, and dataframe?\n",
    "\n",
    "There are multiple ways to put data in a table. Here's a brief overview of the\n",
    "differences between three common data tables: the matrix, relation, and\n",
    "dataframe.\n",
    "\n",
    "A matrix stores numbers:\n",
    "\n",
    "$$\n",
    "\\begin{aligned}\n",
    "\\mathbf{X} = \\begin{bmatrix}\n",
    "1 & 0 \\\\\n",
    "0 & 4 \\\\\n",
    "0 & 0 \\\\\n",
    "\\end{bmatrix}\n",
    "\\end{aligned}\n",
    "$$\n",
    "\n",
    "Neither columns nor rows of a matrix have labels. Matrices are the basic object\n",
    "in linear algebra, a highly useful branch of math in machine learning. You'll\n",
    "see matrices later when we go over modeling.\n",
    "\n",
    "A relation is similar to a dataframe, but only has labels for columns, not\n",
    "rows:\n",
    "\n",
    "```{image} figures/intro_relation.png\n",
    ":alt: relation\n",
    ":align: center\n",
    "```\n",
    "\n",
    "Relations are the main data object for relational database systems, which we\n",
    "also cover in this book in the {ref}`ch:sql` chapter.\n",
    "\n",
    "This only covers the basic differences between matrices, relations, and\n",
    "dataframes. For a more thorough treatment, see {cite}`petersohnScalable2020`.\n",
    ":::"
   ],
   "metadata": {}
  }
 ],
 "metadata": {
  "interpreter": {
   "hash": "301397dfac98ba5645188aec337edeb5e3836fad86b22b9be8631e97bb683640"
  },
  "kernelspec": {
   "display_name": "Python 3",
   "language": "python",
   "name": "python3"
  },
  "language_info": {
   "codemirror_mode": {
    "name": "ipython",
    "version": 3
   },
   "file_extension": ".py",
   "mimetype": "text/x-python",
   "name": "python",
   "nbconvert_exporter": "python",
   "pygments_lexer": "ipython3",
   "version": "3.9.4"
  }
 },
 "nbformat": 4,
 "nbformat_minor": 4
}