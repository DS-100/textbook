{
 "cells": [
  {
   "cell_type": "code",
   "execution_count": 1,
   "metadata": {
    "tags": [
     "remove-cell"
    ]
   },
   "outputs": [],
   "source": [
    "# Reference: https://jupyterbook.org/interactive/hiding.html\n",
    "# Use {hide, remove}-{input, output, cell} tags to hiding content\n",
    "\n",
    "import numpy as np\n",
    "import matplotlib.pyplot as plt\n",
    "import pandas as pd\n",
    "import seaborn as sns\n",
    "%matplotlib inline\n",
    "import ipywidgets as widgets\n",
    "from ipywidgets import interact, interactive, fixed, interact_manual\n",
    "from IPython.display import display\n",
    "\n",
    "sns.set()\n",
    "sns.set_context('talk')\n",
    "np.set_printoptions(threshold=20, precision=2, suppress=True)\n",
    "pd.set_option('display.max_rows', 7)\n",
    "pd.set_option('display.max_columns', 8)\n",
    "pd.set_option('precision', 2)\n",
    "# This option stops scientific notation for pandas\n",
    "# pd.set_option('display.float_format', '{:.2f}'.format)\n",
    "\n",
    "def display_df(df, rows=pd.options.display.max_rows,\n",
    "               cols=pd.options.display.max_columns):\n",
    "    with pd.option_context('display.max_rows', rows,\n",
    "                           'display.max_columns', cols):\n",
    "        display(df)"
   ]
  },
  {
   "cell_type": "markdown",
   "metadata": {},
   "source": [
    "# Random Assignment\n",
    "\n",
    "In controlled experiments, we want to assign the participating individuals to one of two (or more) groups. In a drug trial, volunteers for the trial would either receive the new treatment or a placebo (a fake treatment). In an A/B test of a new feature on a Web site, visitors to the site would either see the new feature or the usual Web page.  In both examples, we control the assignment to groups, and in a *randomized* controlled experiment, we use a chance process to make the assignment.  \n",
    "\n",
    "In drug trials, the scientists often use a simple random sample to select the units for the treatment, and those not selected receive the placebo. With A/B testing, we often use systematic sampling, where, for example, every other visitor to the page is shown the new feature (see the exercises to learn more about systematic sampling). \n"
   ]
  },
  {
   "cell_type": "markdown",
   "metadata": {},
   "source": [
    "\n",
    "We explore the SRS approach to random assignment with a small group of just $6$ individuals, labeled  $A - F.$ We enumerate all the possible treatment  groups that can be formed by a SRS of size $3$ from this population:\n",
    "\n",
    "$$ABC ~~ ABD ~~ ABE ~~ ABF \\\\ ACD ~~ACE ~~ ACF ~~ ADE \\\\ ADF ~~ AEF ~~ BCD ~~ BCE \\\\ BCF ~~ BDE ~~ BDF ~~ BEF \\\\ CDE ~~ CDF ~~ CEF ~~ DEF $$\n",
    "\n",
    "Each sample represents a possible treatment group, and its complement the control group, e.g., the first sample has $ABC$ in the treatment group, and $DEF$  in the control group. As we saw in Section {numref}`sec:samplingVariation`, we can use the chance mechanism to work with probabilities of particular subsets and apply these to the outcome of an experiment. The next section provides an example.\n"
   ]
  },
  {
   "cell_type": "markdown",
   "metadata": {},
   "source": [
    "## Example: Efficacy of COVID-19 Vaccines\n",
    "\n",
    "Detroit Mayor Mike Duggan made national news in March 2021 when he turned down a shipment of over 6,000 Johnson & Johnson vaccine doses stating that the citiziens of his city should \"get the best\". The mayor was refering to the efficacy rate of the vaccine, which was reported to be about 66%. In comparison, Moderna and Pfizer both reported efficacy rates of about 95% for their vaccines. \n",
    "\n",
    "Duggan's reasoning seems valid, but the scope of the three clinical trials are not comparable, meaning direct comparisons of the experiments is problematic {cite}`irfan2020`. Moreover, the Centers for Disease Control (CDC) considers a 66% efficicay rate quite good, which is why it was given emergency approval {cite}`cdc2021`.\n",
    "\n",
    "We consider each of these points in turn, beginning with scope and then efficacy.\n"
   ]
  },
  {
   "cell_type": "markdown",
   "metadata": {},
   "source": [
    "### Scope\n",
    "\n",
    "Recall that when we evaluate the scope of the data, we consider who, when, and where the study took place. For the Johnson & Johnson clinical trial, participants: \n",
    "\n",
    "+ included adults 18 and over, where roughly 40% had conditions, called comorbidities, associated with an increased risk for getting severe COVID-19;\n",
    "+ enrolled in the study from October to November, 2020;\n",
    "+ were from 8 countries across 3 continents, including the US and South Africa.\n",
    "\n",
    "The participants in the Moderna and Pfizer trials were primarily from the US, roughly 40% had comorbidities for severe COVID-19, and the trial took place earlier, over summer 2021. \n",
    "The timing and location of the trials make them difficult to compare.\n",
    "Cases of COVID-19 were at a low point in the summer in the US, but they shot up in the late fall.\n",
    "Also, a variant of the virus that is more contagious was spreading rapidly in South Africa at the time of the J&J trial. \n"
   ]
  },
  {
   "cell_type": "markdown",
   "metadata": {},
   "source": [
    "\n",
    "Each clinical trial was designed to test a vaccine against no vaccine under similar circumstances. \n",
    "This is accomplished through random assignment of subjects to treatment and control groups. \n",
    "While the scope from one trial to the next are quite different, \n",
    "the randomization within a trial keeps the scope of the treatment and control groups roughly the same, which enables meaningful comparisons between groups in the same trial. \n",
    "\n",
    "The scope was different enough across the three vaccine trials to make direct comparisons problematic. \n",
    "Next, we consider what the vaccine's efficacy rate means.\n"
   ]
  },
  {
   "cell_type": "markdown",
   "metadata": {},
   "source": [
    "### Design\n",
    "\n",
    "Johnson & Johnson enrolled 43,738 people in their trial {cite}`janssen2021`.\n",
    "These participants were split into two groups at random.\n",
    "Half received the new vaccine, and the other half received a placebo, such as a saline solution.\n",
    "Then, everyone was followed for 28 days to see whether they contracted COVID-19.\n",
    "\n",
    "A lot of information was recorded on each patient, such as their age, race, and sex, and in addition,\n",
    "whether they caught COVID, including the severity of the disease. At the end of 28 days, they found 468 cases of COVID-19, 117 of these were in the treatment group, and 351 in the control group.\n"
   ]
  },
  {
   "cell_type": "markdown",
   "metadata": {},
   "source": [
    "\n",
    "\n",
    "The random assignment to treatment and control, gives the scientists a framework to assess the effectiveness of the vaccine. \n",
    "The typical reasoning goes as follows:\n",
    "\n",
    "+ Begin with the assumption that the vaccine is ineffective\n",
    "+ so the 468 who caught COVID-19 would have caught it whether or not they received the vaccine\n",
    "+ and, the remaining 43,270 people in the trial who did not get sick would have remained healthy whether or not they received the vaccine.\n",
    "+ The split of 117 sick people in treatment and 351 in control was just do to the chance process in assigning participants to treatment or control.\n",
    "\n",
    "We can set up an urn model to reflect this scenario.\n"
   ]
  },
  {
   "cell_type": "markdown",
   "metadata": {},
   "source": [
    "### The Urn Model\n",
    "\n",
    "Our urn has 43,738 marbles, one for each person in the clinical trial.\n",
    "Since there were 468 cases among them,\n",
    "we label 468 marbles with a 1 and the remaining 43,270 with 0. \n",
    "We draw half the marbles (21,869) from the urn to receive the treatment, and\n",
    "the half remaining in the urn receive the placebo. \n",
    "\n",
    "The results of the experiment are simply the count of the number of marbles marked 1 that were randomly drawn from the urn. \n",
    "\n",
    "We can simulate this process to get a sense of how likely it would be under these assumptios to draw only 117 marbles marked 1 from the urn. Since we draw half of the marbles from the urn, we would expect about half of the 468, or 234, to be drawn. The simulation study gives us a sense of the variation that might result from the random assignment process. That is, we can approximate the chance that there would be 117 or fewer cases of the virus in the treatment group. This calculation is based on the above assumptions, namely that the vaccine has no impact.\n"
   ]
  },
  {
   "cell_type": "markdown",
   "metadata": {},
   "source": [
    "\n",
    "### Simulation study\n",
    "\n",
    "We saw earlier that we can generate random outcomes according to the hypergeometric probability distribution, rather than having to program the urn sampling from scratch.   \n"
   ]
  },
  {
   "cell_type": "code",
   "execution_count": 2,
   "metadata": {},
   "outputs": [],
   "source": [
    "simulations_fast = np.random.hypergeometric(ngood=468, nbad=43270, nsample=21869, size=500000)"
   ]
  },
  {
   "cell_type": "code",
   "execution_count": 3,
   "metadata": {},
   "outputs": [
    {
     "data": {
      "text/plain": [
       "234.010756"
      ]
     },
     "execution_count": 3,
     "metadata": {},
     "output_type": "execute_result"
    }
   ],
   "source": [
    "np.mean(simulations_fast)"
   ]
  },
  {
   "cell_type": "code",
   "execution_count": 4,
   "metadata": {},
   "outputs": [
    {
     "data": {
      "text/plain": [
       "Text(0.5, 0, 'Count of Cases in the Treatment Group')"
      ]
     },
     "execution_count": 4,
     "metadata": {},
     "output_type": "execute_result"
    },
    {
     "data": {
      "image/png": "[encoded data removed]",
      "text/plain": [
       "<Figure size 432x288 with 1 Axes>"
      ]
     },
     "metadata": {
      "needs_background": "light"
     },
     "output_type": "display_data"
    }
   ],
   "source": [
    "\n",
    "plt.hist(simulations_fast, bins=30)\n",
    "#plt.axvline(0.57, color='red', linestyle='dashed', linewidth=2)\n",
    "plt.title('Approximate Sampling Distribution')\n",
    "plt.ylabel('# of Simulations')\n",
    "plt.xlabel('Count of Cases in the Treatment Group')"
   ]
  },
  {
   "cell_type": "markdown",
   "metadata": {},
   "source": [
    "In our simulation, we repeated the process of random assignment to the treatment group 500,000 times.\n",
    "Indeed, we found that on average there were 234 cases of disease in the treatment group.\n",
    "The histogram of outcomes shows that not one of the 500,000 simulations had as few as 117 cases or fewer.\n",
    "It would be an extremely rare event to see so few cases of COVID-19, if in fact the vaccine was not effective. "
   ]
  },
  {
   "cell_type": "code",
   "execution_count": 5,
   "metadata": {},
   "outputs": [
    {
     "data": {
      "text/plain": [
       "10.761876430644612"
      ]
     },
     "execution_count": 5,
     "metadata": {},
     "output_type": "execute_result"
    }
   ],
   "source": [
    "np.std(simulations_fast)"
   ]
  },
  {
   "cell_type": "markdown",
   "metadata": {},
   "source": [
    "### Vaccine Efficacy\n",
    "\n",
    "Vaccine Efficacy (VE) is measured by comparing the risk of disease among vaccinated and unvaccinated persons: \n",
    "\n",
    "$$ \\frac{\\textrm{Risk among unvaccinated group} − \\textrm{Risk among vaccinated group}}\n",
    " {\\textrm{Risk among unvaccinated group}},$$ \n",
    " \n",
    "where, e.g., the risk among unvaccinated is the proportion of unvaccinated who contracted COVID. \n",
    "\n",
    "Since the two groups had the same number in each, we can compute the efficacy as:"
   ]
  },
  {
   "cell_type": "code",
   "execution_count": 6,
   "metadata": {},
   "outputs": [
    {
     "data": {
      "text/plain": [
       "0.6666666666666666"
      ]
     },
     "execution_count": 6,
     "metadata": {},
     "output_type": "execute_result"
    }
   ],
   "source": [
    "(351 - 117) / 351"
   ]
  },
  {
   "cell_type": "markdown",
   "metadata": {},
   "source": [
    "The Centers for Disease Control sets a standard for VE of 50% when deciding whether to adopt a new vaccine. This would be equivalent to how many cases in the treatment group?"
   ]
  },
  {
   "cell_type": "code",
   "execution_count": 7,
   "metadata": {},
   "outputs": [
    {
     "data": {
      "text/plain": [
       "156.0"
      ]
     },
     "execution_count": 7,
     "metadata": {},
     "output_type": "execute_result"
    }
   ],
   "source": [
    "468/3"
   ]
  },
  {
   "cell_type": "markdown",
   "metadata": {},
   "source": [
    "We can see from the histogram that none of the simulations yielded as few or fewer than 156 cases in the treatment group. Furthermore, when it came to preventing severe cases of Covid, the J&J vaccine was over 80% effective, and no deaths were observed in the treatment group. \n",
    "\n",
    "The Johnson & Johnson vaccine received emergency approval in spring 2021, and expects to receive full approval by the FDA in fall 2021. \n",
    "The Mayor of Detroit retracted his original statement, saying \n",
    "“I have full confidence that the Johnson & Johnson vaccine is both safe and effective.” "
   ]
  }
 ],
 "metadata": {
  "celltoolbar": "Tags",
  "kernelspec": {
   "display_name": "Python 3",
   "language": "python",
   "name": "python3"
  },
  "language_info": {
   "codemirror_mode": {
    "name": "ipython",
    "version": 3
   },
   "file_extension": ".py",
   "mimetype": "text/x-python",
   "name": "python",
   "nbconvert_exporter": "python",
   "pygments_lexer": "ipython3",
   "version": "3.8.5"
  }
 },
 "nbformat": 4,
 "nbformat_minor": 2
}
