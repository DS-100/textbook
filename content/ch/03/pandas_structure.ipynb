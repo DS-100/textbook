{
 "cells": [
  {
   "cell_type": "code",
   "execution_count": 1,
   "metadata": {
    "tags": [
     "hide_input"
    ]
   },
   "outputs": [],
   "source": [
    "# HIDDEN\n",
    "import warnings\n",
    "# Ignore numpy dtype warnings. These warnings are caused by an interaction\n",
    "# between numpy and Cython and can be safely ignored.\n",
    "# Reference: https://stackoverflow.com/a/40846742\n",
    "warnings.filterwarnings(\"ignore\", message=\"numpy.dtype size changed\")\n",
    "warnings.filterwarnings(\"ignore\", message=\"numpy.ufunc size changed\")\n",
    "\n",
    "import numpy as np\n",
    "import matplotlib.pyplot as plt\n",
    "import pandas as pd\n",
    "import seaborn as sns\n",
    "%matplotlib inline\n",
    "import ipywidgets as widgets\n",
    "from ipywidgets import interact, interactive, fixed, interact_manual\n",
    "import nbinteract as nbi\n",
    "\n",
    "sns.set()\n",
    "sns.set_context('talk')\n",
    "np.set_printoptions(threshold=20, precision=2, suppress=True)\n",
    "pd.options.display.max_rows = 7\n",
    "pd.options.display.max_columns = 8\n",
    "pd.set_option('precision', 2)\n",
    "# This option stops scientific notation for pandas\n",
    "# pd.set_option('display.float_format', '{:.2f}'.format)"
   ]
  },
  {
   "cell_type": "markdown",
   "metadata": {},
   "source": [
    "## Structure\n",
    "\n",
    "A dataset's **structure** is a mental representation of our data. For example, we represent data that has a **tabular** structure by arranging data values in rows and columns. In contrast, we represent data that have a **hierarchical** structure, such as a family tree, are represented by allowing a data value to contain other values. Although there are many types of structures that can represent data, giving exhaustive coverage of these structures would likely produce enough content for a few more textbooks. Instead, in this book we will almost always work with data that have a tabular structure."
   ]
  },
  {
   "cell_type": "markdown",
   "metadata": {},
   "source": [
    "A dataset's **file format**, on the other hand, describes how the data files are stored on the computer. For example, a comma-separated values (CSV) file contains data values separated using the comma character (`,`), whereas a plain text file can contain an arbitrary sequences of characters, like the contents of a novel. The format of a data file often describes a structure for the data — a CSV file typically stores data that have a tabular structure. We eventually introduce the following file formats in this book:\n",
    "\n",
    "- Comma-Separated Values (CSV) and Tab-Separated Values (TSV). These files typically contain data with tabular structure. In these files, each row represents a record; data values are delimited by a comma character (`,`) for CSV or a tab character (`\\t`) for TSV. The first line of these files usually contains the names of the data's columns.\n",
    "- JavaScript Object Format (JSON) is a common data format used for communication by web servers. JSON files have a hierarchical structure with keys and values similar to a Python dictionary.\n",
    "- eXtensible Markup Language (XML) and HyperText Markup Language (HTML) are common data formats for storing documents on the Internet. Like JSON, these files also contain data in a hierarchical, key-value format."
   ]
  },
  {
   "cell_type": "markdown",
   "metadata": {},
   "source": [
    "There are a wealth of tools for working with data stored in various formats. In this book, however, we will almost always manipulate data so that we can represent them using a table. Why restrict ourselves in this way? First, much research has studied how to best store and manipulate data tables. This has resulted in stable and efficient tools for working with tables. Second, data in a tabular format are close cousins of matrices, the mathematical objects of the immensely rich field of linear algebra. Finally, data tables are very common."
   ]
  },
  {
   "cell_type": "markdown",
   "metadata": {},
   "source": [
    "Many data files use a format that commonly stores data with a tabular structure, such as the CSV and TSV format. We can use the `pd.read_csv` method to quickly read these files into memory as tables. Other file formats require different tools to manipulate in Python, so we often want to verify the format of a file before data manipulation."
   ]
  },
  {
   "cell_type": "markdown",
   "metadata": {},
   "source": [
    "### The Shell and Command-line Tools"
   ]
  },
  {
   "cell_type": "markdown",
   "metadata": {},
   "source": [
    "Nearly all computers provide access to a **shell interpreter**, such as `sh` or `bash`. Like the Python interpreter, shell interpreters allow users to run code and view its output. Unlike the Python interpreter, shell interpreters typically perform operations on the computer and its files. Shell interpreters have their own language, syntax, and built-in commands.\n",
    "\n",
    "We use the term **command-line interface (CLI) tools** to refer to the commands available in the shell interpreter. Although we only cover a few useful CLI tools in this section, there are a variety of CLI tools that enable all sorts of useful operations on the computer.\n",
    "\n",
    "**Note:** all CLI tools we cover in this book are specific to the `sh` shell interpreter, the default interpreter for Jupyter installations on MacOS and Linux systems at the time of writing. Notebooks launched on Data 100's JupyterHub will also use the `sh` shell interpreter. Windows systems have a different interpreter and the commands shown in the book may not run on Windows, although Windows gives access to a `sh` interpreter through its Linux Subsystem.\n",
    "\n",
    "Commonly, we open a terminal program to start a shell interpreter. Jupyter notebooks, however, provide a convenience: if a line of code is prefixed with the `!` character, the line will go directly to the system's shell interpreter. For example, the `ls` command lists the files in the current directory."
   ]
  },
  {
   "cell_type": "code",
   "execution_count": 3,
   "metadata": {},
   "outputs": [
    {
     "name": "stdout",
     "output_type": "stream",
     "text": [
      "babynames.csv                       pandas_indexes.ipynb\r\n",
      "\u001b[34mothers\u001b[m\u001b[m                              pandas_intro.ipynb\r\n",
      "pandas_apply_strings_plotting.ipynb pandas_structure.ipynb\r\n",
      "pandas_grouping_pivoting.ipynb\r\n"
     ]
    }
   ],
   "source": [
    "!ls"
   ]
  },
  {
   "cell_type": "markdown",
   "metadata": {},
   "source": [
    "In the line above, Jupyter runs the `ls` command through the `sh` shell interpreter and displays the results of the command in the notebook.\n",
    "\n",
    "CLI tools like `ls` often take in an **argument**, similar to how Python functions take in arguments. In `sh`, however, we wrap arguments with spaces, not parentheses. Calling `ls` with a folder as an argument shows all the files in the folder."
   ]
  },
  {
   "cell_type": "code",
   "execution_count": 5,
   "metadata": {},
   "outputs": [
    {
     "name": "stdout",
     "output_type": "stream",
     "text": [
      "babies.data\r\n"
     ]
    }
   ],
   "source": [
    "!ls others"
   ]
  },
  {
   "cell_type": "markdown",
   "metadata": {},
   "source": [
    "Once we locate a file of interest, we use other command-line tools to check structure. The `head` command displays the first few lines of a file and is very useful for peeking at a file's contents."
   ]
  },
  {
   "cell_type": "code",
   "execution_count": 6,
   "metadata": {},
   "outputs": [
    {
     "name": "stdout",
     "output_type": "stream",
     "text": [
      "bwt gestation parity age height weight smoke\r\n",
      "120 284   0  27  62 100   0\r\n",
      "113 282   0  33  64 135   0\r\n",
      "128 279   0  28  64 115   1\r\n",
      "123 999   0  36  69 190   0\r\n",
      "108 282   0  23  67 125   1\r\n",
      "136 286   0  25  62  93   0\r\n",
      "138 244   0  33  62 178   0\r\n",
      "132 245   0  23  65 140   0\r\n",
      "120 289   0  25  62 125   0\r\n"
     ]
    }
   ],
   "source": [
    "!head others/babies.data"
   ]
  },
  {
   "cell_type": "markdown",
   "metadata": {},
   "source": [
    "By default, `head` displays the first 10 lines of a file. To display the last 10 lines, we use the `tail` command."
   ]
  },
  {
   "cell_type": "code",
   "execution_count": 7,
   "metadata": {},
   "outputs": [
    {
     "name": "stdout",
     "output_type": "stream",
     "text": [
      "103 278   0  30  60  87   1\r\n",
      "118 276   0  34  64 116   0\r\n",
      "127 290   0  27  65 121   0\r\n",
      "132 270   0  27  65 126   0\r\n",
      "113 275   1  27  60 100   0\r\n",
      "128 265   0  24  67 120   0\r\n",
      "130 291   0  30  65 150   1\r\n",
      "125 281   1  21  65 110   0\r\n",
      "117 297   0  38  65 129   0\r\n",
      "\r\n"
     ]
    }
   ],
   "source": [
    "!tail others/babies.data"
   ]
  },
  {
   "cell_type": "markdown",
   "metadata": {},
   "source": [
    "We can print the entire file's contents using the `cat` command. Take care when using this command, however, as printing a large file can cause the browser to crash."
   ]
  },
  {
   "cell_type": "code",
   "execution_count": 8,
   "metadata": {},
   "outputs": [
    {
     "name": "stdout",
     "output_type": "stream",
     "text": [
      "\"city\",\"zip\",\"street\"\r\n",
      "\"Alameda\",\"94501\",\"1220 Broadway\"\r\n",
      "\"Alameda\",\"94501\",\"429 Fair Haven Road\"\r\n",
      "\"Alameda\",\"94501\",\"2804 Fernside Boulevard\"\r\n",
      "\"Alameda\",\"94501\",\"1316 Grove Street\""
     ]
    }
   ],
   "source": [
    "# This file is small, so using cat is safe.\n",
    "!cat others/text.txt"
   ]
  },
  {
   "cell_type": "markdown",
   "metadata": {},
   "source": [
    "In many cases, using `head` and `tail` alone gives us a sense of the file structure. For example, we can see that the `babynames.csv` file uses the CSV file format."
   ]
  },
  {
   "cell_type": "code",
   "execution_count": 10,
   "metadata": {},
   "outputs": [
    {
     "name": "stdout",
     "output_type": "stream",
     "text": [
      "Name,Sex,Count,Year\r\n",
      "Mary,F,9217,1884\r\n",
      "Anna,F,3860,1884\r\n",
      "Emma,F,2587,1884\r\n",
      "Elizabeth,F,2549,1884\r\n",
      "Minnie,F,2243,1884\r\n",
      "Margaret,F,2142,1884\r\n",
      "Ida,F,1882,1884\r\n",
      "Clara,F,1852,1884\r\n",
      "Bertha,F,1789,1884\r\n"
     ]
    }
   ],
   "source": [
    "!head babynames.csv"
   ]
  },
  {
   "cell_type": "markdown",
   "metadata": {},
   "source": [
    "We can easily read in CSV files using `pandas` using the `pd.read_csv` command."
   ]
  },
  {
   "cell_type": "code",
   "execution_count": 12,
   "metadata": {
    "scrolled": true
   },
   "outputs": [
    {
     "data": {
      "text/html": [
       "<div>\n",
       "<style scoped>\n",
       "    .dataframe tbody tr th:only-of-type {\n",
       "        vertical-align: middle;\n",
       "    }\n",
       "\n",
       "    .dataframe tbody tr th {\n",
       "        vertical-align: top;\n",
       "    }\n",
       "\n",
       "    .dataframe thead th {\n",
       "        text-align: right;\n",
       "    }\n",
       "</style>\n",
       "<table border=\"1\" class=\"dataframe\">\n",
       "  <thead>\n",
       "    <tr style=\"text-align: right;\">\n",
       "      <th></th>\n",
       "      <th>Name</th>\n",
       "      <th>Sex</th>\n",
       "      <th>Count</th>\n",
       "      <th>Year</th>\n",
       "    </tr>\n",
       "  </thead>\n",
       "  <tbody>\n",
       "    <tr>\n",
       "      <th>0</th>\n",
       "      <td>Mary</td>\n",
       "      <td>F</td>\n",
       "      <td>9217</td>\n",
       "      <td>1884</td>\n",
       "    </tr>\n",
       "    <tr>\n",
       "      <th>1</th>\n",
       "      <td>Anna</td>\n",
       "      <td>F</td>\n",
       "      <td>3860</td>\n",
       "      <td>1884</td>\n",
       "    </tr>\n",
       "    <tr>\n",
       "      <th>2</th>\n",
       "      <td>Emma</td>\n",
       "      <td>F</td>\n",
       "      <td>2587</td>\n",
       "      <td>1884</td>\n",
       "    </tr>\n",
       "    <tr>\n",
       "      <th>...</th>\n",
       "      <td>...</td>\n",
       "      <td>...</td>\n",
       "      <td>...</td>\n",
       "      <td>...</td>\n",
       "    </tr>\n",
       "    <tr>\n",
       "      <th>1891891</th>\n",
       "      <td>Verna</td>\n",
       "      <td>M</td>\n",
       "      <td>5</td>\n",
       "      <td>1883</td>\n",
       "    </tr>\n",
       "    <tr>\n",
       "      <th>1891892</th>\n",
       "      <td>Winnie</td>\n",
       "      <td>M</td>\n",
       "      <td>5</td>\n",
       "      <td>1883</td>\n",
       "    </tr>\n",
       "    <tr>\n",
       "      <th>1891893</th>\n",
       "      <td>Winthrop</td>\n",
       "      <td>M</td>\n",
       "      <td>5</td>\n",
       "      <td>1883</td>\n",
       "    </tr>\n",
       "  </tbody>\n",
       "</table>\n",
       "<p>1891894 rows × 4 columns</p>\n",
       "</div>"
      ],
      "text/plain": [
       "             Name Sex  Count  Year\n",
       "0            Mary   F   9217  1884\n",
       "1            Anna   F   3860  1884\n",
       "2            Emma   F   2587  1884\n",
       "...           ...  ..    ...   ...\n",
       "1891891     Verna   M      5  1883\n",
       "1891892    Winnie   M      5  1883\n",
       "1891893  Winthrop   M      5  1883\n",
       "\n",
       "[1891894 rows x 4 columns]"
      ]
     },
     "execution_count": 12,
     "metadata": {},
     "output_type": "execute_result"
    }
   ],
   "source": [
    "# pd is a common alias for pandas. We will always use the pd alias in this book\n",
    "import pandas as pd\n",
    "\n",
    "pd.read_csv('babynames.csv')"
   ]
  },
  {
   "cell_type": "markdown",
   "metadata": {},
   "source": [
    "### Filesizes\n",
    "\n",
    "Notice that reading in the `babynames.csv` file results in a DataFrame with nearly two million rows. As of this writing, all computers have finite limits on computing power. You have likely encountered these limits firsthand if your computer has slowed down from having too many applications opened at once. We often want to make sure that we do not exceed the computer's limits while working with data."
   ]
  },
  {
   "cell_type": "markdown",
   "metadata": {},
   "source": [
    "In most situations, we begin data analysis with datasets downloaded from the Internet. These files reside on the computer's **disk storage**. In order to use Python to explore and manipulate the data, however, we need to read the data into the computer's **memory**, also known as random access memory (RAM). All Python code requires the use of RAM, no matter how short the code is.\n",
    "\n",
    "Unfortunately, a computer's RAM is typically much smaller than a computer's disk storage. For example, one computer model released in 2018 had 32 times more disk storage than RAM. This means that data files can often be much bigger than what is feasible to read into memory.\n",
    "\n",
    "Both disk storage and RAM capacity are measured in terms of **bytes**. Roughly speaking, each character in a text file adds one byte to the file's size. For example, a file containing the following text has 177 characters and thus takes up 177 bytes of disk space.\n",
    "\n",
    "    \"city\",\"zip\",\"street\"\n",
    "    \"Alameda\",\"94501\",\"1220 Broadway\"\n",
    "    \"Alameda\",\"94501\",\"429 Fair Haven Road\"\n",
    "    \"Alameda\",\"94501\",\"2804 Fernside Boulevard\"\n",
    "    \"Alameda\",\"94501\",\"1316 Grove Street\""
   ]
  },
  {
   "cell_type": "markdown",
   "metadata": {},
   "source": [
    "Of course, many of the datasets we work with today contain many characters. To succinctly describe the sizes of larger files, we use the following prefixes:\n",
    "\n",
    "| Multiple | Notation | Number of Bytes    |\n",
    "| -------- | -------- | ------------------ |\n",
    "| Kibibyte | KiB      | 1024 = $ 2^{10} $  |\n",
    "| Mebibyte | MiB      | 1024² = $ 2^{20} $ |\n",
    "| Gibibyte | GiB      | 1024³ = $ 2^{30} $ |\n",
    "| Tebibyte | TiB      | 1024⁴ = $ 2^{40} $ |\n",
    "| Pebibyte | PiB      | 1024⁵ = $ 2^{50} $ |\n",
    "\n",
    "For example, a file containing 52428800 characters takes up 52428800 bytes = 50 mebibytes = 50 MiB on disk.\n",
    "\n",
    "Why use multiples of 1024 instead of simple multiples of 1000 for these prefixes? This is a historical result of the fact that nearly all computers use a binary number scheme where powers of 2 are simpler to represent. You will also see the typical SI prefixes used to describe size — kilobytes, megabytes, and gigabytes, for example. Unfortunately, these prefixes are used inconsistently. Sometimes a kilobyte refers to 1000 bytes; other times, a kilobyte refers to 1024 bytes. To avoid confusion, we will stick to kibi-, mebi-, and gibibytes which clearly represent multiples of 1024."
   ]
  },
  {
   "cell_type": "markdown",
   "metadata": {},
   "source": [
    "**When Is It Safe To Read In a File?**\n",
    "\n",
    "Many computers have much more disk storage than available memory. It is not uncommon to have a data file happily stored on a computer that will overflow the computer's memory if we attempt to manipulate it with a program, including Python programs. In order to begin a data analysis, we often begin by making sure the files we will work with are of manageable size. To accomplish this, we use the command-line interface (CLI) tools `ls` and `du`.\n",
    "\n",
    "Recall that `ls` shows the files within a folder:"
   ]
  },
  {
   "cell_type": "code",
   "execution_count": 15,
   "metadata": {},
   "outputs": [
    {
     "name": "stdout",
     "output_type": "stream",
     "text": [
      "babies.data text.txt\r\n"
     ]
    }
   ],
   "source": [
    "!ls others"
   ]
  },
  {
   "cell_type": "markdown",
   "metadata": {},
   "source": [
    "Command-line tools like `ls` often support **flags** that provide additional options for the user. For example, adding the `-l` flag lists one file per line with additional metadata."
   ]
  },
  {
   "cell_type": "code",
   "execution_count": 16,
   "metadata": {},
   "outputs": [
    {
     "name": "stdout",
     "output_type": "stream",
     "text": [
      "total 80\r\n",
      "-rw-r--r--@ 1 sam  staff  34654 Dec 19 13:34 babies.data\r\n",
      "-rw-r--r--  1 sam  staff    177 Dec 19 13:37 text.txt\r\n"
     ]
    }
   ],
   "source": [
    "!ls -l others"
   ]
  },
  {
   "cell_type": "markdown",
   "metadata": {},
   "source": [
    "In particular, the fifth column of the listing shows the file size in bytes. For example, we can see that the `SFHousing.csv` file takes up `51696074` bytes on disk. To make the file sizes more readable, we can use the `-h` flag."
   ]
  },
  {
   "cell_type": "code",
   "execution_count": 17,
   "metadata": {},
   "outputs": [
    {
     "name": "stdout",
     "output_type": "stream",
     "text": [
      "total 80\r\n",
      "-rw-r--r--@ 1 sam  staff    34K Dec 19 13:34 babies.data\r\n",
      "-rw-r--r--  1 sam  staff   177B Dec 19 13:37 text.txt\r\n"
     ]
    }
   ],
   "source": [
    "!ls -l -h others"
   ]
  },
  {
   "cell_type": "markdown",
   "metadata": {},
   "source": [
    "We see that the `babies.data` file takes up 34 KiB on disk, making it well within the memory capacities of most systems. Although the `babynames.csv` file has nearly 2 million rows, it only takes up 30 MiB of disk storage. Most machines can read in the `babynames.csv` too."
   ]
  },
  {
   "cell_type": "code",
   "execution_count": 18,
   "metadata": {},
   "outputs": [
    {
     "name": "stdout",
     "output_type": "stream",
     "text": [
      "total 62896\r\n",
      "-rw-r--r--  1 sam  staff    30M Aug 10 22:35 babynames.csv\r\n",
      "drwxr-xr-x  4 sam  staff   128B Dec 19 13:37 \u001b[34mothers\u001b[m\u001b[m\r\n",
      "-rw-r--r--  1 sam  staff   118K Sep 25 17:13 pandas_apply_strings_plotting.ipynb\r\n",
      "-rw-r--r--  1 sam  staff    34K Sep 25 17:13 pandas_grouping_pivoting.ipynb\r\n",
      "-rw-r--r--  1 sam  staff    32K Dec 19 13:07 pandas_indexes.ipynb\r\n",
      "-rw-r--r--  1 sam  staff   2.1K Dec 19 13:23 pandas_intro.ipynb\r\n",
      "-rw-r--r--  1 sam  staff    23K Dec 19 13:44 pandas_structure.ipynb\r\n"
     ]
    }
   ],
   "source": [
    "!ls -l -h"
   ]
  },
  {
   "cell_type": "markdown",
   "metadata": {},
   "source": [
    "**Folder Sizes**\n",
    "\n",
    "Sometimes we are interested in the total size of a folder instead of individual files. For example, if we have one file of sensor recordings for each month in a year, we might like to see whether we combine all the data into a single DataFrame. Note that `ls` does not calculate folder sizes correctly. Notice `ls` shows that the `others` folder takes up 128 bytes on disk."
   ]
  },
  {
   "cell_type": "code",
   "execution_count": 19,
   "metadata": {},
   "outputs": [
    {
     "name": "stdout",
     "output_type": "stream",
     "text": [
      "total 62896\r\n",
      "-rw-r--r--  1 sam  staff    30M Aug 10 22:35 babynames.csv\r\n",
      "drwxr-xr-x  4 sam  staff   128B Dec 19 13:37 \u001b[34mothers\u001b[m\u001b[m\r\n",
      "-rw-r--r--  1 sam  staff   118K Sep 25 17:13 pandas_apply_strings_plotting.ipynb\r\n",
      "-rw-r--r--  1 sam  staff    34K Sep 25 17:13 pandas_grouping_pivoting.ipynb\r\n",
      "-rw-r--r--  1 sam  staff    32K Dec 19 13:07 pandas_indexes.ipynb\r\n",
      "-rw-r--r--  1 sam  staff   2.1K Dec 19 13:23 pandas_intro.ipynb\r\n",
      "-rw-r--r--  1 sam  staff    23K Dec 19 13:44 pandas_structure.ipynb\r\n"
     ]
    }
   ],
   "source": [
    "!ls -l -h "
   ]
  },
  {
   "cell_type": "markdown",
   "metadata": {},
   "source": [
    "However, the folder itself contains files that are larger than 128 bytes:"
   ]
  },
  {
   "cell_type": "code",
   "execution_count": 20,
   "metadata": {},
   "outputs": [
    {
     "name": "stdout",
     "output_type": "stream",
     "text": [
      "total 80\r\n",
      "-rw-r--r--@ 1 sam  staff    34K Dec 19 13:34 babies.data\r\n",
      "-rw-r--r--  1 sam  staff   177B Dec 19 13:37 text.txt\r\n"
     ]
    }
   ],
   "source": [
    "!ls -l -h others"
   ]
  },
  {
   "cell_type": "markdown",
   "metadata": {},
   "source": [
    "To properly calculate the total size of a folder, including files in the folder, we use the `du` (short for disk usage) CLI tool. By default, the `du` tool shows the sizes of folders in its own units called blocks."
   ]
  },
  {
   "cell_type": "code",
   "execution_count": 29,
   "metadata": {},
   "outputs": [
    {
     "name": "stdout",
     "output_type": "stream",
     "text": [
      "80\tothers\r\n"
     ]
    }
   ],
   "source": [
    "!du others"
   ]
  },
  {
   "cell_type": "markdown",
   "metadata": {},
   "source": [
    "To show file sizes in bytes, we add the `-h` flag."
   ]
  },
  {
   "cell_type": "code",
   "execution_count": 30,
   "metadata": {},
   "outputs": [
    {
     "name": "stdout",
     "output_type": "stream",
     "text": [
      " 40K\tothers\r\n"
     ]
    }
   ],
   "source": [
    "!du -h others"
   ]
  },
  {
   "cell_type": "markdown",
   "metadata": {},
   "source": [
    "We commonly also add the `-s` flag to `du` to show the file sizes for both files and folders. The asterisk in `others/*` below tells `du` to show the size of every item in the `others/*` folder."
   ]
  },
  {
   "cell_type": "code",
   "execution_count": 31,
   "metadata": {},
   "outputs": [
    {
     "name": "stdout",
     "output_type": "stream",
     "text": [
      " 36K\tothers/babies.data\r\n",
      "4.0K\tothers/text.txt\r\n"
     ]
    }
   ],
   "source": [
    "!du -sh others/*"
   ]
  },
  {
   "cell_type": "markdown",
   "metadata": {},
   "source": [
    "**Memory Overhead**\n",
    "\n",
    "As a rule of thumb, reading in a file using `pandas` usually requires at least double the available memory as the file size. That is, reading in a 1 GiB file will typically require at least 2 GiB of available memory.\n",
    "\n",
    "Note that memory is shared by all programs running on a computer, including the operating system, web browsers, and yes, Jupyter notebook itself. A computer with 4 GiB total RAM might have only 1 GiB available RAM with many applications running. With 1 GiB available RAM, it is unlikely that `pandas` will be able to read in a 1 GiB file."
   ]
  },
  {
   "cell_type": "markdown",
   "metadata": {},
   "source": [
    "## Summary\n",
    "\n",
    "In this section, we have introduced the tabular structure representation for data that we use throughout the rest of the book. We have also introduced the command-line tools `ls`, `du`, `head`, and `tail`. These tools help us understand the format and structure of data files. We also use these tools to ensure that the data file is small enough to read into `pandas`. Once a file is read into `pandas`, we have a DataFrame that we use to proceed with analysis."
   ]
  }
 ],
 "metadata": {
  "kernelspec": {
   "display_name": "Python 3",
   "language": "python",
   "name": "python3"
  },
  "language_info": {
   "codemirror_mode": {
    "name": "ipython",
    "version": 3
   },
   "file_extension": ".py",
   "mimetype": "text/x-python",
   "name": "python",
   "nbconvert_exporter": "python",
   "pygments_lexer": "ipython3",
   "version": "3.6.2"
  }
 },
 "nbformat": 4,
 "nbformat_minor": 2
}
