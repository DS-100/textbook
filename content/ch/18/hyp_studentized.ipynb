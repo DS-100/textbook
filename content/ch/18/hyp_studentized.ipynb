{
 "cells": [
  {
   "cell_type": "code",
   "execution_count": null,
   "metadata": {
    "tags": [
     "hide_input"
    ]
   },
   "outputs": [],
   "source": [
    "# HIDDEN\n",
    "import warnings\n",
    "# Ignore numpy dtype warnings. These warnings are caused by an interaction\n",
    "# between numpy and Cython and can be safely ignored.\n",
    "# Reference: https://stackoverflow.com/a/40846742\n",
    "warnings.filterwarnings(\"ignore\", message=\"numpy.dtype size changed\")\n",
    "warnings.filterwarnings(\"ignore\", message=\"numpy.ufunc size changed\")\n",
    "\n",
    "import numpy as np\n",
    "import matplotlib.pyplot as plt\n",
    "import pandas as pd\n",
    "import seaborn as sns\n",
    "%matplotlib inline\n",
    "import ipywidgets as widgets\n",
    "from ipywidgets import interact, interactive, fixed, interact_manual\n",
    "import nbinteract as nbi\n",
    "\n",
    "sns.set()\n",
    "sns.set_context('talk')\n",
    "np.set_printoptions(threshold=20, precision=2, suppress=True)\n",
    "pd.options.display.max_rows = 7\n",
    "pd.options.display.max_columns = 8\n",
    "pd.set_option('precision', 2)\n",
    "# This option stops scientific notation for pandas\n",
    "# pd.set_option('display.float_format', '{:.2f}'.format)"
   ]
  },
  {
   "cell_type": "code",
   "execution_count": 3,
   "metadata": {
    "tags": [
     "hide_input"
    ]
   },
   "outputs": [],
   "source": [
    "# HIDDEN\n",
    "def df_interact(df, nrows=7, ncols=7):\n",
    "    '''\n",
    "    Outputs sliders that show rows and columns of df\n",
    "    '''\n",
    "    def peek(row=0, col=0):\n",
    "        return df.iloc[row:row + nrows, col:col + ncols]\n",
    "    if len(df.columns) <= ncols:\n",
    "        interact(peek, row=(0, len(df) - nrows, nrows), col=fixed(0))\n",
    "    else:\n",
    "        interact(peek,\n",
    "                 row=(0, len(df) - nrows, nrows),\n",
    "                 col=(0, len(df.columns) - ncols))\n",
    "    print('({} rows, {} columns) total'.format(df.shape[0], df.shape[1]))"
   ]
  },
  {
   "cell_type": "code",
   "execution_count": 4,
   "metadata": {
    "scrolled": true,
    "tags": [
     "hide_input"
    ]
   },
   "outputs": [],
   "source": [
    "# HIDDEN\n",
    "times = pd.read_csv('ilec.csv')['17.5']"
   ]
  },
  {
   "cell_type": "markdown",
   "metadata": {},
   "source": [
    "## The Studentized Bootstrap\n",
    "\n"
   ]
  },
  {
   "cell_type": "markdown",
   "metadata": {},
   "source": [
    "The **bootstrap** is a process we learned about in Data 8 that we can use for estimating a population statistic using only one sample. The general procedure for bootstrapping is as follows:\n",
    "- Draw a sizable sample from the population.\n",
    "- Using this sample, we *resample with replacement* to form new samples of the same size.\n",
    "- We do this many times, taking the desired statistic of each resample (e.g. we take the median of each resample).\n",
    "\n",
    "Here, we end up with many test statistics from individual resamples, from which we can form a distribution. In Data 8, we were taught to form a 95% confidence interval by taking the 2.5th percentile and the 97.5th percentile of the bootstrap statistics. This method of bootstrapping to create a confidence interval is called the **percentile bootstrap.** 95% confidence implies that if we take a new sample from the population and construct a confidence interval, the confidence interval will contain the population parameter with probability 0.95. However, it is important to note that confidence intervals created from real data can only approximate 95% confidence. The percentile bootstrap in particular has lower confidence than desired at small sample sizes.\n",
    "\n",
    "Below, we've taken a population and created one thousand bootstrap 95% confidence intervals for the population mean for different sample sizes. The y-axis represents the fraction of the one thousand confidence intervals that contained the real population mean. Notice that at sample sizes below 20, fewer than 90% of the confidence intervals actually contain the population mean."
   ]
  },
  {
   "cell_type": "markdown",
   "metadata": {
    "scrolled": true
   },
   "source": [
    "<img src=\"../../assets/coverage_percentile_bootstrap.png\"></img>"
   ]
  },
  {
   "cell_type": "markdown",
   "metadata": {},
   "source": [
    "We can measure *coverage error* by calculating the difference between our measured confidence here and our desired 95% confidence. We can see that the coverage error for percentile bootstrap is very high at small sample sizes. In this chapter, we will introduce a new bootstrap method, called the **studentized bootstrap** method, that has a lower coverage error but requires more computation."
   ]
  },
  {
   "cell_type": "markdown",
   "metadata": {},
   "source": [
    "### Repair Times\n",
    "\n",
    "The New York Public Utilities Commission monitors the response time for repairing land-line phone service in the state. These repair times may differ over the year and according to the type of repair. We have a census of repair times for one class of repairs at one time period for a specific *Incumbent Local Exchange Carrier*, which is a telephone company which held the regional monopoly on landline service before the market was opened to competitive local exchange carriers, or the corporate successor of such a firm. The commission is interested in estimates of the average repair time. First, let's look at a distribution of all of the times."
   ]
  },
  {
   "cell_type": "code",
   "execution_count": 5,
   "metadata": {},
   "outputs": [
    {
     "data": {
      "image/png": "[encoded data removed]",
      "text/plain": [
       "<matplotlib.figure.Figure at 0x1183512b0>"
      ]
     },
     "metadata": {},
     "output_type": "display_data"
    }
   ],
   "source": [
    "plt.hist(times, bins=20, normed=True)\n",
    "plt.xlabel('Repair Time')\n",
    "plt.ylabel('Proportion per Hour')\n",
    "plt.title('Distribution of Repair Times');"
   ]
  },
  {
   "cell_type": "markdown",
   "metadata": {},
   "source": [
    "Let's say we want to estimate the population mean of the repair times. We first need to define the main statistic function needed to do this. By passing in the whole population, we can see that actual average repair time is about 8.4 hours."
   ]
  },
  {
   "cell_type": "code",
   "execution_count": 6,
   "metadata": {},
   "outputs": [],
   "source": [
    "def stat(sample, axis=None):\n",
    "    return np.mean(sample, axis=axis)"
   ]
  },
  {
   "cell_type": "code",
   "execution_count": 7,
   "metadata": {},
   "outputs": [
    {
     "data": {
      "text/plain": [
       "8.406145520144333"
      ]
     },
     "execution_count": 7,
     "metadata": {},
     "output_type": "execute_result"
    }
   ],
   "source": [
    "theta = stat(times)\n",
    "theta"
   ]
  },
  {
   "cell_type": "markdown",
   "metadata": {},
   "source": [
    "Now we need to define a method that will return a list of indices so we can resample from the original sample without replacement."
   ]
  },
  {
   "cell_type": "code",
   "execution_count": 8,
   "metadata": {},
   "outputs": [],
   "source": [
    "def take_sample(n=10):\n",
    "    return np.random.choice(times, size=n, replace=False)"
   ]
  },
  {
   "cell_type": "markdown",
   "metadata": {},
   "source": [
    "In real life, we won't be able to draw many samples from the population (we use bootstrap to be able to use just one sample). But for demonstration purposes, we have access to the entire population, so we will take 1000 samples of size 10 and plot the distribution of the sample means."
   ]
  },
  {
   "cell_type": "code",
   "execution_count": 9,
   "metadata": {
    "scrolled": true
   },
   "outputs": [
    {
     "data": {
      "image/png": "[encoded data removed]",
      "text/plain": [
       "<matplotlib.figure.Figure at 0x118381978>"
      ]
     },
     "metadata": {},
     "output_type": "display_data"
    }
   ],
   "source": [
    "samples_from_pop = 1000\n",
    "\n",
    "pop_sampling_dist = np.array(\n",
    "    [stat(take_sample()) for _ in range(samples_from_pop)]\n",
    ")\n",
    "\n",
    "plt.hist(pop_sampling_dist, bins=30, normed=True);\n",
    "plt.xlabel('Average Repair Time')\n",
    "plt.ylabel('Proportion per Hour')\n",
    "plt.title(r'Distribution of Sample Means ($\\hat{\\theta}$)');"
   ]
  },
  {
   "cell_type": "markdown",
   "metadata": {},
   "source": [
    "We can see that the center of this distribution is ~5, and that it is skewed right because of the skewed distribution of the original data. "
   ]
  },
  {
   "cell_type": "markdown",
   "metadata": {},
   "source": [
    "### Comparing Distributions of the Statistic\n",
    "\n",
    "Now we can look at how a single bootstrap distribution can stack up against a distribution sampled from the population. \n",
    "\n",
    "Generally, we are aiming to estimate $\\theta^*$, our population parameter (in this case, the average repair time of the population, which we found to be ~8.4). Each individual sample can be used to calculate an estimated statistic, $\\hat\\theta$ (in this case, the average repair time of a single sample). The plot above shows what we call an *empirical distribution* of $\\hat\\theta$, which is calculated of many estimated statistics from many samples from the population. For the bootstrap, however, we want the statistic of the resample of the original sample, which is called $\\tilde\\theta$. \n",
    "\n",
    "In order for the bootstrap to work, we want our original sample to look similar to the population, so that resamples also look similar to the population. If our original sample *does* look like the population, then the distribution of average repair times calculated from the resamples will look similar to the empirical distribution of samples directly from the population.\n",
    "\n",
    "Let's take a look at how an individual bootstrap distribution will look. We can define methods to take samples of size 10 without replacement and bootstrap it 1000 times to get our distribution."
   ]
  },
  {
   "cell_type": "code",
   "execution_count": 10,
   "metadata": {},
   "outputs": [],
   "source": [
    "bootstrap_reps = 1000\n",
    "\n",
    "def resample(sample, reps):\n",
    "    n = len(sample)\n",
    "    return np.random.choice(sample, size=reps * n).reshape((reps, n))\n",
    "\n",
    "def bootstrap_stats(sample, reps=bootstrap_reps, stat=stat):\n",
    "    resamples = resample(sample, reps)\n",
    "    return stat(resamples, axis=1)"
   ]
  },
  {
   "cell_type": "code",
   "execution_count": 11,
   "metadata": {
    "scrolled": true
   },
   "outputs": [
    {
     "data": {
      "image/png": "[encoded data removed]",
      "text/plain": [
       "<matplotlib.figure.Figure at 0x11a42ccc0>"
      ]
     },
     "metadata": {},
     "output_type": "display_data"
    }
   ],
   "source": [
    "np.random.seed(0)\n",
    "\n",
    "sample = take_sample()\n",
    "\n",
    "plt.hist(bootstrap_stats(sample), bins=30, normed=True)\n",
    "plt.xlabel('Average Repair Time')\n",
    "plt.ylabel('Proportion per Hour')\n",
    "plt.title(r'Distribution of Bootstrap Sample Means ($\\tilde{\\theta}$)');"
   ]
  },
  {
   "cell_type": "markdown",
   "metadata": {},
   "source": [
    "As you can see, our distribution of $\\tilde\\theta$ doesn't look *quite* like the distribution of $\\hat\\theta$, likely because our original sample did not look like the population. As a result, our confidence intervals perform rather poorly. Below we can see a side-by-side comparison of the two distributions:"
   ]
  },
  {
   "cell_type": "code",
   "execution_count": 12,
   "metadata": {},
   "outputs": [
    {
     "data": {
      "image/png": "[encoded data removed]",
      "text/plain": [
       "<matplotlib.figure.Figure at 0x11ba4ffd0>"
      ]
     },
     "metadata": {},
     "output_type": "display_data"
    }
   ],
   "source": [
    "plt.figure(figsize=(10, 4))\n",
    "plt.subplot(121)\n",
    "plt.xlabel('Average Repair Time')\n",
    "plt.ylabel('Proportion per Hour')\n",
    "plt.title(r'Distribution of Sample Means ($\\hat{\\theta}$)')\n",
    "plt.hist(pop_sampling_dist, bins=30, range=(0, 40), normed=True)\n",
    "plt.ylim((0,0.2))\n",
    "\n",
    "plt.subplot(122)\n",
    "plt.xlabel('Average Repair Time')\n",
    "plt.ylabel('Proportion per Hour')\n",
    "plt.title(r'Distribution of Bootstrap Sample Means ($\\tilde{\\theta}$)')\n",
    "plt.hist(bootstrap_stats(sample), bins=30, range=(0, 40), normed=True)\n",
    "plt.ylim((0,0.2))\n",
    "\n",
    "plt.tight_layout();"
   ]
  },
  {
   "cell_type": "markdown",
   "metadata": {},
   "source": [
    "### The Studentized Bootstrap Procedure\n",
    "\n",
    "As we saw, the main issue with percentile bootstrap procedure is that it takes a larger sample size to really reach the desired 95% confidence. With the studentized bootstrap procedure, we can do a little more calculation to get better coverage at smaller sample sizes.\n",
    "\n",
    "The idea behind the studentized bootstrap procedure is to normalize the distribution of the test statistic $\\tilde\\theta$ to be centered at 0 and have a standard deviation of 1. This will correct for the spread difference and skew of the original distribution. In order to do all of this, we need to do some derivation first."
   ]
  },
  {
   "cell_type": "markdown",
   "metadata": {},
   "source": [
    "In the percentile bootstrap procedure, we generate many values of $\\tilde\\theta$, and then we take the 2.5th and 97.5th percentiles for our confidence interval. For short, we refer to these percentiles as $q_{2.5}$ and $q_{97.5}$. Note that both of these values come from the bootstrap statistics.\n",
    "\n",
    "With this procedure, we hope that the probability that the actual population statistic lies between our confidence intervals is about 95%. In other words, we hope for the following equality:\n",
    "\n",
    "$$\n",
    "\\begin{aligned}\n",
    "0.95 &= {\\cal P}\\left(q_{2.5} \\leq \\theta^* \\leq q_{97.5}\\right)\n",
    "\\end{aligned}\n",
    "$$\n",
    "\n",
    "We make two approximations during this procedure: since we assume our random sample looks like the population, we approximate $\\theta^*$ with $\\hat\\theta$; since we assume a random resample looks like the original sample, we approximate $\\hat\\theta$ with $\\tilde\\theta$. Since the second approximation relies on the first one, they both introduce error in the confidence interval generation, which creates the coverage error we saw in the plot."
   ]
  },
  {
   "cell_type": "markdown",
   "metadata": {},
   "source": [
    "We aim to reduce this error by normalizing our statistic. Instead of using our calculated value of $\\tilde\\theta$ directly, we use: \n",
    "\n",
    "$$\n",
    "\\begin{aligned}\n",
    "\\frac\n",
    "    {\\tilde{\\theta} - {\\hat{\\theta}}}\n",
    "    {SE({\\tilde{\\theta}})}\n",
    "\\end{aligned}\n",
    "$$\n",
    "\n",
    "This will normalize the resample statistic by the sample statistic, and then divide by the standard deviation of the resample statistic (this standard deviation is also called the standard error, or SE).\n",
    "\n",
    "This whole normalized statistic is called the Student's t-statistic, so we call this bootstrap method the **studentized bootstrap** or the **bootstrap-t** method."
   ]
  },
  {
   "cell_type": "markdown",
   "metadata": {},
   "source": [
    "As usual, we compute this statistic for many resamples, and then take the 2.5th and 97.5th percentiles — $ q_{2.5} $ and $ q_{97.5} $. As such, we hope that the normalized population parameter lies between these percentiles:\n",
    "\n",
    "$$\n",
    "\\begin{aligned}\n",
    "0.95 &= {\\cal P}\\left(q_{2.5} \\leq \\frac{\\hat{\\theta} - \\theta^*} {SE({\\hat{\\theta}})} \\leq q_{97.5}\\right) \\\\\n",
    "\\end{aligned}\n",
    "$$"
   ]
  },
  {
   "cell_type": "markdown",
   "metadata": {},
   "source": [
    "We can now solve the inequality for $\\theta^*$:"
   ]
  },
  {
   "cell_type": "markdown",
   "metadata": {},
   "source": [
    "$$\n",
    "\\begin{aligned}\n",
    "0.95 &= {\\cal P}\\left(q_{2.5} \\leq \\frac{\\hat{\\theta} - \\theta^*} {SE({\\hat{\\theta}})} \\leq q_{97.5}\\right) \\\\\n",
    " &= {\\cal P}\\left(q_{2.5}SE({\\hat{\\theta}}) \\leq {\\hat{\\theta} - \\theta^*} \\leq q_{97.5}SE({\\hat{\\theta}})\\right) \\\\\n",
    " &= {\\cal P}\\left(\\hat{\\theta} - q_{97.5}SE({\\hat{\\theta}}) \\leq {\\theta^*} \\leq \\hat{\\theta} - q_{2.5}SE({\\hat{\\theta}})\\right) \n",
    "\\end{aligned}\n",
    "$$"
   ]
  },
  {
   "cell_type": "markdown",
   "metadata": {},
   "source": [
    "This means we can construct our confidence interval using just $\\hat\\theta$ (the test statistic on the original sample), $q_{2.5}$ and $q_{97.5}$ (the percentiles of the normalized statistic computed with the resamples), and $SE(\\hat\\theta)$ (the standard deviation of the sample test statistic). This last value is estimated by using the standard deviation of the resample test statistics."
   ]
  },
  {
   "cell_type": "markdown",
   "metadata": {},
   "source": [
    "Thus, to compute a studentized bootstrap CI, we perform the following procedure:\n",
    "\n",
    "1. Compute $ \\hat{\\theta} $, the test statistic on the sample.\n",
    "1. Bootstrap the sample a large number of times.\n",
    "1. For each bootstrap resample:\n",
    "    1. Compute $ \\tilde \\theta $, the test statistic on the resample.\n",
    "    1. Compute $ SE({\\tilde{\\theta}}) $.\n",
    "    1. Compute $ q =  \\frac{\\tilde{\\theta} - {\\hat{\\theta}}}{SE({\\tilde{\\theta}})} $.\n",
    "1. Estimate $ SE(\\hat \\theta) $ using the standard deviation of the $ \\tilde \\theta $ values.\n",
    "1. Calculate the confidence intervals thusly: $ \\left[ \\hat{\\theta} - q_{97.5}SE({\\hat{\\theta}}), \\hat{\\theta} - q_{2.5}SE({\\hat{\\theta}}) \\right]$."
   ]
  },
  {
   "cell_type": "markdown",
   "metadata": {},
   "source": [
    "### Computing the Standard Error of the Resample Statistic\n",
    "\n",
    "It is important to note that $SE(\\hat\\theta)$, the standard error of the resample test statistic, is not always easy to compute and is dependent on the test statistic. For the sample mean, $SE(\\tilde\\theta)=\\frac{\\tilde\\sigma}{\\sqrt{n}}$, the standard deviation of the resample values divided by the square root of the sample size. \n",
    "\n",
    "Also remember that we have to use the resample values to compute $ SE(\\tilde \\theta) $; we use the sample values to compute $ SE(\\hat \\theta) $."
   ]
  },
  {
   "cell_type": "markdown",
   "metadata": {},
   "source": [
    "If our test statistic, however, does not have an analytic expression (like the one we have for the sample mean), then we need to do a second-level bootstrap. For each resample, we bootstrap it again, and compute the test statistic on each second-level resample (the resampled resample), and compute the standard deviation using these second-level statistics. Typically, we do around 50 second-level resamples.\n",
    "\n",
    "This greatly increases computation time for the studentized bootstrap procedure. If we do 50 second-level resamples, the entire procedure will take 50 times as long as if we just had an analytic expression for $SE(\\tilde\\theta)$."
   ]
  },
  {
   "cell_type": "markdown",
   "metadata": {},
   "source": [
    "### Comparison of Studentized Bootstrap with Percentile Bootstrap\n",
    "\n",
    "To assess the tradeoffs of studentized and percentile bootstrap, let's compare the coverage of the two methods using the repair times dataset."
   ]
  },
  {
   "cell_type": "code",
   "execution_count": 13,
   "metadata": {
    "scrolled": true
   },
   "outputs": [
    {
     "data": {
      "image/png": "[encoded data removed]",
      "text/plain": [
       "<matplotlib.figure.Figure at 0x11be3a470>"
      ]
     },
     "metadata": {},
     "output_type": "display_data"
    }
   ],
   "source": [
    "plt.hist(times, bins=20, normed=True);\n",
    "plt.xlabel('Repair Time')\n",
    "plt.ylabel('Proportion per Hour')\n",
    "plt.title('Distribution of Repair Times');"
   ]
  },
  {
   "cell_type": "markdown",
   "metadata": {},
   "source": [
    "We will take many samples from the population, compute a percentile confidence interval and a studentized confidence interval for each sample, and then compute the coverage for each. We will repeat this for varying sample sizes to see how the coverage of each method changes with sample size."
   ]
  },
  {
   "cell_type": "markdown",
   "metadata": {},
   "source": [
    "We can use `np.percentile` to compute the percentile confidence interval below:"
   ]
  },
  {
   "cell_type": "code",
   "execution_count": 14,
   "metadata": {},
   "outputs": [],
   "source": [
    "def percentile_ci(sample, reps=bootstrap_reps, stat=stat):\n",
    "    stats = bootstrap_stats(sample, reps, stat)\n",
    "    return np.percentile(stats, [2.5, 97.5])"
   ]
  },
  {
   "cell_type": "code",
   "execution_count": 15,
   "metadata": {},
   "outputs": [
    {
     "data": {
      "text/plain": [
       "array([ 4.54, 29.56])"
      ]
     },
     "execution_count": 15,
     "metadata": {},
     "output_type": "execute_result"
    }
   ],
   "source": [
    "np.random.seed(0)\n",
    "sample = take_sample(n=10)\n",
    "percentile_ci(sample)"
   ]
  },
  {
   "cell_type": "markdown",
   "metadata": {},
   "source": [
    "To do the studentized bootstrap, we need a lot more code:"
   ]
  },
  {
   "cell_type": "code",
   "execution_count": 16,
   "metadata": {},
   "outputs": [],
   "source": [
    "def studentized_stats(sample, reps=bootstrap_reps, stat=stat):\n",
    "    '''\n",
    "    Computes studentized test statistics for the provided sample.\n",
    "    \n",
    "    Returns the studentized test statistics and the SD of the\n",
    "    resample test statistics.\n",
    "    '''\n",
    "    # Bootstrap the sample and compute \\tilde \\theta values\n",
    "    resamples = resample(sample, reps)\n",
    "    resample_stats = stat(resamples, axis=1)\n",
    "    resample_sd = np.std(resample_stats)\n",
    "    \n",
    "    # Compute SE of \\tilde \\theta.\n",
    "    # Since we're estimating the sample mean, we can use the formula.\n",
    "    # Without the formula, we would have to do a second level bootstrap here.\n",
    "    resample_std_errs = np.std(resamples, axis=1) / np.sqrt(len(sample))\n",
    "    \n",
    "    # Compute studentized test statistics (q values)\n",
    "    sample_stat = stat(sample)\n",
    "    t_statistics = (resample_stats - sample_stat) / resample_std_errs\n",
    "    return t_statistics, resample_sd\n",
    " \n",
    "def studentized_ci(sample, reps=bootstrap_reps, stat=stat):\n",
    "    '''\n",
    "    Computes 95% studentized bootstrap CI\n",
    "    '''\n",
    "    t_statistics, resample_sd = studentized_stats(sample, reps, stat)\n",
    "    lower, upper = np.percentile(t_statistics, [2.5, 97.5])\n",
    "    \n",
    "    sample_stat = stat(sample)\n",
    "    return (sample_stat - resample_sd * upper,\n",
    "            sample_stat - resample_sd * lower)"
   ]
  },
  {
   "cell_type": "code",
   "execution_count": 17,
   "metadata": {},
   "outputs": [
    {
     "data": {
      "text/plain": [
       "(4.499166906400612, 59.03291210887363)"
      ]
     },
     "execution_count": 17,
     "metadata": {},
     "output_type": "execute_result"
    }
   ],
   "source": [
    "np.random.seed(0)\n",
    "sample = take_sample(n=10)\n",
    "studentized_ci(sample)"
   ]
  },
  {
   "cell_type": "markdown",
   "metadata": {},
   "source": [
    "Now that everything is written out, we can compare the coverages of the two methods as the sample size increases from 4 to 100."
   ]
  },
  {
   "cell_type": "code",
   "execution_count": 18,
   "metadata": {},
   "outputs": [],
   "source": [
    "def coverage(cis, parameter=theta):\n",
    "    return (\n",
    "        np.count_nonzero([lower < parameter < upper for lower, upper in cis])\n",
    "        / len(cis)\n",
    "    )"
   ]
  },
  {
   "cell_type": "code",
   "execution_count": 19,
   "metadata": {},
   "outputs": [],
   "source": [
    "def run_trials(sample_sizes):\n",
    "    np.random.seed(0)\n",
    "    percentile_coverages = []\n",
    "    studentized_coverages = []\n",
    "    \n",
    "    for n in sample_sizes:\n",
    "        samples = [take_sample(n) for _ in range(samples_from_pop)]\n",
    "        percentile_cis = [percentile_ci(sample) for sample in samples]\n",
    "        studentized_cis = [studentized_ci(sample) for sample in samples]\n",
    "        \n",
    "        percentile_coverages.append(coverage(percentile_cis))\n",
    "        studentized_coverages.append(coverage(studentized_cis))\n",
    "    return pd.DataFrame({\n",
    "        'percentile': percentile_coverages,\n",
    "        'studentized': studentized_coverages,\n",
    "    }, index=sample_sizes)"
   ]
  },
  {
   "cell_type": "code",
   "execution_count": 20,
   "metadata": {},
   "outputs": [
    {
     "name": "stdout",
     "output_type": "stream",
     "text": [
      "CPU times: user 1min 52s, sys: 1.08 s, total: 1min 53s\n",
      "Wall time: 1min 57s\n"
     ]
    }
   ],
   "source": [
    "%%time\n",
    "\n",
    "trials = run_trials(np.arange(4, 101, 2))"
   ]
  },
  {
   "cell_type": "code",
   "execution_count": 21,
   "metadata": {},
   "outputs": [
    {
     "data": {
      "image/png": "[encoded data removed]",
      "text/plain": [
       "<matplotlib.figure.Figure at 0x11a3d9f98>"
      ]
     },
     "metadata": {},
     "output_type": "display_data"
    }
   ],
   "source": [
    "trials.plot()\n",
    "plt.axhline(0.95, c='red', linestyle='--', label='95% coverage')\n",
    "plt.legend()\n",
    "plt.xlabel('Sample Size')\n",
    "plt.ylabel('Coverage')\n",
    "plt.title('Coverage vs. Sample Size for Studentized and Percentile Bootstraps');"
   ]
  },
  {
   "cell_type": "markdown",
   "metadata": {},
   "source": [
    "As we can see, the studentized bootstrap has a much better coverage at smaller sample sizes."
   ]
  },
  {
   "cell_type": "markdown",
   "metadata": {},
   "source": [
    "## Summary\n",
    "\n",
    "The studentized bootstrap for the most part is better than the percentile bootstrap, especially if we only have a small sample to start with. We generally want to use this method when the sample size is small or when the original data is skewed. The main drawback is its computation time, which is further magnified if $SE(\\tilde\\theta)$ is not easy to compute."
   ]
  }
 ],
 "metadata": {
  "kernelspec": {
   "display_name": "Python 3",
   "language": "python",
   "name": "python3"
  },
  "language_info": {
   "codemirror_mode": {
    "name": "ipython",
    "version": 3
   },
   "file_extension": ".py",
   "mimetype": "text/x-python",
   "name": "python",
   "nbconvert_exporter": "python",
   "pygments_lexer": "ipython3",
   "version": "3.6.1"
  },
  "toc": {
   "nav_menu": {},
   "number_sections": false,
   "sideBar": false,
   "skip_h1_title": false,
   "title_cell": "Table of Contents",
   "title_sidebar": "Contents",
   "toc_cell": true,
   "toc_position": {},
   "toc_section_display": true,
   "toc_window_display": false
  }
 },
 "nbformat": 4,
 "nbformat_minor": 2
}
