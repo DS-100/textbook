{
 "cells": [
  {
   "cell_type": "code",
   "execution_count": null,
   "metadata": {
    "tags": [
     "remove-cell"
    ]
   },
   "outputs": [],
   "source": [
    "# Reference: https://jupyterbook.org/interactive/hiding.html\n",
    "# Use {hide, remove}-{input, output, cell} tags to hiding content\n",
    "\n",
    "import sys\n",
    "import os\n",
    "if not any(path.endswith('textbook') for path in sys.path):\n",
    "    sys.path.append(os.path.abspath('../../..'))\n",
    "from textbook_utils import *"
   ]
  },
  {
   "cell_type": "markdown",
   "metadata": {},
   "source": [
    "# Donkey Study Question and Scope "
   ]
  },
  {
   "cell_type": "markdown",
   "metadata": {},
   "source": [
    "Our motivating research question is: how can we accurately estimate the\n",
    "weight of a donkey using other measurements (like height) that are easy to get?\n",
    "\n",
    "To address this question, The UK Donkey Sanctuary [^donkeysanc] carried out a study at 17 mobile de-worming sites in rural Kenya. In terms of scope ({numref}`Chapter %s <ch:data_scope>`), our target population is the donkey population in rural Kenya. The access frame is the set of all donkeys that were brought into the de-worming sites.\n",
    "Our sample has all donkeys that were \n",
    "brought to the sites between July 23 and August 11, 2010, with a few caveats.\n",
    "If there were too many donkeys at a site to measure, the researchers\n",
    "selected a subset of donkeys to measure.\n",
    "Any pregnant or visibly diseased donkeys were excluded from the study.\n",
    "\n",
    "To avoid accidentally weighting a donkey twice, each donkey was marked after weighing.\n",
    "To address the possibility of measurement bias and assess repeatability of the weighing process, 31 donkeys were measured twice, without the staff knowing that a donkey was being reweighed ({numref}`Chapter %s <ch:data_scope>`).  \n",
    "\n",
    "With this sampling process in mind, the main sources of bias for this data\n",
    "include: \n",
    "\n",
    "+ coverage bias: the 17 sites were located in the regions surrounding the Yatta district in eastern Kenya and the Naivasha district in the Rift Valley. \n",
    "+ selection bias: only donkeys brought to the sanctuary were enrolled in the study, and when there were too many donkeys at a site, a non-random sample was selected.\n",
    "\n",
    "[^donkeysanc]: https://www.thedonkeysanctuary.org.uk/"
   ]
  }
 ],
 "metadata": {
  "celltoolbar": "Tags",
  "kernelspec": {
   "display_name": "Python 3",
   "language": "python",
   "name": "python3"
  },
  "language_info": {
   "codemirror_mode": {
    "name": "ipython",
    "version": 3
   },
   "file_extension": ".py",
   "mimetype": "text/x-python",
   "name": "python",
   "nbconvert_exporter": "python",
   "pygments_lexer": "ipython3",
   "version": "3.9.4"
  }
 },
 "nbformat": 4,
 "nbformat_minor": 4
}
