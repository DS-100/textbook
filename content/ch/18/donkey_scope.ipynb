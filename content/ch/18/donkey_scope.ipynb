{
 "cells": [
  {
   "cell_type": "code",
   "execution_count": null,
   "metadata": {
    "tags": [
     "remove-cell"
    ]
   },
   "outputs": [],
   "source": [
    "# Reference: https://jupyterbook.org/interactive/hiding.html\n",
    "# Use {hide, remove}-{input, output, cell} tags to hiding content\n",
    "\n",
    "import sys\n",
    "import os\n",
    "if not any(path.endswith('textbook') for path in sys.path):\n",
    "    sys.path.append(os.path.abspath('../../..'))\n",
    "from textbook_utils import *"
   ]
  },
  {
   "cell_type": "markdown",
   "metadata": {},
   "source": [
    "# Donkey Study Question and Scope "
   ]
  },
  {
   "cell_type": "markdown",
   "metadata": {},
   "source": [
    "Our motivating question is: how can a vet accurately estimate the weight of a donkey when they're out in countryside without a scale? Let's think about the information that is more readily available to them. They can carry a tape measure and find the size of the donkey in other dimensions, like its height. They can observe the animal's sex, assess its general condition, and inquire about the donkey's age. So we can refine our question to: how can a vet accurately predict the weight of a donkey from easy-to-get measurements?      \n",
    "\n",
    "To address this more precise question, The [UK Donkey Sanctuary](https://www.thedonkeysanctuary.org.uk/) carried out a study at 17 mobile de-worming sites in rural Kenya.\n",
    "\n",
    "In terms of scope ({numref}`Chapter %s <ch:data_scope>`), the target population is the donkey population in rural Kenya. The access frame is the set of all donkeys that were brought into the de-worming sites. The sample consists of all donkeys brought to these sites between July 23 and August 11, 2010, with a few caveats. If there were too many donkeys to measure at a site, the scientists selected a subset of donkeys to measure. And, any pregnant or visibly diseased donkeys were excluded from the study.\n",
    "\n",
    "To avoid accidentally weighing a donkey twice, each donkey was marked after weighing.\n",
    "To quantify the measurement error and assess repeatability of the weighing process, 31 donkeys were measured twice, without the staff knowing that a donkey was being reweighed ({numref}`Chapter %s <ch:data_scope>`).  \n",
    "\n",
    "With this sampling process in mind, potential sources of bias for this data include: \n",
    "\n",
    "coverage bias\n",
    ": the 17 sites were located in the regions surrounding the Yatta district in eastern Kenya and the Naivasha district in the Rift Valley. \n",
    "\n",
    "selection bias\n",
    ": only donkeys brought to the sanctuary were enrolled in the study, and when there were too many donkeys at a site, a non-random sample was selected.\n",
    "\n",
    "measurement bias\n",
    ": in addition to measurement error, the scale might have a bias. Ideally, the scale(s) would be calibrated before and after use at a site ({numref}`Chapter %s <ch:pa>`). \n",
    "\n",
    "Despite these potential sources of bias, the access frame seems reasonable for accessing donkeys from rural areas in Kenya that have owners looking after the health of their animals. \n",
    "\n",
    "Our next step is to clean the data. "
   ]
  },
  {
   "cell_type": "code",
   "execution_count": null,
   "metadata": {},
   "outputs": [],
   "source": []
  }
 ],
 "metadata": {
  "celltoolbar": "Tags",
  "kernelspec": {
   "display_name": "Python 3",
   "language": "python",
   "name": "python3"
  },
  "language_info": {
   "codemirror_mode": {
    "name": "ipython",
    "version": 3
   },
   "file_extension": ".py",
   "mimetype": "text/x-python",
   "name": "python",
   "nbconvert_exporter": "python",
   "pygments_lexer": "ipython3",
   "version": "3.9.4"
  }
 },
 "nbformat": 4,
 "nbformat_minor": 4
}
