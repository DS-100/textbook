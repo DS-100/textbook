{
 "cells": [
  {
   "cell_type": "code",
   "execution_count": null,
   "metadata": {
    "tags": [
     "remove-cell"
    ]
   },
   "outputs": [],
   "source": [
    "# Reference: https://jupyterbook.org/interactive/hiding.html\n",
    "# Use {hide, remove}-{input, output, cell} tags to hiding content\n",
    "\n",
    "import sys\n",
    "import os\n",
    "if not any(path.endswith('textbook') for path in sys.path):\n",
    "    sys.path.append(os.path.abspath('../../..'))\n",
    "from textbook_utils import *"
   ]
  },
  {
   "cell_type": "markdown",
   "metadata": {},
   "source": [
    "# Donkey Study Question and Scope "
   ]
  },
  {
   "cell_type": "markdown",
   "metadata": {},
   "source": [
    "The question motivating the donkey study is: How to estimate the weight of a donkey? More precisely, we want a simple method that a vet can use while in the countryside where there are no scales.\n",
    "\n",
    "To address this question, The UK Donkey Sanctuary[^donkeysanc], carried out a study at 17 mobile de-worming sites in rural Kenya. In terms of scope ({numref}`Chapter %s <ch:scope>`), the target population is the donkey population in rural Kenya. The access frame is the de-worming sites. Data was taken on the donkeys brought to the sites between July 23 and August 11, 2010. The sample consists of all donkeys that were brought to the sites, where possible, and in the case where there were too many donkeys at a site to measure, a subset was selected. Any pregnant or visibly diseased donkey was excluded from the study, and donkeys were marked after weighing so they were not accidentally weighted twice. \n",
    "\n",
    "Potential sources of bias include: \n",
    "+ coverage bias -- the 17 sites were located in the regions surrounding the Yatta district in eastern Kenya and the Naivasha district in the Rift Valley. \n",
    "+ selection bias -- only donkeys brought to the sanctuary were enrolled in the study, and when there were too many donkeys at a site, a non-random sample was selected.\n",
    "\n",
    "To address the possibility of measurement bias and assess repeatability of the weighing process, 31 donkeys were measured twice, without the staff knowing that a donkey was being reweighed ({numref}`Chapter %s <ch:scope>`). \n",
    "\n",
    "\n",
    "[^donkeysanc]: https://www.thedonkeysanctuary.org.uk/"
   ]
  }
 ],
 "metadata": {
  "celltoolbar": "Tags",
  "kernelspec": {
   "display_name": "Python 3",
   "language": "python",
   "name": "python3"
  },
  "language_info": {
   "codemirror_mode": {
    "name": "ipython",
    "version": 3
   },
   "file_extension": ".py",
   "mimetype": "text/x-python",
   "name": "python",
   "nbconvert_exporter": "python",
   "pygments_lexer": "ipython3",
   "version": "3.9.4"
  }
 },
 "nbformat": 4,
 "nbformat_minor": 4
}
