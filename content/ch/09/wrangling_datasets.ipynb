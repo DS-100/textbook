{
 "cells": [
  {
   "cell_type": "code",
   "execution_count": null,
   "metadata": {
    "tags": [
     "remove-cell"
    ]
   },
   "outputs": [],
   "source": [
    "# Reference: https://jupyterbook.org/interactive/hiding.html\n",
    "# Use {hide, remove}-{input, output, cell} tags to hiding content\n",
    "\n",
    "import numpy as np\n",
    "import matplotlib.pyplot as plt\n",
    "import pandas as pd\n",
    "import seaborn as sns\n",
    "%matplotlib inline\n",
    "import ipywidgets as widgets\n",
    "from ipywidgets import interact, interactive, fixed, interact_manual\n",
    "from IPython.display import display\n",
    "import myst_nb\n",
    "\n",
    "sns.set()\n",
    "sns.set_context('talk')\n",
    "np.set_printoptions(threshold=20, precision=2, suppress=True)\n",
    "pd.set_option('display.max_rows', 7)\n",
    "pd.set_option('display.max_columns', 8)\n",
    "pd.set_option('precision', 2)\n",
    "# This option stops scientific notation for pandas\n",
    "# pd.set_option('display.float_format', '{:.2f}'.format)\n",
    "\n",
    "def display_df(df, rows=pd.options.display.max_rows,\n",
    "               cols=pd.options.display.max_columns):\n",
    "    with pd.option_context('display.max_rows', rows,\n",
    "                           'display.max_columns', cols):\n",
    "        display(df)"
   ]
  },
  {
   "cell_type": "markdown",
   "metadata": {},
   "source": [
    "# The Three Datasets Used in This Chapter"
   ]
  },
  {
   "cell_type": "markdown",
   "metadata": {},
   "source": [
    "In this chapter, we'll perform data wrangling on three different datasets.\n",
    "These include a scientific study (measurements from Mauna Loa Observatory),\n",
    "government survey (drug abuse survey), and administrative data (San Francisco\n",
    "restaurant scores). As we'll see from these datasets, data cleaning and\n",
    "preparation can be quite different depending the data. Below, we give an\n",
    "overview of why and how these data were collected and their scope."
   ]
  },
  {
   "cell_type": "markdown",
   "metadata": {},
   "source": [
    "## Carbon Dioxide Measured at Mauna Loa Observatory\n",
    "\n",
    "Carbon dioxide (CO2) is an important signal of global warming. CO2 is a gas\n",
    "that traps heat in the earth's atmosphere. Without it, earth would be\n",
    "impossibly cold, but increases in CO2 also drives global warming and threatens\n",
    "our planet's climate. CO2 concentrations have been monitored at Mauna Loa\n",
    "Observatory since 1958, and these data offer a crucial benchmark for\n",
    "understanding the threat of global warming.   \n"
   ]
  },
  {
   "cell_type": "markdown",
   "metadata": {},
   "source": [
    "Located on the Big Island of Hawaii, Mauna Loa is the largest active volcano in\n",
    "the world; it rises 4km above sea level and 17km above its base.  The\n",
    "observatory (see Figure XX) sits at 3.4km in elevation, above the inversion\n",
    "layer where local CO2 effects may be present.  Given its location, far from any\n",
    "continent, and its elevation, air samples taken at the observatory are\n",
    "uncontaminated and representative of the central pacific atmosphere. Daily\n",
    "measurements of atmospheric carbon dioxide have been taken at Mauna Loa since\n",
    "1958, making it the longest continuous record of CO2 in the world. These\n",
    "measurements are collected by the Global Monitoring Laboratory (GML) of the US\n",
    "National Oceanic and Atmospheric Administration (NOAA), and their recordings\n",
    "are made available at the NOAA website [^noaa].\n",
    "\n",
    "[^noaa]: https://www.esrl.noaa.gov/gmd/ccgg/trends/"
   ]
  },
  {
   "cell_type": "markdown",
   "metadata": {},
   "source": [
    "```{figure} figures/MaunaLoaObservatory.png\n",
    "---\n",
    "name: MaunaLoaObservatory\n",
    "---\n",
    "\n",
    "The Mauna Loa observatory makes daily measurements of CO2; we'll analyze its\n",
    "recordings in this chapter.\n",
    "```"
   ]
  },
  {
   "cell_type": "markdown",
   "metadata": {},
   "source": [
    "The GML routinely calibrates the monitoring equipment and estimates instrument\n",
    "bias. For example, multiple times a day, gases with known and stable CO2\n",
    "concentrations are measured and used to calibrate the instrument. In addition,\n",
    "samples of air are taken independently each week and sent to NOAA headquarters\n",
    "to be measured along with air samples from around the world to estimate the\n",
    "bias of the instrument.  The bias has been consistently measured at about 0.2\n",
    "ppm, which is small (0.05%) in comparison to the typical measurements of about\n",
    "400 ppm. More details of the instrumentation are available at the \n",
    "NOAA website [^about_co2].\n",
    "\n",
    "[^about_co2]: https://gml.noaa.gov/ccgg/about/co2_measurements.html"
   ]
  },
  {
   "cell_type": "markdown",
   "metadata": {},
   "source": [
    "## Drug Abuse Warning Network (DAWN) Survey\n",
    "\n",
    "DAWN is a national healthcare survey that monitors trends in drug abuse and the\n",
    "emergence of new substances of abuse. The survey also aims to estimate the\n",
    "impact of drug abuse on the country's health care system and improve how\n",
    "emergency departments monitor substance-abuse crises. DAWN is administered by\n",
    "the U.S. Department of Health and Human Services' Substance Abuse and Medical\n",
    "Health Services Administration (SAMHSA). DAWN was administered annually from\n",
    "1998 through 2011. Due in part to the opioid epidemic, DAWN began again in\n",
    "2018. We examine the 2011 data that have been made available through the SAMHSA\n",
    "Data Archive [^SAMHSA].\n",
    "\n",
    "\n",
    "[^SAMHDA]: https://www.datafiles.samhsa.gov/study-series/drug-abuse-warning-network-dawn-nid13516\n"
   ]
  },
  {
   "cell_type": "markdown",
   "metadata": {},
   "source": [
    "The target population of the survey is all emergency room visits in the U.S.\n",
    "These visits are accessed through a frame of emergency rooms in hospitals (and\n",
    "their records). Hospitals are selected for the survey through probability\n",
    "sampling [^prob_sampling], and all drug-related visits to the hospital's\n",
    "emergency room are included in the survey. All types of drug-related visits are\n",
    "included, such as drug misuse, abuse, accidental ingestion, suicide attempts,\n",
    "malicious poisonings, and adverse reactions.  For each visit, up to 16 drugs\n",
    "can be recorded, including illegal drugs, prescription drugs, and\n",
    "over-the-counter medications. \n",
    "\n",
    "[^prob_sampling]: We cover probability sampling in Section XX."
   ]
  },
  {
   "cell_type": "markdown",
   "metadata": {},
   "source": [
    "## San Francisco Restaurant Food Safety\n",
    "\n",
    "The San Francisco Department of Public Health routinely makes unannounced\n",
    "visits to restaurants and inspects them for food safety.  The inspector\n",
    "calculates a score based on the violations observed and provides descriptions\n",
    "of the violations that were found.  These food safety scores are available\n",
    "through the city's Open Data initiative, called Data SF.  DataSF is one example\n",
    "of city governments around the world making their data publicly available; the\n",
    "DataSF mission is to \"empower the use of data in decision making and service\n",
    "delivery\" with the goal of improving the quality of life and work for\n",
    "residents, employers, employees and visitors.\n"
   ]
  },
  {
   "cell_type": "markdown",
   "metadata": {},
   "source": [
    "The City of San Francisco requires restaurants to publicly display their scores\n",
    "(see {ref}`scoreCard` below for an example placard). Data from the inspections\n",
    "offer an example of multiple datasets with different structures and fields. One\n",
    "dataset contains summary results of inspections, another provides details about\n",
    "violations found during an inspection, and a third contains information about\n",
    "the restaurants. These inspections occurred between 2013 and 2016, some\n",
    "restaurants have multiple inspections in a year, and not all of the 7000+\n",
    "restaurants are inspected annually. The violations include serious problems\n",
    "related to the transmission of food borne illnesses and contamination of\n",
    "food-contact surfaces, and minor issues such as not properly displaying the\n",
    "inspection placard.     "
   ]
  },
  {
   "cell_type": "markdown",
   "metadata": {},
   "source": [
    "```{figure} figures/scoreCard.png\n",
    "---\n",
    "name: scoreCard\n",
    "---\n",
    "\n",
    "An example food safety scorecard given to a restaurant in San Francisco. \n",
    "Restaurants receive a score between 0-100.\n",
    "```"
   ]
  },
  {
   "cell_type": "markdown",
   "metadata": {},
   "source": [
    "Note that in 2020, the City gives restaurants color-coded placards indicating\n",
    "whether the restaurant passed (green), conditionally passed (yellow), or failed\n",
    "(red) the inspection rather than a scorecard that displays a number. However,\n",
    "the actual inspection scores and violations for restaurants are still available\n",
    "through DataSF."
   ]
  }
 ],
 "metadata": {
  "celltoolbar": "Tags",
  "kernelspec": {
   "display_name": "Python 3",
   "language": "python",
   "name": "python3"
  }
 },
 "nbformat": 4,
 "nbformat_minor": 4
}
