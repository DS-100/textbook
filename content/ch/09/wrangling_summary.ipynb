{
 "cells": [
  {
   "cell_type": "code",
   "execution_count": 107,
   "metadata": {
    "tags": [
     "remove-cell"
    ]
   },
   "outputs": [],
   "source": [
    "# Reference: https://jupyterbook.org/interactive/hiding.html\n",
    "# Use {hide, remove}-{input, output, cell} tags to hiding content\n",
    "\n",
    "import numpy as np\n",
    "import matplotlib.pyplot as plt\n",
    "import pandas as pd\n",
    "import seaborn as sns\n",
    "%matplotlib inline\n",
    "import ipywidgets as widgets\n",
    "from ipywidgets import interact, interactive, fixed, interact_manual\n",
    "from IPython.display import display\n",
    "import myst_nb\n",
    "\n",
    "sns.set()\n",
    "sns.set_context('talk')\n",
    "np.set_printoptions(threshold=20, precision=2, suppress=True)\n",
    "pd.set_option('display.max_rows', 7)\n",
    "pd.set_option('display.max_columns', 8)\n",
    "pd.set_option('precision', 2)\n",
    "# This option stops scientific notation for pandas\n",
    "# pd.set_option('display.float_format', '{:.2f}'.format)\n",
    "\n",
    "def display_df(df, rows=pd.options.display.max_rows,\n",
    "               cols=pd.options.display.max_columns):\n",
    "    with pd.option_context('display.max_rows', rows,\n",
    "                           'display.max_columns', cols):\n",
    "        display(df)"
   ]
  },
  {
   "cell_type": "markdown",
   "metadata": {},
   "source": [
    "(ch:wrangling_summary)=\n",
    "# Summary"
   ]
  },
  {
   "cell_type": "markdown",
   "metadata": {},
   "source": [
    "Data wrangling is an essential part of data analysis. Without it, we risk\n",
    "overlooking problems in data that can have major consequences for future\n",
    "analysis. This chapter covered several important data wrangling steps that we\n",
    "use in nearly every analysis.\n",
    "\n",
    "First, we covered the initial steps of reading in data into Python. We\n",
    "introduced different types of file formats and wrote code that can read in data\n",
    "from these formats. The shell and command-line tools let us check whether our\n",
    "dataset is small enough to read directly into `pandas`, and whether there were\n",
    "potential problems in the dataset encoding. Understanding granularity gave us\n",
    "insight into what kinds of joins we want to perform and whether we should\n",
    "aggregate our data.\n",
    "\n",
    "Next, we talked about what to look for in a dataset after we've read it into a\n",
    "dataframe. Quality checks help us spot problems in the data. Missing values are\n",
    "an especially important and common issue, and we provided guidelines on \n",
    "imputing missing values. We transform data in order to make them easier to\n",
    "analyze, and we talked about transformations the modify the structure of a\n",
    "dataframe.\n",
    "\n",
    "We illustrated these techniques through two sections with more detailed\n",
    "examples of data wrangling, one on the CO2 data and one on the restaurant\n",
    "safety data. Together, the data wrangling techniques in this chapter prepare\n",
    "the data for exploratory data analysis, the topic of the next chapter."
   ]
  }
 ],
 "metadata": {
  "celltoolbar": "Tags",
  "kernelspec": {
   "display_name": "Python 3",
   "language": "python",
   "name": "python3"
  },
  "language_info": {
   "codemirror_mode": {
    "name": "ipython",
    "version": 3
   },
   "file_extension": ".py",
   "mimetype": "text/x-python",
   "name": "python",
   "nbconvert_exporter": "python",
   "pygments_lexer": "ipython3",
   "version": "3.9.4"
  }
 },
 "nbformat": 4,
 "nbformat_minor": 4
}
