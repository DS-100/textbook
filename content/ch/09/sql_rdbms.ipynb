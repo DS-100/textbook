{
 "cells": [
  {
   "cell_type": "markdown",
   "metadata": {
    "colab_type": "text",
    "id": "11g0cRhWDgdW"
   },
   "source": [
    "## The Relational Model \n",
    "\n",
    "A **database** is an organized collection of data. In the past, data was stored in specialized data structures that were designed for specific tasks. For example, airlines might record flight bookings in a different format than a bank managing an account ledger. In 1969, Ted Codd introduced the relational model as a general method of storing data. Data is stored in two-dimensional tables called **relations**, consisting of individual observations in each row (commonly referred to as **tuples**). Each tuple is a structured data item that represents the relationship between certain **attributes** (columns). Each attribute of a relation has a name and data type.\n",
    "\n",
    "Consider the `purchases` relation below:"
   ]
  },
  {
   "cell_type": "markdown",
   "metadata": {
    "colab_type": "text",
    "id": "lUWBvrUoDgdZ"
   },
   "source": [
    "<header style=\"text-align:center\"><strong>purchases</strong></header>\n",
    "<table border=\"1\" class=\"DataFrame\">\n",
    "    <thead>\n",
    "        <tr>\n",
    "            <td><b>name</b></td>\n",
    "            <td><b>product</b></td>\n",
    "            <td><b>retailer</b></td>\n",
    "            <td><b>date purchased</b></td>\n",
    "        </tr>\n",
    "    </thead>\n",
    "    <tr>\n",
    "        <td>Samantha</td>\n",
    "        <td>iPod</td>\n",
    "        <td>Best Buy</td>\n",
    "        <td>June 3, 2016</td>\n",
    "    </tr>\n",
    "    <tr>\n",
    "        <td>Timothy</td>\n",
    "        <td>Chromebook</td>\n",
    "        <td>Amazon</td>\n",
    "        <td>July 8, 2016</td>\n",
    "    </tr>\n",
    "    <tr>\n",
    "        <td>Jason</td>\n",
    "        <td>Surface Pro</td>\n",
    "        <td>Target</td>\n",
    "        <td>October 2, 2016</td>\n",
    "    </tr>\n",
    "</table>"
   ]
  },
  {
   "cell_type": "markdown",
   "metadata": {
    "colab_type": "text",
    "id": "4c6jQUngDgdZ"
   },
   "source": [
    "In `purchases`, each tuple represents the relationship between the `name`, `product`, `retailer`, and `date purchased` attributes. \n",
    "\n",
    "A relation's *schema* contains its column names, data types, and constraints. For example, the schema of the `purchases` table states that the columns are `name`, `product`, `retailer`, and `date purchased`; it also states that each column contains text.\n",
    "\n",
    "The following `prices` relation shows the price of certain gadgets at a few retail stores:"
   ]
  },
  {
   "cell_type": "markdown",
   "metadata": {
    "colab_type": "text",
    "id": "3pm7rk5xDgdb"
   },
   "source": [
    "<header style=\"text-align:center\"><strong>prices</strong></header>\n",
    "<table border=\"1\" class=\"DataFrame\">\n",
    "    <thead>\n",
    "        <tr>\n",
    "            <td><b>retailer</b></td>\n",
    "            <td><b>product</b></td>\n",
    "            <td><b>price</b></td>\n",
    "        </tr>\n",
    "    </thead>\n",
    "    <tr>\n",
    "        <td>Best Buy</td>\n",
    "        <td>Galaxy S9</td>\n",
    "        <td>719.00</td>\n",
    "    </tr>\n",
    "    <tr>\n",
    "        <td>Best Buy</td>\n",
    "        <td>iPod</td>\n",
    "        <td>200.00</td>\n",
    "    </tr>\n",
    "    <tr>\n",
    "        <td>Amazon</td>\n",
    "        <td>iPad</td>\n",
    "        <td>450.00</td>\n",
    "    </tr>\n",
    "    <tr>\n",
    "        <td>Amazon</td>\n",
    "        <td>Battery pack</td>\n",
    "        <td>24.87</td>\n",
    "    </tr>\n",
    "    <tr>\n",
    "        <td>Amazon</td>\n",
    "        <td>Chromebook</td>\n",
    "        <td>249.99</td>\n",
    "    </tr>\n",
    "    <tr>\n",
    "        <td>Target</td>\n",
    "        <td>iPod</td>\n",
    "        <td>215.00</td>\n",
    "    </tr>\n",
    "    <tr>\n",
    "        <td>Target</td>\n",
    "        <td>Surface Pro</td>\n",
    "        <td>799.00</td>\n",
    "    </tr>\n",
    "    <tr>\n",
    "        <td>Target</td>\n",
    "        <td>Google Pixel 2</td>\n",
    "        <td>659.00</td>\n",
    "    </tr>\n",
    "    <tr>\n",
    "        <td>Walmart</td>\n",
    "        <td>Chromebook</td>\n",
    "        <td>238.79</td>\n",
    "    </tr>\n",
    "</table>"
   ]
  },
  {
   "cell_type": "markdown",
   "metadata": {
    "colab_type": "text",
    "id": "-WMLV3OiDgdc"
   },
   "source": [
    "We can then reference both tables simultaneously to determine how much Samantha, Timothy, and Jason paid for their respective gadgets (assuming prices at each store stay constant over time). Together, the two tables form a **relational database**, which is a collection of one or more relations.\n",
    "The schema of the entire database is the set of schemas of the individual relations in the database."
   ]
  },
  {
   "cell_type": "markdown",
   "metadata": {},
   "source": [
    "## Relational Database Management Systems\n",
    "\n",
    "A relational database can be simply described as a set of tables containing rows of individual data entries. A relational database management system (RDBMSs) provides an interface to a relational database. [Oracle](https://www.wikiwand.com/en/Oracle_Database), [MySQL](https://www.wikiwand.com/en/MySQL), and [PostgreSQL](https://www.wikiwand.com/en/PostgreSQL) are three of the most commonly used RDBMSs used in practice today.\n",
    "\n",
    "Relational database management systems give users the ability to add, edit, and remove data from databases. These systems provide several key benefits over using a collection of text files to store data, including:\n",
    "\n",
    "1. Reliable data storage: RDBMSs protect against data corruption from system failures or crashes.\n",
    "1. Performance: RDBMSs often store data more efficiently than text files and have well-developed algorithms for querying data.\n",
    "1. Data management: RDBMSs implement access control, preventing unauthorized users from accessing sensitive datasets.\n",
    "1. Data consistency: RDBMSs can impose constraints on the data entered—for example, that a column `GPA` only contains floats between 0.0 and 4.0.\n",
    "\n",
    "To work with data stored in a RDBMS, we use the SQL programming language."
   ]
  },
  {
   "cell_type": "markdown",
   "metadata": {},
   "source": [
    "## RDBMS vs. pandas\n",
    "\n",
    "How do RDBMSs and the `pandas` Python package differ? First, `pandas` is not concerned about data storage. Although DataFrames can read and write from multiple data formats, `pandas` does not dictate how the data are actually stored on the underlying computer like a RDBMS does. Second, `pandas` primarily provides methods for manipulating data while RDBMSs handle both data storage and data manipulation, making them more suitable for larger datasets. A typical rule of thumb is to use a RDBMS for datasets larger than several gigabytes. Finally, `pandas` requires knowledge of Python in order to use, whereas RDBMSs require knowledge of SQL. Since SQL is simpler to learn than Python, RDBMSs allow less technical users to store and query data, a handy trait."
   ]
  }
 ],
 "metadata": {
  "colab": {
   "collapsed_sections": [],
   "default_view": {},
   "name": "SQL_Syntax.ipynb",
   "provenance": [],
   "version": "0.3.2",
   "views": {}
  },
  "kernelspec": {
   "display_name": "Python 3",
   "language": "python",
   "name": "python3"
  },
  "language_info": {
   "codemirror_mode": {
    "name": "ipython",
    "version": 3
   },
   "file_extension": ".py",
   "mimetype": "text/x-python",
   "name": "python",
   "nbconvert_exporter": "python",
   "pygments_lexer": "ipython3",
   "version": "3.6.5"
  },
  "toc": {
   "nav_menu": {},
   "number_sections": false,
   "sideBar": false,
   "skip_h1_title": false,
   "title_cell": "Table of Contents",
   "title_sidebar": "Contents",
   "toc_cell": true,
   "toc_position": {},
   "toc_section_display": true,
   "toc_window_display": false
  }
 },
 "nbformat": 4,
 "nbformat_minor": 1
}
