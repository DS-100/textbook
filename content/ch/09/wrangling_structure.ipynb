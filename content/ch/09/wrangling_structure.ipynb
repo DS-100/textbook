{
 "cells": [
  {
   "cell_type": "code",
   "execution_count": 18,
   "metadata": {
    "tags": [
     "remove-cell"
    ]
   },
   "outputs": [],
   "source": [
    "# Reference: https://jupyterbook.org/interactive/hiding.html\n",
    "# Use {hide, remove}-{input, output, cell} tags to hiding content\n",
    "\n",
    "import numpy as np\n",
    "import matplotlib.pyplot as plt\n",
    "import pandas as pd\n",
    "import seaborn as sns\n",
    "%matplotlib inline\n",
    "import ipywidgets as widgets\n",
    "from ipywidgets import interact, interactive, fixed, interact_manual\n",
    "from IPython.display import display\n",
    "import myst_nb\n",
    "\n",
    "sns.set()\n",
    "sns.set_context('talk')\n",
    "np.set_printoptions(threshold=20, precision=2, suppress=True)\n",
    "pd.set_option('display.max_rows', 7)\n",
    "pd.set_option('display.max_columns', 8)\n",
    "pd.set_option('precision', 2)\n",
    "# This option stops scientific notation for pandas\n",
    "# pd.set_option('display.float_format', '{:.2f}'.format)\n",
    "\n",
    "def display_df(df, rows=pd.options.display.max_rows,\n",
    "               cols=pd.options.display.max_columns):\n",
    "    with pd.option_context('display.max_rows', rows,\n",
    "                           'display.max_columns', cols):\n",
    "        display(df)\n",
    "        \n",
    "co2 = pd.read_csv('data/co2_mm_mlo.txt', header = None, skiprows = 72, \n",
    "                  sep = '\\s+',\n",
    "                  names = ['Yr', 'Mo', 'DecDate', 'Avg', 'Int', 'Trend', 'days'])\n",
    "co2_NA = co2.replace(-99.99, np.NaN)"
   ]
  },
  {
   "cell_type": "markdown",
   "metadata": {},
   "source": [
    "(ch:wrangling_structure)=\n",
    "# Modify Structure\n",
    "\n",
    "We don't want to struggle with the structure of a data frame every time we analyze our data. The wrangling process often reshapes the data frame in some way to make the analysis easier and more natural. These changes can simply be taking a subset of the rows and/or columns of the table, changing its granularity, and reshaping. The techniques from {numref}`Chapter %s <ch:pandas>` and {numref}`Chapter %s <ch:sql>` are useful here. We describe them briefly and mention the methods in pandas you might use to achieve the new structure.   \n",
    "\n",
    "**Simplify Structure.** If a data frame has many features that are not needed in our analysis then we may want to drop these extraneous columns to make handling the data frame easier. Or, if we want to focus on a particular period of time, geographic area, of xxx, we may want to take a subset of the rows. {numref}`Section %s <ch:pandas_subsetting>` demonstrated the immense flexibility in pandas for taking subsets of rows and columns of a pandas data frame.  In {numref}`Section %s <ch:wrangling_granularity>`, we read into our data frame a small set of features from the hundreds available in the DAWN survey because we were interested in understanding the patterns of type of ER visit by demographics of the patient. Later in {numref}`Section %s <ch:eda_example>`, we restrict our analysis of home sale prices to one year and a few cities in an effort to limit the impact of inflation and to better study the effect of location on sale price. \n",
    "\n",
    "**Adjust Granularity.** In {numref}`Section %s <ch:wrangling_co2>`, we provided an example where we aggregated monthly averages to a yearly average in order to visualize annual trends. In {numref}`Section %s <ch:wrangling_restaurants>`, we provide another example, where we aggregate violation-level data to the inspection-level so that it can be combined with the inspection scores. In both of these examples, we adjust the granularity of the data frame to work with a coarser granularity by grouping together records and then aggregating values. Recall that tor the CO2 measurements, we grouped the monthly values from the same year, and then aggregated the average CO2 measurements:"
   ]
  },
  {
   "cell_type": "code",
   "execution_count": 19,
   "metadata": {},
   "outputs": [
    {
     "data": {
      "text/plain": [
       "Yr\n",
       "1958    315.33\n",
       "1959    315.97\n",
       "1960    316.91\n",
       "         ...  \n",
       "2017    406.55\n",
       "2018    408.52\n",
       "2019    412.27\n",
       "Name: Avg, Length: 62, dtype: float64"
      ]
     },
     "execution_count": 19,
     "metadata": {},
     "output_type": "execute_result"
    }
   ],
   "source": [
    "co2_NA.groupby('Yr')['Avg'].mean()"
   ]
  },
  {
   "cell_type": "markdown",
   "metadata": {},
   "source": [
    "Other common aggregations are: the size of the group; the sum, minimum, and maximum value in a group; and the first or last value in a group. The details of adjusting granularity of pandas data frames can be found in {numref}`Section %s <ch:pandas_aggregating>`, including how to group by multiple column values.\n",
    "\n",
    "At times a dataset might have mixed granularity, where records are at different levels of detail. A common case is in data provided by government agencies where data at the county and state levels are included in the same file. When this happens, we usually want to split the data frame into two, one at the county level and the other at the state level. This makes a county level and state level analyses much easier, even feasible, to perform.\n",
    "\n",
    "**Reshape.** Data shared as pivot tables (See {numref}`Section %s <ch:pandas_aggregating>`). These **\"wide\"** tables have data values as column names, and are often difficult to use in analysis. We may need to reshape them into a **\"long\"** form. {numref}`Figure %s <Wide_Long>` gives a heuristic of what is meant by wide and long forms."
   ]
  },
  {
   "cell_type": "markdown",
   "metadata": {},
   "source": [
    "```{figure} figures/wide_long.png\n",
    "---\n",
    "name: Wide_Long\n",
    "---\n",
    "\n",
    "Place Holder for Wide - Long graphic. \n",
    "```"
   ]
  },
  {
   "cell_type": "markdown",
   "metadata": {},
   "source": [
    ":::{note}\n",
    "\n",
    "**Note**: The long form is often referred to as **tidy data**. [REFERENCE]\n",
    "\n",
    ":::"
   ]
  },
  {
   "cell_type": "markdown",
   "metadata": {},
   "source": [
    "We reshaped the CO2 data into a wide data frame that is like a pivot table in shape. There is a column for each month and a row for each year."
   ]
  },
  {
   "cell_type": "code",
   "execution_count": 20,
   "metadata": {},
   "outputs": [
    {
     "data": {
      "text/html": [
       "<div>\n",
       "<style scoped>\n",
       "    .dataframe tbody tr th:only-of-type {\n",
       "        vertical-align: middle;\n",
       "    }\n",
       "\n",
       "    .dataframe tbody tr th {\n",
       "        vertical-align: top;\n",
       "    }\n",
       "\n",
       "    .dataframe thead th {\n",
       "        text-align: right;\n",
       "    }\n",
       "</style>\n",
       "<table border=\"1\" class=\"dataframe\">\n",
       "  <thead>\n",
       "    <tr style=\"text-align: right;\">\n",
       "      <th>Mo</th>\n",
       "      <th>Yr</th>\n",
       "      <th>1</th>\n",
       "      <th>2</th>\n",
       "      <th>3</th>\n",
       "      <th>...</th>\n",
       "      <th>9</th>\n",
       "      <th>10</th>\n",
       "      <th>11</th>\n",
       "      <th>12</th>\n",
       "    </tr>\n",
       "  </thead>\n",
       "  <tbody>\n",
       "    <tr>\n",
       "      <th>0</th>\n",
       "      <td>1959</td>\n",
       "      <td>315.62</td>\n",
       "      <td>316.38</td>\n",
       "      <td>316.71</td>\n",
       "      <td>...</td>\n",
       "      <td>313.84</td>\n",
       "      <td>313.26</td>\n",
       "      <td>314.8</td>\n",
       "      <td>315.58</td>\n",
       "    </tr>\n",
       "    <tr>\n",
       "      <th>1</th>\n",
       "      <td>1960</td>\n",
       "      <td>316.43</td>\n",
       "      <td>316.97</td>\n",
       "      <td>317.58</td>\n",
       "      <td>...</td>\n",
       "      <td>314.16</td>\n",
       "      <td>313.83</td>\n",
       "      <td>315.0</td>\n",
       "      <td>316.19</td>\n",
       "    </tr>\n",
       "  </tbody>\n",
       "</table>\n",
       "<p>2 rows × 13 columns</p>\n",
       "</div>"
      ],
      "text/plain": [
       "Mo    Yr       1       2       3  ...       9      10     11      12\n",
       "0   1959  315.62  316.38  316.71  ...  313.84  313.26  314.8  315.58\n",
       "1   1960  316.43  316.97  317.58  ...  314.16  313.83  315.0  316.19\n",
       "\n",
       "[2 rows x 13 columns]"
      ]
     },
     "execution_count": 20,
     "metadata": {},
     "output_type": "execute_result"
    }
   ],
   "source": [
    "co2_pivot = pd.pivot_table(\n",
    "    co2[10:34],\n",
    "    index='Yr',   # Column to turn into new index\n",
    "    columns='Mo',  # Column to turn into new columns\n",
    "    values='Avg', # Column to aggregate for values\n",
    "    aggfunc=sum)    # Aggregation function\n",
    "\n",
    "co2_wide = co2_pivot.reset_index()\n",
    "\n",
    "co2_wide"
   ]
  },
  {
   "cell_type": "markdown",
   "metadata": {},
   "source": [
    "The column headings are months, and the cell values in the grid are the CO2 monthly averages. We can turn this data frame back into a \"tall\" data frame, where the column names become a feature, called month, and the values in the grid are reorganized into a second feature, called average.  "
   ]
  },
  {
   "cell_type": "code",
   "execution_count": 21,
   "metadata": {},
   "outputs": [
    {
     "data": {
      "text/html": [
       "<div>\n",
       "<style scoped>\n",
       "    .dataframe tbody tr th:only-of-type {\n",
       "        vertical-align: middle;\n",
       "    }\n",
       "\n",
       "    .dataframe tbody tr th {\n",
       "        vertical-align: top;\n",
       "    }\n",
       "\n",
       "    .dataframe thead th {\n",
       "        text-align: right;\n",
       "    }\n",
       "</style>\n",
       "<table border=\"1\" class=\"dataframe\">\n",
       "  <thead>\n",
       "    <tr style=\"text-align: right;\">\n",
       "      <th></th>\n",
       "      <th>Yr</th>\n",
       "      <th>month</th>\n",
       "      <th>average</th>\n",
       "    </tr>\n",
       "  </thead>\n",
       "  <tbody>\n",
       "    <tr>\n",
       "      <th>0</th>\n",
       "      <td>1959</td>\n",
       "      <td>1</td>\n",
       "      <td>315.62</td>\n",
       "    </tr>\n",
       "    <tr>\n",
       "      <th>1</th>\n",
       "      <td>1960</td>\n",
       "      <td>1</td>\n",
       "      <td>316.43</td>\n",
       "    </tr>\n",
       "    <tr>\n",
       "      <th>2</th>\n",
       "      <td>1959</td>\n",
       "      <td>2</td>\n",
       "      <td>316.38</td>\n",
       "    </tr>\n",
       "    <tr>\n",
       "      <th>...</th>\n",
       "      <td>...</td>\n",
       "      <td>...</td>\n",
       "      <td>...</td>\n",
       "    </tr>\n",
       "    <tr>\n",
       "      <th>21</th>\n",
       "      <td>1960</td>\n",
       "      <td>11</td>\n",
       "      <td>315.00</td>\n",
       "    </tr>\n",
       "    <tr>\n",
       "      <th>22</th>\n",
       "      <td>1959</td>\n",
       "      <td>12</td>\n",
       "      <td>315.58</td>\n",
       "    </tr>\n",
       "    <tr>\n",
       "      <th>23</th>\n",
       "      <td>1960</td>\n",
       "      <td>12</td>\n",
       "      <td>316.19</td>\n",
       "    </tr>\n",
       "  </tbody>\n",
       "</table>\n",
       "<p>24 rows × 3 columns</p>\n",
       "</div>"
      ],
      "text/plain": [
       "      Yr month  average\n",
       "0   1959     1   315.62\n",
       "1   1960     1   316.43\n",
       "2   1959     2   316.38\n",
       "..   ...   ...      ...\n",
       "21  1960    11   315.00\n",
       "22  1959    12   315.58\n",
       "23  1960    12   316.19\n",
       "\n",
       "[24 rows x 3 columns]"
      ]
     },
     "execution_count": 21,
     "metadata": {},
     "output_type": "execute_result"
    }
   ],
   "source": [
    "co2_long = co2_wide.melt(id_vars=['Yr'], var_name='month', value_name='average')\n",
    "co2_long"
   ]
  },
  {
   "cell_type": "markdown",
   "metadata": {},
   "source": [
    "Notice that the data has been recaptured in its original shape, although the rows are not in their original order. This reshaping, enables us, for example, to examine changes over time. "
   ]
  },
  {
   "cell_type": "code",
   "execution_count": null,
   "metadata": {},
   "outputs": [],
   "source": []
  }
 ],
 "metadata": {
  "celltoolbar": "Tags",
  "kernelspec": {
   "display_name": "Python 3",
   "language": "python",
   "name": "python3"
  },
  "language_info": {
   "codemirror_mode": {
    "name": "ipython",
    "version": 3
   },
   "file_extension": ".py",
   "mimetype": "text/x-python",
   "name": "python",
   "nbconvert_exporter": "python",
   "pygments_lexer": "ipython3",
   "version": "3.9.4"
  }
 },
 "nbformat": 4,
 "nbformat_minor": 4
}
