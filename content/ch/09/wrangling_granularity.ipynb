{
 "cells": [
  {
   "cell_type": "code",
   "execution_count": 1,
   "metadata": {
    "tags": [
     "remove-cell"
    ]
   },
   "outputs": [],
   "source": [
    "# Reference: https://jupyterbook.org/interactive/hiding.html\n",
    "# Use {hide, remove}-{input, output, cell} tags to hiding content\n",
    "\n",
    "import numpy as np\n",
    "import matplotlib.pyplot as plt\n",
    "import pandas as pd\n",
    "import seaborn as sns\n",
    "%matplotlib inline\n",
    "import ipywidgets as widgets\n",
    "from ipywidgets import interact, interactive, fixed, interact_manual\n",
    "from IPython.display import display\n",
    "import myst_nb\n",
    "\n",
    "sns.set()\n",
    "sns.set_context('talk')\n",
    "np.set_printoptions(threshold=20, precision=2, suppress=True)\n",
    "pd.set_option('display.max_rows', 7)\n",
    "pd.set_option('display.max_columns', 8)\n",
    "pd.set_option('precision', 2)\n",
    "# This option stops scientific notation for pandas\n",
    "# pd.set_option('display.float_format', '{:.2f}'.format)\n",
    "\n",
    "def display_df(df, rows=pd.options.display.max_rows,\n",
    "               cols=pd.options.display.max_columns):\n",
    "    with pd.option_context('display.max_rows', rows,\n",
    "                           'display.max_columns', cols):\n",
    "        display(df)\n",
    "        \n",
    "# businesses\n",
    "bus = pd.read_csv('data/businesses.csv', encoding='ISO-8859-1')\n",
    "\n",
    "# inspections\n",
    "insp = pd.read_csv(\"data/inspections.csv\")\n",
    "\n",
    "# violations\n",
    "viol = pd.read_csv(\"data/violations.csv\")"
   ]
  },
  {
   "cell_type": "markdown",
   "metadata": {},
   "source": [
    "(ch:wrangling_granularity)=\n",
    "# Table Shape and Granularity\n"
   ]
  },
  {
   "cell_type": "markdown",
   "metadata": {},
   "source": [
    "In this section, we'll work with the San Francisco food safety datasets."
   ]
  },
  {
   "cell_type": "markdown",
   "metadata": {},
   "source": [
    "As described earlier, we refer to a dataset's **structure** as a mental\n",
    "representation of the data, and in particular, we represent data that has a\n",
    "**table** structure by arranging data values in rows and columns. For example,\n",
    "we've seen that the dataframe of San Francisco restaurants\n",
    "has 6406 rows and 9 columns."
   ]
  },
  {
   "cell_type": "code",
   "execution_count": 2,
   "metadata": {},
   "outputs": [
    {
     "data": {
      "text/plain": [
       "(6406, 9)"
      ]
     },
     "execution_count": 2,
     "metadata": {},
     "output_type": "execute_result"
    }
   ],
   "source": [
    "bus.shape"
   ]
  },
  {
   "cell_type": "markdown",
   "metadata": {},
   "source": [
    "But, what does a row of the table represent? The answer to this question is\n",
    "what we refer to as the **granularity** of the table. Simply looking at the\n",
    "dataframe, we get the impression that each row/record represents a single\n",
    "restaurant/business."
   ]
  },
  {
   "cell_type": "code",
   "execution_count": 3,
   "metadata": {},
   "outputs": [
    {
     "data": {
      "text/html": [
       "<div>\n",
       "<style scoped>\n",
       "    .dataframe tbody tr th:only-of-type {\n",
       "        vertical-align: middle;\n",
       "    }\n",
       "\n",
       "    .dataframe tbody tr th {\n",
       "        vertical-align: top;\n",
       "    }\n",
       "\n",
       "    .dataframe thead th {\n",
       "        text-align: right;\n",
       "    }\n",
       "</style>\n",
       "<table border=\"1\" class=\"dataframe\">\n",
       "  <thead>\n",
       "    <tr style=\"text-align: right;\">\n",
       "      <th></th>\n",
       "      <th>business_id</th>\n",
       "      <th>name</th>\n",
       "      <th>address</th>\n",
       "      <th>city</th>\n",
       "      <th>...</th>\n",
       "      <th>postal_code</th>\n",
       "      <th>latitude</th>\n",
       "      <th>longitude</th>\n",
       "      <th>phone_number</th>\n",
       "    </tr>\n",
       "  </thead>\n",
       "  <tbody>\n",
       "    <tr>\n",
       "      <th>0</th>\n",
       "      <td>19</td>\n",
       "      <td>NRGIZE LIFESTYLE CAFE</td>\n",
       "      <td>1200 VAN NESS AVE, 3RD FLOOR</td>\n",
       "      <td>San Francisco</td>\n",
       "      <td>...</td>\n",
       "      <td>94109</td>\n",
       "      <td>37.79</td>\n",
       "      <td>-122.42</td>\n",
       "      <td>+14157763262</td>\n",
       "    </tr>\n",
       "    <tr>\n",
       "      <th>1</th>\n",
       "      <td>24</td>\n",
       "      <td>OMNI S.F. HOTEL - 2ND FLOOR PANTRY</td>\n",
       "      <td>500 CALIFORNIA ST, 2ND  FLOOR</td>\n",
       "      <td>San Francisco</td>\n",
       "      <td>...</td>\n",
       "      <td>94104</td>\n",
       "      <td>37.79</td>\n",
       "      <td>-122.40</td>\n",
       "      <td>+14156779494</td>\n",
       "    </tr>\n",
       "  </tbody>\n",
       "</table>\n",
       "<p>2 rows × 9 columns</p>\n",
       "</div>"
      ],
      "text/plain": [
       "   business_id                                name  \\\n",
       "0           19               NRGIZE LIFESTYLE CAFE   \n",
       "1           24  OMNI S.F. HOTEL - 2ND FLOOR PANTRY   \n",
       "\n",
       "                         address           city  ... postal_code latitude  \\\n",
       "0   1200 VAN NESS AVE, 3RD FLOOR  San Francisco  ...       94109    37.79   \n",
       "1  500 CALIFORNIA ST, 2ND  FLOOR  San Francisco  ...       94104    37.79   \n",
       "\n",
       "   longitude  phone_number  \n",
       "0    -122.42  +14157763262  \n",
       "1    -122.40  +14156779494  \n",
       "\n",
       "[2 rows x 9 columns]"
      ]
     },
     "execution_count": 3,
     "metadata": {},
     "output_type": "execute_result"
    }
   ],
   "source": [
    "bus.head(2)"
   ]
  },
  {
   "cell_type": "markdown",
   "metadata": {},
   "source": [
    ":::{note}\n",
    "\n",
    "By default, `pandas` restricts its output to only show a few rows and columns\n",
    "at once. To see more possible values, we can ask `pandas` to display more rows\n",
    "and columns,\n",
    "though the output can be verbose if there are many rows to display.\n",
    "\n",
    "In this book, we've defined a function called `display_df` as a shorthand to\n",
    "display more than the default number of rows and columns.\n",
    "\n",
    ":::"
   ]
  },
  {
   "cell_type": "markdown",
   "metadata": {},
   "source": [
    "Is there one record per business in the table? The field `business_id` seems to\n",
    "imply that it is the unique identifier for the business. We can confirm this by\n",
    "checking whether the number of records in bus matches the number of unique\n",
    "values in `business_id`."
   ]
  },
  {
   "cell_type": "code",
   "execution_count": 4,
   "metadata": {},
   "outputs": [
    {
     "name": "stdout",
     "output_type": "stream",
     "text": [
      "Number of records: 6406\n",
      "Number of unique business ids: 6406\n"
     ]
    }
   ],
   "source": [
    "print(\"Number of records:\", len(bus))\n",
    "print(\"Number of unique business ids:\", len(bus['business_id'].unique()))"
   ]
  },
  {
   "cell_type": "markdown",
   "metadata": {},
   "source": [
    "Alternatively, we can count the number of occurrences of each `business_id` in\n",
    "the table and check that they are all 1.\n"
   ]
  },
  {
   "cell_type": "code",
   "execution_count": 5,
   "metadata": {},
   "outputs": [
    {
     "data": {
      "text/plain": [
       "83969    1\n",
       "90801    1\n",
       "37575    1\n",
       "        ..\n",
       "83394    1\n",
       "7617     1\n",
       "2047     1\n",
       "Name: business_id, Length: 6406, dtype: int64"
      ]
     },
     "execution_count": 5,
     "metadata": {},
     "output_type": "execute_result"
    }
   ],
   "source": [
    "# Since value_counts() sorts the counts from largest to smallest, we can see\n",
    "# that all IDs only appear 1 time.\n",
    "bus['business_id'].value_counts()"
   ]
  },
  {
   "cell_type": "markdown",
   "metadata": {},
   "source": [
    "We call `business_id` the **primary key** in the business table. Either\n",
    "approach confirms that `business_id` uniquely identifies each record.\n"
   ]
  },
  {
   "cell_type": "markdown",
   "metadata": {},
   "source": [
    "And what does each column represent? The names of the columns are helpful in\n",
    "identifying the contents: the name, address, city, state, postal code,\n",
    "latitude, longitude, phone number, and zip code of the restaurant. It's a bit\n",
    "odd that one column is for a postal code and another is for a zip code, and the\n",
    "records that we have examined show the exact same values in these two fields.\n",
    "In practice, we\n",
    "will want to check that these column are indeed redundant and\n",
    "possibly remove one of them. \n",
    "This step is left as an exercise to the reader."
   ]
  },
  {
   "cell_type": "markdown",
   "metadata": {},
   "source": [
    "Let's continue the examination of the inspections and violations data frames\n",
    "and find their granularity."
   ]
  },
  {
   "cell_type": "markdown",
   "metadata": {},
   "source": [
    "## Granularity of Restaurant Inspections and Violations"
   ]
  },
  {
   "cell_type": "markdown",
   "metadata": {},
   "source": [
    "Now, let's look at the data for restaurant inspections.\n",
    "We notice that it also contains a field called `business_id`,\n",
    "but there are duplicate values of the ID."
   ]
  },
  {
   "cell_type": "code",
   "execution_count": 44,
   "metadata": {},
   "outputs": [
    {
     "data": {
      "text/html": [
       "<div>\n",
       "<style scoped>\n",
       "    .dataframe tbody tr th:only-of-type {\n",
       "        vertical-align: middle;\n",
       "    }\n",
       "\n",
       "    .dataframe tbody tr th {\n",
       "        vertical-align: top;\n",
       "    }\n",
       "\n",
       "    .dataframe thead th {\n",
       "        text-align: right;\n",
       "    }\n",
       "</style>\n",
       "<table border=\"1\" class=\"dataframe\">\n",
       "  <thead>\n",
       "    <tr style=\"text-align: right;\">\n",
       "      <th></th>\n",
       "      <th>business_id</th>\n",
       "      <th>score</th>\n",
       "      <th>date</th>\n",
       "      <th>type</th>\n",
       "    </tr>\n",
       "  </thead>\n",
       "  <tbody>\n",
       "    <tr>\n",
       "      <th>0</th>\n",
       "      <td>19</td>\n",
       "      <td>94</td>\n",
       "      <td>20160513</td>\n",
       "      <td>routine</td>\n",
       "    </tr>\n",
       "    <tr>\n",
       "      <th>1</th>\n",
       "      <td>19</td>\n",
       "      <td>94</td>\n",
       "      <td>20171211</td>\n",
       "      <td>routine</td>\n",
       "    </tr>\n",
       "    <tr>\n",
       "      <th>2</th>\n",
       "      <td>24</td>\n",
       "      <td>98</td>\n",
       "      <td>20171101</td>\n",
       "      <td>routine</td>\n",
       "    </tr>\n",
       "    <tr>\n",
       "      <th>3</th>\n",
       "      <td>24</td>\n",
       "      <td>98</td>\n",
       "      <td>20161005</td>\n",
       "      <td>routine</td>\n",
       "    </tr>\n",
       "  </tbody>\n",
       "</table>\n",
       "</div>"
      ],
      "text/plain": [
       "   business_id  score      date     type\n",
       "0           19     94  20160513  routine\n",
       "1           19     94  20171211  routine\n",
       "2           24     98  20171101  routine\n",
       "3           24     98  20161005  routine"
      ]
     },
     "execution_count": 44,
     "metadata": {},
     "output_type": "execute_result"
    }
   ],
   "source": [
    "insp.head(4)"
   ]
  },
  {
   "cell_type": "markdown",
   "metadata": {},
   "source": [
    "We see two records for business #19. When we cross check this ID with the\n",
    "business table, we see that the business name is NRGIZE LIFESTYLE CAFE. The\n",
    "field called date are different for these two records, which implies that there\n",
    "is one record for each inspection of a restaurant. In other words, the\n",
    "granularity of this table is a restaurant inspection. If this is indeed the\n",
    "case, that would mean that the unique identifier of a row is the combination of\n",
    "`business_id` and `date`: the primary key consists of two fields.\n",
    "\n",
    "To confirm this, we can group `insp` by both `business_id` and `date`, then\n",
    "find the size of each group. If `business_id` and `date` uniquely define each\n",
    "row of the dataframe, then each group should have a size of 1."
   ]
  },
  {
   "cell_type": "code",
   "execution_count": 45,
   "metadata": {},
   "outputs": [
    {
     "data": {
      "text/plain": [
       "business_id  date    \n",
       "64859        20150924    2\n",
       "87440        20160801    2\n",
       "77427        20170706    2\n",
       "19           20160513    1\n",
       "71416        20171213    1\n",
       "dtype: int64"
      ]
     },
     "execution_count": 45,
     "metadata": {},
     "output_type": "execute_result"
    }
   ],
   "source": [
    "(insp\n",
    " .groupby(['business_id', 'date'])\n",
    " .size()\n",
    " .sort_values(ascending=False)\n",
    " .head(5)\n",
    ")"
   ]
  },
  {
   "cell_type": "markdown",
   "metadata": {},
   "source": [
    "It looks like restaurant `64859` got two different scores on the date \n",
    "`20150924` (Sept. 24, 2015)."
   ]
  },
  {
   "cell_type": "code",
   "execution_count": 46,
   "metadata": {},
   "outputs": [
    {
     "data": {
      "text/html": [
       "<div>\n",
       "<style scoped>\n",
       "    .dataframe tbody tr th:only-of-type {\n",
       "        vertical-align: middle;\n",
       "    }\n",
       "\n",
       "    .dataframe tbody tr th {\n",
       "        vertical-align: top;\n",
       "    }\n",
       "\n",
       "    .dataframe thead th {\n",
       "        text-align: right;\n",
       "    }\n",
       "</style>\n",
       "<table border=\"1\" class=\"dataframe\">\n",
       "  <thead>\n",
       "    <tr style=\"text-align: right;\">\n",
       "      <th></th>\n",
       "      <th>business_id</th>\n",
       "      <th>score</th>\n",
       "      <th>date</th>\n",
       "      <th>type</th>\n",
       "    </tr>\n",
       "  </thead>\n",
       "  <tbody>\n",
       "    <tr>\n",
       "      <th>7742</th>\n",
       "      <td>64859</td>\n",
       "      <td>96</td>\n",
       "      <td>20150924</td>\n",
       "      <td>routine</td>\n",
       "    </tr>\n",
       "    <tr>\n",
       "      <th>7744</th>\n",
       "      <td>64859</td>\n",
       "      <td>91</td>\n",
       "      <td>20150924</td>\n",
       "      <td>routine</td>\n",
       "    </tr>\n",
       "  </tbody>\n",
       "</table>\n",
       "</div>"
      ],
      "text/plain": [
       "      business_id  score      date     type\n",
       "7742        64859     96  20150924  routine\n",
       "7744        64859     91  20150924  routine"
      ]
     },
     "execution_count": 46,
     "metadata": {},
     "output_type": "execute_result"
    }
   ],
   "source": [
    "insp.query('business_id == 64859 and date == 20150924')"
   ]
  },
  {
   "cell_type": "markdown",
   "metadata": {},
   "source": [
    "Unfortunately, we can see that on three occasions, a business has multiple\n",
    "rows corresponding to a particular date.\n",
    "How could this happen? It may\n",
    "be that a restaurant had two inspections in one day, or it might be an error.\n",
    "\n",
    "These sorts of questions are exactly what we'd like to address in data quality.\n",
    "In either case, the\n",
    "granularity of this table is an inspection event, and for all intents and\n",
    "purposes the key is the combination of restaurant ID and date of the\n",
    "inspection."
   ]
  },
  {
   "cell_type": "markdown",
   "metadata": {},
   "source": [
    "Note that the `business_id` field in the inspections table acts as a reference\n",
    "to the primary key in the business table, for this reason `business_id` in\n",
    "`inspections` is called a **foreign key**.\n"
   ]
  },
  {
   "cell_type": "markdown",
   "metadata": {},
   "source": [
    "Finally, let's determine the granularity of the violations table."
   ]
  },
  {
   "cell_type": "code",
   "execution_count": 47,
   "metadata": {},
   "outputs": [
    {
     "data": {
      "text/html": [
       "<div>\n",
       "<style scoped>\n",
       "    .dataframe tbody tr th:only-of-type {\n",
       "        vertical-align: middle;\n",
       "    }\n",
       "\n",
       "    .dataframe tbody tr th {\n",
       "        vertical-align: top;\n",
       "    }\n",
       "\n",
       "    .dataframe thead th {\n",
       "        text-align: right;\n",
       "    }\n",
       "</style>\n",
       "<table border=\"1\" class=\"dataframe\">\n",
       "  <thead>\n",
       "    <tr style=\"text-align: right;\">\n",
       "      <th></th>\n",
       "      <th>business_id</th>\n",
       "      <th>date</th>\n",
       "      <th>description</th>\n",
       "    </tr>\n",
       "  </thead>\n",
       "  <tbody>\n",
       "    <tr>\n",
       "      <th>0</th>\n",
       "      <td>19</td>\n",
       "      <td>20171211</td>\n",
       "      <td>Inadequate food safety knowledge or lack of ce...</td>\n",
       "    </tr>\n",
       "    <tr>\n",
       "      <th>1</th>\n",
       "      <td>19</td>\n",
       "      <td>20171211</td>\n",
       "      <td>Unapproved or unmaintained equipment or utensils</td>\n",
       "    </tr>\n",
       "    <tr>\n",
       "      <th>2</th>\n",
       "      <td>19</td>\n",
       "      <td>20160513</td>\n",
       "      <td>Unapproved or unmaintained equipment or utensi...</td>\n",
       "    </tr>\n",
       "    <tr>\n",
       "      <th>...</th>\n",
       "      <td>...</td>\n",
       "      <td>...</td>\n",
       "      <td>...</td>\n",
       "    </tr>\n",
       "    <tr>\n",
       "      <th>39039</th>\n",
       "      <td>94231</td>\n",
       "      <td>20171214</td>\n",
       "      <td>High risk vermin infestation  [ date violation...</td>\n",
       "    </tr>\n",
       "    <tr>\n",
       "      <th>39040</th>\n",
       "      <td>94231</td>\n",
       "      <td>20171214</td>\n",
       "      <td>Moderate risk food holding temperature   [ dat...</td>\n",
       "    </tr>\n",
       "    <tr>\n",
       "      <th>39041</th>\n",
       "      <td>94231</td>\n",
       "      <td>20171214</td>\n",
       "      <td>Wiping cloths not clean or properly stored or ...</td>\n",
       "    </tr>\n",
       "  </tbody>\n",
       "</table>\n",
       "<p>39042 rows × 3 columns</p>\n",
       "</div>"
      ],
      "text/plain": [
       "       business_id      date  \\\n",
       "0               19  20171211   \n",
       "1               19  20171211   \n",
       "2               19  20160513   \n",
       "...            ...       ...   \n",
       "39039        94231  20171214   \n",
       "39040        94231  20171214   \n",
       "39041        94231  20171214   \n",
       "\n",
       "                                             description  \n",
       "0      Inadequate food safety knowledge or lack of ce...  \n",
       "1       Unapproved or unmaintained equipment or utensils  \n",
       "2      Unapproved or unmaintained equipment or utensi...  \n",
       "...                                                  ...  \n",
       "39039  High risk vermin infestation  [ date violation...  \n",
       "39040  Moderate risk food holding temperature   [ dat...  \n",
       "39041  Wiping cloths not clean or properly stored or ...  \n",
       "\n",
       "[39042 rows x 3 columns]"
      ]
     },
     "execution_count": 47,
     "metadata": {},
     "output_type": "execute_result"
    }
   ],
   "source": [
    "viol"
   ]
  },
  {
   "cell_type": "markdown",
   "metadata": {},
   "source": [
    "Just looking at the first few records in viol we see that each inspection has\n",
    "multiple entries. In other words, the granularity is at the level of a\n",
    "violation. Reading the descriptions, we see that if corrected, a date is listed\n",
    "in the description within square brackets.\n"
   ]
  },
  {
   "cell_type": "code",
   "execution_count": 48,
   "metadata": {},
   "outputs": [
    {
     "data": {
      "text/plain": [
       "'High risk vermin infestation  [ date violation corrected: 12/15/2017 ]'"
      ]
     },
     "execution_count": 48,
     "metadata": {},
     "output_type": "execute_result"
    }
   ],
   "source": [
    "viol.loc[39039, 'description']"
   ]
  },
  {
   "cell_type": "markdown",
   "metadata": {},
   "source": [
    "We have found that these three tables have different granularities. If we are\n",
    "interested in studying inspections, we can, say, aggregate the violations table\n",
    "to find the number of violations that occurred in an inspection, and then add\n",
    "this information to the inspection table. We can also reduce the inspection\n",
    "table by selecting one inspection, say the most recent one, for each\n",
    "restaurant. This reduced data table essentially has a granularity of\n",
    "restaurant, which may be useful for a restaurant-based analysis. These kinds of\n",
    "actions reshape the data table, transform columns, and create new columns.\n",
    "We'll cover these operations later in this chapter, in\n",
    "{numref}`Section %s <ch:wrangling_transformations>`."
   ]
  },
  {
   "cell_type": "markdown",
   "metadata": {},
   "source": [
    "## DAWN Survey Shape and Granularity"
   ]
  },
  {
   "cell_type": "markdown",
   "metadata": {},
   "source": [
    "As a second example, we examine the DAWN survey data to determine its shape and\n",
    "granularity. Let's begin by examining its encoding with the `file` CLI tool.\n"
   ]
  },
  {
   "cell_type": "code",
   "execution_count": 6,
   "metadata": {},
   "outputs": [
    {
     "name": "stdout",
     "output_type": "stream",
     "text": [
      "data/DAWN-Data.txt: ASCII text, with very long lines\n"
     ]
    }
   ],
   "source": [
    "!file data/DAWN-Data.txt"
   ]
  },
  {
   "cell_type": "markdown",
   "metadata": {},
   "source": [
    "We find that the source file is ASCII plain text, and we are also informed that\n",
    "the lines are very long! The `wc` tool confirms that indeed the lines must be\n",
    "quite long because there are about 200 thousand lines and over 280 million\n",
    "characters. On average, there are about 1200 characters per line.\n"
   ]
  },
  {
   "cell_type": "code",
   "execution_count": 7,
   "metadata": {},
   "outputs": [
    {
     "name": "stdout",
     "output_type": "stream",
     "text": [
      "  229211 22695570 280095842 data/DAWN-Data.txt\n"
     ]
    }
   ],
   "source": [
    "!wc data/DAWN-Data.txt"
   ]
  },
  {
   "cell_type": "markdown",
   "metadata": {},
   "source": [
    "Given the line length, let's look at just one line in the file. We can use the\n",
    "`-n 1` argument to do this. The display of the first line below has been\n",
    "formatted to fit more easily in the code block."
   ]
  },
  {
   "cell_type": "markdown",
   "metadata": {},
   "source": [
    "```bash\n",
    "!head -n 1 data/DAWN-Data.txt\n",
    "# The output is one (long) line:\n",
    "```\n",
    "\n",
    "```\n",
    "     1 2251082    .9426354082   3 4 1 2201141 2 865 105 1102005 1 2 1\n",
    "2.00-7.00-7.0000-7.0000-7.00001255 105 1142032 4 1 1 2.50 5.00\n",
    "5.0100-7.0000-7.0000  -7  -7  -7  \n",
    "-7-7-7-7-7.00-7.00-7.0000-7.0000-7.0000  -7  -7  -7  \n",
    "-7-7-7-7-7.00-7.00-7.0000-7.0000-7.0000  -7  -7  -7  \n",
    "-7-7-7-7-7.00-7.00-7.0000-7.0000-7.0000  -7  -7  -7  \n",
    "-7-7-7-7-7.00-7.00-7.0000-7.0000-7.0000  -7  -7  -7  \n",
    "-7-7-7-7-7.00-7.00-7.0000-7.0000-7.0000  -7  -7  -7  \n",
    "-7-7-7-7-7.00-7.00-7.0000-7.0000-7.0000  -7  -7  -7  \n",
    "-7-7-7-7-7.00-7.00-7.0000-7.0000-7.0000  -7  -7  -7  \n",
    "-7-7-7-7-7.00-7.00-7.0000-7.0000-7.0000  -7  -7  -7  \n",
    "-7-7-7-7-7.00-7.00-7.0000-7.0000-7.0000  -7  -7  -7  \n",
    "-7-7-7-7-7.00-7.00-7.0000-7.0000-7.0000  -7  -7  -7  \n",
    "-7-7-7-7-7.00-7.00-7.0000-7.0000-7.0000  -7  -7  -7 \n",
    "-7-7-7-7-7.00-7.00-7.0000-7.0000-7.0000  -7  -7  -7 \n",
    "-7-7-7-7-7.00-7.00-7.0000-7.0000-7.0000  -7  -7  -7  \n",
    "-7-7-7-7-7.00-7.00-7.0000-7.0000-7.0000  -7  -7  -7  \n",
    "-7-7-7-7-7.00-7.00-7.0000-7.0000-7.0000  -7  -7  -7  \n",
    "-7-7-7-7-7.00-7.00-7.0000-7.0000-7.0000  -7  -7  -7  \n",
    "-7-7-7-7-7.00-7.00-7.0000-7.0000-7.0000  -7  -7  -7  \n",
    "-7-7-7-7-7.00-7.00-7.0000-7.0000-7.0000  -7  -7  -7  \n",
    "-7-7-7-7-7.00-7.00-7.0000-7.0000-7.0000  -7  -7  -7  \n",
    "-7-7-7-7-7.00-7.00-7.0000-7.0000-7.00008 611001\n",
    "```"
   ]
  },
  {
   "cell_type": "markdown",
   "metadata": {},
   "source": [
    "What do you notice about the line of data?\n",
    "The values seem to run into each\n",
    "other. It's hard to figure out where one field stops and another begins\n",
    "for some of the numbers. There are many values of -7, -7.00, and -7.000. This is a\n",
    "fixed-width formatted file, and we need to read the code book to find out\n",
    "where the fields are. For example, the codebook in\n",
    "{numref}`Figure %s <DAWN_Age>` tells us that age\n",
    "appears in positions 34 and 35 in the row, and it is categorized into 11 age\n",
    "groups, 1 stands for 5 and under, 2 for 6 to 11, ..., and 11 for 65 or older.\n",
    "Also, -8 represents a missing value.\n"
   ]
  },
  {
   "cell_type": "markdown",
   "metadata": {},
   "source": [
    "```{figure} figures/DAWN_Age.png\n",
    "---\n",
    "name: DAWN_Age\n",
    "---\n",
    "\n",
    "Screenshot of a portion of the DAWN coding for age.\n",
    "```\n",
    "\n",
    " "
   ]
  },
  {
   "cell_type": "markdown",
   "metadata": {},
   "source": [
    "We read just a few variables into a data frame to show how you can do this. \n",
    "`pandas` provides a `pd.read_fwf` function for reading in fixed-width format\n",
    "files. We specify the positions of the fields in each line to extract, the \n",
    "associated names of the fields, and other information about the header and \n",
    "index. "
   ]
  },
  {
   "cell_type": "code",
   "execution_count": 9,
   "metadata": {},
   "outputs": [
    {
     "data": {
      "text/html": [
       "<div>\n",
       "<style scoped>\n",
       "    .dataframe tbody tr th:only-of-type {\n",
       "        vertical-align: middle;\n",
       "    }\n",
       "\n",
       "    .dataframe tbody tr th {\n",
       "        vertical-align: top;\n",
       "    }\n",
       "\n",
       "    .dataframe thead th {\n",
       "        text-align: right;\n",
       "    }\n",
       "</style>\n",
       "<table border=\"1\" class=\"dataframe\">\n",
       "  <thead>\n",
       "    <tr style=\"text-align: right;\">\n",
       "      <th></th>\n",
       "      <th>wt</th>\n",
       "      <th>age</th>\n",
       "      <th>sex</th>\n",
       "      <th>race</th>\n",
       "      <th>type</th>\n",
       "    </tr>\n",
       "    <tr>\n",
       "      <th>id</th>\n",
       "      <th></th>\n",
       "      <th></th>\n",
       "      <th></th>\n",
       "      <th></th>\n",
       "      <th></th>\n",
       "    </tr>\n",
       "  </thead>\n",
       "  <tbody>\n",
       "    <tr>\n",
       "      <th>1</th>\n",
       "      <td>0.94</td>\n",
       "      <td>4</td>\n",
       "      <td>1</td>\n",
       "      <td>2</td>\n",
       "      <td>8</td>\n",
       "    </tr>\n",
       "    <tr>\n",
       "      <th>2</th>\n",
       "      <td>5.99</td>\n",
       "      <td>11</td>\n",
       "      <td>1</td>\n",
       "      <td>3</td>\n",
       "      <td>4</td>\n",
       "    </tr>\n",
       "    <tr>\n",
       "      <th>3</th>\n",
       "      <td>4.72</td>\n",
       "      <td>11</td>\n",
       "      <td>2</td>\n",
       "      <td>2</td>\n",
       "      <td>4</td>\n",
       "    </tr>\n",
       "    <tr>\n",
       "      <th>4</th>\n",
       "      <td>4.08</td>\n",
       "      <td>2</td>\n",
       "      <td>1</td>\n",
       "      <td>3</td>\n",
       "      <td>4</td>\n",
       "    </tr>\n",
       "    <tr>\n",
       "      <th>5</th>\n",
       "      <td>5.18</td>\n",
       "      <td>6</td>\n",
       "      <td>1</td>\n",
       "      <td>3</td>\n",
       "      <td>8</td>\n",
       "    </tr>\n",
       "  </tbody>\n",
       "</table>\n",
       "</div>"
      ],
      "text/plain": [
       "      wt  age  sex  race  type\n",
       "id                            \n",
       "1   0.94    4    1     2     8\n",
       "2   5.99   11    1     3     4\n",
       "3   4.72   11    2     2     4\n",
       "4   4.08    2    1     3     4\n",
       "5   5.18    6    1     3     8"
      ]
     },
     "execution_count": 9,
     "metadata": {},
     "output_type": "execute_result"
    }
   ],
   "source": [
    "colspecs = [(0,6), (14,29), (33,35), (35, 37), (37, 39), (1213, 1214)]\n",
    "varNames = [\"id\", \"wt\", \"age\", \"sex\", \"race\",\"type\"]\n",
    "dawn = pd.read_fwf('data/DAWN-Data.txt', colspecs=colspecs, \n",
    "                   header=None, index_col=0, names=varNames)\n",
    "dawn.head()"
   ]
  },
  {
   "cell_type": "markdown",
   "metadata": {},
   "source": [
    "It appears that we have correctly loaded the dataset into a data frame. We can compare the shape to the number of lines from `wc`. The number of rows matches the number of lines in the file, but the number of columns does not because we read in only a handful of features. "
   ]
  },
  {
   "cell_type": "code",
   "execution_count": 10,
   "metadata": {},
   "outputs": [
    {
     "data": {
      "text/plain": [
       "(229211, 5)"
      ]
     },
     "execution_count": 10,
     "metadata": {},
     "output_type": "execute_result"
    }
   ],
   "source": [
    "dawn.shape"
   ]
  },
  {
   "cell_type": "markdown",
   "metadata": {},
   "source": [
    "The granularity is a bit more complicated due to the survey design.  Recall that these data are part of a large scientific study, with a complex sampling scheme. A row represents an emergency room visit, so the granularity is at the emergency room visit level. However, in order to reflect the sampling scheme and be representative of the population, weights are provided. We apply a weight to each record when computing summary statistics, building histograms, and fitting models. \n",
    "\n",
    "The `wt` field contains a weight that takes into account the probability of an ER visit like this one appearing in the sample. By \"like this one\" we mean a visit with similar visitor age and race and visit location, time of day, etc. We examine the different values in `wt`."
   ]
  },
  {
   "cell_type": "code",
   "execution_count": 11,
   "metadata": {},
   "outputs": [
    {
     "data": {
      "text/plain": [
       "0.94     1719\n",
       "84.26    1617\n",
       "1.72     1435\n",
       "         ... \n",
       "3.33        1\n",
       "6.20        1\n",
       "3.31        1\n",
       "Name: wt, Length: 3500, dtype: int64"
      ]
     },
     "execution_count": 11,
     "metadata": {},
     "output_type": "execute_result"
    }
   ],
   "source": [
    "dawn['wt'].value_counts()"
   ]
  },
  {
   "cell_type": "markdown",
   "metadata": {},
   "source": [
    ":::{note}\n",
    "\n",
    "What do these weights mean? As a simplified example,\n",
    "suppose you ran a survey and 75% of your respondents reported their sex\n",
    "as female.\n",
    "Since you know from the Census that roughly 50% of the\n",
    "U.S. population is female, you could adjust your survey responses by using\n",
    "a small weight (less than 1) for female responses and a\n",
    "larger weight (greater than 1) for male responses.\n",
    "The DAWN survey uses the same idea, except that they split the groups\n",
    "much more finely.\n",
    "\n",
    ":::"
   ]
  },
  {
   "cell_type": "markdown",
   "metadata": {},
   "source": [
    "It is critical to include the survey weights in your analysis. For example, we can compare the calculation of the proportion of females among the ER visits with and without the weights.  "
   ]
  },
  {
   "cell_type": "code",
   "execution_count": 12,
   "metadata": {},
   "outputs": [
    {
     "data": {
      "text/plain": [
       "0.48003804354939333"
      ]
     },
     "execution_count": 12,
     "metadata": {},
     "output_type": "execute_result"
    }
   ],
   "source": [
    "np.average((dawn[\"sex\"] == 2))"
   ]
  },
  {
   "cell_type": "code",
   "execution_count": 13,
   "metadata": {},
   "outputs": [
    {
     "data": {
      "text/plain": [
       "0.523468490709998"
      ]
     },
     "execution_count": 13,
     "metadata": {},
     "output_type": "execute_result"
    }
   ],
   "source": [
    "np.average((dawn[\"sex\"] == 2), weights=dawn[\"wt\"])"
   ]
  },
  {
   "cell_type": "markdown",
   "metadata": {},
   "source": [
    "These figures differ by 4 percentage points. The weighted version is considered a more accurate estimate of the proportion of females among the entire population of ER visits.  "
   ]
  },
  {
   "cell_type": "markdown",
   "metadata": {},
   "source": [
    "## Summary\n",
    "\n",
    "After looking at the granularity of your datasets, you should have answers to the following questions.\n",
    "Here, we provide answers for the three restaurant inspections datasets.\n",
    "As an exercise, answer the questions for the DAWN dataset.\n",
    "\n",
    "**What does a record represent?**\n",
    "\n",
    "In the `bus` table, each record represents a restaurant; in the `insp` table, a record corresponds to an inspection; and in the `viol` table each record represents a violation found during an inspection.\n",
    "\n",
    "**Do all records capture granularity at the same level? (Sometimes a table will contain summary rows.)**\n",
    "\n",
    "Yes, the records within each of the `bus`, `insp`, and `viol` tables has the same granularity.\n",
    "\n",
    "**If the data were aggregated, how was the aggregation performed? Sampling and averaging are are common aggregations.**\n",
    "\n",
    "According to the data description, each record is the mean of daily readings. But, the data website also has hourly readings, so we suspect that both daily and monthly readings are aggregated from the hourly readings.\n",
    "\n",
    "**What kinds of aggregations can we perform on the data?**\n",
    "\n",
    "These tables allow for many useful aggregations. As mentioned earlier, we can aggregate information in the `viol` table, such as counting the number of violations per inspection. Another type of aggregation, is to choose one record to represent the aggregate. For example, we can select the most recent inspection of a restaurant to aggregate the inspections table to the restaurant level. Alternatively, we can aggregate inspections and report the average inspection score for a restaurant."
   ]
  },
  {
   "cell_type": "code",
   "execution_count": null,
   "metadata": {},
   "outputs": [],
   "source": []
  }
 ],
 "metadata": {
  "celltoolbar": "Tags",
  "kernelspec": {
   "display_name": "Python 3",
   "language": "python",
   "name": "python3"
  },
  "language_info": {
   "codemirror_mode": {
    "name": "ipython",
    "version": 3
   },
   "file_extension": ".py",
   "mimetype": "text/x-python",
   "name": "python",
   "nbconvert_exporter": "python",
   "pygments_lexer": "ipython3",
   "version": "3.9.4"
  }
 },
 "nbformat": 4,
 "nbformat_minor": 4
}
