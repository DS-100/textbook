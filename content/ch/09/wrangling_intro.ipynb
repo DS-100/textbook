{
 "cells": [
  {
   "cell_type": "code",
   "execution_count": 1,
   "metadata": {
    "tags": [
     "remove-cell"
    ]
   },
   "outputs": [],
   "source": [
    "# Reference: https://jupyterbook.org/interactive/hiding.html\n",
    "# Use {hide, remove}-{input, output, cell} tags to hiding content\n",
    "\n",
    "import numpy as np\n",
    "import matplotlib.pyplot as plt\n",
    "import pandas as pd\n",
    "import seaborn as sns\n",
    "%matplotlib inline\n",
    "import ipywidgets as widgets\n",
    "from ipywidgets import interact, interactive, fixed, interact_manual\n",
    "from IPython.display import display\n",
    "import myst_nb\n",
    "\n",
    "sns.set()\n",
    "sns.set_context('talk')\n",
    "np.set_printoptions(threshold=20, precision=2, suppress=True)\n",
    "pd.set_option('display.max_rows', 7)\n",
    "pd.set_option('display.max_columns', 8)\n",
    "pd.set_option('precision', 2)\n",
    "# This option stops scientific notation for pandas\n",
    "# pd.set_option('display.float_format', '{:.2f}'.format)\n",
    "\n",
    "def display_df(df, rows=pd.options.display.max_rows,\n",
    "               cols=pd.options.display.max_columns):\n",
    "    with pd.option_context('display.max_rows', rows,\n",
    "                           'display.max_columns', cols):\n",
    "        display(df)"
   ]
  },
  {
   "cell_type": "markdown",
   "metadata": {},
   "source": [
    "(ch:wrangling)=\n",
    "# Wrangling Dataframes\n"
   ]
  },
  {
   "cell_type": "markdown",
   "metadata": {},
   "source": [
    "We often need to perform preparatory work on our data before we can begin our\n",
    "analysis. The amount of preparation can vary widely, but there are a few basics\n",
    "for moving from raw data to data ready for analysis. The {ref}`ch:files`\n",
    "chapter addressed the initial steps of creating a data frame from a plain text\n",
    "source. Next, we assess quality. We perform validity checks on individual data\n",
    "values and features. In addition to checking the quality of the data, we learn\n",
    "whether or not the data need to be transformed and reshaped to get ready for\n",
    "analysis. Quality checking (and fixing) and transformation are often cyclical:\n",
    "the quality checks point us toward transformations we need to make, and we\n",
    "check the transformed features to confirm that our data are ready for analysis\n",
    "or need further cleaning and transforming."
   ]
  },
  {
   "cell_type": "markdown",
   "metadata": {},
   "source": [
    "Depending on the data source, we often have different expectations for quality.\n",
    "Some datasets require extensive wrangling to get them into an analyzable form,\n",
    "and other datasets arrive clean and we can quickly launch into modeling.  Below\n",
    "are some examples of data sources and how much wrangling we might expect to do. "
   ]
  },
  {
   "cell_type": "markdown",
   "metadata": {},
   "source": [
    "- Data from a scientific experiment or study  are typically clean,\n",
    "  well-documented, and have a simple structure. These data are organized to be\n",
    "  broadly shared so that others can build on and reproduce the findings.  They\n",
    "  are typically ready for analysis after little to no wrangling.\n",
    "- Data from government surveys often come with very detailed codebooks and meta\n",
    "  data describing how the data are collected and formatted, and these datasets\n",
    "  are also typically ready for exploration and analysis.\n",
    "- Administrative data can be clean, but without inside knowledge of the source\n",
    "  we are often need to extensively check quality. Also, since we are typically\n",
    "  using these data for a purpose other than the reasons for collecting it, we\n",
    "  usually need to transform features and combine data tables.\n",
    "- Informally collected data, such as data scraped from the Web, can be quite\n",
    "  messy and tends to come with little documentation. For example, texts,\n",
    "  tweets, blogs, Wikipedia tables, etc. usually require formatting and cleaning\n",
    "  to transform them into quantitative information that is ready for analysis.\n"
   ]
  },
  {
   "cell_type": "markdown",
   "metadata": {},
   "source": [
    "In this chapter, we break down data wrangling into the following stages: assess data quality; transform features; and reshape the data by modifying its structure and granularity. An important step in assessing the quality of the data is to consider its scope. Data scope was covered in the {ref}`ch:data_scope` chapter, and we refer you to that chapter for a fuller treatment of the topic. "
   ]
  },
  {
   "cell_type": "markdown",
   "metadata": {},
   "source": [
    "To clean and prepare data, we also rely on visualizations and exploratory data\n",
    "analysis. In this chapter, however, we'll focus on data wrangling and cover the\n",
    "other related topics in more detail in the {ref}`ch:eda` and {ref}`ch:viz`\n",
    "chapters. "
   ]
  },
  {
   "cell_type": "markdown",
   "metadata": {},
   "source": [
    "We begin by introducing data wrangling concepts through an example in the next section."
   ]
  },
  {
   "cell_type": "markdown",
   "metadata": {},
   "source": []
  }
 ],
 "metadata": {
  "kernelspec": {
   "display_name": "Python 3",
   "language": "python",
   "name": "python3"
  },
  "language_info": {
   "codemirror_mode": {
    "name": "ipython",
    "version": 3
   },
   "file_extension": ".py",
   "mimetype": "text/x-python",
   "name": "python",
   "nbconvert_exporter": "python",
   "pygments_lexer": "ipython3",
   "version": "3.9.4"
  }
 },
 "nbformat": 4,
 "nbformat_minor": 4
}
