{
 "cells": [
  {
   "cell_type": "code",
   "execution_count": 1,
   "metadata": {
    "tags": [
     "remove-cell"
    ]
   },
   "outputs": [],
   "source": [
    "# Reference: https://jupyterbook.org/interactive/hiding.html\n",
    "# Use {hide, remove}-{input, output, cell} tags to hiding content\n",
    "\n",
    "import sys\n",
    "import os\n",
    "if not any(path.endswith('textbook') for path in sys.path):\n",
    "    sys.path.append(os.path.abspath('../../..'))\n",
    "from textbook_utils import *"
   ]
  },
  {
   "cell_type": "markdown",
   "metadata": {},
   "source": [
    "(ch:donkey)=\n",
    "# Case Study: How to Weigh a Donkey"
   ]
  },
  {
   "cell_type": "markdown",
   "metadata": {},
   "source": [
    "Donkeys play an important role in rural Kenya. They transport crops, water, and people, and plow fields.  When a donkey falls sick, the vet often needs to prescribe medicine, and the dosage depends on the animal's weight. In rural Kenya, the vet has no access to a scale to weigh the donkey so they must estimate the donkey's weight to prescribe an anesthetic, de-wormer, antibiotic, or other medication. An underestimate might mean an infection returns because it wasn't completely knocked out, and an overestimate might lead to an overdose of an anesthetic which could endanger the donkey. With 1.8 million donkeys in Kenya, finding a simple, accurate method to estimate the weight of a donkey is needed."
   ]
  },
  {
   "cell_type": "markdown",
   "metadata": {},
   "source": []
  }
 ],
 "metadata": {
  "celltoolbar": "Tags",
  "kernelspec": {
   "display_name": "Python 3",
   "language": "python",
   "name": "python3"
  },
  "language_info": {
   "codemirror_mode": {
    "name": "ipython",
    "version": 3
   },
   "file_extension": ".py",
   "mimetype": "text/x-python",
   "name": "python",
   "nbconvert_exporter": "python",
   "pygments_lexer": "ipython3",
   "version": "3.9.4"
  }
 },
 "nbformat": 4,
 "nbformat_minor": 4
}
