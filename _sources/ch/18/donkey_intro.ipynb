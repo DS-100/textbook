{
 "cells": [
  {
   "cell_type": "code",
   "execution_count": 1,
   "metadata": {
    "tags": [
     "remove-cell"
    ]
   },
   "outputs": [],
   "source": [
    "# Reference: https://jupyterbook.org/interactive/hiding.html\n",
    "# Use {hide, remove}-{input, output, cell} tags to hiding content\n",
    "\n",
    "import sys\n",
    "import os\n",
    "if not any(path.endswith('textbook') for path in sys.path):\n",
    "    sys.path.append(os.path.abspath('../../..'))\n",
    "from textbook_utils import *"
   ]
  },
  {
   "cell_type": "markdown",
   "metadata": {},
   "source": [
    "(ch:donkey)=\n",
    "# Case Study: How to Weigh a Donkey"
   ]
  },
  {
   "cell_type": "markdown",
   "metadata": {},
   "source": [
    "Donkeys play important roles in rural Kenya. People need donkeys for moving crops and water, for personal transportation, and for plowing fields. \n",
    "When a donkey gets sick, the vet needs to figure out how much the donkey \n",
    "weighs in order to prescribe the right amount of medicine.\n",
    "But, many vets in rural Kenya don't have a scale big enough to weigh a donkey.\n",
    "Too little medicine can cause a sickness to re-emerge,\n",
    "and too much medicine can cause a harmful overdose.\n",
    "There are over 1.8 million donkeys in Kenya, so it's important to have \n",
    "a simple, accurate way to estimate the weight of a donkey."
   ]
  },
  {
   "cell_type": "markdown",
   "metadata": {},
   "source": [
    "In this case study, we'll use what we've learned thus far in the book to\n",
    "create a model that can use a donkey's measurements to make accurate\n",
    "estimations of donkey weight [^Kenya].\n",
    "Having this model means that vets just need a tape measure in order to figure\n",
    "out the right amount of medicine instead of an expensive donkey scale.\n",
    "As usual, we'll walk through the steps of the data science lifecycle.\n",
    "We'll start by stating our research question and looking at the scope of our\n",
    "dataset. \n",
    "We'll explore and check for problems in the data.\n",
    "Finally, we'll fit linear models and see how well they can predict\n",
    "donkey weights from their measurements.\n",
    "\n",
    "[^Kenya]: This case study is based on [\"How to weigh a donkey in the Kenyan countryside\"](https://rss.onlinelibrary.wiley.com/doi/pdf/10.1111/j.1740-9713.2014.00768.x) by K. Milner and J. Rougier."
   ]
  },
  {
   "cell_type": "markdown",
   "metadata": {},
   "source": []
  }
 ],
 "metadata": {
  "celltoolbar": "Tags",
  "kernelspec": {
   "display_name": "Python 3",
   "language": "python",
   "name": "python3"
  },
  "language_info": {
   "codemirror_mode": {
    "name": "ipython",
    "version": 3
   },
   "file_extension": ".py",
   "mimetype": "text/x-python",
   "name": "python",
   "nbconvert_exporter": "python",
   "pygments_lexer": "ipython3",
   "version": "3.9.4"
  }
 },
 "nbformat": 4,
 "nbformat_minor": 4
}
