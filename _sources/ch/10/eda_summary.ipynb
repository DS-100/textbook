{
 "cells": [
  {
   "cell_type": "code",
   "execution_count": 1,
   "metadata": {
    "tags": [
     "remove-cell"
    ]
   },
   "outputs": [],
   "source": [
    "import sys\n",
    "import os\n",
    "if not any(path.endswith('textbook') for path in sys.path):\n",
    "    sys.path.append(os.path.abspath('../../..'))\n",
    "from textbook_utils import *"
   ]
  },
  {
   "cell_type": "markdown",
   "metadata": {},
   "source": [
    "(sec:eda_summary)=\n",
    "# Summary\n"
   ]
  },
  {
   "cell_type": "markdown",
   "metadata": {},
   "source": [
    "In this chapter, we introduced the nominal, ordinal, and numerical feature\n",
    "types and their importance for data analysis. When presented with a dataset, we\n",
    "demonstrated how to consult the data dictionary and the data itself to\n",
    "determine the feature types for each column. We also explained how the storage\n",
    "type is not to be confused with feature type. Since much of EDA is carried out\n",
    "with statistical graphs, we described how to recognize and interpret the shapes\n",
    "and patterns that emerge and connect these to the data being plotted. Finally,\n",
    "we provided guidelines for how you might conduct an EDA, and provided an\n",
    "example."
   ]
  },
  {
   "cell_type": "markdown",
   "metadata": {},
   "source": [
    "One approach that you may find helpful in developing your intuition about\n",
    "distributions and relationships of features is to make a\n",
    "guess about what you will see before you make the plot. Try to sketch\n",
    "or describe what you think the shape of distribution first,\n",
    "then make the plot.\n",
    "For example, variables that have a natural lower/upper bound on their\n",
    "values tend to have a long tail on the opposite of the bound. The distribution of income\n",
    "(bounded below by 0) tends to have a long right tail, and exam scores (bounded\n",
    "above by 100) tends to have a long left tail. You can make similar guesses for the\n",
    "shape of a relationship. We saw that price and house size had nearly a log-log linear relationship.\n",
    "As you gain intuition about shapes, it becomes easier to carry out an EDA; you can more easily identify when a plot shows a surprising shape."
   ]
  },
  {
   "cell_type": "markdown",
   "metadata": {},
   "source": [
    "Our focus in this chapter has been on \"reading\" visualizations. In {numref}`Chapter %s <ch:viz>`, we provide style guidelines for how to\n",
    "create informative, effective, and beautiful graphs. Many of the ideas in that\n",
    "chapter have been followed here, but we have not called attention to them. "
   ]
  }
 ],
 "metadata": {
  "celltoolbar": "Tags",
  "kernelspec": {
   "display_name": "Python 3",
   "language": "python",
   "name": "python3"
  },
  "language_info": {
   "codemirror_mode": {
    "name": "ipython",
    "version": 3
   },
   "file_extension": ".py",
   "mimetype": "text/x-python",
   "name": "python",
   "nbconvert_exporter": "python",
   "pygments_lexer": "ipython3",
   "version": "3.9.4"
  }
 },
 "nbformat": 4,
 "nbformat_minor": 4
}
