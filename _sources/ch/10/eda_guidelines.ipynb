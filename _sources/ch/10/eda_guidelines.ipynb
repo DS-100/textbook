{
 "cells": [
  {
   "cell_type": "code",
   "execution_count": 147,
   "metadata": {
    "tags": [
     "remove-cell"
    ]
   },
   "outputs": [],
   "source": [
    "# Reference: https://jupyterbook.org/interactive/hiding.html\n",
    "# Use {hide, remove}-{input, output, cell} tags to hiding content\n",
    "\n",
    "import numpy as np\n",
    "import matplotlib.pyplot as plt\n",
    "import pandas as pd\n",
    "import seaborn as sns\n",
    "%matplotlib inline\n",
    "import ipywidgets as widgets\n",
    "from ipywidgets import interact, interactive, fixed, interact_manual\n",
    "from IPython.display import display\n",
    "import myst_nb\n",
    "\n",
    "sns.set()\n",
    "sns.set_context('talk')\n",
    "np.set_printoptions(threshold=20, precision=2, suppress=True)\n",
    "pd.set_option('display.max_rows', 7)\n",
    "pd.set_option('display.max_columns', 8)\n",
    "pd.set_option('precision', 2)\n",
    "# This option stops scientific notation for pandas\n",
    "# pd.set_option('display.float_format', '{:.2f}'.format)\n",
    "\n",
    "def display_df(df, rows=pd.options.display.max_rows,\n",
    "               cols=pd.options.display.max_columns):\n",
    "    with pd.option_context('display.max_rows', rows,\n",
    "                           'display.max_columns', cols):\n",
    "        display(df)"
   ]
  },
  {
   "cell_type": "markdown",
   "metadata": {},
   "source": [
    "(sec:eda_guidelines)=\n",
    "# Guidelines for Exploration\n"
   ]
  },
  {
   "cell_type": "markdown",
   "metadata": {},
   "source": [
    "So far in this chapter, we have:\n",
    "\n",
    "- introduced the notion of feature types;\n",
    "- seen how the feature types help you figure out what plots to make; and\n",
    "- described how to read distributions and relationships in a visualization"
   ]
  },
  {
   "cell_type": "markdown",
   "metadata": {},
   "source": [
    "Let's now describe generally the process of EDA. You have seen EDA in action\n",
    "already in Chapter X when we developed checks for data quality and feature\n",
    "transformations to improve their usefulness in data analysis.  Below are a set\n",
    "of questions to guide you when making plots.\n",
    "\n",
    "- How are the values of Feature X distributed?\n",
    "- How do Feature X and Feature Y relate to each other?\n",
    "- Is the distribution of Feature X the same for subgroups defined by Feature Z?\n",
    "- Are there any unusual observations in X? in the combination of (X,Y)? in X\n",
    "  for a subgroup of Z?\n"
   ]
  },
  {
   "cell_type": "markdown",
   "metadata": {},
   "source": [
    "One approach that you may find helpful to develop your intuition about\n",
    "distributions and relationships of different kinds of features is to make a\n",
    "guess about what you will see before you make the plot. That is, try to sketch\n",
    "or describe your best answer to the above questions first, and then make the\n",
    "plot.  For example, distributions that have a natural lower/upper bound on\n",
    "values tend to have a long tail on the other side. The distribution of income\n",
    "(bounded below by 0) tends to have a long right tail, and exam scores (bounded\n",
    "above by 100) tends to have a long left tail.\n"
   ]
  },
  {
   "cell_type": "markdown",
   "metadata": {},
   "source": [
    "As you answer each of the above questions, it is important to tie your answer\n",
    "back to the feature and the dataset. It is also important to adopt an active,\n",
    "inquisitive approach to the investigation. Some questions to guide your\n",
    "explorations is to ask \"what next\" and \"so what\" questions, such as the\n",
    "following.\n",
    "\n",
    "- Do you have reason to expect that one group/observation might be different?\n",
    "- Why might your observation about the data shape matter?\n",
    "- What comparison might bring added value to the investigation?\n",
    "- Are there any potentially important features to create comparisons\n",
    "  with/against?\n",
    "\n",
    "We put these guidelines into practice, and provide an example of the EDA\n",
    "process in the next section.\n"
   ]
  }
 ],
 "metadata": {
  "celltoolbar": "Tags",
  "kernelspec": {
   "display_name": "Python 3",
   "language": "python",
   "name": "python3"
  },
  "language_info": {
   "codemirror_mode": {
    "name": "ipython",
    "version": 3
   },
   "file_extension": ".py",
   "mimetype": "text/x-python",
   "name": "python",
   "nbconvert_exporter": "python",
   "pygments_lexer": "ipython3",
   "version": "3.9.4"
  }
 },
 "nbformat": 4,
 "nbformat_minor": 4
}
