{
 "cells": [
  {
   "cell_type": "markdown",
   "metadata": {},
   "source": [
    "# Modeling and Estimation\n",
    "\n",
    "> Essentially, all models are wrong, but some are useful.\n",
    ">\n",
    "> — [George Box, Statistician (1919-2013)](https://www.wikiwand.com/en/George_E._P._Box)\n",
    "\n",
    "A **model** is an idealized representation of a system. You likely use models every day. For instance, a weather forecast is a model. A weather forecast uses weather data collected in the past to make predictions about the future. Models don't always match reality, as you've experienced if you've been surprised by rain. And even the most complicated models of weather can't make precise predictions more than a few weeks into the future. Still, weather forecasts are useful enough that we check the forecast before heading outside each day.\n",
    "\n",
    "In this chapter, we'll introduce a basic model. This model will serve as a building block towards more complex models later in the book. Introducing a basic model now also lets us explain **loss minimization**, a concept that applies to all sorts of models."
   ]
  }
 ],
 "metadata": {
  "kernelspec": {
   "display_name": "Python 3",
   "language": "python",
   "name": "python3"
  },
  "language_info": {
   "codemirror_mode": {
    "name": "ipython",
    "version": 3
   },
   "file_extension": ".py",
   "mimetype": "text/x-python",
   "name": "python",
   "nbconvert_exporter": "python",
   "pygments_lexer": "ipython3",
   "version": "3.8.3"
  }
 },
 "nbformat": 4,
 "nbformat_minor": 2
}
