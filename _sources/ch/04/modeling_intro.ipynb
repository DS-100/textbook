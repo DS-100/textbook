{
 "cells": [
  {
   "cell_type": "markdown",
   "metadata": {},
   "source": [
    "(ch:modeling)=\n",
    "# Modeling and Summary Statistics\n",
    "\n",
    "> Essentially, all models are wrong, but some are useful.\n",
    ">\n",
    "> — [George Box, Statistician (1919-2013)](https://www.wikiwand.com/en/George_E._P._Box)\n",
    "\n",
    "A *model* is an idealized representation of a system. You probably use models\n",
    "all the time. For instance, a weather forecast is a model. A weather forecast\n",
    "uses past weather, current conditions, and the physics of the atmosphere to\n",
    "make predictions about the future. Models don't always match reality, as you've\n",
    "experienced if you've been surprised by rain or snow. And even the most\n",
    "complicated models of weather can't make precise predictions more than a few\n",
    "weeks into the future. Still, weather forecasts are useful enough that we check\n",
    "the forecast before heading outside each day."
   ]
  },
  {
   "cell_type": "markdown",
   "metadata": {},
   "source": [
    "We've previously introduced a model called the urn model in\n",
    "{numref}`Chapter %s <ch:theory_datadesign>`. Like all models, the urn model is\n",
    "a simpler version of a system. It treats the underlying chance process in data\n",
    "generation like draws of marbles from an urn. \n",
    "In this chapter we introduce another kind of model called the constant model.\n",
    "While the urn model creates simulated data, the constant model takes a data\n",
    "sample and tries to describe the signal in the data by taking out the random\n",
    "variation in the sample.\n",
    "This process is called fitting a model to data.\n",
    "Although the constant model is simple, it serves as a useful building block\n",
    "towards the more complex models appearing later in the book.\n",
    "\n",
    "For example, the model lets us explain model fitting from the perspective of\n",
    "*loss minimization*, a technique that connects summary statistics like the mean\n",
    "and median to more complex models. It also gives us a first look at randomness\n",
    "and signal in a sample, fundamental parts of modeling that we address later in\n",
    "{numref}`Chapter %s <ch:model_theory>`.\n",
    "\n",
    "We'll begin by introducing the constant model through a dataset of bus stop\n",
    "wait times."
   ]
  },
  {
   "cell_type": "code",
   "execution_count": null,
   "metadata": {
    "vscode": {
     "languageId": "python"
    }
   },
   "outputs": [],
   "source": []
  }
 ],
 "metadata": {
  "kernelspec": {
   "display_name": "Python 3",
   "language": "python",
   "name": "python3"
  },
  "language_info": {
   "codemirror_mode": {
    "name": "ipython",
    "version": 3
   },
   "file_extension": ".py",
   "mimetype": "text/x-python",
   "name": "python",
   "nbconvert_exporter": "python",
   "pygments_lexer": "ipython3",
   "version": "3.9.4"
  }
 },
 "nbformat": 4,
 "nbformat_minor": 4
}
