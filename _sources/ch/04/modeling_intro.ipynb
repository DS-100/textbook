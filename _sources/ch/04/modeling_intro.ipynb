{
 "cells": [
  {
   "cell_type": "markdown",
   "metadata": {},
   "source": [
    "(ch:modeling)=\n",
    "# Modeling with Summary Statistics\n",
    "\n",
    "A *model* is an idealized representation of a system. You probably use models\n",
    "all the time. For instance, a weather forecast is a model. A weather forecast\n",
    "uses past weather, current conditions, and the physics of the atmosphere to\n",
    "make predictions about the future. Models don't always match reality, as you've\n",
    "experienced if you've been surprised by rain or snow. And even the most\n",
    "complicated models of weather can't make precise predictions more than a few\n",
    "weeks into the future. Still, weather forecasts are useful enough that we check\n",
    "the forecast before heading outside each day."
   ]
  },
  {
   "cell_type": "markdown",
   "metadata": {},
   "source": [
    "We've previously introduced a model called the urn model in\n",
    "{numref}`Chapter %s <ch:theory_datadesign>`. \n",
    "The urn model likens the underlying chance process in data\n",
    "generation like draws of marbles from an urn, and we use it to study variation. \n",
    "In this chapter, we introduce another kind of model that describes the pattern/signal \n",
    "in the data rather than the random variation.\n",
    "This process is called fitting a model to data.\n",
    "We focus on the simplest of these sorts of models, called the constant *model*.\n",
    "It serves as a useful building block\n",
    "towards the more complex models appearing later in the book.\n",
    "\n",
    "The constant model lets us introduce model fitting from the perspective of\n",
    "*loss minimization*, which connects summary statistics like the mean\n",
    "and median to more complex models. We begin with an example that uses data about the wait times for a bus to introduce the constant model. "
   ]
  }
 ],
 "metadata": {
  "kernelspec": {
   "display_name": "Python 3",
   "language": "python",
   "name": "python3"
  },
  "language_info": {
   "codemirror_mode": {
    "name": "ipython",
    "version": 3
   },
   "file_extension": ".py",
   "mimetype": "text/x-python",
   "name": "python",
   "nbconvert_exporter": "python",
   "pygments_lexer": "ipython3",
   "version": "3.9.4"
  }
 },
 "nbformat": 4,
 "nbformat_minor": 4
}
