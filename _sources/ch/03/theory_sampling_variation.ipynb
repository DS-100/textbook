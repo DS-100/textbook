{
 "cells": [
  {
   "cell_type": "code",
   "execution_count": 314,
   "metadata": {
    "tags": [
     "remove-cell"
    ]
   },
   "outputs": [],
   "source": [
    "# Reference: https://jupyterbook.org/interactive/hiding.html\n",
    "# Use {hide, remove}-{input, output, cell} tags to hiding content\n",
    "\n",
    "import numpy as np\n",
    "import matplotlib.pyplot as plt\n",
    "import pandas as pd\n",
    "import seaborn as sns\n",
    "%matplotlib inline\n",
    "import ipywidgets as widgets\n",
    "from ipywidgets import interact, interactive, fixed, interact_manual\n",
    "from IPython.display import display\n",
    "\n",
    "sns.set()\n",
    "sns.set_context('talk')\n",
    "np.set_printoptions(threshold=20, precision=2, suppress=True)\n",
    "pd.set_option('display.max_rows', 7)\n",
    "pd.set_option('display.max_columns', 8)\n",
    "pd.set_option('precision', 2)\n",
    "# This option stops scientific notation for pandas\n",
    "# pd.set_option('display.float_format', '{:.2f}'.format)\n",
    "\n",
    "def display_df(df, rows=pd.options.display.max_rows,\n",
    "               cols=pd.options.display.max_columns):\n",
    "    with pd.option_context('display.max_rows', rows,\n",
    "                           'display.max_columns', cols):\n",
    "        display(df)"
   ]
  },
  {
   "cell_type": "markdown",
   "metadata": {},
   "source": [
    "(sec:theory_samplingVariation)=\n",
    "# Sampling Variation\n",
    "\n",
    "Probability sampling, also known as scientific sampling, uses a chance mechanism, such as drawing indistinguishable marbles from an urn, to select a sample from the access frame. The use of randomness in the selection process enables us to calculate the variation in our sample. In particular, we can compute the chance that we draw a particular sample, which is extremely useful when considering the accuracy of our data. We demonstrate these calculations with the most basic sampling method, the Simple Random Sample (SRS), and then introduce an extension of the SRS, stratified sampling. To explain both sampling methods, we use a small population of seven elements. The population is small enough that we can list all possible samples that might result from  these sampling methods and we can compute the chance of each possible sample.\n",
    "\n",
    "__EXAMPLE: SpaceX Starship Protoypes.__\n",
    "The SpaceX Starship prototypes are called $SN1$, $SN2$, ..., where $SN$ stands for \"serial number\". In the first half of 2020, seven of these prototypes were built, and before deploying them a sample of them were pressure tested. Suppose a sample of three of the population of seven Starship prototypes for testing. (Note that while this example is artificial, much of the context is based on the actual SpaceX program and the  pressure tests made on the Starship prototypes, $SN1$, $SN2$, ..., $SN7$.)  $\\blacksquare$ "
   ]
  },
  {
   "cell_type": "markdown",
   "metadata": {},
   "source": [
    "## Simple Random Sample (SRS)\n",
    "\n",
    "To determine which three prototypes are to be selected for pressure testing, we use simple random sampling. We use the urn model: we write a label on each marble, place all the marbles in an urn, mix them well, and draw three without looking and without replacement between draws. All of the the possible samples we could get are listed below. \n",
    "\n",
    "$$ABC ~~ ABD ~~ ABE ~~ ABF ~~ ABG ~~ ACD ~~ ACE \\\\ ACF ~~ ACG ~~ ADE ~~ ADF ~~ ADG ~~ AEF ~~ AEG \\\\ AFG ~~ BCD ~~ BCE ~~ BCF ~~ BCG ~~ BDE ~~ BDF \\\\ BDG ~~ BEF ~~ BEG ~~BFG ~~CDE ~~ CDF ~~ CDG \\\\ CEF ~~ CEG ~~ CFG ~~ DEF ~~ DEG ~~ DFG ~~ EFG  $$\n",
    "\n",
    "We use the labels $A$, $B$, etc. rather than $SN1$, $SN2$, etc. because they are shorter and easier to distinguish from one another. There are $35$  unique samples of three from our population of seven. \n",
    "By design, each of these $35$ samples is equally likely to be chosen (the marbles are indistinguishable and well mixed) so the chance of any particular sample is the same as any other sample. This means the chance must be $1/35$,\n",
    "\n",
    "$${\\mathbb{P}}(ABC) = {\\mathbb{P}}(\\textrm{ABD}) = \\cdots = {\\mathbb{P}}(\\textrm{EFG}) = \\frac{1}{35}.$$\n",
    "\n",
    "Note that we use the special symbol ${\\mathbb{P}}$ to stand for \"probability\" or \"chance\", and we read the statement ${\\mathbb{P}}(ABC)$ as the \"chance the sample contains the marbles labeled A, B, and C.\" \n"
   ]
  },
  {
   "cell_type": "markdown",
   "metadata": {},
   "source": [
    "\n",
    "We can use the urn to answer questions about the composition of a sample. For example, to find the chance that marble $A$ is in the sample, we can add up the chance of all samples that contain $A$. There are 15 of them so the chance is:\n",
    "\n",
    "$${\\mathbb{P}}(\\textrm{A is in the sample}) = \\frac{15}{35} = \\frac{3}{7}.$$\n",
    "\n",
    "And by symmetry, we have:\n",
    "\n",
    "$${\\mathbb{P}}(\\textrm{A in sample}) = {\\mathbb{P}}(\\textrm{B in sample}) = \\cdots = {\\mathbb{P}}(\\textrm{G in sample}) = \\frac {3}{7}.$$\n",
    "\n",
    "Or, you can count them to convince yourself that each unit has an equal chance of being in the sample. \n",
    "\n",
    "We now have a more formal definition of \"representative data\" that is very useful:\n",
    "__In a SRS, every sample has the same chance of being selected.__\n",
    "\n",
    ":::{note}\n",
    "\n",
    "Many people mistakingly think that the defining property of a SRS is that every unit has an equal chance of being in the sample. However, this is not the case. A SRS of $n$ units from a population of $N$ means that every possible subset of $n$ units has the same chance of being selected.\n",
    "\n",
    ":::\n",
    "\n",
    "The stratified sample is similar to the SRS. It has the extra complication that multiple samples are drawn from disjoint subsets of the population. "
   ]
  },
  {
   "cell_type": "markdown",
   "metadata": {},
   "source": [
    "## Stratified Sample\n",
    "\n",
    "In stratified sampling, we divide the population into non-overlapping groups, called *strata* (one group is called a *stratum* and more than one are strata), and then take a simple random sample from each.  This is like having a separate urn for each stratum and drawing marbles from each urn, independently. The strata do not have to be the same size, and we need not take the same number of units from each.\n",
    "\n",
    "In our Starship example, $SN1$, $SN2$, $SN3$ and $SN4$ were constructed differently from $SN5$, $SN6$, and $SN7$ (the later three had no flaps and no nose cone). We might consider dividing our population of seven prototypes into two strata: those with and without flaps and nose cones. Our strata would be:\n",
    "$$\\textrm{Stratum}~1: \\{A, B, C, D \\} \\\\ \\textrm{Stratum}~2: \\{ E, F, G \\}$$\n",
    "Suppose we want to take a sample of size two from the first stratum and a sample of one from the second group of prototypes.  All together, we have a sample of size three from our population, but this sampling scheme gives us fewer possible samples than the SRS.\n",
    "\n",
    "$$ABE~~ABF~~ABG~~ACE~~ACF~~ACG\\\\ADE~~ADF~~ADG~~BCE~~BCF~~BCG\\\\BDE~~BDF~~BDG~~CDE~~CDF~~CDG$$"
   ]
  },
  {
   "cell_type": "markdown",
   "metadata": {},
   "source": [
    "\n",
    "As before, each of these samples is equally likely.\n",
    "\n",
    "$${\\mathbb{P}}\\left(ABE\\right) = {\\mathbb{P}}\\left(CDG\\right) = \\frac{1}{18}.$$\n",
    "\n",
    "However, not all triples are possible in this sampling scheme. For example,\n",
    "\n",
    "$${\\mathbb{P}}\\left(\\textrm{AEF}\\right) = 0,$$\n",
    "\n",
    "since our design dictates that we choose only one unit from the second stratum. "
   ]
  },
  {
   "cell_type": "markdown",
   "metadata": {},
   "source": [
    "\n",
    "Again, we can compute the probability that marble $A$ is in our sample by counting up all of the occurrences of $A$ among the 18 samples:\n",
    "\n",
    "$${\\mathbb{P}}\\left(A \\textrm{ in sample}\\right) = \\frac{9}{18} = \\frac{1}{2}.$$\n",
    "\n",
    "Notice that this is the chance that $A$ is chosen from the first stratum. Since two of the four marbles are selected from the first stratum, the chance is $2/4$ or $1/2$. In this sampling scheme, not all marbles have the same chance of appearing in the sample. For example, the chance that marble $F$ is chosen is not $1/2$.\n",
    "\n",
    "$${\\mathbb{P}}\\left(F \\textrm{ in sample}\\right) = \\frac{6}{18} = {\\mathbb{P}}\\left(F \\textrm{ chosen from stratum 2} \\right)=\\frac{1}{3}.$$\n"
   ]
  },
  {
   "cell_type": "markdown",
   "metadata": {},
   "source": [
    "Why would we want to use stratified sampling? \n",
    "+ It guarantees at least one element from each group.\n",
    "+ When some groups in the population are more heterogenous than others, if we take larger samples from these more variable strata, we can improve the accuracy of the sample. \n",
    "+ Stratified sampling also allows us to ensure that subgroups of the population are well-represented in the sample without using human judgement to select the individuals.\n",
    "\n",
    "Despite not all samples being possible in a stratified design, each stratum's sample is representative of its stratum.  We can use our knowledge of the sampling scheme to combine the samples from each stratum in a representative way through weighting. This topic is addressed in the exercises. \n",
    "\n",
    ":::{note}\n",
    "\n",
    "It's crucial to keep the sampling scheme in mind when we compute summary statistics, make plots, and fit models for otherwise, our analysis could be flawed. \n",
    "\n",
    ":::\n",
    "\n",
    "The simple random sample is at the core of many probability sampling schemes, not just stratified sampling. For example, most government surveys use complex sampling schemes that involve multi-stages of sampling from clusters (see the exercises) and from strata. The next section, explains how to compute the distribution of a summary statistic."
   ]
  },
  {
   "cell_type": "markdown",
   "metadata": {},
   "source": [
    "## Sampling Distribution of a Statistic\n",
    "\n",
    "Probability sampling induces a sampling distribution on any statistic that we calculate from our sample. To explain the concept, we return to our small population of Starship prototyes, and this time give each unit a value that we want to measure. We are interested in whether or not the prototype passes a pressure test. Suppose that four of the seven will fail the test. If we take a sample and give each chosen prototype a pressure test, then we might summarize our findings with, say, the proportion of prototypes in our sample that fail the test.  Each of our possible samples (remember, there are 35) gives us a summary statistic, a sample proportion. If units $A,B,D, and F$ fail the pressure test, then for each sample, we get a sample proportion that can be $0$, $1/3$, $2/3$ and $1$. For each sample, we can calculate its corresponding proprotion. Below are a few examples."
   ]
  },
  {
   "cell_type": "markdown",
   "metadata": {},
   "source": [
    "|    |    |    |    |    |   \n",
    "| :---        | :----   |  :--- | :--- |  :--- |   \n",
    "| Sample      | ABC       | BCE   | BDF | CEG | \n",
    "| Proportion  | 2/3       | 1/3   | 1   | 0   | "
   ]
  },
  {
   "cell_type": "markdown",
   "metadata": {},
   "source": [
    "These samples proportions can be summarized into a probability distribution table.  There are 4 samples that give us all failed tests (sample proportion of 1). These are: $ABD$ , $ABF$, $ADF$, $BDF$, so the chance of observing a sample proportion of $1$ is $4/35$.  The probability distribution table below summaries these possible values and their chances."
   ]
  },
  {
   "cell_type": "markdown",
   "metadata": {},
   "source": [
    "| Sample Proportion | No. Occurrences | Chance |\n",
    "| :---: | :---: | :---: |\n",
    "| 1 | 4 | 4/35 |\n",
    "| 2/3 | 18 | 18/35 |\n",
    "|1/3 | 12 | 12/35 |\n",
    "| 0 | 1 | 1/35 |"
   ]
  },
  {
   "cell_type": "markdown",
   "metadata": {},
   "source": [
    "\n",
    "We also can display the values in this table with a probability histogram.  And, we can find the expected outcome from the SRS, with the following reasoning: \n",
    "\n",
    "$${\\mathbb{E}}(\\textrm{sample proportion}) = 1 \\times \\frac{4}{35} + \\frac{2}{3}\\times \\frac{18}{35} + \\frac{1}{3} \\times \\frac{12}{35} + 0 \\times \\frac{1}{35}\\\\ = \\frac{20}{35} \\\\ =~ \\frac{4}{7}$$\n"
   ]
  },
  {
   "cell_type": "markdown",
   "metadata": {},
   "source": [
    "Here, we use the symbol ${\\mathbb{E}}$ to represent what we might *expect* for the sample proportion. Only one in 35 samples yiuelds a 0 for the proportion, 12 of the 35 samples have one failure (the proportion is $1/3$ for these), and so on. \n",
    "\n",
    "Further, we can find the *standard error* (we call it the *SE* for short) of the sample proportion. In some sense, this is the typical deviation of the sample proportion from the expected, $4/7$. Another name for the standard error is the *root mean square error*. This alternative name tells us how to compute it (by error we mean the difference between the sample statistic and the expected value).\n",
    "\n",
    "$${\\mathbb{SE}} = \\sqrt{(1-\\frac{4}{7})^2\\times \\frac{4}{35} + (\\frac{2}{3}-\\frac{4}{7})^2\\times \\frac{18}{35} +(\\frac{1}{3}-\\frac{4}{7})^2\\times \\frac{12}{35} +(0-\\frac{4}{7})^2\\times \\frac{1}{35} } \\\\ \\approx 0.233$$"
   ]
  },
  {
   "cell_type": "markdown",
   "metadata": {},
   "source": [
    "The SE, also called the margin of error, indicates that even though our sample proportion has a expected value that matches $4/7$, it is likely to be around $0.23$ away from $4/7$. \n",
    "\n",
    "While these calculations are relatively straight forward, we can approximate them through a simulation study. To do this, we take samples of size $3$ from our population over and over, say 100,000 times.  For each sample, we calculate the proportion of failures. So, we have 100,000 simulated sample proportions. The probability distribution table tells us that roughly $4/35$ of these $100,000$ sample proportions should $1$, about $18/35$ of them will be $2/3$, ..., and about 2,800 of the samples will be a sample with no failures ($100,000/35=2857$). \n",
    "\n",
    "- A table of the simulated proportions should look like the probability distribution above\n",
    "- The average of the simulated proportions should be close to the expected proportion, $4/7 \\approx 0.57$ .\n",
    "- The standard deviation of the simulated proportions should be close to the standard error, about $0.23$.\n",
    "\n",
    "We show the results of such a simulation below.\n"
   ]
  },
  {
   "cell_type": "markdown",
   "metadata": {},
   "source": [
    "## Simulating Sampling Error"
   ]
  },
  {
   "cell_type": "markdown",
   "metadata": {},
   "source": [
    "__The Urn Model.__ Our urn has seven marbles, one for each protoype. Since we care only about whether the prototype fails or passes the test, we can label each marble as 'fail' or 'pass', rather than $A$ through $G$.  We create this urn as an array. "
   ]
  },
  {
   "cell_type": "code",
   "execution_count": 315,
   "metadata": {},
   "outputs": [],
   "source": [
    "urn = ['fail', 'fail', 'fail', 'fail', 'pass', 'pass', 'pass']"
   ]
  },
  {
   "cell_type": "markdown",
   "metadata": {},
   "source": [
    "We simulate the draw of three marbles from our urn without replacement between draws using numpy's 'random.choice' as follows. "
   ]
  },
  {
   "cell_type": "code",
   "execution_count": 316,
   "metadata": {},
   "outputs": [
    {
     "data": {
      "text/plain": [
       "array(['fail', 'fail', 'fail'], dtype='<U4')"
      ]
     },
     "execution_count": 316,
     "metadata": {},
     "output_type": "execute_result"
    }
   ],
   "source": [
    "np.random.choice(urn, size=3, replace=False)"
   ]
  },
  {
   "cell_type": "markdown",
   "metadata": {},
   "source": [
    "We can keep sampling from our urn. Below we take 10 samples from the urn: "
   ]
  },
  {
   "cell_type": "code",
   "execution_count": 317,
   "metadata": {},
   "outputs": [
    {
     "data": {
      "text/plain": [
       "[array(['fail', 'pass', 'pass'], dtype='<U4'),\n",
       " array(['pass', 'fail', 'pass'], dtype='<U4'),\n",
       " array(['pass', 'fail', 'fail'], dtype='<U4'),\n",
       " array(['fail', 'pass', 'pass'], dtype='<U4'),\n",
       " array(['pass', 'fail', 'fail'], dtype='<U4'),\n",
       " array(['pass', 'fail', 'fail'], dtype='<U4'),\n",
       " array(['pass', 'fail', 'fail'], dtype='<U4'),\n",
       " array(['pass', 'pass', 'fail'], dtype='<U4'),\n",
       " array(['fail', 'fail', 'fail'], dtype='<U4'),\n",
       " array(['fail', 'pass', 'pass'], dtype='<U4')]"
      ]
     },
     "execution_count": 317,
     "metadata": {},
     "output_type": "execute_result"
    }
   ],
   "source": [
    "[np.random.choice(urn, size = 3, replace = False) for i in range(10)] "
   ]
  },
  {
   "cell_type": "markdown",
   "metadata": {},
   "source": [
    "Since we simply want to count the number of failures in the sample, it's easier if our urn contains 1s (for fail) and 0s (for pass) so that we can sum the results of the three draws to get the number of failures in the sample. That is, "
   ]
  },
  {
   "cell_type": "code",
   "execution_count": 318,
   "metadata": {},
   "outputs": [
    {
     "data": {
      "text/plain": [
       "0.6666666666666666"
      ]
     },
     "execution_count": 318,
     "metadata": {},
     "output_type": "execute_result"
    }
   ],
   "source": [
    "urn = [1, 1, 1, 1, 0, 0, 0]\n",
    "sum(np.random.choice(urn, size=3, replace=False))/3"
   ]
  },
  {
   "cell_type": "markdown",
   "metadata": {},
   "source": [
    "For our simulation, we generate 100,000 samples, and compute the proportion of dogs in each."
   ]
  },
  {
   "cell_type": "code",
   "execution_count": 319,
   "metadata": {},
   "outputs": [],
   "source": [
    "simulations = [sum(np.random.choice(urn, size=3, replace=False)) / 3\n",
    "               for i in range(100000)] "
   ]
  },
  {
   "cell_type": "markdown",
   "metadata": {},
   "source": [
    "Let's study these 100,000 sample proportions to find their average and standard deviation and match them against what we calculated already using the probability table."
   ]
  },
  {
   "cell_type": "markdown",
   "metadata": {
    "nbgrader": {
     "grade": false,
     "grade_id": "q1c",
     "locked": true,
     "schema_version": 2,
     "solution": false
    }
   },
   "source": [
    "### Simulation Results\n",
    "We expect the simulation results to be close to our probability calculations because we have repeated the sampling process many many times. Let's first compute the average value and the standard deviation of the 100,000 sample proportions and compare them to what the theory told us: the expected proportion is 4/7 or about 0.571, and the standard error is about 0.233."
   ]
  },
  {
   "cell_type": "code",
   "execution_count": 320,
   "metadata": {},
   "outputs": [
    {
     "data": {
      "text/plain": [
       "(0.5708633333333333, 0.2327338708816479)"
      ]
     },
     "execution_count": 320,
     "metadata": {},
     "output_type": "execute_result"
    }
   ],
   "source": [
    "np.mean(simulations), np.std(simulations)"
   ]
  },
  {
   "cell_type": "markdown",
   "metadata": {},
   "source": [
    "Our simulation matches the theoretical values quite closely.\n",
    "We can also compare the fraction of the 100,000 values that are $0$, $1/3$, $2/3$, and $1$ and\n",
    "make a histogram. These fractions should be, approximately, $1/35$, $12/35$, $18/35$, and $4/35$, or about  $0.03$, $0.34$, $0.51$, and $0.11$."
   ]
  },
  {
   "cell_type": "code",
   "execution_count": 321,
   "metadata": {},
   "outputs": [],
   "source": [
    "unique_els, counts_els = np.unique(np.array(simulations), return_counts=True)"
   ]
  },
  {
   "cell_type": "code",
   "execution_count": 322,
   "metadata": {},
   "outputs": [
    {
     "data": {
      "text/plain": [
       "array([[0.  , 0.33, 0.67, 1.  ],\n",
       "       [0.03, 0.34, 0.52, 0.11]])"
      ]
     },
     "execution_count": 322,
     "metadata": {},
     "output_type": "execute_result"
    }
   ],
   "source": [
    "np.array((unique_els, counts_els/100000))"
   ]
  },
  {
   "cell_type": "code",
   "execution_count": 323,
   "metadata": {},
   "outputs": [
    {
     "data": {
      "text/plain": [
       "Text(0.5, 0, 'Sample Proportion')"
      ]
     },
     "execution_count": 323,
     "metadata": {},
     "output_type": "execute_result"
    },
    {
     "data": {
      "image/png": "[encoded data removed]",
      "text/plain": [
       "<Figure size 432x288 with 1 Axes>"
      ]
     },
     "metadata": {},
     "output_type": "display_data"
    }
   ],
   "source": [
    "plt.hist(simulations)\n",
    "plt.axvline(0.571, color='red', linestyle='dashed', linewidth=2)\n",
    "plt.title('Approximate Sampling Distribution')\n",
    "plt.ylabel('# of Simulations')\n",
    "plt.xlabel('Sample Proportion')"
   ]
  },
  {
   "cell_type": "markdown",
   "metadata": {},
   "source": [
    "The simulations closely match the theory we developed.\n",
    "This simulation study does not *prove* the expected value of the chance outcome is 4/7 or that the chance that a sample has 2 fails is 18/35. \n",
    "But it does give us excellent approximations for these values. \n",
    "The simulation supports our earlier calculations, which is reassuring.\n",
    "More importantly, when we have a more complex setting where it might be difficult to calculate probability distributions, expected outcomes, and standard errors, a simulation study can offer valuable insights. \n",
    "\n",
    ":::{note}\n",
    "\n",
    "Simulation studies repeat a random process many many times, and summarizing patterns that result from the simulation can approximate the theoretical properties of the process. However, that is not the same as proving these theoretical properties, but often the guidance we get from the simulation is adequate for our purposes.\n",
    "\n",
    ":::\n",
    "\n",
    "Drawing marbles from an urn is such a popular framework for understanding randomness that it's probability distribution has been given a name, and most software provide the functionality to rapidly carry out the simulation.    "
   ]
  },
  {
   "cell_type": "markdown",
   "metadata": {},
   "source": [
    "### Hypergeometric distribution\n",
    "\n",
    "The version of the urn model where we count the number of marbles of a certain type (in our case 'fail' marbles) is so common that there is a random chance process named for it: the hypergeometric. \n",
    "Instead of using `random.choice`, we can use numpy's `random.hypergeometric` to simulate drawing marbles from the urn and counting the number of `fails`. The `random.hypergeometric` method is optimzed for the 0-1 urn and allows us to ask for 100,000 simulations in one call. For completeness, we repeat our simulation study, calculate the average and standard error, and the empirical proportions.  "
   ]
  },
  {
   "cell_type": "code",
   "execution_count": 324,
   "metadata": {},
   "outputs": [],
   "source": [
    "simulations_fast = np.random.hypergeometric(ngood=4, nbad=3, nsample=3, size=100000)"
   ]
  },
  {
   "cell_type": "markdown",
   "metadata": {},
   "source": [
    "Note: we don't think that a pass is bad; it's just a naming convention to call the type you want to count 'good' and the other 'bad'. "
   ]
  },
  {
   "cell_type": "code",
   "execution_count": 325,
   "metadata": {},
   "outputs": [
    {
     "data": {
      "text/plain": [
       "0.5698466666666667"
      ]
     },
     "execution_count": 325,
     "metadata": {},
     "output_type": "execute_result"
    }
   ],
   "source": [
    "np.mean(simulations_fast / 3)"
   ]
  },
  {
   "cell_type": "code",
   "execution_count": 326,
   "metadata": {},
   "outputs": [
    {
     "data": {
      "text/plain": [
       "0.23292654741117186"
      ]
     },
     "execution_count": 326,
     "metadata": {},
     "output_type": "execute_result"
    }
   ],
   "source": [
    "np.std(simulations_fast / 3)"
   ]
  },
  {
   "cell_type": "code",
   "execution_count": 327,
   "metadata": {},
   "outputs": [],
   "source": [
    "unique_els, counts_els = np.unique(np.array( simulations_fast ), return_counts=True)"
   ]
  },
  {
   "cell_type": "code",
   "execution_count": 328,
   "metadata": {},
   "outputs": [
    {
     "data": {
      "text/plain": [
       "array([[0.  , 1.  , 2.  , 3.  ],\n",
       "       [0.03, 0.35, 0.51, 0.11]])"
      ]
     },
     "execution_count": 328,
     "metadata": {},
     "output_type": "execute_result"
    }
   ],
   "source": [
    "np.array((unique_els, counts_els/100000))"
   ]
  },
  {
   "cell_type": "markdown",
   "metadata": {},
   "source": [
    "Perhaps the two most common probability distributions are those that arise from counting the number of 1s drawn from a 0-1 urn: drawing without replacement is the *hypergeometric* distribution and drawing with replacement is the *binomial*.  We do not delve further into the study of named probability distributions. \n",
    "\n",
    ":::{note}\n",
    "\n",
    "Whenever possible, it's a good idea to use the functionality provided in a third party package for simulating from a named distribution, rather than writing your own function, such as the random number generators offered in numpy. It's best to take advanatge of efficient and accurate code that others have  devloped.\n",
    "\n",
    ":::\n",
    "\n",
    "Our approach in this book is to develop intuition based on simulation studies to understand the results of a chance process. However, we do formalize the notion of a probability distribution, expected value, and standard deviation in Section {numref}`sec:theory_probIntro`. \n",
    "\n",
    "Now that we have simulation as a tool for understanding accuracy, we can revisit the election example from numref Chapter ch:data_scope and carry out a post-election study of what might have gone wrong with the voter polls. This simulation study imitates taking a sample of a thousand voters from a population of six million, we can examine potential sources of bias and the variation in the poll, and carry out a what-if analysis, where we examine how the predictions might have gone if even larger samples were taken.    "
   ]
  },
  {
   "cell_type": "markdown",
   "metadata": {},
   "source": [
    "(sec:theory_electionpolls)=\n",
    "# Election Polls, Bias, Variance, and Big Data"
   ]
  },
  {
   "cell_type": "markdown",
   "metadata": {
    "nbgrader": {
     "grade": false,
     "grade_id": "load-data",
     "locked": true,
     "schema_version": 2,
     "solution": false
    }
   },
   "source": [
    "The US president is chosen by the Electoral College, not by popular vote. \n",
    "Each state is alotted a certan number of electoral college votes, as a function of their population, and\n",
    "typically, whomever wins the popular vote in the state receives all of the electoral college votes for that state. \n",
    "\n",
    "In advance of the election, polls are conducted separately in all of the states. The results help identify \"battleground\" states, and these polls are combined to predict the winner of the electoral college votes. In 2016, pollsters correctly predicted the election outcome in 46 of the 50 states. \n",
    "For those 46 states, Trump received 231 and Clinton received 232 electoral college votes.\n",
    "The remaining 4 states, Florida, Michigan, Pennsylvania, and Wisconsin, accounted for a total of 75 votes, and whichever candidate received the majority of the electoral college votes in these states would win the election. \n",
    "\n",
    "The electoral margins in these four states were narrow, e.g., in Pennsylvania Trump received 48.18% and Clinton received 47.46% of the 6,165,478 votes cast in the state. Such narrow margins can make it hard to predict the outcome given the sample sizes that the polls used.\n",
    "\n",
    "Many experts have studied the 2016 election results. According to the American Association for Public Opinion Research (AAPOR), one online, opt-in poll adjusted their polling results for education but used only three broad categories (high school or less, some college, and college graduate). They found that had they separated out those with advanced degrees from those with college degrees, then they would have reduced Clinton’s margin by 0.5 percentage points. In other words, after the fact they were able to identify an education bias where highly educated voters tended to be more willing to participate in polls. This bias matters because these voters also tended to prefer Clinton over Trump.\n",
    "\n",
    "Now that we know how people actually voted, we can carry out a simulation study that imitates the election polling under different scenarios to help develop intuition for accuracy, bias, and variance (see {cite}`grotenhuis2018`. We will simulate the polls for Pennsylvania under two scenarios: \n",
    "\n",
    "1. People surveyed didn't change their minds, didn't hide who they voted for, and were representative of those who voted on election day.\n",
    "2. People with a higher education were more likely to respond, which led to a 0.5% bias for Clinton.\n",
    "\n",
    "Our ultimate goal is to understand the chance that a poll incorrectly calls the election for Hillary Clinton even if our sample was collected with absolutely no bias, and when there is a small amount of non-response bias."
   ]
  },
  {
   "cell_type": "markdown",
   "metadata": {
    "nbgrader": {
     "grade": false,
     "grade_id": "q1",
     "locked": true,
     "schema_version": 2,
     "solution": false
    }
   },
   "source": [
    "## Simulation Study of the Sampling Error\n",
    "\n",
    "\n",
    "For the first scenario, we simulate a simple random sample (SRS) of the 6+m voters in Pennsylavania and\n",
    "calculate Trump's lead over Clinton. \n",
    "We repeat this sample collection over and over, each time calculating Trump's lead, to get \n",
    "a sense of the different values a SRS might produce.\n",
    "\n",
    "Our population consists of the votes cast for Trump, Clinton, and a third-party candidate.\n",
    "We lump all of the third party candidates together because we are only interested in the difference between\n",
    "votes cast for Trump and Clinton."
   ]
  },
  {
   "cell_type": "markdown",
   "metadata": {},
   "source": [
    "## The Urn Model\n",
    "\n",
    "We can cast this problem in terms of an urn model as follows:\n",
    "\n",
    "+ There are 6,165,478 marbles in the urn, one for each vote\n",
    "+ Since we care only about whether the vote is for Clinton, Trump, or some other third party candidate, we can lump all third party candidates together and label each marble in one of three ways: Trump, Clinton, and Other.\n",
    "+ The poll is a SRS of, say, 1500 marbles from the urn\n",
    "+ We tally up the counts of the three types of marbles \n",
    "\n",
    "We begin by creating an urn that represents the votes cast on election day. "
   ]
  },
  {
   "cell_type": "code",
   "execution_count": 329,
   "metadata": {},
   "outputs": [
    {
     "data": {
      "text/plain": [
       "array([2970527, 2926135,  268814])"
      ]
     },
     "execution_count": 329,
     "metadata": {},
     "output_type": "execute_result"
    }
   ],
   "source": [
    "proportions = np.array([0.4818, 0.4746, 1 - (0.4818 + 0.4746)])               \n",
    "n = 1_500\n",
    "N = 6_165_478\n",
    "votes = np.trunc(N * proportions).astype(int)\n",
    "votes"
   ]
  },
  {
   "cell_type": "markdown",
   "metadata": {},
   "source": [
    "This version of the urn model is so common that there is a random chance process named for it, the multivariate hypergeometric. In Python, this is implemented in the `scipy.stats.multivariate_hypergeom.rvs` function. We can take a SRS and get our counts with the function call:"
   ]
  },
  {
   "cell_type": "code",
   "execution_count": 330,
   "metadata": {},
   "outputs": [
    {
     "data": {
      "text/plain": [
       "array([717, 725,  58])"
      ]
     },
     "execution_count": 330,
     "metadata": {},
     "output_type": "execute_result"
    }
   ],
   "source": [
    "from scipy.stats import multivariate_hypergeom\n",
    "\n",
    "multivariate_hypergeom.rvs(votes, n)"
   ]
  },
  {
   "cell_type": "markdown",
   "metadata": {},
   "source": [
    "And, each time we call `multivariate_hypergeom.rvs` we get a different sample and counts, e.g.,"
   ]
  },
  {
   "cell_type": "code",
   "execution_count": 331,
   "metadata": {},
   "outputs": [
    {
     "data": {
      "text/plain": [
       "array([732, 700,  68])"
      ]
     },
     "execution_count": 331,
     "metadata": {},
     "output_type": "execute_result"
    }
   ],
   "source": [
    "multivariate_hypergeom.rvs(votes, n)"
   ]
  },
  {
   "cell_type": "markdown",
   "metadata": {},
   "source": [
    "We compute Trumnp's lead for each simulation, i.e., $(n_T - n_C)/n$, where $n_T$ are the number of Trump votes in the sample and $n_C$ the number for Clinton. If the lead is positive, then the sample shows a win for Trump.\n",
    "\n",
    "We know the actual lead was, 0.4818 - 0.4746 =  0.0072, and to get a sense of the variation in the sampling process \n",
    "we can simulate the sampling process over and over and examine the values that we get in return. \n",
    "Below we simulate 100,000 simple random samples of 1500 voters from the state of Pennsylvania.  "
   ]
  },
  {
   "cell_type": "code",
   "execution_count": 332,
   "metadata": {},
   "outputs": [],
   "source": [
    "def trump_advantage(votes, n):\n",
    "    sample_votes = multivariate_hypergeom.rvs(votes, n)\n",
    "    return (sample_votes[0] - sample_votes[1]) / n"
   ]
  },
  {
   "cell_type": "code",
   "execution_count": 333,
   "metadata": {},
   "outputs": [],
   "source": [
    "simulations = [trump_advantage(votes, n) for _ in range(100000)] "
   ]
  },
  {
   "cell_type": "markdown",
   "metadata": {
    "nbgrader": {
     "grade": false,
     "grade_id": "q1c",
     "locked": true,
     "schema_version": 2,
     "solution": false
    }
   },
   "source": [
    "On average, the polling results show Trump with close to a 0.7% lead: "
   ]
  },
  {
   "cell_type": "code",
   "execution_count": 334,
   "metadata": {},
   "outputs": [
    {
     "data": {
      "text/plain": [
       "0.00723"
      ]
     },
     "execution_count": 334,
     "metadata": {},
     "output_type": "execute_result"
    }
   ],
   "source": [
    "np.mean(simulations)"
   ]
  },
  {
   "cell_type": "markdown",
   "metadata": {},
   "source": [
    "However, many times the lead in the sample was negative, meaning Clinton was the winner for that sample of voters.\n",
    "The histogram below shows the sampling distribution of Trump's advantage in Pennsylvania for a sample of 1500 voters. \n",
    "The vertical dashed line at 0 shows that more often than not, Trump is called, but there are many times when a sample \n",
    "shows Clinton in the lead."
   ]
  },
  {
   "cell_type": "code",
   "execution_count": 335,
   "metadata": {
    "tags": []
   },
   "outputs": [
    {
     "data": {
      "text/plain": [
       "Text(0.5, 0, 'Trump Lead in the Sample')"
      ]
     },
     "execution_count": 335,
     "metadata": {},
     "output_type": "execute_result"
    },
    {
     "data": {
      "image/png": "[encoded data removed]",
      "text/plain": [
       "<Figure size 432x288 with 1 Axes>"
      ]
     },
     "metadata": {},
     "output_type": "display_data"
    }
   ],
   "source": [
    "plt.hist(simulations, bins=20)\n",
    "plt.axvline(0, color='red', linestyle='dashed', linewidth=2)\n",
    "plt.title('Approximate Sampling Distribution')\n",
    "plt.ylabel('# of Simulations')\n",
    "plt.xlabel('Trump Lead in the Sample')"
   ]
  },
  {
   "cell_type": "markdown",
   "metadata": {},
   "source": [
    "In the 100,0000 simulated polls, we find Trump a victor about 60% of the time: "
   ]
  },
  {
   "cell_type": "code",
   "execution_count": 336,
   "metadata": {},
   "outputs": [
    {
     "data": {
      "text/plain": [
       "0.60798"
      ]
     },
     "execution_count": 336,
     "metadata": {},
     "output_type": "execute_result"
    }
   ],
   "source": [
    "np.count_nonzero(np.array(simulations) > 0) / 100000"
   ]
  },
  {
   "cell_type": "markdown",
   "metadata": {},
   "source": [
    "This number represents the chance that a given sample will correctly predict Trump's victory *even if the sample was collected with absoutely no bias*. In other words, even a non-biased sample will be wrong about 40% of the time. \n",
    "\n",
    "\n",
    "We have just studied the sampling error, and found how our predictions might look if there was no bias in our \n",
    "sampling process. Next we will see what happens when a little biasenters into the mix."
   ]
  },
  {
   "cell_type": "markdown",
   "metadata": {
    "nbgrader": {
     "grade": false,
     "grade_id": "q2",
     "locked": true,
     "schema_version": 2,
     "solution": false
    }
   },
   "source": [
    "## Simulation Study of Selection Bias\n",
    "\n",
    "\n",
    "\"In a perfect world, polls sample from the population of voters, who would state their political preference perfectly clearly and then vote accordingly.\" {cite}`grotenhuis2018`\n",
    "\n",
    "That's the simulation study that we just performed. \n",
    "\n",
    "\n",
    "It's difficult to control for every source of bias. We investigate here the effect of a small, education bias on the polling results. \n",
    "Specifically, we examine the impacts of the 0.5 percent bias in favor of Clinton that we described earlier. \n",
    "\n",
    "This bias essentially means that we see a distorted picture of voter preferences in our polls, where instead of 47.46 percent votes for Clinton, we have 47.96, and we have 48.18 - 0.5 = 47.68 percent for Trump. \n",
    "We adjust the proportions to reflect this bias: "
   ]
  },
  {
   "cell_type": "code",
   "execution_count": 337,
   "metadata": {},
   "outputs": [
    {
     "data": {
      "text/plain": [
       "array([0.48, 0.48, 0.04])"
      ]
     },
     "execution_count": 337,
     "metadata": {},
     "output_type": "execute_result"
    }
   ],
   "source": [
    "proportions_bias = np.array([0.4818 - 0.005, 0.4747 + 0.005, 1 - (0.4818 + 0.4746) ])\n",
    "proportions_bias"
   ]
  },
  {
   "cell_type": "code",
   "execution_count": 338,
   "metadata": {},
   "outputs": [
    {
     "data": {
      "text/plain": [
       "array([2939699, 2957579,  268814])"
      ]
     },
     "execution_count": 338,
     "metadata": {},
     "output_type": "execute_result"
    }
   ],
   "source": [
    "votes_bias = np.trunc(N * proportions_bias).astype(int)\n",
    "votes_bias"
   ]
  },
  {
   "cell_type": "markdown",
   "metadata": {},
   "source": [
    "Now, our simulations find Trump winning in about 45% of the samples."
   ]
  },
  {
   "cell_type": "code",
   "execution_count": 339,
   "metadata": {},
   "outputs": [],
   "source": [
    "simulations_bias = [trump_advantage(votes_bias, n) for i in range(100000)] "
   ]
  },
  {
   "cell_type": "code",
   "execution_count": 340,
   "metadata": {},
   "outputs": [
    {
     "data": {
      "text/plain": [
       "Text(0.5, 0, 'Trump Lead in the Sample')"
      ]
     },
     "execution_count": 340,
     "metadata": {},
     "output_type": "execute_result"
    },
    {
     "data": {
      "image/png": "[encoded data removed]",
      "text/plain": [
       "<Figure size 432x288 with 1 Axes>"
      ]
     },
     "metadata": {},
     "output_type": "display_data"
    }
   ],
   "source": [
    "plt.hist(simulations_bias, bins=20)\n",
    "plt.axvline(0, color='red', linestyle='dashed', linewidth=2)\n",
    "plt.title('Approximate Sampling Distribution for a Biased Sample') \n",
    "plt.ylabel('# of Simulations')\n",
    "plt.xlabel('Trump Lead in the Sample')"
   ]
  },
  {
   "cell_type": "code",
   "execution_count": 341,
   "metadata": {},
   "outputs": [
    {
     "data": {
      "text/plain": [
       "0.44967"
      ]
     },
     "execution_count": 341,
     "metadata": {},
     "output_type": "execute_result"
    }
   ],
   "source": [
    "np.count_nonzero(np.array(simulations_bias) > 0) / 100000"
   ]
  },
  {
   "cell_type": "markdown",
   "metadata": {},
   "source": [
    "Notice that the histograms from the two simulations are similar in shape. \n",
    "They are symmetric with reasonable length tails, i.e., they appear to roughly follow the normal curve.\n",
    "The second histogram is shifted slightly to the left, which reflects the non-response bias we introduced."
   ]
  },
  {
   "cell_type": "markdown",
   "metadata": {
    "nbgrader": {
     "grade": false,
     "grade_id": "q2c",
     "locked": true,
     "schema_version": 2,
     "solution": false
    }
   },
   "source": [
    "##  Would increasing the sample size have helped?\n",
    "\n",
    "With our simulation study we can get insight into the answer to this question. \n",
    "For example, we can try a sample size of 12,000 and run 100,000 simulations for both scenarios."
   ]
  },
  {
   "cell_type": "code",
   "execution_count": 342,
   "metadata": {},
   "outputs": [],
   "source": [
    "simulations_big = [trump_advantage(votes, 12000) for i in range(100000)] \n",
    "simulations_bias_big = [trump_advantage(votes_bias, 12000) for i in range(100000)] "
   ]
  },
  {
   "cell_type": "code",
   "execution_count": 343,
   "metadata": {},
   "outputs": [
    {
     "name": "stdout",
     "output_type": "stream",
     "text": [
      "0.78798 0.3711\n"
     ]
    }
   ],
   "source": [
    "scenario_no_bias = np.count_nonzero(np.array(simulations_big) > 0) / 100000\n",
    "scenario_bias = np.count_nonzero(np.array(simulations_bias_big) > 0) / 100000\n",
    "print(scenario_no_bias, scenario_bias)"
   ]
  },
  {
   "cell_type": "markdown",
   "metadata": {},
   "source": [
    "By analyzing over 4,000 polls for 600 state-level, gubernatorial, senatorial, and presidential elections, {cite}`shirani2018` et al found that on average these polls exhibited a bias of about 1.5 percentage points.\n",
    "\n",
    "When the margin of victory is relatively small as it was in 2016, a larger sample size reduces the sampling error, but unfortunately, if there is bias, then the predictions are close to the biased estimate. If the bias pushes the prediction from one candidate (Trump) to another (Clinton), then we have a \"surprise\" upset. "
   ]
  }
 ],
 "metadata": {
  "celltoolbar": "Tags",
  "kernelspec": {
   "display_name": "Python 3",
   "language": "python",
   "name": "python3"
  },
  "language_info": {
   "codemirror_mode": {
    "name": "ipython",
    "version": 3
   },
   "file_extension": ".py",
   "mimetype": "text/x-python",
   "name": "python",
   "nbconvert_exporter": "python",
   "pygments_lexer": "ipython3",
   "version": "3.9.4"
  }
 },
 "nbformat": 4,
 "nbformat_minor": 4
}
