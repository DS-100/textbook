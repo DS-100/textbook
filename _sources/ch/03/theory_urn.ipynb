{
 "cells": [
  {
   "cell_type": "code",
   "execution_count": 65,
   "metadata": {
    "tags": [
     "remove-cell"
    ]
   },
   "outputs": [],
   "source": [
    "# Reference: https://jupyterbook.org/interactive/hiding.html\n",
    "# Use {hide, remove}-{input, output, cell} tags to hiding content\n",
    "\n",
    "import numpy as np\n",
    "import matplotlib.pyplot as plt\n",
    "import pandas as pd\n",
    "import seaborn as sns\n",
    "%matplotlib inline\n",
    "import ipywidgets as widgets\n",
    "from ipywidgets import interact, interactive, fixed, interact_manual\n",
    "from IPython.display import display\n",
    "\n",
    "sns.set()\n",
    "sns.set_context('talk')\n",
    "np.set_printoptions(threshold=20, precision=2, suppress=True)\n",
    "pd.set_option('display.max_rows', 7)\n",
    "pd.set_option('display.max_columns', 8)\n",
    "pd.set_option('precision', 2)\n",
    "# This option stops scientific notation for pandas\n",
    "# pd.set_option('display.float_format', '{:.2f}'.format)\n",
    "\n",
    "def display_df(df, rows=pd.options.display.max_rows,\n",
    "               cols=pd.options.display.max_columns):\n",
    "    with pd.option_context('display.max_rows', rows,\n",
    "                           'display.max_columns', cols):\n",
    "        display(df)"
   ]
  },
  {
   "cell_type": "markdown",
   "metadata": {},
   "source": [
    "(sec:theory_urn)=\n",
    "# The Urn Model\n",
    "\n",
    "The urn model is a simple abstraction of the chance mechanism for drawing indistinguishable marbles from a container, an urn. The randomness in the selection process of drawing marbles from an urn can be extended to many chance processes in real-life examples, and we can simulate the random behavior of the urn model and use our findings to better understand compute the accuracy of our data. To explain both sampling methods, we use a small population of seven elements. The population is small enough that we can list all possible samples that might result from  these sampling methods.\n",
    "\n",
    "__EXAMPLE: SpaceX Starship Protoypes.__\n",
    "The SpaceX Starship prototypes are called $SN1$, $SN2$, ..., where $SN$ stands for \"serial number\". In the first half of 2020, seven of these prototypes were built, and before deploying them a sample of them were pressure tested. Suppose a sample of three of the population of seven Starship prototypes for testing. (Note that while this example is artificial, much of the context is based on the actual SpaceX program and the  pressure tests made on the Starship prototypes, $SN1$, $SN2$, ..., $SN7$.)  $\\blacksquare$ "
   ]
  },
  {
   "cell_type": "markdown",
   "metadata": {},
   "source": [
    "To study which three prototypes are to be selected for pressure testing, we use the urn model. We write a label on each marble, place all the marbles in the urn, mix them well, and draw three without looking and without replacement between draws. All of the the possible samples we could get are listed below. \n",
    "\n",
    "$$ABC ~~ ABD ~~ ABE ~~ ABF ~~ ABG ~~ ACD ~~ ACE \\\\ ACF ~~ ACG ~~ ADE ~~ ADF ~~ ADG ~~ AEF ~~ AEG \\\\ AFG ~~ BCD ~~ BCE ~~ BCF ~~ BCG ~~ BDE ~~ BDF \\\\ BDG ~~ BEF ~~ BEG ~~BFG ~~CDE ~~ CDF ~~ CDG \\\\ CEF ~~ CEG ~~ CFG ~~ DEF ~~ DEG ~~ DFG ~~ EFG  $$\n",
    "\n",
    "We use the labels $A$, $B$, etc. rather than $SN1$, $SN2$, etc. because they are shorter and easier to distinguish from one another. There are $35$  unique samples of three from our population of seven. \n",
    "By design, each of these $35$ samples is equally likely to be chosen (the marbles are indistinguishable and well mixed) so the chance of any particular sample is the same as any other sample. "
   ]
  },
  {
   "cell_type": "markdown",
   "metadata": {},
   "source": [
    "## Sampling Distribution of a Statistic\n",
    "\n",
    "With the urn model and simulation, we can study the sampling distribution of a statistic calculated based on the marbles drawn. Suppose we are interested in whether or not the prototypes that correspond to the marbles drawn from the urn pass a pressure test. If for example, four of the seven prototypes will fail the test, then we might summarize our draws with, say, the proportion of prototypes drawn from the urn that fail the test.  Each of our 35 possible samples gives us a summary statistic, a sample proportion. For concreteness, suppose prototypes $A,B,D, and F$ would fail the pressure test, if chosen. Each set of three marbles, yields a sample proportion. This sample proportion might be $0$, $1/3$, $2/3$ or $1$. For each triple, we can calculate its corresponding proprotion. Below are a few examples."
   ]
  },
  {
   "cell_type": "markdown",
   "metadata": {},
   "source": [
    "|    |    |    |    |    |   \n",
    "| :---        | :----   |  :--- | :--- |  :--- |   \n",
    "| Sample      | ABC       | BCE   | BDF | CEG | \n",
    "| Proportion  | 2/3       | 1/3   | 1   | 0   | "
   ]
  },
  {
   "cell_type": "markdown",
   "metadata": {},
   "source": [
    "These samples proportions can be summarized into a table.  There are 4 samples that give us all failed tests (sample proportion of 1). These are: $ABD$ , $ABF$, $ADF$, $BDF$, so the chance of observing a sample proportion of $1$ is $4/35$.  The table below summaries these possible values and their relative occurrence."
   ]
  },
  {
   "cell_type": "markdown",
   "metadata": {},
   "source": [
    "| Sample Proportion | No. Occurrences | Fraction |\n",
    "| :---: | :---: | :---: |\n",
    "| 1 | 4 | 4/35 |\n",
    "| 2/3 | 18 | 18/35 |\n",
    "|1/3 | 12 | 12/35 |\n",
    "| 0 | 1 | 1/35 |"
   ]
  },
  {
   "cell_type": "markdown",
   "metadata": {},
   "source": [
    "While these calculations are relatively straight forward, we can approximate them through a simulation study. To do this, we take samples of three from our population over and over, say 100,000 times.  For each sample, we calculate the proportion of failures. That gives us 100,000 simulated sample proportions. \n",
    "The table of the simulated proportions should look like the distribution above. We confirm this with a simulation study. "
   ]
  },
  {
   "cell_type": "markdown",
   "metadata": {},
   "source": [
    "## Simulating the Sampling Distribution"
   ]
  },
  {
   "cell_type": "markdown",
   "metadata": {},
   "source": [
    "Our original urn had seven marbles, one for each protoype. However, since we care only about whether the prototype fails or passes the test, we can re-label each marble as 'fail' or 'pass'.  We create this revised urn as an array. "
   ]
  },
  {
   "cell_type": "code",
   "execution_count": 66,
   "metadata": {},
   "outputs": [],
   "source": [
    "urn = ['fail', 'fail', 'fail', 'fail', 'pass', 'pass', 'pass']"
   ]
  },
  {
   "cell_type": "markdown",
   "metadata": {},
   "source": [
    "We simulate the draw of three marbles from our urn without replacement between draws using numpy's 'random.choice' as follows. "
   ]
  },
  {
   "cell_type": "code",
   "execution_count": 67,
   "metadata": {},
   "outputs": [
    {
     "data": {
      "text/plain": [
       "array(['fail', 'fail', 'fail'], dtype='<U4')"
      ]
     },
     "execution_count": 67,
     "metadata": {},
     "output_type": "execute_result"
    }
   ],
   "source": [
    "np.random.choice(urn, size=3, replace=False)"
   ]
  },
  {
   "cell_type": "markdown",
   "metadata": {},
   "source": [
    "We can keep sampling from our urn to see what the results might look like."
   ]
  },
  {
   "cell_type": "code",
   "execution_count": 68,
   "metadata": {},
   "outputs": [
    {
     "data": {
      "text/plain": [
       "[array(['fail', 'fail', 'fail'], dtype='<U4'),\n",
       " array(['pass', 'pass', 'fail'], dtype='<U4'),\n",
       " array(['fail', 'pass', 'pass'], dtype='<U4'),\n",
       " array(['pass', 'fail', 'fail'], dtype='<U4'),\n",
       " array(['pass', 'pass', 'fail'], dtype='<U4'),\n",
       " array(['pass', 'pass', 'fail'], dtype='<U4'),\n",
       " array(['fail', 'fail', 'fail'], dtype='<U4'),\n",
       " array(['pass', 'pass', 'fail'], dtype='<U4'),\n",
       " array(['pass', 'fail', 'pass'], dtype='<U4'),\n",
       " array(['pass', 'pass', 'pass'], dtype='<U4')]"
      ]
     },
     "execution_count": 68,
     "metadata": {},
     "output_type": "execute_result"
    }
   ],
   "source": [
    "[np.random.choice(urn, size = 3, replace = False) for i in range(10)] "
   ]
  },
  {
   "cell_type": "markdown",
   "metadata": {},
   "source": [
    "Since we simply want to count the number of failures in the sample, it's easier if the marbles are labeled 1 for fail and 0 for pass. This way we can sum the results of the three draws to get the number of failures in the sample. Again, we re-label the marbles in the urn, and compute the fraction of fails."
   ]
  },
  {
   "cell_type": "code",
   "execution_count": 69,
   "metadata": {},
   "outputs": [
    {
     "data": {
      "text/plain": [
       "0.6666666666666666"
      ]
     },
     "execution_count": 69,
     "metadata": {},
     "output_type": "execute_result"
    }
   ],
   "source": [
    "urn = [1, 1, 1, 1, 0, 0, 0]\n",
    "sum(np.random.choice(urn, size=3, replace=False))/3"
   ]
  },
  {
   "cell_type": "markdown",
   "metadata": {},
   "source": [
    "For our simulation, we generate 100,000 samples, and compute the proportion of fails in each."
   ]
  },
  {
   "cell_type": "code",
   "execution_count": 70,
   "metadata": {},
   "outputs": [],
   "source": [
    "simulations = [sum(np.random.choice(urn, size=3, replace=False)) / 3\n",
    "               for i in range(100000)] "
   ]
  },
  {
   "cell_type": "markdown",
   "metadata": {},
   "source": [
    "Let's study these 100,000 sample proportions and match them against what we calculated already using the  table based on the enumeration of the 35 possible samples."
   ]
  },
  {
   "cell_type": "markdown",
   "metadata": {
    "nbgrader": {
     "grade": false,
     "grade_id": "q1c",
     "locked": true,
     "schema_version": 2,
     "solution": false
    }
   },
   "source": [
    "We expect the simulation results to be close to our earlier calculations because we have repeated the sampling process many many times. We compare the fraction of the 100,000 values that are $0$, $1/3$, $2/3$, and $1$ and make a plot. These fractions should be, approximately, $1/35$, $12/35$, $18/35$, and $4/35$, or about  $0.03$, $0.34$, $0.51$, and $0.11$. They match well."
   ]
  },
  {
   "cell_type": "code",
   "execution_count": 71,
   "metadata": {},
   "outputs": [],
   "source": [
    "unique_els, counts_els = np.unique(np.array(simulations), return_counts=True)"
   ]
  },
  {
   "cell_type": "code",
   "execution_count": 72,
   "metadata": {},
   "outputs": [
    {
     "data": {
      "text/plain": [
       "array([[0.  , 0.33, 0.67, 1.  ],\n",
       "       [0.03, 0.34, 0.51, 0.11]])"
      ]
     },
     "execution_count": 72,
     "metadata": {},
     "output_type": "execute_result"
    }
   ],
   "source": [
    "np.array((unique_els, counts_els/100000))"
   ]
  },
  {
   "cell_type": "code",
   "execution_count": 73,
   "metadata": {},
   "outputs": [
    {
     "data": {
      "text/plain": [
       "Text(0.5, 0, 'Sample Proportion')"
      ]
     },
     "execution_count": 73,
     "metadata": {},
     "output_type": "execute_result"
    },
    {
     "data": {
      "image/png": "[encoded data removed]",
      "text/plain": [
       "<Figure size 432x288 with 1 Axes>"
      ]
     },
     "metadata": {},
     "output_type": "display_data"
    }
   ],
   "source": [
    "plt.hist(simulations, bins = [-0.01, 0.01, 0.32, 0.34, 0.66, 0.68, 0.99, 1.01 ])\n",
    "#plt.axvline(0.571, color='red', linestyle='dashed', linewidth=2)\n",
    "plt.title('Approximate Sampling Distribution')\n",
    "plt.ylabel('# of Simulations')\n",
    "plt.xlabel('Sample Proportion')"
   ]
  },
  {
   "cell_type": "markdown",
   "metadata": {},
   "source": [
    "The simulations closely match the table we created based on enumerating all of the possible outcomes.\n",
    "This simulation study does not *prove* that we expect 18/35 samples to have two fails, but we can see that it does give us excellent approximations to our earlier calculations, which is reassuring.\n",
    "More importantly, when we have a more complex setting where it might be difficult to enumerate the frequencies for all possibilities, a simulation study can offer valuable insights. \n",
    "\n",
    ":::{note}\n",
    "\n",
    "Simulation studies repeat a random process many many times.  A summary of the patterns that result from the simulation can approximate the theoretical properties of the chance process. This summary is not the same as proving these theoretical properties, but often the guidance we get from the simulation is adequate for our purposes.\n",
    "\n",
    ":::\n",
    "\n",
    "Drawing marbles from an urn with 0s and 1s is such a popular framework for understanding randomness that this chance process has been given a formal name, the hypergeometric. And, most software provide the functionality to rapidly carry out simulations of the hypergeomteric. We redo our simulation using the hypergeometric to complete this section.     "
   ]
  },
  {
   "cell_type": "markdown",
   "metadata": {},
   "source": [
    "## The Hypergeometric\n",
    "\n",
    "The version of the urn model where we count the number of marbles of a certain type (in our case 'fail' marbles) is so common that there is a random chance process named for it: the hypergeometric. \n",
    "Instead of using `random.choice`, we can use numpy's `random.hypergeometric` to simulate drawing marbles from the urn and counting the number of `fails`. The `random.hypergeometric` method is optimzed for the 0-1 urn and allows us to ask for 100,000 simulations in one call. For completeness, we repeat our simulation study and calculate the empirical proportions.  "
   ]
  },
  {
   "cell_type": "code",
   "execution_count": 74,
   "metadata": {},
   "outputs": [],
   "source": [
    "simulations_fast = np.random.hypergeometric(ngood=4, nbad=3, nsample=3, size=100000)"
   ]
  },
  {
   "cell_type": "markdown",
   "metadata": {},
   "source": [
    "Note: we don't think that a pass is bad; it's just a naming convention to call the type you want to count 'good' and the other 'bad'. "
   ]
  },
  {
   "cell_type": "code",
   "execution_count": 75,
   "metadata": {},
   "outputs": [],
   "source": [
    "unique_els, counts_els = np.unique(np.array( simulations_fast ), return_counts=True)"
   ]
  },
  {
   "cell_type": "code",
   "execution_count": 76,
   "metadata": {},
   "outputs": [
    {
     "data": {
      "text/plain": [
       "array([[0.  , 1.  , 2.  , 3.  ],\n",
       "       [0.03, 0.35, 0.51, 0.11]])"
      ]
     },
     "execution_count": 76,
     "metadata": {},
     "output_type": "execute_result"
    }
   ],
   "source": [
    "np.array((unique_els, counts_els/100000))"
   ]
  },
  {
   "cell_type": "markdown",
   "metadata": {},
   "source": [
    "Perhaps the two most common chance processes are those that arise from counting the number of 1s drawn from a 0-1 urn: drawing without replacement is the *hypergeometric* and drawing with replacement is the *binomial*.\n",
    "\n",
    ":::{note}\n",
    "\n",
    "Whenever possible, it's a good idea to use the functionality provided in a third party package for simulating from a named distribution, rather than writing your own function, such as the random number generators offered in numpy. It's best to take advanatge of efficient and accurate code that others have  devloped.\n",
    "\n",
    ":::\n",
    "\n",
    "Our approach in this book is to develop intuition based on simulation studies to understand the results of a chance process. However, we do formalize the notion of a probability distribution of a statistics (like the proportion of fails in a sample) in {numref}`sec:theory_probability`. \n",
    "\n",
    "Now that we have simulation as a tool for understanding accuracy, we can revisit the election example from numref Chapter ch:data_scope and carry out a post-election study of what might have gone wrong with the voter polls. This simulation study imitates drawing more than a thousand marbles (voters who participate in the poll) from an urn of six million. We can examine potential sources of bias and the variation in the polling results, and carry out a what-if analysis, where we examine how the predictions might have gone if even a larger number of draws from the urn were taken.    "
   ]
  }
 ],
 "metadata": {
  "celltoolbar": "Tags",
  "kernelspec": {
   "display_name": "Python 3",
   "language": "python",
   "name": "python3"
  },
  "language_info": {
   "codemirror_mode": {
    "name": "ipython",
    "version": 3
   },
   "file_extension": ".py",
   "mimetype": "text/x-python",
   "name": "python",
   "nbconvert_exporter": "python",
   "pygments_lexer": "ipython3",
   "version": "3.9.4"
  }
 },
 "nbformat": 4,
 "nbformat_minor": 4
}
