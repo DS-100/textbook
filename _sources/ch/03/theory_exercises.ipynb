{
 "cells": [
  {
   "cell_type": "code",
   "execution_count": null,
   "metadata": {
    "tags": [
     "remove-cell"
    ]
   },
   "outputs": [],
   "source": [
    "# Reference: https://jupyterbook.org/interactive/hiding.html\n",
    "# Use {hide, remove}-{input, output, cell} tags to hiding content\n",
    "\n",
    "import numpy as np\n",
    "import matplotlib.pyplot as plt\n",
    "import pandas as pd\n",
    "import seaborn as sns\n",
    "%matplotlib inline\n",
    "import ipywidgets as widgets\n",
    "from ipywidgets import interact, interactive, fixed, interact_manual\n",
    "from IPython.display import display\n",
    "\n",
    "sns.set()\n",
    "sns.set_context('talk')\n",
    "np.set_printoptions(threshold=20, precision=2, suppress=True)\n",
    "pd.set_option('display.max_rows', 7)\n",
    "pd.set_option('display.max_columns', 8)\n",
    "pd.set_option('precision', 2)\n",
    "# This option stops scientific notation for pandas\n",
    "# pd.set_option('display.float_format', '{:.2f}'.format)\n",
    "\n",
    "def display_df(df, rows=pd.options.display.max_rows,\n",
    "               cols=pd.options.display.max_columns):\n",
    "    with pd.option_context('display.max_rows', rows,\n",
    "                           'display.max_columns', cols):\n",
    "        display(df)"
   ]
  },
  {
   "cell_type": "markdown",
   "metadata": {},
   "source": [
    "# Exercises\n",
    "\n"
   ]
  },
  {
   "cell_type": "markdown",
   "metadata": {},
   "source": [
    "**TODO: the content below was pasted verbatim from Notion, but doesn't seem to have actual exercises?**"
   ]
  },
  {
   "cell_type": "markdown",
   "metadata": {},
   "source": [
    "## Cluster Sampling\n",
    "\n",
    "In cluster sampling, the population is also divided into non-overlapping subgroups. These tend to be smaller than strata, and they are called clusters.  With cluster sampling we take a simple random sample of the clusters and use all of the units in each cluster for our sample. Using our urn analogy, suppose the marbles are divided up into small groups and each group of marbles is placed inside a hollow ball. These balls are placed in the urn, and we take a simple random sample of balls.  For each ball selected, we put all of the marbles inside that ball into our sample.  \n",
    "\n",
    "Again, as a simple example, suppose we our population of $7$ individuals are placed into $4$ clusters as follows: \n",
    "\n",
    "$$\\left(A,B\\right)~ \\left(C, D\\right)~ \\left(E, F\\right) ~ \\left(G\\right).$$\n",
    "\n",
    "Then, if we take a SRS of $2$ clusters our sample will be one of the following:\n",
    "\n",
    "$$\\left(A,B,C,D\\right)~~ \\left(A,B,E,F\\right)~~ \\left(A,B,G\\right)\\\\ \\left(C, D,E,F\\right)~~ \\left(C, D,G\\right)~~ \\left(E, F, G\\right).$$\n",
    "\n",
    "We can compute the probability that $A$ is in our sample\n",
    "\n",
    "$${\\mathbb{P}}\\left(\\textrm{A in sample} \\right) = {\\mathbb{P}}\\left(\\textrm{A, B chosen}\\right) =  \\frac{1}{3}$$\n",
    "\n",
    "With this cluster sampling scheme:\n",
    "\n",
    "$${\\mathbb{P}}\\left(\\textrm{A and B in sample} \\right) = \\frac{1}{3}\\\\ {\\mathbb{P}}\\left(\\textrm{A and C in sample}\\right) = 0$$\n",
    "\n",
    "since A and C can never appear in the same sample if we only select one cluster.\n",
    "\n",
    "Cluster sampling is still probability sampling since we can assign a probability to each potential sample. However, the resulting probabilities are different than using a SRS depending on how the population is clustered.\n",
    "\n",
    "Why use cluster sampling? Cluster sampling makes sample collection easier. For example, it is much easier to poll 100 homes of 2-4 people each than to poll 300 individuals scattered across a  city. This is the reason why many polling agencies today use forms of cluster sampling to conduct surveys.\n"
   ]
  },
  {
   "cell_type": "markdown",
   "metadata": {},
   "source": [
    "## Systematic Sampling\n",
    "\n",
    "In systematic sampling, the population is ordered in a list, the first unit is selected at random from the first $k$ elements on the list, and then every $k^{th}$ unit after that is placed in the sample. Again, as a simple example, suppose we our population of $6$ individuals are ordered alphabetically and we select on from the first three $A, B, C$  at random, and then every third element on the list after that. Since our list only has $6$ elements, our samples are simply: \n",
    "\n",
    "$$\\left(A,D\\right)~ \\left(B, E\\right)~ \\left(C, F\\right).$$\n",
    "\n",
    "Again, they are equally likely so each has chance $1/3$. We can compute the probability that $A$ is in our sample\n",
    "\n",
    "$${\\mathbb{P}}\\left(\\textrm{A in sample} \\right) = \\frac{1}{3}$$\n",
    "\n",
    "With this sampling scheme:\n",
    "\n",
    "$${\\mathbb{P}}\\left(\\textrm{A and D in sample} \\right) = \\frac{1}{3}\\\\ {\\mathbb{P}}\\left(\\textrm{A and C in sample}\\right) = 0$$\n",
    "\n",
    "In fact, the chance that $A$  and any other letter other than $D$  is in the sample is $0$. \n",
    "\n",
    "You might have notices that systematic sampling is a special case of cluster sampling.  \n",
    "\n",
    "## Intercept surveys on the web\n",
    "\n",
    "When a popup window asks you to complete a brief questionnaire, frequently use systematic sampling.... an intercept survey. Every $k^{th}$ visitor to a website is asked to complete a brief survey.  Here the \"list\" of population units is simply the ordering of visitors to the site. It's reasonable to imagine that this sort of ordering wouldn't introduce a selection bias in the sampling process. But, how often do you click, \"No thanks\" or shut the popup window?  Non-response bias in these surveys is difficult to assess, we might imagine that those taking the time to answer the questions are either very dissatisfied or satisfied with their customer experience. And what if you use a popup blocker?  You will never answer any surveys. This type of non-response can be even more difficult to get a handle on.\n",
    "\n",
    "## Wikipedia and a simulation study\n"
   ]
  },
  {
   "cell_type": "markdown",
   "metadata": {},
   "source": []
  }
 ],
 "metadata": {
  "celltoolbar": "Tags",
  "kernelspec": {
   "display_name": "Python 3",
   "language": "python",
   "name": "python3"
  },
  "language_info": {
   "codemirror_mode": {
    "name": "ipython",
    "version": 3
   },
   "file_extension": ".py",
   "mimetype": "text/x-python",
   "name": "python",
   "nbconvert_exporter": "python",
   "pygments_lexer": "ipython3",
   "version": "3.8.5"
  }
 },
 "nbformat": 4,
 "nbformat_minor": 4
}
