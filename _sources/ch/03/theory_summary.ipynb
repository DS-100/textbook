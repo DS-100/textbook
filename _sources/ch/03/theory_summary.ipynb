{
 "cells": [
  {
   "cell_type": "code",
   "execution_count": 9,
   "metadata": {
    "tags": [
     "remove-cell"
    ]
   },
   "outputs": [],
   "source": [
    "# Reference: https://jupyterbook.org/interactive/hiding.html\n",
    "# Use {hide, remove}-{input, output, cell} tags to hiding content\n",
    "\n",
    "import numpy as np\n",
    "import matplotlib.pyplot as plt\n",
    "import pandas as pd\n",
    "import seaborn as sns\n",
    "%matplotlib inline\n",
    "import ipywidgets as widgets\n",
    "from ipywidgets import interact, interactive, fixed, interact_manual\n",
    "from IPython.display import display\n",
    "\n",
    "sns.set()\n",
    "sns.set_context('talk')\n",
    "np.set_printoptions(threshold=20, precision=2, suppress=True)\n",
    "pd.set_option('display.max_rows', 7)\n",
    "pd.set_option('display.max_columns', 8)\n",
    "pd.set_option('precision', 2)\n",
    "# This option stops scientific notation for pandas\n",
    "# pd.set_option('display.float_format', '{:.2f}'.format)\n",
    "\n",
    "def display_df(df, rows=pd.options.display.max_rows,\n",
    "               cols=pd.options.display.max_columns):\n",
    "    with pd.option_context('display.max_rows', rows,\n",
    "                           'display.max_columns', cols):\n",
    "        display(df)"
   ]
  },
  {
   "cell_type": "markdown",
   "metadata": {},
   "source": [
    "# Summary\n",
    "\n",
    "In this chapter, we used the analogy of drawing marbles for an urn to model random sampling from populations, randomized controlled assignment of subjects to treatments in experiments, and measurement error. This framework enable us to run simulation studies for a hypothetical survey, an experiment, or some other chance process in order to study their behavior. For example, we found the expected outcome of a clinical trial for a vaccine under the assumption that the treatment was not effective; and, we studied the support for Clinton and Trump in a simple random sample that used the actual votes cast in the election. The simulation studies enabled us to quantify the typical deviations in the chance process and to approximate the distribution of the possible values for summary statistics.\n",
    "\n",
    "The urn model reduces to a few basics: the number of marbles in the urn; what is written on each marble; the number of marbles to draw from the urn; and whether or not they are replaced between draws. From there we can simulate more and more complex data designs. However, the crux of the urn's usefulness is the mapping from the data design to the urn. If samples are not randomly drawn and subjects are not randomly assigned to treatments, then this framework can't help us understand our data and make decisions. On the other hand, we also need to remember that the urn is a simplification of the actual data collection process. If on the ground, there is bias in data collection, then the randomness  we observe in the simulation doesn't capture the complete picture. Too often, data scientists wave  these annoyances away and address only the variability described by the urn model. That was one of the main issues in the surveys prediciting the outcome of the 2016 US Presidential election.  \n",
    "\n",
    "The sampling distribution of a statistic formed from the data are at the core of procedures such as hypothesis tests and confidence intervals. These are introduced in the exercises, if you are unfamiliar with them.  Also in the exercises, we cover the bootstrap, which is useful when you don't know exactly\n",
    "what's in the urn, which is often the case. we may be able to use the sample as a stand-in for the population. Tis iIn the bootstrap, we let the sample stand in for the contents of the urn and simulate from the sample. Again, if the sample doesn't look like the population, then the bootstrap can't make up for this short coming.\n",
    "\n",
    "In the next chapter, we address the question of how to choose a summary statistic for the data."
   ]
  },
  {
   "cell_type": "code",
   "execution_count": null,
   "metadata": {},
   "outputs": [],
   "source": []
  }
 ],
 "metadata": {
  "celltoolbar": "Tags",
  "kernelspec": {
   "display_name": "Python 3",
   "language": "python",
   "name": "python3"
  },
  "language_info": {
   "codemirror_mode": {
    "name": "ipython",
    "version": 3
   },
   "file_extension": ".py",
   "mimetype": "text/x-python",
   "name": "python",
   "nbconvert_exporter": "python",
   "pygments_lexer": "ipython3",
   "version": "3.9.4"
  }
 },
 "nbformat": 4,
 "nbformat_minor": 4
}
