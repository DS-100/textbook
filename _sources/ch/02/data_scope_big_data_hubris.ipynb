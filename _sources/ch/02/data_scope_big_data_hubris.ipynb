{
 "cells": [
  {
   "cell_type": "code",
   "execution_count": 1,
   "metadata": {
    "tags": [
     "remove-cell"
    ]
   },
   "outputs": [],
   "source": [
    "import sys\n",
    "import os\n",
    "if not any(path.endswith('textbook') for path in sys.path):\n",
    "    sys.path.append(os.path.abspath('../../..'))\n",
    "from textbook_utils import *"
   ]
  },
  {
   "cell_type": "markdown",
   "metadata": {},
   "source": [
    "(sec:scope_bigdata)=\n",
    "# Big Data and New Opportunities  \n",
    "\n",
    "The tremendous increase in openly available data has created new roles and opportunities in data science. For example, data journalists look for interesting stories in data much like how traditional beat reporters hunt for news stories. The data lifecycle for the data journalist begins with the search for existing data that might have an interesting story, rather than beginning with a research question and looking for how to collect new or use existing data to address the question.  "
   ]
  },
  {
   "cell_type": "markdown",
   "metadata": {},
   "source": [
    "Citizen science projects are another example. They engage many people (and instruments) in data collection. Collectively, these data are often made available to researchers who organize the project and often they are made available in repositories for the general public to further investigate. "
   ]
  },
  {
   "cell_type": "markdown",
   "metadata": {},
   "source": [
    "The availability of administrative and organizational data creates other opportunities. Researchers can link data collected from scientific studies with, say, medical data that have been collected for healthcare purposes; these administrative data that have been collected for reasons that don't directly stem from the question of interest can be useful in other settings. Such linkages can help data scientists expand the possibilities of their analyses and cross-check the quality of their data. In addition, found data can include digital traces, such as your web-browsing activity, posts on social media, and online network of friends and acquaintances, and can be quite complex. "
   ]
  },
  {
   "cell_type": "markdown",
   "metadata": {},
   "source": [
    "When we have large amounts of administrative data or expansive digital traces, it can be tempting to treat them as more definitive than data collected from traditional smaller research studies. We might even consider these large datasets as a replacement for scientific studies or essentially a census. This over-reach is referred to as the \"big data hubris\"[^Lazer14]. Data with a large scope does not mean that we can ignore foundational issues of how representative the data are, nor can we ignore issues with measurement, dependency, and reliability. One well-known example is the Google Flu Trends tracking system.  \n",
    "\n",
    "[^Lazer14]: [Lazer, Kennedy, King, and Vespignani. The parable of google flu: traps in big data analysis. Science, 343:1203––1205, 2014.](https://gking.harvard.edu/files/gking/files/0314policyforumff.pdf)\n",
    "\n",
    "[^Lazer15]: [Lazer. What we can learn from the epic failure of google flu trends. Wired, oct 2015.](https://www.wired.com/2015/10/can-learn-epic-failure-google-flu-trends/)"
   ]
  },
  {
   "cell_type": "markdown",
   "metadata": {},
   "source": [
    "## Example: Google Flu Trends\n",
    "\n",
    "Digital epidemiology, a new subfield of epidemiology, leverages data generated outside the public health system to study patterns of disease and health dynamics in populations[^nih].\n",
    "The Google Flu Trends (GFT) tracking system was one of the earliest examples of digital epidemiology.\n",
    "In 2007, researchers found that counting the searches people made for flu-related\n",
    "terms could accurately estimate the number of flu cases.\n",
    "This apparent success made headlines, and many researchers became excited about the possibilities of big data.\n",
    "However, GFT did not live up to expectations and was abandoned in 2015.\n",
    "\n",
    "What went wrong? After all, GFT used millions of digital traces from online queries for terms related to influenza to predict flu activity. Despite initial success, in the 2011–2012 flu season, Google's data scientists found that GFT was not a substitute for the more traditional surveillance reports of three-week old counts collected by the Centers for Disease Control (CDC) from laboratories across the United States. In comparison, GFT overestimated the CDC numbers for 100 out of 108 weeks (see below). Week after week, GFT came in too high for the cases of influenza, even though it was based on big data. \n",
    "\n",
    "[^nih]: https://www.ncbi.nlm.nih.gov/pmc/articles/PMC5754279/"
   ]
  },
  {
   "cell_type": "code",
   "execution_count": 2,
   "metadata": {
    "tags": [
     "remove-input"
    ]
   },
   "outputs": [
    {
     "data": {
      "application/vnd.plotly.v1+json": {
       "config": {
        "plotlyServerURL": "https://plot.ly"
       },
       "data": [
        {
         "hovertemplate": "week=%{x}<br>gflu=%{y}<extra></extra>",
         "legendgroup": "",
         "line": {
          "color": "#1F77B4",
          "dash": "solid"
         },
         "marker": {
          "symbol": "circle"
         },
         "mode": "lines",
         "name": "",
         "orientation": "v",
         "showlegend": false,
         "type": "scatter",
         "x": [
          303,
          304,
          305,
          306,
          307,
          308,
          309,
          310,
          311,
          312,
          313,
          314,
          315,
          316,
          317,
          318,
          319,
          320,
          321,
          322,
          323,
          324,
          325,
          326,
          327,
          328,
          329,
          330,
          331,
          332,
          333,
          334,
          335,
          336,
          337,
          338,
          339,
          340,
          341,
          342,
          343,
          344,
          345,
          346,
          347,
          348,
          349,
          350,
          351,
          352,
          353,
          354,
          355,
          356,
          357,
          358,
          359,
          360,
          361,
          362,
          363,
          364,
          365,
          366,
          367,
          368,
          369,
          370,
          371,
          372,
          373,
          374,
          375,
          376,
          377,
          378,
          379,
          380,
          381,
          382,
          383,
          384,
          385,
          386,
          387,
          388,
          389,
          390,
          391,
          392,
          393,
          394,
          395,
          396,
          397,
          398,
          399,
          400,
          401,
          402,
          403,
          404,
          405,
          406,
          407,
          408,
          409,
          410,
          411,
          412,
          413,
          414,
          415,
          416,
          417,
          418,
          419,
          420,
          421,
          422,
          423,
          424,
          425,
          426,
          427,
          428,
          429,
          430,
          431,
          432,
          433,
          434,
          435,
          436,
          437,
          438,
          439,
          440,
          441,
          442,
          443,
          444,
          445,
          446,
          447,
          448,
          449,
          450,
          451,
          452,
          453,
          454,
          455,
          456,
          457,
          458,
          459,
          460,
          461,
          462,
          463,
          464,
          465,
          466,
          467,
          468,
          469,
          470,
          471,
          472,
          473,
          474,
          475,
          476,
          477,
          478,
          479,
          480,
          481,
          482,
          483,
          484,
          485,
          486,
          487,
          488,
          489,
          490,
          491,
          492,
          493,
          494,
          495,
          496,
          497,
          498,
          499,
          500,
          501,
          502,
          503,
          504,
          505,
          506,
          507,
          508,
          509,
          510,
          511,
          512,
          513,
          514,
          515,
          516,
          517,
          518,
          519
         ],
         "xaxis": "x",
         "y": [
          1.278,
          1.257,
          1.324,
          1.276,
          1.302,
          1.4809999,
          1.915,
          2.4979999,
          3.3610001,
          3.79,
          4.2540002,
          4.9260001,
          5.4239998,
          6.0370002,
          7.112,
          6.533,
          5.7220001,
          4.4679999,
          3.5869999,
          2.655,
          2.5599999,
          2.1900001,
          2.0320001,
          2.0550001,
          2.1989999,
          2.1689999,
          1.916,
          1.86,
          1.8609999,
          1.91,
          1.944,
          2,
          1.9680001,
          1.888,
          1.793,
          1.619,
          1.511,
          1.35,
          1.257,
          1.123,
          1.11,
          1.149,
          1.0880001,
          1.0599999,
          1.0420001,
          0.98900002,
          0.96499997,
          0.85799998,
          0.80800003,
          0.78600001,
          0.76499999,
          0.75999999,
          0.75199997,
          0.73699999,
          0.74400002,
          0.75700003,
          0.75400001,
          0.80400002,
          0.84600002,
          0.92400002,
          1.03,
          1.187,
          1.3150001,
          1.335,
          1.4299999,
          1.421,
          1.566,
          1.596,
          1.6849999,
          1.758,
          1.864,
          1.661,
          1.96,
          1.943,
          2.1129999,
          2.5120001,
          2.9170001,
          2.9779999,
          2.7260001,
          3.089,
          3.5539999,
          3.6010001,
          3.7839999,
          4.0770001,
          3.5650001,
          2.98,
          2.4820001,
          2.076,
          1.776,
          1.589,
          1.405,
          1.228,
          1.126,
          1.0549999,
          1.013,
          0.96499997,
          0.93699998,
          0.88200003,
          0.85900003,
          0.81099999,
          0.74400002,
          0.71399999,
          0.65100002,
          0.639,
          0.62599999,
          0.61000001,
          0.60399997,
          0.597,
          0.616,
          0.634,
          0.71700001,
          0.82099998,
          0.95099998,
          1.127,
          1.3430001,
          1.521,
          1.587,
          1.64,
          1.608,
          1.638,
          1.788,
          1.7970001,
          1.88,
          1.785,
          2.033,
          1.9809999,
          2.0940001,
          2.3699999,
          2.7409999,
          2.8599999,
          2.5,
          2.411,
          2.4749999,
          2.507,
          2.348,
          2.5009999,
          2.71,
          2.5190001,
          2.586,
          2.556,
          2.1619999,
          1.936,
          1.801,
          1.799,
          1.785,
          1.729,
          1.625,
          1.651,
          1.624,
          1.5369999,
          1.428,
          1.329,
          1.265,
          1.136,
          0.96600002,
          0.91100001,
          0.93900001,
          0.89700001,
          0.86900002,
          0.86900002,
          0.889,
          0.977,
          1.095,
          1.199,
          1.374,
          1.543,
          1.737,
          1.895,
          2.0179999,
          2.325,
          2.391,
          2.369,
          2.349,
          2.4920001,
          2.9130001,
          3.04,
          3.641,
          4.427,
          5.132,
          6.3590002,
          7.9039998,
          8.618,
          10.112,
          10.555,
          9.408,
          7.2090001,
          5.5409999,
          4.5549998,
          4.2399998,
          3.7839999,
          3.5039999,
          3.2420001,
          2.8940001,
          2.6730001,
          2.4820001,
          2.1210001,
          1.747,
          1.681,
          1.534,
          1.438,
          1.286,
          1.165,
          1.149,
          1.063,
          1.024,
          0.99699998,
          0.96600002,
          0.92500001,
          0.94099998,
          0.90700001,
          0.95599997,
          0.986,
          0.99699998,
          1.04,
          1.084,
          1.146,
          1.1799999
         ],
         "yaxis": "y"
        },
        {
         "line": {
          "color": "green",
          "dash": "dash",
          "width": 2
         },
         "mode": "lines",
         "showlegend": false,
         "type": "scatter",
         "x": [
          303,
          304,
          305,
          306,
          307,
          308,
          309,
          310,
          311,
          312,
          313,
          314,
          315,
          316,
          317,
          318,
          319,
          320,
          321,
          322,
          323,
          324,
          325,
          326,
          327,
          328,
          329,
          330,
          331,
          332,
          333,
          334,
          335,
          336,
          337,
          338,
          339,
          340,
          341,
          342,
          343,
          344,
          345,
          346,
          347,
          348,
          349,
          350,
          351,
          352,
          353,
          354,
          355,
          356,
          357,
          358,
          359,
          360,
          361,
          362,
          363,
          364,
          365,
          366,
          367,
          368,
          369,
          370,
          371,
          372,
          373,
          374,
          375,
          376,
          377,
          378,
          379,
          380,
          381,
          382,
          383,
          384,
          385,
          386,
          387,
          388,
          389,
          390,
          391,
          392,
          393,
          394,
          395,
          396,
          397,
          398,
          399,
          400,
          401,
          402,
          403,
          404,
          405,
          406,
          407,
          408,
          409,
          410,
          411,
          412,
          413,
          414,
          415,
          416,
          417,
          418,
          419,
          420,
          421,
          422,
          423,
          424,
          425,
          426,
          427,
          428,
          429,
          430,
          431,
          432,
          433,
          434,
          435,
          436,
          437,
          438,
          439,
          440,
          441,
          442,
          443,
          444,
          445,
          446,
          447,
          448,
          449,
          450,
          451,
          452,
          453,
          454,
          455,
          456,
          457,
          458,
          459,
          460,
          461,
          462,
          463,
          464,
          465,
          466,
          467,
          468,
          469,
          470,
          471,
          472,
          473,
          474,
          475,
          476,
          477,
          478,
          479,
          480,
          481,
          482,
          483,
          484,
          485,
          486,
          487,
          488,
          489,
          490,
          491,
          492,
          493,
          494,
          495,
          496,
          497,
          498,
          499,
          500,
          501,
          502,
          503,
          504,
          505,
          506,
          507,
          508,
          509,
          510,
          511,
          512,
          513,
          514,
          515,
          516,
          517,
          518,
          519
         ],
         "y": [
          1.171418,
          1.1083462,
          1.1308453,
          0.90364265,
          1.0954088,
          1.0915837,
          1.2474653,
          1.9112091,
          2.7805552,
          3.770149,
          3.9846411,
          3.8595753,
          3.6124198,
          4.594739,
          6.3958921,
          7.4638004,
          7.5791593,
          6.6275835,
          5.3993139,
          3.2687597,
          2.5934174,
          3.1040971,
          2.092427,
          2.2741141,
          1.4257451,
          2.0439787,
          2.9451933,
          2.2960782,
          2.646729,
          2.4623682,
          2.50983,
          2.09182,
          1.4041854,
          1.6817359,
          2.0192127,
          1.6443734,
          1.7109058,
          1.3367567,
          1.2085593,
          1.4452069,
          0.87514842,
          1.4064697,
          1.1974628,
          0.82528001,
          1.0034255,
          1.2999759,
          0.98582166,
          0.88576764,
          1.2151282,
          0.74755394,
          0.90064698,
          0.99463844,
          0.77613366,
          0.9085235,
          0.79673129,
          0.78606182,
          0.85387063,
          0.87339491,
          1.0607207,
          1.2799884,
          0.91658193,
          1.0564606,
          1.164367,
          1.2959486,
          1.7451242,
          1.4860699,
          1.4137946,
          1.6580815,
          1.3840544,
          1.2660482,
          1.8963454,
          1.9192883,
          1.9883851,
          2.5159605,
          2.1140089,
          2.2770658,
          1.9846022,
          2.8221402,
          3.3696156,
          2.8502071,
          3.7543252,
          4.1681404,
          4.8100095,
          4.2977562,
          3.3488991,
          4.0479169,
          3.2488174,
          2.2061303,
          2.1420743,
          1.8031404,
          1.3742471,
          1.4762274,
          1.2263614,
          1.4285085,
          1.3640238,
          0.79795176,
          1.0244337,
          1.2009552,
          1.020745,
          0.83253735,
          1.1570845,
          0.81167519,
          0.75051141,
          0.80043656,
          0.76971471,
          0.78403252,
          0.56783646,
          0.60842013,
          0.67322075,
          0.56113672,
          0.92830461,
          1.0543029,
          1.0278047,
          0.93351346,
          1.0702095,
          1.3536971,
          1.5346191,
          1.4532796,
          1.5246794,
          1.5008693,
          1.4576732,
          1.3479267,
          1.8122422,
          1.713089,
          1.7853081,
          2.0980618,
          1.7496631,
          2.0186653,
          1.3021564,
          1.3307593,
          2.5598328,
          2.5387111,
          2.2713671,
          2.3135726,
          2.2919707,
          1.9710411,
          1.4517988,
          2.0863514,
          2.2667179,
          1.9735357,
          1.8584507,
          2.1775451,
          1.4695228,
          1.5568247,
          1.3910998,
          1.5309417,
          1.3187002,
          0.95436966,
          1.3601385,
          1.3285744,
          1.129094,
          1.0022913,
          1.1658264,
          0.93309826,
          0.97563767,
          1.0792313,
          1.018453,
          0.99078494,
          0.86922985,
          0.81096345,
          0.92309928,
          1.0521888,
          1.0041145,
          1.0609448,
          1.4007658,
          1.1638627,
          1.3245299,
          1.4585152,
          1.5891006,
          1.6101794,
          1.4177721,
          1.6531293,
          1.4363006,
          1.4338268,
          1.7947485,
          2.0537708,
          2.0575485,
          2.9851675,
          2.5164716,
          3.5299871,
          3.2611384,
          3.9938788,
          6.9712896,
          4.2877822,
          4.1184835,
          4.6093616,
          3.9192736,
          2.9373868,
          2.110666,
          2.3714867,
          2.2130618,
          2.0035191,
          2.1618235,
          1.8759639,
          1.6148596,
          1.5638528,
          1.3012533,
          1.3516425,
          1.2337075,
          0.93166322,
          0.92781031,
          1.1144128,
          1.1074936,
          0.80061609,
          0.95099092,
          0.84016639,
          0.83907223,
          0.90041411,
          0.73570663,
          0.78248203,
          0.66062176,
          0.73382455,
          0.75467545,
          0.7614246,
          0.96807575,
          1.1112039,
          1.0119747
         ]
        },
        {
         "line": {
          "color": "purple",
          "dash": "dot",
          "width": 2
         },
         "mode": "lines",
         "showlegend": false,
         "type": "scatter",
         "x": [
          303,
          304,
          305,
          306,
          307,
          308,
          309,
          310,
          311,
          312,
          313,
          314,
          315,
          316,
          317,
          318,
          319,
          320,
          321,
          322,
          323,
          324,
          325,
          326,
          327,
          328,
          329,
          330,
          331,
          332,
          333,
          334,
          335,
          336,
          337,
          338,
          339,
          340,
          341,
          342,
          343,
          344,
          345,
          346,
          347,
          348,
          349,
          350,
          351,
          352,
          353,
          354,
          355,
          356,
          357,
          358,
          359,
          360,
          361,
          362,
          363,
          364,
          365,
          366,
          367,
          368,
          369,
          370,
          371,
          372,
          373,
          374,
          375,
          376,
          377,
          378,
          379,
          380,
          381,
          382,
          383,
          384,
          385,
          386,
          387,
          388,
          389,
          390,
          391,
          392,
          393,
          394,
          395,
          396,
          397,
          398,
          399,
          400,
          401,
          402,
          403,
          404,
          405,
          406,
          407,
          408,
          409,
          410,
          411,
          412,
          413,
          414,
          415,
          416,
          417,
          418,
          419,
          420,
          421,
          422,
          423,
          424,
          425,
          426,
          427,
          428,
          429,
          430,
          431,
          432,
          433,
          434,
          435,
          436,
          437,
          438,
          439,
          440,
          441,
          442,
          443,
          444,
          445,
          446,
          447,
          448,
          449,
          450,
          451,
          452,
          453,
          454,
          455,
          456,
          457,
          458,
          459,
          460,
          461,
          462,
          463,
          464,
          465,
          466,
          467,
          468,
          469,
          470,
          471,
          472,
          473,
          474,
          475,
          476,
          477,
          478,
          479,
          480,
          481,
          482,
          483,
          484,
          485,
          486,
          487,
          488,
          489,
          490,
          491,
          492,
          493,
          494,
          495,
          496,
          497,
          498,
          499,
          500,
          501,
          502,
          503,
          504,
          505,
          506,
          507,
          508,
          509,
          510,
          511,
          512,
          513,
          514,
          515,
          516,
          517,
          518,
          519
         ],
         "y": [
          1.23761,
          1.2296479,
          1.2824886,
          1.1106772,
          1.1290922,
          1.3016713,
          1.7539965,
          2.4758599,
          3.374625,
          4.1775184,
          4.4113564,
          4.9228292,
          4.9245415,
          5.5906243,
          7.3860154,
          7.2550654,
          6.124373,
          5.4040666,
          4.6676273,
          3.328387,
          2.9093368,
          2.787416,
          2.0380719,
          2.4550006,
          2.3545759,
          2.378211,
          2.4499755,
          2.1231856,
          2.2640908,
          2.144047,
          2.2468259,
          2.0665271,
          1.8173436,
          1.8939068,
          1.9448748,
          1.660338,
          1.5274847,
          1.3418695,
          1.2355965,
          1.1883669,
          1.0072777,
          1.3069925,
          1.1878111,
          1.0155258,
          1.010646,
          1.1596334,
          1.0349913,
          0.84356159,
          0.90774047,
          0.83651537,
          0.87946039,
          0.90410256,
          0.8347556,
          0.83605748,
          0.782718,
          0.78695947,
          0.78995627,
          0.82448322,
          0.97203529,
          1.112046,
          0.93657207,
          1.0598218,
          1.1484942,
          1.1339539,
          1.3631942,
          1.3429847,
          1.3265136,
          1.5600117,
          1.5638494,
          1.5747298,
          1.9454702,
          1.6763725,
          1.7976321,
          2.0141637,
          1.9478424,
          2.6828787,
          2.9712596,
          3.0686076,
          3.0253792,
          3.184396,
          4.0656047,
          4.0444188,
          4.398109,
          4.6126294,
          3.7815056,
          3.3915517,
          2.9827564,
          2.387172,
          2.0729294,
          1.8766692,
          1.5806473,
          1.3650028,
          1.2118539,
          1.2749646,
          1.2606399,
          1.0539271,
          1.0074966,
          1.0990185,
          1.0251664,
          0.85862255,
          0.90364271,
          0.81560743,
          0.74574542,
          0.73222905,
          0.73856729,
          0.70937115,
          0.59818536,
          0.57825321,
          0.60788023,
          0.5651238,
          0.77136534,
          0.94633812,
          0.92492616,
          0.98045528,
          1.1472502,
          1.3522742,
          1.3965435,
          1.3912328,
          1.2999481,
          1.379691,
          1.6471568,
          1.6042122,
          1.8409454,
          1.7077945,
          1.7427394,
          1.7407361,
          1.6676893,
          2.2825158,
          2.3258638,
          2.1195538,
          2.1919987,
          2.0717504,
          2.1709278,
          2.1837933,
          1.9985831,
          1.9170598,
          2.1448641,
          2.2648623,
          2.3368652,
          2.3491697,
          1.760697,
          1.7155658,
          1.6115284,
          1.6720059,
          1.6403425,
          1.5922405,
          1.3988301,
          1.3101454,
          1.4215497,
          1.3784425,
          1.2141843,
          1.0315106,
          1.0870309,
          0.96231306,
          0.84136128,
          0.91241556,
          1.0349711,
          1.0058506,
          0.88222343,
          0.8490451,
          0.9201861,
          1.0520787,
          1.14115,
          1.1838119,
          1.3174491,
          1.3273648,
          1.4377342,
          1.5563377,
          1.6347649,
          1.8990945,
          1.7478701,
          1.646062,
          1.5931162,
          1.7368813,
          2.3707273,
          2.506887,
          2.6070104,
          3.5930114,
          3.8114505,
          5.0003319,
          5.9039989,
          6.0353703,
          7.8542237,
          6.1549358,
          2.8658228,
          1.148688,
          1.5008281,
          2.3254097,
          2.5106514,
          2.7911901,
          2.2645698,
          2.1385045,
          2.0264239,
          1.8300114,
          1.7028997,
          1.4246521,
          1.0435148,
          1.2556125,
          1.3007541,
          1.0086646,
          0.89990669,
          1.000537,
          1.1118129,
          0.85035872,
          0.89299792,
          0.87895638,
          0.87862754,
          0.87574363,
          0.76949698,
          0.79660481,
          0.70342517,
          0.80110246,
          0.75854665,
          0.75959027,
          0.93035978,
          1.0350267,
          0.92335767
         ]
        }
       ],
       "layout": {
        "height": 250,
        "legend": {
         "tracegroupgap": 0
        },
        "template": {
         "data": {
          "bar": [
           {
            "error_x": {
             "color": "rgb(36,36,36)"
            },
            "error_y": {
             "color": "rgb(36,36,36)"
            },
            "marker": {
             "line": {
              "color": "white",
              "width": 0.5
             },
             "pattern": {
              "fillmode": "overlay",
              "size": 10,
              "solidity": 0.2
             }
            },
            "type": "bar"
           }
          ],
          "barpolar": [
           {
            "marker": {
             "line": {
              "color": "white",
              "width": 0.5
             },
             "pattern": {
              "fillmode": "overlay",
              "size": 10,
              "solidity": 0.2
             }
            },
            "type": "barpolar"
           }
          ],
          "carpet": [
           {
            "aaxis": {
             "endlinecolor": "rgb(36,36,36)",
             "gridcolor": "white",
             "linecolor": "white",
             "minorgridcolor": "white",
             "startlinecolor": "rgb(36,36,36)"
            },
            "baxis": {
             "endlinecolor": "rgb(36,36,36)",
             "gridcolor": "white",
             "linecolor": "white",
             "minorgridcolor": "white",
             "startlinecolor": "rgb(36,36,36)"
            },
            "type": "carpet"
           }
          ],
          "choropleth": [
           {
            "colorbar": {
             "outlinewidth": 1,
             "tickcolor": "rgb(36,36,36)",
             "ticks": "outside"
            },
            "type": "choropleth"
           }
          ],
          "contour": [
           {
            "colorbar": {
             "outlinewidth": 1,
             "tickcolor": "rgb(36,36,36)",
             "ticks": "outside"
            },
            "colorscale": [
             [
              0,
              "#440154"
             ],
             [
              0.1111111111111111,
              "#482878"
             ],
             [
              0.2222222222222222,
              "#3e4989"
             ],
             [
              0.3333333333333333,
              "#31688e"
             ],
             [
              0.4444444444444444,
              "#26828e"
             ],
             [
              0.5555555555555556,
              "#1f9e89"
             ],
             [
              0.6666666666666666,
              "#35b779"
             ],
             [
              0.7777777777777778,
              "#6ece58"
             ],
             [
              0.8888888888888888,
              "#b5de2b"
             ],
             [
              1,
              "#fde725"
             ]
            ],
            "type": "contour"
           }
          ],
          "contourcarpet": [
           {
            "colorbar": {
             "outlinewidth": 1,
             "tickcolor": "rgb(36,36,36)",
             "ticks": "outside"
            },
            "type": "contourcarpet"
           }
          ],
          "heatmap": [
           {
            "colorbar": {
             "outlinewidth": 1,
             "tickcolor": "rgb(36,36,36)",
             "ticks": "outside"
            },
            "colorscale": [
             [
              0,
              "#440154"
             ],
             [
              0.1111111111111111,
              "#482878"
             ],
             [
              0.2222222222222222,
              "#3e4989"
             ],
             [
              0.3333333333333333,
              "#31688e"
             ],
             [
              0.4444444444444444,
              "#26828e"
             ],
             [
              0.5555555555555556,
              "#1f9e89"
             ],
             [
              0.6666666666666666,
              "#35b779"
             ],
             [
              0.7777777777777778,
              "#6ece58"
             ],
             [
              0.8888888888888888,
              "#b5de2b"
             ],
             [
              1,
              "#fde725"
             ]
            ],
            "type": "heatmap"
           }
          ],
          "heatmapgl": [
           {
            "colorbar": {
             "outlinewidth": 1,
             "tickcolor": "rgb(36,36,36)",
             "ticks": "outside"
            },
            "colorscale": [
             [
              0,
              "#440154"
             ],
             [
              0.1111111111111111,
              "#482878"
             ],
             [
              0.2222222222222222,
              "#3e4989"
             ],
             [
              0.3333333333333333,
              "#31688e"
             ],
             [
              0.4444444444444444,
              "#26828e"
             ],
             [
              0.5555555555555556,
              "#1f9e89"
             ],
             [
              0.6666666666666666,
              "#35b779"
             ],
             [
              0.7777777777777778,
              "#6ece58"
             ],
             [
              0.8888888888888888,
              "#b5de2b"
             ],
             [
              1,
              "#fde725"
             ]
            ],
            "type": "heatmapgl"
           }
          ],
          "histogram": [
           {
            "marker": {
             "line": {
              "color": "white",
              "width": 0.6
             }
            },
            "type": "histogram"
           }
          ],
          "histogram2d": [
           {
            "colorbar": {
             "outlinewidth": 1,
             "tickcolor": "rgb(36,36,36)",
             "ticks": "outside"
            },
            "colorscale": [
             [
              0,
              "#440154"
             ],
             [
              0.1111111111111111,
              "#482878"
             ],
             [
              0.2222222222222222,
              "#3e4989"
             ],
             [
              0.3333333333333333,
              "#31688e"
             ],
             [
              0.4444444444444444,
              "#26828e"
             ],
             [
              0.5555555555555556,
              "#1f9e89"
             ],
             [
              0.6666666666666666,
              "#35b779"
             ],
             [
              0.7777777777777778,
              "#6ece58"
             ],
             [
              0.8888888888888888,
              "#b5de2b"
             ],
             [
              1,
              "#fde725"
             ]
            ],
            "type": "histogram2d"
           }
          ],
          "histogram2dcontour": [
           {
            "colorbar": {
             "outlinewidth": 1,
             "tickcolor": "rgb(36,36,36)",
             "ticks": "outside"
            },
            "colorscale": [
             [
              0,
              "#440154"
             ],
             [
              0.1111111111111111,
              "#482878"
             ],
             [
              0.2222222222222222,
              "#3e4989"
             ],
             [
              0.3333333333333333,
              "#31688e"
             ],
             [
              0.4444444444444444,
              "#26828e"
             ],
             [
              0.5555555555555556,
              "#1f9e89"
             ],
             [
              0.6666666666666666,
              "#35b779"
             ],
             [
              0.7777777777777778,
              "#6ece58"
             ],
             [
              0.8888888888888888,
              "#b5de2b"
             ],
             [
              1,
              "#fde725"
             ]
            ],
            "type": "histogram2dcontour"
           }
          ],
          "mesh3d": [
           {
            "colorbar": {
             "outlinewidth": 1,
             "tickcolor": "rgb(36,36,36)",
             "ticks": "outside"
            },
            "type": "mesh3d"
           }
          ],
          "parcoords": [
           {
            "line": {
             "colorbar": {
              "outlinewidth": 1,
              "tickcolor": "rgb(36,36,36)",
              "ticks": "outside"
             }
            },
            "type": "parcoords"
           }
          ],
          "pie": [
           {
            "automargin": true,
            "type": "pie"
           }
          ],
          "scatter": [
           {
            "marker": {
             "colorbar": {
              "outlinewidth": 1,
              "tickcolor": "rgb(36,36,36)",
              "ticks": "outside"
             }
            },
            "type": "scatter"
           }
          ],
          "scatter3d": [
           {
            "line": {
             "colorbar": {
              "outlinewidth": 1,
              "tickcolor": "rgb(36,36,36)",
              "ticks": "outside"
             }
            },
            "marker": {
             "colorbar": {
              "outlinewidth": 1,
              "tickcolor": "rgb(36,36,36)",
              "ticks": "outside"
             }
            },
            "type": "scatter3d"
           }
          ],
          "scattercarpet": [
           {
            "marker": {
             "colorbar": {
              "outlinewidth": 1,
              "tickcolor": "rgb(36,36,36)",
              "ticks": "outside"
             }
            },
            "type": "scattercarpet"
           }
          ],
          "scattergeo": [
           {
            "marker": {
             "colorbar": {
              "outlinewidth": 1,
              "tickcolor": "rgb(36,36,36)",
              "ticks": "outside"
             }
            },
            "type": "scattergeo"
           }
          ],
          "scattergl": [
           {
            "marker": {
             "colorbar": {
              "outlinewidth": 1,
              "tickcolor": "rgb(36,36,36)",
              "ticks": "outside"
             }
            },
            "type": "scattergl"
           }
          ],
          "scattermapbox": [
           {
            "marker": {
             "colorbar": {
              "outlinewidth": 1,
              "tickcolor": "rgb(36,36,36)",
              "ticks": "outside"
             }
            },
            "type": "scattermapbox"
           }
          ],
          "scatterpolar": [
           {
            "marker": {
             "colorbar": {
              "outlinewidth": 1,
              "tickcolor": "rgb(36,36,36)",
              "ticks": "outside"
             }
            },
            "type": "scatterpolar"
           }
          ],
          "scatterpolargl": [
           {
            "marker": {
             "colorbar": {
              "outlinewidth": 1,
              "tickcolor": "rgb(36,36,36)",
              "ticks": "outside"
             }
            },
            "type": "scatterpolargl"
           }
          ],
          "scatterternary": [
           {
            "marker": {
             "colorbar": {
              "outlinewidth": 1,
              "tickcolor": "rgb(36,36,36)",
              "ticks": "outside"
             }
            },
            "type": "scatterternary"
           }
          ],
          "surface": [
           {
            "colorbar": {
             "outlinewidth": 1,
             "tickcolor": "rgb(36,36,36)",
             "ticks": "outside"
            },
            "colorscale": [
             [
              0,
              "#440154"
             ],
             [
              0.1111111111111111,
              "#482878"
             ],
             [
              0.2222222222222222,
              "#3e4989"
             ],
             [
              0.3333333333333333,
              "#31688e"
             ],
             [
              0.4444444444444444,
              "#26828e"
             ],
             [
              0.5555555555555556,
              "#1f9e89"
             ],
             [
              0.6666666666666666,
              "#35b779"
             ],
             [
              0.7777777777777778,
              "#6ece58"
             ],
             [
              0.8888888888888888,
              "#b5de2b"
             ],
             [
              1,
              "#fde725"
             ]
            ],
            "type": "surface"
           }
          ],
          "table": [
           {
            "cells": {
             "fill": {
              "color": "rgb(237,237,237)"
             },
             "line": {
              "color": "white"
             }
            },
            "header": {
             "fill": {
              "color": "rgb(217,217,217)"
             },
             "line": {
              "color": "white"
             }
            },
            "type": "table"
           }
          ]
         },
         "layout": {
          "annotationdefaults": {
           "arrowhead": 0,
           "arrowwidth": 1
          },
          "autosize": true,
          "autotypenumbers": "strict",
          "coloraxis": {
           "colorbar": {
            "outlinewidth": 1,
            "tickcolor": "rgb(36,36,36)",
            "ticks": "outside"
           }
          },
          "colorscale": {
           "diverging": [
            [
             0,
             "rgb(103,0,31)"
            ],
            [
             0.1,
             "rgb(178,24,43)"
            ],
            [
             0.2,
             "rgb(214,96,77)"
            ],
            [
             0.3,
             "rgb(244,165,130)"
            ],
            [
             0.4,
             "rgb(253,219,199)"
            ],
            [
             0.5,
             "rgb(247,247,247)"
            ],
            [
             0.6,
             "rgb(209,229,240)"
            ],
            [
             0.7,
             "rgb(146,197,222)"
            ],
            [
             0.8,
             "rgb(67,147,195)"
            ],
            [
             0.9,
             "rgb(33,102,172)"
            ],
            [
             1,
             "rgb(5,48,97)"
            ]
           ],
           "sequential": [
            [
             0,
             "#440154"
            ],
            [
             0.1111111111111111,
             "#482878"
            ],
            [
             0.2222222222222222,
             "#3e4989"
            ],
            [
             0.3333333333333333,
             "#31688e"
            ],
            [
             0.4444444444444444,
             "#26828e"
            ],
            [
             0.5555555555555556,
             "#1f9e89"
            ],
            [
             0.6666666666666666,
             "#35b779"
            ],
            [
             0.7777777777777778,
             "#6ece58"
            ],
            [
             0.8888888888888888,
             "#b5de2b"
            ],
            [
             1,
             "#fde725"
            ]
           ],
           "sequentialminus": [
            [
             0,
             "#440154"
            ],
            [
             0.1111111111111111,
             "#482878"
            ],
            [
             0.2222222222222222,
             "#3e4989"
            ],
            [
             0.3333333333333333,
             "#31688e"
            ],
            [
             0.4444444444444444,
             "#26828e"
            ],
            [
             0.5555555555555556,
             "#1f9e89"
            ],
            [
             0.6666666666666666,
             "#35b779"
            ],
            [
             0.7777777777777778,
             "#6ece58"
            ],
            [
             0.8888888888888888,
             "#b5de2b"
            ],
            [
             1,
             "#fde725"
            ]
           ]
          },
          "colorway": [
           "#1F77B4",
           "#FF7F0E",
           "#2CA02C",
           "#D62728",
           "#9467BD",
           "#8C564B",
           "#E377C2",
           "#7F7F7F",
           "#BCBD22",
           "#17BECF"
          ],
          "font": {
           "color": "rgb(36,36,36)"
          },
          "geo": {
           "bgcolor": "white",
           "lakecolor": "white",
           "landcolor": "white",
           "showlakes": true,
           "showland": true,
           "subunitcolor": "white"
          },
          "height": 250,
          "hoverlabel": {
           "align": "left"
          },
          "hovermode": "closest",
          "mapbox": {
           "style": "light"
          },
          "margin": {
           "b": 10,
           "l": 10,
           "r": 10,
           "t": 10
          },
          "paper_bgcolor": "white",
          "plot_bgcolor": "white",
          "polar": {
           "angularaxis": {
            "gridcolor": "rgb(232,232,232)",
            "linecolor": "rgb(36,36,36)",
            "showgrid": false,
            "showline": true,
            "ticks": "outside"
           },
           "bgcolor": "white",
           "radialaxis": {
            "gridcolor": "rgb(232,232,232)",
            "linecolor": "rgb(36,36,36)",
            "showgrid": false,
            "showline": true,
            "ticks": "outside"
           }
          },
          "scene": {
           "xaxis": {
            "backgroundcolor": "white",
            "gridcolor": "rgb(232,232,232)",
            "gridwidth": 2,
            "linecolor": "rgb(36,36,36)",
            "showbackground": true,
            "showgrid": false,
            "showline": true,
            "ticks": "outside",
            "zeroline": false,
            "zerolinecolor": "rgb(36,36,36)"
           },
           "yaxis": {
            "backgroundcolor": "white",
            "gridcolor": "rgb(232,232,232)",
            "gridwidth": 2,
            "linecolor": "rgb(36,36,36)",
            "showbackground": true,
            "showgrid": false,
            "showline": true,
            "ticks": "outside",
            "zeroline": false,
            "zerolinecolor": "rgb(36,36,36)"
           },
           "zaxis": {
            "backgroundcolor": "white",
            "gridcolor": "rgb(232,232,232)",
            "gridwidth": 2,
            "linecolor": "rgb(36,36,36)",
            "showbackground": true,
            "showgrid": false,
            "showline": true,
            "ticks": "outside",
            "zeroline": false,
            "zerolinecolor": "rgb(36,36,36)"
           }
          },
          "shapedefaults": {
           "fillcolor": "black",
           "line": {
            "width": 0
           },
           "opacity": 0.3
          },
          "ternary": {
           "aaxis": {
            "gridcolor": "rgb(232,232,232)",
            "linecolor": "rgb(36,36,36)",
            "showgrid": false,
            "showline": true,
            "ticks": "outside"
           },
           "baxis": {
            "gridcolor": "rgb(232,232,232)",
            "linecolor": "rgb(36,36,36)",
            "showgrid": false,
            "showline": true,
            "ticks": "outside"
           },
           "bgcolor": "white",
           "caxis": {
            "gridcolor": "rgb(232,232,232)",
            "linecolor": "rgb(36,36,36)",
            "showgrid": false,
            "showline": true,
            "ticks": "outside"
           }
          },
          "title": {
           "x": 0.5,
           "xanchor": "center"
          },
          "width": 350,
          "xaxis": {
           "automargin": true,
           "gridcolor": "rgb(232,232,232)",
           "linecolor": "rgb(36,36,36)",
           "showgrid": true,
           "showline": true,
           "ticks": "outside",
           "title": {
            "standoff": 15
           },
           "zeroline": false,
           "zerolinecolor": "rgb(36,36,36)"
          },
          "yaxis": {
           "automargin": true,
           "gridcolor": "rgb(232,232,232)",
           "linecolor": "rgb(36,36,36)",
           "showgrid": true,
           "showline": true,
           "ticks": "outside",
           "title": {
            "standoff": 15
           },
           "zeroline": false,
           "zerolinecolor": "rgb(36,36,36)"
          }
         }
        },
        "width": 400,
        "xaxis": {
         "anchor": "y",
         "autorange": true,
         "domain": [
          0,
          1
         ],
         "range": [
          303,
          519
         ],
         "title": {
          "text": "week"
         },
         "type": "linear"
        },
        "yaxis": {
         "anchor": "x",
         "autorange": true,
         "domain": [
          0,
          1
         ],
         "range": [
          0.005922093333333267,
          11.110214626666666
         ],
         "title": {
          "text": "Percent Influenza"
         },
         "type": "linear"
        }
       }
      },
      "image/png": "[encoded data removed]",
      "image/svg+xml": [
       "<svg class=\"main-svg\" xmlns=\"http://www.w3.org/2000/svg\" xmlns:xlink=\"http://www.w3.org/1999/xlink\" width=\"400\" height=\"250\" style=\"\" viewBox=\"0 0 400 250\"><rect x=\"0\" y=\"0\" width=\"400\" height=\"250\" style=\"fill: rgb(255, 255, 255); fill-opacity: 1;\"/><defs id=\"defs-db7305\"><g class=\"clips\"><clipPath id=\"clipdb7305xyplot\" class=\"plotclip\"><rect width=\"333\" height=\"181\"/></clipPath><clipPath class=\"axesclip\" id=\"clipdb7305x\"><rect x=\"57\" y=\"0\" width=\"333\" height=\"250\"/></clipPath><clipPath class=\"axesclip\" id=\"clipdb7305y\"><rect x=\"0\" y=\"10\" width=\"400\" height=\"181\"/></clipPath><clipPath class=\"axesclip\" id=\"clipdb7305xy\"><rect x=\"57\" y=\"10\" width=\"333\" height=\"181\"/></clipPath></g><g class=\"gradients\"/><g class=\"patterns\"/></defs><g class=\"bglayer\"/><g class=\"layer-below\"><g class=\"imagelayer\"/><g class=\"shapelayer\"/></g><g class=\"cartesianlayer\"><g class=\"subplot xy\"><g class=\"layer-subplot\"><g class=\"shapelayer\"/><g class=\"imagelayer\"/></g><g class=\"gridlayer\"><g class=\"x\"><path class=\"xgrid crisp\" transform=\"translate(129.45999999999998,0)\" d=\"M0,10v181\" style=\"stroke: rgb(232, 232, 232); stroke-opacity: 1; stroke-width: 1px;\"/><path class=\"xgrid crisp\" transform=\"translate(206.54,0)\" d=\"M0,10v181\" style=\"stroke: rgb(232, 232, 232); stroke-opacity: 1; stroke-width: 1px;\"/><path class=\"xgrid crisp\" transform=\"translate(283.63,0)\" d=\"M0,10v181\" style=\"stroke: rgb(232, 232, 232); stroke-opacity: 1; stroke-width: 1px;\"/><path class=\"xgrid crisp\" transform=\"translate(360.71,0)\" d=\"M0,10v181\" style=\"stroke: rgb(232, 232, 232); stroke-opacity: 1; stroke-width: 1px;\"/></g><g class=\"y\"><path class=\"ygrid crisp\" transform=\"translate(0,109.6)\" d=\"M57,0h333\" style=\"stroke: rgb(232, 232, 232); stroke-opacity: 1; stroke-width: 1px;\"/><path class=\"ygrid crisp\" transform=\"translate(0,28.1)\" d=\"M57,0h333\" style=\"stroke: rgb(232, 232, 232); stroke-opacity: 1; stroke-width: 1px;\"/></g></g><g class=\"zerolinelayer\"/><path class=\"xlines-below\"/><path class=\"ylines-below\"/><g class=\"overlines-below\"/><g class=\"xaxislayer-below\"/><g class=\"yaxislayer-below\"/><g class=\"overaxes-below\"/><g class=\"plot\" transform=\"translate(57,10)\" clip-path=\"url(#clipdb7305xyplot)\"><g class=\"scatterlayer mlayer\"><g class=\"trace scatter tracefb9b13\" style=\"stroke-miterlimit: 2; opacity: 1;\"><g class=\"fills\"/><g class=\"errorbars\"/><g class=\"lines\"><path class=\"js-line\" d=\"M0,160.27L1.54,160.61L3.08,159.52L4.63,160.3L6.17,159.87L7.71,156.96L9.25,149.88L20.04,82.69L21.58,65.17L24.67,87.83L26.21,108.27L29.29,137.82L30.83,139.37L32.38,145.4L33.92,147.97L35.46,147.6L37,145.25L38.54,145.74L40.08,149.87L41.63,150.78L43.17,150.76L47.79,148.5L49.33,149.02L52.42,151.87L53.96,154.71L60.13,162.79L61.67,163L63.21,162.37L64.75,163.36L70.92,165.37L72.46,167.11L75.54,168.28L77.08,168.63L86.33,168.81L87.88,167.99L90.96,166.04L92.5,164.31L95.58,159.66L97.13,159.34L98.67,157.79L100.21,157.93L101.75,155.57L103.29,155.08L107.92,150.71L109.46,154.02L111,149.15L112.54,149.43L114.08,146.65L115.63,140.15L117.17,133.55L118.71,132.56L120.25,136.66L121.79,130.75L123.33,123.17L124.88,122.4L126.42,119.42L127.96,114.64L134.13,147.26L135.67,152.15L141.83,162.74L143.38,163.9L158.79,170.68L160.33,170.89L164.96,171.37L166.5,171.06L168.04,170.76L169.58,169.41L172.67,165.6L174.21,162.73L177.29,156.3L178.83,155.23L180.38,154.36L181.92,154.89L183.46,154.4L185,151.95L186.54,151.81L188.08,150.45L189.63,152L191.17,147.96L192.71,148.81L194.25,146.96L197.33,136.42L198.88,134.48L200.42,140.35L201.96,141.8L205.04,140.23L206.58,142.82L209.67,136.92L211.21,140.04L212.75,138.94L214.29,139.43L217.38,149.54L218.92,151.74L222,152L223.54,152.91L225.08,154.61L226.63,154.19L228.17,154.63L229.71,156.04L235.88,162.58L237.42,165.35L238.96,166.25L240.5,165.79L243.58,166.93L245.13,166.93L246.67,166.61L248.21,165.17L252.83,158.7L254.38,155.95L257.46,150.21L259,148.2L260.54,143.2L262.08,142.12L265.17,142.81L266.71,140.48L268.25,133.61L269.79,131.54L274.42,97.44L275.96,77.44L277.5,52.26L279.04,40.62L280.58,16.27L282.13,9.05L283.67,27.75L285.21,63.59L288.29,106.85L289.83,111.98L292.92,123.98L294.46,128.25L297.54,137.53L299.08,140.64L302.17,152.62L303.71,153.7L309.88,162.11L311.42,162.37L314.5,164.41L316.04,164.85L322.21,166.31L323.75,165.51L329.92,163.43L331.46,162.42L333,161.86\" style=\"vector-effect: non-scaling-stroke; fill: none; stroke: rgb(31, 119, 180); stroke-opacity: 1; stroke-width: 2px; opacity: 1;\"/></g><g class=\"points\"/><g class=\"text\"/></g><g class=\"trace scatter trace2ac4a7\" style=\"stroke-miterlimit: 2; opacity: 1;\"><g class=\"fills\"/><g class=\"errorbars\"/><g class=\"lines\"><path class=\"js-line\" d=\"M0,162L1.54,163.03L3.08,162.66L4.63,166.37L6.17,163.24L7.71,163.3L9.25,160.76L12.33,135.77L13.88,119.64L15.42,116.15L16.96,118.19L18.5,122.21L20.04,106.2L23.13,59.44L24.67,57.56L27.75,93.09L29.29,127.82L30.83,138.82L32.38,130.5L33.92,146.99L35.46,144.03L37,157.86L38.54,147.78L40.08,133.09L41.63,143.67L43.17,137.95L44.71,140.96L46.25,140.19L47.79,147L49.33,158.21L50.88,153.68L52.42,148.18L53.96,154.29L55.5,153.21L57.04,159.31L58.58,161.4L60.13,157.54L61.67,166.83L63.21,158.17L64.75,161.58L66.29,167.64L67.83,164.74L69.38,159.91L70.92,165.03L72.46,166.66L74,161.29L75.54,168.91L78.63,164.88L80.17,168.45L81.71,166.29L83.25,168.11L84.79,168.28L86.33,167.18L87.88,166.86L89.42,163.81L90.96,160.23L92.5,166.16L97.13,159.97L98.67,152.65L100.21,156.87L101.75,158.05L103.29,154.07L104.83,158.54L106.38,160.46L107.92,150.19L111,148.69L112.54,140.09L114.08,146.64L115.63,143.98L117.17,148.75L118.71,135.1L120.25,126.17L121.79,134.64L123.33,119.9L124.88,113.16L126.42,102.69L127.96,111.04L129.5,126.51L131.04,115.12L134.13,145.14L135.67,146.18L138.75,158.7L140.29,157.03L141.83,161.11L143.38,157.81L144.92,158.86L146.46,168.09L149.54,161.52L151.08,164.46L152.63,167.53L154.17,162.24L155.71,167.87L157.25,168.86L158.79,168.05L160.33,168.55L161.88,168.32L163.42,171.84L166.5,170.12L168.04,171.95L169.58,165.97L171.13,163.91L172.67,164.34L174.21,165.88L175.75,163.65L177.29,159.03L178.83,156.08L180.38,157.41L181.92,156.24L183.46,156.63L185,157.34L186.54,159.13L188.08,151.56L189.63,153.17L191.17,152L192.71,146.9L194.25,152.58L195.79,148.19L197.33,159.87L198.88,159.41L200.42,139.37L201.96,139.72L203.5,144.07L205.04,143.39L206.58,143.74L208.13,148.97L209.67,157.43L211.21,147.09L212.75,144.15L214.29,148.93L215.83,150.8L217.38,145.6L218.92,157.14L220.46,155.72L222,158.42L223.54,156.14L225.08,159.6L226.63,165.54L228.17,158.93L229.71,159.44L232.79,164.76L234.33,162.09L235.88,165.89L237.42,165.19L238.96,163.51L240.5,164.5L242.04,164.95L243.58,166.93L245.13,167.88L246.67,166.05L248.21,163.95L249.75,164.73L251.29,163.8L252.83,158.26L254.38,162.13L255.92,159.51L259,155.19L260.54,154.85L262.08,157.99L263.63,154.15L265.17,157.68L266.71,157.73L269.79,147.62L271.33,147.56L272.88,132.44L274.42,140.08L275.96,123.56L277.5,127.94L279.04,116L280.58,67.46L282.13,111.21L283.67,113.97L285.21,105.96L286.75,117.21L289.83,146.69L291.38,142.44L294.46,148.44L296,145.86L299.08,154.77L300.63,155.61L302.17,159.89L303.71,159.06L305.25,160.99L306.79,165.91L308.33,165.97L309.88,162.93L311.42,163.04L312.96,168.05L314.5,165.6L316.04,167.4L317.58,167.42L319.13,166.42L320.67,169.1L322.21,168.34L323.75,170.33L325.29,169.14L328.38,168.69L329.92,165.32L331.46,162.98L333,164.6\" style=\"vector-effect: non-scaling-stroke; fill: none; stroke: rgb(0, 128, 0); stroke-opacity: 1; stroke-width: 2px; opacity: 1; stroke-dasharray: 9px, 9px;\"/></g><g class=\"points\"/><g class=\"text\"/></g><g class=\"trace scatter tracecdb3e5\" style=\"stroke-miterlimit: 2; opacity: 1;\"><g class=\"fills\"/><g class=\"errorbars\"/><g class=\"lines\"><path class=\"js-line\" d=\"M0,160.92L1.54,161.05L3.08,160.19L4.63,162.99L6.17,162.69L7.71,159.88L9.25,152.51L13.88,113L15.42,109.19L16.96,100.85L18.5,100.83L20.04,89.97L21.58,60.7L23.13,62.84L24.67,81.27L27.75,105.01L29.29,126.84L30.83,133.67L32.38,135.66L33.92,147.88L35.46,141.08L37,142.72L38.54,142.33L40.08,141.16L41.63,146.49L43.17,144.19L44.71,146.15L46.25,144.47L47.79,147.41L49.33,151.47L50.88,150.23L52.42,149.4L53.96,154.03L58.58,160.96L60.13,161.73L61.67,164.68L63.21,159.79L66.29,164.54L67.83,164.62L69.38,162.19L70.92,164.23L72.46,167.35L74,166.3L75.54,167.46L77.08,166.76L78.63,166.36L80.17,167.49L81.71,167.47L83.25,168.34L87.88,167.66L89.42,165.25L90.96,162.97L92.5,165.83L95.58,162.38L97.13,162.61L98.67,158.88L100.21,159.21L101.75,159.47L103.29,155.67L106.38,155.43L107.92,149.39L109.46,153.77L111,151.8L112.54,148.27L114.08,149.35L115.63,137.37L117.17,132.66L118.71,131.08L120.25,131.78L121.79,129.19L123.33,114.83L124.88,115.17L126.42,109.41L127.96,105.91L129.5,119.46L132.58,132.48L134.13,142.19L138.75,155.33L140.29,158.85L141.83,161.34L143.38,160.31L144.92,160.55L146.46,163.92L148,164.67L149.54,163.18L151.08,164.39L152.63,167.1L154.17,166.37L155.71,167.8L158.79,169.16L160.33,169.06L161.88,169.53L163.42,171.35L164.96,171.67L166.5,171.19L168.04,171.89L169.58,168.52L171.13,165.67L172.67,166.02L174.21,165.12L175.75,162.4L177.29,159.05L178.83,158.33L180.38,158.42L181.92,159.91L183.46,158.61L185,154.25L186.54,154.95L188.08,151.09L189.63,153.26L191.17,152.69L192.71,152.72L194.25,153.91L195.79,143.89L197.33,143.18L198.88,146.55L200.42,145.37L201.96,147.33L203.5,145.71L205.04,145.5L206.58,148.52L208.13,149.85L209.67,146.14L212.75,143.01L214.29,142.81L215.83,152.4L217.38,153.13L218.92,154.83L220.46,153.84L223.54,155.14L225.08,158.3L226.63,159.74L228.17,157.93L229.71,158.63L231.25,161.31L232.79,164.28L234.33,163.38L237.42,167.38L238.96,166.22L240.5,164.23L242.04,164.7L243.58,166.72L245.13,167.26L246.67,166.1L248.21,163.95L252.83,159.62L254.38,159.46L259,154.45L260.54,150.14L263.63,154.27L265.17,155.13L266.71,152.79L268.25,142.45L271.33,138.6L272.88,122.53L274.42,118.97L275.96,99.59L277.5,84.86L279.04,82.72L280.58,53.07L282.13,80.77L285.21,162.37L286.75,156.63L288.29,143.19L289.83,140.17L291.38,135.6L292.92,144.18L299.08,153.34L300.63,157.87L302.17,164.09L303.71,160.63L305.25,159.89L306.79,164.66L308.33,166.43L309.88,164.79L311.42,162.97L312.96,167.24L314.5,166.54L316.04,166.77L319.13,166.82L320.67,168.55L322.21,168.11L323.75,169.63L325.29,168.04L326.83,168.73L328.38,168.72L329.92,165.93L331.46,164.23L333,166.05\" style=\"vector-effect: non-scaling-stroke; fill: none; stroke: rgb(128, 0, 128); stroke-opacity: 1; stroke-width: 2px; opacity: 1; stroke-dasharray: 3px, 3px;\"/></g><g class=\"points\"/><g class=\"text\"/></g></g></g><g class=\"overplot\"/><path class=\"xlines-above crisp\" d=\"M56,191.5H390\" style=\"fill: none; stroke-width: 1px; stroke: rgb(36, 36, 36); stroke-opacity: 1;\"/><path class=\"ylines-above crisp\" d=\"M56.5,10V191\" style=\"fill: none; stroke-width: 1px; stroke: rgb(36, 36, 36); stroke-opacity: 1;\"/><g class=\"overlines-above\"/><g class=\"xaxislayer-above\"><path class=\"xtick ticks crisp\" d=\"M0,192v5\" transform=\"translate(129.45999999999998,0)\" style=\"stroke: rgb(68, 68, 68); stroke-opacity: 1; stroke-width: 1px;\"/><path class=\"xtick ticks crisp\" d=\"M0,192v5\" transform=\"translate(206.54,0)\" style=\"stroke: rgb(68, 68, 68); stroke-opacity: 1; stroke-width: 1px;\"/><path class=\"xtick ticks crisp\" d=\"M0,192v5\" transform=\"translate(283.63,0)\" style=\"stroke: rgb(68, 68, 68); stroke-opacity: 1; stroke-width: 1px;\"/><path class=\"xtick ticks crisp\" d=\"M0,192v5\" transform=\"translate(360.71,0)\" style=\"stroke: rgb(68, 68, 68); stroke-opacity: 1; stroke-width: 1px;\"/><g class=\"xtick\"><text text-anchor=\"middle\" x=\"0\" y=\"211.4\" transform=\"translate(129.45999999999998,0)\" style=\"font-family: 'Open Sans', verdana, arial, sans-serif; font-size: 12px; fill: rgb(36, 36, 36); fill-opacity: 1; white-space: pre; opacity: 1;\">350</text></g><g class=\"xtick\"><text text-anchor=\"middle\" x=\"0\" y=\"211.4\" style=\"font-family: 'Open Sans', verdana, arial, sans-serif; font-size: 12px; fill: rgb(36, 36, 36); fill-opacity: 1; white-space: pre; opacity: 1;\" transform=\"translate(206.54,0)\">400</text></g><g class=\"xtick\"><text text-anchor=\"middle\" x=\"0\" y=\"211.4\" style=\"font-family: 'Open Sans', verdana, arial, sans-serif; font-size: 12px; fill: rgb(36, 36, 36); fill-opacity: 1; white-space: pre; opacity: 1;\" transform=\"translate(283.63,0)\">450</text></g><g class=\"xtick\"><text text-anchor=\"middle\" x=\"0\" y=\"211.4\" style=\"font-family: 'Open Sans', verdana, arial, sans-serif; font-size: 12px; fill: rgb(36, 36, 36); fill-opacity: 1; white-space: pre; opacity: 1;\" transform=\"translate(360.71,0)\">500</text></g></g><g class=\"yaxislayer-above\"><path class=\"ytick ticks crisp\" d=\"M56,0h-5\" transform=\"translate(0,109.6)\" style=\"stroke: rgb(68, 68, 68); stroke-opacity: 1; stroke-width: 1px;\"/><path class=\"ytick ticks crisp\" d=\"M56,0h-5\" transform=\"translate(0,28.1)\" style=\"stroke: rgb(68, 68, 68); stroke-opacity: 1; stroke-width: 1px;\"/><g class=\"ytick\"><text text-anchor=\"end\" x=\"48.6\" y=\"4.199999999999999\" transform=\"translate(0,109.6)\" style=\"font-family: 'Open Sans', verdana, arial, sans-serif; font-size: 12px; fill: rgb(36, 36, 36); fill-opacity: 1; white-space: pre; opacity: 1;\">5</text></g><g class=\"ytick\"><text text-anchor=\"end\" x=\"48.6\" y=\"4.199999999999999\" style=\"font-family: 'Open Sans', verdana, arial, sans-serif; font-size: 12px; fill: rgb(36, 36, 36); fill-opacity: 1; white-space: pre; opacity: 1;\" transform=\"translate(0,28.1)\">10</text></g></g><g class=\"overaxes-above\"/></g></g><g class=\"polarlayer\"/><g class=\"smithlayer\"/><g class=\"ternarylayer\"/><g class=\"geolayer\"/><g class=\"funnelarealayer\"/><g class=\"pielayer\"/><g class=\"iciclelayer\"/><g class=\"treemaplayer\"/><g class=\"sunburstlayer\"/><g class=\"glimages\"/><defs id=\"topdefs-db7305\"><g class=\"clips\"/></defs><g class=\"layer-above\"><g class=\"imagelayer\"/><g class=\"shapelayer\"/></g><g class=\"infolayer\"><g class=\"g-gtitle\"/><g class=\"g-xtitle\"><text class=\"xtitle\" x=\"223.5\" y=\"239.70625\" text-anchor=\"middle\" style=\"font-family: 'Open Sans', verdana, arial, sans-serif; font-size: 14px; fill: rgb(36, 36, 36); opacity: 1; font-weight: normal; white-space: pre;\">week</text></g><g class=\"g-ytitle\" transform=\"translate(4.9248046875,0)\"><text class=\"ytitle\" transform=\"rotate(-90,10.075000000000003,100.5)\" x=\"10.075000000000003\" y=\"100.5\" text-anchor=\"middle\" style=\"font-family: 'Open Sans', verdana, arial, sans-serif; font-size: 14px; fill: rgb(36, 36, 36); opacity: 1; font-weight: normal; white-space: pre;\">Percent Influenza</text></g></g></svg>"
      ]
     },
     "metadata": {},
     "output_type": "display_data"
    }
   ],
   "source": [
    "gft_df = pd.read_csv('data/gft.csv', \n",
    "                     usecols=['gflu','dlscflu09','degflu09'])\n",
    "\n",
    "gft_df = gft_df.iloc[302:519]\n",
    "\n",
    "gft_df['week'] = np.arange(303,520)\n",
    "\n",
    "fig = px.line(gft_df, x='week', y='gflu', width=400, height=250)\n",
    "\n",
    "fig.add_trace(go.Scatter(\n",
    "        x=gft_df['week'], y=gft_df['dlscflu09'],\n",
    "        mode=\"lines\", \n",
    "        line=go.scatter.Line(color='green', width=2, dash='dash'),\n",
    "        showlegend=False))\n",
    "\n",
    "fig.add_trace(go.Scatter(\n",
    "        x=gft_df['week'], y=gft_df['degflu09'],\n",
    "        mode=\"lines\", \n",
    "        line=go.scatter.Line(color='purple', width=2, dash='dot'),\n",
    "        showlegend=False))\n",
    "                 \n",
    "fig.update_yaxes(title_text='Percent Influenza')\n",
    "fig.show()"
   ]
  },
  {
   "cell_type": "markdown",
   "metadata": {},
   "source": [
    "From weeks 412 to 519 in this plot, GFT (solid line) over estimated the actual CDC reports (dashed line) 100 times. Also plotted here are predictions from a model based on 3-week old CDC data and seasonal trends (dotted line), which follows the actuals more closely than GFT.  "
   ]
  },
  {
   "cell_type": "markdown",
   "metadata": {},
   "source": [
    "Data scientists found that a simple model built from past CDC reports that used 3-week-old CDC data and seasonal trends did a better job of predicting flu prevalence than GFT. The GFT overlooked considerable information that can be extracted by basic statistical methods. This does not mean that big data captured from online activity is useless. In fact, researchers have shown that the combination of GFT data with CDC data can substantially improve on both GFT predictions and the CDC-based model[^Lazer15]. It is often the case that combining different approaches leads to improvements over individual methods."
   ]
  },
  {
   "cell_type": "markdown",
   "metadata": {},
   "source": [
    "The GFT example shows us that even when we have tremendous amounts of information, the connections between the data and the question being asked are paramount. Understanding this framework can help us avoid answering the wrong question, applying inappropriate methods to the data, and overstating our findings. "
   ]
  },
  {
   "cell_type": "markdown",
   "metadata": {},
   "source": [
    ":::{note}\n",
    "\n",
    "In the age of big data, we are tempted to collect more and more data to answer a question precisely. After all, a census gives us perfect information, so shouldn't big data be nearly perfect? Unfortunately, this is often not the case, especially with administrative data and digital traces. The inaccessibility of a small fraction of the people you want to study (see the 2016 election upset in {numref}`Chapter %s <ch:theory_datadesign>`) or the measurement process itself (as in this GFT example) can lead to poor predictions. It is important to consider the scope of the data as it relates to the question under investigation.      \n",
    "\n",
    ":::"
   ]
  },
  {
   "cell_type": "markdown",
   "metadata": {},
   "source": [
    "A key factor to keep in mind is the scope of the data. Scope includes considering the population we want to study, how to access information about that population, and what we are actually measuring. Thinking through these points can help us see potential gaps in our approach. This is the topic of the next section."
   ]
  }
 ],
 "metadata": {
  "celltoolbar": "Tags",
  "kernelspec": {
   "display_name": "Python 3",
   "language": "python",
   "name": "python3"
  },
  "language_info": {
   "codemirror_mode": {
    "name": "ipython",
    "version": 3
   },
   "file_extension": ".py",
   "mimetype": "text/x-python",
   "name": "python",
   "nbconvert_exporter": "python",
   "pygments_lexer": "ipython3",
   "version": "3.9.4"
  }
 },
 "nbformat": 4,
 "nbformat_minor": 4
}
