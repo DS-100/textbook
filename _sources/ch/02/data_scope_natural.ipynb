{
 "cells": [
  {
   "cell_type": "code",
   "execution_count": 1,
   "metadata": {
    "tags": [
     "remove-cell"
    ]
   },
   "outputs": [],
   "source": [
    "import sys\n",
    "import os\n",
    "if not any(path.endswith('textbook') for path in sys.path):\n",
    "    sys.path.append(os.path.abspath('../../..'))\n",
    "from textbook_utils import *"
   ]
  },
  {
   "cell_type": "markdown",
   "metadata": {},
   "source": [
    "(sec:scope_naturalphenomenon)=\n",
    "# Measuring Natural Phenomenon\n",
    "\n",
    "The scope-diagram introduced for observing a target population can be extended to the situation where we want to measure a quantity such as the count of particles in the air, the age of a fossil, the speed of light, etc. In these cases we consider the quantity we want to measure as an unknown value. (This unknown value is often referred to as a *parameter*.) In our diagram, we shrink the target to a point that represents this unknown. The instrument's accuracy acts as the frame, and the sample consists of the measurements taken by the instrument within the frame. You might think of the frame as a dart board, where the instrument is the person throwing the darts. If they are reasonably good, the darts land within the circle, scattered around the bullseye. The scatter of darts correspond to the measurements taken by the instrument. The target point is not seen by the dart thrower, but ideally it coincides with the bullseye. \n",
    "\n",
    "To illustrate the concepts of measurement error and the connection to sampling error, we examine the problem of measuring carbon dioxide (CO2) levels in the air.  "
   ]
  },
  {
   "cell_type": "markdown",
   "metadata": {},
   "source": [
    "*What is the level of CO2 in the air?* \n",
    "Carbon dioxide (CO2) is an important signal of global warming. CO2 is a gas that traps heat in the earth's atmosphere. Without it, earth would be impossibly cold, but increases in CO2 also drives global warming and threatens our planet's climate. To address this question, CO2 concentrations have been monitored at Mauna Loa Observatory since 1958. These data offer a crucial benchmark for\n",
    "understanding the threat of global warming.  "
   ]
  },
  {
   "cell_type": "markdown",
   "metadata": {},
   "source": [
    "When thinking about the scope of the data, we consider the location and time of data collection. Scientists chose to measure CO2  on the volcano, Mauna Loa, because they wanted a place that could measure the background level of CO2 in the air. Mauna Loa is in the Pacific Ocean, far away from pollution sources, and the observatory is high up on the mountain surrounded by bare lava, away from plants that remove CO2 from the air. Nonetheless, each day as the upslope air movement brings air from the vegetation at the lower levels of the volcano, the CO2 concentration is impacted.   "
   ]
  },
  {
   "cell_type": "markdown",
   "metadata": {},
   "source": [
    "The CO2 in background air is relatively steady, and 5-minute average concentrations within an hour deviate from the hourly average by about 0.30 ppm. (The measurements of CO2 are the number of CO2 molecules per million molecules of dry air so the unit of measurement is parts per million of ppm for short.) "
   ]
  },
  {
   "cell_type": "markdown",
   "metadata": {},
   "source": [
    "It's important the the instrument measuring CO2 is as accurate as possible. Rigorous protocols are in place to keep the instrument in top condition. For example, samples of air are routinely measured at Mauna Loa by different types of equipment and other samples are sent off site to a laboratory for more accurate measurement. These measurements help determine the accuracy of the instrument. In addition, once an hour, a reference gas is measured for five minutes, and once a day two other reference gases are measured for fifteen minutes. These reference gases have known CO2 levels. Further, the time of day when the second set of reference gases are measured changes daily to identify any problems related to the time of day. A comparison of the measured concentrations against the known values helps identify bias in the instrument. "
   ]
  },
  {
   "cell_type": "markdown",
   "metadata": {},
   "source": [
    "```{figure} PurpleAirConstruct.png\n",
    "---\n",
    "name: fig:MaunaLoaConstruct\n",
    "---\n",
    "This representation is typical of many measurement processes. The access frame represents the measurement process which reflects the accuracy of the instrument.\n",
    "```"
   ]
  },
  {
   "cell_type": "markdown",
   "metadata": {},
   "source": [
    "We can think of the data scope as follows: at this particular location (high up on Mauna Loa) at any point in time, there is a true background concentration of CO2, this is our target. Our instrument takes measurements and reports 5-minute averages. In any hour, these form a sample contained in the access frame, the dart board. If the instrument is working properly, the bullseye coincides with the target and the measurements are centered around the bullseye."
   ]
  },
  {
   "cell_type": "markdown",
   "metadata": {},
   "source": [
    "We continue the dart board analogy in the next section to introduce the concepts of bias and variation, describe common ways in which a sample might not be representative of the population, and draw connections between accuracy and the protocol. "
   ]
  }
 ],
 "metadata": {
  "celltoolbar": "Tags",
  "kernelspec": {
   "display_name": "Python 3",
   "language": "python",
   "name": "python3"
  },
  "language_info": {
   "codemirror_mode": {
    "name": "ipython",
    "version": 3
   },
   "file_extension": ".py",
   "mimetype": "text/x-python",
   "name": "python",
   "nbconvert_exporter": "python",
   "pygments_lexer": "ipython3",
   "version": "3.9.4"
  }
 },
 "nbformat": 4,
 "nbformat_minor": 4
}
