{
 "cells": [
  {
   "cell_type": "code",
   "execution_count": 1,
   "metadata": {
    "tags": [
     "remove-cell"
    ]
   },
   "outputs": [],
   "source": [
    "# Reference: https://jupyterbook.org/interactive/hiding.html\n",
    "# Use {hide, remove}-{input, output, cell} tags to hiding content\n",
    "\n",
    "import sys\n",
    "import os\n",
    "if not any(path.endswith('textbook') for path in sys.path):\n",
    "    sys.path.append(os.path.abspath('../../..'))\n",
    "from textbook_utils import *"
   ]
  },
  {
   "cell_type": "markdown",
   "metadata": {},
   "source": [
    "(ch:bus)=\n",
    "# Case Study: Why is my Bus Always Late?"
   ]
  },
  {
   "cell_type": "markdown",
   "metadata": {},
   "source": [
    "Jake VanderPlas' blog, Pythonic Perambulations[^vanderplas], gives a good sense of the modern data scientist, in addition to working with data in their job, he sees how data intersects his life outside of work, and is curious about insights that it might bring to his world.  In our first case study we borrow from one of the posts on Pythonic Perambulations, The Waiting Time Paradox, or, Why Is My Bus Always Late? and work through an analysis as we touch on each stage of the data life cycle. Our focus is on the process of how to think about the question, data, and model, rather than writing code. \n",
    "\n",
    "The post was inspired by the author's waiting for the bus in Seattle where the bus always seemed to take longer than expected. The typical reasoning was that if a bus comes every 10 minutes and you arrive at a random time, then on average,  the wait should be about 5 minutes. Experience seemed to contradict that reasoning. With data from the Washington State Transportation Center, the author was able to investigate this phenomenon. We do the same. \n",
    "\n",
    "In this first case study, we use many concepts introduced in the early chapters. Beginning with the general question, why is my bus always late, we refine the question to one that we can investigate with data. We consider the data scope, such as how they were collected, granularity, and potential sources of biases. We clean the data and transform them for analysis. Our understanding of the scope of the data help us design a model for waiting at the bus-stop and simulate it.\n",
    "\n",
    "[^vanderplas]:http://jakevdp.github.io/](http://jakevdp.github.io/)"
   ]
  }
 ],
 "metadata": {
  "celltoolbar": "Tags",
  "kernelspec": {
   "display_name": "Python 3",
   "language": "python",
   "name": "python3"
  },
  "language_info": {
   "codemirror_mode": {
    "name": "ipython",
    "version": 3
   },
   "file_extension": ".py",
   "mimetype": "text/x-python",
   "name": "python",
   "nbconvert_exporter": "python",
   "pygments_lexer": "ipython3",
   "version": "3.9.4"
  }
 },
 "nbformat": 4,
 "nbformat_minor": 4
}
