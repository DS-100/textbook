{
 "cells": [
  {
   "cell_type": "code",
   "execution_count": 1,
   "metadata": {
    "tags": [
     "remove-cell"
    ]
   },
   "outputs": [],
   "source": [
    "import sys\n",
    "import os\n",
    "if not any(path.endswith('textbook') for path in sys.path):\n",
    "    sys.path.append(os.path.abspath('../../..'))\n",
    "from textbook_utils import *"
   ]
  },
  {
   "cell_type": "markdown",
   "metadata": {},
   "source": [
    "# Summary"
   ]
  },
  {
   "cell_type": "markdown",
   "metadata": {},
   "source": [
    "This is our first case study where we go through the full data life cycle from asking a question, to obtaining, cleaning and exploring data to modeling. It might have struck you how such a simple question was not immediately answerable by the data collected. We needed to combine the data of scheduled and actual arrival times of buses with a simulation study of riders arriving at the bus stop at random times so that we could uncover the waiting experience from the rider's point of view. We could have used advanced probability theory to derive these results, but this example shows the power of a simulation study to understand the chance process of waiting for a bus.    \n",
    "\n",
    "This simulation simplified many of the real patterns in bus riding. We focused on one bus line traveling in one direction with buses arriving at 12 minute intervals. Further, the exploration of the data revealed that the patterns in lateness correlated with the time of day, which we didn't account for. Nonetheless, this analysis can still be useful. For example, it confirms that the typical wait time is longer than half the scheduled interval. And, the distribution of wait times has a long right tail, meaning a rider's experience may well be impacted by the variability in the process.\n",
    "\n",
    "Finally, we briefly demonstrated some of the technology that we will be covering in later chapters. Our focus was not on how to work with tables of data or how to choose the right plot to make and read its meaning. Instead, we focused on the life cycle, connecting questions to data to modeling to conclusions. In the next chapter we turn to the practicalities of working with data tables.    \n",
    "  "
   ]
  }
 ],
 "metadata": {
  "celltoolbar": "Tags",
  "kernelspec": {
   "display_name": "Python 3",
   "language": "python",
   "name": "python3"
  },
  "language_info": {
   "codemirror_mode": {
    "name": "ipython",
    "version": 3
   },
   "file_extension": ".py",
   "mimetype": "text/x-python",
   "name": "python",
   "nbconvert_exporter": "python",
   "pygments_lexer": "ipython3",
   "version": "3.9.4"
  }
 },
 "nbformat": 4,
 "nbformat_minor": 4
}
