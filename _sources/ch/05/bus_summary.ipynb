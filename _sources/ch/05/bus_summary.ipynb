{
 "cells": [
  {
   "cell_type": "code",
   "execution_count": 1,
   "metadata": {
    "tags": [
     "remove-cell"
    ]
   },
   "outputs": [],
   "source": [
    "import sys\n",
    "import os\n",
    "if not any(path.endswith('textbook') for path in sys.path):\n",
    "    sys.path.append(os.path.abspath('../../..'))\n",
    "from textbook_utils import *"
   ]
  },
  {
   "cell_type": "markdown",
   "metadata": {},
   "source": [
    "# Summary"
   ]
  },
  {
   "cell_type": "markdown",
   "metadata": {},
   "source": [
    "This is our first case study where we go through the full data life cycle from asking a question, to obtaining, cleaning and exploring data to modeling. It might have struck you how such a simple question was not immediately answerable by the data collected. We needed to combine the data of scheduled and actual arrival times of buses with a simulation study of riders arriving at the bus stop at random times so that we could uncover the waiting experience from the rider's point of view. We could have used advanced probability theory to derive these results, but this example shows the power of a simulation study to understand the chance process of waiting for a bus.    \n",
    "\n",
    "This simulation simplified many of the real patterns in bus riding. We focused on one bus line traveling in one direction with buses arriving at 12 minute intervals. Further, the exploration of the data revealed that the patterns in lateness correlated with the time of day, which we didn't account for. Nonetheless, this analysis can still be useful. For example, it confirms that the typical wait time is longer than half the scheduled interval. And, the distribution of wait times has a long right tail, meaning a rider's experience may well be impacted by the variability in the process.\n",
    "\n",
    "We also saw how deriving new features and exploring the data can be useful in modeling. Our histograms showed that the particular line and direction of the bus mattered, and these features need to be addressed in modeling. We also discovered the schedules changed throughout the day, with buses arriving 10, 12, and 15 minutes after another, and some arriving more frequently or more separated. This observation further informed the modeling stage.    \n",
    "\n",
    "Finally, used data tools that will be covered in later chapters. Our focus here was not on how to work with tables of data or how to create a plot. Instead, we focused on the life cycle, connecting questions to data to modeling to conclusions. In the next chapter we turn to the practicalities of working with data tables.    \n",
    "  "
   ]
  }
 ],
 "metadata": {
  "celltoolbar": "Tags",
  "kernelspec": {
   "display_name": "Python 3",
   "language": "python",
   "name": "python3"
  },
  "language_info": {
   "codemirror_mode": {
    "name": "ipython",
    "version": 3
   },
   "file_extension": ".py",
   "mimetype": "text/x-python",
   "name": "python",
   "nbconvert_exporter": "python",
   "pygments_lexer": "ipython3",
   "version": "3.9.4"
  }
 },
 "nbformat": 4,
 "nbformat_minor": 4
}
