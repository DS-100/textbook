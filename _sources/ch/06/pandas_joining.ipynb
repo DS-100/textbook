{
 "cells": [
  {
   "cell_type": "code",
   "execution_count": 2,
   "metadata": {
    "tags": [
     "remove-cell"
    ]
   },
   "outputs": [],
   "source": [
    "import sys\n",
    "import os\n",
    "if not any(path.endswith('textbook') for path in sys.path):\n",
    "    sys.path.append(os.path.abspath('../../..'))\n",
    "from textbook_utils import *"
   ]
  },
  {
   "attachments": {},
   "cell_type": "markdown",
   "metadata": {},
   "source": [
    "# Joining\n",
    "\n",
    "Data scientists very frequently want to *join* two or more dataframes together\n",
    "in order to connect data values across dataframes. For instance, an online\n",
    "bookstore might have one dataframe with the books each user has ordered and a\n",
    "second dataframe with the genres of each book. By joining the two dataframes\n",
    "together, the data scientist can see what genres each user prefers.\n",
    "\n",
    "We'll continue looking at the baby names data. We'll use joins to check some\n",
    "trends mentioned in the [_New York Times_ article about baby names](https://www.nytimes.com/2021/06/12/style/lilibet-popular-baby-names.html). The article talks about how certain categories of\n",
    "names have become more or less popular over time. For instance, it mentions\n",
    "that mythological names like Julius and Cassius have become popular, while baby\n",
    "boomer names like Susan and Debbie have become less popular. How has the\n",
    "popularity of these categories changed over time?\n",
    "\n",
    "We've taken the names and categories in the _NYT_ article and put them in a small\n",
    "dataframe:"
   ]
  },
  {
   "cell_type": "code",
   "execution_count": 3,
   "metadata": {},
   "outputs": [
    {
     "data": {
      "text/html": [
       "<div>\n",
       "<style scoped>\n",
       "    .dataframe tbody tr th:only-of-type {\n",
       "        vertical-align: middle;\n",
       "    }\n",
       "\n",
       "    .dataframe tbody tr th {\n",
       "        vertical-align: top;\n",
       "    }\n",
       "\n",
       "    .dataframe thead th {\n",
       "        text-align: right;\n",
       "    }\n",
       "</style>\n",
       "<table border=\"1\" class=\"dataframe\">\n",
       "  <thead>\n",
       "    <tr style=\"text-align: right;\">\n",
       "      <th></th>\n",
       "      <th>nyt_name</th>\n",
       "      <th>category</th>\n",
       "    </tr>\n",
       "  </thead>\n",
       "  <tbody>\n",
       "    <tr>\n",
       "      <th>0</th>\n",
       "      <td>Lucifer</td>\n",
       "      <td>forbidden</td>\n",
       "    </tr>\n",
       "    <tr>\n",
       "      <th>1</th>\n",
       "      <td>Lilith</td>\n",
       "      <td>forbidden</td>\n",
       "    </tr>\n",
       "    <tr>\n",
       "      <th>2</th>\n",
       "      <td>Danger</td>\n",
       "      <td>forbidden</td>\n",
       "    </tr>\n",
       "    <tr>\n",
       "      <th>...</th>\n",
       "      <td>...</td>\n",
       "      <td>...</td>\n",
       "    </tr>\n",
       "    <tr>\n",
       "      <th>20</th>\n",
       "      <td>Venus</td>\n",
       "      <td>celestial</td>\n",
       "    </tr>\n",
       "    <tr>\n",
       "      <th>21</th>\n",
       "      <td>Celestia</td>\n",
       "      <td>celestial</td>\n",
       "    </tr>\n",
       "    <tr>\n",
       "      <th>22</th>\n",
       "      <td>Skye</td>\n",
       "      <td>celestial</td>\n",
       "    </tr>\n",
       "  </tbody>\n",
       "</table>\n",
       "<p>23 rows × 2 columns</p>\n",
       "</div>"
      ],
      "text/plain": [
       "    nyt_name   category\n",
       "0    Lucifer  forbidden\n",
       "1     Lilith  forbidden\n",
       "2     Danger  forbidden\n",
       "..       ...        ...\n",
       "20     Venus  celestial\n",
       "21  Celestia  celestial\n",
       "22      Skye  celestial\n",
       "\n",
       "[23 rows x 2 columns]"
      ]
     },
     "execution_count": 3,
     "metadata": {},
     "output_type": "execute_result"
    }
   ],
   "source": [
    "nyt = pd.read_csv('nyt_names.csv')\n",
    "nyt"
   ]
  },
  {
   "attachments": {},
   "cell_type": "markdown",
   "metadata": {},
   "source": [
    "To see how popular the categories of names are, we join the `nyt` dataframe\n",
    "with the `baby` dataframe to get the name counts from `baby`:"
   ]
  },
  {
   "cell_type": "code",
   "execution_count": 4,
   "metadata": {},
   "outputs": [
    {
     "data": {
      "text/html": [
       "<div>\n",
       "<style scoped>\n",
       "    .dataframe tbody tr th:only-of-type {\n",
       "        vertical-align: middle;\n",
       "    }\n",
       "\n",
       "    .dataframe tbody tr th {\n",
       "        vertical-align: top;\n",
       "    }\n",
       "\n",
       "    .dataframe thead th {\n",
       "        text-align: right;\n",
       "    }\n",
       "</style>\n",
       "<table border=\"1\" class=\"dataframe\">\n",
       "  <thead>\n",
       "    <tr style=\"text-align: right;\">\n",
       "      <th></th>\n",
       "      <th>Name</th>\n",
       "      <th>Sex</th>\n",
       "      <th>Count</th>\n",
       "      <th>Year</th>\n",
       "    </tr>\n",
       "  </thead>\n",
       "  <tbody>\n",
       "    <tr>\n",
       "      <th>0</th>\n",
       "      <td>Liam</td>\n",
       "      <td>M</td>\n",
       "      <td>19659</td>\n",
       "      <td>2020</td>\n",
       "    </tr>\n",
       "    <tr>\n",
       "      <th>1</th>\n",
       "      <td>Noah</td>\n",
       "      <td>M</td>\n",
       "      <td>18252</td>\n",
       "      <td>2020</td>\n",
       "    </tr>\n",
       "    <tr>\n",
       "      <th>2</th>\n",
       "      <td>Oliver</td>\n",
       "      <td>M</td>\n",
       "      <td>14147</td>\n",
       "      <td>2020</td>\n",
       "    </tr>\n",
       "    <tr>\n",
       "      <th>...</th>\n",
       "      <td>...</td>\n",
       "      <td>...</td>\n",
       "      <td>...</td>\n",
       "      <td>...</td>\n",
       "    </tr>\n",
       "    <tr>\n",
       "      <th>2020719</th>\n",
       "      <td>Verona</td>\n",
       "      <td>F</td>\n",
       "      <td>5</td>\n",
       "      <td>1880</td>\n",
       "    </tr>\n",
       "    <tr>\n",
       "      <th>2020720</th>\n",
       "      <td>Vertie</td>\n",
       "      <td>F</td>\n",
       "      <td>5</td>\n",
       "      <td>1880</td>\n",
       "    </tr>\n",
       "    <tr>\n",
       "      <th>2020721</th>\n",
       "      <td>Wilma</td>\n",
       "      <td>F</td>\n",
       "      <td>5</td>\n",
       "      <td>1880</td>\n",
       "    </tr>\n",
       "  </tbody>\n",
       "</table>\n",
       "<p>2020722 rows × 4 columns</p>\n",
       "</div>"
      ],
      "text/plain": [
       "           Name Sex  Count  Year\n",
       "0          Liam   M  19659  2020\n",
       "1          Noah   M  18252  2020\n",
       "2        Oliver   M  14147  2020\n",
       "...         ...  ..    ...   ...\n",
       "2020719  Verona   F      5  1880\n",
       "2020720  Vertie   F      5  1880\n",
       "2020721   Wilma   F      5  1880\n",
       "\n",
       "[2020722 rows x 4 columns]"
      ]
     },
     "execution_count": 4,
     "metadata": {},
     "output_type": "execute_result"
    }
   ],
   "source": [
    "baby = pd.read_csv('babynames.csv')\n",
    "baby"
   ]
  },
  {
   "attachments": {},
   "cell_type": "markdown",
   "metadata": {},
   "source": [
    "For intuition, we can imagine going down each row in `baby` and asking: is this name in the `nyt` table? If so, then add the value in the `category` column to the row. This is the basic idea behind a join. Let's look at a few examples on smaller dataframes first."
   ]
  },
  {
   "attachments": {},
   "cell_type": "markdown",
   "metadata": {},
   "source": [
    "## Inner Joins"
   ]
  },
  {
   "attachments": {},
   "cell_type": "markdown",
   "metadata": {},
   "source": [
    "We start by making smaller versions of the `baby` and `nyt` tables so that it's easier to see what happens when we join tables together:"
   ]
  },
  {
   "cell_type": "code",
   "execution_count": 5,
   "metadata": {
    "tags": [
     "remove-cell"
    ]
   },
   "outputs": [],
   "source": [
    "nyt_small = nyt.iloc[[11, 12, 14]].reset_index(drop=True)\n",
    "\n",
    "names_to_keep = ['Julius', 'Karen', 'Noah']\n",
    "baby_small = (baby\n",
    " .query(\"Year == 2020 and Name in @names_to_keep\")\n",
    " .reset_index(drop=True)\n",
    ")"
   ]
  },
  {
   "cell_type": "code",
   "execution_count": 6,
   "metadata": {},
   "outputs": [
    {
     "data": {
      "text/html": [
       "<div>\n",
       "<style scoped>\n",
       "    .dataframe tbody tr th:only-of-type {\n",
       "        vertical-align: middle;\n",
       "    }\n",
       "\n",
       "    .dataframe tbody tr th {\n",
       "        vertical-align: top;\n",
       "    }\n",
       "\n",
       "    .dataframe thead th {\n",
       "        text-align: right;\n",
       "    }\n",
       "</style>\n",
       "<table border=\"1\" class=\"dataframe\">\n",
       "  <thead>\n",
       "    <tr style=\"text-align: right;\">\n",
       "      <th></th>\n",
       "      <th>nyt_name</th>\n",
       "      <th>category</th>\n",
       "    </tr>\n",
       "  </thead>\n",
       "  <tbody>\n",
       "    <tr>\n",
       "      <th>0</th>\n",
       "      <td>Karen</td>\n",
       "      <td>boomer</td>\n",
       "    </tr>\n",
       "    <tr>\n",
       "      <th>1</th>\n",
       "      <td>Julius</td>\n",
       "      <td>mythology</td>\n",
       "    </tr>\n",
       "    <tr>\n",
       "      <th>2</th>\n",
       "      <td>Freya</td>\n",
       "      <td>mythology</td>\n",
       "    </tr>\n",
       "  </tbody>\n",
       "</table>\n",
       "</div>"
      ],
      "text/plain": [
       "  nyt_name   category\n",
       "0    Karen     boomer\n",
       "1   Julius  mythology\n",
       "2    Freya  mythology"
      ]
     },
     "execution_count": 6,
     "metadata": {},
     "output_type": "execute_result"
    }
   ],
   "source": [
    "nyt_small"
   ]
  },
  {
   "cell_type": "code",
   "execution_count": 8,
   "metadata": {},
   "outputs": [
    {
     "data": {
      "text/html": [
       "<div>\n",
       "<style scoped>\n",
       "    .dataframe tbody tr th:only-of-type {\n",
       "        vertical-align: middle;\n",
       "    }\n",
       "\n",
       "    .dataframe tbody tr th {\n",
       "        vertical-align: top;\n",
       "    }\n",
       "\n",
       "    .dataframe thead th {\n",
       "        text-align: right;\n",
       "    }\n",
       "</style>\n",
       "<table border=\"1\" class=\"dataframe\">\n",
       "  <thead>\n",
       "    <tr style=\"text-align: right;\">\n",
       "      <th></th>\n",
       "      <th>Name</th>\n",
       "      <th>Sex</th>\n",
       "      <th>Count</th>\n",
       "      <th>Year</th>\n",
       "    </tr>\n",
       "  </thead>\n",
       "  <tbody>\n",
       "    <tr>\n",
       "      <th>0</th>\n",
       "      <td>Noah</td>\n",
       "      <td>M</td>\n",
       "      <td>18252</td>\n",
       "      <td>2020</td>\n",
       "    </tr>\n",
       "    <tr>\n",
       "      <th>1</th>\n",
       "      <td>Julius</td>\n",
       "      <td>M</td>\n",
       "      <td>960</td>\n",
       "      <td>2020</td>\n",
       "    </tr>\n",
       "    <tr>\n",
       "      <th>2</th>\n",
       "      <td>Karen</td>\n",
       "      <td>M</td>\n",
       "      <td>6</td>\n",
       "      <td>2020</td>\n",
       "    </tr>\n",
       "    <tr>\n",
       "      <th>3</th>\n",
       "      <td>Karen</td>\n",
       "      <td>F</td>\n",
       "      <td>325</td>\n",
       "      <td>2020</td>\n",
       "    </tr>\n",
       "    <tr>\n",
       "      <th>4</th>\n",
       "      <td>Noah</td>\n",
       "      <td>F</td>\n",
       "      <td>305</td>\n",
       "      <td>2020</td>\n",
       "    </tr>\n",
       "  </tbody>\n",
       "</table>\n",
       "</div>"
      ],
      "text/plain": [
       "     Name Sex  Count  Year\n",
       "0    Noah   M  18252  2020\n",
       "1  Julius   M    960  2020\n",
       "2   Karen   M      6  2020\n",
       "3   Karen   F    325  2020\n",
       "4    Noah   F    305  2020"
      ]
     },
     "execution_count": 8,
     "metadata": {},
     "output_type": "execute_result"
    }
   ],
   "source": [
    "baby_small"
   ]
  },
  {
   "attachments": {},
   "cell_type": "markdown",
   "metadata": {},
   "source": [
    "To join tables in `pandas`, we'll use the `.merge()` method:"
   ]
  },
  {
   "cell_type": "code",
   "execution_count": 9,
   "metadata": {},
   "outputs": [
    {
     "data": {
      "text/html": [
       "<div>\n",
       "<style scoped>\n",
       "    .dataframe tbody tr th:only-of-type {\n",
       "        vertical-align: middle;\n",
       "    }\n",
       "\n",
       "    .dataframe tbody tr th {\n",
       "        vertical-align: top;\n",
       "    }\n",
       "\n",
       "    .dataframe thead th {\n",
       "        text-align: right;\n",
       "    }\n",
       "</style>\n",
       "<table border=\"1\" class=\"dataframe\">\n",
       "  <thead>\n",
       "    <tr style=\"text-align: right;\">\n",
       "      <th></th>\n",
       "      <th>Name</th>\n",
       "      <th>Sex</th>\n",
       "      <th>Count</th>\n",
       "      <th>Year</th>\n",
       "      <th>nyt_name</th>\n",
       "      <th>category</th>\n",
       "    </tr>\n",
       "  </thead>\n",
       "  <tbody>\n",
       "    <tr>\n",
       "      <th>0</th>\n",
       "      <td>Julius</td>\n",
       "      <td>M</td>\n",
       "      <td>960</td>\n",
       "      <td>2020</td>\n",
       "      <td>Julius</td>\n",
       "      <td>mythology</td>\n",
       "    </tr>\n",
       "    <tr>\n",
       "      <th>1</th>\n",
       "      <td>Karen</td>\n",
       "      <td>M</td>\n",
       "      <td>6</td>\n",
       "      <td>2020</td>\n",
       "      <td>Karen</td>\n",
       "      <td>boomer</td>\n",
       "    </tr>\n",
       "    <tr>\n",
       "      <th>2</th>\n",
       "      <td>Karen</td>\n",
       "      <td>F</td>\n",
       "      <td>325</td>\n",
       "      <td>2020</td>\n",
       "      <td>Karen</td>\n",
       "      <td>boomer</td>\n",
       "    </tr>\n",
       "  </tbody>\n",
       "</table>\n",
       "</div>"
      ],
      "text/plain": [
       "     Name Sex  Count  Year nyt_name   category\n",
       "0  Julius   M    960  2020   Julius  mythology\n",
       "1   Karen   M      6  2020    Karen     boomer\n",
       "2   Karen   F    325  2020    Karen     boomer"
      ]
     },
     "execution_count": 9,
     "metadata": {},
     "output_type": "execute_result"
    }
   ],
   "source": [
    "baby_small.merge(nyt_small,\n",
    "                 left_on='Name',        # column in left table to match\n",
    "                 right_on='nyt_name')   # column in right table to match"
   ]
  },
  {
   "attachments": {},
   "cell_type": "markdown",
   "metadata": {},
   "source": [
    "Notice that the new table has the columns of both the `baby_small` and `nyt_small`\n",
    "tables. The rows with the name `Noah` are gone. And the remaining rows have their\n",
    "matching `category` from `nyt_small`."
   ]
  },
  {
   "attachments": {},
   "cell_type": "markdown",
   "metadata": {},
   "source": [
    ":::{note}\n",
    "\n",
    "Readers should also be aware that `pandas` has a `.join()` method for joining two dataframes together. However, the `.merge()` method has more flexibility for how the dataframes are joined, which is why we focus on `.merge()`. We encourage readers to consult the `pandas` documentation for the exact difference between the two.\n",
    "\n",
    ":::"
   ]
  },
  {
   "attachments": {},
   "cell_type": "markdown",
   "metadata": {},
   "source": [
    "When we join two tables together, we tell `pandas` the column(s) from each\n",
    "table that we want to use to make the join (the `left_on` and `right_on` arguments).\n",
    "`pandas` matches rows together when the values in the joining columns match, as\n",
    "shown in {numref}`fig:inner-join`.\n",
    "\n",
    "```{figure} figures/inner-join.svg\n",
    "---\n",
    "name: fig:inner-join\n",
    "alt: inner-join\n",
    "---\n",
    "To join, `pandas` matches rows using the values in the `Name` and `nyt_name`\n",
    "columns, dropping rows that don't have matching values\n",
    "```"
   ]
  },
  {
   "attachments": {},
   "cell_type": "markdown",
   "metadata": {},
   "source": [
    "By default, `pandas` does an *inner join*. If either table has rows that don't\n",
    "have matches in the other table, `pandas` drops those rows from the result. In\n",
    "this case, the `Noah` rows in `baby_small` don't have matches in\n",
    "`nyt_small`, so they are dropped. Also, the `Freya` row in `nyt_small`\n",
    "doesn't have matches in `baby_small`, so it's dropped as well. Only the\n",
    "rows with a match in both tables stay in the final result."
   ]
  },
  {
   "attachments": {},
   "cell_type": "markdown",
   "metadata": {},
   "source": [
    "## Left, Right, and Outer Joins"
   ]
  },
  {
   "attachments": {},
   "cell_type": "markdown",
   "metadata": {},
   "source": [
    "We sometimes want to keep rows without a match instead of dropping them\n",
    "entirely. There are other types of joins---left, right, and outer---that keep\n",
    "rows even when they don't have a match.\n",
    "\n",
    "In a *left join*, rows in the left table without a match are kept in the final\n",
    "result, as shown in {numref}`fig:left-join`."
   ]
  },
  {
   "attachments": {},
   "cell_type": "markdown",
   "metadata": {},
   "source": [
    "```{figure} figures/left-join.svg\n",
    "---\n",
    "name: fig:left-join\n",
    "alt: left-join\n",
    "---\n",
    "In a left join, rows in the left table that don't have matching values are kept\n",
    "```"
   ]
  },
  {
   "attachments": {},
   "cell_type": "markdown",
   "metadata": {},
   "source": [
    "To do a left join in `pandas`, use `how='left'` in the call to `.merge()`:"
   ]
  },
  {
   "cell_type": "code",
   "execution_count": 10,
   "metadata": {},
   "outputs": [
    {
     "data": {
      "text/html": [
       "<div>\n",
       "<style scoped>\n",
       "    .dataframe tbody tr th:only-of-type {\n",
       "        vertical-align: middle;\n",
       "    }\n",
       "\n",
       "    .dataframe tbody tr th {\n",
       "        vertical-align: top;\n",
       "    }\n",
       "\n",
       "    .dataframe thead th {\n",
       "        text-align: right;\n",
       "    }\n",
       "</style>\n",
       "<table border=\"1\" class=\"dataframe\">\n",
       "  <thead>\n",
       "    <tr style=\"text-align: right;\">\n",
       "      <th></th>\n",
       "      <th>Name</th>\n",
       "      <th>Sex</th>\n",
       "      <th>Count</th>\n",
       "      <th>Year</th>\n",
       "      <th>nyt_name</th>\n",
       "      <th>category</th>\n",
       "    </tr>\n",
       "  </thead>\n",
       "  <tbody>\n",
       "    <tr>\n",
       "      <th>0</th>\n",
       "      <td>Noah</td>\n",
       "      <td>M</td>\n",
       "      <td>18252</td>\n",
       "      <td>2020</td>\n",
       "      <td>NaN</td>\n",
       "      <td>NaN</td>\n",
       "    </tr>\n",
       "    <tr>\n",
       "      <th>1</th>\n",
       "      <td>Julius</td>\n",
       "      <td>M</td>\n",
       "      <td>960</td>\n",
       "      <td>2020</td>\n",
       "      <td>Julius</td>\n",
       "      <td>mythology</td>\n",
       "    </tr>\n",
       "    <tr>\n",
       "      <th>2</th>\n",
       "      <td>Karen</td>\n",
       "      <td>M</td>\n",
       "      <td>6</td>\n",
       "      <td>2020</td>\n",
       "      <td>Karen</td>\n",
       "      <td>boomer</td>\n",
       "    </tr>\n",
       "    <tr>\n",
       "      <th>3</th>\n",
       "      <td>Karen</td>\n",
       "      <td>F</td>\n",
       "      <td>325</td>\n",
       "      <td>2020</td>\n",
       "      <td>Karen</td>\n",
       "      <td>boomer</td>\n",
       "    </tr>\n",
       "    <tr>\n",
       "      <th>4</th>\n",
       "      <td>Noah</td>\n",
       "      <td>F</td>\n",
       "      <td>305</td>\n",
       "      <td>2020</td>\n",
       "      <td>NaN</td>\n",
       "      <td>NaN</td>\n",
       "    </tr>\n",
       "  </tbody>\n",
       "</table>\n",
       "</div>"
      ],
      "text/plain": [
       "     Name Sex  Count  Year nyt_name   category\n",
       "0    Noah   M  18252  2020      NaN        NaN\n",
       "1  Julius   M    960  2020   Julius  mythology\n",
       "2   Karen   M      6  2020    Karen     boomer\n",
       "3   Karen   F    325  2020    Karen     boomer\n",
       "4    Noah   F    305  2020      NaN        NaN"
      ]
     },
     "execution_count": 10,
     "metadata": {},
     "output_type": "execute_result"
    }
   ],
   "source": [
    "baby_small.merge(nyt_small,\n",
    "                 left_on='Name',        \n",
    "                 right_on='nyt_name',\n",
    "                 how='left')           # left join instead of inner"
   ]
  },
  {
   "attachments": {},
   "cell_type": "markdown",
   "metadata": {},
   "source": [
    "Notice that the `Noah` rows are kept in the final table. Since those rows didn't\n",
    "have a match in the `nyt_small` dataframe, the join leaves `NaN` values in the\n",
    "`nyt_name` and `category` columns. Also, notice that the `Freya` row in\n",
    "`nyt_small` is still dropped.\n",
    "\n",
    "A *right join* works similarly to the left join, except that nonmatching rows\n",
    "in the right table are kept instead of the left table:"
   ]
  },
  {
   "cell_type": "code",
   "execution_count": 11,
   "metadata": {},
   "outputs": [
    {
     "data": {
      "text/html": [
       "<div>\n",
       "<style scoped>\n",
       "    .dataframe tbody tr th:only-of-type {\n",
       "        vertical-align: middle;\n",
       "    }\n",
       "\n",
       "    .dataframe tbody tr th {\n",
       "        vertical-align: top;\n",
       "    }\n",
       "\n",
       "    .dataframe thead th {\n",
       "        text-align: right;\n",
       "    }\n",
       "</style>\n",
       "<table border=\"1\" class=\"dataframe\">\n",
       "  <thead>\n",
       "    <tr style=\"text-align: right;\">\n",
       "      <th></th>\n",
       "      <th>Name</th>\n",
       "      <th>Sex</th>\n",
       "      <th>Count</th>\n",
       "      <th>Year</th>\n",
       "      <th>nyt_name</th>\n",
       "      <th>category</th>\n",
       "    </tr>\n",
       "  </thead>\n",
       "  <tbody>\n",
       "    <tr>\n",
       "      <th>0</th>\n",
       "      <td>Karen</td>\n",
       "      <td>M</td>\n",
       "      <td>6.0</td>\n",
       "      <td>2020.0</td>\n",
       "      <td>Karen</td>\n",
       "      <td>boomer</td>\n",
       "    </tr>\n",
       "    <tr>\n",
       "      <th>1</th>\n",
       "      <td>Karen</td>\n",
       "      <td>F</td>\n",
       "      <td>325.0</td>\n",
       "      <td>2020.0</td>\n",
       "      <td>Karen</td>\n",
       "      <td>boomer</td>\n",
       "    </tr>\n",
       "    <tr>\n",
       "      <th>2</th>\n",
       "      <td>Julius</td>\n",
       "      <td>M</td>\n",
       "      <td>960.0</td>\n",
       "      <td>2020.0</td>\n",
       "      <td>Julius</td>\n",
       "      <td>mythology</td>\n",
       "    </tr>\n",
       "    <tr>\n",
       "      <th>3</th>\n",
       "      <td>NaN</td>\n",
       "      <td>NaN</td>\n",
       "      <td>NaN</td>\n",
       "      <td>NaN</td>\n",
       "      <td>Freya</td>\n",
       "      <td>mythology</td>\n",
       "    </tr>\n",
       "  </tbody>\n",
       "</table>\n",
       "</div>"
      ],
      "text/plain": [
       "     Name  Sex  Count    Year nyt_name   category\n",
       "0   Karen    M    6.0  2020.0    Karen     boomer\n",
       "1   Karen    F  325.0  2020.0    Karen     boomer\n",
       "2  Julius    M  960.0  2020.0   Julius  mythology\n",
       "3     NaN  NaN    NaN     NaN    Freya  mythology"
      ]
     },
     "execution_count": 11,
     "metadata": {},
     "output_type": "execute_result"
    }
   ],
   "source": [
    "baby_small.merge(nyt_small,\n",
    "                 left_on='Name',        \n",
    "                 right_on='nyt_name',\n",
    "                 how='right')"
   ]
  },
  {
   "attachments": {},
   "cell_type": "markdown",
   "metadata": {},
   "source": [
    "Finally, an *outer join* keeps rows from both tables even when they don't have\n",
    "a match:"
   ]
  },
  {
   "cell_type": "code",
   "execution_count": 12,
   "metadata": {},
   "outputs": [
    {
     "data": {
      "text/html": [
       "<div>\n",
       "<style scoped>\n",
       "    .dataframe tbody tr th:only-of-type {\n",
       "        vertical-align: middle;\n",
       "    }\n",
       "\n",
       "    .dataframe tbody tr th {\n",
       "        vertical-align: top;\n",
       "    }\n",
       "\n",
       "    .dataframe thead th {\n",
       "        text-align: right;\n",
       "    }\n",
       "</style>\n",
       "<table border=\"1\" class=\"dataframe\">\n",
       "  <thead>\n",
       "    <tr style=\"text-align: right;\">\n",
       "      <th></th>\n",
       "      <th>Name</th>\n",
       "      <th>Sex</th>\n",
       "      <th>Count</th>\n",
       "      <th>Year</th>\n",
       "      <th>nyt_name</th>\n",
       "      <th>category</th>\n",
       "    </tr>\n",
       "  </thead>\n",
       "  <tbody>\n",
       "    <tr>\n",
       "      <th>0</th>\n",
       "      <td>Noah</td>\n",
       "      <td>M</td>\n",
       "      <td>18252.0</td>\n",
       "      <td>2020.0</td>\n",
       "      <td>NaN</td>\n",
       "      <td>NaN</td>\n",
       "    </tr>\n",
       "    <tr>\n",
       "      <th>1</th>\n",
       "      <td>Noah</td>\n",
       "      <td>F</td>\n",
       "      <td>305.0</td>\n",
       "      <td>2020.0</td>\n",
       "      <td>NaN</td>\n",
       "      <td>NaN</td>\n",
       "    </tr>\n",
       "    <tr>\n",
       "      <th>2</th>\n",
       "      <td>Julius</td>\n",
       "      <td>M</td>\n",
       "      <td>960.0</td>\n",
       "      <td>2020.0</td>\n",
       "      <td>Julius</td>\n",
       "      <td>mythology</td>\n",
       "    </tr>\n",
       "    <tr>\n",
       "      <th>3</th>\n",
       "      <td>Karen</td>\n",
       "      <td>M</td>\n",
       "      <td>6.0</td>\n",
       "      <td>2020.0</td>\n",
       "      <td>Karen</td>\n",
       "      <td>boomer</td>\n",
       "    </tr>\n",
       "    <tr>\n",
       "      <th>4</th>\n",
       "      <td>Karen</td>\n",
       "      <td>F</td>\n",
       "      <td>325.0</td>\n",
       "      <td>2020.0</td>\n",
       "      <td>Karen</td>\n",
       "      <td>boomer</td>\n",
       "    </tr>\n",
       "    <tr>\n",
       "      <th>5</th>\n",
       "      <td>NaN</td>\n",
       "      <td>NaN</td>\n",
       "      <td>NaN</td>\n",
       "      <td>NaN</td>\n",
       "      <td>Freya</td>\n",
       "      <td>mythology</td>\n",
       "    </tr>\n",
       "  </tbody>\n",
       "</table>\n",
       "</div>"
      ],
      "text/plain": [
       "     Name  Sex    Count    Year nyt_name   category\n",
       "0    Noah    M  18252.0  2020.0      NaN        NaN\n",
       "1    Noah    F    305.0  2020.0      NaN        NaN\n",
       "2  Julius    M    960.0  2020.0   Julius  mythology\n",
       "3   Karen    M      6.0  2020.0    Karen     boomer\n",
       "4   Karen    F    325.0  2020.0    Karen     boomer\n",
       "5     NaN  NaN      NaN     NaN    Freya  mythology"
      ]
     },
     "execution_count": 12,
     "metadata": {},
     "output_type": "execute_result"
    }
   ],
   "source": [
    "baby_small.merge(nyt_small,\n",
    "                 left_on='Name',        \n",
    "                 right_on='nyt_name',\n",
    "                 how='outer')"
   ]
  },
  {
   "attachments": {},
   "cell_type": "markdown",
   "metadata": {},
   "source": [
    "## Example: Popularity of NYT Name Categories"
   ]
  },
  {
   "attachments": {},
   "cell_type": "markdown",
   "metadata": {},
   "source": [
    "Now let's return to the full dataframes `baby` and `nyt`:"
   ]
  },
  {
   "cell_type": "code",
   "execution_count": 22,
   "metadata": {},
   "outputs": [
    {
     "data": {
      "text/html": [
       "<div>\n",
       "<style scoped>\n",
       "    .dataframe tbody tr th:only-of-type {\n",
       "        vertical-align: middle;\n",
       "    }\n",
       "\n",
       "    .dataframe tbody tr th {\n",
       "        vertical-align: top;\n",
       "    }\n",
       "\n",
       "    .dataframe thead th {\n",
       "        text-align: right;\n",
       "    }\n",
       "</style>\n",
       "<table border=\"1\" class=\"dataframe\">\n",
       "  <thead>\n",
       "    <tr style=\"text-align: right;\">\n",
       "      <th></th>\n",
       "      <th>Name</th>\n",
       "      <th>Sex</th>\n",
       "      <th>Count</th>\n",
       "      <th>Year</th>\n",
       "    </tr>\n",
       "  </thead>\n",
       "  <tbody>\n",
       "    <tr>\n",
       "      <th>0</th>\n",
       "      <td>Liam</td>\n",
       "      <td>M</td>\n",
       "      <td>19659</td>\n",
       "      <td>2020</td>\n",
       "    </tr>\n",
       "    <tr>\n",
       "      <th>1</th>\n",
       "      <td>Noah</td>\n",
       "      <td>M</td>\n",
       "      <td>18252</td>\n",
       "      <td>2020</td>\n",
       "    </tr>\n",
       "  </tbody>\n",
       "</table>\n",
       "</div>"
      ],
      "text/plain": [
       "   Name Sex  Count  Year\n",
       "0  Liam   M  19659  2020\n",
       "1  Noah   M  18252  2020"
      ]
     },
     "execution_count": 22,
     "metadata": {},
     "output_type": "execute_result"
    }
   ],
   "source": [
    "# .head() slices out the first few rows - convenient for saving space\n",
    "baby.head(2)"
   ]
  },
  {
   "cell_type": "code",
   "execution_count": 23,
   "metadata": {},
   "outputs": [
    {
     "data": {
      "text/html": [
       "<div>\n",
       "<style scoped>\n",
       "    .dataframe tbody tr th:only-of-type {\n",
       "        vertical-align: middle;\n",
       "    }\n",
       "\n",
       "    .dataframe tbody tr th {\n",
       "        vertical-align: top;\n",
       "    }\n",
       "\n",
       "    .dataframe thead th {\n",
       "        text-align: right;\n",
       "    }\n",
       "</style>\n",
       "<table border=\"1\" class=\"dataframe\">\n",
       "  <thead>\n",
       "    <tr style=\"text-align: right;\">\n",
       "      <th></th>\n",
       "      <th>nyt_name</th>\n",
       "      <th>category</th>\n",
       "    </tr>\n",
       "  </thead>\n",
       "  <tbody>\n",
       "    <tr>\n",
       "      <th>0</th>\n",
       "      <td>Lucifer</td>\n",
       "      <td>forbidden</td>\n",
       "    </tr>\n",
       "    <tr>\n",
       "      <th>1</th>\n",
       "      <td>Lilith</td>\n",
       "      <td>forbidden</td>\n",
       "    </tr>\n",
       "  </tbody>\n",
       "</table>\n",
       "</div>"
      ],
      "text/plain": [
       "  nyt_name   category\n",
       "0  Lucifer  forbidden\n",
       "1   Lilith  forbidden"
      ]
     },
     "execution_count": 23,
     "metadata": {},
     "output_type": "execute_result"
    }
   ],
   "source": [
    "nyt.head(2)"
   ]
  },
  {
   "attachments": {},
   "cell_type": "markdown",
   "metadata": {},
   "source": [
    "We want to know how the popularity of name categories in `nyt` has changed\n",
    "over time. To answer this question:\n",
    "\n",
    "1. Inner join `baby` with `nyt`.\n",
    "2. Group the table by `category` and `Year`.\n",
    "3. Aggregate the counts using a sum:"
   ]
  },
  {
   "cell_type": "code",
   "execution_count": 15,
   "metadata": {},
   "outputs": [
    {
     "data": {
      "text/html": [
       "<div>\n",
       "<style scoped>\n",
       "    .dataframe tbody tr th:only-of-type {\n",
       "        vertical-align: middle;\n",
       "    }\n",
       "\n",
       "    .dataframe tbody tr th {\n",
       "        vertical-align: top;\n",
       "    }\n",
       "\n",
       "    .dataframe thead th {\n",
       "        text-align: right;\n",
       "    }\n",
       "</style>\n",
       "<table border=\"1\" class=\"dataframe\">\n",
       "  <thead>\n",
       "    <tr style=\"text-align: right;\">\n",
       "      <th></th>\n",
       "      <th>category</th>\n",
       "      <th>Year</th>\n",
       "      <th>Count</th>\n",
       "    </tr>\n",
       "  </thead>\n",
       "  <tbody>\n",
       "    <tr>\n",
       "      <th>0</th>\n",
       "      <td>boomer</td>\n",
       "      <td>1880</td>\n",
       "      <td>292</td>\n",
       "    </tr>\n",
       "    <tr>\n",
       "      <th>1</th>\n",
       "      <td>boomer</td>\n",
       "      <td>1881</td>\n",
       "      <td>298</td>\n",
       "    </tr>\n",
       "    <tr>\n",
       "      <th>2</th>\n",
       "      <td>boomer</td>\n",
       "      <td>1882</td>\n",
       "      <td>326</td>\n",
       "    </tr>\n",
       "    <tr>\n",
       "      <th>...</th>\n",
       "      <td>...</td>\n",
       "      <td>...</td>\n",
       "      <td>...</td>\n",
       "    </tr>\n",
       "    <tr>\n",
       "      <th>647</th>\n",
       "      <td>mythology</td>\n",
       "      <td>2018</td>\n",
       "      <td>2944</td>\n",
       "    </tr>\n",
       "    <tr>\n",
       "      <th>648</th>\n",
       "      <td>mythology</td>\n",
       "      <td>2019</td>\n",
       "      <td>3320</td>\n",
       "    </tr>\n",
       "    <tr>\n",
       "      <th>649</th>\n",
       "      <td>mythology</td>\n",
       "      <td>2020</td>\n",
       "      <td>3489</td>\n",
       "    </tr>\n",
       "  </tbody>\n",
       "</table>\n",
       "<p>650 rows × 3 columns</p>\n",
       "</div>"
      ],
      "text/plain": [
       "      category  Year  Count\n",
       "0       boomer  1880    292\n",
       "1       boomer  1881    298\n",
       "2       boomer  1882    326\n",
       "..         ...   ...    ...\n",
       "647  mythology  2018   2944\n",
       "648  mythology  2019   3320\n",
       "649  mythology  2020   3489\n",
       "\n",
       "[650 rows x 3 columns]"
      ]
     },
     "execution_count": 15,
     "metadata": {},
     "output_type": "execute_result"
    }
   ],
   "source": [
    "cate_counts = (\n",
    "    baby.merge(nyt, left_on='Name', right_on='nyt_name') # [1]\n",
    "    .groupby(['category', 'Year'])                       # [2]\n",
    "    ['Count']                                            # [3]\n",
    "    .sum()                                               # [3]\n",
    "    .reset_index()\n",
    ")\n",
    "cate_counts"
   ]
  },
  {
   "attachments": {},
   "cell_type": "markdown",
   "metadata": {},
   "source": [
    "Now we can plot the popularity of `boomer` names and `mythology` names:"
   ]
  },
  {
   "cell_type": "code",
   "execution_count": 16,
   "metadata": {
    "tags": [
     "hide-input"
    ]
   },
   "outputs": [
    {
     "data": {
      "application/vnd.plotly.v1+json": {
       "config": {
        "plotlyServerURL": "https://plot.ly"
       },
       "data": [
        {
         "hovertemplate": "Year=%{x}<br>Count=%{y}<extra></extra>",
         "legendgroup": "",
         "line": {
          "color": "#1F77B4",
          "dash": "solid"
         },
         "marker": {
          "symbol": "circle"
         },
         "mode": "lines",
         "name": "",
         "orientation": "v",
         "showlegend": false,
         "type": "scatter",
         "x": [
          1880,
          1881,
          1882,
          1883,
          1884,
          1885,
          1886,
          1887,
          1888,
          1889,
          1890,
          1891,
          1892,
          1893,
          1894,
          1895,
          1896,
          1897,
          1898,
          1899,
          1900,
          1901,
          1902,
          1903,
          1904,
          1905,
          1906,
          1907,
          1908,
          1909,
          1910,
          1911,
          1912,
          1913,
          1914,
          1915,
          1916,
          1917,
          1918,
          1919,
          1920,
          1921,
          1922,
          1923,
          1924,
          1925,
          1926,
          1927,
          1928,
          1929,
          1930,
          1931,
          1932,
          1933,
          1934,
          1935,
          1936,
          1937,
          1938,
          1939,
          1940,
          1941,
          1942,
          1943,
          1944,
          1945,
          1946,
          1947,
          1948,
          1949,
          1950,
          1951,
          1952,
          1953,
          1954,
          1955,
          1956,
          1957,
          1958,
          1959,
          1960,
          1961,
          1962,
          1963,
          1964,
          1965,
          1966,
          1967,
          1968,
          1969,
          1970,
          1971,
          1972,
          1973,
          1974,
          1975,
          1976,
          1977,
          1978,
          1979,
          1980,
          1981,
          1982,
          1983,
          1984,
          1985,
          1986,
          1987,
          1988,
          1989,
          1990,
          1991,
          1992,
          1993,
          1994,
          1995,
          1996,
          1997,
          1998,
          1999,
          2000,
          2001,
          2002,
          2003,
          2004,
          2005,
          2006,
          2007,
          2008,
          2009,
          2010,
          2011,
          2012,
          2013,
          2014,
          2015,
          2016,
          2017,
          2018,
          2019,
          2020
         ],
         "xaxis": "x",
         "y": [
          292,
          298,
          326,
          322,
          335,
          312,
          342,
          344,
          375,
          372,
          377,
          383,
          384,
          368,
          379,
          402,
          364,
          351,
          396,
          367,
          435,
          363,
          342,
          322,
          351,
          353,
          357,
          392,
          376,
          406,
          430,
          500,
          599,
          582,
          760,
          937,
          983,
          981,
          1108,
          993,
          1127,
          1212,
          1293,
          1415,
          1730,
          2117,
          2670,
          3409,
          4069,
          5099,
          6560,
          7272,
          8405,
          8490,
          9889,
          10907,
          11850,
          12894,
          15839,
          17727,
          21194,
          26641,
          33988,
          38163,
          38090,
          40328,
          54227,
          60603,
          64629,
          66483,
          68552,
          75158,
          77941,
          82814,
          90056,
          93373,
          102104,
          106862,
          107522,
          103924,
          98577,
          92822,
          89641,
          82415,
          75536,
          70115,
          58359,
          51549,
          45924,
          41996,
          38652,
          33953,
          26728,
          22953,
          21164,
          19405,
          17419,
          16689,
          14932,
          14116,
          13127,
          12021,
          11290,
          9973,
          9226,
          8299,
          7662,
          7075,
          6671,
          6695,
          6421,
          5870,
          5761,
          5469,
          4860,
          4390,
          4464,
          4088,
          3785,
          3719,
          3697,
          3582,
          3561,
          3544,
          3359,
          3102,
          3149,
          3231,
          2811,
          2316,
          2156,
          1840,
          1597,
          1437,
          1313,
          1282,
          1265,
          1166,
          1000,
          966,
          866
         ],
         "yaxis": "y"
        },
        {
         "hovertemplate": "Year=%{x}<br>Count=%{y}<extra></extra>",
         "legendgroup": "",
         "line": {
          "color": "#1F77B4",
          "dash": "solid"
         },
         "marker": {
          "symbol": "circle"
         },
         "mode": "lines",
         "name": "",
         "orientation": "v",
         "showlegend": false,
         "type": "scatter",
         "x": [
          1880,
          1881,
          1882,
          1883,
          1884,
          1885,
          1886,
          1887,
          1888,
          1889,
          1890,
          1891,
          1892,
          1893,
          1894,
          1895,
          1896,
          1897,
          1898,
          1899,
          1900,
          1901,
          1902,
          1903,
          1904,
          1905,
          1906,
          1907,
          1908,
          1909,
          1910,
          1911,
          1912,
          1913,
          1914,
          1915,
          1916,
          1917,
          1918,
          1919,
          1920,
          1921,
          1922,
          1923,
          1924,
          1925,
          1926,
          1927,
          1928,
          1929,
          1930,
          1931,
          1932,
          1933,
          1934,
          1935,
          1936,
          1937,
          1938,
          1939,
          1940,
          1941,
          1942,
          1943,
          1944,
          1945,
          1946,
          1947,
          1948,
          1949,
          1950,
          1951,
          1952,
          1953,
          1954,
          1955,
          1956,
          1957,
          1958,
          1959,
          1960,
          1961,
          1962,
          1963,
          1964,
          1965,
          1966,
          1967,
          1968,
          1969,
          1970,
          1971,
          1972,
          1973,
          1974,
          1975,
          1976,
          1977,
          1978,
          1979,
          1980,
          1981,
          1982,
          1983,
          1984,
          1985,
          1986,
          1987,
          1988,
          1989,
          1990,
          1991,
          1992,
          1993,
          1994,
          1995,
          1996,
          1997,
          1998,
          1999,
          2000,
          2001,
          2002,
          2003,
          2004,
          2005,
          2006,
          2007,
          2008,
          2009,
          2010,
          2011,
          2012,
          2013,
          2014,
          2015,
          2016,
          2017,
          2018,
          2019,
          2020
         ],
         "xaxis": "x2",
         "y": [
          160,
          138,
          180,
          170,
          168,
          157,
          173,
          169,
          212,
          165,
          166,
          161,
          198,
          203,
          178,
          171,
          174,
          159,
          181,
          161,
          206,
          168,
          159,
          173,
          189,
          190,
          190,
          231,
          268,
          269,
          355,
          368,
          766,
          846,
          1064,
          1379,
          1383,
          1408,
          1438,
          1331,
          1339,
          1346,
          1297,
          1211,
          1144,
          1104,
          1058,
          935,
          881,
          863,
          831,
          733,
          723,
          559,
          584,
          574,
          548,
          570,
          560,
          545,
          601,
          596,
          601,
          639,
          570,
          497,
          565,
          624,
          568,
          565,
          524,
          524,
          489,
          566,
          607,
          621,
          525,
          606,
          507,
          525,
          514,
          448,
          450,
          510,
          511,
          467,
          440,
          410,
          392,
          404,
          406,
          424,
          386,
          370,
          386,
          366,
          387,
          486,
          493,
          529,
          563,
          578,
          593,
          622,
          569,
          546,
          508,
          569,
          575,
          596,
          666,
          625,
          606,
          508,
          476,
          522,
          532,
          584,
          573,
          589,
          663,
          816,
          867,
          899,
          973,
          1124,
          1377,
          1514,
          1561,
          1457,
          1404,
          1441,
          1466,
          1669,
          2146,
          2484,
          2671,
          2797,
          2944,
          3320,
          3489
         ],
         "yaxis": "y2"
        }
       ],
       "layout": {
        "annotations": [
         {
          "font": {
           "size": 16
          },
          "showarrow": false,
          "text": "Boomer Names",
          "x": 0.225,
          "xanchor": "center",
          "xref": "paper",
          "y": 1,
          "yanchor": "bottom",
          "yref": "paper"
         },
         {
          "font": {
           "size": 16
          },
          "showarrow": false,
          "text": "Mythological Names",
          "x": 0.775,
          "xanchor": "center",
          "xref": "paper",
          "y": 1,
          "yanchor": "bottom",
          "yref": "paper"
         }
        ],
        "height": 200,
        "margin": {
         "t": 30
        },
        "template": {
         "data": {
          "bar": [
           {
            "error_x": {
             "color": "rgb(36,36,36)"
            },
            "error_y": {
             "color": "rgb(36,36,36)"
            },
            "marker": {
             "line": {
              "color": "white",
              "width": 0.5
             },
             "pattern": {
              "fillmode": "overlay",
              "size": 10,
              "solidity": 0.2
             }
            },
            "type": "bar"
           }
          ],
          "barpolar": [
           {
            "marker": {
             "line": {
              "color": "white",
              "width": 0.5
             },
             "pattern": {
              "fillmode": "overlay",
              "size": 10,
              "solidity": 0.2
             }
            },
            "type": "barpolar"
           }
          ],
          "carpet": [
           {
            "aaxis": {
             "endlinecolor": "rgb(36,36,36)",
             "gridcolor": "white",
             "linecolor": "white",
             "minorgridcolor": "white",
             "startlinecolor": "rgb(36,36,36)"
            },
            "baxis": {
             "endlinecolor": "rgb(36,36,36)",
             "gridcolor": "white",
             "linecolor": "white",
             "minorgridcolor": "white",
             "startlinecolor": "rgb(36,36,36)"
            },
            "type": "carpet"
           }
          ],
          "choropleth": [
           {
            "colorbar": {
             "outlinewidth": 1,
             "tickcolor": "rgb(36,36,36)",
             "ticks": "outside"
            },
            "type": "choropleth"
           }
          ],
          "contour": [
           {
            "colorbar": {
             "outlinewidth": 1,
             "tickcolor": "rgb(36,36,36)",
             "ticks": "outside"
            },
            "colorscale": [
             [
              0,
              "#440154"
             ],
             [
              0.1111111111111111,
              "#482878"
             ],
             [
              0.2222222222222222,
              "#3e4989"
             ],
             [
              0.3333333333333333,
              "#31688e"
             ],
             [
              0.4444444444444444,
              "#26828e"
             ],
             [
              0.5555555555555556,
              "#1f9e89"
             ],
             [
              0.6666666666666666,
              "#35b779"
             ],
             [
              0.7777777777777778,
              "#6ece58"
             ],
             [
              0.8888888888888888,
              "#b5de2b"
             ],
             [
              1,
              "#fde725"
             ]
            ],
            "type": "contour"
           }
          ],
          "contourcarpet": [
           {
            "colorbar": {
             "outlinewidth": 1,
             "tickcolor": "rgb(36,36,36)",
             "ticks": "outside"
            },
            "type": "contourcarpet"
           }
          ],
          "heatmap": [
           {
            "colorbar": {
             "outlinewidth": 1,
             "tickcolor": "rgb(36,36,36)",
             "ticks": "outside"
            },
            "colorscale": [
             [
              0,
              "#440154"
             ],
             [
              0.1111111111111111,
              "#482878"
             ],
             [
              0.2222222222222222,
              "#3e4989"
             ],
             [
              0.3333333333333333,
              "#31688e"
             ],
             [
              0.4444444444444444,
              "#26828e"
             ],
             [
              0.5555555555555556,
              "#1f9e89"
             ],
             [
              0.6666666666666666,
              "#35b779"
             ],
             [
              0.7777777777777778,
              "#6ece58"
             ],
             [
              0.8888888888888888,
              "#b5de2b"
             ],
             [
              1,
              "#fde725"
             ]
            ],
            "type": "heatmap"
           }
          ],
          "heatmapgl": [
           {
            "colorbar": {
             "outlinewidth": 1,
             "tickcolor": "rgb(36,36,36)",
             "ticks": "outside"
            },
            "colorscale": [
             [
              0,
              "#440154"
             ],
             [
              0.1111111111111111,
              "#482878"
             ],
             [
              0.2222222222222222,
              "#3e4989"
             ],
             [
              0.3333333333333333,
              "#31688e"
             ],
             [
              0.4444444444444444,
              "#26828e"
             ],
             [
              0.5555555555555556,
              "#1f9e89"
             ],
             [
              0.6666666666666666,
              "#35b779"
             ],
             [
              0.7777777777777778,
              "#6ece58"
             ],
             [
              0.8888888888888888,
              "#b5de2b"
             ],
             [
              1,
              "#fde725"
             ]
            ],
            "type": "heatmapgl"
           }
          ],
          "histogram": [
           {
            "marker": {
             "line": {
              "color": "white",
              "width": 0.6
             }
            },
            "type": "histogram"
           }
          ],
          "histogram2d": [
           {
            "colorbar": {
             "outlinewidth": 1,
             "tickcolor": "rgb(36,36,36)",
             "ticks": "outside"
            },
            "colorscale": [
             [
              0,
              "#440154"
             ],
             [
              0.1111111111111111,
              "#482878"
             ],
             [
              0.2222222222222222,
              "#3e4989"
             ],
             [
              0.3333333333333333,
              "#31688e"
             ],
             [
              0.4444444444444444,
              "#26828e"
             ],
             [
              0.5555555555555556,
              "#1f9e89"
             ],
             [
              0.6666666666666666,
              "#35b779"
             ],
             [
              0.7777777777777778,
              "#6ece58"
             ],
             [
              0.8888888888888888,
              "#b5de2b"
             ],
             [
              1,
              "#fde725"
             ]
            ],
            "type": "histogram2d"
           }
          ],
          "histogram2dcontour": [
           {
            "colorbar": {
             "outlinewidth": 1,
             "tickcolor": "rgb(36,36,36)",
             "ticks": "outside"
            },
            "colorscale": [
             [
              0,
              "#440154"
             ],
             [
              0.1111111111111111,
              "#482878"
             ],
             [
              0.2222222222222222,
              "#3e4989"
             ],
             [
              0.3333333333333333,
              "#31688e"
             ],
             [
              0.4444444444444444,
              "#26828e"
             ],
             [
              0.5555555555555556,
              "#1f9e89"
             ],
             [
              0.6666666666666666,
              "#35b779"
             ],
             [
              0.7777777777777778,
              "#6ece58"
             ],
             [
              0.8888888888888888,
              "#b5de2b"
             ],
             [
              1,
              "#fde725"
             ]
            ],
            "type": "histogram2dcontour"
           }
          ],
          "mesh3d": [
           {
            "colorbar": {
             "outlinewidth": 1,
             "tickcolor": "rgb(36,36,36)",
             "ticks": "outside"
            },
            "type": "mesh3d"
           }
          ],
          "parcoords": [
           {
            "line": {
             "colorbar": {
              "outlinewidth": 1,
              "tickcolor": "rgb(36,36,36)",
              "ticks": "outside"
             }
            },
            "type": "parcoords"
           }
          ],
          "pie": [
           {
            "automargin": true,
            "type": "pie"
           }
          ],
          "scatter": [
           {
            "marker": {
             "colorbar": {
              "outlinewidth": 1,
              "tickcolor": "rgb(36,36,36)",
              "ticks": "outside"
             }
            },
            "type": "scatter"
           }
          ],
          "scatter3d": [
           {
            "line": {
             "colorbar": {
              "outlinewidth": 1,
              "tickcolor": "rgb(36,36,36)",
              "ticks": "outside"
             }
            },
            "marker": {
             "colorbar": {
              "outlinewidth": 1,
              "tickcolor": "rgb(36,36,36)",
              "ticks": "outside"
             }
            },
            "type": "scatter3d"
           }
          ],
          "scattercarpet": [
           {
            "marker": {
             "colorbar": {
              "outlinewidth": 1,
              "tickcolor": "rgb(36,36,36)",
              "ticks": "outside"
             }
            },
            "type": "scattercarpet"
           }
          ],
          "scattergeo": [
           {
            "marker": {
             "colorbar": {
              "outlinewidth": 1,
              "tickcolor": "rgb(36,36,36)",
              "ticks": "outside"
             }
            },
            "type": "scattergeo"
           }
          ],
          "scattergl": [
           {
            "marker": {
             "colorbar": {
              "outlinewidth": 1,
              "tickcolor": "rgb(36,36,36)",
              "ticks": "outside"
             }
            },
            "type": "scattergl"
           }
          ],
          "scattermapbox": [
           {
            "marker": {
             "colorbar": {
              "outlinewidth": 1,
              "tickcolor": "rgb(36,36,36)",
              "ticks": "outside"
             }
            },
            "type": "scattermapbox"
           }
          ],
          "scatterpolar": [
           {
            "marker": {
             "colorbar": {
              "outlinewidth": 1,
              "tickcolor": "rgb(36,36,36)",
              "ticks": "outside"
             }
            },
            "type": "scatterpolar"
           }
          ],
          "scatterpolargl": [
           {
            "marker": {
             "colorbar": {
              "outlinewidth": 1,
              "tickcolor": "rgb(36,36,36)",
              "ticks": "outside"
             }
            },
            "type": "scatterpolargl"
           }
          ],
          "scatterternary": [
           {
            "marker": {
             "colorbar": {
              "outlinewidth": 1,
              "tickcolor": "rgb(36,36,36)",
              "ticks": "outside"
             }
            },
            "type": "scatterternary"
           }
          ],
          "surface": [
           {
            "colorbar": {
             "outlinewidth": 1,
             "tickcolor": "rgb(36,36,36)",
             "ticks": "outside"
            },
            "colorscale": [
             [
              0,
              "#440154"
             ],
             [
              0.1111111111111111,
              "#482878"
             ],
             [
              0.2222222222222222,
              "#3e4989"
             ],
             [
              0.3333333333333333,
              "#31688e"
             ],
             [
              0.4444444444444444,
              "#26828e"
             ],
             [
              0.5555555555555556,
              "#1f9e89"
             ],
             [
              0.6666666666666666,
              "#35b779"
             ],
             [
              0.7777777777777778,
              "#6ece58"
             ],
             [
              0.8888888888888888,
              "#b5de2b"
             ],
             [
              1,
              "#fde725"
             ]
            ],
            "type": "surface"
           }
          ],
          "table": [
           {
            "cells": {
             "fill": {
              "color": "rgb(237,237,237)"
             },
             "line": {
              "color": "white"
             }
            },
            "header": {
             "fill": {
              "color": "rgb(217,217,217)"
             },
             "line": {
              "color": "white"
             }
            },
            "type": "table"
           }
          ]
         },
         "layout": {
          "annotationdefaults": {
           "arrowhead": 0,
           "arrowwidth": 1
          },
          "autosize": true,
          "autotypenumbers": "strict",
          "coloraxis": {
           "colorbar": {
            "outlinewidth": 1,
            "tickcolor": "rgb(36,36,36)",
            "ticks": "outside"
           }
          },
          "colorscale": {
           "diverging": [
            [
             0,
             "rgb(103,0,31)"
            ],
            [
             0.1,
             "rgb(178,24,43)"
            ],
            [
             0.2,
             "rgb(214,96,77)"
            ],
            [
             0.3,
             "rgb(244,165,130)"
            ],
            [
             0.4,
             "rgb(253,219,199)"
            ],
            [
             0.5,
             "rgb(247,247,247)"
            ],
            [
             0.6,
             "rgb(209,229,240)"
            ],
            [
             0.7,
             "rgb(146,197,222)"
            ],
            [
             0.8,
             "rgb(67,147,195)"
            ],
            [
             0.9,
             "rgb(33,102,172)"
            ],
            [
             1,
             "rgb(5,48,97)"
            ]
           ],
           "sequential": [
            [
             0,
             "#440154"
            ],
            [
             0.1111111111111111,
             "#482878"
            ],
            [
             0.2222222222222222,
             "#3e4989"
            ],
            [
             0.3333333333333333,
             "#31688e"
            ],
            [
             0.4444444444444444,
             "#26828e"
            ],
            [
             0.5555555555555556,
             "#1f9e89"
            ],
            [
             0.6666666666666666,
             "#35b779"
            ],
            [
             0.7777777777777778,
             "#6ece58"
            ],
            [
             0.8888888888888888,
             "#b5de2b"
            ],
            [
             1,
             "#fde725"
            ]
           ],
           "sequentialminus": [
            [
             0,
             "#440154"
            ],
            [
             0.1111111111111111,
             "#482878"
            ],
            [
             0.2222222222222222,
             "#3e4989"
            ],
            [
             0.3333333333333333,
             "#31688e"
            ],
            [
             0.4444444444444444,
             "#26828e"
            ],
            [
             0.5555555555555556,
             "#1f9e89"
            ],
            [
             0.6666666666666666,
             "#35b779"
            ],
            [
             0.7777777777777778,
             "#6ece58"
            ],
            [
             0.8888888888888888,
             "#b5de2b"
            ],
            [
             1,
             "#fde725"
            ]
           ]
          },
          "colorway": [
           "#1F77B4",
           "#FF7F0E",
           "#2CA02C",
           "#D62728",
           "#9467BD",
           "#8C564B",
           "#E377C2",
           "#7F7F7F",
           "#BCBD22",
           "#17BECF"
          ],
          "font": {
           "color": "rgb(36,36,36)"
          },
          "geo": {
           "bgcolor": "white",
           "lakecolor": "white",
           "landcolor": "white",
           "showlakes": true,
           "showland": true,
           "subunitcolor": "white"
          },
          "height": 250,
          "hoverlabel": {
           "align": "left"
          },
          "hovermode": "closest",
          "mapbox": {
           "style": "light"
          },
          "margin": {
           "b": 10,
           "l": 10,
           "r": 10,
           "t": 10
          },
          "paper_bgcolor": "white",
          "plot_bgcolor": "white",
          "polar": {
           "angularaxis": {
            "gridcolor": "rgb(232,232,232)",
            "linecolor": "rgb(36,36,36)",
            "showgrid": false,
            "showline": true,
            "ticks": "outside"
           },
           "bgcolor": "white",
           "radialaxis": {
            "gridcolor": "rgb(232,232,232)",
            "linecolor": "rgb(36,36,36)",
            "showgrid": false,
            "showline": true,
            "ticks": "outside"
           }
          },
          "scene": {
           "xaxis": {
            "backgroundcolor": "white",
            "gridcolor": "rgb(232,232,232)",
            "gridwidth": 2,
            "linecolor": "rgb(36,36,36)",
            "showbackground": true,
            "showgrid": false,
            "showline": true,
            "ticks": "outside",
            "zeroline": false,
            "zerolinecolor": "rgb(36,36,36)"
           },
           "yaxis": {
            "backgroundcolor": "white",
            "gridcolor": "rgb(232,232,232)",
            "gridwidth": 2,
            "linecolor": "rgb(36,36,36)",
            "showbackground": true,
            "showgrid": false,
            "showline": true,
            "ticks": "outside",
            "zeroline": false,
            "zerolinecolor": "rgb(36,36,36)"
           },
           "zaxis": {
            "backgroundcolor": "white",
            "gridcolor": "rgb(232,232,232)",
            "gridwidth": 2,
            "linecolor": "rgb(36,36,36)",
            "showbackground": true,
            "showgrid": false,
            "showline": true,
            "ticks": "outside",
            "zeroline": false,
            "zerolinecolor": "rgb(36,36,36)"
           }
          },
          "shapedefaults": {
           "fillcolor": "black",
           "line": {
            "width": 0
           },
           "opacity": 0.3
          },
          "ternary": {
           "aaxis": {
            "gridcolor": "rgb(232,232,232)",
            "linecolor": "rgb(36,36,36)",
            "showgrid": false,
            "showline": true,
            "ticks": "outside"
           },
           "baxis": {
            "gridcolor": "rgb(232,232,232)",
            "linecolor": "rgb(36,36,36)",
            "showgrid": false,
            "showline": true,
            "ticks": "outside"
           },
           "bgcolor": "white",
           "caxis": {
            "gridcolor": "rgb(232,232,232)",
            "linecolor": "rgb(36,36,36)",
            "showgrid": false,
            "showline": true,
            "ticks": "outside"
           }
          },
          "title": {
           "x": 0.5,
           "xanchor": "center"
          },
          "width": 350,
          "xaxis": {
           "automargin": true,
           "gridcolor": "rgb(232,232,232)",
           "linecolor": "rgb(36,36,36)",
           "showgrid": true,
           "showline": true,
           "ticks": "outside",
           "title": {
            "standoff": 15
           },
           "zeroline": false,
           "zerolinecolor": "rgb(36,36,36)"
          },
          "yaxis": {
           "automargin": true,
           "gridcolor": "rgb(232,232,232)",
           "linecolor": "rgb(36,36,36)",
           "showgrid": true,
           "showline": true,
           "ticks": "outside",
           "title": {
            "standoff": 15
           },
           "zeroline": false,
           "zerolinecolor": "rgb(36,36,36)"
          }
         }
        },
        "width": 500,
        "xaxis": {
         "anchor": "y",
         "autorange": true,
         "domain": [
          0,
          0.45
         ],
         "range": [
          1880,
          2020
         ],
         "type": "linear"
        },
        "xaxis2": {
         "anchor": "y2",
         "autorange": true,
         "domain": [
          0.55,
          1
         ],
         "range": [
          1880,
          2020
         ],
         "type": "linear"
        },
        "yaxis": {
         "anchor": "x",
         "autorange": true,
         "domain": [
          0,
          1
         ],
         "range": [
          -5665.222222222223,
          113479.22222222222
         ],
         "type": "linear"
        },
        "yaxis2": {
         "anchor": "x2",
         "autorange": true,
         "domain": [
          0,
          1
         ],
         "range": [
          -48.166666666666686,
          3675.1666666666665
         ],
         "type": "linear"
        }
       }
      },
      "image/png": "[encoded data removed]",
      "image/svg+xml": [
       "<svg class=\"main-svg\" xmlns=\"http://www.w3.org/2000/svg\" xmlns:xlink=\"http://www.w3.org/1999/xlink\" width=\"500\" height=\"200\" style=\"\" viewBox=\"0 0 500 200\"><rect x=\"0\" y=\"0\" width=\"500\" height=\"200\" style=\"fill: rgb(255, 255, 255); fill-opacity: 1;\"/><defs id=\"defs-a52900\"><g class=\"clips\"><clipPath id=\"clipa52900xyplot\" class=\"plotclip\"><rect width=\"198.9\" height=\"137\"/></clipPath><clipPath id=\"clipa52900x2y2plot\" class=\"plotclip\"><rect width=\"198.89999999999998\" height=\"137\"/></clipPath><clipPath class=\"axesclip\" id=\"clipa52900x\"><rect x=\"48\" y=\"0\" width=\"198.9\" height=\"200\"/></clipPath><clipPath class=\"axesclip\" id=\"clipa52900y\"><rect x=\"0\" y=\"30\" width=\"500\" height=\"137\"/></clipPath><clipPath class=\"axesclip\" id=\"clipa52900xy\"><rect x=\"48\" y=\"30\" width=\"198.9\" height=\"137\"/></clipPath><clipPath class=\"axesclip\" id=\"clipa52900y2\"><rect x=\"0\" y=\"30\" width=\"500\" height=\"137\"/></clipPath><clipPath class=\"axesclip\" id=\"clipa52900xy2\"><rect x=\"48\" y=\"30\" width=\"198.9\" height=\"137\"/></clipPath><clipPath class=\"axesclip\" id=\"clipa52900x2\"><rect x=\"291.1\" y=\"0\" width=\"198.89999999999998\" height=\"200\"/></clipPath><clipPath class=\"axesclip\" id=\"clipa52900x2y\"><rect x=\"291.1\" y=\"30\" width=\"198.89999999999998\" height=\"137\"/></clipPath><clipPath class=\"axesclip\" id=\"clipa52900x2y2\"><rect x=\"291.1\" y=\"30\" width=\"198.89999999999998\" height=\"137\"/></clipPath></g><g class=\"gradients\"/><g class=\"patterns\"/></defs><g class=\"bglayer\"/><g class=\"layer-below\"><g class=\"imagelayer\"/><g class=\"shapelayer\"/></g><g class=\"cartesianlayer\"><g class=\"subplot xy\"><g class=\"layer-subplot\"><g class=\"shapelayer\"/><g class=\"imagelayer\"/></g><g class=\"gridlayer\"><g class=\"x\"><path class=\"xgrid crisp\" transform=\"translate(76.41,0)\" d=\"M0,30v137\" style=\"stroke: rgb(232, 232, 232); stroke-opacity: 1; stroke-width: 1px;\"/><path class=\"xgrid crisp\" transform=\"translate(147.45,0)\" d=\"M0,30v137\" style=\"stroke: rgb(232, 232, 232); stroke-opacity: 1; stroke-width: 1px;\"/><path class=\"xgrid crisp\" transform=\"translate(218.49,0)\" d=\"M0,30v137\" style=\"stroke: rgb(232, 232, 232); stroke-opacity: 1; stroke-width: 1px;\"/></g><g class=\"y\"><path class=\"ygrid crisp\" transform=\"translate(0,160.49)\" d=\"M48,0h198.9\" style=\"stroke: rgb(232, 232, 232); stroke-opacity: 1; stroke-width: 1px;\"/><path class=\"ygrid crisp\" transform=\"translate(0,102.99)\" d=\"M48,0h198.9\" style=\"stroke: rgb(232, 232, 232); stroke-opacity: 1; stroke-width: 1px;\"/><path class=\"ygrid crisp\" transform=\"translate(0,45.5)\" d=\"M48,0h198.9\" style=\"stroke: rgb(232, 232, 232); stroke-opacity: 1; stroke-width: 1px;\"/></g></g><g class=\"zerolinelayer\"/><path class=\"xlines-below\"/><path class=\"ylines-below\"/><g class=\"overlines-below\"/><g class=\"xaxislayer-below\"/><g class=\"yaxislayer-below\"/><g class=\"overaxes-below\"/><g class=\"plot\" transform=\"translate(48,30)\" clip-path=\"url(#clipa52900xyplot)\"><g class=\"scatterlayer mlayer\"><g class=\"trace scatter traceb07476\" style=\"stroke-miterlimit: 2; opacity: 1;\"><g class=\"fills\"/><g class=\"errorbars\"/><g class=\"lines\"><path class=\"js-line\" d=\"M0,130.15L52.57,129.36L53.99,129.21L59.67,129L61.09,128.86L65.35,127.42L66.77,126.57L69.61,124.62L71.04,122.94L76.72,119.11L78.14,117.94L80.98,115.66L82.4,112.27L83.82,110.1L85.24,106.12L89.5,86.6L90.93,86.69L92.35,84.11L93.77,68.13L96.61,56.17L98.03,54.04L99.45,51.66L100.87,44.06L102.29,40.86L103.71,35.26L105.13,26.93L106.55,23.12L109.39,7.61L110.82,6.85L113.66,17.14L115.08,23.75L116.5,27.41L117.92,35.72L120.76,49.86L122.18,63.38L125.02,77.68L126.44,82.2L129.28,91.44L130.71,99.75L133.55,106.15L134.97,108.17L136.39,110.46L137.81,111.3L140.65,114.25L142.07,115.39L149.17,120.94L150.6,121.68L153.44,122.82L154.86,122.79L161.96,124.9L163.38,125.44L166.22,125.79L167.64,126.13L181.85,127.25L183.27,127.82L198.9,129.49\" style=\"vector-effect: non-scaling-stroke; fill: none; stroke: rgb(31, 119, 180); stroke-opacity: 1; stroke-width: 2px; opacity: 1;\"/></g><g class=\"points\"/><g class=\"text\"/></g></g></g><g class=\"overplot\"/><path class=\"xlines-above crisp\" d=\"M47,167.5H246.9\" style=\"fill: none; stroke-width: 1px; stroke: rgb(36, 36, 36); stroke-opacity: 1;\"/><path class=\"ylines-above crisp\" d=\"M47.5,30V167\" style=\"fill: none; stroke-width: 1px; stroke: rgb(36, 36, 36); stroke-opacity: 1;\"/><g class=\"overlines-above\"/><g class=\"xaxislayer-above\"><path class=\"xtick ticks crisp\" d=\"M0,168v5\" transform=\"translate(76.41,0)\" style=\"stroke: rgb(68, 68, 68); stroke-opacity: 1; stroke-width: 1px;\"/><path class=\"xtick ticks crisp\" d=\"M0,168v5\" transform=\"translate(147.45,0)\" style=\"stroke: rgb(68, 68, 68); stroke-opacity: 1; stroke-width: 1px;\"/><path class=\"xtick ticks crisp\" d=\"M0,168v5\" transform=\"translate(218.49,0)\" style=\"stroke: rgb(68, 68, 68); stroke-opacity: 1; stroke-width: 1px;\"/><g class=\"xtick\"><text text-anchor=\"middle\" x=\"0\" y=\"187.4\" transform=\"translate(76.41,0)\" style=\"font-family: 'Open Sans', verdana, arial, sans-serif; font-size: 12px; fill: rgb(36, 36, 36); fill-opacity: 1; white-space: pre; opacity: 1;\">1900</text></g><g class=\"xtick\"><text text-anchor=\"middle\" x=\"0\" y=\"187.4\" style=\"font-family: 'Open Sans', verdana, arial, sans-serif; font-size: 12px; fill: rgb(36, 36, 36); fill-opacity: 1; white-space: pre; opacity: 1;\" transform=\"translate(147.45,0)\">1950</text></g><g class=\"xtick\"><text text-anchor=\"middle\" x=\"0\" y=\"187.4\" style=\"font-family: 'Open Sans', verdana, arial, sans-serif; font-size: 12px; fill: rgb(36, 36, 36); fill-opacity: 1; white-space: pre; opacity: 1;\" transform=\"translate(218.49,0)\">2000</text></g></g><g class=\"yaxislayer-above\"><path class=\"ytick ticks crisp\" d=\"M47,0h-5\" transform=\"translate(0,160.49)\" style=\"stroke: rgb(68, 68, 68); stroke-opacity: 1; stroke-width: 1px;\"/><path class=\"ytick ticks crisp\" d=\"M47,0h-5\" transform=\"translate(0,102.99)\" style=\"stroke: rgb(68, 68, 68); stroke-opacity: 1; stroke-width: 1px;\"/><path class=\"ytick ticks crisp\" d=\"M47,0h-5\" transform=\"translate(0,45.5)\" style=\"stroke: rgb(68, 68, 68); stroke-opacity: 1; stroke-width: 1px;\"/><g class=\"ytick\"><text text-anchor=\"end\" x=\"39.6\" y=\"4.199999999999999\" transform=\"translate(0,160.49)\" style=\"font-family: 'Open Sans', verdana, arial, sans-serif; font-size: 12px; fill: rgb(36, 36, 36); fill-opacity: 1; white-space: pre; opacity: 1;\">0</text></g><g class=\"ytick\"><text text-anchor=\"end\" x=\"39.6\" y=\"4.199999999999999\" style=\"font-family: 'Open Sans', verdana, arial, sans-serif; font-size: 12px; fill: rgb(36, 36, 36); fill-opacity: 1; white-space: pre; opacity: 1;\" transform=\"translate(0,102.99)\">50k</text></g><g class=\"ytick\"><text text-anchor=\"end\" x=\"39.6\" y=\"4.199999999999999\" style=\"font-family: 'Open Sans', verdana, arial, sans-serif; font-size: 12px; fill: rgb(36, 36, 36); fill-opacity: 1; white-space: pre; opacity: 1;\" transform=\"translate(0,45.5)\">100k</text></g></g><g class=\"overaxes-above\"/></g><g class=\"subplot x2y2\"><g class=\"layer-subplot\"><g class=\"shapelayer\"/><g class=\"imagelayer\"/></g><g class=\"gridlayer\"><g class=\"x2\"><path class=\"x2grid crisp\" transform=\"translate(319.51000000000005,0)\" d=\"M0,30v137\" style=\"stroke: rgb(232, 232, 232); stroke-opacity: 1; stroke-width: 1px;\"/><path class=\"x2grid crisp\" transform=\"translate(390.55,0)\" d=\"M0,30v137\" style=\"stroke: rgb(232, 232, 232); stroke-opacity: 1; stroke-width: 1px;\"/><path class=\"x2grid crisp\" transform=\"translate(461.59000000000003,0)\" d=\"M0,30v137\" style=\"stroke: rgb(232, 232, 232); stroke-opacity: 1; stroke-width: 1px;\"/></g><g class=\"y2\"><path class=\"y2grid crisp\" transform=\"translate(0,165.23)\" d=\"M291.1,0h198.89999999999998\" style=\"stroke: rgb(232, 232, 232); stroke-opacity: 1; stroke-width: 1px;\"/><path class=\"y2grid crisp\" transform=\"translate(0,128.43)\" d=\"M291.1,0h198.89999999999998\" style=\"stroke: rgb(232, 232, 232); stroke-opacity: 1; stroke-width: 1px;\"/><path class=\"y2grid crisp\" transform=\"translate(0,91.64)\" d=\"M291.1,0h198.89999999999998\" style=\"stroke: rgb(232, 232, 232); stroke-opacity: 1; stroke-width: 1px;\"/><path class=\"y2grid crisp\" transform=\"translate(0,54.84)\" d=\"M291.1,0h198.89999999999998\" style=\"stroke: rgb(232, 232, 232); stroke-opacity: 1; stroke-width: 1px;\"/></g></g><g class=\"zerolinelayer\"/><path class=\"xlines-below\"/><path class=\"ylines-below\"/><g class=\"overlines-below\"/><g class=\"xaxislayer-below\"/><g class=\"yaxislayer-below\"/><g class=\"overaxes-below\"/><g class=\"plot\" transform=\"translate(291.1,30)\" clip-path=\"url(#clipa52900x2y2plot)\"><g class=\"scatterlayer mlayer\"><g class=\"trace scatter traced9e180\" style=\"stroke-miterlimit: 2; opacity: 1;\"><g class=\"fills\"/><g class=\"errorbars\"/><g class=\"lines\"><path class=\"js-line\" d=\"M0,129.34L1.42,130.15L2.84,128.6L7.1,129.45L8.52,128.86L9.94,129.01L11.37,127.43L12.79,129.16L14.21,129.12L15.63,129.3L17.05,127.94L18.47,127.76L19.89,128.68L24.15,129.38L25.57,128.57L26.99,129.3L28.41,127.65L29.84,129.05L31.26,129.38L35.52,128.24L36.94,128.24L39.78,125.37L41.2,125.33L42.62,122.17L44.04,121.69L45.46,107.04L46.88,104.1L49.72,84.49L51.15,84.34L53.99,82.32L55.41,86.25L58.25,85.7L59.67,87.5L62.51,93.13L63.93,94.61L65.35,96.3L66.77,100.82L68.19,102.81L69.61,103.47L71.04,104.65L72.46,108.26L73.88,108.62L75.3,114.66L76.72,113.74L78.14,114.11L79.56,115.06L80.98,114.25L83.82,115.17L85.24,113.11L88.08,113.11L89.5,111.72L92.35,116.94L93.77,114.44L95.19,112.27L96.61,114.33L98.03,114.44L99.45,115.95L100.87,115.95L102.29,117.23L105.13,112.89L106.55,112.38L107.97,115.91L109.39,112.93L110.82,116.57L112.24,115.91L113.66,116.32L115.08,118.74L116.5,118.67L117.92,116.46L119.34,116.43L120.76,118.04L125.02,120.8L126.44,120.36L129.28,119.63L130.71,121.02L132.13,121.61L133.55,121.02L134.97,121.76L136.39,120.99L137.81,117.35L139.23,117.09L143.49,113.96L144.91,113.41L146.33,112.34L147.75,114.29L150.6,116.54L152.02,114.29L154.86,113.3L156.28,110.72L159.12,112.93L160.54,116.54L161.96,117.71L163.38,116.02L164.8,115.65L166.22,113.74L167.64,114.14L169.07,113.56L170.49,110.83L171.91,105.2L176.17,99.43L177.59,93.87L180.43,79.52L181.85,77.79L184.69,83.57L186.11,82.21L187.53,81.29L188.95,73.82L191.8,43.83L193.22,36.95L196.06,26.9L197.48,13.07L198.9,6.85\" style=\"vector-effect: non-scaling-stroke; fill: none; stroke: rgb(31, 119, 180); stroke-opacity: 1; stroke-width: 2px; opacity: 1;\"/></g><g class=\"points\"/><g class=\"text\"/></g></g></g><g class=\"overplot\"/><path class=\"xlines-above crisp\" d=\"M290.1,167.5H490\" style=\"fill: none; stroke-width: 1px; stroke: rgb(36, 36, 36); stroke-opacity: 1;\"/><path class=\"ylines-above crisp\" d=\"M290.6,30V167\" style=\"fill: none; stroke-width: 1px; stroke: rgb(36, 36, 36); stroke-opacity: 1;\"/><g class=\"overlines-above\"/><g class=\"xaxislayer-above\"><path class=\"x2tick ticks crisp\" d=\"M0,168v5\" transform=\"translate(319.51000000000005,0)\" style=\"stroke: rgb(68, 68, 68); stroke-opacity: 1; stroke-width: 1px;\"/><path class=\"x2tick ticks crisp\" d=\"M0,168v5\" transform=\"translate(390.55,0)\" style=\"stroke: rgb(68, 68, 68); stroke-opacity: 1; stroke-width: 1px;\"/><path class=\"x2tick ticks crisp\" d=\"M0,168v5\" transform=\"translate(461.59000000000003,0)\" style=\"stroke: rgb(68, 68, 68); stroke-opacity: 1; stroke-width: 1px;\"/><g class=\"x2tick\"><text text-anchor=\"middle\" x=\"0\" y=\"187.4\" transform=\"translate(319.51000000000005,0)\" style=\"font-family: 'Open Sans', verdana, arial, sans-serif; font-size: 12px; fill: rgb(36, 36, 36); fill-opacity: 1; white-space: pre; opacity: 1;\">1900</text></g><g class=\"x2tick\"><text text-anchor=\"middle\" x=\"0\" y=\"187.4\" style=\"font-family: 'Open Sans', verdana, arial, sans-serif; font-size: 12px; fill: rgb(36, 36, 36); fill-opacity: 1; white-space: pre; opacity: 1;\" transform=\"translate(390.55,0)\">1950</text></g><g class=\"x2tick\"><text text-anchor=\"middle\" x=\"0\" y=\"187.4\" style=\"font-family: 'Open Sans', verdana, arial, sans-serif; font-size: 12px; fill: rgb(36, 36, 36); fill-opacity: 1; white-space: pre; opacity: 1;\" transform=\"translate(461.59000000000003,0)\">2000</text></g></g><g class=\"yaxislayer-above\"><path class=\"y2tick ticks crisp\" d=\"M290.1,0h-5\" transform=\"translate(0,165.23)\" style=\"stroke: rgb(68, 68, 68); stroke-opacity: 1; stroke-width: 1px;\"/><path class=\"y2tick ticks crisp\" d=\"M290.1,0h-5\" transform=\"translate(0,128.43)\" style=\"stroke: rgb(68, 68, 68); stroke-opacity: 1; stroke-width: 1px;\"/><path class=\"y2tick ticks crisp\" d=\"M290.1,0h-5\" transform=\"translate(0,91.64)\" style=\"stroke: rgb(68, 68, 68); stroke-opacity: 1; stroke-width: 1px;\"/><path class=\"y2tick ticks crisp\" d=\"M290.1,0h-5\" transform=\"translate(0,54.84)\" style=\"stroke: rgb(68, 68, 68); stroke-opacity: 1; stroke-width: 1px;\"/><g class=\"y2tick\"><text text-anchor=\"end\" x=\"282.70000000000005\" y=\"4.199999999999999\" transform=\"translate(0,165.23)\" style=\"font-family: 'Open Sans', verdana, arial, sans-serif; font-size: 12px; fill: rgb(36, 36, 36); fill-opacity: 1; white-space: pre; opacity: 1;\">0</text></g><g class=\"y2tick\"><text text-anchor=\"end\" x=\"282.70000000000005\" y=\"4.199999999999999\" style=\"font-family: 'Open Sans', verdana, arial, sans-serif; font-size: 12px; fill: rgb(36, 36, 36); fill-opacity: 1; white-space: pre; opacity: 1;\" transform=\"translate(0,128.43)\">1000</text></g><g class=\"y2tick\"><text text-anchor=\"end\" x=\"282.70000000000005\" y=\"4.199999999999999\" style=\"font-family: 'Open Sans', verdana, arial, sans-serif; font-size: 12px; fill: rgb(36, 36, 36); fill-opacity: 1; white-space: pre; opacity: 1;\" transform=\"translate(0,91.64)\">2000</text></g><g class=\"y2tick\"><text text-anchor=\"end\" x=\"282.70000000000005\" y=\"4.199999999999999\" style=\"font-family: 'Open Sans', verdana, arial, sans-serif; font-size: 12px; fill: rgb(36, 36, 36); fill-opacity: 1; white-space: pre; opacity: 1;\" transform=\"translate(0,54.84)\">3000</text></g></g><g class=\"overaxes-above\"/></g></g><g class=\"polarlayer\"/><g class=\"smithlayer\"/><g class=\"ternarylayer\"/><g class=\"geolayer\"/><g class=\"funnelarealayer\"/><g class=\"pielayer\"/><g class=\"iciclelayer\"/><g class=\"treemaplayer\"/><g class=\"sunburstlayer\"/><g class=\"glimages\"/><defs id=\"topdefs-a52900\"><g class=\"clips\"/></defs><g class=\"layer-above\"><g class=\"imagelayer\"/><g class=\"shapelayer\"/></g><g class=\"infolayer\"><g class=\"g-gtitle\"/><g class=\"g-xtitle\"/><g class=\"g-x2title\"/><g class=\"g-ytitle\"/><g class=\"g-y2title\"/><g class=\"annotation\" data-index=\"0\" style=\"opacity: 1;\"><g class=\"annotation-text-g\" transform=\"rotate(0,147.45,17.999999999999996)\"><g class=\"cursor-pointer\" transform=\"translate(84,6)\"><rect class=\"bg\" x=\"0.5\" y=\"0.5\" width=\"126\" height=\"23\" style=\"stroke-width: 1px; stroke: rgb(0, 0, 0); stroke-opacity: 0; fill: rgb(0, 0, 0); fill-opacity: 0;\"/><text class=\"annotation-text\" text-anchor=\"middle\" x=\"63.484375\" y=\"18\" style=\"font-family: 'Open Sans', verdana, arial, sans-serif; font-size: 16px; fill: rgb(36, 36, 36); fill-opacity: 1; white-space: pre;\">Boomer Names</text></g></g></g><g class=\"annotation\" data-index=\"1\" style=\"opacity: 1;\"><g class=\"annotation-text-g\" transform=\"rotate(0,390.55,17.999999999999993)\"><g class=\"cursor-pointer\" transform=\"translate(308,6)\"><rect class=\"bg\" x=\"0.5\" y=\"0.5\" width=\"164\" height=\"23\" style=\"stroke-width: 1px; stroke: rgb(0, 0, 0); stroke-opacity: 0; fill: rgb(0, 0, 0); fill-opacity: 0;\"/><text class=\"annotation-text\" text-anchor=\"middle\" x=\"82.265625\" y=\"18\" style=\"font-family: 'Open Sans', verdana, arial, sans-serif; font-size: 16px; fill: rgb(36, 36, 36); fill-opacity: 1; white-space: pre;\">Mythological Names</text></g></g></g></g></svg>"
      ]
     },
     "metadata": {},
     "output_type": "display_data"
    }
   ],
   "source": [
    "boomers = px.line(cate_counts.query('category == \"boomer\"'),\n",
    "                  x='Year', y='Count')\n",
    "myths = px.line(cate_counts.query('category == \"mythology\"'),\n",
    "                x='Year', y='Count')\n",
    "\n",
    "fig = left_right(boomers, myths, width=500, height=200,\n",
    "                 subplot_titles=['Boomer Names', 'Mythological Names'])\n",
    "margin(fig, t=30)\n",
    "fig"
   ]
  },
  {
   "attachments": {},
   "cell_type": "markdown",
   "metadata": {},
   "source": [
    "As the _NYT_ article claims, baby boomer names have become less popular since\n",
    "2000, while mythology names have become more popular.\n",
    "\n",
    "We can also plot the popularities of all the categories\n",
    "at once. Take a look at the following plots and see whether\n",
    "they support the claims made in the _New York Times_ article:"
   ]
  },
  {
   "cell_type": "code",
   "execution_count": 17,
   "metadata": {
    "tags": [
     "hide-input"
    ]
   },
   "outputs": [
    {
     "data": {
      "application/vnd.plotly.v1+json": {
       "config": {
        "plotlyServerURL": "https://plot.ly"
       },
       "data": [
        {
         "hovertemplate": "category=boomer<br>Year=%{x}<br>Count=%{y}<extra></extra>",
         "legendgroup": "",
         "line": {
          "color": "#1F77B4",
          "dash": "solid"
         },
         "marker": {
          "symbol": "circle"
         },
         "mode": "lines",
         "name": "",
         "orientation": "v",
         "showlegend": false,
         "type": "scatter",
         "x": [
          1880,
          1881,
          1882,
          1883,
          1884,
          1885,
          1886,
          1887,
          1888,
          1889,
          1890,
          1891,
          1892,
          1893,
          1894,
          1895,
          1896,
          1897,
          1898,
          1899,
          1900,
          1901,
          1902,
          1903,
          1904,
          1905,
          1906,
          1907,
          1908,
          1909,
          1910,
          1911,
          1912,
          1913,
          1914,
          1915,
          1916,
          1917,
          1918,
          1919,
          1920,
          1921,
          1922,
          1923,
          1924,
          1925,
          1926,
          1927,
          1928,
          1929,
          1930,
          1931,
          1932,
          1933,
          1934,
          1935,
          1936,
          1937,
          1938,
          1939,
          1940,
          1941,
          1942,
          1943,
          1944,
          1945,
          1946,
          1947,
          1948,
          1949,
          1950,
          1951,
          1952,
          1953,
          1954,
          1955,
          1956,
          1957,
          1958,
          1959,
          1960,
          1961,
          1962,
          1963,
          1964,
          1965,
          1966,
          1967,
          1968,
          1969,
          1970,
          1971,
          1972,
          1973,
          1974,
          1975,
          1976,
          1977,
          1978,
          1979,
          1980,
          1981,
          1982,
          1983,
          1984,
          1985,
          1986,
          1987,
          1988,
          1989,
          1990,
          1991,
          1992,
          1993,
          1994,
          1995,
          1996,
          1997,
          1998,
          1999,
          2000,
          2001,
          2002,
          2003,
          2004,
          2005,
          2006,
          2007,
          2008,
          2009,
          2010,
          2011,
          2012,
          2013,
          2014,
          2015,
          2016,
          2017,
          2018,
          2019,
          2020
         ],
         "xaxis": "x4",
         "y": [
          292,
          298,
          326,
          322,
          335,
          312,
          342,
          344,
          375,
          372,
          377,
          383,
          384,
          368,
          379,
          402,
          364,
          351,
          396,
          367,
          435,
          363,
          342,
          322,
          351,
          353,
          357,
          392,
          376,
          406,
          430,
          500,
          599,
          582,
          760,
          937,
          983,
          981,
          1108,
          993,
          1127,
          1212,
          1293,
          1415,
          1730,
          2117,
          2670,
          3409,
          4069,
          5099,
          6560,
          7272,
          8405,
          8490,
          9889,
          10907,
          11850,
          12894,
          15839,
          17727,
          21194,
          26641,
          33988,
          38163,
          38090,
          40328,
          54227,
          60603,
          64629,
          66483,
          68552,
          75158,
          77941,
          82814,
          90056,
          93373,
          102104,
          106862,
          107522,
          103924,
          98577,
          92822,
          89641,
          82415,
          75536,
          70115,
          58359,
          51549,
          45924,
          41996,
          38652,
          33953,
          26728,
          22953,
          21164,
          19405,
          17419,
          16689,
          14932,
          14116,
          13127,
          12021,
          11290,
          9973,
          9226,
          8299,
          7662,
          7075,
          6671,
          6695,
          6421,
          5870,
          5761,
          5469,
          4860,
          4390,
          4464,
          4088,
          3785,
          3719,
          3697,
          3582,
          3561,
          3544,
          3359,
          3102,
          3149,
          3231,
          2811,
          2316,
          2156,
          1840,
          1597,
          1437,
          1313,
          1282,
          1265,
          1166,
          1000,
          966,
          866
         ],
         "yaxis": "y4"
        },
        {
         "hovertemplate": "category=celestial<br>Year=%{x}<br>Count=%{y}<extra></extra>",
         "legendgroup": "",
         "line": {
          "color": "#1F77B4",
          "dash": "solid"
         },
         "marker": {
          "symbol": "circle"
         },
         "mode": "lines",
         "name": "",
         "orientation": "v",
         "showlegend": false,
         "type": "scatter",
         "x": [
          1880,
          1882,
          1883,
          1884,
          1886,
          1887,
          1888,
          1889,
          1890,
          1891,
          1892,
          1893,
          1894,
          1895,
          1896,
          1897,
          1898,
          1899,
          1900,
          1901,
          1902,
          1903,
          1904,
          1905,
          1906,
          1907,
          1908,
          1909,
          1910,
          1911,
          1912,
          1913,
          1914,
          1915,
          1916,
          1917,
          1918,
          1919,
          1920,
          1921,
          1922,
          1923,
          1924,
          1925,
          1926,
          1927,
          1928,
          1929,
          1930,
          1931,
          1932,
          1933,
          1934,
          1935,
          1936,
          1937,
          1938,
          1939,
          1940,
          1941,
          1942,
          1943,
          1944,
          1945,
          1946,
          1947,
          1948,
          1949,
          1950,
          1951,
          1952,
          1953,
          1954,
          1955,
          1956,
          1957,
          1958,
          1959,
          1960,
          1961,
          1962,
          1963,
          1964,
          1965,
          1966,
          1967,
          1968,
          1969,
          1970,
          1971,
          1972,
          1973,
          1974,
          1975,
          1976,
          1977,
          1978,
          1979,
          1980,
          1981,
          1982,
          1983,
          1984,
          1985,
          1986,
          1987,
          1988,
          1989,
          1990,
          1991,
          1992,
          1993,
          1994,
          1995,
          1996,
          1997,
          1998,
          1999,
          2000,
          2001,
          2002,
          2003,
          2004,
          2005,
          2006,
          2007,
          2008,
          2009,
          2010,
          2011,
          2012,
          2013,
          2014,
          2015,
          2016,
          2017,
          2018,
          2019,
          2020
         ],
         "xaxis": "x5",
         "y": [
          6,
          5,
          8,
          9,
          13,
          11,
          7,
          14,
          7,
          16,
          5,
          6,
          13,
          22,
          22,
          20,
          21,
          15,
          25,
          12,
          26,
          15,
          22,
          20,
          14,
          24,
          17,
          20,
          22,
          27,
          30,
          39,
          38,
          72,
          79,
          55,
          67,
          63,
          54,
          67,
          53,
          65,
          48,
          46,
          35,
          39,
          45,
          28,
          41,
          35,
          29,
          27,
          29,
          14,
          21,
          22,
          12,
          21,
          16,
          18,
          21,
          23,
          15,
          23,
          29,
          35,
          26,
          49,
          55,
          35,
          56,
          50,
          73,
          104,
          152,
          130,
          131,
          301,
          180,
          228,
          181,
          215,
          194,
          177,
          181,
          223,
          159,
          161,
          213,
          274,
          289,
          303,
          315,
          306,
          324,
          330,
          329,
          358,
          346,
          305,
          319,
          249,
          208,
          208,
          227,
          359,
          336,
          369,
          400,
          391,
          400,
          418,
          418,
          473,
          526,
          709,
          675,
          641,
          748,
          740,
          793,
          857,
          874,
          891,
          865,
          828,
          800,
          796,
          791,
          751,
          850,
          857,
          1019,
          996,
          974,
          934,
          939,
          949,
          866
         ],
         "yaxis": "y5"
        },
        {
         "hovertemplate": "category=evangelical<br>Year=%{x}<br>Count=%{y}<extra></extra>",
         "legendgroup": "",
         "line": {
          "color": "#1F77B4",
          "dash": "solid"
         },
         "marker": {
          "symbol": "circle"
         },
         "mode": "lines",
         "name": "",
         "orientation": "v",
         "showlegend": false,
         "type": "scatter",
         "x": [
          1880,
          1883,
          1884,
          1887,
          1888,
          1891,
          1892,
          1894,
          1896,
          1897,
          1904,
          1907,
          1908,
          1910,
          1911,
          1912,
          1913,
          1914,
          1915,
          1916,
          1917,
          1918,
          1919,
          1920,
          1921,
          1922,
          1923,
          1924,
          1925,
          1926,
          1927,
          1928,
          1929,
          1930,
          1931,
          1932,
          1933,
          1934,
          1935,
          1936,
          1937,
          1938,
          1939,
          1940,
          1941,
          1942,
          1943,
          1944,
          1945,
          1946,
          1947,
          1948,
          1949,
          1950,
          1951,
          1952,
          1953,
          1954,
          1955,
          1957,
          1958,
          1959,
          1960,
          1961,
          1962,
          1964,
          1965,
          1966,
          1968,
          1969,
          1970,
          1971,
          1972,
          1973,
          1974,
          1975,
          1976,
          1977,
          1978,
          1979,
          1980,
          1981,
          1982,
          1983,
          1984,
          1985,
          1986,
          1987,
          1988,
          1989,
          1990,
          1991,
          1992,
          1993,
          1994,
          1995,
          1996,
          1997,
          1998,
          1999,
          2000,
          2001,
          2002,
          2003,
          2004,
          2005,
          2006,
          2007,
          2008,
          2009,
          2010,
          2011,
          2012,
          2013,
          2014,
          2015,
          2016,
          2017,
          2018,
          2019,
          2020
         ],
         "xaxis": "x6",
         "y": [
          7,
          7,
          8,
          6,
          5,
          11,
          8,
          6,
          10,
          14,
          6,
          5,
          6,
          12,
          6,
          5,
          11,
          22,
          41,
          38,
          34,
          38,
          35,
          42,
          42,
          41,
          35,
          37,
          33,
          32,
          28,
          33,
          17,
          21,
          23,
          17,
          21,
          29,
          24,
          17,
          21,
          15,
          22,
          20,
          23,
          21,
          21,
          13,
          16,
          12,
          26,
          20,
          22,
          22,
          11,
          21,
          24,
          19,
          19,
          27,
          15,
          17,
          15,
          17,
          9,
          7,
          6,
          10,
          10,
          22,
          10,
          13,
          8,
          26,
          30,
          23,
          23,
          51,
          31,
          29,
          39,
          26,
          24,
          51,
          41,
          39,
          22,
          52,
          48,
          48,
          73,
          71,
          70,
          93,
          86,
          86,
          111,
          119,
          154,
          156,
          182,
          232,
          198,
          237,
          246,
          245,
          284,
          269,
          294,
          348,
          362,
          332,
          422,
          417,
          461,
          624,
          844,
          820,
          941,
          1060,
          1189
         ],
         "yaxis": "y6"
        },
        {
         "hovertemplate": "category=forbidden<br>Year=%{x}<br>Count=%{y}<extra></extra>",
         "legendgroup": "",
         "line": {
          "color": "#1F77B4",
          "dash": "solid"
         },
         "marker": {
          "symbol": "circle"
         },
         "mode": "lines",
         "name": "",
         "orientation": "v",
         "showlegend": false,
         "type": "scatter",
         "x": [
          1913,
          1914,
          1915,
          1917,
          1918,
          1919,
          1920,
          1921,
          1922,
          1930,
          1942,
          1963,
          1964,
          1966,
          1967,
          1970,
          1971,
          1973,
          1974,
          1975,
          1978,
          1985,
          1987,
          1989,
          1990,
          1991,
          1992,
          1993,
          1994,
          1995,
          1996,
          1997,
          1998,
          1999,
          2000,
          2001,
          2002,
          2003,
          2004,
          2005,
          2006,
          2007,
          2008,
          2009,
          2010,
          2011,
          2012,
          2013,
          2014,
          2015,
          2016,
          2017,
          2018,
          2019,
          2020
         ],
         "xaxis": "x",
         "y": [
          6,
          5,
          6,
          5,
          7,
          6,
          9,
          8,
          6,
          9,
          5,
          6,
          5,
          8,
          7,
          8,
          9,
          6,
          5,
          6,
          7,
          7,
          5,
          5,
          7,
          10,
          13,
          9,
          9,
          15,
          12,
          29,
          63,
          89,
          89,
          98,
          109,
          121,
          115,
          130,
          141,
          165,
          187,
          235,
          265,
          290,
          341,
          336,
          471,
          528,
          606,
          668,
          627,
          826,
          1060
         ],
         "yaxis": "y"
        },
        {
         "hovertemplate": "category=mineral<br>Year=%{x}<br>Count=%{y}<extra></extra>",
         "legendgroup": "",
         "line": {
          "color": "#1F77B4",
          "dash": "solid"
         },
         "marker": {
          "symbol": "circle"
         },
         "mode": "lines",
         "name": "",
         "orientation": "v",
         "showlegend": false,
         "type": "scatter",
         "x": [
          1918,
          1967,
          1968,
          1969,
          1971,
          1973,
          1974,
          1975,
          1976,
          1977,
          1978,
          1979,
          1980,
          1981,
          1982,
          1983,
          1984,
          1985,
          1986,
          1987,
          1988,
          1989,
          1990,
          1991,
          1992,
          1993,
          1994,
          1995,
          1996,
          1997,
          1998,
          1999,
          2000,
          2001,
          2002,
          2003,
          2004,
          2005,
          2006,
          2007,
          2008,
          2009,
          2010,
          2011,
          2012,
          2013,
          2014,
          2015,
          2016,
          2017,
          2018,
          2019,
          2020
         ],
         "xaxis": "x2",
         "y": [
          5,
          5,
          6,
          5,
          5,
          10,
          9,
          17,
          15,
          15,
          14,
          15,
          22,
          21,
          33,
          18,
          37,
          37,
          37,
          30,
          51,
          72,
          91,
          82,
          109,
          118,
          112,
          112,
          116,
          132,
          127,
          117,
          128,
          128,
          133,
          134,
          133,
          109,
          136,
          126,
          99,
          146,
          143,
          137,
          187,
          166,
          232,
          284,
          392,
          434,
          497,
          602,
          735
         ],
         "yaxis": "y2"
        },
        {
         "hovertemplate": "category=mythology<br>Year=%{x}<br>Count=%{y}<extra></extra>",
         "legendgroup": "",
         "line": {
          "color": "#1F77B4",
          "dash": "solid"
         },
         "marker": {
          "symbol": "circle"
         },
         "mode": "lines",
         "name": "",
         "orientation": "v",
         "showlegend": false,
         "type": "scatter",
         "x": [
          1880,
          1881,
          1882,
          1883,
          1884,
          1885,
          1886,
          1887,
          1888,
          1889,
          1890,
          1891,
          1892,
          1893,
          1894,
          1895,
          1896,
          1897,
          1898,
          1899,
          1900,
          1901,
          1902,
          1903,
          1904,
          1905,
          1906,
          1907,
          1908,
          1909,
          1910,
          1911,
          1912,
          1913,
          1914,
          1915,
          1916,
          1917,
          1918,
          1919,
          1920,
          1921,
          1922,
          1923,
          1924,
          1925,
          1926,
          1927,
          1928,
          1929,
          1930,
          1931,
          1932,
          1933,
          1934,
          1935,
          1936,
          1937,
          1938,
          1939,
          1940,
          1941,
          1942,
          1943,
          1944,
          1945,
          1946,
          1947,
          1948,
          1949,
          1950,
          1951,
          1952,
          1953,
          1954,
          1955,
          1956,
          1957,
          1958,
          1959,
          1960,
          1961,
          1962,
          1963,
          1964,
          1965,
          1966,
          1967,
          1968,
          1969,
          1970,
          1971,
          1972,
          1973,
          1974,
          1975,
          1976,
          1977,
          1978,
          1979,
          1980,
          1981,
          1982,
          1983,
          1984,
          1985,
          1986,
          1987,
          1988,
          1989,
          1990,
          1991,
          1992,
          1993,
          1994,
          1995,
          1996,
          1997,
          1998,
          1999,
          2000,
          2001,
          2002,
          2003,
          2004,
          2005,
          2006,
          2007,
          2008,
          2009,
          2010,
          2011,
          2012,
          2013,
          2014,
          2015,
          2016,
          2017,
          2018,
          2019,
          2020
         ],
         "xaxis": "x3",
         "y": [
          160,
          138,
          180,
          170,
          168,
          157,
          173,
          169,
          212,
          165,
          166,
          161,
          198,
          203,
          178,
          171,
          174,
          159,
          181,
          161,
          206,
          168,
          159,
          173,
          189,
          190,
          190,
          231,
          268,
          269,
          355,
          368,
          766,
          846,
          1064,
          1379,
          1383,
          1408,
          1438,
          1331,
          1339,
          1346,
          1297,
          1211,
          1144,
          1104,
          1058,
          935,
          881,
          863,
          831,
          733,
          723,
          559,
          584,
          574,
          548,
          570,
          560,
          545,
          601,
          596,
          601,
          639,
          570,
          497,
          565,
          624,
          568,
          565,
          524,
          524,
          489,
          566,
          607,
          621,
          525,
          606,
          507,
          525,
          514,
          448,
          450,
          510,
          511,
          467,
          440,
          410,
          392,
          404,
          406,
          424,
          386,
          370,
          386,
          366,
          387,
          486,
          493,
          529,
          563,
          578,
          593,
          622,
          569,
          546,
          508,
          569,
          575,
          596,
          666,
          625,
          606,
          508,
          476,
          522,
          532,
          584,
          573,
          589,
          663,
          816,
          867,
          899,
          973,
          1124,
          1377,
          1514,
          1561,
          1457,
          1404,
          1441,
          1466,
          1669,
          2146,
          2484,
          2671,
          2797,
          2944,
          3320,
          3489
         ],
         "yaxis": "y3"
        }
       ],
       "layout": {
        "annotations": [
         {
          "font": {},
          "showarrow": false,
          "text": "category=forbidden",
          "x": 0.15999999999999998,
          "xanchor": "center",
          "xref": "paper",
          "y": 0.425,
          "yanchor": "bottom",
          "yref": "paper"
         },
         {
          "font": {},
          "showarrow": false,
          "text": "category=mineral",
          "x": 0.49999999999999994,
          "xanchor": "center",
          "xref": "paper",
          "y": 0.425,
          "yanchor": "bottom",
          "yref": "paper"
         },
         {
          "font": {},
          "showarrow": false,
          "text": "category=mythology",
          "x": 0.8399999999999999,
          "xanchor": "center",
          "xref": "paper",
          "y": 0.425,
          "yanchor": "bottom",
          "yref": "paper"
         },
         {
          "font": {},
          "showarrow": false,
          "text": "category=boomer",
          "x": 0.15999999999999998,
          "xanchor": "center",
          "xref": "paper",
          "y": 1,
          "yanchor": "bottom",
          "yref": "paper"
         },
         {
          "font": {},
          "showarrow": false,
          "text": "category=celestial",
          "x": 0.49999999999999994,
          "xanchor": "center",
          "xref": "paper",
          "y": 1,
          "yanchor": "bottom",
          "yref": "paper"
         },
         {
          "font": {},
          "showarrow": false,
          "text": "category=evangelical",
          "x": 0.8399999999999999,
          "xanchor": "center",
          "xref": "paper",
          "y": 1,
          "yanchor": "bottom",
          "yref": "paper"
         }
        ],
        "height": 400,
        "legend": {
         "tracegroupgap": 0
        },
        "margin": {
         "t": 30
        },
        "template": {
         "data": {
          "bar": [
           {
            "error_x": {
             "color": "rgb(36,36,36)"
            },
            "error_y": {
             "color": "rgb(36,36,36)"
            },
            "marker": {
             "line": {
              "color": "white",
              "width": 0.5
             },
             "pattern": {
              "fillmode": "overlay",
              "size": 10,
              "solidity": 0.2
             }
            },
            "type": "bar"
           }
          ],
          "barpolar": [
           {
            "marker": {
             "line": {
              "color": "white",
              "width": 0.5
             },
             "pattern": {
              "fillmode": "overlay",
              "size": 10,
              "solidity": 0.2
             }
            },
            "type": "barpolar"
           }
          ],
          "carpet": [
           {
            "aaxis": {
             "endlinecolor": "rgb(36,36,36)",
             "gridcolor": "white",
             "linecolor": "white",
             "minorgridcolor": "white",
             "startlinecolor": "rgb(36,36,36)"
            },
            "baxis": {
             "endlinecolor": "rgb(36,36,36)",
             "gridcolor": "white",
             "linecolor": "white",
             "minorgridcolor": "white",
             "startlinecolor": "rgb(36,36,36)"
            },
            "type": "carpet"
           }
          ],
          "choropleth": [
           {
            "colorbar": {
             "outlinewidth": 1,
             "tickcolor": "rgb(36,36,36)",
             "ticks": "outside"
            },
            "type": "choropleth"
           }
          ],
          "contour": [
           {
            "colorbar": {
             "outlinewidth": 1,
             "tickcolor": "rgb(36,36,36)",
             "ticks": "outside"
            },
            "colorscale": [
             [
              0,
              "#440154"
             ],
             [
              0.1111111111111111,
              "#482878"
             ],
             [
              0.2222222222222222,
              "#3e4989"
             ],
             [
              0.3333333333333333,
              "#31688e"
             ],
             [
              0.4444444444444444,
              "#26828e"
             ],
             [
              0.5555555555555556,
              "#1f9e89"
             ],
             [
              0.6666666666666666,
              "#35b779"
             ],
             [
              0.7777777777777778,
              "#6ece58"
             ],
             [
              0.8888888888888888,
              "#b5de2b"
             ],
             [
              1,
              "#fde725"
             ]
            ],
            "type": "contour"
           }
          ],
          "contourcarpet": [
           {
            "colorbar": {
             "outlinewidth": 1,
             "tickcolor": "rgb(36,36,36)",
             "ticks": "outside"
            },
            "type": "contourcarpet"
           }
          ],
          "heatmap": [
           {
            "colorbar": {
             "outlinewidth": 1,
             "tickcolor": "rgb(36,36,36)",
             "ticks": "outside"
            },
            "colorscale": [
             [
              0,
              "#440154"
             ],
             [
              0.1111111111111111,
              "#482878"
             ],
             [
              0.2222222222222222,
              "#3e4989"
             ],
             [
              0.3333333333333333,
              "#31688e"
             ],
             [
              0.4444444444444444,
              "#26828e"
             ],
             [
              0.5555555555555556,
              "#1f9e89"
             ],
             [
              0.6666666666666666,
              "#35b779"
             ],
             [
              0.7777777777777778,
              "#6ece58"
             ],
             [
              0.8888888888888888,
              "#b5de2b"
             ],
             [
              1,
              "#fde725"
             ]
            ],
            "type": "heatmap"
           }
          ],
          "heatmapgl": [
           {
            "colorbar": {
             "outlinewidth": 1,
             "tickcolor": "rgb(36,36,36)",
             "ticks": "outside"
            },
            "colorscale": [
             [
              0,
              "#440154"
             ],
             [
              0.1111111111111111,
              "#482878"
             ],
             [
              0.2222222222222222,
              "#3e4989"
             ],
             [
              0.3333333333333333,
              "#31688e"
             ],
             [
              0.4444444444444444,
              "#26828e"
             ],
             [
              0.5555555555555556,
              "#1f9e89"
             ],
             [
              0.6666666666666666,
              "#35b779"
             ],
             [
              0.7777777777777778,
              "#6ece58"
             ],
             [
              0.8888888888888888,
              "#b5de2b"
             ],
             [
              1,
              "#fde725"
             ]
            ],
            "type": "heatmapgl"
           }
          ],
          "histogram": [
           {
            "marker": {
             "line": {
              "color": "white",
              "width": 0.6
             }
            },
            "type": "histogram"
           }
          ],
          "histogram2d": [
           {
            "colorbar": {
             "outlinewidth": 1,
             "tickcolor": "rgb(36,36,36)",
             "ticks": "outside"
            },
            "colorscale": [
             [
              0,
              "#440154"
             ],
             [
              0.1111111111111111,
              "#482878"
             ],
             [
              0.2222222222222222,
              "#3e4989"
             ],
             [
              0.3333333333333333,
              "#31688e"
             ],
             [
              0.4444444444444444,
              "#26828e"
             ],
             [
              0.5555555555555556,
              "#1f9e89"
             ],
             [
              0.6666666666666666,
              "#35b779"
             ],
             [
              0.7777777777777778,
              "#6ece58"
             ],
             [
              0.8888888888888888,
              "#b5de2b"
             ],
             [
              1,
              "#fde725"
             ]
            ],
            "type": "histogram2d"
           }
          ],
          "histogram2dcontour": [
           {
            "colorbar": {
             "outlinewidth": 1,
             "tickcolor": "rgb(36,36,36)",
             "ticks": "outside"
            },
            "colorscale": [
             [
              0,
              "#440154"
             ],
             [
              0.1111111111111111,
              "#482878"
             ],
             [
              0.2222222222222222,
              "#3e4989"
             ],
             [
              0.3333333333333333,
              "#31688e"
             ],
             [
              0.4444444444444444,
              "#26828e"
             ],
             [
              0.5555555555555556,
              "#1f9e89"
             ],
             [
              0.6666666666666666,
              "#35b779"
             ],
             [
              0.7777777777777778,
              "#6ece58"
             ],
             [
              0.8888888888888888,
              "#b5de2b"
             ],
             [
              1,
              "#fde725"
             ]
            ],
            "type": "histogram2dcontour"
           }
          ],
          "mesh3d": [
           {
            "colorbar": {
             "outlinewidth": 1,
             "tickcolor": "rgb(36,36,36)",
             "ticks": "outside"
            },
            "type": "mesh3d"
           }
          ],
          "parcoords": [
           {
            "line": {
             "colorbar": {
              "outlinewidth": 1,
              "tickcolor": "rgb(36,36,36)",
              "ticks": "outside"
             }
            },
            "type": "parcoords"
           }
          ],
          "pie": [
           {
            "automargin": true,
            "type": "pie"
           }
          ],
          "scatter": [
           {
            "marker": {
             "colorbar": {
              "outlinewidth": 1,
              "tickcolor": "rgb(36,36,36)",
              "ticks": "outside"
             }
            },
            "type": "scatter"
           }
          ],
          "scatter3d": [
           {
            "line": {
             "colorbar": {
              "outlinewidth": 1,
              "tickcolor": "rgb(36,36,36)",
              "ticks": "outside"
             }
            },
            "marker": {
             "colorbar": {
              "outlinewidth": 1,
              "tickcolor": "rgb(36,36,36)",
              "ticks": "outside"
             }
            },
            "type": "scatter3d"
           }
          ],
          "scattercarpet": [
           {
            "marker": {
             "colorbar": {
              "outlinewidth": 1,
              "tickcolor": "rgb(36,36,36)",
              "ticks": "outside"
             }
            },
            "type": "scattercarpet"
           }
          ],
          "scattergeo": [
           {
            "marker": {
             "colorbar": {
              "outlinewidth": 1,
              "tickcolor": "rgb(36,36,36)",
              "ticks": "outside"
             }
            },
            "type": "scattergeo"
           }
          ],
          "scattergl": [
           {
            "marker": {
             "colorbar": {
              "outlinewidth": 1,
              "tickcolor": "rgb(36,36,36)",
              "ticks": "outside"
             }
            },
            "type": "scattergl"
           }
          ],
          "scattermapbox": [
           {
            "marker": {
             "colorbar": {
              "outlinewidth": 1,
              "tickcolor": "rgb(36,36,36)",
              "ticks": "outside"
             }
            },
            "type": "scattermapbox"
           }
          ],
          "scatterpolar": [
           {
            "marker": {
             "colorbar": {
              "outlinewidth": 1,
              "tickcolor": "rgb(36,36,36)",
              "ticks": "outside"
             }
            },
            "type": "scatterpolar"
           }
          ],
          "scatterpolargl": [
           {
            "marker": {
             "colorbar": {
              "outlinewidth": 1,
              "tickcolor": "rgb(36,36,36)",
              "ticks": "outside"
             }
            },
            "type": "scatterpolargl"
           }
          ],
          "scatterternary": [
           {
            "marker": {
             "colorbar": {
              "outlinewidth": 1,
              "tickcolor": "rgb(36,36,36)",
              "ticks": "outside"
             }
            },
            "type": "scatterternary"
           }
          ],
          "surface": [
           {
            "colorbar": {
             "outlinewidth": 1,
             "tickcolor": "rgb(36,36,36)",
             "ticks": "outside"
            },
            "colorscale": [
             [
              0,
              "#440154"
             ],
             [
              0.1111111111111111,
              "#482878"
             ],
             [
              0.2222222222222222,
              "#3e4989"
             ],
             [
              0.3333333333333333,
              "#31688e"
             ],
             [
              0.4444444444444444,
              "#26828e"
             ],
             [
              0.5555555555555556,
              "#1f9e89"
             ],
             [
              0.6666666666666666,
              "#35b779"
             ],
             [
              0.7777777777777778,
              "#6ece58"
             ],
             [
              0.8888888888888888,
              "#b5de2b"
             ],
             [
              1,
              "#fde725"
             ]
            ],
            "type": "surface"
           }
          ],
          "table": [
           {
            "cells": {
             "fill": {
              "color": "rgb(237,237,237)"
             },
             "line": {
              "color": "white"
             }
            },
            "header": {
             "fill": {
              "color": "rgb(217,217,217)"
             },
             "line": {
              "color": "white"
             }
            },
            "type": "table"
           }
          ]
         },
         "layout": {
          "annotationdefaults": {
           "arrowhead": 0,
           "arrowwidth": 1
          },
          "autosize": true,
          "autotypenumbers": "strict",
          "coloraxis": {
           "colorbar": {
            "outlinewidth": 1,
            "tickcolor": "rgb(36,36,36)",
            "ticks": "outside"
           }
          },
          "colorscale": {
           "diverging": [
            [
             0,
             "rgb(103,0,31)"
            ],
            [
             0.1,
             "rgb(178,24,43)"
            ],
            [
             0.2,
             "rgb(214,96,77)"
            ],
            [
             0.3,
             "rgb(244,165,130)"
            ],
            [
             0.4,
             "rgb(253,219,199)"
            ],
            [
             0.5,
             "rgb(247,247,247)"
            ],
            [
             0.6,
             "rgb(209,229,240)"
            ],
            [
             0.7,
             "rgb(146,197,222)"
            ],
            [
             0.8,
             "rgb(67,147,195)"
            ],
            [
             0.9,
             "rgb(33,102,172)"
            ],
            [
             1,
             "rgb(5,48,97)"
            ]
           ],
           "sequential": [
            [
             0,
             "#440154"
            ],
            [
             0.1111111111111111,
             "#482878"
            ],
            [
             0.2222222222222222,
             "#3e4989"
            ],
            [
             0.3333333333333333,
             "#31688e"
            ],
            [
             0.4444444444444444,
             "#26828e"
            ],
            [
             0.5555555555555556,
             "#1f9e89"
            ],
            [
             0.6666666666666666,
             "#35b779"
            ],
            [
             0.7777777777777778,
             "#6ece58"
            ],
            [
             0.8888888888888888,
             "#b5de2b"
            ],
            [
             1,
             "#fde725"
            ]
           ],
           "sequentialminus": [
            [
             0,
             "#440154"
            ],
            [
             0.1111111111111111,
             "#482878"
            ],
            [
             0.2222222222222222,
             "#3e4989"
            ],
            [
             0.3333333333333333,
             "#31688e"
            ],
            [
             0.4444444444444444,
             "#26828e"
            ],
            [
             0.5555555555555556,
             "#1f9e89"
            ],
            [
             0.6666666666666666,
             "#35b779"
            ],
            [
             0.7777777777777778,
             "#6ece58"
            ],
            [
             0.8888888888888888,
             "#b5de2b"
            ],
            [
             1,
             "#fde725"
            ]
           ]
          },
          "colorway": [
           "#1F77B4",
           "#FF7F0E",
           "#2CA02C",
           "#D62728",
           "#9467BD",
           "#8C564B",
           "#E377C2",
           "#7F7F7F",
           "#BCBD22",
           "#17BECF"
          ],
          "font": {
           "color": "rgb(36,36,36)"
          },
          "geo": {
           "bgcolor": "white",
           "lakecolor": "white",
           "landcolor": "white",
           "showlakes": true,
           "showland": true,
           "subunitcolor": "white"
          },
          "height": 250,
          "hoverlabel": {
           "align": "left"
          },
          "hovermode": "closest",
          "mapbox": {
           "style": "light"
          },
          "margin": {
           "b": 10,
           "l": 10,
           "r": 10,
           "t": 10
          },
          "paper_bgcolor": "white",
          "plot_bgcolor": "white",
          "polar": {
           "angularaxis": {
            "gridcolor": "rgb(232,232,232)",
            "linecolor": "rgb(36,36,36)",
            "showgrid": false,
            "showline": true,
            "ticks": "outside"
           },
           "bgcolor": "white",
           "radialaxis": {
            "gridcolor": "rgb(232,232,232)",
            "linecolor": "rgb(36,36,36)",
            "showgrid": false,
            "showline": true,
            "ticks": "outside"
           }
          },
          "scene": {
           "xaxis": {
            "backgroundcolor": "white",
            "gridcolor": "rgb(232,232,232)",
            "gridwidth": 2,
            "linecolor": "rgb(36,36,36)",
            "showbackground": true,
            "showgrid": false,
            "showline": true,
            "ticks": "outside",
            "zeroline": false,
            "zerolinecolor": "rgb(36,36,36)"
           },
           "yaxis": {
            "backgroundcolor": "white",
            "gridcolor": "rgb(232,232,232)",
            "gridwidth": 2,
            "linecolor": "rgb(36,36,36)",
            "showbackground": true,
            "showgrid": false,
            "showline": true,
            "ticks": "outside",
            "zeroline": false,
            "zerolinecolor": "rgb(36,36,36)"
           },
           "zaxis": {
            "backgroundcolor": "white",
            "gridcolor": "rgb(232,232,232)",
            "gridwidth": 2,
            "linecolor": "rgb(36,36,36)",
            "showbackground": true,
            "showgrid": false,
            "showline": true,
            "ticks": "outside",
            "zeroline": false,
            "zerolinecolor": "rgb(36,36,36)"
           }
          },
          "shapedefaults": {
           "fillcolor": "black",
           "line": {
            "width": 0
           },
           "opacity": 0.3
          },
          "ternary": {
           "aaxis": {
            "gridcolor": "rgb(232,232,232)",
            "linecolor": "rgb(36,36,36)",
            "showgrid": false,
            "showline": true,
            "ticks": "outside"
           },
           "baxis": {
            "gridcolor": "rgb(232,232,232)",
            "linecolor": "rgb(36,36,36)",
            "showgrid": false,
            "showline": true,
            "ticks": "outside"
           },
           "bgcolor": "white",
           "caxis": {
            "gridcolor": "rgb(232,232,232)",
            "linecolor": "rgb(36,36,36)",
            "showgrid": false,
            "showline": true,
            "ticks": "outside"
           }
          },
          "title": {
           "x": 0.5,
           "xanchor": "center"
          },
          "width": 350,
          "xaxis": {
           "automargin": true,
           "gridcolor": "rgb(232,232,232)",
           "linecolor": "rgb(36,36,36)",
           "showgrid": true,
           "showline": true,
           "ticks": "outside",
           "title": {
            "standoff": 15
           },
           "zeroline": false,
           "zerolinecolor": "rgb(36,36,36)"
          },
          "yaxis": {
           "automargin": true,
           "gridcolor": "rgb(232,232,232)",
           "linecolor": "rgb(36,36,36)",
           "showgrid": true,
           "showline": true,
           "ticks": "outside",
           "title": {
            "standoff": 15
           },
           "zeroline": false,
           "zerolinecolor": "rgb(36,36,36)"
          }
         }
        },
        "width": 600,
        "xaxis": {
         "anchor": "y",
         "autorange": true,
         "domain": [
          0,
          0.31999999999999995
         ],
         "range": [
          1880,
          2020
         ],
         "title": {
          "text": "Year"
         },
         "type": "linear"
        },
        "xaxis2": {
         "anchor": "y2",
         "autorange": true,
         "domain": [
          0.33999999999999997,
          0.6599999999999999
         ],
         "matches": "x",
         "range": [
          1880,
          2020
         ],
         "title": {
          "text": "Year"
         },
         "type": "linear"
        },
        "xaxis3": {
         "anchor": "y3",
         "autorange": true,
         "domain": [
          0.6799999999999999,
          0.9999999999999999
         ],
         "matches": "x",
         "range": [
          1880,
          2020
         ],
         "title": {
          "text": "Year"
         },
         "type": "linear"
        },
        "xaxis4": {
         "anchor": "y4",
         "autorange": true,
         "domain": [
          0,
          0.31999999999999995
         ],
         "matches": "x",
         "range": [
          1880,
          2020
         ],
         "showticklabels": false,
         "type": "linear"
        },
        "xaxis5": {
         "anchor": "y5",
         "autorange": true,
         "domain": [
          0.33999999999999997,
          0.6599999999999999
         ],
         "matches": "x",
         "range": [
          1880,
          2020
         ],
         "showticklabels": false,
         "type": "linear"
        },
        "xaxis6": {
         "anchor": "y6",
         "autorange": true,
         "domain": [
          0.6799999999999999,
          0.9999999999999999
         ],
         "matches": "x",
         "range": [
          1880,
          2020
         ],
         "showticklabels": false,
         "type": "linear"
        },
        "yaxis": {
         "anchor": "x",
         "autorange": true,
         "domain": [
          0,
          0.425
         ],
         "range": [
          -53.61111111111111,
          1118.611111111111
         ],
         "showticklabels": false,
         "title": {
          "text": "Count"
         },
         "type": "linear"
        },
        "yaxis2": {
         "anchor": "x2",
         "autorange": true,
         "domain": [
          0,
          0.425
         ],
         "range": [
          -35.55555555555556,
          775.5555555555555
         ],
         "showticklabels": false,
         "type": "linear"
        },
        "yaxis3": {
         "anchor": "x3",
         "autorange": true,
         "domain": [
          0,
          0.425
         ],
         "range": [
          -48.16666666666666,
          3675.1666666666665
         ],
         "showticklabels": false,
         "type": "linear"
        },
        "yaxis4": {
         "anchor": "x4",
         "autorange": true,
         "domain": [
          0.575,
          1
         ],
         "range": [
          -5665.222222222222,
          113479.22222222222
         ],
         "showticklabels": false,
         "title": {
          "text": "Count"
         },
         "type": "linear"
        },
        "yaxis5": {
         "anchor": "x5",
         "autorange": true,
         "domain": [
          0.575,
          1
         ],
         "range": [
          -51.333333333333336,
          1075.3333333333333
         ],
         "showticklabels": false,
         "type": "linear"
        },
        "yaxis6": {
         "anchor": "x6",
         "autorange": true,
         "domain": [
          0.575,
          1
         ],
         "range": [
          -60.77777777777777,
          1254.7777777777778
         ],
         "showticklabels": false,
         "type": "linear"
        }
       }
      },
      "image/png": "[encoded data removed]",
      "image/svg+xml": [
       "<svg class=\"main-svg\" xmlns=\"http://www.w3.org/2000/svg\" xmlns:xlink=\"http://www.w3.org/1999/xlink\" width=\"600\" height=\"400\" style=\"\" viewBox=\"0 0 600 400\"><rect x=\"0\" y=\"0\" width=\"600\" height=\"400\" style=\"fill: rgb(255, 255, 255); fill-opacity: 1;\"/><defs id=\"defs-cfd822\"><g class=\"clips\"><clipPath id=\"clipcfd822xyplot\" class=\"plotclip\"><rect width=\"175.99999999999997\" height=\"132.6\"/></clipPath><clipPath id=\"clipcfd822x2y2plot\" class=\"plotclip\"><rect width=\"175.99999999999997\" height=\"132.6\"/></clipPath><clipPath id=\"clipcfd822x3y3plot\" class=\"plotclip\"><rect width=\"175.99999999999997\" height=\"132.6\"/></clipPath><clipPath id=\"clipcfd822x4y4plot\" class=\"plotclip\"><rect width=\"175.99999999999997\" height=\"132.60000000000002\"/></clipPath><clipPath id=\"clipcfd822x5y5plot\" class=\"plotclip\"><rect width=\"175.99999999999997\" height=\"132.60000000000002\"/></clipPath><clipPath id=\"clipcfd822x6y6plot\" class=\"plotclip\"><rect width=\"175.99999999999997\" height=\"132.60000000000002\"/></clipPath><clipPath class=\"axesclip\" id=\"clipcfd822x\"><rect x=\"40\" y=\"0\" width=\"175.99999999999997\" height=\"400\"/></clipPath><clipPath class=\"axesclip\" id=\"clipcfd822y\"><rect x=\"0\" y=\"209.39999999999998\" width=\"600\" height=\"132.6\"/></clipPath><clipPath class=\"axesclip\" id=\"clipcfd822xy\"><rect x=\"40\" y=\"209.39999999999998\" width=\"175.99999999999997\" height=\"132.6\"/></clipPath><clipPath class=\"axesclip\" id=\"clipcfd822y2\"><rect x=\"0\" y=\"209.39999999999998\" width=\"600\" height=\"132.6\"/></clipPath><clipPath class=\"axesclip\" id=\"clipcfd822xy2\"><rect x=\"40\" y=\"209.39999999999998\" width=\"175.99999999999997\" height=\"132.6\"/></clipPath><clipPath class=\"axesclip\" id=\"clipcfd822y3\"><rect x=\"0\" y=\"209.39999999999998\" width=\"600\" height=\"132.6\"/></clipPath><clipPath class=\"axesclip\" id=\"clipcfd822xy3\"><rect x=\"40\" y=\"209.39999999999998\" width=\"175.99999999999997\" height=\"132.6\"/></clipPath><clipPath class=\"axesclip\" id=\"clipcfd822y4\"><rect x=\"0\" y=\"30\" width=\"600\" height=\"132.60000000000002\"/></clipPath><clipPath class=\"axesclip\" id=\"clipcfd822xy4\"><rect x=\"40\" y=\"30\" width=\"175.99999999999997\" height=\"132.60000000000002\"/></clipPath><clipPath class=\"axesclip\" id=\"clipcfd822y5\"><rect x=\"0\" y=\"30\" width=\"600\" height=\"132.60000000000002\"/></clipPath><clipPath class=\"axesclip\" id=\"clipcfd822xy5\"><rect x=\"40\" y=\"30\" width=\"175.99999999999997\" height=\"132.60000000000002\"/></clipPath><clipPath class=\"axesclip\" id=\"clipcfd822y6\"><rect x=\"0\" y=\"30\" width=\"600\" height=\"132.60000000000002\"/></clipPath><clipPath class=\"axesclip\" id=\"clipcfd822xy6\"><rect x=\"40\" y=\"30\" width=\"175.99999999999997\" height=\"132.60000000000002\"/></clipPath><clipPath class=\"axesclip\" id=\"clipcfd822x2\"><rect x=\"226.99999999999997\" y=\"0\" width=\"175.99999999999997\" height=\"400\"/></clipPath><clipPath class=\"axesclip\" id=\"clipcfd822x2y\"><rect x=\"226.99999999999997\" y=\"209.39999999999998\" width=\"175.99999999999997\" height=\"132.6\"/></clipPath><clipPath class=\"axesclip\" id=\"clipcfd822x2y2\"><rect x=\"226.99999999999997\" y=\"209.39999999999998\" width=\"175.99999999999997\" height=\"132.6\"/></clipPath><clipPath class=\"axesclip\" id=\"clipcfd822x2y3\"><rect x=\"226.99999999999997\" y=\"209.39999999999998\" width=\"175.99999999999997\" height=\"132.6\"/></clipPath><clipPath class=\"axesclip\" id=\"clipcfd822x2y4\"><rect x=\"226.99999999999997\" y=\"30\" width=\"175.99999999999997\" height=\"132.60000000000002\"/></clipPath><clipPath class=\"axesclip\" id=\"clipcfd822x2y5\"><rect x=\"226.99999999999997\" y=\"30\" width=\"175.99999999999997\" height=\"132.60000000000002\"/></clipPath><clipPath class=\"axesclip\" id=\"clipcfd822x2y6\"><rect x=\"226.99999999999997\" y=\"30\" width=\"175.99999999999997\" height=\"132.60000000000002\"/></clipPath><clipPath class=\"axesclip\" id=\"clipcfd822x3\"><rect x=\"413.99999999999994\" y=\"0\" width=\"175.99999999999997\" height=\"400\"/></clipPath><clipPath class=\"axesclip\" id=\"clipcfd822x3y\"><rect x=\"413.99999999999994\" y=\"209.39999999999998\" width=\"175.99999999999997\" height=\"132.6\"/></clipPath><clipPath class=\"axesclip\" id=\"clipcfd822x3y2\"><rect x=\"413.99999999999994\" y=\"209.39999999999998\" width=\"175.99999999999997\" height=\"132.6\"/></clipPath><clipPath class=\"axesclip\" id=\"clipcfd822x3y3\"><rect x=\"413.99999999999994\" y=\"209.39999999999998\" width=\"175.99999999999997\" height=\"132.6\"/></clipPath><clipPath class=\"axesclip\" id=\"clipcfd822x3y4\"><rect x=\"413.99999999999994\" y=\"30\" width=\"175.99999999999997\" height=\"132.60000000000002\"/></clipPath><clipPath class=\"axesclip\" id=\"clipcfd822x3y5\"><rect x=\"413.99999999999994\" y=\"30\" width=\"175.99999999999997\" height=\"132.60000000000002\"/></clipPath><clipPath class=\"axesclip\" id=\"clipcfd822x3y6\"><rect x=\"413.99999999999994\" y=\"30\" width=\"175.99999999999997\" height=\"132.60000000000002\"/></clipPath><clipPath class=\"axesclip\" id=\"clipcfd822x4\"><rect x=\"40\" y=\"0\" width=\"175.99999999999997\" height=\"400\"/></clipPath><clipPath class=\"axesclip\" id=\"clipcfd822x4y\"><rect x=\"40\" y=\"209.39999999999998\" width=\"175.99999999999997\" height=\"132.6\"/></clipPath><clipPath class=\"axesclip\" id=\"clipcfd822x4y2\"><rect x=\"40\" y=\"209.39999999999998\" width=\"175.99999999999997\" height=\"132.6\"/></clipPath><clipPath class=\"axesclip\" id=\"clipcfd822x4y3\"><rect x=\"40\" y=\"209.39999999999998\" width=\"175.99999999999997\" height=\"132.6\"/></clipPath><clipPath class=\"axesclip\" id=\"clipcfd822x4y4\"><rect x=\"40\" y=\"30\" width=\"175.99999999999997\" height=\"132.60000000000002\"/></clipPath><clipPath class=\"axesclip\" id=\"clipcfd822x4y5\"><rect x=\"40\" y=\"30\" width=\"175.99999999999997\" height=\"132.60000000000002\"/></clipPath><clipPath class=\"axesclip\" id=\"clipcfd822x4y6\"><rect x=\"40\" y=\"30\" width=\"175.99999999999997\" height=\"132.60000000000002\"/></clipPath><clipPath class=\"axesclip\" id=\"clipcfd822x5\"><rect x=\"226.99999999999997\" y=\"0\" width=\"175.99999999999997\" height=\"400\"/></clipPath><clipPath class=\"axesclip\" id=\"clipcfd822x5y\"><rect x=\"226.99999999999997\" y=\"209.39999999999998\" width=\"175.99999999999997\" height=\"132.6\"/></clipPath><clipPath class=\"axesclip\" id=\"clipcfd822x5y2\"><rect x=\"226.99999999999997\" y=\"209.39999999999998\" width=\"175.99999999999997\" height=\"132.6\"/></clipPath><clipPath class=\"axesclip\" id=\"clipcfd822x5y3\"><rect x=\"226.99999999999997\" y=\"209.39999999999998\" width=\"175.99999999999997\" height=\"132.6\"/></clipPath><clipPath class=\"axesclip\" id=\"clipcfd822x5y4\"><rect x=\"226.99999999999997\" y=\"30\" width=\"175.99999999999997\" height=\"132.60000000000002\"/></clipPath><clipPath class=\"axesclip\" id=\"clipcfd822x5y5\"><rect x=\"226.99999999999997\" y=\"30\" width=\"175.99999999999997\" height=\"132.60000000000002\"/></clipPath><clipPath class=\"axesclip\" id=\"clipcfd822x5y6\"><rect x=\"226.99999999999997\" y=\"30\" width=\"175.99999999999997\" height=\"132.60000000000002\"/></clipPath><clipPath class=\"axesclip\" id=\"clipcfd822x6\"><rect x=\"413.99999999999994\" y=\"0\" width=\"175.99999999999997\" height=\"400\"/></clipPath><clipPath class=\"axesclip\" id=\"clipcfd822x6y\"><rect x=\"413.99999999999994\" y=\"209.39999999999998\" width=\"175.99999999999997\" height=\"132.6\"/></clipPath><clipPath class=\"axesclip\" id=\"clipcfd822x6y2\"><rect x=\"413.99999999999994\" y=\"209.39999999999998\" width=\"175.99999999999997\" height=\"132.6\"/></clipPath><clipPath class=\"axesclip\" id=\"clipcfd822x6y3\"><rect x=\"413.99999999999994\" y=\"209.39999999999998\" width=\"175.99999999999997\" height=\"132.6\"/></clipPath><clipPath class=\"axesclip\" id=\"clipcfd822x6y4\"><rect x=\"413.99999999999994\" y=\"30\" width=\"175.99999999999997\" height=\"132.60000000000002\"/></clipPath><clipPath class=\"axesclip\" id=\"clipcfd822x6y5\"><rect x=\"413.99999999999994\" y=\"30\" width=\"175.99999999999997\" height=\"132.60000000000002\"/></clipPath><clipPath class=\"axesclip\" id=\"clipcfd822x6y6\"><rect x=\"413.99999999999994\" y=\"30\" width=\"175.99999999999997\" height=\"132.60000000000002\"/></clipPath></g><g class=\"gradients\"/><g class=\"patterns\"/></defs><g class=\"bglayer\"/><g class=\"layer-below\"><g class=\"imagelayer\"/><g class=\"shapelayer\"/></g><g class=\"cartesianlayer\"><g class=\"subplot xy\"><g class=\"layer-subplot\"><g class=\"shapelayer\"/><g class=\"imagelayer\"/></g><g class=\"gridlayer\"><g class=\"x\"><path class=\"xgrid crisp\" transform=\"translate(65.14,0)\" d=\"M0,209.39999999999998v132.6\" style=\"stroke: rgb(232, 232, 232); stroke-opacity: 1; stroke-width: 1px;\"/><path class=\"xgrid crisp\" transform=\"translate(128,0)\" d=\"M0,209.39999999999998v132.6\" style=\"stroke: rgb(232, 232, 232); stroke-opacity: 1; stroke-width: 1px;\"/><path class=\"xgrid crisp\" transform=\"translate(190.86,0)\" d=\"M0,209.39999999999998v132.6\" style=\"stroke: rgb(232, 232, 232); stroke-opacity: 1; stroke-width: 1px;\"/></g><g class=\"y\"><path class=\"ygrid crisp\" transform=\"translate(0,335.94)\" d=\"M40,0h175.99999999999997\" style=\"stroke: rgb(232, 232, 232); stroke-opacity: 1; stroke-width: 1px;\"/><path class=\"ygrid crisp\" transform=\"translate(0,279.38)\" d=\"M40,0h175.99999999999997\" style=\"stroke: rgb(232, 232, 232); stroke-opacity: 1; stroke-width: 1px;\"/><path class=\"ygrid crisp\" transform=\"translate(0,222.81999999999996)\" d=\"M40,0h175.99999999999997\" style=\"stroke: rgb(232, 232, 232); stroke-opacity: 1; stroke-width: 1px;\"/></g></g><g class=\"zerolinelayer\"/><path class=\"xlines-below\"/><path class=\"ylines-below\"/><g class=\"overlines-below\"/><g class=\"xaxislayer-below\"/><g class=\"yaxislayer-below\"/><g class=\"overaxes-below\"/><g class=\"plot\" transform=\"translate(40,209.39999999999998)\" clip-path=\"url(#clipcfd822xyplot)\"><g class=\"scatterlayer mlayer\"><g class=\"trace scatter tracef26840\" style=\"stroke-miterlimit: 2; opacity: 1;\"><g class=\"fills\"/><g class=\"errorbars\"/><g class=\"lines\"><path class=\"js-line\" d=\"M41.49,125.86L49.03,125.86L50.29,125.52L52.8,125.86L62.86,125.52L77.94,125.97L104.34,125.86L109.37,125.74L113.14,125.63L116.91,125.86L118.17,125.97L123.2,125.74L132,125.74L138.29,125.74L139.54,125.4L140.8,125.07L142.06,125.52L145.83,125.18L147.09,123.26L149.6,116.47L150.86,116.47L154.63,112.85L155.89,113.53L159.66,107.87L160.91,105.38L163.43,96.56L164.69,93.73L165.94,87.96L167.2,88.53L169.71,66.81L170.97,57.99L172.23,50.97L173.49,55.61L176,6.63\" style=\"vector-effect: non-scaling-stroke; fill: none; stroke: rgb(31, 119, 180); stroke-opacity: 1; stroke-width: 2px; opacity: 1;\"/></g><g class=\"points\"/><g class=\"text\"/></g></g></g><g class=\"overplot\"/><path class=\"xlines-above crisp\" d=\"M39,342.5H215.99999999999997\" style=\"fill: none; stroke-width: 1px; stroke: rgb(36, 36, 36); stroke-opacity: 1;\"/><path class=\"ylines-above crisp\" d=\"M39.5,209.39999999999998V342\" style=\"fill: none; stroke-width: 1px; stroke: rgb(36, 36, 36); stroke-opacity: 1;\"/><g class=\"overlines-above\"/><g class=\"xaxislayer-above\"><path class=\"xtick ticks crisp\" d=\"M0,343v5\" transform=\"translate(65.14,0)\" style=\"stroke: rgb(68, 68, 68); stroke-opacity: 1; stroke-width: 1px;\"/><path class=\"xtick ticks crisp\" d=\"M0,343v5\" transform=\"translate(128,0)\" style=\"stroke: rgb(68, 68, 68); stroke-opacity: 1; stroke-width: 1px;\"/><path class=\"xtick ticks crisp\" d=\"M0,343v5\" transform=\"translate(190.86,0)\" style=\"stroke: rgb(68, 68, 68); stroke-opacity: 1; stroke-width: 1px;\"/><g class=\"xtick\"><text text-anchor=\"middle\" x=\"0\" y=\"362.4\" transform=\"translate(65.14,0)\" style=\"font-family: 'Open Sans', verdana, arial, sans-serif; font-size: 12px; fill: rgb(36, 36, 36); fill-opacity: 1; white-space: pre; opacity: 1;\">1900</text></g><g class=\"xtick\"><text text-anchor=\"middle\" x=\"0\" y=\"362.4\" style=\"font-family: 'Open Sans', verdana, arial, sans-serif; font-size: 12px; fill: rgb(36, 36, 36); fill-opacity: 1; white-space: pre; opacity: 1;\" transform=\"translate(128,0)\">1950</text></g><g class=\"xtick\"><text text-anchor=\"middle\" x=\"0\" y=\"362.4\" style=\"font-family: 'Open Sans', verdana, arial, sans-serif; font-size: 12px; fill: rgb(36, 36, 36); fill-opacity: 1; white-space: pre; opacity: 1;\" transform=\"translate(190.86,0)\">2000</text></g></g><g class=\"yaxislayer-above\"><path class=\"ytick ticks crisp\" d=\"M39,0h-5\" transform=\"translate(0,335.94)\" style=\"stroke: rgb(68, 68, 68); stroke-opacity: 1; stroke-width: 1px;\"/><path class=\"ytick ticks crisp\" d=\"M39,0h-5\" transform=\"translate(0,279.38)\" style=\"stroke: rgb(68, 68, 68); stroke-opacity: 1; stroke-width: 1px;\"/><path class=\"ytick ticks crisp\" d=\"M39,0h-5\" transform=\"translate(0,222.81999999999996)\" style=\"stroke: rgb(68, 68, 68); stroke-opacity: 1; stroke-width: 1px;\"/></g><g class=\"overaxes-above\"/></g><g class=\"subplot x2y2\"><g class=\"layer-subplot\"><g class=\"shapelayer\"/><g class=\"imagelayer\"/></g><g class=\"gridlayer\"><g class=\"x2\"><path class=\"x2grid crisp\" transform=\"translate(252.14,0)\" d=\"M0,209.39999999999998v132.6\" style=\"stroke: rgb(232, 232, 232); stroke-opacity: 1; stroke-width: 1px;\"/><path class=\"x2grid crisp\" transform=\"translate(315,0)\" d=\"M0,209.39999999999998v132.6\" style=\"stroke: rgb(232, 232, 232); stroke-opacity: 1; stroke-width: 1px;\"/><path class=\"x2grid crisp\" transform=\"translate(377.86,0)\" d=\"M0,209.39999999999998v132.6\" style=\"stroke: rgb(232, 232, 232); stroke-opacity: 1; stroke-width: 1px;\"/></g><g class=\"y2\"><path class=\"y2grid crisp\" transform=\"translate(0,336.19)\" d=\"M226.99999999999997,0h175.99999999999997\" style=\"stroke: rgb(232, 232, 232); stroke-opacity: 1; stroke-width: 1px;\"/><path class=\"y2grid crisp\" transform=\"translate(0,303.49)\" d=\"M226.99999999999997,0h175.99999999999997\" style=\"stroke: rgb(232, 232, 232); stroke-opacity: 1; stroke-width: 1px;\"/><path class=\"y2grid crisp\" transform=\"translate(0,270.79999999999995)\" d=\"M226.99999999999997,0h175.99999999999997\" style=\"stroke: rgb(232, 232, 232); stroke-opacity: 1; stroke-width: 1px;\"/><path class=\"y2grid crisp\" transform=\"translate(0,238.09999999999997)\" d=\"M226.99999999999997,0h175.99999999999997\" style=\"stroke: rgb(232, 232, 232); stroke-opacity: 1; stroke-width: 1px;\"/></g></g><g class=\"zerolinelayer\"/><path class=\"xlines-below\"/><path class=\"ylines-below\"/><g class=\"overlines-below\"/><g class=\"xaxislayer-below\"/><g class=\"yaxislayer-below\"/><g class=\"overaxes-below\"/><g class=\"plot\" transform=\"translate(226.99999999999997,209.39999999999998)\" clip-path=\"url(#clipcfd822x2y2plot)\"><g class=\"scatterlayer mlayer\"><g class=\"trace scatter trace799a87\" style=\"stroke-miterlimit: 2; opacity: 1;\"><g class=\"fills\"/><g class=\"errorbars\"/><g class=\"lines\"><path class=\"js-line\" d=\"M47.77,125.97L114.4,125.97L116.91,125.15L118.17,125.32L119.43,124.01L123.2,124.5L124.46,124.34L125.71,123.19L126.97,123.35L128.23,121.39L129.49,123.84L130.74,120.74L132,120.74L133.26,120.74L134.51,121.88L138.29,111.91L139.54,113.38L140.8,108.97L142.06,107.5L143.31,108.48L144.57,108.48L145.83,107.82L147.09,105.21L149.6,107.66L150.86,105.86L152.11,105.86L153.37,105.04L155.89,105.04L157.14,108.97L158.4,104.55L159.66,106.19L160.91,110.6L162.17,102.92L164.69,104.39L165.94,96.22L167.2,99.65L168.46,88.86L169.71,80.36L170.97,62.7L173.49,45.54L174.74,28.37L176,6.63\" style=\"vector-effect: non-scaling-stroke; fill: none; stroke: rgb(31, 119, 180); stroke-opacity: 1; stroke-width: 2px; opacity: 1;\"/></g><g class=\"points\"/><g class=\"text\"/></g></g></g><g class=\"overplot\"/><path class=\"xlines-above crisp\" d=\"M225.99999999999997,342.5H402.99999999999994\" style=\"fill: none; stroke-width: 1px; stroke: rgb(36, 36, 36); stroke-opacity: 1;\"/><path class=\"ylines-above crisp\" d=\"M226.49999999999997,209.39999999999998V342\" style=\"fill: none; stroke-width: 1px; stroke: rgb(36, 36, 36); stroke-opacity: 1;\"/><g class=\"overlines-above\"/><g class=\"xaxislayer-above\"><path class=\"x2tick ticks crisp\" d=\"M0,343v5\" transform=\"translate(252.14,0)\" style=\"stroke: rgb(68, 68, 68); stroke-opacity: 1; stroke-width: 1px;\"/><path class=\"x2tick ticks crisp\" d=\"M0,343v5\" transform=\"translate(315,0)\" style=\"stroke: rgb(68, 68, 68); stroke-opacity: 1; stroke-width: 1px;\"/><path class=\"x2tick ticks crisp\" d=\"M0,343v5\" transform=\"translate(377.86,0)\" style=\"stroke: rgb(68, 68, 68); stroke-opacity: 1; stroke-width: 1px;\"/><g class=\"x2tick\"><text text-anchor=\"middle\" x=\"0\" y=\"362.4\" transform=\"translate(252.14,0)\" style=\"font-family: 'Open Sans', verdana, arial, sans-serif; font-size: 12px; fill: rgb(36, 36, 36); fill-opacity: 1; white-space: pre; opacity: 1;\">1900</text></g><g class=\"x2tick\"><text text-anchor=\"middle\" x=\"0\" y=\"362.4\" style=\"font-family: 'Open Sans', verdana, arial, sans-serif; font-size: 12px; fill: rgb(36, 36, 36); fill-opacity: 1; white-space: pre; opacity: 1;\" transform=\"translate(315,0)\">1950</text></g><g class=\"x2tick\"><text text-anchor=\"middle\" x=\"0\" y=\"362.4\" style=\"font-family: 'Open Sans', verdana, arial, sans-serif; font-size: 12px; fill: rgb(36, 36, 36); fill-opacity: 1; white-space: pre; opacity: 1;\" transform=\"translate(377.86,0)\">2000</text></g></g><g class=\"yaxislayer-above\"><path class=\"y2tick ticks crisp\" d=\"M225.99999999999997,0h-5\" transform=\"translate(0,336.19)\" style=\"stroke: rgb(68, 68, 68); stroke-opacity: 1; stroke-width: 1px;\"/><path class=\"y2tick ticks crisp\" d=\"M225.99999999999997,0h-5\" transform=\"translate(0,303.49)\" style=\"stroke: rgb(68, 68, 68); stroke-opacity: 1; stroke-width: 1px;\"/><path class=\"y2tick ticks crisp\" d=\"M225.99999999999997,0h-5\" transform=\"translate(0,270.79999999999995)\" style=\"stroke: rgb(68, 68, 68); stroke-opacity: 1; stroke-width: 1px;\"/><path class=\"y2tick ticks crisp\" d=\"M225.99999999999997,0h-5\" transform=\"translate(0,238.09999999999997)\" style=\"stroke: rgb(68, 68, 68); stroke-opacity: 1; stroke-width: 1px;\"/></g><g class=\"overaxes-above\"/></g><g class=\"subplot x3y3\"><g class=\"layer-subplot\"><g class=\"shapelayer\"/><g class=\"imagelayer\"/></g><g class=\"gridlayer\"><g class=\"x3\"><path class=\"x3grid crisp\" transform=\"translate(439.13999999999993,0)\" d=\"M0,209.39999999999998v132.6\" style=\"stroke: rgb(232, 232, 232); stroke-opacity: 1; stroke-width: 1px;\"/><path class=\"x3grid crisp\" transform=\"translate(501.99999999999994,0)\" d=\"M0,209.39999999999998v132.6\" style=\"stroke: rgb(232, 232, 232); stroke-opacity: 1; stroke-width: 1px;\"/><path class=\"x3grid crisp\" transform=\"translate(564.8599999999999,0)\" d=\"M0,209.39999999999998v132.6\" style=\"stroke: rgb(232, 232, 232); stroke-opacity: 1; stroke-width: 1px;\"/></g><g class=\"y3\"><path class=\"y3grid crisp\" transform=\"translate(0,340.28)\" d=\"M413.99999999999994,0h175.99999999999997\" style=\"stroke: rgb(232, 232, 232); stroke-opacity: 1; stroke-width: 1px;\"/><path class=\"y3grid crisp\" transform=\"translate(0,304.66999999999996)\" d=\"M413.99999999999994,0h175.99999999999997\" style=\"stroke: rgb(232, 232, 232); stroke-opacity: 1; stroke-width: 1px;\"/><path class=\"y3grid crisp\" transform=\"translate(0,269.05999999999995)\" d=\"M413.99999999999994,0h175.99999999999997\" style=\"stroke: rgb(232, 232, 232); stroke-opacity: 1; stroke-width: 1px;\"/><path class=\"y3grid crisp\" transform=\"translate(0,233.43999999999997)\" d=\"M413.99999999999994,0h175.99999999999997\" style=\"stroke: rgb(232, 232, 232); stroke-opacity: 1; stroke-width: 1px;\"/></g></g><g class=\"zerolinelayer\"/><path class=\"xlines-below\"/><path class=\"ylines-below\"/><g class=\"overlines-below\"/><g class=\"xaxislayer-below\"/><g class=\"yaxislayer-below\"/><g class=\"overaxes-below\"/><g class=\"plot\" transform=\"translate(413.99999999999994,209.39999999999998)\" clip-path=\"url(#clipcfd822x3y3plot)\"><g class=\"scatterlayer mlayer\"><g class=\"trace scatter trace0a4eec\" style=\"stroke-miterlimit: 2; opacity: 1;\"><g class=\"fills\"/><g class=\"errorbars\"/><g class=\"lines\"><path class=\"js-line\" d=\"M0,125.19L1.26,125.97L2.51,124.47L6.29,125.29L7.54,124.72L8.8,124.87L10.06,123.33L11.31,125.01L12.57,124.97L13.83,125.15L15.09,123.83L16.34,123.66L17.6,124.55L21.37,125.22L22.63,124.44L23.89,125.15L25.14,123.55L27.66,125.22L28.91,124.72L31.43,124.12L32.69,124.12L35.2,121.34L36.46,121.3L37.71,118.24L38.97,117.78L40.23,103.6L41.49,100.76L44,81.77L45.26,81.63L47.77,79.67L49.03,83.48L51.54,82.95L52.8,84.69L55.31,90.14L56.57,91.57L57.83,93.21L59.09,97.59L61.6,100.15L62.86,101.29L64.11,104.78L65.37,105.14L66.63,110.98L67.89,110.09L70.4,111.37L71.66,110.59L74.17,111.48L75.43,109.48L77.94,109.48L79.2,108.13L81.71,113.18L82.97,110.76L84.23,108.66L85.49,110.66L86.74,110.76L88,112.22L89.26,112.22L90.51,113.47L93.03,109.27L94.29,108.77L95.54,112.19L96.8,109.3L98.06,112.83L99.31,112.19L100.57,112.58L101.83,114.93L103.09,114.86L104.34,112.72L105.6,112.69L106.86,114.25L110.63,116.92L111.89,116.5L114.4,115.78L115.66,117.14L116.91,117.71L118.17,117.14L119.43,117.85L120.69,117.1L121.94,113.58L123.2,113.33L126.97,110.3L128.23,109.77L129.49,108.73L130.74,110.62L133.26,112.79L134.51,110.62L137.03,109.66L138.29,107.17L140.8,109.3L142.06,112.79L143.31,113.93L144.57,112.29L145.83,111.94L147.09,110.09L148.34,110.48L149.6,109.91L150.86,107.27L152.11,101.82L155.89,96.23L157.14,90.86L159.66,76.97L160.91,75.29L163.43,80.88L164.69,79.57L165.94,78.68L167.2,71.45L169.71,42.42L170.97,35.76L173.49,26.04L174.74,12.65L176,6.63\" style=\"vector-effect: non-scaling-stroke; fill: none; stroke: rgb(31, 119, 180); stroke-opacity: 1; stroke-width: 2px; opacity: 1;\"/></g><g class=\"points\"/><g class=\"text\"/></g></g></g><g class=\"overplot\"/><path class=\"xlines-above crisp\" d=\"M412.99999999999994,342.5H589.9999999999999\" style=\"fill: none; stroke-width: 1px; stroke: rgb(36, 36, 36); stroke-opacity: 1;\"/><path class=\"ylines-above crisp\" d=\"M413.49999999999994,209.39999999999998V342\" style=\"fill: none; stroke-width: 1px; stroke: rgb(36, 36, 36); stroke-opacity: 1;\"/><g class=\"overlines-above\"/><g class=\"xaxislayer-above\"><path class=\"x3tick ticks crisp\" d=\"M0,343v5\" transform=\"translate(439.13999999999993,0)\" style=\"stroke: rgb(68, 68, 68); stroke-opacity: 1; stroke-width: 1px;\"/><path class=\"x3tick ticks crisp\" d=\"M0,343v5\" transform=\"translate(501.99999999999994,0)\" style=\"stroke: rgb(68, 68, 68); stroke-opacity: 1; stroke-width: 1px;\"/><path class=\"x3tick ticks crisp\" d=\"M0,343v5\" transform=\"translate(564.8599999999999,0)\" style=\"stroke: rgb(68, 68, 68); stroke-opacity: 1; stroke-width: 1px;\"/><g class=\"x3tick\"><text text-anchor=\"middle\" x=\"0\" y=\"362.4\" transform=\"translate(439.13999999999993,0)\" style=\"font-family: 'Open Sans', verdana, arial, sans-serif; font-size: 12px; fill: rgb(36, 36, 36); fill-opacity: 1; white-space: pre; opacity: 1;\">1900</text></g><g class=\"x3tick\"><text text-anchor=\"middle\" x=\"0\" y=\"362.4\" style=\"font-family: 'Open Sans', verdana, arial, sans-serif; font-size: 12px; fill: rgb(36, 36, 36); fill-opacity: 1; white-space: pre; opacity: 1;\" transform=\"translate(501.99999999999994,0)\">1950</text></g><g class=\"x3tick\"><text text-anchor=\"middle\" x=\"0\" y=\"362.4\" style=\"font-family: 'Open Sans', verdana, arial, sans-serif; font-size: 12px; fill: rgb(36, 36, 36); fill-opacity: 1; white-space: pre; opacity: 1;\" transform=\"translate(564.8599999999999,0)\">2000</text></g></g><g class=\"yaxislayer-above\"><path class=\"y3tick ticks crisp\" d=\"M412.99999999999994,0h-5\" transform=\"translate(0,340.28)\" style=\"stroke: rgb(68, 68, 68); stroke-opacity: 1; stroke-width: 1px;\"/><path class=\"y3tick ticks crisp\" d=\"M412.99999999999994,0h-5\" transform=\"translate(0,304.66999999999996)\" style=\"stroke: rgb(68, 68, 68); stroke-opacity: 1; stroke-width: 1px;\"/><path class=\"y3tick ticks crisp\" d=\"M412.99999999999994,0h-5\" transform=\"translate(0,269.05999999999995)\" style=\"stroke: rgb(68, 68, 68); stroke-opacity: 1; stroke-width: 1px;\"/><path class=\"y3tick ticks crisp\" d=\"M412.99999999999994,0h-5\" transform=\"translate(0,233.43999999999997)\" style=\"stroke: rgb(68, 68, 68); stroke-opacity: 1; stroke-width: 1px;\"/></g><g class=\"overaxes-above\"/></g><g class=\"subplot x4y4\"><g class=\"layer-subplot\"><g class=\"shapelayer\"/><g class=\"imagelayer\"/></g><g class=\"gridlayer\"><g class=\"x4\"><path class=\"x4grid crisp\" transform=\"translate(65.14,0)\" d=\"M0,30v132.60000000000002\" style=\"stroke: rgb(232, 232, 232); stroke-opacity: 1; stroke-width: 1px;\"/><path class=\"x4grid crisp\" transform=\"translate(128,0)\" d=\"M0,30v132.60000000000002\" style=\"stroke: rgb(232, 232, 232); stroke-opacity: 1; stroke-width: 1px;\"/><path class=\"x4grid crisp\" transform=\"translate(190.86,0)\" d=\"M0,30v132.60000000000002\" style=\"stroke: rgb(232, 232, 232); stroke-opacity: 1; stroke-width: 1px;\"/></g><g class=\"y4\"><path class=\"y4grid crisp\" transform=\"translate(0,156.29000000000002)\" d=\"M40,0h175.99999999999997\" style=\"stroke: rgb(232, 232, 232); stroke-opacity: 1; stroke-width: 1px;\"/><path class=\"y4grid crisp\" transform=\"translate(0,100.65)\" d=\"M40,0h175.99999999999997\" style=\"stroke: rgb(232, 232, 232); stroke-opacity: 1; stroke-width: 1px;\"/><path class=\"y4grid crisp\" transform=\"translate(0,45)\" d=\"M40,0h175.99999999999997\" style=\"stroke: rgb(232, 232, 232); stroke-opacity: 1; stroke-width: 1px;\"/></g></g><g class=\"zerolinelayer\"/><path class=\"xlines-below\"/><path class=\"ylines-below\"/><g class=\"overlines-below\"/><g class=\"xaxislayer-below\"/><g class=\"yaxislayer-below\"/><g class=\"overaxes-below\"/><g class=\"plot\" transform=\"translate(40,30)\" clip-path=\"url(#clipcfd822x4y4plot)\"><g class=\"scatterlayer mlayer\"><g class=\"trace scatter trace6a6bc4\" style=\"stroke-miterlimit: 2; opacity: 1;\"><g class=\"fills\"/><g class=\"errorbars\"/><g class=\"lines\"><path class=\"js-line\" d=\"M0,125.97L50.29,125.04L51.54,124.95L56.57,123.94L57.83,123.32L61.6,120.62L62.86,118.99L67.89,115.29L69.14,114.16L71.66,111.94L72.91,108.67L74.17,106.57L75.43,102.71L79.2,83.82L80.46,83.9L81.71,81.41L82.97,65.94L85.49,54.37L86.74,52.3L88,50L89.26,42.65L90.51,39.55L91.77,34.13L95.54,12.66L96.8,7.36L98.06,6.63L99.31,10.63L104.34,34.57L105.6,42.23L106.86,48.26L108.11,61.35L111.89,79.56L113.14,83.28L116.91,100.75L118.17,102.74L123.2,109.68L124.46,110.58L133.26,117.77L134.51,118.42L140.8,119.88L142.06,120.21L144.57,121.41L145.83,121.33L149.6,122.16L150.86,122.18L160.91,123.17L162.17,123.72L176,125.33\" style=\"vector-effect: non-scaling-stroke; fill: none; stroke: rgb(31, 119, 180); stroke-opacity: 1; stroke-width: 2px; opacity: 1;\"/></g><g class=\"points\"/><g class=\"text\"/></g></g></g><g class=\"overplot\"/><path class=\"xlines-above crisp\" d=\"M39,163.10000000000002H215.99999999999997\" style=\"fill: none; stroke-width: 1px; stroke: rgb(36, 36, 36); stroke-opacity: 1;\"/><path class=\"ylines-above crisp\" d=\"M39.5,30V162.60000000000002\" style=\"fill: none; stroke-width: 1px; stroke: rgb(36, 36, 36); stroke-opacity: 1;\"/><g class=\"overlines-above\"/><g class=\"xaxislayer-above\"><path class=\"x4tick ticks crisp\" d=\"M0,163.60000000000002v5\" transform=\"translate(65.14,0)\" style=\"stroke: rgb(68, 68, 68); stroke-opacity: 1; stroke-width: 1px;\"/><path class=\"x4tick ticks crisp\" d=\"M0,163.60000000000002v5\" transform=\"translate(128,0)\" style=\"stroke: rgb(68, 68, 68); stroke-opacity: 1; stroke-width: 1px;\"/><path class=\"x4tick ticks crisp\" d=\"M0,163.60000000000002v5\" transform=\"translate(190.86,0)\" style=\"stroke: rgb(68, 68, 68); stroke-opacity: 1; stroke-width: 1px;\"/></g><g class=\"yaxislayer-above\"><path class=\"y4tick ticks crisp\" d=\"M39,0h-5\" transform=\"translate(0,156.29000000000002)\" style=\"stroke: rgb(68, 68, 68); stroke-opacity: 1; stroke-width: 1px;\"/><path class=\"y4tick ticks crisp\" d=\"M39,0h-5\" transform=\"translate(0,100.65)\" style=\"stroke: rgb(68, 68, 68); stroke-opacity: 1; stroke-width: 1px;\"/><path class=\"y4tick ticks crisp\" d=\"M39,0h-5\" transform=\"translate(0,45)\" style=\"stroke: rgb(68, 68, 68); stroke-opacity: 1; stroke-width: 1px;\"/></g><g class=\"overaxes-above\"/></g><g class=\"subplot x5y5\"><g class=\"layer-subplot\"><g class=\"shapelayer\"/><g class=\"imagelayer\"/></g><g class=\"gridlayer\"><g class=\"x5\"><path class=\"x5grid crisp\" transform=\"translate(252.14,0)\" d=\"M0,30v132.60000000000002\" style=\"stroke: rgb(232, 232, 232); stroke-opacity: 1; stroke-width: 1px;\"/><path class=\"x5grid crisp\" transform=\"translate(315,0)\" d=\"M0,30v132.60000000000002\" style=\"stroke: rgb(232, 232, 232); stroke-opacity: 1; stroke-width: 1px;\"/><path class=\"x5grid crisp\" transform=\"translate(377.86,0)\" d=\"M0,30v132.60000000000002\" style=\"stroke: rgb(232, 232, 232); stroke-opacity: 1; stroke-width: 1px;\"/></g><g class=\"y5\"><path class=\"y5grid crisp\" transform=\"translate(0,156.56)\" d=\"M226.99999999999997,0h175.99999999999997\" style=\"stroke: rgb(232, 232, 232); stroke-opacity: 1; stroke-width: 1px;\"/><path class=\"y5grid crisp\" transform=\"translate(0,97.71)\" d=\"M226.99999999999997,0h175.99999999999997\" style=\"stroke: rgb(232, 232, 232); stroke-opacity: 1; stroke-width: 1px;\"/><path class=\"y5grid crisp\" transform=\"translate(0,38.87)\" d=\"M226.99999999999997,0h175.99999999999997\" style=\"stroke: rgb(232, 232, 232); stroke-opacity: 1; stroke-width: 1px;\"/></g></g><g class=\"zerolinelayer\"/><path class=\"xlines-below\"/><path class=\"ylines-below\"/><g class=\"overlines-below\"/><g class=\"xaxislayer-below\"/><g class=\"yaxislayer-below\"/><g class=\"overaxes-below\"/><g class=\"plot\" transform=\"translate(226.99999999999997,30)\" clip-path=\"url(#clipcfd822x5y5plot)\"><g class=\"scatterlayer mlayer\"><g class=\"trace scatter tracea000b3\" style=\"stroke-miterlimit: 2; opacity: 1;\"><g class=\"fills\"/><g class=\"errorbars\"/><g class=\"lines\"><path class=\"js-line\" d=\"M0,125.85L5.03,125.5L7.54,125.03L10.06,125.73L11.31,124.91L12.57,125.73L13.83,124.68L15.09,125.97L16.34,125.85L20.11,123.97L21.37,124.2L22.63,124.09L23.89,124.79L25.14,123.62L26.4,125.15L27.66,123.5L28.91,124.79L30.17,123.97L31.43,124.2L32.69,124.91L33.94,123.73L35.2,124.56L36.46,124.2L40.23,123.03L41.49,121.97L42.74,122.09L44,118.08L45.26,117.26L46.51,120.09L47.77,118.67L49.03,119.14L50.29,120.2L51.54,118.67L52.8,120.32L54.06,118.91L55.31,120.91L56.57,121.14L57.83,122.44L59.09,121.97L60.34,121.26L61.6,123.26L62.86,121.73L64.11,122.44L66.63,123.38L67.89,123.15L69.14,124.91L70.4,124.09L71.66,123.97L72.91,125.15L74.17,124.09L75.43,124.68L79.2,123.85L80.46,124.79L84.23,122.44L85.49,123.5L86.74,120.79L88,120.09L89.26,122.44L90.51,119.97L91.77,120.67L93.03,117.97L95.54,108.67L96.8,111.26L98.06,111.14L99.31,91.13L100.57,105.37L101.83,99.72L103.09,105.26L104.34,101.25L106.86,105.73L108.11,105.26L109.37,100.31L110.63,107.85L111.89,107.61L113.14,101.49L114.4,94.31L115.66,92.55L118.17,89.49L119.43,90.54L121.94,87.72L123.2,87.84L124.46,84.42L125.71,85.84L126.97,90.66L128.23,89.01L130.74,102.08L132,102.08L133.26,99.84L134.51,84.31L135.77,87.01L137.03,83.13L138.29,79.48L139.54,80.54L140.8,79.48L142.06,77.36L143.31,77.36L144.57,70.89L145.83,64.65L147.09,43.11L149.6,51.12L150.86,38.52L152.11,39.47L153.37,33.23L154.63,25.7L155.89,23.7L157.14,21.69L158.4,24.75L160.91,32.4L162.17,32.88L163.43,33.46L164.69,38.17L165.94,26.52L167.2,25.7L168.46,6.63L169.71,9.34L170.97,11.93L172.23,16.63L174.74,14.87L176,24.64\" style=\"vector-effect: non-scaling-stroke; fill: none; stroke: rgb(31, 119, 180); stroke-opacity: 1; stroke-width: 2px; opacity: 1;\"/></g><g class=\"points\"/><g class=\"text\"/></g></g></g><g class=\"overplot\"/><path class=\"xlines-above crisp\" d=\"M225.99999999999997,163.10000000000002H402.99999999999994\" style=\"fill: none; stroke-width: 1px; stroke: rgb(36, 36, 36); stroke-opacity: 1;\"/><path class=\"ylines-above crisp\" d=\"M226.49999999999997,30V162.60000000000002\" style=\"fill: none; stroke-width: 1px; stroke: rgb(36, 36, 36); stroke-opacity: 1;\"/><g class=\"overlines-above\"/><g class=\"xaxislayer-above\"><path class=\"x5tick ticks crisp\" d=\"M0,163.60000000000002v5\" transform=\"translate(252.14,0)\" style=\"stroke: rgb(68, 68, 68); stroke-opacity: 1; stroke-width: 1px;\"/><path class=\"x5tick ticks crisp\" d=\"M0,163.60000000000002v5\" transform=\"translate(315,0)\" style=\"stroke: rgb(68, 68, 68); stroke-opacity: 1; stroke-width: 1px;\"/><path class=\"x5tick ticks crisp\" d=\"M0,163.60000000000002v5\" transform=\"translate(377.86,0)\" style=\"stroke: rgb(68, 68, 68); stroke-opacity: 1; stroke-width: 1px;\"/></g><g class=\"yaxislayer-above\"><path class=\"y5tick ticks crisp\" d=\"M225.99999999999997,0h-5\" transform=\"translate(0,156.56)\" style=\"stroke: rgb(68, 68, 68); stroke-opacity: 1; stroke-width: 1px;\"/><path class=\"y5tick ticks crisp\" d=\"M225.99999999999997,0h-5\" transform=\"translate(0,97.71)\" style=\"stroke: rgb(68, 68, 68); stroke-opacity: 1; stroke-width: 1px;\"/><path class=\"y5tick ticks crisp\" d=\"M225.99999999999997,0h-5\" transform=\"translate(0,38.87)\" style=\"stroke: rgb(68, 68, 68); stroke-opacity: 1; stroke-width: 1px;\"/></g><g class=\"overaxes-above\"/></g><g class=\"subplot x6y6\"><g class=\"layer-subplot\"><g class=\"shapelayer\"/><g class=\"imagelayer\"/></g><g class=\"gridlayer\"><g class=\"x6\"><path class=\"x6grid crisp\" transform=\"translate(439.13999999999993,0)\" d=\"M0,30v132.60000000000002\" style=\"stroke: rgb(232, 232, 232); stroke-opacity: 1; stroke-width: 1px;\"/><path class=\"x6grid crisp\" transform=\"translate(501.99999999999994,0)\" d=\"M0,30v132.60000000000002\" style=\"stroke: rgb(232, 232, 232); stroke-opacity: 1; stroke-width: 1px;\"/><path class=\"x6grid crisp\" transform=\"translate(564.8599999999999,0)\" d=\"M0,30v132.60000000000002\" style=\"stroke: rgb(232, 232, 232); stroke-opacity: 1; stroke-width: 1px;\"/></g><g class=\"y6\"><path class=\"y6grid crisp\" transform=\"translate(0,156.47)\" d=\"M413.99999999999994,0h175.99999999999997\" style=\"stroke: rgb(232, 232, 232); stroke-opacity: 1; stroke-width: 1px;\"/><path class=\"y6grid crisp\" transform=\"translate(0,106.08)\" d=\"M413.99999999999994,0h175.99999999999997\" style=\"stroke: rgb(232, 232, 232); stroke-opacity: 1; stroke-width: 1px;\"/><path class=\"y6grid crisp\" transform=\"translate(0,55.68)\" d=\"M413.99999999999994,0h175.99999999999997\" style=\"stroke: rgb(232, 232, 232); stroke-opacity: 1; stroke-width: 1px;\"/></g></g><g class=\"zerolinelayer\"/><path class=\"xlines-below\"/><path class=\"ylines-below\"/><g class=\"overlines-below\"/><g class=\"xaxislayer-below\"/><g class=\"yaxislayer-below\"/><g class=\"overaxes-below\"/><g class=\"plot\" transform=\"translate(413.99999999999994,30)\" clip-path=\"url(#clipcfd822x6y6plot)\"><g class=\"scatterlayer mlayer\"><g class=\"trace scatter trace3837dd\" style=\"stroke-miterlimit: 2; opacity: 1;\"><g class=\"fills\"/><g class=\"errorbars\"/><g class=\"lines\"><path class=\"js-line\" d=\"M0,125.77L20.11,125.47L21.37,125.06L35.2,125.87L37.71,125.26L40.23,125.97L41.49,125.37L44,122.34L45.26,122.64L46.51,123.05L47.77,122.64L49.03,122.95L50.29,122.24L55.31,122.74L56.57,123.15L60.34,123.15L61.6,124.76L64.11,124.16L65.37,124.76L67.89,123.55L69.14,124.05L70.4,124.76L71.66,124.36L72.91,124.96L74.17,124.26L82.97,125.26L84.23,123.85L86.74,124.26L88,124.26L89.26,125.37L90.51,124.36L91.77,124.05L93.03,124.56L94.29,124.56L96.8,123.75L98.06,124.96L99.31,124.76L106.86,125.87L108.11,125.47L110.63,125.47L111.89,124.26L113.14,125.47L114.4,125.16L115.66,125.67L116.91,123.85L118.17,123.45L119.43,124.16L120.69,124.16L121.94,121.33L123.2,123.35L124.46,123.55L125.71,122.54L126.97,123.85L128.23,124.05L129.49,121.33L133.26,124.26L134.51,121.23L137.03,121.64L138.29,119.12L140.8,119.42L142.06,117.1L144.57,117.81L145.83,115.29L147.09,114.48L148.34,110.95L149.6,110.75L150.86,108.13L152.11,103.09L153.37,106.52L154.63,102.59L155.89,101.68L157.14,101.78L158.4,97.85L159.66,99.36L160.91,96.84L162.17,91.4L163.43,89.99L164.69,93.01L165.94,83.94L167.2,84.44L168.46,80.01L170.97,41.4L172.23,43.82L176,6.63\" style=\"vector-effect: non-scaling-stroke; fill: none; stroke: rgb(31, 119, 180); stroke-opacity: 1; stroke-width: 2px; opacity: 1;\"/></g><g class=\"points\"/><g class=\"text\"/></g></g></g><g class=\"overplot\"/><path class=\"xlines-above crisp\" d=\"M412.99999999999994,163.10000000000002H589.9999999999999\" style=\"fill: none; stroke-width: 1px; stroke: rgb(36, 36, 36); stroke-opacity: 1;\"/><path class=\"ylines-above crisp\" d=\"M413.49999999999994,30V162.60000000000002\" style=\"fill: none; stroke-width: 1px; stroke: rgb(36, 36, 36); stroke-opacity: 1;\"/><g class=\"overlines-above\"/><g class=\"xaxislayer-above\"><path class=\"x6tick ticks crisp\" d=\"M0,163.60000000000002v5\" transform=\"translate(439.13999999999993,0)\" style=\"stroke: rgb(68, 68, 68); stroke-opacity: 1; stroke-width: 1px;\"/><path class=\"x6tick ticks crisp\" d=\"M0,163.60000000000002v5\" transform=\"translate(501.99999999999994,0)\" style=\"stroke: rgb(68, 68, 68); stroke-opacity: 1; stroke-width: 1px;\"/><path class=\"x6tick ticks crisp\" d=\"M0,163.60000000000002v5\" transform=\"translate(564.8599999999999,0)\" style=\"stroke: rgb(68, 68, 68); stroke-opacity: 1; stroke-width: 1px;\"/></g><g class=\"yaxislayer-above\"><path class=\"y6tick ticks crisp\" d=\"M412.99999999999994,0h-5\" transform=\"translate(0,156.47)\" style=\"stroke: rgb(68, 68, 68); stroke-opacity: 1; stroke-width: 1px;\"/><path class=\"y6tick ticks crisp\" d=\"M412.99999999999994,0h-5\" transform=\"translate(0,106.08)\" style=\"stroke: rgb(68, 68, 68); stroke-opacity: 1; stroke-width: 1px;\"/><path class=\"y6tick ticks crisp\" d=\"M412.99999999999994,0h-5\" transform=\"translate(0,55.68)\" style=\"stroke: rgb(68, 68, 68); stroke-opacity: 1; stroke-width: 1px;\"/></g><g class=\"overaxes-above\"/></g></g><g class=\"polarlayer\"/><g class=\"smithlayer\"/><g class=\"ternarylayer\"/><g class=\"geolayer\"/><g class=\"funnelarealayer\"/><g class=\"pielayer\"/><g class=\"iciclelayer\"/><g class=\"treemaplayer\"/><g class=\"sunburstlayer\"/><g class=\"glimages\"/><defs id=\"topdefs-cfd822\"><g class=\"clips\"/></defs><g class=\"layer-above\"><g class=\"imagelayer\"/><g class=\"shapelayer\"/></g><g class=\"infolayer\"><g class=\"g-gtitle\"/><g class=\"g-xtitle\"><text class=\"xtitle\" x=\"127.99999999999999\" y=\"389.70625\" text-anchor=\"middle\" style=\"font-family: 'Open Sans', verdana, arial, sans-serif; font-size: 14px; fill: rgb(36, 36, 36); opacity: 1; font-weight: normal; white-space: pre;\">Year</text></g><g class=\"g-x2title\"><text class=\"x2title\" x=\"314.99999999999994\" y=\"389.70625\" text-anchor=\"middle\" style=\"font-family: 'Open Sans', verdana, arial, sans-serif; font-size: 14px; fill: rgb(36, 36, 36); opacity: 1; font-weight: normal; white-space: pre;\">Year</text></g><g class=\"g-x3title\"><text class=\"x3title\" x=\"501.99999999999994\" y=\"389.70625\" text-anchor=\"middle\" style=\"font-family: 'Open Sans', verdana, arial, sans-serif; font-size: 14px; fill: rgb(36, 36, 36); opacity: 1; font-weight: normal; white-space: pre;\">Year</text></g><g class=\"g-x4title\"/><g class=\"g-x5title\"/><g class=\"g-x6title\"/><g class=\"g-ytitle\" transform=\"translate(3.8125,0)\"><text class=\"ytitle\" transform=\"rotate(-90,10.200000000000003,275.7)\" x=\"10.200000000000003\" y=\"275.7\" text-anchor=\"middle\" style=\"font-family: 'Open Sans', verdana, arial, sans-serif; font-size: 14px; fill: rgb(36, 36, 36); opacity: 1; font-weight: normal; white-space: pre;\">Count</text></g><g class=\"g-y2title\"/><g class=\"g-y3title\"/><g class=\"g-y4title\" transform=\"translate(3.802734375,0)\"><text class=\"y4title\" transform=\"rotate(-90,10.200000000000003,96.30000000000001)\" x=\"10.200000000000003\" y=\"96.30000000000001\" text-anchor=\"middle\" style=\"font-family: 'Open Sans', verdana, arial, sans-serif; font-size: 14px; fill: rgb(36, 36, 36); opacity: 1; font-weight: normal; white-space: pre;\">Count</text></g><g class=\"g-y5title\"/><g class=\"g-y6title\"/><g class=\"annotation\" data-index=\"0\" style=\"opacity: 1;\"><g class=\"annotation-text-g\" transform=\"rotate(0,127.99999999999999,199.89999999999998)\"><g class=\"cursor-pointer\" transform=\"translate(66,190)\"><rect class=\"bg\" x=\"0.5\" y=\"0.5\" width=\"122\" height=\"18\" style=\"stroke-width: 1px; stroke: rgb(0, 0, 0); stroke-opacity: 0; fill: rgb(0, 0, 0); fill-opacity: 0;\"/><text class=\"annotation-text\" text-anchor=\"middle\" x=\"61.625\" y=\"14\" style=\"font-family: 'Open Sans', verdana, arial, sans-serif; font-size: 12px; fill: rgb(36, 36, 36); fill-opacity: 1; white-space: pre;\">category=forbidden</text></g></g></g><g class=\"annotation\" data-index=\"1\" style=\"opacity: 1;\"><g class=\"annotation-text-g\" transform=\"rotate(0,314.99999999999994,199.89999999999998)\"><g class=\"cursor-pointer\" transform=\"translate(259,190)\"><rect class=\"bg\" x=\"0.5\" y=\"0.5\" width=\"110\" height=\"18\" style=\"stroke-width: 1px; stroke: rgb(0, 0, 0); stroke-opacity: 0; fill: rgb(0, 0, 0); fill-opacity: 0;\"/><text class=\"annotation-text\" text-anchor=\"middle\" x=\"55.734375\" y=\"14\" style=\"font-family: 'Open Sans', verdana, arial, sans-serif; font-size: 12px; fill: rgb(36, 36, 36); fill-opacity: 1; white-space: pre;\">category=mineral</text></g></g></g><g class=\"annotation\" data-index=\"2\" style=\"opacity: 1;\"><g class=\"annotation-text-g\" transform=\"rotate(0,501.99999999999994,199.89999999999998)\"><g class=\"cursor-pointer\" transform=\"translate(437,190)\"><rect class=\"bg\" x=\"0.5\" y=\"0.5\" width=\"129\" height=\"18\" style=\"stroke-width: 1px; stroke: rgb(0, 0, 0); stroke-opacity: 0; fill: rgb(0, 0, 0); fill-opacity: 0;\"/><text class=\"annotation-text\" text-anchor=\"middle\" x=\"64.84375\" y=\"14\" style=\"font-family: 'Open Sans', verdana, arial, sans-serif; font-size: 12px; fill: rgb(36, 36, 36); fill-opacity: 1; white-space: pre;\">category=mythology</text></g></g></g><g class=\"annotation\" data-index=\"3\" style=\"opacity: 1;\"><g class=\"annotation-text-g\" transform=\"rotate(0,127.99999999999999,20.499999999999996)\"><g class=\"cursor-pointer\" transform=\"translate(72,11)\"><rect class=\"bg\" x=\"0.5\" y=\"0.5\" width=\"111\" height=\"18\" style=\"stroke-width: 1px; stroke: rgb(0, 0, 0); stroke-opacity: 0; fill: rgb(0, 0, 0); fill-opacity: 0;\"/><text class=\"annotation-text\" text-anchor=\"middle\" x=\"56.0625\" y=\"14\" style=\"font-family: 'Open Sans', verdana, arial, sans-serif; font-size: 12px; fill: rgb(36, 36, 36); fill-opacity: 1; white-space: pre;\">category=boomer</text></g></g></g><g class=\"annotation\" data-index=\"4\" style=\"opacity: 1;\"><g class=\"annotation-text-g\" transform=\"rotate(0,314.99999999999994,20.499999999999996)\"><g class=\"cursor-pointer\" transform=\"translate(257,11)\"><rect class=\"bg\" x=\"0.5\" y=\"0.5\" width=\"114\" height=\"18\" style=\"stroke-width: 1px; stroke: rgb(0, 0, 0); stroke-opacity: 0; fill: rgb(0, 0, 0); fill-opacity: 0;\"/><text class=\"annotation-text\" text-anchor=\"middle\" x=\"57.390625\" y=\"14\" style=\"font-family: 'Open Sans', verdana, arial, sans-serif; font-size: 12px; fill: rgb(36, 36, 36); fill-opacity: 1; white-space: pre;\">category=celestial</text></g></g></g><g class=\"annotation\" data-index=\"5\" style=\"opacity: 1;\"><g class=\"annotation-text-g\" transform=\"rotate(0,501.99999999999994,20.499999999999996)\"><g class=\"cursor-pointer\" transform=\"translate(435,11)\"><rect class=\"bg\" x=\"0.5\" y=\"0.5\" width=\"132\" height=\"18\" style=\"stroke-width: 1px; stroke: rgb(0, 0, 0); stroke-opacity: 0; fill: rgb(0, 0, 0); fill-opacity: 0;\"/><text class=\"annotation-text\" text-anchor=\"middle\" x=\"66.578125\" y=\"14\" style=\"font-family: 'Open Sans', verdana, arial, sans-serif; font-size: 12px; fill: rgb(36, 36, 36); fill-opacity: 1; white-space: pre;\">category=evangelical</text></g></g></g></g></svg>"
      ]
     },
     "metadata": {},
     "output_type": "display_data"
    }
   ],
   "source": [
    "fig = px.line(cate_counts, x='Year', y='Count',\n",
    "              facet_col='category', facet_col_wrap=3,\n",
    "              facet_row_spacing=0.15,\n",
    "              width=600, height=400)\n",
    "margin(fig, t=30)\n",
    "fig.update_yaxes(matches=None, showticklabels=False)"
   ]
  },
  {
   "attachments": {},
   "cell_type": "markdown",
   "metadata": {},
   "source": [
    "In this section, we introduced joins for dataframes.\n",
    "When joining dataframes together, we match rows using the `.merge()` function.\n",
    "It's important to consider the type of join (inner, left, right, or outer)\n",
    "when joining dataframes.\n",
    "In the next section, we'll explain how to transform values in a dataframe."
   ]
  }
 ],
 "metadata": {
  "celltoolbar": "Tags",
  "kernelspec": {
   "display_name": "Python 3",
   "language": "python",
   "name": "python3"
  },
  "language_info": {
   "codemirror_mode": {
    "name": "ipython",
    "version": 3
   },
   "file_extension": ".py",
   "mimetype": "text/x-python",
   "name": "python",
   "nbconvert_exporter": "python",
   "pygments_lexer": "ipython3",
   "version": "3.9.4"
  }
 },
 "nbformat": 4,
 "nbformat_minor": 4
}
