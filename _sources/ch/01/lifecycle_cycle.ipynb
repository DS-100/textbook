{
 "cells": [
  {
   "cell_type": "code",
   "execution_count": 1,
   "metadata": {
    "tags": [
     "remove-cell"
    ]
   },
   "outputs": [],
   "source": [
    "import sys\n",
    "import os\n",
    "if not any(path.endswith('textbook') for path in sys.path):\n",
    "    sys.path.append(os.path.abspath('../../..'))\n",
    "from textbook_utils import *"
   ]
  },
  {
   "cell_type": "markdown",
   "metadata": {},
   "source": [
    "# The Stages of the Lifecycle"
   ]
  },
  {
   "cell_type": "markdown",
   "metadata": {},
   "source": [
    "{numref}`Figure %s <ds-lifecycle>` shows the data science lifecycle.\n",
    "It's split into four stages: asking a question, obtaining data, \n",
    "understanding the data, and understanding the world.\n",
    "We've made these stages very broad on purpose.\n",
    "In our experience, the mechanics of the lifecycle change frequently.\n",
    "Computer scientists and statisticians continue to build new software packages and programming languages\n",
    "for working with data, and they develop new methodologies that are more specialized. \n",
    "Despite these changes, we've found that almost every data project follows the four steps in our lifecycle.\n",
    "The first step is to ask a question."
   ]
  },
  {
   "cell_type": "markdown",
   "metadata": {},
   "source": [
    "```{figure} figures/ds-lifecycle.svg\n",
    "---\n",
    "name: ds-lifecycle\n",
    "---\n",
    "\n",
    "This diagram of the data science lifecycle shows four high-level steps.\n",
    "The arrows indicate how the steps can lead into one another.\n",
    "```"
   ]
  },
  {
   "cell_type": "markdown",
   "metadata": {},
   "source": [
    "*Ask a Question.* Asking good questions lies at the heart of data science, and recognizing\n",
    "different kinds of questions guides us in our analyses.\n",
    "For example, \"How have house prices changed over time?\" is very different from\n",
    "\"How will this new policy affect house prices?\"\n",
    "In this book, we focus on four broad categories of questions:\n",
    "descriptive, exploratory, inferential, and predictive.\n",
    "Narrowing down a broad question into one that can be answered with data is a key element of this first stage in the lifecycle. It can involve consulting the people participating in a study, figuring out how to measure something, and designing data collection protocols. \n",
    "A clear and focused research question helps us determine the data we need,\n",
    "the patterns to look for, and how to interpret results.\n",
    "These considerations help us plan the data collection phase of the lifecycle. "
   ]
  },
  {
   "cell_type": "markdown",
   "metadata": {},
   "source": [
    "*Obtain Data.* When data are expensive and hard to gather and when our aim is to generalize from the data to the world, then we aim to define precise protocols for collecting the data needed to answer the question. Other times, data are cheap and easily accessed.\n",
    "This is especially true for online data sources.\n",
    "For example, Twitter lets people quickly download millions of data\n",
    "points [^twitter].\n",
    "When data are plentiful, we can also start an analysis by obtaining data, exploring it, and then honing the research question.\n",
    "In both situations, most data have missing values, weird values, or other anomalies that we need to account for. When we obtain data, we need to check its quality. And, typically, we must manipulate the data before we can analyze it more formally. We may need to modify the structure and clean and transform data values to prepare for analysis.\n",
    "\n",
    "[^twitter]: https://developer.twitter.com/en/docs/twitter-api"
   ]
  },
  {
   "cell_type": "markdown",
   "metadata": {},
   "source": [
    "*Understand the Data.* After obtaining data, we want to carefully examine them, and *exploratory data analysis* is key. \n",
    "In our explorations we make plots to uncover interesting patterns and summarize the data visually. We also continue to look for problems with the data.\n",
    "As we search for patterns and trends, we use summary statistics and build statistical models, like linear and logistic regression.\n",
    "In our experience, this stage of the lifecycle is highly iterative.\n",
    "Understanding the data can lead us back to any of the earlier stages in the data science lifecycle. We may find that we need to modify or redo our data cleaning and manipulation, acquire more data to supplement our analysis, or refine our research question given the limitations of the data. The descriptive and exploratory analyses that we carry out in this stage may adequately answer our question, or, we may need to go on to the next stage in order to make generalizations beyond our data."
   ]
  },
  {
   "cell_type": "markdown",
   "metadata": {},
   "source": [
    "*Understand the World.* Often our goals are purely exploratory, and the analysis ends at the \"understanding the data\" stage of the lifecycle. \n",
    "At other times, we aim to quantify how well the trends we find generalize beyond our data. \n",
    "We may want to use a model that we have fitted to our data to make inferences about the world or give predictions for future observations. \n",
    "To draw inferences from a sample to a population, we use\n",
    "statistical techniques like A/B testing and confidence intervals.\n",
    "And to make predictions for future observations, we create other kinds of interval estimates and use test/train splits of the data. "
   ]
  },
  {
   "cell_type": "markdown",
   "metadata": {},
   "source": [
    ":::{note}\n",
    "\n",
    "Understanding the difference between exploration, inference, and prediction can be a challenge. \n",
    "We can easily slip into confusing a correlation found in data with a causal relationship. \n",
    "For example, an inferential  analysis might observe a correlation in response to the question, \"Do people who have a greater exposure to air pollution have a higher rate of lung disease?\" Whereas a causal question might ask \"Does giving an award to a Wikipedia contributor increase their productivity?\" We typically cannot answer causal questions unless we have a randomized experiment (or approximate one). We point out these important distinctions throughout the book.\n",
    "\n",
    ":::"
   ]
  },
  {
   "cell_type": "markdown",
   "metadata": {},
   "source": [
    "Each chapter in this book tends to focus on one of these stages of the data science life cycle. We map them out next. "
   ]
  }
 ],
 "metadata": {
  "kernelspec": {
   "display_name": "Python 3",
   "language": "python",
   "name": "python3"
  },
  "language_info": {
   "codemirror_mode": {
    "name": "ipython",
    "version": 3
   },
   "file_extension": ".py",
   "mimetype": "text/x-python",
   "name": "python",
   "nbconvert_exporter": "python",
   "pygments_lexer": "ipython3",
   "version": "3.9.4"
  }
 },
 "nbformat": 4,
 "nbformat_minor": 4
}
