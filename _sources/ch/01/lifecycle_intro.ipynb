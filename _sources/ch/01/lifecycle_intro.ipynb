{
 "cells": [
  {
   "cell_type": "code",
   "execution_count": 1,
   "metadata": {
    "tags": [
     "remove-cell"
    ]
   },
   "outputs": [],
   "source": [
    "# Reference: https://jupyterbook.org/interactive/hiding.html\n",
    "# Use {hide, remove}-{input, output, cell} tags to hide content\n",
    "\n",
    "import numpy as np\n",
    "import matplotlib.pyplot as plt\n",
    "import pandas as pd\n",
    "import seaborn as sns\n",
    "%matplotlib inline\n",
    "import ipywidgets as widgets\n",
    "from ipywidgets import interact, interactive, fixed, interact_manual\n",
    "from IPython.display import display, set_matplotlib_formats\n",
    "import myst_nb\n",
    "\n",
    "import plotly\n",
    "import plotly.graph_objects as go\n",
    "import plotly.express as px\n",
    "from plotly.subplots import make_subplots\n",
    "import plotly.io as pio\n",
    "pio.renderers.default = 'plotly_mimetype+svg'\n",
    "pio.templates['book'] = go.layout.Template(\n",
    "    layout=dict(\n",
    "        margin=dict(l=10, r=10, t=10, b=10),\n",
    "        autosize=True,\n",
    "        width=350, height=250,\n",
    "    )\n",
    ")\n",
    "pio.templates.default = 'seaborn+book'\n",
    "\n",
    "set_matplotlib_formats('svg')\n",
    "sns.set()\n",
    "np.set_printoptions(threshold=20, precision=2, suppress=True)\n",
    "pd.set_option('display.max_rows', 7)\n",
    "pd.set_option('display.max_columns', 8)\n",
    "pd.set_option('precision', 2)\n",
    "# This option stops scientific notation for pandas\n",
    "# pd.set_option('display.float_format', '{:.2f}'.format)\n",
    "\n",
    "def display_df(df, rows=pd.options.display.max_rows,\n",
    "               cols=pd.options.display.max_columns):\n",
    "    with pd.option_context('display.max_rows', rows,\n",
    "                           'display.max_columns', cols):\n",
    "        display(df)"
   ]
  },
  {
   "cell_type": "markdown",
   "metadata": {},
   "source": [
    "(ch:lifecycle)=\n",
    "# The Data Science Lifecycle\n",
    "\n",
    "Data science is a rapidly evolving field.\n",
    "At the time of this writing people are still trying to pin down exactly\n",
    "what data science is, what data scientists do, and what skills data \n",
    "scientists should have.\n",
    "What we do know, though, is that data science uses a combination of \n",
    "methods and principles to draw insights from data.\n",
    "We use these insights to make all sorts of important decisions. \n",
    "Data science lets scientists see whether a vaccine works,\n",
    "helps computer programs filter out spam from our email inboxes,\n",
    "and tells urban planners where to build new roads.\n"
   ]
  },
  {
   "cell_type": "markdown",
   "metadata": {},
   "source": [
    "This book covers fundamental principles and skills\n",
    "that data scientists use to perform analyses.\n",
    "To help you remember the bigger picture, we've organized these topics\n",
    "around a workflow for analysis that we call the *data science lifecycle*.\n",
    "This chapter introduces the data science lifecycle.\n",
    "It also provides a map for the rest of the book by showing you where \n",
    "each chapter fits into the lifecycle.\n",
    "Unlike other books that focus on one part of the lifecycle, this book\n",
    "covers the entire lifecycle from start to finish.\n",
    "We'll teach you how to perform your own data analyses and draw sound\n",
    "conclusions. We'll explain theoretical principles and show how they work in\n",
    "practical case studies.\n",
    "Throughout the book, we'll rely on real data from analyses by other data\n",
    "scientists, not made-up data."
   ]
  },
  {
   "cell_type": "markdown",
   "metadata": {},
   "source": [
    "```{figure} figures/ds-lifecycle.svg\n",
    "---\n",
    "name: ds-lifecycle\n",
    "---\n",
    "\n",
    "This diagram of the data science lifecycle shows its four high-level steps.\n",
    "The arrows show how the steps lead into one another.\n",
    "```"
   ]
  },
  {
   "cell_type": "markdown",
   "metadata": {},
   "source": [
    "{numref}`Figure %s <ds-lifecycle>` shows the data science lifecycle.\n",
    "It's split into four stages: asking a question, obtaining data, \n",
    "understanding the data, and understanding the world.\n",
    "We've made the stages very broad on purpose.\n",
    "In our experience, the mechanics of a data analysis change all the time.\n",
    "Programmers continue to build new software packages and programming languages\n",
    "for analysis.\n",
    "Statisticians discover new techniques that are more useful than the\n",
    "old ones. \n",
    "Despite these changes, we've found that almost every data analysis follows\n",
    "the four steps in our lifecycle.\n",
    "In this chapter, we'll discuss the\n",
    "individual stages of the lifecycle and provide a map for the rest of the book\n",
    "by showing how each chapter of the book falls into one of the lifecycle stages."
   ]
  }
 ],
 "metadata": {
  "kernelspec": {
   "display_name": "Python 3",
   "language": "python",
   "name": "python3"
  },
  "language_info": {
   "codemirror_mode": {
    "name": "ipython",
    "version": 3
   },
   "file_extension": ".py",
   "mimetype": "text/x-python",
   "name": "python",
   "nbconvert_exporter": "python",
   "pygments_lexer": "ipython3",
   "version": "3.9.4"
  }
 },
 "nbformat": 4,
 "nbformat_minor": 4
}
