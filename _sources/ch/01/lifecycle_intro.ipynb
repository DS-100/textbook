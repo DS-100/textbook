{
 "cells": [
  {
   "cell_type": "code",
   "execution_count": 1,
   "metadata": {
    "tags": [
     "remove-cell"
    ]
   },
   "outputs": [],
   "source": [
    "import sys\n",
    "import os\n",
    "if not any(path.endswith('textbook') for path in sys.path):\n",
    "    sys.path.append(os.path.abspath('../../..'))\n",
    "from textbook_utils import *"
   ]
  },
  {
   "cell_type": "markdown",
   "metadata": {},
   "source": [
    "(ch:lifecycle)=\n",
    "# The Data Science Lifecycle\n",
    "\n",
    "Data science is a rapidly evolving field.\n",
    "At the time of this writing people are still trying to pin down exactly\n",
    "what data science is, what data scientists do, and what skills data \n",
    "scientists should have.\n",
    "What we do know, though, is that data science uses a combination of \n",
    "methods and principles from statistics and computer science to work with and draw insights from data.\n",
    "And, learning computer science and statistics in combination makes us better data scientists.  \n",
    "We also know that any insights we glean need to be interpreted in the context of the problem that we are working on."
   ]
  },
  {
   "cell_type": "markdown",
   "metadata": {},
   "source": [
    "This book covers fundamental principles and skills that data scientists need to help make all sorts of important decisions. \n",
    "With both technical skills and conceptual understanding we can work on data-centric problems to, say, assess whether a vaccine works,\n",
    "filter out spam from email inboxes, calibrate air quality sensors, \n",
    "and advise analysts on policy changes. "
   ]
  },
  {
   "cell_type": "markdown",
   "metadata": {},
   "source": [
    "To help you keep track of the bigger picture, we've organized topics\n",
    "around a workflow that we call the *data science lifecycle*.\n",
    "In this chapter, we introduce this lifecycle.\n",
    "Unlike other data science books that tend to focus on one part of the lifecycle or address only computational or statistical topics, \n",
    "we cover the entire cycle from start to finish and consider both statistical and computational aspects together. "
   ]
  }
 ],
 "metadata": {
  "kernelspec": {
   "display_name": "Python 3",
   "language": "python",
   "name": "python3"
  },
  "language_info": {
   "codemirror_mode": {
    "name": "ipython",
    "version": 3
   },
   "file_extension": ".py",
   "mimetype": "text/x-python",
   "name": "python",
   "nbconvert_exporter": "python",
   "pygments_lexer": "ipython3",
   "version": "3.9.4"
  }
 },
 "nbformat": 4,
 "nbformat_minor": 4
}
