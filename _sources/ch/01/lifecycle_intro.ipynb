{
 "cells": [
  {
   "cell_type": "code",
   "execution_count": 1,
   "metadata": {
    "tags": [
     "remove-cell"
    ]
   },
   "outputs": [],
   "source": [
    "import sys\n",
    "import os\n",
    "if not any(path.endswith('textbook') for path in sys.path):\n",
    "    sys.path.append(os.path.abspath('../../..'))\n",
    "from textbook_utils import *"
   ]
  },
  {
   "cell_type": "markdown",
   "metadata": {},
   "source": [
    "(ch:lifecycle)=\n",
    "# The Data Science Lifecycle\n",
    "\n",
    "Data science is a rapidly evolving field.\n",
    "At the time of this writing people are still trying to pin down exactly\n",
    "what data science is, what data scientists do, and what skills data \n",
    "scientists should have.\n",
    "What we do know, though, is that data science uses a combination of \n",
    "methods and principles from statistics and computer science to draw insights from data.\n",
    "We use these insights to make all sorts of important decisions. \n",
    "Data science helps assess whether a vaccine works,\n",
    "filter out spam from our email inboxes,\n",
    "and advise urban planners where to build new housing."
   ]
  },
  {
   "cell_type": "markdown",
   "metadata": {},
   "source": [
    "This book covers fundamental principles and skills\n",
    "that data scientists need to perform analyses.\n",
    "To help you remember the bigger picture, we've organized these topics\n",
    "around a workflow for analysis that we call the *data science lifecycle*.\n",
    "This chapter introduces the data science lifecycle.\n",
    "It also provides a map for the rest of the book by showing you where \n",
    "each chapter fits into the lifecycle.\n",
    "Unlike other books that focus on one part of the lifecycle, this book\n",
    "covers the entire cycle from start to finish.\n",
    "We explain theoretical concepts and show how they work in\n",
    "practical case studies.\n",
    "Throughout the book, we rely on real data from analyses by other data\n",
    "scientists, not made-up data, so you can learn how to perform your own data analyses and draw sound\n",
    "conclusions."
   ]
  },
  {
   "cell_type": "markdown",
   "metadata": {},
   "source": [
    "```{figure} figures/ds-lifecycle.svg\n",
    "---\n",
    "name: ds-lifecycle\n",
    "---\n",
    "\n",
    "This diagram of the data science lifecycle shows its four high-level steps.\n",
    "The arrows show how the steps lead into one another.\n",
    "```"
   ]
  },
  {
   "cell_type": "markdown",
   "metadata": {},
   "source": [
    "{numref}`Figure %s <ds-lifecycle>` shows the data science lifecycle.\n",
    "It's split into four stages: asking a question, obtaining data, \n",
    "understanding the data, and understanding the world.\n",
    "We've made these stages very broad on purpose.\n",
    "In our experience, the mechanics of a data analysis change fequently.\n",
    "Computer scientists and statisticians continue to build new software packages and programming languages\n",
    "for analysis, and they develop new analysis techniques that are more accurate and specialized. \n",
    "Despite these changes, we've found that almost every data analysis follows\n",
    "the four steps in our lifecycle.\n",
    "The first is to ask a question."
   ]
  }
 ],
 "metadata": {
  "kernelspec": {
   "display_name": "Python 3",
   "language": "python",
   "name": "python3"
  },
  "language_info": {
   "codemirror_mode": {
    "name": "ipython",
    "version": 3
   },
   "file_extension": ".py",
   "mimetype": "text/x-python",
   "name": "python",
   "nbconvert_exporter": "python",
   "pygments_lexer": "ipython3",
   "version": "3.9.4"
  }
 },
 "nbformat": 4,
 "nbformat_minor": 4
}
