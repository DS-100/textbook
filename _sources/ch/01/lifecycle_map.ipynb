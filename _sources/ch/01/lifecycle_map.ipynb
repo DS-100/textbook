{
 "cells": [
  {
   "cell_type": "code",
   "execution_count": 1,
   "metadata": {
    "tags": [
     "remove-cell"
    ]
   },
   "outputs": [],
   "source": [
    "import sys\n",
    "import os\n",
    "if not any(path.endswith('textbook') for path in sys.path):\n",
    "    sys.path.append(os.path.abspath('../../..'))\n",
    "from textbook_utils import *"
   ]
  },
  {
   "cell_type": "markdown",
   "metadata": {},
   "source": [
    "(ch:lifecycle_map)=\n",
    "# Chapter Map to the Lifecycle\n"
   ]
  },
  {
   "cell_type": "markdown",
   "metadata": {},
   "source": [
    "Many topics that fall within the data science lifecycle are covered in this book. Here, we map the chapters to their most relevant stage in the lifecycle. A few chapters appear in both the Ask a Question and the Understand the World stages because the type of question that we ask is tightly coupled to the kinds of generalizations that we can make.   "
   ]
  },
  {
   "cell_type": "markdown",
   "metadata": {},
   "source": [
    "*Ask a Question.*\n",
    "\n",
    "- {numref}`Chapter %s: <ch:data_scope>` {ref}`ch:data_scope`\n",
    "- {numref}`Chapter %s: <ch:theory_datadesign>` {ref}`ch:theory_datadesign`\n",
    "- {numref}`Chapter %s: <ch:inf_pred_theory>` {ref}`ch:inf_pred_theory`"
   ]
  },
  {
   "cell_type": "markdown",
   "metadata": {},
   "source": [
    "*Obtain Data.*\n",
    "\n",
    "- {numref}`Chapter %s: <ch:pandas>` {ref}`ch:pandas`\n",
    "- {numref}`Chapter %s: <ch:sql>` {ref}`ch:sql`\n",
    "- {numref}`Chapter %s: <ch:files>` {ref}`ch:files`\n",
    "- {numref}`Chapter %s: <ch:wrangling>` {ref}`ch:wrangling`\n",
    "- {numref}`Chapter %s: <ch:text>` {ref}`ch:text`\n",
    "- {numref}`Chapter %s: <ch:web>` {ref}`ch:web`"
   ]
  },
  {
   "cell_type": "markdown",
   "metadata": {},
   "source": [
    "*Understand the Data.*\n",
    "\n",
    "- {numref}`Chapter %s: <ch:modeling>` {ref}`ch:modeling`\n",
    "- {numref}`Chapter %s: <ch:eda>` {ref}`ch:eda`\n",
    "- {numref}`Chapter %s: <ch:viz>` {ref}`ch:viz`\n",
    "- {numref}`Chapter %s: <ch:linear>` {ref}`ch:linear`\n",
    "- {numref}`Chapter %s: <ch:logistic>` {ref}`ch:logistic`\n",
    "- {numref}`Chapter %s: <ch:optimization>` {ref}`ch:optimization`"
   ]
  },
  {
   "cell_type": "markdown",
   "metadata": {},
   "source": [
    "*Understand the World.*\n",
    "\n",
    "- {numref}`Chapter %s: <ch:theory_datadesign>` {ref}`ch:theory_datadesign`\n",
    "- {numref}`Chapter %s: <ch:inf_pred_theory>` {ref}`ch:inf_pred_theory`\n",
    "- {numref}`Chapter %s: <ch:risk>` {ref}`ch:risk`"
   ]
  },
  {
   "cell_type": "markdown",
   "metadata": {},
   "source": [
    "In addition to chapters dedicated to particular topics in one stage of the data science lifecycle, we also include chapters that work through the entire cycle with one dataset. These are placed throughout the book, and while they have a greater focus on one stage in the lifecycle, they address the entire cycle.   \n",
    "\n",
    "*Lifecycle Case Studies*   \n",
    "- {numref}`Chapter %s <ch:bus>` studies the arrival time of buses at a stop in Seattle in order to assist a passenger with planning their schedule.\n",
    "- {numref}`Chapter %s <ch:pa>` calibrates mass-market air sensors that are in use across the United States with the aid of highly accurate sensors maintained by the Environmental Protection Agency so their readings are more accurate. \n",
    "- {numref}`Chapter %s <ch:donkey>` {ref}`ch:donkey` builds a linear model for predicting the weight of a donkey based on its girth and length to help veterinarians prescribe medicine for donkeys in rural Kenya.\n",
    "- XXX examines hand-classified news stories in an effort to algorithmically detect fake news from real news.\n"
   ]
  },
  {
   "cell_type": "markdown",
   "metadata": {},
   "source": [
    "The final chapters in this book briefly cover a spectrum of additional data science techniques and methodologies. These short chapters consist of practical vignettes and aim to give a high-level overview of the topic. \n",
    "\n",
    "*Vignettes*\n",
    "- {numref}`Chapter %s: <ch:replicable>` {ref}`ch:replicable`\n",
    "- {numref}`Chapter %s: <ch:pca>` {ref}`ch:pca`\n",
    "- {numref}`Chapter %s: <ch:trees>` {ref}`ch:trees`\n",
    "- {numref}`Chapter %s: <ch:clustering>` {ref}`ch:clustering`"
   ]
  },
  {
   "cell_type": "markdown",
   "metadata": {},
   "source": [
    " "
   ]
  }
 ],
 "metadata": {
  "kernelspec": {
   "display_name": "Python 3",
   "language": "python",
   "name": "python3"
  },
  "language_info": {
   "codemirror_mode": {
    "name": "ipython",
    "version": 3
   },
   "file_extension": ".py",
   "mimetype": "text/x-python",
   "name": "python",
   "nbconvert_exporter": "python",
   "pygments_lexer": "ipython3",
   "version": "3.9.4"
  }
 },
 "nbformat": 4,
 "nbformat_minor": 4
}
