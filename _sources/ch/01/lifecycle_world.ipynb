{
 "cells": [
  {
   "cell_type": "code",
   "execution_count": 2,
   "metadata": {
    "tags": [
     "remove-cell"
    ]
   },
   "outputs": [],
   "source": [
    "# Reference: https://jupyterbook.org/interactive/hiding.html\n",
    "# Use {hide, remove}-{input, output, cell} tags to hiding content\n",
    "\n",
    "import numpy as np\n",
    "import matplotlib.pyplot as plt\n",
    "import pandas as pd\n",
    "import seaborn as sns\n",
    "%matplotlib inline\n",
    "import ipywidgets as widgets\n",
    "from ipywidgets import interact, interactive, fixed, interact_manual\n",
    "from IPython.display import display, set_matplotlib_formats\n",
    "import myst_nb\n",
    "\n",
    "import plotly\n",
    "import plotly.graph_objects as go\n",
    "import plotly.express as px\n",
    "from plotly.subplots import make_subplots\n",
    "import plotly.io as pio\n",
    "pio.renderers.default = 'plotly_mimetype+svg'\n",
    "pio.templates['book'] = go.layout.Template(\n",
    "    layout=dict(\n",
    "        margin=dict(l=10, r=10, t=10, b=10),\n",
    "        autosize=True,\n",
    "        width=350, height=250,\n",
    "    )\n",
    ")\n",
    "pio.templates.default = 'seaborn+book'\n",
    "\n",
    "set_matplotlib_formats('svg')\n",
    "sns.set()\n",
    "np.set_printoptions(threshold=20, precision=2, suppress=True)\n",
    "pd.set_option('display.max_rows', 7)\n",
    "pd.set_option('display.max_columns', 8)\n",
    "pd.set_option('precision', 2)\n",
    "# This option stops scientific notation for pandas\n",
    "# pd.set_option('display.float_format', '{:.2f}'.format)\n",
    "\n",
    "def display_df(df, rows=pd.options.display.max_rows,\n",
    "               cols=pd.options.display.max_columns):\n",
    "    with pd.option_context('display.max_rows', rows,\n",
    "                           'display.max_columns', cols):\n",
    "        display(df)"
   ]
  },
  {
   "cell_type": "markdown",
   "metadata": {},
   "source": [
    "(sec:lifecycle_world)=\n",
    "# Understanding the World\n"
   ]
  },
  {
   "cell_type": "markdown",
   "metadata": {},
   "source": [
    "In this stage of the lifecycle, we draw conclusions about our larger\n",
    "population, and sometimes even the world.\n",
    "The challenge is that our data are typically a relatively small sample\n",
    "compared to our population.\n",
    "To draw conclusions about the population, we use\n",
    "statistical techniques\n",
    "like A/B testing, confidence intervals, and simulation.\n",
    "We also use models like linear or logistic regression.\n",
    "This stage is relevant when our research questions are \n",
    "inferential or predictive.\n",
    "Our goal in this stage of the lifecycle is to quantify \n",
    "how well we think the trends we find in our sample can generalize."
   ]
  }
 ],
 "metadata": {
  "kernelspec": {
   "display_name": "Python 3",
   "language": "python",
   "name": "python3"
  },
  "language_info": {
   "codemirror_mode": {
    "name": "ipython",
    "version": 3
   },
   "file_extension": ".py",
   "mimetype": "text/x-python",
   "name": "python",
   "nbconvert_exporter": "python",
   "pygments_lexer": "ipython3",
   "version": "3.9.4"
  }
 },
 "nbformat": 4,
 "nbformat_minor": 4
}
