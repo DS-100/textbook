{
 "cells": [
  {
   "cell_type": "code",
   "execution_count": 2,
   "metadata": {
    "tags": [
     "remove-cell"
    ]
   },
   "outputs": [],
   "source": [
    "import sys\n",
    "import os\n",
    "if not any(path.endswith('textbook') for path in sys.path):\n",
    "    sys.path.append(os.path.abspath('../../..'))\n",
    "from textbook_utils import *"
   ]
  },
  {
   "cell_type": "markdown",
   "metadata": {},
   "source": [
    "(sec:lifecycle_question)=\n",
    "# Asking a Question\n",
    "\n"
   ]
  },
  {
   "cell_type": "markdown",
   "metadata": {},
   "source": [
    "Asking questions lies at the heart of data science\n",
    "because different kinds of questions require different kinds of analyses.\n",
    "For example, \"How have house prices changed over time?\" is very different from\n",
    "\"How will this new law affect house prices?\".\n",
    "Understanding our research question tells us what data we need,\n",
    "the patterns to look for,\n",
    "and how we should interpret our results.\n",
    "In this book, we focus on three broad categories of questions:\n",
    "exploratory, inferential, and predictive."
   ]
  },
  {
   "cell_type": "markdown",
   "metadata": {},
   "source": [
    "Exploratory questions aim to find out information about the data that we have.\n",
    "For example, we can use environmental data to ask: have average global\n",
    "temperatures risen in the past 40 years?\n",
    "The key part of an exploratory question is that it aims to summarize\n",
    "and interpret trends in the data without quantifying whether\n",
    "these trends will hold in data that we don't have.\n",
    "\"How many people voted in the last election?\" is an exploratory question.\n",
    "\"How many people will vote in the next election?\" is not an\n",
    "exploratory question."
   ]
  },
  {
   "cell_type": "markdown",
   "metadata": {},
   "source": [
    "Inferential questions, on the other hand, do quantify whether trends\n",
    "found in our data will hold in unseen data.\n",
    "Let's say we data from a sample of hospitals across the US.\n",
    "We can ask whether air pollution is correlated with lung disease for the individuals in our sample---this is an exploratory question.\n",
    "We can also ask whether air pollution is correlated with lung disease\n",
    "for the entire US---this is an inferential question, since we're using our\n",
    "sample to *infer* a correlation for the entire US."
   ]
  },
  {
   "cell_type": "markdown",
   "metadata": {},
   "source": [
    ":::{note}\n",
    "\n",
    "Be careful not to confuse an inferential question with a question about\n",
    "causality.\n",
    "An inferential question asks whether a correlation exists.\n",
    "\"Are people who are exposed to more air pollution more likely to develop\n",
    "lung disease?\" is an inferential question. \"Does air pollution cause\n",
    "lung disease?\" is causal, not inferential.\n",
    "We typically cannot answer causal questions unless we have a randomized\n",
    "experiment (or assume one).\n",
    "\n",
    ":::"
   ]
  },
  {
   "cell_type": "markdown",
   "metadata": {},
   "source": [
    "Predictive questions, like inferential questions,\n",
    "aim to quantify trends for unseen data.\n",
    "While inferential questions look for trends in the population,\n",
    "predictive questions aim to make predictions for individuals.\n",
    "An inferential question could ask: \"What factors increase voter turnout\n",
    "in the US?\"\n",
    "A predictive question could instead ask: \"Given a person's income\n",
    "and education, how likely are they to vote?\""
   ]
  },
  {
   "cell_type": "markdown",
   "metadata": {},
   "source": [
    "As we do a data analysis, we often change and refine our\n",
    "research questions. Each time we do so, it's important to consider\n",
    "what kind of question we want to answer.\n",
    "For a more detailed breakdown of the types of research questions,\n",
    "see {cite}`leekWhat2015`.\n",
    "\n",
    "In the next section, we'll talk about how our question affects the \n",
    "data we want to obtain."
   ]
  }
 ],
 "metadata": {
  "kernelspec": {
   "display_name": "Python 3",
   "language": "python",
   "name": "python3"
  },
  "language_info": {
   "codemirror_mode": {
    "name": "ipython",
    "version": 3
   },
   "file_extension": ".py",
   "mimetype": "text/x-python",
   "name": "python",
   "nbconvert_exporter": "python",
   "pygments_lexer": "ipython3",
   "version": "3.9.4"
  }
 },
 "nbformat": 4,
 "nbformat_minor": 4
}
