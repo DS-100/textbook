{
 "cells": [
  {
   "cell_type": "markdown",
   "metadata": {},
   "source": [
    "# Dimensionality Reduction and PCA\n",
    "\n",
    "Data visualization techniques allow us to search for patterns between variables of a dataset. However, it is challenging to search for patterns in data that contain many columns since most data visualization techniques can only plot a few variables at once. To address this, we turn to dimensionality reduction techniques which enable us to explore and analyze data that have many columns. Broadly speaking, these techniques summarize the data using a few columns which then allows us to explore the simplified data using standard data visualization techniques. This chapter introduces principal component analysis (PCA), a useful technique for performing dimensionality reduction. "
   ]
  }
 ],
 "metadata": {
  "celltoolbar": "Tags",
  "kernelspec": {
   "display_name": "Python 3",
   "language": "python",
   "name": "python3"
  },
  "language_info": {
   "codemirror_mode": {
    "name": "ipython",
    "version": 3
   },
   "file_extension": ".py",
   "mimetype": "text/x-python",
   "name": "python",
   "nbconvert_exporter": "python",
   "pygments_lexer": "ipython3",
   "version": "3.8.3"
  }
 },
 "nbformat": 4,
 "nbformat_minor": 2
}
