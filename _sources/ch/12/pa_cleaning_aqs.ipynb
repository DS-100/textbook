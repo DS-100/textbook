{
 "cells": [
  {
   "cell_type": "code",
   "execution_count": 1,
   "metadata": {
    "tags": [
     "remove-cell"
    ]
   },
   "outputs": [],
   "source": [
    "# Reference: https://jupyterbook.org/interactive/hiding.html\n",
    "# Use {hide, remove}-{input, output, cell} tags to hiding content\n",
    "\n",
    "import numpy as np\n",
    "import matplotlib.pyplot as plt\n",
    "import pandas as pd\n",
    "import seaborn as sns\n",
    "%matplotlib inline\n",
    "import ipywidgets as widgets\n",
    "from ipywidgets import interact, interactive, fixed, interact_manual\n",
    "from IPython.display import display\n",
    "\n",
    "sns.set()\n",
    "sns.set_context('talk')\n",
    "np.set_printoptions(threshold=20, precision=2, suppress=True)\n",
    "pd.set_option('display.max_rows', 7)\n",
    "pd.set_option('display.max_columns', 8)\n",
    "pd.set_option('precision', 2)\n",
    "# This option stops scientific notation for pandas\n",
    "# pd.set_option('display.float_format', '{:.2f}'.format)\n",
    "\n",
    "def display_df(df, rows=pd.options.display.max_rows,\n",
    "               cols=pd.options.display.max_columns):\n",
    "    with pd.option_context('display.max_rows', rows,\n",
    "                           'display.max_columns', cols):\n",
    "        display(df)"
   ]
  },
  {
   "cell_type": "code",
   "execution_count": 2,
   "metadata": {
    "tags": [
     "remove-cell"
    ]
   },
   "outputs": [],
   "source": [
    "def df_interact(df, nrows=7, ncols=7):\n",
    "    '''\n",
    "    Outputs sliders that show rows and columns of df\n",
    "    '''\n",
    "    def peek(row=0, col=0):\n",
    "        return df.iloc[row:row + nrows, col:col + ncols]\n",
    "\n",
    "    row_arg = (0, len(df), nrows) if len(df) > nrows else fixed(0)\n",
    "    col_arg = ((0, len(df.columns), ncols)\n",
    "               if len(df.columns) > ncols else fixed(0))\n",
    "    \n",
    "    interact(peek, row=row_arg, col=col_arg)\n",
    "    print('({} rows, {} columns) total'.format(df.shape[0], df.shape[1]))"
   ]
  },
  {
   "cell_type": "markdown",
   "metadata": {},
   "source": [
    "(ch:pa_cleaning_aqs)=\n",
    "# Exploring and Cleaning AQS Sensor Data"
   ]
  },
  {
   "cell_type": "markdown",
   "metadata": {},
   "source": [
    "Let's briefly take stock of where we are in the analysis.\n",
    "Our plan is roughly to:\n",
    "\n",
    "1. Find a list of possibly collocated AQS and PurpleAir sensors.\n",
    "2. Contact AQS sites to find truly collocated sensor pairs.\n",
    "3. Explore and clean AQS measurements for one sensor.\n",
    "4. Explore and clean PurpleAir measurements for the other sensor in the pair,\n",
    "   then join the measurements together.\n",
    "5. Join all the measurements together for all the sensor pairs. \n",
    "6. Fit a model to make PurpleAir measurements match AQS measurements.\n",
    "\n",
    "We finished step 1 in the previous section ({numref}`ch:pa_collocated`). We\n",
    "skipped step 2; we\n",
    "decided to reuse Barkjohn's list of truly collocated sensor pairs rather than\n",
    "contacting the AQS sites ourselves."
   ]
  },
  {
   "cell_type": "markdown",
   "metadata": {},
   "source": [
    "In this section, we'll proceed to step 3 of the analysis plan:\n",
    "to explore and clean data from one AQS sensor.\n",
    "\n",
    "We picked a sensor pair from Barkjohn's list of collocated sensors.\n",
    "The pair is located in Sacramento, California. The AQS sensor ID is\n",
    "`06-067-0010`, and the PurpleAir sensor name is `AMTS_TESTINGA`.\n",
    "\n",
    "The AQS provides a website and API to download sensor data [^aqs_api].\n",
    "For this sensor, Barkjohn's analysis used data from May 20, 2018 to Dec 29, 2019.\n",
    "We downloaded the daily measurements for these dates into the\n",
    "`data/aqs_06-067-0010.csv` file. We'll begin by loading this file into `pandas`.\n",
    "\n",
    "[^aqs_api]: https://aqs.epa.gov/aqsweb/documents/data_api.html"
   ]
  },
  {
   "cell_type": "code",
   "execution_count": 7,
   "metadata": {},
   "outputs": [
    {
     "data": {
      "text/html": [
       "<div>\n",
       "<style scoped>\n",
       "    .dataframe tbody tr th:only-of-type {\n",
       "        vertical-align: middle;\n",
       "    }\n",
       "\n",
       "    .dataframe tbody tr th {\n",
       "        vertical-align: top;\n",
       "    }\n",
       "\n",
       "    .dataframe thead th {\n",
       "        text-align: right;\n",
       "    }\n",
       "</style>\n",
       "<table border=\"1\" class=\"dataframe\">\n",
       "  <thead>\n",
       "    <tr style=\"text-align: right;\">\n",
       "      <th></th>\n",
       "      <th>state_code</th>\n",
       "      <th>county_code</th>\n",
       "      <th>site_number</th>\n",
       "      <th>parameter_code</th>\n",
       "      <th>...</th>\n",
       "      <th>city</th>\n",
       "      <th>cbsa_code</th>\n",
       "      <th>cbsa</th>\n",
       "      <th>date_of_last_change</th>\n",
       "    </tr>\n",
       "  </thead>\n",
       "  <tbody>\n",
       "    <tr>\n",
       "      <th>0</th>\n",
       "      <td>6</td>\n",
       "      <td>67</td>\n",
       "      <td>10</td>\n",
       "      <td>88101</td>\n",
       "      <td>...</td>\n",
       "      <td>Sacramento</td>\n",
       "      <td>40900</td>\n",
       "      <td>Sacramento--Roseville--Arden-Arcade, CA</td>\n",
       "      <td>2021-09-24</td>\n",
       "    </tr>\n",
       "    <tr>\n",
       "      <th>1</th>\n",
       "      <td>6</td>\n",
       "      <td>67</td>\n",
       "      <td>10</td>\n",
       "      <td>88101</td>\n",
       "      <td>...</td>\n",
       "      <td>Sacramento</td>\n",
       "      <td>40900</td>\n",
       "      <td>Sacramento--Roseville--Arden-Arcade, CA</td>\n",
       "      <td>2021-09-24</td>\n",
       "    </tr>\n",
       "  </tbody>\n",
       "</table>\n",
       "<p>2 rows × 31 columns</p>\n",
       "</div>"
      ],
      "text/plain": [
       "   state_code  county_code  site_number  parameter_code  ...        city  \\\n",
       "0           6           67           10           88101  ...  Sacramento   \n",
       "1           6           67           10           88101  ...  Sacramento   \n",
       "\n",
       "   cbsa_code                                     cbsa date_of_last_change  \n",
       "0      40900  Sacramento--Roseville--Arden-Arcade, CA          2021-09-24  \n",
       "1      40900  Sacramento--Roseville--Arden-Arcade, CA          2021-09-24  \n",
       "\n",
       "[2 rows x 31 columns]"
      ]
     },
     "execution_count": 7,
     "metadata": {},
     "output_type": "execute_result"
    }
   ],
   "source": [
    "aqs = pd.read_csv('data/aqs_06-067-0010.csv')\n",
    "aqs.head(2)"
   ]
  },
  {
   "cell_type": "markdown",
   "metadata": {},
   "source": [
    "As usual, this dataframe has too many columns to display in the notebook.\n",
    "We'll display the first row of data to see all the columns. "
   ]
  },
  {
   "cell_type": "code",
   "execution_count": 8,
   "metadata": {},
   "outputs": [
    {
     "data": {
      "text/html": [
       "<div>\n",
       "<style scoped>\n",
       "    .dataframe tbody tr th:only-of-type {\n",
       "        vertical-align: middle;\n",
       "    }\n",
       "\n",
       "    .dataframe tbody tr th {\n",
       "        vertical-align: top;\n",
       "    }\n",
       "\n",
       "    .dataframe thead th {\n",
       "        text-align: right;\n",
       "    }\n",
       "</style>\n",
       "<table border=\"1\" class=\"dataframe\">\n",
       "  <thead>\n",
       "    <tr style=\"text-align: right;\">\n",
       "      <th></th>\n",
       "      <th>0</th>\n",
       "    </tr>\n",
       "  </thead>\n",
       "  <tbody>\n",
       "    <tr>\n",
       "      <th>state_code</th>\n",
       "      <td>6</td>\n",
       "    </tr>\n",
       "    <tr>\n",
       "      <th>county_code</th>\n",
       "      <td>67</td>\n",
       "    </tr>\n",
       "    <tr>\n",
       "      <th>site_number</th>\n",
       "      <td>10</td>\n",
       "    </tr>\n",
       "    <tr>\n",
       "      <th>parameter_code</th>\n",
       "      <td>88101</td>\n",
       "    </tr>\n",
       "    <tr>\n",
       "      <th>poc</th>\n",
       "      <td>1</td>\n",
       "    </tr>\n",
       "    <tr>\n",
       "      <th>latitude</th>\n",
       "      <td>38.57</td>\n",
       "    </tr>\n",
       "    <tr>\n",
       "      <th>longitude</th>\n",
       "      <td>-121.49</td>\n",
       "    </tr>\n",
       "    <tr>\n",
       "      <th>datum</th>\n",
       "      <td>NAD83</td>\n",
       "    </tr>\n",
       "    <tr>\n",
       "      <th>parameter</th>\n",
       "      <td>PM2.5 - Local Conditions</td>\n",
       "    </tr>\n",
       "    <tr>\n",
       "      <th>sample_duration</th>\n",
       "      <td>24 HOUR</td>\n",
       "    </tr>\n",
       "    <tr>\n",
       "      <th>pollutant_standard</th>\n",
       "      <td>PM25 24-hour 2006</td>\n",
       "    </tr>\n",
       "    <tr>\n",
       "      <th>date_local</th>\n",
       "      <td>2018-12-31</td>\n",
       "    </tr>\n",
       "    <tr>\n",
       "      <th>units_of_measure</th>\n",
       "      <td>Micrograms/cubic meter (LC)</td>\n",
       "    </tr>\n",
       "    <tr>\n",
       "      <th>event_type</th>\n",
       "      <td>None</td>\n",
       "    </tr>\n",
       "    <tr>\n",
       "      <th>observation_count</th>\n",
       "      <td>1</td>\n",
       "    </tr>\n",
       "    <tr>\n",
       "      <th>observation_percent</th>\n",
       "      <td>100.0</td>\n",
       "    </tr>\n",
       "    <tr>\n",
       "      <th>validity_indicator</th>\n",
       "      <td>Y</td>\n",
       "    </tr>\n",
       "    <tr>\n",
       "      <th>arithmetic_mean</th>\n",
       "      <td>3.1</td>\n",
       "    </tr>\n",
       "    <tr>\n",
       "      <th>first_max_value</th>\n",
       "      <td>3.1</td>\n",
       "    </tr>\n",
       "    <tr>\n",
       "      <th>first_max_hour</th>\n",
       "      <td>0</td>\n",
       "    </tr>\n",
       "    <tr>\n",
       "      <th>aqi</th>\n",
       "      <td>13</td>\n",
       "    </tr>\n",
       "    <tr>\n",
       "      <th>method_code</th>\n",
       "      <td>145</td>\n",
       "    </tr>\n",
       "    <tr>\n",
       "      <th>method</th>\n",
       "      <td>R &amp; P Model 2025 PM-2.5 Sequential Air Sampler...</td>\n",
       "    </tr>\n",
       "    <tr>\n",
       "      <th>local_site_name</th>\n",
       "      <td>Sacramento-1309 T Street</td>\n",
       "    </tr>\n",
       "    <tr>\n",
       "      <th>site_address</th>\n",
       "      <td>1309 T ST., SACRAMENTO, CA. 95814</td>\n",
       "    </tr>\n",
       "    <tr>\n",
       "      <th>state</th>\n",
       "      <td>California</td>\n",
       "    </tr>\n",
       "    <tr>\n",
       "      <th>county</th>\n",
       "      <td>Sacramento</td>\n",
       "    </tr>\n",
       "    <tr>\n",
       "      <th>city</th>\n",
       "      <td>Sacramento</td>\n",
       "    </tr>\n",
       "    <tr>\n",
       "      <th>cbsa_code</th>\n",
       "      <td>40900</td>\n",
       "    </tr>\n",
       "    <tr>\n",
       "      <th>cbsa</th>\n",
       "      <td>Sacramento--Roseville--Arden-Arcade, CA</td>\n",
       "    </tr>\n",
       "    <tr>\n",
       "      <th>date_of_last_change</th>\n",
       "      <td>2021-09-24</td>\n",
       "    </tr>\n",
       "  </tbody>\n",
       "</table>\n",
       "</div>"
      ],
      "text/plain": [
       "                                                                     0\n",
       "state_code                                                           6\n",
       "county_code                                                         67\n",
       "site_number                                                         10\n",
       "parameter_code                                                   88101\n",
       "poc                                                                  1\n",
       "latitude                                                         38.57\n",
       "longitude                                                      -121.49\n",
       "datum                                                            NAD83\n",
       "parameter                                     PM2.5 - Local Conditions\n",
       "sample_duration                                                24 HOUR\n",
       "pollutant_standard                                   PM25 24-hour 2006\n",
       "date_local                                                  2018-12-31\n",
       "units_of_measure                           Micrograms/cubic meter (LC)\n",
       "event_type                                                        None\n",
       "observation_count                                                    1\n",
       "observation_percent                                              100.0\n",
       "validity_indicator                                                   Y\n",
       "arithmetic_mean                                                    3.1\n",
       "first_max_value                                                    3.1\n",
       "first_max_hour                                                       0\n",
       "aqi                                                                 13\n",
       "method_code                                                        145\n",
       "method               R & P Model 2025 PM-2.5 Sequential Air Sampler...\n",
       "local_site_name                               Sacramento-1309 T Street\n",
       "site_address                         1309 T ST., SACRAMENTO, CA. 95814\n",
       "state                                                       California\n",
       "county                                                      Sacramento\n",
       "city                                                        Sacramento\n",
       "cbsa_code                                                        40900\n",
       "cbsa                           Sacramento--Roseville--Arden-Arcade, CA\n",
       "date_of_last_change                                         2021-09-24"
      ]
     },
     "metadata": {},
     "output_type": "display_data"
    }
   ],
   "source": [
    "display_df(aqs.iloc[0].to_frame(), rows=31)"
   ]
  },
  {
   "cell_type": "markdown",
   "metadata": {},
   "source": [
    "From the data dictionary for this data [^aqs_dict], we can find out that the\n",
    "`arithmetic_mean` column corresponds to the actual PM2.5 measurements. Some AQS\n",
    "sensors take a measurement every hour. \n",
    "For our analysis, we downloaded the 24-hour averages (the arithmetic mean) of the\n",
    "hourly sensor measurements.\n",
    "\n",
    "[^aqs_dict]: https://aqs.epa.gov/aqsweb/airdata/FileFormats.html#_hourly_data_files"
   ]
  },
  {
   "cell_type": "markdown",
   "metadata": {},
   "source": [
    "Before we can use this data for analysis, we'll perform validity checks with a\n",
    "combination of EDA and visualization, then clean the data where necessary.\n",
    "\n",
    "We will:\n",
    "\n",
    "1. Check and correct the granularity of the data.\n",
    "1. Remove unneeded columns.\n",
    "1. Check validity of the `date_local` column.\n",
    "1. Check validity of the `arithmetic_mean` column.\n",
    "\n",
    "There are many more checks we could perform on this data. If we were planning\n",
    "to publish this work more broadly, we would be as thorough as possible.\n",
    "For the sake of brevity, we've chosen a few important validity checks that\n",
    "specifically reinforce ideas we've covered in data wrangling, EDA, and visualization."
   ]
  },
  {
   "cell_type": "markdown",
   "metadata": {},
   "source": [
    "## What's the Granularity?"
   ]
  },
  {
   "cell_type": "markdown",
   "metadata": {},
   "source": [
    "We would like each row of our data to correspond to a single date with an average\n",
    "PM2.5 reading for that date. Is this the case for the `aqs` dataframe?\n",
    "One simple way to check is to see whether there are repeat values in the\n",
    "`date_local` column. "
   ]
  },
  {
   "cell_type": "code",
   "execution_count": 9,
   "metadata": {},
   "outputs": [
    {
     "data": {
      "text/plain": [
       "2019-05-12    12\n",
       "2019-11-14    12\n",
       "2019-09-03    12\n",
       "              ..\n",
       "2019-01-30    12\n",
       "2019-12-23    12\n",
       "2019-05-27    12\n",
       "Name: date_local, Length: 189, dtype: int64"
      ]
     },
     "execution_count": 9,
     "metadata": {},
     "output_type": "execute_result"
    }
   ],
   "source": [
    "aqs['date_local'].value_counts()"
   ]
  },
  {
   "cell_type": "markdown",
   "metadata": {},
   "source": [
    "Indeed, there are 12 rows for each date in `aqs`. So, the granularity is *not* \n",
    "at the individual date level. To figure out why this happens, we can filter the\n",
    "table to a single date, then look for columns that have different values within\n",
    "that date.\n",
    "If we do this, we find that the `pollutant_standard` and `event_type` columns\n",
    "differ within a date.\n",
    "Here, we display these columns for the date\n",
    "`2018-12-31`:"
   ]
  },
  {
   "cell_type": "code",
   "execution_count": 10,
   "metadata": {},
   "outputs": [
    {
     "data": {
      "text/html": [
       "<div>\n",
       "<style scoped>\n",
       "    .dataframe tbody tr th:only-of-type {\n",
       "        vertical-align: middle;\n",
       "    }\n",
       "\n",
       "    .dataframe tbody tr th {\n",
       "        vertical-align: top;\n",
       "    }\n",
       "\n",
       "    .dataframe thead th {\n",
       "        text-align: right;\n",
       "    }\n",
       "</style>\n",
       "<table border=\"1\" class=\"dataframe\">\n",
       "  <thead>\n",
       "    <tr style=\"text-align: right;\">\n",
       "      <th></th>\n",
       "      <th>date_local</th>\n",
       "      <th>pollutant_standard</th>\n",
       "      <th>event_type</th>\n",
       "      <th>arithmetic_mean</th>\n",
       "    </tr>\n",
       "  </thead>\n",
       "  <tbody>\n",
       "    <tr>\n",
       "      <th>0</th>\n",
       "      <td>2018-12-31</td>\n",
       "      <td>PM25 24-hour 2006</td>\n",
       "      <td>None</td>\n",
       "      <td>3.1</td>\n",
       "    </tr>\n",
       "    <tr>\n",
       "      <th>1</th>\n",
       "      <td>2018-12-31</td>\n",
       "      <td>PM25 24-hour 2006</td>\n",
       "      <td>Included</td>\n",
       "      <td>3.1</td>\n",
       "    </tr>\n",
       "    <tr>\n",
       "      <th>140</th>\n",
       "      <td>2018-12-31</td>\n",
       "      <td>PM25 Annual 2006</td>\n",
       "      <td>None</td>\n",
       "      <td>3.1</td>\n",
       "    </tr>\n",
       "    <tr>\n",
       "      <th>141</th>\n",
       "      <td>2018-12-31</td>\n",
       "      <td>PM25 Annual 2006</td>\n",
       "      <td>Included</td>\n",
       "      <td>3.1</td>\n",
       "    </tr>\n",
       "    <tr>\n",
       "      <th>280</th>\n",
       "      <td>2018-12-31</td>\n",
       "      <td>PM25 24-hour 2012</td>\n",
       "      <td>None</td>\n",
       "      <td>3.1</td>\n",
       "    </tr>\n",
       "    <tr>\n",
       "      <th>281</th>\n",
       "      <td>2018-12-31</td>\n",
       "      <td>PM25 24-hour 2012</td>\n",
       "      <td>Included</td>\n",
       "      <td>3.1</td>\n",
       "    </tr>\n",
       "    <tr>\n",
       "      <th>420</th>\n",
       "      <td>2018-12-31</td>\n",
       "      <td>PM25 Annual 2012</td>\n",
       "      <td>None</td>\n",
       "      <td>3.1</td>\n",
       "    </tr>\n",
       "    <tr>\n",
       "      <th>421</th>\n",
       "      <td>2018-12-31</td>\n",
       "      <td>PM25 Annual 2012</td>\n",
       "      <td>Included</td>\n",
       "      <td>3.1</td>\n",
       "    </tr>\n",
       "    <tr>\n",
       "      <th>560</th>\n",
       "      <td>2018-12-31</td>\n",
       "      <td>PM25 24-hour 1997</td>\n",
       "      <td>None</td>\n",
       "      <td>3.1</td>\n",
       "    </tr>\n",
       "    <tr>\n",
       "      <th>561</th>\n",
       "      <td>2018-12-31</td>\n",
       "      <td>PM25 24-hour 1997</td>\n",
       "      <td>Included</td>\n",
       "      <td>3.1</td>\n",
       "    </tr>\n",
       "    <tr>\n",
       "      <th>700</th>\n",
       "      <td>2018-12-31</td>\n",
       "      <td>PM25 Annual 1997</td>\n",
       "      <td>None</td>\n",
       "      <td>3.1</td>\n",
       "    </tr>\n",
       "    <tr>\n",
       "      <th>701</th>\n",
       "      <td>2018-12-31</td>\n",
       "      <td>PM25 Annual 1997</td>\n",
       "      <td>Included</td>\n",
       "      <td>3.1</td>\n",
       "    </tr>\n",
       "  </tbody>\n",
       "</table>\n",
       "</div>"
      ],
      "text/plain": [
       "     date_local pollutant_standard event_type  arithmetic_mean\n",
       "0    2018-12-31  PM25 24-hour 2006       None              3.1\n",
       "1    2018-12-31  PM25 24-hour 2006   Included              3.1\n",
       "140  2018-12-31   PM25 Annual 2006       None              3.1\n",
       "141  2018-12-31   PM25 Annual 2006   Included              3.1\n",
       "280  2018-12-31  PM25 24-hour 2012       None              3.1\n",
       "281  2018-12-31  PM25 24-hour 2012   Included              3.1\n",
       "420  2018-12-31   PM25 Annual 2012       None              3.1\n",
       "421  2018-12-31   PM25 Annual 2012   Included              3.1\n",
       "560  2018-12-31  PM25 24-hour 1997       None              3.1\n",
       "561  2018-12-31  PM25 24-hour 1997   Included              3.1\n",
       "700  2018-12-31   PM25 Annual 1997       None              3.1\n",
       "701  2018-12-31   PM25 Annual 1997   Included              3.1"
      ]
     },
     "metadata": {},
     "output_type": "display_data"
    }
   ],
   "source": [
    "one_date = (aqs.query('date_local == \"2018-12-31\"')\n",
    " [['date_local', 'pollutant_standard', 'event_type', 'arithmetic_mean']]\n",
    ")\n",
    "display_df(one_date, rows=12)"
   ]
  },
  {
   "cell_type": "markdown",
   "metadata": {},
   "source": [
    "From the data dictionary, we learn that there are multiple standards for\n",
    "computing the final measurements from the raw sensor data.\n",
    "The `pollutant_standard` column contains the name of each standard.\n",
    "The `event_type` column marks whether data measured during \"exceptional events\"\n",
    "are included in the measurement.\n",
    "\n",
    "However, for our data these columns seem to have no effect on the PM2.5\n",
    "measurements.\n",
    "For example, in the `2018-12-31` data above the PM2.5 measurements\n",
    "are all identical. \n",
    "We can verify this for the rest of the data by checking that the\n",
    "maximum PM2.5 minus the minimum PM2.5 for each date is equal to zero."
   ]
  },
  {
   "cell_type": "code",
   "execution_count": 11,
   "metadata": {},
   "outputs": [
    {
     "data": {
      "text/plain": [
       "0.0    189\n",
       "Name: arithmetic_mean, dtype: int64"
      ]
     },
     "execution_count": 11,
     "metadata": {},
     "output_type": "execute_result"
    }
   ],
   "source": [
    "(aqs\n",
    " .groupby('date_local')\n",
    " ['arithmetic_mean']\n",
    " .agg(np.ptp) # np.ptp computes max() - min()\n",
    " .value_counts()\n",
    ")\n",
    "# For all 189 dates, the max PM2.5 - min PM2.5 is 0"
   ]
  },
  {
   "cell_type": "markdown",
   "metadata": {},
   "source": [
    "So, we can simply take the first PM2.5 measurement for each date."
   ]
  },
  {
   "cell_type": "code",
   "execution_count": 12,
   "metadata": {},
   "outputs": [],
   "source": [
    "def rollup_dates(df):\n",
    "    return (\n",
    "        df.groupby('date_local')\n",
    "        .first()\n",
    "        .reset_index()\n",
    "    )"
   ]
  },
  {
   "cell_type": "code",
   "execution_count": 13,
   "metadata": {},
   "outputs": [
    {
     "data": {
      "text/html": [
       "<div>\n",
       "<style scoped>\n",
       "    .dataframe tbody tr th:only-of-type {\n",
       "        vertical-align: middle;\n",
       "    }\n",
       "\n",
       "    .dataframe tbody tr th {\n",
       "        vertical-align: top;\n",
       "    }\n",
       "\n",
       "    .dataframe thead th {\n",
       "        text-align: right;\n",
       "    }\n",
       "</style>\n",
       "<table border=\"1\" class=\"dataframe\">\n",
       "  <thead>\n",
       "    <tr style=\"text-align: right;\">\n",
       "      <th></th>\n",
       "      <th>date_local</th>\n",
       "      <th>state_code</th>\n",
       "      <th>county_code</th>\n",
       "      <th>site_number</th>\n",
       "      <th>...</th>\n",
       "      <th>city</th>\n",
       "      <th>cbsa_code</th>\n",
       "      <th>cbsa</th>\n",
       "      <th>date_of_last_change</th>\n",
       "    </tr>\n",
       "  </thead>\n",
       "  <tbody>\n",
       "    <tr>\n",
       "      <th>0</th>\n",
       "      <td>2018-05-20</td>\n",
       "      <td>6</td>\n",
       "      <td>67</td>\n",
       "      <td>10</td>\n",
       "      <td>...</td>\n",
       "      <td>Sacramento</td>\n",
       "      <td>40900</td>\n",
       "      <td>Sacramento--Roseville--Arden-Arcade, CA</td>\n",
       "      <td>2021-09-24</td>\n",
       "    </tr>\n",
       "    <tr>\n",
       "      <th>1</th>\n",
       "      <td>2018-05-23</td>\n",
       "      <td>6</td>\n",
       "      <td>67</td>\n",
       "      <td>10</td>\n",
       "      <td>...</td>\n",
       "      <td>Sacramento</td>\n",
       "      <td>40900</td>\n",
       "      <td>Sacramento--Roseville--Arden-Arcade, CA</td>\n",
       "      <td>2021-09-24</td>\n",
       "    </tr>\n",
       "  </tbody>\n",
       "</table>\n",
       "<p>2 rows × 31 columns</p>\n",
       "</div>"
      ],
      "text/plain": [
       "   date_local  state_code  county_code  site_number  ...        city  \\\n",
       "0  2018-05-20           6           67           10  ...  Sacramento   \n",
       "1  2018-05-23           6           67           10  ...  Sacramento   \n",
       "\n",
       "   cbsa_code                                     cbsa  date_of_last_change  \n",
       "0      40900  Sacramento--Roseville--Arden-Arcade, CA           2021-09-24  \n",
       "1      40900  Sacramento--Roseville--Arden-Arcade, CA           2021-09-24  \n",
       "\n",
       "[2 rows x 31 columns]"
      ]
     },
     "execution_count": 13,
     "metadata": {},
     "output_type": "execute_result"
    }
   ],
   "source": [
    "aqs = (pd.read_csv('data/aqs_06-067-0010.csv')\n",
    "       .pipe(rollup_dates))\n",
    "aqs.head(2)"
   ]
  },
  {
   "cell_type": "markdown",
   "metadata": {},
   "source": [
    "This data cleaning step gives us the desired granularity of `aqs`:\n",
    "every row in `aqs` represents a single date, with an average PM2.5\n",
    "measurement for that date."
   ]
  },
  {
   "cell_type": "markdown",
   "metadata": {},
   "source": [
    "## Removing Unneeded Columns"
   ]
  },
  {
   "cell_type": "markdown",
   "metadata": {},
   "source": [
    "We plan to match the PM2.5 measurements in the `aqs` dataframe with\n",
    "the PurpleAir PM2.5 measurements for each date.\n",
    "To simplify the data, we'll subset out the date and PM2.5 columns and rename the\n",
    "PM2.5 column so that it's easier to understand."
   ]
  },
  {
   "cell_type": "code",
   "execution_count": 30,
   "metadata": {},
   "outputs": [],
   "source": [
    "def subset_cols(df):\n",
    "    subset = df[['date_local', 'arithmetic_mean']]\n",
    "    return subset.rename(columns={'arithmetic_mean': 'pm25'})"
   ]
  },
  {
   "cell_type": "code",
   "execution_count": 31,
   "metadata": {},
   "outputs": [
    {
     "data": {
      "text/html": [
       "<div>\n",
       "<style scoped>\n",
       "    .dataframe tbody tr th:only-of-type {\n",
       "        vertical-align: middle;\n",
       "    }\n",
       "\n",
       "    .dataframe tbody tr th {\n",
       "        vertical-align: top;\n",
       "    }\n",
       "\n",
       "    .dataframe thead th {\n",
       "        text-align: right;\n",
       "    }\n",
       "</style>\n",
       "<table border=\"1\" class=\"dataframe\">\n",
       "  <thead>\n",
       "    <tr style=\"text-align: right;\">\n",
       "      <th></th>\n",
       "      <th>date_local</th>\n",
       "      <th>pm25</th>\n",
       "    </tr>\n",
       "  </thead>\n",
       "  <tbody>\n",
       "    <tr>\n",
       "      <th>0</th>\n",
       "      <td>2018-05-20</td>\n",
       "      <td>6.5</td>\n",
       "    </tr>\n",
       "    <tr>\n",
       "      <th>1</th>\n",
       "      <td>2018-05-23</td>\n",
       "      <td>2.3</td>\n",
       "    </tr>\n",
       "    <tr>\n",
       "      <th>2</th>\n",
       "      <td>2018-05-29</td>\n",
       "      <td>11.8</td>\n",
       "    </tr>\n",
       "    <tr>\n",
       "      <th>...</th>\n",
       "      <td>...</td>\n",
       "      <td>...</td>\n",
       "    </tr>\n",
       "    <tr>\n",
       "      <th>186</th>\n",
       "      <td>2019-12-23</td>\n",
       "      <td>5.7</td>\n",
       "    </tr>\n",
       "    <tr>\n",
       "      <th>187</th>\n",
       "      <td>2019-12-26</td>\n",
       "      <td>2.0</td>\n",
       "    </tr>\n",
       "    <tr>\n",
       "      <th>188</th>\n",
       "      <td>2019-12-29</td>\n",
       "      <td>19.5</td>\n",
       "    </tr>\n",
       "  </tbody>\n",
       "</table>\n",
       "<p>189 rows × 2 columns</p>\n",
       "</div>"
      ],
      "text/plain": [
       "     date_local  pm25\n",
       "0    2018-05-20   6.5\n",
       "1    2018-05-23   2.3\n",
       "2    2018-05-29  11.8\n",
       "..          ...   ...\n",
       "186  2019-12-23   5.7\n",
       "187  2019-12-26   2.0\n",
       "188  2019-12-29  19.5\n",
       "\n",
       "[189 rows x 2 columns]"
      ]
     },
     "execution_count": 31,
     "metadata": {},
     "output_type": "execute_result"
    }
   ],
   "source": [
    "aqs = (pd.read_csv('data/aqs_06-067-0010.csv')\n",
    "       .pipe(rollup_dates)\n",
    "       .pipe(subset_cols))\n",
    "aqs"
   ]
  },
  {
   "cell_type": "markdown",
   "metadata": {},
   "source": [
    "## Checking the Validity of `date_local`"
   ]
  },
  {
   "cell_type": "markdown",
   "metadata": {},
   "source": [
    "Let's take a closer look at the `date_local` column.\n",
    "We can already see that there are gaps in dates where there are no\n",
    "PM2.5 readings."
   ]
  },
  {
   "cell_type": "code",
   "execution_count": 18,
   "metadata": {},
   "outputs": [
    {
     "data": {
      "text/html": [
       "<div>\n",
       "<style scoped>\n",
       "    .dataframe tbody tr th:only-of-type {\n",
       "        vertical-align: middle;\n",
       "    }\n",
       "\n",
       "    .dataframe tbody tr th {\n",
       "        vertical-align: top;\n",
       "    }\n",
       "\n",
       "    .dataframe thead th {\n",
       "        text-align: right;\n",
       "    }\n",
       "</style>\n",
       "<table border=\"1\" class=\"dataframe\">\n",
       "  <thead>\n",
       "    <tr style=\"text-align: right;\">\n",
       "      <th></th>\n",
       "      <th>date_local</th>\n",
       "      <th>pm25</th>\n",
       "    </tr>\n",
       "  </thead>\n",
       "  <tbody>\n",
       "    <tr>\n",
       "      <th>0</th>\n",
       "      <td>2018-05-20</td>\n",
       "      <td>6.5</td>\n",
       "    </tr>\n",
       "    <tr>\n",
       "      <th>1</th>\n",
       "      <td>2018-05-23</td>\n",
       "      <td>2.3</td>\n",
       "    </tr>\n",
       "    <tr>\n",
       "      <th>2</th>\n",
       "      <td>2018-05-29</td>\n",
       "      <td>11.8</td>\n",
       "    </tr>\n",
       "    <tr>\n",
       "      <th>...</th>\n",
       "      <td>...</td>\n",
       "      <td>...</td>\n",
       "    </tr>\n",
       "    <tr>\n",
       "      <th>186</th>\n",
       "      <td>2019-12-23</td>\n",
       "      <td>5.7</td>\n",
       "    </tr>\n",
       "    <tr>\n",
       "      <th>187</th>\n",
       "      <td>2019-12-26</td>\n",
       "      <td>2.0</td>\n",
       "    </tr>\n",
       "    <tr>\n",
       "      <th>188</th>\n",
       "      <td>2019-12-29</td>\n",
       "      <td>19.5</td>\n",
       "    </tr>\n",
       "  </tbody>\n",
       "</table>\n",
       "<p>189 rows × 2 columns</p>\n",
       "</div>"
      ],
      "text/plain": [
       "     date_local  pm25\n",
       "0    2018-05-20   6.5\n",
       "1    2018-05-23   2.3\n",
       "2    2018-05-29  11.8\n",
       "..          ...   ...\n",
       "186  2019-12-23   5.7\n",
       "187  2019-12-26   2.0\n",
       "188  2019-12-29  19.5\n",
       "\n",
       "[189 rows x 2 columns]"
      ]
     },
     "execution_count": 18,
     "metadata": {},
     "output_type": "execute_result"
    }
   ],
   "source": [
    "# The table is sorted by `date_local`, so we see that there are missing dates\n",
    "# between 2018-05-20 and 2018-05-23, for example.\n",
    "aqs"
   ]
  },
  {
   "cell_type": "markdown",
   "metadata": {},
   "source": [
    "We can check that the `date_local` column contains strings:"
   ]
  },
  {
   "cell_type": "code",
   "execution_count": 24,
   "metadata": {},
   "outputs": [
    {
     "data": {
      "text/plain": [
       "date_local     object\n",
       "pm25          float64\n",
       "dtype: object"
      ]
     },
     "execution_count": 24,
     "metadata": {},
     "output_type": "execute_result"
    }
   ],
   "source": [
    "# Python strings are recorded as the `object` type in pandas\n",
    "aqs.dtypes"
   ]
  },
  {
   "cell_type": "code",
   "execution_count": 25,
   "metadata": {},
   "outputs": [
    {
     "data": {
      "text/plain": [
       "'2018-05-20'"
      ]
     },
     "execution_count": 25,
     "metadata": {},
     "output_type": "execute_result"
    }
   ],
   "source": [
    "aqs['date_local'].iloc[0]"
   ]
  },
  {
   "cell_type": "markdown",
   "metadata": {},
   "source": [
    "However, we'd like to know: are all the strings valid dates? If so, we can\n",
    "parse the dates as `pd.Timestamp` objects which will make it easier to compute\n",
    "the dates that are missing from the data. To parse the dates, we'll use the\n",
    "`pd.to_datetime()` function."
   ]
  },
  {
   "cell_type": "code",
   "execution_count": 26,
   "metadata": {},
   "outputs": [
    {
     "data": {
      "text/plain": [
       "0     2018-05-20\n",
       "1     2018-05-23\n",
       "2     2018-05-29\n",
       "         ...    \n",
       "186   2019-12-23\n",
       "187   2019-12-26\n",
       "188   2019-12-29\n",
       "Name: date_local, Length: 189, dtype: datetime64[ns]"
      ]
     },
     "execution_count": 26,
     "metadata": {},
     "output_type": "execute_result"
    }
   ],
   "source": [
    "# This is the Python representation of the YYYY-MM-DD format\n",
    "date_format = '%Y-%m-%d'\n",
    "\n",
    "pd.to_datetime(aqs['date_local'], format=date_format)"
   ]
  },
  {
   "cell_type": "markdown",
   "metadata": {},
   "source": [
    "We see that the `dtype` of this series is `datetime64[ns]` rather than\n",
    "`object`, which means that the values are `pd.TimeStamp` objects rather than\n",
    "strings. Also, the method runs without erroring, indicating that all the\n",
    "strings matched the format.\n",
    "\n",
    "Now, we can reassign the `date_local` column as `pd.TimeStamp`s."
   ]
  },
  {
   "cell_type": "code",
   "execution_count": 27,
   "metadata": {},
   "outputs": [],
   "source": [
    "def parse_dates(df):\n",
    "    date_format = '%Y-%m-%d'\n",
    "    timestamps = pd.to_datetime(df['date_local'], format=date_format)\n",
    "    return df.assign(date_local=timestamps)"
   ]
  },
  {
   "cell_type": "code",
   "execution_count": 32,
   "metadata": {},
   "outputs": [
    {
     "data": {
      "text/html": [
       "<div>\n",
       "<style scoped>\n",
       "    .dataframe tbody tr th:only-of-type {\n",
       "        vertical-align: middle;\n",
       "    }\n",
       "\n",
       "    .dataframe tbody tr th {\n",
       "        vertical-align: top;\n",
       "    }\n",
       "\n",
       "    .dataframe thead th {\n",
       "        text-align: right;\n",
       "    }\n",
       "</style>\n",
       "<table border=\"1\" class=\"dataframe\">\n",
       "  <thead>\n",
       "    <tr style=\"text-align: right;\">\n",
       "      <th></th>\n",
       "      <th>date_local</th>\n",
       "      <th>pm25</th>\n",
       "    </tr>\n",
       "  </thead>\n",
       "  <tbody>\n",
       "    <tr>\n",
       "      <th>0</th>\n",
       "      <td>2018-05-20</td>\n",
       "      <td>6.5</td>\n",
       "    </tr>\n",
       "    <tr>\n",
       "      <th>1</th>\n",
       "      <td>2018-05-23</td>\n",
       "      <td>2.3</td>\n",
       "    </tr>\n",
       "    <tr>\n",
       "      <th>2</th>\n",
       "      <td>2018-05-29</td>\n",
       "      <td>11.8</td>\n",
       "    </tr>\n",
       "    <tr>\n",
       "      <th>...</th>\n",
       "      <td>...</td>\n",
       "      <td>...</td>\n",
       "    </tr>\n",
       "    <tr>\n",
       "      <th>186</th>\n",
       "      <td>2019-12-23</td>\n",
       "      <td>5.7</td>\n",
       "    </tr>\n",
       "    <tr>\n",
       "      <th>187</th>\n",
       "      <td>2019-12-26</td>\n",
       "      <td>2.0</td>\n",
       "    </tr>\n",
       "    <tr>\n",
       "      <th>188</th>\n",
       "      <td>2019-12-29</td>\n",
       "      <td>19.5</td>\n",
       "    </tr>\n",
       "  </tbody>\n",
       "</table>\n",
       "<p>189 rows × 2 columns</p>\n",
       "</div>"
      ],
      "text/plain": [
       "    date_local  pm25\n",
       "0   2018-05-20   6.5\n",
       "1   2018-05-23   2.3\n",
       "2   2018-05-29  11.8\n",
       "..         ...   ...\n",
       "186 2019-12-23   5.7\n",
       "187 2019-12-26   2.0\n",
       "188 2019-12-29  19.5\n",
       "\n",
       "[189 rows x 2 columns]"
      ]
     },
     "execution_count": 32,
     "metadata": {},
     "output_type": "execute_result"
    }
   ],
   "source": [
    "aqs = (pd.read_csv('data/aqs_06-067-0010.csv')\n",
    "       .pipe(rollup_dates)\n",
    "       .pipe(subset_cols)\n",
    "       .pipe(parse_dates))\n",
    "aqs"
   ]
  },
  {
   "cell_type": "code",
   "execution_count": 29,
   "metadata": {},
   "outputs": [
    {
     "data": {
      "text/plain": [
       "date_local    datetime64[ns]\n",
       "pm25                 float64\n",
       "dtype: object"
      ]
     },
     "execution_count": 29,
     "metadata": {},
     "output_type": "execute_result"
    }
   ],
   "source": [
    "aqs.dtypes"
   ]
  },
  {
   "cell_type": "markdown",
   "metadata": {},
   "source": [
    ":::{note}\n",
    "\n",
    "Just because the dates can be parsed doesn't mean that the dates are immediately\n",
    "ready to use for further analysis. For instance, the string `9999-01-31` can be\n",
    "parsed into a `pd.TimeStamp`, but the date isn't valid.\n",
    "\n",
    ":::"
   ]
  },
  {
   "cell_type": "markdown",
   "metadata": {},
   "source": [
    "Now that the `date_local` contains timestamps, we can calculate how\n",
    "many dates are missing. We'll find the number of days between the earliest and\n",
    "latest date---this corresponds to the maximum number of measurements we could\n",
    "have recorded."
   ]
  },
  {
   "cell_type": "code",
   "execution_count": 35,
   "metadata": {},
   "outputs": [
    {
     "data": {
      "text/plain": [
       "Timedelta('588 days 00:00:00')"
      ]
     },
     "execution_count": 35,
     "metadata": {},
     "output_type": "execute_result"
    }
   ],
   "source": [
    "date_range = aqs['date_local'].max() - aqs['date_local'].min()\n",
    "date_range"
   ]
  },
  {
   "cell_type": "code",
   "execution_count": 36,
   "metadata": {},
   "outputs": [
    {
     "data": {
      "text/plain": [
       "588"
      ]
     },
     "execution_count": 36,
     "metadata": {},
     "output_type": "execute_result"
    }
   ],
   "source": [
    "# Subtracting timestamps give Timedelta objects, which have a few useful\n",
    "# properties like:\n",
    "date_range.days"
   ]
  },
  {
   "cell_type": "code",
   "execution_count": 39,
   "metadata": {},
   "outputs": [
    {
     "name": "stdout",
     "output_type": "stream",
     "text": [
      "We have 189 / 588 measurements, or 32% of the dates possible.\n"
     ]
    }
   ],
   "source": [
    "print(f'We have {len(aqs)} / {date_range.days} measurements, '\n",
    "      f'or {len(aqs) / date_range.days:.0%} of the dates possible.')"
   ]
  },
  {
   "cell_type": "markdown",
   "metadata": {},
   "source": [
    "There are many dates missing from the data. However, when we combine this\n",
    "data with the data from the other AQS and PurpleAir sensors, we\n",
    "expect that we'll have enough data to fit a model.\n",
    "\n",
    "There are other modeling scenarios where this amount of missing data might\n",
    "cause more concern, and we've included an exercise at the end of this chapter\n",
    "to think about potential issues."
   ]
  },
  {
   "cell_type": "markdown",
   "metadata": {},
   "source": [
    "## Checking the Validity of `pm25`"
   ]
  },
  {
   "cell_type": "markdown",
   "metadata": {},
   "source": [
    "There are a few checks we can perform on the PM2.5 measurements.\n",
    "First, PM2.5 can't go below 0.\n",
    "Second, we can look for abnormally high PM2.5 values and see whether they\n",
    "correspond to major events like a wildfire.\n",
    "\n",
    "One simple way to perform these checks is to plot the PM2.5 against the date."
   ]
  },
  {
   "cell_type": "code",
   "execution_count": 51,
   "metadata": {},
   "outputs": [
    {
     "data": {
      "image/png": "[encoded data removed]",
      "text/plain": [
       "<Figure size 432x288 with 1 Axes>"
      ]
     },
     "metadata": {},
     "output_type": "display_data"
    }
   ],
   "source": [
    "sns.lineplot(data=aqs, x='date_local', y='pm25')\n",
    "# Rotate x-axis labels to avoid overlap\n",
    "plt.xticks(rotation=45);"
   ]
  },
  {
   "cell_type": "markdown",
   "metadata": {},
   "source": [
    "We can see that the PM2.5 measurements don't go below 0.\n",
    "\n",
    "We also a large spike in PM2.5 around November of 2018. This sensor is located\n",
    "in Sacramento, CA---was there a fire around that area?\n",
    "\n",
    "Indeed, November 8, 2018 marks the start of the Camp Fire, the \"deadliest and\n",
    "most destructive wildfire in California history\" {cite}`bureauCamp2018`. The fire\n",
    "started just 80 miles north of Sacramento, so this AQS sensor captured the\n",
    "dramatic spike in PM2.5."
   ]
  },
  {
   "cell_type": "markdown",
   "metadata": {},
   "source": [
    "## Next Steps\n",
    "\n",
    "We've cleaned and explored the data for an AQS sensor.\n",
    "In the next section, we'll do the same for its collocated PurpleAir sensor."
   ]
  }
 ],
 "metadata": {
  "celltoolbar": "Tags",
  "kernelspec": {
   "display_name": "Python 3",
   "language": "python",
   "name": "python3"
  },
  "language_info": {
   "codemirror_mode": {
    "name": "ipython",
    "version": 3
   },
   "file_extension": ".py",
   "mimetype": "text/x-python",
   "name": "python",
   "nbconvert_exporter": "python",
   "pygments_lexer": "ipython3",
   "version": "3.9.4"
  }
 },
 "nbformat": 4,
 "nbformat_minor": 4
}
