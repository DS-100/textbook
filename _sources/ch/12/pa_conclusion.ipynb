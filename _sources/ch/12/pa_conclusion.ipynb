{
 "cells": [
  {
   "cell_type": "markdown",
   "metadata": {},
   "source": [
    "(ch:pa_conclusion)=\n",
    "# Summary"
   ]
  },
  {
   "cell_type": "markdown",
   "metadata": {},
   "source": [
    "In this chapter, we replicated Barkjohn's analysis.\n",
    "We created a model that corrects PurpleAir measurements\n",
    "so that they closely match AQS measurements.\n",
    "The accuracy of this model enables the PurpleAir sensors to be\n",
    "included on official US government maps, like the AirNow Fire and Smoke map.\n",
    "Importantly, this model gives people timely *and* accurate measurements of\n",
    "air quality. "
   ]
  },
  {
   "cell_type": "markdown",
   "metadata": {},
   "source": [
    "We also applied many concepts covered in the book thus far.\n",
    "We used `pandas` code extensively throughout this analysis (and even\n",
    "a bit of SQL too).\n",
    "Data wrangling, exploratory data analysis, and data visualization were\n",
    "major parts of the analysis---we used these concepts to find and correct\n",
    "numerous issues like granularity, missing data points, and even duplicated\n",
    "data values.\n",
    "Finally, we applied modeling concepts to create our final correction model.\n",
    "We reviewed loss functions and fit two constant models to the data.\n",
    "And we found that linear models sufficiently reduce model error for\n",
    "real-world use."
   ]
  },
  {
   "cell_type": "markdown",
   "metadata": {},
   "source": [
    "At this point in the book, we encourage you to take stock of what you've\n",
    "learned thus far.\n",
    "Pat yourself on the back---you've already come a long way!\n",
    "The principles and techniques we've covered here are useful for nearly\n",
    "every type of data analysis, and you can readily\n",
    "start applying them towards analyses of your own."
   ]
  }
 ],
 "metadata": {
  "celltoolbar": "Tags",
  "kernelspec": {
   "display_name": "Python 3",
   "language": "python",
   "name": "python3"
  },
  "language_info": {
   "codemirror_mode": {
    "name": "ipython",
    "version": 3
   },
   "file_extension": ".py",
   "mimetype": "text/x-python",
   "name": "python",
   "nbconvert_exporter": "python",
   "pygments_lexer": "ipython3",
   "version": "3.9.4"
  }
 },
 "nbformat": 4,
 "nbformat_minor": 4
}
