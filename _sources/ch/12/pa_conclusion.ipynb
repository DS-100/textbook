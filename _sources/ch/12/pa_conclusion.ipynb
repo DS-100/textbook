{
 "cells": [
  {
   "attachments": {},
   "cell_type": "markdown",
   "metadata": {},
   "source": [
    "(ch:pa_conclusion)=\n",
    "# Summary"
   ]
  },
  {
   "attachments": {},
   "cell_type": "markdown",
   "metadata": {},
   "source": [
    "In this chapter, we replicated Barkjohn's analysis.\n",
    "We created a model that corrects PurpleAir measurements\n",
    "so that they closely match AQS measurements.\n",
    "The accuracy of this model enables the PurpleAir sensors to be\n",
    "included on official US government maps, like the AirNow Fire and Smoke map.\n",
    "Importantly, this model gives people timely *and* accurate measurements of\n",
    "air quality. "
   ]
  },
  {
   "attachments": {},
   "cell_type": "markdown",
   "metadata": {},
   "source": [
    "We saw how crowdsourced, open data can be improved with data from precise, rigorously maintained, government-monitored equipment. In the process, we focused on cleaning and merging data from multiple sources, but we also fit models to adjust and improve air quality measurements.\n",
    "\n",
    "For this case study, we applied many concepts covered in this part of the book.\n",
    "As you saw, wrangling files and data tables into a form we can analyze is a large and important part of data science. We used file wrangling and the notions of granularity from {numref}`Chapter %s <ch:files>` to prepare two sources for merging. We got them into structures where we could match neighboring air quality sensors.\n",
    "This \"grungy\" part of data science was essential to widening the reach of data from rigorously maintained, precise government-monitored equipment by augmenting it with crowd-sourced, open data.\n",
    "\n",
    "This preparation process involved intensive, careful examination, cleaning, and improvement of the data to ensure their compatibility across the two sources and their trustworthiness in our analysis. \n",
    "Concepts from {numref}`Chapter %s <ch:wrangling>` helped us work with time data effectively and find and correct numerous issues like missing data points and even duplicated data values.\n",
    "\n",
    "File and data wrangling, exploratory data analysis, and visualization are major parts of many analyses. \n",
    "While fitting models may seem to be the most exciting part of data science, getting to know and trust the data is crucial and often leads to important insights in the modeling phase. Topics related to modeling make up most of the rest of this book. However, before we begin, we cover two more topics related to data wrangling.\n",
    "In the next chapter, we show how to create analyzable data from text, and in the following chapter we examine other formats for source files that we mentioned in {numref}`Chapter %s <ch:files>`.  "
   ]
  },
  {
   "attachments": {},
   "cell_type": "markdown",
   "metadata": {},
   "source": [
    "Before you head to the next chapter, take stock of what you've learned so far. \n",
    "Pat yourself on the back---you've already come a long way!\n",
    "The principles and techniques we've covered here are useful for nearly\n",
    "every type of data analysis, and you can readily\n",
    "start applying them toward analyses of your own."
   ]
  }
 ],
 "metadata": {
  "celltoolbar": "Tags",
  "kernelspec": {
   "display_name": "Python 3",
   "language": "python",
   "name": "python3"
  },
  "language_info": {
   "codemirror_mode": {
    "name": "ipython",
    "version": 3
   },
   "file_extension": ".py",
   "mimetype": "text/x-python",
   "name": "python",
   "nbconvert_exporter": "python",
   "pygments_lexer": "ipython3",
   "version": "3.9.4"
  }
 },
 "nbformat": 4,
 "nbformat_minor": 4
}
