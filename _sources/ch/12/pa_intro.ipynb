{
 "cells": [
  {
   "cell_type": "code",
   "execution_count": 1,
   "metadata": {
    "tags": [
     "remove-cell"
    ]
   },
   "outputs": [],
   "source": [
    "# Reference: https://jupyterbook.org/interactive/hiding.html\n",
    "# Use {hide, remove}-{input, output, cell} tags to hiding content\n",
    "\n",
    "import numpy as np\n",
    "import matplotlib.pyplot as plt\n",
    "import pandas as pd\n",
    "import seaborn as sns\n",
    "%matplotlib inline\n",
    "import ipywidgets as widgets\n",
    "from ipywidgets import interact, interactive, fixed, interact_manual\n",
    "from IPython.display import display\n",
    "\n",
    "sns.set()\n",
    "sns.set_context('talk')\n",
    "np.set_printoptions(threshold=20, precision=2, suppress=True)\n",
    "pd.set_option('display.max_rows', 7)\n",
    "pd.set_option('display.max_columns', 8)\n",
    "pd.set_option('precision', 2)\n",
    "# This option stops scientific notation for pandas\n",
    "# pd.set_option('display.float_format', '{:.2f}'.format)\n",
    "\n",
    "def display_df(df, rows=pd.options.display.max_rows,\n",
    "               cols=pd.options.display.max_columns):\n",
    "    with pd.option_context('display.max_rows', rows,\n",
    "                           'display.max_columns', cols):\n",
    "        display(df)"
   ]
  },
  {
   "cell_type": "markdown",
   "metadata": {},
   "source": [
    "(ch:pa)=\n",
    "# Case Study: Data Science for Accurate and Timely Air Quality Measurements"
   ]
  },
  {
   "cell_type": "markdown",
   "metadata": {},
   "source": [
    "California is prone to wildfires, so much so that its\n",
    "residents (like the authors of this book) sometimes joke\n",
    "that California is \"always on fire\".\n",
    "However, wildfires themselves are no laughing matter.\n",
    "In 2020, forty separate fires covered the state in smoke,\n",
    "caused thousands of people to evacuate, and caused more than twelve billion\n",
    "dollars in damages ({numref}`fig:ca-fires`).\n",
    "\n",
    "```{figure} figures/ca-fires.jpeg\n",
    "---\n",
    "name: fig:ca-fires\n",
    "alt: ca-fires\n",
    "---\n",
    "Satellite image from August 2020 showing smoke covering California. (Image from [Wikipedia](https://en.wikipedia.org/wiki/File:California_on_fire_ESA22177856.jpeg) licensed under CC BY-SA 3.0 IGO.)\n",
    "```"
   ]
  },
  {
   "cell_type": "markdown",
   "metadata": {},
   "source": [
    "In places like California, people use air quality measurements to know what kinds of protective measures they need to take.\n",
    "Depending on conditions, people may wish to wear a mask, use air filters, or avoid going outside altogether.\n",
    "Measures of air quality should be both *accurate* and *timely*.\n",
    "Inaccurate or biased measurements can cause people not to take air conditions as seriously as they should.\n",
    "Delayed alerts can expose people to harmful air."
   ]
  },
  {
   "cell_type": "markdown",
   "metadata": {},
   "source": [
    "In the United States, One important source of air measurements is the Air Quality System (AQS), run by the US government {cite}`usepaAir2013`.\n",
    "The AQS places high-quality sensors at locations across the US and makes this data available to the public.\n",
    "These sensors are carefully calibrated to strict standards---in fact, the AQS sensors are generally seens as the gold standard for accuracy.\n",
    "However, they have a few downsides.\n",
    "First, these sensors are expensive: typically between \\$15,000 and \\$40,000 each.\n",
    "This means that there are fewer sensors, and these sensors are further apart.\n",
    "A person living far away from a sensor might not be able to use these measurements for their personal use.\n",
    "Second, these sensors do not provide real-time data. Since the data undergo additional calibration, the sensors only release hourly averages with a time lag of one to two hours. In essence, the AQS sensors are accurate but not timely."
   ]
  },
  {
   "cell_type": "markdown",
   "metadata": {},
   "source": [
    "In contrast to the AQS, a company called [PurpleAir][pa] produces a sensor that sells for \\$230 to \\$260 and can be easily installed in a house or apartment.\n",
    "Because of the lower price point, people across the US have purchased sensors for personal use---the sensors can connect to a home WiFi network so people can easily monitor the air quality in their homes.\n",
    "These sensors can also report data back to PurpleAir.\n",
    "In 2020, there were thousands of PurpleAir sensors across the US making publicly available measurements of air quality.\n",
    "Compared to the AQS sensors, PurpleAir sensors are more timely---they make a measurement every two minutes rather than every hour.\n",
    "Since there are more deployed PurpleAir sensors, it's less likely that a person lives too far away from a sensor to make use of the data.\n",
    "However, PurpleAir sensors are less accurate.\n",
    "To make the sensors affordable, PurpleAir uses a simpler method of counting particles in air that doesn't measure particle density.\n",
    "This means that PurpleAir measurements can report that air quality is worse than it really is {cite}`hug2020`. In essence, PurpleAir sensors are timely but not accurate.\n",
    "\n",
    "[pa]: https://www2.purpleair.com/"
   ]
  },
  {
   "cell_type": "markdown",
   "metadata": {},
   "source": [
    "**Can we combine both AQS and PurpleAir sensors to produce measurements that are both timely and accurate?**\n",
    "In fact, we can!\n",
    "The idea is to find pairs of AQS and PurpleAir sensors that are collocated, or next to each other in the same location. \n",
    "Then, we can treat the AQS sensors as the ground truth and correct the PurpleAir measurements to match the AQS measurements.\n",
    "Even though there are relatively few pairs of collocated AQS and PurpleAir sensors, we can generalize the correction to other PurpleAir sensors as long as the PurpleAir sensors are biased in a consistent way.\n",
    "In other words, it's fine if the PurpleAir sensors aren't accurate as long as they are *precise*---we can correct for bias using the AQS sensors but not variance."
   ]
  },
  {
   "cell_type": "markdown",
   "metadata": {},
   "source": [
    "This analysis and correction was first developed by Karoline Barkjohn et al. from the US Environmental Protection Agency {cite}`barkjohnDevelopment2021`.\n",
    "In this chapter, we'll walk through and reproduce parts of their analysis using Python code.\n",
    "We included this case study for a few reasons."
   ]
  },
  {
   "cell_type": "markdown",
   "metadata": {},
   "source": [
    "First, this analysis gives us an opportunity to see how data scientists wrangle, explore, and visualize data in a real-world setting.\n",
    "The case study integrates the concepts we introduced in this part of the book nicely."
   ]
  },
  {
   "cell_type": "markdown",
   "metadata": {},
   "source": [
    "Second, this case study is an example of using a large, biased dataset to amplify the usefulness of a small, accurate dataset.\n",
    "Combining large and small datasets like this is particularly exciting to data scientists and applies broadly to other domains ranging from social science to medicine."
   ]
  },
  {
   "cell_type": "markdown",
   "metadata": {},
   "source": [
    "Finally, this analysis has real-world use---because of Barkjohn's analysis,\n",
    "PurpleAir sensors can be included in official US government maps for air quality like AirNow.gov.\n",
    "As of this writing, the AirNow Fire and Smoke map includes both AQS and PurpleAir sensors, applying the same correction that Barkjohn developed to the PurpleAir sensors."
   ]
  },
  {
   "cell_type": "markdown",
   "metadata": {},
   "source": [
    "In the next section, we begin the analysis by finding AQS and PurpleAir sensors that are near each other."
   ]
  }
 ],
 "metadata": {
  "celltoolbar": "Tags",
  "kernelspec": {
   "display_name": "Python 3",
   "language": "python",
   "name": "python3"
  },
  "language_info": {
   "codemirror_mode": {
    "name": "ipython",
    "version": 3
   },
   "file_extension": ".py",
   "mimetype": "text/x-python",
   "name": "python",
   "nbconvert_exporter": "python",
   "pygments_lexer": "ipython3",
   "version": "3.9.4"
  }
 },
 "nbformat": 4,
 "nbformat_minor": 4
}
