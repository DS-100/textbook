{
 "cells": [
  {
   "cell_type": "code",
   "execution_count": 1,
   "metadata": {
    "tags": [
     "remove-cell"
    ]
   },
   "outputs": [],
   "source": [
    "import sys\n",
    "import os\n",
    "if not any(path.endswith('textbook') for path in sys.path):\n",
    "    sys.path.append(os.path.abspath('../../..'))\n",
    "from textbook_utils import *"
   ]
  },
  {
   "cell_type": "markdown",
   "metadata": {},
   "source": [
    "(ch:pa_cleaning_pa)=\n",
    "# Wrangling PurpleAir Sensor Data"
   ]
  },
  {
   "cell_type": "markdown",
   "metadata": {},
   "source": [
    "In the previous section, we analyzed data from the AQS site `06-067-0010`.\n",
    "The matching PurpleAir sensor is named `AMTS_TESTINGA`, and we've used\n",
    "the PurpleAir website to download the data for this sensor into the `data/purpleair_AMTS` folder. "
   ]
  },
  {
   "cell_type": "code",
   "execution_count": 2,
   "metadata": {},
   "outputs": [
    {
     "name": "stdout",
     "output_type": "stream",
     "text": [
      "-rw-r--r--  1 nolan  staff    50M Jan 25 16:35 data/purpleair_AMTS/AMTS_\n",
      "-rw-r--r--  1 nolan  staff    50M Jan 25 16:35 data/purpleair_AMTS/AMTS_\n",
      "-rw-r--r--  1 nolan  staff    48M Jan 25 16:35 data/purpleair_AMTS/AMTS_\n",
      "-rw-r--r--  1 nolan  staff    50M Jan 25 16:35 data/purpleair_AMTS/AMTS_\n"
     ]
    }
   ],
   "source": [
    "!ls -alh data/purpleair_AMTS/* | cut -c 1-72"
   ]
  },
  {
   "cell_type": "markdown",
   "metadata": {},
   "source": [
    "There are four CSV files. Their names are quite long, and the beginning of each of them are identical.\n",
    "The data dictionary for the PurpleAir data [^pa_dict] says that each sensor\n",
    "has two separate instruments, A and B, that each record data.\n",
    "Let's examine the later portions of the file names. \n",
    "\n",
    "[^pa_dict]: The [site](https://www.purpleair.com/sensorlist) used to collect these data (with accompanying data dictionary) has been downgraded. The data are now available through a REST API. This site also contains [information about the fields](https://api.purpleair.com/#api-sensors-get-sensor-data). The topic of REST is covered in {numref}`Chapter %s <ch:web>`."
   ]
  },
  {
   "cell_type": "code",
   "execution_count": 3,
   "metadata": {},
   "outputs": [
    {
     "name": "stdout",
     "output_type": "stream",
     "text": [
      "TESTING (outside) (38.568404 -121.493163) Primary Real Time 05_20_20\n",
      "TESTING (outside) (38.568404 -121.493163) Secondary Real Time 05_20_\n",
      "TESTING B (undefined) (38.568404 -121.493163) Primary Real Time 05_2\n",
      "TESTING B (undefined) (38.568404 -121.493163) Secondary Real Time 05\n"
     ]
    }
   ],
   "source": [
    "!ls -alh data/purpleair_AMTS/* | cut -c 73-140"
   ]
  },
  {
   "cell_type": "markdown",
   "metadata": {},
   "source": [
    "We can see that the first two CSV files correspond to the instrument A,\n",
    "and the last two CSV files correspond to B.\n",
    "Having two instruments is useful for data cleaning; if A and B disagree about\n",
    "a measurement, we might question the integrity of the measurement and decide to\n",
    "remove it.\n",
    "\n",
    "The data dictionary also mentions that each instrument records Primary and\n",
    "Secondary data. The Primary data contains the fields we're interested in: PM2.5,\n",
    "temperature, and humidity. The Secondary data contains data for other particle\n",
    "sizes, like PM1.0 and PM10. So we work only with the Primary files."
   ]
  },
  {
   "cell_type": "markdown",
   "metadata": {},
   "source": [
    "Our tasks are similar to those of the previous section, with the addition of addressing readings from two instruments. "
   ]
  },
  {
   "cell_type": "markdown",
   "metadata": {},
   "source": [
    "We begin by loading in the data. \n",
    "When CSV files have long names, we can assign the file names into a Python variable\n",
    "to more easily load the files."
   ]
  },
  {
   "cell_type": "code",
   "execution_count": 2,
   "metadata": {},
   "outputs": [
    {
     "data": {
      "text/plain": [
       "PosixPath('data/purpleair_AMTS/AMTS_TESTING (outside) (38.568404 -121.493163) Primary Real Time 05_20_2018 12_29_2019.csv')"
      ]
     },
     "execution_count": 2,
     "metadata": {},
     "output_type": "execute_result"
    }
   ],
   "source": [
    "from pathlib import Path\n",
    "\n",
    "data_folder = Path('data/purpleair_AMTS')\n",
    "pa_csvs = sorted(data_folder.glob('*.csv'))\n",
    "pa_csvs[0]"
   ]
  },
  {
   "cell_type": "code",
   "execution_count": 3,
   "metadata": {},
   "outputs": [
    {
     "data": {
      "text/plain": [
       "(672755, 11)"
      ]
     },
     "execution_count": 3,
     "metadata": {},
     "output_type": "execute_result"
    }
   ],
   "source": [
    "pa_full = pd.read_csv(pa_csvs[0])\n",
    "pa_full.shape"
   ]
  },
  {
   "cell_type": "markdown",
   "metadata": {},
   "source": [
    "Let's look at the columns to see which ones we need."
   ]
  },
  {
   "cell_type": "code",
   "execution_count": 4,
   "metadata": {},
   "outputs": [
    {
     "data": {
      "text/plain": [
       "Index(['created_at', 'entry_id', 'PM1.0_CF1_ug/m3', 'PM2.5_CF1_ug/m3',\n",
       "       'PM10.0_CF1_ug/m3', 'UptimeMinutes', 'RSSI_dbm', 'Temperature_F',\n",
       "       'Humidity_%', 'PM2.5_ATM_ug/m3', 'Unnamed: 10'],\n",
       "      dtype='object')"
      ]
     },
     "execution_count": 4,
     "metadata": {},
     "output_type": "execute_result"
    }
   ],
   "source": [
    "pa_full.columns"
   ]
  },
  {
   "cell_type": "markdown",
   "metadata": {},
   "source": [
    "Although we're interested in PM2.5, it appears there are two columns that\n",
    "contain PM2.5 data: `PM2.5_CF1_ug/m3` and `PM2.5_ATM_ug/m3`.\n",
    "We investigate the difference between these two columns to find\n",
    "that PurpleAir sensors use two different methods to convert a raw laser recording into a PM2.5 number.\n",
    "These two calculations correspond to the CF1 and ATM columns.\n",
    "Barkjohn found that using CF1 produced better results than ATM, so we keep that column, \n",
    "along with the date, temperature and relative humidity."
   ]
  },
  {
   "cell_type": "code",
   "execution_count": 5,
   "metadata": {},
   "outputs": [
    {
     "data": {
      "text/html": [
       "<div>\n",
       "<style scoped>\n",
       "    .dataframe tbody tr th:only-of-type {\n",
       "        vertical-align: middle;\n",
       "    }\n",
       "\n",
       "    .dataframe tbody tr th {\n",
       "        vertical-align: top;\n",
       "    }\n",
       "\n",
       "    .dataframe thead th {\n",
       "        text-align: right;\n",
       "    }\n",
       "</style>\n",
       "<table border=\"1\" class=\"dataframe\">\n",
       "  <thead>\n",
       "    <tr style=\"text-align: right;\">\n",
       "      <th></th>\n",
       "      <th>timestamp</th>\n",
       "      <th>PM25cf1</th>\n",
       "      <th>TempF</th>\n",
       "      <th>RH</th>\n",
       "    </tr>\n",
       "  </thead>\n",
       "  <tbody>\n",
       "    <tr>\n",
       "      <th>0</th>\n",
       "      <td>2018-05-20 00:00:35 UTC</td>\n",
       "      <td>1.23</td>\n",
       "      <td>83.0</td>\n",
       "      <td>32.0</td>\n",
       "    </tr>\n",
       "    <tr>\n",
       "      <th>1</th>\n",
       "      <td>2018-05-20 00:01:55 UTC</td>\n",
       "      <td>1.94</td>\n",
       "      <td>83.0</td>\n",
       "      <td>32.0</td>\n",
       "    </tr>\n",
       "    <tr>\n",
       "      <th>2</th>\n",
       "      <td>2018-05-20 00:03:15 UTC</td>\n",
       "      <td>1.80</td>\n",
       "      <td>83.0</td>\n",
       "      <td>32.0</td>\n",
       "    </tr>\n",
       "    <tr>\n",
       "      <th>3</th>\n",
       "      <td>2018-05-20 00:04:35 UTC</td>\n",
       "      <td>1.64</td>\n",
       "      <td>83.0</td>\n",
       "      <td>32.0</td>\n",
       "    </tr>\n",
       "    <tr>\n",
       "      <th>4</th>\n",
       "      <td>2018-05-20 00:05:55 UTC</td>\n",
       "      <td>1.33</td>\n",
       "      <td>83.0</td>\n",
       "      <td>32.0</td>\n",
       "    </tr>\n",
       "  </tbody>\n",
       "</table>\n",
       "</div>"
      ],
      "text/plain": [
       "                 timestamp  PM25cf1  TempF    RH\n",
       "0  2018-05-20 00:00:35 UTC     1.23   83.0  32.0\n",
       "1  2018-05-20 00:01:55 UTC     1.94   83.0  32.0\n",
       "2  2018-05-20 00:03:15 UTC     1.80   83.0  32.0\n",
       "3  2018-05-20 00:04:35 UTC     1.64   83.0  32.0\n",
       "4  2018-05-20 00:05:55 UTC     1.33   83.0  32.0"
      ]
     },
     "execution_count": 5,
     "metadata": {},
     "output_type": "execute_result"
    }
   ],
   "source": [
    "def drop_and_rename_cols(df):\n",
    "    df = df[['created_at', 'PM2.5_CF1_ug/m3', 'Temperature_F', 'Humidity_%']]\n",
    "    df.columns = ['timestamp', 'PM25cf1', 'TempF', 'RH']\n",
    "    return df\n",
    "\n",
    "pa = (pa_full\n",
    "      .pipe(drop_and_rename_cols))\n",
    "pa.head()"
   ]
  },
  {
   "cell_type": "markdown",
   "metadata": {},
   "source": [
    "Next we check granularity."
   ]
  },
  {
   "cell_type": "markdown",
   "metadata": {},
   "source": [
    "## Checking the Granularity"
   ]
  },
  {
   "cell_type": "markdown",
   "metadata": {},
   "source": [
    "In order for the granularity of these measurements to match the AQS data,\n",
    "we want one average PM2.5 for each date (a 24-hour period).\n",
    "PurpleAir states that sensors take measurements every 2 minutes.\n",
    "Let's double check the granularity of the raw measurements, before we aggregate\n",
    "them to 24-hour periods."
   ]
  },
  {
   "cell_type": "markdown",
   "metadata": {},
   "source": [
    "To do this we convert the column containing the date information from strings\n",
    "to `pd.TimeStamp` objects. The format of the date is different than the AQS format,\n",
    "which we describe as '%Y-%m-%d %X %Z'.\n",
    "As we soon see, `pandas` has special support for data frames with an index of timestamps."
   ]
  },
  {
   "cell_type": "code",
   "execution_count": 6,
   "metadata": {},
   "outputs": [
    {
     "data": {
      "text/html": [
       "<div>\n",
       "<style scoped>\n",
       "    .dataframe tbody tr th:only-of-type {\n",
       "        vertical-align: middle;\n",
       "    }\n",
       "\n",
       "    .dataframe tbody tr th {\n",
       "        vertical-align: top;\n",
       "    }\n",
       "\n",
       "    .dataframe thead th {\n",
       "        text-align: right;\n",
       "    }\n",
       "</style>\n",
       "<table border=\"1\" class=\"dataframe\">\n",
       "  <thead>\n",
       "    <tr style=\"text-align: right;\">\n",
       "      <th></th>\n",
       "      <th>PM25cf1</th>\n",
       "      <th>TempF</th>\n",
       "      <th>RH</th>\n",
       "    </tr>\n",
       "    <tr>\n",
       "      <th>timestamp</th>\n",
       "      <th></th>\n",
       "      <th></th>\n",
       "      <th></th>\n",
       "    </tr>\n",
       "  </thead>\n",
       "  <tbody>\n",
       "    <tr>\n",
       "      <th>2018-05-20 00:00:35+00:00</th>\n",
       "      <td>1.23</td>\n",
       "      <td>83.0</td>\n",
       "      <td>32.0</td>\n",
       "    </tr>\n",
       "    <tr>\n",
       "      <th>2018-05-20 00:01:55+00:00</th>\n",
       "      <td>1.94</td>\n",
       "      <td>83.0</td>\n",
       "      <td>32.0</td>\n",
       "    </tr>\n",
       "  </tbody>\n",
       "</table>\n",
       "</div>"
      ],
      "text/plain": [
       "                           PM25cf1  TempF    RH\n",
       "timestamp                                      \n",
       "2018-05-20 00:00:35+00:00     1.23   83.0  32.0\n",
       "2018-05-20 00:01:55+00:00     1.94   83.0  32.0"
      ]
     },
     "execution_count": 6,
     "metadata": {},
     "output_type": "execute_result"
    }
   ],
   "source": [
    "def parse_timestamps(df):\n",
    "    date_format = '%Y-%m-%d %X %Z'\n",
    "    times = pd.to_datetime(df['timestamp'], format=date_format)\n",
    "    return (df.assign(timestamp=times)\n",
    "            .set_index('timestamp'))\n",
    "\n",
    "pa = (pa_full\n",
    "      .pipe(drop_and_rename_cols)\n",
    "      .pipe(parse_timestamps))\n",
    "pa.head(2)"
   ]
  },
  {
   "cell_type": "markdown",
   "metadata": {},
   "source": [
    "Timestamps are tricky---notice that the original timestamps were given in the UTC\n",
    "timezone. However, the AQS data were averaged according to the *local time in\n",
    "California*, which is either 7 or 8 hours behind UTC time, depending on whether\n",
    "daylight saving time is in effect.\n",
    "This means we need to change the timezone of the PurpleAir timestamps to match\n",
    "the local timezone. The `df.tz_convert()` method operates on the index of the dataframe, which is one reason\n",
    "why we set the index of `pa` to the timestamps."
   ]
  },
  {
   "cell_type": "code",
   "execution_count": 7,
   "metadata": {},
   "outputs": [
    {
     "data": {
      "text/html": [
       "<div>\n",
       "<style scoped>\n",
       "    .dataframe tbody tr th:only-of-type {\n",
       "        vertical-align: middle;\n",
       "    }\n",
       "\n",
       "    .dataframe tbody tr th {\n",
       "        vertical-align: top;\n",
       "    }\n",
       "\n",
       "    .dataframe thead th {\n",
       "        text-align: right;\n",
       "    }\n",
       "</style>\n",
       "<table border=\"1\" class=\"dataframe\">\n",
       "  <thead>\n",
       "    <tr style=\"text-align: right;\">\n",
       "      <th></th>\n",
       "      <th>PM25cf1</th>\n",
       "      <th>TempF</th>\n",
       "      <th>RH</th>\n",
       "    </tr>\n",
       "    <tr>\n",
       "      <th>timestamp</th>\n",
       "      <th></th>\n",
       "      <th></th>\n",
       "      <th></th>\n",
       "    </tr>\n",
       "  </thead>\n",
       "  <tbody>\n",
       "    <tr>\n",
       "      <th>2018-05-19 17:00:35-07:00</th>\n",
       "      <td>1.23</td>\n",
       "      <td>83.0</td>\n",
       "      <td>32.0</td>\n",
       "    </tr>\n",
       "    <tr>\n",
       "      <th>2018-05-19 17:01:55-07:00</th>\n",
       "      <td>1.94</td>\n",
       "      <td>83.0</td>\n",
       "      <td>32.0</td>\n",
       "    </tr>\n",
       "  </tbody>\n",
       "</table>\n",
       "</div>"
      ],
      "text/plain": [
       "                           PM25cf1  TempF    RH\n",
       "timestamp                                      \n",
       "2018-05-19 17:00:35-07:00     1.23   83.0  32.0\n",
       "2018-05-19 17:01:55-07:00     1.94   83.0  32.0"
      ]
     },
     "execution_count": 7,
     "metadata": {},
     "output_type": "execute_result"
    }
   ],
   "source": [
    "def convert_tz(pa):\n",
    "    return pa.tz_convert('US/Pacific')\n",
    "\n",
    "pa = (pa_full\n",
    "      .pipe(drop_and_rename_cols)\n",
    "      .pipe(parse_timestamps)\n",
    "      .pipe(convert_tz))\n",
    "pa.head(2)"
   ]
  },
  {
   "cell_type": "markdown",
   "metadata": {},
   "source": [
    "If we compare the first two rows of this version of the data frame to the previous, we see that the time has changed to indicate the seven hour difference from UTC. \n",
    "\n",
    "Visualizing timestamps can help us check the granularity of the data. "
   ]
  },
  {
   "cell_type": "markdown",
   "metadata": {},
   "source": [
    "### Visualizing Timestamps"
   ]
  },
  {
   "cell_type": "markdown",
   "metadata": {},
   "source": [
    "One way to visualize timestamps is to count how many appear in each 24-hour\n",
    "period, then plot those counts over time.\n",
    "To group time series data in `pandas`, we can use the `df.resample()` method.\n",
    "This method works on dataframes that have an index of timestamps.\n",
    "It behaves like `df.groupby()`, except that we can specify how we want the\n",
    "timestamps to be grouped---we can group into dates, weeks, months, and many\n",
    "more options. (The `D` argument tells resample to aggregate timestamps into individual dates.)"
   ]
  },
  {
   "cell_type": "code",
   "execution_count": 8,
   "metadata": {},
   "outputs": [
    {
     "data": {
      "text/html": [
       "<div>\n",
       "<style scoped>\n",
       "    .dataframe tbody tr th:only-of-type {\n",
       "        vertical-align: middle;\n",
       "    }\n",
       "\n",
       "    .dataframe tbody tr th {\n",
       "        vertical-align: top;\n",
       "    }\n",
       "\n",
       "    .dataframe thead th {\n",
       "        text-align: right;\n",
       "    }\n",
       "</style>\n",
       "<table border=\"1\" class=\"dataframe\">\n",
       "  <thead>\n",
       "    <tr style=\"text-align: right;\">\n",
       "      <th></th>\n",
       "      <th>records_per_day</th>\n",
       "    </tr>\n",
       "    <tr>\n",
       "      <th>timestamp</th>\n",
       "      <th></th>\n",
       "    </tr>\n",
       "  </thead>\n",
       "  <tbody>\n",
       "    <tr>\n",
       "      <th>2018-05-19 00:00:00-07:00</th>\n",
       "      <td>315</td>\n",
       "    </tr>\n",
       "    <tr>\n",
       "      <th>2018-05-20 00:00:00-07:00</th>\n",
       "      <td>1079</td>\n",
       "    </tr>\n",
       "    <tr>\n",
       "      <th>2018-05-21 00:00:00-07:00</th>\n",
       "      <td>1074</td>\n",
       "    </tr>\n",
       "    <tr>\n",
       "      <th>2018-05-22 00:00:00-07:00</th>\n",
       "      <td>1079</td>\n",
       "    </tr>\n",
       "    <tr>\n",
       "      <th>2018-05-23 00:00:00-07:00</th>\n",
       "      <td>999</td>\n",
       "    </tr>\n",
       "  </tbody>\n",
       "</table>\n",
       "</div>"
      ],
      "text/plain": [
       "                           records_per_day\n",
       "timestamp                                 \n",
       "2018-05-19 00:00:00-07:00              315\n",
       "2018-05-20 00:00:00-07:00             1079\n",
       "2018-05-21 00:00:00-07:00             1074\n",
       "2018-05-22 00:00:00-07:00             1079\n",
       "2018-05-23 00:00:00-07:00              999"
      ]
     },
     "execution_count": 8,
     "metadata": {},
     "output_type": "execute_result"
    }
   ],
   "source": [
    "per_day = (pa\n",
    " .resample('D')\n",
    " .size()\n",
    " .rename('records_per_day')\n",
    " .to_frame()\n",
    ")\n",
    "per_day.head()"
   ]
  },
  {
   "cell_type": "markdown",
   "metadata": {},
   "source": [
    "We see that the number of measurements in a day varies widely. A line plot of these counts gives us a better sense of these variations."
   ]
  },
  {
   "cell_type": "code",
   "execution_count": 10,
   "metadata": {},
   "outputs": [
    {
     "data": {
      "application/vnd.plotly.v1+json": {
       "config": {
        "plotlyServerURL": "https://plot.ly"
       },
       "data": [
        {
         "hovertemplate": "timestamp=%{x}<br>records_per_day=%{y}<extra></extra>",
         "legendgroup": "",
         "line": {
          "color": "#1F77B4",
          "dash": "solid"
         },
         "marker": {
          "symbol": "circle"
         },
         "mode": "lines",
         "name": "",
         "orientation": "v",
         "showlegend": false,
         "type": "scatter",
         "x": [
          "2018-05-19T00:00:00-07:00",
          "2018-05-20T00:00:00-07:00",
          "2018-05-21T00:00:00-07:00",
          "2018-05-22T00:00:00-07:00",
          "2018-05-23T00:00:00-07:00",
          "2018-05-24T00:00:00-07:00",
          "2018-05-25T00:00:00-07:00",
          "2018-05-26T00:00:00-07:00",
          "2018-05-27T00:00:00-07:00",
          "2018-05-28T00:00:00-07:00",
          "2018-05-29T00:00:00-07:00",
          "2018-05-30T00:00:00-07:00",
          "2018-05-31T00:00:00-07:00",
          "2018-06-01T00:00:00-07:00",
          "2018-06-02T00:00:00-07:00",
          "2018-06-03T00:00:00-07:00",
          "2018-06-04T00:00:00-07:00",
          "2018-06-05T00:00:00-07:00",
          "2018-06-06T00:00:00-07:00",
          "2018-06-07T00:00:00-07:00",
          "2018-06-08T00:00:00-07:00",
          "2018-06-09T00:00:00-07:00",
          "2018-06-10T00:00:00-07:00",
          "2018-06-11T00:00:00-07:00",
          "2018-06-12T00:00:00-07:00",
          "2018-06-13T00:00:00-07:00",
          "2018-06-14T00:00:00-07:00",
          "2018-06-15T00:00:00-07:00",
          "2018-06-16T00:00:00-07:00",
          "2018-06-17T00:00:00-07:00",
          "2018-06-18T00:00:00-07:00",
          "2018-06-19T00:00:00-07:00",
          "2018-06-20T00:00:00-07:00",
          "2018-06-21T00:00:00-07:00",
          "2018-06-22T00:00:00-07:00",
          "2018-06-23T00:00:00-07:00",
          "2018-06-24T00:00:00-07:00",
          "2018-06-25T00:00:00-07:00",
          "2018-06-26T00:00:00-07:00",
          "2018-06-27T00:00:00-07:00",
          "2018-06-28T00:00:00-07:00",
          "2018-06-29T00:00:00-07:00",
          "2018-06-30T00:00:00-07:00",
          "2018-07-01T00:00:00-07:00",
          "2018-07-02T00:00:00-07:00",
          "2018-07-03T00:00:00-07:00",
          "2018-07-04T00:00:00-07:00",
          "2018-07-05T00:00:00-07:00",
          "2018-07-06T00:00:00-07:00",
          "2018-07-07T00:00:00-07:00",
          "2018-07-08T00:00:00-07:00",
          "2018-07-09T00:00:00-07:00",
          "2018-07-10T00:00:00-07:00",
          "2018-07-11T00:00:00-07:00",
          "2018-07-12T00:00:00-07:00",
          "2018-07-13T00:00:00-07:00",
          "2018-07-14T00:00:00-07:00",
          "2018-07-15T00:00:00-07:00",
          "2018-07-16T00:00:00-07:00",
          "2018-07-17T00:00:00-07:00",
          "2018-07-18T00:00:00-07:00",
          "2018-07-19T00:00:00-07:00",
          "2018-07-20T00:00:00-07:00",
          "2018-07-21T00:00:00-07:00",
          "2018-07-22T00:00:00-07:00",
          "2018-07-23T00:00:00-07:00",
          "2018-07-24T00:00:00-07:00",
          "2018-07-25T00:00:00-07:00",
          "2018-07-26T00:00:00-07:00",
          "2018-07-27T00:00:00-07:00",
          "2018-07-28T00:00:00-07:00",
          "2018-07-29T00:00:00-07:00",
          "2018-07-30T00:00:00-07:00",
          "2018-07-31T00:00:00-07:00",
          "2018-08-01T00:00:00-07:00",
          "2018-08-02T00:00:00-07:00",
          "2018-08-03T00:00:00-07:00",
          "2018-08-04T00:00:00-07:00",
          "2018-08-05T00:00:00-07:00",
          "2018-08-06T00:00:00-07:00",
          "2018-08-07T00:00:00-07:00",
          "2018-08-08T00:00:00-07:00",
          "2018-08-09T00:00:00-07:00",
          "2018-08-10T00:00:00-07:00",
          "2018-08-11T00:00:00-07:00",
          "2018-08-12T00:00:00-07:00",
          "2018-08-13T00:00:00-07:00",
          "2018-08-14T00:00:00-07:00",
          "2018-08-15T00:00:00-07:00",
          "2018-08-16T00:00:00-07:00",
          "2018-08-17T00:00:00-07:00",
          "2018-08-18T00:00:00-07:00",
          "2018-08-19T00:00:00-07:00",
          "2018-08-20T00:00:00-07:00",
          "2018-08-21T00:00:00-07:00",
          "2018-08-22T00:00:00-07:00",
          "2018-08-23T00:00:00-07:00",
          "2018-08-24T00:00:00-07:00",
          "2018-08-25T00:00:00-07:00",
          "2018-08-26T00:00:00-07:00",
          "2018-08-27T00:00:00-07:00",
          "2018-08-28T00:00:00-07:00",
          "2018-08-29T00:00:00-07:00",
          "2018-08-30T00:00:00-07:00",
          "2018-08-31T00:00:00-07:00",
          "2018-09-01T00:00:00-07:00",
          "2018-09-02T00:00:00-07:00",
          "2018-09-03T00:00:00-07:00",
          "2018-09-04T00:00:00-07:00",
          "2018-09-05T00:00:00-07:00",
          "2018-09-06T00:00:00-07:00",
          "2018-09-07T00:00:00-07:00",
          "2018-09-08T00:00:00-07:00",
          "2018-09-09T00:00:00-07:00",
          "2018-09-10T00:00:00-07:00",
          "2018-09-11T00:00:00-07:00",
          "2018-09-12T00:00:00-07:00",
          "2018-09-13T00:00:00-07:00",
          "2018-09-14T00:00:00-07:00",
          "2018-09-15T00:00:00-07:00",
          "2018-09-16T00:00:00-07:00",
          "2018-09-17T00:00:00-07:00",
          "2018-09-18T00:00:00-07:00",
          "2018-09-19T00:00:00-07:00",
          "2018-09-20T00:00:00-07:00",
          "2018-09-21T00:00:00-07:00",
          "2018-09-22T00:00:00-07:00",
          "2018-09-23T00:00:00-07:00",
          "2018-09-24T00:00:00-07:00",
          "2018-09-25T00:00:00-07:00",
          "2018-09-26T00:00:00-07:00",
          "2018-09-27T00:00:00-07:00",
          "2018-09-28T00:00:00-07:00",
          "2018-09-29T00:00:00-07:00",
          "2018-09-30T00:00:00-07:00",
          "2018-10-01T00:00:00-07:00",
          "2018-10-02T00:00:00-07:00",
          "2018-10-03T00:00:00-07:00",
          "2018-10-04T00:00:00-07:00",
          "2018-10-05T00:00:00-07:00",
          "2018-10-06T00:00:00-07:00",
          "2018-10-07T00:00:00-07:00",
          "2018-10-08T00:00:00-07:00",
          "2018-10-09T00:00:00-07:00",
          "2018-10-10T00:00:00-07:00",
          "2018-10-11T00:00:00-07:00",
          "2018-10-12T00:00:00-07:00",
          "2018-10-13T00:00:00-07:00",
          "2018-10-14T00:00:00-07:00",
          "2018-10-15T00:00:00-07:00",
          "2018-10-16T00:00:00-07:00",
          "2018-10-17T00:00:00-07:00",
          "2018-10-18T00:00:00-07:00",
          "2018-10-19T00:00:00-07:00",
          "2018-10-20T00:00:00-07:00",
          "2018-10-21T00:00:00-07:00",
          "2018-10-22T00:00:00-07:00",
          "2018-10-23T00:00:00-07:00",
          "2018-10-24T00:00:00-07:00",
          "2018-10-25T00:00:00-07:00",
          "2018-10-26T00:00:00-07:00",
          "2018-10-27T00:00:00-07:00",
          "2018-10-28T00:00:00-07:00",
          "2018-10-29T00:00:00-07:00",
          "2018-10-30T00:00:00-07:00",
          "2018-10-31T00:00:00-07:00",
          "2018-11-01T00:00:00-07:00",
          "2018-11-02T00:00:00-07:00",
          "2018-11-03T00:00:00-07:00",
          "2018-11-04T00:00:00-07:00",
          "2018-11-05T00:00:00-08:00",
          "2018-11-06T00:00:00-08:00",
          "2018-11-07T00:00:00-08:00",
          "2018-11-08T00:00:00-08:00",
          "2018-11-09T00:00:00-08:00",
          "2018-11-10T00:00:00-08:00",
          "2018-11-11T00:00:00-08:00",
          "2018-11-12T00:00:00-08:00",
          "2018-11-13T00:00:00-08:00",
          "2018-11-14T00:00:00-08:00",
          "2018-11-15T00:00:00-08:00",
          "2018-11-16T00:00:00-08:00",
          "2018-11-17T00:00:00-08:00",
          "2018-11-18T00:00:00-08:00",
          "2018-11-19T00:00:00-08:00",
          "2018-11-20T00:00:00-08:00",
          "2018-11-21T00:00:00-08:00",
          "2018-11-22T00:00:00-08:00",
          "2018-11-23T00:00:00-08:00",
          "2018-11-24T00:00:00-08:00",
          "2018-11-25T00:00:00-08:00",
          "2018-11-26T00:00:00-08:00",
          "2018-11-27T00:00:00-08:00",
          "2018-11-28T00:00:00-08:00",
          "2018-11-29T00:00:00-08:00",
          "2018-11-30T00:00:00-08:00",
          "2018-12-01T00:00:00-08:00",
          "2018-12-02T00:00:00-08:00",
          "2018-12-03T00:00:00-08:00",
          "2018-12-04T00:00:00-08:00",
          "2018-12-05T00:00:00-08:00",
          "2018-12-06T00:00:00-08:00",
          "2018-12-07T00:00:00-08:00",
          "2018-12-08T00:00:00-08:00",
          "2018-12-09T00:00:00-08:00",
          "2018-12-10T00:00:00-08:00",
          "2018-12-11T00:00:00-08:00",
          "2018-12-12T00:00:00-08:00",
          "2018-12-13T00:00:00-08:00",
          "2018-12-14T00:00:00-08:00",
          "2018-12-15T00:00:00-08:00",
          "2018-12-16T00:00:00-08:00",
          "2018-12-17T00:00:00-08:00",
          "2018-12-18T00:00:00-08:00",
          "2018-12-19T00:00:00-08:00",
          "2018-12-20T00:00:00-08:00",
          "2018-12-21T00:00:00-08:00",
          "2018-12-22T00:00:00-08:00",
          "2018-12-23T00:00:00-08:00",
          "2018-12-24T00:00:00-08:00",
          "2018-12-25T00:00:00-08:00",
          "2018-12-26T00:00:00-08:00",
          "2018-12-27T00:00:00-08:00",
          "2018-12-28T00:00:00-08:00",
          "2018-12-29T00:00:00-08:00",
          "2018-12-30T00:00:00-08:00",
          "2018-12-31T00:00:00-08:00",
          "2019-01-01T00:00:00-08:00",
          "2019-01-02T00:00:00-08:00",
          "2019-01-03T00:00:00-08:00",
          "2019-01-04T00:00:00-08:00",
          "2019-01-05T00:00:00-08:00",
          "2019-01-06T00:00:00-08:00",
          "2019-01-07T00:00:00-08:00",
          "2019-01-08T00:00:00-08:00",
          "2019-01-09T00:00:00-08:00",
          "2019-01-10T00:00:00-08:00",
          "2019-01-11T00:00:00-08:00",
          "2019-01-12T00:00:00-08:00",
          "2019-01-13T00:00:00-08:00",
          "2019-01-14T00:00:00-08:00",
          "2019-01-15T00:00:00-08:00",
          "2019-01-16T00:00:00-08:00",
          "2019-01-17T00:00:00-08:00",
          "2019-01-18T00:00:00-08:00",
          "2019-01-19T00:00:00-08:00",
          "2019-01-20T00:00:00-08:00",
          "2019-01-21T00:00:00-08:00",
          "2019-01-22T00:00:00-08:00",
          "2019-01-23T00:00:00-08:00",
          "2019-01-24T00:00:00-08:00",
          "2019-01-25T00:00:00-08:00",
          "2019-01-26T00:00:00-08:00",
          "2019-01-27T00:00:00-08:00",
          "2019-01-28T00:00:00-08:00",
          "2019-01-29T00:00:00-08:00",
          "2019-01-30T00:00:00-08:00",
          "2019-01-31T00:00:00-08:00",
          "2019-02-01T00:00:00-08:00",
          "2019-02-02T00:00:00-08:00",
          "2019-02-03T00:00:00-08:00",
          "2019-02-04T00:00:00-08:00",
          "2019-02-05T00:00:00-08:00",
          "2019-02-06T00:00:00-08:00",
          "2019-02-07T00:00:00-08:00",
          "2019-02-08T00:00:00-08:00",
          "2019-02-09T00:00:00-08:00",
          "2019-02-10T00:00:00-08:00",
          "2019-02-11T00:00:00-08:00",
          "2019-02-12T00:00:00-08:00",
          "2019-02-13T00:00:00-08:00",
          "2019-02-14T00:00:00-08:00",
          "2019-02-15T00:00:00-08:00",
          "2019-02-16T00:00:00-08:00",
          "2019-02-17T00:00:00-08:00",
          "2019-02-18T00:00:00-08:00",
          "2019-02-19T00:00:00-08:00",
          "2019-02-20T00:00:00-08:00",
          "2019-02-21T00:00:00-08:00",
          "2019-02-22T00:00:00-08:00",
          "2019-02-23T00:00:00-08:00",
          "2019-02-24T00:00:00-08:00",
          "2019-02-25T00:00:00-08:00",
          "2019-02-26T00:00:00-08:00",
          "2019-02-27T00:00:00-08:00",
          "2019-02-28T00:00:00-08:00",
          "2019-03-01T00:00:00-08:00",
          "2019-03-02T00:00:00-08:00",
          "2019-03-03T00:00:00-08:00",
          "2019-03-04T00:00:00-08:00",
          "2019-03-05T00:00:00-08:00",
          "2019-03-06T00:00:00-08:00",
          "2019-03-07T00:00:00-08:00",
          "2019-03-08T00:00:00-08:00",
          "2019-03-09T00:00:00-08:00",
          "2019-03-10T00:00:00-08:00",
          "2019-03-11T00:00:00-07:00",
          "2019-03-12T00:00:00-07:00",
          "2019-03-13T00:00:00-07:00",
          "2019-03-14T00:00:00-07:00",
          "2019-03-15T00:00:00-07:00",
          "2019-03-16T00:00:00-07:00",
          "2019-03-17T00:00:00-07:00",
          "2019-03-18T00:00:00-07:00",
          "2019-03-19T00:00:00-07:00",
          "2019-03-20T00:00:00-07:00",
          "2019-03-21T00:00:00-07:00",
          "2019-03-22T00:00:00-07:00",
          "2019-03-23T00:00:00-07:00",
          "2019-03-24T00:00:00-07:00",
          "2019-03-25T00:00:00-07:00",
          "2019-03-26T00:00:00-07:00",
          "2019-03-27T00:00:00-07:00",
          "2019-03-28T00:00:00-07:00",
          "2019-03-29T00:00:00-07:00",
          "2019-03-30T00:00:00-07:00",
          "2019-03-31T00:00:00-07:00",
          "2019-04-01T00:00:00-07:00",
          "2019-04-02T00:00:00-07:00",
          "2019-04-03T00:00:00-07:00",
          "2019-04-04T00:00:00-07:00",
          "2019-04-05T00:00:00-07:00",
          "2019-04-06T00:00:00-07:00",
          "2019-04-07T00:00:00-07:00",
          "2019-04-08T00:00:00-07:00",
          "2019-04-09T00:00:00-07:00",
          "2019-04-10T00:00:00-07:00",
          "2019-04-11T00:00:00-07:00",
          "2019-04-12T00:00:00-07:00",
          "2019-04-13T00:00:00-07:00",
          "2019-04-14T00:00:00-07:00",
          "2019-04-15T00:00:00-07:00",
          "2019-04-16T00:00:00-07:00",
          "2019-04-17T00:00:00-07:00",
          "2019-04-18T00:00:00-07:00",
          "2019-04-19T00:00:00-07:00",
          "2019-04-20T00:00:00-07:00",
          "2019-04-21T00:00:00-07:00",
          "2019-04-22T00:00:00-07:00",
          "2019-04-23T00:00:00-07:00",
          "2019-04-24T00:00:00-07:00",
          "2019-04-25T00:00:00-07:00",
          "2019-04-26T00:00:00-07:00",
          "2019-04-27T00:00:00-07:00",
          "2019-04-28T00:00:00-07:00",
          "2019-04-29T00:00:00-07:00",
          "2019-04-30T00:00:00-07:00",
          "2019-05-01T00:00:00-07:00",
          "2019-05-02T00:00:00-07:00",
          "2019-05-03T00:00:00-07:00",
          "2019-05-04T00:00:00-07:00",
          "2019-05-05T00:00:00-07:00",
          "2019-05-06T00:00:00-07:00",
          "2019-05-07T00:00:00-07:00",
          "2019-05-08T00:00:00-07:00",
          "2019-05-09T00:00:00-07:00",
          "2019-05-10T00:00:00-07:00",
          "2019-05-11T00:00:00-07:00",
          "2019-05-12T00:00:00-07:00",
          "2019-05-13T00:00:00-07:00",
          "2019-05-14T00:00:00-07:00",
          "2019-05-15T00:00:00-07:00",
          "2019-05-16T00:00:00-07:00",
          "2019-05-17T00:00:00-07:00",
          "2019-05-18T00:00:00-07:00",
          "2019-05-19T00:00:00-07:00",
          "2019-05-20T00:00:00-07:00",
          "2019-05-21T00:00:00-07:00",
          "2019-05-22T00:00:00-07:00",
          "2019-05-23T00:00:00-07:00",
          "2019-05-24T00:00:00-07:00",
          "2019-05-25T00:00:00-07:00",
          "2019-05-26T00:00:00-07:00",
          "2019-05-27T00:00:00-07:00",
          "2019-05-28T00:00:00-07:00",
          "2019-05-29T00:00:00-07:00",
          "2019-05-30T00:00:00-07:00",
          "2019-05-31T00:00:00-07:00",
          "2019-06-01T00:00:00-07:00",
          "2019-06-02T00:00:00-07:00",
          "2019-06-03T00:00:00-07:00",
          "2019-06-04T00:00:00-07:00",
          "2019-06-05T00:00:00-07:00",
          "2019-06-06T00:00:00-07:00",
          "2019-06-07T00:00:00-07:00",
          "2019-06-08T00:00:00-07:00",
          "2019-06-09T00:00:00-07:00",
          "2019-06-10T00:00:00-07:00",
          "2019-06-11T00:00:00-07:00",
          "2019-06-12T00:00:00-07:00",
          "2019-06-13T00:00:00-07:00",
          "2019-06-14T00:00:00-07:00",
          "2019-06-15T00:00:00-07:00",
          "2019-06-16T00:00:00-07:00",
          "2019-06-17T00:00:00-07:00",
          "2019-06-18T00:00:00-07:00",
          "2019-06-19T00:00:00-07:00",
          "2019-06-20T00:00:00-07:00",
          "2019-06-21T00:00:00-07:00",
          "2019-06-22T00:00:00-07:00",
          "2019-06-23T00:00:00-07:00",
          "2019-06-24T00:00:00-07:00",
          "2019-06-25T00:00:00-07:00",
          "2019-06-26T00:00:00-07:00",
          "2019-06-27T00:00:00-07:00",
          "2019-06-28T00:00:00-07:00",
          "2019-06-29T00:00:00-07:00",
          "2019-06-30T00:00:00-07:00",
          "2019-07-01T00:00:00-07:00",
          "2019-07-02T00:00:00-07:00",
          "2019-07-03T00:00:00-07:00",
          "2019-07-04T00:00:00-07:00",
          "2019-07-05T00:00:00-07:00",
          "2019-07-06T00:00:00-07:00",
          "2019-07-07T00:00:00-07:00",
          "2019-07-08T00:00:00-07:00",
          "2019-07-09T00:00:00-07:00",
          "2019-07-10T00:00:00-07:00",
          "2019-07-11T00:00:00-07:00",
          "2019-07-12T00:00:00-07:00",
          "2019-07-13T00:00:00-07:00",
          "2019-07-14T00:00:00-07:00",
          "2019-07-15T00:00:00-07:00",
          "2019-07-16T00:00:00-07:00",
          "2019-07-17T00:00:00-07:00",
          "2019-07-18T00:00:00-07:00",
          "2019-07-19T00:00:00-07:00",
          "2019-07-20T00:00:00-07:00",
          "2019-07-21T00:00:00-07:00",
          "2019-07-22T00:00:00-07:00",
          "2019-07-23T00:00:00-07:00",
          "2019-07-24T00:00:00-07:00",
          "2019-07-25T00:00:00-07:00",
          "2019-07-26T00:00:00-07:00",
          "2019-07-27T00:00:00-07:00",
          "2019-07-28T00:00:00-07:00",
          "2019-07-29T00:00:00-07:00",
          "2019-07-30T00:00:00-07:00",
          "2019-07-31T00:00:00-07:00",
          "2019-08-01T00:00:00-07:00",
          "2019-08-02T00:00:00-07:00",
          "2019-08-03T00:00:00-07:00",
          "2019-08-04T00:00:00-07:00",
          "2019-08-05T00:00:00-07:00",
          "2019-08-06T00:00:00-07:00",
          "2019-08-07T00:00:00-07:00",
          "2019-08-08T00:00:00-07:00",
          "2019-08-09T00:00:00-07:00",
          "2019-08-10T00:00:00-07:00",
          "2019-08-11T00:00:00-07:00",
          "2019-08-12T00:00:00-07:00",
          "2019-08-13T00:00:00-07:00",
          "2019-08-14T00:00:00-07:00",
          "2019-08-15T00:00:00-07:00",
          "2019-08-16T00:00:00-07:00",
          "2019-08-17T00:00:00-07:00",
          "2019-08-18T00:00:00-07:00",
          "2019-08-19T00:00:00-07:00",
          "2019-08-20T00:00:00-07:00",
          "2019-08-21T00:00:00-07:00",
          "2019-08-22T00:00:00-07:00",
          "2019-08-23T00:00:00-07:00",
          "2019-08-24T00:00:00-07:00",
          "2019-08-25T00:00:00-07:00",
          "2019-08-26T00:00:00-07:00",
          "2019-08-27T00:00:00-07:00",
          "2019-08-28T00:00:00-07:00",
          "2019-08-29T00:00:00-07:00",
          "2019-08-30T00:00:00-07:00",
          "2019-08-31T00:00:00-07:00",
          "2019-09-01T00:00:00-07:00",
          "2019-09-02T00:00:00-07:00",
          "2019-09-03T00:00:00-07:00",
          "2019-09-04T00:00:00-07:00",
          "2019-09-05T00:00:00-07:00",
          "2019-09-06T00:00:00-07:00",
          "2019-09-07T00:00:00-07:00",
          "2019-09-08T00:00:00-07:00",
          "2019-09-09T00:00:00-07:00",
          "2019-09-10T00:00:00-07:00",
          "2019-09-11T00:00:00-07:00",
          "2019-09-12T00:00:00-07:00",
          "2019-09-13T00:00:00-07:00",
          "2019-09-14T00:00:00-07:00",
          "2019-09-15T00:00:00-07:00",
          "2019-09-16T00:00:00-07:00",
          "2019-09-17T00:00:00-07:00",
          "2019-09-18T00:00:00-07:00",
          "2019-09-19T00:00:00-07:00",
          "2019-09-20T00:00:00-07:00",
          "2019-09-21T00:00:00-07:00",
          "2019-09-22T00:00:00-07:00",
          "2019-09-23T00:00:00-07:00",
          "2019-09-24T00:00:00-07:00",
          "2019-09-25T00:00:00-07:00",
          "2019-09-26T00:00:00-07:00",
          "2019-09-27T00:00:00-07:00",
          "2019-09-28T00:00:00-07:00",
          "2019-09-29T00:00:00-07:00",
          "2019-09-30T00:00:00-07:00",
          "2019-10-01T00:00:00-07:00",
          "2019-10-02T00:00:00-07:00",
          "2019-10-03T00:00:00-07:00",
          "2019-10-04T00:00:00-07:00",
          "2019-10-05T00:00:00-07:00",
          "2019-10-06T00:00:00-07:00",
          "2019-10-07T00:00:00-07:00",
          "2019-10-08T00:00:00-07:00",
          "2019-10-09T00:00:00-07:00",
          "2019-10-10T00:00:00-07:00",
          "2019-10-11T00:00:00-07:00",
          "2019-10-12T00:00:00-07:00",
          "2019-10-13T00:00:00-07:00",
          "2019-10-14T00:00:00-07:00",
          "2019-10-15T00:00:00-07:00",
          "2019-10-16T00:00:00-07:00",
          "2019-10-17T00:00:00-07:00",
          "2019-10-18T00:00:00-07:00",
          "2019-10-19T00:00:00-07:00",
          "2019-10-20T00:00:00-07:00",
          "2019-10-21T00:00:00-07:00",
          "2019-10-22T00:00:00-07:00",
          "2019-10-23T00:00:00-07:00",
          "2019-10-24T00:00:00-07:00",
          "2019-10-25T00:00:00-07:00",
          "2019-10-26T00:00:00-07:00",
          "2019-10-27T00:00:00-07:00",
          "2019-10-28T00:00:00-07:00",
          "2019-10-29T00:00:00-07:00",
          "2019-10-30T00:00:00-07:00",
          "2019-10-31T00:00:00-07:00",
          "2019-11-01T00:00:00-07:00",
          "2019-11-02T00:00:00-07:00",
          "2019-11-03T00:00:00-07:00",
          "2019-11-04T00:00:00-08:00",
          "2019-11-05T00:00:00-08:00",
          "2019-11-06T00:00:00-08:00",
          "2019-11-07T00:00:00-08:00",
          "2019-11-08T00:00:00-08:00",
          "2019-11-09T00:00:00-08:00",
          "2019-11-10T00:00:00-08:00",
          "2019-11-11T00:00:00-08:00",
          "2019-11-12T00:00:00-08:00",
          "2019-11-13T00:00:00-08:00",
          "2019-11-14T00:00:00-08:00",
          "2019-11-15T00:00:00-08:00",
          "2019-11-16T00:00:00-08:00",
          "2019-11-17T00:00:00-08:00",
          "2019-11-18T00:00:00-08:00",
          "2019-11-19T00:00:00-08:00",
          "2019-11-20T00:00:00-08:00",
          "2019-11-21T00:00:00-08:00",
          "2019-11-22T00:00:00-08:00",
          "2019-11-23T00:00:00-08:00",
          "2019-11-24T00:00:00-08:00",
          "2019-11-25T00:00:00-08:00",
          "2019-11-26T00:00:00-08:00",
          "2019-11-27T00:00:00-08:00",
          "2019-11-28T00:00:00-08:00",
          "2019-11-29T00:00:00-08:00",
          "2019-11-30T00:00:00-08:00",
          "2019-12-01T00:00:00-08:00",
          "2019-12-02T00:00:00-08:00",
          "2019-12-03T00:00:00-08:00",
          "2019-12-04T00:00:00-08:00",
          "2019-12-05T00:00:00-08:00",
          "2019-12-06T00:00:00-08:00",
          "2019-12-07T00:00:00-08:00",
          "2019-12-08T00:00:00-08:00",
          "2019-12-09T00:00:00-08:00",
          "2019-12-10T00:00:00-08:00",
          "2019-12-11T00:00:00-08:00",
          "2019-12-12T00:00:00-08:00",
          "2019-12-13T00:00:00-08:00",
          "2019-12-14T00:00:00-08:00",
          "2019-12-15T00:00:00-08:00",
          "2019-12-16T00:00:00-08:00",
          "2019-12-17T00:00:00-08:00",
          "2019-12-18T00:00:00-08:00",
          "2019-12-19T00:00:00-08:00",
          "2019-12-20T00:00:00-08:00",
          "2019-12-21T00:00:00-08:00",
          "2019-12-22T00:00:00-08:00",
          "2019-12-23T00:00:00-08:00",
          "2019-12-24T00:00:00-08:00",
          "2019-12-25T00:00:00-08:00",
          "2019-12-26T00:00:00-08:00",
          "2019-12-27T00:00:00-08:00",
          "2019-12-28T00:00:00-08:00",
          "2019-12-29T00:00:00-08:00"
         ],
         "xaxis": "x",
         "y": [
          315,
          1079,
          1074,
          1079,
          999,
          1007,
          1075,
          1079,
          1077,
          1078,
          1077,
          1069,
          1079,
          1078,
          1081,
          1079,
          1076,
          1076,
          1069,
          1074,
          1078,
          1079,
          1077,
          1076,
          1071,
          1079,
          1069,
          1075,
          1079,
          1071,
          1078,
          1080,
          1077,
          996,
          1078,
          1075,
          1074,
          1071,
          1078,
          1065,
          1069,
          1073,
          1077,
          1075,
          1012,
          426,
          0,
          0,
          0,
          0,
          0,
          0,
          0,
          0,
          0,
          0,
          0,
          0,
          0,
          709,
          1071,
          1072,
          1075,
          1080,
          1074,
          1075,
          1077,
          1071,
          1075,
          1066,
          1063,
          1056,
          1079,
          1079,
          1079,
          1077,
          1078,
          1075,
          1050,
          1077,
          1070,
          1076,
          1074,
          1076,
          1077,
          1078,
          1060,
          1069,
          1067,
          1043,
          1033,
          1050,
          1075,
          1051,
          1068,
          1058,
          1051,
          1064,
          1045,
          1063,
          1050,
          1076,
          1061,
          1077,
          1079,
          1079,
          1078,
          1080,
          1056,
          1062,
          1072,
          1080,
          1081,
          1078,
          1076,
          1079,
          1073,
          1075,
          1078,
          1074,
          1079,
          1079,
          1077,
          1078,
          1026,
          1024,
          964,
          947,
          981,
          925,
          1016,
          1026,
          1076,
          1062,
          1073,
          1067,
          1051,
          1078,
          1054,
          1063,
          976,
          991,
          1002,
          986,
          967,
          978,
          988,
          983,
          1018,
          1069,
          1075,
          1076,
          1077,
          1080,
          1074,
          1077,
          1079,
          1073,
          1078,
          1080,
          1075,
          1078,
          1080,
          1076,
          1078,
          1078,
          1079,
          1068,
          1388,
          2250,
          2100,
          2102,
          2098,
          2132,
          2012,
          1276,
          2146,
          2158,
          2150,
          2040,
          1950,
          2156,
          2160,
          2160,
          2146,
          2144,
          2152,
          2150,
          2142,
          2146,
          2128,
          2128,
          2144,
          2126,
          2138,
          2138,
          2142,
          2154,
          2064,
          2110,
          2130,
          2140,
          2146,
          2146,
          2148,
          1992,
          2134,
          2124,
          2110,
          2132,
          2154,
          1266,
          0,
          0,
          0,
          806,
          2154,
          2138,
          2148,
          2146,
          2120,
          2112,
          2104,
          2118,
          2110,
          2146,
          2066,
          2154,
          2128,
          2154,
          2132,
          2152,
          2122,
          2122,
          2140,
          2148,
          2146,
          2148,
          2152,
          2154,
          2124,
          2122,
          2122,
          2134,
          2146,
          2154,
          2104,
          2148,
          2134,
          2140,
          2114,
          2156,
          2144,
          2148,
          2132,
          2148,
          2156,
          2160,
          2162,
          2160,
          2160,
          2160,
          2148,
          2158,
          2158,
          2158,
          2162,
          2160,
          2158,
          2160,
          2098,
          2156,
          2162,
          2160,
          2156,
          2160,
          2156,
          2156,
          2106,
          2156,
          2156,
          2164,
          2158,
          2156,
          2070,
          2156,
          2162,
          2156,
          2162,
          2160,
          2154,
          2162,
          2158,
          2158,
          1800,
          1035,
          1071,
          1076,
          1077,
          1076,
          1080,
          1080,
          1081,
          1071,
          1072,
          1079,
          1074,
          1076,
          1079,
          1075,
          1080,
          1076,
          1067,
          1074,
          1078,
          1079,
          1068,
          1080,
          1061,
          1042,
          1080,
          1080,
          1078,
          1080,
          1080,
          1071,
          1057,
          1078,
          1078,
          1081,
          1071,
          1080,
          1080,
          1072,
          1080,
          1081,
          1080,
          1079,
          1079,
          1079,
          1029,
          1078,
          1079,
          1079,
          1073,
          1068,
          1063,
          1071,
          1077,
          1065,
          1078,
          1079,
          1057,
          1072,
          1068,
          1066,
          1076,
          1058,
          1079,
          1075,
          1078,
          1018,
          1071,
          1069,
          1051,
          1068,
          1058,
          1065,
          1060,
          1064,
          1034,
          481,
          1068,
          1065,
          1061,
          1062,
          1073,
          833,
          720,
          720,
          720,
          720,
          719,
          720,
          720,
          719,
          720,
          720,
          719,
          720,
          720,
          720,
          720,
          719,
          720,
          719,
          720,
          720,
          720,
          720,
          720,
          720,
          719,
          720,
          720,
          720,
          720,
          720,
          720,
          720,
          719,
          720,
          720,
          720,
          720,
          720,
          720,
          720,
          720,
          720,
          720,
          720,
          720,
          720,
          720,
          718,
          720,
          719,
          720,
          720,
          720,
          720,
          720,
          720,
          720,
          720,
          720,
          719,
          718,
          720,
          720,
          720,
          720,
          716,
          720,
          720,
          719,
          720,
          720,
          720,
          720,
          720,
          719,
          720,
          719,
          720,
          720,
          719,
          720,
          719,
          720,
          720,
          720,
          720,
          720,
          720,
          720,
          720,
          720,
          720,
          720,
          720,
          719,
          720,
          720,
          720,
          719,
          720,
          718,
          720,
          718,
          720,
          718,
          114,
          0,
          0,
          0,
          0,
          0,
          0,
          0,
          0,
          0,
          0,
          0,
          0,
          0,
          0,
          0,
          0,
          0,
          0,
          0,
          0,
          0,
          0,
          0,
          0,
          0,
          0,
          0,
          0,
          0,
          0,
          0,
          0,
          253,
          469,
          429,
          293,
          0,
          0,
          0,
          0,
          424,
          719,
          33,
          0,
          0,
          0,
          368,
          720,
          930,
          1500,
          1440,
          1438,
          1438,
          1438,
          1440,
          1440,
          1440,
          1440,
          1440,
          1438,
          1440,
          1440,
          1440,
          1440,
          1434,
          1438,
          1440,
          1440,
          1440,
          1440,
          1440,
          1434,
          1438,
          1440,
          1438,
          1440,
          1364,
          1440,
          1434,
          1440,
          1440,
          1440,
          1440,
          1440,
          1440,
          1438,
          1440,
          1440,
          1438,
          1440,
          1440,
          1440,
          1440,
          1440,
          1440,
          1440,
          1438,
          1440,
          1440,
          1436,
          1440,
          1440,
          1438,
          1440,
          1200,
          480
         ],
         "yaxis": "y"
        }
       ],
       "layout": {
        "height": 250,
        "legend": {
         "tracegroupgap": 0
        },
        "template": {
         "data": {
          "bar": [
           {
            "error_x": {
             "color": "rgb(36,36,36)"
            },
            "error_y": {
             "color": "rgb(36,36,36)"
            },
            "marker": {
             "line": {
              "color": "white",
              "width": 0.5
             },
             "pattern": {
              "fillmode": "overlay",
              "size": 10,
              "solidity": 0.2
             }
            },
            "type": "bar"
           }
          ],
          "barpolar": [
           {
            "marker": {
             "line": {
              "color": "white",
              "width": 0.5
             },
             "pattern": {
              "fillmode": "overlay",
              "size": 10,
              "solidity": 0.2
             }
            },
            "type": "barpolar"
           }
          ],
          "carpet": [
           {
            "aaxis": {
             "endlinecolor": "rgb(36,36,36)",
             "gridcolor": "white",
             "linecolor": "white",
             "minorgridcolor": "white",
             "startlinecolor": "rgb(36,36,36)"
            },
            "baxis": {
             "endlinecolor": "rgb(36,36,36)",
             "gridcolor": "white",
             "linecolor": "white",
             "minorgridcolor": "white",
             "startlinecolor": "rgb(36,36,36)"
            },
            "type": "carpet"
           }
          ],
          "choropleth": [
           {
            "colorbar": {
             "outlinewidth": 1,
             "tickcolor": "rgb(36,36,36)",
             "ticks": "outside"
            },
            "type": "choropleth"
           }
          ],
          "contour": [
           {
            "colorbar": {
             "outlinewidth": 1,
             "tickcolor": "rgb(36,36,36)",
             "ticks": "outside"
            },
            "colorscale": [
             [
              0,
              "#440154"
             ],
             [
              0.1111111111111111,
              "#482878"
             ],
             [
              0.2222222222222222,
              "#3e4989"
             ],
             [
              0.3333333333333333,
              "#31688e"
             ],
             [
              0.4444444444444444,
              "#26828e"
             ],
             [
              0.5555555555555556,
              "#1f9e89"
             ],
             [
              0.6666666666666666,
              "#35b779"
             ],
             [
              0.7777777777777778,
              "#6ece58"
             ],
             [
              0.8888888888888888,
              "#b5de2b"
             ],
             [
              1,
              "#fde725"
             ]
            ],
            "type": "contour"
           }
          ],
          "contourcarpet": [
           {
            "colorbar": {
             "outlinewidth": 1,
             "tickcolor": "rgb(36,36,36)",
             "ticks": "outside"
            },
            "type": "contourcarpet"
           }
          ],
          "heatmap": [
           {
            "colorbar": {
             "outlinewidth": 1,
             "tickcolor": "rgb(36,36,36)",
             "ticks": "outside"
            },
            "colorscale": [
             [
              0,
              "#440154"
             ],
             [
              0.1111111111111111,
              "#482878"
             ],
             [
              0.2222222222222222,
              "#3e4989"
             ],
             [
              0.3333333333333333,
              "#31688e"
             ],
             [
              0.4444444444444444,
              "#26828e"
             ],
             [
              0.5555555555555556,
              "#1f9e89"
             ],
             [
              0.6666666666666666,
              "#35b779"
             ],
             [
              0.7777777777777778,
              "#6ece58"
             ],
             [
              0.8888888888888888,
              "#b5de2b"
             ],
             [
              1,
              "#fde725"
             ]
            ],
            "type": "heatmap"
           }
          ],
          "heatmapgl": [
           {
            "colorbar": {
             "outlinewidth": 1,
             "tickcolor": "rgb(36,36,36)",
             "ticks": "outside"
            },
            "colorscale": [
             [
              0,
              "#440154"
             ],
             [
              0.1111111111111111,
              "#482878"
             ],
             [
              0.2222222222222222,
              "#3e4989"
             ],
             [
              0.3333333333333333,
              "#31688e"
             ],
             [
              0.4444444444444444,
              "#26828e"
             ],
             [
              0.5555555555555556,
              "#1f9e89"
             ],
             [
              0.6666666666666666,
              "#35b779"
             ],
             [
              0.7777777777777778,
              "#6ece58"
             ],
             [
              0.8888888888888888,
              "#b5de2b"
             ],
             [
              1,
              "#fde725"
             ]
            ],
            "type": "heatmapgl"
           }
          ],
          "histogram": [
           {
            "marker": {
             "line": {
              "color": "white",
              "width": 0.6
             }
            },
            "type": "histogram"
           }
          ],
          "histogram2d": [
           {
            "colorbar": {
             "outlinewidth": 1,
             "tickcolor": "rgb(36,36,36)",
             "ticks": "outside"
            },
            "colorscale": [
             [
              0,
              "#440154"
             ],
             [
              0.1111111111111111,
              "#482878"
             ],
             [
              0.2222222222222222,
              "#3e4989"
             ],
             [
              0.3333333333333333,
              "#31688e"
             ],
             [
              0.4444444444444444,
              "#26828e"
             ],
             [
              0.5555555555555556,
              "#1f9e89"
             ],
             [
              0.6666666666666666,
              "#35b779"
             ],
             [
              0.7777777777777778,
              "#6ece58"
             ],
             [
              0.8888888888888888,
              "#b5de2b"
             ],
             [
              1,
              "#fde725"
             ]
            ],
            "type": "histogram2d"
           }
          ],
          "histogram2dcontour": [
           {
            "colorbar": {
             "outlinewidth": 1,
             "tickcolor": "rgb(36,36,36)",
             "ticks": "outside"
            },
            "colorscale": [
             [
              0,
              "#440154"
             ],
             [
              0.1111111111111111,
              "#482878"
             ],
             [
              0.2222222222222222,
              "#3e4989"
             ],
             [
              0.3333333333333333,
              "#31688e"
             ],
             [
              0.4444444444444444,
              "#26828e"
             ],
             [
              0.5555555555555556,
              "#1f9e89"
             ],
             [
              0.6666666666666666,
              "#35b779"
             ],
             [
              0.7777777777777778,
              "#6ece58"
             ],
             [
              0.8888888888888888,
              "#b5de2b"
             ],
             [
              1,
              "#fde725"
             ]
            ],
            "type": "histogram2dcontour"
           }
          ],
          "mesh3d": [
           {
            "colorbar": {
             "outlinewidth": 1,
             "tickcolor": "rgb(36,36,36)",
             "ticks": "outside"
            },
            "type": "mesh3d"
           }
          ],
          "parcoords": [
           {
            "line": {
             "colorbar": {
              "outlinewidth": 1,
              "tickcolor": "rgb(36,36,36)",
              "ticks": "outside"
             }
            },
            "type": "parcoords"
           }
          ],
          "pie": [
           {
            "automargin": true,
            "type": "pie"
           }
          ],
          "scatter": [
           {
            "marker": {
             "colorbar": {
              "outlinewidth": 1,
              "tickcolor": "rgb(36,36,36)",
              "ticks": "outside"
             }
            },
            "type": "scatter"
           }
          ],
          "scatter3d": [
           {
            "line": {
             "colorbar": {
              "outlinewidth": 1,
              "tickcolor": "rgb(36,36,36)",
              "ticks": "outside"
             }
            },
            "marker": {
             "colorbar": {
              "outlinewidth": 1,
              "tickcolor": "rgb(36,36,36)",
              "ticks": "outside"
             }
            },
            "type": "scatter3d"
           }
          ],
          "scattercarpet": [
           {
            "marker": {
             "colorbar": {
              "outlinewidth": 1,
              "tickcolor": "rgb(36,36,36)",
              "ticks": "outside"
             }
            },
            "type": "scattercarpet"
           }
          ],
          "scattergeo": [
           {
            "marker": {
             "colorbar": {
              "outlinewidth": 1,
              "tickcolor": "rgb(36,36,36)",
              "ticks": "outside"
             }
            },
            "type": "scattergeo"
           }
          ],
          "scattergl": [
           {
            "marker": {
             "colorbar": {
              "outlinewidth": 1,
              "tickcolor": "rgb(36,36,36)",
              "ticks": "outside"
             }
            },
            "type": "scattergl"
           }
          ],
          "scattermapbox": [
           {
            "marker": {
             "colorbar": {
              "outlinewidth": 1,
              "tickcolor": "rgb(36,36,36)",
              "ticks": "outside"
             }
            },
            "type": "scattermapbox"
           }
          ],
          "scatterpolar": [
           {
            "marker": {
             "colorbar": {
              "outlinewidth": 1,
              "tickcolor": "rgb(36,36,36)",
              "ticks": "outside"
             }
            },
            "type": "scatterpolar"
           }
          ],
          "scatterpolargl": [
           {
            "marker": {
             "colorbar": {
              "outlinewidth": 1,
              "tickcolor": "rgb(36,36,36)",
              "ticks": "outside"
             }
            },
            "type": "scatterpolargl"
           }
          ],
          "scatterternary": [
           {
            "marker": {
             "colorbar": {
              "outlinewidth": 1,
              "tickcolor": "rgb(36,36,36)",
              "ticks": "outside"
             }
            },
            "type": "scatterternary"
           }
          ],
          "surface": [
           {
            "colorbar": {
             "outlinewidth": 1,
             "tickcolor": "rgb(36,36,36)",
             "ticks": "outside"
            },
            "colorscale": [
             [
              0,
              "#440154"
             ],
             [
              0.1111111111111111,
              "#482878"
             ],
             [
              0.2222222222222222,
              "#3e4989"
             ],
             [
              0.3333333333333333,
              "#31688e"
             ],
             [
              0.4444444444444444,
              "#26828e"
             ],
             [
              0.5555555555555556,
              "#1f9e89"
             ],
             [
              0.6666666666666666,
              "#35b779"
             ],
             [
              0.7777777777777778,
              "#6ece58"
             ],
             [
              0.8888888888888888,
              "#b5de2b"
             ],
             [
              1,
              "#fde725"
             ]
            ],
            "type": "surface"
           }
          ],
          "table": [
           {
            "cells": {
             "fill": {
              "color": "rgb(237,237,237)"
             },
             "line": {
              "color": "white"
             }
            },
            "header": {
             "fill": {
              "color": "rgb(217,217,217)"
             },
             "line": {
              "color": "white"
             }
            },
            "type": "table"
           }
          ]
         },
         "layout": {
          "annotationdefaults": {
           "arrowhead": 0,
           "arrowwidth": 1
          },
          "autosize": true,
          "autotypenumbers": "strict",
          "coloraxis": {
           "colorbar": {
            "outlinewidth": 1,
            "tickcolor": "rgb(36,36,36)",
            "ticks": "outside"
           }
          },
          "colorscale": {
           "diverging": [
            [
             0,
             "rgb(103,0,31)"
            ],
            [
             0.1,
             "rgb(178,24,43)"
            ],
            [
             0.2,
             "rgb(214,96,77)"
            ],
            [
             0.3,
             "rgb(244,165,130)"
            ],
            [
             0.4,
             "rgb(253,219,199)"
            ],
            [
             0.5,
             "rgb(247,247,247)"
            ],
            [
             0.6,
             "rgb(209,229,240)"
            ],
            [
             0.7,
             "rgb(146,197,222)"
            ],
            [
             0.8,
             "rgb(67,147,195)"
            ],
            [
             0.9,
             "rgb(33,102,172)"
            ],
            [
             1,
             "rgb(5,48,97)"
            ]
           ],
           "sequential": [
            [
             0,
             "#440154"
            ],
            [
             0.1111111111111111,
             "#482878"
            ],
            [
             0.2222222222222222,
             "#3e4989"
            ],
            [
             0.3333333333333333,
             "#31688e"
            ],
            [
             0.4444444444444444,
             "#26828e"
            ],
            [
             0.5555555555555556,
             "#1f9e89"
            ],
            [
             0.6666666666666666,
             "#35b779"
            ],
            [
             0.7777777777777778,
             "#6ece58"
            ],
            [
             0.8888888888888888,
             "#b5de2b"
            ],
            [
             1,
             "#fde725"
            ]
           ],
           "sequentialminus": [
            [
             0,
             "#440154"
            ],
            [
             0.1111111111111111,
             "#482878"
            ],
            [
             0.2222222222222222,
             "#3e4989"
            ],
            [
             0.3333333333333333,
             "#31688e"
            ],
            [
             0.4444444444444444,
             "#26828e"
            ],
            [
             0.5555555555555556,
             "#1f9e89"
            ],
            [
             0.6666666666666666,
             "#35b779"
            ],
            [
             0.7777777777777778,
             "#6ece58"
            ],
            [
             0.8888888888888888,
             "#b5de2b"
            ],
            [
             1,
             "#fde725"
            ]
           ]
          },
          "colorway": [
           "#1F77B4",
           "#FF7F0E",
           "#2CA02C",
           "#D62728",
           "#9467BD",
           "#8C564B",
           "#E377C2",
           "#7F7F7F",
           "#BCBD22",
           "#17BECF"
          ],
          "font": {
           "color": "rgb(36,36,36)"
          },
          "geo": {
           "bgcolor": "white",
           "lakecolor": "white",
           "landcolor": "white",
           "showlakes": true,
           "showland": true,
           "subunitcolor": "white"
          },
          "height": 250,
          "hoverlabel": {
           "align": "left"
          },
          "hovermode": "closest",
          "mapbox": {
           "style": "light"
          },
          "margin": {
           "b": 10,
           "l": 10,
           "r": 10,
           "t": 10
          },
          "paper_bgcolor": "white",
          "plot_bgcolor": "white",
          "polar": {
           "angularaxis": {
            "gridcolor": "rgb(232,232,232)",
            "linecolor": "rgb(36,36,36)",
            "showgrid": false,
            "showline": true,
            "ticks": "outside"
           },
           "bgcolor": "white",
           "radialaxis": {
            "gridcolor": "rgb(232,232,232)",
            "linecolor": "rgb(36,36,36)",
            "showgrid": false,
            "showline": true,
            "ticks": "outside"
           }
          },
          "scene": {
           "xaxis": {
            "backgroundcolor": "white",
            "gridcolor": "rgb(232,232,232)",
            "gridwidth": 2,
            "linecolor": "rgb(36,36,36)",
            "showbackground": true,
            "showgrid": false,
            "showline": true,
            "ticks": "outside",
            "zeroline": false,
            "zerolinecolor": "rgb(36,36,36)"
           },
           "yaxis": {
            "backgroundcolor": "white",
            "gridcolor": "rgb(232,232,232)",
            "gridwidth": 2,
            "linecolor": "rgb(36,36,36)",
            "showbackground": true,
            "showgrid": false,
            "showline": true,
            "ticks": "outside",
            "zeroline": false,
            "zerolinecolor": "rgb(36,36,36)"
           },
           "zaxis": {
            "backgroundcolor": "white",
            "gridcolor": "rgb(232,232,232)",
            "gridwidth": 2,
            "linecolor": "rgb(36,36,36)",
            "showbackground": true,
            "showgrid": false,
            "showline": true,
            "ticks": "outside",
            "zeroline": false,
            "zerolinecolor": "rgb(36,36,36)"
           }
          },
          "shapedefaults": {
           "fillcolor": "black",
           "line": {
            "width": 0
           },
           "opacity": 0.3
          },
          "ternary": {
           "aaxis": {
            "gridcolor": "rgb(232,232,232)",
            "linecolor": "rgb(36,36,36)",
            "showgrid": false,
            "showline": true,
            "ticks": "outside"
           },
           "baxis": {
            "gridcolor": "rgb(232,232,232)",
            "linecolor": "rgb(36,36,36)",
            "showgrid": false,
            "showline": true,
            "ticks": "outside"
           },
           "bgcolor": "white",
           "caxis": {
            "gridcolor": "rgb(232,232,232)",
            "linecolor": "rgb(36,36,36)",
            "showgrid": false,
            "showline": true,
            "ticks": "outside"
           }
          },
          "title": {
           "x": 0.5,
           "xanchor": "center"
          },
          "width": 350,
          "xaxis": {
           "automargin": true,
           "gridcolor": "rgb(232,232,232)",
           "linecolor": "rgb(36,36,36)",
           "showgrid": true,
           "showline": true,
           "ticks": "outside",
           "title": {
            "standoff": 15
           },
           "zeroline": false,
           "zerolinecolor": "rgb(36,36,36)"
          },
          "yaxis": {
           "automargin": true,
           "gridcolor": "rgb(232,232,232)",
           "linecolor": "rgb(36,36,36)",
           "showgrid": true,
           "showline": true,
           "ticks": "outside",
           "title": {
            "standoff": 15
           },
           "zeroline": false,
           "zerolinecolor": "rgb(36,36,36)"
          }
         }
        },
        "width": 550,
        "xaxis": {
         "anchor": "y",
         "autorange": true,
         "domain": [
          0,
          1
         ],
         "range": [
          "2018-05-19",
          "2019-12-29"
         ],
         "title": {
          "text": "timestamp"
         },
         "type": "date"
        },
        "yaxis": {
         "anchor": "x",
         "autorange": true,
         "domain": [
          0,
          1
         ],
         "range": [
          -125.00000000000003,
          2375
         ],
         "title": {
          "text": "records_per_day"
         },
         "type": "linear"
        }
       }
      },
      "image/png": "[encoded data removed]",
      "image/svg+xml": [
       "<svg class=\"main-svg\" xmlns=\"http://www.w3.org/2000/svg\" xmlns:xlink=\"http://www.w3.org/1999/xlink\" width=\"550\" height=\"250\" style=\"\" viewBox=\"0 0 550 250\"><rect x=\"0\" y=\"0\" width=\"550\" height=\"250\" style=\"fill: rgb(255, 255, 255); fill-opacity: 1;\"/><defs id=\"defs-823a46\"><g class=\"clips\"><clipPath id=\"clip823a46xyplot\" class=\"plotclip\"><rect width=\"469\" height=\"181\"/></clipPath><clipPath class=\"axesclip\" id=\"clip823a46x\"><rect x=\"71\" y=\"0\" width=\"469\" height=\"250\"/></clipPath><clipPath class=\"axesclip\" id=\"clip823a46y\"><rect x=\"0\" y=\"10\" width=\"550\" height=\"181\"/></clipPath><clipPath class=\"axesclip\" id=\"clip823a46xy\"><rect x=\"71\" y=\"10\" width=\"469\" height=\"181\"/></clipPath></g><g class=\"gradients\"/><g class=\"patterns\"/></defs><g class=\"bglayer\"/><g class=\"layer-below\"><g class=\"imagelayer\"/><g class=\"shapelayer\"/></g><g class=\"cartesianlayer\"><g class=\"subplot xy\"><g class=\"layer-subplot\"><g class=\"shapelayer\"/><g class=\"imagelayer\"/></g><g class=\"gridlayer\"><g class=\"x\"><path class=\"xgrid crisp\" transform=\"translate(105.24000000000001,0)\" d=\"M0,10v181\" style=\"stroke: rgb(232, 232, 232); stroke-opacity: 1; stroke-width: 1px;\"/><path class=\"xgrid crisp\" transform=\"translate(178.5,0)\" d=\"M0,10v181\" style=\"stroke: rgb(232, 232, 232); stroke-opacity: 1; stroke-width: 1px;\"/><path class=\"xgrid crisp\" transform=\"translate(251.75,0)\" d=\"M0,10v181\" style=\"stroke: rgb(232, 232, 232); stroke-opacity: 1; stroke-width: 1px;\"/><path class=\"xgrid crisp\" transform=\"translate(323.41999999999996,0)\" d=\"M0,10v181\" style=\"stroke: rgb(232, 232, 232); stroke-opacity: 1; stroke-width: 1px;\"/><path class=\"xgrid crisp\" transform=\"translate(395.88,0)\" d=\"M0,10v181\" style=\"stroke: rgb(232, 232, 232); stroke-opacity: 1; stroke-width: 1px;\"/><path class=\"xgrid crisp\" transform=\"translate(469.13,0)\" d=\"M0,10v181\" style=\"stroke: rgb(232, 232, 232); stroke-opacity: 1; stroke-width: 1px;\"/></g><g class=\"y\"><path class=\"ygrid crisp\" transform=\"translate(0,181.95)\" d=\"M71,0h469\" style=\"stroke: rgb(232, 232, 232); stroke-opacity: 1; stroke-width: 1px;\"/><path class=\"ygrid crisp\" transform=\"translate(0,145.75)\" d=\"M71,0h469\" style=\"stroke: rgb(232, 232, 232); stroke-opacity: 1; stroke-width: 1px;\"/><path class=\"ygrid crisp\" transform=\"translate(0,109.55)\" d=\"M71,0h469\" style=\"stroke: rgb(232, 232, 232); stroke-opacity: 1; stroke-width: 1px;\"/><path class=\"ygrid crisp\" transform=\"translate(0,73.35)\" d=\"M71,0h469\" style=\"stroke: rgb(232, 232, 232); stroke-opacity: 1; stroke-width: 1px;\"/><path class=\"ygrid crisp\" transform=\"translate(0,37.15)\" d=\"M71,0h469\" style=\"stroke: rgb(232, 232, 232); stroke-opacity: 1; stroke-width: 1px;\"/></g></g><g class=\"zerolinelayer\"/><path class=\"xlines-below\"/><path class=\"ylines-below\"/><g class=\"overlines-below\"/><g class=\"xaxislayer-below\"/><g class=\"yaxislayer-below\"/><g class=\"overaxes-below\"/><g class=\"plot\" transform=\"translate(71,10)\" clip-path=\"url(#clip823a46xyplot)\"><g class=\"scatterlayer mlayer\"><g class=\"trace scatter trace396a16\" style=\"stroke-miterlimit: 2; opacity: 1;\"><g class=\"fills\"/><g class=\"errorbars\"/><g class=\"lines\"><path class=\"js-line\" d=\"M0,149.14L0.8,93.83L1.59,94.19L2.39,93.83L3.19,99.62L3.98,99.04L4.78,94.12L7.17,93.9L7.96,93.98L8.76,94.55L9.56,93.83L15.13,94.19L15.93,93.9L18.31,94.05L19.11,94.41L19.91,93.83L20.7,94.55L22.3,93.83L23.09,94.41L24.68,93.76L25.48,93.98L26.28,99.84L27.07,93.9L29.46,94.41L30.26,93.9L31.05,94.84L31.85,94.55L34.24,94.12L35.04,98.68L36.63,171.95L37.42,171.95L46.18,171.95L46.98,120.62L47.78,94.41L48.57,94.34L50.96,94.19L51.76,94.12L54.15,94.12L54.94,94.77L56.53,95.5L57.33,93.83L61.31,94.12L62.11,95.93L62.9,93.98L63.7,94.48L65.29,94.19L66.09,94.05L67.68,93.9L68.48,95.21L70.07,94.7L70.87,96.44L71.66,97.16L72.46,95.93L73.26,94.12L74.05,95.86L74.85,94.63L75.65,95.35L76.44,95.86L77.24,94.92L78.03,96.29L78.83,94.99L79.63,95.93L80.42,94.05L81.22,95.13L82.02,93.98L85.2,93.76L86,95.5L89.18,93.69L89.98,93.9L94.76,94.19L95.55,93.83L97.94,93.9L98.74,97.67L99.53,97.81L100.33,102.16L101.13,103.39L101.92,100.93L102.72,104.98L103.51,98.39L104.31,97.67L105.11,94.05L105.9,95.06L106.7,94.26L108.29,95.86L109.09,93.9L109.88,95.64L110.68,94.99L111.48,101.29L112.27,100.2L113.07,99.41L113.87,100.56L114.66,101.94L115.46,101.14L116.25,100.42L117.05,100.78L119.44,94.12L120.24,94.05L124.22,93.83L125.01,94.26L126.61,93.76L127.4,94.12L130.59,93.9L131.38,93.9L132.18,93.83L132.98,94.63L133.77,71.46L134.57,9.05L135.37,19.91L136.16,19.77L136.96,20.05L137.75,17.59L138.55,26.28L139.35,79.57L140.14,16.58L140.94,15.71L141.74,16.29L142.53,24.25L143.33,30.77L144.12,15.86L145.72,15.57L146.51,16.58L150.49,16.58L151.29,17.88L152.09,17.88L152.88,16.72L153.68,18.03L154.48,17.16L156.07,16.87L156.86,16L157.66,22.52L158.46,19.19L160.05,17.01L160.85,16.58L162.44,16.43L163.23,27.73L164.03,17.45L164.83,18.17L165.62,19.19L166.42,17.59L167.22,16L168.01,80.29L168.81,171.95L169.6,171.95L170.4,171.95L171.2,113.6L171.99,16L172.79,17.16L174.38,16.58L175.18,18.46L176.77,19.62L177.57,18.61L178.36,19.19L179.16,16.58L179.96,22.37L180.75,16L181.55,17.88L182.34,16L183.14,17.59L183.94,16.15L184.73,18.32L185.53,18.32L187.12,16.43L187.92,16.58L190.31,16L191.1,18.17L192.7,18.32L193.49,17.45L195.08,16L195.88,19.62L196.68,16.43L197.47,17.45L198.27,17.01L199.07,18.9L199.86,15.86L200.66,16.72L201.46,16.43L202.25,17.59L203.84,15.86L204.64,15.57L207.83,15.57L208.62,16.43L210.21,15.71L211.01,15.71L212.6,15.57L213.4,15.71L214.2,15.57L214.99,20.05L216.58,15.42L217.38,15.57L219.77,15.86L220.57,15.86L221.36,19.48L222.16,15.86L225.34,15.86L226.14,22.08L227.73,15.42L228.53,15.86L230.12,15.57L230.92,16L232.51,15.71L233.31,15.71L234.1,41.63L234.9,97.02L236.49,94.05L237.29,93.98L244.45,94.05L245.25,93.83L248.43,94.7L249.23,94.19L250.82,93.83L251.62,94.63L252.42,93.76L253.21,95.13L254.01,96.51L254.8,93.76L258.79,94.41L259.58,95.42L261.17,93.9L261.97,93.69L262.77,94.41L263.56,93.76L269.93,93.83L270.73,97.45L271.53,93.9L272.32,93.83L273.92,94.26L274.71,94.63L275.51,94.99L276.3,94.41L277.1,93.98L277.9,94.84L279.49,93.83L280.29,95.42L281.08,94.34L281.88,94.63L282.67,94.77L283.47,94.05L284.27,95.35L285.06,93.83L286.66,93.9L287.45,98.25L288.25,94.41L289.04,94.55L289.84,95.86L290.64,94.63L291.43,95.35L292.23,94.84L293.82,94.92L294.62,97.09L295.41,137.13L296.21,94.63L298.6,95.06L299.4,94.26L300.99,119.82L301.78,119.82L383.8,119.97L384.6,163.7L385.39,171.95L386.19,171.95L410.08,171.95L410.87,153.63L411.67,137.99L412.47,140.89L413.26,150.74L414.06,171.95L416.45,171.95L417.24,141.25L418.04,119.89L418.84,169.56L419.63,171.95L420.43,171.95L421.22,171.95L422.02,145.31L424.41,63.35L425.21,67.69L429.19,67.69L429.98,67.69L445.11,67.69L445.91,73.2L446.7,67.69L447.5,68.13L449.09,67.69L449.89,67.69L467.41,67.69L468.2,85.07L469,137.2\" style=\"vector-effect: non-scaling-stroke; fill: none; stroke: rgb(31, 119, 180); stroke-opacity: 1; stroke-width: 2px; opacity: 1;\"/></g><g class=\"points\"/><g class=\"text\"/></g></g></g><g class=\"overplot\"/><path class=\"xlines-above crisp\" d=\"M70,191.5H540\" style=\"fill: none; stroke-width: 1px; stroke: rgb(36, 36, 36); stroke-opacity: 1;\"/><path class=\"ylines-above crisp\" d=\"M70.5,10V191\" style=\"fill: none; stroke-width: 1px; stroke: rgb(36, 36, 36); stroke-opacity: 1;\"/><g class=\"overlines-above\"/><g class=\"xaxislayer-above\"><path class=\"xtick ticks crisp\" d=\"M0,192v5\" transform=\"translate(105.24000000000001,0)\" style=\"stroke: rgb(68, 68, 68); stroke-opacity: 1; stroke-width: 1px;\"/><path class=\"xtick ticks crisp\" d=\"M0,192v5\" transform=\"translate(178.5,0)\" style=\"stroke: rgb(68, 68, 68); stroke-opacity: 1; stroke-width: 1px;\"/><path class=\"xtick ticks crisp\" d=\"M0,192v5\" transform=\"translate(251.75,0)\" style=\"stroke: rgb(68, 68, 68); stroke-opacity: 1; stroke-width: 1px;\"/><path class=\"xtick ticks crisp\" d=\"M0,192v5\" transform=\"translate(323.41999999999996,0)\" style=\"stroke: rgb(68, 68, 68); stroke-opacity: 1; stroke-width: 1px;\"/><path class=\"xtick ticks crisp\" d=\"M0,192v5\" transform=\"translate(395.88,0)\" style=\"stroke: rgb(68, 68, 68); stroke-opacity: 1; stroke-width: 1px;\"/><path class=\"xtick ticks crisp\" d=\"M0,192v5\" transform=\"translate(469.13,0)\" style=\"stroke: rgb(68, 68, 68); stroke-opacity: 1; stroke-width: 1px;\"/><g class=\"xtick\"><text text-anchor=\"middle\" x=\"0\" y=\"211.4\" transform=\"translate(105.24000000000001,0)\" style=\"font-family: 'Open Sans', verdana, arial, sans-serif; font-size: 12px; fill: rgb(36, 36, 36); fill-opacity: 1; white-space: pre; opacity: 1;\">Jul 2018</text></g><g class=\"xtick\"><text text-anchor=\"middle\" x=\"0\" y=\"211.4\" style=\"font-family: 'Open Sans', verdana, arial, sans-serif; font-size: 12px; fill: rgb(36, 36, 36); fill-opacity: 1; white-space: pre; opacity: 1;\" transform=\"translate(178.5,0)\">Oct 2018</text></g><g class=\"xtick\"><text text-anchor=\"middle\" x=\"0\" y=\"211.4\" style=\"font-family: 'Open Sans', verdana, arial, sans-serif; font-size: 12px; fill: rgb(36, 36, 36); fill-opacity: 1; white-space: pre; opacity: 1;\" transform=\"translate(251.75,0)\">Jan 2019</text></g><g class=\"xtick\"><text text-anchor=\"middle\" x=\"0\" y=\"211.4\" style=\"font-family: 'Open Sans', verdana, arial, sans-serif; font-size: 12px; fill: rgb(36, 36, 36); fill-opacity: 1; white-space: pre; opacity: 1;\" transform=\"translate(323.41999999999996,0)\">Apr 2019</text></g><g class=\"xtick\"><text text-anchor=\"middle\" x=\"0\" y=\"211.4\" style=\"font-family: 'Open Sans', verdana, arial, sans-serif; font-size: 12px; fill: rgb(36, 36, 36); fill-opacity: 1; white-space: pre; opacity: 1;\" transform=\"translate(395.88,0)\">Jul 2019</text></g><g class=\"xtick\"><text text-anchor=\"middle\" x=\"0\" y=\"211.4\" style=\"font-family: 'Open Sans', verdana, arial, sans-serif; font-size: 12px; fill: rgb(36, 36, 36); fill-opacity: 1; white-space: pre; opacity: 1;\" transform=\"translate(469.13,0)\">Oct 2019</text></g></g><g class=\"yaxislayer-above\"><path class=\"ytick ticks crisp\" d=\"M70,0h-5\" transform=\"translate(0,181.95)\" style=\"stroke: rgb(68, 68, 68); stroke-opacity: 1; stroke-width: 1px;\"/><path class=\"ytick ticks crisp\" d=\"M70,0h-5\" transform=\"translate(0,145.75)\" style=\"stroke: rgb(68, 68, 68); stroke-opacity: 1; stroke-width: 1px;\"/><path class=\"ytick ticks crisp\" d=\"M70,0h-5\" transform=\"translate(0,109.55)\" style=\"stroke: rgb(68, 68, 68); stroke-opacity: 1; stroke-width: 1px;\"/><path class=\"ytick ticks crisp\" d=\"M70,0h-5\" transform=\"translate(0,73.35)\" style=\"stroke: rgb(68, 68, 68); stroke-opacity: 1; stroke-width: 1px;\"/><path class=\"ytick ticks crisp\" d=\"M70,0h-5\" transform=\"translate(0,37.15)\" style=\"stroke: rgb(68, 68, 68); stroke-opacity: 1; stroke-width: 1px;\"/><g class=\"ytick\"><text text-anchor=\"end\" x=\"62.6\" y=\"4.199999999999999\" transform=\"translate(0,181.95)\" style=\"font-family: 'Open Sans', verdana, arial, sans-serif; font-size: 12px; fill: rgb(36, 36, 36); fill-opacity: 1; white-space: pre; opacity: 1;\">0</text></g><g class=\"ytick\"><text text-anchor=\"end\" x=\"62.6\" y=\"4.199999999999999\" style=\"font-family: 'Open Sans', verdana, arial, sans-serif; font-size: 12px; fill: rgb(36, 36, 36); fill-opacity: 1; white-space: pre; opacity: 1;\" transform=\"translate(0,145.75)\">500</text></g><g class=\"ytick\"><text text-anchor=\"end\" x=\"62.6\" y=\"4.199999999999999\" style=\"font-family: 'Open Sans', verdana, arial, sans-serif; font-size: 12px; fill: rgb(36, 36, 36); fill-opacity: 1; white-space: pre; opacity: 1;\" transform=\"translate(0,109.55)\">1000</text></g><g class=\"ytick\"><text text-anchor=\"end\" x=\"62.6\" y=\"4.199999999999999\" style=\"font-family: 'Open Sans', verdana, arial, sans-serif; font-size: 12px; fill: rgb(36, 36, 36); fill-opacity: 1; white-space: pre; opacity: 1;\" transform=\"translate(0,73.35)\">1500</text></g><g class=\"ytick\"><text text-anchor=\"end\" x=\"62.6\" y=\"4.199999999999999\" style=\"font-family: 'Open Sans', verdana, arial, sans-serif; font-size: 12px; fill: rgb(36, 36, 36); fill-opacity: 1; white-space: pre; opacity: 1;\" transform=\"translate(0,37.15)\">2000</text></g></g><g class=\"overaxes-above\"/></g></g><g class=\"polarlayer\"/><g class=\"smithlayer\"/><g class=\"ternarylayer\"/><g class=\"geolayer\"/><g class=\"funnelarealayer\"/><g class=\"pielayer\"/><g class=\"iciclelayer\"/><g class=\"treemaplayer\"/><g class=\"sunburstlayer\"/><g class=\"glimages\"/><defs id=\"topdefs-823a46\"><g class=\"clips\"/></defs><g class=\"layer-above\"><g class=\"imagelayer\"/><g class=\"shapelayer\"/></g><g class=\"infolayer\"><g class=\"g-gtitle\"/><g class=\"g-xtitle\"><text class=\"xtitle\" x=\"305.5\" y=\"239.70625\" text-anchor=\"middle\" style=\"font-family: 'Open Sans', verdana, arial, sans-serif; font-size: 14px; fill: rgb(36, 36, 36); opacity: 1; font-weight: normal; white-space: pre;\">timestamp</text></g><g class=\"g-ytitle\" transform=\"translate(4.6591796875,0)\"><text class=\"ytitle\" transform=\"rotate(-90,10.340625000000003,100.5)\" x=\"10.340625000000003\" y=\"100.5\" text-anchor=\"middle\" style=\"font-family: 'Open Sans', verdana, arial, sans-serif; font-size: 14px; fill: rgb(36, 36, 36); opacity: 1; font-weight: normal; white-space: pre;\">records_per_day</text></g></g></svg>"
      ]
     },
     "metadata": {},
     "output_type": "display_data"
    }
   ],
   "source": [
    "px.line(per_day, x=per_day.index, y='records_per_day',\n",
    "       width=550, height=250)"
   ]
  },
  {
   "cell_type": "markdown",
   "metadata": {},
   "source": [
    "This is a fascinating plot. We see clear gaps in the data where there\n",
    "are no measurements. It appears that significant portions of data in July 2018,\n",
    "and September 2019 are missing. Even when the sensor appears to be\n",
    "working, the number of measurements per day is slightly different. For\n",
    "instance, the plot is \"bumpy\" between August and October 2018, where dates have a\n",
    "varying number of measurements. We need to decide what we want to\n",
    "do with missing data. But perhaps more urgently: there are strange \"steps\" in the plot.\n",
    "Some dates have around 1000 readings, some around 2000, some around 700, and some around 1400.\n",
    "If a sensor takes measurements every 2 minutes, there should be a maximum of 720 measurements\n",
    "per day. For a perfect sensor, the plot would display a flat line at 720\n",
    "measurements. This is clearly not the case. Let's investigate."
   ]
  },
  {
   "cell_type": "markdown",
   "metadata": {},
   "source": [
    "### Checking the Sampling Rate"
   ]
  },
  {
   "cell_type": "markdown",
   "metadata": {},
   "source": [
    "Deeper digging reveals that although PurpleAir sensors currently record data\n",
    "every 120 seconds, this was not always the case. Before May 30, 2019, sensors\n",
    "recorded data every 80 seconds, or 1080 points a day.\n",
    "The change in sampling rate does explain the drop at May 30, 2019.\n",
    "Let's next look at the time periods where there were many more points than expected.\n",
    "This could mean that some measurements were duplicated in the data.\n",
    "We can check this by looking at the measurements for one day, say, Jan 1, 2019.\n",
    "We pass a string into `.loc` to filter timestamps for that date."
   ]
  },
  {
   "cell_type": "code",
   "execution_count": 14,
   "metadata": {},
   "outputs": [
    {
     "data": {
      "text/plain": [
       "2154"
      ]
     },
     "execution_count": 14,
     "metadata": {},
     "output_type": "execute_result"
    }
   ],
   "source": [
    "len(pa.loc['2019-01-01'])"
   ]
  },
  {
   "cell_type": "markdown",
   "metadata": {},
   "source": [
    "There are almost double the 1080 expected readings.\n",
    "Let's check to see if readings are duplicated."
   ]
  },
  {
   "cell_type": "code",
   "execution_count": 15,
   "metadata": {},
   "outputs": [
    {
     "data": {
      "text/plain": [
       "2019-01-01 13:52:30-08:00    2\n",
       "2019-01-01 12:02:21-08:00    2\n",
       "2019-01-01 11:49:01-08:00    2\n",
       "                            ..\n",
       "2019-01-01 21:34:10-08:00    2\n",
       "2019-01-01 11:03:41-08:00    2\n",
       "2019-01-01 04:05:38-08:00    2\n",
       "Name: timestamp, Length: 1077, dtype: int64"
      ]
     },
     "execution_count": 15,
     "metadata": {},
     "output_type": "execute_result"
    }
   ],
   "source": [
    "pa.loc['2019-01-01'].index.value_counts()"
   ]
  },
  {
   "cell_type": "markdown",
   "metadata": {},
   "source": [
    "Each timestamp appears exactly twice, and we can verify that all duplicated dates contain the same PM2.5 reading.\n",
    "Since this is also\n",
    "true for both temperature and humidity, we drop the duplicate rows from the data frame."
   ]
  },
  {
   "cell_type": "code",
   "execution_count": 11,
   "metadata": {},
   "outputs": [
    {
     "data": {
      "text/plain": [
       "(502628, 3)"
      ]
     },
     "execution_count": 11,
     "metadata": {},
     "output_type": "execute_result"
    }
   ],
   "source": [
    "def drop_duplicate_rows(df):\n",
    "    return df[~df.index.duplicated()]\n",
    "\n",
    "pa = (pa_full\n",
    "      .pipe(drop_and_rename_cols)\n",
    "      .pipe(parse_timestamps)\n",
    "      .pipe(convert_tz)\n",
    "      .pipe(drop_duplicate_rows))\n",
    "pa.shape"
   ]
  },
  {
   "cell_type": "markdown",
   "metadata": {},
   "source": [
    "To check, we remake the line plot of the number of records for a day, and this time shade in the regions where the counts are supposed to be contained. "
   ]
  },
  {
   "cell_type": "code",
   "execution_count": 36,
   "metadata": {},
   "outputs": [],
   "source": [
    "per_day = (pa.resample('D')\n",
    " .size().rename('records_per_day')\n",
    " .to_frame()\n",
    ")"
   ]
  },
  {
   "cell_type": "code",
   "execution_count": 37,
   "metadata": {},
   "outputs": [
    {
     "data": {
      "application/vnd.plotly.v1+json": {
       "config": {
        "plotlyServerURL": "https://plot.ly"
       },
       "data": [
        {
         "hovertemplate": "timestamp=%{x}<br>records_per_day=%{y}<extra></extra>",
         "legendgroup": "",
         "line": {
          "color": "#1F77B4",
          "dash": "solid"
         },
         "marker": {
          "symbol": "circle"
         },
         "mode": "lines",
         "name": "",
         "orientation": "v",
         "showlegend": false,
         "type": "scatter",
         "x": [
          "2018-05-19T00:00:00-07:00",
          "2018-05-20T00:00:00-07:00",
          "2018-05-21T00:00:00-07:00",
          "2018-05-22T00:00:00-07:00",
          "2018-05-23T00:00:00-07:00",
          "2018-05-24T00:00:00-07:00",
          "2018-05-25T00:00:00-07:00",
          "2018-05-26T00:00:00-07:00",
          "2018-05-27T00:00:00-07:00",
          "2018-05-28T00:00:00-07:00",
          "2018-05-29T00:00:00-07:00",
          "2018-05-30T00:00:00-07:00",
          "2018-05-31T00:00:00-07:00",
          "2018-06-01T00:00:00-07:00",
          "2018-06-02T00:00:00-07:00",
          "2018-06-03T00:00:00-07:00",
          "2018-06-04T00:00:00-07:00",
          "2018-06-05T00:00:00-07:00",
          "2018-06-06T00:00:00-07:00",
          "2018-06-07T00:00:00-07:00",
          "2018-06-08T00:00:00-07:00",
          "2018-06-09T00:00:00-07:00",
          "2018-06-10T00:00:00-07:00",
          "2018-06-11T00:00:00-07:00",
          "2018-06-12T00:00:00-07:00",
          "2018-06-13T00:00:00-07:00",
          "2018-06-14T00:00:00-07:00",
          "2018-06-15T00:00:00-07:00",
          "2018-06-16T00:00:00-07:00",
          "2018-06-17T00:00:00-07:00",
          "2018-06-18T00:00:00-07:00",
          "2018-06-19T00:00:00-07:00",
          "2018-06-20T00:00:00-07:00",
          "2018-06-21T00:00:00-07:00",
          "2018-06-22T00:00:00-07:00",
          "2018-06-23T00:00:00-07:00",
          "2018-06-24T00:00:00-07:00",
          "2018-06-25T00:00:00-07:00",
          "2018-06-26T00:00:00-07:00",
          "2018-06-27T00:00:00-07:00",
          "2018-06-28T00:00:00-07:00",
          "2018-06-29T00:00:00-07:00",
          "2018-06-30T00:00:00-07:00",
          "2018-07-01T00:00:00-07:00",
          "2018-07-02T00:00:00-07:00",
          "2018-07-03T00:00:00-07:00",
          "2018-07-04T00:00:00-07:00",
          "2018-07-05T00:00:00-07:00",
          "2018-07-06T00:00:00-07:00",
          "2018-07-07T00:00:00-07:00",
          "2018-07-08T00:00:00-07:00",
          "2018-07-09T00:00:00-07:00",
          "2018-07-10T00:00:00-07:00",
          "2018-07-11T00:00:00-07:00",
          "2018-07-12T00:00:00-07:00",
          "2018-07-13T00:00:00-07:00",
          "2018-07-14T00:00:00-07:00",
          "2018-07-15T00:00:00-07:00",
          "2018-07-16T00:00:00-07:00",
          "2018-07-17T00:00:00-07:00",
          "2018-07-18T00:00:00-07:00",
          "2018-07-19T00:00:00-07:00",
          "2018-07-20T00:00:00-07:00",
          "2018-07-21T00:00:00-07:00",
          "2018-07-22T00:00:00-07:00",
          "2018-07-23T00:00:00-07:00",
          "2018-07-24T00:00:00-07:00",
          "2018-07-25T00:00:00-07:00",
          "2018-07-26T00:00:00-07:00",
          "2018-07-27T00:00:00-07:00",
          "2018-07-28T00:00:00-07:00",
          "2018-07-29T00:00:00-07:00",
          "2018-07-30T00:00:00-07:00",
          "2018-07-31T00:00:00-07:00",
          "2018-08-01T00:00:00-07:00",
          "2018-08-02T00:00:00-07:00",
          "2018-08-03T00:00:00-07:00",
          "2018-08-04T00:00:00-07:00",
          "2018-08-05T00:00:00-07:00",
          "2018-08-06T00:00:00-07:00",
          "2018-08-07T00:00:00-07:00",
          "2018-08-08T00:00:00-07:00",
          "2018-08-09T00:00:00-07:00",
          "2018-08-10T00:00:00-07:00",
          "2018-08-11T00:00:00-07:00",
          "2018-08-12T00:00:00-07:00",
          "2018-08-13T00:00:00-07:00",
          "2018-08-14T00:00:00-07:00",
          "2018-08-15T00:00:00-07:00",
          "2018-08-16T00:00:00-07:00",
          "2018-08-17T00:00:00-07:00",
          "2018-08-18T00:00:00-07:00",
          "2018-08-19T00:00:00-07:00",
          "2018-08-20T00:00:00-07:00",
          "2018-08-21T00:00:00-07:00",
          "2018-08-22T00:00:00-07:00",
          "2018-08-23T00:00:00-07:00",
          "2018-08-24T00:00:00-07:00",
          "2018-08-25T00:00:00-07:00",
          "2018-08-26T00:00:00-07:00",
          "2018-08-27T00:00:00-07:00",
          "2018-08-28T00:00:00-07:00",
          "2018-08-29T00:00:00-07:00",
          "2018-08-30T00:00:00-07:00",
          "2018-08-31T00:00:00-07:00",
          "2018-09-01T00:00:00-07:00",
          "2018-09-02T00:00:00-07:00",
          "2018-09-03T00:00:00-07:00",
          "2018-09-04T00:00:00-07:00",
          "2018-09-05T00:00:00-07:00",
          "2018-09-06T00:00:00-07:00",
          "2018-09-07T00:00:00-07:00",
          "2018-09-08T00:00:00-07:00",
          "2018-09-09T00:00:00-07:00",
          "2018-09-10T00:00:00-07:00",
          "2018-09-11T00:00:00-07:00",
          "2018-09-12T00:00:00-07:00",
          "2018-09-13T00:00:00-07:00",
          "2018-09-14T00:00:00-07:00",
          "2018-09-15T00:00:00-07:00",
          "2018-09-16T00:00:00-07:00",
          "2018-09-17T00:00:00-07:00",
          "2018-09-18T00:00:00-07:00",
          "2018-09-19T00:00:00-07:00",
          "2018-09-20T00:00:00-07:00",
          "2018-09-21T00:00:00-07:00",
          "2018-09-22T00:00:00-07:00",
          "2018-09-23T00:00:00-07:00",
          "2018-09-24T00:00:00-07:00",
          "2018-09-25T00:00:00-07:00",
          "2018-09-26T00:00:00-07:00",
          "2018-09-27T00:00:00-07:00",
          "2018-09-28T00:00:00-07:00",
          "2018-09-29T00:00:00-07:00",
          "2018-09-30T00:00:00-07:00",
          "2018-10-01T00:00:00-07:00",
          "2018-10-02T00:00:00-07:00",
          "2018-10-03T00:00:00-07:00",
          "2018-10-04T00:00:00-07:00",
          "2018-10-05T00:00:00-07:00",
          "2018-10-06T00:00:00-07:00",
          "2018-10-07T00:00:00-07:00",
          "2018-10-08T00:00:00-07:00",
          "2018-10-09T00:00:00-07:00",
          "2018-10-10T00:00:00-07:00",
          "2018-10-11T00:00:00-07:00",
          "2018-10-12T00:00:00-07:00",
          "2018-10-13T00:00:00-07:00",
          "2018-10-14T00:00:00-07:00",
          "2018-10-15T00:00:00-07:00",
          "2018-10-16T00:00:00-07:00",
          "2018-10-17T00:00:00-07:00",
          "2018-10-18T00:00:00-07:00",
          "2018-10-19T00:00:00-07:00",
          "2018-10-20T00:00:00-07:00",
          "2018-10-21T00:00:00-07:00",
          "2018-10-22T00:00:00-07:00",
          "2018-10-23T00:00:00-07:00",
          "2018-10-24T00:00:00-07:00",
          "2018-10-25T00:00:00-07:00",
          "2018-10-26T00:00:00-07:00",
          "2018-10-27T00:00:00-07:00",
          "2018-10-28T00:00:00-07:00",
          "2018-10-29T00:00:00-07:00",
          "2018-10-30T00:00:00-07:00",
          "2018-10-31T00:00:00-07:00",
          "2018-11-01T00:00:00-07:00",
          "2018-11-02T00:00:00-07:00",
          "2018-11-03T00:00:00-07:00",
          "2018-11-04T00:00:00-07:00",
          "2018-11-05T00:00:00-08:00",
          "2018-11-06T00:00:00-08:00",
          "2018-11-07T00:00:00-08:00",
          "2018-11-08T00:00:00-08:00",
          "2018-11-09T00:00:00-08:00",
          "2018-11-10T00:00:00-08:00",
          "2018-11-11T00:00:00-08:00",
          "2018-11-12T00:00:00-08:00",
          "2018-11-13T00:00:00-08:00",
          "2018-11-14T00:00:00-08:00",
          "2018-11-15T00:00:00-08:00",
          "2018-11-16T00:00:00-08:00",
          "2018-11-17T00:00:00-08:00",
          "2018-11-18T00:00:00-08:00",
          "2018-11-19T00:00:00-08:00",
          "2018-11-20T00:00:00-08:00",
          "2018-11-21T00:00:00-08:00",
          "2018-11-22T00:00:00-08:00",
          "2018-11-23T00:00:00-08:00",
          "2018-11-24T00:00:00-08:00",
          "2018-11-25T00:00:00-08:00",
          "2018-11-26T00:00:00-08:00",
          "2018-11-27T00:00:00-08:00",
          "2018-11-28T00:00:00-08:00",
          "2018-11-29T00:00:00-08:00",
          "2018-11-30T00:00:00-08:00",
          "2018-12-01T00:00:00-08:00",
          "2018-12-02T00:00:00-08:00",
          "2018-12-03T00:00:00-08:00",
          "2018-12-04T00:00:00-08:00",
          "2018-12-05T00:00:00-08:00",
          "2018-12-06T00:00:00-08:00",
          "2018-12-07T00:00:00-08:00",
          "2018-12-08T00:00:00-08:00",
          "2018-12-09T00:00:00-08:00",
          "2018-12-10T00:00:00-08:00",
          "2018-12-11T00:00:00-08:00",
          "2018-12-12T00:00:00-08:00",
          "2018-12-13T00:00:00-08:00",
          "2018-12-14T00:00:00-08:00",
          "2018-12-15T00:00:00-08:00",
          "2018-12-16T00:00:00-08:00",
          "2018-12-17T00:00:00-08:00",
          "2018-12-18T00:00:00-08:00",
          "2018-12-19T00:00:00-08:00",
          "2018-12-20T00:00:00-08:00",
          "2018-12-21T00:00:00-08:00",
          "2018-12-22T00:00:00-08:00",
          "2018-12-23T00:00:00-08:00",
          "2018-12-24T00:00:00-08:00",
          "2018-12-25T00:00:00-08:00",
          "2018-12-26T00:00:00-08:00",
          "2018-12-27T00:00:00-08:00",
          "2018-12-28T00:00:00-08:00",
          "2018-12-29T00:00:00-08:00",
          "2018-12-30T00:00:00-08:00",
          "2018-12-31T00:00:00-08:00",
          "2019-01-01T00:00:00-08:00",
          "2019-01-02T00:00:00-08:00",
          "2019-01-03T00:00:00-08:00",
          "2019-01-04T00:00:00-08:00",
          "2019-01-05T00:00:00-08:00",
          "2019-01-06T00:00:00-08:00",
          "2019-01-07T00:00:00-08:00",
          "2019-01-08T00:00:00-08:00",
          "2019-01-09T00:00:00-08:00",
          "2019-01-10T00:00:00-08:00",
          "2019-01-11T00:00:00-08:00",
          "2019-01-12T00:00:00-08:00",
          "2019-01-13T00:00:00-08:00",
          "2019-01-14T00:00:00-08:00",
          "2019-01-15T00:00:00-08:00",
          "2019-01-16T00:00:00-08:00",
          "2019-01-17T00:00:00-08:00",
          "2019-01-18T00:00:00-08:00",
          "2019-01-19T00:00:00-08:00",
          "2019-01-20T00:00:00-08:00",
          "2019-01-21T00:00:00-08:00",
          "2019-01-22T00:00:00-08:00",
          "2019-01-23T00:00:00-08:00",
          "2019-01-24T00:00:00-08:00",
          "2019-01-25T00:00:00-08:00",
          "2019-01-26T00:00:00-08:00",
          "2019-01-27T00:00:00-08:00",
          "2019-01-28T00:00:00-08:00",
          "2019-01-29T00:00:00-08:00",
          "2019-01-30T00:00:00-08:00",
          "2019-01-31T00:00:00-08:00",
          "2019-02-01T00:00:00-08:00",
          "2019-02-02T00:00:00-08:00",
          "2019-02-03T00:00:00-08:00",
          "2019-02-04T00:00:00-08:00",
          "2019-02-05T00:00:00-08:00",
          "2019-02-06T00:00:00-08:00",
          "2019-02-07T00:00:00-08:00",
          "2019-02-08T00:00:00-08:00",
          "2019-02-09T00:00:00-08:00",
          "2019-02-10T00:00:00-08:00",
          "2019-02-11T00:00:00-08:00",
          "2019-02-12T00:00:00-08:00",
          "2019-02-13T00:00:00-08:00",
          "2019-02-14T00:00:00-08:00",
          "2019-02-15T00:00:00-08:00",
          "2019-02-16T00:00:00-08:00",
          "2019-02-17T00:00:00-08:00",
          "2019-02-18T00:00:00-08:00",
          "2019-02-19T00:00:00-08:00",
          "2019-02-20T00:00:00-08:00",
          "2019-02-21T00:00:00-08:00",
          "2019-02-22T00:00:00-08:00",
          "2019-02-23T00:00:00-08:00",
          "2019-02-24T00:00:00-08:00",
          "2019-02-25T00:00:00-08:00",
          "2019-02-26T00:00:00-08:00",
          "2019-02-27T00:00:00-08:00",
          "2019-02-28T00:00:00-08:00",
          "2019-03-01T00:00:00-08:00",
          "2019-03-02T00:00:00-08:00",
          "2019-03-03T00:00:00-08:00",
          "2019-03-04T00:00:00-08:00",
          "2019-03-05T00:00:00-08:00",
          "2019-03-06T00:00:00-08:00",
          "2019-03-07T00:00:00-08:00",
          "2019-03-08T00:00:00-08:00",
          "2019-03-09T00:00:00-08:00",
          "2019-03-10T00:00:00-08:00",
          "2019-03-11T00:00:00-07:00",
          "2019-03-12T00:00:00-07:00",
          "2019-03-13T00:00:00-07:00",
          "2019-03-14T00:00:00-07:00",
          "2019-03-15T00:00:00-07:00",
          "2019-03-16T00:00:00-07:00",
          "2019-03-17T00:00:00-07:00",
          "2019-03-18T00:00:00-07:00",
          "2019-03-19T00:00:00-07:00",
          "2019-03-20T00:00:00-07:00",
          "2019-03-21T00:00:00-07:00",
          "2019-03-22T00:00:00-07:00",
          "2019-03-23T00:00:00-07:00",
          "2019-03-24T00:00:00-07:00",
          "2019-03-25T00:00:00-07:00",
          "2019-03-26T00:00:00-07:00",
          "2019-03-27T00:00:00-07:00",
          "2019-03-28T00:00:00-07:00",
          "2019-03-29T00:00:00-07:00",
          "2019-03-30T00:00:00-07:00",
          "2019-03-31T00:00:00-07:00",
          "2019-04-01T00:00:00-07:00",
          "2019-04-02T00:00:00-07:00",
          "2019-04-03T00:00:00-07:00",
          "2019-04-04T00:00:00-07:00",
          "2019-04-05T00:00:00-07:00",
          "2019-04-06T00:00:00-07:00",
          "2019-04-07T00:00:00-07:00",
          "2019-04-08T00:00:00-07:00",
          "2019-04-09T00:00:00-07:00",
          "2019-04-10T00:00:00-07:00",
          "2019-04-11T00:00:00-07:00",
          "2019-04-12T00:00:00-07:00",
          "2019-04-13T00:00:00-07:00",
          "2019-04-14T00:00:00-07:00",
          "2019-04-15T00:00:00-07:00",
          "2019-04-16T00:00:00-07:00",
          "2019-04-17T00:00:00-07:00",
          "2019-04-18T00:00:00-07:00",
          "2019-04-19T00:00:00-07:00",
          "2019-04-20T00:00:00-07:00",
          "2019-04-21T00:00:00-07:00",
          "2019-04-22T00:00:00-07:00",
          "2019-04-23T00:00:00-07:00",
          "2019-04-24T00:00:00-07:00",
          "2019-04-25T00:00:00-07:00",
          "2019-04-26T00:00:00-07:00",
          "2019-04-27T00:00:00-07:00",
          "2019-04-28T00:00:00-07:00",
          "2019-04-29T00:00:00-07:00",
          "2019-04-30T00:00:00-07:00",
          "2019-05-01T00:00:00-07:00",
          "2019-05-02T00:00:00-07:00",
          "2019-05-03T00:00:00-07:00",
          "2019-05-04T00:00:00-07:00",
          "2019-05-05T00:00:00-07:00",
          "2019-05-06T00:00:00-07:00",
          "2019-05-07T00:00:00-07:00",
          "2019-05-08T00:00:00-07:00",
          "2019-05-09T00:00:00-07:00",
          "2019-05-10T00:00:00-07:00",
          "2019-05-11T00:00:00-07:00",
          "2019-05-12T00:00:00-07:00",
          "2019-05-13T00:00:00-07:00",
          "2019-05-14T00:00:00-07:00",
          "2019-05-15T00:00:00-07:00",
          "2019-05-16T00:00:00-07:00",
          "2019-05-17T00:00:00-07:00",
          "2019-05-18T00:00:00-07:00",
          "2019-05-19T00:00:00-07:00",
          "2019-05-20T00:00:00-07:00",
          "2019-05-21T00:00:00-07:00",
          "2019-05-22T00:00:00-07:00",
          "2019-05-23T00:00:00-07:00",
          "2019-05-24T00:00:00-07:00",
          "2019-05-25T00:00:00-07:00",
          "2019-05-26T00:00:00-07:00",
          "2019-05-27T00:00:00-07:00",
          "2019-05-28T00:00:00-07:00",
          "2019-05-29T00:00:00-07:00",
          "2019-05-30T00:00:00-07:00",
          "2019-05-31T00:00:00-07:00",
          "2019-06-01T00:00:00-07:00",
          "2019-06-02T00:00:00-07:00",
          "2019-06-03T00:00:00-07:00",
          "2019-06-04T00:00:00-07:00",
          "2019-06-05T00:00:00-07:00",
          "2019-06-06T00:00:00-07:00",
          "2019-06-07T00:00:00-07:00",
          "2019-06-08T00:00:00-07:00",
          "2019-06-09T00:00:00-07:00",
          "2019-06-10T00:00:00-07:00",
          "2019-06-11T00:00:00-07:00",
          "2019-06-12T00:00:00-07:00",
          "2019-06-13T00:00:00-07:00",
          "2019-06-14T00:00:00-07:00",
          "2019-06-15T00:00:00-07:00",
          "2019-06-16T00:00:00-07:00",
          "2019-06-17T00:00:00-07:00",
          "2019-06-18T00:00:00-07:00",
          "2019-06-19T00:00:00-07:00",
          "2019-06-20T00:00:00-07:00",
          "2019-06-21T00:00:00-07:00",
          "2019-06-22T00:00:00-07:00",
          "2019-06-23T00:00:00-07:00",
          "2019-06-24T00:00:00-07:00",
          "2019-06-25T00:00:00-07:00",
          "2019-06-26T00:00:00-07:00",
          "2019-06-27T00:00:00-07:00",
          "2019-06-28T00:00:00-07:00",
          "2019-06-29T00:00:00-07:00",
          "2019-06-30T00:00:00-07:00",
          "2019-07-01T00:00:00-07:00",
          "2019-07-02T00:00:00-07:00",
          "2019-07-03T00:00:00-07:00",
          "2019-07-04T00:00:00-07:00",
          "2019-07-05T00:00:00-07:00",
          "2019-07-06T00:00:00-07:00",
          "2019-07-07T00:00:00-07:00",
          "2019-07-08T00:00:00-07:00",
          "2019-07-09T00:00:00-07:00",
          "2019-07-10T00:00:00-07:00",
          "2019-07-11T00:00:00-07:00",
          "2019-07-12T00:00:00-07:00",
          "2019-07-13T00:00:00-07:00",
          "2019-07-14T00:00:00-07:00",
          "2019-07-15T00:00:00-07:00",
          "2019-07-16T00:00:00-07:00",
          "2019-07-17T00:00:00-07:00",
          "2019-07-18T00:00:00-07:00",
          "2019-07-19T00:00:00-07:00",
          "2019-07-20T00:00:00-07:00",
          "2019-07-21T00:00:00-07:00",
          "2019-07-22T00:00:00-07:00",
          "2019-07-23T00:00:00-07:00",
          "2019-07-24T00:00:00-07:00",
          "2019-07-25T00:00:00-07:00",
          "2019-07-26T00:00:00-07:00",
          "2019-07-27T00:00:00-07:00",
          "2019-07-28T00:00:00-07:00",
          "2019-07-29T00:00:00-07:00",
          "2019-07-30T00:00:00-07:00",
          "2019-07-31T00:00:00-07:00",
          "2019-08-01T00:00:00-07:00",
          "2019-08-02T00:00:00-07:00",
          "2019-08-03T00:00:00-07:00",
          "2019-08-04T00:00:00-07:00",
          "2019-08-05T00:00:00-07:00",
          "2019-08-06T00:00:00-07:00",
          "2019-08-07T00:00:00-07:00",
          "2019-08-08T00:00:00-07:00",
          "2019-08-09T00:00:00-07:00",
          "2019-08-10T00:00:00-07:00",
          "2019-08-11T00:00:00-07:00",
          "2019-08-12T00:00:00-07:00",
          "2019-08-13T00:00:00-07:00",
          "2019-08-14T00:00:00-07:00",
          "2019-08-15T00:00:00-07:00",
          "2019-08-16T00:00:00-07:00",
          "2019-08-17T00:00:00-07:00",
          "2019-08-18T00:00:00-07:00",
          "2019-08-19T00:00:00-07:00",
          "2019-08-20T00:00:00-07:00",
          "2019-08-21T00:00:00-07:00",
          "2019-08-22T00:00:00-07:00",
          "2019-08-23T00:00:00-07:00",
          "2019-08-24T00:00:00-07:00",
          "2019-08-25T00:00:00-07:00",
          "2019-08-26T00:00:00-07:00",
          "2019-08-27T00:00:00-07:00",
          "2019-08-28T00:00:00-07:00",
          "2019-08-29T00:00:00-07:00",
          "2019-08-30T00:00:00-07:00",
          "2019-08-31T00:00:00-07:00",
          "2019-09-01T00:00:00-07:00",
          "2019-09-02T00:00:00-07:00",
          "2019-09-03T00:00:00-07:00",
          "2019-09-04T00:00:00-07:00",
          "2019-09-05T00:00:00-07:00",
          "2019-09-06T00:00:00-07:00",
          "2019-09-07T00:00:00-07:00",
          "2019-09-08T00:00:00-07:00",
          "2019-09-09T00:00:00-07:00",
          "2019-09-10T00:00:00-07:00",
          "2019-09-11T00:00:00-07:00",
          "2019-09-12T00:00:00-07:00",
          "2019-09-13T00:00:00-07:00",
          "2019-09-14T00:00:00-07:00",
          "2019-09-15T00:00:00-07:00",
          "2019-09-16T00:00:00-07:00",
          "2019-09-17T00:00:00-07:00",
          "2019-09-18T00:00:00-07:00",
          "2019-09-19T00:00:00-07:00",
          "2019-09-20T00:00:00-07:00",
          "2019-09-21T00:00:00-07:00",
          "2019-09-22T00:00:00-07:00",
          "2019-09-23T00:00:00-07:00",
          "2019-09-24T00:00:00-07:00",
          "2019-09-25T00:00:00-07:00",
          "2019-09-26T00:00:00-07:00",
          "2019-09-27T00:00:00-07:00",
          "2019-09-28T00:00:00-07:00",
          "2019-09-29T00:00:00-07:00",
          "2019-09-30T00:00:00-07:00",
          "2019-10-01T00:00:00-07:00",
          "2019-10-02T00:00:00-07:00",
          "2019-10-03T00:00:00-07:00",
          "2019-10-04T00:00:00-07:00",
          "2019-10-05T00:00:00-07:00",
          "2019-10-06T00:00:00-07:00",
          "2019-10-07T00:00:00-07:00",
          "2019-10-08T00:00:00-07:00",
          "2019-10-09T00:00:00-07:00",
          "2019-10-10T00:00:00-07:00",
          "2019-10-11T00:00:00-07:00",
          "2019-10-12T00:00:00-07:00",
          "2019-10-13T00:00:00-07:00",
          "2019-10-14T00:00:00-07:00",
          "2019-10-15T00:00:00-07:00",
          "2019-10-16T00:00:00-07:00",
          "2019-10-17T00:00:00-07:00",
          "2019-10-18T00:00:00-07:00",
          "2019-10-19T00:00:00-07:00",
          "2019-10-20T00:00:00-07:00",
          "2019-10-21T00:00:00-07:00",
          "2019-10-22T00:00:00-07:00",
          "2019-10-23T00:00:00-07:00",
          "2019-10-24T00:00:00-07:00",
          "2019-10-25T00:00:00-07:00",
          "2019-10-26T00:00:00-07:00",
          "2019-10-27T00:00:00-07:00",
          "2019-10-28T00:00:00-07:00",
          "2019-10-29T00:00:00-07:00",
          "2019-10-30T00:00:00-07:00",
          "2019-10-31T00:00:00-07:00",
          "2019-11-01T00:00:00-07:00",
          "2019-11-02T00:00:00-07:00",
          "2019-11-03T00:00:00-07:00",
          "2019-11-04T00:00:00-08:00",
          "2019-11-05T00:00:00-08:00",
          "2019-11-06T00:00:00-08:00",
          "2019-11-07T00:00:00-08:00",
          "2019-11-08T00:00:00-08:00",
          "2019-11-09T00:00:00-08:00",
          "2019-11-10T00:00:00-08:00",
          "2019-11-11T00:00:00-08:00",
          "2019-11-12T00:00:00-08:00",
          "2019-11-13T00:00:00-08:00",
          "2019-11-14T00:00:00-08:00",
          "2019-11-15T00:00:00-08:00",
          "2019-11-16T00:00:00-08:00",
          "2019-11-17T00:00:00-08:00",
          "2019-11-18T00:00:00-08:00",
          "2019-11-19T00:00:00-08:00",
          "2019-11-20T00:00:00-08:00",
          "2019-11-21T00:00:00-08:00",
          "2019-11-22T00:00:00-08:00",
          "2019-11-23T00:00:00-08:00",
          "2019-11-24T00:00:00-08:00",
          "2019-11-25T00:00:00-08:00",
          "2019-11-26T00:00:00-08:00",
          "2019-11-27T00:00:00-08:00",
          "2019-11-28T00:00:00-08:00",
          "2019-11-29T00:00:00-08:00",
          "2019-11-30T00:00:00-08:00",
          "2019-12-01T00:00:00-08:00",
          "2019-12-02T00:00:00-08:00",
          "2019-12-03T00:00:00-08:00",
          "2019-12-04T00:00:00-08:00",
          "2019-12-05T00:00:00-08:00",
          "2019-12-06T00:00:00-08:00",
          "2019-12-07T00:00:00-08:00",
          "2019-12-08T00:00:00-08:00",
          "2019-12-09T00:00:00-08:00",
          "2019-12-10T00:00:00-08:00",
          "2019-12-11T00:00:00-08:00",
          "2019-12-12T00:00:00-08:00",
          "2019-12-13T00:00:00-08:00",
          "2019-12-14T00:00:00-08:00",
          "2019-12-15T00:00:00-08:00",
          "2019-12-16T00:00:00-08:00",
          "2019-12-17T00:00:00-08:00",
          "2019-12-18T00:00:00-08:00",
          "2019-12-19T00:00:00-08:00",
          "2019-12-20T00:00:00-08:00",
          "2019-12-21T00:00:00-08:00",
          "2019-12-22T00:00:00-08:00",
          "2019-12-23T00:00:00-08:00",
          "2019-12-24T00:00:00-08:00",
          "2019-12-25T00:00:00-08:00",
          "2019-12-26T00:00:00-08:00",
          "2019-12-27T00:00:00-08:00",
          "2019-12-28T00:00:00-08:00",
          "2019-12-29T00:00:00-08:00"
         ],
         "xaxis": "x",
         "y": [
          315,
          1079,
          1074,
          1079,
          999,
          1007,
          1075,
          1079,
          1077,
          1078,
          1077,
          1069,
          1079,
          1078,
          1081,
          1079,
          1076,
          1076,
          1069,
          1074,
          1078,
          1079,
          1077,
          1076,
          1071,
          1079,
          1069,
          1075,
          1079,
          1071,
          1078,
          1080,
          1077,
          996,
          1078,
          1075,
          1074,
          1071,
          1078,
          1065,
          1069,
          1073,
          1077,
          1075,
          1012,
          426,
          0,
          0,
          0,
          0,
          0,
          0,
          0,
          0,
          0,
          0,
          0,
          0,
          0,
          709,
          1071,
          1072,
          1075,
          1080,
          1074,
          1075,
          1077,
          1071,
          1075,
          1066,
          1063,
          1056,
          1079,
          1079,
          1079,
          1077,
          1078,
          1075,
          1050,
          1077,
          1070,
          1076,
          1074,
          1076,
          1077,
          1078,
          1060,
          1069,
          1067,
          1043,
          1033,
          1050,
          1075,
          1051,
          1068,
          1058,
          1051,
          1064,
          1045,
          1063,
          1050,
          1076,
          1061,
          1077,
          1079,
          1079,
          1078,
          1080,
          1056,
          1062,
          1072,
          1080,
          1081,
          1078,
          1076,
          1079,
          1073,
          1075,
          1078,
          1074,
          1079,
          1079,
          1077,
          1078,
          1026,
          1024,
          964,
          947,
          981,
          925,
          1016,
          1026,
          1076,
          1062,
          1073,
          1067,
          1051,
          1078,
          1054,
          1063,
          976,
          991,
          1002,
          986,
          967,
          978,
          988,
          983,
          1018,
          1069,
          1075,
          1076,
          1077,
          1080,
          1074,
          1077,
          1079,
          1073,
          1078,
          1080,
          1075,
          1078,
          1080,
          1076,
          1078,
          1078,
          1079,
          1068,
          1077,
          1125,
          1050,
          1051,
          1049,
          1066,
          1006,
          638,
          1073,
          1079,
          1075,
          1020,
          975,
          1078,
          1080,
          1080,
          1073,
          1072,
          1076,
          1075,
          1071,
          1073,
          1064,
          1064,
          1072,
          1063,
          1069,
          1069,
          1071,
          1077,
          1032,
          1055,
          1065,
          1070,
          1073,
          1073,
          1074,
          996,
          1067,
          1062,
          1055,
          1066,
          1077,
          633,
          0,
          0,
          0,
          403,
          1077,
          1069,
          1074,
          1073,
          1060,
          1056,
          1052,
          1059,
          1055,
          1073,
          1033,
          1077,
          1064,
          1077,
          1066,
          1076,
          1061,
          1061,
          1070,
          1074,
          1073,
          1074,
          1076,
          1077,
          1062,
          1061,
          1061,
          1067,
          1073,
          1077,
          1052,
          1074,
          1067,
          1070,
          1057,
          1078,
          1072,
          1074,
          1066,
          1074,
          1078,
          1080,
          1081,
          1080,
          1080,
          1080,
          1074,
          1079,
          1079,
          1079,
          1081,
          1080,
          1079,
          1080,
          1049,
          1078,
          1081,
          1080,
          1078,
          1080,
          1078,
          1078,
          1053,
          1078,
          1078,
          1082,
          1079,
          1078,
          1035,
          1078,
          1081,
          1078,
          1081,
          1080,
          1077,
          1081,
          1079,
          1079,
          1080,
          1035,
          1071,
          1076,
          1077,
          1076,
          1080,
          1080,
          1081,
          1071,
          1072,
          1079,
          1074,
          1076,
          1079,
          1075,
          1080,
          1076,
          1067,
          1074,
          1078,
          1079,
          1068,
          1080,
          1061,
          1042,
          1080,
          1080,
          1078,
          1080,
          1080,
          1071,
          1057,
          1078,
          1078,
          1081,
          1071,
          1080,
          1080,
          1072,
          1080,
          1081,
          1080,
          1079,
          1079,
          1079,
          1029,
          1078,
          1079,
          1079,
          1073,
          1068,
          1063,
          1071,
          1077,
          1065,
          1078,
          1079,
          1057,
          1072,
          1068,
          1066,
          1076,
          1058,
          1079,
          1075,
          1078,
          1018,
          1071,
          1069,
          1051,
          1068,
          1058,
          1065,
          1060,
          1064,
          1034,
          481,
          1068,
          1065,
          1061,
          1062,
          1073,
          833,
          720,
          720,
          720,
          720,
          719,
          720,
          720,
          719,
          720,
          720,
          719,
          720,
          720,
          720,
          720,
          719,
          720,
          719,
          720,
          720,
          720,
          720,
          720,
          720,
          719,
          720,
          720,
          720,
          720,
          720,
          720,
          720,
          719,
          720,
          720,
          720,
          720,
          720,
          720,
          720,
          720,
          720,
          720,
          720,
          720,
          720,
          720,
          718,
          720,
          719,
          720,
          720,
          720,
          720,
          720,
          720,
          720,
          720,
          720,
          719,
          718,
          720,
          720,
          720,
          720,
          716,
          720,
          720,
          719,
          720,
          720,
          720,
          720,
          720,
          719,
          720,
          719,
          720,
          720,
          719,
          720,
          719,
          720,
          720,
          720,
          720,
          720,
          720,
          720,
          720,
          720,
          720,
          720,
          720,
          719,
          720,
          720,
          720,
          719,
          720,
          718,
          720,
          718,
          720,
          718,
          114,
          0,
          0,
          0,
          0,
          0,
          0,
          0,
          0,
          0,
          0,
          0,
          0,
          0,
          0,
          0,
          0,
          0,
          0,
          0,
          0,
          0,
          0,
          0,
          0,
          0,
          0,
          0,
          0,
          0,
          0,
          0,
          0,
          253,
          469,
          429,
          293,
          0,
          0,
          0,
          0,
          424,
          719,
          33,
          0,
          0,
          0,
          368,
          720,
          720,
          750,
          720,
          719,
          719,
          719,
          720,
          720,
          720,
          720,
          720,
          719,
          720,
          720,
          720,
          720,
          717,
          719,
          720,
          720,
          720,
          720,
          720,
          717,
          719,
          720,
          719,
          720,
          682,
          720,
          717,
          720,
          720,
          720,
          720,
          720,
          720,
          719,
          720,
          720,
          719,
          720,
          720,
          720,
          720,
          720,
          720,
          720,
          719,
          720,
          720,
          718,
          720,
          720,
          719,
          720,
          720,
          480
         ],
         "yaxis": "y"
        }
       ],
       "layout": {
        "height": 250,
        "legend": {
         "tracegroupgap": 0
        },
        "shapes": [
         {
          "line": {
           "color": "yellow"
          },
          "type": "rect",
          "x0": "2019-05-30",
          "x1": "2019-12-27",
          "y0": 0,
          "y1": 720
         },
         {
          "line": {
           "color": "red"
          },
          "type": "rect",
          "x0": "2018-05-22",
          "x1": "2019-05-30",
          "y0": 0,
          "y1": 1080
         }
        ],
        "template": {
         "data": {
          "bar": [
           {
            "error_x": {
             "color": "rgb(36,36,36)"
            },
            "error_y": {
             "color": "rgb(36,36,36)"
            },
            "marker": {
             "line": {
              "color": "white",
              "width": 0.5
             },
             "pattern": {
              "fillmode": "overlay",
              "size": 10,
              "solidity": 0.2
             }
            },
            "type": "bar"
           }
          ],
          "barpolar": [
           {
            "marker": {
             "line": {
              "color": "white",
              "width": 0.5
             },
             "pattern": {
              "fillmode": "overlay",
              "size": 10,
              "solidity": 0.2
             }
            },
            "type": "barpolar"
           }
          ],
          "carpet": [
           {
            "aaxis": {
             "endlinecolor": "rgb(36,36,36)",
             "gridcolor": "white",
             "linecolor": "white",
             "minorgridcolor": "white",
             "startlinecolor": "rgb(36,36,36)"
            },
            "baxis": {
             "endlinecolor": "rgb(36,36,36)",
             "gridcolor": "white",
             "linecolor": "white",
             "minorgridcolor": "white",
             "startlinecolor": "rgb(36,36,36)"
            },
            "type": "carpet"
           }
          ],
          "choropleth": [
           {
            "colorbar": {
             "outlinewidth": 1,
             "tickcolor": "rgb(36,36,36)",
             "ticks": "outside"
            },
            "type": "choropleth"
           }
          ],
          "contour": [
           {
            "colorbar": {
             "outlinewidth": 1,
             "tickcolor": "rgb(36,36,36)",
             "ticks": "outside"
            },
            "colorscale": [
             [
              0,
              "#440154"
             ],
             [
              0.1111111111111111,
              "#482878"
             ],
             [
              0.2222222222222222,
              "#3e4989"
             ],
             [
              0.3333333333333333,
              "#31688e"
             ],
             [
              0.4444444444444444,
              "#26828e"
             ],
             [
              0.5555555555555556,
              "#1f9e89"
             ],
             [
              0.6666666666666666,
              "#35b779"
             ],
             [
              0.7777777777777778,
              "#6ece58"
             ],
             [
              0.8888888888888888,
              "#b5de2b"
             ],
             [
              1,
              "#fde725"
             ]
            ],
            "type": "contour"
           }
          ],
          "contourcarpet": [
           {
            "colorbar": {
             "outlinewidth": 1,
             "tickcolor": "rgb(36,36,36)",
             "ticks": "outside"
            },
            "type": "contourcarpet"
           }
          ],
          "heatmap": [
           {
            "colorbar": {
             "outlinewidth": 1,
             "tickcolor": "rgb(36,36,36)",
             "ticks": "outside"
            },
            "colorscale": [
             [
              0,
              "#440154"
             ],
             [
              0.1111111111111111,
              "#482878"
             ],
             [
              0.2222222222222222,
              "#3e4989"
             ],
             [
              0.3333333333333333,
              "#31688e"
             ],
             [
              0.4444444444444444,
              "#26828e"
             ],
             [
              0.5555555555555556,
              "#1f9e89"
             ],
             [
              0.6666666666666666,
              "#35b779"
             ],
             [
              0.7777777777777778,
              "#6ece58"
             ],
             [
              0.8888888888888888,
              "#b5de2b"
             ],
             [
              1,
              "#fde725"
             ]
            ],
            "type": "heatmap"
           }
          ],
          "heatmapgl": [
           {
            "colorbar": {
             "outlinewidth": 1,
             "tickcolor": "rgb(36,36,36)",
             "ticks": "outside"
            },
            "colorscale": [
             [
              0,
              "#440154"
             ],
             [
              0.1111111111111111,
              "#482878"
             ],
             [
              0.2222222222222222,
              "#3e4989"
             ],
             [
              0.3333333333333333,
              "#31688e"
             ],
             [
              0.4444444444444444,
              "#26828e"
             ],
             [
              0.5555555555555556,
              "#1f9e89"
             ],
             [
              0.6666666666666666,
              "#35b779"
             ],
             [
              0.7777777777777778,
              "#6ece58"
             ],
             [
              0.8888888888888888,
              "#b5de2b"
             ],
             [
              1,
              "#fde725"
             ]
            ],
            "type": "heatmapgl"
           }
          ],
          "histogram": [
           {
            "marker": {
             "line": {
              "color": "white",
              "width": 0.6
             }
            },
            "type": "histogram"
           }
          ],
          "histogram2d": [
           {
            "colorbar": {
             "outlinewidth": 1,
             "tickcolor": "rgb(36,36,36)",
             "ticks": "outside"
            },
            "colorscale": [
             [
              0,
              "#440154"
             ],
             [
              0.1111111111111111,
              "#482878"
             ],
             [
              0.2222222222222222,
              "#3e4989"
             ],
             [
              0.3333333333333333,
              "#31688e"
             ],
             [
              0.4444444444444444,
              "#26828e"
             ],
             [
              0.5555555555555556,
              "#1f9e89"
             ],
             [
              0.6666666666666666,
              "#35b779"
             ],
             [
              0.7777777777777778,
              "#6ece58"
             ],
             [
              0.8888888888888888,
              "#b5de2b"
             ],
             [
              1,
              "#fde725"
             ]
            ],
            "type": "histogram2d"
           }
          ],
          "histogram2dcontour": [
           {
            "colorbar": {
             "outlinewidth": 1,
             "tickcolor": "rgb(36,36,36)",
             "ticks": "outside"
            },
            "colorscale": [
             [
              0,
              "#440154"
             ],
             [
              0.1111111111111111,
              "#482878"
             ],
             [
              0.2222222222222222,
              "#3e4989"
             ],
             [
              0.3333333333333333,
              "#31688e"
             ],
             [
              0.4444444444444444,
              "#26828e"
             ],
             [
              0.5555555555555556,
              "#1f9e89"
             ],
             [
              0.6666666666666666,
              "#35b779"
             ],
             [
              0.7777777777777778,
              "#6ece58"
             ],
             [
              0.8888888888888888,
              "#b5de2b"
             ],
             [
              1,
              "#fde725"
             ]
            ],
            "type": "histogram2dcontour"
           }
          ],
          "mesh3d": [
           {
            "colorbar": {
             "outlinewidth": 1,
             "tickcolor": "rgb(36,36,36)",
             "ticks": "outside"
            },
            "type": "mesh3d"
           }
          ],
          "parcoords": [
           {
            "line": {
             "colorbar": {
              "outlinewidth": 1,
              "tickcolor": "rgb(36,36,36)",
              "ticks": "outside"
             }
            },
            "type": "parcoords"
           }
          ],
          "pie": [
           {
            "automargin": true,
            "type": "pie"
           }
          ],
          "scatter": [
           {
            "marker": {
             "colorbar": {
              "outlinewidth": 1,
              "tickcolor": "rgb(36,36,36)",
              "ticks": "outside"
             }
            },
            "type": "scatter"
           }
          ],
          "scatter3d": [
           {
            "line": {
             "colorbar": {
              "outlinewidth": 1,
              "tickcolor": "rgb(36,36,36)",
              "ticks": "outside"
             }
            },
            "marker": {
             "colorbar": {
              "outlinewidth": 1,
              "tickcolor": "rgb(36,36,36)",
              "ticks": "outside"
             }
            },
            "type": "scatter3d"
           }
          ],
          "scattercarpet": [
           {
            "marker": {
             "colorbar": {
              "outlinewidth": 1,
              "tickcolor": "rgb(36,36,36)",
              "ticks": "outside"
             }
            },
            "type": "scattercarpet"
           }
          ],
          "scattergeo": [
           {
            "marker": {
             "colorbar": {
              "outlinewidth": 1,
              "tickcolor": "rgb(36,36,36)",
              "ticks": "outside"
             }
            },
            "type": "scattergeo"
           }
          ],
          "scattergl": [
           {
            "marker": {
             "colorbar": {
              "outlinewidth": 1,
              "tickcolor": "rgb(36,36,36)",
              "ticks": "outside"
             }
            },
            "type": "scattergl"
           }
          ],
          "scattermapbox": [
           {
            "marker": {
             "colorbar": {
              "outlinewidth": 1,
              "tickcolor": "rgb(36,36,36)",
              "ticks": "outside"
             }
            },
            "type": "scattermapbox"
           }
          ],
          "scatterpolar": [
           {
            "marker": {
             "colorbar": {
              "outlinewidth": 1,
              "tickcolor": "rgb(36,36,36)",
              "ticks": "outside"
             }
            },
            "type": "scatterpolar"
           }
          ],
          "scatterpolargl": [
           {
            "marker": {
             "colorbar": {
              "outlinewidth": 1,
              "tickcolor": "rgb(36,36,36)",
              "ticks": "outside"
             }
            },
            "type": "scatterpolargl"
           }
          ],
          "scatterternary": [
           {
            "marker": {
             "colorbar": {
              "outlinewidth": 1,
              "tickcolor": "rgb(36,36,36)",
              "ticks": "outside"
             }
            },
            "type": "scatterternary"
           }
          ],
          "surface": [
           {
            "colorbar": {
             "outlinewidth": 1,
             "tickcolor": "rgb(36,36,36)",
             "ticks": "outside"
            },
            "colorscale": [
             [
              0,
              "#440154"
             ],
             [
              0.1111111111111111,
              "#482878"
             ],
             [
              0.2222222222222222,
              "#3e4989"
             ],
             [
              0.3333333333333333,
              "#31688e"
             ],
             [
              0.4444444444444444,
              "#26828e"
             ],
             [
              0.5555555555555556,
              "#1f9e89"
             ],
             [
              0.6666666666666666,
              "#35b779"
             ],
             [
              0.7777777777777778,
              "#6ece58"
             ],
             [
              0.8888888888888888,
              "#b5de2b"
             ],
             [
              1,
              "#fde725"
             ]
            ],
            "type": "surface"
           }
          ],
          "table": [
           {
            "cells": {
             "fill": {
              "color": "rgb(237,237,237)"
             },
             "line": {
              "color": "white"
             }
            },
            "header": {
             "fill": {
              "color": "rgb(217,217,217)"
             },
             "line": {
              "color": "white"
             }
            },
            "type": "table"
           }
          ]
         },
         "layout": {
          "annotationdefaults": {
           "arrowhead": 0,
           "arrowwidth": 1
          },
          "autosize": true,
          "autotypenumbers": "strict",
          "coloraxis": {
           "colorbar": {
            "outlinewidth": 1,
            "tickcolor": "rgb(36,36,36)",
            "ticks": "outside"
           }
          },
          "colorscale": {
           "diverging": [
            [
             0,
             "rgb(103,0,31)"
            ],
            [
             0.1,
             "rgb(178,24,43)"
            ],
            [
             0.2,
             "rgb(214,96,77)"
            ],
            [
             0.3,
             "rgb(244,165,130)"
            ],
            [
             0.4,
             "rgb(253,219,199)"
            ],
            [
             0.5,
             "rgb(247,247,247)"
            ],
            [
             0.6,
             "rgb(209,229,240)"
            ],
            [
             0.7,
             "rgb(146,197,222)"
            ],
            [
             0.8,
             "rgb(67,147,195)"
            ],
            [
             0.9,
             "rgb(33,102,172)"
            ],
            [
             1,
             "rgb(5,48,97)"
            ]
           ],
           "sequential": [
            [
             0,
             "#440154"
            ],
            [
             0.1111111111111111,
             "#482878"
            ],
            [
             0.2222222222222222,
             "#3e4989"
            ],
            [
             0.3333333333333333,
             "#31688e"
            ],
            [
             0.4444444444444444,
             "#26828e"
            ],
            [
             0.5555555555555556,
             "#1f9e89"
            ],
            [
             0.6666666666666666,
             "#35b779"
            ],
            [
             0.7777777777777778,
             "#6ece58"
            ],
            [
             0.8888888888888888,
             "#b5de2b"
            ],
            [
             1,
             "#fde725"
            ]
           ],
           "sequentialminus": [
            [
             0,
             "#440154"
            ],
            [
             0.1111111111111111,
             "#482878"
            ],
            [
             0.2222222222222222,
             "#3e4989"
            ],
            [
             0.3333333333333333,
             "#31688e"
            ],
            [
             0.4444444444444444,
             "#26828e"
            ],
            [
             0.5555555555555556,
             "#1f9e89"
            ],
            [
             0.6666666666666666,
             "#35b779"
            ],
            [
             0.7777777777777778,
             "#6ece58"
            ],
            [
             0.8888888888888888,
             "#b5de2b"
            ],
            [
             1,
             "#fde725"
            ]
           ]
          },
          "colorway": [
           "#1F77B4",
           "#FF7F0E",
           "#2CA02C",
           "#D62728",
           "#9467BD",
           "#8C564B",
           "#E377C2",
           "#7F7F7F",
           "#BCBD22",
           "#17BECF"
          ],
          "font": {
           "color": "rgb(36,36,36)"
          },
          "geo": {
           "bgcolor": "white",
           "lakecolor": "white",
           "landcolor": "white",
           "showlakes": true,
           "showland": true,
           "subunitcolor": "white"
          },
          "height": 250,
          "hoverlabel": {
           "align": "left"
          },
          "hovermode": "closest",
          "mapbox": {
           "style": "light"
          },
          "margin": {
           "b": 10,
           "l": 10,
           "r": 10,
           "t": 10
          },
          "paper_bgcolor": "white",
          "plot_bgcolor": "white",
          "polar": {
           "angularaxis": {
            "gridcolor": "rgb(232,232,232)",
            "linecolor": "rgb(36,36,36)",
            "showgrid": false,
            "showline": true,
            "ticks": "outside"
           },
           "bgcolor": "white",
           "radialaxis": {
            "gridcolor": "rgb(232,232,232)",
            "linecolor": "rgb(36,36,36)",
            "showgrid": false,
            "showline": true,
            "ticks": "outside"
           }
          },
          "scene": {
           "xaxis": {
            "backgroundcolor": "white",
            "gridcolor": "rgb(232,232,232)",
            "gridwidth": 2,
            "linecolor": "rgb(36,36,36)",
            "showbackground": true,
            "showgrid": false,
            "showline": true,
            "ticks": "outside",
            "zeroline": false,
            "zerolinecolor": "rgb(36,36,36)"
           },
           "yaxis": {
            "backgroundcolor": "white",
            "gridcolor": "rgb(232,232,232)",
            "gridwidth": 2,
            "linecolor": "rgb(36,36,36)",
            "showbackground": true,
            "showgrid": false,
            "showline": true,
            "ticks": "outside",
            "zeroline": false,
            "zerolinecolor": "rgb(36,36,36)"
           },
           "zaxis": {
            "backgroundcolor": "white",
            "gridcolor": "rgb(232,232,232)",
            "gridwidth": 2,
            "linecolor": "rgb(36,36,36)",
            "showbackground": true,
            "showgrid": false,
            "showline": true,
            "ticks": "outside",
            "zeroline": false,
            "zerolinecolor": "rgb(36,36,36)"
           }
          },
          "shapedefaults": {
           "fillcolor": "black",
           "line": {
            "width": 0
           },
           "opacity": 0.3
          },
          "ternary": {
           "aaxis": {
            "gridcolor": "rgb(232,232,232)",
            "linecolor": "rgb(36,36,36)",
            "showgrid": false,
            "showline": true,
            "ticks": "outside"
           },
           "baxis": {
            "gridcolor": "rgb(232,232,232)",
            "linecolor": "rgb(36,36,36)",
            "showgrid": false,
            "showline": true,
            "ticks": "outside"
           },
           "bgcolor": "white",
           "caxis": {
            "gridcolor": "rgb(232,232,232)",
            "linecolor": "rgb(36,36,36)",
            "showgrid": false,
            "showline": true,
            "ticks": "outside"
           }
          },
          "title": {
           "x": 0.5,
           "xanchor": "center"
          },
          "width": 350,
          "xaxis": {
           "automargin": true,
           "gridcolor": "rgb(232,232,232)",
           "linecolor": "rgb(36,36,36)",
           "showgrid": true,
           "showline": true,
           "ticks": "outside",
           "title": {
            "standoff": 15
           },
           "zeroline": false,
           "zerolinecolor": "rgb(36,36,36)"
          },
          "yaxis": {
           "automargin": true,
           "gridcolor": "rgb(232,232,232)",
           "linecolor": "rgb(36,36,36)",
           "showgrid": true,
           "showline": true,
           "ticks": "outside",
           "title": {
            "standoff": 15
           },
           "zeroline": false,
           "zerolinecolor": "rgb(36,36,36)"
          }
         }
        },
        "width": 550,
        "xaxis": {
         "anchor": "y",
         "autorange": true,
         "domain": [
          0,
          1
         ],
         "range": [
          "2018-05-19",
          "2019-12-29"
         ],
         "title": {
          "text": "timestamp"
         },
         "type": "date"
        },
        "yaxis": {
         "anchor": "x",
         "autorange": true,
         "domain": [
          0,
          1
         ],
         "range": [
          -62.500000000000014,
          1187.5
         ],
         "title": {
          "text": "records_per_day"
         },
         "type": "linear"
        }
       }
      },
      "image/png": "[encoded data removed]",
      "image/svg+xml": [
       "<svg class=\"main-svg\" xmlns=\"http://www.w3.org/2000/svg\" xmlns:xlink=\"http://www.w3.org/1999/xlink\" width=\"550\" height=\"250\" style=\"\" viewBox=\"0 0 550 250\"><rect x=\"0\" y=\"0\" width=\"550\" height=\"250\" style=\"fill: rgb(255, 255, 255); fill-opacity: 1;\"/><defs id=\"defs-276bc1\"><g class=\"clips\"><clipPath id=\"clip276bc1xyplot\" class=\"plotclip\"><rect width=\"469\" height=\"181\"/></clipPath><clipPath class=\"axesclip\" id=\"clip276bc1x\"><rect x=\"71\" y=\"0\" width=\"469\" height=\"250\"/></clipPath><clipPath class=\"axesclip\" id=\"clip276bc1y\"><rect x=\"0\" y=\"10\" width=\"550\" height=\"181\"/></clipPath><clipPath class=\"axesclip\" id=\"clip276bc1xy\"><rect x=\"71\" y=\"10\" width=\"469\" height=\"181\"/></clipPath></g><g class=\"gradients\"/><g class=\"patterns\"/></defs><g class=\"bglayer\"/><g class=\"layer-below\"><g class=\"imagelayer\"/><g class=\"shapelayer\"/></g><g class=\"cartesianlayer\"><g class=\"subplot xy\"><g class=\"layer-subplot\"><g class=\"shapelayer\"/><g class=\"imagelayer\"/></g><g class=\"gridlayer\"><g class=\"x\"><path class=\"xgrid crisp\" transform=\"translate(105.24000000000001,0)\" d=\"M0,10v181\" style=\"stroke: rgb(232, 232, 232); stroke-opacity: 1; stroke-width: 1px;\"/><path class=\"xgrid crisp\" transform=\"translate(178.5,0)\" d=\"M0,10v181\" style=\"stroke: rgb(232, 232, 232); stroke-opacity: 1; stroke-width: 1px;\"/><path class=\"xgrid crisp\" transform=\"translate(251.75,0)\" d=\"M0,10v181\" style=\"stroke: rgb(232, 232, 232); stroke-opacity: 1; stroke-width: 1px;\"/><path class=\"xgrid crisp\" transform=\"translate(323.41999999999996,0)\" d=\"M0,10v181\" style=\"stroke: rgb(232, 232, 232); stroke-opacity: 1; stroke-width: 1px;\"/><path class=\"xgrid crisp\" transform=\"translate(395.88,0)\" d=\"M0,10v181\" style=\"stroke: rgb(232, 232, 232); stroke-opacity: 1; stroke-width: 1px;\"/><path class=\"xgrid crisp\" transform=\"translate(469.13,0)\" d=\"M0,10v181\" style=\"stroke: rgb(232, 232, 232); stroke-opacity: 1; stroke-width: 1px;\"/></g><g class=\"y\"><path class=\"ygrid crisp\" transform=\"translate(0,181.95)\" d=\"M71,0h469\" style=\"stroke: rgb(232, 232, 232); stroke-opacity: 1; stroke-width: 1px;\"/><path class=\"ygrid crisp\" transform=\"translate(0,109.55)\" d=\"M71,0h469\" style=\"stroke: rgb(232, 232, 232); stroke-opacity: 1; stroke-width: 1px;\"/><path class=\"ygrid crisp\" transform=\"translate(0,37.15)\" d=\"M71,0h469\" style=\"stroke: rgb(232, 232, 232); stroke-opacity: 1; stroke-width: 1px;\"/></g></g><g class=\"zerolinelayer\"/><path class=\"xlines-below\"/><path class=\"ylines-below\"/><g class=\"overlines-below\"/><g class=\"xaxislayer-below\"/><g class=\"yaxislayer-below\"/><g class=\"overaxes-below\"/><g class=\"plot\" transform=\"translate(71,10)\" clip-path=\"url(#clip276bc1xyplot)\"><g class=\"scatterlayer mlayer\"><g class=\"trace scatter tracea6a7d6\" style=\"stroke-miterlimit: 2; opacity: 1;\"><g class=\"fills\"/><g class=\"errorbars\"/><g class=\"lines\"><path class=\"js-line\" d=\"M0,126.34L0.8,15.71L1.59,16.43L2.39,15.71L3.19,27.29L3.98,26.14L4.78,16.29L6.37,16L7.17,15.86L7.96,16L8.76,17.16L9.56,15.71L10.35,15.86L11.94,15.71L12.74,16.15L13.54,16.15L14.33,17.16L16.72,15.71L17.52,16L19.11,16.87L19.91,15.71L20.7,17.16L21.5,16.29L22.3,15.71L23.09,16.87L24.68,15.57L25.48,16L26.28,27.73L27.07,15.86L29.46,16.87L30.26,15.86L31.05,17.74L31.85,17.16L34.24,16.29L35.04,25.41L36.63,171.95L37.42,171.95L46.18,171.95L46.98,69.29L47.78,16.87L48.57,16.72L50.16,15.57L50.96,16.43L52.55,16L53.35,16.87L54.15,16.29L54.94,17.59L56.53,19.04L57.33,15.71L61.31,16.29L62.11,19.91L62.9,16L63.7,17.01L64.5,16.15L65.29,16.43L67.68,15.86L68.48,18.46L69.28,17.16L70.07,17.45L71.66,22.37L72.46,19.91L73.26,16.29L74.05,19.77L74.85,17.3L75.65,18.75L76.44,19.77L77.24,17.88L78.03,20.63L78.83,18.03L79.63,19.91L80.42,16.15L81.22,18.32L82.02,16L85.2,15.57L86,19.04L89.18,15.42L89.98,15.86L93.16,16.29L93.96,15.86L94.76,16.43L95.55,15.71L97.94,15.86L98.74,23.39L99.53,23.67L100.33,32.36L101.13,34.82L101.92,29.9L102.72,38.01L103.51,24.83L104.31,23.39L105.11,16.15L105.9,18.17L106.7,16.58L107.5,17.45L108.29,19.77L109.09,15.86L109.88,19.33L110.68,18.03L111.48,30.63L113.07,26.86L113.87,29.18L114.66,31.93L115.46,30.34L116.25,28.89L117.05,29.61L119.44,16.29L120.24,16.15L121.83,15.57L122.62,16.43L124.22,15.71L125.01,16.58L126.61,15.57L127.4,16.29L128.99,15.57L129.79,16.15L132.18,15.71L132.98,17.3L133.77,16L134.57,9.05L135.37,19.91L136.16,19.77L136.96,20.05L137.75,17.59L138.55,26.28L139.35,79.57L140.14,16.58L140.94,15.71L141.74,16.29L142.53,24.25L143.33,30.77L144.12,15.86L145.72,15.57L146.51,16.58L150.49,16.58L151.29,17.88L152.09,17.88L152.88,16.72L153.68,18.03L154.48,17.16L156.07,16.87L156.86,16L157.66,22.52L158.46,19.19L160.05,17.01L160.85,16.58L162.44,16.43L163.23,27.73L164.03,17.45L164.83,18.17L165.62,19.19L166.42,17.59L167.22,16L168.01,80.29L168.81,171.95L169.6,171.95L170.4,171.95L171.2,113.6L171.99,16L172.79,17.16L174.38,16.58L175.18,18.46L176.77,19.62L177.57,18.61L178.36,19.19L179.16,16.58L179.96,22.37L180.75,16L181.55,17.88L182.34,16L183.14,17.59L183.94,16.15L184.73,18.32L185.53,18.32L187.12,16.43L187.92,16.58L190.31,16L191.1,18.17L192.7,18.32L193.49,17.45L195.08,16L195.88,19.62L196.68,16.43L197.47,17.45L198.27,17.01L199.07,18.9L199.86,15.86L200.66,16.72L201.46,16.43L202.25,17.59L203.84,15.86L204.64,15.57L207.83,15.57L208.62,16.43L210.21,15.71L211.01,15.71L212.6,15.57L213.4,15.71L214.2,15.57L214.99,20.05L216.58,15.42L217.38,15.57L219.77,15.86L220.57,15.86L221.36,19.48L222.16,15.86L225.34,15.86L226.14,22.08L227.73,15.42L228.53,15.86L230.12,15.57L230.92,16L232.51,15.71L233.31,15.71L234.1,15.57L234.9,22.08L236.49,16.15L237.29,16L238.88,15.57L239.68,15.57L240.47,15.42L241.27,16.87L242.06,16.72L242.86,15.71L244.45,16.15L245.25,15.71L246.05,16.29L246.84,15.57L248.43,17.45L249.23,16.43L250.82,15.71L251.62,17.3L252.42,15.57L253.21,18.32L254.01,21.07L254.8,15.57L257.99,15.57L258.79,16.87L259.58,18.9L260.38,15.86L261.97,15.42L262.77,16.87L264.36,15.57L265.16,16.72L266.75,15.42L267.54,15.57L269.93,15.71L270.73,22.95L271.53,15.86L272.32,15.71L273.12,15.71L273.92,16.58L275.51,18.03L276.3,16.87L277.1,16L277.9,17.74L279.49,15.71L280.29,18.9L281.08,16.72L281.88,17.3L282.67,17.59L283.47,16.15L284.27,18.75L285.06,15.71L285.86,16.29L286.66,15.86L287.45,24.54L288.25,16.87L289.04,17.16L289.84,19.77L290.64,17.3L291.43,18.75L292.23,17.74L293.03,18.46L293.82,17.88L294.62,22.23L295.41,102.3L296.21,17.3L298.6,18.17L299.4,16.58L300.99,67.69L301.78,67.69L383.8,67.98L384.6,155.44L385.39,171.95L386.19,171.95L410.08,171.95L410.87,135.32L411.67,104.04L412.47,109.83L413.26,129.52L414.06,171.95L416.45,171.95L417.24,110.55L418.04,67.84L418.84,167.17L419.63,171.95L420.43,171.95L421.22,171.95L422.02,118.66L422.82,67.69L423.61,67.69L424.41,63.35L425.21,67.69L429.19,67.69L429.98,67.69L445.11,67.69L445.91,73.2L446.7,67.69L447.5,68.13L449.09,67.69L449.89,67.69L468.2,67.69L469,102.45\" style=\"vector-effect: non-scaling-stroke; fill: none; stroke: rgb(31, 119, 180); stroke-opacity: 1; stroke-width: 2px; opacity: 1;\"/></g><g class=\"points\"/><g class=\"text\"/></g></g></g><g class=\"overplot\"/><path class=\"xlines-above crisp\" d=\"M70,191.5H540\" style=\"fill: none; stroke-width: 1px; stroke: rgb(36, 36, 36); stroke-opacity: 1;\"/><path class=\"ylines-above crisp\" d=\"M70.5,10V191\" style=\"fill: none; stroke-width: 1px; stroke: rgb(36, 36, 36); stroke-opacity: 1;\"/><g class=\"overlines-above\"/><g class=\"xaxislayer-above\"><path class=\"xtick ticks crisp\" d=\"M0,192v5\" transform=\"translate(105.24000000000001,0)\" style=\"stroke: rgb(68, 68, 68); stroke-opacity: 1; stroke-width: 1px;\"/><path class=\"xtick ticks crisp\" d=\"M0,192v5\" transform=\"translate(178.5,0)\" style=\"stroke: rgb(68, 68, 68); stroke-opacity: 1; stroke-width: 1px;\"/><path class=\"xtick ticks crisp\" d=\"M0,192v5\" transform=\"translate(251.75,0)\" style=\"stroke: rgb(68, 68, 68); stroke-opacity: 1; stroke-width: 1px;\"/><path class=\"xtick ticks crisp\" d=\"M0,192v5\" transform=\"translate(323.41999999999996,0)\" style=\"stroke: rgb(68, 68, 68); stroke-opacity: 1; stroke-width: 1px;\"/><path class=\"xtick ticks crisp\" d=\"M0,192v5\" transform=\"translate(395.88,0)\" style=\"stroke: rgb(68, 68, 68); stroke-opacity: 1; stroke-width: 1px;\"/><path class=\"xtick ticks crisp\" d=\"M0,192v5\" transform=\"translate(469.13,0)\" style=\"stroke: rgb(68, 68, 68); stroke-opacity: 1; stroke-width: 1px;\"/><g class=\"xtick\"><text text-anchor=\"middle\" x=\"0\" y=\"211.4\" transform=\"translate(105.24000000000001,0)\" style=\"font-family: 'Open Sans', verdana, arial, sans-serif; font-size: 12px; fill: rgb(36, 36, 36); fill-opacity: 1; white-space: pre; opacity: 1;\">Jul 2018</text></g><g class=\"xtick\"><text text-anchor=\"middle\" x=\"0\" y=\"211.4\" style=\"font-family: 'Open Sans', verdana, arial, sans-serif; font-size: 12px; fill: rgb(36, 36, 36); fill-opacity: 1; white-space: pre; opacity: 1;\" transform=\"translate(178.5,0)\">Oct 2018</text></g><g class=\"xtick\"><text text-anchor=\"middle\" x=\"0\" y=\"211.4\" style=\"font-family: 'Open Sans', verdana, arial, sans-serif; font-size: 12px; fill: rgb(36, 36, 36); fill-opacity: 1; white-space: pre; opacity: 1;\" transform=\"translate(251.75,0)\">Jan 2019</text></g><g class=\"xtick\"><text text-anchor=\"middle\" x=\"0\" y=\"211.4\" style=\"font-family: 'Open Sans', verdana, arial, sans-serif; font-size: 12px; fill: rgb(36, 36, 36); fill-opacity: 1; white-space: pre; opacity: 1;\" transform=\"translate(323.41999999999996,0)\">Apr 2019</text></g><g class=\"xtick\"><text text-anchor=\"middle\" x=\"0\" y=\"211.4\" style=\"font-family: 'Open Sans', verdana, arial, sans-serif; font-size: 12px; fill: rgb(36, 36, 36); fill-opacity: 1; white-space: pre; opacity: 1;\" transform=\"translate(395.88,0)\">Jul 2019</text></g><g class=\"xtick\"><text text-anchor=\"middle\" x=\"0\" y=\"211.4\" style=\"font-family: 'Open Sans', verdana, arial, sans-serif; font-size: 12px; fill: rgb(36, 36, 36); fill-opacity: 1; white-space: pre; opacity: 1;\" transform=\"translate(469.13,0)\">Oct 2019</text></g></g><g class=\"yaxislayer-above\"><path class=\"ytick ticks crisp\" d=\"M70,0h-5\" transform=\"translate(0,181.95)\" style=\"stroke: rgb(68, 68, 68); stroke-opacity: 1; stroke-width: 1px;\"/><path class=\"ytick ticks crisp\" d=\"M70,0h-5\" transform=\"translate(0,109.55)\" style=\"stroke: rgb(68, 68, 68); stroke-opacity: 1; stroke-width: 1px;\"/><path class=\"ytick ticks crisp\" d=\"M70,0h-5\" transform=\"translate(0,37.15)\" style=\"stroke: rgb(68, 68, 68); stroke-opacity: 1; stroke-width: 1px;\"/><g class=\"ytick\"><text text-anchor=\"end\" x=\"62.6\" y=\"4.199999999999999\" transform=\"translate(0,181.95)\" style=\"font-family: 'Open Sans', verdana, arial, sans-serif; font-size: 12px; fill: rgb(36, 36, 36); fill-opacity: 1; white-space: pre; opacity: 1;\">0</text></g><g class=\"ytick\"><text text-anchor=\"end\" x=\"62.6\" y=\"4.199999999999999\" style=\"font-family: 'Open Sans', verdana, arial, sans-serif; font-size: 12px; fill: rgb(36, 36, 36); fill-opacity: 1; white-space: pre; opacity: 1;\" transform=\"translate(0,109.55)\">500</text></g><g class=\"ytick\"><text text-anchor=\"end\" x=\"62.6\" y=\"4.199999999999999\" style=\"font-family: 'Open Sans', verdana, arial, sans-serif; font-size: 12px; fill: rgb(36, 36, 36); fill-opacity: 1; white-space: pre; opacity: 1;\" transform=\"translate(0,37.15)\">1000</text></g></g><g class=\"overaxes-above\"/></g></g><g class=\"polarlayer\"/><g class=\"smithlayer\"/><g class=\"ternarylayer\"/><g class=\"geolayer\"/><g class=\"funnelarealayer\"/><g class=\"pielayer\"/><g class=\"iciclelayer\"/><g class=\"treemaplayer\"/><g class=\"sunburstlayer\"/><g class=\"glimages\"/><defs id=\"topdefs-276bc1\"><g class=\"clips\"/></defs><g class=\"layer-above\"><g class=\"imagelayer\"/><g class=\"shapelayer\"><path data-index=\"0\" fill-rule=\"evenodd\" d=\"M370.4,181.95H538.4100000000001V77.69H370.4Z\" clip-path=\"url(#clip276bc1xy)\" style=\"opacity: 0.3; stroke: rgb(0, 0, 0); stroke-opacity: 0; fill: rgb(0, 0, 0); fill-opacity: 1; stroke-width: 0px;\"/><path data-index=\"1\" fill-rule=\"evenodd\" d=\"M73.39,181.95H370.4V25.57H73.39Z\" clip-path=\"url(#clip276bc1xy)\" style=\"opacity: 0.3; stroke: rgb(0, 0, 0); stroke-opacity: 0; fill: rgb(0, 0, 0); fill-opacity: 1; stroke-width: 0px;\"/></g></g><g class=\"infolayer\"><g class=\"g-gtitle\"/><g class=\"g-xtitle\"><text class=\"xtitle\" x=\"305.5\" y=\"239.70625\" text-anchor=\"middle\" style=\"font-family: 'Open Sans', verdana, arial, sans-serif; font-size: 14px; fill: rgb(36, 36, 36); opacity: 1; font-weight: normal; white-space: pre;\">timestamp</text></g><g class=\"g-ytitle\" transform=\"translate(4.6591796875,0)\"><text class=\"ytitle\" transform=\"rotate(-90,10.340625000000003,100.5)\" x=\"10.340625000000003\" y=\"100.5\" text-anchor=\"middle\" style=\"font-family: 'Open Sans', verdana, arial, sans-serif; font-size: 14px; fill: rgb(36, 36, 36); opacity: 1; font-weight: normal; white-space: pre;\">records_per_day</text></g></g></svg>"
      ]
     },
     "metadata": {},
     "output_type": "display_data"
    }
   ],
   "source": [
    "fig = px.line(per_day, x=per_day.index, y='records_per_day',\n",
    "       width=550, height=250)\n",
    "\n",
    "fig.add_shape(type=\"rect\",\n",
    "    x0=\"2019-05-30\", y0=0, x1=\"2019-12-27\", y1=720,\n",
    "    line=dict(color='yellow')\n",
    ")\n",
    "\n",
    "fig.add_shape(type=\"rect\",\n",
    "    x0=\"2018-05-22\", y0=0, x1=\"2019-05-30\", y1=1080,\n",
    "    line=dict(color=\"red\"),\n",
    ")"
   ]
  },
  {
   "cell_type": "markdown",
   "metadata": {},
   "source": [
    "After dropping duplicate dates, the plot of measurements per day\n",
    "looks much more consistent with the the counts we expect.\n",
    "Careful readers will see two spikes above the maximum measurements around\n",
    "November of each year when Daylight Saving Time is no longer in effect.\n",
    "When clocks are rolled back one hour, that day has 25 hours instead of the usual\n",
    "24 hours. Timestamps are tricky!\n",
    "\n",
    "But, there's still missing measurements, and we need to decide what to do about them."
   ]
  },
  {
   "cell_type": "markdown",
   "metadata": {},
   "source": [
    "## Handling Missing Values"
   ]
  },
  {
   "cell_type": "markdown",
   "metadata": {},
   "source": [
    "The plan is to create 24-hour averages of the measurements, but we don't want to use days when there are not enough measurements. We follow Barkjohn's analysis, and only keep a 24-hour average if there are at least 90%\n",
    "of the possible points for that day. Remember that\n",
    "before May 30, 2019 there are 1080 possible points in a day and after that 720 possible.\n",
    "We calculate the minimum number of measurements needed to keep a day. "
   ]
  },
  {
   "cell_type": "code",
   "execution_count": 38,
   "metadata": {},
   "outputs": [],
   "source": [
    "needed_measurements_80s = 0.9 * 1080\n",
    "needed_measurements_120s = 0.9 * 720"
   ]
  },
  {
   "cell_type": "markdown",
   "metadata": {},
   "source": [
    "Now, we can determine which of the days have enough measurements to keep. "
   ]
  },
  {
   "cell_type": "code",
   "execution_count": 39,
   "metadata": {},
   "outputs": [],
   "source": [
    "cutoff_date = pd.Timestamp('2019-05-30', tz='US/Pacific')\n",
    "\n",
    "def has_enough_readings(one_day):\n",
    "    [n] = one_day\n",
    "    date = one_day.name\n",
    "    return (n >= needed_measurements_80s\n",
    "            if date <= cutoff_date\n",
    "            else n >= needed_measurements_120s)"
   ]
  },
  {
   "cell_type": "code",
   "execution_count": 40,
   "metadata": {},
   "outputs": [
    {
     "data": {
      "text/plain": [
       "timestamp\n",
       "2018-05-19 00:00:00-07:00    False\n",
       "2018-05-20 00:00:00-07:00     True\n",
       "2018-05-21 00:00:00-07:00     True\n",
       "2018-05-22 00:00:00-07:00     True\n",
       "2018-05-23 00:00:00-07:00     True\n",
       "Freq: D, dtype: bool"
      ]
     },
     "execution_count": 40,
     "metadata": {},
     "output_type": "execute_result"
    }
   ],
   "source": [
    "should_keep = per_day.apply(has_enough_readings, axis='columns')\n",
    "should_keep.head()"
   ]
  },
  {
   "cell_type": "markdown",
   "metadata": {},
   "source": [
    "We're ready to average together the readings for each day and then remove the days without enough readings."
   ]
  },
  {
   "cell_type": "code",
   "execution_count": 41,
   "metadata": {},
   "outputs": [
    {
     "data": {
      "text/html": [
       "<div>\n",
       "<style scoped>\n",
       "    .dataframe tbody tr th:only-of-type {\n",
       "        vertical-align: middle;\n",
       "    }\n",
       "\n",
       "    .dataframe tbody tr th {\n",
       "        vertical-align: top;\n",
       "    }\n",
       "\n",
       "    .dataframe thead th {\n",
       "        text-align: right;\n",
       "    }\n",
       "</style>\n",
       "<table border=\"1\" class=\"dataframe\">\n",
       "  <thead>\n",
       "    <tr style=\"text-align: right;\">\n",
       "      <th></th>\n",
       "      <th>PM25cf1</th>\n",
       "      <th>TempF</th>\n",
       "      <th>RH</th>\n",
       "    </tr>\n",
       "    <tr>\n",
       "      <th>timestamp</th>\n",
       "      <th></th>\n",
       "      <th></th>\n",
       "      <th></th>\n",
       "    </tr>\n",
       "  </thead>\n",
       "  <tbody>\n",
       "    <tr>\n",
       "      <th>2018-05-20 00:00:00-07:00</th>\n",
       "      <td>2.48</td>\n",
       "      <td>83.35</td>\n",
       "      <td>28.72</td>\n",
       "    </tr>\n",
       "    <tr>\n",
       "      <th>2018-05-21 00:00:00-07:00</th>\n",
       "      <td>3.00</td>\n",
       "      <td>83.25</td>\n",
       "      <td>29.91</td>\n",
       "    </tr>\n",
       "  </tbody>\n",
       "</table>\n",
       "</div>"
      ],
      "text/plain": [
       "                           PM25cf1  TempF     RH\n",
       "timestamp                                       \n",
       "2018-05-20 00:00:00-07:00     2.48  83.35  28.72\n",
       "2018-05-21 00:00:00-07:00     3.00  83.25  29.91"
      ]
     },
     "execution_count": 41,
     "metadata": {},
     "output_type": "execute_result"
    }
   ],
   "source": [
    "def compute_daily_avgs(pa):\n",
    "    should_keep = (pa.resample('D')\n",
    "                   ['PM25cf1']\n",
    "                   .size()\n",
    "                   .to_frame()\n",
    "                   .apply(has_enough_readings, axis='columns'))\n",
    "    return (pa.resample('D')\n",
    "            .mean()\n",
    "            .loc[should_keep])\n",
    "\n",
    "pa = (pa_full\n",
    "      .pipe(drop_and_rename_cols)\n",
    "      .pipe(parse_timestamps)\n",
    "      .pipe(convert_tz)\n",
    "      .pipe(drop_duplicate_rows)\n",
    "      .pipe(compute_daily_avgs))\n",
    "pa.head(2)"
   ]
  },
  {
   "cell_type": "markdown",
   "metadata": {},
   "source": [
    "Now, we have the average daily PM2.5 readings for instrument A, and we need to repeat the data wrangling we just performed on\n",
    "instrument A on instrument B. Fortunately, we can reuse the same pipeline. For brevity, we don't include that wrangling here.\n",
    "But we need to decide what to do if the PM2.5 averages differ. Barkjohn dropped rows if the PM2.5 values for A and B differ by more than 61%, or by more than 5 µg m⁻³. For this pair of sensors, that leads to dropping 12 of the 500+ rows. "
   ]
  },
  {
   "cell_type": "markdown",
   "metadata": {},
   "source": [
    "As you can see there is a lot of work to prepare and clean these data: we handled \n",
    "missing data, aggregated the readings for each instrument, averaged the readings\n",
    "together from the two instruments, and removed rows where they disagreed.\n",
    "This work has given us a set of PM2.5 readings that we are more confident in.\n",
    "We know that each PM2.5 value in the final data frame is the daily average from\n",
    "two separate instruments that generated consistent and complete readings."
   ]
  },
  {
   "cell_type": "markdown",
   "metadata": {},
   "source": [
    "To fully replicate Barkjohn's analysis, we would need to repeat this process over all the PurpleAir sensors.\n",
    "Then, we would repeat the AQS cleaning procedure on all the AQS sensors.\n",
    "Finally, we would merge the PurpleAir and AQS data together.\n",
    "This procedure produces daily average readings for each collocated sensor pair.\n",
    "For brevity, we omit this code.\n",
    "Instead, we proceed with the final steps of the analysis using Berkjohn's dataset.\n",
    "We begin with an EDA with an eye toward modeling. "
   ]
  }
 ],
 "metadata": {
  "celltoolbar": "Tags",
  "kernelspec": {
   "display_name": "Python 3",
   "language": "python",
   "name": "python3"
  },
  "language_info": {
   "codemirror_mode": {
    "name": "ipython",
    "version": 3
   },
   "file_extension": ".py",
   "mimetype": "text/x-python",
   "name": "python",
   "nbconvert_exporter": "python",
   "pygments_lexer": "ipython3",
   "version": "3.9.4"
  },
  "toc-autonumbering": false,
  "toc-showcode": false,
  "toc-showmarkdowntxt": false,
  "toc-showtags": false
 },
 "nbformat": 4,
 "nbformat_minor": 4
}
