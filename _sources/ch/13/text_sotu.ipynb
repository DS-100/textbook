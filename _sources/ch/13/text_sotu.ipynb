{
 "cells": [
  {
   "cell_type": "code",
   "execution_count": 20,
   "metadata": {
    "tags": [
     "remove-cell"
    ]
   },
   "outputs": [],
   "source": [
    "import sys\n",
    "import os\n",
    "if not any(path.endswith('textbook') for path in sys.path):\n",
    "    sys.path.append(os.path.abspath('../../..'))\n",
    "from textbook_utils import *"
   ]
  },
  {
   "cell_type": "markdown",
   "metadata": {},
   "source": [
    "# Text Analysis\n",
    "\n",
    "So far, we've used Python methods and regular expressions to clean short\n",
    "text fields and strings.\n",
    "In this section, we'll analyze entire documents using a technique called\n",
    "*text mining*, which transforms free-form text into \n",
    "a quantitative representation\n",
    "to uncover meaningful patterns and insights.\n",
    "\n",
    "Text mining is a deep topic. Instead of a comprehensive treatment, we'll\n",
    "introduce a few key ideas \n",
    "through an example.\n",
    "In this section, we analyze the State of the Union speeches from 1790 to 2022. \n",
    "Every year, the US president gives a State of the Union speech to Congress.\n",
    "These speeches talk about current events in the country and\n",
    "make recommendations for Congress to consider.\n",
    "The American Presidency Project makes these speeches available online [^APP].\n",
    "\n",
    "[^APP]: https://www.presidency.ucsb.edu/"
   ]
  },
  {
   "cell_type": "markdown",
   "metadata": {},
   "source": [
    "We'll start by opening the file that has all of the speeches."
   ]
  },
  {
   "cell_type": "code",
   "execution_count": 21,
   "metadata": {
    "colab": {
     "autoexec": {
      "startup": false,
      "wait_interval": 0
     },
     "base_uri": "https://localhost:8080/",
     "height": 34
    },
    "colab_type": "code",
    "executionInfo": {
     "elapsed": 303,
     "status": "ok",
     "timestamp": 1524681067395,
     "user": {
      "displayName": "Andrew Kim",
      "photoUrl": "https://lh3.googleusercontent.com/a/default-user=s128",
      "userId": "109388192039284916411"
     },
     "user_tz": 420
    },
    "id": "n6NNGiO93AKJ",
    "outputId": "6248e853-8c58-4362-9004-a5028c7e5218"
   },
   "outputs": [],
   "source": [
    "from pathlib import Path\n",
    "\n",
    "with Path('data/stateoftheunion1790-2022.txt').open(mode=\"r\") as f:\n",
    "    text = f.read()"
   ]
  },
  {
   "cell_type": "markdown",
   "metadata": {},
   "source": [
    "Earlier in the chapter, we saw that each speech in the data begins with \n",
    "a line with three asterisks: `***`.\n",
    "We can use a regular expression to count the number of times the\n",
    "string `***` appears."
   ]
  },
  {
   "cell_type": "code",
   "execution_count": 22,
   "metadata": {},
   "outputs": [
    {
     "name": "stdout",
     "output_type": "stream",
     "text": [
      "There are 232 speeches total\n"
     ]
    }
   ],
   "source": [
    "import re\n",
    "num_speeches = len(re.findall(r\"\\*\\*\\*\", text))\n",
    "print(f'There are {num_speeches} speeches total')"
   ]
  },
  {
   "cell_type": "markdown",
   "metadata": {},
   "source": [
    "In text analysis, a *document* refers to a single piece of text that we want\n",
    "to analyze. Here, each speech is a document.\n",
    "We'll split apart the `text` variable into its individual documents."
   ]
  },
  {
   "cell_type": "code",
   "execution_count": 23,
   "metadata": {},
   "outputs": [],
   "source": [
    "records = text.split(\"***\")"
   ]
  },
  {
   "cell_type": "markdown",
   "metadata": {},
   "source": [
    "Then, we can put the speeches into a dataframe:"
   ]
  },
  {
   "cell_type": "code",
   "execution_count": 47,
   "metadata": {
    "tags": [
     "hide-input"
    ]
   },
   "outputs": [
    {
     "data": {
      "text/html": [
       "<div>\n",
       "<style scoped>\n",
       "    .dataframe tbody tr th:only-of-type {\n",
       "        vertical-align: middle;\n",
       "    }\n",
       "\n",
       "    .dataframe tbody tr th {\n",
       "        vertical-align: top;\n",
       "    }\n",
       "\n",
       "    .dataframe thead th {\n",
       "        text-align: right;\n",
       "    }\n",
       "</style>\n",
       "<table border=\"1\" class=\"dataframe\">\n",
       "  <thead>\n",
       "    <tr style=\"text-align: right;\">\n",
       "      <th></th>\n",
       "      <th>name</th>\n",
       "      <th>date</th>\n",
       "      <th>text</th>\n",
       "    </tr>\n",
       "  </thead>\n",
       "  <tbody>\n",
       "    <tr>\n",
       "      <th>0</th>\n",
       "      <td>George Washington</td>\n",
       "      <td>January 8, 1790</td>\n",
       "      <td>Fellow-Citizens of the Senate and House of Rep...</td>\n",
       "    </tr>\n",
       "    <tr>\n",
       "      <th>1</th>\n",
       "      <td>George Washington</td>\n",
       "      <td>December 8, 1790</td>\n",
       "      <td>Fellow-Citizens of the Senate and House of Rep...</td>\n",
       "    </tr>\n",
       "    <tr>\n",
       "      <th>2</th>\n",
       "      <td>George Washington</td>\n",
       "      <td>October 25, 1791</td>\n",
       "      <td>Fellow-Citizens of the Senate and House of Rep...</td>\n",
       "    </tr>\n",
       "    <tr>\n",
       "      <th>...</th>\n",
       "      <td>...</td>\n",
       "      <td>...</td>\n",
       "      <td>...</td>\n",
       "    </tr>\n",
       "    <tr>\n",
       "      <th>229</th>\n",
       "      <td>Donald J. Trump</td>\n",
       "      <td>February 4, 2020</td>\n",
       "      <td>Thank you very much. Thank you. Thank you very...</td>\n",
       "    </tr>\n",
       "    <tr>\n",
       "      <th>230</th>\n",
       "      <td>Joseph R. Biden, Jr.</td>\n",
       "      <td>April 28, 2021</td>\n",
       "      <td>Thank you. Thank you. Thank you. Good to be ba...</td>\n",
       "    </tr>\n",
       "    <tr>\n",
       "      <th>231</th>\n",
       "      <td>Joseph R. Biden, Jr.</td>\n",
       "      <td>March 1, 2022</td>\n",
       "      <td>Madam Speaker, Madam Vice President, our First...</td>\n",
       "    </tr>\n",
       "  </tbody>\n",
       "</table>\n",
       "<p>232 rows × 3 columns</p>\n",
       "</div>"
      ],
      "text/plain": [
       "                       name              date  \\\n",
       "0         George Washington   January 8, 1790   \n",
       "1         George Washington  December 8, 1790   \n",
       "2         George Washington  October 25, 1791   \n",
       "..                      ...               ...   \n",
       "229       Donald J. Trump    February 4, 2020   \n",
       "230  Joseph R. Biden, Jr.      April 28, 2021   \n",
       "231  Joseph R. Biden, Jr.       March 1, 2022   \n",
       "\n",
       "                                                  text  \n",
       "0    Fellow-Citizens of the Senate and House of Rep...  \n",
       "1    Fellow-Citizens of the Senate and House of Rep...  \n",
       "2    Fellow-Citizens of the Senate and House of Rep...  \n",
       "..                                                 ...  \n",
       "229  Thank you very much. Thank you. Thank you very...  \n",
       "230  Thank you. Thank you. Thank you. Good to be ba...  \n",
       "231  Madam Speaker, Madam Vice President, our First...  \n",
       "\n",
       "[232 rows x 3 columns]"
      ]
     },
     "execution_count": 47,
     "metadata": {},
     "output_type": "execute_result"
    }
   ],
   "source": [
    "def extract_parts(speech):\n",
    "    speech = speech.strip().split('\\n')[1:]\n",
    "    [name, date, *lines] = speech\n",
    "    body = '\\n'.join(lines).strip()\n",
    "    return [name, date, body]\n",
    "\n",
    "def read_speeches():\n",
    "    return pd.DataFrame([extract_parts(l) for l in records[1:]],\n",
    "                        columns = [\"name\", \"date\", \"text\"])\n",
    "\n",
    "df = read_speeches()\n",
    "df"
   ]
  },
  {
   "cell_type": "markdown",
   "metadata": {},
   "source": [
    "## How Have the Speeches Changed Over Time?"
   ]
  },
  {
   "cell_type": "markdown",
   "metadata": {},
   "source": [
    "Now that we have the speeches loaded into a dataframe, we want to write \n",
    "a program that can help us see how the speeches have changed\n",
    "over time.\n",
    "Our basic idea is to look at the words in the speeches---if two speeches\n",
    "included a very different set of words, our program should tell us that the\n",
    "speeches are very different.\n",
    "If we have a measure of similarity, we can see how the speeches have\n",
    "become different over time."
   ]
  },
  {
   "cell_type": "markdown",
   "metadata": {},
   "source": [
    "There are few problems in the data that we need to take care of first:\n",
    "\n",
    "1. Capitalization shouldn't matter: `Citizens` and `citizens` should be\n",
    "   considered the same word. We can address this by lowercasing the text.\n",
    "1. There are unspoken remarks in the text: `[laughter]` points out where the\n",
    "   audience laughed, but these shouldn't count as part of the speech.\n",
    "   We can address this by using a regex to remove text within\n",
    "   brackets: `\\[[^\\]]+\\]`. Remember that `\\[` and `\\]` match\n",
    "   the literal left and right brackets, and `[^\\]]` matches any character that\n",
    "   isn't a right bracket.\n",
    "1. We should take out characters that aren't letters or whitespace: some \n",
    "   speeches talk about finances, but a dollar amount shouldn't count as\n",
    "   a word. We can use the regex `[^a-z\\s]` to remove these characters.\n",
    "   This regex matches any character that isn't a lowercase letter\n",
    "   (`a-z`) or a whitespace character (`\\s`)."
   ]
  },
  {
   "cell_type": "code",
   "execution_count": 50,
   "metadata": {
    "tags": [
     "hide-input"
    ]
   },
   "outputs": [
    {
     "data": {
      "text/html": [
       "<div>\n",
       "<style scoped>\n",
       "    .dataframe tbody tr th:only-of-type {\n",
       "        vertical-align: middle;\n",
       "    }\n",
       "\n",
       "    .dataframe tbody tr th {\n",
       "        vertical-align: top;\n",
       "    }\n",
       "\n",
       "    .dataframe thead th {\n",
       "        text-align: right;\n",
       "    }\n",
       "</style>\n",
       "<table border=\"1\" class=\"dataframe\">\n",
       "  <thead>\n",
       "    <tr style=\"text-align: right;\">\n",
       "      <th></th>\n",
       "      <th>name</th>\n",
       "      <th>date</th>\n",
       "      <th>text</th>\n",
       "    </tr>\n",
       "  </thead>\n",
       "  <tbody>\n",
       "    <tr>\n",
       "      <th>0</th>\n",
       "      <td>George Washington</td>\n",
       "      <td>January 8, 1790</td>\n",
       "      <td>fellow citizens of the senate and house of rep...</td>\n",
       "    </tr>\n",
       "    <tr>\n",
       "      <th>1</th>\n",
       "      <td>George Washington</td>\n",
       "      <td>December 8, 1790</td>\n",
       "      <td>fellow citizens of the senate and house of rep...</td>\n",
       "    </tr>\n",
       "    <tr>\n",
       "      <th>2</th>\n",
       "      <td>George Washington</td>\n",
       "      <td>October 25, 1791</td>\n",
       "      <td>fellow citizens of the senate and house of rep...</td>\n",
       "    </tr>\n",
       "    <tr>\n",
       "      <th>...</th>\n",
       "      <td>...</td>\n",
       "      <td>...</td>\n",
       "      <td>...</td>\n",
       "    </tr>\n",
       "    <tr>\n",
       "      <th>229</th>\n",
       "      <td>Donald J. Trump</td>\n",
       "      <td>February 4, 2020</td>\n",
       "      <td>thank you very much  thank you  thank you very...</td>\n",
       "    </tr>\n",
       "    <tr>\n",
       "      <th>230</th>\n",
       "      <td>Joseph R. Biden, Jr.</td>\n",
       "      <td>April 28, 2021</td>\n",
       "      <td>thank you  thank you  thank you  good to be ba...</td>\n",
       "    </tr>\n",
       "    <tr>\n",
       "      <th>231</th>\n",
       "      <td>Joseph R. Biden, Jr.</td>\n",
       "      <td>March 1, 2022</td>\n",
       "      <td>madam speaker  madam vice president  our first...</td>\n",
       "    </tr>\n",
       "  </tbody>\n",
       "</table>\n",
       "<p>232 rows × 3 columns</p>\n",
       "</div>"
      ],
      "text/plain": [
       "                       name              date  \\\n",
       "0         George Washington   January 8, 1790   \n",
       "1         George Washington  December 8, 1790   \n",
       "2         George Washington  October 25, 1791   \n",
       "..                      ...               ...   \n",
       "229       Donald J. Trump    February 4, 2020   \n",
       "230  Joseph R. Biden, Jr.      April 28, 2021   \n",
       "231  Joseph R. Biden, Jr.       March 1, 2022   \n",
       "\n",
       "                                                  text  \n",
       "0    fellow citizens of the senate and house of rep...  \n",
       "1    fellow citizens of the senate and house of rep...  \n",
       "2    fellow citizens of the senate and house of rep...  \n",
       "..                                                 ...  \n",
       "229  thank you very much  thank you  thank you very...  \n",
       "230  thank you  thank you  thank you  good to be ba...  \n",
       "231  madam speaker  madam vice president  our first...  \n",
       "\n",
       "[232 rows x 3 columns]"
      ]
     },
     "execution_count": 50,
     "metadata": {},
     "output_type": "execute_result"
    }
   ],
   "source": [
    "def clean_text(df):\n",
    "    bracket_re = re.compile(r'\\[[^\\]]+\\]')\n",
    "    not_a_word_re = re.compile(r'[^a-z\\s]')\n",
    "    cleaned = (df['text'].str.lower()\n",
    "               .str.replace(bracket_re, '')\n",
    "               .str.replace(not_a_word_re, ' '))\n",
    "    return df.assign(text=cleaned)\n",
    "\n",
    "df = (read_speeches()\n",
    "      .pipe(clean_text))\n",
    "df"
   ]
  },
  {
   "cell_type": "markdown",
   "metadata": {},
   "source": [
    "Next, we'll look at some more complex issues:\n",
    "\n",
    "1. *Stop words* like `is`, `and`, `the`, and `but` appear so often that we\n",
    "   should just remove them.\n",
    "1. `argue` and `arguing` should count as the same word,\n",
    "   even though they appear different in the text. To address this,\n",
    "   we'll use *word stemming*, which transforms both words to `argu`."
   ]
  },
  {
   "cell_type": "markdown",
   "metadata": {},
   "source": [
    "To handle these issues, we'll use built-in methods from \n",
    "[the `nltk` library][nltk].\n",
    "\n",
    "[nltk]: https://www.nltk.org/"
   ]
  },
  {
   "cell_type": "markdown",
   "metadata": {},
   "source": [
    "Finally, we'll use a technique called\n",
    "*term frequency-inverse document frequency* (tf-idf for short) to\n",
    "transform each speech into a vector of numbers.\n",
    "This technique counts up the words that each document uses. Then, it\n",
    "puts more weight on words that only appear in a few documents.\n",
    "The idea is that if only a few documents mention the word `sanction`,\n",
    "this word is extra useful for distinguishing documents from each other.\n",
    "[The scikit-learn library][sklearn] has a complete\n",
    "description of the transform and an implementation we'll use.\n",
    "\n",
    "[sklearn]: https://scikit-learn.org/stable/modules/feature_extraction.html#tfidf-term-weighting"
   ]
  },
  {
   "cell_type": "markdown",
   "metadata": {},
   "source": [
    "After applying these transforms, we have a 2-dimensional array\n",
    "`speech_vectors`. Each row of this array is one speech transformed into a \n",
    "vector."
   ]
  },
  {
   "cell_type": "code",
   "execution_count": 75,
   "metadata": {
    "tags": [
     "hide-input"
    ]
   },
   "outputs": [],
   "source": [
    "import nltk\n",
    "from nltk.stem.porter import PorterStemmer\n",
    "from sklearn.feature_extraction.text import TfidfVectorizer\n",
    "\n",
    "stop_words = set(nltk.corpus.stopwords.words('english'))\n",
    "porter_stemmer = PorterStemmer()\n",
    "\n",
    "def stemming_tokenizer(document):\n",
    "    return [porter_stemmer.stem(word)\n",
    "            for word in nltk.word_tokenize(document)\n",
    "            if word not in stop_words]\n",
    "    return words\n",
    "\n",
    "tfidf = TfidfVectorizer(tokenizer=stemming_tokenizer)\n",
    "speech_vectors = tfidf.fit_transform(df['text'])"
   ]
  },
  {
   "cell_type": "code",
   "execution_count": 76,
   "metadata": {},
   "outputs": [
    {
     "data": {
      "text/plain": [
       "(232, 13211)"
      ]
     },
     "execution_count": 76,
     "metadata": {},
     "output_type": "execute_result"
    }
   ],
   "source": [
    "speech_vectors.shape"
   ]
  },
  {
   "cell_type": "markdown",
   "metadata": {},
   "source": [
    "We have 232 speeches, and each speech was transformed into a\n",
    "length-13211 vector.\n",
    "To visualize these speeches, we'll use a technique called\n",
    "*principal component analysis* to compress the length-13211 vectors into\n",
    "length-2 vectors which we can put directly into a scatter plot.\n",
    "(We cover principal component analysis in detail in\n",
    "{numref}`Chapter %s <ch:pca>`.)\n",
    "\n",
    "In the plot below, each point is one speech. We've colored the points\n",
    "using the year of the speech.\n",
    "Points that are close together represent similar speeches, and\n",
    "points that are far away represent dissimilar speeches."
   ]
  },
  {
   "cell_type": "code",
   "execution_count": 128,
   "metadata": {
    "tags": [
     "hide-input"
    ]
   },
   "outputs": [
    {
     "data": {
      "application/vnd.plotly.v1+json": {
       "config": {
        "plotlyServerURL": "https://plot.ly"
       },
       "data": [
        {
         "customdata": [
          [
           "George Washington"
          ],
          [
           "George Washington"
          ],
          [
           "George Washington"
          ],
          [
           "George Washington"
          ],
          [
           "George Washington"
          ],
          [
           "George Washington"
          ],
          [
           "George Washington"
          ],
          [
           "George Washington"
          ],
          [
           "John Adams"
          ],
          [
           "John Adams"
          ],
          [
           "John Adams"
          ],
          [
           "John Adams"
          ],
          [
           "Thomas Jefferson"
          ],
          [
           "Thomas Jefferson"
          ],
          [
           "Thomas Jefferson"
          ],
          [
           "Thomas Jefferson"
          ],
          [
           "Thomas Jefferson"
          ],
          [
           "Thomas Jefferson"
          ],
          [
           "Thomas Jefferson"
          ],
          [
           "Thomas Jefferson"
          ],
          [
           "James Madison"
          ],
          [
           "James Madison"
          ],
          [
           "James Madison"
          ],
          [
           "James Madison"
          ],
          [
           "James Madison"
          ],
          [
           "James Madison"
          ],
          [
           "James Madison"
          ],
          [
           "James Madison"
          ],
          [
           "James Monroe"
          ],
          [
           "James Monroe"
          ],
          [
           "James Monroe"
          ],
          [
           "James Monroe"
          ],
          [
           "James Monroe"
          ],
          [
           "James Monroe"
          ],
          [
           "James Monroe"
          ],
          [
           "James Monroe"
          ],
          [
           "John Quincy Adams"
          ],
          [
           "John Quincy Adams"
          ],
          [
           "John Quincy Adams"
          ],
          [
           "John Quincy Adams"
          ],
          [
           "Andrew Jackson"
          ],
          [
           "Andrew Jackson"
          ],
          [
           "Andrew Jackson"
          ],
          [
           "Andrew Jackson"
          ],
          [
           "Andrew Jackson"
          ],
          [
           "Andrew Jackson"
          ],
          [
           "Andrew Jackson"
          ],
          [
           "Andrew Jackson"
          ],
          [
           "Martin van Buren"
          ],
          [
           "Martin van Buren"
          ],
          [
           "Martin van Buren"
          ],
          [
           "Martin van Buren"
          ],
          [
           "John Tyler"
          ],
          [
           "John Tyler"
          ],
          [
           "John Tyler"
          ],
          [
           "John Tyler"
          ],
          [
           "James Polk"
          ],
          [
           "James Polk"
          ],
          [
           "James Polk"
          ],
          [
           "James Polk"
          ],
          [
           "Zachary Taylor"
          ],
          [
           "Millard Fillmore"
          ],
          [
           "Millard Fillmore"
          ],
          [
           "Millard Fillmore"
          ],
          [
           "Franklin Pierce"
          ],
          [
           "Franklin Pierce"
          ],
          [
           "Franklin Pierce"
          ],
          [
           "Franklin Pierce"
          ],
          [
           "James Buchanan"
          ],
          [
           "James Buchanan"
          ],
          [
           "James Buchanan"
          ],
          [
           "James Buchanan"
          ],
          [
           "Abraham Lincoln"
          ],
          [
           "Abraham Lincoln"
          ],
          [
           "Abraham Lincoln"
          ],
          [
           "Abraham Lincoln"
          ],
          [
           "Andrew Johnson"
          ],
          [
           "Andrew Johnson"
          ],
          [
           "Andrew Johnson"
          ],
          [
           "Andrew Johnson"
          ],
          [
           "Ulysses S. Grant"
          ],
          [
           "Ulysses S. Grant"
          ],
          [
           "Ulysses S. Grant"
          ],
          [
           "Ulysses S. Grant"
          ],
          [
           "Ulysses S. Grant"
          ],
          [
           "Ulysses S. Grant"
          ],
          [
           "Ulysses S. Grant"
          ],
          [
           "Ulysses S. Grant"
          ],
          [
           "Rutherford B. Hayes"
          ],
          [
           "Rutherford B. Hayes"
          ],
          [
           "Rutherford B. Hayes"
          ],
          [
           "Rutherford B. Hayes"
          ],
          [
           "Chester A. Arthur"
          ],
          [
           "Chester A. Arthur"
          ],
          [
           "Chester A. Arthur"
          ],
          [
           "Chester A. Arthur"
          ],
          [
           "Grover Cleveland"
          ],
          [
           "Grover Cleveland"
          ],
          [
           "Grover Cleveland"
          ],
          [
           "Grover Cleveland"
          ],
          [
           "Benjamin Harrison"
          ],
          [
           "Benjamin Harrison"
          ],
          [
           "Benjamin Harrison"
          ],
          [
           "Benjamin Harrison"
          ],
          [
           "William McKinley"
          ],
          [
           "William McKinley"
          ],
          [
           "William McKinley"
          ],
          [
           "William McKinley"
          ],
          [
           "Theodore Roosevelt"
          ],
          [
           "Theodore Roosevelt"
          ],
          [
           "Theodore Roosevelt"
          ],
          [
           "Theodore Roosevelt"
          ],
          [
           "Theodore Roosevelt"
          ],
          [
           "Theodore Roosevelt"
          ],
          [
           "Theodore Roosevelt"
          ],
          [
           "Theodore Roosevelt"
          ],
          [
           "William H. Taft"
          ],
          [
           "William H. Taft"
          ],
          [
           "William H. Taft"
          ],
          [
           "William H. Taft"
          ],
          [
           "Woodrow Wilson"
          ],
          [
           "Woodrow Wilson"
          ],
          [
           "Woodrow Wilson"
          ],
          [
           "Woodrow Wilson"
          ],
          [
           "Woodrow Wilson"
          ],
          [
           "Woodrow Wilson"
          ],
          [
           "Woodrow Wilson"
          ],
          [
           "Woodrow Wilson"
          ],
          [
           "Warren Harding"
          ],
          [
           "Warren Harding"
          ],
          [
           "Calvin Coolidge"
          ],
          [
           "Calvin Coolidge"
          ],
          [
           "Calvin Coolidge"
          ],
          [
           "Calvin Coolidge"
          ],
          [
           "Calvin Coolidge"
          ],
          [
           "Calvin Coolidge"
          ],
          [
           "Herbert Hoover"
          ],
          [
           "Herbert Hoover"
          ],
          [
           "Herbert Hoover"
          ],
          [
           "Herbert Hoover"
          ],
          [
           "Franklin D. Roosevelt"
          ],
          [
           "Franklin D. Roosevelt"
          ],
          [
           "Franklin D. Roosevelt"
          ],
          [
           "Franklin D. Roosevelt"
          ],
          [
           "Franklin D. Roosevelt"
          ],
          [
           "Franklin D. Roosevelt"
          ],
          [
           "Franklin D. Roosevelt"
          ],
          [
           "Franklin D. Roosevelt"
          ],
          [
           "Franklin D. Roosevelt"
          ],
          [
           "Franklin D. Roosevelt"
          ],
          [
           "Franklin D. Roosevelt"
          ],
          [
           "Franklin D. Roosevelt"
          ],
          [
           "Harry S. Truman"
          ],
          [
           "Harry S. Truman"
          ],
          [
           "Harry S. Truman"
          ],
          [
           "Harry S. Truman"
          ],
          [
           "Harry S. Truman"
          ],
          [
           "Harry S. Truman"
          ],
          [
           "Harry S. Truman"
          ],
          [
           "Harry S. Truman"
          ],
          [
           "Dwight D. Eisenhower"
          ],
          [
           "Dwight D. Eisenhower"
          ],
          [
           "Dwight D. Eisenhower"
          ],
          [
           "Dwight D. Eisenhower"
          ],
          [
           "Dwight D. Eisenhower"
          ],
          [
           "Dwight D. Eisenhower"
          ],
          [
           "Dwight D. Eisenhower"
          ],
          [
           "Dwight D. Eisenhower"
          ],
          [
           "Dwight D. Eisenhower"
          ],
          [
           "John F. Kennedy"
          ],
          [
           "John F. Kennedy"
          ],
          [
           "John F. Kennedy"
          ],
          [
           "Lyndon B. Johnson"
          ],
          [
           "Lyndon B. Johnson"
          ],
          [
           "Lyndon B. Johnson"
          ],
          [
           "Lyndon B. Johnson"
          ],
          [
           "Lyndon B. Johnson"
          ],
          [
           "Lyndon B. Johnson"
          ],
          [
           "Richard Nixon"
          ],
          [
           "Richard Nixon"
          ],
          [
           "Richard Nixon"
          ],
          [
           "Richard Nixon"
          ],
          [
           "Richard Nixon"
          ],
          [
           "Gerald R. Ford"
          ],
          [
           "Gerald R. Ford"
          ],
          [
           "Gerald R. Ford"
          ],
          [
           "Jimmy Carter"
          ],
          [
           "Jimmy Carter"
          ],
          [
           "Jimmy Carter"
          ],
          [
           "Jimmy Carter"
          ],
          [
           "Ronald Reagan"
          ],
          [
           "Ronald Reagan"
          ],
          [
           "Ronald Reagan"
          ],
          [
           "Ronald Reagan"
          ],
          [
           "Ronald Reagan"
          ],
          [
           "Ronald Reagan"
          ],
          [
           "Ronald Reagan"
          ],
          [
           "George H.W. Bush"
          ],
          [
           "George H.W. Bush"
          ],
          [
           "George H.W. Bush"
          ],
          [
           "George H.W. Bush"
          ],
          [
           "William J. Clinton"
          ],
          [
           "William J. Clinton"
          ],
          [
           "William J. Clinton"
          ],
          [
           "William J. Clinton"
          ],
          [
           "William J. Clinton"
          ],
          [
           "William J. Clinton"
          ],
          [
           "William J. Clinton"
          ],
          [
           "William J. Clinton"
          ],
          [
           "George W. Bush"
          ],
          [
           "George W. Bush"
          ],
          [
           "George W. Bush"
          ],
          [
           "George W. Bush"
          ],
          [
           "George W. Bush"
          ],
          [
           "George W. Bush"
          ],
          [
           "George W. Bush"
          ],
          [
           "George W. Bush"
          ],
          [
           "George W. Bush"
          ],
          [
           "Barack Obama"
          ],
          [
           "Barack Obama"
          ],
          [
           "Barack Obama"
          ],
          [
           "Barack Obama"
          ],
          [
           "Barack Obama"
          ],
          [
           "Barack Obama"
          ],
          [
           "Barack Obama"
          ],
          [
           "Barack Obama"
          ],
          [
           "Donald J. Trump  "
          ],
          [
           "Donald J. Trump  "
          ],
          [
           "Donald J. Trump  "
          ],
          [
           "Donald J. Trump  "
          ],
          [
           "Joseph R. Biden, Jr.  "
          ],
          [
           "Joseph R. Biden, Jr.  "
          ]
         ],
         "hovertemplate": "pc1=%{x}<br>pc2=%{y}<br>name=%{customdata[0]}<br>year=%{marker.color}<extra></extra>",
         "legendgroup": "",
         "marker": {
          "color": [
           1790,
           1790,
           1791,
           1792,
           1793,
           1794,
           1795,
           1796,
           1797,
           1798,
           1799,
           1800,
           1801,
           1802,
           1803,
           1804,
           1805,
           1806,
           1807,
           1808,
           1809,
           1810,
           1811,
           1812,
           1813,
           1814,
           1815,
           1816,
           1817,
           1818,
           1819,
           1820,
           1821,
           1822,
           1823,
           1824,
           1825,
           1826,
           1827,
           1828,
           1829,
           1830,
           1831,
           1832,
           1833,
           1834,
           1835,
           1836,
           1837,
           1838,
           1839,
           1840,
           1841,
           1842,
           1843,
           1844,
           1845,
           1846,
           1847,
           1848,
           1849,
           1850,
           1851,
           1852,
           1853,
           1854,
           1855,
           1856,
           1857,
           1858,
           1859,
           1860,
           1861,
           1862,
           1863,
           1864,
           1865,
           1866,
           1867,
           1868,
           1869,
           1870,
           1871,
           1872,
           1873,
           1874,
           1875,
           1876,
           1877,
           1878,
           1879,
           1880,
           1881,
           1882,
           1883,
           1884,
           1885,
           1886,
           1887,
           1888,
           1889,
           1890,
           1891,
           1892,
           1897,
           1898,
           1899,
           1900,
           1901,
           1902,
           1903,
           1904,
           1905,
           1906,
           1907,
           1908,
           1909,
           1910,
           1911,
           1912,
           1913,
           1914,
           1915,
           1916,
           1917,
           1918,
           1919,
           1920,
           1921,
           1922,
           1923,
           1924,
           1925,
           1926,
           1927,
           1928,
           1929,
           1930,
           1931,
           1932,
           1934,
           1935,
           1936,
           1937,
           1938,
           1939,
           1940,
           1941,
           1942,
           1943,
           1944,
           1945,
           1946,
           1947,
           1948,
           1949,
           1950,
           1951,
           1952,
           1953,
           1953,
           1954,
           1955,
           1956,
           1957,
           1958,
           1959,
           1960,
           1961,
           1961,
           1962,
           1963,
           1964,
           1965,
           1966,
           1967,
           1968,
           1969,
           1970,
           1971,
           1972,
           1973,
           1974,
           1975,
           1976,
           1977,
           1978,
           1979,
           1980,
           1981,
           1982,
           1983,
           1984,
           1985,
           1986,
           1987,
           1988,
           1989,
           1990,
           1991,
           1992,
           1993,
           1994,
           1995,
           1996,
           1997,
           1998,
           1999,
           2000,
           2001,
           2001,
           2002,
           2003,
           2004,
           2005,
           2006,
           2007,
           2008,
           2009,
           2010,
           2011,
           2012,
           2013,
           2014,
           2015,
           2016,
           2017,
           2018,
           2019,
           2020,
           2021,
           2022
          ],
          "coloraxis": "coloraxis",
          "symbol": "circle"
         },
         "mode": "markers",
         "name": "",
         "orientation": "v",
         "showlegend": false,
         "type": "scatter",
         "x": [
          0.16411288242535216,
          0.18304266964724727,
          0.15264127791694332,
          0.1256999916936059,
          0.15531551782677086,
          0.14790582983771786,
          0.17775185507773458,
          0.15748069533565376,
          0.2141957099957248,
          0.2072799316736992,
          0.17512693401631033,
          0.15106350007457095,
          0.12193751384278204,
          0.14713527413522998,
          0.15712876081001245,
          0.16163392427763115,
          0.15532169675129054,
          0.14438205388735728,
          0.18708380326107393,
          0.18021977640341863,
          0.21089262339702727,
          0.13559829035134918,
          0.1953144202302034,
          0.19835878836432508,
          0.203321832028648,
          0.1912519569474201,
          0.08969282976516943,
          0.1157043209838258,
          0.14894092958611074,
          0.19274817143395687,
          0.20283502465106856,
          0.16151485581561445,
          0.15551789867040933,
          0.15697579739032866,
          0.11208065963570532,
          0.1467570669870259,
          0.0463687474282951,
          0.0994165785455242,
          0.08551835136873942,
          0.057024238335893235,
          0.03096793334142202,
          0.039770187905557204,
          0.10721927343427633,
          0.03358853857636224,
          0.09646349793984106,
          0.04325782325855728,
          0.07415838158735027,
          0.01122255684129498,
          -0.01054819381742649,
          0.037238767102259165,
          0.014273698247844122,
          -0.010902848799881962,
          0.04942561358642468,
          0.0535411448795742,
          0.047135709792678435,
          0.04660419564731373,
          0.04982299662511031,
          0.10763728687321131,
          0.07286376173254003,
          -0.01706153597028056,
          0.044788198684099216,
          0.021530043515905543,
          0.03711313660795701,
          0.04159054403831629,
          0.0070340624387452855,
          0.04712864654307271,
          0.09911231432200394,
          0.06871652860879568,
          0.06043010323236977,
          0.05496416125615248,
          0.06475641682177587,
          0.08054369876438422,
          -0.007960966433663926,
          0.025090075890837008,
          0.02885579056255605,
          0.005436347302939608,
          0.023107831639070285,
          0.018317000924382217,
          -0.022762878879196796,
          -0.043086437797080934,
          -0.02748795894598376,
          0.03866577614966635,
          -0.0129198089146997,
          0.08929915224493172,
          -0.03428999314685673,
          -0.02607764047343204,
          -0.03774980027947147,
          -0.0006771345402843986,
          -0.044282602517699915,
          -0.05455853567326769,
          -0.08088211568119205,
          -0.013508223933831196,
          0.06478042913657052,
          0.07100167167334838,
          0.049854295081284965,
          -0.05219744645577538,
          -0.08690663754025928,
          -0.10643965206071526,
          -0.08466242842236152,
          -0.059251178145332636,
          -0.10044199035112802,
          -0.10473697213032684,
          -0.09678681855036934,
          -0.10581585657667851,
          -0.05955710003905622,
          -0.009993675457470345,
          -0.05667862008388248,
          -0.10230475023285798,
          -0.18547186768689589,
          -0.1839399608207514,
          -0.0749983014351391,
          -0.19496714460434042,
          -0.20205321989987268,
          -0.1537647455664562,
          -0.23728338833382492,
          -0.18832097685864968,
          -0.13150022571242875,
          -0.051987319918283,
          -0.13831056844300155,
          -0.18903008586855777,
          -0.10956230568496164,
          -0.05899202145642488,
          -0.10264779771070738,
          -0.1112264689997755,
          -0.044134906556246196,
          -0.11810896960735558,
          -0.19594863354015676,
          -0.11455140262318936,
          -0.21122187414965493,
          -0.20914036233093994,
          -0.28767661654103255,
          -0.28488240108028007,
          -0.27465078759127687,
          -0.31457242040316774,
          -0.2813379620352918,
          -0.2766068802352634,
          -0.319992120982802,
          -0.2849909735147093,
          -0.307768644653574,
          -0.06946065734755735,
          -0.17733701086458728,
          -0.20687104714060636,
          -0.08523854482233387,
          -0.15366797269736396,
          -0.25234547368106675,
          -0.16563740178464895,
          -0.13090109913336914,
          -0.08768112434996211,
          0.022673851287575448,
          0.008882661359508947,
          -0.09392462321044091,
          -0.0827852410288804,
          -0.30652595321559584,
          -0.3358612430105791,
          -0.30176289721369776,
          -0.27197130366464906,
          -0.29804578008469373,
          -0.12292885902174851,
          -0.1610452254206965,
          -0.14288302455958182,
          -0.3421091528133699,
          -0.3414341340748387,
          -0.3674088115633384,
          -0.36322026090312143,
          -0.2923222938960134,
          -0.20295067860076862,
          -0.2705768781687618,
          -0.2448125830639806,
          -0.28184193965876925,
          -0.22570541934356875,
          -0.17250383827804036,
          -0.14571889787952863,
          -0.07674636086590035,
          -0.07769689988003946,
          -0.015174185671230923,
          -0.07437001037660759,
          -0.038214209107364325,
          -0.004254194016202841,
          -0.07345426541732711,
          -0.015489716257867108,
          -0.07251920150009311,
          -0.07360419504543521,
          -0.010243337059622284,
          -0.14026582763672393,
          -0.06576101357497523,
          -0.11020303415178756,
          -0.0915630164275198,
          -0.06554459640025412,
          -0.006737714915926085,
          -0.25854799567708825,
          -0.08648993105205158,
          -0.04007541843916288,
          0.058542671428262756,
          0.03826834696580716,
          0.1274672854522879,
          0.13081380039801419,
          0.1275178496763817,
          0.08896978778879168,
          0.16086397269230412,
          0.08657006529674036,
          0.10587062143414991,
          0.06911606130073746,
          0.1606183209076363,
          0.14634097654306505,
          0.18366359168795285,
          0.17378719867741046,
          0.1969170349768825,
          0.1616541434525683,
          0.17488316181893457,
          0.07389009842604281,
          0.27967220111482294,
          0.22848609328402772,
          0.17512502635743665,
          0.21619572931368347,
          0.15057842502586363,
          0.17295541602749245,
          0.22235074920459758,
          0.1787126991886313,
          0.1685608629926677,
          0.19319709406274932,
          0.2313725693228053,
          0.24088908525337294,
          0.24354666962151836,
          0.25463270815733874,
          0.2480808178706921,
          0.234209368363256,
          0.20558560248623764,
          0.2862673705965268,
          0.26551042303815586,
          0.25939395600846665,
          0.27103269533853386,
          0.2513380128473431
         ],
         "xaxis": "x",
         "y": [
          -0.17496258064313255,
          -0.15343788524532978,
          -0.26023703731784953,
          -0.22047986936817046,
          -0.2608322688032419,
          -0.18359618901096078,
          -0.20051468417468343,
          -0.2586449151094966,
          -0.2536995109561555,
          -0.21904374997374215,
          -0.2028823445761354,
          -0.19014618684720508,
          -0.19372021999449038,
          -0.15171446956486354,
          -0.18284319239468677,
          -0.1997654932702348,
          -0.1660389984248339,
          -0.19078182259601908,
          -0.16032761982903077,
          -0.21571685189666165,
          -0.21334669094848935,
          -0.24581019276758717,
          -0.2332206974382658,
          -0.17070641401302897,
          -0.14083383853483603,
          -0.04438336708225965,
          -0.2349782923397071,
          -0.2714276533789934,
          -0.33160558811274127,
          -0.28309230321299467,
          -0.3134556902730349,
          -0.27433983513743715,
          -0.3298749864077715,
          -0.31026383554859605,
          -0.32741690932695117,
          -0.34080007673137314,
          -0.286728658305087,
          -0.3175234037766645,
          -0.3440981096771731,
          -0.30195322138318276,
          -0.37178282771798987,
          -0.37581063314831115,
          -0.3490498349927508,
          -0.3524591779793167,
          -0.39571050465329466,
          -0.3744375872752975,
          -0.3308082386144632,
          -0.3278544032724666,
          -0.37866277550390864,
          -0.3882396145618814,
          -0.30860622008878724,
          -0.30925673906436124,
          -0.3560907350960071,
          -0.3208777387369588,
          -0.3450617478271266,
          -0.33725784285220023,
          -0.35893628894840185,
          -0.28781155360499255,
          -0.32605530130425286,
          -0.31623391660058725,
          -0.33871364776760543,
          -0.3775038607158269,
          -0.3693732719927304,
          -0.3381499337546625,
          -0.3490179218539736,
          -0.331446103799037,
          -0.3516604907107825,
          -0.34062660573466513,
          -0.31556830699614896,
          -0.3607945101462852,
          -0.307355155791682,
          -0.33457333316018384,
          -0.23069407004743064,
          -0.21090372662540094,
          -0.31709550729322766,
          -0.23526999410111837,
          -0.24600812245860504,
          -0.33822048287596845,
          -0.26495478655353644,
          -0.26459135102218906,
          -0.32265903747698205,
          -0.3081807951019514,
          -0.29935542571318596,
          -0.2778392818962089,
          -0.3083794497008722,
          -0.30665543054143707,
          -0.2991613346948329,
          -0.3270124063343925,
          -0.28707423786315167,
          -0.28672962782804917,
          -0.3390211413041311,
          -0.30616740252694963,
          -0.24275603696791695,
          -0.262879449970105,
          -0.24076185506263278,
          -0.307628441771907,
          -0.3313490349035248,
          -0.29692440681132426,
          -0.11719381065148948,
          -0.23830665579550572,
          -0.2883402063012751,
          -0.25243188243501957,
          -0.27072168377785055,
          -0.195295471983387,
          -0.2636573446863594,
          -0.29105633199795006,
          -0.2962313281553221,
          -0.24660983067453698,
          -0.0456422155155731,
          -0.07201743119350298,
          -0.20198966635703586,
          -0.10132417730445611,
          -0.11581582189543332,
          -0.07126878363610195,
          -0.11882104110371344,
          -0.061462626159638226,
          -0.25442111563840913,
          -0.21481598946783964,
          -0.19885330033390788,
          -0.2168824728910307,
          -0.03884138943515891,
          0.03659862044479442,
          0.018583764573962235,
          -0.10936991414254975,
          0.09836184625601246,
          0.015943485926720992,
          0.04043450453994888,
          -0.04070702386888854,
          0.0068689844221034475,
          0.04841659290654133,
          -0.040124164263200826,
          -0.0382202476952604,
          -0.10721455942858762,
          -0.0766994950101182,
          -0.08526824710095321,
          -0.05951326788804693,
          -0.11626185302907607,
          -0.023012208142137572,
          -0.005748980810283797,
          0.018794677465973162,
          0.10791712438966804,
          0.15165580087614214,
          0.14412634377159594,
          0.14034123657980674,
          0.13664499980660874,
          0.2183173084873839,
          0.22807872980453295,
          0.2344716653831503,
          0.22572744083706442,
          0.23737300289711386,
          0.18869631982532856,
          0.1984573040577201,
          0.1312436556455492,
          0.13495691379177419,
          0.26159612308766217,
          0.20360759397952202,
          0.26508714668551697,
          0.2991860891698696,
          0.33525591945073563,
          0.2615144447193362,
          0.16551407404736201,
          0.19162210377271258,
          0.23502120910123883,
          0.24961419468853777,
          0.2015954134653701,
          0.2972200075800586,
          0.2853400236337012,
          0.24574648269359475,
          0.28893478684288476,
          0.30241764512752983,
          0.3306842429756008,
          0.3681509974704908,
          0.37174027023329853,
          0.3822755420674706,
          0.336521534306146,
          0.36488783006013115,
          0.36482227270979145,
          0.2935603004540698,
          0.3820974690754467,
          0.30864006497930374,
          0.39741274428922935,
          0.29873676458413395,
          0.39949402958832964,
          0.33988539091303205,
          0.40584394115704525,
          0.29520038272117405,
          0.4154962125563172,
          0.39313017914488346,
          0.3324219966647453,
          0.2842704535832723,
          0.40126214162219315,
          0.46947037894306626,
          0.44574645141210606,
          0.473805145676833,
          0.44055099090784544,
          0.3899830227581837,
          0.42804982665998115,
          0.4916219499352896,
          0.46700849430412317,
          0.42718805602435467,
          0.4625593121139967,
          0.4961028446077964,
          0.4907307174558152,
          0.4574906871135139,
          0.483975845335286,
          0.5191454864113696,
          0.5165386378111324,
          0.4999349107891705,
          0.5329973309866609,
          0.4420205380370104,
          0.3064150226115952,
          0.3989760015959269,
          0.3653932225797747,
          0.4455326539414364,
          0.40035684749930767,
          0.45478262471845937,
          0.37342637917903143,
          0.42027491481951346,
          0.484253004950244,
          0.47785420769226433,
          0.48928530151892785,
          0.4703868948746414,
          0.4944043328075798,
          0.5119788668325984,
          0.487139072236979,
          0.4634086092396373,
          0.38896977456181925,
          0.39690399588151315,
          0.34716044996921386,
          0.373365051802664,
          0.47691670518417545,
          0.433522951204598
         ],
         "yaxis": "y"
        }
       ],
       "layout": {
        "coloraxis": {
         "colorbar": {
          "title": {
           "text": "year"
          }
         },
         "colorscale": [
          [
           0,
           "#440154"
          ],
          [
           0.1111111111111111,
           "#482878"
          ],
          [
           0.2222222222222222,
           "#3e4989"
          ],
          [
           0.3333333333333333,
           "#31688e"
          ],
          [
           0.4444444444444444,
           "#26828e"
          ],
          [
           0.5555555555555556,
           "#1f9e89"
          ],
          [
           0.6666666666666666,
           "#35b779"
          ],
          [
           0.7777777777777778,
           "#6ece58"
          ],
          [
           0.8888888888888888,
           "#b5de2b"
          ],
          [
           1,
           "#fde725"
          ]
         ]
        },
        "height": 350,
        "legend": {
         "tracegroupgap": 0
        },
        "template": {
         "data": {
          "bar": [
           {
            "error_x": {
             "color": "rgb(36,36,36)"
            },
            "error_y": {
             "color": "rgb(36,36,36)"
            },
            "marker": {
             "line": {
              "color": "white",
              "width": 0.5
             },
             "pattern": {
              "fillmode": "overlay",
              "size": 10,
              "solidity": 0.2
             }
            },
            "type": "bar"
           }
          ],
          "barpolar": [
           {
            "marker": {
             "line": {
              "color": "white",
              "width": 0.5
             },
             "pattern": {
              "fillmode": "overlay",
              "size": 10,
              "solidity": 0.2
             }
            },
            "type": "barpolar"
           }
          ],
          "carpet": [
           {
            "aaxis": {
             "endlinecolor": "rgb(36,36,36)",
             "gridcolor": "white",
             "linecolor": "white",
             "minorgridcolor": "white",
             "startlinecolor": "rgb(36,36,36)"
            },
            "baxis": {
             "endlinecolor": "rgb(36,36,36)",
             "gridcolor": "white",
             "linecolor": "white",
             "minorgridcolor": "white",
             "startlinecolor": "rgb(36,36,36)"
            },
            "type": "carpet"
           }
          ],
          "choropleth": [
           {
            "colorbar": {
             "outlinewidth": 1,
             "tickcolor": "rgb(36,36,36)",
             "ticks": "outside"
            },
            "type": "choropleth"
           }
          ],
          "contour": [
           {
            "colorbar": {
             "outlinewidth": 1,
             "tickcolor": "rgb(36,36,36)",
             "ticks": "outside"
            },
            "colorscale": [
             [
              0,
              "#440154"
             ],
             [
              0.1111111111111111,
              "#482878"
             ],
             [
              0.2222222222222222,
              "#3e4989"
             ],
             [
              0.3333333333333333,
              "#31688e"
             ],
             [
              0.4444444444444444,
              "#26828e"
             ],
             [
              0.5555555555555556,
              "#1f9e89"
             ],
             [
              0.6666666666666666,
              "#35b779"
             ],
             [
              0.7777777777777778,
              "#6ece58"
             ],
             [
              0.8888888888888888,
              "#b5de2b"
             ],
             [
              1,
              "#fde725"
             ]
            ],
            "type": "contour"
           }
          ],
          "contourcarpet": [
           {
            "colorbar": {
             "outlinewidth": 1,
             "tickcolor": "rgb(36,36,36)",
             "ticks": "outside"
            },
            "type": "contourcarpet"
           }
          ],
          "heatmap": [
           {
            "colorbar": {
             "outlinewidth": 1,
             "tickcolor": "rgb(36,36,36)",
             "ticks": "outside"
            },
            "colorscale": [
             [
              0,
              "#440154"
             ],
             [
              0.1111111111111111,
              "#482878"
             ],
             [
              0.2222222222222222,
              "#3e4989"
             ],
             [
              0.3333333333333333,
              "#31688e"
             ],
             [
              0.4444444444444444,
              "#26828e"
             ],
             [
              0.5555555555555556,
              "#1f9e89"
             ],
             [
              0.6666666666666666,
              "#35b779"
             ],
             [
              0.7777777777777778,
              "#6ece58"
             ],
             [
              0.8888888888888888,
              "#b5de2b"
             ],
             [
              1,
              "#fde725"
             ]
            ],
            "type": "heatmap"
           }
          ],
          "heatmapgl": [
           {
            "colorbar": {
             "outlinewidth": 1,
             "tickcolor": "rgb(36,36,36)",
             "ticks": "outside"
            },
            "colorscale": [
             [
              0,
              "#440154"
             ],
             [
              0.1111111111111111,
              "#482878"
             ],
             [
              0.2222222222222222,
              "#3e4989"
             ],
             [
              0.3333333333333333,
              "#31688e"
             ],
             [
              0.4444444444444444,
              "#26828e"
             ],
             [
              0.5555555555555556,
              "#1f9e89"
             ],
             [
              0.6666666666666666,
              "#35b779"
             ],
             [
              0.7777777777777778,
              "#6ece58"
             ],
             [
              0.8888888888888888,
              "#b5de2b"
             ],
             [
              1,
              "#fde725"
             ]
            ],
            "type": "heatmapgl"
           }
          ],
          "histogram": [
           {
            "marker": {
             "line": {
              "color": "white",
              "width": 0.6
             }
            },
            "type": "histogram"
           }
          ],
          "histogram2d": [
           {
            "colorbar": {
             "outlinewidth": 1,
             "tickcolor": "rgb(36,36,36)",
             "ticks": "outside"
            },
            "colorscale": [
             [
              0,
              "#440154"
             ],
             [
              0.1111111111111111,
              "#482878"
             ],
             [
              0.2222222222222222,
              "#3e4989"
             ],
             [
              0.3333333333333333,
              "#31688e"
             ],
             [
              0.4444444444444444,
              "#26828e"
             ],
             [
              0.5555555555555556,
              "#1f9e89"
             ],
             [
              0.6666666666666666,
              "#35b779"
             ],
             [
              0.7777777777777778,
              "#6ece58"
             ],
             [
              0.8888888888888888,
              "#b5de2b"
             ],
             [
              1,
              "#fde725"
             ]
            ],
            "type": "histogram2d"
           }
          ],
          "histogram2dcontour": [
           {
            "colorbar": {
             "outlinewidth": 1,
             "tickcolor": "rgb(36,36,36)",
             "ticks": "outside"
            },
            "colorscale": [
             [
              0,
              "#440154"
             ],
             [
              0.1111111111111111,
              "#482878"
             ],
             [
              0.2222222222222222,
              "#3e4989"
             ],
             [
              0.3333333333333333,
              "#31688e"
             ],
             [
              0.4444444444444444,
              "#26828e"
             ],
             [
              0.5555555555555556,
              "#1f9e89"
             ],
             [
              0.6666666666666666,
              "#35b779"
             ],
             [
              0.7777777777777778,
              "#6ece58"
             ],
             [
              0.8888888888888888,
              "#b5de2b"
             ],
             [
              1,
              "#fde725"
             ]
            ],
            "type": "histogram2dcontour"
           }
          ],
          "mesh3d": [
           {
            "colorbar": {
             "outlinewidth": 1,
             "tickcolor": "rgb(36,36,36)",
             "ticks": "outside"
            },
            "type": "mesh3d"
           }
          ],
          "parcoords": [
           {
            "line": {
             "colorbar": {
              "outlinewidth": 1,
              "tickcolor": "rgb(36,36,36)",
              "ticks": "outside"
             }
            },
            "type": "parcoords"
           }
          ],
          "pie": [
           {
            "automargin": true,
            "type": "pie"
           }
          ],
          "scatter": [
           {
            "marker": {
             "colorbar": {
              "outlinewidth": 1,
              "tickcolor": "rgb(36,36,36)",
              "ticks": "outside"
             }
            },
            "type": "scatter"
           }
          ],
          "scatter3d": [
           {
            "line": {
             "colorbar": {
              "outlinewidth": 1,
              "tickcolor": "rgb(36,36,36)",
              "ticks": "outside"
             }
            },
            "marker": {
             "colorbar": {
              "outlinewidth": 1,
              "tickcolor": "rgb(36,36,36)",
              "ticks": "outside"
             }
            },
            "type": "scatter3d"
           }
          ],
          "scattercarpet": [
           {
            "marker": {
             "colorbar": {
              "outlinewidth": 1,
              "tickcolor": "rgb(36,36,36)",
              "ticks": "outside"
             }
            },
            "type": "scattercarpet"
           }
          ],
          "scattergeo": [
           {
            "marker": {
             "colorbar": {
              "outlinewidth": 1,
              "tickcolor": "rgb(36,36,36)",
              "ticks": "outside"
             }
            },
            "type": "scattergeo"
           }
          ],
          "scattergl": [
           {
            "marker": {
             "colorbar": {
              "outlinewidth": 1,
              "tickcolor": "rgb(36,36,36)",
              "ticks": "outside"
             }
            },
            "type": "scattergl"
           }
          ],
          "scattermapbox": [
           {
            "marker": {
             "colorbar": {
              "outlinewidth": 1,
              "tickcolor": "rgb(36,36,36)",
              "ticks": "outside"
             }
            },
            "type": "scattermapbox"
           }
          ],
          "scatterpolar": [
           {
            "marker": {
             "colorbar": {
              "outlinewidth": 1,
              "tickcolor": "rgb(36,36,36)",
              "ticks": "outside"
             }
            },
            "type": "scatterpolar"
           }
          ],
          "scatterpolargl": [
           {
            "marker": {
             "colorbar": {
              "outlinewidth": 1,
              "tickcolor": "rgb(36,36,36)",
              "ticks": "outside"
             }
            },
            "type": "scatterpolargl"
           }
          ],
          "scatterternary": [
           {
            "marker": {
             "colorbar": {
              "outlinewidth": 1,
              "tickcolor": "rgb(36,36,36)",
              "ticks": "outside"
             }
            },
            "type": "scatterternary"
           }
          ],
          "surface": [
           {
            "colorbar": {
             "outlinewidth": 1,
             "tickcolor": "rgb(36,36,36)",
             "ticks": "outside"
            },
            "colorscale": [
             [
              0,
              "#440154"
             ],
             [
              0.1111111111111111,
              "#482878"
             ],
             [
              0.2222222222222222,
              "#3e4989"
             ],
             [
              0.3333333333333333,
              "#31688e"
             ],
             [
              0.4444444444444444,
              "#26828e"
             ],
             [
              0.5555555555555556,
              "#1f9e89"
             ],
             [
              0.6666666666666666,
              "#35b779"
             ],
             [
              0.7777777777777778,
              "#6ece58"
             ],
             [
              0.8888888888888888,
              "#b5de2b"
             ],
             [
              1,
              "#fde725"
             ]
            ],
            "type": "surface"
           }
          ],
          "table": [
           {
            "cells": {
             "fill": {
              "color": "rgb(237,237,237)"
             },
             "line": {
              "color": "white"
             }
            },
            "header": {
             "fill": {
              "color": "rgb(217,217,217)"
             },
             "line": {
              "color": "white"
             }
            },
            "type": "table"
           }
          ]
         },
         "layout": {
          "annotationdefaults": {
           "arrowhead": 0,
           "arrowwidth": 1
          },
          "autosize": true,
          "autotypenumbers": "strict",
          "coloraxis": {
           "colorbar": {
            "outlinewidth": 1,
            "tickcolor": "rgb(36,36,36)",
            "ticks": "outside"
           }
          },
          "colorscale": {
           "diverging": [
            [
             0,
             "rgb(103,0,31)"
            ],
            [
             0.1,
             "rgb(178,24,43)"
            ],
            [
             0.2,
             "rgb(214,96,77)"
            ],
            [
             0.3,
             "rgb(244,165,130)"
            ],
            [
             0.4,
             "rgb(253,219,199)"
            ],
            [
             0.5,
             "rgb(247,247,247)"
            ],
            [
             0.6,
             "rgb(209,229,240)"
            ],
            [
             0.7,
             "rgb(146,197,222)"
            ],
            [
             0.8,
             "rgb(67,147,195)"
            ],
            [
             0.9,
             "rgb(33,102,172)"
            ],
            [
             1,
             "rgb(5,48,97)"
            ]
           ],
           "sequential": [
            [
             0,
             "#440154"
            ],
            [
             0.1111111111111111,
             "#482878"
            ],
            [
             0.2222222222222222,
             "#3e4989"
            ],
            [
             0.3333333333333333,
             "#31688e"
            ],
            [
             0.4444444444444444,
             "#26828e"
            ],
            [
             0.5555555555555556,
             "#1f9e89"
            ],
            [
             0.6666666666666666,
             "#35b779"
            ],
            [
             0.7777777777777778,
             "#6ece58"
            ],
            [
             0.8888888888888888,
             "#b5de2b"
            ],
            [
             1,
             "#fde725"
            ]
           ],
           "sequentialminus": [
            [
             0,
             "#440154"
            ],
            [
             0.1111111111111111,
             "#482878"
            ],
            [
             0.2222222222222222,
             "#3e4989"
            ],
            [
             0.3333333333333333,
             "#31688e"
            ],
            [
             0.4444444444444444,
             "#26828e"
            ],
            [
             0.5555555555555556,
             "#1f9e89"
            ],
            [
             0.6666666666666666,
             "#35b779"
            ],
            [
             0.7777777777777778,
             "#6ece58"
            ],
            [
             0.8888888888888888,
             "#b5de2b"
            ],
            [
             1,
             "#fde725"
            ]
           ]
          },
          "colorway": [
           "#1F77B4",
           "#FF7F0E",
           "#2CA02C",
           "#D62728",
           "#9467BD",
           "#8C564B",
           "#E377C2",
           "#7F7F7F",
           "#BCBD22",
           "#17BECF"
          ],
          "font": {
           "color": "rgb(36,36,36)"
          },
          "geo": {
           "bgcolor": "white",
           "lakecolor": "white",
           "landcolor": "white",
           "showlakes": true,
           "showland": true,
           "subunitcolor": "white"
          },
          "height": 250,
          "hoverlabel": {
           "align": "left"
          },
          "hovermode": "closest",
          "mapbox": {
           "style": "light"
          },
          "margin": {
           "b": 10,
           "l": 10,
           "r": 10,
           "t": 10
          },
          "paper_bgcolor": "white",
          "plot_bgcolor": "white",
          "polar": {
           "angularaxis": {
            "gridcolor": "rgb(232,232,232)",
            "linecolor": "rgb(36,36,36)",
            "showgrid": false,
            "showline": true,
            "ticks": "outside"
           },
           "bgcolor": "white",
           "radialaxis": {
            "gridcolor": "rgb(232,232,232)",
            "linecolor": "rgb(36,36,36)",
            "showgrid": false,
            "showline": true,
            "ticks": "outside"
           }
          },
          "scene": {
           "xaxis": {
            "backgroundcolor": "white",
            "gridcolor": "rgb(232,232,232)",
            "gridwidth": 2,
            "linecolor": "rgb(36,36,36)",
            "showbackground": true,
            "showgrid": false,
            "showline": true,
            "ticks": "outside",
            "zeroline": false,
            "zerolinecolor": "rgb(36,36,36)"
           },
           "yaxis": {
            "backgroundcolor": "white",
            "gridcolor": "rgb(232,232,232)",
            "gridwidth": 2,
            "linecolor": "rgb(36,36,36)",
            "showbackground": true,
            "showgrid": false,
            "showline": true,
            "ticks": "outside",
            "zeroline": false,
            "zerolinecolor": "rgb(36,36,36)"
           },
           "zaxis": {
            "backgroundcolor": "white",
            "gridcolor": "rgb(232,232,232)",
            "gridwidth": 2,
            "linecolor": "rgb(36,36,36)",
            "showbackground": true,
            "showgrid": false,
            "showline": true,
            "ticks": "outside",
            "zeroline": false,
            "zerolinecolor": "rgb(36,36,36)"
           }
          },
          "shapedefaults": {
           "fillcolor": "black",
           "line": {
            "width": 0
           },
           "opacity": 0.3
          },
          "ternary": {
           "aaxis": {
            "gridcolor": "rgb(232,232,232)",
            "linecolor": "rgb(36,36,36)",
            "showgrid": false,
            "showline": true,
            "ticks": "outside"
           },
           "baxis": {
            "gridcolor": "rgb(232,232,232)",
            "linecolor": "rgb(36,36,36)",
            "showgrid": false,
            "showline": true,
            "ticks": "outside"
           },
           "bgcolor": "white",
           "caxis": {
            "gridcolor": "rgb(232,232,232)",
            "linecolor": "rgb(36,36,36)",
            "showgrid": false,
            "showline": true,
            "ticks": "outside"
           }
          },
          "title": {
           "x": 0.5,
           "xanchor": "center"
          },
          "width": 350,
          "xaxis": {
           "automargin": true,
           "gridcolor": "rgb(232,232,232)",
           "linecolor": "rgb(36,36,36)",
           "showgrid": true,
           "showline": true,
           "ticks": "outside",
           "title": {
            "standoff": 15
           },
           "zeroline": false,
           "zerolinecolor": "rgb(36,36,36)"
          },
          "yaxis": {
           "automargin": true,
           "gridcolor": "rgb(232,232,232)",
           "linecolor": "rgb(36,36,36)",
           "showgrid": true,
           "showline": true,
           "ticks": "outside",
           "title": {
            "standoff": 15
           },
           "zeroline": false,
           "zerolinecolor": "rgb(36,36,36)"
          }
         }
        },
        "width": 550,
        "xaxis": {
         "anchor": "y",
         "autorange": true,
         "domain": [
          0,
          1
         ],
         "range": [
          -0.4118666087057507,
          0.3307251677389391
         ],
         "title": {
          "text": "pc1"
         },
         "type": "linear"
        },
        "yaxis": {
         "anchor": "x",
         "autorange": true,
         "domain": [
          0,
          1
         ],
         "range": [
          -0.4636122364204806,
          0.6008990627538469
         ],
         "title": {
          "text": "pc2"
         },
         "type": "linear"
        }
       }
      },
      "image/png": "[encoded data removed]",
      "image/svg+xml": [
       "<svg class=\"main-svg\" xmlns=\"http://www.w3.org/2000/svg\" xmlns:xlink=\"http://www.w3.org/1999/xlink\" width=\"550\" height=\"350\" style=\"\" viewBox=\"0 0 550 350\"><rect x=\"0\" y=\"0\" width=\"550\" height=\"350\" style=\"fill: rgb(255, 255, 255); fill-opacity: 1;\"/><defs id=\"defs-b6fe83\"><g class=\"clips\"><clipPath id=\"clipb6fe83xyplot\" class=\"plotclip\"><rect width=\"371\" height=\"274\"/></clipPath><clipPath class=\"axesclip\" id=\"clipb6fe83x\"><rect x=\"73\" y=\"0\" width=\"371\" height=\"350\"/></clipPath><clipPath class=\"axesclip\" id=\"clipb6fe83y\"><rect x=\"0\" y=\"18\" width=\"550\" height=\"274\"/></clipPath><clipPath class=\"axesclip\" id=\"clipb6fe83xy\"><rect x=\"73\" y=\"18\" width=\"371\" height=\"274\"/></clipPath></g><g class=\"gradients\"><linearGradient x1=\"0\" x2=\"0\" y1=\"1\" y2=\"0\" id=\"gb6fe83-cbcoloraxis\"><stop offset=\"0%\" stop-color=\"rgb(68, 1, 84)\" stop-opacity=\"1\"/><stop offset=\"11.111111%\" stop-color=\"rgb(72, 40, 120)\" stop-opacity=\"1\"/><stop offset=\"22.222222%\" stop-color=\"rgb(62, 73, 137)\" stop-opacity=\"1\"/><stop offset=\"33.333333%\" stop-color=\"rgb(49, 104, 142)\" stop-opacity=\"1\"/><stop offset=\"44.444444%\" stop-color=\"rgb(38, 130, 142)\" stop-opacity=\"1\"/><stop offset=\"55.555556%\" stop-color=\"rgb(31, 158, 137)\" stop-opacity=\"1\"/><stop offset=\"66.666667%\" stop-color=\"rgb(53, 183, 121)\" stop-opacity=\"1\"/><stop offset=\"77.777778%\" stop-color=\"rgb(110, 206, 88)\" stop-opacity=\"1\"/><stop offset=\"88.888889%\" stop-color=\"rgb(181, 222, 43)\" stop-opacity=\"1\"/><stop offset=\"100%\" stop-color=\"rgb(253, 231, 37)\" stop-opacity=\"1\"/></linearGradient></g><g class=\"patterns\"/></defs><g class=\"bglayer\"/><g class=\"layer-below\"><g class=\"imagelayer\"/><g class=\"shapelayer\"/></g><g class=\"cartesianlayer\"><g class=\"subplot xy\"><g class=\"layer-subplot\"><g class=\"shapelayer\"/><g class=\"imagelayer\"/></g><g class=\"gridlayer\"><g class=\"x\"><path class=\"xgrid crisp\" transform=\"translate(79.03,0)\" d=\"M0,18v274\" style=\"stroke: rgb(232, 232, 232); stroke-opacity: 1; stroke-width: 1px;\"/><path class=\"xgrid crisp\" transform=\"translate(178.89,0)\" d=\"M0,18v274\" style=\"stroke: rgb(232, 232, 232); stroke-opacity: 1; stroke-width: 1px;\"/><path class=\"xgrid crisp\" transform=\"translate(278.76,0)\" d=\"M0,18v274\" style=\"stroke: rgb(232, 232, 232); stroke-opacity: 1; stroke-width: 1px;\"/><path class=\"xgrid crisp\" transform=\"translate(378.62,0)\" d=\"M0,18v274\" style=\"stroke: rgb(232, 232, 232); stroke-opacity: 1; stroke-width: 1px;\"/></g><g class=\"y\"><path class=\"ygrid crisp\" transform=\"translate(0,275.65)\" d=\"M73,0h371\" style=\"stroke: rgb(232, 232, 232); stroke-opacity: 1; stroke-width: 1px;\"/><path class=\"ygrid crisp\" transform=\"translate(0,224.16)\" d=\"M73,0h371\" style=\"stroke: rgb(232, 232, 232); stroke-opacity: 1; stroke-width: 1px;\"/><path class=\"ygrid crisp\" transform=\"translate(0,172.67)\" d=\"M73,0h371\" style=\"stroke: rgb(232, 232, 232); stroke-opacity: 1; stroke-width: 1px;\"/><path class=\"ygrid crisp\" transform=\"translate(0,121.18)\" d=\"M73,0h371\" style=\"stroke: rgb(232, 232, 232); stroke-opacity: 1; stroke-width: 1px;\"/><path class=\"ygrid crisp\" transform=\"translate(0,69.69)\" d=\"M73,0h371\" style=\"stroke: rgb(232, 232, 232); stroke-opacity: 1; stroke-width: 1px;\"/></g></g><g class=\"zerolinelayer\"/><path class=\"xlines-below\"/><path class=\"ylines-below\"/><g class=\"overlines-below\"/><g class=\"xaxislayer-below\"/><g class=\"yaxislayer-below\"/><g class=\"overaxes-below\"/><g class=\"plot\" transform=\"translate(73,18)\" clip-path=\"url(#clipb6fe83xyplot)\"><g class=\"scatterlayer mlayer\"><g class=\"trace scatter trace8fc719\" style=\"stroke-miterlimit: 2; opacity: 1;\"><g class=\"fills\"/><g class=\"errorbars\"/><g class=\"lines\"/><g class=\"points\"><path class=\"point plotly-customdata\" transform=\"translate(287.7,199.72)\" d=\"M3,0A3,3 0 1,1 0,-3A3,3 0 0,1 3,0Z\" style=\"opacity: 1; stroke-width: 0px; fill: rgb(68, 1, 84); fill-opacity: 1;\"/><path class=\"point plotly-customdata\" transform=\"translate(297.16,194.18)\" d=\"M3,0A3,3 0 1,1 0,-3A3,3 0 0,1 3,0Z\" style=\"opacity: 1; stroke-width: 0px; fill: rgb(68, 1, 84); fill-opacity: 1;\"/><path class=\"point plotly-customdata\" transform=\"translate(281.98,221.67)\" d=\"M3,0A3,3 0 1,1 0,-3A3,3 0 0,1 3,0Z\" style=\"opacity: 1; stroke-width: 0px; fill: rgb(68, 3, 85); fill-opacity: 1;\"/><path class=\"point plotly-customdata\" transform=\"translate(268.52,211.44)\" d=\"M3,0A3,3 0 1,1 0,-3A3,3 0 0,1 3,0Z\" style=\"opacity: 1; stroke-width: 0px; fill: rgb(68, 4, 87); fill-opacity: 1;\"/><path class=\"point plotly-customdata\" transform=\"translate(283.31,221.82)\" d=\"M3,0A3,3 0 1,1 0,-3A3,3 0 0,1 3,0Z\" style=\"opacity: 1; stroke-width: 0px; fill: rgb(68, 6, 88); fill-opacity: 1;\"/><path class=\"point plotly-customdata\" transform=\"translate(279.61,201.94)\" d=\"M3,0A3,3 0 1,1 0,-3A3,3 0 0,1 3,0Z\" style=\"opacity: 1; stroke-width: 0px; fill: rgb(69, 7, 90); fill-opacity: 1;\"/><path class=\"point plotly-customdata\" transform=\"translate(294.51,206.3)\" d=\"M3,0A3,3 0 1,1 0,-3A3,3 0 0,1 3,0Z\" style=\"opacity: 1; stroke-width: 0px; fill: rgb(69, 9, 91); fill-opacity: 1;\"/><path class=\"point plotly-customdata\" transform=\"translate(284.39,221.26)\" d=\"M3,0A3,3 0 1,1 0,-3A3,3 0 0,1 3,0Z\" style=\"opacity: 1; stroke-width: 0px; fill: rgb(69, 10, 92); fill-opacity: 1;\"/><path class=\"point plotly-customdata\" transform=\"translate(312.71,219.99)\" d=\"M3,0A3,3 0 1,1 0,-3A3,3 0 0,1 3,0Z\" style=\"opacity: 1; stroke-width: 0px; fill: rgb(69, 12, 94); fill-opacity: 1;\"/><path class=\"point plotly-customdata\" transform=\"translate(309.26,211.07)\" d=\"M3,0A3,3 0 1,1 0,-3A3,3 0 0,1 3,0Z\" style=\"opacity: 1; stroke-width: 0px; fill: rgb(69, 13, 95); fill-opacity: 1;\"/><path class=\"point plotly-customdata\" transform=\"translate(293.2,206.91)\" d=\"M3,0A3,3 0 1,1 0,-3A3,3 0 0,1 3,0Z\" style=\"opacity: 1; stroke-width: 0px; fill: rgb(69, 15, 97); fill-opacity: 1;\"/><path class=\"point plotly-customdata\" transform=\"translate(281.19,203.63)\" d=\"M3,0A3,3 0 1,1 0,-3A3,3 0 0,1 3,0Z\" style=\"opacity: 1; stroke-width: 0px; fill: rgb(70, 16, 98); fill-opacity: 1;\"/><path class=\"point plotly-customdata\" transform=\"translate(266.65,204.55)\" d=\"M3,0A3,3 0 1,1 0,-3A3,3 0 0,1 3,0Z\" style=\"opacity: 1; stroke-width: 0px; fill: rgb(70, 18, 99); fill-opacity: 1;\"/><path class=\"point plotly-customdata\" transform=\"translate(279.23,193.73)\" d=\"M3,0A3,3 0 1,1 0,-3A3,3 0 0,1 3,0Z\" style=\"opacity: 1; stroke-width: 0px; fill: rgb(70, 19, 101); fill-opacity: 1;\"/><path class=\"point plotly-customdata\" transform=\"translate(284.22,201.75)\" d=\"M3,0A3,3 0 1,1 0,-3A3,3 0 0,1 3,0Z\" style=\"opacity: 1; stroke-width: 0px; fill: rgb(70, 21, 102); fill-opacity: 1;\"/><path class=\"point plotly-customdata\" transform=\"translate(286.47,206.1)\" d=\"M3,0A3,3 0 1,1 0,-3A3,3 0 0,1 3,0Z\" style=\"opacity: 1; stroke-width: 0px; fill: rgb(70, 22, 104); fill-opacity: 1;\"/><path class=\"point plotly-customdata\" transform=\"translate(283.31,197.42)\" d=\"M3,0A3,3 0 1,1 0,-3A3,3 0 0,1 3,0Z\" style=\"opacity: 1; stroke-width: 0px; fill: rgb(70, 24, 105); fill-opacity: 1;\"/><path class=\"point plotly-customdata\" transform=\"translate(277.85,203.79)\" d=\"M3,0A3,3 0 1,1 0,-3A3,3 0 0,1 3,0Z\" style=\"opacity: 1; stroke-width: 0px; fill: rgb(70, 25, 106); fill-opacity: 1;\"/><path class=\"point plotly-customdata\" transform=\"translate(299.17,195.95)\" d=\"M3,0A3,3 0 1,1 0,-3A3,3 0 0,1 3,0Z\" style=\"opacity: 1; stroke-width: 0px; fill: rgb(71, 27, 108); fill-opacity: 1;\"/><path class=\"point plotly-customdata\" transform=\"translate(295.75,210.21)\" d=\"M3,0A3,3 0 1,1 0,-3A3,3 0 0,1 3,0Z\" style=\"opacity: 1; stroke-width: 0px; fill: rgb(71, 28, 109); fill-opacity: 1;\"/><path class=\"point plotly-customdata\" transform=\"translate(311.06,209.6)\" d=\"M3,0A3,3 0 1,1 0,-3A3,3 0 0,1 3,0Z\" style=\"opacity: 1; stroke-width: 0px; fill: rgb(71, 30, 111); fill-opacity: 1;\"/><path class=\"point plotly-customdata\" transform=\"translate(273.47,217.96)\" d=\"M3,0A3,3 0 1,1 0,-3A3,3 0 0,1 3,0Z\" style=\"opacity: 1; stroke-width: 0px; fill: rgb(71, 31, 112); fill-opacity: 1;\"/><path class=\"point plotly-customdata\" transform=\"translate(303.28,214.72)\" d=\"M3,0A3,3 0 1,1 0,-3A3,3 0 0,1 3,0Z\" style=\"opacity: 1; stroke-width: 0px; fill: rgb(71, 33, 113); fill-opacity: 1;\"/><path class=\"point plotly-customdata\" transform=\"translate(304.8,198.62)\" d=\"M3,0A3,3 0 1,1 0,-3A3,3 0 0,1 3,0Z\" style=\"opacity: 1; stroke-width: 0px; fill: rgb(71, 34, 115); fill-opacity: 1;\"/><path class=\"point plotly-customdata\" transform=\"translate(307.28,190.93)\" d=\"M3,0A3,3 0 1,1 0,-3A3,3 0 0,1 3,0Z\" style=\"opacity: 1; stroke-width: 0px; fill: rgb(72, 36, 116); fill-opacity: 1;\"/><path class=\"point plotly-customdata\" transform=\"translate(301.26,166.1)\" d=\"M3,0A3,3 0 1,1 0,-3A3,3 0 0,1 3,0Z\" style=\"opacity: 1; stroke-width: 0px; fill: rgb(72, 37, 118); fill-opacity: 1;\"/><path class=\"point plotly-customdata\" transform=\"translate(250.54,215.17)\" d=\"M3,0A3,3 0 1,1 0,-3A3,3 0 0,1 3,0Z\" style=\"opacity: 1; stroke-width: 0px; fill: rgb(72, 39, 119); fill-opacity: 1;\"/><path class=\"point plotly-customdata\" transform=\"translate(263.53,224.55)\" d=\"M3,0A3,3 0 1,1 0,-3A3,3 0 0,1 3,0Z\" style=\"opacity: 1; stroke-width: 0px; fill: rgb(72, 40, 120); fill-opacity: 1;\"/><path class=\"point plotly-customdata\" transform=\"translate(280.13,240.05)\" d=\"M3,0A3,3 0 1,1 0,-3A3,3 0 0,1 3,0Z\" style=\"opacity: 1; stroke-width: 0px; fill: rgb(72, 42, 121); fill-opacity: 1;\"/><path class=\"point plotly-customdata\" transform=\"translate(302,227.56)\" d=\"M3,0A3,3 0 1,1 0,-3A3,3 0 0,1 3,0Z\" style=\"opacity: 1; stroke-width: 0px; fill: rgb(71, 43, 121); fill-opacity: 1;\"/><path class=\"point plotly-customdata\" transform=\"translate(307.04,235.37)\" d=\"M3,0A3,3 0 1,1 0,-3A3,3 0 0,1 3,0Z\" style=\"opacity: 1; stroke-width: 0px; fill: rgb(71, 44, 122); fill-opacity: 1;\"/><path class=\"point plotly-customdata\" transform=\"translate(286.41,225.3)\" d=\"M3,0A3,3 0 1,1 0,-3A3,3 0 0,1 3,0Z\" style=\"opacity: 1; stroke-width: 0px; fill: rgb(70, 45, 123); fill-opacity: 1;\"/><path class=\"point plotly-customdata\" transform=\"translate(283.41,239.6)\" d=\"M3,0A3,3 0 1,1 0,-3A3,3 0 0,1 3,0Z\" style=\"opacity: 1; stroke-width: 0px; fill: rgb(70, 47, 123); fill-opacity: 1;\"/><path class=\"point plotly-customdata\" transform=\"translate(284.14,234.55)\" d=\"M3,0A3,3 0 1,1 0,-3A3,3 0 0,1 3,0Z\" style=\"opacity: 1; stroke-width: 0px; fill: rgb(70, 48, 124); fill-opacity: 1;\"/><path class=\"point plotly-customdata\" transform=\"translate(261.72,238.97)\" d=\"M3,0A3,3 0 1,1 0,-3A3,3 0 0,1 3,0Z\" style=\"opacity: 1; stroke-width: 0px; fill: rgb(69, 49, 125); fill-opacity: 1;\"/><path class=\"point plotly-customdata\" transform=\"translate(279.04,242.41)\" d=\"M3,0A3,3 0 1,1 0,-3A3,3 0 0,1 3,0Z\" style=\"opacity: 1; stroke-width: 0px; fill: rgb(69, 51, 125); fill-opacity: 1;\"/><path class=\"point plotly-customdata\" transform=\"translate(228.91,228.49)\" d=\"M3,0A3,3 0 1,1 0,-3A3,3 0 0,1 3,0Z\" style=\"opacity: 1; stroke-width: 0px; fill: rgb(68, 52, 126); fill-opacity: 1;\"/><path class=\"point plotly-customdata\" transform=\"translate(255.4,236.42)\" d=\"M3,0A3,3 0 1,1 0,-3A3,3 0 0,1 3,0Z\" style=\"opacity: 1; stroke-width: 0px; fill: rgb(68, 53, 127); fill-opacity: 1;\"/><path class=\"point plotly-customdata\" transform=\"translate(248.46,243.26)\" d=\"M3,0A3,3 0 1,1 0,-3A3,3 0 0,1 3,0Z\" style=\"opacity: 1; stroke-width: 0px; fill: rgb(68, 54, 127); fill-opacity: 1;\"/><path class=\"point plotly-customdata\" transform=\"translate(234.23,232.41)\" d=\"M3,0A3,3 0 1,1 0,-3A3,3 0 0,1 3,0Z\" style=\"opacity: 1; stroke-width: 0px; fill: rgb(67, 56, 128); fill-opacity: 1;\"/><path class=\"point plotly-customdata\" transform=\"translate(221.22,250.39)\" d=\"M3,0A3,3 0 1,1 0,-3A3,3 0 0,1 3,0Z\" style=\"opacity: 1; stroke-width: 0px; fill: rgb(67, 57, 129); fill-opacity: 1;\"/><path class=\"point plotly-customdata\" transform=\"translate(225.62,251.43)\" d=\"M3,0A3,3 0 1,1 0,-3A3,3 0 0,1 3,0Z\" style=\"opacity: 1; stroke-width: 0px; fill: rgb(66, 58, 129); fill-opacity: 1;\"/><path class=\"point plotly-customdata\" transform=\"translate(259.3,244.54)\" d=\"M3,0A3,3 0 1,1 0,-3A3,3 0 0,1 3,0Z\" style=\"opacity: 1; stroke-width: 0px; fill: rgb(66, 59, 130); fill-opacity: 1;\"/><path class=\"point plotly-customdata\" transform=\"translate(222.53,245.41)\" d=\"M3,0A3,3 0 1,1 0,-3A3,3 0 0,1 3,0Z\" style=\"opacity: 1; stroke-width: 0px; fill: rgb(66, 61, 131); fill-opacity: 1;\"/><path class=\"point plotly-customdata\" transform=\"translate(253.93,256.55)\" d=\"M3,0A3,3 0 1,1 0,-3A3,3 0 0,1 3,0Z\" style=\"opacity: 1; stroke-width: 0px; fill: rgb(65, 62, 131); fill-opacity: 1;\"/><path class=\"point plotly-customdata\" transform=\"translate(227.36,251.07)\" d=\"M3,0A3,3 0 1,1 0,-3A3,3 0 0,1 3,0Z\" style=\"opacity: 1; stroke-width: 0px; fill: rgb(65, 63, 132); fill-opacity: 1;\"/><path class=\"point plotly-customdata\" transform=\"translate(242.79,239.84)\" d=\"M3,0A3,3 0 1,1 0,-3A3,3 0 0,1 3,0Z\" style=\"opacity: 1; stroke-width: 0px; fill: rgb(65, 65, 133); fill-opacity: 1;\"/><path class=\"point plotly-customdata\" transform=\"translate(211.36,239.08)\" d=\"M3,0A3,3 0 1,1 0,-3A3,3 0 0,1 3,0Z\" style=\"opacity: 1; stroke-width: 0px; fill: rgb(64, 66, 133); fill-opacity: 1;\"/><path class=\"point plotly-customdata\" transform=\"translate(200.49,252.16)\" d=\"M3,0A3,3 0 1,1 0,-3A3,3 0 0,1 3,0Z\" style=\"opacity: 1; stroke-width: 0px; fill: rgb(64, 67, 134); fill-opacity: 1;\"/><path class=\"point plotly-customdata\" transform=\"translate(224.35,254.63)\" d=\"M3,0A3,3 0 1,1 0,-3A3,3 0 0,1 3,0Z\" style=\"opacity: 1; stroke-width: 0px; fill: rgb(63, 68, 135); fill-opacity: 1;\"/><path class=\"point plotly-customdata\" transform=\"translate(212.89,234.12)\" d=\"M3,0A3,3 0 1,1 0,-3A3,3 0 0,1 3,0Z\" style=\"opacity: 1; stroke-width: 0px; fill: rgb(63, 70, 135); fill-opacity: 1;\"/><path class=\"point plotly-customdata\" transform=\"translate(200.31,234.29)\" d=\"M3,0A3,3 0 1,1 0,-3A3,3 0 0,1 3,0Z\" style=\"opacity: 1; stroke-width: 0px; fill: rgb(63, 71, 136); fill-opacity: 1;\"/><path class=\"point plotly-customdata\" transform=\"translate(230.44,246.35)\" d=\"M3,0A3,3 0 1,1 0,-3A3,3 0 0,1 3,0Z\" style=\"opacity: 1; stroke-width: 0px; fill: rgb(62, 72, 137); fill-opacity: 1;\"/><path class=\"point plotly-customdata\" transform=\"translate(232.49,237.28)\" d=\"M3,0A3,3 0 1,1 0,-3A3,3 0 0,1 3,0Z\" style=\"opacity: 1; stroke-width: 0px; fill: rgb(62, 74, 137); fill-opacity: 1;\"/><path class=\"point plotly-customdata\" transform=\"translate(229.29,243.51)\" d=\"M3,0A3,3 0 1,1 0,-3A3,3 0 0,1 3,0Z\" style=\"opacity: 1; stroke-width: 0px; fill: rgb(61, 75, 137); fill-opacity: 1;\"/><path class=\"point plotly-customdata\" transform=\"translate(229.03,241.5)\" d=\"M3,0A3,3 0 1,1 0,-3A3,3 0 0,1 3,0Z\" style=\"opacity: 1; stroke-width: 0px; fill: rgb(61, 76, 137); fill-opacity: 1;\"/><path class=\"point plotly-customdata\" transform=\"translate(230.64,247.08)\" d=\"M3,0A3,3 0 1,1 0,-3A3,3 0 0,1 3,0Z\" style=\"opacity: 1; stroke-width: 0px; fill: rgb(60, 77, 138); fill-opacity: 1;\"/><path class=\"point plotly-customdata\" transform=\"translate(259.5,228.77)\" d=\"M3,0A3,3 0 1,1 0,-3A3,3 0 0,1 3,0Z\" style=\"opacity: 1; stroke-width: 0px; fill: rgb(60, 78, 138); fill-opacity: 1;\"/><path class=\"point plotly-customdata\" transform=\"translate(242.14,238.62)\" d=\"M3,0A3,3 0 1,1 0,-3A3,3 0 0,1 3,0Z\" style=\"opacity: 1; stroke-width: 0px; fill: rgb(59, 80, 138); fill-opacity: 1;\"/><path class=\"point plotly-customdata\" transform=\"translate(197.24,236.09)\" d=\"M3,0A3,3 0 1,1 0,-3A3,3 0 0,1 3,0Z\" style=\"opacity: 1; stroke-width: 0px; fill: rgb(59, 81, 138); fill-opacity: 1;\"/><path class=\"point plotly-customdata\" transform=\"translate(228.12,241.88)\" d=\"M3,0A3,3 0 1,1 0,-3A3,3 0 0,1 3,0Z\" style=\"opacity: 1; stroke-width: 0px; fill: rgb(58, 82, 138); fill-opacity: 1;\"/><path class=\"point plotly-customdata\" transform=\"translate(216.51,251.86)\" d=\"M3,0A3,3 0 1,1 0,-3A3,3 0 0,1 3,0Z\" style=\"opacity: 1; stroke-width: 0px; fill: rgb(58, 83, 139); fill-opacity: 1;\"/><path class=\"point plotly-customdata\" transform=\"translate(224.29,249.77)\" d=\"M3,0A3,3 0 1,1 0,-3A3,3 0 0,1 3,0Z\" style=\"opacity: 1; stroke-width: 0px; fill: rgb(57, 84, 139); fill-opacity: 1;\"/><path class=\"point plotly-customdata\" transform=\"translate(226.53,241.73)\" d=\"M3,0A3,3 0 1,1 0,-3A3,3 0 0,1 3,0Z\" style=\"opacity: 1; stroke-width: 0px; fill: rgb(57, 86, 139); fill-opacity: 1;\"/><path class=\"point plotly-customdata\" transform=\"translate(209.27,244.53)\" d=\"M3,0A3,3 0 1,1 0,-3A3,3 0 0,1 3,0Z\" style=\"opacity: 1; stroke-width: 0px; fill: rgb(56, 87, 139); fill-opacity: 1;\"/><path class=\"point plotly-customdata\" transform=\"translate(229.29,240)\" d=\"M3,0A3,3 0 1,1 0,-3A3,3 0 0,1 3,0Z\" style=\"opacity: 1; stroke-width: 0px; fill: rgb(56, 88, 139); fill-opacity: 1;\"/><path class=\"point plotly-customdata\" transform=\"translate(255.25,245.21)\" d=\"M3,0A3,3 0 1,1 0,-3A3,3 0 0,1 3,0Z\" style=\"opacity: 1; stroke-width: 0px; fill: rgb(55, 89, 140); fill-opacity: 1;\"/><path class=\"point plotly-customdata\" transform=\"translate(240.07,242.37)\" d=\"M3,0A3,3 0 1,1 0,-3A3,3 0 0,1 3,0Z\" style=\"opacity: 1; stroke-width: 0px; fill: rgb(55, 90, 140); fill-opacity: 1;\"/><path class=\"point plotly-customdata\" transform=\"translate(235.93,235.92)\" d=\"M3,0A3,3 0 1,1 0,-3A3,3 0 0,1 3,0Z\" style=\"opacity: 1; stroke-width: 0px; fill: rgb(54, 92, 140); fill-opacity: 1;\"/><path class=\"point plotly-customdata\" transform=\"translate(233.2,247.56)\" d=\"M3,0A3,3 0 1,1 0,-3A3,3 0 0,1 3,0Z\" style=\"opacity: 1; stroke-width: 0px; fill: rgb(54, 93, 140); fill-opacity: 1;\"/><path class=\"point plotly-customdata\" transform=\"translate(238.09,233.8)\" d=\"M3,0A3,3 0 1,1 0,-3A3,3 0 0,1 3,0Z\" style=\"opacity: 1; stroke-width: 0px; fill: rgb(53, 94, 140); fill-opacity: 1;\"/><path class=\"point plotly-customdata\" transform=\"translate(245.98,240.81)\" d=\"M3,0A3,3 0 1,1 0,-3A3,3 0 0,1 3,0Z\" style=\"opacity: 1; stroke-width: 0px; fill: rgb(53, 95, 141); fill-opacity: 1;\"/><path class=\"point plotly-customdata\" transform=\"translate(201.78,214.07)\" d=\"M3,0A3,3 0 1,1 0,-3A3,3 0 0,1 3,0Z\" style=\"opacity: 1; stroke-width: 0px; fill: rgb(52, 96, 141); fill-opacity: 1;\"/><path class=\"point plotly-customdata\" transform=\"translate(218.29,208.97)\" d=\"M3,0A3,3 0 1,1 0,-3A3,3 0 0,1 3,0Z\" style=\"opacity: 1; stroke-width: 0px; fill: rgb(52, 98, 141); fill-opacity: 1;\"/><path class=\"point plotly-customdata\" transform=\"translate(220.17,236.31)\" d=\"M3,0A3,3 0 1,1 0,-3A3,3 0 0,1 3,0Z\" style=\"opacity: 1; stroke-width: 0px; fill: rgb(51, 99, 141); fill-opacity: 1;\"/><path class=\"point plotly-customdata\" transform=\"translate(208.47,215.24)\" d=\"M3,0A3,3 0 1,1 0,-3A3,3 0 0,1 3,0Z\" style=\"opacity: 1; stroke-width: 0px; fill: rgb(51, 100, 141); fill-opacity: 1;\"/><path class=\"point plotly-customdata\" transform=\"translate(217.3,218.01)\" d=\"M3,0A3,3 0 1,1 0,-3A3,3 0 0,1 3,0Z\" style=\"opacity: 1; stroke-width: 0px; fill: rgb(50, 101, 142); fill-opacity: 1;\"/><path class=\"point plotly-customdata\" transform=\"translate(214.9,241.75)\" d=\"M3,0A3,3 0 1,1 0,-3A3,3 0 0,1 3,0Z\" style=\"opacity: 1; stroke-width: 0px; fill: rgb(50, 102, 142); fill-opacity: 1;\"/><path class=\"point plotly-customdata\" transform=\"translate(194.39,222.89)\" d=\"M3,0A3,3 0 1,1 0,-3A3,3 0 0,1 3,0Z\" style=\"opacity: 1; stroke-width: 0px; fill: rgb(49, 104, 142); fill-opacity: 1;\"/><path class=\"point plotly-customdata\" transform=\"translate(184.24,222.79)\" d=\"M3,0A3,3 0 1,1 0,-3A3,3 0 0,1 3,0Z\" style=\"opacity: 1; stroke-width: 0px; fill: rgb(49, 105, 142); fill-opacity: 1;\"/><path class=\"point plotly-customdata\" transform=\"translate(192.03,237.74)\" d=\"M3,0A3,3 0 1,1 0,-3A3,3 0 0,1 3,0Z\" style=\"opacity: 1; stroke-width: 0px; fill: rgb(48, 106, 142); fill-opacity: 1;\"/><path class=\"point plotly-customdata\" transform=\"translate(225.07,234.02)\" d=\"M3,0A3,3 0 1,1 0,-3A3,3 0 0,1 3,0Z\" style=\"opacity: 1; stroke-width: 0px; fill: rgb(48, 107, 142); fill-opacity: 1;\"/><path class=\"point plotly-customdata\" transform=\"translate(199.31,231.74)\" d=\"M3,0A3,3 0 1,1 0,-3A3,3 0 0,1 3,0Z\" style=\"opacity: 1; stroke-width: 0px; fill: rgb(47, 108, 142); fill-opacity: 1;\"/><path class=\"point plotly-customdata\" transform=\"translate(250.35,226.2)\" d=\"M3,0A3,3 0 1,1 0,-3A3,3 0 0,1 3,0Z\" style=\"opacity: 1; stroke-width: 0px; fill: rgb(47, 109, 142); fill-opacity: 1;\"/><path class=\"point plotly-customdata\" transform=\"translate(188.64,234.07)\" d=\"M3,0A3,3 0 1,1 0,-3A3,3 0 0,1 3,0Z\" style=\"opacity: 1; stroke-width: 0px; fill: rgb(47, 110, 142); fill-opacity: 1;\"/><path class=\"point plotly-customdata\" transform=\"translate(192.74,233.62)\" d=\"M3,0A3,3 0 1,1 0,-3A3,3 0 0,1 3,0Z\" style=\"opacity: 1; stroke-width: 0px; fill: rgb(46, 111, 142); fill-opacity: 1;\"/><path class=\"point plotly-customdata\" transform=\"translate(186.91,231.69)\" d=\"M3,0A3,3 0 1,1 0,-3A3,3 0 0,1 3,0Z\" style=\"opacity: 1; stroke-width: 0px; fill: rgb(46, 112, 142); fill-opacity: 1;\"/><path class=\"point plotly-customdata\" transform=\"translate(205.42,238.86)\" d=\"M3,0A3,3 0 1,1 0,-3A3,3 0 0,1 3,0Z\" style=\"opacity: 1; stroke-width: 0px; fill: rgb(45, 113, 142); fill-opacity: 1;\"/><path class=\"point plotly-customdata\" transform=\"translate(183.65,228.58)\" d=\"M3,0A3,3 0 1,1 0,-3A3,3 0 0,1 3,0Z\" style=\"opacity: 1; stroke-width: 0px; fill: rgb(45, 114, 142); fill-opacity: 1;\"/><path class=\"point plotly-customdata\" transform=\"translate(178.52,228.49)\" d=\"M3,0A3,3 0 1,1 0,-3A3,3 0 0,1 3,0Z\" style=\"opacity: 1; stroke-width: 0px; fill: rgb(44, 115, 142); fill-opacity: 1;\"/><path class=\"point plotly-customdata\" transform=\"translate(165.37,241.96)\" d=\"M3,0A3,3 0 1,1 0,-3A3,3 0 0,1 3,0Z\" style=\"opacity: 1; stroke-width: 0px; fill: rgb(44, 116, 142); fill-opacity: 1;\"/><path class=\"point plotly-customdata\" transform=\"translate(199.01,233.5)\" d=\"M3,0A3,3 0 1,1 0,-3A3,3 0 0,1 3,0Z\" style=\"opacity: 1; stroke-width: 0px; fill: rgb(44, 117, 142); fill-opacity: 1;\"/><path class=\"point plotly-customdata\" transform=\"translate(238.1,217.17)\" d=\"M3,0A3,3 0 1,1 0,-3A3,3 0 0,1 3,0Z\" style=\"opacity: 1; stroke-width: 0px; fill: rgb(43, 118, 142); fill-opacity: 1;\"/><path class=\"point plotly-customdata\" transform=\"translate(241.21,222.35)\" d=\"M3,0A3,3 0 1,1 0,-3A3,3 0 0,1 3,0Z\" style=\"opacity: 1; stroke-width: 0px; fill: rgb(43, 119, 142); fill-opacity: 1;\"/><path class=\"point plotly-customdata\" transform=\"translate(230.65,216.66)\" d=\"M3,0A3,3 0 1,1 0,-3A3,3 0 0,1 3,0Z\" style=\"opacity: 1; stroke-width: 0px; fill: rgb(42, 120, 142); fill-opacity: 1;\"/><path class=\"point plotly-customdata\" transform=\"translate(179.69,233.87)\" d=\"M3,0A3,3 0 1,1 0,-3A3,3 0 0,1 3,0Z\" style=\"opacity: 1; stroke-width: 0px; fill: rgb(42, 121, 142); fill-opacity: 1;\"/><path class=\"point plotly-customdata\" transform=\"translate(162.36,239.98)\" d=\"M3,0A3,3 0 1,1 0,-3A3,3 0 0,1 3,0Z\" style=\"opacity: 1; stroke-width: 0px; fill: rgb(41, 122, 142); fill-opacity: 1;\"/><path class=\"point plotly-customdata\" transform=\"translate(152.61,231.12)\" d=\"M3,0A3,3 0 1,1 0,-3A3,3 0 0,1 3,0Z\" style=\"opacity: 1; stroke-width: 0px; fill: rgb(41, 123, 142); fill-opacity: 1;\"/><path class=\"point plotly-customdata\" transform=\"translate(163.48,184.84)\" d=\"M3,0A3,3 0 1,1 0,-3A3,3 0 0,1 3,0Z\" style=\"opacity: 1; stroke-width: 0px; fill: rgb(41, 124, 142); fill-opacity: 1;\"/><path class=\"point plotly-customdata\" transform=\"translate(176.17,216.03)\" d=\"M3,0A3,3 0 1,1 0,-3A3,3 0 0,1 3,0Z\" style=\"opacity: 1; stroke-width: 0px; fill: rgb(40, 125, 142); fill-opacity: 1;\"/><path class=\"point plotly-customdata\" transform=\"translate(155.6,228.91)\" d=\"M3,0A3,3 0 1,1 0,-3A3,3 0 0,1 3,0Z\" style=\"opacity: 1; stroke-width: 0px; fill: rgb(40, 126, 142); fill-opacity: 1;\"/><path class=\"point plotly-customdata\" transform=\"translate(153.46,219.66)\" d=\"M3,0A3,3 0 1,1 0,-3A3,3 0 0,1 3,0Z\" style=\"opacity: 1; stroke-width: 0px; fill: rgb(39, 127, 142); fill-opacity: 1;\"/><path class=\"point plotly-customdata\" transform=\"translate(157.43,224.37)\" d=\"M3,0A3,3 0 1,1 0,-3A3,3 0 0,1 3,0Z\" style=\"opacity: 1; stroke-width: 0px; fill: rgb(39, 128, 142); fill-opacity: 1;\"/><path class=\"point plotly-customdata\" transform=\"translate(152.92,204.95)\" d=\"M3,0A3,3 0 1,1 0,-3A3,3 0 0,1 3,0Z\" style=\"opacity: 1; stroke-width: 0px; fill: rgb(38, 129, 142); fill-opacity: 1;\"/><path class=\"point plotly-customdata\" transform=\"translate(176.02,222.55)\" d=\"M3,0A3,3 0 1,1 0,-3A3,3 0 0,1 3,0Z\" style=\"opacity: 1; stroke-width: 0px; fill: rgb(37, 134, 141); fill-opacity: 1;\"/><path class=\"point plotly-customdata\" transform=\"translate(200.77,229.61)\" d=\"M3,0A3,3 0 1,1 0,-3A3,3 0 0,1 3,0Z\" style=\"opacity: 1; stroke-width: 0px; fill: rgb(37, 135, 141); fill-opacity: 1;\"/><path class=\"point plotly-customdata\" transform=\"translate(177.46,230.94)\" d=\"M3,0A3,3 0 1,1 0,-3A3,3 0 0,1 3,0Z\" style=\"opacity: 1; stroke-width: 0px; fill: rgb(36, 136, 141); fill-opacity: 1;\"/><path class=\"point plotly-customdata\" transform=\"translate(154.67,218.16)\" d=\"M3,0A3,3 0 1,1 0,-3A3,3 0 0,1 3,0Z\" style=\"opacity: 1; stroke-width: 0px; fill: rgb(36, 137, 141); fill-opacity: 1;\"/><path class=\"point plotly-customdata\" transform=\"translate(113.15,166.42)\" d=\"M3,0A3,3 0 1,1 0,-3A3,3 0 0,1 3,0Z\" style=\"opacity: 1; stroke-width: 0px; fill: rgb(36, 139, 140); fill-opacity: 1;\"/><path class=\"point plotly-customdata\" transform=\"translate(113.91,173.21)\" d=\"M3,0A3,3 0 1,1 0,-3A3,3 0 0,1 3,0Z\" style=\"opacity: 1; stroke-width: 0px; fill: rgb(36, 140, 140); fill-opacity: 1;\"/><path class=\"point plotly-customdata\" transform=\"translate(168.31,206.68)\" d=\"M3,0A3,3 0 1,1 0,-3A3,3 0 0,1 3,0Z\" style=\"opacity: 1; stroke-width: 0px; fill: rgb(35, 141, 140); fill-opacity: 1;\"/><path class=\"point plotly-customdata\" transform=\"translate(108.41,180.76)\" d=\"M3,0A3,3 0 1,1 0,-3A3,3 0 0,1 3,0Z\" style=\"opacity: 1; stroke-width: 0px; fill: rgb(35, 142, 140); fill-opacity: 1;\"/><path class=\"point plotly-customdata\" transform=\"translate(104.87,184.49)\" d=\"M3,0A3,3 0 1,1 0,-3A3,3 0 0,1 3,0Z\" style=\"opacity: 1; stroke-width: 0px; fill: rgb(35, 143, 140); fill-opacity: 1;\"/><path class=\"point plotly-customdata\" transform=\"translate(128.98,173.02)\" d=\"M3,0A3,3 0 1,1 0,-3A3,3 0 0,1 3,0Z\" style=\"opacity: 1; stroke-width: 0px; fill: rgb(35, 144, 140); fill-opacity: 1;\"/><path class=\"point plotly-customdata\" transform=\"translate(87.28,185.26)\" d=\"M3,0A3,3 0 1,1 0,-3A3,3 0 0,1 3,0Z\" style=\"opacity: 1; stroke-width: 0px; fill: rgb(34, 145, 139); fill-opacity: 1;\"/><path class=\"point plotly-customdata\" transform=\"translate(111.72,170.5)\" d=\"M3,0A3,3 0 1,1 0,-3A3,3 0 0,1 3,0Z\" style=\"opacity: 1; stroke-width: 0px; fill: rgb(34, 146, 139); fill-opacity: 1;\"/><path class=\"point plotly-customdata\" transform=\"translate(140.1,220.17)\" d=\"M3,0A3,3 0 1,1 0,-3A3,3 0 0,1 3,0Z\" style=\"opacity: 1; stroke-width: 0px; fill: rgb(34, 147, 139); fill-opacity: 1;\"/><path class=\"point plotly-customdata\" transform=\"translate(179.8,209.98)\" d=\"M3,0A3,3 0 1,1 0,-3A3,3 0 0,1 3,0Z\" style=\"opacity: 1; stroke-width: 0px; fill: rgb(33, 148, 139); fill-opacity: 1;\"/><path class=\"point plotly-customdata\" transform=\"translate(136.7,205.87)\" d=\"M3,0A3,3 0 1,1 0,-3A3,3 0 0,1 3,0Z\" style=\"opacity: 1; stroke-width: 0px; fill: rgb(33, 149, 139); fill-opacity: 1;\"/><path class=\"point plotly-customdata\" transform=\"translate(111.37,210.51)\" d=\"M3,0A3,3 0 1,1 0,-3A3,3 0 0,1 3,0Z\" style=\"opacity: 1; stroke-width: 0px; fill: rgb(33, 151, 138); fill-opacity: 1;\"/><path class=\"point plotly-customdata\" transform=\"translate(151.05,164.67)\" d=\"M3,0A3,3 0 1,1 0,-3A3,3 0 0,1 3,0Z\" style=\"opacity: 1; stroke-width: 0px; fill: rgb(33, 152, 138); fill-opacity: 1;\"/><path class=\"point plotly-customdata\" transform=\"translate(176.3,145.25)\" d=\"M3,0A3,3 0 1,1 0,-3A3,3 0 0,1 3,0Z\" style=\"opacity: 1; stroke-width: 0px; fill: rgb(32, 153, 138); fill-opacity: 1;\"/><path class=\"point plotly-customdata\" transform=\"translate(154.5,149.89)\" d=\"M3,0A3,3 0 1,1 0,-3A3,3 0 0,1 3,0Z\" style=\"opacity: 1; stroke-width: 0px; fill: rgb(32, 154, 138); fill-opacity: 1;\"/><path class=\"point plotly-customdata\" transform=\"translate(150.22,182.83)\" d=\"M3,0A3,3 0 1,1 0,-3A3,3 0 0,1 3,0Z\" style=\"opacity: 1; stroke-width: 0px; fill: rgb(32, 155, 138); fill-opacity: 1;\"/><path class=\"point plotly-customdata\" transform=\"translate(183.72,129.35)\" d=\"M3,0A3,3 0 1,1 0,-3A3,3 0 0,1 3,0Z\" style=\"opacity: 1; stroke-width: 0px; fill: rgb(32, 156, 137); fill-opacity: 1;\"/><path class=\"point plotly-customdata\" transform=\"translate(146.78,150.57)\" d=\"M3,0A3,3 0 1,1 0,-3A3,3 0 0,1 3,0Z\" style=\"opacity: 1; stroke-width: 0px; fill: rgb(31, 157, 137); fill-opacity: 1;\"/><path class=\"point plotly-customdata\" transform=\"translate(107.92,144.26)\" d=\"M3,0A3,3 0 1,1 0,-3A3,3 0 0,1 3,0Z\" style=\"opacity: 1; stroke-width: 0px; fill: rgb(31, 158, 137); fill-opacity: 1;\"/><path class=\"point plotly-customdata\" transform=\"translate(148.56,165.15)\" d=\"M3,0A3,3 0 1,1 0,-3A3,3 0 0,1 3,0Z\" style=\"opacity: 1; stroke-width: 0px; fill: rgb(32, 159, 136); fill-opacity: 1;\"/><path class=\"point plotly-customdata\" transform=\"translate(100.29,152.9)\" d=\"M3,0A3,3 0 1,1 0,-3A3,3 0 0,1 3,0Z\" style=\"opacity: 1; stroke-width: 0px; fill: rgb(33, 160, 136); fill-opacity: 1;\"/><path class=\"point plotly-customdata\" transform=\"translate(101.33,142.21)\" d=\"M3,0A3,3 0 1,1 0,-3A3,3 0 0,1 3,0Z\" style=\"opacity: 1; stroke-width: 0px; fill: rgb(34, 161, 135); fill-opacity: 1;\"/><path class=\"point plotly-customdata\" transform=\"translate(62.11,165)\" d=\"M3,0A3,3 0 1,1 0,-3A3,3 0 0,1 3,0Z\" style=\"opacity: 1; stroke-width: 0px; fill: rgb(35, 162, 134); fill-opacity: 1;\"/><path class=\"point plotly-customdata\" transform=\"translate(63.51,164.51)\" d=\"M3,0A3,3 0 1,1 0,-3A3,3 0 0,1 3,0Z\" style=\"opacity: 1; stroke-width: 0px; fill: rgb(35, 163, 134); fill-opacity: 1;\"/><path class=\"point plotly-customdata\" transform=\"translate(68.62,182.28)\" d=\"M3,0A3,3 0 1,1 0,-3A3,3 0 0,1 3,0Z\" style=\"opacity: 1; stroke-width: 0px; fill: rgb(36, 164, 133); fill-opacity: 1;\"/><path class=\"point plotly-customdata\" transform=\"translate(48.68,174.42)\" d=\"M3,0A3,3 0 1,1 0,-3A3,3 0 0,1 3,0Z\" style=\"opacity: 1; stroke-width: 0px; fill: rgb(37, 165, 133); fill-opacity: 1;\"/><path class=\"point plotly-customdata\" transform=\"translate(65.28,176.63)\" d=\"M3,0A3,3 0 1,1 0,-3A3,3 0 0,1 3,0Z\" style=\"opacity: 1; stroke-width: 0px; fill: rgb(38, 166, 132); fill-opacity: 1;\"/><path class=\"point plotly-customdata\" transform=\"translate(67.64,169.99)\" d=\"M3,0A3,3 0 1,1 0,-3A3,3 0 0,1 3,0Z\" style=\"opacity: 1; stroke-width: 0px; fill: rgb(39, 167, 131); fill-opacity: 1;\"/><path class=\"point plotly-customdata\" transform=\"translate(45.98,184.6)\" d=\"M3,0A3,3 0 1,1 0,-3A3,3 0 0,1 3,0Z\" style=\"opacity: 1; stroke-width: 0px; fill: rgb(40, 168, 131); fill-opacity: 1;\"/><path class=\"point plotly-customdata\" transform=\"translate(63.45,160.6)\" d=\"M3,0A3,3 0 1,1 0,-3A3,3 0 0,1 3,0Z\" style=\"opacity: 1; stroke-width: 0px; fill: rgb(40, 169, 130); fill-opacity: 1;\"/><path class=\"point plotly-customdata\" transform=\"translate(52.08,156.15)\" d=\"M3,0A3,3 0 1,1 0,-3A3,3 0 0,1 3,0Z\" style=\"opacity: 1; stroke-width: 0px; fill: rgb(41, 170, 129); fill-opacity: 1;\"/><path class=\"point plotly-customdata\" transform=\"translate(171.07,149.83)\" d=\"M3,0A3,3 0 1,1 0,-3A3,3 0 0,1 3,0Z\" style=\"opacity: 1; stroke-width: 0px; fill: rgb(42, 171, 129); fill-opacity: 1;\"/><path class=\"point plotly-customdata\" transform=\"translate(117.21,126.89)\" d=\"M3,0A3,3 0 1,1 0,-3A3,3 0 0,1 3,0Z\" style=\"opacity: 1; stroke-width: 0px; fill: rgb(44, 173, 128); fill-opacity: 1;\"/><path class=\"point plotly-customdata\" transform=\"translate(102.46,115.63)\" d=\"M3,0A3,3 0 1,1 0,-3A3,3 0 0,1 3,0Z\" style=\"opacity: 1; stroke-width: 0px; fill: rgb(45, 174, 127); fill-opacity: 1;\"/><path class=\"point plotly-customdata\" transform=\"translate(163.2,117.57)\" d=\"M3,0A3,3 0 1,1 0,-3A3,3 0 0,1 3,0Z\" style=\"opacity: 1; stroke-width: 0px; fill: rgb(46, 175, 126); fill-opacity: 1;\"/><path class=\"point plotly-customdata\" transform=\"translate(129.03,118.54)\" d=\"M3,0A3,3 0 1,1 0,-3A3,3 0 0,1 3,0Z\" style=\"opacity: 1; stroke-width: 0px; fill: rgb(46, 176, 126); fill-opacity: 1;\"/><path class=\"point plotly-customdata\" transform=\"translate(79.75,119.49)\" d=\"M3,0A3,3 0 1,1 0,-3A3,3 0 0,1 3,0Z\" style=\"opacity: 1; stroke-width: 0px; fill: rgb(47, 177, 125); fill-opacity: 1;\"/><path class=\"point plotly-customdata\" transform=\"translate(123.05,98.47)\" d=\"M3,0A3,3 0 1,1 0,-3A3,3 0 0,1 3,0Z\" style=\"opacity: 1; stroke-width: 0px; fill: rgb(48, 178, 125); fill-opacity: 1;\"/><path class=\"point plotly-customdata\" transform=\"translate(140.4,95.95)\" d=\"M3,0A3,3 0 1,1 0,-3A3,3 0 0,1 3,0Z\" style=\"opacity: 1; stroke-width: 0px; fill: rgb(49, 178, 124); fill-opacity: 1;\"/><path class=\"point plotly-customdata\" transform=\"translate(161.98,94.31)\" d=\"M3,0A3,3 0 1,1 0,-3A3,3 0 0,1 3,0Z\" style=\"opacity: 1; stroke-width: 0px; fill: rgb(50, 179, 123); fill-opacity: 1;\"/><path class=\"point plotly-customdata\" transform=\"translate(217.08,96.56)\" d=\"M3,0A3,3 0 1,1 0,-3A3,3 0 0,1 3,0Z\" style=\"opacity: 1; stroke-width: 0px; fill: rgb(51, 180, 123); fill-opacity: 1;\"/><path class=\"point plotly-customdata\" transform=\"translate(210.19,93.56)\" d=\"M3,0A3,3 0 1,1 0,-3A3,3 0 0,1 3,0Z\" style=\"opacity: 1; stroke-width: 0px; fill: rgb(52, 181, 122); fill-opacity: 1;\"/><path class=\"point plotly-customdata\" transform=\"translate(158.86,106.09)\" d=\"M3,0A3,3 0 1,1 0,-3A3,3 0 0,1 3,0Z\" style=\"opacity: 1; stroke-width: 0px; fill: rgb(52, 182, 121); fill-opacity: 1;\"/><path class=\"point plotly-customdata\" transform=\"translate(164.42,103.58)\" d=\"M3,0A3,3 0 1,1 0,-3A3,3 0 0,1 3,0Z\" style=\"opacity: 1; stroke-width: 0px; fill: rgb(54, 183, 121); fill-opacity: 1;\"/><path class=\"point plotly-customdata\" transform=\"translate(52.7,120.88)\" d=\"M3,0A3,3 0 1,1 0,-3A3,3 0 0,1 3,0Z\" style=\"opacity: 1; stroke-width: 0px; fill: rgb(56, 184, 119); fill-opacity: 1;\"/><path class=\"point plotly-customdata\" transform=\"translate(38.05,119.93)\" d=\"M3,0A3,3 0 1,1 0,-3A3,3 0 0,1 3,0Z\" style=\"opacity: 1; stroke-width: 0px; fill: rgb(58, 185, 118); fill-opacity: 1;\"/><path class=\"point plotly-customdata\" transform=\"translate(55.08,87.32)\" d=\"M3,0A3,3 0 1,1 0,-3A3,3 0 0,1 3,0Z\" style=\"opacity: 1; stroke-width: 0px; fill: rgb(60, 186, 117); fill-opacity: 1;\"/><path class=\"point plotly-customdata\" transform=\"translate(69.95,102.25)\" d=\"M3,0A3,3 0 1,1 0,-3A3,3 0 0,1 3,0Z\" style=\"opacity: 1; stroke-width: 0px; fill: rgb(63, 187, 115); fill-opacity: 1;\"/><path class=\"point plotly-customdata\" transform=\"translate(56.94,86.42)\" d=\"M3,0A3,3 0 1,1 0,-3A3,3 0 0,1 3,0Z\" style=\"opacity: 1; stroke-width: 0px; fill: rgb(65, 188, 114); fill-opacity: 1;\"/><path class=\"point plotly-customdata\" transform=\"translate(144.38,77.65)\" d=\"M3,0A3,3 0 1,1 0,-3A3,3 0 0,1 3,0Z\" style=\"opacity: 1; stroke-width: 0px; fill: rgb(67, 189, 113); fill-opacity: 1;\"/><path class=\"point plotly-customdata\" transform=\"translate(125.34,68.36)\" d=\"M3,0A3,3 0 1,1 0,-3A3,3 0 0,1 3,0Z\" style=\"opacity: 1; stroke-width: 0px; fill: rgb(69, 190, 112); fill-opacity: 1;\"/><path class=\"point plotly-customdata\" transform=\"translate(134.41,87.34)\" d=\"M3,0A3,3 0 1,1 0,-3A3,3 0 0,1 3,0Z\" style=\"opacity: 1; stroke-width: 0px; fill: rgb(71, 190, 110); fill-opacity: 1;\"/><path class=\"point plotly-customdata\" transform=\"translate(34.93,112.06)\" d=\"M3,0A3,3 0 1,1 0,-3A3,3 0 0,1 3,0Z\" style=\"opacity: 1; stroke-width: 0px; fill: rgb(71, 190, 110); fill-opacity: 1;\"/><path class=\"point plotly-customdata\" transform=\"translate(35.27,105.34)\" d=\"M3,0A3,3 0 1,1 0,-3A3,3 0 0,1 3,0Z\" style=\"opacity: 1; stroke-width: 0px; fill: rgb(74, 191, 109); fill-opacity: 1;\"/><path class=\"point plotly-customdata\" transform=\"translate(22.3,94.17)\" d=\"M3,0A3,3 0 1,1 0,-3A3,3 0 0,1 3,0Z\" style=\"opacity: 1; stroke-width: 0px; fill: rgb(76, 192, 108); fill-opacity: 1;\"/><path class=\"point plotly-customdata\" transform=\"translate(24.39,90.41)\" d=\"M3,0A3,3 0 1,1 0,-3A3,3 0 0,1 3,0Z\" style=\"opacity: 1; stroke-width: 0px; fill: rgb(78, 193, 106); fill-opacity: 1;\"/><path class=\"point plotly-customdata\" transform=\"translate(59.79,102.77)\" d=\"M3,0A3,3 0 1,1 0,-3A3,3 0 0,1 3,0Z\" style=\"opacity: 1; stroke-width: 0px; fill: rgb(80, 194, 105); fill-opacity: 1;\"/><path class=\"point plotly-customdata\" transform=\"translate(104.42,78.15)\" d=\"M3,0A3,3 0 1,1 0,-3A3,3 0 0,1 3,0Z\" style=\"opacity: 1; stroke-width: 0px; fill: rgb(82, 195, 104); fill-opacity: 1;\"/><path class=\"point plotly-customdata\" transform=\"translate(70.65,81.21)\" d=\"M3,0A3,3 0 1,1 0,-3A3,3 0 0,1 3,0Z\" style=\"opacity: 1; stroke-width: 0px; fill: rgb(85, 196, 103); fill-opacity: 1;\"/><path class=\"point plotly-customdata\" transform=\"translate(83.52,91.4)\" d=\"M3,0A3,3 0 1,1 0,-3A3,3 0 0,1 3,0Z\" style=\"opacity: 1; stroke-width: 0px; fill: rgb(87, 197, 101); fill-opacity: 1;\"/><path class=\"point plotly-customdata\" transform=\"translate(65.03,80.28)\" d=\"M3,0A3,3 0 1,1 0,-3A3,3 0 0,1 3,0Z\" style=\"opacity: 1; stroke-width: 0px; fill: rgb(89, 198, 100); fill-opacity: 1;\"/><path class=\"point plotly-customdata\" transform=\"translate(93.06,76.81)\" d=\"M3,0A3,3 0 1,1 0,-3A3,3 0 0,1 3,0Z\" style=\"opacity: 1; stroke-width: 0px; fill: rgb(89, 198, 100); fill-opacity: 1;\"/><path class=\"point plotly-customdata\" transform=\"translate(119.62,69.54)\" d=\"M3,0A3,3 0 1,1 0,-3A3,3 0 0,1 3,0Z\" style=\"opacity: 1; stroke-width: 0px; fill: rgb(91, 198, 99); fill-opacity: 1;\"/><path class=\"point plotly-customdata\" transform=\"translate(133,59.89)\" d=\"M3,0A3,3 0 1,1 0,-3A3,3 0 0,1 3,0Z\" style=\"opacity: 1; stroke-width: 0px; fill: rgb(94, 199, 98); fill-opacity: 1;\"/><path class=\"point plotly-customdata\" transform=\"translate(167.44,58.97)\" d=\"M3,0A3,3 0 1,1 0,-3A3,3 0 0,1 3,0Z\" style=\"opacity: 1; stroke-width: 0px; fill: rgb(96, 200, 96); fill-opacity: 1;\"/><path class=\"point plotly-customdata\" transform=\"translate(166.96,56.25)\" d=\"M3,0A3,3 0 1,1 0,-3A3,3 0 0,1 3,0Z\" style=\"opacity: 1; stroke-width: 0px; fill: rgb(98, 201, 95); fill-opacity: 1;\"/><path class=\"point plotly-customdata\" transform=\"translate(198.18,68.03)\" d=\"M3,0A3,3 0 1,1 0,-3A3,3 0 0,1 3,0Z\" style=\"opacity: 1; stroke-width: 0px; fill: rgb(100, 202, 94); fill-opacity: 1;\"/><path class=\"point plotly-customdata\" transform=\"translate(168.62,60.73)\" d=\"M3,0A3,3 0 1,1 0,-3A3,3 0 0,1 3,0Z\" style=\"opacity: 1; stroke-width: 0px; fill: rgb(102, 203, 92); fill-opacity: 1;\"/><path class=\"point plotly-customdata\" transform=\"translate(186.68,60.75)\" d=\"M3,0A3,3 0 1,1 0,-3A3,3 0 0,1 3,0Z\" style=\"opacity: 1; stroke-width: 0px; fill: rgb(105, 204, 91); fill-opacity: 1;\"/><path class=\"point plotly-customdata\" transform=\"translate(203.63,79.09)\" d=\"M3,0A3,3 0 1,1 0,-3A3,3 0 0,1 3,0Z\" style=\"opacity: 1; stroke-width: 0px; fill: rgb(107, 205, 90); fill-opacity: 1;\"/><path class=\"point plotly-customdata\" transform=\"translate(169.08,56.3)\" d=\"M3,0A3,3 0 1,1 0,-3A3,3 0 0,1 3,0Z\" style=\"opacity: 1; stroke-width: 0px; fill: rgb(109, 206, 89); fill-opacity: 1;\"/><path class=\"point plotly-customdata\" transform=\"translate(198.02,75.21)\" d=\"M3,0A3,3 0 1,1 0,-3A3,3 0 0,1 3,0Z\" style=\"opacity: 1; stroke-width: 0px; fill: rgb(112, 206, 87); fill-opacity: 1;\"/><path class=\"point plotly-customdata\" transform=\"translate(169.55,52.36)\" d=\"M3,0A3,3 0 1,1 0,-3A3,3 0 0,1 3,0Z\" style=\"opacity: 1; stroke-width: 0px; fill: rgb(114, 207, 85); fill-opacity: 1;\"/><path class=\"point plotly-customdata\" transform=\"translate(169.01,77.76)\" d=\"M3,0A3,3 0 1,1 0,-3A3,3 0 0,1 3,0Z\" style=\"opacity: 1; stroke-width: 0px; fill: rgb(117, 208, 84); fill-opacity: 1;\"/><path class=\"point plotly-customdata\" transform=\"translate(200.64,51.82)\" d=\"M3,0A3,3 0 1,1 0,-3A3,3 0 0,1 3,0Z\" style=\"opacity: 1; stroke-width: 0px; fill: rgb(120, 208, 82); fill-opacity: 1;\"/><path class=\"point plotly-customdata\" transform=\"translate(135.72,67.17)\" d=\"M3,0A3,3 0 1,1 0,-3A3,3 0 0,1 3,0Z\" style=\"opacity: 1; stroke-width: 0px; fill: rgb(123, 209, 80); fill-opacity: 1;\"/><path class=\"point plotly-customdata\" transform=\"translate(172.92,50.19)\" d=\"M3,0A3,3 0 1,1 0,-3A3,3 0 0,1 3,0Z\" style=\"opacity: 1; stroke-width: 0px; fill: rgb(125, 209, 78); fill-opacity: 1;\"/><path class=\"point plotly-customdata\" transform=\"translate(150.73,78.67)\" d=\"M3,0A3,3 0 1,1 0,-3A3,3 0 0,1 3,0Z\" style=\"opacity: 1; stroke-width: 0px; fill: rgb(128, 210, 77); fill-opacity: 1;\"/><path class=\"point plotly-customdata\" transform=\"translate(160.04,47.7)\" d=\"M3,0A3,3 0 1,1 0,-3A3,3 0 0,1 3,0Z\" style=\"opacity: 1; stroke-width: 0px; fill: rgb(131, 211, 75); fill-opacity: 1;\"/><path class=\"point plotly-customdata\" transform=\"translate(173.03,53.46)\" d=\"M3,0A3,3 0 1,1 0,-3A3,3 0 0,1 3,0Z\" style=\"opacity: 1; stroke-width: 0px; fill: rgb(134, 211, 73); fill-opacity: 1;\"/><path class=\"point plotly-customdata\" transform=\"translate(202.39,69.09)\" d=\"M3,0A3,3 0 1,1 0,-3A3,3 0 0,1 3,0Z\" style=\"opacity: 1; stroke-width: 0px; fill: rgb(136, 212, 71); fill-opacity: 1;\"/><path class=\"point plotly-customdata\" transform=\"translate(76.66,81.49)\" d=\"M3,0A3,3 0 1,1 0,-3A3,3 0 0,1 3,0Z\" style=\"opacity: 1; stroke-width: 0px; fill: rgb(139, 213, 70); fill-opacity: 1;\"/><path class=\"point plotly-customdata\" transform=\"translate(162.57,51.37)\" d=\"M3,0A3,3 0 1,1 0,-3A3,3 0 0,1 3,0Z\" style=\"opacity: 1; stroke-width: 0px; fill: rgb(142, 213, 68); fill-opacity: 1;\"/><path class=\"point plotly-customdata\" transform=\"translate(185.75,33.81)\" d=\"M3,0A3,3 0 1,1 0,-3A3,3 0 0,1 3,0Z\" style=\"opacity: 1; stroke-width: 0px; fill: rgb(145, 214, 66); fill-opacity: 1;\"/><path class=\"point plotly-customdata\" transform=\"translate(234.99,39.91)\" d=\"M3,0A3,3 0 1,1 0,-3A3,3 0 0,1 3,0Z\" style=\"opacity: 1; stroke-width: 0px; fill: rgb(147, 214, 64); fill-opacity: 1;\"/><path class=\"point plotly-customdata\" transform=\"translate(224.87,32.69)\" d=\"M3,0A3,3 0 1,1 0,-3A3,3 0 0,1 3,0Z\" style=\"opacity: 1; stroke-width: 0px; fill: rgb(150, 215, 63); fill-opacity: 1;\"/><path class=\"point plotly-customdata\" transform=\"translate(269.41,41.25)\" d=\"M3,0A3,3 0 1,1 0,-3A3,3 0 0,1 3,0Z\" style=\"opacity: 1; stroke-width: 0px; fill: rgb(153, 216, 61); fill-opacity: 1;\"/><path class=\"point plotly-customdata\" transform=\"translate(271.08,54.27)\" d=\"M3,0A3,3 0 1,1 0,-3A3,3 0 0,1 3,0Z\" style=\"opacity: 1; stroke-width: 0px; fill: rgb(156, 216, 59); fill-opacity: 1;\"/><path class=\"point plotly-customdata\" transform=\"translate(269.43,44.47)\" d=\"M3,0A3,3 0 1,1 0,-3A3,3 0 0,1 3,0Z\" style=\"opacity: 1; stroke-width: 0px; fill: rgb(158, 217, 57); fill-opacity: 1;\"/><path class=\"point plotly-customdata\" transform=\"translate(250.18,28.1)\" d=\"M3,0A3,3 0 1,1 0,-3A3,3 0 0,1 3,0Z\" style=\"opacity: 1; stroke-width: 0px; fill: rgb(161, 218, 56); fill-opacity: 1;\"/><path class=\"point plotly-customdata\" transform=\"translate(286.08,34.44)\" d=\"M3,0A3,3 0 1,1 0,-3A3,3 0 0,1 3,0Z\" style=\"opacity: 1; stroke-width: 0px; fill: rgb(164, 218, 54); fill-opacity: 1;\"/><path class=\"point plotly-customdata\" transform=\"translate(248.99,44.69)\" d=\"M3,0A3,3 0 1,1 0,-3A3,3 0 0,1 3,0Z\" style=\"opacity: 1; stroke-width: 0px; fill: rgb(167, 219, 52); fill-opacity: 1;\"/><path class=\"point plotly-customdata\" transform=\"translate(258.62,35.58)\" d=\"M3,0A3,3 0 1,1 0,-3A3,3 0 0,1 3,0Z\" style=\"opacity: 1; stroke-width: 0px; fill: rgb(169, 219, 50); fill-opacity: 1;\"/><path class=\"point plotly-customdata\" transform=\"translate(240.27,26.95)\" d=\"M3,0A3,3 0 1,1 0,-3A3,3 0 0,1 3,0Z\" style=\"opacity: 1; stroke-width: 0px; fill: rgb(172, 220, 49); fill-opacity: 1;\"/><path class=\"point plotly-customdata\" transform=\"translate(285.96,28.33)\" d=\"M3,0A3,3 0 1,1 0,-3A3,3 0 0,1 3,0Z\" style=\"opacity: 1; stroke-width: 0px; fill: rgb(175, 221, 47); fill-opacity: 1;\"/><path class=\"point plotly-customdata\" transform=\"translate(278.83,36.89)\" d=\"M3,0A3,3 0 1,1 0,-3A3,3 0 0,1 3,0Z\" style=\"opacity: 1; stroke-width: 0px; fill: rgb(178, 221, 45); fill-opacity: 1;\"/><path class=\"point plotly-customdata\" transform=\"translate(297.47,30.07)\" d=\"M3,0A3,3 0 1,1 0,-3A3,3 0 0,1 3,0Z\" style=\"opacity: 1; stroke-width: 0px; fill: rgb(180, 222, 43); fill-opacity: 1;\"/><path class=\"point plotly-customdata\" transform=\"translate(292.54,21.02)\" d=\"M3,0A3,3 0 1,1 0,-3A3,3 0 0,1 3,0Z\" style=\"opacity: 1; stroke-width: 0px; fill: rgb(183, 222, 43); fill-opacity: 1;\"/><path class=\"point plotly-customdata\" transform=\"translate(304.08,21.69)\" d=\"M3,0A3,3 0 1,1 0,-3A3,3 0 0,1 3,0Z\" style=\"opacity: 1; stroke-width: 0px; fill: rgb(186, 223, 43); fill-opacity: 1;\"/><path class=\"point plotly-customdata\" transform=\"translate(286.48,25.96)\" d=\"M3,0A3,3 0 1,1 0,-3A3,3 0 0,1 3,0Z\" style=\"opacity: 1; stroke-width: 0px; fill: rgb(189, 223, 42); fill-opacity: 1;\"/><path class=\"point plotly-customdata\" transform=\"translate(293.08,17.45)\" d=\"M3,0A3,3 0 1,1 0,-3A3,3 0 0,1 3,0Z\" style=\"opacity: 1; stroke-width: 0px; fill: rgb(192, 223, 42); fill-opacity: 1;\"/><path class=\"point plotly-customdata\" transform=\"translate(242.65,40.87)\" d=\"M3,0A3,3 0 1,1 0,-3A3,3 0 0,1 3,0Z\" style=\"opacity: 1; stroke-width: 0px; fill: rgb(194, 224, 42); fill-opacity: 1;\"/><path class=\"point plotly-customdata\" transform=\"translate(345.41,75.78)\" d=\"M3,0A3,3 0 1,1 0,-3A3,3 0 0,1 3,0Z\" style=\"opacity: 1; stroke-width: 0px; fill: rgb(194, 224, 42); fill-opacity: 1;\"/><path class=\"point plotly-customdata\" transform=\"translate(319.85,51.95)\" d=\"M3,0A3,3 0 1,1 0,-3A3,3 0 0,1 3,0Z\" style=\"opacity: 1; stroke-width: 0px; fill: rgb(197, 224, 42); fill-opacity: 1;\"/><path class=\"point plotly-customdata\" transform=\"translate(293.2,60.6)\" d=\"M3,0A3,3 0 1,1 0,-3A3,3 0 0,1 3,0Z\" style=\"opacity: 1; stroke-width: 0px; fill: rgb(200, 224, 41); fill-opacity: 1;\"/><path class=\"point plotly-customdata\" transform=\"translate(313.71,39.97)\" d=\"M3,0A3,3 0 1,1 0,-3A3,3 0 0,1 3,0Z\" style=\"opacity: 1; stroke-width: 0px; fill: rgb(203, 225, 41); fill-opacity: 1;\"/><path class=\"point plotly-customdata\" transform=\"translate(280.95,51.6)\" d=\"M3,0A3,3 0 1,1 0,-3A3,3 0 0,1 3,0Z\" style=\"opacity: 1; stroke-width: 0px; fill: rgb(206, 225, 41); fill-opacity: 1;\"/><path class=\"point plotly-customdata\" transform=\"translate(292.12,37.59)\" d=\"M3,0A3,3 0 1,1 0,-3A3,3 0 0,1 3,0Z\" style=\"opacity: 1; stroke-width: 0px; fill: rgb(208, 225, 41); fill-opacity: 1;\"/><path class=\"point plotly-customdata\" transform=\"translate(316.78,58.53)\" d=\"M3,0A3,3 0 1,1 0,-3A3,3 0 0,1 3,0Z\" style=\"opacity: 1; stroke-width: 0px; fill: rgb(211, 226, 40); fill-opacity: 1;\"/><path class=\"point plotly-customdata\" transform=\"translate(294.99,46.47)\" d=\"M3,0A3,3 0 1,1 0,-3A3,3 0 0,1 3,0Z\" style=\"opacity: 1; stroke-width: 0px; fill: rgb(214, 226, 40); fill-opacity: 1;\"/><path class=\"point plotly-customdata\" transform=\"translate(289.93,30)\" d=\"M3,0A3,3 0 1,1 0,-3A3,3 0 0,1 3,0Z\" style=\"opacity: 1; stroke-width: 0px; fill: rgb(217, 226, 40); fill-opacity: 1;\"/><path class=\"point plotly-customdata\" transform=\"translate(302.23,31.65)\" d=\"M3,0A3,3 0 1,1 0,-3A3,3 0 0,1 3,0Z\" style=\"opacity: 1; stroke-width: 0px; fill: rgb(219, 227, 40); fill-opacity: 1;\"/><path class=\"point plotly-customdata\" transform=\"translate(321.29,28.7)\" d=\"M3,0A3,3 0 1,1 0,-3A3,3 0 0,1 3,0Z\" style=\"opacity: 1; stroke-width: 0px; fill: rgb(222, 227, 40); fill-opacity: 1;\"/><path class=\"point plotly-customdata\" transform=\"translate(326.04,33.57)\" d=\"M3,0A3,3 0 1,1 0,-3A3,3 0 0,1 3,0Z\" style=\"opacity: 1; stroke-width: 0px; fill: rgb(225, 228, 39); fill-opacity: 1;\"/><path class=\"point plotly-customdata\" transform=\"translate(327.37,27.39)\" d=\"M3,0A3,3 0 1,1 0,-3A3,3 0 0,1 3,0Z\" style=\"opacity: 1; stroke-width: 0px; fill: rgb(228, 228, 39); fill-opacity: 1;\"/><path class=\"point plotly-customdata\" transform=\"translate(332.9,22.86)\" d=\"M3,0A3,3 0 1,1 0,-3A3,3 0 0,1 3,0Z\" style=\"opacity: 1; stroke-width: 0px; fill: rgb(231, 228, 39); fill-opacity: 1;\"/><path class=\"point plotly-customdata\" transform=\"translate(329.63,29.26)\" d=\"M3,0A3,3 0 1,1 0,-3A3,3 0 0,1 3,0Z\" style=\"opacity: 1; stroke-width: 0px; fill: rgb(233, 229, 39); fill-opacity: 1;\"/><path class=\"point plotly-customdata\" transform=\"translate(322.71,35.37)\" d=\"M3,0A3,3 0 1,1 0,-3A3,3 0 0,1 3,0Z\" style=\"opacity: 1; stroke-width: 0px; fill: rgb(236, 229, 38); fill-opacity: 1;\"/><path class=\"point plotly-customdata\" transform=\"translate(308.41,54.53)\" d=\"M3,0A3,3 0 1,1 0,-3A3,3 0 0,1 3,0Z\" style=\"opacity: 1; stroke-width: 0px; fill: rgb(239, 229, 38); fill-opacity: 1;\"/><path class=\"point plotly-customdata\" transform=\"translate(348.7,52.49)\" d=\"M3,0A3,3 0 1,1 0,-3A3,3 0 0,1 3,0Z\" style=\"opacity: 1; stroke-width: 0px; fill: rgb(242, 230, 38); fill-opacity: 1;\"/><path class=\"point plotly-customdata\" transform=\"translate(338.34,65.29)\" d=\"M3,0A3,3 0 1,1 0,-3A3,3 0 0,1 3,0Z\" style=\"opacity: 1; stroke-width: 0px; fill: rgb(245, 230, 38); fill-opacity: 1;\"/><path class=\"point plotly-customdata\" transform=\"translate(335.28,58.55)\" d=\"M3,0A3,3 0 1,1 0,-3A3,3 0 0,1 3,0Z\" style=\"opacity: 1; stroke-width: 0px; fill: rgb(247, 230, 37); fill-opacity: 1;\"/><path class=\"point plotly-customdata\" transform=\"translate(341.09,31.89)\" d=\"M3,0A3,3 0 1,1 0,-3A3,3 0 0,1 3,0Z\" style=\"opacity: 1; stroke-width: 0px; fill: rgb(250, 231, 37); fill-opacity: 1;\"/><path class=\"point plotly-customdata\" transform=\"translate(331.26,43.06)\" d=\"M3,0A3,3 0 1,1 0,-3A3,3 0 0,1 3,0Z\" style=\"opacity: 1; stroke-width: 0px; fill: rgb(253, 231, 37); fill-opacity: 1;\"/></g><g class=\"text\"/></g></g></g><g class=\"overplot\"/><path class=\"xlines-above crisp\" d=\"M72,292.5H444\" style=\"fill: none; stroke-width: 1px; stroke: rgb(36, 36, 36); stroke-opacity: 1;\"/><path class=\"ylines-above crisp\" d=\"M72.5,18V292\" style=\"fill: none; stroke-width: 1px; stroke: rgb(36, 36, 36); stroke-opacity: 1;\"/><g class=\"overlines-above\"/><g class=\"xaxislayer-above\"><path class=\"xtick ticks crisp\" d=\"M0,293v5\" transform=\"translate(79.03,0)\" style=\"stroke: rgb(68, 68, 68); stroke-opacity: 1; stroke-width: 1px;\"/><path class=\"xtick ticks crisp\" d=\"M0,293v5\" transform=\"translate(178.89,0)\" style=\"stroke: rgb(68, 68, 68); stroke-opacity: 1; stroke-width: 1px;\"/><path class=\"xtick ticks crisp\" d=\"M0,293v5\" transform=\"translate(278.76,0)\" style=\"stroke: rgb(68, 68, 68); stroke-opacity: 1; stroke-width: 1px;\"/><path class=\"xtick ticks crisp\" d=\"M0,293v5\" transform=\"translate(378.62,0)\" style=\"stroke: rgb(68, 68, 68); stroke-opacity: 1; stroke-width: 1px;\"/><g class=\"xtick\"><text text-anchor=\"middle\" x=\"0\" y=\"312.4\" transform=\"translate(79.03,0)\" style=\"font-family: 'Open Sans', verdana, arial, sans-serif; font-size: 12px; fill: rgb(36, 36, 36); fill-opacity: 1; white-space: pre; opacity: 1;\">−0.4</text></g><g class=\"xtick\"><text text-anchor=\"middle\" x=\"0\" y=\"312.4\" style=\"font-family: 'Open Sans', verdana, arial, sans-serif; font-size: 12px; fill: rgb(36, 36, 36); fill-opacity: 1; white-space: pre; opacity: 1;\" transform=\"translate(178.89,0)\">−0.2</text></g><g class=\"xtick\"><text text-anchor=\"middle\" x=\"0\" y=\"312.4\" style=\"font-family: 'Open Sans', verdana, arial, sans-serif; font-size: 12px; fill: rgb(36, 36, 36); fill-opacity: 1; white-space: pre; opacity: 1;\" transform=\"translate(278.76,0)\">0</text></g><g class=\"xtick\"><text text-anchor=\"middle\" x=\"0\" y=\"312.4\" style=\"font-family: 'Open Sans', verdana, arial, sans-serif; font-size: 12px; fill: rgb(36, 36, 36); fill-opacity: 1; white-space: pre; opacity: 1;\" transform=\"translate(378.62,0)\">0.2</text></g></g><g class=\"yaxislayer-above\"><path class=\"ytick ticks crisp\" d=\"M72,0h-5\" transform=\"translate(0,275.65)\" style=\"stroke: rgb(68, 68, 68); stroke-opacity: 1; stroke-width: 1px;\"/><path class=\"ytick ticks crisp\" d=\"M72,0h-5\" transform=\"translate(0,224.16)\" style=\"stroke: rgb(68, 68, 68); stroke-opacity: 1; stroke-width: 1px;\"/><path class=\"ytick ticks crisp\" d=\"M72,0h-5\" transform=\"translate(0,172.67)\" style=\"stroke: rgb(68, 68, 68); stroke-opacity: 1; stroke-width: 1px;\"/><path class=\"ytick ticks crisp\" d=\"M72,0h-5\" transform=\"translate(0,121.18)\" style=\"stroke: rgb(68, 68, 68); stroke-opacity: 1; stroke-width: 1px;\"/><path class=\"ytick ticks crisp\" d=\"M72,0h-5\" transform=\"translate(0,69.69)\" style=\"stroke: rgb(68, 68, 68); stroke-opacity: 1; stroke-width: 1px;\"/><path class=\"ytick ticks crisp\" d=\"M72,0h-5\" transform=\"translate(0,18.2)\" style=\"stroke: rgb(68, 68, 68); stroke-opacity: 1; stroke-width: 1px;\"/><g class=\"ytick\"><text text-anchor=\"end\" x=\"64.6\" y=\"4.199999999999999\" transform=\"translate(0,275.65)\" style=\"font-family: 'Open Sans', verdana, arial, sans-serif; font-size: 12px; fill: rgb(36, 36, 36); fill-opacity: 1; white-space: pre; opacity: 1;\">−0.4</text></g><g class=\"ytick\"><text text-anchor=\"end\" x=\"64.6\" y=\"4.199999999999999\" style=\"font-family: 'Open Sans', verdana, arial, sans-serif; font-size: 12px; fill: rgb(36, 36, 36); fill-opacity: 1; white-space: pre; opacity: 1;\" transform=\"translate(0,224.16)\">−0.2</text></g><g class=\"ytick\"><text text-anchor=\"end\" x=\"64.6\" y=\"4.199999999999999\" style=\"font-family: 'Open Sans', verdana, arial, sans-serif; font-size: 12px; fill: rgb(36, 36, 36); fill-opacity: 1; white-space: pre; opacity: 1;\" transform=\"translate(0,172.67)\">0</text></g><g class=\"ytick\"><text text-anchor=\"end\" x=\"64.6\" y=\"4.199999999999999\" style=\"font-family: 'Open Sans', verdana, arial, sans-serif; font-size: 12px; fill: rgb(36, 36, 36); fill-opacity: 1; white-space: pre; opacity: 1;\" transform=\"translate(0,121.18)\">0.2</text></g><g class=\"ytick\"><text text-anchor=\"end\" x=\"64.6\" y=\"4.199999999999999\" style=\"font-family: 'Open Sans', verdana, arial, sans-serif; font-size: 12px; fill: rgb(36, 36, 36); fill-opacity: 1; white-space: pre; opacity: 1;\" transform=\"translate(0,69.69)\">0.4</text></g><g class=\"ytick\"><text text-anchor=\"end\" x=\"64.6\" y=\"4.199999999999999\" style=\"font-family: 'Open Sans', verdana, arial, sans-serif; font-size: 12px; fill: rgb(36, 36, 36); fill-opacity: 1; white-space: pre; opacity: 1;\" transform=\"translate(0,18.2)\">0.6</text></g></g><g class=\"overaxes-above\"/></g></g><g class=\"polarlayer\"/><g class=\"smithlayer\"/><g class=\"ternarylayer\"/><g class=\"geolayer\"/><g class=\"funnelarealayer\"/><g class=\"pielayer\"/><g class=\"iciclelayer\"/><g class=\"treemaplayer\"/><g class=\"sunburstlayer\"/><g class=\"glimages\"/><defs id=\"topdefs-b6fe83\"><g class=\"clips\"/></defs><g class=\"layer-above\"><g class=\"imagelayer\"/><g class=\"shapelayer\"/></g><g class=\"infolayer\"><g class=\"cbcoloraxis colorbar\" transform=\"translate(73,18)\"><rect class=\"cbbg\" x=\"377.5\" y=\"0\" width=\"88.921875\" height=\"275\" style=\"fill: rgb(0, 0, 0); fill-opacity: 0; stroke: rgb(68, 68, 68); stroke-opacity: 1; stroke-width: 0;\"/><g class=\"cbfills\" transform=\"translate(0,32)\"><rect class=\"cbfill\" x=\"388\" y=\"0\" width=\"30\" height=\"232\" style=\"fill: url('#gb6fe83-cbcoloraxis');\"/></g><g class=\"cblines\" transform=\"translate(0,32)\"/><g class=\"cbaxis crisp\" transform=\"translate(0,-18)\"><path class=\"ycbcoloraxistick ticks crisp\" d=\"M418,0h5\" transform=\"translate(0,272)\" style=\"stroke: rgb(36, 36, 36); stroke-opacity: 1; stroke-width: 1px;\"/><path class=\"ycbcoloraxistick ticks crisp\" d=\"M418,0h5\" transform=\"translate(0,222)\" style=\"stroke: rgb(36, 36, 36); stroke-opacity: 1; stroke-width: 1px;\"/><path class=\"ycbcoloraxistick ticks crisp\" d=\"M418,0h5\" transform=\"translate(0,172)\" style=\"stroke: rgb(36, 36, 36); stroke-opacity: 1; stroke-width: 1px;\"/><path class=\"ycbcoloraxistick ticks crisp\" d=\"M418,0h5\" transform=\"translate(0,122)\" style=\"stroke: rgb(36, 36, 36); stroke-opacity: 1; stroke-width: 1px;\"/><path class=\"ycbcoloraxistick ticks crisp\" d=\"M418,0h5\" transform=\"translate(0,72)\" style=\"stroke: rgb(36, 36, 36); stroke-opacity: 1; stroke-width: 1px;\"/><g class=\"ycbcoloraxistick\"><text text-anchor=\"start\" x=\"425.4\" y=\"4.199999999999999\" transform=\"translate(0,272)\" style=\"font-family: 'Open Sans', verdana, arial, sans-serif; font-size: 12px; fill: rgb(36, 36, 36); fill-opacity: 1; white-space: pre; opacity: 1;\">1800</text></g><g class=\"ycbcoloraxistick\"><text text-anchor=\"start\" x=\"425.4\" y=\"4.199999999999999\" style=\"font-family: 'Open Sans', verdana, arial, sans-serif; font-size: 12px; fill: rgb(36, 36, 36); fill-opacity: 1; white-space: pre; opacity: 1;\" transform=\"translate(0,222)\">1850</text></g><g class=\"ycbcoloraxistick\"><text text-anchor=\"start\" x=\"425.4\" y=\"4.199999999999999\" style=\"font-family: 'Open Sans', verdana, arial, sans-serif; font-size: 12px; fill: rgb(36, 36, 36); fill-opacity: 1; white-space: pre; opacity: 1;\" transform=\"translate(0,172)\">1900</text></g><g class=\"ycbcoloraxistick\"><text text-anchor=\"start\" x=\"425.4\" y=\"4.199999999999999\" style=\"font-family: 'Open Sans', verdana, arial, sans-serif; font-size: 12px; fill: rgb(36, 36, 36); fill-opacity: 1; white-space: pre; opacity: 1;\" transform=\"translate(0,122)\">1950</text></g><g class=\"ycbcoloraxistick\"><text text-anchor=\"start\" x=\"425.4\" y=\"4.199999999999999\" style=\"font-family: 'Open Sans', verdana, arial, sans-serif; font-size: 12px; fill: rgb(36, 36, 36); fill-opacity: 1; white-space: pre; opacity: 1;\" transform=\"translate(0,72)\">2000</text></g></g><g class=\"cbtitleunshift\" transform=\"translate(-73,-18)\"><g class=\"cbtitle\" transform=\"translate(-0.5,-0.5)\"><text class=\"ycbcoloraxistitle\" x=\"461.42\" y=\"41.5\" text-anchor=\"start\" style=\"font-family: 'Open Sans', verdana, arial, sans-serif; font-size: 14px; fill: rgb(36, 36, 36); opacity: 1; font-weight: normal; white-space: pre;\">year</text></g></g><rect class=\"cboutline\" x=\"388\" y=\"32\" width=\"30\" height=\"232\" style=\"stroke: rgb(68, 68, 68); stroke-opacity: 1; fill: none; stroke-width: 1;\"/></g><g class=\"g-gtitle\"/><g class=\"g-xtitle\"><text class=\"xtitle\" x=\"258.5\" y=\"339.70625\" text-anchor=\"middle\" style=\"font-family: 'Open Sans', verdana, arial, sans-serif; font-size: 14px; fill: rgb(36, 36, 36); opacity: 1; font-weight: normal; white-space: pre;\">pc1</text></g><g class=\"g-ytitle\" transform=\"translate(3.6435546875,0)\"><text class=\"ytitle\" transform=\"rotate(-90,10.356250000000003,155)\" x=\"10.356250000000003\" y=\"155\" text-anchor=\"middle\" style=\"font-family: 'Open Sans', verdana, arial, sans-serif; font-size: 14px; fill: rgb(36, 36, 36); opacity: 1; font-weight: normal; white-space: pre;\">pc2</text></g></g></svg>"
      ]
     },
     "metadata": {},
     "output_type": "display_data"
    }
   ],
   "source": [
    "from scipy.sparse.linalg import svds\n",
    "\n",
    "def compute_pcs(data, k):\n",
    "    centered = data - data.mean(axis=0)\n",
    "    U, s, Vt = svds(centered, k=k)\n",
    "    return U @ np.diag(s)\n",
    "\n",
    "# setting the random seed doesn't affect for svds(), so re-running this code\n",
    "# might flip the points along the x or y-axes.\n",
    "pcs = compute_pcs(speech_vectors, k=2)\n",
    "\n",
    "with_pcs1 = df.assign(year=df['date'].str[-4:].astype(int),\n",
    "                      pc1=pcs[:, 0], pc2=pcs[:, 1])\n",
    "px.scatter(with_pcs1, x='pc1', y='pc2', color='year',\n",
    "           hover_data=['name'],\n",
    "           width=550, height=350)"
   ]
  },
  {
   "cell_type": "markdown",
   "metadata": {},
   "source": [
    "We see a clear difference in speeches over time---speeches given in the 1800s\n",
    "used very different words than speeches after 2000.\n",
    "It's also interesting to see that speeches from 1900-1970 seem to\n",
    "more scattered, while speeches before 1900 or after 1970 seem to cluster\n",
    "more tightly.\n",
    "This plot suggests that speeches from 1900-1970 had their own distinct\n",
    "patterns of word usage, and yet were also quite different from each other."
   ]
  },
  {
   "cell_type": "markdown",
   "metadata": {},
   "source": [
    "This section gave a whirlwind introduction to text analysis.\n",
    "We used text manipulation tools from previous sections to clean up the\n",
    "presidential speeches.\n",
    "Then, we used more advanced techniques like stemming,\n",
    "the tf-idf transform, and principal component analysis to compare speeches.\n",
    "Although we don't have enough space in this book\n",
    "to cover all of these techniques in detail, we hope that this section\n",
    "piques your interest in the exciting world of text analysis."
   ]
  }
 ],
 "metadata": {
  "colab": {
   "collapsed_sections": [
    "RTJu-FQY3AIp",
    "TrPjIHHD8rOC"
   ],
   "default_view": {},
   "name": "working_with_text.ipynb",
   "provenance": [],
   "version": "0.3.2",
   "views": {}
  },
  "kernelspec": {
   "display_name": "Python 3",
   "language": "python",
   "name": "python3"
  },
  "language_info": {
   "codemirror_mode": {
    "name": "ipython",
    "version": 3
   },
   "file_extension": ".py",
   "mimetype": "text/x-python",
   "name": "python",
   "nbconvert_exporter": "python",
   "pygments_lexer": "ipython3",
   "version": "3.9.4"
  },
  "toc": {
   "nav_menu": {},
   "number_sections": false,
   "sideBar": false,
   "skip_h1_title": false,
   "title_cell": "Table of Contents",
   "title_sidebar": "Contents",
   "toc_cell": true,
   "toc_position": {},
   "toc_section_display": true,
   "toc_window_display": false
  }
 },
 "nbformat": 4,
 "nbformat_minor": 4
}
