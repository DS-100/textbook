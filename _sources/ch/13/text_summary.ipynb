{
 "cells": [
  {
   "cell_type": "markdown",
   "metadata": {},
   "source": [
    "# Summary\n",
    "\n",
    "This chapter introduced techniques for working with text to clean and analyze data. Regular expressions / pattern matching is a powerful tool, but when boiled down to the basics you can start writing your own patterns quickly. Regular expressions are somewhat notorious for being difficult to read and debug. We close with some advice to help.  \n",
    "\n",
    "+ Develop your regular expression on simple test strings to see what the pattern matches.\n",
    "+ If a pattern matches nothing, try weakening it by dropping part of the pattern. Then tighten it incrementally to see how the matching evolves. (Online regex checkers can be very helpful here).\n",
    "+ Use raw strings whenever possible for cleaner patterns, especially when a pattern includes va backslash. \n",
    "+ When you have many or long strings, consider using compiled patterns because they can be faster to match (see `compile` in the `re` library).\n",
    "\n",
    "While powerful, regular expressions are terrible at certain types of problems. Don't use them to: \n",
    "\n",
    "+ Parse hierarchical structures such as JSON or HTML; use a parser instead.\n",
    "+ Search for complex properties, like palindromes and balanced parentheses.\n",
    "+ Validating a complex feature, such as a valid email address.\n",
    "\n",
    "Despite these warnings, regular expressions are a handy tool in data science, and we hope you have fun with them."
   ]
  }
 ],
 "metadata": {
  "kernelspec": {
   "display_name": "Python 3",
   "language": "python",
   "name": "python3"
  },
  "language_info": {
   "codemirror_mode": {
    "name": "ipython",
    "version": 3
   },
   "file_extension": ".py",
   "mimetype": "text/x-python",
   "name": "python",
   "nbconvert_exporter": "python",
   "pygments_lexer": "ipython3",
   "version": "3.9.4"
  }
 },
 "nbformat": 4,
 "nbformat_minor": 4
}
