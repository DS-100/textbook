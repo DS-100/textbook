{
 "cells": [
  {
   "cell_type": "code",
   "execution_count": 1,
   "metadata": {
    "tags": [
     "remove-cell"
    ]
   },
   "outputs": [],
   "source": [
    "# Reference: https://jupyterbook.org/interactive/hiding.html\n",
    "# Use {hide, remove}-{input, output, cell} tags to hide content\n",
    "\n",
    "import numpy as np\n",
    "import matplotlib.pyplot as plt\n",
    "import pandas as pd\n",
    "import seaborn as sns\n",
    "%matplotlib inline\n",
    "import ipywidgets as widgets\n",
    "from ipywidgets import interact, interactive, fixed, interact_manual\n",
    "from IPython.display import display, set_matplotlib_formats\n",
    "import myst_nb\n",
    "\n",
    "import plotly\n",
    "import plotly.graph_objects as go\n",
    "import plotly.express as px\n",
    "from plotly.subplots import make_subplots\n",
    "import plotly.io as pio\n",
    "pio.renderers.default = 'plotly_mimetype+svg'\n",
    "pio.templates['book'] = go.layout.Template(\n",
    "    layout=dict(\n",
    "        margin=dict(l=10, r=10, t=10, b=10),\n",
    "        autosize=True,\n",
    "        width=350, height=250,\n",
    "    )\n",
    ")\n",
    "pio.templates.default = 'seaborn+book'\n",
    "\n",
    "set_matplotlib_formats('svg')\n",
    "sns.set()\n",
    "np.set_printoptions(threshold=20, precision=2, suppress=True)\n",
    "pd.set_option('display.max_rows', 7)\n",
    "pd.set_option('display.max_columns', 8)\n",
    "pd.set_option('precision', 2)\n",
    "# This option stops scientific notation for pandas\n",
    "# pd.set_option('display.float_format', '{:.2f}'.format)\n",
    "\n",
    "def display_df(df, rows=pd.options.display.max_rows,\n",
    "               cols=pd.options.display.max_columns):\n",
    "    with pd.option_context('display.max_rows', rows,\n",
    "                           'display.max_columns', cols):\n",
    "        display(df)"
   ]
  },
  {
   "cell_type": "code",
   "execution_count": 2,
   "metadata": {
    "tags": [
     "remove-cell"
    ]
   },
   "outputs": [],
   "source": [
    "election = pd.DataFrame({\n",
    "    'County': ['De Witt County', 'Lac qui Parle County', 'Lewis and Clark County',\n",
    "        'St John the Baptist Parish'],\n",
    "    'State': ['IL', 'MN', 'MT', 'LA'],\n",
    "    'Voted': ['97.8', '98.8', '95.2', '52.6']\n",
    "    \n",
    "})\n",
    "census = pd.DataFrame({\n",
    "    'County': ['DeWitt  ', 'Lac Qui Parle', 'Lewis & Clark', 'St. John the Baptist'],\n",
    "        'State': ['IL', 'MN', 'MT', 'LA'],\n",
    "    'Population': ['16,798', '8,067', '55,716','43,044']\n",
    "})"
   ]
  },
  {
   "cell_type": "markdown",
   "metadata": {
    "colab_type": "text",
    "id": "5PgtKFhgwzv9"
   },
   "source": [
    "# String Manipulation\n",
    "\n",
    "A few basic string manipulation tools can be handy for cleaning text or extracting a portion of a string. These common tools manipulate strings in the following ways:\n",
    "\n",
    "- Transform upper case characters to lower case (or vice versa).\n",
    "- Replace a substring with another or delete a substring.\n",
    "- Split a string into pieces at a particular character. \n",
    "- Slice a string at specified locations. \n",
    "\n",
    "We need only the first two of these tools to clean the county names so that they are consistent across the two tables. "
   ]
  },
  {
   "cell_type": "markdown",
   "metadata": {
    "colab_type": "text",
    "id": "LVaqzJs1wzwH"
   },
   "source": [
    "## Converting Text to a Standard Format\n",
    "\n",
    "We need to address the following inconsistencies between the county names in the two tables.\n",
    "\n",
    "1.  Capitalization: `qui` vs `Qui`\n",
    "1.  Different punctuation conventions: `St.` vs `St` \n",
    "1.  Omission of words: `County` and `Parish` are absent from the `census` table\n",
    "1.  Use of whitespace: `DeWitt` vs `De Witt`\n",
    "1.  Different abbreviation conventions: `&` vs `and` \n",
    "\n",
    "When we clean text, a typical first step is to convert all of the characters to lower case. It’s much easier to work with all lower case characters than to try to track combinations of upper and lower case. As a second step, we want to fix inconsistent words: replace `&` with `and`, remove `County` and `Parish`. Then, there's the punctuation and whitespace inconsistencies. Removing them should be the final step. We demonstrate how to do this with Python string methods.    "
   ]
  },
  {
   "cell_type": "markdown",
   "metadata": {
    "colab_type": "text",
    "id": "LVaqzJs1wzwH"
   },
   "source": [
    "## Python String Methods\n",
    "\n",
    "Python provides a variety of methods for basic string manipulation. Although simple, these methods are the primitives that piece together to form more complex string operations. \n",
    "These methods are conveniently defined on all Python strings and do not require importing other modules. Although it is worth familiarizing yourself with [the complete list of string methods](https://docs.python.org/3/library/stdtypes.html#string-methods), we describe a few of the most commonly used methods in the table below."
   ]
  },
  {
   "cell_type": "markdown",
   "metadata": {
    "colab_type": "text",
    "id": "CcwHc5QOwzwI"
   },
   "source": [
    "| Method              | Description                                                                 |\n",
    "| ------------------- | --------------------------------------------------------------------------- |\n",
    "| `str.lower()`       | Returns a copy of a string with all letters converted to lowercase          |\n",
    "| `str.replace(a, b)` | Replaces all instances of the substring `a` in `str` with the substring `b` |\n",
    "| `str.strip()`       | Removes leading and trailing whitespace from `str`                          |\n",
    "| `str.split(a)`      | Returns substrings of `str` split at a substring `a`                        |\n",
    "| `str[x:y]`          | Slices `str`, returning indices x (inclusive) to y (not inclusive)          |"
   ]
  },
  {
   "cell_type": "markdown",
   "metadata": {},
   "source": [
    "Following the steps described in the previous section, we create a method called `clean_county` that normalizes an input county name."
   ]
  },
  {
   "cell_type": "code",
   "execution_count": 3,
   "metadata": {},
   "outputs": [],
   "source": [
    "def clean_county(county):\n",
    "    return (county\n",
    "            .lower()\n",
    "            .replace('county', '')\n",
    "            .replace('parish', '')\n",
    "            .replace('&', 'and')\n",
    "            .replace('.', '')\n",
    "            .replace(' ', ''))"
   ]
  },
  {
   "cell_type": "markdown",
   "metadata": {},
   "source": [
    "We may now verify that the `clean_county` method produces matching counties for all the counties in both tables:"
   ]
  },
  {
   "cell_type": "code",
   "execution_count": 4,
   "metadata": {},
   "outputs": [
    {
     "data": {
      "text/plain": [
       "(['dewitt', 'lacquiparle', 'lewisandclark', 'stjohnthebaptist'],\n",
       " ['dewitt', 'lacquiparle', 'lewisandclark', 'stjohnthebaptist'])"
      ]
     },
     "execution_count": 4,
     "metadata": {},
     "output_type": "execute_result"
    }
   ],
   "source": [
    "([clean_county(county) for county in election['County']],\n",
    " [clean_county(county) for county in census['County']]\n",
    ")"
   ]
  },
  {
   "cell_type": "markdown",
   "metadata": {},
   "source": [
    "Since each county name in both tables now has the same transformed representation, we may successfully join the two tables."
   ]
  },
  {
   "cell_type": "markdown",
   "metadata": {},
   "source": [
    "## String Methods in pandas\n",
    "\n",
    "In the code above we used a loop to transform each county name. `pandas` Series objects provide a convenient way to apply string methods to each item in the series. "
   ]
  },
  {
   "cell_type": "markdown",
   "metadata": {},
   "source": [
    "The `.str` property on `pandas` Series exposes the same string methods as Python does. Calling a method on the `.str` property calls the method on each item in the series.\n",
    "This allows us to transform each string in the series without using a loop.\n",
    "We save the transformed counties back into their originating tables:"
   ]
  },
  {
   "cell_type": "code",
   "execution_count": 5,
   "metadata": {},
   "outputs": [
    {
     "name": "stderr",
     "output_type": "stream",
     "text": [
      "<ipython-input-5-931149a8a573>:1: FutureWarning:\n",
      "\n",
      "The default value of regex will change from True to False in a future version. In addition, single character regular expressions will*not* be treated as literal strings when regex=True.\n",
      "\n",
      "<ipython-input-5-931149a8a573>:9: FutureWarning:\n",
      "\n",
      "The default value of regex will change from True to False in a future version. In addition, single character regular expressions will*not* be treated as literal strings when regex=True.\n",
      "\n"
     ]
    }
   ],
   "source": [
    "election['County'] = (election['County']\n",
    " .str.lower()\n",
    " .str.replace('parish', '')\n",
    " .str.replace('county', '')\n",
    " .str.replace('&', 'and')\n",
    " .str.replace('.', '')\n",
    " .str.replace(' ', ''))\n",
    "\n",
    "census['County'] = (census['County']\n",
    " .str.lower()\n",
    " .str.replace('parish', '')\n",
    " .str.replace('county', '')\n",
    " .str.replace('&', 'and')\n",
    " .str.replace('.', '')\n",
    " .str.replace(' ', ''))"
   ]
  },
  {
   "cell_type": "markdown",
   "metadata": {},
   "source": [
    "Now, the two tables should contain the same string representation of the county names and we can  join these tables."
   ]
  },
  {
   "cell_type": "code",
   "execution_count": 6,
   "metadata": {
    "colab": {
     "autoexec": {
      "startup": false,
      "wait_interval": 0
     }
    },
    "colab_type": "code",
    "id": "0O4O2juwwzwP",
    "outputId": "aae014e8-a341-4f05-fe65-7ecf672a24dc"
   },
   "outputs": [
    {
     "data": {
      "text/html": [
       "<div>\n",
       "<style scoped>\n",
       "    .dataframe tbody tr th:only-of-type {\n",
       "        vertical-align: middle;\n",
       "    }\n",
       "\n",
       "    .dataframe tbody tr th {\n",
       "        vertical-align: top;\n",
       "    }\n",
       "\n",
       "    .dataframe thead th {\n",
       "        text-align: right;\n",
       "    }\n",
       "</style>\n",
       "<table border=\"1\" class=\"dataframe\">\n",
       "  <thead>\n",
       "    <tr style=\"text-align: right;\">\n",
       "      <th></th>\n",
       "      <th>County</th>\n",
       "      <th>State</th>\n",
       "      <th>Voted</th>\n",
       "      <th>Population</th>\n",
       "    </tr>\n",
       "  </thead>\n",
       "  <tbody>\n",
       "    <tr>\n",
       "      <th>0</th>\n",
       "      <td>dewitt</td>\n",
       "      <td>IL</td>\n",
       "      <td>97.8</td>\n",
       "      <td>16,798</td>\n",
       "    </tr>\n",
       "    <tr>\n",
       "      <th>1</th>\n",
       "      <td>lacquiparle</td>\n",
       "      <td>MN</td>\n",
       "      <td>98.8</td>\n",
       "      <td>8,067</td>\n",
       "    </tr>\n",
       "    <tr>\n",
       "      <th>2</th>\n",
       "      <td>lewisandclark</td>\n",
       "      <td>MT</td>\n",
       "      <td>95.2</td>\n",
       "      <td>55,716</td>\n",
       "    </tr>\n",
       "    <tr>\n",
       "      <th>3</th>\n",
       "      <td>stjohnthebaptist</td>\n",
       "      <td>LA</td>\n",
       "      <td>52.6</td>\n",
       "      <td>43,044</td>\n",
       "    </tr>\n",
       "  </tbody>\n",
       "</table>\n",
       "</div>"
      ],
      "text/plain": [
       "             County State Voted Population\n",
       "0            dewitt    IL  97.8     16,798\n",
       "1       lacquiparle    MN  98.8      8,067\n",
       "2     lewisandclark    MT  95.2     55,716\n",
       "3  stjohnthebaptist    LA  52.6     43,044"
      ]
     },
     "execution_count": 6,
     "metadata": {},
     "output_type": "execute_result"
    }
   ],
   "source": [
    "election.merge(census, on=['County','State'])"
   ]
  },
  {
   "cell_type": "markdown",
   "metadata": {
    "colab_type": "text",
    "id": "3595dXFwwzwT"
   },
   "source": [
    "Note that we have merged on two columns: the county name and the state. We did this because some states have counties with the same name.  For example, California and New York both have a county called King.  \n",
    "\n",
    "Python's string methods form a set of simple and useful operations for string manipulation. `pandas` Series implement the same methods that apply the underlying Python method to each string in the series. You may find the complete docs on Python's `string` methods [here](https://docs.python.org/3/library/stdtypes.html#string-methods) and the docs on Pandas `str` methods [here](https://pandas.pydata.org/pandas-docs/stable/text.html#method-summary).\n",
    "\n",
    "We have carried out the first task with using only `str.lower()` and multiple calls to `str.replace()`. We tackle next the task of extracting text with another string method, `str.split()`."
   ]
  },
  {
   "cell_type": "markdown",
   "metadata": {},
   "source": [
    "## Extract a piece of text\n",
    "\n",
    "Recall the issue of extracting the date from a Web log entry (shown below) to create a feature. "
   ]
  },
  {
   "cell_type": "code",
   "execution_count": 7,
   "metadata": {
    "tags": [
     "remove-cell"
    ]
   },
   "outputs": [],
   "source": [
    "log_entry = r'169.237.46.168 - - [26/Jan/2004:10:47:58 -0800]\"GET /stat141/Winter04 HTTP/1.1\" 301 328 \"http://anson.ucdavis.edu/courses\"\"Mozilla/4.0 (compatible; MSIE 6.0; Windows NT 5.0; .NET CLR 1.1.4322)\"'"
   ]
  },
  {
   "cell_type": "code",
   "execution_count": 8,
   "metadata": {
    "tags": []
   },
   "outputs": [
    {
     "data": {
      "text/plain": [
       "'169.237.46.168 - - [26/Jan/2004:10:47:58 -0800]\"GET /stat141/Winter04 HTTP/1.1\" 301 328 \"http://anson.ucdavis.edu/courses\"\"Mozilla/4.0 (compatible; MSIE 6.0; Windows NT 5.0; .NET CLR 1.1.4322)\"'"
      ]
     },
     "execution_count": 8,
     "metadata": {},
     "output_type": "execute_result"
    }
   ],
   "source": [
    "log_entry"
   ]
  },
  {
   "cell_type": "markdown",
   "metadata": {},
   "source": [
    "String splitting can help us narrow in on the pieces of information that form the date. For example, when we split the string on the left bracket, we get two strings:"
   ]
  },
  {
   "cell_type": "code",
   "execution_count": 9,
   "metadata": {},
   "outputs": [
    {
     "data": {
      "text/plain": [
       "['169.237.46.168 - - ',\n",
       " '26/Jan/2004:10:47:58 -0800]\"GET /stat141/Winter04 HTTP/1.1\" 301 328 \"http://anson.ucdavis.edu/courses\"\"Mozilla/4.0 (compatible; MSIE 6.0; Windows NT 5.0; .NET CLR 1.1.4322)\"']"
      ]
     },
     "execution_count": 9,
     "metadata": {},
     "output_type": "execute_result"
    }
   ],
   "source": [
    "log_entry.split('[')"
   ]
  },
  {
   "cell_type": "markdown",
   "metadata": {},
   "source": [
    "The second string has the date information, and if we want the day, month, and year, we can split that string on a colon. "
   ]
  },
  {
   "cell_type": "code",
   "execution_count": 10,
   "metadata": {},
   "outputs": [
    {
     "data": {
      "text/plain": [
       "'26/Jan/2004'"
      ]
     },
     "execution_count": 10,
     "metadata": {},
     "output_type": "execute_result"
    }
   ],
   "source": [
    "log_entry.split('[')[1].split(':')[0]"
   ]
  },
  {
   "cell_type": "markdown",
   "metadata": {},
   "source": [
    "To separate out these three parts of the date, we can split on the forward slash. All together we split the original string three times, each time keeping only the pieces we are interested in. "
   ]
  },
  {
   "cell_type": "code",
   "execution_count": 11,
   "metadata": {},
   "outputs": [
    {
     "data": {
      "text/plain": [
       "['26', 'Jan', '2004']"
      ]
     },
     "execution_count": 11,
     "metadata": {},
     "output_type": "execute_result"
    }
   ],
   "source": [
    "(log_entry.split('[')[1]\n",
    " .split(':')[0]\n",
    " .split('/'))"
   ]
  },
  {
   "cell_type": "markdown",
   "metadata": {},
   "source": [
    "If we want to also get the hour, minute, second, and time zone of the activity, we can use `split()` six times all together to get these eight components. But, this approach feels a bit hacky. Instead, we can achieve the same results with the simple expression below."
   ]
  },
  {
   "cell_type": "code",
   "execution_count": 12,
   "metadata": {},
   "outputs": [
    {
     "data": {
      "text/plain": [
       "['26', 'Jan', '2004']"
      ]
     },
     "execution_count": 12,
     "metadata": {},
     "output_type": "execute_result"
    }
   ],
   "source": [
    "import re\n",
    "\n",
    "pattern = r'[\\[/:]' \n",
    "re.split(pattern, log_entry)[1:4]"
   ]
  },
  {
   "cell_type": "markdown",
   "metadata": {},
   "source": [
    "This alternative approach uses a regular expression. We introduce this powerful notion next."
   ]
  },
  {
   "cell_type": "code",
   "execution_count": null,
   "metadata": {},
   "outputs": [],
   "source": []
  }
 ],
 "metadata": {
  "colab": {
   "default_view": {},
   "name": "pythonstring.ipynb",
   "provenance": [],
   "version": "0.3.2",
   "views": {}
  },
  "kernelspec": {
   "display_name": "Python 3",
   "language": "python",
   "name": "python3"
  },
  "language_info": {
   "codemirror_mode": {
    "name": "ipython",
    "version": 3
   },
   "file_extension": ".py",
   "mimetype": "text/x-python",
   "name": "python",
   "nbconvert_exporter": "python",
   "pygments_lexer": "ipython3",
   "version": "3.9.4"
  },
  "toc": {
   "nav_menu": {},
   "number_sections": false,
   "sideBar": false,
   "skip_h1_title": false,
   "title_cell": "Table of Contents",
   "title_sidebar": "Contents",
   "toc_cell": true,
   "toc_position": {},
   "toc_section_display": true,
   "toc_window_display": false
  }
 },
 "nbformat": 4,
 "nbformat_minor": 4
}
