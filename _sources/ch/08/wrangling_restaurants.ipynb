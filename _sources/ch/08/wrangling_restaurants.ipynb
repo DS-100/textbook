{
 "cells": [
  {
   "cell_type": "code",
   "execution_count": 1,
   "metadata": {
    "tags": [
     "remove-cell"
    ]
   },
   "outputs": [],
   "source": [
    "# Reference: https://jupyterbook.org/interactive/hiding.html\n",
    "# Use {hide, remove}-{input, output, cell} tags to hiding content\n",
    "\n",
    "import numpy as np\n",
    "import matplotlib.pyplot as plt\n",
    "import pandas as pd\n",
    "import seaborn as sns\n",
    "%matplotlib inline\n",
    "import ipywidgets as widgets\n",
    "from ipywidgets import interact, interactive, fixed, interact_manual\n",
    "from IPython.display import display\n",
    "import myst_nb\n",
    "\n",
    "sns.set()\n",
    "sns.set_context('talk')\n",
    "np.set_printoptions(threshold=20, precision=2, suppress=True)\n",
    "pd.set_option('display.max_rows', 7)\n",
    "pd.set_option('display.max_columns', 8)\n",
    "pd.set_option('precision', 2)\n",
    "# This option stops scientific notation for pandas\n",
    "# pd.set_option('display.float_format', '{:.2f}'.format)\n",
    "\n",
    "def display_df(df, rows=pd.options.display.max_rows,\n",
    "               cols=pd.options.display.max_columns):\n",
    "    with pd.option_context('display.max_rows', rows,\n",
    "                           'display.max_columns', cols):\n",
    "        display(df)\n",
    "        "
   ]
  },
  {
   "cell_type": "code",
   "execution_count": null,
   "metadata": {
    "tags": [
     "remove-cell"
    ]
   },
   "outputs": [],
   "source": [
    "# businesses\n",
    "bus = pd.read_csv('data/businesses.csv', encoding='ISO-8859-1')\n",
    "\n",
    "def parse_dates_and_years(df, column='date'):\n",
    "    dates = pd.to_datetime(df[column], format=date_format)\n",
    "    years = dates.dt.year\n",
    "    return df.assign(timestamp=dates, year=years)\n",
    "\n",
    "# inspections\n",
    "insp = (pd.read_csv(\"data/inspections.csv\")\n",
    "        .pipe(parse_dates_and_years))\n",
    "\n",
    "# violations\n",
    "viol = (pd.read_csv(\"data/violations.csv\")\n",
    "        .pipe(parse_dates_and_years))"
   ]
  },
  {
   "cell_type": "markdown",
   "metadata": {},
   "source": [
    "(ch:wrangling_restaurants)=\n",
    "# Example: Wrangling Restaurant Safety Violations\n",
    "\n",
    "In this section, we demonstrate data wrangling techniques from this chapter on the restaurant safety dataset. The data are stored in three tables: `bus` (for businesses), `insp` (for inspections), and `viol` (for safety violations). The violations dataset contains detailed descriptions of violations found during an inspection. We would like to capture some of this information and connect it to the inspection score, which is in inspection-level dataset. \n",
    "\n",
    "We want to figure out: **what kinds of safety violations are associated with lower restaurant\n",
    "safety scores?**"
   ]
  },
  {
   "cell_type": "markdown",
   "metadata": {},
   "source": [
    "This example covers several key ideas in data wrangling related to changing structure:\n",
    "+ aggregation to modify the granularity of a table\n",
    "+ filtering to focus on a narrower segment of data\n",
    "+ joining to bring together information across tables\n",
    "\n",
    "Additionally, an important part of this example demonstrates how we transform text data into numeric quantities for analysis."
   ]
  },
  {
   "cell_type": "markdown",
   "metadata": {},
   "source": [
    "To get started let's peek at the first few rows of each table to remind ourselves of\n",
    "what they contain."
   ]
  },
  {
   "cell_type": "code",
   "execution_count": null,
   "metadata": {},
   "outputs": [],
   "source": [
    "print('bus:')\n",
    "display_df(bus.head(2), cols=4)\n",
    "\n",
    "# Note that we've already parsed timestamps and years for insp and viol \n",
    "print('insp:')\n",
    "display_df(insp.head(2))\n",
    "\n",
    "print('viol:')\n",
    "display_df(viol.head(2))\n"
   ]
  },
  {
   "cell_type": "markdown",
   "metadata": {},
   "source": [
    "## Narrowing the Focus"
   ]
  },
  {
   "cell_type": "markdown",
   "metadata": {},
   "source": [
    "As a first step, let's simplify the structure by reducing the data to inspections from one year. (Recall that this dataset contains four years of inspection information.)  Below we tally the number of records for each year in the inspections table."
   ]
  },
  {
   "cell_type": "code",
   "execution_count": 49,
   "metadata": {},
   "outputs": [
    {
     "data": {
      "text/plain": [
       "2016    5443\n",
       "2017    5166\n",
       "2015    3305\n",
       "2018     308\n",
       "Name: year, dtype: int64"
      ]
     },
     "execution_count": 49,
     "metadata": {},
     "output_type": "execute_result"
    }
   ],
   "source": [
    "pd.value_counts(insp['year'])"
   ]
  },
  {
   "cell_type": "markdown",
   "metadata": {},
   "source": [
    "Let's take a subset of the data, restricting our preparations to inspections that took place in 2016. Here, we'll use the pipe function once again to apply the same transformation to both the inspections and violations data frames."
   ]
  },
  {
   "cell_type": "code",
   "execution_count": 50,
   "metadata": {},
   "outputs": [],
   "source": [
    "def subset_2016(df):\n",
    "    return df.query('year == 2016')\n",
    "\n",
    "vio2016 = viol.pipe(subset_2016)\n",
    "ins2016 = insp.pipe(subset_2016)"
   ]
  },
  {
   "cell_type": "code",
   "execution_count": 52,
   "metadata": {},
   "outputs": [
    {
     "data": {
      "text/html": [
       "<div>\n",
       "<style scoped>\n",
       "    .dataframe tbody tr th:only-of-type {\n",
       "        vertical-align: middle;\n",
       "    }\n",
       "\n",
       "    .dataframe tbody tr th {\n",
       "        vertical-align: top;\n",
       "    }\n",
       "\n",
       "    .dataframe thead th {\n",
       "        text-align: right;\n",
       "    }\n",
       "</style>\n",
       "<table border=\"1\" class=\"dataframe\">\n",
       "  <thead>\n",
       "    <tr style=\"text-align: right;\">\n",
       "      <th></th>\n",
       "      <th>business_id</th>\n",
       "      <th>score</th>\n",
       "      <th>date</th>\n",
       "      <th>type</th>\n",
       "      <th>timestamp</th>\n",
       "      <th>year</th>\n",
       "    </tr>\n",
       "  </thead>\n",
       "  <tbody>\n",
       "    <tr>\n",
       "      <th>0</th>\n",
       "      <td>19</td>\n",
       "      <td>94</td>\n",
       "      <td>20160513</td>\n",
       "      <td>routine</td>\n",
       "      <td>2016-05-13</td>\n",
       "      <td>2016</td>\n",
       "    </tr>\n",
       "    <tr>\n",
       "      <th>3</th>\n",
       "      <td>24</td>\n",
       "      <td>98</td>\n",
       "      <td>20161005</td>\n",
       "      <td>routine</td>\n",
       "      <td>2016-10-05</td>\n",
       "      <td>2016</td>\n",
       "    </tr>\n",
       "    <tr>\n",
       "      <th>4</th>\n",
       "      <td>24</td>\n",
       "      <td>96</td>\n",
       "      <td>20160311</td>\n",
       "      <td>routine</td>\n",
       "      <td>2016-03-11</td>\n",
       "      <td>2016</td>\n",
       "    </tr>\n",
       "    <tr>\n",
       "      <th>...</th>\n",
       "      <td>...</td>\n",
       "      <td>...</td>\n",
       "      <td>...</td>\n",
       "      <td>...</td>\n",
       "      <td>...</td>\n",
       "      <td>...</td>\n",
       "    </tr>\n",
       "    <tr>\n",
       "      <th>13820</th>\n",
       "      <td>90096</td>\n",
       "      <td>91</td>\n",
       "      <td>20161229</td>\n",
       "      <td>routine</td>\n",
       "      <td>2016-12-29</td>\n",
       "      <td>2016</td>\n",
       "    </tr>\n",
       "    <tr>\n",
       "      <th>13850</th>\n",
       "      <td>90268</td>\n",
       "      <td>100</td>\n",
       "      <td>20161229</td>\n",
       "      <td>routine</td>\n",
       "      <td>2016-12-29</td>\n",
       "      <td>2016</td>\n",
       "    </tr>\n",
       "    <tr>\n",
       "      <th>13852</th>\n",
       "      <td>90269</td>\n",
       "      <td>100</td>\n",
       "      <td>20161229</td>\n",
       "      <td>routine</td>\n",
       "      <td>2016-12-29</td>\n",
       "      <td>2016</td>\n",
       "    </tr>\n",
       "  </tbody>\n",
       "</table>\n",
       "<p>5443 rows × 6 columns</p>\n",
       "</div>"
      ],
      "text/plain": [
       "       business_id  score      date     type  timestamp  year\n",
       "0               19     94  20160513  routine 2016-05-13  2016\n",
       "3               24     98  20161005  routine 2016-10-05  2016\n",
       "4               24     96  20160311  routine 2016-03-11  2016\n",
       "...            ...    ...       ...      ...        ...   ...\n",
       "13820        90096     91  20161229  routine 2016-12-29  2016\n",
       "13850        90268    100  20161229  routine 2016-12-29  2016\n",
       "13852        90269    100  20161229  routine 2016-12-29  2016\n",
       "\n",
       "[5443 rows x 6 columns]"
      ]
     },
     "execution_count": 52,
     "metadata": {},
     "output_type": "execute_result"
    }
   ],
   "source": [
    "ins2016"
   ]
  },
  {
   "cell_type": "markdown",
   "metadata": {},
   "source": [
    "Recall that `timestamp` contains the parsed timestamps. From the previous section on granularity, we also found that `business_id` and `timestamp` together uniquely identify the inspections (with a couple of exceptions).\n",
    "\n",
    "By looking at the first few rows of `ins2016`, we can see that restaurants can receive multiple inspections in a year---business \\#24 had two inspections in 2016, one in March and another in October. "
   ]
  },
  {
   "cell_type": "code",
   "execution_count": 54,
   "metadata": {},
   "outputs": [
    {
     "data": {
      "text/html": [
       "<div>\n",
       "<style scoped>\n",
       "    .dataframe tbody tr th:only-of-type {\n",
       "        vertical-align: middle;\n",
       "    }\n",
       "\n",
       "    .dataframe tbody tr th {\n",
       "        vertical-align: top;\n",
       "    }\n",
       "\n",
       "    .dataframe thead th {\n",
       "        text-align: right;\n",
       "    }\n",
       "</style>\n",
       "<table border=\"1\" class=\"dataframe\">\n",
       "  <thead>\n",
       "    <tr style=\"text-align: right;\">\n",
       "      <th></th>\n",
       "      <th>business_id</th>\n",
       "      <th>date</th>\n",
       "      <th>description</th>\n",
       "      <th>timestamp</th>\n",
       "      <th>year</th>\n",
       "    </tr>\n",
       "  </thead>\n",
       "  <tbody>\n",
       "    <tr>\n",
       "      <th>2</th>\n",
       "      <td>19</td>\n",
       "      <td>20160513</td>\n",
       "      <td>Unapproved or unmaintained equipment or utensi...</td>\n",
       "      <td>2016-05-13</td>\n",
       "      <td>2016</td>\n",
       "    </tr>\n",
       "    <tr>\n",
       "      <th>3</th>\n",
       "      <td>19</td>\n",
       "      <td>20160513</td>\n",
       "      <td>Unclean or degraded floors walls or ceilings  ...</td>\n",
       "      <td>2016-05-13</td>\n",
       "      <td>2016</td>\n",
       "    </tr>\n",
       "    <tr>\n",
       "      <th>4</th>\n",
       "      <td>19</td>\n",
       "      <td>20160513</td>\n",
       "      <td>Food safety certificate or food handler card n...</td>\n",
       "      <td>2016-05-13</td>\n",
       "      <td>2016</td>\n",
       "    </tr>\n",
       "    <tr>\n",
       "      <th>...</th>\n",
       "      <td>...</td>\n",
       "      <td>...</td>\n",
       "      <td>...</td>\n",
       "      <td>...</td>\n",
       "      <td>...</td>\n",
       "    </tr>\n",
       "    <tr>\n",
       "      <th>38147</th>\n",
       "      <td>89900</td>\n",
       "      <td>20161206</td>\n",
       "      <td>No hot water or running water  [ date violatio...</td>\n",
       "      <td>2016-12-06</td>\n",
       "      <td>2016</td>\n",
       "    </tr>\n",
       "    <tr>\n",
       "      <th>38220</th>\n",
       "      <td>90096</td>\n",
       "      <td>20161229</td>\n",
       "      <td>No plan review or Building Permit  [ date viol...</td>\n",
       "      <td>2016-12-29</td>\n",
       "      <td>2016</td>\n",
       "    </tr>\n",
       "    <tr>\n",
       "      <th>38221</th>\n",
       "      <td>90096</td>\n",
       "      <td>20161229</td>\n",
       "      <td>Unclean or unsanitary food contact surfaces  [...</td>\n",
       "      <td>2016-12-29</td>\n",
       "      <td>2016</td>\n",
       "    </tr>\n",
       "  </tbody>\n",
       "</table>\n",
       "<p>15624 rows × 5 columns</p>\n",
       "</div>"
      ],
      "text/plain": [
       "       business_id      date  \\\n",
       "2               19  20160513   \n",
       "3               19  20160513   \n",
       "4               19  20160513   \n",
       "...            ...       ...   \n",
       "38147        89900  20161206   \n",
       "38220        90096  20161229   \n",
       "38221        90096  20161229   \n",
       "\n",
       "                                             description  timestamp  year  \n",
       "2      Unapproved or unmaintained equipment or utensi... 2016-05-13  2016  \n",
       "3      Unclean or degraded floors walls or ceilings  ... 2016-05-13  2016  \n",
       "4      Food safety certificate or food handler card n... 2016-05-13  2016  \n",
       "...                                                  ...        ...   ...  \n",
       "38147  No hot water or running water  [ date violatio... 2016-12-06  2016  \n",
       "38220  No plan review or Building Permit  [ date viol... 2016-12-29  2016  \n",
       "38221  Unclean or unsanitary food contact surfaces  [... 2016-12-29  2016  \n",
       "\n",
       "[15624 rows x 5 columns]"
      ]
     },
     "execution_count": 54,
     "metadata": {},
     "output_type": "execute_result"
    }
   ],
   "source": [
    "vio2016.head(6)"
   ]
  },
  {
   "cell_type": "markdown",
   "metadata": {},
   "source": [
    "Notice that the first few records in the `vio2016` dataframe are all for the same restaurant."
   ]
  },
  {
   "cell_type": "markdown",
   "metadata": {},
   "source": [
    "## Aggregating Violations \n",
    "\n",
    "Do restaurants with more violations have lower safety scores? To check this, we can count the number of violations in an inspections. To find this count, we can group this table by `business_id` and `timestamp`, then find the size of each group. Essentially, this grouping changes the granularity of violations to an inspection level."
   ]
  },
  {
   "cell_type": "code",
   "execution_count": 56,
   "metadata": {},
   "outputs": [
    {
     "data": {
      "text/html": [
       "<div>\n",
       "<style scoped>\n",
       "    .dataframe tbody tr th:only-of-type {\n",
       "        vertical-align: middle;\n",
       "    }\n",
       "\n",
       "    .dataframe tbody tr th {\n",
       "        vertical-align: top;\n",
       "    }\n",
       "\n",
       "    .dataframe thead th {\n",
       "        text-align: right;\n",
       "    }\n",
       "</style>\n",
       "<table border=\"1\" class=\"dataframe\">\n",
       "  <thead>\n",
       "    <tr style=\"text-align: right;\">\n",
       "      <th></th>\n",
       "      <th>business_id</th>\n",
       "      <th>timestamp</th>\n",
       "      <th>num_vio</th>\n",
       "    </tr>\n",
       "  </thead>\n",
       "  <tbody>\n",
       "    <tr>\n",
       "      <th>0</th>\n",
       "      <td>19</td>\n",
       "      <td>2016-05-13</td>\n",
       "      <td>3</td>\n",
       "    </tr>\n",
       "    <tr>\n",
       "      <th>1</th>\n",
       "      <td>24</td>\n",
       "      <td>2016-03-11</td>\n",
       "      <td>2</td>\n",
       "    </tr>\n",
       "    <tr>\n",
       "      <th>2</th>\n",
       "      <td>24</td>\n",
       "      <td>2016-10-05</td>\n",
       "      <td>1</td>\n",
       "    </tr>\n",
       "    <tr>\n",
       "      <th>...</th>\n",
       "      <td>...</td>\n",
       "      <td>...</td>\n",
       "      <td>...</td>\n",
       "    </tr>\n",
       "    <tr>\n",
       "      <th>4803</th>\n",
       "      <td>89790</td>\n",
       "      <td>2016-11-29</td>\n",
       "      <td>1</td>\n",
       "    </tr>\n",
       "    <tr>\n",
       "      <th>4804</th>\n",
       "      <td>89900</td>\n",
       "      <td>2016-12-06</td>\n",
       "      <td>1</td>\n",
       "    </tr>\n",
       "    <tr>\n",
       "      <th>4805</th>\n",
       "      <td>90096</td>\n",
       "      <td>2016-12-29</td>\n",
       "      <td>2</td>\n",
       "    </tr>\n",
       "  </tbody>\n",
       "</table>\n",
       "<p>4806 rows × 3 columns</p>\n",
       "</div>"
      ],
      "text/plain": [
       "      business_id  timestamp  num_vio\n",
       "0              19 2016-05-13        3\n",
       "1              24 2016-03-11        2\n",
       "2              24 2016-10-05        1\n",
       "...           ...        ...      ...\n",
       "4803        89790 2016-11-29        1\n",
       "4804        89900 2016-12-06        1\n",
       "4805        90096 2016-12-29        2\n",
       "\n",
       "[4806 rows x 3 columns]"
      ]
     },
     "execution_count": 56,
     "metadata": {},
     "output_type": "execute_result"
    }
   ],
   "source": [
    "num_vios = (vio2016\n",
    "            .groupby(['business_id', 'timestamp'])\n",
    "            .size()\n",
    "            .reset_index()\n",
    "            .rename(columns={0: 'num_vio'}));\n",
    "num_vios"
   ]
  },
  {
   "cell_type": "markdown",
   "metadata": {},
   "source": [
    "Now we want to merge num_vios with `ins2016`. What kind of merge do we want to\n",
    "perform? We want a *left join* of `ins2016` with `num_vios` because there could\n",
    "be inspections that do not have any violations."
   ]
  },
  {
   "cell_type": "code",
   "execution_count": 83,
   "metadata": {},
   "outputs": [
    {
     "data": {
      "text/html": [
       "<div>\n",
       "<style scoped>\n",
       "    .dataframe tbody tr th:only-of-type {\n",
       "        vertical-align: middle;\n",
       "    }\n",
       "\n",
       "    .dataframe tbody tr th {\n",
       "        vertical-align: top;\n",
       "    }\n",
       "\n",
       "    .dataframe thead th {\n",
       "        text-align: right;\n",
       "    }\n",
       "</style>\n",
       "<table border=\"1\" class=\"dataframe\">\n",
       "  <thead>\n",
       "    <tr style=\"text-align: right;\">\n",
       "      <th></th>\n",
       "      <th>business_id</th>\n",
       "      <th>score</th>\n",
       "      <th>date</th>\n",
       "      <th>type</th>\n",
       "      <th>timestamp</th>\n",
       "      <th>year</th>\n",
       "      <th>num_vio</th>\n",
       "    </tr>\n",
       "  </thead>\n",
       "  <tbody>\n",
       "    <tr>\n",
       "      <th>0</th>\n",
       "      <td>19</td>\n",
       "      <td>94</td>\n",
       "      <td>20160513</td>\n",
       "      <td>routine</td>\n",
       "      <td>2016-05-13</td>\n",
       "      <td>2016</td>\n",
       "      <td>3.0</td>\n",
       "    </tr>\n",
       "    <tr>\n",
       "      <th>1</th>\n",
       "      <td>24</td>\n",
       "      <td>98</td>\n",
       "      <td>20161005</td>\n",
       "      <td>routine</td>\n",
       "      <td>2016-10-05</td>\n",
       "      <td>2016</td>\n",
       "      <td>1.0</td>\n",
       "    </tr>\n",
       "    <tr>\n",
       "      <th>2</th>\n",
       "      <td>24</td>\n",
       "      <td>96</td>\n",
       "      <td>20160311</td>\n",
       "      <td>routine</td>\n",
       "      <td>2016-03-11</td>\n",
       "      <td>2016</td>\n",
       "      <td>2.0</td>\n",
       "    </tr>\n",
       "    <tr>\n",
       "      <th>...</th>\n",
       "      <td>...</td>\n",
       "      <td>...</td>\n",
       "      <td>...</td>\n",
       "      <td>...</td>\n",
       "      <td>...</td>\n",
       "      <td>...</td>\n",
       "      <td>...</td>\n",
       "    </tr>\n",
       "    <tr>\n",
       "      <th>5440</th>\n",
       "      <td>90096</td>\n",
       "      <td>91</td>\n",
       "      <td>20161229</td>\n",
       "      <td>routine</td>\n",
       "      <td>2016-12-29</td>\n",
       "      <td>2016</td>\n",
       "      <td>2.0</td>\n",
       "    </tr>\n",
       "    <tr>\n",
       "      <th>5441</th>\n",
       "      <td>90268</td>\n",
       "      <td>100</td>\n",
       "      <td>20161229</td>\n",
       "      <td>routine</td>\n",
       "      <td>2016-12-29</td>\n",
       "      <td>2016</td>\n",
       "      <td>NaN</td>\n",
       "    </tr>\n",
       "    <tr>\n",
       "      <th>5442</th>\n",
       "      <td>90269</td>\n",
       "      <td>100</td>\n",
       "      <td>20161229</td>\n",
       "      <td>routine</td>\n",
       "      <td>2016-12-29</td>\n",
       "      <td>2016</td>\n",
       "      <td>NaN</td>\n",
       "    </tr>\n",
       "  </tbody>\n",
       "</table>\n",
       "<p>5443 rows × 7 columns</p>\n",
       "</div>"
      ],
      "text/plain": [
       "      business_id  score      date     type  timestamp  year  num_vio\n",
       "0              19     94  20160513  routine 2016-05-13  2016      3.0\n",
       "1              24     98  20161005  routine 2016-10-05  2016      1.0\n",
       "2              24     96  20160311  routine 2016-03-11  2016      2.0\n",
       "...           ...    ...       ...      ...        ...   ...      ...\n",
       "5440        90096     91  20161229  routine 2016-12-29  2016      2.0\n",
       "5441        90268    100  20161229  routine 2016-12-29  2016      NaN\n",
       "5442        90269    100  20161229  routine 2016-12-29  2016      NaN\n",
       "\n",
       "[5443 rows x 7 columns]"
      ]
     },
     "execution_count": 83,
     "metadata": {},
     "output_type": "execute_result"
    }
   ],
   "source": [
    "def left_join_vios(ins):\n",
    "    return ins.merge(num_vios, on=['business_id', 'timestamp'], how='left')\n",
    "\n",
    "ins_and_num_vios = ins2016.pipe(left_join_vios)\n",
    "ins_and_num_vios"
   ]
  },
  {
   "cell_type": "markdown",
   "metadata": {},
   "source": [
    "When there are no violations for an inspection, the feature `num_vio` will have\n",
    "a missing value (`NaN`). We can check how many values are missing:"
   ]
  },
  {
   "cell_type": "code",
   "execution_count": 84,
   "metadata": {},
   "outputs": [
    {
     "data": {
      "text/plain": [
       "833"
      ]
     },
     "execution_count": 84,
     "metadata": {},
     "output_type": "execute_result"
    }
   ],
   "source": [
    "ins_and_num_vios['num_vio'].isnull().sum()"
   ]
  },
  {
   "cell_type": "markdown",
   "metadata": {},
   "source": [
    "So, about 15% of restaurant inspections in 2016 found no safety violations. "
   ]
  },
  {
   "cell_type": "markdown",
   "metadata": {},
   "source": [
    "We'd expect that if a restaurant received a perfect safety score of 100, the restaurant had no violations. So, we can correct these missing values by setting them to 0. This is an example of deductive imputation, since we're using domain knowledge to fill in missing values."
   ]
  },
  {
   "cell_type": "code",
   "execution_count": 85,
   "metadata": {},
   "outputs": [
    {
     "data": {
      "text/html": [
       "<div>\n",
       "<style scoped>\n",
       "    .dataframe tbody tr th:only-of-type {\n",
       "        vertical-align: middle;\n",
       "    }\n",
       "\n",
       "    .dataframe tbody tr th {\n",
       "        vertical-align: top;\n",
       "    }\n",
       "\n",
       "    .dataframe thead th {\n",
       "        text-align: right;\n",
       "    }\n",
       "</style>\n",
       "<table border=\"1\" class=\"dataframe\">\n",
       "  <thead>\n",
       "    <tr style=\"text-align: right;\">\n",
       "      <th></th>\n",
       "      <th>business_id</th>\n",
       "      <th>score</th>\n",
       "      <th>date</th>\n",
       "      <th>type</th>\n",
       "      <th>timestamp</th>\n",
       "      <th>year</th>\n",
       "      <th>num_vio</th>\n",
       "    </tr>\n",
       "  </thead>\n",
       "  <tbody>\n",
       "    <tr>\n",
       "      <th>0</th>\n",
       "      <td>19</td>\n",
       "      <td>94</td>\n",
       "      <td>20160513</td>\n",
       "      <td>routine</td>\n",
       "      <td>2016-05-13</td>\n",
       "      <td>2016</td>\n",
       "      <td>3.0</td>\n",
       "    </tr>\n",
       "    <tr>\n",
       "      <th>1</th>\n",
       "      <td>24</td>\n",
       "      <td>98</td>\n",
       "      <td>20161005</td>\n",
       "      <td>routine</td>\n",
       "      <td>2016-10-05</td>\n",
       "      <td>2016</td>\n",
       "      <td>1.0</td>\n",
       "    </tr>\n",
       "    <tr>\n",
       "      <th>2</th>\n",
       "      <td>24</td>\n",
       "      <td>96</td>\n",
       "      <td>20160311</td>\n",
       "      <td>routine</td>\n",
       "      <td>2016-03-11</td>\n",
       "      <td>2016</td>\n",
       "      <td>2.0</td>\n",
       "    </tr>\n",
       "    <tr>\n",
       "      <th>...</th>\n",
       "      <td>...</td>\n",
       "      <td>...</td>\n",
       "      <td>...</td>\n",
       "      <td>...</td>\n",
       "      <td>...</td>\n",
       "      <td>...</td>\n",
       "      <td>...</td>\n",
       "    </tr>\n",
       "    <tr>\n",
       "      <th>5440</th>\n",
       "      <td>90096</td>\n",
       "      <td>91</td>\n",
       "      <td>20161229</td>\n",
       "      <td>routine</td>\n",
       "      <td>2016-12-29</td>\n",
       "      <td>2016</td>\n",
       "      <td>2.0</td>\n",
       "    </tr>\n",
       "    <tr>\n",
       "      <th>5441</th>\n",
       "      <td>90268</td>\n",
       "      <td>100</td>\n",
       "      <td>20161229</td>\n",
       "      <td>routine</td>\n",
       "      <td>2016-12-29</td>\n",
       "      <td>2016</td>\n",
       "      <td>0.0</td>\n",
       "    </tr>\n",
       "    <tr>\n",
       "      <th>5442</th>\n",
       "      <td>90269</td>\n",
       "      <td>100</td>\n",
       "      <td>20161229</td>\n",
       "      <td>routine</td>\n",
       "      <td>2016-12-29</td>\n",
       "      <td>2016</td>\n",
       "      <td>0.0</td>\n",
       "    </tr>\n",
       "  </tbody>\n",
       "</table>\n",
       "<p>5443 rows × 7 columns</p>\n",
       "</div>"
      ],
      "text/plain": [
       "      business_id  score      date     type  timestamp  year  num_vio\n",
       "0              19     94  20160513  routine 2016-05-13  2016      3.0\n",
       "1              24     98  20161005  routine 2016-10-05  2016      1.0\n",
       "2              24     96  20160311  routine 2016-03-11  2016      2.0\n",
       "...           ...    ...       ...      ...        ...   ...      ...\n",
       "5440        90096     91  20161229  routine 2016-12-29  2016      2.0\n",
       "5441        90268    100  20161229  routine 2016-12-29  2016      0.0\n",
       "5442        90269    100  20161229  routine 2016-12-29  2016      0.0\n",
       "\n",
       "[5443 rows x 7 columns]"
      ]
     },
     "execution_count": 85,
     "metadata": {},
     "output_type": "execute_result"
    }
   ],
   "source": [
    "def zero_vios_for_perfect_scores(df):\n",
    "    df = df.copy()\n",
    "    df.loc[df['score'] == 100, 'num_vio'] = 0\n",
    "    return df\n",
    "\n",
    "ins_and_num_vios = (ins2016.pipe(left_join_vios)\n",
    "                    .pipe(zero_vios_for_perfect_scores))\n",
    "ins_and_num_vios"
   ]
  },
  {
   "cell_type": "markdown",
   "metadata": {},
   "source": [
    "Now, there are only 65 missing violation counts:"
   ]
  },
  {
   "cell_type": "code",
   "execution_count": 86,
   "metadata": {},
   "outputs": [
    {
     "data": {
      "text/plain": [
       "65"
      ]
     },
     "execution_count": 86,
     "metadata": {},
     "output_type": "execute_result"
    }
   ],
   "source": [
    "ins_and_num_vios['num_vio'].isnull().sum()"
   ]
  },
  {
   "cell_type": "markdown",
   "metadata": {},
   "source": [
    "We have corrected a large number of missing values. With further investigation,\n",
    "we find that some of the businesses have inspection dates in `ins2016` that\n",
    "differ from the dates in `vio2016` by one or two days. We could change the\n",
    "dates in `vio2016` if we wanted to fix additional missing data. We leave this\n",
    "as an exercise for the reader. \n",
    "\n",
    "Now, let's examine the relationship between the number of violations and the\n",
    "inspection score."
   ]
  },
  {
   "cell_type": "code",
   "execution_count": 87,
   "metadata": {},
   "outputs": [
    {
     "data": {
      "image/png": "[encoded data removed]",
      "text/plain": [
       "<Figure size 720x288 with 1 Axes>"
      ]
     },
     "metadata": {},
     "output_type": "display_data"
    }
   ],
   "source": [
    "plt.figure(figsize=(10, 4))\n",
    "sns.stripplot(x=\"num_vio\", y=\"score\", data=ins_and_num_vios);"
   ]
  },
  {
   "cell_type": "markdown",
   "metadata": {},
   "source": [
    "As we might expect there is a negative relationship between the inspection score and the number of violations found during the inspection. We can also see\n",
    "variability in score. Restaurants with four violations, have a spread in scores, and the variability in scores grows with the number of violations. It appears that some\n",
    "violations are more serious than others and have a greater impact on the score."
   ]
  },
  {
   "cell_type": "markdown",
   "metadata": {},
   "source": [
    "## Extracting Information from Violation Descriptions"
   ]
  },
  {
   "cell_type": "markdown",
   "metadata": {},
   "source": [
    "How can we use the information in the description of the violation to capture\n",
    "the kind of violation that has occurred? We saw earlier that the feature description in the violations data frame has a lot of text, including information in square brackets about when the violation was corrected. We can tally the descriptions and examine the most common\n",
    "violations."
   ]
  },
  {
   "cell_type": "code",
   "execution_count": 71,
   "metadata": {},
   "outputs": [
    {
     "data": {
      "text/plain": [
       "Unclean or degraded floors walls or ceilings                                 161\n",
       "Unapproved or unmaintained equipment or utensils                              99\n",
       "Moderate risk food holding temperature                                        95\n",
       "Inadequate and inaccessible handwashing facilities                            93\n",
       "Inadequately cleaned or sanitized food contact surfaces                       92\n",
       "Improper food storage                                                         81\n",
       "Wiping cloths not clean or properly stored or inadequate sanitizer            71\n",
       "Food safety certificate or food handler card not available                    64\n",
       "Moderate risk vermin infestation                                              58\n",
       "Foods not protected from contamination                                        56\n",
       "Unclean nonfood contact surfaces                                              54\n",
       "Inadequate food safety knowledge or lack of certified food safety manager     52\n",
       "Permit license or inspection report not posted                                41\n",
       "Improper storage of equipment utensils or linens                              41\n",
       "Low risk vermin infestation                                                   34\n",
       "High risk food holding temperature                                            32\n",
       "Inadequate warewashing facilities or equipment                                31\n",
       "Improper or defective plumbing                                                28\n",
       "Inadequate ventilation or lighting                                            26\n",
       "Unclean or unsanitary food contact surfaces                                   23\n",
       "Name: description, dtype: int64"
      ]
     },
     "metadata": {},
     "output_type": "display_data"
    }
   ],
   "source": [
    "display_df(vio2016['description'].value_counts().head(20), rows=20)"
   ]
  },
  {
   "cell_type": "markdown",
   "metadata": {},
   "source": [
    "These descriptions are long and wordy. Reading through them, we see that some are related to the cleanliness of facilities, others are related to the food storage, and still others pertain to the cleanliness of the staff.\n",
    "\n",
    "Since there are many types of violations, we'd like to group violations together into larger categories. One way to do this is to create a simple boolean flag depending on what the violation text contains. For example, we can create a feature called `is_high_risk`, that contains `True` if if a description contains the term \"high risk\"."
   ]
  },
  {
   "cell_type": "markdown",
   "metadata": {},
   "source": [
    "We'll create eight new features for different categories of violations. Don't\n",
    "worry about the particular details of the code for now---this code uses\n",
    "regular expressions, covered in the later {ref}`ch:text` chapter. The important\n",
    "idea is that this code creates features containing `True` or `False` based on\n",
    "whether the violation description contains specific words."
   ]
  },
  {
   "cell_type": "code",
   "execution_count": 76,
   "metadata": {},
   "outputs": [],
   "source": [
    "def make_vio_categories(vio):\n",
    "    def has(term):\n",
    "        return vio['description'].str.contains(term)\n",
    "\n",
    "    vio = vio.copy()\n",
    "    vio['is_high_risk'] = has(r\"high risk\")\n",
    "    vio['is_clean'] = has(r\"clean|sanit\")\n",
    "    vio['is_food_surface'] = (has(r\"surface\") & has(r\"\\Wfood\"))\n",
    "    vio['is_vermin'] = has(r\"vermin\")\n",
    "    vio['is_storage'] = has(r\"thaw|cool|therm|storage\")\n",
    "    vio['is_display_permit'] = has(r\"certificate|permit\")\n",
    "    vio['is_non_food_surface'] = has(r\"wall|ceiling|floor|surface\")\n",
    "    vio['is_human'] = has(r\"hand|glove|hair|nail\")\n",
    "    return vio"
   ]
  },
  {
   "cell_type": "code",
   "execution_count": 88,
   "metadata": {},
   "outputs": [
    {
     "data": {
      "text/html": [
       "<div>\n",
       "<style scoped>\n",
       "    .dataframe tbody tr th:only-of-type {\n",
       "        vertical-align: middle;\n",
       "    }\n",
       "\n",
       "    .dataframe tbody tr th {\n",
       "        vertical-align: top;\n",
       "    }\n",
       "\n",
       "    .dataframe thead th {\n",
       "        text-align: right;\n",
       "    }\n",
       "</style>\n",
       "<table border=\"1\" class=\"dataframe\">\n",
       "  <thead>\n",
       "    <tr style=\"text-align: right;\">\n",
       "      <th></th>\n",
       "      <th>business_id</th>\n",
       "      <th>date</th>\n",
       "      <th>description</th>\n",
       "      <th>timestamp</th>\n",
       "      <th>...</th>\n",
       "      <th>is_storage</th>\n",
       "      <th>is_display_permit</th>\n",
       "      <th>is_non_food_surface</th>\n",
       "      <th>is_human</th>\n",
       "    </tr>\n",
       "  </thead>\n",
       "  <tbody>\n",
       "    <tr>\n",
       "      <th>2</th>\n",
       "      <td>19</td>\n",
       "      <td>20160513</td>\n",
       "      <td>Unapproved or unmaintained equipment or utensi...</td>\n",
       "      <td>2016-05-13</td>\n",
       "      <td>...</td>\n",
       "      <td>False</td>\n",
       "      <td>False</td>\n",
       "      <td>False</td>\n",
       "      <td>False</td>\n",
       "    </tr>\n",
       "    <tr>\n",
       "      <th>3</th>\n",
       "      <td>19</td>\n",
       "      <td>20160513</td>\n",
       "      <td>Unclean or degraded floors walls or ceilings  ...</td>\n",
       "      <td>2016-05-13</td>\n",
       "      <td>...</td>\n",
       "      <td>False</td>\n",
       "      <td>False</td>\n",
       "      <td>True</td>\n",
       "      <td>False</td>\n",
       "    </tr>\n",
       "  </tbody>\n",
       "</table>\n",
       "<p>2 rows × 13 columns</p>\n",
       "</div>"
      ],
      "text/plain": [
       "   business_id      date                                        description  \\\n",
       "2           19  20160513  Unapproved or unmaintained equipment or utensi...   \n",
       "3           19  20160513  Unclean or degraded floors walls or ceilings  ...   \n",
       "\n",
       "   timestamp  ...  is_storage  is_display_permit  is_non_food_surface  \\\n",
       "2 2016-05-13  ...       False              False                False   \n",
       "3 2016-05-13  ...       False              False                 True   \n",
       "\n",
       "   is_human  \n",
       "2     False  \n",
       "3     False  \n",
       "\n",
       "[2 rows x 13 columns]"
      ]
     },
     "execution_count": 88,
     "metadata": {},
     "output_type": "execute_result"
    }
   ],
   "source": [
    "# The violations with the new categories\n",
    "vio2016 = (viol.pipe(subset_2016)\n",
    "           .pipe(make_vio_categories))\n",
    "vio2016.head(2)"
   ]
  },
  {
   "cell_type": "markdown",
   "metadata": {},
   "source": [
    "Now that we have these new features in `vio2016`, we again want to merge this\n",
    "information with the inspection information. We roll up the violations again to\n",
    "the restaurant/date level and track whether any of the values in the group is\n",
    "`True`."
   ]
  },
  {
   "cell_type": "code",
   "execution_count": 81,
   "metadata": {},
   "outputs": [
    {
     "data": {
      "text/html": [
       "<div>\n",
       "<style scoped>\n",
       "    .dataframe tbody tr th:only-of-type {\n",
       "        vertical-align: middle;\n",
       "    }\n",
       "\n",
       "    .dataframe tbody tr th {\n",
       "        vertical-align: top;\n",
       "    }\n",
       "\n",
       "    .dataframe thead th {\n",
       "        text-align: right;\n",
       "    }\n",
       "</style>\n",
       "<table border=\"1\" class=\"dataframe\">\n",
       "  <thead>\n",
       "    <tr style=\"text-align: right;\">\n",
       "      <th></th>\n",
       "      <th></th>\n",
       "      <th>is_high_risk</th>\n",
       "      <th>is_clean</th>\n",
       "      <th>is_food_surface</th>\n",
       "      <th>is_vermin</th>\n",
       "      <th>is_storage</th>\n",
       "      <th>is_display_permit</th>\n",
       "      <th>is_non_food_surface</th>\n",
       "      <th>is_human</th>\n",
       "    </tr>\n",
       "    <tr>\n",
       "      <th>business_id</th>\n",
       "      <th>timestamp</th>\n",
       "      <th></th>\n",
       "      <th></th>\n",
       "      <th></th>\n",
       "      <th></th>\n",
       "      <th></th>\n",
       "      <th></th>\n",
       "      <th></th>\n",
       "      <th></th>\n",
       "    </tr>\n",
       "  </thead>\n",
       "  <tbody>\n",
       "    <tr>\n",
       "      <th>19</th>\n",
       "      <th>2016-05-13</th>\n",
       "      <td>False</td>\n",
       "      <td>True</td>\n",
       "      <td>False</td>\n",
       "      <td>False</td>\n",
       "      <td>False</td>\n",
       "      <td>True</td>\n",
       "      <td>True</td>\n",
       "      <td>True</td>\n",
       "    </tr>\n",
       "    <tr>\n",
       "      <th>24</th>\n",
       "      <th>2016-03-11</th>\n",
       "      <td>False</td>\n",
       "      <td>True</td>\n",
       "      <td>False</td>\n",
       "      <td>False</td>\n",
       "      <td>False</td>\n",
       "      <td>False</td>\n",
       "      <td>True</td>\n",
       "      <td>False</td>\n",
       "    </tr>\n",
       "  </tbody>\n",
       "</table>\n",
       "</div>"
      ],
      "text/plain": [
       "                        is_high_risk  is_clean  is_food_surface  is_vermin  \\\n",
       "business_id timestamp                                                        \n",
       "19          2016-05-13         False      True            False      False   \n",
       "24          2016-03-11         False      True            False      False   \n",
       "\n",
       "                        is_storage  is_display_permit  is_non_food_surface  \\\n",
       "business_id timestamp                                                        \n",
       "19          2016-05-13       False               True                 True   \n",
       "24          2016-03-11       False              False                 True   \n",
       "\n",
       "                        is_human  \n",
       "business_id timestamp             \n",
       "19          2016-05-13      True  \n",
       "24          2016-03-11     False  "
      ]
     },
     "execution_count": 81,
     "metadata": {},
     "output_type": "execute_result"
    }
   ],
   "source": [
    "feature_names = [\n",
    "    'is_high_risk', 'is_clean', 'is_food_surface', 'is_vermin', 'is_storage',\n",
    "    'is_display_permit', 'is_non_food_surface', 'is_human'\n",
    "]\n",
    "\n",
    "features = (vio2016\n",
    "            .groupby(['business_id', 'timestamp'])\n",
    "            [feature_names]\n",
    "            .max())\n",
    "features.head(2)"
   ]
  },
  {
   "cell_type": "markdown",
   "metadata": {},
   "source": [
    "We'll once again use a left join to merge these new features into the\n",
    "inspection-level data frame, `ins2016`. And, for the special case of a score of\n",
    "100, we set all of the new features to `False`."
   ]
  },
  {
   "cell_type": "code",
   "execution_count": 91,
   "metadata": {},
   "outputs": [],
   "source": [
    "def left_join_features(ins):\n",
    "    return ins.merge(features, on=['business_id', 'timestamp'], how='left')\n",
    "\n",
    "def zero_features_for_perfect_scores(ins):\n",
    "    ins = ins.copy()\n",
    "    ins.loc[ins['score'] == 100, feature_names] = False\n",
    "    return ins"
   ]
  },
  {
   "cell_type": "code",
   "execution_count": 92,
   "metadata": {},
   "outputs": [
    {
     "data": {
      "text/html": [
       "<div>\n",
       "<style scoped>\n",
       "    .dataframe tbody tr th:only-of-type {\n",
       "        vertical-align: middle;\n",
       "    }\n",
       "\n",
       "    .dataframe tbody tr th {\n",
       "        vertical-align: top;\n",
       "    }\n",
       "\n",
       "    .dataframe thead th {\n",
       "        text-align: right;\n",
       "    }\n",
       "</style>\n",
       "<table border=\"1\" class=\"dataframe\">\n",
       "  <thead>\n",
       "    <tr style=\"text-align: right;\">\n",
       "      <th></th>\n",
       "      <th>business_id</th>\n",
       "      <th>score</th>\n",
       "      <th>date</th>\n",
       "      <th>type</th>\n",
       "      <th>...</th>\n",
       "      <th>is_storage</th>\n",
       "      <th>is_display_permit</th>\n",
       "      <th>is_non_food_surface</th>\n",
       "      <th>is_human</th>\n",
       "    </tr>\n",
       "  </thead>\n",
       "  <tbody>\n",
       "    <tr>\n",
       "      <th>0</th>\n",
       "      <td>19</td>\n",
       "      <td>94</td>\n",
       "      <td>20160513</td>\n",
       "      <td>routine</td>\n",
       "      <td>...</td>\n",
       "      <td>False</td>\n",
       "      <td>True</td>\n",
       "      <td>True</td>\n",
       "      <td>True</td>\n",
       "    </tr>\n",
       "    <tr>\n",
       "      <th>1</th>\n",
       "      <td>24</td>\n",
       "      <td>98</td>\n",
       "      <td>20161005</td>\n",
       "      <td>routine</td>\n",
       "      <td>...</td>\n",
       "      <td>False</td>\n",
       "      <td>False</td>\n",
       "      <td>True</td>\n",
       "      <td>False</td>\n",
       "    </tr>\n",
       "    <tr>\n",
       "      <th>2</th>\n",
       "      <td>24</td>\n",
       "      <td>96</td>\n",
       "      <td>20160311</td>\n",
       "      <td>routine</td>\n",
       "      <td>...</td>\n",
       "      <td>False</td>\n",
       "      <td>False</td>\n",
       "      <td>True</td>\n",
       "      <td>False</td>\n",
       "    </tr>\n",
       "    <tr>\n",
       "      <th>...</th>\n",
       "      <td>...</td>\n",
       "      <td>...</td>\n",
       "      <td>...</td>\n",
       "      <td>...</td>\n",
       "      <td>...</td>\n",
       "      <td>...</td>\n",
       "      <td>...</td>\n",
       "      <td>...</td>\n",
       "      <td>...</td>\n",
       "    </tr>\n",
       "    <tr>\n",
       "      <th>5440</th>\n",
       "      <td>90096</td>\n",
       "      <td>91</td>\n",
       "      <td>20161229</td>\n",
       "      <td>routine</td>\n",
       "      <td>...</td>\n",
       "      <td>False</td>\n",
       "      <td>False</td>\n",
       "      <td>True</td>\n",
       "      <td>False</td>\n",
       "    </tr>\n",
       "    <tr>\n",
       "      <th>5441</th>\n",
       "      <td>90268</td>\n",
       "      <td>100</td>\n",
       "      <td>20161229</td>\n",
       "      <td>routine</td>\n",
       "      <td>...</td>\n",
       "      <td>False</td>\n",
       "      <td>False</td>\n",
       "      <td>False</td>\n",
       "      <td>False</td>\n",
       "    </tr>\n",
       "    <tr>\n",
       "      <th>5442</th>\n",
       "      <td>90269</td>\n",
       "      <td>100</td>\n",
       "      <td>20161229</td>\n",
       "      <td>routine</td>\n",
       "      <td>...</td>\n",
       "      <td>False</td>\n",
       "      <td>False</td>\n",
       "      <td>False</td>\n",
       "      <td>False</td>\n",
       "    </tr>\n",
       "  </tbody>\n",
       "</table>\n",
       "<p>5443 rows × 14 columns</p>\n",
       "</div>"
      ],
      "text/plain": [
       "      business_id  score      date     type  ... is_storage  \\\n",
       "0              19     94  20160513  routine  ...      False   \n",
       "1              24     98  20161005  routine  ...      False   \n",
       "2              24     96  20160311  routine  ...      False   \n",
       "...           ...    ...       ...      ...  ...        ...   \n",
       "5440        90096     91  20161229  routine  ...      False   \n",
       "5441        90268    100  20161229  routine  ...      False   \n",
       "5442        90269    100  20161229  routine  ...      False   \n",
       "\n",
       "      is_display_permit is_non_food_surface is_human  \n",
       "0                  True                True     True  \n",
       "1                 False                True    False  \n",
       "2                 False                True    False  \n",
       "...                 ...                 ...      ...  \n",
       "5440              False                True    False  \n",
       "5441              False               False    False  \n",
       "5442              False               False    False  \n",
       "\n",
       "[5443 rows x 14 columns]"
      ]
     },
     "execution_count": 92,
     "metadata": {},
     "output_type": "execute_result"
    }
   ],
   "source": [
    "ins_and_vios = (ins2016.pipe(left_join_features)\n",
    "                .pipe(zero_features_for_perfect_scores))\n",
    "ins_and_vios"
   ]
  },
  {
   "cell_type": "markdown",
   "metadata": {},
   "source": [
    "To see how each violation category relates to the score, we can make a collection of boxplots that compares the score distributions with and without each violation. First, we'll subset the table so that we have just the scores and the violation categories."
   ]
  },
  {
   "cell_type": "code",
   "execution_count": 94,
   "metadata": {},
   "outputs": [
    {
     "data": {
      "text/html": [
       "<div>\n",
       "<style scoped>\n",
       "    .dataframe tbody tr th:only-of-type {\n",
       "        vertical-align: middle;\n",
       "    }\n",
       "\n",
       "    .dataframe tbody tr th {\n",
       "        vertical-align: top;\n",
       "    }\n",
       "\n",
       "    .dataframe thead th {\n",
       "        text-align: right;\n",
       "    }\n",
       "</style>\n",
       "<table border=\"1\" class=\"dataframe\">\n",
       "  <thead>\n",
       "    <tr style=\"text-align: right;\">\n",
       "      <th></th>\n",
       "      <th>score</th>\n",
       "      <th>is_high_risk</th>\n",
       "      <th>is_clean</th>\n",
       "      <th>is_food_surface</th>\n",
       "      <th>...</th>\n",
       "      <th>is_storage</th>\n",
       "      <th>is_display_permit</th>\n",
       "      <th>is_non_food_surface</th>\n",
       "      <th>is_human</th>\n",
       "    </tr>\n",
       "  </thead>\n",
       "  <tbody>\n",
       "    <tr>\n",
       "      <th>0</th>\n",
       "      <td>94</td>\n",
       "      <td>False</td>\n",
       "      <td>True</td>\n",
       "      <td>False</td>\n",
       "      <td>...</td>\n",
       "      <td>False</td>\n",
       "      <td>True</td>\n",
       "      <td>True</td>\n",
       "      <td>True</td>\n",
       "    </tr>\n",
       "    <tr>\n",
       "      <th>1</th>\n",
       "      <td>98</td>\n",
       "      <td>False</td>\n",
       "      <td>True</td>\n",
       "      <td>False</td>\n",
       "      <td>...</td>\n",
       "      <td>False</td>\n",
       "      <td>False</td>\n",
       "      <td>True</td>\n",
       "      <td>False</td>\n",
       "    </tr>\n",
       "    <tr>\n",
       "      <th>2</th>\n",
       "      <td>96</td>\n",
       "      <td>False</td>\n",
       "      <td>True</td>\n",
       "      <td>False</td>\n",
       "      <td>...</td>\n",
       "      <td>False</td>\n",
       "      <td>False</td>\n",
       "      <td>True</td>\n",
       "      <td>False</td>\n",
       "    </tr>\n",
       "    <tr>\n",
       "      <th>...</th>\n",
       "      <td>...</td>\n",
       "      <td>...</td>\n",
       "      <td>...</td>\n",
       "      <td>...</td>\n",
       "      <td>...</td>\n",
       "      <td>...</td>\n",
       "      <td>...</td>\n",
       "      <td>...</td>\n",
       "      <td>...</td>\n",
       "    </tr>\n",
       "    <tr>\n",
       "      <th>5440</th>\n",
       "      <td>91</td>\n",
       "      <td>False</td>\n",
       "      <td>True</td>\n",
       "      <td>True</td>\n",
       "      <td>...</td>\n",
       "      <td>False</td>\n",
       "      <td>False</td>\n",
       "      <td>True</td>\n",
       "      <td>False</td>\n",
       "    </tr>\n",
       "    <tr>\n",
       "      <th>5441</th>\n",
       "      <td>100</td>\n",
       "      <td>False</td>\n",
       "      <td>False</td>\n",
       "      <td>False</td>\n",
       "      <td>...</td>\n",
       "      <td>False</td>\n",
       "      <td>False</td>\n",
       "      <td>False</td>\n",
       "      <td>False</td>\n",
       "    </tr>\n",
       "    <tr>\n",
       "      <th>5442</th>\n",
       "      <td>100</td>\n",
       "      <td>False</td>\n",
       "      <td>False</td>\n",
       "      <td>False</td>\n",
       "      <td>...</td>\n",
       "      <td>False</td>\n",
       "      <td>False</td>\n",
       "      <td>False</td>\n",
       "      <td>False</td>\n",
       "    </tr>\n",
       "  </tbody>\n",
       "</table>\n",
       "<p>5443 rows × 9 columns</p>\n",
       "</div>"
      ],
      "text/plain": [
       "      score is_high_risk is_clean is_food_surface  ... is_storage  \\\n",
       "0        94        False     True           False  ...      False   \n",
       "1        98        False     True           False  ...      False   \n",
       "2        96        False     True           False  ...      False   \n",
       "...     ...          ...      ...             ...  ...        ...   \n",
       "5440     91        False     True            True  ...      False   \n",
       "5441    100        False    False           False  ...      False   \n",
       "5442    100        False    False           False  ...      False   \n",
       "\n",
       "     is_display_permit is_non_food_surface is_human  \n",
       "0                 True                True     True  \n",
       "1                False                True    False  \n",
       "2                False                True    False  \n",
       "...                ...                 ...      ...  \n",
       "5440             False                True    False  \n",
       "5441             False               False    False  \n",
       "5442             False               False    False  \n",
       "\n",
       "[5443 rows x 9 columns]"
      ]
     },
     "execution_count": 94,
     "metadata": {},
     "output_type": "execute_result"
    }
   ],
   "source": [
    "ins_and_vios[['score', *feature_names]]"
   ]
  },
  {
   "cell_type": "markdown",
   "metadata": {},
   "source": [
    "Our plotting library expects long-form data, so we first use `.melt()` to\n",
    "transform this table from wide-form to long-form:"
   ]
  },
  {
   "cell_type": "code",
   "execution_count": 96,
   "metadata": {},
   "outputs": [
    {
     "data": {
      "text/html": [
       "<div>\n",
       "<style scoped>\n",
       "    .dataframe tbody tr th:only-of-type {\n",
       "        vertical-align: middle;\n",
       "    }\n",
       "\n",
       "    .dataframe tbody tr th {\n",
       "        vertical-align: top;\n",
       "    }\n",
       "\n",
       "    .dataframe thead th {\n",
       "        text-align: right;\n",
       "    }\n",
       "</style>\n",
       "<table border=\"1\" class=\"dataframe\">\n",
       "  <thead>\n",
       "    <tr style=\"text-align: right;\">\n",
       "      <th></th>\n",
       "      <th>score</th>\n",
       "      <th>category</th>\n",
       "      <th>violated</th>\n",
       "    </tr>\n",
       "  </thead>\n",
       "  <tbody>\n",
       "    <tr>\n",
       "      <th>0</th>\n",
       "      <td>94</td>\n",
       "      <td>is_high_risk</td>\n",
       "      <td>False</td>\n",
       "    </tr>\n",
       "    <tr>\n",
       "      <th>1</th>\n",
       "      <td>98</td>\n",
       "      <td>is_high_risk</td>\n",
       "      <td>False</td>\n",
       "    </tr>\n",
       "    <tr>\n",
       "      <th>2</th>\n",
       "      <td>96</td>\n",
       "      <td>is_high_risk</td>\n",
       "      <td>False</td>\n",
       "    </tr>\n",
       "    <tr>\n",
       "      <th>...</th>\n",
       "      <td>...</td>\n",
       "      <td>...</td>\n",
       "      <td>...</td>\n",
       "    </tr>\n",
       "    <tr>\n",
       "      <th>43541</th>\n",
       "      <td>91</td>\n",
       "      <td>is_human</td>\n",
       "      <td>False</td>\n",
       "    </tr>\n",
       "    <tr>\n",
       "      <th>43542</th>\n",
       "      <td>100</td>\n",
       "      <td>is_human</td>\n",
       "      <td>False</td>\n",
       "    </tr>\n",
       "    <tr>\n",
       "      <th>43543</th>\n",
       "      <td>100</td>\n",
       "      <td>is_human</td>\n",
       "      <td>False</td>\n",
       "    </tr>\n",
       "  </tbody>\n",
       "</table>\n",
       "<p>43544 rows × 3 columns</p>\n",
       "</div>"
      ],
      "text/plain": [
       "       score      category violated\n",
       "0         94  is_high_risk    False\n",
       "1         98  is_high_risk    False\n",
       "2         96  is_high_risk    False\n",
       "...      ...           ...      ...\n",
       "43541     91      is_human    False\n",
       "43542    100      is_human    False\n",
       "43543    100      is_human    False\n",
       "\n",
       "[43544 rows x 3 columns]"
      ]
     },
     "execution_count": 96,
     "metadata": {},
     "output_type": "execute_result"
    }
   ],
   "source": [
    "features_long = pd.melt(ins_and_vios[['score', *feature_names]],\n",
    "                        id_vars='score',\n",
    "                        var_name='category',\n",
    "                        value_name='violated')\n",
    "features_long"
   ]
  },
  {
   "cell_type": "markdown",
   "metadata": {},
   "source": [
    "Now, we make our plot:"
   ]
  },
  {
   "cell_type": "code",
   "execution_count": 106,
   "metadata": {},
   "outputs": [
    {
     "data": {
      "image/png": "[encoded data removed]",
      "text/plain": [
       "<Figure size 1440x720 with 8 Axes>"
      ]
     },
     "metadata": {},
     "output_type": "display_data"
    }
   ],
   "source": [
    "g = sns.catplot(data=features_long, x='violated', y='score',\n",
    "                col='category', col_wrap=4, kind='box');\n",
    "g.set(ylim=(59, 101));"
   ]
  },
  {
   "cell_type": "markdown",
   "metadata": {},
   "source": [
    "What do we observe? Restaurants that have no cleanliness-related violations\n",
    "have the highest scores. Having a display permit violation isn't much of a\n",
    "detractor. And, high risk violations lower the distribution of scores more than any\n",
    "other violation. These observations are just the beginning of a possible\n",
    "analysis into understanding what a score means."
   ]
  },
  {
   "cell_type": "markdown",
   "metadata": {},
   "source": [
    "## Takeaways\n",
    "\n",
    "We used several techniques from this chapter to wrangle the restaurant safety data. First, we reshaped the data to subset rows corresponding to a year's worth of data and to aggregate violation information to inspection-level granularity. We used quality checks, looked for missing values, and filled them in using deductive imputation. We also showed one way that text can be used in a data analysis by extracting features from the violation descriptions. Finally, we modified the dataframe's structure to make it easier to produce the final plots for this analysis."
   ]
  },
  {
   "cell_type": "code",
   "execution_count": null,
   "metadata": {},
   "outputs": [],
   "source": []
  }
 ],
 "metadata": {
  "celltoolbar": "Tags",
  "kernelspec": {
   "display_name": "Python 3",
   "language": "python",
   "name": "python3"
  },
  "language_info": {
   "codemirror_mode": {
    "name": "ipython",
    "version": 3
   },
   "file_extension": ".py",
   "mimetype": "text/x-python",
   "name": "python",
   "nbconvert_exporter": "python",
   "pygments_lexer": "ipython3",
   "version": "3.9.4"
  }
 },
 "nbformat": 4,
 "nbformat_minor": 4
}
