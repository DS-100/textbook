{
 "cells": [
  {
   "cell_type": "code",
   "execution_count": 1,
   "metadata": {
    "tags": [
     "remove-cell"
    ]
   },
   "outputs": [],
   "source": [
    "# Reference: https://jupyterbook.org/interactive/hiding.html\n",
    "# Use {hide, remove}-{input, output, cell} tags to hiding content\n",
    "\n",
    "import numpy as np\n",
    "import matplotlib.pyplot as plt\n",
    "import pandas as pd\n",
    "import seaborn as sns\n",
    "%matplotlib inline\n",
    "import ipywidgets as widgets\n",
    "from ipywidgets import interact, interactive, fixed, interact_manual\n",
    "from IPython.display import display\n",
    "import myst_nb\n",
    "\n",
    "sns.set()\n",
    "sns.set_context('talk')\n",
    "np.set_printoptions(threshold=20, precision=2, suppress=True)\n",
    "pd.set_option('display.max_rows', 7)\n",
    "pd.set_option('display.max_columns', 8)\n",
    "pd.set_option('precision', 2)\n",
    "# This option stops scientific notation for pandas\n",
    "# pd.set_option('display.float_format', '{:.2f}'.format)\n",
    "\n",
    "def display_df(df, rows=pd.options.display.max_rows,\n",
    "               cols=pd.options.display.max_columns):\n",
    "    with pd.option_context('display.max_rows', rows,\n",
    "                           'display.max_columns', cols):\n",
    "        display(df)"
   ]
  },
  {
   "cell_type": "markdown",
   "metadata": {},
   "source": [
    "# Data Source Examples"
   ]
  },
  {
   "cell_type": "markdown",
   "metadata": {},
   "source": [
    "In this chapter, we use two datasets as examples: a\n",
    "government survey about drug abuse and administrative data from the City of San Francisco\n",
    "about restaurant inspections. In later sections, we demonstrate how taking stock of the format, encoding, and size of the files that contain the \"raw\" data can circumvent problems with loading the source file into a data frame. Below, we give an overview of the datasets and their scope."
   ]
  },
  {
   "cell_type": "markdown",
   "metadata": {},
   "source": [
    "## Drug Abuse Warning Network (DAWN) Survey\n",
    "\n",
    "DAWN is a national healthcare survey that monitors trends in drug abuse and the emergence of new substances of abuse. The survey also aims to estimate the impact of drug abuse on the country's health care system and to improve how emergency departments monitor substance-abuse crises. DAWN is administered by the U.S. Department of Health and Human Services' Substance Abuse and Medical\n",
    "Health Services Administration (SAMHSA). DAWN was administered annually from 1998 through 2011. Due in part to the opioid epidemic, DAWN began again in 2018. We examine the 2011 data that have been made available through the SAMHSA\n",
    "Data Archive [^SAMHSA].\n",
    "\n",
    "[^SAMHSA]: https://www.datafiles.samhsa.gov/study-series/drug-abuse-warning-network-dawn-nid13516"
   ]
  },
  {
   "cell_type": "markdown",
   "metadata": {},
   "source": [
    "The target population of the survey is all drug-related emergency room visits in the U.S. These visits are accessed through a frame of emergency rooms in hospitals (and their records). Hospitals are selected for the survey through probability sampling (see {numref}`Chapter %s <ch:theory_datadesign>`), and all drug-related visits to the sampled hospital's emergency room are included in the survey. All types of drug-related visits are included, such as drug misuse, abuse, accidental ingestion, suicide attempts, malicious poisonings, and adverse reactions.  For each visit, as many as 16 different drugs can be recorded, including illegal drugs, prescription drugs, and over-the-counter medications. "
   ]
  },
  {
   "cell_type": "markdown",
   "metadata": {},
   "source": [
    "## San Francisco Restaurant Food Safety\n",
    "\n",
    "The San Francisco Department of Public Health routinely makes unannounced visits to restaurants and inspects them for food safety.  The inspector calculates a score based on the violations observed and provides descriptions of the violations that were found. The target population here is all restaurants in the City of San Francisco. These restaurants are accessed through a frame of restaurant inspections that were conducted between 2013 and 2016. Some restaurants have multiple inspections in a year, and not all of the 7000+ restaurants are inspected annually.\n",
    "\n",
    "These food safety scores are available through the city's Open Data initiative, called DataSF.  DataSF is one example of city governments around the world making their data publicly available; the DataSF mission is to \"empower the use of data in decision making and service delivery\" with the goal of improving the quality of life and work for residents, employers, employees and visitors.\n",
    "\n",
    "The City of San Francisco requires restaurants to publicly display their scores (see {numref}`Figure %s <scoreCard>` below for an example placard). Data from the inspections offer an example of multiple datasets with different structures and fields. One dataset contains summary results of inspections, another provides details about violations found during an inspection, and a third contains information about the restaurants. The violations include serious problems\n",
    "related to the transmission of food borne illnesses and contamination of food-contact surfaces, and minor issues such as not properly displaying the inspection placard.  "
   ]
  },
  {
   "cell_type": "markdown",
   "metadata": {},
   "source": [
    "```{figure} figures/scoreCard.jpg\n",
    "---\n",
    "name: scoreCard\n",
    "---\n",
    "\n",
    "An example food safety scorecard given to a restaurant in San Francisco. \n",
    "Restaurants receive a score between 0-100.\n",
    "```"
   ]
  },
  {
   "cell_type": "markdown",
   "metadata": {},
   "source": [
    "Note that in 2020, the city began giving restaurants color-coded placards indicating whether the restaurant passed (green), conditionally passed (yellow), or failed (red) the inspection, rather than a placard that displays the numeric score from the inspection. However, a restaurant's inspection scores and violations are still available through DataSF."
   ]
  },
  {
   "cell_type": "code",
   "execution_count": null,
   "metadata": {},
   "outputs": [],
   "source": []
  }
 ],
 "metadata": {
  "celltoolbar": "Tags",
  "kernelspec": {
   "display_name": "Python 3",
   "language": "python",
   "name": "python3"
  },
  "language_info": {
   "codemirror_mode": {
    "name": "ipython",
    "version": 3
   },
   "file_extension": ".py",
   "mimetype": "text/x-python",
   "name": "python",
   "nbconvert_exporter": "python",
   "pygments_lexer": "ipython3",
   "version": "3.7.3"
  }
 },
 "nbformat": 4,
 "nbformat_minor": 4
}
