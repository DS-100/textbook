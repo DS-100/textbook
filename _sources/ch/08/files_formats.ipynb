{
 "cells": [
  {
   "cell_type": "code",
   "execution_count": 1,
   "metadata": {
    "tags": [
     "remove-cell"
    ]
   },
   "outputs": [],
   "source": [
    "# Reference: https://jupyterbook.org/interactive/hiding.html\n",
    "# Use {hide, remove}-{input, output, cell} tags to hiding content\n",
    "\n",
    "import numpy as np\n",
    "import matplotlib.pyplot as plt\n",
    "import pandas as pd\n",
    "import seaborn as sns\n",
    "%matplotlib inline\n",
    "import ipywidgets as widgets\n",
    "from ipywidgets import interact, interactive, fixed, interact_manual\n",
    "from IPython.display import display\n",
    "import myst_nb\n",
    "\n",
    "sns.set()\n",
    "sns.set_context('talk')\n",
    "np.set_printoptions(threshold=20, precision=2, suppress=True)\n",
    "pd.set_option('display.max_rows', 7)\n",
    "pd.set_option('display.max_columns', 8)\n",
    "pd.set_option('precision', 2)\n",
    "# This option stops scientific notation for pandas\n",
    "# pd.set_option('display.float_format', '{:.2f}'.format)\n",
    "\n",
    "def display_df(df, rows=pd.options.display.max_rows,\n",
    "               cols=pd.options.display.max_columns):\n",
    "    with pd.option_context('display.max_rows', rows,\n",
    "                           'display.max_columns', cols):\n",
    "        display(df)"
   ]
  },
  {
   "cell_type": "markdown",
   "metadata": {},
   "source": [
    "(ch:files_formats)=\n",
    "# File Formats"
   ]
  },
  {
   "cell_type": "markdown",
   "metadata": {},
   "source": [
    "A file format describes how data are stored on the computer. This is in\n",
    "contrast to the data's structure, which is a mental representation of the data.\n",
    "This mental model helps us  interact with and analyse the data.\n",
    "For example, a table representation corresponds to data values arranged in rows\n",
    "and columns, and when we work with these data, we think about transforming\n",
    "columns, aggregating rows, and cleaning values. On the other hand,\n",
    "understanding how the raw data is stored on the computer (the source file)\n",
    "helps us figure out how to read the data into Python in order to work with it as a table.\n",
    "In this section, we introduce several popular formats used to store data\n",
    "tables as plain text."
   ]
  },
  {
   "cell_type": "markdown",
   "metadata": {},
   "source": [
    "## Delimited format\n",
    "\n",
    "Delimited formats use a specific character to separate data\n",
    "values. Typically, the separators are: a comma (Comma-Separated-Values or CSV\n",
    "for short), a tab (Tab-Separated Values or TSV), white-space, or a colon. These\n",
    "formats are natural for storing data that have a table structure.\n",
    "Each line in the file represents a record, which are delimited by newlines (\"\\n\" or \"\\r\\n\") characters. \n",
    "And, within a line, the record's\n",
    "information is delimited by the comma character (\",\") for CSV or the tab\n",
    "character (\"\\t\") for TSV, and so on. The first line of these files often contains the names of the table’s columns/features."
   ]
  },
  {
   "cell_type": "markdown",
   "metadata": {},
   "source": [
    "The San Francisco restaurant scores are stored in CSV-formatted files. \n",
    "Let's display the first few lines of the `inspections.csv` file. In Python, the built-in `pathlib` library provides a way to specify paths to files and folders that work across platforms. The local path on our computer to this file is `data/inspections.csv` and we use `Path()` to create the full path name. The `Path` object below has many useful methods, such as `open()` as shown below.  "
   ]
  },
  {
   "cell_type": "code",
   "execution_count": 2,
   "metadata": {},
   "outputs": [
    {
     "name": "stdout",
     "output_type": "stream",
     "text": [
      "\"business_id\",\"score\",\"date\",\"type\"\n",
      "19,\"94\",\"20160513\",\"routine\"\n",
      "19,\"94\",\"20171211\",\"routine\"\n",
      "24,\"98\",\"20171101\",\"routine\"\n",
      "24,\"98\",\"20161005\",\"routine\"\n"
     ]
    }
   ],
   "source": [
    "from pathlib import Path\n",
    "\n",
    "insp_path = Path() / 'data' / 'inspections.csv'\n",
    "\n",
    "with insp_path.open() as f:\n",
    "    # Display first five lines of file\n",
    "    for _ in range(5):\n",
    "        print(f.readline(), end='')"
   ]
  },
  {
   "cell_type": "markdown",
   "metadata": {},
   "source": [
    ":::{note} \n",
    "\n",
    "Paths are tricky when working across different\n",
    "operating systems (OS). For instance, a typical path in Windows might look like\n",
    "`C:\\Files\\data.csv`, while a path in Unix or MacOS might look like\n",
    "`~/files/data.csv`. Because of this, code that works on one OS can fail to run\n",
    "on other operating systems.\n",
    "\n",
    "The `pathlib` Python library was created to avoid OS-specific path issues. By\n",
    "using it, the code shown here is more *portable*---it works across Windows,\n",
    "MacOS, and Unix.\n",
    "\n",
    ":::"
   ]
  },
  {
   "cell_type": "markdown",
   "metadata": {},
   "source": [
    "Displaying the first few lines of a file is something we'll do often, so we create a function as a shortcut:"
   ]
  },
  {
   "cell_type": "code",
   "execution_count": 3,
   "metadata": {},
   "outputs": [],
   "source": [
    "def head(filepath, n=5):\n",
    "    '''Prints the first n lines of filepath'''\n",
    "    with filepath.open() as f:\n",
    "        for _ in range(n):\n",
    "            print(f.readline(), end='')"
   ]
  },
  {
   "cell_type": "code",
   "execution_count": 4,
   "metadata": {},
   "outputs": [
    {
     "name": "stdout",
     "output_type": "stream",
     "text": [
      "\"business_id\",\"score\",\"date\",\"type\"\n",
      "19,\"94\",\"20160513\",\"routine\"\n",
      "19,\"94\",\"20171211\",\"routine\"\n",
      "24,\"98\",\"20171101\",\"routine\"\n",
      "24,\"98\",\"20161005\",\"routine\"\n"
     ]
    }
   ],
   "source": [
    "head(insp_path)"
   ]
  },
  {
   "cell_type": "markdown",
   "metadata": {},
   "source": [
    "Notice that the field names appear in the first line of the file; they are comma-separated and in\n",
    "quotations. We see four fields: the business identifier, the\n",
    "restaurant's score, the date of the inspection, and the type of inspection.\n",
    "Each line in the file corresponds to one inspection, and the ID, score, date\n",
    "and type values are separated by commas. In addition to identifying the file\n",
    "format, we also want to identify the format of the features. We see two things\n",
    "of note: the scores and dates both appear as strings. We will want to convert\n",
    "the scores to numbers so we can calculate summary statistics and create a\n",
    "histogram of scores. And, we will convert the date into a date-time format so\n",
    "that we can make time-series plots. We show how to carry out these\n",
    "transformations in {numref}`Chapter %s <ch:wrangling>`.\n",
    "\n",
    "All three of the restaurant source files are CSV formatted. On the otherhand, the DAWN source has a fixed-width format. We describe this format next."
   ]
  },
  {
   "cell_type": "markdown",
   "metadata": {},
   "source": [
    "## Fixed-width Format\n",
    "\n",
    "The fixed-width format (FWDF) does not use delimiters to separate data\n",
    "values. Instead, the values for a specific field appear in the exact same\n",
    "position in each line. The DAWN source file has this format. Below is one line from the file. "
   ]
  },
  {
   "cell_type": "markdown",
   "metadata": {
    "tags": []
   },
   "source": [
    "```python\n",
    "dawn_path = Path() / 'data' / 'DAWN-Data.txt'\n",
    "head(dawn_path, n=2)\n",
    "```"
   ]
  },
  {
   "cell_type": "markdown",
   "metadata": {},
   "source": [
    "```python\n",
    "1 2251082    .9426354082   3 4 1 2201141 2 865 105 1102005 1 2 1 2.00-7.00-7.0000-7.0000-7.00001255 105 1142032 4 1 1 2.50 5.00 5.0100-7.0000-7.0000  -7  -7  -7  -7-7-7-7-7.00-7.00-7.0000-7.0000-7.0000  -7  -7  -7  -7-7-7-7-7.00-7.00-7.0000-7.0000-7.0000  -7  -7  -7  -7-7-7-7-7.00-7.00-7.0000-7.0000-7.0000  -7  -7  -7  -7-7-7-7-7.00-7.00-7.0000-7.0000-7.0000  -7  -7  -7  -7-7-7-7-7.00-7.00-7.0000-7.0000-7.0000  -7  -7  -7  -7-7-7-7-7.00-7.00-7.0000-7.0000-7.0000  -7  -7  -7  -7-7-7-7-7.00-7.00-7.0000-7.0000-7.0000  -7  -7  -7  -7-7-7-7-7.00-7.00-7.0000-7.0000-7.0000  -7  -7  -7  -7-7-7-7-7.00-7.00-7.0000-7.0000-7.0000  -7  -7  -7  -7-7-7-7-7.00-7.00-7.0000-7.0000-7.0000  -7  -7  -7  -7-7-7-7-7.00-7.00-7.0000-7.0000-7.0000  -7  -7  -7  -7-7-7-7-7.00-7.00-7.0000-7.0000-7.0000  -7  -7  -7  -7-7-7-7-7.00-7.00-7.0000-7.0000-7.0000  -7  -7  -7  -7-7-7-7-7.00-7.00-7.0000-7.0000-7.0000  -7  -7  -7  -7-7-7-7-7.00-7.00-7.0000-7.0000-7.0000  -7  -7  -7  -7-7-7-7-7.00-7.00-7.0000-7.0000-7.0000  -7  -7  -7  -7-7-7-7-7.00-7.00-7.0000-7.0000-7.0000  -7  -7  -7  -7-7-7-7-7.00-7.00-7.0000-7.0000-7.0000  -7  -7  -7  -7-7-7-7-7.00-7.00-7.0000-7.0000-7.0000  -7  -7  -7  -7-7-7-7-7.00-7.00-7.0000-7.0000-7.00008 611001\n",
    "2 2291292   5.9920106887   911 1 3201134 12077  81  82 283-8 21767.0067.0167.0140-7.0000-7.0000  -7  -7  -7  -7-7-7-7-7.00-7.00-7.0000-7.0000-7.0000  -7  -7  -7  -7-7-7-7-7.00-7.00-7.0000-7.0000-7.0000  -7  -7  -7  -7-7-7-7-7.00-7.00-7.0000-7.0000-7.0000  -7  -7  -7  -7-7-7-7-7.00-7.00-7.0000-7.0000-7.0000  -7  -7  -7  -7-7-7-7-7.00-7.00-7.0000-7.0000-7.0000  -7  -7  -7  -7-7-7-7-7.00-7.00-7.0000-7.0000-7.0000  -7  -7  -7  -7-7-7-7-7.00-7.00-7.0000-7.0000-7.0000  -7  -7  -7  -7-7-7-7-7.00-7.00-7.0000-7.0000-7.0000  -7  -7  -7  -7-7-7-7-7.00-7.00-7.0000-7.0000-7.0000  -7  -7  -7  -7-7-7-7-7.00-7.00-7.0000-7.0000-7.0000  -7  -7  -7  -7-7-7-7-7.00-7.00-7.0000-7.0000-7.0000  -7  -7  -7  -7-7-7-7-7.00-7.00-7.0000-7.0000-7.0000  -7  -7  -7  -7-7-7-7-7.00-7.00-7.0000-7.0000-7.0000  -7  -7  -7  -7-7-7-7-7.00-7.00-7.0000-7.0000-7.0000  -7  -7  -7  -7-7-7-7-7.00-7.00-7.0000-7.0000-7.0000  -7  -7  -7  -7-7-7-7-7.00-7.00-7.0000-7.0000-7.0000  -7  -7  -7  -7-7-7-7-7.00-7.00-7.0000-7.0000-7.0000  -7  -7  -7  -7-7-7-7-7.00-7.00-7.0000-7.0000-7.0000  -7  -7  -7  -7-7-7-7-7.00-7.00-7.0000-7.0000-7.0000  -7  -7  -7  -7-7-7-7-7.00-7.00-7.0000-7.0000-7.0000  -7  -7  -7  -7-7-7-7-7.00-7.00-7.0000-7.0000-7.00004 700100\n",
    "```"
   ]
  },
  {
   "cell_type": "markdown",
   "metadata": {},
   "source": [
    "Notice how the values appear to align from one row\n",
    "to the next. Notice also that they seem to be squished together with no\n",
    "separators. We need to know the exact position of each piece of information in\n",
    "a line in order to make sense of it. SAMHSA provides a 2,000-page codebook with\n",
    "all of the information needed to read the file. In the codebook we find that\n",
    "the age field appears in positions 34-35 and is coded in intervals from 1 to\n",
    "11. The records below have age categories of 4 and 11, and the codebook tells\n",
    "us that a code of 4 stands for the age bracket \"6 to 11\", and 11 is for \"65+\"."
   ]
  },
  {
   "cell_type": "markdown",
   "metadata": {},
   "source": [
    ":::{note}\n",
    "\n",
    "A widely adopted convention is to use the filename extension, such as\n",
    "`.csv`, `.tsv`, and `.txt`, to indicate the format of the contents of the file.\n",
    "File names that end with `.csv` are expected to contain comma-separated values,\n",
    "`.tsv` tab-separated values, and `.txt` generally is plain text without a particular format. \n",
    "However, these extension names are only suggestions. Even if a file has a `.csv` extension,\n",
    "the actual contents might not be formatted properly! It's good practice to\n",
    "inspect the contents of the file before loading it into a data frame. If the\n",
    "file is not too large, you can open and examine it with a plain text editor.\n",
    "Otherwise, you view a couple of lines using `.readline()` or shell\n",
    "commands. \n",
    "\n",
    ":::"
   ]
  },
  {
   "cell_type": "markdown",
   "metadata": {},
   "source": [
    "Other plain text formats that are popular include hierarchical formats and loosely structured formats (in contrast to formats that directly support table structures). These are covered in greater detail in other chapters, but for completeness we briefly describe them here."
   ]
  },
  {
   "cell_type": "markdown",
   "metadata": {},
   "source": [
    "## Hierarchical Format\n",
    "\n",
    "JavaScript Object Format (JSON) is a common format used for communication by web servers. JSON files have a hierarchical structure with keys and values similar to a Python dictionary. Each record in a JSON file can have different fields and records can contain tables, making for a potentially complicated structure. The eXtensible Markup Language (XML) and HyperText Markup Language (HTML) are common formats for storing documents on the Internet. Like JSON, these files also contain data in a hierarchical, key-value format. We cover both formats (JSON and XML) in more detail in {numref}`Chapter %s <ch:web>`.\n",
    "\n",
    "Next we briefly describe other plain text files that don't fall into any of the previous categories but still have some structure to them that enables us to read and extract information."
   ]
  },
  {
   "cell_type": "markdown",
   "metadata": {},
   "source": [
    "## Loosely Structured Formats\n",
    "\n",
    "Web logs, instrument readings, and program logs typically provide data in plain text.  For example, below is one line of a Web log (we've split it across multiple lines for readability). It contains information such as the date and time and type of request made to the Web site.\n",
    "\n",
    "```\n",
    "169.237.46.168 - -\n",
    "[26/Jan/2004:10:47:58 -0800]\"GET /stat141/Winter04 HTTP/1.1\" 301 328\n",
    "\"http://anson.ucdavis.edu/courses\"\n",
    "\"Mozilla/4.0 (compatible; MSIE 6.0; Windows NT 5.0; .NET CLR 1.1.4322)\"\n",
    "```\n",
    "\n",
    "There is structure present, but not in a simple delimited file format, which is what we mean by \"loosely structured\".  We see that the date and time appear between square brackets and the type of request (GET in this case) follows the date-time information and appears in quotes. Later in {numref}`Chapter %s <ch:text>`, we will use these observations about the log's structure and string manipulation tools to extract the values of interest into a data table."
   ]
  },
  {
   "cell_type": "markdown",
   "metadata": {},
   "source": [
    "As another example, below is a single recording of measurements taken with a wireless device. The device reports the timestamp, identifier, location of the device, and the signal strengths that it picks up from other devices. This information uses a combination of formats: key=value pairs, semicolon delimited, and comma delimited values. \n",
    "\n",
    "```\n",
    "t=1139644637174;id=00:02:2D:21:0F:33;pos=2.0,0.0,0.0;degree=45.5;\n",
    "00:14:bf:b1:97:8a=-33,2437000000,3;00:14:bf:b1:97:8a=-38,2437000000,3;\n",
    "```\n",
    "\n",
    "Like with the Web logs, we can use string manipulation and the patterns in the recordings to extract features into a table."
   ]
  },
  {
   "cell_type": "markdown",
   "metadata": {},
   "source": [
    "All of this is to show: there are many types of file formats that store data!\n",
    "In this chapter, we focus on data tables.\n",
    "\n",
    "So far, we have used the term 'plain text' to broadly cover formats that can be viewed with a text editor. However, a plain text file may have many different encodings, and if we don't specify the encoding correctly, the values in the data frame might contain gibbersih. We give an overview of file encoding next.  "
   ]
  },
  {
   "cell_type": "markdown",
   "metadata": {},
   "source": [
    "## File Encoding"
   ]
  },
  {
   "cell_type": "markdown",
   "metadata": {},
   "source": [
    "Modern computers store data as long sequences of \"bits\": `0`s and `1`s. \n",
    "*Character encodings*, like ASCII, tell the computer how to translate between bits and actual text.\n",
    "For example, in ASCII, the bits `100 001` stand for the letter `A`, and `100 010` for `B`.\n",
    "The most basic kind of plain text supports only standard ASCII characters, which\n",
    "includes the upper and lowercase English letters, numbers, punctuation symbols, and spaces. \n",
    " \n",
    "ASCII encoding is not sufficient to represent a lot of special characters\n",
    "and characters from other languages. Other, more modern, character encodings\n",
    "have many more characters that can be represented. Common encodings for\n",
    "documents and Web pages are Latin-1 (ISO-8859-1) and UTF-8. UTF-8 has over one\n",
    "million characters, and is backwards compatible with ASCII, meaning that it\n",
    "uses the same representation for English letters, numbers, and punctuation as\n",
    "ASCII. This means that when we have a text file, we usually need to figure out its \n",
    "encoding. If we choose the wrong encoding to read in a file, Python \n",
    "either reads incorrect values or errors. The best way to find the encoding\n",
    "is by checking the data's documentation which often explicitly says what the\n",
    "encoding is."
   ]
  },
  {
   "cell_type": "markdown",
   "metadata": {},
   "source": [
    "When we don't know what the encoding is, we have to make a guess. The `chardet`\n",
    "package has a function called `detect()` that infers a file's encoding.\n",
    "Since these guesses are imperfect, the function also returns a confidence\n",
    "between 0 and 1. We use this function to look at the files in the `data` folder for this chapter."
   ]
  },
  {
   "cell_type": "code",
   "execution_count": 5,
   "metadata": {},
   "outputs": [
    {
     "name": "stdout",
     "output_type": "stream",
     "text": [
      "File                      Encoding   Confidence\n",
      "data/inspections.csv      ascii      1.0\n",
      "data/co2_mm_mlo.txt       ascii      1.0\n",
      "data/violations.csv       ascii      1.0\n",
      "data/DAWN-Data.txt        ascii      1.0\n",
      "data/legend.csv           ascii      1.0\n",
      "data/businesses.csv       ISO-8859-1 0.73\n"
     ]
    }
   ],
   "source": [
    "import chardet\n",
    "\n",
    "line = '{:<25} {:<10} {}'.format\n",
    "\n",
    "# for each file, print its name, encoding & confidence in the encoding\n",
    "print(line('File', 'Encoding', 'Confidence'))\n",
    "\n",
    "for filepath in Path('data').glob('*'):\n",
    "    result = chardet.detect(filepath.read_bytes())\n",
    "    print(line(str(filepath), result['encoding'], result['confidence']))"
   ]
  },
  {
   "cell_type": "markdown",
   "metadata": {},
   "source": [
    "The detection function is quite certain that all but one of the files are\n",
    "ASCII encoded. The exception is  `businesses.csv`, which appears to have an ISO-8859-1\n",
    "encoding. We run into trouble, if we ignore this encoding and try to read the\n",
    "business file into Pandas without specifying the special encoding.\n",
    "\n",
    "```python\n",
    "# naively reads file without considering encoding\n",
    ">>> pd.read_csv('data/businesses.csv')\n",
    "[...stack trace omitted...]\n",
    "UnicodeDecodeError: 'utf-8' codec can't decode byte 0xd1 in\n",
    "position 8: invalid continuation byte\n",
    "```"
   ]
  },
  {
   "cell_type": "markdown",
   "metadata": {},
   "source": [
    "To successfully read the data, we must specify the ISO-8859-1 encoding."
   ]
  },
  {
   "cell_type": "code",
   "execution_count": 6,
   "metadata": {},
   "outputs": [],
   "source": [
    "bus = pd.read_csv('data/businesses.csv', encoding='ISO-8859-1')"
   ]
  },
  {
   "cell_type": "code",
   "execution_count": 18,
   "metadata": {
    "tags": [
     "remove-input"
    ]
   },
   "outputs": [
    {
     "data": {
      "text/html": [
       "<div>\n",
       "<style scoped>\n",
       "    .dataframe tbody tr th:only-of-type {\n",
       "        vertical-align: middle;\n",
       "    }\n",
       "\n",
       "    .dataframe tbody tr th {\n",
       "        vertical-align: top;\n",
       "    }\n",
       "\n",
       "    .dataframe thead th {\n",
       "        text-align: right;\n",
       "    }\n",
       "</style>\n",
       "<table border=\"1\" class=\"dataframe\">\n",
       "  <thead>\n",
       "    <tr style=\"text-align: right;\">\n",
       "      <th></th>\n",
       "      <th>business_id</th>\n",
       "      <th>name</th>\n",
       "      <th>address</th>\n",
       "      <th>postal_code</th>\n",
       "    </tr>\n",
       "  </thead>\n",
       "  <tbody>\n",
       "    <tr>\n",
       "      <th>0</th>\n",
       "      <td>19</td>\n",
       "      <td>NRGIZE LIFESTYLE CAFE</td>\n",
       "      <td>1200 VAN NESS AVE, 3RD FLOOR</td>\n",
       "      <td>94109</td>\n",
       "    </tr>\n",
       "    <tr>\n",
       "      <th>1</th>\n",
       "      <td>24</td>\n",
       "      <td>OMNI S.F. HOTEL - 2ND FLOOR PANTRY</td>\n",
       "      <td>500 CALIFORNIA ST, 2ND  FLOOR</td>\n",
       "      <td>94104</td>\n",
       "    </tr>\n",
       "    <tr>\n",
       "      <th>2</th>\n",
       "      <td>31</td>\n",
       "      <td>NORMAN'S ICE CREAM AND FREEZES</td>\n",
       "      <td>2801 LEAVENWORTH ST</td>\n",
       "      <td>94133</td>\n",
       "    </tr>\n",
       "    <tr>\n",
       "      <th>3</th>\n",
       "      <td>45</td>\n",
       "      <td>CHARLIE'S DELI CAFE</td>\n",
       "      <td>3202 FOLSOM ST</td>\n",
       "      <td>94110</td>\n",
       "    </tr>\n",
       "  </tbody>\n",
       "</table>\n",
       "</div>"
      ],
      "text/plain": [
       "   business_id                                name  \\\n",
       "0           19               NRGIZE LIFESTYLE CAFE   \n",
       "1           24  OMNI S.F. HOTEL - 2ND FLOOR PANTRY   \n",
       "2           31      NORMAN'S ICE CREAM AND FREEZES   \n",
       "3           45                 CHARLIE'S DELI CAFE   \n",
       "\n",
       "                         address postal_code  \n",
       "0   1200 VAN NESS AVE, 3RD FLOOR       94109  \n",
       "1  500 CALIFORNIA ST, 2ND  FLOOR       94104  \n",
       "2           2801 LEAVENWORTH ST        94133  \n",
       "3                3202 FOLSOM ST        94110  "
      ]
     },
     "execution_count": 18,
     "metadata": {},
     "output_type": "execute_result"
    }
   ],
   "source": [
    "bus.iloc[:4, [0,1,2,5]]"
   ]
  },
  {
   "cell_type": "markdown",
   "metadata": {},
   "source": [
    "In this section, we have introduced formats for plain text data that are widely used for storing and exchanging\n",
    "tables. The comma-separated-value format is the most common, but others, such\n",
    "as tab-separated and fixed-width, are also prevelant. \n",
    "Even though a file name has a '.csv' extension, it's still a good idea to confirm that it is indeed a CSV file. Likewise, file encoding can be a bit mysterious to figure out, and unless there is metadata that explicitly gives us the encoding, guesswork comes into play. \n",
    "When an encoding is not 100% confirmed then its a good idea to seek additional documentation. \n",
    "\n",
    "People often confuse CSV and TSV files with spreadsheets. This is in part because you can open a CSV file with MicroSoft Excel, and it is automaically displayed as a table in a workbook. Excel does much of the work that we have covered in this chapterm, figuring out the file format and encoding in order to read the data into the workbook. Inspecting a source file with a spreadsheet can be convenient, but be careful as it hides the conversion process needed to bring the source file into Excel. \n",
    "\n",
    "Another potentially important aspect of a source file is its size. \n",
    "If a file is huge then we might not be able to read it into a data frame.\n",
    "In the next section, we discuss how to figure out a source file's size."
   ]
  },
  {
   "cell_type": "code",
   "execution_count": null,
   "metadata": {},
   "outputs": [],
   "source": []
  }
 ],
 "metadata": {
  "celltoolbar": "Tags",
  "kernelspec": {
   "display_name": "Python 3",
   "language": "python",
   "name": "python3"
  },
  "language_info": {
   "codemirror_mode": {
    "name": "ipython",
    "version": 3
   },
   "file_extension": ".py",
   "mimetype": "text/x-python",
   "name": "python",
   "nbconvert_exporter": "python",
   "pygments_lexer": "ipython3",
   "version": "3.9.4"
  }
 },
 "nbformat": 4,
 "nbformat_minor": 4
}
