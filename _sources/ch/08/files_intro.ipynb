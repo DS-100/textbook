{
 "cells": [
  {
   "cell_type": "code",
   "execution_count": 1,
   "metadata": {
    "tags": [
     "remove-cell"
    ]
   },
   "outputs": [],
   "source": [
    "# Reference: https://jupyterbook.org/interactive/hiding.html\n",
    "# Use {hide, remove}-{input, output, cell} tags to hiding content\n",
    "\n",
    "import numpy as np\n",
    "import matplotlib.pyplot as plt\n",
    "import pandas as pd\n",
    "import seaborn as sns\n",
    "%matplotlib inline\n",
    "import ipywidgets as widgets\n",
    "from ipywidgets import interact, interactive, fixed, interact_manual\n",
    "from IPython.display import display\n",
    "import myst_nb\n",
    "\n",
    "sns.set()\n",
    "sns.set_context('talk')\n",
    "np.set_printoptions(threshold=20, precision=2, suppress=True)\n",
    "pd.set_option('display.max_rows', 7)\n",
    "pd.set_option('display.max_columns', 8)\n",
    "pd.set_option('precision', 2)\n",
    "# This option stops scientific notation for pandas\n",
    "# pd.set_option('display.float_format', '{:.2f}'.format)\n",
    "\n",
    "def display_df(df, rows=pd.options.display.max_rows,\n",
    "               cols=pd.options.display.max_columns):\n",
    "    with pd.option_context('display.max_rows', rows,\n",
    "                           'display.max_columns', cols):\n",
    "        display(df)"
   ]
  },
  {
   "cell_type": "markdown",
   "metadata": {},
   "source": [
    "(ch:files)=\n",
    "# Wrangling Files"
   ]
  },
  {
   "cell_type": "markdown",
   "metadata": {},
   "source": [
    "Before you can work with data in Python, it helps to understand the source files that store the data.\n",
    "You want answers to a couple of basic questions like:\n",
    "\n",
    "+ How much data do you have?\n",
    "+ How is the source file formatted?\n",
    "\n",
    "Answers to these questions can be very helpful. If your data are too large, you may need special approaches to read them in. If your data aren't formatted the way you expect, you may run into bad values after loading the file into a dataframe.\n",
    "\n",
    "Once you have loaded the data into Python, you need to find its shape: the numbers of rows and columns. And, you need to understand the granularity, or what a row represents."
   ]
  },
  {
   "cell_type": "markdown",
   "metadata": {},
   "source": [
    "Although there are many types of structures that can represent data, in this\n",
    "book we primarily work with data tables, such as Pandas DataFrames and SQL\n",
    "relations. (But do note that {numref}`Chapter %s <ch:text>` examines\n",
    "less-structured text data, and {numref}`Chapter %s <ch:web>` works with\n",
    "hierarchical data structures). We focus on data tables for several reasons. First, research on how\n",
    "to best store and manipulate data tables has resulted in stable and efficient\n",
    "tools for working with tables. Second, data in a tabular format are close\n",
    "cousins of matrices, the mathematical objects of the immensely rich field of\n",
    "linear algebra. Finally, data tables are very common."
   ]
  },
  {
   "cell_type": "markdown",
   "metadata": {},
   "source": [
    "In this chapter, we introduce typical file formats and encodings for plain text and describe measures of file size, and we use Python tools to examine source files. Later in the chapter, we introduce an alternative approach for working with files, the shell interpreter. Shell commands give us\n",
    "a programmatic way to get information about a file outside of the Python\n",
    "environment, and the shell can be very useful with big data. Finally, we address the topic of the data table's structure and shape.  "
   ]
  },
  {
   "cell_type": "markdown",
   "metadata": {},
   "source": [
    "The first section providea brief descriptions of two datasets that we\n",
    "use as examples throughout this chapter."
   ]
  }
 ],
 "metadata": {
  "kernelspec": {
   "display_name": "Python 3",
   "language": "python",
   "name": "python3"
  },
  "language_info": {
   "codemirror_mode": {
    "name": "ipython",
    "version": 3
   },
   "file_extension": ".py",
   "mimetype": "text/x-python",
   "name": "python",
   "nbconvert_exporter": "python",
   "pygments_lexer": "ipython3",
   "version": "3.9.4"
  }
 },
 "nbformat": 4,
 "nbformat_minor": 4
}
