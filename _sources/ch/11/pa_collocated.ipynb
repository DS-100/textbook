{
 "cells": [
  {
   "cell_type": "code",
   "execution_count": 2,
   "metadata": {
    "tags": [
     "remove-cell"
    ]
   },
   "outputs": [],
   "source": [
    "# Reference: https://jupyterbook.org/interactive/hiding.html\n",
    "# Use {hide, remove}-{input, output, cell} tags to hiding content\n",
    "\n",
    "import numpy as np\n",
    "import matplotlib.pyplot as plt\n",
    "import pandas as pd\n",
    "import seaborn as sns\n",
    "%matplotlib inline\n",
    "import ipywidgets as widgets\n",
    "from ipywidgets import interact, interactive, fixed, interact_manual\n",
    "from IPython.display import display\n",
    "\n",
    "sns.set()\n",
    "sns.set_context('talk')\n",
    "np.set_printoptions(threshold=20, precision=2, suppress=True)\n",
    "pd.set_option('display.max_rows', 7)\n",
    "pd.set_option('display.max_columns', 8)\n",
    "pd.set_option('precision', 2)\n",
    "# This option stops scientific notation for pandas\n",
    "# pd.set_option('display.float_format', '{:.2f}'.format)\n",
    "\n",
    "def display_df(df, rows=pd.options.display.max_rows,\n",
    "               cols=pd.options.display.max_columns):\n",
    "    with pd.option_context('display.max_rows', rows,\n",
    "                           'display.max_columns', cols):\n",
    "        display(df)"
   ]
  },
  {
   "cell_type": "code",
   "execution_count": 3,
   "metadata": {
    "tags": [
     "remove-cell"
    ]
   },
   "outputs": [],
   "source": [
    "def df_interact(df, nrows=7, ncols=7):\n",
    "    '''\n",
    "    Outputs sliders that show rows and columns of df\n",
    "    '''\n",
    "    def peek(row=0, col=0):\n",
    "        return df.iloc[row:row + nrows, col:col + ncols]\n",
    "\n",
    "    row_arg = (0, len(df), nrows) if len(df) > nrows else fixed(0)\n",
    "    col_arg = ((0, len(df.columns), ncols)\n",
    "               if len(df.columns) > ncols else fixed(0))\n",
    "    \n",
    "    interact(peek, row=row_arg, col=col_arg)\n",
    "    print('({} rows, {} columns) total'.format(df.shape[0], df.shape[1]))"
   ]
  },
  {
   "cell_type": "markdown",
   "metadata": {},
   "source": [
    "(ch:pa_collocated)=\n",
    "# Finding Collocated Sensors"
   ]
  },
  {
   "cell_type": "markdown",
   "metadata": {},
   "source": [
    "When starting an analysis, we like to begin with a research question.\n",
    "In this case, our research question might be:\n",
    "\"How do we correct PurpleAir sensor readings so that they match AQS sensor readings?\"\n",
    "We focus specifically on readings for PM2.5 particles, which are particles that are smaller than 2.5\n",
    "micrometers in diameter.\n",
    "These particles are small enough to be inhaled into the lungs, pose the greatest\n",
    "risk to health, and are especially common in wood smoke."
   ]
  },
  {
   "cell_type": "markdown",
   "metadata": {},
   "source": [
    "Our analysis begins by finding collocated pairs of AQS and PurpleAir sensors---sensors that are placed immediately next to each other.\n",
    "This step is important because it lets us reduce the effects of other variables that might caused differences in sensor readings.\n",
    "Consider what would happen if we compared an AQS sensor placed inside a building with a PurpleAir sensor placed outside the building. \n",
    "The two sensors would have different readings, but some of these differences\n",
    "would happen because the sensors are exposed to different environments.\n",
    "Ensuring that sensors are truly collocated lets us say that the differences in sensor\n",
    "readings is caused the different ways the sensors are built, rather than\n",
    "other potential confounding variables."
   ]
  },
  {
   "cell_type": "markdown",
   "metadata": {},
   "source": [
    "Barkjohn et al.'s analysis found pairs of AQS and PurpleAir sensors that\n",
    "are installed within 50 meters of each other.\n",
    "Then, they contacted each AQS site to see whether the people maintaining the site\n",
    "also maintained a PurpleAir sensor.\n",
    "This extra effort gave them confidence that their sensor pairs were truly collocated.\n",
    "\n",
    "In this section, we'll explore and clean data from the AQS and PurpleAir.\n",
    "Then, we'll perform a similar join to construct a list of potentially collocated sensors.\n",
    "We won't contact AQS sites ourselves;\n",
    "instead, we'll proceed with the analysis by reusing Barkjohn et al.'s list of truly\n",
    "collocated sensors."
   ]
  },
  {
   "cell_type": "markdown",
   "metadata": {},
   "source": [
    "We've downloaded a list of AQS and PurpleAir sensors in `data/list_of_aqs_sites.csv`\n",
    "and `data/list_of_purpleair_sensors.json`.\n",
    "Let's begin by reading these files into `pandas`.\n",
    "First, we check file sizes to see whether they are reasonable to load into memory."
   ]
  },
  {
   "cell_type": "code",
   "execution_count": 4,
   "metadata": {},
   "outputs": [
    {
     "name": "stdout",
     "output_type": "stream",
     "text": [
      "-rw-r--r--  1 sam  staff   4.8M Oct 27 16:54 data/list_of_aqs_sites.csv\n",
      "-rw-r--r--  1 sam  staff   3.8M Oct 22 16:10 data/list_of_purpleair_sensors.json\n"
     ]
    }
   ],
   "source": [
    "!ls -lLh data/list_of*"
   ]
  },
  {
   "cell_type": "markdown",
   "metadata": {},
   "source": [
    "Both files are relatively small. We'll start with the list of AQS sites."
   ]
  },
  {
   "cell_type": "markdown",
   "metadata": {},
   "source": [
    "## Wrangling the List of AQS Sites"
   ]
  },
  {
   "cell_type": "markdown",
   "metadata": {},
   "source": [
    "Let's load the CSV file into `pandas`."
   ]
  },
  {
   "cell_type": "code",
   "execution_count": 5,
   "metadata": {},
   "outputs": [
    {
     "data": {
      "text/html": [
       "<div>\n",
       "<style scoped>\n",
       "    .dataframe tbody tr th:only-of-type {\n",
       "        vertical-align: middle;\n",
       "    }\n",
       "\n",
       "    .dataframe tbody tr th {\n",
       "        vertical-align: top;\n",
       "    }\n",
       "\n",
       "    .dataframe thead th {\n",
       "        text-align: right;\n",
       "    }\n",
       "</style>\n",
       "<table border=\"1\" class=\"dataframe\">\n",
       "  <thead>\n",
       "    <tr style=\"text-align: right;\">\n",
       "      <th></th>\n",
       "      <th>AQS_Site_ID</th>\n",
       "      <th>POC</th>\n",
       "      <th>State</th>\n",
       "      <th>City</th>\n",
       "      <th>...</th>\n",
       "      <th>Reporting_Agency</th>\n",
       "      <th>Parameter_Name</th>\n",
       "      <th>Annual_URLs</th>\n",
       "      <th>Daily_URLs</th>\n",
       "    </tr>\n",
       "  </thead>\n",
       "  <tbody>\n",
       "    <tr>\n",
       "      <th>0</th>\n",
       "      <td>01-003-0010</td>\n",
       "      <td>1</td>\n",
       "      <td>Alabama</td>\n",
       "      <td>Fairhope</td>\n",
       "      <td>...</td>\n",
       "      <td>Al Dept Of Env Mgt</td>\n",
       "      <td>PM2.5</td>\n",
       "      <td>&lt;a href='https://www3.epa.gov/cgi-bin/broker?_...</td>\n",
       "      <td>&lt;a href='https://www3.epa.gov/cgi-bin/broker?_...</td>\n",
       "    </tr>\n",
       "    <tr>\n",
       "      <th>1</th>\n",
       "      <td>01-027-0001</td>\n",
       "      <td>1</td>\n",
       "      <td>Alabama</td>\n",
       "      <td>Ashland</td>\n",
       "      <td>...</td>\n",
       "      <td>Al Dept Of Env Mgt</td>\n",
       "      <td>PM2.5</td>\n",
       "      <td>&lt;a href='https://www3.epa.gov/cgi-bin/broker?_...</td>\n",
       "      <td>&lt;a href='https://www3.epa.gov/cgi-bin/broker?_...</td>\n",
       "    </tr>\n",
       "  </tbody>\n",
       "</table>\n",
       "<p>2 rows × 28 columns</p>\n",
       "</div>"
      ],
      "text/plain": [
       "   AQS_Site_ID  POC    State      City  ...    Reporting_Agency  \\\n",
       "0  01-003-0010    1  Alabama  Fairhope  ...  Al Dept Of Env Mgt   \n",
       "1  01-027-0001    1  Alabama   Ashland  ...  Al Dept Of Env Mgt   \n",
       "\n",
       "  Parameter_Name                                        Annual_URLs  \\\n",
       "0          PM2.5  <a href='https://www3.epa.gov/cgi-bin/broker?_...   \n",
       "1          PM2.5  <a href='https://www3.epa.gov/cgi-bin/broker?_...   \n",
       "\n",
       "                                          Daily_URLs  \n",
       "0  <a href='https://www3.epa.gov/cgi-bin/broker?_...  \n",
       "1  <a href='https://www3.epa.gov/cgi-bin/broker?_...  \n",
       "\n",
       "[2 rows x 28 columns]"
      ]
     },
     "execution_count": 5,
     "metadata": {},
     "output_type": "execute_result"
    }
   ],
   "source": [
    "aqs_sites = pd.read_csv('data/list_of_aqs_sites.csv')\n",
    "\n",
    "# The table output is fairly large, so display 2 rows\n",
    "aqs_sites.head(2)"
   ]
  },
  {
   "cell_type": "code",
   "execution_count": 6,
   "metadata": {},
   "outputs": [
    {
     "data": {
      "text/plain": [
       "(1333, 28)"
      ]
     },
     "execution_count": 6,
     "metadata": {},
     "output_type": "execute_result"
    }
   ],
   "source": [
    "# Number of rows and columns in the table\n",
    "aqs_sites.shape"
   ]
  },
  {
   "cell_type": "markdown",
   "metadata": {},
   "source": [
    "This dataframe comes from the AQS map of sites ([link][aqs_map]).\n",
    "We filtered the map to show only the AQS sites that measure PM2.5, then downloaded\n",
    "the list as a CSV using the map's web app.\n",
    "\n",
    "[aqs_map]: https://www.epa.gov/outdoor-air-quality-data/interactive-map-air-quality-monitors"
   ]
  },
  {
   "cell_type": "markdown",
   "metadata": {},
   "source": [
    "There are 28 columns in the table.\n",
    "Jupyter hides the middle columns to avoid overfilling the screen.\n",
    "However, we want to see what the columns are so that we can find out which columns are\n",
    "most useful for us.\n",
    "To do this, we'll use a trick. We'll slice out the first row of `aqs_sites`, then\n",
    "convert it to a dataframe."
   ]
  },
  {
   "cell_type": "code",
   "execution_count": 7,
   "metadata": {},
   "outputs": [
    {
     "data": {
      "text/html": [
       "<div>\n",
       "<style scoped>\n",
       "    .dataframe tbody tr th:only-of-type {\n",
       "        vertical-align: middle;\n",
       "    }\n",
       "\n",
       "    .dataframe tbody tr th {\n",
       "        vertical-align: top;\n",
       "    }\n",
       "\n",
       "    .dataframe thead th {\n",
       "        text-align: right;\n",
       "    }\n",
       "</style>\n",
       "<table border=\"1\" class=\"dataframe\">\n",
       "  <thead>\n",
       "    <tr style=\"text-align: right;\">\n",
       "      <th></th>\n",
       "      <th>0</th>\n",
       "    </tr>\n",
       "  </thead>\n",
       "  <tbody>\n",
       "    <tr>\n",
       "      <th>AQS_Site_ID</th>\n",
       "      <td>01-003-0010</td>\n",
       "    </tr>\n",
       "    <tr>\n",
       "      <th>POC</th>\n",
       "      <td>1</td>\n",
       "    </tr>\n",
       "    <tr>\n",
       "      <th>State</th>\n",
       "      <td>Alabama</td>\n",
       "    </tr>\n",
       "    <tr>\n",
       "      <th>...</th>\n",
       "      <td>...</td>\n",
       "    </tr>\n",
       "    <tr>\n",
       "      <th>Parameter_Name</th>\n",
       "      <td>PM2.5</td>\n",
       "    </tr>\n",
       "    <tr>\n",
       "      <th>Annual_URLs</th>\n",
       "      <td>&lt;a href='https://www3.epa.gov/cgi-bin/broker?_...</td>\n",
       "    </tr>\n",
       "    <tr>\n",
       "      <th>Daily_URLs</th>\n",
       "      <td>&lt;a href='https://www3.epa.gov/cgi-bin/broker?_...</td>\n",
       "    </tr>\n",
       "  </tbody>\n",
       "</table>\n",
       "<p>28 rows × 1 columns</p>\n",
       "</div>"
      ],
      "text/plain": [
       "                                                                0\n",
       "AQS_Site_ID                                           01-003-0010\n",
       "POC                                                             1\n",
       "State                                                     Alabama\n",
       "...                                                           ...\n",
       "Parameter_Name                                              PM2.5\n",
       "Annual_URLs     <a href='https://www3.epa.gov/cgi-bin/broker?_...\n",
       "Daily_URLs      <a href='https://www3.epa.gov/cgi-bin/broker?_...\n",
       "\n",
       "[28 rows x 1 columns]"
      ]
     },
     "execution_count": 7,
     "metadata": {},
     "output_type": "execute_result"
    }
   ],
   "source": [
    "aqs_sites.iloc[0].to_frame()"
   ]
  },
  {
   "cell_type": "markdown",
   "metadata": {},
   "source": [
    "In this dataframe, each row corresponds to one column of `aqs_sites`.\n",
    "Next, we'll tell `pandas` to display more rows so that we can browse all the\n",
    "columns are once."
   ]
  },
  {
   "cell_type": "code",
   "execution_count": 8,
   "metadata": {},
   "outputs": [
    {
     "data": {
      "text/html": [
       "<div>\n",
       "<style scoped>\n",
       "    .dataframe tbody tr th:only-of-type {\n",
       "        vertical-align: middle;\n",
       "    }\n",
       "\n",
       "    .dataframe tbody tr th {\n",
       "        vertical-align: top;\n",
       "    }\n",
       "\n",
       "    .dataframe thead th {\n",
       "        text-align: right;\n",
       "    }\n",
       "</style>\n",
       "<table border=\"1\" class=\"dataframe\">\n",
       "  <thead>\n",
       "    <tr style=\"text-align: right;\">\n",
       "      <th></th>\n",
       "      <th>0</th>\n",
       "    </tr>\n",
       "  </thead>\n",
       "  <tbody>\n",
       "    <tr>\n",
       "      <th>AQS_Site_ID</th>\n",
       "      <td>01-003-0010</td>\n",
       "    </tr>\n",
       "    <tr>\n",
       "      <th>POC</th>\n",
       "      <td>1</td>\n",
       "    </tr>\n",
       "    <tr>\n",
       "      <th>State</th>\n",
       "      <td>Alabama</td>\n",
       "    </tr>\n",
       "    <tr>\n",
       "      <th>City</th>\n",
       "      <td>Fairhope</td>\n",
       "    </tr>\n",
       "    <tr>\n",
       "      <th>CBSA</th>\n",
       "      <td>Daphne-Fairhope-Foley, AL</td>\n",
       "    </tr>\n",
       "    <tr>\n",
       "      <th>Local_Site_Name</th>\n",
       "      <td>FAIRHOPE, Alabama</td>\n",
       "    </tr>\n",
       "    <tr>\n",
       "      <th>Address</th>\n",
       "      <td>FAIRHOPE HIGH SCHOOL, 1 PIRATE DRIVE, FAIRHOPE...</td>\n",
       "    </tr>\n",
       "    <tr>\n",
       "      <th>Datum</th>\n",
       "      <td>NAD83</td>\n",
       "    </tr>\n",
       "    <tr>\n",
       "      <th>Latitude</th>\n",
       "      <td>30.5</td>\n",
       "    </tr>\n",
       "    <tr>\n",
       "      <th>Longitude</th>\n",
       "      <td>-87.88</td>\n",
       "    </tr>\n",
       "    <tr>\n",
       "      <th>LatLon_Accuracy_meters</th>\n",
       "      <td>4.0</td>\n",
       "    </tr>\n",
       "    <tr>\n",
       "      <th>Elevation_meters_MSL</th>\n",
       "      <td>37.19</td>\n",
       "    </tr>\n",
       "    <tr>\n",
       "      <th>Monitor_Start_Date</th>\n",
       "      <td>1/1/2000</td>\n",
       "    </tr>\n",
       "    <tr>\n",
       "      <th>Last_Sample_Date</th>\n",
       "      <td>6/30/2021</td>\n",
       "    </tr>\n",
       "    <tr>\n",
       "      <th>Active</th>\n",
       "      <td>Yes</td>\n",
       "    </tr>\n",
       "    <tr>\n",
       "      <th>Measurement_Scale</th>\n",
       "      <td>NEIGHBORHOOD</td>\n",
       "    </tr>\n",
       "    <tr>\n",
       "      <th>Measurement_Scale_Definition</th>\n",
       "      <td>500 M TO 4KM</td>\n",
       "    </tr>\n",
       "    <tr>\n",
       "      <th>Sample_Duration</th>\n",
       "      <td>24 HOUR</td>\n",
       "    </tr>\n",
       "    <tr>\n",
       "      <th>Sample_Collection_Frequency</th>\n",
       "      <td>EVERY 3RD DAY</td>\n",
       "    </tr>\n",
       "    <tr>\n",
       "      <th>Sample_Collection_Method</th>\n",
       "      <td>R &amp; P Model 2025 PM-2.5 Sequential Air Sampler...</td>\n",
       "    </tr>\n",
       "    <tr>\n",
       "      <th>Sample_Analysis_Method</th>\n",
       "      <td>Gravimetric</td>\n",
       "    </tr>\n",
       "    <tr>\n",
       "      <th>Method_Reference_ID</th>\n",
       "      <td>RFPS-1006-145</td>\n",
       "    </tr>\n",
       "    <tr>\n",
       "      <th>FRMFEM</th>\n",
       "      <td>Yes</td>\n",
       "    </tr>\n",
       "    <tr>\n",
       "      <th>Monitor_Type</th>\n",
       "      <td>SLAMS</td>\n",
       "    </tr>\n",
       "    <tr>\n",
       "      <th>Reporting_Agency</th>\n",
       "      <td>Al Dept Of Env Mgt</td>\n",
       "    </tr>\n",
       "    <tr>\n",
       "      <th>Parameter_Name</th>\n",
       "      <td>PM2.5</td>\n",
       "    </tr>\n",
       "    <tr>\n",
       "      <th>Annual_URLs</th>\n",
       "      <td>&lt;a href='https://www3.epa.gov/cgi-bin/broker?_...</td>\n",
       "    </tr>\n",
       "    <tr>\n",
       "      <th>Daily_URLs</th>\n",
       "      <td>&lt;a href='https://www3.epa.gov/cgi-bin/broker?_...</td>\n",
       "    </tr>\n",
       "  </tbody>\n",
       "</table>\n",
       "</div>"
      ],
      "text/plain": [
       "                                                                              0\n",
       "AQS_Site_ID                                                         01-003-0010\n",
       "POC                                                                           1\n",
       "State                                                                   Alabama\n",
       "City                                                                   Fairhope\n",
       "CBSA                                                  Daphne-Fairhope-Foley, AL\n",
       "Local_Site_Name                                               FAIRHOPE, Alabama\n",
       "Address                       FAIRHOPE HIGH SCHOOL, 1 PIRATE DRIVE, FAIRHOPE...\n",
       "Datum                                                                     NAD83\n",
       "Latitude                                                                   30.5\n",
       "Longitude                                                                -87.88\n",
       "LatLon_Accuracy_meters                                                      4.0\n",
       "Elevation_meters_MSL                                                      37.19\n",
       "Monitor_Start_Date                                                     1/1/2000\n",
       "Last_Sample_Date                                                      6/30/2021\n",
       "Active                                                                      Yes\n",
       "Measurement_Scale                                                  NEIGHBORHOOD\n",
       "Measurement_Scale_Definition                                       500 M TO 4KM\n",
       "Sample_Duration                                                         24 HOUR\n",
       "Sample_Collection_Frequency                                       EVERY 3RD DAY\n",
       "Sample_Collection_Method      R & P Model 2025 PM-2.5 Sequential Air Sampler...\n",
       "Sample_Analysis_Method                                              Gravimetric\n",
       "Method_Reference_ID                                               RFPS-1006-145\n",
       "FRMFEM                                                                      Yes\n",
       "Monitor_Type                                                              SLAMS\n",
       "Reporting_Agency                                             Al Dept Of Env Mgt\n",
       "Parameter_Name                                                            PM2.5\n",
       "Annual_URLs                   <a href='https://www3.epa.gov/cgi-bin/broker?_...\n",
       "Daily_URLs                    <a href='https://www3.epa.gov/cgi-bin/broker?_..."
      ]
     },
     "metadata": {},
     "output_type": "display_data"
    }
   ],
   "source": [
    "from IPython.display import display\n",
    "\n",
    "rows_to_show = 28\n",
    "with pd.option_context('display.max_rows', rows_to_show):\n",
    "    display(aqs_sites.iloc[0].to_frame())"
   ]
  },
  {
   "cell_type": "markdown",
   "metadata": {},
   "source": [
    "For a complete description of the columns, we can reference the data dictionary\n",
    "that the AQS provides on their website ([link][aqs_dict]).\n",
    "\n",
    "[aqs_dict]: https://aqs.epa.gov/aqsweb/airdata/FileFormats.html#_monitor_description_file"
   ]
  },
  {
   "cell_type": "markdown",
   "metadata": {},
   "source": [
    ":::{note}\n",
    "\n",
    "We often want to fiddle with `pandas` display options to show/hide rows of a\n",
    "large dataframe. For convenience, we've defined a method called `display_df`\n",
    "that has the basic logic of the cell above. In the future, we'll use this code\n",
    "instead:\n",
    "\n",
    "```python\n",
    "display_df(..., rows=28)\n",
    "```\n",
    "\n",
    ":::"
   ]
  },
  {
   "cell_type": "markdown",
   "metadata": {},
   "source": [
    "### What's the granularity?\n",
    "\n",
    "For now, most important observation is that the `aqs_sites` dataframe doesn't\n",
    "contain sensor recordings. It only has a list of AQS sites. In other words, we\n",
    "might expect that the granularity of `aqs_sites` is that each row represents\n",
    "a single AQS site.\n",
    "To check this, we can see whether the `AQS_Site_ID`s are unique."
   ]
  },
  {
   "cell_type": "code",
   "execution_count": 18,
   "metadata": {},
   "outputs": [
    {
     "data": {
      "text/plain": [
       "19-163-0015    4\n",
       "19-153-0030    4\n",
       "49-005-0007    4\n",
       "              ..\n",
       "23-005-0015    1\n",
       "23-019-0017    1\n",
       "80-002-0014    1\n",
       "Name: AQS_Site_ID, Length: 921, dtype: int64"
      ]
     },
     "execution_count": 18,
     "metadata": {},
     "output_type": "execute_result"
    }
   ],
   "source": [
    "aqs_sites['AQS_Site_ID'].value_counts()"
   ]
  },
  {
   "cell_type": "markdown",
   "metadata": {},
   "source": [
    "It looks like some sites appear multiple times in this dataframe.\n",
    "Unfortunately, this means that the granularity of `aqs_sites` is probably at a\n",
    "finer granularity than the individual site level.\n",
    "Why are sites duplicated? We can take a closer look at some duplicated sites."
   ]
  },
  {
   "cell_type": "code",
   "execution_count": 21,
   "metadata": {},
   "outputs": [
    {
     "data": {
      "text/html": [
       "<div>\n",
       "<style scoped>\n",
       "    .dataframe tbody tr th:only-of-type {\n",
       "        vertical-align: middle;\n",
       "    }\n",
       "\n",
       "    .dataframe tbody tr th {\n",
       "        vertical-align: top;\n",
       "    }\n",
       "\n",
       "    .dataframe thead th {\n",
       "        text-align: right;\n",
       "    }\n",
       "</style>\n",
       "<table border=\"1\" class=\"dataframe\">\n",
       "  <thead>\n",
       "    <tr style=\"text-align: right;\">\n",
       "      <th></th>\n",
       "      <th>AQS_Site_ID</th>\n",
       "      <th>POC</th>\n",
       "      <th>State</th>\n",
       "      <th>City</th>\n",
       "      <th>...</th>\n",
       "      <th>Reporting_Agency</th>\n",
       "      <th>Parameter_Name</th>\n",
       "      <th>Annual_URLs</th>\n",
       "      <th>Daily_URLs</th>\n",
       "    </tr>\n",
       "  </thead>\n",
       "  <tbody>\n",
       "    <tr>\n",
       "      <th>458</th>\n",
       "      <td>19-163-0015</td>\n",
       "      <td>1</td>\n",
       "      <td>Iowa</td>\n",
       "      <td>Davenport</td>\n",
       "      <td>...</td>\n",
       "      <td>University Hygenic Laboratory (University of I...</td>\n",
       "      <td>PM2.5</td>\n",
       "      <td>&lt;a href='https://www3.epa.gov/cgi-bin/broker?_...</td>\n",
       "      <td>&lt;a href='https://www3.epa.gov/cgi-bin/broker?_...</td>\n",
       "    </tr>\n",
       "    <tr>\n",
       "      <th>459</th>\n",
       "      <td>19-163-0015</td>\n",
       "      <td>2</td>\n",
       "      <td>Iowa</td>\n",
       "      <td>Davenport</td>\n",
       "      <td>...</td>\n",
       "      <td>University Hygenic Laboratory (University of I...</td>\n",
       "      <td>PM2.5</td>\n",
       "      <td>&lt;a href='https://www3.epa.gov/cgi-bin/broker?_...</td>\n",
       "      <td>&lt;a href='https://www3.epa.gov/cgi-bin/broker?_...</td>\n",
       "    </tr>\n",
       "    <tr>\n",
       "      <th>460</th>\n",
       "      <td>19-163-0015</td>\n",
       "      <td>3</td>\n",
       "      <td>Iowa</td>\n",
       "      <td>Davenport</td>\n",
       "      <td>...</td>\n",
       "      <td>University Hygenic Laboratory (University of I...</td>\n",
       "      <td>PM2.5</td>\n",
       "      <td>&lt;a href='https://www3.epa.gov/cgi-bin/broker?_...</td>\n",
       "      <td>&lt;a href='https://www3.epa.gov/cgi-bin/broker?_...</td>\n",
       "    </tr>\n",
       "    <tr>\n",
       "      <th>461</th>\n",
       "      <td>19-163-0015</td>\n",
       "      <td>4</td>\n",
       "      <td>Iowa</td>\n",
       "      <td>Davenport</td>\n",
       "      <td>...</td>\n",
       "      <td>University Hygenic Laboratory (University of I...</td>\n",
       "      <td>PM2.5</td>\n",
       "      <td>&lt;a href='https://www3.epa.gov/cgi-bin/broker?_...</td>\n",
       "      <td>&lt;a href='https://www3.epa.gov/cgi-bin/broker?_...</td>\n",
       "    </tr>\n",
       "  </tbody>\n",
       "</table>\n",
       "<p>4 rows × 28 columns</p>\n",
       "</div>"
      ],
      "text/plain": [
       "     AQS_Site_ID  POC State       City  ...  \\\n",
       "458  19-163-0015    1  Iowa  Davenport  ...   \n",
       "459  19-163-0015    2  Iowa  Davenport  ...   \n",
       "460  19-163-0015    3  Iowa  Davenport  ...   \n",
       "461  19-163-0015    4  Iowa  Davenport  ...   \n",
       "\n",
       "                                      Reporting_Agency Parameter_Name  \\\n",
       "458  University Hygenic Laboratory (University of I...          PM2.5   \n",
       "459  University Hygenic Laboratory (University of I...          PM2.5   \n",
       "460  University Hygenic Laboratory (University of I...          PM2.5   \n",
       "461  University Hygenic Laboratory (University of I...          PM2.5   \n",
       "\n",
       "                                           Annual_URLs  \\\n",
       "458  <a href='https://www3.epa.gov/cgi-bin/broker?_...   \n",
       "459  <a href='https://www3.epa.gov/cgi-bin/broker?_...   \n",
       "460  <a href='https://www3.epa.gov/cgi-bin/broker?_...   \n",
       "461  <a href='https://www3.epa.gov/cgi-bin/broker?_...   \n",
       "\n",
       "                                            Daily_URLs  \n",
       "458  <a href='https://www3.epa.gov/cgi-bin/broker?_...  \n",
       "459  <a href='https://www3.epa.gov/cgi-bin/broker?_...  \n",
       "460  <a href='https://www3.epa.gov/cgi-bin/broker?_...  \n",
       "461  <a href='https://www3.epa.gov/cgi-bin/broker?_...  \n",
       "\n",
       "[4 rows x 28 columns]"
      ]
     },
     "execution_count": 21,
     "metadata": {},
     "output_type": "execute_result"
    }
   ],
   "source": [
    "dup_site = aqs_sites.query(\"AQS_Site_ID == '19-163-0015'\")\n",
    "dup_site"
   ]
  },
  {
   "cell_type": "markdown",
   "metadata": {},
   "source": [
    "This display isn't very helpful since it hides the middle columns.\n",
    "In practice, we'd interactively display columns until we find some that appear\n",
    "to distinguish between the rows.\n",
    "Here, we'll simply skip ahead and show a few columns of interest."
   ]
  },
  {
   "cell_type": "code",
   "execution_count": 23,
   "metadata": {},
   "outputs": [
    {
     "data": {
      "text/html": [
       "<div>\n",
       "<style scoped>\n",
       "    .dataframe tbody tr th:only-of-type {\n",
       "        vertical-align: middle;\n",
       "    }\n",
       "\n",
       "    .dataframe tbody tr th {\n",
       "        vertical-align: top;\n",
       "    }\n",
       "\n",
       "    .dataframe thead th {\n",
       "        text-align: right;\n",
       "    }\n",
       "</style>\n",
       "<table border=\"1\" class=\"dataframe\">\n",
       "  <thead>\n",
       "    <tr style=\"text-align: right;\">\n",
       "      <th></th>\n",
       "      <th>AQS_Site_ID</th>\n",
       "      <th>POC</th>\n",
       "      <th>Monitor_Start_Date</th>\n",
       "      <th>Last_Sample_Date</th>\n",
       "      <th>Sample_Collection_Method</th>\n",
       "    </tr>\n",
       "  </thead>\n",
       "  <tbody>\n",
       "    <tr>\n",
       "      <th>458</th>\n",
       "      <td>19-163-0015</td>\n",
       "      <td>1</td>\n",
       "      <td>1/27/1999</td>\n",
       "      <td>8/31/2021</td>\n",
       "      <td>R &amp; P Model 2025 PM-2.5 Sequential Air Sampler...</td>\n",
       "    </tr>\n",
       "    <tr>\n",
       "      <th>459</th>\n",
       "      <td>19-163-0015</td>\n",
       "      <td>2</td>\n",
       "      <td>2/9/2013</td>\n",
       "      <td>8/26/2021</td>\n",
       "      <td>R &amp; P Model 2025 PM-2.5 Sequential Air Sampler...</td>\n",
       "    </tr>\n",
       "    <tr>\n",
       "      <th>460</th>\n",
       "      <td>19-163-0015</td>\n",
       "      <td>3</td>\n",
       "      <td>1/1/2019</td>\n",
       "      <td>9/30/2021</td>\n",
       "      <td>Teledyne T640 at 5.0 LPM</td>\n",
       "    </tr>\n",
       "    <tr>\n",
       "      <th>461</th>\n",
       "      <td>19-163-0015</td>\n",
       "      <td>4</td>\n",
       "      <td>1/1/2019</td>\n",
       "      <td>9/30/2021</td>\n",
       "      <td>Teledyne T640 at 5.0 LPM</td>\n",
       "    </tr>\n",
       "  </tbody>\n",
       "</table>\n",
       "</div>"
      ],
      "text/plain": [
       "     AQS_Site_ID  POC Monitor_Start_Date Last_Sample_Date  \\\n",
       "458  19-163-0015    1          1/27/1999        8/31/2021   \n",
       "459  19-163-0015    2           2/9/2013        8/26/2021   \n",
       "460  19-163-0015    3           1/1/2019        9/30/2021   \n",
       "461  19-163-0015    4           1/1/2019        9/30/2021   \n",
       "\n",
       "                              Sample_Collection_Method  \n",
       "458  R & P Model 2025 PM-2.5 Sequential Air Sampler...  \n",
       "459  R & P Model 2025 PM-2.5 Sequential Air Sampler...  \n",
       "460                           Teledyne T640 at 5.0 LPM  \n",
       "461                           Teledyne T640 at 5.0 LPM  "
      ]
     },
     "execution_count": 23,
     "metadata": {},
     "output_type": "execute_result"
    }
   ],
   "source": [
    "cols_that_distinguish = ['AQS_Site_ID', 'POC', 'Monitor_Start_Date',\n",
    "                         'Last_Sample_Date', 'Sample_Collection_Method']\n",
    "dup_site[cols_that_distinguish]"
   ]
  },
  {
   "cell_type": "markdown",
   "metadata": {},
   "source": [
    "The data dictionary for this table states this about the `POC` column:\n",
    "\n",
    "> This is the “Parameter Occurrence Code” used to distinguish different instruments that measure the same parameter at the same site.\n",
    "\n",
    "In this case, there are four instruments at this site that all\n",
    "measure PM2.5. So, it appears that the granularity of the `aqs_sites` dataframe\n",
    "is that each row represents a single instrument at an AQS site.\n",
    "\n",
    "For simplicity, the AQS also reports one average measurement for each site\n",
    "rather than one measurement for each sensor at a site.\n",
    "We'll proceed by using this average measurement per site.\n",
    "Since we're primarily using this data to match AQS site with PurpleAir sensors,\n",
    "we'll adjust the granularity of this data by grouping by site ID, then taking\n",
    "the first row within each group.\n",
    "This removes duplicated site IDs and is appropriate here because we only need\n",
    "the location of each site to match with PurpleAir sensors."
   ]
  },
  {
   "cell_type": "code",
   "execution_count": 29,
   "metadata": {},
   "outputs": [],
   "source": [
    "def rollup_dup_sites(df):\n",
    "    return (\n",
    "        df.groupby('AQS_Site_ID')\n",
    "        .first()\n",
    "        .reset_index()\n",
    "    )"
   ]
  },
  {
   "cell_type": "code",
   "execution_count": 30,
   "metadata": {},
   "outputs": [
    {
     "data": {
      "text/html": [
       "<div>\n",
       "<style scoped>\n",
       "    .dataframe tbody tr th:only-of-type {\n",
       "        vertical-align: middle;\n",
       "    }\n",
       "\n",
       "    .dataframe tbody tr th {\n",
       "        vertical-align: top;\n",
       "    }\n",
       "\n",
       "    .dataframe thead th {\n",
       "        text-align: right;\n",
       "    }\n",
       "</style>\n",
       "<table border=\"1\" class=\"dataframe\">\n",
       "  <thead>\n",
       "    <tr style=\"text-align: right;\">\n",
       "      <th></th>\n",
       "      <th>AQS_Site_ID</th>\n",
       "      <th>POC</th>\n",
       "      <th>State</th>\n",
       "      <th>City</th>\n",
       "      <th>...</th>\n",
       "      <th>Reporting_Agency</th>\n",
       "      <th>Parameter_Name</th>\n",
       "      <th>Annual_URLs</th>\n",
       "      <th>Daily_URLs</th>\n",
       "    </tr>\n",
       "  </thead>\n",
       "  <tbody>\n",
       "    <tr>\n",
       "      <th>0</th>\n",
       "      <td>01-003-0010</td>\n",
       "      <td>1</td>\n",
       "      <td>Alabama</td>\n",
       "      <td>Fairhope</td>\n",
       "      <td>...</td>\n",
       "      <td>Al Dept Of Env Mgt</td>\n",
       "      <td>PM2.5</td>\n",
       "      <td>&lt;a href='https://www3.epa.gov/cgi-bin/broker?_...</td>\n",
       "      <td>&lt;a href='https://www3.epa.gov/cgi-bin/broker?_...</td>\n",
       "    </tr>\n",
       "    <tr>\n",
       "      <th>1</th>\n",
       "      <td>01-027-0001</td>\n",
       "      <td>1</td>\n",
       "      <td>Alabama</td>\n",
       "      <td>Ashland</td>\n",
       "      <td>...</td>\n",
       "      <td>Al Dept Of Env Mgt</td>\n",
       "      <td>PM2.5</td>\n",
       "      <td>&lt;a href='https://www3.epa.gov/cgi-bin/broker?_...</td>\n",
       "      <td>&lt;a href='https://www3.epa.gov/cgi-bin/broker?_...</td>\n",
       "    </tr>\n",
       "    <tr>\n",
       "      <th>2</th>\n",
       "      <td>01-049-1003</td>\n",
       "      <td>1</td>\n",
       "      <td>Alabama</td>\n",
       "      <td>Crossville</td>\n",
       "      <td>...</td>\n",
       "      <td>Al Dept Of Env Mgt</td>\n",
       "      <td>PM2.5</td>\n",
       "      <td>&lt;a href='https://www3.epa.gov/cgi-bin/broker?_...</td>\n",
       "      <td>&lt;a href='https://www3.epa.gov/cgi-bin/broker?_...</td>\n",
       "    </tr>\n",
       "    <tr>\n",
       "      <th>...</th>\n",
       "      <td>...</td>\n",
       "      <td>...</td>\n",
       "      <td>...</td>\n",
       "      <td>...</td>\n",
       "      <td>...</td>\n",
       "      <td>...</td>\n",
       "      <td>...</td>\n",
       "      <td>...</td>\n",
       "      <td>...</td>\n",
       "    </tr>\n",
       "    <tr>\n",
       "      <th>918</th>\n",
       "      <td>56-039-1013</td>\n",
       "      <td>1</td>\n",
       "      <td>Wyoming</td>\n",
       "      <td>None</td>\n",
       "      <td>...</td>\n",
       "      <td>National Park Service</td>\n",
       "      <td>PM2.5</td>\n",
       "      <td>&lt;a href='https://www3.epa.gov/cgi-bin/broker?_...</td>\n",
       "      <td>&lt;a href='https://www3.epa.gov/cgi-bin/broker?_...</td>\n",
       "    </tr>\n",
       "    <tr>\n",
       "      <th>919</th>\n",
       "      <td>80-002-0012</td>\n",
       "      <td>3</td>\n",
       "      <td>Country Of Mexico</td>\n",
       "      <td>Mexicali</td>\n",
       "      <td>...</td>\n",
       "      <td>Tracer Technologies</td>\n",
       "      <td>PM2.5</td>\n",
       "      <td>&lt;a href='https://www3.epa.gov/cgi-bin/broker?_...</td>\n",
       "      <td>&lt;a href='https://www3.epa.gov/cgi-bin/broker?_...</td>\n",
       "    </tr>\n",
       "    <tr>\n",
       "      <th>920</th>\n",
       "      <td>80-002-0014</td>\n",
       "      <td>3</td>\n",
       "      <td>Country Of Mexico</td>\n",
       "      <td>Mexicali</td>\n",
       "      <td>...</td>\n",
       "      <td>Tracer Technologies</td>\n",
       "      <td>PM2.5</td>\n",
       "      <td>&lt;a href='https://www3.epa.gov/cgi-bin/broker?_...</td>\n",
       "      <td>&lt;a href='https://www3.epa.gov/cgi-bin/broker?_...</td>\n",
       "    </tr>\n",
       "  </tbody>\n",
       "</table>\n",
       "<p>921 rows × 28 columns</p>\n",
       "</div>"
      ],
      "text/plain": [
       "     AQS_Site_ID  POC              State        City  ...  \\\n",
       "0    01-003-0010    1            Alabama    Fairhope  ...   \n",
       "1    01-027-0001    1            Alabama     Ashland  ...   \n",
       "2    01-049-1003    1            Alabama  Crossville  ...   \n",
       "..           ...  ...                ...         ...  ...   \n",
       "918  56-039-1013    1            Wyoming        None  ...   \n",
       "919  80-002-0012    3  Country Of Mexico    Mexicali  ...   \n",
       "920  80-002-0014    3  Country Of Mexico    Mexicali  ...   \n",
       "\n",
       "          Reporting_Agency Parameter_Name  \\\n",
       "0       Al Dept Of Env Mgt          PM2.5   \n",
       "1       Al Dept Of Env Mgt          PM2.5   \n",
       "2       Al Dept Of Env Mgt          PM2.5   \n",
       "..                     ...            ...   \n",
       "918  National Park Service          PM2.5   \n",
       "919    Tracer Technologies          PM2.5   \n",
       "920    Tracer Technologies          PM2.5   \n",
       "\n",
       "                                           Annual_URLs  \\\n",
       "0    <a href='https://www3.epa.gov/cgi-bin/broker?_...   \n",
       "1    <a href='https://www3.epa.gov/cgi-bin/broker?_...   \n",
       "2    <a href='https://www3.epa.gov/cgi-bin/broker?_...   \n",
       "..                                                 ...   \n",
       "918  <a href='https://www3.epa.gov/cgi-bin/broker?_...   \n",
       "919  <a href='https://www3.epa.gov/cgi-bin/broker?_...   \n",
       "920  <a href='https://www3.epa.gov/cgi-bin/broker?_...   \n",
       "\n",
       "                                            Daily_URLs  \n",
       "0    <a href='https://www3.epa.gov/cgi-bin/broker?_...  \n",
       "1    <a href='https://www3.epa.gov/cgi-bin/broker?_...  \n",
       "2    <a href='https://www3.epa.gov/cgi-bin/broker?_...  \n",
       "..                                                 ...  \n",
       "918  <a href='https://www3.epa.gov/cgi-bin/broker?_...  \n",
       "919  <a href='https://www3.epa.gov/cgi-bin/broker?_...  \n",
       "920  <a href='https://www3.epa.gov/cgi-bin/broker?_...  \n",
       "\n",
       "[921 rows x 28 columns]"
      ]
     },
     "execution_count": 30,
     "metadata": {},
     "output_type": "execute_result"
    }
   ],
   "source": [
    "aqs_sites = (pd.read_csv('data/list_of_aqs_sites.csv')\n",
    "             .pipe(rollup_dup_sites))\n",
    "aqs_sites"
   ]
  },
  {
   "cell_type": "markdown",
   "metadata": {},
   "source": [
    "Now, each row of `aqs_sites` corresponds to one AQS site, which is the granularity\n",
    "we want."
   ]
  },
  {
   "cell_type": "markdown",
   "metadata": {},
   "source": [
    "### Subsetting"
   ]
  },
  {
   "cell_type": "markdown",
   "metadata": {},
   "source": [
    "To match AQS sites with PurpleAir sensors, we only need the site ID, latitude, and longitude.\n",
    "So, we'll subset and rename the columns of interest."
   ]
  },
  {
   "cell_type": "code",
   "execution_count": 45,
   "metadata": {},
   "outputs": [],
   "source": [
    "def subset_aqs(df):\n",
    "    subset = df[['AQS_Site_ID', 'Latitude', 'Longitude']]\n",
    "    subset.columns = ['site_id', 'lat', 'lon']\n",
    "    return subset"
   ]
  },
  {
   "cell_type": "code",
   "execution_count": 46,
   "metadata": {},
   "outputs": [
    {
     "data": {
      "text/html": [
       "<div>\n",
       "<style scoped>\n",
       "    .dataframe tbody tr th:only-of-type {\n",
       "        vertical-align: middle;\n",
       "    }\n",
       "\n",
       "    .dataframe tbody tr th {\n",
       "        vertical-align: top;\n",
       "    }\n",
       "\n",
       "    .dataframe thead th {\n",
       "        text-align: right;\n",
       "    }\n",
       "</style>\n",
       "<table border=\"1\" class=\"dataframe\">\n",
       "  <thead>\n",
       "    <tr style=\"text-align: right;\">\n",
       "      <th></th>\n",
       "      <th>site_id</th>\n",
       "      <th>lat</th>\n",
       "      <th>lon</th>\n",
       "    </tr>\n",
       "  </thead>\n",
       "  <tbody>\n",
       "    <tr>\n",
       "      <th>0</th>\n",
       "      <td>01-003-0010</td>\n",
       "      <td>30.50</td>\n",
       "      <td>-87.88</td>\n",
       "    </tr>\n",
       "    <tr>\n",
       "      <th>1</th>\n",
       "      <td>01-027-0001</td>\n",
       "      <td>33.28</td>\n",
       "      <td>-85.80</td>\n",
       "    </tr>\n",
       "    <tr>\n",
       "      <th>2</th>\n",
       "      <td>01-049-1003</td>\n",
       "      <td>34.29</td>\n",
       "      <td>-85.97</td>\n",
       "    </tr>\n",
       "    <tr>\n",
       "      <th>...</th>\n",
       "      <td>...</td>\n",
       "      <td>...</td>\n",
       "      <td>...</td>\n",
       "    </tr>\n",
       "    <tr>\n",
       "      <th>918</th>\n",
       "      <td>56-039-1013</td>\n",
       "      <td>44.37</td>\n",
       "      <td>-110.83</td>\n",
       "    </tr>\n",
       "    <tr>\n",
       "      <th>919</th>\n",
       "      <td>80-002-0012</td>\n",
       "      <td>32.63</td>\n",
       "      <td>-115.45</td>\n",
       "    </tr>\n",
       "    <tr>\n",
       "      <th>920</th>\n",
       "      <td>80-002-0014</td>\n",
       "      <td>32.63</td>\n",
       "      <td>-115.50</td>\n",
       "    </tr>\n",
       "  </tbody>\n",
       "</table>\n",
       "<p>921 rows × 3 columns</p>\n",
       "</div>"
      ],
      "text/plain": [
       "         site_id    lat     lon\n",
       "0    01-003-0010  30.50  -87.88\n",
       "1    01-027-0001  33.28  -85.80\n",
       "2    01-049-1003  34.29  -85.97\n",
       "..           ...    ...     ...\n",
       "918  56-039-1013  44.37 -110.83\n",
       "919  80-002-0012  32.63 -115.45\n",
       "920  80-002-0014  32.63 -115.50\n",
       "\n",
       "[921 rows x 3 columns]"
      ]
     },
     "execution_count": 46,
     "metadata": {},
     "output_type": "execute_result"
    }
   ],
   "source": [
    "aqs_sites = (pd.read_csv('data/list_of_aqs_sites.csv')\n",
    "             .pipe(rollup_dup_sites)\n",
    "             .pipe(subset_aqs))\n",
    "\n",
    "aqs_sites"
   ]
  },
  {
   "cell_type": "markdown",
   "metadata": {},
   "source": [
    "Now, the `aqs_sites` dataframe is ready and we'll move to the PurpleAir sites."
   ]
  },
  {
   "cell_type": "markdown",
   "metadata": {},
   "source": [
    "## Wrangling the List of PurpleAir Sites"
   ]
  },
  {
   "cell_type": "markdown",
   "metadata": {},
   "source": [
    "Unlike the AQS sites, the file containing PurpleAir sensor data comes in the\n",
    "JSON format. This file is provided by the PurpleAir website."
   ]
  },
  {
   "cell_type": "code",
   "execution_count": 35,
   "metadata": {},
   "outputs": [
    {
     "name": "stdout",
     "output_type": "stream",
     "text": [
      "-rw-r--r--  1 sam  staff   3.8M Oct 22 16:10 data/list_of_purpleair_sensors.json\n"
     ]
    }
   ],
   "source": [
    "!ls -lLh data/list_of_purpleair_sensors.json"
   ]
  },
  {
   "cell_type": "code",
   "execution_count": 36,
   "metadata": {},
   "outputs": [
    {
     "name": "stdout",
     "output_type": "stream",
     "text": [
      "{\"version\":\"7.0.30\",\n",
      "\"fields\":\n",
      "[\"ID\",\"pm\",\"pm_cf_1\",\"pm_atm\",\"age\",\"pm_0\",\"pm_1\",\"pm_2\",\"pm_3\",\"pm_4\"\n",
      "\"data\":[\n",
      "[20,0.0,0.0,0.0,0,0.0,0.0,0.0,0.0,0.0,0.0,0.0,97,0.0,0.0,0.0,0.0,0.0,0\n",
      "[47,null,null,null,4951,null,null,null,null,null,null,null,96,null,nul\n",
      "[53,0.0,0.0,0.0,0,0.0,0.0,0.0,0.0,1.2,5.2,6.0,97,0.0,0.5,702.3,57.5,6.\n",
      "[74,0.0,0.0,0.0,0,0.0,0.0,0.0,0.0,0.0,0.0,0.0,97,0.0,0.0,0.0,0.0,0.0,0\n",
      "[77,9.8,9.8,9.8,1,9.8,10.7,11.0,11.2,13.8,15.1,15.5,97,9.7,9.8,6523.5,\n",
      "[81,6.5,6.5,6.5,0,6.5,6.1,6.1,6.6,8.1,8.3,9.7,97,5.9,6.8,4058.9,346.1,\n"
     ]
    }
   ],
   "source": [
    "# Previews first few lines of the file. The `cut` command limits the output to\n",
    "# the first 70 characters for each line since the lines are quite long.\n",
    "!head data/list_of_purpleair_sensors.json | cut -c 1-70"
   ]
  },
  {
   "cell_type": "markdown",
   "metadata": {},
   "source": [
    "From the first few lines of the JSON file, we can guess that the data rows are\n",
    "stored in the `\"data\"` key and the column labels are stored in the `\"fields\"` key.\n",
    "We can first use Python's `json` library to read in the file as a Python `dict`:"
   ]
  },
  {
   "cell_type": "code",
   "execution_count": 38,
   "metadata": {},
   "outputs": [
    {
     "data": {
      "text/plain": [
       "['version', 'fields', 'data', 'count']"
      ]
     },
     "execution_count": 38,
     "metadata": {},
     "output_type": "execute_result"
    }
   ],
   "source": [
    "import json\n",
    "\n",
    "with open('data/list_of_purpleair_sensors.json') as f:\n",
    "    pa_json = json.load(f)\n",
    "\n",
    "list(pa_json.keys())"
   ]
  },
  {
   "cell_type": "markdown",
   "metadata": {},
   "source": [
    "Then, we'll create a dataframe."
   ]
  },
  {
   "cell_type": "code",
   "execution_count": 39,
   "metadata": {},
   "outputs": [
    {
     "data": {
      "text/html": [
       "<div>\n",
       "<style scoped>\n",
       "    .dataframe tbody tr th:only-of-type {\n",
       "        vertical-align: middle;\n",
       "    }\n",
       "\n",
       "    .dataframe tbody tr th {\n",
       "        vertical-align: top;\n",
       "    }\n",
       "\n",
       "    .dataframe thead th {\n",
       "        text-align: right;\n",
       "    }\n",
       "</style>\n",
       "<table border=\"1\" class=\"dataframe\">\n",
       "  <thead>\n",
       "    <tr style=\"text-align: right;\">\n",
       "      <th></th>\n",
       "      <th>ID</th>\n",
       "      <th>pm</th>\n",
       "      <th>pm_cf_1</th>\n",
       "      <th>pm_atm</th>\n",
       "      <th>...</th>\n",
       "      <th>Voc</th>\n",
       "      <th>Ozone1</th>\n",
       "      <th>Adc</th>\n",
       "      <th>CH</th>\n",
       "    </tr>\n",
       "  </thead>\n",
       "  <tbody>\n",
       "    <tr>\n",
       "      <th>0</th>\n",
       "      <td>20</td>\n",
       "      <td>0.0</td>\n",
       "      <td>0.0</td>\n",
       "      <td>0.0</td>\n",
       "      <td>...</td>\n",
       "      <td>NaN</td>\n",
       "      <td>NaN</td>\n",
       "      <td>0.01</td>\n",
       "      <td>1</td>\n",
       "    </tr>\n",
       "    <tr>\n",
       "      <th>1</th>\n",
       "      <td>47</td>\n",
       "      <td>NaN</td>\n",
       "      <td>NaN</td>\n",
       "      <td>NaN</td>\n",
       "      <td>...</td>\n",
       "      <td>NaN</td>\n",
       "      <td>0.72</td>\n",
       "      <td>0.72</td>\n",
       "      <td>0</td>\n",
       "    </tr>\n",
       "    <tr>\n",
       "      <th>2</th>\n",
       "      <td>53</td>\n",
       "      <td>0.0</td>\n",
       "      <td>0.0</td>\n",
       "      <td>0.0</td>\n",
       "      <td>...</td>\n",
       "      <td>NaN</td>\n",
       "      <td>NaN</td>\n",
       "      <td>0.00</td>\n",
       "      <td>1</td>\n",
       "    </tr>\n",
       "    <tr>\n",
       "      <th>...</th>\n",
       "      <td>...</td>\n",
       "      <td>...</td>\n",
       "      <td>...</td>\n",
       "      <td>...</td>\n",
       "      <td>...</td>\n",
       "      <td>...</td>\n",
       "      <td>...</td>\n",
       "      <td>...</td>\n",
       "      <td>...</td>\n",
       "    </tr>\n",
       "    <tr>\n",
       "      <th>23135</th>\n",
       "      <td>132237</td>\n",
       "      <td>5.3</td>\n",
       "      <td>5.3</td>\n",
       "      <td>5.3</td>\n",
       "      <td>...</td>\n",
       "      <td>NaN</td>\n",
       "      <td>NaN</td>\n",
       "      <td>0.00</td>\n",
       "      <td>3</td>\n",
       "    </tr>\n",
       "    <tr>\n",
       "      <th>23136</th>\n",
       "      <td>132431</td>\n",
       "      <td>3.2</td>\n",
       "      <td>3.2</td>\n",
       "      <td>3.2</td>\n",
       "      <td>...</td>\n",
       "      <td>NaN</td>\n",
       "      <td>NaN</td>\n",
       "      <td>0.03</td>\n",
       "      <td>3</td>\n",
       "    </tr>\n",
       "    <tr>\n",
       "      <th>23137</th>\n",
       "      <td>132471</td>\n",
       "      <td>0.5</td>\n",
       "      <td>0.5</td>\n",
       "      <td>0.5</td>\n",
       "      <td>...</td>\n",
       "      <td>NaN</td>\n",
       "      <td>NaN</td>\n",
       "      <td>0.05</td>\n",
       "      <td>3</td>\n",
       "    </tr>\n",
       "  </tbody>\n",
       "</table>\n",
       "<p>23138 rows × 36 columns</p>\n",
       "</div>"
      ],
      "text/plain": [
       "           ID   pm  pm_cf_1  pm_atm  ...  Voc  Ozone1   Adc  CH\n",
       "0          20  0.0      0.0     0.0  ...  NaN     NaN  0.01   1\n",
       "1          47  NaN      NaN     NaN  ...  NaN    0.72  0.72   0\n",
       "2          53  0.0      0.0     0.0  ...  NaN     NaN  0.00   1\n",
       "...       ...  ...      ...     ...  ...  ...     ...   ...  ..\n",
       "23135  132237  5.3      5.3     5.3  ...  NaN     NaN  0.00   3\n",
       "23136  132431  3.2      3.2     3.2  ...  NaN     NaN  0.03   3\n",
       "23137  132471  0.5      0.5     0.5  ...  NaN     NaN  0.05   3\n",
       "\n",
       "[23138 rows x 36 columns]"
      ]
     },
     "execution_count": 39,
     "metadata": {},
     "output_type": "execute_result"
    }
   ],
   "source": [
    "pa_sites = pd.DataFrame(pa_json['data'], columns=pa_json['fields'])\n",
    "pa_sites"
   ]
  },
  {
   "cell_type": "markdown",
   "metadata": {},
   "source": [
    "Like the AQS data, there are many more columns in this dataframe than `pandas`\n",
    "will display. Another quick way to look at the columns is to simply print\n",
    "the column labels."
   ]
  },
  {
   "cell_type": "code",
   "execution_count": 40,
   "metadata": {},
   "outputs": [
    {
     "data": {
      "text/plain": [
       "Index(['ID', 'pm', 'pm_cf_1', 'pm_atm', 'age', 'pm_0', 'pm_1', 'pm_2', 'pm_3',\n",
       "       'pm_4', 'pm_5', 'pm_6', 'conf', 'pm1', 'pm_10', 'p1', 'p2', 'p3', 'p4',\n",
       "       'p5', 'p6', 'Humidity', 'Temperature', 'Pressure', 'Elevation', 'Type',\n",
       "       'Label', 'Lat', 'Lon', 'Icon', 'isOwner', 'Flags', 'Voc', 'Ozone1',\n",
       "       'Adc', 'CH'],\n",
       "      dtype='object')"
      ]
     },
     "execution_count": 40,
     "metadata": {},
     "output_type": "execute_result"
    }
   ],
   "source": [
    "pa_sites.columns"
   ]
  },
  {
   "cell_type": "markdown",
   "metadata": {},
   "source": [
    "In this case, we can guess that the columns we're most interested in are the\n",
    "sensor IDs (`ID`), sensor labels (`Label`), latitude (`Lat`), and longitude (`Lon`).\n",
    "Again, we consulted the data dictionary on the PurpleAir website to double check\n",
    "what the columns represent."
   ]
  },
  {
   "cell_type": "markdown",
   "metadata": {},
   "source": [
    "### What's the Granularity?"
   ]
  },
  {
   "cell_type": "markdown",
   "metadata": {},
   "source": [
    "Let's check the `ID` column for duplicates, as we did for the AQS data."
   ]
  },
  {
   "cell_type": "code",
   "execution_count": 42,
   "metadata": {},
   "outputs": [
    {
     "data": {
      "text/plain": [
       "20        1\n",
       "88775     1\n",
       "88771     1\n",
       "         ..\n",
       "57357     1\n",
       "57355     1\n",
       "132471    1\n",
       "Name: ID, Length: 23138, dtype: int64"
      ]
     },
     "execution_count": 42,
     "metadata": {},
     "output_type": "execute_result"
    }
   ],
   "source": [
    "pa_sites['ID'].value_counts()"
   ]
  },
  {
   "cell_type": "markdown",
   "metadata": {},
   "source": [
    "The `value_counts()` method lists the counts in descending order, so we can see\n",
    "that every ID was included only once. This lets us verify that the granularity of\n",
    "this data is already at the individual sensor level, so we don't need to perform\n",
    "additional wrangling to adjust the granularity."
   ]
  },
  {
   "cell_type": "markdown",
   "metadata": {},
   "source": [
    "### Subsetting"
   ]
  },
  {
   "cell_type": "markdown",
   "metadata": {},
   "source": [
    "Next, we'll subset the PurpleAir data."
   ]
  },
  {
   "cell_type": "code",
   "execution_count": 47,
   "metadata": {},
   "outputs": [],
   "source": [
    "def subset_pa(df):\n",
    "    subset = df[['ID', 'Label', 'Lat', 'Lon']]\n",
    "    subset.columns = ['id', 'label', 'lat', 'lon']\n",
    "    return subset"
   ]
  },
  {
   "cell_type": "code",
   "execution_count": 48,
   "metadata": {},
   "outputs": [
    {
     "data": {
      "text/html": [
       "<div>\n",
       "<style scoped>\n",
       "    .dataframe tbody tr th:only-of-type {\n",
       "        vertical-align: middle;\n",
       "    }\n",
       "\n",
       "    .dataframe tbody tr th {\n",
       "        vertical-align: top;\n",
       "    }\n",
       "\n",
       "    .dataframe thead th {\n",
       "        text-align: right;\n",
       "    }\n",
       "</style>\n",
       "<table border=\"1\" class=\"dataframe\">\n",
       "  <thead>\n",
       "    <tr style=\"text-align: right;\">\n",
       "      <th></th>\n",
       "      <th>id</th>\n",
       "      <th>label</th>\n",
       "      <th>lat</th>\n",
       "      <th>lon</th>\n",
       "    </tr>\n",
       "  </thead>\n",
       "  <tbody>\n",
       "    <tr>\n",
       "      <th>0</th>\n",
       "      <td>20</td>\n",
       "      <td>Oakdale</td>\n",
       "      <td>40.60</td>\n",
       "      <td>-111.84</td>\n",
       "    </tr>\n",
       "    <tr>\n",
       "      <th>1</th>\n",
       "      <td>47</td>\n",
       "      <td>OZONE TEST</td>\n",
       "      <td>40.48</td>\n",
       "      <td>-111.88</td>\n",
       "    </tr>\n",
       "    <tr>\n",
       "      <th>2</th>\n",
       "      <td>53</td>\n",
       "      <td>Lakeshore</td>\n",
       "      <td>40.25</td>\n",
       "      <td>-111.70</td>\n",
       "    </tr>\n",
       "    <tr>\n",
       "      <th>...</th>\n",
       "      <td>...</td>\n",
       "      <td>...</td>\n",
       "      <td>...</td>\n",
       "      <td>...</td>\n",
       "    </tr>\n",
       "    <tr>\n",
       "      <th>23135</th>\n",
       "      <td>132237</td>\n",
       "      <td>1965 Valleyview Drive</td>\n",
       "      <td>50.68</td>\n",
       "      <td>-120.27</td>\n",
       "    </tr>\n",
       "    <tr>\n",
       "      <th>23136</th>\n",
       "      <td>132431</td>\n",
       "      <td>Granite Dells</td>\n",
       "      <td>34.24</td>\n",
       "      <td>-111.31</td>\n",
       "    </tr>\n",
       "    <tr>\n",
       "      <th>23137</th>\n",
       "      <td>132471</td>\n",
       "      <td>Joy's House</td>\n",
       "      <td>34.01</td>\n",
       "      <td>-117.66</td>\n",
       "    </tr>\n",
       "  </tbody>\n",
       "</table>\n",
       "<p>23138 rows × 4 columns</p>\n",
       "</div>"
      ],
      "text/plain": [
       "           id                  label    lat     lon\n",
       "0          20                Oakdale  40.60 -111.84\n",
       "1          47             OZONE TEST  40.48 -111.88\n",
       "2          53              Lakeshore  40.25 -111.70\n",
       "...       ...                    ...    ...     ...\n",
       "23135  132237  1965 Valleyview Drive  50.68 -120.27\n",
       "23136  132431          Granite Dells  34.24 -111.31\n",
       "23137  132471            Joy's House  34.01 -117.66\n",
       "\n",
       "[23138 rows x 4 columns]"
      ]
     },
     "execution_count": 48,
     "metadata": {},
     "output_type": "execute_result"
    }
   ],
   "source": [
    "pa_sites = (pd.DataFrame(pa_json['data'], columns=pa_json['fields'])\n",
    "            .pipe(subset_pa))\n",
    "pa_sites"
   ]
  },
  {
   "cell_type": "markdown",
   "metadata": {},
   "source": [
    "Now, the PurpleAir data is ready to join with the AQS data."
   ]
  },
  {
   "cell_type": "markdown",
   "metadata": {},
   "source": [
    "## Joining AQS and PurpleAir Data"
   ]
  },
  {
   "cell_type": "markdown",
   "metadata": {},
   "source": [
    "We have two dataframes:"
   ]
  },
  {
   "cell_type": "code",
   "execution_count": 62,
   "metadata": {},
   "outputs": [
    {
     "data": {
      "text/html": [
       "<div>\n",
       "<style scoped>\n",
       "    .dataframe tbody tr th:only-of-type {\n",
       "        vertical-align: middle;\n",
       "    }\n",
       "\n",
       "    .dataframe tbody tr th {\n",
       "        vertical-align: top;\n",
       "    }\n",
       "\n",
       "    .dataframe thead th {\n",
       "        text-align: right;\n",
       "    }\n",
       "</style>\n",
       "<table border=\"1\" class=\"dataframe\">\n",
       "  <thead>\n",
       "    <tr style=\"text-align: right;\">\n",
       "      <th></th>\n",
       "      <th>site_id</th>\n",
       "      <th>lat</th>\n",
       "      <th>lon</th>\n",
       "    </tr>\n",
       "  </thead>\n",
       "  <tbody>\n",
       "    <tr>\n",
       "      <th>0</th>\n",
       "      <td>01-003-0010</td>\n",
       "      <td>30.50</td>\n",
       "      <td>-87.88</td>\n",
       "    </tr>\n",
       "    <tr>\n",
       "      <th>1</th>\n",
       "      <td>01-027-0001</td>\n",
       "      <td>33.28</td>\n",
       "      <td>-85.80</td>\n",
       "    </tr>\n",
       "  </tbody>\n",
       "</table>\n",
       "</div>"
      ],
      "text/plain": [
       "       site_id    lat    lon\n",
       "0  01-003-0010  30.50 -87.88\n",
       "1  01-027-0001  33.28 -85.80"
      ]
     },
     "execution_count": 62,
     "metadata": {},
     "output_type": "execute_result"
    }
   ],
   "source": [
    "aqs_sites.head(2)"
   ]
  },
  {
   "cell_type": "code",
   "execution_count": 50,
   "metadata": {},
   "outputs": [
    {
     "data": {
      "text/html": [
       "<div>\n",
       "<style scoped>\n",
       "    .dataframe tbody tr th:only-of-type {\n",
       "        vertical-align: middle;\n",
       "    }\n",
       "\n",
       "    .dataframe tbody tr th {\n",
       "        vertical-align: top;\n",
       "    }\n",
       "\n",
       "    .dataframe thead th {\n",
       "        text-align: right;\n",
       "    }\n",
       "</style>\n",
       "<table border=\"1\" class=\"dataframe\">\n",
       "  <thead>\n",
       "    <tr style=\"text-align: right;\">\n",
       "      <th></th>\n",
       "      <th>id</th>\n",
       "      <th>label</th>\n",
       "      <th>lat</th>\n",
       "      <th>lon</th>\n",
       "    </tr>\n",
       "  </thead>\n",
       "  <tbody>\n",
       "    <tr>\n",
       "      <th>0</th>\n",
       "      <td>20</td>\n",
       "      <td>Oakdale</td>\n",
       "      <td>40.60</td>\n",
       "      <td>-111.84</td>\n",
       "    </tr>\n",
       "    <tr>\n",
       "      <th>1</th>\n",
       "      <td>47</td>\n",
       "      <td>OZONE TEST</td>\n",
       "      <td>40.48</td>\n",
       "      <td>-111.88</td>\n",
       "    </tr>\n",
       "  </tbody>\n",
       "</table>\n",
       "</div>"
      ],
      "text/plain": [
       "   id       label    lat     lon\n",
       "0  20     Oakdale  40.60 -111.84\n",
       "1  47  OZONE TEST  40.48 -111.88"
      ]
     },
     "execution_count": 50,
     "metadata": {},
     "output_type": "execute_result"
    }
   ],
   "source": [
    "pa_sites.head(2)"
   ]
  },
  {
   "cell_type": "markdown",
   "metadata": {},
   "source": [
    "Our goal is to match rows from these two dataframes where the sites are within\n",
    "50 meters of each other.\n",
    "This is a bit more challenging than the joins\n",
    "we've seen thus far.\n",
    "For instance, one naive approach is to use the `merge` method of `pandas`:"
   ]
  },
  {
   "cell_type": "code",
   "execution_count": 52,
   "metadata": {},
   "outputs": [
    {
     "data": {
      "text/html": [
       "<div>\n",
       "<style scoped>\n",
       "    .dataframe tbody tr th:only-of-type {\n",
       "        vertical-align: middle;\n",
       "    }\n",
       "\n",
       "    .dataframe tbody tr th {\n",
       "        vertical-align: top;\n",
       "    }\n",
       "\n",
       "    .dataframe thead th {\n",
       "        text-align: right;\n",
       "    }\n",
       "</style>\n",
       "<table border=\"1\" class=\"dataframe\">\n",
       "  <thead>\n",
       "    <tr style=\"text-align: right;\">\n",
       "      <th></th>\n",
       "      <th>site_id</th>\n",
       "      <th>lat</th>\n",
       "      <th>lon</th>\n",
       "      <th>id</th>\n",
       "      <th>label</th>\n",
       "    </tr>\n",
       "  </thead>\n",
       "  <tbody>\n",
       "    <tr>\n",
       "      <th>0</th>\n",
       "      <td>06-111-1004</td>\n",
       "      <td>34.45</td>\n",
       "      <td>-119.23</td>\n",
       "      <td>48393</td>\n",
       "      <td>VCAPCD OJ</td>\n",
       "    </tr>\n",
       "  </tbody>\n",
       "</table>\n",
       "</div>"
      ],
      "text/plain": [
       "       site_id    lat     lon     id      label\n",
       "0  06-111-1004  34.45 -119.23  48393  VCAPCD OJ"
      ]
     },
     "execution_count": 52,
     "metadata": {},
     "output_type": "execute_result"
    }
   ],
   "source": [
    "# Does *not* join properly\n",
    "aqs_sites.merge(pa_sites, left_on=['lat', 'lon'], right_on=['lat', 'lon'])"
   ]
  },
  {
   "cell_type": "markdown",
   "metadata": {},
   "source": [
    "However, this matches AQS and PurpleAir sites that have the exact same latitude\n",
    "and longitude.\n",
    "We won't use the code above because it doesn't perform the join we want.\n",
    "For each AQS site, we want to see find the PurpleAir sites that are\n",
    "\"close enough\", so we match rows even if they have slightly different\n",
    "latitudes and longitudes.\n",
    "\n",
    "But how much difference in latitude and longitude correspond to 50 meters?\n",
    "Here, we'll use a simple approximation: `111,111` meters in the\n",
    "north-south direction roughly equal to\n",
    "one degree of latitude, and `111,111 * cos(latitude)` in the east-west direction\n",
    "correspond to one degree of longitude [^latlon].\n",
    "Thus, we can find the latitude and longitude ranges that correspond to 25 meters\n",
    "in each direction (to make a 50m by 50m rectangle around each point).\n",
    "\n",
    "[^latlon]: This estimation works by assuming that the Earth is perfectly spherical.\n",
    "Then, one degree of latitude is $ \\frac{\\pi}{180} \\cdot r $, where $ r $ is the\n",
    "radius of the Earth in meters.\n",
    "Plugging in the average radius of the Earth gives 111,111 meters per degree of latitude.\n",
    "Longitude is the same, but the radius of each \"ring\" around the Earth decreases\n",
    "as we get closer to the poles, so we adjust by a factor of $ \\cos(\\text{lat}) $ .\n",
    "It turns out that the Earth isn't perfectly spherical, so these estimations\n",
    "can't be used for precise calculations, like landing a rocket.\n",
    "But for our purposes they do just fine."
   ]
  },
  {
   "cell_type": "code",
   "execution_count": 54,
   "metadata": {},
   "outputs": [
    {
     "data": {
      "text/plain": [
       "0.000225000225000225"
      ]
     },
     "execution_count": 54,
     "metadata": {},
     "output_type": "execute_result"
    }
   ],
   "source": [
    "magic_meters_per_lat = 111_111\n",
    "offset_in_m = 25\n",
    "offset_in_lat = offset_in_m / magic_meters_per_lat\n",
    "offset_in_lat"
   ]
  },
  {
   "cell_type": "code",
   "execution_count": 61,
   "metadata": {},
   "outputs": [
    {
     "data": {
      "text/plain": [
       "0.000291515219937587"
      ]
     },
     "execution_count": 61,
     "metadata": {},
     "output_type": "execute_result"
    }
   ],
   "source": [
    "# To simplify even more, we'll use the median latitude for the AQS sites\n",
    "median_latitude = aqs_sites['lat'].median()\n",
    "magic_meters_per_lon = 111_111 * np.cos(np.radians(median_latitude))\n",
    "offset_in_lon = offset_in_m / magic_meters_per_lon\n",
    "offset_in_lon"
   ]
  },
  {
   "cell_type": "markdown",
   "metadata": {},
   "source": [
    "Finally, we'll join AQS and PurpleAir sites together where the coordinates are\n",
    "within the `offset_in_lat` and `offset_in_lon` of each other.\n",
    "Doing this in SQL is much easier than doing it in `pandas`, so we'll\n",
    "push the tables into a temporary SQLite database, then run a query to read\n",
    "the tables back into a dataframe."
   ]
  },
  {
   "cell_type": "code",
   "execution_count": 74,
   "metadata": {},
   "outputs": [],
   "source": [
    "import sqlalchemy\n",
    "\n",
    "# An empty database name uses an in-memory sqlite database that doesn't save\n",
    "# any files to disk\n",
    "db = sqlalchemy.create_engine('sqlite://')\n",
    "\n",
    "aqs_sites.to_sql(name='aqs', con=db, index=False)\n",
    "pa_sites.to_sql(name='pa', con=db, index=False)"
   ]
  },
  {
   "cell_type": "code",
   "execution_count": 96,
   "metadata": {},
   "outputs": [
    {
     "data": {
      "text/html": [
       "<div>\n",
       "<style scoped>\n",
       "    .dataframe tbody tr th:only-of-type {\n",
       "        vertical-align: middle;\n",
       "    }\n",
       "\n",
       "    .dataframe tbody tr th {\n",
       "        vertical-align: top;\n",
       "    }\n",
       "\n",
       "    .dataframe thead th {\n",
       "        text-align: right;\n",
       "    }\n",
       "</style>\n",
       "<table border=\"1\" class=\"dataframe\">\n",
       "  <thead>\n",
       "    <tr style=\"text-align: right;\">\n",
       "      <th></th>\n",
       "      <th>aqs_id</th>\n",
       "      <th>pa_id</th>\n",
       "      <th>pa_label</th>\n",
       "      <th>aqs_lat</th>\n",
       "      <th>aqs_lon</th>\n",
       "      <th>pa_lat</th>\n",
       "      <th>pa_lon</th>\n",
       "    </tr>\n",
       "  </thead>\n",
       "  <tbody>\n",
       "    <tr>\n",
       "      <th>0</th>\n",
       "      <td>06-019-0011</td>\n",
       "      <td>6568</td>\n",
       "      <td>IMPROVE_FRES2</td>\n",
       "      <td>36.79</td>\n",
       "      <td>-119.77</td>\n",
       "      <td>36.79</td>\n",
       "      <td>-119.77</td>\n",
       "    </tr>\n",
       "    <tr>\n",
       "      <th>1</th>\n",
       "      <td>06-019-0011</td>\n",
       "      <td>13485</td>\n",
       "      <td>AMTS_Fresno</td>\n",
       "      <td>36.79</td>\n",
       "      <td>-119.77</td>\n",
       "      <td>36.79</td>\n",
       "      <td>-119.77</td>\n",
       "    </tr>\n",
       "    <tr>\n",
       "      <th>2</th>\n",
       "      <td>06-019-0011</td>\n",
       "      <td>44427</td>\n",
       "      <td>Fresno CARB CCAC</td>\n",
       "      <td>36.79</td>\n",
       "      <td>-119.77</td>\n",
       "      <td>36.79</td>\n",
       "      <td>-119.77</td>\n",
       "    </tr>\n",
       "    <tr>\n",
       "      <th>...</th>\n",
       "      <td>...</td>\n",
       "      <td>...</td>\n",
       "      <td>...</td>\n",
       "      <td>...</td>\n",
       "      <td>...</td>\n",
       "      <td>...</td>\n",
       "      <td>...</td>\n",
       "    </tr>\n",
       "    <tr>\n",
       "      <th>146</th>\n",
       "      <td>53-061-1007</td>\n",
       "      <td>3659</td>\n",
       "      <td>Marysville 7th</td>\n",
       "      <td>48.05</td>\n",
       "      <td>-122.17</td>\n",
       "      <td>48.05</td>\n",
       "      <td>-122.17</td>\n",
       "    </tr>\n",
       "    <tr>\n",
       "      <th>147</th>\n",
       "      <td>53-063-0021</td>\n",
       "      <td>54603</td>\n",
       "      <td>Augusta 1 SRCAA</td>\n",
       "      <td>47.67</td>\n",
       "      <td>-117.36</td>\n",
       "      <td>47.67</td>\n",
       "      <td>-117.36</td>\n",
       "    </tr>\n",
       "    <tr>\n",
       "      <th>148</th>\n",
       "      <td>56-021-0100</td>\n",
       "      <td>50045</td>\n",
       "      <td>WDEQ-AQD Cheyenne NCore</td>\n",
       "      <td>41.18</td>\n",
       "      <td>-104.78</td>\n",
       "      <td>41.18</td>\n",
       "      <td>-104.78</td>\n",
       "    </tr>\n",
       "  </tbody>\n",
       "</table>\n",
       "<p>149 rows × 7 columns</p>\n",
       "</div>"
      ],
      "text/plain": [
       "          aqs_id  pa_id                 pa_label  aqs_lat  aqs_lon  pa_lat  \\\n",
       "0    06-019-0011   6568            IMPROVE_FRES2    36.79  -119.77   36.79   \n",
       "1    06-019-0011  13485              AMTS_Fresno    36.79  -119.77   36.79   \n",
       "2    06-019-0011  44427         Fresno CARB CCAC    36.79  -119.77   36.79   \n",
       "..           ...    ...                      ...      ...      ...     ...   \n",
       "146  53-061-1007   3659           Marysville 7th    48.05  -122.17   48.05   \n",
       "147  53-063-0021  54603          Augusta 1 SRCAA    47.67  -117.36   47.67   \n",
       "148  56-021-0100  50045  WDEQ-AQD Cheyenne NCore    41.18  -104.78   41.18   \n",
       "\n",
       "     pa_lon  \n",
       "0   -119.77  \n",
       "1   -119.77  \n",
       "2   -119.77  \n",
       "..      ...  \n",
       "146 -122.17  \n",
       "147 -117.36  \n",
       "148 -104.78  \n",
       "\n",
       "[149 rows x 7 columns]"
      ]
     },
     "execution_count": 96,
     "metadata": {},
     "output_type": "execute_result"
    }
   ],
   "source": [
    "query = f'''\n",
    "SELECT\n",
    "  aqs.site_id AS aqs_id,\n",
    "  pa.id AS pa_id,\n",
    "  pa.label AS pa_label,\n",
    "  aqs.lat AS aqs_lat,\n",
    "  aqs.lon AS aqs_lon,\n",
    "  pa.lat AS pa_lat,\n",
    "  pa.lon AS pa_lon\n",
    "FROM aqs JOIN pa\n",
    "  ON  pa.lat - {offset_in_lat} <= aqs.lat\n",
    "  AND                             aqs.lat <= pa.lat + {offset_in_lat}\n",
    "  AND pa.lon - {offset_in_lon} <= aqs.lon\n",
    "  AND                             aqs.lon <= pa.lon + {offset_in_lon}\n",
    "'''\n",
    "matched = pd.read_sql(query, db)\n",
    "matched"
   ]
  },
  {
   "cell_type": "markdown",
   "metadata": {},
   "source": [
    "We've achieved our goal---we matched AQS sites with PurpleAir sensors.\n",
    "Barkjohn's paper mentions that they found 42 candidate matches in August of 2018.\n",
    "We ran this analysis using 2021 data, and we have 149 candidate matches.\n",
    "Perhaps in the years between 2018 and 2021 many more AQS or PurpleAir\n",
    "sensors were installed.\n",
    "In either case, this part of the analysis provides a taste of the types of wrangling\n",
    "we'll use again in the rest of this chapter.\n",
    "In the next section, we'll wrangle, explore, and clean sensor data from an AQS site."
   ]
  },
  {
   "cell_type": "code",
   "execution_count": null,
   "metadata": {},
   "outputs": [],
   "source": []
  }
 ],
 "metadata": {
  "celltoolbar": "Tags",
  "kernelspec": {
   "display_name": "Python 3 (ipykernel)",
   "language": "python",
   "name": "python3"
  },
  "language_info": {
   "codemirror_mode": {
    "name": "ipython",
    "version": 3
   },
   "file_extension": ".py",
   "mimetype": "text/x-python",
   "name": "python",
   "nbconvert_exporter": "python",
   "pygments_lexer": "ipython3",
   "version": "3.8.5"
  }
 },
 "nbformat": 4,
 "nbformat_minor": 4
}
