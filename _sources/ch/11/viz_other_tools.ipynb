{
 "cells": [
  {
   "cell_type": "code",
   "execution_count": 1,
   "metadata": {
    "tags": [
     "remove-cell"
    ]
   },
   "outputs": [],
   "source": [
    "# Reference: https://jupyterbook.org/interactive/hiding.html\n",
    "# Use {hide, remove}-{input, output, cell} tags to hiding content\n",
    "\n",
    "import numpy as np\n",
    "import matplotlib.pyplot as plt\n",
    "import pandas as pd\n",
    "import seaborn as sns\n",
    "%matplotlib inline\n",
    "import ipywidgets as widgets\n",
    "from ipywidgets import interact, interactive, fixed, interact_manual\n",
    "from IPython.display import display, set_matplotlib_formats\n",
    "import myst_nb\n",
    "\n",
    "import plotly\n",
    "import plotly.graph_objects as go\n",
    "import plotly.express as px\n",
    "from plotly.subplots import make_subplots\n",
    "import plotly.io as pio\n",
    "pio.renderers.default = 'plotly_mimetype+svg'\n",
    "pio.templates['book'] = go.layout.Template(\n",
    "    layout=dict(\n",
    "        margin=dict(l=10, r=10, t=10, b=10),\n",
    "        autosize=True,\n",
    "        width=350, height=250,\n",
    "    )\n",
    ")\n",
    "pio.templates.default = 'seaborn+book'\n",
    "\n",
    "set_matplotlib_formats('svg')\n",
    "sns.set()\n",
    "np.set_printoptions(threshold=20, precision=2, suppress=True)\n",
    "pd.set_option('display.max_rows', 7)\n",
    "pd.set_option('display.max_columns', 8)\n",
    "pd.set_option('precision', 2)\n",
    "# This option stops scientific notation for pandas\n",
    "# pd.set_option('display.float_format', '{:.2f}'.format)\n",
    "\n",
    "def display_df(df, rows=pd.options.display.max_rows,\n",
    "               cols=pd.options.display.max_columns):\n",
    "    with pd.option_context('display.max_rows', rows,\n",
    "                           'display.max_columns', cols):\n",
    "        display(df)"
   ]
  },
  {
   "cell_type": "markdown",
   "metadata": {},
   "source": [
    "(ch:viz_other_tools)=\n",
    "# Other Tools for Visualization\n"
   ]
  },
  {
   "cell_type": "markdown",
   "metadata": {},
   "source": [
    "There are many software packages and tools for creating data visualizations.\n",
    "In this book, we primarily use `plotly`.\n",
    "But it's worth knowing about a few other commonly used tools.\n",
    "In this section, we'll compare `plotly` to `matplotlib` and grammar of graphics\n",
    "tools."
   ]
  },
  {
   "cell_type": "markdown",
   "metadata": {},
   "source": [
    "## `matplotlib`\n",
    "\n",
    "`matplotlib` is one of the first data visualization tools for Python.\n",
    "Because of this, it is widely used and has a large ecosystem of packages.\n",
    "Notably, the built-in plotting methods for `pandas` dataframes\n",
    "make plots using `matplotlib`.\n",
    "One popular package that builds on top of `matplotlib` is called `seaborn`.\n",
    "Compared to `matplotlib` alone,\n",
    "`seaborn` provides a much simpler API to create statistical plots, like\n",
    "dot plots with confidence intervals.\n",
    "In fact, `seaborn`'s API was used as an inspiration for `plotly`'s API.\n",
    "If you look at `plotly` code and `seaborn` code side-by-side, you'll find that\n",
    "creating basic plots methods uses similar code.\n",
    "\n",
    "One advantage of using `matplotlib` is its popularity.\n",
    "It's relatively easy to find help creating or fine-tuning plots online because\n",
    "many existing projects use it. \n",
    "For this book, the main advantage of using `plotly` is that the plots we\n",
    "create are interactive.\n",
    "Plots in `matplotlib` are usually static images, which don't allow for panning,\n",
    "zooming, or hovering over marks.\n",
    "Still, we expect that `matplotlib` will continue to be used for data analyses,\n",
    "so we think it's worth learning the basics by looking through its\n",
    "documentation [^mpl].\n",
    "\n",
    "[^mpl]: https://matplotlib.org/"
   ]
  },
  {
   "cell_type": "markdown",
   "metadata": {},
   "source": [
    "## Grammar of Graphics \n",
    "\n",
    "The grammar of graphics is a mathematical theory for creating data\n",
    "visualizations {cite}`wilkinson2012grammar`.\n",
    "The basic idea is to find common building blocks for making plots.\n",
    "For instance, a bar plot and a dot plot are nearly identical, except that \n",
    "a bar plot draws rectangular marks and a dot plot draws points.\n",
    "This idea is captured in the grammar of graphics, which would say that\n",
    "a bar plot and a dot plot differ only in their \"geometry\" component.\n",
    "The grammar of graphics is an elegant system since we can use it to derive \n",
    "nearly every kind of plot we wish to make.\n",
    "\n",
    "This system is implemented in the popular plotting libraries `ggplot2` for the\n",
    "R programming language and `vega` for JavaScript.\n",
    "A Python package called `altair` provides a way to create `vega` plots using\n",
    "Python, and we encourage interested readers to look over its documentation\n",
    "[^altair].\n",
    "\n",
    "Using a grammar of graphics tool like `altair` enables\n",
    "great flexibility in visualizations.\n",
    "And like `plotly`, `altair` also creates interactive visualizations.\n",
    "However, the Python API for these tools can be less straightforward than\n",
    "`plotly`'s API.\n",
    "In this book, we don't typically need plots outside of what `plotly` is capable\n",
    "of creating, so we opted for `plotly`'s simpler API. \n",
    "\n",
    "[^altair]: https://altair-viz.github.io/"
   ]
  },
  {
   "cell_type": "markdown",
   "metadata": {},
   "source": [
    "There are many more plotting tools for Python that we've left out for brevity.\n",
    "But for the purposes of this book, relying on `plotly` provides a useful\n",
    "balance of interactivity and flexibility.\n",
    "In the next section, we'll summarize what we've covered in this chapter."
   ]
  },
  {
   "cell_type": "code",
   "execution_count": null,
   "metadata": {},
   "outputs": [],
   "source": []
  }
 ],
 "metadata": {
  "kernelspec": {
   "display_name": "Python 3",
   "language": "python",
   "name": "python3"
  },
  "language_info": {
   "codemirror_mode": {
    "name": "ipython",
    "version": 3
   },
   "file_extension": ".py",
   "mimetype": "text/x-python",
   "name": "python",
   "nbconvert_exporter": "python",
   "pygments_lexer": "ipython3",
   "version": "3.9.4"
  }
 },
 "nbformat": 4,
 "nbformat_minor": 4
}
