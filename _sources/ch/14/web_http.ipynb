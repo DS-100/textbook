{
 "cells": [
  {
   "cell_type": "code",
   "execution_count": 1,
   "metadata": {
    "tags": [
     "remove-cell"
    ]
   },
   "outputs": [],
   "source": [
    "import sys\n",
    "import os\n",
    "if not any(path.endswith('textbook') for path in sys.path):\n",
    "    sys.path.append(os.path.abspath('../../..'))\n",
    "from textbook_utils import *"
   ]
  },
  {
   "cell_type": "markdown",
   "metadata": {
    "colab_type": "text",
    "id": "C9asOtmc0K6v"
   },
   "source": [
    "# HTTP\n",
    "\n",
    "HTTP (AKA **H**yper**T**ext **T**ransfer **P**rotocol) is an all-purpose infrastructure to access resources on the web. There are a tremendous number of datasets available to us on the Internet. HTTP enables us to make requests for data. This includes your browser requesting a web page to display, a Web form to formulate a request for data, and other protocols (such as REST) to request data. HTTP is a simple *request-response* protocol for computers to talk to another over the Internet."
   ]
  },
  {
   "cell_type": "markdown",
   "metadata": {
    "colab_type": "text",
    "id": "PfSmQf_a0K6w"
   },
   "source": [
    "## Requests and Responses\n",
    "\n",
    "The Internet allows computers to send text to one another, but does not impose any restrictions on what that text contains. HTTP defines a structure on the text communication between an application, the client, and the server. In this protocol, a client submits a *request* to a server, a specially formatted text message, and the server sends a specially formatted text  *response* back."
   ]
  },
  {
   "cell_type": "markdown",
   "metadata": {},
   "source": [
    "A request consists of two parts: a header and an optional body. The header must follow a specific syntax. An example request to obtain the Wikipedia web page shown in {numref}`Figure %s <fig-wiki-1500>` looks like this:\n",
    "\n",
    "```\n",
    "GET /wiki/1500_metres_world_record_progression HTTP/1.1\n",
    "Host: en.wikipedia.org\n",
    "User-Agent: curl/7.65.2\n",
    "Accept: */* \n",
    "{blank_line}\n",
    "``` "
   ]
  },
  {
   "cell_type": "markdown",
   "metadata": {},
   "source": [
    "The first line of this request follows a specific format. This first line contains three pieces of information: it starts with the method of the request, which is GET, then follows the URL of the web page that we want, and ends with the protocol and version. Each of the three lines that follow form the HTTP header, auxiliary information that is sent to the server. The HTTP header information has the format `{name}: {value}`. Finally, the blank line at the end of the message tells the server that the message has ended. Note that we've marked the blank line with `{blank_line}` in the snippet above; in the actual message `{blank_line}` is actually a blank line."
   ]
  },
  {
   "cell_type": "markdown",
   "metadata": {},
   "source": [
    "```{figure} figures/Wikipedia1500mScreen23-02-24.png\n",
    "---\n",
    "name: fig-wiki-1500\n",
    "---\n",
    "\n",
    "Screenshot of the [Wikipedia page](https://en.wikipedia.org/wiki/1500_metres_world_record_progression) with data on the World Record for the 1500 meter race.\n",
    "```"
   ]
  },
  {
   "cell_type": "markdown",
   "metadata": {},
   "source": [
    "The client's computer uses the Internet to send this message to the Wikipedia web server. The server processes the request, and sends a response, which also consists of a header and body. The header looks like the following response:\n",
    "\n",
    "```\n",
    "< HTTP/1.1 200 OK\n",
    "< date: Fri, 24 Feb 2023 00:11:49 GMT\n",
    "< server: mw1369.eqiad.wmnet\n",
    "< x-content-type-options: nosniff\n",
    "< content-language: en\n",
    "< vary: Accept-Encoding,Cookie,Authorization\n",
    "< last-modified: Tue, 21 Feb 2023 15:00:46 GMT\n",
    "< content-type: text/html; charset=UTF-8\n",
    "...\n",
    "< content-length: 153912\n",
    "{blank_line}\n",
    "```\n",
    "\n",
    "The first line of the header states that the request completed successfully; the code is 200. The following lines form additional optional information that the server sends back to the client. We shortened this response quite a bit to focus on a few pieces of information about the response body. We are informed that the content of the body is HTML and uses the UTF-8 encoding, and that the content is 153912 characters in length. Finally, the blank line at the end of the header tells the client that the server has finished sending its response headers and the response body follows, which is the HTML page. "
   ]
  },
  {
   "cell_type": "markdown",
   "metadata": {},
   "source": [
    "This HTTP protocol is used in almost every application that interacts with the Internet. For example, if you visit the Wikipedia page in your web browser, the browser makes the same basic HTTP request as the command above. It then displays the body of the response in your browser's window so it looks like the screen shot in {numref}`Figure %s <fig-wiki-1500>`. \n",
    "\n",
    "In practice, we do not write out full HTTP requests in text. Instead, we use tools like the `requests` Python library to construct requests for us. The code below constructs the HTTP request for us. We simply pass it the URL and indicate that the GET method should be used with `requests.get`."
   ]
  },
  {
   "cell_type": "code",
   "execution_count": 35,
   "metadata": {
    "colab": {
     "autoexec": {
      "startup": false,
      "wait_interval": 0
     },
     "base_uri": "https://localhost:8080/",
     "height": 34
    },
    "colab_type": "code",
    "executionInfo": {
     "elapsed": 346,
     "status": "ok",
     "timestamp": 1523471119234,
     "user": {
      "displayName": "TIFFANY THERESA JANN",
      "photoUrl": "https://lh3.googleusercontent.com/a/default-user=s128",
      "userId": "107371321413131637774"
     },
     "user_tz": 420
    },
    "id": "bWtSMNiJ8PUu",
    "outputId": "ad66ba9e-17d8-4a48-e09e-7434f9995974"
   },
   "outputs": [],
   "source": [
    "import requests\n",
    "\n",
    "url_1500 = 'https://en.wikipedia.org/wiki/1500_metres_world_record_progression'"
   ]
  },
  {
   "cell_type": "code",
   "execution_count": 44,
   "metadata": {},
   "outputs": [],
   "source": [
    "resp_1500 = requests.get(url_1500)"
   ]
  },
  {
   "cell_type": "markdown",
   "metadata": {},
   "source": [
    "Let's check the status of the request to make sure the server completed our request successfully."
   ]
  },
  {
   "cell_type": "code",
   "execution_count": 45,
   "metadata": {
    "colab": {
     "autoexec": {
      "startup": false,
      "wait_interval": 0
     },
     "base_uri": "https://localhost:8080/",
     "height": 34
    },
    "colab_type": "code",
    "executionInfo": {
     "elapsed": 306,
     "status": "ok",
     "timestamp": 1523471565520,
     "user": {
      "displayName": "TIFFANY THERESA JANN",
      "photoUrl": "https://lh3.googleusercontent.com/a/default-user=s128",
      "userId": "107371321413131637774"
     },
     "user_tz": 420
    },
    "id": "vTFq3Tdm0K7H",
    "outputId": "ebd84dfe-04ff-4da2-e452-ce227b2f0dbc"
   },
   "outputs": [
    {
     "data": {
      "text/plain": [
       "200"
      ]
     },
     "execution_count": 45,
     "metadata": {},
     "output_type": "execute_result"
    }
   ],
   "source": [
    "resp_1500.status_code"
   ]
  },
  {
   "cell_type": "markdown",
   "metadata": {},
   "source": [
    "We have many attributes available to us so we can thoroughly examine the request and response. Let's take a look at the header key/value pairs that was sent as part of our request. The header information is stored as a dictionary. "
   ]
  },
  {
   "cell_type": "code",
   "execution_count": 47,
   "metadata": {
    "cellView": "code",
    "colab": {
     "autoexec": {
      "startup": false,
      "wait_interval": 0
     },
     "base_uri": "https://localhost:8080/",
     "height": 86
    },
    "colab_type": "code",
    "executionInfo": {
     "elapsed": 340,
     "status": "ok",
     "timestamp": 1523471831894,
     "user": {
      "displayName": "TIFFANY THERESA JANN",
      "photoUrl": "https://lh3.googleusercontent.com/a/default-user=s128",
      "userId": "107371321413131637774"
     },
     "user_tz": 420
    },
    "id": "H7uZ1npO0K67",
    "outputId": "6380dea2-0764-4841-bc1c-06acd2539b4b"
   },
   "outputs": [
    {
     "name": "stdout",
     "output_type": "stream",
     "text": [
      "User-Agent: python-requests/2.25.1\n",
      "Accept-Encoding: gzip, deflate\n",
      "Accept: */*\n",
      "Connection: keep-alive\n"
     ]
    }
   ],
   "source": [
    "for key in resp_1500.request.headers:\n",
    "    print(f'{key}: {request.headers[key]}')"
   ]
  },
  {
   "cell_type": "markdown",
   "metadata": {},
   "source": [
    "While, we did not specify any header information in our request; the `request.get` function provided them for us. However, if there are additional pieces of information that the server expects in a request, we can specify them. We demonstrate this in the example of the next section. "
   ]
  },
  {
   "cell_type": "markdown",
   "metadata": {
    "colab_type": "text",
    "id": "lxI7P4jm0K7A"
   },
   "source": [
    "Now, let's examine the header of the response we received from the server."
   ]
  },
  {
   "cell_type": "code",
   "execution_count": 48,
   "metadata": {},
   "outputs": [
    {
     "data": {
      "text/plain": [
       "20"
      ]
     },
     "execution_count": 48,
     "metadata": {},
     "output_type": "execute_result"
    }
   ],
   "source": [
    "len(resp_1500.headers)"
   ]
  },
  {
   "cell_type": "markdown",
   "metadata": {},
   "source": [
    "With so much header information, we just display a few key/value pairs."
   ]
  },
  {
   "cell_type": "code",
   "execution_count": 51,
   "metadata": {
    "colab": {
     "autoexec": {
      "startup": false,
      "wait_interval": 0
     }
    },
    "colab_type": "code",
    "id": "38aHtUBe0K7B",
    "outputId": "28e49080-9321-41ae-acfc-8537ca7fa43a"
   },
   "outputs": [
    {
     "name": "stdout",
     "output_type": "stream",
     "text": [
      "date: Fri, 24 Feb 2023 00:11:49 GMT\n",
      "content-type: text/html; charset=UTF-8\n",
      "content-length: 22978\n"
     ]
    }
   ],
   "source": [
    "keys = ['date', 'content-type', 'content-length' ]\n",
    "for key in keys:\n",
    "    print(f'{key}: {resp_1500.headers[key]}')"
   ]
  },
  {
   "cell_type": "markdown",
   "metadata": {},
   "source": [
    "The response header informs us that the body of the response HTML and its encoding is UTF-8. We are also told that the body has over 20,000 bytes. Finally, we display the first 600 characters of the response body (the entire content is too long to display nicely here)."
   ]
  },
  {
   "cell_type": "code",
   "execution_count": 53,
   "metadata": {},
   "outputs": [
    {
     "data": {
      "text/plain": [
       "'<!DOCTYPE html>\\n<html class=\"client-nojs vector-feature-language-in-header-enabled vector-feature-language-in-main-page-header-disabled vector-feature-language-alert-in-sidebar-enabled vector-feature-sticky-header-disabled vector-feature-page-tools-disabled vector-feature-page-tools-pinned-disabled vector-feature-main-menu-pinned-disabled vector-feature-limited-width-enabled vector-feature-limited-width-content-enabled\" lang=\"en\" dir=\"ltr\">\\n<head>\\n<meta charset=\"UTF-8\"/>\\n<title>1500 metres world record progression - Wikipedia</title>\\n<script>document.documentElement.className=\"client-js vector'"
      ]
     },
     "execution_count": 53,
     "metadata": {},
     "output_type": "execute_result"
    }
   ],
   "source": [
    "resp_1500.text[:600]"
   ]
  },
  {
   "cell_type": "markdown",
   "metadata": {},
   "source": [
    "We see that the response is an HTML document and it contains a title `1500 metres world record progression - Wikipedia`. We have successfully retrieved the web page shown in {numref}`Figure %s <fig-wiki-1500>`."
   ]
  },
  {
   "cell_type": "markdown",
   "metadata": {
    "colab_type": "text",
    "id": "0nkJHMtJ0K7b"
   },
   "source": [
    "## Types of Response Status Codes\n",
    "\n",
    "The previous HTTP responses had the HTTP status code `200`. This status code indicates that the request completed successfully. There are hundreds of other HTTP status codes. Thankfully, they are grouped into categories to make them easier to remember:"
   ]
  },
  {
   "cell_type": "markdown",
   "metadata": {},
   "source": [
    ":::{table} Response Status Codes\n",
    ":name: response-codes\n",
    "\n",
    "| Code   | Type    |  Description                                                                  |\n",
    "|--------|---------|-------------------------------------------------------------------------------|\n",
    "| 100s   | Informational | More input is expected from client or server (100 Continue, 102 Processing, etc.) |\n",
    "| 200s   | Success  | The client's request was successful (200 OK, 202 Accepted, etc.) |\n",
    "| 300s   | Redirection | Requested URL is located elsewhere; May need user's further action (300 Multiple Choices, 301 Moved Permanently, etc.)  |\n",
    "| 400s   | Client Error |  Client-side error (400 Bad Request, 403 Forbidden, 404 Not Found, etc.)         |\n",
    "| 500s   | Server Error |  Server-side error or server is incapable of performing the request (500 Internal Server Error, 503 Service Unavailable, etc.) |\n",
    "\n",
    ":::"
   ]
  },
  {
   "cell_type": "markdown",
   "metadata": {},
   "source": [
    "As an example, the following request is for a resource that doesn't exist, so we get a 404 page not found error. When the data returned are not what you expect, a first step is to check the status code. "
   ]
  },
  {
   "cell_type": "code",
   "execution_count": 56,
   "metadata": {
    "colab": {
     "autoexec": {
      "startup": false,
      "wait_interval": 0
     }
    },
    "colab_type": "code",
    "id": "5SANbo8w0K7c",
    "outputId": "a0bc9752-f9c0-44c9-8a14-758e38ca02d1"
   },
   "outputs": [
    {
     "data": {
      "text/plain": [
       "404"
      ]
     },
     "execution_count": 56,
     "metadata": {},
     "output_type": "execute_result"
    }
   ],
   "source": [
    "url = \"https://www.youtube.com/404errorwow\"\n",
    "bad_loc = requests.get(url)\n",
    "bad_loc.status_code"
   ]
  },
  {
   "cell_type": "markdown",
   "metadata": {
    "colab_type": "text",
    "id": "jWRTnKQ90K7V"
   },
   "source": [
    "The request we made to retrieve the web page was a `GET` HTTP request. There are four main HTTP request types\" GET, POST, PUT, and DELETE. The two most commonly used methods are `GET` and `POST`. We just used GET to retrieve the web page."
   ]
  },
  {
   "cell_type": "code",
   "execution_count": 46,
   "metadata": {},
   "outputs": [
    {
     "data": {
      "text/plain": [
       "'GET'"
      ]
     },
     "execution_count": 46,
     "metadata": {},
     "output_type": "execute_result"
    }
   ],
   "source": [
    "resp_1500.request.method"
   ]
  },
  {
   "cell_type": "markdown",
   "metadata": {
    "colab_type": "text",
    "id": "jWRTnKQ90K7V"
   },
   "source": [
    "The `POST` request is used to send specific information from the client to the server. In the next section we use `POST` to retrieve data from Spotify. To access these data, we first need to send information that identifies us as a legitimate client who has registered as a developer. "
   ]
  }
 ],
 "metadata": {
  "colab": {
   "collapsed_sections": [],
   "default_view": {},
   "name": "ajkim@berkeley.edu_task1.ipynb",
   "provenance": [],
   "version": "0.3.2",
   "views": {}
  },
  "kernelspec": {
   "display_name": "Python 3",
   "language": "python",
   "name": "python3"
  },
  "language_info": {
   "codemirror_mode": {
    "name": "ipython",
    "version": 3
   },
   "file_extension": ".py",
   "mimetype": "text/x-python",
   "name": "python",
   "nbconvert_exporter": "python",
   "pygments_lexer": "ipython3",
   "version": "3.9.4"
  },
  "toc": {
   "nav_menu": {},
   "number_sections": false,
   "sideBar": false,
   "skip_h1_title": false,
   "title_cell": "Table of Contents",
   "title_sidebar": "Contents",
   "toc_cell": true,
   "toc_position": {},
   "toc_section_display": true,
   "toc_window_display": false
  }
 },
 "nbformat": 4,
 "nbformat_minor": 4
}
