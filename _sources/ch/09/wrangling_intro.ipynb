{
 "cells": [
  {
   "cell_type": "code",
   "execution_count": 1,
   "metadata": {
    "tags": [
     "remove-cell"
    ]
   },
   "outputs": [],
   "source": [
    "# Reference: https://jupyterbook.org/interactive/hiding.html\n",
    "# Use {hide, remove}-{input, output, cell} tags to hiding content\n",
    "\n",
    "import numpy as np\n",
    "import matplotlib.pyplot as plt\n",
    "import pandas as pd\n",
    "import seaborn as sns\n",
    "%matplotlib inline\n",
    "import ipywidgets as widgets\n",
    "from ipywidgets import interact, interactive, fixed, interact_manual\n",
    "from IPython.display import display\n",
    "import myst_nb\n",
    "\n",
    "sns.set()\n",
    "sns.set_context('talk')\n",
    "np.set_printoptions(threshold=20, precision=2, suppress=True)\n",
    "pd.set_option('display.max_rows', 7)\n",
    "pd.set_option('display.max_columns', 8)\n",
    "pd.set_option('precision', 2)\n",
    "# This option stops scientific notation for pandas\n",
    "# pd.set_option('display.float_format', '{:.2f}'.format)\n",
    "\n",
    "def display_df(df, rows=pd.options.display.max_rows,\n",
    "               cols=pd.options.display.max_columns):\n",
    "    with pd.option_context('display.max_rows', rows,\n",
    "                           'display.max_columns', cols):\n",
    "        display(df)"
   ]
  },
  {
   "cell_type": "markdown",
   "metadata": {},
   "source": [
    "(ch:wrangling)=\n",
    "# Data Wrangling\n"
   ]
  },
  {
   "cell_type": "markdown",
   "metadata": {},
   "source": [
    "We often need to perform preparatory work on our data before we can begin our\n",
    "analysis. The amount of preparation can vary widely, but there are a few basics\n",
    "for moving from raw data to data ready for analysis.  Beginning with a source\n",
    "file, we \"read\" it into a data frame. We need to know the source file's size,\n",
    "format, and encoding to properly create the data frame. We also need to\n",
    "understand the table's shape (numbers of rows and columns) and granularity\n",
    "(what a row represents). Once our data is in a data frame, we assess its\n",
    "quality. We perform validity checks on individual data values and features. In\n",
    "addition to checking the quality of the data, we learn whether or not the data\n",
    "need to be transformed and reshaped to get ready for analysis. Quality checking\n",
    "(and fixing) and transformation are often cyclical: the quality checks point us\n",
    "toward transformations we need to make and we check the transformed features to\n",
    "confirm whether the data are ready for analysis or need further cleaning and\n",
    "transforming."
   ]
  },
  {
   "cell_type": "markdown",
   "metadata": {},
   "source": [
    "Note that the data frame is a useful mental representation of the data's\n",
    "structure. Although there are many types of structures that can represent data,\n",
    "in this book, we will almost always work with data tables, such as data frames\n",
    "and relations, where rows correspond to observations/records and columns\n",
    "correspond to fields/features/variables.  We note that {numref}`Chapter %s <ch:text>` examines\n",
    "less-structured text data, and {numref}`Chapter %s <ch:web>` works with hierarchical data\n",
    "structures. Why restrict ourselves to data tables? First, research on how to\n",
    "best store and manipulate data tables has resulted in stable and efficient\n",
    "tools for working with tables. Second, data in a tabular format are close\n",
    "cousins of matrices, the mathematical objects of the immensely rich field of\n",
    "linear algebra. Finally, data tables are very common."
   ]
  },
  {
   "cell_type": "markdown",
   "metadata": {},
   "source": [
    "Depending on the data source, we often have different expectations for quality.\n",
    "Some datasets require extensive wrangling to get them into an analyzable form,\n",
    "and other datasets arrive clean and we can quickly launch into modeling.  Below\n",
    "are some examples of data sources and how much wrangling we might expect to do. "
   ]
  },
  {
   "cell_type": "markdown",
   "metadata": {},
   "source": [
    "- Data from a scientific experiment or study  are typically clean,\n",
    "  well-documented, and have a simple structure. These data are organized to be\n",
    "  broadly shared so that others can build on and reproduce the findings.  They\n",
    "  are typically ready for analysis after little to no wrangling.\n",
    "- Data from government surveys often come with very detailed codebooks and meta\n",
    "  data describing how the data are collected and formatted, and these datasets\n",
    "  are also typically ready for exploration and analysis.\n",
    "- Administrative data can be clean, but without inside knowledge of the source\n",
    "  we are often need to extensively check quality. Also, since we are typically\n",
    "  using these data for a purpose other than the reasons for collecting it, we\n",
    "  usually need to transform features and combine data tables.\n",
    "- Informally collected data, such as data scraped from the Web, can be quite\n",
    "  messy and tends to come with little documentation. For example, texts,\n",
    "  tweets, blogs, Wikipedia tables, etc. usually require formatting and cleaning\n",
    "  to transform them into quantitative information that is ready for analysis.\n"
   ]
  },
  {
   "cell_type": "markdown",
   "metadata": {},
   "source": [
    "In this chapter, we break down data wrangling into the following stages: learn\n",
    "the source file's format; determine the table's structure and shape; assess\n",
    "data quality; and transform and reshape the data. An important step in\n",
    "assessing the quality of the data is to consider its scope. Data scope is\n",
    "covered in {numref}`Chapter %s <ch:data_scope>`, and we refer you to that\n",
    "chapter for a fuller treatment of the topic. "
   ]
  },
  {
   "cell_type": "markdown",
   "metadata": {},
   "source": [
    "To clean and prepare data, we also rely on visualizations and exploratory data\n",
    "analysis. In this chapter, however, we'll focus on data wrangling and cover the\n",
    "other related topics in more detail in the {ref}`ch:eda` and {ref}`ch:viz`\n",
    "chapters. "
   ]
  },
  {
   "cell_type": "markdown",
   "metadata": {},
   "source": [
    "In the next section, we provide brief descriptions of three datasets that we\n",
    "use as examples throughout this chapter."
   ]
  },
  {
   "cell_type": "markdown",
   "metadata": {},
   "source": []
  }
 ],
 "metadata": {
  "kernelspec": {
   "display_name": "Python 3",
   "language": "python",
   "name": "python3"
  },
  "language_info": {
   "codemirror_mode": {
    "name": "ipython",
    "version": 3
   },
   "file_extension": ".py",
   "mimetype": "text/x-python",
   "name": "python",
   "nbconvert_exporter": "python",
   "pygments_lexer": "ipython3",
   "version": "3.9.4"
  }
 },
 "nbformat": 4,
 "nbformat_minor": 4
}
