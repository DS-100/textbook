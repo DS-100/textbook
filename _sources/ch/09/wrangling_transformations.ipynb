{
 "cells": [
  {
   "cell_type": "code",
   "execution_count": 5,
   "metadata": {
    "tags": [
     "remove-cell"
    ]
   },
   "outputs": [],
   "source": [
    "# Reference: https://jupyterbook.org/interactive/hiding.html\n",
    "# Use {hide, remove}-{input, output, cell} tags to hiding content\n",
    "\n",
    "import numpy as np\n",
    "import matplotlib.pyplot as plt\n",
    "import pandas as pd\n",
    "import seaborn as sns\n",
    "%matplotlib inline\n",
    "import ipywidgets as widgets\n",
    "from ipywidgets import interact, interactive, fixed, interact_manual\n",
    "from IPython.display import display\n",
    "import myst_nb\n",
    "\n",
    "sns.set()\n",
    "sns.set_context('talk')\n",
    "np.set_printoptions(threshold=20, precision=2, suppress=True)\n",
    "pd.set_option('display.max_rows', 7)\n",
    "pd.set_option('display.max_columns', 8)\n",
    "pd.set_option('precision', 2)\n",
    "# This option stops scientific notation for pandas\n",
    "# pd.set_option('display.float_format', '{:.2f}'.format)\n",
    "\n",
    "def display_df(df, rows=pd.options.display.max_rows,\n",
    "               cols=pd.options.display.max_columns):\n",
    "    with pd.option_context('display.max_rows', rows,\n",
    "                           'display.max_columns', cols):\n",
    "        display(df)\n",
    "        \n",
    "# inspections\n",
    "insp = pd.read_csv(\"data/inspections.csv\")\n",
    "\n",
    "# violations\n",
    "viol = pd.read_csv(\"data/violations.csv\")"
   ]
  },
  {
   "cell_type": "markdown",
   "metadata": {},
   "source": [
    "(ch:wrangling_transformations)=\n",
    "# Transformations\n",
    "\n",
    "At times a feature is not in a form best suited for analysis and so we transform it. There are many reasons a feature might need a transformation. The value codings might not be useful for analysis, we may want to combine two features into one using an arithmetic expression, or we might want to pull information out of a feature to create a new feature. We describe these three basic kinds of transformations: type conversions, mathematical transformations, and extractions.\n",
    "\n",
    "**Type conversion.** This kind of transformation occurs when we convert the data from one format to another to make the data more useful for analysis. We might convert information stored as a string to another format. For example, we would want to convert prices reported as strings to numeric (like changing \"$2.17\" to 2.17) so that we can compute summary statistics on them. Or, we might want to convert a time stored as a string, such as \"1955-10-12\", to a datetime format. Yet another example occurs when we  lump categories together, such as reducing the 11 categories for age in DAWN to 5 groupings.     \n",
    "\n",
    "**Mathematical transformation.** One kind of mathematical transformation is when we change the units of a measurement from, say, pounds to kilograms. We might make unit conversions so statistics on our data can be more easily compared to other statistics.  Yet another reason to transform a feature is to symmetrize its distribution (this notion is covered in {numref}`Section %s <ch:eda_distributions>`. The most common such transformation is the logarithm; another widely used transformation is the square root.  Lastly, we might want to create new features from an arithmetic operations on others. For example, height and weight can be combined to create body mass index using the formula: $height/weight^2$. \n",
    "\n",
    "**Extraction**: Sometimes we will want to create a feature that contains partial information taken from another feature. For example, the inspection violations consists of a string with a description of the violation, and we may be interested in only whether the violation is related to, say vermin. We can create a new feature that is True if the violation contains the word \"vermin\" in its text description and False otherwise.  This conversion of information to logical values (or 0-1 values) is extremely useful in data science. The example in \n",
    "{numref}`Section %s <ch:wrangling_restaurants>`, gives you a sense of the power of these binary features. \n",
    "\n",
    "The type conversion that deals with dates and times is of particular note because many datasets include time as a feature. The datetime format is worthy of its own section (see below). Many other examples of transformations and their usefulness can be found in {numref}`Chapter %s <ch:eda>`."
   ]
  },
  {
   "cell_type": "markdown",
   "metadata": {},
   "source": [
    "## Transforming Time"
   ]
  },
  {
   "cell_type": "code",
   "execution_count": 6,
   "metadata": {},
   "outputs": [
    {
     "name": "stderr",
     "output_type": "stream",
     "text": [
      "<ipython-input-6-d784463129c5>:1: FutureWarning: The pandas.datetime class is deprecated and will be removed from pandas in a future version. Import from datetime module instead.\n",
      "  insp['new_date'] = insp['date'].apply(lambda d: pd.datetime.strptime(str(d),'%Y%m%d'))\n",
      "<ipython-input-6-d784463129c5>:5: FutureWarning: The pandas.datetime class is deprecated and will be removed from pandas in a future version. Import from datetime module instead.\n",
      "  viol['new_date'] = viol['date'].apply(lambda d: pd.datetime.strptime(str(d),'%Y%m%d'))\n"
     ]
    }
   ],
   "source": [
    "insp['new_date'] = insp['date'].apply(lambda d: pd.datetime.strptime(str(d),'%Y%m%d'))\n",
    "insp['year']     = insp['new_date'].apply(lambda d: d.year)\n",
    "\n",
    "\n",
    "viol['new_date'] = viol['date'].apply(lambda d: pd.datetime.strptime(str(d),'%Y%m%d'))\n",
    "viol['year']     = viol['new_date'].apply(lambda d: d.year)\n",
    "\n",
    "#DEPRECATED "
   ]
  },
  {
   "cell_type": "code",
   "execution_count": null,
   "metadata": {},
   "outputs": [],
   "source": []
  }
 ],
 "metadata": {
  "celltoolbar": "Tags",
  "kernelspec": {
   "display_name": "Python 3",
   "language": "python",
   "name": "python3"
  },
  "language_info": {
   "codemirror_mode": {
    "name": "ipython",
    "version": 3
   },
   "file_extension": ".py",
   "mimetype": "text/x-python",
   "name": "python",
   "nbconvert_exporter": "python",
   "pygments_lexer": "ipython3",
   "version": "3.9.4"
  }
 },
 "nbformat": 4,
 "nbformat_minor": 4
}
