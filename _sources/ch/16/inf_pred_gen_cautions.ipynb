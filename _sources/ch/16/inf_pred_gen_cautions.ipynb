{
 "cells": [
  {
   "cell_type": "code",
   "execution_count": 1,
   "metadata": {
    "tags": [
     "remove-cell"
    ]
   },
   "outputs": [],
   "source": [
    "# Reference: https://jupyterbook.org/interactive/hiding.html\n",
    "# Use {hide, remove}-{input, output, cell} tags to hiding content\n",
    "\n",
    "import sys\n",
    "import os\n",
    "if not any(path.endswith('textbook') for path in sys.path):\n",
    "    sys.path.append(os.path.abspath('../../..'))\n",
    "from textbook_utils import *"
   ]
  },
  {
   "cell_type": "markdown",
   "metadata": {},
   "source": [
    "# A Closer look at testing and intervals"
   ]
  },
  {
   "cell_type": "markdown",
   "metadata": {},
   "source": [
    "Recall the sampling distribution ({numref`Figure %s <fig:triptych>`) is a probability distribution that reflects the chance of observing different values of $\\hat{\\theta}$. The 95% confidence interval is an interval where $\\hat{\\theta} -\\theta^*$ falls in that interval 95% of the time. "
   ]
  },
  {
   "cell_type": "markdown",
   "metadata": {},
   "source": [
    "Confidence intervals can be easily misinterpreted as the chance that the parameter $\\theta^*$ is in the interval. However, the confidence interval is created from one realization of the sampling distribution. The sampling distribution gives us a different probability statement, 95% of the time, an interval constructed in this way will contain $\\theta^*$. Unfortunately, we don't know whether this particular time is one of those that happens 95 times in 100, or not. That is why, the term \"confidence\" is used rather than probability.   \n",
    "\n",
    "Confidence intervals relate to hypothesis tests in the following way: if the hypothesized value for $\\theta^*$ is not contained in, say, a 99% confidence interval then the $p$-value for the hypothesis test is  less than 1%.\n",
    "\n",
    "In our example, we used the bootstrap sampling distribution to estimate the standard error of $\\hat{\\theta}$. However, there are mathematical shortcuts that can be used to estimate the SE that don't require simulation. These are described in the next section.\n",
    "\n",
    "+ Bootstrap confidence intervals CAUTIONs\n",
    "\n",
    "+ There are several different forms of bootstrap confidence intervals. If you are interested in learning more, see XXX."
   ]
  },
  {
   "cell_type": "markdown",
   "metadata": {},
   "source": [
    "The sampling distribution of a statistic often is close to normal. There are distributions that look like the normal but with thicker tails that are used as well. "
   ]
  },
  {
   "cell_type": "markdown",
   "metadata": {},
   "source": []
  }
 ],
 "metadata": {
  "kernelspec": {
   "display_name": "Python 3",
   "language": "python",
   "name": "python3"
  },
  "language_info": {
   "codemirror_mode": {
    "name": "ipython",
    "version": 3
   },
   "file_extension": ".py",
   "mimetype": "text/x-python",
   "name": "python",
   "nbconvert_exporter": "python",
   "pygments_lexer": "ipython3",
   "version": "3.9.4"
  }
 },
 "nbformat": 4,
 "nbformat_minor": 4
}
