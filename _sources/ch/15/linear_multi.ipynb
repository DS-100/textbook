{
 "cells": [
  {
   "cell_type": "code",
   "execution_count": 2,
   "metadata": {
    "tags": [
     "remove-cell"
    ]
   },
   "outputs": [],
   "source": [
    "import sys\n",
    "import os\n",
    "if not any(path.endswith('textbook') for path in sys.path):\n",
    "    sys.path.append(os.path.abspath('../../..'))\n",
    "from textbook_utils import *"
   ]
  },
  {
   "cell_type": "code",
   "execution_count": 3,
   "metadata": {
    "tags": [
     "remove-cell"
    ]
   },
   "outputs": [],
   "source": [
    "csv_file = 'data/Full24hrdataset.csv'\n",
    "usecols = ['Date', 'ID', 'region', 'PM25FM', 'PM25cf1', 'RH']\n",
    "full = (pd.read_csv(csv_file, usecols=usecols, parse_dates=['Date'])\n",
    "        .dropna())\n",
    "full.columns = ['date', 'id', 'region', 'pm25aqs', 'pm25pa', 'rh']\n",
    "\n",
    "bad_dates = ['2019-08-21', '2019-08-22', '2019-09-24']\n",
    "GA = full.loc[(full['id'] == 'GA1') & (~full['date'].isin(bad_dates)) , :]"
   ]
  },
  {
   "cell_type": "markdown",
   "metadata": {},
   "source": [
    "(sec:linear_multi)=\n",
    "# Multiple Linear Model"
   ]
  },
  {
   "cell_type": "markdown",
   "metadata": {},
   "source": [
    "So far in this chapter, we've used a single input variable $x$ to predict the outcome\n",
    "$y$.\n",
    "Now, we introduce the *multiple linear model* that uses\n",
    "multiple features to predict (or describe or explain) $y$.\n",
    "This is useful because having multiple predictors can\n",
    "improve our model's fit to the data and improve prediction.\n",
    "After defining the multiple linear model, we use it to improve the single-variable linear model from the previous section that relates the EPA and PurpleAir sensor measurements."
   ]
  },
  {
   "cell_type": "markdown",
   "metadata": {},
   "source": [
    "We start by generalizing from a simple linear model to one that includes a second explanatory variable, called $v$. This model is linear in both $x$ and $v$; meaning that for a pair of values for $x$ and $v$, we can describe, explain, or predict $y$ by the linear combination: \n",
    "\n",
    "$$ y \\approx \\theta_0 + \\theta_1 x + \\theta_2 v.$$\n",
    "\n",
    "Figure X gives a representation of this model that you might find helpful. \n",
    "Notice that for a particular value of $v$, say $v^\\star$, we can re-express the above equation as\n",
    "\n",
    "$$ y \\approx (\\theta_0 + \\theta_2 v^\\star) ~+~ \\theta_1 x.$$\n",
    "\n",
    "In other words, when we hold $v$ constant at $v^*$, we have a simple linear relation between $x$ and $y$ with slope $\\theta_1$ and intercept $\\theta_0 + \\theta_2 v^\\star$. \n",
    "For a different value of $v$, say $v^\\dagger$,  we again have a simple linear relationship between $x$ and $y$. The slope for $x$ remains the same and the only change is the intercept, which is now $\\theta_0 + \\theta_2v^\\dagger$."
   ]
  },
  {
   "cell_type": "markdown",
   "metadata": {},
   "source": [
    "```{figure} figures/scatterplotMLR.png\n",
    "---\n",
    "name: fig:MLR\n",
    "width: 500px\n",
    "---\n",
    "\n",
    "A scatter plot of $(x_i, y_i)$ pairs, the three lines fitted to these points correspond to three different values of $v$. The intercept is different for each value of $v$, but the slope remains the same. \n",
    "```"
   ]
  },
  {
   "cell_type": "markdown",
   "metadata": {},
   "source": [
    "With multiple linear regression, we interpret the coefficient $\\theta_1$ of $x$ in the presence of the other variables in the model. {numref}`Figure %s <fig:MLR>` indicates that given the values of the other variables in the model (that's just $v$ in this case),  an increase of 1 unit in $x$ corresponds to a $\\theta_1$ change in $y$, on average. One way to visualize this kind of multiple linear relationship is to create facets of scatter plots of $(x, y)$ where in each plot the values of $v$ are roughly the same. We make such a scatter plot for the air quality measurements next, and provide examples of additional visualizations and statistics to examine when fitting a multiple linear model.    "
   ]
  },
  {
   "cell_type": "markdown",
   "metadata": {},
   "source": [
    "## Example: A Multiple Linear Model for Air Quality"
   ]
  },
  {
   "cell_type": "markdown",
   "metadata": {},
   "source": [
    "The scientists studying the air quality monitors (see {numref}`Chapter %s <ch:pa>`) were looking for an improved model that incorporated weather factors. That is, they were interested in whether or not\n",
    "multiple explanatory variables, rather than just one, would make better estimates of $y$. \n",
    "One weather variable that they examined was a daily measurement for relative humidity.  Let's consider a two-variable linear model to explain the PurpleAir measurements from the EPA sensor measurements and relative humidity. This model has the following form:\n",
    "\n",
    "$$ PA \\approx \\theta_0 + \\theta_1 AQ + \\theta_2 RH,$$\n",
    "\n",
    "where $PA$, $AQ$, and $RH$ refer to the variables: PurpleAir average daily measurement, the EPA Air Quality measurement, and relative humidity, respectively.\n",
    "\n",
    "For a first step, we make a facet plot to compare the relationship between the two air quality measurements for fixed values of humidity. To do this, we transform relative humidity to a categorical variable so each facet consists of the subset of observations with the same level of category."
   ]
  },
  {
   "cell_type": "code",
   "execution_count": 10,
   "metadata": {},
   "outputs": [],
   "source": [
    "rh_cat = pd.cut(GA['rh'], bins=[43,50,55,60,78], labels=['<50','50-55','55-60','>60'])"
   ]
  },
  {
   "cell_type": "code",
   "execution_count": 11,
   "metadata": {
    "tags": [
     "remove-input"
    ]
   },
   "outputs": [
    {
     "data": {
      "application/vnd.plotly.v1+json": {
       "config": {
        "plotlyServerURL": "https://plot.ly"
       },
       "data": [
        {
         "hovertemplate": "facet_col=55-60<br>EPA=%{x}<br>PurpleAir=%{y}<extra></extra>",
         "legendgroup": "",
         "marker": {
          "color": "#1F77B4",
          "symbol": "circle"
         },
         "mode": "markers",
         "name": "",
         "orientation": "v",
         "showlegend": false,
         "type": "scatter",
         "x": [
          8.645833,
          7.704167,
          6.3,
          9.441667,
          9.754167,
          11.020833,
          11.679167,
          6.686957,
          7.478261,
          7.278261,
          9.533333,
          9.759091,
          10.4,
          9.854167,
          13.995833,
          11.733333,
          12.83913,
          10.782609,
          7.65,
          7.133333,
          5.741667,
          6,
          8.295833,
          6.3,
          7.725,
          9.516667,
          10.833333,
          13.870833,
          8.156522,
          13.5125,
          13.9375,
          11,
          11.5,
          12.9,
          7,
          7.9,
          5.9,
          8.9,
          9.3,
          10.1,
          9.3,
          12.1,
          9.5,
          12,
          9.5,
          5.4,
          5.8,
          5.7,
          4.2,
          8,
          5.9,
          7.8,
          5.9,
          11.5,
          7.7,
          5.9,
          9.1,
          13.3,
          6.8,
          4.5
         ],
         "xaxis": "x3",
         "y": [
          16.189375,
          13.5925486111111,
          10.3005709238043,
          17.5458402777778,
          19.2110265363129,
          21.6665694444444,
          25.6766180555556,
          11.3800432917262,
          12.5601805555556,
          9.85393305439331,
          15.917875,
          16.7362361111111,
          20.2967430555556,
          17.6836180555556,
          28.7283101529903,
          23.1521736111111,
          23.2944652777778,
          17.830875,
          8.04743055555556,
          8.51965972222222,
          7.42860416666667,
          10.0599235048679,
          13.4507293598362,
          9.77823119777159,
          13.5492569444444,
          14.8651736111111,
          18.7000486111111,
          24.6267385257302,
          13.0367696629213,
          23.3369027777778,
          25.8159791666667,
          19.2110265363129,
          21.6665694444444,
          25.6766180555556,
          11.3800432917262,
          12.5601805555556,
          9.85393305439331,
          15.917875,
          16.7362361111111,
          20.2967430555556,
          17.6836180555556,
          28.7283101529903,
          23.1521736111111,
          23.2944652777778,
          17.830875,
          8.04743055555556,
          8.51965972222222,
          7.42860416666667,
          10.0599235048679,
          13.4507293598362,
          9.77823119777159,
          13.5492569444444,
          10.3005709238043,
          19.2110265363129,
          12.5601805555556,
          9.85393305439331,
          15.917875,
          23.2944652777778,
          8.04743055555556,
          10.0599235048679
         ],
         "yaxis": "y3"
        },
        {
         "hovertemplate": "facet_col=>60<br>EPA=%{x}<br>PurpleAir=%{y}<extra></extra>",
         "legendgroup": "",
         "marker": {
          "color": "#1F77B4",
          "symbol": "circle"
         },
         "mode": "markers",
         "name": "",
         "orientation": "v",
         "showlegend": false,
         "type": "scatter",
         "x": [
          8.025,
          6.9625,
          5.629167,
          6.15,
          6.366667,
          7.495833,
          8.566667,
          8.15,
          7.9625,
          11.445833,
          6.391667,
          4.804167,
          14.2,
          6.145833,
          12.220833,
          7.5,
          4.8,
          6.2,
          5.4,
          6.7,
          9.2,
          6.9,
          6.8,
          11.9,
          5,
          3.1,
          5,
          9.9,
          7.5,
          5.2
         ],
         "xaxis": "x4",
         "y": [
          14.7903058742853,
          11.7940416666667,
          7.89279861111111,
          10.2429930555556,
          11.2007361111111,
          11.9909027777778,
          20.3900555555556,
          13.6182847222222,
          13.0892230794421,
          25.4701458333333,
          14.5480216736208,
          7.63855354659249,
          26.9433888888889,
          10.3297708333333,
          21.3630528511822,
          11.7940416666667,
          7.89279861111111,
          10.2429930555556,
          11.2007361111111,
          11.9909027777778,
          20.3900555555556,
          13.6182847222222,
          13.0892230794421,
          25.4701458333333,
          14.5480216736208,
          7.63855354659249,
          7.89279861111111,
          20.3900555555556,
          13.6182847222222,
          14.5480216736208
         ],
         "yaxis": "y4"
        },
        {
         "hovertemplate": "facet_col=50-55<br>EPA=%{x}<br>PurpleAir=%{y}<extra></extra>",
         "legendgroup": "",
         "marker": {
          "color": "#1F77B4",
          "symbol": "circle"
         },
         "mode": "markers",
         "name": "",
         "orientation": "v",
         "showlegend": false,
         "type": "scatter",
         "x": [
          11.745833,
          8.9125,
          11.808333,
          10.125,
          10.395833,
          5.433333,
          5.504167,
          7.833333,
          8.8875,
          15.454167,
          14.845833,
          11.454167,
          11.520833,
          7.408333,
          9.4875,
          10.475,
          15.779167,
          16.995833,
          17.625,
          8.866667,
          6.804167,
          5.479167,
          4.304167,
          7.2,
          10.708333,
          7.2875,
          9.345833,
          10.854167,
          8.979167,
          11.2,
          8.5,
          12.5,
          10.4,
          10.4,
          5.1,
          6.5,
          7.2,
          8.3,
          14.7,
          14.2,
          12.1,
          11.4,
          7.1,
          8.5,
          10,
          13.5,
          15.8,
          16.3,
          8.6,
          6.3,
          4.4,
          4.3,
          11.3,
          12.3,
          14.7,
          11.9,
          7.8,
          17.9,
          8.9,
          6.3
         ],
         "xaxis": "x",
         "y": [
          22.3404027777778,
          14.5682766385455,
          25.0813977746871,
          18.0511111111111,
          19.4304166666667,
          7.9386875,
          7.53994444444444,
          11.6666944444444,
          15.1454861111111,
          29.1896527777778,
          27.2041041666667,
          20.7385694444444,
          20.6703203342618,
          9.15297222222222,
          14.5964812239221,
          17.2498194444444,
          31.2008680555556,
          34.2497529693147,
          34.9209166666667,
          13.4541805555556,
          12.9443611111111,
          7.56710416666667,
          4.54415972222222,
          12.0913333333333,
          18.2288550724638,
          12.3139733333333,
          13.5520694444444,
          19.8465763888889,
          13.103125,
          22.3404027777778,
          14.5682766385455,
          25.0813977746871,
          18.0511111111111,
          19.4304166666667,
          7.9386875,
          7.53994444444444,
          11.6666944444444,
          15.1454861111111,
          29.1896527777778,
          27.2041041666667,
          20.7385694444444,
          20.6703203342618,
          9.15297222222222,
          14.5964812239221,
          17.2498194444444,
          31.2008680555556,
          34.2497529693147,
          34.9209166666667,
          13.4541805555556,
          12.9443611111111,
          7.56710416666667,
          4.54415972222222,
          22.3404027777778,
          25.0813977746871,
          29.1896527777778,
          20.6703203342618,
          9.15297222222222,
          34.9209166666667,
          13.4541805555556,
          12.9443611111111
         ],
         "yaxis": "y"
        },
        {
         "hovertemplate": "facet_col=<50<br>EPA=%{x}<br>PurpleAir=%{y}<extra></extra>",
         "legendgroup": "",
         "marker": {
          "color": "#1F77B4",
          "symbol": "circle"
         },
         "mode": "markers",
         "name": "",
         "orientation": "v",
         "showlegend": false,
         "type": "scatter",
         "x": [
          8.604167,
          6.975,
          12.783333,
          6.85,
          7.929167,
          7.866667,
          8.579167,
          11.275,
          13.658333,
          5.0375,
          6.295833,
          10.826087,
          9.854167,
          9.5,
          6.6,
          13.1,
          6.9,
          7.6,
          7.8,
          9.3,
          10.1,
          12.2,
          4.2,
          9.5,
          8.1,
          11.4
         ],
         "xaxis": "x2",
         "y": [
          15.4784444444444,
          9.99670833333333,
          22.4718680555556,
          8.64885416666667,
          10.8636319444444,
          10.4440833333333,
          11.8642222222222,
          19.6090347222222,
          23.6401180555556,
          6.38982638888889,
          8.49286111111111,
          16.6307152777778,
          18.6737222222222,
          15.4784444444444,
          9.99670833333333,
          22.4718680555556,
          8.64885416666667,
          10.8636319444444,
          10.4440833333333,
          11.8642222222222,
          19.6090347222222,
          23.6401180555556,
          6.38982638888889,
          15.4784444444444,
          10.4440833333333,
          19.6090347222222
         ],
         "yaxis": "y2"
        }
       ],
       "layout": {
        "annotations": [
         {
          "font": {},
          "showarrow": false,
          "text": "facet_col=50-55",
          "x": 0.245,
          "xanchor": "center",
          "xref": "paper",
          "y": 0.46499999999999997,
          "yanchor": "bottom",
          "yref": "paper"
         },
         {
          "font": {},
          "showarrow": false,
          "text": "facet_col=<50",
          "x": 0.755,
          "xanchor": "center",
          "xref": "paper",
          "y": 0.46499999999999997,
          "yanchor": "bottom",
          "yref": "paper"
         },
         {
          "font": {},
          "showarrow": false,
          "text": "facet_col=55-60",
          "x": 0.245,
          "xanchor": "center",
          "xref": "paper",
          "y": 0.9999999999999999,
          "yanchor": "bottom",
          "yref": "paper"
         },
         {
          "font": {},
          "showarrow": false,
          "text": "facet_col=>60",
          "x": 0.755,
          "xanchor": "center",
          "xref": "paper",
          "y": 0.9999999999999999,
          "yanchor": "bottom",
          "yref": "paper"
         }
        ],
        "autosize": true,
        "legend": {
         "tracegroupgap": 0
        },
        "template": {
         "data": {
          "bar": [
           {
            "error_x": {
             "color": "rgb(36,36,36)"
            },
            "error_y": {
             "color": "rgb(36,36,36)"
            },
            "marker": {
             "line": {
              "color": "white",
              "width": 0.5
             },
             "pattern": {
              "fillmode": "overlay",
              "size": 10,
              "solidity": 0.2
             }
            },
            "type": "bar"
           }
          ],
          "barpolar": [
           {
            "marker": {
             "line": {
              "color": "white",
              "width": 0.5
             },
             "pattern": {
              "fillmode": "overlay",
              "size": 10,
              "solidity": 0.2
             }
            },
            "type": "barpolar"
           }
          ],
          "carpet": [
           {
            "aaxis": {
             "endlinecolor": "rgb(36,36,36)",
             "gridcolor": "white",
             "linecolor": "white",
             "minorgridcolor": "white",
             "startlinecolor": "rgb(36,36,36)"
            },
            "baxis": {
             "endlinecolor": "rgb(36,36,36)",
             "gridcolor": "white",
             "linecolor": "white",
             "minorgridcolor": "white",
             "startlinecolor": "rgb(36,36,36)"
            },
            "type": "carpet"
           }
          ],
          "choropleth": [
           {
            "colorbar": {
             "outlinewidth": 1,
             "tickcolor": "rgb(36,36,36)",
             "ticks": "outside"
            },
            "type": "choropleth"
           }
          ],
          "contour": [
           {
            "colorbar": {
             "outlinewidth": 1,
             "tickcolor": "rgb(36,36,36)",
             "ticks": "outside"
            },
            "colorscale": [
             [
              0,
              "#440154"
             ],
             [
              0.1111111111111111,
              "#482878"
             ],
             [
              0.2222222222222222,
              "#3e4989"
             ],
             [
              0.3333333333333333,
              "#31688e"
             ],
             [
              0.4444444444444444,
              "#26828e"
             ],
             [
              0.5555555555555556,
              "#1f9e89"
             ],
             [
              0.6666666666666666,
              "#35b779"
             ],
             [
              0.7777777777777778,
              "#6ece58"
             ],
             [
              0.8888888888888888,
              "#b5de2b"
             ],
             [
              1,
              "#fde725"
             ]
            ],
            "type": "contour"
           }
          ],
          "contourcarpet": [
           {
            "colorbar": {
             "outlinewidth": 1,
             "tickcolor": "rgb(36,36,36)",
             "ticks": "outside"
            },
            "type": "contourcarpet"
           }
          ],
          "heatmap": [
           {
            "colorbar": {
             "outlinewidth": 1,
             "tickcolor": "rgb(36,36,36)",
             "ticks": "outside"
            },
            "colorscale": [
             [
              0,
              "#440154"
             ],
             [
              0.1111111111111111,
              "#482878"
             ],
             [
              0.2222222222222222,
              "#3e4989"
             ],
             [
              0.3333333333333333,
              "#31688e"
             ],
             [
              0.4444444444444444,
              "#26828e"
             ],
             [
              0.5555555555555556,
              "#1f9e89"
             ],
             [
              0.6666666666666666,
              "#35b779"
             ],
             [
              0.7777777777777778,
              "#6ece58"
             ],
             [
              0.8888888888888888,
              "#b5de2b"
             ],
             [
              1,
              "#fde725"
             ]
            ],
            "type": "heatmap"
           }
          ],
          "heatmapgl": [
           {
            "colorbar": {
             "outlinewidth": 1,
             "tickcolor": "rgb(36,36,36)",
             "ticks": "outside"
            },
            "colorscale": [
             [
              0,
              "#440154"
             ],
             [
              0.1111111111111111,
              "#482878"
             ],
             [
              0.2222222222222222,
              "#3e4989"
             ],
             [
              0.3333333333333333,
              "#31688e"
             ],
             [
              0.4444444444444444,
              "#26828e"
             ],
             [
              0.5555555555555556,
              "#1f9e89"
             ],
             [
              0.6666666666666666,
              "#35b779"
             ],
             [
              0.7777777777777778,
              "#6ece58"
             ],
             [
              0.8888888888888888,
              "#b5de2b"
             ],
             [
              1,
              "#fde725"
             ]
            ],
            "type": "heatmapgl"
           }
          ],
          "histogram": [
           {
            "marker": {
             "line": {
              "color": "white",
              "width": 0.6
             }
            },
            "type": "histogram"
           }
          ],
          "histogram2d": [
           {
            "colorbar": {
             "outlinewidth": 1,
             "tickcolor": "rgb(36,36,36)",
             "ticks": "outside"
            },
            "colorscale": [
             [
              0,
              "#440154"
             ],
             [
              0.1111111111111111,
              "#482878"
             ],
             [
              0.2222222222222222,
              "#3e4989"
             ],
             [
              0.3333333333333333,
              "#31688e"
             ],
             [
              0.4444444444444444,
              "#26828e"
             ],
             [
              0.5555555555555556,
              "#1f9e89"
             ],
             [
              0.6666666666666666,
              "#35b779"
             ],
             [
              0.7777777777777778,
              "#6ece58"
             ],
             [
              0.8888888888888888,
              "#b5de2b"
             ],
             [
              1,
              "#fde725"
             ]
            ],
            "type": "histogram2d"
           }
          ],
          "histogram2dcontour": [
           {
            "colorbar": {
             "outlinewidth": 1,
             "tickcolor": "rgb(36,36,36)",
             "ticks": "outside"
            },
            "colorscale": [
             [
              0,
              "#440154"
             ],
             [
              0.1111111111111111,
              "#482878"
             ],
             [
              0.2222222222222222,
              "#3e4989"
             ],
             [
              0.3333333333333333,
              "#31688e"
             ],
             [
              0.4444444444444444,
              "#26828e"
             ],
             [
              0.5555555555555556,
              "#1f9e89"
             ],
             [
              0.6666666666666666,
              "#35b779"
             ],
             [
              0.7777777777777778,
              "#6ece58"
             ],
             [
              0.8888888888888888,
              "#b5de2b"
             ],
             [
              1,
              "#fde725"
             ]
            ],
            "type": "histogram2dcontour"
           }
          ],
          "mesh3d": [
           {
            "colorbar": {
             "outlinewidth": 1,
             "tickcolor": "rgb(36,36,36)",
             "ticks": "outside"
            },
            "type": "mesh3d"
           }
          ],
          "parcoords": [
           {
            "line": {
             "colorbar": {
              "outlinewidth": 1,
              "tickcolor": "rgb(36,36,36)",
              "ticks": "outside"
             }
            },
            "type": "parcoords"
           }
          ],
          "pie": [
           {
            "automargin": true,
            "type": "pie"
           }
          ],
          "scatter": [
           {
            "marker": {
             "colorbar": {
              "outlinewidth": 1,
              "tickcolor": "rgb(36,36,36)",
              "ticks": "outside"
             }
            },
            "type": "scatter"
           }
          ],
          "scatter3d": [
           {
            "line": {
             "colorbar": {
              "outlinewidth": 1,
              "tickcolor": "rgb(36,36,36)",
              "ticks": "outside"
             }
            },
            "marker": {
             "colorbar": {
              "outlinewidth": 1,
              "tickcolor": "rgb(36,36,36)",
              "ticks": "outside"
             }
            },
            "type": "scatter3d"
           }
          ],
          "scattercarpet": [
           {
            "marker": {
             "colorbar": {
              "outlinewidth": 1,
              "tickcolor": "rgb(36,36,36)",
              "ticks": "outside"
             }
            },
            "type": "scattercarpet"
           }
          ],
          "scattergeo": [
           {
            "marker": {
             "colorbar": {
              "outlinewidth": 1,
              "tickcolor": "rgb(36,36,36)",
              "ticks": "outside"
             }
            },
            "type": "scattergeo"
           }
          ],
          "scattergl": [
           {
            "marker": {
             "colorbar": {
              "outlinewidth": 1,
              "tickcolor": "rgb(36,36,36)",
              "ticks": "outside"
             }
            },
            "type": "scattergl"
           }
          ],
          "scattermapbox": [
           {
            "marker": {
             "colorbar": {
              "outlinewidth": 1,
              "tickcolor": "rgb(36,36,36)",
              "ticks": "outside"
             }
            },
            "type": "scattermapbox"
           }
          ],
          "scatterpolar": [
           {
            "marker": {
             "colorbar": {
              "outlinewidth": 1,
              "tickcolor": "rgb(36,36,36)",
              "ticks": "outside"
             }
            },
            "type": "scatterpolar"
           }
          ],
          "scatterpolargl": [
           {
            "marker": {
             "colorbar": {
              "outlinewidth": 1,
              "tickcolor": "rgb(36,36,36)",
              "ticks": "outside"
             }
            },
            "type": "scatterpolargl"
           }
          ],
          "scatterternary": [
           {
            "marker": {
             "colorbar": {
              "outlinewidth": 1,
              "tickcolor": "rgb(36,36,36)",
              "ticks": "outside"
             }
            },
            "type": "scatterternary"
           }
          ],
          "surface": [
           {
            "colorbar": {
             "outlinewidth": 1,
             "tickcolor": "rgb(36,36,36)",
             "ticks": "outside"
            },
            "colorscale": [
             [
              0,
              "#440154"
             ],
             [
              0.1111111111111111,
              "#482878"
             ],
             [
              0.2222222222222222,
              "#3e4989"
             ],
             [
              0.3333333333333333,
              "#31688e"
             ],
             [
              0.4444444444444444,
              "#26828e"
             ],
             [
              0.5555555555555556,
              "#1f9e89"
             ],
             [
              0.6666666666666666,
              "#35b779"
             ],
             [
              0.7777777777777778,
              "#6ece58"
             ],
             [
              0.8888888888888888,
              "#b5de2b"
             ],
             [
              1,
              "#fde725"
             ]
            ],
            "type": "surface"
           }
          ],
          "table": [
           {
            "cells": {
             "fill": {
              "color": "rgb(237,237,237)"
             },
             "line": {
              "color": "white"
             }
            },
            "header": {
             "fill": {
              "color": "rgb(217,217,217)"
             },
             "line": {
              "color": "white"
             }
            },
            "type": "table"
           }
          ]
         },
         "layout": {
          "annotationdefaults": {
           "arrowhead": 0,
           "arrowwidth": 1
          },
          "autosize": true,
          "autotypenumbers": "strict",
          "coloraxis": {
           "colorbar": {
            "outlinewidth": 1,
            "tickcolor": "rgb(36,36,36)",
            "ticks": "outside"
           }
          },
          "colorscale": {
           "diverging": [
            [
             0,
             "rgb(103,0,31)"
            ],
            [
             0.1,
             "rgb(178,24,43)"
            ],
            [
             0.2,
             "rgb(214,96,77)"
            ],
            [
             0.3,
             "rgb(244,165,130)"
            ],
            [
             0.4,
             "rgb(253,219,199)"
            ],
            [
             0.5,
             "rgb(247,247,247)"
            ],
            [
             0.6,
             "rgb(209,229,240)"
            ],
            [
             0.7,
             "rgb(146,197,222)"
            ],
            [
             0.8,
             "rgb(67,147,195)"
            ],
            [
             0.9,
             "rgb(33,102,172)"
            ],
            [
             1,
             "rgb(5,48,97)"
            ]
           ],
           "sequential": [
            [
             0,
             "#440154"
            ],
            [
             0.1111111111111111,
             "#482878"
            ],
            [
             0.2222222222222222,
             "#3e4989"
            ],
            [
             0.3333333333333333,
             "#31688e"
            ],
            [
             0.4444444444444444,
             "#26828e"
            ],
            [
             0.5555555555555556,
             "#1f9e89"
            ],
            [
             0.6666666666666666,
             "#35b779"
            ],
            [
             0.7777777777777778,
             "#6ece58"
            ],
            [
             0.8888888888888888,
             "#b5de2b"
            ],
            [
             1,
             "#fde725"
            ]
           ],
           "sequentialminus": [
            [
             0,
             "#440154"
            ],
            [
             0.1111111111111111,
             "#482878"
            ],
            [
             0.2222222222222222,
             "#3e4989"
            ],
            [
             0.3333333333333333,
             "#31688e"
            ],
            [
             0.4444444444444444,
             "#26828e"
            ],
            [
             0.5555555555555556,
             "#1f9e89"
            ],
            [
             0.6666666666666666,
             "#35b779"
            ],
            [
             0.7777777777777778,
             "#6ece58"
            ],
            [
             0.8888888888888888,
             "#b5de2b"
            ],
            [
             1,
             "#fde725"
            ]
           ]
          },
          "colorway": [
           "#1F77B4",
           "#FF7F0E",
           "#2CA02C",
           "#D62728",
           "#9467BD",
           "#8C564B",
           "#E377C2",
           "#7F7F7F",
           "#BCBD22",
           "#17BECF"
          ],
          "font": {
           "color": "rgb(36,36,36)"
          },
          "geo": {
           "bgcolor": "white",
           "lakecolor": "white",
           "landcolor": "white",
           "showlakes": true,
           "showland": true,
           "subunitcolor": "white"
          },
          "height": 250,
          "hoverlabel": {
           "align": "left"
          },
          "hovermode": "closest",
          "mapbox": {
           "style": "light"
          },
          "margin": {
           "b": 10,
           "l": 10,
           "r": 10,
           "t": 10
          },
          "paper_bgcolor": "white",
          "plot_bgcolor": "white",
          "polar": {
           "angularaxis": {
            "gridcolor": "rgb(232,232,232)",
            "linecolor": "rgb(36,36,36)",
            "showgrid": false,
            "showline": true,
            "ticks": "outside"
           },
           "bgcolor": "white",
           "radialaxis": {
            "gridcolor": "rgb(232,232,232)",
            "linecolor": "rgb(36,36,36)",
            "showgrid": false,
            "showline": true,
            "ticks": "outside"
           }
          },
          "scene": {
           "xaxis": {
            "backgroundcolor": "white",
            "gridcolor": "rgb(232,232,232)",
            "gridwidth": 2,
            "linecolor": "rgb(36,36,36)",
            "showbackground": true,
            "showgrid": false,
            "showline": true,
            "ticks": "outside",
            "zeroline": false,
            "zerolinecolor": "rgb(36,36,36)"
           },
           "yaxis": {
            "backgroundcolor": "white",
            "gridcolor": "rgb(232,232,232)",
            "gridwidth": 2,
            "linecolor": "rgb(36,36,36)",
            "showbackground": true,
            "showgrid": false,
            "showline": true,
            "ticks": "outside",
            "zeroline": false,
            "zerolinecolor": "rgb(36,36,36)"
           },
           "zaxis": {
            "backgroundcolor": "white",
            "gridcolor": "rgb(232,232,232)",
            "gridwidth": 2,
            "linecolor": "rgb(36,36,36)",
            "showbackground": true,
            "showgrid": false,
            "showline": true,
            "ticks": "outside",
            "zeroline": false,
            "zerolinecolor": "rgb(36,36,36)"
           }
          },
          "shapedefaults": {
           "fillcolor": "black",
           "line": {
            "width": 0
           },
           "opacity": 0.3
          },
          "ternary": {
           "aaxis": {
            "gridcolor": "rgb(232,232,232)",
            "linecolor": "rgb(36,36,36)",
            "showgrid": false,
            "showline": true,
            "ticks": "outside"
           },
           "baxis": {
            "gridcolor": "rgb(232,232,232)",
            "linecolor": "rgb(36,36,36)",
            "showgrid": false,
            "showline": true,
            "ticks": "outside"
           },
           "bgcolor": "white",
           "caxis": {
            "gridcolor": "rgb(232,232,232)",
            "linecolor": "rgb(36,36,36)",
            "showgrid": false,
            "showline": true,
            "ticks": "outside"
           }
          },
          "title": {
           "x": 0.5,
           "xanchor": "center"
          },
          "width": 350,
          "xaxis": {
           "automargin": true,
           "gridcolor": "rgb(232,232,232)",
           "linecolor": "rgb(36,36,36)",
           "showgrid": true,
           "showline": true,
           "ticks": "outside",
           "title": {
            "standoff": 15
           },
           "zeroline": false,
           "zerolinecolor": "rgb(36,36,36)"
          },
          "yaxis": {
           "automargin": true,
           "gridcolor": "rgb(232,232,232)",
           "linecolor": "rgb(36,36,36)",
           "showgrid": true,
           "showline": true,
           "ticks": "outside",
           "title": {
            "standoff": 15
           },
           "zeroline": false,
           "zerolinecolor": "rgb(36,36,36)"
          }
         }
        },
        "xaxis": {
         "anchor": "y",
         "autorange": true,
         "domain": [
          0,
          0.49
         ],
         "range": [
          2.072137909876383,
          18.927862090123615
         ],
         "title": {
          "text": "EPA"
         },
         "type": "linear"
        },
        "xaxis2": {
         "anchor": "y2",
         "autorange": true,
         "domain": [
          0.51,
          1
         ],
         "matches": "x",
         "range": [
          2.072137909876383,
          18.927862090123615
         ],
         "title": {
          "text": "EPA"
         },
         "type": "linear"
        },
        "xaxis3": {
         "anchor": "y3",
         "autorange": true,
         "domain": [
          0,
          0.49
         ],
         "matches": "x",
         "range": [
          2.072137909876383,
          18.927862090123615
         ],
         "showticklabels": false,
         "type": "linear"
        },
        "xaxis4": {
         "anchor": "y4",
         "autorange": true,
         "domain": [
          0.51,
          1
         ],
         "matches": "x",
         "range": [
          2.072137909876383,
          18.927862090123615
         ],
         "showticklabels": false,
         "type": "linear"
        },
        "yaxis": {
         "anchor": "x",
         "autorange": true,
         "domain": [
          0,
          0.46499999999999997
         ],
         "range": [
          1.7490547259756748,
          37.71602166291324
         ],
         "title": {
          "text": "PurpleAir"
         },
         "type": "linear"
        },
        "yaxis2": {
         "anchor": "x2",
         "autorange": true,
         "domain": [
          0,
          0.46499999999999997
         ],
         "matches": "y",
         "range": [
          1.7490547259756748,
          37.71602166291324
         ],
         "showticklabels": false,
         "type": "linear"
        },
        "yaxis3": {
         "anchor": "x3",
         "autorange": true,
         "domain": [
          0.5349999999999999,
          0.9999999999999999
         ],
         "matches": "y",
         "range": [
          1.7490547259756748,
          37.71602166291324
         ],
         "title": {
          "text": "PurpleAir"
         },
         "type": "linear"
        },
        "yaxis4": {
         "anchor": "x4",
         "autorange": true,
         "domain": [
          0.5349999999999999,
          0.9999999999999999
         ],
         "matches": "y",
         "range": [
          1.7490547259756748,
          37.71602166291324
         ],
         "showticklabels": false,
         "type": "linear"
        }
       }
      },
      "image/png": "[encoded data removed]",
      "image/svg+xml": [
       "<svg class=\"main-svg\" xmlns=\"http://www.w3.org/2000/svg\" xmlns:xlink=\"http://www.w3.org/1999/xlink\" width=\"350\" height=\"250\" style=\"\" viewBox=\"0 0 350 250\"><rect x=\"0\" y=\"0\" width=\"350\" height=\"250\" style=\"fill: rgb(255, 255, 255); fill-opacity: 1;\"/><defs id=\"defs-e3596a\"><g class=\"clips\"><clipPath id=\"clipe3596axyplot\" class=\"plotclip\"><rect width=\"138.67\" height=\"84.16499999999999\"/></clipPath><clipPath id=\"clipe3596ax2y2plot\" class=\"plotclip\"><rect width=\"138.67\" height=\"84.16499999999999\"/></clipPath><clipPath id=\"clipe3596ax3y3plot\" class=\"plotclip\"><rect width=\"138.67\" height=\"84.16499999999999\"/></clipPath><clipPath id=\"clipe3596ax4y4plot\" class=\"plotclip\"><rect width=\"138.67\" height=\"84.16499999999999\"/></clipPath><clipPath class=\"axesclip\" id=\"clipe3596ax\"><rect x=\"57\" y=\"0\" width=\"138.67\" height=\"250\"/></clipPath><clipPath class=\"axesclip\" id=\"clipe3596ay\"><rect x=\"0\" y=\"106.83500000000001\" width=\"350\" height=\"84.16499999999999\"/></clipPath><clipPath class=\"axesclip\" id=\"clipe3596axy\"><rect x=\"57\" y=\"106.83500000000001\" width=\"138.67\" height=\"84.16499999999999\"/></clipPath><clipPath class=\"axesclip\" id=\"clipe3596ay2\"><rect x=\"0\" y=\"106.83500000000001\" width=\"350\" height=\"84.16499999999999\"/></clipPath><clipPath class=\"axesclip\" id=\"clipe3596axy2\"><rect x=\"57\" y=\"106.83500000000001\" width=\"138.67\" height=\"84.16499999999999\"/></clipPath><clipPath class=\"axesclip\" id=\"clipe3596ay3\"><rect x=\"0\" y=\"10.00000000000002\" width=\"350\" height=\"84.16499999999999\"/></clipPath><clipPath class=\"axesclip\" id=\"clipe3596axy3\"><rect x=\"57\" y=\"10.00000000000002\" width=\"138.67\" height=\"84.16499999999999\"/></clipPath><clipPath class=\"axesclip\" id=\"clipe3596ay4\"><rect x=\"0\" y=\"10.00000000000002\" width=\"350\" height=\"84.16499999999999\"/></clipPath><clipPath class=\"axesclip\" id=\"clipe3596axy4\"><rect x=\"57\" y=\"10.00000000000002\" width=\"138.67\" height=\"84.16499999999999\"/></clipPath><clipPath class=\"axesclip\" id=\"clipe3596ax2\"><rect x=\"201.33\" y=\"0\" width=\"138.67\" height=\"250\"/></clipPath><clipPath class=\"axesclip\" id=\"clipe3596ax2y\"><rect x=\"201.33\" y=\"106.83500000000001\" width=\"138.67\" height=\"84.16499999999999\"/></clipPath><clipPath class=\"axesclip\" id=\"clipe3596ax2y2\"><rect x=\"201.33\" y=\"106.83500000000001\" width=\"138.67\" height=\"84.16499999999999\"/></clipPath><clipPath class=\"axesclip\" id=\"clipe3596ax2y3\"><rect x=\"201.33\" y=\"10.00000000000002\" width=\"138.67\" height=\"84.16499999999999\"/></clipPath><clipPath class=\"axesclip\" id=\"clipe3596ax2y4\"><rect x=\"201.33\" y=\"10.00000000000002\" width=\"138.67\" height=\"84.16499999999999\"/></clipPath><clipPath class=\"axesclip\" id=\"clipe3596ax3\"><rect x=\"57\" y=\"0\" width=\"138.67\" height=\"250\"/></clipPath><clipPath class=\"axesclip\" id=\"clipe3596ax3y\"><rect x=\"57\" y=\"106.83500000000001\" width=\"138.67\" height=\"84.16499999999999\"/></clipPath><clipPath class=\"axesclip\" id=\"clipe3596ax3y2\"><rect x=\"57\" y=\"106.83500000000001\" width=\"138.67\" height=\"84.16499999999999\"/></clipPath><clipPath class=\"axesclip\" id=\"clipe3596ax3y3\"><rect x=\"57\" y=\"10.00000000000002\" width=\"138.67\" height=\"84.16499999999999\"/></clipPath><clipPath class=\"axesclip\" id=\"clipe3596ax3y4\"><rect x=\"57\" y=\"10.00000000000002\" width=\"138.67\" height=\"84.16499999999999\"/></clipPath><clipPath class=\"axesclip\" id=\"clipe3596ax4\"><rect x=\"201.33\" y=\"0\" width=\"138.67\" height=\"250\"/></clipPath><clipPath class=\"axesclip\" id=\"clipe3596ax4y\"><rect x=\"201.33\" y=\"106.83500000000001\" width=\"138.67\" height=\"84.16499999999999\"/></clipPath><clipPath class=\"axesclip\" id=\"clipe3596ax4y2\"><rect x=\"201.33\" y=\"106.83500000000001\" width=\"138.67\" height=\"84.16499999999999\"/></clipPath><clipPath class=\"axesclip\" id=\"clipe3596ax4y3\"><rect x=\"201.33\" y=\"10.00000000000002\" width=\"138.67\" height=\"84.16499999999999\"/></clipPath><clipPath class=\"axesclip\" id=\"clipe3596ax4y4\"><rect x=\"201.33\" y=\"10.00000000000002\" width=\"138.67\" height=\"84.16499999999999\"/></clipPath></g><g class=\"gradients\"/><g class=\"patterns\"/></defs><g class=\"bglayer\"/><g class=\"layer-below\"><g class=\"imagelayer\"/><g class=\"shapelayer\"/></g><g class=\"cartesianlayer\"><g class=\"subplot xy\"><g class=\"layer-subplot\"><g class=\"shapelayer\"/><g class=\"imagelayer\"/></g><g class=\"gridlayer\"><g class=\"x\"><path class=\"xgrid crisp\" transform=\"translate(82.28,0)\" d=\"M0,106.83500000000001v84.16499999999999\" style=\"stroke: rgb(232, 232, 232); stroke-opacity: 1; stroke-width: 1px;\"/><path class=\"xgrid crisp\" transform=\"translate(122.09,0)\" d=\"M0,106.83500000000001v84.16499999999999\" style=\"stroke: rgb(232, 232, 232); stroke-opacity: 1; stroke-width: 1px;\"/><path class=\"xgrid crisp\" transform=\"translate(161.9,0)\" d=\"M0,106.83500000000001v84.16499999999999\" style=\"stroke: rgb(232, 232, 232); stroke-opacity: 1; stroke-width: 1px;\"/></g><g class=\"y\"><path class=\"ygrid crisp\" transform=\"translate(0,170.78500000000003)\" d=\"M57,0h138.67\" style=\"stroke: rgb(232, 232, 232); stroke-opacity: 1; stroke-width: 1px;\"/><path class=\"ygrid crisp\" transform=\"translate(0,148.315)\" d=\"M57,0h138.67\" style=\"stroke: rgb(232, 232, 232); stroke-opacity: 1; stroke-width: 1px;\"/><path class=\"ygrid crisp\" transform=\"translate(0,125.84500000000001)\" d=\"M57,0h138.67\" style=\"stroke: rgb(232, 232, 232); stroke-opacity: 1; stroke-width: 1px;\"/></g></g><g class=\"zerolinelayer\"/><path class=\"xlines-below\"/><path class=\"ylines-below\"/><g class=\"overlines-below\"/><g class=\"xaxislayer-below\"/><g class=\"yaxislayer-below\"/><g class=\"overaxes-below\"/><g class=\"plot\" transform=\"translate(57,106.83500000000001)\" clip-path=\"url(#clipe3596axyplot)\"><g class=\"scatterlayer mlayer\"><g class=\"trace scatter tracea0a3e9\" style=\"stroke-miterlimit: 2; opacity: 1;\"><g class=\"fills\"/><g class=\"errorbars\"/><g class=\"lines\"/><g class=\"points\"><path class=\"point\" transform=\"translate(78.99,36.22)\" d=\"M3,0A3,3 0 1,1 0,-3A3,3 0 0,1 3,0Z\" style=\"opacity: 1; stroke-width: 0px; fill: rgb(31, 119, 180); fill-opacity: 1;\"/><path class=\"point\" transform=\"translate(56.43,53.69)\" d=\"M3,0A3,3 0 1,1 0,-3A3,3 0 0,1 3,0Z\" style=\"opacity: 1; stroke-width: 0px; fill: rgb(31, 119, 180); fill-opacity: 1;\"/><path class=\"point\" transform=\"translate(79.48,30.07)\" d=\"M3,0A3,3 0 1,1 0,-3A3,3 0 0,1 3,0Z\" style=\"opacity: 1; stroke-width: 0px; fill: rgb(31, 119, 180); fill-opacity: 1;\"/><path class=\"point\" transform=\"translate(66.08,45.86)\" d=\"M3,0A3,3 0 1,1 0,-3A3,3 0 0,1 3,0Z\" style=\"opacity: 1; stroke-width: 0px; fill: rgb(31, 119, 180); fill-opacity: 1;\"/><path class=\"point\" transform=\"translate(68.24,42.76)\" d=\"M3,0A3,3 0 1,1 0,-3A3,3 0 0,1 3,0Z\" style=\"opacity: 1; stroke-width: 0px; fill: rgb(31, 119, 180); fill-opacity: 1;\"/><path class=\"point\" transform=\"translate(28.73,68.58)\" d=\"M3,0A3,3 0 1,1 0,-3A3,3 0 0,1 3,0Z\" style=\"opacity: 1; stroke-width: 0px; fill: rgb(31, 119, 180); fill-opacity: 1;\"/><path class=\"point\" transform=\"translate(29.29,69.48)\" d=\"M3,0A3,3 0 1,1 0,-3A3,3 0 0,1 3,0Z\" style=\"opacity: 1; stroke-width: 0px; fill: rgb(31, 119, 180); fill-opacity: 1;\"/><path class=\"point\" transform=\"translate(47.84,60.2)\" d=\"M3,0A3,3 0 1,1 0,-3A3,3 0 0,1 3,0Z\" style=\"opacity: 1; stroke-width: 0px; fill: rgb(31, 119, 180); fill-opacity: 1;\"/><path class=\"point\" transform=\"translate(56.23,52.39)\" d=\"M3,0A3,3 0 1,1 0,-3A3,3 0 0,1 3,0Z\" style=\"opacity: 1; stroke-width: 0px; fill: rgb(31, 119, 180); fill-opacity: 1;\"/><path class=\"point\" transform=\"translate(108.51,20.83)\" d=\"M3,0A3,3 0 1,1 0,-3A3,3 0 0,1 3,0Z\" style=\"opacity: 1; stroke-width: 0px; fill: rgb(31, 119, 180); fill-opacity: 1;\"/><path class=\"point\" transform=\"translate(103.67,25.3)\" d=\"M3,0A3,3 0 1,1 0,-3A3,3 0 0,1 3,0Z\" style=\"opacity: 1; stroke-width: 0px; fill: rgb(31, 119, 180); fill-opacity: 1;\"/><path class=\"point\" transform=\"translate(76.66,39.82)\" d=\"M3,0A3,3 0 1,1 0,-3A3,3 0 0,1 3,0Z\" style=\"opacity: 1; stroke-width: 0px; fill: rgb(31, 119, 180); fill-opacity: 1;\"/><path class=\"point\" transform=\"translate(77.2,39.98)\" d=\"M3,0A3,3 0 1,1 0,-3A3,3 0 0,1 3,0Z\" style=\"opacity: 1; stroke-width: 0px; fill: rgb(31, 119, 180); fill-opacity: 1;\"/><path class=\"point\" transform=\"translate(44.45,65.85)\" d=\"M3,0A3,3 0 1,1 0,-3A3,3 0 0,1 3,0Z\" style=\"opacity: 1; stroke-width: 0px; fill: rgb(31, 119, 180); fill-opacity: 1;\"/><path class=\"point\" transform=\"translate(61.01,53.62)\" d=\"M3,0A3,3 0 1,1 0,-3A3,3 0 0,1 3,0Z\" style=\"opacity: 1; stroke-width: 0px; fill: rgb(31, 119, 180); fill-opacity: 1;\"/><path class=\"point\" transform=\"translate(68.87,47.66)\" d=\"M3,0A3,3 0 1,1 0,-3A3,3 0 0,1 3,0Z\" style=\"opacity: 1; stroke-width: 0px; fill: rgb(31, 119, 180); fill-opacity: 1;\"/><path class=\"point\" transform=\"translate(111.1,16.32)\" d=\"M3,0A3,3 0 1,1 0,-3A3,3 0 0,1 3,0Z\" style=\"opacity: 1; stroke-width: 0px; fill: rgb(31, 119, 180); fill-opacity: 1;\"/><path class=\"point\" transform=\"translate(120.79,9.47)\" d=\"M3,0A3,3 0 1,1 0,-3A3,3 0 0,1 3,0Z\" style=\"opacity: 1; stroke-width: 0px; fill: rgb(31, 119, 180); fill-opacity: 1;\"/><path class=\"point\" transform=\"translate(125.8,7.96)\" d=\"M3,0A3,3 0 1,1 0,-3A3,3 0 0,1 3,0Z\" style=\"opacity: 1; stroke-width: 0px; fill: rgb(31, 119, 180); fill-opacity: 1;\"/><path class=\"point\" transform=\"translate(56.06,56.19)\" d=\"M3,0A3,3 0 1,1 0,-3A3,3 0 0,1 3,0Z\" style=\"opacity: 1; stroke-width: 0px; fill: rgb(31, 119, 180); fill-opacity: 1;\"/><path class=\"point\" transform=\"translate(39.64,57.33)\" d=\"M3,0A3,3 0 1,1 0,-3A3,3 0 0,1 3,0Z\" style=\"opacity: 1; stroke-width: 0px; fill: rgb(31, 119, 180); fill-opacity: 1;\"/><path class=\"point\" transform=\"translate(29.09,69.41)\" d=\"M3,0A3,3 0 1,1 0,-3A3,3 0 0,1 3,0Z\" style=\"opacity: 1; stroke-width: 0px; fill: rgb(31, 119, 180); fill-opacity: 1;\"/><path class=\"point\" transform=\"translate(19.74,76.21)\" d=\"M3,0A3,3 0 1,1 0,-3A3,3 0 0,1 3,0Z\" style=\"opacity: 1; stroke-width: 0px; fill: rgb(31, 119, 180); fill-opacity: 1;\"/><path class=\"point\" transform=\"translate(42.79,59.25)\" d=\"M3,0A3,3 0 1,1 0,-3A3,3 0 0,1 3,0Z\" style=\"opacity: 1; stroke-width: 0px; fill: rgb(31, 119, 180); fill-opacity: 1;\"/><path class=\"point\" transform=\"translate(70.73,45.46)\" d=\"M3,0A3,3 0 1,1 0,-3A3,3 0 0,1 3,0Z\" style=\"opacity: 1; stroke-width: 0px; fill: rgb(31, 119, 180); fill-opacity: 1;\"/><path class=\"point\" transform=\"translate(43.49,58.75)\" d=\"M3,0A3,3 0 1,1 0,-3A3,3 0 0,1 3,0Z\" style=\"opacity: 1; stroke-width: 0px; fill: rgb(31, 119, 180); fill-opacity: 1;\"/><path class=\"point\" transform=\"translate(59.88,55.97)\" d=\"M3,0A3,3 0 1,1 0,-3A3,3 0 0,1 3,0Z\" style=\"opacity: 1; stroke-width: 0px; fill: rgb(31, 119, 180); fill-opacity: 1;\"/><path class=\"point\" transform=\"translate(71.89,41.83)\" d=\"M3,0A3,3 0 1,1 0,-3A3,3 0 0,1 3,0Z\" style=\"opacity: 1; stroke-width: 0px; fill: rgb(31, 119, 180); fill-opacity: 1;\"/><path class=\"point\" transform=\"translate(56.96,56.98)\" d=\"M3,0A3,3 0 1,1 0,-3A3,3 0 0,1 3,0Z\" style=\"opacity: 1; stroke-width: 0px; fill: rgb(31, 119, 180); fill-opacity: 1;\"/><path class=\"point\" transform=\"translate(74.64,36.22)\" d=\"M3,0A3,3 0 1,1 0,-3A3,3 0 0,1 3,0Z\" style=\"opacity: 1; stroke-width: 0px; fill: rgb(31, 119, 180); fill-opacity: 1;\"/><path class=\"point\" transform=\"translate(53.14,53.69)\" d=\"M3,0A3,3 0 1,1 0,-3A3,3 0 0,1 3,0Z\" style=\"opacity: 1; stroke-width: 0px; fill: rgb(31, 119, 180); fill-opacity: 1;\"/><path class=\"point\" transform=\"translate(84.99,30.07)\" d=\"M3,0A3,3 0 1,1 0,-3A3,3 0 0,1 3,0Z\" style=\"opacity: 1; stroke-width: 0px; fill: rgb(31, 119, 180); fill-opacity: 1;\"/><path class=\"point\" transform=\"translate(68.27,45.86)\" d=\"M3,0A3,3 0 1,1 0,-3A3,3 0 0,1 3,0Z\" style=\"opacity: 1; stroke-width: 0px; fill: rgb(31, 119, 180); fill-opacity: 1;\"/><path class=\"point\" transform=\"translate(68.27,42.76)\" d=\"M3,0A3,3 0 1,1 0,-3A3,3 0 0,1 3,0Z\" style=\"opacity: 1; stroke-width: 0px; fill: rgb(31, 119, 180); fill-opacity: 1;\"/><path class=\"point\" transform=\"translate(26.07,68.58)\" d=\"M3,0A3,3 0 1,1 0,-3A3,3 0 0,1 3,0Z\" style=\"opacity: 1; stroke-width: 0px; fill: rgb(31, 119, 180); fill-opacity: 1;\"/><path class=\"point\" transform=\"translate(37.22,69.48)\" d=\"M3,0A3,3 0 1,1 0,-3A3,3 0 0,1 3,0Z\" style=\"opacity: 1; stroke-width: 0px; fill: rgb(31, 119, 180); fill-opacity: 1;\"/><path class=\"point\" transform=\"translate(42.79,60.2)\" d=\"M3,0A3,3 0 1,1 0,-3A3,3 0 0,1 3,0Z\" style=\"opacity: 1; stroke-width: 0px; fill: rgb(31, 119, 180); fill-opacity: 1;\"/><path class=\"point\" transform=\"translate(51.55,52.39)\" d=\"M3,0A3,3 0 1,1 0,-3A3,3 0 0,1 3,0Z\" style=\"opacity: 1; stroke-width: 0px; fill: rgb(31, 119, 180); fill-opacity: 1;\"/><path class=\"point\" transform=\"translate(102.51,20.83)\" d=\"M3,0A3,3 0 1,1 0,-3A3,3 0 0,1 3,0Z\" style=\"opacity: 1; stroke-width: 0px; fill: rgb(31, 119, 180); fill-opacity: 1;\"/><path class=\"point\" transform=\"translate(98.53,25.3)\" d=\"M3,0A3,3 0 1,1 0,-3A3,3 0 0,1 3,0Z\" style=\"opacity: 1; stroke-width: 0px; fill: rgb(31, 119, 180); fill-opacity: 1;\"/><path class=\"point\" transform=\"translate(81.81,39.82)\" d=\"M3,0A3,3 0 1,1 0,-3A3,3 0 0,1 3,0Z\" style=\"opacity: 1; stroke-width: 0px; fill: rgb(31, 119, 180); fill-opacity: 1;\"/><path class=\"point\" transform=\"translate(76.23,39.98)\" d=\"M3,0A3,3 0 1,1 0,-3A3,3 0 0,1 3,0Z\" style=\"opacity: 1; stroke-width: 0px; fill: rgb(31, 119, 180); fill-opacity: 1;\"/><path class=\"point\" transform=\"translate(42,65.85)\" d=\"M3,0A3,3 0 1,1 0,-3A3,3 0 0,1 3,0Z\" style=\"opacity: 1; stroke-width: 0px; fill: rgb(31, 119, 180); fill-opacity: 1;\"/><path class=\"point\" transform=\"translate(53.14,53.62)\" d=\"M3,0A3,3 0 1,1 0,-3A3,3 0 0,1 3,0Z\" style=\"opacity: 1; stroke-width: 0px; fill: rgb(31, 119, 180); fill-opacity: 1;\"/><path class=\"point\" transform=\"translate(65.09,47.66)\" d=\"M3,0A3,3 0 1,1 0,-3A3,3 0 0,1 3,0Z\" style=\"opacity: 1; stroke-width: 0px; fill: rgb(31, 119, 180); fill-opacity: 1;\"/><path class=\"point\" transform=\"translate(92.95,16.32)\" d=\"M3,0A3,3 0 1,1 0,-3A3,3 0 0,1 3,0Z\" style=\"opacity: 1; stroke-width: 0px; fill: rgb(31, 119, 180); fill-opacity: 1;\"/><path class=\"point\" transform=\"translate(111.27,9.47)\" d=\"M3,0A3,3 0 1,1 0,-3A3,3 0 0,1 3,0Z\" style=\"opacity: 1; stroke-width: 0px; fill: rgb(31, 119, 180); fill-opacity: 1;\"/><path class=\"point\" transform=\"translate(115.25,7.96)\" d=\"M3,0A3,3 0 1,1 0,-3A3,3 0 0,1 3,0Z\" style=\"opacity: 1; stroke-width: 0px; fill: rgb(31, 119, 180); fill-opacity: 1;\"/><path class=\"point\" transform=\"translate(53.94,56.19)\" d=\"M3,0A3,3 0 1,1 0,-3A3,3 0 0,1 3,0Z\" style=\"opacity: 1; stroke-width: 0px; fill: rgb(31, 119, 180); fill-opacity: 1;\"/><path class=\"point\" transform=\"translate(35.63,57.33)\" d=\"M3,0A3,3 0 1,1 0,-3A3,3 0 0,1 3,0Z\" style=\"opacity: 1; stroke-width: 0px; fill: rgb(31, 119, 180); fill-opacity: 1;\"/><path class=\"point\" transform=\"translate(20.5,69.41)\" d=\"M3,0A3,3 0 1,1 0,-3A3,3 0 0,1 3,0Z\" style=\"opacity: 1; stroke-width: 0px; fill: rgb(31, 119, 180); fill-opacity: 1;\"/><path class=\"point\" transform=\"translate(19.7,76.21)\" d=\"M3,0A3,3 0 1,1 0,-3A3,3 0 0,1 3,0Z\" style=\"opacity: 1; stroke-width: 0px; fill: rgb(31, 119, 180); fill-opacity: 1;\"/><path class=\"point\" transform=\"translate(75.44,36.22)\" d=\"M3,0A3,3 0 1,1 0,-3A3,3 0 0,1 3,0Z\" style=\"opacity: 1; stroke-width: 0px; fill: rgb(31, 119, 180); fill-opacity: 1;\"/><path class=\"point\" transform=\"translate(83.4,30.07)\" d=\"M3,0A3,3 0 1,1 0,-3A3,3 0 0,1 3,0Z\" style=\"opacity: 1; stroke-width: 0px; fill: rgb(31, 119, 180); fill-opacity: 1;\"/><path class=\"point\" transform=\"translate(102.51,20.83)\" d=\"M3,0A3,3 0 1,1 0,-3A3,3 0 0,1 3,0Z\" style=\"opacity: 1; stroke-width: 0px; fill: rgb(31, 119, 180); fill-opacity: 1;\"/><path class=\"point\" transform=\"translate(80.21,39.98)\" d=\"M3,0A3,3 0 1,1 0,-3A3,3 0 0,1 3,0Z\" style=\"opacity: 1; stroke-width: 0px; fill: rgb(31, 119, 180); fill-opacity: 1;\"/><path class=\"point\" transform=\"translate(47.57,65.85)\" d=\"M3,0A3,3 0 1,1 0,-3A3,3 0 0,1 3,0Z\" style=\"opacity: 1; stroke-width: 0px; fill: rgb(31, 119, 180); fill-opacity: 1;\"/><path class=\"point\" transform=\"translate(127.99,7.96)\" d=\"M3,0A3,3 0 1,1 0,-3A3,3 0 0,1 3,0Z\" style=\"opacity: 1; stroke-width: 0px; fill: rgb(31, 119, 180); fill-opacity: 1;\"/><path class=\"point\" transform=\"translate(56.33,56.19)\" d=\"M3,0A3,3 0 1,1 0,-3A3,3 0 0,1 3,0Z\" style=\"opacity: 1; stroke-width: 0px; fill: rgb(31, 119, 180); fill-opacity: 1;\"/><path class=\"point\" transform=\"translate(35.63,57.33)\" d=\"M3,0A3,3 0 1,1 0,-3A3,3 0 0,1 3,0Z\" style=\"opacity: 1; stroke-width: 0px; fill: rgb(31, 119, 180); fill-opacity: 1;\"/></g><g class=\"text\"/></g></g></g><g class=\"overplot\"/><path class=\"xlines-above crisp\" d=\"M56,191.5H195.67\" style=\"fill: none; stroke-width: 1px; stroke: rgb(36, 36, 36); stroke-opacity: 1;\"/><path class=\"ylines-above crisp\" d=\"M56.5,106.83500000000001V191\" style=\"fill: none; stroke-width: 1px; stroke: rgb(36, 36, 36); stroke-opacity: 1;\"/><g class=\"overlines-above\"/><g class=\"xaxislayer-above\"><path class=\"xtick ticks crisp\" d=\"M0,192v5\" transform=\"translate(82.28,0)\" style=\"stroke: rgb(68, 68, 68); stroke-opacity: 1; stroke-width: 1px;\"/><path class=\"xtick ticks crisp\" d=\"M0,192v5\" transform=\"translate(122.09,0)\" style=\"stroke: rgb(68, 68, 68); stroke-opacity: 1; stroke-width: 1px;\"/><path class=\"xtick ticks crisp\" d=\"M0,192v5\" transform=\"translate(161.9,0)\" style=\"stroke: rgb(68, 68, 68); stroke-opacity: 1; stroke-width: 1px;\"/><g class=\"xtick\"><text text-anchor=\"middle\" x=\"0\" y=\"211.4\" transform=\"translate(82.28,0)\" style=\"font-family: 'Open Sans', verdana, arial, sans-serif; font-size: 12px; fill: rgb(36, 36, 36); fill-opacity: 1; white-space: pre; opacity: 1;\">5</text></g><g class=\"xtick\"><text text-anchor=\"middle\" x=\"0\" y=\"211.4\" style=\"font-family: 'Open Sans', verdana, arial, sans-serif; font-size: 12px; fill: rgb(36, 36, 36); fill-opacity: 1; white-space: pre; opacity: 1;\" transform=\"translate(122.09,0)\">10</text></g><g class=\"xtick\"><text text-anchor=\"middle\" x=\"0\" y=\"211.4\" style=\"font-family: 'Open Sans', verdana, arial, sans-serif; font-size: 12px; fill: rgb(36, 36, 36); fill-opacity: 1; white-space: pre; opacity: 1;\" transform=\"translate(161.9,0)\">15</text></g></g><g class=\"yaxislayer-above\"><path class=\"ytick ticks crisp\" d=\"M56,0h-5\" transform=\"translate(0,170.78500000000003)\" style=\"stroke: rgb(68, 68, 68); stroke-opacity: 1; stroke-width: 1px;\"/><path class=\"ytick ticks crisp\" d=\"M56,0h-5\" transform=\"translate(0,148.315)\" style=\"stroke: rgb(68, 68, 68); stroke-opacity: 1; stroke-width: 1px;\"/><path class=\"ytick ticks crisp\" d=\"M56,0h-5\" transform=\"translate(0,125.84500000000001)\" style=\"stroke: rgb(68, 68, 68); stroke-opacity: 1; stroke-width: 1px;\"/><g class=\"ytick\"><text text-anchor=\"end\" x=\"48.6\" y=\"4.199999999999999\" transform=\"translate(0,170.78500000000003)\" style=\"font-family: 'Open Sans', verdana, arial, sans-serif; font-size: 12px; fill: rgb(36, 36, 36); fill-opacity: 1; white-space: pre; opacity: 1;\">10</text></g><g class=\"ytick\"><text text-anchor=\"end\" x=\"48.6\" y=\"4.199999999999999\" style=\"font-family: 'Open Sans', verdana, arial, sans-serif; font-size: 12px; fill: rgb(36, 36, 36); fill-opacity: 1; white-space: pre; opacity: 1;\" transform=\"translate(0,148.315)\">20</text></g><g class=\"ytick\"><text text-anchor=\"end\" x=\"48.6\" y=\"4.199999999999999\" style=\"font-family: 'Open Sans', verdana, arial, sans-serif; font-size: 12px; fill: rgb(36, 36, 36); fill-opacity: 1; white-space: pre; opacity: 1;\" transform=\"translate(0,125.84500000000001)\">30</text></g></g><g class=\"overaxes-above\"/></g><g class=\"subplot x2y2\"><g class=\"layer-subplot\"><g class=\"shapelayer\"/><g class=\"imagelayer\"/></g><g class=\"gridlayer\"><g class=\"x2\"><path class=\"x2grid crisp\" transform=\"translate(226.61,0)\" d=\"M0,106.83500000000001v84.16499999999999\" style=\"stroke: rgb(232, 232, 232); stroke-opacity: 1; stroke-width: 1px;\"/><path class=\"x2grid crisp\" transform=\"translate(266.42,0)\" d=\"M0,106.83500000000001v84.16499999999999\" style=\"stroke: rgb(232, 232, 232); stroke-opacity: 1; stroke-width: 1px;\"/><path class=\"x2grid crisp\" transform=\"translate(306.23,0)\" d=\"M0,106.83500000000001v84.16499999999999\" style=\"stroke: rgb(232, 232, 232); stroke-opacity: 1; stroke-width: 1px;\"/></g><g class=\"y2\"><path class=\"y2grid crisp\" transform=\"translate(0,170.78500000000003)\" d=\"M201.33,0h138.67\" style=\"stroke: rgb(232, 232, 232); stroke-opacity: 1; stroke-width: 1px;\"/><path class=\"y2grid crisp\" transform=\"translate(0,148.315)\" d=\"M201.33,0h138.67\" style=\"stroke: rgb(232, 232, 232); stroke-opacity: 1; stroke-width: 1px;\"/><path class=\"y2grid crisp\" transform=\"translate(0,125.84500000000001)\" d=\"M201.33,0h138.67\" style=\"stroke: rgb(232, 232, 232); stroke-opacity: 1; stroke-width: 1px;\"/></g></g><g class=\"zerolinelayer\"/><path class=\"xlines-below\"/><path class=\"ylines-below\"/><g class=\"overlines-below\"/><g class=\"xaxislayer-below\"/><g class=\"yaxislayer-below\"/><g class=\"overaxes-below\"/><g class=\"plot\" transform=\"translate(201.33,106.83500000000001)\" clip-path=\"url(#clipe3596ax2y2plot)\"><g class=\"scatterlayer mlayer\"><g class=\"trace scatter trace31daa7\" style=\"stroke-miterlimit: 2; opacity: 1;\"><g class=\"fills\"/><g class=\"errorbars\"/><g class=\"lines\"/><g class=\"points\"><path class=\"point\" transform=\"translate(53.97,51.64)\" d=\"M3,0A3,3 0 1,1 0,-3A3,3 0 0,1 3,0Z\" style=\"opacity: 1; stroke-width: 0px; fill: rgb(31, 119, 180); fill-opacity: 1;\"/><path class=\"point\" transform=\"translate(41,63.96)\" d=\"M3,0A3,3 0 1,1 0,-3A3,3 0 0,1 3,0Z\" style=\"opacity: 1; stroke-width: 0px; fill: rgb(31, 119, 180); fill-opacity: 1;\"/><path class=\"point\" transform=\"translate(87.25,35.93)\" d=\"M3,0A3,3 0 1,1 0,-3A3,3 0 0,1 3,0Z\" style=\"opacity: 1; stroke-width: 0px; fill: rgb(31, 119, 180); fill-opacity: 1;\"/><path class=\"point\" transform=\"translate(40.01,66.98)\" d=\"M3,0A3,3 0 1,1 0,-3A3,3 0 0,1 3,0Z\" style=\"opacity: 1; stroke-width: 0px; fill: rgb(31, 119, 180); fill-opacity: 1;\"/><path class=\"point\" transform=\"translate(48.6,62.01)\" d=\"M3,0A3,3 0 1,1 0,-3A3,3 0 0,1 3,0Z\" style=\"opacity: 1; stroke-width: 0px; fill: rgb(31, 119, 180); fill-opacity: 1;\"/><path class=\"point\" transform=\"translate(48.1,62.95)\" d=\"M3,0A3,3 0 1,1 0,-3A3,3 0 0,1 3,0Z\" style=\"opacity: 1; stroke-width: 0px; fill: rgb(31, 119, 180); fill-opacity: 1;\"/><path class=\"point\" transform=\"translate(53.77,59.76)\" d=\"M3,0A3,3 0 1,1 0,-3A3,3 0 0,1 3,0Z\" style=\"opacity: 1; stroke-width: 0px; fill: rgb(31, 119, 180); fill-opacity: 1;\"/><path class=\"point\" transform=\"translate(75.24,42.36)\" d=\"M3,0A3,3 0 1,1 0,-3A3,3 0 0,1 3,0Z\" style=\"opacity: 1; stroke-width: 0px; fill: rgb(31, 119, 180); fill-opacity: 1;\"/><path class=\"point\" transform=\"translate(94.21,33.3)\" d=\"M3,0A3,3 0 1,1 0,-3A3,3 0 0,1 3,0Z\" style=\"opacity: 1; stroke-width: 0px; fill: rgb(31, 119, 180); fill-opacity: 1;\"/><path class=\"point\" transform=\"translate(25.58,72.06)\" d=\"M3,0A3,3 0 1,1 0,-3A3,3 0 0,1 3,0Z\" style=\"opacity: 1; stroke-width: 0px; fill: rgb(31, 119, 180); fill-opacity: 1;\"/><path class=\"point\" transform=\"translate(35.59,67.34)\" d=\"M3,0A3,3 0 1,1 0,-3A3,3 0 0,1 3,0Z\" style=\"opacity: 1; stroke-width: 0px; fill: rgb(31, 119, 180); fill-opacity: 1;\"/><path class=\"point\" transform=\"translate(71.66,49.05)\" d=\"M3,0A3,3 0 1,1 0,-3A3,3 0 0,1 3,0Z\" style=\"opacity: 1; stroke-width: 0px; fill: rgb(31, 119, 180); fill-opacity: 1;\"/><path class=\"point\" transform=\"translate(63.93,44.46)\" d=\"M3,0A3,3 0 1,1 0,-3A3,3 0 0,1 3,0Z\" style=\"opacity: 1; stroke-width: 0px; fill: rgb(31, 119, 180); fill-opacity: 1;\"/><path class=\"point\" transform=\"translate(61.11,51.64)\" d=\"M3,0A3,3 0 1,1 0,-3A3,3 0 0,1 3,0Z\" style=\"opacity: 1; stroke-width: 0px; fill: rgb(31, 119, 180); fill-opacity: 1;\"/><path class=\"point\" transform=\"translate(38.02,63.96)\" d=\"M3,0A3,3 0 1,1 0,-3A3,3 0 0,1 3,0Z\" style=\"opacity: 1; stroke-width: 0px; fill: rgb(31, 119, 180); fill-opacity: 1;\"/><path class=\"point\" transform=\"translate(89.77,35.93)\" d=\"M3,0A3,3 0 1,1 0,-3A3,3 0 0,1 3,0Z\" style=\"opacity: 1; stroke-width: 0px; fill: rgb(31, 119, 180); fill-opacity: 1;\"/><path class=\"point\" transform=\"translate(40.4,66.98)\" d=\"M3,0A3,3 0 1,1 0,-3A3,3 0 0,1 3,0Z\" style=\"opacity: 1; stroke-width: 0px; fill: rgb(31, 119, 180); fill-opacity: 1;\"/><path class=\"point\" transform=\"translate(45.98,62.01)\" d=\"M3,0A3,3 0 1,1 0,-3A3,3 0 0,1 3,0Z\" style=\"opacity: 1; stroke-width: 0px; fill: rgb(31, 119, 180); fill-opacity: 1;\"/><path class=\"point\" transform=\"translate(47.57,62.95)\" d=\"M3,0A3,3 0 1,1 0,-3A3,3 0 0,1 3,0Z\" style=\"opacity: 1; stroke-width: 0px; fill: rgb(31, 119, 180); fill-opacity: 1;\"/><path class=\"point\" transform=\"translate(59.51,59.76)\" d=\"M3,0A3,3 0 1,1 0,-3A3,3 0 0,1 3,0Z\" style=\"opacity: 1; stroke-width: 0px; fill: rgb(31, 119, 180); fill-opacity: 1;\"/><path class=\"point\" transform=\"translate(65.88,42.36)\" d=\"M3,0A3,3 0 1,1 0,-3A3,3 0 0,1 3,0Z\" style=\"opacity: 1; stroke-width: 0px; fill: rgb(31, 119, 180); fill-opacity: 1;\"/><path class=\"point\" transform=\"translate(82.6,33.3)\" d=\"M3,0A3,3 0 1,1 0,-3A3,3 0 0,1 3,0Z\" style=\"opacity: 1; stroke-width: 0px; fill: rgb(31, 119, 180); fill-opacity: 1;\"/><path class=\"point\" transform=\"translate(18.91,72.06)\" d=\"M3,0A3,3 0 1,1 0,-3A3,3 0 0,1 3,0Z\" style=\"opacity: 1; stroke-width: 0px; fill: rgb(31, 119, 180); fill-opacity: 1;\"/><path class=\"point\" transform=\"translate(61.11,51.64)\" d=\"M3,0A3,3 0 1,1 0,-3A3,3 0 0,1 3,0Z\" style=\"opacity: 1; stroke-width: 0px; fill: rgb(31, 119, 180); fill-opacity: 1;\"/><path class=\"point\" transform=\"translate(49.96,62.95)\" d=\"M3,0A3,3 0 1,1 0,-3A3,3 0 0,1 3,0Z\" style=\"opacity: 1; stroke-width: 0px; fill: rgb(31, 119, 180); fill-opacity: 1;\"/><path class=\"point\" transform=\"translate(76.23,42.36)\" d=\"M3,0A3,3 0 1,1 0,-3A3,3 0 0,1 3,0Z\" style=\"opacity: 1; stroke-width: 0px; fill: rgb(31, 119, 180); fill-opacity: 1;\"/></g><g class=\"text\"/></g></g></g><g class=\"overplot\"/><path class=\"xlines-above crisp\" d=\"M200.33,191.5H340\" style=\"fill: none; stroke-width: 1px; stroke: rgb(36, 36, 36); stroke-opacity: 1;\"/><path class=\"ylines-above crisp\" d=\"M200.83,106.83500000000001V191\" style=\"fill: none; stroke-width: 1px; stroke: rgb(36, 36, 36); stroke-opacity: 1;\"/><g class=\"overlines-above\"/><g class=\"xaxislayer-above\"><path class=\"x2tick ticks crisp\" d=\"M0,192v5\" transform=\"translate(226.61,0)\" style=\"stroke: rgb(68, 68, 68); stroke-opacity: 1; stroke-width: 1px;\"/><path class=\"x2tick ticks crisp\" d=\"M0,192v5\" transform=\"translate(266.42,0)\" style=\"stroke: rgb(68, 68, 68); stroke-opacity: 1; stroke-width: 1px;\"/><path class=\"x2tick ticks crisp\" d=\"M0,192v5\" transform=\"translate(306.23,0)\" style=\"stroke: rgb(68, 68, 68); stroke-opacity: 1; stroke-width: 1px;\"/><g class=\"x2tick\"><text text-anchor=\"middle\" x=\"0\" y=\"211.4\" transform=\"translate(226.61,0)\" style=\"font-family: 'Open Sans', verdana, arial, sans-serif; font-size: 12px; fill: rgb(36, 36, 36); fill-opacity: 1; white-space: pre; opacity: 1;\">5</text></g><g class=\"x2tick\"><text text-anchor=\"middle\" x=\"0\" y=\"211.4\" style=\"font-family: 'Open Sans', verdana, arial, sans-serif; font-size: 12px; fill: rgb(36, 36, 36); fill-opacity: 1; white-space: pre; opacity: 1;\" transform=\"translate(266.42,0)\">10</text></g><g class=\"x2tick\"><text text-anchor=\"middle\" x=\"0\" y=\"211.4\" style=\"font-family: 'Open Sans', verdana, arial, sans-serif; font-size: 12px; fill: rgb(36, 36, 36); fill-opacity: 1; white-space: pre; opacity: 1;\" transform=\"translate(306.23,0)\">15</text></g></g><g class=\"yaxislayer-above\"><path class=\"y2tick ticks crisp\" d=\"M200.33,0h-5\" transform=\"translate(0,170.78500000000003)\" style=\"stroke: rgb(68, 68, 68); stroke-opacity: 1; stroke-width: 1px;\"/><path class=\"y2tick ticks crisp\" d=\"M200.33,0h-5\" transform=\"translate(0,148.315)\" style=\"stroke: rgb(68, 68, 68); stroke-opacity: 1; stroke-width: 1px;\"/><path class=\"y2tick ticks crisp\" d=\"M200.33,0h-5\" transform=\"translate(0,125.84500000000001)\" style=\"stroke: rgb(68, 68, 68); stroke-opacity: 1; stroke-width: 1px;\"/></g><g class=\"overaxes-above\"/></g><g class=\"subplot x3y3\"><g class=\"layer-subplot\"><g class=\"shapelayer\"/><g class=\"imagelayer\"/></g><g class=\"gridlayer\"><g class=\"x3\"><path class=\"x3grid crisp\" transform=\"translate(82.28,0)\" d=\"M0,10.00000000000002v84.16499999999999\" style=\"stroke: rgb(232, 232, 232); stroke-opacity: 1; stroke-width: 1px;\"/><path class=\"x3grid crisp\" transform=\"translate(122.09,0)\" d=\"M0,10.00000000000002v84.16499999999999\" style=\"stroke: rgb(232, 232, 232); stroke-opacity: 1; stroke-width: 1px;\"/><path class=\"x3grid crisp\" transform=\"translate(161.9,0)\" d=\"M0,10.00000000000002v84.16499999999999\" style=\"stroke: rgb(232, 232, 232); stroke-opacity: 1; stroke-width: 1px;\"/></g><g class=\"y3\"><path class=\"y3grid crisp\" transform=\"translate(0,73.95000000000002)\" d=\"M57,0h138.67\" style=\"stroke: rgb(232, 232, 232); stroke-opacity: 1; stroke-width: 1px;\"/><path class=\"y3grid crisp\" transform=\"translate(0,51.48000000000002)\" d=\"M57,0h138.67\" style=\"stroke: rgb(232, 232, 232); stroke-opacity: 1; stroke-width: 1px;\"/><path class=\"y3grid crisp\" transform=\"translate(0,29.01000000000002)\" d=\"M57,0h138.67\" style=\"stroke: rgb(232, 232, 232); stroke-opacity: 1; stroke-width: 1px;\"/></g></g><g class=\"zerolinelayer\"/><path class=\"xlines-below\"/><path class=\"ylines-below\"/><g class=\"overlines-below\"/><g class=\"xaxislayer-below\"/><g class=\"yaxislayer-below\"/><g class=\"overaxes-below\"/><g class=\"plot\" transform=\"translate(57,10.00000000000002)\" clip-path=\"url(#clipe3596ax3y3plot)\"><g class=\"scatterlayer mlayer\"><g class=\"trace scatter tracee158de\" style=\"stroke-miterlimit: 2; opacity: 1;\"><g class=\"fills\"/><g class=\"errorbars\"/><g class=\"lines\"/><g class=\"points\"><path class=\"point\" transform=\"translate(54.31,50.04)\" d=\"M3,0A3,3 0 1,1 0,-3A3,3 0 0,1 3,0Z\" style=\"opacity: 1; stroke-width: 0px; fill: rgb(31, 119, 180); fill-opacity: 1;\"/><path class=\"point\" transform=\"translate(46.81,55.88)\" d=\"M3,0A3,3 0 1,1 0,-3A3,3 0 0,1 3,0Z\" style=\"opacity: 1; stroke-width: 0px; fill: rgb(31, 119, 180); fill-opacity: 1;\"/><path class=\"point\" transform=\"translate(35.63,63.27)\" d=\"M3,0A3,3 0 1,1 0,-3A3,3 0 0,1 3,0Z\" style=\"opacity: 1; stroke-width: 0px; fill: rgb(31, 119, 180); fill-opacity: 1;\"/><path class=\"point\" transform=\"translate(60.64,47)\" d=\"M3,0A3,3 0 1,1 0,-3A3,3 0 0,1 3,0Z\" style=\"opacity: 1; stroke-width: 0px; fill: rgb(31, 119, 180); fill-opacity: 1;\"/><path class=\"point\" transform=\"translate(63.13,43.25)\" d=\"M3,0A3,3 0 1,1 0,-3A3,3 0 0,1 3,0Z\" style=\"opacity: 1; stroke-width: 0px; fill: rgb(31, 119, 180); fill-opacity: 1;\"/><path class=\"point\" transform=\"translate(73.21,37.74)\" d=\"M3,0A3,3 0 1,1 0,-3A3,3 0 0,1 3,0Z\" style=\"opacity: 1; stroke-width: 0px; fill: rgb(31, 119, 180); fill-opacity: 1;\"/><path class=\"point\" transform=\"translate(78.46,28.73)\" d=\"M3,0A3,3 0 1,1 0,-3A3,3 0 0,1 3,0Z\" style=\"opacity: 1; stroke-width: 0px; fill: rgb(31, 119, 180); fill-opacity: 1;\"/><path class=\"point\" transform=\"translate(38.71,60.85)\" d=\"M3,0A3,3 0 1,1 0,-3A3,3 0 0,1 3,0Z\" style=\"opacity: 1; stroke-width: 0px; fill: rgb(31, 119, 180); fill-opacity: 1;\"/><path class=\"point\" transform=\"translate(45.01,58.2)\" d=\"M3,0A3,3 0 1,1 0,-3A3,3 0 0,1 3,0Z\" style=\"opacity: 1; stroke-width: 0px; fill: rgb(31, 119, 180); fill-opacity: 1;\"/><path class=\"point\" transform=\"translate(43.42,64.28)\" d=\"M3,0A3,3 0 1,1 0,-3A3,3 0 0,1 3,0Z\" style=\"opacity: 1; stroke-width: 0px; fill: rgb(31, 119, 180); fill-opacity: 1;\"/><path class=\"point\" transform=\"translate(61.37,50.65)\" d=\"M3,0A3,3 0 1,1 0,-3A3,3 0 0,1 3,0Z\" style=\"opacity: 1; stroke-width: 0px; fill: rgb(31, 119, 180); fill-opacity: 1;\"/><path class=\"point\" transform=\"translate(63.17,48.81)\" d=\"M3,0A3,3 0 1,1 0,-3A3,3 0 0,1 3,0Z\" style=\"opacity: 1; stroke-width: 0px; fill: rgb(31, 119, 180); fill-opacity: 1;\"/><path class=\"point\" transform=\"translate(68.27,40.81)\" d=\"M3,0A3,3 0 1,1 0,-3A3,3 0 0,1 3,0Z\" style=\"opacity: 1; stroke-width: 0px; fill: rgb(31, 119, 180); fill-opacity: 1;\"/><path class=\"point\" transform=\"translate(63.93,46.69)\" d=\"M3,0A3,3 0 1,1 0,-3A3,3 0 0,1 3,0Z\" style=\"opacity: 1; stroke-width: 0px; fill: rgb(31, 119, 180); fill-opacity: 1;\"/><path class=\"point\" transform=\"translate(96.9,21.87)\" d=\"M3,0A3,3 0 1,1 0,-3A3,3 0 0,1 3,0Z\" style=\"opacity: 1; stroke-width: 0px; fill: rgb(31, 119, 180); fill-opacity: 1;\"/><path class=\"point\" transform=\"translate(78.89,34.4)\" d=\"M3,0A3,3 0 1,1 0,-3A3,3 0 0,1 3,0Z\" style=\"opacity: 1; stroke-width: 0px; fill: rgb(31, 119, 180); fill-opacity: 1;\"/><path class=\"point\" transform=\"translate(87.69,34.08)\" d=\"M3,0A3,3 0 1,1 0,-3A3,3 0 0,1 3,0Z\" style=\"opacity: 1; stroke-width: 0px; fill: rgb(31, 119, 180); fill-opacity: 1;\"/><path class=\"point\" transform=\"translate(71.32,46.36)\" d=\"M3,0A3,3 0 1,1 0,-3A3,3 0 0,1 3,0Z\" style=\"opacity: 1; stroke-width: 0px; fill: rgb(31, 119, 180); fill-opacity: 1;\"/><path class=\"point\" transform=\"translate(46.38,68.34)\" d=\"M3,0A3,3 0 1,1 0,-3A3,3 0 0,1 3,0Z\" style=\"opacity: 1; stroke-width: 0px; fill: rgb(31, 119, 180); fill-opacity: 1;\"/><path class=\"point\" transform=\"translate(42.26,67.27)\" d=\"M3,0A3,3 0 1,1 0,-3A3,3 0 0,1 3,0Z\" style=\"opacity: 1; stroke-width: 0px; fill: rgb(31, 119, 180); fill-opacity: 1;\"/><path class=\"point\" transform=\"translate(31.18,69.73)\" d=\"M3,0A3,3 0 1,1 0,-3A3,3 0 0,1 3,0Z\" style=\"opacity: 1; stroke-width: 0px; fill: rgb(31, 119, 180); fill-opacity: 1;\"/><path class=\"point\" transform=\"translate(33.24,63.81)\" d=\"M3,0A3,3 0 1,1 0,-3A3,3 0 0,1 3,0Z\" style=\"opacity: 1; stroke-width: 0px; fill: rgb(31, 119, 180); fill-opacity: 1;\"/><path class=\"point\" transform=\"translate(51.52,56.2)\" d=\"M3,0A3,3 0 1,1 0,-3A3,3 0 0,1 3,0Z\" style=\"opacity: 1; stroke-width: 0px; fill: rgb(31, 119, 180); fill-opacity: 1;\"/><path class=\"point\" transform=\"translate(35.63,64.45)\" d=\"M3,0A3,3 0 1,1 0,-3A3,3 0 0,1 3,0Z\" style=\"opacity: 1; stroke-width: 0px; fill: rgb(31, 119, 180); fill-opacity: 1;\"/><path class=\"point\" transform=\"translate(46.97,55.97)\" d=\"M3,0A3,3 0 1,1 0,-3A3,3 0 0,1 3,0Z\" style=\"opacity: 1; stroke-width: 0px; fill: rgb(31, 119, 180); fill-opacity: 1;\"/><path class=\"point\" transform=\"translate(61.24,53.02)\" d=\"M3,0A3,3 0 1,1 0,-3A3,3 0 0,1 3,0Z\" style=\"opacity: 1; stroke-width: 0px; fill: rgb(31, 119, 180); fill-opacity: 1;\"/><path class=\"point\" transform=\"translate(71.72,44.4)\" d=\"M3,0A3,3 0 1,1 0,-3A3,3 0 0,1 3,0Z\" style=\"opacity: 1; stroke-width: 0px; fill: rgb(31, 119, 180); fill-opacity: 1;\"/><path class=\"point\" transform=\"translate(95.91,31.09)\" d=\"M3,0A3,3 0 1,1 0,-3A3,3 0 0,1 3,0Z\" style=\"opacity: 1; stroke-width: 0px; fill: rgb(31, 119, 180); fill-opacity: 1;\"/><path class=\"point\" transform=\"translate(50.41,57.13)\" d=\"M3,0A3,3 0 1,1 0,-3A3,3 0 0,1 3,0Z\" style=\"opacity: 1; stroke-width: 0px; fill: rgb(31, 119, 180); fill-opacity: 1;\"/><path class=\"point\" transform=\"translate(93.05,33.98)\" d=\"M3,0A3,3 0 1,1 0,-3A3,3 0 0,1 3,0Z\" style=\"opacity: 1; stroke-width: 0px; fill: rgb(31, 119, 180); fill-opacity: 1;\"/><path class=\"point\" transform=\"translate(96.44,28.41)\" d=\"M3,0A3,3 0 1,1 0,-3A3,3 0 0,1 3,0Z\" style=\"opacity: 1; stroke-width: 0px; fill: rgb(31, 119, 180); fill-opacity: 1;\"/><path class=\"point\" transform=\"translate(73.05,43.25)\" d=\"M3,0A3,3 0 1,1 0,-3A3,3 0 0,1 3,0Z\" style=\"opacity: 1; stroke-width: 0px; fill: rgb(31, 119, 180); fill-opacity: 1;\"/><path class=\"point\" transform=\"translate(77.03,37.74)\" d=\"M3,0A3,3 0 1,1 0,-3A3,3 0 0,1 3,0Z\" style=\"opacity: 1; stroke-width: 0px; fill: rgb(31, 119, 180); fill-opacity: 1;\"/><path class=\"point\" transform=\"translate(88.18,28.73)\" d=\"M3,0A3,3 0 1,1 0,-3A3,3 0 0,1 3,0Z\" style=\"opacity: 1; stroke-width: 0px; fill: rgb(31, 119, 180); fill-opacity: 1;\"/><path class=\"point\" transform=\"translate(41.2,60.85)\" d=\"M3,0A3,3 0 1,1 0,-3A3,3 0 0,1 3,0Z\" style=\"opacity: 1; stroke-width: 0px; fill: rgb(31, 119, 180); fill-opacity: 1;\"/><path class=\"point\" transform=\"translate(48.37,58.2)\" d=\"M3,0A3,3 0 1,1 0,-3A3,3 0 0,1 3,0Z\" style=\"opacity: 1; stroke-width: 0px; fill: rgb(31, 119, 180); fill-opacity: 1;\"/><path class=\"point\" transform=\"translate(32.44,64.28)\" d=\"M3,0A3,3 0 1,1 0,-3A3,3 0 0,1 3,0Z\" style=\"opacity: 1; stroke-width: 0px; fill: rgb(31, 119, 180); fill-opacity: 1;\"/><path class=\"point\" transform=\"translate(56.33,50.65)\" d=\"M3,0A3,3 0 1,1 0,-3A3,3 0 0,1 3,0Z\" style=\"opacity: 1; stroke-width: 0px; fill: rgb(31, 119, 180); fill-opacity: 1;\"/><path class=\"point\" transform=\"translate(59.51,48.81)\" d=\"M3,0A3,3 0 1,1 0,-3A3,3 0 0,1 3,0Z\" style=\"opacity: 1; stroke-width: 0px; fill: rgb(31, 119, 180); fill-opacity: 1;\"/><path class=\"point\" transform=\"translate(65.88,40.81)\" d=\"M3,0A3,3 0 1,1 0,-3A3,3 0 0,1 3,0Z\" style=\"opacity: 1; stroke-width: 0px; fill: rgb(31, 119, 180); fill-opacity: 1;\"/><path class=\"point\" transform=\"translate(59.51,46.69)\" d=\"M3,0A3,3 0 1,1 0,-3A3,3 0 0,1 3,0Z\" style=\"opacity: 1; stroke-width: 0px; fill: rgb(31, 119, 180); fill-opacity: 1;\"/><path class=\"point\" transform=\"translate(81.81,21.87)\" d=\"M3,0A3,3 0 1,1 0,-3A3,3 0 0,1 3,0Z\" style=\"opacity: 1; stroke-width: 0px; fill: rgb(31, 119, 180); fill-opacity: 1;\"/><path class=\"point\" transform=\"translate(61.11,34.4)\" d=\"M3,0A3,3 0 1,1 0,-3A3,3 0 0,1 3,0Z\" style=\"opacity: 1; stroke-width: 0px; fill: rgb(31, 119, 180); fill-opacity: 1;\"/><path class=\"point\" transform=\"translate(81.01,34.08)\" d=\"M3,0A3,3 0 1,1 0,-3A3,3 0 0,1 3,0Z\" style=\"opacity: 1; stroke-width: 0px; fill: rgb(31, 119, 180); fill-opacity: 1;\"/><path class=\"point\" transform=\"translate(61.11,46.36)\" d=\"M3,0A3,3 0 1,1 0,-3A3,3 0 0,1 3,0Z\" style=\"opacity: 1; stroke-width: 0px; fill: rgb(31, 119, 180); fill-opacity: 1;\"/><path class=\"point\" transform=\"translate(28.46,68.34)\" d=\"M3,0A3,3 0 1,1 0,-3A3,3 0 0,1 3,0Z\" style=\"opacity: 1; stroke-width: 0px; fill: rgb(31, 119, 180); fill-opacity: 1;\"/><path class=\"point\" transform=\"translate(31.65,67.27)\" d=\"M3,0A3,3 0 1,1 0,-3A3,3 0 0,1 3,0Z\" style=\"opacity: 1; stroke-width: 0px; fill: rgb(31, 119, 180); fill-opacity: 1;\"/><path class=\"point\" transform=\"translate(30.85,69.73)\" d=\"M3,0A3,3 0 1,1 0,-3A3,3 0 0,1 3,0Z\" style=\"opacity: 1; stroke-width: 0px; fill: rgb(31, 119, 180); fill-opacity: 1;\"/><path class=\"point\" transform=\"translate(18.91,63.81)\" d=\"M3,0A3,3 0 1,1 0,-3A3,3 0 0,1 3,0Z\" style=\"opacity: 1; stroke-width: 0px; fill: rgb(31, 119, 180); fill-opacity: 1;\"/><path class=\"point\" transform=\"translate(49.16,56.2)\" d=\"M3,0A3,3 0 1,1 0,-3A3,3 0 0,1 3,0Z\" style=\"opacity: 1; stroke-width: 0px; fill: rgb(31, 119, 180); fill-opacity: 1;\"/><path class=\"point\" transform=\"translate(32.44,64.45)\" d=\"M3,0A3,3 0 1,1 0,-3A3,3 0 0,1 3,0Z\" style=\"opacity: 1; stroke-width: 0px; fill: rgb(31, 119, 180); fill-opacity: 1;\"/><path class=\"point\" transform=\"translate(47.57,55.97)\" d=\"M3,0A3,3 0 1,1 0,-3A3,3 0 0,1 3,0Z\" style=\"opacity: 1; stroke-width: 0px; fill: rgb(31, 119, 180); fill-opacity: 1;\"/><path class=\"point\" transform=\"translate(32.44,63.27)\" d=\"M3,0A3,3 0 1,1 0,-3A3,3 0 0,1 3,0Z\" style=\"opacity: 1; stroke-width: 0px; fill: rgb(31, 119, 180); fill-opacity: 1;\"/><path class=\"point\" transform=\"translate(77.03,43.25)\" d=\"M3,0A3,3 0 1,1 0,-3A3,3 0 0,1 3,0Z\" style=\"opacity: 1; stroke-width: 0px; fill: rgb(31, 119, 180); fill-opacity: 1;\"/><path class=\"point\" transform=\"translate(46.77,58.2)\" d=\"M3,0A3,3 0 1,1 0,-3A3,3 0 0,1 3,0Z\" style=\"opacity: 1; stroke-width: 0px; fill: rgb(31, 119, 180); fill-opacity: 1;\"/><path class=\"point\" transform=\"translate(32.44,64.28)\" d=\"M3,0A3,3 0 1,1 0,-3A3,3 0 0,1 3,0Z\" style=\"opacity: 1; stroke-width: 0px; fill: rgb(31, 119, 180); fill-opacity: 1;\"/><path class=\"point\" transform=\"translate(57.92,50.65)\" d=\"M3,0A3,3 0 1,1 0,-3A3,3 0 0,1 3,0Z\" style=\"opacity: 1; stroke-width: 0px; fill: rgb(31, 119, 180); fill-opacity: 1;\"/><path class=\"point\" transform=\"translate(91.36,34.08)\" d=\"M3,0A3,3 0 1,1 0,-3A3,3 0 0,1 3,0Z\" style=\"opacity: 1; stroke-width: 0px; fill: rgb(31, 119, 180); fill-opacity: 1;\"/><path class=\"point\" transform=\"translate(39.61,68.34)\" d=\"M3,0A3,3 0 1,1 0,-3A3,3 0 0,1 3,0Z\" style=\"opacity: 1; stroke-width: 0px; fill: rgb(31, 119, 180); fill-opacity: 1;\"/><path class=\"point\" transform=\"translate(21.3,63.81)\" d=\"M3,0A3,3 0 1,1 0,-3A3,3 0 0,1 3,0Z\" style=\"opacity: 1; stroke-width: 0px; fill: rgb(31, 119, 180); fill-opacity: 1;\"/></g><g class=\"text\"/></g></g></g><g class=\"overplot\"/><path class=\"xlines-above crisp\" d=\"M56,94.665H195.67\" style=\"fill: none; stroke-width: 1px; stroke: rgb(36, 36, 36); stroke-opacity: 1;\"/><path class=\"ylines-above crisp\" d=\"M56.5,10.00000000000002V94.165\" style=\"fill: none; stroke-width: 1px; stroke: rgb(36, 36, 36); stroke-opacity: 1;\"/><g class=\"overlines-above\"/><g class=\"xaxislayer-above\"><path class=\"x3tick ticks crisp\" d=\"M0,95.165v5\" transform=\"translate(82.28,0)\" style=\"stroke: rgb(68, 68, 68); stroke-opacity: 1; stroke-width: 1px;\"/><path class=\"x3tick ticks crisp\" d=\"M0,95.165v5\" transform=\"translate(122.09,0)\" style=\"stroke: rgb(68, 68, 68); stroke-opacity: 1; stroke-width: 1px;\"/><path class=\"x3tick ticks crisp\" d=\"M0,95.165v5\" transform=\"translate(161.9,0)\" style=\"stroke: rgb(68, 68, 68); stroke-opacity: 1; stroke-width: 1px;\"/></g><g class=\"yaxislayer-above\"><path class=\"y3tick ticks crisp\" d=\"M56,0h-5\" transform=\"translate(0,73.95000000000002)\" style=\"stroke: rgb(68, 68, 68); stroke-opacity: 1; stroke-width: 1px;\"/><path class=\"y3tick ticks crisp\" d=\"M56,0h-5\" transform=\"translate(0,51.48000000000002)\" style=\"stroke: rgb(68, 68, 68); stroke-opacity: 1; stroke-width: 1px;\"/><path class=\"y3tick ticks crisp\" d=\"M56,0h-5\" transform=\"translate(0,29.01000000000002)\" style=\"stroke: rgb(68, 68, 68); stroke-opacity: 1; stroke-width: 1px;\"/><g class=\"y3tick\"><text text-anchor=\"end\" x=\"48.6\" y=\"4.199999999999999\" transform=\"translate(0,73.95000000000002)\" style=\"font-family: 'Open Sans', verdana, arial, sans-serif; font-size: 12px; fill: rgb(36, 36, 36); fill-opacity: 1; white-space: pre; opacity: 1;\">10</text></g><g class=\"y3tick\"><text text-anchor=\"end\" x=\"48.6\" y=\"4.199999999999999\" style=\"font-family: 'Open Sans', verdana, arial, sans-serif; font-size: 12px; fill: rgb(36, 36, 36); fill-opacity: 1; white-space: pre; opacity: 1;\" transform=\"translate(0,51.48000000000002)\">20</text></g><g class=\"y3tick\"><text text-anchor=\"end\" x=\"48.6\" y=\"4.199999999999999\" style=\"font-family: 'Open Sans', verdana, arial, sans-serif; font-size: 12px; fill: rgb(36, 36, 36); fill-opacity: 1; white-space: pre; opacity: 1;\" transform=\"translate(0,29.01000000000002)\">30</text></g></g><g class=\"overaxes-above\"/></g><g class=\"subplot x4y4\"><g class=\"layer-subplot\"><g class=\"shapelayer\"/><g class=\"imagelayer\"/></g><g class=\"gridlayer\"><g class=\"x4\"><path class=\"x4grid crisp\" transform=\"translate(226.61,0)\" d=\"M0,10.00000000000002v84.16499999999999\" style=\"stroke: rgb(232, 232, 232); stroke-opacity: 1; stroke-width: 1px;\"/><path class=\"x4grid crisp\" transform=\"translate(266.42,0)\" d=\"M0,10.00000000000002v84.16499999999999\" style=\"stroke: rgb(232, 232, 232); stroke-opacity: 1; stroke-width: 1px;\"/><path class=\"x4grid crisp\" transform=\"translate(306.23,0)\" d=\"M0,10.00000000000002v84.16499999999999\" style=\"stroke: rgb(232, 232, 232); stroke-opacity: 1; stroke-width: 1px;\"/></g><g class=\"y4\"><path class=\"y4grid crisp\" transform=\"translate(0,73.95000000000002)\" d=\"M201.33,0h138.67\" style=\"stroke: rgb(232, 232, 232); stroke-opacity: 1; stroke-width: 1px;\"/><path class=\"y4grid crisp\" transform=\"translate(0,51.48000000000002)\" d=\"M201.33,0h138.67\" style=\"stroke: rgb(232, 232, 232); stroke-opacity: 1; stroke-width: 1px;\"/><path class=\"y4grid crisp\" transform=\"translate(0,29.01000000000002)\" d=\"M201.33,0h138.67\" style=\"stroke: rgb(232, 232, 232); stroke-opacity: 1; stroke-width: 1px;\"/></g></g><g class=\"zerolinelayer\"/><path class=\"xlines-below\"/><path class=\"ylines-below\"/><g class=\"overlines-below\"/><g class=\"xaxislayer-below\"/><g class=\"yaxislayer-below\"/><g class=\"overaxes-below\"/><g class=\"plot\" transform=\"translate(201.33,10.00000000000002)\" clip-path=\"url(#clipe3596ax4y4plot)\"><g class=\"scatterlayer mlayer\"><g class=\"trace scatter trace0bda12\" style=\"stroke-miterlimit: 2; opacity: 1;\"><g class=\"fills\"/><g class=\"errorbars\"/><g class=\"lines\"/><g class=\"points\"><path class=\"point\" transform=\"translate(49.36,53.19)\" d=\"M3,0A3,3 0 1,1 0,-3A3,3 0 0,1 3,0Z\" style=\"opacity: 1; stroke-width: 0px; fill: rgb(31, 119, 180); fill-opacity: 1;\"/><path class=\"point\" transform=\"translate(40.9,59.92)\" d=\"M3,0A3,3 0 1,1 0,-3A3,3 0 0,1 3,0Z\" style=\"opacity: 1; stroke-width: 0px; fill: rgb(31, 119, 180); fill-opacity: 1;\"/><path class=\"point\" transform=\"translate(30.29,68.68)\" d=\"M3,0A3,3 0 1,1 0,-3A3,3 0 0,1 3,0Z\" style=\"opacity: 1; stroke-width: 0px; fill: rgb(31, 119, 180); fill-opacity: 1;\"/><path class=\"point\" transform=\"translate(34.43,63.4)\" d=\"M3,0A3,3 0 1,1 0,-3A3,3 0 0,1 3,0Z\" style=\"opacity: 1; stroke-width: 0px; fill: rgb(31, 119, 180); fill-opacity: 1;\"/><path class=\"point\" transform=\"translate(36.16,61.25)\" d=\"M3,0A3,3 0 1,1 0,-3A3,3 0 0,1 3,0Z\" style=\"opacity: 1; stroke-width: 0px; fill: rgb(31, 119, 180); fill-opacity: 1;\"/><path class=\"point\" transform=\"translate(45.15,59.48)\" d=\"M3,0A3,3 0 1,1 0,-3A3,3 0 0,1 3,0Z\" style=\"opacity: 1; stroke-width: 0px; fill: rgb(31, 119, 180); fill-opacity: 1;\"/><path class=\"point\" transform=\"translate(53.67,40.61)\" d=\"M3,0A3,3 0 1,1 0,-3A3,3 0 0,1 3,0Z\" style=\"opacity: 1; stroke-width: 0px; fill: rgb(31, 119, 180); fill-opacity: 1;\"/><path class=\"point\" transform=\"translate(50.36,55.82)\" d=\"M3,0A3,3 0 1,1 0,-3A3,3 0 0,1 3,0Z\" style=\"opacity: 1; stroke-width: 0px; fill: rgb(31, 119, 180); fill-opacity: 1;\"/><path class=\"point\" transform=\"translate(48.86,57.01)\" d=\"M3,0A3,3 0 1,1 0,-3A3,3 0 0,1 3,0Z\" style=\"opacity: 1; stroke-width: 0px; fill: rgb(31, 119, 180); fill-opacity: 1;\"/><path class=\"point\" transform=\"translate(76.6,29.19)\" d=\"M3,0A3,3 0 1,1 0,-3A3,3 0 0,1 3,0Z\" style=\"opacity: 1; stroke-width: 0px; fill: rgb(31, 119, 180); fill-opacity: 1;\"/><path class=\"point\" transform=\"translate(36.36,53.73)\" d=\"M3,0A3,3 0 1,1 0,-3A3,3 0 0,1 3,0Z\" style=\"opacity: 1; stroke-width: 0px; fill: rgb(31, 119, 180); fill-opacity: 1;\"/><path class=\"point\" transform=\"translate(23.72,69.25)\" d=\"M3,0A3,3 0 1,1 0,-3A3,3 0 0,1 3,0Z\" style=\"opacity: 1; stroke-width: 0px; fill: rgb(31, 119, 180); fill-opacity: 1;\"/><path class=\"point\" transform=\"translate(98.53,25.88)\" d=\"M3,0A3,3 0 1,1 0,-3A3,3 0 0,1 3,0Z\" style=\"opacity: 1; stroke-width: 0px; fill: rgb(31, 119, 180); fill-opacity: 1;\"/><path class=\"point\" transform=\"translate(34.4,63.21)\" d=\"M3,0A3,3 0 1,1 0,-3A3,3 0 0,1 3,0Z\" style=\"opacity: 1; stroke-width: 0px; fill: rgb(31, 119, 180); fill-opacity: 1;\"/><path class=\"point\" transform=\"translate(82.77,38.42)\" d=\"M3,0A3,3 0 1,1 0,-3A3,3 0 0,1 3,0Z\" style=\"opacity: 1; stroke-width: 0px; fill: rgb(31, 119, 180); fill-opacity: 1;\"/><path class=\"point\" transform=\"translate(45.18,59.92)\" d=\"M3,0A3,3 0 1,1 0,-3A3,3 0 0,1 3,0Z\" style=\"opacity: 1; stroke-width: 0px; fill: rgb(31, 119, 180); fill-opacity: 1;\"/><path class=\"point\" transform=\"translate(23.68,68.68)\" d=\"M3,0A3,3 0 1,1 0,-3A3,3 0 0,1 3,0Z\" style=\"opacity: 1; stroke-width: 0px; fill: rgb(31, 119, 180); fill-opacity: 1;\"/><path class=\"point\" transform=\"translate(34.83,63.4)\" d=\"M3,0A3,3 0 1,1 0,-3A3,3 0 0,1 3,0Z\" style=\"opacity: 1; stroke-width: 0px; fill: rgb(31, 119, 180); fill-opacity: 1;\"/><path class=\"point\" transform=\"translate(28.46,61.25)\" d=\"M3,0A3,3 0 1,1 0,-3A3,3 0 0,1 3,0Z\" style=\"opacity: 1; stroke-width: 0px; fill: rgb(31, 119, 180); fill-opacity: 1;\"/><path class=\"point\" transform=\"translate(38.81,59.48)\" d=\"M3,0A3,3 0 1,1 0,-3A3,3 0 0,1 3,0Z\" style=\"opacity: 1; stroke-width: 0px; fill: rgb(31, 119, 180); fill-opacity: 1;\"/><path class=\"point\" transform=\"translate(58.72,40.61)\" d=\"M3,0A3,3 0 1,1 0,-3A3,3 0 0,1 3,0Z\" style=\"opacity: 1; stroke-width: 0px; fill: rgb(31, 119, 180); fill-opacity: 1;\"/><path class=\"point\" transform=\"translate(40.4,55.82)\" d=\"M3,0A3,3 0 1,1 0,-3A3,3 0 0,1 3,0Z\" style=\"opacity: 1; stroke-width: 0px; fill: rgb(31, 119, 180); fill-opacity: 1;\"/><path class=\"point\" transform=\"translate(39.61,57.01)\" d=\"M3,0A3,3 0 1,1 0,-3A3,3 0 0,1 3,0Z\" style=\"opacity: 1; stroke-width: 0px; fill: rgb(31, 119, 180); fill-opacity: 1;\"/><path class=\"point\" transform=\"translate(80.21,29.19)\" d=\"M3,0A3,3 0 1,1 0,-3A3,3 0 0,1 3,0Z\" style=\"opacity: 1; stroke-width: 0px; fill: rgb(31, 119, 180); fill-opacity: 1;\"/><path class=\"point\" transform=\"translate(25.28,53.73)\" d=\"M3,0A3,3 0 1,1 0,-3A3,3 0 0,1 3,0Z\" style=\"opacity: 1; stroke-width: 0px; fill: rgb(31, 119, 180); fill-opacity: 1;\"/><path class=\"point\" transform=\"translate(10.15,69.25)\" d=\"M3,0A3,3 0 1,1 0,-3A3,3 0 0,1 3,0Z\" style=\"opacity: 1; stroke-width: 0px; fill: rgb(31, 119, 180); fill-opacity: 1;\"/><path class=\"point\" transform=\"translate(25.28,68.68)\" d=\"M3,0A3,3 0 1,1 0,-3A3,3 0 0,1 3,0Z\" style=\"opacity: 1; stroke-width: 0px; fill: rgb(31, 119, 180); fill-opacity: 1;\"/><path class=\"point\" transform=\"translate(64.29,40.61)\" d=\"M3,0A3,3 0 1,1 0,-3A3,3 0 0,1 3,0Z\" style=\"opacity: 1; stroke-width: 0px; fill: rgb(31, 119, 180); fill-opacity: 1;\"/><path class=\"point\" transform=\"translate(45.18,55.82)\" d=\"M3,0A3,3 0 1,1 0,-3A3,3 0 0,1 3,0Z\" style=\"opacity: 1; stroke-width: 0px; fill: rgb(31, 119, 180); fill-opacity: 1;\"/><path class=\"point\" transform=\"translate(26.87,53.73)\" d=\"M3,0A3,3 0 1,1 0,-3A3,3 0 0,1 3,0Z\" style=\"opacity: 1; stroke-width: 0px; fill: rgb(31, 119, 180); fill-opacity: 1;\"/></g><g class=\"text\"/></g></g></g><g class=\"overplot\"/><path class=\"xlines-above crisp\" d=\"M200.33,94.665H340\" style=\"fill: none; stroke-width: 1px; stroke: rgb(36, 36, 36); stroke-opacity: 1;\"/><path class=\"ylines-above crisp\" d=\"M200.83,10.00000000000002V94.165\" style=\"fill: none; stroke-width: 1px; stroke: rgb(36, 36, 36); stroke-opacity: 1;\"/><g class=\"overlines-above\"/><g class=\"xaxislayer-above\"><path class=\"x4tick ticks crisp\" d=\"M0,95.165v5\" transform=\"translate(226.61,0)\" style=\"stroke: rgb(68, 68, 68); stroke-opacity: 1; stroke-width: 1px;\"/><path class=\"x4tick ticks crisp\" d=\"M0,95.165v5\" transform=\"translate(266.42,0)\" style=\"stroke: rgb(68, 68, 68); stroke-opacity: 1; stroke-width: 1px;\"/><path class=\"x4tick ticks crisp\" d=\"M0,95.165v5\" transform=\"translate(306.23,0)\" style=\"stroke: rgb(68, 68, 68); stroke-opacity: 1; stroke-width: 1px;\"/></g><g class=\"yaxislayer-above\"><path class=\"y4tick ticks crisp\" d=\"M200.33,0h-5\" transform=\"translate(0,73.95000000000002)\" style=\"stroke: rgb(68, 68, 68); stroke-opacity: 1; stroke-width: 1px;\"/><path class=\"y4tick ticks crisp\" d=\"M200.33,0h-5\" transform=\"translate(0,51.48000000000002)\" style=\"stroke: rgb(68, 68, 68); stroke-opacity: 1; stroke-width: 1px;\"/><path class=\"y4tick ticks crisp\" d=\"M200.33,0h-5\" transform=\"translate(0,29.01000000000002)\" style=\"stroke: rgb(68, 68, 68); stroke-opacity: 1; stroke-width: 1px;\"/></g><g class=\"overaxes-above\"/></g></g><g class=\"polarlayer\"/><g class=\"smithlayer\"/><g class=\"ternarylayer\"/><g class=\"geolayer\"/><g class=\"funnelarealayer\"/><g class=\"pielayer\"/><g class=\"iciclelayer\"/><g class=\"treemaplayer\"/><g class=\"sunburstlayer\"/><g class=\"glimages\"/><defs id=\"topdefs-e3596a\"><g class=\"clips\"/></defs><g class=\"layer-above\"><g class=\"imagelayer\"/><g class=\"shapelayer\"/></g><g class=\"infolayer\"><g class=\"g-gtitle\"/><g class=\"g-xtitle\"><text class=\"xtitle\" x=\"126.335\" y=\"239.70625\" text-anchor=\"middle\" style=\"font-family: 'Open Sans', verdana, arial, sans-serif; font-size: 14px; fill: rgb(36, 36, 36); opacity: 1; font-weight: normal; white-space: pre;\">EPA</text></g><g class=\"g-x2title\"><text class=\"x2title\" x=\"270.665\" y=\"239.70625\" text-anchor=\"middle\" style=\"font-family: 'Open Sans', verdana, arial, sans-serif; font-size: 14px; fill: rgb(36, 36, 36); opacity: 1; font-weight: normal; white-space: pre;\">EPA</text></g><g class=\"g-x3title\"/><g class=\"g-x4title\"/><g class=\"g-ytitle\" transform=\"translate(4.9365234375,0)\"><text class=\"ytitle\" transform=\"rotate(-90,10.075000000000003,148.91750000000002)\" x=\"10.075000000000003\" y=\"148.91750000000002\" text-anchor=\"middle\" style=\"font-family: 'Open Sans', verdana, arial, sans-serif; font-size: 14px; fill: rgb(36, 36, 36); opacity: 1; font-weight: normal; white-space: pre;\">PurpleAir</text></g><g class=\"g-y2title\"/><g class=\"g-y3title\" transform=\"translate(4.9296875,0)\"><text class=\"y3title\" transform=\"rotate(-90,10.075000000000003,52.08250000000002)\" x=\"10.075000000000003\" y=\"52.08250000000002\" text-anchor=\"middle\" style=\"font-family: 'Open Sans', verdana, arial, sans-serif; font-size: 14px; fill: rgb(36, 36, 36); opacity: 1; font-weight: normal; white-space: pre;\">PurpleAir</text></g><g class=\"g-y4title\"/><g class=\"annotation\" data-index=\"0\" style=\"opacity: 1;\"><g class=\"annotation-text-g\" transform=\"rotate(0,126.335,96.33500000000001)\"><g class=\"cursor-pointer\" transform=\"translate(81,86)\"><rect class=\"bg\" x=\"0.5\" y=\"0.5\" width=\"90\" height=\"20\" style=\"stroke-width: 1px; stroke: rgb(0, 0, 0); stroke-opacity: 0; fill: rgb(0, 0, 0); fill-opacity: 0;\"/><text class=\"annotation-text\" text-anchor=\"middle\" x=\"45.484375\" y=\"15\" style=\"font-family: 'Open Sans', verdana, arial, sans-serif; font-size: 12px; fill: rgb(36, 36, 36); fill-opacity: 1; white-space: pre;\">facet_col=50-55</text></g></g></g><g class=\"annotation\" data-index=\"1\" style=\"opacity: 1;\"><g class=\"annotation-text-g\" transform=\"rotate(0,270.66499999999996,96.33500000000001)\"><g class=\"cursor-pointer\" transform=\"translate(231,86)\"><rect class=\"bg\" x=\"0.5\" y=\"0.5\" width=\"79\" height=\"20\" style=\"stroke-width: 1px; stroke: rgb(0, 0, 0); stroke-opacity: 0; fill: rgb(0, 0, 0); fill-opacity: 0;\"/><text class=\"annotation-text\" text-anchor=\"middle\" x=\"40.125\" y=\"15\" style=\"font-family: 'Open Sans', verdana, arial, sans-serif; font-size: 12px; fill: rgb(36, 36, 36); fill-opacity: 1; white-space: pre;\">facet_col=&#60;50</text></g></g></g><g class=\"annotation\" data-index=\"2\" style=\"opacity: 1;\"><g class=\"annotation-text-g\" transform=\"rotate(0,126.335,-0.499999999999984)\"><g class=\"cursor-pointer\" transform=\"translate(81,-11)\"><rect class=\"bg\" x=\"0.5\" y=\"0.5\" width=\"90\" height=\"20\" style=\"stroke-width: 1px; stroke: rgb(0, 0, 0); stroke-opacity: 0; fill: rgb(0, 0, 0); fill-opacity: 0;\"/><text class=\"annotation-text\" text-anchor=\"middle\" x=\"45.484375\" y=\"15\" style=\"font-family: 'Open Sans', verdana, arial, sans-serif; font-size: 12px; fill: rgb(36, 36, 36); fill-opacity: 1; white-space: pre;\">facet_col=55-60</text></g></g></g><g class=\"annotation\" data-index=\"3\" style=\"opacity: 1;\"><g class=\"annotation-text-g\" transform=\"rotate(0,270.66499999999996,-0.49999999999998224)\"><g class=\"cursor-pointer\" transform=\"translate(231,-11)\"><rect class=\"bg\" x=\"0.5\" y=\"0.5\" width=\"79\" height=\"20\" style=\"stroke-width: 1px; stroke: rgb(0, 0, 0); stroke-opacity: 0; fill: rgb(0, 0, 0); fill-opacity: 0;\"/><text class=\"annotation-text\" text-anchor=\"middle\" x=\"40.125\" y=\"15\" style=\"font-family: 'Open Sans', verdana, arial, sans-serif; font-size: 12px; fill: rgb(36, 36, 36); fill-opacity: 1; white-space: pre;\">facet_col=>60</text></g></g></g></g></svg>"
      ]
     },
     "metadata": {},
     "output_type": "display_data"
    }
   ],
   "source": [
    "fig = px.scatter(x=GA['pm25aqs'], y=GA['pm25pa'], \n",
    "                 facet_col=rh_cat, facet_col_wrap=2,\n",
    "                labels={\n",
    "                     \"y\": \"PurpleAir\",\n",
    "                     \"x\": \"EPA\"},)\n",
    "fig"
   ]
  },
  {
   "cell_type": "markdown",
   "metadata": {},
   "source": [
    "These four plots show a roughly linear relationship between the two sources of air quality measurements. And, the slopes appear to be similar. It's difficult to see if the relative humidity affects the intercept much. \n",
    "\n",
    "We also want to examine the pairwise scatter plots between the three features. When we consider linear relationships in multiple regression settings, these relationships may not be uncovered in pairwise plots, but we still need to check them.  "
   ]
  },
  {
   "cell_type": "code",
   "execution_count": 5,
   "metadata": {},
   "outputs": [
    {
     "data": {
      "application/vnd.plotly.v1+json": {
       "config": {
        "plotlyServerURL": "https://plot.ly"
       },
       "data": [
        {
         "diagonal": {
          "visible": false
         },
         "dimensions": [
          {
           "axis": {
            "matches": true
           },
           "label": "pm25pa",
           "values": [
            16.189375,
            13.5925486111111,
            10.3005709238043,
            14.7903058742853,
            17.5458402777778,
            22.3404027777778,
            14.5682766385455,
            19.2110265363129,
            21.6665694444444,
            25.6766180555556,
            25.0813977746871,
            11.3800432917262,
            15.4784444444444,
            18.0511111111111,
            19.4304166666667,
            12.5601805555556,
            7.9386875,
            7.53994444444444,
            11.7940416666667,
            7.89279861111111,
            10.2429930555556,
            11.2007361111111,
            9.85393305439331,
            9.99670833333333,
            11.6666944444444,
            15.917875,
            16.7362361111111,
            15.1454861111111,
            29.1896527777778,
            27.2041041666667,
            20.2967430555556,
            17.6836180555556,
            20.7385694444444,
            22.4718680555556,
            20.6703203342618,
            8.64885416666667,
            10.8636319444444,
            10.4440833333333,
            9.15297222222222,
            11.8642222222222,
            14.5964812239221,
            17.2498194444444,
            19.6090347222222,
            28.7283101529903,
            23.1521736111111,
            23.2944652777778,
            31.2008680555556,
            34.2497529693147,
            34.9209166666667,
            23.6401180555556,
            17.830875,
            8.04743055555556,
            8.51965972222222,
            7.42860416666667,
            10.0599235048679,
            11.9909027777778,
            13.4507293598362,
            13.4541805555556,
            9.77823119777159,
            20.3900555555556,
            6.38982638888889,
            12.9443611111111,
            13.6182847222222,
            7.56710416666667,
            4.54415972222222,
            13.5492569444444,
            13.0892230794421,
            25.4701458333333,
            14.5480216736208,
            7.63855354659249,
            12.0913333333333,
            18.2288550724638,
            12.3139733333333,
            14.8651736111111,
            18.7000486111111,
            24.6267385257302,
            26.9433888888889,
            13.0367696629213,
            13.5520694444444,
            23.3369027777778,
            25.8159791666667,
            10.3297708333333,
            8.49286111111111,
            16.6307152777778,
            21.3630528511822,
            19.8465763888889,
            13.103125,
            18.6737222222222,
            22.3404027777778,
            14.5682766385455,
            19.2110265363129,
            21.6665694444444,
            25.6766180555556,
            25.0813977746871,
            11.3800432917262,
            15.4784444444444,
            18.0511111111111,
            19.4304166666667,
            12.5601805555556,
            7.9386875,
            7.53994444444444,
            11.7940416666667,
            7.89279861111111,
            10.2429930555556,
            11.2007361111111,
            9.85393305439331,
            9.99670833333333,
            11.6666944444444,
            15.917875,
            16.7362361111111,
            15.1454861111111,
            29.1896527777778,
            27.2041041666667,
            20.2967430555556,
            17.6836180555556,
            20.7385694444444,
            22.4718680555556,
            20.6703203342618,
            8.64885416666667,
            10.8636319444444,
            10.4440833333333,
            9.15297222222222,
            11.8642222222222,
            14.5964812239221,
            17.2498194444444,
            19.6090347222222,
            28.7283101529903,
            23.1521736111111,
            23.2944652777778,
            31.2008680555556,
            34.2497529693147,
            34.9209166666667,
            23.6401180555556,
            17.830875,
            8.04743055555556,
            8.51965972222222,
            7.42860416666667,
            10.0599235048679,
            11.9909027777778,
            13.4507293598362,
            13.4541805555556,
            9.77823119777159,
            20.3900555555556,
            6.38982638888889,
            12.9443611111111,
            13.6182847222222,
            7.56710416666667,
            4.54415972222222,
            13.5492569444444,
            13.0892230794421,
            25.4701458333333,
            14.5480216736208,
            7.63855354659249,
            10.3005709238043,
            22.3404027777778,
            19.2110265363129,
            25.0813977746871,
            15.4784444444444,
            12.5601805555556,
            7.89279861111111,
            9.85393305439331,
            15.917875,
            29.1896527777778,
            20.6703203342618,
            10.4440833333333,
            9.15297222222222,
            19.6090347222222,
            23.2944652777778,
            34.9209166666667,
            8.04743055555556,
            10.0599235048679,
            13.4541805555556,
            20.3900555555556,
            12.9443611111111,
            13.6182847222222,
            14.5480216736208
           ]
          },
          {
           "axis": {
            "matches": true
           },
           "label": "pm25aqs",
           "values": [
            8.645833,
            7.704167,
            6.3,
            8.025,
            9.441667,
            11.745833,
            8.9125,
            9.754167,
            11.020833,
            11.679167,
            11.808333,
            6.686957,
            8.604167,
            10.125,
            10.395833,
            7.478261,
            5.433333,
            5.504167,
            6.9625,
            5.629167,
            6.15,
            6.366667,
            7.278261,
            6.975,
            7.833333,
            9.533333,
            9.759091,
            8.8875,
            15.454167,
            14.845833,
            10.4,
            9.854167,
            11.454167,
            12.783333,
            11.520833,
            6.85,
            7.929167,
            7.866667,
            7.408333,
            8.579167,
            9.4875,
            10.475,
            11.275,
            13.995833,
            11.733333,
            12.83913,
            15.779167,
            16.995833,
            17.625,
            13.658333,
            10.782609,
            7.65,
            7.133333,
            5.741667,
            6,
            7.495833,
            8.295833,
            8.866667,
            6.3,
            8.566667,
            5.0375,
            6.804167,
            8.15,
            5.479167,
            4.304167,
            7.725,
            7.9625,
            11.445833,
            6.391667,
            4.804167,
            7.2,
            10.708333,
            7.2875,
            9.516667,
            10.833333,
            13.870833,
            14.2,
            8.156522,
            9.345833,
            13.5125,
            13.9375,
            6.145833,
            6.295833,
            10.826087,
            12.220833,
            10.854167,
            8.979167,
            9.854167,
            11.2,
            8.5,
            11,
            11.5,
            12.9,
            12.5,
            7,
            9.5,
            10.4,
            10.4,
            7.9,
            5.1,
            6.5,
            7.5,
            4.8,
            6.2,
            5.4,
            5.9,
            6.6,
            7.2,
            8.9,
            9.3,
            8.3,
            14.7,
            14.2,
            10.1,
            9.3,
            12.1,
            13.1,
            11.4,
            6.9,
            7.6,
            7.8,
            7.1,
            9.3,
            8.5,
            10,
            10.1,
            12.1,
            9.5,
            12,
            13.5,
            15.8,
            16.3,
            12.2,
            9.5,
            5.4,
            5.8,
            5.7,
            4.2,
            6.7,
            8,
            8.6,
            5.9,
            9.2,
            4.2,
            6.3,
            6.9,
            4.4,
            4.3,
            7.8,
            6.8,
            11.9,
            5,
            3.1,
            5.9,
            11.3,
            11.5,
            12.3,
            9.5,
            7.7,
            5,
            5.9,
            9.1,
            14.7,
            11.9,
            8.1,
            7.8,
            11.4,
            13.3,
            17.9,
            6.8,
            4.5,
            8.9,
            9.9,
            6.3,
            7.5,
            5.2
           ]
          },
          {
           "axis": {
            "matches": true
           },
           "label": "rh",
           "values": [
            59.5972222222222,
            56.4555555555556,
            59.0850767085077,
            62.1098748261474,
            57.2666666666667,
            53.7638888888889,
            51.2572298325723,
            58.7765363128492,
            56.8208333333333,
            55.0944444444444,
            52.7816411682893,
            55.9106317411402,
            49.9222222222222,
            50.1430555555556,
            52.2222222222222,
            56.5944444444444,
            53.2166666666667,
            54.2902777777778,
            62.1875,
            62.3041666666667,
            64.5458333333333,
            67.5361111111111,
            55.0962343096234,
            49.6986111111111,
            51.4472222222222,
            55.2611111111111,
            57.7972222222222,
            53.6111111111111,
            51.2388888888889,
            53.5194444444444,
            57.8472222222222,
            56.3041666666667,
            51.5694444444444,
            48.9152777777778,
            53.6183844011142,
            43.5680555555556,
            45.8680555555556,
            49.9222222222222,
            50.8625,
            49.8805555555556,
            50.5229485396384,
            51.0111111111111,
            49.9194444444444,
            56.0611961057024,
            58.5625,
            55.0986111111111,
            54.5152777777778,
            53.7969401947149,
            51.2541666666667,
            48.3638888888889,
            56.5569444444444,
            58.5736111111111,
            57.6027777777778,
            57.0902777777778,
            57.6968011126565,
            60.2375,
            55.3616133518776,
            52.2083333333333,
            55.2228412256267,
            67.825,
            49.3777777777778,
            54.2916666666667,
            63.9388888888889,
            54.0527777777778,
            50.8611111111111,
            57.2472222222222,
            62.8543689320388,
            67.3763888888889,
            76.9694019471488,
            70.4436717663421,
            52.9111111111111,
            53.5492753623188,
            53.964,
            55.2694444444444,
            56.4625,
            58.3699582753825,
            64.1097222222222,
            58.3932584269663,
            54.2333333333333,
            56.4222222222222,
            56.9847222222222,
            60.1041666666667,
            44.4388888888889,
            48.7541666666667,
            70.105702364395,
            51.4,
            50.3527777777778,
            49.5055555555556,
            53.7638888888889,
            51.2572298325723,
            58.7765363128492,
            56.8208333333333,
            55.0944444444444,
            52.7816411682893,
            55.9106317411402,
            49.9222222222222,
            50.1430555555556,
            52.2222222222222,
            56.5944444444444,
            53.2166666666667,
            54.2902777777778,
            62.1875,
            62.3041666666667,
            64.5458333333333,
            67.5361111111111,
            55.0962343096234,
            49.6986111111111,
            51.4472222222222,
            55.2611111111111,
            57.7972222222222,
            53.6111111111111,
            51.2388888888889,
            53.5194444444444,
            57.8472222222222,
            56.3041666666667,
            51.5694444444444,
            48.9152777777778,
            53.6183844011142,
            43.5680555555556,
            45.8680555555556,
            49.9222222222222,
            50.8625,
            49.8805555555556,
            50.5229485396384,
            51.0111111111111,
            49.9194444444444,
            56.0611961057024,
            58.5625,
            55.0986111111111,
            54.5152777777778,
            53.7969401947149,
            51.2541666666667,
            48.3638888888889,
            56.5569444444444,
            58.5736111111111,
            57.6027777777778,
            57.0902777777778,
            57.6968011126565,
            60.2375,
            55.3616133518776,
            52.2083333333333,
            55.2228412256267,
            67.825,
            49.3777777777778,
            54.2916666666667,
            63.9388888888889,
            54.0527777777778,
            50.8611111111111,
            57.2472222222222,
            62.8543689320388,
            67.3763888888889,
            76.9694019471488,
            70.4436717663421,
            59.0850767085077,
            53.7638888888889,
            58.7765363128492,
            52.7816411682893,
            49.9222222222222,
            56.5944444444444,
            62.3041666666667,
            55.0962343096234,
            55.2611111111111,
            51.2388888888889,
            53.6183844011142,
            49.9222222222222,
            50.8625,
            49.9194444444444,
            55.0986111111111,
            51.2541666666667,
            58.5736111111111,
            57.6968011126565,
            52.2083333333333,
            67.825,
            54.2916666666667,
            63.9388888888889,
            76.9694019471488
           ]
          }
         ],
         "hovertemplate": "%{xaxis.title.text}=%{x}<br>%{yaxis.title.text}=%{y}<extra></extra>",
         "legendgroup": "",
         "marker": {
          "color": "#1F77B4",
          "symbol": "circle"
         },
         "name": "",
         "showlegend": false,
         "type": "splom"
        }
       ],
       "layout": {
        "dragmode": "select",
        "height": 350,
        "legend": {
         "tracegroupgap": 0
        },
        "template": {
         "data": {
          "bar": [
           {
            "error_x": {
             "color": "rgb(36,36,36)"
            },
            "error_y": {
             "color": "rgb(36,36,36)"
            },
            "marker": {
             "line": {
              "color": "white",
              "width": 0.5
             },
             "pattern": {
              "fillmode": "overlay",
              "size": 10,
              "solidity": 0.2
             }
            },
            "type": "bar"
           }
          ],
          "barpolar": [
           {
            "marker": {
             "line": {
              "color": "white",
              "width": 0.5
             },
             "pattern": {
              "fillmode": "overlay",
              "size": 10,
              "solidity": 0.2
             }
            },
            "type": "barpolar"
           }
          ],
          "carpet": [
           {
            "aaxis": {
             "endlinecolor": "rgb(36,36,36)",
             "gridcolor": "white",
             "linecolor": "white",
             "minorgridcolor": "white",
             "startlinecolor": "rgb(36,36,36)"
            },
            "baxis": {
             "endlinecolor": "rgb(36,36,36)",
             "gridcolor": "white",
             "linecolor": "white",
             "minorgridcolor": "white",
             "startlinecolor": "rgb(36,36,36)"
            },
            "type": "carpet"
           }
          ],
          "choropleth": [
           {
            "colorbar": {
             "outlinewidth": 1,
             "tickcolor": "rgb(36,36,36)",
             "ticks": "outside"
            },
            "type": "choropleth"
           }
          ],
          "contour": [
           {
            "colorbar": {
             "outlinewidth": 1,
             "tickcolor": "rgb(36,36,36)",
             "ticks": "outside"
            },
            "colorscale": [
             [
              0,
              "#440154"
             ],
             [
              0.1111111111111111,
              "#482878"
             ],
             [
              0.2222222222222222,
              "#3e4989"
             ],
             [
              0.3333333333333333,
              "#31688e"
             ],
             [
              0.4444444444444444,
              "#26828e"
             ],
             [
              0.5555555555555556,
              "#1f9e89"
             ],
             [
              0.6666666666666666,
              "#35b779"
             ],
             [
              0.7777777777777778,
              "#6ece58"
             ],
             [
              0.8888888888888888,
              "#b5de2b"
             ],
             [
              1,
              "#fde725"
             ]
            ],
            "type": "contour"
           }
          ],
          "contourcarpet": [
           {
            "colorbar": {
             "outlinewidth": 1,
             "tickcolor": "rgb(36,36,36)",
             "ticks": "outside"
            },
            "type": "contourcarpet"
           }
          ],
          "heatmap": [
           {
            "colorbar": {
             "outlinewidth": 1,
             "tickcolor": "rgb(36,36,36)",
             "ticks": "outside"
            },
            "colorscale": [
             [
              0,
              "#440154"
             ],
             [
              0.1111111111111111,
              "#482878"
             ],
             [
              0.2222222222222222,
              "#3e4989"
             ],
             [
              0.3333333333333333,
              "#31688e"
             ],
             [
              0.4444444444444444,
              "#26828e"
             ],
             [
              0.5555555555555556,
              "#1f9e89"
             ],
             [
              0.6666666666666666,
              "#35b779"
             ],
             [
              0.7777777777777778,
              "#6ece58"
             ],
             [
              0.8888888888888888,
              "#b5de2b"
             ],
             [
              1,
              "#fde725"
             ]
            ],
            "type": "heatmap"
           }
          ],
          "heatmapgl": [
           {
            "colorbar": {
             "outlinewidth": 1,
             "tickcolor": "rgb(36,36,36)",
             "ticks": "outside"
            },
            "colorscale": [
             [
              0,
              "#440154"
             ],
             [
              0.1111111111111111,
              "#482878"
             ],
             [
              0.2222222222222222,
              "#3e4989"
             ],
             [
              0.3333333333333333,
              "#31688e"
             ],
             [
              0.4444444444444444,
              "#26828e"
             ],
             [
              0.5555555555555556,
              "#1f9e89"
             ],
             [
              0.6666666666666666,
              "#35b779"
             ],
             [
              0.7777777777777778,
              "#6ece58"
             ],
             [
              0.8888888888888888,
              "#b5de2b"
             ],
             [
              1,
              "#fde725"
             ]
            ],
            "type": "heatmapgl"
           }
          ],
          "histogram": [
           {
            "marker": {
             "line": {
              "color": "white",
              "width": 0.6
             }
            },
            "type": "histogram"
           }
          ],
          "histogram2d": [
           {
            "colorbar": {
             "outlinewidth": 1,
             "tickcolor": "rgb(36,36,36)",
             "ticks": "outside"
            },
            "colorscale": [
             [
              0,
              "#440154"
             ],
             [
              0.1111111111111111,
              "#482878"
             ],
             [
              0.2222222222222222,
              "#3e4989"
             ],
             [
              0.3333333333333333,
              "#31688e"
             ],
             [
              0.4444444444444444,
              "#26828e"
             ],
             [
              0.5555555555555556,
              "#1f9e89"
             ],
             [
              0.6666666666666666,
              "#35b779"
             ],
             [
              0.7777777777777778,
              "#6ece58"
             ],
             [
              0.8888888888888888,
              "#b5de2b"
             ],
             [
              1,
              "#fde725"
             ]
            ],
            "type": "histogram2d"
           }
          ],
          "histogram2dcontour": [
           {
            "colorbar": {
             "outlinewidth": 1,
             "tickcolor": "rgb(36,36,36)",
             "ticks": "outside"
            },
            "colorscale": [
             [
              0,
              "#440154"
             ],
             [
              0.1111111111111111,
              "#482878"
             ],
             [
              0.2222222222222222,
              "#3e4989"
             ],
             [
              0.3333333333333333,
              "#31688e"
             ],
             [
              0.4444444444444444,
              "#26828e"
             ],
             [
              0.5555555555555556,
              "#1f9e89"
             ],
             [
              0.6666666666666666,
              "#35b779"
             ],
             [
              0.7777777777777778,
              "#6ece58"
             ],
             [
              0.8888888888888888,
              "#b5de2b"
             ],
             [
              1,
              "#fde725"
             ]
            ],
            "type": "histogram2dcontour"
           }
          ],
          "mesh3d": [
           {
            "colorbar": {
             "outlinewidth": 1,
             "tickcolor": "rgb(36,36,36)",
             "ticks": "outside"
            },
            "type": "mesh3d"
           }
          ],
          "parcoords": [
           {
            "line": {
             "colorbar": {
              "outlinewidth": 1,
              "tickcolor": "rgb(36,36,36)",
              "ticks": "outside"
             }
            },
            "type": "parcoords"
           }
          ],
          "pie": [
           {
            "automargin": true,
            "type": "pie"
           }
          ],
          "scatter": [
           {
            "marker": {
             "colorbar": {
              "outlinewidth": 1,
              "tickcolor": "rgb(36,36,36)",
              "ticks": "outside"
             }
            },
            "type": "scatter"
           }
          ],
          "scatter3d": [
           {
            "line": {
             "colorbar": {
              "outlinewidth": 1,
              "tickcolor": "rgb(36,36,36)",
              "ticks": "outside"
             }
            },
            "marker": {
             "colorbar": {
              "outlinewidth": 1,
              "tickcolor": "rgb(36,36,36)",
              "ticks": "outside"
             }
            },
            "type": "scatter3d"
           }
          ],
          "scattercarpet": [
           {
            "marker": {
             "colorbar": {
              "outlinewidth": 1,
              "tickcolor": "rgb(36,36,36)",
              "ticks": "outside"
             }
            },
            "type": "scattercarpet"
           }
          ],
          "scattergeo": [
           {
            "marker": {
             "colorbar": {
              "outlinewidth": 1,
              "tickcolor": "rgb(36,36,36)",
              "ticks": "outside"
             }
            },
            "type": "scattergeo"
           }
          ],
          "scattergl": [
           {
            "marker": {
             "colorbar": {
              "outlinewidth": 1,
              "tickcolor": "rgb(36,36,36)",
              "ticks": "outside"
             }
            },
            "type": "scattergl"
           }
          ],
          "scattermapbox": [
           {
            "marker": {
             "colorbar": {
              "outlinewidth": 1,
              "tickcolor": "rgb(36,36,36)",
              "ticks": "outside"
             }
            },
            "type": "scattermapbox"
           }
          ],
          "scatterpolar": [
           {
            "marker": {
             "colorbar": {
              "outlinewidth": 1,
              "tickcolor": "rgb(36,36,36)",
              "ticks": "outside"
             }
            },
            "type": "scatterpolar"
           }
          ],
          "scatterpolargl": [
           {
            "marker": {
             "colorbar": {
              "outlinewidth": 1,
              "tickcolor": "rgb(36,36,36)",
              "ticks": "outside"
             }
            },
            "type": "scatterpolargl"
           }
          ],
          "scatterternary": [
           {
            "marker": {
             "colorbar": {
              "outlinewidth": 1,
              "tickcolor": "rgb(36,36,36)",
              "ticks": "outside"
             }
            },
            "type": "scatterternary"
           }
          ],
          "surface": [
           {
            "colorbar": {
             "outlinewidth": 1,
             "tickcolor": "rgb(36,36,36)",
             "ticks": "outside"
            },
            "colorscale": [
             [
              0,
              "#440154"
             ],
             [
              0.1111111111111111,
              "#482878"
             ],
             [
              0.2222222222222222,
              "#3e4989"
             ],
             [
              0.3333333333333333,
              "#31688e"
             ],
             [
              0.4444444444444444,
              "#26828e"
             ],
             [
              0.5555555555555556,
              "#1f9e89"
             ],
             [
              0.6666666666666666,
              "#35b779"
             ],
             [
              0.7777777777777778,
              "#6ece58"
             ],
             [
              0.8888888888888888,
              "#b5de2b"
             ],
             [
              1,
              "#fde725"
             ]
            ],
            "type": "surface"
           }
          ],
          "table": [
           {
            "cells": {
             "fill": {
              "color": "rgb(237,237,237)"
             },
             "line": {
              "color": "white"
             }
            },
            "header": {
             "fill": {
              "color": "rgb(217,217,217)"
             },
             "line": {
              "color": "white"
             }
            },
            "type": "table"
           }
          ]
         },
         "layout": {
          "annotationdefaults": {
           "arrowhead": 0,
           "arrowwidth": 1
          },
          "autosize": true,
          "autotypenumbers": "strict",
          "coloraxis": {
           "colorbar": {
            "outlinewidth": 1,
            "tickcolor": "rgb(36,36,36)",
            "ticks": "outside"
           }
          },
          "colorscale": {
           "diverging": [
            [
             0,
             "rgb(103,0,31)"
            ],
            [
             0.1,
             "rgb(178,24,43)"
            ],
            [
             0.2,
             "rgb(214,96,77)"
            ],
            [
             0.3,
             "rgb(244,165,130)"
            ],
            [
             0.4,
             "rgb(253,219,199)"
            ],
            [
             0.5,
             "rgb(247,247,247)"
            ],
            [
             0.6,
             "rgb(209,229,240)"
            ],
            [
             0.7,
             "rgb(146,197,222)"
            ],
            [
             0.8,
             "rgb(67,147,195)"
            ],
            [
             0.9,
             "rgb(33,102,172)"
            ],
            [
             1,
             "rgb(5,48,97)"
            ]
           ],
           "sequential": [
            [
             0,
             "#440154"
            ],
            [
             0.1111111111111111,
             "#482878"
            ],
            [
             0.2222222222222222,
             "#3e4989"
            ],
            [
             0.3333333333333333,
             "#31688e"
            ],
            [
             0.4444444444444444,
             "#26828e"
            ],
            [
             0.5555555555555556,
             "#1f9e89"
            ],
            [
             0.6666666666666666,
             "#35b779"
            ],
            [
             0.7777777777777778,
             "#6ece58"
            ],
            [
             0.8888888888888888,
             "#b5de2b"
            ],
            [
             1,
             "#fde725"
            ]
           ],
           "sequentialminus": [
            [
             0,
             "#440154"
            ],
            [
             0.1111111111111111,
             "#482878"
            ],
            [
             0.2222222222222222,
             "#3e4989"
            ],
            [
             0.3333333333333333,
             "#31688e"
            ],
            [
             0.4444444444444444,
             "#26828e"
            ],
            [
             0.5555555555555556,
             "#1f9e89"
            ],
            [
             0.6666666666666666,
             "#35b779"
            ],
            [
             0.7777777777777778,
             "#6ece58"
            ],
            [
             0.8888888888888888,
             "#b5de2b"
            ],
            [
             1,
             "#fde725"
            ]
           ]
          },
          "colorway": [
           "#1F77B4",
           "#FF7F0E",
           "#2CA02C",
           "#D62728",
           "#9467BD",
           "#8C564B",
           "#E377C2",
           "#7F7F7F",
           "#BCBD22",
           "#17BECF"
          ],
          "font": {
           "color": "rgb(36,36,36)"
          },
          "geo": {
           "bgcolor": "white",
           "lakecolor": "white",
           "landcolor": "white",
           "showlakes": true,
           "showland": true,
           "subunitcolor": "white"
          },
          "height": 250,
          "hoverlabel": {
           "align": "left"
          },
          "hovermode": "closest",
          "mapbox": {
           "style": "light"
          },
          "margin": {
           "b": 10,
           "l": 10,
           "r": 10,
           "t": 10
          },
          "paper_bgcolor": "white",
          "plot_bgcolor": "white",
          "polar": {
           "angularaxis": {
            "gridcolor": "rgb(232,232,232)",
            "linecolor": "rgb(36,36,36)",
            "showgrid": false,
            "showline": true,
            "ticks": "outside"
           },
           "bgcolor": "white",
           "radialaxis": {
            "gridcolor": "rgb(232,232,232)",
            "linecolor": "rgb(36,36,36)",
            "showgrid": false,
            "showline": true,
            "ticks": "outside"
           }
          },
          "scene": {
           "xaxis": {
            "backgroundcolor": "white",
            "gridcolor": "rgb(232,232,232)",
            "gridwidth": 2,
            "linecolor": "rgb(36,36,36)",
            "showbackground": true,
            "showgrid": false,
            "showline": true,
            "ticks": "outside",
            "zeroline": false,
            "zerolinecolor": "rgb(36,36,36)"
           },
           "yaxis": {
            "backgroundcolor": "white",
            "gridcolor": "rgb(232,232,232)",
            "gridwidth": 2,
            "linecolor": "rgb(36,36,36)",
            "showbackground": true,
            "showgrid": false,
            "showline": true,
            "ticks": "outside",
            "zeroline": false,
            "zerolinecolor": "rgb(36,36,36)"
           },
           "zaxis": {
            "backgroundcolor": "white",
            "gridcolor": "rgb(232,232,232)",
            "gridwidth": 2,
            "linecolor": "rgb(36,36,36)",
            "showbackground": true,
            "showgrid": false,
            "showline": true,
            "ticks": "outside",
            "zeroline": false,
            "zerolinecolor": "rgb(36,36,36)"
           }
          },
          "shapedefaults": {
           "fillcolor": "black",
           "line": {
            "width": 0
           },
           "opacity": 0.3
          },
          "ternary": {
           "aaxis": {
            "gridcolor": "rgb(232,232,232)",
            "linecolor": "rgb(36,36,36)",
            "showgrid": false,
            "showline": true,
            "ticks": "outside"
           },
           "baxis": {
            "gridcolor": "rgb(232,232,232)",
            "linecolor": "rgb(36,36,36)",
            "showgrid": false,
            "showline": true,
            "ticks": "outside"
           },
           "bgcolor": "white",
           "caxis": {
            "gridcolor": "rgb(232,232,232)",
            "linecolor": "rgb(36,36,36)",
            "showgrid": false,
            "showline": true,
            "ticks": "outside"
           }
          },
          "title": {
           "x": 0.5,
           "xanchor": "center"
          },
          "width": 350,
          "xaxis": {
           "automargin": true,
           "gridcolor": "rgb(232,232,232)",
           "linecolor": "rgb(36,36,36)",
           "showgrid": true,
           "showline": true,
           "ticks": "outside",
           "title": {
            "standoff": 15
           },
           "zeroline": false,
           "zerolinecolor": "rgb(36,36,36)"
          },
          "yaxis": {
           "automargin": true,
           "gridcolor": "rgb(232,232,232)",
           "linecolor": "rgb(36,36,36)",
           "showgrid": true,
           "showline": true,
           "ticks": "outside",
           "title": {
            "standoff": 15
           },
           "zeroline": false,
           "zerolinecolor": "rgb(36,36,36)"
          }
         }
        },
        "width": 450,
        "xaxis": {
         "autorange": true,
         "range": [
          1.023041559997163,
          38.44203482889176
         ],
         "type": "linear"
        },
        "xaxis2": {
         "autorange": true,
         "range": [
          1.3844597632249367,
          19.61554023677506
         ],
         "type": "linear"
        },
        "xaxis3": {
         "autorange": true,
         "range": [
          39.69634246790427,
          80.84111503480013
         ],
         "type": "linear"
        },
        "yaxis": {
         "autorange": true,
         "range": [
          1.023041559997163,
          38.44203482889176
         ],
         "type": "linear"
        },
        "yaxis2": {
         "autorange": true,
         "range": [
          1.3844597632249367,
          19.61554023677506
         ],
         "type": "linear"
        },
        "yaxis3": {
         "autorange": true,
         "range": [
          39.69634246790427,
          80.84111503480013
         ],
         "type": "linear"
        }
       }
      },
      "image/png": "[encoded data removed]",
      "image/svg+xml": [
       "<svg class=\"main-svg\" xmlns=\"http://www.w3.org/2000/svg\" xmlns:xlink=\"http://www.w3.org/1999/xlink\" width=\"450\" height=\"350\" style=\"\" viewBox=\"0 0 450 350\"><rect x=\"0\" y=\"0\" width=\"450\" height=\"350\" style=\"fill: rgb(255, 255, 255); fill-opacity: 1;\"/><defs id=\"defs-61c65c\"><g class=\"clips\"><clipPath id=\"clip61c65cxy2plot\" class=\"plotclip\"><rect width=\"117.62068965517241\" height=\"84.72413793103448\"/></clipPath><clipPath id=\"clip61c65cxy3plot\" class=\"plotclip\"><rect width=\"117.62068965517241\" height=\"84.72413793103449\"/></clipPath><clipPath id=\"clip61c65cx2yplot\" class=\"plotclip\"><rect width=\"117.6206896551724\" height=\"84.72413793103448\"/></clipPath><clipPath id=\"clip61c65cx2y3plot\" class=\"plotclip\"><rect width=\"117.6206896551724\" height=\"84.72413793103449\"/></clipPath><clipPath id=\"clip61c65cx3yplot\" class=\"plotclip\"><rect width=\"117.6206896551724\" height=\"84.72413793103448\"/></clipPath><clipPath id=\"clip61c65cx3y2plot\" class=\"plotclip\"><rect width=\"117.6206896551724\" height=\"84.72413793103448\"/></clipPath><clipPath class=\"axesclip\" id=\"clip61c65cx\"><rect x=\"56\" y=\"0\" width=\"117.62068965517241\" height=\"350\"/></clipPath><clipPath class=\"axesclip\" id=\"clip61c65cy\"><rect x=\"0\" y=\"18\" width=\"450\" height=\"84.72413793103448\"/></clipPath><clipPath class=\"axesclip\" id=\"clip61c65cxy\"><rect x=\"56\" y=\"18\" width=\"117.62068965517241\" height=\"84.72413793103448\"/></clipPath><clipPath class=\"axesclip\" id=\"clip61c65cy2\"><rect x=\"0\" y=\"112.13793103448276\" width=\"450\" height=\"84.72413793103448\"/></clipPath><clipPath class=\"axesclip\" id=\"clip61c65cxy2\"><rect x=\"56\" y=\"112.13793103448276\" width=\"117.62068965517241\" height=\"84.72413793103448\"/></clipPath><clipPath class=\"axesclip\" id=\"clip61c65cy3\"><rect x=\"0\" y=\"206.27586206896552\" width=\"450\" height=\"84.72413793103449\"/></clipPath><clipPath class=\"axesclip\" id=\"clip61c65cxy3\"><rect x=\"56\" y=\"206.27586206896552\" width=\"117.62068965517241\" height=\"84.72413793103449\"/></clipPath><clipPath class=\"axesclip\" id=\"clip61c65cx2\"><rect x=\"186.6896551724138\" y=\"0\" width=\"117.6206896551724\" height=\"350\"/></clipPath><clipPath class=\"axesclip\" id=\"clip61c65cx2y\"><rect x=\"186.6896551724138\" y=\"18\" width=\"117.6206896551724\" height=\"84.72413793103448\"/></clipPath><clipPath class=\"axesclip\" id=\"clip61c65cx2y2\"><rect x=\"186.6896551724138\" y=\"112.13793103448276\" width=\"117.6206896551724\" height=\"84.72413793103448\"/></clipPath><clipPath class=\"axesclip\" id=\"clip61c65cx2y3\"><rect x=\"186.6896551724138\" y=\"206.27586206896552\" width=\"117.6206896551724\" height=\"84.72413793103449\"/></clipPath><clipPath class=\"axesclip\" id=\"clip61c65cx3\"><rect x=\"317.3793103448276\" y=\"0\" width=\"117.6206896551724\" height=\"350\"/></clipPath><clipPath class=\"axesclip\" id=\"clip61c65cx3y\"><rect x=\"317.3793103448276\" y=\"18\" width=\"117.6206896551724\" height=\"84.72413793103448\"/></clipPath><clipPath class=\"axesclip\" id=\"clip61c65cx3y2\"><rect x=\"317.3793103448276\" y=\"112.13793103448276\" width=\"117.6206896551724\" height=\"84.72413793103448\"/></clipPath><clipPath class=\"axesclip\" id=\"clip61c65cx3y3\"><rect x=\"317.3793103448276\" y=\"206.27586206896552\" width=\"117.6206896551724\" height=\"84.72413793103449\"/></clipPath></g><g class=\"gradients\"/><g class=\"patterns\"/></defs><g class=\"bglayer\"/><g class=\"layer-below\"><g class=\"imagelayer\"/><g class=\"shapelayer\"/></g><g class=\"cartesianlayer\"><g class=\"subplot xy2\"><g class=\"layer-subplot\"><g class=\"shapelayer\"/><g class=\"imagelayer\"/></g><g class=\"gridlayer\"><g class=\"x\"><path class=\"xgrid crisp\" transform=\"translate(83.65,0)\" d=\"M0,112.13793103448276v84.72413793103448\" style=\"stroke: rgb(232, 232, 232); stroke-opacity: 1; stroke-width: 1px;\"/><path class=\"xgrid crisp\" transform=\"translate(115.67,0)\" d=\"M0,112.13793103448276v84.72413793103448\" style=\"stroke: rgb(232, 232, 232); stroke-opacity: 1; stroke-width: 1px;\"/><path class=\"xgrid crisp\" transform=\"translate(147.68,0)\" d=\"M0,112.13793103448276v84.72413793103448\" style=\"stroke: rgb(232, 232, 232); stroke-opacity: 1; stroke-width: 1px;\"/></g><g class=\"y2\"><path class=\"y2grid crisp\" transform=\"translate(0,180.52793103448278)\" d=\"M56,0h117.62068965517241\" style=\"stroke: rgb(232, 232, 232); stroke-opacity: 1; stroke-width: 1px;\"/><path class=\"y2grid crisp\" transform=\"translate(0,156.86793103448275)\" d=\"M56,0h117.62068965517241\" style=\"stroke: rgb(232, 232, 232); stroke-opacity: 1; stroke-width: 1px;\"/><path class=\"y2grid crisp\" transform=\"translate(0,133.19793103448276)\" d=\"M56,0h117.62068965517241\" style=\"stroke: rgb(232, 232, 232); stroke-opacity: 1; stroke-width: 1px;\"/></g></g><g class=\"zerolinelayer\"/><path class=\"xlines-below\"/><path class=\"ylines-below\"/><g class=\"overlines-below\"/><g class=\"xaxislayer-below\"/><g class=\"yaxislayer-below\"/><g class=\"overaxes-below\"/><g class=\"plot\" transform=\"translate(56,112.13793103448276)\" clip-path=\"url(#clip61c65cxy2plot)\"/><g class=\"overplot\"/><path class=\"xlines-above crisp\" d=\"M56,291.5h117.62068965517241\" style=\"fill: none; stroke-width: 1px; stroke: rgb(36, 36, 36); stroke-opacity: 1;\"/><path class=\"ylines-above crisp\" d=\"M56.5,112.13793103448276v84.72413793103448\" style=\"fill: none; stroke-width: 1px; stroke: rgb(36, 36, 36); stroke-opacity: 1;\"/><g class=\"overlines-above\"/><g class=\"xaxislayer-above\"><path class=\"xtick ticks crisp\" d=\"M0,292v5\" transform=\"translate(83.65,0)\" style=\"stroke: rgb(68, 68, 68); stroke-opacity: 1; stroke-width: 1px;\"/><path class=\"xtick ticks crisp\" d=\"M0,292v5\" transform=\"translate(115.67,0)\" style=\"stroke: rgb(68, 68, 68); stroke-opacity: 1; stroke-width: 1px;\"/><path class=\"xtick ticks crisp\" d=\"M0,292v5\" transform=\"translate(147.68,0)\" style=\"stroke: rgb(68, 68, 68); stroke-opacity: 1; stroke-width: 1px;\"/><g class=\"xtick\"><text text-anchor=\"middle\" x=\"0\" y=\"311.4\" transform=\"translate(83.65,0)\" style=\"font-family: 'Open Sans', verdana, arial, sans-serif; font-size: 12px; fill: rgb(36, 36, 36); fill-opacity: 1; white-space: pre; opacity: 1;\">10</text></g><g class=\"xtick\"><text text-anchor=\"middle\" x=\"0\" y=\"311.4\" style=\"font-family: 'Open Sans', verdana, arial, sans-serif; font-size: 12px; fill: rgb(36, 36, 36); fill-opacity: 1; white-space: pre; opacity: 1;\" transform=\"translate(115.67,0)\">20</text></g><g class=\"xtick\"><text text-anchor=\"middle\" x=\"0\" y=\"311.4\" style=\"font-family: 'Open Sans', verdana, arial, sans-serif; font-size: 12px; fill: rgb(36, 36, 36); fill-opacity: 1; white-space: pre; opacity: 1;\" transform=\"translate(147.68,0)\">30</text></g></g><g class=\"yaxislayer-above\"><path class=\"y2tick ticks crisp\" d=\"M56,0h-5\" transform=\"translate(0,180.52793103448278)\" style=\"stroke: rgb(68, 68, 68); stroke-opacity: 1; stroke-width: 1px;\"/><path class=\"y2tick ticks crisp\" d=\"M56,0h-5\" transform=\"translate(0,156.86793103448275)\" style=\"stroke: rgb(68, 68, 68); stroke-opacity: 1; stroke-width: 1px;\"/><path class=\"y2tick ticks crisp\" d=\"M56,0h-5\" transform=\"translate(0,133.19793103448276)\" style=\"stroke: rgb(68, 68, 68); stroke-opacity: 1; stroke-width: 1px;\"/><g class=\"y2tick\"><text text-anchor=\"end\" x=\"48.6\" y=\"4.199999999999999\" transform=\"translate(0,180.52793103448278)\" style=\"font-family: 'Open Sans', verdana, arial, sans-serif; font-size: 12px; fill: rgb(36, 36, 36); fill-opacity: 1; white-space: pre; opacity: 1;\">5</text></g><g class=\"y2tick\"><text text-anchor=\"end\" x=\"48.6\" y=\"4.199999999999999\" style=\"font-family: 'Open Sans', verdana, arial, sans-serif; font-size: 12px; fill: rgb(36, 36, 36); fill-opacity: 1; white-space: pre; opacity: 1;\" transform=\"translate(0,156.86793103448275)\">10</text></g><g class=\"y2tick\"><text text-anchor=\"end\" x=\"48.6\" y=\"4.199999999999999\" style=\"font-family: 'Open Sans', verdana, arial, sans-serif; font-size: 12px; fill: rgb(36, 36, 36); fill-opacity: 1; white-space: pre; opacity: 1;\" transform=\"translate(0,133.19793103448276)\">15</text></g></g><g class=\"overaxes-above\"/></g><g class=\"subplot xy3\"><g class=\"layer-subplot\"><g class=\"shapelayer\"/><g class=\"imagelayer\"/></g><g class=\"gridlayer\"><g class=\"x\"><path class=\"xgrid crisp\" transform=\"translate(83.65,0)\" d=\"M0,206.27586206896552v84.72413793103449\" style=\"stroke: rgb(232, 232, 232); stroke-opacity: 1; stroke-width: 1px;\"/><path class=\"xgrid crisp\" transform=\"translate(115.67,0)\" d=\"M0,206.27586206896552v84.72413793103449\" style=\"stroke: rgb(232, 232, 232); stroke-opacity: 1; stroke-width: 1px;\"/><path class=\"xgrid crisp\" transform=\"translate(147.68,0)\" d=\"M0,206.27586206896552v84.72413793103449\" style=\"stroke: rgb(232, 232, 232); stroke-opacity: 1; stroke-width: 1px;\"/></g><g class=\"y3\"><path class=\"y3grid crisp\" transform=\"translate(0,270.1758620689655)\" d=\"M56,0h117.62068965517241\" style=\"stroke: rgb(232, 232, 232); stroke-opacity: 1; stroke-width: 1px;\"/><path class=\"y3grid crisp\" transform=\"translate(0,249.20586206896553)\" d=\"M56,0h117.62068965517241\" style=\"stroke: rgb(232, 232, 232); stroke-opacity: 1; stroke-width: 1px;\"/><path class=\"y3grid crisp\" transform=\"translate(0,228.2258620689655)\" d=\"M56,0h117.62068965517241\" style=\"stroke: rgb(232, 232, 232); stroke-opacity: 1; stroke-width: 1px;\"/></g></g><g class=\"zerolinelayer\"/><path class=\"xlines-below\"/><path class=\"ylines-below\"/><g class=\"overlines-below\"/><g class=\"xaxislayer-below\"/><g class=\"yaxislayer-below\"/><g class=\"overaxes-below\"/><g class=\"plot\" transform=\"translate(56,206.27586206896552)\" clip-path=\"url(#clip61c65cxy3plot)\"/><g class=\"overplot\"/><path class=\"xlines-above crisp\" d=\"M0,0\" style=\"fill: none;\"/><path class=\"ylines-above crisp\" d=\"M56.5,206.27586206896552v84.72413793103449\" style=\"fill: none; stroke-width: 1px; stroke: rgb(36, 36, 36); stroke-opacity: 1;\"/><g class=\"overlines-above\"/><g class=\"xaxislayer-above\"/><g class=\"yaxislayer-above\"><path class=\"y3tick ticks crisp\" d=\"M56,0h-5\" transform=\"translate(0,270.1758620689655)\" style=\"stroke: rgb(68, 68, 68); stroke-opacity: 1; stroke-width: 1px;\"/><path class=\"y3tick ticks crisp\" d=\"M56,0h-5\" transform=\"translate(0,249.20586206896553)\" style=\"stroke: rgb(68, 68, 68); stroke-opacity: 1; stroke-width: 1px;\"/><path class=\"y3tick ticks crisp\" d=\"M56,0h-5\" transform=\"translate(0,228.2258620689655)\" style=\"stroke: rgb(68, 68, 68); stroke-opacity: 1; stroke-width: 1px;\"/><path class=\"y3tick ticks crisp\" d=\"M56,0h-5\" transform=\"translate(0,207.2558620689655)\" style=\"stroke: rgb(68, 68, 68); stroke-opacity: 1; stroke-width: 1px;\"/><g class=\"y3tick\"><text text-anchor=\"end\" x=\"48.6\" y=\"4.199999999999999\" transform=\"translate(0,270.1758620689655)\" style=\"font-family: 'Open Sans', verdana, arial, sans-serif; font-size: 12px; fill: rgb(36, 36, 36); fill-opacity: 1; white-space: pre; opacity: 1;\">50</text></g><g class=\"y3tick\"><text text-anchor=\"end\" x=\"48.6\" y=\"4.199999999999999\" style=\"font-family: 'Open Sans', verdana, arial, sans-serif; font-size: 12px; fill: rgb(36, 36, 36); fill-opacity: 1; white-space: pre; opacity: 1;\" transform=\"translate(0,249.20586206896553)\">60</text></g><g class=\"y3tick\"><text text-anchor=\"end\" x=\"48.6\" y=\"4.199999999999999\" style=\"font-family: 'Open Sans', verdana, arial, sans-serif; font-size: 12px; fill: rgb(36, 36, 36); fill-opacity: 1; white-space: pre; opacity: 1;\" transform=\"translate(0,228.2258620689655)\">70</text></g><g class=\"y3tick\"><text text-anchor=\"end\" x=\"48.6\" y=\"4.199999999999999\" style=\"font-family: 'Open Sans', verdana, arial, sans-serif; font-size: 12px; fill: rgb(36, 36, 36); fill-opacity: 1; white-space: pre; opacity: 1;\" transform=\"translate(0,207.2558620689655)\">80</text></g></g><g class=\"overaxes-above\"/></g><g class=\"subplot x2y\"><g class=\"layer-subplot\"><g class=\"shapelayer\"/><g class=\"imagelayer\"/></g><g class=\"gridlayer\"><g class=\"x2\"><path class=\"x2grid crisp\" transform=\"translate(209.3596551724138,0)\" d=\"M0,18v84.72413793103448\" style=\"stroke: rgb(232, 232, 232); stroke-opacity: 1; stroke-width: 1px;\"/><path class=\"x2grid crisp\" transform=\"translate(242.2196551724138,0)\" d=\"M0,18v84.72413793103448\" style=\"stroke: rgb(232, 232, 232); stroke-opacity: 1; stroke-width: 1px;\"/><path class=\"x2grid crisp\" transform=\"translate(275.06965517241383,0)\" d=\"M0,18v84.72413793103448\" style=\"stroke: rgb(232, 232, 232); stroke-opacity: 1; stroke-width: 1px;\"/></g><g class=\"y\"><path class=\"ygrid crisp\" transform=\"translate(0,82.8)\" d=\"M186.6896551724138,0h117.6206896551724\" style=\"stroke: rgb(232, 232, 232); stroke-opacity: 1; stroke-width: 1px;\"/><path class=\"ygrid crisp\" transform=\"translate(0,59.75)\" d=\"M186.6896551724138,0h117.6206896551724\" style=\"stroke: rgb(232, 232, 232); stroke-opacity: 1; stroke-width: 1px;\"/><path class=\"ygrid crisp\" transform=\"translate(0,36.69)\" d=\"M186.6896551724138,0h117.6206896551724\" style=\"stroke: rgb(232, 232, 232); stroke-opacity: 1; stroke-width: 1px;\"/></g></g><g class=\"zerolinelayer\"/><path class=\"xlines-below\"/><path class=\"ylines-below\"/><g class=\"overlines-below\"/><g class=\"xaxislayer-below\"/><g class=\"yaxislayer-below\"/><g class=\"overaxes-below\"/><g class=\"plot\" transform=\"translate(186.6896551724138,18)\" clip-path=\"url(#clip61c65cx2yplot)\"/><g class=\"overplot\"/><path class=\"xlines-above crisp\" d=\"M186.6896551724138,291.5h117.6206896551724\" style=\"fill: none; stroke-width: 1px; stroke: rgb(36, 36, 36); stroke-opacity: 1;\"/><path class=\"ylines-above crisp\" d=\"M56.5,18v84.72413793103448\" style=\"fill: none; stroke-width: 1px; stroke: rgb(36, 36, 36); stroke-opacity: 1;\"/><g class=\"overlines-above\"/><g class=\"xaxislayer-above\"><path class=\"x2tick ticks crisp\" d=\"M0,292v5\" transform=\"translate(209.3596551724138,0)\" style=\"stroke: rgb(68, 68, 68); stroke-opacity: 1; stroke-width: 1px;\"/><path class=\"x2tick ticks crisp\" d=\"M0,292v5\" transform=\"translate(242.2196551724138,0)\" style=\"stroke: rgb(68, 68, 68); stroke-opacity: 1; stroke-width: 1px;\"/><path class=\"x2tick ticks crisp\" d=\"M0,292v5\" transform=\"translate(275.06965517241383,0)\" style=\"stroke: rgb(68, 68, 68); stroke-opacity: 1; stroke-width: 1px;\"/><g class=\"x2tick\"><text text-anchor=\"middle\" x=\"0\" y=\"311.4\" transform=\"translate(209.3596551724138,0)\" style=\"font-family: 'Open Sans', verdana, arial, sans-serif; font-size: 12px; fill: rgb(36, 36, 36); fill-opacity: 1; white-space: pre; opacity: 1;\">5</text></g><g class=\"x2tick\"><text text-anchor=\"middle\" x=\"0\" y=\"311.4\" style=\"font-family: 'Open Sans', verdana, arial, sans-serif; font-size: 12px; fill: rgb(36, 36, 36); fill-opacity: 1; white-space: pre; opacity: 1;\" transform=\"translate(242.2196551724138,0)\">10</text></g><g class=\"x2tick\"><text text-anchor=\"middle\" x=\"0\" y=\"311.4\" style=\"font-family: 'Open Sans', verdana, arial, sans-serif; font-size: 12px; fill: rgb(36, 36, 36); fill-opacity: 1; white-space: pre; opacity: 1;\" transform=\"translate(275.06965517241383,0)\">15</text></g></g><g class=\"yaxislayer-above\"><path class=\"ytick ticks crisp\" d=\"M56,0h-5\" transform=\"translate(0,82.8)\" style=\"stroke: rgb(68, 68, 68); stroke-opacity: 1; stroke-width: 1px;\"/><path class=\"ytick ticks crisp\" d=\"M56,0h-5\" transform=\"translate(0,59.75)\" style=\"stroke: rgb(68, 68, 68); stroke-opacity: 1; stroke-width: 1px;\"/><path class=\"ytick ticks crisp\" d=\"M56,0h-5\" transform=\"translate(0,36.69)\" style=\"stroke: rgb(68, 68, 68); stroke-opacity: 1; stroke-width: 1px;\"/><g class=\"ytick\"><text text-anchor=\"end\" x=\"48.6\" y=\"4.199999999999999\" transform=\"translate(0,82.8)\" style=\"font-family: 'Open Sans', verdana, arial, sans-serif; font-size: 12px; fill: rgb(36, 36, 36); fill-opacity: 1; white-space: pre; opacity: 1;\">10</text></g><g class=\"ytick\"><text text-anchor=\"end\" x=\"48.6\" y=\"4.199999999999999\" style=\"font-family: 'Open Sans', verdana, arial, sans-serif; font-size: 12px; fill: rgb(36, 36, 36); fill-opacity: 1; white-space: pre; opacity: 1;\" transform=\"translate(0,59.75)\">20</text></g><g class=\"ytick\"><text text-anchor=\"end\" x=\"48.6\" y=\"4.199999999999999\" style=\"font-family: 'Open Sans', verdana, arial, sans-serif; font-size: 12px; fill: rgb(36, 36, 36); fill-opacity: 1; white-space: pre; opacity: 1;\" transform=\"translate(0,36.69)\">30</text></g></g><g class=\"overaxes-above\"/></g><g class=\"subplot x2y3\"><g class=\"layer-subplot\"><g class=\"shapelayer\"/><g class=\"imagelayer\"/></g><g class=\"gridlayer\"><g class=\"x2\"><path class=\"x2grid crisp\" transform=\"translate(209.3596551724138,0)\" d=\"M0,206.27586206896552v84.72413793103449\" style=\"stroke: rgb(232, 232, 232); stroke-opacity: 1; stroke-width: 1px;\"/><path class=\"x2grid crisp\" transform=\"translate(242.2196551724138,0)\" d=\"M0,206.27586206896552v84.72413793103449\" style=\"stroke: rgb(232, 232, 232); stroke-opacity: 1; stroke-width: 1px;\"/><path class=\"x2grid crisp\" transform=\"translate(275.06965517241383,0)\" d=\"M0,206.27586206896552v84.72413793103449\" style=\"stroke: rgb(232, 232, 232); stroke-opacity: 1; stroke-width: 1px;\"/></g><g class=\"y3\"><path class=\"y3grid crisp\" transform=\"translate(0,270.1758620689655)\" d=\"M186.6896551724138,0h117.6206896551724\" style=\"stroke: rgb(232, 232, 232); stroke-opacity: 1; stroke-width: 1px;\"/><path class=\"y3grid crisp\" transform=\"translate(0,249.20586206896553)\" d=\"M186.6896551724138,0h117.6206896551724\" style=\"stroke: rgb(232, 232, 232); stroke-opacity: 1; stroke-width: 1px;\"/><path class=\"y3grid crisp\" transform=\"translate(0,228.2258620689655)\" d=\"M186.6896551724138,0h117.6206896551724\" style=\"stroke: rgb(232, 232, 232); stroke-opacity: 1; stroke-width: 1px;\"/></g></g><g class=\"zerolinelayer\"/><path class=\"xlines-below\"/><path class=\"ylines-below\"/><g class=\"overlines-below\"/><g class=\"xaxislayer-below\"/><g class=\"yaxislayer-below\"/><g class=\"overaxes-below\"/><g class=\"plot\" transform=\"translate(186.6896551724138,206.27586206896552)\" clip-path=\"url(#clip61c65cx2y3plot)\"/><g class=\"overplot\"/><path class=\"xlines-above crisp\" d=\"M0,0\" style=\"fill: none;\"/><path class=\"ylines-above crisp\" d=\"M0,0\" style=\"fill: none;\"/><g class=\"overlines-above\"/><g class=\"xaxislayer-above\"/><g class=\"yaxislayer-above\"/><g class=\"overaxes-above\"/></g><g class=\"subplot x3y\"><g class=\"layer-subplot\"><g class=\"shapelayer\"/><g class=\"imagelayer\"/></g><g class=\"gridlayer\"><g class=\"x3\"><path class=\"x3grid crisp\" transform=\"translate(346.28931034482764,0)\" d=\"M0,18v84.72413793103448\" style=\"stroke: rgb(232, 232, 232); stroke-opacity: 1; stroke-width: 1px;\"/><path class=\"x3grid crisp\" transform=\"translate(375.40931034482765,0)\" d=\"M0,18v84.72413793103448\" style=\"stroke: rgb(232, 232, 232); stroke-opacity: 1; stroke-width: 1px;\"/><path class=\"x3grid crisp\" transform=\"translate(404.5193103448276,0)\" d=\"M0,18v84.72413793103448\" style=\"stroke: rgb(232, 232, 232); stroke-opacity: 1; stroke-width: 1px;\"/><path class=\"x3grid crisp\" transform=\"translate(433.6393103448276,0)\" d=\"M0,18v84.72413793103448\" style=\"stroke: rgb(232, 232, 232); stroke-opacity: 1; stroke-width: 1px;\"/></g><g class=\"y\"><path class=\"ygrid crisp\" transform=\"translate(0,82.8)\" d=\"M317.3793103448276,0h117.6206896551724\" style=\"stroke: rgb(232, 232, 232); stroke-opacity: 1; stroke-width: 1px;\"/><path class=\"ygrid crisp\" transform=\"translate(0,59.75)\" d=\"M317.3793103448276,0h117.6206896551724\" style=\"stroke: rgb(232, 232, 232); stroke-opacity: 1; stroke-width: 1px;\"/><path class=\"ygrid crisp\" transform=\"translate(0,36.69)\" d=\"M317.3793103448276,0h117.6206896551724\" style=\"stroke: rgb(232, 232, 232); stroke-opacity: 1; stroke-width: 1px;\"/></g></g><g class=\"zerolinelayer\"/><path class=\"xlines-below\"/><path class=\"ylines-below\"/><g class=\"overlines-below\"/><g class=\"xaxislayer-below\"/><g class=\"yaxislayer-below\"/><g class=\"overaxes-below\"/><g class=\"plot\" transform=\"translate(317.3793103448276,18)\" clip-path=\"url(#clip61c65cx3yplot)\"/><g class=\"overplot\"/><path class=\"xlines-above crisp\" d=\"M317.3793103448276,291.5h117.6206896551724\" style=\"fill: none; stroke-width: 1px; stroke: rgb(36, 36, 36); stroke-opacity: 1;\"/><path class=\"ylines-above crisp\" d=\"M0,0\" style=\"fill: none;\"/><g class=\"overlines-above\"/><g class=\"xaxislayer-above\"><path class=\"x3tick ticks crisp\" d=\"M0,292v5\" transform=\"translate(346.28931034482764,0)\" style=\"stroke: rgb(68, 68, 68); stroke-opacity: 1; stroke-width: 1px;\"/><path class=\"x3tick ticks crisp\" d=\"M0,292v5\" transform=\"translate(375.40931034482765,0)\" style=\"stroke: rgb(68, 68, 68); stroke-opacity: 1; stroke-width: 1px;\"/><path class=\"x3tick ticks crisp\" d=\"M0,292v5\" transform=\"translate(404.5193103448276,0)\" style=\"stroke: rgb(68, 68, 68); stroke-opacity: 1; stroke-width: 1px;\"/><path class=\"x3tick ticks crisp\" d=\"M0,292v5\" transform=\"translate(433.6393103448276,0)\" style=\"stroke: rgb(68, 68, 68); stroke-opacity: 1; stroke-width: 1px;\"/><g class=\"x3tick\"><text text-anchor=\"middle\" x=\"0\" y=\"311.4\" transform=\"translate(346.28931034482764,0)\" style=\"font-family: 'Open Sans', verdana, arial, sans-serif; font-size: 12px; fill: rgb(36, 36, 36); fill-opacity: 1; white-space: pre; opacity: 1;\">50</text></g><g class=\"x3tick\"><text text-anchor=\"middle\" x=\"0\" y=\"311.4\" style=\"font-family: 'Open Sans', verdana, arial, sans-serif; font-size: 12px; fill: rgb(36, 36, 36); fill-opacity: 1; white-space: pre; opacity: 1;\" transform=\"translate(375.40931034482765,0)\">60</text></g><g class=\"x3tick\"><text text-anchor=\"middle\" x=\"0\" y=\"311.4\" style=\"font-family: 'Open Sans', verdana, arial, sans-serif; font-size: 12px; fill: rgb(36, 36, 36); fill-opacity: 1; white-space: pre; opacity: 1;\" transform=\"translate(404.5193103448276,0)\">70</text></g><g class=\"x3tick\"><text text-anchor=\"middle\" x=\"0\" y=\"311.4\" style=\"font-family: 'Open Sans', verdana, arial, sans-serif; font-size: 12px; fill: rgb(36, 36, 36); fill-opacity: 1; white-space: pre; opacity: 1;\" transform=\"translate(433.6393103448276,0)\">80</text></g></g><g class=\"yaxislayer-above\"/><g class=\"overaxes-above\"/></g><g class=\"subplot x3y2\"><g class=\"layer-subplot\"><g class=\"shapelayer\"/><g class=\"imagelayer\"/></g><g class=\"gridlayer\"><g class=\"x3\"><path class=\"x3grid crisp\" transform=\"translate(346.28931034482764,0)\" d=\"M0,112.13793103448276v84.72413793103448\" style=\"stroke: rgb(232, 232, 232); stroke-opacity: 1; stroke-width: 1px;\"/><path class=\"x3grid crisp\" transform=\"translate(375.40931034482765,0)\" d=\"M0,112.13793103448276v84.72413793103448\" style=\"stroke: rgb(232, 232, 232); stroke-opacity: 1; stroke-width: 1px;\"/><path class=\"x3grid crisp\" transform=\"translate(404.5193103448276,0)\" d=\"M0,112.13793103448276v84.72413793103448\" style=\"stroke: rgb(232, 232, 232); stroke-opacity: 1; stroke-width: 1px;\"/><path class=\"x3grid crisp\" transform=\"translate(433.6393103448276,0)\" d=\"M0,112.13793103448276v84.72413793103448\" style=\"stroke: rgb(232, 232, 232); stroke-opacity: 1; stroke-width: 1px;\"/></g><g class=\"y2\"><path class=\"y2grid crisp\" transform=\"translate(0,180.52793103448278)\" d=\"M317.3793103448276,0h117.6206896551724\" style=\"stroke: rgb(232, 232, 232); stroke-opacity: 1; stroke-width: 1px;\"/><path class=\"y2grid crisp\" transform=\"translate(0,156.86793103448275)\" d=\"M317.3793103448276,0h117.6206896551724\" style=\"stroke: rgb(232, 232, 232); stroke-opacity: 1; stroke-width: 1px;\"/><path class=\"y2grid crisp\" transform=\"translate(0,133.19793103448276)\" d=\"M317.3793103448276,0h117.6206896551724\" style=\"stroke: rgb(232, 232, 232); stroke-opacity: 1; stroke-width: 1px;\"/></g></g><g class=\"zerolinelayer\"/><path class=\"xlines-below\"/><path class=\"ylines-below\"/><g class=\"overlines-below\"/><g class=\"xaxislayer-below\"/><g class=\"yaxislayer-below\"/><g class=\"overaxes-below\"/><g class=\"plot\" transform=\"translate(317.3793103448276,112.13793103448276)\" clip-path=\"url(#clip61c65cx3y2plot)\"/><g class=\"overplot\"/><path class=\"xlines-above crisp\" d=\"M0,0\" style=\"fill: none;\"/><path class=\"ylines-above crisp\" d=\"M0,0\" style=\"fill: none;\"/><g class=\"overlines-above\"/><g class=\"xaxislayer-above\"/><g class=\"yaxislayer-above\"/><g class=\"overaxes-above\"/></g></g><g class=\"polarlayer\"/><g class=\"smithlayer\"/><g class=\"ternarylayer\"/><g class=\"geolayer\"/><g class=\"funnelarealayer\"/><g class=\"pielayer\"/><g class=\"iciclelayer\"/><g class=\"treemaplayer\"/><g class=\"sunburstlayer\"/><g class=\"glimages\"><image xmlns=\"http://www.w3.org/2000/svg\" xlink:href=\"data:image/png;base64,iVBORw0KGgoAAAANSUhEUgAAA4QAAAK8CAYAAAC3EHFPAAAgAElEQVR4XuzdeXwcV5Uv8HOquyW15MTOvjmqlmKWOIQldhb2eIZs6pINIXbgEbaZSZh580IIxCrZYUiFR+wuJWELA5PATJhhGZAhYKvaOMDDATIsic0SwCyxpS5lx9kcW5Itqeu8T9mWI8utrtut7lZ316//gz733nO/t6zoqKruZcIHAhCAAAQgAAEIQAACEIAABEIpwKGcNSYNAQhAAAIQgAAEIAABCEAAAoSCEBcBBCAAAQhAAAIQgAAEIACBkAqgIAzpwmPaEIAABCAAAQhAAAIQgAAEUBDiGoAABCAAAQhAAAIQgAAEIBBSARSEIV14TBsCEIAABCAAAQhAAAIQgAAKQlwDEIAABCAAAQhAAAIQgAAEQiqAgjCkC49pQwACEIAABCAAAQhAAAIQQEGIawACEIAABCAAAQhAAAIQgEBIBVAQhnThMW0IQAACEIAABCAAAQhAAAIoCHENQAACEIAABCAAAQhAAAIQCKkACsKQLjymDQEIQAACEIAABCAAAQhAAAUhrgEIQAACEIAABCAAAQhAAAIhFUBBGNKFx7QhAAEIQAACEIAABCAAAQigIMQ1AAEIQAACEIAABCAAAQhAIKQCKAhDuvCYNgQgAAEIQAACEIAABCAAARSEuAYgAAEIQAACEIAABCAAAQiEVAAFYUgXHtOGAAQgAAEIQAACEIAABCCAghDXAAQgAAEIQAACEIAABCAAgZAKoCAM6cJj2hCAAAQgAAEIQAACEIAABFAQ4hqAAAQgAAEIQAACEIAABCAQUgEUhCFdeEwbAhCAAAQgAAEIQAACEIAACkJcAxCAAAQgAAEIQAACEIAABEIqgIIwpAuPaUMAAhCAAAQgAAEIQAACEEBBiGsAAhCAAAQgAAEIQAACEIBASAVQEIZ04TFtCEAAAhCAAAQgAAEIQAACKAhxDUAAAhCAAAQgAAEIQAACEAipAArCkC48pg0BCEAAAhCAAAQgAAEIQAAFIa4BCEAAAhCAAAQgAAEIQAACIRVAQRjShce0IQABCEAAAhCAAAQgAAEIoCDENQABCEAAAhCAAAQgAAEIQCCkAigIQ7rwmDYEIAABCEAAAhCAAAQgAAEUhLgGIAABCEAAAhCAAAQgAAEIhFQABWFIFx7ThgAEIAABCEAAAhCAAAQggIIQ1wAEIAABCEAAAhCAAAQgAIGQCqAgDOnCY9oQgAAEIAABCEAAAhCAAARQEOIagAAEIAABCEAAAhCAAAQgEFIBFIQhXXhMGwIQgAAEIAABCEAAAhCAAApCXAMQgAAEIAABCEAAAhCAAARCKoCCMKQLj2lDAAIQgAAEIAABCEAAAhBAQYhrAAIQgAAEIAABCEAAAhCAQEgFUBCGdOExbQhAAAIQgAAEIAABCEAAAigIcQ1AAAIQgAAEIAABCEAAAhAIqQAKwpAuPKYNAQhAAAIQgAAEIAABCEAABSGuAQhAAAIQgAAEIAABCEAAAiEVQEEY0oXHtCEAAQhAAAL1JyBsWTezddNNQsxS7PxEhG+++Wa2LMsjKk2fxeaCdjMTWN4rkZ3b7uP7rCXjM+sJrSFQvwIoCOt3bTEzCEAAAhCAQCgE9NWbTqFsdjORvOzQhJmGmbWOzNqOHysicMJ0LCH62LTxhfepODTCSiwQSXQ7O0RIP7xf3uX2D51C61aMlHg8dAeBmhZAQVjTy4fkIQABCEAAAuEW0Lv73kbC90yvIF937c535VO60NocHRgZ2k1ETWqawX2q9YOoUgucYG2e03xgLaf9NGqxM/+y9pI/lXps9AeBWhVAQVirK4e8IQABCEAAAiEXOHBncPzxQAb2rnZTS780XZxupgeIJBHYz+SAgD4L6gvBJRPQzfT+x3yDOnRtIzAmqA98D4F6EcA/hnpZScwDAhCAAAQgUOcCrWZfJ5P2FSKZe3Cq/nuCSr/LuP3DUf2MlrUkdMOhgkFoICL8wawmfcXQoagoRq18bRLdG94not2tOMK3XNtYniNWS5jOPUK0bNJ3HjF1uSnjdsW+EQaBmhJQ+iFaUzNCshCAAAQgAAEI1JmAsG6m/Uf8XlpNE4tQ47x++6Jd1ZRTmHPRzfTzk/5YEEQhrm1ok4Nau51jWOjZ6RoK0Z5B2zgqqGN8D4FaE0BBWGsrhnwhAAEIQAACIRNoNZ0fM9Gbqm3azJG2TOqyTLXlFdZ89C7Hv5On/Lvt1Du8uumo7Ew76NrGlM1qwiqOedeLgPI/mnqZMOYBAQhAAAIQgEDtCCi/JzgLU4pp2onb13bsnIWhMWQOAd109hJRoyrO5IJQNzfeSuTdoNIW666ihJhaEkBBWEurhVwhAAEIQAACIRNoNfs+zcTXVeO03fiWCO0/qxCfahBo7e77Agv/o1ou/GfXTr58IlY3Hf+cwohKW43ploGU8VGVWMRAoBYEUBDWwiohRwhAAAIQgEBIBXTT+Q0Rvar6po+jJ6pvTYgUH/uk4XjLUTutJXsmFYQqj4seCGf6jpsyLq/G+SMnCBQjgIKwGDW0gQAEIAABCECgIgK62fdDIv7bigymPsgu104eQ8TqRYR634icgUBb1/qlHkfW5+tCSHoG7U5zcoxqIXmwzVdd23j3DNJEUwhUlQAKwqpaDiQDAQhAAAIQgMBhv6h3OZcT07eLU5Gvk/BrialNrT3/lUhOzB/r3xk0rkIxqCY6G1H6yk3nkDa+NffY8i7X7vz61O9003GJqFUlX09o2SM9xgaVWMRAoBYEUBDWwiohRwhAAAIQgEBYBURY7/YPGw/+sMenUERrirIMbW984Bn//b62G9a/0otEfhvcmp51beO4hVZvw/hY/IQsNWjZWMNObWS80ePxYyb3qdAXQqpAIGFtniejQ6+R8Ww0EqWHBtYse2q6tE5fufEMTfO2q6SN8ydVlBBTSwIoCGtptZArBCAAAQhAIIQCp9+YXqyNy4N5py5yldvT+bVcMYlu58si9N587XGmYAgvrClTTpjOd6ccSH8EiibZiwd6lv0AWhCoJwEUhPW0mpgLBCAAAQhAoE4FWldtXMie/J5IjvjdRZguGkwZP8w3db2rbyUx9+SIeTZCje04YL5OL5wCp5Xv+Akh742D9tL7C+wS4RCoegEUhFW/REgQAhCAAAQgAIEJgfk39p0WHYucy5SNRjX+1cMpY4CI1DZ3Wd4baW8/ZqFH+84i5uebm4Ye2GateBa6EDhcQLT27vTfCNGFHtFIRHhDv538HZQgUK8CKAjrdWUxLwhAAAIQgAAEIAABCEAAAgECKAhxiUAAAhCAAAQgAAEIQAACEAipAArCkC48pg0BCEAAAhAoUoAT3ekPiYj/Pl70YB9PE3tXuqmlPyqyz+BmItzanf4XJrqJiLSDDR5njS/PrE3+MrgDRECgOAHd7Pu/RHzj/iPpJz4iX3F7Ot9TXI9oBYHqEkBBWF3rgWwgAAEIQAACVSsw//reeKSh+YVJheDUXH/p2sYFpZ5Au/mDuVna9/y0/QptdHuMZKnHRX9hF7A03Vw8QkQNuSVYjn/u0Tlb7/rAcNilMP/aFkBBWNvrh+whAAEIQAACFRPQTcf/5bgp34Ai/M3BnuQ7SpeUsG6ms4fdncnd+adc2/hw6cZFT2EX0E3H/yPE3AAHz7WNSNitMP/aFkBBWNvrh+whAAEIQAACFRHQu9NvJ5FvqQw29/jYnIdWXjKkEhsU09qV/iCzfCYozv++JT7cuM1aMaoSixgI5BNIrE6/WrLyayUloX92e4zPK8UiCAJVKICCsAoXBSlBAAIQgAAEqk1AN9OPEMl8lbw0phUDKWOdSmxQjG46fmHZHBTnf88sSzKpzvtUYhEDgXwCelffr4n51YpKQ65tzFGMRRgEqk4ABWHVLQkSggAEIAABCFSfgG46amf97X+2U1IZu3NVKWZR4LgfytidSncTS5Eb+qhfAd10/PcC46ozdG0Dv1OrYiGu6gRw8VbdkiAhCEAAAhCAQPUJ6KYzlmczmcMSZtLMjN3h70I6409BBaFG78usNf5zxoOig9AL6KbzDBEdqwQhJG6PMbHzrVITBEGgmgRQEFbTaiAXCEAAAhCAQJUKtHalv8EsV6qkF43Q2TvWGL9XiQ2K0U3nf4jodUFx/vfRaKx1xy2XPKISixgI5BNImGlbSLpUlJjogYxtnK8SixgIVKMACsJqXBXkBAEIQAACEKgygfnXbzo20jDu3zUJ/JTy8bl2c0NrljQ3cFCiMdc2pjkeQKE1QiAwWUBE07v3724b+MmORo979FOXPhsYiAAIVKkACsIqXRikBQEIQAACEKg2gUR3+noR+WS+vCKevLT/1s6H88XoKzf8A7FmE9M8ItpHQne7dvJaYvYmt0t0913oCd/MRIsDN5aJRE9111z6RLWZIZ/ZEUisTL9aNPk+EZ1wMIOd7PHFmVuTv1HNqNXsew8T538E2ZMvuLd2/m/VPhEHgWoUQEFYjauCnCAAAQhAAAJVKpDn+Ilx5rGXZFJvy0yXesLaPE9Ghvw7KTl//xDSlg7aHX0Lrt149Fiz91cialRgGNYi2faBNcueUohFSAgEdNPxr52JQnDqjHe6tnGiKkOrubGTyduQK15IzEG7syTvyqrmgzgIlEMABWE5VNEnBCAAAQhAoAoF9NWbTuHxsWXE1EZCAxKNrS/urppw+6qNLxGRV5FH+6SZH8hYySf9Kbd2O+2aSCcJn0IR+mNz43DfNmvFs6T4CJ4wLWahLUF8GvGVEY03b1/bsTMoFt+HRyCgGJyAKKgoPHhdLyLRkkzZmEbaDwbs5P1E9OIdbev3DfregWtI+M37B2H5sdvUdhdZr8C5mOG5/Gp2pigIa3bpkDgEIAABCEBATWDBtRsbx5q9fiI6NUeLx2PDWvv2Ozr2qfWWO+q0VfccF/UaHst1V49JHhSiKBG/ZiZjHNZWZMDt6WwvWX/oqOYFDj4mqnSYPHv8mkIeH82Ho3f3fZGE/yFnDMuX3FTn1TWPiwnUtQAKwrpeXkwOAhCAAARCL7C8N6K3N/tHRuT7b764/cMxWrdCaRONqaYnWL1zmkead1fa+rxFw9F1K4rLudK5YrzyCyjeHZxIpOC7hLlmoJvOfxPROwJm9w3XNt5ZfgGMAIHiBFAQFueGVhCAAAQgAIGaENBNZx0RXaGQ7Ldc21iuEHdEiG46O4io4nfrsvHocY9a2N2xmDWrxzaFnFnpz3+mu+EWsvMudiKtxyuufuaEgrB+1hIzgQAEIAABCBwuIMJ6d/qwnTvzEbmppEbMUgjjomu2xJ4+5slZeU8KBWEhK1X/sZUuCHWzbzMRX6gmK/e5ducStVhEQaCyAigIK+uN0SAAAQhAAAIVEzjV6muOjfCQ6oDHt5/csPUDi/3HS5U/p3etP1XjiP/uYMU/eGS04uRVPWClHxnVzfQokcTUUHjMtZM4J1MNC1EVFkBBWGFwDAcBCEAAAhColMBCq3fOUAHv9rXEhxu3WSsKuttXwMHxpZ02NpUprWcd9FbpTWV00xknoogiXda1jahiLMIgUFEBFIQV5cZgEIAABCAAgQoKWKLpI2nljWKKeWS00LuQQbNXPXYiQo3z+u2LdgX1h+/DJaB4l3DaDWVO73KWakzLialFI9oWYe0z0x1topvOdiI6Q1F4h2sbCxRjEQaBigqgIKwoNwaDAAQgAAEIVFaggA1f+l3bUP3l9rBJ6F3OOLHynZIggF20L3omNY4PTHcwfYQ8vd9eOhjUEb4Pp0AxB9O3da2/yOPI96cRG3RtQ5/63ekf+fa5WrTxARVlb3zfeY/c/vYHVWJnI2a+telYbYROiTHtyzY1PpqxluydjTww5uwIoCCcHXeMCgEIQAACEKiIwMHzAZ8OGmxcGz3+sbWXPxMUl+v7+Wb67AjJQ+ptxSNiLV+8//jq8N746zzhm5noTH9TSBJa6/Ykv+Of+q0+FiLDKHDw8VG/wDvh4Px3sscX5zp7sNXc8AYm7af5nIRoz6BtHDU1ZqZ3JGd7bVrNvk4m3pAjjydiw9rLt9/R8cJs54jxyy+AgrD8xhgBAhCAAAQgMKsCQQVblviVj9rJ380kydaVaYM16ZtJH1Pa/sy1jdeXsD90BYGcAsq7kzLd4KaM23MUhc8T0dxpeHe5tjGvGul107mBiG7NWwgzHTuYMp6rxvyRU+kEUBCWzhI9QQACEIAABKpXwNocbR3ecyMz+78EziGiPSJy22DznFvIWuJvjjHjz+ld6X/UWL4w444OduDGkxGyWPnYjFKNi37CI9Bups/Oqt/d9lzbyLmJjN7lXE5M/0VELQf1hkjoPW6PcU81aratXn+Sl408GZgb0x43deSd0cB2CKgpARSENbVcSBYCEIAABCBQvQK66fyeiM4qVYaCuxOlokQ/0wjo3c6NJPQJVaCZHmavOk6543TT+QERvUVpnEj0VHfNpU8oxSKoJgVQENbksiFpCEAAAhCAQPUJ6N3OLhI6ulSZNY7LCX+5vTPw/cdSjYd+wifQ1u18whO6UXXmxRSEF1qbo48+MxK56rjLxqwqueOt/JgsEWlE7x6wja+qGiGu9gRQENbemiFjCEAAAhCAQH4BEW67cdPZks3ufwePI5H/Gbjl0t8RK27GUkT7RNeGC4S1n5dyaY5/7uSGrXctHitln+gLApMF2rudt2SF/LtlSh+/IEysuvfl5I2/l1hOJpE/NsdjX9pmXfrs1A5azb7rmPjTh///PMaSfVOmZ+kvlAYsU1AhBSFrdH1mrTFlHmVKDN3OigAKwllhx6AQgAAEIACB0gosuvPO2LMDpy8R8d4vRO/I2TvzVzQv8rkB+5IHpysO9ZV9HaRxOmd7T5LurZ0bp36X6E6vEpE1pZ0RVe1mHCWeJ7qbVQHRdFPxrE6mTSR08YGbZkd8nnRt4zQi2v/Oq246vyaiV083NWZenUkl187W1HXT8Y+VaFQZX5PsxQM9y5SK5oXW5jnDe/dcK6ItZvHGmLT0gN3xNWK8C6xiPVsxKAhnSx7jQgACEIAABEokkOhOXy8inyykO9a0CzNrO348uU2ie+OVIt438vXDrL0jk+r45kRM66qNC9nz/lDI2CqxOGtQRQkxpRDQzY23Enn+Zksz+gjR+KBtxPRu5xOk8BiqaNpZg2s7ts1o0CIb66azmohuUWkeG35Z0/Y7XrIvKFY3Hf/ojjfkimOSD2Xszs8E9YHvZ0cABeHsuGNUCEAAAhCAQEkEEqZzsxB9rKjOhISY/N8F/F1Go6p9xIa1pu13dOz/BVE3008RyYmqbQ/GDRNR83RthLw3DtpL7y+wT4RDoCABvdv5OHn00YP/BoLa+nfUmoKCSOhrxPSuwLj9AfxX106epBZb4ijL0vSRxdmgXoXpPwdTxvuC4nTT8Qtb/7zQaT8oCoMUZ+97FISzZ4+RIQABCEAAAjMSmH/9pmMjDeNFHSY/k4GFxBy0O3tIhPXudKHHQmSzo8NHPTp3+T59JP1hIvrogTPcZIRJu6M5PvQv26wVozPJD20hkF9AInpXekyhEMwSaZ+KDdNHx5o9vyAs+cdNJTXld3tLPLrC0RNbXNs4N2jYRNfGC4Q9pfeH3VQygsdHg0Qr/z0KwsqbY0QIQAACEIBASQR00/l3Ivq7knRWQCdM9HDGNl5qWZZ2t8JdhomumfkzmVTH9USKm9sUkBNCIaAqoJuOf2cs13uAk7rgXa6d3H+gfIFnFaqmsT8uwnxFVqTbv9kuRH/UWG7KpDrvK6iTmQRbm6P68J4vEPM/TOpmREiuHLQ7+1S61k3H3wn4OJVYTfg9Az3Jr6jEIqZyAigIK2eNkSAAAQhAAAIlFSj1MQ8FJOdvoHFKoXcIs/HocY/m2I2xgHERCoEZCbSazrVM9FmVThqYzng4ZfS3dfWd5zH/UqVNiWL2xYa1E7ff0fFCifpT60bkwAPkBf7BpqAdS0W+menpzL3plVqWiCqDAArCMqCiSwhAAAIQgEAlBHTTGVF6r6n0yXzDtY13+t2q3W05kMBsPh5XegL0WIsCraYzxorvyzLzNzOp5Dteam0+ft/I0M5Kz9eNt8TIWuK/31vVn0IKQiK+x7WTb6/qCYUwORSEIVx0TBkCEIAABOpDQO9yfkRMSyo9G2E6YzBl9CdWpt8pmnxdaXymW9yU4b8viA8EZk2gkOKFiTdn7OTfHPzDh6gkLUJPs0Z3quwyqtDft1zbWK4QN6shuun4G0w1qCTBLKszqc5ZO25DJccwxqAgDOOqY84QgAAEIFAXAq3mprOYxn9f2cnwL1w7+dqDvyQP5dstdHJeMU07cfvajorfZamsDUYrpUDC2tzUTBQ9a+HOkXUrVgTuiKkydoEF4Y8ydvJv/X5bzb6rmfiuoDE43nJMxlryfNA5hEH9THzv2ob/rqNSMaraZ6njEmbfdUKsdHB9S7zlqG3Wkj2lzgH9zUwABeHM/NAaAhCAAAQgMKsCuulsJaJzKpTEH107eZb/jtHLutYftZcjyu84scYXZNYmK/keVoVIMEypBXTT2UJEiw7r1z8ihbJ/6/Ys2zyT8XQz/TyRzFXqg+lzbsq4diJWN/v+nYin3cRJi/KbB25J/mQivtXsu46nFEr+WYWqj6z6/Zy3aDhaqmJYac5FBulmeoxIgo6uud+1jTcWOQSalVEABWEZcdE1BCAAAQhAoPwCwq1m+rdMdHYZx3qMhN4djdLObFbrIPbOFKHAs8km54OCsIyrUy9di2i6mR7PdxwEM6/NpJL+oepFffSVm84hbdz/I0rgJ3vSsc2Pfvh1/nu6hz76Rze00aj2K2LavwOp/9GIfjewaHgxrVgxevAomFuJ6QoSaiChn5OmfaTJG9t+SvPRI9tp39GREfWjYmqlICRLovrIxpE8ReEfXdtYGIiOgFkRQEE4K+wYFAIQgAAEwiJwxoe/e/p4LPrdKXfxvsrxnVdnrPeX7GwzfyfELPOXylwYFr1seGS0aLrQNFQ9vkCLcmLglqRbLEyi28mIkJ6vPTNtyKSMZZNjTux22uNCO6ZpJ0JiM7F/hESuz69cO7l4ee867YGtzcobxdTCI6OTJ3vw8dGeSe8UPsOiGZmejl8Uu15oV34BFITlN8YIEIAABCAQUoHWLsdkptR009dIXj1gd/62lDyt3U47T/9LaymHKqgv1zbwO0dBYuEKbk/9YG72uX3PK876Gdc2jleMzRmmdzm/I6ZXTNPHEZu5LLR6jx0aaX5mJmMK0e8GbeOVeldfPzG3BffFGddOKsQF94QICOQTwA9nXB8QgAAEIACBMgi0dfdd7AnfG9R1k2SP/nPPst1BcSrfL7h2Y+NYs1eyu44qY6rEaCLnD/R0PqASi5hwCrSt2ni153mBm7ZM6JTiDwyvt9cf9diz0ZuJxC8MPSL6ZaY9+Qn6AI9NXQXddPy7epGZro7/b4G56c9ZUit+hejdg7bx1ZmOi/YQQEGIawACEIAABCBQYYECdjOc0UYLliXaV4/9XmzvwDwt2vDcl4VkRYWnmnc4Jro0YxuBhXE15YxcKi+gd/X1EPNK1ZHdeDJGFis/eqna70TcQqu3Yc/e5pZ547HRh+acNqaPZPyjFWb8mbhLWMh5iKUofmecODqoawHcIazr5cXkIAABCEBgNgQWWpvnDI0MKd/1K+YXvvnmd8+OUNR/L6d5NuaoMqYwrRtMGVVVoKrkjZjKCxR6h9DP0BvPvvmR25cd2tWzFFknupwPCdOnStHXdH24qaSmd6f9O5JKn1I+RaA0IIJCJ4CCMHRLjglDAAIQgEC5BdpuTOveuGRUx3l/fEvEsizlXxD1lRv+gTTti6r9z1acMC0eTBlKOzrOVo4YtzoECnyH8FDS+7ThE59cu6Ik51vqXX0/I+b9Z2yW7SMksREtXsij3RGNX9a/NvmXsuWEjkMvgIIw9JcAACAAAQhAoNQCiZXpk0WTJ1T79e8YELPS4dPzb+w7LTLOj6r2PYtxw65ttMzi+Bi6xgRUdxmdMq3drm0cPdOp6uaGy4i0jTPtJ7i93N8Wn7NkYGToiPcUp2sbE+307T0dtfBvPnj6iKhKARSEVbksSAoCEIAABGpZYHlvb0R9a3nxXLtTebMKvdvJUMCW+dVgh8fcqmEVaiwHhXMIc82okD+oTCeidzlevvMPSyXJHv+vzK3J/y7gHWNy41siVMATBKXKFf2ERwAFYXjWGjOFAAQgAIEKCuim81MiekPQkEz0zoxtfCMozv8+YTrfF6KLVGJnK0ZEHjnh+VPO2HrXYuU7ILOVK8atTgG92/kdybRHQhyRdEt8uHGbtWJ0JrMppECbyTh+WyH+L01knjAtDerL//c02NPZGhRXL9/rXc6ZxHQLEb2OiJ4Tos+3x1u+cJ+1pGwbCNWL3UzmgYJwJnpoCwEIQAACEJhG4EJrc1ThsbBfubaxSAVR73L+hZg+rhI7izG3ubahvFPkLOaJoatYoO0jad2Lqr+De/xzJzfM6A8Qlmj6SDpbAhJ/M5rrVfphL3uZaJE+Iormi3fjW2JkWfVfDFmWpo8s/gMRvTyXB3YrVrmqio9BQVi8HVpCAAIQgAAE8gr4W9cPjcR/S8RH/JIjzP82mEr+kxKhCBeyK6FSn6UKYtpKQvcMx1s+u9NasqdU3aKfEAtYm6N6Ae/YFbNL71Tdgu4QCj1LTMce6oN5m9vU8RqyeFS5HyFxewyttatvkJlPP2K1mfa4O4aPo3Uzu/NZK1eRbjpPEtFJ+fLFeablW00UhOWzRc8QgAAEIACB/QL+MRT79o6cNy7ZkyMsDx/T9sRvtn7gA8qPVBa6SU0F2ftd2zijguNhqJAI6KbzAhEdFTxd+bVrd54zXVzC7LtOiHuIqOFgzDMsmpHp6fCPbDn0KeQdwvPiicZ11iuOeES1tds5hv1iUfEz8W7gQqt3zvDelivE8xYyRwaatIbeP619yzOK3dR8WGJl+p2iyS7McBEAACAASURBVNdVJlKK4l9lnLDFoCAM24pjvhCAAAQgMHMBET71Zic+j0a0bbR8mCw+4siIhdbvG7LDOxrnPH/a3ukeZ/MfK31i+IV4diQ2uv2OjmkPvm4302dnSR6aeeKl7WE4PnzUTmsF7gqWlhW97f8jSu+coZHmwLM8XTsZITry3x9ZEtVHNo4QyXSPZP7RtY2FE9jKu4wyveCmjLm5Fqmta/3LPI78SXUBY8NaU75/96r9VHPc/Os3Hcst3jGNu2jn9js6/CL/iI9uOkOq56nGNO3E7Ws7SnLMSDW7VTo3FISVFsd4EIAABCBQuwLLeyN6e7O/AcwVUybRP66NnvfY2sufSXSn3ycid0/53hOmSwZTxg/9/z/RteEC4chPiCSWA8M/ruIxInoNEfm7jw4w88dz9DmbjvvGtdHT/PnOZhIYu74FTly9/qR4NuL/e8j1++qoG2+ZS9aSvbmLjPRYnmJwosn9rm280f8fupl+nkhyFnqT+893hyphpU+WEfXjZg72K8SSdpuMt5HFdfOuYMJ0fixEbzpibUS+5PZ0Xj35/1d+zNa/EDS+ILM2+cv6vvIrPzsUhJU3x4gQgAAEIFCDAguu3dg41uyNTPPL6cEZ8S+I5ILppickn9FYe0pE1lQxwQiJfI6YXkFCv/eyso6j2mUsdD6xDGRJu/NRO/m7Ks4fqdWZQGLl+ktF09YQ8XwS+ouX3Xf9I7e//cHppnnwMdFPqzC0xFuOGt47fIXqH1zyP7IorJvpI54WUMnDj/HGs29+5PZlP1GNr9Y43UyPTvPHromUd7q2ceLE/0BBOPsriYJw9tcAGUAAAhCAQA0I6Kbj37U7tQZSnWmK33Ft4/KZdoL2EJgtAd10/MevJ94ZzJsGs6wW4U8QkaaUL/MVbir57emLUeeXQnSeUl85gvZpwyc+uXZFzT4SqZvOFiJS2DmZP+nayY/4BHhktNirpXTtUBCWzhI9QQACEIBAnQroqzedQtnxx+t0eodNKxqNte645ZJHwjBXzLGWBSSid6W7ielC9o9uYN7NQrcN2MmfFHLHiYjvIRLlP4AwcW/GTl6ZT07vcsaJ9z/uXcxnt2sbRxfTsBraFGI/cbcVm8rM/sqhIJz9NUAGEIAABCBQ5QKJrr5/FOYvVHmaJUhPvuXanctL0BG6gEDZBFpXbbyaPe+unAOIf+57zncOc+fDvJtEFHYzPdBcmDYMpoxlQZNLmOmHhOTsoLhc37uppEbMUkzb2Wxzxo33nj4+PjaomkNbvCU2ceA8jp1QVStPHArC8riiVwhAAAIQqCOBhNlnC3FXHU0p51Rq9RfRel8XzO9FAd3clCQad2bLhIk+nrGNm5TGt0Q7Y++Gdo9jr/Y8b51SmxeD9rHWcElm7cU/LrDdrIW3d3/v3KxkH1BN4Pi4tGy1Oof3x+NgelW2ssShICwLKzqFAAQgAIF6EgjJHcJvubaBu4P1dOHW4VwKeSSxHNNv2z181H2fL+yolbaPpHUvKpki83nUtY0jD64vsrNyNpvJHcKJvPQu50xiuoWIXkdEzwnR59vjLV+YuJNYzvzD3DcKwjCvPuYOAQhAAAJKAiF4h1Dc/uEYrVuRVQJBEARmQaDd3NCaJc2dhaEnhux3beOMoPET1uamyOjQgrGsN68hFn2CTqRHxx7zch6PEdTXge/lV67dqbBRi1pv5YwqpGDHIfPlXInC+kZBWJgXoiEAAQhAIKQCdbzL6OOxYa293g/IDullW1fT1rudj5DQbbMzKd7l2sl5+cZeaPU2DI3Ef0vEL88RN0ZEuc4dVZqO+2atiTo6/N1Tq/pTzC6jVT2hkCSHgjAkC41pQgACEIDAzARKcQ7hzDIoTWsmeZKIvkdCD0g0tt5dc6l/8Dc+EKhqgdaVaYM16atAkn8gorMmjeMx899nUskv5xv7QmtzdGBkyC/6yvTRbnTtjmo+v/TQvAs9h7BMYOi2AAEUhAVgIRQCEIAABEIusLw3orc3f4OIrpgi0T+ujZ732NrLn0l0p9+nesh1pTUj5On99lLlXQArnR/Gg0AugfnX/yweaXj2wOYjs/ERucrt6fxavqF10/kpEb0hOD1/91Ap+PdvIVo/aBtvDe6/OiISpvNjIXrTEdmIfMnt6by6OrJEFhMCBV+QoIMABCAAAQiEXkCET73Zic+jEW0bLR8mi72pJgut3zdkh3c0zjnjtL1P9z85Wg1mnmRPe6RnWSjOU6wGb+RQGgHd7PscEf9zaXorsheh/3Z7jP+Vq/Xy3t7IA1ubx9V6Fo89LymatoaIX6PWxo+qzSNh5l+/6Vhu8Y5p3EU7t9/R8YL6fBFZSQEUhJXUxlgQgAAEIBAagVZzwxuYtU+T0DlEBZyLVkah4587uWHrXYvL+FhbGZNH16EV0E3H35ClcbYBmPmyTCq5aWoeiZXpk0UT5Uev3fiWCFmWp5uO/4ckpd/FI6xd1Z/qyHuXcrZ9MH7tCihdhLU7PWQOAQhAAAIQqKzAomvujD19zGmPEdEJlR05cDSlHRIDe0EABCosUMjOlZNTY6LdHtHXmcgg4lOLeVRzylSzrm1Ep06/7ca07o0XdqyEkHyfRH7ErKVUOLEjp4oSYooVQEFYrBzaQQACEIAABHII6N3ObhKaU204w/Hho3ZahZ2fVm1zQD7hFNBN52kiOq7I2XtEfO/Yc49eETvmNP/92WL72T/8++NbIpZlHfaIeHtXenGW5cEi8/N3Ds1/91PoBrfHuL3I/tEMAoECKAgDiRAAAQhAAAIQUBNoNfuuZuK71KJLHvUoEc3P0eu+cW30NH/Dm5KPiA4hUAGBhOn8k39A+UyHEvL+0YuyE8tq13nivYRJe4GYN4p4/kZRSp+2eEts6iHputmXJWJNqYPcQc8S0bG5vmLm1ZlUcu0M+kZTCAQKoCAMJEIABCAAAQhAQE1gNt918h8pW2j1Hju8r7mTsnQmsTzhMfcNpox+tewRBYEqFRBhvTt9xMZNxWTLLEsyqc77JtqeavU1x0Z4SLUvN5XUiP2dQg98EtbdTTJywohq+5xFH9E7Kc73yYj3cSYtQUTjpMn3M2uTdxBxdiZ9oy0EVARQEKooIQYCEIAABCCgIFDsu04KXQeG4B2jQCIE1JhAwvrOPG+k4ZtMcnEpU5/6b0X53y3THjdlHDU5lwUrN54xpnnbZ5ofi3ddpmfpZ2faD9pDoBgBFITFqKENBCAAAQhAIIeA8i+Wpdcbdm2jpfTdokcIzI5AwkwvE5LvlmN03jd2TObTb3t+om+9q+9dxPzVwLE4e46bWvbryXGJ7u8lRLIDgW0VAoTprsGU8QGFUIRAoKQCKAhLyonOIAABCEAgDALtK/tektXYf+/IP1LC/+wmpg+R0KeJ6LA7CJXwEOL1g3ayZg6troQJxqhdgdNXfucMTYvN+K7bdAKeZM99pGfZlsnf613O14npnXnUbnRtY83U7xddsyX29DElPGc0Ej3VXXPpE9TbG9G3Nn9ciLqYaP/Opsy0wSN632DKeK52VxeZV6MACsJqXBXkBAEIQAACVSugm86/E9HfVVuCbv9wlNatwPtG1bYwyKdgAb3LeY6Y5hXcULEBR/g1mTXJ30wNT3SnLxURh4gih75j2kOUfdPUO4P6qr4Ps6ddSiQxIXoTEc1kU5lDwwnRwxyLXUJjY9O++8vM78+kkl9WnC7CIBAogIIwkAgBEIAABCAAgQMCupn+KJH832r0iFDjK/vti35XjbkhJwioCizv7Y08sLV5XDWeiPzHNdsKiKe92dicp267ZNqNZCzL0u6jN2v33XRhdvIGMv4YbV3rl3ocWV/IeGWJzcrr3Ns6f16WvtFp6ARQEIZuyTFhCEAAAhAoRuBCa3N0YGRorJi2lWjDRO/M2Iby9vmVyAljQKBQgYXW5jlDI0O71dvJ/2Ni/47eK2WaoxsO70s81+588Q6g+kCkr9x0DmnjWwtoUsZQFtdOluSuZBmTRNc1IoCCsEYWCmlCAAIQgMDsCrSbG96QJe2ns5vF9KMz82WZVHJTteaHvCCgIpCwNjfJyNCMjnHIN47naQseubVjR1Au/p3Kddu2CU06hL6ATaP8R7fHSOgJT5NVEdLuEJETgsYs9Pu52dich/Lc6Sy0P8SHVwAFYXjXHjOHAAQgAAEFAX31plMom91MJC9TCJ+1kJb48HHbrBX+Adf4QKCmBQoovAqaJ2fHL8jc9tZfTtfowL/18T8R0dFTYu7geMvHZGRIeTOXyUdbzL+x77TIOD9aULIKwdo4JwZuT7oKoQiBQF4BFIS4QCAAAQhAAAI5BBas2njCuEfvF/LsSgEJ0b1z4sNLt/2Bsnp7/Eoh7UNMcq7C+M+6tnGcQhxCIFD1ArqZvp1IPjzDRPcebL+LmG51U8bt+fpr63aWe0K9eWL2EVGjak7nLUpG16148VB53XSeJqLS/hud2JE0188va+PRY0PjC0jTmmKiDW63L3ts6vuQqnNBXP0LoCCs/zXGDCEAAQhUpYBlifYV+v7x2b3DzVFuHBIt0hShUS8aG9m5zVoxqp60cGt3ep5GkbkNY+N7/nKb8cxMfvFp6+o7z2Oe9i6Cel6FRfrF4KBtXDq1VaLb+bIIvTdfbxFqnNdvX7SrsBERDYHqFSjFTqPZ0exLtFjs1ZqWjYjHD7k9hn/3T6bOut3snZul5kPnEpZCpS3eErvPWjJ5cxxNN9N7/V1Jp+s/OjbeOh6LuUSi9Pt5jjGobfX6k7xsxN+htPmIcTzvavfWpV8qxfzC3EdiVd/Lhag9IrKz/9knfkN3faBq3y1XXSelC061M8RBAAIQgAAEAgUsS9NHFm8gomSe2Cezo9GzHv3UpXkfgdRN5wYiuvXIfvhfXTv5fwJzmRKQMJ1LhKji7+Gx8D9lepL/Nl2+elffSmLuyfH9sxFqbEcxWOhKI77qBcT/Q8/GTUxycSlzFRJz0O487N+S3tXXT8wF7VQalNPkR0Ynx+rdzh0kdPjPJpFfuc1bzyfLGm9d6VzDGt0Z1D8R/da1jVcf1veBR14fz9eWiXsydtJU6B8hUwT0rr6fEfNrc8AMuXZyLtGLd4RrDQ8FYa2tGPKFAAQgUMsCy3sjenuzv2HEtH8lnzw9/y/mOz751kdyTVk3nR8Q0VvycAy6tqGrcs3mLqK5/tJ/RN7LeyPt7ccs9GjfWcT8fHPT0AN4Z1B1dRFXqwL+JjPayO7FWeJWZu0VIrJqxnPx5AvurZ3/e6Kfkr+zKJR1e4z9h8lP+5GDdwGZj7hjqZuOf4cvb4EaG9aatt/R4T/Geuijm47/ZEXgz9YIeXq/vXRwxo4h6kA3nT1E1JJvyq6djNZqUYiCMEQXM6YKAQhAYLYFdNPZTEQXFpJHrr+0t5obVjBp3wzqp5C/hreazrVM9NmgPsvx/fHPndyw9a7FNf/YUTls0CcEJgTaV6VfmvXkz6UQyY5Gj5t4AqHkBSERuamkNoNH1znR7XxXhJbmmOvOvdlY29RzFM+48d7Tx8fHVIu8n7m28fpSOIahD7277w4SVnniZMi1jTm1aIKCsBZXDTlDAAIQqEGBou/ARbxF7pqlv5ryl3CPiJT+G+bGkxGLbiZr0vbxh/GJsHXzzXz3yOI/ENHLZ4O2cVxO+Mvtnf6mE/hAAAJ5BEpVvDHRAxnbON8fqlR9Tk77vEXD0XUrVvjHTxT9ee0nfxZ//KmnL2SOvJw07YmoyP/bvrZjZ64OE6uc94pHX1YdbOof2vyfz/ctvFBo0kY4qn3Ve1wh14f73GMNtfhOodJ/TOt9oTE/CEAAAhAov0Ci+zsJkdhAoSMxSSpjdx56TMyyLO3ukcXF/qJ1f5NkO/7cs2y33u18hIRuKzSfcsQL07GDKUN5S/ty5IA+IVALArrprCaiW0qQq0TYO9/fFEQ/5jR/Q5kjN2EpwSD7uxDPIU07n4ROIGIhkcFolIwda4zfl2qIhNl3nRB/WrU/vyBcdM2WuU8f88QTRByf0m6baxtnqfZV13GWaPpIWvm/NxH2zutPLX2w1kxQENbaiiFfCEAAAjUq0G6mz86SPFR4+nK3a3f+3US7ou80Hj6wvyPn3MJzKU8L/y4mWezf9cQHAhAIENBN5ytEdFUJofz3mqcWRSXsfpqumH7vpoyzSzFQorvvQhH2H8lX+QxnNa8j4mn35Qt241saybIK2PFZZejaill0552xp/tPUzfQJOmu7dxYW7NUfNym1iaFfCEAAQhAoPoEEivTJ4smTxSaGZNmZuyOF3cFFGG9O11PxdO4axuBG0EU6oZ4CNSzwEJr07FDI+PP1PocmeTBrHhvjXH0OKLsrkWL9j5WzKOmC63ehqGR5sM2mZnWRuQhYn5lsJ14rt0ZCY6r5whh3VT/7w1rcmZmbad/vElNfXCHsKaWC8lCAAIQqGGBIgu5mGinb+/peHTyzPUu5xliOraGNV5MneUqN9X5tbqYCyYBgQoKJLr7PiPCHyzhkP6doIYS9ldkV/xdN9VxeaGb0uim80kiur7IQXM248jYazJr3vabUvZZa33ppqP+zrpt1GRtVZNJ19qFhHwhAAEIQOCAgN7l/AsxfVzdgzOunTxi+/WE6fxYiN6k3k+VRorsdns6j67S7JAWBKpaQDedbUR0ZimTHNqZPbrlhMgLpeyzyL6ed23D/6PXEcdS5OtP73LSxNRR5JhHNGOib2Rs452l6q8W+2nt+t7fMmd/GJi7yM/dns7XBcZVYQAKwipcFKQEAQhAoJ4FEqbzfSG6SGGOe9viLUfdZy0Znxyb6O5bJcJrFNpXfcjC4f6m793xQbXHvKp+NkgQApUT0LucJcT0o5KPKPR2Yvp2yfstokMWuivTY3yg0KaJVenzxZN7iOjUQtvmiP+haxsqP69LMFT1dqGbju/5tjwZ1uyRE/6cUBBW77WHzCAAAQjUrYBuOkki+s50hygz0ccztmHl+ut4IVuAVztgJpXUOMfB1NWeN/KDwGwL6KbzCBHNL3UeGsk1HvFdpe632P5mcp5hKX5WMmsbMqmOZcXmX0/tDt4p/MER9RPL59xU57W1PFcUhLW8esgdAhCAQK0LHDwD0LIssSyLb7rpJslXILWtXn+Sl408WevTnsh/6llg9TIvzAMC5RYoRbGTK0chGmeiaLnzV+0/Ftfmbrc69j/C2rY6fZFk6Soh72iNtYfHIt5nHr2l87FcfS26c0vs6f4n1XfHnCYhTbTlAz0d31LNNxxxwovuvCu69YlrsvWyOzQKwnBcuZglBCAAgboQOPgo1C/qYTIH74LeVA9zwRwgUGmBchWElZ5H0HgxTTtxVLxWFtoyTewzrm2cSESH7bzc3rXxXVn2vhrUf9D3+KNVkFB9fI+CsD7WEbOAAAQgEAqBBeaGs8ZIK9lhzrOItte1Df8g7II2jJjFfDE0BKpDwLKi+shi/71brToSKm8W2Wz2VZFI5Lf5R+Ex107u3x31Qmtz08DI0B4imvFxEZ5kz32kZ9l0hWh5J47eKyqAgrCi3BgMAhCAAARmIlDQWVszGajMbVnIzvQY3WUeBt1DoO4EdNPxD5FvqruJ5Z7QxB+Mgn9fZ/qcmzKuLc2dU5YRlgV/TRn9IXEO/TSDL7DQEwEAAhCAAAQqIXDSDfe2NEXGvjJlJ7f7o9nY23fcdslfJ3LQTWcXEdX8UQ1uPBmpl/dPKnF9YAwI6Kbjb+n/P2GR0EiWesQbVOfLxH1C0qkaPxHHWVnC0UiDZMf3RfdGf739jgPvLBb1Wd7bkGhv/qkQnTfRfv97mey9w00trYrdW4uaV503QkFY5wuM6UEAAhCoBYE2M/0mj+TH0+bK9PduyvgP//uEtblJRob8uwS1/cl67e5tSwdqexLIHgL5BITbP+osyI7JAqHY7riM/vbPPct2F2umm47/uPhZxbYvfTv+EZH8TRH9Zli064U9f6flnB8mXkWs/UIku7mI/pWbeKK97ZGeju8qN8gTeMZq5xXjWfpdnpAdrm0sKMVY6KO0AigIS+uJ3iAAAQhAoECBM26498TxyNhTQc2EafFgytjqx51+w4YbtYj2iaA21fy9aNobBtd2hOZuRzWvBXIrvUBrV/oLzPKPOXoeE6aTBlPGc4WOWk2Pi0aYLsoK+UcQFPxx4y1HkbVkz6lW3/ENI7RRiM99sRPe4Xl8ySO3duxImM4lQrSp4AEUGjDzTzJNHX9LFh92zqtC09why3sb9PZmlTNV065tGEWPg4ZlEUBBWBZWdAoBCEAAAqoCuuk8TEQqfzUed20jRst7I3p7c2l+iVFNsgxxWiTyqoE1lz1Uhq7RJQRmVSDRnX5ARCYVOUemM641Hf/Y2rc8U0iiraazk4mOL6RNmWJ3ksYp8uT2Qvtnjz+cuTX5qSPaiTBNOZO03fxBa5b2uYWOoRLvF7T9KeOHKrEqMQnT+eXkx0TztXH7h6O0bkVWpV/EVEYABWFlnDEKBCAAAQjkEhBhvTt92HbpAVB+bF3sLjgWl5bHrc5hXBgQqCeB1m7nLax25yzr2kZB5/21ms7HmOjm2fbam43NaYqO/icJv109FxYvOn7eI7fk2bVTRNO7018joSuJqbDf0UV+RcznqObDHp+SuTV5xJmu/uP7Qt77POJjNaIBicU+637iksBH2wvZzCbCkfP6U5c9qJor4sovUNjFVv58MAIEIAABCNSwQGu3085Ct/i7nzPRbhHZIKwtYJILiOg5Ifp8e7zlC/dZS/bf4bvQ2hwdGBkaq+EpF5v6o65tnF5sY7SDQLUK6Kazl4gaVfIr/C6haLqZns07S7+NDWvnb7+jY1/CTH9TSFaozNOPmTjPTzf7PkfEHyCiKJF4RNoG1/7yFaevfu+ZWv737/IO5ca3xBIj596juqnM1PMF53evXxCRiP+0Rq7PkBvfMo8sa9onMwopCIn4Xa6d/LqqHeLKL4CCsPzGGAECEIBACASEdXPjz+hA4Rf4YaJLM7Zxr2WJdvfIrP6CF5hrgQH+QdD+X91vyNcOdwcLVEV4zQgUUhiIx52DtyadQiZXSP/B/fL/IZLP5YhLu/EtS1+557Xx3TJ+vNcYGW1raNy5/w9ZljToezf+gkReE9z/oYgXNImc53H2TwW0UQ/1JOne2rnRb6DiM/Hzd2KAE1evPymejRxxt/CwBITE7TGmfTpDZdyJ/jSNlg2sNZR3T1WHQGSxAigIi5VDOwhAAAIQOCSgm842IjqzEBJN5PyBns4HCvlFopD+Kx7L2rVuqmP/L5etpnMVE/lHaBz2YaKHx0eHX/Xop1bU/i6pFQfGgLUgUNC/Z5ar3FTn11Tn1WZuvNYj77Oq8QFx/+7axj/4MQusjUeP7913bKSpefjddPHTlsU5H2Nv7Up/kFk+U+j4QrKUCzg+otD+iejA+9UqB9Oz9vduqmP/js0TH91MjxLJ/vb5Pv6xFhk7uTRXTKvpjPH+u57Bn2g8dtIO68WjhIJbIKLcAigIyy2M/iEAAQjUuYDe5Swhph8VM03/sSXd7PswERe8OUMx45W2De+IRuStNBr7645bL945dUMIIuGXWs5x2VE+eXRMG2ncS4/6j5qVNgf0BoHqEiioINTkde7azp8rzUB9F8vJ3fl/eIlP7V9Irhm0O7+oNO7BoFbze29gyv60kDYHYuVxIj4mVx6F9zV9i9iw1jT550ti5cYrRZPPEsnxxDwq4vUO9o9cTetWjE7uZf71P4tHGp5Vfpd56qOmE33p3RveTqJ9K3BOAXcaA9sjoCwCKAjLwopOIQABCIRHQDedR4hofjEzjmnaidvXduzUu5wMMenF9DGLbZ5ybePkWRwfQ0Og6gQKOSvQjbfE6OD7xEETaTX7/pOJ3xMUN/l7Ju4l0r6jkfcHES8ea57T/xdrydOF9HGo4DEdKaLdX1zbeLluOoVsnFXEMEQTP0sLbdxm9r3KI/6Najs3nozQNHdQddPZTkRn5OsrGo217rjlEv+/GfhUkQAKwipaDKQCAQhAoBYFCrojMGWCrPEFmbXJX/r/d6vpfJOJlDdpqAKr77i2cXkV5IEUIFA1AouuubP56WNOGwpMSOjnbo/xusC4gwF6d3qERJpU44+Mk3e5dmdRG5m88oZ7W3ZFxvYUMPaINs5nDtyedBPW5iYZGSr7I+IRapzXb1+0q4Ac94e2d284NyvaA6rtzusfjq7Lc2SEbjr+O6HJI/oTkmgspqMYVJWubBwKwsp6YzQIQAACdSdQqoLQh1lo9TYM7YsvIo/aiLiLiF5VtWBCC90e449Vmx8Sg0CJBRZcu7Gx4bh47ESivRM7BecaIrFq45vF8+6bbnghenrQNk4oJD3ddPzdRWd45ExxRWFidfrVkpVfF5LvxKOVlSoI3VRSO/Kx9eCM51ubjo2MjCufBzndI6OHjXTNnbHEvNOTxHI+Mz3bEI1+688KR1cEZ4uIcgmgICyXLPqFAAQgEBKBUjwymvOXyu70vSJycZUy/sm1jYI20anSeSAtCAQK6KbzbSI64m44k3yIJfKYaHK6J972OfE5m7dZS/bfSXtZ1/qj9nLk9/7N/0kDCJHc4NqdnwwcdEqAbqafIpITC203NV6poJnSqN1Mn50leaiQsSeNw+V+ZFSIegdt48pC8pscW8Af9XBcTrHIVd4OBWGVLxDSgwAEIFDtAjPdVGa6+SXMvk8L8XVVOP+n3PiWU8myyv5eUBXOHSmFTEA3HX/DkSM2ZpmOgYV+mmnecuFh/z5EDh6zzsW8h7d/qAObpHjfmDE/8xVuKukXuMqfC993d9PASScU8tin59pGZGKAQg2VEzsQOOrGt8Rn8vNI73IuJ6ZAk+OfO7ll612LlTegKXAeCJ9FARSEs4iPoSEAAQjUi8BMjp2YbOAfVD+4b7h93MueSKR9nonOrh4jFvboXZlbk/9dPTkhEwiUT0Dvdu4nodcXMcJzrm0cW0S7uzjIgAAAIABJREFUvE100/EPRj9UaBXTv7/RTMZOFnw3Te9yPDpY1gaNK0x3DaYM//D5/R99pbOZNLowqB0LjQlT4PEPh/ph/qW7Y+j1lOedvqAxJ75PmBtvFvI+Nl28F6GzH1lj+Hd88alDARSEdbiomBIEIACBygsUdjC9EI0z0ygJNZDi2VWVn9MRI+5zbWMGm1pUwQyQAgRUBURY704XfRecmW/OpJKW6nAqcRdam5sGZrhBizBtGEwZyyaP13ZjWvfGZSsRHTfp/39Gi/KigVuSrv//nXrjvafHxscGVfKc/FiqvnrTKZQdf1yl3dQYjbWvkchdA3byJ5Pfr2Yt8thxjdkHt1qd096tW2htOnZ47/ivRA7u3iwkxPwfrp3cf/Zirs/86zcdG20Yv08m/hC3vw19000l30Wc+2zGYuaFNtUngIKw+tYEGUEAAhCYdYHWbqddE+kk4VMoQn9sbhzu22ateDYoMb8dC93in4/MRLuJ5XviaS8llkUHf9ma4aYQQRmU8Xvm/3FTyTeUcQR0DYGqETj4b3nHTBIq5n09lfESZnqDkHSqxE6NYaKPZ2zjpon/P9GdXiMiq6btS9Pu0CL8r5Hs7mdHvejLmBrynkUYHRtv3fHJtx46VkE30z8nkguKydVvMxxvOWrnwfcyVfvQTecrRHTVtPGR6KnumkufUO1vNuLm39h3WiyrXeeJ9xIm7QWO0FcH1iR/MBu5hGFMFIRhWGXMEQIQgICiwGmr7jku6jU8RkSNR/4iJQ9m4lsvUHlXRTed1UT7C8O6+QjT4sGU4d9FwAcCdS+Q6Np4gbCndmj8NBpBRxTMGNF/N9F/JLM7/RMiUvpjTdvu4aPu+/yK/Rvf6F3rlxBHflREHv7xDnMPayfyK7d56/lkWf5jrYc+uumMzegpCKGs22NEVXNU/dnr2skoEfs7t1bbR9NN569T7tYeyhE/h8uzXCgIy+OKXiEAAQjUnMAJVu+c5pHm3QGJP+PaxvH5YnTT8Q85rt7jIopaGd7h2skFRTVFIwjUoEAp7hCetygZXbeiMkWH4k6Z/a5tHDo4vZD3AnMs4bibSvqPvNN0xz3o3X1fJOFpH9FUvSxOPWm4+ecfXqG0qY2iAzGTm0kZCdUcKhWnm+lRIsn7HuWYZF/+eM+yP1cqpzCMg4IwDKuMOUIAAhBQENBNx388rD0wlOkGN2XcnitO9a/TgWNUV4DnxpMxsvAOTXUtC7Ipq8AM3yH0cyv2bLxi5nV61/pTNY74TzdM8+Fdrp2cN/Hl/nfyRpr3FTPWRBsReWSwp3PysRqHutNNx9986h0z6X+ibTRKr99xi/GzoL7aV6VfmvVEuVAq1yO9QXlO973e7dxBQv9Hob24tlG7rx8oTLDSISgIKy2O8SAAAQhUocCia7bEnj7myVHV1Kb5RaLs522p5lfiOGwmU2JQdFcbAjPYZZRI5CG3p7PiTwropuO/4zf58VGPmf8+k0p+ebJ62+ofnuRl9z4505Xg+M54xnr/3sn9+JuzRBrUD3sPyoGZL8ukkpuC4hIrN7xTNO3rQXET37vxLRGVVwBU+5tpnOrdTX+cbDx63KPWpYHvtc80p7C0R0EYlpXGPCEAAQjkEQj+6/rhjXP95X+h1TtnKPiR01pchy2ubZxbi4kjZwjMVKDYM/R439gxmU+/7fmZjl+u9gnrO/NkJPbcTPtnliWZVOd9k/vRzb7NRBx4zITy2Fmv3b1t6UBQfFu3s9wT6g2KO1QQppLadI+7qvZRsrgC70gzR5ZkUpcd5l6yXELYEQrCEC46pgwBCEBgqkC7uaE1S9r+7dVVPu+Pb4lYUw5mX7Bq4wljnudvBlBXHyHvjYP20vvralKYDAQKENBNxz+0/HLVJlok8qqBNZc9pBqvGndwoxtn0oYjo0zSlbE7P6Pax+GFmyPFtJvcRojePWgbXz283+D34AoZV/XRzkJ/jqv2W0iuRccWWhASXZqxjXuLHg8NDxNAQYgLAgIQgAAE6FSrrzk2wkOqFFN/kVh0zZ2xp485zS8GD72jo9pXxeP8s7VIfifMrHDw/U7XNk6seI4YEAJVKLDg2o1Hjx8nzUTNzzcTRYdGhr5IxFcS7d/tM8ss/9rcNLJym7VC+fFz1WnqprONiM7MHc/jbrwjThYftsNnUN+66WwhIv9InKI/GmuXDKQ6vj+l0PTziBTd6WEN5W7X7vw71b4KeOzyl65tFH0chmo+hcQVkDtFqFHvty9SOheykBzCGouCMKwrj3lDAAIQmCKgdznjxMG/xLDQukyPsWLKL0D+NuxH1wDqX1w7+XIi9otC1s30n4jopTnzZtpz/LOPHbv1rg/428bjAwEIzJJAjvcCc2TC466dzLs7Za70Z7jTKDVJ9ug/9yw7bHdm3XS2E9Gh3UyLZ+M/H/h5pf7RzU1JonH/LmreT1XdHTyYqd7Vt5WYzwnK3f++GvNXybtaY1AQVuvKIC8IQAACFRaYb6bPjpAEPuZ1/HMnN2y9a/GhIinR3XelCH+jwukWOBzvEvLePWh39k1t2Gr2dTJpXyGSiXPF9gnJtYN25xcLHAThEIBAiQUWWpvnDI0MBR2Hs39UJvlQwY+Pimh6d3rac+/yTodpj5syjpoac/pHvn2uFm18QIWCafxSoci3iHjOpHhPk+zbBnqWbVDp44ifaas2Xs2ed1fOtkLiNm9pIssq+V3cYnI9rI1lRfWRF//bMl1/LN51mZ6ln53xeOjgkAAKQlwMEIAABCBwSKB1ZdpgTY4omiYCtEj25IE1y56aTKabjr/T2zEVZ2R+KCLZzqB3HyPk6f32UjxaVPEFwoAQmLlAortvlQivUexp1LWNRsXYw8LaUz+YK7vGVnjZ7EuItQ8FnYXnN3b7hxtpXe7HYw8ern5CQC5lfCRdIrqZ9ndWXUFCMWJ+jkSudnuMe4rxqVSbMz783dPHY9Fpf14L012DKeMDlconLOOgIAzLSmOeEIAABBQF5l//s3ik4ZlbifYfqOz/cvUME/1LJpX8t1w70hXy3odiCoFhQvTwoJ18mf/oZ7v5g7lZ2ftrYm47rKHIQISbXtNvX+Q/zooPBCBQgwK6mf42kShvaFOqRwlbu5wvM9N7c5HtP3+weWs7WVbedxZ10/F3WZ148mBqV7tc26j+d65n6Zpp7XbuZCH/v0H7zxv0f+ZzJPpmd82lT8xSSnU9LArCul5eTA4CEIBA+QXKVRAyiSnEC4jI31BhYoOGpygrb3Nv6/z51Jkt7+2N/Hzb0ft/+Xrtwhd2rVuxIlv+2WMECECgnAKJrr5vCPsb16h9SlUQTox2obU5+uS+5+bui8SPj4zK0PbmBx4v5Ow+vcu5nJj+i4haDvY5RELvqfY7dWraiKoXARSE9bKSmAcEIACBWRLQTecPRLRQcXh/swW/yAv8RGINL+3/xMUPBwYiAAIQqFuBtq70uz0Wv6BS+Tzj2sbxKoGIgQAEXhRAQYirAQIQgAAEZiTQdsP6V3qRyG9VOtGy2Vepxpb6L/0q+SEGAhCoMoEDm74o3e1n0V6b6en4Rdvq9SeJRBNRL7unIb734XIcg1FlSkgHAjMSQEE4Iz40hgAEIAABXyDR7awXoaX5NFhkdaanc61KrF84Dty2LHDHU+hDAAL1L5Aw+64T4k8HzPSPzPKVaTageYHjLSdlrCV7618LM4RA4QIoCAs3QwsIQAACEMghkDDT/ykk78lbFJJ8JmN3fkg3nc8T0T/ljGXtHDfV8WsgQwACEJgQCCgK7yfi3URyWT6xlvjwUdusFXugCgEIHC6AghBXBAQgAAEIlERAN9Oef9h7UGeeZE97pGfZ4/Ov741HGuOXasyLRXiPEG9yU5f95sCh8fhAAAIQmCIgorWZG98l5CWFtRizt6W5ac4dw3t2nSWR6C+CvWTUtTuLOpYiuG9EQKB2BQL/w127U0PmEIAABCBQKYHWbmcRC21RHG/AtY12xViEQQACEMgroJvOEBE1qzCxx6dkbk0+qRKLGAiERQAFYVhWGvOEAAQgUEYB3Ux/jkj+WXUIbBijKoU4CEAgSKCQo29Y+LpMT/KzQX3iewiESQAFYZhWG3OFAAQgUCaBhJn+ppCsUO0eBaGqFOIgAIEggYIKQuKejJ00g/rE9xAIkwAKwjCtNuYKAQhAoEwCerfzCRK6UbV7FISqUoiDAASCBAopCCMsV/WnOr8W1Ce+h0CYBFAQhmm1MVcIQAACZRJ4Wdf6U/dy5DGl7oU2uT1G3t0AlfpBEAQgAAEi0rv6+om5TQXj1JOGm3/+4RUjKrGIgUBYBFAQhmWlMU8IQAACZRbQu5zniGle0DDupS0xWrJkPCgO30MAAhBQEWg3e+dmqfn5wFimbW7KOCswDgEQCJkACsKQLTimCwEIQKBsAsuXR/T294wSsTbdGB5HznskddmDZcsBHUMAAqEUaOt2lntCvXkmP+zaRksocTBpCAQIoCDEJQIBCEAAAiUV0E1nHRFdMaXTJ5tk3kv/3POG3SUdDJ1BAAIQOCigr950CmXH/0RER09BucO1jQ8CCgIQyC2AghBXBgQgAAEIlEfAEm35wnW8bsWKbHkGQK8QgAAEcgss7+2NrNu2TciyPBhBAAL5BVAQ4gqBAAQgAAEIQAACEIAABCAQUgEUhCFdeEwbAhCAAAQgAAEIQAACEIAACkJcAxCAAAQgAAEIQAACEIAABEIqgIIwpAuPaUMAAhCAAAQgAAEIQAACEEBBiGsAAhCAAAQgAAEIQAACEIBASAVQEIZ04TFtCEAAAhCAAAQgAAEIQAACKAhxDUAAAhCAAAQgAAEIQAACEAipAArCkC48pg0BCEAAAhCAAAQgAAEIQAAFIa4BCEAAAhCAAAQgAAEIQAACIRVAQRjShce0IQABCEAAAhCAAAQgAAEIoCDENQABCEAAAhCAAAQgAAEIQCCkAigIQ7rwmDYEIAABCEAAAhCAAAQgAAEUhLgGIAABCEAAAhCAAAQgAAEIhFQABWFIFx7ThgAEIAABCEAAAhCAAAQggIIQ1wAEIAABCEAAAhCAAAQgAIGQCqAgDOnCY9oQgAAEIAABCEAAAhCAAARQEOIagAAEIAABCEAAAhCAAAQgEFIBFIQhXXhMGwIQgAAEIAABCEAAAhCAAApCXAMQgAAEIAABCEAAAhCAAARCKoCCMKQLj2lDAAIQgAAEIAABCEAAAhBAQYhrAAIQgAAEIAABCEAAAhCAQEgFUBCGdOExbQhAAAIQgAAEIAABCEAAAigIcQ1AAAIQgAAEIAABCEAAAhAIqQAKwpAuPKYNAQhAAAIQgAAEIAABCEAABSGuAQhAAAIQgAAEIAABCEAAAiEVQEEY0oXHtCEAAQhAAAIQgAAEIAABCKAgxDUAAQhAAAIQgAAEIAABCEAgpAIoCEO68Jg2BCAAAQhAAAIQgAAEIAABFIS4BiAAAQhAAAIQgAAEIAABCIRUAAVhSBce04YABCAAAQhAAAIQgAAEIICCENcABCAAAQhAAAIQgAAEIACBkAqgIAzpwmPaEIAABCAAAQhAAAIQgAAEUBDiGoAABCAAAQhAAAIQgAAEIBBSARSEIV14TBsCEIAABCAAAQhAAAIQgAAKQlwDEIAABCAAAQhAAAIQgAAEQiqAgjCkC49pQwAC0wkIW9bNbN10kxCzwAkCEIAABGpXQET45ptvZsuyvNqdBTKHQHkFUBCW1xe9QwACNSKgr950CmWzm4nkZYdSZhpm1joyazt+XCPTQJoQgAAEIEDECdOxhOhjUzD+w+0fvobWrcgCCQIQeFEABSGuBghAIPQCenff20j4nukh5Ouu3fmu0EMBAAIQgECVC1xobY4OjAztJqKm6VKNxbW5262OF6p8KkgPAhUTQEFYMWoMBAEIVKPAgTuD448H5sbe1W5q6ZcC4xAAAQhAAAKzJqCb6QEiSQQkMO7aRmzWksTAEKgyARSEVbYgSAcCEKisgG6m/3TYY6J5hndtAz8zK7s8GA0CEICAskD7yr6XZDX+i0oDJn5rxk6uV4lFDATqXQC/3NT7CmN+EIBAHgFh3UwrbzQQocZ5/fZFu0AKAQhAAALVJ6Cbzr8T0d8pZvZH1zYWKsYiDAJ1LYCCsK6XF5ODAATyCViWpd09slh5cwHmSFsmdVkGqhCAAAQgUH0CrabzEBOdrZjZqGsbjYqxCINAXQugIKzr5cXkIACBvAIirHer3yHUIk0nD6x5y1NQhQAEIACB6hPQzfSDRLJYMbMh1zbmKMYiDAJ1LYCCsK6XF5ODAARKWRBSJHqqu+bSJ6AKAQhAAALVJ6CbfVuJ+BylzJiG3ZTRohSLIAjUuQAKwjpfYEwPAhCYXqBt9fqTvGzkSVUjLcqJgVuSrmo84iAAAQhAoHICuun8hohepTjiPtc2ch9N0dsbSfy6ZTELn+uR7I1EYz/u/8TFDyv2izAI1JwACsKaWzIkDAEIzFTgpBvubWmKjA0Q0QmF9NUSbzlqm7VkTyFtEAsBCEAAApURaDX7Ps3E1ymOtsW1jXOnxupm3z8T8edy9aFls68auG3ZQ4r9IwwCNSOAgrBmlgqJQgACpRBYcO3GxrFmb28xfeHYiWLU0AYCEIBAZQSUz5UlIiHvjYP20vsnZ6abzi1EtDpvtqyd46Y6fl2ZGWEUCPx/9u4/Po66zh/4+z27m2YToKU/KEKb2aRFoQgIBRTQs1X5YXa2BZX6+04U5VRQwTaTljs79c52Jy30PPRUPOE8FTU9hTaTyK+71i+Kii0oakVtm51Qyo/yG5Jts7vz+T6mbUqa7mY+s9ndzGZf+5/u+/P+vD/Pz9LNZ2fm86mMABaElXFGLxCAQEAEfN5SdLhqhcWlvcnEvQEZBsqAAAQgAIE8Ak269XMm+jsPnL22qZ0wPKZ5xf0zndw+qUcIbDOuELHABEBgoghgQThRZhLjgAAEPAUWGJvDven+jGfgiAAhqL2vQzP9tkM8BCAAAQhUWuDA+bKPEdHr8/bM9Or055+Yuu3Wa474Loi1WxuFoEVS1eIqoRQTgqpHAAvC6pkrVAoBCIxRwM/tRAe7Eo+EM7nFO2++/PExdo3mEIAABCBQQYEmvSvBpHyPSEw+1O1+QeK6PjPx7XxlqLqVJaKQTInMvCKVjK+RiUUMBKpBAAvCapgl1AgBCJREoPmL3aoTFtIHy18V3RoyDMMpSedIAgEIQAACgRVQdUv6FlBFodW9a7QbAzsYFAYBnwJYEPoEQzgEIFC9AmcuvafxpVDGzy6hD4cz2ctxhbB65xyVQwACtSlQxBXCXUTULKXF4j12MnGnVCyCIFAFAlgQVsEkoUQIQKB0Aqre7RAJX//24RnC0vkjEwQgAIHyChT3DKGq97ybyOmRqS03ONCwe/2StEwsYiBQDQK+/iiqhgGhRghAAAKjCahLuy6gED/oVwm7jPoVQzwEIACBygsUu8uoW6mqW88T0fEeVX/DNrXPVH5k6BEC5RPAgrB8tsgMAQgEVCDW1nWVYL7Nb3k4h9CvGOIhAAEIVE7Az8Zh+c4hnP+pb0WePf7kZ4nouHxVM9OmVFJbXLkRoScIVEYAC8LKOKMXCECglALi0C2fXPw5UE3t1vEK0X9JbzNORI3RxmO3Gwv9PINYylEjFwQgAAEIjCLQpHf9GxN/XhJpq21q5+WLjbV3vV849E1innLgfSH+rDjOB3rXLvrDgf89hu8eydoQBoGKCmBBWFFudAYBCBQtYBiKmj53HRFdPyxHhpn/IZWM/9Bv3pjebQoSbX7aKWGO9X4lbvtpg1gIQAACEKiMgKpbvyOisyR722+bWv3I2BZ9U1OOlEeJaOi4ikMh7g+Qrz1/zsyrUsnWVTigXlIbYYEWwIIw0NOD4iAAAVegRe+cnKOGF0fR2Gmb2inu77gyYqpuuYu6JpnY4THs8OtSa+NP+W2HeAhAAAIQKL+AqnfdT8TvlOzpedvUpg2PbdI3vZVJeUCyvRuWyw0OHIsNZnyIITSQAlgQBnJaUBQEIDBcQNWtHBEpo6kw0X0pU7vES07Vu79GJD7rFZfv/fPnD4Q3LFni1oIXBCAAAQgETEBts95DTD+RKkuItXZH4vBdIvOMzrr+dMN+qbZHBvXbpnZMEe3QBAKBEcCCMDBTgUIgUFsCsWXdHxSK+E8iajg08gF2+OrU2iNv/2zSu/6eib8roxOJKpN3GK0vF4wVgtV299iJol6/sE3tbUW1RCMIQAACECi/gI9/43ODUxt2r7/w8NERxTxGMDQgIfiSvo74feUfIHqAQHkEsCAsjyuyQgAChQQOPgu4h4hmFgh52o5uPYkM48DCTdUt9xbNQrFHpAgRf3iXGb+jUNev/2LX9P1h3lvM5DRHGyNbjIXZYtqiDQQgAAEIVEZgVlvX+SHm34zWmyD6aJ+pfX94jKp3DRBxtKgqhXjU7kjIPrtYVBdoBIFyCmBBWE5d5IYABI4SUHXrz0R0qgfNY7apnXZoQSj1XKAby8TJlBlfXih3rP1nMSFyvf6mRTzWGE2ftd1YMuivHaIhAAEIQKDSAn6/Y4bqU3VL+rsmz5gGbVObVOmxoj8IlEoAC8JSSSIPBCDgKaC2WacR03bPQDdA0Dy7Q/uzqlvuQiwi00ZhWtqb1G4qFOseNcGC3IOHpV71InfcXzoWvyIVjCAIQAACEBhXgWK+Y4YtCN2Ny0bsLCo9nL22qZ0gHY1ACARMAAvCgE0IyoHARBZQdeunRHSF5BjvtE3tParefRuRuEqmjSJyp/Z2LP5L4VjBqi79DGGfbWqqTL+IgQAEIACB8Rco5jtm2IJwKRGtLWYUB4+giBvFtEUbCARBAAvCIMwCaoDABBGIGZvrJw28HHldw3HpfM/b+XkekIietk3txDe0bTx2H4cKbxTzmp1jm1rIi1LVLbkv/ZzTYq9b5PP2Uq/e8T4EIAABCJRLoJjvmMO1GEJR091F7SLdGI1N2m68EY8VlGtikbfsAlgQlp0YHUBg4gs06daXmGjViJEO5Cj7lt3m5X8Y9guszPODQ+GHnyOU2Wk0Fxazdn8l8YSMtqpb7m5w7yoYy/xJOxl3d0DFCwIQgAAEqkRA8vnBo75jhn1Huf/uf8LXcB0Rt9cmeny1QTAEAiaABWHAJgTlQKDaBDwPeXecT9prFx1YXDXp1nVM9O8yYxREn+sztVuGYmPLNr1dKMqWPG1fzGTFKXtuSjwrk3copknftIRJ+dGBvWiGXoKeVyh34ei3nfrpBbEQgAAEIFApgaK/Y9zjKvTu54lpinytLMjJnWuvXfSwfBtEQiCYAlgQBnNeUBUEqkKgSbduZ6KPeRU7dPVugbE53Jvuz3jFu+8XOuYhZmye4uxPnxQmkR2ccfzju2947RwpmbwjY67s7Aw98sAx4R3THsoMHXVRTB60gQAEIACB8RUo9jumSe++h0lc4lV9iJ3zs+z0102q2z3qmbdeifA+BAImgAVhwCYE5UCgWgSu7BShh7Z1y53Lx/RHO6md4Y5N1S2Zndxesk3Nxy+11aKGOiEAAQhAoJwCfr9j3GffRbr/8AH1o9UmiO/tM+OXlrN+5IbAeAhgQTge6ugTAhNAYO7ynnkZx/mT7FBsU+PZX/zJeUp40kMybZzs/vMfv+m9v5WJRQwEIAABCECgmO+YFn3TW3OkPCCr536XycYiDgLVIoAPdbXMFOqEQMAEWtqtd+UEuZuzSL3cL1FVt3YQ0RypBkQ7bVObKxmLMAhAAAIQqHGBYr5jVL3rQ0T8A1m6CbsgFIKv3EAKbdhAGzYsKWq3VVlDxAVPAAvC4M0JKoJAVQgUc4VQ1S33FlPPoyEOAeRsUwtXBQaKhAAEIACBcRco5jum1q8Qxr5w5xRRF/45MZ85fAJxtuK4f5wrWgAWhBXlRmcQmDgCMb37GkHim1IjOvQMoap3DxKJiFQb4oxtxuvkYhEFAQhAAAK1LlDMd0xJnyEUguet2nDgO277yiszxCyCPCfNK352ppPL/X6UGl+wo1unY8O1IM9iaWrDgrA0jsgCgQktMGeF9cZsjt/P5JwsBO9UmB9wSPxcdtA54jNnvjDzsb1TnnqKmabKtRNbbDOxUC4WURCAAAQgUOsCqt61mYgXyDm89h2j6taTRHSiV7tC590eWFQO9P8fMV1wRA5Bv+KIcgNlc4sF0Uym0GNhQXfs6Gjd7dVXud+fZ3TW9acb9nv1w4IeSHVof+cVh/erWwALwuqeP1QPgbELGJvD6sCr3yDmq4clSwsS789m6VeRMLtflGO9dXMbEc33U2xuMDxt9/rLnvfTBrEQgAAEIFC7ArOuv3tqqC77nIzA0HeM7MLoUM47bVN7z/D8c5f3zMg4zjMyfb4Ww6nmaMMpO/vTqqKIe4jE4WfrmcRvB6PUusfwd7auv/6JYu1dXxWCPyfTrjHaeOx2Y+GrMrGIqU4BLAirc95QNQRKItC8YuNMJxd6qiTJSpvkR7apfbC0KZENAhCAAAQmuoCqWz8kog94jPPwd4y6vOsCcvhBWZeRm8qouuVuwKLIth+KE0RZHuXHVhbKFamO1rv85pWN9/O8pSCxqM9MdMnmRlz1CWBBWH1zhoohUJTArBu7Tg7l+G4S9MaiElSqEYv/tJOJT1aqO/QDAQhAAALBElDbrIWk0F0k6Lhhlf0oMqB8bMctrZ63OartXd8mccRdL6+lGfEdM5ZdRlV907uJlJ5y6YXIUXeZi/rKkV/VLennG5n5hlQyvr4cdSBnMASwIAzGPKAKCJRVINbWtVwwry5rJ6VILsi2O7RYwVSdnaHYI43nsuDzHBL7QuHIz3f96yV/K0XXyAEBCEAAAuMv0KRbdzNRwcPfBdOcvqS2y7NS44916r7eT5Hgtx+IZfFzu775VjLeODi8bWx5z9uF42zxzHc4QFwrmH/dVx9/RB3o/sVRzw3KJ5KIFHtsM3GyRKDiLGdzAAAgAElEQVTvEFXvdoiE1DpAEcqVvR2t/+O7EzSoGgGpD0LVjAaFQgACRwjEjNvrxcD0J4l5SpXQDNqmNilfrare9Vki/lq+95Rc7qzedYsfrZIxokwIQAACEMgj0NTevZqFWO6FM/2FJ+q23XpNxitO5v35RlfDs2nul4k9Kobp5RFXMYtKM1ojOxlXyrFbqeSttQdKa4yGp2038Ex/ySc3QAmxIAzQZKAUCJRUwDAUdeDcLDFVz3/nBa4Qqrr1FSJaMaoPK+fYydZHSmqIZBCAAAQgUBmBThFSt3W7Z9V6voQQ3+zrSHzaM1AyQG3v/jUJ8WbJ8IqGNUcbI1uMhVIufgqbZ2w+pj/d/4pEm5Rtas0ScQipYoHq+UOxipFROgTGQ0DVre8Q0cfHo+8j+mT6Ggm6VqoOpk/YSe224bHNK+6f6eT2SW18Y5txxb0vSKovBEEAAhCAQGAE1Paes0k4D8sWNHJzF9l2eeOu7AypLQ0DRBS4s2+visZDhsHOmMZXoPHsNmuRwrSxcG4WjVG1fvuI22zLUQtyjq8AFoTj64/eIVBSgTk33jM7m818lQ4+f9FQ0uT+kwl2nIWptYt+ruqWezuOZz35bo2JtVsbhaBFUt3jKqEUE4IgAAEIBE0g1t79QSHEHbJ12abm7uxZuh8ADUNpSp/7QyZaIltDJeJKuvDNU3BsedepwmH37pr6I95muts+Z0CjJUvcXVTxmuACWBBO8AnG8GpHoEm3fjweX2SRAaV+X/hVZVIofGy2riEUEU42O+npV1LGVfuG9N/QtvHYfRx6ebTZYM40p5JXpEbG+Nkam5lXpJLxNbUz6xgpBCAAgYkh0Lyi+2InJ+71M5pwLjJz57pLfZ4B6NGDENzSfv9xOdrv7h56oZ96Sh4r6Gq7Q3Pv9in7yz2PMUvR4wZfzGZTU37/MhlGWa5Kln0g6KAoASwIi2JDIwgES0DVre8R0UcqXZWfL+P5n9oa2Xv8kxYTXzK8Tib6wySRu+gvHYvzPsvgZ2tsRaHVvWu0GyvtgP4gAAEIQGBsAi36fZNztP9Fv1ncHyVljqLwm1dtsx4hpjf5bScZnyVyN7IRkwvGC/qd3aGdLZkPYRAYkwAWhGPiQ2MIjL/AnKX3nJANZZ4ufSXiOSKeViivQ7m3P24u/n+++xWCT1plRae/WsePHvOrtNevkKpuuduLyz3QzuI9djJxp++a0AACEIAABMZdQNWtx4lolp9CBIl7+8xEwWMq/OQaHhvTu0xB3FZs+1EWegePVxKC1faenxKJy/PErrdN7YaS942EECgggAUhPhoQqHKBJt36JhNdM8Zh9OWi4bOVNL0uwrQ/mx3MUUjxPOfJEbmTH+9YvGeMfY/aXNV73k3kSB38mxscaNi9fkm6nPUgNwQgAAEIlEfgJKOrIVLEERDl2FDsJKNreiTNe0s9UkWIN/d2JB4ayntlZ2do27b6k4lCkzMi+9zjDY885fVDaalrQj4IYEGIzwAEqlxA1a3dRDSmg2tHPrSu6taTRHSiBM1Ttqm9TiJuTCGqbj1PRMd7JPmGbWqfGVNHaAwBCEAAAuMqMOv6zmi4ruGPgqhFtpDz5w+EN4xh8xPDMJSVK1cK5iN3qVb17jsLXMGTLe2IOEH0hz5TO7OoxmgEgTIKYEFYRlykhkAlBGLt3X1CiNlj6OsF29Smuu1nGXdPDaWz/0sk/9zEVdGtIaPMD5/P/9S3Is8ef/KzRHRcvnEy06ZUUls8BgM0hQAEIACBgAg0tVvHsyD3h0CpV1ELwoNHTdw68ngmJvpyytSMoR1M1fbuX5AQF0kVMnrQw7YZPxdHI5VAEilKLoAFYclJkRAClRUoxYPv7hXC2LJNbxeKssVv9Y3R2KRKnVEUa+96vxD8jWFXC7crudwHe9ctftRv3YiHAAQgAIFgCsy97t8nZRpaDu9U7VWl31tG5xo9x2XSzkuj5N3XHG08duhA+OYV3UucnPixVx2vvc+3E4v3kqA6EvQrweHr+szL/iTfHpEQqKwAFoSV9UZvECiFADev2HiCyHKzokRyOeFsIhIyt3cW7DtEA1Ny1OB7dzc34fQXnqjbdus1mVIMDDkgAAEIQAACpy7/6bS0U+feFSL18nuFUNUt9zsrPHpyTtlm/MCGZk3Le+ax40gv6PC9KDVt+YMMQ2lJXzQr6wzMViLh/oa6/h3bjSWvjiEjmkoIYEEogYQQCIy3QMzYXB/KDM7IZTMXCaIflqEe98rggmLy+v1l9sBZR5nojBzVKblI3d6UsVD6V+Bi6kMbCEAAAhCoIgHDUNT0/J8Qcb7dN/MOxGtB6G5WU58W0zNCZCOh0FtyDv1ERiQilNk7Olp3y5ylOzxfOBxp4pdzz5TjOAyZuqs1Rm3rWkbMHXnqfz5Ek1p2mRePdlW3WocdiLqxIAzENKAICOQXaGq3WliQ+6tkfUCNvmOb2tUytc26/u6pobqsO5aRVzP3CabT+5Ka566mMv0gBgIQgAAEqlTg4HN9A0RU52cEIzdGG2o7S+8+IySEe55gyE++oVgmRU+ZrQcWKH7OxB3W10sUCp9mr77M3agNr1EEYu3WfwlB/zAaUogmTcGisDwfIywIy+OKrBAYs4CqWxcS0S/HnKh8CQbtZLyeRuzKlq+7OTfcNTsbCfd5lHKRbWoPlq9cZIYABCAAgSALqO3dvyYh3uyzxttsU/vEyDZNy7o1VkSXz1xHhDPTBqpv/Hv3TpbYsk0fE4pyezH5hKKc3remdXsxbauxTczYPMXZnz4pTCI7OOP4x3ffcOGox0E1L914phMK/V5irM/bplbwfGSJ9ggpIIAFIT4aEAigwAJjc7g33R/c5/KYH7XP6T+HJLf5lv1ltTnaGBl6iD+A04KSIAABCECgTALzja6GZ/2eQShI2A1bwyPP7Zt1/YPRUN3z7pXGUr2eDL0wcFru+Ab3XMJIMUntZFyR+QG1mNxBaTPK5nQvZrLilD03JfI+F6q2WbuI6cDzml6vxujAsXim0EvJ//tYEPo3QwsIlF2gSe9pY3LMsndUfAfLbFNbJ9Ncbd/0DhKKe5SF50uQovcduj3HMxgBEIAABCAwYQRiy3veLhzHz07Xz3J07+yUcdVRz6GretfXiPizgcIR4iN2R+IHR9VkCEVNd99ARP9ERJOJRJpJuaUh2v/P240lg4EawyjFNOldf8/E3x2t3lxYzNr9lcQTI2NkfzR223GIz06tjv+uWlyqpU4sCKtlplBnTQk06V2vMPExQR60Esqd2Lt68dNeNaptXV3ErHnFHXq/IgfdS9aCMAhAAAIQqJCAqnd9iIiPXjAV6L/Qc4NuuKpb7iJxUoVKl+3md7apnT08WF26qZlCSsHn5wU5b+szF/1CtoPxivOx6Y5jm9pRz3P6WRAKJ/fWvrWLg/w4zXhNw5j6xYJwTHxoDIExCFzZGWqZ07DQEawJIY5hdn6rHB/90a72i1/y84/jGCoYa9NXbFPLe1D88MRNuvUoE50h2dmgbWpB+xKXLB1hEIAABCBQrIC6vOsCclj6OXKPBaEoto4ytuunXOQMe92lvW4fM5f+d2N9aKrncQohctRd5iKvZ/DLWLZ3alXvvo1IXOUdSaSI3Km9HYv/csTCWO92iITUmiREk9Rd5sWB9pBxCFqMFH7QikY9EKh2gaa2rncy8/0FxvEKER1bDWMUJL7QZya+Olqtqm59h4g+LjmeP9umNk8yFmEQgAAEIDBBBNwjifrTDfslh3OnvWvgSjVWfxWFlM+TECeQ4K0s+MbU2vjvVN1yn1UL6uYjB251FekZ7qMU7uZxXq9+29QCfceQqlvura1Sz1YqTEt7k9pNRywI27s7SIhlXhDu+3Z0a2jkM6My7RAzugAWhPiEQKDCAk3Ley5ixwn8LSCyLKP9SuvmaFnWdUpO4b/K5GPiy1NmfKNMLGIgAAEIQGBiCTTp1o+ZaInXqJjFQiF4c4G4PSTEGmK+xSvPuL0vSBCT9N/grCgLUmtafz5u9Xp07OeuJiZOpsz48iNSHjxuJOs5PiHa7I7EWs84BPgWkP4w+s6MBhCAQD4BVnXLmUg0MjuDqnp3L5GIeYw7a5ua1C+ME8kPY4EABCAAgdcE1DYrRUxqQRMhPkLM3x/dTKSJODqRXG1TU4goiLfCus9sPuXeBSvjHSL+8C4zfsfI2OYVG2c6uZCbJ++Lmb6bSmofk+kDMf4FsCD0b4YWEChaYO7ynnkZx3EPZw/MS4T4Es6Je4stKDKg1O+4pXXU23wOHaPh3gpbX6ifSFSZvMNofbnYOtAOAhCAAAQmhoCqd91AxEfcVkhEO8K5yEXZUGYPUXEHzVezTkRRTt8R0LMMVd36IRF9QMo3Emmx//Xgc5RHvdwrhXMa15CgpYefKRTUqzi5y3vXLX5UKj+CihLAgrAoNjSCQHECMX3TNYKUbxbXujyt3Fs+Vd26mYiuL6aHq6LxkGGwzFVPjumWIYi+NKKf2+xdA5+iDUtyxfSPNhCAAAQgMDEFDEMoW2iLsmXlgpx7hp+P3SwnHAiT848pc9G3gjgwVbdePHhkhsRLoavtNZq7twBeARLAgjBAk4FSqk8gZtxeH94/81iaRPt3rHz3K16Hzqp612eJ+GuBGSnTUtt9uNswFDV9bhELMs7YZrzO73iEELxq1So2DENmIek3PeIhAAEIQGACCZy59J7GgUiuIZdTmh3O/mYCDc3HUMS1tpn4uo8GFQv19wyh6EiZCb1ixaEjKQEsCKWYEASBIwViyza9XSiK+0D7Ef8NsaBbUx3aPzav2HiCkwu5zzi861DL/QqLbzuCP0NE7nMAQXg9Z5va9KFCWvTOyTnR8IKvB92Fc0GqY9GvgzAY1AABCEAAAhNLQG2zPkNMgVwElUaahexxC4Lp3L6ktq00/ZY2i6p3DUg/s8niOjuZCM4P46WlqNpsWBBW7dSh8PESiOnd7YLEmlH6dw/ELfis3HjVPbxfJvHbVHTbW0Zu3TzPuHtqfzr7nFSNzI/ayfhZUrEIggAEIAABCPgQUPWu+4n4nT6aFBfK4jESfGpxjY9qNUBEDZK5coLoNib6pEy8zPP6MnnKERPTu01Bok0mdzWcqygzjokWgwXhRJtRjKesArOX9cxRFGdHWTspY3JW6GMNkwa6thtLni/Ujapb7sPeXjuCUmO08djtxkLPQ3XLOBykhgAEIACBCSgQa+/+mBDi9goMbY9taier7T3vIOG45wLKvZj2kRj+wy+7B63/iUi8Ry7BoSimARJyC0j3qI1UMrHFV/4KBfs4Q/Il29SmVKgsdONDAAtCH1gIhYCqd+8gEnOqUkKIXrsj0eJV+zzjj3X9aXvfaLexOIIWP96hbfLKhfchAAEIQAACfgX8PJPmN/fw+BDz+3ataf2pqlsf8j7K4rWWuZlTG3Zff8E+48Cz8CsFGau4uOfw5atnEl9ImYmvyreobGSTvumtTMoDo/U6EB04dq+xBD8kV3ZqpHrDglCKCUEQOChQqS+pcngrudxZ0ts2d3aG1IcbLBJ02Yha9rEizk6tSTxWjhqREwIQgAAEalvg4I+SqVGPMhpXIaaX7aR2xI6ac5f3zMg4zjPlrMu9wye1RvtuOfsYa+4WfVNTjhT3eIiRO44+2BgdWLjdWDI41j7QvjwCWBCWxxVZJ6KAEKy2d1flrpjMtCmV1Bb7nhbDUGIvnnVc3ZRwOEzpl/GPuW9BNIAABCAAAR8CQT9aYr+inPDUmta9w4cUa/9ZTIhc/rP1fIx9tNBwONK08yuXPl6idGVNM/9TWyOvHPvk5H0RzvXVx18iuaOpyloTko8ugAUhPiEQ8CFQpVcIv2Gbmru7KV4QgAAEIACBQAu4i4lnj38qsFeSmqONkS3GwuxwxBb9vsk52u+exVeuV8Y2Nd9HPJWrGOSdeAJYEE68OcWIyigQ07seEsTnlbGL0qRWaB0J8WBuf/ru3euXpEuTFFkgAAEIQAAC5RdQdcs9FzcoRzQdMeCroltD+c7QLesPxqHwSfbqy54svzx6qFUBLAhrdeYx7qIETjK6pkfSfMStIkUlGnsj92gL9xkL3Kc/dktkgAAEIACBAAk0tVvvYkH3BaikoVJytqmF89WltnVdS8y3lLjmASWUa+ldvfjpEuetSDr3KKv0gPMOoYjZjnB2HBM9ZjN2J68Ive9OsCD0TYYGtS4Qa+u5XLBz53g72KbGuE9/vGcB/UMAAhCAQDkEmvSuf2Piz5cjd7E5mfndqWT87kLtVd3aTkSnFZt/qB0LcUU4FPrljhHPKo41b6XaH9oYyD2K46gjrFjQA6mGrQtGnoNcqdrQT34BLAjxyYBAEQKHdtL6IxEdW0TzUjTB8wSlUEQOCEAAAhAIrMChowzuJ6JJ416koB/aHdqHCtXRpFvrmegLpayTmVelknGjlDnLnsvdpXxbY2a0o6uI6AXb1KaWvRZ0IC2ABaE0FQIhQERCsHvu0O3pc93dxJrG08S9Qjie/aNvCEAAAhCAQCUEruzsDD20reGIjVwq0e/hPoT4iN2R+MFRfR76m+C29PlxJqdcZ/O+YEe3Tq+WK2pqu/WzPEdWHUVXlYvdin7oKtsZ/qCsrDd6C6jA3LaeWVnKXU0KXyXEwYWeIMoqRHsE0awgPtzO0cZoyljoPktY8LXA2BzelU7fwORcT0Tur3E7mXh5yoxvDOhUoCwIQAACEIDAEQIx3fq0IPqPCrD8yTa1M+YZnY2D+4+JDkzK9e8xEgMj+421332ZEFmLiEIVqIkO3GbZof1dJfoaUx+Goajpc90NgaRe+GFbiqkiQVgQVoQZnQRFYO51PZMoSjMO1JOmvbOmRXO96YG/EYmj7nMPSs2F6ghz+JSdyct2FHpf1a0LieiXBd7PRqLKtB1G68tBHyfqgwAEIACB2hZQdetZIppWZoVB29SOvjXVMJS5+8+flhXcqIjwC1nav4mJKr44a4w2Hhv0DVliX7hzipgUeUF2ns7fNRDesGGJ9AJSNi/i/AtgQejfDC0CJNCyrOuUnMI/IqJzDpX1CjF9wU5qtw0vU11x9+sol/1znl05AzQaf6UICr+xz7zsT/laNbVbLSxop1dGe9dAmPCPsRcT3ocABCAAgXEUKOuRDgfvCNrYZ2qXHzlEwapufZ+ICz43WEkSQWJRn5noqmSffvt6vdE1fb+PndjPnx8Pb1jCWBD6hS5DPBaEZUBFysoIqLr1HSL6eIHeBnODA1PcM/ialvfMY8fJu3CqTKXl6SUXDU/bbVz2fL7sqm65Zw/WS/R8m21qn5CIQwgEIAABCEBgXARU3XIfjyjZxjLTXzix7rmTHm+cRuHBbXluCXU3RFH1bvdK18ijncZl/G6nzHxDKhlfP24FSHQ8z+is6083uEdiSb3sZFwhZiEVjKCyCmBBWFZeJC+XgKp3/xOR+BeP/IN2Ml6vtnc75apjPPMWuvc+ZmyuF+l+6cPocQ//eM4i+oYABCAAAS8BVe/6GhF/1itO5n2FxaW9ycS9o8WqetcPgnJlcKhORShX9na0/o/MGMczRvoHaSEetTsSZ41nrej7NQEsCPFpqDoBd6OU3nR/RqpwQT8kpg9KxVZVEN9sm/Ev5it5zo33zM5mM32yw7kqujVkGMaEXDTLGiAOAhCAAASCKzDr+gejobrnj9rcxW/FQlB7X4dmulcADWMVGytXiqOuUPncGMVvDcXGN0bD07YXuCuo2JzlaKe2b3ovCcVz4eq1D0I5akPOwgJYEOLTUXUCLfqmt+ZIeaDqCi9xwbYZV8jde2zE6/U3dp28P8u7ZbtLJeMK45YNWS7EQQACEIDAOAg0LevWWBFjfYbO3UtgChG9btgQMsTKZXay9f/oys6QOrfxq+SIklyNLBUTE/WlTE0tVb5y5lF1y/3BPizRxw7b1E6RiENIBQSwIKwAMroorUCsrftzgsVXS5u1+rJNiooZfzUS7s5rR7x838OP8wyrb/JRMQQgAIEaFGjSrb8yUbkWEVuIaEEQWU8anNrwq/UXSj8KMl5jcHdyzzQ4ox6HNbw2PEM4XjN1dL9YEAZnLlCJpIDabn2cBLkbylTvi+mfSNA7iWhhsYMIh+iMnau1P+Zrr+rWk0R0olduJvpyytRWesXhfQhAAAIQgMB4C6i6tTmoi7Yy2rxKxANEYg8Jsc42tTuCuhHL3OU9MzKO84ysRXO0MbLFWJiVjUdc+QSwICyfLTKXSUBdek8zhTK7ypS+ImkPb+RiGErsxbOOq5sSDoep+eX+dEp6dy7HUeY+vrY179ESs66/e2qoLvucx2D22abWcHDHbbwgAAEIQAACwRZQ9a4PEfEPgl1l+asTinJ635rW7eXvyV8PLfp9k3O0/0XZVldF4yHDYOxhIAtWxjgsCMuIi9TlE1DbLIeYqvLzK4j/sc+MfyufjtpuvUSCjpORiwwo9TtuaS24gJxzw12zs5Fwgc1lONUcbTgFv8zJSCMGAhCAAAQCIeA+49fSgCtK7mSEwifZqy9z7wYKzksI9rOzO3Y5D87UVeUf1MHhQyXjJaDqXfcTsXvLZbW9em1TaylUdHN7zyWOcO7xHpR42jYTnreEunnU9k3vIIevF8wqE/025IjkrrWJv3n3gQgIQAACEIBAsARU3XJ/CK0LVlUlq2YvEb1ERHMlMr5km5q7QU6gXjHdulcQXexVlCBa2WdqX/aKw/uVEcCCsDLO6KWEAhfc/GB0z9Nj3366hCWNTOU+UH3UofDMtCmV1C4f7RZNVbd+SEQfkKmt0C6jMm0RAwEIQAACEKg2AbXNOo2YAnerpJcjC3ogde7Awuat0fkO82/yxSssrutdo33dzxU2rzuFvOoqx/vYZbQcquXPiQVh+Y3RQ/ECPHd5z2lZJ/s2QRwWzL/uq48/oqa7LiVSeopPW76WCtHnek3tFvfB6izzO8lxXidE7rGTZk7f8qsbvHcIU3VL+nm+QruMlm90yAwBCEAAAhAYP4GY3v1jQWLJ+FUg2zNnmEl3hLPjmOgxm7cbC18d3rLln+49JZfNvJ3JmSUE/yMRzZTNPDwuIpTZOzpapY+ZOqqPg2curiOi64e9l2Hmf0gl4+4P1L5e2GXUF1eggrEgDNR0oJghgablPRex4/yigMj3iegjQdRios+kTO0bRdXm89770XYZLap/NIIABCAAAQgEWKDMx06UdORed/Go7d1XkxDfHkunhRaEzSvunymcfbcKQXH3aUMi6iVSPpuJ5n7esD/UWDfp1fS+NIVy1DDaBjA7D50TKP1DNXYZHctsjm9bLAjH1x+95xFoaut6JzPfX404Sih0Vu/qdz9aXO2CVb1beret0XYZLa5/tIIABCAAAQiUSMDdAGZO4xoStJRIHPx7U1Cv4uQu7123uKjvSdnn00o0grGl4QPjjpHgSSz4Vw0NDRuGrhQ2t218g8Ohx8bWAVG+W0ZV3foKEa0Ya263PRPdlzK1S2RzYZdRWangxWFBGLw5qZmKmtqtFhbk/sO1gIlecUj8pzM47ZZQXaCfDxx1fsZ6yGopdxmtmQ8SBgoBCEAAAoESaF6xcaaTCz1VqChm+m4qqX3Mb9HV/IPxobEOkKC9xAduET1qrwGfHkdtKqPqXZ8l4q/5zDNqeCSqTN5htL4sldPnnU7YZVRKtSJBWBBWhLm2O5lnbD4mnRmYJgZp/3nn9e/dsORKR9V7HiQSb5lQMo6I22sTY3q2UW2zFhLT/3m5MNHfUqb2eq84vA8BCEAAAhCoqIDs0RBCtNkdibV+aosZm+tFuj/tp82EjR157ERnZ0jdVvojOULEH95lxu+QdWzSrR8zkcRznuKLtpm4WTYv4sorgAVheX1rOntze9cljuB8RygMEJF7IPqEeTErH0glW39cigE16dbdTHTpaLlygwMNu9cvwZdiKcCRAwIQgAAESiagtnd3kBDLZBLa0a0hMgzpRyXmtN89NyuyNX9sUr6D6WPLu98sHPFrGXc/MUycTJnx5dJtDm5U4/59UvhoEEG23aHFpHMisOwCWBCWnbg2O2hqs3RmSk7Q0f/e3RFs6DbXuoHQV0c7IL4Yg6b27tUsRL5/gHdnouINe4yEu6jGCwIQgAAEIBAogYPPwh96ZtCjshBNUneZF/fJDqB5xc/OdHI59zu4lC/BrHQJ4SwqZdJS5WKiLYJ4HjE9JYR4kYkuIKIIET0tSLT1mYn/dvtqbu+51hHOLaXqdyiPwrS0N6nd5CvvwedHf0lCvHlkO0HU2Wdq7/eVD8FlF8CCsOzEtdfBnBvump2NhKX/ga8yIWGb8RARS++6VfT4OkVIffhnZzKJU1mhZzlX99Au82L3wFq8IAABCEAAAoEU8HN8knByb+1bu/iXsgNpad90Xk4oD8nGS8Ttt02tniRvcxVEWSYKS+QtYYi4QxDdw8TfLZDUCdHA1Bw3XjnWXUvz5VdE7tTejsV/KWZA842uhuf2h84TTu5kUqi3cVJ623ZjyWAxudCmvAJYEJbXtyazq7q1jYjOmYiDD9GkKViUTcSZxZggAAEIQKAUAn4WhMS5c+zk4kdk+43p1qWC6G7ZeJm4Qxub8GkrfnLiQG7SnlHaPEck/kbEgdz/QImETnUyuTHvXHrk+Nn9EVyRcURMdQtgQVjd8xfI6n19GQRyBPmLspPxEDFLP+tQRUNDqRCAAAQgAIGSCPi5ZTTiZObuWHvFTtmO1eVdF5DDD8rGy8WJR4j47NdihUPE1bgIWj/igHm54XtEYc+CkjAGPgkWhIGfouorcCIuCFlRFqTWtP68+mYDFUMAAhCAAAQqJ+DrbwBFXGivSfxKtrq5133/uEzDFDw6IQtWijgW77GTiTtLkQo5giuABWFw56ZqK/P1ZVAFo8RisAomCSVCAAIQgEDZBRYYm8O7n0uHPjLt3RnDyH/HjJ+/AUKCz9vVEd/qp3BVt3JEVOt2zkAAACAASURBVI1X8PwMMzCxikKre9doNwamIBRSFgEsCMvCWttJVd36HhF9pBoVhOIkWChvISH2KSJyb6956W+JK7CBTDVioWYIQAACEKgJgVh79/VCiCPPjBOUY3LemupYdMRRB6pu7SWi6TIwHM0cnzKueFEm9kCMYShN6XOfZsn80nkRWFCAmVekkvE1IJrYAlgQTuz5HZfRxYzb60V6RhWekYeHp8flA4NOIQABCEAgsAIx3fqrIDqlUIFM9OWUqa0cel9t3/QOEsr/Sgwoa5uae3yC9EvVrT8T0anSDWorMENEWSKKlnTYrJxjJ1ulN/4pad9IVjEBLAgrRl1bHcXaulcKFkY1jVoINvo64quqqWbUCgEIQAACECiXgKp3f41IfNYrv5OjMx5fp/3x8KJQt9yrhkedQTc8D3OmOZW8IuWV+3DONus0YtouGz9B4twzh91jGqZ4jYeZP+QI8X4mWuwV6+f9g7uM4k4pP2bVGIsFYTXOWsBrfv2NXSfvz/LugJeZpzx+xjbjM6uvblQMAQhAAAIQKLGAEKy2u4fMS7322aZ2xJWpprbuHzGLvAeQhxzx+l1rE3+TynwoSNWtnxLRFX7aTIhYIW4n5qs8xvKibWrH+3l+U9omFD7JXn3Zk9LxCKxKASwIq3LaAlq0ENzU3nM3k7gkoBV6lhUiPpNz4ad3rr1kL54d9ORCAAQgAAEITFABdcXdr6NcdrRz+Y4YuZ2MKyO/N89ce0/jK89lWoUQ5xCFXgiFnJ6dq1+7kuiHTtWtp4gIP9oWQMsRnxki8agfU5lYFuLTqY7EN2Vih8cYhqF00vvCJ9BeZ4ux0L2VdWK8hOBYW89MRaEZDg++EqufsnsijA8Lwonx8QzEKNQ26wVi79saAlGsTBGsXGcnW78mE4oYCEAAAhCAwEQSaG7rOt9h/o3smJj48oZow/9uNxa+KtvGTxyeH/TQYnqCBJ3sx1Qmlkl0pMyELhPrxsxeducchSNbj/57kG+2zfgXZfMEMU5ts/6ZmL6cp7Yt9q6Bd9GGJe4OuFX5woKwKqcteEWrevdNROKG4FU25oq+b5vaR8ecBQkgAAEIQAACVSSgFvnMHgt6INWwdQEZhuztplIqart1Bwn6oFSwRJAgcS8TV+0dTQWG6G4s42ujHi8qhWlpb1K7ySvOfT+mdy8WJO4qGCvoRduMT63GO7BiunWvILp4FIeMHd1aX+rPvYx7KWKwICyFInJQWe5bD4irIsSbezsSDwWkHJQBAQhAAAIQKLvAPOOPdf3p1P4iO3rBNrWpRbbN20zVLXfTmtPHnpMF5ZyL7HWJXzW19byP2dkw9pxSGdwNYhqkIosMcjeWEULcUWTzgs2Y6A+p6NY3jbbYiRl3ThHpyAtefQvie/vM+KVecUF6X9WtOBFZEjV126amScQFLgQLwsBNSfUVFDM214t0fxUeMyFt/axtajOkoxEIAQhAAAIQmAACarv1Cgk6ppihMPOqVDJest3GVb3raSI+oZhaiHh7yHEuP0bU7Xl03aX9I3PMNXqOy+7bPzVU3zDwUbrk2dvT3aW+9e9V29SOVdutL5KgtURUlr+/bVNjVbd2ENGc4pxGbdVvm1rBz0KT3n2P7B4S01tOrNt2zbnu1cyqeKm65e70KnXl9apoPGQYXNKr45VAKssHshKFo4/gCMwzNh/Tn+5/JTgVlb4S29QUIhKlz4yMEIAABCAAgWAKzLr+7qmhuuxzxVbnLlCKbTuyndpmdRNTq0w+JrqHs3yNMyk02Fw3aa/fTT9KfdeTEMKoS4fWZxqcZ4hokswYiojZYpvaQnexGdOtezxubywi/YEmq21TuzFfYz9mrIjTUmsSjxVbREXb+dttl8LRyMydxqXuPFfVq2T/oVbVqFFsSQWu7OwMPbStYeLsIJVHJ9/uaSVFRDIIQAACEIBAAAXm3HDX7Gwk3FdMaefvGghvKNFGG7Fl3W8SipA6IJ0dPju1Nv67Ymp22/hZ3Mj0sW965Jj6ZzNl2WxnqP8QDUzZZS55aeh/u1c9nbTQHBLXCKK/G6VO94ppo8w43JhCi3w/ZoKct/WZi34h2+d4xrm7pd6ePlf6irHf8zXHc2zD+8aCMCgzUeV1TLgdRkfMRyl/5azyqUb5EIAABCBQgwJq+6Z3kFCWE9G7ZId//vx4eMMSlv5j2iuvqltPENFJHnF7bFMb026bfhY3XjWToGeJabpn3BgDcoMDDbvXLznq8Z0FxuawnXn1HCfL/zdi4ZdjZo0dpdfhnPTVOju6NZTvWUI/ZlV1hZDIvQ1X+hbQSFSZvMNofXmM01nx5lgQVpx8Ynao6t2fJRIT84gGZstOxhMTc+YwKghAAAIQgICcwDyjs64/3SC90Uyp765xFze96X73KlihzVkGmqONk/3eIjpy9H4WN6PIuVdVm+Rkxx4VUZQTdqxp3TuUqUm3vsREq0ZkHuBQ5qKP1f3+UePQLrDNN3ad72Tljxc5f/5AeMOSo49XmNjPEHY9TMRny8xStV5AwIJQZnYRM6pAgJ4hHKjPOW/cF1J2SU2ZQt8mhz7pFZuJisY9RsLdHQwvCEAAAhCAQE0LqLrlXoWq90QQ4lG7I3GWZ1wRAXk2ZxHEtMyWPB4hX5eGIZTvD/zsJIfF8Q7ROkGi+CMphOgl5uYihlZ0k3qRO+4vHYsP7Oeg6pY96mLUcT5pr130n27s3LafzMrwpMdlOy60yJ/Iu4zOMu6eGkp7P0srhHJlX0fr/8haBikOC8IgzUaV1tKkW79hovPHu/yhfwxV3foLEb3eo54B29QaVd36HhF9pFCsQuJNvWbi9+M9NvQPAQhAAAIQCIJAbHnXqcLhP3vVwvszx6f+7YoXveLG9L4QB/+OZR7Tpm9NunU7E31sTLWMc2PbjCtELGTHkguLWbu/kniC/G2akrFNra7QUCf0OYTLNr1dKMqWUaZ5vW1qVXseNxaE4/wf8ETovkS3VoyVYl9ztPHYodtEVL3rCSIu9JzBPtuMNxId3Ba4ua3rfIe5m2jYPf7MVqbeeT+uDI51WtAeAhCAAAQmmsDsNmuRwrSx4I+podBZvavf/Wg1jNvzaloVDIKJO1JmXHevckofmcH0RzupneEOT9WtHxLRB7yGykK5INXR+utCcc1611kO8Wib+Txsm9p8r36C+n6L3jk5Rw13EdGCwzUyPeEodNnjqzX3nMyqfWFBWLVTF5zCA7IgdH8iTNlm/PAtGs1tGy92OOReuj/ukNY+Zv50Khn/r+F6apv1CWI6cOvEay+xJ0Tigl3moqJ2VgvO7KASCEAAAhCAQOkFDj0u8m0ifj/RgSt1OWbx9Yb69LLtxhL33LbAvwo8Zxf4ukcU2Gebmur+f3PbemZl2JG//XPYsSCqbrlHJRQ8c1kw3dqX1K4phBMzbq8X6RmeZ1IL5m/2JeOfrjZkt97mto1vcCj0IDFNHf4HoyDnA33mos5qHNNQzVgQVvPsjVftV3aGWuY0LHQEa0KIY4jpE+NVysh+I0KZvaOjdbdsPWqb9QgxvalQPAvlilRHq/trEF4QgAAEIAABCIyjwJWdIvTQI9alJOjdJHgSC/5VQ0PDhu3GwqKOdCjbD9rM+0gI7+csx2zJX7fN+LVDaVr07jNyJKSvzI58HrBZ777JIXHUbY+ClEV9ZmvXaOV6PYIzvG2hjWnGzFHGBGp799UkxLdH6eJ+29QuLmMJZU2NBWFZeSde8qa2rncy8/1BHRmToqfM1g6Z+lTdupmIrveKzUTFjD1G4lmvOLwPAQhAAAIQgEB5BNT27veSEIU27LjNNjVfP07HjM31It3veUXL92iEuIuZnxZEBa+m+c451CAXaeGwI+oy2Vf/uk57buSzk2O5QvhaTYLf0LbpmFwoUr9v36uv5jvKIl/9fhbXkYgyd8e/tu4s2qHCDdWlm5pJbsPCZbapratweSXpDgvCkjDWRpKm5T0XseOU5yBRIR4l5jPHLilut83Exz3zGIaiSh40yiR+mzIT475pjueYEAABCEAAAhCYgAKem5UcHPNPbVN7r+zw39C28dh9HCrpeXGC6Pt9pvbRudf1TMo0OPtka5GJC2eyTTtvvnzU20GLfYZQpn+vGD8LQqmD6Q2hqK92qSISPinE/Mr+uuyO8drXwc9zpkOb+3h5Be19LAiDNiPBrcfXwZy+hsHKOXay9ZGZS396Qn2o7ieC6C1MpJAgd3eyPmI+nUhEZHIyiWTKTLgH5476mt228SSFQ+4Bt1Kvaj1XRmpwCIIABCAAAQgEVcBdGKS7pQ63Dzni9bvWJv4mM5RDZxpmZGI9YgaFoLuUwcw1w3dVjbV1XSWYbytBfhp5xuBoOaUXL2G6yP6K9mAp6nNz+FkQhkN0xs5RNmFpau9ezULk+1tudyYq3lDRhaG/XVjdp2mn9iW1F0rlWqk8WBBWSrrK+5m7vGdexnH+VOph5AYHGrxuR2jSe9qYHFOq75Az31696GGvWImdsI5IUerDdb3qw/sQgAAEIAABCBC16JvemiPlATkL8QvbTLxNJnae0VnXn27YLxM7Ssxu29RmF3q/Se9KMPGmAu+7i9yQTP92dGuIDh0kP1r8lZ2doYe2NWRlchLxTtuMz5WL9Y5SdWsbEZ3jHUnE0cZoyliY9wpqk27dzUSXjpZH5m9HmTpkYgzDUG6XvKPsQL6c02KvW9QrkztIMVgQBmk2AlxLTN90jSDlmyUuUdimpozMOc/onDqwvyFBOTqNWDypRCb15DKDf5XpW/ZKXsuN3efmsuK3MjndGNm8svkQBwEIQAACEICAt0CT3vMlJmeVdyQRCRJ2x9F/V+RrW4pbRjNR0eh5tUoIbr7x7jMcJ/dWtw4msV2QMpdIvIMEfdB7XOIO20x82DvuwOK5KUeKeyi91KuUf9vMueGu2dlIWGJndvGYbSZOy1eg2mYtJKb/8yqeif6WMjWv86a90si97/MKYZhzp+xMLt4hlzw4UVgQBmcuAl2Jqnd9loi/VtIihXjG7kjMPJzTMJRYev6vBfF5efpxt7AueBiqGy9zf/1QXlwhLOlMIhkEIAABCECgLAJqu/VlEvTPssllFzljuULoLkiygwNned3hdETNxuawmu5377Tys5B5yTbjx7sHzsuMP7ai+00iJx6RiXVjSn33U1ObpTNTcrT+G6MDkwodS6K2Wy+ROHxU2KjDiAwo9TtuaR3rFV5PKt9XCCNOi/2vuELoCYuAAAoc/PXjX4noWkHUwETPCKYv9CW1DUPVNrVb81nQ1lJWrxDf3GvGvziUU9UtdyfPaR59uLcYjNzK+ancYPj03esve162PjxDKCuFOAhAAAIQgMD4CTS391ziCOcemQoE0R9CxNc6QtwmmFQm3k8kfjS95cRPb7vm3KOeF/Tz3NtQ/0z0h1R065tkbuF8rWbBqt7t7mg6SWYcB2PcK4PaR2QXg26LIu5+cu/Sklpsytbd3N51iSM433z9ojnauHCLsbDALa0HjBzZfhxHmfv42grsVOrzCiGeIZSdQcQFSkBt73kHCed/CxTlDEQbJ+91z/fx8VC37AAV4rf3mvH/58ar7dYXSZDMVr27ONp4eigzOCNEg044kt5b1AG42GVUdpoQBwEIQAACEBg3gfnf+lbk2V0nSx50z/uI8p//pxB9rtfUbhk+ELXNeg8x/aSIwe21Te0E2XZNurWeib7gHS8ejiihy3ZMeug5fwvOg5nHeg6hd33yEfOMzcekMwPTxCDtP++8/r0bliwZfWMgnwsvr41p5Cv1jpTeqOfAI0Zxxc8i3rv3ykTgltHKOAeyF7XNOo2YtnsVN/Qws6p3fYiIf+AVL/3+sAdv/fxKN/2FE+u23Xr0L33S/R4KxDmEfsUQDwEIQAACEKi8QKy9+3ohhHt28Cgv97ZKMerftcziA6lk4scjFoV3EMs8y3dk14Lpmr6kdquMhp+/cexoPEQGS18pG97/nKX3nJANZZ6WqcmNkb29VjbfWOP8OE2Kihl/rdAZ0TiHcKwzi/aBFlDbLIeYZH4U+I1tam9Rl3W1ksLdpRrU4X/0fP4q5IjcyY93LN5TijrUNusRYnpToVwslCtSHa13laIv5IAABCAAAQhAwL9AbLn1D8Kh//Lf8ugW+RZBRV4pzNmmFvaq6corO0MPtcju/HlgSVv8sQV+/p5ituxkPOFVfyXfV3Xrh0T0AZk+K30lTm3vvpqE+PYotd1vm9rFMrUHMUZmMRDEulHTGAX87q7lPnistsvf2+1VnmBe05eMr3Dj/D6wGyJH3WUuktjJyquKg++rbdYniOk/j4wWe0IkLihlP3LVIAoCEIAABCAAgcMCnSKkbuuWPErB200R4s29HYmH8kXOXnHPG5Vc5g/eWQ5GyGzK4u8oCKJJWTHjrzcl3D0Vinqp7T3XknCOuDU2XyKpHVKLqqD4RnOv65mUaXDyHkcxPKsg+mifqX2/+J6Ka9nctvENDoUeJKapwzIIQc4H+sxFncVlDUYrLAiDMQ8Vr0Jt7zmbhON5Xt9QYRzis/3sXDXqgJh+aSe1A9svD7383CbA+zPHDz/8tVR4hiGULbRF2bJyQY5YbkevUvWNPBCAAAQgAAEIHC0gexSBrJ1gsaovmTDyxTctv2seO2HpM5dlFoTk56qdeyxFdG80ZVzluSgabbyqbn2PiD5SKEYh8aZeM/F7WbNKxjW1Wy0saOcofa6zTW1ZJWs6qi8heMGqLaEF9HPHkDgfclxrlewcC0JJqIkW5nfXUIXEtU6Jjp2IRJXJO4zWl4dM/V4hjAhl9o6O1t0TbU4wHghAAAIQgAAEjhSI6dYqQfSlkrkw/Yud1PLmm2v0HJdJOy/J9iXzDJ7fK4S5aHjabkN+1/RCtTa3dZ3v8IHHfKYfjmG2MvXO+z3PTpQFKFPc/E99K7J3ykn/zsz/OKyLP+ccsXj32sTfytRtTafFgrBGp79Fv29yjva/KDt8JvqMIPoP2fjCcSwO3vf92gsLwrGrIgMEIAABCEBgIgqUekEYIudtu8xFvyhkdfDog9E3p3HbMvOqVDKe90rj8NzjtSAcVgOTEG7BJT1eYiJ+1mp5TFgQ1vDs+7hN809KKPQhJ5cb++0FjjPfXrvoqFtVfdRClTqMtIY/Ghg6BCAAAQhAIBACpb5l1Da1Uc/eU5dtOocUZZvH4HO2GY9IHi/Aqm5J7xp6/vyBsOcRDYGYGRQxkQSwIJxIs+lzLLG2nrcIdn7l1cyONkZo5YLcmDeVcUTcXpvoydef/Bk99JJtalO8asb7EIAABCAAAQhMAIFSbiojxHV2R+JrXioeu6r35wYHZuxev8Q9aF7qperWBiJ6n2ewEL12R6LFMw4BECixABaEJQattnSq3v0hIlHwbMFwLjJz57pLn3HHJXnsxJ+F4M8zOeuI+VQieomZ/6OhXl293Xhj4YNlDz507e4idsTtpEd5hsIn2asve7LanFEvBCAAAQhAAALFCcgcOyGYHmCHLiSmUL5emERHykzoshXMM/5YN7DPXiGE+AwRTSYhHhOkLO3riN8nm+NwnLE5rKb7M17tQjRpyi7zYulnGL3y4X0IyApgQSgrNYHj5n9ra+TZXU/9tyB6HxOHiMQAMa+yk/G1I4cda+95vxDOj/Jz8K9ts/VC9xaK+Z/aGnlmyhMzIszhfVF+VuYB5pixuV6k+5868A9vnpdQlNP71rRun8BTgaFBAAIQgAAEIJBHIKZbny68l4H4mW0mWt1manvPhw8eu8BTiIR7q+aWejHlir90vPWV8YSde13PcZkGx/2BfVK+Okp9pNZ4jrVUfbub/GT37Z8aqm8Y+Chd8qxhsPStt6WqoVbyYEFYKzNdwnG658QMNuQ+rxBfLYiOdf+xFUw39iW1XTOMzmMa0g3us4ZH3vIgKJdjPnu3Gfc83yfWtuktgpV/IeIzicQeEsLdYvgOPBBdwklEKghAAAIQgECVCcy6/sGoEnmujZn/nojqBdN9OWf/Pz3R8d6q2Xk81t61wBG8iolOc48yJEFr7I74nZLPI1bZjBVXblNbz/uYHfc225Gvbju6dRFNkKMeitMpTyssCMvjWpNZT17+02lhp27Uw1SFw4m+tXGrJoEwaAhAAAIQgAAEIACBggKqbt1MRNePQpSxdw1EacOSHBhLJ4AFYeksaz6TqlvuQap5b4UYjpMbnNqwe/2F0g9j1zwsACAAAQhAAAIQgMAEF5i9wnqjkiPPO8ncO9NsU1s4wTkqOjwsCCvKPXE7a2q3WljQTrkRiq/bZuJauVhEQQACEIAABCAAAQhMdAG13dpNgk6WGWdztDGyxVjobkaIVwkEsCAsASJSEMX0rs8L4n+TtNhvm1q9ZCzCIAABCEAAAhCAAAQmuICfM6mZM82p5BWpCU5SseFhQVgx6ondUazNSgom6e2cbVPDZ29ifyQwOghAAAIQgAAEICAncPD4MeldREPEZ+6S2KhQrnNE4Y9yfAZKIiBzRtCwjp6zTW16STpGEghAAAIQgAAEIACBqhfwdYXQ4del1sbdo8rwKoEAFoQlQEQKonlG59T+dMNzMhZM9JmUqX1DJhYxEIAABCAAAQhAAAITX0DVrc1EtEBmpHYyruA4MhkpuRgsCOWcECUhENO7HhLE53mF4j9iLyG8DwEIQAACEIAABGpLoEXvnJyjhhc9Ry3oS3aH9i+ecQiQFsCCUJoKgZ4ChqGo6XOfIaJphWKVUO7E3tWLn/bMhQAIQAACEIAABCAAgZoSiC3b9HahKFsKDZqJ7kuZ2iU1hVKBwWJBWAHkWutCbbe+SILWDR83C9ow7cUTP7zt1nMzteaB8UIAAhCAAAQgAAEIyAnMMu6eGkpn7ifis4e1cP9+vMI2tW65LIjyI4AFoR8txPoTEIKNVavYMAzpXaP8dYBoCEAAAhCAAAQgAIEJKuD+DcnGypUCzwuWd4axICyvL7JDAAIQgAAEIAABCEAAAhAIrAAWhIGdGhQGAQhAAAIQgAAEIAABCECgvAJYEJbXF9khAAEIQAACEIAABCAAAQgEVgALwsBODQqDAAQgAAEIQAACEIAABCBQXgEsCMvri+wQgAAEIAABCEAAAhCAAAQCK4AFYWCnBoVBAAIQgAAEIAABCEAAAhAorwAWhOX1RXYIQAACEIAABCAAAQhAAAKBFcCCMLBTg8IgAAEIQAACEIAABCAAAQiUVwALwvL6IjsEIAABCEAAAhCAAAQgAIHACmBBGNipQWEQgAAEIAABCEAAAhCAAATKK4AFYXl9kR0CEIAABCAAAQhAAAIQgEBgBbAgDOzUoDAIQAACEIAABCAAAQhAAALlFcCCsLy+yA4BCEAAAhCAAAQgAAEIQCCwAlgQBnZqUBgEIAABCEAAAhCAAAQgAIHyCmBBWF5fZIcABCAAAQhAAAIQgAAEIBBYASwIAzs1KAwCEIAABCAAAQhAAAIQgEB5BbAgLK8vskMAAhCAAAQgAAEIQAACEAisABaEgZ0aFAYBCEAAAhCAAAQgAAEIQKC8AlgQltcX2SEAAQhAAAIQgAAEIAABCARWAAvCwE4NCoMABCAAAQhAAAIQgAAEIFBeASwIy+uL7BCAAAQgAAEIQAACEIAABAIrgAVhYKcGhUEAAhCAAAQgAAEIQAACECivABaE5fVFdghAAAIQgAAEIAABCEAAAoEVwIIwsFODwiAAAQhAAAIQgAAEIAABCJRXAAvC8voiOwQgAAEIQAACEIAABCAAgcAKYEEY2KlBYRCAAAQgAAEIQAACEIAABMorgAVheX2RHQIQgAAEIAABCEAAAhCAQGAFsCAM7NSgMAhAAAIQgAAEIAABCEAAAuUVwIKwvL7IDgEIQAACEIAABCAAAQhAILACWBAGdmpQGAQgAAEIQAACEIAABCAAgfIKYEFYXl9khwAEIAABCEAAAhCAAAQgEFgBLAgDOzUoDAIQgAAEIAABCEAAAhCAQHkFsCAsry+yQwACEIAABCAAAQhAAAIQCKwAFoSBnRoUBgEIQAACEIAABCAAAQhAoLwCWBCW1xfZIQABCEAAAhCAAAQgAAEIBFYAC8LATg0Kq7iAIZT5r7s1tO2aa7JEJCrePzqEQC0KCMHGqlVsGIYwDINXrlwpmNn/f39DeVauFFRM+1q0x5ghAAEIQAACRIQFIT4GNS+gtll3ENMHR0A4gun8vqS2reaBAACBMgiouhUnojuJKJIvPRN9OWVqhtePM+rSTc0UUrYQUdOwPC85gt/1eEd8axlKR0oIQAACEIDAhBLAgnBCTScG41dA1a3BQn+QHszl3GKbiz7nNy/iIQCBwgIx3bpXEF0sYbSvOdp47BZjoXvV/qiX2t59NQnx7UJ5BNG/9Zna9RL9IAQCEIAABCBQswJYENbs1GPgqm7tJKIWL4lINnv6jpsu3+4Vh/chAAFvAbXN+mdi+rJ35FAEp2wz3jwyvrlt4xscDj3mlUconOhbE7e84vA+BCAAAQhAoFYFsCCs1Zmv9XF3dobUbQ15rzqMpBFE2T5Ty3tbW60zYvwQ8CUgBKvt3Y6vNu4lfKHM3tHRunt4O7XNeo6Ypsrksk0N33UyUIiBAAQgAIGaFMCXZE1OOwY9Z3nPRVnH+YWsBP6glJVCHAQKC8SWdZ8oFPGkXyMmRU+ZrR2H2/lcWOYGBxp2r1+S9tsv4iEAAQhAAAK1IIAFYS3MMsZ4lEBzW/dHHRb/LUtjR7eGyDB8X9mQzY84CNSCQIvefUaOxKP+xyput83Ex4faLTA2h3vT/RnZPBFFOWHHmta9svGIgwAEIAABCNSSABaEtTTbGOthAVXf9G4ipUeWBFcIZaUQB4HCArH2O2NCRHr9GjGJZMpMLB9qZxiGcnv63JxsnnqRO+4vHYtfkY1HHAQgAAEIQKCWBLAgrKXZxlgPC8wzOo/pTzdI/4GIBSE+PBAYu4DfK3uHyRbkoQAAIABJREFUeww58+3Vix4eXoGqW+4Ve6nvMNuMK0RFnG049iEjAwQgAAEIQCDwAlJfpoEfBQqEQBECTbqVYaKwV1Mm8YWUmfiqVxzehwAEvAVU3dpMRAu8I1+LyPeDTJO+aQmT8mOvPEzckTLjulcc3ocABCAAAQjUqgAWhLU68xg30cc216sz+0ffaEKIZ+yOxExwQQACJRK4sjOktjS4/91J7dwbzmSbdt58+eP5eld16z4ietcolfXZpqaWqHKkgQAEIAABCExIASwIJ+S0YlDSAoZRp6bnv0LEdUe1EcKyOxIJ6VwIhAAE5AQMQ1HT524iovgoDZ7KDYZP373+sudHS6rq1lIiWnt0DH/dNuPXyhWEKAhAAAIQgEDtCmBBWLtzj5EPE5hn/LFuYGDXOYLp+JDDO3atTfwNQBCAQHkFDEMo36N7p+f2DTSEeVK/UEL1IRp0wpH03u3GkkH53gU3tXdPUSg0uS6TffWv67TniPHMoLwfIiEAAQhAoJYFsCCs5dnH2CEAAQhAAAIQgAAEIACBmhbAgrCmpx+DhwAEIAABCEAAAhCAAARqWQALwlqefYwdAhCAAAQgAAEIQAACEKhpASwIa3r6MXgIQAACEIAABCAAAQhAoJYFsCCs5dnH2CEAAQhAAAIQgAAEIACBmhbAgrCmpx+DhwAEIAABCEAAAhCAAARqWQALwlqefYwdAhCAAAQgAAEIQAACEKhpASwIa3r6MXgIQAACEIAABCAAAQhAoJYFsCCs5dnH2CEAAQhAAAIQgAAEIACBmhbAgrCmpx+DhwAEIAABCEAAAhCAAARqWQALwlqefYwdAhCAAAQgAAEIQAACEKhpASwIa3r6MXgIQAACEIAABCAAAQhAoJYFsCCs5dnH2CEAAQhAAAIQgAAEIACBmhbAgrCmpx+DhwAEIAABCEAAAhCAAARqWQALwlqefYwdAhCAAAQgAAEIQAACEKhpASwIa3r6yzP42ct65iiK00NEpxCR+xl7wSG+6nEzvrE8PSIrBCBQSoEFxubwrnT6BibneiKaSkQ7mXh5qgT/DTfpm97KpKwnojOIqJ+E+E4uM23l7vUXpks5BuSCAAQgAAEIQEBOAAtCOSdESQrEdOvngujvCoQP2Gb8WCJ2JNMhrIBAzNhcH8oMzgjRoBOOpPduN5YMAgsCpRBQdetCIvplgVzZSFSZtsNofdlvX/M/9a3Is8ef/AQRzcjbVoiP2B2JH/jNi/jiBOYZnXXZTHRGjuqUXKRub8pYuK+4TGgFAQhAAALVLoAFYbXPYIDqj+nWXYJosUdJ+2xTiwao7KoqpandamFBfyKi+hGFP5UbDJ++e/1lz1fVgFBsoAQOfb52ehVl7xoI04YlOa+44e+r7dYrJOiY0doIpov7ktr9fvIi1p/ArOvvnhqqy7r/hpw4ouU+wXR6X1Lb5S8joiEAAQhAoNoFsCCs9hkMSP0X3NwZ3fN0w4BMOcx8VSoZ/y+ZWMS8JuBx5eZAYDiTbdp58+WPww0CxQiouuXetjnyx4Z8qW6zTe0Tsn006V2fZOJbZeJtU1OISMjEIsafwJwb7pqdjYT7PFpdZJvag/4yIxoCEIAABKpZAAvCap69ANWuLu++gRxxk2RJuEooCTUU5j7T1Zvuz8g0s00N/13LQCHmCAH3NmSR7pd+js/P50zVLfd2xEky5Eood2Lv6sVPy8Qixp+AqltSC+3maGNki7Ew6y87oiEAAQhAoFoF8Idjtc5cwOpW27v+hwS/V7YsP39MyuacyHFNek8bk2NKjTHkzLdXL3pYKhZBEDgkMOfGe2Znsxmvq0eHva6Kbg0ZhiH1PLDsQsRNzsK5INWx6NeYmNIKqO2b3kFC+V+ZrIIUvc9s7ZCJRQwEIAABCFS/ABaE1T+HgRhBTO/+sSCxRLYYLAhlpQ7Gqbr1ZJ5nfvImYRLJlJlY7q8HRNe6wOtv7Dp5f5Z3yzqkknGFmaWuOPlZEIY4dP6u5Lt/K1sH4uQE1LauLmLW5KLpKdvUXicZizAIQAACEKhyASwIq3wCg1K+2t59NQnxbcl6XrZNbbJkLMIOLgj3E1GdHIa43TYTH5eLRRQEDgq4u072pxvcz5nUy8+POqre/SKRkPpvPhcNT9ttYHMkqUnwEdSkW4/ywaM+ZF6DtqlJ3eIrkwwxEIAABCAQbAEsCIM9P9VTXacIqdu6pZ45UUTukt6OxfdVz+DGv1JVt7YT0WkylTApegq3e8lQIWaEgOyVaCb6csrUVsoCNuldCSbe5B3Pwjbj7qYyeJVYQNWt7xCR7A9Ff7ZNbV6JS0A6CEAAAhAIqAAWhAGdmGosS9WtrxDRitFrF3tsM3FyNY5vPGuO6d2LBYm7ZGqICGX2jo5W6Vv/ZHIipjYEDh1J8JzHaN1NoRr87gSq6tZfiOj1o+UWinJ635pW98cPvEos0LKs65Scwn+VScvEl6fM+EaZWMRAAAIQgED1C2BBWP1zGKgRqHrPWiJnaYGi/mqb2hv+P3t3Hh9Vee8P/Ps9M5NkElDZFAVzJoDa4lJb0G62QheXzARqe6GrrXbfvLdWyBmw/XW8VckJVG9rN729tfsS2lrITJRqL9qqrRbUquVWBTInIGrrLkmAzJzv73UCoUmYmfPMmpPJ5/yn8yzf5/1MhvnOec7zeCrgcRSMbsSdXUb9uUPmpGWGm8bRsBCqxwRyH03AyaZg/UmF7UAp3Ggk7mSit2Yasu3ns3ZdE97iMY6qCkc3Et1EEnIZVMoyI4GqGjgGAwEIQAACOQWQEOINUnKBg9vX932bSJxdR/1MtIVT/OHur4WtkndWxQ3qRnwzES0aNsRXiGhyjiHvawo2TC7sy3oVQ2JoBQkM7kpp8+XCrDPRX3y2tO1c2/JEQY0Nq6Svvu14SQ8YTLyISJ4l4W9bZvgWUtygptj+S1F/jrGx0Sbf94Tk7USkEfFjrPGnkmua73Lad57H7Otv+KqQfRkRB4noJSK62gqGr6MYH9yZVYRD0cSnheirRDSNiPYTyffSB6at3H39m5SP/8hnPIeOr3E+R7KeNRkIakdvjzW/nE+7KAsBCEAAAuNbAAnh+J6/CRf9G6/rCO75Z8NnSOw3sWhpYbrdel3zzbSc09WCMe+K384f8Pv/lnU8TE+R0IgdAA890xXLdxlftZhhHNUjMG9V14wBspewLScL0y6fyMad5pKcx2HMXR0/LZ3WmonSU5j5gcnTAl0Przy/txwqoWj8RhH6ZJa2e2zN/yHNTv0ha99pe45WI3122vd0tjJic0vP2nC8HPE7J3uEjHhMiP7fqPa/b+3s+yStX141n6Vl8kOzEIAABKpOAAlh1U1p9Q4oZMR/K0RLs4zwWsuMXDnuRx+L1ej9CxV2erRvuDT4wBe+8pWviOrW//na6NGuj5LYNxGRb1jdzVZb+B3Eh+5y5NsoykMgm0Bss1/v73V+CMn0nOFLfcG+2f+MLd87vHqu5+JE+Jc97eH3lRJcNxJfJZIvlbLNbG2lic/YbYYfyaevRqPzE0x8AxEd2iGUXxKyL9ZYmycizrmCQ0vOnyW235tc07L5qquuYtXzJPOJBWUhAAEIQGD8CCAhHD9zNaEjDRnxuyTLs0f/gtHWWWbzyvEMpbd2PkPMx6qMIZ9t/1XaG15GNxLPEEnWOPz+QOOOa87flW+7KA+BzALCupFwlknmPOqgIdhXuy22/IDTRih6S0gk0O0iep9lRt5QCvX5sUdrevuTCj/WlKK3wXv9aas94vLM8MG+FnzyxsCzU2c9T0KT8uy9ZD559oviEIAABCDgIQEkhB6aDISSWeDElV1zNc3eruLTEAzVboudNviFcTxe+RzgLWSf1mMuyb60tEAA3YhvJaLXuVW3zLCPCHcK3ZzwurtAoxG/nom+4F6S7rXMyJudcmqbLDkLJO23W21L/leh7ZxF9NXxMKWpXMs4M/Y9EJSGPbGWPrfYdSP+DyKa4VYu0+vluJNaSByoAwEIQAACYyeAhHDs7NGzooDKdvVDTTFTNNkWMRWb9laxWEzT+xfm8fyOfNAyW35WykGcsWJTw0u+gRHL8rK3z7+2zPC/lbJ/tDUxBfL5IcQKhn0h6jpW+uUpRa1nLTNSULI0vH09Gr+ahCq6LN1Htu72/GSjsfEcJu2PihYZix09PTCpXM9cFhMX6kIAAhCAQGUEkBBWxhm9FCGgG3FnVz6196pQl9UeCRfR3dhVFWE9mji4A6HKxfxvVlv41ypFVcvoRufniPibquXLuWxVNQaUG98Cy5Z1+O6fU59SHYUwTfXZ9BabSfmcvFK8T3Wj80tE7OwIWrHLlvSsXe1L9+TqUDfifyGihcUEpTEt726LrC+mDdSFAAQgAIHxK6D2JXv8jg+RV4FAPncPmGhT0oxcMF6Hnc9YVb4s5usQMjq/L8SXqtYrxRdt1b5QrjoFlnV0+O7fqp4Q1qZkxkCAF9tCHaoipXifNrXedrbNqftU+yxFuekvzKzZetNC5/zRrJduxPe5PXvpFguTtCXNllVu5fA6BCAAAQhUpwASwuqc16oalW7EnyeiKSqDYpZvJNta/kOlrBfLhIzEJiE5TyW2UnzJHd1PyIhfL2rPcg1WLUcMKmNHmSoSyPPOuJMkvTDtmaa0LY8pKpTmoPU841SMLVexnZYZmevWjm7EnyOiqW7lcr3OpBlJs9nZhRQXBCAAAQhMQAEkhBNw0sfbkE80Eks1kt+qxM02H59cG856vpdKG2NdRjecZaOS828zJfYbn2xf8udSx9rU2nm2zax6F+QVy4wcVeoY0N7EE9CN+D1E9CaFkb9kmZFjnL+Pg38n7hczfzHZFr7evaR7idCqrnPFtu90L5mzhLNTqfOcrnMYfdarL9g3efQxG5kK662d7cRc1O7Kfh+dvuPayKNFjgvVIQABCEBgnAogIRynEzfRwtaNuHPIdL3LuB+3zMgpVWDj0424swV/IPNY7GbLXHJrucapumyVRXtjsr255ElpucaFdr0rcNyKHzXU+aa6bmY0fJMVPZp4D4n8ymVUzt3BmsFDHEp05U4K+eq+YK9Z31+/m4iOztDl41aw4VSiu+xQ/4I/C/FZGcrsT2kHZj255t3OnT/Xa/bl9wZ9Nc+77kSaqyHc6XdlRgEIQAACVS2AhLCqp7eaBieabiScpLAu86hkj2W2zKqmETe1bjiF2Pclm2gmkezXiDq6zZYflXuMTcZtr7Ep9VCufpjovmSJzncr93jQ/vgQ0FdsbCKftjNbtEL2W3rMJXcPfz0UTVwuItdlqbMvfaBv6u7rlzs/rpT2EuEmY9NZNg+cR8x1pNGfGmpCtw8/8maOsbExzbyEhU4UjR8PkLZx+5rmfw4PZH6sY2rf/voWStOrieUpm7mzpy2S1SDbIPTWzg8S808KGaTPlpN3rm15opC6qAMBCEAAAtUhgISwOuZxwowiFE1cIiLfGZYYvqxJ+t+625fePmEQKjDQE1fHT9PS9EimroTkRz1my0cqEAa6mGgCMdH0/sQXiehLB++wST+TdkN9sPfLQwfSjyaZffltU7VA+tvM8h4i8hPxbmL6Qql34PX6VDRG4+9goQyfgyxZlqCnmAdOSrZdlPT62BAfBCAAAQiUVwAJYXl90XqRAs4OhOu3bROKxZSeFyqyO1QfJeDcpRRNezeRNllYu9t67SubaPnyPM5KBCkEyiggwsvWr9dO3bZNYviMcKD5pGi8KWXL64R8qVQg/Zfd17Q86SSEc1Z1nSQiryGb9ks935+Mje9nrcv4rkLTEIAABCacABLCCTfl3h9wKLb5GLuv9wlmmj4q2p9YZuRi748AEUIAAuUUcJ7jI1tuF5KRz9ky/9za0XsxrcePFuX0R9sQgAAEIFBdAkgIq2s+x/1omq5MvNVOyV3ZBiJEqR4zUktEuGPoodmefXlHsK5u0iRfemDfY+1L9hI5y9RwQaD0Ano0/jMSen+ulgNB7ejtseaXS987WsxXYNmyDt99c+uPqucD2szaKS/dGVucyrcNlIcABCAAgfIKICEsry9az0ego6NG31rvbMnudj1tmZHj3Qpler2ptevfRKOLRex6JnqWfANm8tqLcm6gUkg/E6VO46pEhG3pHD1eJm5PmmFjojhgnJUR0KMbP06i/bdCb4fPHpy7On5aOq01E6WnMPMDk6cFuh5eeb6zQRWRwuYwpdr4RSHmqipyQqyzvqaf/yxEp48cmDzjT9ecsWPd+f+oqgFjMBCAAATGsQASwnE8edUWeh5nkVFD0D9tW+wC58B6pevE1g0LNfb9JXNhsa3g1iDFYgeUGkOhQYFGI3495z7EvscyIzq4IFAqAdUjUZz+mOizQvTtTH2L8C81H38n+5mCfLUV/MtXSnU0RKnGP17aOeGKzukBP4/YUXV07HaaTt+1Dmcfjpc5RZwQgEB1CyAhrO75HVejy+/LnhhJs6VdZYDHRuNzgkI73MriLC43oX+9fmJrYqHGkiXBHt4Of8syw59XbxklIZBZYI5x+9Fp2v9i5Xx4H5FkOebmYBSqh8dXLmZv9KQb8YGDO77mvqxg2EcxxvJ/Nyi8DgEIQKDMAkgIywyM5tUF8koImX6QbItcqtK6biTsLNuuj66+zTIjp6q0OdHL6Ebc+WKe6eDtI2istrBGjGcKJ/p7ptjxh6K3hkTS3cW2U+L6Oy0zMrfEbY7r5nQj/iYiukdpEKxdZrU1f1OpLApBAAIQgEDZBJAQlo0WDecrkFdCSNyWNMOr3PqYd1nXUQP19ktu5YZex11CBSkR1qNOkq121aZkxuNfa3lWrTRKQSCzwLxVXTMGbNtzz51Nf2FmzdabFjp3xHARkW7Ef0NEFyliPGmZkdmKZVEMAhCAAATKJICEsEywaDZ/Ad2IP0VEM1VqshZ4dXLN+X93K6u3dt5LzG90K3c4IVwQ9tNyxjl7OcBisZh2c/9CZSNmX1Oy7UIcfq36JkS5zAKxmKbn8b6rFKMt6Vm72pfuqVR/Xu8nZMQfPnIjmaxRH7AO7hqNCwIQgAAExlAACeEY4qPrkQL6lzY20YC2U8HFtsyIL1e5RbHNdd39vf0KbY0o0hRsCGBbdBe1PO8QCtPUnrbIC/nOBcpDYLSAbnT+lIg/4CUZH9n6TnNJj5diGstYdCP+YyL6kGIM2y0zcpJiWRSDAAQgAIEyCSAhLBMsmiUKtXZ+WpivJyJnYwbnXLq/NgQb3rIttnhvNh/diH+PiD6Wy2+/ph379JrmwzvYzY911PQfmDpFal7Zn4xdNLjphG7EnbOuciaNmfrAklG1d65uxC1no1GV0pYZ1nAuoYrUxCgTWpk4U1iuIZaFxDzgHP0wuAGJ8BYWvjK5Nnz4GJhQtHORLXwVE72aiCyy7TbS+GYinuwVrYGgNOyJtfR5JZ6xjuPEFfHTNB89ohIHE70/aUZ+oVIWZSAAAQhAoHwCSAjLZztxW47FavT+hfsO7vx+5CVEP+gxs28I02h0foKJb8pQtT/Qp83cfsPBA6f11g2LiXy/Jx7VD9NOEppTwAQ4x04455NNOVR3m5ZOv7973dKHC2irqqvoKzY2kU/pbu5Ky4ysq2oMDE5JYFFss7+7v9f5IeEElwp7Gg74T++tSTnLMDMvJ2TqIqHm0e0Ic4pFXHe3VApYpZBQ2mqPVK4/lZg8UEY34s4PdtPdQrHMiHbox0K3ongdAhCAAATKKICEsIy4E7Vptc1h5GrLbPlyLqOTY5unD/TtncOs9Wt9/Pj2G5oPH1ofiiauFRHXTWVKMQfMtDHZFllairaqqQ09mvg4ieQ6JPwOy4y8s5rGjLEULqAbcefHlvrCWxhZ01mKzJq/zsfpWekB6eX6hm7p23sfMZ9Rqj7c2kkTn7HbDCvdDXNrq5peD8VurpO+GX1H/Fg3bJD+dOA4HE5fTbOOsUAAAuNZAAnheJ49D8YeMjo3CfF5KqEVujyz6cqEbqek0puUfMcyI59VGddEKtPUuuEUm3z3EtPUYeMWIft9PeaSjolkgbFmF9Cj8StIqLR3ikW6rfaWESsBdCPu/GhUU4m5EJtbetaG45Xoa1z2cXATIOcHo48Oj19IflfT51sy/Ae+cTk+BA0BCECgigSQEFbRZHphKGp3Bw9G6hM+a2d7eEu+cetG3DnCYFq+9TKWF5Jcv2IPr5M+0Fe/+/rleW9UU5I4vd6ICC+66k7fIrrLjsViykdSeH1YiK80AroRd94TJf/35uwFff71y5cf3vFWN+LOsRQzShN17laEaW5PW0RlE6xKhOPpPpZ1dAw+z71++TIbzxN7eqoQHAQgMEEFSv4P9AR1xLAPCeSTEDLLZ5JtLd/NFy+fPlzbZtlLwpNcyzkFWN5ttbXcolQWhSAAgYMCee5Kmw9bOuiftjt2wfNDdULRRExEvpJPG0WU/YVlRt5fRH1UhQAEIAABCHhCAAmhJ6aheoLIJ1nzREKYB72m0bXdayJX5lEFRSEAgQomhPNjj9b09icPP2tcZvynLTNyfJn7QPMQgAAEIACBsgsgISw78cTqIJ+EsIglo84RFsVfrH2MxHZ2M1U6noKZVyfbwmuK7xgtQGBiCVRqyaijqq/sbCaNE+UWZqInkmbk5HL3g/YhAAEIQAAC5RZAQlhu4QnWfiU2lSnFM4RMdEHSjGwKReMbRGiJ0jSx9jqrrflBpbIoBAEIHBao1KYyQx3q0c4PkvBPyjkFQmL0mC3t5ewDbUMAAhCAAAQqIYCEsBLKE6wPtbuE7sdOzFvVNSPF/Hay7eNF0n8/4bjpd/7pi2/qz2OX0ecsMzI9tDIxU/PJac402Gl+NLk2/PTQlDStvuM4O73v8H/nmiocsD7B3sgYbkkFSn3shBbwvYoG0meJRtM5nf6br3/+H7bfcNJ+ffVtx1M6vZlITinpAEY1FujT6rBTZjmF0TYEIAABCFRKAAlhpaQnUj9FHkx/3IpNDXW+ge5MuwUeOhPwXaFo4hqVcwg52DAlGVv8Yi5+3YhfQ0Src04R7g5OpHcwxloGgZIeTE/Ul+VMw81EtLgM4Y9okll7X7Kt+Zfl7gftQwACEIAABCohgISwEsoTtI9Qa+enhfl6Iqpz9hokor82BBvesi22eG82knmXddUO1Nv7XMi6LTMyRzcSNpG4vYfFMiOa2xToRufniPibmcpp6fRrutctfXjotdmx26Zq/XR8gGl/uq52dzK22C1et+7xOgQmjEBoZeJMYbmGWBYS84CzCykR+Ul4CwtfmVwbfmgIIxTtXGQLX8VEryYii0T7L2K7FEtBDxR8XqEtYWttS5cTYyi2uc63b//sAaFaO0hPDd/xdMJMKAYKAQhAAALjXsDty/S4HyAGML4EdCPufBl8jVvUTPwjIfmwW7nB1237E9baJd9zLdvR4Qs92LCQhc+ySfb5/IG7dl593hND9RqNzhYm3pihnacCfdqrtt/Q/LJrHygAAQgULKAb8T1EVLGdPYXkCxqxkzwS+3z3dF9zwSPELPMu6zpqoN7+e6ZYhGRJj9nSWfAgURECEIAABCBQYQEkhBUGR3fZBQ4tKRsouZHQ81Z7pKiD7HUjvoKI1uaKTZim9rRFXih5/GgQAhAYvBsn/b39Fab4P8uMzB/eZ2M0PoWFDp99mCWelZYZWVfhWNEdBCAAAQhAoCABJIQFsaFSOQQObgaRcu4AlPqyLTOidLREpo6bVm84zk773DeeYdprtUUmlzp4tAeBiS4wP9ZR09sf/DMRv7bCFgcsM1I7vE89Gn+FhCa5xaH50jO7r136jFs5vA4BCEAAAhAYawEkhGM9AxOh/1hMO4EW1B1D/altseWDy68yJl5XJHTbL8kykPRbZqS+0HZ1I347Eb1Dqb7Pf4J17QVPqZTVo11Xk9ijD7rvttrCJxFzWqUN5TIivGz9em398mU2EZfmHEflzlEQAnkKiPCiq+70LaK77G/R/Pr6/vpX8myhVMVHHD6f549Wd1hm5J0jAhHhC//9hpq/BZv+i5k/Pey1/0vbsnT32pbDS9RzDeDg8nXtx0Ry9KFy+4XkMi347I+lf8Z/E9GHhtV/QEvtf3f3unf3OMtdSwWDdiAAAQhAoHoEkBBWz1x6biSNxq3nMNl/yLDxy98sMzJ4DMTw64wVmxpe8g1k3XCm4AGKfI+11DW+uvq+i+m8Z2MxtvNpS+0YjYMtakQXd5sR100vdCO+P9emFgFNO3X7muZt+cSZqWzI6PwPIf6vUa8d0Mh/drd5wV+H/3/nLkyKgkcdeDGVSh7z15cpFsvLqdhYUR8CenTDa4l8f1C5A1chrSstM3Lt/NjmSf0DfdPEpqViy9dV+7bMyOC/saFVXeeK2F0k5PbD1DrLjKzM3r6wbiScZxdPVo1hVDlnSf5FlhlJFFjftZqzMRhNoqNsO3BgZ9s7XkYS6kqGAhCAAATGXAAJ4ZhPQXUGEIp2fl2E/z3X6Ia+LA2VOSkan3NAaIeiiPMsUVCx7OhiCSu4ZYlqwpNPQsgaXZ5cExmdgI3oXzcSzxDJsW6xW2bYT1T4nULdiDtHd4Sy9cNMZrItEg2t6nyV2Pzgod1g/1Wc6TbrdX0RWr68tHcr3QaO1yekgG7EnaNfnCNgquZyPuN0o/OnRPwB1UEJ0cU9WX5UajTidzHRW1Xbyvq3T3R70oycV2w7w+s3RuMLWOjPgzvGDruEqKMnuOX9qp+3pYwJbUEAAhCAgJoAEkI1J5TKQ2Bm9NZQraSdZMTt6rPMSMNQIT0av5qERi+hzNqGkLaEyc6066dbv87rA9bOviCtd092dCPuHCsx4jmibB1okj6vu32ps8Q043XmFzYf80Jtr+rGM3+1guHXLfvbel6vEOeIL2dG5w+Z2HUXVib+gpDkSGBZGoJ63bbYaVmX+qpgowwEcgkM3hkU3wMVVHL+BqeUub/9xPbnSTRnCWdel2WGtcGl3SIcu+pKypWpAAAgAElEQVQqjsVidp7LVd37E/p/Vnvkq+4F3Uvo0fhHSeh/cpQ8YO3sq1f5vHXvDSUgAAEIQKDUAkgISy2K9kg34s7dO+fsQderIdg3eVts+eAy0VA0cbOIXOJa6VAB59f30OrEmZIW54tkIe/lOy0z4nqIdX53LuT3VnDrBRSLpTKNI2Qk1ghJVHWMo8rtnv7CzFO23rTQOZQ755XPXU23togoaZmRJoVyKAIBcpKYecatswbYbiTb3ufTgs5d/6NTdt+JWsDfW1/Tu33ob36IS3WjllLyip1ezpqvo5RtjmrL+XGrdHc8hSxi0ksZr9UW1opd0jl3xaZjU74B981zmO+z2sJvKGX8aAsCEIAABEojUMiX6NL0jFaqViCfZISJ/pA0I+c6GHpr/EpiuloVZviS08FzwepS8wbr+rQ4idpZZU3BhsCdscUZk7fDccRimt6/MK9lk34fnb7j2sijo8cSinZtELGXqI4xUznbR6fvytD2UNl5rV2zB9jeVUwfo+s2BP3TtsUucNtqv5Rdoq1xKKCv3Phx0pTuiD3vo9o5O813vuQkkHo0UY3PqzobuHj631i2+fjk2rD7Dso53ou6Ef8jEZ2j8nYN9Gl1229odp6fxgUBCEAAAh4S8PQ/Vh5yQih5COSTEDrNClGqx4zU6kbc2fBAU+zqIcuMZNyCPp/+7YA2b9fVza7PLSofPTEseCb5kc3aTp+d+kV3+9LHnJdCRvznQvQ+xTFmLWa1hX3EmTfHCbVufIOw9qdi+xheXxNtWXd7869K2Sbaqi6BkJEwhaQ1n1H5qPaYxqC/t7u/t/Tnj+YTyAQt6yM+Y6cZfqSY4efzeSuadmpPCTbLKiZe1IUABCAAgSMFkBDiXVFSAd1IfJ9ILi2gUedXY6Xn9Jy2j54emPTwyvN7j+insLsN11pmxP3Zxdhmv9639zvE/PECxtdXJ+mZ+9jZEMIXL6D+6Cq/sMzI+zO1M2dV4uS0LYMJaKkujWhlWtO6yE5N9Wu+fzTW1u90vbNaqs7RjucF5hgbG9OkWQUE+vylwS0zbs7zDnwB/VSmisj3RKMnWfgrlemwuF6YB5qSbRcVddRPXgkh2W/pMZfcXVzUqA0BCEAAAqUWQEJYatEJ2t7syzum+mrqn6vE8H0+/uDOa8M/y9ZXPl9Q/tWGts4ym3Ns936wZGM0PofVd0I9IsTpL8yseXbK08Vv0CIkNvNFGsnNhzbHcJanPWHbWvOu5N6kPqc+9zLYEkzU4O6BZuS9JWgKTYxzAd2I30NEbypkGM5zxL399S86i70LqT/WdfycPmnHmiU7hp7F0424s7xcdaXDmIavtGTeJcJ8Pm99Gp+yc0348TEdNDqHAAQgAIEjBJAQ4k1REoF8vhQU26HfT2/ecU3k3oztiPj0aMLZQXByvv00BEO1brtphqKJC0Tk1nzbHiovJL/TyH+dUPq2Qttwq+c8lylEjbmOnHBrQ/l1Ictqj2Q92kK5HRQc1wLF/P2zj19LNs0s5u9qLPHOXtDnXz/saJZiLCo8DqVNtdxi0o3ELUTyLrdyzuscbAgmY4udXZtxQQACEICAhwSQEHpoMsZrKEUsEy1oyMx8YbItfERCNXvVxnN9tnZnQY06X1aYosm2iJmrfpOReKtNclehfVSqHhNtECJn85ocf+PyDyJ2PQ/RPWa5wjJbrnMvhxLVKlBMEiR2+pyetUvv0VvjPyOmjMug83HTSM60iR/Kp06hZYX5uz1t4c8Mr1+MRaFxFFBP+didjG0f3GjLOU7jo3n2fbdlRt6SZx0UhwAEIACBMgsgISwz8ERoXjecHQKlcu+ltD3HWrdkxDmHCz655ehnpzztLDsr/BLqstoj4VwNzDFuPzpN+4vrJ0sHzPwNEfn3wgcwsubR6cCkl3wDzm6jOc5bc+528oXF9jl8x9ecbXWIT3+g61IWeqew7SPW7j1hRu93/vTF5c5RJbjGqYBuxJ3neesLCd9HtfpO8509Tl29tfODxPyTQtoZquMcpTB35e9mpHwHHibi44ppy6XuA5YZWTC6jG7EnySiE8rYb7FN/56Zf0ViN5FQt/gDG6xrL3hKtdFQ7OY66ZvRR1zYDqqj76iq9otyEIAABCBQPoHKfYkv3xjQ8hgLVP4XcbmaiJ1NYP71/hVKExf3DBITb06a4be5cepGZ5qIy/GM0EvOfjlu/au+zkTXC9HlbuWF5JMs9HliPsOtbLbXLw2GfbFY5l1Ph+roRtw5k211pjacO5pJM6K07KzQGFGvfAKNrYl/Z5avF9KDFdzio1js8LET82ObJ/X2975SSFtEtN2fDrw55Rv4tepRCAX04/z69YGkGflFprqhVYnXiy1/LqDdsayyJ9CnzVE5EkI34v8koumFBluKoy4K7Rv1IAABCEAgswASQrwzihYoUULofCF0TbKEyGaFcoUMion2JM3ILLe6J1/eOWt/De92K1fI6zalz9XIV5olqXkkyYN3+ER42XrSaP16enDepKkDtv0P1TG4bU6hG11riewVudobfialar8o5xUBYd1IOJup5Pdvikir1d6ydvgoZl/eEfTV1PcVMjIWulyYri+kbj51ct0RbzQ6W5h4Yz7teaSsWDv7ArR+edYzV09cET9N81FRx1Rofg51XxMuZEdajzAhDAhAAALVJ5DfP97VN36MqAQCejTeS1LYcrGh7vdr2rFBsj9i2zTiy+Hw8AY31izPnbnD3VhmWDuldeOktC9Qt2/f3r27rx+2lDH2aM2Je5Mna2zX+DTfQJroryVfKstyWb9mrw+m/buIJFCC6VFqYiAoDXtiLYe/hM+7rKt2oN5W3vzBWaY3tMvi6A5Dsc110t+rtCTUtrV5u9a6nwupNCgUqqhAvsupmemHybbIJUcGOZhc5n1QvTB9ioVurNCgt5LQtVZ7+BYidnb4HbzOWLGp4WXfwFNSwKZWFYrbrZtfWWZkWbZCuhH/MRF9yK0Rl9evtMzItUW2geoQgAAEIFBCASSEJcScqE01tSbeabP8rsDx9wf6tJmpaUHN7ut9gjnjUiRbNL6c7cKWpBUY1+FqzPwBEXG+CB2xLT6Ldjn7aJbY9gIhWlx0XyTtSbPFcNqZffm9wUDNcyczS82Bupodu2MXPK8bcWdZ6VHF9jO6fkDTjt2+ptlZCnb40o24c1i4X6Gv7ZYZOSn7l8i8zqZ83DIjpyj0iSJeFBDhxmjiy0zknMN38I4/014Sbjj844lQt2an39W9bunDORKP/8ljwxLnjtaYHVnhI1tPixYhpm+VeEp6NI1uyPUjWYn7G2zu4I87zhE7iddpJB8W0maRbb+gab71tp3+GjGfVmy/ys8cF9sR6kMAAhCAgJIAEkIlJhRyE9CNxGNEcnKucsyyuKZu0qMDfXvnMGv9Wh8/7jyz0nRl4q12ymXnTpGHiPlMtzjG5HWR62yyf66x7y9F96/Rx601EefLcMarqXXDO232FZp8Zw3POQtuW2z53uEFVHdU9acDx+1Yd37W5aV5JrFimRHXpcNFO6MBbwuIsB7t2l/Ju+QeBHlS8/ma7XT6r5WMzce+s9OSvr+cfeZaUVDOftE2BCAAAQhkFkBCiHdGyQR0I34HEb09U4NOMphsaznySIiOjhp9a/3+kgUxRg3VBew5+wa0ncV2n+lO3eg2daPzSSJ228XQWZLl3GlUunNyKAk7vPSNlnXU6HMU5oXtt1ttS/4317jz3YHS9e6BCM+/an0guGeObL1poXMXE1c1CnR0+PSt9Y8R0dxqHJ7bmIToRudICz2a//JZt7bH+vVLg1t8sWEbCeUdz7DnndfneOYx73ZRAQIQgMAEFUBCOEEnvlzDXnTJ5jrruL0X20xvYdFSwvwTq605a8KgG/F7iOhN5Yqngu0627YfX2R/yssldSPufFHOckdWW2eZzStVN/sRoid6zMiItnQj4TzDONt9PLzbMsMn5ioXMuJ3CdFb3dsaLPGCZUamZio7c1XHjFq7fgcd8XyWPGiZkYVEuXc5VewfxbwiIMKhq7qOk35RPhLBK6GXIo6hO++NKzdGWNM6ldoUGiCmij17rBRThkKuP/pkaTj0hVuOkRr/XaN3RGbmq5Jt4Vih8aAeBCAAgYkugIRwor8DSjz+kJEwhaR1dLNM3J40w4PPxg2/VJOWEodZluacu6AivLnAxvdbwYZJFFucUq3fdEVCF7/8SIgWElGKiH/NwfrPJmOL9zW1bjjFZt/fVdsa8QVtcLme+l0Jt+VfTpy2X5IqsdjE79plhjeMLnviFRveqvlz775qBRuCFFusvBGOSjwoU7zAsg7xPfjHW/2vfXpvSuVuzimtGybvZ989QnR68b2P2xZ+YpmRi4eibzLil9lE38gxmrQwnUy2XMzMnk6MWGh9sj2yPN+ZaVp96xkuy2dfsIJbpg8/wiTfPlAeAhCAwEQVQEI4UWe+DOPWW+NJYtKzNi1kWe2RUAUSQmfpY8Xf205S1Whs/BST9t1sBkK8hUmcBO7wJUT/1WOGvzh8t8Jip0dvjX+ZmP5TtZ3hCeHs2G1Tff2p51Trpo+bWr/7i2/KuYto7juah3vqs8xIwxH9xsSv9ydUloYesMxIrWrcQ+WWdXT4HvzjJP/2afcP4MtkvnrZy4eiiUtE5OZRJWxhOr+nLeIsLz/iCkVvCYkEuksXxfhrSYg6eszIe0dH3hiNT2GiB0lGfsYO//zQjbhzB32Ol0c9/YWZNfku9Z4f66jp7Xdfws5Cf0y2R9xXI4jwoqvu9C2iRbbb+aletkRsEIAABEolUPEvzaUKHO14SyDbncHRUY6+U1hNdwiHkqqDxyz0/YbIPv/QAfbOM5JfuzS45cuxr3xl8Dm9ZevXa7SeSOWOybLYozX37+s5R2OZZQs/eXZd493rY6cdGG0bak38QliO+CKp8k4ZnhDOjW06NtU/8IxKPafM0dMDkx5eeX6vW3mXZx/3WWa4IdOyTz3a2UnCEbf2ndc5te/Vya/9m9Kd0UZj4/VM2hdGtCskLOnm5Nqlt6n0hzKZBXSj8w4izvg8sVNDSL7eY7aMss/vznTV2TPf5/f5l+245vxdWccmwrGriP82fz07nx/3nBqsDezTfkkiSn8fY22m+dIzu69dqvzZMhRvKNr5dRH+d5X4G4INk7fFFo/YIGuo3twVm45N+QacxxTmjWxLrrDMlutU2kcZCEAAAtUogISwGmd1DMaUT2I3PPnQjbhz1MF01ZCFtCVMtvcOfWbeZrWFTx09jgWf3BJ47pinfypMI8/2YlphtUW+5jZuPRp/iSTDMRNML1ttkaOH6utGZ/pQ8unWZMbXRywZjW326/29KnfkBtuygmFf477E21goTkTD79D9bfoLT5699aZPHT7f8NAuqb8adnTGPmb+TLIt/INsgetG3DmTTu2ziumbVlvkMjcEvTX+HDFlfFbxYMLCP+oxwx9xawevHymgt8Y/q3IEg5D9lh5zyd1DLTQanWuYODpRTXMlMiEj/j4h+enIv3F+kEheW0KvV458PreI1plTJOJ3sn/iw3+/+4Xksh6z5b+dlo9bsamhzjfgHOlz0bCe7vanA+8ZvnOxbsSdpfRKG2QJyZIes+WIZy5dd03OsIKliNGjKgQgAIFxJaD2JWtcDQnBVlrg0D/qGX+RzRTL9KA0bD10CLr+pY1NpLo7p8g/rPaW45w2G6PxBSRamG17Mmm0otJjHt2fFQzXUoxH3LVrWr3hODvtezpHbM9ZwS3HZlumqJJkO4lcyIi/XNRB2MNc/5VgJg6obfnPA8z0kIiclW2crGmLkmua7yp0jlQchtoWog09ZuRdufpSveNop9Ln7vra0j8UGvdErZfHfO23zEhdqHXjG4S1rxLROzxiVvlzDUUes9pbXpVp/LoR30pEryu3zaHzVn9Wwn5eIKIpGdtzzqbUaAmlKfsOxUwfs9oi33fq5/GeImb+YrItfP3wflX/jcq2XLeEJmgKAhCAgCcFkBB6clrGV1ChWGJmfjsB8lOWGT58bIJuxP9GRPPdRm0Ft9RSLDYi6QoZ8auE6P+51S3n67Yt79u1tuWXI/pQ3JiFSf6SNFvOHh2fbsSdIyyaFOLucfJjhXJZi2RynR3dMM8nvidc2xX6OTG9361cnaSPeqx9qXMHIu8rny+DJPI9q73lE9k7EdYNxQ1zhNJWe8Sfd8ATuMIZKzY1vOQbUP5xiIheclYde5BsDxG5He1SqrAPWMEtwUw/DDVGE99hkU+XqqMc7bxsmZGjdaPzc0T8zQr0p9SFMC3saYtsPfg3K0rfV5jk68lRy5F1I/6bUXchs/bfEOyr3RZbfsSSfKWAUQgCEIDAOBVQ+oAdp2ND2BUSmBHbPKm+vzevL/sisqunveVwIqMbnX8n4lOyhRxIpU7d/rV3bcuQOFXk1/MscaUP+PfPfeqa91ijXw8Z8c8I0bdVpqAh2DdtW2z588PL5pUEqXSSpcwRrrFYTah/4aNCdJJbs5JKLWO/f71buUOv91hmJPuGQzkaCRnx+4ToiKQ5UxVN5PXd7S1ZD9XOZ8dTp323HVQVxz5his1b1TVjwLb/Md4HPHjnfWXiTNFki+pSxULHnO09tuDGGwPP7pxVwcSERTXpKnSsBdRLWWYkoBuJbiIZsSFZjra6LTMyYmOdvD5PNXmTtablTwXEiioQgAAExq0AEsJxO3XeCjyvf3APhc4avyG5Jnzf0Ehmr+w8yaexk+BNHja6Oy0zsjjbaPVo/BUSmlRpDbdEQTfizxLRNJW4WKNLkmsiPxwqW6Ev1Ue4hlZtPFds7c7cMTtfGu27rOCkC0MDr5wpKU35i1OhZ4/Nj3VM6u2vV/nBQSwzouWKP9Ta9QZhWznmsxf0+dcvX+4sIcSlIFDAHUKFVitfZPC9qniXv7joxLbMlozPxs2JbjwrLVrWHzeK6zf/2iL0hKb5PimSLvRonfw7JaJAn1Y3UG87/y4c8Yx2lgaP2G04v3+f5IOW2VLKpbMFjRuVIAABCFRSAAlhJbWruK/G1niKWe2h/2EMeywzMqtQloMbLdDPC61fTD235CafLyAa07dtm/awxvOE5EnNx7+zU1LwM3e5xpU17tjmSbrCXV4W/mWyPfw+pw+Fs9FGhOJmlituvXXjZ4m1b+Uq0+9Lz/yHyw6Gc6Mb5qVUlsIe6sgt8S/mPVStdfN57xdswHQPCb254Pq5Kw5YZqQmFotpN/cvLOuPAUz0/qQZ+UWmcHQjfg0RrS7TGNWbte1PWGuXfG+oQqOx8Rwm7Y/qDRRXMqBpxw7Y9o2qSz6J6EnLjMwe3ms+78lin3kubrSoDQEIQGBsBJAQjo171fXqbPLCQs7yqryuopKEInfWHBGo0P8Q08dUg3eLWzfizgHpeZ+Jp9p/YeV4wDLDNVm+fL6o+izX0Nh1I/EBGtz5UO1yM3NrRV/R+UbysbNl/OjPrVcagn0nbIstd392LSaa3p9Q/ZLvesfRLeaJ+LrqLqMF24i8aLW3TNGNuLN7bbDgdrJUdDZXSbaFf+4sn1R+3rSwIB6wzMiC0VX1lZ3NpHGisCbLU2v0DyNzjI2NadIezvCZcS+R7CfirKs68o3QR7XHpGm/c3fQ+dt3v1i7zGprHvEcpG7EnQT2HPfKRMM3PVMpjzIQgAAEqkEACWE1zKJHxtBodP6QiT+cTzgFJwmlXc5lNwT9M3rVD2O/1zIjOe9O6EbnN4n4c/lYlLssa/ai5JolGe885vMLukZyZrfZ8tdXrfrNtH67xlkaq3KVLLmaffm9wdraf86yB/wD3ZPrn6TYYmdLeuUrZCQeFpLT3SqI8Id72sPOlvi48hRwO4cwz+ZGFB/+/LFuxH9NRO8upr3RdUcei5P4O5Fkfba50H6F+bs9beHPjK7faHS1ePFYnYBoJ25vb949Ol7nWJ1XJj919L4Ap3vqwi9RjG29Nf5uYnLmpSTXUDKqG3HnKBzXTZ6cY3CcOIZ3fuj8QffzD5nvs9rCbyhJ4GgEAhCAwDgSQEI4jiZrPITaaHTez8RZjyAYNYaCl4yWejmXsxRSWM4lopluztaCvlpannsXOidp8dU8f/j8Pbc2C32dhS4nGbhTtMCDLm38n2VGMu/kGotpej5L41g+ZLW1DN4Z1I24s+lFwD1+bx38rLfGU5RzibM8aJktZd/q391t/JYIRROXiMjNo0ZgC9P5LHR7oSPLdKj9vMu6jkpNk/rUUVNemrrnlcHnSB9ee97g319TNHGFTbRWtT8nAZl91aYp/n1ylPjTQRqgIzazUm1rqBwTbRaS7/lYnpjS9NRDWz/1qQznfJb9jmS+YQ8v/2bLjNyr1EAJf6wbfgzECVd0Tg/42Tm3Nutlp+n0Xesij2YqoEfjHyVnJUj264C1s6+e1uOZYaV5RiEIQKCqBJAQVtV0jv1gZl/eMdVXU/+cSiSjN5VRqTNUJhTtXCTCJd3cgFmuEmHnCIusfxean8/tviasdDZd48pEhDU54oDkfMaZsyzTAastMrgstan11lNsTv89U/nhz/1lbi/PL6Is77baWm5x2mqMxqew0IgdUkf3IUTP9piRGZn6ntOaWGhr9kLnNc3WtuxsD+e97LhQz2y7lzLxX4jpaRJ6QTTtu9aaC5U3oSk0lmquNz/2aE26b0ftpBdn7dt608LBRKjRiF/PRF8oZNzCNLWnLeKccad05fdZwQNq528qdT2ikGWGNSJnU6bMlxeXih6O1LYXWGuXPKA66hOvTCzUUvKXXOVF5DlmzrXx1uBxHIvoXK1nf9+clJ0+lljrZ6IfkNBpI9uWZ/zpmjOOPWHyK3ueeXYRs+9VpGlP+UV+v31N8+Ek8tCjDX8efadxMPEMbnn/oaM/eN6qrlen7NRbhNhPGjnjnsKinZKpTVUTlIMABCDgZQEkhF6enXEam94av5WYLnD5MjDi2Il8htpobPwUk/bdfOoUW1aEntXqG05KxhY7z9plvObHOmr699e/3hatkYSe5/37/5SqrTnRJ/Jg7rtRRUX3uGVGDi9pG1wa5T/gLGet14QedZZ2qrSez5JRfzpw3I515x8+WmDWqjum+e19znKsI3dLFPqT1R550+gYdKPzq0T8pcyxydWW2fJllbiLLyMcinUdR6/0HyP+2r8SccZnLA/4OfTUNeEjjhcpvv8J2sLBu0jOUt+cu8KO1sl0d9BN0Pm77O2v3+9WTuF1p42Cnwue/sKTNVtvynRnkLhp9YZjJe37uRCV7Nk7hfEoFwkEtaO3x5pfVq7gJP2ruuazLY9mPMqCySKh7MfQOEs3d/S+uXFO/c+YaPmR7wO+P5Wyw0fVDMjM2ikv3RlbnA5F478VoSUZYvznvnSg6Zl15/cOvTbvsq5amkRH2XbgwM62d7xMfDBRb1zV9Wa27bsVxnlEmwp1UAQCEICAZwWQEHp2aioX2OzLb5vqr0ndKUQHn6sSEmL6pdUW/iDxyGcxVKPSjfgdRPT2jOWFuq32yBy9NfEjYvrQsC8M+1mrOT+55rysO2yGYpvrpL+3XzWOUpSz2sI+Nwc9Gv8bCWVYkikHGoL9016koF3XL9MHRFJT7LqX8jy8O+cw2Objk2vDTxcz1lBr4hfC8l6VNrI99zmrdfNsP/ctZ5ZjWewHuoNzfkux0444R63RiN/MRJfk6kuIftBjRi5ViacUZVQOvg70acduv+FfdxtK0W+1tqGvvu11nE7dJkRDd4YHhLQv9ZjN7UNjPvS37LxvlQ6mLyQZHOpLNzr7iLjkG9DkM38NwVDttlF/D43R+DuKWT6bT/9FlO2zzEhDofVnX9k5yz/gO4sp7fdr/MABoUecH6xytcfBhqD09f6dOEfSSDR4B9G5q6cb8Z3OQolcbTrHV2y/oTnrDwONrZ1vZ2bn3y3ly61N5YZQEAIQgMAYCyAhHOMJGOvuQ0bXVUK2s0wy42X76PRd12Z+JsMtdn31bcdTOv0bInGWBDIxPSYD2rIZr+x68tkps7LeaSOi3ZYZOTFT+7qR6CKSC936LvHrI+7CjW5bN+LOL8+uX3CSscXOzqNU6vPNmOUbybaW/yh2zLrCrq2a+F7V3X7hY4X2NT+2eVKvwvEWTvsNwYbJ22KL3XcOLTSYQ/V0I+4sIXu9QjO2ZUYynhmnUHfCFNGNxANE8tpsHymBPq1++BfzUOvGNwhrzh3jM4hkj9j0HWL7VCK+aLANpt8Q81X5LBMd3nfT6juOs9P7ivrBpBST55tSe0z6uf65pGl1AdF6DrC9iIk8v2mR5kvP7HY5zkXVRzfi3yCiyxTKO5+VdW7lnKWeZNPvWSPnWAq366+WGTkzY6FlHT59Tn1em1Mdaid7m27R4HUIQAACHhJAQuihyah0KKq7wU1/YWbD1psWlmyDFLXlifKAZbYcuSW7QtIy5MhCm5wNLErhmu35nzy+4LxsmZHDd0J0I+7c5XT9wqMSOxNtSpqRnEt0VdpxyoSM+MtCNDlTebYHXptce9FDqm1lKqcbcWfzm8xfyo6s8JBlRrIlFsWEMaKu2vvxYJWj04FJDw9belayIKqkIT0av5Uk93JxIqpoYq0bcWcn3FzPqlWJfsmHMUA+v25de8FTpWo5n7819T6d5Z6i9F2mKdgQuDPDrsS60fkBIlY+Qmd4bNnaVI8fJSEAAQiMvYDSh+jYh4kIyiGQxz/OWe/Y5RtXPnf4rHO1OmoeucQnj5idWwv/RySvzjfGTOXTB/rqd1+//IilqvnFM9hyj21rb/Pb/SnbX5ssRWwk1GW1R8IlaYuI5l3WNSNdn44Kaycxyct2yv6+tW7J/5aifd2IO9vBq37ulOyoiqyxd3T49K3qdwY0jd7avSZSsUO5S2FeqTZmX9cR9D1Tr/TDERP9Z9KMfKXcsYVWdZ0rtn1nufuppvZZ44/6NP8dO645f1dJx5XvbsYl7fxQYz7/CZkSXN2IO0XQDOQAAB9ESURBVBuULSqoyyxtFtQWKkEAAhAYIwHVL2ZjFB66LZfA7NhtU33q5+5RwecFjhpAPgkUk3ankHMUxL9+/RXiNJOM2bI9JnoiGdxyGsViB6iILzhMtIE17Se2ba8vdo6ZKZpsi5jFtlOJ+vnMvxNPqd532ca2KLbZ393fm+EIgMw1mHwXJM0LN1XCarz10RTt+rwt9g2KcactM+J6ppxiW1mL6UZ5zhEsNi4v1x99CH2pYl3W0eG7P48fX0rV7/B2tBSHur925OZQemvc2fhLdeXCiNCytVmO+NEmBCAAgXIJICEsl6zH250T3XhWWrT7VcM8e2eff30JzmfKNyFQja/S5ZxD3s967b67i/mCo5HvOo1Td6eEf1NM/Jk2qyimvXLWzXOp7D7LjJR9I5B83pN+f6Cx5HdOyglewbZDqxI/FVs+oNplOZL9ptbOs23mBBFNV40D5UYI/MoyI8vKZZLP31o5Ysi25DtkdJpC3FpIn1hGXoga6kAAAl4TQELotRmpUDxNRudrbGLl58GsYNhHsUM7jn7yxkBoygmfFeJ3MnNARHYM1Nlte65a0uMW/lh/IXCLL5/XrWDDZF1xg5R82s2vrLbOMptX5ldn7EqHWjs/LczfUYmART6TbG8p+/EiuhF3dh7MeNzE6DjLkcSoWIyHMqFo4mYRybl77PBxOJZz2m4/2n6h/30i2lnMvFdjie/c0be5kMPBdSPubNDyofFg5dEYxdrZFyjEXnU8uhF/iYiOUi2vUC5FQne4HXN0sB2Wg8+CH3mdEOucHujPfeh95liyt6kQO4pAAAIQ8IwAEkLPTEVlA5l9+b1BX83zSs/7OJENfRHWjfgKIlqbJdqnLDNyQq6R5PkMWWVR8u/N+XLj/A2V8gtOPlFca5mRK/Op4IWyiu+B8j8/eAgjFNs8U/p7XTfOEJK2HrNllRcMvRiDHu28iNTvdvcS8e1E8q5MYxGRd/S0t/xedZx6tOvzpL5cVbXZaiv3faLBDX8yfUbvCfRpc3Idy1AKjIM7T6f2uLbF2jUktutnmzAt1Ooa/qZ0FFFa3mSta/lTtr51I3FLtvdj1nhd2nQdJwpAAAIQ8IgAEkKPTMRYhKEbiQNEEnDrm4k7k2Z4SSia+LSI5L67w/yy1RbOeq6Y3hq/gpjWufU5bl73+U9Q+oJT5IA0ja61RU5h0dLCdLv1uuabaTmnRzerr9jYRJrmLEE9eKYk0SNk2++21i3pLjKE0lWPxWr0/oU5Dwq3gltqB5/TrNAVurLrvZKyf5GtOyb6Q9KMnFuhcMZlN3o0cTeJvFkpeKZtmc/t/Fdt0bRzetY03+Pa3sFD7p3NinC5CDg/7DlJGacGlhJTEwl1iz+wYfRGK7qx8UIS7cvENI+EtrNmrxfRmoeOBiGRdZYZ+dnQge75wDdF48tsoY7sdfhWyww3NxmJt9okWc+kJaaPWW0RJ8kl/UubmmhgwDmLMOPFzJcm28I/cIszn/ewaptufeJ1CEAAAl4QQELohVkYoxiOXb3huGDal/t8LiGx2iPOMhtNN+JHJCCZ//XVPma1NQ/+Q53p0o24c8ZU7RgNe3x2y/Ihq60l57boOTdGEHrIai//EQ754IaMzk1CfN7wOkzyu6TZUpKjQvKJZbBsR0dQ31r/OBHNHlZ3P/v4Dclrw8rLq/PutwoqhFYlXi+2OOc5qlzOZ85MlYKWOfjZI7nKzl2x6diUb+AZlfYmehm3Jc/zVnXNGLBtZ34yLq0c7SeadmrPmuZt+brOMTqOTkvwQWIefph8H6dTb0uue9d9Q+0dt2JTQ51vwFkKfPBMyoPX3f504D071p3/jxH9Htwx+D+FqJWJBjcsYqaNNtEl+ZxhefC9TD8lkrmH2nfOmXWOCBrczKyQNvP1QXkIQAAClRZAQlhpcY/1Nzu6YZ5PfE9kCavXCm45hmKxlL7q1may085mDQoXD1hmOOczWboRf46Ipio0hiKD30Lk3VZbyy3ZMJR2yRN6qKm+4azuff2nE6ePJ/E91VQXfCTTuVxAh0A+ArqR2D7sC3TOqsy8S0ROVGk/oGmnbndJOOaujp+WStMjKu1N9DLDE0Jnp2mtn44PMO1P19XudmyUll6ORvT5TwjU2L0H9h+Y7UvXpifb2m6c1TnR32kYPwQgMN4EkBCOtxkrU7zO8hwh+xKbeKpG1C2BwDesq88/vMxQN+LfJqLPqHbv9ku0004olpgp/fZ/MmsXqH5BVO1fqRzzXRrJt3IvX1JqqeyF/OnAcUf8In6o18Floj4t63Ipt+CEZHuP2XKSWzm8DoGsP0gY8Zx38QqVY7I/nTSX3JirvttywUL7rsJ6/ZYZqW80OluYeGOG8TlLtJU2V1Kw2ZcS7aQn25sHE01cEIAABCDgbQEkhN6eH89Epxvxm4joE6oBqSSEQ23Nat0828+9pT0E2TVQudUyW5qdYlmWL7m2UMkCuTyV7g66Bsspywy7Pk/q2gwKTEiB8u0eLJ+3zJZv5UJdcOOWwLM7ny7medP/I6JXV/vECckSJj4lx6ZgJSdgTV6dXNPy95I3jAYhAAEIQKCkAkgIS8pZvY2Fol3vFcm+6caokduWGcnr8HjdiKeGntFQU5QniXhWzrLML6f3T5mpBZ5rZeYPO8+BOBuypO39X3qy/T1Zf7luar31FJvTpfgS8yQR5Y5RYbCa+F7V3X7hY9mK6q3xFPHB51uKvDZbZuRtRbaB6hNQQDc6nyHiY5WGzvICCU9RKevsItnTFtnqVlY34k6Z17mVy/R62paTNaZGZr6jkPpZ6jjPW5fib7JUIW3RfOmI7fbMeKl6G9bOwaMeuCx3kMsQLpqEAAQgMCEFkBBOyGkvYNAd4tO3JpykzfViov9MmpGvuBYcVmDWqjum+e19z6rUYaLbk2bkvGKPwMjVV2jlLWeKFnhQJZ5sZfw+Op1Fe2ZAbIOEriikLbYHXptce1HODU1KmBAePl6kkFhRZ+IKNK7cGGFN61QRsCW9VGPfBpWyI84/zVFhwSe3BJ6dUtBdQme3zMFzPBtXdb2ZbftulbiylRGiVJ+kpz7bvmRvo5G4k4neWkx7xHyP8s6tWToSph/2tEUu0Y347UT0jqLiKaSyLWFrbUtXIVVRBwIQgAAEKiOAhLAyzlXRi250fpOIP+cymLRlRgZ3eMv3aozGp7CQs1tgpqWLSWL6ptX05DfoU58aONz2so4afU7wOiL+4KGdSx8eCKQ/sufqpVnvqOUTl75i49s0v/ZRIT6KxX7CJv6icv1AYM7Qc5ghI7FUSH6bva68rJH2PWE6iUletlP29611S/5Xpa/SLBk92BMHG4LJ2GJnF1hcEMhLQDc6nbv2Oc8hJZIPWmbLz/IpqxrEoaTQ2elU6U6hEF3cY0Z+Mqp9nvfl2+YfOJB6DxPNZqLdrPkeEjs9eKeffb57uq+54BHn9NHQqluXim1/yTnXjzV+VFLpqLV2yQPD23OOeJD0gMHEi5i4n0ieIpEDwvzeXONi0S6qr9/btS22/EBey3GZf6wxP2On7Rc1St/v65//h+03nDR4xEte7aiiq5Rjus1qi1yoUhRlIAABCEBgbASQEI6N+7jtVTc6f0XE78k8AB6wgvX1FFusdCcxG8KrVv1mWr9de75GMk389l+S17TcT8SeOGdMN+L/JKLpKhM4fc7Mmq2fWng4eT1x5S1zNQ5sIaZjRtbn6ywzXNAdxMEvekVuKjM8loZgw+RtscV7VcaHMhAYIRATTe/vejzbbqMi9n/0tC/5xmCdfMrmyRyKba6TA/vn+237mFTK122tPS+54Kp48B992vwajY+S2tT2nVe17BrLZYyDMfb1/i8xvXHE8IT+xPUNbxv+o4xuxJ1jHZSecfRR7TE7zXe+lIlszBJCkYet9pbX5DmNKA4BCEAAAhUUQEJYQexq6eqU1g0n7GffbUJ0mvOjOTG/LCKfy/Bre7UM+fA4mlo7z7aZD5+TlWOAD1hmZEGm15d1dPj+tm1GsI8oVaq7caW6S9gUbAjgGIqqe9tWdECN0fgCJv46iSwkIueu2E/rxF71WPvSV0YHkk/Zig6iUp2J8Bkrf1fvdPfw2vP6Mh30Pntl50k+jZ3zMd2u3ZYZyXqcxxie//ody4x81i14vA4BCEAAAmMngIRw7OzR8zgV0I24c1Dyh3KFP/2FmTVbb/rX3cFKDLUUSWE+u8NWYkzoAwIQGFzuuZaIVuSyGAhKw55YS1+2MroRX01E11TaU0txqPtrYavS/aI/CEAAAhBQF0BCqG6FkhA4LKBHuz5PYt+QgeSB6S/MfEOlk8GhOAaXj2rab4jo9EP/7xEmuVGYv+M6fZJ+j9W+1KmLCwIQ8JhAoxH/EBM5P0aNuJjoidSBvtfsvn55f86QYzFN71/o7H6a83I2oWGxf0mifZmY5pHQdtbs9SJaMxGfQSR7SGQdMTvnQzbkbgzLRd288ToEIAABLwggIfTCLCCG8SkgwnNX/m4G1Qwcm9ICvdNPnLZ7+DODXhpUo9H5Q6bBozcyXkLyox6z5SNeihmxQAACowWET47Fp6UP8MwDA1p/7T7avf2G5sFNY1SuptUbjnM5emKLZUbOUmlr9uUdQV9NvbMMONvxGv+0gltmUizmiee/VcaEMhCAAAQmqgASwok68+Np3Ms6akJz6v8oRGcPhe1s785sv89qW/Lr8TSUsYz10PNad5NI3eE4mPcJyTkqZ72NZezoGwLlEpi7YtOxKd+A8zlyzlAfzl03IZ5HJAf/jRTq1uz0u7rXLX24XHFUrN3YZr/et/c7xPzxYX32C8l7e8wWpaND/lVPOBTt+oqIDD9mKC1Mn+1pi9xUsTGhIwhAAAIQKEoACWFRfKhcboG5q+OnpdL0SI5+dlhmZF6546i69kWczYBwWHTVTSwGlI+AHo1/lIT+R7UOM/0w2Ra5RLW858sNfg44UZbgs8Bpa7CpErTleTgECAEIQKC6BJAQVtd8VtdoBs8YrFdZDpWwzEikugaP0UAAAuUUGLxjLrQl7z5EWq32FmeTF1wQgAAEIACBqhBAQlgV01idgwgZ8fuGLxPNNUrrhSdr6KZhB9ZXJwlGBQEIlEhAN+LOGaH+Qpqzglt8eDauEDnUgQAEIAABLwogIfTirCCmQYF8DlJm0S5Ktjf/FnQQgAAE3ATmXdZVO1Bv73Mrl+11H9XqO8139hRaH/UgAAEIQAACXhJAQuil2UAsIwTySgiJ25JmeBUIIQABCLgJzFvVNWPAtv/hVi7b62Knz+lZu/SeQuujHgQgAAEIQMBLAkgIvTQbVRxLKHZznfTP+O9RB7o/4B9IvWvHde/alWno+SSEGnNrd1sYz/VU8XsIQ4PAaIHZKztP8mm8gYhePfSaiHx3xot7/n1rjiXkc4zbj07T/hcLFWUfvzZ5bfihQuujHgQgAAEIQMBLAkgIvTQbVRpLk9H5Gps465cnEYr2tEfM0cNvNOIDrPiMT10gMOexq8/vrlJCDAsCEBgloBtx5wegFdlghGluT1tkZ8bXRViPJgo+H68h2Dd5W2z5XkwKBCAAAQhAoBoEkBBWwyx6eAyntG6YvI99L7uFqLGc393W8rvh5fToxveQaL9yq0tCYrVHNNdyKAABCFSFQKMR/xAT/dhtMIE+rS7bwe2NRvyXTLTcrY0Mrz9vmZFpBdRDFQhAAAIQgIAnBZAQenJaqico3Yj/cfiBz7lGZpmRI96PuhHfTkRzc9Xz+wONO645P+Oy0+qRxEggAIGDAsK6oXZ3T0R+We8Lfq4/1adrIqkabVr3Y+3nvDLYTCym6f0L+4moJh9ZH9Ues9N850v51EFZCEAAAhCAgJcFkBB6eXaqILZ8ngNsCDZM3hZbfMQyLN2Ix4kofASHkPgDAR3JYBW8UTAECCgKnBzrnL6/n/+pWDxjscMrEpZ1+PS5DfeQyOsV2nveR7VzkAwqSKEIBCAAAQiMKwEkhONqusZXsLFYTLu5f2FaOeq0PcdatyTzc4CfvDEQOubEMLG8npmer/H7f4VnBpVlURACVSMwd3X8tFSaHil2QMOfXV4Q66x/br/vLLHTs0ij7vS+/odqaqbMs2n/qcT8Yn1d7/3bYsufL7ZP1IcABCAAAQh4UQAJoRdnpVpiynPjBmbelWwLN1bL8DEOCECg9AInruyaq2m2s5S86Ms/kGrMtstx0Y2jAQhAAAIQgMA4EUBCOE4maryGqRudaSJW3vDF2tnnp/XL1e8qjlcYxA0BCBQkUOyh8qM6fcAyIwsKCgSVIAABCEAAAlUigISwSibSq8MIRRPvF5Gfqcbn0/iUnWvCj6uWRzkIQGDiCYSM+ONCdFIpRp5pM6tStIs2IAABCEAAAuNFAAnheJmpcRrnso4O3/1b61Oq4bPYb0y2L/mzanmUgwAEJp7A7Ms7gr6a+r5SjBwJYSkU0QYEIAABCIxnASSE43n2xkXs6lvEO8MJiHbi9vbm3eNiaAgSAhAYM4ETYp31gX5+jIhmFxMEEsJi9FAXAhCAAASqQQAJYTXMosfHoBvx/apnfeHLmccnE+FBwGMCc4zbjxbfgbPFpulC/Hey7TuIaapimD+xzMjFimVRDAIQgAAEIFCVAkgIq3JavTWoJuO219iUesgtKiH5UY/Z8hG3cngdAhCAQDaBptYNp9js+7uKEAf/GUzGLt2nUhZlIAABCEAAAtUqgISwWmfWY+MKReNtImTkCCtpmZEmj4WNcCAAgXEooEcTHyeR/84VukZyZrfZ8tdxODyEDAEIQAACECipABLCknKisVwCh+4U3j96+SiTfCFptnwdehCAAARKJaCv2NgkPu1+Jpo+qs2H6iT91sfal75Sqr7QDgQgAAEIQGA8CyAhHM+zN25jF17WsV5bv2yZTcwyboeBwCEAAe8LiPCy5eu1U09dJrEY294PGBFCAAIQgAAEKiuAhLCy3ugNAhCAAAQgAAEIQAACEICAZwSQEHpmKhAIBCAAAQhAAAIQgAAEIACBygogIaysN3qDAAQgAAEIQAACEIAABCDgGQEkhJ6ZCgQCAQhAAAIQgAAEIAABCECgsgJICCvrjd4gAAEIQAACEIAABCAAAQh4RgAJoWemAoFAAAIQgAAEIAABCEAAAhCorAASwsp6ozcIQAACEIAABCAAAQhAAAKeEUBC6JmpQCAQgAAEIAABCEAAAhCAAAQqK4CEsLLe6A0CEIAABCAAAQhAAAIQgIBnBJAQemYqEAgEIAABCEAAAhCAAAQgAIHKCiAhrKw3eoMABCAAAQhAAAIQgAAEIOAZASSEnpkKBAIBCEAAAhCAAAQgAAEIQKCyAkgIK+uN3iAAAQhAAAIQgAAEIAABCHhGAAmhZ6YCgUAAAhCAAAQgAAEIQAACEKisABLCynqjNwhAAAIQgAAEIAABCEAAAp4RQELomalAIBCAAAQgAAEIQAACEIAABCorgISwst7oDQIQgAAEIAABCEAAAhCAgGcEkBB6ZioQCAQgAAEIQAACEIAABCAAgcoKICGsrDd6gwAEIAABCEAAAhCAAAQg4BkBJISemQoEAgEIQAACEIAABCAAAQhAoLICSAgr643eIAABCEAAAhCAAAQgAAEIeEYACaFnpgKBQAACEIAABCAAAQhAAAIQqKwAEsLKeqM3CEAAAhCAAAQgAAEIQAACnhFAQuiZqUAgEIAABCAAAQhAAAIQgAAEKiuAhLCy3ugNAhCAAAQgAAEIQAACEICAZwSQEHpmKhAIBCAAAQhAAAIQgAAEIACBygogIaysN3qDAAQgAAEIQAACEIAABCDgGQEkhJ6ZCgQCAQhAAAIQgAAEIAABCECgsgJICCvrjd4gAAEIQAACEIAABCAAAQh4RgAJoWemAoFAAAIQgAAEIAABCEAAAhCorAASwsp6ozcIQAACEIAABCAAAQhAAAKeEUBC6JmpQCAQgAAEIAABCEAAAhCAAAQqK4CEsLLe6A0CEIAABCAAAQhAAAIQgIBnBJAQemYqEAgEIAABCEAAAhCAAAQgAIHKCiAhrKw3eoMABCAAAQhAAAIQgAAEIOAZASSEnpkKBAIBCEAAAhCAAAQgAAEIQKCyAkgIK+uN3iAAAQhAAAIQgAAEIAABCHhGAAmhZ6YCgUAAAhCAAAQgAAEIQAACEKisABLCynqjNwhAAAIQgAAEIAABCEAAAp4RQELomalAIBCAAAQgAAEIQAACEIAABCorgISwst7oDQIQgAAEIAABCEAAAhCAgGcEkBB6ZioQCAQgAAEIQAACEIAABCAAgcoKICGsrDd6gwAEIAABCEAAAhCAAAQg4BkBJISemQoEAgEIQAACEIAABCAAAQhAoLICSAgr643eIAABCEAAAhCAAAQgAAEIeEYACaFnpgKBQAACEIAABCAAAQhAAAIQqKwAEsLKeqM3CEAAAhCAAAQgAAEIQAACnhFAQuiZqUAgEIAABCAAAQhAAAIQgAAEKiuAhLCy3ugNAhCAAAQgAAEIQAACEICAZwSQEHpmKhAIBCAAAQhAAAIQgAAEIACBygogIaysN3qDAAQgAAEIQAACEIAABCDgGQEkhJ6ZCgQCAQhAAAIQgAAEIAABCECgsgJICCvrjd4gAAEIQAACEIAABCAAAQh4RgAJoWemAoFAAAIQgAAEIAABCEAAAhCorAASwsp6ozcIQAACEIAABCAAAQhAAAKeEUBC6JmpQCAQgAAEIAABCEAAAhCAAAQqK4CEsLLe6A0CEIAABCAAAQhAAAIQgIBnBJAQemYqEAgEIAABCEAAAhCAAAQgAIHKCiAhrKw3eoMABCAAAQhAAAIQgAAEIOAZASSEnpkKBAIBCEAAAhCAAAQgAAEIQKCyAkgIK+uN3iAAAQhAAAIQgAAEIAABCHhGAAmhZ6YCgUAAAhCAAAQgAAEIQAACEKisABLCynqjNwhAAAIQgAAEIAABCEAAAp4RQELomalAIBCAAAQgAAEIQAACEIAABCorgISwst7oDQIQgAAEIAABCEAAAhCAgGcEkBB6ZioQCAQgAAEIQAACEIAABCAAgcoKICGsrDd6gwAEIAABCEAAAhCAAAQg4BkBJISemQoEAgEIQAACEIAABCAAAQhAoLICSAgr643eIAABCEAAAhCAAAQgAAEIeEYACaFnpgKBQAACEIAABCAAAQhAAAIQqKwAEsLKeqM3CEAAAhCAAAQgAAEIQAACnhFAQuiZqUAgEIAABCAAAQhAAAIQgAAEKiuAhLCy3ugNAhCAAAQgAAEIQAACEICAZwSQEHpmKhAIBCAAAQhAAAIQgAAEIACBygogIaysN3qDAAQgAAEIQAACEIAABCDgGQEkhJ6ZCgQCAQhAAAIQgAAEIAABCECgsgJICCvrjd4gAAEIQAACEIAABCAAAQh4RgAJoWemAoFAAAIQgAAEIAABCEDg/7dfxzQAAAAIw/y7xsXCUQWQckGAQCvgELbe0ggQIECAAAECBAgQIHAj4BDeTKEIAQIECBAgQIAAAQIEWgGHsPWWRoAAAQIECBAgQIAAgRsBh/BmCkUIECBAgAABAgQIECDQCjiErbc0AgQIECBAgAABAgQI3Ag4hDdTKEKAAAECBAgQIECAAIFWwCFsvaURIECAAAECBAgQIEDgRsAhvJlCEQIECBAgQIAAAQIECLQCDmHrLY0AAQIECBAgQIAAAQI3Ag7hzRSKECBAgAABAgQIECBAoBVwCFtvaQQIECBAgAABAgQIELgRcAhvplCEAAECBAgQIECAAAECrYBD2HpLI0CAAAECBAgQIECAwI2AQ3gzhSIECBAgQIAAAQIECBBoBRzC1lsaAQIECBAgQIAAAQIEbgQcwpspFCFAgAABAgQIECBAgEAr4BC23tIIECBAgAABAgQIECBwI+AQ3kyhCAECBAgQIECAAAECBFoBh7D1lkaAAAECBAgQIECAAIEbAYfwZgpFCBAgQIAAAQIECBAg0Ao4hK23NAIECBAgQIAAAQIECNwIOIQ3UyhCgAABAgQIECBAgACBVsAhbL2lESBAgAABAgQIECBA4EbAIbyZQhECBAgQIECAAAECBAi0Ag5h6y2NAAECBAgQIECAAAECNwIO4c0UihAgQIAAAQIECBAgQKAVcAhbb2kECBAgQIAAAQIECBC4EXAIb6ZQhAABAgQIECBAgAABAq2AQ9h6SyNAgAABAgQIECBAgMCNgEN4M4UiBAgQIECAAAECBAgQaAUcwtZbGgECBAgQIECAAAECBG4EHMKbKRQhQIAAAQIECBAgQIBAK+AQtt7SCBAgQIAAAQIECBAgcCPgEN5MoQgBAgQIECBAgAABAgRaAYew9ZZGgAABAgQIECBAgACBGwGH8GYKRQgQIECAAAECBAgQINAKOISttzQCBAgQIECAAAECBAjcCDiEN1MoQoAAAQIECBAgQIAAgVbAIWy9pREgQIAAAQIECBAgQOBGwCG8mUIRAgQIECBAgAABAgQItAIOYestjQABAgQIECBAgAABAjcCDuHNFIoQIECAAAECBAgQIECgFXAIW29pBAgQIECAAAECBAgQuBFwCG+mUIQAAQIECBAgQIAAAQKtgEPYeksjQIAAAQIECBAgQIDAjYBDeDOFIgQIECBAgAABAgQIEGgFHMLWWxoBAgQIECBAgAABAgRuBBzCmykUIUCAAAECBAgQIECAQCsw2ysiMVrxQKcAAAAASUVORK5CYII=\" preserveAspectRatio=\"none\" x=\"0\" y=\"0\" width=\"450px\" height=\"350px\"/><image xmlns=\"http://www.w3.org/2000/svg\" xlink:href=\"data:image/png;base64,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\" preserveAspectRatio=\"none\" x=\"0\" y=\"0\" width=\"450px\" height=\"350px\"/></g><defs id=\"topdefs-61c65c\"><g class=\"clips\"/></defs><g class=\"layer-above\"><g class=\"imagelayer\"/><g class=\"shapelayer\"/></g><g class=\"infolayer\"><g class=\"g-gtitle\"/><g class=\"g-xtitle\"><text class=\"xtitle\" x=\"114.8103448275862\" y=\"339.70625\" text-anchor=\"middle\" style=\"font-family: 'Open Sans', verdana, arial, sans-serif; font-size: 14px; fill: rgb(36, 36, 36); opacity: 1; font-weight: normal; white-space: pre;\">pm25pa</text></g><g class=\"g-x2title\"><text class=\"x2title\" x=\"245.5\" y=\"339.70625\" text-anchor=\"middle\" style=\"font-family: 'Open Sans', verdana, arial, sans-serif; font-size: 14px; fill: rgb(36, 36, 36); opacity: 1; font-weight: normal; white-space: pre;\">pm25aqs</text></g><g class=\"g-x3title\"><text class=\"x3title\" x=\"376.18965517241384\" y=\"339.70625\" text-anchor=\"middle\" style=\"font-family: 'Open Sans', verdana, arial, sans-serif; font-size: 14px; fill: rgb(36, 36, 36); opacity: 1; font-weight: normal; white-space: pre;\">rh</text></g><g class=\"g-ytitle\" transform=\"translate(4.927734375,0)\"><text class=\"ytitle\" transform=\"rotate(-90,10.075000000000003,60.36206896551724)\" x=\"10.075000000000003\" y=\"60.36206896551724\" text-anchor=\"middle\" style=\"font-family: 'Open Sans', verdana, arial, sans-serif; font-size: 14px; fill: rgb(36, 36, 36); opacity: 1; font-weight: normal; white-space: pre;\">pm25pa</text></g><g class=\"g-y2title\" transform=\"translate(4.9248046875,0)\"><text class=\"y2title\" transform=\"rotate(-90,10.075000000000003,154.5)\" x=\"10.075000000000003\" y=\"154.5\" text-anchor=\"middle\" style=\"font-family: 'Open Sans', verdana, arial, sans-serif; font-size: 14px; fill: rgb(36, 36, 36); opacity: 1; font-weight: normal; white-space: pre;\">pm25aqs</text></g><g class=\"g-y3title\" transform=\"translate(4.9375,0)\"><text class=\"y3title\" transform=\"rotate(-90,10.075000000000003,248.63793103448276)\" x=\"10.075000000000003\" y=\"248.63793103448276\" text-anchor=\"middle\" style=\"font-family: 'Open Sans', verdana, arial, sans-serif; font-size: 14px; fill: rgb(36, 36, 36); opacity: 1; font-weight: normal; white-space: pre;\">rh</text></g></g></svg>"
      ]
     },
     "metadata": {},
     "output_type": "display_data"
    }
   ],
   "source": [
    "fig = px.scatter_matrix(GA[['pm25pa', 'pm25aqs', 'rh']], \n",
    "                 width=450, height=350)\n",
    "    \n",
    "fig.update_traces(diagonal_visible=False)\n",
    "\n",
    "fig"
   ]
  },
  {
   "cell_type": "markdown",
   "metadata": {},
   "source": [
    "Indeed, the relationship between humidity and air quality does not appear particularly strong. Another pairwise measure we should examine are the correlations between features. "
   ]
  },
  {
   "cell_type": "code",
   "execution_count": 6,
   "metadata": {},
   "outputs": [
    {
     "data": {
      "text/html": [
       "<div>\n",
       "<style scoped>\n",
       "    .dataframe tbody tr th:only-of-type {\n",
       "        vertical-align: middle;\n",
       "    }\n",
       "\n",
       "    .dataframe tbody tr th {\n",
       "        vertical-align: top;\n",
       "    }\n",
       "\n",
       "    .dataframe thead th {\n",
       "        text-align: right;\n",
       "    }\n",
       "</style>\n",
       "<table border=\"1\" class=\"dataframe\">\n",
       "  <thead>\n",
       "    <tr style=\"text-align: right;\">\n",
       "      <th></th>\n",
       "      <th>pm25pa</th>\n",
       "      <th>pm25aqs</th>\n",
       "      <th>rh</th>\n",
       "    </tr>\n",
       "  </thead>\n",
       "  <tbody>\n",
       "    <tr>\n",
       "      <th>pm25pa</th>\n",
       "      <td>1.00</td>\n",
       "      <td>0.95</td>\n",
       "      <td>-0.06</td>\n",
       "    </tr>\n",
       "    <tr>\n",
       "      <th>pm25aqs</th>\n",
       "      <td>0.95</td>\n",
       "      <td>1.00</td>\n",
       "      <td>-0.24</td>\n",
       "    </tr>\n",
       "    <tr>\n",
       "      <th>rh</th>\n",
       "      <td>-0.06</td>\n",
       "      <td>-0.24</td>\n",
       "      <td>1.00</td>\n",
       "    </tr>\n",
       "  </tbody>\n",
       "</table>\n",
       "</div>"
      ],
      "text/plain": [
       "         pm25pa  pm25aqs    rh\n",
       "pm25pa     1.00     0.95 -0.06\n",
       "pm25aqs    0.95     1.00 -0.24\n",
       "rh        -0.06    -0.24  1.00"
      ]
     },
     "execution_count": 6,
     "metadata": {},
     "output_type": "execute_result"
    }
   ],
   "source": [
    "GA[['pm25pa', 'pm25aqs', 'rh']].corr()"
   ]
  },
  {
   "cell_type": "markdown",
   "metadata": {},
   "source": [
    "One small surprise is that relative humidity has a small negative correlation with the EPA measurement of air quality. This suggests that humidity might be helpful in the model.\n",
    "\n",
    "\n",
    "In the next section, we describe how to fit a multiple linear model. But for now, we use the functionality in `LinearRegression`  to fit the model without explanation as to how it's done:"
   ]
  },
  {
   "cell_type": "code",
   "execution_count": 12,
   "metadata": {},
   "outputs": [],
   "source": [
    "from sklearn.linear_model import LinearRegression\n",
    "\n",
    "y = GA[['pm25pa']]\n",
    "X2 = GA[['pm25aqs', 'rh']]\n",
    "\n",
    "model2 = LinearRegression().fit(X2, y)"
   ]
  },
  {
   "cell_type": "markdown",
   "metadata": {},
   "source": [
    "The coefficients of the multiple linear model, including their units, are:"
   ]
  },
  {
   "cell_type": "code",
   "execution_count": 13,
   "metadata": {},
   "outputs": [
    {
     "name": "stdout",
     "output_type": "stream",
     "text": [
      "Intercept: -15.8 ppm, \n",
      "EPA coefficient: 2.25 ppm/ppm,  \n",
      "Humidity coefficient: 0.21 ppm/percent\n"
     ]
    }
   ],
   "source": [
    "print(f\"Intercept: {model2.intercept_[0]:.1f} ppm, \\nEPA coefficient: {model2.coef_[0][0]:.2f} ppm/ppm,  \\nHumidity coefficient: {model2.coef_[0][1]:.2f} ppm/percent\")"
   ]
  },
  {
   "cell_type": "markdown",
   "metadata": {},
   "source": [
    "The coefficient for humidity in the model adjusts the air quality prediction by 0.21 ppm for each percentage point of relative humidity. "
   ]
  },
  {
   "cell_type": "markdown",
   "metadata": {},
   "source": [
    "Lastly, to check the quality of the fit, we make residual plots of the predicted values, the $\\hat{y}_i$, and the errors, $y_i - \\hat{y}_i$. "
   ]
  },
  {
   "cell_type": "code",
   "execution_count": 10,
   "metadata": {},
   "outputs": [],
   "source": [
    "predicted2 = model2.predict(X2)\n",
    "errors2 = y - predicted2"
   ]
  },
  {
   "cell_type": "code",
   "execution_count": 11,
   "metadata": {},
   "outputs": [],
   "source": [
    "#fig = px.scatter(y = errors2, x=predicted2,\n",
    "#                 labels={\"y\": \"error\", \"x\": \"predicted values\"},\n",
    "#                 width=350, height=250)\n",
    "\n",
    "#fig.update_yaxes(range=[-12, 12])\n",
    "\n",
    "#fig.add_hline(0, line_color='black', line_width=2, line_dash='dash', opacity=1)"
   ]
  },
  {
   "cell_type": "code",
   "execution_count": 12,
   "metadata": {},
   "outputs": [
    {
     "data": {
      "text/plain": [
       "<matplotlib.lines.Line2D at 0x129fd50a0>"
      ]
     },
     "execution_count": 12,
     "metadata": {},
     "output_type": "execute_result"
    },
    {
     "data": {
      "image/svg+xml": [
       "<?xml version=\"1.0\" encoding=\"utf-8\" standalone=\"no\"?>\n",
       "<!DOCTYPE svg PUBLIC \"-//W3C//DTD SVG 1.1//EN\"\n",
       "  \"http://www.w3.org/Graphics/SVG/1.1/DTD/svg11.dtd\">\n",
       "<!-- Created with matplotlib (https://matplotlib.org/) -->\n",
       "<svg height=\"210.349531pt\" version=\"1.1\" viewBox=\"0 0 283.046875 210.349531\" width=\"283.046875pt\" xmlns=\"http://www.w3.org/2000/svg\" xmlns:xlink=\"http://www.w3.org/1999/xlink\">\n",
       " <metadata>\n",
       "  <rdf:RDF xmlns:cc=\"http://creativecommons.org/ns#\" xmlns:dc=\"http://purl.org/dc/elements/1.1/\" xmlns:rdf=\"http://www.w3.org/1999/02/22-rdf-syntax-ns#\">\n",
       "   <cc:Work>\n",
       "    <dc:type rdf:resource=\"http://purl.org/dc/dcmitype/StillImage\"/>\n",
       "    <dc:date>2022-08-06T15:07:03.838971</dc:date>\n",
       "    <dc:format>image/svg+xml</dc:format>\n",
       "    <dc:creator>\n",
       "     <cc:Agent>\n",
       "      <dc:title>Matplotlib v3.3.4, https://matplotlib.org/</dc:title>\n",
       "     </cc:Agent>\n",
       "    </dc:creator>\n",
       "   </cc:Work>\n",
       "  </rdf:RDF>\n",
       " </metadata>\n",
       " <defs>\n",
       "  <style type=\"text/css\">*{stroke-linecap:butt;stroke-linejoin:round;}</style>\n",
       " </defs>\n",
       " <g id=\"figure_1\">\n",
       "  <g id=\"patch_1\">\n",
       "   <path d=\"M 0 210.349531 \n",
       "L 283.046875 210.349531 \n",
       "L 283.046875 0 \n",
       "L 0 0 \n",
       "z\n",
       "\" style=\"fill:#ffffff;\"/>\n",
       "  </g>\n",
       "  <g id=\"axes_1\">\n",
       "   <g id=\"patch_2\">\n",
       "    <path d=\"M 52.646875 173.858906 \n",
       "L 275.846875 173.858906 \n",
       "L 275.846875 10.778906 \n",
       "L 52.646875 10.778906 \n",
       "z\n",
       "\" style=\"fill:#ffffff;\"/>\n",
       "   </g>\n",
       "   <g id=\"matplotlib.axis_1\">\n",
       "    <g id=\"xtick_1\">\n",
       "     <g id=\"line2d_1\">\n",
       "      <path clip-path=\"url(#p80cfb95789)\" d=\"M 70.486201 173.858906 \n",
       "L 70.486201 10.778906 \n",
       "\" style=\"fill:none;stroke:#cccccc;stroke-linecap:round;stroke-width:0.8;\"/>\n",
       "     </g>\n",
       "     <g id=\"text_1\">\n",
       "      <!-- 5 -->\n",
       "      <g style=\"fill:#262626;\" transform=\"translate(67.705732 188.016719)scale(0.1 -0.1)\">\n",
       "       <defs>\n",
       "        <path d=\"M 4.15625 18.75 \n",
       "L 13.375 19.53125 \n",
       "Q 14.40625 12.796875 18.140625 9.390625 \n",
       "Q 21.875 6 27.15625 6 \n",
       "Q 33.5 6 37.890625 10.78125 \n",
       "Q 42.28125 15.578125 42.28125 23.484375 \n",
       "Q 42.28125 31 38.0625 35.34375 \n",
       "Q 33.84375 39.703125 27 39.703125 \n",
       "Q 22.75 39.703125 19.328125 37.765625 \n",
       "Q 15.921875 35.84375 13.96875 32.765625 \n",
       "L 5.71875 33.84375 \n",
       "L 12.640625 70.609375 \n",
       "L 48.25 70.609375 \n",
       "L 48.25 62.203125 \n",
       "L 19.671875 62.203125 \n",
       "L 15.828125 42.96875 \n",
       "Q 22.265625 47.46875 29.34375 47.46875 \n",
       "Q 38.71875 47.46875 45.15625 40.96875 \n",
       "Q 51.609375 34.46875 51.609375 24.265625 \n",
       "Q 51.609375 14.546875 45.953125 7.46875 \n",
       "Q 39.0625 -1.21875 27.15625 -1.21875 \n",
       "Q 17.390625 -1.21875 11.203125 4.25 \n",
       "Q 5.03125 9.71875 4.15625 18.75 \n",
       "z\n",
       "\" id=\"ArialMT-53\"/>\n",
       "       </defs>\n",
       "       <use xlink:href=\"#ArialMT-53\"/>\n",
       "      </g>\n",
       "     </g>\n",
       "    </g>\n",
       "    <g id=\"xtick_2\">\n",
       "     <g id=\"line2d_2\">\n",
       "      <path clip-path=\"url(#p80cfb95789)\" d=\"M 102.933868 173.858906 \n",
       "L 102.933868 10.778906 \n",
       "\" style=\"fill:none;stroke:#cccccc;stroke-linecap:round;stroke-width:0.8;\"/>\n",
       "     </g>\n",
       "     <g id=\"text_2\">\n",
       "      <!-- 10 -->\n",
       "      <g style=\"fill:#262626;\" transform=\"translate(97.37293 188.016719)scale(0.1 -0.1)\">\n",
       "       <defs>\n",
       "        <path d=\"M 37.25 0 \n",
       "L 28.46875 0 \n",
       "L 28.46875 56 \n",
       "Q 25.296875 52.984375 20.140625 49.953125 \n",
       "Q 14.984375 46.921875 10.890625 45.40625 \n",
       "L 10.890625 53.90625 \n",
       "Q 18.265625 57.375 23.78125 62.296875 \n",
       "Q 29.296875 67.234375 31.59375 71.875 \n",
       "L 37.25 71.875 \n",
       "z\n",
       "\" id=\"ArialMT-49\"/>\n",
       "        <path d=\"M 4.15625 35.296875 \n",
       "Q 4.15625 48 6.765625 55.734375 \n",
       "Q 9.375 63.484375 14.515625 67.671875 \n",
       "Q 19.671875 71.875 27.484375 71.875 \n",
       "Q 33.25 71.875 37.59375 69.546875 \n",
       "Q 41.9375 67.234375 44.765625 62.859375 \n",
       "Q 47.609375 58.5 49.21875 52.21875 \n",
       "Q 50.828125 45.953125 50.828125 35.296875 \n",
       "Q 50.828125 22.703125 48.234375 14.96875 \n",
       "Q 45.65625 7.234375 40.5 3 \n",
       "Q 35.359375 -1.21875 27.484375 -1.21875 \n",
       "Q 17.140625 -1.21875 11.234375 6.203125 \n",
       "Q 4.15625 15.140625 4.15625 35.296875 \n",
       "z\n",
       "M 13.1875 35.296875 \n",
       "Q 13.1875 17.671875 17.3125 11.828125 \n",
       "Q 21.4375 6 27.484375 6 \n",
       "Q 33.546875 6 37.671875 11.859375 \n",
       "Q 41.796875 17.71875 41.796875 35.296875 \n",
       "Q 41.796875 52.984375 37.671875 58.78125 \n",
       "Q 33.546875 64.59375 27.390625 64.59375 \n",
       "Q 21.34375 64.59375 17.71875 59.46875 \n",
       "Q 13.1875 52.9375 13.1875 35.296875 \n",
       "z\n",
       "\" id=\"ArialMT-48\"/>\n",
       "       </defs>\n",
       "       <use xlink:href=\"#ArialMT-49\"/>\n",
       "       <use x=\"55.615234\" xlink:href=\"#ArialMT-48\"/>\n",
       "      </g>\n",
       "     </g>\n",
       "    </g>\n",
       "    <g id=\"xtick_3\">\n",
       "     <g id=\"line2d_3\">\n",
       "      <path clip-path=\"url(#p80cfb95789)\" d=\"M 135.381535 173.858906 \n",
       "L 135.381535 10.778906 \n",
       "\" style=\"fill:none;stroke:#cccccc;stroke-linecap:round;stroke-width:0.8;\"/>\n",
       "     </g>\n",
       "     <g id=\"text_3\">\n",
       "      <!-- 15 -->\n",
       "      <g style=\"fill:#262626;\" transform=\"translate(129.820597 188.016719)scale(0.1 -0.1)\">\n",
       "       <use xlink:href=\"#ArialMT-49\"/>\n",
       "       <use x=\"55.615234\" xlink:href=\"#ArialMT-53\"/>\n",
       "      </g>\n",
       "     </g>\n",
       "    </g>\n",
       "    <g id=\"xtick_4\">\n",
       "     <g id=\"line2d_4\">\n",
       "      <path clip-path=\"url(#p80cfb95789)\" d=\"M 167.829202 173.858906 \n",
       "L 167.829202 10.778906 \n",
       "\" style=\"fill:none;stroke:#cccccc;stroke-linecap:round;stroke-width:0.8;\"/>\n",
       "     </g>\n",
       "     <g id=\"text_4\">\n",
       "      <!-- 20 -->\n",
       "      <g style=\"fill:#262626;\" transform=\"translate(162.268264 188.016719)scale(0.1 -0.1)\">\n",
       "       <defs>\n",
       "        <path d=\"M 50.34375 8.453125 \n",
       "L 50.34375 0 \n",
       "L 3.03125 0 \n",
       "Q 2.9375 3.171875 4.046875 6.109375 \n",
       "Q 5.859375 10.9375 9.828125 15.625 \n",
       "Q 13.8125 20.3125 21.34375 26.46875 \n",
       "Q 33.015625 36.03125 37.109375 41.625 \n",
       "Q 41.21875 47.21875 41.21875 52.203125 \n",
       "Q 41.21875 57.421875 37.46875 61 \n",
       "Q 33.734375 64.59375 27.734375 64.59375 \n",
       "Q 21.390625 64.59375 17.578125 60.78125 \n",
       "Q 13.765625 56.984375 13.71875 50.25 \n",
       "L 4.6875 51.171875 \n",
       "Q 5.609375 61.28125 11.65625 66.578125 \n",
       "Q 17.71875 71.875 27.9375 71.875 \n",
       "Q 38.234375 71.875 44.234375 66.15625 \n",
       "Q 50.25 60.453125 50.25 52 \n",
       "Q 50.25 47.703125 48.484375 43.546875 \n",
       "Q 46.734375 39.40625 42.65625 34.8125 \n",
       "Q 38.578125 30.21875 29.109375 22.21875 \n",
       "Q 21.1875 15.578125 18.9375 13.203125 \n",
       "Q 16.703125 10.84375 15.234375 8.453125 \n",
       "z\n",
       "\" id=\"ArialMT-50\"/>\n",
       "       </defs>\n",
       "       <use xlink:href=\"#ArialMT-50\"/>\n",
       "       <use x=\"55.615234\" xlink:href=\"#ArialMT-48\"/>\n",
       "      </g>\n",
       "     </g>\n",
       "    </g>\n",
       "    <g id=\"xtick_5\">\n",
       "     <g id=\"line2d_5\">\n",
       "      <path clip-path=\"url(#p80cfb95789)\" d=\"M 200.276868 173.858906 \n",
       "L 200.276868 10.778906 \n",
       "\" style=\"fill:none;stroke:#cccccc;stroke-linecap:round;stroke-width:0.8;\"/>\n",
       "     </g>\n",
       "     <g id=\"text_5\">\n",
       "      <!-- 25 -->\n",
       "      <g style=\"fill:#262626;\" transform=\"translate(194.715931 188.016719)scale(0.1 -0.1)\">\n",
       "       <use xlink:href=\"#ArialMT-50\"/>\n",
       "       <use x=\"55.615234\" xlink:href=\"#ArialMT-53\"/>\n",
       "      </g>\n",
       "     </g>\n",
       "    </g>\n",
       "    <g id=\"xtick_6\">\n",
       "     <g id=\"line2d_6\">\n",
       "      <path clip-path=\"url(#p80cfb95789)\" d=\"M 232.724535 173.858906 \n",
       "L 232.724535 10.778906 \n",
       "\" style=\"fill:none;stroke:#cccccc;stroke-linecap:round;stroke-width:0.8;\"/>\n",
       "     </g>\n",
       "     <g id=\"text_6\">\n",
       "      <!-- 30 -->\n",
       "      <g style=\"fill:#262626;\" transform=\"translate(227.163598 188.016719)scale(0.1 -0.1)\">\n",
       "       <defs>\n",
       "        <path d=\"M 4.203125 18.890625 \n",
       "L 12.984375 20.0625 \n",
       "Q 14.5 12.59375 18.140625 9.296875 \n",
       "Q 21.78125 6 27 6 \n",
       "Q 33.203125 6 37.46875 10.296875 \n",
       "Q 41.75 14.59375 41.75 20.953125 \n",
       "Q 41.75 27 37.796875 30.921875 \n",
       "Q 33.84375 34.859375 27.734375 34.859375 \n",
       "Q 25.25 34.859375 21.53125 33.890625 \n",
       "L 22.515625 41.609375 \n",
       "Q 23.390625 41.5 23.921875 41.5 \n",
       "Q 29.546875 41.5 34.03125 44.421875 \n",
       "Q 38.53125 47.359375 38.53125 53.46875 \n",
       "Q 38.53125 58.296875 35.25 61.46875 \n",
       "Q 31.984375 64.65625 26.8125 64.65625 \n",
       "Q 21.6875 64.65625 18.265625 61.421875 \n",
       "Q 14.84375 58.203125 13.875 51.765625 \n",
       "L 5.078125 53.328125 \n",
       "Q 6.6875 62.15625 12.390625 67.015625 \n",
       "Q 18.109375 71.875 26.609375 71.875 \n",
       "Q 32.46875 71.875 37.390625 69.359375 \n",
       "Q 42.328125 66.84375 44.9375 62.5 \n",
       "Q 47.5625 58.15625 47.5625 53.265625 \n",
       "Q 47.5625 48.640625 45.0625 44.828125 \n",
       "Q 42.578125 41.015625 37.703125 38.765625 \n",
       "Q 44.046875 37.3125 47.5625 32.6875 \n",
       "Q 51.078125 28.078125 51.078125 21.140625 \n",
       "Q 51.078125 11.765625 44.234375 5.25 \n",
       "Q 37.40625 -1.265625 26.953125 -1.265625 \n",
       "Q 17.53125 -1.265625 11.296875 4.34375 \n",
       "Q 5.078125 9.96875 4.203125 18.890625 \n",
       "z\n",
       "\" id=\"ArialMT-51\"/>\n",
       "       </defs>\n",
       "       <use xlink:href=\"#ArialMT-51\"/>\n",
       "       <use x=\"55.615234\" xlink:href=\"#ArialMT-48\"/>\n",
       "      </g>\n",
       "     </g>\n",
       "    </g>\n",
       "    <g id=\"xtick_7\">\n",
       "     <g id=\"line2d_7\">\n",
       "      <path clip-path=\"url(#p80cfb95789)\" d=\"M 265.172202 173.858906 \n",
       "L 265.172202 10.778906 \n",
       "\" style=\"fill:none;stroke:#cccccc;stroke-linecap:round;stroke-width:0.8;\"/>\n",
       "     </g>\n",
       "     <g id=\"text_7\">\n",
       "      <!-- 35 -->\n",
       "      <g style=\"fill:#262626;\" transform=\"translate(259.611265 188.016719)scale(0.1 -0.1)\">\n",
       "       <use xlink:href=\"#ArialMT-51\"/>\n",
       "       <use x=\"55.615234\" xlink:href=\"#ArialMT-53\"/>\n",
       "      </g>\n",
       "     </g>\n",
       "    </g>\n",
       "    <g id=\"text_8\">\n",
       "     <!-- predicted -->\n",
       "     <g style=\"fill:#262626;\" transform=\"translate(143.679688 201.162031)scale(0.1 -0.1)\">\n",
       "      <defs>\n",
       "       <path d=\"M 6.59375 -19.875 \n",
       "L 6.59375 51.859375 \n",
       "L 14.59375 51.859375 \n",
       "L 14.59375 45.125 \n",
       "Q 17.4375 49.078125 21 51.046875 \n",
       "Q 24.5625 53.03125 29.640625 53.03125 \n",
       "Q 36.28125 53.03125 41.359375 49.609375 \n",
       "Q 46.4375 46.1875 49.015625 39.953125 \n",
       "Q 51.609375 33.734375 51.609375 26.3125 \n",
       "Q 51.609375 18.359375 48.75 11.984375 \n",
       "Q 45.90625 5.609375 40.453125 2.21875 \n",
       "Q 35.015625 -1.171875 29 -1.171875 \n",
       "Q 24.609375 -1.171875 21.109375 0.6875 \n",
       "Q 17.625 2.546875 15.375 5.375 \n",
       "L 15.375 -19.875 \n",
       "z\n",
       "M 14.546875 25.640625 \n",
       "Q 14.546875 15.625 18.59375 10.84375 \n",
       "Q 22.65625 6.0625 28.421875 6.0625 \n",
       "Q 34.28125 6.0625 38.453125 11.015625 \n",
       "Q 42.625 15.96875 42.625 26.375 \n",
       "Q 42.625 36.28125 38.546875 41.203125 \n",
       "Q 34.46875 46.140625 28.8125 46.140625 \n",
       "Q 23.1875 46.140625 18.859375 40.890625 \n",
       "Q 14.546875 35.640625 14.546875 25.640625 \n",
       "z\n",
       "\" id=\"ArialMT-112\"/>\n",
       "       <path d=\"M 6.5 0 \n",
       "L 6.5 51.859375 \n",
       "L 14.40625 51.859375 \n",
       "L 14.40625 44 \n",
       "Q 17.4375 49.515625 20 51.265625 \n",
       "Q 22.5625 53.03125 25.640625 53.03125 \n",
       "Q 30.078125 53.03125 34.671875 50.203125 \n",
       "L 31.640625 42.046875 \n",
       "Q 28.421875 43.953125 25.203125 43.953125 \n",
       "Q 22.3125 43.953125 20.015625 42.21875 \n",
       "Q 17.71875 40.484375 16.75 37.40625 \n",
       "Q 15.28125 32.71875 15.28125 27.15625 \n",
       "L 15.28125 0 \n",
       "z\n",
       "\" id=\"ArialMT-114\"/>\n",
       "       <path d=\"M 42.09375 16.703125 \n",
       "L 51.171875 15.578125 \n",
       "Q 49.03125 7.625 43.21875 3.21875 \n",
       "Q 37.40625 -1.171875 28.375 -1.171875 \n",
       "Q 17 -1.171875 10.328125 5.828125 \n",
       "Q 3.65625 12.84375 3.65625 25.484375 \n",
       "Q 3.65625 38.578125 10.390625 45.796875 \n",
       "Q 17.140625 53.03125 27.875 53.03125 \n",
       "Q 38.28125 53.03125 44.875 45.953125 \n",
       "Q 51.46875 38.875 51.46875 26.03125 \n",
       "Q 51.46875 25.25 51.421875 23.6875 \n",
       "L 12.75 23.6875 \n",
       "Q 13.234375 15.140625 17.578125 10.59375 \n",
       "Q 21.921875 6.0625 28.421875 6.0625 \n",
       "Q 33.25 6.0625 36.671875 8.59375 \n",
       "Q 40.09375 11.140625 42.09375 16.703125 \n",
       "z\n",
       "M 13.234375 30.90625 \n",
       "L 42.1875 30.90625 \n",
       "Q 41.609375 37.453125 38.875 40.71875 \n",
       "Q 34.671875 45.796875 27.984375 45.796875 \n",
       "Q 21.921875 45.796875 17.796875 41.75 \n",
       "Q 13.671875 37.703125 13.234375 30.90625 \n",
       "z\n",
       "\" id=\"ArialMT-101\"/>\n",
       "       <path d=\"M 40.234375 0 \n",
       "L 40.234375 6.546875 \n",
       "Q 35.296875 -1.171875 25.734375 -1.171875 \n",
       "Q 19.53125 -1.171875 14.328125 2.25 \n",
       "Q 9.125 5.671875 6.265625 11.796875 \n",
       "Q 3.421875 17.921875 3.421875 25.875 \n",
       "Q 3.421875 33.640625 6 39.96875 \n",
       "Q 8.59375 46.296875 13.765625 49.65625 \n",
       "Q 18.953125 53.03125 25.34375 53.03125 \n",
       "Q 30.03125 53.03125 33.6875 51.046875 \n",
       "Q 37.359375 49.078125 39.65625 45.90625 \n",
       "L 39.65625 71.578125 \n",
       "L 48.390625 71.578125 \n",
       "L 48.390625 0 \n",
       "z\n",
       "M 12.453125 25.875 \n",
       "Q 12.453125 15.921875 16.640625 10.984375 \n",
       "Q 20.84375 6.0625 26.5625 6.0625 \n",
       "Q 32.328125 6.0625 36.34375 10.765625 \n",
       "Q 40.375 15.484375 40.375 25.140625 \n",
       "Q 40.375 35.796875 36.265625 40.765625 \n",
       "Q 32.171875 45.75 26.171875 45.75 \n",
       "Q 20.3125 45.75 16.375 40.96875 \n",
       "Q 12.453125 36.1875 12.453125 25.875 \n",
       "z\n",
       "\" id=\"ArialMT-100\"/>\n",
       "       <path d=\"M 6.640625 61.46875 \n",
       "L 6.640625 71.578125 \n",
       "L 15.4375 71.578125 \n",
       "L 15.4375 61.46875 \n",
       "z\n",
       "M 6.640625 0 \n",
       "L 6.640625 51.859375 \n",
       "L 15.4375 51.859375 \n",
       "L 15.4375 0 \n",
       "z\n",
       "\" id=\"ArialMT-105\"/>\n",
       "       <path d=\"M 40.4375 19 \n",
       "L 49.078125 17.875 \n",
       "Q 47.65625 8.9375 41.8125 3.875 \n",
       "Q 35.984375 -1.171875 27.484375 -1.171875 \n",
       "Q 16.84375 -1.171875 10.375 5.78125 \n",
       "Q 3.90625 12.75 3.90625 25.734375 \n",
       "Q 3.90625 34.125 6.6875 40.421875 \n",
       "Q 9.46875 46.734375 15.15625 49.875 \n",
       "Q 20.84375 53.03125 27.546875 53.03125 \n",
       "Q 35.984375 53.03125 41.359375 48.75 \n",
       "Q 46.734375 44.484375 48.25 36.625 \n",
       "L 39.703125 35.296875 \n",
       "Q 38.484375 40.53125 35.375 43.15625 \n",
       "Q 32.28125 45.796875 27.875 45.796875 \n",
       "Q 21.234375 45.796875 17.078125 41.03125 \n",
       "Q 12.9375 36.28125 12.9375 25.984375 \n",
       "Q 12.9375 15.53125 16.9375 10.796875 \n",
       "Q 20.953125 6.0625 27.390625 6.0625 \n",
       "Q 32.5625 6.0625 36.03125 9.234375 \n",
       "Q 39.5 12.40625 40.4375 19 \n",
       "z\n",
       "\" id=\"ArialMT-99\"/>\n",
       "       <path d=\"M 25.78125 7.859375 \n",
       "L 27.046875 0.09375 \n",
       "Q 23.34375 -0.6875 20.40625 -0.6875 \n",
       "Q 15.625 -0.6875 12.984375 0.828125 \n",
       "Q 10.359375 2.34375 9.28125 4.8125 \n",
       "Q 8.203125 7.28125 8.203125 15.1875 \n",
       "L 8.203125 45.015625 \n",
       "L 1.765625 45.015625 \n",
       "L 1.765625 51.859375 \n",
       "L 8.203125 51.859375 \n",
       "L 8.203125 64.703125 \n",
       "L 16.9375 69.96875 \n",
       "L 16.9375 51.859375 \n",
       "L 25.78125 51.859375 \n",
       "L 25.78125 45.015625 \n",
       "L 16.9375 45.015625 \n",
       "L 16.9375 14.703125 \n",
       "Q 16.9375 10.9375 17.40625 9.859375 \n",
       "Q 17.875 8.796875 18.921875 8.15625 \n",
       "Q 19.96875 7.515625 21.921875 7.515625 \n",
       "Q 23.390625 7.515625 25.78125 7.859375 \n",
       "z\n",
       "\" id=\"ArialMT-116\"/>\n",
       "      </defs>\n",
       "      <use xlink:href=\"#ArialMT-112\"/>\n",
       "      <use x=\"55.615234\" xlink:href=\"#ArialMT-114\"/>\n",
       "      <use x=\"88.916016\" xlink:href=\"#ArialMT-101\"/>\n",
       "      <use x=\"144.53125\" xlink:href=\"#ArialMT-100\"/>\n",
       "      <use x=\"200.146484\" xlink:href=\"#ArialMT-105\"/>\n",
       "      <use x=\"222.363281\" xlink:href=\"#ArialMT-99\"/>\n",
       "      <use x=\"272.363281\" xlink:href=\"#ArialMT-116\"/>\n",
       "      <use x=\"300.146484\" xlink:href=\"#ArialMT-101\"/>\n",
       "      <use x=\"355.761719\" xlink:href=\"#ArialMT-100\"/>\n",
       "     </g>\n",
       "    </g>\n",
       "   </g>\n",
       "   <g id=\"matplotlib.axis_2\">\n",
       "    <g id=\"ytick_1\">\n",
       "     <g id=\"line2d_8\">\n",
       "      <path clip-path=\"url(#p80cfb95789)\" d=\"M 52.646875 173.858906 \n",
       "L 275.846875 173.858906 \n",
       "\" style=\"fill:none;stroke:#cccccc;stroke-linecap:round;stroke-width:0.8;\"/>\n",
       "     </g>\n",
       "     <g id=\"text_9\">\n",
       "      <!-- −10.0 -->\n",
       "      <g style=\"fill:#262626;\" transform=\"translate(20.345313 177.437813)scale(0.1 -0.1)\">\n",
       "       <defs>\n",
       "        <path d=\"M 52.828125 31.203125 \n",
       "L 5.5625 31.203125 \n",
       "L 5.5625 39.40625 \n",
       "L 52.828125 39.40625 \n",
       "z\n",
       "\" id=\"ArialMT-8722\"/>\n",
       "        <path d=\"M 9.078125 0 \n",
       "L 9.078125 10.015625 \n",
       "L 19.09375 10.015625 \n",
       "L 19.09375 0 \n",
       "z\n",
       "\" id=\"ArialMT-46\"/>\n",
       "       </defs>\n",
       "       <use xlink:href=\"#ArialMT-8722\"/>\n",
       "       <use x=\"58.398438\" xlink:href=\"#ArialMT-49\"/>\n",
       "       <use x=\"114.013672\" xlink:href=\"#ArialMT-48\"/>\n",
       "       <use x=\"169.628906\" xlink:href=\"#ArialMT-46\"/>\n",
       "       <use x=\"197.412109\" xlink:href=\"#ArialMT-48\"/>\n",
       "      </g>\n",
       "     </g>\n",
       "    </g>\n",
       "    <g id=\"ytick_2\">\n",
       "     <g id=\"line2d_9\">\n",
       "      <path clip-path=\"url(#p80cfb95789)\" d=\"M 52.646875 153.473906 \n",
       "L 275.846875 153.473906 \n",
       "\" style=\"fill:none;stroke:#cccccc;stroke-linecap:round;stroke-width:0.8;\"/>\n",
       "     </g>\n",
       "     <g id=\"text_10\">\n",
       "      <!-- −7.5 -->\n",
       "      <g style=\"fill:#262626;\" transform=\"translate(25.90625 157.052813)scale(0.1 -0.1)\">\n",
       "       <defs>\n",
       "        <path d=\"M 4.734375 62.203125 \n",
       "L 4.734375 70.65625 \n",
       "L 51.078125 70.65625 \n",
       "L 51.078125 63.8125 \n",
       "Q 44.234375 56.546875 37.515625 44.484375 \n",
       "Q 30.8125 32.421875 27.15625 19.671875 \n",
       "Q 24.515625 10.6875 23.78125 0 \n",
       "L 14.75 0 \n",
       "Q 14.890625 8.453125 18.0625 20.40625 \n",
       "Q 21.234375 32.375 27.171875 43.484375 \n",
       "Q 33.109375 54.59375 39.796875 62.203125 \n",
       "z\n",
       "\" id=\"ArialMT-55\"/>\n",
       "       </defs>\n",
       "       <use xlink:href=\"#ArialMT-8722\"/>\n",
       "       <use x=\"58.398438\" xlink:href=\"#ArialMT-55\"/>\n",
       "       <use x=\"114.013672\" xlink:href=\"#ArialMT-46\"/>\n",
       "       <use x=\"141.796875\" xlink:href=\"#ArialMT-53\"/>\n",
       "      </g>\n",
       "     </g>\n",
       "    </g>\n",
       "    <g id=\"ytick_3\">\n",
       "     <g id=\"line2d_10\">\n",
       "      <path clip-path=\"url(#p80cfb95789)\" d=\"M 52.646875 133.088906 \n",
       "L 275.846875 133.088906 \n",
       "\" style=\"fill:none;stroke:#cccccc;stroke-linecap:round;stroke-width:0.8;\"/>\n",
       "     </g>\n",
       "     <g id=\"text_11\">\n",
       "      <!-- −5.0 -->\n",
       "      <g style=\"fill:#262626;\" transform=\"translate(25.90625 136.667813)scale(0.1 -0.1)\">\n",
       "       <use xlink:href=\"#ArialMT-8722\"/>\n",
       "       <use x=\"58.398438\" xlink:href=\"#ArialMT-53\"/>\n",
       "       <use x=\"114.013672\" xlink:href=\"#ArialMT-46\"/>\n",
       "       <use x=\"141.796875\" xlink:href=\"#ArialMT-48\"/>\n",
       "      </g>\n",
       "     </g>\n",
       "    </g>\n",
       "    <g id=\"ytick_4\">\n",
       "     <g id=\"line2d_11\">\n",
       "      <path clip-path=\"url(#p80cfb95789)\" d=\"M 52.646875 112.703906 \n",
       "L 275.846875 112.703906 \n",
       "\" style=\"fill:none;stroke:#cccccc;stroke-linecap:round;stroke-width:0.8;\"/>\n",
       "     </g>\n",
       "     <g id=\"text_12\">\n",
       "      <!-- −2.5 -->\n",
       "      <g style=\"fill:#262626;\" transform=\"translate(25.90625 116.282813)scale(0.1 -0.1)\">\n",
       "       <use xlink:href=\"#ArialMT-8722\"/>\n",
       "       <use x=\"58.398438\" xlink:href=\"#ArialMT-50\"/>\n",
       "       <use x=\"114.013672\" xlink:href=\"#ArialMT-46\"/>\n",
       "       <use x=\"141.796875\" xlink:href=\"#ArialMT-53\"/>\n",
       "      </g>\n",
       "     </g>\n",
       "    </g>\n",
       "    <g id=\"ytick_5\">\n",
       "     <g id=\"line2d_12\">\n",
       "      <path clip-path=\"url(#p80cfb95789)\" d=\"M 52.646875 92.318906 \n",
       "L 275.846875 92.318906 \n",
       "\" style=\"fill:none;stroke:#cccccc;stroke-linecap:round;stroke-width:0.8;\"/>\n",
       "     </g>\n",
       "     <g id=\"text_13\">\n",
       "      <!-- 0.0 -->\n",
       "      <g style=\"fill:#262626;\" transform=\"translate(31.746875 95.897813)scale(0.1 -0.1)\">\n",
       "       <use xlink:href=\"#ArialMT-48\"/>\n",
       "       <use x=\"55.615234\" xlink:href=\"#ArialMT-46\"/>\n",
       "       <use x=\"83.398438\" xlink:href=\"#ArialMT-48\"/>\n",
       "      </g>\n",
       "     </g>\n",
       "    </g>\n",
       "    <g id=\"ytick_6\">\n",
       "     <g id=\"line2d_13\">\n",
       "      <path clip-path=\"url(#p80cfb95789)\" d=\"M 52.646875 71.933906 \n",
       "L 275.846875 71.933906 \n",
       "\" style=\"fill:none;stroke:#cccccc;stroke-linecap:round;stroke-width:0.8;\"/>\n",
       "     </g>\n",
       "     <g id=\"text_14\">\n",
       "      <!-- 2.5 -->\n",
       "      <g style=\"fill:#262626;\" transform=\"translate(31.746875 75.512812)scale(0.1 -0.1)\">\n",
       "       <use xlink:href=\"#ArialMT-50\"/>\n",
       "       <use x=\"55.615234\" xlink:href=\"#ArialMT-46\"/>\n",
       "       <use x=\"83.398438\" xlink:href=\"#ArialMT-53\"/>\n",
       "      </g>\n",
       "     </g>\n",
       "    </g>\n",
       "    <g id=\"ytick_7\">\n",
       "     <g id=\"line2d_14\">\n",
       "      <path clip-path=\"url(#p80cfb95789)\" d=\"M 52.646875 51.548906 \n",
       "L 275.846875 51.548906 \n",
       "\" style=\"fill:none;stroke:#cccccc;stroke-linecap:round;stroke-width:0.8;\"/>\n",
       "     </g>\n",
       "     <g id=\"text_15\">\n",
       "      <!-- 5.0 -->\n",
       "      <g style=\"fill:#262626;\" transform=\"translate(31.746875 55.127812)scale(0.1 -0.1)\">\n",
       "       <use xlink:href=\"#ArialMT-53\"/>\n",
       "       <use x=\"55.615234\" xlink:href=\"#ArialMT-46\"/>\n",
       "       <use x=\"83.398438\" xlink:href=\"#ArialMT-48\"/>\n",
       "      </g>\n",
       "     </g>\n",
       "    </g>\n",
       "    <g id=\"ytick_8\">\n",
       "     <g id=\"line2d_15\">\n",
       "      <path clip-path=\"url(#p80cfb95789)\" d=\"M 52.646875 31.163906 \n",
       "L 275.846875 31.163906 \n",
       "\" style=\"fill:none;stroke:#cccccc;stroke-linecap:round;stroke-width:0.8;\"/>\n",
       "     </g>\n",
       "     <g id=\"text_16\">\n",
       "      <!-- 7.5 -->\n",
       "      <g style=\"fill:#262626;\" transform=\"translate(31.746875 34.742812)scale(0.1 -0.1)\">\n",
       "       <use xlink:href=\"#ArialMT-55\"/>\n",
       "       <use x=\"55.615234\" xlink:href=\"#ArialMT-46\"/>\n",
       "       <use x=\"83.398438\" xlink:href=\"#ArialMT-53\"/>\n",
       "      </g>\n",
       "     </g>\n",
       "    </g>\n",
       "    <g id=\"ytick_9\">\n",
       "     <g id=\"line2d_16\">\n",
       "      <path clip-path=\"url(#p80cfb95789)\" d=\"M 52.646875 10.778906 \n",
       "L 275.846875 10.778906 \n",
       "\" style=\"fill:none;stroke:#cccccc;stroke-linecap:round;stroke-width:0.8;\"/>\n",
       "     </g>\n",
       "     <g id=\"text_17\">\n",
       "      <!-- 10.0 -->\n",
       "      <g style=\"fill:#262626;\" transform=\"translate(26.185938 14.357812)scale(0.1 -0.1)\">\n",
       "       <use xlink:href=\"#ArialMT-49\"/>\n",
       "       <use x=\"55.615234\" xlink:href=\"#ArialMT-48\"/>\n",
       "       <use x=\"111.230469\" xlink:href=\"#ArialMT-46\"/>\n",
       "       <use x=\"139.013672\" xlink:href=\"#ArialMT-48\"/>\n",
       "      </g>\n",
       "     </g>\n",
       "    </g>\n",
       "    <g id=\"text_18\">\n",
       "     <!-- error -->\n",
       "     <g style=\"fill:#262626;\" transform=\"translate(14.357813 102.874375)rotate(-90)scale(0.1 -0.1)\">\n",
       "      <defs>\n",
       "       <path d=\"M 3.328125 25.921875 \n",
       "Q 3.328125 40.328125 11.328125 47.265625 \n",
       "Q 18.015625 53.03125 27.640625 53.03125 \n",
       "Q 38.328125 53.03125 45.109375 46.015625 \n",
       "Q 51.90625 39.015625 51.90625 26.65625 \n",
       "Q 51.90625 16.65625 48.90625 10.90625 \n",
       "Q 45.90625 5.171875 40.15625 2 \n",
       "Q 34.421875 -1.171875 27.640625 -1.171875 \n",
       "Q 16.75 -1.171875 10.03125 5.8125 \n",
       "Q 3.328125 12.796875 3.328125 25.921875 \n",
       "z\n",
       "M 12.359375 25.921875 \n",
       "Q 12.359375 15.96875 16.703125 11.015625 \n",
       "Q 21.046875 6.0625 27.640625 6.0625 \n",
       "Q 34.1875 6.0625 38.53125 11.03125 \n",
       "Q 42.875 16.015625 42.875 26.21875 \n",
       "Q 42.875 35.84375 38.5 40.796875 \n",
       "Q 34.125 45.75 27.640625 45.75 \n",
       "Q 21.046875 45.75 16.703125 40.8125 \n",
       "Q 12.359375 35.890625 12.359375 25.921875 \n",
       "z\n",
       "\" id=\"ArialMT-111\"/>\n",
       "      </defs>\n",
       "      <use xlink:href=\"#ArialMT-101\"/>\n",
       "      <use x=\"55.615234\" xlink:href=\"#ArialMT-114\"/>\n",
       "      <use x=\"88.916016\" xlink:href=\"#ArialMT-114\"/>\n",
       "      <use x=\"122.216797\" xlink:href=\"#ArialMT-111\"/>\n",
       "      <use x=\"177.832031\" xlink:href=\"#ArialMT-114\"/>\n",
       "     </g>\n",
       "    </g>\n",
       "   </g>\n",
       "   <g id=\"line2d_17\">\n",
       "    <defs>\n",
       "     <path d=\"M 0 3 \n",
       "C 0.795609 3 1.55874 2.683901 2.12132 2.12132 \n",
       "C 2.683901 1.55874 3 0.795609 3 0 \n",
       "C 3 -0.795609 2.683901 -1.55874 2.12132 -2.12132 \n",
       "C 1.55874 -2.683901 0.795609 -3 0 -3 \n",
       "C -0.795609 -3 -1.55874 -2.683901 -2.12132 -2.12132 \n",
       "C -2.683901 -1.55874 -3 -0.795609 -3 0 \n",
       "C -3 0.795609 -2.683901 1.55874 -2.12132 2.12132 \n",
       "C -1.55874 2.683901 -0.795609 3 0 3 \n",
       "z\n",
       "\" id=\"md7a30f0a1a\" style=\"stroke:#1f77b4;\"/>\n",
       "    </defs>\n",
       "    <g clip-path=\"url(#p80cfb95789)\">\n",
       "     <use style=\"fill:#1f77b4;stroke:#1f77b4;\" x=\"141.505598\" xlink:href=\"#md7a30f0a1a\" y=\"90.315535\"/>\n",
       "     <use style=\"fill:#1f77b4;stroke:#1f77b4;\" x=\"123.525306\" xlink:href=\"#md7a30f0a1a\" y=\"88.898094\"/>\n",
       "     <use style=\"fill:#1f77b4;stroke:#1f77b4;\" x=\"106.506226\" xlink:href=\"#md7a30f0a1a\" y=\"94.356665\"/>\n",
       "     <use style=\"fill:#1f77b4;stroke:#1f77b4;\" x=\"135.788286\" xlink:href=\"#md7a30f0a1a\" y=\"94.539829\"/>\n",
       "     <use style=\"fill:#1f77b4;stroke:#1f77b4;\" x=\"150.026531\" xlink:href=\"#md7a30f0a1a\" y=\"89.961339\"/>\n",
       "     <use style=\"fill:#1f77b4;stroke:#1f77b4;\" x=\"179.041247\" xlink:href=\"#md7a30f0a1a\" y=\"87.323027\"/>\n",
       "     <use style=\"fill:#1f77b4;stroke:#1f77b4;\" x=\"134.240711\" xlink:href=\"#md7a30f0a1a\" y=\"94.40575\"/>\n",
       "     <use style=\"fill:#1f77b4;stroke:#1f77b4;\" x=\"156.61904\" xlink:href=\"#md7a30f0a1a\" y=\"84.666798\"/>\n",
       "     <use style=\"fill:#1f77b4;stroke:#1f77b4;\" x=\"172.528928\" xlink:href=\"#md7a30f0a1a\" y=\"84.634834\"/>\n",
       "     <use style=\"fill:#1f77b4;stroke:#1f77b4;\" x=\"179.847434\" xlink:href=\"#md7a30f0a1a\" y=\"61.132489\"/>\n",
       "     <use style=\"fill:#1f77b4;stroke:#1f77b4;\" x=\"178.640436\" xlink:href=\"#md7a30f0a1a\" y=\"64.469341\"/>\n",
       "     <use style=\"fill:#1f77b4;stroke:#1f77b4;\" x=\"107.916506\" xlink:href=\"#md7a30f0a1a\" y=\"87.326643\"/>\n",
       "     <use style=\"fill:#1f77b4;stroke:#1f77b4;\" x=\"127.943259\" xlink:href=\"#md7a30f0a1a\" y=\"79.07159\"/>\n",
       "     <use style=\"fill:#1f77b4;stroke:#1f77b4;\" x=\"150.484921\" xlink:href=\"#md7a30f0a1a\" y=\"86.417322\"/>\n",
       "     <use style=\"fill:#1f77b4;stroke:#1f77b4;\" x=\"157.230119\" xlink:href=\"#md7a30f0a1a\" y=\"83.645703\"/>\n",
       "     <use style=\"fill:#1f77b4;stroke:#1f77b4;\" x=\"120.406806\" xlink:href=\"#md7a30f0a1a\" y=\"93.397675\"/>\n",
       "     <use style=\"fill:#1f77b4;stroke:#1f77b4;\" x=\"85.972425\" xlink:href=\"#md7a30f0a1a\" y=\"87.815053\"/>\n",
       "     <use style=\"fill:#1f77b4;stroke:#1f77b4;\" x=\"88.445899\" xlink:href=\"#md7a30f0a1a\" y=\"94.174286\"/>\n",
       "     <use style=\"fill:#1f77b4;stroke:#1f77b4;\" x=\"120.350474\" xlink:href=\"#md7a30f0a1a\" y=\"99.573991\"/>\n",
       "     <use style=\"fill:#1f77b4;stroke:#1f77b4;\" x=\"101.003315\" xlink:href=\"#md7a30f0a1a\" y=\"107.075316\"/>\n",
       "     <use style=\"fill:#1f77b4;stroke:#1f77b4;\" x=\"111.622947\" xlink:href=\"#md7a30f0a1a\" y=\"101.255237\"/>\n",
       "     <use style=\"fill:#1f77b4;stroke:#1f77b4;\" x=\"118.795625\" xlink:href=\"#md7a30f0a1a\" y=\"102.45816\"/>\n",
       "     <use style=\"fill:#1f77b4;stroke:#1f77b4;\" x=\"115.475502\" xlink:href=\"#md7a30f0a1a\" y=\"109.268309\"/>\n",
       "     <use style=\"fill:#1f77b4;stroke:#1f77b4;\" x=\"103.813221\" xlink:href=\"#md7a30f0a1a\" y=\"93.45064\"/>\n",
       "     <use style=\"fill:#1f77b4;stroke:#1f77b4;\" x=\"118.709538\" xlink:href=\"#md7a30f0a1a\" y=\"98.550569\"/>\n",
       "     <use style=\"fill:#1f77b4;stroke:#1f77b4;\" x=\"148.682343\" xlink:href=\"#md7a30f0a1a\" y=\"101.546817\"/>\n",
       "     <use style=\"fill:#1f77b4;stroke:#1f77b4;\" x=\"155.379962\" xlink:href=\"#md7a30f0a1a\" y=\"103.289357\"/>\n",
       "     <use style=\"fill:#1f77b4;stroke:#1f77b4;\" x=\"137.026394\" xlink:href=\"#md7a30f0a1a\" y=\"93.199353\"/>\n",
       "     <use style=\"fill:#1f77b4;stroke:#1f77b4;\" x=\"229.904502\" xlink:href=\"#md7a30f0a1a\" y=\"95.383149\"/>\n",
       "     <use style=\"fill:#1f77b4;stroke:#1f77b4;\" x=\"224.059289\" xlink:href=\"#md7a30f0a1a\" y=\"104.228891\"/>\n",
       "     <use style=\"fill:#1f77b4;stroke:#1f77b4;\" x=\"164.82181\" xlink:href=\"#md7a30f0a1a\" y=\"86.120521\"/>\n",
       "     <use style=\"fill:#1f77b4;stroke:#1f77b4;\" x=\"154.771789\" xlink:href=\"#md7a30f0a1a\" y=\"94.800244\"/>\n",
       "     <use style=\"fill:#1f77b4;stroke:#1f77b4;\" x=\"171.836981\" xlink:href=\"#md7a30f0a1a\" y=\"91.332324\"/>\n",
       "     <use style=\"fill:#1f77b4;stroke:#1f77b4;\" x=\"187.725987\" xlink:href=\"#md7a30f0a1a\" y=\"97.163302\"/>\n",
       "     <use style=\"fill:#1f77b4;stroke:#1f77b4;\" x=\"175.555255\" xlink:href=\"#md7a30f0a1a\" y=\"96.560783\"/>\n",
       "     <use style=\"fill:#1f77b4;stroke:#1f77b4;\" x=\"93.777207\" xlink:href=\"#md7a30f0a1a\" y=\"91.830944\"/>\n",
       "     <use style=\"fill:#1f77b4;stroke:#1f77b4;\" x=\"112.641976\" xlink:href=\"#md7a30f0a1a\" y=\"97.474941\"/>\n",
       "     <use style=\"fill:#1f77b4;stroke:#1f77b4;\" x=\"117.155465\" xlink:href=\"#md7a30f0a1a\" y=\"106.567071\"/>\n",
       "     <use style=\"fill:#1f77b4;stroke:#1f77b4;\" x=\"111.710019\" xlink:href=\"#md7a30f0a1a\" y=\"110.25267\"/>\n",
       "     <use style=\"fill:#1f77b4;stroke:#1f77b4;\" x=\"127.521788\" xlink:href=\"#md7a30f0a1a\" y=\"108.012386\"/>\n",
       "     <use style=\"fill:#1f77b4;stroke:#1f77b4;\" x=\"141.668479\" xlink:href=\"#md7a30f0a1a\" y=\"103.508648\"/>\n",
       "     <use style=\"fill:#1f77b4;stroke:#1f77b4;\" x=\"156.766703\" xlink:href=\"#md7a30f0a1a\" y=\"100.844017\"/>\n",
       "     <use style=\"fill:#1f77b4;stroke:#1f77b4;\" x=\"167.007196\" xlink:href=\"#md7a30f0a1a\" y=\"94.473999\"/>\n",
       "     <use style=\"fill:#1f77b4;stroke:#1f77b4;\" x=\"215.028791\" xlink:href=\"#md7a30f0a1a\" y=\"80.453832\"/>\n",
       "     <use style=\"fill:#1f77b4;stroke:#1f77b4;\" x=\"185.282773\" xlink:href=\"#md7a30f0a1a\" y=\"88.54623\"/>\n",
       "     <use style=\"fill:#1f77b4;stroke:#1f77b4;\" x=\"196.820391\" xlink:href=\"#md7a30f0a1a\" y=\"101.882825\"/>\n",
       "     <use style=\"fill:#1f77b4;stroke:#1f77b4;\" x=\"239.044868\" xlink:href=\"#md7a30f0a1a\" y=\"90.46843\"/>\n",
       "     <use style=\"fill:#1f77b4;stroke:#1f77b4;\" x=\"255.879962\" xlink:href=\"#md7a30f0a1a\" y=\"86.760862\"/>\n",
       "     <use style=\"fill:#1f77b4;stroke:#1f77b4;\" x=\"261.678853\" xlink:href=\"#md7a30f0a1a\" y=\"88.574412\"/>\n",
       "     <use style=\"fill:#1f77b4;stroke:#1f77b4;\" x=\"199.786866\" xlink:href=\"#md7a30f0a1a\" y=\"102.791703\"/>\n",
       "     <use style=\"fill:#1f77b4;stroke:#1f77b4;\" x=\"168.691008\" xlink:href=\"#md7a30f0a1a\" y=\"111.088799\"/>\n",
       "     <use style=\"fill:#1f77b4;stroke:#1f77b4;\" x=\"125.568625\" xlink:href=\"#md7a30f0a1a\" y=\"136.680386\"/>\n",
       "     <use style=\"fill:#1f77b4;stroke:#1f77b4;\" x=\"116.71132\" xlink:href=\"#md7a30f0a1a\" y=\"121.70076\"/>\n",
       "     <use style=\"fill:#1f77b4;stroke:#1f77b4;\" x=\"95.668568\" xlink:href=\"#md7a30f0a1a\" y=\"104.157329\"/>\n",
       "     <use style=\"fill:#1f77b4;stroke:#1f77b4;\" x=\"100.259351\" xlink:href=\"#md7a30f0a1a\" y=\"88.4698\"/>\n",
       "     <use style=\"fill:#1f77b4;stroke:#1f77b4;\" x=\"125.541156\" xlink:href=\"#md7a30f0a1a\" y=\"104.490798\"/>\n",
       "     <use style=\"fill:#1f77b4;stroke:#1f77b4;\" x=\"130.715343\" xlink:href=\"#md7a30f0a1a\" y=\"99.08866\"/>\n",
       "     <use style=\"fill:#1f77b4;stroke:#1f77b4;\" x=\"134.843623\" xlink:href=\"#md7a30f0a1a\" y=\"104.24764\"/>\n",
       "     <use style=\"fill:#1f77b4;stroke:#1f77b4;\" x=\"101.335474\" xlink:href=\"#md7a30f0a1a\" y=\"92.118851\"/>\n",
       "     <use style=\"fill:#1f77b4;stroke:#1f77b4;\" x=\"151.362927\" xlink:href=\"#md7a30f0a1a\" y=\"68.448769\"/>\n",
       "     <use style=\"fill:#1f77b4;stroke:#1f77b4;\" x=\"75.042875\" xlink:href=\"#md7a30f0a1a\" y=\"86.711654\"/>\n",
       "     <use style=\"fill:#1f77b4;stroke:#1f77b4;\" x=\"107.463531\" xlink:href=\"#md7a30f0a1a\" y=\"74.002038\"/>\n",
       "     <use style=\"fill:#1f77b4;stroke:#1f77b4;\" x=\"140.065406\" xlink:href=\"#md7a30f0a1a\" y=\"109.470625\"/>\n",
       "     <use style=\"fill:#1f77b4;stroke:#1f77b4;\" x=\"87.762247\" xlink:href=\"#md7a30f0a1a\" y=\"93.093827\"/>\n",
       "     <use style=\"fill:#1f77b4;stroke:#1f77b4;\" x=\"66.301918\" xlink:href=\"#md7a30f0a1a\" y=\"90.778339\"/>\n",
       "     <use style=\"fill:#1f77b4;stroke:#1f77b4;\" x=\"124.889923\" xlink:href=\"#md7a30f0a1a\" y=\"90.965714\"/>\n",
       "     <use style=\"fill:#1f77b4;stroke:#1f77b4;\" x=\"135.870793\" xlink:href=\"#md7a30f0a1a\" y=\"108.514127\"/>\n",
       "     <use style=\"fill:#1f77b4;stroke:#1f77b4;\" x=\"192.877377\" xlink:href=\"#md7a30f0a1a\" y=\"79.187989\"/>\n",
       "     <use style=\"fill:#1f77b4;stroke:#1f77b4;\" x=\"131.790582\" xlink:href=\"#md7a30f0a1a\" y=\"91.49236\"/>\n",
       "     <use style=\"fill:#1f77b4;stroke:#1f77b4;\" x=\"99.832765\" xlink:href=\"#md7a30f0a1a\" y=\"107.677652\"/>\n",
       "     <use style=\"fill:#1f77b4;stroke:#1f77b4;\" x=\"111.4053\" xlink:href=\"#md7a30f0a1a\" y=\"85.9104\"/>\n",
       "     <use style=\"fill:#1f77b4;stroke:#1f77b4;\" x=\"163.577874\" xlink:href=\"#md7a30f0a1a\" y=\"101.419094\"/>\n",
       "     <use style=\"fill:#1f77b4;stroke:#1f77b4;\" x=\"114.094813\" xlink:href=\"#md7a30f0a1a\" y=\"87.474326\"/>\n",
       "     <use style=\"fill:#1f77b4;stroke:#1f77b4;\" x=\"148.449718\" xlink:href=\"#md7a30f0a1a\" y=\"109.838254\"/>\n",
       "     <use style=\"fill:#1f77b4;stroke:#1f77b4;\" x=\"169.306533\" xlink:href=\"#md7a30f0a1a\" y=\"104.774954\"/>\n",
       "     <use style=\"fill:#1f77b4;stroke:#1f77b4;\" x=\"216.291317\" xlink:href=\"#md7a30f0a1a\" y=\"115.484391\"/>\n",
       "     <use style=\"fill:#1f77b4;stroke:#1f77b4;\" x=\"228.790596\" xlink:href=\"#md7a30f0a1a\" y=\"112.299579\"/>\n",
       "     <use style=\"fill:#1f77b4;stroke:#1f77b4;\" x=\"132.736329\" xlink:href=\"#md7a30f0a1a\" y=\"105.003425\"/>\n",
       "     <use style=\"fill:#1f77b4;stroke:#1f77b4;\" x=\"144.563697\" xlink:href=\"#md7a30f0a1a\" y=\"115.66258\"/>\n",
       "     <use style=\"fill:#1f77b4;stroke:#1f77b4;\" x=\"208.44217\" xlink:href=\"#md7a30f0a1a\" y=\"116.139378\"/>\n",
       "     <use style=\"fill:#1f77b4;stroke:#1f77b4;\" x=\"215.411939\" xlink:href=\"#md7a30f0a1a\" y=\"104.682398\"/>\n",
       "     <use style=\"fill:#1f77b4;stroke:#1f77b4;\" x=\"105.615501\" xlink:href=\"#md7a30f0a1a\" y=\"92.999386\"/>\n",
       "     <use style=\"fill:#1f77b4;stroke:#1f77b4;\" x=\"86.836989\" xlink:href=\"#md7a30f0a1a\" y=\"84.382633\"/>\n",
       "     <use style=\"fill:#1f77b4;stroke:#1f77b4;\" x=\"158.880642\" xlink:href=\"#md7a30f0a1a\" y=\"108.548325\"/>\n",
       "     <use style=\"fill:#1f77b4;stroke:#1f77b4;\" x=\"207.867702\" xlink:href=\"#md7a30f0a1a\" y=\"131.51234\"/>\n",
       "     <use style=\"fill:#1f77b4;stroke:#1f77b4;\" x=\"162.833618\" xlink:href=\"#md7a30f0a1a\" y=\"87.293048\"/>\n",
       "     <use style=\"fill:#1f77b4;stroke:#1f77b4;\" x=\"134.005005\" xlink:href=\"#md7a30f0a1a\" y=\"106.056436\"/>\n",
       "     <use style=\"fill:#1f77b4;stroke:#1f77b4;\" x=\"145.669823\" xlink:href=\"#md7a30f0a1a\" y=\"75.290453\"/>\n",
       "     <use style=\"fill:#1f77b4;stroke:#1f77b4;\" x=\"171.057066\" xlink:href=\"#md7a30f0a1a\" y=\"77.291024\"/>\n",
       "     <use style=\"fill:#1f77b4;stroke:#1f77b4;\" x=\"128.20686\" xlink:href=\"#md7a30f0a1a\" y=\"86.824308\"/>\n",
       "     <use style=\"fill:#1f77b4;stroke:#1f77b4;\" x=\"174.842484\" xlink:href=\"#md7a30f0a1a\" y=\"107.564278\"/>\n",
       "     <use style=\"fill:#1f77b4;stroke:#1f77b4;\" x=\"179.537951\" xlink:href=\"#md7a30f0a1a\" y=\"93.441565\"/>\n",
       "     <use style=\"fill:#1f77b4;stroke:#1f77b4;\" x=\"197.70519\" xlink:href=\"#md7a30f0a1a\" y=\"83.570488\"/>\n",
       "     <use style=\"fill:#1f77b4;stroke:#1f77b4;\" x=\"188.757807\" xlink:href=\"#md7a30f0a1a\" y=\"77.181663\"/>\n",
       "     <use style=\"fill:#1f77b4;stroke:#1f77b4;\" x=\"112.495548\" xlink:href=\"#md7a30f0a1a\" y=\"93.080139\"/>\n",
       "     <use style=\"fill:#1f77b4;stroke:#1f77b4;\" x=\"141.047072\" xlink:href=\"#md7a30f0a1a\" y=\"95.536331\"/>\n",
       "     <use style=\"fill:#1f77b4;stroke:#1f77b4;\" x=\"154.507488\" xlink:href=\"#md7a30f0a1a\" y=\"91.471616\"/>\n",
       "     <use style=\"fill:#1f77b4;stroke:#1f77b4;\" x=\"157.291072\" xlink:href=\"#md7a30f0a1a\" y=\"83.722289\"/>\n",
       "     <use style=\"fill:#1f77b4;stroke:#1f77b4;\" x=\"126.575801\" xlink:href=\"#md7a30f0a1a\" y=\"101.148923\"/>\n",
       "     <use style=\"fill:#1f77b4;stroke:#1f77b4;\" x=\"81.096591\" xlink:href=\"#md7a30f0a1a\" y=\"81.688642\"/>\n",
       "     <use style=\"fill:#1f77b4;stroke:#1f77b4;\" x=\"103.012463\" xlink:href=\"#md7a30f0a1a\" y=\"112.476953\"/>\n",
       "     <use style=\"fill:#1f77b4;stroke:#1f77b4;\" x=\"128.212764\" xlink:href=\"#md7a30f0a1a\" y=\"109.452839\"/>\n",
       "     <use style=\"fill:#1f77b4;stroke:#1f77b4;\" x=\"88.874661\" xlink:href=\"#md7a30f0a1a\" y=\"91.835846\"/>\n",
       "     <use style=\"fill:#1f77b4;stroke:#1f77b4;\" x=\"112.354323\" xlink:href=\"#md7a30f0a1a\" y=\"102.1742\"/>\n",
       "     <use style=\"fill:#1f77b4;stroke:#1f77b4;\" x=\"104.655687\" xlink:href=\"#md7a30f0a1a\" y=\"84.691543\"/>\n",
       "     <use style=\"fill:#1f77b4;stroke:#1f77b4;\" x=\"95.314966\" xlink:href=\"#md7a30f0a1a\" y=\"83.936901\"/>\n",
       "     <use style=\"fill:#1f77b4;stroke:#1f77b4;\" x=\"98.327902\" xlink:href=\"#md7a30f0a1a\" y=\"86.55842\"/>\n",
       "     <use style=\"fill:#1f77b4;stroke:#1f77b4;\" x=\"109.445449\" xlink:href=\"#md7a30f0a1a\" y=\"86.910382\"/>\n",
       "     <use style=\"fill:#1f77b4;stroke:#1f77b4;\" x=\"139.418254\" xlink:href=\"#md7a30f0a1a\" y=\"89.90663\"/>\n",
       "     <use style=\"fill:#1f77b4;stroke:#1f77b4;\" x=\"148.664601\" xlink:href=\"#md7a30f0a1a\" y=\"94.851608\"/>\n",
       "     <use style=\"fill:#1f77b4;stroke:#1f77b4;\" x=\"128.432727\" xlink:href=\"#md7a30f0a1a\" y=\"82.401542\"/>\n",
       "     <use style=\"fill:#1f77b4;stroke:#1f77b4;\" x=\"218.872912\" xlink:href=\"#md7a30f0a1a\" y=\"81.522123\"/>\n",
       "     <use style=\"fill:#1f77b4;stroke:#1f77b4;\" x=\"214.612356\" xlink:href=\"#md7a30f0a1a\" y=\"92.358963\"/>\n",
       "     <use style=\"fill:#1f77b4;stroke:#1f77b4;\" x=\"160.433555\" xlink:href=\"#md7a30f0a1a\" y=\"80.606745\"/>\n",
       "     <use style=\"fill:#1f77b4;stroke:#1f77b4;\" x=\"146.665701\" xlink:href=\"#md7a30f0a1a\" y=\"84.615068\"/>\n",
       "     <use style=\"fill:#1f77b4;stroke:#1f77b4;\" x=\"181.283914\" xlink:href=\"#md7a30f0a1a\" y=\"103.202252\"/>\n",
       "     <use style=\"fill:#1f77b4;stroke:#1f77b4;\" x=\"192.358039\" xlink:href=\"#md7a30f0a1a\" y=\"102.983405\"/>\n",
       "     <use style=\"fill:#1f77b4;stroke:#1f77b4;\" x=\"173.787768\" xlink:href=\"#md7a30f0a1a\" y=\"94.339962\"/>\n",
       "     <use style=\"fill:#1f77b4;stroke:#1f77b4;\" x=\"94.508583\" xlink:href=\"#md7a30f0a1a\" y=\"92.749907\"/>\n",
       "     <use style=\"fill:#1f77b4;stroke:#1f77b4;\" x=\"107.82708\" xlink:href=\"#md7a30f0a1a\" y=\"91.425097\"/>\n",
       "     <use style=\"fill:#1f77b4;stroke:#1f77b4;\" x=\"116.180292\" xlink:href=\"#md7a30f0a1a\" y=\"105.341782\"/>\n",
       "     <use style=\"fill:#1f77b4;stroke:#1f77b4;\" x=\"107.199872\" xlink:href=\"#md7a30f0a1a\" y=\"104.58574\"/>\n",
       "     <use style=\"fill:#1f77b4;stroke:#1f77b4;\" x=\"138.065785\" xlink:href=\"#md7a30f0a1a\" y=\"121.260758\"/>\n",
       "     <use style=\"fill:#1f77b4;stroke:#1f77b4;\" x=\"127.223806\" xlink:href=\"#md7a30f0a1a\" y=\"85.359136\"/>\n",
       "     <use style=\"fill:#1f77b4;stroke:#1f77b4;\" x=\"149.818632\" xlink:href=\"#md7a30f0a1a\" y=\"92.113872\"/>\n",
       "     <use style=\"fill:#1f77b4;stroke:#1f77b4;\" x=\"149.819863\" xlink:href=\"#md7a30f0a1a\" y=\"72.878377\"/>\n",
       "     <use style=\"fill:#1f77b4;stroke:#1f77b4;\" x=\"187.297461\" xlink:href=\"#md7a30f0a1a\" y=\"45.609837\"/>\n",
       "     <use style=\"fill:#1f77b4;stroke:#1f77b4;\" x=\"152.614657\" xlink:href=\"#md7a30f0a1a\" y=\"47.499238\"/>\n",
       "     <use style=\"fill:#1f77b4;stroke:#1f77b4;\" x=\"184.546003\" xlink:href=\"#md7a30f0a1a\" y=\"86.460243\"/>\n",
       "     <use style=\"fill:#1f77b4;stroke:#1f77b4;\" x=\"205.706313\" xlink:href=\"#md7a30f0a1a\" y=\"48.579043\"/>\n",
       "     <use style=\"fill:#1f77b4;stroke:#1f77b4;\" x=\"238.387894\" xlink:href=\"#md7a30f0a1a\" y=\"64.782345\"/>\n",
       "     <use style=\"fill:#1f77b4;stroke:#1f77b4;\" x=\"242.297393\" xlink:href=\"#md7a30f0a1a\" y=\"64.221902\"/>\n",
       "     <use style=\"fill:#1f77b4;stroke:#1f77b4;\" x=\"178.455075\" xlink:href=\"#md7a30f0a1a\" y=\"75.988632\"/>\n",
       "     <use style=\"fill:#1f77b4;stroke:#1f77b4;\" x=\"149.929623\" xlink:href=\"#md7a30f0a1a\" y=\"87.515403\"/>\n",
       "     <use style=\"fill:#1f77b4;stroke:#1f77b4;\" x=\"92.656712\" xlink:href=\"#md7a30f0a1a\" y=\"95.327067\"/>\n",
       "     <use style=\"fill:#1f77b4;stroke:#1f77b4;\" x=\"97.207969\" xlink:href=\"#md7a30f0a1a\" y=\"97.195096\"/>\n",
       "     <use style=\"fill:#1f77b4;stroke:#1f77b4;\" x=\"95.059083\" xlink:href=\"#md7a30f0a1a\" y=\"103.391521\"/>\n",
       "     <use style=\"fill:#1f77b4;stroke:#1f77b4;\" x=\"73.92982\" xlink:href=\"#md7a30f0a1a\" y=\"55.387144\"/>\n",
       "     <use style=\"fill:#1f77b4;stroke:#1f77b4;\" x=\"113.900095\" xlink:href=\"#md7a30f0a1a\" y=\"89.863982\"/>\n",
       "     <use style=\"fill:#1f77b4;stroke:#1f77b4;\" x=\"126.388041\" xlink:href=\"#md7a30f0a1a\" y=\"93.651471\"/>\n",
       "     <use style=\"fill:#1f77b4;stroke:#1f77b4;\" x=\"130.942947\" xlink:href=\"#md7a30f0a1a\" y=\"99.3465\"/>\n",
       "     <use style=\"fill:#1f77b4;stroke:#1f77b4;\" x=\"95.484467\" xlink:href=\"#md7a30f0a1a\" y=\"84.76715\"/>\n",
       "     <use style=\"fill:#1f77b4;stroke:#1f77b4;\" x=\"160.627016\" xlink:href=\"#md7a30f0a1a\" y=\"80.088956\"/>\n",
       "     <use style=\"fill:#1f77b4;stroke:#1f77b4;\" x=\"62.79233\" xlink:href=\"#md7a30f0a1a\" y=\"71.319029\"/>\n",
       "     <use style=\"fill:#1f77b4;stroke:#1f77b4;\" x=\"100.088819\" xlink:href=\"#md7a30f0a1a\" y=\"64.735825\"/>\n",
       "     <use style=\"fill:#1f77b4;stroke:#1f77b4;\" x=\"121.781009\" xlink:href=\"#md7a30f0a1a\" y=\"86.496559\"/>\n",
       "     <use style=\"fill:#1f77b4;stroke:#1f77b4;\" x=\"71.976713\" xlink:href=\"#md7a30f0a1a\" y=\"73.259544\"/>\n",
       "     <use style=\"fill:#1f77b4;stroke:#1f77b4;\" x=\"66.240965\" xlink:href=\"#md7a30f0a1a\" y=\"90.701753\"/>\n",
       "     <use style=\"fill:#1f77b4;stroke:#1f77b4;\" x=\"125.986986\" xlink:href=\"#md7a30f0a1a\" y=\"92.344158\"/>\n",
       "     <use style=\"fill:#1f77b4;stroke:#1f77b4;\" x=\"118.866305\" xlink:href=\"#md7a30f0a1a\" y=\"87.148246\"/>\n",
       "     <use style=\"fill:#1f77b4;stroke:#1f77b4;\" x=\"199.520713\" xlink:href=\"#md7a30f0a1a\" y=\"87.535239\"/>\n",
       "     <use style=\"fill:#1f77b4;stroke:#1f77b4;\" x=\"111.433949\" xlink:href=\"#md7a30f0a1a\" y=\"65.91456\"/>\n",
       "     <use style=\"fill:#1f77b4;stroke:#1f77b4;\" x=\"74.905033\" xlink:href=\"#md7a30f0a1a\" y=\"76.356336\"/>\n",
       "     <use style=\"fill:#1f77b4;stroke:#1f77b4;\" x=\"100.655219\" xlink:href=\"#md7a30f0a1a\" y=\"87.004963\"/>\n",
       "     <use style=\"fill:#1f77b4;stroke:#1f77b4;\" x=\"172.519818\" xlink:href=\"#md7a30f0a1a\" y=\"79.12895\"/>\n",
       "     <use style=\"fill:#1f77b4;stroke:#1f77b4;\" x=\"182.156242\" xlink:href=\"#md7a30f0a1a\" y=\"116.753905\"/>\n",
       "     <use style=\"fill:#1f77b4;stroke:#1f77b4;\" x=\"185.832304\" xlink:href=\"#md7a30f0a1a\" y=\"73.505813\"/>\n",
       "     <use style=\"fill:#1f77b4;stroke:#1f77b4;\" x=\"141.047072\" xlink:href=\"#md7a30f0a1a\" y=\"95.536331\"/>\n",
       "     <use style=\"fill:#1f77b4;stroke:#1f77b4;\" x=\"123.650297\" xlink:href=\"#md7a30f0a1a\" y=\"97.473072\"/>\n",
       "     <use style=\"fill:#1f77b4;stroke:#1f77b4;\" x=\"91.800164\" xlink:href=\"#md7a30f0a1a\" y=\"95.511697\"/>\n",
       "     <use style=\"fill:#1f77b4;stroke:#1f77b4;\" x=\"95.314966\" xlink:href=\"#md7a30f0a1a\" y=\"83.936901\"/>\n",
       "     <use style=\"fill:#1f77b4;stroke:#1f77b4;\" x=\"142.343757\" xlink:href=\"#md7a30f0a1a\" y=\"93.58248\"/>\n",
       "     <use style=\"fill:#1f77b4;stroke:#1f77b4;\" x=\"218.872912\" xlink:href=\"#md7a30f0a1a\" y=\"81.522123\"/>\n",
       "     <use style=\"fill:#1f77b4;stroke:#1f77b4;\" x=\"181.101527\" xlink:href=\"#md7a30f0a1a\" y=\"103.529589\"/>\n",
       "     <use style=\"fill:#1f77b4;stroke:#1f77b4;\" x=\"120.568548\" xlink:href=\"#md7a30f0a1a\" y=\"110.855558\"/>\n",
       "     <use style=\"fill:#1f77b4;stroke:#1f77b4;\" x=\"117.439134\" xlink:href=\"#md7a30f0a1a\" y=\"117.451217\"/>\n",
       "     <use style=\"fill:#1f77b4;stroke:#1f77b4;\" x=\"168.835636\" xlink:href=\"#md7a30f0a1a\" y=\"96.771406\"/>\n",
       "     <use style=\"fill:#1f77b4;stroke:#1f77b4;\" x=\"203.561775\" xlink:href=\"#md7a30f0a1a\" y=\"110.353272\"/>\n",
       "     <use style=\"fill:#1f77b4;stroke:#1f77b4;\" x=\"265.70142\" xlink:href=\"#md7a30f0a1a\" y=\"93.628706\"/>\n",
       "     <use style=\"fill:#1f77b4;stroke:#1f77b4;\" x=\"113.135236\" xlink:href=\"#md7a30f0a1a\" y=\"121.058021\"/>\n",
       "     <use style=\"fill:#1f77b4;stroke:#1f77b4;\" x=\"78.318075\" xlink:href=\"#md7a30f0a1a\" y=\"60.90092\"/>\n",
       "     <use style=\"fill:#1f77b4;stroke:#1f77b4;\" x=\"135.331202\" xlink:href=\"#md7a30f0a1a\" y=\"104.860276\"/>\n",
       "     <use style=\"fill:#1f77b4;stroke:#1f77b4;\" x=\"170.866278\" xlink:href=\"#md7a30f0a1a\" y=\"92.954433\"/>\n",
       "     <use style=\"fill:#1f77b4;stroke:#1f77b4;\" x=\"100.088819\" xlink:href=\"#md7a30f0a1a\" y=\"64.735825\"/>\n",
       "     <use style=\"fill:#1f77b4;stroke:#1f77b4;\" x=\"130.55752\" xlink:href=\"#md7a30f0a1a\" y=\"97.524111\"/>\n",
       "     <use style=\"fill:#1f77b4;stroke:#1f77b4;\" x=\"114.359452\" xlink:href=\"#md7a30f0a1a\" y=\"69.590411\"/>\n",
       "    </g>\n",
       "   </g>\n",
       "   <g id=\"line2d_18\">\n",
       "    <path clip-path=\"url(#p80cfb95789)\" d=\"M 52.646875 92.318906 \n",
       "L 275.846875 92.318906 \n",
       "\" style=\"fill:none;stroke:#1f77b4;stroke-dasharray:5.55,2.4;stroke-dashoffset:0;stroke-width:1.5;\"/>\n",
       "   </g>\n",
       "   <g id=\"patch_3\">\n",
       "    <path d=\"M 52.646875 173.858906 \n",
       "L 52.646875 10.778906 \n",
       "\" style=\"fill:none;stroke:#cccccc;stroke-linecap:square;stroke-linejoin:miter;stroke-width:0.8;\"/>\n",
       "   </g>\n",
       "   <g id=\"patch_4\">\n",
       "    <path d=\"M 275.846875 173.858906 \n",
       "L 275.846875 10.778906 \n",
       "\" style=\"fill:none;stroke:#cccccc;stroke-linecap:square;stroke-linejoin:miter;stroke-width:0.8;\"/>\n",
       "   </g>\n",
       "   <g id=\"patch_5\">\n",
       "    <path d=\"M 52.646875 173.858906 \n",
       "L 275.846875 173.858906 \n",
       "\" style=\"fill:none;stroke:#cccccc;stroke-linecap:square;stroke-linejoin:miter;stroke-width:0.8;\"/>\n",
       "   </g>\n",
       "   <g id=\"patch_6\">\n",
       "    <path d=\"M 52.646875 10.778906 \n",
       "L 275.846875 10.778906 \n",
       "\" style=\"fill:none;stroke:#cccccc;stroke-linecap:square;stroke-linejoin:miter;stroke-width:0.8;\"/>\n",
       "   </g>\n",
       "  </g>\n",
       " </g>\n",
       " <defs>\n",
       "  <clipPath id=\"p80cfb95789\">\n",
       "   <rect height=\"163.08\" width=\"223.2\" x=\"52.646875\" y=\"10.778906\"/>\n",
       "  </clipPath>\n",
       " </defs>\n",
       "</svg>\n"
      ],
      "text/plain": [
       "<Figure size 288x216 with 1 Axes>"
      ]
     },
     "metadata": {},
     "output_type": "display_data"
    }
   ],
   "source": [
    "plt.plot(predicted2, errors2, 'o')\n",
    "plt.xlabel(\"predicted\")\n",
    "plt.ylabel(\"error\")\n",
    "plt.ylim((-10, 10))\n",
    "plt.axhline(y=0, linestyle='dashed')"
   ]
  },
  {
   "cell_type": "markdown",
   "metadata": {},
   "source": [
    "The residual plot appears to have no clear patterns, which indicates that the model fits pretty well. Next, we compute the standard deviation of the residuals. "
   ]
  },
  {
   "cell_type": "code",
   "execution_count": 14,
   "metadata": {},
   "outputs": [
    {
     "data": {
      "text/plain": [
       "pm25pa    1.82\n",
       "dtype: float64"
      ]
     },
     "execution_count": 14,
     "metadata": {},
     "output_type": "execute_result"
    }
   ],
   "source": [
    "np.std(errors2)"
   ]
  },
  {
   "cell_type": "markdown",
   "metadata": {},
   "source": [
    "The residual standard deviation has been reduced from $2.8$ in the one variable model to $1.8$, which is a good size reduction. "
   ]
  },
  {
   "cell_type": "markdown",
   "metadata": {},
   "source": [
    "Correlation doesn't capture the strength of a linear model with more than one explanatory variable. Instead, we adapt the Average Square Error to give us a sense of model fit. In the next section, we describe how to fit the general multiple linear model and look at variations of the ASE to assess model fit. "
   ]
  }
 ],
 "metadata": {
  "kernelspec": {
   "display_name": "Python 3",
   "language": "python",
   "name": "python3"
  },
  "language_info": {
   "codemirror_mode": {
    "name": "ipython",
    "version": 3
   },
   "file_extension": ".py",
   "mimetype": "text/x-python",
   "name": "python",
   "nbconvert_exporter": "python",
   "pygments_lexer": "ipython3",
   "version": "3.9.4"
  }
 },
 "nbformat": 4,
 "nbformat_minor": 4
}
