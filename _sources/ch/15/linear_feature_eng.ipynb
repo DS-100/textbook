{
 "cells": [
  {
   "cell_type": "code",
   "execution_count": 1,
   "metadata": {
    "tags": [
     "remove-cell"
    ]
   },
   "outputs": [],
   "source": [
    "import sys\n",
    "import os\n",
    "if not any(path.endswith('textbook') for path in sys.path):\n",
    "    sys.path.append(os.path.abspath('../../..'))\n",
    "from textbook_utils import *"
   ]
  },
  {
   "cell_type": "code",
   "execution_count": 40,
   "metadata": {
    "tags": [
     "remove-cell"
    ]
   },
   "outputs": [],
   "source": [
    "regions = (\n",
    "    pd.read_csv('data/census_regions.csv',\n",
    "                header=0, names=['state', 'stateabbrv', 'region', 'div'])\n",
    "    .drop(columns=['div'])\n",
    ")\n",
    "\n",
    "outlier_czs = [34105, 34113, 34112, 34106]\n",
    "df = (\n",
    "    pd.read_csv('data/mobility.csv')\n",
    "    # filter out rows with NaN AUM values\n",
    "    .query('not aum.isnull()', engine='python')\n",
    "    # take out outlier CZs\n",
    "    .query('cz not in @outlier_czs')\n",
    "    .merge(regions, on='stateabbrv')\n",
    "#     [['czname', 'region', 'stateabbrv', 'aum']]\n",
    "    [['region', 'aum']]\n",
    ")"
   ]
  },
  {
   "cell_type": "markdown",
   "metadata": {},
   "source": [
    "(sec:linear_feature_eng)=\n",
    "# Feature Engineering"
   ]
  },
  {
   "cell_type": "markdown",
   "metadata": {},
   "source": [
    "Since, a few observations are quite large, we zoom into the region where measurements  are less than 20 on the more accurate sensor to see if the relationship appears linear there."
   ]
  },
  {
   "cell_type": "code",
   "execution_count": 117,
   "metadata": {
    "tags": [
     "remove-input"
    ]
   },
   "outputs": [
    {
     "data": {
      "application/vnd.plotly.v1+json": {
       "config": {
        "plotlyServerURL": "https://plot.ly"
       },
       "data": [
        {
         "hovertemplate": "pm25aqs=%{x}<br>pm25pa=%{y}<extra></extra>",
         "legendgroup": "",
         "marker": {
          "color": "#1F77B4",
          "symbol": "circle"
         },
         "mode": "markers",
         "name": "",
         "orientation": "v",
         "showlegend": false,
         "type": "scatter",
         "x": [
          6.7,
          3.8,
          4,
          4.7,
          3.2,
          4.2,
          4,
          17.6,
          4.5,
          2.7,
          2.9,
          12.5,
          1.5,
          4.4,
          2.5,
          2.9,
          3.2,
          3.2,
          3.1,
          3.5,
          3.2,
          2,
          2.3,
          3.9,
          3.7,
          4.8,
          4.3,
          2.9,
          3.5,
          3.2,
          4,
          4.5,
          7.5,
          16.2,
          2.4,
          2,
          2.8,
          4,
          5.7,
          59.1,
          39.5,
          52.7,
          60,
          8.3,
          4.8,
          4.5,
          5.7,
          2.2,
          2.8,
          2.3,
          0.8,
          1.6,
          1.6,
          2.7,
          4.2,
          3.6,
          6.3,
          7.6,
          5.1,
          3.7,
          3.9,
          3.7,
          3,
          4.2,
          5.5,
          11.8,
          6.7,
          5,
          3.6,
          3,
          4.6,
          6.5,
          6.9,
          4,
          6.7,
          4.2,
          3.2,
          4.5,
          12.5,
          15.6,
          12,
          5.5,
          2.7,
          1.6,
          2.6,
          0.7,
          2.3,
          4.6,
          3.5,
          1.2,
          1.7,
          4.6,
          4.8,
          4.3,
          2.4,
          4.4,
          4,
          4.4,
          2.6,
          2.2,
          3.7,
          2.3,
          3.4,
          0.4,
          2.3,
          6,
          3,
          4,
          16.2,
          53.4,
          5.1,
          2.1,
          1.4,
          4.3,
          6.8,
          4,
          2.8,
          12,
          3.1,
          6.9,
          6.4,
          12.3,
          0.5,
          1.5,
          4,
          1.9
         ],
         "xaxis": "x",
         "y": [
          8.61695352332852,
          3.49391633415251,
          3.79960099292242,
          4.36969101036657,
          3.19107078838998,
          3.27136574074074,
          5.05941532368791,
          35.9255740740741,
          4.82944444444444,
          2.69641203703704,
          0.990935845374212,
          21.864381017383,
          0.998847222222222,
          2.92713788300836,
          1.23522916666667,
          2.20475,
          2.61585320450486,
          2.530875,
          2.78462447844228,
          2.82400694444444,
          2.69732638888889,
          0.376831004282532,
          1.01789736107938,
          2.55836134453781,
          4.85311805555556,
          7.30245833333333,
          6.58488194444444,
          3.99263194444444,
          3.61703472222222,
          2.62347916666667,
          5.46972916666667,
          6.59075694444444,
          13.7479722222222,
          38.5742013888889,
          2.13855555555556,
          1.20486805555556,
          2.45721527777778,
          2.76017237467138,
          12.5168125,
          133.754409722222,
          89.2828680555556,
          114.234138888889,
          123.463041666667,
          18.0914027777778,
          7.90384027777778,
          6.98361111111111,
          7.83739583333333,
          2.37282638888889,
          3.25459027777778,
          3.48689583333333,
          0.329715277777778,
          1.09695138888889,
          1.20453472222222,
          2.33189151599444,
          4.01677777777778,
          4.4185823288518,
          8.81659027777778,
          11.8311597222222,
          7.19993055555556,
          3.56254166666667,
          3.50107638888889,
          4.30972916666667,
          3.15328525343842,
          3.84611111111111,
          6.66111111111111,
          21.6268472222222,
          9.26290972222222,
          4.09304861111111,
          2.30839360222531,
          2.22780555555556,
          4.20922916666667,
          7.8284375,
          8.12847916666667,
          3.21947916666667,
          7.32309027777778,
          5.27901388888889,
          3.067625,
          2.64411805555556,
          19.5242569444444,
          32.2472777777778,
          25.1371666666667,
          7.02444444444444,
          2.33087866108787,
          2.50891666666667,
          1.718,
          0.181708333333333,
          2.37480555555556,
          4.24985416666667,
          2.96814583333333,
          1.36068055555556,
          1.24723611111111,
          4.3880625,
          4.03877083333333,
          3.83609722222222,
          2.14480555555556,
          2.76017237467138,
          3.49391633415251,
          3.79960099292242,
          2.69641203703704,
          0.702614319799657,
          2.55836134453781,
          2.92713788300836,
          2.61585320450486,
          2.82400694444444,
          1.20486805555556,
          7.30245833333333,
          1.62045833333333,
          5.46972916666667,
          38.5742013888889,
          114.234138888889,
          7.90384027777778,
          2.37282638888889,
          0.329715277777778,
          4.01677777777778,
          8.81659027777778,
          3.56254166666667,
          3.15328525343842,
          21.6268472222222,
          2.22780555555556,
          8.12847916666667,
          7.32309027777778,
          25.1371666666667,
          0.181708333333333,
          1.36068055555556,
          4.3880625,
          2.14480555555556
         ],
         "yaxis": "y"
        }
       ],
       "layout": {
        "height": 250,
        "legend": {
         "tracegroupgap": 0
        },
        "template": {
         "data": {
          "bar": [
           {
            "error_x": {
             "color": "rgb(36,36,36)"
            },
            "error_y": {
             "color": "rgb(36,36,36)"
            },
            "marker": {
             "line": {
              "color": "white",
              "width": 0.5
             },
             "pattern": {
              "fillmode": "overlay",
              "size": 10,
              "solidity": 0.2
             }
            },
            "type": "bar"
           }
          ],
          "barpolar": [
           {
            "marker": {
             "line": {
              "color": "white",
              "width": 0.5
             },
             "pattern": {
              "fillmode": "overlay",
              "size": 10,
              "solidity": 0.2
             }
            },
            "type": "barpolar"
           }
          ],
          "carpet": [
           {
            "aaxis": {
             "endlinecolor": "rgb(36,36,36)",
             "gridcolor": "white",
             "linecolor": "white",
             "minorgridcolor": "white",
             "startlinecolor": "rgb(36,36,36)"
            },
            "baxis": {
             "endlinecolor": "rgb(36,36,36)",
             "gridcolor": "white",
             "linecolor": "white",
             "minorgridcolor": "white",
             "startlinecolor": "rgb(36,36,36)"
            },
            "type": "carpet"
           }
          ],
          "choropleth": [
           {
            "colorbar": {
             "outlinewidth": 1,
             "tickcolor": "rgb(36,36,36)",
             "ticks": "outside"
            },
            "type": "choropleth"
           }
          ],
          "contour": [
           {
            "colorbar": {
             "outlinewidth": 1,
             "tickcolor": "rgb(36,36,36)",
             "ticks": "outside"
            },
            "colorscale": [
             [
              0,
              "#440154"
             ],
             [
              0.1111111111111111,
              "#482878"
             ],
             [
              0.2222222222222222,
              "#3e4989"
             ],
             [
              0.3333333333333333,
              "#31688e"
             ],
             [
              0.4444444444444444,
              "#26828e"
             ],
             [
              0.5555555555555556,
              "#1f9e89"
             ],
             [
              0.6666666666666666,
              "#35b779"
             ],
             [
              0.7777777777777778,
              "#6ece58"
             ],
             [
              0.8888888888888888,
              "#b5de2b"
             ],
             [
              1,
              "#fde725"
             ]
            ],
            "type": "contour"
           }
          ],
          "contourcarpet": [
           {
            "colorbar": {
             "outlinewidth": 1,
             "tickcolor": "rgb(36,36,36)",
             "ticks": "outside"
            },
            "type": "contourcarpet"
           }
          ],
          "heatmap": [
           {
            "colorbar": {
             "outlinewidth": 1,
             "tickcolor": "rgb(36,36,36)",
             "ticks": "outside"
            },
            "colorscale": [
             [
              0,
              "#440154"
             ],
             [
              0.1111111111111111,
              "#482878"
             ],
             [
              0.2222222222222222,
              "#3e4989"
             ],
             [
              0.3333333333333333,
              "#31688e"
             ],
             [
              0.4444444444444444,
              "#26828e"
             ],
             [
              0.5555555555555556,
              "#1f9e89"
             ],
             [
              0.6666666666666666,
              "#35b779"
             ],
             [
              0.7777777777777778,
              "#6ece58"
             ],
             [
              0.8888888888888888,
              "#b5de2b"
             ],
             [
              1,
              "#fde725"
             ]
            ],
            "type": "heatmap"
           }
          ],
          "heatmapgl": [
           {
            "colorbar": {
             "outlinewidth": 1,
             "tickcolor": "rgb(36,36,36)",
             "ticks": "outside"
            },
            "colorscale": [
             [
              0,
              "#440154"
             ],
             [
              0.1111111111111111,
              "#482878"
             ],
             [
              0.2222222222222222,
              "#3e4989"
             ],
             [
              0.3333333333333333,
              "#31688e"
             ],
             [
              0.4444444444444444,
              "#26828e"
             ],
             [
              0.5555555555555556,
              "#1f9e89"
             ],
             [
              0.6666666666666666,
              "#35b779"
             ],
             [
              0.7777777777777778,
              "#6ece58"
             ],
             [
              0.8888888888888888,
              "#b5de2b"
             ],
             [
              1,
              "#fde725"
             ]
            ],
            "type": "heatmapgl"
           }
          ],
          "histogram": [
           {
            "marker": {
             "line": {
              "color": "white",
              "width": 0.6
             }
            },
            "type": "histogram"
           }
          ],
          "histogram2d": [
           {
            "colorbar": {
             "outlinewidth": 1,
             "tickcolor": "rgb(36,36,36)",
             "ticks": "outside"
            },
            "colorscale": [
             [
              0,
              "#440154"
             ],
             [
              0.1111111111111111,
              "#482878"
             ],
             [
              0.2222222222222222,
              "#3e4989"
             ],
             [
              0.3333333333333333,
              "#31688e"
             ],
             [
              0.4444444444444444,
              "#26828e"
             ],
             [
              0.5555555555555556,
              "#1f9e89"
             ],
             [
              0.6666666666666666,
              "#35b779"
             ],
             [
              0.7777777777777778,
              "#6ece58"
             ],
             [
              0.8888888888888888,
              "#b5de2b"
             ],
             [
              1,
              "#fde725"
             ]
            ],
            "type": "histogram2d"
           }
          ],
          "histogram2dcontour": [
           {
            "colorbar": {
             "outlinewidth": 1,
             "tickcolor": "rgb(36,36,36)",
             "ticks": "outside"
            },
            "colorscale": [
             [
              0,
              "#440154"
             ],
             [
              0.1111111111111111,
              "#482878"
             ],
             [
              0.2222222222222222,
              "#3e4989"
             ],
             [
              0.3333333333333333,
              "#31688e"
             ],
             [
              0.4444444444444444,
              "#26828e"
             ],
             [
              0.5555555555555556,
              "#1f9e89"
             ],
             [
              0.6666666666666666,
              "#35b779"
             ],
             [
              0.7777777777777778,
              "#6ece58"
             ],
             [
              0.8888888888888888,
              "#b5de2b"
             ],
             [
              1,
              "#fde725"
             ]
            ],
            "type": "histogram2dcontour"
           }
          ],
          "mesh3d": [
           {
            "colorbar": {
             "outlinewidth": 1,
             "tickcolor": "rgb(36,36,36)",
             "ticks": "outside"
            },
            "type": "mesh3d"
           }
          ],
          "parcoords": [
           {
            "line": {
             "colorbar": {
              "outlinewidth": 1,
              "tickcolor": "rgb(36,36,36)",
              "ticks": "outside"
             }
            },
            "type": "parcoords"
           }
          ],
          "pie": [
           {
            "automargin": true,
            "type": "pie"
           }
          ],
          "scatter": [
           {
            "marker": {
             "colorbar": {
              "outlinewidth": 1,
              "tickcolor": "rgb(36,36,36)",
              "ticks": "outside"
             }
            },
            "type": "scatter"
           }
          ],
          "scatter3d": [
           {
            "line": {
             "colorbar": {
              "outlinewidth": 1,
              "tickcolor": "rgb(36,36,36)",
              "ticks": "outside"
             }
            },
            "marker": {
             "colorbar": {
              "outlinewidth": 1,
              "tickcolor": "rgb(36,36,36)",
              "ticks": "outside"
             }
            },
            "type": "scatter3d"
           }
          ],
          "scattercarpet": [
           {
            "marker": {
             "colorbar": {
              "outlinewidth": 1,
              "tickcolor": "rgb(36,36,36)",
              "ticks": "outside"
             }
            },
            "type": "scattercarpet"
           }
          ],
          "scattergeo": [
           {
            "marker": {
             "colorbar": {
              "outlinewidth": 1,
              "tickcolor": "rgb(36,36,36)",
              "ticks": "outside"
             }
            },
            "type": "scattergeo"
           }
          ],
          "scattergl": [
           {
            "marker": {
             "colorbar": {
              "outlinewidth": 1,
              "tickcolor": "rgb(36,36,36)",
              "ticks": "outside"
             }
            },
            "type": "scattergl"
           }
          ],
          "scattermapbox": [
           {
            "marker": {
             "colorbar": {
              "outlinewidth": 1,
              "tickcolor": "rgb(36,36,36)",
              "ticks": "outside"
             }
            },
            "type": "scattermapbox"
           }
          ],
          "scatterpolar": [
           {
            "marker": {
             "colorbar": {
              "outlinewidth": 1,
              "tickcolor": "rgb(36,36,36)",
              "ticks": "outside"
             }
            },
            "type": "scatterpolar"
           }
          ],
          "scatterpolargl": [
           {
            "marker": {
             "colorbar": {
              "outlinewidth": 1,
              "tickcolor": "rgb(36,36,36)",
              "ticks": "outside"
             }
            },
            "type": "scatterpolargl"
           }
          ],
          "scatterternary": [
           {
            "marker": {
             "colorbar": {
              "outlinewidth": 1,
              "tickcolor": "rgb(36,36,36)",
              "ticks": "outside"
             }
            },
            "type": "scatterternary"
           }
          ],
          "surface": [
           {
            "colorbar": {
             "outlinewidth": 1,
             "tickcolor": "rgb(36,36,36)",
             "ticks": "outside"
            },
            "colorscale": [
             [
              0,
              "#440154"
             ],
             [
              0.1111111111111111,
              "#482878"
             ],
             [
              0.2222222222222222,
              "#3e4989"
             ],
             [
              0.3333333333333333,
              "#31688e"
             ],
             [
              0.4444444444444444,
              "#26828e"
             ],
             [
              0.5555555555555556,
              "#1f9e89"
             ],
             [
              0.6666666666666666,
              "#35b779"
             ],
             [
              0.7777777777777778,
              "#6ece58"
             ],
             [
              0.8888888888888888,
              "#b5de2b"
             ],
             [
              1,
              "#fde725"
             ]
            ],
            "type": "surface"
           }
          ],
          "table": [
           {
            "cells": {
             "fill": {
              "color": "rgb(237,237,237)"
             },
             "line": {
              "color": "white"
             }
            },
            "header": {
             "fill": {
              "color": "rgb(217,217,217)"
             },
             "line": {
              "color": "white"
             }
            },
            "type": "table"
           }
          ]
         },
         "layout": {
          "annotationdefaults": {
           "arrowhead": 0,
           "arrowwidth": 1
          },
          "autosize": true,
          "autotypenumbers": "strict",
          "coloraxis": {
           "colorbar": {
            "outlinewidth": 1,
            "tickcolor": "rgb(36,36,36)",
            "ticks": "outside"
           }
          },
          "colorscale": {
           "diverging": [
            [
             0,
             "rgb(103,0,31)"
            ],
            [
             0.1,
             "rgb(178,24,43)"
            ],
            [
             0.2,
             "rgb(214,96,77)"
            ],
            [
             0.3,
             "rgb(244,165,130)"
            ],
            [
             0.4,
             "rgb(253,219,199)"
            ],
            [
             0.5,
             "rgb(247,247,247)"
            ],
            [
             0.6,
             "rgb(209,229,240)"
            ],
            [
             0.7,
             "rgb(146,197,222)"
            ],
            [
             0.8,
             "rgb(67,147,195)"
            ],
            [
             0.9,
             "rgb(33,102,172)"
            ],
            [
             1,
             "rgb(5,48,97)"
            ]
           ],
           "sequential": [
            [
             0,
             "#440154"
            ],
            [
             0.1111111111111111,
             "#482878"
            ],
            [
             0.2222222222222222,
             "#3e4989"
            ],
            [
             0.3333333333333333,
             "#31688e"
            ],
            [
             0.4444444444444444,
             "#26828e"
            ],
            [
             0.5555555555555556,
             "#1f9e89"
            ],
            [
             0.6666666666666666,
             "#35b779"
            ],
            [
             0.7777777777777778,
             "#6ece58"
            ],
            [
             0.8888888888888888,
             "#b5de2b"
            ],
            [
             1,
             "#fde725"
            ]
           ],
           "sequentialminus": [
            [
             0,
             "#440154"
            ],
            [
             0.1111111111111111,
             "#482878"
            ],
            [
             0.2222222222222222,
             "#3e4989"
            ],
            [
             0.3333333333333333,
             "#31688e"
            ],
            [
             0.4444444444444444,
             "#26828e"
            ],
            [
             0.5555555555555556,
             "#1f9e89"
            ],
            [
             0.6666666666666666,
             "#35b779"
            ],
            [
             0.7777777777777778,
             "#6ece58"
            ],
            [
             0.8888888888888888,
             "#b5de2b"
            ],
            [
             1,
             "#fde725"
            ]
           ]
          },
          "colorway": [
           "#1F77B4",
           "#FF7F0E",
           "#2CA02C",
           "#D62728",
           "#9467BD",
           "#8C564B",
           "#E377C2",
           "#7F7F7F",
           "#BCBD22",
           "#17BECF"
          ],
          "font": {
           "color": "rgb(36,36,36)"
          },
          "geo": {
           "bgcolor": "white",
           "lakecolor": "white",
           "landcolor": "white",
           "showlakes": true,
           "showland": true,
           "subunitcolor": "white"
          },
          "height": 250,
          "hoverlabel": {
           "align": "left"
          },
          "hovermode": "closest",
          "mapbox": {
           "style": "light"
          },
          "margin": {
           "b": 10,
           "l": 10,
           "r": 10,
           "t": 10
          },
          "paper_bgcolor": "white",
          "plot_bgcolor": "white",
          "polar": {
           "angularaxis": {
            "gridcolor": "rgb(232,232,232)",
            "linecolor": "rgb(36,36,36)",
            "showgrid": false,
            "showline": true,
            "ticks": "outside"
           },
           "bgcolor": "white",
           "radialaxis": {
            "gridcolor": "rgb(232,232,232)",
            "linecolor": "rgb(36,36,36)",
            "showgrid": false,
            "showline": true,
            "ticks": "outside"
           }
          },
          "scene": {
           "xaxis": {
            "backgroundcolor": "white",
            "gridcolor": "rgb(232,232,232)",
            "gridwidth": 2,
            "linecolor": "rgb(36,36,36)",
            "showbackground": true,
            "showgrid": false,
            "showline": true,
            "ticks": "outside",
            "zeroline": false,
            "zerolinecolor": "rgb(36,36,36)"
           },
           "yaxis": {
            "backgroundcolor": "white",
            "gridcolor": "rgb(232,232,232)",
            "gridwidth": 2,
            "linecolor": "rgb(36,36,36)",
            "showbackground": true,
            "showgrid": false,
            "showline": true,
            "ticks": "outside",
            "zeroline": false,
            "zerolinecolor": "rgb(36,36,36)"
           },
           "zaxis": {
            "backgroundcolor": "white",
            "gridcolor": "rgb(232,232,232)",
            "gridwidth": 2,
            "linecolor": "rgb(36,36,36)",
            "showbackground": true,
            "showgrid": false,
            "showline": true,
            "ticks": "outside",
            "zeroline": false,
            "zerolinecolor": "rgb(36,36,36)"
           }
          },
          "shapedefaults": {
           "fillcolor": "black",
           "line": {
            "width": 0
           },
           "opacity": 0.3
          },
          "ternary": {
           "aaxis": {
            "gridcolor": "rgb(232,232,232)",
            "linecolor": "rgb(36,36,36)",
            "showgrid": false,
            "showline": true,
            "ticks": "outside"
           },
           "baxis": {
            "gridcolor": "rgb(232,232,232)",
            "linecolor": "rgb(36,36,36)",
            "showgrid": false,
            "showline": true,
            "ticks": "outside"
           },
           "bgcolor": "white",
           "caxis": {
            "gridcolor": "rgb(232,232,232)",
            "linecolor": "rgb(36,36,36)",
            "showgrid": false,
            "showline": true,
            "ticks": "outside"
           }
          },
          "title": {
           "x": 0.5,
           "xanchor": "center"
          },
          "width": 350,
          "xaxis": {
           "automargin": true,
           "gridcolor": "rgb(232,232,232)",
           "linecolor": "rgb(36,36,36)",
           "showgrid": true,
           "showline": true,
           "ticks": "outside",
           "title": {
            "standoff": 15
           },
           "zeroline": false,
           "zerolinecolor": "rgb(36,36,36)"
          },
          "yaxis": {
           "automargin": true,
           "gridcolor": "rgb(232,232,232)",
           "linecolor": "rgb(36,36,36)",
           "showgrid": true,
           "showline": true,
           "ticks": "outside",
           "title": {
            "standoff": 15
           },
           "zeroline": false,
           "zerolinecolor": "rgb(36,36,36)"
          }
         }
        },
        "width": 450,
        "xaxis": {
         "anchor": "y",
         "domain": [
          0,
          1
         ],
         "range": [
          0,
          20
         ],
         "title": {
          "text": "pm25aqs"
         },
         "type": "linear"
        },
        "yaxis": {
         "anchor": "x",
         "domain": [
          0,
          1
         ],
         "range": [
          -5,
          45
         ],
         "title": {
          "text": "pm25pa"
         },
         "type": "linear"
        }
       }
      },
      "image/png": "[encoded data removed]",
      "image/svg+xml": [
       "<svg class=\"main-svg\" xmlns=\"http://www.w3.org/2000/svg\" xmlns:xlink=\"http://www.w3.org/1999/xlink\" width=\"450\" height=\"250\" style=\"\" viewBox=\"0 0 450 250\"><rect x=\"0\" y=\"0\" width=\"450\" height=\"250\" style=\"fill: rgb(255, 255, 255); fill-opacity: 1;\"/><defs id=\"defs-6be111\"><g class=\"clips\"><clipPath id=\"clip6be111xyplot\" class=\"plotclip\"><rect width=\"376\" height=\"181\"/></clipPath><clipPath class=\"axesclip\" id=\"clip6be111x\"><rect x=\"57\" y=\"0\" width=\"376\" height=\"250\"/></clipPath><clipPath class=\"axesclip\" id=\"clip6be111y\"><rect x=\"0\" y=\"10\" width=\"450\" height=\"181\"/></clipPath><clipPath class=\"axesclip\" id=\"clip6be111xy\"><rect x=\"57\" y=\"10\" width=\"376\" height=\"181\"/></clipPath></g><g class=\"gradients\"/><g class=\"patterns\"/></defs><g class=\"bglayer\"/><g class=\"layer-below\"><g class=\"imagelayer\"/><g class=\"shapelayer\"/></g><g class=\"cartesianlayer\"><g class=\"subplot xy\"><g class=\"layer-subplot\"><g class=\"shapelayer\"/><g class=\"imagelayer\"/></g><g class=\"gridlayer\"><g class=\"x\"><path class=\"xgrid crisp\" transform=\"translate(151,0)\" d=\"M0,10v181\" style=\"stroke: rgb(232, 232, 232); stroke-opacity: 1; stroke-width: 1px;\"/><path class=\"xgrid crisp\" transform=\"translate(245,0)\" d=\"M0,10v181\" style=\"stroke: rgb(232, 232, 232); stroke-opacity: 1; stroke-width: 1px;\"/><path class=\"xgrid crisp\" transform=\"translate(339,0)\" d=\"M0,10v181\" style=\"stroke: rgb(232, 232, 232); stroke-opacity: 1; stroke-width: 1px;\"/></g><g class=\"y\"><path class=\"ygrid crisp\" transform=\"translate(0,172.9)\" d=\"M57,0h376\" style=\"stroke: rgb(232, 232, 232); stroke-opacity: 1; stroke-width: 1px;\"/><path class=\"ygrid crisp\" transform=\"translate(0,136.7)\" d=\"M57,0h376\" style=\"stroke: rgb(232, 232, 232); stroke-opacity: 1; stroke-width: 1px;\"/><path class=\"ygrid crisp\" transform=\"translate(0,100.5)\" d=\"M57,0h376\" style=\"stroke: rgb(232, 232, 232); stroke-opacity: 1; stroke-width: 1px;\"/><path class=\"ygrid crisp\" transform=\"translate(0,64.3)\" d=\"M57,0h376\" style=\"stroke: rgb(232, 232, 232); stroke-opacity: 1; stroke-width: 1px;\"/><path class=\"ygrid crisp\" transform=\"translate(0,28.1)\" d=\"M57,0h376\" style=\"stroke: rgb(232, 232, 232); stroke-opacity: 1; stroke-width: 1px;\"/></g></g><g class=\"zerolinelayer\"/><path class=\"xlines-below\"/><path class=\"ylines-below\"/><g class=\"overlines-below\"/><g class=\"xaxislayer-below\"/><g class=\"yaxislayer-below\"/><g class=\"overaxes-below\"/><g class=\"plot\" transform=\"translate(57,10)\" clip-path=\"url(#clip6be111xyplot)\"><g class=\"scatterlayer mlayer\"><g class=\"trace scatter traced2740c\" style=\"stroke-miterlimit: 2; opacity: 1;\"><g class=\"fills\"/><g class=\"errorbars\"/><g class=\"lines\"/><g class=\"points\"><path class=\"point\" transform=\"translate(125.96,131.71)\" d=\"M3,0A3,3 0 1,1 0,-3A3,3 0 0,1 3,0Z\" style=\"opacity: 1; stroke-width: 0px; fill: rgb(31, 119, 180); fill-opacity: 1;\"/><path class=\"point\" transform=\"translate(71.44,150.25)\" d=\"M3,0A3,3 0 1,1 0,-3A3,3 0 0,1 3,0Z\" style=\"opacity: 1; stroke-width: 0px; fill: rgb(31, 119, 180); fill-opacity: 1;\"/><path class=\"point\" transform=\"translate(75.2,149.15)\" d=\"M3,0A3,3 0 1,1 0,-3A3,3 0 0,1 3,0Z\" style=\"opacity: 1; stroke-width: 0px; fill: rgb(31, 119, 180); fill-opacity: 1;\"/><path class=\"point\" transform=\"translate(88.36,147.08)\" d=\"M3,0A3,3 0 1,1 0,-3A3,3 0 0,1 3,0Z\" style=\"opacity: 1; stroke-width: 0px; fill: rgb(31, 119, 180); fill-opacity: 1;\"/><path class=\"point\" transform=\"translate(60.16,151.35)\" d=\"M3,0A3,3 0 1,1 0,-3A3,3 0 0,1 3,0Z\" style=\"opacity: 1; stroke-width: 0px; fill: rgb(31, 119, 180); fill-opacity: 1;\"/><path class=\"point\" transform=\"translate(78.96,151.06)\" d=\"M3,0A3,3 0 1,1 0,-3A3,3 0 0,1 3,0Z\" style=\"opacity: 1; stroke-width: 0px; fill: rgb(31, 119, 180); fill-opacity: 1;\"/><path class=\"point\" transform=\"translate(75.2,144.58)\" d=\"M3,0A3,3 0 1,1 0,-3A3,3 0 0,1 3,0Z\" style=\"opacity: 1; stroke-width: 0px; fill: rgb(31, 119, 180); fill-opacity: 1;\"/><path class=\"point\" transform=\"translate(330.88,32.85)\" d=\"M3,0A3,3 0 1,1 0,-3A3,3 0 0,1 3,0Z\" style=\"opacity: 1; stroke-width: 0px; fill: rgb(31, 119, 180); fill-opacity: 1;\"/><path class=\"point\" transform=\"translate(84.6,145.42)\" d=\"M3,0A3,3 0 1,1 0,-3A3,3 0 0,1 3,0Z\" style=\"opacity: 1; stroke-width: 0px; fill: rgb(31, 119, 180); fill-opacity: 1;\"/><path class=\"point\" transform=\"translate(50.76,153.14)\" d=\"M3,0A3,3 0 1,1 0,-3A3,3 0 0,1 3,0Z\" style=\"opacity: 1; stroke-width: 0px; fill: rgb(31, 119, 180); fill-opacity: 1;\"/><path class=\"point\" transform=\"translate(54.52,159.31)\" d=\"M3,0A3,3 0 1,1 0,-3A3,3 0 0,1 3,0Z\" style=\"opacity: 1; stroke-width: 0px; fill: rgb(31, 119, 180); fill-opacity: 1;\"/><path class=\"point\" transform=\"translate(235,83.75)\" d=\"M3,0A3,3 0 1,1 0,-3A3,3 0 0,1 3,0Z\" style=\"opacity: 1; stroke-width: 0px; fill: rgb(31, 119, 180); fill-opacity: 1;\"/><path class=\"point\" transform=\"translate(28.2,159.28)\" d=\"M3,0A3,3 0 1,1 0,-3A3,3 0 0,1 3,0Z\" style=\"opacity: 1; stroke-width: 0px; fill: rgb(31, 119, 180); fill-opacity: 1;\"/><path class=\"point\" transform=\"translate(82.72,152.3)\" d=\"M3,0A3,3 0 1,1 0,-3A3,3 0 0,1 3,0Z\" style=\"opacity: 1; stroke-width: 0px; fill: rgb(31, 119, 180); fill-opacity: 1;\"/><path class=\"point\" transform=\"translate(47,158.43)\" d=\"M3,0A3,3 0 1,1 0,-3A3,3 0 0,1 3,0Z\" style=\"opacity: 1; stroke-width: 0px; fill: rgb(31, 119, 180); fill-opacity: 1;\"/><path class=\"point\" transform=\"translate(54.52,154.92)\" d=\"M3,0A3,3 0 1,1 0,-3A3,3 0 0,1 3,0Z\" style=\"opacity: 1; stroke-width: 0px; fill: rgb(31, 119, 180); fill-opacity: 1;\"/><path class=\"point\" transform=\"translate(60.16,153.43)\" d=\"M3,0A3,3 0 1,1 0,-3A3,3 0 0,1 3,0Z\" style=\"opacity: 1; stroke-width: 0px; fill: rgb(31, 119, 180); fill-opacity: 1;\"/><path class=\"point\" transform=\"translate(60.16,153.74)\" d=\"M3,0A3,3 0 1,1 0,-3A3,3 0 0,1 3,0Z\" style=\"opacity: 1; stroke-width: 0px; fill: rgb(31, 119, 180); fill-opacity: 1;\"/><path class=\"point\" transform=\"translate(58.28,152.82)\" d=\"M3,0A3,3 0 1,1 0,-3A3,3 0 0,1 3,0Z\" style=\"opacity: 1; stroke-width: 0px; fill: rgb(31, 119, 180); fill-opacity: 1;\"/><path class=\"point\" transform=\"translate(65.8,152.68)\" d=\"M3,0A3,3 0 1,1 0,-3A3,3 0 0,1 3,0Z\" style=\"opacity: 1; stroke-width: 0px; fill: rgb(31, 119, 180); fill-opacity: 1;\"/><path class=\"point\" transform=\"translate(60.16,153.14)\" d=\"M3,0A3,3 0 1,1 0,-3A3,3 0 0,1 3,0Z\" style=\"opacity: 1; stroke-width: 0px; fill: rgb(31, 119, 180); fill-opacity: 1;\"/><path class=\"point\" transform=\"translate(37.6,161.54)\" d=\"M3,0A3,3 0 1,1 0,-3A3,3 0 0,1 3,0Z\" style=\"opacity: 1; stroke-width: 0px; fill: rgb(31, 119, 180); fill-opacity: 1;\"/><path class=\"point\" transform=\"translate(43.24,159.22)\" d=\"M3,0A3,3 0 1,1 0,-3A3,3 0 0,1 3,0Z\" style=\"opacity: 1; stroke-width: 0px; fill: rgb(31, 119, 180); fill-opacity: 1;\"/><path class=\"point\" transform=\"translate(73.32,153.64)\" d=\"M3,0A3,3 0 1,1 0,-3A3,3 0 0,1 3,0Z\" style=\"opacity: 1; stroke-width: 0px; fill: rgb(31, 119, 180); fill-opacity: 1;\"/><path class=\"point\" transform=\"translate(69.56,145.33)\" d=\"M3,0A3,3 0 1,1 0,-3A3,3 0 0,1 3,0Z\" style=\"opacity: 1; stroke-width: 0px; fill: rgb(31, 119, 180); fill-opacity: 1;\"/><path class=\"point\" transform=\"translate(90.24,136.47)\" d=\"M3,0A3,3 0 1,1 0,-3A3,3 0 0,1 3,0Z\" style=\"opacity: 1; stroke-width: 0px; fill: rgb(31, 119, 180); fill-opacity: 1;\"/><path class=\"point\" transform=\"translate(80.84,139.06)\" d=\"M3,0A3,3 0 1,1 0,-3A3,3 0 0,1 3,0Z\" style=\"opacity: 1; stroke-width: 0px; fill: rgb(31, 119, 180); fill-opacity: 1;\"/><path class=\"point\" transform=\"translate(54.52,148.45)\" d=\"M3,0A3,3 0 1,1 0,-3A3,3 0 0,1 3,0Z\" style=\"opacity: 1; stroke-width: 0px; fill: rgb(31, 119, 180); fill-opacity: 1;\"/><path class=\"point\" transform=\"translate(65.8,149.81)\" d=\"M3,0A3,3 0 1,1 0,-3A3,3 0 0,1 3,0Z\" style=\"opacity: 1; stroke-width: 0px; fill: rgb(31, 119, 180); fill-opacity: 1;\"/><path class=\"point\" transform=\"translate(60.16,153.4)\" d=\"M3,0A3,3 0 1,1 0,-3A3,3 0 0,1 3,0Z\" style=\"opacity: 1; stroke-width: 0px; fill: rgb(31, 119, 180); fill-opacity: 1;\"/><path class=\"point\" transform=\"translate(75.2,143.1)\" d=\"M3,0A3,3 0 1,1 0,-3A3,3 0 0,1 3,0Z\" style=\"opacity: 1; stroke-width: 0px; fill: rgb(31, 119, 180); fill-opacity: 1;\"/><path class=\"point\" transform=\"translate(84.6,139.04)\" d=\"M3,0A3,3 0 1,1 0,-3A3,3 0 0,1 3,0Z\" style=\"opacity: 1; stroke-width: 0px; fill: rgb(31, 119, 180); fill-opacity: 1;\"/><path class=\"point\" transform=\"translate(141,113.13)\" d=\"M3,0A3,3 0 1,1 0,-3A3,3 0 0,1 3,0Z\" style=\"opacity: 1; stroke-width: 0px; fill: rgb(31, 119, 180); fill-opacity: 1;\"/><path class=\"point\" transform=\"translate(304.56,23.26)\" d=\"M3,0A3,3 0 1,1 0,-3A3,3 0 0,1 3,0Z\" style=\"opacity: 1; stroke-width: 0px; fill: rgb(31, 119, 180); fill-opacity: 1;\"/><path class=\"point\" transform=\"translate(45.12,155.16)\" d=\"M3,0A3,3 0 1,1 0,-3A3,3 0 0,1 3,0Z\" style=\"opacity: 1; stroke-width: 0px; fill: rgb(31, 119, 180); fill-opacity: 1;\"/><path class=\"point\" transform=\"translate(37.6,158.54)\" d=\"M3,0A3,3 0 1,1 0,-3A3,3 0 0,1 3,0Z\" style=\"opacity: 1; stroke-width: 0px; fill: rgb(31, 119, 180); fill-opacity: 1;\"/><path class=\"point\" transform=\"translate(52.64,154)\" d=\"M3,0A3,3 0 1,1 0,-3A3,3 0 0,1 3,0Z\" style=\"opacity: 1; stroke-width: 0px; fill: rgb(31, 119, 180); fill-opacity: 1;\"/><path class=\"point\" transform=\"translate(75.2,152.91)\" d=\"M3,0A3,3 0 1,1 0,-3A3,3 0 0,1 3,0Z\" style=\"opacity: 1; stroke-width: 0px; fill: rgb(31, 119, 180); fill-opacity: 1;\"/><path class=\"point\" transform=\"translate(107.16,117.59)\" d=\"M3,0A3,3 0 1,1 0,-3A3,3 0 0,1 3,0Z\" style=\"opacity: 1; stroke-width: 0px; fill: rgb(31, 119, 180); fill-opacity: 1;\"/><path class=\"point\" transform=\"translate(1111.08,-321.29)\" d=\"M3,0A3,3 0 1,1 0,-3A3,3 0 0,1 3,0Z\" style=\"opacity: 1; stroke-width: 0px; fill: rgb(31, 119, 180); fill-opacity: 1;\"/><path class=\"point\" transform=\"translate(742.6,-160.3)\" d=\"M3,0A3,3 0 1,1 0,-3A3,3 0 0,1 3,0Z\" style=\"opacity: 1; stroke-width: 0px; fill: rgb(31, 119, 180); fill-opacity: 1;\"/><path class=\"point\" transform=\"translate(990.76,-250.63)\" d=\"M3,0A3,3 0 1,1 0,-3A3,3 0 0,1 3,0Z\" style=\"opacity: 1; stroke-width: 0px; fill: rgb(31, 119, 180); fill-opacity: 1;\"/><path class=\"point\" transform=\"translate(1128,-284.04)\" d=\"M3,0A3,3 0 1,1 0,-3A3,3 0 0,1 3,0Z\" style=\"opacity: 1; stroke-width: 0px; fill: rgb(31, 119, 180); fill-opacity: 1;\"/><path class=\"point\" transform=\"translate(156.04,97.41)\" d=\"M3,0A3,3 0 1,1 0,-3A3,3 0 0,1 3,0Z\" style=\"opacity: 1; stroke-width: 0px; fill: rgb(31, 119, 180); fill-opacity: 1;\"/><path class=\"point\" transform=\"translate(90.24,134.29)\" d=\"M3,0A3,3 0 1,1 0,-3A3,3 0 0,1 3,0Z\" style=\"opacity: 1; stroke-width: 0px; fill: rgb(31, 119, 180); fill-opacity: 1;\"/><path class=\"point\" transform=\"translate(84.6,137.62)\" d=\"M3,0A3,3 0 1,1 0,-3A3,3 0 0,1 3,0Z\" style=\"opacity: 1; stroke-width: 0px; fill: rgb(31, 119, 180); fill-opacity: 1;\"/><path class=\"point\" transform=\"translate(107.16,134.53)\" d=\"M3,0A3,3 0 1,1 0,-3A3,3 0 0,1 3,0Z\" style=\"opacity: 1; stroke-width: 0px; fill: rgb(31, 119, 180); fill-opacity: 1;\"/><path class=\"point\" transform=\"translate(41.36,154.31)\" d=\"M3,0A3,3 0 1,1 0,-3A3,3 0 0,1 3,0Z\" style=\"opacity: 1; stroke-width: 0px; fill: rgb(31, 119, 180); fill-opacity: 1;\"/><path class=\"point\" transform=\"translate(52.64,151.12)\" d=\"M3,0A3,3 0 1,1 0,-3A3,3 0 0,1 3,0Z\" style=\"opacity: 1; stroke-width: 0px; fill: rgb(31, 119, 180); fill-opacity: 1;\"/><path class=\"point\" transform=\"translate(43.24,150.28)\" d=\"M3,0A3,3 0 1,1 0,-3A3,3 0 0,1 3,0Z\" style=\"opacity: 1; stroke-width: 0px; fill: rgb(31, 119, 180); fill-opacity: 1;\"/><path class=\"point\" transform=\"translate(15.04,161.71)\" d=\"M3,0A3,3 0 1,1 0,-3A3,3 0 0,1 3,0Z\" style=\"opacity: 1; stroke-width: 0px; fill: rgb(31, 119, 180); fill-opacity: 1;\"/><path class=\"point\" transform=\"translate(30.08,158.93)\" d=\"M3,0A3,3 0 1,1 0,-3A3,3 0 0,1 3,0Z\" style=\"opacity: 1; stroke-width: 0px; fill: rgb(31, 119, 180); fill-opacity: 1;\"/><path class=\"point\" transform=\"translate(30.08,158.54)\" d=\"M3,0A3,3 0 1,1 0,-3A3,3 0 0,1 3,0Z\" style=\"opacity: 1; stroke-width: 0px; fill: rgb(31, 119, 180); fill-opacity: 1;\"/><path class=\"point\" transform=\"translate(50.76,154.46)\" d=\"M3,0A3,3 0 1,1 0,-3A3,3 0 0,1 3,0Z\" style=\"opacity: 1; stroke-width: 0px; fill: rgb(31, 119, 180); fill-opacity: 1;\"/><path class=\"point\" transform=\"translate(78.96,148.36)\" d=\"M3,0A3,3 0 1,1 0,-3A3,3 0 0,1 3,0Z\" style=\"opacity: 1; stroke-width: 0px; fill: rgb(31, 119, 180); fill-opacity: 1;\"/><path class=\"point\" transform=\"translate(67.68,146.9)\" d=\"M3,0A3,3 0 1,1 0,-3A3,3 0 0,1 3,0Z\" style=\"opacity: 1; stroke-width: 0px; fill: rgb(31, 119, 180); fill-opacity: 1;\"/><path class=\"point\" transform=\"translate(118.44,130.98)\" d=\"M3,0A3,3 0 1,1 0,-3A3,3 0 0,1 3,0Z\" style=\"opacity: 1; stroke-width: 0px; fill: rgb(31, 119, 180); fill-opacity: 1;\"/><path class=\"point\" transform=\"translate(142.88,120.07)\" d=\"M3,0A3,3 0 1,1 0,-3A3,3 0 0,1 3,0Z\" style=\"opacity: 1; stroke-width: 0px; fill: rgb(31, 119, 180); fill-opacity: 1;\"/><path class=\"point\" transform=\"translate(95.88,136.84)\" d=\"M3,0A3,3 0 1,1 0,-3A3,3 0 0,1 3,0Z\" style=\"opacity: 1; stroke-width: 0px; fill: rgb(31, 119, 180); fill-opacity: 1;\"/><path class=\"point\" transform=\"translate(69.56,150)\" d=\"M3,0A3,3 0 1,1 0,-3A3,3 0 0,1 3,0Z\" style=\"opacity: 1; stroke-width: 0px; fill: rgb(31, 119, 180); fill-opacity: 1;\"/><path class=\"point\" transform=\"translate(73.32,150.23)\" d=\"M3,0A3,3 0 1,1 0,-3A3,3 0 0,1 3,0Z\" style=\"opacity: 1; stroke-width: 0px; fill: rgb(31, 119, 180); fill-opacity: 1;\"/><path class=\"point\" transform=\"translate(69.56,147.3)\" d=\"M3,0A3,3 0 1,1 0,-3A3,3 0 0,1 3,0Z\" style=\"opacity: 1; stroke-width: 0px; fill: rgb(31, 119, 180); fill-opacity: 1;\"/><path class=\"point\" transform=\"translate(56.4,151.49)\" d=\"M3,0A3,3 0 1,1 0,-3A3,3 0 0,1 3,0Z\" style=\"opacity: 1; stroke-width: 0px; fill: rgb(31, 119, 180); fill-opacity: 1;\"/><path class=\"point\" transform=\"translate(78.96,148.98)\" d=\"M3,0A3,3 0 1,1 0,-3A3,3 0 0,1 3,0Z\" style=\"opacity: 1; stroke-width: 0px; fill: rgb(31, 119, 180); fill-opacity: 1;\"/><path class=\"point\" transform=\"translate(103.4,138.79)\" d=\"M3,0A3,3 0 1,1 0,-3A3,3 0 0,1 3,0Z\" style=\"opacity: 1; stroke-width: 0px; fill: rgb(31, 119, 180); fill-opacity: 1;\"/><path class=\"point\" transform=\"translate(221.84,84.61)\" d=\"M3,0A3,3 0 1,1 0,-3A3,3 0 0,1 3,0Z\" style=\"opacity: 1; stroke-width: 0px; fill: rgb(31, 119, 180); fill-opacity: 1;\"/><path class=\"point\" transform=\"translate(125.96,129.37)\" d=\"M3,0A3,3 0 1,1 0,-3A3,3 0 0,1 3,0Z\" style=\"opacity: 1; stroke-width: 0px; fill: rgb(31, 119, 180); fill-opacity: 1;\"/><path class=\"point\" transform=\"translate(94,148.08)\" d=\"M3,0A3,3 0 1,1 0,-3A3,3 0 0,1 3,0Z\" style=\"opacity: 1; stroke-width: 0px; fill: rgb(31, 119, 180); fill-opacity: 1;\"/><path class=\"point\" transform=\"translate(67.68,154.54)\" d=\"M3,0A3,3 0 1,1 0,-3A3,3 0 0,1 3,0Z\" style=\"opacity: 1; stroke-width: 0px; fill: rgb(31, 119, 180); fill-opacity: 1;\"/><path class=\"point\" transform=\"translate(56.4,154.84)\" d=\"M3,0A3,3 0 1,1 0,-3A3,3 0 0,1 3,0Z\" style=\"opacity: 1; stroke-width: 0px; fill: rgb(31, 119, 180); fill-opacity: 1;\"/><path class=\"point\" transform=\"translate(86.48,147.66)\" d=\"M3,0A3,3 0 1,1 0,-3A3,3 0 0,1 3,0Z\" style=\"opacity: 1; stroke-width: 0px; fill: rgb(31, 119, 180); fill-opacity: 1;\"/><path class=\"point\" transform=\"translate(122.2,134.56)\" d=\"M3,0A3,3 0 1,1 0,-3A3,3 0 0,1 3,0Z\" style=\"opacity: 1; stroke-width: 0px; fill: rgb(31, 119, 180); fill-opacity: 1;\"/><path class=\"point\" transform=\"translate(129.72,133.47)\" d=\"M3,0A3,3 0 1,1 0,-3A3,3 0 0,1 3,0Z\" style=\"opacity: 1; stroke-width: 0px; fill: rgb(31, 119, 180); fill-opacity: 1;\"/><path class=\"point\" transform=\"translate(75.2,151.25)\" d=\"M3,0A3,3 0 1,1 0,-3A3,3 0 0,1 3,0Z\" style=\"opacity: 1; stroke-width: 0px; fill: rgb(31, 119, 180); fill-opacity: 1;\"/><path class=\"point\" transform=\"translate(125.96,136.39)\" d=\"M3,0A3,3 0 1,1 0,-3A3,3 0 0,1 3,0Z\" style=\"opacity: 1; stroke-width: 0px; fill: rgb(31, 119, 180); fill-opacity: 1;\"/><path class=\"point\" transform=\"translate(78.96,143.79)\" d=\"M3,0A3,3 0 1,1 0,-3A3,3 0 0,1 3,0Z\" style=\"opacity: 1; stroke-width: 0px; fill: rgb(31, 119, 180); fill-opacity: 1;\"/><path class=\"point\" transform=\"translate(60.16,151.8)\" d=\"M3,0A3,3 0 1,1 0,-3A3,3 0 0,1 3,0Z\" style=\"opacity: 1; stroke-width: 0px; fill: rgb(31, 119, 180); fill-opacity: 1;\"/><path class=\"point\" transform=\"translate(84.6,153.33)\" d=\"M3,0A3,3 0 1,1 0,-3A3,3 0 0,1 3,0Z\" style=\"opacity: 1; stroke-width: 0px; fill: rgb(31, 119, 180); fill-opacity: 1;\"/><path class=\"point\" transform=\"translate(235,92.22)\" d=\"M3,0A3,3 0 1,1 0,-3A3,3 0 0,1 3,0Z\" style=\"opacity: 1; stroke-width: 0px; fill: rgb(31, 119, 180); fill-opacity: 1;\"/><path class=\"point\" transform=\"translate(293.28,46.16)\" d=\"M3,0A3,3 0 1,1 0,-3A3,3 0 0,1 3,0Z\" style=\"opacity: 1; stroke-width: 0px; fill: rgb(31, 119, 180); fill-opacity: 1;\"/><path class=\"point\" transform=\"translate(225.6,71.9)\" d=\"M3,0A3,3 0 1,1 0,-3A3,3 0 0,1 3,0Z\" style=\"opacity: 1; stroke-width: 0px; fill: rgb(31, 119, 180); fill-opacity: 1;\"/><path class=\"point\" transform=\"translate(103.4,137.47)\" d=\"M3,0A3,3 0 1,1 0,-3A3,3 0 0,1 3,0Z\" style=\"opacity: 1; stroke-width: 0px; fill: rgb(31, 119, 180); fill-opacity: 1;\"/><path class=\"point\" transform=\"translate(50.76,154.46)\" d=\"M3,0A3,3 0 1,1 0,-3A3,3 0 0,1 3,0Z\" style=\"opacity: 1; stroke-width: 0px; fill: rgb(31, 119, 180); fill-opacity: 1;\"/><path class=\"point\" transform=\"translate(30.08,153.82)\" d=\"M3,0A3,3 0 1,1 0,-3A3,3 0 0,1 3,0Z\" style=\"opacity: 1; stroke-width: 0px; fill: rgb(31, 119, 180); fill-opacity: 1;\"/><path class=\"point\" transform=\"translate(48.88,156.68)\" d=\"M3,0A3,3 0 1,1 0,-3A3,3 0 0,1 3,0Z\" style=\"opacity: 1; stroke-width: 0px; fill: rgb(31, 119, 180); fill-opacity: 1;\"/><path class=\"point\" transform=\"translate(13.16,162.24)\" d=\"M3,0A3,3 0 1,1 0,-3A3,3 0 0,1 3,0Z\" style=\"opacity: 1; stroke-width: 0px; fill: rgb(31, 119, 180); fill-opacity: 1;\"/><path class=\"point\" transform=\"translate(43.24,154.3)\" d=\"M3,0A3,3 0 1,1 0,-3A3,3 0 0,1 3,0Z\" style=\"opacity: 1; stroke-width: 0px; fill: rgb(31, 119, 180); fill-opacity: 1;\"/><path class=\"point\" transform=\"translate(86.48,147.52)\" d=\"M3,0A3,3 0 1,1 0,-3A3,3 0 0,1 3,0Z\" style=\"opacity: 1; stroke-width: 0px; fill: rgb(31, 119, 180); fill-opacity: 1;\"/><path class=\"point\" transform=\"translate(65.8,152.16)\" d=\"M3,0A3,3 0 1,1 0,-3A3,3 0 0,1 3,0Z\" style=\"opacity: 1; stroke-width: 0px; fill: rgb(31, 119, 180); fill-opacity: 1;\"/><path class=\"point\" transform=\"translate(22.56,157.97)\" d=\"M3,0A3,3 0 1,1 0,-3A3,3 0 0,1 3,0Z\" style=\"opacity: 1; stroke-width: 0px; fill: rgb(31, 119, 180); fill-opacity: 1;\"/><path class=\"point\" transform=\"translate(31.96,158.39)\" d=\"M3,0A3,3 0 1,1 0,-3A3,3 0 0,1 3,0Z\" style=\"opacity: 1; stroke-width: 0px; fill: rgb(31, 119, 180); fill-opacity: 1;\"/><path class=\"point\" transform=\"translate(86.48,147.02)\" d=\"M3,0A3,3 0 1,1 0,-3A3,3 0 0,1 3,0Z\" style=\"opacity: 1; stroke-width: 0px; fill: rgb(31, 119, 180); fill-opacity: 1;\"/><path class=\"point\" transform=\"translate(90.24,148.28)\" d=\"M3,0A3,3 0 1,1 0,-3A3,3 0 0,1 3,0Z\" style=\"opacity: 1; stroke-width: 0px; fill: rgb(31, 119, 180); fill-opacity: 1;\"/><path class=\"point\" transform=\"translate(80.84,149.01)\" d=\"M3,0A3,3 0 1,1 0,-3A3,3 0 0,1 3,0Z\" style=\"opacity: 1; stroke-width: 0px; fill: rgb(31, 119, 180); fill-opacity: 1;\"/><path class=\"point\" transform=\"translate(45.12,155.14)\" d=\"M3,0A3,3 0 1,1 0,-3A3,3 0 0,1 3,0Z\" style=\"opacity: 1; stroke-width: 0px; fill: rgb(31, 119, 180); fill-opacity: 1;\"/><path class=\"point\" transform=\"translate(82.72,152.91)\" d=\"M3,0A3,3 0 1,1 0,-3A3,3 0 0,1 3,0Z\" style=\"opacity: 1; stroke-width: 0px; fill: rgb(31, 119, 180); fill-opacity: 1;\"/><path class=\"point\" transform=\"translate(75.2,150.25)\" d=\"M3,0A3,3 0 1,1 0,-3A3,3 0 0,1 3,0Z\" style=\"opacity: 1; stroke-width: 0px; fill: rgb(31, 119, 180); fill-opacity: 1;\"/><path class=\"point\" transform=\"translate(82.72,149.15)\" d=\"M3,0A3,3 0 1,1 0,-3A3,3 0 0,1 3,0Z\" style=\"opacity: 1; stroke-width: 0px; fill: rgb(31, 119, 180); fill-opacity: 1;\"/><path class=\"point\" transform=\"translate(48.88,153.14)\" d=\"M3,0A3,3 0 1,1 0,-3A3,3 0 0,1 3,0Z\" style=\"opacity: 1; stroke-width: 0px; fill: rgb(31, 119, 180); fill-opacity: 1;\"/><path class=\"point\" transform=\"translate(41.36,160.36)\" d=\"M3,0A3,3 0 1,1 0,-3A3,3 0 0,1 3,0Z\" style=\"opacity: 1; stroke-width: 0px; fill: rgb(31, 119, 180); fill-opacity: 1;\"/><path class=\"point\" transform=\"translate(69.56,153.64)\" d=\"M3,0A3,3 0 1,1 0,-3A3,3 0 0,1 3,0Z\" style=\"opacity: 1; stroke-width: 0px; fill: rgb(31, 119, 180); fill-opacity: 1;\"/><path class=\"point\" transform=\"translate(43.24,152.3)\" d=\"M3,0A3,3 0 1,1 0,-3A3,3 0 0,1 3,0Z\" style=\"opacity: 1; stroke-width: 0px; fill: rgb(31, 119, 180); fill-opacity: 1;\"/><path class=\"point\" transform=\"translate(63.92,153.43)\" d=\"M3,0A3,3 0 1,1 0,-3A3,3 0 0,1 3,0Z\" style=\"opacity: 1; stroke-width: 0px; fill: rgb(31, 119, 180); fill-opacity: 1;\"/><path class=\"point\" transform=\"translate(7.52,152.68)\" d=\"M3,0A3,3 0 1,1 0,-3A3,3 0 0,1 3,0Z\" style=\"opacity: 1; stroke-width: 0px; fill: rgb(31, 119, 180); fill-opacity: 1;\"/><path class=\"point\" transform=\"translate(43.24,158.54)\" d=\"M3,0A3,3 0 1,1 0,-3A3,3 0 0,1 3,0Z\" style=\"opacity: 1; stroke-width: 0px; fill: rgb(31, 119, 180); fill-opacity: 1;\"/><path class=\"point\" transform=\"translate(112.8,136.47)\" d=\"M3,0A3,3 0 1,1 0,-3A3,3 0 0,1 3,0Z\" style=\"opacity: 1; stroke-width: 0px; fill: rgb(31, 119, 180); fill-opacity: 1;\"/><path class=\"point\" transform=\"translate(56.4,157.03)\" d=\"M3,0A3,3 0 1,1 0,-3A3,3 0 0,1 3,0Z\" style=\"opacity: 1; stroke-width: 0px; fill: rgb(31, 119, 180); fill-opacity: 1;\"/><path class=\"point\" transform=\"translate(75.2,143.1)\" d=\"M3,0A3,3 0 1,1 0,-3A3,3 0 0,1 3,0Z\" style=\"opacity: 1; stroke-width: 0px; fill: rgb(31, 119, 180); fill-opacity: 1;\"/><path class=\"point\" transform=\"translate(304.56,23.26)\" d=\"M3,0A3,3 0 1,1 0,-3A3,3 0 0,1 3,0Z\" style=\"opacity: 1; stroke-width: 0px; fill: rgb(31, 119, 180); fill-opacity: 1;\"/><path class=\"point\" transform=\"translate(1003.92,-250.63)\" d=\"M3,0A3,3 0 1,1 0,-3A3,3 0 0,1 3,0Z\" style=\"opacity: 1; stroke-width: 0px; fill: rgb(31, 119, 180); fill-opacity: 1;\"/><path class=\"point\" transform=\"translate(95.88,134.29)\" d=\"M3,0A3,3 0 1,1 0,-3A3,3 0 0,1 3,0Z\" style=\"opacity: 1; stroke-width: 0px; fill: rgb(31, 119, 180); fill-opacity: 1;\"/><path class=\"point\" transform=\"translate(39.48,154.31)\" d=\"M3,0A3,3 0 1,1 0,-3A3,3 0 0,1 3,0Z\" style=\"opacity: 1; stroke-width: 0px; fill: rgb(31, 119, 180); fill-opacity: 1;\"/><path class=\"point\" transform=\"translate(26.32,161.71)\" d=\"M3,0A3,3 0 1,1 0,-3A3,3 0 0,1 3,0Z\" style=\"opacity: 1; stroke-width: 0px; fill: rgb(31, 119, 180); fill-opacity: 1;\"/><path class=\"point\" transform=\"translate(80.84,148.36)\" d=\"M3,0A3,3 0 1,1 0,-3A3,3 0 0,1 3,0Z\" style=\"opacity: 1; stroke-width: 0px; fill: rgb(31, 119, 180); fill-opacity: 1;\"/><path class=\"point\" transform=\"translate(127.84,130.98)\" d=\"M3,0A3,3 0 1,1 0,-3A3,3 0 0,1 3,0Z\" style=\"opacity: 1; stroke-width: 0px; fill: rgb(31, 119, 180); fill-opacity: 1;\"/><path class=\"point\" transform=\"translate(75.2,150)\" d=\"M3,0A3,3 0 1,1 0,-3A3,3 0 0,1 3,0Z\" style=\"opacity: 1; stroke-width: 0px; fill: rgb(31, 119, 180); fill-opacity: 1;\"/><path class=\"point\" transform=\"translate(52.64,151.49)\" d=\"M3,0A3,3 0 1,1 0,-3A3,3 0 0,1 3,0Z\" style=\"opacity: 1; stroke-width: 0px; fill: rgb(31, 119, 180); fill-opacity: 1;\"/><path class=\"point\" transform=\"translate(225.6,84.61)\" d=\"M3,0A3,3 0 1,1 0,-3A3,3 0 0,1 3,0Z\" style=\"opacity: 1; stroke-width: 0px; fill: rgb(31, 119, 180); fill-opacity: 1;\"/><path class=\"point\" transform=\"translate(58.28,154.84)\" d=\"M3,0A3,3 0 1,1 0,-3A3,3 0 0,1 3,0Z\" style=\"opacity: 1; stroke-width: 0px; fill: rgb(31, 119, 180); fill-opacity: 1;\"/><path class=\"point\" transform=\"translate(129.72,133.47)\" d=\"M3,0A3,3 0 1,1 0,-3A3,3 0 0,1 3,0Z\" style=\"opacity: 1; stroke-width: 0px; fill: rgb(31, 119, 180); fill-opacity: 1;\"/><path class=\"point\" transform=\"translate(120.32,136.39)\" d=\"M3,0A3,3 0 1,1 0,-3A3,3 0 0,1 3,0Z\" style=\"opacity: 1; stroke-width: 0px; fill: rgb(31, 119, 180); fill-opacity: 1;\"/><path class=\"point\" transform=\"translate(231.24,71.9)\" d=\"M3,0A3,3 0 1,1 0,-3A3,3 0 0,1 3,0Z\" style=\"opacity: 1; stroke-width: 0px; fill: rgb(31, 119, 180); fill-opacity: 1;\"/><path class=\"point\" transform=\"translate(9.4,162.24)\" d=\"M3,0A3,3 0 1,1 0,-3A3,3 0 0,1 3,0Z\" style=\"opacity: 1; stroke-width: 0px; fill: rgb(31, 119, 180); fill-opacity: 1;\"/><path class=\"point\" transform=\"translate(28.2,157.97)\" d=\"M3,0A3,3 0 1,1 0,-3A3,3 0 0,1 3,0Z\" style=\"opacity: 1; stroke-width: 0px; fill: rgb(31, 119, 180); fill-opacity: 1;\"/><path class=\"point\" transform=\"translate(75.2,147.02)\" d=\"M3,0A3,3 0 1,1 0,-3A3,3 0 0,1 3,0Z\" style=\"opacity: 1; stroke-width: 0px; fill: rgb(31, 119, 180); fill-opacity: 1;\"/><path class=\"point\" transform=\"translate(35.72,155.14)\" d=\"M3,0A3,3 0 1,1 0,-3A3,3 0 0,1 3,0Z\" style=\"opacity: 1; stroke-width: 0px; fill: rgb(31, 119, 180); fill-opacity: 1;\"/></g><g class=\"text\"/></g></g></g><g class=\"overplot\"/><path class=\"xlines-above crisp\" d=\"M56,191.5H433\" style=\"fill: none; stroke-width: 1px; stroke: rgb(36, 36, 36); stroke-opacity: 1;\"/><path class=\"ylines-above crisp\" d=\"M56.5,10V191\" style=\"fill: none; stroke-width: 1px; stroke: rgb(36, 36, 36); stroke-opacity: 1;\"/><g class=\"overlines-above\"/><g class=\"xaxislayer-above\"><path class=\"xtick ticks crisp\" d=\"M0,192v5\" transform=\"translate(57,0)\" style=\"stroke: rgb(68, 68, 68); stroke-opacity: 1; stroke-width: 1px;\"/><path class=\"xtick ticks crisp\" d=\"M0,192v5\" transform=\"translate(151,0)\" style=\"stroke: rgb(68, 68, 68); stroke-opacity: 1; stroke-width: 1px;\"/><path class=\"xtick ticks crisp\" d=\"M0,192v5\" transform=\"translate(245,0)\" style=\"stroke: rgb(68, 68, 68); stroke-opacity: 1; stroke-width: 1px;\"/><path class=\"xtick ticks crisp\" d=\"M0,192v5\" transform=\"translate(339,0)\" style=\"stroke: rgb(68, 68, 68); stroke-opacity: 1; stroke-width: 1px;\"/><path class=\"xtick ticks crisp\" d=\"M0,192v5\" transform=\"translate(433,0)\" style=\"stroke: rgb(68, 68, 68); stroke-opacity: 1; stroke-width: 1px;\"/><g class=\"xtick\"><text text-anchor=\"middle\" x=\"0\" y=\"211.4\" transform=\"translate(57,0)\" style=\"font-family: 'Open Sans', verdana, arial, sans-serif; font-size: 12px; fill: rgb(36, 36, 36); fill-opacity: 1; white-space: pre; opacity: 1;\">0</text></g><g class=\"xtick\"><text text-anchor=\"middle\" x=\"0\" y=\"211.4\" style=\"font-family: 'Open Sans', verdana, arial, sans-serif; font-size: 12px; fill: rgb(36, 36, 36); fill-opacity: 1; white-space: pre; opacity: 1;\" transform=\"translate(151,0)\">5</text></g><g class=\"xtick\"><text text-anchor=\"middle\" x=\"0\" y=\"211.4\" style=\"font-family: 'Open Sans', verdana, arial, sans-serif; font-size: 12px; fill: rgb(36, 36, 36); fill-opacity: 1; white-space: pre; opacity: 1;\" transform=\"translate(245,0)\">10</text></g><g class=\"xtick\"><text text-anchor=\"middle\" x=\"0\" y=\"211.4\" style=\"font-family: 'Open Sans', verdana, arial, sans-serif; font-size: 12px; fill: rgb(36, 36, 36); fill-opacity: 1; white-space: pre; opacity: 1;\" transform=\"translate(339,0)\">15</text></g><g class=\"xtick\"><text text-anchor=\"middle\" x=\"0\" y=\"211.4\" style=\"font-family: 'Open Sans', verdana, arial, sans-serif; font-size: 12px; fill: rgb(36, 36, 36); fill-opacity: 1; white-space: pre; opacity: 1;\" transform=\"translate(433,0)\">20</text></g></g><g class=\"yaxislayer-above\"><path class=\"ytick ticks crisp\" d=\"M56,0h-5\" transform=\"translate(0,172.9)\" style=\"stroke: rgb(68, 68, 68); stroke-opacity: 1; stroke-width: 1px;\"/><path class=\"ytick ticks crisp\" d=\"M56,0h-5\" transform=\"translate(0,136.7)\" style=\"stroke: rgb(68, 68, 68); stroke-opacity: 1; stroke-width: 1px;\"/><path class=\"ytick ticks crisp\" d=\"M56,0h-5\" transform=\"translate(0,100.5)\" style=\"stroke: rgb(68, 68, 68); stroke-opacity: 1; stroke-width: 1px;\"/><path class=\"ytick ticks crisp\" d=\"M56,0h-5\" transform=\"translate(0,64.3)\" style=\"stroke: rgb(68, 68, 68); stroke-opacity: 1; stroke-width: 1px;\"/><path class=\"ytick ticks crisp\" d=\"M56,0h-5\" transform=\"translate(0,28.1)\" style=\"stroke: rgb(68, 68, 68); stroke-opacity: 1; stroke-width: 1px;\"/><g class=\"ytick\"><text text-anchor=\"end\" x=\"48.6\" y=\"4.199999999999999\" transform=\"translate(0,172.9)\" style=\"font-family: 'Open Sans', verdana, arial, sans-serif; font-size: 12px; fill: rgb(36, 36, 36); fill-opacity: 1; white-space: pre; opacity: 1;\">0</text></g><g class=\"ytick\"><text text-anchor=\"end\" x=\"48.6\" y=\"4.199999999999999\" style=\"font-family: 'Open Sans', verdana, arial, sans-serif; font-size: 12px; fill: rgb(36, 36, 36); fill-opacity: 1; white-space: pre; opacity: 1;\" transform=\"translate(0,136.7)\">10</text></g><g class=\"ytick\"><text text-anchor=\"end\" x=\"48.6\" y=\"4.199999999999999\" style=\"font-family: 'Open Sans', verdana, arial, sans-serif; font-size: 12px; fill: rgb(36, 36, 36); fill-opacity: 1; white-space: pre; opacity: 1;\" transform=\"translate(0,100.5)\">20</text></g><g class=\"ytick\"><text text-anchor=\"end\" x=\"48.6\" y=\"4.199999999999999\" style=\"font-family: 'Open Sans', verdana, arial, sans-serif; font-size: 12px; fill: rgb(36, 36, 36); fill-opacity: 1; white-space: pre; opacity: 1;\" transform=\"translate(0,64.3)\">30</text></g><g class=\"ytick\"><text text-anchor=\"end\" x=\"48.6\" y=\"4.199999999999999\" style=\"font-family: 'Open Sans', verdana, arial, sans-serif; font-size: 12px; fill: rgb(36, 36, 36); fill-opacity: 1; white-space: pre; opacity: 1;\" transform=\"translate(0,28.1)\">40</text></g></g><g class=\"overaxes-above\"/></g></g><g class=\"polarlayer\"/><g class=\"smithlayer\"/><g class=\"ternarylayer\"/><g class=\"geolayer\"/><g class=\"funnelarealayer\"/><g class=\"pielayer\"/><g class=\"iciclelayer\"/><g class=\"treemaplayer\"/><g class=\"sunburstlayer\"/><g class=\"glimages\"/><defs id=\"topdefs-6be111\"><g class=\"clips\"/></defs><g class=\"layer-above\"><g class=\"imagelayer\"/><g class=\"shapelayer\"/></g><g class=\"infolayer\"><g class=\"g-gtitle\"/><g class=\"g-xtitle\"><text class=\"xtitle\" x=\"245\" y=\"239.70625\" text-anchor=\"middle\" style=\"font-family: 'Open Sans', verdana, arial, sans-serif; font-size: 14px; fill: rgb(36, 36, 36); opacity: 1; font-weight: normal; white-space: pre;\">pm25aqs</text></g><g class=\"g-ytitle\" transform=\"translate(4.9248046875,0)\"><text class=\"ytitle\" transform=\"rotate(-90,10.075000000000003,100.5)\" x=\"10.075000000000003\" y=\"100.5\" text-anchor=\"middle\" style=\"font-family: 'Open Sans', verdana, arial, sans-serif; font-size: 14px; fill: rgb(36, 36, 36); opacity: 1; font-weight: normal; white-space: pre;\">pm25pa</text></g></g></svg>"
      ]
     },
     "metadata": {},
     "output_type": "display_data"
    }
   ],
   "source": [
    "fig = px.scatter(AK, x=\"pm25aqs\", y=\"pm25pa\",\n",
    "                 width=450, height=250)\n",
    "\n",
    "fig.update_xaxes(range=[0, 20])\n",
    "fig.update_yaxes(range=[-5, 45])\n",
    "\n",
    "fig"
   ]
  },
  {
   "cell_type": "code",
   "execution_count": 120,
   "metadata": {
    "tags": [
     "remove-input"
    ]
   },
   "outputs": [
    {
     "data": {
      "application/vnd.plotly.v1+json": {
       "config": {
        "plotlyServerURL": "https://plot.ly"
       },
       "data": [
        {
         "hovertemplate": "pm25aqs=%{x}<br>pm25pa=%{y}<extra></extra>",
         "legendgroup": "",
         "marker": {
          "color": "#1F77B4",
          "symbol": "circle"
         },
         "mode": "markers",
         "name": "",
         "orientation": "v",
         "showlegend": false,
         "type": "scatter",
         "x": [
          6.7,
          3.8,
          4,
          4.7,
          3.2,
          4.2,
          4,
          17.6,
          4.5,
          2.7,
          2.9,
          12.5,
          1.5,
          4.4,
          2.5,
          2.9,
          3.2,
          3.2,
          3.1,
          3.5,
          3.2,
          2,
          2.3,
          3.9,
          3.7,
          4.8,
          4.3,
          2.9,
          3.5,
          3.2,
          4,
          4.5,
          7.5,
          16.2,
          2.4,
          2,
          2.8,
          4,
          5.7,
          59.1,
          39.5,
          52.7,
          60,
          8.3,
          4.8,
          4.5,
          5.7,
          2.2,
          2.8,
          2.3,
          0.8,
          1.6,
          1.6,
          2.7,
          4.2,
          3.6,
          6.3,
          7.6,
          5.1,
          3.7,
          3.9,
          3.7,
          3,
          4.2,
          5.5,
          11.8,
          6.7,
          5,
          3.6,
          3,
          4.6,
          6.5,
          6.9,
          4,
          6.7,
          4.2,
          3.2,
          4.5,
          12.5,
          15.6,
          12,
          5.5,
          2.7,
          1.6,
          2.6,
          0.7,
          2.3,
          4.6,
          3.5,
          1.2,
          1.7,
          4.6,
          4.8,
          4.3,
          2.4,
          4.4,
          4,
          4.4,
          2.6,
          2.2,
          3.7,
          2.3,
          3.4,
          0.4,
          2.3,
          6,
          3,
          4,
          16.2,
          53.4,
          5.1,
          2.1,
          1.4,
          4.3,
          6.8,
          4,
          2.8,
          12,
          3.1,
          6.9,
          6.4,
          12.3,
          0.5,
          1.5,
          4,
          1.9
         ],
         "xaxis": "x",
         "y": [
          8.61695352332852,
          3.49391633415251,
          3.79960099292242,
          4.36969101036657,
          3.19107078838998,
          3.27136574074074,
          5.05941532368791,
          35.9255740740741,
          4.82944444444444,
          2.69641203703704,
          0.990935845374212,
          21.864381017383,
          0.998847222222222,
          2.92713788300836,
          1.23522916666667,
          2.20475,
          2.61585320450486,
          2.530875,
          2.78462447844228,
          2.82400694444444,
          2.69732638888889,
          0.376831004282532,
          1.01789736107938,
          2.55836134453781,
          4.85311805555556,
          7.30245833333333,
          6.58488194444444,
          3.99263194444444,
          3.61703472222222,
          2.62347916666667,
          5.46972916666667,
          6.59075694444444,
          13.7479722222222,
          38.5742013888889,
          2.13855555555556,
          1.20486805555556,
          2.45721527777778,
          2.76017237467138,
          12.5168125,
          133.754409722222,
          89.2828680555556,
          114.234138888889,
          123.463041666667,
          18.0914027777778,
          7.90384027777778,
          6.98361111111111,
          7.83739583333333,
          2.37282638888889,
          3.25459027777778,
          3.48689583333333,
          0.329715277777778,
          1.09695138888889,
          1.20453472222222,
          2.33189151599444,
          4.01677777777778,
          4.4185823288518,
          8.81659027777778,
          11.8311597222222,
          7.19993055555556,
          3.56254166666667,
          3.50107638888889,
          4.30972916666667,
          3.15328525343842,
          3.84611111111111,
          6.66111111111111,
          21.6268472222222,
          9.26290972222222,
          4.09304861111111,
          2.30839360222531,
          2.22780555555556,
          4.20922916666667,
          7.8284375,
          8.12847916666667,
          3.21947916666667,
          7.32309027777778,
          5.27901388888889,
          3.067625,
          2.64411805555556,
          19.5242569444444,
          32.2472777777778,
          25.1371666666667,
          7.02444444444444,
          2.33087866108787,
          2.50891666666667,
          1.718,
          0.181708333333333,
          2.37480555555556,
          4.24985416666667,
          2.96814583333333,
          1.36068055555556,
          1.24723611111111,
          4.3880625,
          4.03877083333333,
          3.83609722222222,
          2.14480555555556,
          2.76017237467138,
          3.49391633415251,
          3.79960099292242,
          2.69641203703704,
          0.702614319799657,
          2.55836134453781,
          2.92713788300836,
          2.61585320450486,
          2.82400694444444,
          1.20486805555556,
          7.30245833333333,
          1.62045833333333,
          5.46972916666667,
          38.5742013888889,
          114.234138888889,
          7.90384027777778,
          2.37282638888889,
          0.329715277777778,
          4.01677777777778,
          8.81659027777778,
          3.56254166666667,
          3.15328525343842,
          21.6268472222222,
          2.22780555555556,
          8.12847916666667,
          7.32309027777778,
          25.1371666666667,
          0.181708333333333,
          1.36068055555556,
          4.3880625,
          2.14480555555556
         ],
         "yaxis": "y"
        },
        {
         "mode": "lines",
         "name": "Predict",
         "type": "scatter",
         "x": [
          0.4,
          60
         ],
         "y": [
          -3.2789213615927246,
          130.3580841131626
         ]
        }
       ],
       "layout": {
        "height": 250,
        "legend": {
         "tracegroupgap": 0
        },
        "template": {
         "data": {
          "bar": [
           {
            "error_x": {
             "color": "rgb(36,36,36)"
            },
            "error_y": {
             "color": "rgb(36,36,36)"
            },
            "marker": {
             "line": {
              "color": "white",
              "width": 0.5
             },
             "pattern": {
              "fillmode": "overlay",
              "size": 10,
              "solidity": 0.2
             }
            },
            "type": "bar"
           }
          ],
          "barpolar": [
           {
            "marker": {
             "line": {
              "color": "white",
              "width": 0.5
             },
             "pattern": {
              "fillmode": "overlay",
              "size": 10,
              "solidity": 0.2
             }
            },
            "type": "barpolar"
           }
          ],
          "carpet": [
           {
            "aaxis": {
             "endlinecolor": "rgb(36,36,36)",
             "gridcolor": "white",
             "linecolor": "white",
             "minorgridcolor": "white",
             "startlinecolor": "rgb(36,36,36)"
            },
            "baxis": {
             "endlinecolor": "rgb(36,36,36)",
             "gridcolor": "white",
             "linecolor": "white",
             "minorgridcolor": "white",
             "startlinecolor": "rgb(36,36,36)"
            },
            "type": "carpet"
           }
          ],
          "choropleth": [
           {
            "colorbar": {
             "outlinewidth": 1,
             "tickcolor": "rgb(36,36,36)",
             "ticks": "outside"
            },
            "type": "choropleth"
           }
          ],
          "contour": [
           {
            "colorbar": {
             "outlinewidth": 1,
             "tickcolor": "rgb(36,36,36)",
             "ticks": "outside"
            },
            "colorscale": [
             [
              0,
              "#440154"
             ],
             [
              0.1111111111111111,
              "#482878"
             ],
             [
              0.2222222222222222,
              "#3e4989"
             ],
             [
              0.3333333333333333,
              "#31688e"
             ],
             [
              0.4444444444444444,
              "#26828e"
             ],
             [
              0.5555555555555556,
              "#1f9e89"
             ],
             [
              0.6666666666666666,
              "#35b779"
             ],
             [
              0.7777777777777778,
              "#6ece58"
             ],
             [
              0.8888888888888888,
              "#b5de2b"
             ],
             [
              1,
              "#fde725"
             ]
            ],
            "type": "contour"
           }
          ],
          "contourcarpet": [
           {
            "colorbar": {
             "outlinewidth": 1,
             "tickcolor": "rgb(36,36,36)",
             "ticks": "outside"
            },
            "type": "contourcarpet"
           }
          ],
          "heatmap": [
           {
            "colorbar": {
             "outlinewidth": 1,
             "tickcolor": "rgb(36,36,36)",
             "ticks": "outside"
            },
            "colorscale": [
             [
              0,
              "#440154"
             ],
             [
              0.1111111111111111,
              "#482878"
             ],
             [
              0.2222222222222222,
              "#3e4989"
             ],
             [
              0.3333333333333333,
              "#31688e"
             ],
             [
              0.4444444444444444,
              "#26828e"
             ],
             [
              0.5555555555555556,
              "#1f9e89"
             ],
             [
              0.6666666666666666,
              "#35b779"
             ],
             [
              0.7777777777777778,
              "#6ece58"
             ],
             [
              0.8888888888888888,
              "#b5de2b"
             ],
             [
              1,
              "#fde725"
             ]
            ],
            "type": "heatmap"
           }
          ],
          "heatmapgl": [
           {
            "colorbar": {
             "outlinewidth": 1,
             "tickcolor": "rgb(36,36,36)",
             "ticks": "outside"
            },
            "colorscale": [
             [
              0,
              "#440154"
             ],
             [
              0.1111111111111111,
              "#482878"
             ],
             [
              0.2222222222222222,
              "#3e4989"
             ],
             [
              0.3333333333333333,
              "#31688e"
             ],
             [
              0.4444444444444444,
              "#26828e"
             ],
             [
              0.5555555555555556,
              "#1f9e89"
             ],
             [
              0.6666666666666666,
              "#35b779"
             ],
             [
              0.7777777777777778,
              "#6ece58"
             ],
             [
              0.8888888888888888,
              "#b5de2b"
             ],
             [
              1,
              "#fde725"
             ]
            ],
            "type": "heatmapgl"
           }
          ],
          "histogram": [
           {
            "marker": {
             "line": {
              "color": "white",
              "width": 0.6
             }
            },
            "type": "histogram"
           }
          ],
          "histogram2d": [
           {
            "colorbar": {
             "outlinewidth": 1,
             "tickcolor": "rgb(36,36,36)",
             "ticks": "outside"
            },
            "colorscale": [
             [
              0,
              "#440154"
             ],
             [
              0.1111111111111111,
              "#482878"
             ],
             [
              0.2222222222222222,
              "#3e4989"
             ],
             [
              0.3333333333333333,
              "#31688e"
             ],
             [
              0.4444444444444444,
              "#26828e"
             ],
             [
              0.5555555555555556,
              "#1f9e89"
             ],
             [
              0.6666666666666666,
              "#35b779"
             ],
             [
              0.7777777777777778,
              "#6ece58"
             ],
             [
              0.8888888888888888,
              "#b5de2b"
             ],
             [
              1,
              "#fde725"
             ]
            ],
            "type": "histogram2d"
           }
          ],
          "histogram2dcontour": [
           {
            "colorbar": {
             "outlinewidth": 1,
             "tickcolor": "rgb(36,36,36)",
             "ticks": "outside"
            },
            "colorscale": [
             [
              0,
              "#440154"
             ],
             [
              0.1111111111111111,
              "#482878"
             ],
             [
              0.2222222222222222,
              "#3e4989"
             ],
             [
              0.3333333333333333,
              "#31688e"
             ],
             [
              0.4444444444444444,
              "#26828e"
             ],
             [
              0.5555555555555556,
              "#1f9e89"
             ],
             [
              0.6666666666666666,
              "#35b779"
             ],
             [
              0.7777777777777778,
              "#6ece58"
             ],
             [
              0.8888888888888888,
              "#b5de2b"
             ],
             [
              1,
              "#fde725"
             ]
            ],
            "type": "histogram2dcontour"
           }
          ],
          "mesh3d": [
           {
            "colorbar": {
             "outlinewidth": 1,
             "tickcolor": "rgb(36,36,36)",
             "ticks": "outside"
            },
            "type": "mesh3d"
           }
          ],
          "parcoords": [
           {
            "line": {
             "colorbar": {
              "outlinewidth": 1,
              "tickcolor": "rgb(36,36,36)",
              "ticks": "outside"
             }
            },
            "type": "parcoords"
           }
          ],
          "pie": [
           {
            "automargin": true,
            "type": "pie"
           }
          ],
          "scatter": [
           {
            "marker": {
             "colorbar": {
              "outlinewidth": 1,
              "tickcolor": "rgb(36,36,36)",
              "ticks": "outside"
             }
            },
            "type": "scatter"
           }
          ],
          "scatter3d": [
           {
            "line": {
             "colorbar": {
              "outlinewidth": 1,
              "tickcolor": "rgb(36,36,36)",
              "ticks": "outside"
             }
            },
            "marker": {
             "colorbar": {
              "outlinewidth": 1,
              "tickcolor": "rgb(36,36,36)",
              "ticks": "outside"
             }
            },
            "type": "scatter3d"
           }
          ],
          "scattercarpet": [
           {
            "marker": {
             "colorbar": {
              "outlinewidth": 1,
              "tickcolor": "rgb(36,36,36)",
              "ticks": "outside"
             }
            },
            "type": "scattercarpet"
           }
          ],
          "scattergeo": [
           {
            "marker": {
             "colorbar": {
              "outlinewidth": 1,
              "tickcolor": "rgb(36,36,36)",
              "ticks": "outside"
             }
            },
            "type": "scattergeo"
           }
          ],
          "scattergl": [
           {
            "marker": {
             "colorbar": {
              "outlinewidth": 1,
              "tickcolor": "rgb(36,36,36)",
              "ticks": "outside"
             }
            },
            "type": "scattergl"
           }
          ],
          "scattermapbox": [
           {
            "marker": {
             "colorbar": {
              "outlinewidth": 1,
              "tickcolor": "rgb(36,36,36)",
              "ticks": "outside"
             }
            },
            "type": "scattermapbox"
           }
          ],
          "scatterpolar": [
           {
            "marker": {
             "colorbar": {
              "outlinewidth": 1,
              "tickcolor": "rgb(36,36,36)",
              "ticks": "outside"
             }
            },
            "type": "scatterpolar"
           }
          ],
          "scatterpolargl": [
           {
            "marker": {
             "colorbar": {
              "outlinewidth": 1,
              "tickcolor": "rgb(36,36,36)",
              "ticks": "outside"
             }
            },
            "type": "scatterpolargl"
           }
          ],
          "scatterternary": [
           {
            "marker": {
             "colorbar": {
              "outlinewidth": 1,
              "tickcolor": "rgb(36,36,36)",
              "ticks": "outside"
             }
            },
            "type": "scatterternary"
           }
          ],
          "surface": [
           {
            "colorbar": {
             "outlinewidth": 1,
             "tickcolor": "rgb(36,36,36)",
             "ticks": "outside"
            },
            "colorscale": [
             [
              0,
              "#440154"
             ],
             [
              0.1111111111111111,
              "#482878"
             ],
             [
              0.2222222222222222,
              "#3e4989"
             ],
             [
              0.3333333333333333,
              "#31688e"
             ],
             [
              0.4444444444444444,
              "#26828e"
             ],
             [
              0.5555555555555556,
              "#1f9e89"
             ],
             [
              0.6666666666666666,
              "#35b779"
             ],
             [
              0.7777777777777778,
              "#6ece58"
             ],
             [
              0.8888888888888888,
              "#b5de2b"
             ],
             [
              1,
              "#fde725"
             ]
            ],
            "type": "surface"
           }
          ],
          "table": [
           {
            "cells": {
             "fill": {
              "color": "rgb(237,237,237)"
             },
             "line": {
              "color": "white"
             }
            },
            "header": {
             "fill": {
              "color": "rgb(217,217,217)"
             },
             "line": {
              "color": "white"
             }
            },
            "type": "table"
           }
          ]
         },
         "layout": {
          "annotationdefaults": {
           "arrowhead": 0,
           "arrowwidth": 1
          },
          "autosize": true,
          "autotypenumbers": "strict",
          "coloraxis": {
           "colorbar": {
            "outlinewidth": 1,
            "tickcolor": "rgb(36,36,36)",
            "ticks": "outside"
           }
          },
          "colorscale": {
           "diverging": [
            [
             0,
             "rgb(103,0,31)"
            ],
            [
             0.1,
             "rgb(178,24,43)"
            ],
            [
             0.2,
             "rgb(214,96,77)"
            ],
            [
             0.3,
             "rgb(244,165,130)"
            ],
            [
             0.4,
             "rgb(253,219,199)"
            ],
            [
             0.5,
             "rgb(247,247,247)"
            ],
            [
             0.6,
             "rgb(209,229,240)"
            ],
            [
             0.7,
             "rgb(146,197,222)"
            ],
            [
             0.8,
             "rgb(67,147,195)"
            ],
            [
             0.9,
             "rgb(33,102,172)"
            ],
            [
             1,
             "rgb(5,48,97)"
            ]
           ],
           "sequential": [
            [
             0,
             "#440154"
            ],
            [
             0.1111111111111111,
             "#482878"
            ],
            [
             0.2222222222222222,
             "#3e4989"
            ],
            [
             0.3333333333333333,
             "#31688e"
            ],
            [
             0.4444444444444444,
             "#26828e"
            ],
            [
             0.5555555555555556,
             "#1f9e89"
            ],
            [
             0.6666666666666666,
             "#35b779"
            ],
            [
             0.7777777777777778,
             "#6ece58"
            ],
            [
             0.8888888888888888,
             "#b5de2b"
            ],
            [
             1,
             "#fde725"
            ]
           ],
           "sequentialminus": [
            [
             0,
             "#440154"
            ],
            [
             0.1111111111111111,
             "#482878"
            ],
            [
             0.2222222222222222,
             "#3e4989"
            ],
            [
             0.3333333333333333,
             "#31688e"
            ],
            [
             0.4444444444444444,
             "#26828e"
            ],
            [
             0.5555555555555556,
             "#1f9e89"
            ],
            [
             0.6666666666666666,
             "#35b779"
            ],
            [
             0.7777777777777778,
             "#6ece58"
            ],
            [
             0.8888888888888888,
             "#b5de2b"
            ],
            [
             1,
             "#fde725"
            ]
           ]
          },
          "colorway": [
           "#1F77B4",
           "#FF7F0E",
           "#2CA02C",
           "#D62728",
           "#9467BD",
           "#8C564B",
           "#E377C2",
           "#7F7F7F",
           "#BCBD22",
           "#17BECF"
          ],
          "font": {
           "color": "rgb(36,36,36)"
          },
          "geo": {
           "bgcolor": "white",
           "lakecolor": "white",
           "landcolor": "white",
           "showlakes": true,
           "showland": true,
           "subunitcolor": "white"
          },
          "height": 250,
          "hoverlabel": {
           "align": "left"
          },
          "hovermode": "closest",
          "mapbox": {
           "style": "light"
          },
          "margin": {
           "b": 10,
           "l": 10,
           "r": 10,
           "t": 10
          },
          "paper_bgcolor": "white",
          "plot_bgcolor": "white",
          "polar": {
           "angularaxis": {
            "gridcolor": "rgb(232,232,232)",
            "linecolor": "rgb(36,36,36)",
            "showgrid": false,
            "showline": true,
            "ticks": "outside"
           },
           "bgcolor": "white",
           "radialaxis": {
            "gridcolor": "rgb(232,232,232)",
            "linecolor": "rgb(36,36,36)",
            "showgrid": false,
            "showline": true,
            "ticks": "outside"
           }
          },
          "scene": {
           "xaxis": {
            "backgroundcolor": "white",
            "gridcolor": "rgb(232,232,232)",
            "gridwidth": 2,
            "linecolor": "rgb(36,36,36)",
            "showbackground": true,
            "showgrid": false,
            "showline": true,
            "ticks": "outside",
            "zeroline": false,
            "zerolinecolor": "rgb(36,36,36)"
           },
           "yaxis": {
            "backgroundcolor": "white",
            "gridcolor": "rgb(232,232,232)",
            "gridwidth": 2,
            "linecolor": "rgb(36,36,36)",
            "showbackground": true,
            "showgrid": false,
            "showline": true,
            "ticks": "outside",
            "zeroline": false,
            "zerolinecolor": "rgb(36,36,36)"
           },
           "zaxis": {
            "backgroundcolor": "white",
            "gridcolor": "rgb(232,232,232)",
            "gridwidth": 2,
            "linecolor": "rgb(36,36,36)",
            "showbackground": true,
            "showgrid": false,
            "showline": true,
            "ticks": "outside",
            "zeroline": false,
            "zerolinecolor": "rgb(36,36,36)"
           }
          },
          "shapedefaults": {
           "fillcolor": "black",
           "line": {
            "width": 0
           },
           "opacity": 0.3
          },
          "ternary": {
           "aaxis": {
            "gridcolor": "rgb(232,232,232)",
            "linecolor": "rgb(36,36,36)",
            "showgrid": false,
            "showline": true,
            "ticks": "outside"
           },
           "baxis": {
            "gridcolor": "rgb(232,232,232)",
            "linecolor": "rgb(36,36,36)",
            "showgrid": false,
            "showline": true,
            "ticks": "outside"
           },
           "bgcolor": "white",
           "caxis": {
            "gridcolor": "rgb(232,232,232)",
            "linecolor": "rgb(36,36,36)",
            "showgrid": false,
            "showline": true,
            "ticks": "outside"
           }
          },
          "title": {
           "x": 0.5,
           "xanchor": "center"
          },
          "width": 350,
          "xaxis": {
           "automargin": true,
           "gridcolor": "rgb(232,232,232)",
           "linecolor": "rgb(36,36,36)",
           "showgrid": true,
           "showline": true,
           "ticks": "outside",
           "title": {
            "standoff": 15
           },
           "zeroline": false,
           "zerolinecolor": "rgb(36,36,36)"
          },
          "yaxis": {
           "automargin": true,
           "gridcolor": "rgb(232,232,232)",
           "linecolor": "rgb(36,36,36)",
           "showgrid": true,
           "showline": true,
           "ticks": "outside",
           "title": {
            "standoff": 15
           },
           "zeroline": false,
           "zerolinecolor": "rgb(36,36,36)"
          }
         }
        },
        "width": 450,
        "xaxis": {
         "anchor": "y",
         "domain": [
          0,
          1
         ],
         "range": [
          0,
          20
         ],
         "title": {
          "text": "pm25aqs"
         },
         "type": "linear"
        },
        "yaxis": {
         "anchor": "x",
         "domain": [
          0,
          1
         ],
         "range": [
          -5,
          45
         ],
         "title": {
          "text": "pm25pa"
         },
         "type": "linear"
        }
       }
      },
      "image/png": "[encoded data removed]",
      "image/svg+xml": [
       "<svg class=\"main-svg\" xmlns=\"http://www.w3.org/2000/svg\" xmlns:xlink=\"http://www.w3.org/1999/xlink\" width=\"450\" height=\"250\" style=\"\" viewBox=\"0 0 450 250\"><rect x=\"0\" y=\"0\" width=\"450\" height=\"250\" style=\"fill: rgb(255, 255, 255); fill-opacity: 1;\"/><defs id=\"defs-761bfa\"><g class=\"clips\"><clipPath id=\"clip761bfaxyplot\" class=\"plotclip\"><rect width=\"292\" height=\"181\"/></clipPath><clipPath class=\"axesclip\" id=\"clip761bfax\"><rect x=\"57\" y=\"0\" width=\"292\" height=\"250\"/></clipPath><clipPath class=\"axesclip\" id=\"clip761bfay\"><rect x=\"0\" y=\"10\" width=\"450\" height=\"181\"/></clipPath><clipPath class=\"axesclip\" id=\"clip761bfaxy\"><rect x=\"57\" y=\"10\" width=\"292\" height=\"181\"/></clipPath></g><g class=\"gradients\"/><g class=\"patterns\"/></defs><g class=\"bglayer\"/><g class=\"layer-below\"><g class=\"imagelayer\"/><g class=\"shapelayer\"/></g><g class=\"cartesianlayer\"><g class=\"subplot xy\"><g class=\"layer-subplot\"><g class=\"shapelayer\"/><g class=\"imagelayer\"/></g><g class=\"gridlayer\"><g class=\"x\"><path class=\"xgrid crisp\" transform=\"translate(130,0)\" d=\"M0,10v181\" style=\"stroke: rgb(232, 232, 232); stroke-opacity: 1; stroke-width: 1px;\"/><path class=\"xgrid crisp\" transform=\"translate(203,0)\" d=\"M0,10v181\" style=\"stroke: rgb(232, 232, 232); stroke-opacity: 1; stroke-width: 1px;\"/><path class=\"xgrid crisp\" transform=\"translate(276,0)\" d=\"M0,10v181\" style=\"stroke: rgb(232, 232, 232); stroke-opacity: 1; stroke-width: 1px;\"/></g><g class=\"y\"><path class=\"ygrid crisp\" transform=\"translate(0,172.9)\" d=\"M57,0h292\" style=\"stroke: rgb(232, 232, 232); stroke-opacity: 1; stroke-width: 1px;\"/><path class=\"ygrid crisp\" transform=\"translate(0,136.7)\" d=\"M57,0h292\" style=\"stroke: rgb(232, 232, 232); stroke-opacity: 1; stroke-width: 1px;\"/><path class=\"ygrid crisp\" transform=\"translate(0,100.5)\" d=\"M57,0h292\" style=\"stroke: rgb(232, 232, 232); stroke-opacity: 1; stroke-width: 1px;\"/><path class=\"ygrid crisp\" transform=\"translate(0,64.3)\" d=\"M57,0h292\" style=\"stroke: rgb(232, 232, 232); stroke-opacity: 1; stroke-width: 1px;\"/><path class=\"ygrid crisp\" transform=\"translate(0,28.1)\" d=\"M57,0h292\" style=\"stroke: rgb(232, 232, 232); stroke-opacity: 1; stroke-width: 1px;\"/></g></g><g class=\"zerolinelayer\"/><path class=\"xlines-below\"/><path class=\"ylines-below\"/><g class=\"overlines-below\"/><g class=\"xaxislayer-below\"/><g class=\"yaxislayer-below\"/><g class=\"overaxes-below\"/><g class=\"plot\" transform=\"translate(57,10)\" clip-path=\"url(#clip761bfaxyplot)\"><g class=\"scatterlayer mlayer\"><g class=\"trace scatter tracec7548b\" style=\"stroke-miterlimit: 2; opacity: 1;\"><g class=\"fills\"/><g class=\"errorbars\"/><g class=\"lines\"/><g class=\"points\"><path class=\"point\" transform=\"translate(97.82,131.71)\" d=\"M3,0A3,3 0 1,1 0,-3A3,3 0 0,1 3,0Z\" style=\"opacity: 1; stroke-width: 0px; fill: rgb(31, 119, 180); fill-opacity: 1;\"/><path class=\"point\" transform=\"translate(55.48,150.25)\" d=\"M3,0A3,3 0 1,1 0,-3A3,3 0 0,1 3,0Z\" style=\"opacity: 1; stroke-width: 0px; fill: rgb(31, 119, 180); fill-opacity: 1;\"/><path class=\"point\" transform=\"translate(58.4,149.15)\" d=\"M3,0A3,3 0 1,1 0,-3A3,3 0 0,1 3,0Z\" style=\"opacity: 1; stroke-width: 0px; fill: rgb(31, 119, 180); fill-opacity: 1;\"/><path class=\"point\" transform=\"translate(68.62,147.08)\" d=\"M3,0A3,3 0 1,1 0,-3A3,3 0 0,1 3,0Z\" style=\"opacity: 1; stroke-width: 0px; fill: rgb(31, 119, 180); fill-opacity: 1;\"/><path class=\"point\" transform=\"translate(46.72,151.35)\" d=\"M3,0A3,3 0 1,1 0,-3A3,3 0 0,1 3,0Z\" style=\"opacity: 1; stroke-width: 0px; fill: rgb(31, 119, 180); fill-opacity: 1;\"/><path class=\"point\" transform=\"translate(61.32,151.06)\" d=\"M3,0A3,3 0 1,1 0,-3A3,3 0 0,1 3,0Z\" style=\"opacity: 1; stroke-width: 0px; fill: rgb(31, 119, 180); fill-opacity: 1;\"/><path class=\"point\" transform=\"translate(58.4,144.58)\" d=\"M3,0A3,3 0 1,1 0,-3A3,3 0 0,1 3,0Z\" style=\"opacity: 1; stroke-width: 0px; fill: rgb(31, 119, 180); fill-opacity: 1;\"/><path class=\"point\" transform=\"translate(256.96,32.85)\" d=\"M3,0A3,3 0 1,1 0,-3A3,3 0 0,1 3,0Z\" style=\"opacity: 1; stroke-width: 0px; fill: rgb(31, 119, 180); fill-opacity: 1;\"/><path class=\"point\" transform=\"translate(65.7,145.42)\" d=\"M3,0A3,3 0 1,1 0,-3A3,3 0 0,1 3,0Z\" style=\"opacity: 1; stroke-width: 0px; fill: rgb(31, 119, 180); fill-opacity: 1;\"/><path class=\"point\" transform=\"translate(39.42,153.14)\" d=\"M3,0A3,3 0 1,1 0,-3A3,3 0 0,1 3,0Z\" style=\"opacity: 1; stroke-width: 0px; fill: rgb(31, 119, 180); fill-opacity: 1;\"/><path class=\"point\" transform=\"translate(42.34,159.31)\" d=\"M3,0A3,3 0 1,1 0,-3A3,3 0 0,1 3,0Z\" style=\"opacity: 1; stroke-width: 0px; fill: rgb(31, 119, 180); fill-opacity: 1;\"/><path class=\"point\" transform=\"translate(182.5,83.75)\" d=\"M3,0A3,3 0 1,1 0,-3A3,3 0 0,1 3,0Z\" style=\"opacity: 1; stroke-width: 0px; fill: rgb(31, 119, 180); fill-opacity: 1;\"/><path class=\"point\" transform=\"translate(21.9,159.28)\" d=\"M3,0A3,3 0 1,1 0,-3A3,3 0 0,1 3,0Z\" style=\"opacity: 1; stroke-width: 0px; fill: rgb(31, 119, 180); fill-opacity: 1;\"/><path class=\"point\" transform=\"translate(64.24,152.3)\" d=\"M3,0A3,3 0 1,1 0,-3A3,3 0 0,1 3,0Z\" style=\"opacity: 1; stroke-width: 0px; fill: rgb(31, 119, 180); fill-opacity: 1;\"/><path class=\"point\" transform=\"translate(36.5,158.43)\" d=\"M3,0A3,3 0 1,1 0,-3A3,3 0 0,1 3,0Z\" style=\"opacity: 1; stroke-width: 0px; fill: rgb(31, 119, 180); fill-opacity: 1;\"/><path class=\"point\" transform=\"translate(42.34,154.92)\" d=\"M3,0A3,3 0 1,1 0,-3A3,3 0 0,1 3,0Z\" style=\"opacity: 1; stroke-width: 0px; fill: rgb(31, 119, 180); fill-opacity: 1;\"/><path class=\"point\" transform=\"translate(46.72,153.43)\" d=\"M3,0A3,3 0 1,1 0,-3A3,3 0 0,1 3,0Z\" style=\"opacity: 1; stroke-width: 0px; fill: rgb(31, 119, 180); fill-opacity: 1;\"/><path class=\"point\" transform=\"translate(46.72,153.74)\" d=\"M3,0A3,3 0 1,1 0,-3A3,3 0 0,1 3,0Z\" style=\"opacity: 1; stroke-width: 0px; fill: rgb(31, 119, 180); fill-opacity: 1;\"/><path class=\"point\" transform=\"translate(45.26,152.82)\" d=\"M3,0A3,3 0 1,1 0,-3A3,3 0 0,1 3,0Z\" style=\"opacity: 1; stroke-width: 0px; fill: rgb(31, 119, 180); fill-opacity: 1;\"/><path class=\"point\" transform=\"translate(51.1,152.68)\" d=\"M3,0A3,3 0 1,1 0,-3A3,3 0 0,1 3,0Z\" style=\"opacity: 1; stroke-width: 0px; fill: rgb(31, 119, 180); fill-opacity: 1;\"/><path class=\"point\" transform=\"translate(46.72,153.14)\" d=\"M3,0A3,3 0 1,1 0,-3A3,3 0 0,1 3,0Z\" style=\"opacity: 1; stroke-width: 0px; fill: rgb(31, 119, 180); fill-opacity: 1;\"/><path class=\"point\" transform=\"translate(29.2,161.54)\" d=\"M3,0A3,3 0 1,1 0,-3A3,3 0 0,1 3,0Z\" style=\"opacity: 1; stroke-width: 0px; fill: rgb(31, 119, 180); fill-opacity: 1;\"/><path class=\"point\" transform=\"translate(33.58,159.22)\" d=\"M3,0A3,3 0 1,1 0,-3A3,3 0 0,1 3,0Z\" style=\"opacity: 1; stroke-width: 0px; fill: rgb(31, 119, 180); fill-opacity: 1;\"/><path class=\"point\" transform=\"translate(56.94,153.64)\" d=\"M3,0A3,3 0 1,1 0,-3A3,3 0 0,1 3,0Z\" style=\"opacity: 1; stroke-width: 0px; fill: rgb(31, 119, 180); fill-opacity: 1;\"/><path class=\"point\" transform=\"translate(54.02,145.33)\" d=\"M3,0A3,3 0 1,1 0,-3A3,3 0 0,1 3,0Z\" style=\"opacity: 1; stroke-width: 0px; fill: rgb(31, 119, 180); fill-opacity: 1;\"/><path class=\"point\" transform=\"translate(70.08,136.47)\" d=\"M3,0A3,3 0 1,1 0,-3A3,3 0 0,1 3,0Z\" style=\"opacity: 1; stroke-width: 0px; fill: rgb(31, 119, 180); fill-opacity: 1;\"/><path class=\"point\" transform=\"translate(62.78,139.06)\" d=\"M3,0A3,3 0 1,1 0,-3A3,3 0 0,1 3,0Z\" style=\"opacity: 1; stroke-width: 0px; fill: rgb(31, 119, 180); fill-opacity: 1;\"/><path class=\"point\" transform=\"translate(42.34,148.45)\" d=\"M3,0A3,3 0 1,1 0,-3A3,3 0 0,1 3,0Z\" style=\"opacity: 1; stroke-width: 0px; fill: rgb(31, 119, 180); fill-opacity: 1;\"/><path class=\"point\" transform=\"translate(51.1,149.81)\" d=\"M3,0A3,3 0 1,1 0,-3A3,3 0 0,1 3,0Z\" style=\"opacity: 1; stroke-width: 0px; fill: rgb(31, 119, 180); fill-opacity: 1;\"/><path class=\"point\" transform=\"translate(46.72,153.4)\" d=\"M3,0A3,3 0 1,1 0,-3A3,3 0 0,1 3,0Z\" style=\"opacity: 1; stroke-width: 0px; fill: rgb(31, 119, 180); fill-opacity: 1;\"/><path class=\"point\" transform=\"translate(58.4,143.1)\" d=\"M3,0A3,3 0 1,1 0,-3A3,3 0 0,1 3,0Z\" style=\"opacity: 1; stroke-width: 0px; fill: rgb(31, 119, 180); fill-opacity: 1;\"/><path class=\"point\" transform=\"translate(65.7,139.04)\" d=\"M3,0A3,3 0 1,1 0,-3A3,3 0 0,1 3,0Z\" style=\"opacity: 1; stroke-width: 0px; fill: rgb(31, 119, 180); fill-opacity: 1;\"/><path class=\"point\" transform=\"translate(109.5,113.13)\" d=\"M3,0A3,3 0 1,1 0,-3A3,3 0 0,1 3,0Z\" style=\"opacity: 1; stroke-width: 0px; fill: rgb(31, 119, 180); fill-opacity: 1;\"/><path class=\"point\" transform=\"translate(236.52,23.26)\" d=\"M3,0A3,3 0 1,1 0,-3A3,3 0 0,1 3,0Z\" style=\"opacity: 1; stroke-width: 0px; fill: rgb(31, 119, 180); fill-opacity: 1;\"/><path class=\"point\" transform=\"translate(35.04,155.16)\" d=\"M3,0A3,3 0 1,1 0,-3A3,3 0 0,1 3,0Z\" style=\"opacity: 1; stroke-width: 0px; fill: rgb(31, 119, 180); fill-opacity: 1;\"/><path class=\"point\" transform=\"translate(29.2,158.54)\" d=\"M3,0A3,3 0 1,1 0,-3A3,3 0 0,1 3,0Z\" style=\"opacity: 1; stroke-width: 0px; fill: rgb(31, 119, 180); fill-opacity: 1;\"/><path class=\"point\" transform=\"translate(40.88,154)\" d=\"M3,0A3,3 0 1,1 0,-3A3,3 0 0,1 3,0Z\" style=\"opacity: 1; stroke-width: 0px; fill: rgb(31, 119, 180); fill-opacity: 1;\"/><path class=\"point\" transform=\"translate(58.4,152.91)\" d=\"M3,0A3,3 0 1,1 0,-3A3,3 0 0,1 3,0Z\" style=\"opacity: 1; stroke-width: 0px; fill: rgb(31, 119, 180); fill-opacity: 1;\"/><path class=\"point\" transform=\"translate(83.22,117.59)\" d=\"M3,0A3,3 0 1,1 0,-3A3,3 0 0,1 3,0Z\" style=\"opacity: 1; stroke-width: 0px; fill: rgb(31, 119, 180); fill-opacity: 1;\"/><path class=\"point\" transform=\"translate(862.86,-321.29)\" d=\"M3,0A3,3 0 1,1 0,-3A3,3 0 0,1 3,0Z\" style=\"opacity: 1; stroke-width: 0px; fill: rgb(31, 119, 180); fill-opacity: 1;\"/><path class=\"point\" transform=\"translate(576.7,-160.3)\" d=\"M3,0A3,3 0 1,1 0,-3A3,3 0 0,1 3,0Z\" style=\"opacity: 1; stroke-width: 0px; fill: rgb(31, 119, 180); fill-opacity: 1;\"/><path class=\"point\" transform=\"translate(769.42,-250.63)\" d=\"M3,0A3,3 0 1,1 0,-3A3,3 0 0,1 3,0Z\" style=\"opacity: 1; stroke-width: 0px; fill: rgb(31, 119, 180); fill-opacity: 1;\"/><path class=\"point\" transform=\"translate(876,-284.04)\" d=\"M3,0A3,3 0 1,1 0,-3A3,3 0 0,1 3,0Z\" style=\"opacity: 1; stroke-width: 0px; fill: rgb(31, 119, 180); fill-opacity: 1;\"/><path class=\"point\" transform=\"translate(121.18,97.41)\" d=\"M3,0A3,3 0 1,1 0,-3A3,3 0 0,1 3,0Z\" style=\"opacity: 1; stroke-width: 0px; fill: rgb(31, 119, 180); fill-opacity: 1;\"/><path class=\"point\" transform=\"translate(70.08,134.29)\" d=\"M3,0A3,3 0 1,1 0,-3A3,3 0 0,1 3,0Z\" style=\"opacity: 1; stroke-width: 0px; fill: rgb(31, 119, 180); fill-opacity: 1;\"/><path class=\"point\" transform=\"translate(65.7,137.62)\" d=\"M3,0A3,3 0 1,1 0,-3A3,3 0 0,1 3,0Z\" style=\"opacity: 1; stroke-width: 0px; fill: rgb(31, 119, 180); fill-opacity: 1;\"/><path class=\"point\" transform=\"translate(83.22,134.53)\" d=\"M3,0A3,3 0 1,1 0,-3A3,3 0 0,1 3,0Z\" style=\"opacity: 1; stroke-width: 0px; fill: rgb(31, 119, 180); fill-opacity: 1;\"/><path class=\"point\" transform=\"translate(32.12,154.31)\" d=\"M3,0A3,3 0 1,1 0,-3A3,3 0 0,1 3,0Z\" style=\"opacity: 1; stroke-width: 0px; fill: rgb(31, 119, 180); fill-opacity: 1;\"/><path class=\"point\" transform=\"translate(40.88,151.12)\" d=\"M3,0A3,3 0 1,1 0,-3A3,3 0 0,1 3,0Z\" style=\"opacity: 1; stroke-width: 0px; fill: rgb(31, 119, 180); fill-opacity: 1;\"/><path class=\"point\" transform=\"translate(33.58,150.28)\" d=\"M3,0A3,3 0 1,1 0,-3A3,3 0 0,1 3,0Z\" style=\"opacity: 1; stroke-width: 0px; fill: rgb(31, 119, 180); fill-opacity: 1;\"/><path class=\"point\" transform=\"translate(11.68,161.71)\" d=\"M3,0A3,3 0 1,1 0,-3A3,3 0 0,1 3,0Z\" style=\"opacity: 1; stroke-width: 0px; fill: rgb(31, 119, 180); fill-opacity: 1;\"/><path class=\"point\" transform=\"translate(23.36,158.93)\" d=\"M3,0A3,3 0 1,1 0,-3A3,3 0 0,1 3,0Z\" style=\"opacity: 1; stroke-width: 0px; fill: rgb(31, 119, 180); fill-opacity: 1;\"/><path class=\"point\" transform=\"translate(23.36,158.54)\" d=\"M3,0A3,3 0 1,1 0,-3A3,3 0 0,1 3,0Z\" style=\"opacity: 1; stroke-width: 0px; fill: rgb(31, 119, 180); fill-opacity: 1;\"/><path class=\"point\" transform=\"translate(39.42,154.46)\" d=\"M3,0A3,3 0 1,1 0,-3A3,3 0 0,1 3,0Z\" style=\"opacity: 1; stroke-width: 0px; fill: rgb(31, 119, 180); fill-opacity: 1;\"/><path class=\"point\" transform=\"translate(61.32,148.36)\" d=\"M3,0A3,3 0 1,1 0,-3A3,3 0 0,1 3,0Z\" style=\"opacity: 1; stroke-width: 0px; fill: rgb(31, 119, 180); fill-opacity: 1;\"/><path class=\"point\" transform=\"translate(52.56,146.9)\" d=\"M3,0A3,3 0 1,1 0,-3A3,3 0 0,1 3,0Z\" style=\"opacity: 1; stroke-width: 0px; fill: rgb(31, 119, 180); fill-opacity: 1;\"/><path class=\"point\" transform=\"translate(91.98,130.98)\" d=\"M3,0A3,3 0 1,1 0,-3A3,3 0 0,1 3,0Z\" style=\"opacity: 1; stroke-width: 0px; fill: rgb(31, 119, 180); fill-opacity: 1;\"/><path class=\"point\" transform=\"translate(110.96,120.07)\" d=\"M3,0A3,3 0 1,1 0,-3A3,3 0 0,1 3,0Z\" style=\"opacity: 1; stroke-width: 0px; fill: rgb(31, 119, 180); fill-opacity: 1;\"/><path class=\"point\" transform=\"translate(74.46,136.84)\" d=\"M3,0A3,3 0 1,1 0,-3A3,3 0 0,1 3,0Z\" style=\"opacity: 1; stroke-width: 0px; fill: rgb(31, 119, 180); fill-opacity: 1;\"/><path class=\"point\" transform=\"translate(54.02,150)\" d=\"M3,0A3,3 0 1,1 0,-3A3,3 0 0,1 3,0Z\" style=\"opacity: 1; stroke-width: 0px; fill: rgb(31, 119, 180); fill-opacity: 1;\"/><path class=\"point\" transform=\"translate(56.94,150.23)\" d=\"M3,0A3,3 0 1,1 0,-3A3,3 0 0,1 3,0Z\" style=\"opacity: 1; stroke-width: 0px; fill: rgb(31, 119, 180); fill-opacity: 1;\"/><path class=\"point\" transform=\"translate(54.02,147.3)\" d=\"M3,0A3,3 0 1,1 0,-3A3,3 0 0,1 3,0Z\" style=\"opacity: 1; stroke-width: 0px; fill: rgb(31, 119, 180); fill-opacity: 1;\"/><path class=\"point\" transform=\"translate(43.8,151.49)\" d=\"M3,0A3,3 0 1,1 0,-3A3,3 0 0,1 3,0Z\" style=\"opacity: 1; stroke-width: 0px; fill: rgb(31, 119, 180); fill-opacity: 1;\"/><path class=\"point\" transform=\"translate(61.32,148.98)\" d=\"M3,0A3,3 0 1,1 0,-3A3,3 0 0,1 3,0Z\" style=\"opacity: 1; stroke-width: 0px; fill: rgb(31, 119, 180); fill-opacity: 1;\"/><path class=\"point\" transform=\"translate(80.3,138.79)\" d=\"M3,0A3,3 0 1,1 0,-3A3,3 0 0,1 3,0Z\" style=\"opacity: 1; stroke-width: 0px; fill: rgb(31, 119, 180); fill-opacity: 1;\"/><path class=\"point\" transform=\"translate(172.28,84.61)\" d=\"M3,0A3,3 0 1,1 0,-3A3,3 0 0,1 3,0Z\" style=\"opacity: 1; stroke-width: 0px; fill: rgb(31, 119, 180); fill-opacity: 1;\"/><path class=\"point\" transform=\"translate(97.82,129.37)\" d=\"M3,0A3,3 0 1,1 0,-3A3,3 0 0,1 3,0Z\" style=\"opacity: 1; stroke-width: 0px; fill: rgb(31, 119, 180); fill-opacity: 1;\"/><path class=\"point\" transform=\"translate(73,148.08)\" d=\"M3,0A3,3 0 1,1 0,-3A3,3 0 0,1 3,0Z\" style=\"opacity: 1; stroke-width: 0px; fill: rgb(31, 119, 180); fill-opacity: 1;\"/><path class=\"point\" transform=\"translate(52.56,154.54)\" d=\"M3,0A3,3 0 1,1 0,-3A3,3 0 0,1 3,0Z\" style=\"opacity: 1; stroke-width: 0px; fill: rgb(31, 119, 180); fill-opacity: 1;\"/><path class=\"point\" transform=\"translate(43.8,154.84)\" d=\"M3,0A3,3 0 1,1 0,-3A3,3 0 0,1 3,0Z\" style=\"opacity: 1; stroke-width: 0px; fill: rgb(31, 119, 180); fill-opacity: 1;\"/><path class=\"point\" transform=\"translate(67.16,147.66)\" d=\"M3,0A3,3 0 1,1 0,-3A3,3 0 0,1 3,0Z\" style=\"opacity: 1; stroke-width: 0px; fill: rgb(31, 119, 180); fill-opacity: 1;\"/><path class=\"point\" transform=\"translate(94.9,134.56)\" d=\"M3,0A3,3 0 1,1 0,-3A3,3 0 0,1 3,0Z\" style=\"opacity: 1; stroke-width: 0px; fill: rgb(31, 119, 180); fill-opacity: 1;\"/><path class=\"point\" transform=\"translate(100.74,133.47)\" d=\"M3,0A3,3 0 1,1 0,-3A3,3 0 0,1 3,0Z\" style=\"opacity: 1; stroke-width: 0px; fill: rgb(31, 119, 180); fill-opacity: 1;\"/><path class=\"point\" transform=\"translate(58.4,151.25)\" d=\"M3,0A3,3 0 1,1 0,-3A3,3 0 0,1 3,0Z\" style=\"opacity: 1; stroke-width: 0px; fill: rgb(31, 119, 180); fill-opacity: 1;\"/><path class=\"point\" transform=\"translate(97.82,136.39)\" d=\"M3,0A3,3 0 1,1 0,-3A3,3 0 0,1 3,0Z\" style=\"opacity: 1; stroke-width: 0px; fill: rgb(31, 119, 180); fill-opacity: 1;\"/><path class=\"point\" transform=\"translate(61.32,143.79)\" d=\"M3,0A3,3 0 1,1 0,-3A3,3 0 0,1 3,0Z\" style=\"opacity: 1; stroke-width: 0px; fill: rgb(31, 119, 180); fill-opacity: 1;\"/><path class=\"point\" transform=\"translate(46.72,151.8)\" d=\"M3,0A3,3 0 1,1 0,-3A3,3 0 0,1 3,0Z\" style=\"opacity: 1; stroke-width: 0px; fill: rgb(31, 119, 180); fill-opacity: 1;\"/><path class=\"point\" transform=\"translate(65.7,153.33)\" d=\"M3,0A3,3 0 1,1 0,-3A3,3 0 0,1 3,0Z\" style=\"opacity: 1; stroke-width: 0px; fill: rgb(31, 119, 180); fill-opacity: 1;\"/><path class=\"point\" transform=\"translate(182.5,92.22)\" d=\"M3,0A3,3 0 1,1 0,-3A3,3 0 0,1 3,0Z\" style=\"opacity: 1; stroke-width: 0px; fill: rgb(31, 119, 180); fill-opacity: 1;\"/><path class=\"point\" transform=\"translate(227.76,46.16)\" d=\"M3,0A3,3 0 1,1 0,-3A3,3 0 0,1 3,0Z\" style=\"opacity: 1; stroke-width: 0px; fill: rgb(31, 119, 180); fill-opacity: 1;\"/><path class=\"point\" transform=\"translate(175.2,71.9)\" d=\"M3,0A3,3 0 1,1 0,-3A3,3 0 0,1 3,0Z\" style=\"opacity: 1; stroke-width: 0px; fill: rgb(31, 119, 180); fill-opacity: 1;\"/><path class=\"point\" transform=\"translate(80.3,137.47)\" d=\"M3,0A3,3 0 1,1 0,-3A3,3 0 0,1 3,0Z\" style=\"opacity: 1; stroke-width: 0px; fill: rgb(31, 119, 180); fill-opacity: 1;\"/><path class=\"point\" transform=\"translate(39.42,154.46)\" d=\"M3,0A3,3 0 1,1 0,-3A3,3 0 0,1 3,0Z\" style=\"opacity: 1; stroke-width: 0px; fill: rgb(31, 119, 180); fill-opacity: 1;\"/><path class=\"point\" transform=\"translate(23.36,153.82)\" d=\"M3,0A3,3 0 1,1 0,-3A3,3 0 0,1 3,0Z\" style=\"opacity: 1; stroke-width: 0px; fill: rgb(31, 119, 180); fill-opacity: 1;\"/><path class=\"point\" transform=\"translate(37.96,156.68)\" d=\"M3,0A3,3 0 1,1 0,-3A3,3 0 0,1 3,0Z\" style=\"opacity: 1; stroke-width: 0px; fill: rgb(31, 119, 180); fill-opacity: 1;\"/><path class=\"point\" transform=\"translate(10.22,162.24)\" d=\"M3,0A3,3 0 1,1 0,-3A3,3 0 0,1 3,0Z\" style=\"opacity: 1; stroke-width: 0px; fill: rgb(31, 119, 180); fill-opacity: 1;\"/><path class=\"point\" transform=\"translate(33.58,154.3)\" d=\"M3,0A3,3 0 1,1 0,-3A3,3 0 0,1 3,0Z\" style=\"opacity: 1; stroke-width: 0px; fill: rgb(31, 119, 180); fill-opacity: 1;\"/><path class=\"point\" transform=\"translate(67.16,147.52)\" d=\"M3,0A3,3 0 1,1 0,-3A3,3 0 0,1 3,0Z\" style=\"opacity: 1; stroke-width: 0px; fill: rgb(31, 119, 180); fill-opacity: 1;\"/><path class=\"point\" transform=\"translate(51.1,152.16)\" d=\"M3,0A3,3 0 1,1 0,-3A3,3 0 0,1 3,0Z\" style=\"opacity: 1; stroke-width: 0px; fill: rgb(31, 119, 180); fill-opacity: 1;\"/><path class=\"point\" transform=\"translate(17.52,157.97)\" d=\"M3,0A3,3 0 1,1 0,-3A3,3 0 0,1 3,0Z\" style=\"opacity: 1; stroke-width: 0px; fill: rgb(31, 119, 180); fill-opacity: 1;\"/><path class=\"point\" transform=\"translate(24.82,158.39)\" d=\"M3,0A3,3 0 1,1 0,-3A3,3 0 0,1 3,0Z\" style=\"opacity: 1; stroke-width: 0px; fill: rgb(31, 119, 180); fill-opacity: 1;\"/><path class=\"point\" transform=\"translate(67.16,147.02)\" d=\"M3,0A3,3 0 1,1 0,-3A3,3 0 0,1 3,0Z\" style=\"opacity: 1; stroke-width: 0px; fill: rgb(31, 119, 180); fill-opacity: 1;\"/><path class=\"point\" transform=\"translate(70.08,148.28)\" d=\"M3,0A3,3 0 1,1 0,-3A3,3 0 0,1 3,0Z\" style=\"opacity: 1; stroke-width: 0px; fill: rgb(31, 119, 180); fill-opacity: 1;\"/><path class=\"point\" transform=\"translate(62.78,149.01)\" d=\"M3,0A3,3 0 1,1 0,-3A3,3 0 0,1 3,0Z\" style=\"opacity: 1; stroke-width: 0px; fill: rgb(31, 119, 180); fill-opacity: 1;\"/><path class=\"point\" transform=\"translate(35.04,155.14)\" d=\"M3,0A3,3 0 1,1 0,-3A3,3 0 0,1 3,0Z\" style=\"opacity: 1; stroke-width: 0px; fill: rgb(31, 119, 180); fill-opacity: 1;\"/><path class=\"point\" transform=\"translate(64.24,152.91)\" d=\"M3,0A3,3 0 1,1 0,-3A3,3 0 0,1 3,0Z\" style=\"opacity: 1; stroke-width: 0px; fill: rgb(31, 119, 180); fill-opacity: 1;\"/><path class=\"point\" transform=\"translate(58.4,150.25)\" d=\"M3,0A3,3 0 1,1 0,-3A3,3 0 0,1 3,0Z\" style=\"opacity: 1; stroke-width: 0px; fill: rgb(31, 119, 180); fill-opacity: 1;\"/><path class=\"point\" transform=\"translate(64.24,149.15)\" d=\"M3,0A3,3 0 1,1 0,-3A3,3 0 0,1 3,0Z\" style=\"opacity: 1; stroke-width: 0px; fill: rgb(31, 119, 180); fill-opacity: 1;\"/><path class=\"point\" transform=\"translate(37.96,153.14)\" d=\"M3,0A3,3 0 1,1 0,-3A3,3 0 0,1 3,0Z\" style=\"opacity: 1; stroke-width: 0px; fill: rgb(31, 119, 180); fill-opacity: 1;\"/><path class=\"point\" transform=\"translate(32.12,160.36)\" d=\"M3,0A3,3 0 1,1 0,-3A3,3 0 0,1 3,0Z\" style=\"opacity: 1; stroke-width: 0px; fill: rgb(31, 119, 180); fill-opacity: 1;\"/><path class=\"point\" transform=\"translate(54.02,153.64)\" d=\"M3,0A3,3 0 1,1 0,-3A3,3 0 0,1 3,0Z\" style=\"opacity: 1; stroke-width: 0px; fill: rgb(31, 119, 180); fill-opacity: 1;\"/><path class=\"point\" transform=\"translate(33.58,152.3)\" d=\"M3,0A3,3 0 1,1 0,-3A3,3 0 0,1 3,0Z\" style=\"opacity: 1; stroke-width: 0px; fill: rgb(31, 119, 180); fill-opacity: 1;\"/><path class=\"point\" transform=\"translate(49.64,153.43)\" d=\"M3,0A3,3 0 1,1 0,-3A3,3 0 0,1 3,0Z\" style=\"opacity: 1; stroke-width: 0px; fill: rgb(31, 119, 180); fill-opacity: 1;\"/><path class=\"point\" transform=\"translate(5.84,152.68)\" d=\"M3,0A3,3 0 1,1 0,-3A3,3 0 0,1 3,0Z\" style=\"opacity: 1; stroke-width: 0px; fill: rgb(31, 119, 180); fill-opacity: 1;\"/><path class=\"point\" transform=\"translate(33.58,158.54)\" d=\"M3,0A3,3 0 1,1 0,-3A3,3 0 0,1 3,0Z\" style=\"opacity: 1; stroke-width: 0px; fill: rgb(31, 119, 180); fill-opacity: 1;\"/><path class=\"point\" transform=\"translate(87.6,136.47)\" d=\"M3,0A3,3 0 1,1 0,-3A3,3 0 0,1 3,0Z\" style=\"opacity: 1; stroke-width: 0px; fill: rgb(31, 119, 180); fill-opacity: 1;\"/><path class=\"point\" transform=\"translate(43.8,157.03)\" d=\"M3,0A3,3 0 1,1 0,-3A3,3 0 0,1 3,0Z\" style=\"opacity: 1; stroke-width: 0px; fill: rgb(31, 119, 180); fill-opacity: 1;\"/><path class=\"point\" transform=\"translate(58.4,143.1)\" d=\"M3,0A3,3 0 1,1 0,-3A3,3 0 0,1 3,0Z\" style=\"opacity: 1; stroke-width: 0px; fill: rgb(31, 119, 180); fill-opacity: 1;\"/><path class=\"point\" transform=\"translate(236.52,23.26)\" d=\"M3,0A3,3 0 1,1 0,-3A3,3 0 0,1 3,0Z\" style=\"opacity: 1; stroke-width: 0px; fill: rgb(31, 119, 180); fill-opacity: 1;\"/><path class=\"point\" transform=\"translate(779.64,-250.63)\" d=\"M3,0A3,3 0 1,1 0,-3A3,3 0 0,1 3,0Z\" style=\"opacity: 1; stroke-width: 0px; fill: rgb(31, 119, 180); fill-opacity: 1;\"/><path class=\"point\" transform=\"translate(74.46,134.29)\" d=\"M3,0A3,3 0 1,1 0,-3A3,3 0 0,1 3,0Z\" style=\"opacity: 1; stroke-width: 0px; fill: rgb(31, 119, 180); fill-opacity: 1;\"/><path class=\"point\" transform=\"translate(30.66,154.31)\" d=\"M3,0A3,3 0 1,1 0,-3A3,3 0 0,1 3,0Z\" style=\"opacity: 1; stroke-width: 0px; fill: rgb(31, 119, 180); fill-opacity: 1;\"/><path class=\"point\" transform=\"translate(20.44,161.71)\" d=\"M3,0A3,3 0 1,1 0,-3A3,3 0 0,1 3,0Z\" style=\"opacity: 1; stroke-width: 0px; fill: rgb(31, 119, 180); fill-opacity: 1;\"/><path class=\"point\" transform=\"translate(62.78,148.36)\" d=\"M3,0A3,3 0 1,1 0,-3A3,3 0 0,1 3,0Z\" style=\"opacity: 1; stroke-width: 0px; fill: rgb(31, 119, 180); fill-opacity: 1;\"/><path class=\"point\" transform=\"translate(99.28,130.98)\" d=\"M3,0A3,3 0 1,1 0,-3A3,3 0 0,1 3,0Z\" style=\"opacity: 1; stroke-width: 0px; fill: rgb(31, 119, 180); fill-opacity: 1;\"/><path class=\"point\" transform=\"translate(58.4,150)\" d=\"M3,0A3,3 0 1,1 0,-3A3,3 0 0,1 3,0Z\" style=\"opacity: 1; stroke-width: 0px; fill: rgb(31, 119, 180); fill-opacity: 1;\"/><path class=\"point\" transform=\"translate(40.88,151.49)\" d=\"M3,0A3,3 0 1,1 0,-3A3,3 0 0,1 3,0Z\" style=\"opacity: 1; stroke-width: 0px; fill: rgb(31, 119, 180); fill-opacity: 1;\"/><path class=\"point\" transform=\"translate(175.2,84.61)\" d=\"M3,0A3,3 0 1,1 0,-3A3,3 0 0,1 3,0Z\" style=\"opacity: 1; stroke-width: 0px; fill: rgb(31, 119, 180); fill-opacity: 1;\"/><path class=\"point\" transform=\"translate(45.26,154.84)\" d=\"M3,0A3,3 0 1,1 0,-3A3,3 0 0,1 3,0Z\" style=\"opacity: 1; stroke-width: 0px; fill: rgb(31, 119, 180); fill-opacity: 1;\"/><path class=\"point\" transform=\"translate(100.74,133.47)\" d=\"M3,0A3,3 0 1,1 0,-3A3,3 0 0,1 3,0Z\" style=\"opacity: 1; stroke-width: 0px; fill: rgb(31, 119, 180); fill-opacity: 1;\"/><path class=\"point\" transform=\"translate(93.44,136.39)\" d=\"M3,0A3,3 0 1,1 0,-3A3,3 0 0,1 3,0Z\" style=\"opacity: 1; stroke-width: 0px; fill: rgb(31, 119, 180); fill-opacity: 1;\"/><path class=\"point\" transform=\"translate(179.58,71.9)\" d=\"M3,0A3,3 0 1,1 0,-3A3,3 0 0,1 3,0Z\" style=\"opacity: 1; stroke-width: 0px; fill: rgb(31, 119, 180); fill-opacity: 1;\"/><path class=\"point\" transform=\"translate(7.3,162.24)\" d=\"M3,0A3,3 0 1,1 0,-3A3,3 0 0,1 3,0Z\" style=\"opacity: 1; stroke-width: 0px; fill: rgb(31, 119, 180); fill-opacity: 1;\"/><path class=\"point\" transform=\"translate(21.9,157.97)\" d=\"M3,0A3,3 0 1,1 0,-3A3,3 0 0,1 3,0Z\" style=\"opacity: 1; stroke-width: 0px; fill: rgb(31, 119, 180); fill-opacity: 1;\"/><path class=\"point\" transform=\"translate(58.4,147.02)\" d=\"M3,0A3,3 0 1,1 0,-3A3,3 0 0,1 3,0Z\" style=\"opacity: 1; stroke-width: 0px; fill: rgb(31, 119, 180); fill-opacity: 1;\"/><path class=\"point\" transform=\"translate(27.74,155.14)\" d=\"M3,0A3,3 0 1,1 0,-3A3,3 0 0,1 3,0Z\" style=\"opacity: 1; stroke-width: 0px; fill: rgb(31, 119, 180); fill-opacity: 1;\"/></g><g class=\"text\"/></g><g class=\"trace scatter trace179b20\" style=\"stroke-miterlimit: 2; opacity: 1;\"><g class=\"fills\"/><g class=\"errorbars\"/><g class=\"lines\"><path class=\"js-line\" d=\"M5.84,174.77L876,-309\" style=\"vector-effect: non-scaling-stroke; fill: none; stroke: rgb(255, 127, 14); stroke-opacity: 1; stroke-width: 2px; opacity: 1;\"/></g><g class=\"points\"/><g class=\"text\"/></g></g></g><g class=\"overplot\"/><path class=\"xlines-above crisp\" d=\"M56,191.5H349\" style=\"fill: none; stroke-width: 1px; stroke: rgb(36, 36, 36); stroke-opacity: 1;\"/><path class=\"ylines-above crisp\" d=\"M56.5,10V191\" style=\"fill: none; stroke-width: 1px; stroke: rgb(36, 36, 36); stroke-opacity: 1;\"/><g class=\"overlines-above\"/><g class=\"xaxislayer-above\"><path class=\"xtick ticks crisp\" d=\"M0,192v5\" transform=\"translate(57,0)\" style=\"stroke: rgb(68, 68, 68); stroke-opacity: 1; stroke-width: 1px;\"/><path class=\"xtick ticks crisp\" d=\"M0,192v5\" transform=\"translate(130,0)\" style=\"stroke: rgb(68, 68, 68); stroke-opacity: 1; stroke-width: 1px;\"/><path class=\"xtick ticks crisp\" d=\"M0,192v5\" transform=\"translate(203,0)\" style=\"stroke: rgb(68, 68, 68); stroke-opacity: 1; stroke-width: 1px;\"/><path class=\"xtick ticks crisp\" d=\"M0,192v5\" transform=\"translate(276,0)\" style=\"stroke: rgb(68, 68, 68); stroke-opacity: 1; stroke-width: 1px;\"/><path class=\"xtick ticks crisp\" d=\"M0,192v5\" transform=\"translate(349,0)\" style=\"stroke: rgb(68, 68, 68); stroke-opacity: 1; stroke-width: 1px;\"/><g class=\"xtick\"><text text-anchor=\"middle\" x=\"0\" y=\"211.4\" transform=\"translate(57,0)\" style=\"font-family: 'Open Sans', verdana, arial, sans-serif; font-size: 12px; fill: rgb(36, 36, 36); fill-opacity: 1; white-space: pre; opacity: 1;\">0</text></g><g class=\"xtick\"><text text-anchor=\"middle\" x=\"0\" y=\"211.4\" style=\"font-family: 'Open Sans', verdana, arial, sans-serif; font-size: 12px; fill: rgb(36, 36, 36); fill-opacity: 1; white-space: pre; opacity: 1;\" transform=\"translate(130,0)\">5</text></g><g class=\"xtick\"><text text-anchor=\"middle\" x=\"0\" y=\"211.4\" style=\"font-family: 'Open Sans', verdana, arial, sans-serif; font-size: 12px; fill: rgb(36, 36, 36); fill-opacity: 1; white-space: pre; opacity: 1;\" transform=\"translate(203,0)\">10</text></g><g class=\"xtick\"><text text-anchor=\"middle\" x=\"0\" y=\"211.4\" style=\"font-family: 'Open Sans', verdana, arial, sans-serif; font-size: 12px; fill: rgb(36, 36, 36); fill-opacity: 1; white-space: pre; opacity: 1;\" transform=\"translate(276,0)\">15</text></g><g class=\"xtick\"><text text-anchor=\"middle\" x=\"0\" y=\"211.4\" style=\"font-family: 'Open Sans', verdana, arial, sans-serif; font-size: 12px; fill: rgb(36, 36, 36); fill-opacity: 1; white-space: pre; opacity: 1;\" transform=\"translate(349,0)\">20</text></g></g><g class=\"yaxislayer-above\"><path class=\"ytick ticks crisp\" d=\"M56,0h-5\" transform=\"translate(0,172.9)\" style=\"stroke: rgb(68, 68, 68); stroke-opacity: 1; stroke-width: 1px;\"/><path class=\"ytick ticks crisp\" d=\"M56,0h-5\" transform=\"translate(0,136.7)\" style=\"stroke: rgb(68, 68, 68); stroke-opacity: 1; stroke-width: 1px;\"/><path class=\"ytick ticks crisp\" d=\"M56,0h-5\" transform=\"translate(0,100.5)\" style=\"stroke: rgb(68, 68, 68); stroke-opacity: 1; stroke-width: 1px;\"/><path class=\"ytick ticks crisp\" d=\"M56,0h-5\" transform=\"translate(0,64.3)\" style=\"stroke: rgb(68, 68, 68); stroke-opacity: 1; stroke-width: 1px;\"/><path class=\"ytick ticks crisp\" d=\"M56,0h-5\" transform=\"translate(0,28.1)\" style=\"stroke: rgb(68, 68, 68); stroke-opacity: 1; stroke-width: 1px;\"/><g class=\"ytick\"><text text-anchor=\"end\" x=\"48.6\" y=\"4.199999999999999\" transform=\"translate(0,172.9)\" style=\"font-family: 'Open Sans', verdana, arial, sans-serif; font-size: 12px; fill: rgb(36, 36, 36); fill-opacity: 1; white-space: pre; opacity: 1;\">0</text></g><g class=\"ytick\"><text text-anchor=\"end\" x=\"48.6\" y=\"4.199999999999999\" style=\"font-family: 'Open Sans', verdana, arial, sans-serif; font-size: 12px; fill: rgb(36, 36, 36); fill-opacity: 1; white-space: pre; opacity: 1;\" transform=\"translate(0,136.7)\">10</text></g><g class=\"ytick\"><text text-anchor=\"end\" x=\"48.6\" y=\"4.199999999999999\" style=\"font-family: 'Open Sans', verdana, arial, sans-serif; font-size: 12px; fill: rgb(36, 36, 36); fill-opacity: 1; white-space: pre; opacity: 1;\" transform=\"translate(0,100.5)\">20</text></g><g class=\"ytick\"><text text-anchor=\"end\" x=\"48.6\" y=\"4.199999999999999\" style=\"font-family: 'Open Sans', verdana, arial, sans-serif; font-size: 12px; fill: rgb(36, 36, 36); fill-opacity: 1; white-space: pre; opacity: 1;\" transform=\"translate(0,64.3)\">30</text></g><g class=\"ytick\"><text text-anchor=\"end\" x=\"48.6\" y=\"4.199999999999999\" style=\"font-family: 'Open Sans', verdana, arial, sans-serif; font-size: 12px; fill: rgb(36, 36, 36); fill-opacity: 1; white-space: pre; opacity: 1;\" transform=\"translate(0,28.1)\">40</text></g></g><g class=\"overaxes-above\"/></g></g><g class=\"polarlayer\"/><g class=\"smithlayer\"/><g class=\"ternarylayer\"/><g class=\"geolayer\"/><g class=\"funnelarealayer\"/><g class=\"pielayer\"/><g class=\"iciclelayer\"/><g class=\"treemaplayer\"/><g class=\"sunburstlayer\"/><g class=\"glimages\"/><defs id=\"topdefs-761bfa\"><g class=\"clips\"/><clipPath id=\"legend761bfa\"><rect width=\"85\" height=\"29\" x=\"0\" y=\"0\"/></clipPath></defs><g class=\"layer-above\"><g class=\"imagelayer\"/><g class=\"shapelayer\"/></g><g class=\"infolayer\"><g class=\"legend\" pointer-events=\"all\" transform=\"translate(354.84000000000003,10)\"><rect class=\"bg\" shape-rendering=\"crispEdges\" width=\"85\" height=\"29\" x=\"0\" y=\"0\" style=\"stroke: rgb(68, 68, 68); stroke-opacity: 1; fill: rgb(255, 255, 255); fill-opacity: 1; stroke-width: 0px;\"/><g class=\"scrollbox\" transform=\"\" clip-path=\"url(#legend761bfa)\"><g class=\"groups\"><g class=\"traces\" transform=\"translate(0,14.5)\" style=\"opacity: 1;\"><text class=\"legendtext\" text-anchor=\"start\" x=\"40\" y=\"4.680000000000001\" style=\"font-family: 'Open Sans', verdana, arial, sans-serif; font-size: 12px; fill: rgb(36, 36, 36); fill-opacity: 1; white-space: pre;\">Predict</text><g class=\"layers\" style=\"opacity: 1;\"><g class=\"legendfill\"/><g class=\"legendlines\"><path class=\"js-line\" d=\"M5,0h30\" style=\"fill: none; stroke: rgb(255, 127, 14); stroke-opacity: 1; stroke-width: 2px;\"/></g><g class=\"legendsymbols\"><g class=\"legendpoints\"/></g></g><rect class=\"legendtoggle\" x=\"0\" y=\"-9.5\" width=\"79.203125\" height=\"19\" style=\"fill: rgb(0, 0, 0); fill-opacity: 0;\"/></g></g></g><rect class=\"scrollbar\" rx=\"20\" ry=\"3\" width=\"0\" height=\"0\" x=\"0\" y=\"0\" style=\"fill: rgb(128, 139, 164); fill-opacity: 1;\"/></g><g class=\"g-gtitle\"/><g class=\"g-xtitle\"><text class=\"xtitle\" x=\"203\" y=\"239.70625\" text-anchor=\"middle\" style=\"font-family: 'Open Sans', verdana, arial, sans-serif; font-size: 14px; fill: rgb(36, 36, 36); opacity: 1; font-weight: normal; white-space: pre;\">pm25aqs</text></g><g class=\"g-ytitle\" transform=\"translate(4.9248046875,0)\"><text class=\"ytitle\" transform=\"rotate(-90,10.075000000000003,100.5)\" x=\"10.075000000000003\" y=\"100.5\" text-anchor=\"middle\" style=\"font-family: 'Open Sans', verdana, arial, sans-serif; font-size: 14px; fill: rgb(36, 36, 36); opacity: 1; font-weight: normal; white-space: pre;\">pm25pa</text></g></g></svg>"
      ]
     },
     "metadata": {},
     "output_type": "display_data"
    }
   ],
   "source": [
    "fig = px.scatter(AK, x=\"pm25aqs\", y=\"pm25pa\",\n",
    "                 width=450, height=250)\n",
    "\n",
    "pred_x = np.array([AK[\"pm25aqs\"].min(), AK[\"pm25aqs\"].max()])\n",
    "pred_y = result.params[0] + result.params[1] * pred_x\n",
    "\n",
    "fig.update_xaxes(range=[0, 20])\n",
    "fig.update_yaxes(range=[-5, 45])\n",
    "\n",
    "\n",
    "fig.add_trace(go.Scatter(x=pred_x, \n",
    "                         y=pred_y, \n",
    "                         name='Predict', mode='lines'))\n",
    "fig"
   ]
  },
  {
   "cell_type": "markdown",
   "metadata": {},
   "source": [
    "So far, our model requires all of the predictor variables to be numeric.\n",
    "But categorical data is often useful for prediction as well.\n",
    "For example, the map below colors each state by its AUM.\n",
    "We can see that AUM varies between regions in the US---the southeast region\n",
    "of the US has much lower AUMs than the midwestern region.\n",
    "This suggests that including the region into our linear model can help \n",
    "with prediction."
   ]
  },
  {
   "cell_type": "code",
   "execution_count": 25,
   "metadata": {
    "tags": [
     "hide-input"
    ]
   },
   "outputs": [
    {
     "data": {
      "application/vnd.plotly.v1+json": {
       "config": {
        "plotlyServerURL": "https://plot.ly"
       },
       "data": [
        {
         "coloraxis": "coloraxis",
         "geo": "geo",
         "hovertemplate": "stateabbrv=%{location}<br>aum=%{z}<extra></extra>",
         "locationmode": "USA-states",
         "locations": [
          "AK",
          "AL",
          "AR",
          "AZ",
          "CA",
          "CO",
          "CT",
          "DC",
          "DE",
          "FL",
          "GA",
          "HI",
          "IA",
          "ID",
          "IL",
          "IN",
          "KS",
          "KY",
          "LA",
          "MA",
          "MD",
          "ME",
          "MI",
          "MN",
          "MO",
          "MS",
          "MT",
          "NC",
          "ND",
          "NE",
          "NH",
          "NJ",
          "NM",
          "NV",
          "NY",
          "OH",
          "OK",
          "OR",
          "PA",
          "RI",
          "SC",
          "SD",
          "TN",
          "TX",
          "UT",
          "VA",
          "VT",
          "WA",
          "WI",
          "WV",
          "WY"
         ],
         "name": "",
         "type": "choropleth",
         "z": [
          43.738594,
          38.77878521428572,
          40.57504166666667,
          40.107499399999995,
          43.0983055,
          46.681466866666675,
          42.44825,
          43.231,
          38.207,
          39.12656293749999,
          36.36241071428571,
          42.676937499999994,
          50.7702385,
          46.75669444444445,
          43.610222,
          41.035853058823534,
          49.364258699999986,
          40.72496414285714,
          41.609812749999996,
          43.003375500000004,
          40.813833666666675,
          41.79075,
          41.99329194444444,
          50.84376163636364,
          44.00729183333332,
          37.42848689473684,
          47.35164723529413,
          37.23138076190476,
          56.16907800000001,
          52.35863114285714,
          43.7102515,
          44.639624999999995,
          42.613942307692305,
          43.88875,
          43.59395883333334,
          40.39094141176469,
          45.80478125,
          43.68861553846154,
          45.43611515384616,
          43.368748,
          36.168219125,
          47.11337490000001,
          38.707802473684204,
          45.350833383333345,
          49.483374125,
          40.19648523529412,
          44.305750999999994,
          43.328520999999995,
          46.212650000000004,
          44.621775299999996,
          49.91768808333334
         ]
        }
       ],
       "layout": {
        "coloraxis": {
         "colorbar": {
          "title": {
           "text": "aum"
          }
         },
         "colorscale": [
          [
           0,
           "rgb(60, 9, 17)"
          ],
          [
           0.09090909090909091,
           "rgb(89, 13, 31)"
          ],
          [
           0.18181818181818182,
           "rgb(120, 14, 40)"
          ],
          [
           0.2727272727272727,
           "rgb(149, 19, 39)"
          ],
          [
           0.36363636363636365,
           "rgb(172, 44, 36)"
          ],
          [
           0.45454545454545453,
           "rgb(186, 74, 47)"
          ],
          [
           0.5454545454545454,
           "rgb(196, 102, 73)"
          ],
          [
           0.6363636363636364,
           "rgb(205, 129, 103)"
          ],
          [
           0.7272727272727273,
           "rgb(213, 156, 137)"
          ],
          [
           0.8181818181818182,
           "rgb(221, 182, 170)"
          ],
          [
           0.9090909090909091,
           "rgb(230, 209, 203)"
          ],
          [
           1,
           "rgb(241, 236, 236)"
          ]
         ]
        },
        "geo": {
         "center": {
          "lat": 35.7933302274067,
          "lon": -92.77064601906744
         },
         "domain": {
          "x": [
           0,
           1
          ],
          "y": [
           0,
           1
          ]
         },
         "projection": {
          "scale": 0.8705505632961242
         },
         "scope": "usa"
        },
        "height": 350,
        "legend": {
         "tracegroupgap": 0
        },
        "template": {
         "data": {
          "bar": [
           {
            "error_x": {
             "color": "rgb(36,36,36)"
            },
            "error_y": {
             "color": "rgb(36,36,36)"
            },
            "marker": {
             "line": {
              "color": "white",
              "width": 0.5
             },
             "pattern": {
              "fillmode": "overlay",
              "size": 10,
              "solidity": 0.2
             }
            },
            "type": "bar"
           }
          ],
          "barpolar": [
           {
            "marker": {
             "line": {
              "color": "white",
              "width": 0.5
             },
             "pattern": {
              "fillmode": "overlay",
              "size": 10,
              "solidity": 0.2
             }
            },
            "type": "barpolar"
           }
          ],
          "carpet": [
           {
            "aaxis": {
             "endlinecolor": "rgb(36,36,36)",
             "gridcolor": "white",
             "linecolor": "white",
             "minorgridcolor": "white",
             "startlinecolor": "rgb(36,36,36)"
            },
            "baxis": {
             "endlinecolor": "rgb(36,36,36)",
             "gridcolor": "white",
             "linecolor": "white",
             "minorgridcolor": "white",
             "startlinecolor": "rgb(36,36,36)"
            },
            "type": "carpet"
           }
          ],
          "choropleth": [
           {
            "colorbar": {
             "outlinewidth": 1,
             "tickcolor": "rgb(36,36,36)",
             "ticks": "outside"
            },
            "type": "choropleth"
           }
          ],
          "contour": [
           {
            "colorbar": {
             "outlinewidth": 1,
             "tickcolor": "rgb(36,36,36)",
             "ticks": "outside"
            },
            "colorscale": [
             [
              0,
              "#440154"
             ],
             [
              0.1111111111111111,
              "#482878"
             ],
             [
              0.2222222222222222,
              "#3e4989"
             ],
             [
              0.3333333333333333,
              "#31688e"
             ],
             [
              0.4444444444444444,
              "#26828e"
             ],
             [
              0.5555555555555556,
              "#1f9e89"
             ],
             [
              0.6666666666666666,
              "#35b779"
             ],
             [
              0.7777777777777778,
              "#6ece58"
             ],
             [
              0.8888888888888888,
              "#b5de2b"
             ],
             [
              1,
              "#fde725"
             ]
            ],
            "type": "contour"
           }
          ],
          "contourcarpet": [
           {
            "colorbar": {
             "outlinewidth": 1,
             "tickcolor": "rgb(36,36,36)",
             "ticks": "outside"
            },
            "type": "contourcarpet"
           }
          ],
          "heatmap": [
           {
            "colorbar": {
             "outlinewidth": 1,
             "tickcolor": "rgb(36,36,36)",
             "ticks": "outside"
            },
            "colorscale": [
             [
              0,
              "#440154"
             ],
             [
              0.1111111111111111,
              "#482878"
             ],
             [
              0.2222222222222222,
              "#3e4989"
             ],
             [
              0.3333333333333333,
              "#31688e"
             ],
             [
              0.4444444444444444,
              "#26828e"
             ],
             [
              0.5555555555555556,
              "#1f9e89"
             ],
             [
              0.6666666666666666,
              "#35b779"
             ],
             [
              0.7777777777777778,
              "#6ece58"
             ],
             [
              0.8888888888888888,
              "#b5de2b"
             ],
             [
              1,
              "#fde725"
             ]
            ],
            "type": "heatmap"
           }
          ],
          "heatmapgl": [
           {
            "colorbar": {
             "outlinewidth": 1,
             "tickcolor": "rgb(36,36,36)",
             "ticks": "outside"
            },
            "colorscale": [
             [
              0,
              "#440154"
             ],
             [
              0.1111111111111111,
              "#482878"
             ],
             [
              0.2222222222222222,
              "#3e4989"
             ],
             [
              0.3333333333333333,
              "#31688e"
             ],
             [
              0.4444444444444444,
              "#26828e"
             ],
             [
              0.5555555555555556,
              "#1f9e89"
             ],
             [
              0.6666666666666666,
              "#35b779"
             ],
             [
              0.7777777777777778,
              "#6ece58"
             ],
             [
              0.8888888888888888,
              "#b5de2b"
             ],
             [
              1,
              "#fde725"
             ]
            ],
            "type": "heatmapgl"
           }
          ],
          "histogram": [
           {
            "marker": {
             "line": {
              "color": "white",
              "width": 0.6
             }
            },
            "type": "histogram"
           }
          ],
          "histogram2d": [
           {
            "colorbar": {
             "outlinewidth": 1,
             "tickcolor": "rgb(36,36,36)",
             "ticks": "outside"
            },
            "colorscale": [
             [
              0,
              "#440154"
             ],
             [
              0.1111111111111111,
              "#482878"
             ],
             [
              0.2222222222222222,
              "#3e4989"
             ],
             [
              0.3333333333333333,
              "#31688e"
             ],
             [
              0.4444444444444444,
              "#26828e"
             ],
             [
              0.5555555555555556,
              "#1f9e89"
             ],
             [
              0.6666666666666666,
              "#35b779"
             ],
             [
              0.7777777777777778,
              "#6ece58"
             ],
             [
              0.8888888888888888,
              "#b5de2b"
             ],
             [
              1,
              "#fde725"
             ]
            ],
            "type": "histogram2d"
           }
          ],
          "histogram2dcontour": [
           {
            "colorbar": {
             "outlinewidth": 1,
             "tickcolor": "rgb(36,36,36)",
             "ticks": "outside"
            },
            "colorscale": [
             [
              0,
              "#440154"
             ],
             [
              0.1111111111111111,
              "#482878"
             ],
             [
              0.2222222222222222,
              "#3e4989"
             ],
             [
              0.3333333333333333,
              "#31688e"
             ],
             [
              0.4444444444444444,
              "#26828e"
             ],
             [
              0.5555555555555556,
              "#1f9e89"
             ],
             [
              0.6666666666666666,
              "#35b779"
             ],
             [
              0.7777777777777778,
              "#6ece58"
             ],
             [
              0.8888888888888888,
              "#b5de2b"
             ],
             [
              1,
              "#fde725"
             ]
            ],
            "type": "histogram2dcontour"
           }
          ],
          "mesh3d": [
           {
            "colorbar": {
             "outlinewidth": 1,
             "tickcolor": "rgb(36,36,36)",
             "ticks": "outside"
            },
            "type": "mesh3d"
           }
          ],
          "parcoords": [
           {
            "line": {
             "colorbar": {
              "outlinewidth": 1,
              "tickcolor": "rgb(36,36,36)",
              "ticks": "outside"
             }
            },
            "type": "parcoords"
           }
          ],
          "pie": [
           {
            "automargin": true,
            "type": "pie"
           }
          ],
          "scatter": [
           {
            "marker": {
             "colorbar": {
              "outlinewidth": 1,
              "tickcolor": "rgb(36,36,36)",
              "ticks": "outside"
             }
            },
            "type": "scatter"
           }
          ],
          "scatter3d": [
           {
            "line": {
             "colorbar": {
              "outlinewidth": 1,
              "tickcolor": "rgb(36,36,36)",
              "ticks": "outside"
             }
            },
            "marker": {
             "colorbar": {
              "outlinewidth": 1,
              "tickcolor": "rgb(36,36,36)",
              "ticks": "outside"
             }
            },
            "type": "scatter3d"
           }
          ],
          "scattercarpet": [
           {
            "marker": {
             "colorbar": {
              "outlinewidth": 1,
              "tickcolor": "rgb(36,36,36)",
              "ticks": "outside"
             }
            },
            "type": "scattercarpet"
           }
          ],
          "scattergeo": [
           {
            "marker": {
             "colorbar": {
              "outlinewidth": 1,
              "tickcolor": "rgb(36,36,36)",
              "ticks": "outside"
             }
            },
            "type": "scattergeo"
           }
          ],
          "scattergl": [
           {
            "marker": {
             "colorbar": {
              "outlinewidth": 1,
              "tickcolor": "rgb(36,36,36)",
              "ticks": "outside"
             }
            },
            "type": "scattergl"
           }
          ],
          "scattermapbox": [
           {
            "marker": {
             "colorbar": {
              "outlinewidth": 1,
              "tickcolor": "rgb(36,36,36)",
              "ticks": "outside"
             }
            },
            "type": "scattermapbox"
           }
          ],
          "scatterpolar": [
           {
            "marker": {
             "colorbar": {
              "outlinewidth": 1,
              "tickcolor": "rgb(36,36,36)",
              "ticks": "outside"
             }
            },
            "type": "scatterpolar"
           }
          ],
          "scatterpolargl": [
           {
            "marker": {
             "colorbar": {
              "outlinewidth": 1,
              "tickcolor": "rgb(36,36,36)",
              "ticks": "outside"
             }
            },
            "type": "scatterpolargl"
           }
          ],
          "scatterternary": [
           {
            "marker": {
             "colorbar": {
              "outlinewidth": 1,
              "tickcolor": "rgb(36,36,36)",
              "ticks": "outside"
             }
            },
            "type": "scatterternary"
           }
          ],
          "surface": [
           {
            "colorbar": {
             "outlinewidth": 1,
             "tickcolor": "rgb(36,36,36)",
             "ticks": "outside"
            },
            "colorscale": [
             [
              0,
              "#440154"
             ],
             [
              0.1111111111111111,
              "#482878"
             ],
             [
              0.2222222222222222,
              "#3e4989"
             ],
             [
              0.3333333333333333,
              "#31688e"
             ],
             [
              0.4444444444444444,
              "#26828e"
             ],
             [
              0.5555555555555556,
              "#1f9e89"
             ],
             [
              0.6666666666666666,
              "#35b779"
             ],
             [
              0.7777777777777778,
              "#6ece58"
             ],
             [
              0.8888888888888888,
              "#b5de2b"
             ],
             [
              1,
              "#fde725"
             ]
            ],
            "type": "surface"
           }
          ],
          "table": [
           {
            "cells": {
             "fill": {
              "color": "rgb(237,237,237)"
             },
             "line": {
              "color": "white"
             }
            },
            "header": {
             "fill": {
              "color": "rgb(217,217,217)"
             },
             "line": {
              "color": "white"
             }
            },
            "type": "table"
           }
          ]
         },
         "layout": {
          "annotationdefaults": {
           "arrowhead": 0,
           "arrowwidth": 1
          },
          "autosize": true,
          "autotypenumbers": "strict",
          "coloraxis": {
           "colorbar": {
            "outlinewidth": 1,
            "tickcolor": "rgb(36,36,36)",
            "ticks": "outside"
           }
          },
          "colorscale": {
           "diverging": [
            [
             0,
             "rgb(103,0,31)"
            ],
            [
             0.1,
             "rgb(178,24,43)"
            ],
            [
             0.2,
             "rgb(214,96,77)"
            ],
            [
             0.3,
             "rgb(244,165,130)"
            ],
            [
             0.4,
             "rgb(253,219,199)"
            ],
            [
             0.5,
             "rgb(247,247,247)"
            ],
            [
             0.6,
             "rgb(209,229,240)"
            ],
            [
             0.7,
             "rgb(146,197,222)"
            ],
            [
             0.8,
             "rgb(67,147,195)"
            ],
            [
             0.9,
             "rgb(33,102,172)"
            ],
            [
             1,
             "rgb(5,48,97)"
            ]
           ],
           "sequential": [
            [
             0,
             "#440154"
            ],
            [
             0.1111111111111111,
             "#482878"
            ],
            [
             0.2222222222222222,
             "#3e4989"
            ],
            [
             0.3333333333333333,
             "#31688e"
            ],
            [
             0.4444444444444444,
             "#26828e"
            ],
            [
             0.5555555555555556,
             "#1f9e89"
            ],
            [
             0.6666666666666666,
             "#35b779"
            ],
            [
             0.7777777777777778,
             "#6ece58"
            ],
            [
             0.8888888888888888,
             "#b5de2b"
            ],
            [
             1,
             "#fde725"
            ]
           ],
           "sequentialminus": [
            [
             0,
             "#440154"
            ],
            [
             0.1111111111111111,
             "#482878"
            ],
            [
             0.2222222222222222,
             "#3e4989"
            ],
            [
             0.3333333333333333,
             "#31688e"
            ],
            [
             0.4444444444444444,
             "#26828e"
            ],
            [
             0.5555555555555556,
             "#1f9e89"
            ],
            [
             0.6666666666666666,
             "#35b779"
            ],
            [
             0.7777777777777778,
             "#6ece58"
            ],
            [
             0.8888888888888888,
             "#b5de2b"
            ],
            [
             1,
             "#fde725"
            ]
           ]
          },
          "colorway": [
           "#1F77B4",
           "#FF7F0E",
           "#2CA02C",
           "#D62728",
           "#9467BD",
           "#8C564B",
           "#E377C2",
           "#7F7F7F",
           "#BCBD22",
           "#17BECF"
          ],
          "font": {
           "color": "rgb(36,36,36)"
          },
          "geo": {
           "bgcolor": "white",
           "lakecolor": "white",
           "landcolor": "white",
           "showlakes": true,
           "showland": true,
           "subunitcolor": "white"
          },
          "height": 250,
          "hoverlabel": {
           "align": "left"
          },
          "hovermode": "closest",
          "mapbox": {
           "style": "light"
          },
          "margin": {
           "b": 10,
           "l": 10,
           "r": 10,
           "t": 10
          },
          "paper_bgcolor": "white",
          "plot_bgcolor": "white",
          "polar": {
           "angularaxis": {
            "gridcolor": "rgb(232,232,232)",
            "linecolor": "rgb(36,36,36)",
            "showgrid": false,
            "showline": true,
            "ticks": "outside"
           },
           "bgcolor": "white",
           "radialaxis": {
            "gridcolor": "rgb(232,232,232)",
            "linecolor": "rgb(36,36,36)",
            "showgrid": false,
            "showline": true,
            "ticks": "outside"
           }
          },
          "scene": {
           "xaxis": {
            "backgroundcolor": "white",
            "gridcolor": "rgb(232,232,232)",
            "gridwidth": 2,
            "linecolor": "rgb(36,36,36)",
            "showbackground": true,
            "showgrid": false,
            "showline": true,
            "ticks": "outside",
            "zeroline": false,
            "zerolinecolor": "rgb(36,36,36)"
           },
           "yaxis": {
            "backgroundcolor": "white",
            "gridcolor": "rgb(232,232,232)",
            "gridwidth": 2,
            "linecolor": "rgb(36,36,36)",
            "showbackground": true,
            "showgrid": false,
            "showline": true,
            "ticks": "outside",
            "zeroline": false,
            "zerolinecolor": "rgb(36,36,36)"
           },
           "zaxis": {
            "backgroundcolor": "white",
            "gridcolor": "rgb(232,232,232)",
            "gridwidth": 2,
            "linecolor": "rgb(36,36,36)",
            "showbackground": true,
            "showgrid": false,
            "showline": true,
            "ticks": "outside",
            "zeroline": false,
            "zerolinecolor": "rgb(36,36,36)"
           }
          },
          "shapedefaults": {
           "fillcolor": "black",
           "line": {
            "width": 0
           },
           "opacity": 0.3
          },
          "ternary": {
           "aaxis": {
            "gridcolor": "rgb(232,232,232)",
            "linecolor": "rgb(36,36,36)",
            "showgrid": false,
            "showline": true,
            "ticks": "outside"
           },
           "baxis": {
            "gridcolor": "rgb(232,232,232)",
            "linecolor": "rgb(36,36,36)",
            "showgrid": false,
            "showline": true,
            "ticks": "outside"
           },
           "bgcolor": "white",
           "caxis": {
            "gridcolor": "rgb(232,232,232)",
            "linecolor": "rgb(36,36,36)",
            "showgrid": false,
            "showline": true,
            "ticks": "outside"
           }
          },
          "title": {
           "x": 0.5,
           "xanchor": "center"
          },
          "width": 350,
          "xaxis": {
           "automargin": true,
           "gridcolor": "rgb(232,232,232)",
           "linecolor": "rgb(36,36,36)",
           "showgrid": true,
           "showline": true,
           "ticks": "outside",
           "title": {
            "standoff": 15
           },
           "zeroline": false,
           "zerolinecolor": "rgb(36,36,36)"
          },
          "yaxis": {
           "automargin": true,
           "gridcolor": "rgb(232,232,232)",
           "linecolor": "rgb(36,36,36)",
           "showgrid": true,
           "showline": true,
           "ticks": "outside",
           "title": {
            "standoff": 15
           },
           "zeroline": false,
           "zerolinecolor": "rgb(36,36,36)"
          }
         }
        },
        "width": 550
       }
      },
      "image/png": "[encoded data removed]",
      "image/svg+xml": [
       "<svg class=\"main-svg\" xmlns=\"http://www.w3.org/2000/svg\" xmlns:xlink=\"http://www.w3.org/1999/xlink\" width=\"550\" height=\"350\" style=\"\" viewBox=\"0 0 550 350\"><rect x=\"0\" y=\"0\" width=\"550\" height=\"350\" style=\"fill: rgb(255, 255, 255); fill-opacity: 1;\"/><defs id=\"defs-12aa71\"><g class=\"clips\"><clipPath id=\"clip12aa71geo\"><rect x=\"10\" y=\"58.0923076923077\" width=\"447\" height=\"233.81538461538457\"/></clipPath></g><g class=\"gradients\"><linearGradient x1=\"0\" x2=\"0\" y1=\"1\" y2=\"0\" id=\"g12aa71-cbcoloraxis\"><stop offset=\"0%\" stop-color=\"rgb(60, 9, 17)\" stop-opacity=\"1\"/><stop offset=\"9.090909%\" stop-color=\"rgb(89, 13, 31)\" stop-opacity=\"1\"/><stop offset=\"18.181818%\" stop-color=\"rgb(120, 14, 40)\" stop-opacity=\"1\"/><stop offset=\"27.272727%\" stop-color=\"rgb(149, 19, 39)\" stop-opacity=\"1\"/><stop offset=\"36.363636%\" stop-color=\"rgb(172, 44, 36)\" stop-opacity=\"1\"/><stop offset=\"45.454545%\" stop-color=\"rgb(186, 74, 47)\" stop-opacity=\"1\"/><stop offset=\"54.545455%\" stop-color=\"rgb(196, 102, 73)\" stop-opacity=\"1\"/><stop offset=\"63.636364%\" stop-color=\"rgb(205, 129, 103)\" stop-opacity=\"1\"/><stop offset=\"72.727273%\" stop-color=\"rgb(213, 156, 137)\" stop-opacity=\"1\"/><stop offset=\"81.818182%\" stop-color=\"rgb(221, 182, 170)\" stop-opacity=\"1\"/><stop offset=\"90.909091%\" stop-color=\"rgb(230, 209, 203)\" stop-opacity=\"1\"/><stop offset=\"100%\" stop-color=\"rgb(241, 236, 236)\" stop-opacity=\"1\"/></linearGradient></g><g class=\"patterns\"/></defs><g class=\"bglayer\"/><g class=\"layer-below\"><g class=\"imagelayer\"/><g class=\"shapelayer\"/></g><g class=\"cartesianlayer\"/><g class=\"polarlayer\"/><g class=\"smithlayer\"/><g class=\"ternarylayer\"/><g class=\"geolayer\"><g class=\"geo geo\" clip-path=\"url(#clip12aa71geo)\"><g class=\"layer bg\"><rect x=\"10\" y=\"58.0923076923077\" width=\"447\" height=\"233.81538461538457\" style=\"pointer-events: all; fill: rgb(255, 255, 255); fill-opacity: 1;\"/></g><g class=\"layer land\"><path d=\"M169.9935605373372,277.7093332479418L171.47002366973425,278.4255822931501L172.74046724595584,279.57824566013596L174.86996602981264,282.5399675706898L174.6635923983568,283.05054738243274L171.51505917928574,284.8925666499324L168.88584936760478,286.21840201232203L167.7324485588933,287.6797507239375L165.72074206476006,286.452240755752L165.9215880024117,284.0514058053877L164.5398089189154,280.9316239003369L164.95726831323094,279.98571192535746L166.42405688539512,278.5997802434547L165.78613783588722,276.93291998924735L166.30787415264697,276.1323874258443L166.93869055535015,276.2745967065251ZM165.13590530310415,271.85869942323677L164.51100783138872,272.9483370206559L161.78600208604092,273.5363903268586L160.41950560736316,271.7268120998349L159.47557522534083,271.0759532518436L159.37016492678242,270.496466775343L160.20693367363273,269.7709948627269L163.03605918903705,270.5615589554633ZM159.05393948646855,268.39656610170687L158.74082109094047,269.3381606606778L154.4495104669992,269.0475024575385L155.0784546046344,268.0345830156844ZM148.81910248487304,263.7508105543781L149.54772065671156,264.33200223420715L151.83779595212405,267.1603200516263L151.41814606315532,267.6658469864603L150.79104802761094,267.51926570533976L147.968605943112,267.21920403158697L147.03704217738172,265.26139347419615L146.7250960770864,264.970545994497ZM138.10578198581933,259.4896568015014L138.29627930480646,261.44124335633944L137.3494849250613,262.2993705069366L134.65463560798287,260.6823399958157L135.07777570923815,260.10919366262397L136.2328557931353,259.25489297776585ZM87.04502741012004,275.3764302208681L88.10144504504986,275.56360546785515L88.80917278841753,276.4672126067296L87.43386525622394,277.92911209256505L85.80664865165882,279.09145816983107L84.97973573653846,278.32132402469324L84.73953269637143,276.91278046674313L86.2008473126172,275.8433256139448ZM67.5157928598964,266.3903714223587L68.62336036450765,266.85423078977016L68.55618308701376,268.0124572368504L67.56630642141383,268.3277343007495L66.7129904423289,267.5915243831417L65.98072843508781,266.6089554534218ZM62.63942795830688,254.7646000062328L63.276967964620205,255.51801854824512L64.15694157148968,255.42881265800668L65.02685348054901,256.45995861165363L66.22572871715278,257.1589061903222L66.05006123482582,257.46005568684245L64.89304105491014,257.8477821117916L64.05840398854389,256.95943799327404L63.69840263779565,256.3143357233657L62.50463533124335,256.1849217214522L62.25869324312424,255.82638767583396ZM406.0470111163278,101.46834515326213L400.8441767392719,106.06566950254467L395.30899506816905,110.307942284467L393.4886399317663,116.12937853852202L392.99139115287653,118.31566621398792L393.4714191487941,120.0846100808663L394.1031605886259,122.72516961163637L397.36281022748625,126.55184401007165L399.9652870869776,126.05850487587202L398.4034794294355,123.21744632734482L400.81805151499924,124.52267517204507L400.9384286927871,127.0820783432847L399.2837237333764,128.23035208577625L397.16328986842393,129.57612087573023L394.24568584386,130.21353365276178L390.04891111567485,132.8400308620083L387.42309403309827,133.9704262221834L383.90232066546366,135.31012149437146L379.68303247286366,138.75929278874594L379.3111926765404,138.99937705183987L381.8857476655166,137.92465913670674L388.0723191058729,135.16967677953102L390.3324611979208,136.25809266616778L382.19168599739146,140.95159631972552L378.2122824069503,141.97976572233938L378.226379155579,141.6743272691591L378.2036315199348,140.8488948840897L376.86266994488045,143.57974966834456L376.79748851412455,143.6704170366442L378.76412111663456,143.58688853450047L378.7801315650884,146.22720647181387L378.7946636339353,150.00097823631205L377.35166530108705,153.58269550460943L375.615002676107,157.52501927559535L374.7118488315359,155.4657161612859L373.19652177875304,155.3522779923777L372.17125399058534,154.67527390247517L370.65304790714254,153.72859440882974L370.5698079105705,153.74680644641495L371.98737838056593,156.22271785309755L372.9854888814706,157.96160748672668L374.8312006808753,159.13410575472028L375.7070049009992,162.256178222377L374.3248363449581,166.03128524029455L372.1203010407387,173.5897969875959L371.4418003758043,173.35857925231988L372.2562973302182,167.16141360291738L368.1675447883634,164.6491376620205L365.9398434459389,157.82349974381384L365.43032213890984,161.6882351754238L367.9978382175882,166.7906722494489L363.56514208746944,166.35334019532257L363.39520591399224,166.387813258608L368.4707685732577,168.19535447199775L370.41061970651594,176.13478208036628L372.447190624326,176.3794848339178L373.756438255127,179.10883467822794L376.54724906551974,187.38603528053926L373.551649543169,194.5634780995723L369.59175504324617,196.95537948671046L367.02695705907246,198.518765120509L366.0444904402823,200.13535470113504L363.4172871826071,204.3845582679125L360.09644458711966,205.60781830131373L359.4031594241652,206.40807026197382L357.13129753183546,209.35893060592088L356.6349730089552,212.35514789651126L353.99934300822525,215.05400020917085L349.79815960217996,219.2645956306166L347.17714257174316,222.9620558996856L346.48203886636816,223.96436095407682L343.91457538609836,229.48360857694405L343.72525095995,235.727577138186L345.36441894494817,240.0556926356002L345.8740872094283,241.45350850251788L346.40144391564377,242.33113472898236L349.4966635890429,248.26241067124118L353.23829958738804,253.03969757867586L353.75510831539384,253.76553422239718L353.778656192194,253.9090211645223L354.44091994331006,257.3349000379685L354.4526913262974,257.40656659090575L359.6047874430135,266.5456399387932L360.3598345526765,272.21342033006886L360.51393658510403,275.5565560156492L359.62473531022,280.09288584233L359.46457806537757,280.9959575070965L357.3224380761621,282.4425444601103L353.3208717914874,281.9882513451472L351.5461875716194,278.54444946994926L348.34438171681165,277.0647250853566L343.18514754282626,270.45093574824784L338.703795305915,264.50602605536244L337.27917535026245,261.481777479403L337.1611778668623,261.351617702908L337.9346569701305,255.52020488376544L337.92447344503154,255.44820245898165L335.148353764515,251.13414227213713L328.42110737997865,244.75689208577995L325.38565645523613,243.82120490380103L318.47314194264175,248.62113814001782L317.17289483991385,248.32941706988422L317.07671460803516,248.3403125087697L313.0858721156003,244.7454202287119L308.1820513367404,243.1302952952858L299.9689106072326,245.01311623549995L293.66833002274484,244.59506109523963L293.3813193414263,244.61806247193013L292.71733938763055,244.74406253513635L287.77676332708126,245.62906494813697L284.78892988550774,247.00782097049864L285.00557119095294,247.35892727200215L286.29938848894597,249.31796575536632L286.44469338682154,252.8159852997028L288.20963111666975,254.37174894438965L287.6584080065195,254.84911222701302L286.8352093206833,255.63690959203967L284.33345016893026,254.711420464649L283.93095044516696,254.5188806766808L283.84342587097785,254.6706133650637L281.2196813795737,256.36957642941L275.852435487816,256.38770560841994L270.001306558761,252.1569266577608L263.56116957263816,253.51805691183722L263.5584870156879,253.4452181512981L258.07515775152734,251.6565860152904L253.45110630925296,252.4327194685975L247.28638309035335,254.513450516576L240.5212147880537,260.9097420624403L233.35445153527743,264.39481176630625L232.95957493344972,264.61047888234907L232.06737130166175,265.4763472219796L228.7776926106026,268.6397684069571L227.0402682642814,272.4620858507214L226.9134912544123,274.3449390236784L226.85580347380187,278.32715661474765L227.0275847678438,280.3553382391278L227.1994872270172,282.45434667170537L227.19747291658965,282.5988549819219L228.57663622349918,285.3615299117946L225.53587070801325,285.53531093628266L220.11186137780743,283.550019122445L214.13517901408088,280.7824156209772L212.0598397828289,276.73223273920684L210.58163240769954,270.66076764961997L206.32671676243515,265.62268000439286L203.90140032533316,260.49241438001263L200.48715138321336,254.49188085240172L195.356169826349,250.77368044850698L189.2674914799401,250.5300055985807L184.13107174859002,256.9550530893442L178.11492074645594,253.92106386620037L174.47130852606637,250.97283724634735L173.06438528938205,246.15849035449753L171.097371471169,241.4276051362877L167.10239419139532,237.21525013292262L163.69984781714032,234.13933225324598L161.39262335805103,230.86968972770762L148.83809902816455,229.35995948204982L148.38679943458754,232.84322887868467L142.6522414780619,232.07590710110736L128.28725416667615,230.01326733224755L113.02704484242645,221.2289346922978L103.1375182168178,215.07470154170477L104.10892028460302,213.54971202448291L94.9628263068991,212.63379352634786L86.88488392698784,211.53395340614634L86.67762256859567,206.97597230330422L83.296835213456,201.07219588925346L80.30907544645765,199.3057693718655L80.17927374059497,196.7067803238079L76.45587852670792,195.3425913400954L74.54078171017545,192.44185652117955L71.02345003172121,191.0910421403472L68.46749827936097,190.04720182759303L67.26912347200266,188.5160110085107L67.06161560522932,188.2330349796116L67.49963839629095,183.4064763689579L63.28059511226007,173.26715859073096L61.09566760146146,160.18915829265956L61.91535845409007,158.28046000216466L59.8689919177267,154.70169399841785L56.94717744632584,146.3163281761848L58.165944377439615,139.3071912614309L56.222180469898206,133.7938304519675L59.69544181772525,127.32448356916024L61.6260402237329,120.15853041391557L61.613563632846734,113.24688389366906L66.31903218962307,106.18651916428769L71.25213476478928,94.32112956670636L72.27910863553186,91.73733644882282L74.57884468911064,80.42647211934218L74.97681540152769,72.89378427812801L74.47810458958546,68.65278773264868L75.43606568564246,67.58955733599947L75.68580591024025,67.28917405061424L76.57974134446442,67.9429603429403L82.81804805706142,72.4574119085238L83.558789253096,81.04005040319123L85.56670357524484,79.27695955958393L85.74445063109081,77.8214202283823L86.62114544270301,72.28077144548735L86.60482289836185,65.07246183590121L102.24354344685824,69.35827509412917L118.65368577961114,73.320422082079L124.15020791874245,74.52716772757287L141.14803088907192,77.88290990797373L157.731844594462,80.61681946408612L174.6867166051596,82.86896973570327L191.70427881779048,84.58432453408221L210.98601434255232,85.87443176220529L230.44959106518064,86.47739001468886L242.29660858655848,86.50152436915312L242.26778691621598,83.26550355676102L244.18045425475356,83.17321258455172L245.2036677635481,87.83600213274656L247.010277870947,89.24856400291503L251.0411404894485,89.66776105439254L256.97274690292767,90.85883732863249L262.61400450533495,93.22971960769627L267.276712387979,91.9110593464747L274.4493867931962,93.64487829469817L276.31955177644,93.4431366120026L281.30129802116454,90.67612713364372L286.95054449664286,93.31190415917848L292.972191740492,96.00719880156026L297.94847128963147,98.32529155673109L302.73203982208037,100.55644081221095L303.6048267431644,102.71962529137619L305.0734024751016,103.3483783533743L304.795904666498,104.26021226088545L306.4371205703704,104.35305641871486L307.47571517965486,103.34507807927633L308.0263919951918,105.25387433059052L309.35089572199024,106.4786472021774L310.9628779505372,106.26985926090987L312.0176970756818,107.1583079128468L311.44789709415994,108.77544351116921L318.18577611323855,111.9717669752535L320.61219963766854,119.44011658523436L322.8850655679108,126.72219552161062L321.85413804607526,131.9794161153672L319.53782581086614,137.11977414257825L318.64876955920954,140.27866518996012L318.6047750187694,141.17356122653138L319.4265866079975,142.32078053620012L321.82612926802614,143.39540671429233L323.38052222479723,143.17415420212205L329.9404130794146,137.51482781152168L336.18632969788393,135.09259290243142L343.48646659577605,129.50216612930046L343.48904989315355,128.60774322907065L342.4612507422638,126.11326611012362L341.1314505366612,124.64089142195729L343.6528233969426,122.76984967812677L349.6512668683092,121.63481286871348L355.1654379509939,120.53426563455218L356.4463258922989,116.83309481303672L357.01504107583105,116.04193413285037L362.0690232257398,108.60063507478691L364.33384620976926,106.44874885327368L373.2994454890629,104.3466206924466L384.11521556963095,101.53242051694895L384.1824445413391,99.32651599592879L385.9062981188,98.48972628723794L388.0373418335761,96.47783673427926L389.041385481939,92.19760512025971L389.0288968837142,85.25678800567351L391.51538340259356,77.8368741465141L394.0404584099452,79.44128525003492L397.3461811019163,76.94793814589679L400.61102762789807,78.53325076644416L404.0342297253495,89.72404863361936L409.1932183717223,93.16303063764542L411.0233389690959,95.57127297733996L409.6925949733603,97.13667288885807ZM122.5518561883722,276.647829438317L121.27507272577654,274.33163530858747L118.5100114196208,272.6853372553113L116.82571486283449,270.2382107339599L115.94405967495385,270.3730935213881L115.31275592773693,270.4803814521565L114.57715057817656,270.66673984201407L112.88491437657333,271.08180805142996L110.88969361923066,270.69858252520066L107.08397071800853,268.37741011260607L105.77219143253613,268.1554176899157L105.54564012857176,268.1228430471356L104.42601517812463,267.89822847687225L102.78095977607887,267.54688955136413L100.77264768970008,268.1337958652275L97.69791877457031,267.1602946314172L95.81379720385982,266.08500504770285L94.26922482109468,266.87562911535065L94.75921994089889,268.9143041592089L94.49479242141868,269.01494346428046L93.94297376476445,269.19017104965576L92.25472779117929,269.95535193666024L90.99420685547604,271.02829675755385L89.31460925662076,271.74066241527385L89.0387361054253,269.9823252669695L89.60891279206453,267.01562541369606L91.11359895227136,265.99644212971884L90.68110305559118,265.27585849797845L88.90529275768611,267.01490571936176L87.9418018370191,269.06400031528517L86.7891834819753,270.2341817019133L85.78806899880182,271.2117162166482L86.58846007299154,272.25845535429335L86.93319786849715,272.66487985991284L86.33452913707536,273.5398467862932L85.45838520658417,274.84557345134004L83.7301880459437,276.0791471607678L82.09941466398543,276.9557516358434L81.65040247721852,278.2697738156828L79.01170449716494,279.6979189068784L78.88502997339704,279.9971944213465L78.40271246415989,281.066573938988L76.45362883090017,282.14904201943216L76.33955835716031,282.19068817793845L75.19777575960427,281.85752924037035L74.2259795411042,282.2741987191739L73.53077259684704,282.5339684970482L72.91754590119302,282.8248775942134L71.68760819397394,283.34587389482306L70.12972566499056,284.17048242180005L67.04895575695477,284.5570169705471L66.86352565962235,284.0097029301723L68.94812462026712,282.91890003569324L70.7521904934035,282.2471255826772L72.74732978299056,280.85206565318913L74.84634041563095,280.7202910635792L75.56062494601066,279.8652414561434L75.78218943770753,279.57784211740665L78.18431201273559,277.97800892546445L78.23017780236198,277.92998713113803L78.60599710846839,277.3920210854503L79.84256855869654,276.4178400647784L80.25579399569529,274.16013961606643L81.13316636735249,272.4099293154285L79.29147999034592,273.2322659820953L78.8228964724194,272.66281393676377L77.91543624288714,273.7006555112622L77.01035179493829,272.11205213104313L76.5139863388906,273.1474150457319L76.1354141621729,271.77562290292576L76.07284134415383,271.5896348582151L75.77180970558287,271.7917999448204L74.40967050682363,272.62678849915096L73.4659017726322,272.51742466159334L73.54037276291106,270.90201724050587L73.54231035275474,270.7217256278109L73.94865947669827,269.6618557917908L73.16271834526262,268.5325686826181L73.13068730845815,268.4768147343457L71.96708949581691,268.65597035124006L71.11870805340916,268.7919560538013L70.0919654299521,267.18140432056737L69.20642617236528,266.30644183191663L69.49376818268556,264.64115154038046L68.6203869238426,263.15882697517145L69.29383942788775,261.9285483001696L69.46932907231655,261.56996548720366L70.87630437418775,260.09859898926163L71.59591422433,258.6610214808305L72.72410265114772,258.6020793538467L73.56054669252141,259.2121953335986L73.90848654424506,258.87231719699366L74.82516320158203,257.90833110925666L75.30926193664263,258.09626784400143L75.7605758106815,258.2776098844779L76.87449473165857,257.4725708085517L76.84666628572,257.2385208205916L76.77896459498189,256.07569028075204L76.1152479821709,255.46366434344225L77.1698674710316,254.42230482073452L76.39064412592771,254.3644674663132L74.9699365276224,254.86250807096428L74.48739337469497,255.4433120490446L74.04452485345989,255.07407106406447L73.57596711090639,254.6725579977236L72.89790401087863,254.674996245016L71.71760912220394,254.7193246619155L69.98006125467958,253.6843003946182L69.69147901138457,252.38161396761672L68.47972021837501,250.36271118533656L70.04382312068115,249.67223345814452L70.43547858899376,249.48956815088388L71.10320255854167,249.2794886783274L73.33632585523492,248.50318178926605L74.30544436345878,248.65121848803514L74.19267738032742,249.0971973447435L73.93113760025231,250.11291332731278L75.65279013092848,250.27268270046383L76.49206782643999,250.32333283299772L75.75120212982887,248.3882330422814L75.21818659243874,247.83082412477785L74.46188480022512,247.05684947791306L73.91036910383494,245.56171895633318L73.86706842907562,245.45225290886847L73.74748473520137,245.2535840446193L73.00605521310676,244.02620823701713L71.65152611495714,242.8259295893762L71.84203313022681,242.5282681325401L72.5510970513084,241.40385374617233L74.30417077028557,241.60540113867484L74.48643917219967,241.63448614217376L76.03228335155339,240.51461191773623L76.47620272086323,239.10427402994316L77.69935141783513,237.84518171451427L78.52363009453443,237.68710055165738L78.73025129055591,237.63359776619868L80.76449650560333,236.51327321832744L81.56101280814353,236.74410453091073L81.67706738307206,236.776423164204L81.92698489553486,236.54151051221294L83.28166180539361,235.28580807517548L84.76756679667125,235.94908108092523L85.47075400846452,237.2786792272697L85.91775513523774,236.70534374167065L87.61984068813067,236.85596809624676L87.58507120591105,237.53149996404417L89.16903827567933,237.97233586868725L90.1871895412734,237.61380862286717L92.4178375963839,238.36319203341694L94.42988801902588,238.41694142045358L95.27418044033023,238.71039598789423L96.58321519446429,238.03538502147114L97.70616608809287,238.43365246146325L98.28207042401962,238.63721437200687L98.38063236589636,238.6447681918696L99.48725817477083,238.81712199947586L101.62547951012905,249.66790561057604L104.95711235863897,266.46487006037796L106.40622435226186,266.2446495178474L108.00587482638629,266.755682927424L109.31354429611832,267.7900051128588L111.12485739768246,269.3989044102247L112.12164752966567,267.39079172724445L113.33770734880231,266.0425957046328L114.53077784998007,267.3221412409232L115.87960607177342,268.19980678131935L117.65655910136816,269.0640148082228L119.26271489520181,270.80037749213733L121.92620342003613,273.51294990457893L125.24578712374564,274.3454218768435L125.96398205585373,276.12068986655174L125.58448904314784,277.7873791643826L124.29619891201625,277.0620542758183L124.16557081082397,277.0276028329704Z\" style=\"stroke: none; fill: rgb(255, 255, 255); fill-opacity: 1;\"/></g><g class=\"layer subunits\"><path d=\"M261.02591016710215,105.47965419778137L259.4362941787145,106.05294755996823L259.70138891887404,110.84393433953801L259.5438064704441,110.77729453614592L258.1082574010712,111.77806829670925L256.8204578008863,112.69747370333636L256.01634949227673,114.2543142564806L257.3954829475137,115.81151968340049L257.00167523777816,118.0134207422879L257.08120875599434,120.34650732551171L256.90907320354455,122.25135091976625L258.783564183536,123.7929993135063L259.49862018052437,123.83932556779189L261.5287258237641,125.00163979140643L262.1880578339251,125.55909240320182L262.7055687719676,126.48797070382562L264.28343026036833,127.88126647281638L266.41710207971886,129.02415532641544L266.69320239521596,129.7429311318832L266.79550528540466,131.78957156842444L267.0074291047051,132.80519682869345L258.8815053461402,133.01077722919388L249.8740193362238,133.26973515714474L241.4278018693707,133.5335864356603L234.66768775628495,133.54015918147923L234.78547018056466,125.49412965502898L234.11947749181763,117.24259624591934L233.0291217782997,116.57910285160204L232.49348898402803,115.26297342516153L232.81494563283775,114.10020549470181L234.14341468007277,113.16292954169023L234.2281952885875,111.9260089142661L234.23736724646125,110.3254968287473L233.93637829773945,109.01481499267214L233.40651551717983,107.63031892889268L233.1123515063941,105.88480925663947L233.12703842254686,103.99766872478494L232.90189178008734,103.48800312151297L232.694002159784,101.02095581989602L232.62810503730506,99.86111362194788L232.5612347079968,98.8466312351992L232.27467952243464,97.10694133746887L231.61373715265884,95.36456726799582L230.95534352778694,93.76724257346018L230.8985388647872,92.25002142189521L230.84388986444216,90.58965110979722L231.00594969221925,89.50990995133287L231.09225849459125,88.5018835594039L230.58760736329526,87.27113189453763L230.44959106518064,86.47739001468886L236.52112451125342,86.52215073790069L242.29660858655848,86.50152436915312L242.2767482824462,84.2716620230762L242.26778691621598,83.26550355676102L243.2238097197731,83.18428503872377L244.18045425475356,83.17321258455172L244.4935042433658,84.60688006992171L245.2036677635481,87.83600213274656L247.010277870947,89.24856400291503L249.39788013327603,89.48988824611763L251.0411404894485,89.66776105439254L256.97274690292767,90.85883732863249L260.7778901164566,92.44341331621894L262.61400450533495,93.22971960769627L264.3916955356307,92.71138148078006L267.276712387979,91.9110593464747L274.4493867931962,93.64487829469817L268.75554156597633,96.82410833333444L264.7718257721824,100.44342202105639L260.9740793533276,104.24661272616277ZM191.40916450540897,84.55919892120801L190.23900245521298,100.04910747243946L189.66698657091467,110.42635774097039L188.69002655567843,118.24269183491418L178.60148680515553,117.14746747255845L167.8073877850497,116.00666610714086L158.4577845865423,114.71392694830342L146.70078437627996,113.03243505227658L146.02073942085113,117.2861744545553L145.88476857878237,117.63437328914256L145.2615516295283,117.01628790937104L144.90125331038888,115.77413548739253L144.2460416425095,115.37145005778723L143.1027402434941,116.9601301346375L141.73724253661163,116.95529798199675L138.38532401618912,115.86483175780472L138.07897064224161,116.70148594725396L136.1890474917506,115.99850587879814L134.87674419287637,117.02625596702097L134.18618286447062,114.60003911755348L133.70839719287665,113.25112596660347L132.50525544008994,112.80725546752137L132.30123895255193,112.17546901624837L132.32765141569058,109.87933109241158L131.4488375612924,108.60168925031854L131.257448492168,105.82065681891788L130.78577064399587,104.544463884999L130.1384619163065,104.19810221621395L129.30576452417625,105.22470926773724L127.96138954711898,106.00288933975821L127.05690734526996,104.93416454721603L127.40357387676298,102.77527260210718L128.18816876796993,102.41025234953196L128.1669166865965,100.1069981195867L129.11786908979948,98.07072696201476L130.17353766145095,96.27810135551272L128.3791171116005,95.85161002710208L127.19143630364135,94.3559586555125L126.06139354963486,91.46220820864164L125.35327664442944,89.98500999587839L124.24927375903907,88.94238952572772L123.41721241191185,87.36213518277577L123.73018892195354,85.87451766552203L122.73418661409339,83.29769624970714L124.15020791874245,74.52716772757287L141.14803088907192,77.88290990797373L157.731844594462,80.61681946408612L174.6867166051596,82.86896973570327ZM230.44959106518064,86.47739001468886L230.58760736329526,87.27113189453763L231.09225849459125,88.5018835594039L231.00594969221925,89.50990995133287L230.84388986444216,90.58965110979722L230.8985388647872,92.25002142189521L230.95534352778694,93.76724257346018L231.61373715265884,95.36456726799582L232.27467952243464,97.10694133746887L232.5612347079968,98.8466312351992L232.62810503730506,99.86111362194788L232.694002159784,101.02095581989602L232.90189178008734,103.48800312151297L233.12703842254686,103.99766872478494L233.1123515063941,105.88480925663947L233.40651551717983,107.63031892889268L233.93637829773945,109.01481499267214L234.23736724646125,110.3254968287473L234.2281952885875,111.9260089142661L222.90038790475836,112.184659478416L213.2085124131778,111.8525641643692L200.9684903798873,111.19576997414754L189.66698657091467,110.42635774097039L190.23900245521298,100.04910747243946L191.40916450540897,84.55919892120801L191.70427881779048,84.58432453408221L210.98601434255232,85.87443176220529ZM169.9935605373372,277.7093332479418L171.47002366973425,278.4255822931501L172.74046724595584,279.57824566013596L174.86996602981264,282.5399675706898L174.6635923983568,283.05054738243274L171.51505917928574,284.8925666499324L168.88584936760478,286.21840201232203L167.7324485588933,287.6797507239375L165.72074206476006,286.452240755752L165.9215880024117,284.0514058053877L164.5398089189154,280.9316239003369L164.95726831323094,279.98571192535746L166.42405688539512,278.5997802434547L165.78613783588722,276.93291998924735L166.30787415264697,276.1323874258443L166.93869055535015,276.2745967065251ZM165.13590530310415,271.85869942323677L164.51100783138872,272.9483370206559L161.78600208604092,273.5363903268586L160.41950560736316,271.7268120998349L159.47557522534083,271.0759532518436L159.37016492678242,270.496466775343L160.20693367363273,269.7709948627269L163.03605918903705,270.5615589554633ZM159.05393948646855,268.39656610170687L158.74082109094047,269.3381606606778L154.4495104669992,269.0475024575385L155.0784546046344,268.0345830156844ZM148.81910248487304,263.7508105543781L149.54772065671156,264.33200223420715L151.83779595212405,267.1603200516263L151.41814606315532,267.6658469864603L150.79104802761094,267.51926570533976L147.968605943112,267.21920403158697L147.03704217738172,265.26139347419615L146.7250960770864,264.970545994497ZM138.10578198581933,259.4896568015014L138.29627930480646,261.44124335633944L137.3494849250613,262.2993705069366L134.65463560798287,260.6823399958157L135.07777570923815,260.10919366262397L136.2328557931353,259.25489297776585ZM124.15020791874245,74.52716772757287L122.73418661409339,83.29769624970714L123.73018892195354,85.87451766552203L123.41721241191185,87.36213518277577L124.24927375903907,88.94238952572772L125.35327664442944,89.98500999587839L126.06139354963486,91.46220820864164L127.19143630364135,94.3559586555125L128.3791171116005,95.85161002710208L130.17353766145095,96.27810135551272L129.11786908979948,98.07072696201476L128.1669166865965,100.1069981195867L128.18816876796993,102.41025234953196L127.40357387676298,102.77527260210718L127.05690734526996,104.93416454721603L127.96138954711898,106.00288933975821L129.30576452417625,105.22470926773724L130.1384619163065,104.19810221621395L130.78577064399587,104.544463884999L131.257448492168,105.82065681891788L131.4488375612924,108.60168925031854L132.32765141569058,109.87933109241158L132.30123895255193,112.17546901624837L132.50525544008994,112.80725546752137L133.70839719287665,113.25112596660347L134.18618286447062,114.60003911755348L134.87674419287637,117.02625596702097L136.1890474917506,115.99850587879814L138.07897064224161,116.70148594725396L138.38532401618912,115.86483175780472L141.73724253661163,116.95529798199675L143.1027402434941,116.9601301346375L144.2460416425095,115.37145005778723L144.90125331038888,115.77413548739253L145.2615516295283,117.01628790937104L145.88476857878237,117.63437328914256L146.0183252998421,117.80371203404843L142.64474279222554,138.9242927249802L124.0825470965254,135.73495058879814L105.49880510507785,131.78601455385632L109.05001735890997,116.73304054389604L110.06246247323426,114.41106026475791L109.83582114265562,113.23614481517387L108.87758050415673,112.4202833485869L109.18463614589055,111.06598868880525L110.4534198773353,109.40533388040694L112.06970998433228,107.9715111020841L113.51568596269631,105.45218532552241L114.82818113049153,103.50156411640421L115.59635535622607,102.55082215534048L115.57226324926886,101.2031908937928L114.74099434838297,100.27446037331322L113.72431919974964,98.4076920852952L114.13334448625284,96.93353940516579L113.89192391564504,95.53803404216308L116.35101905885313,83.89846261291694L118.65368577961114,73.320422082079L122.26841046093209,74.12076508101319ZM118.65368577961114,73.320422082079L116.35101905885313,83.89846261291694L113.89192391564504,95.53803404216308L114.13334448625284,96.93353940516579L113.72431919974964,98.4076920852952L101.78067871614965,95.67468481720243L99.46104034945037,95.99817622024119L98.04416290998932,95.26571062059122L96.75353870269919,95.61322209367916L94.40848120281242,95.98642251596851L91.79187815640856,95.22474026507439L90.34394331489844,95.51774819412128L88.98873191841395,95.45543424094416L88.20029337279018,94.78915771586838L86.26831696327324,93.88298346906737L84.83973757748771,93.7896846088363L82.42712003402195,94.02112333854569L80.98130109908743,93.68635245325976L79.73213607969919,92.94930084323818L79.60609160982546,91.70001155977394L79.86110740171515,90.25798148263442L79.26528674855786,88.41809681375588L77.77516288864163,87.45106648116536L76.59443590534545,86.26737566359003L74.81905352229754,85.73628217337784L73.58366595338975,85.28698618542762L74.57884468911064,80.42647211934218L74.97681540152769,72.89378427812801L74.47810458958546,68.65278773264868L75.68580591024025,67.28917405061424L82.81804805706142,72.4574119085238L83.558789253096,81.04005040319123L85.56670357524484,79.27695955958393L85.67848792622132,78.32969566615196L86.62114544270301,72.28077144548735L86.60482289836185,65.07246183590121L102.24354344685824,69.35827509412917L111.44108098179713,71.64566103380116ZM149.32929360979023,183.7110619021107L142.6522414780619,232.07590710110736L128.28725416667615,230.01326733224755L113.02704484242645,221.2289346922978L106.10699567023354,216.93283445306133L103.1375182168178,215.07470154170477L104.10892028460302,213.54971202448291L105.02326342320674,213.73152322517666L106.17210504511408,212.2394475568746L105.1237951514237,210.8358829246721L105.10868728774801,209.48662264103172L105.04717365231988,207.9032263426309L106.79150283361611,206.22971935696904L108.09981213845603,202.44684724771463L110.59295503240028,201.13745372946556L109.55755919323363,199.28965326949464L108.97538982320444,197.52812106052102L108.73956719143644,195.9085698527179L108.61241722741437,194.6845743352302L108.57799129308657,193.9283547914955L109.36437163993472,192.28566877184494L109.33968067003462,190.5568123170766L109.47863284733825,188.93505419795508L109.85154781853738,187.05963484041564L109.55526023806058,185.80062783369698L110.19439523333386,184.87797306056314L111.59469528959576,185.15502003111533L112.79562826886333,185.9895992388095L113.6025114455891,186.52065798454862L114.2913866458027,185.30504569422772L114.69708780254844,185.08337760021305L115.92768061373538,178.20232264072422L126.70668657087201,180.027923455728L139.56910428146836,182.21297320690405ZM108.57799129308657,193.9283547914955L108.61241722741437,194.6845743352302L108.73956719143644,195.9085698527179L108.97538982320444,197.52812106052102L109.55755919323363,199.28965326949464L110.59295503240028,201.13745372946556L108.09981213845603,202.44684724771463L106.79150283361611,206.22971935696904L105.04717365231988,207.9032263426309L105.10868728774801,209.48662264103172L105.1237951514237,210.8358829246721L106.17210504511408,212.2394475568746L105.02326342320674,213.73152322517666L104.10892028460302,213.54971202448291L94.9628263068991,212.63379352634786L87.53906425281923,211.60634250252753L86.88488392698784,211.53395340614634L86.67762256859567,206.97597230330422L83.296835213456,201.07219588925346L80.30907544645765,199.3057693718655L80.17927374059497,196.7067803238079L76.45587852670792,195.3425913400954L74.54078171017545,192.44185652117955L68.46749827936097,190.04720182759303L67.06161560522932,188.2330349796116L67.09926308427211,188.09098370037174L67.49963839629095,183.4064763689579L64.94911410602384,177.31173375665958L63.28059511226007,173.26715859073096L61.09566760146146,160.18915829265956L61.362313865773956,159.5765749938829L61.91535845409007,158.28046000216466L59.91120478313766,154.8673023382962L59.8689919177267,154.70169399841785L58.55692490687244,151.17231221571387L56.94717744632584,146.3163281761848L58.165944377439615,139.3071912614309L57.46087690988608,137.2491031871582L56.222180469898206,133.7938304519675L58.55055365633916,129.35650889440814L59.69544181772525,127.32448356916024L61.6260402237329,120.15853041391557L87.25354588102334,127.45628736991068L80.7706596591216,152.5825625176122L90.14956012626479,166.95702682276232L99.49188594244657,180.77311862216823ZM198.16990357266613,162.46811690072462L197.31892092489778,175.83155721478994L196.51448645333386,188.46402636737787L190.00541282276652,188.01643996117565L181.91990923244344,187.3681412867137L170.42235161133107,186.2695399770874L159.82151583162738,185.07191531444437L149.32929360979023,183.7110619021107L153.98536637701184,149.37502284334101L160.35340746453642,150.22090274475732L166.73000484624106,150.99966197048622L179.50603782928783,152.35548025510565L185.91026986655484,152.8591665863393L198.7212167502053,153.81054819268684L198.18392531772525,162.24792586194366ZM105.49880510507785,131.78601455385632L124.0825470965254,135.73495058879814L115.92768061373538,178.20232264072422L114.69708780254844,185.08337760021305L114.2913866458027,185.30504569422772L113.6025114455891,186.52065798454862L112.79562826886333,185.9895992388095L111.59469528959576,185.15502003111533L110.19439523333386,184.87797306056314L109.55526023806058,185.80062783369698L109.85154781853738,187.05963484041564L109.47863284733825,188.93505419795508L109.33968067003462,190.5568123170766L109.36437163993472,192.28566877184494L108.57799129308657,193.9283547914955L99.49188594244657,180.77311862216823L90.14956012626479,166.95702682276232L80.7706596591216,152.5825625176122L87.25354588102334,127.45628736991068L105.48269284123603,131.85762394924961ZM142.6522414780619,232.07590710110736L149.32929360979023,183.7110619021107L159.82151583162738,185.07191531444437L170.42235161133107,186.2695399770874L181.91990923244344,187.3681412867137L190.00541282276652,188.01643996117565L189.6911006993177,192.272496806334L188.01820238899836,214.9249806709867L186.82462138487546,231.0870954093827L180.16583420246823,230.56281596711813L167.23943253118114,229.35890707891895L160.69184094286845,228.65500466666555L160.70367459542808,229.39318469092348L161.39262335805103,230.86968972770762L148.83809902816455,229.35995948204982L148.38679943458754,232.84322887868467ZM113.72431919974964,98.4076920852952L114.74099434838297,100.27446037331322L115.57226324926886,101.2031908937928L115.59635535622607,102.55082215534048L114.82818113049153,103.50156411640421L113.51568596269631,105.45218532552241L112.06970998433228,107.9715111020841L110.4534198773353,109.40533388040694L109.18463614589055,111.06598868880525L108.87758050415673,112.4202833485869L109.83582114265562,113.23614481517387L110.06246247323426,114.41106026475791L109.05001735890997,116.73304054389604L105.49880510507785,131.78601455385632L105.48269284123603,131.85762394924961L87.25354588102334,127.45628736991068L61.6260402237329,120.15853041391557L61.613563632846734,113.24688389366906L66.31903218962307,106.18651916428769L69.33829381929866,99.00377970121991L72.27910863553186,91.73733644882282L73.58366595338975,85.28698618542762L74.81905352229754,85.73628217337784L76.59443590534545,86.26737566359003L77.77516288864163,87.45106648116536L79.26528674855786,88.41809681375588L79.86110740171515,90.25798148263442L79.60609160982546,91.70001155977394L79.73213607969919,92.94930084323818L80.98130109908743,93.68635245325976L82.42712003402195,94.02112333854569L84.83973757748771,93.7896846088363L86.26831696327324,93.88298346906737L88.20029337279018,94.78915771586838L88.98873191841395,95.45543424094416L90.34394331489844,95.51774819412128L91.79187815640856,95.22474026507439L94.40848120281242,95.98642251596851L96.75353870269919,95.61322209367916L98.04416290998932,95.26571062059122L99.46104034945037,95.99817622024119L101.78067871614965,95.67468481720243ZM124.0825470965254,135.73495058879814L142.64474279222554,138.9242927249802L141.31255039659155,147.2645888120951L153.98536637701184,149.37502284334101L149.32929360979023,183.7110619021107L139.56910428146836,182.21297320690405L126.70668657087201,180.027923455728L115.92768061373538,178.20232264072422ZM145.88476857878237,117.63437328914256L146.02073942085113,117.2861744545553L146.70078437627996,113.03243505227658L158.4577845865423,114.71392694830342L167.8073877850497,116.00666610714086L178.60148680515553,117.14746747255845L188.69002655567843,118.24269183491418L187.36252076612354,135.74628298142972L185.91026986655484,152.8591665863393L179.50603782928783,152.35548025510565L166.73000484624106,150.99966197048622L160.35340746453642,150.22090274475732L153.98536637701184,149.37502284334101L141.31255039659155,147.2645888120951L142.64474279222554,138.9242927249802L146.0183252998421,117.80371203404843ZM280.94999921861677,196.70525823418836L280.9097559042139,197.44511661936792L280.3670908222784,198.73406232036695L279.16691594515726,199.62235150156403L278.9912712080737,201.10721907723968L277.9824454153593,202.27534325641835L278.22647490829155,204.76466790070594L277.4633339989518,205.62144038005397L277.417320748873,206.36058508916364L276.1854432772599,207.02283781181615L276.25839442193916,208.2700378362693L275.3944159825806,210.67506434999018L274.69485802646267,211.22960903081002L273.48265925702515,212.4732664963242L272.84549513791234,214.27246034593372L271.44147635613587,217.35933270800712L271.3607473314488,219.42109017827732L272.3077184002331,221.65040598536785L272.0234306908804,223.35424249618637L265.98022491619014,223.34150324482442L258.1955164470353,223.91749730031194L251.32440442135658,224.0924615213243L251.68510208070046,219.168235205445L250.02426633587504,219.12779685535077L248.6438989897253,219.29889635920432L248.26565817114016,218.71780327333516L248.32668022610412,211.1518552544752L248.37005752981105,202.77076773611947L246.79974089098857,193.67323174167575L255.13881655140978,193.5732818746393L262.6788956911565,193.39760247906662L269.8590824860945,193.0785631876389L277.6871454761552,193.1558311475444L278.2835676683969,194.15055852777795L277.5434705227655,195.15485305935317L276.8900015611967,196.15286898698724L276.4931340816825,196.98736646084808ZM234.66768775628495,133.54015918147923L241.4278018693707,133.5335864356603L249.8740193362238,133.26973515714474L258.8815053461402,133.01077722919388L267.0074291047051,132.80519682869345L267.10991888587756,133.2399357323166L267.98619245677986,134.58851271723728L267.4552893035406,135.27589727592027L267.5445234465381,137.0321772553433L267.90968827421517,137.8207839270409L268.30613385926154,139.1950125998169L270.46312442259995,139.88691737552853L271.1069038712275,141.17303066332101L271.5521483283714,141.80896686765698L272.3122372234246,142.2059586552213L272.61317445741423,143.14372960694675L273.63444023828407,143.7444288560224L274.33445767161277,144.43696177287717L274.149510752534,146.8015682935839L273.1098855469387,148.77645765733524L272.735574919425,149.46052197231364L271.27636759078706,150.05882671688857L269.14419004066406,150.54196447324853L268.64367708941944,152.11262000374376L269.5086418342822,152.72972310813088L269.8281302748971,154.03726991014514L269.07127846063327,155.54879246721333L268.7213283334436,156.89156180092266L267.1116745689345,158.29641868504478L267.0180725239964,159.8466783327125L266.1429936030425,159.15207079560184L264.82093385169327,157.81416653025764L257.7875853068789,158.30834945678333L250.40770131174577,158.58193104656954L244.61792813026923,158.67666888512395L238.8275186599982,158.71675526177995L238.32185729915187,157.1739828845121L238.57021996662775,155.63016215761212L238.40087742928054,154.08728528536068L237.73351261736417,151.5901060526179L237.31904766263887,150.56185867508663L236.82253154730046,150.26775789747552L236.82467200747905,148.28514046435419L236.41466146133052,146.88972660052832L235.26835864703887,145.27191322162747L235.27105809566055,144.53810769126113L234.8672323357173,143.1424813382023L234.6260620364492,142.26112753415862L234.62991274841187,141.4543682205889L233.65731530623077,140.4956121915613L234.1536799471986,139.10558800292517L234.48566202701863,137.71473118464496L234.65230528289754,136.7629277997019L233.85032682090656,135.58634808533424L233.8629195041985,133.53576752500658ZM196.51448645333386,188.46402636737787L197.31892092489778,175.83155721478994L198.16990357266613,162.46811690072462L209.4900635740317,163.08486998012802L217.9442807669575,163.4098757776204L232.91620881212464,163.70154005702818L241.8842898141116,163.70263471442524L243.41841681081354,164.86664307618042L244.2660345716669,164.85793416616679L244.44960110555405,166.10642383344862L243.61623849003885,167.73368341642697L244.05054539720007,168.53854115729757L244.92510191059995,170.36816415447777L246.64722841336464,171.15471469992144L246.6961865466384,180.42728178385119L246.8307733389778,189.69901694652822L240.83562573631534,189.7581539911642L228.66865619385385,189.70673785788307L216.41670336625862,189.4227885638071L209.72073043031628,189.16904420636985L202.9397150930337,188.84098339052042ZM280.94999921861677,196.70525823418836L276.4931340816825,196.98736646084808L276.8900015611967,196.15286898698724L277.5434705227655,195.15485305935317L278.2835676683969,194.15055852777795L277.6871454761552,193.1558311475444L269.8590824860945,193.0785631876389L262.6788956911565,193.39760247906662L255.13881655140978,193.5732818746393L246.79974089098857,193.67323174167575L246.8307733389778,189.69901694652822L246.6961865466384,180.42728178385119L246.64722841336464,171.15471469992144L244.92510191059995,170.36816415447777L244.05054539720007,168.53854115729757L243.61623849003885,167.73368341642697L244.44960110555405,166.10642383344862L244.2660345716669,164.85793416616679L243.41841681081354,164.86664307618042L241.8842898141116,163.70263471442524L241.02766473698424,161.86959305926263L240.0108891785119,160.77162290539468L238.91316019198877,159.45173050884415L238.8275186599982,158.71675526177995L244.61792813026923,158.67666888512395L250.40770131174577,158.58193104656954L257.7875853068789,158.30834945678333L264.82093385169327,157.81416653025764L266.1429936030425,159.15207079560184L267.0180725239964,159.8466783327125L266.6142420691659,162.00082194652066L267.33230154614404,164.61728912097618L268.4368945926017,166.33067743381542L269.7875360020424,167.73519497591064L271.3841354225257,168.8291630064573L272.00157603507387,169.1637206121173L272.6044278665034,170.7513487582047L272.7727125354098,172.2158710321466L273.5657270737278,172.5392604461286L274.81781151472006,171.8762479145915L276.1036797269794,173.19908468490672L275.85857952846067,174.83609530244456L275.3306107474367,176.12137803407302L274.99060183412735,177.68988021898247L276.02266821556896,178.9549821999774L277.3968328864538,180.0497630192932L278.1830655745968,180.07357854009166L280.0425201919974,181.7956260156733L280.7590821699934,182.04236597624055L281.33577410001635,184.06841960440437L281.25136515742315,185.4019769683855L282.18768772655426,187.4765507442125L282.96274766982674,187.20080559098716L284.2002693466843,188.4399809508153L284.08802790657046,189.33344547346627L284.2719149700106,190.64805307023425L283.26438663739344,191.45793829129383L281.82684912544494,192.51690892452785L281.7048584976783,193.3364305658435L281.3458612761918,194.61433905841722ZM198.16990357266613,162.46811690072462L198.18392531772525,162.24792586194366L198.7212167502053,153.81054819268684L185.91026986655484,152.8591665863393L187.36252076612354,135.74628298142972L199.48905400391442,136.65017387244154L208.79716273856448,137.17454705249116L221.27264160807104,137.64730618693636L222.86642715685878,138.78850948542043L225.20757509960154,139.5014211857943L225.70259921222615,139.14481422216437L227.1650216603347,139.17200250641167L229.44101365612227,139.13383808003317L231.05401978532012,140.2532386979392L232.75754081179343,141.0024715737743L232.99652823381214,141.73769961720598L233.56531708335643,142.1084251792969L234.6260620364492,142.26112753415862L234.8672323357173,143.1424813382023L235.27105809566055,144.53810769126113L235.26835864703887,145.27191322162747L236.41466146133052,146.88972660052832L236.82467200747905,148.28514046435419L236.82253154730046,150.26775789747552L237.31904766263887,150.56185867508663L237.73351261736417,151.5901060526179L238.40087742928054,154.08728528536068L238.57021996662775,155.63016215761212L238.32185729915187,157.1739828845121L238.8275186599982,158.71675526177995L238.91316019198877,159.45173050884415L240.0108891785119,160.77162290539468L241.02766473698424,161.86959305926263L241.8842898141116,163.70263471442524L232.91620881212464,163.70154005702818L217.9442807669575,163.4098757776204L209.4900635740317,163.08486998012802ZM190.00541282276652,188.01643996117565L196.51448645333386,188.46402636737787L202.9397150930337,188.84098339052042L209.72073043031628,189.16904420636985L216.41670336625862,189.4227885638071L228.66865619385385,189.70673785788307L240.83562573631534,189.7581539911642L246.8307733389778,189.69901694652822L246.79974089098857,193.67323174167575L248.37005752981105,202.77076773611947L248.32668022610412,211.1518552544752L248.26565817114016,218.71780327333516L245.20588214352475,217.07135644200326L243.1764856730182,216.2105504540757L241.61973662158024,216.8093659204115L239.13892068475303,216.67324947254622L237.66935276175087,216.74870263717764L236.38224578415333,217.40859979550174L235.27765128225482,217.77296001806923L234.1758224913867,217.32797347516862L231.87309820688012,217.82662824766135L230.78366411292959,216.34825316039843L229.66752380495106,217.5843914364528L227.7446165285201,216.9719277566012L225.74620425984259,215.61816364365058L223.61886917902072,216.45887232792376L222.74593316129167,214.38368913457208L219.4468754415382,214.44986655734232L217.4461626483493,213.95212274217L215.08757450958603,213.2894094710507L214.05549136901607,211.41645055613094L212.21072517510106,211.93716608909506L211.14246600041938,211.23414050178047L209.45177488457057,210.20918362388733L209.79840646156197,201.98394839806485L210.15766074849026,193.45918835883754L203.33143364043158,193.13549168967597L196.50899465348175,192.7399132097638L189.6911006993177,192.272496806334ZM234.2281952885875,111.9260089142661L234.14341468007277,113.16292954169023L232.81494563283775,114.10020549470181L232.49348898402803,115.26297342516153L233.0291217782997,116.57910285160204L234.11947749181763,117.24259624591934L234.78547018056466,125.49412965502898L234.66768775628495,133.54015918147923L233.8629195041985,133.53576752500658L233.85032682090656,135.58634808533424L234.65230528289754,136.7629277997019L234.48566202701863,137.71473118464496L234.1536799471986,139.10558800292517L233.65731530623077,140.4956121915613L234.62991274841187,141.4543682205889L234.6260620364492,142.26112753415862L233.56531708335643,142.1084251792969L232.99652823381214,141.73769961720598L232.75754081179343,141.0024715737743L231.05401978532012,140.2532386979392L229.44101365612227,139.13383808003317L227.1650216603347,139.17200250641167L225.70259921222615,139.14481422216437L225.20757509960154,139.5014211857943L222.86642715685878,138.78850948542043L221.27264160807104,137.64730618693636L208.79716273856448,137.17454705249116L199.48905400391442,136.65017387244154L187.36252076612354,135.74628298142972L188.69002655567843,118.24269183491418L189.66698657091467,110.42635774097039L200.9684903798873,111.19576997414754L213.2085124131778,111.8525641643692L222.90038790475836,112.184659478416ZM251.32440442135658,224.0924615213243L258.1955164470353,223.91749730031194L265.98022491619014,223.34150324482442L272.0234306908804,223.35424249618637L272.60653803630913,223.83833765699893L272.0199718708872,225.11662792175412L273.13490052771994,226.8208992788115L272.90837406421184,227.86018392278243L273.92400169043833,229.3476834425329L272.939998590361,230.27969481549866L272.7415097497661,231.90341713617096L271.3973480190377,233.29074751794678L270.826836899375,235.15079796833834L270.2631504987513,237.22895336728172L269.36021665878434,238.2231046581668L269.8414275039992,240.3969643794228L276.22351017790174,240.29011776411446L283.167083595488,239.9414856428262L283.0677813328429,241.3397650033033L282.6861670632485,242.82913320226905L283.23013056795185,243.81856008347512L284.25393042669003,244.77549878510996L284.54314099313797,246.21962857848263L284.78892988550774,247.00782097049864L284.89476675152207,247.14697818363L286.29938848894597,249.31796575536632L286.44469338682154,252.8159852997028L288.20963111666975,254.37174894438965L286.8352093206833,255.63690959203967L283.93095044516696,254.5188806766808L281.2196813795737,256.36957642941L275.852435487816,256.38770560841994L270.001306558761,252.1569266577608L263.56116957263816,253.51805691183722L258.07515775152734,251.6565860152904L253.45110630925296,252.4327194685975L252.94663792819068,251.49572368216877L253.69101672449443,250.2386883908304L254.72324568264378,249.04642809875332L254.77816753734146,247.36583935186283L254.18796654840128,246.79590580065096L254.80909230253246,244.7353597648658L255.26335185056473,243.77392871153688L255.84922772289642,240.61486225087233L255.15356807133213,239.46255212640196L254.25101283494575,237.50940410314854L253.63656981437384,235.54771908411698L253.13447434801438,234.24134688328286L251.9818186904305,233.24131485515073ZM161.39262335805103,230.86968972770762L160.70367459542808,229.39318469092348L160.69184094286845,228.65500466666555L167.23943253118114,229.35890707891895L180.16583420246823,230.56281596711813L186.82462138487546,231.0870954093827L188.01820238899836,214.9249806709867L189.6911006993177,192.272496806334L196.50899465348175,192.7399132097638L203.33143364043158,193.13549168967597L210.15766074849026,193.45918835883754L209.79840646156197,201.98394839806485L209.45177488457057,210.20918362388733L211.14246600041938,211.23414050178047L212.21072517510106,211.93716608909506L214.05549136901607,211.41645055613094L215.08757450958603,213.2894094710507L217.4461626483493,213.95212274217L219.4468754415382,214.44986655734232L222.74593316129167,214.38368913457208L223.61886917902072,216.45887232792376L225.74620425984259,215.61816364365058L227.7446165285201,216.9719277566012L229.66752380495106,217.5843914364528L230.78366411292959,216.34825316039843L231.87309820688012,217.82662824766135L234.1758224913867,217.32797347516862L235.27765128225482,217.77296001806923L236.38224578415333,217.40859979550174L237.66935276175087,216.74870263717764L239.13892068475303,216.67324947254622L241.61973662158024,216.8093659204115L243.1764856730182,216.2105504540757L245.20588214352475,217.07135644200326L248.26565817114016,218.71780327333516L248.6438989897253,219.29889635920432L250.02426633587504,219.12779685535077L251.68510208070046,219.168235205445L251.32440442135658,224.0924615213243L251.9818186904305,233.24131485515073L253.13447434801438,234.24134688328286L253.63656981437384,235.54771908411698L254.25101283494575,237.50940410314854L255.15356807133213,239.46255212640196L255.84922772289642,240.61486225087233L255.26335185056473,243.77392871153688L254.80909230253246,244.7353597648658L254.18796654840128,246.79590580065096L254.77816753734146,247.36583935186283L254.72324568264378,249.04642809875332L253.69101672449443,250.2386883908304L252.94663792819068,251.49572368216877L253.45110630925296,252.4327194685975L247.28638309035335,254.513450516576L240.5212147880537,260.9097420624403L232.95957493344972,264.61047888234907L228.9773142777529,268.4969517033229L228.7776926106026,268.6397684069571L227.0402682642814,272.4620858507214L226.89879998544058,275.3590849851828L226.85580347380187,278.32715661474765L227.1994872270172,282.45434667170537L227.9840056816648,284.1987972159253L228.57663622349918,285.3615299117946L225.53587070801325,285.53531093628266L220.11186137780743,283.550019122445L214.13517901408088,280.7824156209772L212.0598397828289,276.73223273920684L210.58163240769954,270.66076764961997L206.32671676243515,265.62268000439286L204.52618644458934,261.8320246817246L203.90140032533316,260.49241438001263L200.48715138321336,254.49188085240172L195.356169826349,250.77368044850698L192.55297273140326,250.67381679636156L189.2674914799401,250.5300055985807L184.13107174859002,256.9550530893442L178.11492074645594,253.92106386620037L176.9292557469158,252.9433611365687L174.47130852606637,250.97283724634735L173.06438528938205,246.15849035449753L171.097371471169,241.4276051362877L167.10239419139532,237.21525013292262L166.7460803611633,236.95842846743486L163.69984781714032,234.13933225324598L161.64183065639372,231.19187461575495ZM378.4172563786311,129.24372716413217L383.161675936764,128.22962037455414L388.8724673893071,127.00029336065273L390.13612952521606,131.52709986573444L390.04891111567485,132.8400308620083L387.42309403309827,133.9704262221834L383.90232066546366,135.31012149437146L382.9124509984092,136.16020296988057L379.6659094482502,138.68782625097327L379.5333879547546,138.49286827837113L379.11469198214616,137.4597079708018L380.220852613475,136.36265352933475L379.56376290477147,135.76532900009403ZM388.8724673893071,127.00029336065273L383.161675936764,128.22962037455414L378.4172563786311,129.24372716413217L378.2885505034041,123.16079841039868L383.3787147969929,122.04804587324787L390.7237645711447,120.21612526481061L391.12540478316606,119.19821608923752L392.2283921913364,118.2943907105581L392.99139115287653,118.31566621398792L394.1031605886259,122.72516961163637L397.36281022748625,126.55184401007165L399.9652870869776,126.05850487587202L399.4306687155985,125.06451540359677L398.4034794294355,123.21744632734482L400.81805151499924,124.52267517204507L400.9186413083972,126.0960558789917L400.9384286927871,127.0820783432847L398.0443829756292,129.02993659577027L397.16328986842393,129.57612087573023L394.24568584386,130.21353365276178L393.66394556226794,129.00081784425754L392.4413999780503,128.2629235123204L391.4595279859753,126.16904220893804ZM392.99139115287653,118.31566621398792L392.2283921913364,118.2943907105581L391.12540478316606,119.19821608923752L390.7237645711447,120.21612526481061L383.3787147969929,122.04804587324787L382.69019774357025,121.31451698775595L382.8753840191912,120.05815065339567L382.39669515205026,117.83618212200594L382.5056555336702,117.2796143086444L382.1576948231216,115.25241497214671L382.4431499148484,113.44246320748289L382.7279742584733,112.6143329243082L382.9159385598541,110.45128979856929L382.7239681818944,109.06600345809915L382.7361515525647,108.15691127573166L383.7219597700905,107.52399081682643L384.8460742554961,106.1726479491578L384.7973674379284,105.05231784673316L384.0228435285453,103.97205987413969L384.11521556963095,101.53242051694895L384.1824445413391,99.32651599592879L385.9062981188,98.48972628723794L390.85184917173547,113.5057399287216L390.8282096702094,114.34643551226566L392.2633196819188,115.32410486054619L392.88302181640245,116.37047334746842L393.4886399317663,116.12937853852202ZM390.04891111567485,132.8400308620083L390.13612952521606,131.52709986573444L388.8724673893071,127.00029336065273L391.4595279859753,126.16904220893804L392.4413999780503,128.2629235123204L393.66394556226794,129.00081784425754L394.24568584386,130.21353365276178L393.7233481879203,130.50530487242196ZM383.3787147969929,122.04804587324787L378.2885505034041,123.16079841039868L376.9186355502105,116.17978945626623L375.9639674715778,116.33677018133511L375.8168737238394,116.07112036463872L375.8961015797716,114.6961668629616L374.83437220651774,112.69517670562419L375.02325577066534,110.76814469746364L374.3263448760222,109.58340361726164L373.66408602347974,107.18796673025878L373.619043262989,105.99664544683714L373.2994454890629,104.3466206924466L379.0105168237435,102.8530076856344L384.11521556963095,101.53242051694895L384.0228435285453,103.97205987413969L384.7973674379284,105.05231784673316L384.8460742554961,106.1726479491578L383.7219597700905,107.52399081682643L382.7361515525647,108.15691127573166L382.7239681818944,109.06600345809915L382.9159385598541,110.45128979856929L382.7279742584733,112.6143329243082L382.4431499148484,113.44246320748289L382.1576948231216,115.25241497214671L382.5056555336702,117.2796143086444L382.39669515205026,117.83618212200594L382.8753840191912,120.05815065339567L382.69019774357025,121.31451698775595ZM291.92471744425575,204.8078998992089L300.67159381523413,204.02737815355482L309.5953431558186,203.1842277942298L312.59289289314904,213.64233530066582L315.21808176387276,221.98284537629286L316.549885535533,224.55893315017136L317.3797094282334,226.01110095426617L316.34553762761726,227.68020727933998L316.28165983496035,230.4147080441088L316.8414205610468,231.9710354569923L316.82951534521635,233.51913430121311L316.8083573642559,234.9941421293816L317.4061910410271,236.0293342046882L317.89392504960165,236.92956104016727L303.0280521203156,238.56979277355128L298.8988297767862,239.46147111605762L298.76668738274793,240.133493633567L300.66231292830764,242.0179474163261L300.438383697875,243.79815725350588L299.9689106072326,245.01311623549995L293.3813193414263,244.61806247193013L292.14482450018676,231.51310007035607L292.24634148397297,217.67832540310968L292.6065110183616,206.4475676463622ZM299.9689106072326,245.01311623549995L300.438383697875,243.79815725350588L300.66231292830764,242.0179474163261L298.76668738274793,240.133493633567L298.8988297767862,239.46147111605762L303.0280521203156,238.56979277355128L317.89392504960165,236.92956104016727L319.2082268419904,239.13038227761234L326.6632026796202,238.65360942078024L338.5912214651818,238.2698869424204L339.3826472755029,239.70390860480435L340.2148496704925,238.7693368571255L339.77596653572726,235.8066490984952L340.58289723109505,235.39108322149758L342.1917990943002,235.81398819823687L343.72525095995,235.727577138186L345.8740872094283,241.45350850251788L349.4966635890429,248.26241067124118L353.75510831539384,253.76553422239718L354.44091994331006,257.3349000379685L359.6047874430135,266.5456399387932L360.3598345526765,272.21342033006886L360.51393658510403,275.5565560156492L359.46457806537757,280.9959575070965L357.3224380761621,282.4425444601103L353.3208717914874,281.9882513451472L352.57174050102094,280.50098306402026L351.5461875716194,278.54444946994926L348.34438171681165,277.0647250853566L345.94212929572257,273.99244836298465L343.18514754282626,270.45093574824784L338.703795305915,264.50602605536244L337.1611778668623,261.351617702908L337.92447344503154,255.44820245898165L335.148353764515,251.13414227213713L328.42110737997865,244.75689208577995L325.38565645523613,243.82120490380103L318.47314194264175,248.62113814001782L317.07671460803516,248.3403125087697L312.9901821878428,244.75575662479952L308.1820513367404,243.1302952952858L303.5575312883908,244.17005912803583ZM317.89392504960165,236.92956104016727L317.4061910410271,236.0293342046882L316.8083573642559,234.9941421293816L316.82951534521635,233.51913430121311L316.8414205610468,231.9710354569923L316.28165983496035,230.4147080441088L316.34553762761726,227.68020727933998L317.3797094282334,226.01110095426617L316.549885535533,224.55893315017136L315.21808176387276,221.98284537629286L312.59289289314904,213.64233530066582L309.5953431558186,203.1842277942298L314.91176714210553,202.65374065415534L318.58870874091684,202.13615387203066L327.21804597794886,201.08717961461133L326.50926947489245,201.9254961743435L325.6457516968902,203.6732463753828L327.73609929237193,204.87324662392712L328.9796383713394,205.22111147312705L330.7124536480709,207.72332859971306L331.7448082086148,209.13490618676582L334.49276120951845,210.81647033624535L335.1075379830783,211.83940236946768L336.9540927162285,212.9762041519923L338.08133111447796,214.88487395398278L340.62720300854403,216.20441749042095L341.38828991778405,218.09044849763615L341.9945868586517,218.96102678032554L341.81896103343985,219.65583673620966L343.2578518503912,220.39610248301204L344.24792916788067,221.87232664988903L344.49913024025216,223.464257630384L345.20595498551876,223.7231484798001L346.48203886636816,223.96436095407682L343.91457538609836,229.48360857694405L343.72525095995,235.727577138186L342.1917990943002,235.81398819823687L340.58289723109505,235.39108322149758L339.77596653572726,235.8066490984952L340.2148496704925,238.7693368571255L339.3826472755029,239.70390860480435L338.5912214651818,238.2698869424204L326.6632026796202,238.65360942078024L319.2082268419904,239.13038227761234ZM272.0234306908804,223.35424249618637L272.3077184002331,221.65040598536785L271.3607473314488,219.42109017827732L271.44147635613587,217.35933270800712L272.84549513791234,214.27246034593372L273.48265925702515,212.4732664963242L274.69485802646267,211.22960903081002L275.3944159825806,210.67506434999018L276.25839442193916,208.2700378362693L276.1854432772599,207.02283781181615L277.417320748873,206.36058508916364L277.4633339989518,205.62144038005397L284.32668658351196,205.1700377694791L291.92471744425575,204.8078998992089L292.6065110183616,206.4475676463622L292.24634148397297,217.67832540310968L292.14482450018676,231.51310007035607L293.3813193414263,244.61806247193013L287.77676332708126,245.62906494813697L284.89476675152207,247.14697818363L284.78892988550774,247.00782097049864L284.54314099313797,246.21962857848263L284.25393042669003,244.77549878510996L283.23013056795185,243.81856008347512L282.6861670632485,242.82913320226905L283.0677813328429,241.3397650033033L283.167083595488,239.9414856428262L276.22351017790174,240.29011776411446L269.8414275039992,240.3969643794228L269.36021665878434,238.2231046581668L270.2631504987513,237.22895336728172L270.826836899375,235.15079796833834L271.3973480190377,233.29074751794678L272.7415097497661,231.90341713617096L272.939998590361,230.27969481549866L273.92400169043833,229.3476834425329L272.90837406421184,227.86018392278243L273.13490052771994,226.8208992788115L272.0199718708872,225.11662792175412L272.60653803630913,223.83833765699893ZM346.48203886636816,223.96436095407682L345.20595498551876,223.7231484798001L344.49913024025216,223.464257630384L344.24792916788067,221.87232664988903L343.2578518503912,220.39610248301204L341.81896103343985,219.65583673620966L341.9945868586517,218.96102678032554L341.38828991778405,218.09044849763615L340.62720300854403,216.20441749042095L338.08133111447796,214.88487395398278L336.9540927162285,212.9762041519923L335.1075379830783,211.83940236946768L334.49276120951845,210.81647033624535L331.7448082086148,209.13490618676582L330.7124536480709,207.72332859971306L328.9796383713394,205.22111147312705L327.73609929237193,204.87324662392712L325.6457516968902,203.6732463753828L326.50926947489245,201.9254961743435L327.21804597794886,201.08717961461133L327.9055957544205,200.7701385249071L331.3717086515354,198.7974227946379L337.726014235463,197.9273269905812L340.99662826020744,197.78874731327664L341.20116391805084,198.50056718987275L341.74548372999493,197.89283725246224L343.0510053245437,199.1720848690244L343.2032827861174,200.11530818181075L350.912590006267,198.89862906206605L360.09644458711966,205.60781830131373L357.13129753183546,209.35893060592088L356.6349730089552,212.35514789651126L349.79815960217996,219.2645956306166ZM267.0180725239964,159.8466783327125L267.1116745689345,158.29641868504478L268.7213283334436,156.89156180092266L269.07127846063327,155.54879246721333L269.8281302748971,154.03726991014514L269.5086418342822,152.72972310813088L268.64367708941944,152.11262000374376L269.14419004066406,150.54196447324853L271.27636759078706,150.05882671688857L272.735574919425,149.46052197231364L273.1098855469387,148.77645765733524L274.149510752534,146.8015682935839L274.33445767161277,144.43696177287717L273.63444023828407,143.7444288560224L272.61317445741423,143.14372960694675L272.3122372234246,142.2059586552213L271.5521483283714,141.80896686765698L271.1069038712275,141.17303066332101L277.54499246532646,140.77479944429183L284.059804005978,140.30065184423387L288.8672610996221,139.97837914597733L289.14470944442144,142.237079711146L291.26491972828984,146.61903747078935L292.1551138449163,156.57188287263835L292.9611862599248,166.54204358034093L292.4945433700156,169.02100582166543L293.05870798684566,169.56196656173603L293.5381892918458,171.07055888052417L293.63667306492334,172.16996510820763L293.088282086872,172.80986932326857L292.78149055559527,174.2406133727568L291.5680632636202,176.26658889394764L290.80989213023076,178.6206738892206L290.6974385199046,180.4026382091879L290.8397215882928,181.05539126333105L290.15392595563196,182.29412351827608L290.8314102483953,183.0501084841914L289.66376664534295,183.81126078451513L288.23684895789177,184.66451416277164L288.64559881895514,186.4775626421951L287.8258969082857,187.28058772818628L286.0958014525341,186.60212879693796L284.30873853589395,186.29238311604405L283.8408800064441,187.13798190261474L284.2002693466843,188.4399809508153L282.96274766982674,187.20080559098716L282.18768772655426,187.4765507442125L281.25136515742315,185.4019769683855L281.33577410001635,184.06841960440437L280.7590821699934,182.04236597624055L280.0425201919974,181.7956260156733L278.1830655745968,180.07357854009166L277.3968328864538,180.0497630192932L276.02266821556896,178.9549821999774L274.99060183412735,177.68988021898247L275.3306107474367,176.12137803407302L275.85857952846067,174.83609530244456L276.1036797269794,173.19908468490672L274.81781151472006,171.8762479145915L273.5657270737278,172.5392604461286L272.7727125354098,172.2158710321466L272.6044278665034,170.7513487582047L272.00157603507387,169.1637206121173L271.3841354225257,168.8291630064573L269.7875360020424,167.73519497591064L268.4368945926017,166.33067743381542L267.33230154614404,164.61728912097618L266.6142420691659,162.00082194652066ZM290.6974385199046,180.4026382091879L290.80989213023076,178.6206738892206L291.5680632636202,176.26658889394764L292.78149055559527,174.2406133727568L293.088282086872,172.80986932326857L293.63667306492334,172.16996510820763L293.5381892918458,171.07055888052417L293.05870798684566,169.56196656173603L292.4945433700156,169.02100582166543L292.9611862599248,166.54204358034093L292.1551138449163,156.57188287263835L291.26491972828984,146.61903747078935L291.8936516724437,147.15231583970734L294.0272492146541,146.8818542144836L295.66330027006455,145.76680401461653L302.4036686109049,145.14934307379383L308.38246034122596,144.39816466833094L308.46012295112644,145.0544236653762L309.38396404672767,152.86099920546712L310.2848280253767,161.19538405198352L310.99297368909237,167.18632749035334L310.61049481724496,167.60185498425216L311.3288332236084,169.2953927577824L311.15028483868826,169.98337258452597L310.03915913986503,170.1134008143547L309.10535168872144,171.03589588498022L307.5232819535983,170.8447103146417L307.53999209660026,172.54596747794864L306.6684988784445,173.30903168887687L305.96843477641755,174.86633495127472L305.0444707524339,175.18820901417558L303.8480751375067,177.90541474825147L302.4744630973209,177.30817513163868L301.937430912463,176.32748091704752L300.9840434194574,178.1253554788663L300.29916399897803,179.15514474084108L298.8192748089414,178.3388414902093L297.3362852063988,179.29393683695753L296.89127747261824,180.14888531858423L294.6873956992864,179.02116774580958L293.38401070383486,180.09792477888783L291.5905868076631,179.58854105319284L291.58500040602587,180.5492308335228ZM281.82684912544494,192.51690892452785L283.26438663739344,191.45793829129383L284.2719149700106,190.64805307023425L284.08802790657046,189.33344547346627L284.2002693466843,188.4399809508153L283.8408800064441,187.13798190261474L284.30873853589395,186.29238311604405L286.0958014525341,186.60212879693796L287.8258969082857,187.28058772818628L288.64559881895514,186.4775626421951L288.23684895789177,184.66451416277164L289.66376664534295,183.81126078451513L290.8314102483953,183.0501084841914L290.15392595563196,182.29412351827608L290.8397215882928,181.05539126333105L290.6974385199046,180.4026382091879L291.58500040602587,180.5492308335228L291.5905868076631,179.58854105319284L293.38401070383486,180.09792477888783L294.6873956992864,179.02116774580958L296.89127747261824,180.14888531858423L297.3362852063988,179.29393683695753L298.8192748089414,178.3388414902093L300.29916399897803,179.15514474084108L300.9840434194574,178.1253554788663L301.937430912463,176.32748091704752L302.4744630973209,177.30817513163868L303.8480751375067,177.90541474825147L305.0444707524339,175.18820901417558L305.96843477641755,174.86633495127472L306.6684988784445,173.30903168887687L307.53999209660026,172.54596747794864L307.5232819535983,170.8447103146417L309.10535168872144,171.03589588498022L310.03915913986503,170.1134008143547L311.15028483868826,169.98337258452597L311.3288332236084,169.2953927577824L310.61049481724496,167.60185498425216L310.99297368909237,167.18632749035334L313.22236981839757,167.06700255990756L314.43639909751084,167.80763196604858L316.46470899388333,169.48207591373387L317.91539589951236,169.96457415105886L319.02646109760394,170.4884370550132L320.5366856142451,170.0668954218835L321.80202298419886,170.4171912581528L323.1001905070366,169.72077007650716L324.3611128841988,169.3979885088877L325.04687817268405,170.5654247065395L326.3581067495905,171.19805020006294L326.6433842995872,171.97516961277398L326.8165491808545,173.8089261244965L327.7783766116877,175.0097695357731L328.3117051613026,176.27147307132947L329.42007771130636,177.2265062222187L330.2610950551749,178.14493821482682L331.58122817462873,178.09880768796694L330.98529232278827,178.8566591191214L329.26467414596357,181.04148620797218L327.320641528844,182.35956584663205L327.2488810863342,183.11281871170974L326.67286506316776,184.08522725267045L325.05438964533766,185.2746220412301L324.9768002326202,185.35950041389492L324.89918920883525,185.44436932853097L324.48254594438333,186.31794180796646L323.4789456370803,186.82453418259445L323.1473395366169,187.0173589808L321.2821318251983,187.78298974734764L316.7363873856637,188.58193457971248L310.70702220436016,188.92584540187232L308.78571038018254,189.28957483104602L304.8849296702817,189.48758211409995L300.91060663726864,189.81709986043495L297.19942773434497,190.09764856159194L292.98282101222605,190.69581355743242L292.7748079549743,190.3444334317221L291.4509793214074,190.45654321744087L291.5675134006881,191.8496115450708ZM327.21804597794886,201.08717961461133L318.58870874091684,202.13615387203066L318.54272230786546,200.29012942416233L319.91193389085714,199.60054758352203L320.3287474567637,198.58447865249656L321.091518857767,197.44949555380583L322.4902990441566,197.0461820093272L324.0465485823584,196.4704156180154L325.5412585356904,195.45369281024006L326.06444358315395,194.64040294684656L327.30597434620597,193.8016140930294L327.2151602012848,193.14593594529265L328.7343530500883,191.74520914473317L329.37870077901607,192.47115054918987L331.61284952554394,190.44032749401055L332.8806034646272,190.47716781317524L333.7220788366194,188.86461950872575L334.9874067827177,188.3021026528943L334.7121048390312,187.07886226363854L334.72210081122154,185.9611219938406L332.1133347744834,186.50037889187536L334.72210081122154,185.9611219938406L346.16201643411483,184.4932338453969L359.530495871346,182.15092180056968L366.652402352157,180.66968978732962L372.97593984890466,179.27613452715042L373.756438255127,179.10883467822794L374.45037656104955,181.06664752318596L376.54724906551974,187.38603528053926L374.86625011792506,191.5816995065229L373.551649543169,194.5634780995723L367.02695705907246,198.518765120509L363.4172871826071,204.3845582679125L360.09644458711966,205.60781830131373L350.912590006267,198.89862906206605L343.2032827861174,200.11530818181075L343.0510053245437,199.1720848690244L341.74548372999493,197.89283725246224L341.20116391805084,198.50056718987275L340.99662826020744,197.78874731327664L337.726014235463,197.9273269905812L331.3717086515354,198.7974227946379L327.9055957544205,200.7701385249071ZM310.99297368909237,167.18632749035334L310.2848280253767,161.19538405198352L309.38396404672767,152.86099920546712L308.46012295112644,145.0544236653762L311.6501143606871,144.5943191631356L314.51887685164246,144.23232212947215L316.88486049359994,143.84918845585014L321.0670862286113,145.13326336457197L324.24742313247776,145.12679890894123L328.6631798870657,143.2827907109181L331.9628969951109,140.3170229009503L335.0390134415287,138.70457358354395L336.9098756791134,150.08502625170604L336.07051339713155,150.66929967131182L336.4966600420187,151.71714039476723L336.5668521442401,153.71717241408464L336.26486293936324,156.0757891202499L335.887906463818,157.99908792193793L335.9439353528899,158.88411081177458L334.48976889568047,161.1265365216948L333.79958700651497,161.68164213635765L332.99000671937034,162.0309472697682L332.12385442754015,162.01558433887112L330.9090805762073,163.68900863687116L330.8854590954149,165.25523853377928L330.8361870946949,166.0811906338534L330.29600787343725,166.53419054033668L330.06980367862735,165.60076605153085L329.18880131512043,165.5084737985859L328.53233735365563,167.53882594810256L328.7239572873614,169.4444777299201L327.9531398795243,170.74641967087018L326.3581067495905,171.19805020006294L325.04687817268405,170.5654247065395L324.3611128841988,169.3979885088877L323.1001905070366,169.72077007650716L321.80202298419886,170.4171912581528L320.5366856142451,170.0668954218835L319.02646109760394,170.4884370550132L317.91539589951236,169.96457415105886L316.46470899388333,169.48207591373387L314.43639909751084,167.80763196604858L313.22236981839757,167.06700255990756ZM277.4633339989518,205.62144038005397L278.22647490829155,204.76466790070594L277.9824454153593,202.27534325641835L278.9912712080737,201.10721907723968L279.16691594515726,199.62235150156403L280.3670908222784,198.73406232036695L280.9097559042139,197.44511661936792L280.94999921861677,196.70525823418836L281.3458612761918,194.61433905841722L281.7048584976783,193.3364305658435L281.82684912544494,192.51690892452785L291.5675134006881,191.8496115450708L291.4509793214074,190.45654321744087L292.7748079549743,190.3444334317221L292.98282101222605,190.69581355743242L297.19942773434497,190.09764856159194L300.91060663726864,189.81709986043495L304.8849296702817,189.48758211409995L308.78571038018254,189.28957483104602L310.70702220436016,188.92584540187232L316.7363873856637,188.58193457971248L321.2821318251983,187.78298974734764L323.1473395366169,187.0173589808L323.4789456370803,186.82453418259445L323.1473395366169,187.0173589808L321.2821318251983,187.78298974734764L331.3344200250411,186.68920483042774L332.1133347744834,186.50037889187536L334.72210081122154,185.9611219938406L334.7121048390312,187.07886226363854L334.9874067827177,188.3021026528943L333.7220788366194,188.86461950872575L332.8806034646272,190.47716781317524L331.61284952554394,190.44032749401055L329.37870077901607,192.47115054918987L328.7343530500883,191.74520914473317L327.2151602012848,193.14593594529265L327.30597434620597,193.8016140930294L326.06444358315395,194.64040294684656L325.5412585356904,195.45369281024006L324.0465485823584,196.4704156180154L322.4902990441566,197.0461820093272L321.091518857767,197.44949555380583L320.3287474567637,198.58447865249656L319.91193389085714,199.60054758352203L318.54272230786546,200.29012942416233L318.58870874091684,202.13615387203066L314.91176714210553,202.65374065415534L309.5953431558186,203.1842277942298L300.67159381523413,204.02737815355482L291.92471744425575,204.8078998992089L284.32668658351196,205.1700377694791ZM323.4789456370803,186.82453418259445L324.48254594438333,186.31794180796646L324.89918920883525,185.44436932853097L324.9768002326202,185.35950041389492L325.05438964533766,185.2746220412301L326.67286506316776,184.08522725267045L327.2488810863342,183.11281871170974L327.320641528844,182.35956584663205L329.26467414596357,181.04148620797218L330.98529232278827,178.8566591191214L331.58122817462873,178.09880768796694L332.0580152427086,179.51590424367834L332.76364599132995,180.0800352362525L332.9592156697677,180.19948792405938L334.1120290446362,180.7694360649174L335.46615974819804,179.74298090390016L336.02849027856206,179.35798551340065L336.911635784913,179.8905102466337L338.89005064446184,178.9066420112539L339.31176220643385,178.76447095681516L339.31659923845194,178.24192988221301L339.2698414444678,177.9512963607487L340.09584990558324,178.11607008344993L340.77999823966564,177.40821446902163L340.8664752312799,177.39407724917277L341.7550938121228,177.3972783029456L342.7580540012253,176.484929434472L342.7717034599889,176.03498276826497L342.7232357555768,175.74462215819602L342.4674852673549,174.7427210574429L343.0721842237828,173.0744085876949L344.1749070130934,171.7681454744515L344.307001201138,170.47641822065663L344.7560876786668,169.50345567429736L345.1557171828129,168.76250787909083L345.5103400024213,166.759155436139L346.47476812879916,167.26317496204126L347.5259365705737,167.7506782005293L348.39793628570374,167.22212928378315L348.5957014311416,166.3644816919239L349.09283124302374,165.2285399001247L349.3728975431053,164.355482389555L349.5482611856653,163.87505740091342L350.1218675944155,164.14485404686775L350.8537563409245,162.88899534420023L351.4937285505787,162.09771675317893L351.9193915541695,161.5698516991817L352.11846470278437,161.23347674075853L352.6000148005346,160.54481647336428L352.6813293769964,158.65813276792335L352.68370319110915,158.20853157409454L356.1053902697266,159.7287500700828L356.38551203336635,159.8244939712394L356.8326446183936,158.0888008932656L357.01439481284444,158.12833672248144L357.8113892776497,158.19729262821062L358.7782276806705,158.6817138053607L358.58487715653075,159.46988044510647L358.5435230246268,159.70301750966985L359.9888014335947,159.94169868824758L361.3545836753803,160.64371699734141L362.0054514413353,161.26309979416698L362.1075145363156,161.76799552729995L362.16888340584177,162.50635177184444L361.9446373157353,162.70174766639713L361.2298449899121,163.52086384110532L360.84176291833006,165.54939729135253L361.7769257194595,165.81302352519646L362.8074132140766,165.23032298361704L363.2517879754597,166.11651408851617L363.39520591399224,166.387813258608L368.370415275058,168.1412449858293L368.4707685732577,168.19535447199775L370.41061970651594,176.13478208036628L372.447190624326,176.3794848339178L373.756438255127,179.10883467822794L372.97593984890466,179.27613452715042L366.652402352157,180.66968978732962L359.530495871346,182.15092180056968L346.16201643411483,184.4932338453969L334.72210081122154,185.9611219938406L332.1133347744834,186.50037889187536L331.3344200250411,186.68920483042774L321.2821318251983,187.78298974734764L323.1473395366169,187.0173589808ZM372.2562973302182,167.16141360291738L372.8271648422199,166.5101812074255L374.3248363449581,166.03128524029455L372.1203010407387,173.5897969875959L371.4418003758043,173.35857925231988ZM267.0074291047051,132.80519682869345L266.79550528540466,131.78957156842444L266.69320239521596,129.7429311318832L266.41710207971886,129.02415532641544L264.28343026036833,127.88126647281638L262.7055687719676,126.48797070382562L262.1880578339251,125.55909240320182L261.5287258237641,125.00163979140643L259.49862018052437,123.83932556779189L258.783564183536,123.7929993135063L256.90907320354455,122.25135091976625L257.08120875599434,120.34650732551171L257.00167523777816,118.0134207422879L257.3954829475137,115.81151968340049L256.01634949227673,114.2543142564806L256.8204578008863,112.69747370333636L258.1082574010712,111.77806829670925L259.5438064704441,110.77729453614592L259.70138891887404,110.84393433953801L259.4362941787145,106.05294755996823L261.02591016710215,105.47965419778137L266.83417425796176,103.4608011318357L270.5127438360632,106.09166900218844L270.59374742818056,106.15966279608762L270.9687357266017,105.99185136483095L271.9069955003731,106.22615303434782L272.46216534941004,107.72083683762162L277.7247063210612,108.8996160746409L281.3119039080864,110.16436660515171L282.93458961016825,110.03610967302535L284.10539602377816,110.0866948980568L284.6064558447728,111.4329390206928L286.05021686789235,111.89557131340752L286.6934519972554,113.0098366832936L286.3675222711822,113.76928457957678L286.1743180865547,115.17572943915292L287.5059652428741,115.13356285746295L287.23637095128845,116.54786470005877L288.1078537287884,117.4965164828692L288.1014240398881,117.42384495514625L288.26441674015456,117.4826428231695L288.1925754799209,117.56225724806785L286.1076202395734,120.89306170334459L287.06138832674816,121.83796134228658L290.95938014828357,115.91837112329875L291.8891827540916,115.7572111813322L289.3610892781404,122.66248231856804L288.4610342527981,128.76177042971392L287.7610435544875,133.74612166582676L288.84631681262715,137.84559206868914L288.8672610996221,139.97837914597733L284.059804005978,140.30065184423387L277.54499246532646,140.77479944429183L271.1069038712275,141.17303066332101L270.46312442259995,139.88691737552853L268.30613385926154,139.1950125998169L267.90968827421517,137.8207839270409L267.5445234465381,137.0321772553433L267.4552893035406,135.27589727592027L267.98619245677986,134.58851271723728L267.10991888587756,133.2399357323166ZM331.58122817462873,178.09880768796694L330.2610950551749,178.14493821482682L329.42007771130636,177.2265062222187L328.3117051613026,176.27147307132947L327.7783766116877,175.0097695357731L326.8165491808545,173.8089261244965L326.6433842995872,171.97516961277398L326.3581067495905,171.19805020006294L327.9531398795243,170.74641967087018L328.7239572873614,169.4444777299201L328.53233735365563,167.53882594810256L329.18880131512043,165.5084737985859L330.06980367862735,165.60076605153085L330.29600787343725,166.53419054033668L330.8361870946949,166.0811906338534L330.8854590954149,165.25523853377928L330.9090805762073,163.68900863687116L332.12385442754015,162.01558433887112L332.99000671937034,162.0309472697682L333.79958700651497,161.68164213635765L334.48976889568047,161.1265365216948L335.9439353528899,158.88411081177458L335.887906463818,157.99908792193793L336.26486293936324,156.0757891202499L336.5668521442401,153.71717241408464L336.4966600420187,151.71714039476723L336.07051339713155,150.66929967131182L336.9098756791134,150.08502625170604L338.1981781297841,157.92176845943976L344.89700098416245,156.78285259204665L345.5764071266781,161.14519803336844L346.4589212642645,160.2424479624965L347.3709094329622,159.03377584561542L348.56457287335553,158.44503263743752L349.32849751116055,157.40875015752158L351.23751714898265,157.43100351359521L351.86937529665124,156.63968627107886L352.9170787965788,155.76895319458743L355.04602027623383,156.03679491124024L356.1195211793961,157.10316283998833L356.8326446183936,158.0888008932656L356.38551203336635,159.8244939712394L356.1053902697266,159.7287500700828L352.68370319110915,158.20853157409454L352.6813293769964,158.65813276792335L352.6000148005346,160.54481647336428L352.11846470278437,161.23347674075853L351.9193915541695,161.5698516991817L351.4937285505787,162.09771675317893L350.8537563409245,162.88899534420023L350.1218675944155,164.14485404686775L349.5482611856653,163.87505740091342L349.3728975431053,164.355482389555L349.09283124302374,165.2285399001247L348.5957014311416,166.3644816919239L348.39793628570374,167.22212928378315L347.5259365705737,167.7506782005293L346.47476812879916,167.26317496204126L345.5103400024213,166.759155436139L345.1557171828129,168.76250787909083L344.7560876786668,169.50345567429736L344.307001201138,170.47641822065663L344.1749070130934,171.7681454744515L343.0721842237828,173.0744085876949L342.4674852673549,174.7427210574429L342.7232357555768,175.74462215819602L342.7717034599889,176.03498276826497L342.7580540012253,176.484929434472L341.7550938121228,177.3972783029456L340.8664752312799,177.39407724917277L340.77999823966564,177.40821446902163L340.09584990558324,178.11607008344993L339.2698414444678,177.9512963607487L339.31659923845194,178.24192988221301L339.31176220643385,178.76447095681516L338.89005064446184,178.9066420112539L336.911635784913,179.8905102466337L336.02849027856206,179.35798551340065L335.46615974819804,179.74298090390016L334.1120290446362,180.7694360649174L332.9592156697677,180.19948792405938L332.76364599132995,180.0800352362525L332.0580152427086,179.51590424367834ZM375.62656454193075,161.89711311363965L371.321073978657,162.84590019563637L368.568432697472,152.14922834445508L368.8433034421248,151.41242609266294L369.34545952006914,150.92700131434367L370.8485326044436,151.04971160408337L370.04225334012074,152.13019466711063L370.65304790714254,153.72859440882974L372.9854888814706,157.96160748672668L374.9151775827155,159.11531073778866ZM362.1075145363156,161.76799552729995L362.0054514413353,161.26309979416698L361.3545836753803,160.64371699734141L361.7721710337873,160.10908538359809L362.80399209647015,160.87585420896391ZM374.3248363449581,166.03128524029455L372.8271648422199,166.5101812074255L372.2562973302182,167.16141360291738L368.1675447883634,164.6491376620205L365.9398434459389,157.82349974381384L365.43032213890984,161.6882351754238L367.9978382175882,166.7906722494489L363.39520591399224,166.387813258608L363.2517879754597,166.11651408851617L362.8074132140766,165.23032298361704L361.7769257194595,165.81302352519646L360.84176291833006,165.54939729135253L361.2298449899121,163.52086384110532L361.9446373157353,162.70174766639713L362.16888340584177,162.50635177184444L362.1075145363156,161.76799552729995L362.80399209647015,160.87585420896391L361.7721710337873,160.10908538359809L361.3545836753803,160.64371699734141L359.9888014335947,159.94169868824758L358.5435230246268,159.70301750966985L358.58487715653075,159.46988044510647L358.7782276806705,158.6817138053607L357.8113892776497,158.19729262821062L357.01439481284444,158.12833672248144L356.8326446183936,158.0888008932656L356.1195211793961,157.10316283998833L355.04602027623383,156.03679491124024L352.9170787965788,155.76895319458743L351.86937529665124,156.63968627107886L351.23751714898265,157.43100351359521L349.32849751116055,157.40875015752158L348.56457287335553,158.44503263743752L347.3709094329622,159.03377584561542L346.4589212642645,160.2424479624965L345.5764071266781,161.14519803336844L344.89700098416245,156.78285259204665L350.8448854370701,155.78304020267626L352.83507928353026,155.33527736839346L357.4219904096026,154.45009850225108L362.91729879287067,153.34236848738107L368.568432697472,152.14922834445508L371.321073978657,162.84590019563637L375.62656454193075,161.89711311363965L375.7070049009992,162.256178222377ZM370.65304790714254,153.72859440882974L370.04225334012074,152.13019466711063L370.8485326044436,151.04971160408337L371.9984821921746,149.9665598912684L372.2999322928141,149.3719166157129L373.5279635581189,147.89026333126588L374.14043725030604,146.77133030654807L371.6831769593331,145.0640923472178L371.392570072729,144.14972808438534L370.60725325134547,144.09885487764484L370.385900424076,142.71729123999518L370.8806723327024,141.4773179595249L370.31429935375786,140.4743336112848L371.1299999749551,139.53855401865997L371.747972753382,137.36534395488712L372.4761347410108,136.82302153405067L378.04175376891567,139.07461731533238L378.2036315199348,140.8488948840897L376.79748851412455,143.6704170366442L378.76412111663456,143.58688853450047L378.7946636339353,150.00097823631205L378.1838421509957,151.50278576026864L375.615002676107,157.52501927559535L374.7118488315359,155.4657161612859L374.3618184891251,155.46892318212088L373.19652177875304,155.3522779923777L371.97279717228326,154.56841532458645ZM378.4172563786311,129.24372716413217L379.56376290477147,135.76532900009403L380.220852613475,136.36265352933475L379.11469198214616,137.4597079708018L379.5333879547546,138.49286827837113L379.6659094482502,138.68782625097327L379.3111926765404,138.99937705183987L388.0723191058729,135.16967677953102L390.3324611979208,136.25809266616778L384.62135370119745,139.5988736471075L382.19168599739146,140.95159631972552L378.2122824069503,141.97976572233938L378.2036315199348,140.8488948840897L378.04175376891567,139.07461731533238L372.4761347410108,136.82302153405067L371.2941632178689,136.48901316138404L370.11381700840934,136.15271836465564L369.43701756081066,135.0249390090986L369.3896948537245,134.05732822568962L368.48908354832554,133.4309903429933L366.82081468426304,132.37199195776958L358.45500656863555,134.15263882872853L349.41834088856797,135.9369509906079L339.7070974925958,137.69484107144189L339.3077893982793,135.3807068422363L343.71311580751274,129.38649193830258L343.48904989315355,128.60774322907065L342.4612507422638,126.11326611012362L345.14661021892323,124.65307182300393L350.0336755440629,124.02203176216943L355.1634797728913,123.7482981089164L359.0795744368956,120.01896616057303L358.07011501680824,116.7917492543769L357.20422498777,115.77811887891329L362.0690232257398,108.60063507478691L364.33384620976926,106.44874885327368L373.2994454890629,104.3466206924466L373.619043262989,105.99664544683714L373.66408602347974,107.18796673025878L374.3263448760222,109.58340361726164L375.02325577066534,110.76814469746364L374.83437220651774,112.69517670562419L375.8961015797716,114.6961668629616L375.8168737238394,116.07112036463872L375.9639674715778,116.33677018133511L376.9186355502105,116.17978945626623L378.2885505034041,123.16079841039868ZM336.9098756791134,150.08502625170604L335.0390134415287,138.70457358354395L339.3202654405444,135.45301000077865L339.3077893982793,135.3807068422363L339.7070974925958,137.69484107144189L349.41834088856797,135.9369509906079L358.45500656863555,134.15263882872853L366.82081468426304,132.37199195776958L368.48908354832554,133.4309903429933L369.3896948537245,134.05732822568962L369.43701756081066,135.0249390090986L370.11381700840934,136.15271836465564L371.2941632178689,136.48901316138404L372.4761347410108,136.82302153405067L371.747972753382,137.36534395488712L371.1299999749551,139.53855401865997L370.31429935375786,140.4743336112848L370.8806723327024,141.4773179595249L370.385900424076,142.71729123999518L370.60725325134547,144.09885487764484L371.392570072729,144.14972808438534L371.6831769593331,145.0640923472178L374.14043725030604,146.77133030654807L373.5279635581189,147.89026333126588L372.2999322928141,149.3719166157129L371.9984821921746,149.9665598912684L370.8485326044436,151.04971160408337L369.34545952006914,150.92700131434367L368.8433034421248,151.41242609266294L368.568432697472,152.14922834445508L362.91729879287067,153.34236848738107L357.4219904096026,154.45009850225108L352.83507928353026,155.33527736839346L350.8448854370701,155.78304020267626L344.89700098416245,156.78285259204665L338.1981781297841,157.92176845943976ZM393.4886399317663,116.12937853852202L392.88302181640245,116.37047334746842L392.2633196819188,115.32410486054619L390.8282096702094,114.34643551226566L390.85184917173547,113.5057399287216L385.9062981188,98.48972628723794L388.0373418335761,96.47783673427926L388.51499588169975,94.38256613082461L389.041385481939,92.19760512025971L389.03158908491855,89.55724430880241L389.0288968837142,85.25678800567351L390.7290984388193,80.32522879105585L391.51538340259356,77.8368741465141L393.459636536964,79.08255554294811L394.0404584099452,79.44128525003492L397.41891529603595,76.92606400492497L400.61102762789807,78.53325076644416L402.65042879539715,85.20026182388494L404.0342297253495,89.72404863361936L409.1932183717223,93.16303063764542L411.0233389690959,95.57127297733996L406.0470111163278,101.46834515326213L400.8441767392719,106.06566950254467L395.30899506816905,110.307942284467ZM288.26441674015456,117.4826428231695L288.1014240398881,117.42384495514625L288.1078537287884,117.4965164828692L287.23637095128845,116.54786470005877L287.5059652428741,115.13356285746295L286.1743180865547,115.17572943915292L286.3675222711822,113.76928457957678L286.6934519972554,113.0098366832936L286.05021686789235,111.89557131340752L284.6064558447728,111.4329390206928L284.10539602377816,110.0866948980568L282.93458961016825,110.03610967302535L281.3119039080864,110.16436660515171L277.7247063210612,108.8996160746409L272.46216534941004,107.72083683762162L271.9069955003731,106.22615303434782L270.9687357266017,105.99185136483095L270.59374742818056,106.15966279608762L270.5127438360632,106.09166900218844L270.59374742818056,106.15966279608762L274.9738454293541,103.70054482021828L279.500945735665,100.613594276262L284.42578420291875,97.3828186184237L282.9026880093493,102.01943137047533L286.3481624932512,102.82030517631728L290.775050721266,105.69776886303259L295.78982056208605,103.2990841612592L301.4971670386952,101.86918337602947L302.9944147122369,104.10836044841454L304.795904666498,104.26021226088545L306.4371205703704,104.35305641871486L309.7786531454328,107.37741303620885L304.6326498152223,108.74835755178862L304.4784757704143,108.76670965958687L299.6699499606037,108.36575242884811L295.2234163487183,110.59517136230102L291.2692333894423,111.71658715527201ZM316.88486049359994,143.84918845585014L314.51887685164246,144.23232212947215L311.6501143606871,144.5943191631356L308.46012295112644,145.0544236653762L308.38246034122596,144.39816466833094L302.4036686109049,145.14934307379383L295.66330027006455,145.76680401461653L296.7797373215209,144.47719051725494L298.88323290523414,139.98648513367203L298.54517230195995,134.3455819656017L295.9171587796106,129.23909997414665L295.87045515642785,125.56716092535981L297.021997560982,121.1883461093064L298.2185275172579,118.19964530710718L300.42370105350494,115.90605419691514L301.2848868698894,118.67424063468263L301.9069168977121,114.34594577371945L303.129776143255,113.32547162822891L303.52597761954166,109.97868774529343L308.840725060092,111.09378731245636L313.6962128594356,113.8438325891247L314.67991724961604,117.61433611946165L314.6554183717365,121.59839710260059L311.77934145042207,125.44164523027712L312.3768763861476,127.57841773037683L313.58112874757455,127.49608634368457L316.8057403771037,123.22530732896962L319.22082352582504,123.7751430614876L321.03441669910814,128.54442807778457L321.85413804607526,131.9794161153672L320.9773714067777,133.8817383998683L319.53782581086614,137.11977414257825L319.02874830666315,138.81935916788274L318.64876955920954,140.27866518996012ZM87.04502741012004,275.3764302208681L88.10144504504986,275.56360546785515L88.80917278841753,276.4672126067296L87.43386525622394,277.92911209256505L85.80664865165882,279.09145816983107L84.97973573653846,278.32132402469324L84.73953269637143,276.91278046674313L86.2008473126172,275.8433256139448ZM67.5157928598964,266.3903714223587L68.62336036450765,266.85423078977016L68.55618308701376,268.0124572368504L67.56630642141383,268.3277343007495L66.7129904423289,267.5915243831417L65.98072843508781,266.6089554534218ZM62.63942795830688,254.7646000062328L63.276967964620205,255.51801854824512L64.15694157148968,255.42881265800668L65.02685348054901,256.45995861165363L66.22572871715278,257.1589061903222L66.05006123482582,257.46005568684245L64.89304105491014,257.8477821117916L64.05840398854389,256.95943799327404L63.69840263779565,256.3143357233657L62.50463533124335,256.1849217214522L62.25869324312424,255.82638767583396ZM116.82571486283449,270.2382107339599L115.31275592773693,270.4803814521565L112.88491437657333,271.08180805142996L110.88969361923066,270.69858252520066L107.08397071800853,268.37741011260607L105.54564012857176,268.1228430471356L102.78095977607887,267.54688955136413L100.77264768970008,268.1337958652275L97.69791877457031,267.1602946314172L95.81379720385982,266.08500504770285L94.26922482109468,266.87562911535065L94.75921994089889,268.9143041592089L93.94297376476445,269.19017104965576L92.25472779117929,269.95535193666024L90.99420685547604,271.02829675755385L89.31460925662076,271.74066241527385L89.0387361054253,269.9823252669695L89.60891279206453,267.01562541369606L91.11359895227136,265.99644212971884L90.68110305559118,265.27585849797845L88.90529275768611,267.01490571936176L87.9418018370191,269.06400031528517L85.78806899880182,271.2117162166482L86.93319786849715,272.66487985991284L85.45838520658417,274.84557345134004L83.7301880459437,276.0791471607678L82.09941466398543,276.9557516358434L81.65040247721852,278.2697738156828L79.01170449716494,279.6979189068784L78.40271246415989,281.066573938988L76.33955835716031,282.19068817793845L75.19777575960427,281.85752924037035L73.53077259684704,282.5339684970482L71.68760819397394,283.34587389482306L70.12972566499056,284.17048242180005L67.04895575695477,284.5570169705471L66.86352565962235,284.0097029301723L68.94812462026712,282.91890003569324L70.7521904934035,282.2471255826772L72.74732978299056,280.85206565318913L74.84634041563095,280.7202910635792L75.78218943770753,279.57784211740665L78.18431201273559,277.97800892546445L78.60599710846839,277.3920210854503L79.84256855869654,276.4178400647784L80.25579399569529,274.16013961606643L81.13316636735249,272.4099293154285L79.29147999034592,273.2322659820953L78.8228964724194,272.66281393676377L77.91543624288714,273.7006555112622L77.01035179493829,272.11205213104313L76.5139863388906,273.1474150457319L76.07284134415383,271.5896348582151L74.40967050682363,272.62678849915096L73.4659017726322,272.51742466159334L73.54231035275474,270.7217256278109L73.94865947669827,269.6618557917908L73.13068730845815,268.4768147343457L71.11870805340916,268.7919560538013L70.0919654299521,267.18140432056737L69.20642617236528,266.30644183191663L69.49376818268556,264.64115154038046L68.6203869238426,263.15882697517145L69.46932907231655,261.56996548720366L70.87630437418775,260.09859898926163L71.59591422433,258.6610214808305L72.72410265114772,258.6020793538467L73.56054669252141,259.2121953335986L74.82516320158203,257.90833110925666L75.7605758106815,258.2776098844779L76.87449473165857,257.4725708085517L76.77896459498189,256.07569028075204L76.1152479821709,255.46366434344225L77.1698674710316,254.42230482073452L76.39064412592771,254.3644674663132L74.9699365276224,254.86250807096428L74.48403480483431,255.46862572634018L73.57596711090639,254.6725579977236L71.71760912220394,254.7193246619155L69.98006125467958,253.6843003946182L69.69147901138457,252.38161396761672L68.47972021837501,250.36271118533656L70.43547858899376,249.48956815088388L73.33632585523492,248.50318178926605L74.30544436345878,248.65121848803514L73.93113760025231,250.11291332731278L76.49206782643999,250.32333283299772L75.75120212982887,248.3882330422814L74.46188480022512,247.05684947791306L73.86706842907562,245.45225290886847L73.00605521310676,244.02620823701713L71.65152611495714,242.8259295893762L72.5510970513084,241.40385374617233L74.48643917219967,241.63448614217376L76.03228335155339,240.51461191773623L76.47620272086323,239.10427402994316L77.69935141783513,237.84518171451427L78.73025129055591,237.63359776619868L80.76449650560333,236.51327321832744L81.67706738307206,236.776423164204L83.28166180539361,235.28580807517548L84.76756679667125,235.94908108092523L85.47075400846452,237.2786792272697L85.91775513523774,236.70534374167065L87.61984068813067,236.85596809624676L87.58507120591105,237.53149996404417L89.16903827567933,237.97233586868725L90.1871895412734,237.61380862286717L92.4178375963839,238.36319203341694L94.42988801902588,238.41694142045358L95.27418044033023,238.71039598789423L96.58321519446429,238.03538502147114L98.28207042401962,238.63721437200687L99.48725817477083,238.81712199947586L101.62547951012905,249.66790561057604L104.95711235863897,266.46487006037796L106.40622435226186,266.2446495178474L108.00587482638629,266.755682927424L109.13789443003989,267.6477822391631L109.31354429611832,267.7900051128588L109.3386724853447,267.8102981326981L111.12485739768246,269.3989044102247L112.12164752966567,267.39079172724445L113.33770734880231,266.0425957046328L114.53077784998007,267.3221412409232L115.32782850111879,267.83239259267503L115.87960607177342,268.19980678131935L117.65655910136816,269.0640148082228L118.97290261416069,270.5190294773188L119.26271489520181,270.80037749213733L121.92620342003613,273.51294990457893L125.24578712374564,274.3454218768435L125.96398205585373,276.12068986655174L125.58448904314784,277.7873791643826L124.29619891201625,277.0620542758183L122.56016734650561,276.67196244072807L121.27507272577654,274.33163530858747L118.5100114196208,272.6853372553113Z\" style=\"fill: none; stroke-miterlimit: 2; stroke: rgb(255, 255, 255); stroke-opacity: 1; stroke-width: 1px;\"/></g><g class=\"layer backplot\"><g class=\"choroplethlayer\"><g class=\"trace choropleth\"><path class=\"choroplethlocation\" fill=\"rgb(174, 49, 38)\" d=\"M87.04502741012004,275.3764302208681L88.10144504504986,275.56360546785515L88.80917278841753,276.4672126067296L87.43386525622394,277.92911209256505L85.80664865165882,279.09145816983107L84.97973573653846,278.32132402469324L84.73953269637143,276.91278046674313L86.2008473126172,275.8433256139448ZM67.5157928598964,266.3903714223587L68.62336036450765,266.85423078977016L68.55618308701376,268.0124572368504L67.56630642141383,268.3277343007495L66.7129904423289,267.5915243831417L65.98072843508781,266.6089554534218ZM62.63942795830688,254.7646000062328L63.276967964620205,255.51801854824512L64.15694157148968,255.42881265800668L65.02685348054901,256.45995861165363L66.22572871715278,257.1589061903222L66.05006123482582,257.46005568684245L64.89304105491014,257.8477821117916L64.05840398854389,256.95943799327404L63.69840263779565,256.3143357233657L62.50463533124335,256.1849217214522L62.25869324312424,255.82638767583396ZM116.82571486283449,270.2382107339599L115.31275592773693,270.4803814521565L112.88491437657333,271.08180805142996L110.88969361923066,270.69858252520066L107.08397071800853,268.37741011260607L105.54564012857176,268.1228430471356L102.78095977607887,267.54688955136413L100.77264768970008,268.1337958652275L97.69791877457031,267.1602946314172L95.81379720385982,266.08500504770285L94.26922482109468,266.87562911535065L94.75921994089889,268.9143041592089L93.94297376476445,269.19017104965576L92.25472779117929,269.95535193666024L90.99420685547604,271.02829675755385L89.31460925662076,271.74066241527385L89.0387361054253,269.9823252669695L89.60891279206453,267.01562541369606L91.11359895227136,265.99644212971884L90.68110305559118,265.27585849797845L88.90529275768611,267.01490571936176L87.9418018370191,269.06400031528517L85.78806899880182,271.2117162166482L86.93319786849715,272.66487985991284L85.45838520658417,274.84557345134004L83.7301880459437,276.0791471607678L82.09941466398543,276.9557516358434L81.65040247721852,278.2697738156828L79.01170449716494,279.6979189068784L78.40271246415989,281.066573938988L76.33955835716031,282.19068817793845L75.19777575960427,281.85752924037035L73.53077259684704,282.5339684970482L71.68760819397394,283.34587389482306L70.12972566499056,284.17048242180005L67.04895575695477,284.5570169705471L66.86352565962235,284.0097029301723L68.94812462026712,282.91890003569324L70.7521904934035,282.2471255826772L72.74732978299056,280.85206565318913L74.84634041563095,280.7202910635792L75.78218943770753,279.57784211740665L78.18431201273559,277.97800892546445L78.60599710846839,277.3920210854503L79.84256855869654,276.4178400647784L80.25579399569529,274.16013961606643L81.13316636735249,272.4099293154285L79.29147999034592,273.2322659820953L78.8228964724194,272.66281393676377L77.91543624288714,273.7006555112622L77.01035179493829,272.11205213104313L76.5139863388906,273.1474150457319L76.07284134415383,271.5896348582151L74.40967050682363,272.62678849915096L73.4659017726322,272.51742466159334L73.54231035275474,270.7217256278109L73.94865947669827,269.6618557917908L73.13068730845815,268.4768147343457L71.11870805340916,268.7919560538013L70.0919654299521,267.18140432056737L69.20642617236528,266.30644183191663L69.49376818268556,264.64115154038046L68.6203869238426,263.15882697517145L69.46932907231655,261.56996548720366L70.87630437418775,260.09859898926163L71.59591422433,258.6610214808305L72.72410265114772,258.6020793538467L73.56054669252141,259.2121953335986L74.82516320158203,257.90833110925666L75.7605758106815,258.2776098844779L76.87449473165857,257.4725708085517L76.77896459498189,256.07569028075204L76.1152479821709,255.46366434344225L77.1698674710316,254.42230482073452L76.39064412592771,254.3644674663132L74.9699365276224,254.86250807096428L74.48403480483431,255.46862572634018L73.57596711090639,254.6725579977236L71.71760912220394,254.7193246619155L69.98006125467958,253.6843003946182L69.69147901138457,252.38161396761672L68.47972021837501,250.36271118533656L70.43547858899376,249.48956815088388L73.33632585523492,248.50318178926605L74.30544436345878,248.65121848803514L73.93113760025231,250.11291332731278L76.49206782643999,250.32333283299772L75.75120212982887,248.3882330422814L74.46188480022512,247.05684947791306L73.86706842907562,245.45225290886847L73.00605521310676,244.02620823701713L71.65152611495714,242.8259295893762L72.5510970513084,241.40385374617233L74.48643917219967,241.63448614217376L76.03228335155339,240.51461191773623L76.47620272086323,239.10427402994316L77.69935141783513,237.84518171451427L78.73025129055591,237.63359776619868L80.76449650560333,236.51327321832744L81.67706738307206,236.776423164204L83.28166180539361,235.28580807517548L84.76756679667125,235.94908108092523L85.47075400846452,237.2786792272697L85.91775513523774,236.70534374167065L87.61984068813067,236.85596809624676L87.58507120591105,237.53149996404417L89.16903827567933,237.97233586868725L90.1871895412734,237.61380862286717L92.4178375963839,238.36319203341694L94.42988801902588,238.41694142045358L95.27418044033023,238.71039598789423L96.58321519446429,238.03538502147114L98.28207042401962,238.63721437200687L99.48725817477083,238.81712199947586L101.62547951012905,249.66790561057604L104.95711235863897,266.46487006037796L106.40622435226186,266.2446495178474L108.00587482638629,266.755682927424L109.13789443003989,267.6477822391631L109.31354429611832,267.7900051128588L109.3386724853447,267.8102981326981L111.12485739768246,269.3989044102247L112.12164752966567,267.39079172724445L113.33770734880231,266.0425957046328L114.53077784998007,267.3221412409232L115.32782850111879,267.83239259267503L115.87960607177342,268.19980678131935L117.65655910136816,269.0640148082228L118.97290261416069,270.5190294773188L119.26271489520181,270.80037749213733L121.92620342003613,273.51294990457893L125.24578712374564,274.3454218768435L125.96398205585373,276.12068986655174L125.58448904314784,277.7873791643826L124.29619891201625,277.0620542758183L122.56016734650561,276.67196244072807L121.27507272577654,274.33163530858747L118.5100114196208,272.6853372553113Z\" style=\"stroke: rgb(68, 68, 68); stroke-opacity: 1; stroke-width: 1px; opacity: 1;\"/><path class=\"choroplethlocation\" fill=\"rgb(103, 13, 35)\" d=\"M291.92471744425575,204.8078998992089L300.67159381523413,204.02737815355482L309.5953431558186,203.1842277942298L312.59289289314904,213.64233530066582L315.21808176387276,221.98284537629286L316.549885535533,224.55893315017136L317.3797094282334,226.01110095426617L316.34553762761726,227.68020727933998L316.28165983496035,230.4147080441088L316.8414205610468,231.9710354569923L316.82951534521635,233.51913430121311L316.8083573642559,234.9941421293816L317.4061910410271,236.0293342046882L317.89392504960165,236.92956104016727L303.0280521203156,238.56979277355128L298.8988297767862,239.46147111605762L298.76668738274793,240.133493633567L300.66231292830764,242.0179474163261L300.438383697875,243.79815725350588L299.9689106072326,245.01311623549995L293.3813193414263,244.61806247193013L292.14482450018676,231.51310007035607L292.24634148397297,217.67832540310968L292.6065110183616,206.4475676463622Z\" style=\"stroke: rgb(68, 68, 68); stroke-opacity: 1; stroke-width: 1px; opacity: 1;\"/><path class=\"choroplethlocation\" fill=\"rgb(132, 16, 40)\" d=\"M280.94999921861677,196.70525823418836L280.9097559042139,197.44511661936792L280.3670908222784,198.73406232036695L279.16691594515726,199.62235150156403L278.9912712080737,201.10721907723968L277.9824454153593,202.27534325641835L278.22647490829155,204.76466790070594L277.4633339989518,205.62144038005397L277.417320748873,206.36058508916364L276.1854432772599,207.02283781181615L276.25839442193916,208.2700378362693L275.3944159825806,210.67506434999018L274.69485802646267,211.22960903081002L273.48265925702515,212.4732664963242L272.84549513791234,214.27246034593372L271.44147635613587,217.35933270800712L271.3607473314488,219.42109017827732L272.3077184002331,221.65040598536785L272.0234306908804,223.35424249618637L265.98022491619014,223.34150324482442L258.1955164470353,223.91749730031194L251.32440442135658,224.0924615213243L251.68510208070046,219.168235205445L250.02426633587504,219.12779685535077L248.6438989897253,219.29889635920432L248.26565817114016,218.71780327333516L248.32668022610412,211.1518552544752L248.37005752981105,202.77076773611947L246.79974089098857,193.67323174167575L255.13881655140978,193.5732818746393L262.6788956911565,193.39760247906662L269.8590824860945,193.0785631876389L277.6871454761552,193.1558311475444L278.2835676683969,194.15055852777795L277.5434705227655,195.15485305935317L276.8900015611967,196.15286898698724L276.4931340816825,196.98736646084808Z\" style=\"stroke: rgb(68, 68, 68); stroke-opacity: 1; stroke-width: 1px; opacity: 1;\"/><path class=\"choroplethlocation\" fill=\"rgb(125, 15, 40)\" d=\"M149.32929360979023,183.7110619021107L142.6522414780619,232.07590710110736L128.28725416667615,230.01326733224755L113.02704484242645,221.2289346922978L106.10699567023354,216.93283445306133L103.1375182168178,215.07470154170477L104.10892028460302,213.54971202448291L105.02326342320674,213.73152322517666L106.17210504511408,212.2394475568746L105.1237951514237,210.8358829246721L105.10868728774801,209.48662264103172L105.04717365231988,207.9032263426309L106.79150283361611,206.22971935696904L108.09981213845603,202.44684724771463L110.59295503240028,201.13745372946556L109.55755919323363,199.28965326949464L108.97538982320444,197.52812106052102L108.73956719143644,195.9085698527179L108.61241722741437,194.6845743352302L108.57799129308657,193.9283547914955L109.36437163993472,192.28566877184494L109.33968067003462,190.5568123170766L109.47863284733825,188.93505419795508L109.85154781853738,187.05963484041564L109.55526023806058,185.80062783369698L110.19439523333386,184.87797306056314L111.59469528959576,185.15502003111533L112.79562826886333,185.9895992388095L113.6025114455891,186.52065798454862L114.2913866458027,185.30504569422772L114.69708780254844,185.08337760021305L115.92768061373538,178.20232264072422L126.70668657087201,180.027923455728L139.56910428146836,182.21297320690405Z\" style=\"stroke: rgb(68, 68, 68); stroke-opacity: 1; stroke-width: 1px; opacity: 1;\"/><path class=\"choroplethlocation\" fill=\"rgb(168, 39, 37)\" d=\"M108.57799129308657,193.9283547914955L108.61241722741437,194.6845743352302L108.73956719143644,195.9085698527179L108.97538982320444,197.52812106052102L109.55755919323363,199.28965326949464L110.59295503240028,201.13745372946556L108.09981213845603,202.44684724771463L106.79150283361611,206.22971935696904L105.04717365231988,207.9032263426309L105.10868728774801,209.48662264103172L105.1237951514237,210.8358829246721L106.17210504511408,212.2394475568746L105.02326342320674,213.73152322517666L104.10892028460302,213.54971202448291L94.9628263068991,212.63379352634786L87.53906425281923,211.60634250252753L86.88488392698784,211.53395340614634L86.67762256859567,206.97597230330422L83.296835213456,201.07219588925346L80.30907544645765,199.3057693718655L80.17927374059497,196.7067803238079L76.45587852670792,195.3425913400954L74.54078171017545,192.44185652117955L68.46749827936097,190.04720182759303L67.06161560522932,188.2330349796116L67.09926308427211,188.09098370037174L67.49963839629095,183.4064763689579L64.94911410602384,177.31173375665958L63.28059511226007,173.26715859073096L61.09566760146146,160.18915829265956L61.362313865773956,159.5765749938829L61.91535845409007,158.28046000216466L59.91120478313766,154.8673023382962L59.8689919177267,154.70169399841785L58.55692490687244,151.17231221571387L56.94717744632584,146.3163281761848L58.165944377439615,139.3071912614309L57.46087690988608,137.2491031871582L56.222180469898206,133.7938304519675L58.55055365633916,129.35650889440814L59.69544181772525,127.32448356916024L61.6260402237329,120.15853041391557L87.25354588102334,127.45628736991068L80.7706596591216,152.5825625176122L90.14956012626479,166.95702682276232L99.49188594244657,180.77311862216823Z\" style=\"stroke: rgb(68, 68, 68); stroke-opacity: 1; stroke-width: 1px; opacity: 1;\"/><path class=\"choroplethlocation\" fill=\"rgb(194, 96, 67)\" d=\"M198.16990357266613,162.46811690072462L197.31892092489778,175.83155721478994L196.51448645333386,188.46402636737787L190.00541282276652,188.01643996117565L181.91990923244344,187.3681412867137L170.42235161133107,186.2695399770874L159.82151583162738,185.07191531444437L149.32929360979023,183.7110619021107L153.98536637701184,149.37502284334101L160.35340746453642,150.22090274475732L166.73000484624106,150.99966197048622L179.50603782928783,152.35548025510565L185.91026986655484,152.8591665863393L198.7212167502053,153.81054819268684L198.18392531772525,162.24792586194366Z\" style=\"stroke: rgb(68, 68, 68); stroke-opacity: 1; stroke-width: 1px; opacity: 1;\"/><path class=\"choroplethlocation\" fill=\"rgb(159, 30, 38)\" d=\"M378.4172563786311,129.24372716413217L383.161675936764,128.22962037455414L388.8724673893071,127.00029336065273L390.13612952521606,131.52709986573444L390.04891111567485,132.8400308620083L387.42309403309827,133.9704262221834L383.90232066546366,135.31012149437146L382.9124509984092,136.16020296988057L379.6659094482502,138.68782625097327L379.5333879547546,138.49286827837113L379.11469198214616,137.4597079708018L380.220852613475,136.36265352933475L379.56376290477147,135.76532900009403Z\" style=\"stroke: rgb(68, 68, 68); stroke-opacity: 1; stroke-width: 1px; opacity: 1;\"/><path class=\"choroplethlocation\" fill=\"rgb(169, 41, 36)\" d=\"M362.1075145363156,161.76799552729995L362.0054514413353,161.26309979416698L361.3545836753803,160.64371699734141L361.7721710337873,160.10908538359809L362.80399209647015,160.87585420896391Z\" style=\"stroke: rgb(68, 68, 68); stroke-opacity: 1; stroke-width: 1px; opacity: 1;\"/><path class=\"choroplethlocation\" fill=\"rgb(93, 13, 32)\" d=\"M375.62656454193075,161.89711311363965L371.321073978657,162.84590019563637L368.568432697472,152.14922834445508L368.8433034421248,151.41242609266294L369.34545952006914,150.92700131434367L370.8485326044436,151.04971160408337L370.04225334012074,152.13019466711063L370.65304790714254,153.72859440882974L372.9854888814706,157.96160748672668L374.9151775827155,159.11531073778866Z\" style=\"stroke: rgb(68, 68, 68); stroke-opacity: 1; stroke-width: 1px; opacity: 1;\"/><path class=\"choroplethlocation\" fill=\"rgb(108, 14, 37)\" d=\"M299.9689106072326,245.01311623549995L300.438383697875,243.79815725350588L300.66231292830764,242.0179474163261L298.76668738274793,240.133493633567L298.8988297767862,239.46147111605762L303.0280521203156,238.56979277355128L317.89392504960165,236.92956104016727L319.2082268419904,239.13038227761234L326.6632026796202,238.65360942078024L338.5912214651818,238.2698869424204L339.3826472755029,239.70390860480435L340.2148496704925,238.7693368571255L339.77596653572726,235.8066490984952L340.58289723109505,235.39108322149758L342.1917990943002,235.81398819823687L343.72525095995,235.727577138186L345.8740872094283,241.45350850251788L349.4966635890429,248.26241067124118L353.75510831539384,253.76553422239718L354.44091994331006,257.3349000379685L359.6047874430135,266.5456399387932L360.3598345526765,272.21342033006886L360.51393658510403,275.5565560156492L359.46457806537757,280.9959575070965L357.3224380761621,282.4425444601103L353.3208717914874,281.9882513451472L352.57174050102094,280.50098306402026L351.5461875716194,278.54444946994926L348.34438171681165,277.0647250853566L345.94212929572257,273.99244836298465L343.18514754282626,270.45093574824784L338.703795305915,264.50602605536244L337.1611778668623,261.351617702908L337.92447344503154,255.44820245898165L335.148353764515,251.13414227213713L328.42110737997865,244.75689208577995L325.38565645523613,243.82120490380103L318.47314194264175,248.62113814001782L317.07671460803516,248.3403125087697L312.9901821878428,244.75575662479952L308.1820513367404,243.1302952952858L303.5575312883908,244.17005912803583Z\" style=\"stroke: rgb(68, 68, 68); stroke-opacity: 1; stroke-width: 1px; opacity: 1;\"/><path class=\"choroplethlocation\" fill=\"rgb(63, 9, 18)\" d=\"M317.89392504960165,236.92956104016727L317.4061910410271,236.0293342046882L316.8083573642559,234.9941421293816L316.82951534521635,233.51913430121311L316.8414205610468,231.9710354569923L316.28165983496035,230.4147080441088L316.34553762761726,227.68020727933998L317.3797094282334,226.01110095426617L316.549885535533,224.55893315017136L315.21808176387276,221.98284537629286L312.59289289314904,213.64233530066582L309.5953431558186,203.1842277942298L314.91176714210553,202.65374065415534L318.58870874091684,202.13615387203066L327.21804597794886,201.08717961461133L326.50926947489245,201.9254961743435L325.6457516968902,203.6732463753828L327.73609929237193,204.87324662392712L328.9796383713394,205.22111147312705L330.7124536480709,207.72332859971306L331.7448082086148,209.13490618676582L334.49276120951845,210.81647033624535L335.1075379830783,211.83940236946768L336.9540927162285,212.9762041519923L338.08133111447796,214.88487395398278L340.62720300854403,216.20441749042095L341.38828991778405,218.09044849763615L341.9945868586517,218.96102678032554L341.81896103343985,219.65583673620966L343.2578518503912,220.39610248301204L344.24792916788067,221.87232664988903L344.49913024025216,223.464257630384L345.20595498551876,223.7231484798001L346.48203886636816,223.96436095407682L343.91457538609836,229.48360857694405L343.72525095995,235.727577138186L342.1917990943002,235.81398819823687L340.58289723109505,235.39108322149758L339.77596653572726,235.8066490984952L340.2148496704925,238.7693368571255L339.3826472755029,239.70390860480435L338.5912214651818,238.2698869424204L326.6632026796202,238.65360942078024L319.2082268419904,239.13038227761234Z\" style=\"stroke: rgb(68, 68, 68); stroke-opacity: 1; stroke-width: 1px; opacity: 1;\"/><path class=\"choroplethlocation\" fill=\"rgb(162, 33, 37)\" d=\"M169.9935605373372,277.7093332479418L171.47002366973425,278.4255822931501L172.74046724595584,279.57824566013596L174.86996602981264,282.5399675706898L174.6635923983568,283.05054738243274L171.51505917928574,284.8925666499324L168.88584936760478,286.21840201232203L167.7324485588933,287.6797507239375L165.72074206476006,286.452240755752L165.9215880024117,284.0514058053877L164.5398089189154,280.9316239003369L164.95726831323094,279.98571192535746L166.42405688539512,278.5997802434547L165.78613783588722,276.93291998924735L166.30787415264697,276.1323874258443L166.93869055535015,276.2745967065251ZM165.13590530310415,271.85869942323677L164.51100783138872,272.9483370206559L161.78600208604092,273.5363903268586L160.41950560736316,271.7268120998349L159.47557522534083,271.0759532518436L159.37016492678242,270.496466775343L160.20693367363273,269.7709948627269L163.03605918903705,270.5615589554633ZM159.05393948646855,268.39656610170687L158.74082109094047,269.3381606606778L154.4495104669992,269.0475024575385L155.0784546046344,268.0345830156844ZM148.81910248487304,263.7508105543781L149.54772065671156,264.33200223420715L151.83779595212405,267.1603200516263L151.41814606315532,267.6658469864603L150.79104802761094,267.51926570533976L147.968605943112,267.21920403158697L147.03704217738172,265.26139347419615L146.7250960770864,264.970545994497ZM138.10578198581933,259.4896568015014L138.29627930480646,261.44124335633944L137.3494849250613,262.2993705069366L134.65463560798287,260.6823399958157L135.07777570923815,260.10919366262397L136.2328557931353,259.25489297776585Z\" style=\"stroke: rgb(68, 68, 68); stroke-opacity: 1; stroke-width: 1px; opacity: 1;\"/><path class=\"choroplethlocation\" fill=\"rgb(213, 157, 138)\" d=\"M234.66768775628495,133.54015918147923L241.4278018693707,133.5335864356603L249.8740193362238,133.26973515714474L258.8815053461402,133.01077722919388L267.0074291047051,132.80519682869345L267.10991888587756,133.2399357323166L267.98619245677986,134.58851271723728L267.4552893035406,135.27589727592027L267.5445234465381,137.0321772553433L267.90968827421517,137.8207839270409L268.30613385926154,139.1950125998169L270.46312442259995,139.88691737552853L271.1069038712275,141.17303066332101L271.5521483283714,141.80896686765698L272.3122372234246,142.2059586552213L272.61317445741423,143.14372960694675L273.63444023828407,143.7444288560224L274.33445767161277,144.43696177287717L274.149510752534,146.8015682935839L273.1098855469387,148.77645765733524L272.735574919425,149.46052197231364L271.27636759078706,150.05882671688857L269.14419004066406,150.54196447324853L268.64367708941944,152.11262000374376L269.5086418342822,152.72972310813088L269.8281302748971,154.03726991014514L269.07127846063327,155.54879246721333L268.7213283334436,156.89156180092266L267.1116745689345,158.29641868504478L267.0180725239964,159.8466783327125L266.1429936030425,159.15207079560184L264.82093385169327,157.81416653025764L257.7875853068789,158.30834945678333L250.40770131174577,158.58193104656954L244.61792813026923,158.67666888512395L238.8275186599982,158.71675526177995L238.32185729915187,157.1739828845121L238.57021996662775,155.63016215761212L238.40087742928054,154.08728528536068L237.73351261736417,151.5901060526179L237.31904766263887,150.56185867508663L236.82253154730046,150.26775789747552L236.82467200747905,148.28514046435419L236.41466146133052,146.88972660052832L235.26835864703887,145.27191322162747L235.27105809566055,144.53810769126113L234.8672323357173,143.1424813382023L234.6260620364492,142.26112753415862L234.62991274841187,141.4543682205889L233.65731530623077,140.4956121915613L234.1536799471986,139.10558800292517L234.48566202701863,137.71473118464496L234.65230528289754,136.7629277997019L233.85032682090656,135.58634808533424L233.8629195041985,133.53576752500658Z\" style=\"stroke: rgb(68, 68, 68); stroke-opacity: 1; stroke-width: 1px; opacity: 1;\"/><path class=\"choroplethlocation\" fill=\"rgb(194, 97, 68)\" d=\"M124.15020791874245,74.52716772757287L122.73418661409339,83.29769624970714L123.73018892195354,85.87451766552203L123.41721241191185,87.36213518277577L124.24927375903907,88.94238952572772L125.35327664442944,89.98500999587839L126.06139354963486,91.46220820864164L127.19143630364135,94.3559586555125L128.3791171116005,95.85161002710208L130.17353766145095,96.27810135551272L129.11786908979948,98.07072696201476L128.1669166865965,100.1069981195867L128.18816876796993,102.41025234953196L127.40357387676298,102.77527260210718L127.05690734526996,104.93416454721603L127.96138954711898,106.00288933975821L129.30576452417625,105.22470926773724L130.1384619163065,104.19810221621395L130.78577064399587,104.544463884999L131.257448492168,105.82065681891788L131.4488375612924,108.60168925031854L132.32765141569058,109.87933109241158L132.30123895255193,112.17546901624837L132.50525544008994,112.80725546752137L133.70839719287665,113.25112596660347L134.18618286447062,114.60003911755348L134.87674419287637,117.02625596702097L136.1890474917506,115.99850587879814L138.07897064224161,116.70148594725396L138.38532401618912,115.86483175780472L141.73724253661163,116.95529798199675L143.1027402434941,116.9601301346375L144.2460416425095,115.37145005778723L144.90125331038888,115.77413548739253L145.2615516295283,117.01628790937104L145.88476857878237,117.63437328914256L146.0183252998421,117.80371203404843L142.64474279222554,138.9242927249802L124.0825470965254,135.73495058879814L105.49880510507785,131.78601455385632L109.05001735890997,116.73304054389604L110.06246247323426,114.41106026475791L109.83582114265562,113.23614481517387L108.87758050415673,112.4202833485869L109.18463614589055,111.06598868880525L110.4534198773353,109.40533388040694L112.06970998433228,107.9715111020841L113.51568596269631,105.45218532552241L114.82818113049153,103.50156411640421L115.59635535622607,102.55082215534048L115.57226324926886,101.2031908937928L114.74099434838297,100.27446037331322L113.72431919974964,98.4076920852952L114.13334448625284,96.93353940516579L113.89192391564504,95.53803404216308L116.35101905885313,83.89846261291694L118.65368577961114,73.320422082079L122.26841046093209,74.12076508101319Z\" style=\"stroke: rgb(68, 68, 68); stroke-opacity: 1; stroke-width: 1px; opacity: 1;\"/><path class=\"choroplethlocation\" fill=\"rgb(173, 47, 37)\" d=\"M267.0180725239964,159.8466783327125L267.1116745689345,158.29641868504478L268.7213283334436,156.89156180092266L269.07127846063327,155.54879246721333L269.8281302748971,154.03726991014514L269.5086418342822,152.72972310813088L268.64367708941944,152.11262000374376L269.14419004066406,150.54196447324853L271.27636759078706,150.05882671688857L272.735574919425,149.46052197231364L273.1098855469387,148.77645765733524L274.149510752534,146.8015682935839L274.33445767161277,144.43696177287717L273.63444023828407,143.7444288560224L272.61317445741423,143.14372960694675L272.3122372234246,142.2059586552213L271.5521483283714,141.80896686765698L271.1069038712275,141.17303066332101L277.54499246532646,140.77479944429183L284.059804005978,140.30065184423387L288.8672610996221,139.97837914597733L289.14470944442144,142.237079711146L291.26491972828984,146.61903747078935L292.1551138449163,156.57188287263835L292.9611862599248,166.54204358034093L292.4945433700156,169.02100582166543L293.05870798684566,169.56196656173603L293.5381892918458,171.07055888052417L293.63667306492334,172.16996510820763L293.088282086872,172.80986932326857L292.78149055559527,174.2406133727568L291.5680632636202,176.26658889394764L290.80989213023076,178.6206738892206L290.6974385199046,180.4026382091879L290.8397215882928,181.05539126333105L290.15392595563196,182.29412351827608L290.8314102483953,183.0501084841914L289.66376664534295,183.81126078451513L288.23684895789177,184.66451416277164L288.64559881895514,186.4775626421951L287.8258969082857,187.28058772818628L286.0958014525341,186.60212879693796L284.30873853589395,186.29238311604405L283.8408800064441,187.13798190261474L284.2002693466843,188.4399809508153L282.96274766982674,187.20080559098716L282.18768772655426,187.4765507442125L281.25136515742315,185.4019769683855L281.33577410001635,184.06841960440437L280.7590821699934,182.04236597624055L280.0425201919974,181.7956260156733L278.1830655745968,180.07357854009166L277.3968328864538,180.0497630192932L276.02266821556896,178.9549821999774L274.99060183412735,177.68988021898247L275.3306107474367,176.12137803407302L275.85857952846067,174.83609530244456L276.1036797269794,173.19908468490672L274.81781151472006,171.8762479145915L273.5657270737278,172.5392604461286L272.7727125354098,172.2158710321466L272.6044278665034,170.7513487582047L272.00157603507387,169.1637206121173L271.3841354225257,168.8291630064573L269.7875360020424,167.73519497591064L268.4368945926017,166.33067743381542L267.33230154614404,164.61728912097618L266.6142420691659,162.00082194652066Z\" style=\"stroke: rgb(68, 68, 68); stroke-opacity: 1; stroke-width: 1px; opacity: 1;\"/><path class=\"choroplethlocation\" fill=\"rgb(140, 17, 39)\" d=\"M290.6974385199046,180.4026382091879L290.80989213023076,178.6206738892206L291.5680632636202,176.26658889394764L292.78149055559527,174.2406133727568L293.088282086872,172.80986932326857L293.63667306492334,172.16996510820763L293.5381892918458,171.07055888052417L293.05870798684566,169.56196656173603L292.4945433700156,169.02100582166543L292.9611862599248,166.54204358034093L292.1551138449163,156.57188287263835L291.26491972828984,146.61903747078935L291.8936516724437,147.15231583970734L294.0272492146541,146.8818542144836L295.66330027006455,145.76680401461653L302.4036686109049,145.14934307379383L308.38246034122596,144.39816466833094L308.46012295112644,145.0544236653762L309.38396404672767,152.86099920546712L310.2848280253767,161.19538405198352L310.99297368909237,167.18632749035334L310.61049481724496,167.60185498425216L311.3288332236084,169.2953927577824L311.15028483868826,169.98337258452597L310.03915913986503,170.1134008143547L309.10535168872144,171.03589588498022L307.5232819535983,170.8447103146417L307.53999209660026,172.54596747794864L306.6684988784445,173.30903168887687L305.96843477641755,174.86633495127472L305.0444707524339,175.18820901417558L303.8480751375067,177.90541474825147L302.4744630973209,177.30817513163868L301.937430912463,176.32748091704752L300.9840434194574,178.1253554788663L300.29916399897803,179.15514474084108L298.8192748089414,178.3388414902093L297.3362852063988,179.29393683695753L296.89127747261824,180.14888531858423L294.6873956992864,179.02116774580958L293.38401070383486,180.09792477888783L291.5905868076631,179.58854105319284L291.58500040602587,180.5492308335228Z\" style=\"stroke: rgb(68, 68, 68); stroke-opacity: 1; stroke-width: 1px; opacity: 1;\"/><path class=\"choroplethlocation\" fill=\"rgb(207, 136, 112)\" d=\"M196.51448645333386,188.46402636737787L197.31892092489778,175.83155721478994L198.16990357266613,162.46811690072462L209.4900635740317,163.08486998012802L217.9442807669575,163.4098757776204L232.91620881212464,163.70154005702818L241.8842898141116,163.70263471442524L243.41841681081354,164.86664307618042L244.2660345716669,164.85793416616679L244.44960110555405,166.10642383344862L243.61623849003885,167.73368341642697L244.05054539720007,168.53854115729757L244.92510191059995,170.36816415447777L246.64722841336464,171.15471469992144L246.6961865466384,180.42728178385119L246.8307733389778,189.69901694652822L240.83562573631534,189.7581539911642L228.66865619385385,189.70673785788307L216.41670336625862,189.4227885638071L209.72073043031628,189.16904420636985L202.9397150930337,188.84098339052042Z\" style=\"stroke: rgb(68, 68, 68); stroke-opacity: 1; stroke-width: 1px; opacity: 1;\"/><path class=\"choroplethlocation\" fill=\"rgb(135, 17, 39)\" d=\"M281.82684912544494,192.51690892452785L283.26438663739344,191.45793829129383L284.2719149700106,190.64805307023425L284.08802790657046,189.33344547346627L284.2002693466843,188.4399809508153L283.8408800064441,187.13798190261474L284.30873853589395,186.29238311604405L286.0958014525341,186.60212879693796L287.8258969082857,187.28058772818628L288.64559881895514,186.4775626421951L288.23684895789177,184.66451416277164L289.66376664534295,183.81126078451513L290.8314102483953,183.0501084841914L290.15392595563196,182.29412351827608L290.8397215882928,181.05539126333105L290.6974385199046,180.4026382091879L291.58500040602587,180.5492308335228L291.5905868076631,179.58854105319284L293.38401070383486,180.09792477888783L294.6873956992864,179.02116774580958L296.89127747261824,180.14888531858423L297.3362852063988,179.29393683695753L298.8192748089414,178.3388414902093L300.29916399897803,179.15514474084108L300.9840434194574,178.1253554788663L301.937430912463,176.32748091704752L302.4744630973209,177.30817513163868L303.8480751375067,177.90541474825147L305.0444707524339,175.18820901417558L305.96843477641755,174.86633495127472L306.6684988784445,173.30903168887687L307.53999209660026,172.54596747794864L307.5232819535983,170.8447103146417L309.10535168872144,171.03589588498022L310.03915913986503,170.1134008143547L311.15028483868826,169.98337258452597L311.3288332236084,169.2953927577824L310.61049481724496,167.60185498425216L310.99297368909237,167.18632749035334L313.22236981839757,167.06700255990756L314.43639909751084,167.80763196604858L316.46470899388333,169.48207591373387L317.91539589951236,169.96457415105886L319.02646109760394,170.4884370550132L320.5366856142451,170.0668954218835L321.80202298419886,170.4171912581528L323.1001905070366,169.72077007650716L324.3611128841988,169.3979885088877L325.04687817268405,170.5654247065395L326.3581067495905,171.19805020006294L326.6433842995872,171.97516961277398L326.8165491808545,173.8089261244965L327.7783766116877,175.0097695357731L328.3117051613026,176.27147307132947L329.42007771130636,177.2265062222187L330.2610950551749,178.14493821482682L331.58122817462873,178.09880768796694L330.98529232278827,178.8566591191214L329.26467414596357,181.04148620797218L327.320641528844,182.35956584663205L327.2488810863342,183.11281871170974L326.67286506316776,184.08522725267045L325.05438964533766,185.2746220412301L324.9768002326202,185.35950041389492L324.89918920883525,185.44436932853097L324.48254594438333,186.31794180796646L323.4789456370803,186.82453418259445L323.1473395366169,187.0173589808L321.2821318251983,187.78298974734764L316.7363873856637,188.58193457971248L310.70702220436016,188.92584540187232L308.78571038018254,189.28957483104602L304.8849296702817,189.48758211409995L300.91060663726864,189.81709986043495L297.19942773434497,190.09764856159194L292.98282101222605,190.69581355743242L292.7748079549743,190.3444334317221L291.4509793214074,190.45654321744087L291.5675134006881,191.8496115450708Z\" style=\"stroke: rgb(68, 68, 68); stroke-opacity: 1; stroke-width: 1px; opacity: 1;\"/><path class=\"choroplethlocation\" fill=\"rgb(149, 19, 39)\" d=\"M251.32440442135658,224.0924615213243L258.1955164470353,223.91749730031194L265.98022491619014,223.34150324482442L272.0234306908804,223.35424249618637L272.60653803630913,223.83833765699893L272.0199718708872,225.11662792175412L273.13490052771994,226.8208992788115L272.90837406421184,227.86018392278243L273.92400169043833,229.3476834425329L272.939998590361,230.27969481549866L272.7415097497661,231.90341713617096L271.3973480190377,233.29074751794678L270.826836899375,235.15079796833834L270.2631504987513,237.22895336728172L269.36021665878434,238.2231046581668L269.8414275039992,240.3969643794228L276.22351017790174,240.29011776411446L283.167083595488,239.9414856428262L283.0677813328429,241.3397650033033L282.6861670632485,242.82913320226905L283.23013056795185,243.81856008347512L284.25393042669003,244.77549878510996L284.54314099313797,246.21962857848263L284.78892988550774,247.00782097049864L284.89476675152207,247.14697818363L286.29938848894597,249.31796575536632L286.44469338682154,252.8159852997028L288.20963111666975,254.37174894438965L286.8352093206833,255.63690959203967L283.93095044516696,254.5188806766808L281.2196813795737,256.36957642941L275.852435487816,256.38770560841994L270.001306558761,252.1569266577608L263.56116957263816,253.51805691183722L258.07515775152734,251.6565860152904L253.45110630925296,252.4327194685975L252.94663792819068,251.49572368216877L253.69101672449443,250.2386883908304L254.72324568264378,249.04642809875332L254.77816753734146,247.36583935186283L254.18796654840128,246.79590580065096L254.80909230253246,244.7353597648658L255.26335185056473,243.77392871153688L255.84922772289642,240.61486225087233L255.15356807133213,239.46255212640196L254.25101283494575,237.50940410314854L253.63656981437384,235.54771908411698L253.13447434801438,234.24134688328286L251.9818186904305,233.24131485515073Z\" style=\"stroke: rgb(68, 68, 68); stroke-opacity: 1; stroke-width: 1px; opacity: 1;\"/><path class=\"choroplethlocation\" fill=\"rgb(166, 38, 37)\" d=\"M388.8724673893071,127.00029336065273L383.161675936764,128.22962037455414L378.4172563786311,129.24372716413217L378.2885505034041,123.16079841039868L383.3787147969929,122.04804587324787L390.7237645711447,120.21612526481061L391.12540478316606,119.19821608923752L392.2283921913364,118.2943907105581L392.99139115287653,118.31566621398792L394.1031605886259,122.72516961163637L397.36281022748625,126.55184401007165L399.9652870869776,126.05850487587202L399.4306687155985,125.06451540359677L398.4034794294355,123.21744632734482L400.81805151499924,124.52267517204507L400.9186413083972,126.0960558789917L400.9384286927871,127.0820783432847L398.0443829756292,129.02993659577027L397.16328986842393,129.57612087573023L394.24568584386,130.21353365276178L393.66394556226794,129.00081784425754L392.4413999780503,128.2629235123204L391.4595279859753,126.16904220893804Z\" style=\"stroke: rgb(68, 68, 68); stroke-opacity: 1; stroke-width: 1px; opacity: 1;\"/><path class=\"choroplethlocation\" fill=\"rgb(136, 17, 39)\" d=\"M374.3248363449581,166.03128524029455L372.8271648422199,166.5101812074255L372.2562973302182,167.16141360291738L368.1675447883634,164.6491376620205L365.9398434459389,157.82349974381384L365.43032213890984,161.6882351754238L367.9978382175882,166.7906722494489L363.39520591399224,166.387813258608L363.2517879754597,166.11651408851617L362.8074132140766,165.23032298361704L361.7769257194595,165.81302352519646L360.84176291833006,165.54939729135253L361.2298449899121,163.52086384110532L361.9446373157353,162.70174766639713L362.16888340584177,162.50635177184444L362.1075145363156,161.76799552729995L362.80399209647015,160.87585420896391L361.7721710337873,160.10908538359809L361.3545836753803,160.64371699734141L359.9888014335947,159.94169868824758L358.5435230246268,159.70301750966985L358.58487715653075,159.46988044510647L358.7782276806705,158.6817138053607L357.8113892776497,158.19729262821062L357.01439481284444,158.12833672248144L356.8326446183936,158.0888008932656L356.1195211793961,157.10316283998833L355.04602027623383,156.03679491124024L352.9170787965788,155.76895319458743L351.86937529665124,156.63968627107886L351.23751714898265,157.43100351359521L349.32849751116055,157.40875015752158L348.56457287335553,158.44503263743752L347.3709094329622,159.03377584561542L346.4589212642645,160.2424479624965L345.5764071266781,161.14519803336844L344.89700098416245,156.78285259204665L350.8448854370701,155.78304020267626L352.83507928353026,155.33527736839346L357.4219904096026,154.45009850225108L362.91729879287067,153.34236848738107L368.568432697472,152.14922834445508L371.321073978657,162.84590019563637L375.62656454193075,161.89711311363965L375.7070049009992,162.256178222377Z\" style=\"stroke: rgb(68, 68, 68); stroke-opacity: 1; stroke-width: 1px; opacity: 1;\"/><path class=\"choroplethlocation\" fill=\"rgb(151, 21, 39)\" d=\"M393.4886399317663,116.12937853852202L392.88302181640245,116.37047334746842L392.2633196819188,115.32410486054619L390.8282096702094,114.34643551226566L390.85184917173547,113.5057399287216L385.9062981188,98.48972628723794L388.0373418335761,96.47783673427926L388.51499588169975,94.38256613082461L389.041385481939,92.19760512025971L389.03158908491855,89.55724430880241L389.0288968837142,85.25678800567351L390.7290984388193,80.32522879105585L391.51538340259356,77.8368741465141L393.459636536964,79.08255554294811L394.0404584099452,79.44128525003492L397.41891529603595,76.92606400492497L400.61102762789807,78.53325076644416L402.65042879539715,85.20026182388494L404.0342297253495,89.72404863361936L409.1932183717223,93.16303063764542L411.0233389690959,95.57127297733996L406.0470111163278,101.46834515326213L400.8441767392719,106.06566950254467L395.30899506816905,110.307942284467Z\" style=\"stroke: rgb(68, 68, 68); stroke-opacity: 1; stroke-width: 1px; opacity: 1;\"/><path class=\"choroplethlocation\" fill=\"rgb(154, 24, 38)\" d=\"M288.26441674015456,117.4826428231695L288.1014240398881,117.42384495514625L288.1078537287884,117.4965164828692L287.23637095128845,116.54786470005877L287.5059652428741,115.13356285746295L286.1743180865547,115.17572943915292L286.3675222711822,113.76928457957678L286.6934519972554,113.0098366832936L286.05021686789235,111.89557131340752L284.6064558447728,111.4329390206928L284.10539602377816,110.0866948980568L282.93458961016825,110.03610967302535L281.3119039080864,110.16436660515171L277.7247063210612,108.8996160746409L272.46216534941004,107.72083683762162L271.9069955003731,106.22615303434782L270.9687357266017,105.99185136483095L270.59374742818056,106.15966279608762L270.5127438360632,106.09166900218844L270.59374742818056,106.15966279608762L274.9738454293541,103.70054482021828L279.500945735665,100.613594276262L284.42578420291875,97.3828186184237L282.9026880093493,102.01943137047533L286.3481624932512,102.82030517631728L290.775050721266,105.69776886303259L295.78982056208605,103.2990841612592L301.4971670386952,101.86918337602947L302.9944147122369,104.10836044841454L304.795904666498,104.26021226088545L306.4371205703704,104.35305641871486L309.7786531454328,107.37741303620885L304.6326498152223,108.74835755178862L304.4784757704143,108.76670965958687L299.6699499606037,108.36575242884811L295.2234163487183,110.59517136230102L291.2692333894423,111.71658715527201ZM316.88486049359994,143.84918845585014L314.51887685164246,144.23232212947215L311.6501143606871,144.5943191631356L308.46012295112644,145.0544236653762L308.38246034122596,144.39816466833094L302.4036686109049,145.14934307379383L295.66330027006455,145.76680401461653L296.7797373215209,144.47719051725494L298.88323290523414,139.98648513367203L298.54517230195995,134.3455819656017L295.9171587796106,129.23909997414665L295.87045515642785,125.56716092535981L297.021997560982,121.1883461093064L298.2185275172579,118.19964530710718L300.42370105350494,115.90605419691514L301.2848868698894,118.67424063468263L301.9069168977121,114.34594577371945L303.129776143255,113.32547162822891L303.52597761954166,109.97868774529343L308.840725060092,111.09378731245636L313.6962128594356,113.8438325891247L314.67991724961604,117.61433611946165L314.6554183717365,121.59839710260059L311.77934145042207,125.44164523027712L312.3768763861476,127.57841773037683L313.58112874757455,127.49608634368457L316.8057403771037,123.22530732896962L319.22082352582504,123.7751430614876L321.03441669910814,128.54442807778457L321.85413804607526,131.9794161153672L320.9773714067777,133.8817383998683L319.53782581086614,137.11977414257825L319.02874830666315,138.81935916788274L318.64876955920954,140.27866518996012Z\" style=\"stroke: rgb(68, 68, 68); stroke-opacity: 1; stroke-width: 1px; opacity: 1;\"/><path class=\"choroplethlocation\" fill=\"rgb(214, 158, 139)\" d=\"M261.02591016710215,105.47965419778137L259.4362941787145,106.05294755996823L259.70138891887404,110.84393433953801L259.5438064704441,110.77729453614592L258.1082574010712,111.77806829670925L256.8204578008863,112.69747370333636L256.01634949227673,114.2543142564806L257.3954829475137,115.81151968340049L257.00167523777816,118.0134207422879L257.08120875599434,120.34650732551171L256.90907320354455,122.25135091976625L258.783564183536,123.7929993135063L259.49862018052437,123.83932556779189L261.5287258237641,125.00163979140643L262.1880578339251,125.55909240320182L262.7055687719676,126.48797070382562L264.28343026036833,127.88126647281638L266.41710207971886,129.02415532641544L266.69320239521596,129.7429311318832L266.79550528540466,131.78957156842444L267.0074291047051,132.80519682869345L258.8815053461402,133.01077722919388L249.8740193362238,133.26973515714474L241.4278018693707,133.5335864356603L234.66768775628495,133.54015918147923L234.78547018056466,125.49412965502898L234.11947749181763,117.24259624591934L233.0291217782997,116.57910285160204L232.49348898402803,115.26297342516153L232.81494563283775,114.10020549470181L234.14341468007277,113.16292954169023L234.2281952885875,111.9260089142661L234.23736724646125,110.3254968287473L233.93637829773945,109.01481499267214L233.40651551717983,107.63031892889268L233.1123515063941,105.88480925663947L233.12703842254686,103.99766872478494L232.90189178008734,103.48800312151297L232.694002159784,101.02095581989602L232.62810503730506,99.86111362194788L232.5612347079968,98.8466312351992L232.27467952243464,97.10694133746887L231.61373715265884,95.36456726799582L230.95534352778694,93.76724257346018L230.8985388647872,92.25002142189521L230.84388986444216,90.58965110979722L231.00594969221925,89.50990995133287L231.09225849459125,88.5018835594039L230.58760736329526,87.27113189453763L230.44959106518064,86.47739001468886L236.52112451125342,86.52215073790069L242.29660858655848,86.50152436915312L242.2767482824462,84.2716620230762L242.26778691621598,83.26550355676102L243.2238097197731,83.18428503872377L244.18045425475356,83.17321258455172L244.4935042433658,84.60688006992171L245.2036677635481,87.83600213274656L247.010277870947,89.24856400291503L249.39788013327603,89.48988824611763L251.0411404894485,89.66776105439254L256.97274690292767,90.85883732863249L260.7778901164566,92.44341331621894L262.61400450533495,93.22971960769627L264.3916955356307,92.71138148078006L267.276712387979,91.9110593464747L274.4493867931962,93.64487829469817L268.75554156597633,96.82410833333444L264.7718257721824,100.44342202105639L260.9740793533276,104.24661272616277Z\" style=\"stroke: rgb(68, 68, 68); stroke-opacity: 1; stroke-width: 1px; opacity: 1;\"/><path class=\"choroplethlocation\" fill=\"rgb(176, 53, 39)\" d=\"M280.94999921861677,196.70525823418836L276.4931340816825,196.98736646084808L276.8900015611967,196.15286898698724L277.5434705227655,195.15485305935317L278.2835676683969,194.15055852777795L277.6871454761552,193.1558311475444L269.8590824860945,193.0785631876389L262.6788956911565,193.39760247906662L255.13881655140978,193.5732818746393L246.79974089098857,193.67323174167575L246.8307733389778,189.69901694652822L246.6961865466384,180.42728178385119L246.64722841336464,171.15471469992144L244.92510191059995,170.36816415447777L244.05054539720007,168.53854115729757L243.61623849003885,167.73368341642697L244.44960110555405,166.10642383344862L244.2660345716669,164.85793416616679L243.41841681081354,164.86664307618042L241.8842898141116,163.70263471442524L241.02766473698424,161.86959305926263L240.0108891785119,160.77162290539468L238.91316019198877,159.45173050884415L238.8275186599982,158.71675526177995L244.61792813026923,158.67666888512395L250.40770131174577,158.58193104656954L257.7875853068789,158.30834945678333L264.82093385169327,157.81416653025764L266.1429936030425,159.15207079560184L267.0180725239964,159.8466783327125L266.6142420691659,162.00082194652066L267.33230154614404,164.61728912097618L268.4368945926017,166.33067743381542L269.7875360020424,167.73519497591064L271.3841354225257,168.8291630064573L272.00157603507387,169.1637206121173L272.6044278665034,170.7513487582047L272.7727125354098,172.2158710321466L273.5657270737278,172.5392604461286L274.81781151472006,171.8762479145915L276.1036797269794,173.19908468490672L275.85857952846067,174.83609530244456L275.3306107474367,176.12137803407302L274.99060183412735,177.68988021898247L276.02266821556896,178.9549821999774L277.3968328864538,180.0497630192932L278.1830655745968,180.07357854009166L280.0425201919974,181.7956260156733L280.7590821699934,182.04236597624055L281.33577410001635,184.06841960440437L281.25136515742315,185.4019769683855L282.18768772655426,187.4765507442125L282.96274766982674,187.20080559098716L284.2002693466843,188.4399809508153L284.08802790657046,189.33344547346627L284.2719149700106,190.64805307023425L283.26438663739344,191.45793829129383L281.82684912544494,192.51690892452785L281.7048584976783,193.3364305658435L281.3458612761918,194.61433905841722Z\" style=\"stroke: rgb(68, 68, 68); stroke-opacity: 1; stroke-width: 1px; opacity: 1;\"/><path class=\"choroplethlocation\" fill=\"rgb(80, 12, 27)\" d=\"M272.0234306908804,223.35424249618637L272.3077184002331,221.65040598536785L271.3607473314488,219.42109017827732L271.44147635613587,217.35933270800712L272.84549513791234,214.27246034593372L273.48265925702515,212.4732664963242L274.69485802646267,211.22960903081002L275.3944159825806,210.67506434999018L276.25839442193916,208.2700378362693L276.1854432772599,207.02283781181615L277.417320748873,206.36058508916364L277.4633339989518,205.62144038005397L284.32668658351196,205.1700377694791L291.92471744425575,204.8078998992089L292.6065110183616,206.4475676463622L292.24634148397297,217.67832540310968L292.14482450018676,231.51310007035607L293.3813193414263,244.61806247193013L287.77676332708126,245.62906494813697L284.89476675152207,247.14697818363L284.78892988550774,247.00782097049864L284.54314099313797,246.21962857848263L284.25393042669003,244.77549878510996L283.23013056795185,243.81856008347512L282.6861670632485,242.82913320226905L283.0677813328429,241.3397650033033L283.167083595488,239.9414856428262L276.22351017790174,240.29011776411446L269.8414275039992,240.3969643794228L269.36021665878434,238.2231046581668L270.2631504987513,237.22895336728172L270.826836899375,235.15079796833834L271.3973480190377,233.29074751794678L272.7415097497661,231.90341713617096L272.939998590361,230.27969481549866L273.92400169043833,229.3476834425329L272.90837406421184,227.86018392278243L273.13490052771994,226.8208992788115L272.0199718708872,225.11662792175412L272.60653803630913,223.83833765699893Z\" style=\"stroke: rgb(68, 68, 68); stroke-opacity: 1; stroke-width: 1px; opacity: 1;\"/><path class=\"choroplethlocation\" fill=\"rgb(197, 106, 78)\" d=\"M191.40916450540897,84.55919892120801L190.23900245521298,100.04910747243946L189.66698657091467,110.42635774097039L188.69002655567843,118.24269183491418L178.60148680515553,117.14746747255845L167.8073877850497,116.00666610714086L158.4577845865423,114.71392694830342L146.70078437627996,113.03243505227658L146.02073942085113,117.2861744545553L145.88476857878237,117.63437328914256L145.2615516295283,117.01628790937104L144.90125331038888,115.77413548739253L144.2460416425095,115.37145005778723L143.1027402434941,116.9601301346375L141.73724253661163,116.95529798199675L138.38532401618912,115.86483175780472L138.07897064224161,116.70148594725396L136.1890474917506,115.99850587879814L134.87674419287637,117.02625596702097L134.18618286447062,114.60003911755348L133.70839719287665,113.25112596660347L132.50525544008994,112.80725546752137L132.30123895255193,112.17546901624837L132.32765141569058,109.87933109241158L131.4488375612924,108.60168925031854L131.257448492168,105.82065681891788L130.78577064399587,104.544463884999L130.1384619163065,104.19810221621395L129.30576452417625,105.22470926773724L127.96138954711898,106.00288933975821L127.05690734526996,104.93416454721603L127.40357387676298,102.77527260210718L128.18816876796993,102.41025234953196L128.1669166865965,100.1069981195867L129.11786908979948,98.07072696201476L130.17353766145095,96.27810135551272L128.3791171116005,95.85161002710208L127.19143630364135,94.3559586555125L126.06139354963486,91.46220820864164L125.35327664442944,89.98500999587839L124.24927375903907,88.94238952572772L123.41721241191185,87.36213518277577L123.73018892195354,85.87451766552203L122.73418661409339,83.29769624970714L124.15020791874245,74.52716772757287L141.14803088907192,77.88290990797373L157.731844594462,80.61681946408612L174.6867166051596,82.86896973570327Z\" style=\"stroke: rgb(68, 68, 68); stroke-opacity: 1; stroke-width: 1px; opacity: 1;\"/><path class=\"choroplethlocation\" fill=\"rgb(77, 11, 25)\" d=\"M327.21804597794886,201.08717961461133L318.58870874091684,202.13615387203066L318.54272230786546,200.29012942416233L319.91193389085714,199.60054758352203L320.3287474567637,198.58447865249656L321.091518857767,197.44949555380583L322.4902990441566,197.0461820093272L324.0465485823584,196.4704156180154L325.5412585356904,195.45369281024006L326.06444358315395,194.64040294684656L327.30597434620597,193.8016140930294L327.2151602012848,193.14593594529265L328.7343530500883,191.74520914473317L329.37870077901607,192.47115054918987L331.61284952554394,190.44032749401055L332.8806034646272,190.47716781317524L333.7220788366194,188.86461950872575L334.9874067827177,188.3021026528943L334.7121048390312,187.07886226363854L334.72210081122154,185.9611219938406L332.1133347744834,186.50037889187536L334.72210081122154,185.9611219938406L346.16201643411483,184.4932338453969L359.530495871346,182.15092180056968L366.652402352157,180.66968978732962L372.97593984890466,179.27613452715042L373.756438255127,179.10883467822794L374.45037656104955,181.06664752318596L376.54724906551974,187.38603528053926L374.86625011792506,191.5816995065229L373.551649543169,194.5634780995723L367.02695705907246,198.518765120509L363.4172871826071,204.3845582679125L360.09644458711966,205.60781830131373L350.912590006267,198.89862906206605L343.2032827861174,200.11530818181075L343.0510053245437,199.1720848690244L341.74548372999493,197.89283725246224L341.20116391805084,198.50056718987275L340.99662826020744,197.78874731327664L337.726014235463,197.9273269905812L331.3717086515354,198.7974227946379L327.9055957544205,200.7701385249071Z\" style=\"stroke: rgb(68, 68, 68); stroke-opacity: 1; stroke-width: 1px; opacity: 1;\"/><path class=\"choroplethlocation\" fill=\"rgb(241, 236, 236)\" d=\"M230.44959106518064,86.47739001468886L230.58760736329526,87.27113189453763L231.09225849459125,88.5018835594039L231.00594969221925,89.50990995133287L230.84388986444216,90.58965110979722L230.8985388647872,92.25002142189521L230.95534352778694,93.76724257346018L231.61373715265884,95.36456726799582L232.27467952243464,97.10694133746887L232.5612347079968,98.8466312351992L232.62810503730506,99.86111362194788L232.694002159784,101.02095581989602L232.90189178008734,103.48800312151297L233.12703842254686,103.99766872478494L233.1123515063941,105.88480925663947L233.40651551717983,107.63031892889268L233.93637829773945,109.01481499267214L234.23736724646125,110.3254968287473L234.2281952885875,111.9260089142661L222.90038790475836,112.184659478416L213.2085124131778,111.8525641643692L200.9684903798873,111.19576997414754L189.66698657091467,110.42635774097039L190.23900245521298,100.04910747243946L191.40916450540897,84.55919892120801L191.70427881779048,84.58432453408221L210.98601434255232,85.87443176220529Z\" style=\"stroke: rgb(68, 68, 68); stroke-opacity: 1; stroke-width: 1px; opacity: 1;\"/><path class=\"choroplethlocation\" fill=\"rgb(220, 180, 167)\" d=\"M198.16990357266613,162.46811690072462L198.18392531772525,162.24792586194366L198.7212167502053,153.81054819268684L185.91026986655484,152.8591665863393L187.36252076612354,135.74628298142972L199.48905400391442,136.65017387244154L208.79716273856448,137.17454705249116L221.27264160807104,137.64730618693636L222.86642715685878,138.78850948542043L225.20757509960154,139.5014211857943L225.70259921222615,139.14481422216437L227.1650216603347,139.17200250641167L229.44101365612227,139.13383808003317L231.05401978532012,140.2532386979392L232.75754081179343,141.0024715737743L232.99652823381214,141.73769961720598L233.56531708335643,142.1084251792969L234.6260620364492,142.26112753415862L234.8672323357173,143.1424813382023L235.27105809566055,144.53810769126113L235.26835864703887,145.27191322162747L236.41466146133052,146.88972660052832L236.82467200747905,148.28514046435419L236.82253154730046,150.26775789747552L237.31904766263887,150.56185867508663L237.73351261736417,151.5901060526179L238.40087742928054,154.08728528536068L238.57021996662775,155.63016215761212L238.32185729915187,157.1739828845121L238.8275186599982,158.71675526177995L238.91316019198877,159.45173050884415L240.0108891785119,160.77162290539468L241.02766473698424,161.86959305926263L241.8842898141116,163.70263471442524L232.91620881212464,163.70154005702818L217.9442807669575,163.4098757776204L209.4900635740317,163.08486998012802Z\" style=\"stroke: rgb(68, 68, 68); stroke-opacity: 1; stroke-width: 1px; opacity: 1;\"/><path class=\"choroplethlocation\" fill=\"rgb(174, 48, 38)\" d=\"M392.99139115287653,118.31566621398792L392.2283921913364,118.2943907105581L391.12540478316606,119.19821608923752L390.7237645711447,120.21612526481061L383.3787147969929,122.04804587324787L382.69019774357025,121.31451698775595L382.8753840191912,120.05815065339567L382.39669515205026,117.83618212200594L382.5056555336702,117.2796143086444L382.1576948231216,115.25241497214671L382.4431499148484,113.44246320748289L382.7279742584733,112.6143329243082L382.9159385598541,110.45128979856929L382.7239681818944,109.06600345809915L382.7361515525647,108.15691127573166L383.7219597700905,107.52399081682643L384.8460742554961,106.1726479491578L384.7973674379284,105.05231784673316L384.0228435285453,103.97205987413969L384.11521556963095,101.53242051694895L384.1824445413391,99.32651599592879L385.9062981188,98.48972628723794L390.85184917173547,113.5057399287216L390.8282096702094,114.34643551226566L392.2633196819188,115.32410486054619L392.88302181640245,116.37047334746842L393.4886399317663,116.12937853852202Z\" style=\"stroke: rgb(68, 68, 68); stroke-opacity: 1; stroke-width: 1px; opacity: 1;\"/><path class=\"choroplethlocation\" fill=\"rgb(181, 64, 43)\" d=\"M370.65304790714254,153.72859440882974L370.04225334012074,152.13019466711063L370.8485326044436,151.04971160408337L371.9984821921746,149.9665598912684L372.2999322928141,149.3719166157129L373.5279635581189,147.89026333126588L374.14043725030604,146.77133030654807L371.6831769593331,145.0640923472178L371.392570072729,144.14972808438534L370.60725325134547,144.09885487764484L370.385900424076,142.71729123999518L370.8806723327024,141.4773179595249L370.31429935375786,140.4743336112848L371.1299999749551,139.53855401865997L371.747972753382,137.36534395488712L372.4761347410108,136.82302153405067L378.04175376891567,139.07461731533238L378.2036315199348,140.8488948840897L376.79748851412455,143.6704170366442L378.76412111663456,143.58688853450047L378.7946636339353,150.00097823631205L378.1838421509957,151.50278576026864L375.615002676107,157.52501927559535L374.7118488315359,155.4657161612859L374.3618184891251,155.46892318212088L373.19652177875304,155.3522779923777L371.97279717228326,154.56841532458645Z\" style=\"stroke: rgb(68, 68, 68); stroke-opacity: 1; stroke-width: 1px; opacity: 1;\"/><path class=\"choroplethlocation\" fill=\"rgb(162, 33, 37)\" d=\"M142.6522414780619,232.07590710110736L149.32929360979023,183.7110619021107L159.82151583162738,185.07191531444437L170.42235161133107,186.2695399770874L181.91990923244344,187.3681412867137L190.00541282276652,188.01643996117565L189.6911006993177,192.272496806334L188.01820238899836,214.9249806709867L186.82462138487546,231.0870954093827L180.16583420246823,230.56281596711813L167.23943253118114,229.35890707891895L160.69184094286845,228.65500466666555L160.70367459542808,229.39318469092348L161.39262335805103,230.86968972770762L148.83809902816455,229.35995948204982L148.38679943458754,232.84322887868467Z\" style=\"stroke: rgb(68, 68, 68); stroke-opacity: 1; stroke-width: 1px; opacity: 1;\"/><path class=\"choroplethlocation\" fill=\"rgb(175, 51, 39)\" d=\"M105.49880510507785,131.78601455385632L124.0825470965254,135.73495058879814L115.92768061373538,178.20232264072422L114.69708780254844,185.08337760021305L114.2913866458027,185.30504569422772L113.6025114455891,186.52065798454862L112.79562826886333,185.9895992388095L111.59469528959576,185.15502003111533L110.19439523333386,184.87797306056314L109.55526023806058,185.80062783369698L109.85154781853738,187.05963484041564L109.47863284733825,188.93505419795508L109.33968067003462,190.5568123170766L109.36437163993472,192.28566877184494L108.57799129308657,193.9283547914955L99.49188594244657,180.77311862216823L90.14956012626479,166.95702682276232L80.7706596591216,152.5825625176122L87.25354588102334,127.45628736991068L105.48269284123603,131.85762394924961Z\" style=\"stroke: rgb(68, 68, 68); stroke-opacity: 1; stroke-width: 1px; opacity: 1;\"/><path class=\"choroplethlocation\" fill=\"rgb(173, 47, 37)\" d=\"M378.4172563786311,129.24372716413217L379.56376290477147,135.76532900009403L380.220852613475,136.36265352933475L379.11469198214616,137.4597079708018L379.5333879547546,138.49286827837113L379.6659094482502,138.68782625097327L379.3111926765404,138.99937705183987L388.0723191058729,135.16967677953102L390.3324611979208,136.25809266616778L384.62135370119745,139.5988736471075L382.19168599739146,140.95159631972552L378.2122824069503,141.97976572233938L378.2036315199348,140.8488948840897L378.04175376891567,139.07461731533238L372.4761347410108,136.82302153405067L371.2941632178689,136.48901316138404L370.11381700840934,136.15271836465564L369.43701756081066,135.0249390090986L369.3896948537245,134.05732822568962L368.48908354832554,133.4309903429933L366.82081468426304,132.37199195776958L358.45500656863555,134.15263882872853L349.41834088856797,135.9369509906079L339.7070974925958,137.69484107144189L339.3077893982793,135.3807068422363L343.71311580751274,129.38649193830258L343.48904989315355,128.60774322907065L342.4612507422638,126.11326611012362L345.14661021892323,124.65307182300393L350.0336755440629,124.02203176216943L355.1634797728913,123.7482981089164L359.0795744368956,120.01896616057303L358.07011501680824,116.7917492543769L357.20422498777,115.77811887891329L362.0690232257398,108.60063507478691L364.33384620976926,106.44874885327368L373.2994454890629,104.3466206924466L373.619043262989,105.99664544683714L373.66408602347974,107.18796673025878L374.3263448760222,109.58340361726164L375.02325577066534,110.76814469746364L374.83437220651774,112.69517670562419L375.8961015797716,114.6961668629616L375.8168737238394,116.07112036463872L375.9639674715778,116.33677018133511L376.9186355502105,116.17978945626623L378.2885505034041,123.16079841039868Z\" style=\"stroke: rgb(68, 68, 68); stroke-opacity: 1; stroke-width: 1px; opacity: 1;\"/><path class=\"choroplethlocation\" fill=\"rgb(129, 16, 40)\" d=\"M310.99297368909237,167.18632749035334L310.2848280253767,161.19538405198352L309.38396404672767,152.86099920546712L308.46012295112644,145.0544236653762L311.6501143606871,144.5943191631356L314.51887685164246,144.23232212947215L316.88486049359994,143.84918845585014L321.0670862286113,145.13326336457197L324.24742313247776,145.12679890894123L328.6631798870657,143.2827907109181L331.9628969951109,140.3170229009503L335.0390134415287,138.70457358354395L336.9098756791134,150.08502625170604L336.07051339713155,150.66929967131182L336.4966600420187,151.71714039476723L336.5668521442401,153.71717241408464L336.26486293936324,156.0757891202499L335.887906463818,157.99908792193793L335.9439353528899,158.88411081177458L334.48976889568047,161.1265365216948L333.79958700651497,161.68164213635765L332.99000671937034,162.0309472697682L332.12385442754015,162.01558433887112L330.9090805762073,163.68900863687116L330.8854590954149,165.25523853377928L330.8361870946949,166.0811906338534L330.29600787343725,166.53419054033668L330.06980367862735,165.60076605153085L329.18880131512043,165.5084737985859L328.53233735365563,167.53882594810256L328.7239572873614,169.4444777299201L327.9531398795243,170.74641967087018L326.3581067495905,171.19805020006294L325.04687817268405,170.5654247065395L324.3611128841988,169.3979885088877L323.1001905070366,169.72077007650716L321.80202298419886,170.4171912581528L320.5366856142451,170.0668954218835L319.02646109760394,170.4884370550132L317.91539589951236,169.96457415105886L316.46470899388333,169.48207591373387L314.43639909751084,167.80763196604858L313.22236981839757,167.06700255990756Z\" style=\"stroke: rgb(68, 68, 68); stroke-opacity: 1; stroke-width: 1px; opacity: 1;\"/><path class=\"choroplethlocation\" fill=\"rgb(189, 82, 55)\" d=\"M190.00541282276652,188.01643996117565L196.51448645333386,188.46402636737787L202.9397150930337,188.84098339052042L209.72073043031628,189.16904420636985L216.41670336625862,189.4227885638071L228.66865619385385,189.70673785788307L240.83562573631534,189.7581539911642L246.8307733389778,189.69901694652822L246.79974089098857,193.67323174167575L248.37005752981105,202.77076773611947L248.32668022610412,211.1518552544752L248.26565817114016,218.71780327333516L245.20588214352475,217.07135644200326L243.1764856730182,216.2105504540757L241.61973662158024,216.8093659204115L239.13892068475303,216.67324947254622L237.66935276175087,216.74870263717764L236.38224578415333,217.40859979550174L235.27765128225482,217.77296001806923L234.1758224913867,217.32797347516862L231.87309820688012,217.82662824766135L230.78366411292959,216.34825316039843L229.66752380495106,217.5843914364528L227.7446165285201,216.9719277566012L225.74620425984259,215.61816364365058L223.61886917902072,216.45887232792376L222.74593316129167,214.38368913457208L219.4468754415382,214.44986655734232L217.4461626483493,213.95212274217L215.08757450958603,213.2894094710507L214.05549136901607,211.41645055613094L212.21072517510106,211.93716608909506L211.14246600041938,211.23414050178047L209.45177488457057,210.20918362388733L209.79840646156197,201.98394839806485L210.15766074849026,193.45918835883754L203.33143364043158,193.13549168967597L196.50899465348175,192.7399132097638L189.6911006993177,192.272496806334Z\" style=\"stroke: rgb(68, 68, 68); stroke-opacity: 1; stroke-width: 1px; opacity: 1;\"/><path class=\"choroplethlocation\" fill=\"rgb(174, 48, 37)\" d=\"M113.72431919974964,98.4076920852952L114.74099434838297,100.27446037331322L115.57226324926886,101.2031908937928L115.59635535622607,102.55082215534048L114.82818113049153,103.50156411640421L113.51568596269631,105.45218532552241L112.06970998433228,107.9715111020841L110.4534198773353,109.40533388040694L109.18463614589055,111.06598868880525L108.87758050415673,112.4202833485869L109.83582114265562,113.23614481517387L110.06246247323426,114.41106026475791L109.05001735890997,116.73304054389604L105.49880510507785,131.78601455385632L105.48269284123603,131.85762394924961L87.25354588102334,127.45628736991068L61.6260402237329,120.15853041391557L61.613563632846734,113.24688389366906L66.31903218962307,106.18651916428769L69.33829381929866,99.00377970121991L72.27910863553186,91.73733644882282L73.58366595338975,85.28698618542762L74.81905352229754,85.73628217337784L76.59443590534545,86.26737566359003L77.77516288864163,87.45106648116536L79.26528674855786,88.41809681375588L79.86110740171515,90.25798148263442L79.60609160982546,91.70001155977394L79.73213607969919,92.94930084323818L80.98130109908743,93.68635245325976L82.42712003402195,94.02112333854569L84.83973757748771,93.7896846088363L86.26831696327324,93.88298346906737L88.20029337279018,94.78915771586838L88.98873191841395,95.45543424094416L90.34394331489844,95.51774819412128L91.79187815640856,95.22474026507439L94.40848120281242,95.98642251596851L96.75353870269919,95.61322209367916L98.04416290998932,95.26571062059122L99.46104034945037,95.99817622024119L101.78067871614965,95.67468481720243Z\" style=\"stroke: rgb(68, 68, 68); stroke-opacity: 1; stroke-width: 1px; opacity: 1;\"/><path class=\"choroplethlocation\" fill=\"rgb(187, 77, 50)\" d=\"M336.9098756791134,150.08502625170604L335.0390134415287,138.70457358354395L339.3202654405444,135.45301000077865L339.3077893982793,135.3807068422363L339.7070974925958,137.69484107144189L349.41834088856797,135.9369509906079L358.45500656863555,134.15263882872853L366.82081468426304,132.37199195776958L368.48908354832554,133.4309903429933L369.3896948537245,134.05732822568962L369.43701756081066,135.0249390090986L370.11381700840934,136.15271836465564L371.2941632178689,136.48901316138404L372.4761347410108,136.82302153405067L371.747972753382,137.36534395488712L371.1299999749551,139.53855401865997L370.31429935375786,140.4743336112848L370.8806723327024,141.4773179595249L370.385900424076,142.71729123999518L370.60725325134547,144.09885487764484L371.392570072729,144.14972808438534L371.6831769593331,145.0640923472178L374.14043725030604,146.77133030654807L373.5279635581189,147.89026333126588L372.2999322928141,149.3719166157129L371.9984821921746,149.9665598912684L370.8485326044436,151.04971160408337L369.34545952006914,150.92700131434367L368.8433034421248,151.41242609266294L368.568432697472,152.14922834445508L362.91729879287067,153.34236848738107L357.4219904096026,154.45009850225108L352.83507928353026,155.33527736839346L350.8448854370701,155.78304020267626L344.89700098416245,156.78285259204665L338.1981781297841,157.92176845943976Z\" style=\"stroke: rgb(68, 68, 68); stroke-opacity: 1; stroke-width: 1px; opacity: 1;\"/><path class=\"choroplethlocation\" fill=\"rgb(171, 43, 36)\" d=\"M390.04891111567485,132.8400308620083L390.13612952521606,131.52709986573444L388.8724673893071,127.00029336065273L391.4595279859753,126.16904220893804L392.4413999780503,128.2629235123204L393.66394556226794,129.00081784425754L394.24568584386,130.21353365276178L393.7233481879203,130.50530487242196Z\" style=\"stroke: rgb(68, 68, 68); stroke-opacity: 1; stroke-width: 1px; opacity: 1;\"/><path class=\"choroplethlocation\" fill=\"rgb(60, 9, 17)\" d=\"M346.48203886636816,223.96436095407682L345.20595498551876,223.7231484798001L344.49913024025216,223.464257630384L344.24792916788067,221.87232664988903L343.2578518503912,220.39610248301204L341.81896103343985,219.65583673620966L341.9945868586517,218.96102678032554L341.38828991778405,218.09044849763615L340.62720300854403,216.20441749042095L338.08133111447796,214.88487395398278L336.9540927162285,212.9762041519923L335.1075379830783,211.83940236946768L334.49276120951845,210.81647033624535L331.7448082086148,209.13490618676582L330.7124536480709,207.72332859971306L328.9796383713394,205.22111147312705L327.73609929237193,204.87324662392712L325.6457516968902,203.6732463753828L326.50926947489245,201.9254961743435L327.21804597794886,201.08717961461133L327.9055957544205,200.7701385249071L331.3717086515354,198.7974227946379L337.726014235463,197.9273269905812L340.99662826020744,197.78874731327664L341.20116391805084,198.50056718987275L341.74548372999493,197.89283725246224L343.0510053245437,199.1720848690244L343.2032827861174,200.11530818181075L350.912590006267,198.89862906206605L360.09644458711966,205.60781830131373L357.13129753183546,209.35893060592088L356.6349730089552,212.35514789651126L349.79815960217996,219.2645956306166Z\" style=\"stroke: rgb(68, 68, 68); stroke-opacity: 1; stroke-width: 1px; opacity: 1;\"/><path class=\"choroplethlocation\" fill=\"rgb(196, 103, 74)\" d=\"M234.2281952885875,111.9260089142661L234.14341468007277,113.16292954169023L232.81494563283775,114.10020549470181L232.49348898402803,115.26297342516153L233.0291217782997,116.57910285160204L234.11947749181763,117.24259624591934L234.78547018056466,125.49412965502898L234.66768775628495,133.54015918147923L233.8629195041985,133.53576752500658L233.85032682090656,135.58634808533424L234.65230528289754,136.7629277997019L234.48566202701863,137.71473118464496L234.1536799471986,139.10558800292517L233.65731530623077,140.4956121915613L234.62991274841187,141.4543682205889L234.6260620364492,142.26112753415862L233.56531708335643,142.1084251792969L232.99652823381214,141.73769961720598L232.75754081179343,141.0024715737743L231.05401978532012,140.2532386979392L229.44101365612227,139.13383808003317L227.1650216603347,139.17200250641167L225.70259921222615,139.14481422216437L225.20757509960154,139.5014211857943L222.86642715685878,138.78850948542043L221.27264160807104,137.64730618693636L208.79716273856448,137.17454705249116L199.48905400391442,136.65017387244154L187.36252076612354,135.74628298142972L188.69002655567843,118.24269183491418L189.66698657091467,110.42635774097039L200.9684903798873,111.19576997414754L213.2085124131778,111.8525641643692L222.90038790475836,112.184659478416Z\" style=\"stroke: rgb(68, 68, 68); stroke-opacity: 1; stroke-width: 1px; opacity: 1;\"/><path class=\"choroplethlocation\" fill=\"rgb(101, 13, 35)\" d=\"M277.4633339989518,205.62144038005397L278.22647490829155,204.76466790070594L277.9824454153593,202.27534325641835L278.9912712080737,201.10721907723968L279.16691594515726,199.62235150156403L280.3670908222784,198.73406232036695L280.9097559042139,197.44511661936792L280.94999921861677,196.70525823418836L281.3458612761918,194.61433905841722L281.7048584976783,193.3364305658435L281.82684912544494,192.51690892452785L291.5675134006881,191.8496115450708L291.4509793214074,190.45654321744087L292.7748079549743,190.3444334317221L292.98282101222605,190.69581355743242L297.19942773434497,190.09764856159194L300.91060663726864,189.81709986043495L304.8849296702817,189.48758211409995L308.78571038018254,189.28957483104602L310.70702220436016,188.92584540187232L316.7363873856637,188.58193457971248L321.2821318251983,187.78298974734764L323.1473395366169,187.0173589808L323.4789456370803,186.82453418259445L323.1473395366169,187.0173589808L321.2821318251983,187.78298974734764L331.3344200250411,186.68920483042774L332.1133347744834,186.50037889187536L334.72210081122154,185.9611219938406L334.7121048390312,187.07886226363854L334.9874067827177,188.3021026528943L333.7220788366194,188.86461950872575L332.8806034646272,190.47716781317524L331.61284952554394,190.44032749401055L329.37870077901607,192.47115054918987L328.7343530500883,191.74520914473317L327.2151602012848,193.14593594529265L327.30597434620597,193.8016140930294L326.06444358315395,194.64040294684656L325.5412585356904,195.45369281024006L324.0465485823584,196.4704156180154L322.4902990441566,197.0461820093272L321.091518857767,197.44949555380583L320.3287474567637,198.58447865249656L319.91193389085714,199.60054758352203L318.54272230786546,200.29012942416233L318.58870874091684,202.13615387203066L314.91176714210553,202.65374065415534L309.5953431558186,203.1842277942298L300.67159381523413,204.02737815355482L291.92471744425575,204.8078998992089L284.32668658351196,205.1700377694791Z\" style=\"stroke: rgb(68, 68, 68); stroke-opacity: 1; stroke-width: 1px; opacity: 1;\"/><path class=\"choroplethlocation\" fill=\"rgb(187, 75, 48)\" d=\"M161.39262335805103,230.86968972770762L160.70367459542808,229.39318469092348L160.69184094286845,228.65500466666555L167.23943253118114,229.35890707891895L180.16583420246823,230.56281596711813L186.82462138487546,231.0870954093827L188.01820238899836,214.9249806709867L189.6911006993177,192.272496806334L196.50899465348175,192.7399132097638L203.33143364043158,193.13549168967597L210.15766074849026,193.45918835883754L209.79840646156197,201.98394839806485L209.45177488457057,210.20918362388733L211.14246600041938,211.23414050178047L212.21072517510106,211.93716608909506L214.05549136901607,211.41645055613094L215.08757450958603,213.2894094710507L217.4461626483493,213.95212274217L219.4468754415382,214.44986655734232L222.74593316129167,214.38368913457208L223.61886917902072,216.45887232792376L225.74620425984259,215.61816364365058L227.7446165285201,216.9719277566012L229.66752380495106,217.5843914364528L230.78366411292959,216.34825316039843L231.87309820688012,217.82662824766135L234.1758224913867,217.32797347516862L235.27765128225482,217.77296001806923L236.38224578415333,217.40859979550174L237.66935276175087,216.74870263717764L239.13892068475303,216.67324947254622L241.61973662158024,216.8093659204115L243.1764856730182,216.2105504540757L245.20588214352475,217.07135644200326L248.26565817114016,218.71780327333516L248.6438989897253,219.29889635920432L250.02426633587504,219.12779685535077L251.68510208070046,219.168235205445L251.32440442135658,224.0924615213243L251.9818186904305,233.24131485515073L253.13447434801438,234.24134688328286L253.63656981437384,235.54771908411698L254.25101283494575,237.50940410314854L255.15356807133213,239.46255212640196L255.84922772289642,240.61486225087233L255.26335185056473,243.77392871153688L254.80909230253246,244.7353597648658L254.18796654840128,246.79590580065096L254.77816753734146,247.36583935186283L254.72324568264378,249.04642809875332L253.69101672449443,250.2386883908304L252.94663792819068,251.49572368216877L253.45110630925296,252.4327194685975L247.28638309035335,254.513450516576L240.5212147880537,260.9097420624403L232.95957493344972,264.61047888234907L228.9773142777529,268.4969517033229L228.7776926106026,268.6397684069571L227.0402682642814,272.4620858507214L226.89879998544058,275.3590849851828L226.85580347380187,278.32715661474765L227.1994872270172,282.45434667170537L227.9840056816648,284.1987972159253L228.57663622349918,285.3615299117946L225.53587070801325,285.53531093628266L220.11186137780743,283.550019122445L214.13517901408088,280.7824156209772L212.0598397828289,276.73223273920684L210.58163240769954,270.66076764961997L206.32671676243515,265.62268000439286L204.52618644458934,261.8320246817246L203.90140032533316,260.49241438001263L200.48715138321336,254.49188085240172L195.356169826349,250.77368044850698L192.55297273140326,250.67381679636156L189.2674914799401,250.5300055985807L184.13107174859002,256.9550530893442L178.11492074645594,253.92106386620037L176.9292557469158,252.9433611365687L174.47130852606637,250.97283724634735L173.06438528938205,246.15849035449753L171.097371471169,241.4276051362877L167.10239419139532,237.21525013292262L166.7460803611633,236.95842846743486L163.69984781714032,234.13933225324598L161.64183065639372,231.19187461575495Z\" style=\"stroke: rgb(68, 68, 68); stroke-opacity: 1; stroke-width: 1px; opacity: 1;\"/><path class=\"choroplethlocation\" fill=\"rgb(208, 138, 114)\" d=\"M124.0825470965254,135.73495058879814L142.64474279222554,138.9242927249802L141.31255039659155,147.2645888120951L153.98536637701184,149.37502284334101L149.32929360979023,183.7110619021107L139.56910428146836,182.21297320690405L126.70668657087201,180.027923455728L115.92768061373538,178.20232264072422Z\" style=\"stroke: rgb(68, 68, 68); stroke-opacity: 1; stroke-width: 1px; opacity: 1;\"/><path class=\"choroplethlocation\" fill=\"rgb(126, 15, 40)\" d=\"M323.4789456370803,186.82453418259445L324.48254594438333,186.31794180796646L324.89918920883525,185.44436932853097L324.9768002326202,185.35950041389492L325.05438964533766,185.2746220412301L326.67286506316776,184.08522725267045L327.2488810863342,183.11281871170974L327.320641528844,182.35956584663205L329.26467414596357,181.04148620797218L330.98529232278827,178.8566591191214L331.58122817462873,178.09880768796694L332.0580152427086,179.51590424367834L332.76364599132995,180.0800352362525L332.9592156697677,180.19948792405938L334.1120290446362,180.7694360649174L335.46615974819804,179.74298090390016L336.02849027856206,179.35798551340065L336.911635784913,179.8905102466337L338.89005064446184,178.9066420112539L339.31176220643385,178.76447095681516L339.31659923845194,178.24192988221301L339.2698414444678,177.9512963607487L340.09584990558324,178.11607008344993L340.77999823966564,177.40821446902163L340.8664752312799,177.39407724917277L341.7550938121228,177.3972783029456L342.7580540012253,176.484929434472L342.7717034599889,176.03498276826497L342.7232357555768,175.74462215819602L342.4674852673549,174.7427210574429L343.0721842237828,173.0744085876949L344.1749070130934,171.7681454744515L344.307001201138,170.47641822065663L344.7560876786668,169.50345567429736L345.1557171828129,168.76250787909083L345.5103400024213,166.759155436139L346.47476812879916,167.26317496204126L347.5259365705737,167.7506782005293L348.39793628570374,167.22212928378315L348.5957014311416,166.3644816919239L349.09283124302374,165.2285399001247L349.3728975431053,164.355482389555L349.5482611856653,163.87505740091342L350.1218675944155,164.14485404686775L350.8537563409245,162.88899534420023L351.4937285505787,162.09771675317893L351.9193915541695,161.5698516991817L352.11846470278437,161.23347674075853L352.6000148005346,160.54481647336428L352.6813293769964,158.65813276792335L352.68370319110915,158.20853157409454L356.1053902697266,159.7287500700828L356.38551203336635,159.8244939712394L356.8326446183936,158.0888008932656L357.01439481284444,158.12833672248144L357.8113892776497,158.19729262821062L358.7782276806705,158.6817138053607L358.58487715653075,159.46988044510647L358.5435230246268,159.70301750966985L359.9888014335947,159.94169868824758L361.3545836753803,160.64371699734141L362.0054514413353,161.26309979416698L362.1075145363156,161.76799552729995L362.16888340584177,162.50635177184444L361.9446373157353,162.70174766639713L361.2298449899121,163.52086384110532L360.84176291833006,165.54939729135253L361.7769257194595,165.81302352519646L362.8074132140766,165.23032298361704L363.2517879754597,166.11651408851617L363.39520591399224,166.387813258608L368.370415275058,168.1412449858293L368.4707685732577,168.19535447199775L370.41061970651594,176.13478208036628L372.447190624326,176.3794848339178L373.756438255127,179.10883467822794L372.97593984890466,179.27613452715042L366.652402352157,180.66968978732962L359.530495871346,182.15092180056968L346.16201643411483,184.4932338453969L334.72210081122154,185.9611219938406L332.1133347744834,186.50037889187536L331.3344200250411,186.68920483042774L321.2821318251983,187.78298974734764L323.1473395366169,187.0173589808ZM372.2562973302182,167.16141360291738L372.8271648422199,166.5101812074255L374.3248363449581,166.03128524029455L372.1203010407387,173.5897969875959L371.4418003758043,173.35857925231988Z\" style=\"stroke: rgb(68, 68, 68); stroke-opacity: 1; stroke-width: 1px; opacity: 1;\"/><path class=\"choroplethlocation\" fill=\"rgb(179, 58, 41)\" d=\"M383.3787147969929,122.04804587324787L378.2885505034041,123.16079841039868L376.9186355502105,116.17978945626623L375.9639674715778,116.33677018133511L375.8168737238394,116.07112036463872L375.8961015797716,114.6961668629616L374.83437220651774,112.69517670562419L375.02325577066534,110.76814469746364L374.3263448760222,109.58340361726164L373.66408602347974,107.18796673025878L373.619043262989,105.99664544683714L373.2994454890629,104.3466206924466L379.0105168237435,102.8530076856344L384.11521556963095,101.53242051694895L384.0228435285453,103.97205987413969L384.7973674379284,105.05231784673316L384.8460742554961,106.1726479491578L383.7219597700905,107.52399081682643L382.7361515525647,108.15691127573166L382.7239681818944,109.06600345809915L382.9159385598541,110.45128979856929L382.7279742584733,112.6143329243082L382.4431499148484,113.44246320748289L382.1576948231216,115.25241497214671L382.5056555336702,117.2796143086444L382.39669515205026,117.83618212200594L382.8753840191912,120.05815065339567L382.69019774357025,121.31451698775595Z\" style=\"stroke: rgb(68, 68, 68); stroke-opacity: 1; stroke-width: 1px; opacity: 1;\"/><path class=\"choroplethlocation\" fill=\"rgb(171, 42, 36)\" d=\"M118.65368577961114,73.320422082079L116.35101905885313,83.89846261291694L113.89192391564504,95.53803404216308L114.13334448625284,96.93353940516579L113.72431919974964,98.4076920852952L101.78067871614965,95.67468481720243L99.46104034945037,95.99817622024119L98.04416290998932,95.26571062059122L96.75353870269919,95.61322209367916L94.40848120281242,95.98642251596851L91.79187815640856,95.22474026507439L90.34394331489844,95.51774819412128L88.98873191841395,95.45543424094416L88.20029337279018,94.78915771586838L86.26831696327324,93.88298346906737L84.83973757748771,93.7896846088363L82.42712003402195,94.02112333854569L80.98130109908743,93.68635245325976L79.73213607969919,92.94930084323818L79.60609160982546,91.70001155977394L79.86110740171515,90.25798148263442L79.26528674855786,88.41809681375588L77.77516288864163,87.45106648116536L76.59443590534545,86.26737566359003L74.81905352229754,85.73628217337784L73.58366595338975,85.28698618542762L74.57884468911064,80.42647211934218L74.97681540152769,72.89378427812801L74.47810458958546,68.65278773264868L75.68580591024025,67.28917405061424L82.81804805706142,72.4574119085238L83.558789253096,81.04005040319123L85.56670357524484,79.27695955958393L85.67848792622132,78.32969566615196L86.62114544270301,72.28077144548735L86.60482289836185,65.07246183590121L102.24354344685824,69.35827509412917L111.44108098179713,71.64566103380116Z\" style=\"stroke: rgb(68, 68, 68); stroke-opacity: 1; stroke-width: 1px; opacity: 1;\"/><path class=\"choroplethlocation\" fill=\"rgb(191, 89, 61)\" d=\"M267.0074291047051,132.80519682869345L266.79550528540466,131.78957156842444L266.69320239521596,129.7429311318832L266.41710207971886,129.02415532641544L264.28343026036833,127.88126647281638L262.7055687719676,126.48797070382562L262.1880578339251,125.55909240320182L261.5287258237641,125.00163979140643L259.49862018052437,123.83932556779189L258.783564183536,123.7929993135063L256.90907320354455,122.25135091976625L257.08120875599434,120.34650732551171L257.00167523777816,118.0134207422879L257.3954829475137,115.81151968340049L256.01634949227673,114.2543142564806L256.8204578008863,112.69747370333636L258.1082574010712,111.77806829670925L259.5438064704441,110.77729453614592L259.70138891887404,110.84393433953801L259.4362941787145,106.05294755996823L261.02591016710215,105.47965419778137L266.83417425796176,103.4608011318357L270.5127438360632,106.09166900218844L270.59374742818056,106.15966279608762L270.9687357266017,105.99185136483095L271.9069955003731,106.22615303434782L272.46216534941004,107.72083683762162L277.7247063210612,108.8996160746409L281.3119039080864,110.16436660515171L282.93458961016825,110.03610967302535L284.10539602377816,110.0866948980568L284.6064558447728,111.4329390206928L286.05021686789235,111.89557131340752L286.6934519972554,113.0098366832936L286.3675222711822,113.76928457957678L286.1743180865547,115.17572943915292L287.5059652428741,115.13356285746295L287.23637095128845,116.54786470005877L288.1078537287884,117.4965164828692L288.1014240398881,117.42384495514625L288.26441674015456,117.4826428231695L288.1925754799209,117.56225724806785L286.1076202395734,120.89306170334459L287.06138832674816,121.83796134228658L290.95938014828357,115.91837112329875L291.8891827540916,115.7572111813322L289.3610892781404,122.66248231856804L288.4610342527981,128.76177042971392L287.7610435544875,133.74612166582676L288.84631681262715,137.84559206868914L288.8672610996221,139.97837914597733L284.059804005978,140.30065184423387L277.54499246532646,140.77479944429183L271.1069038712275,141.17303066332101L270.46312442259995,139.88691737552853L268.30613385926154,139.1950125998169L267.90968827421517,137.8207839270409L267.5445234465381,137.0321772553433L267.4552893035406,135.27589727592027L267.98619245677986,134.58851271723728L267.10991888587756,133.2399357323166Z\" style=\"stroke: rgb(68, 68, 68); stroke-opacity: 1; stroke-width: 1px; opacity: 1;\"/><path class=\"choroplethlocation\" fill=\"rgb(181, 63, 43)\" d=\"M331.58122817462873,178.09880768796694L330.2610950551749,178.14493821482682L329.42007771130636,177.2265062222187L328.3117051613026,176.27147307132947L327.7783766116877,175.0097695357731L326.8165491808545,173.8089261244965L326.6433842995872,171.97516961277398L326.3581067495905,171.19805020006294L327.9531398795243,170.74641967087018L328.7239572873614,169.4444777299201L328.53233735365563,167.53882594810256L329.18880131512043,165.5084737985859L330.06980367862735,165.60076605153085L330.29600787343725,166.53419054033668L330.8361870946949,166.0811906338534L330.8854590954149,165.25523853377928L330.9090805762073,163.68900863687116L332.12385442754015,162.01558433887112L332.99000671937034,162.0309472697682L333.79958700651497,161.68164213635765L334.48976889568047,161.1265365216948L335.9439353528899,158.88411081177458L335.887906463818,157.99908792193793L336.26486293936324,156.0757891202499L336.5668521442401,153.71717241408464L336.4966600420187,151.71714039476723L336.07051339713155,150.66929967131182L336.9098756791134,150.08502625170604L338.1981781297841,157.92176845943976L344.89700098416245,156.78285259204665L345.5764071266781,161.14519803336844L346.4589212642645,160.2424479624965L347.3709094329622,159.03377584561542L348.56457287335553,158.44503263743752L349.32849751116055,157.40875015752158L351.23751714898265,157.43100351359521L351.86937529665124,156.63968627107886L352.9170787965788,155.76895319458743L355.04602027623383,156.03679491124024L356.1195211793961,157.10316283998833L356.8326446183936,158.0888008932656L356.38551203336635,159.8244939712394L356.1053902697266,159.7287500700828L352.68370319110915,158.20853157409454L352.6813293769964,158.65813276792335L352.6000148005346,160.54481647336428L352.11846470278437,161.23347674075853L351.9193915541695,161.5698516991817L351.4937285505787,162.09771675317893L350.8537563409245,162.88899534420023L350.1218675944155,164.14485404686775L349.5482611856653,163.87505740091342L349.3728975431053,164.355482389555L349.09283124302374,165.2285399001247L348.5957014311416,166.3644816919239L348.39793628570374,167.22212928378315L347.5259365705737,167.7506782005293L346.47476812879916,167.26317496204126L345.5103400024213,166.759155436139L345.1557171828129,168.76250787909083L344.7560876786668,169.50345567429736L344.307001201138,170.47641822065663L344.1749070130934,171.7681454744515L343.0721842237828,173.0744085876949L342.4674852673549,174.7427210574429L342.7232357555768,175.74462215819602L342.7717034599889,176.03498276826497L342.7580540012253,176.484929434472L341.7550938121228,177.3972783029456L340.8664752312799,177.39407724917277L340.77999823966564,177.40821446902163L340.09584990558324,178.11607008344993L339.2698414444678,177.9512963607487L339.31659923845194,178.24192988221301L339.31176220643385,178.76447095681516L338.89005064446184,178.9066420112539L336.911635784913,179.8905102466337L336.02849027856206,179.35798551340065L335.46615974819804,179.74298090390016L334.1120290446362,180.7694360649174L332.9592156697677,180.19948792405938L332.76364599132995,180.0800352362525L332.0580152427086,179.51590424367834Z\" style=\"stroke: rgb(68, 68, 68); stroke-opacity: 1; stroke-width: 1px; opacity: 1;\"/><path class=\"choroplethlocation\" fill=\"rgb(209, 144, 122)\" d=\"M145.88476857878237,117.63437328914256L146.02073942085113,117.2861744545553L146.70078437627996,113.03243505227658L158.4577845865423,114.71392694830342L167.8073877850497,116.00666610714086L178.60148680515553,117.14746747255845L188.69002655567843,118.24269183491418L187.36252076612354,135.74628298142972L185.91026986655484,152.8591665863393L179.50603782928783,152.35548025510565L166.73000484624106,150.99966197048622L160.35340746453642,150.22090274475732L153.98536637701184,149.37502284334101L141.31255039659155,147.2645888120951L142.64474279222554,138.9242927249802L146.0183252998421,117.80371203404843Z\" style=\"stroke: rgb(68, 68, 68); stroke-opacity: 1; stroke-width: 1px; opacity: 1;\"/></g></g></g><g class=\"layer lakes\"><path d=\"M357.20422498777,115.77811887891329L358.07011501680824,116.7917492543769L359.0795744368956,120.01896616057303L355.1634797728913,123.7482981089164L350.0336755440629,124.02203176216943L345.14661021892323,124.65307182300393L342.4612507422638,126.11326611012362L341.1314505366612,124.64089142195729L343.6528233969426,122.76984967812677L349.6512668683092,121.63481286871348L355.1654379509939,120.53426563455218L356.4463258922989,116.83309481303672L357.01504107583105,116.04193413285037ZM318.64876955920954,140.27866518996012L318.6047750187694,141.17356122653138L319.4265866079975,142.32078053620012L321.82612926802614,143.39540671429233L323.38052222479723,143.17415420212205L329.9404130794146,137.51482781152168L336.18632969788393,135.09259290243142L343.48646659577605,129.50216612930046L343.48904989315355,128.60774322907065L343.71311580751274,129.38649193830258L339.3202654405444,135.45301000077865L335.0390134415287,138.70457358354395L331.9628969951109,140.3170229009503L328.6631798870657,143.2827907109181L324.24742313247776,145.12679890894123L321.0670862286113,145.13326336457197L316.88486049359994,143.84918845585014ZM274.4493867931962,93.64487829469817L276.31955177644,93.4431366120026L281.30129802116454,90.67612713364372L286.95054449664286,93.31190415917848L292.972191740492,96.00719880156026L297.94847128963147,98.32529155673109L302.73203982208037,100.55644081221095L303.6048267431644,102.71962529137619L305.0734024751016,103.3483783533743L304.795904666498,104.26021226088545L302.9944147122369,104.10836044841454L301.4971670386952,101.86918337602947L295.78982056208605,103.2990841612592L290.775050721266,105.69776886303259L286.3481624932512,102.82030517631728L282.9026880093493,102.01943137047533L284.42578420291875,97.3828186184237L279.500945735665,100.613594276262L274.9738454293541,103.70054482021828L270.59374742818056,106.15966279608762L266.83417425796176,103.4608011318357L261.02591016710215,105.47965419778137L260.9740793533276,104.24661272616277L264.7718257721824,100.44342202105639L268.75554156597633,96.82410833333444ZM354.7959650435462,268.15011863719667L353.0687875652211,268.1350749295134L352.83580757194875,266.04560679035967L354.5581976440181,266.06138788761ZM134.61538555236066,143.39840672216036L134.65725213808378,145.12006095411033L133.98798902956008,147.54024782018894L131.1867427726986,144.6641336758048L131.08698829822657,144.27331901613036L130.72240192768734,140.17900205236486L132.23278727542572,142.08877110097166L133.2246288350683,143.15758962144088L134.49470056282183,142.63226221740746ZM303.52597761954166,109.97868774529343L304.4784757704143,108.76670965958687L304.6326498152223,108.74835755178862L309.7786531454328,107.37741303620885L306.4371205703704,104.35305641871486L307.47571517965486,103.34507807927633L308.0263919951918,105.25387433059052L309.35089572199024,106.4786472021774L310.9628779505372,106.26985926090987L312.0176970756818,107.1583079128468L311.44789709415994,108.77544351116921L318.18577611323855,111.9717669752535L320.61219963766854,119.44011658523436L322.8850655679108,126.72219552161062L321.85413804607526,131.9794161153672L321.03441669910814,128.54442807778457L319.22082352582504,123.7751430614876L316.8057403771037,123.22530732896962L313.58112874757455,127.49608634368457L312.3768763861476,127.57841773037683L311.77934145042207,125.44164523027712L314.6554183717365,121.59839710260059L314.67991724961604,117.61433611946165L313.6962128594356,113.8438325891247L308.840725060092,111.09378731245636ZM304.4784757704143,108.76670965958687L303.52597761954166,109.97868774529343L303.129776143255,113.32547162822891L301.9069168977121,114.34594577371945L301.2848868698894,118.67424063468263L300.42370105350494,115.90605419691514L298.2185275172579,118.19964530710718L297.021997560982,121.1883461093064L295.87045515642785,125.56716092535981L295.9171587796106,129.23909997414665L298.54517230195995,134.3455819656017L298.88323290523414,139.98648513367203L296.7797373215209,144.47719051725494L295.66330027006455,145.76680401461653L294.0272492146541,146.8818542144836L291.8936516724437,147.15231583970734L291.26491972828984,146.61903747078935L289.14470944442144,142.237079711146L288.8672610996221,139.97837914597733L288.84631681262715,137.84559206868914L287.7610435544875,133.74612166582676L288.4610342527981,128.76177042971392L289.3610892781404,122.66248231856804L291.8891827540916,115.7572111813322L290.95938014828357,115.91837112329875L287.06138832674816,121.83796134228658L286.1076202395734,120.89306170334459L288.1925754799209,117.56225724806785L291.2692333894423,111.71658715527201L295.2234163487183,110.59517136230102L299.6699499606037,108.36575242884811Z\" style=\"stroke: none; fill: rgb(255, 255, 255); fill-opacity: 1;\"/></g><g class=\"layer frontplot\"><g class=\"scatterlayer\"/></g></g></g><g class=\"funnelarealayer\"/><g class=\"pielayer\"/><g class=\"iciclelayer\"/><g class=\"treemaplayer\"/><g class=\"sunburstlayer\"/><g class=\"glimages\"/><defs id=\"topdefs-12aa71\"><g class=\"clips\"/></defs><g class=\"layer-above\"><g class=\"imagelayer\"/><g class=\"shapelayer\"/></g><g class=\"infolayer\"><g class=\"cbcoloraxis colorbar\" transform=\"translate(10,10)\"><rect class=\"cbbg\" x=\"455.5\" y=\"0\" width=\"73.671875\" height=\"331\" style=\"fill: rgb(0, 0, 0); fill-opacity: 0; stroke: rgb(68, 68, 68); stroke-opacity: 1; stroke-width: 0;\"/><g class=\"cbfills\" transform=\"translate(0,32)\"><rect class=\"cbfill\" x=\"466\" y=\"0\" width=\"30\" height=\"288\" style=\"fill: url('#g12aa71-cbcoloraxis');\"/></g><g class=\"cblines\" transform=\"translate(0,32)\"/><g class=\"cbaxis crisp\" transform=\"translate(0,-10)\"><path class=\"ycbcoloraxistick ticks crisp\" d=\"M496,0h5\" transform=\"translate(0,274.82)\" style=\"stroke: rgb(36, 36, 36); stroke-opacity: 1; stroke-width: 1px;\"/><path class=\"ycbcoloraxistick ticks crisp\" d=\"M496,0h5\" transform=\"translate(0,202.82999999999998)\" style=\"stroke: rgb(36, 36, 36); stroke-opacity: 1; stroke-width: 1px;\"/><path class=\"ycbcoloraxistick ticks crisp\" d=\"M496,0h5\" transform=\"translate(0,130.82999999999998)\" style=\"stroke: rgb(36, 36, 36); stroke-opacity: 1; stroke-width: 1px;\"/><path class=\"ycbcoloraxistick ticks crisp\" d=\"M496,0h5\" transform=\"translate(0,58.829999999999984)\" style=\"stroke: rgb(36, 36, 36); stroke-opacity: 1; stroke-width: 1px;\"/><g class=\"ycbcoloraxistick\"><text text-anchor=\"start\" x=\"503.4\" y=\"4.199999999999999\" transform=\"translate(0,274.82)\" style=\"font-family: 'Open Sans', verdana, arial, sans-serif; font-size: 12px; fill: rgb(36, 36, 36); fill-opacity: 1; white-space: pre; opacity: 1;\">40</text></g><g class=\"ycbcoloraxistick\"><text text-anchor=\"start\" x=\"503.4\" y=\"4.199999999999999\" style=\"font-family: 'Open Sans', verdana, arial, sans-serif; font-size: 12px; fill: rgb(36, 36, 36); fill-opacity: 1; white-space: pre; opacity: 1;\" transform=\"translate(0,202.82999999999998)\">45</text></g><g class=\"ycbcoloraxistick\"><text text-anchor=\"start\" x=\"503.4\" y=\"4.199999999999999\" style=\"font-family: 'Open Sans', verdana, arial, sans-serif; font-size: 12px; fill: rgb(36, 36, 36); fill-opacity: 1; white-space: pre; opacity: 1;\" transform=\"translate(0,130.82999999999998)\">50</text></g><g class=\"ycbcoloraxistick\"><text text-anchor=\"start\" x=\"503.4\" y=\"4.199999999999999\" style=\"font-family: 'Open Sans', verdana, arial, sans-serif; font-size: 12px; fill: rgb(36, 36, 36); fill-opacity: 1; white-space: pre; opacity: 1;\" transform=\"translate(0,58.829999999999984)\">55</text></g></g><g class=\"cbtitleunshift\" transform=\"translate(-10,-10)\"><g class=\"cbtitle\" transform=\"translate(-0.5,-0.5)\"><text class=\"ycbcoloraxistitle\" x=\"475.94\" y=\"33.5\" text-anchor=\"start\" style=\"font-family: 'Open Sans', verdana, arial, sans-serif; font-size: 14px; fill: rgb(36, 36, 36); opacity: 1; font-weight: normal; white-space: pre;\">aum</text></g></g><rect class=\"cboutline\" x=\"466\" y=\"32\" width=\"30\" height=\"288\" style=\"stroke: rgb(68, 68, 68); stroke-opacity: 1; fill: none; stroke-width: 1;\"/></g><g class=\"g-gtitle\"/></g></svg>"
      ]
     },
     "metadata": {},
     "output_type": "display_data"
    }
   ],
   "source": [
    "states = df.groupby('stateabbrv')['aum'].mean().reset_index()\n",
    "px.choropleth(states,\n",
    "              locations='stateabbrv', \n",
    "              locationmode=\"USA-states\", \n",
    "              scope=\"usa\",\n",
    "              color='aum',\n",
    "              color_continuous_scale=\"amp_r\", \n",
    "              width=550, height=350,\n",
    "             )"
   ]
  },
  {
   "cell_type": "markdown",
   "metadata": {},
   "source": [
    "Since our model needs the design matrix $ X $ to only contain numeric values,\n",
    "we'll use a *feature engineering* technique to enable our model to make use\n",
    "of the categorical US region feature.\n",
    "Feature engineering is the process of transforming data before model fitting \n",
    "so that the model can capture more kinds of patterns.\n",
    "In this case, we'll use a technique called *one-hot encoding* to\n",
    "transform categorical data into numeric data."
   ]
  },
  {
   "cell_type": "markdown",
   "metadata": {},
   "source": [
    "## One-Hot Encoding"
   ]
  },
  {
   "cell_type": "markdown",
   "metadata": {},
   "source": [
    "A one-hot encoding takes a categorical feature and creates multiple numeric\n",
    "features.\n",
    "To do a one-hot encoding, we first create new features that each correspond to\n",
    "one unique category.\n",
    "In this case, we have four US Census regions:\n",
    "West, Northeast, South, and Midwest.\n",
    "Since we have four categories, we'll create four new features in the design\n",
    "matrix $ X $.\n",
    "Each row in $ X $ contains the value `1` if the feature matches the\n",
    "original category and `0` otherwise.\n",
    "We've illustrated this process in {numref}`Figure %s <fig:one-hot>`."
   ]
  },
  {
   "cell_type": "markdown",
   "metadata": {},
   "source": [
    "```{figure} figures/one-hot.svg\n",
    "---\n",
    "name: fig:one-hot\n",
    "width: 100%\n",
    "---\n",
    "\n",
    "One-hot encoding for a small example dataset (left) and its resulting design matrix (right).\n",
    "```"
   ]
  },
  {
   "cell_type": "markdown",
   "metadata": {},
   "source": [
    "After doing this transformation, we usually remove one of the new\n",
    "feature columns from the design matrix.\n",
    "If we don't do this, then the columns of the design matrix will be linearly\n",
    "dependent after we add the intercept column, which means that we won't have\n",
    "a useful interpretation for the model coefficients---we've left\n",
    "this proof as an exercise.\n",
    "We'll talk about what removing a column means later in this section.\n",
    "For now, we'll simply remove the first one-hot encoded column."
   ]
  },
  {
   "cell_type": "markdown",
   "metadata": {},
   "source": [
    "Let's use a one-hot encoding on the Opportunity data.\n",
    "We'll start with a subset of the data which just has the commuting zone's\n",
    "AUM and its US Census region:"
   ]
  },
  {
   "cell_type": "code",
   "execution_count": 41,
   "metadata": {},
   "outputs": [
    {
     "data": {
      "text/html": [
       "<div>\n",
       "<style scoped>\n",
       "    .dataframe tbody tr th:only-of-type {\n",
       "        vertical-align: middle;\n",
       "    }\n",
       "\n",
       "    .dataframe tbody tr th {\n",
       "        vertical-align: top;\n",
       "    }\n",
       "\n",
       "    .dataframe thead th {\n",
       "        text-align: right;\n",
       "    }\n",
       "</style>\n",
       "<table border=\"1\" class=\"dataframe\">\n",
       "  <thead>\n",
       "    <tr style=\"text-align: right;\">\n",
       "      <th></th>\n",
       "      <th>region</th>\n",
       "      <th>aum</th>\n",
       "    </tr>\n",
       "  </thead>\n",
       "  <tbody>\n",
       "    <tr>\n",
       "      <th>0</th>\n",
       "      <td>South</td>\n",
       "      <td>38.39</td>\n",
       "    </tr>\n",
       "    <tr>\n",
       "      <th>1</th>\n",
       "      <td>South</td>\n",
       "      <td>37.78</td>\n",
       "    </tr>\n",
       "    <tr>\n",
       "      <th>2</th>\n",
       "      <td>South</td>\n",
       "      <td>39.05</td>\n",
       "    </tr>\n",
       "    <tr>\n",
       "      <th>...</th>\n",
       "      <td>...</td>\n",
       "      <td>...</td>\n",
       "    </tr>\n",
       "    <tr>\n",
       "      <th>702</th>\n",
       "      <td>West</td>\n",
       "      <td>44.12</td>\n",
       "    </tr>\n",
       "    <tr>\n",
       "      <th>703</th>\n",
       "      <td>West</td>\n",
       "      <td>41.41</td>\n",
       "    </tr>\n",
       "    <tr>\n",
       "      <th>704</th>\n",
       "      <td>West</td>\n",
       "      <td>43.20</td>\n",
       "    </tr>\n",
       "  </tbody>\n",
       "</table>\n",
       "<p>705 rows × 2 columns</p>\n",
       "</div>"
      ],
      "text/plain": [
       "    region    aum\n",
       "0    South  38.39\n",
       "1    South  37.78\n",
       "2    South  39.05\n",
       "..     ...    ...\n",
       "702   West  44.12\n",
       "703   West  41.41\n",
       "704   West  43.20\n",
       "\n",
       "[705 rows x 2 columns]"
      ]
     },
     "execution_count": 41,
     "metadata": {},
     "output_type": "execute_result"
    }
   ],
   "source": [
    "df"
   ]
  },
  {
   "cell_type": "markdown",
   "metadata": {},
   "source": [
    "To do the encoding, we'll use the `scikit-learn` library's\n",
    "`OneHotEncoder` class."
   ]
  },
  {
   "cell_type": "code",
   "execution_count": 52,
   "metadata": {},
   "outputs": [
    {
     "data": {
      "text/plain": [
       "array([[0., 0., 1.],\n",
       "       [0., 0., 1.],\n",
       "       [0., 0., 1.],\n",
       "       ...,\n",
       "       [1., 0., 0.],\n",
       "       [1., 0., 0.],\n",
       "       [1., 0., 0.]])"
      ]
     },
     "execution_count": 52,
     "metadata": {},
     "output_type": "execute_result"
    }
   ],
   "source": [
    "from sklearn.preprocessing import OneHotEncoder\n",
    "\n",
    "enc = OneHotEncoder(\n",
    "    # categories argument sets column order\n",
    "    categories=[['Northeast', 'West', 'Midwest', 'South']],\n",
    "    drop='first',\n",
    "    sparse=False,\n",
    ")\n",
    "X = enc.fit_transform(df[['region']])\n",
    "X"
   ]
  },
  {
   "cell_type": "markdown",
   "metadata": {},
   "source": [
    "Now, we have a design matrix stored in the variable `X`. \n",
    "Since we've dropped the `Northeast` column from the design matrix,\n",
    "the three resulting features represent the\n",
    "`West`, `Midwest`, and `South` regions.\n",
    "Let's fit a multiple linear model that predicts AUM from the one-hot encoded\n",
    "regions.\n",
    "Rather than defining our own functions, we'll use the `LinearRegression` class\n",
    "from `scikit-learn`."
   ]
  },
  {
   "cell_type": "code",
   "execution_count": 60,
   "metadata": {},
   "outputs": [],
   "source": [
    "from sklearn.linear_model import LinearRegression\n",
    "\n",
    "model = LinearRegression().fit(X, df['aum'])"
   ]
  },
  {
   "cell_type": "markdown",
   "metadata": {},
   "source": [
    ":::{note}\n",
    "\n",
    "Although we've defined our own model fitting functions earlier in this chapter,\n",
    "in practice we prefer to use a library like `scikit-learn` for modeling\n",
    "since its code is highly optimized.\n",
    "For example, the matrix multiplication code we wrote for fitting\n",
    "multiple linear models runs very slowly when we have many observations.\n",
    "`scikit-learn` can handle larger datasets without issue.\n",
    "\n",
    ":::"
   ]
  },
  {
   "cell_type": "markdown",
   "metadata": {},
   "source": [
    "## Interpreting Models When Using One-Hot Encoding"
   ]
  },
  {
   "cell_type": "markdown",
   "metadata": {},
   "source": [
    "Using one-hot encoding gives a natural interpretation for the model parameters.\n",
    "The intercept of the model represents the expected outcome for the category\n",
    "we removed from the design matrix.\n",
    "In our case, we took out the `Northeast` column, so the model's intercept \n",
    "parameter represents the predicted AUM for the Northeast region."
   ]
  },
  {
   "cell_type": "code",
   "execution_count": 62,
   "metadata": {},
   "outputs": [
    {
     "name": "stdout",
     "output_type": "stream",
     "text": [
      "Predicted AUM for Northeast: 44.01\n"
     ]
    }
   ],
   "source": [
    "print(f'Predicted AUM for Northeast: {model.intercept_:.2f}')"
   ]
  },
  {
   "cell_type": "markdown",
   "metadata": {},
   "source": [
    "Next, let's look at the model parameters.\n",
    "We've displayed them in the table below."
   ]
  },
  {
   "cell_type": "code",
   "execution_count": 65,
   "metadata": {
    "tags": [
     "hide-input"
    ]
   },
   "outputs": [
    {
     "data": {
      "text/html": [
       "<div>\n",
       "<style scoped>\n",
       "    .dataframe tbody tr th:only-of-type {\n",
       "        vertical-align: middle;\n",
       "    }\n",
       "\n",
       "    .dataframe tbody tr th {\n",
       "        vertical-align: top;\n",
       "    }\n",
       "\n",
       "    .dataframe thead th {\n",
       "        text-align: right;\n",
       "    }\n",
       "</style>\n",
       "<table border=\"1\" class=\"dataframe\">\n",
       "  <thead>\n",
       "    <tr style=\"text-align: right;\">\n",
       "      <th></th>\n",
       "      <th>coef</th>\n",
       "    </tr>\n",
       "  </thead>\n",
       "  <tbody>\n",
       "    <tr>\n",
       "      <th>West</th>\n",
       "      <td>1.17</td>\n",
       "    </tr>\n",
       "    <tr>\n",
       "      <th>Midwest</th>\n",
       "      <td>3.20</td>\n",
       "    </tr>\n",
       "    <tr>\n",
       "      <th>South</th>\n",
       "      <td>-3.25</td>\n",
       "    </tr>\n",
       "  </tbody>\n",
       "</table>\n",
       "</div>"
      ],
      "text/plain": [
       "         coef\n",
       "West     1.17\n",
       "Midwest  3.20\n",
       "South   -3.25"
      ]
     },
     "execution_count": 65,
     "metadata": {},
     "output_type": "execute_result"
    }
   ],
   "source": [
    "pd.DataFrame({'coef': model.coef_}, index=['West', 'Midwest', 'South'])"
   ]
  },
  {
   "cell_type": "markdown",
   "metadata": {},
   "source": [
    "Under a one-hot encoding, each model parameter represents\n",
    "the model's expected difference between that\n",
    "region and the Northeast.\n",
    "For instance, the West has a coefficient of 1.17, which means that the model\n",
    "predicts that commuting zones in the West will have 1.17 higher AUM than\n",
    "the Northeast on average.\n",
    "Likewise, the model predicts that the South has 3.25 lower AUM than the\n",
    "Northeast.\n",
    "In other words, the coefficients tell us how the model adjusts the\n",
    "AUM relative to the Northeast."
   ]
  },
  {
   "cell_type": "markdown",
   "metadata": {},
   "source": [
    "We used a small example here to more clearly show how one-hot encoding works.\n",
    "In practice, we combine the one-hot encoded features with other features\n",
    "so that our design matrix represents both numeric and categorical features. "
   ]
  },
  {
   "cell_type": "markdown",
   "metadata": {},
   "source": [
    ":::{note}\n",
    "\n",
    "One-hot encoding is also known as using *dummy variables*.\n",
    "The term dummy variables is more common in statistics and econometrics.\n",
    "\n",
    ":::"
   ]
  },
  {
   "cell_type": "markdown",
   "metadata": {},
   "source": [
    "In this section, we introduced feature engineering, where we \n",
    "transform data before fitting a model.\n",
    "We saw how using the one-hot encoding technique lets us fit linear models\n",
    "on categorical data.\n",
    "And, one-hot encoding gives us a natural interpretation for model parameters.\n",
    "There are many other kinds of feature engineering, like using polynomial\n",
    "terms.\n",
    "In general, data scientists apply their domain knowledge to figure out\n",
    "useful feature engineering steps for their models."
   ]
  }
 ],
 "metadata": {
  "kernelspec": {
   "display_name": "Python 3",
   "language": "python",
   "name": "python3"
  },
  "language_info": {
   "codemirror_mode": {
    "name": "ipython",
    "version": 3
   },
   "file_extension": ".py",
   "mimetype": "text/x-python",
   "name": "python",
   "nbconvert_exporter": "python",
   "pygments_lexer": "ipython3",
   "version": "3.9.4"
  }
 },
 "nbformat": 4,
 "nbformat_minor": 4
}
