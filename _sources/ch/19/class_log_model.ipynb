{
 "cells": [
  {
   "cell_type": "code",
   "execution_count": 168,
   "metadata": {
    "tags": [
     "remove-cell"
    ]
   },
   "outputs": [],
   "source": [
    "# Reference: https://jupyterbook.org/interactive/hiding.html\n",
    "# Use {hide, remove}-{input, output, cell} tags to hiding content\n",
    "\n",
    "import sys\n",
    "import os\n",
    "if not any(path.endswith('textbook') for path in sys.path):\n",
    "    sys.path.append(os.path.abspath('../../..'))\n",
    "from textbook_utils import *\n",
    "\n",
    "import plotly.figure_factory as ff"
   ]
  },
  {
   "cell_type": "code",
   "execution_count": 169,
   "metadata": {
    "tags": [
     "remove-cell"
    ]
   },
   "outputs": [],
   "source": [
    "trees = pd.read_csv('data/black_spruce.csv')"
   ]
  },
  {
   "cell_type": "code",
   "execution_count": 170,
   "metadata": {
    "tags": [
     "remove-cell"
    ]
   },
   "outputs": [],
   "source": [
    "trees['status_0_1'] = (trees['status'] == 'fallen').astype(int)"
   ]
  },
  {
   "cell_type": "code",
   "execution_count": 171,
   "metadata": {
    "tags": [
     "remove-cell"
    ]
   },
   "outputs": [],
   "source": [
    "splits = [4, 5, 6, 7, 8, 9, 10, 12, 14, 17, 20, 25, 32]\n",
    "tree_bins = (\n",
    "    trees[\"status_0_1\"]\n",
    "    .groupby(pd.cut(trees[\"diameter\"], splits))\n",
    "    .agg([\"mean\", \"count\"])\n",
    "    .rename(columns={\"mean\": \"proportion\"})\n",
    "    .assign(diameter=lambda df: [i.right for i in df.index])\n",
    ")"
   ]
  },
  {
   "cell_type": "code",
   "execution_count": 172,
   "metadata": {
    "tags": [
     "remove-cell"
    ]
   },
   "outputs": [],
   "source": [
    "fig = px.scatter(\n",
    "    tree_bins, x=\"diameter\", y=\"proportion\", size=\"count\",\n",
    "    labels={\"diameter\": \"Tree Diameter (cm)\", \"proportion\": \"Proportion Down\"},\n",
    "    width=450, height=250,\n",
    ")"
   ]
  },
  {
   "attachments": {},
   "cell_type": "markdown",
   "metadata": {},
   "source": [
    "# Modeling Proportions (and Probabilities)"
   ]
  },
  {
   "attachments": {},
   "cell_type": "markdown",
   "metadata": {},
   "source": [
    "Recall that when we model, we need to choose three things: a model, a loss function, and a method to minimize the average loss on our training set. In the previous section, we chose a constant model, the 0-1 loss, and a proof to fit the model. However, the constant model doesn't incorporate predictor variables.\n",
    "In this section, we address this issue by introducing a new model called the *logistic* model."
   ]
  },
  {
   "attachments": {},
   "cell_type": "markdown",
   "metadata": {},
   "source": [
    "To motivate these models, notice that the relationship between tree diameter and the proportion of downed trees does not appear linear. For demonstration, let's fit a simple linear model to these data to show that it has several undesirable features."
   ]
  },
  {
   "attachments": {},
   "cell_type": "markdown",
   "metadata": {},
   "source": [
    "Using the techniques from {numref}`Chapter %s <ch:linear>`, we fit a linear model of tree status to diameter:"
   ]
  },
  {
   "cell_type": "code",
   "execution_count": 174,
   "metadata": {},
   "outputs": [],
   "source": [
    "from sklearn.linear_model import LinearRegression\n",
    "X = trees[['diameter']]\n",
    "y = trees['status_0_1']\n",
    "\n",
    "lin_reg = LinearRegression().fit(X, y)"
   ]
  },
  {
   "attachments": {},
   "cell_type": "markdown",
   "metadata": {},
   "source": [
    "Then we add this fitted line to our scatter plot of proportions: "
   ]
  },
  {
   "cell_type": "code",
   "execution_count": 187,
   "metadata": {
    "ExecuteTime": {
     "end_time": "2018-04-02T16:07:18.026129Z",
     "start_time": "2018-04-02T16:07:18.007888Z"
    },
    "tags": [
     "hide-input"
    ]
   },
   "outputs": [
    {
     "data": {
      "application/vnd.plotly.v1+json": {
       "config": {
        "plotlyServerURL": "https://plot.ly"
       },
       "data": [
        {
         "hovertemplate": "Tree Diameter (cm)=%{x}<br>Proportion Down=%{y}<br>count=%{marker.size}<extra></extra>",
         "legendgroup": "",
         "marker": {
          "color": "#1F77B4",
          "size": [
           88,
           93,
           91,
           70,
           49,
           54,
           64,
           57,
           49,
           24,
           14,
           6
          ],
          "sizemode": "area",
          "sizeref": 0.2325,
          "symbol": "circle"
         },
         "mode": "markers",
         "name": "",
         "orientation": "v",
         "showlegend": false,
         "type": "scatter",
         "x": [
          5,
          6,
          7,
          8,
          9,
          10,
          12,
          14,
          17,
          20,
          25,
          32
         ],
         "xaxis": "x",
         "y": [
          0.06818181818181818,
          0.07526881720430108,
          0.1978021978021978,
          0.18571428571428572,
          0.30612244897959184,
          0.4444444444444444,
          0.609375,
          0.6491228070175439,
          0.7755102040816326,
          0.8333333333333334,
          0.7857142857142857,
          0.8333333333333334
         ],
         "yaxis": "y"
        },
        {
         "mode": "lines",
         "type": "scatter",
         "x": [
          5,
          5.551020408163265,
          6.1020408163265305,
          6.653061224489796,
          7.204081632653061,
          7.755102040816326,
          8.306122448979592,
          8.857142857142858,
          9.408163265306122,
          9.959183673469386,
          10.510204081632653,
          11.061224489795919,
          11.612244897959183,
          12.163265306122447,
          12.714285714285714,
          13.26530612244898,
          13.816326530612244,
          14.367346938775508,
          14.918367346938775,
          15.46938775510204,
          16.020408163265305,
          16.57142857142857,
          17.122448979591837,
          17.6734693877551,
          18.224489795918366,
          18.77551020408163,
          19.326530612244895,
          19.877551020408163,
          20.428571428571427,
          20.97959183673469,
          21.53061224489796,
          22.081632653061224,
          22.632653061224488,
          23.183673469387752,
          23.734693877551017,
          24.285714285714285,
          24.83673469387755,
          25.387755102040813,
          25.93877551020408,
          26.489795918367346,
          27.04081632653061,
          27.591836734693874,
          28.14285714285714,
          28.693877551020407,
          29.24489795918367,
          29.795918367346935,
          30.346938775510203,
          30.897959183673468,
          31.448979591836732,
          32
         ],
         "y": [
          0.10531827103313479,
          0.13442055565046895,
          0.16352284026780306,
          0.19262512488513722,
          0.22172740950247133,
          0.2508296941198055,
          0.2799319787371396,
          0.30903426335447376,
          0.33813654797180787,
          0.367238832589142,
          0.3963411172064761,
          0.4254434018238103,
          0.4545456864411444,
          0.4836479710584785,
          0.5127502556758126,
          0.5418525402931469,
          0.570954824910481,
          0.6000571095278149,
          0.6291593941451492,
          0.6582616787624833,
          0.6873639633798174,
          0.7164662479971515,
          0.7455685326144859,
          0.77467081723182,
          0.8037731018491538,
          0.832875386466488,
          0.8619776710838221,
          0.8910799557011564,
          0.9201822403184905,
          0.9492845249358246,
          0.9783868095531589,
          1.007489094170493,
          1.0365913787878271,
          1.065693663405161,
          1.0947959480224951,
          1.1238982326398295,
          1.1530005172571636,
          1.1821028018744977,
          1.211205086491832,
          1.2403073711091661,
          1.2694096557265,
          1.298511940343834,
          1.3276142249611682,
          1.3567165095785025,
          1.3858187941958366,
          1.4149210788131708,
          1.4440233634305049,
          1.473125648047839,
          1.502227932665173,
          1.5313302172825074
         ]
        },
        {
         "mode": "lines",
         "type": "scatter",
         "x": [
          5,
          8,
          11,
          14,
          17,
          20,
          23,
          26,
          29,
          32
         ],
         "y": [
          0.10531827103313479,
          0.26376404283862065,
          0.4222098146441065,
          0.5806555864495924,
          0.7391013582550781,
          0.897547130060564,
          1.0559929018660499,
          1.2144386736715358,
          1.3728844454770215,
          1.5313302172825074
         ]
        },
        {
         "mode": "lines",
         "type": "scatter",
         "x": [
          5,
          5.551020408163265,
          6.1020408163265305,
          6.653061224489796,
          7.204081632653061,
          7.755102040816326,
          8.306122448979592,
          8.857142857142858,
          9.408163265306122,
          9.959183673469386,
          10.510204081632653,
          11.061224489795919,
          11.612244897959183,
          12.163265306122447,
          12.714285714285714,
          13.26530612244898,
          13.816326530612244,
          14.367346938775508,
          14.918367346938775,
          15.46938775510204,
          16.020408163265305,
          16.57142857142857,
          17.122448979591837,
          17.6734693877551,
          18.224489795918366,
          18.77551020408163,
          19.326530612244895,
          19.877551020408163,
          20.428571428571427,
          20.97959183673469,
          21.53061224489796,
          22.081632653061224,
          22.632653061224488,
          23.183673469387752,
          23.734693877551017,
          24.285714285714285,
          24.83673469387755,
          25.387755102040813,
          25.93877551020408,
          26.489795918367346,
          27.04081632653061,
          27.591836734693874,
          28.14285714285714,
          28.693877551020407,
          29.24489795918367,
          29.795918367346935,
          30.346938775510203,
          30.897959183673468,
          31.448979591836732,
          32
         ],
         "y": [
          0.10531827103313479,
          0.13442055565046895,
          0.16352284026780306,
          0.19262512488513722,
          0.22172740950247133,
          0.2508296941198055,
          0.2799319787371396,
          0.30903426335447376,
          0.33813654797180787,
          0.367238832589142,
          0.3963411172064761,
          0.4254434018238103,
          0.4545456864411444,
          0.4836479710584785,
          0.5127502556758126,
          0.5418525402931469,
          0.570954824910481,
          0.6000571095278149,
          0.6291593941451492,
          0.6582616787624833,
          0.6873639633798174,
          0.7164662479971515,
          0.7455685326144859,
          0.77467081723182,
          0.8037731018491538,
          0.832875386466488,
          0.8619776710838221,
          0.8910799557011564,
          0.9201822403184905,
          0.9492845249358246,
          0.9783868095531589,
          1.007489094170493,
          1.0365913787878271,
          1.065693663405161,
          1.0947959480224951,
          1.1238982326398295,
          1.1530005172571636,
          1.1821028018744977,
          1.211205086491832,
          1.2403073711091661,
          1.2694096557265,
          1.298511940343834,
          1.3276142249611682,
          1.3567165095785025,
          1.3858187941958366,
          1.4149210788131708,
          1.4440233634305049,
          1.473125648047839,
          1.502227932665173,
          1.5313302172825074
         ]
        },
        {
         "mode": "lines",
         "type": "scatter",
         "x": [
          5,
          6.421052631578947,
          7.842105263157895,
          9.263157894736842,
          10.68421052631579,
          12.105263157894736,
          13.526315789473685,
          14.947368421052632,
          16.36842105263158,
          17.789473684210527,
          19.210526315789473,
          20.63157894736842,
          22.05263157894737,
          23.473684210526315,
          24.894736842105264,
          26.31578947368421,
          27.736842105263158,
          29.157894736842106,
          30.57894736842105,
          32
         ],
         "y": [
          0.10531827103313479,
          0.18037153136204914,
          0.2554247916909635,
          0.33047805201987784,
          0.4055313123487922,
          0.48058457267770655,
          0.555637833006621,
          0.6306910933355352,
          0.7057443536644497,
          0.7807976139933639,
          0.8558508743222784,
          0.9309041346511926,
          1.005957394980107,
          1.0810106553090213,
          1.1560639156379358,
          1.23111717596685,
          1.3061704362957645,
          1.3812236966246787,
          1.456276956953593,
          1.5313302172825074
         ]
        },
        {
         "mode": "lines",
         "type": "scatter",
         "x": [
          5,
          8,
          11,
          14,
          17,
          20,
          23,
          26,
          29,
          32
         ],
         "y": [
          0.10531827103313479,
          0.26376404283862065,
          0.4222098146441065,
          0.5806555864495924,
          0.7391013582550781,
          0.897547130060564,
          1.0559929018660499,
          1.2144386736715358,
          1.3728844454770215,
          1.5313302172825074
         ]
        }
       ],
       "layout": {
        "height": 250,
        "legend": {
         "itemsizing": "constant",
         "tracegroupgap": 0
        },
        "showlegend": false,
        "template": {
         "data": {
          "bar": [
           {
            "error_x": {
             "color": "rgb(36,36,36)"
            },
            "error_y": {
             "color": "rgb(36,36,36)"
            },
            "marker": {
             "line": {
              "color": "white",
              "width": 0.5
             },
             "pattern": {
              "fillmode": "overlay",
              "size": 10,
              "solidity": 0.2
             }
            },
            "type": "bar"
           }
          ],
          "barpolar": [
           {
            "marker": {
             "line": {
              "color": "white",
              "width": 0.5
             },
             "pattern": {
              "fillmode": "overlay",
              "size": 10,
              "solidity": 0.2
             }
            },
            "type": "barpolar"
           }
          ],
          "carpet": [
           {
            "aaxis": {
             "endlinecolor": "rgb(36,36,36)",
             "gridcolor": "white",
             "linecolor": "white",
             "minorgridcolor": "white",
             "startlinecolor": "rgb(36,36,36)"
            },
            "baxis": {
             "endlinecolor": "rgb(36,36,36)",
             "gridcolor": "white",
             "linecolor": "white",
             "minorgridcolor": "white",
             "startlinecolor": "rgb(36,36,36)"
            },
            "type": "carpet"
           }
          ],
          "choropleth": [
           {
            "colorbar": {
             "outlinewidth": 1,
             "tickcolor": "rgb(36,36,36)",
             "ticks": "outside"
            },
            "type": "choropleth"
           }
          ],
          "contour": [
           {
            "colorbar": {
             "outlinewidth": 1,
             "tickcolor": "rgb(36,36,36)",
             "ticks": "outside"
            },
            "colorscale": [
             [
              0,
              "#440154"
             ],
             [
              0.1111111111111111,
              "#482878"
             ],
             [
              0.2222222222222222,
              "#3e4989"
             ],
             [
              0.3333333333333333,
              "#31688e"
             ],
             [
              0.4444444444444444,
              "#26828e"
             ],
             [
              0.5555555555555556,
              "#1f9e89"
             ],
             [
              0.6666666666666666,
              "#35b779"
             ],
             [
              0.7777777777777778,
              "#6ece58"
             ],
             [
              0.8888888888888888,
              "#b5de2b"
             ],
             [
              1,
              "#fde725"
             ]
            ],
            "type": "contour"
           }
          ],
          "contourcarpet": [
           {
            "colorbar": {
             "outlinewidth": 1,
             "tickcolor": "rgb(36,36,36)",
             "ticks": "outside"
            },
            "type": "contourcarpet"
           }
          ],
          "heatmap": [
           {
            "colorbar": {
             "outlinewidth": 1,
             "tickcolor": "rgb(36,36,36)",
             "ticks": "outside"
            },
            "colorscale": [
             [
              0,
              "#440154"
             ],
             [
              0.1111111111111111,
              "#482878"
             ],
             [
              0.2222222222222222,
              "#3e4989"
             ],
             [
              0.3333333333333333,
              "#31688e"
             ],
             [
              0.4444444444444444,
              "#26828e"
             ],
             [
              0.5555555555555556,
              "#1f9e89"
             ],
             [
              0.6666666666666666,
              "#35b779"
             ],
             [
              0.7777777777777778,
              "#6ece58"
             ],
             [
              0.8888888888888888,
              "#b5de2b"
             ],
             [
              1,
              "#fde725"
             ]
            ],
            "type": "heatmap"
           }
          ],
          "heatmapgl": [
           {
            "colorbar": {
             "outlinewidth": 1,
             "tickcolor": "rgb(36,36,36)",
             "ticks": "outside"
            },
            "colorscale": [
             [
              0,
              "#440154"
             ],
             [
              0.1111111111111111,
              "#482878"
             ],
             [
              0.2222222222222222,
              "#3e4989"
             ],
             [
              0.3333333333333333,
              "#31688e"
             ],
             [
              0.4444444444444444,
              "#26828e"
             ],
             [
              0.5555555555555556,
              "#1f9e89"
             ],
             [
              0.6666666666666666,
              "#35b779"
             ],
             [
              0.7777777777777778,
              "#6ece58"
             ],
             [
              0.8888888888888888,
              "#b5de2b"
             ],
             [
              1,
              "#fde725"
             ]
            ],
            "type": "heatmapgl"
           }
          ],
          "histogram": [
           {
            "marker": {
             "line": {
              "color": "white",
              "width": 0.6
             }
            },
            "type": "histogram"
           }
          ],
          "histogram2d": [
           {
            "colorbar": {
             "outlinewidth": 1,
             "tickcolor": "rgb(36,36,36)",
             "ticks": "outside"
            },
            "colorscale": [
             [
              0,
              "#440154"
             ],
             [
              0.1111111111111111,
              "#482878"
             ],
             [
              0.2222222222222222,
              "#3e4989"
             ],
             [
              0.3333333333333333,
              "#31688e"
             ],
             [
              0.4444444444444444,
              "#26828e"
             ],
             [
              0.5555555555555556,
              "#1f9e89"
             ],
             [
              0.6666666666666666,
              "#35b779"
             ],
             [
              0.7777777777777778,
              "#6ece58"
             ],
             [
              0.8888888888888888,
              "#b5de2b"
             ],
             [
              1,
              "#fde725"
             ]
            ],
            "type": "histogram2d"
           }
          ],
          "histogram2dcontour": [
           {
            "colorbar": {
             "outlinewidth": 1,
             "tickcolor": "rgb(36,36,36)",
             "ticks": "outside"
            },
            "colorscale": [
             [
              0,
              "#440154"
             ],
             [
              0.1111111111111111,
              "#482878"
             ],
             [
              0.2222222222222222,
              "#3e4989"
             ],
             [
              0.3333333333333333,
              "#31688e"
             ],
             [
              0.4444444444444444,
              "#26828e"
             ],
             [
              0.5555555555555556,
              "#1f9e89"
             ],
             [
              0.6666666666666666,
              "#35b779"
             ],
             [
              0.7777777777777778,
              "#6ece58"
             ],
             [
              0.8888888888888888,
              "#b5de2b"
             ],
             [
              1,
              "#fde725"
             ]
            ],
            "type": "histogram2dcontour"
           }
          ],
          "mesh3d": [
           {
            "colorbar": {
             "outlinewidth": 1,
             "tickcolor": "rgb(36,36,36)",
             "ticks": "outside"
            },
            "type": "mesh3d"
           }
          ],
          "parcoords": [
           {
            "line": {
             "colorbar": {
              "outlinewidth": 1,
              "tickcolor": "rgb(36,36,36)",
              "ticks": "outside"
             }
            },
            "type": "parcoords"
           }
          ],
          "pie": [
           {
            "automargin": true,
            "type": "pie"
           }
          ],
          "scatter": [
           {
            "fillpattern": {
             "fillmode": "overlay",
             "size": 10,
             "solidity": 0.2
            },
            "type": "scatter"
           }
          ],
          "scatter3d": [
           {
            "line": {
             "colorbar": {
              "outlinewidth": 1,
              "tickcolor": "rgb(36,36,36)",
              "ticks": "outside"
             }
            },
            "marker": {
             "colorbar": {
              "outlinewidth": 1,
              "tickcolor": "rgb(36,36,36)",
              "ticks": "outside"
             }
            },
            "type": "scatter3d"
           }
          ],
          "scattercarpet": [
           {
            "marker": {
             "colorbar": {
              "outlinewidth": 1,
              "tickcolor": "rgb(36,36,36)",
              "ticks": "outside"
             }
            },
            "type": "scattercarpet"
           }
          ],
          "scattergeo": [
           {
            "marker": {
             "colorbar": {
              "outlinewidth": 1,
              "tickcolor": "rgb(36,36,36)",
              "ticks": "outside"
             }
            },
            "type": "scattergeo"
           }
          ],
          "scattergl": [
           {
            "marker": {
             "colorbar": {
              "outlinewidth": 1,
              "tickcolor": "rgb(36,36,36)",
              "ticks": "outside"
             }
            },
            "type": "scattergl"
           }
          ],
          "scattermapbox": [
           {
            "marker": {
             "colorbar": {
              "outlinewidth": 1,
              "tickcolor": "rgb(36,36,36)",
              "ticks": "outside"
             }
            },
            "type": "scattermapbox"
           }
          ],
          "scatterpolar": [
           {
            "marker": {
             "colorbar": {
              "outlinewidth": 1,
              "tickcolor": "rgb(36,36,36)",
              "ticks": "outside"
             }
            },
            "type": "scatterpolar"
           }
          ],
          "scatterpolargl": [
           {
            "marker": {
             "colorbar": {
              "outlinewidth": 1,
              "tickcolor": "rgb(36,36,36)",
              "ticks": "outside"
             }
            },
            "type": "scatterpolargl"
           }
          ],
          "scatterternary": [
           {
            "marker": {
             "colorbar": {
              "outlinewidth": 1,
              "tickcolor": "rgb(36,36,36)",
              "ticks": "outside"
             }
            },
            "type": "scatterternary"
           }
          ],
          "surface": [
           {
            "colorbar": {
             "outlinewidth": 1,
             "tickcolor": "rgb(36,36,36)",
             "ticks": "outside"
            },
            "colorscale": [
             [
              0,
              "#440154"
             ],
             [
              0.1111111111111111,
              "#482878"
             ],
             [
              0.2222222222222222,
              "#3e4989"
             ],
             [
              0.3333333333333333,
              "#31688e"
             ],
             [
              0.4444444444444444,
              "#26828e"
             ],
             [
              0.5555555555555556,
              "#1f9e89"
             ],
             [
              0.6666666666666666,
              "#35b779"
             ],
             [
              0.7777777777777778,
              "#6ece58"
             ],
             [
              0.8888888888888888,
              "#b5de2b"
             ],
             [
              1,
              "#fde725"
             ]
            ],
            "type": "surface"
           }
          ],
          "table": [
           {
            "cells": {
             "fill": {
              "color": "rgb(237,237,237)"
             },
             "line": {
              "color": "white"
             }
            },
            "header": {
             "fill": {
              "color": "rgb(217,217,217)"
             },
             "line": {
              "color": "white"
             }
            },
            "type": "table"
           }
          ]
         },
         "layout": {
          "annotationdefaults": {
           "arrowhead": 0,
           "arrowwidth": 1
          },
          "autosize": true,
          "autotypenumbers": "strict",
          "coloraxis": {
           "colorbar": {
            "outlinewidth": 1,
            "tickcolor": "rgb(36,36,36)",
            "ticks": "outside"
           }
          },
          "colorscale": {
           "diverging": [
            [
             0,
             "rgb(103,0,31)"
            ],
            [
             0.1,
             "rgb(178,24,43)"
            ],
            [
             0.2,
             "rgb(214,96,77)"
            ],
            [
             0.3,
             "rgb(244,165,130)"
            ],
            [
             0.4,
             "rgb(253,219,199)"
            ],
            [
             0.5,
             "rgb(247,247,247)"
            ],
            [
             0.6,
             "rgb(209,229,240)"
            ],
            [
             0.7,
             "rgb(146,197,222)"
            ],
            [
             0.8,
             "rgb(67,147,195)"
            ],
            [
             0.9,
             "rgb(33,102,172)"
            ],
            [
             1,
             "rgb(5,48,97)"
            ]
           ],
           "sequential": [
            [
             0,
             "#440154"
            ],
            [
             0.1111111111111111,
             "#482878"
            ],
            [
             0.2222222222222222,
             "#3e4989"
            ],
            [
             0.3333333333333333,
             "#31688e"
            ],
            [
             0.4444444444444444,
             "#26828e"
            ],
            [
             0.5555555555555556,
             "#1f9e89"
            ],
            [
             0.6666666666666666,
             "#35b779"
            ],
            [
             0.7777777777777778,
             "#6ece58"
            ],
            [
             0.8888888888888888,
             "#b5de2b"
            ],
            [
             1,
             "#fde725"
            ]
           ],
           "sequentialminus": [
            [
             0,
             "#440154"
            ],
            [
             0.1111111111111111,
             "#482878"
            ],
            [
             0.2222222222222222,
             "#3e4989"
            ],
            [
             0.3333333333333333,
             "#31688e"
            ],
            [
             0.4444444444444444,
             "#26828e"
            ],
            [
             0.5555555555555556,
             "#1f9e89"
            ],
            [
             0.6666666666666666,
             "#35b779"
            ],
            [
             0.7777777777777778,
             "#6ece58"
            ],
            [
             0.8888888888888888,
             "#b5de2b"
            ],
            [
             1,
             "#fde725"
            ]
           ]
          },
          "colorway": [
           "#1F77B4",
           "#FF7F0E",
           "#2CA02C",
           "#D62728",
           "#9467BD",
           "#8C564B",
           "#E377C2",
           "#7F7F7F",
           "#BCBD22",
           "#17BECF"
          ],
          "font": {
           "color": "rgb(36,36,36)"
          },
          "geo": {
           "bgcolor": "white",
           "lakecolor": "white",
           "landcolor": "white",
           "showlakes": true,
           "showland": true,
           "subunitcolor": "white"
          },
          "height": 250,
          "hoverlabel": {
           "align": "left"
          },
          "hovermode": "closest",
          "mapbox": {
           "style": "light"
          },
          "margin": {
           "b": 10,
           "l": 10,
           "r": 10,
           "t": 10
          },
          "paper_bgcolor": "white",
          "plot_bgcolor": "white",
          "polar": {
           "angularaxis": {
            "gridcolor": "rgb(232,232,232)",
            "linecolor": "rgb(36,36,36)",
            "showgrid": false,
            "showline": true,
            "ticks": "outside"
           },
           "bgcolor": "white",
           "radialaxis": {
            "gridcolor": "rgb(232,232,232)",
            "linecolor": "rgb(36,36,36)",
            "showgrid": false,
            "showline": true,
            "ticks": "outside"
           }
          },
          "scene": {
           "xaxis": {
            "backgroundcolor": "white",
            "gridcolor": "rgb(232,232,232)",
            "gridwidth": 2,
            "linecolor": "rgb(36,36,36)",
            "showbackground": true,
            "showgrid": false,
            "showline": true,
            "ticks": "outside",
            "zeroline": false,
            "zerolinecolor": "rgb(36,36,36)"
           },
           "yaxis": {
            "backgroundcolor": "white",
            "gridcolor": "rgb(232,232,232)",
            "gridwidth": 2,
            "linecolor": "rgb(36,36,36)",
            "showbackground": true,
            "showgrid": false,
            "showline": true,
            "ticks": "outside",
            "zeroline": false,
            "zerolinecolor": "rgb(36,36,36)"
           },
           "zaxis": {
            "backgroundcolor": "white",
            "gridcolor": "rgb(232,232,232)",
            "gridwidth": 2,
            "linecolor": "rgb(36,36,36)",
            "showbackground": true,
            "showgrid": false,
            "showline": true,
            "ticks": "outside",
            "zeroline": false,
            "zerolinecolor": "rgb(36,36,36)"
           }
          },
          "shapedefaults": {
           "fillcolor": "black",
           "line": {
            "width": 0
           },
           "opacity": 0.3
          },
          "ternary": {
           "aaxis": {
            "gridcolor": "rgb(232,232,232)",
            "linecolor": "rgb(36,36,36)",
            "showgrid": false,
            "showline": true,
            "ticks": "outside"
           },
           "baxis": {
            "gridcolor": "rgb(232,232,232)",
            "linecolor": "rgb(36,36,36)",
            "showgrid": false,
            "showline": true,
            "ticks": "outside"
           },
           "bgcolor": "white",
           "caxis": {
            "gridcolor": "rgb(232,232,232)",
            "linecolor": "rgb(36,36,36)",
            "showgrid": false,
            "showline": true,
            "ticks": "outside"
           }
          },
          "title": {
           "x": 0.5,
           "xanchor": "center"
          },
          "width": 350,
          "xaxis": {
           "automargin": true,
           "gridcolor": "rgb(232,232,232)",
           "linecolor": "rgb(36,36,36)",
           "showgrid": true,
           "showline": true,
           "ticks": "outside",
           "title": {
            "standoff": 15
           },
           "zeroline": false,
           "zerolinecolor": "rgb(36,36,36)"
          },
          "yaxis": {
           "automargin": true,
           "gridcolor": "rgb(232,232,232)",
           "linecolor": "rgb(36,36,36)",
           "showgrid": true,
           "showline": true,
           "ticks": "outside",
           "title": {
            "standoff": 15
           },
           "zeroline": false,
           "zerolinecolor": "rgb(36,36,36)"
          }
         }
        },
        "width": 450,
        "xaxis": {
         "anchor": "y",
         "domain": [
          0,
          1
         ],
         "title": {
          "text": "Tree Diameter (cm)"
         }
        },
        "yaxis": {
         "anchor": "x",
         "domain": [
          0,
          1
         ],
         "title": {
          "text": "Proportion Down"
         }
        }
       }
      },
      "image/svg+xml": [
       "<svg class=\"main-svg\" xmlns=\"http://www.w3.org/2000/svg\" xmlns:xlink=\"http://www.w3.org/1999/xlink\" width=\"450\" height=\"250\" style=\"\" viewBox=\"0 0 450 250\"><rect x=\"0\" y=\"0\" width=\"450\" height=\"250\" style=\"fill: rgb(255, 255, 255); fill-opacity: 1;\"/><defs id=\"defs-1ef1ed\"><g class=\"clips\"><clipPath id=\"clip1ef1edxyplot\" class=\"plotclip\"><rect width=\"377\" height=\"182\"/></clipPath><clipPath class=\"axesclip\" id=\"clip1ef1edx\"><rect x=\"63\" y=\"0\" width=\"377\" height=\"250\"/></clipPath><clipPath class=\"axesclip\" id=\"clip1ef1edy\"><rect x=\"0\" y=\"10\" width=\"450\" height=\"182\"/></clipPath><clipPath class=\"axesclip\" id=\"clip1ef1edxy\"><rect x=\"63\" y=\"10\" width=\"377\" height=\"182\"/></clipPath></g><g class=\"gradients\"/><g class=\"patterns\"/></defs><g class=\"bglayer\"/><g class=\"layer-below\"><g class=\"imagelayer\"/><g class=\"shapelayer\"/></g><g class=\"cartesianlayer\"><g class=\"subplot xy\"><g class=\"layer-subplot\"><g class=\"shapelayer\"/><g class=\"imagelayer\"/></g><g class=\"minor-gridlayer\"><g class=\"x\"/><g class=\"y\"/></g><g class=\"gridlayer\"><g class=\"x\"><path class=\"xgrid crisp\" transform=\"translate(156.47,0)\" d=\"M0,10v182\" style=\"stroke: rgb(232, 232, 232); stroke-opacity: 1; stroke-width: 1px;\"/><path class=\"xgrid crisp\" transform=\"translate(274.95,0)\" d=\"M0,10v182\" style=\"stroke: rgb(232, 232, 232); stroke-opacity: 1; stroke-width: 1px;\"/><path class=\"xgrid crisp\" transform=\"translate(393.44,0)\" d=\"M0,10v182\" style=\"stroke: rgb(232, 232, 232); stroke-opacity: 1; stroke-width: 1px;\"/></g><g class=\"y\"><path class=\"ygrid crisp\" transform=\"translate(0,174.44)\" d=\"M63,0h377\" style=\"stroke: rgb(232, 232, 232); stroke-opacity: 1; stroke-width: 1px;\"/><path class=\"ygrid crisp\" transform=\"translate(0,123.72)\" d=\"M63,0h377\" style=\"stroke: rgb(232, 232, 232); stroke-opacity: 1; stroke-width: 1px;\"/><path class=\"ygrid crisp\" transform=\"translate(0,73)\" d=\"M63,0h377\" style=\"stroke: rgb(232, 232, 232); stroke-opacity: 1; stroke-width: 1px;\"/><path class=\"ygrid crisp\" transform=\"translate(0,22.28)\" d=\"M63,0h377\" style=\"stroke: rgb(232, 232, 232); stroke-opacity: 1; stroke-width: 1px;\"/></g></g><g class=\"zerolinelayer\"/><path class=\"xlines-below\"/><path class=\"ylines-below\"/><g class=\"overlines-below\"/><g class=\"xaxislayer-below\"/><g class=\"yaxislayer-below\"/><g class=\"overaxes-below\"/><g class=\"plot\" transform=\"translate(63,10)\" clip-path=\"url(#clip1ef1edxyplot)\"><g class=\"scatterlayer mlayer\"><g class=\"trace scatter trace77aa47\" style=\"stroke-miterlimit: 2; opacity: 1;\"><g class=\"fills\"/><g class=\"errorbars\"/><g class=\"lines\"/><g class=\"points\"><path class=\"point\" transform=\"translate(34.23,157.52)\" d=\"M13.76,0A13.76,13.76 0 1,1 0,-13.76A13.76,13.76 0 0,1 13.76,0Z\" style=\"opacity: 0.7; stroke-width: 1px; fill: rgb(31, 119, 180); fill-opacity: 1; stroke: rgb(255, 255, 255); stroke-opacity: 1;\"/><path class=\"point\" transform=\"translate(46.08,156.8)\" d=\"M14.14,0A14.14,14.14 0 1,1 0,-14.14A14.14,14.14 0 0,1 14.14,0Z\" style=\"opacity: 0.7; stroke-width: 1px; fill: rgb(31, 119, 180); fill-opacity: 1; stroke: rgb(255, 255, 255); stroke-opacity: 1;\"/><path class=\"point\" transform=\"translate(57.93,144.37)\" d=\"M13.99,0A13.99,13.99 0 1,1 0,-13.99A13.99,13.99 0 0,1 13.99,0Z\" style=\"opacity: 0.7; stroke-width: 1px; fill: rgb(31, 119, 180); fill-opacity: 1; stroke: rgb(255, 255, 255); stroke-opacity: 1;\"/><path class=\"point\" transform=\"translate(69.78,145.6)\" d=\"M12.27,0A12.27,12.27 0 1,1 0,-12.27A12.27,12.27 0 0,1 12.27,0Z\" style=\"opacity: 0.7; stroke-width: 1px; fill: rgb(31, 119, 180); fill-opacity: 1; stroke: rgb(255, 255, 255); stroke-opacity: 1;\"/><path class=\"point\" transform=\"translate(81.62,133.38)\" d=\"M10.27,0A10.27,10.27 0 1,1 0,-10.27A10.27,10.27 0 0,1 10.27,0Z\" style=\"opacity: 0.7; stroke-width: 1px; fill: rgb(31, 119, 180); fill-opacity: 1; stroke: rgb(255, 255, 255); stroke-opacity: 1;\"/><path class=\"point\" transform=\"translate(93.47,119.35)\" d=\"M10.78,0A10.78,10.78 0 1,1 0,-10.78A10.78,10.78 0 0,1 10.78,0Z\" style=\"opacity: 0.7; stroke-width: 1px; fill: rgb(31, 119, 180); fill-opacity: 1; stroke: rgb(255, 255, 255); stroke-opacity: 1;\"/><path class=\"point\" transform=\"translate(117.17,102.62)\" d=\"M11.73,0A11.73,11.73 0 1,1 0,-11.73A11.73,11.73 0 0,1 11.73,0Z\" style=\"opacity: 0.7; stroke-width: 1px; fill: rgb(31, 119, 180); fill-opacity: 1; stroke: rgb(255, 255, 255); stroke-opacity: 1;\"/><path class=\"point\" transform=\"translate(140.86,98.59)\" d=\"M11.07,0A11.07,11.07 0 1,1 0,-11.07A11.07,11.07 0 0,1 11.07,0Z\" style=\"opacity: 0.7; stroke-width: 1px; fill: rgb(31, 119, 180); fill-opacity: 1; stroke: rgb(255, 255, 255); stroke-opacity: 1;\"/><path class=\"point\" transform=\"translate(176.41,85.77)\" d=\"M10.27,0A10.27,10.27 0 1,1 0,-10.27A10.27,10.27 0 0,1 10.27,0Z\" style=\"opacity: 0.7; stroke-width: 1px; fill: rgb(31, 119, 180); fill-opacity: 1; stroke: rgb(255, 255, 255); stroke-opacity: 1;\"/><path class=\"point\" transform=\"translate(211.95,79.9)\" d=\"M7.18,0A7.18,7.18 0 1,1 0,-7.18A7.18,7.18 0 0,1 7.18,0Z\" style=\"opacity: 0.7; stroke-width: 1px; fill: rgb(31, 119, 180); fill-opacity: 1; stroke: rgb(255, 255, 255); stroke-opacity: 1;\"/><path class=\"point\" transform=\"translate(271.2,84.73)\" d=\"M5.49,0A5.49,5.49 0 1,1 0,-5.49A5.49,5.49 0 0,1 5.49,0Z\" style=\"opacity: 0.7; stroke-width: 1px; fill: rgb(31, 119, 180); fill-opacity: 1; stroke: rgb(255, 255, 255); stroke-opacity: 1;\"/><path class=\"point\" transform=\"translate(354.13,79.9)\" d=\"M3.59,0A3.59,3.59 0 1,1 0,-3.59A3.59,3.59 0 0,1 3.59,0Z\" style=\"opacity: 0.7; stroke-width: 1px; fill: rgb(31, 119, 180); fill-opacity: 1; stroke: rgb(255, 255, 255); stroke-opacity: 1;\"/></g><g class=\"text\"/></g><g class=\"trace scatter tracea7447b\" style=\"stroke-miterlimit: 2; opacity: 1;\"><g class=\"fills\"/><g class=\"errorbars\"/><g class=\"lines\"><path class=\"js-line\" d=\"M34.23,153.75L354.13,9.1\" style=\"vector-effect: none; fill: none; stroke: rgb(255, 127, 14); stroke-opacity: 1; stroke-width: 2px; opacity: 1;\"/></g><g class=\"points\"/><g class=\"text\"/></g><g class=\"trace scatter tracefd9da2\" style=\"stroke-miterlimit: 2; opacity: 1;\"><g class=\"fills\"/><g class=\"errorbars\"/><g class=\"lines\"><path class=\"js-line\" d=\"M34.23,153.75L354.13,9.1\" style=\"vector-effect: none; fill: none; stroke: rgb(44, 160, 44); stroke-opacity: 1; stroke-width: 2px; opacity: 1;\"/></g><g class=\"points\"/><g class=\"text\"/></g><g class=\"trace scatter trace84c2e1\" style=\"stroke-miterlimit: 2; opacity: 1;\"><g class=\"fills\"/><g class=\"errorbars\"/><g class=\"lines\"><path class=\"js-line\" d=\"M34.23,153.75L354.13,9.1\" style=\"vector-effect: none; fill: none; stroke: rgb(214, 39, 40); stroke-opacity: 1; stroke-width: 2px; opacity: 1;\"/></g><g class=\"points\"/><g class=\"text\"/></g><g class=\"trace scatter traceca657e\" style=\"stroke-miterlimit: 2; opacity: 1;\"><g class=\"fills\"/><g class=\"errorbars\"/><g class=\"lines\"><path class=\"js-line\" d=\"M34.23,153.75L354.13,9.1\" style=\"vector-effect: none; fill: none; stroke: rgb(148, 103, 189); stroke-opacity: 1; stroke-width: 2px; opacity: 1;\"/></g><g class=\"points\"/><g class=\"text\"/></g><g class=\"trace scatter tracef89323\" style=\"stroke-miterlimit: 2; opacity: 1;\"><g class=\"fills\"/><g class=\"errorbars\"/><g class=\"lines\"><path class=\"js-line\" d=\"M34.23,153.75L354.13,9.1\" style=\"vector-effect: none; fill: none; stroke: rgb(140, 86, 75); stroke-opacity: 1; stroke-width: 2px; opacity: 1;\"/></g><g class=\"points\"/><g class=\"text\"/></g></g></g><g class=\"overplot\"/><path class=\"xlines-above crisp\" d=\"M62,192.5H440\" style=\"fill: none; stroke-width: 1px; stroke: rgb(36, 36, 36); stroke-opacity: 1;\"/><path class=\"ylines-above crisp\" d=\"M62.5,10V192\" style=\"fill: none; stroke-width: 1px; stroke: rgb(36, 36, 36); stroke-opacity: 1;\"/><g class=\"overlines-above\"/><g class=\"xaxislayer-above\"><path class=\"xtick ticks crisp\" d=\"M0,193v5\" transform=\"translate(156.47,0)\" style=\"stroke: rgb(68, 68, 68); stroke-opacity: 1; stroke-width: 1px;\"/><path class=\"xtick ticks crisp\" d=\"M0,193v5\" transform=\"translate(274.95,0)\" style=\"stroke: rgb(68, 68, 68); stroke-opacity: 1; stroke-width: 1px;\"/><path class=\"xtick ticks crisp\" d=\"M0,193v5\" transform=\"translate(393.44,0)\" style=\"stroke: rgb(68, 68, 68); stroke-opacity: 1; stroke-width: 1px;\"/><g class=\"xtick\"><text text-anchor=\"middle\" x=\"0\" y=\"212.4\" transform=\"translate(156.47,0)\" style=\"font-family: 'Open Sans', verdana, arial, sans-serif; font-size: 12px; fill: rgb(36, 36, 36); fill-opacity: 1; white-space: pre; opacity: 1;\">10</text></g><g class=\"xtick\"><text text-anchor=\"middle\" x=\"0\" y=\"212.4\" style=\"font-family: 'Open Sans', verdana, arial, sans-serif; font-size: 12px; fill: rgb(36, 36, 36); fill-opacity: 1; white-space: pre; opacity: 1;\" transform=\"translate(274.95,0)\">20</text></g><g class=\"xtick\"><text text-anchor=\"middle\" x=\"0\" y=\"212.4\" style=\"font-family: 'Open Sans', verdana, arial, sans-serif; font-size: 12px; fill: rgb(36, 36, 36); fill-opacity: 1; white-space: pre; opacity: 1;\" transform=\"translate(393.44,0)\">30</text></g></g><g class=\"yaxislayer-above\"><path class=\"ytick ticks crisp\" d=\"M62,0h-5\" transform=\"translate(0,174.44)\" style=\"stroke: rgb(68, 68, 68); stroke-opacity: 1; stroke-width: 1px;\"/><path class=\"ytick ticks crisp\" d=\"M62,0h-5\" transform=\"translate(0,123.72)\" style=\"stroke: rgb(68, 68, 68); stroke-opacity: 1; stroke-width: 1px;\"/><path class=\"ytick ticks crisp\" d=\"M62,0h-5\" transform=\"translate(0,73)\" style=\"stroke: rgb(68, 68, 68); stroke-opacity: 1; stroke-width: 1px;\"/><path class=\"ytick ticks crisp\" d=\"M62,0h-5\" transform=\"translate(0,22.28)\" style=\"stroke: rgb(68, 68, 68); stroke-opacity: 1; stroke-width: 1px;\"/><g class=\"ytick\"><text text-anchor=\"end\" x=\"54.6\" y=\"4.199999999999999\" transform=\"translate(0,174.44)\" style=\"font-family: 'Open Sans', verdana, arial, sans-serif; font-size: 12px; fill: rgb(36, 36, 36); fill-opacity: 1; white-space: pre; opacity: 1;\">0</text></g><g class=\"ytick\"><text text-anchor=\"end\" x=\"54.6\" y=\"4.199999999999999\" style=\"font-family: 'Open Sans', verdana, arial, sans-serif; font-size: 12px; fill: rgb(36, 36, 36); fill-opacity: 1; white-space: pre; opacity: 1;\" transform=\"translate(0,123.72)\">0.5</text></g><g class=\"ytick\"><text text-anchor=\"end\" x=\"54.6\" y=\"4.199999999999999\" style=\"font-family: 'Open Sans', verdana, arial, sans-serif; font-size: 12px; fill: rgb(36, 36, 36); fill-opacity: 1; white-space: pre; opacity: 1;\" transform=\"translate(0,73)\">1</text></g><g class=\"ytick\"><text text-anchor=\"end\" x=\"54.6\" y=\"4.199999999999999\" style=\"font-family: 'Open Sans', verdana, arial, sans-serif; font-size: 12px; fill: rgb(36, 36, 36); fill-opacity: 1; white-space: pre; opacity: 1;\" transform=\"translate(0,22.28)\">1.5</text></g></g><g class=\"overaxes-above\"/></g></g><g class=\"polarlayer\"/><g class=\"smithlayer\"/><g class=\"ternarylayer\"/><g class=\"geolayer\"/><g class=\"funnelarealayer\"/><g class=\"pielayer\"/><g class=\"iciclelayer\"/><g class=\"treemaplayer\"/><g class=\"sunburstlayer\"/><g class=\"glimages\"/><defs id=\"topdefs-1ef1ed\"><g class=\"clips\"/></defs><g class=\"layer-above\"><g class=\"imagelayer\"/><g class=\"shapelayer\"/></g><g class=\"infolayer\"><g class=\"g-gtitle\"/><g class=\"g-xtitle\"><text class=\"xtitle\" x=\"251.5\" y=\"239.20625\" text-anchor=\"middle\" style=\"font-family: 'Open Sans', verdana, arial, sans-serif; font-size: 14px; fill: rgb(36, 36, 36); opacity: 1; font-weight: normal; white-space: pre;\">Tree Diameter (cm)</text></g><g class=\"g-ytitle\" transform=\"translate(3.3310546875,0)\"><text class=\"ytitle\" transform=\"rotate(-90,10.668750000000003,101)\" x=\"10.668750000000003\" y=\"101\" text-anchor=\"middle\" style=\"font-family: 'Open Sans', verdana, arial, sans-serif; font-size: 14px; fill: rgb(36, 36, 36); opacity: 1; font-weight: normal; white-space: pre;\">Proportion Down</text></g></g></svg>"
      ]
     },
     "metadata": {},
     "output_type": "display_data"
    }
   ],
   "source": [
    "X_plt = pd.DataFrame(\n",
    "    {\"diameter\": np.linspace(X[\"diameter\"].min(), X[\"diameter\"].max(), 10)}\n",
    ")\n",
    "\n",
    "fig.add_trace(\n",
    "    go.Scatter(x=X_plt['diameter'], y=lin_reg.predict(X_plt), mode=\"lines\")\n",
    ")\n",
    "\n",
    "fig.update_layout(showlegend=False)\n",
    "fig.show()"
   ]
  },
  {
   "attachments": {},
   "cell_type": "markdown",
   "metadata": {},
   "source": [
    "Clearly, the model doesn't fit the proportions well at all. There are several problems:\n",
    "\n",
    "+ The model gives proportions greater than 1 for large trees.\n",
    "+ The model doesn't pick up the curvature in the proportions.\n",
    "+ An extreme point (such as a tree that's 30 cm across) shifts the fitted line to the right, away from the bulk of the data.  \n",
    "\n",
    "To address these issues, we introduce the *logistic model*."
   ]
  },
  {
   "attachments": {},
   "cell_type": "markdown",
   "metadata": {},
   "source": [
    "## A Logistic Model "
   ]
  },
  {
   "attachments": {},
   "cell_type": "markdown",
   "metadata": {},
   "source": [
    "The logistic model is one of the most widely used basic models for classification and a simple extension of the linear model. The *logistic function*, often called the *sigmoid function*, is defined as: "
   ]
  },
  {
   "attachments": {},
   "cell_type": "markdown",
   "metadata": {},
   "source": [
    "$$\n",
    "\\textbf{logistic}(t) = \\frac{1}{1+\\exp(-t)}\n",
    "$$"
   ]
  },
  {
   "attachments": {},
   "cell_type": "markdown",
   "metadata": {},
   "source": [
    ":::{warning}\n",
    "\n",
    "The *sigmoid* function is typically denoted by $\\sigma(t)$. Sadly, the Greek letter $\\sigma$ is widely used to mean a lot of things in data science and statistics, like the standard deviation, logistic function, and a permutation. You'll have to be careful when seeing $ \\sigma $ and use context to understand its meaning.\n",
    "\n",
    ":::"
   ]
  },
  {
   "attachments": {},
   "cell_type": "markdown",
   "metadata": {},
   "source": [
    "We can plot the logistic function to reveal it's s-shape (sigmoid-shape) and confirm that it outputs numbers between 0 and 1. The function monotonically increases with $ t $, and large values of $ t $ get close to 1:"
   ]
  },
  {
   "cell_type": "code",
   "execution_count": 190,
   "metadata": {
    "ExecuteTime": {
     "end_time": "2018-04-03T08:20:28.586913Z",
     "start_time": "2018-04-03T08:20:28.583811Z"
    }
   },
   "outputs": [],
   "source": [
    "def logistic(t):\n",
    "    return 1. / (1. + np.exp(-t))"
   ]
  },
  {
   "cell_type": "code",
   "execution_count": 191,
   "metadata": {
    "ExecuteTime": {
     "end_time": "2018-04-03T08:20:28.597034Z",
     "start_time": "2018-04-03T08:20:28.588719Z"
    },
    "tags": [
     "remove-cell"
    ]
   },
   "outputs": [
    {
     "data": {
      "application/vnd.plotly.v1+json": {
       "config": {
        "plotlyServerURL": "https://plot.ly"
       },
       "data": [
        {
         "mode": "lines",
         "name": "Logistic Function",
         "type": "scatter",
         "x": [
          -5,
          -4.795918367346939,
          -4.591836734693878,
          -4.387755102040816,
          -4.183673469387755,
          -3.979591836734694,
          -3.7755102040816326,
          -3.571428571428571,
          -3.36734693877551,
          -3.163265306122449,
          -2.9591836734693877,
          -2.7551020408163263,
          -2.5510204081632653,
          -2.3469387755102042,
          -2.142857142857143,
          -1.9387755102040813,
          -1.7346938775510203,
          -1.5306122448979593,
          -1.3265306122448979,
          -1.1224489795918364,
          -0.9183673469387754,
          -0.7142857142857144,
          -0.5102040816326525,
          -0.3061224489795915,
          -0.1020408163265305,
          0.1020408163265305,
          0.3061224489795915,
          0.5102040816326534,
          0.7142857142857144,
          0.9183673469387754,
          1.1224489795918373,
          1.3265306122448983,
          1.5306122448979593,
          1.7346938775510203,
          1.9387755102040813,
          2.1428571428571432,
          2.3469387755102042,
          2.5510204081632653,
          2.755102040816327,
          2.959183673469388,
          3.163265306122449,
          3.36734693877551,
          3.571428571428571,
          3.775510204081632,
          3.979591836734695,
          4.183673469387756,
          4.387755102040817,
          4.591836734693878,
          4.795918367346939,
          5
         ],
         "y": [
          0.0066928509242848554,
          0.008195682245394699,
          0.010032555186013372,
          0.012276025071468199,
          0.015013569057033847,
          0.018350241705691772,
          0.022411596418032444,
          0.02734678679618289,
          0.033331686533853294,
          0.040571758423092276,
          0.04930425596537221,
          0.059799151969359574,
          0.07235796333544683,
          0.08730940263865966,
          0.10500058502026482,
          0.12578244121862014,
          0.14998816555871142,
          0.1779041247108555,
          0.209733821699624,
          0.2455573055902638,
          0.2852906753756516,
          0.32865254651727,
          0.3751456852515014,
          0.424061486151752,
          0.4745119079463219,
          0.5254880920536781,
          0.575938513848248,
          0.6248543147484988,
          0.6713474534827301,
          0.7147093246243483,
          0.7544426944097363,
          0.790266178300376,
          0.8220958752891444,
          0.8500118344412885,
          0.87421755878138,
          0.8949994149797352,
          0.9126905973613403,
          0.9276420366645531,
          0.9402008480306404,
          0.9506957440346279,
          0.9594282415769078,
          0.9666683134661466,
          0.9726532132038171,
          0.9775884035819675,
          0.9816497582943083,
          0.9849864309429661,
          0.9877239749285319,
          0.9899674448139867,
          0.9918043177546053,
          0.9933071490757153
         ]
        }
       ],
       "layout": {
        "height": 250,
        "template": {
         "data": {
          "bar": [
           {
            "error_x": {
             "color": "rgb(36,36,36)"
            },
            "error_y": {
             "color": "rgb(36,36,36)"
            },
            "marker": {
             "line": {
              "color": "white",
              "width": 0.5
             },
             "pattern": {
              "fillmode": "overlay",
              "size": 10,
              "solidity": 0.2
             }
            },
            "type": "bar"
           }
          ],
          "barpolar": [
           {
            "marker": {
             "line": {
              "color": "white",
              "width": 0.5
             },
             "pattern": {
              "fillmode": "overlay",
              "size": 10,
              "solidity": 0.2
             }
            },
            "type": "barpolar"
           }
          ],
          "carpet": [
           {
            "aaxis": {
             "endlinecolor": "rgb(36,36,36)",
             "gridcolor": "white",
             "linecolor": "white",
             "minorgridcolor": "white",
             "startlinecolor": "rgb(36,36,36)"
            },
            "baxis": {
             "endlinecolor": "rgb(36,36,36)",
             "gridcolor": "white",
             "linecolor": "white",
             "minorgridcolor": "white",
             "startlinecolor": "rgb(36,36,36)"
            },
            "type": "carpet"
           }
          ],
          "choropleth": [
           {
            "colorbar": {
             "outlinewidth": 1,
             "tickcolor": "rgb(36,36,36)",
             "ticks": "outside"
            },
            "type": "choropleth"
           }
          ],
          "contour": [
           {
            "colorbar": {
             "outlinewidth": 1,
             "tickcolor": "rgb(36,36,36)",
             "ticks": "outside"
            },
            "colorscale": [
             [
              0,
              "#440154"
             ],
             [
              0.1111111111111111,
              "#482878"
             ],
             [
              0.2222222222222222,
              "#3e4989"
             ],
             [
              0.3333333333333333,
              "#31688e"
             ],
             [
              0.4444444444444444,
              "#26828e"
             ],
             [
              0.5555555555555556,
              "#1f9e89"
             ],
             [
              0.6666666666666666,
              "#35b779"
             ],
             [
              0.7777777777777778,
              "#6ece58"
             ],
             [
              0.8888888888888888,
              "#b5de2b"
             ],
             [
              1,
              "#fde725"
             ]
            ],
            "type": "contour"
           }
          ],
          "contourcarpet": [
           {
            "colorbar": {
             "outlinewidth": 1,
             "tickcolor": "rgb(36,36,36)",
             "ticks": "outside"
            },
            "type": "contourcarpet"
           }
          ],
          "heatmap": [
           {
            "colorbar": {
             "outlinewidth": 1,
             "tickcolor": "rgb(36,36,36)",
             "ticks": "outside"
            },
            "colorscale": [
             [
              0,
              "#440154"
             ],
             [
              0.1111111111111111,
              "#482878"
             ],
             [
              0.2222222222222222,
              "#3e4989"
             ],
             [
              0.3333333333333333,
              "#31688e"
             ],
             [
              0.4444444444444444,
              "#26828e"
             ],
             [
              0.5555555555555556,
              "#1f9e89"
             ],
             [
              0.6666666666666666,
              "#35b779"
             ],
             [
              0.7777777777777778,
              "#6ece58"
             ],
             [
              0.8888888888888888,
              "#b5de2b"
             ],
             [
              1,
              "#fde725"
             ]
            ],
            "type": "heatmap"
           }
          ],
          "heatmapgl": [
           {
            "colorbar": {
             "outlinewidth": 1,
             "tickcolor": "rgb(36,36,36)",
             "ticks": "outside"
            },
            "colorscale": [
             [
              0,
              "#440154"
             ],
             [
              0.1111111111111111,
              "#482878"
             ],
             [
              0.2222222222222222,
              "#3e4989"
             ],
             [
              0.3333333333333333,
              "#31688e"
             ],
             [
              0.4444444444444444,
              "#26828e"
             ],
             [
              0.5555555555555556,
              "#1f9e89"
             ],
             [
              0.6666666666666666,
              "#35b779"
             ],
             [
              0.7777777777777778,
              "#6ece58"
             ],
             [
              0.8888888888888888,
              "#b5de2b"
             ],
             [
              1,
              "#fde725"
             ]
            ],
            "type": "heatmapgl"
           }
          ],
          "histogram": [
           {
            "marker": {
             "line": {
              "color": "white",
              "width": 0.6
             }
            },
            "type": "histogram"
           }
          ],
          "histogram2d": [
           {
            "colorbar": {
             "outlinewidth": 1,
             "tickcolor": "rgb(36,36,36)",
             "ticks": "outside"
            },
            "colorscale": [
             [
              0,
              "#440154"
             ],
             [
              0.1111111111111111,
              "#482878"
             ],
             [
              0.2222222222222222,
              "#3e4989"
             ],
             [
              0.3333333333333333,
              "#31688e"
             ],
             [
              0.4444444444444444,
              "#26828e"
             ],
             [
              0.5555555555555556,
              "#1f9e89"
             ],
             [
              0.6666666666666666,
              "#35b779"
             ],
             [
              0.7777777777777778,
              "#6ece58"
             ],
             [
              0.8888888888888888,
              "#b5de2b"
             ],
             [
              1,
              "#fde725"
             ]
            ],
            "type": "histogram2d"
           }
          ],
          "histogram2dcontour": [
           {
            "colorbar": {
             "outlinewidth": 1,
             "tickcolor": "rgb(36,36,36)",
             "ticks": "outside"
            },
            "colorscale": [
             [
              0,
              "#440154"
             ],
             [
              0.1111111111111111,
              "#482878"
             ],
             [
              0.2222222222222222,
              "#3e4989"
             ],
             [
              0.3333333333333333,
              "#31688e"
             ],
             [
              0.4444444444444444,
              "#26828e"
             ],
             [
              0.5555555555555556,
              "#1f9e89"
             ],
             [
              0.6666666666666666,
              "#35b779"
             ],
             [
              0.7777777777777778,
              "#6ece58"
             ],
             [
              0.8888888888888888,
              "#b5de2b"
             ],
             [
              1,
              "#fde725"
             ]
            ],
            "type": "histogram2dcontour"
           }
          ],
          "mesh3d": [
           {
            "colorbar": {
             "outlinewidth": 1,
             "tickcolor": "rgb(36,36,36)",
             "ticks": "outside"
            },
            "type": "mesh3d"
           }
          ],
          "parcoords": [
           {
            "line": {
             "colorbar": {
              "outlinewidth": 1,
              "tickcolor": "rgb(36,36,36)",
              "ticks": "outside"
             }
            },
            "type": "parcoords"
           }
          ],
          "pie": [
           {
            "automargin": true,
            "type": "pie"
           }
          ],
          "scatter": [
           {
            "fillpattern": {
             "fillmode": "overlay",
             "size": 10,
             "solidity": 0.2
            },
            "type": "scatter"
           }
          ],
          "scatter3d": [
           {
            "line": {
             "colorbar": {
              "outlinewidth": 1,
              "tickcolor": "rgb(36,36,36)",
              "ticks": "outside"
             }
            },
            "marker": {
             "colorbar": {
              "outlinewidth": 1,
              "tickcolor": "rgb(36,36,36)",
              "ticks": "outside"
             }
            },
            "type": "scatter3d"
           }
          ],
          "scattercarpet": [
           {
            "marker": {
             "colorbar": {
              "outlinewidth": 1,
              "tickcolor": "rgb(36,36,36)",
              "ticks": "outside"
             }
            },
            "type": "scattercarpet"
           }
          ],
          "scattergeo": [
           {
            "marker": {
             "colorbar": {
              "outlinewidth": 1,
              "tickcolor": "rgb(36,36,36)",
              "ticks": "outside"
             }
            },
            "type": "scattergeo"
           }
          ],
          "scattergl": [
           {
            "marker": {
             "colorbar": {
              "outlinewidth": 1,
              "tickcolor": "rgb(36,36,36)",
              "ticks": "outside"
             }
            },
            "type": "scattergl"
           }
          ],
          "scattermapbox": [
           {
            "marker": {
             "colorbar": {
              "outlinewidth": 1,
              "tickcolor": "rgb(36,36,36)",
              "ticks": "outside"
             }
            },
            "type": "scattermapbox"
           }
          ],
          "scatterpolar": [
           {
            "marker": {
             "colorbar": {
              "outlinewidth": 1,
              "tickcolor": "rgb(36,36,36)",
              "ticks": "outside"
             }
            },
            "type": "scatterpolar"
           }
          ],
          "scatterpolargl": [
           {
            "marker": {
             "colorbar": {
              "outlinewidth": 1,
              "tickcolor": "rgb(36,36,36)",
              "ticks": "outside"
             }
            },
            "type": "scatterpolargl"
           }
          ],
          "scatterternary": [
           {
            "marker": {
             "colorbar": {
              "outlinewidth": 1,
              "tickcolor": "rgb(36,36,36)",
              "ticks": "outside"
             }
            },
            "type": "scatterternary"
           }
          ],
          "surface": [
           {
            "colorbar": {
             "outlinewidth": 1,
             "tickcolor": "rgb(36,36,36)",
             "ticks": "outside"
            },
            "colorscale": [
             [
              0,
              "#440154"
             ],
             [
              0.1111111111111111,
              "#482878"
             ],
             [
              0.2222222222222222,
              "#3e4989"
             ],
             [
              0.3333333333333333,
              "#31688e"
             ],
             [
              0.4444444444444444,
              "#26828e"
             ],
             [
              0.5555555555555556,
              "#1f9e89"
             ],
             [
              0.6666666666666666,
              "#35b779"
             ],
             [
              0.7777777777777778,
              "#6ece58"
             ],
             [
              0.8888888888888888,
              "#b5de2b"
             ],
             [
              1,
              "#fde725"
             ]
            ],
            "type": "surface"
           }
          ],
          "table": [
           {
            "cells": {
             "fill": {
              "color": "rgb(237,237,237)"
             },
             "line": {
              "color": "white"
             }
            },
            "header": {
             "fill": {
              "color": "rgb(217,217,217)"
             },
             "line": {
              "color": "white"
             }
            },
            "type": "table"
           }
          ]
         },
         "layout": {
          "annotationdefaults": {
           "arrowhead": 0,
           "arrowwidth": 1
          },
          "autosize": true,
          "autotypenumbers": "strict",
          "coloraxis": {
           "colorbar": {
            "outlinewidth": 1,
            "tickcolor": "rgb(36,36,36)",
            "ticks": "outside"
           }
          },
          "colorscale": {
           "diverging": [
            [
             0,
             "rgb(103,0,31)"
            ],
            [
             0.1,
             "rgb(178,24,43)"
            ],
            [
             0.2,
             "rgb(214,96,77)"
            ],
            [
             0.3,
             "rgb(244,165,130)"
            ],
            [
             0.4,
             "rgb(253,219,199)"
            ],
            [
             0.5,
             "rgb(247,247,247)"
            ],
            [
             0.6,
             "rgb(209,229,240)"
            ],
            [
             0.7,
             "rgb(146,197,222)"
            ],
            [
             0.8,
             "rgb(67,147,195)"
            ],
            [
             0.9,
             "rgb(33,102,172)"
            ],
            [
             1,
             "rgb(5,48,97)"
            ]
           ],
           "sequential": [
            [
             0,
             "#440154"
            ],
            [
             0.1111111111111111,
             "#482878"
            ],
            [
             0.2222222222222222,
             "#3e4989"
            ],
            [
             0.3333333333333333,
             "#31688e"
            ],
            [
             0.4444444444444444,
             "#26828e"
            ],
            [
             0.5555555555555556,
             "#1f9e89"
            ],
            [
             0.6666666666666666,
             "#35b779"
            ],
            [
             0.7777777777777778,
             "#6ece58"
            ],
            [
             0.8888888888888888,
             "#b5de2b"
            ],
            [
             1,
             "#fde725"
            ]
           ],
           "sequentialminus": [
            [
             0,
             "#440154"
            ],
            [
             0.1111111111111111,
             "#482878"
            ],
            [
             0.2222222222222222,
             "#3e4989"
            ],
            [
             0.3333333333333333,
             "#31688e"
            ],
            [
             0.4444444444444444,
             "#26828e"
            ],
            [
             0.5555555555555556,
             "#1f9e89"
            ],
            [
             0.6666666666666666,
             "#35b779"
            ],
            [
             0.7777777777777778,
             "#6ece58"
            ],
            [
             0.8888888888888888,
             "#b5de2b"
            ],
            [
             1,
             "#fde725"
            ]
           ]
          },
          "colorway": [
           "#1F77B4",
           "#FF7F0E",
           "#2CA02C",
           "#D62728",
           "#9467BD",
           "#8C564B",
           "#E377C2",
           "#7F7F7F",
           "#BCBD22",
           "#17BECF"
          ],
          "font": {
           "color": "rgb(36,36,36)"
          },
          "geo": {
           "bgcolor": "white",
           "lakecolor": "white",
           "landcolor": "white",
           "showlakes": true,
           "showland": true,
           "subunitcolor": "white"
          },
          "height": 250,
          "hoverlabel": {
           "align": "left"
          },
          "hovermode": "closest",
          "mapbox": {
           "style": "light"
          },
          "margin": {
           "b": 10,
           "l": 10,
           "r": 10,
           "t": 10
          },
          "paper_bgcolor": "white",
          "plot_bgcolor": "white",
          "polar": {
           "angularaxis": {
            "gridcolor": "rgb(232,232,232)",
            "linecolor": "rgb(36,36,36)",
            "showgrid": false,
            "showline": true,
            "ticks": "outside"
           },
           "bgcolor": "white",
           "radialaxis": {
            "gridcolor": "rgb(232,232,232)",
            "linecolor": "rgb(36,36,36)",
            "showgrid": false,
            "showline": true,
            "ticks": "outside"
           }
          },
          "scene": {
           "xaxis": {
            "backgroundcolor": "white",
            "gridcolor": "rgb(232,232,232)",
            "gridwidth": 2,
            "linecolor": "rgb(36,36,36)",
            "showbackground": true,
            "showgrid": false,
            "showline": true,
            "ticks": "outside",
            "zeroline": false,
            "zerolinecolor": "rgb(36,36,36)"
           },
           "yaxis": {
            "backgroundcolor": "white",
            "gridcolor": "rgb(232,232,232)",
            "gridwidth": 2,
            "linecolor": "rgb(36,36,36)",
            "showbackground": true,
            "showgrid": false,
            "showline": true,
            "ticks": "outside",
            "zeroline": false,
            "zerolinecolor": "rgb(36,36,36)"
           },
           "zaxis": {
            "backgroundcolor": "white",
            "gridcolor": "rgb(232,232,232)",
            "gridwidth": 2,
            "linecolor": "rgb(36,36,36)",
            "showbackground": true,
            "showgrid": false,
            "showline": true,
            "ticks": "outside",
            "zeroline": false,
            "zerolinecolor": "rgb(36,36,36)"
           }
          },
          "shapedefaults": {
           "fillcolor": "black",
           "line": {
            "width": 0
           },
           "opacity": 0.3
          },
          "ternary": {
           "aaxis": {
            "gridcolor": "rgb(232,232,232)",
            "linecolor": "rgb(36,36,36)",
            "showgrid": false,
            "showline": true,
            "ticks": "outside"
           },
           "baxis": {
            "gridcolor": "rgb(232,232,232)",
            "linecolor": "rgb(36,36,36)",
            "showgrid": false,
            "showline": true,
            "ticks": "outside"
           },
           "bgcolor": "white",
           "caxis": {
            "gridcolor": "rgb(232,232,232)",
            "linecolor": "rgb(36,36,36)",
            "showgrid": false,
            "showline": true,
            "ticks": "outside"
           }
          },
          "title": {
           "x": 0.5,
           "xanchor": "center"
          },
          "width": 350,
          "xaxis": {
           "automargin": true,
           "gridcolor": "rgb(232,232,232)",
           "linecolor": "rgb(36,36,36)",
           "showgrid": true,
           "showline": true,
           "ticks": "outside",
           "title": {
            "standoff": 15
           },
           "zeroline": false,
           "zerolinecolor": "rgb(36,36,36)"
          },
          "yaxis": {
           "automargin": true,
           "gridcolor": "rgb(232,232,232)",
           "linecolor": "rgb(36,36,36)",
           "showgrid": true,
           "showline": true,
           "ticks": "outside",
           "title": {
            "standoff": 15
           },
           "zeroline": false,
           "zerolinecolor": "rgb(36,36,36)"
          }
         }
        },
        "width": 400
       }
      },
      "image/svg+xml": [
       "<svg class=\"main-svg\" xmlns=\"http://www.w3.org/2000/svg\" xmlns:xlink=\"http://www.w3.org/1999/xlink\" width=\"400\" height=\"250\" style=\"\" viewBox=\"0 0 400 250\"><rect x=\"0\" y=\"0\" width=\"400\" height=\"250\" style=\"fill: rgb(255, 255, 255); fill-opacity: 1;\"/><defs id=\"defs-a73e0a\"><g class=\"clips\"><clipPath id=\"clipa73e0axyplot\" class=\"plotclip\"><rect width=\"352\" height=\"207\"/></clipPath><clipPath class=\"axesclip\" id=\"clipa73e0ax\"><rect x=\"38\" y=\"0\" width=\"352\" height=\"250\"/></clipPath><clipPath class=\"axesclip\" id=\"clipa73e0ay\"><rect x=\"0\" y=\"10\" width=\"400\" height=\"207\"/></clipPath><clipPath class=\"axesclip\" id=\"clipa73e0axy\"><rect x=\"38\" y=\"10\" width=\"352\" height=\"207\"/></clipPath></g><g class=\"gradients\"/><g class=\"patterns\"/></defs><g class=\"bglayer\"/><g class=\"layer-below\"><g class=\"imagelayer\"/><g class=\"shapelayer\"/></g><g class=\"cartesianlayer\"><g class=\"subplot xy\"><g class=\"layer-subplot\"><g class=\"shapelayer\"/><g class=\"imagelayer\"/></g><g class=\"minor-gridlayer\"><g class=\"x\"/><g class=\"y\"/></g><g class=\"gridlayer\"><g class=\"x\"><path class=\"xgrid crisp\" transform=\"translate(73.2,0)\" d=\"M0,10v207\" style=\"stroke: rgb(232, 232, 232); stroke-opacity: 1; stroke-width: 1px;\"/><path class=\"xgrid crisp\" transform=\"translate(143.6,0)\" d=\"M0,10v207\" style=\"stroke: rgb(232, 232, 232); stroke-opacity: 1; stroke-width: 1px;\"/><path class=\"xgrid crisp\" transform=\"translate(214,0)\" d=\"M0,10v207\" style=\"stroke: rgb(232, 232, 232); stroke-opacity: 1; stroke-width: 1px;\"/><path class=\"xgrid crisp\" transform=\"translate(284.4,0)\" d=\"M0,10v207\" style=\"stroke: rgb(232, 232, 232); stroke-opacity: 1; stroke-width: 1px;\"/><path class=\"xgrid crisp\" transform=\"translate(354.8,0)\" d=\"M0,10v207\" style=\"stroke: rgb(232, 232, 232); stroke-opacity: 1; stroke-width: 1px;\"/></g><g class=\"y\"><path class=\"ygrid crisp\" transform=\"translate(0,207.91)\" d=\"M38,0h352\" style=\"stroke: rgb(232, 232, 232); stroke-opacity: 1; stroke-width: 1px;\"/><path class=\"ygrid crisp\" transform=\"translate(0,170.15)\" d=\"M38,0h352\" style=\"stroke: rgb(232, 232, 232); stroke-opacity: 1; stroke-width: 1px;\"/><path class=\"ygrid crisp\" transform=\"translate(0,132.38)\" d=\"M38,0h352\" style=\"stroke: rgb(232, 232, 232); stroke-opacity: 1; stroke-width: 1px;\"/><path class=\"ygrid crisp\" transform=\"translate(0,94.62)\" d=\"M38,0h352\" style=\"stroke: rgb(232, 232, 232); stroke-opacity: 1; stroke-width: 1px;\"/><path class=\"ygrid crisp\" transform=\"translate(0,56.85)\" d=\"M38,0h352\" style=\"stroke: rgb(232, 232, 232); stroke-opacity: 1; stroke-width: 1px;\"/><path class=\"ygrid crisp\" transform=\"translate(0,19.09)\" d=\"M38,0h352\" style=\"stroke: rgb(232, 232, 232); stroke-opacity: 1; stroke-width: 1px;\"/></g></g><g class=\"zerolinelayer\"/><path class=\"xlines-below\"/><path class=\"ylines-below\"/><g class=\"overlines-below\"/><g class=\"xaxislayer-below\"/><g class=\"yaxislayer-below\"/><g class=\"overaxes-below\"/><g class=\"plot\" transform=\"translate(38,10)\" clip-path=\"url(#clipa73e0axyplot)\"><g class=\"scatterlayer mlayer\"><g class=\"trace scatter traceff3982\" style=\"stroke-miterlimit: 2; opacity: 1;\"><g class=\"fills\"/><g class=\"errorbars\"/><g class=\"lines\"><path class=\"js-line\" d=\"M0,196.65L28.73,195.08L35.92,194.45L57.47,191.62L64.65,190.25L79.02,186.62L86.2,184.25L100.57,178.09L107.76,174.16L122.12,164.32L129.31,158.31L143.67,144.04L150.86,135.86L165.22,117.84L172.41,108.31L193.96,79.92L201.14,71.14L215.51,55.45L222.69,48.69L237.06,37.41L244.24,32.84L258.61,25.57L265.8,22.75L280.16,18.4L287.35,16.75L308.9,13.32L316.08,12.55L344.82,10.63L352,10.35\" style=\"vector-effect: none; fill: none; stroke: rgb(31, 119, 180); stroke-opacity: 1; stroke-width: 2px; opacity: 1;\"/></g><g class=\"points\"/><g class=\"text\"/></g></g></g><g class=\"overplot\"/><path class=\"xlines-above crisp\" d=\"M37,217.5H390\" style=\"fill: none; stroke-width: 1px; stroke: rgb(36, 36, 36); stroke-opacity: 1;\"/><path class=\"ylines-above crisp\" d=\"M37.5,10V217\" style=\"fill: none; stroke-width: 1px; stroke: rgb(36, 36, 36); stroke-opacity: 1;\"/><g class=\"overlines-above\"/><g class=\"xaxislayer-above\"><path class=\"xtick ticks crisp\" d=\"M0,218v5\" transform=\"translate(73.2,0)\" style=\"stroke: rgb(68, 68, 68); stroke-opacity: 1; stroke-width: 1px;\"/><path class=\"xtick ticks crisp\" d=\"M0,218v5\" transform=\"translate(143.6,0)\" style=\"stroke: rgb(68, 68, 68); stroke-opacity: 1; stroke-width: 1px;\"/><path class=\"xtick ticks crisp\" d=\"M0,218v5\" transform=\"translate(214,0)\" style=\"stroke: rgb(68, 68, 68); stroke-opacity: 1; stroke-width: 1px;\"/><path class=\"xtick ticks crisp\" d=\"M0,218v5\" transform=\"translate(284.4,0)\" style=\"stroke: rgb(68, 68, 68); stroke-opacity: 1; stroke-width: 1px;\"/><path class=\"xtick ticks crisp\" d=\"M0,218v5\" transform=\"translate(354.8,0)\" style=\"stroke: rgb(68, 68, 68); stroke-opacity: 1; stroke-width: 1px;\"/><g class=\"xtick\"><text text-anchor=\"middle\" x=\"0\" y=\"237.4\" transform=\"translate(73.2,0)\" style=\"font-family: 'Open Sans', verdana, arial, sans-serif; font-size: 12px; fill: rgb(36, 36, 36); fill-opacity: 1; white-space: pre; opacity: 1;\">−4</text></g><g class=\"xtick\"><text text-anchor=\"middle\" x=\"0\" y=\"237.4\" style=\"font-family: 'Open Sans', verdana, arial, sans-serif; font-size: 12px; fill: rgb(36, 36, 36); fill-opacity: 1; white-space: pre; opacity: 1;\" transform=\"translate(143.6,0)\">−2</text></g><g class=\"xtick\"><text text-anchor=\"middle\" x=\"0\" y=\"237.4\" style=\"font-family: 'Open Sans', verdana, arial, sans-serif; font-size: 12px; fill: rgb(36, 36, 36); fill-opacity: 1; white-space: pre; opacity: 1;\" transform=\"translate(214,0)\">0</text></g><g class=\"xtick\"><text text-anchor=\"middle\" x=\"0\" y=\"237.4\" style=\"font-family: 'Open Sans', verdana, arial, sans-serif; font-size: 12px; fill: rgb(36, 36, 36); fill-opacity: 1; white-space: pre; opacity: 1;\" transform=\"translate(284.4,0)\">2</text></g><g class=\"xtick\"><text text-anchor=\"middle\" x=\"0\" y=\"237.4\" style=\"font-family: 'Open Sans', verdana, arial, sans-serif; font-size: 12px; fill: rgb(36, 36, 36); fill-opacity: 1; white-space: pre; opacity: 1;\" transform=\"translate(354.8,0)\">4</text></g></g><g class=\"yaxislayer-above\"><path class=\"ytick ticks crisp\" d=\"M37,0h-5\" transform=\"translate(0,207.91)\" style=\"stroke: rgb(68, 68, 68); stroke-opacity: 1; stroke-width: 1px;\"/><path class=\"ytick ticks crisp\" d=\"M37,0h-5\" transform=\"translate(0,170.15)\" style=\"stroke: rgb(68, 68, 68); stroke-opacity: 1; stroke-width: 1px;\"/><path class=\"ytick ticks crisp\" d=\"M37,0h-5\" transform=\"translate(0,132.38)\" style=\"stroke: rgb(68, 68, 68); stroke-opacity: 1; stroke-width: 1px;\"/><path class=\"ytick ticks crisp\" d=\"M37,0h-5\" transform=\"translate(0,94.62)\" style=\"stroke: rgb(68, 68, 68); stroke-opacity: 1; stroke-width: 1px;\"/><path class=\"ytick ticks crisp\" d=\"M37,0h-5\" transform=\"translate(0,56.85)\" style=\"stroke: rgb(68, 68, 68); stroke-opacity: 1; stroke-width: 1px;\"/><path class=\"ytick ticks crisp\" d=\"M37,0h-5\" transform=\"translate(0,19.09)\" style=\"stroke: rgb(68, 68, 68); stroke-opacity: 1; stroke-width: 1px;\"/><g class=\"ytick\"><text text-anchor=\"end\" x=\"29.6\" y=\"4.199999999999999\" transform=\"translate(0,207.91)\" style=\"font-family: 'Open Sans', verdana, arial, sans-serif; font-size: 12px; fill: rgb(36, 36, 36); fill-opacity: 1; white-space: pre; opacity: 1;\">0</text></g><g class=\"ytick\"><text text-anchor=\"end\" x=\"29.6\" y=\"4.199999999999999\" style=\"font-family: 'Open Sans', verdana, arial, sans-serif; font-size: 12px; fill: rgb(36, 36, 36); fill-opacity: 1; white-space: pre; opacity: 1;\" transform=\"translate(0,170.15)\">0.2</text></g><g class=\"ytick\"><text text-anchor=\"end\" x=\"29.6\" y=\"4.199999999999999\" style=\"font-family: 'Open Sans', verdana, arial, sans-serif; font-size: 12px; fill: rgb(36, 36, 36); fill-opacity: 1; white-space: pre; opacity: 1;\" transform=\"translate(0,132.38)\">0.4</text></g><g class=\"ytick\"><text text-anchor=\"end\" x=\"29.6\" y=\"4.199999999999999\" style=\"font-family: 'Open Sans', verdana, arial, sans-serif; font-size: 12px; fill: rgb(36, 36, 36); fill-opacity: 1; white-space: pre; opacity: 1;\" transform=\"translate(0,94.62)\">0.6</text></g><g class=\"ytick\"><text text-anchor=\"end\" x=\"29.6\" y=\"4.199999999999999\" style=\"font-family: 'Open Sans', verdana, arial, sans-serif; font-size: 12px; fill: rgb(36, 36, 36); fill-opacity: 1; white-space: pre; opacity: 1;\" transform=\"translate(0,56.85)\">0.8</text></g><g class=\"ytick\"><text text-anchor=\"end\" x=\"29.6\" y=\"4.199999999999999\" style=\"font-family: 'Open Sans', verdana, arial, sans-serif; font-size: 12px; fill: rgb(36, 36, 36); fill-opacity: 1; white-space: pre; opacity: 1;\" transform=\"translate(0,19.09)\">1</text></g></g><g class=\"overaxes-above\"/></g></g><g class=\"polarlayer\"/><g class=\"smithlayer\"/><g class=\"ternarylayer\"/><g class=\"geolayer\"/><g class=\"funnelarealayer\"/><g class=\"pielayer\"/><g class=\"iciclelayer\"/><g class=\"treemaplayer\"/><g class=\"sunburstlayer\"/><g class=\"glimages\"/><defs id=\"topdefs-a73e0a\"><g class=\"clips\"/></defs><g class=\"layer-above\"><g class=\"imagelayer\"/><g class=\"shapelayer\"/></g><g class=\"infolayer\"><g class=\"g-gtitle\"/><g class=\"g-xtitle\"/><g class=\"g-ytitle\"/></g></svg>"
      ]
     },
     "metadata": {},
     "output_type": "display_data"
    }
   ],
   "source": [
    "t = np.linspace(-5, 5, 50)\n",
    "sigmoid_line = go.Scatter(\n",
    "    name=\"Logistic Function\", x=t, y=logistic(t), mode=\"lines\"\n",
    ")\n",
    "\n",
    "fig = go.Figure([sigmoid_line])\n",
    "fig.update_layout(width=400, height=250)\n",
    "fig"
   ]
  },
  {
   "attachments": {},
   "cell_type": "markdown",
   "metadata": {},
   "source": [
    "Since the logistic function maps to the interval between 0 and 1, it is commonly used when modeling proportions and probabilities. Also, we can write the logistic as a function of a line, $\\theta_0 + \\theta_1 x$:"
   ]
  },
  {
   "attachments": {},
   "cell_type": "markdown",
   "metadata": {},
   "source": [
    "$$\n",
    "\\sigma\\left(\\theta_0 + \\theta_1 x\\right) = \\frac{1}{1+\\exp(-\\theta_0 - \\theta_1 x)}\n",
    "$$"
   ]
  },
  {
   "attachments": {},
   "cell_type": "markdown",
   "metadata": {},
   "source": [
    "To help build your intuition for the shape of this function, the following plot shows the logistic function as we vary $\\theta_0$ and $\\theta_1$:"
   ]
  },
  {
   "cell_type": "code",
   "execution_count": null,
   "metadata": {},
   "outputs": [],
   "source": []
  },
  {
   "cell_type": "code",
   "execution_count": 195,
   "metadata": {
    "tags": [
     "hide-input"
    ]
   },
   "outputs": [
    {
     "data": {
      "application/vnd.plotly.v1+json": {
       "config": {
        "plotlyServerURL": "https://plot.ly"
       },
       "data": [
        {
         "line": {
          "dash": "dashdot"
         },
         "mode": "lines",
         "name": "2 + 1x",
         "type": "scatter",
         "x": [
          -5,
          -4.795918367346939,
          -4.591836734693878,
          -4.387755102040816,
          -4.183673469387755,
          -3.979591836734694,
          -3.7755102040816326,
          -3.571428571428571,
          -3.36734693877551,
          -3.163265306122449,
          -2.9591836734693877,
          -2.7551020408163263,
          -2.5510204081632653,
          -2.3469387755102042,
          -2.142857142857143,
          -1.9387755102040813,
          -1.7346938775510203,
          -1.5306122448979593,
          -1.3265306122448979,
          -1.1224489795918364,
          -0.9183673469387754,
          -0.7142857142857144,
          -0.5102040816326525,
          -0.3061224489795915,
          -0.1020408163265305,
          0.1020408163265305,
          0.3061224489795915,
          0.5102040816326534,
          0.7142857142857144,
          0.9183673469387754,
          1.1224489795918373,
          1.3265306122448983,
          1.5306122448979593,
          1.7346938775510203,
          1.9387755102040813,
          2.1428571428571432,
          2.3469387755102042,
          2.5510204081632653,
          2.755102040816327,
          2.959183673469388,
          3.163265306122449,
          3.36734693877551,
          3.571428571428571,
          3.775510204081632,
          3.979591836734695,
          4.183673469387756,
          4.387755102040817,
          4.591836734693878,
          4.795918367346939,
          5
         ],
         "xaxis": "x",
         "y": [
          0.04742587317756678,
          0.05754513857001805,
          0.06966564566296751,
          0.08411120962804627,
          0.10122622764810399,
          0.12136235505708985,
          0.1448584187816685,
          0.17201283293576136,
          0.20304882658518425,
          0.23807446841118726,
          0.2770416668128438,
          0.3197106094506595,
          0.36562769891588276,
          0.41412495635473456,
          0.46434632916602836,
          0.5153013430693819,
          0.5659402039708967,
          0.6152388360016968,
          0.6622795773435391,
          0.7063144754323617,
          0.7468028234142966,
          0.783420904231824,
          0.8160476390687267,
          0.8447334151903693,
          0.8696603711021992,
          0.8911013771609704,
          0.9093828298178561,
          0.9248540752201094,
          0.9378643669135703,
          0.948746967575112,
          0.9578093040243727,
          0.9653278365689683,
          0.9715463421239177,
          0.9766764961726577,
          0.9808998749925357,
          0.9843707299525929,
          0.9872190828893485,
          0.9895538470296645,
          0.9914657932884728,
          0.9930302631693799,
          0.9943095842909772,
          0.995355179633187,
          0.9962093826779632,
          0.9969069821530767,
          0.9974765253573182,
          0.997941410379321,
          0.9983207965198637,
          0.9986303599536496,
          0.9988829188068378,
          0.9990889488055994
         ],
         "yaxis": "y"
        },
        {
         "mode": "lines",
         "name": "0 + 1x",
         "type": "scatter",
         "x": [
          -5,
          -4.795918367346939,
          -4.591836734693878,
          -4.387755102040816,
          -4.183673469387755,
          -3.979591836734694,
          -3.7755102040816326,
          -3.571428571428571,
          -3.36734693877551,
          -3.163265306122449,
          -2.9591836734693877,
          -2.7551020408163263,
          -2.5510204081632653,
          -2.3469387755102042,
          -2.142857142857143,
          -1.9387755102040813,
          -1.7346938775510203,
          -1.5306122448979593,
          -1.3265306122448979,
          -1.1224489795918364,
          -0.9183673469387754,
          -0.7142857142857144,
          -0.5102040816326525,
          -0.3061224489795915,
          -0.1020408163265305,
          0.1020408163265305,
          0.3061224489795915,
          0.5102040816326534,
          0.7142857142857144,
          0.9183673469387754,
          1.1224489795918373,
          1.3265306122448983,
          1.5306122448979593,
          1.7346938775510203,
          1.9387755102040813,
          2.1428571428571432,
          2.3469387755102042,
          2.5510204081632653,
          2.755102040816327,
          2.959183673469388,
          3.163265306122449,
          3.36734693877551,
          3.571428571428571,
          3.775510204081632,
          3.979591836734695,
          4.183673469387756,
          4.387755102040817,
          4.591836734693878,
          4.795918367346939,
          5
         ],
         "xaxis": "x",
         "y": [
          0.0066928509242848554,
          0.008195682245394699,
          0.010032555186013372,
          0.012276025071468199,
          0.015013569057033847,
          0.018350241705691772,
          0.022411596418032444,
          0.02734678679618289,
          0.033331686533853294,
          0.040571758423092276,
          0.04930425596537221,
          0.059799151969359574,
          0.07235796333544683,
          0.08730940263865966,
          0.10500058502026482,
          0.12578244121862014,
          0.14998816555871142,
          0.1779041247108555,
          0.209733821699624,
          0.2455573055902638,
          0.2852906753756516,
          0.32865254651727,
          0.3751456852515014,
          0.424061486151752,
          0.4745119079463219,
          0.5254880920536781,
          0.575938513848248,
          0.6248543147484988,
          0.6713474534827301,
          0.7147093246243483,
          0.7544426944097363,
          0.790266178300376,
          0.8220958752891444,
          0.8500118344412885,
          0.87421755878138,
          0.8949994149797352,
          0.9126905973613403,
          0.9276420366645531,
          0.9402008480306404,
          0.9506957440346279,
          0.9594282415769078,
          0.9666683134661466,
          0.9726532132038171,
          0.9775884035819675,
          0.9816497582943083,
          0.9849864309429661,
          0.9877239749285319,
          0.9899674448139867,
          0.9918043177546053,
          0.9933071490757153
         ],
         "yaxis": "y"
        },
        {
         "line": {
          "dash": "dot"
         },
         "mode": "lines",
         "name": "-2 + 1x",
         "type": "scatter",
         "x": [
          -5,
          -4.795918367346939,
          -4.591836734693878,
          -4.387755102040816,
          -4.183673469387755,
          -3.979591836734694,
          -3.7755102040816326,
          -3.571428571428571,
          -3.36734693877551,
          -3.163265306122449,
          -2.9591836734693877,
          -2.7551020408163263,
          -2.5510204081632653,
          -2.3469387755102042,
          -2.142857142857143,
          -1.9387755102040813,
          -1.7346938775510203,
          -1.5306122448979593,
          -1.3265306122448979,
          -1.1224489795918364,
          -0.9183673469387754,
          -0.7142857142857144,
          -0.5102040816326525,
          -0.3061224489795915,
          -0.1020408163265305,
          0.1020408163265305,
          0.3061224489795915,
          0.5102040816326534,
          0.7142857142857144,
          0.9183673469387754,
          1.1224489795918373,
          1.3265306122448983,
          1.5306122448979593,
          1.7346938775510203,
          1.9387755102040813,
          2.1428571428571432,
          2.3469387755102042,
          2.5510204081632653,
          2.755102040816327,
          2.959183673469388,
          3.163265306122449,
          3.36734693877551,
          3.571428571428571,
          3.775510204081632,
          3.979591836734695,
          4.183673469387756,
          4.387755102040817,
          4.591836734693878,
          4.795918367346939,
          5
         ],
         "xaxis": "x",
         "y": [
          0.0009110511944006454,
          0.0011170811931621978,
          0.0013696400463504203,
          0.001679203480136282,
          0.002058589620678834,
          0.0025234746426817693,
          0.0030930178469232342,
          0.003790617322036654,
          0.004644820366812957,
          0.0056904157090228195,
          0.006969736830620178,
          0.008534206711527124,
          0.010446152970335543,
          0.012780917110651607,
          0.015629270047407048,
          0.01910012500746423,
          0.023323503827342336,
          0.028453657876082353,
          0.03467216343103182,
          0.04219069597562743,
          0.05125303242488787,
          0.062135633086429685,
          0.0751459247798907,
          0.09061717018214395,
          0.10889862283902968,
          0.13033962889780085,
          0.15526658480963063,
          0.18395236093127348,
          0.21657909576817594,
          0.2531971765857034,
          0.2936855245676385,
          0.33772042265646085,
          0.38476116399830324,
          0.4340597960291032,
          0.48469865693061814,
          0.5356536708339718,
          0.5858750436452654,
          0.6343723010841171,
          0.6802893905493407,
          0.7229583331871563,
          0.7619255315888127,
          0.7969511734148157,
          0.8279871670642386,
          0.8551415812183314,
          0.8786376449429102,
          0.8987737723518961,
          0.9158887903719538,
          0.9303343543370325,
          0.9424548614299819,
          0.9525741268224334
         ],
         "yaxis": "y"
        },
        {
         "line": {
          "dash": "dashdot"
         },
         "mode": "lines",
         "name": "2 + 5x",
         "type": "scatter",
         "x": [
          -5,
          -4.795918367346939,
          -4.591836734693878,
          -4.387755102040816,
          -4.183673469387755,
          -3.979591836734694,
          -3.7755102040816326,
          -3.571428571428571,
          -3.36734693877551,
          -3.163265306122449,
          -2.9591836734693877,
          -2.7551020408163263,
          -2.5510204081632653,
          -2.3469387755102042,
          -2.142857142857143,
          -1.9387755102040813,
          -1.7346938775510203,
          -1.5306122448979593,
          -1.3265306122448979,
          -1.1224489795918364,
          -0.9183673469387754,
          -0.7142857142857144,
          -0.5102040816326525,
          -0.3061224489795915,
          -0.1020408163265305,
          0.1020408163265305,
          0.3061224489795915,
          0.5102040816326534,
          0.7142857142857144,
          0.9183673469387754,
          1.1224489795918373,
          1.3265306122448983,
          1.5306122448979593,
          1.7346938775510203,
          1.9387755102040813,
          2.1428571428571432,
          2.3469387755102042,
          2.5510204081632653,
          2.755102040816327,
          2.959183673469388,
          3.163265306122449,
          3.36734693877551,
          3.571428571428571,
          3.775510204081632,
          3.979591836734695,
          4.183673469387756,
          4.387755102040817,
          4.591836734693878,
          4.795918367346939,
          5
         ],
         "xaxis": "x2",
         "y": [
          1.0261879630648827e-10,
          2.846980881392034e-10,
          7.898455671011146e-10,
          2.1912898094527708e-9,
          6.07935426503027e-9,
          1.6866115958438893e-8,
          4.679211799110886e-8,
          1.2981662139818522e-7,
          3.601536633130808e-7,
          9.991833617987925e-7,
          0.000002772056375373323,
          0.000007690552775395745,
          0.00002133581638795836,
          0.00005919028882837066,
          0.00016419596683970396,
          0.0004554006143229704,
          0.0012624101150099723,
          0.003494510901426813,
          0.009635173659044026,
          0.0262818091364752,
          0.06966564566296757,
          0.17201283293576125,
          0.3656276989158834,
          0.6152388360016972,
          0.8160476390687267,
          0.9248540752201094,
          0.9715463421239177,
          0.9895538470296645,
          0.9962093826779632,
          0.9986303599536496,
          0.9995058834496026,
          0.9998218404813165,
          0.9999357754775821,
          0.9999768494620139,
          0.9999916553162269,
          0.999996992161135,
          0.9999989158290471,
          0.9999996092127066,
          0.9999998591415492,
          0.9999999492278783,
          0.9999999816993005,
          0.9999999934035533,
          0.9999999976223253,
          0.9999999991429724,
          0.9999999996910862,
          0.9999999998886528,
          0.9999999999598652,
          0.9999999999855336,
          0.9999999999947855,
          0.9999999999981204
         ],
         "yaxis": "y2"
        },
        {
         "mode": "lines",
         "name": "0 + 5x",
         "type": "scatter",
         "x": [
          -5,
          -4.795918367346939,
          -4.591836734693878,
          -4.387755102040816,
          -4.183673469387755,
          -3.979591836734694,
          -3.7755102040816326,
          -3.571428571428571,
          -3.36734693877551,
          -3.163265306122449,
          -2.9591836734693877,
          -2.7551020408163263,
          -2.5510204081632653,
          -2.3469387755102042,
          -2.142857142857143,
          -1.9387755102040813,
          -1.7346938775510203,
          -1.5306122448979593,
          -1.3265306122448979,
          -1.1224489795918364,
          -0.9183673469387754,
          -0.7142857142857144,
          -0.5102040816326525,
          -0.3061224489795915,
          -0.1020408163265305,
          0.1020408163265305,
          0.3061224489795915,
          0.5102040816326534,
          0.7142857142857144,
          0.9183673469387754,
          1.1224489795918373,
          1.3265306122448983,
          1.5306122448979593,
          1.7346938775510203,
          1.9387755102040813,
          2.1428571428571432,
          2.3469387755102042,
          2.5510204081632653,
          2.755102040816327,
          2.959183673469388,
          3.163265306122449,
          3.36734693877551,
          3.571428571428571,
          3.775510204081632,
          3.979591836734695,
          4.183673469387756,
          4.387755102040817,
          4.591836734693878,
          4.795918367346939,
          5
         ],
         "xaxis": "x2",
         "y": [
          1.3887943864771144e-11,
          3.8529696404726013e-11,
          1.0689397360981571e-10,
          2.9655882757769305e-10,
          8.227511356784573e-10,
          2.2825806136249757e-9,
          6.33262479778251e-9,
          1.7568771197800345e-8,
          4.874151321187961e-8,
          1.3522488010304834e-7,
          3.7515793392481106e-7,
          0.000001040810059230615,
          0.000002887542024270028,
          0.00000801094450161596,
          0.00002222466301307212,
          0.00006165604935675795,
          0.00017103532605005042,
          0.00047436395137849156,
          0.001314933926745793,
          0.0036395650278466946,
          0.01003255518601338,
          0.027346786796182864,
          0.072357963335447,
          0.17790412471085576,
          0.3751456852515014,
          0.6248543147484986,
          0.8220958752891443,
          0.9276420366645534,
          0.9726532132038171,
          0.9899674448139867,
          0.9963604349721534,
          0.9986850660732542,
          0.9995256360486215,
          0.9998289646739499,
          0.9999383439506432,
          0.999977775336987,
          0.9999919890554985,
          0.9999971124579757,
          0.9999989591899406,
          0.9999996248420662,
          0.9999998647751199,
          0.9999999512584868,
          0.9999999824312288,
          0.9999999936673751,
          0.9999999977174194,
          0.9999999991772488,
          0.9999999997034412,
          0.999999999893106,
          0.9999999999614704,
          0.999999999986112
         ],
         "yaxis": "y2"
        },
        {
         "line": {
          "dash": "dot"
         },
         "mode": "lines",
         "name": "-2 + 5x",
         "type": "scatter",
         "x": [
          -5,
          -4.795918367346939,
          -4.591836734693878,
          -4.387755102040816,
          -4.183673469387755,
          -3.979591836734694,
          -3.7755102040816326,
          -3.571428571428571,
          -3.36734693877551,
          -3.163265306122449,
          -2.9591836734693877,
          -2.7551020408163263,
          -2.5510204081632653,
          -2.3469387755102042,
          -2.142857142857143,
          -1.9387755102040813,
          -1.7346938775510203,
          -1.5306122448979593,
          -1.3265306122448979,
          -1.1224489795918364,
          -0.9183673469387754,
          -0.7142857142857144,
          -0.5102040816326525,
          -0.3061224489795915,
          -0.1020408163265305,
          0.1020408163265305,
          0.3061224489795915,
          0.5102040816326534,
          0.7142857142857144,
          0.9183673469387754,
          1.1224489795918373,
          1.3265306122448983,
          1.5306122448979593,
          1.7346938775510203,
          1.9387755102040813,
          2.1428571428571432,
          2.3469387755102042,
          2.5510204081632653,
          2.755102040816327,
          2.959183673469388,
          3.163265306122449,
          3.36734693877551,
          3.571428571428571,
          3.775510204081632,
          3.979591836734695,
          4.183673469387756,
          4.387755102040817,
          4.591836734693878,
          4.795918367346939,
          5
         ],
         "xaxis": "x2",
         "y": [
          1.8795288165355508e-12,
          5.214427376128013e-12,
          1.4466526196108515e-11,
          4.0134872936836414e-11,
          1.1134725805950164e-10,
          3.089136944650301e-10,
          8.57027575331831e-10,
          2.3776746622930383e-9,
          6.596446773918516e-9,
          1.8300699589177413e-8,
          5.077212171593351e-8,
          1.408584509272982e-7,
          3.907872934126111e-7,
          0.0000010841709529338017,
          0.0000030078388649967767,
          0.000008344683773147019,
          0.000023150537986113917,
          0.00006422452241784402,
          0.00017815951868354005,
          0.0004941165503973957,
          0.0013696400463504214,
          0.003790617322036651,
          0.01044615297033557,
          0.028453657876082398,
          0.0751459247798907,
          0.18395236093127337,
          0.3847611639983028,
          0.6343723010841176,
          0.8279871670642388,
          0.9303343543370325,
          0.973718190863525,
          0.9903648263409561,
          0.9965054890985732,
          0.9987375898849901,
          0.999544599385677,
          0.9998358040331602,
          0.9999408097111716,
          0.9999786641836119,
          0.9999923094472246,
          0.9999972279436247,
          0.9999990008166383,
          0.9999996398463367,
          0.9999998701833785,
          0.999999953207882,
          0.999999983133884,
          0.9999999939206456,
          0.9999999978087102,
          0.9999999992101545,
          0.999999999715302,
          0.9999999998973812
         ],
         "yaxis": "y2"
        },
        {
         "line": {
          "dash": "dashdot"
         },
         "mode": "lines",
         "name": "2 + -1x",
         "type": "scatter",
         "x": [
          -5,
          -4.795918367346939,
          -4.591836734693878,
          -4.387755102040816,
          -4.183673469387755,
          -3.979591836734694,
          -3.7755102040816326,
          -3.571428571428571,
          -3.36734693877551,
          -3.163265306122449,
          -2.9591836734693877,
          -2.7551020408163263,
          -2.5510204081632653,
          -2.3469387755102042,
          -2.142857142857143,
          -1.9387755102040813,
          -1.7346938775510203,
          -1.5306122448979593,
          -1.3265306122448979,
          -1.1224489795918364,
          -0.9183673469387754,
          -0.7142857142857144,
          -0.5102040816326525,
          -0.3061224489795915,
          -0.1020408163265305,
          0.1020408163265305,
          0.3061224489795915,
          0.5102040816326534,
          0.7142857142857144,
          0.9183673469387754,
          1.1224489795918373,
          1.3265306122448983,
          1.5306122448979593,
          1.7346938775510203,
          1.9387755102040813,
          2.1428571428571432,
          2.3469387755102042,
          2.5510204081632653,
          2.755102040816327,
          2.959183673469388,
          3.163265306122449,
          3.36734693877551,
          3.571428571428571,
          3.775510204081632,
          3.979591836734695,
          4.183673469387756,
          4.387755102040817,
          4.591836734693878,
          4.795918367346939,
          5
         ],
         "xaxis": "x3",
         "y": [
          0.9990889488055994,
          0.9988829188068378,
          0.9986303599536496,
          0.9983207965198637,
          0.997941410379321,
          0.9974765253573182,
          0.9969069821530767,
          0.9962093826779632,
          0.995355179633187,
          0.9943095842909772,
          0.9930302631693799,
          0.9914657932884728,
          0.9895538470296645,
          0.9872190828893485,
          0.9843707299525929,
          0.9808998749925357,
          0.9766764961726577,
          0.9715463421239177,
          0.9653278365689683,
          0.9578093040243725,
          0.948746967575112,
          0.9378643669135703,
          0.9248540752201094,
          0.9093828298178561,
          0.8911013771609704,
          0.8696603711021992,
          0.8447334151903693,
          0.8160476390687265,
          0.783420904231824,
          0.7468028234142966,
          0.7063144754323615,
          0.6622795773435391,
          0.6152388360016968,
          0.5659402039708967,
          0.5153013430693819,
          0.46434632916602836,
          0.41412495635473456,
          0.36562769891588276,
          0.3197106094506593,
          0.27704166681284376,
          0.23807446841118726,
          0.20304882658518425,
          0.17201283293576136,
          0.14485841878166855,
          0.12136235505708977,
          0.10122622764810389,
          0.0841112096280462,
          0.06966564566296751,
          0.05754513857001805,
          0.04742587317756678
         ],
         "yaxis": "y3"
        },
        {
         "mode": "lines",
         "name": "0 + -1x",
         "type": "scatter",
         "x": [
          -5,
          -4.795918367346939,
          -4.591836734693878,
          -4.387755102040816,
          -4.183673469387755,
          -3.979591836734694,
          -3.7755102040816326,
          -3.571428571428571,
          -3.36734693877551,
          -3.163265306122449,
          -2.9591836734693877,
          -2.7551020408163263,
          -2.5510204081632653,
          -2.3469387755102042,
          -2.142857142857143,
          -1.9387755102040813,
          -1.7346938775510203,
          -1.5306122448979593,
          -1.3265306122448979,
          -1.1224489795918364,
          -0.9183673469387754,
          -0.7142857142857144,
          -0.5102040816326525,
          -0.3061224489795915,
          -0.1020408163265305,
          0.1020408163265305,
          0.3061224489795915,
          0.5102040816326534,
          0.7142857142857144,
          0.9183673469387754,
          1.1224489795918373,
          1.3265306122448983,
          1.5306122448979593,
          1.7346938775510203,
          1.9387755102040813,
          2.1428571428571432,
          2.3469387755102042,
          2.5510204081632653,
          2.755102040816327,
          2.959183673469388,
          3.163265306122449,
          3.36734693877551,
          3.571428571428571,
          3.775510204081632,
          3.979591836734695,
          4.183673469387756,
          4.387755102040817,
          4.591836734693878,
          4.795918367346939,
          5
         ],
         "xaxis": "x3",
         "y": [
          0.9933071490757153,
          0.9918043177546053,
          0.9899674448139867,
          0.9877239749285319,
          0.9849864309429661,
          0.9816497582943083,
          0.9775884035819675,
          0.9726532132038171,
          0.9666683134661466,
          0.9594282415769078,
          0.9506957440346279,
          0.9402008480306404,
          0.9276420366645531,
          0.9126905973613403,
          0.8949994149797352,
          0.87421755878138,
          0.8500118344412885,
          0.8220958752891444,
          0.7902661783003759,
          0.7544426944097362,
          0.7147093246243483,
          0.6713474534827301,
          0.6248543147484986,
          0.575938513848248,
          0.5254880920536781,
          0.4745119079463219,
          0.424061486151752,
          0.3751456852515011,
          0.32865254651727,
          0.2852906753756516,
          0.24555730559026365,
          0.20973382169962393,
          0.1779041247108555,
          0.14998816555871142,
          0.12578244121862014,
          0.10500058502026478,
          0.08730940263865966,
          0.07235796333544683,
          0.059799151969359525,
          0.04930425596537219,
          0.040571758423092276,
          0.033331686533853294,
          0.02734678679618289,
          0.022411596418032455,
          0.018350241705691755,
          0.015013569057033835,
          0.012276025071468188,
          0.010032555186013372,
          0.008195682245394699,
          0.0066928509242848554
         ],
         "yaxis": "y3"
        },
        {
         "line": {
          "dash": "dot"
         },
         "mode": "lines",
         "name": "-2 + -1x",
         "type": "scatter",
         "x": [
          -5,
          -4.795918367346939,
          -4.591836734693878,
          -4.387755102040816,
          -4.183673469387755,
          -3.979591836734694,
          -3.7755102040816326,
          -3.571428571428571,
          -3.36734693877551,
          -3.163265306122449,
          -2.9591836734693877,
          -2.7551020408163263,
          -2.5510204081632653,
          -2.3469387755102042,
          -2.142857142857143,
          -1.9387755102040813,
          -1.7346938775510203,
          -1.5306122448979593,
          -1.3265306122448979,
          -1.1224489795918364,
          -0.9183673469387754,
          -0.7142857142857144,
          -0.5102040816326525,
          -0.3061224489795915,
          -0.1020408163265305,
          0.1020408163265305,
          0.3061224489795915,
          0.5102040816326534,
          0.7142857142857144,
          0.9183673469387754,
          1.1224489795918373,
          1.3265306122448983,
          1.5306122448979593,
          1.7346938775510203,
          1.9387755102040813,
          2.1428571428571432,
          2.3469387755102042,
          2.5510204081632653,
          2.755102040816327,
          2.959183673469388,
          3.163265306122449,
          3.36734693877551,
          3.571428571428571,
          3.775510204081632,
          3.979591836734695,
          4.183673469387756,
          4.387755102040817,
          4.591836734693878,
          4.795918367346939,
          5
         ],
         "xaxis": "x3",
         "y": [
          0.9525741268224334,
          0.9424548614299819,
          0.9303343543370325,
          0.9158887903719538,
          0.8987737723518959,
          0.8786376449429102,
          0.8551415812183314,
          0.8279871670642386,
          0.7969511734148157,
          0.7619255315888127,
          0.7229583331871562,
          0.6802893905493405,
          0.6343723010841171,
          0.5858750436452654,
          0.5356536708339716,
          0.48469865693061814,
          0.4340597960291032,
          0.38476116399830324,
          0.33772042265646074,
          0.2936855245676383,
          0.2531971765857034,
          0.21657909576817594,
          0.18395236093127337,
          0.15526658480963063,
          0.13033962889780085,
          0.10889862283902968,
          0.09061717018214395,
          0.07514592477989064,
          0.062135633086429685,
          0.05125303242488787,
          0.0421906959756274,
          0.034672163431031806,
          0.028453657876082353,
          0.023323503827342336,
          0.01910012500746423,
          0.015629270047407037,
          0.012780917110651607,
          0.010446152970335543,
          0.008534206711527118,
          0.006969736830620178,
          0.0056904157090228195,
          0.004644820366812957,
          0.003790617322036654,
          0.0030930178469232342,
          0.002523474642681767,
          0.002058589620678832,
          0.0016792034801362808,
          0.0013696400463504203,
          0.0011170811931621978,
          0.0009110511944006454
         ],
         "yaxis": "y3"
        }
       ],
       "layout": {
        "height": 250,
        "template": {
         "data": {
          "bar": [
           {
            "error_x": {
             "color": "rgb(36,36,36)"
            },
            "error_y": {
             "color": "rgb(36,36,36)"
            },
            "marker": {
             "line": {
              "color": "white",
              "width": 0.5
             },
             "pattern": {
              "fillmode": "overlay",
              "size": 10,
              "solidity": 0.2
             }
            },
            "type": "bar"
           }
          ],
          "barpolar": [
           {
            "marker": {
             "line": {
              "color": "white",
              "width": 0.5
             },
             "pattern": {
              "fillmode": "overlay",
              "size": 10,
              "solidity": 0.2
             }
            },
            "type": "barpolar"
           }
          ],
          "carpet": [
           {
            "aaxis": {
             "endlinecolor": "rgb(36,36,36)",
             "gridcolor": "white",
             "linecolor": "white",
             "minorgridcolor": "white",
             "startlinecolor": "rgb(36,36,36)"
            },
            "baxis": {
             "endlinecolor": "rgb(36,36,36)",
             "gridcolor": "white",
             "linecolor": "white",
             "minorgridcolor": "white",
             "startlinecolor": "rgb(36,36,36)"
            },
            "type": "carpet"
           }
          ],
          "choropleth": [
           {
            "colorbar": {
             "outlinewidth": 1,
             "tickcolor": "rgb(36,36,36)",
             "ticks": "outside"
            },
            "type": "choropleth"
           }
          ],
          "contour": [
           {
            "colorbar": {
             "outlinewidth": 1,
             "tickcolor": "rgb(36,36,36)",
             "ticks": "outside"
            },
            "colorscale": [
             [
              0,
              "#440154"
             ],
             [
              0.1111111111111111,
              "#482878"
             ],
             [
              0.2222222222222222,
              "#3e4989"
             ],
             [
              0.3333333333333333,
              "#31688e"
             ],
             [
              0.4444444444444444,
              "#26828e"
             ],
             [
              0.5555555555555556,
              "#1f9e89"
             ],
             [
              0.6666666666666666,
              "#35b779"
             ],
             [
              0.7777777777777778,
              "#6ece58"
             ],
             [
              0.8888888888888888,
              "#b5de2b"
             ],
             [
              1,
              "#fde725"
             ]
            ],
            "type": "contour"
           }
          ],
          "contourcarpet": [
           {
            "colorbar": {
             "outlinewidth": 1,
             "tickcolor": "rgb(36,36,36)",
             "ticks": "outside"
            },
            "type": "contourcarpet"
           }
          ],
          "heatmap": [
           {
            "colorbar": {
             "outlinewidth": 1,
             "tickcolor": "rgb(36,36,36)",
             "ticks": "outside"
            },
            "colorscale": [
             [
              0,
              "#440154"
             ],
             [
              0.1111111111111111,
              "#482878"
             ],
             [
              0.2222222222222222,
              "#3e4989"
             ],
             [
              0.3333333333333333,
              "#31688e"
             ],
             [
              0.4444444444444444,
              "#26828e"
             ],
             [
              0.5555555555555556,
              "#1f9e89"
             ],
             [
              0.6666666666666666,
              "#35b779"
             ],
             [
              0.7777777777777778,
              "#6ece58"
             ],
             [
              0.8888888888888888,
              "#b5de2b"
             ],
             [
              1,
              "#fde725"
             ]
            ],
            "type": "heatmap"
           }
          ],
          "heatmapgl": [
           {
            "colorbar": {
             "outlinewidth": 1,
             "tickcolor": "rgb(36,36,36)",
             "ticks": "outside"
            },
            "colorscale": [
             [
              0,
              "#440154"
             ],
             [
              0.1111111111111111,
              "#482878"
             ],
             [
              0.2222222222222222,
              "#3e4989"
             ],
             [
              0.3333333333333333,
              "#31688e"
             ],
             [
              0.4444444444444444,
              "#26828e"
             ],
             [
              0.5555555555555556,
              "#1f9e89"
             ],
             [
              0.6666666666666666,
              "#35b779"
             ],
             [
              0.7777777777777778,
              "#6ece58"
             ],
             [
              0.8888888888888888,
              "#b5de2b"
             ],
             [
              1,
              "#fde725"
             ]
            ],
            "type": "heatmapgl"
           }
          ],
          "histogram": [
           {
            "marker": {
             "line": {
              "color": "white",
              "width": 0.6
             }
            },
            "type": "histogram"
           }
          ],
          "histogram2d": [
           {
            "colorbar": {
             "outlinewidth": 1,
             "tickcolor": "rgb(36,36,36)",
             "ticks": "outside"
            },
            "colorscale": [
             [
              0,
              "#440154"
             ],
             [
              0.1111111111111111,
              "#482878"
             ],
             [
              0.2222222222222222,
              "#3e4989"
             ],
             [
              0.3333333333333333,
              "#31688e"
             ],
             [
              0.4444444444444444,
              "#26828e"
             ],
             [
              0.5555555555555556,
              "#1f9e89"
             ],
             [
              0.6666666666666666,
              "#35b779"
             ],
             [
              0.7777777777777778,
              "#6ece58"
             ],
             [
              0.8888888888888888,
              "#b5de2b"
             ],
             [
              1,
              "#fde725"
             ]
            ],
            "type": "histogram2d"
           }
          ],
          "histogram2dcontour": [
           {
            "colorbar": {
             "outlinewidth": 1,
             "tickcolor": "rgb(36,36,36)",
             "ticks": "outside"
            },
            "colorscale": [
             [
              0,
              "#440154"
             ],
             [
              0.1111111111111111,
              "#482878"
             ],
             [
              0.2222222222222222,
              "#3e4989"
             ],
             [
              0.3333333333333333,
              "#31688e"
             ],
             [
              0.4444444444444444,
              "#26828e"
             ],
             [
              0.5555555555555556,
              "#1f9e89"
             ],
             [
              0.6666666666666666,
              "#35b779"
             ],
             [
              0.7777777777777778,
              "#6ece58"
             ],
             [
              0.8888888888888888,
              "#b5de2b"
             ],
             [
              1,
              "#fde725"
             ]
            ],
            "type": "histogram2dcontour"
           }
          ],
          "mesh3d": [
           {
            "colorbar": {
             "outlinewidth": 1,
             "tickcolor": "rgb(36,36,36)",
             "ticks": "outside"
            },
            "type": "mesh3d"
           }
          ],
          "parcoords": [
           {
            "line": {
             "colorbar": {
              "outlinewidth": 1,
              "tickcolor": "rgb(36,36,36)",
              "ticks": "outside"
             }
            },
            "type": "parcoords"
           }
          ],
          "pie": [
           {
            "automargin": true,
            "type": "pie"
           }
          ],
          "scatter": [
           {
            "fillpattern": {
             "fillmode": "overlay",
             "size": 10,
             "solidity": 0.2
            },
            "type": "scatter"
           }
          ],
          "scatter3d": [
           {
            "line": {
             "colorbar": {
              "outlinewidth": 1,
              "tickcolor": "rgb(36,36,36)",
              "ticks": "outside"
             }
            },
            "marker": {
             "colorbar": {
              "outlinewidth": 1,
              "tickcolor": "rgb(36,36,36)",
              "ticks": "outside"
             }
            },
            "type": "scatter3d"
           }
          ],
          "scattercarpet": [
           {
            "marker": {
             "colorbar": {
              "outlinewidth": 1,
              "tickcolor": "rgb(36,36,36)",
              "ticks": "outside"
             }
            },
            "type": "scattercarpet"
           }
          ],
          "scattergeo": [
           {
            "marker": {
             "colorbar": {
              "outlinewidth": 1,
              "tickcolor": "rgb(36,36,36)",
              "ticks": "outside"
             }
            },
            "type": "scattergeo"
           }
          ],
          "scattergl": [
           {
            "marker": {
             "colorbar": {
              "outlinewidth": 1,
              "tickcolor": "rgb(36,36,36)",
              "ticks": "outside"
             }
            },
            "type": "scattergl"
           }
          ],
          "scattermapbox": [
           {
            "marker": {
             "colorbar": {
              "outlinewidth": 1,
              "tickcolor": "rgb(36,36,36)",
              "ticks": "outside"
             }
            },
            "type": "scattermapbox"
           }
          ],
          "scatterpolar": [
           {
            "marker": {
             "colorbar": {
              "outlinewidth": 1,
              "tickcolor": "rgb(36,36,36)",
              "ticks": "outside"
             }
            },
            "type": "scatterpolar"
           }
          ],
          "scatterpolargl": [
           {
            "marker": {
             "colorbar": {
              "outlinewidth": 1,
              "tickcolor": "rgb(36,36,36)",
              "ticks": "outside"
             }
            },
            "type": "scatterpolargl"
           }
          ],
          "scatterternary": [
           {
            "marker": {
             "colorbar": {
              "outlinewidth": 1,
              "tickcolor": "rgb(36,36,36)",
              "ticks": "outside"
             }
            },
            "type": "scatterternary"
           }
          ],
          "surface": [
           {
            "colorbar": {
             "outlinewidth": 1,
             "tickcolor": "rgb(36,36,36)",
             "ticks": "outside"
            },
            "colorscale": [
             [
              0,
              "#440154"
             ],
             [
              0.1111111111111111,
              "#482878"
             ],
             [
              0.2222222222222222,
              "#3e4989"
             ],
             [
              0.3333333333333333,
              "#31688e"
             ],
             [
              0.4444444444444444,
              "#26828e"
             ],
             [
              0.5555555555555556,
              "#1f9e89"
             ],
             [
              0.6666666666666666,
              "#35b779"
             ],
             [
              0.7777777777777778,
              "#6ece58"
             ],
             [
              0.8888888888888888,
              "#b5de2b"
             ],
             [
              1,
              "#fde725"
             ]
            ],
            "type": "surface"
           }
          ],
          "table": [
           {
            "cells": {
             "fill": {
              "color": "rgb(237,237,237)"
             },
             "line": {
              "color": "white"
             }
            },
            "header": {
             "fill": {
              "color": "rgb(217,217,217)"
             },
             "line": {
              "color": "white"
             }
            },
            "type": "table"
           }
          ]
         },
         "layout": {
          "annotationdefaults": {
           "arrowhead": 0,
           "arrowwidth": 1
          },
          "autosize": true,
          "autotypenumbers": "strict",
          "coloraxis": {
           "colorbar": {
            "outlinewidth": 1,
            "tickcolor": "rgb(36,36,36)",
            "ticks": "outside"
           }
          },
          "colorscale": {
           "diverging": [
            [
             0,
             "rgb(103,0,31)"
            ],
            [
             0.1,
             "rgb(178,24,43)"
            ],
            [
             0.2,
             "rgb(214,96,77)"
            ],
            [
             0.3,
             "rgb(244,165,130)"
            ],
            [
             0.4,
             "rgb(253,219,199)"
            ],
            [
             0.5,
             "rgb(247,247,247)"
            ],
            [
             0.6,
             "rgb(209,229,240)"
            ],
            [
             0.7,
             "rgb(146,197,222)"
            ],
            [
             0.8,
             "rgb(67,147,195)"
            ],
            [
             0.9,
             "rgb(33,102,172)"
            ],
            [
             1,
             "rgb(5,48,97)"
            ]
           ],
           "sequential": [
            [
             0,
             "#440154"
            ],
            [
             0.1111111111111111,
             "#482878"
            ],
            [
             0.2222222222222222,
             "#3e4989"
            ],
            [
             0.3333333333333333,
             "#31688e"
            ],
            [
             0.4444444444444444,
             "#26828e"
            ],
            [
             0.5555555555555556,
             "#1f9e89"
            ],
            [
             0.6666666666666666,
             "#35b779"
            ],
            [
             0.7777777777777778,
             "#6ece58"
            ],
            [
             0.8888888888888888,
             "#b5de2b"
            ],
            [
             1,
             "#fde725"
            ]
           ],
           "sequentialminus": [
            [
             0,
             "#440154"
            ],
            [
             0.1111111111111111,
             "#482878"
            ],
            [
             0.2222222222222222,
             "#3e4989"
            ],
            [
             0.3333333333333333,
             "#31688e"
            ],
            [
             0.4444444444444444,
             "#26828e"
            ],
            [
             0.5555555555555556,
             "#1f9e89"
            ],
            [
             0.6666666666666666,
             "#35b779"
            ],
            [
             0.7777777777777778,
             "#6ece58"
            ],
            [
             0.8888888888888888,
             "#b5de2b"
            ],
            [
             1,
             "#fde725"
            ]
           ]
          },
          "colorway": [
           "#1F77B4",
           "#FF7F0E",
           "#2CA02C",
           "#D62728",
           "#9467BD",
           "#8C564B",
           "#E377C2",
           "#7F7F7F",
           "#BCBD22",
           "#17BECF"
          ],
          "font": {
           "color": "rgb(36,36,36)"
          },
          "geo": {
           "bgcolor": "white",
           "lakecolor": "white",
           "landcolor": "white",
           "showlakes": true,
           "showland": true,
           "subunitcolor": "white"
          },
          "height": 250,
          "hoverlabel": {
           "align": "left"
          },
          "hovermode": "closest",
          "mapbox": {
           "style": "light"
          },
          "margin": {
           "b": 10,
           "l": 10,
           "r": 10,
           "t": 10
          },
          "paper_bgcolor": "white",
          "plot_bgcolor": "white",
          "polar": {
           "angularaxis": {
            "gridcolor": "rgb(232,232,232)",
            "linecolor": "rgb(36,36,36)",
            "showgrid": false,
            "showline": true,
            "ticks": "outside"
           },
           "bgcolor": "white",
           "radialaxis": {
            "gridcolor": "rgb(232,232,232)",
            "linecolor": "rgb(36,36,36)",
            "showgrid": false,
            "showline": true,
            "ticks": "outside"
           }
          },
          "scene": {
           "xaxis": {
            "backgroundcolor": "white",
            "gridcolor": "rgb(232,232,232)",
            "gridwidth": 2,
            "linecolor": "rgb(36,36,36)",
            "showbackground": true,
            "showgrid": false,
            "showline": true,
            "ticks": "outside",
            "zeroline": false,
            "zerolinecolor": "rgb(36,36,36)"
           },
           "yaxis": {
            "backgroundcolor": "white",
            "gridcolor": "rgb(232,232,232)",
            "gridwidth": 2,
            "linecolor": "rgb(36,36,36)",
            "showbackground": true,
            "showgrid": false,
            "showline": true,
            "ticks": "outside",
            "zeroline": false,
            "zerolinecolor": "rgb(36,36,36)"
           },
           "zaxis": {
            "backgroundcolor": "white",
            "gridcolor": "rgb(232,232,232)",
            "gridwidth": 2,
            "linecolor": "rgb(36,36,36)",
            "showbackground": true,
            "showgrid": false,
            "showline": true,
            "ticks": "outside",
            "zeroline": false,
            "zerolinecolor": "rgb(36,36,36)"
           }
          },
          "shapedefaults": {
           "fillcolor": "black",
           "line": {
            "width": 0
           },
           "opacity": 0.3
          },
          "ternary": {
           "aaxis": {
            "gridcolor": "rgb(232,232,232)",
            "linecolor": "rgb(36,36,36)",
            "showgrid": false,
            "showline": true,
            "ticks": "outside"
           },
           "baxis": {
            "gridcolor": "rgb(232,232,232)",
            "linecolor": "rgb(36,36,36)",
            "showgrid": false,
            "showline": true,
            "ticks": "outside"
           },
           "bgcolor": "white",
           "caxis": {
            "gridcolor": "rgb(232,232,232)",
            "linecolor": "rgb(36,36,36)",
            "showgrid": false,
            "showline": true,
            "ticks": "outside"
           }
          },
          "title": {
           "x": 0.5,
           "xanchor": "center"
          },
          "width": 350,
          "xaxis": {
           "automargin": true,
           "gridcolor": "rgb(232,232,232)",
           "linecolor": "rgb(36,36,36)",
           "showgrid": true,
           "showline": true,
           "ticks": "outside",
           "title": {
            "standoff": 15
           },
           "zeroline": false,
           "zerolinecolor": "rgb(36,36,36)"
          },
          "yaxis": {
           "automargin": true,
           "gridcolor": "rgb(232,232,232)",
           "linecolor": "rgb(36,36,36)",
           "showgrid": true,
           "showline": true,
           "ticks": "outside",
           "title": {
            "standoff": 15
           },
           "zeroline": false,
           "zerolinecolor": "rgb(36,36,36)"
          }
         }
        },
        "width": 800,
        "xaxis": {
         "anchor": "y",
         "domain": [
          0,
          0.2888888888888889
         ]
        },
        "xaxis2": {
         "anchor": "y2",
         "domain": [
          0.35555555555555557,
          0.6444444444444445
         ]
        },
        "xaxis3": {
         "anchor": "y3",
         "domain": [
          0.7111111111111111,
          1
         ]
        },
        "yaxis": {
         "anchor": "x",
         "domain": [
          0,
          1
         ]
        },
        "yaxis2": {
         "anchor": "x2",
         "domain": [
          0,
          1
         ]
        },
        "yaxis3": {
         "anchor": "x3",
         "domain": [
          0,
          1
         ]
        }
       }
      },
      "image/svg+xml": [
       "<svg class=\"main-svg\" xmlns=\"http://www.w3.org/2000/svg\" xmlns:xlink=\"http://www.w3.org/1999/xlink\" width=\"800\" height=\"250\" style=\"\" viewBox=\"0 0 800 250\"><rect x=\"0\" y=\"0\" width=\"800\" height=\"250\" style=\"fill: rgb(255, 255, 255); fill-opacity: 1;\"/><defs id=\"defs-a3ca9c\"><g class=\"clips\"><clipPath id=\"clipa3ca9cxyplot\" class=\"plotclip\"><rect width=\"185.4666666666667\" height=\"207\"/></clipPath><clipPath id=\"clipa3ca9cx2y2plot\" class=\"plotclip\"><rect width=\"185.4666666666667\" height=\"207\"/></clipPath><clipPath id=\"clipa3ca9cx3y3plot\" class=\"plotclip\"><rect width=\"185.46666666666664\" height=\"207\"/></clipPath><clipPath class=\"axesclip\" id=\"clipa3ca9cx\"><rect x=\"38\" y=\"0\" width=\"185.4666666666667\" height=\"250\"/></clipPath><clipPath class=\"axesclip\" id=\"clipa3ca9cy\"><rect x=\"0\" y=\"10\" width=\"800\" height=\"207\"/></clipPath><clipPath class=\"axesclip\" id=\"clipa3ca9cxy\"><rect x=\"38\" y=\"10\" width=\"185.4666666666667\" height=\"207\"/></clipPath><clipPath class=\"axesclip\" id=\"clipa3ca9cy2\"><rect x=\"0\" y=\"10\" width=\"800\" height=\"207\"/></clipPath><clipPath class=\"axesclip\" id=\"clipa3ca9cxy2\"><rect x=\"38\" y=\"10\" width=\"185.4666666666667\" height=\"207\"/></clipPath><clipPath class=\"axesclip\" id=\"clipa3ca9cy3\"><rect x=\"0\" y=\"10\" width=\"800\" height=\"207\"/></clipPath><clipPath class=\"axesclip\" id=\"clipa3ca9cxy3\"><rect x=\"38\" y=\"10\" width=\"185.4666666666667\" height=\"207\"/></clipPath><clipPath class=\"axesclip\" id=\"clipa3ca9cx2\"><rect x=\"266.26666666666665\" y=\"0\" width=\"185.4666666666667\" height=\"250\"/></clipPath><clipPath class=\"axesclip\" id=\"clipa3ca9cx2y\"><rect x=\"266.26666666666665\" y=\"10\" width=\"185.4666666666667\" height=\"207\"/></clipPath><clipPath class=\"axesclip\" id=\"clipa3ca9cx2y2\"><rect x=\"266.26666666666665\" y=\"10\" width=\"185.4666666666667\" height=\"207\"/></clipPath><clipPath class=\"axesclip\" id=\"clipa3ca9cx2y3\"><rect x=\"266.26666666666665\" y=\"10\" width=\"185.4666666666667\" height=\"207\"/></clipPath><clipPath class=\"axesclip\" id=\"clipa3ca9cx3\"><rect x=\"494.53333333333336\" y=\"0\" width=\"185.46666666666664\" height=\"250\"/></clipPath><clipPath class=\"axesclip\" id=\"clipa3ca9cx3y\"><rect x=\"494.53333333333336\" y=\"10\" width=\"185.46666666666664\" height=\"207\"/></clipPath><clipPath class=\"axesclip\" id=\"clipa3ca9cx3y2\"><rect x=\"494.53333333333336\" y=\"10\" width=\"185.46666666666664\" height=\"207\"/></clipPath><clipPath class=\"axesclip\" id=\"clipa3ca9cx3y3\"><rect x=\"494.53333333333336\" y=\"10\" width=\"185.46666666666664\" height=\"207\"/></clipPath></g><g class=\"gradients\"/><g class=\"patterns\"/></defs><g class=\"bglayer\"/><g class=\"layer-below\"><g class=\"imagelayer\"/><g class=\"shapelayer\"/></g><g class=\"cartesianlayer\"><g class=\"subplot xy\"><g class=\"layer-subplot\"><g class=\"shapelayer\"/><g class=\"imagelayer\"/></g><g class=\"minor-gridlayer\"><g class=\"x\"/><g class=\"y\"/></g><g class=\"gridlayer\"><g class=\"x\"><path class=\"xgrid crisp\" transform=\"translate(130.73000000000002,0)\" d=\"M0,10v207\" style=\"stroke: rgb(232, 232, 232); stroke-opacity: 1; stroke-width: 1px;\"/></g><g class=\"y\"><path class=\"ygrid crisp\" transform=\"translate(0,206.82)\" d=\"M38,0h185.4666666666667\" style=\"stroke: rgb(232, 232, 232); stroke-opacity: 1; stroke-width: 1px;\"/><path class=\"ygrid crisp\" transform=\"translate(0,169.49)\" d=\"M38,0h185.4666666666667\" style=\"stroke: rgb(232, 232, 232); stroke-opacity: 1; stroke-width: 1px;\"/><path class=\"ygrid crisp\" transform=\"translate(0,132.16)\" d=\"M38,0h185.4666666666667\" style=\"stroke: rgb(232, 232, 232); stroke-opacity: 1; stroke-width: 1px;\"/><path class=\"ygrid crisp\" transform=\"translate(0,94.84)\" d=\"M38,0h185.4666666666667\" style=\"stroke: rgb(232, 232, 232); stroke-opacity: 1; stroke-width: 1px;\"/><path class=\"ygrid crisp\" transform=\"translate(0,57.51)\" d=\"M38,0h185.4666666666667\" style=\"stroke: rgb(232, 232, 232); stroke-opacity: 1; stroke-width: 1px;\"/><path class=\"ygrid crisp\" transform=\"translate(0,20.18)\" d=\"M38,0h185.4666666666667\" style=\"stroke: rgb(232, 232, 232); stroke-opacity: 1; stroke-width: 1px;\"/></g></g><g class=\"zerolinelayer\"/><path class=\"xlines-below\"/><path class=\"ylines-below\"/><g class=\"overlines-below\"/><g class=\"xaxislayer-below\"/><g class=\"yaxislayer-below\"/><g class=\"overaxes-below\"/><g class=\"plot\" transform=\"translate(38,10)\" clip-path=\"url(#clipa3ca9cxyplot)\"><g class=\"scatterlayer mlayer\"><g class=\"trace scatter trace7e2f4c\" style=\"stroke-miterlimit: 2; opacity: 1;\"><g class=\"fills\"/><g class=\"errorbars\"/><g class=\"lines\"><path class=\"js-line\" d=\"M0,187.97L7.57,183.82L11.36,181.12L18.93,174.17L22.71,169.78L30.28,158.92L34.07,152.39L41.64,137.15L45.42,128.58L71.92,64.99L75.7,57.44L83.27,44.51L87.06,39.16L94.63,30.5L98.41,27.09L105.98,21.78L109.77,19.75L117.34,16.65L121.12,15.49L132.48,13.1L136.26,12.57L155.19,11.05L158.97,10.89L185.47,10.35\" style=\"vector-effect: none; fill: none; stroke: rgb(31, 119, 180); stroke-opacity: 1; stroke-dasharray: 9px, 3px, 3px, 3px; stroke-width: 2px; opacity: 1;\"/></g><g class=\"points\"/><g class=\"text\"/></g><g class=\"trace scatter trace158a62\" style=\"stroke-miterlimit: 2; opacity: 1;\"><g class=\"fills\"/><g class=\"errorbars\"/><g class=\"lines\"><path class=\"js-line\" d=\"M0,195.57L15.14,194.02L18.93,193.4L30.28,190.6L34.07,189.25L41.64,185.66L45.42,183.32L52.99,177.22L56.78,173.34L64.35,163.62L68.13,157.68L75.7,143.57L79.49,135.48L90.84,108.26L94.63,98.74L105.98,71.52L109.77,63.43L117.34,49.32L121.12,43.38L128.69,33.66L132.48,29.78L140.05,23.68L143.83,21.34L151.4,17.75L155.19,16.4L166.54,13.6L170.33,12.98L185.47,11.43\" style=\"vector-effect: none; fill: none; stroke: rgb(255, 127, 14); stroke-opacity: 1; stroke-width: 2px; opacity: 1;\"/></g><g class=\"points\"/><g class=\"text\"/></g><g class=\"trace scatter tracec50515\" style=\"stroke-miterlimit: 2; opacity: 1;\"><g class=\"fills\"/><g class=\"errorbars\"/><g class=\"lines\"><path class=\"js-line\" d=\"M0,196.65L37.85,195.52L41.64,195.23L56.78,193.26L60.56,192.47L71.92,188.95L75.7,187.25L83.27,182.79L87.06,179.91L94.63,172.49L98.41,167.84L105.98,156.4L109.77,149.56L117.34,133.79L121.12,125.01L143.83,69.85L147.62,61.89L155.19,48.08L158.97,42.28L166.54,32.83L170.33,29.07L177.9,23.18L181.68,20.92L185.47,19.03\" style=\"vector-effect: none; fill: none; stroke: rgb(44, 160, 44); stroke-opacity: 1; stroke-dasharray: 3px, 3px; stroke-width: 2px; opacity: 1;\"/></g><g class=\"points\"/><g class=\"text\"/></g></g></g><g class=\"overplot\"/><path class=\"xlines-above crisp\" d=\"M37,217.5H223.4666666666667\" style=\"fill: none; stroke-width: 1px; stroke: rgb(36, 36, 36); stroke-opacity: 1;\"/><path class=\"ylines-above crisp\" d=\"M37.5,10V217\" style=\"fill: none; stroke-width: 1px; stroke: rgb(36, 36, 36); stroke-opacity: 1;\"/><g class=\"overlines-above\"/><g class=\"xaxislayer-above\"><path class=\"xtick ticks crisp\" d=\"M0,218v5\" transform=\"translate(38,0)\" style=\"stroke: rgb(68, 68, 68); stroke-opacity: 1; stroke-width: 1px;\"/><path class=\"xtick ticks crisp\" d=\"M0,218v5\" transform=\"translate(130.73000000000002,0)\" style=\"stroke: rgb(68, 68, 68); stroke-opacity: 1; stroke-width: 1px;\"/><path class=\"xtick ticks crisp\" d=\"M0,218v5\" transform=\"translate(223.47,0)\" style=\"stroke: rgb(68, 68, 68); stroke-opacity: 1; stroke-width: 1px;\"/><g class=\"xtick\"><text text-anchor=\"middle\" x=\"0\" y=\"237.4\" transform=\"translate(38,0)\" style=\"font-family: 'Open Sans', verdana, arial, sans-serif; font-size: 12px; fill: rgb(36, 36, 36); fill-opacity: 1; white-space: pre; opacity: 1;\">−5</text></g><g class=\"xtick\"><text text-anchor=\"middle\" x=\"0\" y=\"237.4\" style=\"font-family: 'Open Sans', verdana, arial, sans-serif; font-size: 12px; fill: rgb(36, 36, 36); fill-opacity: 1; white-space: pre; opacity: 1;\" transform=\"translate(130.73000000000002,0)\">0</text></g><g class=\"xtick\"><text text-anchor=\"middle\" x=\"0\" y=\"237.4\" style=\"font-family: 'Open Sans', verdana, arial, sans-serif; font-size: 12px; fill: rgb(36, 36, 36); fill-opacity: 1; white-space: pre; opacity: 1;\" transform=\"translate(223.47,0)\">5</text></g></g><g class=\"yaxislayer-above\"><path class=\"ytick ticks crisp\" d=\"M37,0h-5\" transform=\"translate(0,206.82)\" style=\"stroke: rgb(68, 68, 68); stroke-opacity: 1; stroke-width: 1px;\"/><path class=\"ytick ticks crisp\" d=\"M37,0h-5\" transform=\"translate(0,169.49)\" style=\"stroke: rgb(68, 68, 68); stroke-opacity: 1; stroke-width: 1px;\"/><path class=\"ytick ticks crisp\" d=\"M37,0h-5\" transform=\"translate(0,132.16)\" style=\"stroke: rgb(68, 68, 68); stroke-opacity: 1; stroke-width: 1px;\"/><path class=\"ytick ticks crisp\" d=\"M37,0h-5\" transform=\"translate(0,94.84)\" style=\"stroke: rgb(68, 68, 68); stroke-opacity: 1; stroke-width: 1px;\"/><path class=\"ytick ticks crisp\" d=\"M37,0h-5\" transform=\"translate(0,57.51)\" style=\"stroke: rgb(68, 68, 68); stroke-opacity: 1; stroke-width: 1px;\"/><path class=\"ytick ticks crisp\" d=\"M37,0h-5\" transform=\"translate(0,20.18)\" style=\"stroke: rgb(68, 68, 68); stroke-opacity: 1; stroke-width: 1px;\"/><g class=\"ytick\"><text text-anchor=\"end\" x=\"29.6\" y=\"4.199999999999999\" transform=\"translate(0,206.82)\" style=\"font-family: 'Open Sans', verdana, arial, sans-serif; font-size: 12px; fill: rgb(36, 36, 36); fill-opacity: 1; white-space: pre; opacity: 1;\">0</text></g><g class=\"ytick\"><text text-anchor=\"end\" x=\"29.6\" y=\"4.199999999999999\" style=\"font-family: 'Open Sans', verdana, arial, sans-serif; font-size: 12px; fill: rgb(36, 36, 36); fill-opacity: 1; white-space: pre; opacity: 1;\" transform=\"translate(0,169.49)\">0.2</text></g><g class=\"ytick\"><text text-anchor=\"end\" x=\"29.6\" y=\"4.199999999999999\" style=\"font-family: 'Open Sans', verdana, arial, sans-serif; font-size: 12px; fill: rgb(36, 36, 36); fill-opacity: 1; white-space: pre; opacity: 1;\" transform=\"translate(0,132.16)\">0.4</text></g><g class=\"ytick\"><text text-anchor=\"end\" x=\"29.6\" y=\"4.199999999999999\" style=\"font-family: 'Open Sans', verdana, arial, sans-serif; font-size: 12px; fill: rgb(36, 36, 36); fill-opacity: 1; white-space: pre; opacity: 1;\" transform=\"translate(0,94.84)\">0.6</text></g><g class=\"ytick\"><text text-anchor=\"end\" x=\"29.6\" y=\"4.199999999999999\" style=\"font-family: 'Open Sans', verdana, arial, sans-serif; font-size: 12px; fill: rgb(36, 36, 36); fill-opacity: 1; white-space: pre; opacity: 1;\" transform=\"translate(0,57.51)\">0.8</text></g><g class=\"ytick\"><text text-anchor=\"end\" x=\"29.6\" y=\"4.199999999999999\" style=\"font-family: 'Open Sans', verdana, arial, sans-serif; font-size: 12px; fill: rgb(36, 36, 36); fill-opacity: 1; white-space: pre; opacity: 1;\" transform=\"translate(0,20.18)\">1</text></g></g><g class=\"overaxes-above\"/></g><g class=\"subplot x2y2\"><g class=\"layer-subplot\"><g class=\"shapelayer\"/><g class=\"imagelayer\"/></g><g class=\"minor-gridlayer\"><g class=\"x2\"/><g class=\"y2\"/></g><g class=\"gridlayer\"><g class=\"x2\"><path class=\"x2grid crisp\" transform=\"translate(358.99666666666667,0)\" d=\"M0,10v207\" style=\"stroke: rgb(232, 232, 232); stroke-opacity: 1; stroke-width: 1px;\"/></g><g class=\"y2\"><path class=\"y2grid crisp\" transform=\"translate(0,206.65)\" d=\"M266.26666666666665,0h185.4666666666667\" style=\"stroke: rgb(232, 232, 232); stroke-opacity: 1; stroke-width: 1px;\"/><path class=\"y2grid crisp\" transform=\"translate(0,169.39)\" d=\"M266.26666666666665,0h185.4666666666667\" style=\"stroke: rgb(232, 232, 232); stroke-opacity: 1; stroke-width: 1px;\"/><path class=\"y2grid crisp\" transform=\"translate(0,132.13)\" d=\"M266.26666666666665,0h185.4666666666667\" style=\"stroke: rgb(232, 232, 232); stroke-opacity: 1; stroke-width: 1px;\"/><path class=\"y2grid crisp\" transform=\"translate(0,94.87)\" d=\"M266.26666666666665,0h185.4666666666667\" style=\"stroke: rgb(232, 232, 232); stroke-opacity: 1; stroke-width: 1px;\"/><path class=\"y2grid crisp\" transform=\"translate(0,57.61)\" d=\"M266.26666666666665,0h185.4666666666667\" style=\"stroke: rgb(232, 232, 232); stroke-opacity: 1; stroke-width: 1px;\"/><path class=\"y2grid crisp\" transform=\"translate(0,20.35)\" d=\"M266.26666666666665,0h185.4666666666667\" style=\"stroke: rgb(232, 232, 232); stroke-opacity: 1; stroke-width: 1px;\"/></g></g><g class=\"zerolinelayer\"/><path class=\"xlines-below\"/><path class=\"ylines-below\"/><g class=\"overlines-below\"/><g class=\"xaxislayer-below\"/><g class=\"yaxislayer-below\"/><g class=\"overaxes-below\"/><g class=\"plot\" transform=\"translate(266.26666666666665,10)\" clip-path=\"url(#clipa3ca9cx2y2plot)\"><g class=\"scatterlayer mlayer\"><g class=\"trace scatter trace0624b6\" style=\"stroke-miterlimit: 2; opacity: 1;\"><g class=\"fills\"/><g class=\"errorbars\"/><g class=\"lines\"><path class=\"js-line\" d=\"M0,196.65L64.35,196L68.13,194.85L71.92,191.75L75.7,183.67L79.49,164.6L83.27,128.53L90.84,44.62L94.63,24.35L98.41,15.65L102.2,12.3L105.98,11.06L109.77,10.61L128.69,10.35L132.48,10.35L185.47,10.35\" style=\"vector-effect: none; fill: none; stroke: rgb(214, 39, 40); stroke-opacity: 1; stroke-dasharray: 9px, 3px, 3px, 3px; stroke-width: 2px; opacity: 1;\"/></g><g class=\"points\"/><g class=\"text\"/></g><g class=\"trace scatter traceab419f\" style=\"stroke-miterlimit: 2; opacity: 1;\"><g class=\"fills\"/><g class=\"errorbars\"/><g class=\"lines\"><path class=\"js-line\" d=\"M0,196.65L71.92,195.97L75.7,194.78L79.49,191.56L83.27,183.17L87.06,163.51L90.84,126.76L94.63,80.24L98.41,43.49L102.2,23.83L105.98,15.44L109.77,12.22L113.55,11.03L124.91,10.38L128.69,10.36L185.47,10.35\" style=\"vector-effect: none; fill: none; stroke: rgb(148, 103, 189); stroke-opacity: 1; stroke-width: 2px; opacity: 1;\"/></g><g class=\"points\"/><g class=\"text\"/></g><g class=\"trace scatter trace2c8515\" style=\"stroke-miterlimit: 2; opacity: 1;\"><g class=\"fills\"/><g class=\"errorbars\"/><g class=\"lines\"><path class=\"js-line\" d=\"M0,196.65L79.49,195.94L83.27,194.7L87.06,191.35L90.84,182.65L94.63,162.38L98.41,124.97L102.2,78.47L105.98,42.4L109.77,23.33L113.55,15.25L117.34,12.15L121.12,11L132.48,10.38L136.26,10.36L185.47,10.35\" style=\"vector-effect: none; fill: none; stroke: rgb(140, 86, 75); stroke-opacity: 1; stroke-dasharray: 3px, 3px; stroke-width: 2px; opacity: 1;\"/></g><g class=\"points\"/><g class=\"text\"/></g></g></g><g class=\"overplot\"/><path class=\"xlines-above crisp\" d=\"M265.26666666666665,217.5H451.73333333333335\" style=\"fill: none; stroke-width: 1px; stroke: rgb(36, 36, 36); stroke-opacity: 1;\"/><path class=\"ylines-above crisp\" d=\"M265.76666666666665,10V217\" style=\"fill: none; stroke-width: 1px; stroke: rgb(36, 36, 36); stroke-opacity: 1;\"/><g class=\"overlines-above\"/><g class=\"xaxislayer-above\"><path class=\"x2tick ticks crisp\" d=\"M0,218v5\" transform=\"translate(266.26666666666665,0)\" style=\"stroke: rgb(68, 68, 68); stroke-opacity: 1; stroke-width: 1px;\"/><path class=\"x2tick ticks crisp\" d=\"M0,218v5\" transform=\"translate(358.99666666666667,0)\" style=\"stroke: rgb(68, 68, 68); stroke-opacity: 1; stroke-width: 1px;\"/><path class=\"x2tick ticks crisp\" d=\"M0,218v5\" transform=\"translate(451.7366666666667,0)\" style=\"stroke: rgb(68, 68, 68); stroke-opacity: 1; stroke-width: 1px;\"/><g class=\"x2tick\"><text text-anchor=\"middle\" x=\"0\" y=\"237.4\" transform=\"translate(266.26666666666665,0)\" style=\"font-family: 'Open Sans', verdana, arial, sans-serif; font-size: 12px; fill: rgb(36, 36, 36); fill-opacity: 1; white-space: pre; opacity: 1;\">−5</text></g><g class=\"x2tick\"><text text-anchor=\"middle\" x=\"0\" y=\"237.4\" style=\"font-family: 'Open Sans', verdana, arial, sans-serif; font-size: 12px; fill: rgb(36, 36, 36); fill-opacity: 1; white-space: pre; opacity: 1;\" transform=\"translate(358.99666666666667,0)\">0</text></g><g class=\"x2tick\"><text text-anchor=\"middle\" x=\"0\" y=\"237.4\" style=\"font-family: 'Open Sans', verdana, arial, sans-serif; font-size: 12px; fill: rgb(36, 36, 36); fill-opacity: 1; white-space: pre; opacity: 1;\" transform=\"translate(451.7366666666667,0)\">5</text></g></g><g class=\"yaxislayer-above\"><path class=\"y2tick ticks crisp\" d=\"M265.26666666666665,0h-5\" transform=\"translate(0,206.65)\" style=\"stroke: rgb(68, 68, 68); stroke-opacity: 1; stroke-width: 1px;\"/><path class=\"y2tick ticks crisp\" d=\"M265.26666666666665,0h-5\" transform=\"translate(0,169.39)\" style=\"stroke: rgb(68, 68, 68); stroke-opacity: 1; stroke-width: 1px;\"/><path class=\"y2tick ticks crisp\" d=\"M265.26666666666665,0h-5\" transform=\"translate(0,132.13)\" style=\"stroke: rgb(68, 68, 68); stroke-opacity: 1; stroke-width: 1px;\"/><path class=\"y2tick ticks crisp\" d=\"M265.26666666666665,0h-5\" transform=\"translate(0,94.87)\" style=\"stroke: rgb(68, 68, 68); stroke-opacity: 1; stroke-width: 1px;\"/><path class=\"y2tick ticks crisp\" d=\"M265.26666666666665,0h-5\" transform=\"translate(0,57.61)\" style=\"stroke: rgb(68, 68, 68); stroke-opacity: 1; stroke-width: 1px;\"/><path class=\"y2tick ticks crisp\" d=\"M265.26666666666665,0h-5\" transform=\"translate(0,20.35)\" style=\"stroke: rgb(68, 68, 68); stroke-opacity: 1; stroke-width: 1px;\"/><g class=\"y2tick\"><text text-anchor=\"end\" x=\"257.8666666666667\" y=\"4.199999999999999\" transform=\"translate(0,206.65)\" style=\"font-family: 'Open Sans', verdana, arial, sans-serif; font-size: 12px; fill: rgb(36, 36, 36); fill-opacity: 1; white-space: pre; opacity: 1;\">0</text></g><g class=\"y2tick\"><text text-anchor=\"end\" x=\"257.8666666666667\" y=\"4.199999999999999\" style=\"font-family: 'Open Sans', verdana, arial, sans-serif; font-size: 12px; fill: rgb(36, 36, 36); fill-opacity: 1; white-space: pre; opacity: 1;\" transform=\"translate(0,169.39)\">0.2</text></g><g class=\"y2tick\"><text text-anchor=\"end\" x=\"257.8666666666667\" y=\"4.199999999999999\" style=\"font-family: 'Open Sans', verdana, arial, sans-serif; font-size: 12px; fill: rgb(36, 36, 36); fill-opacity: 1; white-space: pre; opacity: 1;\" transform=\"translate(0,132.13)\">0.4</text></g><g class=\"y2tick\"><text text-anchor=\"end\" x=\"257.8666666666667\" y=\"4.199999999999999\" style=\"font-family: 'Open Sans', verdana, arial, sans-serif; font-size: 12px; fill: rgb(36, 36, 36); fill-opacity: 1; white-space: pre; opacity: 1;\" transform=\"translate(0,94.87)\">0.6</text></g><g class=\"y2tick\"><text text-anchor=\"end\" x=\"257.8666666666667\" y=\"4.199999999999999\" style=\"font-family: 'Open Sans', verdana, arial, sans-serif; font-size: 12px; fill: rgb(36, 36, 36); fill-opacity: 1; white-space: pre; opacity: 1;\" transform=\"translate(0,57.61)\">0.8</text></g><g class=\"y2tick\"><text text-anchor=\"end\" x=\"257.8666666666667\" y=\"4.199999999999999\" style=\"font-family: 'Open Sans', verdana, arial, sans-serif; font-size: 12px; fill: rgb(36, 36, 36); fill-opacity: 1; white-space: pre; opacity: 1;\" transform=\"translate(0,20.35)\">1</text></g></g><g class=\"overaxes-above\"/></g><g class=\"subplot x3y3\"><g class=\"layer-subplot\"><g class=\"shapelayer\"/><g class=\"imagelayer\"/></g><g class=\"minor-gridlayer\"><g class=\"x3\"/><g class=\"y3\"/></g><g class=\"gridlayer\"><g class=\"x3\"><path class=\"x3grid crisp\" transform=\"translate(587.2633333333333,0)\" d=\"M0,10v207\" style=\"stroke: rgb(232, 232, 232); stroke-opacity: 1; stroke-width: 1px;\"/></g><g class=\"y3\"><path class=\"y3grid crisp\" transform=\"translate(0,206.82)\" d=\"M494.53333333333336,0h185.46666666666664\" style=\"stroke: rgb(232, 232, 232); stroke-opacity: 1; stroke-width: 1px;\"/><path class=\"y3grid crisp\" transform=\"translate(0,169.49)\" d=\"M494.53333333333336,0h185.46666666666664\" style=\"stroke: rgb(232, 232, 232); stroke-opacity: 1; stroke-width: 1px;\"/><path class=\"y3grid crisp\" transform=\"translate(0,132.16)\" d=\"M494.53333333333336,0h185.46666666666664\" style=\"stroke: rgb(232, 232, 232); stroke-opacity: 1; stroke-width: 1px;\"/><path class=\"y3grid crisp\" transform=\"translate(0,94.84)\" d=\"M494.53333333333336,0h185.46666666666664\" style=\"stroke: rgb(232, 232, 232); stroke-opacity: 1; stroke-width: 1px;\"/><path class=\"y3grid crisp\" transform=\"translate(0,57.51)\" d=\"M494.53333333333336,0h185.46666666666664\" style=\"stroke: rgb(232, 232, 232); stroke-opacity: 1; stroke-width: 1px;\"/><path class=\"y3grid crisp\" transform=\"translate(0,20.18)\" d=\"M494.53333333333336,0h185.46666666666664\" style=\"stroke: rgb(232, 232, 232); stroke-opacity: 1; stroke-width: 1px;\"/></g></g><g class=\"zerolinelayer\"/><path class=\"xlines-below\"/><path class=\"ylines-below\"/><g class=\"overlines-below\"/><g class=\"xaxislayer-below\"/><g class=\"yaxislayer-below\"/><g class=\"overaxes-below\"/><g class=\"plot\" transform=\"translate(494.53333333333336,10)\" clip-path=\"url(#clipa3ca9cx3y3plot)\"><g class=\"scatterlayer mlayer\"><g class=\"trace scatter trace2d4d79\" style=\"stroke-miterlimit: 2; opacity: 1;\"><g class=\"fills\"/><g class=\"errorbars\"/><g class=\"lines\"><path class=\"js-line\" d=\"M0,10.35L37.85,11.48L41.64,11.77L56.78,13.74L60.56,14.53L71.92,18.05L75.7,19.75L83.27,24.21L87.06,27.09L94.63,34.51L98.41,39.16L105.98,50.6L109.77,57.44L117.34,73.21L121.12,81.99L143.83,137.15L147.62,145.11L155.19,158.92L158.97,164.72L166.54,174.17L170.33,177.93L177.9,183.82L181.68,186.08L185.47,187.97\" style=\"vector-effect: none; fill: none; stroke: rgb(227, 119, 194); stroke-opacity: 1; stroke-dasharray: 9px, 3px, 3px, 3px; stroke-width: 2px; opacity: 1;\"/></g><g class=\"points\"/><g class=\"text\"/></g><g class=\"trace scatter traceb5c3cd\" style=\"stroke-miterlimit: 2; opacity: 1;\"><g class=\"fills\"/><g class=\"errorbars\"/><g class=\"lines\"><path class=\"js-line\" d=\"M0,11.43L15.14,12.98L18.93,13.6L30.28,16.4L34.07,17.75L41.64,21.34L45.42,23.68L52.99,29.78L56.78,33.66L64.35,43.38L68.13,49.32L75.7,63.43L79.49,71.52L90.84,98.74L94.63,108.26L105.98,135.48L109.77,143.57L117.34,157.68L121.12,163.62L128.69,173.34L132.48,177.22L140.05,183.32L143.83,185.66L151.4,189.25L155.19,190.6L166.54,193.4L170.33,194.02L185.47,195.57\" style=\"vector-effect: none; fill: none; stroke: rgb(127, 127, 127); stroke-opacity: 1; stroke-width: 2px; opacity: 1;\"/></g><g class=\"points\"/><g class=\"text\"/></g><g class=\"trace scatter traceb40287\" style=\"stroke-miterlimit: 2; opacity: 1;\"><g class=\"fills\"/><g class=\"errorbars\"/><g class=\"lines\"><path class=\"js-line\" d=\"M0,19.03L7.57,23.18L11.36,25.88L18.93,32.83L22.71,37.22L30.28,48.08L34.07,54.61L41.64,69.85L45.42,78.42L71.92,142.01L75.7,149.56L83.27,162.49L87.06,167.84L94.63,176.5L98.41,179.91L105.98,185.22L109.77,187.25L117.34,190.35L121.12,191.51L132.48,193.9L136.26,194.43L155.19,195.95L158.97,196.11L185.47,196.65\" style=\"vector-effect: none; fill: none; stroke: rgb(188, 189, 34); stroke-opacity: 1; stroke-dasharray: 3px, 3px; stroke-width: 2px; opacity: 1;\"/></g><g class=\"points\"/><g class=\"text\"/></g></g></g><g class=\"overplot\"/><path class=\"xlines-above crisp\" d=\"M493.53333333333336,217.5H680\" style=\"fill: none; stroke-width: 1px; stroke: rgb(36, 36, 36); stroke-opacity: 1;\"/><path class=\"ylines-above crisp\" d=\"M494.03333333333336,10V217\" style=\"fill: none; stroke-width: 1px; stroke: rgb(36, 36, 36); stroke-opacity: 1;\"/><g class=\"overlines-above\"/><g class=\"xaxislayer-above\"><path class=\"x3tick ticks crisp\" d=\"M0,218v5\" transform=\"translate(494.53333333333336,0)\" style=\"stroke: rgb(68, 68, 68); stroke-opacity: 1; stroke-width: 1px;\"/><path class=\"x3tick ticks crisp\" d=\"M0,218v5\" transform=\"translate(587.2633333333333,0)\" style=\"stroke: rgb(68, 68, 68); stroke-opacity: 1; stroke-width: 1px;\"/><path class=\"x3tick ticks crisp\" d=\"M0,218v5\" transform=\"translate(680.0033333333333,0)\" style=\"stroke: rgb(68, 68, 68); stroke-opacity: 1; stroke-width: 1px;\"/><g class=\"x3tick\"><text text-anchor=\"middle\" x=\"0\" y=\"237.4\" transform=\"translate(494.53333333333336,0)\" style=\"font-family: 'Open Sans', verdana, arial, sans-serif; font-size: 12px; fill: rgb(36, 36, 36); fill-opacity: 1; white-space: pre; opacity: 1;\">−5</text></g><g class=\"x3tick\"><text text-anchor=\"middle\" x=\"0\" y=\"237.4\" style=\"font-family: 'Open Sans', verdana, arial, sans-serif; font-size: 12px; fill: rgb(36, 36, 36); fill-opacity: 1; white-space: pre; opacity: 1;\" transform=\"translate(587.2633333333333,0)\">0</text></g><g class=\"x3tick\"><text text-anchor=\"middle\" x=\"0\" y=\"237.4\" style=\"font-family: 'Open Sans', verdana, arial, sans-serif; font-size: 12px; fill: rgb(36, 36, 36); fill-opacity: 1; white-space: pre; opacity: 1;\" transform=\"translate(680.0033333333333,0)\">5</text></g></g><g class=\"yaxislayer-above\"><path class=\"y3tick ticks crisp\" d=\"M493.53333333333336,0h-5\" transform=\"translate(0,206.82)\" style=\"stroke: rgb(68, 68, 68); stroke-opacity: 1; stroke-width: 1px;\"/><path class=\"y3tick ticks crisp\" d=\"M493.53333333333336,0h-5\" transform=\"translate(0,169.49)\" style=\"stroke: rgb(68, 68, 68); stroke-opacity: 1; stroke-width: 1px;\"/><path class=\"y3tick ticks crisp\" d=\"M493.53333333333336,0h-5\" transform=\"translate(0,132.16)\" style=\"stroke: rgb(68, 68, 68); stroke-opacity: 1; stroke-width: 1px;\"/><path class=\"y3tick ticks crisp\" d=\"M493.53333333333336,0h-5\" transform=\"translate(0,94.84)\" style=\"stroke: rgb(68, 68, 68); stroke-opacity: 1; stroke-width: 1px;\"/><path class=\"y3tick ticks crisp\" d=\"M493.53333333333336,0h-5\" transform=\"translate(0,57.51)\" style=\"stroke: rgb(68, 68, 68); stroke-opacity: 1; stroke-width: 1px;\"/><path class=\"y3tick ticks crisp\" d=\"M493.53333333333336,0h-5\" transform=\"translate(0,20.18)\" style=\"stroke: rgb(68, 68, 68); stroke-opacity: 1; stroke-width: 1px;\"/><g class=\"y3tick\"><text text-anchor=\"end\" x=\"486.1333333333334\" y=\"4.199999999999999\" transform=\"translate(0,206.82)\" style=\"font-family: 'Open Sans', verdana, arial, sans-serif; font-size: 12px; fill: rgb(36, 36, 36); fill-opacity: 1; white-space: pre; opacity: 1;\">0</text></g><g class=\"y3tick\"><text text-anchor=\"end\" x=\"486.1333333333334\" y=\"4.199999999999999\" style=\"font-family: 'Open Sans', verdana, arial, sans-serif; font-size: 12px; fill: rgb(36, 36, 36); fill-opacity: 1; white-space: pre; opacity: 1;\" transform=\"translate(0,169.49)\">0.2</text></g><g class=\"y3tick\"><text text-anchor=\"end\" x=\"486.1333333333334\" y=\"4.199999999999999\" style=\"font-family: 'Open Sans', verdana, arial, sans-serif; font-size: 12px; fill: rgb(36, 36, 36); fill-opacity: 1; white-space: pre; opacity: 1;\" transform=\"translate(0,132.16)\">0.4</text></g><g class=\"y3tick\"><text text-anchor=\"end\" x=\"486.1333333333334\" y=\"4.199999999999999\" style=\"font-family: 'Open Sans', verdana, arial, sans-serif; font-size: 12px; fill: rgb(36, 36, 36); fill-opacity: 1; white-space: pre; opacity: 1;\" transform=\"translate(0,94.84)\">0.6</text></g><g class=\"y3tick\"><text text-anchor=\"end\" x=\"486.1333333333334\" y=\"4.199999999999999\" style=\"font-family: 'Open Sans', verdana, arial, sans-serif; font-size: 12px; fill: rgb(36, 36, 36); fill-opacity: 1; white-space: pre; opacity: 1;\" transform=\"translate(0,57.51)\">0.8</text></g><g class=\"y3tick\"><text text-anchor=\"end\" x=\"486.1333333333334\" y=\"4.199999999999999\" style=\"font-family: 'Open Sans', verdana, arial, sans-serif; font-size: 12px; fill: rgb(36, 36, 36); fill-opacity: 1; white-space: pre; opacity: 1;\" transform=\"translate(0,20.18)\">1</text></g></g><g class=\"overaxes-above\"/></g></g><g class=\"polarlayer\"/><g class=\"smithlayer\"/><g class=\"ternarylayer\"/><g class=\"geolayer\"/><g class=\"funnelarealayer\"/><g class=\"pielayer\"/><g class=\"iciclelayer\"/><g class=\"treemaplayer\"/><g class=\"sunburstlayer\"/><g class=\"glimages\"/><defs id=\"topdefs-a3ca9c\"><g class=\"clips\"/><clipPath id=\"legenda3ca9c\"><rect width=\"97\" height=\"181\" x=\"0\" y=\"0\"/></clipPath></defs><g class=\"layer-above\"><g class=\"imagelayer\"/><g class=\"shapelayer\"/></g><g class=\"infolayer\"><g class=\"legend\" pointer-events=\"all\" transform=\"translate(692.84,10)\"><rect class=\"bg\" shape-rendering=\"crispEdges\" style=\"stroke: rgb(68, 68, 68); stroke-opacity: 1; fill: rgb(255, 255, 255); fill-opacity: 1; stroke-width: 0px;\" width=\"97\" height=\"181\" x=\"0\" y=\"0\"/><g class=\"scrollbox\" transform=\"\" clip-path=\"url(#legenda3ca9c)\"><g class=\"groups\"><g class=\"traces\" transform=\"translate(0,14.5)\" style=\"opacity: 1;\"><text class=\"legendtext\" text-anchor=\"start\" x=\"40\" y=\"4.680000000000001\" style=\"font-family: 'Open Sans', verdana, arial, sans-serif; font-size: 12px; fill: rgb(36, 36, 36); fill-opacity: 1; white-space: pre;\">2 + 1x</text><g class=\"layers\" style=\"opacity: 1;\"><g class=\"legendfill\"/><g class=\"legendlines\"><path class=\"js-line\" d=\"M5,0h30\" style=\"fill: none; stroke: rgb(31, 119, 180); stroke-opacity: 1; stroke-dasharray: 9px, 3px, 3px, 3px; stroke-width: 2px;\"/></g><g class=\"legendsymbols\"><g class=\"legendpoints\"/></g></g><rect class=\"legendtoggle\" x=\"0\" y=\"-9.5\" width=\"91.515625\" height=\"19\" style=\"fill: rgb(0, 0, 0); fill-opacity: 0;\"/></g><g class=\"traces\" transform=\"translate(0,33.5)\" style=\"opacity: 1;\"><text class=\"legendtext\" text-anchor=\"start\" x=\"40\" y=\"4.680000000000001\" style=\"font-family: 'Open Sans', verdana, arial, sans-serif; font-size: 12px; fill: rgb(36, 36, 36); fill-opacity: 1; white-space: pre;\">0 + 1x</text><g class=\"layers\" style=\"opacity: 1;\"><g class=\"legendfill\"/><g class=\"legendlines\"><path class=\"js-line\" d=\"M5,0h30\" style=\"fill: none; stroke: rgb(255, 127, 14); stroke-opacity: 1; stroke-width: 2px;\"/></g><g class=\"legendsymbols\"><g class=\"legendpoints\"/></g></g><rect class=\"legendtoggle\" x=\"0\" y=\"-9.5\" width=\"91.515625\" height=\"19\" style=\"fill: rgb(0, 0, 0); fill-opacity: 0;\"/></g><g class=\"traces\" transform=\"translate(0,52.5)\" style=\"opacity: 1;\"><text class=\"legendtext\" text-anchor=\"start\" x=\"40\" y=\"4.680000000000001\" style=\"font-family: 'Open Sans', verdana, arial, sans-serif; font-size: 12px; fill: rgb(36, 36, 36); fill-opacity: 1; white-space: pre;\">-2 + 1x</text><g class=\"layers\" style=\"opacity: 1;\"><g class=\"legendfill\"/><g class=\"legendlines\"><path class=\"js-line\" d=\"M5,0h30\" style=\"fill: none; stroke: rgb(44, 160, 44); stroke-opacity: 1; stroke-dasharray: 3px, 3px; stroke-width: 2px;\"/></g><g class=\"legendsymbols\"><g class=\"legendpoints\"/></g></g><rect class=\"legendtoggle\" x=\"0\" y=\"-9.5\" width=\"91.515625\" height=\"19\" style=\"fill: rgb(0, 0, 0); fill-opacity: 0;\"/></g><g class=\"traces\" transform=\"translate(0,71.5)\" style=\"opacity: 1;\"><text class=\"legendtext\" text-anchor=\"start\" x=\"40\" y=\"4.680000000000001\" style=\"font-family: 'Open Sans', verdana, arial, sans-serif; font-size: 12px; fill: rgb(36, 36, 36); fill-opacity: 1; white-space: pre;\">2 + 5x</text><g class=\"layers\" style=\"opacity: 1;\"><g class=\"legendfill\"/><g class=\"legendlines\"><path class=\"js-line\" d=\"M5,0h30\" style=\"fill: none; stroke: rgb(214, 39, 40); stroke-opacity: 1; stroke-dasharray: 9px, 3px, 3px, 3px; stroke-width: 2px;\"/></g><g class=\"legendsymbols\"><g class=\"legendpoints\"/></g></g><rect class=\"legendtoggle\" x=\"0\" y=\"-9.5\" width=\"91.515625\" height=\"19\" style=\"fill: rgb(0, 0, 0); fill-opacity: 0;\"/></g><g class=\"traces\" transform=\"translate(0,90.5)\" style=\"opacity: 1;\"><text class=\"legendtext\" text-anchor=\"start\" x=\"40\" y=\"4.680000000000001\" style=\"font-family: 'Open Sans', verdana, arial, sans-serif; font-size: 12px; fill: rgb(36, 36, 36); fill-opacity: 1; white-space: pre;\">0 + 5x</text><g class=\"layers\" style=\"opacity: 1;\"><g class=\"legendfill\"/><g class=\"legendlines\"><path class=\"js-line\" d=\"M5,0h30\" style=\"fill: none; stroke: rgb(148, 103, 189); stroke-opacity: 1; stroke-width: 2px;\"/></g><g class=\"legendsymbols\"><g class=\"legendpoints\"/></g></g><rect class=\"legendtoggle\" x=\"0\" y=\"-9.5\" width=\"91.515625\" height=\"19\" style=\"fill: rgb(0, 0, 0); fill-opacity: 0;\"/></g><g class=\"traces\" transform=\"translate(0,109.5)\" style=\"opacity: 1;\"><text class=\"legendtext\" text-anchor=\"start\" x=\"40\" y=\"4.680000000000001\" style=\"font-family: 'Open Sans', verdana, arial, sans-serif; font-size: 12px; fill: rgb(36, 36, 36); fill-opacity: 1; white-space: pre;\">-2 + 5x</text><g class=\"layers\" style=\"opacity: 1;\"><g class=\"legendfill\"/><g class=\"legendlines\"><path class=\"js-line\" d=\"M5,0h30\" style=\"fill: none; stroke: rgb(140, 86, 75); stroke-opacity: 1; stroke-dasharray: 3px, 3px; stroke-width: 2px;\"/></g><g class=\"legendsymbols\"><g class=\"legendpoints\"/></g></g><rect class=\"legendtoggle\" x=\"0\" y=\"-9.5\" width=\"91.515625\" height=\"19\" style=\"fill: rgb(0, 0, 0); fill-opacity: 0;\"/></g><g class=\"traces\" transform=\"translate(0,128.5)\" style=\"opacity: 1;\"><text class=\"legendtext\" text-anchor=\"start\" x=\"40\" y=\"4.680000000000001\" style=\"font-family: 'Open Sans', verdana, arial, sans-serif; font-size: 12px; fill: rgb(36, 36, 36); fill-opacity: 1; white-space: pre;\">2 + -1x</text><g class=\"layers\" style=\"opacity: 1;\"><g class=\"legendfill\"/><g class=\"legendlines\"><path class=\"js-line\" d=\"M5,0h30\" style=\"fill: none; stroke: rgb(227, 119, 194); stroke-opacity: 1; stroke-dasharray: 9px, 3px, 3px, 3px; stroke-width: 2px;\"/></g><g class=\"legendsymbols\"><g class=\"legendpoints\"/></g></g><rect class=\"legendtoggle\" x=\"0\" y=\"-9.5\" width=\"91.515625\" height=\"19\" style=\"fill: rgb(0, 0, 0); fill-opacity: 0;\"/></g><g class=\"traces\" transform=\"translate(0,147.5)\" style=\"opacity: 1;\"><text class=\"legendtext\" text-anchor=\"start\" x=\"40\" y=\"4.680000000000001\" style=\"font-family: 'Open Sans', verdana, arial, sans-serif; font-size: 12px; fill: rgb(36, 36, 36); fill-opacity: 1; white-space: pre;\">0 + -1x</text><g class=\"layers\" style=\"opacity: 1;\"><g class=\"legendfill\"/><g class=\"legendlines\"><path class=\"js-line\" d=\"M5,0h30\" style=\"fill: none; stroke: rgb(127, 127, 127); stroke-opacity: 1; stroke-width: 2px;\"/></g><g class=\"legendsymbols\"><g class=\"legendpoints\"/></g></g><rect class=\"legendtoggle\" x=\"0\" y=\"-9.5\" width=\"91.515625\" height=\"19\" style=\"fill: rgb(0, 0, 0); fill-opacity: 0;\"/></g><g class=\"traces\" transform=\"translate(0,166.5)\" style=\"opacity: 1;\"><text class=\"legendtext\" text-anchor=\"start\" x=\"40\" y=\"4.680000000000001\" style=\"font-family: 'Open Sans', verdana, arial, sans-serif; font-size: 12px; fill: rgb(36, 36, 36); fill-opacity: 1; white-space: pre;\">-2 + -1x</text><g class=\"layers\" style=\"opacity: 1;\"><g class=\"legendfill\"/><g class=\"legendlines\"><path class=\"js-line\" d=\"M5,0h30\" style=\"fill: none; stroke: rgb(188, 189, 34); stroke-opacity: 1; stroke-dasharray: 3px, 3px; stroke-width: 2px;\"/></g><g class=\"legendsymbols\"><g class=\"legendpoints\"/></g></g><rect class=\"legendtoggle\" x=\"0\" y=\"-9.5\" width=\"91.515625\" height=\"19\" style=\"fill: rgb(0, 0, 0); fill-opacity: 0;\"/></g></g></g><rect class=\"scrollbar\" rx=\"20\" ry=\"3\" width=\"0\" height=\"0\" style=\"fill: rgb(128, 139, 164); fill-opacity: 1;\" x=\"0\" y=\"0\"/></g><g class=\"g-gtitle\"/><g class=\"g-xtitle\"/><g class=\"g-x2title\"/><g class=\"g-x3title\"/><g class=\"g-ytitle\"/><g class=\"g-y2title\"/><g class=\"g-y3title\"/></g></svg>"
      ]
     },
     "metadata": {},
     "output_type": "display_data"
    }
   ],
   "source": [
    "fig = make_subplots(rows=1, cols=3)\n",
    "\n",
    "from itertools import cycle\n",
    "styles = cycle(['dashdot', None, 'dot'])\n",
    "\n",
    "row = col = 1\n",
    "for theta1 in [1, 5, -1]:\n",
    "    for theta0 in [2, 0, -2]:\n",
    "        fig.add_trace(go.Scatter(name=f\"{theta0} + {theta1}x\", \n",
    "                                 x=t, y=logistic(theta0 + theta1*t),\n",
    "                                 mode=\"lines\", line=dict(dash=next(styles))),\n",
    "                      row=row, col=col)\n",
    "    col += 1\n",
    "        \n",
    "fig.update_layout(width=800, height=250)        \n",
    "fig"
   ]
  },
  {
   "attachments": {},
   "cell_type": "markdown",
   "metadata": {},
   "source": [
    "We can see that changing the magnitude of $ {\\theta}_1 $ changes the sharpness of the curve; the further away from 0, the steeper the curve. Flipping the sign of $ {\\theta}_1 $ reflects the curve about the vertical line $x=0$. Changing $ \\theta_0 $ shifts the curve left and right."
   ]
  },
  {
   "attachments": {},
   "cell_type": "markdown",
   "metadata": {},
   "source": [
    "The logistic function can be seen as a transformation: it transforms a linear function into a nonlinear smooth curve, and the output always lies between 0 and 1. In fact, the output of a logistic function has a deeper probabilistic interpretation, which we describe next."
   ]
  },
  {
   "attachments": {},
   "cell_type": "markdown",
   "metadata": {},
   "source": [
    "## Log Odds\n",
    "            \n",
    "Recall the odds are the ratio, $p/(1-p)$ for a probability $ p $. For example, when we toss a fair coin, the odds of getting heads is 1, and for a coin that's twice as likely to land heads as tails ($p=2/3$), the odds of getting heads is 2. The logistic model is also called the *log odds* model because the logistic function coincides with a linear function of the log odds."
   ]
  },
  {
   "attachments": {},
   "cell_type": "markdown",
   "metadata": {},
   "source": [
    "We can see this in the following equations. To show this, we multiply the numerator and denominator of the sigmoid function by $\\exp(t)$ \n",
    "\n",
    "$$\n",
    "\\begin{aligned}\n",
    "\\sigma(t) & = \\frac{1}{1+\\exp(-t)} = \\frac{\\exp(t)}{1+\\exp(t)} \\\\ \n",
    "\\\\\n",
    "(1-\\sigma(t)) & = 1 - \\frac{\\exp(t)}{1+\\exp(t)} = \\frac{1}{1+\\exp(t)}\n",
    "\\end{aligned}\n",
    "$$\n",
    "\n",
    "Then, we take the logarithm of the odds and simplify:\n",
    "\n",
    "$$\n",
    "\\begin{aligned}\n",
    "\\log \\left( \\frac{\\sigma(t)}{1-\\sigma(t)} \\right) & = \\log(\\exp{(t)}) = t\\\\\n",
    "\\end{aligned}\n",
    "$$"
   ]
  },
  {
   "attachments": {},
   "cell_type": "markdown",
   "metadata": {},
   "source": [
    "So, for $\\sigma(\\theta_0 + \\theta_1x)$, we find the log odds is a linear function of $x$:\n",
    "\n",
    "$$\n",
    "\\begin{aligned}\n",
    "\\log \\left( \\frac{\\sigma(\\theta_0 + \\theta_1x)}{1-\\sigma(\\theta_0 + \\theta_1x)} \\right) & = \\log(\\exp{(\\theta_0 + \\theta_1x)}) = \\theta_0 + \\theta_1x\\\\\n",
    "\\end{aligned}\n",
    "$$"
   ]
  },
  {
   "attachments": {},
   "cell_type": "markdown",
   "metadata": {},
   "source": [
    "This representation of the logistic in terms of log odds gives a useful interpretation for the coefficient $\\theta_1$. Suppose the explanatory variable increases by 1. Then the odds change as follows:\n",
    "\n",
    "$$\n",
    "\\begin{aligned}\n",
    "\\text{ odds } =& ~ \\exp\\left( \\theta_0 + \\theta_1(x+1) \\right)\\\\\n",
    " =& ~ \\exp(\\theta_1) \\times \\exp{(\\theta_0 + \\theta_1x)}\n",
    "\\end{aligned}\n",
    "$$\n",
    "\n",
    "We see that the odds increase or decrease by a factor of $ \\exp(\\theta_1) $."
   ]
  },
  {
   "attachments": {},
   "cell_type": "markdown",
   "metadata": {},
   "source": [
    ":::{note}\n",
    "\n",
    "Here, the $\\log$ function is the natural logarithm. Since the natural log is the\n",
    "default in data science, we typically don't bother to write it as $\\ln$.\n",
    "\n",
    ":::"
   ]
  },
  {
   "attachments": {},
   "cell_type": "markdown",
   "metadata": {},
   "source": [
    "Next, let's add a logistic curve to our plot of proportions to get a sense of how well it might fit the data."
   ]
  },
  {
   "attachments": {},
   "cell_type": "markdown",
   "metadata": {},
   "source": [
    "## Using a Logistic Curve"
   ]
  },
  {
   "attachments": {},
   "cell_type": "markdown",
   "metadata": {},
   "source": [
    "In the plot below, we've added a logistic curve on top of the plot of proportions of fallen trees:"
   ]
  },
  {
   "cell_type": "code",
   "execution_count": 205,
   "metadata": {
    "tags": [
     "hide-input"
    ]
   },
   "outputs": [],
   "source": [
    "from sklearn.linear_model import LogisticRegression\n",
    "\n",
    "trees = trees.assign(log_diam=np.log(trees['diameter']))\n",
    "X = trees[['log_diam']]\n",
    "y = trees['status_0_1']\n",
    "\n",
    "lr_model = LogisticRegression().fit(X, y)"
   ]
  },
  {
   "cell_type": "code",
   "execution_count": 209,
   "metadata": {
    "ExecuteTime": {
     "end_time": "2018-04-02T16:07:18.026129Z",
     "start_time": "2018-04-02T16:07:18.007888Z"
    },
    "tags": [
     "hide-input"
    ]
   },
   "outputs": [
    {
     "data": {
      "application/vnd.plotly.v1+json": {
       "config": {
        "plotlyServerURL": "https://plot.ly"
       },
       "data": [
        {
         "hovertemplate": "Tree Diameter (cm)=%{x}<br>Proportion Down=%{y}<br>count=%{marker.size}<extra></extra>",
         "legendgroup": "",
         "marker": {
          "color": "#1F77B4",
          "size": [
           88,
           93,
           91,
           70,
           49,
           54,
           64,
           57,
           49,
           24,
           14,
           6
          ],
          "sizemode": "area",
          "sizeref": 0.2325,
          "symbol": "circle"
         },
         "mode": "markers",
         "name": "",
         "orientation": "v",
         "showlegend": false,
         "type": "scatter",
         "x": [
          5,
          6,
          7,
          8,
          9,
          10,
          12,
          14,
          17,
          20,
          25,
          32
         ],
         "xaxis": "x",
         "y": [
          0.06818181818181818,
          0.07526881720430108,
          0.1978021978021978,
          0.18571428571428572,
          0.30612244897959184,
          0.4444444444444444,
          0.609375,
          0.6491228070175439,
          0.7755102040816326,
          0.8333333333333334,
          0.7857142857142857,
          0.8333333333333334
         ],
         "yaxis": "y"
        },
        {
         "line": {
          "color": "orange",
          "width": 3
         },
         "type": "scatter",
         "x": [
          4.999999999999999,
          5.1930518265458865,
          5.393557454638315,
          5.601804678277937,
          5.818092403296908,
          6.042731076390753,
          6.276043130715319,
          6.518363448688391,
          6.77003984266024,
          7.031433554143038,
          7.302919772315708,
          7.584888172548433,
          7.877743475719788,
          8.181906029129317,
          8.497812409839362,
          8.825916051312122,
          9.166687894241417,
          9.520617062513292,
          9.888211565265717,
          10.269999026055064,
          10.666527440175942,
          11.078365961221506,
          11.506105718013021,
          11.950360663071525,
          12.411768453849135,
          12.89099136798518,
          13.388717253900541,
          13.905660518094928,
          14.442563150563979,
          15.000195789808119,
          15.579358828961796,
          16.18088356463077,
          16.80563339008643,
          17.454505034529777,
          18.128429850203847,
          18.828375149202017,
          19.555345591890944,
          20.310384628941065,
          21.094575999034394,
          21.90904528439931,
          22.75496152640529,
          23.633538903536063,
          24.546038474150258,
          25.493769986530314,
          26.478093758818407,
          27.500422631537024,
          28.56222399549745,
          29.66502189800615,
          30.810399230392928,
          32
         ],
         "y": [
          0.07632762955043867,
          0.08485807942316628,
          0.0942446257559134,
          0.10455084168247851,
          0.11583996261685688,
          0.12817357085488784,
          0.14161002977349238,
          0.1562026698679627,
          0.17199774452229005,
          0.18903219298399906,
          0.2073312709934405,
          0.2269061347256266,
          0.24775148920789927,
          0.2698434354716014,
          0.2931376680276606,
          0.31756818213970484,
          0.34304664529496964,
          0.36946256657378873,
          0.39668436018636305,
          0.4245613463632243,
          0.4529266676710318,
          0.48160102773228447,
          0.5103970901153349,
          0.5391243163718137,
          0.5675939816308828,
          0.5956240894430341,
          0.623043917073398,
          0.6496979568225497,
          0.6754490733906566,
          0.7001807644682739,
          0.7237984831493773,
          0.7462300482400217,
          0.7674252254370382,
          0.7873546043482224,
          0.8060079216496376,
          0.8233919898792031,
          0.8395283867549272,
          0.8544510448279624,
          0.8682038594299346,
          0.8808384077357927,
          0.8924118462448675,
          0.9029850302356741,
          0.9126208781502109,
          0.9213829870981817,
          0.9293344928836369,
          0.9365371589058779,
          0.943050672500046,
          0.9489321241775847,
          0.9542356442007347,
          0.9590121714170404
         ]
        }
       ],
       "layout": {
        "height": 250,
        "legend": {
         "itemsizing": "constant",
         "tracegroupgap": 0
        },
        "showlegend": false,
        "template": {
         "data": {
          "bar": [
           {
            "error_x": {
             "color": "rgb(36,36,36)"
            },
            "error_y": {
             "color": "rgb(36,36,36)"
            },
            "marker": {
             "line": {
              "color": "white",
              "width": 0.5
             },
             "pattern": {
              "fillmode": "overlay",
              "size": 10,
              "solidity": 0.2
             }
            },
            "type": "bar"
           }
          ],
          "barpolar": [
           {
            "marker": {
             "line": {
              "color": "white",
              "width": 0.5
             },
             "pattern": {
              "fillmode": "overlay",
              "size": 10,
              "solidity": 0.2
             }
            },
            "type": "barpolar"
           }
          ],
          "carpet": [
           {
            "aaxis": {
             "endlinecolor": "rgb(36,36,36)",
             "gridcolor": "white",
             "linecolor": "white",
             "minorgridcolor": "white",
             "startlinecolor": "rgb(36,36,36)"
            },
            "baxis": {
             "endlinecolor": "rgb(36,36,36)",
             "gridcolor": "white",
             "linecolor": "white",
             "minorgridcolor": "white",
             "startlinecolor": "rgb(36,36,36)"
            },
            "type": "carpet"
           }
          ],
          "choropleth": [
           {
            "colorbar": {
             "outlinewidth": 1,
             "tickcolor": "rgb(36,36,36)",
             "ticks": "outside"
            },
            "type": "choropleth"
           }
          ],
          "contour": [
           {
            "colorbar": {
             "outlinewidth": 1,
             "tickcolor": "rgb(36,36,36)",
             "ticks": "outside"
            },
            "colorscale": [
             [
              0,
              "#440154"
             ],
             [
              0.1111111111111111,
              "#482878"
             ],
             [
              0.2222222222222222,
              "#3e4989"
             ],
             [
              0.3333333333333333,
              "#31688e"
             ],
             [
              0.4444444444444444,
              "#26828e"
             ],
             [
              0.5555555555555556,
              "#1f9e89"
             ],
             [
              0.6666666666666666,
              "#35b779"
             ],
             [
              0.7777777777777778,
              "#6ece58"
             ],
             [
              0.8888888888888888,
              "#b5de2b"
             ],
             [
              1,
              "#fde725"
             ]
            ],
            "type": "contour"
           }
          ],
          "contourcarpet": [
           {
            "colorbar": {
             "outlinewidth": 1,
             "tickcolor": "rgb(36,36,36)",
             "ticks": "outside"
            },
            "type": "contourcarpet"
           }
          ],
          "heatmap": [
           {
            "colorbar": {
             "outlinewidth": 1,
             "tickcolor": "rgb(36,36,36)",
             "ticks": "outside"
            },
            "colorscale": [
             [
              0,
              "#440154"
             ],
             [
              0.1111111111111111,
              "#482878"
             ],
             [
              0.2222222222222222,
              "#3e4989"
             ],
             [
              0.3333333333333333,
              "#31688e"
             ],
             [
              0.4444444444444444,
              "#26828e"
             ],
             [
              0.5555555555555556,
              "#1f9e89"
             ],
             [
              0.6666666666666666,
              "#35b779"
             ],
             [
              0.7777777777777778,
              "#6ece58"
             ],
             [
              0.8888888888888888,
              "#b5de2b"
             ],
             [
              1,
              "#fde725"
             ]
            ],
            "type": "heatmap"
           }
          ],
          "heatmapgl": [
           {
            "colorbar": {
             "outlinewidth": 1,
             "tickcolor": "rgb(36,36,36)",
             "ticks": "outside"
            },
            "colorscale": [
             [
              0,
              "#440154"
             ],
             [
              0.1111111111111111,
              "#482878"
             ],
             [
              0.2222222222222222,
              "#3e4989"
             ],
             [
              0.3333333333333333,
              "#31688e"
             ],
             [
              0.4444444444444444,
              "#26828e"
             ],
             [
              0.5555555555555556,
              "#1f9e89"
             ],
             [
              0.6666666666666666,
              "#35b779"
             ],
             [
              0.7777777777777778,
              "#6ece58"
             ],
             [
              0.8888888888888888,
              "#b5de2b"
             ],
             [
              1,
              "#fde725"
             ]
            ],
            "type": "heatmapgl"
           }
          ],
          "histogram": [
           {
            "marker": {
             "line": {
              "color": "white",
              "width": 0.6
             }
            },
            "type": "histogram"
           }
          ],
          "histogram2d": [
           {
            "colorbar": {
             "outlinewidth": 1,
             "tickcolor": "rgb(36,36,36)",
             "ticks": "outside"
            },
            "colorscale": [
             [
              0,
              "#440154"
             ],
             [
              0.1111111111111111,
              "#482878"
             ],
             [
              0.2222222222222222,
              "#3e4989"
             ],
             [
              0.3333333333333333,
              "#31688e"
             ],
             [
              0.4444444444444444,
              "#26828e"
             ],
             [
              0.5555555555555556,
              "#1f9e89"
             ],
             [
              0.6666666666666666,
              "#35b779"
             ],
             [
              0.7777777777777778,
              "#6ece58"
             ],
             [
              0.8888888888888888,
              "#b5de2b"
             ],
             [
              1,
              "#fde725"
             ]
            ],
            "type": "histogram2d"
           }
          ],
          "histogram2dcontour": [
           {
            "colorbar": {
             "outlinewidth": 1,
             "tickcolor": "rgb(36,36,36)",
             "ticks": "outside"
            },
            "colorscale": [
             [
              0,
              "#440154"
             ],
             [
              0.1111111111111111,
              "#482878"
             ],
             [
              0.2222222222222222,
              "#3e4989"
             ],
             [
              0.3333333333333333,
              "#31688e"
             ],
             [
              0.4444444444444444,
              "#26828e"
             ],
             [
              0.5555555555555556,
              "#1f9e89"
             ],
             [
              0.6666666666666666,
              "#35b779"
             ],
             [
              0.7777777777777778,
              "#6ece58"
             ],
             [
              0.8888888888888888,
              "#b5de2b"
             ],
             [
              1,
              "#fde725"
             ]
            ],
            "type": "histogram2dcontour"
           }
          ],
          "mesh3d": [
           {
            "colorbar": {
             "outlinewidth": 1,
             "tickcolor": "rgb(36,36,36)",
             "ticks": "outside"
            },
            "type": "mesh3d"
           }
          ],
          "parcoords": [
           {
            "line": {
             "colorbar": {
              "outlinewidth": 1,
              "tickcolor": "rgb(36,36,36)",
              "ticks": "outside"
             }
            },
            "type": "parcoords"
           }
          ],
          "pie": [
           {
            "automargin": true,
            "type": "pie"
           }
          ],
          "scatter": [
           {
            "fillpattern": {
             "fillmode": "overlay",
             "size": 10,
             "solidity": 0.2
            },
            "type": "scatter"
           }
          ],
          "scatter3d": [
           {
            "line": {
             "colorbar": {
              "outlinewidth": 1,
              "tickcolor": "rgb(36,36,36)",
              "ticks": "outside"
             }
            },
            "marker": {
             "colorbar": {
              "outlinewidth": 1,
              "tickcolor": "rgb(36,36,36)",
              "ticks": "outside"
             }
            },
            "type": "scatter3d"
           }
          ],
          "scattercarpet": [
           {
            "marker": {
             "colorbar": {
              "outlinewidth": 1,
              "tickcolor": "rgb(36,36,36)",
              "ticks": "outside"
             }
            },
            "type": "scattercarpet"
           }
          ],
          "scattergeo": [
           {
            "marker": {
             "colorbar": {
              "outlinewidth": 1,
              "tickcolor": "rgb(36,36,36)",
              "ticks": "outside"
             }
            },
            "type": "scattergeo"
           }
          ],
          "scattergl": [
           {
            "marker": {
             "colorbar": {
              "outlinewidth": 1,
              "tickcolor": "rgb(36,36,36)",
              "ticks": "outside"
             }
            },
            "type": "scattergl"
           }
          ],
          "scattermapbox": [
           {
            "marker": {
             "colorbar": {
              "outlinewidth": 1,
              "tickcolor": "rgb(36,36,36)",
              "ticks": "outside"
             }
            },
            "type": "scattermapbox"
           }
          ],
          "scatterpolar": [
           {
            "marker": {
             "colorbar": {
              "outlinewidth": 1,
              "tickcolor": "rgb(36,36,36)",
              "ticks": "outside"
             }
            },
            "type": "scatterpolar"
           }
          ],
          "scatterpolargl": [
           {
            "marker": {
             "colorbar": {
              "outlinewidth": 1,
              "tickcolor": "rgb(36,36,36)",
              "ticks": "outside"
             }
            },
            "type": "scatterpolargl"
           }
          ],
          "scatterternary": [
           {
            "marker": {
             "colorbar": {
              "outlinewidth": 1,
              "tickcolor": "rgb(36,36,36)",
              "ticks": "outside"
             }
            },
            "type": "scatterternary"
           }
          ],
          "surface": [
           {
            "colorbar": {
             "outlinewidth": 1,
             "tickcolor": "rgb(36,36,36)",
             "ticks": "outside"
            },
            "colorscale": [
             [
              0,
              "#440154"
             ],
             [
              0.1111111111111111,
              "#482878"
             ],
             [
              0.2222222222222222,
              "#3e4989"
             ],
             [
              0.3333333333333333,
              "#31688e"
             ],
             [
              0.4444444444444444,
              "#26828e"
             ],
             [
              0.5555555555555556,
              "#1f9e89"
             ],
             [
              0.6666666666666666,
              "#35b779"
             ],
             [
              0.7777777777777778,
              "#6ece58"
             ],
             [
              0.8888888888888888,
              "#b5de2b"
             ],
             [
              1,
              "#fde725"
             ]
            ],
            "type": "surface"
           }
          ],
          "table": [
           {
            "cells": {
             "fill": {
              "color": "rgb(237,237,237)"
             },
             "line": {
              "color": "white"
             }
            },
            "header": {
             "fill": {
              "color": "rgb(217,217,217)"
             },
             "line": {
              "color": "white"
             }
            },
            "type": "table"
           }
          ]
         },
         "layout": {
          "annotationdefaults": {
           "arrowhead": 0,
           "arrowwidth": 1
          },
          "autosize": true,
          "autotypenumbers": "strict",
          "coloraxis": {
           "colorbar": {
            "outlinewidth": 1,
            "tickcolor": "rgb(36,36,36)",
            "ticks": "outside"
           }
          },
          "colorscale": {
           "diverging": [
            [
             0,
             "rgb(103,0,31)"
            ],
            [
             0.1,
             "rgb(178,24,43)"
            ],
            [
             0.2,
             "rgb(214,96,77)"
            ],
            [
             0.3,
             "rgb(244,165,130)"
            ],
            [
             0.4,
             "rgb(253,219,199)"
            ],
            [
             0.5,
             "rgb(247,247,247)"
            ],
            [
             0.6,
             "rgb(209,229,240)"
            ],
            [
             0.7,
             "rgb(146,197,222)"
            ],
            [
             0.8,
             "rgb(67,147,195)"
            ],
            [
             0.9,
             "rgb(33,102,172)"
            ],
            [
             1,
             "rgb(5,48,97)"
            ]
           ],
           "sequential": [
            [
             0,
             "#440154"
            ],
            [
             0.1111111111111111,
             "#482878"
            ],
            [
             0.2222222222222222,
             "#3e4989"
            ],
            [
             0.3333333333333333,
             "#31688e"
            ],
            [
             0.4444444444444444,
             "#26828e"
            ],
            [
             0.5555555555555556,
             "#1f9e89"
            ],
            [
             0.6666666666666666,
             "#35b779"
            ],
            [
             0.7777777777777778,
             "#6ece58"
            ],
            [
             0.8888888888888888,
             "#b5de2b"
            ],
            [
             1,
             "#fde725"
            ]
           ],
           "sequentialminus": [
            [
             0,
             "#440154"
            ],
            [
             0.1111111111111111,
             "#482878"
            ],
            [
             0.2222222222222222,
             "#3e4989"
            ],
            [
             0.3333333333333333,
             "#31688e"
            ],
            [
             0.4444444444444444,
             "#26828e"
            ],
            [
             0.5555555555555556,
             "#1f9e89"
            ],
            [
             0.6666666666666666,
             "#35b779"
            ],
            [
             0.7777777777777778,
             "#6ece58"
            ],
            [
             0.8888888888888888,
             "#b5de2b"
            ],
            [
             1,
             "#fde725"
            ]
           ]
          },
          "colorway": [
           "#1F77B4",
           "#FF7F0E",
           "#2CA02C",
           "#D62728",
           "#9467BD",
           "#8C564B",
           "#E377C2",
           "#7F7F7F",
           "#BCBD22",
           "#17BECF"
          ],
          "font": {
           "color": "rgb(36,36,36)"
          },
          "geo": {
           "bgcolor": "white",
           "lakecolor": "white",
           "landcolor": "white",
           "showlakes": true,
           "showland": true,
           "subunitcolor": "white"
          },
          "height": 250,
          "hoverlabel": {
           "align": "left"
          },
          "hovermode": "closest",
          "mapbox": {
           "style": "light"
          },
          "margin": {
           "b": 10,
           "l": 10,
           "r": 10,
           "t": 10
          },
          "paper_bgcolor": "white",
          "plot_bgcolor": "white",
          "polar": {
           "angularaxis": {
            "gridcolor": "rgb(232,232,232)",
            "linecolor": "rgb(36,36,36)",
            "showgrid": false,
            "showline": true,
            "ticks": "outside"
           },
           "bgcolor": "white",
           "radialaxis": {
            "gridcolor": "rgb(232,232,232)",
            "linecolor": "rgb(36,36,36)",
            "showgrid": false,
            "showline": true,
            "ticks": "outside"
           }
          },
          "scene": {
           "xaxis": {
            "backgroundcolor": "white",
            "gridcolor": "rgb(232,232,232)",
            "gridwidth": 2,
            "linecolor": "rgb(36,36,36)",
            "showbackground": true,
            "showgrid": false,
            "showline": true,
            "ticks": "outside",
            "zeroline": false,
            "zerolinecolor": "rgb(36,36,36)"
           },
           "yaxis": {
            "backgroundcolor": "white",
            "gridcolor": "rgb(232,232,232)",
            "gridwidth": 2,
            "linecolor": "rgb(36,36,36)",
            "showbackground": true,
            "showgrid": false,
            "showline": true,
            "ticks": "outside",
            "zeroline": false,
            "zerolinecolor": "rgb(36,36,36)"
           },
           "zaxis": {
            "backgroundcolor": "white",
            "gridcolor": "rgb(232,232,232)",
            "gridwidth": 2,
            "linecolor": "rgb(36,36,36)",
            "showbackground": true,
            "showgrid": false,
            "showline": true,
            "ticks": "outside",
            "zeroline": false,
            "zerolinecolor": "rgb(36,36,36)"
           }
          },
          "shapedefaults": {
           "fillcolor": "black",
           "line": {
            "width": 0
           },
           "opacity": 0.3
          },
          "ternary": {
           "aaxis": {
            "gridcolor": "rgb(232,232,232)",
            "linecolor": "rgb(36,36,36)",
            "showgrid": false,
            "showline": true,
            "ticks": "outside"
           },
           "baxis": {
            "gridcolor": "rgb(232,232,232)",
            "linecolor": "rgb(36,36,36)",
            "showgrid": false,
            "showline": true,
            "ticks": "outside"
           },
           "bgcolor": "white",
           "caxis": {
            "gridcolor": "rgb(232,232,232)",
            "linecolor": "rgb(36,36,36)",
            "showgrid": false,
            "showline": true,
            "ticks": "outside"
           }
          },
          "title": {
           "x": 0.5,
           "xanchor": "center"
          },
          "width": 350,
          "xaxis": {
           "automargin": true,
           "gridcolor": "rgb(232,232,232)",
           "linecolor": "rgb(36,36,36)",
           "showgrid": true,
           "showline": true,
           "ticks": "outside",
           "title": {
            "standoff": 15
           },
           "zeroline": false,
           "zerolinecolor": "rgb(36,36,36)"
          },
          "yaxis": {
           "automargin": true,
           "gridcolor": "rgb(232,232,232)",
           "linecolor": "rgb(36,36,36)",
           "showgrid": true,
           "showline": true,
           "ticks": "outside",
           "title": {
            "standoff": 15
           },
           "zeroline": false,
           "zerolinecolor": "rgb(36,36,36)"
          }
         }
        },
        "width": 450,
        "xaxis": {
         "anchor": "y",
         "domain": [
          0,
          1
         ],
         "title": {
          "text": "Tree Diameter (cm)"
         },
         "type": "log"
        },
        "yaxis": {
         "anchor": "x",
         "domain": [
          0,
          1
         ],
         "title": {
          "text": "Proportion Down"
         }
        }
       }
      },
      "image/svg+xml": [
       "<svg class=\"main-svg\" xmlns=\"http://www.w3.org/2000/svg\" xmlns:xlink=\"http://www.w3.org/1999/xlink\" width=\"450\" height=\"250\" style=\"\" viewBox=\"0 0 450 250\"><rect x=\"0\" y=\"0\" width=\"450\" height=\"250\" style=\"fill: rgb(255, 255, 255); fill-opacity: 1;\"/><defs id=\"defs-9b2900\"><g class=\"clips\"><clipPath id=\"clip9b2900xyplot\" class=\"plotclip\"><rect width=\"377\" height=\"177\"/></clipPath><clipPath class=\"axesclip\" id=\"clip9b2900x\"><rect x=\"63\" y=\"0\" width=\"377\" height=\"250\"/></clipPath><clipPath class=\"axesclip\" id=\"clip9b2900y\"><rect x=\"0\" y=\"15\" width=\"450\" height=\"177\"/></clipPath><clipPath class=\"axesclip\" id=\"clip9b2900xy\"><rect x=\"63\" y=\"15\" width=\"377\" height=\"177\"/></clipPath></g><g class=\"gradients\"/><g class=\"patterns\"/></defs><g class=\"bglayer\"/><g class=\"layer-below\"><g class=\"imagelayer\"/><g class=\"shapelayer\"/></g><g class=\"cartesianlayer\"><g class=\"subplot xy\"><g class=\"layer-subplot\"><g class=\"shapelayer\"/><g class=\"imagelayer\"/></g><g class=\"minor-gridlayer\"><g class=\"x\"/><g class=\"y\"/></g><g class=\"gridlayer\"><g class=\"x\"><path class=\"xgrid crisp\" transform=\"translate(97.22999999999999,0)\" d=\"M0,15v177\" style=\"stroke: rgb(232, 232, 232); stroke-opacity: 1; stroke-width: 1px;\"/><path class=\"xgrid crisp\" transform=\"translate(216.68,0)\" d=\"M0,15v177\" style=\"stroke: rgb(232, 232, 232); stroke-opacity: 1; stroke-width: 1px;\"/><path class=\"xgrid crisp\" transform=\"translate(286.56,0)\" d=\"M0,15v177\" style=\"stroke: rgb(232, 232, 232); stroke-opacity: 1; stroke-width: 1px;\"/><path class=\"xgrid crisp\" transform=\"translate(336.14,0)\" d=\"M0,15v177\" style=\"stroke: rgb(232, 232, 232); stroke-opacity: 1; stroke-width: 1px;\"/><path class=\"xgrid crisp\" transform=\"translate(374.59,0)\" d=\"M0,15v177\" style=\"stroke: rgb(232, 232, 232); stroke-opacity: 1; stroke-width: 1px;\"/><path class=\"xgrid crisp\" transform=\"translate(406.01,0)\" d=\"M0,15v177\" style=\"stroke: rgb(232, 232, 232); stroke-opacity: 1; stroke-width: 1px;\"/><path class=\"xgrid crisp\" transform=\"translate(432.58,0)\" d=\"M0,15v177\" style=\"stroke: rgb(232, 232, 232); stroke-opacity: 1; stroke-width: 1px;\"/></g><g class=\"y\"><path class=\"ygrid crisp\" transform=\"translate(0,178.78)\" d=\"M63,0h377\" style=\"stroke: rgb(232, 232, 232); stroke-opacity: 1; stroke-width: 1px;\"/><path class=\"ygrid crisp\" transform=\"translate(0,98.01)\" d=\"M63,0h377\" style=\"stroke: rgb(232, 232, 232); stroke-opacity: 1; stroke-width: 1px;\"/><path class=\"ygrid crisp\" transform=\"translate(0,17.23)\" d=\"M63,0h377\" style=\"stroke: rgb(232, 232, 232); stroke-opacity: 1; stroke-width: 1px;\"/></g></g><g class=\"zerolinelayer\"/><path class=\"xlines-below\"/><path class=\"ylines-below\"/><g class=\"overlines-below\"/><g class=\"xaxislayer-below\"/><g class=\"yaxislayer-below\"/><g class=\"overaxes-below\"/><g class=\"plot\" transform=\"translate(63,15)\" clip-path=\"url(#clip9b2900xyplot)\"><g class=\"scatterlayer mlayer\"><g class=\"trace scatter tracefec43b\" style=\"stroke-miterlimit: 2; opacity: 1;\"><g class=\"fills\"/><g class=\"errorbars\"/><g class=\"lines\"/><g class=\"points\"><path class=\"point\" transform=\"translate(34.23,152.77)\" d=\"M13.76,0A13.76,13.76 0 1,1 0,-13.76A13.76,13.76 0 0,1 13.76,0Z\" style=\"opacity: 0.7; stroke-width: 1px; fill: rgb(31, 119, 180); fill-opacity: 1; stroke: rgb(255, 255, 255); stroke-opacity: 1;\"/><path class=\"point\" transform=\"translate(65.65,151.62)\" d=\"M14.14,0A14.14,14.14 0 1,1 0,-14.14A14.14,14.14 0 0,1 14.14,0Z\" style=\"opacity: 0.7; stroke-width: 1px; fill: rgb(31, 119, 180); fill-opacity: 1; stroke: rgb(255, 255, 255); stroke-opacity: 1;\"/><path class=\"point\" transform=\"translate(92.22,131.83)\" d=\"M13.99,0A13.99,13.99 0 1,1 0,-13.99A13.99,13.99 0 0,1 13.99,0Z\" style=\"opacity: 0.7; stroke-width: 1px; fill: rgb(31, 119, 180); fill-opacity: 1; stroke: rgb(255, 255, 255); stroke-opacity: 1;\"/><path class=\"point\" transform=\"translate(115.23,133.78)\" d=\"M12.27,0A12.27,12.27 0 1,1 0,-12.27A12.27,12.27 0 0,1 12.27,0Z\" style=\"opacity: 0.7; stroke-width: 1px; fill: rgb(31, 119, 180); fill-opacity: 1; stroke: rgb(255, 255, 255); stroke-opacity: 1;\"/><path class=\"point\" transform=\"translate(135.53,114.33)\" d=\"M10.27,0A10.27,10.27 0 1,1 0,-10.27A10.27,10.27 0 0,1 10.27,0Z\" style=\"opacity: 0.7; stroke-width: 1px; fill: rgb(31, 119, 180); fill-opacity: 1; stroke: rgb(255, 255, 255); stroke-opacity: 1;\"/><path class=\"point\" transform=\"translate(153.68,91.98)\" d=\"M10.78,0A10.78,10.78 0 1,1 0,-10.78A10.78,10.78 0 0,1 10.78,0Z\" style=\"opacity: 0.7; stroke-width: 1px; fill: rgb(31, 119, 180); fill-opacity: 1; stroke: rgb(255, 255, 255); stroke-opacity: 1;\"/><path class=\"point\" transform=\"translate(185.1,65.34)\" d=\"M11.73,0A11.73,11.73 0 1,1 0,-11.73A11.73,11.73 0 0,1 11.73,0Z\" style=\"opacity: 0.7; stroke-width: 1px; fill: rgb(31, 119, 180); fill-opacity: 1; stroke: rgb(255, 255, 255); stroke-opacity: 1;\"/><path class=\"point\" transform=\"translate(211.67,58.91)\" d=\"M11.07,0A11.07,11.07 0 1,1 0,-11.07A11.07,11.07 0 0,1 11.07,0Z\" style=\"opacity: 0.7; stroke-width: 1px; fill: rgb(31, 119, 180); fill-opacity: 1; stroke: rgb(255, 255, 255); stroke-opacity: 1;\"/><path class=\"point\" transform=\"translate(245.13,38.5)\" d=\"M10.27,0A10.27,10.27 0 1,1 0,-10.27A10.27,10.27 0 0,1 10.27,0Z\" style=\"opacity: 0.7; stroke-width: 1px; fill: rgb(31, 119, 180); fill-opacity: 1; stroke: rgb(255, 255, 255); stroke-opacity: 1;\"/><path class=\"point\" transform=\"translate(273.14,29.15)\" d=\"M7.18,0A7.18,7.18 0 1,1 0,-7.18A7.18,7.18 0 0,1 7.18,0Z\" style=\"opacity: 0.7; stroke-width: 1px; fill: rgb(31, 119, 180); fill-opacity: 1; stroke: rgb(255, 255, 255); stroke-opacity: 1;\"/><path class=\"point\" transform=\"translate(311.59,36.85)\" d=\"M5.49,0A5.49,5.49 0 1,1 0,-5.49A5.49,5.49 0 0,1 5.49,0Z\" style=\"opacity: 0.7; stroke-width: 1px; fill: rgb(31, 119, 180); fill-opacity: 1; stroke: rgb(255, 255, 255); stroke-opacity: 1;\"/><path class=\"point\" transform=\"translate(354.13,29.15)\" d=\"M3.59,0A3.59,3.59 0 1,1 0,-3.59A3.59,3.59 0 0,1 3.59,0Z\" style=\"opacity: 0.7; stroke-width: 1px; fill: rgb(31, 119, 180); fill-opacity: 1; stroke: rgb(255, 255, 255); stroke-opacity: 1;\"/></g><g class=\"text\"/></g><g class=\"trace scatter trace52e20c\" style=\"stroke-miterlimit: 2; opacity: 1;\"><g class=\"fills\"/><g class=\"errorbars\"/><g class=\"lines\"><path class=\"js-line\" d=\"M34.23,151.45L53.82,146.89L60.35,145.07L79.93,138.55L86.46,136L106.05,127.13L112.57,123.76L132.16,112.48L138.69,108.36L164.8,90.61L171.33,85.98L210.5,58.82L217.03,54.66L236.62,43.23L243.15,39.8L262.73,30.76L269.26,28.15L288.85,21.48L295.38,19.61L314.96,14.93L321.49,13.64L347.61,9.62L354.13,8.85\" style=\"vector-effect: none; fill: none; stroke: rgb(255, 165, 0); stroke-opacity: 1; stroke-width: 3px; opacity: 1;\"/></g><g class=\"points\"/><g class=\"text\"/></g></g></g><g class=\"overplot\"/><path class=\"xlines-above crisp\" d=\"M62,192.5H440\" style=\"fill: none; stroke-width: 1px; stroke: rgb(36, 36, 36); stroke-opacity: 1;\"/><path class=\"ylines-above crisp\" d=\"M62.5,15V192\" style=\"fill: none; stroke-width: 1px; stroke: rgb(36, 36, 36); stroke-opacity: 1;\"/><g class=\"overlines-above\"/><g class=\"xaxislayer-above\"><path class=\"xtick ticks crisp\" d=\"M0,193v5\" transform=\"translate(97.22999999999999,0)\" style=\"stroke: rgb(68, 68, 68); stroke-opacity: 1; stroke-width: 1px;\"/><path class=\"xtick ticks crisp\" d=\"M0,193v5\" transform=\"translate(216.68,0)\" style=\"stroke: rgb(68, 68, 68); stroke-opacity: 1; stroke-width: 1px;\"/><path class=\"xtick ticks crisp\" d=\"M0,193v5\" transform=\"translate(286.56,0)\" style=\"stroke: rgb(68, 68, 68); stroke-opacity: 1; stroke-width: 1px;\"/><path class=\"xtick ticks crisp\" d=\"M0,193v5\" transform=\"translate(336.14,0)\" style=\"stroke: rgb(68, 68, 68); stroke-opacity: 1; stroke-width: 1px;\"/><path class=\"xtick ticks crisp\" d=\"M0,193v5\" transform=\"translate(374.59,0)\" style=\"stroke: rgb(68, 68, 68); stroke-opacity: 1; stroke-width: 1px;\"/><path class=\"xtick ticks crisp\" d=\"M0,193v5\" transform=\"translate(406.01,0)\" style=\"stroke: rgb(68, 68, 68); stroke-opacity: 1; stroke-width: 1px;\"/><path class=\"xtick ticks crisp\" d=\"M0,193v5\" transform=\"translate(432.58,0)\" style=\"stroke: rgb(68, 68, 68); stroke-opacity: 1; stroke-width: 1px;\"/><g class=\"xtick\"><text text-anchor=\"middle\" x=\"0\" y=\"212.4\" transform=\"translate(97.22999999999999,0)\" style=\"font-family: 'Open Sans', verdana, arial, sans-serif; font-size: 12px; fill: rgb(36, 36, 36); fill-opacity: 1; white-space: pre; opacity: 1;\">5</text></g><g class=\"xtick\"><text text-anchor=\"middle\" x=\"0\" y=\"212.4\" style=\"font-family: 'Open Sans', verdana, arial, sans-serif; font-size: 12px; fill: rgb(36, 36, 36); fill-opacity: 1; white-space: pre; opacity: 1;\" transform=\"translate(216.68,0)\">10</text></g><g class=\"xtick\"><text text-anchor=\"middle\" x=\"0\" y=\"212.4\" style=\"font-family: 'Open Sans', verdana, arial, sans-serif; font-size: 12px; fill: rgb(36, 36, 36); fill-opacity: 1; white-space: pre; opacity: 1;\" transform=\"translate(286.56,0)\">15</text></g><g class=\"xtick\"><text text-anchor=\"middle\" x=\"0\" y=\"212.4\" style=\"font-family: 'Open Sans', verdana, arial, sans-serif; font-size: 12px; fill: rgb(36, 36, 36); fill-opacity: 1; white-space: pre; opacity: 1;\" transform=\"translate(336.14,0)\">20</text></g><g class=\"xtick\"><text text-anchor=\"middle\" x=\"0\" y=\"212.4\" style=\"font-family: 'Open Sans', verdana, arial, sans-serif; font-size: 12px; fill: rgb(36, 36, 36); fill-opacity: 1; white-space: pre; opacity: 1;\" transform=\"translate(374.59,0)\">25</text></g><g class=\"xtick\"><text text-anchor=\"middle\" x=\"0\" y=\"212.4\" style=\"font-family: 'Open Sans', verdana, arial, sans-serif; font-size: 12px; fill: rgb(36, 36, 36); fill-opacity: 1; white-space: pre; opacity: 1;\" transform=\"translate(406.01,0)\">30</text></g><g class=\"xtick\"><text text-anchor=\"middle\" x=\"0\" y=\"212.4\" style=\"font-family: 'Open Sans', verdana, arial, sans-serif; font-size: 12px; fill: rgb(36, 36, 36); fill-opacity: 1; white-space: pre; opacity: 1;\" transform=\"translate(432.58,0)\">35</text></g></g><g class=\"yaxislayer-above\"><path class=\"ytick ticks crisp\" d=\"M62,0h-5\" transform=\"translate(0,178.78)\" style=\"stroke: rgb(68, 68, 68); stroke-opacity: 1; stroke-width: 1px;\"/><path class=\"ytick ticks crisp\" d=\"M62,0h-5\" transform=\"translate(0,98.01)\" style=\"stroke: rgb(68, 68, 68); stroke-opacity: 1; stroke-width: 1px;\"/><path class=\"ytick ticks crisp\" d=\"M62,0h-5\" transform=\"translate(0,17.23)\" style=\"stroke: rgb(68, 68, 68); stroke-opacity: 1; stroke-width: 1px;\"/><g class=\"ytick\"><text text-anchor=\"end\" x=\"54.6\" y=\"4.199999999999999\" transform=\"translate(0,178.78)\" style=\"font-family: 'Open Sans', verdana, arial, sans-serif; font-size: 12px; fill: rgb(36, 36, 36); fill-opacity: 1; white-space: pre; opacity: 1;\">0</text></g><g class=\"ytick\"><text text-anchor=\"end\" x=\"54.6\" y=\"4.199999999999999\" style=\"font-family: 'Open Sans', verdana, arial, sans-serif; font-size: 12px; fill: rgb(36, 36, 36); fill-opacity: 1; white-space: pre; opacity: 1;\" transform=\"translate(0,98.01)\">0.5</text></g><g class=\"ytick\"><text text-anchor=\"end\" x=\"54.6\" y=\"4.199999999999999\" style=\"font-family: 'Open Sans', verdana, arial, sans-serif; font-size: 12px; fill: rgb(36, 36, 36); fill-opacity: 1; white-space: pre; opacity: 1;\" transform=\"translate(0,17.23)\">1</text></g></g><g class=\"overaxes-above\"/></g></g><g class=\"polarlayer\"/><g class=\"smithlayer\"/><g class=\"ternarylayer\"/><g class=\"geolayer\"/><g class=\"funnelarealayer\"/><g class=\"pielayer\"/><g class=\"iciclelayer\"/><g class=\"treemaplayer\"/><g class=\"sunburstlayer\"/><g class=\"glimages\"/><defs id=\"topdefs-9b2900\"><g class=\"clips\"/></defs><g class=\"layer-above\"><g class=\"imagelayer\"/><g class=\"shapelayer\"/></g><g class=\"infolayer\"><g class=\"g-gtitle\"/><g class=\"g-xtitle\"><text class=\"xtitle\" x=\"251.5\" y=\"239.20625\" text-anchor=\"middle\" style=\"font-family: 'Open Sans', verdana, arial, sans-serif; font-size: 14px; fill: rgb(36, 36, 36); opacity: 1; font-weight: normal; white-space: pre;\">Tree Diameter (cm)</text></g><g class=\"g-ytitle\" transform=\"translate(3.3310546875,0)\"><text class=\"ytitle\" transform=\"rotate(-90,10.668750000000003,103.5)\" x=\"10.668750000000003\" y=\"103.5\" text-anchor=\"middle\" style=\"font-family: 'Open Sans', verdana, arial, sans-serif; font-size: 14px; fill: rgb(36, 36, 36); opacity: 1; font-weight: normal; white-space: pre;\">Proportion Down</text></g></g></svg>"
      ]
     },
     "metadata": {},
     "output_type": "display_data"
    }
   ],
   "source": [
    "X_plt = pd.DataFrame(\n",
    "    {\"log_diam\": np.linspace(X[\"log_diam\"].min(), X[\"log_diam\"].max(), 50)}\n",
    ")\n",
    "p_hats = lr_model.predict_proba(X_plt)\n",
    "X_orig = np.exp(X_plt)\n",
    "\n",
    "fig = px.scatter(\n",
    "    tree_bins, x=\"diameter\", y=\"proportion\", size=\"count\", log_x=True,\n",
    "    labels={\"diameter\": \"Tree Diameter (cm)\", \"proportion\": \"Proportion Down\"},\n",
    "    width=450, height=250,\n",
    ")\n",
    "\n",
    "fig.add_trace(go.Scatter(\n",
    "    x=X_orig[\"log_diam\"], y=p_hats[:, 1], line=dict(color=\"orange\", width=3),\n",
    "))\n",
    "\n",
    "fig.update_layout(showlegend=False)\n",
    "fig"
   ]
  },
  {
   "attachments": {},
   "cell_type": "markdown",
   "metadata": {},
   "source": [
    "We can see that the curve follows the proportions reasonably well. In fact, we selected this particular logistic by fitting it to the data. The fitted logistic regression is:"
   ]
  },
  {
   "cell_type": "code",
   "execution_count": 25,
   "metadata": {
    "tags": [
     "hide-input"
    ]
   },
   "outputs": [
    {
     "name": "stdout",
     "output_type": "stream",
     "text": [
      "σ(-7.4 + 3.0x)\n"
     ]
    }
   ],
   "source": [
    "[t0] = lr_model.intercept_\n",
    "[[t1]] = lr_model.coef_\n",
    "print(f'σ({t0:.1f} + {t1:.1f}x)')"
   ]
  },
  {
   "attachments": {},
   "cell_type": "markdown",
   "metadata": {},
   "source": [
    "Now that we've seen that logistic curves can model probabilities well, we turn\n",
    "to the process of fitting logistic curves to data. In the next section, we\n",
    "proceed to our second step in modeling: selecting an appropriate loss function."
   ]
  },
  {
   "cell_type": "code",
   "execution_count": null,
   "metadata": {},
   "outputs": [],
   "source": []
  }
 ],
 "metadata": {
  "kernelspec": {
   "display_name": "Python 3 (ipykernel)",
   "language": "python",
   "name": "python3"
  },
  "language_info": {
   "codemirror_mode": {
    "name": "ipython",
    "version": 3
   },
   "file_extension": ".py",
   "mimetype": "text/x-python",
   "name": "python",
   "nbconvert_exporter": "python",
   "pygments_lexer": "ipython3",
   "version": "3.10.11"
  },
  "toc": {
   "nav_menu": {},
   "number_sections": false,
   "sideBar": false,
   "skip_h1_title": false,
   "title_cell": "Table of Contents",
   "title_sidebar": "Contents",
   "toc_cell": true,
   "toc_position": {},
   "toc_section_display": true,
   "toc_window_display": false
  }
 },
 "nbformat": 4,
 "nbformat_minor": 4
}
