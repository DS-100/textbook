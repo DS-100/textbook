{
 "cells": [
  {
   "cell_type": "code",
   "execution_count": 1,
   "metadata": {
    "tags": [
     "remove-cell"
    ]
   },
   "outputs": [],
   "source": [
    "import sys\n",
    "import os\n",
    "if not any(path.endswith('textbook') for path in sys.path):\n",
    "    sys.path.append(os.path.abspath('../../..'))\n",
    "from textbook_utils import *"
   ]
  },
  {
   "cell_type": "code",
   "execution_count": 2,
   "metadata": {
    "tags": [
     "remove-cell"
    ]
   },
   "outputs": [],
   "source": [
    "import plotly.figure_factory as ff"
   ]
  },
  {
   "cell_type": "markdown",
   "metadata": {},
   "source": [
    "# Example: Wind Damaged Trees \n",
    "\n",
    "In 1999, a huge storm with winds over 90 mph damaged millions of trees in the [Boundary Waters Canoe Area Wilderness](https://www.fs.usda.gov/detail/superior/specialplaces/?cid=fseprd555184) (BWCAW), which has the largest tract of virgin forest in the eastern US. In an effort to understand the susceptibility of trees to wind damage, a researcher named [Roy Lawrence Rich](https://www.proquest.com/docview/305463532?pq-origsite=gscholar&fromopenview=true) carried out a ground survey of the BWCAW. In the years following this study, other researchers used this dataset to model windthrow--the uprooting of trees in strong winds."
   ]
  },
  {
   "cell_type": "markdown",
   "metadata": {},
   "source": [
    "The population under study are the trees in the BWCAW. The access frame is a *transect*, a straight line that cuts through the natural landscape, beginning close to a lake and traveling orthogonal to the gradient of the land for 250-400 meters. Along these transects, surveyors stop every 25 meters and examine a 5x5 meter plot. At each plot, trees were counted, categorized as blown-down or standing, measured in diameter at 6 ft from the ground, and their species recorded. "
   ]
  },
  {
   "cell_type": "markdown",
   "metadata": {},
   "source": [
    "Sampling protocols like this are common for studying natural resources. In the BWCAW, over 80% of the land in the region is within 500 meters of a lake so the access frame nearly covers the population. The study took place the 2000 and 2001 summers, and no other natural disasters happened between the 1999 storm and when the data were collected. "
   ]
  },
  {
   "cell_type": "markdown",
   "metadata": {},
   "source": [
    "Measurements were collected on over 3600 trees, but in this example, we examine just the black spruce. There are over 650 of them. We read these data in:"
   ]
  },
  {
   "cell_type": "code",
   "execution_count": 3,
   "metadata": {},
   "outputs": [
    {
     "data": {
      "text/html": [
       "<div>\n",
       "<style scoped>\n",
       "    .dataframe tbody tr th:only-of-type {\n",
       "        vertical-align: middle;\n",
       "    }\n",
       "\n",
       "    .dataframe tbody tr th {\n",
       "        vertical-align: top;\n",
       "    }\n",
       "\n",
       "    .dataframe thead th {\n",
       "        text-align: right;\n",
       "    }\n",
       "</style>\n",
       "<table border=\"1\" class=\"dataframe\">\n",
       "  <thead>\n",
       "    <tr style=\"text-align: right;\">\n",
       "      <th></th>\n",
       "      <th>diameter</th>\n",
       "      <th>storm</th>\n",
       "      <th>status</th>\n",
       "    </tr>\n",
       "  </thead>\n",
       "  <tbody>\n",
       "    <tr>\n",
       "      <th>0</th>\n",
       "      <td>9.0</td>\n",
       "      <td>0.02</td>\n",
       "      <td>standing</td>\n",
       "    </tr>\n",
       "    <tr>\n",
       "      <th>1</th>\n",
       "      <td>11.0</td>\n",
       "      <td>0.03</td>\n",
       "      <td>standing</td>\n",
       "    </tr>\n",
       "    <tr>\n",
       "      <th>2</th>\n",
       "      <td>9.0</td>\n",
       "      <td>0.03</td>\n",
       "      <td>standing</td>\n",
       "    </tr>\n",
       "    <tr>\n",
       "      <th>...</th>\n",
       "      <td>...</td>\n",
       "      <td>...</td>\n",
       "      <td>...</td>\n",
       "    </tr>\n",
       "    <tr>\n",
       "      <th>656</th>\n",
       "      <td>9.0</td>\n",
       "      <td>0.94</td>\n",
       "      <td>fallen</td>\n",
       "    </tr>\n",
       "    <tr>\n",
       "      <th>657</th>\n",
       "      <td>17.0</td>\n",
       "      <td>0.94</td>\n",
       "      <td>fallen</td>\n",
       "    </tr>\n",
       "    <tr>\n",
       "      <th>658</th>\n",
       "      <td>8.0</td>\n",
       "      <td>0.98</td>\n",
       "      <td>fallen</td>\n",
       "    </tr>\n",
       "  </tbody>\n",
       "</table>\n",
       "<p>659 rows × 3 columns</p>\n",
       "</div>"
      ],
      "text/plain": [
       "     diameter  storm    status\n",
       "0         9.0   0.02  standing\n",
       "1        11.0   0.03  standing\n",
       "2         9.0   0.03  standing\n",
       "..        ...    ...       ...\n",
       "656       9.0   0.94    fallen\n",
       "657      17.0   0.94    fallen\n",
       "658       8.0   0.98    fallen\n",
       "\n",
       "[659 rows x 3 columns]"
      ]
     },
     "execution_count": 3,
     "metadata": {},
     "output_type": "execute_result"
    }
   ],
   "source": [
    "trees = pd.read_csv('data/black_spruce.csv')\n",
    "trees"
   ]
  },
  {
   "cell_type": "markdown",
   "metadata": {},
   "source": [
    "Each row corresponds to a single tree, and has the following attributes:\n",
    "\n",
    "- `diameter`: Diameter of the tree in cm, measured at 6 ft above the ground. \n",
    "- `storm`: Severity of the storm (fraction of trees that fell in a 25 meter-wide area containing the tree).\n",
    "- `status`: Tree has \"fallen\" or is \"standing\"."
   ]
  },
  {
   "cell_type": "markdown",
   "metadata": {},
   "source": [
    "Let's begin with some exploratory analysis before we turn to modeling. First, we calculate some simple summary statistics:"
   ]
  },
  {
   "cell_type": "code",
   "execution_count": 4,
   "metadata": {},
   "outputs": [
    {
     "data": {
      "text/html": [
       "<div>\n",
       "<style scoped>\n",
       "    .dataframe tbody tr th:only-of-type {\n",
       "        vertical-align: middle;\n",
       "    }\n",
       "\n",
       "    .dataframe tbody tr th {\n",
       "        vertical-align: top;\n",
       "    }\n",
       "\n",
       "    .dataframe thead th {\n",
       "        text-align: right;\n",
       "    }\n",
       "</style>\n",
       "<table border=\"1\" class=\"dataframe\">\n",
       "  <thead>\n",
       "    <tr style=\"text-align: right;\">\n",
       "      <th></th>\n",
       "      <th>diameter</th>\n",
       "      <th>storm</th>\n",
       "    </tr>\n",
       "  </thead>\n",
       "  <tbody>\n",
       "    <tr>\n",
       "      <th>min</th>\n",
       "      <td>5.0</td>\n",
       "      <td>0.02</td>\n",
       "    </tr>\n",
       "    <tr>\n",
       "      <th>25%</th>\n",
       "      <td>6.0</td>\n",
       "      <td>0.21</td>\n",
       "    </tr>\n",
       "    <tr>\n",
       "      <th>50%</th>\n",
       "      <td>8.0</td>\n",
       "      <td>0.36</td>\n",
       "    </tr>\n",
       "    <tr>\n",
       "      <th>75%</th>\n",
       "      <td>12.0</td>\n",
       "      <td>0.55</td>\n",
       "    </tr>\n",
       "    <tr>\n",
       "      <th>max</th>\n",
       "      <td>32.0</td>\n",
       "      <td>0.98</td>\n",
       "    </tr>\n",
       "  </tbody>\n",
       "</table>\n",
       "</div>"
      ],
      "text/plain": [
       "     diameter  storm\n",
       "min       5.0   0.02\n",
       "25%       6.0   0.21\n",
       "50%       8.0   0.36\n",
       "75%      12.0   0.55\n",
       "max      32.0   0.98"
      ]
     },
     "execution_count": 4,
     "metadata": {},
     "output_type": "execute_result"
    }
   ],
   "source": [
    "trees.describe()[3:]"
   ]
  },
  {
   "cell_type": "markdown",
   "metadata": {},
   "source": [
    "Based on the quartiles, the distribution of tree diameter seems skewed right. Let's compare  the distribution of diameter for the standing and fallen trees with histograms:"
   ]
  },
  {
   "cell_type": "code",
   "execution_count": 5,
   "metadata": {
    "tags": [
     "hide-input"
    ]
   },
   "outputs": [
    {
     "data": {
      "application/vnd.plotly.v1+json": {
       "config": {
        "plotlyServerURL": "https://plot.ly"
       },
       "data": [
        {
         "alignmentgroup": "True",
         "histnorm": "probability density",
         "hovertemplate": "diameter=%{x}<br>probability density=%{y}<extra></extra>",
         "legendgroup": "",
         "marker": {
          "color": "#1F77B4",
          "pattern": {
           "shape": ""
          }
         },
         "name": "",
         "nbinsx": 30,
         "offsetgroup": "",
         "orientation": "v",
         "showlegend": false,
         "type": "histogram",
         "x": [
          12,
          13,
          13,
          22,
          7,
          9,
          12,
          8,
          8,
          8,
          7,
          10,
          5,
          7,
          14,
          10,
          21,
          7,
          7,
          5,
          7,
          5,
          6,
          11,
          11,
          10,
          11,
          15,
          6,
          12,
          16,
          9,
          7,
          6,
          14,
          11,
          14,
          10,
          7,
          7,
          13,
          21,
          8,
          14,
          7.5,
          9.5,
          13,
          10,
          9,
          15,
          7,
          16,
          15,
          15,
          9,
          8,
          23,
          9,
          13,
          5,
          10,
          13,
          18,
          15,
          10,
          7,
          13,
          17,
          12,
          13,
          11,
          11,
          29,
          13,
          15,
          13,
          15,
          10,
          12,
          17,
          7,
          8,
          12,
          15,
          6,
          10,
          8,
          10,
          10,
          11.5,
          13.5,
          15,
          16,
          8,
          7,
          7,
          17,
          17,
          5,
          9,
          13,
          10,
          20,
          13,
          9,
          22,
          7,
          10,
          11,
          18,
          19.5,
          20,
          13.5,
          14,
          8,
          12,
          13,
          14,
          12,
          10,
          10,
          16,
          12,
          17,
          13,
          28,
          17,
          24,
          8,
          13,
          28,
          11.5,
          11.5,
          6,
          12,
          11,
          15,
          19,
          11,
          16,
          14,
          11,
          22,
          11,
          15,
          6,
          8,
          25,
          11,
          9,
          14,
          19,
          20,
          16,
          7,
          17,
          20,
          19,
          9,
          16,
          15,
          18,
          15,
          12,
          11,
          12,
          16,
          14,
          9.5,
          15,
          12,
          8.5,
          10,
          16,
          18,
          13,
          10,
          13,
          10.5,
          18,
          16,
          9,
          10,
          11,
          18,
          12,
          10,
          10,
          11,
          9,
          7,
          22.5,
          19,
          9,
          16,
          18,
          13,
          6.5,
          14,
          13,
          13,
          18,
          10,
          16,
          32,
          5,
          9,
          20,
          11,
          14,
          27,
          17,
          12,
          11,
          11,
          15,
          15,
          11,
          14,
          14,
          20,
          13,
          11,
          10,
          18,
          21,
          5.5,
          21,
          16,
          14,
          9,
          17,
          8
         ],
         "xaxis": "x",
         "yaxis": "y"
        },
        {
         "alignmentgroup": "True",
         "histnorm": "probability density",
         "hovertemplate": "diameter=%{x}<br>probability density=%{y}<extra></extra>",
         "legendgroup": "",
         "marker": {
          "color": "#1F77B4",
          "pattern": {
           "shape": ""
          }
         },
         "name": "",
         "offsetgroup": "",
         "orientation": "v",
         "showlegend": false,
         "type": "histogram",
         "x": [
          9,
          11,
          9,
          9,
          5,
          8,
          8,
          6,
          8,
          5,
          22,
          6,
          8,
          8,
          9,
          10,
          7,
          14,
          15,
          17,
          12,
          8,
          14,
          12,
          18,
          13,
          8,
          7,
          6,
          5,
          9,
          14,
          11,
          7,
          6,
          5,
          6,
          5,
          5,
          10,
          5,
          6,
          6,
          5,
          5,
          8,
          16,
          10,
          5,
          9,
          12,
          5,
          10,
          7,
          5,
          7,
          5,
          14,
          5,
          17,
          5,
          11,
          6,
          7,
          7,
          25,
          7,
          8,
          14,
          19,
          17,
          14,
          6,
          6,
          6,
          8,
          6,
          9,
          11,
          6,
          7,
          5,
          7,
          7,
          11,
          11,
          13,
          10,
          10,
          5,
          5,
          5,
          6,
          6,
          9,
          14,
          11,
          13,
          9,
          6,
          5,
          9,
          6,
          5,
          14,
          5,
          10,
          10,
          16,
          7,
          10,
          6,
          9,
          7,
          5,
          5,
          6,
          5,
          5,
          5,
          7,
          6,
          6,
          6,
          7,
          6,
          5,
          12,
          7,
          14,
          8,
          10,
          16,
          11,
          14,
          10,
          8,
          10,
          6,
          6,
          9,
          9,
          9,
          8,
          7,
          7,
          7,
          5,
          7,
          5,
          6,
          5,
          11,
          5,
          7,
          8,
          10,
          5,
          8,
          5,
          7,
          8,
          8,
          6,
          6,
          7,
          6,
          5,
          9,
          7,
          6,
          16,
          6,
          6,
          8,
          7,
          29,
          6,
          6,
          9,
          8,
          7,
          7,
          5,
          7,
          6,
          8,
          9,
          10,
          8,
          8,
          6,
          7,
          8,
          20,
          7,
          8,
          6,
          7,
          6,
          10,
          10,
          12,
          6,
          9,
          5,
          5,
          6,
          5,
          7,
          6,
          6,
          5,
          8,
          7,
          8,
          6,
          8,
          6,
          8,
          12,
          12,
          7,
          7,
          10,
          8,
          5,
          6,
          8,
          8,
          8,
          16,
          9,
          6,
          9,
          13,
          13,
          10,
          14,
          7,
          5,
          5,
          8,
          11,
          7,
          7,
          6,
          5,
          6,
          6,
          7,
          5,
          5,
          9,
          6,
          6,
          7,
          5,
          6,
          6,
          6,
          5,
          6,
          5,
          10,
          8,
          7,
          5,
          5,
          8,
          12,
          13,
          8,
          8,
          7,
          5,
          10,
          7,
          7,
          6,
          5,
          6,
          7,
          9,
          7,
          7,
          5,
          7,
          7,
          5,
          5,
          5,
          7,
          7,
          5,
          6,
          8,
          7,
          10,
          9,
          6,
          7,
          8,
          5,
          7,
          8,
          9,
          8,
          6,
          6,
          5,
          13,
          12,
          11,
          14,
          7,
          5,
          7,
          7,
          6,
          8,
          7,
          11,
          8,
          8,
          7,
          7,
          8,
          7,
          10,
          7,
          8,
          14,
          8,
          11,
          7,
          10,
          5,
          9,
          5,
          6,
          5,
          8,
          9,
          5,
          10,
          10,
          6,
          8,
          8,
          16,
          9,
          6,
          6,
          7,
          17,
          9,
          5,
          7,
          7,
          5,
          5,
          5,
          6,
          6,
          7,
          6,
          9.5,
          20,
          8,
          5,
          5,
          7,
          9,
          8,
          8,
          9,
          10,
          6,
          5,
          6,
          5,
          7,
          5,
          6,
          5,
          9,
          6,
          6,
          6,
          6,
          9,
          9,
          6,
          8,
          7,
          6,
          5,
          8,
          10,
          23,
          11,
          9,
          10,
          7,
          6,
          6,
          6,
          5,
          5,
          5,
          8,
          5.5,
          12,
          7,
          6,
          10,
          8,
          10.5,
          7,
          5,
          6,
          5,
          6,
          6,
          5
         ],
         "xaxis": "x2",
         "yaxis": "y2"
        }
       ],
       "layout": {
        "height": 250,
        "template": {
         "data": {
          "bar": [
           {
            "error_x": {
             "color": "rgb(36,36,36)"
            },
            "error_y": {
             "color": "rgb(36,36,36)"
            },
            "marker": {
             "line": {
              "color": "white",
              "width": 0.5
             },
             "pattern": {
              "fillmode": "overlay",
              "size": 10,
              "solidity": 0.2
             }
            },
            "type": "bar"
           }
          ],
          "barpolar": [
           {
            "marker": {
             "line": {
              "color": "white",
              "width": 0.5
             },
             "pattern": {
              "fillmode": "overlay",
              "size": 10,
              "solidity": 0.2
             }
            },
            "type": "barpolar"
           }
          ],
          "carpet": [
           {
            "aaxis": {
             "endlinecolor": "rgb(36,36,36)",
             "gridcolor": "white",
             "linecolor": "white",
             "minorgridcolor": "white",
             "startlinecolor": "rgb(36,36,36)"
            },
            "baxis": {
             "endlinecolor": "rgb(36,36,36)",
             "gridcolor": "white",
             "linecolor": "white",
             "minorgridcolor": "white",
             "startlinecolor": "rgb(36,36,36)"
            },
            "type": "carpet"
           }
          ],
          "choropleth": [
           {
            "colorbar": {
             "outlinewidth": 1,
             "tickcolor": "rgb(36,36,36)",
             "ticks": "outside"
            },
            "type": "choropleth"
           }
          ],
          "contour": [
           {
            "colorbar": {
             "outlinewidth": 1,
             "tickcolor": "rgb(36,36,36)",
             "ticks": "outside"
            },
            "colorscale": [
             [
              0,
              "#440154"
             ],
             [
              0.1111111111111111,
              "#482878"
             ],
             [
              0.2222222222222222,
              "#3e4989"
             ],
             [
              0.3333333333333333,
              "#31688e"
             ],
             [
              0.4444444444444444,
              "#26828e"
             ],
             [
              0.5555555555555556,
              "#1f9e89"
             ],
             [
              0.6666666666666666,
              "#35b779"
             ],
             [
              0.7777777777777778,
              "#6ece58"
             ],
             [
              0.8888888888888888,
              "#b5de2b"
             ],
             [
              1,
              "#fde725"
             ]
            ],
            "type": "contour"
           }
          ],
          "contourcarpet": [
           {
            "colorbar": {
             "outlinewidth": 1,
             "tickcolor": "rgb(36,36,36)",
             "ticks": "outside"
            },
            "type": "contourcarpet"
           }
          ],
          "heatmap": [
           {
            "colorbar": {
             "outlinewidth": 1,
             "tickcolor": "rgb(36,36,36)",
             "ticks": "outside"
            },
            "colorscale": [
             [
              0,
              "#440154"
             ],
             [
              0.1111111111111111,
              "#482878"
             ],
             [
              0.2222222222222222,
              "#3e4989"
             ],
             [
              0.3333333333333333,
              "#31688e"
             ],
             [
              0.4444444444444444,
              "#26828e"
             ],
             [
              0.5555555555555556,
              "#1f9e89"
             ],
             [
              0.6666666666666666,
              "#35b779"
             ],
             [
              0.7777777777777778,
              "#6ece58"
             ],
             [
              0.8888888888888888,
              "#b5de2b"
             ],
             [
              1,
              "#fde725"
             ]
            ],
            "type": "heatmap"
           }
          ],
          "heatmapgl": [
           {
            "colorbar": {
             "outlinewidth": 1,
             "tickcolor": "rgb(36,36,36)",
             "ticks": "outside"
            },
            "colorscale": [
             [
              0,
              "#440154"
             ],
             [
              0.1111111111111111,
              "#482878"
             ],
             [
              0.2222222222222222,
              "#3e4989"
             ],
             [
              0.3333333333333333,
              "#31688e"
             ],
             [
              0.4444444444444444,
              "#26828e"
             ],
             [
              0.5555555555555556,
              "#1f9e89"
             ],
             [
              0.6666666666666666,
              "#35b779"
             ],
             [
              0.7777777777777778,
              "#6ece58"
             ],
             [
              0.8888888888888888,
              "#b5de2b"
             ],
             [
              1,
              "#fde725"
             ]
            ],
            "type": "heatmapgl"
           }
          ],
          "histogram": [
           {
            "marker": {
             "line": {
              "color": "white",
              "width": 0.6
             }
            },
            "type": "histogram"
           }
          ],
          "histogram2d": [
           {
            "colorbar": {
             "outlinewidth": 1,
             "tickcolor": "rgb(36,36,36)",
             "ticks": "outside"
            },
            "colorscale": [
             [
              0,
              "#440154"
             ],
             [
              0.1111111111111111,
              "#482878"
             ],
             [
              0.2222222222222222,
              "#3e4989"
             ],
             [
              0.3333333333333333,
              "#31688e"
             ],
             [
              0.4444444444444444,
              "#26828e"
             ],
             [
              0.5555555555555556,
              "#1f9e89"
             ],
             [
              0.6666666666666666,
              "#35b779"
             ],
             [
              0.7777777777777778,
              "#6ece58"
             ],
             [
              0.8888888888888888,
              "#b5de2b"
             ],
             [
              1,
              "#fde725"
             ]
            ],
            "type": "histogram2d"
           }
          ],
          "histogram2dcontour": [
           {
            "colorbar": {
             "outlinewidth": 1,
             "tickcolor": "rgb(36,36,36)",
             "ticks": "outside"
            },
            "colorscale": [
             [
              0,
              "#440154"
             ],
             [
              0.1111111111111111,
              "#482878"
             ],
             [
              0.2222222222222222,
              "#3e4989"
             ],
             [
              0.3333333333333333,
              "#31688e"
             ],
             [
              0.4444444444444444,
              "#26828e"
             ],
             [
              0.5555555555555556,
              "#1f9e89"
             ],
             [
              0.6666666666666666,
              "#35b779"
             ],
             [
              0.7777777777777778,
              "#6ece58"
             ],
             [
              0.8888888888888888,
              "#b5de2b"
             ],
             [
              1,
              "#fde725"
             ]
            ],
            "type": "histogram2dcontour"
           }
          ],
          "mesh3d": [
           {
            "colorbar": {
             "outlinewidth": 1,
             "tickcolor": "rgb(36,36,36)",
             "ticks": "outside"
            },
            "type": "mesh3d"
           }
          ],
          "parcoords": [
           {
            "line": {
             "colorbar": {
              "outlinewidth": 1,
              "tickcolor": "rgb(36,36,36)",
              "ticks": "outside"
             }
            },
            "type": "parcoords"
           }
          ],
          "pie": [
           {
            "automargin": true,
            "type": "pie"
           }
          ],
          "scatter": [
           {
            "marker": {
             "colorbar": {
              "outlinewidth": 1,
              "tickcolor": "rgb(36,36,36)",
              "ticks": "outside"
             }
            },
            "type": "scatter"
           }
          ],
          "scatter3d": [
           {
            "line": {
             "colorbar": {
              "outlinewidth": 1,
              "tickcolor": "rgb(36,36,36)",
              "ticks": "outside"
             }
            },
            "marker": {
             "colorbar": {
              "outlinewidth": 1,
              "tickcolor": "rgb(36,36,36)",
              "ticks": "outside"
             }
            },
            "type": "scatter3d"
           }
          ],
          "scattercarpet": [
           {
            "marker": {
             "colorbar": {
              "outlinewidth": 1,
              "tickcolor": "rgb(36,36,36)",
              "ticks": "outside"
             }
            },
            "type": "scattercarpet"
           }
          ],
          "scattergeo": [
           {
            "marker": {
             "colorbar": {
              "outlinewidth": 1,
              "tickcolor": "rgb(36,36,36)",
              "ticks": "outside"
             }
            },
            "type": "scattergeo"
           }
          ],
          "scattergl": [
           {
            "marker": {
             "colorbar": {
              "outlinewidth": 1,
              "tickcolor": "rgb(36,36,36)",
              "ticks": "outside"
             }
            },
            "type": "scattergl"
           }
          ],
          "scattermapbox": [
           {
            "marker": {
             "colorbar": {
              "outlinewidth": 1,
              "tickcolor": "rgb(36,36,36)",
              "ticks": "outside"
             }
            },
            "type": "scattermapbox"
           }
          ],
          "scatterpolar": [
           {
            "marker": {
             "colorbar": {
              "outlinewidth": 1,
              "tickcolor": "rgb(36,36,36)",
              "ticks": "outside"
             }
            },
            "type": "scatterpolar"
           }
          ],
          "scatterpolargl": [
           {
            "marker": {
             "colorbar": {
              "outlinewidth": 1,
              "tickcolor": "rgb(36,36,36)",
              "ticks": "outside"
             }
            },
            "type": "scatterpolargl"
           }
          ],
          "scatterternary": [
           {
            "marker": {
             "colorbar": {
              "outlinewidth": 1,
              "tickcolor": "rgb(36,36,36)",
              "ticks": "outside"
             }
            },
            "type": "scatterternary"
           }
          ],
          "surface": [
           {
            "colorbar": {
             "outlinewidth": 1,
             "tickcolor": "rgb(36,36,36)",
             "ticks": "outside"
            },
            "colorscale": [
             [
              0,
              "#440154"
             ],
             [
              0.1111111111111111,
              "#482878"
             ],
             [
              0.2222222222222222,
              "#3e4989"
             ],
             [
              0.3333333333333333,
              "#31688e"
             ],
             [
              0.4444444444444444,
              "#26828e"
             ],
             [
              0.5555555555555556,
              "#1f9e89"
             ],
             [
              0.6666666666666666,
              "#35b779"
             ],
             [
              0.7777777777777778,
              "#6ece58"
             ],
             [
              0.8888888888888888,
              "#b5de2b"
             ],
             [
              1,
              "#fde725"
             ]
            ],
            "type": "surface"
           }
          ],
          "table": [
           {
            "cells": {
             "fill": {
              "color": "rgb(237,237,237)"
             },
             "line": {
              "color": "white"
             }
            },
            "header": {
             "fill": {
              "color": "rgb(217,217,217)"
             },
             "line": {
              "color": "white"
             }
            },
            "type": "table"
           }
          ]
         },
         "layout": {
          "annotationdefaults": {
           "arrowhead": 0,
           "arrowwidth": 1
          },
          "autosize": true,
          "autotypenumbers": "strict",
          "coloraxis": {
           "colorbar": {
            "outlinewidth": 1,
            "tickcolor": "rgb(36,36,36)",
            "ticks": "outside"
           }
          },
          "colorscale": {
           "diverging": [
            [
             0,
             "rgb(103,0,31)"
            ],
            [
             0.1,
             "rgb(178,24,43)"
            ],
            [
             0.2,
             "rgb(214,96,77)"
            ],
            [
             0.3,
             "rgb(244,165,130)"
            ],
            [
             0.4,
             "rgb(253,219,199)"
            ],
            [
             0.5,
             "rgb(247,247,247)"
            ],
            [
             0.6,
             "rgb(209,229,240)"
            ],
            [
             0.7,
             "rgb(146,197,222)"
            ],
            [
             0.8,
             "rgb(67,147,195)"
            ],
            [
             0.9,
             "rgb(33,102,172)"
            ],
            [
             1,
             "rgb(5,48,97)"
            ]
           ],
           "sequential": [
            [
             0,
             "#440154"
            ],
            [
             0.1111111111111111,
             "#482878"
            ],
            [
             0.2222222222222222,
             "#3e4989"
            ],
            [
             0.3333333333333333,
             "#31688e"
            ],
            [
             0.4444444444444444,
             "#26828e"
            ],
            [
             0.5555555555555556,
             "#1f9e89"
            ],
            [
             0.6666666666666666,
             "#35b779"
            ],
            [
             0.7777777777777778,
             "#6ece58"
            ],
            [
             0.8888888888888888,
             "#b5de2b"
            ],
            [
             1,
             "#fde725"
            ]
           ],
           "sequentialminus": [
            [
             0,
             "#440154"
            ],
            [
             0.1111111111111111,
             "#482878"
            ],
            [
             0.2222222222222222,
             "#3e4989"
            ],
            [
             0.3333333333333333,
             "#31688e"
            ],
            [
             0.4444444444444444,
             "#26828e"
            ],
            [
             0.5555555555555556,
             "#1f9e89"
            ],
            [
             0.6666666666666666,
             "#35b779"
            ],
            [
             0.7777777777777778,
             "#6ece58"
            ],
            [
             0.8888888888888888,
             "#b5de2b"
            ],
            [
             1,
             "#fde725"
            ]
           ]
          },
          "colorway": [
           "#1F77B4",
           "#FF7F0E",
           "#2CA02C",
           "#D62728",
           "#9467BD",
           "#8C564B",
           "#E377C2",
           "#7F7F7F",
           "#BCBD22",
           "#17BECF"
          ],
          "font": {
           "color": "rgb(36,36,36)"
          },
          "geo": {
           "bgcolor": "white",
           "lakecolor": "white",
           "landcolor": "white",
           "showlakes": true,
           "showland": true,
           "subunitcolor": "white"
          },
          "height": 250,
          "hoverlabel": {
           "align": "left"
          },
          "hovermode": "closest",
          "mapbox": {
           "style": "light"
          },
          "margin": {
           "b": 10,
           "l": 10,
           "r": 10,
           "t": 10
          },
          "paper_bgcolor": "white",
          "plot_bgcolor": "white",
          "polar": {
           "angularaxis": {
            "gridcolor": "rgb(232,232,232)",
            "linecolor": "rgb(36,36,36)",
            "showgrid": false,
            "showline": true,
            "ticks": "outside"
           },
           "bgcolor": "white",
           "radialaxis": {
            "gridcolor": "rgb(232,232,232)",
            "linecolor": "rgb(36,36,36)",
            "showgrid": false,
            "showline": true,
            "ticks": "outside"
           }
          },
          "scene": {
           "xaxis": {
            "backgroundcolor": "white",
            "gridcolor": "rgb(232,232,232)",
            "gridwidth": 2,
            "linecolor": "rgb(36,36,36)",
            "showbackground": true,
            "showgrid": false,
            "showline": true,
            "ticks": "outside",
            "zeroline": false,
            "zerolinecolor": "rgb(36,36,36)"
           },
           "yaxis": {
            "backgroundcolor": "white",
            "gridcolor": "rgb(232,232,232)",
            "gridwidth": 2,
            "linecolor": "rgb(36,36,36)",
            "showbackground": true,
            "showgrid": false,
            "showline": true,
            "ticks": "outside",
            "zeroline": false,
            "zerolinecolor": "rgb(36,36,36)"
           },
           "zaxis": {
            "backgroundcolor": "white",
            "gridcolor": "rgb(232,232,232)",
            "gridwidth": 2,
            "linecolor": "rgb(36,36,36)",
            "showbackground": true,
            "showgrid": false,
            "showline": true,
            "ticks": "outside",
            "zeroline": false,
            "zerolinecolor": "rgb(36,36,36)"
           }
          },
          "shapedefaults": {
           "fillcolor": "black",
           "line": {
            "width": 0
           },
           "opacity": 0.3
          },
          "ternary": {
           "aaxis": {
            "gridcolor": "rgb(232,232,232)",
            "linecolor": "rgb(36,36,36)",
            "showgrid": false,
            "showline": true,
            "ticks": "outside"
           },
           "baxis": {
            "gridcolor": "rgb(232,232,232)",
            "linecolor": "rgb(36,36,36)",
            "showgrid": false,
            "showline": true,
            "ticks": "outside"
           },
           "bgcolor": "white",
           "caxis": {
            "gridcolor": "rgb(232,232,232)",
            "linecolor": "rgb(36,36,36)",
            "showgrid": false,
            "showline": true,
            "ticks": "outside"
           }
          },
          "title": {
           "x": 0.5,
           "xanchor": "center"
          },
          "width": 350,
          "xaxis": {
           "automargin": true,
           "gridcolor": "rgb(232,232,232)",
           "linecolor": "rgb(36,36,36)",
           "showgrid": true,
           "showline": true,
           "ticks": "outside",
           "title": {
            "standoff": 15
           },
           "zeroline": false,
           "zerolinecolor": "rgb(36,36,36)"
          },
          "yaxis": {
           "automargin": true,
           "gridcolor": "rgb(232,232,232)",
           "linecolor": "rgb(36,36,36)",
           "showgrid": true,
           "showline": true,
           "ticks": "outside",
           "title": {
            "standoff": 15
           },
           "zeroline": false,
           "zerolinecolor": "rgb(36,36,36)"
          }
         }
        },
        "width": 600,
        "xaxis": {
         "anchor": "y",
         "domain": [
          0,
          0.45
         ],
         "range": [
          3,
          35
         ],
         "title": {
          "text": "Fallen Tree Diameter (cm)"
         },
         "type": "linear"
        },
        "xaxis2": {
         "anchor": "y2",
         "domain": [
          0.55,
          1
         ],
         "range": [
          3,
          35
         ],
         "title": {
          "text": "Standing Tree Diameter (cm)"
         },
         "type": "linear"
        },
        "yaxis": {
         "anchor": "x",
         "autorange": true,
         "domain": [
          0,
          1
         ],
         "range": [
          0,
          0.10842557036367743
         ],
         "title": {
          "text": "Density"
         }
        },
        "yaxis2": {
         "anchor": "x2",
         "autorange": true,
         "domain": [
          0,
          1
         ],
         "range": [
          0,
          0.2125030887076847
         ]
        }
       }
      },
      "image/png": "[encoded data removed]",
      "image/svg+xml": [
       "<svg class=\"main-svg\" xmlns=\"http://www.w3.org/2000/svg\" xmlns:xlink=\"http://www.w3.org/1999/xlink\" width=\"600\" height=\"250\" style=\"\" viewBox=\"0 0 600 250\"><rect x=\"0\" y=\"0\" width=\"600\" height=\"250\" style=\"fill: rgb(255, 255, 255); fill-opacity: 1;\"/><defs id=\"defs-c450bf\"><g class=\"clips\"><clipPath id=\"clipc450bfxyplot\" class=\"plotclip\"><rect width=\"235.35\" height=\"181\"/></clipPath><clipPath id=\"clipc450bfx2y2plot\" class=\"plotclip\"><rect width=\"235.34999999999997\" height=\"181\"/></clipPath><clipPath class=\"axesclip\" id=\"clipc450bfx\"><rect x=\"67\" y=\"0\" width=\"235.35\" height=\"250\"/></clipPath><clipPath class=\"axesclip\" id=\"clipc450bfy\"><rect x=\"0\" y=\"10\" width=\"600\" height=\"181\"/></clipPath><clipPath class=\"axesclip\" id=\"clipc450bfxy\"><rect x=\"67\" y=\"10\" width=\"235.35\" height=\"181\"/></clipPath><clipPath class=\"axesclip\" id=\"clipc450bfy2\"><rect x=\"0\" y=\"10\" width=\"600\" height=\"181\"/></clipPath><clipPath class=\"axesclip\" id=\"clipc450bfxy2\"><rect x=\"67\" y=\"10\" width=\"235.35\" height=\"181\"/></clipPath><clipPath class=\"axesclip\" id=\"clipc450bfx2\"><rect x=\"354.65000000000003\" y=\"0\" width=\"235.34999999999997\" height=\"250\"/></clipPath><clipPath class=\"axesclip\" id=\"clipc450bfx2y\"><rect x=\"354.65000000000003\" y=\"10\" width=\"235.34999999999997\" height=\"181\"/></clipPath><clipPath class=\"axesclip\" id=\"clipc450bfx2y2\"><rect x=\"354.65000000000003\" y=\"10\" width=\"235.34999999999997\" height=\"181\"/></clipPath></g><g class=\"gradients\"/><g class=\"patterns\"/></defs><g class=\"bglayer\"/><g class=\"layer-below\"><g class=\"imagelayer\"/><g class=\"shapelayer\"/></g><g class=\"cartesianlayer\"><g class=\"subplot xy\"><g class=\"layer-subplot\"><g class=\"shapelayer\"/><g class=\"imagelayer\"/></g><g class=\"gridlayer\"><g class=\"x\"><path class=\"xgrid crisp\" transform=\"translate(118.47999999999999,0)\" d=\"M0,10v181\" style=\"stroke: rgb(232, 232, 232); stroke-opacity: 1; stroke-width: 1px;\"/><path class=\"xgrid crisp\" transform=\"translate(192.03,0)\" d=\"M0,10v181\" style=\"stroke: rgb(232, 232, 232); stroke-opacity: 1; stroke-width: 1px;\"/><path class=\"xgrid crisp\" transform=\"translate(265.58000000000004,0)\" d=\"M0,10v181\" style=\"stroke: rgb(232, 232, 232); stroke-opacity: 1; stroke-width: 1px;\"/></g><g class=\"y\"><path class=\"ygrid crisp\" transform=\"translate(0,157.61)\" d=\"M67,0h235.35\" style=\"stroke: rgb(232, 232, 232); stroke-opacity: 1; stroke-width: 1px;\"/><path class=\"ygrid crisp\" transform=\"translate(0,124.23)\" d=\"M67,0h235.35\" style=\"stroke: rgb(232, 232, 232); stroke-opacity: 1; stroke-width: 1px;\"/><path class=\"ygrid crisp\" transform=\"translate(0,90.84)\" d=\"M67,0h235.35\" style=\"stroke: rgb(232, 232, 232); stroke-opacity: 1; stroke-width: 1px;\"/><path class=\"ygrid crisp\" transform=\"translate(0,57.45)\" d=\"M67,0h235.35\" style=\"stroke: rgb(232, 232, 232); stroke-opacity: 1; stroke-width: 1px;\"/><path class=\"ygrid crisp\" transform=\"translate(0,24.07)\" d=\"M67,0h235.35\" style=\"stroke: rgb(232, 232, 232); stroke-opacity: 1; stroke-width: 1px;\"/></g></g><g class=\"zerolinelayer\"/><path class=\"xlines-below\"/><path class=\"ylines-below\"/><g class=\"overlines-below\"/><g class=\"xaxislayer-below\"/><g class=\"yaxislayer-below\"/><g class=\"overaxes-below\"/><g class=\"plot\" transform=\"translate(67,10)\" clip-path=\"url(#clipc450bfxyplot)\"><g class=\"barlayer mlayer\"><g class=\"trace bars\" style=\"opacity: 1;\"><g class=\"points\"><g class=\"point\"><path d=\"M11.03,181V138.01H18.39V181Z\" style=\"vector-effect: non-scaling-stroke; opacity: 1; stroke-width: 0.6px; fill: rgb(31, 119, 180); fill-opacity: 1; stroke: rgb(255, 255, 255); stroke-opacity: 1;\"/></g><g class=\"point\"><path d=\"M18.39,181V130.85H25.74V181Z\" style=\"vector-effect: non-scaling-stroke; opacity: 1; stroke-width: 0.6px; fill: rgb(31, 119, 180); fill-opacity: 1; stroke: rgb(255, 255, 255); stroke-opacity: 1;\"/></g><g class=\"point\"><path d=\"M25.74,181V52.04H33.1V181Z\" style=\"vector-effect: non-scaling-stroke; opacity: 1; stroke-width: 0.6px; fill: rgb(31, 119, 180); fill-opacity: 1; stroke: rgb(255, 255, 255); stroke-opacity: 1;\"/></g><g class=\"point\"><path d=\"M33.1,181V87.86H40.45V181Z\" style=\"vector-effect: non-scaling-stroke; opacity: 1; stroke-width: 0.6px; fill: rgb(31, 119, 180); fill-opacity: 1; stroke: rgb(255, 255, 255); stroke-opacity: 1;\"/></g><g class=\"point\"><path d=\"M40.45,181V73.53H47.81V181Z\" style=\"vector-effect: non-scaling-stroke; opacity: 1; stroke-width: 0.6px; fill: rgb(31, 119, 180); fill-opacity: 1; stroke: rgb(255, 255, 255); stroke-opacity: 1;\"/></g><g class=\"point\"><path d=\"M47.81,181V9.05H55.16V181Z\" style=\"vector-effect: non-scaling-stroke; opacity: 1; stroke-width: 0.6px; fill: rgb(31, 119, 180); fill-opacity: 1; stroke: rgb(255, 255, 255); stroke-opacity: 1;\"/></g><g class=\"point\"><path d=\"M55.16,181V30.54H62.51V181Z\" style=\"vector-effect: non-scaling-stroke; opacity: 1; stroke-width: 0.6px; fill: rgb(31, 119, 180); fill-opacity: 1; stroke: rgb(255, 255, 255); stroke-opacity: 1;\"/></g><g class=\"point\"><path d=\"M62.51,181V52.04H69.87V181Z\" style=\"vector-effect: non-scaling-stroke; opacity: 1; stroke-width: 0.6px; fill: rgb(31, 119, 180); fill-opacity: 1; stroke: rgb(255, 255, 255); stroke-opacity: 1;\"/></g><g class=\"point\"><path d=\"M69.87,181V30.54H77.22V181Z\" style=\"vector-effect: non-scaling-stroke; opacity: 1; stroke-width: 0.6px; fill: rgb(31, 119, 180); fill-opacity: 1; stroke: rgb(255, 255, 255); stroke-opacity: 1;\"/></g><g class=\"point\"><path d=\"M77.22,181V66.37H84.58V181Z\" style=\"vector-effect: non-scaling-stroke; opacity: 1; stroke-width: 0.6px; fill: rgb(31, 119, 180); fill-opacity: 1; stroke: rgb(255, 255, 255); stroke-opacity: 1;\"/></g><g class=\"point\"><path d=\"M84.58,181V66.37H91.93V181Z\" style=\"vector-effect: non-scaling-stroke; opacity: 1; stroke-width: 0.6px; fill: rgb(31, 119, 180); fill-opacity: 1; stroke: rgb(255, 255, 255); stroke-opacity: 1;\"/></g><g class=\"point\"><path d=\"M91.93,181V87.86H99.29V181Z\" style=\"vector-effect: non-scaling-stroke; opacity: 1; stroke-width: 0.6px; fill: rgb(31, 119, 180); fill-opacity: 1; stroke: rgb(255, 255, 255); stroke-opacity: 1;\"/></g><g class=\"point\"><path d=\"M99.29,181V116.52H106.64V181Z\" style=\"vector-effect: non-scaling-stroke; opacity: 1; stroke-width: 0.6px; fill: rgb(31, 119, 180); fill-opacity: 1; stroke: rgb(255, 255, 255); stroke-opacity: 1;\"/></g><g class=\"point\"><path d=\"M106.64,181V116.52H114V181Z\" style=\"vector-effect: non-scaling-stroke; opacity: 1; stroke-width: 0.6px; fill: rgb(31, 119, 180); fill-opacity: 1; stroke: rgb(255, 255, 255); stroke-opacity: 1;\"/></g><g class=\"point\"><path d=\"M114,181V152.34H121.35V181Z\" style=\"vector-effect: non-scaling-stroke; opacity: 1; stroke-width: 0.6px; fill: rgb(31, 119, 180); fill-opacity: 1; stroke: rgb(255, 255, 255); stroke-opacity: 1;\"/></g><g class=\"point\"><path d=\"M121.35,181V130.85H128.71V181Z\" style=\"vector-effect: non-scaling-stroke; opacity: 1; stroke-width: 0.6px; fill: rgb(31, 119, 180); fill-opacity: 1; stroke: rgb(255, 255, 255); stroke-opacity: 1;\"/></g><g class=\"point\"><path d=\"M128.71,181V152.34H136.06V181Z\" style=\"vector-effect: non-scaling-stroke; opacity: 1; stroke-width: 0.6px; fill: rgb(31, 119, 180); fill-opacity: 1; stroke: rgb(255, 255, 255); stroke-opacity: 1;\"/></g><g class=\"point\"><path d=\"M136.06,181V159.51H143.42V181Z\" style=\"vector-effect: non-scaling-stroke; opacity: 1; stroke-width: 0.6px; fill: rgb(31, 119, 180); fill-opacity: 1; stroke: rgb(255, 255, 255); stroke-opacity: 1;\"/></g><g class=\"point\"><path d=\"M143.42,181V166.67H150.77V181Z\" style=\"vector-effect: non-scaling-stroke; opacity: 1; stroke-width: 0.6px; fill: rgb(31, 119, 180); fill-opacity: 1; stroke: rgb(255, 255, 255); stroke-opacity: 1;\"/></g><g class=\"point\"><path d=\"M150.77,181V173.84H158.13V181Z\" style=\"vector-effect: non-scaling-stroke; opacity: 1; stroke-width: 0.6px; fill: rgb(31, 119, 180); fill-opacity: 1; stroke: rgb(255, 255, 255); stroke-opacity: 1;\"/></g><g class=\"point\"><path d=\"M158.13,181V173.84H165.48V181Z\" style=\"vector-effect: non-scaling-stroke; opacity: 1; stroke-width: 0.6px; fill: rgb(31, 119, 180); fill-opacity: 1; stroke: rgb(255, 255, 255); stroke-opacity: 1;\"/></g><g class=\"point\"><path d=\"M0,0Z\" style=\"vector-effect: non-scaling-stroke; opacity: 1; stroke-width: 0px; fill: rgb(31, 119, 180); fill-opacity: 1; stroke: rgb(255, 255, 255); stroke-opacity: 1;\"/></g><g class=\"point\"><path d=\"M172.84,181V173.84H180.19V181Z\" style=\"vector-effect: non-scaling-stroke; opacity: 1; stroke-width: 0.6px; fill: rgb(31, 119, 180); fill-opacity: 1; stroke: rgb(255, 255, 255); stroke-opacity: 1;\"/></g><g class=\"point\"><path d=\"M180.19,181V166.67H187.54V181Z\" style=\"vector-effect: non-scaling-stroke; opacity: 1; stroke-width: 0.6px; fill: rgb(31, 119, 180); fill-opacity: 1; stroke: rgb(255, 255, 255); stroke-opacity: 1;\"/></g><g class=\"point\"><path d=\"M187.54,181V173.84H194.9V181Z\" style=\"vector-effect: non-scaling-stroke; opacity: 1; stroke-width: 0.6px; fill: rgb(31, 119, 180); fill-opacity: 1; stroke: rgb(255, 255, 255); stroke-opacity: 1;\"/></g><g class=\"point\"><path d=\"M0,0Z\" style=\"vector-effect: non-scaling-stroke; opacity: 1; stroke-width: 0px; fill: rgb(31, 119, 180); fill-opacity: 1; stroke: rgb(255, 255, 255); stroke-opacity: 1;\"/></g><g class=\"point\"><path d=\"M0,0Z\" style=\"vector-effect: non-scaling-stroke; opacity: 1; stroke-width: 0px; fill: rgb(31, 119, 180); fill-opacity: 1; stroke: rgb(255, 255, 255); stroke-opacity: 1;\"/></g><g class=\"point\"><path d=\"M209.61,181V173.84H216.96V181Z\" style=\"vector-effect: non-scaling-stroke; opacity: 1; stroke-width: 0.6px; fill: rgb(31, 119, 180); fill-opacity: 1; stroke: rgb(255, 255, 255); stroke-opacity: 1;\"/></g></g></g></g></g><g class=\"overplot\"/><path class=\"xlines-above crisp\" d=\"M66,191.5H302.35\" style=\"fill: none; stroke-width: 1px; stroke: rgb(36, 36, 36); stroke-opacity: 1;\"/><path class=\"ylines-above crisp\" d=\"M66.5,10V191\" style=\"fill: none; stroke-width: 1px; stroke: rgb(36, 36, 36); stroke-opacity: 1;\"/><g class=\"overlines-above\"/><g class=\"xaxislayer-above\"><path class=\"xtick ticks crisp\" d=\"M0,192v5\" transform=\"translate(118.47999999999999,0)\" style=\"stroke: rgb(68, 68, 68); stroke-opacity: 1; stroke-width: 1px;\"/><path class=\"xtick ticks crisp\" d=\"M0,192v5\" transform=\"translate(192.03,0)\" style=\"stroke: rgb(68, 68, 68); stroke-opacity: 1; stroke-width: 1px;\"/><path class=\"xtick ticks crisp\" d=\"M0,192v5\" transform=\"translate(265.58000000000004,0)\" style=\"stroke: rgb(68, 68, 68); stroke-opacity: 1; stroke-width: 1px;\"/><g class=\"xtick\"><text text-anchor=\"middle\" x=\"0\" y=\"211.4\" transform=\"translate(118.47999999999999,0)\" style=\"font-family: 'Open Sans', verdana, arial, sans-serif; font-size: 12px; fill: rgb(36, 36, 36); fill-opacity: 1; white-space: pre; opacity: 1;\">10</text></g><g class=\"xtick\"><text text-anchor=\"middle\" x=\"0\" y=\"211.4\" style=\"font-family: 'Open Sans', verdana, arial, sans-serif; font-size: 12px; fill: rgb(36, 36, 36); fill-opacity: 1; white-space: pre; opacity: 1;\" transform=\"translate(192.03,0)\">20</text></g><g class=\"xtick\"><text text-anchor=\"middle\" x=\"0\" y=\"211.4\" style=\"font-family: 'Open Sans', verdana, arial, sans-serif; font-size: 12px; fill: rgb(36, 36, 36); fill-opacity: 1; white-space: pre; opacity: 1;\" transform=\"translate(265.58000000000004,0)\">30</text></g></g><g class=\"yaxislayer-above\"><path class=\"ytick ticks crisp\" d=\"M66,0h-5\" transform=\"translate(0,191)\" style=\"stroke: rgb(68, 68, 68); stroke-opacity: 1; stroke-width: 1px;\"/><path class=\"ytick ticks crisp\" d=\"M66,0h-5\" transform=\"translate(0,157.61)\" style=\"stroke: rgb(68, 68, 68); stroke-opacity: 1; stroke-width: 1px;\"/><path class=\"ytick ticks crisp\" d=\"M66,0h-5\" transform=\"translate(0,124.23)\" style=\"stroke: rgb(68, 68, 68); stroke-opacity: 1; stroke-width: 1px;\"/><path class=\"ytick ticks crisp\" d=\"M66,0h-5\" transform=\"translate(0,90.84)\" style=\"stroke: rgb(68, 68, 68); stroke-opacity: 1; stroke-width: 1px;\"/><path class=\"ytick ticks crisp\" d=\"M66,0h-5\" transform=\"translate(0,57.45)\" style=\"stroke: rgb(68, 68, 68); stroke-opacity: 1; stroke-width: 1px;\"/><path class=\"ytick ticks crisp\" d=\"M66,0h-5\" transform=\"translate(0,24.07)\" style=\"stroke: rgb(68, 68, 68); stroke-opacity: 1; stroke-width: 1px;\"/><g class=\"ytick\"><text text-anchor=\"end\" x=\"58.6\" y=\"4.199999999999999\" transform=\"translate(0,191)\" style=\"font-family: 'Open Sans', verdana, arial, sans-serif; font-size: 12px; fill: rgb(36, 36, 36); fill-opacity: 1; white-space: pre; opacity: 1;\">0</text></g><g class=\"ytick\"><text text-anchor=\"end\" x=\"58.6\" y=\"4.199999999999999\" style=\"font-family: 'Open Sans', verdana, arial, sans-serif; font-size: 12px; fill: rgb(36, 36, 36); fill-opacity: 1; white-space: pre; opacity: 1;\" transform=\"translate(0,157.61)\">0.02</text></g><g class=\"ytick\"><text text-anchor=\"end\" x=\"58.6\" y=\"4.199999999999999\" style=\"font-family: 'Open Sans', verdana, arial, sans-serif; font-size: 12px; fill: rgb(36, 36, 36); fill-opacity: 1; white-space: pre; opacity: 1;\" transform=\"translate(0,124.23)\">0.04</text></g><g class=\"ytick\"><text text-anchor=\"end\" x=\"58.6\" y=\"4.199999999999999\" style=\"font-family: 'Open Sans', verdana, arial, sans-serif; font-size: 12px; fill: rgb(36, 36, 36); fill-opacity: 1; white-space: pre; opacity: 1;\" transform=\"translate(0,90.84)\">0.06</text></g><g class=\"ytick\"><text text-anchor=\"end\" x=\"58.6\" y=\"4.199999999999999\" style=\"font-family: 'Open Sans', verdana, arial, sans-serif; font-size: 12px; fill: rgb(36, 36, 36); fill-opacity: 1; white-space: pre; opacity: 1;\" transform=\"translate(0,57.45)\">0.08</text></g><g class=\"ytick\"><text text-anchor=\"end\" x=\"58.6\" y=\"4.199999999999999\" style=\"font-family: 'Open Sans', verdana, arial, sans-serif; font-size: 12px; fill: rgb(36, 36, 36); fill-opacity: 1; white-space: pre; opacity: 1;\" transform=\"translate(0,24.07)\">0.1</text></g></g><g class=\"overaxes-above\"/></g><g class=\"subplot x2y2\"><g class=\"layer-subplot\"><g class=\"shapelayer\"/><g class=\"imagelayer\"/></g><g class=\"gridlayer\"><g class=\"x2\"><path class=\"x2grid crisp\" transform=\"translate(406.13000000000005,0)\" d=\"M0,10v181\" style=\"stroke: rgb(232, 232, 232); stroke-opacity: 1; stroke-width: 1px;\"/><path class=\"x2grid crisp\" transform=\"translate(479.68000000000006,0)\" d=\"M0,10v181\" style=\"stroke: rgb(232, 232, 232); stroke-opacity: 1; stroke-width: 1px;\"/><path class=\"x2grid crisp\" transform=\"translate(553.23,0)\" d=\"M0,10v181\" style=\"stroke: rgb(232, 232, 232); stroke-opacity: 1; stroke-width: 1px;\"/></g><g class=\"y2\"><path class=\"y2grid crisp\" transform=\"translate(0,148.41)\" d=\"M354.65000000000003,0h235.34999999999997\" style=\"stroke: rgb(232, 232, 232); stroke-opacity: 1; stroke-width: 1px;\"/><path class=\"y2grid crisp\" transform=\"translate(0,105.82)\" d=\"M354.65000000000003,0h235.34999999999997\" style=\"stroke: rgb(232, 232, 232); stroke-opacity: 1; stroke-width: 1px;\"/><path class=\"y2grid crisp\" transform=\"translate(0,63.24)\" d=\"M354.65000000000003,0h235.34999999999997\" style=\"stroke: rgb(232, 232, 232); stroke-opacity: 1; stroke-width: 1px;\"/><path class=\"y2grid crisp\" transform=\"translate(0,20.65)\" d=\"M354.65000000000003,0h235.34999999999997\" style=\"stroke: rgb(232, 232, 232); stroke-opacity: 1; stroke-width: 1px;\"/></g></g><g class=\"zerolinelayer\"/><path class=\"xlines-below\"/><path class=\"ylines-below\"/><g class=\"overlines-below\"/><g class=\"xaxislayer-below\"/><g class=\"yaxislayer-below\"/><g class=\"overaxes-below\"/><g class=\"plot\" transform=\"translate(354.65000000000003,10)\" clip-path=\"url(#clipc450bfx2y2plot)\"><g class=\"barlayer mlayer\"><g class=\"trace bars\" style=\"opacity: 1;\"><g class=\"points\"><g class=\"point\"><path d=\"M11.03,181V17.05H18.39V181Z\" style=\"vector-effect: non-scaling-stroke; opacity: 1; stroke-width: 0.6px; fill: rgb(31, 119, 180); fill-opacity: 1; stroke: rgb(255, 255, 255); stroke-opacity: 1;\"/></g><g class=\"point\"><path d=\"M18.39,181V9.05H25.74V181Z\" style=\"vector-effect: non-scaling-stroke; opacity: 1; stroke-width: 0.6px; fill: rgb(31, 119, 180); fill-opacity: 1; stroke: rgb(255, 255, 255); stroke-opacity: 1;\"/></g><g class=\"point\"><path d=\"M25.74,181V35.04H33.1V181Z\" style=\"vector-effect: non-scaling-stroke; opacity: 1; stroke-width: 0.6px; fill: rgb(31, 119, 180); fill-opacity: 1; stroke: rgb(255, 255, 255); stroke-opacity: 1;\"/></g><g class=\"point\"><path d=\"M33.1,181V67.03H40.45V181Z\" style=\"vector-effect: non-scaling-stroke; opacity: 1; stroke-width: 0.6px; fill: rgb(31, 119, 180); fill-opacity: 1; stroke: rgb(255, 255, 255); stroke-opacity: 1;\"/></g><g class=\"point\"><path d=\"M40.45,181V113.02H47.81V181Z\" style=\"vector-effect: non-scaling-stroke; opacity: 1; stroke-width: 0.6px; fill: rgb(31, 119, 180); fill-opacity: 1; stroke: rgb(255, 255, 255); stroke-opacity: 1;\"/></g><g class=\"point\"><path d=\"M47.81,181V121.02H55.16V181Z\" style=\"vector-effect: non-scaling-stroke; opacity: 1; stroke-width: 0.6px; fill: rgb(31, 119, 180); fill-opacity: 1; stroke: rgb(255, 255, 255); stroke-opacity: 1;\"/></g><g class=\"point\"><path d=\"M55.16,181V151.01H62.51V181Z\" style=\"vector-effect: non-scaling-stroke; opacity: 1; stroke-width: 0.6px; fill: rgb(31, 119, 180); fill-opacity: 1; stroke: rgb(255, 255, 255); stroke-opacity: 1;\"/></g><g class=\"point\"><path d=\"M62.51,181V161.01H69.87V181Z\" style=\"vector-effect: non-scaling-stroke; opacity: 1; stroke-width: 0.6px; fill: rgb(31, 119, 180); fill-opacity: 1; stroke: rgb(255, 255, 255); stroke-opacity: 1;\"/></g><g class=\"point\"><path d=\"M69.87,181V167H77.22V181Z\" style=\"vector-effect: non-scaling-stroke; opacity: 1; stroke-width: 0.6px; fill: rgb(31, 119, 180); fill-opacity: 1; stroke: rgb(255, 255, 255); stroke-opacity: 1;\"/></g><g class=\"point\"><path d=\"M77.22,181V155.01H84.58V181Z\" style=\"vector-effect: non-scaling-stroke; opacity: 1; stroke-width: 0.6px; fill: rgb(31, 119, 180); fill-opacity: 1; stroke: rgb(255, 255, 255); stroke-opacity: 1;\"/></g><g class=\"point\"><path d=\"M84.58,181V179H91.93V181Z\" style=\"vector-effect: non-scaling-stroke; opacity: 1; stroke-width: 0.6px; fill: rgb(31, 119, 180); fill-opacity: 1; stroke: rgb(255, 255, 255); stroke-opacity: 1;\"/></g><g class=\"point\"><path d=\"M91.93,181V169H99.29V181Z\" style=\"vector-effect: non-scaling-stroke; opacity: 1; stroke-width: 0.6px; fill: rgb(31, 119, 180); fill-opacity: 1; stroke: rgb(255, 255, 255); stroke-opacity: 1;\"/></g><g class=\"point\"><path d=\"M99.29,181V173H106.64V181Z\" style=\"vector-effect: non-scaling-stroke; opacity: 1; stroke-width: 0.6px; fill: rgb(31, 119, 180); fill-opacity: 1; stroke: rgb(255, 255, 255); stroke-opacity: 1;\"/></g><g class=\"point\"><path d=\"M106.64,181V179H114V181Z\" style=\"vector-effect: non-scaling-stroke; opacity: 1; stroke-width: 0.6px; fill: rgb(31, 119, 180); fill-opacity: 1; stroke: rgb(255, 255, 255); stroke-opacity: 1;\"/></g><g class=\"point\"><path d=\"M114,181V179H121.35V181Z\" style=\"vector-effect: non-scaling-stroke; opacity: 1; stroke-width: 0.6px; fill: rgb(31, 119, 180); fill-opacity: 1; stroke: rgb(255, 255, 255); stroke-opacity: 1;\"/></g><g class=\"point\"><path d=\"M121.35,181V177H128.71V181Z\" style=\"vector-effect: non-scaling-stroke; opacity: 1; stroke-width: 0.6px; fill: rgb(31, 119, 180); fill-opacity: 1; stroke: rgb(255, 255, 255); stroke-opacity: 1;\"/></g><g class=\"point\"><path d=\"M0,0Z\" style=\"vector-effect: non-scaling-stroke; opacity: 1; stroke-width: 0px; fill: rgb(31, 119, 180); fill-opacity: 1; stroke: rgb(255, 255, 255); stroke-opacity: 1;\"/></g><g class=\"point\"><path d=\"M136.06,181V179H143.42V181Z\" style=\"vector-effect: non-scaling-stroke; opacity: 1; stroke-width: 0.6px; fill: rgb(31, 119, 180); fill-opacity: 1; stroke: rgb(255, 255, 255); stroke-opacity: 1;\"/></g><g class=\"point\"><path d=\"M143.42,181V179H150.77V181Z\" style=\"vector-effect: non-scaling-stroke; opacity: 1; stroke-width: 0.6px; fill: rgb(31, 119, 180); fill-opacity: 1; stroke: rgb(255, 255, 255); stroke-opacity: 1;\"/></g><g class=\"point\"><path d=\"M0,0Z\" style=\"vector-effect: non-scaling-stroke; opacity: 1; stroke-width: 0px; fill: rgb(31, 119, 180); fill-opacity: 1; stroke: rgb(255, 255, 255); stroke-opacity: 1;\"/></g><g class=\"point\"><path d=\"M158.13,181V179H165.48V181Z\" style=\"vector-effect: non-scaling-stroke; opacity: 1; stroke-width: 0.6px; fill: rgb(31, 119, 180); fill-opacity: 1; stroke: rgb(255, 255, 255); stroke-opacity: 1;\"/></g><g class=\"point\"><path d=\"M0,0Z\" style=\"vector-effect: non-scaling-stroke; opacity: 1; stroke-width: 0px; fill: rgb(31, 119, 180); fill-opacity: 1; stroke: rgb(255, 255, 255); stroke-opacity: 1;\"/></g><g class=\"point\"><path d=\"M0,0Z\" style=\"vector-effect: non-scaling-stroke; opacity: 1; stroke-width: 0px; fill: rgb(31, 119, 180); fill-opacity: 1; stroke: rgb(255, 255, 255); stroke-opacity: 1;\"/></g><g class=\"point\"><path d=\"M0,0Z\" style=\"vector-effect: non-scaling-stroke; opacity: 1; stroke-width: 0px; fill: rgb(31, 119, 180); fill-opacity: 1; stroke: rgb(255, 255, 255); stroke-opacity: 1;\"/></g><g class=\"point\"><path d=\"M187.54,181V179H194.9V181Z\" style=\"vector-effect: non-scaling-stroke; opacity: 1; stroke-width: 0.6px; fill: rgb(31, 119, 180); fill-opacity: 1; stroke: rgb(255, 255, 255); stroke-opacity: 1;\"/></g></g></g></g></g><g class=\"overplot\"/><path class=\"xlines-above crisp\" d=\"M353.65000000000003,191.5H590\" style=\"fill: none; stroke-width: 1px; stroke: rgb(36, 36, 36); stroke-opacity: 1;\"/><path class=\"ylines-above crisp\" d=\"M354.15000000000003,10V191\" style=\"fill: none; stroke-width: 1px; stroke: rgb(36, 36, 36); stroke-opacity: 1;\"/><g class=\"overlines-above\"/><g class=\"xaxislayer-above\"><path class=\"x2tick ticks crisp\" d=\"M0,192v5\" transform=\"translate(406.13000000000005,0)\" style=\"stroke: rgb(68, 68, 68); stroke-opacity: 1; stroke-width: 1px;\"/><path class=\"x2tick ticks crisp\" d=\"M0,192v5\" transform=\"translate(479.68000000000006,0)\" style=\"stroke: rgb(68, 68, 68); stroke-opacity: 1; stroke-width: 1px;\"/><path class=\"x2tick ticks crisp\" d=\"M0,192v5\" transform=\"translate(553.23,0)\" style=\"stroke: rgb(68, 68, 68); stroke-opacity: 1; stroke-width: 1px;\"/><g class=\"x2tick\"><text text-anchor=\"middle\" x=\"0\" y=\"211.4\" transform=\"translate(406.13000000000005,0)\" style=\"font-family: 'Open Sans', verdana, arial, sans-serif; font-size: 12px; fill: rgb(36, 36, 36); fill-opacity: 1; white-space: pre; opacity: 1;\">10</text></g><g class=\"x2tick\"><text text-anchor=\"middle\" x=\"0\" y=\"211.4\" style=\"font-family: 'Open Sans', verdana, arial, sans-serif; font-size: 12px; fill: rgb(36, 36, 36); fill-opacity: 1; white-space: pre; opacity: 1;\" transform=\"translate(479.68000000000006,0)\">20</text></g><g class=\"x2tick\"><text text-anchor=\"middle\" x=\"0\" y=\"211.4\" style=\"font-family: 'Open Sans', verdana, arial, sans-serif; font-size: 12px; fill: rgb(36, 36, 36); fill-opacity: 1; white-space: pre; opacity: 1;\" transform=\"translate(553.23,0)\">30</text></g></g><g class=\"yaxislayer-above\"><path class=\"y2tick ticks crisp\" d=\"M353.65000000000003,0h-5\" transform=\"translate(0,191)\" style=\"stroke: rgb(68, 68, 68); stroke-opacity: 1; stroke-width: 1px;\"/><path class=\"y2tick ticks crisp\" d=\"M353.65000000000003,0h-5\" transform=\"translate(0,148.41)\" style=\"stroke: rgb(68, 68, 68); stroke-opacity: 1; stroke-width: 1px;\"/><path class=\"y2tick ticks crisp\" d=\"M353.65000000000003,0h-5\" transform=\"translate(0,105.82)\" style=\"stroke: rgb(68, 68, 68); stroke-opacity: 1; stroke-width: 1px;\"/><path class=\"y2tick ticks crisp\" d=\"M353.65000000000003,0h-5\" transform=\"translate(0,63.24)\" style=\"stroke: rgb(68, 68, 68); stroke-opacity: 1; stroke-width: 1px;\"/><path class=\"y2tick ticks crisp\" d=\"M353.65000000000003,0h-5\" transform=\"translate(0,20.65)\" style=\"stroke: rgb(68, 68, 68); stroke-opacity: 1; stroke-width: 1px;\"/><g class=\"y2tick\"><text text-anchor=\"end\" x=\"346.25000000000006\" y=\"4.199999999999999\" transform=\"translate(0,191)\" style=\"font-family: 'Open Sans', verdana, arial, sans-serif; font-size: 12px; fill: rgb(36, 36, 36); fill-opacity: 1; white-space: pre; opacity: 1;\">0</text></g><g class=\"y2tick\"><text text-anchor=\"end\" x=\"346.25000000000006\" y=\"4.199999999999999\" style=\"font-family: 'Open Sans', verdana, arial, sans-serif; font-size: 12px; fill: rgb(36, 36, 36); fill-opacity: 1; white-space: pre; opacity: 1;\" transform=\"translate(0,148.41)\">0.05</text></g><g class=\"y2tick\"><text text-anchor=\"end\" x=\"346.25000000000006\" y=\"4.199999999999999\" style=\"font-family: 'Open Sans', verdana, arial, sans-serif; font-size: 12px; fill: rgb(36, 36, 36); fill-opacity: 1; white-space: pre; opacity: 1;\" transform=\"translate(0,105.82)\">0.1</text></g><g class=\"y2tick\"><text text-anchor=\"end\" x=\"346.25000000000006\" y=\"4.199999999999999\" style=\"font-family: 'Open Sans', verdana, arial, sans-serif; font-size: 12px; fill: rgb(36, 36, 36); fill-opacity: 1; white-space: pre; opacity: 1;\" transform=\"translate(0,63.24)\">0.15</text></g><g class=\"y2tick\"><text text-anchor=\"end\" x=\"346.25000000000006\" y=\"4.199999999999999\" style=\"font-family: 'Open Sans', verdana, arial, sans-serif; font-size: 12px; fill: rgb(36, 36, 36); fill-opacity: 1; white-space: pre; opacity: 1;\" transform=\"translate(0,20.65)\">0.2</text></g></g><g class=\"overaxes-above\"/></g></g><g class=\"polarlayer\"/><g class=\"smithlayer\"/><g class=\"ternarylayer\"/><g class=\"geolayer\"/><g class=\"funnelarealayer\"/><g class=\"pielayer\"/><g class=\"iciclelayer\"/><g class=\"treemaplayer\"/><g class=\"sunburstlayer\"/><g class=\"glimages\"/><defs id=\"topdefs-c450bf\"><g class=\"clips\"/></defs><g class=\"layer-above\"><g class=\"imagelayer\"/><g class=\"shapelayer\"/></g><g class=\"infolayer\"><g class=\"g-gtitle\"/><g class=\"g-xtitle\"><text class=\"xtitle\" x=\"184.675\" y=\"239.70625\" text-anchor=\"middle\" style=\"font-family: 'Open Sans', verdana, arial, sans-serif; font-size: 14px; fill: rgb(36, 36, 36); opacity: 1; font-weight: normal; white-space: pre;\">Fallen Tree Diameter (cm)</text></g><g class=\"g-x2title\"><text class=\"x2title\" x=\"472.32500000000005\" y=\"239.70625\" text-anchor=\"middle\" style=\"font-family: 'Open Sans', verdana, arial, sans-serif; font-size: 14px; fill: rgb(36, 36, 36); opacity: 1; font-weight: normal; white-space: pre;\">Standing Tree Diameter (cm)</text></g><g class=\"g-ytitle\" transform=\"translate(4.9873046875,0)\"><text class=\"ytitle\" transform=\"rotate(-90,10.012500000000003,100.5)\" x=\"10.012500000000003\" y=\"100.5\" text-anchor=\"middle\" style=\"font-family: 'Open Sans', verdana, arial, sans-serif; font-size: 14px; fill: rgb(36, 36, 36); opacity: 1; font-weight: normal; white-space: pre;\">Density</text></g><g class=\"g-y2title\"/></g></svg>"
      ]
     },
     "metadata": {},
     "output_type": "display_data"
    }
   ],
   "source": [
    "f1 = px.histogram(trees.query('status == \"fallen\" '), x=\"diameter\", \n",
    "                  histnorm='probability density', nbins = 30)\n",
    "f2 = px.histogram(trees.query('status == \"standing\" '), x=\"diameter\", \n",
    "                  histnorm='probability density')\n",
    "\n",
    "fig = left_right(f1, f2, height=250, width=600)\n",
    "fig.update_xaxes(title_text='Fallen Tree Diameter (cm)', \n",
    "                 row=1, col=1, range=[3, 35])\n",
    "fig.update_xaxes(title_text='Standing Tree Diameter (cm)', \n",
    "                 row=1, col=2, range=[3, 35])\n",
    "fig.update_yaxes(title_text='Density', row=1, col=1)\n",
    "fig.show()"
   ]
  },
  {
   "cell_type": "markdown",
   "metadata": {},
   "source": [
    "The distribution of the diameter of the trees that fell in the storm is centered at 12 cm with a right skew. In comparison, the standing trees were nearly all under 10 cm in diameter with a mode at about 6 cm (only trees with a diameter of at least 5 cm are included in the study). \n",
    "\n",
    "Another feature to investigate is the strength of the storm, and we plot the storm strength against tree diameter using the symbol and marker color to distinguish the standing trees from the fallen. Since the diameter is essentially measured to the nearest cm, many trees have the same diameter, so we add a bit of noise to the diameter values to help reduce over plotting. This technique is called *jittering*. We also adjust the opacity of the marker colors to reveal the denser regions on the plot: "
   ]
  },
  {
   "cell_type": "code",
   "execution_count": 5,
   "metadata": {
    "tags": [
     "hide-input"
    ]
   },
   "outputs": [],
   "source": [
    "def jitter(data, amt=0.2):\n",
    "    return data + amt * (np.random.rand(len(data)) - 0.5)"
   ]
  },
  {
   "cell_type": "code",
   "execution_count": 7,
   "metadata": {
    "ExecuteTime": {
     "end_time": "2018-04-02T16:07:17.773256Z",
     "start_time": "2018-04-02T16:07:17.757563Z"
    },
    "tags": [
     "hide-input"
    ]
   },
   "outputs": [
    {
     "data": {
      "application/vnd.plotly.v1+json": {
       "config": {
        "plotlyServerURL": "https://plot.ly"
       },
       "data": [
        {
         "hovertemplate": "status=standing<br>x=%{x}<br>storm=%{y}<extra></extra>",
         "legendgroup": "standing",
         "marker": {
          "color": "#1F77B4",
          "opacity": 0.4,
          "size": 10,
          "symbol": "circle"
         },
         "mode": "markers",
         "name": "standing",
         "orientation": "v",
         "showlegend": true,
         "type": "scatter",
         "x": [
          8.934092792798943,
          10.921319891091883,
          8.922388664280986,
          8.87694244041793,
          5.16106430336501,
          8.027322077426719,
          7.8201905274423735,
          5.816658343691655,
          8.220231438208215,
          5.012589666709945,
          21.788827461977437,
          6.2484952743626785,
          7.928041175478057,
          8.169282803909775,
          8.858610184952106,
          10.129764144657567,
          6.775461904407252,
          13.868682768447771,
          15.044117558123647,
          16.94881084485065,
          11.880846245912842,
          8.102661712368459,
          14.175825141726477,
          12.248936803530704,
          18.237123917625027,
          13.020963677485828,
          8.229367578266977,
          6.7851392781252535,
          5.884786393833925,
          5.112583756282274,
          9.015848566679498,
          13.94738611213561,
          10.896974849108599,
          7.113086821134066,
          6.081069360077027,
          5.148608226712422,
          6.006641829726077,
          4.803877848660736,
          4.880853804794948,
          10.066009009408104,
          5.240546965135935,
          6.211431615504286,
          5.932585602117251,
          4.818818747518977,
          4.888877791353008,
          8.19916054327888,
          16.05576573552483,
          10.18691388337455,
          4.985092881045114,
          8.959848103299628,
          12.092560735286721,
          5.191970213730393,
          9.831570547241768,
          7.138499808917206,
          5.217893217416177,
          7.205257627219588,
          5.135884045267363,
          13.854587664299487,
          5.0277086858738,
          17.033080579719556,
          5.227222129661599,
          11.016783758139985,
          5.832956625895578,
          7.131132098399849,
          7.179768340188004,
          24.91460366626746,
          7.115310026414606,
          8.138181449823824,
          13.953378885690094,
          19.233153346138284,
          16.8699057205422,
          14.207540080776663,
          5.92628800937913,
          6.240355459504668,
          6.0176577226668835,
          7.9846490045411604,
          6.006422563403161,
          9.187719350250388,
          11.170150018433171,
          5.932656492646274,
          7.088022915464502,
          5.132394585885241,
          7.0654644591264075,
          7.0903255653570385,
          10.934651225409088,
          10.856961803311334,
          13.160899924407973,
          10.14740632337455,
          9.817374869594914,
          4.8890443498661,
          5.048306098282446,
          4.831710451234298,
          5.8319775223533945,
          6.1278070459391385,
          9.131522320203404,
          14.131729689137506,
          11.2141235731887,
          13.226393342507608,
          8.785643794585162,
          5.79106623390959,
          4.822454528490158,
          9.099653842781134,
          5.905818607118773,
          5.0736830269550035,
          13.846752002253345,
          4.889096997920752,
          9.910002527029958,
          9.924175862054748,
          16.07042935444655,
          7.005582722547423,
          10.217871931147243,
          6.187761432749872,
          8.883700520766803,
          6.771589922880031,
          4.9197184493388475,
          5.212852885298495,
          6.057571786105195,
          4.909781863419716,
          5.0569515322084815,
          5.0009708408536735,
          6.9434378418805265,
          5.842464652523598,
          5.985716243938872,
          6.114462024943815,
          6.800736897643777,
          6.19874140624177,
          4.843989304637825,
          11.835645001926537,
          7.147192681164913,
          14.23818617059559,
          7.784574242044526,
          9.954702984076198,
          15.959651990119383,
          11.086580010667078,
          13.945869548404739,
          9.802950084636379,
          8.027464752383388,
          10.056684094630992,
          5.951992400916634,
          5.801557778707437,
          9.007770273065484,
          9.137482648012039,
          9.192223041919508,
          8.084742875317609,
          6.97788322050348,
          6.949141030457948,
          7.042969838915238,
          5.11820714838749,
          7.243951970664568,
          4.945534838924523,
          5.797020775913556,
          4.878329387791352,
          11.01685196898315,
          4.960797587162915,
          6.933013156188301,
          7.832656827158551,
          10.100003828948408,
          5.166814892845898,
          7.78803169138394,
          4.952289568050124,
          7.241619324443429,
          7.89172780698231,
          8.113838420471943,
          6.187564831378877,
          6.05218603039323,
          7.039922058286804,
          6.142733761424483,
          4.876330258483112,
          9.101671663341339,
          7.065329993232548,
          5.822659538419696,
          16.247241104793,
          6.192220820596933,
          5.878202110592201,
          8.128432333511576,
          7.109209069372417,
          28.907464638503267,
          5.876114521887378,
          5.779991734830494,
          9.17253836231252,
          7.865335614228047,
          7.09760831705652,
          7.068616506133281,
          5.248878440103938,
          7.154932314710228,
          6.057986818404588,
          7.774471268290904,
          8.774407186553434,
          9.88551654289968,
          7.828120189701053,
          8.124136982767421,
          5.950805815883329,
          6.913219797025126,
          8.215662098327847,
          19.882289883488784,
          7.2075109058135265,
          8.15587395838655,
          5.750133021846248,
          6.926994450170902,
          5.844738862600169,
          9.951871330382751,
          10.023146858871101,
          11.99827538276638,
          6.2428996654793805,
          9.081857276580033,
          4.937660498480099,
          4.985960850162744,
          6.000098466691098,
          4.970694072608399,
          6.8942592597535075,
          5.912096744026352,
          5.952508528917753,
          5.006386820433147,
          8.01418500779923,
          6.754236723735447,
          7.910694981886748,
          6.043697179061554,
          7.778596152982573,
          5.8241295533611925,
          7.843800188786169,
          11.78574460536243,
          12.025729768965423,
          7.17456527092897,
          6.81865250014856,
          9.956099564672032,
          8.164169188972473,
          5.193785032072238,
          6.038208248958183,
          7.768052006229832,
          7.842272417245952,
          8.160823233073245,
          16.130319268451682,
          8.958713621584302,
          5.861739863334646,
          9.177717855437265,
          13.206963647145695,
          13.138125109184944,
          10.059307686732005,
          14.108960878844943,
          7.047525894820107,
          5.218153480922471,
          4.854111533311298,
          7.825257646181373,
          11.054906270071807,
          7.243483650915515,
          6.837134338315377,
          6.031511917874375,
          5.053277290155634,
          5.758296687398599,
          6.07333754002838,
          7.082774793596323,
          5.136920145273399,
          4.870782663903138,
          9.00547303611152,
          5.7953862487720516,
          5.76575238403822,
          7.044425932406635,
          4.854836601785754,
          6.133743839601616,
          6.037831773604177,
          6.15865755291677,
          4.942216952197372,
          6.224419381759548,
          4.890431907383613,
          10.047981601071644,
          8.113612589076352,
          6.975648993980379,
          5.058252987935118,
          4.835322914948869,
          8.21973969656361,
          12.08904379031144,
          13.003897543249597,
          7.750517059582323,
          7.999467278265667,
          6.949257358150421,
          4.773404751190313,
          9.760091611132186,
          6.851895923830955,
          7.151242486390633,
          5.973603332952571,
          5.242082603996094,
          6.066116961917189,
          7.029120034631354,
          9.136965972277569,
          7.075668478222253,
          7.1044451211109445,
          4.904955038619244,
          6.844665877458897,
          7.15427906657722,
          5.034696115978921,
          5.104948430522196,
          4.858205988692428,
          6.8546719878218,
          7.031675079610025,
          4.777562767089436,
          5.769698047601714,
          7.845864408183221,
          7.09349881225086,
          9.934650506268033,
          9.18787408258496,
          6.176309065938467,
          7.063981732776529,
          8.01096387315611,
          5.1741395863002655,
          7.172479712786814,
          8.041942109543479,
          9.001171438187436,
          7.972266734181854,
          5.826043185097286,
          5.922508685990746,
          4.871139645775341,
          13.04936393216578,
          12.138797553407159,
          10.769683183283671,
          13.937466166951152,
          6.777314041179772,
          5.249371724912488,
          7.151831183940655,
          7.235449649160419,
          6.186781218613406,
          7.833657169234406,
          6.820486192897264,
          10.837211729150436,
          8.237657372300513,
          8.231394796971696,
          6.861450898786754,
          6.892154468685441,
          8.007834391317038,
          7.151071824960898,
          10.170955120926482,
          7.2278858918837665,
          8.1423010396868,
          14.035350092864542,
          7.829100178197065,
          11.004554323078937,
          7.193972476636096,
          10.243350165741973,
          4.87634043174391,
          8.878128020415998,
          4.782853284337163,
          6.079539427446671,
          4.808893887012992,
          7.862135872884797,
          8.777194736945052,
          4.943782614169158,
          9.979890951967711,
          10.010221747015171,
          6.198250079252041,
          7.779629192147076,
          8.234861115401499,
          16.07865722495893,
          9.078663036316012,
          5.8982285032978465,
          6.164241585522444,
          6.812030381649741,
          16.892432635709643,
          8.945249737919447,
          5.198129023935796,
          7.012025040159232,
          7.144185897962131,
          5.045086108182058,
          4.877298578940595,
          5.080309023888263,
          6.005049835536625,
          5.8399285519033155,
          6.857353827585222,
          5.974943905215095,
          9.495348359610647,
          19.919639660464522,
          7.78178140518846,
          5.002956384996203,
          4.992431106824274,
          6.858660370522513,
          9.072314657242215,
          7.880107528520029,
          8.021560199698657,
          8.991377288240868,
          9.76758191185054,
          5.995697788024871,
          5.12542083365245,
          6.148350548210176,
          4.77283097347079,
          7.073978390312244,
          4.9603845645329345,
          5.973513844008711,
          4.918186375053069,
          8.93452595816833,
          6.118083183571152,
          6.15928959354583,
          6.142563468806847,
          6.206000548127747,
          9.218745388079222,
          8.767493334907174,
          6.073985847500305,
          7.930419005060536,
          6.900254119722527,
          6.198887747614085,
          4.996275782333065,
          8.053121532132158,
          9.943601792669666,
          22.92451548750583,
          10.982004690920709,
          8.80801044313488,
          10.211193270028057,
          7.056831598075578,
          5.800664208219997,
          5.996141092648904,
          5.896735826873204,
          4.84504140396239,
          4.893222558061036,
          4.812390829973117,
          8.031659636694595,
          5.577440696265792,
          12.100921345635573,
          6.884075507291379,
          5.835270014121794,
          9.83423334972557,
          8.074091805955824,
          10.257342807382527,
          6.99625260327777,
          5.200537914066773,
          6.209184926380732,
          5.197687258652942,
          5.914251918222477,
          6.236602685042268,
          5.0360870830125135
         ],
         "xaxis": "x",
         "y": [
          0.024212,
          0.0305947,
          0.0305947,
          0.0341815,
          0.0341815,
          0.0341815,
          0.0341815,
          0.0341815,
          0.0341815,
          0.0341815,
          0.0345653,
          0.0461334,
          0.0514511,
          0.054777,
          0.054777,
          0.054777,
          0.0552361,
          0.0575282,
          0.0575282,
          0.0575282,
          0.0575282,
          0.0687957,
          0.0693424,
          0.0693424,
          0.071072,
          0.071072,
          0.0726807,
          0.0726807,
          0.0730598,
          0.0730598,
          0.0730598,
          0.0773118,
          0.0805133,
          0.0818451,
          0.0818451,
          0.0846147,
          0.0846147,
          0.0846147,
          0.0846147,
          0.084997,
          0.0879988,
          0.0879988,
          0.0879988,
          0.0879988,
          0.0879988,
          0.0879988,
          0.089435,
          0.089435,
          0.0894688,
          0.0914889,
          0.0914889,
          0.0914889,
          0.0914889,
          0.0914889,
          0.0943459,
          0.0943459,
          0.0943459,
          0.0958845,
          0.0965822,
          0.0994145,
          0.0995897,
          0.0995897,
          0.0998312,
          0.0998312,
          0.0998312,
          0.103689,
          0.105993,
          0.105993,
          0.107644,
          0.107769,
          0.107769,
          0.114878,
          0.114878,
          0.115634,
          0.115634,
          0.118361,
          0.120534,
          0.120534,
          0.120629,
          0.128477,
          0.12938,
          0.12938,
          0.12938,
          0.13163,
          0.131718,
          0.132051,
          0.132093,
          0.132585,
          0.132585,
          0.138033,
          0.138033,
          0.138033,
          0.144217,
          0.145446,
          0.145446,
          0.148025,
          0.148025,
          0.148025,
          0.148025,
          0.149973,
          0.149973,
          0.152714,
          0.152714,
          0.163796,
          0.163796,
          0.163796,
          0.164513,
          0.164513,
          0.173383,
          0.173383,
          0.173383,
          0.174111,
          0.174869,
          0.176954,
          0.18105,
          0.18105,
          0.182465,
          0.182465,
          0.182465,
          0.182465,
          0.182465,
          0.183632,
          0.183632,
          0.183632,
          0.184542,
          0.184542,
          0.191521,
          0.192293,
          0.192509,
          0.197618,
          0.197618,
          0.197618,
          0.197618,
          0.197618,
          0.198293,
          0.199172,
          0.204132,
          0.206243,
          0.207769,
          0.207769,
          0.208116,
          0.208116,
          0.214047,
          0.214047,
          0.214047,
          0.214931,
          0.214931,
          0.215521,
          0.215521,
          0.215521,
          0.215521,
          0.215521,
          0.215521,
          0.215521,
          0.215975,
          0.215975,
          0.215975,
          0.216023,
          0.219577,
          0.219577,
          0.219577,
          0.219577,
          0.224639,
          0.224701,
          0.224701,
          0.224701,
          0.22813,
          0.22813,
          0.230694,
          0.234421,
          0.235722,
          0.235722,
          0.235989,
          0.235989,
          0.237342,
          0.249347,
          0.251911,
          0.253849,
          0.253849,
          0.253849,
          0.256767,
          0.259414,
          0.259414,
          0.259414,
          0.259414,
          0.259414,
          0.259414,
          0.259414,
          0.259414,
          0.269299,
          0.269299,
          0.269299,
          0.269299,
          0.269299,
          0.273593,
          0.274106,
          0.274106,
          0.274106,
          0.274106,
          0.274106,
          0.274106,
          0.274106,
          0.275455,
          0.279653,
          0.281498,
          0.281498,
          0.281498,
          0.283471,
          0.283471,
          0.283471,
          0.283471,
          0.283471,
          0.283471,
          0.283471,
          0.283471,
          0.283471,
          0.283471,
          0.290151,
          0.290151,
          0.290557,
          0.293629,
          0.300321,
          0.300321,
          0.300321,
          0.300321,
          0.303317,
          0.303317,
          0.30554,
          0.306005,
          0.308675,
          0.308675,
          0.309179,
          0.310713,
          0.313393,
          0.313963,
          0.321258,
          0.321258,
          0.321258,
          0.327542,
          0.333407,
          0.333407,
          0.335679,
          0.336481,
          0.336481,
          0.338376,
          0.338376,
          0.338376,
          0.338376,
          0.338376,
          0.338376,
          0.338376,
          0.338376,
          0.338376,
          0.338376,
          0.338376,
          0.341799,
          0.341799,
          0.344517,
          0.344517,
          0.35246,
          0.35246,
          0.35246,
          0.354582,
          0.354582,
          0.356787,
          0.356787,
          0.356787,
          0.35738,
          0.35738,
          0.358713,
          0.36057,
          0.36057,
          0.36291,
          0.363574,
          0.363574,
          0.364261,
          0.366172,
          0.366172,
          0.366172,
          0.366172,
          0.366172,
          0.366172,
          0.366172,
          0.378216,
          0.379872,
          0.379872,
          0.379872,
          0.379872,
          0.379872,
          0.379872,
          0.379872,
          0.379872,
          0.379872,
          0.379872,
          0.379872,
          0.380303,
          0.381702,
          0.381702,
          0.38226,
          0.38226,
          0.382829,
          0.382829,
          0.386872,
          0.386872,
          0.386872,
          0.386872,
          0.386872,
          0.394898,
          0.394898,
          0.394898,
          0.394898,
          0.398671,
          0.400867,
          0.400867,
          0.400867,
          0.400867,
          0.402528,
          0.402528,
          0.402528,
          0.402528,
          0.404768,
          0.404833,
          0.404933,
          0.406613,
          0.416345,
          0.420598,
          0.420598,
          0.425459,
          0.429114,
          0.435212,
          0.435212,
          0.435212,
          0.441635,
          0.44398,
          0.448048,
          0.448048,
          0.449627,
          0.450835,
          0.450835,
          0.466155,
          0.466155,
          0.469594,
          0.476106,
          0.476106,
          0.478474,
          0.478474,
          0.481444,
          0.481444,
          0.481444,
          0.481444,
          0.491077,
          0.500578,
          0.500887,
          0.501032,
          0.501032,
          0.508672,
          0.511376,
          0.511376,
          0.522657,
          0.534748,
          0.534748,
          0.534748,
          0.534748,
          0.536359,
          0.536359,
          0.536359,
          0.536359,
          0.545287,
          0.548117,
          0.553382,
          0.55502,
          0.55502,
          0.560545,
          0.560545,
          0.560545,
          0.560545,
          0.560545,
          0.560545,
          0.560545,
          0.560545,
          0.560545,
          0.560545,
          0.560545,
          0.560545,
          0.579787,
          0.579787,
          0.592865,
          0.625261,
          0.625261,
          0.625901,
          0.625901,
          0.625901,
          0.639188,
          0.653384,
          0.653384,
          0.655979,
          0.655979,
          0.655979,
          0.662489,
          0.662489,
          0.677028,
          0.681727,
          0.684129,
          0.684129,
          0.684129,
          0.697166,
          0.700325,
          0.701091,
          0.705846,
          0.705846,
          0.705846,
          0.712619,
          0.717459,
          0.718929,
          0.751591,
          0.751591,
          0.766252,
          0.766848,
          0.766848,
          0.780663,
          0.790498,
          0.790562,
          0.790562,
          0.790562,
          0.850571,
          0.939029
         ],
         "yaxis": "y"
        },
        {
         "hovertemplate": "status=fallen<br>x=%{x}<br>storm=%{y}<extra></extra>",
         "legendgroup": "fallen",
         "marker": {
          "color": "#FF7F0E",
          "opacity": 0.4,
          "size": 10,
          "symbol": "diamond"
         },
         "mode": "markers",
         "name": "fallen",
         "orientation": "v",
         "showlegend": true,
         "type": "scatter",
         "x": [
          12.198416956369828,
          13.096484102607109,
          12.851005082104258,
          21.831563421066946,
          6.88466679271066,
          8.803822956002906,
          11.880287145457606,
          8.03596180469176,
          8.247948401151667,
          7.852676804471075,
          7.001284233152262,
          9.921321475497571,
          4.94540855815913,
          7.1142137297810555,
          14.23456802964783,
          9.901349688324496,
          21.046687464912868,
          7.069355933470931,
          6.974875022377983,
          4.8626701087298265,
          6.836713284156096,
          5.2065645304563,
          6.138770858091062,
          11.248609995640082,
          10.862245805216594,
          9.897052346448401,
          11.001279174158299,
          14.76641431847135,
          6.03178344293358,
          12.116983939862244,
          16.056460166283294,
          8.804704336071016,
          7.119020822496748,
          6.2369920652611,
          14.22363333012345,
          10.938225475634361,
          13.98332293526565,
          10.144351202966286,
          6.842279902181247,
          7.021810950584064,
          12.762899091128775,
          20.77969374874566,
          8.044907847025721,
          13.961167542511522,
          7.677262952898436,
          9.324396897944355,
          13.060633749791158,
          10.082688558517068,
          9.036743163157805,
          15.035484603822223,
          6.7695259925681075,
          15.829815208820746,
          15.14522679742509,
          15.238453286196863,
          8.916477390919388,
          8.145561084759809,
          22.764367328544072,
          9.034474990627883,
          12.91699573912065,
          4.7864845562756795,
          9.831858085912506,
          12.83580588313051,
          17.995941809985787,
          14.859718910934696,
          10.118090862564856,
          6.85908947945579,
          12.780881145529118,
          16.95062414456658,
          11.803990147396076,
          13.029492580471606,
          11.176325595440886,
          10.850381190358386,
          29.167058810863697,
          13.01810044476842,
          14.972143761749983,
          12.865181917103444,
          15.192900354792211,
          10.115471349737554,
          12.071834931308887,
          17.122061187903473,
          6.927864437625256,
          8.009350896133492,
          12.03052403663082,
          15.229594839053052,
          6.1404612207839335,
          10.044754896756771,
          8.143004449873837,
          9.940043537368943,
          10.136757776774733,
          11.427187270368526,
          13.42077206392809,
          14.843680031197065,
          15.987586165363744,
          8.055953826653504,
          7.177818519464225,
          6.85100944718638,
          17.03035148980435,
          16.823070346735324,
          4.820279405479332,
          9.205148596859635,
          13.17396293701609,
          9.964456259021821,
          20.166270914023286,
          13.070622415953,
          9.129207343342353,
          21.874281891914105,
          7.014297333441469,
          10.056370141456956,
          10.923858824041652,
          17.825849602063062,
          19.43547416777782,
          20.066292229138494,
          13.747724116659267,
          14.021048289741339,
          7.814885581048879,
          12.069494395854875,
          12.948388306577373,
          14.152574665216207,
          11.953176440993957,
          9.859378310348083,
          10.246288476058682,
          15.982542613692345,
          12.184953447758906,
          17.11286980818092,
          12.936085231254554,
          28.23055217351577,
          16.89694320558266,
          23.802319282207602,
          8.005567604223543,
          13.02123495464834,
          27.965596222939013,
          11.380500824665162,
          11.52072594875284,
          6.165439940085749,
          12.028263976458781,
          10.840512310220792,
          15.191496550604587,
          18.978844708132783,
          11.220731621243166,
          16.099223600968713,
          13.964275527245649,
          11.034820211896914,
          22.13260885285078,
          10.76058380351373,
          15.000977681561837,
          6.248988293607407,
          8.005190089323447,
          25.220191197069763,
          10.930548541586322,
          9.24132596396381,
          14.127269570913455,
          18.874551681303824,
          19.964607160351342,
          16.039562726629967,
          7.140696754114461,
          16.98619146093211,
          19.820173989061313,
          18.769435866219453,
          9.237316574595885,
          15.784177624388557,
          15.238635361367564,
          18.235337586906045,
          14.827071431491484,
          11.904817033646552,
          11.151184489435762,
          11.937137689443304,
          15.847360846537658,
          14.218474078563379,
          9.63330289039272,
          15.087337364252697,
          11.923354204643456,
          8.643078728876153,
          9.887110350805704,
          15.866701246524546,
          17.842886423164696,
          12.82869333136517,
          9.997716736522566,
          12.987841853323433,
          10.388156582043475,
          17.91383374430704,
          16.221607137800557,
          8.842872389517156,
          10.162291274678704,
          10.764243166097392,
          17.851973208643486,
          12.164410580180036,
          10.16681688381299,
          10.183669136185115,
          10.780097510605591,
          9.227853573757518,
          6.886761199514483,
          22.251677745994982,
          19.154907958166827,
          8.770052911011442,
          15.887219789002515,
          17.79693599470014,
          13.0847354400783,
          6.50899146855813,
          13.819648667767455,
          12.886850888950956,
          13.155879481138934,
          18.186281535663777,
          9.974562370496132,
          16.12024098289544,
          31.84501501279959,
          5.093472660844411,
          8.988508387033521,
          20.143914743684366,
          11.150245929670833,
          14.120707730264693,
          27.005797253441223,
          17.097027685706525,
          12.090061506317406,
          10.897555627026303,
          11.038387990143447,
          15.194039491314792,
          14.94228165453683,
          10.969616342224159,
          14.22454195500855,
          13.853095676094043,
          20.168688591895606,
          13.11107296303157,
          11.059641919103642,
          10.116207824688152,
          17.849818624062575,
          21.028252342449715,
          5.417367177299857,
          20.803039078469254,
          15.9980628199566,
          13.963320439540317,
          9.12831375028675,
          16.954753751708783,
          7.774572033756688
         ],
         "xaxis": "x",
         "y": [
          0.089435,
          0.10254,
          0.114878,
          0.120054,
          0.135751,
          0.135751,
          0.146615,
          0.146615,
          0.174111,
          0.174111,
          0.174111,
          0.174111,
          0.18105,
          0.18105,
          0.198293,
          0.198293,
          0.20332,
          0.210034,
          0.210034,
          0.215521,
          0.219577,
          0.219577,
          0.219577,
          0.219577,
          0.219577,
          0.219577,
          0.219577,
          0.220787,
          0.224639,
          0.230694,
          0.237342,
          0.265896,
          0.268259,
          0.269299,
          0.274106,
          0.281793,
          0.284814,
          0.294195,
          0.303317,
          0.305741,
          0.305741,
          0.307181,
          0.307181,
          0.310713,
          0.320563,
          0.320563,
          0.321258,
          0.323477,
          0.323477,
          0.327542,
          0.329682,
          0.330644,
          0.330644,
          0.332474,
          0.333407,
          0.333407,
          0.334151,
          0.336481,
          0.336481,
          0.338376,
          0.338376,
          0.342915,
          0.356787,
          0.359444,
          0.364261,
          0.364261,
          0.367316,
          0.36735,
          0.367463,
          0.375813,
          0.376297,
          0.381465,
          0.38498,
          0.391278,
          0.391278,
          0.391801,
          0.391801,
          0.391801,
          0.391801,
          0.391801,
          0.403794,
          0.406581,
          0.406613,
          0.406781,
          0.406781,
          0.406781,
          0.406781,
          0.406781,
          0.425669,
          0.429305,
          0.429305,
          0.434976,
          0.448048,
          0.450835,
          0.450835,
          0.455902,
          0.459406,
          0.466155,
          0.466155,
          0.467301,
          0.467301,
          0.467301,
          0.469594,
          0.469871,
          0.469987,
          0.475169,
          0.476106,
          0.480554,
          0.488089,
          0.488623,
          0.491077,
          0.491077,
          0.491077,
          0.491077,
          0.500887,
          0.501032,
          0.502487,
          0.503722,
          0.508672,
          0.512248,
          0.51581,
          0.522453,
          0.525126,
          0.533063,
          0.551895,
          0.553944,
          0.558492,
          0.558492,
          0.560623,
          0.561226,
          0.565152,
          0.579711,
          0.579711,
          0.581735,
          0.582118,
          0.582118,
          0.587466,
          0.593677,
          0.599994,
          0.602545,
          0.602837,
          0.6045,
          0.60646,
          0.609595,
          0.612655,
          0.625261,
          0.625833,
          0.63175,
          0.633624,
          0.633624,
          0.633624,
          0.638334,
          0.638334,
          0.639582,
          0.641339,
          0.641339,
          0.647292,
          0.651572,
          0.653722,
          0.655967,
          0.657143,
          0.660175,
          0.662489,
          0.669579,
          0.670223,
          0.671354,
          0.676434,
          0.676434,
          0.677028,
          0.682017,
          0.683177,
          0.684129,
          0.684995,
          0.692772,
          0.698172,
          0.699792,
          0.699792,
          0.700325,
          0.707828,
          0.707828,
          0.716054,
          0.716054,
          0.718929,
          0.718929,
          0.726563,
          0.726563,
          0.730738,
          0.735708,
          0.73741,
          0.739292,
          0.751974,
          0.751974,
          0.751974,
          0.757207,
          0.759117,
          0.76546,
          0.766848,
          0.766848,
          0.778154,
          0.780663,
          0.780663,
          0.782438,
          0.790562,
          0.794325,
          0.795092,
          0.80799,
          0.80799,
          0.815376,
          0.830039,
          0.833468,
          0.833468,
          0.842422,
          0.842422,
          0.842878,
          0.842878,
          0.847198,
          0.847198,
          0.847198,
          0.849462,
          0.849462,
          0.849462,
          0.850571,
          0.850571,
          0.850571,
          0.85532,
          0.85532,
          0.859409,
          0.859409,
          0.862392,
          0.867016,
          0.944993,
          0.944993,
          0.983271
         ],
         "yaxis": "y"
        }
       ],
       "layout": {
        "height": 300,
        "legend": {
         "title": {
          "text": "Tree Status"
         },
         "tracegroupgap": 0
        },
        "template": {
         "data": {
          "bar": [
           {
            "error_x": {
             "color": "rgb(36,36,36)"
            },
            "error_y": {
             "color": "rgb(36,36,36)"
            },
            "marker": {
             "line": {
              "color": "white",
              "width": 0.5
             },
             "pattern": {
              "fillmode": "overlay",
              "size": 10,
              "solidity": 0.2
             }
            },
            "type": "bar"
           }
          ],
          "barpolar": [
           {
            "marker": {
             "line": {
              "color": "white",
              "width": 0.5
             },
             "pattern": {
              "fillmode": "overlay",
              "size": 10,
              "solidity": 0.2
             }
            },
            "type": "barpolar"
           }
          ],
          "carpet": [
           {
            "aaxis": {
             "endlinecolor": "rgb(36,36,36)",
             "gridcolor": "white",
             "linecolor": "white",
             "minorgridcolor": "white",
             "startlinecolor": "rgb(36,36,36)"
            },
            "baxis": {
             "endlinecolor": "rgb(36,36,36)",
             "gridcolor": "white",
             "linecolor": "white",
             "minorgridcolor": "white",
             "startlinecolor": "rgb(36,36,36)"
            },
            "type": "carpet"
           }
          ],
          "choropleth": [
           {
            "colorbar": {
             "outlinewidth": 1,
             "tickcolor": "rgb(36,36,36)",
             "ticks": "outside"
            },
            "type": "choropleth"
           }
          ],
          "contour": [
           {
            "colorbar": {
             "outlinewidth": 1,
             "tickcolor": "rgb(36,36,36)",
             "ticks": "outside"
            },
            "colorscale": [
             [
              0,
              "#440154"
             ],
             [
              0.1111111111111111,
              "#482878"
             ],
             [
              0.2222222222222222,
              "#3e4989"
             ],
             [
              0.3333333333333333,
              "#31688e"
             ],
             [
              0.4444444444444444,
              "#26828e"
             ],
             [
              0.5555555555555556,
              "#1f9e89"
             ],
             [
              0.6666666666666666,
              "#35b779"
             ],
             [
              0.7777777777777778,
              "#6ece58"
             ],
             [
              0.8888888888888888,
              "#b5de2b"
             ],
             [
              1,
              "#fde725"
             ]
            ],
            "type": "contour"
           }
          ],
          "contourcarpet": [
           {
            "colorbar": {
             "outlinewidth": 1,
             "tickcolor": "rgb(36,36,36)",
             "ticks": "outside"
            },
            "type": "contourcarpet"
           }
          ],
          "heatmap": [
           {
            "colorbar": {
             "outlinewidth": 1,
             "tickcolor": "rgb(36,36,36)",
             "ticks": "outside"
            },
            "colorscale": [
             [
              0,
              "#440154"
             ],
             [
              0.1111111111111111,
              "#482878"
             ],
             [
              0.2222222222222222,
              "#3e4989"
             ],
             [
              0.3333333333333333,
              "#31688e"
             ],
             [
              0.4444444444444444,
              "#26828e"
             ],
             [
              0.5555555555555556,
              "#1f9e89"
             ],
             [
              0.6666666666666666,
              "#35b779"
             ],
             [
              0.7777777777777778,
              "#6ece58"
             ],
             [
              0.8888888888888888,
              "#b5de2b"
             ],
             [
              1,
              "#fde725"
             ]
            ],
            "type": "heatmap"
           }
          ],
          "heatmapgl": [
           {
            "colorbar": {
             "outlinewidth": 1,
             "tickcolor": "rgb(36,36,36)",
             "ticks": "outside"
            },
            "colorscale": [
             [
              0,
              "#440154"
             ],
             [
              0.1111111111111111,
              "#482878"
             ],
             [
              0.2222222222222222,
              "#3e4989"
             ],
             [
              0.3333333333333333,
              "#31688e"
             ],
             [
              0.4444444444444444,
              "#26828e"
             ],
             [
              0.5555555555555556,
              "#1f9e89"
             ],
             [
              0.6666666666666666,
              "#35b779"
             ],
             [
              0.7777777777777778,
              "#6ece58"
             ],
             [
              0.8888888888888888,
              "#b5de2b"
             ],
             [
              1,
              "#fde725"
             ]
            ],
            "type": "heatmapgl"
           }
          ],
          "histogram": [
           {
            "marker": {
             "line": {
              "color": "white",
              "width": 0.6
             }
            },
            "type": "histogram"
           }
          ],
          "histogram2d": [
           {
            "colorbar": {
             "outlinewidth": 1,
             "tickcolor": "rgb(36,36,36)",
             "ticks": "outside"
            },
            "colorscale": [
             [
              0,
              "#440154"
             ],
             [
              0.1111111111111111,
              "#482878"
             ],
             [
              0.2222222222222222,
              "#3e4989"
             ],
             [
              0.3333333333333333,
              "#31688e"
             ],
             [
              0.4444444444444444,
              "#26828e"
             ],
             [
              0.5555555555555556,
              "#1f9e89"
             ],
             [
              0.6666666666666666,
              "#35b779"
             ],
             [
              0.7777777777777778,
              "#6ece58"
             ],
             [
              0.8888888888888888,
              "#b5de2b"
             ],
             [
              1,
              "#fde725"
             ]
            ],
            "type": "histogram2d"
           }
          ],
          "histogram2dcontour": [
           {
            "colorbar": {
             "outlinewidth": 1,
             "tickcolor": "rgb(36,36,36)",
             "ticks": "outside"
            },
            "colorscale": [
             [
              0,
              "#440154"
             ],
             [
              0.1111111111111111,
              "#482878"
             ],
             [
              0.2222222222222222,
              "#3e4989"
             ],
             [
              0.3333333333333333,
              "#31688e"
             ],
             [
              0.4444444444444444,
              "#26828e"
             ],
             [
              0.5555555555555556,
              "#1f9e89"
             ],
             [
              0.6666666666666666,
              "#35b779"
             ],
             [
              0.7777777777777778,
              "#6ece58"
             ],
             [
              0.8888888888888888,
              "#b5de2b"
             ],
             [
              1,
              "#fde725"
             ]
            ],
            "type": "histogram2dcontour"
           }
          ],
          "mesh3d": [
           {
            "colorbar": {
             "outlinewidth": 1,
             "tickcolor": "rgb(36,36,36)",
             "ticks": "outside"
            },
            "type": "mesh3d"
           }
          ],
          "parcoords": [
           {
            "line": {
             "colorbar": {
              "outlinewidth": 1,
              "tickcolor": "rgb(36,36,36)",
              "ticks": "outside"
             }
            },
            "type": "parcoords"
           }
          ],
          "pie": [
           {
            "automargin": true,
            "type": "pie"
           }
          ],
          "scatter": [
           {
            "marker": {
             "colorbar": {
              "outlinewidth": 1,
              "tickcolor": "rgb(36,36,36)",
              "ticks": "outside"
             }
            },
            "type": "scatter"
           }
          ],
          "scatter3d": [
           {
            "line": {
             "colorbar": {
              "outlinewidth": 1,
              "tickcolor": "rgb(36,36,36)",
              "ticks": "outside"
             }
            },
            "marker": {
             "colorbar": {
              "outlinewidth": 1,
              "tickcolor": "rgb(36,36,36)",
              "ticks": "outside"
             }
            },
            "type": "scatter3d"
           }
          ],
          "scattercarpet": [
           {
            "marker": {
             "colorbar": {
              "outlinewidth": 1,
              "tickcolor": "rgb(36,36,36)",
              "ticks": "outside"
             }
            },
            "type": "scattercarpet"
           }
          ],
          "scattergeo": [
           {
            "marker": {
             "colorbar": {
              "outlinewidth": 1,
              "tickcolor": "rgb(36,36,36)",
              "ticks": "outside"
             }
            },
            "type": "scattergeo"
           }
          ],
          "scattergl": [
           {
            "marker": {
             "colorbar": {
              "outlinewidth": 1,
              "tickcolor": "rgb(36,36,36)",
              "ticks": "outside"
             }
            },
            "type": "scattergl"
           }
          ],
          "scattermapbox": [
           {
            "marker": {
             "colorbar": {
              "outlinewidth": 1,
              "tickcolor": "rgb(36,36,36)",
              "ticks": "outside"
             }
            },
            "type": "scattermapbox"
           }
          ],
          "scatterpolar": [
           {
            "marker": {
             "colorbar": {
              "outlinewidth": 1,
              "tickcolor": "rgb(36,36,36)",
              "ticks": "outside"
             }
            },
            "type": "scatterpolar"
           }
          ],
          "scatterpolargl": [
           {
            "marker": {
             "colorbar": {
              "outlinewidth": 1,
              "tickcolor": "rgb(36,36,36)",
              "ticks": "outside"
             }
            },
            "type": "scatterpolargl"
           }
          ],
          "scatterternary": [
           {
            "marker": {
             "colorbar": {
              "outlinewidth": 1,
              "tickcolor": "rgb(36,36,36)",
              "ticks": "outside"
             }
            },
            "type": "scatterternary"
           }
          ],
          "surface": [
           {
            "colorbar": {
             "outlinewidth": 1,
             "tickcolor": "rgb(36,36,36)",
             "ticks": "outside"
            },
            "colorscale": [
             [
              0,
              "#440154"
             ],
             [
              0.1111111111111111,
              "#482878"
             ],
             [
              0.2222222222222222,
              "#3e4989"
             ],
             [
              0.3333333333333333,
              "#31688e"
             ],
             [
              0.4444444444444444,
              "#26828e"
             ],
             [
              0.5555555555555556,
              "#1f9e89"
             ],
             [
              0.6666666666666666,
              "#35b779"
             ],
             [
              0.7777777777777778,
              "#6ece58"
             ],
             [
              0.8888888888888888,
              "#b5de2b"
             ],
             [
              1,
              "#fde725"
             ]
            ],
            "type": "surface"
           }
          ],
          "table": [
           {
            "cells": {
             "fill": {
              "color": "rgb(237,237,237)"
             },
             "line": {
              "color": "white"
             }
            },
            "header": {
             "fill": {
              "color": "rgb(217,217,217)"
             },
             "line": {
              "color": "white"
             }
            },
            "type": "table"
           }
          ]
         },
         "layout": {
          "annotationdefaults": {
           "arrowhead": 0,
           "arrowwidth": 1
          },
          "autosize": true,
          "autotypenumbers": "strict",
          "coloraxis": {
           "colorbar": {
            "outlinewidth": 1,
            "tickcolor": "rgb(36,36,36)",
            "ticks": "outside"
           }
          },
          "colorscale": {
           "diverging": [
            [
             0,
             "rgb(103,0,31)"
            ],
            [
             0.1,
             "rgb(178,24,43)"
            ],
            [
             0.2,
             "rgb(214,96,77)"
            ],
            [
             0.3,
             "rgb(244,165,130)"
            ],
            [
             0.4,
             "rgb(253,219,199)"
            ],
            [
             0.5,
             "rgb(247,247,247)"
            ],
            [
             0.6,
             "rgb(209,229,240)"
            ],
            [
             0.7,
             "rgb(146,197,222)"
            ],
            [
             0.8,
             "rgb(67,147,195)"
            ],
            [
             0.9,
             "rgb(33,102,172)"
            ],
            [
             1,
             "rgb(5,48,97)"
            ]
           ],
           "sequential": [
            [
             0,
             "#440154"
            ],
            [
             0.1111111111111111,
             "#482878"
            ],
            [
             0.2222222222222222,
             "#3e4989"
            ],
            [
             0.3333333333333333,
             "#31688e"
            ],
            [
             0.4444444444444444,
             "#26828e"
            ],
            [
             0.5555555555555556,
             "#1f9e89"
            ],
            [
             0.6666666666666666,
             "#35b779"
            ],
            [
             0.7777777777777778,
             "#6ece58"
            ],
            [
             0.8888888888888888,
             "#b5de2b"
            ],
            [
             1,
             "#fde725"
            ]
           ],
           "sequentialminus": [
            [
             0,
             "#440154"
            ],
            [
             0.1111111111111111,
             "#482878"
            ],
            [
             0.2222222222222222,
             "#3e4989"
            ],
            [
             0.3333333333333333,
             "#31688e"
            ],
            [
             0.4444444444444444,
             "#26828e"
            ],
            [
             0.5555555555555556,
             "#1f9e89"
            ],
            [
             0.6666666666666666,
             "#35b779"
            ],
            [
             0.7777777777777778,
             "#6ece58"
            ],
            [
             0.8888888888888888,
             "#b5de2b"
            ],
            [
             1,
             "#fde725"
            ]
           ]
          },
          "colorway": [
           "#1F77B4",
           "#FF7F0E",
           "#2CA02C",
           "#D62728",
           "#9467BD",
           "#8C564B",
           "#E377C2",
           "#7F7F7F",
           "#BCBD22",
           "#17BECF"
          ],
          "font": {
           "color": "rgb(36,36,36)"
          },
          "geo": {
           "bgcolor": "white",
           "lakecolor": "white",
           "landcolor": "white",
           "showlakes": true,
           "showland": true,
           "subunitcolor": "white"
          },
          "height": 250,
          "hoverlabel": {
           "align": "left"
          },
          "hovermode": "closest",
          "mapbox": {
           "style": "light"
          },
          "margin": {
           "b": 10,
           "l": 10,
           "r": 10,
           "t": 10
          },
          "paper_bgcolor": "white",
          "plot_bgcolor": "white",
          "polar": {
           "angularaxis": {
            "gridcolor": "rgb(232,232,232)",
            "linecolor": "rgb(36,36,36)",
            "showgrid": false,
            "showline": true,
            "ticks": "outside"
           },
           "bgcolor": "white",
           "radialaxis": {
            "gridcolor": "rgb(232,232,232)",
            "linecolor": "rgb(36,36,36)",
            "showgrid": false,
            "showline": true,
            "ticks": "outside"
           }
          },
          "scene": {
           "xaxis": {
            "backgroundcolor": "white",
            "gridcolor": "rgb(232,232,232)",
            "gridwidth": 2,
            "linecolor": "rgb(36,36,36)",
            "showbackground": true,
            "showgrid": false,
            "showline": true,
            "ticks": "outside",
            "zeroline": false,
            "zerolinecolor": "rgb(36,36,36)"
           },
           "yaxis": {
            "backgroundcolor": "white",
            "gridcolor": "rgb(232,232,232)",
            "gridwidth": 2,
            "linecolor": "rgb(36,36,36)",
            "showbackground": true,
            "showgrid": false,
            "showline": true,
            "ticks": "outside",
            "zeroline": false,
            "zerolinecolor": "rgb(36,36,36)"
           },
           "zaxis": {
            "backgroundcolor": "white",
            "gridcolor": "rgb(232,232,232)",
            "gridwidth": 2,
            "linecolor": "rgb(36,36,36)",
            "showbackground": true,
            "showgrid": false,
            "showline": true,
            "ticks": "outside",
            "zeroline": false,
            "zerolinecolor": "rgb(36,36,36)"
           }
          },
          "shapedefaults": {
           "fillcolor": "black",
           "line": {
            "width": 0
           },
           "opacity": 0.3
          },
          "ternary": {
           "aaxis": {
            "gridcolor": "rgb(232,232,232)",
            "linecolor": "rgb(36,36,36)",
            "showgrid": false,
            "showline": true,
            "ticks": "outside"
           },
           "baxis": {
            "gridcolor": "rgb(232,232,232)",
            "linecolor": "rgb(36,36,36)",
            "showgrid": false,
            "showline": true,
            "ticks": "outside"
           },
           "bgcolor": "white",
           "caxis": {
            "gridcolor": "rgb(232,232,232)",
            "linecolor": "rgb(36,36,36)",
            "showgrid": false,
            "showline": true,
            "ticks": "outside"
           }
          },
          "title": {
           "x": 0.5,
           "xanchor": "center"
          },
          "width": 350,
          "xaxis": {
           "automargin": true,
           "gridcolor": "rgb(232,232,232)",
           "linecolor": "rgb(36,36,36)",
           "showgrid": true,
           "showline": true,
           "ticks": "outside",
           "title": {
            "standoff": 15
           },
           "zeroline": false,
           "zerolinecolor": "rgb(36,36,36)"
          },
          "yaxis": {
           "automargin": true,
           "gridcolor": "rgb(232,232,232)",
           "linecolor": "rgb(36,36,36)",
           "showgrid": true,
           "showline": true,
           "ticks": "outside",
           "title": {
            "standoff": 15
           },
           "zeroline": false,
           "zerolinecolor": "rgb(36,36,36)"
          }
         }
        },
        "width": 650,
        "xaxis": {
         "anchor": "y",
         "autorange": true,
         "domain": [
          0,
          1
         ],
         "range": [
          0.6190394021298479,
          1.562778110230681
         ],
         "title": {
          "text": "Tree Diameter (cm)"
         },
         "type": "log"
        },
        "yaxis": {
         "anchor": "x",
         "autorange": true,
         "domain": [
          0,
          1
         ],
         "range": [
          -0.06299738945491595,
          1.070480389454916
         ],
         "title": {
          "text": "Local Strength of Storm"
         },
         "type": "linear"
        }
       }
      },
      "image/png": "[encoded data removed]",
      "image/svg+xml": [
       "<svg class=\"main-svg\" xmlns=\"http://www.w3.org/2000/svg\" xmlns:xlink=\"http://www.w3.org/1999/xlink\" width=\"650\" height=\"300\" style=\"\" viewBox=\"0 0 650 300\"><rect x=\"0\" y=\"0\" width=\"650\" height=\"300\" style=\"fill: rgb(255, 255, 255); fill-opacity: 1;\"/><defs id=\"defs-5a5289\"><g class=\"clips\"><clipPath id=\"clip5a5289xyplot\" class=\"plotclip\"><rect width=\"471\" height=\"232\"/></clipPath><clipPath class=\"axesclip\" id=\"clip5a5289x\"><rect x=\"63\" y=\"0\" width=\"471\" height=\"300\"/></clipPath><clipPath class=\"axesclip\" id=\"clip5a5289y\"><rect x=\"0\" y=\"10\" width=\"650\" height=\"232\"/></clipPath><clipPath class=\"axesclip\" id=\"clip5a5289xy\"><rect x=\"63\" y=\"10\" width=\"471\" height=\"232\"/></clipPath></g><g class=\"gradients\"/><g class=\"patterns\"/></defs><g class=\"bglayer\"/><g class=\"layer-below\"><g class=\"imagelayer\"/><g class=\"shapelayer\"/></g><g class=\"cartesianlayer\"><g class=\"subplot xy\"><g class=\"layer-subplot\"><g class=\"shapelayer\"/><g class=\"imagelayer\"/></g><g class=\"gridlayer\"><g class=\"x\"><path class=\"xgrid crisp\" transform=\"translate(102.88,0)\" d=\"M0,10v232\" style=\"stroke: rgb(232, 232, 232); stroke-opacity: 1; stroke-width: 1px;\"/><path class=\"xgrid crisp\" transform=\"translate(253.13,0)\" d=\"M0,10v232\" style=\"stroke: rgb(232, 232, 232); stroke-opacity: 1; stroke-width: 1px;\"/><path class=\"xgrid crisp\" transform=\"translate(341.02,0)\" d=\"M0,10v232\" style=\"stroke: rgb(232, 232, 232); stroke-opacity: 1; stroke-width: 1px;\"/><path class=\"xgrid crisp\" transform=\"translate(403.37,0)\" d=\"M0,10v232\" style=\"stroke: rgb(232, 232, 232); stroke-opacity: 1; stroke-width: 1px;\"/><path class=\"xgrid crisp\" transform=\"translate(451.74,0)\" d=\"M0,10v232\" style=\"stroke: rgb(232, 232, 232); stroke-opacity: 1; stroke-width: 1px;\"/><path class=\"xgrid crisp\" transform=\"translate(491.26,0)\" d=\"M0,10v232\" style=\"stroke: rgb(232, 232, 232); stroke-opacity: 1; stroke-width: 1px;\"/><path class=\"xgrid crisp\" transform=\"translate(524.6800000000001,0)\" d=\"M0,10v232\" style=\"stroke: rgb(232, 232, 232); stroke-opacity: 1; stroke-width: 1px;\"/></g><g class=\"y\"><path class=\"ygrid crisp\" transform=\"translate(0,229.11)\" d=\"M63,0h471\" style=\"stroke: rgb(232, 232, 232); stroke-opacity: 1; stroke-width: 1px;\"/><path class=\"ygrid crisp\" transform=\"translate(0,188.17)\" d=\"M63,0h471\" style=\"stroke: rgb(232, 232, 232); stroke-opacity: 1; stroke-width: 1px;\"/><path class=\"ygrid crisp\" transform=\"translate(0,147.23)\" d=\"M63,0h471\" style=\"stroke: rgb(232, 232, 232); stroke-opacity: 1; stroke-width: 1px;\"/><path class=\"ygrid crisp\" transform=\"translate(0,106.3)\" d=\"M63,0h471\" style=\"stroke: rgb(232, 232, 232); stroke-opacity: 1; stroke-width: 1px;\"/><path class=\"ygrid crisp\" transform=\"translate(0,65.36)\" d=\"M63,0h471\" style=\"stroke: rgb(232, 232, 232); stroke-opacity: 1; stroke-width: 1px;\"/><path class=\"ygrid crisp\" transform=\"translate(0,24.43)\" d=\"M63,0h471\" style=\"stroke: rgb(232, 232, 232); stroke-opacity: 1; stroke-width: 1px;\"/></g></g><g class=\"zerolinelayer\"/><path class=\"xlines-below\"/><path class=\"ylines-below\"/><g class=\"overlines-below\"/><g class=\"xaxislayer-below\"/><g class=\"yaxislayer-below\"/><g class=\"overaxes-below\"/><g class=\"plot\" transform=\"translate(63,10)\" clip-path=\"url(#clip5a5289xyplot)\"><g class=\"scatterlayer mlayer\"><g class=\"trace scatter trace4cab8f\" style=\"stroke-miterlimit: 2; opacity: 1;\"><g class=\"fills\"/><g class=\"errorbars\"/><g class=\"lines\"/><g class=\"points\"><path class=\"point\" transform=\"translate(165.7,214.15)\" d=\"M5,0A5,5 0 1,1 0,-5A5,5 0 0,1 5,0Z\" style=\"opacity: 0.4; stroke-width: 0px; fill: rgb(31, 119, 180); fill-opacity: 1;\"/><path class=\"point\" transform=\"translate(209.23,212.84)\" d=\"M5,0A5,5 0 1,1 0,-5A5,5 0 0,1 5,0Z\" style=\"opacity: 0.4; stroke-width: 0px; fill: rgb(31, 119, 180); fill-opacity: 1;\"/><path class=\"point\" transform=\"translate(165.41,212.84)\" d=\"M5,0A5,5 0 1,1 0,-5A5,5 0 0,1 5,0Z\" style=\"opacity: 0.4; stroke-width: 0px; fill: rgb(31, 119, 180); fill-opacity: 1;\"/><path class=\"point\" transform=\"translate(164.3,212.11)\" d=\"M5,0A5,5 0 1,1 0,-5A5,5 0 0,1 5,0Z\" style=\"opacity: 0.4; stroke-width: 0px; fill: rgb(31, 119, 180); fill-opacity: 1;\"/><path class=\"point\" transform=\"translate(46.75,212.11)\" d=\"M5,0A5,5 0 1,1 0,-5A5,5 0 0,1 5,0Z\" style=\"opacity: 0.4; stroke-width: 0px; fill: rgb(31, 119, 180); fill-opacity: 1;\"/><path class=\"point\" transform=\"translate(142.5,212.11)\" d=\"M5,0A5,5 0 1,1 0,-5A5,5 0 0,1 5,0Z\" style=\"opacity: 0.4; stroke-width: 0px; fill: rgb(31, 119, 180); fill-opacity: 1;\"/><path class=\"point\" transform=\"translate(136.83,212.11)\" d=\"M5,0A5,5 0 1,1 0,-5A5,5 0 0,1 5,0Z\" style=\"opacity: 0.4; stroke-width: 0px; fill: rgb(31, 119, 180); fill-opacity: 1;\"/><path class=\"point\" transform=\"translate(72.67,212.11)\" d=\"M5,0A5,5 0 1,1 0,-5A5,5 0 0,1 5,0Z\" style=\"opacity: 0.4; stroke-width: 0px; fill: rgb(31, 119, 180); fill-opacity: 1;\"/><path class=\"point\" transform=\"translate(147.64,212.11)\" d=\"M5,0A5,5 0 1,1 0,-5A5,5 0 0,1 5,0Z\" style=\"opacity: 0.4; stroke-width: 0px; fill: rgb(31, 119, 180); fill-opacity: 1;\"/><path class=\"point\" transform=\"translate(40.42,212.11)\" d=\"M5,0A5,5 0 1,1 0,-5A5,5 0 0,1 5,0Z\" style=\"opacity: 0.4; stroke-width: 0px; fill: rgb(31, 119, 180); fill-opacity: 1;\"/><path class=\"point\" transform=\"translate(358.94,212.03)\" d=\"M5,0A5,5 0 1,1 0,-5A5,5 0 0,1 5,0Z\" style=\"opacity: 0.4; stroke-width: 0px; fill: rgb(31, 119, 180); fill-opacity: 1;\"/><path class=\"point\" transform=\"translate(88.2,209.66)\" d=\"M5,0A5,5 0 1,1 0,-5A5,5 0 0,1 5,0Z\" style=\"opacity: 0.4; stroke-width: 0px; fill: rgb(31, 119, 180); fill-opacity: 1;\"/><path class=\"point\" transform=\"translate(139.8,208.57)\" d=\"M5,0A5,5 0 1,1 0,-5A5,5 0 0,1 5,0Z\" style=\"opacity: 0.4; stroke-width: 0px; fill: rgb(31, 119, 180); fill-opacity: 1;\"/><path class=\"point\" transform=\"translate(146.3,207.89)\" d=\"M5,0A5,5 0 1,1 0,-5A5,5 0 0,1 5,0Z\" style=\"opacity: 0.4; stroke-width: 0px; fill: rgb(31, 119, 180); fill-opacity: 1;\"/><path class=\"point\" transform=\"translate(163.86,207.89)\" d=\"M5,0A5,5 0 1,1 0,-5A5,5 0 0,1 5,0Z\" style=\"opacity: 0.4; stroke-width: 0px; fill: rgb(31, 119, 180); fill-opacity: 1;\"/><path class=\"point\" transform=\"translate(192.92,207.89)\" d=\"M5,0A5,5 0 1,1 0,-5A5,5 0 0,1 5,0Z\" style=\"opacity: 0.4; stroke-width: 0px; fill: rgb(31, 119, 180); fill-opacity: 1;\"/><path class=\"point\" transform=\"translate(105.75,207.8)\" d=\"M5,0A5,5 0 1,1 0,-5A5,5 0 0,1 5,0Z\" style=\"opacity: 0.4; stroke-width: 0px; fill: rgb(31, 119, 180); fill-opacity: 1;\"/><path class=\"point\" transform=\"translate(261.02,207.33)\" d=\"M5,0A5,5 0 1,1 0,-5A5,5 0 0,1 5,0Z\" style=\"opacity: 0.4; stroke-width: 0px; fill: rgb(31, 119, 180); fill-opacity: 1;\"/><path class=\"point\" transform=\"translate(278.65,207.33)\" d=\"M5,0A5,5 0 1,1 0,-5A5,5 0 0,1 5,0Z\" style=\"opacity: 0.4; stroke-width: 0px; fill: rgb(31, 119, 180); fill-opacity: 1;\"/><path class=\"point\" transform=\"translate(304.49,207.33)\" d=\"M5,0A5,5 0 1,1 0,-5A5,5 0 0,1 5,0Z\" style=\"opacity: 0.4; stroke-width: 0px; fill: rgb(31, 119, 180); fill-opacity: 1;\"/><path class=\"point\" transform=\"translate(227.48,207.33)\" d=\"M5,0A5,5 0 1,1 0,-5A5,5 0 0,1 5,0Z\" style=\"opacity: 0.4; stroke-width: 0px; fill: rgb(31, 119, 180); fill-opacity: 1;\"/><path class=\"point\" transform=\"translate(144.52,205.02)\" d=\"M5,0A5,5 0 1,1 0,-5A5,5 0 0,1 5,0Z\" style=\"opacity: 0.4; stroke-width: 0px; fill: rgb(31, 119, 180); fill-opacity: 1;\"/><path class=\"point\" transform=\"translate(265.77,204.91)\" d=\"M5,0A5,5 0 1,1 0,-5A5,5 0 0,1 5,0Z\" style=\"opacity: 0.4; stroke-width: 0px; fill: rgb(31, 119, 180); fill-opacity: 1;\"/><path class=\"point\" transform=\"translate(234.1,204.91)\" d=\"M5,0A5,5 0 1,1 0,-5A5,5 0 0,1 5,0Z\" style=\"opacity: 0.4; stroke-width: 0px; fill: rgb(31, 119, 180); fill-opacity: 1;\"/><path class=\"point\" transform=\"translate(320.37,204.56)\" d=\"M5,0A5,5 0 1,1 0,-5A5,5 0 0,1 5,0Z\" style=\"opacity: 0.4; stroke-width: 0px; fill: rgb(31, 119, 180); fill-opacity: 1;\"/><path class=\"point\" transform=\"translate(247.35,204.56)\" d=\"M5,0A5,5 0 1,1 0,-5A5,5 0 0,1 5,0Z\" style=\"opacity: 0.4; stroke-width: 0px; fill: rgb(31, 119, 180); fill-opacity: 1;\"/><path class=\"point\" transform=\"translate(147.88,204.23)\" d=\"M5,0A5,5 0 1,1 0,-5A5,5 0 0,1 5,0Z\" style=\"opacity: 0.4; stroke-width: 0px; fill: rgb(31, 119, 180); fill-opacity: 1;\"/><path class=\"point\" transform=\"translate(106.06,204.23)\" d=\"M5,0A5,5 0 1,1 0,-5A5,5 0 0,1 5,0Z\" style=\"opacity: 0.4; stroke-width: 0px; fill: rgb(31, 119, 180); fill-opacity: 1;\"/><path class=\"point\" transform=\"translate(75.2,204.15)\" d=\"M5,0A5,5 0 1,1 0,-5A5,5 0 0,1 5,0Z\" style=\"opacity: 0.4; stroke-width: 0px; fill: rgb(31, 119, 180); fill-opacity: 1;\"/><path class=\"point\" transform=\"translate(44.71,204.15)\" d=\"M5,0A5,5 0 1,1 0,-5A5,5 0 0,1 5,0Z\" style=\"opacity: 0.4; stroke-width: 0px; fill: rgb(31, 119, 180); fill-opacity: 1;\"/><path class=\"point\" transform=\"translate(167.67,204.15)\" d=\"M5,0A5,5 0 1,1 0,-5A5,5 0 0,1 5,0Z\" style=\"opacity: 0.4; stroke-width: 0px; fill: rgb(31, 119, 180); fill-opacity: 1;\"/><path class=\"point\" transform=\"translate(262.24,203.28)\" d=\"M5,0A5,5 0 1,1 0,-5A5,5 0 0,1 5,0Z\" style=\"opacity: 0.4; stroke-width: 0px; fill: rgb(31, 119, 180); fill-opacity: 1;\"/><path class=\"point\" transform=\"translate(208.75,202.63)\" d=\"M5,0A5,5 0 1,1 0,-5A5,5 0 0,1 5,0Z\" style=\"opacity: 0.4; stroke-width: 0px; fill: rgb(31, 119, 180); fill-opacity: 1;\"/><path class=\"point\" transform=\"translate(116.29,202.35)\" d=\"M5,0A5,5 0 1,1 0,-5A5,5 0 0,1 5,0Z\" style=\"opacity: 0.4; stroke-width: 0px; fill: rgb(31, 119, 180); fill-opacity: 1;\"/><path class=\"point\" transform=\"translate(82.31,202.35)\" d=\"M5,0A5,5 0 1,1 0,-5A5,5 0 0,1 5,0Z\" style=\"opacity: 0.4; stroke-width: 0px; fill: rgb(31, 119, 180); fill-opacity: 1;\"/><path class=\"point\" transform=\"translate(46.23,201.79)\" d=\"M5,0A5,5 0 1,1 0,-5A5,5 0 0,1 5,0Z\" style=\"opacity: 0.4; stroke-width: 0px; fill: rgb(31, 119, 180); fill-opacity: 1;\"/><path class=\"point\" transform=\"translate(79.64,201.79)\" d=\"M5,0A5,5 0 1,1 0,-5A5,5 0 0,1 5,0Z\" style=\"opacity: 0.4; stroke-width: 0px; fill: rgb(31, 119, 180); fill-opacity: 1;\"/><path class=\"point\" transform=\"translate(31.21,201.79)\" d=\"M5,0A5,5 0 1,1 0,-5A5,5 0 0,1 5,0Z\" style=\"opacity: 0.4; stroke-width: 0px; fill: rgb(31, 119, 180); fill-opacity: 1;\"/><path class=\"point\" transform=\"translate(34.65,201.79)\" d=\"M5,0A5,5 0 1,1 0,-5A5,5 0 0,1 5,0Z\" style=\"opacity: 0.4; stroke-width: 0px; fill: rgb(31, 119, 180); fill-opacity: 1;\"/><path class=\"point\" transform=\"translate(191.55,201.71)\" d=\"M5,0A5,5 0 1,1 0,-5A5,5 0 0,1 5,0Z\" style=\"opacity: 0.4; stroke-width: 0px; fill: rgb(31, 119, 180); fill-opacity: 1;\"/><path class=\"point\" transform=\"translate(50.06,201.09)\" d=\"M5,0A5,5 0 1,1 0,-5A5,5 0 0,1 5,0Z\" style=\"opacity: 0.4; stroke-width: 0px; fill: rgb(31, 119, 180); fill-opacity: 1;\"/><path class=\"point\" transform=\"translate(86.91,201.09)\" d=\"M5,0A5,5 0 1,1 0,-5A5,5 0 0,1 5,0Z\" style=\"opacity: 0.4; stroke-width: 0px; fill: rgb(31, 119, 180); fill-opacity: 1;\"/><path class=\"point\" transform=\"translate(76.95,201.09)\" d=\"M5,0A5,5 0 1,1 0,-5A5,5 0 0,1 5,0Z\" style=\"opacity: 0.4; stroke-width: 0px; fill: rgb(31, 119, 180); fill-opacity: 1;\"/><path class=\"point\" transform=\"translate(31.88,201.09)\" d=\"M5,0A5,5 0 1,1 0,-5A5,5 0 0,1 5,0Z\" style=\"opacity: 0.4; stroke-width: 0px; fill: rgb(31, 119, 180); fill-opacity: 1;\"/><path class=\"point\" transform=\"translate(35.01,201.09)\" d=\"M5,0A5,5 0 1,1 0,-5A5,5 0 0,1 5,0Z\" style=\"opacity: 0.4; stroke-width: 0px; fill: rgb(31, 119, 180); fill-opacity: 1;\"/><path class=\"point\" transform=\"translate(147.09,201.09)\" d=\"M5,0A5,5 0 1,1 0,-5A5,5 0 0,1 5,0Z\" style=\"opacity: 0.4; stroke-width: 0px; fill: rgb(31, 119, 180); fill-opacity: 1;\"/><path class=\"point\" transform=\"translate(292.76,200.8)\" d=\"M5,0A5,5 0 1,1 0,-5A5,5 0 0,1 5,0Z\" style=\"opacity: 0.4; stroke-width: 0px; fill: rgb(31, 119, 180); fill-opacity: 1;\"/><path class=\"point\" transform=\"translate(194.14,200.8)\" d=\"M5,0A5,5 0 1,1 0,-5A5,5 0 0,1 5,0Z\" style=\"opacity: 0.4; stroke-width: 0px; fill: rgb(31, 119, 180); fill-opacity: 1;\"/><path class=\"point\" transform=\"translate(39.23,200.79)\" d=\"M5,0A5,5 0 1,1 0,-5A5,5 0 0,1 5,0Z\" style=\"opacity: 0.4; stroke-width: 0px; fill: rgb(31, 119, 180); fill-opacity: 1;\"/><path class=\"point\" transform=\"translate(166.32,200.38)\" d=\"M5,0A5,5 0 1,1 0,-5A5,5 0 0,1 5,0Z\" style=\"opacity: 0.4; stroke-width: 0px; fill: rgb(31, 119, 180); fill-opacity: 1;\"/><path class=\"point\" transform=\"translate(231.31,200.38)\" d=\"M5,0A5,5 0 1,1 0,-5A5,5 0 0,1 5,0Z\" style=\"opacity: 0.4; stroke-width: 0px; fill: rgb(31, 119, 180); fill-opacity: 1;\"/><path class=\"point\" transform=\"translate(48.05,200.38)\" d=\"M5,0A5,5 0 1,1 0,-5A5,5 0 0,1 5,0Z\" style=\"opacity: 0.4; stroke-width: 0px; fill: rgb(31, 119, 180); fill-opacity: 1;\"/><path class=\"point\" transform=\"translate(186.44,200.38)\" d=\"M5,0A5,5 0 1,1 0,-5A5,5 0 0,1 5,0Z\" style=\"opacity: 0.4; stroke-width: 0px; fill: rgb(31, 119, 180); fill-opacity: 1;\"/><path class=\"point\" transform=\"translate(117.06,200.38)\" d=\"M5,0A5,5 0 1,1 0,-5A5,5 0 0,1 5,0Z\" style=\"opacity: 0.4; stroke-width: 0px; fill: rgb(31, 119, 180); fill-opacity: 1;\"/><path class=\"point\" transform=\"translate(49.13,199.8)\" d=\"M5,0A5,5 0 1,1 0,-5A5,5 0 0,1 5,0Z\" style=\"opacity: 0.4; stroke-width: 0px; fill: rgb(31, 119, 180); fill-opacity: 1;\"/><path class=\"point\" transform=\"translate(119.08,199.8)\" d=\"M5,0A5,5 0 1,1 0,-5A5,5 0 0,1 5,0Z\" style=\"opacity: 0.4; stroke-width: 0px; fill: rgb(31, 119, 180); fill-opacity: 1;\"/><path class=\"point\" transform=\"translate(45.69,199.8)\" d=\"M5,0A5,5 0 1,1 0,-5A5,5 0 0,1 5,0Z\" style=\"opacity: 0.4; stroke-width: 0px; fill: rgb(31, 119, 180); fill-opacity: 1;\"/><path class=\"point\" transform=\"translate(260.8,199.48)\" d=\"M5,0A5,5 0 1,1 0,-5A5,5 0 0,1 5,0Z\" style=\"opacity: 0.4; stroke-width: 0px; fill: rgb(31, 119, 180); fill-opacity: 1;\"/><path class=\"point\" transform=\"translate(41.08,199.34)\" d=\"M5,0A5,5 0 1,1 0,-5A5,5 0 0,1 5,0Z\" style=\"opacity: 0.4; stroke-width: 0px; fill: rgb(31, 119, 180); fill-opacity: 1;\"/><path class=\"point\" transform=\"translate(305.57,198.76)\" d=\"M5,0A5,5 0 1,1 0,-5A5,5 0 0,1 5,0Z\" style=\"opacity: 0.4; stroke-width: 0px; fill: rgb(31, 119, 180); fill-opacity: 1;\"/><path class=\"point\" transform=\"translate(49.51,198.72)\" d=\"M5,0A5,5 0 1,1 0,-5A5,5 0 0,1 5,0Z\" style=\"opacity: 0.4; stroke-width: 0px; fill: rgb(31, 119, 180); fill-opacity: 1;\"/><path class=\"point\" transform=\"translate(211.12,198.72)\" d=\"M5,0A5,5 0 1,1 0,-5A5,5 0 0,1 5,0Z\" style=\"opacity: 0.4; stroke-width: 0px; fill: rgb(31, 119, 180); fill-opacity: 1;\"/><path class=\"point\" transform=\"translate(73.28,198.67)\" d=\"M5,0A5,5 0 1,1 0,-5A5,5 0 0,1 5,0Z\" style=\"opacity: 0.4; stroke-width: 0px; fill: rgb(31, 119, 180); fill-opacity: 1;\"/><path class=\"point\" transform=\"translate(116.84,198.67)\" d=\"M5,0A5,5 0 1,1 0,-5A5,5 0 0,1 5,0Z\" style=\"opacity: 0.4; stroke-width: 0px; fill: rgb(31, 119, 180); fill-opacity: 1;\"/><path class=\"point\" transform=\"translate(118.31,198.67)\" d=\"M5,0A5,5 0 1,1 0,-5A5,5 0 0,1 5,0Z\" style=\"opacity: 0.4; stroke-width: 0px; fill: rgb(31, 119, 180); fill-opacity: 1;\"/><path class=\"point\" transform=\"translate(388,197.88)\" d=\"M5,0A5,5 0 1,1 0,-5A5,5 0 0,1 5,0Z\" style=\"opacity: 0.4; stroke-width: 0px; fill: rgb(31, 119, 180); fill-opacity: 1;\"/><path class=\"point\" transform=\"translate(116.35,197.41)\" d=\"M5,0A5,5 0 1,1 0,-5A5,5 0 0,1 5,0Z\" style=\"opacity: 0.4; stroke-width: 0px; fill: rgb(31, 119, 180); fill-opacity: 1;\"/><path class=\"point\" transform=\"translate(145.47,197.41)\" d=\"M5,0A5,5 0 1,1 0,-5A5,5 0 0,1 5,0Z\" style=\"opacity: 0.4; stroke-width: 0px; fill: rgb(31, 119, 180); fill-opacity: 1;\"/><path class=\"point\" transform=\"translate(262.34,197.07)\" d=\"M5,0A5,5 0 1,1 0,-5A5,5 0 0,1 5,0Z\" style=\"opacity: 0.4; stroke-width: 0px; fill: rgb(31, 119, 180); fill-opacity: 1;\"/><path class=\"point\" transform=\"translate(331.9,197.05)\" d=\"M5,0A5,5 0 1,1 0,-5A5,5 0 0,1 5,0Z\" style=\"opacity: 0.4; stroke-width: 0px; fill: rgb(31, 119, 180); fill-opacity: 1;\"/><path class=\"point\" transform=\"translate(303.48,197.05)\" d=\"M5,0A5,5 0 1,1 0,-5A5,5 0 0,1 5,0Z\" style=\"opacity: 0.4; stroke-width: 0px; fill: rgb(31, 119, 180); fill-opacity: 1;\"/><path class=\"point\" transform=\"translate(266.25,195.59)\" d=\"M5,0A5,5 0 1,1 0,-5A5,5 0 0,1 5,0Z\" style=\"opacity: 0.4; stroke-width: 0px; fill: rgb(31, 119, 180); fill-opacity: 1;\"/><path class=\"point\" transform=\"translate(76.72,195.59)\" d=\"M5,0A5,5 0 1,1 0,-5A5,5 0 0,1 5,0Z\" style=\"opacity: 0.4; stroke-width: 0px; fill: rgb(31, 119, 180); fill-opacity: 1;\"/><path class=\"point\" transform=\"translate(87.91,195.44)\" d=\"M5,0A5,5 0 1,1 0,-5A5,5 0 0,1 5,0Z\" style=\"opacity: 0.4; stroke-width: 0px; fill: rgb(31, 119, 180); fill-opacity: 1;\"/><path class=\"point\" transform=\"translate(80.04,195.44)\" d=\"M5,0A5,5 0 1,1 0,-5A5,5 0 0,1 5,0Z\" style=\"opacity: 0.4; stroke-width: 0px; fill: rgb(31, 119, 180); fill-opacity: 1;\"/><path class=\"point\" transform=\"translate(141.34,194.88)\" d=\"M5,0A5,5 0 1,1 0,-5A5,5 0 0,1 5,0Z\" style=\"opacity: 0.4; stroke-width: 0px; fill: rgb(31, 119, 180); fill-opacity: 1;\"/><path class=\"point\" transform=\"translate(79.63,194.43)\" d=\"M5,0A5,5 0 1,1 0,-5A5,5 0 0,1 5,0Z\" style=\"opacity: 0.4; stroke-width: 0px; fill: rgb(31, 119, 180); fill-opacity: 1;\"/><path class=\"point\" transform=\"translate(171.76,194.43)\" d=\"M5,0A5,5 0 1,1 0,-5A5,5 0 0,1 5,0Z\" style=\"opacity: 0.4; stroke-width: 0px; fill: rgb(31, 119, 180); fill-opacity: 1;\"/><path class=\"point\" transform=\"translate(214.11,194.42)\" d=\"M5,0A5,5 0 1,1 0,-5A5,5 0 0,1 5,0Z\" style=\"opacity: 0.4; stroke-width: 0px; fill: rgb(31, 119, 180); fill-opacity: 1;\"/><path class=\"point\" transform=\"translate(76.95,192.81)\" d=\"M5,0A5,5 0 1,1 0,-5A5,5 0 0,1 5,0Z\" style=\"opacity: 0.4; stroke-width: 0px; fill: rgb(31, 119, 180); fill-opacity: 1;\"/><path class=\"point\" transform=\"translate(115.52,192.62)\" d=\"M5,0A5,5 0 1,1 0,-5A5,5 0 0,1 5,0Z\" style=\"opacity: 0.4; stroke-width: 0px; fill: rgb(31, 119, 180); fill-opacity: 1;\"/><path class=\"point\" transform=\"translate(45.54,192.62)\" d=\"M5,0A5,5 0 1,1 0,-5A5,5 0 0,1 5,0Z\" style=\"opacity: 0.4; stroke-width: 0px; fill: rgb(31, 119, 180); fill-opacity: 1;\"/><path class=\"point\" transform=\"translate(114.83,192.62)\" d=\"M5,0A5,5 0 1,1 0,-5A5,5 0 0,1 5,0Z\" style=\"opacity: 0.4; stroke-width: 0px; fill: rgb(31, 119, 180); fill-opacity: 1;\"/><path class=\"point\" transform=\"translate(115.59,192.16)\" d=\"M5,0A5,5 0 1,1 0,-5A5,5 0 0,1 5,0Z\" style=\"opacity: 0.4; stroke-width: 0px; fill: rgb(31, 119, 180); fill-opacity: 1;\"/><path class=\"point\" transform=\"translate(209.49,192.15)\" d=\"M5,0A5,5 0 1,1 0,-5A5,5 0 0,1 5,0Z\" style=\"opacity: 0.4; stroke-width: 0px; fill: rgb(31, 119, 180); fill-opacity: 1;\"/><path class=\"point\" transform=\"translate(207.95,192.08)\" d=\"M5,0A5,5 0 1,1 0,-5A5,5 0 0,1 5,0Z\" style=\"opacity: 0.4; stroke-width: 0px; fill: rgb(31, 119, 180); fill-opacity: 1;\"/><path class=\"point\" transform=\"translate(249.66,192.07)\" d=\"M5,0A5,5 0 1,1 0,-5A5,5 0 0,1 5,0Z\" style=\"opacity: 0.4; stroke-width: 0px; fill: rgb(31, 119, 180); fill-opacity: 1;\"/><path class=\"point\" transform=\"translate(193.3,191.97)\" d=\"M5,0A5,5 0 1,1 0,-5A5,5 0 0,1 5,0Z\" style=\"opacity: 0.4; stroke-width: 0px; fill: rgb(31, 119, 180); fill-opacity: 1;\"/><path class=\"point\" transform=\"translate(186.13,191.97)\" d=\"M5,0A5,5 0 1,1 0,-5A5,5 0 0,1 5,0Z\" style=\"opacity: 0.4; stroke-width: 0px; fill: rgb(31, 119, 180); fill-opacity: 1;\"/><path class=\"point\" transform=\"translate(35.01,190.85)\" d=\"M5,0A5,5 0 1,1 0,-5A5,5 0 0,1 5,0Z\" style=\"opacity: 0.4; stroke-width: 0px; fill: rgb(31, 119, 180); fill-opacity: 1;\"/><path class=\"point\" transform=\"translate(41.96,190.85)\" d=\"M5,0A5,5 0 1,1 0,-5A5,5 0 0,1 5,0Z\" style=\"opacity: 0.4; stroke-width: 0px; fill: rgb(31, 119, 180); fill-opacity: 1;\"/><path class=\"point\" transform=\"translate(32.46,190.85)\" d=\"M5,0A5,5 0 1,1 0,-5A5,5 0 0,1 5,0Z\" style=\"opacity: 0.4; stroke-width: 0px; fill: rgb(31, 119, 180); fill-opacity: 1;\"/><path class=\"point\" transform=\"translate(73.24,189.59)\" d=\"M5,0A5,5 0 1,1 0,-5A5,5 0 0,1 5,0Z\" style=\"opacity: 0.4; stroke-width: 0px; fill: rgb(31, 119, 180); fill-opacity: 1;\"/><path class=\"point\" transform=\"translate(83.97,189.34)\" d=\"M5,0A5,5 0 1,1 0,-5A5,5 0 0,1 5,0Z\" style=\"opacity: 0.4; stroke-width: 0px; fill: rgb(31, 119, 180); fill-opacity: 1;\"/><path class=\"point\" transform=\"translate(170.43,189.34)\" d=\"M5,0A5,5 0 1,1 0,-5A5,5 0 0,1 5,0Z\" style=\"opacity: 0.4; stroke-width: 0px; fill: rgb(31, 119, 180); fill-opacity: 1;\"/><path class=\"point\" transform=\"translate(265.09,188.81)\" d=\"M5,0A5,5 0 1,1 0,-5A5,5 0 0,1 5,0Z\" style=\"opacity: 0.4; stroke-width: 0px; fill: rgb(31, 119, 180); fill-opacity: 1;\"/><path class=\"point\" transform=\"translate(214.96,188.81)\" d=\"M5,0A5,5 0 1,1 0,-5A5,5 0 0,1 5,0Z\" style=\"opacity: 0.4; stroke-width: 0px; fill: rgb(31, 119, 180); fill-opacity: 1;\"/><path class=\"point\" transform=\"translate(250.74,188.81)\" d=\"M5,0A5,5 0 1,1 0,-5A5,5 0 0,1 5,0Z\" style=\"opacity: 0.4; stroke-width: 0px; fill: rgb(31, 119, 180); fill-opacity: 1;\"/><path class=\"point\" transform=\"translate(162.06,188.81)\" d=\"M5,0A5,5 0 1,1 0,-5A5,5 0 0,1 5,0Z\" style=\"opacity: 0.4; stroke-width: 0px; fill: rgb(31, 119, 180); fill-opacity: 1;\"/><path class=\"point\" transform=\"translate(71.72,188.41)\" d=\"M5,0A5,5 0 1,1 0,-5A5,5 0 0,1 5,0Z\" style=\"opacity: 0.4; stroke-width: 0px; fill: rgb(31, 119, 180); fill-opacity: 1;\"/><path class=\"point\" transform=\"translate(32.04,188.41)\" d=\"M5,0A5,5 0 1,1 0,-5A5,5 0 0,1 5,0Z\" style=\"opacity: 0.4; stroke-width: 0px; fill: rgb(31, 119, 180); fill-opacity: 1;\"/><path class=\"point\" transform=\"translate(169.68,187.85)\" d=\"M5,0A5,5 0 1,1 0,-5A5,5 0 0,1 5,0Z\" style=\"opacity: 0.4; stroke-width: 0px; fill: rgb(31, 119, 180); fill-opacity: 1;\"/><path class=\"point\" transform=\"translate(75.97,187.85)\" d=\"M5,0A5,5 0 1,1 0,-5A5,5 0 0,1 5,0Z\" style=\"opacity: 0.4; stroke-width: 0px; fill: rgb(31, 119, 180); fill-opacity: 1;\"/><path class=\"point\" transform=\"translate(43.05,185.58)\" d=\"M5,0A5,5 0 1,1 0,-5A5,5 0 0,1 5,0Z\" style=\"opacity: 0.4; stroke-width: 0px; fill: rgb(31, 119, 180); fill-opacity: 1;\"/><path class=\"point\" transform=\"translate(260.67,185.58)\" d=\"M5,0A5,5 0 1,1 0,-5A5,5 0 0,1 5,0Z\" style=\"opacity: 0.4; stroke-width: 0px; fill: rgb(31, 119, 180); fill-opacity: 1;\"/><path class=\"point\" transform=\"translate(35.02,185.58)\" d=\"M5,0A5,5 0 1,1 0,-5A5,5 0 0,1 5,0Z\" style=\"opacity: 0.4; stroke-width: 0px; fill: rgb(31, 119, 180); fill-opacity: 1;\"/><path class=\"point\" transform=\"translate(188.17,185.43)\" d=\"M5,0A5,5 0 1,1 0,-5A5,5 0 0,1 5,0Z\" style=\"opacity: 0.4; stroke-width: 0px; fill: rgb(31, 119, 180); fill-opacity: 1;\"/><path class=\"point\" transform=\"translate(188.48,185.43)\" d=\"M5,0A5,5 0 1,1 0,-5A5,5 0 0,1 5,0Z\" style=\"opacity: 0.4; stroke-width: 0px; fill: rgb(31, 119, 180); fill-opacity: 1;\"/><path class=\"point\" transform=\"translate(292.96,183.62)\" d=\"M5,0A5,5 0 1,1 0,-5A5,5 0 0,1 5,0Z\" style=\"opacity: 0.4; stroke-width: 0px; fill: rgb(31, 119, 180); fill-opacity: 1;\"/><path class=\"point\" transform=\"translate(112.99,183.62)\" d=\"M5,0A5,5 0 1,1 0,-5A5,5 0 0,1 5,0Z\" style=\"opacity: 0.4; stroke-width: 0px; fill: rgb(31, 119, 180); fill-opacity: 1;\"/><path class=\"point\" transform=\"translate(194.8,183.62)\" d=\"M5,0A5,5 0 1,1 0,-5A5,5 0 0,1 5,0Z\" style=\"opacity: 0.4; stroke-width: 0px; fill: rgb(31, 119, 180); fill-opacity: 1;\"/><path class=\"point\" transform=\"translate(86.08,183.47)\" d=\"M5,0A5,5 0 1,1 0,-5A5,5 0 0,1 5,0Z\" style=\"opacity: 0.4; stroke-width: 0px; fill: rgb(31, 119, 180); fill-opacity: 1;\"/><path class=\"point\" transform=\"translate(164.47,183.31)\" d=\"M5,0A5,5 0 1,1 0,-5A5,5 0 0,1 5,0Z\" style=\"opacity: 0.4; stroke-width: 0px; fill: rgb(31, 119, 180); fill-opacity: 1;\"/><path class=\"point\" transform=\"translate(105.62,182.89)\" d=\"M5,0A5,5 0 1,1 0,-5A5,5 0 0,1 5,0Z\" style=\"opacity: 0.4; stroke-width: 0px; fill: rgb(31, 119, 180); fill-opacity: 1;\"/><path class=\"point\" transform=\"translate(36.37,182.05)\" d=\"M5,0A5,5 0 1,1 0,-5A5,5 0 0,1 5,0Z\" style=\"opacity: 0.4; stroke-width: 0px; fill: rgb(31, 119, 180); fill-opacity: 1;\"/><path class=\"point\" transform=\"translate(48.92,182.05)\" d=\"M5,0A5,5 0 1,1 0,-5A5,5 0 0,1 5,0Z\" style=\"opacity: 0.4; stroke-width: 0px; fill: rgb(31, 119, 180); fill-opacity: 1;\"/><path class=\"point\" transform=\"translate(81.47,181.76)\" d=\"M5,0A5,5 0 1,1 0,-5A5,5 0 0,1 5,0Z\" style=\"opacity: 0.4; stroke-width: 0px; fill: rgb(31, 119, 180); fill-opacity: 1;\"/><path class=\"point\" transform=\"translate(35.93,181.76)\" d=\"M5,0A5,5 0 1,1 0,-5A5,5 0 0,1 5,0Z\" style=\"opacity: 0.4; stroke-width: 0px; fill: rgb(31, 119, 180); fill-opacity: 1;\"/><path class=\"point\" transform=\"translate(42.33,181.76)\" d=\"M5,0A5,5 0 1,1 0,-5A5,5 0 0,1 5,0Z\" style=\"opacity: 0.4; stroke-width: 0px; fill: rgb(31, 119, 180); fill-opacity: 1;\"/><path class=\"point\" transform=\"translate(39.92,181.76)\" d=\"M5,0A5,5 0 1,1 0,-5A5,5 0 0,1 5,0Z\" style=\"opacity: 0.4; stroke-width: 0px; fill: rgb(31, 119, 180); fill-opacity: 1;\"/><path class=\"point\" transform=\"translate(111.05,181.76)\" d=\"M5,0A5,5 0 1,1 0,-5A5,5 0 0,1 5,0Z\" style=\"opacity: 0.4; stroke-width: 0px; fill: rgb(31, 119, 180); fill-opacity: 1;\"/><path class=\"point\" transform=\"translate(73.63,181.52)\" d=\"M5,0A5,5 0 1,1 0,-5A5,5 0 0,1 5,0Z\" style=\"opacity: 0.4; stroke-width: 0px; fill: rgb(31, 119, 180); fill-opacity: 1;\"/><path class=\"point\" transform=\"translate(78.88,181.52)\" d=\"M5,0A5,5 0 1,1 0,-5A5,5 0 0,1 5,0Z\" style=\"opacity: 0.4; stroke-width: 0px; fill: rgb(31, 119, 180); fill-opacity: 1;\"/><path class=\"point\" transform=\"translate(83.5,181.52)\" d=\"M5,0A5,5 0 1,1 0,-5A5,5 0 0,1 5,0Z\" style=\"opacity: 0.4; stroke-width: 0px; fill: rgb(31, 119, 180); fill-opacity: 1;\"/><path class=\"point\" transform=\"translate(106.55,181.33)\" d=\"M5,0A5,5 0 1,1 0,-5A5,5 0 0,1 5,0Z\" style=\"opacity: 0.4; stroke-width: 0px; fill: rgb(31, 119, 180); fill-opacity: 1;\"/><path class=\"point\" transform=\"translate(86.46,181.33)\" d=\"M5,0A5,5 0 1,1 0,-5A5,5 0 0,1 5,0Z\" style=\"opacity: 0.4; stroke-width: 0px; fill: rgb(31, 119, 180); fill-opacity: 1;\"/><path class=\"point\" transform=\"translate(33.01,179.91)\" d=\"M5,0A5,5 0 1,1 0,-5A5,5 0 0,1 5,0Z\" style=\"opacity: 0.4; stroke-width: 0px; fill: rgb(31, 119, 180); fill-opacity: 1;\"/><path class=\"point\" transform=\"translate(226.66,179.75)\" d=\"M5,0A5,5 0 1,1 0,-5A5,5 0 0,1 5,0Z\" style=\"opacity: 0.4; stroke-width: 0px; fill: rgb(31, 119, 180); fill-opacity: 1;\"/><path class=\"point\" transform=\"translate(117.32,179.7)\" d=\"M5,0A5,5 0 1,1 0,-5A5,5 0 0,1 5,0Z\" style=\"opacity: 0.4; stroke-width: 0px; fill: rgb(31, 119, 180); fill-opacity: 1;\"/><path class=\"point\" transform=\"translate(266.72,178.66)\" d=\"M5,0A5,5 0 1,1 0,-5A5,5 0 0,1 5,0Z\" style=\"opacity: 0.4; stroke-width: 0px; fill: rgb(31, 119, 180); fill-opacity: 1;\"/><path class=\"point\" transform=\"translate(135.84,178.66)\" d=\"M5,0A5,5 0 1,1 0,-5A5,5 0 0,1 5,0Z\" style=\"opacity: 0.4; stroke-width: 0px; fill: rgb(31, 119, 180); fill-opacity: 1;\"/><path class=\"point\" transform=\"translate(189.14,178.66)\" d=\"M5,0A5,5 0 1,1 0,-5A5,5 0 0,1 5,0Z\" style=\"opacity: 0.4; stroke-width: 0px; fill: rgb(31, 119, 180); fill-opacity: 1;\"/><path class=\"point\" transform=\"translate(291.46,178.66)\" d=\"M5,0A5,5 0 1,1 0,-5A5,5 0 0,1 5,0Z\" style=\"opacity: 0.4; stroke-width: 0px; fill: rgb(31, 119, 180); fill-opacity: 1;\"/><path class=\"point\" transform=\"translate(212.49,178.66)\" d=\"M5,0A5,5 0 1,1 0,-5A5,5 0 0,1 5,0Z\" style=\"opacity: 0.4; stroke-width: 0px; fill: rgb(31, 119, 180); fill-opacity: 1;\"/><path class=\"point\" transform=\"translate(262.22,178.52)\" d=\"M5,0A5,5 0 1,1 0,-5A5,5 0 0,1 5,0Z\" style=\"opacity: 0.4; stroke-width: 0px; fill: rgb(31, 119, 180); fill-opacity: 1;\"/><path class=\"point\" transform=\"translate(185.81,178.34)\" d=\"M5,0A5,5 0 1,1 0,-5A5,5 0 0,1 5,0Z\" style=\"opacity: 0.4; stroke-width: 0px; fill: rgb(31, 119, 180); fill-opacity: 1;\"/><path class=\"point\" transform=\"translate(142.5,177.32)\" d=\"M5,0A5,5 0 1,1 0,-5A5,5 0 0,1 5,0Z\" style=\"opacity: 0.4; stroke-width: 0px; fill: rgb(31, 119, 180); fill-opacity: 1;\"/><path class=\"point\" transform=\"translate(191.35,176.89)\" d=\"M5,0A5,5 0 1,1 0,-5A5,5 0 0,1 5,0Z\" style=\"opacity: 0.4; stroke-width: 0px; fill: rgb(31, 119, 180); fill-opacity: 1;\"/><path class=\"point\" transform=\"translate(77.66,176.58)\" d=\"M5,0A5,5 0 1,1 0,-5A5,5 0 0,1 5,0Z\" style=\"opacity: 0.4; stroke-width: 0px; fill: rgb(31, 119, 180); fill-opacity: 1;\"/><path class=\"point\" transform=\"translate(72.11,176.58)\" d=\"M5,0A5,5 0 1,1 0,-5A5,5 0 0,1 5,0Z\" style=\"opacity: 0.4; stroke-width: 0px; fill: rgb(31, 119, 180); fill-opacity: 1;\"/><path class=\"point\" transform=\"translate(167.48,176.51)\" d=\"M5,0A5,5 0 1,1 0,-5A5,5 0 0,1 5,0Z\" style=\"opacity: 0.4; stroke-width: 0px; fill: rgb(31, 119, 180); fill-opacity: 1;\"/><path class=\"point\" transform=\"translate(170.57,176.51)\" d=\"M5,0A5,5 0 1,1 0,-5A5,5 0 0,1 5,0Z\" style=\"opacity: 0.4; stroke-width: 0px; fill: rgb(31, 119, 180); fill-opacity: 1;\"/><path class=\"point\" transform=\"translate(171.87,175.29)\" d=\"M5,0A5,5 0 1,1 0,-5A5,5 0 0,1 5,0Z\" style=\"opacity: 0.4; stroke-width: 0px; fill: rgb(31, 119, 180); fill-opacity: 1;\"/><path class=\"point\" transform=\"translate(144.04,175.29)\" d=\"M5,0A5,5 0 1,1 0,-5A5,5 0 0,1 5,0Z\" style=\"opacity: 0.4; stroke-width: 0px; fill: rgb(31, 119, 180); fill-opacity: 1;\"/><path class=\"point\" transform=\"translate(112.13,175.29)\" d=\"M5,0A5,5 0 1,1 0,-5A5,5 0 0,1 5,0Z\" style=\"opacity: 0.4; stroke-width: 0px; fill: rgb(31, 119, 180); fill-opacity: 1;\"/><path class=\"point\" transform=\"translate(111.23,175.11)\" d=\"M5,0A5,5 0 1,1 0,-5A5,5 0 0,1 5,0Z\" style=\"opacity: 0.4; stroke-width: 0px; fill: rgb(31, 119, 180); fill-opacity: 1;\"/><path class=\"point\" transform=\"translate(114.14,175.11)\" d=\"M5,0A5,5 0 1,1 0,-5A5,5 0 0,1 5,0Z\" style=\"opacity: 0.4; stroke-width: 0px; fill: rgb(31, 119, 180); fill-opacity: 1;\"/><path class=\"point\" transform=\"translate(44.94,174.99)\" d=\"M5,0A5,5 0 1,1 0,-5A5,5 0 0,1 5,0Z\" style=\"opacity: 0.4; stroke-width: 0px; fill: rgb(31, 119, 180); fill-opacity: 1;\"/><path class=\"point\" transform=\"translate(120.24,174.99)\" d=\"M5,0A5,5 0 1,1 0,-5A5,5 0 0,1 5,0Z\" style=\"opacity: 0.4; stroke-width: 0px; fill: rgb(31, 119, 180); fill-opacity: 1;\"/><path class=\"point\" transform=\"translate(37.5,174.99)\" d=\"M5,0A5,5 0 1,1 0,-5A5,5 0 0,1 5,0Z\" style=\"opacity: 0.4; stroke-width: 0px; fill: rgb(31, 119, 180); fill-opacity: 1;\"/><path class=\"point\" transform=\"translate(71.94,174.99)\" d=\"M5,0A5,5 0 1,1 0,-5A5,5 0 0,1 5,0Z\" style=\"opacity: 0.4; stroke-width: 0px; fill: rgb(31, 119, 180); fill-opacity: 1;\"/><path class=\"point\" transform=\"translate(34.54,174.99)\" d=\"M5,0A5,5 0 1,1 0,-5A5,5 0 0,1 5,0Z\" style=\"opacity: 0.4; stroke-width: 0px; fill: rgb(31, 119, 180); fill-opacity: 1;\"/><path class=\"point\" transform=\"translate(211.12,174.99)\" d=\"M5,0A5,5 0 1,1 0,-5A5,5 0 0,1 5,0Z\" style=\"opacity: 0.4; stroke-width: 0px; fill: rgb(31, 119, 180); fill-opacity: 1;\"/><path class=\"point\" transform=\"translate(38.17,174.99)\" d=\"M5,0A5,5 0 1,1 0,-5A5,5 0 0,1 5,0Z\" style=\"opacity: 0.4; stroke-width: 0px; fill: rgb(31, 119, 180); fill-opacity: 1;\"/><path class=\"point\" transform=\"translate(110.73,174.9)\" d=\"M5,0A5,5 0 1,1 0,-5A5,5 0 0,1 5,0Z\" style=\"opacity: 0.4; stroke-width: 0px; fill: rgb(31, 119, 180); fill-opacity: 1;\"/><path class=\"point\" transform=\"translate(137.18,174.9)\" d=\"M5,0A5,5 0 1,1 0,-5A5,5 0 0,1 5,0Z\" style=\"opacity: 0.4; stroke-width: 0px; fill: rgb(31, 119, 180); fill-opacity: 1;\"/><path class=\"point\" transform=\"translate(192.28,174.9)\" d=\"M5,0A5,5 0 1,1 0,-5A5,5 0 0,1 5,0Z\" style=\"opacity: 0.4; stroke-width: 0px; fill: rgb(31, 119, 180); fill-opacity: 1;\"/><path class=\"point\" transform=\"translate(46.99,174.89)\" d=\"M5,0A5,5 0 1,1 0,-5A5,5 0 0,1 5,0Z\" style=\"opacity: 0.4; stroke-width: 0px; fill: rgb(31, 119, 180); fill-opacity: 1;\"/><path class=\"point\" transform=\"translate(135.94,174.16)\" d=\"M5,0A5,5 0 1,1 0,-5A5,5 0 0,1 5,0Z\" style=\"opacity: 0.4; stroke-width: 0px; fill: rgb(31, 119, 180); fill-opacity: 1;\"/><path class=\"point\" transform=\"translate(37.8,174.16)\" d=\"M5,0A5,5 0 1,1 0,-5A5,5 0 0,1 5,0Z\" style=\"opacity: 0.4; stroke-width: 0px; fill: rgb(31, 119, 180); fill-opacity: 1;\"/><path class=\"point\" transform=\"translate(120.17,174.16)\" d=\"M5,0A5,5 0 1,1 0,-5A5,5 0 0,1 5,0Z\" style=\"opacity: 0.4; stroke-width: 0px; fill: rgb(31, 119, 180); fill-opacity: 1;\"/><path class=\"point\" transform=\"translate(138.8,174.16)\" d=\"M5,0A5,5 0 1,1 0,-5A5,5 0 0,1 5,0Z\" style=\"opacity: 0.4; stroke-width: 0px; fill: rgb(31, 119, 180); fill-opacity: 1;\"/><path class=\"point\" transform=\"translate(144.82,173.13)\" d=\"M5,0A5,5 0 1,1 0,-5A5,5 0 0,1 5,0Z\" style=\"opacity: 0.4; stroke-width: 0px; fill: rgb(31, 119, 180); fill-opacity: 1;\"/><path class=\"point\" transform=\"translate(86.07,173.11)\" d=\"M5,0A5,5 0 1,1 0,-5A5,5 0 0,1 5,0Z\" style=\"opacity: 0.4; stroke-width: 0px; fill: rgb(31, 119, 180); fill-opacity: 1;\"/><path class=\"point\" transform=\"translate(81.28,173.11)\" d=\"M5,0A5,5 0 1,1 0,-5A5,5 0 0,1 5,0Z\" style=\"opacity: 0.4; stroke-width: 0px; fill: rgb(31, 119, 180); fill-opacity: 1;\"/><path class=\"point\" transform=\"translate(114.05,173.11)\" d=\"M5,0A5,5 0 1,1 0,-5A5,5 0 0,1 5,0Z\" style=\"opacity: 0.4; stroke-width: 0px; fill: rgb(31, 119, 180); fill-opacity: 1;\"/><path class=\"point\" transform=\"translate(84.5,172.41)\" d=\"M5,0A5,5 0 1,1 0,-5A5,5 0 0,1 5,0Z\" style=\"opacity: 0.4; stroke-width: 0px; fill: rgb(31, 119, 180); fill-opacity: 1;\"/><path class=\"point\" transform=\"translate(34.45,172.41)\" d=\"M5,0A5,5 0 1,1 0,-5A5,5 0 0,1 5,0Z\" style=\"opacity: 0.4; stroke-width: 0px; fill: rgb(31, 119, 180); fill-opacity: 1;\"/><path class=\"point\" transform=\"translate(169.72,171.89)\" d=\"M5,0A5,5 0 1,1 0,-5A5,5 0 0,1 5,0Z\" style=\"opacity: 0.4; stroke-width: 0px; fill: rgb(31, 119, 180); fill-opacity: 1;\"/><path class=\"point\" transform=\"translate(114.83,171.12)\" d=\"M5,0A5,5 0 1,1 0,-5A5,5 0 0,1 5,0Z\" style=\"opacity: 0.4; stroke-width: 0px; fill: rgb(31, 119, 180); fill-opacity: 1;\"/><path class=\"point\" transform=\"translate(72.9,170.86)\" d=\"M5,0A5,5 0 1,1 0,-5A5,5 0 0,1 5,0Z\" style=\"opacity: 0.4; stroke-width: 0px; fill: rgb(31, 119, 180); fill-opacity: 1;\"/><path class=\"point\" transform=\"translate(295.33,170.86)\" d=\"M5,0A5,5 0 1,1 0,-5A5,5 0 0,1 5,0Z\" style=\"opacity: 0.4; stroke-width: 0px; fill: rgb(31, 119, 180); fill-opacity: 1;\"/><path class=\"point\" transform=\"translate(86.23,170.8)\" d=\"M5,0A5,5 0 1,1 0,-5A5,5 0 0,1 5,0Z\" style=\"opacity: 0.4; stroke-width: 0px; fill: rgb(31, 119, 180); fill-opacity: 1;\"/><path class=\"point\" transform=\"translate(74.95,170.8)\" d=\"M5,0A5,5 0 1,1 0,-5A5,5 0 0,1 5,0Z\" style=\"opacity: 0.4; stroke-width: 0px; fill: rgb(31, 119, 180); fill-opacity: 1;\"/><path class=\"point\" transform=\"translate(145.21,170.53)\" d=\"M5,0A5,5 0 1,1 0,-5A5,5 0 0,1 5,0Z\" style=\"opacity: 0.4; stroke-width: 0px; fill: rgb(31, 119, 180); fill-opacity: 1;\"/><path class=\"point\" transform=\"translate(116.17,168.07)\" d=\"M5,0A5,5 0 1,1 0,-5A5,5 0 0,1 5,0Z\" style=\"opacity: 0.4; stroke-width: 0px; fill: rgb(31, 119, 180); fill-opacity: 1;\"/><path class=\"point\" transform=\"translate(420.22,167.54)\" d=\"M5,0A5,5 0 1,1 0,-5A5,5 0 0,1 5,0Z\" style=\"opacity: 0.4; stroke-width: 0px; fill: rgb(31, 119, 180); fill-opacity: 1;\"/><path class=\"point\" transform=\"translate(74.88,167.15)\" d=\"M5,0A5,5 0 1,1 0,-5A5,5 0 0,1 5,0Z\" style=\"opacity: 0.4; stroke-width: 0px; fill: rgb(31, 119, 180); fill-opacity: 1;\"/><path class=\"point\" transform=\"translate(71.3,167.15)\" d=\"M5,0A5,5 0 1,1 0,-5A5,5 0 0,1 5,0Z\" style=\"opacity: 0.4; stroke-width: 0px; fill: rgb(31, 119, 180); fill-opacity: 1;\"/><path class=\"point\" transform=\"translate(171.4,167.15)\" d=\"M5,0A5,5 0 1,1 0,-5A5,5 0 0,1 5,0Z\" style=\"opacity: 0.4; stroke-width: 0px; fill: rgb(31, 119, 180); fill-opacity: 1;\"/><path class=\"point\" transform=\"translate(138.08,166.55)\" d=\"M5,0A5,5 0 1,1 0,-5A5,5 0 0,1 5,0Z\" style=\"opacity: 0.4; stroke-width: 0px; fill: rgb(31, 119, 180); fill-opacity: 1;\"/><path class=\"point\" transform=\"translate(115.81,166.01)\" d=\"M5,0A5,5 0 1,1 0,-5A5,5 0 0,1 5,0Z\" style=\"opacity: 0.4; stroke-width: 0px; fill: rgb(31, 119, 180); fill-opacity: 1;\"/><path class=\"point\" transform=\"translate(114.93,166.01)\" d=\"M5,0A5,5 0 1,1 0,-5A5,5 0 0,1 5,0Z\" style=\"opacity: 0.4; stroke-width: 0px; fill: rgb(31, 119, 180); fill-opacity: 1;\"/><path class=\"point\" transform=\"translate(50.41,166.01)\" d=\"M5,0A5,5 0 1,1 0,-5A5,5 0 0,1 5,0Z\" style=\"opacity: 0.4; stroke-width: 0px; fill: rgb(31, 119, 180); fill-opacity: 1;\"/><path class=\"point\" transform=\"translate(117.56,166.01)\" d=\"M5,0A5,5 0 1,1 0,-5A5,5 0 0,1 5,0Z\" style=\"opacity: 0.4; stroke-width: 0px; fill: rgb(31, 119, 180); fill-opacity: 1;\"/><path class=\"point\" transform=\"translate(81.48,166.01)\" d=\"M5,0A5,5 0 1,1 0,-5A5,5 0 0,1 5,0Z\" style=\"opacity: 0.4; stroke-width: 0px; fill: rgb(31, 119, 180); fill-opacity: 1;\"/><path class=\"point\" transform=\"translate(135.56,166.01)\" d=\"M5,0A5,5 0 1,1 0,-5A5,5 0 0,1 5,0Z\" style=\"opacity: 0.4; stroke-width: 0px; fill: rgb(31, 119, 180); fill-opacity: 1;\"/><path class=\"point\" transform=\"translate(161.79,166.01)\" d=\"M5,0A5,5 0 1,1 0,-5A5,5 0 0,1 5,0Z\" style=\"opacity: 0.4; stroke-width: 0px; fill: rgb(31, 119, 180); fill-opacity: 1;\"/><path class=\"point\" transform=\"translate(187.63,166.01)\" d=\"M5,0A5,5 0 1,1 0,-5A5,5 0 0,1 5,0Z\" style=\"opacity: 0.4; stroke-width: 0px; fill: rgb(31, 119, 180); fill-opacity: 1;\"/><path class=\"point\" transform=\"translate(137.05,163.99)\" d=\"M5,0A5,5 0 1,1 0,-5A5,5 0 0,1 5,0Z\" style=\"opacity: 0.4; stroke-width: 0px; fill: rgb(31, 119, 180); fill-opacity: 1;\"/><path class=\"point\" transform=\"translate(145.1,163.99)\" d=\"M5,0A5,5 0 1,1 0,-5A5,5 0 0,1 5,0Z\" style=\"opacity: 0.4; stroke-width: 0px; fill: rgb(31, 119, 180); fill-opacity: 1;\"/><path class=\"point\" transform=\"translate(77.61,163.99)\" d=\"M5,0A5,5 0 1,1 0,-5A5,5 0 0,1 5,0Z\" style=\"opacity: 0.4; stroke-width: 0px; fill: rgb(31, 119, 180); fill-opacity: 1;\"/><path class=\"point\" transform=\"translate(110.11,163.99)\" d=\"M5,0A5,5 0 1,1 0,-5A5,5 0 0,1 5,0Z\" style=\"opacity: 0.4; stroke-width: 0px; fill: rgb(31, 119, 180); fill-opacity: 1;\"/><path class=\"point\" transform=\"translate(147.52,163.99)\" d=\"M5,0A5,5 0 1,1 0,-5A5,5 0 0,1 5,0Z\" style=\"opacity: 0.4; stroke-width: 0px; fill: rgb(31, 119, 180); fill-opacity: 1;\"/><path class=\"point\" transform=\"translate(339.09,163.11)\" d=\"M5,0A5,5 0 1,1 0,-5A5,5 0 0,1 5,0Z\" style=\"opacity: 0.4; stroke-width: 0px; fill: rgb(31, 119, 180); fill-opacity: 1;\"/><path class=\"point\" transform=\"translate(119.15,163)\" d=\"M5,0A5,5 0 1,1 0,-5A5,5 0 0,1 5,0Z\" style=\"opacity: 0.4; stroke-width: 0px; fill: rgb(31, 119, 180); fill-opacity: 1;\"/><path class=\"point\" transform=\"translate(145.94,163)\" d=\"M5,0A5,5 0 1,1 0,-5A5,5 0 0,1 5,0Z\" style=\"opacity: 0.4; stroke-width: 0px; fill: rgb(31, 119, 180); fill-opacity: 1;\"/><path class=\"point\" transform=\"translate(70.18,163)\" d=\"M5,0A5,5 0 1,1 0,-5A5,5 0 0,1 5,0Z\" style=\"opacity: 0.4; stroke-width: 0px; fill: rgb(31, 119, 180); fill-opacity: 1;\"/><path class=\"point\" transform=\"translate(110.54,163)\" d=\"M5,0A5,5 0 1,1 0,-5A5,5 0 0,1 5,0Z\" style=\"opacity: 0.4; stroke-width: 0px; fill: rgb(31, 119, 180); fill-opacity: 1;\"/><path class=\"point\" transform=\"translate(73.72,163)\" d=\"M5,0A5,5 0 1,1 0,-5A5,5 0 0,1 5,0Z\" style=\"opacity: 0.4; stroke-width: 0px; fill: rgb(31, 119, 180); fill-opacity: 1;\"/><path class=\"point\" transform=\"translate(189.08,163)\" d=\"M5,0A5,5 0 1,1 0,-5A5,5 0 0,1 5,0Z\" style=\"opacity: 0.4; stroke-width: 0px; fill: rgb(31, 119, 180); fill-opacity: 1;\"/><path class=\"point\" transform=\"translate(190.63,163)\" d=\"M5,0A5,5 0 1,1 0,-5A5,5 0 0,1 5,0Z\" style=\"opacity: 0.4; stroke-width: 0px; fill: rgb(31, 119, 180); fill-opacity: 1;\"/><path class=\"point\" transform=\"translate(229.62,162.73)\" d=\"M5,0A5,5 0 1,1 0,-5A5,5 0 0,1 5,0Z\" style=\"opacity: 0.4; stroke-width: 0px; fill: rgb(31, 119, 180); fill-opacity: 1;\"/><path class=\"point\" transform=\"translate(88,161.87)\" d=\"M5,0A5,5 0 1,1 0,-5A5,5 0 0,1 5,0Z\" style=\"opacity: 0.4; stroke-width: 0px; fill: rgb(31, 119, 180); fill-opacity: 1;\"/><path class=\"point\" transform=\"translate(169.25,161.49)\" d=\"M5,0A5,5 0 1,1 0,-5A5,5 0 0,1 5,0Z\" style=\"opacity: 0.4; stroke-width: 0px; fill: rgb(31, 119, 180); fill-opacity: 1;\"/><path class=\"point\" transform=\"translate(37.16,161.49)\" d=\"M5,0A5,5 0 1,1 0,-5A5,5 0 0,1 5,0Z\" style=\"opacity: 0.4; stroke-width: 0px; fill: rgb(31, 119, 180); fill-opacity: 1;\"/><path class=\"point\" transform=\"translate(39.27,161.49)\" d=\"M5,0A5,5 0 1,1 0,-5A5,5 0 0,1 5,0Z\" style=\"opacity: 0.4; stroke-width: 0px; fill: rgb(31, 119, 180); fill-opacity: 1;\"/><path class=\"point\" transform=\"translate(79.4,161.08)\" d=\"M5,0A5,5 0 1,1 0,-5A5,5 0 0,1 5,0Z\" style=\"opacity: 0.4; stroke-width: 0px; fill: rgb(31, 119, 180); fill-opacity: 1;\"/><path class=\"point\" transform=\"translate(38.6,161.08)\" d=\"M5,0A5,5 0 1,1 0,-5A5,5 0 0,1 5,0Z\" style=\"opacity: 0.4; stroke-width: 0px; fill: rgb(31, 119, 180); fill-opacity: 1;\"/><path class=\"point\" transform=\"translate(109.51,161.08)\" d=\"M5,0A5,5 0 1,1 0,-5A5,5 0 0,1 5,0Z\" style=\"opacity: 0.4; stroke-width: 0px; fill: rgb(31, 119, 180); fill-opacity: 1;\"/><path class=\"point\" transform=\"translate(76.2,161.08)\" d=\"M5,0A5,5 0 1,1 0,-5A5,5 0 0,1 5,0Z\" style=\"opacity: 0.4; stroke-width: 0px; fill: rgb(31, 119, 180); fill-opacity: 1;\"/><path class=\"point\" transform=\"translate(77.68,161.08)\" d=\"M5,0A5,5 0 1,1 0,-5A5,5 0 0,1 5,0Z\" style=\"opacity: 0.4; stroke-width: 0px; fill: rgb(31, 119, 180); fill-opacity: 1;\"/><path class=\"point\" transform=\"translate(40.16,161.08)\" d=\"M5,0A5,5 0 1,1 0,-5A5,5 0 0,1 5,0Z\" style=\"opacity: 0.4; stroke-width: 0px; fill: rgb(31, 119, 180); fill-opacity: 1;\"/><path class=\"point\" transform=\"translate(142.14,161.08)\" d=\"M5,0A5,5 0 1,1 0,-5A5,5 0 0,1 5,0Z\" style=\"opacity: 0.4; stroke-width: 0px; fill: rgb(31, 119, 180); fill-opacity: 1;\"/><path class=\"point\" transform=\"translate(105.07,161.08)\" d=\"M5,0A5,5 0 1,1 0,-5A5,5 0 0,1 5,0Z\" style=\"opacity: 0.4; stroke-width: 0px; fill: rgb(31, 119, 180); fill-opacity: 1;\"/><path class=\"point\" transform=\"translate(139.32,161.08)\" d=\"M5,0A5,5 0 1,1 0,-5A5,5 0 0,1 5,0Z\" style=\"opacity: 0.4; stroke-width: 0px; fill: rgb(31, 119, 180); fill-opacity: 1;\"/><path class=\"point\" transform=\"translate(80.97,161.08)\" d=\"M5,0A5,5 0 1,1 0,-5A5,5 0 0,1 5,0Z\" style=\"opacity: 0.4; stroke-width: 0px; fill: rgb(31, 119, 180); fill-opacity: 1;\"/><path class=\"point\" transform=\"translate(135.67,159.72)\" d=\"M5,0A5,5 0 1,1 0,-5A5,5 0 0,1 5,0Z\" style=\"opacity: 0.4; stroke-width: 0px; fill: rgb(31, 119, 180); fill-opacity: 1;\"/><path class=\"point\" transform=\"translate(72.95,159.72)\" d=\"M5,0A5,5 0 1,1 0,-5A5,5 0 0,1 5,0Z\" style=\"opacity: 0.4; stroke-width: 0px; fill: rgb(31, 119, 180); fill-opacity: 1;\"/><path class=\"point\" transform=\"translate(137.48,159.63)\" d=\"M5,0A5,5 0 1,1 0,-5A5,5 0 0,1 5,0Z\" style=\"opacity: 0.4; stroke-width: 0px; fill: rgb(31, 119, 180); fill-opacity: 1;\"/><path class=\"point\" transform=\"translate(225.74,159.01)\" d=\"M5,0A5,5 0 1,1 0,-5A5,5 0 0,1 5,0Z\" style=\"opacity: 0.4; stroke-width: 0px; fill: rgb(31, 119, 180); fill-opacity: 1;\"/><path class=\"point\" transform=\"translate(230.11,157.64)\" d=\"M5,0A5,5 0 1,1 0,-5A5,5 0 0,1 5,0Z\" style=\"opacity: 0.4; stroke-width: 0px; fill: rgb(31, 119, 180); fill-opacity: 1;\"/><path class=\"point\" transform=\"translate(118.15,157.64)\" d=\"M5,0A5,5 0 1,1 0,-5A5,5 0 0,1 5,0Z\" style=\"opacity: 0.4; stroke-width: 0px; fill: rgb(31, 119, 180); fill-opacity: 1;\"/><path class=\"point\" transform=\"translate(107.12,157.64)\" d=\"M5,0A5,5 0 1,1 0,-5A5,5 0 0,1 5,0Z\" style=\"opacity: 0.4; stroke-width: 0px; fill: rgb(31, 119, 180); fill-opacity: 1;\"/><path class=\"point\" transform=\"translate(189.17,157.64)\" d=\"M5,0A5,5 0 1,1 0,-5A5,5 0 0,1 5,0Z\" style=\"opacity: 0.4; stroke-width: 0px; fill: rgb(31, 119, 180); fill-opacity: 1;\"/><path class=\"point\" transform=\"translate(146.16,157.02)\" d=\"M5,0A5,5 0 1,1 0,-5A5,5 0 0,1 5,0Z\" style=\"opacity: 0.4; stroke-width: 0px; fill: rgb(31, 119, 180); fill-opacity: 1;\"/><path class=\"point\" transform=\"translate(48.12,157.02)\" d=\"M5,0A5,5 0 1,1 0,-5A5,5 0 0,1 5,0Z\" style=\"opacity: 0.4; stroke-width: 0px; fill: rgb(31, 119, 180); fill-opacity: 1;\"/><path class=\"point\" transform=\"translate(80.78,156.57)\" d=\"M5,0A5,5 0 1,1 0,-5A5,5 0 0,1 5,0Z\" style=\"opacity: 0.4; stroke-width: 0px; fill: rgb(31, 119, 180); fill-opacity: 1;\"/><path class=\"point\" transform=\"translate(135.38,156.47)\" d=\"M5,0A5,5 0 1,1 0,-5A5,5 0 0,1 5,0Z\" style=\"opacity: 0.4; stroke-width: 0px; fill: rgb(31, 119, 180); fill-opacity: 1;\"/><path class=\"point\" transform=\"translate(137.44,155.93)\" d=\"M5,0A5,5 0 1,1 0,-5A5,5 0 0,1 5,0Z\" style=\"opacity: 0.4; stroke-width: 0px; fill: rgb(31, 119, 180); fill-opacity: 1;\"/><path class=\"point\" transform=\"translate(146.07,155.93)\" d=\"M5,0A5,5 0 1,1 0,-5A5,5 0 0,1 5,0Z\" style=\"opacity: 0.4; stroke-width: 0px; fill: rgb(31, 119, 180); fill-opacity: 1;\"/><path class=\"point\" transform=\"translate(293.76,155.82)\" d=\"M5,0A5,5 0 1,1 0,-5A5,5 0 0,1 5,0Z\" style=\"opacity: 0.4; stroke-width: 0px; fill: rgb(31, 119, 180); fill-opacity: 1;\"/><path class=\"point\" transform=\"translate(166.29,155.51)\" d=\"M5,0A5,5 0 1,1 0,-5A5,5 0 0,1 5,0Z\" style=\"opacity: 0.4; stroke-width: 0px; fill: rgb(31, 119, 180); fill-opacity: 1;\"/><path class=\"point\" transform=\"translate(74.35,154.96)\" d=\"M5,0A5,5 0 1,1 0,-5A5,5 0 0,1 5,0Z\" style=\"opacity: 0.4; stroke-width: 0px; fill: rgb(31, 119, 180); fill-opacity: 1;\"/><path class=\"point\" transform=\"translate(171.53,154.84)\" d=\"M5,0A5,5 0 1,1 0,-5A5,5 0 0,1 5,0Z\" style=\"opacity: 0.4; stroke-width: 0px; fill: rgb(31, 119, 180); fill-opacity: 1;\"/><path class=\"point\" transform=\"translate(250.42,153.35)\" d=\"M5,0A5,5 0 1,1 0,-5A5,5 0 0,1 5,0Z\" style=\"opacity: 0.4; stroke-width: 0px; fill: rgb(31, 119, 180); fill-opacity: 1;\"/><path class=\"point\" transform=\"translate(249.29,153.35)\" d=\"M5,0A5,5 0 1,1 0,-5A5,5 0 0,1 5,0Z\" style=\"opacity: 0.4; stroke-width: 0px; fill: rgb(31, 119, 180); fill-opacity: 1;\"/><path class=\"point\" transform=\"translate(191.41,153.35)\" d=\"M5,0A5,5 0 1,1 0,-5A5,5 0 0,1 5,0Z\" style=\"opacity: 0.4; stroke-width: 0px; fill: rgb(31, 119, 180); fill-opacity: 1;\"/><path class=\"point\" transform=\"translate(264.74,152.06)\" d=\"M5,0A5,5 0 1,1 0,-5A5,5 0 0,1 5,0Z\" style=\"opacity: 0.4; stroke-width: 0px; fill: rgb(31, 119, 180); fill-opacity: 1;\"/><path class=\"point\" transform=\"translate(114.28,150.86)\" d=\"M5,0A5,5 0 1,1 0,-5A5,5 0 0,1 5,0Z\" style=\"opacity: 0.4; stroke-width: 0px; fill: rgb(31, 119, 180); fill-opacity: 1;\"/><path class=\"point\" transform=\"translate(49.14,150.86)\" d=\"M5,0A5,5 0 1,1 0,-5A5,5 0 0,1 5,0Z\" style=\"opacity: 0.4; stroke-width: 0px; fill: rgb(31, 119, 180); fill-opacity: 1;\"/><path class=\"point\" transform=\"translate(33.46,150.4)\" d=\"M5,0A5,5 0 1,1 0,-5A5,5 0 0,1 5,0Z\" style=\"opacity: 0.4; stroke-width: 0px; fill: rgb(31, 119, 180); fill-opacity: 1;\"/><path class=\"point\" transform=\"translate(136.97,150.23)\" d=\"M5,0A5,5 0 1,1 0,-5A5,5 0 0,1 5,0Z\" style=\"opacity: 0.4; stroke-width: 0px; fill: rgb(31, 119, 180); fill-opacity: 1;\"/><path class=\"point\" transform=\"translate(211.87,150.23)\" d=\"M5,0A5,5 0 1,1 0,-5A5,5 0 0,1 5,0Z\" style=\"opacity: 0.4; stroke-width: 0px; fill: rgb(31, 119, 180); fill-opacity: 1;\"/><path class=\"point\" transform=\"translate(120.22,149.85)\" d=\"M5,0A5,5 0 1,1 0,-5A5,5 0 0,1 5,0Z\" style=\"opacity: 0.4; stroke-width: 0px; fill: rgb(31, 119, 180); fill-opacity: 1;\"/><path class=\"point\" transform=\"translate(107.71,149.85)\" d=\"M5,0A5,5 0 1,1 0,-5A5,5 0 0,1 5,0Z\" style=\"opacity: 0.4; stroke-width: 0px; fill: rgb(31, 119, 180); fill-opacity: 1;\"/><path class=\"point\" transform=\"translate(80.53,149.85)\" d=\"M5,0A5,5 0 1,1 0,-5A5,5 0 0,1 5,0Z\" style=\"opacity: 0.4; stroke-width: 0px; fill: rgb(31, 119, 180); fill-opacity: 1;\"/><path class=\"point\" transform=\"translate(42.18,149.85)\" d=\"M5,0A5,5 0 1,1 0,-5A5,5 0 0,1 5,0Z\" style=\"opacity: 0.4; stroke-width: 0px; fill: rgb(31, 119, 180); fill-opacity: 1;\"/><path class=\"point\" transform=\"translate(70.49,149.85)\" d=\"M5,0A5,5 0 1,1 0,-5A5,5 0 0,1 5,0Z\" style=\"opacity: 0.4; stroke-width: 0px; fill: rgb(31, 119, 180); fill-opacity: 1;\"/><path class=\"point\" transform=\"translate(82.03,149.85)\" d=\"M5,0A5,5 0 1,1 0,-5A5,5 0 0,1 5,0Z\" style=\"opacity: 0.4; stroke-width: 0px; fill: rgb(31, 119, 180); fill-opacity: 1;\"/><path class=\"point\" transform=\"translate(115.36,149.85)\" d=\"M5,0A5,5 0 1,1 0,-5A5,5 0 0,1 5,0Z\" style=\"opacity: 0.4; stroke-width: 0px; fill: rgb(31, 119, 180); fill-opacity: 1;\"/><path class=\"point\" transform=\"translate(45.73,149.85)\" d=\"M5,0A5,5 0 1,1 0,-5A5,5 0 0,1 5,0Z\" style=\"opacity: 0.4; stroke-width: 0px; fill: rgb(31, 119, 180); fill-opacity: 1;\"/><path class=\"point\" transform=\"translate(34.2,149.85)\" d=\"M5,0A5,5 0 1,1 0,-5A5,5 0 0,1 5,0Z\" style=\"opacity: 0.4; stroke-width: 0px; fill: rgb(31, 119, 180); fill-opacity: 1;\"/><path class=\"point\" transform=\"translate(167.42,149.85)\" d=\"M5,0A5,5 0 1,1 0,-5A5,5 0 0,1 5,0Z\" style=\"opacity: 0.4; stroke-width: 0px; fill: rgb(31, 119, 180); fill-opacity: 1;\"/><path class=\"point\" transform=\"translate(71.88,149.85)\" d=\"M5,0A5,5 0 1,1 0,-5A5,5 0 0,1 5,0Z\" style=\"opacity: 0.4; stroke-width: 0px; fill: rgb(31, 119, 180); fill-opacity: 1;\"/><path class=\"point\" transform=\"translate(70.77,149.15)\" d=\"M5,0A5,5 0 1,1 0,-5A5,5 0 0,1 5,0Z\" style=\"opacity: 0.4; stroke-width: 0px; fill: rgb(31, 119, 180); fill-opacity: 1;\"/><path class=\"point\" transform=\"translate(114.18,149.15)\" d=\"M5,0A5,5 0 1,1 0,-5A5,5 0 0,1 5,0Z\" style=\"opacity: 0.4; stroke-width: 0px; fill: rgb(31, 119, 180); fill-opacity: 1;\"/><path class=\"point\" transform=\"translate(33.49,148.59)\" d=\"M5,0A5,5 0 1,1 0,-5A5,5 0 0,1 5,0Z\" style=\"opacity: 0.4; stroke-width: 0px; fill: rgb(31, 119, 180); fill-opacity: 1;\"/><path class=\"point\" transform=\"translate(84.18,148.59)\" d=\"M5,0A5,5 0 1,1 0,-5A5,5 0 0,1 5,0Z\" style=\"opacity: 0.4; stroke-width: 0px; fill: rgb(31, 119, 180); fill-opacity: 1;\"/><path class=\"point\" transform=\"translate(80.76,146.96)\" d=\"M5,0A5,5 0 1,1 0,-5A5,5 0 0,1 5,0Z\" style=\"opacity: 0.4; stroke-width: 0px; fill: rgb(31, 119, 180); fill-opacity: 1;\"/><path class=\"point\" transform=\"translate(85.06,146.96)\" d=\"M5,0A5,5 0 1,1 0,-5A5,5 0 0,1 5,0Z\" style=\"opacity: 0.4; stroke-width: 0px; fill: rgb(31, 119, 180); fill-opacity: 1;\"/><path class=\"point\" transform=\"translate(37.36,146.96)\" d=\"M5,0A5,5 0 1,1 0,-5A5,5 0 0,1 5,0Z\" style=\"opacity: 0.4; stroke-width: 0px; fill: rgb(31, 119, 180); fill-opacity: 1;\"/><path class=\"point\" transform=\"translate(87.36,146.53)\" d=\"M5,0A5,5 0 1,1 0,-5A5,5 0 0,1 5,0Z\" style=\"opacity: 0.4; stroke-width: 0px; fill: rgb(31, 119, 180); fill-opacity: 1;\"/><path class=\"point\" transform=\"translate(35.08,146.53)\" d=\"M5,0A5,5 0 1,1 0,-5A5,5 0 0,1 5,0Z\" style=\"opacity: 0.4; stroke-width: 0px; fill: rgb(31, 119, 180); fill-opacity: 1;\"/><path class=\"point\" transform=\"translate(191.16,146.08)\" d=\"M5,0A5,5 0 1,1 0,-5A5,5 0 0,1 5,0Z\" style=\"opacity: 0.4; stroke-width: 0px; fill: rgb(31, 119, 180); fill-opacity: 1;\"/><path class=\"point\" transform=\"translate(144.81,146.08)\" d=\"M5,0A5,5 0 1,1 0,-5A5,5 0 0,1 5,0Z\" style=\"opacity: 0.4; stroke-width: 0px; fill: rgb(31, 119, 180); fill-opacity: 1;\"/><path class=\"point\" transform=\"translate(112.06,146.08)\" d=\"M5,0A5,5 0 1,1 0,-5A5,5 0 0,1 5,0Z\" style=\"opacity: 0.4; stroke-width: 0px; fill: rgb(31, 119, 180); fill-opacity: 1;\"/><path class=\"point\" transform=\"translate(42.39,145.96)\" d=\"M5,0A5,5 0 1,1 0,-5A5,5 0 0,1 5,0Z\" style=\"opacity: 0.4; stroke-width: 0px; fill: rgb(31, 119, 180); fill-opacity: 1;\"/><path class=\"point\" transform=\"translate(32.62,145.96)\" d=\"M5,0A5,5 0 1,1 0,-5A5,5 0 0,1 5,0Z\" style=\"opacity: 0.4; stroke-width: 0px; fill: rgb(31, 119, 180); fill-opacity: 1;\"/><path class=\"point\" transform=\"translate(147.63,145.68)\" d=\"M5,0A5,5 0 1,1 0,-5A5,5 0 0,1 5,0Z\" style=\"opacity: 0.4; stroke-width: 0px; fill: rgb(31, 119, 180); fill-opacity: 1;\"/><path class=\"point\" transform=\"translate(231.25,145.3)\" d=\"M5,0A5,5 0 1,1 0,-5A5,5 0 0,1 5,0Z\" style=\"opacity: 0.4; stroke-width: 0px; fill: rgb(31, 119, 180); fill-opacity: 1;\"/><path class=\"point\" transform=\"translate(247.06,145.3)\" d=\"M5,0A5,5 0 1,1 0,-5A5,5 0 0,1 5,0Z\" style=\"opacity: 0.4; stroke-width: 0px; fill: rgb(31, 119, 180); fill-opacity: 1;\"/><path class=\"point\" transform=\"translate(134.89,144.83)\" d=\"M5,0A5,5 0 1,1 0,-5A5,5 0 0,1 5,0Z\" style=\"opacity: 0.4; stroke-width: 0px; fill: rgb(31, 119, 180); fill-opacity: 1;\"/><path class=\"point\" transform=\"translate(141.74,144.69)\" d=\"M5,0A5,5 0 1,1 0,-5A5,5 0 0,1 5,0Z\" style=\"opacity: 0.4; stroke-width: 0px; fill: rgb(31, 119, 180); fill-opacity: 1;\"/><path class=\"point\" transform=\"translate(111.24,144.69)\" d=\"M5,0A5,5 0 1,1 0,-5A5,5 0 0,1 5,0Z\" style=\"opacity: 0.4; stroke-width: 0px; fill: rgb(31, 119, 180); fill-opacity: 1;\"/><path class=\"point\" transform=\"translate(29.83,144.55)\" d=\"M5,0A5,5 0 1,1 0,-5A5,5 0 0,1 5,0Z\" style=\"opacity: 0.4; stroke-width: 0px; fill: rgb(31, 119, 180); fill-opacity: 1;\"/><path class=\"point\" transform=\"translate(184.86,144.16)\" d=\"M5,0A5,5 0 1,1 0,-5A5,5 0 0,1 5,0Z\" style=\"opacity: 0.4; stroke-width: 0px; fill: rgb(31, 119, 180); fill-opacity: 1;\"/><path class=\"point\" transform=\"translate(108.18,144.16)\" d=\"M5,0A5,5 0 1,1 0,-5A5,5 0 0,1 5,0Z\" style=\"opacity: 0.4; stroke-width: 0px; fill: rgb(31, 119, 180); fill-opacity: 1;\"/><path class=\"point\" transform=\"translate(117.45,144.16)\" d=\"M5,0A5,5 0 1,1 0,-5A5,5 0 0,1 5,0Z\" style=\"opacity: 0.4; stroke-width: 0px; fill: rgb(31, 119, 180); fill-opacity: 1;\"/><path class=\"point\" transform=\"translate(78.44,144.16)\" d=\"M5,0A5,5 0 1,1 0,-5A5,5 0 0,1 5,0Z\" style=\"opacity: 0.4; stroke-width: 0px; fill: rgb(31, 119, 180); fill-opacity: 1;\"/><path class=\"point\" transform=\"translate(50.13,144.16)\" d=\"M5,0A5,5 0 1,1 0,-5A5,5 0 0,1 5,0Z\" style=\"opacity: 0.4; stroke-width: 0px; fill: rgb(31, 119, 180); fill-opacity: 1;\"/><path class=\"point\" transform=\"translate(81.77,144.16)\" d=\"M5,0A5,5 0 1,1 0,-5A5,5 0 0,1 5,0Z\" style=\"opacity: 0.4; stroke-width: 0px; fill: rgb(31, 119, 180); fill-opacity: 1;\"/><path class=\"point\" transform=\"translate(113.71,144.16)\" d=\"M5,0A5,5 0 1,1 0,-5A5,5 0 0,1 5,0Z\" style=\"opacity: 0.4; stroke-width: 0px; fill: rgb(31, 119, 180); fill-opacity: 1;\"/><path class=\"point\" transform=\"translate(170.56,141.69)\" d=\"M5,0A5,5 0 1,1 0,-5A5,5 0 0,1 5,0Z\" style=\"opacity: 0.4; stroke-width: 0px; fill: rgb(31, 119, 180); fill-opacity: 1;\"/><path class=\"point\" transform=\"translate(115.14,141.35)\" d=\"M5,0A5,5 0 1,1 0,-5A5,5 0 0,1 5,0Z\" style=\"opacity: 0.4; stroke-width: 0px; fill: rgb(31, 119, 180); fill-opacity: 1;\"/><path class=\"point\" transform=\"translate(116.02,141.35)\" d=\"M5,0A5,5 0 1,1 0,-5A5,5 0 0,1 5,0Z\" style=\"opacity: 0.4; stroke-width: 0px; fill: rgb(31, 119, 180); fill-opacity: 1;\"/><path class=\"point\" transform=\"translate(35.72,141.35)\" d=\"M5,0A5,5 0 1,1 0,-5A5,5 0 0,1 5,0Z\" style=\"opacity: 0.4; stroke-width: 0px; fill: rgb(31, 119, 180); fill-opacity: 1;\"/><path class=\"point\" transform=\"translate(107.95,141.35)\" d=\"M5,0A5,5 0 1,1 0,-5A5,5 0 0,1 5,0Z\" style=\"opacity: 0.4; stroke-width: 0px; fill: rgb(31, 119, 180); fill-opacity: 1;\"/><path class=\"point\" transform=\"translate(117.54,141.35)\" d=\"M5,0A5,5 0 1,1 0,-5A5,5 0 0,1 5,0Z\" style=\"opacity: 0.4; stroke-width: 0px; fill: rgb(31, 119, 180); fill-opacity: 1;\"/><path class=\"point\" transform=\"translate(41.38,141.35)\" d=\"M5,0A5,5 0 1,1 0,-5A5,5 0 0,1 5,0Z\" style=\"opacity: 0.4; stroke-width: 0px; fill: rgb(31, 119, 180); fill-opacity: 1;\"/><path class=\"point\" transform=\"translate(44.38,141.35)\" d=\"M5,0A5,5 0 1,1 0,-5A5,5 0 0,1 5,0Z\" style=\"opacity: 0.4; stroke-width: 0px; fill: rgb(31, 119, 180); fill-opacity: 1;\"/><path class=\"point\" transform=\"translate(33.64,141.35)\" d=\"M5,0A5,5 0 1,1 0,-5A5,5 0 0,1 5,0Z\" style=\"opacity: 0.4; stroke-width: 0px; fill: rgb(31, 119, 180); fill-opacity: 1;\"/><path class=\"point\" transform=\"translate(108.27,141.35)\" d=\"M5,0A5,5 0 1,1 0,-5A5,5 0 0,1 5,0Z\" style=\"opacity: 0.4; stroke-width: 0px; fill: rgb(31, 119, 180); fill-opacity: 1;\"/><path class=\"point\" transform=\"translate(113.79,141.35)\" d=\"M5,0A5,5 0 1,1 0,-5A5,5 0 0,1 5,0Z\" style=\"opacity: 0.4; stroke-width: 0px; fill: rgb(31, 119, 180); fill-opacity: 1;\"/><path class=\"point\" transform=\"translate(30.01,141.35)\" d=\"M5,0A5,5 0 1,1 0,-5A5,5 0 0,1 5,0Z\" style=\"opacity: 0.4; stroke-width: 0px; fill: rgb(31, 119, 180); fill-opacity: 1;\"/><path class=\"point\" transform=\"translate(70.92,141.27)\" d=\"M5,0A5,5 0 1,1 0,-5A5,5 0 0,1 5,0Z\" style=\"opacity: 0.4; stroke-width: 0px; fill: rgb(31, 119, 180); fill-opacity: 1;\"/><path class=\"point\" transform=\"translate(137.54,140.98)\" d=\"M5,0A5,5 0 1,1 0,-5A5,5 0 0,1 5,0Z\" style=\"opacity: 0.4; stroke-width: 0px; fill: rgb(31, 119, 180); fill-opacity: 1;\"/><path class=\"point\" transform=\"translate(115.69,140.98)\" d=\"M5,0A5,5 0 1,1 0,-5A5,5 0 0,1 5,0Z\" style=\"opacity: 0.4; stroke-width: 0px; fill: rgb(31, 119, 180); fill-opacity: 1;\"/><path class=\"point\" transform=\"translate(188.71,140.86)\" d=\"M5,0A5,5 0 1,1 0,-5A5,5 0 0,1 5,0Z\" style=\"opacity: 0.4; stroke-width: 0px; fill: rgb(31, 119, 180); fill-opacity: 1;\"/><path class=\"point\" transform=\"translate(171.77,140.86)\" d=\"M5,0A5,5 0 1,1 0,-5A5,5 0 0,1 5,0Z\" style=\"opacity: 0.4; stroke-width: 0px; fill: rgb(31, 119, 180); fill-opacity: 1;\"/><path class=\"point\" transform=\"translate(85.68,140.75)\" d=\"M5,0A5,5 0 1,1 0,-5A5,5 0 0,1 5,0Z\" style=\"opacity: 0.4; stroke-width: 0px; fill: rgb(31, 119, 180); fill-opacity: 1;\"/><path class=\"point\" transform=\"translate(114.79,140.75)\" d=\"M5,0A5,5 0 1,1 0,-5A5,5 0 0,1 5,0Z\" style=\"opacity: 0.4; stroke-width: 0px; fill: rgb(31, 119, 180); fill-opacity: 1;\"/><path class=\"point\" transform=\"translate(142.05,139.92)\" d=\"M5,0A5,5 0 1,1 0,-5A5,5 0 0,1 5,0Z\" style=\"opacity: 0.4; stroke-width: 0px; fill: rgb(31, 119, 180); fill-opacity: 1;\"/><path class=\"point\" transform=\"translate(47.3,139.92)\" d=\"M5,0A5,5 0 1,1 0,-5A5,5 0 0,1 5,0Z\" style=\"opacity: 0.4; stroke-width: 0px; fill: rgb(31, 119, 180); fill-opacity: 1;\"/><path class=\"point\" transform=\"translate(118.09,139.92)\" d=\"M5,0A5,5 0 1,1 0,-5A5,5 0 0,1 5,0Z\" style=\"opacity: 0.4; stroke-width: 0px; fill: rgb(31, 119, 180); fill-opacity: 1;\"/><path class=\"point\" transform=\"translate(142.89,139.92)\" d=\"M5,0A5,5 0 1,1 0,-5A5,5 0 0,1 5,0Z\" style=\"opacity: 0.4; stroke-width: 0px; fill: rgb(31, 119, 180); fill-opacity: 1;\"/><path class=\"point\" transform=\"translate(167.32,139.92)\" d=\"M5,0A5,5 0 1,1 0,-5A5,5 0 0,1 5,0Z\" style=\"opacity: 0.4; stroke-width: 0px; fill: rgb(31, 119, 180); fill-opacity: 1;\"/><path class=\"point\" transform=\"translate(141,138.28)\" d=\"M5,0A5,5 0 1,1 0,-5A5,5 0 0,1 5,0Z\" style=\"opacity: 0.4; stroke-width: 0px; fill: rgb(31, 119, 180); fill-opacity: 1;\"/><path class=\"point\" transform=\"translate(73.02,138.28)\" d=\"M5,0A5,5 0 1,1 0,-5A5,5 0 0,1 5,0Z\" style=\"opacity: 0.4; stroke-width: 0px; fill: rgb(31, 119, 180); fill-opacity: 1;\"/><path class=\"point\" transform=\"translate(76.58,138.28)\" d=\"M5,0A5,5 0 1,1 0,-5A5,5 0 0,1 5,0Z\" style=\"opacity: 0.4; stroke-width: 0px; fill: rgb(31, 119, 180); fill-opacity: 1;\"/><path class=\"point\" transform=\"translate(34.22,138.28)\" d=\"M5,0A5,5 0 1,1 0,-5A5,5 0 0,1 5,0Z\" style=\"opacity: 0.4; stroke-width: 0px; fill: rgb(31, 119, 180); fill-opacity: 1;\"/><path class=\"point\" transform=\"translate(247.82,137.51)\" d=\"M5,0A5,5 0 1,1 0,-5A5,5 0 0,1 5,0Z\" style=\"opacity: 0.4; stroke-width: 0px; fill: rgb(31, 119, 180); fill-opacity: 1;\"/><path class=\"point\" transform=\"translate(232.14,137.06)\" d=\"M5,0A5,5 0 1,1 0,-5A5,5 0 0,1 5,0Z\" style=\"opacity: 0.4; stroke-width: 0px; fill: rgb(31, 119, 180); fill-opacity: 1;\"/><path class=\"point\" transform=\"translate(206.2,137.06)\" d=\"M5,0A5,5 0 1,1 0,-5A5,5 0 0,1 5,0Z\" style=\"opacity: 0.4; stroke-width: 0px; fill: rgb(31, 119, 180); fill-opacity: 1;\"/><path class=\"point\" transform=\"translate(262.09,137.06)\" d=\"M5,0A5,5 0 1,1 0,-5A5,5 0 0,1 5,0Z\" style=\"opacity: 0.4; stroke-width: 0px; fill: rgb(31, 119, 180); fill-opacity: 1;\"/><path class=\"point\" transform=\"translate(105.81,137.06)\" d=\"M5,0A5,5 0 1,1 0,-5A5,5 0 0,1 5,0Z\" style=\"opacity: 0.4; stroke-width: 0px; fill: rgb(31, 119, 180); fill-opacity: 1;\"/><path class=\"point\" transform=\"translate(50.43,136.72)\" d=\"M5,0A5,5 0 1,1 0,-5A5,5 0 0,1 5,0Z\" style=\"opacity: 0.4; stroke-width: 0px; fill: rgb(31, 119, 180); fill-opacity: 1;\"/><path class=\"point\" transform=\"translate(117.46,136.72)\" d=\"M5,0A5,5 0 1,1 0,-5A5,5 0 0,1 5,0Z\" style=\"opacity: 0.4; stroke-width: 0px; fill: rgb(31, 119, 180); fill-opacity: 1;\"/><path class=\"point\" transform=\"translate(119.98,136.72)\" d=\"M5,0A5,5 0 1,1 0,-5A5,5 0 0,1 5,0Z\" style=\"opacity: 0.4; stroke-width: 0px; fill: rgb(31, 119, 180); fill-opacity: 1;\"/><path class=\"point\" transform=\"translate(86.04,136.72)\" d=\"M5,0A5,5 0 1,1 0,-5A5,5 0 0,1 5,0Z\" style=\"opacity: 0.4; stroke-width: 0px; fill: rgb(31, 119, 180); fill-opacity: 1;\"/><path class=\"point\" transform=\"translate(137.2,136.26)\" d=\"M5,0A5,5 0 1,1 0,-5A5,5 0 0,1 5,0Z\" style=\"opacity: 0.4; stroke-width: 0px; fill: rgb(31, 119, 180); fill-opacity: 1;\"/><path class=\"point\" transform=\"translate(107.18,136.24)\" d=\"M5,0A5,5 0 1,1 0,-5A5,5 0 0,1 5,0Z\" style=\"opacity: 0.4; stroke-width: 0px; fill: rgb(31, 119, 180); fill-opacity: 1;\"/><path class=\"point\" transform=\"translate(207.55,136.22)\" d=\"M5,0A5,5 0 1,1 0,-5A5,5 0 0,1 5,0Z\" style=\"opacity: 0.4; stroke-width: 0px; fill: rgb(31, 119, 180); fill-opacity: 1;\"/><path class=\"point\" transform=\"translate(148.1,135.88)\" d=\"M5,0A5,5 0 1,1 0,-5A5,5 0 0,1 5,0Z\" style=\"opacity: 0.4; stroke-width: 0px; fill: rgb(31, 119, 180); fill-opacity: 1;\"/><path class=\"point\" transform=\"translate(147.94,133.89)\" d=\"M5,0A5,5 0 1,1 0,-5A5,5 0 0,1 5,0Z\" style=\"opacity: 0.4; stroke-width: 0px; fill: rgb(31, 119, 180); fill-opacity: 1;\"/><path class=\"point\" transform=\"translate(108.48,133.02)\" d=\"M5,0A5,5 0 1,1 0,-5A5,5 0 0,1 5,0Z\" style=\"opacity: 0.4; stroke-width: 0px; fill: rgb(31, 119, 180); fill-opacity: 1;\"/><path class=\"point\" transform=\"translate(109.45,133.02)\" d=\"M5,0A5,5 0 1,1 0,-5A5,5 0 0,1 5,0Z\" style=\"opacity: 0.4; stroke-width: 0px; fill: rgb(31, 119, 180); fill-opacity: 1;\"/><path class=\"point\" transform=\"translate(141.97,132.02)\" d=\"M5,0A5,5 0 1,1 0,-5A5,5 0 0,1 5,0Z\" style=\"opacity: 0.4; stroke-width: 0px; fill: rgb(31, 119, 180); fill-opacity: 1;\"/><path class=\"point\" transform=\"translate(117.44,131.27)\" d=\"M5,0A5,5 0 1,1 0,-5A5,5 0 0,1 5,0Z\" style=\"opacity: 0.4; stroke-width: 0px; fill: rgb(31, 119, 180); fill-opacity: 1;\"/><path class=\"point\" transform=\"translate(193.8,130.03)\" d=\"M5,0A5,5 0 1,1 0,-5A5,5 0 0,1 5,0Z\" style=\"opacity: 0.4; stroke-width: 0px; fill: rgb(31, 119, 180); fill-opacity: 1;\"/><path class=\"point\" transform=\"translate(119.76,130.03)\" d=\"M5,0A5,5 0 1,1 0,-5A5,5 0 0,1 5,0Z\" style=\"opacity: 0.4; stroke-width: 0px; fill: rgb(31, 119, 180); fill-opacity: 1;\"/><path class=\"point\" transform=\"translate(145.58,130.03)\" d=\"M5,0A5,5 0 1,1 0,-5A5,5 0 0,1 5,0Z\" style=\"opacity: 0.4; stroke-width: 0px; fill: rgb(31, 119, 180); fill-opacity: 1;\"/><path class=\"point\" transform=\"translate(263.61,128.71)\" d=\"M5,0A5,5 0 1,1 0,-5A5,5 0 0,1 5,0Z\" style=\"opacity: 0.4; stroke-width: 0px; fill: rgb(31, 119, 180); fill-opacity: 1;\"/><path class=\"point\" transform=\"translate(137.08,128.23)\" d=\"M5,0A5,5 0 1,1 0,-5A5,5 0 0,1 5,0Z\" style=\"opacity: 0.4; stroke-width: 0px; fill: rgb(31, 119, 180); fill-opacity: 1;\"/><path class=\"point\" transform=\"translate(210.88,127.4)\" d=\"M5,0A5,5 0 1,1 0,-5A5,5 0 0,1 5,0Z\" style=\"opacity: 0.4; stroke-width: 0px; fill: rgb(31, 119, 180); fill-opacity: 1;\"/><path class=\"point\" transform=\"translate(118.74,127.4)\" d=\"M5,0A5,5 0 1,1 0,-5A5,5 0 0,1 5,0Z\" style=\"opacity: 0.4; stroke-width: 0px; fill: rgb(31, 119, 180); fill-opacity: 1;\"/><path class=\"point\" transform=\"translate(195.34,127.08)\" d=\"M5,0A5,5 0 1,1 0,-5A5,5 0 0,1 5,0Z\" style=\"opacity: 0.4; stroke-width: 0px; fill: rgb(31, 119, 180); fill-opacity: 1;\"/><path class=\"point\" transform=\"translate(34.45,126.83)\" d=\"M5,0A5,5 0 1,1 0,-5A5,5 0 0,1 5,0Z\" style=\"opacity: 0.4; stroke-width: 0px; fill: rgb(31, 119, 180); fill-opacity: 1;\"/><path class=\"point\" transform=\"translate(164.33,126.83)\" d=\"M5,0A5,5 0 1,1 0,-5A5,5 0 0,1 5,0Z\" style=\"opacity: 0.4; stroke-width: 0px; fill: rgb(31, 119, 180); fill-opacity: 1;\"/><path class=\"point\" transform=\"translate(30.25,123.69)\" d=\"M5,0A5,5 0 1,1 0,-5A5,5 0 0,1 5,0Z\" style=\"opacity: 0.4; stroke-width: 0px; fill: rgb(31, 119, 180); fill-opacity: 1;\"/><path class=\"point\" transform=\"translate(82.25,123.69)\" d=\"M5,0A5,5 0 1,1 0,-5A5,5 0 0,1 5,0Z\" style=\"opacity: 0.4; stroke-width: 0px; fill: rgb(31, 119, 180); fill-opacity: 1;\"/><path class=\"point\" transform=\"translate(31.43,122.99)\" d=\"M5,0A5,5 0 1,1 0,-5A5,5 0 0,1 5,0Z\" style=\"opacity: 0.4; stroke-width: 0px; fill: rgb(31, 119, 180); fill-opacity: 1;\"/><path class=\"point\" transform=\"translate(137.99,121.66)\" d=\"M5,0A5,5 0 1,1 0,-5A5,5 0 0,1 5,0Z\" style=\"opacity: 0.4; stroke-width: 0px; fill: rgb(31, 119, 180); fill-opacity: 1;\"/><path class=\"point\" transform=\"translate(161.85,121.66)\" d=\"M5,0A5,5 0 1,1 0,-5A5,5 0 0,1 5,0Z\" style=\"opacity: 0.4; stroke-width: 0px; fill: rgb(31, 119, 180); fill-opacity: 1;\"/><path class=\"point\" transform=\"translate(37.43,121.17)\" d=\"M5,0A5,5 0 1,1 0,-5A5,5 0 0,1 5,0Z\" style=\"opacity: 0.4; stroke-width: 0px; fill: rgb(31, 119, 180); fill-opacity: 1;\"/><path class=\"point\" transform=\"translate(189.69,121.17)\" d=\"M5,0A5,5 0 1,1 0,-5A5,5 0 0,1 5,0Z\" style=\"opacity: 0.4; stroke-width: 0px; fill: rgb(31, 119, 180); fill-opacity: 1;\"/><path class=\"point\" transform=\"translate(190.35,120.56)\" d=\"M5,0A5,5 0 1,1 0,-5A5,5 0 0,1 5,0Z\" style=\"opacity: 0.4; stroke-width: 0px; fill: rgb(31, 119, 180); fill-opacity: 1;\"/><path class=\"point\" transform=\"translate(86.45,120.56)\" d=\"M5,0A5,5 0 1,1 0,-5A5,5 0 0,1 5,0Z\" style=\"opacity: 0.4; stroke-width: 0px; fill: rgb(31, 119, 180); fill-opacity: 1;\"/><path class=\"point\" transform=\"translate(135.7,120.56)\" d=\"M5,0A5,5 0 1,1 0,-5A5,5 0 0,1 5,0Z\" style=\"opacity: 0.4; stroke-width: 0px; fill: rgb(31, 119, 180); fill-opacity: 1;\"/><path class=\"point\" transform=\"translate(148.03,120.56)\" d=\"M5,0A5,5 0 1,1 0,-5A5,5 0 0,1 5,0Z\" style=\"opacity: 0.4; stroke-width: 0px; fill: rgb(31, 119, 180); fill-opacity: 1;\"/><path class=\"point\" transform=\"translate(293.07,118.59)\" d=\"M5,0A5,5 0 1,1 0,-5A5,5 0 0,1 5,0Z\" style=\"opacity: 0.4; stroke-width: 0px; fill: rgb(31, 119, 180); fill-opacity: 1;\"/><path class=\"point\" transform=\"translate(169.17,116.65)\" d=\"M5,0A5,5 0 1,1 0,-5A5,5 0 0,1 5,0Z\" style=\"opacity: 0.4; stroke-width: 0px; fill: rgb(31, 119, 180); fill-opacity: 1;\"/><path class=\"point\" transform=\"translate(75.69,116.58)\" d=\"M5,0A5,5 0 1,1 0,-5A5,5 0 0,1 5,0Z\" style=\"opacity: 0.4; stroke-width: 0px; fill: rgb(31, 119, 180); fill-opacity: 1;\"/><path class=\"point\" transform=\"translate(85.25,116.55)\" d=\"M5,0A5,5 0 1,1 0,-5A5,5 0 0,1 5,0Z\" style=\"opacity: 0.4; stroke-width: 0px; fill: rgb(31, 119, 180); fill-opacity: 1;\"/><path class=\"point\" transform=\"translate(106.91,116.55)\" d=\"M5,0A5,5 0 1,1 0,-5A5,5 0 0,1 5,0Z\" style=\"opacity: 0.4; stroke-width: 0px; fill: rgb(31, 119, 180); fill-opacity: 1;\"/><path class=\"point\" transform=\"translate(303.77,114.99)\" d=\"M5,0A5,5 0 1,1 0,-5A5,5 0 0,1 5,0Z\" style=\"opacity: 0.4; stroke-width: 0px; fill: rgb(31, 119, 180); fill-opacity: 1;\"/><path class=\"point\" transform=\"translate(165.97,114.44)\" d=\"M5,0A5,5 0 1,1 0,-5A5,5 0 0,1 5,0Z\" style=\"opacity: 0.4; stroke-width: 0px; fill: rgb(31, 119, 180); fill-opacity: 1;\"/><path class=\"point\" transform=\"translate(48.3,114.44)\" d=\"M5,0A5,5 0 1,1 0,-5A5,5 0 0,1 5,0Z\" style=\"opacity: 0.4; stroke-width: 0px; fill: rgb(31, 119, 180); fill-opacity: 1;\"/><path class=\"point\" transform=\"translate(113.19,112.13)\" d=\"M5,0A5,5 0 1,1 0,-5A5,5 0 0,1 5,0Z\" style=\"opacity: 0.4; stroke-width: 0px; fill: rgb(31, 119, 180); fill-opacity: 1;\"/><path class=\"point\" transform=\"translate(117.23,109.65)\" d=\"M5,0A5,5 0 1,1 0,-5A5,5 0 0,1 5,0Z\" style=\"opacity: 0.4; stroke-width: 0px; fill: rgb(31, 119, 180); fill-opacity: 1;\"/><path class=\"point\" transform=\"translate(41.82,109.65)\" d=\"M5,0A5,5 0 1,1 0,-5A5,5 0 0,1 5,0Z\" style=\"opacity: 0.4; stroke-width: 0px; fill: rgb(31, 119, 180); fill-opacity: 1;\"/><path class=\"point\" transform=\"translate(34.49,109.65)\" d=\"M5,0A5,5 0 1,1 0,-5A5,5 0 0,1 5,0Z\" style=\"opacity: 0.4; stroke-width: 0px; fill: rgb(31, 119, 180); fill-opacity: 1;\"/><path class=\"point\" transform=\"translate(43.33,109.65)\" d=\"M5,0A5,5 0 1,1 0,-5A5,5 0 0,1 5,0Z\" style=\"opacity: 0.4; stroke-width: 0px; fill: rgb(31, 119, 180); fill-opacity: 1;\"/><path class=\"point\" transform=\"translate(79.58,109.32)\" d=\"M5,0A5,5 0 1,1 0,-5A5,5 0 0,1 5,0Z\" style=\"opacity: 0.4; stroke-width: 0px; fill: rgb(31, 119, 180); fill-opacity: 1;\"/><path class=\"point\" transform=\"translate(73.54,109.32)\" d=\"M5,0A5,5 0 1,1 0,-5A5,5 0 0,1 5,0Z\" style=\"opacity: 0.4; stroke-width: 0px; fill: rgb(31, 119, 180); fill-opacity: 1;\"/><path class=\"point\" transform=\"translate(108.35,109.32)\" d=\"M5,0A5,5 0 1,1 0,-5A5,5 0 0,1 5,0Z\" style=\"opacity: 0.4; stroke-width: 0px; fill: rgb(31, 119, 180); fill-opacity: 1;\"/><path class=\"point\" transform=\"translate(78.49,109.32)\" d=\"M5,0A5,5 0 1,1 0,-5A5,5 0 0,1 5,0Z\" style=\"opacity: 0.4; stroke-width: 0px; fill: rgb(31, 119, 180); fill-opacity: 1;\"/><path class=\"point\" transform=\"translate(178.9,107.5)\" d=\"M5,0A5,5 0 1,1 0,-5A5,5 0 0,1 5,0Z\" style=\"opacity: 0.4; stroke-width: 0px; fill: rgb(31, 119, 180); fill-opacity: 1;\"/><path class=\"point\" transform=\"translate(339.5,106.92)\" d=\"M5,0A5,5 0 1,1 0,-5A5,5 0 0,1 5,0Z\" style=\"opacity: 0.4; stroke-width: 0px; fill: rgb(31, 119, 180); fill-opacity: 1;\"/><path class=\"point\" transform=\"translate(135.76,105.84)\" d=\"M5,0A5,5 0 1,1 0,-5A5,5 0 0,1 5,0Z\" style=\"opacity: 0.4; stroke-width: 0px; fill: rgb(31, 119, 180); fill-opacity: 1;\"/><path class=\"point\" transform=\"translate(40.01,105.5)\" d=\"M5,0A5,5 0 1,1 0,-5A5,5 0 0,1 5,0Z\" style=\"opacity: 0.4; stroke-width: 0px; fill: rgb(31, 119, 180); fill-opacity: 1;\"/><path class=\"point\" transform=\"translate(39.55,105.5)\" d=\"M5,0A5,5 0 1,1 0,-5A5,5 0 0,1 5,0Z\" style=\"opacity: 0.4; stroke-width: 0px; fill: rgb(31, 119, 180); fill-opacity: 1;\"/><path class=\"point\" transform=\"translate(108.39,104.37)\" d=\"M5,0A5,5 0 1,1 0,-5A5,5 0 0,1 5,0Z\" style=\"opacity: 0.4; stroke-width: 0px; fill: rgb(31, 119, 180); fill-opacity: 1;\"/><path class=\"point\" transform=\"translate(169.02,104.37)\" d=\"M5,0A5,5 0 1,1 0,-5A5,5 0 0,1 5,0Z\" style=\"opacity: 0.4; stroke-width: 0px; fill: rgb(31, 119, 180); fill-opacity: 1;\"/><path class=\"point\" transform=\"translate(138.48,104.37)\" d=\"M5,0A5,5 0 1,1 0,-5A5,5 0 0,1 5,0Z\" style=\"opacity: 0.4; stroke-width: 0px; fill: rgb(31, 119, 180); fill-opacity: 1;\"/><path class=\"point\" transform=\"translate(142.34,104.37)\" d=\"M5,0A5,5 0 1,1 0,-5A5,5 0 0,1 5,0Z\" style=\"opacity: 0.4; stroke-width: 0px; fill: rgb(31, 119, 180); fill-opacity: 1;\"/><path class=\"point\" transform=\"translate(167.08,104.37)\" d=\"M5,0A5,5 0 1,1 0,-5A5,5 0 0,1 5,0Z\" style=\"opacity: 0.4; stroke-width: 0px; fill: rgb(31, 119, 180); fill-opacity: 1;\"/><path class=\"point\" transform=\"translate(185.03,104.37)\" d=\"M5,0A5,5 0 1,1 0,-5A5,5 0 0,1 5,0Z\" style=\"opacity: 0.4; stroke-width: 0px; fill: rgb(31, 119, 180); fill-opacity: 1;\"/><path class=\"point\" transform=\"translate(79.24,104.37)\" d=\"M5,0A5,5 0 1,1 0,-5A5,5 0 0,1 5,0Z\" style=\"opacity: 0.4; stroke-width: 0px; fill: rgb(31, 119, 180); fill-opacity: 1;\"/><path class=\"point\" transform=\"translate(45.25,104.37)\" d=\"M5,0A5,5 0 1,1 0,-5A5,5 0 0,1 5,0Z\" style=\"opacity: 0.4; stroke-width: 0px; fill: rgb(31, 119, 180); fill-opacity: 1;\"/><path class=\"point\" transform=\"translate(84.69,104.37)\" d=\"M5,0A5,5 0 1,1 0,-5A5,5 0 0,1 5,0Z\" style=\"opacity: 0.4; stroke-width: 0px; fill: rgb(31, 119, 180); fill-opacity: 1;\"/><path class=\"point\" transform=\"translate(29.8,104.37)\" d=\"M5,0A5,5 0 1,1 0,-5A5,5 0 0,1 5,0Z\" style=\"opacity: 0.4; stroke-width: 0px; fill: rgb(31, 119, 180); fill-opacity: 1;\"/><path class=\"point\" transform=\"translate(115.09,104.37)\" d=\"M5,0A5,5 0 1,1 0,-5A5,5 0 0,1 5,0Z\" style=\"opacity: 0.4; stroke-width: 0px; fill: rgb(31, 119, 180); fill-opacity: 1;\"/><path class=\"point\" transform=\"translate(38.15,104.37)\" d=\"M5,0A5,5 0 1,1 0,-5A5,5 0 0,1 5,0Z\" style=\"opacity: 0.4; stroke-width: 0px; fill: rgb(31, 119, 180); fill-opacity: 1;\"/><path class=\"point\" transform=\"translate(78.44,100.44)\" d=\"M5,0A5,5 0 1,1 0,-5A5,5 0 0,1 5,0Z\" style=\"opacity: 0.4; stroke-width: 0px; fill: rgb(31, 119, 180); fill-opacity: 1;\"/><path class=\"point\" transform=\"translate(36.3,100.44)\" d=\"M5,0A5,5 0 1,1 0,-5A5,5 0 0,1 5,0Z\" style=\"opacity: 0.4; stroke-width: 0px; fill: rgb(31, 119, 180); fill-opacity: 1;\"/><path class=\"point\" transform=\"translate(165.71,97.76)\" d=\"M5,0A5,5 0 1,1 0,-5A5,5 0 0,1 5,0Z\" style=\"opacity: 0.4; stroke-width: 0px; fill: rgb(31, 119, 180); fill-opacity: 1;\"/><path class=\"point\" transform=\"translate(83.62,91.13)\" d=\"M5,0A5,5 0 1,1 0,-5A5,5 0 0,1 5,0Z\" style=\"opacity: 0.4; stroke-width: 0px; fill: rgb(31, 119, 180); fill-opacity: 1;\"/><path class=\"point\" transform=\"translate(85.08,91.13)\" d=\"M5,0A5,5 0 1,1 0,-5A5,5 0 0,1 5,0Z\" style=\"opacity: 0.4; stroke-width: 0px; fill: rgb(31, 119, 180); fill-opacity: 1;\"/><path class=\"point\" transform=\"translate(84.49,91)\" d=\"M5,0A5,5 0 1,1 0,-5A5,5 0 0,1 5,0Z\" style=\"opacity: 0.4; stroke-width: 0px; fill: rgb(31, 119, 180); fill-opacity: 1;\"/><path class=\"point\" transform=\"translate(86.72,91)\" d=\"M5,0A5,5 0 1,1 0,-5A5,5 0 0,1 5,0Z\" style=\"opacity: 0.4; stroke-width: 0px; fill: rgb(31, 119, 180); fill-opacity: 1;\"/><path class=\"point\" transform=\"translate(172.49,91)\" d=\"M5,0A5,5 0 1,1 0,-5A5,5 0 0,1 5,0Z\" style=\"opacity: 0.4; stroke-width: 0px; fill: rgb(31, 119, 180); fill-opacity: 1;\"/><path class=\"point\" transform=\"translate(161.61,88.28)\" d=\"M5,0A5,5 0 1,1 0,-5A5,5 0 0,1 5,0Z\" style=\"opacity: 0.4; stroke-width: 0px; fill: rgb(31, 119, 180); fill-opacity: 1;\"/><path class=\"point\" transform=\"translate(82.06,85.37)\" d=\"M5,0A5,5 0 1,1 0,-5A5,5 0 0,1 5,0Z\" style=\"opacity: 0.4; stroke-width: 0px; fill: rgb(31, 119, 180); fill-opacity: 1;\"/><path class=\"point\" transform=\"translate(139.86,85.37)\" d=\"M5,0A5,5 0 1,1 0,-5A5,5 0 0,1 5,0Z\" style=\"opacity: 0.4; stroke-width: 0px; fill: rgb(31, 119, 180); fill-opacity: 1;\"/><path class=\"point\" transform=\"translate(109.7,84.84)\" d=\"M5,0A5,5 0 1,1 0,-5A5,5 0 0,1 5,0Z\" style=\"opacity: 0.4; stroke-width: 0px; fill: rgb(31, 119, 180); fill-opacity: 1;\"/><path class=\"point\" transform=\"translate(86.47,84.84)\" d=\"M5,0A5,5 0 1,1 0,-5A5,5 0 0,1 5,0Z\" style=\"opacity: 0.4; stroke-width: 0px; fill: rgb(31, 119, 180); fill-opacity: 1;\"/><path class=\"point\" transform=\"translate(39.72,84.84)\" d=\"M5,0A5,5 0 1,1 0,-5A5,5 0 0,1 5,0Z\" style=\"opacity: 0.4; stroke-width: 0px; fill: rgb(31, 119, 180); fill-opacity: 1;\"/><path class=\"point\" transform=\"translate(143.19,83.51)\" d=\"M5,0A5,5 0 1,1 0,-5A5,5 0 0,1 5,0Z\" style=\"opacity: 0.4; stroke-width: 0px; fill: rgb(31, 119, 180); fill-opacity: 1;\"/><path class=\"point\" transform=\"translate(188.9,83.51)\" d=\"M5,0A5,5 0 1,1 0,-5A5,5 0 0,1 5,0Z\" style=\"opacity: 0.4; stroke-width: 0px; fill: rgb(31, 119, 180); fill-opacity: 1;\"/><path class=\"point\" transform=\"translate(369.96,80.53)\" d=\"M5,0A5,5 0 1,1 0,-5A5,5 0 0,1 5,0Z\" style=\"opacity: 0.4; stroke-width: 0px; fill: rgb(31, 119, 180); fill-opacity: 1;\"/><path class=\"point\" transform=\"translate(210.43,79.57)\" d=\"M5,0A5,5 0 1,1 0,-5A5,5 0 0,1 5,0Z\" style=\"opacity: 0.4; stroke-width: 0px; fill: rgb(31, 119, 180); fill-opacity: 1;\"/><path class=\"point\" transform=\"translate(162.61,79.08)\" d=\"M5,0A5,5 0 1,1 0,-5A5,5 0 0,1 5,0Z\" style=\"opacity: 0.4; stroke-width: 0px; fill: rgb(31, 119, 180); fill-opacity: 1;\"/><path class=\"point\" transform=\"translate(194.66,79.08)\" d=\"M5,0A5,5 0 1,1 0,-5A5,5 0 0,1 5,0Z\" style=\"opacity: 0.4; stroke-width: 0px; fill: rgb(31, 119, 180); fill-opacity: 1;\"/><path class=\"point\" transform=\"translate(114.57,79.08)\" d=\"M5,0A5,5 0 1,1 0,-5A5,5 0 0,1 5,0Z\" style=\"opacity: 0.4; stroke-width: 0px; fill: rgb(31, 119, 180); fill-opacity: 1;\"/><path class=\"point\" transform=\"translate(72.08,76.41)\" d=\"M5,0A5,5 0 1,1 0,-5A5,5 0 0,1 5,0Z\" style=\"opacity: 0.4; stroke-width: 0px; fill: rgb(31, 119, 180); fill-opacity: 1;\"/><path class=\"point\" transform=\"translate(79.26,75.76)\" d=\"M5,0A5,5 0 1,1 0,-5A5,5 0 0,1 5,0Z\" style=\"opacity: 0.4; stroke-width: 0px; fill: rgb(31, 119, 180); fill-opacity: 1;\"/><path class=\"point\" transform=\"translate(75.64,75.61)\" d=\"M5,0A5,5 0 1,1 0,-5A5,5 0 0,1 5,0Z\" style=\"opacity: 0.4; stroke-width: 0px; fill: rgb(31, 119, 180); fill-opacity: 1;\"/><path class=\"point\" transform=\"translate(33.05,74.63)\" d=\"M5,0A5,5 0 1,1 0,-5A5,5 0 0,1 5,0Z\" style=\"opacity: 0.4; stroke-width: 0px; fill: rgb(31, 119, 180); fill-opacity: 1;\"/><path class=\"point\" transform=\"translate(35.2,74.63)\" d=\"M5,0A5,5 0 1,1 0,-5A5,5 0 0,1 5,0Z\" style=\"opacity: 0.4; stroke-width: 0px; fill: rgb(31, 119, 180); fill-opacity: 1;\"/><path class=\"point\" transform=\"translate(31.59,74.63)\" d=\"M5,0A5,5 0 1,1 0,-5A5,5 0 0,1 5,0Z\" style=\"opacity: 0.4; stroke-width: 0px; fill: rgb(31, 119, 180); fill-opacity: 1;\"/><path class=\"point\" transform=\"translate(142.61,73.25)\" d=\"M5,0A5,5 0 1,1 0,-5A5,5 0 0,1 5,0Z\" style=\"opacity: 0.4; stroke-width: 0px; fill: rgb(31, 119, 180); fill-opacity: 1;\"/><path class=\"point\" transform=\"translate(63.57,72.26)\" d=\"M5,0A5,5 0 1,1 0,-5A5,5 0 0,1 5,0Z\" style=\"opacity: 0.4; stroke-width: 0px; fill: rgb(31, 119, 180); fill-opacity: 1;\"/><path class=\"point\" transform=\"translate(231.46,71.96)\" d=\"M5,0A5,5 0 1,1 0,-5A5,5 0 0,1 5,0Z\" style=\"opacity: 0.4; stroke-width: 0px; fill: rgb(31, 119, 180); fill-opacity: 1;\"/><path class=\"point\" transform=\"translate(109.19,65.27)\" d=\"M5,0A5,5 0 1,1 0,-5A5,5 0 0,1 5,0Z\" style=\"opacity: 0.4; stroke-width: 0px; fill: rgb(31, 119, 180); fill-opacity: 1;\"/><path class=\"point\" transform=\"translate(73.36,65.27)\" d=\"M5,0A5,5 0 1,1 0,-5A5,5 0 0,1 5,0Z\" style=\"opacity: 0.4; stroke-width: 0px; fill: rgb(31, 119, 180); fill-opacity: 1;\"/><path class=\"point\" transform=\"translate(186.5,62.27)\" d=\"M5,0A5,5 0 1,1 0,-5A5,5 0 0,1 5,0Z\" style=\"opacity: 0.4; stroke-width: 0px; fill: rgb(31, 119, 180); fill-opacity: 1;\"/><path class=\"point\" transform=\"translate(143.76,62.15)\" d=\"M5,0A5,5 0 1,1 0,-5A5,5 0 0,1 5,0Z\" style=\"opacity: 0.4; stroke-width: 0px; fill: rgb(31, 119, 180); fill-opacity: 1;\"/><path class=\"point\" transform=\"translate(195.63,62.15)\" d=\"M5,0A5,5 0 1,1 0,-5A5,5 0 0,1 5,0Z\" style=\"opacity: 0.4; stroke-width: 0px; fill: rgb(31, 119, 180); fill-opacity: 1;\"/><path class=\"point\" transform=\"translate(112.7,59.32)\" d=\"M5,0A5,5 0 1,1 0,-5A5,5 0 0,1 5,0Z\" style=\"opacity: 0.4; stroke-width: 0px; fill: rgb(31, 119, 180); fill-opacity: 1;\"/><path class=\"point\" transform=\"translate(48.4,57.31)\" d=\"M5,0A5,5 0 1,1 0,-5A5,5 0 0,1 5,0Z\" style=\"opacity: 0.4; stroke-width: 0px; fill: rgb(31, 119, 180); fill-opacity: 1;\"/><path class=\"point\" transform=\"translate(86.83,57.29)\" d=\"M5,0A5,5 0 1,1 0,-5A5,5 0 0,1 5,0Z\" style=\"opacity: 0.4; stroke-width: 0px; fill: rgb(31, 119, 180); fill-opacity: 1;\"/><path class=\"point\" transform=\"translate(48.28,57.29)\" d=\"M5,0A5,5 0 1,1 0,-5A5,5 0 0,1 5,0Z\" style=\"opacity: 0.4; stroke-width: 0px; fill: rgb(31, 119, 180); fill-opacity: 1;\"/><path class=\"point\" transform=\"translate(76.28,57.29)\" d=\"M5,0A5,5 0 1,1 0,-5A5,5 0 0,1 5,0Z\" style=\"opacity: 0.4; stroke-width: 0px; fill: rgb(31, 119, 180); fill-opacity: 1;\"/><path class=\"point\" transform=\"translate(87.78,45.01)\" d=\"M5,0A5,5 0 1,1 0,-5A5,5 0 0,1 5,0Z\" style=\"opacity: 0.4; stroke-width: 0px; fill: rgb(31, 119, 180); fill-opacity: 1;\"/><path class=\"point\" transform=\"translate(41.44,26.91)\" d=\"M5,0A5,5 0 1,1 0,-5A5,5 0 0,1 5,0Z\" style=\"opacity: 0.4; stroke-width: 0px; fill: rgb(31, 119, 180); fill-opacity: 1;\"/></g><g class=\"text\"/></g><g class=\"trace scatter trace2e1ce7\" style=\"stroke-miterlimit: 2; opacity: 1;\"><g class=\"fills\"/><g class=\"errorbars\"/><g class=\"lines\"/><g class=\"points\"><path class=\"point\" transform=\"translate(233.2,200.8)\" d=\"M6.5,0L0,6.5L-6.5,0L0,-6.5Z\" style=\"opacity: 0.4; stroke-width: 0px; fill: rgb(255, 127, 14); fill-opacity: 1;\"/><path class=\"point\" transform=\"translate(248.6,198.12)\" d=\"M6.5,0L0,6.5L-6.5,0L0,-6.5Z\" style=\"opacity: 0.4; stroke-width: 0px; fill: rgb(255, 127, 14); fill-opacity: 1;\"/><path class=\"point\" transform=\"translate(244.5,195.59)\" d=\"M6.5,0L0,6.5L-6.5,0L0,-6.5Z\" style=\"opacity: 0.4; stroke-width: 0px; fill: rgb(255, 127, 14); fill-opacity: 1;\"/><path class=\"point\" transform=\"translate(359.37,194.53)\" d=\"M6.5,0L0,6.5L-6.5,0L0,-6.5Z\" style=\"opacity: 0.4; stroke-width: 0px; fill: rgb(255, 127, 14); fill-opacity: 1;\"/><path class=\"point\" transform=\"translate(109.21,191.32)\" d=\"M6.5,0L0,6.5L-6.5,0L0,-6.5Z\" style=\"opacity: 0.4; stroke-width: 0px; fill: rgb(255, 127, 14); fill-opacity: 1;\"/><path class=\"point\" transform=\"translate(162.51,191.32)\" d=\"M6.5,0L0,6.5L-6.5,0L0,-6.5Z\" style=\"opacity: 0.4; stroke-width: 0px; fill: rgb(255, 127, 14); fill-opacity: 1;\"/><path class=\"point\" transform=\"translate(227.47,189.1)\" d=\"M6.5,0L0,6.5L-6.5,0L0,-6.5Z\" style=\"opacity: 0.4; stroke-width: 0px; fill: rgb(255, 127, 14); fill-opacity: 1;\"/><path class=\"point\" transform=\"translate(142.73,189.1)\" d=\"M6.5,0L0,6.5L-6.5,0L0,-6.5Z\" style=\"opacity: 0.4; stroke-width: 0px; fill: rgb(255, 127, 14); fill-opacity: 1;\"/><path class=\"point\" transform=\"translate(148.37,183.47)\" d=\"M6.5,0L0,6.5L-6.5,0L0,-6.5Z\" style=\"opacity: 0.4; stroke-width: 0px; fill: rgb(255, 127, 14); fill-opacity: 1;\"/><path class=\"point\" transform=\"translate(137.73,183.47)\" d=\"M6.5,0L0,6.5L-6.5,0L0,-6.5Z\" style=\"opacity: 0.4; stroke-width: 0px; fill: rgb(255, 127, 14); fill-opacity: 1;\"/><path class=\"point\" transform=\"translate(112.85,183.47)\" d=\"M6.5,0L0,6.5L-6.5,0L0,-6.5Z\" style=\"opacity: 0.4; stroke-width: 0px; fill: rgb(255, 127, 14); fill-opacity: 1;\"/><path class=\"point\" transform=\"translate(188.41,183.47)\" d=\"M6.5,0L0,6.5L-6.5,0L0,-6.5Z\" style=\"opacity: 0.4; stroke-width: 0px; fill: rgb(255, 127, 14); fill-opacity: 1;\"/><path class=\"point\" transform=\"translate(37.5,182.05)\" d=\"M6.5,0L0,6.5L-6.5,0L0,-6.5Z\" style=\"opacity: 0.4; stroke-width: 0px; fill: rgb(255, 127, 14); fill-opacity: 1;\"/><path class=\"point\" transform=\"translate(116.32,182.05)\" d=\"M6.5,0L0,6.5L-6.5,0L0,-6.5Z\" style=\"opacity: 0.4; stroke-width: 0px; fill: rgb(255, 127, 14); fill-opacity: 1;\"/><path class=\"point\" transform=\"translate(266.66,178.52)\" d=\"M6.5,0L0,6.5L-6.5,0L0,-6.5Z\" style=\"opacity: 0.4; stroke-width: 0px; fill: rgb(255, 127, 14); fill-opacity: 1;\"/><path class=\"point\" transform=\"translate(187.98,178.52)\" d=\"M6.5,0L0,6.5L-6.5,0L0,-6.5Z\" style=\"opacity: 0.4; stroke-width: 0px; fill: rgb(255, 127, 14); fill-opacity: 1;\"/><path class=\"point\" transform=\"translate(351.43,177.49)\" d=\"M6.5,0L0,6.5L-6.5,0L0,-6.5Z\" style=\"opacity: 0.4; stroke-width: 0px; fill: rgb(255, 127, 14); fill-opacity: 1;\"/><path class=\"point\" transform=\"translate(114.95,176.12)\" d=\"M6.5,0L0,6.5L-6.5,0L0,-6.5Z\" style=\"opacity: 0.4; stroke-width: 0px; fill: rgb(255, 127, 14); fill-opacity: 1;\"/><path class=\"point\" transform=\"translate(112.03,176.12)\" d=\"M6.5,0L0,6.5L-6.5,0L0,-6.5Z\" style=\"opacity: 0.4; stroke-width: 0px; fill: rgb(255, 127, 14); fill-opacity: 1;\"/><path class=\"point\" transform=\"translate(33.84,174.99)\" d=\"M6.5,0L0,6.5L-6.5,0L0,-6.5Z\" style=\"opacity: 0.4; stroke-width: 0px; fill: rgb(255, 127, 14); fill-opacity: 1;\"/><path class=\"point\" transform=\"translate(107.7,174.16)\" d=\"M6.5,0L0,6.5L-6.5,0L0,-6.5Z\" style=\"opacity: 0.4; stroke-width: 0px; fill: rgb(255, 127, 14); fill-opacity: 1;\"/><path class=\"point\" transform=\"translate(48.65,174.16)\" d=\"M6.5,0L0,6.5L-6.5,0L0,-6.5Z\" style=\"opacity: 0.4; stroke-width: 0px; fill: rgb(255, 127, 14); fill-opacity: 1;\"/><path class=\"point\" transform=\"translate(84.36,174.16)\" d=\"M6.5,0L0,6.5L-6.5,0L0,-6.5Z\" style=\"opacity: 0.4; stroke-width: 0px; fill: rgb(255, 127, 14); fill-opacity: 1;\"/><path class=\"point\" transform=\"translate(215.63,174.16)\" d=\"M6.5,0L0,6.5L-6.5,0L0,-6.5Z\" style=\"opacity: 0.4; stroke-width: 0px; fill: rgb(255, 127, 14); fill-opacity: 1;\"/><path class=\"point\" transform=\"translate(208.05,174.16)\" d=\"M6.5,0L0,6.5L-6.5,0L0,-6.5Z\" style=\"opacity: 0.4; stroke-width: 0px; fill: rgb(255, 127, 14); fill-opacity: 1;\"/><path class=\"point\" transform=\"translate(187.88,174.16)\" d=\"M6.5,0L0,6.5L-6.5,0L0,-6.5Z\" style=\"opacity: 0.4; stroke-width: 0px; fill: rgb(255, 127, 14); fill-opacity: 1;\"/><path class=\"point\" transform=\"translate(210.81,174.16)\" d=\"M6.5,0L0,6.5L-6.5,0L0,-6.5Z\" style=\"opacity: 0.4; stroke-width: 0px; fill: rgb(255, 127, 14); fill-opacity: 1;\"/><path class=\"point\" transform=\"translate(274.61,173.92)\" d=\"M6.5,0L0,6.5L-6.5,0L0,-6.5Z\" style=\"opacity: 0.4; stroke-width: 0px; fill: rgb(255, 127, 14); fill-opacity: 1;\"/><path class=\"point\" transform=\"translate(80.54,173.13)\" d=\"M6.5,0L0,6.5L-6.5,0L0,-6.5Z\" style=\"opacity: 0.4; stroke-width: 0px; fill: rgb(255, 127, 14); fill-opacity: 1;\"/><path class=\"point\" transform=\"translate(231.75,171.89)\" d=\"M6.5,0L0,6.5L-6.5,0L0,-6.5Z\" style=\"opacity: 0.4; stroke-width: 0px; fill: rgb(255, 127, 14); fill-opacity: 1;\"/><path class=\"point\" transform=\"translate(292.77,170.53)\" d=\"M6.5,0L0,6.5L-6.5,0L0,-6.5Z\" style=\"opacity: 0.4; stroke-width: 0px; fill: rgb(255, 127, 14); fill-opacity: 1;\"/><path class=\"point\" transform=\"translate(162.53,164.68)\" d=\"M6.5,0L0,6.5L-6.5,0L0,-6.5Z\" style=\"opacity: 0.4; stroke-width: 0px; fill: rgb(255, 127, 14); fill-opacity: 1;\"/><path class=\"point\" transform=\"translate(116.47,164.2)\" d=\"M6.5,0L0,6.5L-6.5,0L0,-6.5Z\" style=\"opacity: 0.4; stroke-width: 0px; fill: rgb(255, 127, 14); fill-opacity: 1;\"/><path class=\"point\" transform=\"translate(87.8,163.99)\" d=\"M6.5,0L0,6.5L-6.5,0L0,-6.5Z\" style=\"opacity: 0.4; stroke-width: 0px; fill: rgb(255, 127, 14); fill-opacity: 1;\"/><path class=\"point\" transform=\"translate(266.5,163)\" d=\"M6.5,0L0,6.5L-6.5,0L0,-6.5Z\" style=\"opacity: 0.4; stroke-width: 0px; fill: rgb(255, 127, 14); fill-opacity: 1;\"/><path class=\"point\" transform=\"translate(209.57,161.43)\" d=\"M6.5,0L0,6.5L-6.5,0L0,-6.5Z\" style=\"opacity: 0.4; stroke-width: 0px; fill: rgb(255, 127, 14); fill-opacity: 1;\"/><path class=\"point\" transform=\"translate(262.8,160.81)\" d=\"M6.5,0L0,6.5L-6.5,0L0,-6.5Z\" style=\"opacity: 0.4; stroke-width: 0px; fill: rgb(255, 127, 14); fill-opacity: 1;\"/><path class=\"point\" transform=\"translate(193.23,158.89)\" d=\"M6.5,0L0,6.5L-6.5,0L0,-6.5Z\" style=\"opacity: 0.4; stroke-width: 0px; fill: rgb(255, 127, 14); fill-opacity: 1;\"/><path class=\"point\" transform=\"translate(107.87,157.02)\" d=\"M6.5,0L0,6.5L-6.5,0L0,-6.5Z\" style=\"opacity: 0.4; stroke-width: 0px; fill: rgb(255, 127, 14); fill-opacity: 1;\"/><path class=\"point\" transform=\"translate(113.49,156.53)\" d=\"M6.5,0L0,6.5L-6.5,0L0,-6.5Z\" style=\"opacity: 0.4; stroke-width: 0px; fill: rgb(255, 127, 14); fill-opacity: 1;\"/><path class=\"point\" transform=\"translate(243.01,156.53)\" d=\"M6.5,0L0,6.5L-6.5,0L0,-6.5Z\" style=\"opacity: 0.4; stroke-width: 0px; fill: rgb(255, 127, 14); fill-opacity: 1;\"/><path class=\"point\" transform=\"translate(348.66,156.23)\" d=\"M6.5,0L0,6.5L-6.5,0L0,-6.5Z\" style=\"opacity: 0.4; stroke-width: 0px; fill: rgb(255, 127, 14); fill-opacity: 1;\"/><path class=\"point\" transform=\"translate(142.97,156.23)\" d=\"M6.5,0L0,6.5L-6.5,0L0,-6.5Z\" style=\"opacity: 0.4; stroke-width: 0px; fill: rgb(255, 127, 14); fill-opacity: 1;\"/><path class=\"point\" transform=\"translate(262.46,155.51)\" d=\"M6.5,0L0,6.5L-6.5,0L0,-6.5Z\" style=\"opacity: 0.4; stroke-width: 0px; fill: rgb(255, 127, 14); fill-opacity: 1;\"/><path class=\"point\" transform=\"translate(132.83,153.49)\" d=\"M6.5,0L0,6.5L-6.5,0L0,-6.5Z\" style=\"opacity: 0.4; stroke-width: 0px; fill: rgb(255, 127, 14); fill-opacity: 1;\"/><path class=\"point\" transform=\"translate(174.96,153.49)\" d=\"M6.5,0L0,6.5L-6.5,0L0,-6.5Z\" style=\"opacity: 0.4; stroke-width: 0px; fill: rgb(255, 127, 14); fill-opacity: 1;\"/><path class=\"point\" transform=\"translate(248.01,153.35)\" d=\"M6.5,0L0,6.5L-6.5,0L0,-6.5Z\" style=\"opacity: 0.4; stroke-width: 0px; fill: rgb(255, 127, 14); fill-opacity: 1;\"/><path class=\"point\" transform=\"translate(191.91,152.9)\" d=\"M6.5,0L0,6.5L-6.5,0L0,-6.5Z\" style=\"opacity: 0.4; stroke-width: 0px; fill: rgb(255, 127, 14); fill-opacity: 1;\"/><path class=\"point\" transform=\"translate(168.17,152.9)\" d=\"M6.5,0L0,6.5L-6.5,0L0,-6.5Z\" style=\"opacity: 0.4; stroke-width: 0px; fill: rgb(255, 127, 14); fill-opacity: 1;\"/><path class=\"point\" transform=\"translate(278.53,152.06)\" d=\"M6.5,0L0,6.5L-6.5,0L0,-6.5Z\" style=\"opacity: 0.4; stroke-width: 0px; fill: rgb(255, 127, 14); fill-opacity: 1;\"/><path class=\"point\" transform=\"translate(105.56,151.63)\" d=\"M6.5,0L0,6.5L-6.5,0L0,-6.5Z\" style=\"opacity: 0.4; stroke-width: 0px; fill: rgb(255, 127, 14); fill-opacity: 1;\"/><path class=\"point\" transform=\"translate(289.69,151.43)\" d=\"M6.5,0L0,6.5L-6.5,0L0,-6.5Z\" style=\"opacity: 0.4; stroke-width: 0px; fill: rgb(255, 127, 14); fill-opacity: 1;\"/><path class=\"point\" transform=\"translate(280.1,151.43)\" d=\"M6.5,0L0,6.5L-6.5,0L0,-6.5Z\" style=\"opacity: 0.4; stroke-width: 0px; fill: rgb(255, 127, 14); fill-opacity: 1;\"/><path class=\"point\" transform=\"translate(281.43,151.05)\" d=\"M6.5,0L0,6.5L-6.5,0L0,-6.5Z\" style=\"opacity: 0.4; stroke-width: 0px; fill: rgb(255, 127, 14); fill-opacity: 1;\"/><path class=\"point\" transform=\"translate(165.27,150.86)\" d=\"M6.5,0L0,6.5L-6.5,0L0,-6.5Z\" style=\"opacity: 0.4; stroke-width: 0px; fill: rgb(255, 127, 14); fill-opacity: 1;\"/><path class=\"point\" transform=\"translate(145.67,150.86)\" d=\"M6.5,0L0,6.5L-6.5,0L0,-6.5Z\" style=\"opacity: 0.4; stroke-width: 0px; fill: rgb(255, 127, 14); fill-opacity: 1;\"/><path class=\"point\" transform=\"translate(368.44,150.71)\" d=\"M6.5,0L0,6.5L-6.5,0L0,-6.5Z\" style=\"opacity: 0.4; stroke-width: 0px; fill: rgb(255, 127, 14); fill-opacity: 1;\"/><path class=\"point\" transform=\"translate(168.12,150.23)\" d=\"M6.5,0L0,6.5L-6.5,0L0,-6.5Z\" style=\"opacity: 0.4; stroke-width: 0px; fill: rgb(255, 127, 14); fill-opacity: 1;\"/><path class=\"point\" transform=\"translate(245.61,150.23)\" d=\"M6.5,0L0,6.5L-6.5,0L0,-6.5Z\" style=\"opacity: 0.4; stroke-width: 0px; fill: rgb(255, 127, 14); fill-opacity: 1;\"/><path class=\"point\" transform=\"translate(30.42,149.85)\" d=\"M6.5,0L0,6.5L-6.5,0L0,-6.5Z\" style=\"opacity: 0.4; stroke-width: 0px; fill: rgb(255, 127, 14); fill-opacity: 1;\"/><path class=\"point\" transform=\"translate(186.45,149.85)\" d=\"M6.5,0L0,6.5L-6.5,0L0,-6.5Z\" style=\"opacity: 0.4; stroke-width: 0px; fill: rgb(255, 127, 14); fill-opacity: 1;\"/><path class=\"point\" transform=\"translate(244.24,148.92)\" d=\"M6.5,0L0,6.5L-6.5,0L0,-6.5Z\" style=\"opacity: 0.4; stroke-width: 0px; fill: rgb(255, 127, 14); fill-opacity: 1;\"/><path class=\"point\" transform=\"translate(317.49,146.08)\" d=\"M6.5,0L0,6.5L-6.5,0L0,-6.5Z\" style=\"opacity: 0.4; stroke-width: 0px; fill: rgb(255, 127, 14); fill-opacity: 1;\"/><path class=\"point\" transform=\"translate(275.98,145.53)\" d=\"M6.5,0L0,6.5L-6.5,0L0,-6.5Z\" style=\"opacity: 0.4; stroke-width: 0px; fill: rgb(255, 127, 14); fill-opacity: 1;\"/><path class=\"point\" transform=\"translate(192.67,144.55)\" d=\"M6.5,0L0,6.5L-6.5,0L0,-6.5Z\" style=\"opacity: 0.4; stroke-width: 0px; fill: rgb(255, 127, 14); fill-opacity: 1;\"/><path class=\"point\" transform=\"translate(108.41,144.55)\" d=\"M6.5,0L0,6.5L-6.5,0L0,-6.5Z\" style=\"opacity: 0.4; stroke-width: 0px; fill: rgb(255, 127, 14); fill-opacity: 1;\"/><path class=\"point\" transform=\"translate(243.31,143.92)\" d=\"M6.5,0L0,6.5L-6.5,0L0,-6.5Z\" style=\"opacity: 0.4; stroke-width: 0px; fill: rgb(255, 127, 14); fill-opacity: 1;\"/><path class=\"point\" transform=\"translate(304.52,143.92)\" d=\"M6.5,0L0,6.5L-6.5,0L0,-6.5Z\" style=\"opacity: 0.4; stroke-width: 0px; fill: rgb(255, 127, 14); fill-opacity: 1;\"/><path class=\"point\" transform=\"translate(226.08,143.89)\" d=\"M6.5,0L0,6.5L-6.5,0L0,-6.5Z\" style=\"opacity: 0.4; stroke-width: 0px; fill: rgb(255, 127, 14); fill-opacity: 1;\"/><path class=\"point\" transform=\"translate(247.49,142.18)\" d=\"M6.5,0L0,6.5L-6.5,0L0,-6.5Z\" style=\"opacity: 0.4; stroke-width: 0px; fill: rgb(255, 127, 14); fill-opacity: 1;\"/><path class=\"point\" transform=\"translate(214.23,142.09)\" d=\"M6.5,0L0,6.5L-6.5,0L0,-6.5Z\" style=\"opacity: 0.4; stroke-width: 0px; fill: rgb(255, 127, 14); fill-opacity: 1;\"/><path class=\"point\" transform=\"translate(207.82,141.03)\" d=\"M6.5,0L0,6.5L-6.5,0L0,-6.5Z\" style=\"opacity: 0.4; stroke-width: 0px; fill: rgb(255, 127, 14); fill-opacity: 1;\"/><path class=\"point\" transform=\"translate(422.16,140.31)\" d=\"M6.5,0L0,6.5L-6.5,0L0,-6.5Z\" style=\"opacity: 0.4; stroke-width: 0px; fill: rgb(255, 127, 14); fill-opacity: 1;\"/><path class=\"point\" transform=\"translate(247.3,139.02)\" d=\"M6.5,0L0,6.5L-6.5,0L0,-6.5Z\" style=\"opacity: 0.4; stroke-width: 0px; fill: rgb(255, 127, 14); fill-opacity: 1;\"/><path class=\"point\" transform=\"translate(277.61,139.02)\" d=\"M6.5,0L0,6.5L-6.5,0L0,-6.5Z\" style=\"opacity: 0.4; stroke-width: 0px; fill: rgb(255, 127, 14); fill-opacity: 1;\"/><path class=\"point\" transform=\"translate(244.74,138.91)\" d=\"M6.5,0L0,6.5L-6.5,0L0,-6.5Z\" style=\"opacity: 0.4; stroke-width: 0px; fill: rgb(255, 127, 14); fill-opacity: 1;\"/><path class=\"point\" transform=\"translate(280.79,138.91)\" d=\"M6.5,0L0,6.5L-6.5,0L0,-6.5Z\" style=\"opacity: 0.4; stroke-width: 0px; fill: rgb(255, 127, 14); fill-opacity: 1;\"/><path class=\"point\" transform=\"translate(192.62,138.91)\" d=\"M6.5,0L0,6.5L-6.5,0L0,-6.5Z\" style=\"opacity: 0.4; stroke-width: 0px; fill: rgb(255, 127, 14); fill-opacity: 1;\"/><path class=\"point\" transform=\"translate(230.94,138.91)\" d=\"M6.5,0L0,6.5L-6.5,0L0,-6.5Z\" style=\"opacity: 0.4; stroke-width: 0px; fill: rgb(255, 127, 14); fill-opacity: 1;\"/><path class=\"point\" transform=\"translate(306.7,138.91)\" d=\"M6.5,0L0,6.5L-6.5,0L0,-6.5Z\" style=\"opacity: 0.4; stroke-width: 0px; fill: rgb(255, 127, 14); fill-opacity: 1;\"/><path class=\"point\" transform=\"translate(110.57,136.46)\" d=\"M6.5,0L0,6.5L-6.5,0L0,-6.5Z\" style=\"opacity: 0.4; stroke-width: 0px; fill: rgb(255, 127, 14); fill-opacity: 1;\"/><path class=\"point\" transform=\"translate(142.01,135.89)\" d=\"M6.5,0L0,6.5L-6.5,0L0,-6.5Z\" style=\"opacity: 0.4; stroke-width: 0px; fill: rgb(255, 127, 14); fill-opacity: 1;\"/><path class=\"point\" transform=\"translate(230.2,135.88)\" d=\"M6.5,0L0,6.5L-6.5,0L0,-6.5Z\" style=\"opacity: 0.4; stroke-width: 0px; fill: rgb(255, 127, 14); fill-opacity: 1;\"/><path class=\"point\" transform=\"translate(281.31,135.85)\" d=\"M6.5,0L0,6.5L-6.5,0L0,-6.5Z\" style=\"opacity: 0.4; stroke-width: 0px; fill: rgb(255, 127, 14); fill-opacity: 1;\"/><path class=\"point\" transform=\"translate(84.42,135.85)\" d=\"M6.5,0L0,6.5L-6.5,0L0,-6.5Z\" style=\"opacity: 0.4; stroke-width: 0px; fill: rgb(255, 127, 14); fill-opacity: 1;\"/><path class=\"point\" transform=\"translate(191.09,135.85)\" d=\"M6.5,0L0,6.5L-6.5,0L0,-6.5Z\" style=\"opacity: 0.4; stroke-width: 0px; fill: rgb(255, 127, 14); fill-opacity: 1;\"/><path class=\"point\" transform=\"translate(145.6,135.85)\" d=\"M6.5,0L0,6.5L-6.5,0L0,-6.5Z\" style=\"opacity: 0.4; stroke-width: 0px; fill: rgb(255, 127, 14); fill-opacity: 1;\"/><path class=\"point\" transform=\"translate(188.82,135.85)\" d=\"M6.5,0L0,6.5L-6.5,0L0,-6.5Z\" style=\"opacity: 0.4; stroke-width: 0px; fill: rgb(255, 127, 14); fill-opacity: 1;\"/><path class=\"point\" transform=\"translate(193.07,131.98)\" d=\"M6.5,0L0,6.5L-6.5,0L0,-6.5Z\" style=\"opacity: 0.4; stroke-width: 0px; fill: rgb(255, 127, 14); fill-opacity: 1;\"/><path class=\"point\" transform=\"translate(219.04,131.24)\" d=\"M6.5,0L0,6.5L-6.5,0L0,-6.5Z\" style=\"opacity: 0.4; stroke-width: 0px; fill: rgb(255, 127, 14); fill-opacity: 1;\"/><path class=\"point\" transform=\"translate(253.9,131.24)\" d=\"M6.5,0L0,6.5L-6.5,0L0,-6.5Z\" style=\"opacity: 0.4; stroke-width: 0px; fill: rgb(255, 127, 14); fill-opacity: 1;\"/><path class=\"point\" transform=\"translate(275.74,130.07)\" d=\"M6.5,0L0,6.5L-6.5,0L0,-6.5Z\" style=\"opacity: 0.4; stroke-width: 0px; fill: rgb(255, 127, 14); fill-opacity: 1;\"/><path class=\"point\" transform=\"translate(291.84,127.4)\" d=\"M6.5,0L0,6.5L-6.5,0L0,-6.5Z\" style=\"opacity: 0.4; stroke-width: 0px; fill: rgb(255, 127, 14); fill-opacity: 1;\"/><path class=\"point\" transform=\"translate(143.27,126.83)\" d=\"M6.5,0L0,6.5L-6.5,0L0,-6.5Z\" style=\"opacity: 0.4; stroke-width: 0px; fill: rgb(255, 127, 14); fill-opacity: 1;\"/><path class=\"point\" transform=\"translate(118.25,126.83)\" d=\"M6.5,0L0,6.5L-6.5,0L0,-6.5Z\" style=\"opacity: 0.4; stroke-width: 0px; fill: rgb(255, 127, 14); fill-opacity: 1;\"/><path class=\"point\" transform=\"translate(108.15,125.79)\" d=\"M6.5,0L0,6.5L-6.5,0L0,-6.5Z\" style=\"opacity: 0.4; stroke-width: 0px; fill: rgb(255, 127, 14); fill-opacity: 1;\"/><path class=\"point\" transform=\"translate(305.53,125.07)\" d=\"M6.5,0L0,6.5L-6.5,0L0,-6.5Z\" style=\"opacity: 0.4; stroke-width: 0px; fill: rgb(255, 127, 14); fill-opacity: 1;\"/><path class=\"point\" transform=\"translate(302.88,123.69)\" d=\"M6.5,0L0,6.5L-6.5,0L0,-6.5Z\" style=\"opacity: 0.4; stroke-width: 0px; fill: rgb(255, 127, 14); fill-opacity: 1;\"/><path class=\"point\" transform=\"translate(31.94,123.69)\" d=\"M6.5,0L0,6.5L-6.5,0L0,-6.5Z\" style=\"opacity: 0.4; stroke-width: 0px; fill: rgb(255, 127, 14); fill-opacity: 1;\"/><path class=\"point\" transform=\"translate(172.17,123.46)\" d=\"M6.5,0L0,6.5L-6.5,0L0,-6.5Z\" style=\"opacity: 0.4; stroke-width: 0px; fill: rgb(255, 127, 14); fill-opacity: 1;\"/><path class=\"point\" transform=\"translate(249.88,123.46)\" d=\"M6.5,0L0,6.5L-6.5,0L0,-6.5Z\" style=\"opacity: 0.4; stroke-width: 0px; fill: rgb(255, 127, 14); fill-opacity: 1;\"/><path class=\"point\" transform=\"translate(189.35,123.46)\" d=\"M6.5,0L0,6.5L-6.5,0L0,-6.5Z\" style=\"opacity: 0.4; stroke-width: 0px; fill: rgb(255, 127, 14); fill-opacity: 1;\"/><path class=\"point\" transform=\"translate(342.17,122.99)\" d=\"M6.5,0L0,6.5L-6.5,0L0,-6.5Z\" style=\"opacity: 0.4; stroke-width: 0px; fill: rgb(255, 127, 14); fill-opacity: 1;\"/><path class=\"point\" transform=\"translate(248.17,122.93)\" d=\"M6.5,0L0,6.5L-6.5,0L0,-6.5Z\" style=\"opacity: 0.4; stroke-width: 0px; fill: rgb(255, 127, 14); fill-opacity: 1;\"/><path class=\"point\" transform=\"translate(170.38,122.91)\" d=\"M6.5,0L0,6.5L-6.5,0L0,-6.5Z\" style=\"opacity: 0.4; stroke-width: 0px; fill: rgb(255, 127, 14); fill-opacity: 1;\"/><path class=\"point\" transform=\"translate(359.79,121.85)\" d=\"M6.5,0L0,6.5L-6.5,0L0,-6.5Z\" style=\"opacity: 0.4; stroke-width: 0px; fill: rgb(255, 127, 14); fill-opacity: 1;\"/><path class=\"point\" transform=\"translate(113.26,121.66)\" d=\"M6.5,0L0,6.5L-6.5,0L0,-6.5Z\" style=\"opacity: 0.4; stroke-width: 0px; fill: rgb(255, 127, 14); fill-opacity: 1;\"/><path class=\"point\" transform=\"translate(191.34,120.75)\" d=\"M6.5,0L0,6.5L-6.5,0L0,-6.5Z\" style=\"opacity: 0.4; stroke-width: 0px; fill: rgb(255, 127, 14); fill-opacity: 1;\"/><path class=\"point\" transform=\"translate(209.28,119.2)\" d=\"M6.5,0L0,6.5L-6.5,0L0,-6.5Z\" style=\"opacity: 0.4; stroke-width: 0px; fill: rgb(255, 127, 14); fill-opacity: 1;\"/><path class=\"point\" transform=\"translate(315.43,119.09)\" d=\"M6.5,0L0,6.5L-6.5,0L0,-6.5Z\" style=\"opacity: 0.4; stroke-width: 0px; fill: rgb(255, 127, 14); fill-opacity: 1;\"/><path class=\"point\" transform=\"translate(334.17,118.59)\" d=\"M6.5,0L0,6.5L-6.5,0L0,-6.5Z\" style=\"opacity: 0.4; stroke-width: 0px; fill: rgb(255, 127, 14); fill-opacity: 1;\"/><path class=\"point\" transform=\"translate(341.09,118.59)\" d=\"M6.5,0L0,6.5L-6.5,0L0,-6.5Z\" style=\"opacity: 0.4; stroke-width: 0px; fill: rgb(255, 127, 14); fill-opacity: 1;\"/><path class=\"point\" transform=\"translate(259.12,118.59)\" d=\"M6.5,0L0,6.5L-6.5,0L0,-6.5Z\" style=\"opacity: 0.4; stroke-width: 0px; fill: rgb(255, 127, 14); fill-opacity: 1;\"/><path class=\"point\" transform=\"translate(263.39,118.59)\" d=\"M6.5,0L0,6.5L-6.5,0L0,-6.5Z\" style=\"opacity: 0.4; stroke-width: 0px; fill: rgb(255, 127, 14); fill-opacity: 1;\"/><path class=\"point\" transform=\"translate(136.68,116.58)\" d=\"M6.5,0L0,6.5L-6.5,0L0,-6.5Z\" style=\"opacity: 0.4; stroke-width: 0px; fill: rgb(255, 127, 14); fill-opacity: 1;\"/><path class=\"point\" transform=\"translate(230.9,116.55)\" d=\"M6.5,0L0,6.5L-6.5,0L0,-6.5Z\" style=\"opacity: 0.4; stroke-width: 0px; fill: rgb(255, 127, 14); fill-opacity: 1;\"/><path class=\"point\" transform=\"translate(246.13,116.26)\" d=\"M6.5,0L0,6.5L-6.5,0L0,-6.5Z\" style=\"opacity: 0.4; stroke-width: 0px; fill: rgb(255, 127, 14); fill-opacity: 1;\"/><path class=\"point\" transform=\"translate(265.41,116)\" d=\"M6.5,0L0,6.5L-6.5,0L0,-6.5Z\" style=\"opacity: 0.4; stroke-width: 0px; fill: rgb(255, 127, 14); fill-opacity: 1;\"/><path class=\"point\" transform=\"translate(228.8,114.99)\" d=\"M6.5,0L0,6.5L-6.5,0L0,-6.5Z\" style=\"opacity: 0.4; stroke-width: 0px; fill: rgb(255, 127, 14); fill-opacity: 1;\"/><path class=\"point\" transform=\"translate(187.06,114.26)\" d=\"M6.5,0L0,6.5L-6.5,0L0,-6.5Z\" style=\"opacity: 0.4; stroke-width: 0px; fill: rgb(255, 127, 14); fill-opacity: 1;\"/><path class=\"point\" transform=\"translate(195.4,113.53)\" d=\"M6.5,0L0,6.5L-6.5,0L0,-6.5Z\" style=\"opacity: 0.4; stroke-width: 0px; fill: rgb(255, 127, 14); fill-opacity: 1;\"/><path class=\"point\" transform=\"translate(291.77,112.17)\" d=\"M6.5,0L0,6.5L-6.5,0L0,-6.5Z\" style=\"opacity: 0.4; stroke-width: 0px; fill: rgb(255, 127, 14); fill-opacity: 1;\"/><path class=\"point\" transform=\"translate(232.96,111.62)\" d=\"M6.5,0L0,6.5L-6.5,0L0,-6.5Z\" style=\"opacity: 0.4; stroke-width: 0px; fill: rgb(255, 127, 14); fill-opacity: 1;\"/><path class=\"point\" transform=\"translate(306.58,110)\" d=\"M6.5,0L0,6.5L-6.5,0L0,-6.5Z\" style=\"opacity: 0.4; stroke-width: 0px; fill: rgb(255, 127, 14); fill-opacity: 1;\"/><path class=\"point\" transform=\"translate(245.93,106.14)\" d=\"M6.5,0L0,6.5L-6.5,0L0,-6.5Z\" style=\"opacity: 0.4; stroke-width: 0px; fill: rgb(255, 127, 14); fill-opacity: 1;\"/><path class=\"point\" transform=\"translate(415.09,105.72)\" d=\"M6.5,0L0,6.5L-6.5,0L0,-6.5Z\" style=\"opacity: 0.4; stroke-width: 0px; fill: rgb(255, 127, 14); fill-opacity: 1;\"/><path class=\"point\" transform=\"translate(303.83,104.79)\" d=\"M6.5,0L0,6.5L-6.5,0L0,-6.5Z\" style=\"opacity: 0.4; stroke-width: 0px; fill: rgb(255, 127, 14); fill-opacity: 1;\"/><path class=\"point\" transform=\"translate(378.1,104.79)\" d=\"M6.5,0L0,6.5L-6.5,0L0,-6.5Z\" style=\"opacity: 0.4; stroke-width: 0px; fill: rgb(255, 127, 14); fill-opacity: 1;\"/><path class=\"point\" transform=\"translate(141.91,104.36)\" d=\"M6.5,0L0,6.5L-6.5,0L0,-6.5Z\" style=\"opacity: 0.4; stroke-width: 0px; fill: rgb(255, 127, 14); fill-opacity: 1;\"/><path class=\"point\" transform=\"translate(247.35,104.23)\" d=\"M6.5,0L0,6.5L-6.5,0L0,-6.5Z\" style=\"opacity: 0.4; stroke-width: 0px; fill: rgb(255, 127, 14); fill-opacity: 1;\"/><path class=\"point\" transform=\"translate(413.04,103.43)\" d=\"M6.5,0L0,6.5L-6.5,0L0,-6.5Z\" style=\"opacity: 0.4; stroke-width: 0px; fill: rgb(255, 127, 14); fill-opacity: 1;\"/><path class=\"point\" transform=\"translate(218.16,100.45)\" d=\"M6.5,0L0,6.5L-6.5,0L0,-6.5Z\" style=\"opacity: 0.4; stroke-width: 0px; fill: rgb(255, 127, 14); fill-opacity: 1;\"/><path class=\"point\" transform=\"translate(220.81,100.45)\" d=\"M6.5,0L0,6.5L-6.5,0L0,-6.5Z\" style=\"opacity: 0.4; stroke-width: 0px; fill: rgb(255, 127, 14); fill-opacity: 1;\"/><path class=\"point\" transform=\"translate(85.3,100.04)\" d=\"M6.5,0L0,6.5L-6.5,0L0,-6.5Z\" style=\"opacity: 0.4; stroke-width: 0px; fill: rgb(255, 127, 14); fill-opacity: 1;\"/><path class=\"point\" transform=\"translate(230.16,99.96)\" d=\"M6.5,0L0,6.5L-6.5,0L0,-6.5Z\" style=\"opacity: 0.4; stroke-width: 0px; fill: rgb(255, 127, 14); fill-opacity: 1;\"/><path class=\"point\" transform=\"translate(207.62,99.96)\" d=\"M6.5,0L0,6.5L-6.5,0L0,-6.5Z\" style=\"opacity: 0.4; stroke-width: 0px; fill: rgb(255, 127, 14); fill-opacity: 1;\"/><path class=\"point\" transform=\"translate(280.77,98.86)\" d=\"M6.5,0L0,6.5L-6.5,0L0,-6.5Z\" style=\"opacity: 0.4; stroke-width: 0px; fill: rgb(255, 127, 14); fill-opacity: 1;\"/><path class=\"point\" transform=\"translate(329.01,97.59)\" d=\"M6.5,0L0,6.5L-6.5,0L0,-6.5Z\" style=\"opacity: 0.4; stroke-width: 0px; fill: rgb(255, 127, 14); fill-opacity: 1;\"/><path class=\"point\" transform=\"translate(215.09,96.3)\" d=\"M6.5,0L0,6.5L-6.5,0L0,-6.5Z\" style=\"opacity: 0.4; stroke-width: 0px; fill: rgb(255, 127, 14); fill-opacity: 1;\"/><path class=\"point\" transform=\"translate(293.35,95.78)\" d=\"M6.5,0L0,6.5L-6.5,0L0,-6.5Z\" style=\"opacity: 0.4; stroke-width: 0px; fill: rgb(255, 127, 14); fill-opacity: 1;\"/><path class=\"point\" transform=\"translate(262.51,95.72)\" d=\"M6.5,0L0,6.5L-6.5,0L0,-6.5Z\" style=\"opacity: 0.4; stroke-width: 0px; fill: rgb(255, 127, 14); fill-opacity: 1;\"/><path class=\"point\" transform=\"translate(211.47,95.38)\" d=\"M6.5,0L0,6.5L-6.5,0L0,-6.5Z\" style=\"opacity: 0.4; stroke-width: 0px; fill: rgb(255, 127, 14); fill-opacity: 1;\"/><path class=\"point\" transform=\"translate(362.34,94.98)\" d=\"M6.5,0L0,6.5L-6.5,0L0,-6.5Z\" style=\"opacity: 0.4; stroke-width: 0px; fill: rgb(255, 127, 14); fill-opacity: 1;\"/><path class=\"point\" transform=\"translate(206.02,94.33)\" d=\"M6.5,0L0,6.5L-6.5,0L0,-6.5Z\" style=\"opacity: 0.4; stroke-width: 0px; fill: rgb(255, 127, 14); fill-opacity: 1;\"/><path class=\"point\" transform=\"translate(278.03,93.71)\" d=\"M6.5,0L0,6.5L-6.5,0L0,-6.5Z\" style=\"opacity: 0.4; stroke-width: 0px; fill: rgb(255, 127, 14); fill-opacity: 1;\"/><path class=\"point\" transform=\"translate(88.21,91.13)\" d=\"M6.5,0L0,6.5L-6.5,0L0,-6.5Z\" style=\"opacity: 0.4; stroke-width: 0px; fill: rgb(255, 127, 14); fill-opacity: 1;\"/><path class=\"point\" transform=\"translate(141.9,91.01)\" d=\"M6.5,0L0,6.5L-6.5,0L0,-6.5Z\" style=\"opacity: 0.4; stroke-width: 0px; fill: rgb(255, 127, 14); fill-opacity: 1;\"/><path class=\"point\" transform=\"translate(390.64,89.8)\" d=\"M6.5,0L0,6.5L-6.5,0L0,-6.5Z\" style=\"opacity: 0.4; stroke-width: 0px; fill: rgb(255, 127, 14); fill-opacity: 1;\"/><path class=\"point\" transform=\"translate(209.41,89.42)\" d=\"M6.5,0L0,6.5L-6.5,0L0,-6.5Z\" style=\"opacity: 0.4; stroke-width: 0px; fill: rgb(255, 127, 14); fill-opacity: 1;\"/><path class=\"point\" transform=\"translate(173.02,89.42)\" d=\"M6.5,0L0,6.5L-6.5,0L0,-6.5Z\" style=\"opacity: 0.4; stroke-width: 0px; fill: rgb(255, 127, 14); fill-opacity: 1;\"/><path class=\"point\" transform=\"translate(265.02,89.42)\" d=\"M6.5,0L0,6.5L-6.5,0L0,-6.5Z\" style=\"opacity: 0.4; stroke-width: 0px; fill: rgb(255, 127, 14); fill-opacity: 1;\"/><path class=\"point\" transform=\"translate(327.82,88.45)\" d=\"M6.5,0L0,6.5L-6.5,0L0,-6.5Z\" style=\"opacity: 0.4; stroke-width: 0px; fill: rgb(255, 127, 14); fill-opacity: 1;\"/><path class=\"point\" transform=\"translate(339.99,88.45)\" d=\"M6.5,0L0,6.5L-6.5,0L0,-6.5Z\" style=\"opacity: 0.4; stroke-width: 0px; fill: rgb(255, 127, 14); fill-opacity: 1;\"/><path class=\"point\" transform=\"translate(292.54,88.2)\" d=\"M6.5,0L0,6.5L-6.5,0L0,-6.5Z\" style=\"opacity: 0.4; stroke-width: 0px; fill: rgb(255, 127, 14); fill-opacity: 1;\"/><path class=\"point\" transform=\"translate(117.13,87.84)\" d=\"M6.5,0L0,6.5L-6.5,0L0,-6.5Z\" style=\"opacity: 0.4; stroke-width: 0px; fill: rgb(255, 127, 14); fill-opacity: 1;\"/><path class=\"point\" transform=\"translate(304.97,87.84)\" d=\"M6.5,0L0,6.5L-6.5,0L0,-6.5Z\" style=\"opacity: 0.4; stroke-width: 0px; fill: rgb(255, 127, 14); fill-opacity: 1;\"/><path class=\"point\" transform=\"translate(338.42,86.62)\" d=\"M6.5,0L0,6.5L-6.5,0L0,-6.5Z\" style=\"opacity: 0.4; stroke-width: 0px; fill: rgb(255, 127, 14); fill-opacity: 1;\"/><path class=\"point\" transform=\"translate(326.61,85.74)\" d=\"M6.5,0L0,6.5L-6.5,0L0,-6.5Z\" style=\"opacity: 0.4; stroke-width: 0px; fill: rgb(255, 127, 14); fill-opacity: 1;\"/><path class=\"point\" transform=\"translate(172.93,85.3)\" d=\"M6.5,0L0,6.5L-6.5,0L0,-6.5Z\" style=\"opacity: 0.4; stroke-width: 0px; fill: rgb(255, 127, 14); fill-opacity: 1;\"/><path class=\"point\" transform=\"translate(289.06,84.84)\" d=\"M6.5,0L0,6.5L-6.5,0L0,-6.5Z\" style=\"opacity: 0.4; stroke-width: 0px; fill: rgb(255, 127, 14); fill-opacity: 1;\"/><path class=\"point\" transform=\"translate(281.44,84.6)\" d=\"M6.5,0L0,6.5L-6.5,0L0,-6.5Z\" style=\"opacity: 0.4; stroke-width: 0px; fill: rgb(255, 127, 14); fill-opacity: 1;\"/><path class=\"point\" transform=\"translate(320.35,83.98)\" d=\"M6.5,0L0,6.5L-6.5,0L0,-6.5Z\" style=\"opacity: 0.4; stroke-width: 0px; fill: rgb(255, 127, 14); fill-opacity: 1;\"/><path class=\"point\" transform=\"translate(275.5,83.51)\" d=\"M6.5,0L0,6.5L-6.5,0L0,-6.5Z\" style=\"opacity: 0.4; stroke-width: 0px; fill: rgb(255, 127, 14); fill-opacity: 1;\"/><path class=\"point\" transform=\"translate(227.92,82.06)\" d=\"M6.5,0L0,6.5L-6.5,0L0,-6.5Z\" style=\"opacity: 0.4; stroke-width: 0px; fill: rgb(255, 127, 14); fill-opacity: 1;\"/><path class=\"point\" transform=\"translate(213.74,81.92)\" d=\"M6.5,0L0,6.5L-6.5,0L0,-6.5Z\" style=\"opacity: 0.4; stroke-width: 0px; fill: rgb(255, 127, 14); fill-opacity: 1;\"/><path class=\"point\" transform=\"translate(228.51,81.69)\" d=\"M6.5,0L0,6.5L-6.5,0L0,-6.5Z\" style=\"opacity: 0.4; stroke-width: 0px; fill: rgb(255, 127, 14); fill-opacity: 1;\"/><path class=\"point\" transform=\"translate(289.93,80.65)\" d=\"M6.5,0L0,6.5L-6.5,0L0,-6.5Z\" style=\"opacity: 0.4; stroke-width: 0px; fill: rgb(255, 127, 14); fill-opacity: 1;\"/><path class=\"point\" transform=\"translate(266.42,80.65)\" d=\"M6.5,0L0,6.5L-6.5,0L0,-6.5Z\" style=\"opacity: 0.4; stroke-width: 0px; fill: rgb(255, 127, 14); fill-opacity: 1;\"/><path class=\"point\" transform=\"translate(182.03,80.53)\" d=\"M6.5,0L0,6.5L-6.5,0L0,-6.5Z\" style=\"opacity: 0.4; stroke-width: 0px; fill: rgb(255, 127, 14); fill-opacity: 1;\"/><path class=\"point\" transform=\"translate(279.27,79.51)\" d=\"M6.5,0L0,6.5L-6.5,0L0,-6.5Z\" style=\"opacity: 0.4; stroke-width: 0px; fill: rgb(255, 127, 14); fill-opacity: 1;\"/><path class=\"point\" transform=\"translate(228.26,79.27)\" d=\"M6.5,0L0,6.5L-6.5,0L0,-6.5Z\" style=\"opacity: 0.4; stroke-width: 0px; fill: rgb(255, 127, 14); fill-opacity: 1;\"/><path class=\"point\" transform=\"translate(158.52,79.08)\" d=\"M6.5,0L0,6.5L-6.5,0L0,-6.5Z\" style=\"opacity: 0.4; stroke-width: 0px; fill: rgb(255, 127, 14); fill-opacity: 1;\"/><path class=\"point\" transform=\"translate(187.67,78.9)\" d=\"M6.5,0L0,6.5L-6.5,0L0,-6.5Z\" style=\"opacity: 0.4; stroke-width: 0px; fill: rgb(255, 127, 14); fill-opacity: 1;\"/><path class=\"point\" transform=\"translate(290.19,77.31)\" d=\"M6.5,0L0,6.5L-6.5,0L0,-6.5Z\" style=\"opacity: 0.4; stroke-width: 0px; fill: rgb(255, 127, 14); fill-opacity: 1;\"/><path class=\"point\" transform=\"translate(315.64,76.2)\" d=\"M6.5,0L0,6.5L-6.5,0L0,-6.5Z\" style=\"opacity: 0.4; stroke-width: 0px; fill: rgb(255, 127, 14); fill-opacity: 1;\"/><path class=\"point\" transform=\"translate(244.12,75.87)\" d=\"M6.5,0L0,6.5L-6.5,0L0,-6.5Z\" style=\"opacity: 0.4; stroke-width: 0px; fill: rgb(255, 127, 14); fill-opacity: 1;\"/><path class=\"point\" transform=\"translate(190.08,75.87)\" d=\"M6.5,0L0,6.5L-6.5,0L0,-6.5Z\" style=\"opacity: 0.4; stroke-width: 0px; fill: rgb(255, 127, 14); fill-opacity: 1;\"/><path class=\"point\" transform=\"translate(246.79,75.76)\" d=\"M6.5,0L0,6.5L-6.5,0L0,-6.5Z\" style=\"opacity: 0.4; stroke-width: 0px; fill: rgb(255, 127, 14); fill-opacity: 1;\"/><path class=\"point\" transform=\"translate(198.38,74.23)\" d=\"M6.5,0L0,6.5L-6.5,0L0,-6.5Z\" style=\"opacity: 0.4; stroke-width: 0px; fill: rgb(255, 127, 14); fill-opacity: 1;\"/><path class=\"point\" transform=\"translate(316.5,74.23)\" d=\"M6.5,0L0,6.5L-6.5,0L0,-6.5Z\" style=\"opacity: 0.4; stroke-width: 0px; fill: rgb(255, 127, 14); fill-opacity: 1;\"/><path class=\"point\" transform=\"translate(294.99,72.54)\" d=\"M6.5,0L0,6.5L-6.5,0L0,-6.5Z\" style=\"opacity: 0.4; stroke-width: 0px; fill: rgb(255, 127, 14); fill-opacity: 1;\"/><path class=\"point\" transform=\"translate(163.47,72.54)\" d=\"M6.5,0L0,6.5L-6.5,0L0,-6.5Z\" style=\"opacity: 0.4; stroke-width: 0px; fill: rgb(255, 127, 14); fill-opacity: 1;\"/><path class=\"point\" transform=\"translate(193.62,71.96)\" d=\"M6.5,0L0,6.5L-6.5,0L0,-6.5Z\" style=\"opacity: 0.4; stroke-width: 0px; fill: rgb(255, 127, 14); fill-opacity: 1;\"/><path class=\"point\" transform=\"translate(206.09,71.96)\" d=\"M6.5,0L0,6.5L-6.5,0L0,-6.5Z\" style=\"opacity: 0.4; stroke-width: 0px; fill: rgb(255, 127, 14); fill-opacity: 1;\"/><path class=\"point\" transform=\"translate(315.75,70.39)\" d=\"M6.5,0L0,6.5L-6.5,0L0,-6.5Z\" style=\"opacity: 0.4; stroke-width: 0px; fill: rgb(255, 127, 14); fill-opacity: 1;\"/><path class=\"point\" transform=\"translate(232.6,70.39)\" d=\"M6.5,0L0,6.5L-6.5,0L0,-6.5Z\" style=\"opacity: 0.4; stroke-width: 0px; fill: rgb(255, 127, 14); fill-opacity: 1;\"/><path class=\"point\" transform=\"translate(193.71,69.54)\" d=\"M6.5,0L0,6.5L-6.5,0L0,-6.5Z\" style=\"opacity: 0.4; stroke-width: 0px; fill: rgb(255, 127, 14); fill-opacity: 1;\"/><path class=\"point\" transform=\"translate(194.07,68.52)\" d=\"M6.5,0L0,6.5L-6.5,0L0,-6.5Z\" style=\"opacity: 0.4; stroke-width: 0px; fill: rgb(255, 127, 14); fill-opacity: 1;\"/><path class=\"point\" transform=\"translate(206.41,68.17)\" d=\"M6.5,0L0,6.5L-6.5,0L0,-6.5Z\" style=\"opacity: 0.4; stroke-width: 0px; fill: rgb(255, 127, 14); fill-opacity: 1;\"/><path class=\"point\" transform=\"translate(172.71,67.79)\" d=\"M6.5,0L0,6.5L-6.5,0L0,-6.5Z\" style=\"opacity: 0.4; stroke-width: 0px; fill: rgb(255, 127, 14); fill-opacity: 1;\"/><path class=\"point\" transform=\"translate(109.28,65.19)\" d=\"M6.5,0L0,6.5L-6.5,0L0,-6.5Z\" style=\"opacity: 0.4; stroke-width: 0px; fill: rgb(255, 127, 14); fill-opacity: 1;\"/><path class=\"point\" transform=\"translate(363.5,65.19)\" d=\"M6.5,0L0,6.5L-6.5,0L0,-6.5Z\" style=\"opacity: 0.4; stroke-width: 0px; fill: rgb(255, 127, 14); fill-opacity: 1;\"/><path class=\"point\" transform=\"translate(331.02,65.19)\" d=\"M6.5,0L0,6.5L-6.5,0L0,-6.5Z\" style=\"opacity: 0.4; stroke-width: 0px; fill: rgb(255, 127, 14); fill-opacity: 1;\"/><path class=\"point\" transform=\"translate(161.68,64.12)\" d=\"M6.5,0L0,6.5L-6.5,0L0,-6.5Z\" style=\"opacity: 0.4; stroke-width: 0px; fill: rgb(255, 127, 14); fill-opacity: 1;\"/><path class=\"point\" transform=\"translate(290.47,63.73)\" d=\"M6.5,0L0,6.5L-6.5,0L0,-6.5Z\" style=\"opacity: 0.4; stroke-width: 0px; fill: rgb(255, 127, 14); fill-opacity: 1;\"/><path class=\"point\" transform=\"translate(315.08,62.43)\" d=\"M6.5,0L0,6.5L-6.5,0L0,-6.5Z\" style=\"opacity: 0.4; stroke-width: 0px; fill: rgb(255, 127, 14); fill-opacity: 1;\"/><path class=\"point\" transform=\"translate(248.41,62.15)\" d=\"M6.5,0L0,6.5L-6.5,0L0,-6.5Z\" style=\"opacity: 0.4; stroke-width: 0px; fill: rgb(255, 127, 14); fill-opacity: 1;\"/><path class=\"point\" transform=\"translate(97.05,62.15)\" d=\"M6.5,0L0,6.5L-6.5,0L0,-6.5Z\" style=\"opacity: 0.4; stroke-width: 0px; fill: rgb(255, 127, 14); fill-opacity: 1;\"/><path class=\"point\" transform=\"translate(260.25,59.83)\" d=\"M6.5,0L0,6.5L-6.5,0L0,-6.5Z\" style=\"opacity: 0.4; stroke-width: 0px; fill: rgb(255, 127, 14); fill-opacity: 1;\"/><path class=\"point\" transform=\"translate(245.1,59.32)\" d=\"M6.5,0L0,6.5L-6.5,0L0,-6.5Z\" style=\"opacity: 0.4; stroke-width: 0px; fill: rgb(255, 127, 14); fill-opacity: 1;\"/><path class=\"point\" transform=\"translate(249.58,59.32)\" d=\"M6.5,0L0,6.5L-6.5,0L0,-6.5Z\" style=\"opacity: 0.4; stroke-width: 0px; fill: rgb(255, 127, 14); fill-opacity: 1;\"/><path class=\"point\" transform=\"translate(319.77,58.96)\" d=\"M6.5,0L0,6.5L-6.5,0L0,-6.5Z\" style=\"opacity: 0.4; stroke-width: 0px; fill: rgb(255, 127, 14); fill-opacity: 1;\"/><path class=\"point\" transform=\"translate(189.57,57.29)\" d=\"M6.5,0L0,6.5L-6.5,0L0,-6.5Z\" style=\"opacity: 0.4; stroke-width: 0px; fill: rgb(255, 127, 14); fill-opacity: 1;\"/><path class=\"point\" transform=\"translate(293.63,56.52)\" d=\"M6.5,0L0,6.5L-6.5,0L0,-6.5Z\" style=\"opacity: 0.4; stroke-width: 0px; fill: rgb(255, 127, 14); fill-opacity: 1;\"/><path class=\"point\" transform=\"translate(441.2,56.37)\" d=\"M6.5,0L0,6.5L-6.5,0L0,-6.5Z\" style=\"opacity: 0.4; stroke-width: 0px; fill: rgb(255, 127, 14); fill-opacity: 1;\"/><path class=\"point\" transform=\"translate(43.89,53.73)\" d=\"M6.5,0L0,6.5L-6.5,0L0,-6.5Z\" style=\"opacity: 0.4; stroke-width: 0px; fill: rgb(255, 127, 14); fill-opacity: 1;\"/><path class=\"point\" transform=\"translate(167.01,53.73)\" d=\"M6.5,0L0,6.5L-6.5,0L0,-6.5Z\" style=\"opacity: 0.4; stroke-width: 0px; fill: rgb(255, 127, 14); fill-opacity: 1;\"/><path class=\"point\" transform=\"translate(341.93,52.21)\" d=\"M6.5,0L0,6.5L-6.5,0L0,-6.5Z\" style=\"opacity: 0.4; stroke-width: 0px; fill: rgb(255, 127, 14); fill-opacity: 1;\"/><path class=\"point\" transform=\"translate(213.73,49.21)\" d=\"M6.5,0L0,6.5L-6.5,0L0,-6.5Z\" style=\"opacity: 0.4; stroke-width: 0px; fill: rgb(255, 127, 14); fill-opacity: 1;\"/><path class=\"point\" transform=\"translate(264.92,48.51)\" d=\"M6.5,0L0,6.5L-6.5,0L0,-6.5Z\" style=\"opacity: 0.4; stroke-width: 0px; fill: rgb(255, 127, 14); fill-opacity: 1;\"/><path class=\"point\" transform=\"translate(405.47,48.51)\" d=\"M6.5,0L0,6.5L-6.5,0L0,-6.5Z\" style=\"opacity: 0.4; stroke-width: 0px; fill: rgb(255, 127, 14); fill-opacity: 1;\"/><path class=\"point\" transform=\"translate(306.38,46.68)\" d=\"M6.5,0L0,6.5L-6.5,0L0,-6.5Z\" style=\"opacity: 0.4; stroke-width: 0px; fill: rgb(255, 127, 14); fill-opacity: 1;\"/><path class=\"point\" transform=\"translate(231.27,46.68)\" d=\"M6.5,0L0,6.5L-6.5,0L0,-6.5Z\" style=\"opacity: 0.4; stroke-width: 0px; fill: rgb(255, 127, 14); fill-opacity: 1;\"/><path class=\"point\" transform=\"translate(208.76,46.59)\" d=\"M6.5,0L0,6.5L-6.5,0L0,-6.5Z\" style=\"opacity: 0.4; stroke-width: 0px; fill: rgb(255, 127, 14); fill-opacity: 1;\"/><path class=\"point\" transform=\"translate(211.54,46.59)\" d=\"M6.5,0L0,6.5L-6.5,0L0,-6.5Z\" style=\"opacity: 0.4; stroke-width: 0px; fill: rgb(255, 127, 14); fill-opacity: 1;\"/><path class=\"point\" transform=\"translate(280.8,45.7)\" d=\"M6.5,0L0,6.5L-6.5,0L0,-6.5Z\" style=\"opacity: 0.4; stroke-width: 0px; fill: rgb(255, 127, 14); fill-opacity: 1;\"/><path class=\"point\" transform=\"translate(277.18,45.7)\" d=\"M6.5,0L0,6.5L-6.5,0L0,-6.5Z\" style=\"opacity: 0.4; stroke-width: 0px; fill: rgb(255, 127, 14); fill-opacity: 1;\"/><path class=\"point\" transform=\"translate(210.19,45.7)\" d=\"M6.5,0L0,6.5L-6.5,0L0,-6.5Z\" style=\"opacity: 0.4; stroke-width: 0px; fill: rgb(255, 127, 14); fill-opacity: 1;\"/><path class=\"point\" transform=\"translate(266.51,45.24)\" d=\"M6.5,0L0,6.5L-6.5,0L0,-6.5Z\" style=\"opacity: 0.4; stroke-width: 0px; fill: rgb(255, 127, 14); fill-opacity: 1;\"/><path class=\"point\" transform=\"translate(260.77,45.24)\" d=\"M6.5,0L0,6.5L-6.5,0L0,-6.5Z\" style=\"opacity: 0.4; stroke-width: 0px; fill: rgb(255, 127, 14); fill-opacity: 1;\"/><path class=\"point\" transform=\"translate(342.19,45.24)\" d=\"M6.5,0L0,6.5L-6.5,0L0,-6.5Z\" style=\"opacity: 0.4; stroke-width: 0px; fill: rgb(255, 127, 14); fill-opacity: 1;\"/><path class=\"point\" transform=\"translate(248.84,45.01)\" d=\"M6.5,0L0,6.5L-6.5,0L0,-6.5Z\" style=\"opacity: 0.4; stroke-width: 0px; fill: rgb(255, 127, 14); fill-opacity: 1;\"/><path class=\"point\" transform=\"translate(211.96,45.01)\" d=\"M6.5,0L0,6.5L-6.5,0L0,-6.5Z\" style=\"opacity: 0.4; stroke-width: 0px; fill: rgb(255, 127, 14); fill-opacity: 1;\"/><path class=\"point\" transform=\"translate(192.63,45.01)\" d=\"M6.5,0L0,6.5L-6.5,0L0,-6.5Z\" style=\"opacity: 0.4; stroke-width: 0px; fill: rgb(255, 127, 14); fill-opacity: 1;\"/><path class=\"point\" transform=\"translate(315.72,44.04)\" d=\"M6.5,0L0,6.5L-6.5,0L0,-6.5Z\" style=\"opacity: 0.4; stroke-width: 0px; fill: rgb(255, 127, 14); fill-opacity: 1;\"/><path class=\"point\" transform=\"translate(351.24,44.04)\" d=\"M6.5,0L0,6.5L-6.5,0L0,-6.5Z\" style=\"opacity: 0.4; stroke-width: 0px; fill: rgb(255, 127, 14); fill-opacity: 1;\"/><path class=\"point\" transform=\"translate(57.26,43.2)\" d=\"M6.5,0L0,6.5L-6.5,0L0,-6.5Z\" style=\"opacity: 0.4; stroke-width: 0px; fill: rgb(255, 127, 14); fill-opacity: 1;\"/><path class=\"point\" transform=\"translate(348.91,43.2)\" d=\"M6.5,0L0,6.5L-6.5,0L0,-6.5Z\" style=\"opacity: 0.4; stroke-width: 0px; fill: rgb(255, 127, 14); fill-opacity: 1;\"/><path class=\"point\" transform=\"translate(291.98,42.59)\" d=\"M6.5,0L0,6.5L-6.5,0L0,-6.5Z\" style=\"opacity: 0.4; stroke-width: 0px; fill: rgb(255, 127, 14); fill-opacity: 1;\"/><path class=\"point\" transform=\"translate(262.49,41.65)\" d=\"M6.5,0L0,6.5L-6.5,0L0,-6.5Z\" style=\"opacity: 0.4; stroke-width: 0px; fill: rgb(255, 127, 14); fill-opacity: 1;\"/><path class=\"point\" transform=\"translate(170.36,25.68)\" d=\"M6.5,0L0,6.5L-6.5,0L0,-6.5Z\" style=\"opacity: 0.4; stroke-width: 0px; fill: rgb(255, 127, 14); fill-opacity: 1;\"/><path class=\"point\" transform=\"translate(304.57,25.68)\" d=\"M6.5,0L0,6.5L-6.5,0L0,-6.5Z\" style=\"opacity: 0.4; stroke-width: 0px; fill: rgb(255, 127, 14); fill-opacity: 1;\"/><path class=\"point\" transform=\"translate(135.56,17.85)\" d=\"M6.5,0L0,6.5L-6.5,0L0,-6.5Z\" style=\"opacity: 0.4; stroke-width: 0px; fill: rgb(255, 127, 14); fill-opacity: 1;\"/></g><g class=\"text\"/></g></g></g><g class=\"overplot\"/><path class=\"xlines-above crisp\" d=\"M62,242.5H534\" style=\"fill: none; stroke-width: 1px; stroke: rgb(36, 36, 36); stroke-opacity: 1;\"/><path class=\"ylines-above crisp\" d=\"M62.5,10V242\" style=\"fill: none; stroke-width: 1px; stroke: rgb(36, 36, 36); stroke-opacity: 1;\"/><g class=\"overlines-above\"/><g class=\"xaxislayer-above\"><path class=\"xtick ticks crisp\" d=\"M0,243v5\" transform=\"translate(102.88,0)\" style=\"stroke: rgb(68, 68, 68); stroke-opacity: 1; stroke-width: 1px;\"/><path class=\"xtick ticks crisp\" d=\"M0,243v5\" transform=\"translate(253.13,0)\" style=\"stroke: rgb(68, 68, 68); stroke-opacity: 1; stroke-width: 1px;\"/><path class=\"xtick ticks crisp\" d=\"M0,243v5\" transform=\"translate(341.02,0)\" style=\"stroke: rgb(68, 68, 68); stroke-opacity: 1; stroke-width: 1px;\"/><path class=\"xtick ticks crisp\" d=\"M0,243v5\" transform=\"translate(403.37,0)\" style=\"stroke: rgb(68, 68, 68); stroke-opacity: 1; stroke-width: 1px;\"/><path class=\"xtick ticks crisp\" d=\"M0,243v5\" transform=\"translate(451.74,0)\" style=\"stroke: rgb(68, 68, 68); stroke-opacity: 1; stroke-width: 1px;\"/><path class=\"xtick ticks crisp\" d=\"M0,243v5\" transform=\"translate(491.26,0)\" style=\"stroke: rgb(68, 68, 68); stroke-opacity: 1; stroke-width: 1px;\"/><path class=\"xtick ticks crisp\" d=\"M0,243v5\" transform=\"translate(524.6800000000001,0)\" style=\"stroke: rgb(68, 68, 68); stroke-opacity: 1; stroke-width: 1px;\"/><g class=\"xtick\"><text text-anchor=\"middle\" x=\"0\" y=\"262.4\" transform=\"translate(102.88,0)\" style=\"font-family: 'Open Sans', verdana, arial, sans-serif; font-size: 12px; fill: rgb(36, 36, 36); fill-opacity: 1; white-space: pre; opacity: 1;\">5</text></g><g class=\"xtick\"><text text-anchor=\"middle\" x=\"0\" y=\"262.4\" style=\"font-family: 'Open Sans', verdana, arial, sans-serif; font-size: 12px; fill: rgb(36, 36, 36); fill-opacity: 1; white-space: pre; opacity: 1;\" transform=\"translate(253.13,0)\">10</text></g><g class=\"xtick\"><text text-anchor=\"middle\" x=\"0\" y=\"262.4\" style=\"font-family: 'Open Sans', verdana, arial, sans-serif; font-size: 12px; fill: rgb(36, 36, 36); fill-opacity: 1; white-space: pre; opacity: 1;\" transform=\"translate(341.02,0)\">15</text></g><g class=\"xtick\"><text text-anchor=\"middle\" x=\"0\" y=\"262.4\" style=\"font-family: 'Open Sans', verdana, arial, sans-serif; font-size: 12px; fill: rgb(36, 36, 36); fill-opacity: 1; white-space: pre; opacity: 1;\" transform=\"translate(403.37,0)\">20</text></g><g class=\"xtick\"><text text-anchor=\"middle\" x=\"0\" y=\"262.4\" style=\"font-family: 'Open Sans', verdana, arial, sans-serif; font-size: 12px; fill: rgb(36, 36, 36); fill-opacity: 1; white-space: pre; opacity: 1;\" transform=\"translate(451.74,0)\">25</text></g><g class=\"xtick\"><text text-anchor=\"middle\" x=\"0\" y=\"262.4\" style=\"font-family: 'Open Sans', verdana, arial, sans-serif; font-size: 12px; fill: rgb(36, 36, 36); fill-opacity: 1; white-space: pre; opacity: 1;\" transform=\"translate(491.26,0)\">30</text></g><g class=\"xtick\"><text text-anchor=\"middle\" x=\"0\" y=\"262.4\" style=\"font-family: 'Open Sans', verdana, arial, sans-serif; font-size: 12px; fill: rgb(36, 36, 36); fill-opacity: 1; white-space: pre; opacity: 1;\" transform=\"translate(524.6800000000001,0)\">35</text></g></g><g class=\"yaxislayer-above\"><path class=\"ytick ticks crisp\" d=\"M62,0h-5\" transform=\"translate(0,229.11)\" style=\"stroke: rgb(68, 68, 68); stroke-opacity: 1; stroke-width: 1px;\"/><path class=\"ytick ticks crisp\" d=\"M62,0h-5\" transform=\"translate(0,188.17)\" style=\"stroke: rgb(68, 68, 68); stroke-opacity: 1; stroke-width: 1px;\"/><path class=\"ytick ticks crisp\" d=\"M62,0h-5\" transform=\"translate(0,147.23)\" style=\"stroke: rgb(68, 68, 68); stroke-opacity: 1; stroke-width: 1px;\"/><path class=\"ytick ticks crisp\" d=\"M62,0h-5\" transform=\"translate(0,106.3)\" style=\"stroke: rgb(68, 68, 68); stroke-opacity: 1; stroke-width: 1px;\"/><path class=\"ytick ticks crisp\" d=\"M62,0h-5\" transform=\"translate(0,65.36)\" style=\"stroke: rgb(68, 68, 68); stroke-opacity: 1; stroke-width: 1px;\"/><path class=\"ytick ticks crisp\" d=\"M62,0h-5\" transform=\"translate(0,24.43)\" style=\"stroke: rgb(68, 68, 68); stroke-opacity: 1; stroke-width: 1px;\"/><g class=\"ytick\"><text text-anchor=\"end\" x=\"54.6\" y=\"4.199999999999999\" transform=\"translate(0,229.11)\" style=\"font-family: 'Open Sans', verdana, arial, sans-serif; font-size: 12px; fill: rgb(36, 36, 36); fill-opacity: 1; white-space: pre; opacity: 1;\">0</text></g><g class=\"ytick\"><text text-anchor=\"end\" x=\"54.6\" y=\"4.199999999999999\" style=\"font-family: 'Open Sans', verdana, arial, sans-serif; font-size: 12px; fill: rgb(36, 36, 36); fill-opacity: 1; white-space: pre; opacity: 1;\" transform=\"translate(0,188.17)\">0.2</text></g><g class=\"ytick\"><text text-anchor=\"end\" x=\"54.6\" y=\"4.199999999999999\" style=\"font-family: 'Open Sans', verdana, arial, sans-serif; font-size: 12px; fill: rgb(36, 36, 36); fill-opacity: 1; white-space: pre; opacity: 1;\" transform=\"translate(0,147.23)\">0.4</text></g><g class=\"ytick\"><text text-anchor=\"end\" x=\"54.6\" y=\"4.199999999999999\" style=\"font-family: 'Open Sans', verdana, arial, sans-serif; font-size: 12px; fill: rgb(36, 36, 36); fill-opacity: 1; white-space: pre; opacity: 1;\" transform=\"translate(0,106.3)\">0.6</text></g><g class=\"ytick\"><text text-anchor=\"end\" x=\"54.6\" y=\"4.199999999999999\" style=\"font-family: 'Open Sans', verdana, arial, sans-serif; font-size: 12px; fill: rgb(36, 36, 36); fill-opacity: 1; white-space: pre; opacity: 1;\" transform=\"translate(0,65.36)\">0.8</text></g><g class=\"ytick\"><text text-anchor=\"end\" x=\"54.6\" y=\"4.199999999999999\" style=\"font-family: 'Open Sans', verdana, arial, sans-serif; font-size: 12px; fill: rgb(36, 36, 36); fill-opacity: 1; white-space: pre; opacity: 1;\" transform=\"translate(0,24.43)\">1</text></g></g><g class=\"overaxes-above\"/></g></g><g class=\"polarlayer\"/><g class=\"smithlayer\"/><g class=\"ternarylayer\"/><g class=\"geolayer\"/><g class=\"funnelarealayer\"/><g class=\"pielayer\"/><g class=\"iciclelayer\"/><g class=\"treemaplayer\"/><g class=\"sunburstlayer\"/><g class=\"glimages\"/><defs id=\"topdefs-5a5289\"><g class=\"clips\"/><clipPath id=\"legend5a5289\"><rect width=\"97\" height=\"67\" x=\"0\" y=\"0\"/></clipPath></defs><g class=\"layer-above\"><g class=\"imagelayer\"/><g class=\"shapelayer\"/></g><g class=\"infolayer\"><g class=\"legend\" pointer-events=\"all\" transform=\"translate(543.4200000000001,10)\"><rect class=\"bg\" shape-rendering=\"crispEdges\" width=\"97\" height=\"67\" x=\"0\" y=\"0\" style=\"stroke: rgb(68, 68, 68); stroke-opacity: 1; fill: rgb(255, 255, 255); fill-opacity: 1; stroke-width: 0px;\"/><g class=\"scrollbox\" transform=\"\" clip-path=\"url(#legend5a5289)\"><text class=\"legendtitletext\" text-anchor=\"start\" x=\"2\" y=\"18.2\" style=\"font-family: 'Open Sans', verdana, arial, sans-serif; font-size: 14px; fill: rgb(36, 36, 36); fill-opacity: 1; white-space: pre;\">Tree Status</text><g class=\"groups\" transform=\"\"><g class=\"traces\" transform=\"translate(0,32.7)\" style=\"opacity: 1;\"><text class=\"legendtext\" text-anchor=\"start\" x=\"40\" y=\"4.680000000000001\" style=\"font-family: 'Open Sans', verdana, arial, sans-serif; font-size: 12px; fill: rgb(36, 36, 36); fill-opacity: 1; white-space: pre;\">standing</text><g class=\"layers\" style=\"opacity: 1;\"><g class=\"legendfill\"/><g class=\"legendlines\"/><g class=\"legendsymbols\"><g class=\"legendpoints\"><path class=\"scatterpts\" transform=\"translate(20,0)\" d=\"M5,0A5,5 0 1,1 0,-5A5,5 0 0,1 5,0Z\" style=\"opacity: 0.4; stroke-width: 0px; fill: rgb(31, 119, 180); fill-opacity: 1;\"/></g></g></g><rect class=\"legendtoggle\" x=\"0\" y=\"-9.5\" width=\"91.625\" height=\"19\" style=\"fill: rgb(0, 0, 0); fill-opacity: 0;\"/></g></g><g class=\"groups\" transform=\"\"><g class=\"traces\" transform=\"translate(0,51.7)\" style=\"opacity: 1;\"><text class=\"legendtext\" text-anchor=\"start\" x=\"40\" y=\"4.680000000000001\" style=\"font-family: 'Open Sans', verdana, arial, sans-serif; font-size: 12px; fill: rgb(36, 36, 36); fill-opacity: 1; white-space: pre;\">fallen</text><g class=\"layers\" style=\"opacity: 1;\"><g class=\"legendfill\"/><g class=\"legendlines\"/><g class=\"legendsymbols\"><g class=\"legendpoints\"><path class=\"scatterpts\" transform=\"translate(20,0)\" d=\"M6.5,0L0,6.5L-6.5,0L0,-6.5Z\" style=\"opacity: 0.4; stroke-width: 0px; fill: rgb(255, 127, 14); fill-opacity: 1;\"/></g></g></g><rect class=\"legendtoggle\" x=\"0\" y=\"-9.5\" width=\"91.625\" height=\"19\" style=\"fill: rgb(0, 0, 0); fill-opacity: 0;\"/></g></g></g><rect class=\"scrollbar\" rx=\"20\" ry=\"3\" width=\"0\" height=\"0\" x=\"0\" y=\"0\" style=\"fill: rgb(128, 139, 164); fill-opacity: 1;\"/></g><g class=\"g-gtitle\"/><g class=\"g-xtitle\"><text class=\"xtitle\" x=\"298.5\" y=\"289.70625\" text-anchor=\"middle\" style=\"font-family: 'Open Sans', verdana, arial, sans-serif; font-size: 14px; fill: rgb(36, 36, 36); opacity: 1; font-weight: normal; white-space: pre;\">Tree Diameter (cm)</text></g><g class=\"g-ytitle\" transform=\"translate(3.8310546875,0)\"><text class=\"ytitle\" transform=\"rotate(-90,10.168750000000003,126)\" x=\"10.168750000000003\" y=\"126\" text-anchor=\"middle\" style=\"font-family: 'Open Sans', verdana, arial, sans-serif; font-size: 14px; fill: rgb(36, 36, 36); opacity: 1; font-weight: normal; white-space: pre;\">Local Strength of Storm</text></g></g></svg>"
      ]
     },
     "metadata": {},
     "output_type": "display_data"
    }
   ],
   "source": [
    "fig = px.scatter(trees,\n",
    "                 x=jitter(trees['diameter'], amt=0.5),\n",
    "                 y='storm', \n",
    "                 color='status',\n",
    "                 symbol='status',\n",
    "                 log_x=True,\n",
    "                 width=650,\n",
    "                 height=300)\n",
    "\n",
    "fig.update_traces(marker=dict(opacity=0.4, size=10))\n",
    "\n",
    "fig.update_layout(xaxis_title=\"Tree Diameter (cm)\",\n",
    "                  yaxis_title=\"Local Strength of Storm\",\n",
    "                  legend_title=\"Tree Status\")\n",
    "\n",
    "fig"
   ]
  },
  {
   "cell_type": "markdown",
   "metadata": {},
   "source": [
    "From this plot, it looks like both the tree diameter and the strength of the storm are related to windthrow: whether the tree was uprooted or left standing. Notice that windthrow, the feature we want to predict, is a nominal variable. In the next section, we'll consider how this impacts the prediction problem."
   ]
  },
  {
   "cell_type": "markdown",
   "metadata": {},
   "source": [
    " "
   ]
  }
 ],
 "metadata": {
  "kernelspec": {
   "display_name": "Python 3",
   "language": "python",
   "name": "python3"
  },
  "language_info": {
   "codemirror_mode": {
    "name": "ipython",
    "version": 3
   },
   "file_extension": ".py",
   "mimetype": "text/x-python",
   "name": "python",
   "nbconvert_exporter": "python",
   "pygments_lexer": "ipython3",
   "version": "3.9.4"
  },
  "toc": {
   "nav_menu": {},
   "number_sections": false,
   "sideBar": false,
   "skip_h1_title": false,
   "title_cell": "Table of Contents",
   "title_sidebar": "Contents",
   "toc_cell": true,
   "toc_position": {},
   "toc_section_display": true,
   "toc_window_display": false
  }
 },
 "nbformat": 4,
 "nbformat_minor": 4
}
