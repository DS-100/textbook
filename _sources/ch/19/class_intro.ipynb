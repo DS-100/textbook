{
 "cells": [
  {
   "cell_type": "markdown",
   "metadata": {},
   "source": [
    "(ch:logistic)=\n",
    "# Classification"
   ]
  },
  {
   "cell_type": "markdown",
   "metadata": {},
   "source": [
    "So far in this book we have studied how to fit a constant model using absolute error ({numref}`Chapter %s <ch:modeling>`), simple and multiple linear models using squared error ({numref}`Chapter %s <ch:linear>`). We have also fit linear models with an asymmetric squared loss function ({numrref}`Chapter %s <ch:donkey>`), and we have fitted models by regularizing squared error loss ({numref}`Chapter %s <ch:risk>`). In all of these cases we aimed to predict or explain the behavior of a numeric feature.\n",
    "\n",
    "In this chapter, we take a look at a different kind of modeling problem, where the feature that we are trying to explain or predict is not numeric, but is instead nominal. This is called classification, because we are trying to predict which category a record belongs to based on the values of other related features. This problem occurs widely in data science, where we might need to classify a credit card transaction as fraudulent or not, a tumor as benign or malignant, an email as spam or ham, and so on. \n",
    "\n",
    "Like with linear regression, we formulate models, choose a loss function, and assess the fitted model. Unlike the linear regression case, our model is not linear, the loss function is not squared error, and our assessment calculates different kinds of error rates. Despite these differences, the structure of model fitting carries over to this setting. Together, regression and classification compose the primary approaches for _supervised learning_, the general task of learning a model based on observed input-output pairs. \n",
    "\n",
    "We begin by introducing data and context that we will use as an example throughout this chapter.  "
   ]
  },
  {
   "cell_type": "code",
   "execution_count": null,
   "metadata": {},
   "outputs": [],
   "source": []
  }
 ],
 "metadata": {
  "kernelspec": {
   "display_name": "Python 3",
   "language": "python",
   "name": "python3"
  },
  "language_info": {
   "codemirror_mode": {
    "name": "ipython",
    "version": 3
   },
   "file_extension": ".py",
   "mimetype": "text/x-python",
   "name": "python",
   "nbconvert_exporter": "python",
   "pygments_lexer": "ipython3",
   "version": "3.9.4"
  }
 },
 "nbformat": 4,
 "nbformat_minor": 4
}
