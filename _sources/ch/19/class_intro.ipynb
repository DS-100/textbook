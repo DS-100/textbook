{
 "cells": [
  {
   "cell_type": "markdown",
   "metadata": {},
   "source": [
    "(ch:logistic)=\n",
    "# Classification"
   ]
  },
  {
   "cell_type": "markdown",
   "metadata": {},
   "source": [
    "Modeling is an important part of the data science life cycle. So far, we have described how to fit a constant model using absolute error ({numref}`Chapter %s <ch:modeling>`) and simple and multiple linear models using squared error ({numref}`Chapter %s <ch:linear>`). We have also fit linear models with an asymmetric loss function ({numref}`Chapter %s <ch:donkey>`) and with regularized loss ({numref}`Chapter %s <ch:risk>`). In all of these cases we aimed to predict or explain the behavior of a numeric feature.\n",
    "\n",
    "In this chapter, we look at a different kind of modeling, one where the feature that we are trying to explain or predict is not numeric, but nominal. This type of modeling is called *classification*. It occurs widely in data science, where we might need to classify, say, a credit card transaction as fraudulent or not, a tumor as benign or malignant, an email as spam or ham, and so on. \n",
    "\n",
    "Like with linear regression, we formulate a model, choose a loss function, fit the model by minimizing average loss for our data, and assess the fitted model. Unlike linear regression, our model is not linear, the loss function is not squared error, and our assessment compares different kinds of classification errors. Despite these differences, the structure of model fitting carries over to this setting. Together, regression and classification compose the primary approaches for _supervised learning_, the general task of learning a model based on observed outcomes and covariates. \n",
    "\n",
    "We begin by introducing an example that we use throughout this chapter.  "
   ]
  },
  {
   "cell_type": "code",
   "execution_count": null,
   "metadata": {},
   "outputs": [],
   "source": []
  }
 ],
 "metadata": {
  "kernelspec": {
   "display_name": "Python 3",
   "language": "python",
   "name": "python3"
  },
  "language_info": {
   "codemirror_mode": {
    "name": "ipython",
    "version": 3
   },
   "file_extension": ".py",
   "mimetype": "text/x-python",
   "name": "python",
   "nbconvert_exporter": "python",
   "pygments_lexer": "ipython3",
   "version": "3.9.4"
  }
 },
 "nbformat": 4,
 "nbformat_minor": 4
}
