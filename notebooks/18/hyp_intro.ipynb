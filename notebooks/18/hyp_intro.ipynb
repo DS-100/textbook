{
 "cells": [
  {
   "cell_type": "markdown",
   "metadata": {},
   "source": [
    "# Statistical Inference\n",
    "\n",
    "Although data scientists often work with individual samples of data, we are\n",
    "almost always interested in making generalizations about the population that\n",
    "the data were collected from. This chapter discusses methods for _statistical\n",
    "inference_, the process of drawing conclusions about a entire population using\n",
    "a dataset.\n",
    "\n",
    "Statistical inference primarily leans on two methods: hypothesis tests and\n",
    "confidence intervals. In the recent past these methods relied heavily on normal\n",
    "theory, a branch of statistics that requires substantial assumptions about the\n",
    "population. Today, the rapid rise of powerful computing resources has\n",
    "enabled a new class of methods based on _resampling_ that generalize to many\n",
    "types of populations.\n",
    "\n",
    "We first review inference using permutation tests and the bootstrap method. We\n",
    "then introduce bootstrap methods for regression inference and skewed\n",
    "distributions."
   ]
  }
 ],
 "metadata": {
  "kernelspec": {
   "display_name": "Python [default]",
   "language": "python",
   "name": "python3"
  },
  "language_info": {
   "codemirror_mode": {
    "name": "ipython",
    "version": 3
   },
   "file_extension": ".py",
   "mimetype": "text/x-python",
   "name": "python",
   "nbconvert_exporter": "python",
   "pygments_lexer": "ipython3",
   "version": "3.6.3"
  }
 },
 "nbformat": 4,
 "nbformat_minor": 2
}
