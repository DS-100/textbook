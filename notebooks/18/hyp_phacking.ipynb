{
 "cells": [
  {
   "cell_type": "code",
   "execution_count": null,
   "metadata": {
    "tags": [
     "hide_input"
    ]
   },
   "outputs": [],
   "source": [
    "# HIDDEN\n",
    "import warnings\n",
    "# Ignore numpy dtype warnings. These warnings are caused by an interaction\n",
    "# between numpy and Cython and can be safely ignored.\n",
    "# Reference: https://stackoverflow.com/a/40846742\n",
    "warnings.filterwarnings(\"ignore\", message=\"numpy.dtype size changed\")\n",
    "warnings.filterwarnings(\"ignore\", message=\"numpy.ufunc size changed\")\n",
    "\n",
    "import numpy as np\n",
    "import matplotlib.pyplot as plt\n",
    "import pandas as pd\n",
    "import seaborn as sns\n",
    "%matplotlib inline\n",
    "import ipywidgets as widgets\n",
    "from ipywidgets import interact, interactive, fixed, interact_manual\n",
    "import nbinteract as nbi\n",
    "\n",
    "sns.set()\n",
    "sns.set_context('talk')\n",
    "np.set_printoptions(threshold=20, precision=2, suppress=True)\n",
    "pd.options.display.max_rows = 7\n",
    "pd.options.display.max_columns = 8\n",
    "pd.set_option('precision', 2)\n",
    "# This option stops scientific notation for pandas\n",
    "# pd.set_option('display.float_format', '{:.2f}'.format)"
   ]
  },
  {
   "cell_type": "markdown",
   "metadata": {},
   "source": [
    "# P-hacking\n",
    "As we discussed, a p-value or probability value is the chance, based on the model in the null hypothesis, that the test statistic is equal to the value that was observed in the data or is even further in the direction of the alternative. If a p-value is small, that means the tail beyond the observed statistic is small and so the observed statistic is far away from what the null predicts. This implies that the data support the alternative hypothesis better than they support the null. By convention, when we see that the p-value is below 0.05, the result is called statistically significant, and we reject the null hypothesis.\n",
    "\n",
    "There are dangers that present itself when the p-value is misused. *P-hacking* is the act of misusing data analysis to show that patterns in data are statistically significant, when in reality they are not. This is often done by performing multiple tests on data and only focusing on the tests that return results that are significant. \n",
    "\n",
    "In this section, we will go over a few examples of the dangers of p-values and p-hacking."
   ]
  },
  {
   "cell_type": "markdown",
   "metadata": {},
   "source": [
    "## Multiple Hypothesis Testing\n"
   ]
  },
  {
   "cell_type": "markdown",
   "metadata": {},
   "source": [
    "One of the biggest dangers of blindly relying on the p-value to determine \"statistical significance\" comes when we are just trying to find the \"sexiest\" results that give us \"good\" p-values. This is commonly done when doing \"food frequency questionairres,\" or FFQs, to study eating habits' correlation with other characteristics (diseases, weight, religion, etc). \n",
    "FiveThirtyEight, an online blog that focuses on opinion poll analysis among other things, made their own FFQ, and we can use their data to run our own analysis to find some silly results that can be considered \"statistically significant.\""
   ]
  },
  {
   "cell_type": "code",
   "execution_count": 45,
   "metadata": {
    "collapsed": true
   },
   "outputs": [],
   "source": [
    "data = pd.read_csv('raw_anonymized_data.csv')\n",
    "# Do some EDA on the data so that categorical values get changed to 1s and 0s\n",
    "data.replace('Yes', 1, inplace=True)\n",
    "data.replace('Innie', 1, inplace=True)\n",
    "data.replace('No', 0, inplace=True)\n",
    "data.replace('Outie', 0, inplace=True)\n",
    "\n",
    "# These are some of the columns that give us characteristics of FFQ-takers\n",
    "characteristics = ['cat', 'dog', 'right_hand', 'left_hand']\n",
    "\n",
    "# These are some of the columns that give us the quantities/frequencies of different food the FFQ-takers ate\n",
    "ffq = ['EGGROLLQUAN', 'SHELLFISHQUAN', 'COFFEEDRINKSFREQ']"
   ]
  },
  {
   "cell_type": "markdown",
   "metadata": {},
   "source": [
    "We will look specifically whether people own cats, dogs, or what handedness they are."
   ]
  },
  {
   "cell_type": "code",
   "execution_count": 46,
   "metadata": {},
   "outputs": [
    {
     "data": {
      "text/html": [
       "<div>\n",
       "<style>\n",
       "    .dataframe thead tr:only-child th {\n",
       "        text-align: right;\n",
       "    }\n",
       "\n",
       "    .dataframe thead th {\n",
       "        text-align: left;\n",
       "    }\n",
       "\n",
       "    .dataframe tbody tr th {\n",
       "        vertical-align: top;\n",
       "    }\n",
       "</style>\n",
       "<table border=\"1\" class=\"dataframe\">\n",
       "  <thead>\n",
       "    <tr style=\"text-align: right;\">\n",
       "      <th></th>\n",
       "      <th>cat</th>\n",
       "      <th>dog</th>\n",
       "      <th>right_hand</th>\n",
       "      <th>left_hand</th>\n",
       "    </tr>\n",
       "  </thead>\n",
       "  <tbody>\n",
       "    <tr>\n",
       "      <th>0</th>\n",
       "      <td>0</td>\n",
       "      <td>0</td>\n",
       "      <td>1</td>\n",
       "      <td>0</td>\n",
       "    </tr>\n",
       "    <tr>\n",
       "      <th>1</th>\n",
       "      <td>0</td>\n",
       "      <td>0</td>\n",
       "      <td>1</td>\n",
       "      <td>0</td>\n",
       "    </tr>\n",
       "    <tr>\n",
       "      <th>2</th>\n",
       "      <td>0</td>\n",
       "      <td>1</td>\n",
       "      <td>1</td>\n",
       "      <td>0</td>\n",
       "    </tr>\n",
       "    <tr>\n",
       "      <th>3</th>\n",
       "      <td>0</td>\n",
       "      <td>0</td>\n",
       "      <td>1</td>\n",
       "      <td>0</td>\n",
       "    </tr>\n",
       "    <tr>\n",
       "      <th>4</th>\n",
       "      <td>0</td>\n",
       "      <td>0</td>\n",
       "      <td>1</td>\n",
       "      <td>0</td>\n",
       "    </tr>\n",
       "  </tbody>\n",
       "</table>\n",
       "</div>"
      ],
      "text/plain": [
       "   cat  dog  right_hand  left_hand\n",
       "0    0    0           1          0\n",
       "1    0    0           1          0\n",
       "2    0    1           1          0\n",
       "3    0    0           1          0\n",
       "4    0    0           1          0"
      ]
     },
     "execution_count": 46,
     "metadata": {},
     "output_type": "execute_result"
    }
   ],
   "source": [
    "data[characteristics].head()"
   ]
  },
  {
   "cell_type": "markdown",
   "metadata": {},
   "source": [
    "Additionally, we will look at how much shellfish, eggrolls, and coffee people consumed."
   ]
  },
  {
   "cell_type": "code",
   "execution_count": 47,
   "metadata": {},
   "outputs": [
    {
     "data": {
      "text/html": [
       "<div>\n",
       "<style>\n",
       "    .dataframe thead tr:only-child th {\n",
       "        text-align: right;\n",
       "    }\n",
       "\n",
       "    .dataframe thead th {\n",
       "        text-align: left;\n",
       "    }\n",
       "\n",
       "    .dataframe tbody tr th {\n",
       "        vertical-align: top;\n",
       "    }\n",
       "</style>\n",
       "<table border=\"1\" class=\"dataframe\">\n",
       "  <thead>\n",
       "    <tr style=\"text-align: right;\">\n",
       "      <th></th>\n",
       "      <th>EGGROLLQUAN</th>\n",
       "      <th>SHELLFISHQUAN</th>\n",
       "      <th>COFFEEDRINKSFREQ</th>\n",
       "    </tr>\n",
       "  </thead>\n",
       "  <tbody>\n",
       "    <tr>\n",
       "      <th>0</th>\n",
       "      <td>1</td>\n",
       "      <td>3</td>\n",
       "      <td>2</td>\n",
       "    </tr>\n",
       "    <tr>\n",
       "      <th>1</th>\n",
       "      <td>1</td>\n",
       "      <td>2</td>\n",
       "      <td>3</td>\n",
       "    </tr>\n",
       "    <tr>\n",
       "      <th>2</th>\n",
       "      <td>2</td>\n",
       "      <td>3</td>\n",
       "      <td>3</td>\n",
       "    </tr>\n",
       "    <tr>\n",
       "      <th>3</th>\n",
       "      <td>3</td>\n",
       "      <td>2</td>\n",
       "      <td>1</td>\n",
       "    </tr>\n",
       "    <tr>\n",
       "      <th>4</th>\n",
       "      <td>2</td>\n",
       "      <td>2</td>\n",
       "      <td>2</td>\n",
       "    </tr>\n",
       "  </tbody>\n",
       "</table>\n",
       "</div>"
      ],
      "text/plain": [
       "   EGGROLLQUAN  SHELLFISHQUAN  COFFEEDRINKSFREQ\n",
       "0            1              3                 2\n",
       "1            1              2                 3\n",
       "2            2              3                 3\n",
       "3            3              2                 1\n",
       "4            2              2                 2"
      ]
     },
     "execution_count": 47,
     "metadata": {},
     "output_type": "execute_result"
    }
   ],
   "source": [
    "data[ffq].head()"
   ]
  },
  {
   "cell_type": "markdown",
   "metadata": {},
   "source": [
    "So now we can calculate the p-value for every pair of characteristic and food frequency/quantity features. "
   ]
  },
  {
   "cell_type": "code",
   "execution_count": 52,
   "metadata": {
    "collapsed": true,
    "tags": [
     "hide_input"
    ]
   },
   "outputs": [],
   "source": [
    "# HIDDEN\n",
    "def findpvalue(data, c, f):\n",
    "    return stat.pearsonr(data[c].tolist(), data[f].tolist())[1]"
   ]
  },
  {
   "cell_type": "code",
   "execution_count": 57,
   "metadata": {},
   "outputs": [
    {
     "data": {
      "text/plain": [
       "{('cat', 'EGGROLLQUAN'): 0.69295273146288583,\n",
       " ('cat', 'SHELLFISHQUAN'): 0.39907214094767007,\n",
       " ('cat', 'COFFEEDRINKSFREQ'): 0.0016303467897390215,\n",
       " ('dog', 'EGGROLLQUAN'): 2.8476184473490123e-05,\n",
       " ('dog', 'SHELLFISHQUAN'): 0.14713568495622972,\n",
       " ('dog', 'COFFEEDRINKSFREQ'): 0.3507350497291003,\n",
       " ('right_hand', 'EGGROLLQUAN'): 0.20123440208411372,\n",
       " ('right_hand', 'SHELLFISHQUAN'): 0.00020312599063263847,\n",
       " ('right_hand', 'COFFEEDRINKSFREQ'): 0.48693234457564749,\n",
       " ('left_hand', 'EGGROLLQUAN'): 0.75803051153936374,\n",
       " ('left_hand', 'SHELLFISHQUAN'): 0.00035282554635466211,\n",
       " ('left_hand', 'COFFEEDRINKSFREQ'): 0.1692235856830212}"
      ]
     },
     "execution_count": 57,
     "metadata": {},
     "output_type": "execute_result"
    }
   ],
   "source": [
    "# Calculate the p value between every characteristic and food frequency/quantity pair\n",
    "pvalues = {}\n",
    "for c in characteristics:\n",
    "    for f in ffq:\n",
    "        pvalues[(c,f)] = findpvalue(data, c, f)\n",
    "pvalues"
   ]
  },
  {
   "cell_type": "markdown",
   "metadata": {
    "collapsed": true
   },
   "source": [
    "Our study finds that:\n",
    "\n",
    "|Eating/Drinking|is linked to:|P-value|\n",
    "|---------------|-------------|-------|\n",
    "|Egg rolls      |Dog ownership|<0.0001|\n",
    "|Shellfish      |Right-handedness|0.0002|\n",
    "|Shellfish      |Left-handedness|0.0004|\n",
    "|Coffee         |Cat ownership|0.0016|\n",
    "\n",
    "Clearly this is flawed! Aside from the fact that some of these correlations seem to make no sense, we also found that shellfish is linked to both right and left handedness! Because we blindly tested all columns against each other for statistical significance, we were able to just choose whatever pairs gave us \"statistically significant\" results. This shows the dangers of blindly following the p-value without a care for proper experimental design."
   ]
  },
  {
   "cell_type": "markdown",
   "metadata": {},
   "source": [
    "## A/B Testing\n",
    "A/B testing is a very simple concept. We measure a statistic in a normal, controlled environment (we'll call this A), and then we compare that to the same statistic in an environment with *one* change. This form of testing is used frequently in marketing and ad research to compare the effectiveness of certain features of ads. \n",
    "\n",
    "Let's say we are working for a company whose website lets users make their own custom videogames. The company has a free version, which lets users make very basic videogames, and a paid version, which gives users access to more advanced tools for making videogames. When a user has finished making a videogame via a free account, we send them to a landing page that gives them the option to sign up for a paid account. Our measured statistic in this case would be how many free users sign up for a paid account upon reaching this page. We can send half of our users one version of the page, which may have text explaining in detail the benefits of the paid account (this will be version A), and the other half of our users will get another version of the page, which may have a colorful graphic that explains some of the benefits of the paid account (this will be version B). \n",
    "\n",
    "There is a very specific reason why it's called A/B testing, and not A/B/C/D... testing. That is because we can very easily run into problems if we try to test multiple versions at the same time. \n",
    "\n",
    "Let's say that we have 15 different sign up pages (one is the control, in this case \"A\"), each with something different about them (one has a picture of a puppy, one has a quote from a customer, one has a graphic, etc.), and let's say that in this case, none of our variations actually has an effect on user interaction (so we can use a Gaussian distribution with a mean of 0 and a std of 0.1)."
   ]
  },
  {
   "cell_type": "code",
   "execution_count": 101,
   "metadata": {
    "collapsed": true,
    "tags": [
     "hide_input"
    ]
   },
   "outputs": [],
   "source": [
    "# HIDDEN\n",
    "n = 50\n",
    "reps = 1000\n",
    "num_pages = 15\n",
    "np.random.seed(11)\n",
    "def permute(A, B):\n",
    "    combined = np.append(A, B)\n",
    "    shuffled = np.random.choice(combined, size=len(combined), replace=False)\n",
    "    return shuffled[:n], shuffled[n:]\n",
    "\n",
    "def permutedpvalue(A, B):\n",
    "    obs = test_stat(A, B)\n",
    "    resampled = [test_stat(*permute(A, B)) for _ in range(reps)]\n",
    "    return np.count_nonzero(obs >= resampled) / reps"
   ]
  },
  {
   "cell_type": "code",
   "execution_count": 102,
   "metadata": {},
   "outputs": [
    {
     "name": "stdout",
     "output_type": "stream",
     "text": [
      "[0.732, 0.668, 0.037, 0.245, 0.717, 0.256, 0.683, 0.654, 0.43, 0.503, 0.897, 0.868, 0.328, 0.044]\n"
     ]
    }
   ],
   "source": [
    "n = 50\n",
    "reps = 1000\n",
    "num_pages = 15\n",
    "# This will represent percentage of users that make a paid account from the landing page\n",
    "# Note that all pages have no effect, so they all just have a base 10% of interactions.\n",
    "landing_pages = [np.random.normal(0.1, 0.01, n) for _ in range(num_pages)]\n",
    "\n",
    "# This will be our \"control\"\n",
    "A = landing_pages[0]\n",
    "\n",
    "# Our test statistic will be the difference between the mean percentage \n",
    "def test_stat(A, B):\n",
    "    return np.abs(np.mean(B) - np.mean(A))\n",
    "\n",
    "p_vals = []\n",
    "for i in range(1, num_pages):\n",
    "    # We test against each of the non-control landing pages\n",
    "    B = landing_pages[i]\n",
    "    p_val = permutedpvalue(A, B)\n",
    "    p_vals.append(p_val)\n",
    "print(p_vals)"
   ]
  },
  {
   "cell_type": "code",
   "execution_count": 103,
   "metadata": {},
   "outputs": [
    {
     "data": {
      "image/png": "[encoded data removed]",
      "text/plain": [
       "<matplotlib.figure.Figure at 0x10fa38ba8>"
      ]
     },
     "metadata": {},
     "output_type": "display_data"
    }
   ],
   "source": [
    "sns.distplot(p_vals, bins=8, kde=False)\n",
    "plt.xlim((0,1))\n",
    "plt.show()"
   ]
  },
  {
   "cell_type": "markdown",
   "metadata": {},
   "source": [
    "As we can see, more than one of these ads seems to have p-values less than 0.05, despite our knowing that there actually no difference between the pages. This is why we do single A/B testing with multiple trials, as opposed to multiple hypothesis testing with only single trials. It is too easy for a p-value to give us a false positive if we just try a bunch of times."
   ]
  },
  {
   "cell_type": "markdown",
   "metadata": {},
   "source": [
    "## Many Tests for One Phenomenon\n",
    "Sometimes, multiple testing can happen by accident. If many researchers are investigating the same phenomenon at the same time, then it's very possible that one of the researchers can end up with a lucky trial. That is exactly what happened during the 2010 World Cup."
   ]
  },
  {
   "cell_type": "markdown",
   "metadata": {
    "collapsed": true
   },
   "source": [
    "### Paul the Octopus\n",
    "\n",
    "Paul the Octopus was a common octopus who lived in a Sea Life Centre in Oberhausen, Germany. He is most well known for correctly guessing all seven soccer matches Germany played during the 2010 World Cup, as well as the final match, which was between Netherlands and Spain. \n",
    "\n",
    "Before a match was played, Paul's owners would place two boxes in his tank containing food, each box labeled with a different flag of the opposing countries. Whichever box Paul chose to eat from first was considered his prediction for the outcome of the match. "
   ]
  },
  {
   "cell_type": "markdown",
   "metadata": {},
   "source": [
    "<img src=\"https://news.bbcimg.co.uk/media/images/49659000/jpg/_49659323_octopus.jpg\" width=\"400\" />"
   ]
  },
  {
   "cell_type": "markdown",
   "metadata": {},
   "source": [
    "So why was Paul so good at predicting the outcome of these matches? Was he actually psychic, or was he just lucky? We might ask what’s the chance he got all of the predictions correct, assuming he was just “guessing”?\n",
    "\n",
    "Paul correctly predicted 8 of the 2010 World Cup games, each time he had a 1/2 chance of making the correct prediction. The one way to get all 8 matches correct out of 8 is:\n",
    "$$(1/2)^8 = 1/256$$\n",
    "\n",
    "So was he actually psychic? Or is there something more to uncover?"
   ]
  },
  {
   "cell_type": "markdown",
   "metadata": {},
   "source": [
    "Turns out, there were tons of animals (some of them in the same zoo as Paul!) doing the same thing, trying to guess the outcome of their respective home countries' matches, including:\n",
    "- Mani the Parakeet, from Singapore\n",
    "- Leon the Porcupine, from Germany\n",
    "- Petty the Pygmy Hippopotamus, from Germany\n",
    "- Otto Armstrong the Octopus, from Germany\n",
    "- Anton the Tamarin, from Germany\n",
    "- Jimmy the Peruvian Guinea Pig, from Germany\n",
    "- Xiaoge the Octopus, from China\n",
    "- Pauline the Octopus, from the Netherlands\n",
    "- Pino the Chimpanzee, from Estonia\n",
    "- Apelsin the Red River Hog, from Estonia\n",
    "- Harry the Crocodile, from Australia\n",
    "None of whom got them all right (although Mani the Parakeet got 7 matches out of 8 right)."
   ]
  },
  {
   "cell_type": "markdown",
   "metadata": {},
   "source": [
    "Some might argue that getting them all wrong would also be remarkable. So what are the chances that at least one of the 12 animals would get either all right or all wrong? \n",
    "\n",
    "We can use simple probability to figure this out. We have 12 trials (in this case, animals), where each independent trial has a $2*(1/2)^8 = 1/128$ chance of getting all predictions right or wrong. So what is the probability of having *at least* one success? That's $1 - P_{all \\textrm{ }failures} = 1 - (127/128)^{12} = 1 - 0.910 = 0.090$"
   ]
  },
  {
   "cell_type": "markdown",
   "metadata": {},
   "source": [
    "We have an 9% chance of getting an animal that will select all of the right predictions, and that's not including all of the animals in the world that were also doing these \"predictions.\" That's not that rare - it's the dangers of multiple testing that caused this \"phenomenon.\" This one octopus out of many different animals in the world happened to have guessed all of the right predictions, and the popularity of the situation caused it to become magical.\n",
    "\n",
    "To those of you wondering if it really was luck, it has been shown that the species *Octopus vulgaris* is actually colorblind, and some believe that octopuses are drawn to horizontal shapes, hence Paul's decision to choose Germany, except when playing against Spain and Serbia."
   ]
  },
  {
   "cell_type": "markdown",
   "metadata": {},
   "source": [
    "In the end, we know that studies are more trustworthy when they are replicated. Data scientists should try to avoid cases like Paul the Octopus's where there has only been one real case of the animal correctly predicting a bunch of World Cup matches in a row. Only when we see him doing that for multiple soccer tournaments should we start looking at the data."
   ]
  },
  {
   "cell_type": "markdown",
   "metadata": {},
   "source": [
    "## P-Hacking is just the tip of the iceberg\n",
    "\n",
    "As it turns out, p-hacking isn't the only thing data scientists and statisticians have to worry about when making sound inferences from data. There are many stages to the design and analysis of a successful study, as shown below (from Leek & Peng's *P values are just the tip of the iceberg*)."
   ]
  },
  {
   "cell_type": "markdown",
   "metadata": {},
   "source": [
    "<img src='https://www.nature.com/polopoly_fs/7.25671.1429983882!/image/P1.jpg_gen/derivatives/landscape_300/P1.jpg'>"
   ]
  },
  {
   "cell_type": "markdown",
   "metadata": {},
   "source": [
    "As shown, the last step of the whole \"data pipeline\" is the calculation of an inferential statistic like the p-value, and having a rule applied to it (e.g. p > 0.05). But there are many other decisions that are made beforehand, like experimental design or EDA, that can have much greater effects on the results - mistakes like simple rounding or measurement errors, choosing the wrong model, or not taking into account confounding factors can change everything. By changing the way data are cleaned, summarized, or modeled, we can achieve arbitrary levels of statistical significance.\n",
    "\n",
    "A simple example of this would be in the case of rolling a pair of dice and getting two 6s. If we were to take a null hypothesis that the dice are fair and not weighted, and take our test statistic to be the sum of the dice, we will find that the p-value of this outcome will be 1/36 or 0.028, and gives us statistically signficant results that the dice are fair. But obviously, a single roll is not nearly enough rolls to provide us with good evidence to say whether the results are statistically significant or not, and shows that blindly applying the p-value without properly designing a good experiment can result in bad results.\n",
    "\n",
    "In the end, what is most important is education on the subject of safe hypothesis testing, and making sure you don't fall into the follies of poor statistical decisions."
   ]
  }
 ],
 "metadata": {
  "kernelspec": {
   "display_name": "Python 3",
   "language": "python",
   "name": "python3"
  },
  "language_info": {
   "codemirror_mode": {
    "name": "ipython",
    "version": 3
   },
   "file_extension": ".py",
   "mimetype": "text/x-python",
   "name": "python",
   "nbconvert_exporter": "python",
   "pygments_lexer": "ipython3",
   "version": "3.6.1"
  }
 },
 "nbformat": 4,
 "nbformat_minor": 2
}
