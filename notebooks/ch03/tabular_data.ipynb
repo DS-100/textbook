{
 "cells": [
  {
   "cell_type": "markdown",
   "metadata": {},
   "source": [
    "# Working with Tabular Data\n",
    "\n",
    "Tabular data, like the datasets we have worked with in Data 8, are one of the\n",
    "most common and useful forms of data for analysis. We introduce tabular data\n",
    "manipulation using `pandas`, the standard Python library for working with\n",
    "tabular data. Although `pandas`'s syntax is more challenging to use than the\n",
    "`datascience` package used in Data 8, `pandas` provides significant performance\n",
    "improvements and is the current tool of choice in both industry and academia\n",
    "for working with tabular data.\n",
    "\n",
    "It is more important that you understand the types of useful operations on data\n",
    "than the exact details of `pandas` syntax. For example, knowing when to use a\n",
    "group or a join is more useful than knowing how to call the `pandas` function\n",
    "to group data. It is relatively easy to look up the function you need once you\n",
    "know the right operation to use. All of the table manipulations in this chapter\n",
    "will also appear again in a new syntax when we cover SQL, so it will help you\n",
    "to understand them now.\n",
    "\n",
    "Because we will cover only the most important `pandas` functions in this\n",
    "textbook, you should bookmark the [`pandas` documentation][docs] for reference\n",
    "when you conduct your own data analyses.\n",
    "\n",
    "[docs]: http://pandas.pydata.org/pandas-docs/stable/\n"
   ]
  }
 ],
 "metadata": {},
 "nbformat": 4,
 "nbformat_minor": 2
}
