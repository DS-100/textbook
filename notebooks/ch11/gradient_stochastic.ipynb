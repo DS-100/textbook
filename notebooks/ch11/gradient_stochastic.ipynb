{
 "cells": [
  {
   "cell_type": "code",
   "execution_count": 1,
   "metadata": {
    "ExecuteTime": {
     "end_time": "2018-07-01T02:31:00.456022Z",
     "start_time": "2018-07-01T02:30:59.375214Z"
    }
   },
   "outputs": [],
   "source": [
    "# HIDDEN\n",
    "import numpy as np\n",
    "import matplotlib.pyplot as plt\n",
    "import pandas as pd\n",
    "import seaborn as sns\n",
    "%matplotlib inline\n",
    "import ipywidgets as widgets\n",
    "from ipywidgets import interact, interactive, fixed, interact_manual\n",
    "import nbinteract as nbi\n",
    "\n",
    "sns.set()\n",
    "sns.set_context('talk')\n",
    "np.set_printoptions(threshold=20, precision=2, suppress=True)\n",
    "np.random.seed(42)\n",
    "pd.options.display.max_rows = 7\n",
    "pd.options.display.max_columns = 8\n",
    "pd.set_option('precision', 2)"
   ]
  },
  {
   "cell_type": "code",
   "execution_count": 2,
   "metadata": {
    "ExecuteTime": {
     "end_time": "2018-07-01T02:31:00.477580Z",
     "start_time": "2018-07-01T02:31:00.458326Z"
    }
   },
   "outputs": [],
   "source": [
    "# HIDDEN\n",
    "tips = sns.load_dataset('tips')\n",
    "tips['pcttip'] = tips['tip'] / tips['total_bill'] * 100"
   ]
  },
  {
   "cell_type": "code",
   "execution_count": 3,
   "metadata": {
    "ExecuteTime": {
     "end_time": "2018-07-01T02:31:00.485741Z",
     "start_time": "2018-07-01T02:31:00.481061Z"
    }
   },
   "outputs": [],
   "source": [
    "# HIDDEN\n",
    "def mse_loss(theta, y_vals):\n",
    "    return np.mean((y_vals - theta) ** 2)\n",
    "\n",
    "def grad_mse_loss(theta, y_vals):\n",
    "    return -2 * np.mean(y_vals - theta)"
   ]
  },
  {
   "cell_type": "markdown",
   "metadata": {},
   "source": [
    "## A Brief Review\n",
    "\n",
    "We initially modeled the tips dataset by heuristically calculating the $\\hat\\theta$ that minimized the MSE loss function, $L(\\hat\\theta, y) = \\frac{1}{n} \\sum_{i=1}^{n}(y_i - \\hat\\theta)^2$. This involved taking the derivative of the MSE, setting it to zero, and solving for $\\hat\\theta$. We found that the MSE-minimizing $\\hat\\theta$ value was simply the mean of the $y$ values in our dataset.\n",
    "\n",
    "But for more complicated models and loss functions, there may not be simple algebraic expressions that yield the loss-minimizing $\\hat\\theta$ values. Our solution was a new method called gradient descent, which iteratively updates $\\hat\\theta$ until it doesn't change between iterations. To complete an iteration of gradient descent, we calculate the following:\n",
    "\n",
    "$$\n",
    "\\hat\\theta_{t+1} = \\hat\\theta_t - \\alpha \\cdot \\nabla_{\\hat\\theta} L(\\hat\\theta, y)\n",
    "$$\n",
    "\n",
    "In this equation:\n",
    "- $\\hat\\theta_{t}$ is our current estimate of $\\theta$ at the $t$th iteration\n",
    "- $\\alpha$ is the learning rate\n",
    "- $\\nabla_{\\hat\\theta} L(\\hat\\theta, y)$ is the gradient of the loss function\n",
    "- We compute the next estimate $\\hat\\theta_{t+1}$ by subtracting the product of $\\alpha$ and $\\nabla_{\\hat\\theta} L(\\hat\\theta, y)$ computed at $\\hat\\theta_{t}$"
   ]
  },
  {
   "cell_type": "markdown",
   "metadata": {},
   "source": [
    "## Limitations of Gradient Descent\n",
    "\n",
    "Often, we calculate $\\nabla_{\\hat\\theta}L(\\hat\\theta, y)$ using the average gradient of the loss function $l(\\hat\\theta, y_i)$ across the entire dataset as a single batch. For this reason, this gradient update rule is often referred to as **batch gradient descent**.\n",
    "\n",
    "For example, the gradient of the MSE loss first requires us to find the gradient of the squared loss, $\\nabla_{\\hat\\theta} l(\\hat\\theta, y_i) = -2 (y_i - \\hat\\theta)$, for each of the $n$ observations in our dataset. We then compute the average of these results. This is shown below:\n",
    "\n",
    "$$\n",
    "\\begin{align}\n",
    "\\nabla_{\\hat\\theta} L(\\hat\\theta, y) &= -\\frac{2}{n} \\sum_{i=1}^{n}(y_i - \\hat\\theta) \\\\\n",
    "&= \\frac{1}{n} \\sum_{i=1}^{n}-2(y_i - \\hat\\theta) \\\\\n",
    "&= \\frac{1}{n} \\sum_{i=1}^{n} \\nabla_{\\hat\\theta} l(\\hat\\theta, y_i)\n",
    "\\end{align}\n",
    "$$\n",
    "\n",
    "\n",
    "\n",
    "This process is then repeated at each iteration $t$ of the gradient descent algorithm. For large $n$, this can become a computationally expensive problem to solve."
   ]
  },
  {
   "cell_type": "markdown",
   "metadata": {},
   "source": [
    "## Stochastic Gradient Descent\n",
    "\n",
    "To circumvent the difficulty of computing a gradient across the entire training set, **stochastic gradient descent** approximates the overall gradient using a single randomly chosen data point. Since the observation is chosen randomly, we expect that using the gradient at each individual observation will eventually converge the algorithm to the same parameters as batch gradient descent. The general update formula for stochastic gradient descent is below, where $l(\\hat\\theta, y_i)$ is the loss function for a single data point:\n",
    "\n",
    "$$\n",
    "\\hat\\theta_{t+1} = \\hat\\theta_t - \\alpha \\nabla_\\hat\\theta l(\\hat\\theta, y_i)\n",
    "$$\n",
    "\n",
    "Returning back to our example using the MSE, we approximate the gradient of the mean squared error using the gradient of the squared loss of one data point. \n",
    "\n",
    "$$\n",
    "\\begin{align}\n",
    "\\nabla_{\\hat\\theta}L(\\hat\\theta, y) &\\approx \\nabla_{\\hat\\theta} l(\\hat\\theta, y_i) \\\\\n",
    "&= -2(y_i - \\hat\\theta)\n",
    "\\end{align}\n",
    "$$\n",
    "\n",
    "Stochastic gradient descent relies on the random selection of individual observations. This is statistically founded since the randomness means that $E[\\nabla_{\\hat\\theta}l(\\hat\\theta, y_i)] = \\nabla_{\\hat\\theta}L(\\hat\\theta, y)$. In practice, we choose these random data points by shuffling the training data and iteratively selecting from the shuffled data. An iteration through all $n$ observations of the shuffled data is called an **epoch**; at the end of every epoch, we re-shuffle the data to ensure that the model sees data points in an arbitrary order."
   ]
  },
  {
   "cell_type": "markdown",
   "metadata": {},
   "source": [
    "### Visualizing Stochastic Gradient Descent\n",
    "\n",
    "Below are visual examples of loss minimization in batch gradient descent and stochastic gradient descent.\n",
    "\n",
    "![](gd.png)\n",
    "![](sgd.png)\n",
    "\n",
    "At each iteration of batch gradient descent, we move in the direction of the true gradient of the loss function, which is depicted by the ellipses. On the other hand, each iteration of stochastic gradient descent may not lead us in the direction of the true gradient; however, the $\\hat\\theta$ parameters eventually converge to the minima of the loss function. Although stochastic gradient descent typically takes more iterations to converge than batch gradient descent, it often converges more quickly because it spends significantly less time computing the update at each iteration."
   ]
  },
  {
   "cell_type": "code",
   "execution_count": 4,
   "metadata": {
    "ExecuteTime": {
     "end_time": "2018-07-01T02:31:00.494127Z",
     "start_time": "2018-07-01T02:31:00.488615Z"
    }
   },
   "outputs": [],
   "source": [
    "##### 4 TEMPORARY CELLS BELOW TO TEST OUT %%TIME FOR BATCH GRADIENT DESCENT."
   ]
  },
  {
   "cell_type": "code",
   "execution_count": 5,
   "metadata": {
    "ExecuteTime": {
     "end_time": "2018-07-01T02:31:00.504943Z",
     "start_time": "2018-07-01T02:31:00.497827Z"
    }
   },
   "outputs": [],
   "source": [
    "def minimize(loss_fn, grad_loss_fn, dataset, alpha=0.2, progress=True):\n",
    "    '''\n",
    "    Uses gradient descent to minimize loss_fn. Returns the minimizing value of\n",
    "    theta once theta changes less than 0.001 between iterations.\n",
    "    '''\n",
    "    theta = 0\n",
    "    while True:\n",
    "        if progress:\n",
    "            print(f'theta: {theta:.2f} | loss: {loss_fn(theta, dataset):.2f}')\n",
    "        gradient = grad_loss_fn(theta, dataset)\n",
    "        new_theta = theta - alpha * gradient\n",
    "        \n",
    "        if abs(new_theta - theta) < 0.001:\n",
    "            return new_theta\n",
    "        \n",
    "        theta = new_theta"
   ]
  },
  {
   "cell_type": "code",
   "execution_count": 6,
   "metadata": {
    "ExecuteTime": {
     "end_time": "2018-07-01T02:31:00.516330Z",
     "start_time": "2018-07-01T02:31:00.509437Z"
    }
   },
   "outputs": [],
   "source": [
    "# defining sets of sample_data and entire_data to test out gd, sgd, mbgd\n",
    "sample_data = np.array([12.1, 12.8, 14.9, 16.3, 17.2])\n",
    "entire_data = np.array(tips['pcttip'])"
   ]
  },
  {
   "cell_type": "code",
   "execution_count": 7,
   "metadata": {
    "ExecuteTime": {
     "end_time": "2018-07-01T02:31:00.528277Z",
     "start_time": "2018-07-01T02:31:00.518830Z"
    }
   },
   "outputs": [
    {
     "data": {
      "text/plain": [
       "16.08025817225047"
      ]
     },
     "execution_count": 7,
     "metadata": {},
     "output_type": "execute_result"
    }
   ],
   "source": [
    "# This yields the correct theta that the algorithm should converge to.\n",
    "np.mean(entire_data)"
   ]
  },
  {
   "cell_type": "code",
   "execution_count": 8,
   "metadata": {
    "ExecuteTime": {
     "end_time": "2018-07-01T02:31:00.544092Z",
     "start_time": "2018-07-01T02:31:00.531324Z"
    }
   },
   "outputs": [
    {
     "name": "stdout",
     "output_type": "stream",
     "text": [
      "theta: 0.00 | loss: 295.72\n",
      "theta: 6.43 | loss: 130.23\n",
      "theta: 10.29 | loss: 70.66\n",
      "theta: 12.61 | loss: 49.21\n",
      "theta: 14.00 | loss: 41.49\n",
      "theta: 14.83 | loss: 38.71\n",
      "theta: 15.33 | loss: 37.71\n",
      "theta: 15.63 | loss: 37.35\n",
      "theta: 15.81 | loss: 37.22\n",
      "theta: 15.92 | loss: 37.17\n",
      "theta: 15.98 | loss: 37.15\n",
      "theta: 16.02 | loss: 37.15\n",
      "theta: 16.05 | loss: 37.15\n",
      "theta: 16.06 | loss: 37.15\n",
      "theta: 16.07 | loss: 37.15\n",
      "theta: 16.07 | loss: 37.15\n",
      "theta: 16.08 | loss: 37.15\n",
      "theta: 16.08 | loss: 37.15\n",
      "theta: 16.08 | loss: 37.15\n",
      "CPU times: user 15.6 ms, sys: 0 ns, total: 15.6 ms\n",
      "Wall time: 1.75 ms\n"
     ]
    },
    {
     "data": {
      "text/plain": [
       "16.07927830605656"
      ]
     },
     "execution_count": 8,
     "metadata": {},
     "output_type": "execute_result"
    }
   ],
   "source": [
    "%%time\n",
    "minimize(mse_loss, grad_mse_loss, entire_data)"
   ]
  },
  {
   "cell_type": "markdown",
   "metadata": {},
   "source": [
    "### Defining a Function for Stochastic Gradient Descent\n",
    "\n",
    "As we previously did for batch gradient descent, we would like to define a function that computes the stochastic gradient descent of the loss function. It will be similar to our `minimize` function, but we will need to implement the random selection of one observation at each iteration."
   ]
  },
  {
   "cell_type": "code",
   "execution_count": 9,
   "metadata": {
    "ExecuteTime": {
     "end_time": "2018-07-01T02:31:00.560220Z",
     "start_time": "2018-07-01T02:31:00.546162Z"
    }
   },
   "outputs": [],
   "source": [
    "def minimize_sgd(loss_fn, grad_loss_fn, dataset, alpha=0.2, progress=True):\n",
    "    \"\"\"\n",
    "    Uses stochastic gradient descent to minimize loss_fn.\n",
    "    Returns the minimizing value of theta once theta changes\n",
    "    less than 0.001 between iterations.\n",
    "    \"\"\"\n",
    "    NUM_OBS = len(dataset)\n",
    "    theta = 0\n",
    "    np.random.shuffle(dataset)\n",
    "    while True:\n",
    "        for i in range(0, NUM_OBS, 1):\n",
    "            if progress:\n",
    "                print(f'theta: {theta:.2f} | loss: {loss_fn(theta, dataset):.2f}')\n",
    "            rand_obs = dataset[i]\n",
    "            gradient = grad_loss_fn(theta, rand_obs)\n",
    "            new_theta = theta - alpha * gradient\n",
    "        \n",
    "            if abs(new_theta - theta) < 0.1:\n",
    "                return new_theta\n",
    "        \n",
    "            theta = new_theta\n",
    "        np.random.shuffle(dataset)"
   ]
  },
  {
   "cell_type": "code",
   "execution_count": 10,
   "metadata": {
    "ExecuteTime": {
     "end_time": "2018-07-01T02:31:00.566018Z",
     "start_time": "2018-07-01T02:31:00.562686Z"
    }
   },
   "outputs": [],
   "source": [
    "### TEMPORARY CELL BELOW; minimize_sgd does not converge at any alpha values that I have tried.\n",
    "# I have tried to adjust alpha values and/or the threshold above (\"if abs(new_theta - theta) < _____\") \n",
    "# until I could find one that works (which I have not yet)"
   ]
  },
  {
   "cell_type": "code",
   "execution_count": 11,
   "metadata": {
    "ExecuteTime": {
     "end_time": "2018-07-01T02:31:00.584419Z",
     "start_time": "2018-07-01T02:31:00.568730Z"
    }
   },
   "outputs": [
    {
     "name": "stdout",
     "output_type": "stream",
     "text": [
      "theta: 0.00 | loss: 295.72\n",
      "theta: 3.21 | loss: 202.82\n",
      "theta: 7.13 | loss: 117.29\n",
      "theta: 7.33 | loss: 113.68\n",
      "theta: 9.85 | loss: 75.94\n",
      "theta: 10.96 | loss: 63.38\n",
      "CPU times: user 0 ns, sys: 0 ns, total: 0 ns\n",
      "Wall time: 2.23 ms\n"
     ]
    },
    {
     "data": {
      "text/plain": [
       "11.002413901512812"
      ]
     },
     "execution_count": 11,
     "metadata": {},
     "output_type": "execute_result"
    }
   ],
   "source": [
    "%%time\n",
    "minimize_sgd(mse_loss, grad_mse_loss, entire_data, alpha=0.1)"
   ]
  },
  {
   "cell_type": "markdown",
   "metadata": {},
   "source": [
    "## Mini-batch Gradient Descent\n",
    "\n",
    "**Mini-batch gradient descent** strikes a balance between batch gradient descent and stochastic gradient descent by increasing the number of observations that we select at each iteration. In mini-batch gradient descent, we take a simple random sample of observations called a mini-batch. We use the average of the gradients of their loss functions to construct an estimate of the true gradient of the cross entropy loss. Since our sample is randomly selected, the expectation of this estimate is equal to the true gradient. This is illustrated in the approximation for the gradient of the loss function, where $\\mathcal{B}$ is the mini-batch of data points that we randomly sample from the $n$ observations.\n",
    "\n",
    "$$\n",
    "\\nabla_\\hat\\theta L(\\hat\\theta, y) \\approx \\frac{1}{|\\mathcal{B}|} \\sum_{i\\in\\mathcal{B}}\\nabla_{\\hat\\theta}l(\\hat\\theta, y_i)\n",
    "$$\n",
    "\n",
    "As with stochastic gradient descent, we perform mini-batch gradient descent by shuffling our training data and selecting mini-batches by iterating through the shuffled data. After each epoch, we re-shuffle our data and select new mini-batches.\n",
    "\n",
    "While we have made the distinction between stochastic and mini-batch gradient descent in this textbook, stochastic gradient descent is sometimes used as an umbrella term that encompasses the selection of a mini-batch of any size. \n",
    "\n",
    "\n",
    "### Selecting the Mini-Batch Size\n",
    "\n",
    "Mini-batch gradient descent is most optimal when running on a Graphical Processing Unit (GPU) or on distributed systems. Since computations on these hardware machines can be executed in parallel, using a mini-batch can increase the accuracy of the gradient without increasing computation time. Depending on the memory of the GPU, the mini-batch size is often set between 10 and 100 observations. \n",
    "\n",
    "### Defining a Function for Mini-Batch Gradient Descent\n",
    "\n",
    "A function for mini-batch gradient descent requires the ability to select a batch size. Below is a function that implements this feature."
   ]
  },
  {
   "cell_type": "code",
   "execution_count": 12,
   "metadata": {
    "ExecuteTime": {
     "end_time": "2018-07-01T02:31:00.593221Z",
     "start_time": "2018-07-01T02:31:00.587020Z"
    }
   },
   "outputs": [],
   "source": [
    "def minimize_mini_batch(cost_fn, grad_cost_fn, dataset, minibatch_size, alpha=0.2, progress=True):\n",
    "    \"\"\"\n",
    "    Uses mini-batch gradient descent to minimize cost_fn.\n",
    "    Returns the minimizing value of theta once theta changes\n",
    "    less than 0.001 between iterations.\n",
    "    \"\"\"\n",
    "    NUM_OBS = len(dataset)\n",
    "    assert minibatch_size < NUM_OBS\n",
    "    \n",
    "    theta = 0\n",
    "    np.random.shuffle(dataset)\n",
    "    while True:\n",
    "        for i in range(0, NUM_OBS, minibatch_size):\n",
    "            if progress:\n",
    "                print(f'theta: {theta:.2f} | cost: {cost_fn(theta, dataset):.2f}')\n",
    "            \n",
    "            mini_batch = dataset[i:i+minibatch_size]\n",
    "            gradient = grad_cost_fn(theta, mini_batch)\n",
    "            new_theta = theta - alpha * gradient\n",
    "            \n",
    "            if abs(new_theta - theta) < 0.1:\n",
    "                return new_theta\n",
    "            \n",
    "            theta = new_theta\n",
    "        np.random.shuffle(dataset)"
   ]
  },
  {
   "cell_type": "code",
   "execution_count": 13,
   "metadata": {
    "ExecuteTime": {
     "end_time": "2018-07-01T02:31:00.601894Z",
     "start_time": "2018-07-01T02:31:00.595432Z"
    }
   },
   "outputs": [],
   "source": [
    "### TEMPORARY CELL BELOW; minimize_mini_batch does not converge at any values of alpha/thresholds that I have tried"
   ]
  },
  {
   "cell_type": "code",
   "execution_count": 14,
   "metadata": {
    "ExecuteTime": {
     "end_time": "2018-07-01T02:31:00.618846Z",
     "start_time": "2018-07-01T02:31:00.604069Z"
    }
   },
   "outputs": [
    {
     "name": "stdout",
     "output_type": "stream",
     "text": [
      "theta: 0.00 | cost: 295.72\n",
      "theta: 2.76 | cost: 214.57\n",
      "theta: 4.70 | cost: 166.59\n",
      "theta: 6.49 | cost: 129.11\n",
      "theta: 7.87 | cost: 104.55\n",
      "theta: 9.32 | cost: 82.84\n",
      "theta: 10.52 | cost: 68.01\n",
      "theta: 11.33 | cost: 59.75\n",
      "theta: 12.14 | cost: 52.64\n",
      "theta: 12.76 | cost: 48.15\n",
      "theta: 13.17 | cost: 45.59\n",
      "theta: 13.48 | cost: 43.89\n",
      "theta: 14.03 | cost: 41.33\n",
      "theta: 14.91 | cost: 38.51\n",
      "CPU times: user 0 ns, sys: 0 ns, total: 0 ns\n",
      "Wall time: 2.38 ms\n"
     ]
    },
    {
     "data": {
      "text/plain": [
       "14.837532029516163"
      ]
     },
     "execution_count": 14,
     "metadata": {},
     "output_type": "execute_result"
    }
   ],
   "source": [
    "%%time\n",
    "minimize_mini_batch(mse_loss, grad_mse_loss, entire_data, 20, alpha=0.08)"
   ]
  },
  {
   "cell_type": "markdown",
   "metadata": {},
   "source": [
    "## Summary\n",
    "\n",
    "We use batch gradient descent to iteratively improve model parameters until the model achieves minimal loss. Since batch gradient descent is computationally intractable with large datasets, we often use stochastic gradient descent to fit models instead. Furthermore, when using a GPU, mini-batch gradient descent can converge more quickly than stochastic gradient descent for the same computational cost. For large datasets, stochastic gradient descent and mini-batch gradient descent are often preferred to batch gradient descent for their faster computation times."
   ]
  }
 ],
 "metadata": {
  "kernelspec": {
   "display_name": "Python 3",
   "language": "python",
   "name": "python3"
  },
  "language_info": {
   "codemirror_mode": {
    "name": "ipython",
    "version": 3
   },
   "file_extension": ".py",
   "mimetype": "text/x-python",
   "name": "python",
   "nbconvert_exporter": "python",
   "pygments_lexer": "ipython3",
   "version": "3.6.5"
  }
 },
 "nbformat": 4,
 "nbformat_minor": 2
}
