{
 "cells": [
  {
   "cell_type": "code",
   "execution_count": 1,
   "metadata": {
    "ExecuteTime": {
     "end_time": "2018-07-02T14:58:41.598836Z",
     "start_time": "2018-07-02T14:58:39.423502Z"
    }
   },
   "outputs": [],
   "source": [
    "# HIDDEN\n",
    "import numpy as np\n",
    "import matplotlib.pyplot as plt\n",
    "import pandas as pd\n",
    "import seaborn as sns\n",
    "%matplotlib inline\n",
    "import ipywidgets as widgets\n",
    "from ipywidgets import interact, interactive, fixed, interact_manual\n",
    "import nbinteract as nbi\n",
    "\n",
    "sns.set()\n",
    "sns.set_context('talk')\n",
    "np.set_printoptions(threshold=20, precision=2, suppress=True)\n",
    "np.random.seed(42)\n",
    "pd.options.display.max_rows = 7\n",
    "pd.options.display.max_columns = 8\n",
    "pd.set_option('precision', 2)"
   ]
  },
  {
   "cell_type": "markdown",
   "metadata": {},
   "source": [
    "## A Brief Review\n",
    "\n",
    "We initially fit our model to the tips dataset by finding the $\\hat\\theta$ that minimized the MSE loss function, $L(\\hat\\theta, y) = \\frac{1}{n} \\sum_{i=1}^{n}(y_i - \\hat\\theta)^2$. To calculate the minimizing value of $\\theta$, we took the derivative of the MSE, set it equal to zero, and solved for $\\hat\\theta$. We found that the optimal $\\hat\\theta$ value was simply the mean of the $y$ values in our dataset.\n",
    "\n",
    "However, for more complicated models and loss functions, there may not be simple algebraic expressions that yield the loss-minimizing $\\hat\\theta$ values. Instead, we use the gradient descent algorithm to iteratively improve $\\hat\\theta$ until convergence at a loss minimum. To complete an iteration of gradient descent, we calculate the following:\n",
    "\n",
    "$$\n",
    "\\hat\\theta_{t+1} = \\hat\\theta_t - \\alpha \\cdot \\nabla_{\\hat\\theta} L(\\hat\\theta, y)\n",
    "$$\n",
    "\n",
    "In this equation:\n",
    "- $\\hat\\theta_{t}$ is our current estimate of $\\theta$ at the $t$th iteration\n",
    "- $\\alpha$ is the learning rate\n",
    "- $\\nabla_{\\hat\\theta} L(\\hat\\theta, y)$ is the gradient of the loss function\n",
    "- We compute the next estimate $\\hat\\theta_{t+1}$ by subtracting the product of $\\alpha$ and $\\nabla_{\\hat\\theta} L(\\hat\\theta, y)$ computed at $\\hat\\theta_{t}$"
   ]
  },
  {
   "cell_type": "markdown",
   "metadata": {},
   "source": [
    "## Limitations of Gradient Descent\n",
    "\n",
    "In the expression above, we calculate $\\nabla_{\\hat\\theta}L(\\hat\\theta, y)$ using the average gradient of the loss function $l(\\hat\\theta, y_i)$ across the entire dataset as a single batch. For this reason, this gradient update rule is often referred to as **batch gradient descent**.\n",
    "\n",
    "For example, the gradient of the MSE loss first requires us to find the gradient of the squared loss, $\\nabla_{\\hat\\theta} l(\\hat\\theta, y_i) = -2 (y_i - \\hat\\theta)$, for each of the $n$ observations in our dataset. The final gradient loss is the average of the individual gradients as the derivation below shows:\n",
    "\n",
    "$$\n",
    "\\begin{align}\n",
    "\\nabla_{\\hat\\theta} L(\\hat\\theta, y) &= -\\frac{2}{n} \\sum_{i=1}^{n}(y_i - \\hat\\theta) \\\\\n",
    "&= \\frac{1}{n} \\sum_{i=1}^{n}-2(y_i - \\hat\\theta) \\\\\n",
    "&= \\frac{1}{n} \\sum_{i=1}^{n} \\nabla_{\\hat\\theta} l(\\hat\\theta, y_i)\n",
    "\\end{align}\n",
    "$$\n",
    "\n",
    "\n",
    "\n",
    "Thus, for each iteration of batch gradient descent, we must compute the loss on every point in the dataset. Since datasets can contain many points, batch gradient descent can take a prohibitive amount of time to converge."
   ]
  },
  {
   "cell_type": "markdown",
   "metadata": {},
   "source": [
    "## Stochastic Gradient Descent\n",
    "\n",
    "To circumvent the difficulty of computing a gradient across the entire training set, **stochastic gradient descent** approximates the overall gradient using a single randomly chosen data point. Since the observation is chosen randomly, we expect that using the gradient at each individual observation will eventually converge the algorithm to the same parameters as batch gradient descent. The modified update formula for stochastic gradient descent is presented below, where $l(\\hat\\theta, y_i)$ is the loss function for a single data point.\n",
    "\n",
    "$$\n",
    "\\hat\\theta_{t+1} = \\hat\\theta_t - \\alpha \\nabla_\\hat\\theta l(\\hat\\theta, y_i)\n",
    "$$\n",
    "\n",
    "Returning back to our example using the MSE, we approximate the gradient of the mean squared error using the gradient of the squared loss of one data point. \n",
    "\n",
    "$$\n",
    "\\begin{align}\n",
    "\\nabla_{\\hat\\theta}L(\\hat\\theta, y) &\\approx \\nabla_{\\hat\\theta} l(\\hat\\theta, y_i) \\\\\n",
    "&= -2(y_i - \\hat\\theta)\n",
    "\\end{align}\n",
    "$$\n",
    "\n",
    "Stochastic gradient descent relies on the random selection of individual observations. This is statistically founded since the randomness means that $E[\\nabla_{\\hat\\theta}l(\\hat\\theta, y_i)] = \\nabla_{\\hat\\theta}L(\\hat\\theta, y)$. In practice, we choose these random data points by shuffling the training data and iteratively selecting from the shuffled data. An iteration through all $n$ observations of the shuffled data is called an **epoch**; at the end of every epoch, we reshuffle the data."
   ]
  },
  {
   "cell_type": "markdown",
   "metadata": {},
   "source": [
    "### Visualizing Stochastic Gradient Descent\n",
    "\n",
    "Below are visual examples of loss minimization in batch gradient descent and stochastic gradient descent.\n",
    "\n",
    "![](https://github.com/DS-100/textbook/tree/master/assets/gd.png)\n",
    "![](https://github.com/DS-100/textbook/tree/master/assets/sgd.png)\n",
    "\n",
    "At each iteration of batch gradient descent, we move in the direction of the true gradient of the loss function, which is depicted by the ellipses. On the other hand, each iteration of stochastic gradient descent may not lead us in the direction of the true gradient; however, the $\\hat\\theta$ parameters eventually converge to the minima of the loss function. Although stochastic gradient descent typically takes more iterations to converge than batch gradient descent, it often converges more quickly because it spends significantly less time computing the update at each iteration."
   ]
  },
  {
   "cell_type": "markdown",
   "metadata": {},
   "source": [
    "### Defining a Function for Stochastic Gradient Descent\n",
    "\n",
    "As we previously did for batch gradient descent, we define a function that computes the stochastic gradient descent of the loss function. It will be similar to our `minimize` function but we will need to implement the random selection of one observation at each iteration."
   ]
  },
  {
   "cell_type": "code",
   "execution_count": 2,
   "metadata": {
    "ExecuteTime": {
     "end_time": "2018-07-02T14:58:41.607626Z",
     "start_time": "2018-07-02T14:58:41.601322Z"
    }
   },
   "outputs": [],
   "source": [
    "def minimize_sgd(loss_fn, grad_loss_fn, dataset, alpha=0.2):\n",
    "    \"\"\"\n",
    "    Uses stochastic gradient descent to minimize loss_fn.\n",
    "    Returns the minimizing value of theta once theta changes\n",
    "    less than 0.001 between iterations.\n",
    "    \"\"\"\n",
    "    NUM_OBS = len(dataset)\n",
    "    theta = 0\n",
    "    np.random.shuffle(dataset)\n",
    "    while True:\n",
    "        for i in range(0, NUM_OBS, 1):\n",
    "            rand_obs = dataset[i]\n",
    "            gradient = grad_loss_fn(theta, rand_obs)\n",
    "            new_theta = theta - alpha * gradient\n",
    "        \n",
    "            if abs(new_theta - theta) < 0.001:\n",
    "                return new_theta\n",
    "        \n",
    "            theta = new_theta\n",
    "        np.random.shuffle(dataset)"
   ]
  },
  {
   "cell_type": "markdown",
   "metadata": {},
   "source": [
    "## Mini-batch Gradient Descent\n",
    "\n",
    "**Mini-batch gradient descent** strikes a balance between batch gradient descent and stochastic gradient descent by increasing the number of observations that we select at each iteration. In mini-batch gradient descent, we take a simple random sample of observations called a mini-batch. We use the average of the gradients of their loss functions to construct an estimate of the true gradient of the cross entropy loss. Since our sample is randomly selected, the expectation of this estimate is equal to the true gradient. This is illustrated in the approximation for the gradient of the loss function, where $\\mathcal{B}$ is the mini-batch of data points that we randomly sample from the $n$ observations.\n",
    "\n",
    "$$\n",
    "\\nabla_\\hat\\theta L(\\hat\\theta, y) \\approx \\frac{1}{|\\mathcal{B}|} \\sum_{i\\in\\mathcal{B}}\\nabla_{\\hat\\theta}l(\\hat\\theta, y_i)\n",
    "$$\n",
    "\n",
    "As with stochastic gradient descent, we perform mini-batch gradient descent by shuffling our training data and selecting mini-batches by iterating through the shuffled data. After each epoch, we re-shuffle our data and select new mini-batches.\n",
    "\n",
    "While we have made the distinction between stochastic and mini-batch gradient descent in this textbook, stochastic gradient descent is sometimes used as an umbrella term that encompasses the selection of a mini-batch of any size. \n",
    "\n",
    "\n",
    "### Selecting the Mini-Batch Size\n",
    "\n",
    "Mini-batch gradient descent is most optimal when running on a Graphical Processing Unit (GPU) or on distributed systems. Since computations on these hardware machines can be executed in parallel, using a mini-batch can increase the accuracy of the gradient without increasing computation time. Depending on the memory of the GPU, the mini-batch size is often set between 10 and 100 observations. \n",
    "\n",
    "### Defining a Function for Mini-Batch Gradient Descent\n",
    "\n",
    "A function for mini-batch gradient descent requires the ability to select a batch size. Below is a function that implements this feature."
   ]
  },
  {
   "cell_type": "code",
   "execution_count": 3,
   "metadata": {
    "ExecuteTime": {
     "end_time": "2018-07-02T14:58:41.624495Z",
     "start_time": "2018-07-02T14:58:41.610102Z"
    }
   },
   "outputs": [],
   "source": [
    "def minimize_mini_batch(loss_fn, grad_loss_fn, dataset, minibatch_size, alpha=0.2):\n",
    "    \"\"\"\n",
    "    Uses mini-batch gradient descent to minimize loss_fn.\n",
    "    Returns the minimizing value of theta once theta changes\n",
    "    less than 0.001 between iterations.\n",
    "    \"\"\"\n",
    "    NUM_OBS = len(dataset)\n",
    "    assert minibatch_size < NUM_OBS\n",
    "    \n",
    "    theta = 0\n",
    "    np.random.shuffle(dataset)\n",
    "    while True:\n",
    "        for i in range(0, NUM_OBS, minibatch_size):\n",
    "            mini_batch = dataset[i:i+minibatch_size]\n",
    "            gradient = grad_loss_fn(theta, mini_batch)\n",
    "            new_theta = theta - alpha * gradient\n",
    "            \n",
    "            if abs(new_theta - theta) < 0.001:\n",
    "                return new_theta\n",
    "            \n",
    "            theta = new_theta\n",
    "        np.random.shuffle(dataset)"
   ]
  },
  {
   "cell_type": "markdown",
   "metadata": {},
   "source": [
    "## Summary\n",
    "\n",
    "We use batch gradient descent to iteratively improve model parameters until the model achieves minimal loss. Since batch gradient descent is computationally intractable with large datasets, we often use stochastic gradient descent to fit models instead. Furthermore, when using a GPU, mini-batch gradient descent can converge more quickly than stochastic gradient descent for the same computational cost. For large datasets, stochastic gradient descent and mini-batch gradient descent are often preferred to batch gradient descent for their faster computation times."
   ]
  }
 ],
 "metadata": {
  "kernelspec": {
   "display_name": "Python 3",
   "language": "python",
   "name": "python3"
  },
  "language_info": {
   "codemirror_mode": {
    "name": "ipython",
    "version": 3
   },
   "file_extension": ".py",
   "mimetype": "text/x-python",
   "name": "python",
   "nbconvert_exporter": "python",
   "pygments_lexer": "ipython3",
   "version": "3.6.5"
  }
 },
 "nbformat": 4,
 "nbformat_minor": 2
}
