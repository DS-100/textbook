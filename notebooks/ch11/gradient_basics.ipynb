{
 "cells": [
  {
   "cell_type": "markdown",
   "metadata": {
    "toc": true
   },
   "source": [
    "<h1>Table of Contents<span class=\"tocSkip\"></span></h1>\n",
    "<div class=\"toc\"><ul class=\"toc-item\"><li><span><a href=\"#Cost-Minimization-Using-a-Program\" data-toc-modified-id=\"Cost-Minimization-Using-a-Program-1\">Cost Minimization Using a Program</a></span></li><li><span><a href=\"#Issues-with-simple_minimize\" data-toc-modified-id=\"Issues-with-simple_minimize-2\">Issues with <code>simple_minimize</code></a></span></li></ul></div>"
   ]
  },
  {
   "cell_type": "code",
   "execution_count": 1,
   "metadata": {},
   "outputs": [],
   "source": [
    "# HIDDEN\n",
    "import numpy as np\n",
    "import matplotlib.pyplot as plt\n",
    "import pandas as pd\n",
    "import seaborn as sns\n",
    "%matplotlib inline\n",
    "import ipywidgets as widgets\n",
    "from ipywidgets import interact, interactive, fixed, interact_manual\n",
    "import nbinteract as nbi\n",
    "\n",
    "sns.set()\n",
    "sns.set_context('talk')\n",
    "pd.options.display.max_rows = 7\n",
    "pd.options.display.max_columns = 8"
   ]
  },
  {
   "cell_type": "code",
   "execution_count": 24,
   "metadata": {},
   "outputs": [],
   "source": [
    "# HIDDEN\n",
    "def mse_cost(theta, y_vals):\n",
    "    return np.mean((y_vals - theta) ** 2)\n",
    "\n",
    "def points_and_cost(y_vals, xlim, cost_fn):\n",
    "    thetas = np.arange(xlim[0], xlim[1] + 0.01, 0.05)\n",
    "    costs = [cost_fn(theta, y_vals) for theta in thetas]\n",
    "    \n",
    "    plt.figure(figsize=(9, 2))\n",
    "    \n",
    "    ax = plt.subplot(121)\n",
    "    sns.rugplot(y_vals, height=0.3, ax=ax)\n",
    "    plt.xlim(*xlim)\n",
    "    plt.title('Points')\n",
    "    plt.xlabel('Tip Percent')\n",
    "    \n",
    "    ax = plt.subplot(122)\n",
    "    plt.plot(thetas, costs)\n",
    "    plt.xlim(*xlim)\n",
    "    plt.title(cost_fn.__name__)\n",
    "    plt.xlabel(r'$ \\theta $')\n",
    "    plt.ylabel('Cost')\n",
    "    plt.legend()"
   ]
  },
  {
   "cell_type": "markdown",
   "metadata": {},
   "source": [
    "## Cost Minimization Using a Program\n",
    "\n",
    "Let us return to our constant model:\n",
    "\n",
    "$$\n",
    "\\theta = C\n",
    "$$\n",
    "\n",
    "We will use the mean squared error cost function:\n",
    "\n",
    "$$\n",
    "\\begin{aligned}\n",
    "L(\\theta, y)\n",
    "&= \\frac{1}{n} \\sum_{i = 1}^{n}(y_i - \\theta)^2\\\\\n",
    "\\end{aligned}\n",
    "$$\n",
    "\n",
    "For simplicity, we will use the dataset $ y = [ 12, 13, 15, 16, 17 ] $. We know from our analytical approach in a previous chapter that the minimizing $ \\theta $ for the MSE cost is $ \\text{mean}(y) = 14.6 $. Let's see whether we can find the same value by writing a program.\n",
    "\n",
    "If we write the program well, we will be able to use the same program on any cost function in order to find the minimizing value of $ \\theta $, including the mathematically complicated Huber cost:\n",
    "\n",
    "$$\n",
    "L_\\alpha(\\theta, y) = \\frac{1}{n} \\sum_{i=1}^n \\begin{cases}\n",
    "    \\frac{1}{2}(y_i - \\theta)^2 &  | y_i - \\theta | \\le \\alpha \\\\\n",
    "    \\alpha ( |y_i - \\theta| - \\frac{1}{2}\\alpha ) & \\text{otherwise}\n",
    "\\end{cases}\n",
    "$$\n",
    "\n",
    "First, we create a rug plot of the data points. To the right of the rug plot we plot the MSE cost for different values of $ \\theta $."
   ]
  },
  {
   "cell_type": "code",
   "execution_count": 10,
   "metadata": {},
   "outputs": [
    {
     "data": {
      "image/png": "[encoded data removed]",
      "text/plain": [
       "<matplotlib.figure.Figure at 0x1141215c0>"
      ]
     },
     "metadata": {},
     "output_type": "display_data"
    }
   ],
   "source": [
    "# HIDDEN\n",
    "pts = np.array([12, 13, 15, 16, 17])\n",
    "points_and_cost(pts, (11, 18), mse_cost)"
   ]
  },
  {
   "cell_type": "markdown",
   "metadata": {},
   "source": [
    "How might we write a program to automatically find the minimizing value of $ \\theta $? The simplest method is to compute the cost for many values $ \\theta $. Then, we can return the $ \\theta $ value that resulted in the least cost.\n",
    "\n",
    "We define a function called `simple_minimize` that takes in a cost function, an array of data points, and an array of $ \\theta $ values to try."
   ]
  },
  {
   "cell_type": "code",
   "execution_count": 12,
   "metadata": {},
   "outputs": [],
   "source": [
    "def simple_minimize(cost_fn, dataset, thetas):\n",
    "    '''\n",
    "    Returns the value of theta in thetas that produces the least cost\n",
    "    on a given dataset.\n",
    "    '''\n",
    "    costs = [cost_fn(theta, dataset) for theta in thetas]\n",
    "    return thetas[np.argmin(costs)]"
   ]
  },
  {
   "cell_type": "markdown",
   "metadata": {},
   "source": [
    "Then, we can define a function to compute the MSE cost and pass it into `simple_minimize`."
   ]
  },
  {
   "cell_type": "code",
   "execution_count": 19,
   "metadata": {},
   "outputs": [
    {
     "data": {
      "text/plain": [
       "14.599999999999991"
      ]
     },
     "execution_count": 19,
     "metadata": {},
     "output_type": "execute_result"
    }
   ],
   "source": [
    "def mse_cost(theta, dataset):\n",
    "    return np.mean((dataset - theta) ** 2)\n",
    "\n",
    "dataset = np.array([12, 13, 15, 16, 17])\n",
    "thetas = np.arange(12, 18, 0.1)\n",
    "\n",
    "simple_minimize(mse_cost, dataset, thetas)"
   ]
  },
  {
   "cell_type": "markdown",
   "metadata": {},
   "source": [
    "This is close to the expected value:"
   ]
  },
  {
   "cell_type": "code",
   "execution_count": 25,
   "metadata": {},
   "outputs": [
    {
     "data": {
      "text/plain": [
       "14.6"
      ]
     },
     "execution_count": 25,
     "metadata": {},
     "output_type": "execute_result"
    }
   ],
   "source": [
    "# Compute the minimizing theta using the analytical formula\n",
    "np.mean(dataset)"
   ]
  },
  {
   "cell_type": "markdown",
   "metadata": {},
   "source": [
    "Now, we can define a function to compute the Huber cost and plot the cost against $ \\theta $."
   ]
  },
  {
   "cell_type": "code",
   "execution_count": 33,
   "metadata": {},
   "outputs": [],
   "source": [
    "def huber_cost(theta, dataset, alpha = 1):\n",
    "    d = np.abs(theta - dataset)\n",
    "    return np.mean(\n",
    "        np.where(d < alpha,\n",
    "                 (theta - dataset)**2 / 2.0,\n",
    "                 alpha * (d - alpha / 2.0))\n",
    "    )"
   ]
  },
  {
   "cell_type": "code",
   "execution_count": 39,
   "metadata": {},
   "outputs": [
    {
     "data": {
      "image/png": "[encoded data removed]",
      "text/plain": [
       "<matplotlib.figure.Figure at 0x111f396d8>"
      ]
     },
     "metadata": {},
     "output_type": "display_data"
    }
   ],
   "source": [
    "# HIDDEN\n",
    "points_and_cost(pts, (11, 18), huber_cost)"
   ]
  },
  {
   "cell_type": "markdown",
   "metadata": {},
   "source": [
    "Although we can see that the minimizing value of $ \\theta $ should be close to 15, we do not have an analytical method of finding $ \\theta $ directly for the Huber cost. Instead, we can use our `simple_minimize` function."
   ]
  },
  {
   "cell_type": "code",
   "execution_count": 37,
   "metadata": {},
   "outputs": [
    {
     "data": {
      "text/plain": [
       "14.999999999999989"
      ]
     },
     "execution_count": 37,
     "metadata": {},
     "output_type": "execute_result"
    }
   ],
   "source": [
    "simple_minimize(huber_cost, dataset, thetas)"
   ]
  },
  {
   "cell_type": "markdown",
   "metadata": {},
   "source": [
    "Now, we can return to our original dataset of tip percentages and find the best value for $ \\theta $ using the Huber cost."
   ]
  },
  {
   "cell_type": "code",
   "execution_count": 38,
   "metadata": {},
   "outputs": [
    {
     "data": {
      "text/html": [
       "<div>\n",
       "<style scoped>\n",
       "    .dataframe tbody tr th:only-of-type {\n",
       "        vertical-align: middle;\n",
       "    }\n",
       "\n",
       "    .dataframe tbody tr th {\n",
       "        vertical-align: top;\n",
       "    }\n",
       "\n",
       "    .dataframe thead th {\n",
       "        text-align: right;\n",
       "    }\n",
       "</style>\n",
       "<table border=\"1\" class=\"dataframe\">\n",
       "  <thead>\n",
       "    <tr style=\"text-align: right;\">\n",
       "      <th></th>\n",
       "      <th>total_bill</th>\n",
       "      <th>tip</th>\n",
       "      <th>sex</th>\n",
       "      <th>smoker</th>\n",
       "      <th>day</th>\n",
       "      <th>time</th>\n",
       "      <th>size</th>\n",
       "      <th>pcttip</th>\n",
       "    </tr>\n",
       "  </thead>\n",
       "  <tbody>\n",
       "    <tr>\n",
       "      <th>0</th>\n",
       "      <td>16.99</td>\n",
       "      <td>1.01</td>\n",
       "      <td>Female</td>\n",
       "      <td>No</td>\n",
       "      <td>Sun</td>\n",
       "      <td>Dinner</td>\n",
       "      <td>2</td>\n",
       "      <td>5.944673</td>\n",
       "    </tr>\n",
       "    <tr>\n",
       "      <th>1</th>\n",
       "      <td>10.34</td>\n",
       "      <td>1.66</td>\n",
       "      <td>Male</td>\n",
       "      <td>No</td>\n",
       "      <td>Sun</td>\n",
       "      <td>Dinner</td>\n",
       "      <td>3</td>\n",
       "      <td>16.054159</td>\n",
       "    </tr>\n",
       "    <tr>\n",
       "      <th>2</th>\n",
       "      <td>21.01</td>\n",
       "      <td>3.50</td>\n",
       "      <td>Male</td>\n",
       "      <td>No</td>\n",
       "      <td>Sun</td>\n",
       "      <td>Dinner</td>\n",
       "      <td>3</td>\n",
       "      <td>16.658734</td>\n",
       "    </tr>\n",
       "    <tr>\n",
       "      <th>3</th>\n",
       "      <td>23.68</td>\n",
       "      <td>3.31</td>\n",
       "      <td>Male</td>\n",
       "      <td>No</td>\n",
       "      <td>Sun</td>\n",
       "      <td>Dinner</td>\n",
       "      <td>2</td>\n",
       "      <td>13.978041</td>\n",
       "    </tr>\n",
       "    <tr>\n",
       "      <th>4</th>\n",
       "      <td>24.59</td>\n",
       "      <td>3.61</td>\n",
       "      <td>Female</td>\n",
       "      <td>No</td>\n",
       "      <td>Sun</td>\n",
       "      <td>Dinner</td>\n",
       "      <td>4</td>\n",
       "      <td>14.680765</td>\n",
       "    </tr>\n",
       "  </tbody>\n",
       "</table>\n",
       "</div>"
      ],
      "text/plain": [
       "   total_bill   tip     sex smoker  day    time  size     pcttip\n",
       "0       16.99  1.01  Female     No  Sun  Dinner     2   5.944673\n",
       "1       10.34  1.66    Male     No  Sun  Dinner     3  16.054159\n",
       "2       21.01  3.50    Male     No  Sun  Dinner     3  16.658734\n",
       "3       23.68  3.31    Male     No  Sun  Dinner     2  13.978041\n",
       "4       24.59  3.61  Female     No  Sun  Dinner     4  14.680765"
      ]
     },
     "execution_count": 38,
     "metadata": {},
     "output_type": "execute_result"
    }
   ],
   "source": [
    "tips = sns.load_dataset('tips')\n",
    "tips['pcttip'] = tips['tip'] / tips['total_bill'] * 100\n",
    "tips.head()"
   ]
  },
  {
   "cell_type": "code",
   "execution_count": 46,
   "metadata": {},
   "outputs": [
    {
     "data": {
      "image/png": "[encoded data removed]",
      "text/plain": [
       "<matplotlib.figure.Figure at 0x1a1cbdf668>"
      ]
     },
     "metadata": {},
     "output_type": "display_data"
    }
   ],
   "source": [
    "# HIDDEN\n",
    "points_and_cost(tips['pcttip'], (11, 20), huber_cost)"
   ]
  },
  {
   "cell_type": "code",
   "execution_count": 41,
   "metadata": {},
   "outputs": [
    {
     "data": {
      "text/plain": [
       "15.499999999999988"
      ]
     },
     "execution_count": 41,
     "metadata": {},
     "output_type": "execute_result"
    }
   ],
   "source": [
    "simple_minimize(huber_cost, tips['pcttip'], thetas)"
   ]
  },
  {
   "cell_type": "markdown",
   "metadata": {},
   "source": [
    "We can see that using the Huber cost gives us $ \\theta = 15.5 $. We can now compare the minimizing $ \\theta $ values for MSE cost, mean absolute cost, and Huber cost."
   ]
  },
  {
   "cell_type": "code",
   "execution_count": 45,
   "metadata": {},
   "outputs": [
    {
     "name": "stdout",
     "output_type": "stream",
     "text": [
      "          MSE cost: theta = 16.08\n",
      "Mean Absolute cost: theta = 15.48\n",
      "        Huber cost: theta = 15.50\n"
     ]
    }
   ],
   "source": [
    "print(f\"          MSE cost: theta = {tips['pcttip'].mean():.2f}\")\n",
    "print(f\"Mean Absolute cost: theta = {tips['pcttip'].median():.2f}\")\n",
    "print(f\"        Huber cost: theta = 15.50\")"
   ]
  },
  {
   "cell_type": "markdown",
   "metadata": {},
   "source": [
    "We can see that the Huber cost is closer to the mean absolute cost since it is less affected by the outliers on the right side of the tip percentage distribution:"
   ]
  },
  {
   "cell_type": "code",
   "execution_count": 50,
   "metadata": {},
   "outputs": [
    {
     "data": {
      "image/png": "[encoded data removed]",
      "text/plain": [
       "<matplotlib.figure.Figure at 0x1a1c5316d8>"
      ]
     },
     "metadata": {},
     "output_type": "display_data"
    }
   ],
   "source": [
    "sns.distplot(tips['pcttip'], bins=50);"
   ]
  },
  {
   "cell_type": "markdown",
   "metadata": {},
   "source": [
    "## Issues with `simple_minimize`\n",
    "\n",
    "Although `simple_minimize` allows us to minimize cost functions, it has some flaws that make it unsuitable for general purpose use. It's primary issue is that it only works with predetermined values of $ \\theta $ to test. For example, in this code snippet we used above, we had to manually define $ \\theta $ values in between 12 and 18.\n",
    "\n",
    "```python\n",
    "dataset = np.array([12, 13, 15, 16, 17])\n",
    "thetas = np.arange(12, 18, 0.1)\n",
    "\n",
    "simple_minimize(mse_cost, dataset, thetas)\n",
    "```\n",
    "\n",
    "How did we know to examine the range between 12 and 18? We had to inspect the plot of the cost function manually and see that there was a minima in that range. This process becomes impractical as we add extra complexity to our models. In addition, we manually specified a step size of 0.1 in the code above. However, if the optimal value of $ \\theta $ was 12.043, our `simple_minimize` function would round to 12.00, the nearest multiple of 0.1. \n",
    "\n",
    "We can solve both of these issues at once by using a method called *gradient descent*."
   ]
  }
 ],
 "metadata": {
  "kernelspec": {
   "display_name": "Python 3",
   "language": "python",
   "name": "python3"
  },
  "language_info": {
   "codemirror_mode": {
    "name": "ipython",
    "version": 3
   },
   "file_extension": ".py",
   "mimetype": "text/x-python",
   "name": "python",
   "nbconvert_exporter": "python",
   "pygments_lexer": "ipython3",
   "version": "3.6.3"
  },
  "toc": {
   "nav_menu": {},
   "number_sections": false,
   "sideBar": true,
   "skip_h1_title": false,
   "title_cell": "Table of Contents",
   "title_sidebar": "Contents",
   "toc_cell": true,
   "toc_position": {},
   "toc_section_display": true,
   "toc_window_display": true
  }
 },
 "nbformat": 4,
 "nbformat_minor": 2
}
