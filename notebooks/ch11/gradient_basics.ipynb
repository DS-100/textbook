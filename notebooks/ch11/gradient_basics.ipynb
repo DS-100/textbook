{
 "cells": [
  {
   "cell_type": "markdown",
   "metadata": {
    "toc": true
   },
   "source": [
    "<h1>Table of Contents<span class=\"tocSkip\"></span></h1>\n",
    "<div class=\"toc\"><ul class=\"toc-item\"><li><span><a href=\"#Loss-Minimization-Using-a-Program\" data-toc-modified-id=\"Loss-Minimization-Using-a-Program-1\">Loss Minimization Using a Program</a></span></li><li><span><a href=\"#Issues-with-simple_minimize\" data-toc-modified-id=\"Issues-with-simple_minimize-2\">Issues with <code>simple_minimize</code></a></span></li></ul></div>"
   ]
  },
  {
   "cell_type": "code",
   "execution_count": 1,
   "metadata": {
    "collapsed": true
   },
   "outputs": [],
   "source": [
    "# HIDDEN\n",
    "import numpy as np\n",
    "import matplotlib.pyplot as plt\n",
    "import pandas as pd\n",
    "import seaborn as sns\n",
    "%matplotlib inline\n",
    "import ipywidgets as widgets\n",
    "from ipywidgets import interact, interactive, fixed, interact_manual\n",
    "import nbinteract as nbi\n",
    "\n",
    "sns.set()\n",
    "sns.set_context('talk')\n",
    "pd.options.display.max_rows = 7\n",
    "pd.options.display.max_columns = 8"
   ]
  },
  {
   "cell_type": "code",
   "execution_count": 2,
   "metadata": {
    "collapsed": true
   },
   "outputs": [],
   "source": [
    "# HIDDEN\n",
    "def mse(theta, y_vals):\n",
    "    return np.mean((y_vals - theta) ** 2)\n",
    "\n",
    "def points_and_loss(y_vals, xlim, loss_fn):\n",
    "    thetas = np.arange(xlim[0], xlim[1] + 0.01, 0.05)\n",
    "    losses = [loss_fn(theta, y_vals) for theta in thetas]\n",
    "    \n",
    "    plt.figure(figsize=(9, 2))\n",
    "    \n",
    "    ax = plt.subplot(121)\n",
    "    sns.rugplot(y_vals, height=0.3, ax=ax)\n",
    "    plt.xlim(*xlim)\n",
    "    plt.title('Points')\n",
    "    plt.xlabel('Tip Percent')\n",
    "    \n",
    "    ax = plt.subplot(122)\n",
    "    plt.plot(thetas, losses)\n",
    "    plt.xlim(*xlim)\n",
    "    plt.title(loss_fn.__name__)\n",
    "    plt.xlabel(r'$ \\hat{\\theta_0} $')\n",
    "    plt.ylabel('Loss')\n",
    "    plt.legend()"
   ]
  },
  {
   "cell_type": "markdown",
   "metadata": {},
   "source": [
    "## Loss Minimization Using a Program\n",
    "\n",
    "Let us return to our constant model:\n",
    "\n",
    "$$\n",
    "\\hat{\\theta_0} = C\n",
    "$$\n",
    "\n",
    "We will use the mean squared error loss function:\n",
    "\n",
    "$$\n",
    "\\begin{aligned}\n",
    "L(\\hat{\\theta_0}, y)\n",
    "&= \\frac{1}{n} \\sum_{i = 1}^{n}(y_i - \\hat{\\theta_0})^2\\\\\n",
    "\\end{aligned}\n",
    "$$\n",
    "\n",
    "For simplicity, we will use the dataset $ y = [ 12, 13, 15, 16, 17 ] $. We know from our analytical approach in a previous chapter that the minimizing $ \\hat{\\theta_0} $ for the MSE is $ \\text{mean}(y) = 14.6 $. Let's see whether we can find the same value by writing a program.\n",
    "\n",
    "If we write the program well, we will be able to use the same program on any loss function in order to find the minimizing value of $ \\hat{\\theta_0} $, including the mathematically complicated Huber loss:\n",
    "\n",
    "$$\n",
    "L_\\alpha(\\hat{\\theta_0}, y) = \\frac{1}{n} \\sum_{i=1}^n \\begin{cases}\n",
    "    \\frac{1}{2}(y_i - \\hat{\\theta_0})^2 &  | y_i - \\hat{\\theta_0} | \\le \\alpha \\\\\n",
    "    \\alpha ( |y_i - \\hat{\\theta_0}| - \\frac{1}{2}\\alpha ) & \\text{otherwise}\n",
    "\\end{cases}\n",
    "$$\n",
    "\n",
    "First, we create a rug plot of the data points. To the right of the rug plot we plot the MSE for different values of $ \\hat{\\theta_0} $."
   ]
  },
  {
   "cell_type": "code",
   "execution_count": 3,
   "metadata": {},
   "outputs": [
    {
     "data": {
      "image/png": "[encoded data removed]",
      "text/plain": [
       "<matplotlib.figure.Figure at 0x1c1f57ae828>"
      ]
     },
     "metadata": {},
     "output_type": "display_data"
    }
   ],
   "source": [
    "# HIDDEN\n",
    "pts = np.array([12, 13, 15, 16, 17])\n",
    "points_and_loss(pts, (11, 18), mse)"
   ]
  },
  {
   "cell_type": "markdown",
   "metadata": {},
   "source": [
    "How might we write a program to automatically find the minimizing value of $ \\hat{\\theta_0} $? The simplest method is to compute the loss for many values $ \\hat{\\theta_0} $. Then, we can return the $ \\hat{\\theta_0} $ value that resulted in the least loss.\n",
    "\n",
    "We define a function called `simple_minimize` that takes in a loss function, an array of data points, and an array of $\\hat{\\theta_0}$ values to try."
   ]
  },
  {
   "cell_type": "code",
   "execution_count": 4,
   "metadata": {
    "collapsed": true
   },
   "outputs": [],
   "source": [
    "def simple_minimize(loss_fn, dataset, thetas):\n",
    "    '''\n",
    "    Returns the value of theta in thetas that produces the least loss\n",
    "    on a given dataset.\n",
    "    '''\n",
    "    losses = [loss_fn(theta, dataset) for theta in thetas]\n",
    "    return thetas[np.argmin(losses)]"
   ]
  },
  {
   "cell_type": "markdown",
   "metadata": {},
   "source": [
    "Then, we can define a function to compute the MSE and pass it into `simple_minimize`."
   ]
  },
  {
   "cell_type": "code",
   "execution_count": 5,
   "metadata": {},
   "outputs": [
    {
     "data": {
      "text/plain": [
       "14.599999999999991"
      ]
     },
     "execution_count": 5,
     "metadata": {},
     "output_type": "execute_result"
    }
   ],
   "source": [
    "def mse(theta, dataset):\n",
    "    return np.mean((dataset - theta) ** 2)\n",
    "\n",
    "dataset = np.array([12, 13, 15, 16, 17])\n",
    "thetas = np.arange(12, 18, 0.1)\n",
    "\n",
    "simple_minimize(mse, dataset, thetas)"
   ]
  },
  {
   "cell_type": "markdown",
   "metadata": {},
   "source": [
    "This is close to the expected value:"
   ]
  },
  {
   "cell_type": "code",
   "execution_count": 6,
   "metadata": {},
   "outputs": [
    {
     "data": {
      "text/plain": [
       "14.6"
      ]
     },
     "execution_count": 6,
     "metadata": {},
     "output_type": "execute_result"
    }
   ],
   "source": [
    "# Compute the minimizing theta using the analytical formula\n",
    "np.mean(dataset)"
   ]
  },
  {
   "cell_type": "markdown",
   "metadata": {},
   "source": [
    "Now, we can define a function to compute the Huber loss and plot the loss against $ \\hat{\\theta_0} $."
   ]
  },
  {
   "cell_type": "code",
   "execution_count": 7,
   "metadata": {
    "collapsed": true
   },
   "outputs": [],
   "source": [
    "def huber_loss(theta, dataset, alpha = 1):\n",
    "    d = np.abs(theta - dataset)\n",
    "    return np.mean(\n",
    "        np.where(d < alpha,\n",
    "                 (theta - dataset)**2 / 2.0,\n",
    "                 alpha * (d - alpha / 2.0))\n",
    "    )"
   ]
  },
  {
   "cell_type": "code",
   "execution_count": 8,
   "metadata": {},
   "outputs": [
    {
     "data": {
      "image/png": "[encoded data removed]",
      "text/plain": [
       "<matplotlib.figure.Figure at 0x1c1f5bff208>"
      ]
     },
     "metadata": {},
     "output_type": "display_data"
    }
   ],
   "source": [
    "# HIDDEN\n",
    "points_and_loss(pts, (11, 18), huber_loss)"
   ]
  },
  {
   "cell_type": "markdown",
   "metadata": {},
   "source": [
    "Although we can see that the minimizing value of $ \\hat{\\theta_0} $ should be close to 15, we do not have an analytical method of finding $ \\hat{\\theta_0} $ directly for the Huber loss. Instead, we can use our `simple_minimize` function."
   ]
  },
  {
   "cell_type": "code",
   "execution_count": 9,
   "metadata": {},
   "outputs": [
    {
     "data": {
      "text/plain": [
       "14.999999999999989"
      ]
     },
     "execution_count": 9,
     "metadata": {},
     "output_type": "execute_result"
    }
   ],
   "source": [
    "simple_minimize(huber_loss, dataset, thetas)"
   ]
  },
  {
   "cell_type": "markdown",
   "metadata": {},
   "source": [
    "Now, we can return to our original dataset of tip percentages and find the best value for $ \\hat{\\theta_0} $ using the Huber loss."
   ]
  },
  {
   "cell_type": "code",
   "execution_count": 10,
   "metadata": {},
   "outputs": [
    {
     "data": {
      "text/html": [
       "<div>\n",
       "<style>\n",
       "    .dataframe thead tr:only-child th {\n",
       "        text-align: right;\n",
       "    }\n",
       "\n",
       "    .dataframe thead th {\n",
       "        text-align: left;\n",
       "    }\n",
       "\n",
       "    .dataframe tbody tr th {\n",
       "        vertical-align: top;\n",
       "    }\n",
       "</style>\n",
       "<table border=\"1\" class=\"dataframe\">\n",
       "  <thead>\n",
       "    <tr style=\"text-align: right;\">\n",
       "      <th></th>\n",
       "      <th>total_bill</th>\n",
       "      <th>tip</th>\n",
       "      <th>sex</th>\n",
       "      <th>smoker</th>\n",
       "      <th>day</th>\n",
       "      <th>time</th>\n",
       "      <th>size</th>\n",
       "      <th>pcttip</th>\n",
       "    </tr>\n",
       "  </thead>\n",
       "  <tbody>\n",
       "    <tr>\n",
       "      <th>0</th>\n",
       "      <td>16.99</td>\n",
       "      <td>1.01</td>\n",
       "      <td>Female</td>\n",
       "      <td>No</td>\n",
       "      <td>Sun</td>\n",
       "      <td>Dinner</td>\n",
       "      <td>2</td>\n",
       "      <td>5.944673</td>\n",
       "    </tr>\n",
       "    <tr>\n",
       "      <th>1</th>\n",
       "      <td>10.34</td>\n",
       "      <td>1.66</td>\n",
       "      <td>Male</td>\n",
       "      <td>No</td>\n",
       "      <td>Sun</td>\n",
       "      <td>Dinner</td>\n",
       "      <td>3</td>\n",
       "      <td>16.054159</td>\n",
       "    </tr>\n",
       "    <tr>\n",
       "      <th>2</th>\n",
       "      <td>21.01</td>\n",
       "      <td>3.50</td>\n",
       "      <td>Male</td>\n",
       "      <td>No</td>\n",
       "      <td>Sun</td>\n",
       "      <td>Dinner</td>\n",
       "      <td>3</td>\n",
       "      <td>16.658734</td>\n",
       "    </tr>\n",
       "    <tr>\n",
       "      <th>3</th>\n",
       "      <td>23.68</td>\n",
       "      <td>3.31</td>\n",
       "      <td>Male</td>\n",
       "      <td>No</td>\n",
       "      <td>Sun</td>\n",
       "      <td>Dinner</td>\n",
       "      <td>2</td>\n",
       "      <td>13.978041</td>\n",
       "    </tr>\n",
       "    <tr>\n",
       "      <th>4</th>\n",
       "      <td>24.59</td>\n",
       "      <td>3.61</td>\n",
       "      <td>Female</td>\n",
       "      <td>No</td>\n",
       "      <td>Sun</td>\n",
       "      <td>Dinner</td>\n",
       "      <td>4</td>\n",
       "      <td>14.680765</td>\n",
       "    </tr>\n",
       "  </tbody>\n",
       "</table>\n",
       "</div>"
      ],
      "text/plain": [
       "   total_bill   tip     sex smoker  day    time  size     pcttip\n",
       "0       16.99  1.01  Female     No  Sun  Dinner     2   5.944673\n",
       "1       10.34  1.66    Male     No  Sun  Dinner     3  16.054159\n",
       "2       21.01  3.50    Male     No  Sun  Dinner     3  16.658734\n",
       "3       23.68  3.31    Male     No  Sun  Dinner     2  13.978041\n",
       "4       24.59  3.61  Female     No  Sun  Dinner     4  14.680765"
      ]
     },
     "execution_count": 10,
     "metadata": {},
     "output_type": "execute_result"
    }
   ],
   "source": [
    "tips = sns.load_dataset('tips')\n",
    "tips['pcttip'] = tips['tip'] / tips['total_bill'] * 100\n",
    "tips.head()"
   ]
  },
  {
   "cell_type": "code",
   "execution_count": 11,
   "metadata": {},
   "outputs": [
    {
     "data": {
      "image/png": "[encoded data removed]",
      "text/plain": [
       "<matplotlib.figure.Figure at 0x1c1f5f37ac8>"
      ]
     },
     "metadata": {},
     "output_type": "display_data"
    }
   ],
   "source": [
    "# HIDDEN\n",
    "points_and_loss(tips['pcttip'], (11, 20), huber_loss)"
   ]
  },
  {
   "cell_type": "code",
   "execution_count": 12,
   "metadata": {},
   "outputs": [
    {
     "data": {
      "text/plain": [
       "15.499999999999988"
      ]
     },
     "execution_count": 12,
     "metadata": {},
     "output_type": "execute_result"
    }
   ],
   "source": [
    "simple_minimize(huber_loss, tips['pcttip'], thetas)"
   ]
  },
  {
   "cell_type": "markdown",
   "metadata": {},
   "source": [
    "We can see that using the Huber loss gives us $ \\hat{\\theta_0} = 15.5 $. We can now compare the minimizing $\\hat{\\theta_0} $ values for MSE, MAE, and Huber loss."
   ]
  },
  {
   "cell_type": "code",
   "execution_count": 13,
   "metadata": {},
   "outputs": [
    {
     "name": "stdout",
     "output_type": "stream",
     "text": [
      "               MSE: theta_hat = 16.08\n",
      "               MAE: theta_hat = 15.48\n",
      "        Huber loss: theta_hat = 15.50\n"
     ]
    }
   ],
   "source": [
    "print(f\"               MSE: theta_hat = {tips['pcttip'].mean():.2f}\")\n",
    "print(f\"               MAE: theta_hat = {tips['pcttip'].median():.2f}\")\n",
    "print(f\"        Huber loss: theta_hat = 15.50\")"
   ]
  },
  {
   "cell_type": "markdown",
   "metadata": {},
   "source": [
    "We can see that the Huber loss is closer to the MAE since it is less affected by the outliers on the right side of the tip percentage distribution:"
   ]
  },
  {
   "cell_type": "code",
   "execution_count": 14,
   "metadata": {},
   "outputs": [
    {
     "data": {
      "image/png": "[encoded data removed]",
      "text/plain": [
       "<matplotlib.figure.Figure at 0x1c1f62a26d8>"
      ]
     },
     "metadata": {},
     "output_type": "display_data"
    }
   ],
   "source": [
    "sns.distplot(tips['pcttip'], bins=50);"
   ]
  },
  {
   "cell_type": "markdown",
   "metadata": {},
   "source": [
    "## Issues with `simple_minimize`\n",
    "\n",
    "Although `simple_minimize` allows us to minimize loss functions, it has some flaws that make it unsuitable for general purpose use. Its primary issue is that it only works with predetermined values of $ \\hat{\\theta_0} $ to test. For example, in this code snippet we used above, we had to manually define $ \\hat{\\theta_0} $ values in between 12 and 18.\n",
    "\n",
    "```python\n",
    "dataset = np.array([12, 13, 15, 16, 17])\n",
    "thetas = np.arange(12, 18, 0.1)\n",
    "\n",
    "simple_minimize(mse, dataset, thetas)\n",
    "```\n",
    "\n",
    "How did we know to examine the range between 12 and 18? We had to inspect the plot of the loss function manually and see that there was a minima in that range. This process becomes impractical as we add extra complexity to our models. In addition, we manually specified a step size of 0.1 in the code above. However, if the optimal value of $ \\hat{\\theta_0} $ were 12.043, our `simple_minimize` function would round to 12.00, the nearest multiple of 0.1. \n",
    "\n",
    "We can solve both of these issues at once by using a method called *gradient descent*."
   ]
  }
 ],
 "metadata": {
  "kernelspec": {
   "display_name": "Python 3",
   "language": "python",
   "name": "python3"
  },
  "language_info": {
   "codemirror_mode": {
    "name": "ipython",
    "version": 3
   },
   "file_extension": ".py",
   "mimetype": "text/x-python",
   "name": "python",
   "nbconvert_exporter": "python",
   "pygments_lexer": "ipython3",
   "version": "3.6.3"
  },
  "toc": {
   "nav_menu": {},
   "number_sections": false,
   "sideBar": true,
   "skip_h1_title": false,
   "title_cell": "Table of Contents",
   "title_sidebar": "Contents",
   "toc_cell": true,
   "toc_position": {},
   "toc_section_display": true,
   "toc_window_display": true
  }
 },
 "nbformat": 4,
 "nbformat_minor": 2
}
