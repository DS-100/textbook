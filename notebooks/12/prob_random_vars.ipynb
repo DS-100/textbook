{
 "cells": [
  {
   "cell_type": "code",
   "execution_count": null,
   "metadata": {},
   "outputs": [],
   "source": [
    "# HIDDEN\n",
    "import warnings\n",
    "# Ignore numpy dtype warnings. These warnings are caused by an interaction\n",
    "# between numpy and Cython and can be safely ignored.\n",
    "# Reference: https://stackoverflow.com/a/40846742\n",
    "warnings.filterwarnings(\"ignore\", message=\"numpy.dtype size changed\")\n",
    "warnings.filterwarnings(\"ignore\", message=\"numpy.ufunc size changed\")\n",
    "\n",
    "import numpy as np\n",
    "import matplotlib.pyplot as plt\n",
    "import pandas as pd\n",
    "import seaborn as sns\n",
    "%matplotlib inline\n",
    "import ipywidgets as widgets\n",
    "from ipywidgets import interact, interactive, fixed, interact_manual\n",
    "import nbinteract as nbi\n",
    "\n",
    "sns.set()\n",
    "sns.set_context('talk')\n",
    "np.set_printoptions(threshold=20, precision=2, suppress=True)\n",
    "pd.options.display.max_rows = 7\n",
    "pd.options.display.max_columns = 8\n",
    "pd.set_option('precision', 2)\n",
    "# This option stops scientific notation for pandas\n",
    "# pd.set_option('display.float_format', '{:.2f}'.format)"
   ]
  },
  {
   "cell_type": "markdown",
   "metadata": {
    "colab_type": "text",
    "id": "xcL0RB8gBpW5"
   },
   "source": [
    "## Random Variables\n",
    "\n",
    "Almost all real-world phenomena contain some degree of randomness, making data generation and collection inherently random processes. Since we fit our models on these data, our models also contain randomness. To represent these random processes mathematically, we use random variables."
   ]
  },
  {
   "cell_type": "markdown",
   "metadata": {
    "colab_type": "text",
    "id": "ujDfAcZHBpW7"
   },
   "source": [
    "A **random variable** is an algebraic variable that represents a numerical value determined by a probabilistic event. We typically use capital letters like $ X $ or $ Y $ to denote a random variable. Although random variables can represent either discrete (i.e. the number of heads in 10 coin flips) or continuous (i.e. the amount of time we wait at a bus stop) quantities, we will only use discrete random variables for the purposes of this textbook.\n",
    "\n",
    "We must always specify what a given random variable represents. For example, we may write that the random variable $ X $ represents the number of heads in 10 coin flips. The definition of a random variable determines the values it can take on. In this example, $ X $ may only take on values between $ 0 $ and $ 10 $.\n",
    "\n",
    "We must also be able to determine the probability that the random variable takes on each value. For example, the probability that $ X = 0 $ is written as $ P(X = 0) = (0.5)^{10} $."
   ]
  },
  {
   "cell_type": "markdown",
   "metadata": {
    "colab_type": "text",
    "id": "ujDfAcZHBpW7"
   },
   "source": [
    "### Probability Mass Functions\n",
    "\n",
    "The **probability mass function (PMF)** or the **distribution** of a random variable $X$ yields the probability that $X$ takes on each of its possible values. If we let $\\mathbb{X}$ be the set of values that $X$ can take on and $x$ be a particular value in $\\mathbb{X}$, the PMF of $X$ must satisfy the following rules:\n",
    "\n",
    "$$\n",
    "1) \\sum_{x \\in \\mathbb{X}} P(X = x) = 1\n",
    "$$\n",
    "\n",
    "$$\n",
    "2) \\text{ For all } x \\in \\mathbb{X}, 0 \\leq P(X = x) \\leq 1\n",
    "$$\n",
    "\n",
    "The first rule states that the probabilities for all possible values of $ X $ sum to $ 1 $.\n",
    "\n",
    "The second rule states that each individual probability for a given value of $ X $ must be between $ 0 $ and $ 1 $.\n",
    "\n",
    "Suppose we let $ X $ represent the result of one roll from a fair six-sided die. We know that $ X \\in \\{1, 2, 3, 4, 5, 6\\} $ and that $ P(X = 1) = P(X = 2) = \\ldots = P(X = 6) = \\frac{1}{6} $. We can plot the PMF of $ X $ as a probability distribution:"
   ]
  },
  {
   "cell_type": "code",
   "execution_count": 2,
   "metadata": {},
   "outputs": [
    {
     "data": {
      "image/png": "[encoded data removed]",
      "text/plain": [
       "<matplotlib.figure.Figure at 0x22d2e778fd0>"
      ]
     },
     "metadata": {},
     "output_type": "display_data"
    }
   ],
   "source": [
    "# HIDDEN\n",
    "xk = np.arange(1, 7)\n",
    "pk = (1/6, 1/6, 1/6, 1/6, 1/6, 1/6)\n",
    "dice = stats.rv_discrete(name='dice', values=(xk, pk))\n",
    "\n",
    "fig, ax = plt.subplots(1, 1)\n",
    "ax.plot(xk, dice.pmf(xk), 'ro', ms=12, mec='b', color='b')\n",
    "ax.vlines(xk, 0, dice.pmf(xk), colors='b', lw=4)\n",
    "plt.xlabel('$x$')\n",
    "plt.ylabel('$P(X = x)$')\n",
    "plt.yticks((0, 1/12, 1/6), ('0', r'$\\frac{1}{12}$', r'$\\frac{1}{6}$'))\n",
    "plt.title('PMF of $X$');\n",
    "plt.show()"
   ]
  },
  {
   "cell_type": "markdown",
   "metadata": {},
   "source": [
    "### Joint Distributions\n",
    "\n",
    "The notion of PMFs for single random variables extends naturally to joint distributions for multiple random variables; in particular, the *joint distribution* of a set of random variables yields the probability that these random variables simultaneously take on a specific set of values.\n",
    "\n",
    "As an example, let the random variable $ X $ represent the number of heads in 10 coin flips, and let $ Y $ represent the number of tails in the same set of 10 coin flips. We can note that $P(X=0, Y=10) = P(X=10, Y=0) = (0.5)^{10}$. Meanwhile $P(X=6, Y=6) = 0$ since we cannot possibly have 6 heads and 6 tails in 10 coin flips."
   ]
  },
  {
   "cell_type": "markdown",
   "metadata": {},
   "source": [
    "#### Marginal Distributions\n",
    "\n",
    "Sometimes, we have the joint distribution for two random variables $X$ and $Y$, but we want to find the *marginal distribution* for $X$. In other words, we would like to find the PMF of $X$ given the joint distribution of $X$ and $Y$. To find the probability that $X$ takes on a particular value, we must consider all possible values of $Y$ (denoted by $\\mathbb{Y}$) that can simultaneously happen with $X$ and sum over all of these joint probabilities:\n",
    "\n",
    "$$\n",
    "\\begin{aligned}\n",
    "\\sum_{y \\in \\mathbb{Y}} P(X=x, Y=y) &= P(X=x)\n",
    "\\end{aligned}\n",
    "$$\n",
    "\n",
    "We can prove this identity as follows:\n",
    "\n",
    "$$\n",
    "\\begin{aligned}\n",
    "\\sum_{y \\in \\mathbb{Y}} P(X=x, Y=y)\t&= \\sum_{y \\in \\mathbb{Y}} P(X=x) \\times P(Y=y \\; \\vert \\; X=x)\\\\\n",
    "&= P(X=x) \\times \\sum_{y \\in \\mathbb{Y}} P(Y=y \\; \\vert \\; X=x)\\\\\n",
    "&= P(X=x)\n",
    "\\end{aligned}\n",
    "$$\n",
    "\n",
    "In the last line of this proof, we treated $Y \\; \\vert \\; X = x$ as a random variable with some unknown PMF. This is important since we used the property that the probabilities in a PMF sum to $1$, which means that $\\sum_{y\\in \\mathbb{Y}} P(Y = y \\; \\vert \\; X = x) = 1$."
   ]
  },
  {
   "cell_type": "markdown",
   "metadata": {},
   "source": [
    "#### Independence\n",
    "\n",
    "Two random variables $X$ and $Y$ are independent if the value of one random variable has no influence on the value of the second. Consider the coin flipping example earlier in the section where $ X $ represents the number of heads in 10 coin flips, and $ Y $ represents the number of tails in the same set of 10 coin flips. In this instance, $ X $ and $ Y $ are not independent; if we know $X = 5$, then we know for certain that $Y = 5$. However if we did not know that $X = 5$, $ Y $ could have been any value from 0 to 10.\n",
    "\n",
    "As another example, let $ X $ be the same as before, but $ Y $ now represents the number of sixes in a set of 10 dice rolls. Since the result of the coin flips has no effect on the dice rolls, we can say that $ X $ and $ Y $ are independent in this example; knowing $X = 5$ tells us nothing about the value of $ Y $."
   ]
  },
  {
   "cell_type": "markdown",
   "metadata": {},
   "source": [
    "**Example:** Suppose we have a small dataset of four people:"
   ]
  },
  {
   "cell_type": "code",
   "execution_count": 3,
   "metadata": {},
   "outputs": [
    {
     "data": {
      "text/html": [
       "<div>\n",
       "<style scoped>\n",
       "    .dataframe tbody tr th:only-of-type {\n",
       "        vertical-align: middle;\n",
       "    }\n",
       "\n",
       "    .dataframe tbody tr th {\n",
       "        vertical-align: top;\n",
       "    }\n",
       "\n",
       "    .dataframe thead th {\n",
       "        text-align: right;\n",
       "    }\n",
       "</style>\n",
       "<table border=\"1\" class=\"dataframe\">\n",
       "  <thead>\n",
       "    <tr style=\"text-align: right;\">\n",
       "      <th></th>\n",
       "      <th>Age</th>\n",
       "      <th>Name</th>\n",
       "    </tr>\n",
       "  </thead>\n",
       "  <tbody>\n",
       "    <tr>\n",
       "      <th>0</th>\n",
       "      <td>50</td>\n",
       "      <td>Carol</td>\n",
       "    </tr>\n",
       "    <tr>\n",
       "      <th>1</th>\n",
       "      <td>52</td>\n",
       "      <td>Bob</td>\n",
       "    </tr>\n",
       "    <tr>\n",
       "      <th>2</th>\n",
       "      <td>51</td>\n",
       "      <td>John</td>\n",
       "    </tr>\n",
       "    <tr>\n",
       "      <th>3</th>\n",
       "      <td>50</td>\n",
       "      <td>Dave</td>\n",
       "    </tr>\n",
       "  </tbody>\n",
       "</table>\n",
       "</div>"
      ],
      "text/plain": [
       "   Age   Name\n",
       "0   50  Carol\n",
       "1   52    Bob\n",
       "2   51   John\n",
       "3   50   Dave"
      ]
     },
     "execution_count": 3,
     "metadata": {},
     "output_type": "execute_result"
    }
   ],
   "source": [
    "# HIDDEN\n",
    "data={\"Name\":[\"Carol\",\"Bob\",\"John\",\"Dave\"], 'Age': [50,52,51,50]}\n",
    "people = pd.DataFrame(data)\n",
    "people"
   ]
  },
  {
   "cell_type": "markdown",
   "metadata": {},
   "source": [
    "Suppose we sample two people from this dataset with replacement. If the random variable $ Z $ represents the difference between the ages of the first and second persons in the sample, what is the PMF of $ Z $?\n",
    "\n",
    "To approach this problem, we define two new random variables. We define $ X $ as the age of the first person and $ Y $ as the age of the second. Then, $ Z = X - Y $. Then, we find the joint probability distribution of $ X $ and $ Y $: the probability of each value that $ X $ and $ Y $ can take on simultaneously. In this case, note that $ X $ and $ Y $ are independent and identically distributed; the two random variables represent two independent draws from the same dataset, and the first draw has no influence on the second. For example, the probability that $ X = 51 $ and $ Y = 50 $ is $ P(X = 51, Y = 50) = \\frac{1}{4} \\cdot \\frac{2}{4} = \\frac{2}{16} $. In a similar way, we get:\n",
    "\n",
    "<table>\n",
    "  <tr>\n",
    "    <th></th>\n",
    "    <th>$Y=50$</th>\n",
    "    <th>$Y=51$</th>\n",
    "    <th>$Y=52$</th>\n",
    "  </tr>\n",
    "  <tr>\n",
    "    <td>$X=50$</td>\n",
    "    <td>4/16</td>\n",
    "    <td>2/16</td>\n",
    "    <td>2/16</td>\n",
    "  </tr>\n",
    "  <tr>\n",
    "    <td>$X=51$</td>\n",
    "    <td>2/16</td>\n",
    "    <td>1/16</td>\n",
    "    <td>1/16</td>\n",
    "  </tr>\n",
    "  <tr>\n",
    "    <td>$X=52$</td>\n",
    "    <td>2/16</td>\n",
    "    <td>1/16</td>\n",
    "    <td>1/16</td>\n",
    "  </tr>\n",
    "</table>"
   ]
  },
  {
   "cell_type": "markdown",
   "metadata": {},
   "source": [
    "Let us now consider the case in which we sample two people from the same dataset as above but without replacement. As before, we define $X$ as the age of the first person and $Y$ as the age of the second, and $Z = X - Y$. However, now $X$ and $Y$ are not independent; for example, if we know $X = 51$, then $Y \\neq 51$. We find the joint distribution of $X$ and $Y$ as follows:\n",
    "\n",
    "<table>\n",
    "  <tr>\n",
    "    <th></th>\n",
    "    <th>$Y=50$</th>\n",
    "    <th>$Y=51$</th>\n",
    "    <th>$Y=52$</th>\n",
    "  </tr>\n",
    "  <tr>\n",
    "    <td>$X=50$</td>\n",
    "    <td>2/12</td>\n",
    "    <td>2/12</td>\n",
    "    <td>2/12</td>\n",
    "  </tr>\n",
    "  <tr>\n",
    "    <td>$X=51$</td>\n",
    "    <td>2/12</td>\n",
    "    <td>0</td>\n",
    "    <td>1/12</td>\n",
    "  </tr>\n",
    "  <tr>\n",
    "    <td>$X=52$</td>\n",
    "    <td>2/12</td>\n",
    "    <td>1/12</td>\n",
    "    <td>0</td>\n",
    "  </tr>\n",
    "</table>"
   ]
  },
  {
   "cell_type": "markdown",
   "metadata": {},
   "source": [
    "We can also find the marginal distribution of $Y$ from the table:\n",
    "\n",
    "$$\n",
    "\\begin{aligned}\n",
    "P(Y = 50) &= P(Y = 50, X = 50) + P(Y = 50, X = 51) + P(Y = 50, X = 52) \\\\\n",
    "&= \\frac{2}{12} + \\frac{2}{12} + \\frac{2}{12} \\\\\n",
    "&= \\frac{1}{2} \\\\\n",
    "P(Y = 51) &= \\frac{2}{12} + 0 + \\frac{1}{12} = \\frac{1}{4} \\\\\n",
    "P(Y = 52) &= \\frac{2}{12} + \\frac{1}{12} + 0 = \\frac{1}{4}\n",
    "\\end{aligned}\n",
    "$$\n",
    "\n",
    "Even though we are sampling without replacement, note that $X$ and $Y$ still have the same distribution!"
   ]
  },
  {
   "cell_type": "markdown",
   "metadata": {},
   "source": [
    "## Summary\n",
    "\n",
    "In this section, we learn that random variables are variables with multiple possible outcomes. These outcomes must be defined completely and precisely—each outcome must have a well-defined probability of occurrence. "
   ]
  }
 ],
 "metadata": {
  "colab": {
   "default_view": {},
   "name": "bias_allenshen.ipynb",
   "provenance": [],
   "version": "0.3.2",
   "views": {}
  },
  "kernelspec": {
   "display_name": "Python 3",
   "language": "python",
   "name": "python3"
  },
  "language_info": {
   "codemirror_mode": {
    "name": "ipython",
    "version": 3
   },
   "file_extension": ".py",
   "mimetype": "text/x-python",
   "name": "python",
   "nbconvert_exporter": "python",
   "pygments_lexer": "ipython3",
   "version": "3.6.3"
  },
  "toc": {
   "nav_menu": {},
   "number_sections": false,
   "sideBar": false,
   "skip_h1_title": false,
   "title_cell": "Table of Contents",
   "title_sidebar": "Contents",
   "toc_cell": true,
   "toc_position": {},
   "toc_section_display": true,
   "toc_window_display": false
  }
 },
 "nbformat": 4,
 "nbformat_minor": 1
}
