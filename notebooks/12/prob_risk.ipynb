{
 "cells": [
  {
   "cell_type": "markdown",
   "metadata": {},
   "source": [
    "## Risk\n",
    "\n",
    "In a modeling scenario presented in a previous chapter, a waiter collected a dataset of tips for a particular month of work. We selected a constant model and minimized the mean squared error (MSE) loss function on this dataset, guaranteeing that our constant model outperforms all other constant models on this dataset and loss function. The constant model has a single parameter, $ \\theta $. We found that the optimizing parameter $ \\hat{\\theta} = \\text{mean}(\\textbf y) $ for the MSE loss.\n",
    "\n",
    "Although such a model makes relatively accurate predictions on its training data, we would like to know whether the model will perform well on new data from the population. To represent this notion, we introduce statistical **risk**, also known as the **expected loss**."
   ]
  },
  {
   "cell_type": "markdown",
   "metadata": {},
   "source": [
    "### Definition\n",
    "\n",
    "A model's risk is the expected value of the model's loss on randomly chosen points from the population.\n",
    "\n",
    "In this scenario, the population consists of all tip percentages our waiter receives during his employment, including future tips. We use the random variable $ X $ to represent a randomly chosen tip percent from the population, and the usual variable $ \\theta $ to represent the constant model's prediction. Using this notation, the risk $ R(\\theta) $ of our model is:\n",
    "\n",
    "$$\n",
    "\\begin{aligned}\n",
    "R(\\theta) = \\mathbb{E}\\left[(X - \\theta)^2\\right]\n",
    "\\end{aligned}\n",
    "$$\n",
    "\n",
    "In the expression above, we use the MSE loss which gives the inner $ (X - \\theta)^2 $ in the expectation. The risk is a function of $ \\theta $ since we can change $ \\theta $ as we please.\n",
    "\n",
    "Unlike loss alone, using risk allows us to reason about the model's accuracy on the population in general. If our model achieves a low risk, our model will make accurate predictions on points from the population in the long term. On the other hand, if our model has a high risk it will in general perform poorly on data from the population.\n",
    "\n",
    "Naturally, we would like to choose the value of $ \\theta $ that makes the model's risk as low as possible. We use the variable $ \\theta^* $ to represent the risk-minimizing value of $ \\theta $, or the optimal model parameter for the population. To clarify, $ \\theta^* $ represents the model parameter that minimizes risk while $ \\hat{\\theta} $ represents the parameter that minimizes dataset-specific loss."
   ]
  },
  {
   "cell_type": "markdown",
   "metadata": {},
   "source": [
    "### Minimizing the Risk\n",
    "\n",
    "Let's find the value of $ \\theta $ that minimizes the risk. Previously, we used calculus to perform this minimization. This time, we will use a mathematical trick that produces a meaningful final expression. We replace $X - \\theta$ with $X - \\mathbb{E}[X] + \\mathbb{E}[X] - \\theta$ and expand:\n",
    "\n",
    "$$\n",
    "\\begin{aligned}\n",
    "R(\\theta) &=  \\mathbb{E}[(X - \\theta)^2] \\\\\n",
    "&= \\mathbb{E}\\left[\n",
    "  (X - \\mathbb{E}[X] + \\mathbb{E}[X] - \\theta)^2\n",
    "\\right] \\\\\n",
    "&= \\mathbb{E}\\left[\n",
    "  \\bigl( (X - \\mathbb{E}[X]) + (\\mathbb{E}[X] - \\theta) \\bigr)^2\n",
    "\\right] \\\\\n",
    "&= \\mathbb{E}\\left[\n",
    "  (X - \\mathbb{E}[X])^2 + 2(X - \\mathbb{E}[X])(\\mathbb{E}[X] - \\theta) + (\\mathbb{E}[X]- \\theta)^2\n",
    "\\right] \\\\\n",
    "\\end{aligned}\n",
    "$$"
   ]
  },
  {
   "cell_type": "markdown",
   "metadata": {},
   "source": [
    "Now, we apply the linearity of expectation and simplify. We use the identity $ \\mathbb{E}\\left[ (X - \\mathbb{E}[X]) \\right] = 0 $ which is roughly equivalent to stating that $ \\mathbb{E}[X] $ lies at the center of the distribution of $ X $.\n",
    "\n",
    "$$\n",
    "\\begin{aligned}\n",
    "R(\\theta) &=\n",
    "  \\mathbb{E}\\left[ (X - \\mathbb{E}[X])^2 \\right]\n",
    "  + \\mathbb{E}\\left[ 2(X - \\mathbb{E}[X])(\\mathbb{E}[X] - \\theta) \\right]\n",
    "  + \\mathbb{E}\\left[ (\\mathbb{E}[X]- \\theta)^2 \\right] \\\\\n",
    "&=\n",
    "  \\mathbb{E}\\left[ (X - \\mathbb{E}[X])^2 \\right]\n",
    "  + 2 (\\mathbb{E}[X] - \\theta) \\underbrace{ \\mathbb{E}\\left[ (X - \\mathbb{E}[X]) \\right]}_{= 0}\n",
    "  + (\\mathbb{E}[X]- \\theta)^2 \\\\\n",
    "&=\n",
    "  \\mathbb{E}\\left[ (X - \\mathbb{E}[X])^2 \\right]\n",
    "  + 0\n",
    "  + (\\mathbb{E}[X]- \\theta)^2 \\\\\n",
    "R(\\theta) &=\n",
    "  \\mathbb{E}\\left[ (X - \\mathbb{E}[X])^2 \\right]\n",
    "  + (\\mathbb{E}[X]- \\theta)^2 \\\\\n",
    "\\end{aligned}\n",
    "$$"
   ]
  },
  {
   "cell_type": "markdown",
   "metadata": {},
   "source": [
    "Notice that the first term in the expression above is the **variance** of $ X $, $ Var(X) $, which has no dependence on $ \\theta $. The second term gives a measure of how close $ \\theta $ is to $ \\mathbb{E}[X] $. Because of this, the second term is called the **bias** of our model. In other words, the model's risk is the bias of the model plus the variance of the quantity we are trying to predict:\n",
    "\n",
    "$$\n",
    "\\begin{aligned}\n",
    "R(\\theta) &=\n",
    "  \\underbrace{(\\mathbb{E}[X]- \\theta)^2}_\\text{bias}\n",
    "  + \\underbrace{Var(X)}_\\text{variance}\n",
    "\\end{aligned}\n",
    "$$\n",
    "\n",
    "Thus, the risk is minimized when our model has no bias: $ \\theta^* =  \\mathbb{E}[X] $ ."
   ]
  },
  {
   "cell_type": "markdown",
   "metadata": {},
   "source": [
    "#### Analysis of Risk\n",
    "\n",
    "Notice that when our model has no bias, the risk is usually a positive quantity. This implies that even an optimal model will have prediction error. Intuitively, this occurs because a constant model will only predict a single number while $ X $ may take on any value from the population. The variance term captures the magnitude of the error. A low variance means that $ X $ will likely take a value close to $ \\theta $, whereas a high variance means that $ X $ is more likely to take on a value far from $ \\theta $."
   ]
  },
  {
   "cell_type": "markdown",
   "metadata": {},
   "source": [
    "### Empirical Risk Minimization\n",
    "\n",
    "From the above analysis, we would like to set $ \\theta = \\mathbb{E}[X] $. Unfortunately, calculating $ \\mathbb{E}[X] $ requires complete knowledge of the population. To understand why, examine the expression for $ \\mathbb{E}[X] $:\n",
    "\n",
    "$$\n",
    "\\begin{aligned}\n",
    "\\mathbb{E}[X] = \\sum_{x \\in \\mathbb{X}} x \\cdot P(X = x)\n",
    "\\end{aligned}\n",
    "$$"
   ]
  },
  {
   "cell_type": "markdown",
   "metadata": {},
   "source": [
    "$ P(X = x) $ represents the probability that $ X $ takes on a specific value from the population. To calculate this probability, however, we need to know all possible values of $ X $ and how often they appear in the population. In other words, to perfectly minimize a model's risk on a population, we need access to the population."
   ]
  },
  {
   "cell_type": "markdown",
   "metadata": {},
   "source": [
    "We can tackle this issue by remembering that the distribution of values in a large random sample will be close to the distribution of values in the population. If this is true about our sample, we can treat the sample as though it were the population itself.\n",
    "\n",
    "Suppose we draw points at random from the sample instead of the population. Since there are $ n $ total points in the sample $ \\mathbf{x} = \\{ x_1, x_2, \\ldots, x_n \\} $, each point $ x_i $ has probability $ \\frac{1}{n} $ of appearing. Now we can create an approximation for $ \\mathbb{E}[X] $:\n",
    "\n",
    "$$\n",
    "\\begin{aligned}\n",
    "\\mathbb{E}[X]\n",
    "&\\approx \\frac{1}{n} \\sum_{i=1}^n x_i = \\text{mean}({\\mathbf{x}})\n",
    "\\end{aligned}\n",
    "$$"
   ]
  },
  {
   "cell_type": "markdown",
   "metadata": {},
   "source": [
    "Thus, our best estimate of $ \\theta^* $ using the information captured in a random sample is $ \\hat{\\theta} = \\text{mean}(\\mathbf{x}) $. We say that $ \\hat{\\theta} $ minimizes the **empirical risk**, the risk calculated using the sample as a stand-in for the population."
   ]
  },
  {
   "cell_type": "markdown",
   "metadata": {},
   "source": [
    "#### The Importance of Random Sampling\n",
    "\n",
    "It is essential to note the importance of random sampling in the approximation above. If our sample is non-random, we cannot make the above assumption that the sample's distribution is similar to the population's. Using a non-random sample to estimate $ \\theta^* $ will often result in a biased estimation and a higher risk."
   ]
  },
  {
   "cell_type": "markdown",
   "metadata": {},
   "source": [
    "#### Connection to Loss Minimization\n",
    "\n",
    "Recall that we have previously shown $ \\hat{\\theta} = \\text{mean}(\\mathbf{x}) $ minimizes the MSE loss on a dataset. Now, we have taken a meaningful step forward. If our training data are a random sample, $ \\hat{\\theta} = \\text{mean}(\\mathbf{x}) $ not only produces the best model for its training data but also produces the best model for the population given the information we have in our sample."
   ]
  },
  {
   "cell_type": "markdown",
   "metadata": {},
   "source": [
    "## Summary\n",
    "\n",
    "Using the mathematical tools developed in this chapter, we have developed an understanding of our model's performance on the population. A model makes accurate predictions if it minimizes **statistical risk**. We found that the globally optimal model parameter is:\n",
    "\n",
    "$$\n",
    "\\begin{aligned}\n",
    "\\theta^* =  \\mathbb{E}[X]\n",
    "\\end{aligned}\n",
    "$$\n",
    "\n",
    "Since we cannot readily compute this, we found the model parameter that minimizes the **empirical risk**.\n",
    "\n",
    "$$\n",
    "\\begin{aligned}\n",
    "\\hat \\theta = \\text{mean}(\\mathbf x)\n",
    "\\end{aligned}\n",
    "$$\n",
    "\n",
    "If the training data are randomly sampled from the population, it is likely that $ \\hat{\\theta} \\approx \\theta^* $. Thus, a constant model trained on a large random sample from the population will likely perform well on the population as well."
   ]
  }
 ],
 "metadata": {
  "kernelspec": {
   "display_name": "Python [default]",
   "language": "python",
   "name": "python3"
  },
  "language_info": {
   "codemirror_mode": {
    "name": "ipython",
    "version": 3
   },
   "file_extension": ".py",
   "mimetype": "text/x-python",
   "name": "python",
   "nbconvert_exporter": "python",
   "pygments_lexer": "ipython3",
   "version": "3.6.3"
  }
 },
 "nbformat": 4,
 "nbformat_minor": 2
}
