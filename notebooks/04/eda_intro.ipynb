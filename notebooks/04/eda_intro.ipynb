{
 "cells": [
  {
   "cell_type": "markdown",
   "metadata": {},
   "source": [
    "# Exploratory Data Analysis\n",
    "\n",
    "In exploratory data analysis (EDA), a major component of the data science lifecycle, we summarize, visualize, and transform data in order to understand them more deeply. John Tukey, the statistician that defined the term EDA, writes:\n",
    "\n",
    "> ‘Exploratory data analysis’ is an attitude, a state of flexibility, a willingness to look for those things that we believe are not there, as well as those we believe to be there.\n",
    "\n",
    "A student of data science may find this definition unsatisfying — will an attitude alone generate a data analysis? Tukey's point, however, is that we should understand the data before rushing to apply statistical tests. We would benefit from remembering his words in today's resurgence of algorithmic decision-making.\n",
    "\n",
    "Through exploratory data analysis we seek to deeply understand our data. Maintaining \"a state of flexibility\" helps us know what to look for. Fluency with our computational tools allows us to conduct our search. In this chapter, we emphasize the necessary attitude as we introduce increasingly sophisticated tools. Although EDA varies between domains of study, we almost always begin EDA by understanding:\n",
    "\n",
    "1. The data types of columns and the granularity of rows in the dataset.\n",
    "1. The distributions of quantitative data and measures of center and spread.\n",
    "1. Relationships between quantities in the dataset."
   ]
  },
  {
   "cell_type": "code",
   "execution_count": null,
   "metadata": {},
   "outputs": [],
   "source": []
  }
 ],
 "metadata": {
  "kernelspec": {
   "display_name": "Python [default]",
   "language": "python",
   "name": "python3"
  },
  "language_info": {
   "codemirror_mode": {
    "name": "ipython",
    "version": 3
   },
   "file_extension": ".py",
   "mimetype": "text/x-python",
   "name": "python",
   "nbconvert_exporter": "python",
   "pygments_lexer": "ipython3",
   "version": "3.6.3"
  }
 },
 "nbformat": 4,
 "nbformat_minor": 2
}
