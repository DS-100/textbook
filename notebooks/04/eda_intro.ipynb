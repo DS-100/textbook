{
 "cells": [
  {
   "cell_type": "markdown",
   "metadata": {},
   "source": [
    "# Exploratory Data Analysis\n",
    "\n",
    "In exploratory data analysis (EDA), the third major component of the data science lifecycle, we summarize, visualize, and transform data in order to understand them more deeply. John Tukey, the statistician that defined the term EDA, writes:\n",
    "\n",
    "> ‘Exploratory data analysis’ is an attitude, a state of flexibility, a willingness to look for those things that we believe are not there, as well as those we believe to be there.\n",
    "\n",
    "A student of data science may find this definition unsatisfying — will an attitude alone generate a data analysis? Tukey's point, however, is that we should understand the data before rushing to apply statistical tests. We would benefit from remembering his words in today's resurgence of algorithmic decision-making.\n",
    "\n",
    "Still, data scientists need to understand their tools for conducting data exploration. Each tool, whether computational or statistical, comes with limitations. For example, we have seen that `pandas` exclusively works with data in tabular format. In this chapter, we begin with general-purpose tools with few constraints and conclude with powerful tools that have many constraints.\n",
    "\n",
    "We frame exploratory data analysis in the process of using tools to discovering precise constraints our data satisfy. We demonstrate the discovery of the following constraints:\n",
    "\n",
    "1. Data files can be read into memory as tables.\n",
    "2. Data columns have uniform data types, and data rows have consistent granularity.\n",
    "3. Numeric data variables have a known center, spread, and distribution.\n",
    "4. Relationships between data variables are known.\n",
    "\n",
    "We do not believe our focus on \"constraints\" is at odds with Tukey's focus on \"flexibility\". As we will see, data often violate desired constraints, and these violations have in fact motivated many new tools and techniques for working with data."
   ]
  },
  {
   "cell_type": "code",
   "execution_count": null,
   "metadata": {},
   "outputs": [],
   "source": []
  }
 ],
 "metadata": {
  "kernelspec": {
   "display_name": "Python [default]",
   "language": "python",
   "name": "python3"
  },
  "language_info": {
   "codemirror_mode": {
    "name": "ipython",
    "version": 3
   },
   "file_extension": ".py",
   "mimetype": "text/x-python",
   "name": "python",
   "nbconvert_exporter": "python",
   "pygments_lexer": "ipython3",
   "version": "3.6.3"
  }
 },
 "nbformat": 4,
 "nbformat_minor": 2
}
