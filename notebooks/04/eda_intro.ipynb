{
 "cells": [
  {
   "cell_type": "markdown",
   "metadata": {},
   "source": [
    "# Exploratory Data Analysis\n",
    "\n",
    "> Exploratory data analysis is an attitude, a state of flexibility, a\n",
    "> willingness to look for those things that we believe are not there, as well\n",
    "> as those we believe to be there.\n",
    ">\n",
    "> — [John Tukey](https://en.wikipedia.org/wiki/John_Tukey)\n",
    "\n",
    "In Exploratory Data Analysis (EDA), the third step of the data science\n",
    "lifecycle, we summarize, visualize, and transform the data in order to\n",
    "understand it more deeply. In particular, through EDA we identify potential\n",
    "issues in the data and discover trends that inform further analyses.\n",
    "\n",
    "We seek to understand the following properties about our data:\n",
    "\n",
    "1. Structure: the format of our data file.\n",
    "2. Granularity: how fine or coarse each row and column is.\n",
    "3. Scope: how (in)complete our data are.\n",
    "4. Temporality: how the data are situation in time.\n",
    "5. Faithfulness: how well the data captures \"reality\".\n",
    "\n",
    "Although we introduce data cleaning and EDA separately to help organize this\n",
    "book, in practice you will often switch between the two. For example,\n",
    "visualizing a column may show misformatted values that you should use data\n",
    "cleaning techniques to process. With this in mind, we return to the Berkeley\n",
    "Police Department datasets for exploration.\n"
   ]
  }
 ],
 "metadata": {
  "kernelspec": {
   "display_name": "Python [default]",
   "language": "python",
   "name": "python3"
  },
  "language_info": {
   "codemirror_mode": {
    "name": "ipython",
    "version": 3
   },
   "file_extension": ".py",
   "mimetype": "text/x-python",
   "name": "python",
   "nbconvert_exporter": "python",
   "pygments_lexer": "ipython3",
   "version": "3.6.3"
  }
 },
 "nbformat": 4,
 "nbformat_minor": 2
}
