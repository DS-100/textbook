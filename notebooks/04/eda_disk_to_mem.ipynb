{
 "cells": [
  {
   "cell_type": "code",
   "execution_count": 44,
   "metadata": {},
   "outputs": [],
   "source": [
    "# HIDDEN\n",
    "import warnings\n",
    "# Ignore numpy dtype warnings. These warnings are caused by an interaction\n",
    "# between numpy and Cython and can be safely ignored.\n",
    "# Reference: https://stackoverflow.com/a/40846742\n",
    "warnings.filterwarnings(\"ignore\", message=\"numpy.dtype size changed\")\n",
    "warnings.filterwarnings(\"ignore\", message=\"numpy.ufunc size changed\")\n",
    "\n",
    "import numpy as np\n",
    "import matplotlib.pyplot as plt\n",
    "import pandas as pd\n",
    "import seaborn as sns\n",
    "%matplotlib inline\n",
    "import ipywidgets as widgets\n",
    "from ipywidgets import interact, interactive, fixed, interact_manual\n",
    "import nbinteract as nbi\n",
    "\n",
    "sns.set()\n",
    "sns.set_context('talk')\n",
    "np.set_printoptions(threshold=20, precision=2, suppress=True)\n",
    "pd.options.display.max_rows = 7\n",
    "pd.options.display.max_columns = 8\n",
    "pd.set_option('precision', 2)\n",
    "# This option stops scientific notation for pandas\n",
    "# pd.set_option('display.float_format', '{:.2f}'.format)"
   ]
  },
  {
   "cell_type": "markdown",
   "metadata": {},
   "source": [
    "## From Disk to Memory\n",
    "\n",
    "### Filesizes\n",
    "\n",
    "We often begin data analysis with datasets downloaded from the Internet. These files reside on the computer's **disk storage**. In order to use Python to explore and manipulate the data, however, we need to read the data into the computer's **memory**, also known as random access memory (RAM).\n",
    "\n",
    "Unfortunately, a computer's RAM is typically much smaller than a computer's disk storage. For example, one computer model released in 2018 had 32 times more disk storage than RAM. This means that data files can often be much bigger than what is feasible to read into memory.\n",
    "\n",
    "Both disk storage and RAM capacity are measured in terms of **bytes**. Roughly speaking, each character in a text file adds one byte to the file's size. For example, a file containing the following text has 177 characters and thus takes up 177 bytes of disk space.\n",
    "\n",
    "    \"city\",\"zip\",\"street\"\n",
    "    \"Alameda\",\"94501\",\"1220 Broadway\"\n",
    "    \"Alameda\",\"94501\",\"429 Fair Haven Road\"\n",
    "    \"Alameda\",\"94501\",\"2804 Fernside Boulevard\"\n",
    "    \"Alameda\",\"94501\",\"1316 Grove Street\""
   ]
  },
  {
   "cell_type": "markdown",
   "metadata": {},
   "source": [
    "Of course, many of the datasets we work with today contain many characters. To succinctly describe the sizes of larger files, we use the following prefixes:\n",
    "\n",
    "| Multiple | Notation | Number of Bytes    |\n",
    "| -------- | -------- | ------------------ |\n",
    "| Kibibyte | KiB      | 1024 = $ 2^{10} $  |\n",
    "| Mebibyte | MiB      | 1024² = $ 2^{20} $ |\n",
    "| Gibibyte | GiB      | 1024³ = $ 2^{30} $ |\n",
    "| Tebibyte | TiB      | 1024⁴ = $ 2^{40} $ |\n",
    "| Pebibyte | PiB      | 1024⁵ = $ 2^{50} $ |\n",
    "\n",
    "For example, a file containing 52428800 characters takes up 52428800 bytes = 50 mebibytes = 50 MiB on disk.\n",
    "\n",
    "Why use multiples of 1024 instead of simple multiples of 1000 for these prefixes? This is a historical result of the fact that nearly all computers use a binary number scheme where powers of 2 are simpler to represent. You will also see the typical SI prefixes used to describe size — kilobytes, megabytes, and gigabytes, for example. Unfortunately, these prefixes are used inconsistently. Sometimes a kilobyte refers to 1000 bytes; other times, a kilobyte refers to 1024 bytes. To avoid confusion, we will stick to kibi-, mebi-, and gibibytes which clearly represent multiples of 1024."
   ]
  },
  {
   "cell_type": "markdown",
   "metadata": {},
   "source": [
    "**When Is It Safe To Read In a File?**\n",
    "\n",
    "Many computers have much more disk storage than available memory. It is not uncommon to have a data file happily stored on a computer that will overflow the computer's memory if we attempt to manipulate it with a program, including Python programs. In order to begin a data analysis, we often begin by making sure the files we will work with are of manageable size. To accomplish this, we use **command-line interface (CLI) tools**. The tools we introduce in this section have the following starting and ending constraints:\n",
    "\n",
    "**Starting constraint:** Data files reside in disk storage.\n",
    "\n",
    "**Ending constraint:** Data files are small enough to read into memory by a Python program.\n",
    "\n",
    "That is, these tools assume that the files of interest are stored on disk. We can then use these tools to check whether we can likely read our data files into memory."
   ]
  },
  {
   "cell_type": "markdown",
   "metadata": {},
   "source": [
    "To use CLI tools, we enter commands into a shell interpreter such as `sh` or `bash`. These interpreters behave like the Python interpreter but have their own language, syntax, and built-in commands. We only cover a few useful commands in this section.\n",
    "\n",
    "**Note:** all CLI tools we cover in this book are specific to the `sh` shell interpreter, the default interpreter for Jupyter installations on MacOS and Linux systems at the time of writing. Notebooks launched on Data 100's JupyterHub will also use the `sh` shell interpreter. Windows systems have a different interpreter and the commands shown in the book may not run on Windows, although Windows gives access to a `sh` interpreter through its Linux Subsystem.\n",
    "\n",
    "Commonly, we open a terminal program to start a shell interpreter. Jupyter notebooks, however, provide a convenience: if a line of code is prefixed with the `!` character, the line will go directly to a shell interpreter. For example, the `ls` command lists the files in the current directory."
   ]
  },
  {
   "cell_type": "code",
   "execution_count": 6,
   "metadata": {},
   "outputs": [
    {
     "name": "stdout",
     "output_type": "stream",
     "text": [
      "\u001b[34mdata\u001b[m\u001b[m                   eda_granularity.ipynb  eda_structure.ipynb\r\n",
      "eda_disk_to_mem.ipynb  eda_intro.ipynb        eda_temp.ipynb\r\n",
      "eda_faithfulness.ipynb eda_scope.ipynb\r\n"
     ]
    }
   ],
   "source": [
    "!ls"
   ]
  },
  {
   "cell_type": "markdown",
   "metadata": {},
   "source": [
    "In the line above, Jupyter runs the `ls` command through a shell interpreter and displays the results of the command in the notebook.\n",
    "\n",
    "CLI tools like `ls` often take in an **argument**, similar to how Python functions take in arguments. In `sh`, however, we wrap arguments with spaces, not parentheses. Calling `ls` with a folder as an argument shows all the files in the folder."
   ]
  },
  {
   "cell_type": "code",
   "execution_count": 8,
   "metadata": {},
   "outputs": [
    {
     "name": "stdout",
     "output_type": "stream",
     "text": [
      "\u001b[34mSFBusinesses\u001b[m\u001b[m  babies.data   babies23.data text.txt\r\n",
      "SFHousing.csv babies.readme stops.json\r\n"
     ]
    }
   ],
   "source": [
    "!ls data"
   ]
  },
  {
   "cell_type": "code",
   "execution_count": 10,
   "metadata": {},
   "outputs": [
    {
     "name": "stdout",
     "output_type": "stream",
     "text": [
      "businesses.csv  inspections.csv legend.csv      violations.csv\r\n"
     ]
    }
   ],
   "source": [
    "!ls data/SFBusinesses/"
   ]
  },
  {
   "cell_type": "markdown",
   "metadata": {},
   "source": [
    "Command-line tools like `ls` often support **flags** that provide additional options for the user. For example, adding the `-l` flag lists one file per line with additional metadata."
   ]
  },
  {
   "cell_type": "code",
   "execution_count": 11,
   "metadata": {},
   "outputs": [
    {
     "name": "stdout",
     "output_type": "stream",
     "text": [
      "total 114960\r\n",
      "drwx------@ 6 sam  staff       192 Dec 10 13:38 \u001b[34mSFBusinesses\u001b[m\u001b[m\r\n",
      "-rw-r--r--@ 1 sam  staff  51696074 Dec  9 19:52 SFHousing.csv\r\n",
      "-rw-r--r--@ 1 sam  staff     34654 Dec  9 19:52 babies.data\r\n",
      "-rw-r--r--@ 1 sam  staff      2040 Dec 10 11:08 babies.readme\r\n",
      "-rw-r--r--@ 1 sam  staff    142263 Dec 10 11:08 babies23.data\r\n",
      "-rw-r--r--  1 sam  staff   6124111 Aug 10 22:35 stops.json\r\n",
      "-rw-r--r--  1 sam  staff       177 Dec 12 20:24 text.txt\r\n"
     ]
    }
   ],
   "source": [
    "!ls -l data"
   ]
  },
  {
   "cell_type": "markdown",
   "metadata": {},
   "source": [
    "In particular, the fifth column of the listing shows the file size in bytes. For example, we can see that the `SFHousing.csv` file takes up `51696074` bytes on disk. To make the file sizes more readable, we can use the `-h` flag."
   ]
  },
  {
   "cell_type": "code",
   "execution_count": 17,
   "metadata": {},
   "outputs": [
    {
     "name": "stdout",
     "output_type": "stream",
     "text": [
      "total 114960\r\n",
      "drwx------@ 6 sam  staff   192B Dec 10 13:38 \u001b[34mSFBusinesses\u001b[m\u001b[m\r\n",
      "-rw-r--r--@ 1 sam  staff    49M Dec  9 19:52 SFHousing.csv\r\n",
      "-rw-r--r--@ 1 sam  staff    34K Dec  9 19:52 babies.data\r\n",
      "-rw-r--r--@ 1 sam  staff   2.0K Dec 10 11:08 babies.readme\r\n",
      "-rw-r--r--@ 1 sam  staff   139K Dec 10 11:08 babies23.data\r\n",
      "-rw-r--r--  1 sam  staff   5.8M Aug 10 22:35 stops.json\r\n",
      "-rw-r--r--  1 sam  staff   177B Dec 12 20:24 text.txt\r\n"
     ]
    }
   ],
   "source": [
    "!ls -l -h data"
   ]
  },
  {
   "cell_type": "markdown",
   "metadata": {},
   "source": [
    "We see that the `SFHousing.csv` file takes up 49 MiB on disk, making it well within the memory capacities of most systems."
   ]
  },
  {
   "cell_type": "markdown",
   "metadata": {},
   "source": [
    "**Folder Sizes**\n",
    "\n",
    "Sometimes we are interested in the total size of a folder instead of individual files. For example, if we have one file of sensor recordings for each month in a year, we might like to see whether we combine all the data into a single DataFrame. Note that `ls` does not calculate folder sizes correctly. Notice `ls` shows that the `SFBusinesses` folder takes up 192 bytes on disk."
   ]
  },
  {
   "cell_type": "code",
   "execution_count": 17,
   "metadata": {},
   "outputs": [
    {
     "name": "stdout",
     "output_type": "stream",
     "text": [
      "total 114960\r\n",
      "drwx------@ 6 sam  staff   192B Dec 10 13:38 \u001b[34mSFBusinesses\u001b[m\u001b[m\r\n",
      "-rw-r--r--@ 1 sam  staff    49M Dec  9 19:52 SFHousing.csv\r\n",
      "-rw-r--r--@ 1 sam  staff    34K Dec  9 19:52 babies.data\r\n",
      "-rw-r--r--@ 1 sam  staff   2.0K Dec 10 11:08 babies.readme\r\n",
      "-rw-r--r--@ 1 sam  staff   139K Dec 10 11:08 babies23.data\r\n",
      "-rw-r--r--  1 sam  staff   5.8M Aug 10 22:35 stops.json\r\n",
      "-rw-r--r--  1 sam  staff   177B Dec 12 20:24 text.txt\r\n"
     ]
    }
   ],
   "source": [
    "!ls -l -h data"
   ]
  },
  {
   "cell_type": "markdown",
   "metadata": {},
   "source": [
    "However, the folder itself contains files that are larger than 192 bytes:"
   ]
  },
  {
   "cell_type": "code",
   "execution_count": 18,
   "metadata": {},
   "outputs": [
    {
     "name": "stdout",
     "output_type": "stream",
     "text": [
      "total 9496\r\n",
      "-rw-r--r--@ 1 sam  staff   645K Jan 26  2018 businesses.csv\r\n",
      "-rw-r--r--@ 1 sam  staff   455K Jan 26  2018 inspections.csv\r\n",
      "-rw-r--r--@ 1 sam  staff   120B Jan 26  2018 legend.csv\r\n",
      "-rw-r--r--@ 1 sam  staff   3.6M Jan 26  2018 violations.csv\r\n"
     ]
    }
   ],
   "source": [
    "!ls -l -h data/SFBusinesses/"
   ]
  },
  {
   "cell_type": "markdown",
   "metadata": {},
   "source": [
    "To calculate the total size of a folder, including files in the folder, we use the `du` (short for disk usage) CLI tool. By default, the `du` tool shows the sizes of folders in bytes."
   ]
  },
  {
   "cell_type": "code",
   "execution_count": 24,
   "metadata": {},
   "outputs": [
    {
     "name": "stdout",
     "output_type": "stream",
     "text": [
      "9496\tdata/SFBusinesses\r\n",
      "124472\tdata\r\n"
     ]
    }
   ],
   "source": [
    "!du data"
   ]
  },
  {
   "cell_type": "markdown",
   "metadata": {},
   "source": [
    "To show file sizes using prefix notation we add the `-h` flag."
   ]
  },
  {
   "cell_type": "code",
   "execution_count": 30,
   "metadata": {},
   "outputs": [
    {
     "name": "stdout",
     "output_type": "stream",
     "text": [
      "4.6M\tdata/SFBusinesses\r\n"
     ]
    }
   ],
   "source": [
    "!du -h data/SFBusinesses"
   ]
  },
  {
   "cell_type": "markdown",
   "metadata": {},
   "source": [
    "We commonly also add the `-s` flag to `du` to show the file sizes for both files and folders. The asterisk in `data/*` below tells `du` to show the size of every item in the `data/*` folder."
   ]
  },
  {
   "cell_type": "code",
   "execution_count": 31,
   "metadata": {},
   "outputs": [
    {
     "name": "stdout",
     "output_type": "stream",
     "text": [
      "4.6M\tdata/SFBusinesses\r\n",
      " 50M\tdata/SFHousing.csv\r\n",
      " 36K\tdata/babies.data\r\n",
      "4.0K\tdata/babies.readme\r\n",
      "140K\tdata/babies23.data\r\n",
      "5.8M\tdata/stops.json\r\n",
      "4.0K\tdata/text.txt\r\n"
     ]
    }
   ],
   "source": [
    "!du -sh data/*"
   ]
  },
  {
   "cell_type": "markdown",
   "metadata": {},
   "source": [
    "**Memory Overhead**\n",
    "\n",
    "As a rule of thumb, reading in a file using `pandas` usually requires at least double the available memory as the file size. That is, reading in a 1 GiB file will typically require at least 2 GiB of available memory.\n",
    "\n",
    "Note that memory is shared by all programs running on a computer, including the operating system, web browsers, and yes, Jupyter notebook itself. A computer with 4 GiB total RAM might have only 1 GiB available RAM with many applications running. With 1 GiB available RAM, it is unlikely that `pandas` will be able to read in a 1 GiB file."
   ]
  },
  {
   "cell_type": "markdown",
   "metadata": {},
   "source": [
    "### Structure\n",
    "\n",
    "A data file's **structure** refers to the format that the data are stored in. Thus far, we have worked exclusively with **tabular data**, data arranged in rows and columns. As you may imagine, not all data have such a convenient format. Common data file structures include:\n",
    "\n",
    "- Comma-Separated Values (CSV) and Tab-Separated Values (TSV). These files contain tabular data with fields delimited by either a comma for CSV or a tab character (`\\t`) for TSV.\n",
    "- JavaScript Object Format (JSON), a common data format used for communication by web servers, has a hierarchical structure with keys and values similar to a Python dictionary.\n",
    "- eXtensible Markup Language (XML) or HyperText Markup Language (HTML). These files also contain data in a nested format. We cover this format in greater detail later in the book."
   ]
  },
  {
   "cell_type": "markdown",
   "metadata": {},
   "source": [
    "Of course, there are a wealth of tools for working with data in various formats. In this book, however, we will almost always work with tabular data, converting from other formats as necessary. Why restrict ourselves in this way? First, much research has studied how to best store and manipulate tabular data. This has resulted in stable and efficient tools for working with tabular data. Second, tabular data are close cousins of matrices, the mathematical objects of the immensely rich field of linear algebra. Finally, tabular data are very common."
   ]
  },
  {
   "cell_type": "markdown",
   "metadata": {},
   "source": [
    "After verifying that a data file is small enough to hold in memory, we next determine whether the file has a tabular format. If the file has a tabular format, we can use the `pd.read_csv` method to quickly read the file into memory. Otherwise, we will have to turn to a tool that can work with the data format. For this part of EDA, we have the following starting and ending constraints:\n",
    "\n",
    "**Starting constraint:** The data file resides on disk storage.\n",
    "\n",
    "**Ending constraint:** The data file has a well-defined structure, ideally a tabular structure."
   ]
  },
  {
   "cell_type": "markdown",
   "metadata": {},
   "source": [
    "Assuming we have data files on disk, we can once again turn to command-line tools to check structure. The `head` command displays the first few lines of a file and is very useful for peeking at a file's contents."
   ]
  },
  {
   "cell_type": "code",
   "execution_count": 34,
   "metadata": {},
   "outputs": [
    {
     "name": "stdout",
     "output_type": "stream",
     "text": [
      "bwt gestation parity age height weight smoke\r\n",
      "120 284   0  27  62 100   0\r\n",
      "113 282   0  33  64 135   0\r\n",
      "128 279   0  28  64 115   1\r\n",
      "123 999   0  36  69 190   0\r\n",
      "108 282   0  23  67 125   1\r\n",
      "136 286   0  25  62  93   0\r\n",
      "138 244   0  33  62 178   0\r\n",
      "132 245   0  23  65 140   0\r\n",
      "120 289   0  25  62 125   0\r\n"
     ]
    }
   ],
   "source": [
    "!head data/babies.data"
   ]
  },
  {
   "cell_type": "markdown",
   "metadata": {},
   "source": [
    "By default, `head` displays the first 10 lines of a file. To display the last 10 lines, we use the `tail` command."
   ]
  },
  {
   "cell_type": "code",
   "execution_count": 35,
   "metadata": {},
   "outputs": [
    {
     "name": "stdout",
     "output_type": "stream",
     "text": [
      "103 278   0  30  60  87   1\r\n",
      "118 276   0  34  64 116   0\r\n",
      "127 290   0  27  65 121   0\r\n",
      "132 270   0  27  65 126   0\r\n",
      "113 275   1  27  60 100   0\r\n",
      "128 265   0  24  67 120   0\r\n",
      "130 291   0  30  65 150   1\r\n",
      "125 281   1  21  65 110   0\r\n",
      "117 297   0  38  65 129   0\r\n",
      "\r\n"
     ]
    }
   ],
   "source": [
    "!tail data/babies.data"
   ]
  },
  {
   "cell_type": "markdown",
   "metadata": {},
   "source": [
    "We can print the entire file's contents using the `cat` command. Take care when using this command, however, as printing a large file can overflow the computer's memory."
   ]
  },
  {
   "cell_type": "code",
   "execution_count": 38,
   "metadata": {},
   "outputs": [
    {
     "name": "stdout",
     "output_type": "stream",
     "text": [
      "\"city\",\"zip\",\"street\"\r\n",
      "\"Alameda\",\"94501\",\"1220 Broadway\"\r\n",
      "\"Alameda\",\"94501\",\"429 Fair Haven Road\"\r\n",
      "\"Alameda\",\"94501\",\"2804 Fernside Boulevard\"\r\n",
      "\"Alameda\",\"94501\",\"1316 Grove Street\""
     ]
    }
   ],
   "source": [
    "# This file is small, so using cat is safe.\n",
    "!cat data/text.txt"
   ]
  },
  {
   "cell_type": "markdown",
   "metadata": {},
   "source": [
    "In many cases, using `head` and `tail` alone gives us a sense of the file structure. For example, we can see that the `babies.data` file contains tabular data using spaces as a delimiter."
   ]
  },
  {
   "cell_type": "code",
   "execution_count": 34,
   "metadata": {},
   "outputs": [
    {
     "name": "stdout",
     "output_type": "stream",
     "text": [
      "bwt gestation parity age height weight smoke\r\n",
      "120 284   0  27  62 100   0\r\n",
      "113 282   0  33  64 135   0\r\n",
      "128 279   0  28  64 115   1\r\n",
      "123 999   0  36  69 190   0\r\n",
      "108 282   0  23  67 125   1\r\n",
      "136 286   0  25  62  93   0\r\n",
      "138 244   0  33  62 178   0\r\n",
      "132 245   0  23  65 140   0\r\n",
      "120 289   0  25  62 125   0\r\n"
     ]
    }
   ],
   "source": [
    "!head data/babies.data"
   ]
  },
  {
   "cell_type": "markdown",
   "metadata": {},
   "source": [
    "Since the file is small, we can easily read in this data using `pandas`."
   ]
  },
  {
   "cell_type": "code",
   "execution_count": 48,
   "metadata": {},
   "outputs": [
    {
     "data": {
      "text/html": [
       "<div>\n",
       "<style scoped>\n",
       "    .dataframe tbody tr th:only-of-type {\n",
       "        vertical-align: middle;\n",
       "    }\n",
       "\n",
       "    .dataframe tbody tr th {\n",
       "        vertical-align: top;\n",
       "    }\n",
       "\n",
       "    .dataframe thead th {\n",
       "        text-align: right;\n",
       "    }\n",
       "</style>\n",
       "<table border=\"1\" class=\"dataframe\">\n",
       "  <thead>\n",
       "    <tr style=\"text-align: right;\">\n",
       "      <th></th>\n",
       "      <th>bwt</th>\n",
       "      <th>gestation</th>\n",
       "      <th>parity</th>\n",
       "      <th>age</th>\n",
       "      <th>height</th>\n",
       "      <th>weight</th>\n",
       "      <th>smoke</th>\n",
       "    </tr>\n",
       "  </thead>\n",
       "  <tbody>\n",
       "    <tr>\n",
       "      <th>0</th>\n",
       "      <td>120</td>\n",
       "      <td>284</td>\n",
       "      <td>0</td>\n",
       "      <td>27</td>\n",
       "      <td>62</td>\n",
       "      <td>100</td>\n",
       "      <td>0</td>\n",
       "    </tr>\n",
       "    <tr>\n",
       "      <th>1</th>\n",
       "      <td>113</td>\n",
       "      <td>282</td>\n",
       "      <td>0</td>\n",
       "      <td>33</td>\n",
       "      <td>64</td>\n",
       "      <td>135</td>\n",
       "      <td>0</td>\n",
       "    </tr>\n",
       "    <tr>\n",
       "      <th>2</th>\n",
       "      <td>128</td>\n",
       "      <td>279</td>\n",
       "      <td>0</td>\n",
       "      <td>28</td>\n",
       "      <td>64</td>\n",
       "      <td>115</td>\n",
       "      <td>1</td>\n",
       "    </tr>\n",
       "    <tr>\n",
       "      <th>...</th>\n",
       "      <td>...</td>\n",
       "      <td>...</td>\n",
       "      <td>...</td>\n",
       "      <td>...</td>\n",
       "      <td>...</td>\n",
       "      <td>...</td>\n",
       "      <td>...</td>\n",
       "    </tr>\n",
       "    <tr>\n",
       "      <th>1233</th>\n",
       "      <td>130</td>\n",
       "      <td>291</td>\n",
       "      <td>0</td>\n",
       "      <td>30</td>\n",
       "      <td>65</td>\n",
       "      <td>150</td>\n",
       "      <td>1</td>\n",
       "    </tr>\n",
       "    <tr>\n",
       "      <th>1234</th>\n",
       "      <td>125</td>\n",
       "      <td>281</td>\n",
       "      <td>1</td>\n",
       "      <td>21</td>\n",
       "      <td>65</td>\n",
       "      <td>110</td>\n",
       "      <td>0</td>\n",
       "    </tr>\n",
       "    <tr>\n",
       "      <th>1235</th>\n",
       "      <td>117</td>\n",
       "      <td>297</td>\n",
       "      <td>0</td>\n",
       "      <td>38</td>\n",
       "      <td>65</td>\n",
       "      <td>129</td>\n",
       "      <td>0</td>\n",
       "    </tr>\n",
       "  </tbody>\n",
       "</table>\n",
       "<p>1236 rows × 7 columns</p>\n",
       "</div>"
      ],
      "text/plain": [
       "      bwt  gestation  parity  age  height  weight  smoke\n",
       "0     120        284       0   27      62     100      0\n",
       "1     113        282       0   33      64     135      0\n",
       "2     128        279       0   28      64     115      1\n",
       "...   ...        ...     ...  ...     ...     ...    ...\n",
       "1233  130        291       0   30      65     150      1\n",
       "1234  125        281       1   21      65     110      0\n",
       "1235  117        297       0   38      65     129      0\n",
       "\n",
       "[1236 rows x 7 columns]"
      ]
     },
     "execution_count": 48,
     "metadata": {},
     "output_type": "execute_result"
    }
   ],
   "source": [
    "# delimiter='\\s+' says that each field is delimited by one or more spaces.\n",
    "pd.read_csv('data/babies.data', delimiter='\\s+')"
   ]
  },
  {
   "cell_type": "markdown",
   "metadata": {},
   "source": [
    "## Summary\n",
    "\n",
    "We have introduced the command-line tools `ls`, `du`, `head`, and `tail`. These tools help us verify the following constraints on data files:\n",
    "\n",
    "**Starting constraint:** Data files reside on disk.\n",
    "\n",
    "**Ending constraints:** Data files are small enough to read into memory and have a well-defined structure.\n",
    "\n",
    "Completing this step of exploratory data analysis gives us confidence that we can use Python and the `pandas` package to proceed with the next steps of analysis."
   ]
  }
 ],
 "metadata": {
  "kernelspec": {
   "display_name": "Python [default]",
   "language": "python",
   "name": "python3"
  },
  "language_info": {
   "codemirror_mode": {
    "name": "ipython",
    "version": 3
   },
   "file_extension": ".py",
   "mimetype": "text/x-python",
   "name": "python",
   "nbconvert_exporter": "python",
   "pygments_lexer": "ipython3",
   "version": "3.6.3"
  }
 },
 "nbformat": 4,
 "nbformat_minor": 2
}
