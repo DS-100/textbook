{
 "cells": [
  {
   "cell_type": "markdown",
   "metadata": {},
   "source": [
    "# Data Cleaning\n",
    "\n",
    "Data come in many formats and vary greatly in usefulness for analysis. Although\n",
    "we would prefer all our data to come in a tabular format with each value\n",
    "recorded consistently and accurately, in reality we must carefully check our\n",
    "data for potential issues that can eventually result in incorrect conclusions.\n",
    "\n",
    "The term \"data cleaning\" refers to the process of combing through the data and\n",
    "deciding how to resolve inconsistencies and missing values. We will discuss\n",
    "common problems found in datasets and approaches to address them.\n",
    "\n",
    "Data cleaning has inherent limitations. For example, no amount of data cleaning\n",
    "will fix a biased sampling process. Before embarking on the sometimes lengthy\n",
    "process of data cleaning, we must be confident that our data are collected\n",
    "accurately and with as little bias as possible. Only then can we investigate\n",
    "the data itself and use data cleaning to resolve issues in the data format or\n",
    "entry process.\n",
    "\n",
    "We will introduce data cleaning techniques by working with City of Berkeley\n",
    "Police Department datasets.\n"
   ]
  }
 ],
 "metadata": {},
 "nbformat": 4,
 "nbformat_minor": 2
}
