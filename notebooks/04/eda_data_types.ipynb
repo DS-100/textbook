{
 "cells": [
  {
   "cell_type": "code",
   "execution_count": 1,
   "metadata": {
    "tags": [
     "hide_input"
    ]
   },
   "outputs": [],
   "source": [
    "# HIDDEN\n",
    "import warnings\n",
    "# Ignore numpy dtype warnings. These warnings are caused by an interaction\n",
    "# between numpy and Cython and can be safely ignored.\n",
    "# Reference: https://stackoverflow.com/a/40846742\n",
    "warnings.filterwarnings(\"ignore\", message=\"numpy.dtype size changed\")\n",
    "warnings.filterwarnings(\"ignore\", message=\"numpy.ufunc size changed\")\n",
    "\n",
    "import numpy as np\n",
    "import matplotlib.pyplot as plt\n",
    "import pandas as pd\n",
    "import seaborn as sns\n",
    "%matplotlib inline\n",
    "import ipywidgets as widgets\n",
    "from ipywidgets import interact, interactive, fixed, interact_manual\n",
    "import nbinteract as nbi\n",
    "\n",
    "sns.set()\n",
    "sns.set_context('talk')\n",
    "np.set_printoptions(threshold=20, precision=2, suppress=True)\n",
    "pd.options.display.max_rows = 7\n",
    "pd.options.display.max_columns = 8\n",
    "pd.set_option('precision', 2)\n",
    "# This option stops scientific notation for pandas\n",
    "# pd.set_option('display.float_format', '{:.2f}'.format)"
   ]
  },
  {
   "cell_type": "code",
   "execution_count": 2,
   "metadata": {
    "tags": [
     "hide_input"
    ]
   },
   "outputs": [],
   "source": [
    "# HIDDEN\n",
    "def df_interact(df, nrows=7, ncols=7):\n",
    "    '''\n",
    "    Outputs sliders that show rows and columns of df\n",
    "    '''\n",
    "    def peek(row=0, col=0):\n",
    "        return df.iloc[row:row + nrows, col:col + ncols]\n",
    "\n",
    "    row_arg = (0, len(df), nrows) if len(df) > nrows else fixed(0)\n",
    "    col_arg = ((0, len(df.columns), ncols)\n",
    "               if len(df.columns) > ncols else fixed(0))\n",
    "    \n",
    "    interact(peek, row=row_arg, col=col_arg)\n",
    "    print('({} rows, {} columns) total'.format(df.shape[0], df.shape[1]))"
   ]
  },
  {
   "cell_type": "code",
   "execution_count": 3,
   "metadata": {
    "tags": [
     "hide_input"
    ]
   },
   "outputs": [],
   "source": [
    "# HIDDEN\n",
    "babies_small = pd.read_csv('data/babies23.data', delimiter='\\s+')[['wt', 'race', 'ed']]"
   ]
  },
  {
   "cell_type": "markdown",
   "metadata": {},
   "source": [
    "## Data Types\n",
    "\n",
    "We often begin exploratory data analysis by examining the types of data that occur in a table. Although there are multiple ways of categorizing data types, in this book we discuss three broad types of data:\n",
    "\n",
    "1. **Nominal data**, which represents categories that do not have a natural ordering. For example: political party affiliation (Democrat, Republican, Other), sex (male, female, other), and computer operating system (Windows, MacOS, Linux).\n",
    "1. **Ordinal data**, which represents ordered categories. For example: T-shirt sizes (small, medium, large), Likert-scale responses (disagree, neutral, agree), and level of education (high school, college, graduate school). Ordinal and nominal data are considered subtypes of categorical data.\n",
    "1. **Numerical data**, which represents amounts or quantities. For example: heights, prices, and distances.\n",
    "\n",
    "We refer to these types as **statistical data types**, or simply **data types**."
   ]
  },
  {
   "cell_type": "markdown",
   "metadata": {},
   "source": [
    "**Computational vs. Statistical Data Types**\n",
    "\n",
    "`pandas` assigns each column of a DataFrame a **computational data type** that represents how the data are stored in the computer's memory. It is essential to remember that the statistical data type can differ from the computational data type.\n",
    "\n",
    "For example, consider the table below which records weights of babies at birth, race of the mother, and educational level of the mother."
   ]
  },
  {
   "cell_type": "code",
   "execution_count": 4,
   "metadata": {},
   "outputs": [
    {
     "data": {
      "text/html": [
       "<div>\n",
       "<style scoped>\n",
       "    .dataframe tbody tr th:only-of-type {\n",
       "        vertical-align: middle;\n",
       "    }\n",
       "\n",
       "    .dataframe tbody tr th {\n",
       "        vertical-align: top;\n",
       "    }\n",
       "\n",
       "    .dataframe thead th {\n",
       "        text-align: right;\n",
       "    }\n",
       "</style>\n",
       "<table border=\"1\" class=\"dataframe\">\n",
       "  <thead>\n",
       "    <tr style=\"text-align: right;\">\n",
       "      <th></th>\n",
       "      <th>wt</th>\n",
       "      <th>race</th>\n",
       "      <th>ed</th>\n",
       "    </tr>\n",
       "  </thead>\n",
       "  <tbody>\n",
       "    <tr>\n",
       "      <th>0</th>\n",
       "      <td>120</td>\n",
       "      <td>8</td>\n",
       "      <td>5</td>\n",
       "    </tr>\n",
       "    <tr>\n",
       "      <th>1</th>\n",
       "      <td>113</td>\n",
       "      <td>0</td>\n",
       "      <td>5</td>\n",
       "    </tr>\n",
       "    <tr>\n",
       "      <th>2</th>\n",
       "      <td>128</td>\n",
       "      <td>0</td>\n",
       "      <td>2</td>\n",
       "    </tr>\n",
       "    <tr>\n",
       "      <th>...</th>\n",
       "      <td>...</td>\n",
       "      <td>...</td>\n",
       "      <td>...</td>\n",
       "    </tr>\n",
       "    <tr>\n",
       "      <th>1233</th>\n",
       "      <td>130</td>\n",
       "      <td>1</td>\n",
       "      <td>2</td>\n",
       "    </tr>\n",
       "    <tr>\n",
       "      <th>1234</th>\n",
       "      <td>125</td>\n",
       "      <td>0</td>\n",
       "      <td>4</td>\n",
       "    </tr>\n",
       "    <tr>\n",
       "      <th>1235</th>\n",
       "      <td>117</td>\n",
       "      <td>0</td>\n",
       "      <td>4</td>\n",
       "    </tr>\n",
       "  </tbody>\n",
       "</table>\n",
       "<p>1236 rows × 3 columns</p>\n",
       "</div>"
      ],
      "text/plain": [
       "       wt  race  ed\n",
       "0     120     8   5\n",
       "1     113     0   5\n",
       "2     128     0   2\n",
       "...   ...   ...  ..\n",
       "1233  130     1   2\n",
       "1234  125     0   4\n",
       "1235  117     0   4\n",
       "\n",
       "[1236 rows x 3 columns]"
      ]
     },
     "execution_count": 4,
     "metadata": {},
     "output_type": "execute_result"
    }
   ],
   "source": [
    "babies_small"
   ]
  },
  {
   "cell_type": "markdown",
   "metadata": {},
   "source": [
    "Every column of this DataFrame has a numeric computational data type. In this case, the `int64` type signifies that each column contains integers."
   ]
  },
  {
   "cell_type": "code",
   "execution_count": 5,
   "metadata": {},
   "outputs": [
    {
     "data": {
      "text/plain": [
       "wt      int64\n",
       "race    int64\n",
       "ed      int64\n",
       "dtype: object"
      ]
     },
     "execution_count": 5,
     "metadata": {},
     "output_type": "execute_result"
    }
   ],
   "source": [
    "babies_small.dtypes"
   ]
  },
  {
   "cell_type": "markdown",
   "metadata": {},
   "source": [
    "However, it does not make sense to work with all three columns as if they have a numeric statistical data type. In order to understand the dataset's data types, we almost always need to consult the dataset's **data dictionary**. A data dictionary is a document included with the data that describes what each column in the data records. For example, the data dictionary for this dataset states the following:\n",
    "\n",
    "```\n",
    "wt -  birth weight in ounces (999 unknown)\n",
    "race - mother's race 0-5=white 6=mex 7=black 8=asian 9=mixed 99=unknown\n",
    "ed - mother's education 0= less than 8th grade, \n",
    "   1 = 8th -12th grade - did not graduate, \n",
    "   2= HS graduate--no other schooling , 3= HS+trade,\n",
    "   4=HS+some college 5= College graduate, 6&7 Trade school HS unclear, 9=unknown\n",
    "```"
   ]
  },
  {
   "cell_type": "markdown",
   "metadata": {},
   "source": [
    "Although the `wt`, `race`, and `ed` columns are stored as integers in `pandas`, the `race` column contains nominal data and `ed` contains ordinal data.\n",
    "\n",
    "In fact, we must exercise caution even with the `wt` column. Computing the average birth weight by taking the average of the `wt` column will not give an accurate result because unknown values are recorded as `999`. If left as is, the unknown values will cause our average to be higher than it should be."
   ]
  },
  {
   "cell_type": "markdown",
   "metadata": {},
   "source": [
    "**The Importance of Data Types**\n",
    "\n",
    "Data types guide further data analysis by specifying the operations, visualizations, and models we can meaningfully apply to values in the data. For example, the magnitudes of differences between numerical data are meaningful while the magnitudes of differences between ordinal data are not. This means that for the `babies_small` DataFrame the mean baby birth weight has meaning but not the \"mean\" educational level.\n",
    "\n",
    "`pandas` will not complain if we attempt to compute the mean of the values in the educational level column:"
   ]
  },
  {
   "cell_type": "code",
   "execution_count": 6,
   "metadata": {},
   "outputs": [
    {
     "data": {
      "text/plain": [
       "2.9215210355987056"
      ]
     },
     "execution_count": 6,
     "metadata": {},
     "output_type": "execute_result"
    }
   ],
   "source": [
    "# Don't use this value in actual data analysis\n",
    "babies_small['ed'].mean()"
   ]
  },
  {
   "cell_type": "markdown",
   "metadata": {},
   "source": [
    "This quantity, however, provides no useful information. We could have easily replaced the values in the `ed` column with their string descriptions — for example, we can replace `0`'s with `'less than 8th grade'`, `1`'s with `'8th-12th grade'`, and so on. We would not say that the \"mean\" of these strings contains much value. We would not say the same with the mean of the numeric values either."
   ]
  },
  {
   "cell_type": "markdown",
   "metadata": {},
   "source": [
    "Although the value differences of ordinal data are not meaningful, the direction of the difference has meaning. For example, we could say a mother with `ed=5` (college graduate) has a greater education level than a mother with `ed=2` (high school graduate).\n",
    "\n",
    "Nominal data, in comparison, do not provide meaning in the direction of the differences. A mother with `race=6` (Mexican) and a mother with `race=7` (Black) simply have different races."
   ]
  },
  {
   "cell_type": "markdown",
   "metadata": {},
   "source": [
    "### Example: Maternal Smoking and Infant Health"
   ]
  },
  {
   "cell_type": "markdown",
   "metadata": {},
   "source": [
    "The Child Health and Development Studies (CHDS) organization conducts long-term research on how health and disease are passed on between generations (http://www.chdstudies.org/about_us/index.php).\n",
    "\n",
    "In one notable study, the CHDS collected comprehensive data on all pregnancies between 1960 and 1967 for women using the Kaiser Foundation Health Plan in the San Francisco-East Bay area. Although the CHDS typically requires submitting a request to access its data, a subset of the data on pregnancies is available online through the Stat Labs website ([link][statlabs]). We have downloaded and read the data into a `pandas` DataFrame below.\n",
    "\n",
    "[statlabs]: https://www.stat.berkeley.edu/users/statlabs/"
   ]
  },
  {
   "cell_type": "code",
   "execution_count": 7,
   "metadata": {},
   "outputs": [
    {
     "data": {
      "text/html": [
       "<div>\n",
       "<style scoped>\n",
       "    .dataframe tbody tr th:only-of-type {\n",
       "        vertical-align: middle;\n",
       "    }\n",
       "\n",
       "    .dataframe tbody tr th {\n",
       "        vertical-align: top;\n",
       "    }\n",
       "\n",
       "    .dataframe thead th {\n",
       "        text-align: right;\n",
       "    }\n",
       "</style>\n",
       "<table border=\"1\" class=\"dataframe\">\n",
       "  <thead>\n",
       "    <tr style=\"text-align: right;\">\n",
       "      <th></th>\n",
       "      <th>bwt</th>\n",
       "      <th>gestation</th>\n",
       "      <th>parity</th>\n",
       "      <th>age</th>\n",
       "      <th>height</th>\n",
       "      <th>weight</th>\n",
       "      <th>smoke</th>\n",
       "    </tr>\n",
       "  </thead>\n",
       "  <tbody>\n",
       "    <tr>\n",
       "      <th>0</th>\n",
       "      <td>120</td>\n",
       "      <td>284</td>\n",
       "      <td>0</td>\n",
       "      <td>27</td>\n",
       "      <td>62</td>\n",
       "      <td>100</td>\n",
       "      <td>0</td>\n",
       "    </tr>\n",
       "    <tr>\n",
       "      <th>1</th>\n",
       "      <td>113</td>\n",
       "      <td>282</td>\n",
       "      <td>0</td>\n",
       "      <td>33</td>\n",
       "      <td>64</td>\n",
       "      <td>135</td>\n",
       "      <td>0</td>\n",
       "    </tr>\n",
       "    <tr>\n",
       "      <th>2</th>\n",
       "      <td>128</td>\n",
       "      <td>279</td>\n",
       "      <td>0</td>\n",
       "      <td>28</td>\n",
       "      <td>64</td>\n",
       "      <td>115</td>\n",
       "      <td>1</td>\n",
       "    </tr>\n",
       "    <tr>\n",
       "      <th>...</th>\n",
       "      <td>...</td>\n",
       "      <td>...</td>\n",
       "      <td>...</td>\n",
       "      <td>...</td>\n",
       "      <td>...</td>\n",
       "      <td>...</td>\n",
       "      <td>...</td>\n",
       "    </tr>\n",
       "    <tr>\n",
       "      <th>1233</th>\n",
       "      <td>130</td>\n",
       "      <td>291</td>\n",
       "      <td>0</td>\n",
       "      <td>30</td>\n",
       "      <td>65</td>\n",
       "      <td>150</td>\n",
       "      <td>1</td>\n",
       "    </tr>\n",
       "    <tr>\n",
       "      <th>1234</th>\n",
       "      <td>125</td>\n",
       "      <td>281</td>\n",
       "      <td>1</td>\n",
       "      <td>21</td>\n",
       "      <td>65</td>\n",
       "      <td>110</td>\n",
       "      <td>0</td>\n",
       "    </tr>\n",
       "    <tr>\n",
       "      <th>1235</th>\n",
       "      <td>117</td>\n",
       "      <td>297</td>\n",
       "      <td>0</td>\n",
       "      <td>38</td>\n",
       "      <td>65</td>\n",
       "      <td>129</td>\n",
       "      <td>0</td>\n",
       "    </tr>\n",
       "  </tbody>\n",
       "</table>\n",
       "<p>1236 rows × 7 columns</p>\n",
       "</div>"
      ],
      "text/plain": [
       "      bwt  gestation  parity  age  height  weight  smoke\n",
       "0     120        284       0   27      62     100      0\n",
       "1     113        282       0   33      64     135      0\n",
       "2     128        279       0   28      64     115      1\n",
       "...   ...        ...     ...  ...     ...     ...    ...\n",
       "1233  130        291       0   30      65     150      1\n",
       "1234  125        281       1   21      65     110      0\n",
       "1235  117        297       0   38      65     129      0\n",
       "\n",
       "[1236 rows x 7 columns]"
      ]
     },
     "execution_count": 7,
     "metadata": {},
     "output_type": "execute_result"
    }
   ],
   "source": [
    "babies = pd.read_csv('data/babies.data', delimiter='\\s+')\n",
    "babies"
   ]
  },
  {
   "cell_type": "markdown",
   "metadata": {},
   "source": [
    "To understand the data types of the columns, we refer to the data dictionary. We have copied the data dictionary from the Stat Labs website into this page for convenience:\n",
    "\n",
    "<table border=\"2\" cellspacing=\"3\" cellpadding=\"3\">\n",
    "    <thead><tr valign=\"CENTER\">\n",
    "<td valign=\"CENTER\" align=\"CENTER\">\n",
    "    <center><strong>&nbsp;Variable &nbsp;</strong></center>\n",
    "</td>\n",
    "<td valign=\"CENTER\" align=\"CENTER\">\n",
    "<center><strong>&nbsp;Description &nbsp;</strong></center>\n",
    "</td>\n",
    "</tr></thead>\n",
    "<tbody>\n",
    "<tr>\n",
    "<td valign=\"CENTER\" align=\"LEFT\">\n",
    "&nbsp;bwt\n",
    "</td>\n",
    "<td valign=\"CENTER\" align=\"LEFT\">\n",
    "&nbsp;Birth weight in ounces (999 unknown)\n",
    "</td>\n",
    "</tr>\n",
    "<tr>\n",
    "<td valign=\"CENTER\" align=\"LEFT\">\n",
    "&nbsp;gestation\n",
    "</td>\n",
    "<td valign=\"CENTER\" align=\"LEFT\">\n",
    "&nbsp;Length of pregnancy in days (999 unknown)\n",
    "</td>\n",
    "</tr>\n",
    "<tr>\n",
    "<td valign=\"CENTER\" align=\"LEFT\">\n",
    "&nbsp;parity\n",
    "</td>\n",
    "<td valign=\"CENTER\" align=\"LEFT\">\n",
    "&nbsp;0= first born, 9=unknown\n",
    "</td>\n",
    "</tr>\n",
    "<tr>\n",
    "<td valign=\"CENTER\" align=\"LEFT\">\n",
    "&nbsp;age\n",
    "</td>\n",
    "<td valign=\"CENTER\" align=\"LEFT\">\n",
    "&nbsp;mother's age in years\n",
    "</td>\n",
    "</tr>\n",
    "<tr>\n",
    "<td valign=\"CENTER\" align=\"LEFT\">\n",
    "&nbsp;height\n",
    "</td>\n",
    "<td valign=\"CENTER\" align=\"LEFT\">\n",
    "&nbsp;mother's height in inches (99 unknown) \n",
    "</td>\n",
    "</tr>\n",
    "<tr>\n",
    "<td valign=\"CENTER\" align=\"LEFT\">\n",
    "&nbsp;weight\n",
    "</td>\n",
    "<td valign=\"CENTER\" align=\"LEFT\">\n",
    "&nbsp;Mother's prepregnancy weight in pounds (999 unknown)\n",
    "</td>\n",
    "</tr>\n",
    "\n",
    "<tr>\n",
    "<td valign=\"CENTER\" align=\"LEFT\">\n",
    "&nbsp;smoke\n",
    "</td>\n",
    "<td valign=\"CENTER\" align=\"LEFT\">\n",
    "&nbsp;Smoking status of mother\n",
    "<br>&nbsp;\n",
    " 0=not now, 1=yes now, 9=unknown\n",
    "</td>\n",
    "</tr>\n",
    "</tbody></table>"
   ]
  },
  {
   "cell_type": "markdown",
   "metadata": {},
   "source": [
    "Although the data dictionary does not explicitly specify the data types, we can clearly see that some columns contain nominal data even though all data values appear as numbers in the table. Based on the descriptions of the columns alone, we would likely treat the `parity` and `smoke` columns as nominal data and the remaining columns as numerical."
   ]
  },
  {
   "cell_type": "markdown",
   "metadata": {},
   "source": [
    "We hope that the data dictionary provides all necessary information about each column; it is nonetheless useful to double-check our hope by examining the data themselves. For example, it will not always be clear whether a column that records ages contains age values (`21`, `30`, `41`) or age ranges (`21-29`, `30-40`, `41+`).\n",
    "\n",
    "The `babies` DataFrame appears to exclusively contain integer values:"
   ]
  },
  {
   "cell_type": "code",
   "execution_count": 8,
   "metadata": {},
   "outputs": [
    {
     "data": {
      "text/html": [
       "<div>\n",
       "<style scoped>\n",
       "    .dataframe tbody tr th:only-of-type {\n",
       "        vertical-align: middle;\n",
       "    }\n",
       "\n",
       "    .dataframe tbody tr th {\n",
       "        vertical-align: top;\n",
       "    }\n",
       "\n",
       "    .dataframe thead th {\n",
       "        text-align: right;\n",
       "    }\n",
       "</style>\n",
       "<table border=\"1\" class=\"dataframe\">\n",
       "  <thead>\n",
       "    <tr style=\"text-align: right;\">\n",
       "      <th></th>\n",
       "      <th>bwt</th>\n",
       "      <th>gestation</th>\n",
       "      <th>parity</th>\n",
       "      <th>age</th>\n",
       "      <th>height</th>\n",
       "      <th>weight</th>\n",
       "      <th>smoke</th>\n",
       "    </tr>\n",
       "  </thead>\n",
       "  <tbody>\n",
       "    <tr>\n",
       "      <th>0</th>\n",
       "      <td>120</td>\n",
       "      <td>284</td>\n",
       "      <td>0</td>\n",
       "      <td>27</td>\n",
       "      <td>62</td>\n",
       "      <td>100</td>\n",
       "      <td>0</td>\n",
       "    </tr>\n",
       "    <tr>\n",
       "      <th>1</th>\n",
       "      <td>113</td>\n",
       "      <td>282</td>\n",
       "      <td>0</td>\n",
       "      <td>33</td>\n",
       "      <td>64</td>\n",
       "      <td>135</td>\n",
       "      <td>0</td>\n",
       "    </tr>\n",
       "    <tr>\n",
       "      <th>2</th>\n",
       "      <td>128</td>\n",
       "      <td>279</td>\n",
       "      <td>0</td>\n",
       "      <td>28</td>\n",
       "      <td>64</td>\n",
       "      <td>115</td>\n",
       "      <td>1</td>\n",
       "    </tr>\n",
       "    <tr>\n",
       "      <th>...</th>\n",
       "      <td>...</td>\n",
       "      <td>...</td>\n",
       "      <td>...</td>\n",
       "      <td>...</td>\n",
       "      <td>...</td>\n",
       "      <td>...</td>\n",
       "      <td>...</td>\n",
       "    </tr>\n",
       "    <tr>\n",
       "      <th>1233</th>\n",
       "      <td>130</td>\n",
       "      <td>291</td>\n",
       "      <td>0</td>\n",
       "      <td>30</td>\n",
       "      <td>65</td>\n",
       "      <td>150</td>\n",
       "      <td>1</td>\n",
       "    </tr>\n",
       "    <tr>\n",
       "      <th>1234</th>\n",
       "      <td>125</td>\n",
       "      <td>281</td>\n",
       "      <td>1</td>\n",
       "      <td>21</td>\n",
       "      <td>65</td>\n",
       "      <td>110</td>\n",
       "      <td>0</td>\n",
       "    </tr>\n",
       "    <tr>\n",
       "      <th>1235</th>\n",
       "      <td>117</td>\n",
       "      <td>297</td>\n",
       "      <td>0</td>\n",
       "      <td>38</td>\n",
       "      <td>65</td>\n",
       "      <td>129</td>\n",
       "      <td>0</td>\n",
       "    </tr>\n",
       "  </tbody>\n",
       "</table>\n",
       "<p>1236 rows × 7 columns</p>\n",
       "</div>"
      ],
      "text/plain": [
       "      bwt  gestation  parity  age  height  weight  smoke\n",
       "0     120        284       0   27      62     100      0\n",
       "1     113        282       0   33      64     135      0\n",
       "2     128        279       0   28      64     115      1\n",
       "...   ...        ...     ...  ...     ...     ...    ...\n",
       "1233  130        291       0   30      65     150      1\n",
       "1234  125        281       1   21      65     110      0\n",
       "1235  117        297       0   38      65     129      0\n",
       "\n",
       "[1236 rows x 7 columns]"
      ]
     },
     "execution_count": 8,
     "metadata": {},
     "output_type": "execute_result"
    }
   ],
   "source": [
    "babies"
   ]
  },
  {
   "cell_type": "markdown",
   "metadata": {},
   "source": [
    "To peek at a column's values, we can use the `series.value_counts()` method which counts the number of times each value appears."
   ]
  },
  {
   "cell_type": "code",
   "execution_count": 9,
   "metadata": {},
   "outputs": [
    {
     "data": {
      "text/plain": [
       "23    93\n",
       "26    90\n",
       "24    86\n",
       "      ..\n",
       "45     1\n",
       "44     1\n",
       "15     1\n",
       "Name: age, Length: 31, dtype: int64"
      ]
     },
     "execution_count": 9,
     "metadata": {},
     "output_type": "execute_result"
    }
   ],
   "source": [
    "# Displays the ages (left) and their counts (right)\n",
    "babies['age'].value_counts()"
   ]
  },
  {
   "cell_type": "markdown",
   "metadata": {},
   "source": [
    "We can see that many of the mothers in the dataset were between 24 and 26 years old. In addition, we do not see any fractional ages (e.g. `24.5`), suggesting that the `age` column contains integers.\n",
    "\n",
    "By default, `pandas` restricts its output to only show a few values at once. To see more possible values, we can ask `pandas` to display more rows, though the output can be verbose if there are many rows to display."
   ]
  },
  {
   "cell_type": "code",
   "execution_count": 10,
   "metadata": {},
   "outputs": [
    {
     "data": {
      "text/plain": [
       "23    93\n",
       "26    90\n",
       "24    86\n",
       "27    85\n",
       "22    79\n",
       "      ..\n",
       "42     4\n",
       "99     2\n",
       "45     1\n",
       "44     1\n",
       "15     1\n",
       "Name: age, Length: 31, dtype: int64"
      ]
     },
     "metadata": {},
     "output_type": "display_data"
    }
   ],
   "source": [
    "from IPython.display import display\n",
    "\n",
    "# Within this block, display up to 10 rows. To display more rows,\n",
    "# change the 10 in the code below to a higher number.\n",
    "with pd.option_context('display.max_rows', 10):\n",
    "    display(babies['age'].value_counts())"
   ]
  },
  {
   "cell_type": "markdown",
   "metadata": {},
   "source": [
    "After double checking the values within the rest of the columns in the DataFrame in a similar way, we label each column with the following data types based on the data dictionary and examination of the data values.\n",
    "\n",
    "| Variable  | Description                                                | Data Type |\n",
    "| --------- | ---------------------------------------------------------- | --------- |\n",
    "| bwt       | Birth weight in ounces (999 unknown)                       | Numerical |\n",
    "| gestation | Length of pregnancy in days (999 unknown)                  | Numerical |\n",
    "| parity    | 0= first born, 9=unknown                                   | Nominal   |\n",
    "| age       | mother's age in years                                      | Numerical |\n",
    "| height    | mother's height in inches (99 unknown)                     | Numerical |\n",
    "| weight    | Mother's prepregnancy weight in pounds (999 unknown)       | Numerical |\n",
    "| smoke     | Smoking status of mother (0=not now, 1=yes now, 9=unknown) | Nominal   |\n"
   ]
  },
  {
   "cell_type": "markdown",
   "metadata": {},
   "source": [
    "### Example: San Francisco Restaurant Health Violations\n",
    "\n",
    "The city of San Francisco, California periodically inspects restaurants for health code violations. At each inspection, the restaurant receives a score from 0 to 100 based on the number and types of violations recorded. The restuarants, scores, and violations are publicly available on the DataSF website ([link](https://data.sfgov.org/Health-and-Social-Services/Restaurant-Scores-LIVES-Standard/pyih-qa8i)); the dataset contains all inspections from January 2016 and onward.\n",
    "\n",
    "We have loaded a subset of the data into the `scores` DataFrame below."
   ]
  },
  {
   "cell_type": "code",
   "execution_count": 11,
   "metadata": {},
   "outputs": [
    {
     "data": {
      "text/html": [
       "<div>\n",
       "<style scoped>\n",
       "    .dataframe tbody tr th:only-of-type {\n",
       "        vertical-align: middle;\n",
       "    }\n",
       "\n",
       "    .dataframe tbody tr th {\n",
       "        vertical-align: top;\n",
       "    }\n",
       "\n",
       "    .dataframe thead th {\n",
       "        text-align: right;\n",
       "    }\n",
       "</style>\n",
       "<table border=\"1\" class=\"dataframe\">\n",
       "  <thead>\n",
       "    <tr style=\"text-align: right;\">\n",
       "      <th></th>\n",
       "      <th>business_name</th>\n",
       "      <th>inspection_score</th>\n",
       "      <th>violation_description</th>\n",
       "      <th>risk_category</th>\n",
       "    </tr>\n",
       "  </thead>\n",
       "  <tbody>\n",
       "    <tr>\n",
       "      <th>0</th>\n",
       "      <td>All stars Donuts</td>\n",
       "      <td>86.0</td>\n",
       "      <td>Unclean or degraded floors walls or ceilings</td>\n",
       "      <td>Low Risk</td>\n",
       "    </tr>\n",
       "    <tr>\n",
       "      <th>1</th>\n",
       "      <td>Soo Fong Restaurant</td>\n",
       "      <td>92.0</td>\n",
       "      <td>Wiping cloths not clean or properly stored or ...</td>\n",
       "      <td>Low Risk</td>\n",
       "    </tr>\n",
       "    <tr>\n",
       "      <th>2</th>\n",
       "      <td>Dar Bar Pakistani/Indian Cusine</td>\n",
       "      <td>86.0</td>\n",
       "      <td>Moderate risk vermin infestation</td>\n",
       "      <td>Moderate Risk</td>\n",
       "    </tr>\n",
       "    <tr>\n",
       "      <th>...</th>\n",
       "      <td>...</td>\n",
       "      <td>...</td>\n",
       "      <td>...</td>\n",
       "      <td>...</td>\n",
       "    </tr>\n",
       "    <tr>\n",
       "      <th>52795</th>\n",
       "      <td>USA Power Market</td>\n",
       "      <td>71.0</td>\n",
       "      <td>Unclean hands or improper use of gloves</td>\n",
       "      <td>High Risk</td>\n",
       "    </tr>\n",
       "    <tr>\n",
       "      <th>52796</th>\n",
       "      <td>Thai Cottage Restaurant</td>\n",
       "      <td>81.0</td>\n",
       "      <td>Inadequate and inaccessible handwashing facili...</td>\n",
       "      <td>Moderate Risk</td>\n",
       "    </tr>\n",
       "    <tr>\n",
       "      <th>52797</th>\n",
       "      <td>St Mary's Cathedral/Convention Center</td>\n",
       "      <td>90.0</td>\n",
       "      <td>Inadequate and inaccessible handwashing facili...</td>\n",
       "      <td>Moderate Risk</td>\n",
       "    </tr>\n",
       "  </tbody>\n",
       "</table>\n",
       "<p>52798 rows × 4 columns</p>\n",
       "</div>"
      ],
      "text/plain": [
       "                               business_name  inspection_score  \\\n",
       "0                           All stars Donuts              86.0   \n",
       "1                        Soo Fong Restaurant              92.0   \n",
       "2            Dar Bar Pakistani/Indian Cusine              86.0   \n",
       "...                                      ...               ...   \n",
       "52795                       USA Power Market              71.0   \n",
       "52796                Thai Cottage Restaurant              81.0   \n",
       "52797  St Mary's Cathedral/Convention Center              90.0   \n",
       "\n",
       "                                   violation_description  risk_category  \n",
       "0           Unclean or degraded floors walls or ceilings       Low Risk  \n",
       "1      Wiping cloths not clean or properly stored or ...       Low Risk  \n",
       "2                       Moderate risk vermin infestation  Moderate Risk  \n",
       "...                                                  ...            ...  \n",
       "52795            Unclean hands or improper use of gloves      High Risk  \n",
       "52796  Inadequate and inaccessible handwashing facili...  Moderate Risk  \n",
       "52797  Inadequate and inaccessible handwashing facili...  Moderate Risk  \n",
       "\n",
       "[52798 rows x 4 columns]"
      ]
     },
     "execution_count": 11,
     "metadata": {},
     "output_type": "execute_result"
    }
   ],
   "source": [
    "scores = pd.read_csv('data/SFRestaurants.csv')\n",
    "scores"
   ]
  },
  {
   "cell_type": "markdown",
   "metadata": {},
   "source": [
    "For this dataset, we are fortunate enough to have a data dictionary that provides some information on the data types:\n",
    "\n",
    "| Field Name            | Data Type | Description                            |\n",
    "| --------------------- | --------- | -------------------------------------- |\n",
    "| business_name         | string    | Common name of the business.           |\n",
    "| inspection_score      | number    | Calculated inspection score, 0-100     |\n",
    "| violation_description | string    | One line description of the violation. |\n",
    "| risk_category         | string    | (No description provided.)             |\n",
    "\n",
    "However, we see that the data dictionary describes computational data types rather than statistical data types — for example, it uses `string` rather than distinguishing between nominal and ordinal data types. In addition, the `risk_category` column does not have a description."
   ]
  },
  {
   "cell_type": "markdown",
   "metadata": {},
   "source": [
    "**Text Data is not Always Nominal Data**\n",
    "\n",
    "The `violation_description` column provides a description of the violation. However, it is unclear from the data dictionary alone if we should treat the column's value as nominal data. The `violation_description` column might contain **unstructured text**, or free-form text entered in by hand. Unstructured text often originates from open-ended natural language data sources, such as newspaper articles, Google search queries, and free-response survey questions.\n",
    "\n",
    "We typically do not treat free-form text as nominal data — nominal data typically record a fixed number of categories while unstructured text does not. Thus, we should check the contents of the `violation_description` column to determine whether it contains unstructured text data or nominal data."
   ]
  },
  {
   "cell_type": "markdown",
   "metadata": {},
   "source": [
    "If the `violation_description` column contains unstructured text, we would expect that few of its values repeat often because there are many ways to record the same violation: `unclean floors`, `dirty floors`, `floor needs cleaning`, and so on. On the other hand, if the `violation_description` column contains data selected from a pre-specified list, many of the values should repeat.\n",
    "\n",
    "We indeed find that the column contains many repeat entries:"
   ]
  },
  {
   "cell_type": "code",
   "execution_count": 24,
   "metadata": {},
   "outputs": [
    {
     "data": {
      "text/plain": [
       "Unclean or degraded floors walls or ceilings                          3668\n",
       "Unapproved or unmaintained equipment or utensils                      2704\n",
       "Inadequate and inaccessible handwashing facilities                    2653\n",
       "Moderate risk food holding temperature                                2588\n",
       "Inadequately cleaned or sanitized food contact surfaces               2467\n",
       "Wiping cloths not clean or properly stored or inadequate sanitizer    2121\n",
       "Foods not protected from contamination                                1929\n",
       "                                                                      ... \n",
       "Discharge from employee nose mouth or eye                                6\n",
       "Noncompliance with Gulf Coast oyster regulation                          5\n",
       "Mobile food facility stored in unapproved location                       4\n",
       "Mobile food facility with unapproved operating conditions                3\n",
       "Unreported or unrestricted ill employee with communicable disease        1\n",
       "Noncompliance with Cottage Food Operation                                1\n",
       "Mobile food facility HCD insignia unavailable                            1\n",
       "Name: violation_description, Length: 67, dtype: int64"
      ]
     },
     "metadata": {},
     "output_type": "display_data"
    }
   ],
   "source": [
    "with pd.option_context('display.max_rows', 14):\n",
    "    display(scores['violation_description'].value_counts())"
   ]
  },
  {
   "cell_type": "markdown",
   "metadata": {},
   "source": [
    "This leads us to believe that the values in the `violation_description` column were selected from a list of possible violations. Thus, we treat the `violation_description` column as if it contains nominal data."
   ]
  },
  {
   "cell_type": "markdown",
   "metadata": {},
   "source": [
    "**Investigating a Missing Description**\n",
    "\n",
    "Although the `risk_category` column was not described in the data dictionary, we can examine the column's contents to infer its meaning. First, we find that the column only has three unique values:"
   ]
  },
  {
   "cell_type": "code",
   "execution_count": 25,
   "metadata": {},
   "outputs": [
    {
     "data": {
      "text/plain": [
       "Low Risk         19694\n",
       "Moderate Risk    14712\n",
       "High Risk         5686\n",
       "Name: risk_category, dtype: int64"
      ]
     },
     "execution_count": 25,
     "metadata": {},
     "output_type": "execute_result"
    }
   ],
   "source": [
    "scores['risk_category'].value_counts()"
   ]
  },
  {
   "cell_type": "markdown",
   "metadata": {},
   "source": [
    "We might sense that these values describe the severity of the violation. We can check this intuition by examining violations for each value in the `risk_category` column."
   ]
  },
  {
   "cell_type": "code",
   "execution_count": 43,
   "metadata": {},
   "outputs": [],
   "source": [
    "def risk_counts(risk):\n",
    "    return (scores.loc[scores['risk_category'] == risk,\n",
    "                       'violation_description']\n",
    "            .value_counts().head())"
   ]
  },
  {
   "cell_type": "code",
   "execution_count": 44,
   "metadata": {},
   "outputs": [
    {
     "data": {
      "text/plain": [
       "High risk food holding temperature             1619\n",
       "Unclean or unsanitary food contact surfaces    1197\n",
       "Improper cooling methods                        823\n",
       "Unclean hands or improper use of gloves         755\n",
       "High risk vermin infestation                    712\n",
       "Name: violation_description, dtype: int64"
      ]
     },
     "execution_count": 44,
     "metadata": {},
     "output_type": "execute_result"
    }
   ],
   "source": [
    "risk_counts('High Risk')"
   ]
  },
  {
   "cell_type": "code",
   "execution_count": 41,
   "metadata": {},
   "outputs": [
    {
     "data": {
      "text/plain": [
       "Inadequate and inaccessible handwashing facilities         2653\n",
       "Moderate risk food holding temperature                     2588\n",
       "Inadequately cleaned or sanitized food contact surfaces    2467\n",
       "Foods not protected from contamination                     1929\n",
       "Moderate risk vermin infestation                           1814\n",
       "Name: violation_description, dtype: int64"
      ]
     },
     "execution_count": 41,
     "metadata": {},
     "output_type": "execute_result"
    }
   ],
   "source": [
    "risk_counts('Moderate Risk')"
   ]
  },
  {
   "cell_type": "code",
   "execution_count": 42,
   "metadata": {},
   "outputs": [
    {
     "data": {
      "text/plain": [
       "Unclean or degraded floors walls or ceilings                          3668\n",
       "Unapproved or unmaintained equipment or utensils                      2704\n",
       "Wiping cloths not clean or properly stored or inadequate sanitizer    2121\n",
       "Improper food storage                                                 1817\n",
       "Unclean nonfood contact surfaces                                      1440\n",
       "Name: violation_description, dtype: int64"
      ]
     },
     "execution_count": 42,
     "metadata": {},
     "output_type": "execute_result"
    }
   ],
   "source": [
    "risk_counts('Low Risk')"
   ]
  },
  {
   "cell_type": "markdown",
   "metadata": {},
   "source": [
    "At a cursory glance, the violation categories are divided into each risk level. In addition, the `High Risk` violations seem more likely to cause illness than the `Low Risk` violations. Presumably a restaurant with `High risk vermin infestation` would be less sanitary than a restaurant with `Unclean nonfood contact surfaces`.\n",
    "\n",
    "Because of this, we decide that the `risk_category` column contains ordinal data describing the risk level of each violation (`Low Risk` < `Moderate Risk` < `High Risk`)."
   ]
  },
  {
   "cell_type": "markdown",
   "metadata": {},
   "source": [
    "**A Revised Data Dictionary**\n",
    "\n",
    "After investigating the remaining columns of the `scores` DataFrame, we arrive at the following revised data dictionary that we can use for further analysis:\n",
    "\n",
    "| Field Name            | Data Type | Description                                                        |\n",
    "| --------------------- | --------- | ------------------------------------------------------------------ |\n",
    "| business_name         | nominal   | Common name of the business.                                       |\n",
    "| inspection_score      | numerical | Calculated inspection score, 0-100                                 |\n",
    "| violation_description | nominal   | One line description of the violation.                             |\n",
    "| risk_category         | ordinal   | Risk level of the violation (Low Risk < Moderate Risk < High Risk) |\n"
   ]
  },
  {
   "cell_type": "markdown",
   "metadata": {},
   "source": [
    "## Summary\n",
    "\n",
    "We introduced the nominal, ordinal, and numerical data types and their importance for data science. When presented with a dataset, consult the data dictionary and the data itself to determine the data types for each column. Ensure that computational data types are not confused with statistical data types."
   ]
  }
 ],
 "metadata": {
  "kernelspec": {
   "display_name": "Python 3",
   "language": "python",
   "name": "python3"
  },
  "language_info": {
   "codemirror_mode": {
    "name": "ipython",
    "version": 3
   },
   "file_extension": ".py",
   "mimetype": "text/x-python",
   "name": "python",
   "nbconvert_exporter": "python",
   "pygments_lexer": "ipython3",
   "version": "3.7.1"
  }
 },
 "nbformat": 4,
 "nbformat_minor": 2
}
