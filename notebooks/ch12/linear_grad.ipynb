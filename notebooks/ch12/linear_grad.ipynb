{
 "cells": [
  {
   "cell_type": "markdown",
   "metadata": {
    "toc": true
   },
   "source": [
    "<h1>Table of Contents<span class=\"tocSkip\"></span></h1>\n",
    "<div class=\"toc\"><ul class=\"toc-item\"><li><span><a href=\"#Fitting-a-Linear-Model-Using-Gradient-Descent\" data-toc-modified-id=\"Fitting-a-Linear-Model-Using-Gradient-Descent-1\">Fitting a Linear Model Using Gradient Descent</a></span></li><li><span><a href=\"#Derivative-of-the-MSE-cost\" data-toc-modified-id=\"Derivative-of-the-MSE-cost-2\">Derivative of the MSE cost</a></span></li><li><span><a href=\"#Running-Gradient-Descent\" data-toc-modified-id=\"Running-Gradient-Descent-3\">Running Gradient Descent</a></span></li></ul></div>"
   ]
  },
  {
   "cell_type": "code",
   "execution_count": 87,
   "metadata": {},
   "outputs": [],
   "source": [
    "# HIDDEN\n",
    "import numpy as np\n",
    "import matplotlib.pyplot as plt\n",
    "import pandas as pd\n",
    "import seaborn as sns\n",
    "%matplotlib inline\n",
    "import ipywidgets as widgets\n",
    "from ipywidgets import interact, interactive, fixed, interact_manual\n",
    "import nbinteract as nbi\n",
    "\n",
    "sns.set()\n",
    "sns.set_context('talk')\n",
    "pd.options.display.max_rows = 7\n",
    "pd.options.display.max_columns = 8\n",
    "np.set_printoptions(precision=2)"
   ]
  },
  {
   "cell_type": "code",
   "execution_count": 88,
   "metadata": {},
   "outputs": [],
   "source": [
    "# HIDDEN\n",
    "tips = sns.load_dataset('tips')"
   ]
  },
  {
   "cell_type": "code",
   "execution_count": 89,
   "metadata": {},
   "outputs": [],
   "source": [
    "# HIDDEN\n",
    "def minimize(cost_fn, grad_cost_fn, x_vals, y_vals,\n",
    "             alpha=0.0005, progress=True):\n",
    "    '''\n",
    "    Uses gradient descent to minimize cost_fn. Returns the minimizing value of\n",
    "    theta once the cost changes less than 0.0001 between iterations.\n",
    "    '''\n",
    "    theta = np.array([0., 0.])\n",
    "    cost = cost_fn(theta, x_vals, y_vals)\n",
    "    while True:\n",
    "        if progress:\n",
    "            print(f'theta: {theta} | cost: {cost}')\n",
    "        gradient = grad_cost_fn(theta, x_vals, y_vals)\n",
    "        new_theta = theta - alpha * gradient\n",
    "        new_cost = cost_fn(new_theta, x_vals, y_vals)\n",
    "        \n",
    "        if abs(new_cost - cost) < 0.0001:\n",
    "            return new_theta\n",
    "        \n",
    "        theta = new_theta\n",
    "        cost = new_cost"
   ]
  },
  {
   "cell_type": "markdown",
   "metadata": {},
   "source": [
    "## Fitting a Linear Model Using Gradient Descent\n",
    "\n",
    "We want to fit a linear model that predicts the tip amount based on the total bill of the table:\n",
    "\n",
    "$$\n",
    "f_\\hat{\\theta} (x) = \\hat{\\theta_1} x + \\hat{\\theta_0}\n",
    "$$\n",
    "\n",
    "In order to find $ \\hat{\\theta_1} $ and $ \\hat{\\theta_0} $, we need to first choose a cost function. We will choose the mean squared error cost function:\n",
    "\n",
    "$$\n",
    "\\begin{aligned}\n",
    "L(\\hat{\\theta}, x, y)\n",
    "&= \\frac{1}{n} \\sum_{i = 1}^{n}(y_i - f_\\hat{\\theta} (x_i))^2\\\\\n",
    "\\end{aligned}\n",
    "$$\n",
    "\n",
    "Note that we have modified our loss function to reflect the addition of an explanatory variable in our new model. In this case, $ x $ is a vector containing the individual total bills, $ y $ is a vector containing the individual tip amounts, and $ \\hat{\\theta} $ is a vector: $ \\theta = [ \\hat{\\theta_1}, \\hat{\\theta_0} ] $.\n",
    "\n",
    "Using a linear model with the squared error also goes by the name of least-squares linear regression. We can use gradient descent to find the $ \\theta $ that minimizes the cost."
   ]
  },
  {
   "cell_type": "markdown",
   "metadata": {},
   "source": [
    "**An Aside on Using Correlation**\n",
    "\n",
    "If you have seen least-squares linear regression before, you may recognize that we can compute the correlation coefficient and use it to determine $ \\hat{\\theta_1} $ and $ \\hat{\\theta_0} $. This is simpler and faster to compute than using gradient descent for this specific problem, similar to how computing the mean was simpler than using gradient descent to fit a constant model. We will use gradient descent anyway because it is a general-purpose method of cost minimization that still works when we later introduce models that do not have analytic solutions. In fact, in many real-world scenarios we will use gradient descent even when an analytic solution exists, because the analytic solution is too computationally expensive to compute."
   ]
  },
  {
   "cell_type": "markdown",
   "metadata": {},
   "source": [
    "## Derivative of the MSE cost\n",
    "\n",
    "In order to use gradient descent, we have to compute the derivative of the MSE cost with respect to $ \\hat{\\theta} $. Now that $ \\hat{\\theta} $ is a vector of length 2 instead of a scalar, $ \\nabla_{\\hat\\theta} L(\\hat{\\theta}, x, y) $ will also be a vector of length 2.\n",
    "\n",
    "$$\n",
    "\\begin{aligned}\n",
    "\\nabla_{\\hat\\theta} L(\\hat{\\theta}, x, y)\n",
    "&= \\nabla_{\\hat\\theta} \\left[ \\frac{1}{n} \\sum_{i = 1}^{n}(y_i - f_\\hat{\\theta} (x_i))^2 \\right] \\\\\n",
    "&= \\frac{1}{n} \\sum_{i = 1}^{n}2 (y_i - f_\\hat{\\theta} (x_i))(- \\nabla_{\\hat\\theta} f_\\hat{\\theta} (x_i))\\\\\n",
    "&= -\\frac{2}{n} \\sum_{i = 1}^{n}(y_i - f_\\hat{\\theta} (x_i))(\\nabla_{\\hat\\theta} f_\\hat{\\theta} (x_i))\\\\\n",
    "\\end{aligned}\n",
    "$$"
   ]
  },
  {
   "cell_type": "markdown",
   "metadata": {},
   "source": [
    "We know:\n",
    "\n",
    "$$\n",
    "f_\\hat{\\theta} (x) = \\hat{\\theta_1} x + \\hat{\\theta_0}\n",
    "$$\n",
    "\n",
    "We now need to compute $ \\nabla_{\\hat\\theta} f_\\hat{\\theta} (x_i) $ which is a length 2 vector.\n",
    "\n",
    "$$\n",
    "\\begin{aligned}\n",
    "\\nabla_{\\hat\\theta} f_\\hat{\\theta} (x_i)\n",
    "&= \\begin{bmatrix}\n",
    "     \\frac{\\partial}{\\partial \\theta_0} f_\\hat{\\theta} (x_i)\\\\\n",
    "     \\frac{\\partial}{\\partial \\theta_1} f_\\hat{\\theta} (x_i)\n",
    "   \\end{bmatrix} \\\\\n",
    "&= \\begin{bmatrix}\n",
    "     \\frac{\\partial}{\\partial \\theta_0} [\\hat{\\theta_1} x_i + \\hat{\\theta_0}]\\\\\n",
    "     \\frac{\\partial}{\\partial \\theta_1} [\\hat{\\theta_1} x_i + \\hat{\\theta_0}]\n",
    "   \\end{bmatrix} \\\\\n",
    "&= \\begin{bmatrix}\n",
    "     1 \\\\\n",
    "     x_i\n",
    "   \\end{bmatrix} \\\\\n",
    "\\end{aligned}\n",
    "$$"
   ]
  },
  {
   "cell_type": "markdown",
   "metadata": {},
   "source": [
    "Finally, we plug back into our formula above to get\n",
    "\n",
    "$$\n",
    "\\begin{aligned}\n",
    "\\nabla_{\\hat\\theta} L(\\hat{\\theta}, x, y)\n",
    "&= -\\frac{2}{n} \\sum_{i = 1}^{n}(y_i - f_\\hat{\\theta} (x_i))(\\nabla_{\\hat\\theta} f_\\hat{\\theta} (x_i))\\\\\n",
    "&= -\\frac{2}{n} \\sum_{i = 1}^{n} (y_i - f_\\hat{\\theta} (x_i)) \\begin{bmatrix} 1 \\\\ x_i \\end{bmatrix} \\\\\n",
    "&= -\\frac{2}{n} \\sum_{i = 1}^{n} \\begin{bmatrix}\n",
    "    (y_i - f_\\hat{\\theta} (x_i)) \\\\\n",
    "    (y_i - f_\\hat{\\theta} (x_i)) x_i\n",
    "    \\end{bmatrix} \\\\\n",
    "\\end{aligned}\n",
    "$$\n",
    "\n",
    "This is a length 2 vector since $ (y_i - f_\\hat{\\theta} (x_i)) $ is a scalar."
   ]
  },
  {
   "cell_type": "markdown",
   "metadata": {},
   "source": [
    "## Running Gradient Descent\n",
    "\n",
    "Now, let's fit a linear model on the tips dataset to predict the tip amount from the total table bill. First, we define a Python function to compute the cost:"
   ]
  },
  {
   "cell_type": "code",
   "execution_count": 90,
   "metadata": {},
   "outputs": [],
   "source": [
    "def simple_linear_model(thetas, x_vals):\n",
    "    '''Returns predictions by a linear model on x_vals.'''\n",
    "    return thetas[0] + thetas[1] * x_vals\n",
    "\n",
    "def mse_cost(thetas, x_vals, y_vals):\n",
    "    return np.mean((y_vals - simple_linear_model(thetas, x_vals)) ** 2)"
   ]
  },
  {
   "cell_type": "markdown",
   "metadata": {},
   "source": [
    "Then, we define a function to compute the gradient of the cost:"
   ]
  },
  {
   "cell_type": "code",
   "execution_count": 91,
   "metadata": {},
   "outputs": [],
   "source": [
    "def grad_mse_cost(thetas, x_vals, y_vals):\n",
    "    n = len(x_vals)\n",
    "    grad_0 = y_vals - simple_linear_model(thetas, x_vals)\n",
    "    grad_1 = (y_vals - simple_linear_model(thetas, x_vals)) * x_vals\n",
    "    return -2 / n * np.array([np.sum(grad_0), np.sum(grad_1)])"
   ]
  },
  {
   "cell_type": "code",
   "execution_count": 92,
   "metadata": {},
   "outputs": [],
   "source": [
    "# HIDDEN\n",
    "thetas = np.array([1, 1])\n",
    "x_vals = np.array([3, 4])\n",
    "y_vals = np.array([4, 5])\n",
    "assert np.allclose(grad_mse_cost(thetas, x_vals, y_vals), [0, 0])"
   ]
  },
  {
   "cell_type": "markdown",
   "metadata": {},
   "source": [
    "Finally, we run gradient descent!"
   ]
  },
  {
   "cell_type": "code",
   "execution_count": 93,
   "metadata": {
    "scrolled": false
   },
   "outputs": [
    {
     "name": "stdout",
     "output_type": "stream",
     "text": [
      "theta: [ 0.  0.] | cost: 10.896283606557377\n",
      "theta: [ 0.    0.07] | cost: 3.8937622006094705\n",
      "theta: [ 0.   0.1] | cost: 1.9359443267168215\n",
      "theta: [ 0.01  0.12] | cost: 1.388538448286097\n",
      "theta: [ 0.01  0.13] | cost: 1.235459416905535\n",
      "theta: [ 0.01  0.14] | cost: 1.1926273731479433\n",
      "theta: [ 0.01  0.14] | cost: 1.1806184944517062\n",
      "theta: [ 0.01  0.14] | cost: 1.177227251696266\n",
      "theta: [ 0.01  0.14] | cost: 1.1762453624313751\n",
      "theta: [ 0.01  0.14] | cost: 1.1759370980989148\n",
      "theta: [ 0.01  0.14] | cost: 1.175817178966766\n",
      "CPU times: user 57.7 ms, sys: 14.1 ms, total: 71.8 ms\n",
      "Wall time: 76.9 ms\n"
     ]
    }
   ],
   "source": [
    "%%time\n",
    "\n",
    "thetas = minimize(mse_cost, grad_mse_cost, tips['total_bill'], tips['tip'])"
   ]
  },
  {
   "cell_type": "markdown",
   "metadata": {},
   "source": [
    "Using our estimated thetas, we can plot our predictions with the scatter plot of tip vs. total bill."
   ]
  },
  {
   "cell_type": "code",
   "execution_count": 94,
   "metadata": {},
   "outputs": [
    {
     "data": {
      "image/png": "[encoded data removed]",
      "text/plain": [
       "<matplotlib.figure.Figure at 0x1a1fa90470>"
      ]
     },
     "metadata": {},
     "output_type": "display_data"
    }
   ],
   "source": [
    "# HIDDEN\n",
    "x_vals = np.array([0, 55])\n",
    "sns.lmplot(x='total_bill', y='tip', data=tips, fit_reg=False)\n",
    "plt.plot(x_vals, simple_linear_model(thetas, x_vals), c='goldenrod')\n",
    "plt.title('Tip amount vs. Total Bill')\n",
    "plt.xlabel('Total Bill')\n",
    "plt.ylabel('Tip Amount');"
   ]
  },
  {
   "cell_type": "markdown",
   "metadata": {},
   "source": [
    "We can see that if a table's bill is \\$10, our model will predict that the waiter gets around \\$1.50 in tip. Similarly, if a table's bill is \\$40, our model will predict a tip of around \\$6.00."
   ]
  }
 ],
 "metadata": {
  "kernelspec": {
   "display_name": "Python 3",
   "language": "python",
   "name": "python3"
  },
  "language_info": {
   "codemirror_mode": {
    "name": "ipython",
    "version": 3
   },
   "file_extension": ".py",
   "mimetype": "text/x-python",
   "name": "python",
   "nbconvert_exporter": "python",
   "pygments_lexer": "ipython3",
   "version": "3.6.1"
  },
  "toc": {
   "nav_menu": {},
   "number_sections": false,
   "sideBar": false,
   "skip_h1_title": false,
   "title_cell": "Table of Contents",
   "title_sidebar": "Contents",
   "toc_cell": true,
   "toc_position": {},
   "toc_section_display": true,
   "toc_window_display": false
  }
 },
 "nbformat": 4,
 "nbformat_minor": 2
}
