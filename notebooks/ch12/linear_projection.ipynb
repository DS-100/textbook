{
 "cells": [
  {
   "cell_type": "code",
   "execution_count": 1,
   "metadata": {},
   "outputs": [],
   "source": [
    "# HIDDEN\n",
    "import numpy as np\n",
    "import matplotlib.pyplot as plt\n",
    "import pandas as pd\n",
    "import seaborn as sns\n",
    "from IPython.display import Image\n",
    "%matplotlib inline\n",
    "sns.set()\n",
    "sns.set_context('talk')"
   ]
  },
  {
   "cell_type": "markdown",
   "metadata": {},
   "source": [
    "# Least Squares - A geometric perspective"
   ]
  },
  {
   "cell_type": "markdown",
   "metadata": {},
   "source": [
    "Recall that we found the optimal coefficients for linear models by optimizing their loss functions with gradient descent. We also mentioned that least squares linear regression can be solved analytically. While gradient descent is practical, this geometric perspective will provide a deeper understanding of linear regression.\n",
    "\n",
    "A review of vectors and vector spaces is included at the bottom. We will assume familiarity with vector arithmetic, the 1-vector, span of a collection of vectors, and projections."
   ]
  },
  {
   "cell_type": "markdown",
   "metadata": {},
   "source": [
    "## Case Study"
   ]
  },
  {
   "cell_type": "markdown",
   "metadata": {},
   "source": [
    "We've been tasked with finding a good linear model for the below data:"
   ]
  },
  {
   "cell_type": "markdown",
   "metadata": {},
   "source": [
    "| x | y |\n",
    "| - |:-|\n",
    "| 3 | 2 |\n",
    "| 0 | 1 |\n",
    "| -1 | -2 |"
   ]
  },
  {
   "cell_type": "code",
   "execution_count": 2,
   "metadata": {},
   "outputs": [
    {
     "data": {
      "image/png": "[encoded data removed]",
      "text/plain": [
       "<Figure size 432x288 with 1 Axes>"
      ]
     },
     "metadata": {},
     "output_type": "display_data"
    }
   ],
   "source": [
    "# HIDDEN\n",
    "data = pd.DataFrame(\n",
    "    [\n",
    "        [3,2],\n",
    "        [0,1],\n",
    "        [-1,-2]\n",
    "    ],\n",
    "    columns=['x', 'y']\n",
    ")\n",
    "\n",
    "sns.regplot(x='x', y='y', data=data, ci=None, fit_reg=False);"
   ]
  },
  {
   "cell_type": "markdown",
   "metadata": {},
   "source": [
    "Assume that the best model is one with the least error, and that the least squares error is an acceptable measure.\n",
    "\n",
    "### Least Squares: Constant Model\n",
    "Like we did with the tips dataset, let's start with the constant model: the model that only ever predicts a single number.\n",
    "\n",
    "$$ f = \\hat{\\theta} $$\n",
    "\n",
    "Our goal is to find the $\\hat{\\theta}$ that results in the line that minimizes the least squares loss:\n",
    "\n",
    "$$ L(\\hat{\\theta}, \\vec{y}) = \\sum_{i = 1}^{n}(y_i - \\hat{\\theta})^2\\\\ $$\n",
    "\n",
    "Recall that for the constant model, the minimizing $\\theta$ for the MSE cost is $\\bar{y}$, the average of the $y$ values."
   ]
  },
  {
   "cell_type": "code",
   "execution_count": 3,
   "metadata": {},
   "outputs": [
    {
     "data": {
      "image/png": "[encoded data removed]",
      "text/plain": [
       "<Figure size 432x288 with 1 Axes>"
      ]
     },
     "metadata": {},
     "output_type": "display_data"
    }
   ],
   "source": [
    "#HIDDEN\n",
    "sns.regplot(x='x', y='y', data=data, ci=None, fit_reg=False);\n",
    "plt.plot([-2, 4], [0.333, 0.333], color='b', linewidth=3);"
   ]
  },
  {
   "cell_type": "markdown",
   "metadata": {},
   "source": [
    "Notice that our loss function is a sum of squares. The *L2*-norm for a vector is also a sum of squares, but with a square root: \n",
    "\n",
    "$$\\Vert \\vec{v} \\Vert = \\sqrt{v_1^2 + v_2^2 + \\dots + v_n^2}$$ "
   ]
  },
  {
   "cell_type": "markdown",
   "metadata": {},
   "source": [
    "If we let $y_i - \\hat{\\theta} = v_i$:\n",
    "\n",
    "$$\n",
    "\\begin{aligned}\n",
    "L(\\hat{\\theta}, \\vec{y}) \n",
    "&= v_1^2 + v_2^2 + \\dots + v_n^2 \\\\\n",
    "&= \\Vert \\vec{v} \\Vert^2\n",
    "\\end{aligned}\n",
    "$$\n",
    "\n",
    "This means our loss can be expressed as the *L2*-norm of some vector $v$, squared. We can express $v_i$ as $y_i - \\hat{\\theta} \\quad \\forall i \\in [1,n]$ so that in Cartesian notation, \n",
    "\n",
    "$$\n",
    "\\begin{aligned}\n",
    "\\vec{v} \\quad &= \\quad \\begin{bmatrix} y_1 - \\hat{\\theta} \\\\ y_2 - \\hat{\\theta} \\\\ \\vdots \\\\ y_n - \\hat{\\theta} \\end{bmatrix} \\\\\n",
    "&= \\quad \\begin{bmatrix} y_1 \\\\ y_2 \\\\ \\vdots \\\\ y_n  \\end{bmatrix} \\quad - \\quad \n",
    "\\begin{bmatrix} \\hat{\\theta} \\\\ \\hat{\\theta} \\\\ \\hat{\\theta} \\end{bmatrix} \\\\\n",
    "&= \\quad \\begin{bmatrix} y_1 \\\\ y_2 \\\\ \\vdots \\\\ y_n  \\end{bmatrix} \\quad - \\quad \n",
    "\\begin{bmatrix} 1 \\\\ 1 \\\\ \\vdots \\\\ 1 \\end{bmatrix}\n",
    "\\hat{\\theta}\n",
    "\\end{aligned}\n",
    "$$\n",
    "\n",
    "So our loss function can be written as:\n",
    "\n",
    "$$ \n",
    "\\begin{aligned}\n",
    "L(\\hat{\\theta}, \\vec{y})\n",
    "\\quad &= \\quad \\left \\Vert  \\qquad   \n",
    "\\begin{bmatrix} y_1 \\\\ y_2 \\\\ \\vdots \\\\ y_n  \\end{bmatrix} \\quad - \\quad \n",
    "\\begin{bmatrix} 1 \\\\ 1 \\\\ \\vdots \\\\ 1 \\end{bmatrix}\n",
    "\\hat{\\theta}\n",
    "\\qquad \\right \\Vert ^2 \\\\\n",
    "\\quad &= \\quad \\left \\Vert  \\qquad  \n",
    "\\vec{y} \n",
    "\\quad - \\quad \n",
    "\\hat{y}\n",
    "\\qquad \\right \\Vert ^2 \\\\\n",
    "\\end{aligned}\n",
    "$$"
   ]
  },
  {
   "cell_type": "markdown",
   "metadata": {},
   "source": [
    "The expression $\\begin{bmatrix} 1 \\\\ 1 \\\\ 1 \\end{bmatrix} \\ \\hat{\\theta}$  is a scalar multiple of the columns of the $\\vec{1}$ vector, and is the result of our predictions, denoted $\\hat{y}$.\n",
    "\n",
    "This gives us a new perspective on what it means to minimize the least squares error.\n",
    "\n",
    "$\\vec{y}$ and $\\vec{1}$ are fixed, but $\\hat{\\theta}$ can take on any value, so $\\hat{y}$ can be any scalar multiple of $\\vec{1}$. We want to find $\\hat{\\theta}$ so that $\\hat{\\theta} \\ \\vec{1}$ is closest to $\\vec{y}$.\n",
    "\n",
    "<img src=\"../../notebooks-images/linear_projection__1dprojection.png\" width=\"300\" />\n",
    "\n",
    "The projection of $\\vec{y}$ onto $\\vec{1}$ is guaranteed to be the closest vector (see \"Vector Space Review\")."
   ]
  },
  {
   "cell_type": "markdown",
   "metadata": {},
   "source": [
    "### Least Squares: Simple Linear Model\n",
    "Now, let's look at the simple linear regression model. This is strongly parallel to the constant model derivation, but be mindful of the differences and think about how you might generalize to multiple linear regression.\n",
    "\n",
    "The simple linear model is:\n",
    "\n",
    "$$\n",
    "\\begin{aligned}\n",
    "f_\\hat{\\theta} (x_i) \n",
    "&= \\hat{\\theta_0} + \\hat{\\theta_1} x_i \\\\\n",
    "\\end{aligned}\n",
    "$$\n",
    "\n",
    "Our goal is to find the $\\hat{\\theta}$ that results in the line with the least squared error:\n",
    "\n",
    "$$\n",
    "\\begin{aligned}\n",
    "L(\\hat{\\theta}, \\vec{x}, \\vec{y})\n",
    "&= \\sum_{i = 1}^{n}(y_i - f_\\hat{\\theta} (x_i))^2\\\\\n",
    "&= \\sum_{i = 1}^{n}(y_i - \\hat{\\theta_0} - \\hat{\\theta_1} x_i)^2\\\\\n",
    "&= \\sum_{i = 1}^{n}(y_i - \\begin{bmatrix} 1 & x_i \\end{bmatrix}\n",
    "\\begin{bmatrix} \n",
    "     \\hat{\\theta_0} \\\\\n",
    "     \\hat{\\theta_1}\n",
    "\\end{bmatrix} ) ^2\n",
    "\\end{aligned}\n",
    "$$"
   ]
  },
  {
   "cell_type": "code",
   "execution_count": 4,
   "metadata": {},
   "outputs": [
    {
     "data": {
      "image/png": "[encoded data removed]",
      "text/plain": [
       "<Figure size 432x288 with 1 Axes>"
      ]
     },
     "metadata": {},
     "output_type": "display_data"
    }
   ],
   "source": [
    "# HIDDEN\n",
    "data = pd.DataFrame(\n",
    "    [\n",
    "        [3,2],\n",
    "        [0,1],\n",
    "        [-1,-2]\n",
    "    ],\n",
    "    columns=['x', 'y']\n",
    ")\n",
    "\n",
    "sns.regplot(x='x', y='y', data=data, ci=None);"
   ]
  },
  {
   "cell_type": "markdown",
   "metadata": {},
   "source": [
    "To help us visualize the translation of our loss summation into matrix form, let's expand out the loss with $n = 3$.\n",
    "\n",
    "$$\n",
    "\\begin{aligned}\n",
    "L(\\hat{\\theta}, \\vec{x}, \\vec{y})\n",
    "&=\n",
    "(y_1 - \\begin{bmatrix} 1 & x_1 \\end{bmatrix}\n",
    "\\begin{bmatrix} \n",
    "     \\hat{\\theta_0} \\\\\n",
    "     \\hat{\\theta_1}\n",
    "\\end{bmatrix})^2  \\\\\n",
    "&+\n",
    "(y_2 - \\begin{bmatrix} 1 & x_2 \\end{bmatrix}\n",
    "\\begin{bmatrix} \n",
    "     \\hat{\\theta_0} \\\\\n",
    "     \\hat{\\theta_1}\n",
    "\\end{bmatrix})^2 \\\\\n",
    "&+\n",
    "(y_3 - \\begin{bmatrix} 1 & x_3 \\end{bmatrix}\n",
    "\\begin{bmatrix} \n",
    "     \\hat{\\theta_0} \\\\\n",
    "     \\hat{\\theta_1}\n",
    "\\end{bmatrix})^2 \\\\\n",
    "\\end{aligned}\n",
    "$$"
   ]
  },
  {
   "cell_type": "markdown",
   "metadata": {},
   "source": [
    "Again, our loss function is a sum of squares and the *L2*-norm for a vector is the square root of a sum of squares: \n",
    "\n",
    "$$\\Vert \\vec{v} \\Vert = \\sqrt{v_1^2 + v_2^2 + \\dots + v_n^2}$$ \n",
    "\n",
    "If we let $y_i - \\begin{bmatrix} 1 & x_i \\end{bmatrix}\n",
    "\\begin{bmatrix} \n",
    "     \\hat{\\theta_0} \\\\\n",
    "     \\hat{\\theta_1}\n",
    "\\end{bmatrix} = v_i$: \n",
    "\n",
    "$$\n",
    "\\begin{aligned}\n",
    "L(\\hat{\\theta}, \\vec{x}, \\vec{y}) \n",
    "&= v_1^2 + v_2^2 + \\dots + v_n^2 \\\\\n",
    "&= \\Vert \\vec{v} \\Vert^2\n",
    "\\end{aligned}\n",
    "$$\n",
    "\n",
    "As before, our loss can be expressed as the *L2*-norm of some vector $v$, squared. With each component $v_i = y_i - \\begin{bmatrix} 1 & x_i \\end{bmatrix}\n",
    "\\begin{bmatrix} \n",
    "     \\hat{\\theta_0} \\\\\n",
    "     \\hat{\\theta_1}\n",
    "\\end{bmatrix} \\quad \\forall i \\in [1,3]$:\n",
    "\n",
    "$$ \n",
    "\\begin{aligned}\n",
    "L(\\hat{\\theta}, \\vec{x}, \\vec{y})\n",
    "&= \\left \\Vert  \\qquad   \n",
    "\\begin{bmatrix} y_1 \\\\ y_2 \\\\ y_3  \\end{bmatrix} \\quad - \\quad \n",
    "\\begin{bmatrix} 1 & x_1 \\\\ 1 & x_2 \\\\ 1 & x_3 \\end{bmatrix}\n",
    "\\begin{bmatrix} \n",
    "     \\hat{\\theta_0} \\\\\n",
    "     \\hat{\\theta_1}\n",
    "\\end{bmatrix}\n",
    "\\qquad \\right \\Vert ^2 \\\\\n",
    "&= \\left \\Vert  \\qquad  \n",
    "\\vec{y} \n",
    "\\quad - \\quad \n",
    "X \n",
    "\\begin{bmatrix} \n",
    "     \\hat{\\theta_0} \\\\\n",
    "     \\hat{\\theta_1}\n",
    "\\end{bmatrix}\n",
    "\\qquad \\right \\Vert ^2 \\\\\n",
    "&= \\left \\Vert  \\qquad  \n",
    "\\vec{y} \n",
    "\\quad - \\quad \n",
    "f_\\hat{\\theta}\n",
    "\\qquad \\right \\Vert ^2 \\\\\n",
    "\\end{aligned}\n",
    "$$"
   ]
  },
  {
   "cell_type": "markdown",
   "metadata": {},
   "source": [
    "The matrix multiplication $\\begin{bmatrix} 1 & x_1 \\\\ 1 & x_2 \\\\ 1 & x_3 \\end{bmatrix}\n",
    "\\begin{bmatrix} \n",
    "     \\hat{\\theta_0} \\\\\n",
    "     \\hat{\\theta_1}\n",
    "\\end{bmatrix}$ is a linear combination of the columns of $X$: each $\\hat{\\theta_i}$ only ever multiplies with one column of $X$—this perspective shows us that $f_\\hat{\\theta}$ is a linear combination of the features of our data. In summary, simple linear regression fits $f_\\hat{\\theta}$ to $\\vec{1}$ and $\\vec{x}$.\n",
    "\n",
    "$X$ and $\\vec{y}$ are fixed, but $\\hat{\\theta_0}$ and $\\hat{\\theta_1}$ can take on any value, so $f_\\hat{\\theta}$ can take on any of the infinite linear combinations of the columns of $X$. To have the smallest loss, we want to choose $\\hat{\\theta_0}$ and $\\hat{\\theta_1}$ such that the resulting vector is as close to $\\vec{y}$ as possible."
   ]
  },
  {
   "cell_type": "markdown",
   "metadata": {},
   "source": [
    "## Geometric Intuition\n",
    "\n",
    "Now, let's develop an intuition for why it matters that $\\hat{y}$ is restricted to the linear combinations of the columns of $X$. Although the span of any set of vectors includes an infinite number of linear combinations, infinite does not mean any—the linear combinations are restricted by the basis vectors."
   ]
  },
  {
   "cell_type": "markdown",
   "metadata": {},
   "source": [
    "As a reminder, here is our loss function and scatter plot:\n",
    "\n",
    "$$L(\\hat{\\theta}, \\vec{x}, \\vec{y}) \\quad = \\quad \\left \\Vert  \\quad  \n",
    "\\vec{y} \n",
    "\\quad - \\quad \n",
    "X \\hat{\\theta}\n",
    "\\quad \\right \\Vert ^2$$"
   ]
  },
  {
   "cell_type": "code",
   "execution_count": 5,
   "metadata": {},
   "outputs": [
    {
     "data": {
      "image/png": "[encoded data removed]",
      "text/plain": [
       "<Figure size 432x288 with 1 Axes>"
      ]
     },
     "metadata": {},
     "output_type": "display_data"
    }
   ],
   "source": [
    "# HIDDEN\n",
    "sns.regplot(x='x', y='y', data=data, ci=None, fit_reg=False);"
   ]
  },
  {
   "cell_type": "markdown",
   "metadata": {},
   "source": [
    "By inspection, we see that no line can perfectly fit our points, so we cannot achieve 0 loss. Thus, we know that $\\vec{y}$ is not in the plane spanned by $\\vec{x}$ and $\\vec{1}$, represented as a parallelogram below.\n",
    "\n",
    "<img src=\"../../notebooks-images/linear_projection1.png\" width=\"500\" />\n",
    "\n",
    "Since our error is based on distance, we can see that to minimize $ L(\\hat{\\theta}, \\vec{x}, \\vec{y}) = \\left \\Vert  \\vec{y} - X \\hat{\\theta} \\right \\Vert ^2$, we want $X \\hat{\\theta}$ to be as close to $\\vec{y}$ as possible.\n",
    "\n",
    "Mathematically, we are looking for the projection of $\\vec{y}$ onto the vector space spanned by the columns of $X$, as the projection of any vector is the closest point in $Span(X)$ to that vector. Thus, choosing $\\hat{\\theta}$ such that $\\hat{y} = X \\hat{\\theta} = $ proj$_{Span(X)} \\quad $ $y$ is the best solution.\n",
    "<img src=\"../../notebooks-images/linear_projection2.png\" width=\"500\" />\n",
    "\n",
    "To see why, consider other points on the vector space, in purple.\n",
    "<img src=\"../../notebooks-images/linear_projection3.png\" width=\"500\" />\n",
    "\n",
    "By the Pythagorean Theorem, any other point on the plane is farther from $\\vec{y}$ than $\\hat{y}$ is. The length of the perpendicular corresponding to $\\hat{y}$ represents the least squared error."
   ]
  },
  {
   "cell_type": "markdown",
   "metadata": {},
   "source": [
    "## Linear Algebra\n",
    "\n",
    "Since we've snuck in a lot of linear algebra concepts already, all that's left is solving for the $\\hat{\\theta}$ that yields our desired $\\hat{y}$.\n",
    "\n",
    "A couple things to note: \n",
    "\n",
    "<img src=\"../../notebooks-images/linear_projection5.png\" width=\"500\" />\n",
    "\n",
    "- $\\hat{y} + e = \\vec{y}$\n",
    "- $\\vec{e}$ is perpendicular to $\\vec{x}$ and $\\vec{1}$\n",
    "- $\\hat{y} = X \\hat{\\theta^*}$ is the vector closest to $y$ in the vector space spanned by $\\vec{x}$ and $\\vec{1}$\n",
    "\n",
    "Thus, we arrive at the equation:\n",
    "\n",
    "$$X  \\hat{\\theta^*} + \\vec{e} = \\vec{y}$$\n",
    "\n",
    "Left-multiplying both sides by $X^T$:\n",
    "\n",
    "$$X^T X  \\hat{\\theta^*} + X^T \\vec{e} = X^T \\vec{y}$$\n",
    "\n",
    "Since $\\vec{e}$ is perpendicular to the columns of $X$, $X^T \\vec{e}$ is a column vector of $0$'s. Thus, we arrive at the Normal Equation:\n",
    "\n",
    "$$X^T X  \\hat{\\theta^*} = X^T \\vec{y}$$\n",
    "\n",
    "From here, we can easily solve for $\\hat{\\theta^*}$ by left-multiplying both sides by $(X^T X)^{-1}$:\n",
    "\n",
    "$$\\hat{\\theta^*} = (X^T X)^{-1} X^T \\vec{y}$$"
   ]
  },
  {
   "cell_type": "markdown",
   "metadata": {},
   "source": [
    "## Finishing up the Case Study"
   ]
  },
  {
   "cell_type": "markdown",
   "metadata": {},
   "source": [
    "Let's return to our case study, apply what we've learned, and explain why our solution is sound."
   ]
  },
  {
   "cell_type": "markdown",
   "metadata": {},
   "source": [
    "$$\n",
    "\\vec{y} = \\begin{bmatrix} 2 \\\\ 1 \\\\ -2  \\end{bmatrix} \\qquad X = \\begin{bmatrix} 1 & 3 \\\\ 1 & 0 \\\\ 1 & -1 \\end{bmatrix}\n",
    "$$\n"
   ]
  },
  {
   "cell_type": "markdown",
   "metadata": {},
   "source": [
    "$$\n",
    "\\begin{align}\n",
    "\\hat{\\theta^*} \n",
    "&= \n",
    "\\left(\n",
    "\\begin{bmatrix} 1 & 1 & 1 \\\\ 3 & 0 & -1 \\end{bmatrix}\n",
    "\\begin{bmatrix} 1 & 3 \\\\ 1 & 0 \\\\ 1 & -1 \\end{bmatrix}\n",
    "\\right)^{-1}\n",
    "\\begin{bmatrix} 1 & 1 & 1 \\\\ 3 & 0 & -1 \\end{bmatrix}\n",
    "\\begin{bmatrix} 2 \\\\ 1 \\\\ -2  \\end{bmatrix} \\\\\n",
    "&= \n",
    "\\left(\n",
    "\\begin{bmatrix} 3 & 2\\\\ 2 & 10 \\end{bmatrix}\n",
    "\\right)^{-1}\n",
    "\\begin{bmatrix} 1 \\\\ 8 \\end{bmatrix} \\\\\n",
    "&=\n",
    "\\frac{1}{30-4}\n",
    "\\begin{bmatrix} 10 & -2\\\\ -2 & 3 \\end{bmatrix}\n",
    "\\begin{bmatrix} 1 \\\\ 8 \\end{bmatrix} \\\\\n",
    "&=\n",
    "\\frac{1}{26}\n",
    "\\begin{bmatrix} -6 \\\\ 22 \\end{bmatrix}\\\\\n",
    "&=\n",
    "\\begin{bmatrix} - \\frac{3}{13} \\\\ \\frac{11}{13} \\end{bmatrix}\n",
    "\\end{align}\n",
    "$$"
   ]
  },
  {
   "cell_type": "markdown",
   "metadata": {},
   "source": [
    "We have analytically found that best model for least squares regression is $f_\\hat{\\theta} (x_i) = - \\frac{3}{13} + \\frac{11}{13} x_i$. We know that our choice of $\\hat{\\theta}$ is sound by the mathematical property that the projection of $\\vec{y}$ onto the span of the columns of $X$ yields the closest point in the vector space to $\\vec{y}$. Under linear constraints using the least squares metric, solving for $\\hat{\\theta}$ by taking the projection guarantees us the optimal solution."
   ]
  },
  {
   "cell_type": "markdown",
   "metadata": {},
   "source": [
    "## When Variables are Linearly Dependent\n",
    "\n",
    "For every additional variable, we add one column to $X$. The span of the columns of $X$ is the linear combinations of the column vectors, so adding columns only changes the span if it is linearly independent from all existing columns.\n",
    "\n",
    "When the added column is linearly dependent, it can be expressed as a linear combination of some other columns, and thus will not introduce new any vectors to the subspace.\n",
    "\n",
    "Recall that the span of $X$ is important because it is the subspace we want to project $\\vec{y}$ onto. If the subspace does not change, then the projection will not change.\n",
    "\n",
    "For example, when we introduced $\\vec{x}$ to the constant model to get the simple linear model, we introduced a independent variable. $\\vec{x} = \\begin{bmatrix} 3 \\\\ 0 \\\\ -1 \\end{bmatrix}$ cannot be expressed as a scalar of $\\begin{bmatrix} 1 \\\\ 1 \\\\ 1 \\end{bmatrix}$. Thus, we moved from finding the projection of $\\vec{y}$ onto a line:\n",
    "\n",
    "<img src=\"../../notebooks-images/linear_projection__1dprojection.png\" width=\"250\" />\n",
    "\n",
    "to finding the projection of $\\vec{y}$ onto a plane:\n",
    "\n",
    "<img src=\"../../notebooks-images/linear_projection1.png\" width=\"500\" />\n",
    "\n",
    "\n",
    "Now, lets introduce another variable, $\\vec{z}$:"
   ]
  },
  {
   "cell_type": "markdown",
   "metadata": {},
   "source": [
    "| x | z |  y |\n",
    "| - |:-| - |\n",
    "| 3 | 4 | 2 |\n",
    "| 0 | 1 | 1 |\n",
    "| -1 | 0 | -2 |"
   ]
  },
  {
   "cell_type": "markdown",
   "metadata": {},
   "source": [
    "But since $\\vec{z} = \\vec{1} + \\vec{x}$, $\\vec{z}$ is linearly dependent on the existing columns and therefore does not change $Span(X)$. In fact, $\\vec{z}$ lies in the original $Span(X)$:\n",
    "\n",
    "<img src=\"../../notebooks-images/linear_projection__dependent_variablesz.png\" width=\"500\" />"
   ]
  },
  {
   "cell_type": "markdown",
   "metadata": {},
   "source": [
    "Notice that $\\vec{z} = \\vec{1} + \\vec{x}$. Since $\\vec{z}$ is a linear combination of $\\vec{1}$ and $\\vec{x}$, it lies in the original $Span(X)$. Furthermore, we can say that the original $Span(X)$ is the same as the new $Span(X)$. Thus, the projection of $\\vec{y}$ onto the subspace spanned by $\\vec{1}$, $\\vec{x}$, and $\\vec{z}$ would be the same as the projection of $\\vec{y}$ onto the subspace spanned by $\\vec{1}$ and $\\vec{x}$."
   ]
  },
  {
   "cell_type": "markdown",
   "metadata": {},
   "source": [
    "We can also observe this from minimizing the loss function:\n",
    "\n",
    "$$ \n",
    "\\begin{aligned}\n",
    "L(\\hat{\\theta}, \\vec{d}, \\vec{y})\n",
    "&= \\left \\Vert  \\qquad   \n",
    "\\begin{bmatrix} y_1 \\\\ y_2 \\\\ y_3  \\end{bmatrix} \\quad - \\quad \n",
    "\\begin{bmatrix} 1 & x_1 & z_1 \\\\ 1 & x_2 & z_2\\\\ 1 & x_3 & z_3\\end{bmatrix}\n",
    "\\begin{bmatrix} \n",
    "     \\hat{\\theta_0} \\\\\n",
    "     \\hat{\\theta_1} \\\\\n",
    "     \\hat{\\theta_2}\n",
    "\\end{bmatrix}\n",
    "\\qquad \\right \\Vert ^2 \\\\\n",
    "&= \\left \\Vert  \\qquad   \n",
    "\\begin{bmatrix} y_1 \\\\ y_2 \\\\ y_3  \\end{bmatrix} \\quad - \\quad \n",
    "\\begin{bmatrix} 1 & 3 & 4\\\\ 1 & 0 & 1\\\\ 1 & -1 & 0\\end{bmatrix}\n",
    "\\begin{bmatrix} \n",
    "     \\hat{\\theta_0} \\\\\n",
    "     \\hat{\\theta_1} \\\\\n",
    "     \\hat{\\theta_2}\n",
    "\\end{bmatrix}\n",
    "\\qquad \\right \\Vert ^2 \\\\\n",
    "\\end{aligned}\n",
    "$$\n",
    "\n",
    "\n",
    "Our possible solutions follow the form $\\theta_0 \\begin{bmatrix} 1 \\\\ 1 \\\\ 1 \\end{bmatrix} + \\theta_1 \\begin{bmatrix} 3 \\\\ 0 \\\\ -1 \\end{bmatrix} + \\theta_2 \\begin{bmatrix} 4 \\\\ 1 \\\\ 0 \\end{bmatrix}$.\n",
    "\n",
    "\n",
    "Since $\\vec{z} = \\vec{1} + \\vec{x}$, regardless of $\\theta_0$, $\\theta_1$, and $\\theta_2$, the possible values can be rewritten as:\n",
    "$$ (\\theta_0 + \\theta_2) \\begin{bmatrix} 1 \\\\ 1 \\\\ 1 \\end{bmatrix} + (\\theta_1 + \\theta_2) \\begin{bmatrix} 3 \\\\ 0 \\\\ -1 \\end{bmatrix}$$\n",
    "\n",
    "So adding $\\vec{z}$ does not change the problem at all. The only difference is, we can express this projection in multiple ways. Recall that we found the projection of $\\vec{y}$ onto the plane spanned by $\\vec{1}$ and $\\vec{x}$ to be:\n",
    "\n",
    "$$ \\begin{bmatrix} \\vec{1} & \\vec{x} \\end{bmatrix}  \\begin{bmatrix} - \\frac{3}{13} \\\\ \\frac{11}{13} \\end{bmatrix} = - \\frac{3}{13} \\vec{1} + \\frac{11}{13} \\vec{x}$$\n",
    "\n",
    "However, with the introduction of $\\vec{z}$, we have more ways to express this same projection vector. \n",
    "\n",
    "Since $\\vec{1} = \\vec{z} - \\vec{x}$, $\\hat{y}$ can also be expressed as:\n",
    "\n",
    "$$ - \\frac{3}{13} (\\vec{z} - \\vec{x}) + \\frac{11}{13} \\vec{x} = - \\frac{3}{13} \\vec{z} + \\frac{14}{13} \\vec{x} $$\n",
    "\n",
    "Since $\\vec{x} = \\vec{z} + \\vec{1}$, $\\hat{y}$ can also be expressed as:\n",
    "\n",
    "$$ - \\frac{3}{13} \\vec{1} + \\frac{11}{13} (\\vec{z} + \\vec{1}) = \\frac{8}{13} \\vec{1} + \\frac{11}{13} \\vec{z} $$\n",
    "\n",
    "But all three expressions represent the same projection.\n",
    "\n",
    "In conclusion, adding a linearly dependent column to $X$ does not change $Span(X)$, and thus will not change the projection and solution to the least squares problem."
   ]
  },
  {
   "cell_type": "markdown",
   "metadata": {},
   "source": [
    "## Vector Space Review\n",
    "- Definition of a vector\n",
    "- Scaling vectors\n",
    "- Adding vectors\n",
    "- Vector notations\n",
    "- The $\\vec{1}$ vector\n",
    "\n",
    "- Span of a set of vectors\n",
    "- Vector space\n",
    "- Vector subspace\n",
    "\n",
    "\n",
    "- Angles between vectors\n",
    "- Vector length\n",
    "- Distance between of vectors\n",
    "- Orthogonal vectors\n",
    "- Projections of vectors"
   ]
  },
  {
   "cell_type": "markdown",
   "metadata": {},
   "source": [
    "#### Vector Definition\n",
    "A vector is defined by a length and a direction.\n",
    "\n",
    "<img src=\"../../notebooks-images/vector_space_review__vectors.png\" width=\"500\" />\n",
    "\n",
    "Notice that $\\vec{x}$ and $\\vec{y}$ have the same length and direction. They are equal vectors."
   ]
  },
  {
   "cell_type": "markdown",
   "metadata": {},
   "source": [
    "#### Scaling and Adding Vectors\n",
    "To scale a vector is to change it's length.\n",
    "\n",
    "<img src=\"../../notebooks-images/vector_space_review__scaling.png\" width=\"500\" />\n",
    "\n",
    "Notice that $\\vec{2x}$ and $\\vec{y}$ have the direction but different lengths. They are not equal.\n",
    "\n",
    "To add two vectors $\\vec{y} + \\vec{z}$, take one step according to the length of $\\vec{y}$, then immediately take one step according to the length of $\\vec{z}$ (or vice versa). This is also known as triangle method, where you place the initial point of a vector on the terminal point of the other.\n",
    "\n",
    "<img src=\"../../notebooks-images/vector_space_review__adding.png\" width=\"300\" />"
   ]
  },
  {
   "cell_type": "markdown",
   "metadata": {},
   "source": [
    "#### Vector Notations\n",
    "Vectors are usually represented as Cartesian Coordinates.\n",
    "\n",
    "<img src=\"../../notebooks-images/vector_space_review__notation.png\" width=\"500\" />\n",
    "\n",
    "$$ \\vec{x} = \\begin{bmatrix} 1 \\\\ 4  \\end{bmatrix} , \\quad \n",
    "   \\vec{y} = \\begin{bmatrix} 3 \\\\ 2  \\end{bmatrix} , \\quad \n",
    "   \\vec{z} = \\begin{bmatrix} 4 \\\\ 0  \\end{bmatrix}$$\n",
    "   \n",
    "In this notation, arithmetic operations we saw earlier become quite easy.\n",
    "\n",
    "$$ \\vec{2x} = \\begin{bmatrix} 2 \\\\ 8  \\end{bmatrix} , \\quad\n",
    "   \\vec{-0.5z} = \\begin{bmatrix} -2 \\\\ 0  \\end{bmatrix} , \\quad\n",
    "   \\vec{2x + -0.5z} = \\begin{bmatrix} 0 \\\\ 8  \\end{bmatrix}\n",
    "$$\n",
    "\n",
    "<img src=\"../../notebooks-images/vector_space_review__notation_arithmetic.png\" width=\"500\" />\n",
    "\n",
    "\n",
    "Vectors can be added and scaled element-wise:\n",
    "\n",
    "$$a \\vec{x} + b \\vec{y} = \\begin{bmatrix} a \\ x_1 & + & b \\  y_1 \\\\\n",
    "                                            & \\vdots & \\\\\n",
    "                                          a \\  x_n & + & b \\  y_n\n",
    "                          \\end{bmatrix}\n",
    "$$"
   ]
  },
  {
   "cell_type": "markdown",
   "metadata": {},
   "source": [
    "#### The $\\vec{1}$ Vector\n",
    "In any $d$ dimensional space, $\\vec{1}$ is the vector of all $1$'s: \n",
    "$ \\begin{bmatrix} 1 \\\\ \\vdots \\\\ 1  \\end{bmatrix}$"
   ]
  },
  {
   "cell_type": "markdown",
   "metadata": {},
   "source": [
    "#### Span\n",
    "The span of a set of vectors $\\{\\vec{v_1}, \\vec{v_2}, \\dots, \\vec{v_p}\\}$ is the set of all possible linear combinations. For these $p$ vectors:\n",
    "\n",
    "$$ \\{ c_1 \\ \\vec{v_1} + c_2 \\ \\vec{v_2} + \\dots + c_p \\ \\vec{v_p} \\ : \\ \\forall c_i \\in F\\}$$\n",
    "\n",
    "where $F$ is the field of the vector space (out of scope)."
   ]
  },
  {
   "cell_type": "markdown",
   "metadata": {},
   "source": [
    "#### Vector Spaces\n",
    "A vector space $V$ is the span of a set of vectors $\\{\\vec{v_1}, \\vec{v_2}, \\dots, \\vec{v_p}\\}$, where each $\\vec{v_i}$ is a $n \\times 1$ dimensional column vector."
   ]
  },
  {
   "cell_type": "markdown",
   "metadata": {},
   "source": [
    "#### Vector Subspaces\n",
    "A subspace $U$ of $V$ is the span of a set of vectors $\\{\\vec{u_1}, \\dots, \\vec{u_q}\\}$ where each $\\vec{u_i} \\in V$. This means every vector in $U$ is also in $V$."
   ]
  },
  {
   "cell_type": "markdown",
   "metadata": {},
   "source": [
    "#### Vector Angles\n",
    "When you put any two vectors terminal end to terminal end without changing their direction, you can measure the angle between them.\n",
    "\n",
    "<img src=\"../../notebooks-images/vector_space_review__angle.png\" width=\"300\" />\n"
   ]
  },
  {
   "cell_type": "markdown",
   "metadata": {},
   "source": [
    "#### Vector Length\n",
    "\n",
    "Intuition in $\\mathbb{R}^2$ :\n",
    "\n",
    "Recall the triangle method of adding two vectors. If we add two perpendicular vectors $\\vec{a} + \\vec{b}$ in $\\mathbb{R}^2$, then we know that the resulting vector will be the hypotenuse. In this case, we also know that the length of $\\vec{a} + \\vec{b}$ will follow the Pythagorean Theorem: $\\sqrt{a^2 + b^2}$.\n",
    "\n",
    "<img src=\"../../notebooks-images/vector_space_review__length.png\" width=\"400\" />\n",
    "\n",
    "\n",
    "General Formula for  Length of $\\vec{v} \\in \\mathbb{R}^n$ :\n",
    "$$\\begin{aligned} || \\vec{v} || \\quad\n",
    "&=  \\quad \\sqrt{v_1^2 + v_2^2 + \\dots + v_n^2}  \\\\\n",
    "&= \\quad \\sqrt{\\vec{v} \\cdot \\vec{v}}\n",
    "\\end{aligned}\n",
    "$$\n",
    "\n",
    "Where the final operator is the dot product.\n",
    "\n",
    "$$ \\begin{aligned}\n",
    "\\vec{x} \\cdot \\vec{y} \\quad \n",
    "&= \\quad x_1 \\ y_1 + x_2 \\ y_2 + \\dots + x_n \\ y_n \\\\\n",
    "&= \\quad||x|| \\ ||y|| \\ \\cos{\\theta}\n",
    "\\end{aligned}\n",
    "$$\n",
    "\n",
    "The first expression is known as the algebraic definition of the dot product, and the second is the geometric definition. Note that the dot product is the inner product defined for vectors in $\\mathbb{R}^n$. "
   ]
  },
  {
   "cell_type": "markdown",
   "metadata": {},
   "source": [
    "#### Distance Between Two Vectors\n",
    "$$dist(\\vec{x},\\vec{y}) \\quad = \\quad || \\vec{x} - \\vec{y} ||$$\n",
    "\n",
    "<img src=\"../../notebooks-images/vector_space_review__distance.png\" width=\"500\" />\n"
   ]
  },
  {
   "cell_type": "markdown",
   "metadata": {},
   "source": [
    "#### Orthogonal Vectors\n",
    "For two non-zero vectors to be orthogonal, they must satisfy the property that $\\vec{x} \\cdot \\vec{y} = 0$. Since they have non-zero length, the only way for the two vectors to be orthogonal is if $\\cos{\\theta} = 0$. One satisfying $\\theta$ is 90 degrees, our familiar right angle."
   ]
  },
  {
   "cell_type": "markdown",
   "metadata": {},
   "source": [
    "#### Projections\n",
    "To project one vector $\\vec{x}$ onto another vector $\\vec{y}$, we want to find $k \\ \\vec{y}$ that is closest to $\\vec{x}$.\n",
    "\n",
    "<img src=\"../../notebooks-images/vector_space_review__projection.png\" width=\"400\" />\n",
    "\n",
    "\n",
    "By the Pythagorean Theorem, we know that $k$ must be the scalar such that $\\vec{x} - k \\ \\vec{y}$ is perpendicular to $\\vec{y}$, so  $k \\ \\vec{y}$ is the (orthogonal) projection of $\\vec{x}$ onto $\\vec{y}$.\n",
    "\n",
    "Likewise, to project one vector $\\vec{x}$ onto any vector space spanned by some set of vectors $\\{\\vec{v_1}, \\vec{v_2}, \\dots, \\vec{v_p}\\}$, we still find the linear combination $k_1 \\ \\vec{v_1} + k_2 \\ \\vec{v_2} + \\dots + k_p \\ \\vec{v_p}\\}$ that is closest to $\\vec{x}$.\n",
    "\n",
    "<img src=\"../../notebooks-images/vector_space_review__proj2d.png\" width=\"500\" />\n"
   ]
  }
 ],
 "metadata": {
  "kernelspec": {
   "display_name": "Python 3",
   "language": "python",
   "name": "python3"
  },
  "language_info": {
   "codemirror_mode": {
    "name": "ipython",
    "version": 3
   },
   "file_extension": ".py",
   "mimetype": "text/x-python",
   "name": "python",
   "nbconvert_exporter": "python",
   "pygments_lexer": "ipython3",
   "version": "3.6.5"
  }
 },
 "nbformat": 4,
 "nbformat_minor": 2
}
