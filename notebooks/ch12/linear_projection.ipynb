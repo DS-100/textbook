{
 "cells": [
  {
   "cell_type": "code",
   "execution_count": 1,
   "metadata": {},
   "outputs": [],
   "source": [
    "# HIDDEN\n",
    "import numpy as np\n",
    "import matplotlib.pyplot as plt\n",
    "import pandas as pd\n",
    "import seaborn as sns\n",
    "from IPython.display import Image\n",
    "%matplotlib inline\n",
    "sns.set()\n",
    "sns.set_context('talk')"
   ]
  },
  {
   "cell_type": "markdown",
   "metadata": {},
   "source": [
    "# Least Squares Regression as a Projection"
   ]
  },
  {
   "cell_type": "markdown",
   "metadata": {},
   "source": [
    "Recall that we found the optimal coefficients for linear models by optimizing their cost functions with gradient descent.\n",
    "\n",
    "We also mentioned that least squares linear regression can be solved analytically. While gradient descent is practical, this geometric perspective will provide a deeper understanding of linear regression."
   ]
  },
  {
   "cell_type": "markdown",
   "metadata": {},
   "source": [
    "## Case Study"
   ]
  },
  {
   "cell_type": "markdown",
   "metadata": {},
   "source": [
    "We've been tasked with finding a good linear model and a rigorous argument for how we know that our model is sound, using the following data:"
   ]
  },
  {
   "cell_type": "markdown",
   "metadata": {},
   "source": [
    "| x | y |\n",
    "| - |:-|\n",
    "| 3 | 2 |\n",
    "| 0 | 1 |\n",
    "| -1 | -2 |"
   ]
  },
  {
   "cell_type": "code",
   "execution_count": 2,
   "metadata": {},
   "outputs": [
    {
     "data": {
      "text/plain": [
       "<matplotlib.axes._subplots.AxesSubplot at 0x1111584e0>"
      ]
     },
     "execution_count": 2,
     "metadata": {},
     "output_type": "execute_result"
    },
    {
     "data": {
      "image/png": "[encoded data removed]",
      "text/plain": [
       "<Figure size 432x288 with 1 Axes>"
      ]
     },
     "metadata": {},
     "output_type": "display_data"
    }
   ],
   "source": [
    "# HIDDEN\n",
    "data = pd.DataFrame(\n",
    "    [\n",
    "        [3,2],\n",
    "        [0,1],\n",
    "        [-1,-2]\n",
    "    ],\n",
    "    columns=['x', 'y']\n",
    ")\n",
    "\n",
    "sns.regplot(x='x', y='y', data=data, ci=None)"
   ]
  },
  {
   "cell_type": "markdown",
   "metadata": {},
   "source": [
    "Assume that the best model is one with the least error, and that the least squared error is an acceptable measure.\n",
    "\n",
    "Recall that a simple linear regression model follows the form:\n",
    "\n",
    "$$\n",
    "\\begin{aligned}\n",
    "f_\\hat{\\theta} (x_i) \n",
    "&= \\hat{\\theta_0} + \\hat{\\theta_1} x_i \\\\\n",
    "\\end{aligned}\n",
    "$$\n",
    "\n",
    "Our goal is to find the $\\hat{\\theta}$ that results in the line with the least squared error $L(\\hat{\\theta}, \\vec{x}, \\vec{y})$:\n",
    "\n",
    "$$\n",
    "\\begin{aligned}\n",
    "L(\\hat{\\theta}, \\vec{x}, \\vec{y})\n",
    "&= \\sum_{i = 1}^{n}(y_i - f_\\hat{\\theta} (x_i))^2\\\\\n",
    "&= \\sum_{i = 1}^{n}(y_i - \\hat{\\theta_0} - \\hat{\\theta_1} x_i)^2\\\\\n",
    "&= \\sum_{i = 1}^{n}(y_i - \\begin{bmatrix} 1 & x_i \\end{bmatrix}\n",
    "\\begin{bmatrix} \n",
    "     \\hat{\\theta_0} \\\\\n",
    "     \\hat{\\theta_1}\n",
    "\\end{bmatrix} ) ^2\n",
    "\\end{aligned}\n",
    "$$"
   ]
  },
  {
   "cell_type": "markdown",
   "metadata": {},
   "source": [
    "In our data set, n = 3, so let's expand out this equation by breaking up the summation.\n",
    "\n",
    "$$\n",
    "\\begin{aligned}\n",
    "L(\\hat{\\theta}, \\vec{x}, \\vec{y})\n",
    "&=\n",
    "(y_1 - \\begin{bmatrix} 1 & x_1 \\end{bmatrix}\n",
    "\\begin{bmatrix} \n",
    "     \\hat{\\theta_0} \\\\\n",
    "     \\hat{\\theta_1}\n",
    "\\end{bmatrix})^2  \\\\\n",
    "&+\n",
    "(y_2 - \\begin{bmatrix} 1 & x_2 \\end{bmatrix}\n",
    "\\begin{bmatrix} \n",
    "     \\hat{\\theta_0} \\\\\n",
    "     \\hat{\\theta_1}\n",
    "\\end{bmatrix})^2 \\\\\n",
    "&+\n",
    "(y_3 - \\begin{bmatrix} 1 & x_3 \\end{bmatrix}\n",
    "\\begin{bmatrix} \n",
    "     \\hat{\\theta_0} \\\\\n",
    "     \\hat{\\theta_1}\n",
    "\\end{bmatrix})^2 \\\\\n",
    "\\end{aligned}\n",
    "$$"
   ]
  },
  {
   "cell_type": "markdown",
   "metadata": {},
   "source": [
    "Notice that our loss function is a sum of squares. Now, notice that the *L2*-norm for a vector has a similar form: \n",
    "\n",
    "$$\\Vert \\vec{v} \\Vert = \\sqrt{v_1^2 + v_2^2 + \\dots + v_n^2}$$ \n",
    "\n",
    "So if we can express each $y_i - \\begin{bmatrix} 1 & x_i \\end{bmatrix}\n",
    "\\begin{bmatrix} \n",
    "     \\hat{\\theta_0} \\\\\n",
    "     \\hat{\\theta_1}\n",
    "\\end{bmatrix}$ as a vector, we can express our loss as the *L2*-norm, squared:\n",
    "\n",
    "$$ \n",
    "\\begin{aligned}\n",
    "L(\\hat{\\theta}, \\vec{x}, \\vec{y})\n",
    "&= \\left \\Vert  \\qquad   \n",
    "\\begin{bmatrix} y_1 \\\\ y_2 \\\\ y_3  \\end{bmatrix} \\quad - \\quad \n",
    "\\begin{bmatrix} 1 & x_1 \\\\ 1 & x_2 \\\\ 1 & x_3 \\end{bmatrix}\n",
    "\\begin{bmatrix} \n",
    "     \\hat{\\theta_0} \\\\\n",
    "     \\hat{\\theta_1}\n",
    "\\end{bmatrix}\n",
    "\\qquad \\right \\Vert ^2 \\\\\n",
    "&= \\left \\Vert  \\qquad  \n",
    "\\vec{y} \n",
    "\\quad - \\quad \n",
    "X \n",
    "\\begin{bmatrix} \n",
    "     \\hat{\\theta_0} \\\\\n",
    "     \\hat{\\theta_1}\n",
    "\\end{bmatrix}\n",
    "\\qquad \\right \\Vert ^2 \\\\\n",
    "&= \\left \\Vert  \\qquad  \n",
    "\\vec{y} \n",
    "\\quad - \\quad \n",
    "\\vec{\\hat{y}}\n",
    "\\qquad \\right \\Vert ^2 \\\\\n",
    "\\end{aligned}\n",
    "$$"
   ]
  },
  {
   "cell_type": "markdown",
   "metadata": {},
   "source": [
    "This gives us a new perspective on what it means to minimize the least squares error.\n",
    "\n",
    "\n",
    "$X$ and $\\vec{y}$ are fixed, but $\\hat{\\theta_0}$ and $\\hat{\\theta_1}$ can take on any value, so there are *infinite possible vectors* created by matrix multiplying $X$ and $\\hat{\\theta}$. To have the smallest loss, we want to choose $\\hat{\\theta_0}$ and $\\hat{\\theta_1}$ such that the resulting vector is as close to $\\vec{y}$ as possible. This is the same underlying logic as before: find the smallest squared distance; but between two vectors $\\vec{y}$ and $\\vec{\\hat{y}}$, rather than considering the indefinite number of data points. Lastly, notice that the matrix multiplication is a linear combination of the columns of $X$: each $\\hat{\\theta_i}$ only ever multiplies with one column of $X$--this perspective shows us that our $\\hat{y}$ is a linear combination of the features of our data. Let's get some geometric intuition on these observations.\n",
    "\n"
   ]
  },
  {
   "cell_type": "markdown",
   "metadata": {},
   "source": [
    "## Geometrical Intuition\n",
    "\n",
    "Multiplying $X$ and $\\hat{\\theta}$ represents adding scalar multiples of the columns of $X$: $\\vec{x}$ and $\\vec{1}$, resulting in a linear combination. Here is an intuition:\n",
    "\n",
    "Let's take two generic vectors, $\\vec{x}$ and $\\vec{1}$, colored black. We use red to represent the new vector we are adding, and blue for the older linear combinations."
   ]
  },
  {
   "cell_type": "code",
   "execution_count": 3,
   "metadata": {},
   "outputs": [
    {
     "data": {
      "image/png": "[encoded data removed]",
      "text/plain": [
       "<Figure size 432x288 with 1 Axes>"
      ]
     },
     "metadata": {},
     "output_type": "display_data"
    }
   ],
   "source": [
    "# HIDDEN\n",
    "plt.quiver([0, 0], [0, 0], [1, 2], [1, -4], \n",
    "           angles='xy', scale_units='xy', scale=1, \n",
    "           color=['black', 'black'])\n",
    "plt.xlim(-7, 7)\n",
    "plt.ylim(-8, 8)\n",
    "plt.show()"
   ]
  },
  {
   "cell_type": "markdown",
   "metadata": {},
   "source": [
    "When $\\hat{\\theta_0} = 2$ and $\\hat{\\theta_1} = 0.5$, we add half of $x$ with two times the unit vector, resulting in a new vector."
   ]
  },
  {
   "cell_type": "code",
   "execution_count": 4,
   "metadata": {},
   "outputs": [
    {
     "data": {
      "image/png": "[encoded data removed]",
      "text/plain": [
       "<Figure size 432x288 with 1 Axes>"
      ]
     },
     "metadata": {},
     "output_type": "display_data"
    }
   ],
   "source": [
    "# HIDDEN\n",
    "plt.quiver([0, 0, 0], [0, 0, 0], [1, 2, 3], [1, -4, 0], \n",
    "           angles='xy', scale_units='xy', scale=1, \n",
    "           color=['black', 'black', 'red'])\n",
    "plt.xlim(-7, 7)\n",
    "plt.ylim(-8, 8)\n",
    "plt.show()"
   ]
  },
  {
   "cell_type": "markdown",
   "metadata": {},
   "source": [
    "When $\\hat{\\theta_0} = 3$ and $\\hat{\\theta_1} = -1$, we add $3$ times the unit vector to $-1$ times $x$, resulting in yet another vector."
   ]
  },
  {
   "cell_type": "code",
   "execution_count": 5,
   "metadata": {},
   "outputs": [
    {
     "data": {
      "image/png": "[encoded data removed]",
      "text/plain": [
       "<Figure size 432x288 with 1 Axes>"
      ]
     },
     "metadata": {},
     "output_type": "display_data"
    }
   ],
   "source": [
    "# HIDDEN\n",
    "plt.quiver([0, 0, 0, 0], [0, 0, 0, 0], [1, 2, 3, 1], [1, -4, 0, 7], \n",
    "           angles='xy', scale_units='xy', scale=1, \n",
    "           color=['black', 'black', 'blue', 'red'])\n",
    "plt.xlim(-7, 7)\n",
    "plt.ylim(-8, 8)\n",
    "plt.show()"
   ]
  },
  {
   "cell_type": "markdown",
   "metadata": {},
   "source": [
    "With $\\hat{\\theta_0} = -2$ and $\\hat{\\theta_1} = -1$, we get:"
   ]
  },
  {
   "cell_type": "code",
   "execution_count": 6,
   "metadata": {},
   "outputs": [
    {
     "data": {
      "image/png": "[encoded data removed]",
      "text/plain": [
       "<Figure size 432x288 with 1 Axes>"
      ]
     },
     "metadata": {},
     "output_type": "display_data"
    }
   ],
   "source": [
    "# HIDDEN\n",
    "plt.quiver([0, 0, 0, 0, 0], [0, 0, 0, 0, 0], [1, 2, 3, 1, -4], [1, -4, 0, 7, 2], \n",
    "           angles='xy', scale_units='xy', scale=1, \n",
    "           color=['black', 'black', 'blue', 'blue', 'red'])\n",
    "plt.xlim(-7, 7)\n",
    "plt.ylim(-8, 8)\n",
    "plt.show()"
   ]
  },
  {
   "cell_type": "markdown",
   "metadata": {},
   "source": [
    "With $\\hat{\\theta_0} = -4$ and $\\hat{\\theta_1} = 1$, we get:"
   ]
  },
  {
   "cell_type": "code",
   "execution_count": 7,
   "metadata": {},
   "outputs": [
    {
     "data": {
      "image/png": "[encoded data removed]",
      "text/plain": [
       "<Figure size 432x288 with 1 Axes>"
      ]
     },
     "metadata": {},
     "output_type": "display_data"
    }
   ],
   "source": [
    "# HIDDEN\n",
    "plt.quiver([0, 0, 0, 0, 0, 0], [0, 0, 0, 0, 0, 0], [1, 2, 3, 1, -4, -2], [1, -4, 0, 7, 2, -8], \n",
    "           angles='xy', scale_units='xy', scale=1, \n",
    "           color=['black', 'black', 'blue', 'blue', 'blue', 'red'])\n",
    "plt.xlim(-7, 7)\n",
    "plt.ylim(-8, 8)\n",
    "plt.show()"
   ]
  },
  {
   "cell_type": "markdown",
   "metadata": {},
   "source": [
    "This process can go on and on, showing that when we can use any scalar multiples, we can make an infinite number of linear combinations. However, infinite does not mean any--the linear combinations span a space defined by the original vectors. In this case, we would create a plane as you can start to see above. Formally, this illustrates how vectors $\\vec{x}$ and $\\vec{1}$ span a vector space."
   ]
  },
  {
   "cell_type": "markdown",
   "metadata": {},
   "source": [
    "Recall:\n",
    "- our scatter plot\n",
    "- $X$ and $\\vec{y}$ are defined by the data\n",
    "- our loss value is the L2 norm of $y-X \\hat{\\theta}$, squared. \n",
    "\n",
    "By inspection, we see that no line can perfectly fit our points, so we cannot achieve 0 loss. Thus, we know that $\\vec{y}$ is not in the plane spanned by $\\vec{x}$ and $\\vec{1}$.\n",
    "\n",
    "Visually,\n",
    "\n",
    "<img src=\"../../notebooks-images/linear_projection1.png\" width=\"500\" />\n",
    "\n",
    "Since our error is based on distance, we can see that to minimize $ L(\\hat{\\theta}, \\vec{x}, \\vec{y}) = \\left \\Vert  \\vec{y} - X \\hat{\\theta} \\right \\Vert ^2$, we want $X \\hat{\\theta}$ to be as close to $\\vec{y}$ as possible.\n",
    "\n",
    "Mathematically, we are looking for the projection of $\\vec{y}$ onto the vector space spanned by the columns of $X$ because the projection $\\hat{y}$ has the property of being the closest point in the vector space to the vector $y$.\n",
    "<img src=\"../../notebooks-images/linear_projection2.png\" width=\"500\" />\n",
    "\n",
    "To see why, consider other points on the vector space, in purple.\n",
    "<img src=\"../../notebooks-images/linear_projection3.png\" width=\"500\" />\n",
    "\n",
    "By the Pythagorean Theorem, any other point on the plane is farther from $\\vec{y}$ than $\\hat{y}$ is. The longer the distance, the higher the least squared error. Thus, the length of the perpendicular represents the least squared error."
   ]
  },
  {
   "cell_type": "markdown",
   "metadata": {},
   "source": [
    "## Linear Algebra\n",
    "\n",
    "Since we've snuck in a lot of linear algebra concepts already, all that's left is solving for the $\\hat{\\theta}$ that yields our desired $\\hat{y}$.\n",
    "\n",
    "A couple things to note: \n",
    "\n",
    "<img src=\"../../notebooks-images/linear_projection5.png\" width=\"500\" />\n",
    "\n",
    "- $\\hat{y} + e = \\vec{y}$\n",
    "- $\\vec{e}$ is perpendicular to $\\vec{x}$ and $\\vec{1}$\n",
    "- $\\hat{y} = X \\hat{\\theta^*}$ is the vector closest to $y$ in the vector space spanned by $\\vec{x}$ and $\\vec{1}$\n",
    "\n",
    "Thus, we arrive at the equation:\n",
    "\n",
    "$$X  \\hat{\\theta^*} + \\vec{e} = \\vec{y}$$\n",
    "\n",
    "Left-multiplying both sides by $X^T$:\n",
    "\n",
    "$$X^T X  \\hat{\\theta^*} + X^T \\vec{e} = X^T \\vec{y}$$\n",
    "\n",
    "But since $\\vec{e}$ is perpendicular to the columns of $X$, $X^T \\vec{e}$ is a column vector of $0$'s. Thus, we arrive at the Normal Equation:\n",
    "\n",
    "$$X^T X  \\hat{\\theta^*} = X^T \\vec{y}$$\n",
    "\n",
    "From here, we can easily solve for $\\hat{\\theta^*}$ by left-multiplying both sides by $(X^T X)^{-1}$:\n",
    "\n",
    "$$\\hat{\\theta^*} = (X^T X)^{-1} X^T \\vec{y}$$"
   ]
  },
  {
   "cell_type": "markdown",
   "metadata": {},
   "source": [
    "## Finishing up the Case Study"
   ]
  },
  {
   "cell_type": "markdown",
   "metadata": {},
   "source": [
    "Let's return to our case study and apply what we've learned, and explain to our client why our solution is sound."
   ]
  },
  {
   "cell_type": "markdown",
   "metadata": {},
   "source": [
    "$$\n",
    "\\vec{y} = \\begin{bmatrix} 2 \\\\ 1 \\\\ -2  \\end{bmatrix} \\qquad X = \\begin{bmatrix} 1 & 3 \\\\ 1 & 0 \\\\ 1 & -1 \\end{bmatrix}\n",
    "$$\n"
   ]
  },
  {
   "cell_type": "markdown",
   "metadata": {},
   "source": [
    "$$\n",
    "\\begin{align}\n",
    "\\hat{\\theta^*} \n",
    "&= \n",
    "\\left(\n",
    "\\begin{bmatrix} 1 & 1 & 1 \\\\ 3 & 0 & -1 \\end{bmatrix}\n",
    "\\begin{bmatrix} 1 & 3 \\\\ 1 & 0 \\\\ 1 & -1 \\end{bmatrix}\n",
    "\\right)^{-1}\n",
    "\\begin{bmatrix} 1 & 1 & 1 \\\\ 3 & 0 & -1 \\end{bmatrix}\n",
    "\\begin{bmatrix} 2 \\\\ 1 \\\\ -2  \\end{bmatrix} \\\\\n",
    "&= \n",
    "\\left(\n",
    "\\begin{bmatrix} 3 & 2\\\\ 2 & 10 \\end{bmatrix}\n",
    "\\right)^{-1}\n",
    "\\begin{bmatrix} 1 \\\\ 8 \\end{bmatrix} \\\\\n",
    "&=\n",
    "\\frac{1}{30-4}\n",
    "\\begin{bmatrix} 10 & -2\\\\ -2 & 3 \\end{bmatrix}\n",
    "\\begin{bmatrix} 1 \\\\ 8 \\end{bmatrix} \\\\\n",
    "&=\n",
    "\\frac{1}{26}\n",
    "\\begin{bmatrix} -6 \\\\ 22 \\end{bmatrix}\\\\\n",
    "&=\n",
    "\\begin{bmatrix} - \\frac{3}{13} \\\\ \\frac{11}{13} \\end{bmatrix}\n",
    "\\end{align}\n",
    "$$"
   ]
  },
  {
   "cell_type": "markdown",
   "metadata": {},
   "source": [
    "We have analytically found that best model for least squares regression is $f_\\hat{\\theta} (x_i) = - \\frac{3}{13} + \\frac{11}{13} x_i$. We know that our choice of $\\hat{\\theta}$ is sound by the mathematical property that the projection of $\\vec{y}$ onto the span of the columns of $X$ yields the closest point in the vector space to $\\vec{y}$. Under linear constraints using the least squares metric, solving for $\\hat{\\theta}$ by taking the projection guarantees us the optimal solution."
   ]
  }
 ],
 "metadata": {
  "kernelspec": {
   "display_name": "Python 3",
   "language": "python",
   "name": "python3"
  },
  "language_info": {
   "codemirror_mode": {
    "name": "ipython",
    "version": 3
   },
   "file_extension": ".py",
   "mimetype": "text/x-python",
   "name": "python",
   "nbconvert_exporter": "python",
   "pygments_lexer": "ipython3",
   "version": "3.6.5"
  }
 },
 "nbformat": 4,
 "nbformat_minor": 2
}
