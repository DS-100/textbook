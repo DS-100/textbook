{
 "cells": [
  {
   "cell_type": "code",
   "execution_count": 105,
   "metadata": {},
   "outputs": [],
   "source": [
    "# HIDDEN\n",
    "import numpy as np\n",
    "import matplotlib.pyplot as plt\n",
    "import pandas as pd\n",
    "import seaborn as sns\n",
    "from IPython.display import Image\n",
    "%matplotlib inline\n",
    "sns.set()\n",
    "sns.set_context('talk')"
   ]
  },
  {
   "cell_type": "markdown",
   "metadata": {},
   "source": [
    "# Least Squares Regression as a Projection"
   ]
  },
  {
   "cell_type": "markdown",
   "metadata": {},
   "source": [
    "Recall that we found the optimal coefficients for linear models by optimizing their cost functions with gradient descent.\n",
    "\n",
    "We also mentioned that least squares linear regression can be solved analytically. While gradient descent is practical, this geometric perspective will provide a deeper understanding of linear regression."
   ]
  },
  {
   "cell_type": "markdown",
   "metadata": {},
   "source": [
    "## Case Study"
   ]
  },
  {
   "cell_type": "markdown",
   "metadata": {},
   "source": [
    "A wealthy client has a set of points with a clear linear pattern and asked us to come up with the best linear model for the data and a rigorous argument for how we know that our model is sound."
   ]
  },
  {
   "cell_type": "code",
   "execution_count": 124,
   "metadata": {},
   "outputs": [
    {
     "data": {
      "text/html": [
       "<div>\n",
       "<style scoped>\n",
       "    .dataframe tbody tr th:only-of-type {\n",
       "        vertical-align: middle;\n",
       "    }\n",
       "\n",
       "    .dataframe tbody tr th {\n",
       "        vertical-align: top;\n",
       "    }\n",
       "\n",
       "    .dataframe thead th {\n",
       "        text-align: right;\n",
       "    }\n",
       "</style>\n",
       "<table border=\"1\" class=\"dataframe\">\n",
       "  <thead>\n",
       "    <tr style=\"text-align: right;\">\n",
       "      <th></th>\n",
       "      <th>x</th>\n",
       "      <th>y</th>\n",
       "    </tr>\n",
       "  </thead>\n",
       "  <tbody>\n",
       "    <tr>\n",
       "      <th>0</th>\n",
       "      <td>3</td>\n",
       "      <td>2</td>\n",
       "    </tr>\n",
       "    <tr>\n",
       "      <th>1</th>\n",
       "      <td>0</td>\n",
       "      <td>1</td>\n",
       "    </tr>\n",
       "    <tr>\n",
       "      <th>2</th>\n",
       "      <td>-1</td>\n",
       "      <td>-2</td>\n",
       "    </tr>\n",
       "  </tbody>\n",
       "</table>\n",
       "</div>"
      ],
      "text/plain": [
       "   x  y\n",
       "0  3  2\n",
       "1  0  1\n",
       "2 -1 -2"
      ]
     },
     "execution_count": 124,
     "metadata": {},
     "output_type": "execute_result"
    }
   ],
   "source": [
    "# HIDDEN\n",
    "data = pd.DataFrame(\n",
    "    [\n",
    "        [3,2],\n",
    "        [0,1],\n",
    "        [-1,-2]\n",
    "    ],\n",
    "    columns=['x', 'y']\n",
    ")\n",
    "data"
   ]
  },
  {
   "cell_type": "code",
   "execution_count": 125,
   "metadata": {},
   "outputs": [
    {
     "data": {
      "text/plain": [
       "<matplotlib.axes._subplots.AxesSubplot at 0x1108ccef0>"
      ]
     },
     "execution_count": 125,
     "metadata": {},
     "output_type": "execute_result"
    },
    {
     "data": {
      "image/png": "[encoded data removed]",
      "text/plain": [
       "<Figure size 432x288 with 1 Axes>"
      ]
     },
     "metadata": {},
     "output_type": "display_data"
    }
   ],
   "source": [
    "# HIDDEN\n",
    "sns.regplot(x='x', y='y', data=data, ci=None)"
   ]
  },
  {
   "cell_type": "markdown",
   "metadata": {},
   "source": [
    "We can assume that when he says he wants the best model, he wants the least error, and that the least squared error is an acceptable measure.\n",
    "\n",
    "Recall that linear models follows the form:\n",
    "\n",
    "$$\n",
    "\\begin{aligned}\n",
    "f_\\hat{\\theta} (x_i) \n",
    "&= \\hat{\\theta_1} x_i + \\hat{\\theta_0} \\\\\n",
    "\\end{aligned}\n",
    "$$\n",
    "\n",
    "Thus, our goal is to find the $\\hat{\\theta}$ that results in the line with the least squared error $L(\\hat{\\theta}, \\vec{x}, \\vec{y})$:\n",
    "\n",
    "$$\n",
    "\\begin{aligned}\n",
    "L(\\hat{\\theta}, \\vec{x}, \\vec{y})\n",
    "&= \\sum_{i = 1}^{n}(y_i - f_\\hat{\\theta} (x_i))^2\\\\\n",
    "&= \\sum_{i = 1}^{n}(y_i - \\hat{\\theta_1} x_i - \\hat{\\theta_0})^2\\\\\n",
    "&= \\sum_{i = 1}^{n}(y_i - \\begin{bmatrix} x_i & 1 \\end{bmatrix}\n",
    "\\begin{bmatrix} \n",
    "     \\hat{\\theta_1} \\\\\n",
    "     \\hat{\\theta_0}\n",
    "\\end{bmatrix} ) ^2\n",
    "\\end{aligned}\n",
    "$$"
   ]
  },
  {
   "cell_type": "markdown",
   "metadata": {},
   "source": [
    "Let's visualize this cost function.\n",
    "\n",
    "$$\n",
    "\\begin{aligned}\n",
    "L(\\hat{\\theta}, \\vec{x}, \\vec{y})\n",
    "&=\n",
    "(y_1 - \\begin{bmatrix} x_i & 1 \\end{bmatrix}\n",
    "\\begin{bmatrix} \n",
    "     \\hat{\\theta_1} \\\\\n",
    "     \\hat{\\theta_0}\n",
    "\\end{bmatrix})^2  \\\\\n",
    "&+\n",
    "(y_2 - \\begin{bmatrix} x_i & 1 \\end{bmatrix}\n",
    "\\begin{bmatrix} \n",
    "     \\hat{\\theta_1} \\\\\n",
    "     \\hat{\\theta_0}\n",
    "\\end{bmatrix})^2 \\\\\n",
    "&+\n",
    "(y_3 - \\begin{bmatrix} x_i & 1 \\end{bmatrix}\n",
    "\\begin{bmatrix} \n",
    "     \\hat{\\theta_1} \\\\\n",
    "     \\hat{\\theta_0}\n",
    "\\end{bmatrix})^2 \\\\\n",
    "\\end{aligned}\n",
    "$$"
   ]
  },
  {
   "cell_type": "markdown",
   "metadata": {},
   "source": [
    "Recalling the norm for a vector: $$\\Vert \\vec{v} \\Vert = \\sqrt{v_1^2 + v_2^2 + \\dots + v_n^2}$$ \n",
    "\n",
    "We can rewrite the loss as a matrix equation:\n",
    "\n",
    "$$ \n",
    "\\begin{aligned}\n",
    "L(\\hat{\\theta}, \\vec{x}, \\vec{y})\n",
    "&= \\left \\Vert  \\qquad   \n",
    "\\begin{bmatrix} y_1 \\\\ y_2 \\\\ y_3  \\end{bmatrix} \\quad - \\quad \n",
    "\\begin{bmatrix} x_1 & 1\\\\ x_2 & 1 \\\\ x_3 & 1 \\end{bmatrix}\n",
    "\\begin{bmatrix} \\hat{\\theta_1} \\\\ \\hat{\\theta_0} \\end{bmatrix}\n",
    "\\qquad \\right \\Vert ^2 \\\\\n",
    "&= \\left \\Vert  \\qquad  \n",
    "\\vec{y} \n",
    "\\quad - \\quad \n",
    "X \n",
    "\\begin{bmatrix} \\hat{\\theta_1} \\\\ \\hat{\\theta_0} \\end{bmatrix}\n",
    "\\qquad \\right \\Vert ^2 \\\\\n",
    "\\end{aligned}\n",
    "$$"
   ]
  },
  {
   "cell_type": "markdown",
   "metadata": {},
   "source": [
    "This gives us a new perspective on what it means to minimize the least squares error. \n",
    "\n",
    "$X$ and $\\vec{y}$ are fixed, but $\\hat{\\theta_1}$ and $\\hat{\\theta_0}$ can take on any value, so there are infinite possible vectors created by matrix multiplying $X$ and $\\hat{\\theta}$. Thus, we want to choose $\\hat{\\theta_1}$ and $\\hat{\\theta_2}$ such that the resulting vector is as close to $\\vec{y}$ as possible."
   ]
  },
  {
   "cell_type": "markdown",
   "metadata": {},
   "source": [
    "## Geometrical Intuition\n",
    "\n",
    "Multiplying $X$ and $\\hat{\\theta}$ represents adding scalar multiples of the columns of $X$: $\\vec{x}$ and $\\vec{1}$. Here is an intuition:\n",
    "\n",
    "We start off with two vectors, $\\vec{x}$ and $\\vec{1}$."
   ]
  },
  {
   "cell_type": "code",
   "execution_count": 100,
   "metadata": {},
   "outputs": [
    {
     "data": {
      "image/png": "[encoded data removed]",
      "text/plain": [
       "<Figure size 432x288 with 1 Axes>"
      ]
     },
     "metadata": {},
     "output_type": "display_data"
    }
   ],
   "source": [
    "# HIDDEN\n",
    "plt.quiver([0, 0], [0, 0], [1, 2], [1, -4], \n",
    "           angles='xy', scale_units='xy', scale=1, \n",
    "           color=['black', 'black'])\n",
    "plt.xlim(-7, 7)\n",
    "plt.ylim(-8, 8)\n",
    "plt.show()"
   ]
  },
  {
   "cell_type": "markdown",
   "metadata": {},
   "source": [
    "When $\\hat{\\theta_1} = 0.5$ and $\\hat{\\theta_0} = 2$, we add half of $x$ with two times the unit vector, resulting in a new vector."
   ]
  },
  {
   "cell_type": "code",
   "execution_count": 101,
   "metadata": {},
   "outputs": [
    {
     "data": {
      "image/png": "[encoded data removed]",
      "text/plain": [
       "<Figure size 432x288 with 1 Axes>"
      ]
     },
     "metadata": {},
     "output_type": "display_data"
    }
   ],
   "source": [
    "# HIDDEN\n",
    "plt.quiver([0, 0, 0], [0, 0, 0], [1, 2, 3], [1, -4, 0], \n",
    "           angles='xy', scale_units='xy', scale=1, \n",
    "           color=['black', 'black', 'red'])\n",
    "plt.xlim(-7, 7)\n",
    "plt.ylim(-8, 8)\n",
    "plt.show()"
   ]
  },
  {
   "cell_type": "markdown",
   "metadata": {},
   "source": [
    "When $\\hat{\\theta_1} = -1$ and $\\hat{\\theta_0} = 3$, we add $-1$ times $x$ with $3$ times the unit vector, resulting in yet another vector."
   ]
  },
  {
   "cell_type": "code",
   "execution_count": 95,
   "metadata": {},
   "outputs": [
    {
     "data": {
      "image/png": "[encoded data removed]",
      "text/plain": [
       "<Figure size 432x288 with 1 Axes>"
      ]
     },
     "metadata": {},
     "output_type": "display_data"
    }
   ],
   "source": [
    "# HIDDEN\n",
    "plt.quiver([0, 0, 0, 0], [0, 0, 0, 0], [1, 2, 3, 1], [1, -4, 0, 7], \n",
    "           angles='xy', scale_units='xy', scale=1, \n",
    "           color=['black', 'black', 'blue', 'red'])\n",
    "plt.xlim(-7, 7)\n",
    "plt.ylim(-8, 8)\n",
    "plt.show()"
   ]
  },
  {
   "cell_type": "markdown",
   "metadata": {},
   "source": [
    "With $\\hat{\\theta_1} = -1$ and $\\hat{\\theta_0} = -2$, we get:"
   ]
  },
  {
   "cell_type": "code",
   "execution_count": 102,
   "metadata": {},
   "outputs": [
    {
     "data": {
      "image/png": "[encoded data removed]",
      "text/plain": [
       "<Figure size 432x288 with 1 Axes>"
      ]
     },
     "metadata": {},
     "output_type": "display_data"
    }
   ],
   "source": [
    "# HIDDEN\n",
    "plt.quiver([0, 0, 0, 0, 0], [0, 0, 0, 0, 0], [1, 2, 3, 1, -4], [1, -4, 0, 7, 2], \n",
    "           angles='xy', scale_units='xy', scale=1, \n",
    "           color=['black', 'black', 'blue', 'blue', 'red'])\n",
    "plt.xlim(-7, 7)\n",
    "plt.ylim(-8, 8)\n",
    "plt.show()"
   ]
  },
  {
   "cell_type": "markdown",
   "metadata": {},
   "source": [
    "With $\\hat{\\theta_1} = 1$ and $\\hat{\\theta_0} = -4$, we get:"
   ]
  },
  {
   "cell_type": "code",
   "execution_count": 97,
   "metadata": {},
   "outputs": [
    {
     "data": {
      "image/png": "[encoded data removed]",
      "text/plain": [
       "<Figure size 432x288 with 1 Axes>"
      ]
     },
     "metadata": {},
     "output_type": "display_data"
    }
   ],
   "source": [
    "# HIDDEN\n",
    "plt.quiver([0, 0, 0, 0, 0, 0], [0, 0, 0, 0, 0, 0], [1, 2, 3, 1, -4, -2], [1, -4, 0, 7, 2, -8], \n",
    "           angles='xy', scale_units='xy', scale=1, \n",
    "           color=['black', 'black', 'blue', 'blue', 'blue', 'red'])\n",
    "plt.xlim(-7, 7)\n",
    "plt.ylim(-8, 8)\n",
    "plt.show()"
   ]
  },
  {
   "cell_type": "markdown",
   "metadata": {},
   "source": [
    "This process can go on and on, showing that when we can add any scalar multiples of vectors, we can span a space. In this case, we would create a plane as you can start to see above. Formally, this illustrates how vectors $\\vec{x}$ and $\\vec{1}$ span a vector space."
   ]
  },
  {
   "cell_type": "markdown",
   "metadata": {},
   "source": [
    "Recall our scatter plot and the fact that $X$ and $\\vec{y}$ are defined by the data. Since no line can perfectly fit our points, we know that $\\vec{y}$ is not in the plane spanned by $\\vec{x}$ and $\\vec{1}$. Otherwise, there would exist $\\hat{\\theta}$ such that $L(\\hat{\\theta}, \\vec{x}, \\vec{y})$.\n",
    "\n",
    "Visually,\n",
    "\n",
    "<img src=\"../../notebooks-images/linear_projection1.png\" width=\"500\" />\n",
    "\n",
    "Now, we can see that to minimize $ L(\\hat{\\theta}, \\vec{x}, \\vec{y}) = \\left \\Vert  \\vec{y} - X \\hat{\\theta} \\right \\Vert ^2$, we want $X \\hat{\\theta}$ to be as close to $\\vec{y}$ as possible. So in the infinite set of possibilities expressed by $X \\hat{\\theta}$, we want to find $\\hat{\\theta^*}$ such that $\\left \\Vert  \\vec{y} - X \\hat{\\theta^*} \\right \\Vert ^2 \\leq \\left \\Vert  \\vec{y} - X \\hat{\\theta} \\right \\Vert ^2 \\quad \\forall \\hat{\\theta}$.\n",
    "\n",
    "Mathematically, we are looking for the projection of $\\vec{y}$ onto the vector space spanned by the columns of $X$ because the projection $\\hat{y}$ has the property of being the closest point in the vector space to the vector $y$.\n",
    "<img src=\"../../notebooks-images/linear_projection2.png\" width=\"500\" />\n",
    "\n",
    "To see why, consider any other point on the vector space.\n",
    "<img src=\"../../notebooks-images/linear_projection3.png\" width=\"500\" />\n",
    "\n",
    "In this case, it is easy to see that by the Pythagorean Theorem, any other point on the plane is farther from $\\vec{y}$ than $\\hat{y}$ is. The longer the distance, the higher the least squared error. Thus, the length of the perpendicular represents the least squared error."
   ]
  },
  {
   "cell_type": "markdown",
   "metadata": {},
   "source": [
    "## Linear Algebra\n",
    "\n",
    "Since we've snuck in a lot of linear algebra concepts already, all that's left is solving for the $\\hat{\\theta}$ that yields our desired $\\hat{y}$.\n",
    "\n",
    "A couple things to note: \n",
    "\n",
    "<img src=\"../../notebooks-images/linear_projection5.png\" width=\"500\" />\n",
    "\n",
    "- $\\hat{y} + e = \\vec{y}$\n",
    "- $\\vec{e}$ is perpendicular to $\\vec{x}$ and $\\vec{1}$\n",
    "- $\\hat{y} = X \\hat{\\theta^*}$ is the vector closest to $y$ in the vector space spanned by $\\vec{x}$ and $\\vec{1}$\n",
    "\n",
    "Thus, we arrive at the equation:\n",
    "\n",
    "$$X  \\hat{\\theta^*} + \\vec{e} = \\vec{y}$$\n",
    "\n",
    "Left-multiplying both sides by $X^T$ (order matters in matrix multiplication):\n",
    "\n",
    "$$X^T X  \\hat{\\theta^*} + X^T \\vec{e} = X^T \\vec{y}$$\n",
    "\n",
    "But since $\\vec{e}$ is perpendicular to the columns of $X$, $X^T \\vec{e}$ is a column vector of $0$'s. Thus, we arrive at the Normal Equation:\n",
    "\n",
    "$$X^T X  \\hat{\\theta^*} = X^T \\vec{y}$$\n",
    "\n",
    "From here, we can easily solve for $\\hat{\\theta^*}$ by left-multiplying both sides by $(X^T X)^{-1}$:\n",
    "\n",
    "$$\\hat{\\theta^*} = (X^T X)^{-1} X^T \\vec{y}$$"
   ]
  },
  {
   "cell_type": "markdown",
   "metadata": {},
   "source": [
    "## Finishing up the Case Study"
   ]
  },
  {
   "cell_type": "markdown",
   "metadata": {},
   "source": [
    "Let's return to our case study and apply what we've learned, and explain to our client why our solution is sound."
   ]
  },
  {
   "cell_type": "markdown",
   "metadata": {},
   "source": [
    "$$\n",
    "\\vec{y} = \\begin{bmatrix} 2 \\\\ 1 \\\\ -2  \\end{bmatrix} \\quad X = \\begin{bmatrix} 3 & 1\\\\ 0 & 1 \\\\ -1 & 1 \\end{bmatrix}\n",
    "$$\n"
   ]
  },
  {
   "cell_type": "markdown",
   "metadata": {},
   "source": [
    "$$\n",
    "\\begin{align}\n",
    "\\hat{\\theta^*} \n",
    "&= \n",
    "\\left(\n",
    "\\begin{bmatrix} 3 & 0 & -1 \\\\ 1 & 1 & 1 \\end{bmatrix}\n",
    "\\begin{bmatrix} 3 & 1 \\\\ 0 & 1 \\\\ -1 & 1 \\end{bmatrix} \n",
    "\\right)^{-1}\n",
    "\\begin{bmatrix} 3 & 0 & -1 \\\\ 1 & 1 & 1 \\end{bmatrix}\n",
    "\\begin{bmatrix} 2 \\\\ 1 \\\\ -2  \\end{bmatrix} \\\\\n",
    "&= \n",
    "\\left(\n",
    "\\begin{bmatrix} 10 & 2\\\\ 2 & 3 \\end{bmatrix}\n",
    "\\right)^{-1}\n",
    "\\begin{bmatrix} 8 \\\\ 1 \\end{bmatrix} \\\\\n",
    "&=\n",
    "\\frac{1}{30-4}\n",
    "\\begin{bmatrix} 3 & -2\\\\ -2 & 10 \\end{bmatrix}\n",
    "\\begin{bmatrix} 8 \\\\ 1 \\end{bmatrix} \\\\\n",
    "&=\n",
    "\\frac{1}{26}\n",
    "\\begin{bmatrix} 22\\\\ -6 \\end{bmatrix}\\\\\n",
    "&=\n",
    "\\begin{bmatrix} \\frac{11}{13}\\\\ - \\frac{3}{13} \\end{bmatrix}\n",
    "\\end{align}\n",
    "$$"
   ]
  },
  {
   "cell_type": "markdown",
   "metadata": {},
   "source": [
    "We have analytically found that best model for least squares regression is $f_\\hat{\\theta} (x_i) = \\frac{11}{13} x_i - \\frac{3}{13}$."
   ]
  }
 ],
 "metadata": {
  "kernelspec": {
   "display_name": "Python 3",
   "language": "python",
   "name": "python3"
  },
  "language_info": {
   "codemirror_mode": {
    "name": "ipython",
    "version": 3
   },
   "file_extension": ".py",
   "mimetype": "text/x-python",
   "name": "python",
   "nbconvert_exporter": "python",
   "pygments_lexer": "ipython3",
   "version": "3.6.5"
  }
 },
 "nbformat": 4,
 "nbformat_minor": 2
}
