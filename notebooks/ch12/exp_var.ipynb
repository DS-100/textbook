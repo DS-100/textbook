{
 "cells": [
  {
   "cell_type": "markdown",
   "metadata": {},
   "source": [
    "<h1>Table of Contents<span class=\"tocSkip\"></span></h1>\n",
    "<div class=\"toc\"><ul class=\"toc-item\"><li><span><a href=\"#Expectation-and-Variance\" data-toc-modified-id=\"Expectation-and-Variance-1\">Expectation and Variance</a></span><ul class=\"toc-item\"><li><span><a href=\"#Expectation\" data-toc-modified-id=\"Expectation-1.1\">Expectation</a></span><ul class=\"toc-item\"><li><span><a href=\"#Linearity-of-Expectation\" data-toc-modified-id=\"Linearity-of-Expectation-1.1.1\">Linearity of Expectation</a></span></li></ul></li><li><span><a href=\"#Variance\" data-toc-modified-id=\"Variance-1.2\">Variance</a></span><ul class=\"toc-item\"><li><span><a href=\"#Covariance\" data-toc-modified-id=\"Covariance-1.2.1\">Covariance</a></span></li></ul></li><li><span><a href=\"#Bernoulli-Random-Variables\" data-toc-modified-id=\"Bernoulli-Random-Variables-1.3\">Bernoulli Random Variables</a></span><li><span><a href=\"#Sample-Means\" data-toc-modified-id=\"Sample-Means-1.4\">Sample Means</a></span></ul></li><li><span><a href=\"#Summary\" data-toc-modified-id=\"Summary-2\">Summary</a></span></li></ul></div>"
   ]
  },
  {
   "cell_type": "code",
   "execution_count": 1,
   "metadata": {},
   "outputs": [],
   "source": [
    "# HIDDEN\n",
    "import numpy as np\n",
    "import matplotlib.pyplot as plt\n",
    "import pandas as pd\n",
    "import seaborn as sns\n",
    "%matplotlib inline\n",
    "import ipywidgets as widgets\n",
    "from ipywidgets import interact, interactive, fixed, interact_manual\n",
    "import nbinteract as nbi\n",
    "from scipy import stats\n",
    "\n",
    "sns.set()\n",
    "sns.set_context('talk')\n",
    "np.set_printoptions(threshold=20, precision=2, suppress=True)\n",
    "pd.options.display.max_rows = 7\n",
    "pd.options.display.max_columns = 8"
   ]
  },
  {
   "cell_type": "markdown",
   "metadata": {},
   "source": [
    "## Expectation and Variance\n",
    "\n",
    "Although a random variable is completely described by its probability mass function (PMF), we often use **expectation** and **variance** to describe the variable's long-run average and spread. These two values have unique mathematical properties that hold particular importance for data science—for example, we can show that an estimation is accurate in the long term by showing that its expected value is equal to the population parameter. We proceed by defining expectation and variance, introducing their most useful mathematical properties, and conclude with a brief application to estimation."
   ]
  },
  {
   "cell_type": "markdown",
   "metadata": {},
   "source": [
    "### Expectation\n",
    "\n",
    "We are often interested in the long-run average of a random variable because it gives us a sense of the center of the variable's distribution. We call this long-run average the **expected value**, or **expectation** of a random variable. The expected value of a random variable $ X $ is defined as:\n",
    "\n",
    "$$\\mathbb{E}[X] = \\sum_{x\\in \\mathbb{X}} x \\cdot \\mathbb{P}(X = x)$$\n",
    "\n",
    "For example, if $ X $ represents the roll of a single fair six-sided die, \n",
    "\n",
    "$$\n",
    "\\begin{aligned}\n",
    "\\mathbb{E}[X]\n",
    "&= 1 \\cdot \\mathbb{P}(X = 1) + 2 \\cdot \\mathbb{P}(X = 2) + \\ldots + 6 \\cdot \\mathbb{P}(X = 6) \\\\\n",
    "&= 1 \\cdot \\frac{1}{6} + 2 \\cdot \\frac{1}{6} + \\ldots + 6 \\cdot \\frac{1}{6} \\\\\n",
    "&= 3.5\n",
    "\\end{aligned}\n",
    "$$\n",
    "\n",
    "Notice that the expected value of $ X $ does not have to be a possible value of $ X $; although in this case  $ \\mathbb{E}[X] = 3.5 $, $ X $ never takes on the value $ 3.5 $."
   ]
  },
  {
   "cell_type": "markdown",
   "metadata": {},
   "source": [
    "**Example:** Recall our dataset from the previous section:"
   ]
  },
  {
   "cell_type": "code",
   "execution_count": 2,
   "metadata": {},
   "outputs": [
    {
     "data": {
      "text/html": [
       "<div>\n",
       "<style scoped>\n",
       "    .dataframe tbody tr th:only-of-type {\n",
       "        vertical-align: middle;\n",
       "    }\n",
       "\n",
       "    .dataframe tbody tr th {\n",
       "        vertical-align: top;\n",
       "    }\n",
       "\n",
       "    .dataframe thead th {\n",
       "        text-align: right;\n",
       "    }\n",
       "</style>\n",
       "<table border=\"1\" class=\"dataframe\">\n",
       "  <thead>\n",
       "    <tr style=\"text-align: right;\">\n",
       "      <th></th>\n",
       "      <th>Age</th>\n",
       "      <th>Name</th>\n",
       "    </tr>\n",
       "  </thead>\n",
       "  <tbody>\n",
       "    <tr>\n",
       "      <th>0</th>\n",
       "      <td>50</td>\n",
       "      <td>Carol</td>\n",
       "    </tr>\n",
       "    <tr>\n",
       "      <th>1</th>\n",
       "      <td>52</td>\n",
       "      <td>Bob</td>\n",
       "    </tr>\n",
       "    <tr>\n",
       "      <th>2</th>\n",
       "      <td>51</td>\n",
       "      <td>John</td>\n",
       "    </tr>\n",
       "    <tr>\n",
       "      <th>3</th>\n",
       "      <td>50</td>\n",
       "      <td>Dave</td>\n",
       "    </tr>\n",
       "  </tbody>\n",
       "</table>\n",
       "</div>"
      ],
      "text/plain": [
       "   Age   Name\n",
       "0   50  Carol\n",
       "1   52    Bob\n",
       "2   51   John\n",
       "3   50   Dave"
      ]
     },
     "execution_count": 2,
     "metadata": {},
     "output_type": "execute_result"
    }
   ],
   "source": [
    "# HIDDEN\n",
    "data={\"Name\":[\"Carol\",\"Bob\",\"John\",\"Dave\"], 'Age': [50,52,51,50]}\n",
    "people = pd.DataFrame(data)\n",
    "people"
   ]
  },
  {
   "cell_type": "markdown",
   "metadata": {},
   "source": [
    "We pick one person from this dataset uniformly at random. Let $ Y $ be a random variable representing the age of this person. Then:\n",
    "\n",
    "$$\n",
    "\\begin{aligned}\n",
    "\\mathbb{E}[Y]\n",
    "&= 50 \\cdot \\mathbb{P}(Y = 50) + 51 \\cdot \\mathbb{P}(Y = 51) + 52 \\cdot \\mathbb{P}(Y = 52) \\\\\n",
    "&= 50 \\cdot \\frac{2}{4} + 51 \\cdot \\frac{1}{4} + 52 \\cdot \\frac{1}{4} \\\\\n",
    "&= 50.75\n",
    "\\end{aligned}\n",
    "$$"
   ]
  },
  {
   "cell_type": "markdown",
   "metadata": {},
   "source": [
    "**Example:** Suppose we sample two people from the dataset with replacement. If the random variable $ Z $ represents the difference between the ages of the first and second persons in the sample, what is  $ \\mathbb{E}[Z] $?\n"
   ]
  },
  {
   "cell_type": "markdown",
   "metadata": {},
   "source": [
    "As in the previous section, we define $X$ as the age of the first person and $Y$ as the age of the second such that $Z = X - Y$. From the joint distribution of $X$ and $Y$ given in the previous section, we can find the PMF for $ Z $. For example, $ P(Z = 1) = P(X = 51, Y = 50) + P(X = 52, Y = 51) = \\frac{3}{16} $. Thus,\n",
    "\n",
    "$$\n",
    "\\begin{aligned}\n",
    "\\mathbb{E}[Z]\n",
    "&= (-2) \\cdot P(Z = -2) + (-1) \\cdot P(Z = -1) + \\ldots + (2) \\cdot P(Z = 2) \\\\\n",
    "&= (-2) \\cdot \\frac{2}{16} + (-1) \\cdot \\frac{3}{16}+ \\ldots + (2) \\cdot \\frac{2}{16} \\\\\n",
    "&= 0\n",
    "\\end{aligned}\n",
    "$$\n",
    "\n",
    "Since $ \\mathbb{E}[Z] = 0 $, we expect that in the long run the difference between the ages of the people in a sample of size 2 will be 0."
   ]
  },
  {
   "cell_type": "markdown",
   "metadata": {},
   "source": [
    "#### Linearity of Expectation\n",
    "\n",
    "When working with linear combinations of random variables as we did above, we can often make good use of the **linearity of expectation** instead of tediously calculating each joint probability individually.\n",
    "\n",
    "The linearity of expectation states that:\n",
    "\n",
    "$$\n",
    "\\begin{aligned}\n",
    "\\mathbb{E}[X + Y] &= \\mathbb{E}[X] + \\mathbb{E}[Y] \\\\\n",
    "\\end{aligned}\n",
    "$$\n",
    "\n",
    "From this statement we may also derive:\n",
    "\n",
    "$$\n",
    "\\begin{aligned}\n",
    "\\mathbb{E}[cX] &= c\\mathbb{E}[X] \\\\\n",
    "\\end{aligned}\n",
    "$$\n",
    "\n",
    "where $X$ and $Y$ are random variables, and $c$ is a constant.\n",
    "\n",
    "In words, the expectation of a sum of any two random variables is equal to the sum of the expectations of the variables.\n",
    "\n",
    "In the previous example, we saw that $ Z = X - Y $. Thus,  $ \\mathbb{E}[Z] = \\mathbb{E}[X - Y] = \\mathbb{E}[X] - \\mathbb{E}[Y] $. \n",
    "\n",
    "Now we can calculate $ \\mathbb{E}[X] $ and  $ \\mathbb{E}[Y] $ separately from each other. Since $ \\mathbb{E}[X] = \\mathbb{E}[Y] = 50.75 $, $ \\mathbb{E}[Z] = 50.75 - 50.75 = 0 $."
   ]
  },
  {
   "cell_type": "markdown",
   "metadata": {},
   "source": [
    "The linearity of expectation holds even if $ X $ and $ Y $ are dependent on each other! As an example, let us again consider the case in which we sample two people from the dataset in the previous section but without replacement. As before, we define $X$ as the age of the first person and $Y$ as the age of the second, and $Z = X - Y$ where $X$ and $Y$ are not independent. \n",
    "\n",
    "From the joint distribution of $X$ and $Y$ given in the previous section, we can find $\\mathbb{E}[Z]$:\n",
    "\n",
    "$$\n",
    "\\begin{aligned}\n",
    "\\mathbb{E}[Z]\n",
    "&= (-2) \\cdot P(Z = -2) + (-1) \\cdot P(Z = -1) + \\ldots + (2) \\cdot P(Z = 2) \\\\\n",
    "&= (-2) \\cdot \\frac{2}{12} + (-1) \\cdot \\frac{3}{12}+ \\ldots + (2) \\cdot \\frac{2}{12} \\\\\n",
    "&= 0\n",
    "\\end{aligned}\n",
    "$$\n",
    "\n",
    "A simpler way to compute this expectation is to use the linearity of expectation. Even though $X$ and $Y$ dependent, $\\mathbb{E}[Z] = \\mathbb{E}[X - Y] = \\mathbb{E}[X] - \\mathbb{E}[Y]$. Recall from the previous section that $X$ and $Y$ have the same PMF even though we are sampling without replacement, which means that $\\mathbb{E}[X] = \\mathbb{E}[Y] = 50.75$. Hence as in the first scenario, $\\mathbb{E}[Z] = 0$.\n",
    "\n",
    "Note that the linearity of expectation only holds for linear combinations of random variables. For example, $ \\mathbb{E}[XY] = \\mathbb{E}[X]\\mathbb{E}[Y] $ is not a linear combination of $ X $ and $ Y $. In this case, $ \\mathbb{E}[XY] = \\mathbb{E}[X]\\mathbb{E}[Y] $ is true in general only for independent random variables."
   ]
  },
  {
   "cell_type": "markdown",
   "metadata": {},
   "source": [
    "### Variance\n",
    "\n",
    "The variance of a random variable is a numerical description of the spread of a random variable. For a random variable $ X $:\n",
    "\n",
    "$$\n",
    "\\begin{aligned}\n",
    "Var(X) &= \\mathbb{E}[(X - \\mathbb{E}[X])^2] \\\\\n",
    "\\end{aligned}\n",
    "$$\n",
    "\n",
    "The above formula states that the variance of $ X $ is the average squared distance from $ X $'s expected value.\n",
    "\n",
    "With some algebraic manipulation that we omit for brevity, we may also equivalently write:\n",
    "\n",
    "$$\n",
    "\\begin{aligned}\n",
    "Var(X) &= \\mathbb{E}[X^2] - \\mathbb{E}[X]^2 \\\\\n",
    "\\end{aligned}\n",
    "$$"
   ]
  },
  {
   "cell_type": "markdown",
   "metadata": {},
   "source": [
    "Consider the following two random variables $ X $ and $ Y $ with the following probability distributions:"
   ]
  },
  {
   "cell_type": "code",
   "execution_count": 3,
   "metadata": {},
   "outputs": [
    {
     "data": {
      "image/png": "[encoded data removed]",
      "text/plain": [
       "<matplotlib.figure.Figure at 0x1ca6d5ba278>"
      ]
     },
     "metadata": {},
     "output_type": "display_data"
    }
   ],
   "source": [
    "# HIDDEN\n",
    "plt.figure(figsize=(10,5))\n",
    "xk = (-1, 1)\n",
    "pk = (1/2, 1/2)\n",
    "x = stats.rv_discrete(name='x', values=(xk, pk))\n",
    "ax = plt.subplot(1, 2, 1)\n",
    "ax.plot(xk, x.pmf(xk), 'ro', ms=12, mec='b', color='b')\n",
    "ax.vlines(xk, 0, x.pmf(xk), colors='b', lw=4)\n",
    "plt.xlabel('$x$')\n",
    "plt.ylabel('$P(X = x)$')\n",
    "plt.xticks(np.arange(-2, 3))\n",
    "plt.yticks(np.arange(0, 1.1, 0.25),\n",
    "           (0, r'$\\frac{1}{4}$', r'$\\frac{1}{2}$', r'$\\frac{3}{4}$', r'$1$'))\n",
    "plt.ylim(0, 1)\n",
    "plt.title('PMF of $X$')\n",
    "\n",
    "xk = (-2, -1, 1, 2)\n",
    "pk = (1/4, 1/4, 1/4, 1/4)\n",
    "y = stats.rv_discrete(name='y', values=(xk, pk))\n",
    "ax = plt.subplot(1, 2, 2)\n",
    "ax.plot(xk, y.pmf(xk), 'ro', ms=12, mec='b', color='b')\n",
    "ax.vlines(xk, 0, y.pmf(xk), colors='b', lw=4)\n",
    "plt.xlabel('$y$')\n",
    "plt.xticks(np.arange(-2, 3))\n",
    "plt.ylabel('$P(Y = y)$')\n",
    "plt.ylim(0, 1)\n",
    "plt.yticks(np.arange(0, 1.1, 0.25),\n",
    "           (0, r'$\\frac{1}{4}$', r'$\\frac{1}{2}$', r'$\\frac{3}{4}$', r'$1$'))\n",
    "plt.title('PMF of $Y$')\n",
    "plt.tight_layout();"
   ]
  },
  {
   "cell_type": "markdown",
   "metadata": {},
   "source": [
    "$ X $ takes on values -1 and 1 with probability $ \\frac{1}{2} $ each. $ Y $ takes on values -2, -1, 1, and 2 with probability $ \\frac{1}{4} $ each. We find that $ \\mathbb{E}[X] = \\mathbb{E}[Y] = 0 $. Since $ Y $'s distribution has a higher spread than $ X $'s, we expect that $ Var(Y) $ is larger than $ Var(X) $.\n",
    "\n",
    "$$\n",
    "\\begin{aligned}\n",
    "Var(X)\n",
    "&= \\mathbb{E}[X^2] - \\mathbb{E}[X]^2 \\\\\n",
    "&= \\mathbb{E}[X^2] - 0^2 \\\\\n",
    "&= \\mathbb{E}[X^2] \\\\\n",
    "&= (-1)^2 P(X = -1) + (1)^2 P(X = 1) \\\\\n",
    "&= 1 \\cdot 0.5 + 1 \\cdot 0.5 \\\\\n",
    "&= 1 \\\\\\\\\n",
    "Var(Y)\n",
    "&= \\mathbb{E}[Y^2] - \\mathbb{E}[Y]^2 \\\\\n",
    "&= \\mathbb{E}[Y^2] - 0^2 \\\\\n",
    "&= \\mathbb{E}[Y^2] \\\\\n",
    "&= (-2)^2 P(Y = -2) + (-1)^2 P(Y = -1) + (1)^2 P(Y = 1) + (2)^2 P(Y = 2) \\\\\n",
    "&= 4 \\cdot 0.25 + 1 \\cdot 0.25 + 1 \\cdot 0.25 + 4 \\cdot 0.25\\\\\n",
    "&= 2.5\n",
    "\\end{aligned}\n",
    "$$"
   ]
  },
  {
   "cell_type": "markdown",
   "metadata": {},
   "source": [
    "As expected, the variance of $ Y $ is greater than the variance of $ X $.\n",
    "\n",
    "The variance has a useful property to simplify some calculations. If $ X $ is a random variable:\n",
    "\n",
    "$$\n",
    "\\begin{aligned}\n",
    "Var(aX + b) &= a^2 Var(X)\n",
    "\\end{aligned}\n",
    "$$\n",
    "\n",
    "If two random variables $ X $ and $ Y $ are independent:\n",
    "\n",
    "$$\n",
    "\\begin{aligned}\n",
    "Var(X + Y) = Var(X) + Var(Y)\n",
    "\\end{aligned}\n",
    "$$\n",
    "\n",
    "Note that the linearity of expectation holds for any $ X $ and $ Y $ even if they are dependent; $ Var(X + Y) = Var(X) + Var(Y) $ holds only when $ X $ and $ Y $ are independent."
   ]
  },
  {
   "cell_type": "markdown",
   "metadata": {},
   "source": [
    "#### Covariance\n",
    "\n",
    "The covariance of two random variables $X$ and $Y$ is defined as:\n",
    "\n",
    "$$\n",
    "\\begin{aligned}\n",
    "Cov(X, Y) &= \\mathbb{E}[(X - \\mathbb{E}[X])(Y - \\mathbb{E}[Y])]\n",
    "\\end{aligned}\n",
    "$$\n",
    "\n",
    "Again, we can perform some algebraic manipulation to obtain:\n",
    "\n",
    "$$\n",
    "\\begin{aligned}\n",
    "Cov(X, Y) = \\mathbb{E}[XY] - \\mathbb{E}[X]\\mathbb{E}[Y]\n",
    "\\end{aligned}\n",
    "$$\n",
    "\n",
    "Note that although the variance of a single random variable must be non-negative, the covariance of two random variables can be negative. In fact, the covariance helps measure the correlation between two random variables; the sign of the covariance helps us determine whether two random variables are positively or negatively correlated. If two random variables $X$ and $Y$ are independent, then $Cov(X, Y) = 0$, and $\\mathbb{E}[XY] = \\mathbb{E}[X]\\mathbb{E}[Y]$."
   ]
  },
  {
   "cell_type": "markdown",
   "metadata": {},
   "source": [
    "### Bernoulli Random Variables\n",
    "\n",
    "Suppose we want to use a random variable $X$ to a simulate a biased coin with $P(Heads) = p$. We can say that $X = 1$ if the coin flip is heads, and $X = 0$ if the coin flip is tails. Therefore, $P(X = 1) = p$, and $P(X = 0) = 1 - p$. This type of binary random variable is called a Bernoulli random variable; we can calculate its expected value and variance as follows:\n",
    "\n",
    "$$\\mathbb{E}[X] = 1 \\times p + 0 \\times (1 - p) = p$$\n",
    "\n",
    "$$Var(X) = \\mathbb{E}[X^2] - \\mathbb{E}[X]^2 = 1^2 \\times p + 0^2 \\times (1 - p) - p^2 = p - p^2 = p(1 - p)$$"
   ]
  },
  {
   "cell_type": "markdown",
   "metadata": {},
   "source": [
    "### Sample Means\n",
    "\n",
    "Suppose we flip a coin with $P(Heads) = p$ a total of $n$ times and find the proportion of heads. Let us call this proportion $\\hat{p}$. If we wanted to estimate $P(Heads)$, we might intuitively believe that $\\hat{p}$ is a good guess. Now, we can use our newly gained knowledge of random variables, expectation, and variance to confirm this intuition.\n",
    "\n",
    "Note that $\\hat{p}$ itself is a random variable; thus, it must have some underlying distribution. If we let $X_i$ be a Bernoulli random variable for the $i^{th}$ coin flip (note that the $X_i$'s are independent since they represent independent coin flips), then we can mathematically determine that $\\hat{p} = \\frac{1}{n} \\sum_{i=1}^{n} X_i$. We can then calculate the expected value, variance, and standard deviation of $\\hat{p}$ as follows:\n",
    "\n",
    "$$\\mathbb{E}[\\frac{1}{n} \\sum_{i=1}^{n} X_i] = \\frac{1}{n} \\sum_{i=1}^{n}\\mathbb{E}[X_i] = \\frac{1}{n} \\times np = p$$\n",
    "\n",
    "$$Var(\\frac{1}{n} \\sum_{i=1}^{n} X_i) = \\frac{1}{n^2} \\sum_{i=1}^{n}Var(X_i) = \\frac{1}{n^2} \\times np(1-p) = \\frac{p(1-p)}{n}$$\n",
    "\n",
    "The expected value of $\\hat{p}$, the sample proportion, is the same as $p$, the true proportion! Furthermore, the variance of the sample proportion gives us a measure of how much error we should expect if we use $\\hat{p}$ to estimate $p$. As we increase the sample size $n$, the variance of our estimator decreases by a factor of $\\frac{1}{n}$, and $\\hat{p}$ converges to $p$. This fact is known as the law of large numbers.\n",
    "\n",
    "Since this sample proportion converges to the true proportion as the sample size becomes large, the sample proportion is considered an *unbiased estimator* for the true proportion. Some estimators are biased—the sample maximum, for example, meaning that the expected value for these estimators is not the true value."
   ]
  },
  {
   "cell_type": "markdown",
   "metadata": {},
   "source": [
    "## Summary\n",
    "\n",
    "Expectation and variance are simple descriptions of a random variable's center and spread. We use the versatility of random variables to describe data generation and modeling."
   ]
  }
 ],
 "metadata": {
  "kernelspec": {
   "display_name": "Python 3",
   "language": "python",
   "name": "python3"
  },
  "language_info": {
   "codemirror_mode": {
    "name": "ipython",
    "version": 3
   },
   "file_extension": ".py",
   "mimetype": "text/x-python",
   "name": "python",
   "nbconvert_exporter": "python",
   "pygments_lexer": "ipython3",
   "version": "3.6.3"
 },
 "toc": {
  "nav_menu": {},
  "number_sections": false,
  "sideBar": false,
  "skip_h1_title": false,
  "title_cell": "Table of Contents",
  "title_sidebar": "Contents",
  "toc_cell": true,
  "toc_position": {},
  "toc_section_display": true,
  "toc_window_display": false
 }
 },
 "nbformat": 4,
 "nbformat_minor": 2
}
