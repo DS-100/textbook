{
 "cells": [
  {
   "cell_type": "code",
   "execution_count": 2,
   "metadata": {
    "collapsed": true
   },
   "outputs": [],
   "source": [
    "# HIDDEN\n",
    "import numpy as np\n",
    "import matplotlib.pyplot as plt\n",
    "import pandas as pd\n",
    "import seaborn as sns\n",
    "from sklearn.linear_model import LinearRegression\n",
    "from sklearn.model_selection import train_test_split\n",
    "%matplotlib inline\n",
    "\n",
    "sns.set()\n",
    "sns.set_context('talk')\n",
    "pd.options.display.max_rows = 7\n",
    "pd.options.display.max_columns = 7\n",
    "np.set_printoptions(precision=2, suppress=True)"
   ]
  },
  {
   "cell_type": "code",
   "execution_count": 3,
   "metadata": {
    "collapsed": true
   },
   "outputs": [],
   "source": [
    "# HIDDEN\n",
    "from scipy.optimize import minimize as sci_min\n",
    "\n",
    "def minimize(cost_fn, grad_cost_fn, X, y, progress=True):\n",
    "    '''\n",
    "    Uses scipy.minimize to minimize cost_fn using a form of gradient descent.\n",
    "    '''\n",
    "    theta = np.zeros(X.shape[1])\n",
    "    iters = 0\n",
    "    \n",
    "    def objective(theta):\n",
    "        return cost_fn(theta, X, y)\n",
    "    def gradient(theta):\n",
    "        return grad_cost_fn(theta, X, y)\n",
    "    def print_theta(theta):\n",
    "        nonlocal iters\n",
    "        if progress and iters % progress == 0:\n",
    "            print(f'theta: {theta} | cost: {cost_fn(theta, X, y):.2f}')\n",
    "        iters += 1\n",
    "        \n",
    "    print_theta(theta)\n",
    "    return sci_min(\n",
    "        objective, theta, method='BFGS', jac=gradient, callback=print_theta,\n",
    "        tol=1e-7\n",
    "    ).x"
   ]
  },
  {
   "cell_type": "markdown",
   "metadata": {},
   "source": [
    "## Linear Regression Case Study\n",
    "\n",
    "In this section, we perform an end-to-end case study of applying the linear regression model to a dataset. The dataset we will be working with has various attributes, such as length and girth, of donkeys.\n",
    "\n",
    "Our task is to predict a donkey's weight using linear regression."
   ]
  },
  {
   "cell_type": "markdown",
   "metadata": {},
   "source": [
    "## Preliminary Data Overview\n",
    "\n",
    "We will begin by reading in the dataset and taking a quick peek at its contents."
   ]
  },
  {
   "cell_type": "code",
   "execution_count": 4,
   "metadata": {},
   "outputs": [
    {
     "data": {
      "text/html": [
       "<div>\n",
       "<style>\n",
       "    .dataframe thead tr:only-child th {\n",
       "        text-align: right;\n",
       "    }\n",
       "\n",
       "    .dataframe thead th {\n",
       "        text-align: left;\n",
       "    }\n",
       "\n",
       "    .dataframe tbody tr th {\n",
       "        vertical-align: top;\n",
       "    }\n",
       "</style>\n",
       "<table border=\"1\" class=\"dataframe\">\n",
       "  <thead>\n",
       "    <tr style=\"text-align: right;\">\n",
       "      <th></th>\n",
       "      <th>BCS</th>\n",
       "      <th>Age</th>\n",
       "      <th>Sex</th>\n",
       "      <th>...</th>\n",
       "      <th>Height</th>\n",
       "      <th>Weight</th>\n",
       "      <th>WeightAlt</th>\n",
       "    </tr>\n",
       "  </thead>\n",
       "  <tbody>\n",
       "    <tr>\n",
       "      <th>0</th>\n",
       "      <td>3.0</td>\n",
       "      <td>&lt;2</td>\n",
       "      <td>stallion</td>\n",
       "      <td>...</td>\n",
       "      <td>90</td>\n",
       "      <td>77</td>\n",
       "      <td>NaN</td>\n",
       "    </tr>\n",
       "    <tr>\n",
       "      <th>1</th>\n",
       "      <td>2.5</td>\n",
       "      <td>&lt;2</td>\n",
       "      <td>stallion</td>\n",
       "      <td>...</td>\n",
       "      <td>94</td>\n",
       "      <td>100</td>\n",
       "      <td>NaN</td>\n",
       "    </tr>\n",
       "    <tr>\n",
       "      <th>2</th>\n",
       "      <td>1.5</td>\n",
       "      <td>&lt;2</td>\n",
       "      <td>stallion</td>\n",
       "      <td>...</td>\n",
       "      <td>95</td>\n",
       "      <td>74</td>\n",
       "      <td>NaN</td>\n",
       "    </tr>\n",
       "    <tr>\n",
       "      <th>3</th>\n",
       "      <td>3.0</td>\n",
       "      <td>&lt;2</td>\n",
       "      <td>female</td>\n",
       "      <td>...</td>\n",
       "      <td>96</td>\n",
       "      <td>116</td>\n",
       "      <td>NaN</td>\n",
       "    </tr>\n",
       "    <tr>\n",
       "      <th>4</th>\n",
       "      <td>2.5</td>\n",
       "      <td>&lt;2</td>\n",
       "      <td>female</td>\n",
       "      <td>...</td>\n",
       "      <td>91</td>\n",
       "      <td>91</td>\n",
       "      <td>NaN</td>\n",
       "    </tr>\n",
       "  </tbody>\n",
       "</table>\n",
       "<p>5 rows × 8 columns</p>\n",
       "</div>"
      ],
      "text/plain": [
       "   BCS Age       Sex    ...      Height  Weight  WeightAlt\n",
       "0  3.0  <2  stallion    ...          90      77        NaN\n",
       "1  2.5  <2  stallion    ...          94     100        NaN\n",
       "2  1.5  <2  stallion    ...          95      74        NaN\n",
       "3  3.0  <2    female    ...          96     116        NaN\n",
       "4  2.5  <2    female    ...          91      91        NaN\n",
       "\n",
       "[5 rows x 8 columns]"
      ]
     },
     "execution_count": 4,
     "metadata": {},
     "output_type": "execute_result"
    }
   ],
   "source": [
    "donkeys = pd.read_csv(\"donkeys.csv\")\n",
    "donkeys.head()"
   ]
  },
  {
   "cell_type": "markdown",
   "metadata": {},
   "source": [
    "Now, we will look at how large our dataset is.\n",
    "\n",
    "It's always a good idea to look at _how much_ data we have by looking at the dimensions of the dataset. An example of how this might be useful: if our data has a large number of observations, it would not be a good idea to print out the whole dataframe."
   ]
  },
  {
   "cell_type": "code",
   "execution_count": 5,
   "metadata": {},
   "outputs": [
    {
     "data": {
      "text/plain": [
       "(544, 8)"
      ]
     },
     "execution_count": 5,
     "metadata": {},
     "output_type": "execute_result"
    }
   ],
   "source": [
    "donkeys.shape"
   ]
  },
  {
   "cell_type": "markdown",
   "metadata": {},
   "source": [
    "The dataset is relatively small, with only 544 rows of observations and 8 columns. Let's look at what columns we have available to us."
   ]
  },
  {
   "cell_type": "code",
   "execution_count": null,
   "metadata": {},
   "outputs": [
    {
     "data": {
      "text/plain": [
       "array(['BCS', 'Age', 'Sex', 'Length', 'Girth', 'Height', 'Weight',\n",
       "       'WeightAlt'], dtype=object)"
      ]
     },
     "execution_count": 6,
     "metadata": {},
     "output_type": "execute_result"
    }
   ],
   "source": [
    "donkeys.columns.values"
   ]
  },
  {
   "cell_type": "markdown",
   "metadata": {},
   "source": [
    "Our analysis can be guided by a good understanding of our data, so we should aim to understand what each of these columns represent. A few of these columns are self-explanatory, but others require a little more explanation:\n",
    "\n",
    "- `BCS`: Body Condition Score (a physical health rating)\n",
    "- `Girth`: the measurement around the middle of the donkey\n",
    "- `WeightAlt`: 31 donkeys in our data were weighed twice in order to check the accuracy of the scale. The second weighing is in `WeightAlt`.\n",
    "\n",
    "It is also a good idea to determine which of our variables are quantitative and which are categorical.\n",
    "\n",
    "Quantitative: `Length`, `Girth`, `Height`, `Weight`, `WeightAlt`\n",
    "\n",
    "Categorical: `BCS`, `Age`, `Sex`\n"
   ]
  },
  {
   "cell_type": "markdown",
   "metadata": {},
   "source": [
    "## Data Cleaning\n",
    "\n",
    "In this section, we will check the data for any abnormalities that we have to deal with.\n",
    "\n",
    "By examining `WeightAlt` more closely, we can make sure that the scale is accurate by taking the difference between the two different weighings and plotting them."
   ]
  },
  {
   "cell_type": "code",
   "execution_count": null,
   "metadata": {},
   "outputs": [],
   "source": [
    "difference = donkeys['WeightAlt'] - donkeys['Weight']\n",
    "sns.distplot(difference.dropna());"
   ]
  },
  {
   "cell_type": "markdown",
   "metadata": {},
   "source": [
    "The measurements are all within 1 kg of each other, which seems reasonable.\n",
    "\n",
    "Next, we can look for unusual values that might indicate errors or other problems. We can use the quantile function in order to detect anomalous values."
   ]
  },
  {
   "cell_type": "code",
   "execution_count": null,
   "metadata": {},
   "outputs": [],
   "source": [
    "donkeys.quantile([0.005, 0.995])"
   ]
  },
  {
   "cell_type": "markdown",
   "metadata": {},
   "source": [
    "For each of these numerical columns, we can look at which rows fall outside of these quantiles and what values they take on. Consider that we want our model to apply to only healthy and mature donkeys.\n",
    "\n",
    "First, let's look at the `BCS` column."
   ]
  },
  {
   "cell_type": "code",
   "execution_count": null,
   "metadata": {},
   "outputs": [],
   "source": [
    "donkeys[(donkeys['BCS'] < 1.5) | (donkeys['BCS'] > 4)]['BCS']"
   ]
  },
  {
   "cell_type": "markdown",
   "metadata": {},
   "source": [
    "Also looking at the barplot of `BCS`:"
   ]
  },
  {
   "cell_type": "code",
   "execution_count": null,
   "metadata": {},
   "outputs": [],
   "source": [
    "plt.hist(donkeys['BCS'], normed=True)\n",
    "plt.xlabel('BCS');"
   ]
  },
  {
   "cell_type": "markdown",
   "metadata": {},
   "source": [
    "Considering that `BCS` is an indication of the health of a donkey, a `BCS` of 1 represents an extremely emaciated donkey and a `BCS` of 4.5 an overweight donkey. Also looking at the barplot, there only appear to be two donkeys with such outlier `BCS` values. Thus, it would probably be a good idea to remove these two donkeys.\n",
    "\n",
    "---"
   ]
  },
  {
   "cell_type": "markdown",
   "metadata": {},
   "source": [
    "Now, let's look at `Length`, `Girth`, and `Height`."
   ]
  },
  {
   "cell_type": "code",
   "execution_count": null,
   "metadata": {},
   "outputs": [],
   "source": [
    "donkeys[(donkeys['Length'] < 71.145) | (donkeys['Length'] > 111)]['Length']"
   ]
  },
  {
   "cell_type": "code",
   "execution_count": null,
   "metadata": {},
   "outputs": [],
   "source": [
    "donkeys[(donkeys['Girth'] < 90) | (donkeys['Girth'] > 131.285)]['Girth']"
   ]
  },
  {
   "cell_type": "code",
   "execution_count": null,
   "metadata": {},
   "outputs": [],
   "source": [
    "donkeys[(donkeys['Height'] < 89) | (donkeys['Height'] > 112)]['Height']"
   ]
  },
  {
   "cell_type": "markdown",
   "metadata": {},
   "source": [
    "For these three columns, the donkey in row 8 seems to have a much smaller value than the cut-off while the other anomalous donkeys are close to the cut-off and likely do not need to be removed.\n",
    "\n",
    "---"
   ]
  },
  {
   "cell_type": "markdown",
   "metadata": {},
   "source": [
    "Finally, let's take a look at `Weight`."
   ]
  },
  {
   "cell_type": "code",
   "execution_count": null,
   "metadata": {},
   "outputs": [],
   "source": [
    "donkeys[(donkeys['Weight'] < 71.715) | (donkeys['Weight'] > 214)]['Weight']"
   ]
  },
  {
   "cell_type": "markdown",
   "metadata": {},
   "source": [
    "The first 2 and last 2 donkeys in the list are far off from the cut-off and most likely should be removed. The middle donkey can be included.\n",
    "\n",
    "---\n",
    "\n",
    "Since `WeightAlt` closely corresponds to `Weight`, we do not have to check this column for anomalies. Summarizing what we have learned, here is how we want to filter our donkeys:\n",
    "\n",
    "- Keep donkeys with `BCS` in the range 1.5 and 4\n",
    "- Keep donkeys with `Weight` between 71 and 214  \n"
   ]
  },
  {
   "cell_type": "code",
   "execution_count": null,
   "metadata": {},
   "outputs": [],
   "source": [
    "donkeys_c = donkeys[(donkeys['BCS'] >= 1.5) & (donkeys['BCS'] <= 4) &\n",
    "                         (donkeys['Weight'] >= 71) & (donkeys['Weight'] <= 214)]"
   ]
  },
  {
   "cell_type": "markdown",
   "metadata": {},
   "source": [
    "## Train-Test Split\n",
    "\n",
    "Before we proceed with our data analysis, we divide our data into an 80/20 split, using 80% of our data to train our model and setting aside the other 20% for evaluation of the model."
   ]
  },
  {
   "cell_type": "code",
   "execution_count": null,
   "metadata": {},
   "outputs": [],
   "source": [
    "X_train, X_test, y_train, y_test = train_test_split(donkeys_c.drop(['Weight'], axis=1),\n",
    "                                                    donkeys_c['Weight'],\n",
    "                                                    test_size=0.2,\n",
    "                                                   random_state=42)\n",
    "X_train.shape, X_test.shape"
   ]
  },
  {
   "cell_type": "markdown",
   "metadata": {},
   "source": [
    "Let's also create a function that evaluates our predictions on the test set. Recall that our metric for linear regression is mean-squared error. "
   ]
  },
  {
   "cell_type": "code",
   "execution_count": null,
   "metadata": {
    "collapsed": true
   },
   "outputs": [],
   "source": [
    "def mse_test_set(predictions):\n",
    "    return float(np.sum((predictions - y_test) ** 2))"
   ]
  },
  {
   "cell_type": "markdown",
   "metadata": {},
   "source": [
    "## Exploring the Data + Data Visualization\n",
    "\n",
    "As in any data science project, we will explore our data before attempting to fit a model to it.\n",
    "\n",
    "First, we will examine the categorical variables with boxplots."
   ]
  },
  {
   "cell_type": "code",
   "execution_count": null,
   "metadata": {},
   "outputs": [],
   "source": [
    "# HIDDEN\n",
    "sns.boxplot(x=X_train['BCS'], y=y_train);"
   ]
  },
  {
   "cell_type": "markdown",
   "metadata": {},
   "source": [
    "It seems like median weight increases with BCS, but not linearly."
   ]
  },
  {
   "cell_type": "code",
   "execution_count": null,
   "metadata": {},
   "outputs": [],
   "source": [
    "# HIDDEN\n",
    "sns.boxplot(x=X_train['Sex'], y=y_train,\n",
    "            order = ['female', 'stallion', 'gelding']);"
   ]
  },
  {
   "cell_type": "markdown",
   "metadata": {},
   "source": [
    "It seems like the sex of the donkey doesn't appear to cause much of a difference in weight."
   ]
  },
  {
   "cell_type": "code",
   "execution_count": null,
   "metadata": {},
   "outputs": [],
   "source": [
    "# HIDDEN\n",
    "sns.boxplot(x=X_train['Age'], y=y_train, \n",
    "            order = ['<2', '2-5', '5-10', '10-15', '15-20', '>20']);"
   ]
  },
  {
   "cell_type": "markdown",
   "metadata": {},
   "source": [
    "For donkeys over 5, the weight distribution is not too different.\n",
    "\n",
    "Now, let's look at the quantitative variables. We can plot each of them against the target variable."
   ]
  },
  {
   "cell_type": "code",
   "execution_count": null,
   "metadata": {},
   "outputs": [],
   "source": [
    "# HIDDEN\n",
    "X_train['Weight'] = y_train\n",
    "sns.regplot('Length', 'Weight', X_train, fit_reg=False);"
   ]
  },
  {
   "cell_type": "code",
   "execution_count": null,
   "metadata": {},
   "outputs": [],
   "source": [
    "# HIDDEN\n",
    "sns.regplot('Girth', 'Weight', X_train, fit_reg=False);"
   ]
  },
  {
   "cell_type": "code",
   "execution_count": null,
   "metadata": {},
   "outputs": [],
   "source": [
    "# HIDDEN\n",
    "sns.regplot('Height', 'Weight', X_train, fit_reg=False);"
   ]
  },
  {
   "cell_type": "markdown",
   "metadata": {},
   "source": [
    "All three of our quantitative features have a linear relationship with our target variable of `Weight`, so we will not have to perform any transformations on our input data.\n",
    "\n",
    "It is also a good idea to see if our features are linear with each other. We plot two below: "
   ]
  },
  {
   "cell_type": "code",
   "execution_count": null,
   "metadata": {},
   "outputs": [],
   "source": [
    "# HIDDEN\n",
    "sns.regplot('Height', 'Length', X_train, fit_reg=False);"
   ]
  },
  {
   "cell_type": "code",
   "execution_count": null,
   "metadata": {},
   "outputs": [],
   "source": [
    "# HIDDEN\n",
    "sns.regplot('Height', 'Girth', X_train, fit_reg=False);"
   ]
  },
  {
   "cell_type": "markdown",
   "metadata": {},
   "source": [
    "From these plots, we can see that our predictor variables also have strong linear relationships with each other. This makes our model harder to interpret, so we should keep this in mind after we create our model.\n",
    "\n",
    "## Simpler Linear Models\n",
    "\n",
    "Rather than using all of our data at once, let's try to fit linear models to one or two variables first. \n",
    "\n",
    "Below are three simple linear regression models using just one quantitative variable. Which model appears to be the best?"
   ]
  },
  {
   "cell_type": "code",
   "execution_count": null,
   "metadata": {},
   "outputs": [],
   "source": [
    "# HIDDEN\n",
    "sns.regplot('Length', 'Weight', X_train, fit_reg=True);"
   ]
  },
  {
   "cell_type": "code",
   "execution_count": null,
   "metadata": {},
   "outputs": [],
   "source": [
    "# HIDDEN\n",
    "model = LinearRegression()\n",
    "model.fit(X_train[['Length']], X_train['Weight'])\n",
    "predictions = model.predict(X_test[['Length']])\n",
    "print(\"MSE:\", mse_test_set(predictions))"
   ]
  },
  {
   "cell_type": "code",
   "execution_count": null,
   "metadata": {},
   "outputs": [],
   "source": [
    "sns.regplot('Girth', 'Weight', X_train, fit_reg=True);"
   ]
  },
  {
   "cell_type": "code",
   "execution_count": null,
   "metadata": {},
   "outputs": [],
   "source": [
    "# HIDDEN\n",
    "model = LinearRegression()\n",
    "model.fit(X_train[['Girth']], X_train['Weight'])\n",
    "predictions = model.predict(X_test[['Girth']])\n",
    "print(\"MSE:\", mse_test_set(predictions))"
   ]
  },
  {
   "cell_type": "code",
   "execution_count": null,
   "metadata": {},
   "outputs": [],
   "source": [
    "sns.regplot('Height', 'Weight', X_train, fit_reg=True);"
   ]
  },
  {
   "cell_type": "code",
   "execution_count": null,
   "metadata": {},
   "outputs": [],
   "source": [
    "# HIDDEN\n",
    "model = LinearRegression()\n",
    "model.fit(X_train[['Height']], X_train['Weight'])\n",
    "predictions = model.predict(X_test[['Height']])\n",
    "print(\"MSE:\", mse_test_set(predictions))"
   ]
  },
  {
   "cell_type": "markdown",
   "metadata": {},
   "source": [
    "Looking at the scatterplots and the mean-squared errors, it seems like `Girth` is the best sole predictor of `Weight` as it has the strongest linear relationship with `Weight` and the smallest mean-squared error.\n",
    "\n",
    "Can we do better with two variables? Let's try fitting a linear model using both `Girth` and `Length`. Although it is not as easy to visualize this model, we can still look at the MSE of this model."
   ]
  },
  {
   "cell_type": "code",
   "execution_count": null,
   "metadata": {},
   "outputs": [],
   "source": [
    "# HIDDEN\n",
    "model = LinearRegression()\n",
    "model.fit(X_train[['Girth', 'Length']], X_train['Weight'])\n",
    "predictions = model.predict(X_test[['Girth', 'Length']])\n",
    "print(\"MSE:\", mse_test_set(predictions))"
   ]
  },
  {
   "cell_type": "markdown",
   "metadata": {},
   "source": [
    "Wow! Looks like our MSE went down from around 13000 with just `Girth` alone to 10000 with `Girth` and `Length`. Using two variables has improved our model.\n",
    "\n",
    "We can also use categorical variables in our model. Let's now look at a linear model using the categorical variable of `Age`. This is the plot of `Age` versus `Weight`:"
   ]
  },
  {
   "cell_type": "code",
   "execution_count": null,
   "metadata": {},
   "outputs": [],
   "source": [
    "# HIDDEN\n",
    "sns.stripplot(x='Age', y='Weight', data=X_train, order=['<2', '2-5', '5-10', '10-15', '15-20', '>20']);"
   ]
  },
  {
   "cell_type": "markdown",
   "metadata": {},
   "source": [
    "Seeing how `Age` is a categorical variable, we need to introduce dummy variables in order to produce a linear regression model."
   ]
  },
  {
   "cell_type": "code",
   "execution_count": null,
   "metadata": {},
   "outputs": [],
   "source": [
    "# HIDDEN\n",
    "just_age_and_weight = X_train[['Age', 'Weight']]\n",
    "with_age_dummies = pd.get_dummies(just_age_and_weight, columns=['Age'])\n",
    "model = LinearRegression()\n",
    "model.fit(with_age_dummies.drop('Weight', axis=1), with_age_dummies['Weight'])\n",
    "\n",
    "just_age_and_weight_test = X_test[['Age']]\n",
    "with_age_dummies_test = pd.get_dummies(just_age_and_weight_test, columns=['Age'])\n",
    "predictions = model.predict(with_age_dummies_test)\n",
    "print(\"MSE:\", mse_test_set(predictions))"
   ]
  },
  {
   "cell_type": "markdown",
   "metadata": {},
   "source": [
    "A MSE of around 40000 is worse than what we could get using any single one of the quantitative variables, but this variable could still prove to be useful in our linear model.\n",
    "\n",
    "Let's try to interpret this linear model. Note that every donkey that falls into an age category, say 2-5 years of age, will receive the same prediction because they share the input values: a 1 in the column corresponding to 2-5 years of age, and 0 in all other columns. Thus, we can interpret categorical variables as simply changing the constant in the model because the categorical variable separates the donkeys into groups and gives one prediction for all donkeys within that group.\n",
    "\n",
    "Our next step is to create a final model using both our categorical variables and multiple quantitative variables."
   ]
  },
  {
   "cell_type": "markdown",
   "metadata": {},
   "source": [
    "## Transforming Variables\n",
    "\n",
    "Recall from our boxplots that `Sex` was not a useful variable, so we will drop it. We will also remove the `WeightAlt` column because we only have its value for 31 donkeys. Finally, using `get_dummies`, we transform the categorical variables `BCS` and `Age` into dummy variables so that we can include them in the model. "
   ]
  },
  {
   "cell_type": "code",
   "execution_count": null,
   "metadata": {
    "collapsed": true
   },
   "outputs": [],
   "source": [
    "# HIDDEN\n",
    "X_train = X_train.drop('Weight', axis=1)"
   ]
  },
  {
   "cell_type": "code",
   "execution_count": null,
   "metadata": {
    "collapsed": true
   },
   "outputs": [],
   "source": [
    "# HIDDEN\n",
    "pd.set_option('max_columns', 15)"
   ]
  },
  {
   "cell_type": "code",
   "execution_count": null,
   "metadata": {},
   "outputs": [],
   "source": [
    "donkeys_train = X_train.drop(['Sex', 'WeightAlt'], axis=1)\n",
    "donkeys_train = pd.get_dummies(donkeys_train, columns=['BCS', 'Age'])\n",
    "donkeys_train.head()"
   ]
  },
  {
   "cell_type": "markdown",
   "metadata": {},
   "source": [
    "Since we do not want our matrix to be over-parameterized, we should drop one category from the `BCS` and `Age` dummies."
   ]
  },
  {
   "cell_type": "code",
   "execution_count": null,
   "metadata": {},
   "outputs": [],
   "source": [
    "donkeys_train = donkeys_train.drop(['BCS_3.0', 'Age_5-10'], axis=1)\n",
    "donkeys_train.head()"
   ]
  },
  {
   "cell_type": "markdown",
   "metadata": {},
   "source": [
    "We should also add a column of biases in order to have a constant term in our model."
   ]
  },
  {
   "cell_type": "code",
   "execution_count": null,
   "metadata": {},
   "outputs": [],
   "source": [
    "donkeys_train = donkeys_train.assign(bias=1)"
   ]
  },
  {
   "cell_type": "code",
   "execution_count": null,
   "metadata": {},
   "outputs": [],
   "source": [
    "# HIDDEN\n",
    "donkeys_train = donkeys_train.reindex_axis(['bias'] + list(donkeys_train.columns[:-1]), axis=1)\n"
   ]
  },
  {
   "cell_type": "code",
   "execution_count": null,
   "metadata": {},
   "outputs": [],
   "source": [
    "donkeys_train.head()"
   ]
  },
  {
   "cell_type": "markdown",
   "metadata": {},
   "source": [
    "## Multiple Linear Regression Model\n",
    "\n",
    "We are finally ready to fit our model to all of the variables we have deemed important and transformed into the proper form.\n",
    "\n",
    "Our model looks like this:\n",
    "\n",
    "$$\n",
    "f_\\hat{\\theta} (x) = \\hat{\\theta_0} + \\hat{\\theta_1} (Length) + \\hat{\\theta_2} (Girth) + \\hat{\\theta_3} (Height) + ... +  \\hat{\\theta_{13}} (Age_>20)\n",
    "$$\n",
    "\n",
    "Here are the functions we defined earlier in the multiple linear regression section, which we will use again:"
   ]
  },
  {
   "cell_type": "code",
   "execution_count": null,
   "metadata": {
    "collapsed": true
   },
   "outputs": [],
   "source": [
    "def linear_model(thetas, X):\n",
    "    '''Returns predictions by a linear model on x_vals.'''\n",
    "    return X @ thetas\n",
    "\n",
    "def mse_cost(thetas, X, y):\n",
    "    return np.mean((y - linear_model(thetas, X)) ** 2)\n",
    "\n",
    "def grad_mse_cost(thetas, X, y):\n",
    "    n = len(X)\n",
    "    return -2 / n * (X.T @ y  - X.T @ X @ thetas)"
   ]
  },
  {
   "cell_type": "markdown",
   "metadata": {},
   "source": [
    "In order to use the above functions, we need `X`, and `y`. These can both be obtained from our data frames. Remember that `X` and `y` have to be numpy matrices in order to be able to multiply them with `@` notation.\n",
    "\n",
    "`X` consists of all columns of the data frame `donkeys_train`."
   ]
  },
  {
   "cell_type": "code",
   "execution_count": null,
   "metadata": {},
   "outputs": [],
   "source": [
    "X = (donkeys_train\n",
    "     .as_matrix())"
   ]
  },
  {
   "cell_type": "markdown",
   "metadata": {},
   "source": [
    "`y` is `y_train` as a matrix."
   ]
  },
  {
   "cell_type": "code",
   "execution_count": null,
   "metadata": {
    "collapsed": true
   },
   "outputs": [],
   "source": [
    "y = y_train.as_matrix()"
   ]
  },
  {
   "cell_type": "markdown",
   "metadata": {},
   "source": [
    "Now we just need to call the `minimize` function defined in a previous section."
   ]
  },
  {
   "cell_type": "code",
   "execution_count": null,
   "metadata": {},
   "outputs": [],
   "source": [
    "thetas = minimize(mse_cost, grad_mse_cost, X, y)"
   ]
  },
  {
   "cell_type": "markdown",
   "metadata": {},
   "source": [
    "Our linear model is:\n",
    "\n",
    "$y = -204.4 + 0.93x_1 + ... -7.29x_{12} - 0.23x_{13}$"
   ]
  },
  {
   "cell_type": "markdown",
   "metadata": {},
   "source": [
    "Let's compare this equation that we obtained to the one we would get if we had used `sklearn`'s LinearRegression model instead."
   ]
  },
  {
   "cell_type": "code",
   "execution_count": null,
   "metadata": {},
   "outputs": [],
   "source": [
    "model = LinearRegression(fit_intercept=False) # We already accounted for it with the bias column\n",
    "model.fit(X[:, :14], y)\n",
    "print(\"Coefficients\", model.coef_)"
   ]
  },
  {
   "cell_type": "markdown",
   "metadata": {},
   "source": [
    "The coefficients look exactly the same! Our homemade functions create the same model as an established Python package!\n",
    "\n",
    "We successfully fit a linear model to our donkey data! Nice!"
   ]
  },
  {
   "cell_type": "markdown",
   "metadata": {},
   "source": [
    "## Evaluating our Model\n",
    "\n",
    "Our next step is to evaluate our model's performance on the test set. We need to perform the same data pre-processing steps on the test set as we did on the training set before we can pass it into our model."
   ]
  },
  {
   "cell_type": "code",
   "execution_count": null,
   "metadata": {
    "collapsed": true
   },
   "outputs": [],
   "source": [
    "donkeys_test = X_test.drop(['Sex', 'WeightAlt'], axis=1)\n",
    "donkeys_test = pd.get_dummies(donkeys_test, columns=['BCS', 'Age'])\n",
    "donkeys_test = donkeys_test.drop(['BCS_3.0', 'Age_5-10'], axis=1)\n",
    "donkeys_test = donkeys_test.assign(bias=1)"
   ]
  },
  {
   "cell_type": "code",
   "execution_count": null,
   "metadata": {
    "collapsed": true
   },
   "outputs": [],
   "source": [
    "# HIDDEN\n",
    "donkeys_test = donkeys_test.reindex_axis(['bias'] + list(donkeys_test.columns[:-1]), axis=1)"
   ]
  },
  {
   "cell_type": "markdown",
   "metadata": {},
   "source": [
    "We obtain `X` to pass into `predict` of our `LinearRegression` model:"
   ]
  },
  {
   "cell_type": "code",
   "execution_count": null,
   "metadata": {
    "collapsed": true
   },
   "outputs": [],
   "source": [
    "X = (donkeys_test\n",
    "     .as_matrix())\n",
    "predictions = model.predict(X)"
   ]
  },
  {
   "cell_type": "markdown",
   "metadata": {},
   "source": [
    "Let's look at the mean squared error:"
   ]
  },
  {
   "cell_type": "code",
   "execution_count": null,
   "metadata": {
    "collapsed": true
   },
   "outputs": [],
   "source": [
    "mse_test_set(predictions)"
   ]
  },
  {
   "cell_type": "markdown",
   "metadata": {},
   "source": [
    "With these predictions, we can also make a residual plot:"
   ]
  },
  {
   "cell_type": "code",
   "execution_count": null,
   "metadata": {},
   "outputs": [],
   "source": [
    "# HIDDEN\n",
    "y = y_test.as_matrix()\n",
    "resid = y - predictions\n",
    "resid_prop = resid / y\n",
    "plt.scatter(np.arange(len(resid_prop)), resid_prop, s=15)\n",
    "plt.axhline(0)\n",
    "plt.title('Residual proportions (resid / actual Weight)')\n",
    "plt.xlabel('Index of row in data')\n",
    "plt.ylabel('Error proportion');"
   ]
  },
  {
   "cell_type": "markdown",
   "metadata": {},
   "source": [
    "Looks like our model does pretty well! The residual proportions indicate that our predictions are mostly within 15% of the correct value. "
   ]
  }
 ],
 "metadata": {
  "kernelspec": {
   "display_name": "Python 3",
   "language": "python",
   "name": "python3"
  }
 },
 "nbformat": 4,
 "nbformat_minor": 2
}
