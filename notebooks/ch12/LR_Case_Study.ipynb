{
 "cells": [
  {
   "cell_type": "code",
   "execution_count": 1,
   "metadata": {
    "collapsed": true
   },
   "outputs": [],
   "source": [
    "# HIDDEN\n",
    "import numpy as np\n",
    "import matplotlib.pyplot as plt\n",
    "import pandas as pd\n",
    "import seaborn as sns\n",
    "from sklearn.linear_model import LinearRegression\n",
    "%matplotlib inline\n",
    "\n",
    "sns.set()\n",
    "sns.set_context('talk')\n",
    "pd.options.display.max_rows = 7\n",
    "pd.options.display.max_columns = 7\n",
    "np.set_printoptions(precision=2, suppress=True)"
   ]
  },
  {
   "cell_type": "code",
   "execution_count": 2,
   "metadata": {
    "collapsed": true
   },
   "outputs": [],
   "source": [
    "# HIDDEN\n",
    "\"\"\"\n",
    "def minimize(cost_fn, grad_cost_fn, X, y, alpha=0.2, progress=True):\n",
    "    '''\n",
    "    Uses gradient descent to minimize cost_fn. Returns the minimizing value of\n",
    "    theta once theta changes less than 0.001 between iterations.\n",
    "    '''\n",
    "    theta = np.zeros(X.shape[1])\n",
    "    old_cost = 10000000\n",
    "    while True:\n",
    "        if progress:\n",
    "            print(f'theta: {theta} | cost: {cost_fn(theta, X, y):.2f}')\n",
    "        gradient = grad_cost_fn(theta, X, y)\n",
    "        new_theta = theta - alpha * gradient\n",
    "        cost = cost_fn(theta, X, y)\n",
    "        if abs(old_cost - cost) < 10:\n",
    "            return new_theta\n",
    "        old_cost = cost\n",
    "        \n",
    "        theta = new_theta\n",
    "        \n",
    "\"\"\"\n",
    "        \n",
    "from scipy.optimize import minimize as sci_min\n",
    "\n",
    "def minimize(cost_fn, grad_cost_fn, X, y, progress=True):\n",
    "    '''\n",
    "    Uses scipy.minimize to minimize cost_fn using a form of gradient descent.\n",
    "    '''\n",
    "    theta = np.zeros(X.shape[1])\n",
    "    iters = 0\n",
    "    \n",
    "    def objective(theta):\n",
    "        return cost_fn(theta, X, y)\n",
    "    def gradient(theta):\n",
    "        return grad_cost_fn(theta, X, y)\n",
    "    def print_theta(theta):\n",
    "        nonlocal iters\n",
    "        if progress and iters % progress == 0:\n",
    "            print(f'theta: {theta} | cost: {cost_fn(theta, X, y):.2f}')\n",
    "        iters += 1\n",
    "        \n",
    "    print_theta(theta)\n",
    "    return sci_min(\n",
    "        objective, theta, method='BFGS', jac=gradient, callback=print_theta,\n",
    "        tol=1e-7\n",
    "    ).x"
   ]
  },
  {
   "cell_type": "markdown",
   "metadata": {},
   "source": [
    "## Linear Regression Case Study\n",
    "\n",
    "In this section, we perform an end-to-end case study of the application of a linear regression model to a dataset.\n",
    "\n",
    "The dataset we will be working with is a record of the population and drinking data in various states. The dataset is from this website: http://people.sc.fsu.edu/~jburkardt/datasets/regression/x20.txt, with some properties of the dataset changed for didactical purposes.\n",
    "\n",
    "Our task: predict the cirrhosis death rate using linear regression."
   ]
  },
  {
   "cell_type": "markdown",
   "metadata": {},
   "source": [
    "## Exploring the Dataset\n",
    "\n",
    "As in any data science project, we'll begin with exploratory data analysis.\n",
    "\n",
    "We'll start by reading in the dataset using `pandas`."
   ]
  },
  {
   "cell_type": "code",
   "execution_count": 3,
   "metadata": {
    "collapsed": true
   },
   "outputs": [],
   "source": [
    "drinking_data = pd.read_csv(\"drinking.csv\")"
   ]
  },
  {
   "cell_type": "markdown",
   "metadata": {},
   "source": [
    "It's always a good idea to look at _how much_ data we have by looking at the dimensions of the dataset. An example of how this might be useful: if our data has a large number of observations, it would not be a good idea to print out the whole dataframe."
   ]
  },
  {
   "cell_type": "code",
   "execution_count": 4,
   "metadata": {},
   "outputs": [
    {
     "data": {
      "text/plain": [
       "(46, 6)"
      ]
     },
     "execution_count": 4,
     "metadata": {},
     "output_type": "execute_result"
    }
   ],
   "source": [
    "drinking_data.shape"
   ]
  },
  {
   "cell_type": "markdown",
   "metadata": {},
   "source": [
    "The dataset is small, with only 46 rows of observations and 6 columns. Let's look at what columns we have available to us."
   ]
  },
  {
   "cell_type": "code",
   "execution_count": 5,
   "metadata": {},
   "outputs": [
    {
     "data": {
      "text/plain": [
       "array(['Bias', 'Urban population (percentage)',\n",
       "       'Late births (reciprocal * 100)', 'Wine consumption per capita',\n",
       "       'Liquor consumption per capita', 'Cirrhosis death rate'], dtype=object)"
      ]
     },
     "execution_count": 5,
     "metadata": {},
     "output_type": "execute_result"
    }
   ],
   "source": [
    "drinking_data.columns.values"
   ]
  },
  {
   "cell_type": "markdown",
   "metadata": {},
   "source": [
    "But what do any of these column names mean? Just looking at the column names is not enough because they may be unclear and our assumptions of what they mean can be wrong. Looking at the documentation provided by the source of the dataset, we can create a table describing each column, sometimes referred to as a data dictionary:\n",
    "\n",
    "| Column        | Description   \n",
    "| :------------- |:-------------|\n",
    "|`'Bias'`| a column of all 1's |\n",
    "|`'Urban population (percentage)'`| the size of the urban population | \n",
    "|`'Late births (reciprocal * 100)'`| the reciprocal of the number of births to women between 45 to 49, times 100 |\n",
    "|`'Wine consumption per capita'`| the consumption of wine per capita|\n",
    "|`'Liquor consumption per capita'`| the consumption of hard liquor per capita|\n",
    "|`'Cirrhosis death rate'`| the death rate from cirrhosis |\n",
    "\n",
    "At this point, we may want to look up words we do not understand. For example, a quick Google search reveals that cirrhosis is chronic liver disease and can be caused by chronic alcohol abuse. Some of these column names are really long, so it may be convenient to rename some of them later.\n",
    "\n",
    "Now that we have a good understanding of each of the columns, we can actually start to look at the data. Let's take a quick look at the first few rows of our dataset using the `head` function. "
   ]
  },
  {
   "cell_type": "code",
   "execution_count": 6,
   "metadata": {},
   "outputs": [
    {
     "data": {
      "text/html": [
       "<div>\n",
       "<style>\n",
       "    .dataframe thead tr:only-child th {\n",
       "        text-align: right;\n",
       "    }\n",
       "\n",
       "    .dataframe thead th {\n",
       "        text-align: left;\n",
       "    }\n",
       "\n",
       "    .dataframe tbody tr th {\n",
       "        vertical-align: top;\n",
       "    }\n",
       "</style>\n",
       "<table border=\"1\" class=\"dataframe\">\n",
       "  <thead>\n",
       "    <tr style=\"text-align: right;\">\n",
       "      <th></th>\n",
       "      <th>Bias</th>\n",
       "      <th>Urban population (percentage)</th>\n",
       "      <th>Late births (reciprocal * 100)</th>\n",
       "      <th>Wine consumption per capita</th>\n",
       "      <th>Liquor consumption per capita</th>\n",
       "      <th>Cirrhosis death rate</th>\n",
       "    </tr>\n",
       "  </thead>\n",
       "  <tbody>\n",
       "    <tr>\n",
       "      <th>0</th>\n",
       "      <td>1</td>\n",
       "      <td>44.0</td>\n",
       "      <td>33.2</td>\n",
       "      <td>5</td>\n",
       "      <td>30</td>\n",
       "      <td>41.2</td>\n",
       "    </tr>\n",
       "    <tr>\n",
       "      <th>1</th>\n",
       "      <td>1</td>\n",
       "      <td>43.0</td>\n",
       "      <td>33.8</td>\n",
       "      <td>4</td>\n",
       "      <td>41</td>\n",
       "      <td>31.7</td>\n",
       "    </tr>\n",
       "    <tr>\n",
       "      <th>2</th>\n",
       "      <td>1</td>\n",
       "      <td>48.0</td>\n",
       "      <td>40.6</td>\n",
       "      <td>3</td>\n",
       "      <td>38</td>\n",
       "      <td>39.4</td>\n",
       "    </tr>\n",
       "    <tr>\n",
       "      <th>3</th>\n",
       "      <td>1</td>\n",
       "      <td>52.0</td>\n",
       "      <td>39.2</td>\n",
       "      <td>7</td>\n",
       "      <td>48</td>\n",
       "      <td>57.5</td>\n",
       "    </tr>\n",
       "    <tr>\n",
       "      <th>4</th>\n",
       "      <td>1</td>\n",
       "      <td>71.0</td>\n",
       "      <td>45.5</td>\n",
       "      <td>11</td>\n",
       "      <td>53</td>\n",
       "      <td>74.8</td>\n",
       "    </tr>\n",
       "  </tbody>\n",
       "</table>\n",
       "</div>"
      ],
      "text/plain": [
       "   Bias  Urban population (percentage)  Late births (reciprocal * 100)  \\\n",
       "0     1                           44.0                            33.2   \n",
       "1     1                           43.0                            33.8   \n",
       "2     1                           48.0                            40.6   \n",
       "3     1                           52.0                            39.2   \n",
       "4     1                           71.0                            45.5   \n",
       "\n",
       "   Wine consumption per capita  Liquor consumption per capita  \\\n",
       "0                            5                             30   \n",
       "1                            4                             41   \n",
       "2                            3                             38   \n",
       "3                            7                             48   \n",
       "4                           11                             53   \n",
       "\n",
       "   Cirrhosis death rate  \n",
       "0                  41.2  \n",
       "1                  31.7  \n",
       "2                  39.4  \n",
       "3                  57.5  \n",
       "4                  74.8  "
      ]
     },
     "execution_count": 6,
     "metadata": {},
     "output_type": "execute_result"
    }
   ],
   "source": [
    "drinking_data.head()"
   ]
  },
  {
   "cell_type": "markdown",
   "metadata": {},
   "source": [
    "Although we cannot see any null values from the first 5 rows of the dataset, there may be some present in our dataset that we will need to deal with. We can write code to tell us if there are null values present using the pandas `isnull` function."
   ]
  },
  {
   "cell_type": "code",
   "execution_count": 15,
   "metadata": {},
   "outputs": [
    {
     "data": {
      "text/plain": [
       "35    1\n",
       "dtype: int64"
      ]
     },
     "execution_count": 15,
     "metadata": {},
     "output_type": "execute_result"
    }
   ],
   "source": [
    "num_nulls = drinking_data.isnull().sum(axis=1) # summing over axis = 1 tells us the number of null values per row\n",
    "num_nulls[num_nulls > 0]"
   ]
  },
  {
   "cell_type": "markdown",
   "metadata": {},
   "source": [
    "It appears that there is a null value present in row 35 of our dataset. Let's examine that row more closely:"
   ]
  },
  {
   "cell_type": "code",
   "execution_count": 16,
   "metadata": {},
   "outputs": [
    {
     "data": {
      "text/plain": [
       "Bias                                1.0\n",
       "Urban population (percentage)       NaN\n",
       "Late births (reciprocal * 100)     53.0\n",
       "Wine consumption per capita        28.0\n",
       "Liquor consumption per capita     149.0\n",
       "Cirrhosis death rate              122.5\n",
       "Name: 35, dtype: float64"
      ]
     },
     "execution_count": 16,
     "metadata": {},
     "output_type": "execute_result"
    }
   ],
   "source": [
    "drinking_data.iloc[35]"
   ]
  },
  {
   "cell_type": "markdown",
   "metadata": {},
   "source": [
    "With null values, we have two options: either drop the row with the null value or try to impute a value in the place of the null. Since we only have one null value in our dataset and it may not be a good idea to try to guess a value because it may negatively influence our linear regression model, we can just drop the row."
   ]
  },
  {
   "cell_type": "markdown",
   "metadata": {},
   "source": [
    "## Data Cleaning"
   ]
  },
  {
   "cell_type": "markdown",
   "metadata": {},
   "source": [
    "Let's rename the column names to shorter names. It will make our code look cleaner and easier to read. We can make a new list of column names and assign `drinking_data.columns` to this list."
   ]
  },
  {
   "cell_type": "code",
   "execution_count": 22,
   "metadata": {
    "collapsed": true
   },
   "outputs": [],
   "source": [
    "new_column_names = ['Bias', 'Urban population', 'Late births', 'Wine', 'Liquor', 'Cirrhosis']\n",
    "drinking_data.columns = new_column_names "
   ]
  },
  {
   "cell_type": "code",
   "execution_count": 23,
   "metadata": {},
   "outputs": [
    {
     "data": {
      "text/html": [
       "<div>\n",
       "<style>\n",
       "    .dataframe thead tr:only-child th {\n",
       "        text-align: right;\n",
       "    }\n",
       "\n",
       "    .dataframe thead th {\n",
       "        text-align: left;\n",
       "    }\n",
       "\n",
       "    .dataframe tbody tr th {\n",
       "        vertical-align: top;\n",
       "    }\n",
       "</style>\n",
       "<table border=\"1\" class=\"dataframe\">\n",
       "  <thead>\n",
       "    <tr style=\"text-align: right;\">\n",
       "      <th></th>\n",
       "      <th>Bias</th>\n",
       "      <th>Urban population</th>\n",
       "      <th>Late births</th>\n",
       "      <th>Wine</th>\n",
       "      <th>Liquor</th>\n",
       "      <th>Cirrhosis</th>\n",
       "    </tr>\n",
       "  </thead>\n",
       "  <tbody>\n",
       "    <tr>\n",
       "      <th>0</th>\n",
       "      <td>1</td>\n",
       "      <td>44.0</td>\n",
       "      <td>33.2</td>\n",
       "      <td>5</td>\n",
       "      <td>30</td>\n",
       "      <td>41.2</td>\n",
       "    </tr>\n",
       "    <tr>\n",
       "      <th>1</th>\n",
       "      <td>1</td>\n",
       "      <td>43.0</td>\n",
       "      <td>33.8</td>\n",
       "      <td>4</td>\n",
       "      <td>41</td>\n",
       "      <td>31.7</td>\n",
       "    </tr>\n",
       "    <tr>\n",
       "      <th>2</th>\n",
       "      <td>1</td>\n",
       "      <td>48.0</td>\n",
       "      <td>40.6</td>\n",
       "      <td>3</td>\n",
       "      <td>38</td>\n",
       "      <td>39.4</td>\n",
       "    </tr>\n",
       "    <tr>\n",
       "      <th>...</th>\n",
       "      <td>...</td>\n",
       "      <td>...</td>\n",
       "      <td>...</td>\n",
       "      <td>...</td>\n",
       "      <td>...</td>\n",
       "      <td>...</td>\n",
       "    </tr>\n",
       "    <tr>\n",
       "      <th>43</th>\n",
       "      <td>1</td>\n",
       "      <td>44.0</td>\n",
       "      <td>35.3</td>\n",
       "      <td>3</td>\n",
       "      <td>32</td>\n",
       "      <td>51.6</td>\n",
       "    </tr>\n",
       "    <tr>\n",
       "      <th>44</th>\n",
       "      <td>1</td>\n",
       "      <td>63.0</td>\n",
       "      <td>39.3</td>\n",
       "      <td>8</td>\n",
       "      <td>40</td>\n",
       "      <td>55.7</td>\n",
       "    </tr>\n",
       "    <tr>\n",
       "      <th>45</th>\n",
       "      <td>1</td>\n",
       "      <td>58.0</td>\n",
       "      <td>43.8</td>\n",
       "      <td>13</td>\n",
       "      <td>57</td>\n",
       "      <td>55.5</td>\n",
       "    </tr>\n",
       "  </tbody>\n",
       "</table>\n",
       "<p>46 rows × 6 columns</p>\n",
       "</div>"
      ],
      "text/plain": [
       "    Bias  Urban population  Late births  Wine  Liquor  Cirrhosis\n",
       "0      1              44.0         33.2     5      30       41.2\n",
       "1      1              43.0         33.8     4      41       31.7\n",
       "2      1              48.0         40.6     3      38       39.4\n",
       "..   ...               ...          ...   ...     ...        ...\n",
       "43     1              44.0         35.3     3      32       51.6\n",
       "44     1              63.0         39.3     8      40       55.7\n",
       "45     1              58.0         43.8    13      57       55.5\n",
       "\n",
       "[46 rows x 6 columns]"
      ]
     },
     "execution_count": 23,
     "metadata": {},
     "output_type": "execute_result"
    }
   ],
   "source": [
    "drinking_data"
   ]
  },
  {
   "cell_type": "markdown",
   "metadata": {
    "collapsed": true
   },
   "source": [
    "Let's deal with that pesky null value. "
   ]
  },
  {
   "cell_type": "code",
   "execution_count": 24,
   "metadata": {},
   "outputs": [
    {
     "data": {
      "text/html": [
       "<div>\n",
       "<style>\n",
       "    .dataframe thead tr:only-child th {\n",
       "        text-align: right;\n",
       "    }\n",
       "\n",
       "    .dataframe thead th {\n",
       "        text-align: left;\n",
       "    }\n",
       "\n",
       "    .dataframe tbody tr th {\n",
       "        vertical-align: top;\n",
       "    }\n",
       "</style>\n",
       "<table border=\"1\" class=\"dataframe\">\n",
       "  <thead>\n",
       "    <tr style=\"text-align: right;\">\n",
       "      <th></th>\n",
       "      <th>Bias</th>\n",
       "      <th>Urban population</th>\n",
       "      <th>Late births</th>\n",
       "      <th>Wine</th>\n",
       "      <th>Liquor</th>\n",
       "      <th>Cirrhosis</th>\n",
       "    </tr>\n",
       "  </thead>\n",
       "  <tbody>\n",
       "    <tr>\n",
       "      <th>0</th>\n",
       "      <td>1</td>\n",
       "      <td>44.0</td>\n",
       "      <td>33.2</td>\n",
       "      <td>5</td>\n",
       "      <td>30</td>\n",
       "      <td>41.2</td>\n",
       "    </tr>\n",
       "    <tr>\n",
       "      <th>1</th>\n",
       "      <td>1</td>\n",
       "      <td>43.0</td>\n",
       "      <td>33.8</td>\n",
       "      <td>4</td>\n",
       "      <td>41</td>\n",
       "      <td>31.7</td>\n",
       "    </tr>\n",
       "    <tr>\n",
       "      <th>2</th>\n",
       "      <td>1</td>\n",
       "      <td>48.0</td>\n",
       "      <td>40.6</td>\n",
       "      <td>3</td>\n",
       "      <td>38</td>\n",
       "      <td>39.4</td>\n",
       "    </tr>\n",
       "    <tr>\n",
       "      <th>...</th>\n",
       "      <td>...</td>\n",
       "      <td>...</td>\n",
       "      <td>...</td>\n",
       "      <td>...</td>\n",
       "      <td>...</td>\n",
       "      <td>...</td>\n",
       "    </tr>\n",
       "    <tr>\n",
       "      <th>43</th>\n",
       "      <td>1</td>\n",
       "      <td>44.0</td>\n",
       "      <td>35.3</td>\n",
       "      <td>3</td>\n",
       "      <td>32</td>\n",
       "      <td>51.6</td>\n",
       "    </tr>\n",
       "    <tr>\n",
       "      <th>44</th>\n",
       "      <td>1</td>\n",
       "      <td>63.0</td>\n",
       "      <td>39.3</td>\n",
       "      <td>8</td>\n",
       "      <td>40</td>\n",
       "      <td>55.7</td>\n",
       "    </tr>\n",
       "    <tr>\n",
       "      <th>45</th>\n",
       "      <td>1</td>\n",
       "      <td>58.0</td>\n",
       "      <td>43.8</td>\n",
       "      <td>13</td>\n",
       "      <td>57</td>\n",
       "      <td>55.5</td>\n",
       "    </tr>\n",
       "  </tbody>\n",
       "</table>\n",
       "<p>45 rows × 6 columns</p>\n",
       "</div>"
      ],
      "text/plain": [
       "    Bias  Urban population  Late births  Wine  Liquor  Cirrhosis\n",
       "0      1              44.0         33.2     5      30       41.2\n",
       "1      1              43.0         33.8     4      41       31.7\n",
       "2      1              48.0         40.6     3      38       39.4\n",
       "..   ...               ...          ...   ...     ...        ...\n",
       "43     1              44.0         35.3     3      32       51.6\n",
       "44     1              63.0         39.3     8      40       55.7\n",
       "45     1              58.0         43.8    13      57       55.5\n",
       "\n",
       "[45 rows x 6 columns]"
      ]
     },
     "execution_count": 24,
     "metadata": {},
     "output_type": "execute_result"
    }
   ],
   "source": [
    "drinking_data = drinking_data.dropna()\n",
    "drinking_data"
   ]
  },
  {
   "cell_type": "markdown",
   "metadata": {},
   "source": [
    "Looks like it worked! We now have 45 rows instead of 46 rows. "
   ]
  },
  {
   "cell_type": "markdown",
   "metadata": {},
   "source": [
    "## Data Visualization"
   ]
  },
  {
   "cell_type": "markdown",
   "metadata": {},
   "source": [
    "If we are going to try to create a _linear_ model, we should make sure that all of our predictor variables have a somewhat linear relationship with the target variable of Cirrhosis. Let's plot every predictor variable individually against Cirrhosis.  "
   ]
  },
  {
   "cell_type": "code",
   "execution_count": 25,
   "metadata": {},
   "outputs": [
    {
     "data": {
      "image/png": "[encoded data removed]",
      "text/plain": [
       "<matplotlib.figure.Figure at 0x1771276e438>"
      ]
     },
     "metadata": {},
     "output_type": "display_data"
    }
   ],
   "source": [
    "# HIDDEN\n",
    "plt.scatter(drinking_data['Urban population'], drinking_data['Cirrhosis'])\n",
    "plt.title(\"Urban population vs. Cirrhosis\")\n",
    "plt.xlabel(\"Urban population\")\n",
    "plt.ylabel(\"Cirrhosis\");"
   ]
  },
  {
   "cell_type": "markdown",
   "metadata": {},
   "source": [
    "This looks like reasonably linear."
   ]
  },
  {
   "cell_type": "code",
   "execution_count": 26,
   "metadata": {},
   "outputs": [
    {
     "data": {
      "image/png": "[encoded data removed]",
      "text/plain": [
       "<matplotlib.figure.Figure at 0x1771295b9e8>"
      ]
     },
     "metadata": {},
     "output_type": "display_data"
    }
   ],
   "source": [
    "# HIDDEN\n",
    "plt.scatter(drinking_data['Late births'], drinking_data['Cirrhosis'])\n",
    "plt.title(\"Late births vs. Cirrhosis\")\n",
    "plt.xlabel(\"Late births\")\n",
    "plt.ylabel(\"Cirrhosis\");"
   ]
  },
  {
   "cell_type": "markdown",
   "metadata": {},
   "source": [
    "It looks like we have an outlier for late births. Late births and cirrhosis seem to have a pretty strong linear relationship, but because this point is not close to the linear trend at all, this outlier would negatively affect our linear regression model. Thus, we should take this row out of our dataset. \n",
    "\n",
    "Since we can easily see that this lates births value is less than 10, we can just filter our dataset by selecting only rows where late births is over 10."
   ]
  },
  {
   "cell_type": "code",
   "execution_count": 27,
   "metadata": {},
   "outputs": [
    {
     "data": {
      "text/html": [
       "<div>\n",
       "<style>\n",
       "    .dataframe thead tr:only-child th {\n",
       "        text-align: right;\n",
       "    }\n",
       "\n",
       "    .dataframe thead th {\n",
       "        text-align: left;\n",
       "    }\n",
       "\n",
       "    .dataframe tbody tr th {\n",
       "        vertical-align: top;\n",
       "    }\n",
       "</style>\n",
       "<table border=\"1\" class=\"dataframe\">\n",
       "  <thead>\n",
       "    <tr style=\"text-align: right;\">\n",
       "      <th></th>\n",
       "      <th>Bias</th>\n",
       "      <th>Urban population</th>\n",
       "      <th>Late births</th>\n",
       "      <th>Wine</th>\n",
       "      <th>Liquor</th>\n",
       "      <th>Cirrhosis</th>\n",
       "    </tr>\n",
       "  </thead>\n",
       "  <tbody>\n",
       "    <tr>\n",
       "      <th>0</th>\n",
       "      <td>1</td>\n",
       "      <td>44.0</td>\n",
       "      <td>33.2</td>\n",
       "      <td>5</td>\n",
       "      <td>30</td>\n",
       "      <td>41.2</td>\n",
       "    </tr>\n",
       "    <tr>\n",
       "      <th>1</th>\n",
       "      <td>1</td>\n",
       "      <td>43.0</td>\n",
       "      <td>33.8</td>\n",
       "      <td>4</td>\n",
       "      <td>41</td>\n",
       "      <td>31.7</td>\n",
       "    </tr>\n",
       "    <tr>\n",
       "      <th>2</th>\n",
       "      <td>1</td>\n",
       "      <td>48.0</td>\n",
       "      <td>40.6</td>\n",
       "      <td>3</td>\n",
       "      <td>38</td>\n",
       "      <td>39.4</td>\n",
       "    </tr>\n",
       "    <tr>\n",
       "      <th>...</th>\n",
       "      <td>...</td>\n",
       "      <td>...</td>\n",
       "      <td>...</td>\n",
       "      <td>...</td>\n",
       "      <td>...</td>\n",
       "      <td>...</td>\n",
       "    </tr>\n",
       "    <tr>\n",
       "      <th>43</th>\n",
       "      <td>1</td>\n",
       "      <td>44.0</td>\n",
       "      <td>35.3</td>\n",
       "      <td>3</td>\n",
       "      <td>32</td>\n",
       "      <td>51.6</td>\n",
       "    </tr>\n",
       "    <tr>\n",
       "      <th>44</th>\n",
       "      <td>1</td>\n",
       "      <td>63.0</td>\n",
       "      <td>39.3</td>\n",
       "      <td>8</td>\n",
       "      <td>40</td>\n",
       "      <td>55.7</td>\n",
       "    </tr>\n",
       "    <tr>\n",
       "      <th>45</th>\n",
       "      <td>1</td>\n",
       "      <td>58.0</td>\n",
       "      <td>43.8</td>\n",
       "      <td>13</td>\n",
       "      <td>57</td>\n",
       "      <td>55.5</td>\n",
       "    </tr>\n",
       "  </tbody>\n",
       "</table>\n",
       "<p>44 rows × 6 columns</p>\n",
       "</div>"
      ],
      "text/plain": [
       "    Bias  Urban population  Late births  Wine  Liquor  Cirrhosis\n",
       "0      1              44.0         33.2     5      30       41.2\n",
       "1      1              43.0         33.8     4      41       31.7\n",
       "2      1              48.0         40.6     3      38       39.4\n",
       "..   ...               ...          ...   ...     ...        ...\n",
       "43     1              44.0         35.3     3      32       51.6\n",
       "44     1              63.0         39.3     8      40       55.7\n",
       "45     1              58.0         43.8    13      57       55.5\n",
       "\n",
       "[44 rows x 6 columns]"
      ]
     },
     "execution_count": 27,
     "metadata": {},
     "output_type": "execute_result"
    }
   ],
   "source": [
    "drinking_data = drinking_data[drinking_data['Late births'] >= 10]\n",
    "drinking_data"
   ]
  },
  {
   "cell_type": "markdown",
   "metadata": {},
   "source": [
    "How does our scatterplot look now without that outlier?"
   ]
  },
  {
   "cell_type": "code",
   "execution_count": 28,
   "metadata": {},
   "outputs": [
    {
     "data": {
      "image/png": "[encoded data removed]",
      "text/plain": [
       "<matplotlib.figure.Figure at 0x1771276e940>"
      ]
     },
     "metadata": {},
     "output_type": "display_data"
    }
   ],
   "source": [
    "# HIDDEN\n",
    "plt.scatter(drinking_data['Late births'], drinking_data['Cirrhosis'])\n",
    "plt.title(\"Late births vs. Cirrhosis\")\n",
    "plt.xlabel(\"Late births\")\n",
    "plt.ylabel(\"Cirrhosis\");"
   ]
  },
  {
   "cell_type": "markdown",
   "metadata": {},
   "source": [
    "Much better!"
   ]
  },
  {
   "cell_type": "code",
   "execution_count": 29,
   "metadata": {},
   "outputs": [
    {
     "data": {
      "image/png": "[encoded data removed]",
      "text/plain": [
       "<matplotlib.figure.Figure at 0x17712a294a8>"
      ]
     },
     "metadata": {},
     "output_type": "display_data"
    }
   ],
   "source": [
    "# HIDDEN\n",
    "plt.scatter(drinking_data['Wine'], drinking_data['Cirrhosis'])\n",
    "plt.title(\"Wine vs. Cirrhosis\")\n",
    "plt.xlabel(\"Wine\")\n",
    "plt.ylabel(\"Cirrhosis\");"
   ]
  },
  {
   "cell_type": "markdown",
   "metadata": {},
   "source": [
    "This looks like a pretty strong linear relationship between wine and cirrhosis."
   ]
  },
  {
   "cell_type": "code",
   "execution_count": 30,
   "metadata": {},
   "outputs": [
    {
     "data": {
      "image/png": "[encoded data removed]",
      "text/plain": [
       "<matplotlib.figure.Figure at 0x17712a81518>"
      ]
     },
     "metadata": {},
     "output_type": "display_data"
    }
   ],
   "source": [
    "# HIDDEN\n",
    "plt.scatter(drinking_data['Liquor'], drinking_data['Cirrhosis'])\n",
    "plt.title(\"Liquor vs. Cirrhosis\")\n",
    "plt.xlabel(\"Liquor\")\n",
    "plt.ylabel(\"Cirrhosis\");"
   ]
  },
  {
   "cell_type": "markdown",
   "metadata": {},
   "source": [
    "There seems to be a somewhat linear relationship between liquor and cirrhosis, though it is definitely not as strong as that between wine and cirrhosis."
   ]
  },
  {
   "cell_type": "markdown",
   "metadata": {},
   "source": [
    "## Linear Regression Model\n",
    "\n",
    "Since all variables seem to have a linear relationship with cirrhosis, we can just include all of them in our model. \n",
    "\n",
    "Our model looks like this:\n",
    "\n",
    "$$\n",
    "f_\\hat{\\theta} (x) = \\hat{\\theta_0} + \\hat{\\theta_1} (Urban population) + \\hat{\\theta_2} (Late births) + \\hat{\\theta_3} (Wine) + \\hat{\\theta_3} (Liquor)\n",
    "$$\n",
    "\n",
    "Remember, the $\\hat{\\theta_0}$ is accounted for due to the bias column in our dataframe.\n",
    "\n",
    "Here are the functions we defined earlier in the multiple linear regression section, which we will use again:"
   ]
  },
  {
   "cell_type": "code",
   "execution_count": 31,
   "metadata": {
    "collapsed": true
   },
   "outputs": [],
   "source": [
    "def linear_model(thetas, X):\n",
    "    '''Returns predictions by a linear model on x_vals.'''\n",
    "    return X @ thetas\n",
    "\n",
    "def mse_cost(thetas, X, y):\n",
    "    return np.mean((y - linear_model(thetas, X)) ** 2)\n",
    "\n",
    "def grad_mse_cost(thetas, X, y):\n",
    "    n = len(X)\n",
    "    return -2 / n * (X.T @ y  - X.T @ X @ thetas)"
   ]
  },
  {
   "cell_type": "markdown",
   "metadata": {},
   "source": [
    "In order to use the above functions, we need `X`, and `y`. These can both be obtained from our dataframe. Remember that `X` and `y` have to be numpy matrices in order to be able to multiply them with `@` notation.\n",
    "\n",
    "`X` consists of all columns of the dataframe except for the target column, `Cirrhosis`. "
   ]
  },
  {
   "cell_type": "code",
   "execution_count": 32,
   "metadata": {
    "collapsed": true
   },
   "outputs": [],
   "source": [
    "X = (drinking_data\n",
    "     .loc[:, ['Bias', 'Urban population', 'Late births', 'Wine', 'Liquor' ]]\n",
    "     .as_matrix())"
   ]
  },
  {
   "cell_type": "markdown",
   "metadata": {},
   "source": [
    "`y` consists of the `Cirrhosis` column of our dataset."
   ]
  },
  {
   "cell_type": "code",
   "execution_count": 33,
   "metadata": {},
   "outputs": [],
   "source": [
    "y = drinking_data['Cirrhosis'].as_matrix()"
   ]
  },
  {
   "cell_type": "markdown",
   "metadata": {},
   "source": [
    "Now we just need to call the `minimize` function defined in a previous section."
   ]
  },
  {
   "cell_type": "code",
   "execution_count": 34,
   "metadata": {},
   "outputs": [
    {
     "name": "stdout",
     "output_type": "stream",
     "text": [
      "theta: [ 0.  0.  0.  0.  0.] | cost: 4217.20\n",
      "theta: [ 0.01  0.64  0.45  0.14  0.63] | cost: 999.01\n",
      "theta: [ 0.    1.    0.39  0.59  0.21] | cost: 955.60\n",
      "theta: [-0.02  0.86  0.1   1.58  0.34] | cost: 902.97\n",
      "theta: [-0.01  0.41  0.82  2.13  0.13] | cost: 809.45\n",
      "theta: [-0.08  0.55  0.54  1.86  0.19] | cost: 634.59\n",
      "theta: [-0.33  0.43  0.63  1.86  0.11] | cost: 339.56\n",
      "theta: [-1.26  0.22  0.76  1.8  -0.01] | cost: 98.33\n",
      "theta: [-3.18  0.2   0.85  1.81 -0.02] | cost: 97.67\n",
      "theta: [-7.49  0.17  1.01  1.81 -0.04] | cost: 96.69\n",
      "theta: [-11.19   0.14   1.16   1.81  -0.05] | cost: 96.43\n",
      "theta: [-11.19   0.14   1.16   1.81  -0.05] | cost: 96.43\n",
      "theta: [-11.19   0.14   1.16   1.81  -0.05] | cost: 96.43\n",
      "theta: [-11.19   0.14   1.16   1.81  -0.05] | cost: 96.43\n"
     ]
    }
   ],
   "source": [
    "thetas = minimize(mse_cost, grad_mse_cost, X, y)"
   ]
  },
  {
   "cell_type": "markdown",
   "metadata": {},
   "source": [
    "Looks like gradient descent converged to those theta values! Thus, our linear model is:\n",
    "\n",
    "$y = -11.19 + 0.14x_1 + 1.16x_2 + 1.81x_3 - 0.05x_4$"
   ]
  },
  {
   "cell_type": "markdown",
   "metadata": {},
   "source": [
    "Let's compare this equation that we obtained to the one we would get if we had used `sklearn`'s LinearRegression model instead. The LinearRegression model automatically includes a column of all 1's in our data, so we can get rid of our column of 1's when we pass `X` into the `fit` function."
   ]
  },
  {
   "cell_type": "code",
   "execution_count": 36,
   "metadata": {},
   "outputs": [
    {
     "name": "stdout",
     "output_type": "stream",
     "text": [
      "Coefficients [ 0.14  1.16  1.81 -0.05]\n",
      "Intercept -11.1877734159\n"
     ]
    }
   ],
   "source": [
    "model = LinearRegression()\n",
    "model.fit(X[:, 1:], y)\n",
    "print(\"Coefficients\", model.coef_)\n",
    "print(\"Intercept\", model.intercept_)"
   ]
  },
  {
   "cell_type": "markdown",
   "metadata": {},
   "source": [
    "The coefficients look pretty similar! Our homemade functions create the same model as an established Python package!"
   ]
  },
  {
   "cell_type": "markdown",
   "metadata": {},
   "source": [
    "## Evaluating our Model"
   ]
  },
  {
   "cell_type": "markdown",
   "metadata": {},
   "source": [
    "Now that we have a model, let's see how well it does on our dataset by plotting a residual plot of the percent error between the predicted Cirrhosis death rate values and the actual Cirrhosis death rate values."
   ]
  },
  {
   "cell_type": "code",
   "execution_count": 78,
   "metadata": {},
   "outputs": [
    {
     "data": {
      "image/png": "[encoded data removed]",
      "text/plain": [
       "<matplotlib.figure.Figure at 0x2056c936ef0>"
      ]
     },
     "metadata": {},
     "output_type": "display_data"
    }
   ],
   "source": [
    "# HIDDEN\n",
    "resid = y - linear_model(thetas, X)\n",
    "resid_prop = resid / drinking_data['Cirrhosis']\n",
    "plt.scatter(np.arange(len(resid_prop)), resid_prop, s=15)\n",
    "plt.axhline(0)\n",
    "plt.title('Residual proportions (resid / actual Cirrhosis death rate)')\n",
    "plt.xlabel('Index of row in data')\n",
    "plt.ylabel('Error proportion');"
   ]
  },
  {
   "cell_type": "markdown",
   "metadata": {},
   "source": [
    "Looks like our linear model does pretty well when it predicts something higher than the actual value (it is usually within 25% of the correct value), but our model can do pretty abysmally when it predicts something lower than the actual value (there are a good number of error proportions around and above 30%). \n",
    "\n",
    "As we can tell from the residual plot, our model is subpar. We can hypothesize why our model is not doing well:\n",
    "\n",
    "1) We don't have enough data (only 44 rows of observations)\n",
    "\n",
    "2) A better model fits the data.\n",
    "\n",
    "Regardless, we have successfully fit a linear regression model to the data! Nice!"
   ]
  },
  {
   "cell_type": "code",
   "execution_count": null,
   "metadata": {
    "collapsed": true
   },
   "outputs": [],
   "source": []
  }
 ],
 "metadata": {
  "kernelspec": {
   "display_name": "Python 3",
   "language": "python",
   "name": "python3"
  },
  "language_info": {
   "codemirror_mode": {
    "name": "ipython",
    "version": 3
   },
   "file_extension": ".py",
   "mimetype": "text/x-python",
   "name": "python",
   "nbconvert_exporter": "python",
   "pygments_lexer": "ipython3",
   "version": "3.6.3"
  }
 },
 "nbformat": 4,
 "nbformat_minor": 2
}
