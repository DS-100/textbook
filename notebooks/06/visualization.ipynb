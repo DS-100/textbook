{
 "cells": [
  {
   "cell_type": "markdown",
   "metadata": {},
   "source": [
    "# Data Visualization\n",
    "\n",
    "> There is a magic in graphs. The profile of a curve reveals in a ﬂash a whole\n",
    "> situation — the life history of an epidemic, a panic, or an era of\n",
    "> prosperity. The curve informs the mind, awakens the imagination, convinces.\n",
    ">\n",
    "> ― Henry D. Hubbard\n",
    "\n",
    "Data visualization is an essential tool for data science at every step of\n",
    "analysis, from data cleaning to EDA to communicating conclusions and\n",
    "predictions. Because human minds are highly developed for visual perception, a\n",
    "well-chosen plot can often reveal trends and anomalies in the data much more\n",
    "efficiently than a textual description.\n",
    "\n",
    "To effectively use data visualizations, you must be proficient with both the\n",
    "programming tools to generate plots and the principles of visualization. In\n",
    "this chapter we will introduce `seaborn` and `matplotlib`, our tools of choice\n",
    "for creating plots. We will also learn how to spot misleading visualizations\n",
    "and how to improve visualizations using data transformations, smoothing, and\n",
    "dimensionality reduction.\n"
   ]
  }
 ],
 "metadata": {},
 "nbformat": 4,
 "nbformat_minor": 2
}
