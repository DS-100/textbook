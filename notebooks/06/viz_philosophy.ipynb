{
 "cells": [
  {
   "cell_type": "markdown",
   "metadata": {},
   "source": [
    "## Philosophy for Data Visualization\n",
    "\n",
    "Unfortunately, many charts in the world at large do not adhere to our\n",
    "principles for data visualization. Here is a page of charts that appear on the\n",
    "first page of a Google search for \"good data visualization\" conducted in Spring\n",
    "of 2018. How many poorly made charts can you spot?\n",
    "\n",
    "![https://github.com/DS-100/textbook/raw/master/assets/viz_google.png](https://github.com/DS-100/textbook/raw/master/assets/viz_google.png)\n",
    "\n",
    "Effective data visualization reveals the data. All of our principles for\n",
    "visualization aim to make the data more understandable for the viewer. Data\n",
    "visualization is sometimes used to mislead and misinform. When done properly,\n",
    "however, data visualization is one of our greatest tools for discovering,\n",
    "revealing, and communicating trends and anomalies in our data.\n"
   ]
  }
 ],
 "metadata": {},
 "nbformat": 4,
 "nbformat_minor": 2
}
