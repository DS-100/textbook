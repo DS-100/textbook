{
 "cells": [
  {
   "cell_type": "markdown",
   "metadata": {},
   "source": [
    "# Modeling and Estimation\n",
    "\n",
    "> Essentially, all models are wrong, but some are useful.\n",
    ">\n",
    "> — [George Box, Statistician (1919-2013)](https://www.wikiwand.com/en/George_E._P._Box)\n",
    "\n",
    "We have covered question formulation, data cleaning, and exploratory data\n",
    "analysis, the first three steps of the data science lifecycle. We have also\n",
    "seen that EDA often reveals relationships between variables in our dataset. How\n",
    "do we decide whether a relationship is real or spurious? How do we use these\n",
    "relationships to make reliable predictions about the future? To answer these\n",
    "questions we will need the mathematical tools for modeling and estimation.\n",
    "\n",
    "A model is an **idealized** representation of a system. For example, if we drop\n",
    "a ball off the Leaning Tower of Pisa, we expect the ball to drop to the ground\n",
    "because we have a model of gravity. Our model of gravity also allows us to\n",
    "predict how long it will take the ball to hit the ground using the laws of\n",
    "projectile motion.\n",
    "\n",
    "This model represents our system but is simplistic—for example, it leaves out\n",
    "the effects of air resistance, the gravitational effects of other celestial\n",
    "bodies, and the buoyancy of air. Because of these unconsidered factors, our\n",
    "model will almost always make incorrect predictions in real life! Still, the\n",
    "simple model of gravity is accurate enough in so many situations that it's\n",
    "widely used and taught today.\n",
    "\n",
    "In data science, we often use data to create models to estimate how the world\n",
    "will behave in the future. How do we choose a model? How do we decide whether\n",
    "we need a more complicated model? We will explore these questions in this\n",
    "chapter.\n"
   ]
  }
 ],
 "metadata": {},
 "nbformat": 4,
 "nbformat_minor": 2
}
