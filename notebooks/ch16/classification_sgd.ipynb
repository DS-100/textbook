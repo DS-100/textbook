{
 "cells": [
  {
   "cell_type": "code",
   "execution_count": null,
   "metadata": {},
   "outputs": [],
   "source": [
    "# HIDDEN\n",
    "import numpy as np\n",
    "import matplotlib.pyplot as plt\n",
    "import pandas as pd\n",
    "import seaborn as sns\n",
    "%matplotlib inline\n",
    "import ipywidgets as widgets\n",
    "from ipywidgets import interact, interactive, fixed, interact_manual\n",
    "import nbinteract as nbi\n",
    "\n",
    "sns.set()\n",
    "sns.set_context('talk')\n",
    "np.set_printoptions(threshold=20, precision=2, suppress=True)\n",
    "pd.options.display.max_rows = 7\n",
    "pd.options.display.max_columns = 8\n",
    "pd.set_option('precision', 2)"
   ]
  },
  {
   "cell_type": "markdown",
   "metadata": {},
   "source": [
    "## Limitations of Gradient Descent\n",
    "\n",
    "We have previously introduced gradient descent as a general-purpose algorithm used to find model parameters $ \\hat\\theta $ that minimize a specified cost function $ L(\\hat\\theta, X, y) $. To perform an iteration of gradient descent, we compute:\n",
    "\n",
    "$$\n",
    "\\hat\\theta_{t+1} = \\hat\\theta_t - \\alpha \\cdot \\nabla_\\hat\\theta L(\\hat\\theta, X, y)\n",
    "$$\n",
    "\n",
    "\n",
    "Since $ L(\\hat\\theta, X, y) $ computes an average cost across an entire dataset, this gradient update equation computes a gradient using the average gradient across the entire dataset as a single batch. For this reason, this gradient update rule is often referred to as **batch gradient descent**.\n",
    "\n",
    "For example, in logistic regression we use the cross entropy cost as our cost function. We replace  $\\nabla_\\hat\\theta L(\\hat\\theta, X, y)$ with the gradient of the cross entropy cost, $-\\frac{1}{n}\\sum_{i=1}^n(y_i - \\sigma_i)X_i$, to find the gradient descent algorithm specific to logistic regression. Letting $ \\sigma_i = f_\\hat\\theta(X_i) = \\sigma(X_i \\cdot \\hat \\theta) $, this becomes:\n",
    "\n",
    "$$\n",
    "\\hat\\theta_{t+1} = \\hat\\theta_t - \\alpha \\cdot \\left(- \\frac{1}{n} \\sum_{i=1}^{n} \\left(y_i - \\sigma_i\\right) X_i \\right)\n",
    "$$\n",
    "\n",
    "To find the gradient of the cross entropy cost, we first compute the gradient of the cross entropy loss, $-(y_i - \\sigma_i)X_i$, for all $n$ observations. Then we take the average over all observations to find the gradient of the cross entropy cost. This is then computed at each iteration $t$ of the gradient descent algorithm. For large $n$, this can become a computationally expensive problem to solve."
   ]
  },
  {
   "cell_type": "markdown",
   "metadata": {},
   "source": [
    "## Stochastic Gradient Descent\n",
    "\n",
    "To circumvent the difficulty of computing a gradient across the entire training set, **stochastic gradient descent** approximates the overall gradient using a single randomly chosen data point. Since the observation is chosen randomly, we expect that using the gradient at each individual observation will eventually converge to the same parameters as batch gradient descent. The general update formula for stochastic gradient descent is below, where $l(\\hat\\theta, X, y)$ is the loss function for a single data point:\n",
    "\n",
    "$$\n",
    "\\hat\\theta_{t+1} = \\hat\\theta_t - \\alpha \\nabla_\\hat\\theta l(\\hat\\theta, X, y)\n",
    "$$\n",
    "\n",
    "Returning back to our example in logistic regression, we approximate the gradient of the cross entropy cost using the gradient of the cross entropy loss of one data point. This is shown below, with $ \\sigma_i = f_\\hat{\\theta}(X_i) = \\sigma(X_i \\cdot \\hat \\theta) $.\n",
    "\n",
    "$$\n",
    "\\begin{align}\n",
    "\\nabla_\\hat\\theta L(\\hat\\theta, X, y) &\\approx \\nabla_\\hat\\theta l(\\hat\\theta, X, y)\\\\\n",
    "&= -(y_i - \\sigma_i)X_i\n",
    "\\end{align}\n",
    "$$\n",
    "\n",
    "When we plug this approximation into the general formula for stochastic gradient descent, we find the stochastic gradient descent update formula for logistic regression.\n",
    "\n",
    "$$\n",
    "\\begin{align}\n",
    "\\hat\\theta_{t+1} &= \\hat\\theta_t - \\alpha \\nabla_\\hat\\theta l(\\hat\\theta, X, y) \\\\\n",
    "&= \\hat\\theta_t + \\alpha \\cdot (y_i - \\sigma_i)X_i\n",
    "\\end{align}\n",
    "$$\n",
    "\n",
    "In practice, we choose random data points by shuffling the training data and iteratively selecting from the shuffled data. An iteration through the shuffled data is called an **epoch**; at the end of every epoch, we re-shuffle the data to ensure that the model sees examples from various classes in an arbitrary order.\n",
    "\n",
    "### Visualizing Stochastic Gradient Descent\n",
    "\n",
    "Below are visual examples of loss minimization in batch gradient descent and stochastic gradient descent."
   ]
  },
  {
   "cell_type": "markdown",
   "metadata": {},
   "source": [
    "![](gd.png)\n",
    "![](sgd.png)"
   ]
  },
  {
   "cell_type": "markdown",
   "metadata": {},
   "source": [
    "At each iteration of batch gradient descent, we move in the direction of the true gradient of the cost function, which is depicted by the ellipses. On the other hand, each iteration of stochastic gradient descent may not lead us in the direction of the true gradient; however, the $\\hat\\theta$ parameters eventually converge to the minima of the cost function. Surprisingly, stochastic gradient descent often converges more quickly than batch gradient descent in practice since stochastic gradient descent spends significantly less time updating model parameters.\n",
    "\n",
    "## Mini-batch Gradient Descent\n",
    "\n",
    "**Mini-batch gradient descent** strikes a balance between batch gradient descent and stochastic gradient descent by increasing the number of observations that we select at each iteration. In mini-batch gradient descent, we take a simple random sample of observations called a mini-batch. We use the average of the gradients of their loss functions to construct an estimate of the true gradient of the cross entropy cost. Since our sample is randomly selected, the expectation of this estimate is equal to the true gradient. This is illustrated in the approximation for the cost function of logistic regression, where $\\mathcal{B}$ is the mini-batch of data points that we randomly sample from the $n$ observations.\n",
    "\n",
    "$$\n",
    "\\nabla_\\hat\\theta L(\\hat\\theta, X, y) \\approx -\\frac{1}{|\\mathcal{B}|} \\sum_{i\\in\\mathcal{B}}(y_i - \\sigma_i)X_i\n",
    "$$\n",
    "\n",
    "As with stochastic gradient descent, we perform mini-batch gradient descent by shuffling our training data and selecting mini-batches by iterating through the shuffled data. After each epoch, we re-shuffle our data and select new mini-batches.\n",
    "\n",
    "While we have made the distinction between stochastic and mini-batch gradient descent, stochastic gradient descent is sometimes used as an umbrella term that encompasses the selection of a mini-batch of any size. \n",
    "\n",
    "\n",
    "### Selecting the Mini-Batch Size\n",
    "\n",
    "Mini-batch gradient descent is most optimal when running on a Graphical Processing Unit (GPU) or on distributed systems. Since computations on these hardware machines can be executed in parallel, using a mini-batch can increase the accuracy of the gradient without increasing computation time. Depending on the memory of the GPU, the mini-batch size is often set between 10 and 100 observations. \n",
    "\n",
    "## Summary\n",
    "\n",
    "We use batch gradient descent to iteratively improve model parameters until the model achieves low cost. Since batch gradient descent is computationally intractable with large datasets, we often use stochastic gradient descent to fit models instead. With a GPU, mini-batch gradient descent can converge more quickly than stochastic gradient descent.\n",
    "\n",
    "Although stochastic gradient descent typically takes more individual updates to converge than batch gradient descent, stochastic gradient descent often converges more quickly because it computes updates faster."
   ]
  }
 ],
 "metadata": {
  "kernelspec": {
   "display_name": "Python 3",
   "language": "python",
   "name": "python3"
  },
  "language_info": {
   "codemirror_mode": {
    "name": "ipython",
    "version": 3
   },
   "file_extension": ".py",
   "mimetype": "text/x-python",
   "name": "python",
   "nbconvert_exporter": "python",
   "pygments_lexer": "ipython3",
   "version": "3.6.5"
  }
 },
 "nbformat": 4,
 "nbformat_minor": 2
}
