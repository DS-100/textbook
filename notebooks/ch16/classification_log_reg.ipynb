{
 "cells": [
  {
   "cell_type": "markdown",
   "metadata": {
    "toc": true
   },
   "source": [
    "<h1>Table of Contents<span class=\"tocSkip\"></span></h1>\n",
    "<div class=\"toc\"><ul class=\"toc-item\"><li><span><a href=\"#Using-Logistic-Regression\" data-toc-modified-id=\"Using-Logistic-Regression-1\">Using Logistic Regression</a></span></li><li><span><a href=\"#Logistic-Regression-on-LeBron-Shots\" data-toc-modified-id=\"Logistic-Regression-on-LeBron-Shots-2\">Logistic Regression on LeBron Shots</a></span></li><li><span><a href=\"#Evaluating-the-Classifier\" data-toc-modified-id=\"Evaluating-the-Classifier-3\">Evaluating the Classifier</a></span></li><li><span><a href=\"#Multivariable-Logistic-Regression\" data-toc-modified-id=\"Multivariable-Logistic-Regression-4\">Multivariable Logistic Regression</a></span></li><li><span><a href=\"#Summary\" data-toc-modified-id=\"Summary-5\">Summary</a></span></li></ul></div>"
   ]
  },
  {
   "cell_type": "code",
   "execution_count": 4,
   "metadata": {},
   "outputs": [],
   "source": [
    "# HIDDEN\n",
    "import numpy as np\n",
    "import matplotlib.pyplot as plt\n",
    "import pandas as pd\n",
    "import seaborn as sns\n",
    "%matplotlib inline\n",
    "import ipywidgets as widgets\n",
    "from ipywidgets import interact, interactive, fixed, interact_manual\n",
    "import nbinteract as nbi\n",
    "\n",
    "sns.set()\n",
    "sns.set_context('talk')\n",
    "np.set_printoptions(threshold=20, precision=2, suppress=True)\n",
    "pd.options.display.max_rows = 7\n",
    "pd.options.display.max_columns = 8\n",
    "pd.set_option('precision', 2)\n",
    "# This option stops scientific notation for pandas\n",
    "# pd.set_option('display.float_format', '{:.2f}'.format)"
   ]
  },
  {
   "cell_type": "code",
   "execution_count": 5,
   "metadata": {},
   "outputs": [],
   "source": [
    "# HIDDEN\n",
    "def df_interact(df, nrows=7, ncols=7):\n",
    "    '''\n",
    "    Outputs sliders that show rows and columns of df\n",
    "    '''\n",
    "    def peek(row=0, col=0):\n",
    "        return df.iloc[row:row + nrows, col:col + ncols]\n",
    "    if len(df.columns) <= ncols:\n",
    "        interact(peek, row=(0, len(df) - nrows, nrows), col=fixed(0))\n",
    "    else:\n",
    "        interact(peek,\n",
    "                 row=(0, len(df) - nrows, nrows),\n",
    "                 col=(0, len(df.columns) - ncols))\n",
    "    print('({} rows, {} columns) total'.format(df.shape[0], df.shape[1]))"
   ]
  },
  {
   "cell_type": "code",
   "execution_count": 7,
   "metadata": {},
   "outputs": [],
   "source": [
    "# HIDDEN\n",
    "from scipy.optimize import minimize as sci_min\n",
    "def minimize(cost_fn, grad_cost_fn, X, y, progress=True):\n",
    "    '''\n",
    "    Uses scipy.minimize to minimize cost_fn using a form of gradient descent.\n",
    "    '''\n",
    "    theta = np.zeros(X.shape[1])\n",
    "    iters = 0\n",
    "    \n",
    "    def objective(theta):\n",
    "        return cost_fn(theta, X, y)\n",
    "    def gradient(theta):\n",
    "        return grad_cost_fn(theta, X, y)\n",
    "    def print_theta(theta):\n",
    "        nonlocal iters\n",
    "        if progress and iters % progress == 0:\n",
    "            print(f'theta: {theta} | cost: {cost_fn(theta, X, y):.2f}')\n",
    "        iters += 1\n",
    "        \n",
    "    print_theta(theta)\n",
    "    return sci_min(\n",
    "        objective, theta, method='BFGS', jac=gradient, callback=print_theta,\n",
    "        tol=1e-7\n",
    "    ).x"
   ]
  },
  {
   "cell_type": "markdown",
   "metadata": {},
   "source": [
    "## Using Logistic Regression\n",
    "\n",
    "We have developed all the components of logistic regression. First, the logistic model used to predict probabilities:\n",
    "\n",
    "$$\n",
    "\\begin{aligned}\n",
    "f_\\hat{\\theta} (x) = \\sigma(\\hat{\\theta} \\cdot x)\n",
    "\\end{aligned}\n",
    "$$\n",
    "\n",
    "Then, the cross entropy cost function:\n",
    "\n",
    "$$\n",
    "\\begin{aligned}\n",
    "L(\\hat{\\theta}, X, y) = &= \\frac{1}{n} \\sum_i \\left(- y_i \\ln \\sigma_i - (1 - y_i) \\ln (1 - \\sigma_i ) \\right) \\\\\n",
    "\\end{aligned}\n",
    "$$\n",
    "\n",
    "Finally, the gradient of the cross entropy cost for gradient descent:\n",
    "\n",
    "$$\n",
    "\\begin{aligned}\n",
    "\\nabla_{\\hat{\\theta}} L(\\hat{\\theta}, X, y)\n",
    "&= - \\frac{1}{n} \\sum_i \\left(\n",
    "    y_i - \\sigma_i\n",
    "\\right) X_i \\\\\n",
    "\\end{aligned}\n",
    "$$"
   ]
  },
  {
   "cell_type": "markdown",
   "metadata": {},
   "source": [
    "In the expressions above, we let $ X $ represent the $ n \\times p $ input data matrix, $ y $ the vector of observed data values, and $ f_\\hat{\\theta}(x) $ the logistic model. As a shorthand, we define $ \\sigma_i = f_\\hat{\\theta}(X_i) = \\sigma(X_i \\cdot \\hat \\theta) $."
   ]
  },
  {
   "cell_type": "markdown",
   "metadata": {},
   "source": [
    "## Logistic Regression on LeBron Shots\n",
    "\n",
    "Let us now return to the problem we faced at the start of this chapter: predicting which shots LeBron James will make. We start by loading the dataset of shots taken by LeBron in the 2017 NBA Playoffs."
   ]
  },
  {
   "cell_type": "code",
   "execution_count": 3,
   "metadata": {},
   "outputs": [
    {
     "data": {
      "text/html": [
       "<div>\n",
       "<style scoped>\n",
       "    .dataframe tbody tr th:only-of-type {\n",
       "        vertical-align: middle;\n",
       "    }\n",
       "\n",
       "    .dataframe tbody tr th {\n",
       "        vertical-align: top;\n",
       "    }\n",
       "\n",
       "    .dataframe thead th {\n",
       "        text-align: right;\n",
       "    }\n",
       "</style>\n",
       "<table border=\"1\" class=\"dataframe\">\n",
       "  <thead>\n",
       "    <tr style=\"text-align: right;\">\n",
       "      <th></th>\n",
       "      <th>game_date</th>\n",
       "      <th>minute</th>\n",
       "      <th>opponent</th>\n",
       "      <th>action_type</th>\n",
       "      <th>shot_type</th>\n",
       "      <th>shot_distance</th>\n",
       "      <th>shot_made</th>\n",
       "    </tr>\n",
       "  </thead>\n",
       "  <tbody>\n",
       "    <tr>\n",
       "      <th>0</th>\n",
       "      <td>20170415</td>\n",
       "      <td>10</td>\n",
       "      <td>IND</td>\n",
       "      <td>Driving Layup Shot</td>\n",
       "      <td>2PT Field Goal</td>\n",
       "      <td>0</td>\n",
       "      <td>0</td>\n",
       "    </tr>\n",
       "    <tr>\n",
       "      <th>1</th>\n",
       "      <td>20170415</td>\n",
       "      <td>11</td>\n",
       "      <td>IND</td>\n",
       "      <td>Driving Layup Shot</td>\n",
       "      <td>2PT Field Goal</td>\n",
       "      <td>0</td>\n",
       "      <td>1</td>\n",
       "    </tr>\n",
       "    <tr>\n",
       "      <th>2</th>\n",
       "      <td>20170415</td>\n",
       "      <td>14</td>\n",
       "      <td>IND</td>\n",
       "      <td>Layup Shot</td>\n",
       "      <td>2PT Field Goal</td>\n",
       "      <td>0</td>\n",
       "      <td>1</td>\n",
       "    </tr>\n",
       "    <tr>\n",
       "      <th>...</th>\n",
       "      <td>...</td>\n",
       "      <td>...</td>\n",
       "      <td>...</td>\n",
       "      <td>...</td>\n",
       "      <td>...</td>\n",
       "      <td>...</td>\n",
       "      <td>...</td>\n",
       "    </tr>\n",
       "    <tr>\n",
       "      <th>381</th>\n",
       "      <td>20170612</td>\n",
       "      <td>46</td>\n",
       "      <td>GSW</td>\n",
       "      <td>Driving Layup Shot</td>\n",
       "      <td>2PT Field Goal</td>\n",
       "      <td>1</td>\n",
       "      <td>1</td>\n",
       "    </tr>\n",
       "    <tr>\n",
       "      <th>382</th>\n",
       "      <td>20170612</td>\n",
       "      <td>47</td>\n",
       "      <td>GSW</td>\n",
       "      <td>Turnaround Fadeaway shot</td>\n",
       "      <td>2PT Field Goal</td>\n",
       "      <td>14</td>\n",
       "      <td>0</td>\n",
       "    </tr>\n",
       "    <tr>\n",
       "      <th>383</th>\n",
       "      <td>20170612</td>\n",
       "      <td>48</td>\n",
       "      <td>GSW</td>\n",
       "      <td>Driving Layup Shot</td>\n",
       "      <td>2PT Field Goal</td>\n",
       "      <td>2</td>\n",
       "      <td>1</td>\n",
       "    </tr>\n",
       "  </tbody>\n",
       "</table>\n",
       "<p>384 rows × 7 columns</p>\n",
       "</div>"
      ],
      "text/plain": [
       "     game_date  minute opponent               action_type       shot_type  \\\n",
       "0     20170415      10      IND        Driving Layup Shot  2PT Field Goal   \n",
       "1     20170415      11      IND        Driving Layup Shot  2PT Field Goal   \n",
       "2     20170415      14      IND                Layup Shot  2PT Field Goal   \n",
       "..         ...     ...      ...                       ...             ...   \n",
       "381   20170612      46      GSW        Driving Layup Shot  2PT Field Goal   \n",
       "382   20170612      47      GSW  Turnaround Fadeaway shot  2PT Field Goal   \n",
       "383   20170612      48      GSW        Driving Layup Shot  2PT Field Goal   \n",
       "\n",
       "     shot_distance  shot_made  \n",
       "0                0          0  \n",
       "1                0          1  \n",
       "2                0          1  \n",
       "..             ...        ...  \n",
       "381              1          1  \n",
       "382             14          0  \n",
       "383              2          1  \n",
       "\n",
       "[384 rows x 7 columns]"
      ]
     },
     "execution_count": 3,
     "metadata": {},
     "output_type": "execute_result"
    }
   ],
   "source": [
    "lebron = pd.read_csv('lebron.csv')\n",
    "lebron"
   ]
  },
  {
   "cell_type": "markdown",
   "metadata": {},
   "source": [
    "We've included a widget below to allow you to pan through the entire DataFrame."
   ]
  },
  {
   "cell_type": "code",
   "execution_count": 8,
   "metadata": {},
   "outputs": [
    {
     "data": {
      "application/vnd.jupyter.widget-view+json": {
       "model_id": "899d0cb4ae3b42ec9e534245c3777969",
       "version_major": 2,
       "version_minor": 0
      },
      "text/html": [
       "<p>Failed to display Jupyter Widget of type <code>interactive</code>.</p>\n",
       "<p>\n",
       "  If you're reading this message in the Jupyter Notebook or JupyterLab Notebook, it may mean\n",
       "  that the widgets JavaScript is still loading. If this message persists, it\n",
       "  likely means that the widgets JavaScript library is either not installed or\n",
       "  not enabled. See the <a href=\"https://ipywidgets.readthedocs.io/en/stable/user_install.html\">Jupyter\n",
       "  Widgets Documentation</a> for setup instructions.\n",
       "</p>\n",
       "<p>\n",
       "  If you're reading this message in another frontend (for example, a static\n",
       "  rendering on GitHub or <a href=\"https://nbviewer.jupyter.org/\">NBViewer</a>),\n",
       "  it may mean that your frontend doesn't currently support widgets.\n",
       "</p>\n"
      ],
      "text/plain": [
       "interactive(children=(IntSlider(value=0, description='row', max=377, step=7), Output()), _dom_classes=('widget-interact',))"
      ]
     },
     "metadata": {},
     "output_type": "display_data"
    },
    {
     "name": "stdout",
     "output_type": "stream",
     "text": [
      "(384 rows, 7 columns) total\n"
     ]
    }
   ],
   "source": [
    "df_interact(lebron)"
   ]
  },
  {
   "cell_type": "markdown",
   "metadata": {},
   "source": [
    "We start by using using only the shot distance to predict the shot make or miss. `scikit-learn` conveniently provides a logistic regression classifier as the [`sklearn.linear_model.LogisticRegression`](http://scikit-learn.org/stable/modules/generated/sklearn.linear_model.LogisticRegression.html) class. To use the class, we first create our data matrix `X` and vector of observed outcomes `y`."
   ]
  },
  {
   "cell_type": "code",
   "execution_count": 15,
   "metadata": {},
   "outputs": [
    {
     "name": "stdout",
     "output_type": "stream",
     "text": [
      "X:\n",
      "[[ 0]\n",
      " [ 0]\n",
      " [ 0]\n",
      " ...\n",
      " [ 1]\n",
      " [14]\n",
      " [ 2]]\n",
      "\n",
      "y:\n",
      "[0 1 1 ... 1 0 1]\n"
     ]
    }
   ],
   "source": [
    "X = lebron[['shot_distance']].as_matrix()\n",
    "y = lebron['shot_made'].as_matrix()\n",
    "print('X:')\n",
    "print(X)\n",
    "print()\n",
    "print('y:')\n",
    "print(y)"
   ]
  },
  {
   "cell_type": "markdown",
   "metadata": {},
   "source": [
    "As is customary, we split our data into a training set and a test set."
   ]
  },
  {
   "cell_type": "code",
   "execution_count": 37,
   "metadata": {},
   "outputs": [
    {
     "name": "stdout",
     "output_type": "stream",
     "text": [
      "Training set size: 344\n",
      "Test set size: 40\n"
     ]
    }
   ],
   "source": [
    "from sklearn.model_selection import train_test_split\n",
    "\n",
    "X_train, X_test, y_train, y_test = train_test_split(\n",
    "    X, y, test_size=40, random_state=42\n",
    ")\n",
    "print(f'Training set size: {len(y_train)}')\n",
    "print(f'Test set size: {len(y_test)}')"
   ]
  },
  {
   "cell_type": "markdown",
   "metadata": {},
   "source": [
    "`scikit-learn` makes it simple to initialize the classifier and fit it on `X_train` and `y_train`:"
   ]
  },
  {
   "cell_type": "code",
   "execution_count": 38,
   "metadata": {},
   "outputs": [
    {
     "data": {
      "text/plain": [
       "LogisticRegression(C=1.0, class_weight=None, dual=False, fit_intercept=True,\n",
       "          intercept_scaling=1, max_iter=100, multi_class='ovr', n_jobs=1,\n",
       "          penalty='l2', random_state=None, solver='liblinear', tol=0.0001,\n",
       "          verbose=0, warm_start=False)"
      ]
     },
     "execution_count": 38,
     "metadata": {},
     "output_type": "execute_result"
    }
   ],
   "source": [
    "from sklearn.linear_model import LogisticRegression\n",
    "simple_clf = LogisticRegression()\n",
    "simple_clf.fit(X_train, y_train)"
   ]
  },
  {
   "cell_type": "markdown",
   "metadata": {},
   "source": [
    "To visualize the classifier's performance, we plot the original points and the classifier's predicted probabilities."
   ]
  },
  {
   "cell_type": "code",
   "execution_count": 39,
   "metadata": {},
   "outputs": [
    {
     "data": {
      "image/png": "[encoded data removed]",
      "text/plain": [
       "<matplotlib.figure.Figure at 0x1a1e6cbda0>"
      ]
     },
     "metadata": {},
     "output_type": "display_data"
    }
   ],
   "source": [
    "# HIDDEN \n",
    "np.random.seed(42)\n",
    "sns.lmplot(x='shot_distance', y='shot_made',\n",
    "           data=lebron,\n",
    "           fit_reg=False, ci=False,\n",
    "           y_jitter=0.1,\n",
    "           scatter_kws={'alpha': 0.3})\n",
    "\n",
    "xs = np.linspace(-2, 32, 100)\n",
    "ys = simple_clf.predict_proba(xs.reshape(-1, 1))[:, 1]\n",
    "plt.plot(xs, ys)\n",
    "\n",
    "plt.title('LeBron Training Data and Predictions')\n",
    "plt.xlabel('Distance from Basket (ft)')\n",
    "plt.ylabel('Shot Made');"
   ]
  },
  {
   "cell_type": "markdown",
   "metadata": {},
   "source": [
    "## Evaluating the Classifier\n",
    "\n",
    "One method to evaluate the effectiveness of our classifier is to check its prediction accuracy: what proportion of points does it predict correctly?"
   ]
  },
  {
   "cell_type": "code",
   "execution_count": 40,
   "metadata": {},
   "outputs": [
    {
     "data": {
      "text/plain": [
       "0.6"
      ]
     },
     "execution_count": 40,
     "metadata": {},
     "output_type": "execute_result"
    }
   ],
   "source": [
    "simple_clf.score(X_test, y_test)"
   ]
  },
  {
   "cell_type": "markdown",
   "metadata": {},
   "source": [
    "Our classifier achieves a rather low accuracy of 0.60 on the test set. If our classifier simply guessed each point at random, we would expect an accuracy of 0.50. In fact, if our classifier simply predicted that every shot LeBron takes will go in, we would also get an accuracy of 0.60:"
   ]
  },
  {
   "cell_type": "code",
   "execution_count": 46,
   "metadata": {},
   "outputs": [
    {
     "data": {
      "text/plain": [
       "0.6"
      ]
     },
     "execution_count": 46,
     "metadata": {},
     "output_type": "execute_result"
    }
   ],
   "source": [
    "# Calculates the accuracy if we always predict 1\n",
    "np.count_nonzero(y_test == 1) / len(y_test)"
   ]
  },
  {
   "cell_type": "markdown",
   "metadata": {},
   "source": [
    "For this classifier we only used one out of several possible features. As in multivariable linear regression, we will likely achieve a more accurate classifier by incorporating more features."
   ]
  },
  {
   "cell_type": "markdown",
   "metadata": {},
   "source": [
    "## Multivariable Logistic Regression\n",
    "\n",
    "Incorporating more numerical features in our classifier is as simple as extracting additional columns from the `lebron` DataFrame into the `X` matrix. Incorporating categorical features, on the other hand, requires us to apply a one-hot encoding. In the code below, we augment our classifier with the `minute`, `opponent`, `action_type`, and `shot_type` features, using the `DictVectorizer` class from `scikit-learn` to apply a one-hot encoding to the categorical variables."
   ]
  },
  {
   "cell_type": "code",
   "execution_count": 50,
   "metadata": {},
   "outputs": [
    {
     "data": {
      "text/plain": [
       "(384, 42)"
      ]
     },
     "execution_count": 50,
     "metadata": {},
     "output_type": "execute_result"
    }
   ],
   "source": [
    "from sklearn.feature_extraction import DictVectorizer\n",
    "\n",
    "columns = ['shot_distance', 'minute', 'action_type', 'shot_type', 'opponent']\n",
    "rows = lebron[columns].to_dict(orient='row')\n",
    "\n",
    "onehot = DictVectorizer(sparse=False).fit(rows)\n",
    "X = onehot.transform(rows)\n",
    "y = lebron['shot_made'].as_matrix()\n",
    "\n",
    "X.shape"
   ]
  },
  {
   "cell_type": "markdown",
   "metadata": {},
   "source": [
    "We will again split the data into a training set and test set:"
   ]
  },
  {
   "cell_type": "code",
   "execution_count": 67,
   "metadata": {},
   "outputs": [
    {
     "name": "stdout",
     "output_type": "stream",
     "text": [
      "Training set size: 344\n",
      "Test set size: 40\n"
     ]
    }
   ],
   "source": [
    "X_train, X_test, y_train, y_test = train_test_split(\n",
    "    X, y, test_size=40, random_state=42\n",
    ")\n",
    "print(f'Training set size: {len(y_train)}')\n",
    "print(f'Test set size: {len(y_test)}')"
   ]
  },
  {
   "cell_type": "markdown",
   "metadata": {},
   "source": [
    "Finally, we fit our model once more and check its accuracy:"
   ]
  },
  {
   "cell_type": "code",
   "execution_count": 68,
   "metadata": {},
   "outputs": [
    {
     "name": "stdout",
     "output_type": "stream",
     "text": [
      "Test set accuracy: 0.725\n"
     ]
    }
   ],
   "source": [
    "clf = LogisticRegression()\n",
    "clf.fit(X_train, y_train)\n",
    "print(f'Test set accuracy: {clf.score(X_test, y_test)}')"
   ]
  },
  {
   "cell_type": "markdown",
   "metadata": {},
   "source": [
    "This classifier is around 12% more accurate than the classifier that only took the shot distance into account."
   ]
  },
  {
   "cell_type": "markdown",
   "metadata": {},
   "source": [
    "## Summary\n",
    "\n",
    "We have developed the mathematical and computational machinery needed to use logistic regression for classification. Logistic regression is widely used for its simplicity and effectiveness in prediction."
   ]
  }
 ],
 "metadata": {
  "kernelspec": {
   "display_name": "Python [default]",
   "language": "python",
   "name": "python3"
  },
  "language_info": {
   "codemirror_mode": {
    "name": "ipython",
    "version": 3
   },
   "file_extension": ".py",
   "mimetype": "text/x-python",
   "name": "python",
   "nbconvert_exporter": "python",
   "pygments_lexer": "ipython3",
   "version": "3.6.3"
  },
  "toc": {
   "nav_menu": {},
   "number_sections": false,
   "sideBar": false,
   "skip_h1_title": false,
   "title_cell": "Table of Contents",
   "title_sidebar": "Contents",
   "toc_cell": true,
   "toc_position": {},
   "toc_section_display": true,
   "toc_window_display": false
  }
 },
 "nbformat": 4,
 "nbformat_minor": 2
}
