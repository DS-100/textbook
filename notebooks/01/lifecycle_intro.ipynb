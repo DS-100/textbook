{
 "cells": [
  {
   "cell_type": "markdown",
   "metadata": {},
   "source": [
    "# The Data Science Lifecycle\n",
    "\n",
    "In data science, we use large and diverse data sets to make conclusions about\n",
    "the world. In this book we discuss principles and techniques of\n",
    "data science through the dual lens of computational and inferential thinking.\n",
    "Practically speaking, this involves the following process:\n",
    "\n",
    "1. Formulating a question or problem\n",
    "2. Acquiring and cleaning data\n",
    "3. Conducting exploratory data analysis\n",
    "4. Using prediction and inference to draw conclusions\n",
    "\n",
    "It is quite common for more questions and problems to emerge after the last\n",
    "step of this process, and we can thus repeatedly engage in this procedure to\n",
    "discover new characteristics of our world. This positive feedback loop is so\n",
    "central to our work that we call it the **data science lifecycle**.\n",
    "\n",
    "If the data science lifecycle were as easy to conduct as it is to state, there\n",
    "would be no need for textbooks about the the subject. Fortunately, each of the\n",
    "steps in the lifecycle contain numerous challenges that reveal powerful and\n",
    "often surprising insights that form the foundation of making thoughtful\n",
    "decisions using data.\n",
    "\n",
    "As in Data 8, we will begin with an example.\n"
   ]
  }
 ],
 "metadata": {
  "kernelspec": {
   "display_name": "Python [default]",
   "language": "python",
   "name": "python3"
  },
  "language_info": {
   "codemirror_mode": {
    "name": "ipython",
    "version": 3
   },
   "file_extension": ".py",
   "mimetype": "text/x-python",
   "name": "python",
   "nbconvert_exporter": "python",
   "pygments_lexer": "ipython3",
   "version": "3.6.3"
  }
 },
 "nbformat": 4,
 "nbformat_minor": 2
}
