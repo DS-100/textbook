{
 "cells": [
  {
   "cell_type": "markdown",
   "metadata": {},
   "source": [
    "**FROM DEB:**\n",
    "- Testing many hypotheses on the same data set. (Maybe this could be a genetics example).\n",
    "\n",
    "- Collecting many data sets and carrying out one test on each (A/B testing with ads)\n",
    "\n",
    "- Entirely different people/institutions investigating a similar phenomenon - this is the example of Paul the Octopus.\n",
    "\n",
    "- Making many decisions in the data collection, EDA process, and analysis process. This is \"tip of the iceberg\" phenomen.\n",
    "\n",
    "**START SECTION**\n",
    "\n",
    "⬇️⬇️⬇️⬇️"
   ]
  },
  {
   "cell_type": "code",
   "execution_count": 302,
   "metadata": {
    "collapsed": true
   },
   "outputs": [],
   "source": [
    "### HIDDEN\n",
    "# does this make it hidden?\n",
    "import numpy as np\n",
    "import seaborn as sns\n",
    "import matplotlib.pyplot as plt\n",
    "import scipy.stats as stat\n",
    "import pandas as pd\n",
    "np.random.seed(0)"
   ]
  },
  {
   "cell_type": "markdown",
   "metadata": {},
   "source": [
    "# P-hacking\n",
    "As we discussed, a p-value or probability value is the chance, based on the model in the null hypothesis, that the test statistic is equal to the value that was observed in the data or is even further in the direction of the alternative. If a p-value is small, that means the tail beyond the observed statistic is small and so the observed statistic is far away from what the null predicts. This implies that the data support the alternative hypothesis better than they support the null. By convention, when we see that the p-value is below 0.05, the result is called statistically significant, and we reject the null hypothesis.\n",
    "\n",
    "There are dangers that present itself when the p-value is misused. *P-hacking* is the act of misusing data analysis to show that patterns in data are statistically significant, when in reality they are not. This is often done by performing multiple tests on data and only focusing on the tests that return results that are significant. \n",
    "\n",
    "In this section, we will go over a few examples of the dangers of p-values and p-hacking."
   ]
  },
  {
   "cell_type": "markdown",
   "metadata": {},
   "source": [
    "## Multiple Hypothesis Testing\n"
   ]
  },
  {
   "cell_type": "markdown",
   "metadata": {},
   "source": [
    "One of the biggest dangers of blindly relying on the p-value to determine \"statistical significance\" comes when we are just trying to find the \"sexiest\" results that give us \"good\" p-values. This is commonly done when doing \"food frequency questionairres,\" or FFQs, to study eating habits' correlation with other characteristics (diseases, weight, etc). \n",
    "FiveThirtyEight, an online blog that focuses on opinion poll analysis among other things, made their own FFQ, and we can use their data to run our own analysis to find some silly results that can be considered \"statistically significant.\""
   ]
  },
  {
   "cell_type": "code",
   "execution_count": 303,
   "metadata": {
    "collapsed": true
   },
   "outputs": [],
   "source": [
    "data = pd.read_csv('raw_anonymized_data.csv')\n",
    "\n",
    "# These are the columns that give us characteristics of FFQ-takers\n",
    "characteristics = data.columns[1:27]\n",
    "\n",
    "# These are the columns that give us the quantities/frequencies of different food the FFQ-takers ate\n",
    "ffq = data.columns[27:]"
   ]
  },
  {
   "cell_type": "code",
   "execution_count": 304,
   "metadata": {},
   "outputs": [
    {
     "data": {
      "text/html": [
       "<div>\n",
       "<style>\n",
       "    .dataframe thead tr:only-child th {\n",
       "        text-align: right;\n",
       "    }\n",
       "\n",
       "    .dataframe thead th {\n",
       "        text-align: left;\n",
       "    }\n",
       "\n",
       "    .dataframe tbody tr th {\n",
       "        vertical-align: top;\n",
       "    }\n",
       "</style>\n",
       "<table border=\"1\" class=\"dataframe\">\n",
       "  <thead>\n",
       "    <tr style=\"text-align: right;\">\n",
       "      <th></th>\n",
       "      <th>cancer</th>\n",
       "      <th>diabetes</th>\n",
       "      <th>heart_disease</th>\n",
       "      <th>belly</th>\n",
       "      <th>ever_smoked</th>\n",
       "      <th>currently_smoke</th>\n",
       "      <th>smoke_often</th>\n",
       "      <th>smoke_rarely</th>\n",
       "      <th>never_smoked</th>\n",
       "      <th>quit_smoking</th>\n",
       "      <th>...</th>\n",
       "      <th>neutralCable</th>\n",
       "      <th>noCrash</th>\n",
       "      <th>yesCrash</th>\n",
       "      <th>uhCrash</th>\n",
       "      <th>rash</th>\n",
       "      <th>cat</th>\n",
       "      <th>dog</th>\n",
       "      <th>Dems</th>\n",
       "      <th>atheist</th>\n",
       "      <th>Jewish</th>\n",
       "    </tr>\n",
       "  </thead>\n",
       "  <tbody>\n",
       "    <tr>\n",
       "      <th>0</th>\n",
       "      <td>Yes</td>\n",
       "      <td>No</td>\n",
       "      <td>No</td>\n",
       "      <td>Innie</td>\n",
       "      <td>Yes</td>\n",
       "      <td>Yes</td>\n",
       "      <td>Yes</td>\n",
       "      <td>No</td>\n",
       "      <td>No</td>\n",
       "      <td>No</td>\n",
       "      <td>...</td>\n",
       "      <td>No</td>\n",
       "      <td>Yes</td>\n",
       "      <td>No</td>\n",
       "      <td>No</td>\n",
       "      <td>Yes</td>\n",
       "      <td>No</td>\n",
       "      <td>No</td>\n",
       "      <td>Yes</td>\n",
       "      <td>Yes</td>\n",
       "      <td>No</td>\n",
       "    </tr>\n",
       "    <tr>\n",
       "      <th>1</th>\n",
       "      <td>No</td>\n",
       "      <td>Yes</td>\n",
       "      <td>Yes</td>\n",
       "      <td>Outie</td>\n",
       "      <td>Yes</td>\n",
       "      <td>Yes</td>\n",
       "      <td>No</td>\n",
       "      <td>Yes</td>\n",
       "      <td>No</td>\n",
       "      <td>No</td>\n",
       "      <td>...</td>\n",
       "      <td>No</td>\n",
       "      <td>No</td>\n",
       "      <td>No</td>\n",
       "      <td>Yes</td>\n",
       "      <td>Yes</td>\n",
       "      <td>No</td>\n",
       "      <td>No</td>\n",
       "      <td>Yes</td>\n",
       "      <td>Yes</td>\n",
       "      <td>No</td>\n",
       "    </tr>\n",
       "    <tr>\n",
       "      <th>2</th>\n",
       "      <td>Yes</td>\n",
       "      <td>Yes</td>\n",
       "      <td>Yes</td>\n",
       "      <td>Innie</td>\n",
       "      <td>No</td>\n",
       "      <td>No</td>\n",
       "      <td>No</td>\n",
       "      <td>No</td>\n",
       "      <td>Yes</td>\n",
       "      <td>No</td>\n",
       "      <td>...</td>\n",
       "      <td>Yes</td>\n",
       "      <td>No</td>\n",
       "      <td>No</td>\n",
       "      <td>Yes</td>\n",
       "      <td>No</td>\n",
       "      <td>No</td>\n",
       "      <td>Yes</td>\n",
       "      <td>No</td>\n",
       "      <td>No</td>\n",
       "      <td>No</td>\n",
       "    </tr>\n",
       "    <tr>\n",
       "      <th>3</th>\n",
       "      <td>No</td>\n",
       "      <td>No</td>\n",
       "      <td>No</td>\n",
       "      <td>Innie</td>\n",
       "      <td>No</td>\n",
       "      <td>No</td>\n",
       "      <td>No</td>\n",
       "      <td>No</td>\n",
       "      <td>Yes</td>\n",
       "      <td>No</td>\n",
       "      <td>...</td>\n",
       "      <td>No</td>\n",
       "      <td>No</td>\n",
       "      <td>No</td>\n",
       "      <td>Yes</td>\n",
       "      <td>No</td>\n",
       "      <td>No</td>\n",
       "      <td>No</td>\n",
       "      <td>Yes</td>\n",
       "      <td>Yes</td>\n",
       "      <td>No</td>\n",
       "    </tr>\n",
       "    <tr>\n",
       "      <th>4</th>\n",
       "      <td>Yes</td>\n",
       "      <td>No</td>\n",
       "      <td>No</td>\n",
       "      <td>Innie</td>\n",
       "      <td>No</td>\n",
       "      <td>No</td>\n",
       "      <td>No</td>\n",
       "      <td>No</td>\n",
       "      <td>Yes</td>\n",
       "      <td>No</td>\n",
       "      <td>...</td>\n",
       "      <td>Yes</td>\n",
       "      <td>No</td>\n",
       "      <td>No</td>\n",
       "      <td>Yes</td>\n",
       "      <td>No</td>\n",
       "      <td>No</td>\n",
       "      <td>No</td>\n",
       "      <td>Yes</td>\n",
       "      <td>Yes</td>\n",
       "      <td>No</td>\n",
       "    </tr>\n",
       "  </tbody>\n",
       "</table>\n",
       "<p>5 rows × 26 columns</p>\n",
       "</div>"
      ],
      "text/plain": [
       "  cancer diabetes heart_disease  belly ever_smoked currently_smoke  \\\n",
       "0    Yes       No            No  Innie         Yes             Yes   \n",
       "1     No      Yes           Yes  Outie         Yes             Yes   \n",
       "2    Yes      Yes           Yes  Innie          No              No   \n",
       "3     No       No            No  Innie          No              No   \n",
       "4    Yes       No            No  Innie          No              No   \n",
       "\n",
       "  smoke_often smoke_rarely never_smoked quit_smoking  ...   neutralCable  \\\n",
       "0         Yes           No           No           No  ...             No   \n",
       "1          No          Yes           No           No  ...             No   \n",
       "2          No           No          Yes           No  ...            Yes   \n",
       "3          No           No          Yes           No  ...             No   \n",
       "4          No           No          Yes           No  ...            Yes   \n",
       "\n",
       "  noCrash yesCrash uhCrash rash cat  dog Dems atheist Jewish  \n",
       "0     Yes       No      No  Yes  No   No  Yes     Yes     No  \n",
       "1      No       No     Yes  Yes  No   No  Yes     Yes     No  \n",
       "2      No       No     Yes   No  No  Yes   No      No     No  \n",
       "3      No       No     Yes   No  No   No  Yes     Yes     No  \n",
       "4      No       No     Yes   No  No   No  Yes     Yes     No  \n",
       "\n",
       "[5 rows x 26 columns]"
      ]
     },
     "execution_count": 304,
     "metadata": {},
     "output_type": "execute_result"
    }
   ],
   "source": [
    "data[characteristics].head()"
   ]
  },
  {
   "cell_type": "code",
   "execution_count": 305,
   "metadata": {},
   "outputs": [
    {
     "data": {
      "text/html": [
       "<div>\n",
       "<style>\n",
       "    .dataframe thead tr:only-child th {\n",
       "        text-align: right;\n",
       "    }\n",
       "\n",
       "    .dataframe thead th {\n",
       "        text-align: left;\n",
       "    }\n",
       "\n",
       "    .dataframe tbody tr th {\n",
       "        vertical-align: top;\n",
       "    }\n",
       "</style>\n",
       "<table border=\"1\" class=\"dataframe\">\n",
       "  <thead>\n",
       "    <tr style=\"text-align: right;\">\n",
       "      <th></th>\n",
       "      <th>BREAKFASTSANDWICHFREQ</th>\n",
       "      <th>BREAKFASTSANDWICHQUAN</th>\n",
       "      <th>EGGSFREQ</th>\n",
       "      <th>EGGSQUAN</th>\n",
       "      <th>YOGURTFREQ</th>\n",
       "      <th>YOGURTQUAN</th>\n",
       "      <th>COTTAGECHEESEFREQ</th>\n",
       "      <th>COTTAGECHEESEQUAN</th>\n",
       "      <th>CREAMCHEESEFREQ</th>\n",
       "      <th>CREAMCHEESEQUAN</th>\n",
       "      <th>...</th>\n",
       "      <th>DT_FIBER_INSOL</th>\n",
       "      <th>DT_FIBER_SOL</th>\n",
       "      <th>DT_PROT_ANIMAL</th>\n",
       "      <th>DT_PROT_VEGETABLE</th>\n",
       "      <th>DT_NITROGEN</th>\n",
       "      <th>PHYTIC_ACID</th>\n",
       "      <th>OXALIC_ACID</th>\n",
       "      <th>COUMESTROL</th>\n",
       "      <th>BIOCHANIN_A</th>\n",
       "      <th>FORMONONETIN</th>\n",
       "    </tr>\n",
       "  </thead>\n",
       "  <tbody>\n",
       "    <tr>\n",
       "      <th>0</th>\n",
       "      <td>5</td>\n",
       "      <td>1</td>\n",
       "      <td>7</td>\n",
       "      <td>3</td>\n",
       "      <td>1</td>\n",
       "      <td>3</td>\n",
       "      <td>1</td>\n",
       "      <td>2</td>\n",
       "      <td>7</td>\n",
       "      <td>3</td>\n",
       "      <td>...</td>\n",
       "      <td>7.38</td>\n",
       "      <td>1.25</td>\n",
       "      <td>75.46</td>\n",
       "      <td>16.00</td>\n",
       "      <td>14.89</td>\n",
       "      <td>365.70</td>\n",
       "      <td>318.11</td>\n",
       "      <td>0.0117</td>\n",
       "      <td>0.0658</td>\n",
       "      <td>0.00324</td>\n",
       "    </tr>\n",
       "    <tr>\n",
       "      <th>1</th>\n",
       "      <td>1</td>\n",
       "      <td>1</td>\n",
       "      <td>4</td>\n",
       "      <td>4</td>\n",
       "      <td>2</td>\n",
       "      <td>3</td>\n",
       "      <td>1</td>\n",
       "      <td>2</td>\n",
       "      <td>2</td>\n",
       "      <td>2</td>\n",
       "      <td>...</td>\n",
       "      <td>9.11</td>\n",
       "      <td>3.37</td>\n",
       "      <td>59.41</td>\n",
       "      <td>18.25</td>\n",
       "      <td>12.51</td>\n",
       "      <td>434.98</td>\n",
       "      <td>112.66</td>\n",
       "      <td>0.0107</td>\n",
       "      <td>0.1390</td>\n",
       "      <td>0.00743</td>\n",
       "    </tr>\n",
       "    <tr>\n",
       "      <th>2</th>\n",
       "      <td>3</td>\n",
       "      <td>2</td>\n",
       "      <td>4</td>\n",
       "      <td>2</td>\n",
       "      <td>5</td>\n",
       "      <td>2</td>\n",
       "      <td>2</td>\n",
       "      <td>2</td>\n",
       "      <td>6</td>\n",
       "      <td>3</td>\n",
       "      <td>...</td>\n",
       "      <td>11.56</td>\n",
       "      <td>4.74</td>\n",
       "      <td>61.49</td>\n",
       "      <td>28.46</td>\n",
       "      <td>14.45</td>\n",
       "      <td>606.43</td>\n",
       "      <td>213.41</td>\n",
       "      <td>0.0965</td>\n",
       "      <td>0.0519</td>\n",
       "      <td>0.00946</td>\n",
       "    </tr>\n",
       "    <tr>\n",
       "      <th>3</th>\n",
       "      <td>2</td>\n",
       "      <td>1</td>\n",
       "      <td>7</td>\n",
       "      <td>2</td>\n",
       "      <td>8</td>\n",
       "      <td>3</td>\n",
       "      <td>1</td>\n",
       "      <td>2</td>\n",
       "      <td>1</td>\n",
       "      <td>2</td>\n",
       "      <td>...</td>\n",
       "      <td>26.34</td>\n",
       "      <td>10.85</td>\n",
       "      <td>28.71</td>\n",
       "      <td>44.59</td>\n",
       "      <td>12.15</td>\n",
       "      <td>1570.07</td>\n",
       "      <td>334.08</td>\n",
       "      <td>0.2830</td>\n",
       "      <td>0.0890</td>\n",
       "      <td>0.01260</td>\n",
       "    </tr>\n",
       "    <tr>\n",
       "      <th>4</th>\n",
       "      <td>3</td>\n",
       "      <td>1</td>\n",
       "      <td>5</td>\n",
       "      <td>2</td>\n",
       "      <td>8</td>\n",
       "      <td>2</td>\n",
       "      <td>2</td>\n",
       "      <td>2</td>\n",
       "      <td>4</td>\n",
       "      <td>2</td>\n",
       "      <td>...</td>\n",
       "      <td>16.48</td>\n",
       "      <td>4.80</td>\n",
       "      <td>32.41</td>\n",
       "      <td>28.23</td>\n",
       "      <td>9.80</td>\n",
       "      <td>616.99</td>\n",
       "      <td>422.55</td>\n",
       "      <td>0.1630</td>\n",
       "      <td>0.0994</td>\n",
       "      <td>0.02070</td>\n",
       "    </tr>\n",
       "  </tbody>\n",
       "</table>\n",
       "<p>5 rows × 1066 columns</p>\n",
       "</div>"
      ],
      "text/plain": [
       "   BREAKFASTSANDWICHFREQ  BREAKFASTSANDWICHQUAN  EGGSFREQ  EGGSQUAN  \\\n",
       "0                      5                      1         7         3   \n",
       "1                      1                      1         4         4   \n",
       "2                      3                      2         4         2   \n",
       "3                      2                      1         7         2   \n",
       "4                      3                      1         5         2   \n",
       "\n",
       "   YOGURTFREQ  YOGURTQUAN  COTTAGECHEESEFREQ  COTTAGECHEESEQUAN  \\\n",
       "0           1           3                  1                  2   \n",
       "1           2           3                  1                  2   \n",
       "2           5           2                  2                  2   \n",
       "3           8           3                  1                  2   \n",
       "4           8           2                  2                  2   \n",
       "\n",
       "   CREAMCHEESEFREQ  CREAMCHEESEQUAN      ...       DT_FIBER_INSOL  \\\n",
       "0                7                3      ...                 7.38   \n",
       "1                2                2      ...                 9.11   \n",
       "2                6                3      ...                11.56   \n",
       "3                1                2      ...                26.34   \n",
       "4                4                2      ...                16.48   \n",
       "\n",
       "   DT_FIBER_SOL  DT_PROT_ANIMAL  DT_PROT_VEGETABLE  DT_NITROGEN  PHYTIC_ACID  \\\n",
       "0          1.25           75.46              16.00        14.89       365.70   \n",
       "1          3.37           59.41              18.25        12.51       434.98   \n",
       "2          4.74           61.49              28.46        14.45       606.43   \n",
       "3         10.85           28.71              44.59        12.15      1570.07   \n",
       "4          4.80           32.41              28.23         9.80       616.99   \n",
       "\n",
       "   OXALIC_ACID  COUMESTROL  BIOCHANIN_A  FORMONONETIN  \n",
       "0       318.11      0.0117       0.0658       0.00324  \n",
       "1       112.66      0.0107       0.1390       0.00743  \n",
       "2       213.41      0.0965       0.0519       0.00946  \n",
       "3       334.08      0.2830       0.0890       0.01260  \n",
       "4       422.55      0.1630       0.0994       0.02070  \n",
       "\n",
       "[5 rows x 1066 columns]"
      ]
     },
     "execution_count": 305,
     "metadata": {},
     "output_type": "execute_result"
    }
   ],
   "source": [
    "data[ffq].head()"
   ]
  },
  {
   "cell_type": "code",
   "execution_count": 308,
   "metadata": {},
   "outputs": [
    {
     "name": "stderr",
     "output_type": "stream",
     "text": [
      "/Users/andrewkim/anaconda3/lib/python3.6/site-packages/scipy/stats/stats.py:3021: RuntimeWarning: invalid value encountered in double_scalars\n",
      "  r = r_num / r_den\n"
     ]
    }
   ],
   "source": [
    "# Do some EDA on the data so that categorical values get changed to 1s and 0s\n",
    "data.replace('Yes', 1, inplace=True)\n",
    "data.replace('Innie', 1, inplace=True)\n",
    "data.replace('No', 0, inplace=True)\n",
    "data.replace('Outie', 0, inplace=True)\n",
    "\n",
    "# Calculate the p value between every characteristic and food frequency/quantity\n",
    "pvalues = {}\n",
    "for c in characteristics:\n",
    "    for f in ffq:\n",
    "        pvalues[stat.pearsonr(data[c].tolist(), data[f].tolist())[1]] = (c, f)"
   ]
  },
  {
   "cell_type": "code",
   "execution_count": 309,
   "metadata": {
    "collapsed": true
   },
   "outputs": [],
   "source": [
    "sorted_values = []\n",
    "for key in sorted(pvalues.keys()):\n",
    "    sorted_values += [(key, pvalues[key])]"
   ]
  },
  {
   "cell_type": "code",
   "execution_count": 311,
   "metadata": {},
   "outputs": [
    {
     "data": {
      "text/plain": [
       "[(3.7392930595140498e-09, ('Jewish', 'GROUP_ALL_BRAN_ORIGINAL_TOTAL_GRAMS')),\n",
       " (3.7392930595140713e-09, ('Jewish', 'ALLBRANORIGTYPE')),\n",
       " (3.7392930595141143e-09,\n",
       "  ('smoke_often', 'GROUP_COOK_FAT_ANIMAL_FAT_TOTAL_GRAMS')),\n",
       " (9.4530340028772084e-09,\n",
       "  ('smoke_often', 'GROUP_LOW_CAL_KOOLAID_TOTAL_GRAMS')),\n",
       " (2.865639565547171e-08,\n",
       "  ('Jewish', 'GROUP_ICE_CREAM_FROZEN_YOGURT_LOW_FAT_TOTAL_GRAMS')),\n",
       " (5.2203280690755088e-08,\n",
       "  ('smoke_often', 'GROUP_STEAK_ROAST_FAT_ON_TOTAL_GRAMS')),\n",
       " (5.9917513301454779e-08, ('Jewish', 'GROUP_RAW_TOMATOES_TOTAL_GRAMS')),\n",
       " (6.0267821160795707e-07,\n",
       "  ('smoke_often', 'GROUP_CORN_FLAKES_CORN_PUFFS_TOTAL_GRAMS')),\n",
       " (4.5182117663961682e-06, ('smoke_often', 'F18D1TN7')),\n",
       " (8.0499444720125634e-06, ('smoke_rarely', 'FLAXHEMPSEEDOILTYPE')),\n",
       " (8.0499444720126362e-06, ('smoke_rarely', 'GROUP_CHEX_OTHER_TOTAL_GRAMS')),\n",
       " (8.0499444720126701e-06, ('smoke_rarely', 'GROUP_LIFE_TOTAL_GRAMS')),\n",
       " (8.8030660205637771e-06, ('smoke_often', 'GROUP_PORK_FAT_ON_TOTAL_GRAMS')),\n",
       " (1.1446426335225304e-05, ('smoke_rarely', 'F18D3CN3')),\n",
       " (1.6158156614271367e-05, ('smoke_rarely', 'GROUP_SOY_MILK_TOTAL_GRAMS')),\n",
       " (2.1945383378396457e-05, ('smoke_rarely', 'SUP_OM_6')),\n",
       " (2.8476184473490123e-05, ('dog', 'EGGROLLQUAN')),\n",
       " (3.1447466606889132e-05, ('smoke_rarely', 'F20D3N3')),\n",
       " (3.9156738423019172e-05, ('smoke_often', 'GROUP_BAGELS_WHITE_TOTAL_GRAMS')),\n",
       " (5.4472799562211073e-05,\n",
       "  ('smoke_often', 'GROUP_HOT_DOG_BEEF_OR_PORK_TOTAL_GRAMS')),\n",
       " (5.4976262450193749e-05, ('Jewish', 'V_REDOR_TOMATO')),\n",
       " (6.6642014484263388e-05, ('currently_smoke', 'ENERGYDRINKSQUAN')),\n",
       " (7.2255229976485587e-05, ('smoke_rarely', 'CAMD5')),\n",
       " (7.7299724934785873e-05, ('smoke_often', 'LATINO')),\n",
       " (8.1320697785677561e-05, ('smoke_often', 'BUTTERQUAN')),\n",
       " (0.00010682433178383818, ('currently_smoke', 'BEERQUAN')),\n",
       " (0.00012496025027669932,\n",
       "  ('quit_smoking', 'GROUP_WHOLE_GRAIN_CRACKERS_LOW_FAT_TOTAL_GRAMS')),\n",
       " (0.0001386176772447345, ('mathReading', 'OTHERCHIPSFREQ')),\n",
       " (0.00014468096634093775, ('smoke_often', 'F18D2CLA')),\n",
       " (0.00017717189454132738, ('rash', 'SODAQUAN'))]"
      ]
     },
     "execution_count": 311,
     "metadata": {},
     "output_type": "execute_result"
    }
   ],
   "source": [
    "sorted_values[0:30]"
   ]
  },
  {
   "cell_type": "code",
   "execution_count": null,
   "metadata": {
    "collapsed": true
   },
   "outputs": [],
   "source": []
  },
  {
   "cell_type": "markdown",
   "metadata": {},
   "source": [
    "## A/B Testing\n",
    "A/B testing is a very simple concept. We measure a statistic in a normal, controlled environment (we'll call this A), and then we compare that to the same statistic in an environment with *one* change. This form of testing is used frequently in marketing and ad research to compare the effectiveness of certain features of ads. \n",
    "\n",
    "Let's say we are working for a company whose website lets users make their own custom videogames. The company has a free version, which lets users make very basic videogames, and a paid version, which gives users access to more advanced tools for making videogames. When a user has finished making a videogame via a free account, we send them to a landing page that gives them the option to sign up for a paid account. Our measured statistic in this case would be how many free users sign up for a paid account upon reaching this page. We can send half of our users one version of the page, which may have text explaining in detail the benefits of the paid account (this will be version A), and the other half of our users will get another version of the page, which may have a colorful graphic that explains some of the benefits of the paid account (this will be version B). \n",
    "\n",
    "There is a very specific reason why it's called A/B testing, and not A/B/C/D... testing. That is because we can very easily run into problems if we try to test multiple versions at the same time. \n",
    "\n",
    "Let's say that we have 15 different sign up pages (one is the control, in this case \"A\"), each with something different about them (one has a picture of a puppy, one has a quote from a customer, one has a graphic, etc.), and let's say that in this case, none of our variations actually has an effect on user interaction (so we can use a Gaussian distribution with a mean of 0 and a std of 0.1)."
   ]
  },
  {
   "cell_type": "code",
   "execution_count": 275,
   "metadata": {},
   "outputs": [
    {
     "data": {
      "text/plain": [
       "[0.434,\n",
       " 0.208,\n",
       " 0.01,\n",
       " 0.02,\n",
       " 0.631,\n",
       " 0.171,\n",
       " 0.222,\n",
       " 0.212,\n",
       " 0.276,\n",
       " 0.772,\n",
       " 0.006,\n",
       " 0.001,\n",
       " 0.572,\n",
       " 0.593]"
      ]
     },
     "execution_count": 275,
     "metadata": {},
     "output_type": "execute_result"
    }
   ],
   "source": [
    "n = 50\n",
    "reps = 1000\n",
    "num_pages = 15\n",
    "\n",
    "landing_pages = [np.random.normal(0, 0.1, n) for _ in range(num_pages)]\n",
    "\n",
    "# This will be our \"control\"\n",
    "A = landing_pages[0]\n",
    "\n",
    "# Our test statistic will be the difference between the mean percentage \n",
    "def test_stat(A, B):\n",
    "    return np.abs(np.mean(B) - np.mean(A))\n",
    "\n",
    "def permute(A, B):\n",
    "    combined = np.append(A, B)\n",
    "    shuffled = np.random.choice(combined, size=len(combined), replace=False)\n",
    "    return shuffled[:n], shuffled[n:]\n",
    "\n",
    "p_vals = []\n",
    "for i in range(1, num_pages):\n",
    "    B = landing_pages[i]\n",
    "    obs = test_stat(A, B)\n",
    "    resampled = [test_stat(*permute(A, B)) for _ in range(reps)]\n",
    "    p_val = np.count_nonzero(obs >= resampled) / reps\n",
    "    p_vals.append(p_val)\n",
    "p_vals"
   ]
  },
  {
   "cell_type": "markdown",
   "metadata": {},
   "source": [
    "As we can see, more than one of these ads seems to have p-values less than 0.05, despite our knowing that there actually no difference between the pages. This is why we do single A/B testing with multiple trials, as opposed to multiple hypothesis testing with only single trials. It is too easy for a p-value to give us a false positive if we just try a bunch of times."
   ]
  },
  {
   "cell_type": "markdown",
   "metadata": {},
   "source": [
    "## Many Tests for One Phenomenon\n",
    "Sometimes, multiple testing can happen by accident. If many researchers are investigating the same phenomenon at the same time, then it's very possible that one of the researchers can end up with a lucky trial. That is exactly what happened during the 2010 World Cup."
   ]
  },
  {
   "cell_type": "markdown",
   "metadata": {
    "collapsed": true
   },
   "source": [
    "### Paul the Octopus\n",
    "\n",
    "Paul the Octopus was a common octopus who lived in a Sea Life Centre in Oberhausen, Germany. He is most well known for correctly guessing all seven soccer matches Germany played during the 2010 World Cup, as well as the final match, which was between Netherlands and Spain. \n",
    "\n",
    "Before a match was played, Paul's owners would place two boxes in his tank containing food, each box labeled with a different flag of the opposing countries. Whichever box Paul chose to eat from first was considered his prediction for the outcome of the match. "
   ]
  },
  {
   "cell_type": "markdown",
   "metadata": {},
   "source": [
    "<img src=\"https://news.bbcimg.co.uk/media/images/49659000/jpg/_49659323_octopus.jpg\" width=\"400\" />"
   ]
  },
  {
   "cell_type": "markdown",
   "metadata": {},
   "source": [
    "So why was Paul so good at predicting the outcome of these matches? Was he actually psychic, or was he just lucky? We might ask what’s the chance he got all of the predictions correct, assuming he was just “guessing”?\n",
    "\n",
    "Paul correctly predicted 8 of the 2010 World Cup games, each time he had a 1/2 chance of making the correct prediction. The one way to get all 8 matches correct out of 8 is:\n",
    "$$(1/2)^8 = 1/256$$\n",
    "\n",
    "So was he actually psychic? Or is there something more to uncover?"
   ]
  },
  {
   "cell_type": "markdown",
   "metadata": {},
   "source": [
    "Turns out, there were tons of animals (some of them in the same zoo as Paul!) doing the same thing, trying to guess the outcome of their respective home countries' matches, including:\n",
    "- Mani the Parakeet, from Singapore\n",
    "- Leon the Porcupine, from Germany\n",
    "- Petty the Pygmy Hippopotamus, from Germany\n",
    "- Otto Armstrong the Octopus, from Germany\n",
    "- Anton the Tamarin, from Germany\n",
    "- Jimmy the Peruvian Guinea Pig, from Germany\n",
    "- Xiaoge the Octopus, from China\n",
    "- Pauline the Octopus, from the Netherlands\n",
    "- Pino the Chimpanzee, from Estonia\n",
    "- Apelsin the Red River Hog, from Estonia\n",
    "- Harry the Crocodile, from Australia\n",
    "None of whom got them all right (although Mani the Parakeet got 7 matches out of 8 right)."
   ]
  },
  {
   "cell_type": "markdown",
   "metadata": {},
   "source": [
    "Some might argue that getting them all wrong would also be remarkable. So what are the chances that at least one of the 12 animals would get either all right or all wrong? \n",
    "\n",
    "We can use simple probability to figure this out. We have 12 trials (in this case, animals), where each independent trial has a $2*(1/2)^8 = 1/128$ chance of getting all predictions right or wrong. So what is the probability of having *at least* one success? That's $1 - P_{all \\textrm{ }failures} = 1 - (127/128)^{12} = 1 - 0.910 = 0.090$"
   ]
  },
  {
   "cell_type": "markdown",
   "metadata": {},
   "source": [
    "We have an 9% chance of getting an animal that will select all of the right predictions, and that's not including all of the animals in the world that were also doing these \"predictions.\" That's not that rare - it's the dangers of multiple testing that caused this \"phenomenon.\" This one octopus out of many different animals in the world happened to have guessed all of the right predictions, and the popularity of the situation caused it to become magical.\n",
    "\n",
    "To those of you wondering if it really was luck, it has been shown that the species *Octopus vulgaris* is actually colorblind, and some believe that octopuses are drawn to horizontal shapes, hence Paul's decision to choose Germany, except when playing against Spain and Serbia."
   ]
  },
  {
   "cell_type": "markdown",
   "metadata": {},
   "source": [
    "In the end, we know that studies are more trustworthy when they are replicated. Data scientists should try to avoid cases like Paul the Octopus's where there has only been one real case of the animal correctly predicting a bunch of World Cup matches in a row. Only when we see him doing that for multiple soccer tournaments should we start looking at the data."
   ]
  },
  {
   "cell_type": "markdown",
   "metadata": {},
   "source": [
    "## P-Hacking is just the tip of the iceberg\n",
    "\n",
    "As it turns out, p-hacking isn't the only thing data scientists and statisticians have to worry about when making sound inferences from data. There are many stages to the design and analysis of a successful study, as shown below (from Leek & Peng's *P values are just the tip of the iceberg*)."
   ]
  },
  {
   "cell_type": "markdown",
   "metadata": {},
   "source": [
    "<img src='https://www.nature.com/polopoly_fs/7.25671.1429983882!/image/P1.jpg_gen/derivatives/landscape_300/P1.jpg'>"
   ]
  },
  {
   "cell_type": "markdown",
   "metadata": {},
   "source": [
    "As shown, the last step of the whole \"data pipeline\" is the calculation of an inferential statistic like the p-value, and having a rule applied to it (e.g. p > 0.05). But there are many other decisions that are made beforehand, like experimental design or EDA, that can have much greater effects on the results - mistakes like simple rounding or measurement errors, choosing the wrong model, or not taking into account confounding factors can change everything. By changing the way data are cleaned, summarized, or modeled, we can achieve arbitrary levels of statistical significance.\n",
    "\n",
    "A simple example of this would be in the case of rolling a pair of dice and getting two 6s. If we were to take a null hypothesis that the dice are fair and not weighted, and take our test statistic to be the sum of the dice, we will find that the p-value of this outcome will be 1/36 or 0.028, and gives us statistically signficant results that the dice are fair. But obviously, a single roll is not nearly enough rolls to provide us with good evidence to say whether the results are statistically significant or not, and shows that blindly applying the p-value without properly designing a good experiment can result in bad results.\n",
    "\n",
    "In the end, what is most important is education on the subject of safe hypothesis testing, and making sure you don't fall into the follies of poor statistical decisions."
   ]
  }
 ],
 "metadata": {
  "kernelspec": {
   "display_name": "Python 3",
   "language": "python",
   "name": "python3"
  },
  "language_info": {
   "codemirror_mode": {
    "name": "ipython",
    "version": 3
   },
   "file_extension": ".py",
   "mimetype": "text/x-python",
   "name": "python",
   "nbconvert_exporter": "python",
   "pygments_lexer": "ipython3",
   "version": "3.6.1"
  }
 },
 "nbformat": 4,
 "nbformat_minor": 2
}
