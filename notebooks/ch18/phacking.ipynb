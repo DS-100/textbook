{
 "cells": [
  {
   "cell_type": "markdown",
   "metadata": {},
   "source": [
    "# P-hacking\n",
    "\n",
    "**FROM DEB:**\n",
    "- Testing many hypotheses on the same data set. (Maybe this could be a genetics example).\n",
    "\n",
    "- Collecting many data sets and carrying out one test on each (A/B testing with ads)\n",
    "\n",
    "- Entirely different people/institutions investigating a similar phenomenon - this is the example of Paul the Octopus.\n",
    "\n",
    "- Making many decisions in the data collection, EDA process, and analysis process. This is \"tip of the iceberg\" phenomen."
   ]
  },
  {
   "cell_type": "markdown",
   "metadata": {
    "collapsed": true
   },
   "source": [
    "## Paul the Octopus\n",
    "\n",
    "Paul the Octopus was a common octopus who lived in a Sea Life Centre in Oberhausen, Germany. He is most well known for correctly guessing all seven soccer matches Germany played during the 2010 World Cup, as well as the final match, which was between Netherlands and Spain. \n",
    "\n",
    "Before a match was played, Paul's owners would place two boxes in his tank containing food, each box labeled with a different flag of the opposing countries. Whichever box Paul chose to eat from first was considered his prediction for the outcome of the match. "
   ]
  },
  {
   "cell_type": "markdown",
   "metadata": {},
   "source": [
    "<img src=\"https://news.bbcimg.co.uk/media/images/49659000/jpg/_49659323_octopus.jpg\" width=\"400\" />"
   ]
  },
  {
   "cell_type": "markdown",
   "metadata": {},
   "source": [
    "So why was Paul so good at predicting the outcome of these matches? Was he actually psychic, or was he just lucky? We might ask what’s the chance he got all of the predictions correct, assuming he was just “guessing”?\n",
    "\n",
    "Paul correctly predicted 8 of the 2010 World Cup games, each time he had a 1/2 chance of making the correct prediction. The one way to get all 8 matches correct out of 8 is:\n",
    "$$(1/2)^8 = 1/256$$\n",
    "\n",
    "So was he actually psychic? Or is there something more to uncover?"
   ]
  },
  {
   "cell_type": "markdown",
   "metadata": {},
   "source": [
    "Turns out, there were tons of animals (some of them in the same zoo as Paul!) doing the same thing, trying to guess the outcome of their respective home countries' matches, including:\n",
    "- Mani the Parakeet, from Singapore\n",
    "- Leon the Porcupine, from Germany\n",
    "- Petty the Pygmy Hippopotamus, from Germany\n",
    "- Otto Armstrong the Octopus, from Germany\n",
    "- Anton the Tamarin, from Germany\n",
    "- Jimmy the Peruvian Guinea Pig, from Germany\n",
    "- Xiaoge the Octopus, from China\n",
    "- Pauline the Octopus, from the Netherlands\n",
    "- Pino the Chimpanzee, from Estonia\n",
    "- Apelsin the Red River Hog, from Estonia\n",
    "- Harry the Crocodile, from Australia\n",
    "None of whom got them all right (although Mani the Parakeet got 7 matches out of 8 right)."
   ]
  },
  {
   "cell_type": "markdown",
   "metadata": {},
   "source": [
    "Some might argue that getting them all wrong would also be remarkable. So what are the chances that at least one of the 12 animals would get either all right or all wrong? \n",
    "\n",
    "We can use simple probability to figure this out. We have 12 trials (in this case, animals), where each independent trial has a $2*(1/2)^8 = 1/128$ chance of getting all predictions right or wrong. So what is the probability of having *at least* one success? That's $1 - P_{all \\textrm{ }failures} = 1 - (127/128)^{12} = 1 - 0.910 = 0.090$"
   ]
  },
  {
   "cell_type": "markdown",
   "metadata": {},
   "source": [
    "We have an 9% chance of getting an animal that will select all of the right predictions, and that's not including all of the animals in the world that were also doing these \"predictions.\" That's not that rare - it's the dangers of multiple testing that caused this \"phenomenon.\" This one octopus out of many different animals in the world happened to have guessed all of the right predictions, and the popularity of the situation caused it to become magical.\n",
    "\n",
    "To those of you wondering if it really was luck, it has been shown that the species *Octopus vulgaris* is actually colorblind, and some believe that octopuses are drawn to horizontal shapes, hence Paul's decision to choose Germany, except when playing against Spain and Serbia."
   ]
  },
  {
   "cell_type": "markdown",
   "metadata": {},
   "source": [
    "## A/B Testing\n",
    "A/B testing is a very simple concept. We measure a statistic in a normal, controlled environment (we'll call this A), and then we compare that to the same statistic in an environment with *one* change. \n",
    "\n",
    "This form of testing is used frequently in marketing and ad research to compare the effectiveness of certain features of ads. Let's say we are working for a company whose website lets users make their own custom videogames. The company has a free version, which lets users make very basic videogames, and a paid version, which gives users access to more advanced tools for making videogames. When a user has finished making a videogame via a free account, we send them to a landing page that gives them the option to sign up for a paid account. Our measured statistic in this case would be how many free users sign up for a paid account upon reaching this page. We can send half of our users one version of the page, which may have text explaining in detail the benefits of the paid account (this will be version A), and the other half of our users will get another version of the page, which may have a colorful graphic that explains some of the benefits of the paid account (this will be version B). \n",
    "\n",
    "There is a very specific reason why it's called A/B testing, and not A/B/C/D... testing. That is because we can very easily run into problems if we try to test multiple versions at the same time. \n",
    "\n",
    "*NEED MORE INFO TO MAKE BETTER*"
   ]
  },
  {
   "cell_type": "markdown",
   "metadata": {},
   "source": [
    "## P-Hacking is just the tip of the iceberg\n",
    "\n",
    "As it turns out, p-hacking isn't the only thing data scientists and statisticians have to worry about when making sound inferences from data. There are many stages to the design and analysis of a successful study, as shown below (from Leek & Peng's *P values are just the tip of the iceberg*)."
   ]
  },
  {
   "cell_type": "markdown",
   "metadata": {},
   "source": [
    "<img src='https://www.nature.com/polopoly_fs/7.25671.1429983882!/image/P1.jpg_gen/derivatives/landscape_300/P1.jpg'>"
   ]
  },
  {
   "cell_type": "markdown",
   "metadata": {},
   "source": [
    "As shown, the last step of the whole \"data pipeline\" is the calculation of an inferential statistic like the p-value, and having a rule applied to it (e.g. p > 0.05). But there are many other decisions that are made beforehand, like experimental design or EDA, that can have much greater effects on the results - mistakes like simple rounding or measurement errors, choosing the wrong model, or not taking into account confounding factors can change everything. By changing the way data are cleaned, summarized, or modeled, we can achieve arbitrary levels of statistical significance.\n",
    "\n",
    "In the end, what is most important is education on the subject of safe hypothesis testing, and making sure you don't fall into the follies of poor statistical decisions."
   ]
  }
 ],
 "metadata": {
  "kernelspec": {
   "display_name": "Python 3",
   "language": "python",
   "name": "python3"
  },
  "language_info": {
   "codemirror_mode": {
    "name": "ipython",
    "version": 3
   },
   "file_extension": ".py",
   "mimetype": "text/x-python",
   "name": "python",
   "nbconvert_exporter": "python",
   "pygments_lexer": "ipython3",
   "version": "3.6.1"
  }
 },
 "nbformat": 4,
 "nbformat_minor": 2
}
