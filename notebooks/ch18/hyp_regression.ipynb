{
 "cells": [
  {
   "cell_type": "code",
   "execution_count": 11,
   "metadata": {},
   "outputs": [],
   "source": [
    "#HIDDEN \n",
    "import numpy as np\n",
    "import matplotlib.pyplot as plt\n",
    "import pandas as pd\n",
    "import seaborn as sns\n",
    "%matplotlib inline\n",
    "import ipywidgets as widgets\n",
    "from ipywidgets import interact, interactive, fixed, interact_manual\n",
    "#import nbinteract as nbi\n",
    "\n",
    "sns.set()\n",
    "sns.set_context('talk')\n",
    "np.set_printoptions(threshold=20, precision=2, suppress=True)\n",
    "pd.options.display.max_rows = 7\n",
    "pd.options.display.max_columns = 8\n",
    "pd.set_option('precision', 2)\n",
    "# This option stops scientific notation for pandas\n",
    "# pd.set_option('display.float_format', '{:.2f}'.format)"
   ]
  },
  {
   "cell_type": "markdown",
   "metadata": {
    "colab_type": "text",
    "id": "C8fl0JZSL8Fc"
   },
   "source": [
    "## Bootstrapping for Linear Regression (Inference for the True Coefficients)\n",
    "\n",
    "Recall that in linear regression, we create a model of the following form\n",
    "$$\n",
    "f_\\hat{\\theta} (x) = \\hat{\\theta_0} + \\hat{\\theta_1} x_1 + \\ldots + \\hat{\\theta_p} x_p\n",
    "$$\n",
    "\n",
    "We would like to infer the true coefficients of the model. Since the $\\hat{\\theta_0}$, $\\hat{\\theta_1}$, $\\ldots$ $\\hat{\\theta_p}$ are estimators that vary based on our training data/observations, we would like to understand how our estimated coefficients compare with the true coefficients. Bootstrapping is a *nonparametric* approach to statistical inference that gives us standard errors and confidence intervals for our parameters. \n",
    "\n",
    "Let's take a look at an example of how we use bootstrapping methods within linear regression. \n"
   ]
  },
  {
   "cell_type": "markdown",
   "metadata": {
    "colab_type": "text",
    "id": "5u8eZneY7QFC"
   },
   "source": [
    "### The Data\n",
    "\n",
    "Otis Dudley Duncan was a quantitative sociologist interested in measuring the prestige levels of different occupations. There were only 90 occupations that were rated for their prestige level in the 1947 National Opinion Research Center (NORC) survey. Duncan wanted to “fill in” prestige scores for unrated occupations by using income and education data about each occupation recorded by the 1950 census. When joining the NORC data with the 1950 census data, only 45 occupations could be matched. Ultimately, Duncan's goal was to create a model to explain prestige using different characteristics; using this model, one can predict the prestige of other occupations not recorded in the NORC survey.\n",
    "\n",
    "The Duncan dataset contains information on the prestige and other characteristics of 45 U. S. occupations in 1950. \n",
    "The variables are:\n",
    "\n",
    "`occupation` represents the type of occupation/title.\n",
    "\n",
    "`income` represents the percentage of occupational incumbents who earned incomes in excess of $3,500.\n",
    "\n",
    "`education` represents the percentage of incumbents in the occupation in the 1950 U.S. Census who were high school graduates.\n",
    "\n",
    "`prestige` represents the percentage of respondents in a survey who rated an occupation as “good” or “excellent” in prestige.\n",
    "\n",
    "\n",
    "\n",
    "\n"
   ]
  },
  {
   "cell_type": "code",
   "execution_count": 24,
   "metadata": {},
   "outputs": [
    {
     "data": {
      "text/html": [
       "<div>\n",
       "<style scoped>\n",
       "    .dataframe tbody tr th:only-of-type {\n",
       "        vertical-align: middle;\n",
       "    }\n",
       "\n",
       "    .dataframe tbody tr th {\n",
       "        vertical-align: top;\n",
       "    }\n",
       "\n",
       "    .dataframe thead th {\n",
       "        text-align: right;\n",
       "    }\n",
       "</style>\n",
       "<table border=\"1\" class=\"dataframe\">\n",
       "  <thead>\n",
       "    <tr style=\"text-align: right;\">\n",
       "      <th></th>\n",
       "      <th>occupation</th>\n",
       "      <th>type</th>\n",
       "      <th>income</th>\n",
       "      <th>education</th>\n",
       "      <th>prestige</th>\n",
       "    </tr>\n",
       "  </thead>\n",
       "  <tbody>\n",
       "    <tr>\n",
       "      <th>0</th>\n",
       "      <td>accountant</td>\n",
       "      <td>prof</td>\n",
       "      <td>62</td>\n",
       "      <td>86</td>\n",
       "      <td>82</td>\n",
       "    </tr>\n",
       "    <tr>\n",
       "      <th>1</th>\n",
       "      <td>pilot</td>\n",
       "      <td>prof</td>\n",
       "      <td>72</td>\n",
       "      <td>76</td>\n",
       "      <td>83</td>\n",
       "    </tr>\n",
       "    <tr>\n",
       "      <th>2</th>\n",
       "      <td>architect</td>\n",
       "      <td>prof</td>\n",
       "      <td>75</td>\n",
       "      <td>92</td>\n",
       "      <td>90</td>\n",
       "    </tr>\n",
       "    <tr>\n",
       "      <th>...</th>\n",
       "      <td>...</td>\n",
       "      <td>...</td>\n",
       "      <td>...</td>\n",
       "      <td>...</td>\n",
       "      <td>...</td>\n",
       "    </tr>\n",
       "    <tr>\n",
       "      <th>42</th>\n",
       "      <td>janitor</td>\n",
       "      <td>bc</td>\n",
       "      <td>7</td>\n",
       "      <td>20</td>\n",
       "      <td>8</td>\n",
       "    </tr>\n",
       "    <tr>\n",
       "      <th>43</th>\n",
       "      <td>policeman</td>\n",
       "      <td>bc</td>\n",
       "      <td>34</td>\n",
       "      <td>47</td>\n",
       "      <td>41</td>\n",
       "    </tr>\n",
       "    <tr>\n",
       "      <th>44</th>\n",
       "      <td>waiter</td>\n",
       "      <td>bc</td>\n",
       "      <td>8</td>\n",
       "      <td>32</td>\n",
       "      <td>10</td>\n",
       "    </tr>\n",
       "  </tbody>\n",
       "</table>\n",
       "<p>45 rows × 5 columns</p>\n",
       "</div>"
      ],
      "text/plain": [
       "    occupation  type  income  education  prestige\n",
       "0   accountant  prof      62         86        82\n",
       "1        pilot  prof      72         76        83\n",
       "2    architect  prof      75         92        90\n",
       "..         ...   ...     ...        ...       ...\n",
       "42     janitor    bc       7         20         8\n",
       "43   policeman    bc      34         47        41\n",
       "44      waiter    bc       8         32        10\n",
       "\n",
       "[45 rows x 5 columns]"
      ]
     },
     "execution_count": 24,
     "metadata": {},
     "output_type": "execute_result"
    }
   ],
   "source": [
    "duncan = pd.read_csv('duncan.csv').loc[:, [\"occupation\", \"income\", \"education\", \"prestige\"]]\n",
    "duncan"
   ]
  },
  {
   "cell_type": "markdown",
   "metadata": {},
   "source": [
    "It is usually a good idea to explore the data through visualization in order to gain an understanding of the relationships between your variables. Below, we will visualize the correlations between income, educationa and prestige."
   ]
  },
  {
   "cell_type": "code",
   "execution_count": 5,
   "metadata": {},
   "outputs": [
    {
     "data": {
      "text/plain": [
       "<matplotlib.collections.PathCollection at 0x1a1cf2cd30>"
      ]
     },
     "execution_count": 5,
     "metadata": {},
     "output_type": "execute_result"
    },
    {
     "data": {
      "image/png": "[encoded data removed]",
      "text/plain": [
       "<matplotlib.figure.Figure at 0x1a14003048>"
      ]
     },
     "metadata": {},
     "output_type": "display_data"
    }
   ],
   "source": [
    "plt.scatter(x=duncan[\"education\"], y=duncan[\"prestige\"])"
   ]
  },
  {
   "cell_type": "code",
   "execution_count": 6,
   "metadata": {},
   "outputs": [
    {
     "data": {
      "text/plain": [
       "<matplotlib.collections.PathCollection at 0x1a1d0224e0>"
      ]
     },
     "execution_count": 6,
     "metadata": {},
     "output_type": "execute_result"
    },
    {
     "data": {
      "image/png": "[encoded data removed]",
      "text/plain": [
       "<matplotlib.figure.Figure at 0x1a1ceedc88>"
      ]
     },
     "metadata": {},
     "output_type": "display_data"
    }
   ],
   "source": [
    "plt.scatter(x=duncan[\"income\"], y=duncan[\"prestige\"])"
   ]
  },
  {
   "cell_type": "code",
   "execution_count": 7,
   "metadata": {},
   "outputs": [
    {
     "data": {
      "text/plain": [
       "<matplotlib.collections.PathCollection at 0x1a1d0de5f8>"
      ]
     },
     "execution_count": 7,
     "metadata": {},
     "output_type": "execute_result"
    },
    {
     "data": {
      "image/png": "[encoded data removed]",
      "text/plain": [
       "<matplotlib.figure.Figure at 0x1a1cf9bc88>"
      ]
     },
     "metadata": {},
     "output_type": "display_data"
    }
   ],
   "source": [
    "plt.scatter(x=duncan[\"income\"], y=duncan[\"education\"])"
   ]
  },
  {
   "cell_type": "markdown",
   "metadata": {},
   "source": [
    "From the plots above, we see that both education and income are positively correlated with prestige; hence, both of these variables might be useful in helping explain prestige. Let's fit a linear model using these explanatory variables to explain prestige."
   ]
  },
  {
   "cell_type": "markdown",
   "metadata": {},
   "source": [
    "### Fitting the model \n",
    "\n",
    "We will create the following model, that explains the prestige of an occupation as a linear function of income and education:\n",
    "\n",
    "$$\n",
    "\\texttt{prestige}_i\n",
    "= \\theta_0^* \n",
    "+ \\theta_\\texttt{income}^*\\cdot\\texttt{income}_i\n",
    "+ \\theta_\\texttt{education}^*\\cdot\\texttt{education}_i\n",
    "+ \\varepsilon_i\n",
    "$$\n",
    "\n",
    "In order to create this model, we will define the design matrix (X) and our response variable (y):"
   ]
  },
  {
   "cell_type": "code",
   "execution_count": 31,
   "metadata": {},
   "outputs": [
    {
     "data": {
      "text/html": [
       "<div>\n",
       "<style scoped>\n",
       "    .dataframe tbody tr th:only-of-type {\n",
       "        vertical-align: middle;\n",
       "    }\n",
       "\n",
       "    .dataframe tbody tr th {\n",
       "        vertical-align: top;\n",
       "    }\n",
       "\n",
       "    .dataframe thead th {\n",
       "        text-align: right;\n",
       "    }\n",
       "</style>\n",
       "<table border=\"1\" class=\"dataframe\">\n",
       "  <thead>\n",
       "    <tr style=\"text-align: right;\">\n",
       "      <th></th>\n",
       "      <th>income</th>\n",
       "      <th>education</th>\n",
       "    </tr>\n",
       "  </thead>\n",
       "  <tbody>\n",
       "    <tr>\n",
       "      <th>0</th>\n",
       "      <td>62</td>\n",
       "      <td>86</td>\n",
       "    </tr>\n",
       "    <tr>\n",
       "      <th>1</th>\n",
       "      <td>72</td>\n",
       "      <td>76</td>\n",
       "    </tr>\n",
       "    <tr>\n",
       "      <th>2</th>\n",
       "      <td>75</td>\n",
       "      <td>92</td>\n",
       "    </tr>\n",
       "    <tr>\n",
       "      <th>3</th>\n",
       "      <td>55</td>\n",
       "      <td>90</td>\n",
       "    </tr>\n",
       "    <tr>\n",
       "      <th>4</th>\n",
       "      <td>64</td>\n",
       "      <td>86</td>\n",
       "    </tr>\n",
       "  </tbody>\n",
       "</table>\n",
       "</div>"
      ],
      "text/plain": [
       "   income  education\n",
       "0      62         86\n",
       "1      72         76\n",
       "2      75         92\n",
       "3      55         90\n",
       "4      64         86"
      ]
     },
     "execution_count": 31,
     "metadata": {},
     "output_type": "execute_result"
    }
   ],
   "source": [
    "X = duncan.loc[:, [\"income\", \"education\"]]\n",
    "X.head()"
   ]
  },
  {
   "cell_type": "code",
   "execution_count": 30,
   "metadata": {},
   "outputs": [
    {
     "data": {
      "text/plain": [
       "0    82\n",
       "1    83\n",
       "2    90\n",
       "3    76\n",
       "4    90\n",
       "Name: prestige, dtype: int64"
      ]
     },
     "execution_count": 30,
     "metadata": {},
     "output_type": "execute_result"
    }
   ],
   "source": [
    "y = duncan.loc[:, \"prestige\"]\n",
    "y.head()"
   ]
  },
  {
   "cell_type": "markdown",
   "metadata": {},
   "source": [
    "Below, we fit our linear model and print all the $\\theta$ coefficients of the model (from the equation above) after the model has been fit to the data. Note that these are our observed coefficients."
   ]
  },
  {
   "cell_type": "code",
   "execution_count": 19,
   "metadata": {},
   "outputs": [
    {
     "name": "stdout",
     "output_type": "stream",
     "text": [
      "\n",
      "intercept: -6.06\n",
      "income:    0.60\n",
      "education:    0.55\n",
      "\n"
     ]
    }
   ],
   "source": [
    "import sklearn.linear_model as lm\n",
    "\n",
    "linear_model = lm.LinearRegression()\n",
    "linear_model.fit(X, y)\n",
    "\n",
    "print(\"\"\"\n",
    "intercept: %.2f\n",
    "income:    %.2f\n",
    "education:    %.2f\n",
    "\"\"\" % (tuple([linear_model.intercept_]) + tuple(linear_model.coef_)))"
   ]
  },
  {
   "cell_type": "markdown",
   "metadata": {},
   "source": [
    "The coefficients above give us an estimate of the true coefficients. But had our sample data been different, we would have fit our model to different data, causing these coefficients to be different. We would like to explore what our coefficients might have been using bootstrapping methods.\n",
    "\n",
    "In our bootstrapping methods and analysis, we will focus on the coefficient of education. We would like to explore the partial relationship between prestige and education holding income constant (rather than the marginal relationship between prestige and education ignoring income). The partial regression coefficient $\\widehat\\theta_\\texttt{education}$ illustrates the partial relationship between prestige and education within our data. "
   ]
  },
  {
   "cell_type": "markdown",
   "metadata": {
    "colab_type": "text",
    "id": "vqGBN-NtGikV"
   },
   "source": [
    "### Method 1: Bootstrapping the Observations \n",
    "\n",
    "In this method, we consider the pairs $(X_i, y_i)$ to be our sample, so we construct the bootstrap resample by sampling with replacement from these pairs:\n",
    "\n",
    "$$\n",
    "(X_i^*, y_i^*) \n",
    "= (X_I, y_I), \\text{ where } I=1,\\dots,n \\text{ is sampled uniformly at random.}\n",
    "$$\n",
    "\n",
    "In other words, we sample n observations with replacement from our data points; this is our bootstrap sample. Then we will fit a new linear regression model to this sampled data and record the education coefficient $\\widehat\\theta_\\texttt{education}$; this coefficient is our bootstrap statistic.\n",
    "\n",
    "#### Bootstrap Sampling Distribution of $\\widehat\\theta_\\texttt{education}$\n",
    "\n"
   ]
  },
  {
   "cell_type": "code",
   "execution_count": 33,
   "metadata": {},
   "outputs": [],
   "source": [
    "def simple_resample(n): \n",
    "    return(np.random.randint(low = 0, high = n, size = n))\n",
    "\n",
    "def bootstrap(boot_pop, statistic, resample = simple_resample, replicates = 10000):\n",
    "    n = len(boot_pop)\n",
    "    resample_estimates = np.array([statistic(boot_pop[resample(n)]) for _ in range(replicates)])\n",
    "    return resample_estimates"
   ]
  },
  {
   "cell_type": "code",
   "execution_count": 34,
   "metadata": {
    "colab": {
     "autoexec": {
      "startup": false,
      "wait_interval": 0
     }
    },
    "colab_type": "code",
    "id": "JmlWkVa9MAXt"
   },
   "outputs": [],
   "source": [
    "def educ_coeff(data_array):\n",
    "    X = data_array[:, 1:]\n",
    "    y = data_array[:, 0]\n",
    "    \n",
    "    linear_model = lm.LinearRegression()\n",
    "    model = linear_model.fit(X, y)\n",
    "    theta_educ = model.coef_[1]\n",
    "\n",
    "    return theta_educ\n",
    "\n",
    "data_array = duncan.loc[:, [\"prestige\", \"income\", \"education\"]].values\n",
    "\n",
    "theta_hat_sampling = bootstrap(data_array, educ_coeff)"
   ]
  },
  {
   "cell_type": "code",
   "execution_count": 39,
   "metadata": {
    "colab_type": "text",
    "id": "pi0btxqTH4Je"
   },
   "outputs": [
    {
     "data": {
      "image/png": "[encoded data removed]",
      "text/plain": [
       "<matplotlib.figure.Figure at 0x1a1628fdd8>"
      ]
     },
     "metadata": {},
     "output_type": "display_data"
    }
   ],
   "source": [
    "plt.figure(figsize = (7, 5))\n",
    "plt.hist(theta_hat_sampling, bins = 30, normed = True)\n",
    "plt.xlabel(\"$\\\\widehat{\\\\theta}_{educ}$ Values\")\n",
    "plt.ylabel(\"Proportion per Unit\")\n",
    "plt.title(\"Bootstrap Sampling Distribution of $\\\\widehat{\\\\theta}_{educ}$ (Nonparametric)\");\n",
    "plt.show()\n"
   ]
  },
  {
   "cell_type": "markdown",
   "metadata": {
    "colab_type": "text",
    "id": "mtdypIy4GnxT"
   },
   "source": [
    "#### Estimating the True Coefficients"
   ]
  },
  {
   "cell_type": "markdown",
   "metadata": {},
   "source": [
    "Although we cannot directly measure $\\theta_\\texttt{education}$ we can use a bootstrap confidence interval to account for variability in the sample regression coefficient $\\widehat\\theta_{\\texttt{education}}$. Below, We construct an approximate 95% confidence interval for the true coefficient $\\widehat\\theta_\\texttt{education}$, using the bootstrap percentile method. The confidence interval extends from the 2.5th percentile to the 97.5th percentile of the 10,000 bootstrapped coefficients."
   ]
  },
  {
   "cell_type": "code",
   "execution_count": 25,
   "metadata": {
    "colab": {
     "autoexec": {
      "startup": false,
      "wait_interval": 0
     }
    },
    "colab_type": "code",
    "id": "4LWBmJJuGqwj"
   },
   "outputs": [
    {
     "data": {
      "text/plain": [
       "(0.23605055884719855, 0.77537485790998895)"
      ]
     },
     "execution_count": 25,
     "metadata": {},
     "output_type": "execute_result"
    }
   ],
   "source": [
    "left_confidence_interval_endpoint = np.percentile(theta_hat_sampling, 2.5)\n",
    "right_confidence_interval_endpoint = np.percentile(theta_hat_sampling, 97.5)\n",
    "\n",
    "left_confidence_interval_endpoint, right_confidence_interval_endpoint"
   ]
  },
  {
   "cell_type": "markdown",
   "metadata": {},
   "source": [
    "From the confidence interval above, we are fairly certain that the true coefficient lies between 0.236 and 0.775.\n",
    "\n",
    "#### Could the true coefficient be 0?\n",
    "\n",
    "Although we observed a positive partial relationship between education and prestige (from the 0.55 coefficient), what if the true coefficient is actually 0 and there is no partial relationship between education and prestige? In this case, the association that we observed was just due to variability in obtaining the points that form our sample.\n",
    "\n",
    "To formally test whether the partial relationship between education and prestige is real, we would like to test the following hypotheses:\n",
    "\n",
    "**Null Hypothesis:** The true partial coefficient is 0.\n",
    "\n",
    "**Alternative Hypothesis.** The true partial coefficient is not 0.\n",
    "\n",
    "Since we have already contructed a 95% confidence interval for the true coefficient, we just need to see whether 0 lies within this interval. Notice that 0 does not lie within our confidence interval above; therefore, we have enough evidence to reject the null hypothesis.  \n",
    "\n",
    "If the confidence interval for the true coefficient did contain 0, then we would not have enough evidence to reject the null hypothesis. In this case, the observed coefficient $\\widehat\\theta_{\\texttt{education}}$ would likely spurious.\n"
   ]
  },
  {
   "cell_type": "markdown",
   "metadata": {
    "colab_type": "text",
    "id": "wZugMnyxIe4E"
   },
   "source": [
    "#### Method 1 Bootstrapping Reflection\n",
    "\n",
    "In order to build the sampling distribution of the coefficient $\\widehat\\theta_{\\texttt{education}}$ and contruct the confidence interval for the true coefficient, we directly resampled the observations and created new regression models on our bootstrap samples. This method implicitly treats the regressors $X_i$ as random rather than fixed.\n",
    "\n",
    "In some cases, we may want to treat the $X_i$ as fixed (if, for example, the data were derive from an experimental\n",
    "design). In the case where the explanatory variables were controlled for, or the values of the explanatory variables were set by the experimenter, then we may consider the following alternative bootstrapping method."
   ]
  },
  {
   "cell_type": "markdown",
   "metadata": {
    "colab_type": "text",
    "id": "7Vih0zQDIK8A"
   },
   "source": [
    "### Method 2: Bootstrapping the Residuals\n",
    "\n",
    "In this method, we consider the *residuals* $e_i := y_i - X_i\\widehat\\beta $ to be our sample, so we construct the bootstrap resample by sampling with replacement from these pairs:\n",
    "\n",
    "$$\n",
    "(X_i^*, y_i^*) \n",
    "= (X_i, X_i\\widehat\\beta + e_I), \\text{ where } I=1,\\dots,n \\text{ is sampled uniformly at random.}\n",
    "$$\n",
    "\n",
    "Once we construct each bootstrap sample, we regress our new Y values onto the fixed X values to obtain bootstrap regression coefficients.\n",
    "\n",
    "For more clarity, let's break this method down into steps:\n",
    "\n",
    "1. Estimate the regression coefficients for the original sample, and calculate\n",
    "the fitted value $\\widehat y$ and residual $e_i$ for each observation.\n",
    "\n",
    "2. Select bootstrap samples of the residuals $e_1, e_2, \\dots e_n$ and calculate bootstrapped $y_i^*$ values by computing $\\widehat y + e_I$ where the fitted values $\\widehat y = X_i\\widehat\\beta$\n",
    "are obtained from the original regression. \n",
    "\n",
    "3.  Regress the bootstrapped $y_i^*$ values on the fixed X values to obtain bootstrap regression\n",
    "coefficients $\\widehat \\theta$.\n",
    "\n",
    "4. Repeat steps two and three several times in order to obtain several bootstrap regression coefficients $\\widehat \\theta_1, \\widehat \\theta_2, \\dots \\widehat \\theta_n$. These can be used to compute bootstrap standard errors and confidence intervals. "
   ]
  },
  {
   "cell_type": "code",
   "execution_count": 40,
   "metadata": {},
   "outputs": [],
   "source": [
    "y_hat = linear_model.predict(X)\n",
    "residuals = (y - y_hat).values\n",
    "\n",
    "def educ_coeff_semi(e, X = X, y_hat = y_hat):\n",
    "    y_new = y_hat + e\n",
    "    \n",
    "    linear_model = lm.LinearRegression()\n",
    "    model_new = linear_model.fit(X, y_new)\n",
    "    return(model_new.coef_[1])\n",
    "\n",
    "theta_hat_sampling_semi = bootstrap(residuals, educ_coeff_semi)"
   ]
  },
  {
   "cell_type": "code",
   "execution_count": 42,
   "metadata": {},
   "outputs": [
    {
     "data": {
      "image/png": "[encoded data removed]",
      "text/plain": [
       "<matplotlib.figure.Figure at 0x1a1696c2b0>"
      ]
     },
     "metadata": {},
     "output_type": "display_data"
    }
   ],
   "source": [
    "plt.figure(figsize = (7, 5))\n",
    "plt.hist(theta_hat_sampling_semi, bins = 30)\n",
    "plt.xlabel(\"$\\\\widehat{\\\\theta}_{educ}$ Values\")\n",
    "plt.ylabel(\"Proportion per Unit\")\n",
    "plt.title(\"Bootstrap Sampling Distribution of $\\\\widehat{\\\\theta}_{educ}$ (Semi-parametric)\");\n",
    "plt.show()"
   ]
  },
  {
   "cell_type": "markdown",
   "metadata": {
    "colab_type": "text",
    "id": "pbef39zNJg4H"
   },
   "source": [
    "#### Estimating the True Coefficients\n",
    "\n",
    "We can construct a confidence interval using the same technique as before."
   ]
  },
  {
   "cell_type": "code",
   "execution_count": 34,
   "metadata": {
    "colab": {
     "autoexec": {
      "startup": false,
      "wait_interval": 0
     }
    },
    "colab_type": "code",
    "id": "_p6JQze3JjAr"
   },
   "outputs": [
    {
     "data": {
      "text/plain": [
       "(0.36043155555175738, 0.73017873381649079)"
      ]
     },
     "execution_count": 34,
     "metadata": {},
     "output_type": "execute_result"
    }
   ],
   "source": [
    "left_confidence_interval_endpoint_semi = np.percentile(theta_hat_sampling_semi, 2.5)\n",
    "right_confidence_interval_endpoint_semi = np.percentile(theta_hat_sampling_semi, 97.5)\n",
    "\n",
    "left_confidence_interval_endpoint_semi, right_confidence_interval_endpoint_semi"
   ]
  },
  {
   "cell_type": "markdown",
   "metadata": {},
   "source": [
    "Notice this confidence interval is more narrow than the previous one we created. Also, observe that 0 is not in our confidence interval, so we can still be assured that the true coefficient is not 0. \n",
    "\n",
    "#### Confidence Interval Using Normal Theory\n",
    "\n",
    "We can also create confidence intervals based on normal theory. Since the $\\widehat \\theta_{educ}$ values appear normally distributed, we can construct a confidence interval using by computing the following:\n",
    "\n",
    "$[\\bar x - 1.96 \\frac {\\sigma}{\\sqrt n},  \\bar x - 1.96 \\frac {\\sigma}{\\sqrt n}]$\n",
    "\n",
    "where $\\bar x$ is the sample average, $z$ is a constant, $\\sigma$ is the sample standard deviation and $n$ is the sample size. Note that $z$ varies depending on the confidence level of the interval we are constructing.\n",
    "\n",
    "Since we do not know $\\sigma$, we can estimate it using our sample standard deviation $s$."
   ]
  },
  {
   "cell_type": "code",
   "execution_count": 44,
   "metadata": {},
   "outputs": [
    {
     "data": {
      "text/plain": [
       "(0.54562566661492085, 0.54566259670256678)"
      ]
     },
     "execution_count": 44,
     "metadata": {},
     "output_type": "execute_result"
    }
   ],
   "source": [
    "left_confidence_interval_endpoint_normal = np.mean(theta_hat_sampling_semi) - (1.96*(np.std(theta_hat_sampling_semi)/10000))\n",
    "right_confidence_interval_endpoint_normal = np.mean(theta_hat_sampling_semi) + (1.96*(np.std(theta_hat_sampling_semi)/10000))\n",
    "left_confidence_interval_endpoint_normal, right_confidence_interval_endpoint_normal\n"
   ]
  },
  {
   "cell_type": "markdown",
   "metadata": {},
   "source": [
    "We will not go into this method in great detail, but if you would like to learn more, refer to X."
   ]
  },
  {
   "cell_type": "markdown",
   "metadata": {
    "colab_type": "text",
    "id": "iEZLBQRqgxnb"
   },
   "source": [
    "#### Method 2 Bootstrapping Reflection\n",
    "\n",
    "Let's reflect on this method. By randomly reattaching resampled residuals to ﬁtted values, this \n",
    "procedure implicitly assumes that the errors are identically distributed. More specifically, this method assumes that the distribution of fluctuations around the regression curve is the same for all values of the input x. This is a disadvantage because the true errors may have nonconstant variance; this phenomenon is called heteroscedasticity.\n",
    "\n",
    "Although this method does not make any assumptions about the shape of the error distribution, it implicitly assumes that the functional form of the model is correct. By relying on the model to create each bootstrap sample, we assume that the model structure is appropriate.\n",
    "\n"
   ]
  },
  {
   "cell_type": "markdown",
   "metadata": {},
   "source": [
    "## Summary\n",
    "\n",
    "In this section, we highlight two different types of bootstrapping techniques used in a linear regression setting. \n",
    "\n",
    "In general, method 1 is more commonly used for bootstrapping. This method if often more robust because it makes less assumptions; for example, if an incorrect model is fitted, this method will still yield an appropriate sampling distribution of the parameter of interest.\n",
    "\n",
    "We use method 2 when we would like the treat X as fixed. Note that this method makes additional assumptions about the errors and form of the model. This method is more efficient if the correct model has been fitted."
   ]
  }
 ],
 "metadata": {
  "colab": {
   "default_view": {},
   "name": "Bootstrapping for Linear Regression.ipynb",
   "provenance": [],
   "version": "0.3.2",
   "views": {}
  },
  "kernelspec": {
   "display_name": "Python 3",
   "language": "python",
   "name": "python3"
  },
  "language_info": {
   "codemirror_mode": {
    "name": "ipython",
    "version": 3
   },
   "file_extension": ".py",
   "mimetype": "text/x-python",
   "name": "python",
   "nbconvert_exporter": "python",
   "pygments_lexer": "ipython3",
   "version": "3.6.4"
  }
 },
 "nbformat": 4,
 "nbformat_minor": 1
}
