{
 "cells": [
  {
   "cell_type": "markdown",
   "metadata": {
    "toc": true
   },
   "source": [
    "<h1>Table of Contents<span class=\"tocSkip\"></span></h1>\n",
    "<div class=\"toc\"><ul class=\"toc-item\"><li><span><a href=\"#The-Studentized-Bootstrap\" data-toc-modified-id=\"The-Studentized-Bootstrap-1\">The Studentized Bootstrap</a></span><ul class=\"toc-item\"><li><span><a href=\"#Repair-Times\" data-toc-modified-id=\"Repair-Times-1.1\">Repair Times</a></span></li><li><span><a href=\"#Comparing-Distributions-of-the-Statistic\" data-toc-modified-id=\"Comparing-Distributions-of-the-Statistic-1.2\">Comparing Distributions of the Statistic</a></span></li><li><span><a href=\"#The-Studentized-Bootstrap-Procedure\" data-toc-modified-id=\"The-Studentized-Bootstrap-Procedure-1.3\">The Studentized Bootstrap Procedure</a></span></li><li><span><a href=\"#Computing-the-Standard-Error-of-the-Resample-Statistic\" data-toc-modified-id=\"Computing-the-Standard-Error-of-the-Resample-Statistic-1.4\">Computing the Standard Error of the Resample Statistic</a></span></li><li><span><a href=\"#Comparison-of-Studentized-Bootstrap-with-Percentile-Bootstrap\" data-toc-modified-id=\"Comparison-of-Studentized-Bootstrap-with-Percentile-Bootstrap-1.5\">Comparison of Studentized Bootstrap with Percentile Bootstrap</a></span></li></ul></li><li><span><a href=\"#Summary\" data-toc-modified-id=\"Summary-2\">Summary</a></span></li></ul></div>"
   ]
  },
  {
   "cell_type": "code",
   "execution_count": 1,
   "metadata": {
    "collapsed": true
   },
   "outputs": [],
   "source": [
    "# HIDDEN\n",
    "import numpy as np\n",
    "import matplotlib.pyplot as plt\n",
    "import pandas as pd\n",
    "import seaborn as sns\n",
    "%matplotlib inline\n",
    "import ipywidgets as widgets\n",
    "from ipywidgets import interact, interactive, fixed, interact_manual\n",
    "import nbinteract as nbi\n",
    "\n",
    "sns.set()\n",
    "sns.set_context('talk')\n",
    "np.set_printoptions(threshold=20, precision=2, suppress=True)\n",
    "pd.options.display.max_rows = 7\n",
    "pd.options.display.max_columns = 8\n",
    "pd.set_option('precision', 2)\n",
    "# This option stops scientific notation for pandas\n",
    "# pd.set_option('display.float_format', '{:.2f}'.format)"
   ]
  },
  {
   "cell_type": "code",
   "execution_count": 2,
   "metadata": {
    "collapsed": true
   },
   "outputs": [],
   "source": [
    "# HIDDEN\n",
    "def df_interact(df, nrows=7, ncols=7):\n",
    "    '''\n",
    "    Outputs sliders that show rows and columns of df\n",
    "    '''\n",
    "    def peek(row=0, col=0):\n",
    "        return df.iloc[row:row + nrows, col:col + ncols]\n",
    "    if len(df.columns) <= ncols:\n",
    "        interact(peek, row=(0, len(df) - nrows, nrows), col=fixed(0))\n",
    "    else:\n",
    "        interact(peek,\n",
    "                 row=(0, len(df) - nrows, nrows),\n",
    "                 col=(0, len(df.columns) - ncols))\n",
    "    print('({} rows, {} columns) total'.format(df.shape[0], df.shape[1]))"
   ]
  },
  {
   "cell_type": "code",
   "execution_count": 3,
   "metadata": {
    "collapsed": true,
    "scrolled": true
   },
   "outputs": [],
   "source": [
    "# Generate a bunch of random points. To change the dataset, just\n",
    "# change this line and rerun notebook\n",
    "times = (np.random.exponential(scale=300, size=13825) +\n",
    "         np.abs(np.random.normal(loc=50, scale=40, size=13825)))"
   ]
  },
  {
   "cell_type": "markdown",
   "metadata": {},
   "source": [
    "## The Studentized Bootstrap\n",
    "\n"
   ]
  },
  {
   "cell_type": "markdown",
   "metadata": {},
   "source": [
    "**NOTE: Outline is kept here for reference -ak**\n",
    "<font color='red'>\n",
    "- Briefly review percentile bootstrap confidence interval procedure\n",
    "    - Make distinction to call this the \"percentile bootstrap\" method since we will introduce a new method in this section.\n",
    "- Briefly review bootstrap CI confidence meaning\n",
    "    - 95% confidence = 95% probability that taking a new sample from population and making bootstrap CI will have the parameter\n",
    "- However, this probability is not exactly 95%\n",
    "\n",
    "- We've taken a population and created one thousand bootstrap CIs for the population mean at each sample size from 4 to 100.\n",
    "    - Notice that at sample sizes below 20, fewer than 90% of the CIs actually contain the population parameter, not 95%."
   ]
  },
  {
   "cell_type": "markdown",
   "metadata": {},
   "source": [
    "The **bootstrap** is a process we learned about in Data 8 that we can use for estimating a population statistic using only one sample. The general procedure for bootstrapping is as follows:\n",
    "- Draw a sizable sample from the population.\n",
    "- Using this sample, we *resample with replacement* to form new samples of the same size.\n",
    "- We do this many times, taking the desired statistic of each resample (e.g. we take the median of each resample).\n",
    "\n",
    "Here, we end up with many test statistics from individual resamples, from which we can form a distribution. In Data 8, we were taught to form a confidence interval by taking the 2.5th percentile and the 97.5th percentile. This method of bootstrapping to create a confidence interval is called the **percentile bootstrap.** Generally speaking, this confidence interval will have a 95% chance of containing the actual population statistic. It is important to note, however, that this will NOT always be the case. \n",
    "\n",
    "Below, we've taken a population and created one thousand bootstrap *confidence intervals* for the population mean for different sample sizes. The y-axis represents the fraction of the one thousand confidence intervals that contained the real population mean. Notice that at sample sizes below 20, fewer than 90% of the confidence intervals actually contain the population mean."
   ]
  },
  {
   "cell_type": "code",
   "execution_count": 42,
   "metadata": {
    "collapsed": true,
    "scrolled": true
   },
   "outputs": [],
   "source": [
    "# Since this plot needs a bunch of prior code to run, I suggest\n",
    "# saving this plot as a .png and then just including the picture without the\n",
    "# code in the final notebook\n",
    "# trials['percentile'].plot()\n",
    "# plt.axhline(0.95, c='red', linestyle='--', label='95% coverage');"
   ]
  },
  {
   "cell_type": "markdown",
   "metadata": {},
   "source": [
    "<img src=\"trials.png\">"
   ]
  },
  {
   "cell_type": "markdown",
   "metadata": {},
   "source": [
    "<font color='red'>\n",
    "- Coverage error is the difference between the desired 95% confidence and reality.\n",
    "- We can see that the coverage error for our bootstrap method is rather high at small sample sizes.\n",
    "- We will introduce a new bootstrap method that has lower coverage error but requires more computation."
   ]
  },
  {
   "cell_type": "markdown",
   "metadata": {},
   "source": [
    "We can measure *coverage error* by calculating the difference between our measured confidence here and our desired 95% confidence. We can see that the coverage error for percentile bootstrap is very high at small sample sizes. In this chapter, we will introduce a new bootstrap method, called the **studentized bootstrap** method, that has a lower coverage error but requires more computation."
   ]
  },
  {
   "cell_type": "markdown",
   "metadata": {},
   "source": [
    "### Repair Times\n",
    "<font color='red'>\n",
    "- Introduce dataset: population of repair times (need Deb for more background)\n",
    "- Plot data"
   ]
  },
  {
   "cell_type": "markdown",
   "metadata": {},
   "source": [
    "Blah blah stuff about repair times and stuff. Here we plot the data. (need Deb for more background)"
   ]
  },
  {
   "cell_type": "code",
   "execution_count": 13,
   "metadata": {},
   "outputs": [
    {
     "data": {
      "image/png": "[encoded data removed]",
      "text/plain": [
       "<matplotlib.figure.Figure at 0x10a42e9e8>"
      ]
     },
     "metadata": {},
     "output_type": "display_data"
    }
   ],
   "source": [
    "plt.hist(times, bins=20);"
   ]
  },
  {
   "cell_type": "markdown",
   "metadata": {},
   "source": [
    "<font color='red'>\n",
    "- We are estimating the population mean"
   ]
  },
  {
   "cell_type": "markdown",
   "metadata": {},
   "source": [
    "Let's say we want to estimate the population mean of the repair times. We first need to define the main statistic function needed to do this. By passing in the whole population, we can see that actual average repair time is about 354."
   ]
  },
  {
   "cell_type": "code",
   "execution_count": 14,
   "metadata": {
    "collapsed": true
   },
   "outputs": [],
   "source": [
    "def stat(sample, axis=None):\n",
    "    return np.mean(sample, axis=axis)"
   ]
  },
  {
   "cell_type": "code",
   "execution_count": 15,
   "metadata": {},
   "outputs": [
    {
     "data": {
      "text/plain": [
       "353.71148132542334"
      ]
     },
     "execution_count": 15,
     "metadata": {},
     "output_type": "execute_result"
    }
   ],
   "source": [
    "theta = stat(times)\n",
    "theta"
   ]
  },
  {
   "cell_type": "markdown",
   "metadata": {},
   "source": [
    "<font color='red'>\n",
    "- Define method to take sample of size 10 from population"
   ]
  },
  {
   "cell_type": "markdown",
   "metadata": {},
   "source": [
    "Now we need to define a method that will return a list of indices so we can resample from the original sample without replacement."
   ]
  },
  {
   "cell_type": "code",
   "execution_count": 18,
   "metadata": {
    "collapsed": true
   },
   "outputs": [],
   "source": [
    "def take_sample(n=10):\n",
    "    return np.random.choice(times, size=n, replace=False)"
   ]
  },
  {
   "cell_type": "markdown",
   "metadata": {},
   "source": [
    "<font color='red'>\n",
    "- Normally, we aren't able to draw many samples from the population. This time, we have access to the population so we will take many samples of size 10 and plot the distribution of sample means:"
   ]
  },
  {
   "cell_type": "markdown",
   "metadata": {},
   "source": [
    "In real life, we won't be able to draw many samples from the population (we use bootstrap to be able to use just one sample). But for demonstration purposes, we have access to the entire population, so we will take 1000 samples of size 10 and plot the distribution of the sample means."
   ]
  },
  {
   "cell_type": "code",
   "execution_count": 19,
   "metadata": {
    "scrolled": true
   },
   "outputs": [
    {
     "data": {
      "image/png": "[encoded data removed]",
      "text/plain": [
       "<matplotlib.figure.Figure at 0x10a4200b8>"
      ]
     },
     "metadata": {},
     "output_type": "display_data"
    }
   ],
   "source": [
    "samples_from_pop = 1000\n",
    "\n",
    "pop_sampling_dist = np.array(\n",
    "    [stat(take_sample()) for _ in range(samples_from_pop)]\n",
    ")\n",
    "\n",
    "plt.hist(pop_sampling_dist, bins=30);"
   ]
  },
  {
   "cell_type": "markdown",
   "metadata": {},
   "source": [
    "<font color='red'>\n",
    "- We see that this distribution is slightly skewed right because of the skewed distribution of the original data."
   ]
  },
  {
   "cell_type": "markdown",
   "metadata": {},
   "source": [
    "We can see that the center of this distribution is ~350, and that it is skewed right because of the skewed distribution of the original data. "
   ]
  },
  {
   "cell_type": "markdown",
   "metadata": {},
   "source": [
    "### Comparing Distributions of the Statistic\n",
    "<font color='red'>\n",
    "- We use $ \\theta $ to refer to the population parameter\n",
    "    - In this case, the average repair time\n",
    "- We use $ \\hat \\theta $ to refer to the sample statistic\n",
    "    - In this case, the average repair time of a sample.\n",
    "    - The plot above shows an empirical distribution of $ \\hat \\theta $.\n",
    "- Recall that the bootstrap procedure takes a resample of the original sample. For each resample, we calculate $ \\tilde \\theta $, the statistic of the resample.\n",
    "    - In this case, the average repair time of a resample.\n",
    "- In order for the bootstrap to work, we need the sample to look similar to the population so that the resample also looks similar to the population.\n",
    "- If this is true, the distribution of average repair times using the resamples will look similar to the distribution of average repair times using multiple samples from the population.\n",
    "\n",
    "\n",
    "- We now take a sample of size 10 and bootstrap it 1000 times, plotting the distribution of $ \\tilde \\theta $."
   ]
  },
  {
   "cell_type": "markdown",
   "metadata": {},
   "source": [
    "Now we can look at how a single bootstrap distribution can stack up against a distribution sampled from the population. \n",
    "\n",
    "Generally, we are aiming to estimate $\\theta$, our population parameter (in this case, the average repair time of the population, which we found to be ~354). Each individual sample can be used to calculate an estimated statistic, $\\hat\\theta$ (in this case, the average repair time of a single sample). The plot above shows what we call an *empirical distribution* of $\\hat\\theta$, which is calculated of many estimated statistics from many samples from the population. For the bootstrap, however, we want the statistic of the resample of the original sample, which is called $\\tilde\\theta$. \n",
    "\n",
    "In order for the bootstrap to work, we want our original sample to look similar to the population, so that resamples also look similar to the population. If our original sample *does* look like the population, then the distribution of average repair times calculated from the resamples will look similar to the empirical distribution of samples directly from the population.\n",
    "\n",
    "Let's take a look at how an individual bootstrap distribution will look. We can define methods to take samples of size 10 without replacement and bootstrap it 1000 times to get our distribution."
   ]
  },
  {
   "cell_type": "code",
   "execution_count": 43,
   "metadata": {
    "collapsed": true
   },
   "outputs": [],
   "source": [
    "bootstrap_reps = 1000\n",
    "\n",
    "def resample(sample, reps):\n",
    "    n = len(sample)\n",
    "    return np.random.choice(sample, size=reps * n).reshape((reps, n))\n",
    "\n",
    "def bootstrap_stats(sample, reps=bootstrap_reps, stat=stat):\n",
    "    resamples = resample(sample, reps)\n",
    "    return stat(resamples, axis=1)"
   ]
  },
  {
   "cell_type": "code",
   "execution_count": 30,
   "metadata": {},
   "outputs": [
    {
     "data": {
      "image/png": "[encoded data removed]",
      "text/plain": [
       "<matplotlib.figure.Figure at 0x111d7e3c8>"
      ]
     },
     "metadata": {},
     "output_type": "display_data"
    }
   ],
   "source": [
    "np.random.seed(0)\n",
    "\n",
    "sample = take_sample()\n",
    "\n",
    "plt.hist(bootstrap_stats(sample), bins=30);"
   ]
  },
  {
   "cell_type": "markdown",
   "metadata": {},
   "source": [
    "<font color='red'>\n",
    "- As you can see, the distribution of $ \\tilde \\theta $ doesn't look like the distribution of $ \\hat \\theta $.\n",
    "- This causes the percentile CI to perform poorly.\n",
    "- Side-by-side comparison:"
   ]
  },
  {
   "cell_type": "markdown",
   "metadata": {},
   "source": [
    "As you can see, our distribution of $\\tilde\\theta$ doesn't look *quite* like the distribution of $\\hat\\theta$, likely because our original sample did not look like the population. As a result, our confidence intervals perform rather poorly. Below we can see a side-by-side comparison of the two distributions:"
   ]
  },
  {
   "cell_type": "code",
   "execution_count": 24,
   "metadata": {},
   "outputs": [
    {
     "data": {
      "image/png": "[encoded data removed]",
      "text/plain": [
       "<matplotlib.figure.Figure at 0x111ed7a58>"
      ]
     },
     "metadata": {},
     "output_type": "display_data"
    }
   ],
   "source": [
    "plt.figure(figsize=(10, 4))\n",
    "plt.subplot(121)\n",
    "plt.hist(pop_sampling_dist, bins=30);\n",
    "\n",
    "plt.subplot(122)\n",
    "plt.hist(bootstrap_stats(sample), bins=30);"
   ]
  },
  {
   "cell_type": "markdown",
   "metadata": {},
   "source": [
    "### The Studentized Bootstrap Procedure\n",
    "\n",
    "<font color='red'>\n",
    "- Idea: normalize the distribution of the test statistic $ \\tilde \\theta $ to be centered at 0 and have a standard deviation of 1.\n",
    "- This corrects for the spread difference and skew of the test statistic distribution. (Probably want more clarification from Deb here.)\n",
    "- However, we will need some derivation to make this work"
   ]
  },
  {
   "cell_type": "markdown",
   "metadata": {},
   "source": [
    "As we saw, the main issue with percentile bootstrap procedure is that it takes a larger sample size to really reach the desired 95% confidence. With the studentized bootstrap procedure, we can do a little more calculation to get better coverage at smaller sample sizes.\n",
    "\n",
    "The idea behind the studentized bootstrap procedure is to normalize the distribution of the test statistic $\\tilde\\theta$ to be centered at 0 and have a standard deviation of 1. This will correct for the spread difference and skew of the original distribution. In order to do all of this, we need to do some derivation first."
   ]
  },
  {
   "cell_type": "markdown",
   "metadata": {},
   "source": [
    "<font color='red'>\n",
    "- In the percentile method, we generate many values of $ \\tilde \\theta $, then take the 2.5th and 97.5th percentiles of these values for our CI.\n",
    "    - We use the notation $ q_{2.5} $ and $ q_{97.5} $ to refer to these percentiles.\n",
    "    - Note that both of these values come from the bootstrap statistics\n",
    "\n",
    "- We hope that:\n",
    "\n",
    "$$\n",
    "\\begin{aligned}\n",
    "0.95 &= {\\cal P}\\left(q_{2.5} \\leq \\theta \\leq q_{97.5}\\right)\n",
    "\\end{aligned}\n",
    "$$\n",
    "\n",
    "- That is, we hope that the population parameter has a 95% chance of being in a confidence interval created from a new sample from the population.\n",
    "- We make two approximations: since a random sample looks like the population, we approximate $ \\theta $ with $ \\hat \\theta $. Since a random resample looks like the original sample, we we approximate $ \\hat \\theta $ with $ \\tilde \\theta $.\n",
    "- These approximations introduce error into the CI generation which results in the coverage error we see above."
   ]
  },
  {
   "cell_type": "markdown",
   "metadata": {},
   "source": [
    "In the percentile bootstrap procedure, we generate many values of $\\tilde\\theta$, and then we take the 2.5th and 97.5th percentiles for our confidence interval. For short, we refer to these percentiles as $q_{2.5}$ and $q_{97.5}$. Note that both of these values come from the bootstrap statistics.\n",
    "\n",
    "With this procedure, we hope that the probability that the actual population statistic lies between our confidence intervals is about 95%. In other words, we hope for the following equality:\n",
    "\n",
    "$$\n",
    "\\begin{aligned}\n",
    "0.95 &= {\\cal P}\\left(q_{2.5} \\leq \\theta \\leq q_{97.5}\\right)\n",
    "\\end{aligned}\n",
    "$$\n",
    "\n",
    "We make two approximations during this procedure: since we assume our random sample looks like the population, we approximate $\\theta$ with $\\hat\\theta$; since we assume a random resample looks like the original sample, we approximate $\\hat\\theta$ with $\\tilde\\theta$. Since the second approximation relies on the first one, they both introduce error in the confidence interval generation, which creates the coverage error we saw in the plot."
   ]
  },
  {
   "cell_type": "markdown",
   "metadata": {},
   "source": [
    "<font color='red'>\n",
    "- We reduce this error by normalizing our statistic.\n",
    "    - instead of using $ \\tilde \\theta $ directly, we use:\n",
    "    \n",
    "$$\n",
    "\\begin{aligned}\n",
    "\\frac\n",
    "    {\\tilde{\\theta} - {\\hat{\\theta}}}\n",
    "    {SE({\\tilde{\\theta}})}\n",
    "\\end{aligned}\n",
    "$$\n",
    "\n",
    "- First, we normalize the statistic by the sample statistic\n",
    "- Then, we divide by the standard deviation of the resample statistic (also called the standard error, or SE).\n",
    "- This normalized statistic is called the Student's t-statistic, so we call this bootstrap method the Studentized bootstrap or the bootstrap-$t$ method."
   ]
  },
  {
   "cell_type": "markdown",
   "metadata": {},
   "source": [
    "We aim to reduce this error by normalizing our statistic. Instead of using our calculated value of $\\tilde\\theta$ directly, we use: \n",
    "\n",
    "$$\n",
    "\\begin{aligned}\n",
    "\\frac\n",
    "    {\\tilde{\\theta} - {\\hat{\\theta}}}\n",
    "    {SE({\\tilde{\\theta}})}\n",
    "\\end{aligned}\n",
    "$$\n",
    "\n",
    "This will normalize the resample statistic by the sample statistic, and then divide by the standard deviation of the resample statistic (this standard deviation is also called the standard error, or SE).\n",
    "\n",
    "This whole normalized statistic is called the Student's t-statistic, so we call this bootstrap method the **studentized bootstrap** or the **bootstrap-t** method."
   ]
  },
  {
   "cell_type": "markdown",
   "metadata": {},
   "source": [
    "<font color='red'>\n",
    "- As usual, we compute many of these statistics, then take the 2.5th and 97.5th percentiles — $ q_{2.5} $ and $ q_{97.5} $.\n",
    "- We hope that the normalized population parameter lies between these percentiles:"
   ]
  },
  {
   "cell_type": "markdown",
   "metadata": {},
   "source": [
    "As usual, we compute this statistic for many resamples, and then take the 2.5th and 97.5th percentiles — $ q_{2.5} $ and $ q_{97.5} $. As such, we hope that the normalized population parameter lies between these percentiles:\n",
    "\n",
    "$$\n",
    "\\begin{aligned}\n",
    "0.95 &= {\\cal P}\\left(q_{2.5} \\leq \\frac{\\hat{\\theta} - \\theta} {SE({\\hat{\\theta}})} \\leq q_{97.5}\\right) \\\\\n",
    "\\end{aligned}\n",
    "$$"
   ]
  },
  {
   "cell_type": "markdown",
   "metadata": {},
   "source": [
    "<font color='red'>\n",
    "- Solving the inequality for $ \\theta $:"
   ]
  },
  {
   "cell_type": "markdown",
   "metadata": {},
   "source": [
    "We can now solve the inequality for $\\theta$:"
   ]
  },
  {
   "cell_type": "markdown",
   "metadata": {},
   "source": [
    "$$\n",
    "\\begin{aligned}\n",
    "0.95 &= {\\cal P}\\left(q_{2.5} \\leq \\frac{\\hat{\\theta} - \\theta} {SE({\\hat{\\theta}})} \\leq q_{97.5}\\right) \\\\\n",
    " &= {\\cal P}\\left(q_{2.5}SE({\\hat{\\theta}}) \\leq {\\hat{\\theta} - \\theta} \\leq q_{97.5}SE({\\hat{\\theta}})\\right) \\\\\n",
    " &= {\\cal P}\\left(\\hat{\\theta} - q_{97.5}SE({\\hat{\\theta}}) \\leq {\\theta} \\leq \\hat{\\theta} - q_{2.5}SE({\\hat{\\theta}})\\right) \n",
    "\\end{aligned}\n",
    "$$"
   ]
  },
  {
   "cell_type": "markdown",
   "metadata": {},
   "source": [
    "<font color='red'>\n",
    "- This means we can create a 95% confidence interval using:\n",
    "    - $ \\hat{\\theta} $, the test statistic computed on the sample.\n",
    "    - $ q_{2.5} $ and $ q_{97.5} $, the percentiles of the normalized statistic computed on the resamples.\n",
    "    - $ SE(\\hat \\theta) $, the standard deviation of the sample test statistic. We estimate this quantity by using the standard deviation of the resample test statistics."
   ]
  },
  {
   "cell_type": "markdown",
   "metadata": {},
   "source": [
    "This means we can construct our confidence interval using just $\\hat\\theta$ (the test statistic on the original sample), $q_{2.5}$ and $q_{97.5}$ (the percentiles of the normalized statistic computed with the resamples), and $SE(\\hat\\theta)$ (the standard deviation of the sample test statistic). This last value is estimated by using the standard deviation of the resample test statistics."
   ]
  },
  {
   "cell_type": "markdown",
   "metadata": {},
   "source": [
    "<font color='red'>\n",
    "- Thus, to compute a studentized bootstrap CI, we perform the following procedure:\n",
    "\n",
    "\n",
    "1. Compute $ \\hat{\\theta} $, the test statistic on the sample.\n",
    "1. Bootstrap the sample a large number of times.\n",
    "1. For each bootstrap resample:\n",
    "    1. Compute $ \\tilde \\theta $, the test statistic on the resample.\n",
    "    1. Compute $ SE({\\tilde{\\theta}}) $.\n",
    "    1. Compute $ q =  \\frac{\\tilde{\\theta} - {\\hat{\\theta}}}{SE({\\tilde{\\theta}})} $.\n",
    "1. Estimate $ SE(\\hat \\theta) $ using the standard deviation of the $ \\tilde \\theta $ values.\n",
    "1. The confidence interval is thus: $ \\left[ \\hat{\\theta} - q_{97.5}SE({\\hat{\\theta}}), \\hat{\\theta} - q_{2.5}SE({\\hat{\\theta}}) \\right] $."
   ]
  },
  {
   "cell_type": "markdown",
   "metadata": {},
   "source": [
    "Thus, to compute a studentized bootstrap CI, we perform the following procedure:\n",
    "\n",
    "1. Compute $ \\hat{\\theta} $, the test statistic on the sample.\n",
    "1. Bootstrap the sample a large number of times.\n",
    "1. For each bootstrap resample:\n",
    "    1. Compute $ \\tilde \\theta $, the test statistic on the resample.\n",
    "    1. Compute $ SE({\\tilde{\\theta}}) $.\n",
    "    1. Compute $ q =  \\frac{\\tilde{\\theta} - {\\hat{\\theta}}}{SE({\\tilde{\\theta}})} $.\n",
    "1. Estimate $ SE(\\hat \\theta) $ using the standard deviation of the $ \\tilde \\theta $ values.\n",
    "1. Calculate the confidence intervals thusly: $ \\left[ \\hat{\\theta} - q_{97.5}SE({\\hat{\\theta}}), \\hat{\\theta} - q_{2.5}SE({\\hat{\\theta}}) \\right]$."
   ]
  },
  {
   "cell_type": "markdown",
   "metadata": {},
   "source": [
    "### Computing the Standard Error of the Resample Statistic\n",
    "<font color='red'>\n",
    "\n",
    "- Note that $ SE(\\tilde \\theta) $, the standard error of the resample test statistic, is not always easy to compute.\n",
    "- For the sample mean, $ SE(\\tilde \\theta) = \\frac{\\tilde \\sigma}{\\sqrt n} $, the standard deviation of the resample values divided by the square root of the sample size.\n",
    "    - Note that we have to use the resample values to compute $ SE(\\tilde \\theta) $; we use the sample values to compute $ SE(\\hat \\theta) $."
   ]
  },
  {
   "cell_type": "markdown",
   "metadata": {},
   "source": [
    "It is important to note that $SE(\\hat\\theta)$, the standard error of the resample test statistic, is not always easy to compute and is dependent on the test statistic. For the sample mean, $SE(\\tilde\\theta)=\\frac{\\tilde\\sigma}{\\sqrt{n}}$, the standard deviation of the resample values divided by the square root of the sample size. \n",
    "\n",
    "Also remember that we have to use the resample values to compute $ SE(\\tilde \\theta) $; we use the sample values to compute $ SE(\\hat \\theta) $."
   ]
  },
  {
   "cell_type": "markdown",
   "metadata": {},
   "source": [
    "<font color='red'>\n",
    "\n",
    "- However, if the SE doesn't have an analytic expression, we have to do a second-level bootstrap. We bootstrap each resample, compute the test stat on each second level resample, and compute the standard deviation of the second level test stats.\n",
    "    - Typically we do around 50 second-level resamples\n",
    "- This increases computation time for the studentized bootstrap CI.\n",
    "    - If we do 50 second-level resamples, the entire procedure takes around 50 times as long."
   ]
  },
  {
   "cell_type": "markdown",
   "metadata": {},
   "source": [
    "If our test statistic, however, does not have an analytic expression (like the one we have for the sample mean), then we need to do a second-level bootstrap. For each resample, we bootstrap it again, and compute the test statistic on each second-level resample (the resampled resample), and compute the standard deviation using these second-level statistics. Typically, we do around 50 second-level resamples.\n",
    "\n",
    "This greatly increases computation time for the studentized bootstrap procedure. If we do 50 second-level resamples, the entire procedure will take 50 times as long as if we just had an analytic expression for $SE(\\tilde\\theta)$."
   ]
  },
  {
   "cell_type": "markdown",
   "metadata": {},
   "source": [
    "### Comparison of Studentized Bootstrap with Percentile Bootstrap\n",
    "\n",
    "<font color='red'>\n",
    "- Now we compare the coverage of the two methods using the repair times dataset"
   ]
  },
  {
   "cell_type": "markdown",
   "metadata": {},
   "source": [
    "To assess the tradeoffs of studentized and percentile bootstrap, let's compare the coverage of the two methods using the repair times dataset."
   ]
  },
  {
   "cell_type": "code",
   "execution_count": 27,
   "metadata": {
    "scrolled": true
   },
   "outputs": [
    {
     "data": {
      "image/png": "[encoded data removed]",
      "text/plain": [
       "<matplotlib.figure.Figure at 0x111e00b38>"
      ]
     },
     "metadata": {},
     "output_type": "display_data"
    }
   ],
   "source": [
    "plt.hist(times, bins=20);"
   ]
  },
  {
   "cell_type": "markdown",
   "metadata": {},
   "source": [
    "<font color='red'>\n",
    "\n",
    "- We will take many samples from the population, compute a percentile CI and studentized CI for each sample, and compute the coverage.\n",
    "- We repeat this for many sample sizes to see how the coverage changes with the sample size"
   ]
  },
  {
   "cell_type": "markdown",
   "metadata": {},
   "source": [
    "We will take many samples from the population, compute a percentile confidence interval and a studentized confidence interval for each sample, and then compute the coverage for each. We will repeat this for varying sample sizes to see how the coverage of each method changes with sample size."
   ]
  },
  {
   "cell_type": "markdown",
   "metadata": {},
   "source": [
    "<font color='red'>\n",
    "\n",
    "- To compute percentile CI:"
   ]
  },
  {
   "cell_type": "markdown",
   "metadata": {},
   "source": [
    "We can use `np.percentile` to compute the percentile confidence interval below:"
   ]
  },
  {
   "cell_type": "code",
   "execution_count": 31,
   "metadata": {
    "collapsed": true
   },
   "outputs": [],
   "source": [
    "def percentile_ci(sample, reps=bootstrap_reps, stat=stat):\n",
    "    stats = bootstrap_stats(sample, reps, stat)\n",
    "    return np.percentile(stats, [2.5, 97.5])"
   ]
  },
  {
   "cell_type": "code",
   "execution_count": 32,
   "metadata": {},
   "outputs": [
    {
     "data": {
      "text/plain": [
       "array([ 239.85,  756.91])"
      ]
     },
     "execution_count": 32,
     "metadata": {},
     "output_type": "execute_result"
    }
   ],
   "source": [
    "np.random.seed(0)\n",
    "sample = take_sample(n=10)\n",
    "percentile_ci(sample)"
   ]
  },
  {
   "cell_type": "markdown",
   "metadata": {},
   "source": [
    "<font color='red'>\n",
    "\n",
    "- To compute studentized bootstrap, we need a lot more code:"
   ]
  },
  {
   "cell_type": "markdown",
   "metadata": {},
   "source": [
    "To do the studentized bootstrap, we need a lot more code:"
   ]
  },
  {
   "cell_type": "code",
   "execution_count": 33,
   "metadata": {
    "collapsed": true
   },
   "outputs": [],
   "source": [
    "def studentized_stats(sample, reps=bootstrap_reps, stat=stat):\n",
    "    '''\n",
    "    Computes studentized test statistics for the provided sample.\n",
    "    \n",
    "    Returns the studentized test statistics and the SD of the\n",
    "    resample test statistics.\n",
    "    '''\n",
    "    # Bootstrap the sample and compute \\tilde \\theta values\n",
    "    resamples = resample(sample, reps)\n",
    "    resample_stats = stat(resamples, axis=1)\n",
    "    resample_sd = np.std(resample_stats)\n",
    "    \n",
    "    # Compute SE of \\tilde \\theta.\n",
    "    # Since we're estimating the sample mean, we can use the formula.\n",
    "    # Without the formula, we would have to do a second level bootstrap here.\n",
    "    resample_std_errs = np.std(resamples, axis=1) / np.sqrt(len(sample))\n",
    "    \n",
    "    # Compute studentized test statistics (q values)\n",
    "    sample_stat = stat(sample)\n",
    "    t_statistics = (resample_stats - sample_stat) / resample_std_errs\n",
    "    return t_statistics, resample_sd\n",
    " \n",
    "def studentized_ci(sample, reps=bootstrap_reps, stat=stat):\n",
    "    '''\n",
    "    Computes 95% studentized bootstrap CI\n",
    "    '''\n",
    "    t_statistics, resample_sd = studentized_stats(sample, reps, stat)\n",
    "    lower, upper = np.percentile(t_statistics, [2.5, 97.5])\n",
    "    \n",
    "    sample_stat = stat(sample)\n",
    "    return (sample_stat - resample_sd * upper,\n",
    "            sample_stat - resample_sd * lower)"
   ]
  },
  {
   "cell_type": "code",
   "execution_count": 37,
   "metadata": {},
   "outputs": [
    {
     "data": {
      "text/plain": [
       "(245.85339212384062, 1746.4309329397261)"
      ]
     },
     "execution_count": 37,
     "metadata": {},
     "output_type": "execute_result"
    }
   ],
   "source": [
    "np.random.seed(0)\n",
    "sample = take_sample(n=10)\n",
    "studentized_ci(sample)"
   ]
  },
  {
   "cell_type": "markdown",
   "metadata": {},
   "source": [
    "<font color='red'>\n",
    "\n",
    "- Now, we compare coverages of these two methods as the sample size increases from 4 to 100."
   ]
  },
  {
   "cell_type": "markdown",
   "metadata": {},
   "source": [
    "Now that everything is written out, we can compare the coverages of the two methods as the sample size increases from 4 to 100."
   ]
  },
  {
   "cell_type": "code",
   "execution_count": 38,
   "metadata": {
    "collapsed": true
   },
   "outputs": [],
   "source": [
    "def coverage(cis, parameter=theta):\n",
    "    return (\n",
    "        np.count_nonzero([lower < parameter < upper for lower, upper in cis])\n",
    "        / len(cis)\n",
    "    )"
   ]
  },
  {
   "cell_type": "code",
   "execution_count": 39,
   "metadata": {
    "collapsed": true
   },
   "outputs": [],
   "source": [
    "def run_trials(sample_sizes):\n",
    "    np.random.seed(0)\n",
    "    percentile_coverages = []\n",
    "    studentized_coverages = []\n",
    "    \n",
    "    for n in sample_sizes:\n",
    "        samples = [take_sample(n) for _ in range(samples_from_pop)]\n",
    "        percentile_cis = [percentile_ci(sample) for sample in samples]\n",
    "        studentized_cis = [studentized_ci(sample) for sample in samples]\n",
    "        \n",
    "        percentile_coverages.append(coverage(percentile_cis))\n",
    "        studentized_coverages.append(coverage(studentized_cis))\n",
    "    return pd.DataFrame({\n",
    "        'percentile': percentile_coverages,\n",
    "        'studentized': studentized_coverages,\n",
    "    }, index=sample_sizes)"
   ]
  },
  {
   "cell_type": "code",
   "execution_count": 40,
   "metadata": {},
   "outputs": [
    {
     "name": "stderr",
     "output_type": "stream",
     "text": [
      "/Users/andrewkim/anaconda3/lib/python3.6/site-packages/ipykernel_launcher.py:20: RuntimeWarning: divide by zero encountered in true_divide\n"
     ]
    },
    {
     "name": "stdout",
     "output_type": "stream",
     "text": [
      "CPU times: user 1min 53s, sys: 1.02 s, total: 1min 54s\n",
      "Wall time: 1min 57s\n"
     ]
    }
   ],
   "source": [
    "%%time\n",
    "\n",
    "trials = run_trials(np.arange(4, 101, 2))"
   ]
  },
  {
   "cell_type": "code",
   "execution_count": 41,
   "metadata": {},
   "outputs": [
    {
     "data": {
      "image/png": "[encoded data removed]",
      "text/plain": [
       "<matplotlib.figure.Figure at 0x11191c358>"
      ]
     },
     "metadata": {},
     "output_type": "display_data"
    }
   ],
   "source": [
    "trials.plot()\n",
    "plt.axhline(0.95, c='red', linestyle='--', label='95% coverage')\n",
    "plt.legend();"
   ]
  },
  {
   "cell_type": "markdown",
   "metadata": {},
   "source": [
    "<font color='red'>\n",
    "\n",
    "- The studentized bootstrap has much better coverage at small sample sizes"
   ]
  },
  {
   "cell_type": "markdown",
   "metadata": {},
   "source": [
    "As we can see, the studentized bootstrap has a much better coverage at smaller sample sizes."
   ]
  },
  {
   "cell_type": "markdown",
   "metadata": {},
   "source": [
    "## Summary\n",
    "<font color='red'>\n",
    "- Studentized bootstrap has better coverage than percentile bootstrap, especially at small samples sizes\n",
    "- We use this method when sample size is small or when original data is skewed\n",
    "- However, it requires more computation, especially when SE of statistic is not easy to compute."
   ]
  },
  {
   "cell_type": "markdown",
   "metadata": {},
   "source": [
    "The studentized bootstrap for the most part is better than the percentile bootstrap, especially if we only have a small sample to start with. We generally want to use this method when the sample size is small or when the original data is skewed. The main drawback is its computation time, which is further magnified if $SE(\\tilde\\theta)$ is not easy to compute."
   ]
  }
 ],
 "metadata": {
  "kernelspec": {
   "display_name": "Python 3",
   "language": "python",
   "name": "python3"
  },
  "language_info": {
   "codemirror_mode": {
    "name": "ipython",
    "version": 3
   },
   "file_extension": ".py",
   "mimetype": "text/x-python",
   "name": "python",
   "nbconvert_exporter": "python",
   "pygments_lexer": "ipython3",
   "version": "3.6.1"
  },
  "toc": {
   "nav_menu": {},
   "number_sections": false,
   "sideBar": false,
   "skip_h1_title": false,
   "title_cell": "Table of Contents",
   "title_sidebar": "Contents",
   "toc_cell": true,
   "toc_position": {},
   "toc_section_display": true,
   "toc_window_display": false
  }
 },
 "nbformat": 4,
 "nbformat_minor": 2
}
