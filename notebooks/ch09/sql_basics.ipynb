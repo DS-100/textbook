{
  "nbformat": 4,
  "nbformat_minor": 0,
  "metadata": {
    "colab": {
      "name": "SQL_Syntax.ipynb",
      "version": "0.3.2",
      "views": {},
      "default_view": {},
      "provenance": [],
      "collapsed_sections": []
    },
    "kernelspec": {
      "display_name": "Python 3",
      "language": "python",
      "name": "python3"
    }
  },
  "cells": [
    {
      "metadata": {
        "id": "Zs_2UGiADgdQ",
        "colab_type": "text"
      },
      "cell_type": "markdown",
      "source": [
        "# The Relational Database Model and SQL"
      ]
    },
    {
      "metadata": {
        "id": "11g0cRhWDgdW",
        "colab_type": "text"
      },
      "cell_type": "markdown",
      "source": [
        "## The Relational Model \n",
        "\n",
        "A **database** is an organized collection of data. A long time ago, data used to be stored in specialized data structures that were designed for specific tasks; for example, airlines might record flight bookings in a different format than how a bank managed an account ledger. This began to change in 1969 when Ted Codd introduced the relational model as a general method of storing data. In this system, data would be stored in two-dimensional tables called **relations**, consisting of individual observations in each row (commonly referred to as a **tuple**). Each tuple is a structured data item that represents the relationship between certain **attributes** (columns). Each attribute of a relation has a name and data type.\n",
        "\n",
        "Consider the `purchases` relation below:"
      ]
    },
    {
      "metadata": {
        "id": "lUWBvrUoDgdZ",
        "colab_type": "text"
      },
      "cell_type": "markdown",
      "source": [
        "<header><h4 align='center'>purchases</h4></header>\n",
        "<table border=\"1\" class=\"dataframe\">\n",
        "    <thead>\n",
        "        <tr>\n",
        "            <td><b>name</b></td>\n",
        "            <td><b>product</b></td>\n",
        "            <td><b>retailer</b></td>\n",
        "            <td><b>date purchased</b></td>\n",
        "        </tr>\n",
        "    </thead>\n",
        "    <tr>\n",
        "        <td>Samantha</td>\n",
        "        <td>iPod</td>\n",
        "        <td>Best Buy</td>\n",
        "        <td>June 3, 2016</td>\n",
        "    </tr>\n",
        "    <tr>\n",
        "        <td>Timothy</td>\n",
        "        <td>Chromebook</td>\n",
        "        <td>Amazon</td>\n",
        "        <td>July 8, 2016</td>\n",
        "    </tr>\n",
        "    <tr>\n",
        "        <td>Jason</td>\n",
        "        <td>Surface Pro</td>\n",
        "        <td>Target</td>\n",
        "        <td>October 2, 2016</td>\n",
        "    </tr>\n",
        "</table>"
      ]
    },
    {
      "metadata": {
        "id": "4c6jQUngDgdZ",
        "colab_type": "text"
      },
      "cell_type": "markdown",
      "source": [
        "In `purchases`, each tuple represents the relationship between the `name`, `product`, `retailer`, and `date purchased` attributes. \n",
        "\n",
        "A relation's *schema* contains its column names, data types, and constraints. The schema of the `purchases` table states that the columns are `name`, `product`, `retailer`, and `date purchased`; it also states that each column contains text.\n",
        "\n",
        "Let's take a look at another relation called `prices` that shows the price of certain gadgets at particular retail stores:"
      ]
    },
    {
      "metadata": {
        "id": "3pm7rk5xDgdb",
        "colab_type": "text"
      },
      "cell_type": "markdown",
      "source": [
        "<header><h4 align='center'>prices</h4></header>\n",
        "<table border=\"1\" class=\"dataframe\">\n",
        "    <thead>\n",
        "        <tr>\n",
        "            <td><b>retailer</b></td>\n",
        "            <td><b>product</b></td>\n",
        "            <td><b>price</b></td>\n",
        "        </tr>\n",
        "    </thead>\n",
        "    <tr>\n",
        "        <td>Best Buy</td>\n",
        "        <td>Galaxy S9</td>\n",
        "        <td>719.00</td>\n",
        "    </tr>\n",
        "    <tr>\n",
        "        <td>Best Buy</td>\n",
        "        <td>iPod</td>\n",
        "        <td>200.00</td>\n",
        "    </tr>\n",
        "    <tr>\n",
        "        <td>Amazon</td>\n",
        "        <td>iPad</td>\n",
        "        <td>450.00</td>\n",
        "    </tr>\n",
        "    <tr>\n",
        "        <td>Amazon</td>\n",
        "        <td>Battery pack</td>\n",
        "        <td>24.87</td>\n",
        "    </tr>\n",
        "    <tr>\n",
        "        <td>Amazon</td>\n",
        "        <td>Chromebook</td>\n",
        "        <td>249.99</td>\n",
        "    </tr>\n",
        "    <tr>\n",
        "        <td>Target</td>\n",
        "        <td>iPod</td>\n",
        "        <td>215.00</td>\n",
        "    </tr>\n",
        "    <tr>\n",
        "        <td>Target</td>\n",
        "        <td>Surface Pro</td>\n",
        "        <td>799.00</td>\n",
        "    </tr>\n",
        "    <tr>\n",
        "        <td>Target</td>\n",
        "        <td>Google Pixel 2</td>\n",
        "        <td>659.00</td>\n",
        "    </tr>\n",
        "    <tr>\n",
        "        <td>Walmart</td>\n",
        "        <td>Chromebook</td>\n",
        "        <td>238.79</td>\n",
        "    </tr>\n",
        "</table>"
      ]
    },
    {
      "metadata": {
        "id": "-WMLV3OiDgdc",
        "colab_type": "text"
      },
      "cell_type": "markdown",
      "source": [
        "We can then reference both tables simultaneously to determine how much Sue, Joey, and Alice paid for their respective gadgets (assuming prices at each store stay constant over time). Together, the two tables form a **relational database**, which is a collection of one or more relations.\n",
        "The schema of the database is the set of schemas of the relations in the database.\n",
        "\n",
        "\n",
        "It might seem that relational databases are functionally very similar to `pandas` dataframes; however, there are several additional benefits that they provide:\n",
        "\n",
        "- As noted above, databases allow us to ensure data consistency on particular columns; for example, we can enforce that a column `GPA` only contains floats between 0.0 and 4.0 .\n",
        "- Databases are much more scalable than `pandas` dataframes. While `pandas` dataframes can only be as large as a computer's RAM, databases can typically be as large as a computer's disk space which is often much larger than the available RAM.\n",
        "- Querying languages such as SQL are simple to learn, empowering more people to conduct data analysis without advanced programming knowledge."
      ]
    },
    {
      "metadata": {
        "id": "lvsOEBDjDgdd",
        "colab_type": "text"
      },
      "cell_type": "markdown",
      "source": [
        "## What is SQL?\n",
        "\n",
        "**SQL** (Structured Query Language) is a widespread programming language that has simple operations to define, logically organize, manipulate, and perform calculations on data stored in a relational database.\n",
        "\n",
        "SQL is a declarative language. This means that the user only needs to specify *what* kind of data they want, not *how* to obtain it. An example is shown below, with an imperative example for comparison:\n",
        "\n",
        "- **Declarative**: I want a table with columns “x” and “y” constructed from tables “A” and ”B” where the values in “y” are greater than 100.00.\n",
        "- **Imperative**: For each record in table “A” find the corresponding record in table “B”, then drop the records where “y” is less than or equal to 100, then return the ”x” and “y” values.\n",
        "\n",
        "For our purposes, we'll be executing SQL queries through Python. As we walk through the basics of SQL syntax, we'll also occasionally show `pandas` equivalents for comparison purposes."
      ]
    },
    {
      "metadata": {
        "id": "QgEUYO2IDgdd",
        "colab_type": "text"
      },
      "cell_type": "markdown",
      "source": [
        "### Executing SQL Queries through `pandas`\n",
        "\n",
        "To execute SQL queries from Python, we'll need to create a local SQLite database using the [sqlalchemy](http://docs.sqlalchemy.org/en/latest/core/tutorial.html) library. Then we can use the `pandas` function [pd.read_sql](https://pandas.pydata.org/pandas-docs/stable/generated/pandas.read_sql.html) to execute SQL queries through this connection."
      ]
    },
    {
      "metadata": {
        "id": "IS_NumI0Dgde",
        "colab_type": "code",
        "colab": {
          "autoexec": {
            "startup": false,
            "wait_interval": 0
          },
          "base_uri": "https://localhost:8080/",
          "height": 368
        },
        "outputId": "c9e6faab-5640-43d0-a321-a23707868cdd",
        "executionInfo": {
          "status": "error",
          "timestamp": 1523469699841,
          "user_tz": 420,
          "elapsed": 2288,
          "user": {
            "displayName": "Ananth Agarwal",
            "photoUrl": "https://lh3.googleusercontent.com/a/default-user=s128",
            "userId": "114213530163291820964"
          }
        }
      },
      "cell_type": "code",
      "source": [
        "import sqlalchemy\n",
        "from pathlib import Path\n",
        "\n",
        "# Delete the database if it already exists\n",
        "dbfile = Path(\"data100.db\")\n",
        "if dbfile.exists():\n",
        "    dbfile.unlink()\n",
        "\n",
        "# pd.read_sql takes in a parameter for a SQLite engine, which we create below\n",
        "sqlite_uri = \"sqlite:///data100.db\"\n",
        "sqlite_engine = sqlalchemy.create_engine(sqlite_uri)"
      ],
      "execution_count": 1,
      "outputs": [
        {
          "output_type": "error",
          "ename": "ModuleNotFoundError",
          "evalue": "ignored",
          "traceback": [
            "\u001b[0;31m---------------------------------------------------------------------------\u001b[0m",
            "\u001b[0;31mModuleNotFoundError\u001b[0m                       Traceback (most recent call last)",
            "\u001b[0;32m<ipython-input-1-5579eff9ec7a>\u001b[0m in \u001b[0;36m<module>\u001b[0;34m()\u001b[0m\n\u001b[0;32m----> 1\u001b[0;31m \u001b[0;32mimport\u001b[0m \u001b[0msqlalchemy\u001b[0m\u001b[0;34m\u001b[0m\u001b[0m\n\u001b[0m\u001b[1;32m      2\u001b[0m \u001b[0;32mfrom\u001b[0m \u001b[0mpathlib\u001b[0m \u001b[0;32mimport\u001b[0m \u001b[0mPath\u001b[0m\u001b[0;34m\u001b[0m\u001b[0m\n\u001b[1;32m      3\u001b[0m \u001b[0;34m\u001b[0m\u001b[0m\n\u001b[1;32m      4\u001b[0m \u001b[0;31m# Delete the database if it already exists\u001b[0m\u001b[0;34m\u001b[0m\u001b[0;34m\u001b[0m\u001b[0m\n\u001b[1;32m      5\u001b[0m \u001b[0mdbfile\u001b[0m \u001b[0;34m=\u001b[0m \u001b[0mPath\u001b[0m\u001b[0;34m(\u001b[0m\u001b[0;34m\"data100.db\"\u001b[0m\u001b[0;34m)\u001b[0m\u001b[0;34m\u001b[0m\u001b[0m\n",
            "\u001b[0;31mModuleNotFoundError\u001b[0m: No module named 'sqlalchemy'",
            "",
            "\u001b[0;31m---------------------------------------------------------------------------\u001b[0;32m\nNOTE: If your import is failing due to a missing package, you can\nmanually install dependencies using either !pip or !apt.\n\nTo view examples of installing some common dependencies, click the\n\"Open Examples\" button below.\n\u001b[0;31m---------------------------------------------------------------------------\u001b[0m\n"
          ]
        }
      ]
    },
    {
      "metadata": {
        "id": "8pIMzSNCDgdj",
        "colab_type": "code",
        "colab": {
          "autoexec": {
            "startup": false,
            "wait_interval": 0
          },
          "base_uri": "https://localhost:8080/",
          "height": 164
        },
        "outputId": "a3b7fe4c-c846-4a5a-ddfb-c7cebe2f56d2",
        "executionInfo": {
          "status": "error",
          "timestamp": 1523469709626,
          "user_tz": 420,
          "elapsed": 305,
          "user": {
            "displayName": "Ananth Agarwal",
            "photoUrl": "https://lh3.googleusercontent.com/a/default-user=s128",
            "userId": "114213530163291820964"
          }
        }
      },
      "cell_type": "code",
      "source": [
        "#HIDDEN\n",
        "\n",
        "# Verify that there are no tables present in the file\n",
        "sqlite_engine.table_names()"
      ],
      "execution_count": 2,
      "outputs": [
        {
          "output_type": "error",
          "ename": "NameError",
          "evalue": "ignored",
          "traceback": [
            "\u001b[0;31m---------------------------------------------------------------------------\u001b[0m",
            "\u001b[0;31mNameError\u001b[0m                                 Traceback (most recent call last)",
            "\u001b[0;32m<ipython-input-2-72115ee59ef1>\u001b[0m in \u001b[0;36m<module>\u001b[0;34m()\u001b[0m\n\u001b[0;32m----> 1\u001b[0;31m \u001b[0msqlite_engine\u001b[0m\u001b[0;34m.\u001b[0m\u001b[0mtable_names\u001b[0m\u001b[0;34m(\u001b[0m\u001b[0;34m)\u001b[0m\u001b[0;34m\u001b[0m\u001b[0m\n\u001b[0m",
            "\u001b[0;31mNameError\u001b[0m: name 'sqlite_engine' is not defined"
          ]
        }
      ]
    },
    {
      "metadata": {
        "id": "_TedO1avDgdp",
        "colab_type": "code",
        "colab": {
          "autoexec": {
            "startup": false,
            "wait_interval": 0
          }
        }
      },
      "cell_type": "code",
      "source": [
        "# HIDDEN\n",
        "\n",
        "# Creating a table\n",
        "sql_expr = \"\"\"\n",
        "CREATE TABLE prices(\n",
        "    retailer TEXT,\n",
        "    product TEXT,\n",
        "    price FLOAT);\n",
        "\"\"\"\n",
        "result = sqlite_engine.execute(sql_expr)"
      ],
      "execution_count": 0,
      "outputs": []
    },
    {
      "metadata": {
        "id": "WRl9QKQKDgdr",
        "colab_type": "code",
        "colab": {
          "autoexec": {
            "startup": false,
            "wait_interval": 0
          }
        }
      },
      "cell_type": "code",
      "source": [
        "# HIDDEN\n",
        "\n",
        "# Inserting records into the table\n",
        "sql_expr = \"\"\"\n",
        "INSERT INTO prices VALUES \n",
        "  ('Best Buy', 'Galaxy S9', 719.00),\n",
        "  ('Best Buy', 'iPod', 200.00),\n",
        "  ('Amazon', 'iPad', 450.00),\n",
        "  ('Amazon', 'Battery pack',  24.87),\n",
        "  ('Amazon', 'Chromebook', 249.99),\n",
        "  ('Target', 'iPod', 215.00),\n",
        "  ('Target', 'Surface Pro', 799.00),\n",
        "  ('Target', 'Google Pixel 2', 659.00),\n",
        "  ('Walmart', 'Chromebook', 238.79);\n",
        "\"\"\"\n",
        "result = sqlite_engine.execute(sql_expr)"
      ],
      "execution_count": 0,
      "outputs": []
    },
    {
      "metadata": {
        "id": "oPjepNp62ucy",
        "colab_type": "code",
        "colab": {
          "autoexec": {
            "startup": false,
            "wait_interval": 0
          }
        }
      },
      "cell_type": "code",
      "source": [
        "# Verify that the prices relation is in the database\n",
        "\n",
        "sqlite_engine.table_names()"
      ],
      "execution_count": 0,
      "outputs": []
    },
    {
      "metadata": {
        "id": "e6XmUsijDgdu",
        "colab_type": "text"
      },
      "cell_type": "markdown",
      "source": [
        "To compare SQL and `pandas`, we create an identical dataframe in `pandas`:"
      ]
    },
    {
      "metadata": {
        "id": "A4MBP3-RDgdw",
        "colab_type": "code",
        "colab": {
          "autoexec": {
            "startup": false,
            "wait_interval": 0
          }
        },
        "outputId": "978ab57f-4bce-4ac4-b739-ae9fd2cdd0e5"
      },
      "cell_type": "code",
      "source": [
        "import pandas as pd\n",
        "\n",
        "df = pd.DataFrame([['Best Buy', 'Galaxy S9', 719.00],\n",
        "                   ['Best Buy', 'iPod', 200.00],\n",
        "                   ['Amazon', 'iPad', 450.00],\n",
        "                   ['Amazon', 'Battery pack', 24.87],\n",
        "                   ['Amazon', 'Chromebook', 249.99],\n",
        "                   ['Target', 'iPod', 215.00],\n",
        "                   ['Target', 'Surface Pro', 799.00],\n",
        "                   ['Target', 'Google Pixel 2', 659.00],\n",
        "                   ['Walmart', 'Chromebook', 238.79]],\n",
        "                 columns=['retailer', 'product', 'price'])\n",
        "df"
      ],
      "execution_count": 0,
      "outputs": [
        {
          "output_type": "execute_result",
          "data": {
            "text/html": [
              "<div>\n",
              "<style scoped>\n",
              "    .dataframe tbody tr th:only-of-type {\n",
              "        vertical-align: middle;\n",
              "    }\n",
              "\n",
              "    .dataframe tbody tr th {\n",
              "        vertical-align: top;\n",
              "    }\n",
              "\n",
              "    .dataframe thead th {\n",
              "        text-align: right;\n",
              "    }\n",
              "</style>\n",
              "<table border=\"1\" class=\"dataframe\">\n",
              "  <thead>\n",
              "    <tr style=\"text-align: right;\">\n",
              "      <th></th>\n",
              "      <th>retailer</th>\n",
              "      <th>product</th>\n",
              "      <th>price</th>\n",
              "    </tr>\n",
              "  </thead>\n",
              "  <tbody>\n",
              "    <tr>\n",
              "      <th>0</th>\n",
              "      <td>Best Buy</td>\n",
              "      <td>Galaxy S9</td>\n",
              "      <td>719.00</td>\n",
              "    </tr>\n",
              "    <tr>\n",
              "      <th>1</th>\n",
              "      <td>Best Buy</td>\n",
              "      <td>iPod</td>\n",
              "      <td>200.00</td>\n",
              "    </tr>\n",
              "    <tr>\n",
              "      <th>2</th>\n",
              "      <td>Amazon</td>\n",
              "      <td>iPad</td>\n",
              "      <td>450.00</td>\n",
              "    </tr>\n",
              "    <tr>\n",
              "      <th>3</th>\n",
              "      <td>Amazon</td>\n",
              "      <td>Battery pack</td>\n",
              "      <td>24.87</td>\n",
              "    </tr>\n",
              "    <tr>\n",
              "      <th>4</th>\n",
              "      <td>Amazon</td>\n",
              "      <td>Chromebook</td>\n",
              "      <td>249.99</td>\n",
              "    </tr>\n",
              "    <tr>\n",
              "      <th>5</th>\n",
              "      <td>Target</td>\n",
              "      <td>iPod</td>\n",
              "      <td>215.00</td>\n",
              "    </tr>\n",
              "    <tr>\n",
              "      <th>6</th>\n",
              "      <td>Target</td>\n",
              "      <td>Surface Pro</td>\n",
              "      <td>799.00</td>\n",
              "    </tr>\n",
              "    <tr>\n",
              "      <th>7</th>\n",
              "      <td>Target</td>\n",
              "      <td>Google Pixel 2</td>\n",
              "      <td>659.00</td>\n",
              "    </tr>\n",
              "    <tr>\n",
              "      <th>8</th>\n",
              "      <td>Walmart</td>\n",
              "      <td>Chromebook</td>\n",
              "      <td>238.79</td>\n",
              "    </tr>\n",
              "  </tbody>\n",
              "</table>\n",
              "</div>"
            ],
            "text/plain": [
              "   retailer         product   price\n",
              "0  Best Buy       Galaxy S9  719.00\n",
              "1  Best Buy            iPod  200.00\n",
              "2    Amazon            iPad  450.00\n",
              "3    Amazon    Battery pack   24.87\n",
              "4    Amazon      Chromebook  249.99\n",
              "5    Target            iPod  215.00\n",
              "6    Target     Surface Pro  799.00\n",
              "7    Target  Google Pixel 2  659.00\n",
              "8   Walmart      Chromebook  238.79"
            ]
          },
          "metadata": {
            "tags": []
          },
          "execution_count": 5
        }
      ]
    },
    {
      "metadata": {
        "id": "jP80JPL6Dgd0",
        "colab_type": "text"
      },
      "cell_type": "markdown",
      "source": [
        "We now have a SQL table called `prices` (which we can connect through using `sqlite_engine`), as well as a `pandas` dataframe `df`."
      ]
    },
    {
      "metadata": {
        "id": "jWfTN1elDgd1",
        "colab_type": "text"
      },
      "cell_type": "markdown",
      "source": [
        "## SQL Syntax\n",
        "\n",
        "All SQL queries take the general form below:\n",
        "```SQL\n",
        "SELECT [DISTINCT] <column expression list>\n",
        "FROM <relation>\n",
        "[WHERE <predicate>]\n",
        "[GROUP BY <column list>]\n",
        "[HAVING <predicate>]\n",
        "[ORDER BY <column list>]\n",
        "[LIMIT <number>]\n",
        "```\n",
        "\n",
        "Note that:\n",
        "\n",
        "1. **Everything in \\[square brackets\\] is optional.** A valid SQL query only needs a `SELECT` and a `FROM` statement.\n",
        "2. **SQL SYNTAX IS GENERALLY WRITTEN IN CAPITAL LETTERS.** Although capitalization isn't required, it is common practice to write SQL syntax in capital letters. It also helps to visually structure your query for other people to read.\n",
        "3. `FROM` query blocks can reference one or more tables, although in this section we will only look at one table at a time. See the section on SQL joins for more."
      ]
    },
    {
      "metadata": {
        "id": "l-L97SzrDgd2",
        "colab_type": "text"
      },
      "cell_type": "markdown",
      "source": [
        "### SELECT and FROM\n",
        "\n",
        "The two mandatory statements in a SQL query are:\n",
        "\n",
        "* `SELECT` indicates the columns that we want to view.\n",
        "* `FROM` indicates the tables from which we are selecting these columns.\n",
        "\n",
        "To display the entire `prices` table, we run:"
      ]
    },
    {
      "metadata": {
        "id": "vt6rh2TyDgd3",
        "colab_type": "code",
        "colab": {
          "autoexec": {
            "startup": false,
            "wait_interval": 0
          }
        },
        "outputId": "83c4e317-240b-4f7f-9acf-e5b8f5cae665"
      },
      "cell_type": "code",
      "source": [
        "sql_expr = \"\"\"\n",
        "SELECT * \n",
        "FROM prices\n",
        "\"\"\"\n",
        "pd.read_sql(sql_expr, sqlite_engine)"
      ],
      "execution_count": 0,
      "outputs": [
        {
          "output_type": "execute_result",
          "data": {
            "text/html": [
              "<div>\n",
              "<style scoped>\n",
              "    .dataframe tbody tr th:only-of-type {\n",
              "        vertical-align: middle;\n",
              "    }\n",
              "\n",
              "    .dataframe tbody tr th {\n",
              "        vertical-align: top;\n",
              "    }\n",
              "\n",
              "    .dataframe thead th {\n",
              "        text-align: right;\n",
              "    }\n",
              "</style>\n",
              "<table border=\"1\" class=\"dataframe\">\n",
              "  <thead>\n",
              "    <tr style=\"text-align: right;\">\n",
              "      <th></th>\n",
              "      <th>retailer</th>\n",
              "      <th>product</th>\n",
              "      <th>price</th>\n",
              "    </tr>\n",
              "  </thead>\n",
              "  <tbody>\n",
              "    <tr>\n",
              "      <th>0</th>\n",
              "      <td>Best Buy</td>\n",
              "      <td>Galaxy S9</td>\n",
              "      <td>719.00</td>\n",
              "    </tr>\n",
              "    <tr>\n",
              "      <th>1</th>\n",
              "      <td>Best Buy</td>\n",
              "      <td>iPod</td>\n",
              "      <td>200.00</td>\n",
              "    </tr>\n",
              "    <tr>\n",
              "      <th>2</th>\n",
              "      <td>Amazon</td>\n",
              "      <td>iPad</td>\n",
              "      <td>450.00</td>\n",
              "    </tr>\n",
              "    <tr>\n",
              "      <th>3</th>\n",
              "      <td>Amazon</td>\n",
              "      <td>Battery pack</td>\n",
              "      <td>24.87</td>\n",
              "    </tr>\n",
              "    <tr>\n",
              "      <th>4</th>\n",
              "      <td>Amazon</td>\n",
              "      <td>Chromebook</td>\n",
              "      <td>249.99</td>\n",
              "    </tr>\n",
              "    <tr>\n",
              "      <th>5</th>\n",
              "      <td>Target</td>\n",
              "      <td>iPod</td>\n",
              "      <td>215.00</td>\n",
              "    </tr>\n",
              "    <tr>\n",
              "      <th>6</th>\n",
              "      <td>Target</td>\n",
              "      <td>Surface Pro</td>\n",
              "      <td>799.00</td>\n",
              "    </tr>\n",
              "    <tr>\n",
              "      <th>7</th>\n",
              "      <td>Target</td>\n",
              "      <td>Google Pixel 2</td>\n",
              "      <td>659.00</td>\n",
              "    </tr>\n",
              "    <tr>\n",
              "      <th>8</th>\n",
              "      <td>Walmart</td>\n",
              "      <td>Chromebook</td>\n",
              "      <td>238.79</td>\n",
              "    </tr>\n",
              "  </tbody>\n",
              "</table>\n",
              "</div>"
            ],
            "text/plain": [
              "   retailer         product   price\n",
              "0  Best Buy       Galaxy S9  719.00\n",
              "1  Best Buy            iPod  200.00\n",
              "2    Amazon            iPad  450.00\n",
              "3    Amazon    Battery pack   24.87\n",
              "4    Amazon      Chromebook  249.99\n",
              "5    Target            iPod  215.00\n",
              "6    Target     Surface Pro  799.00\n",
              "7    Target  Google Pixel 2  659.00\n",
              "8   Walmart      Chromebook  238.79"
            ]
          },
          "metadata": {
            "tags": []
          },
          "execution_count": 6
        }
      ]
    },
    {
      "metadata": {
        "id": "ebYQfMJTDgd6",
        "colab_type": "text"
      },
      "cell_type": "markdown",
      "source": [
        "`SELECT *` returns every column in the original relation. To display the retailers that are represented in `prices`, we add the `retailer` column to the `SELECT` statement."
      ]
    },
    {
      "metadata": {
        "id": "xJZueetYDgd7",
        "colab_type": "code",
        "colab": {
          "autoexec": {
            "startup": false,
            "wait_interval": 0
          },
          "base_uri": "https://localhost:8080/",
          "height": 198
        },
        "outputId": "0b27f335-3c7c-4102-d977-c3f6531800ac",
        "executionInfo": {
          "status": "error",
          "timestamp": 1523470381414,
          "user_tz": 420,
          "elapsed": 270,
          "user": {
            "displayName": "Ananth Agarwal",
            "photoUrl": "https://lh3.googleusercontent.com/a/default-user=s128",
            "userId": "114213530163291820964"
          }
        }
      },
      "cell_type": "code",
      "source": [
        "sql_expr = \"\"\"\n",
        "SELECT retailer\n",
        "FROM prices\n",
        "\"\"\"\n",
        "pd.read_sql(sql_expr, sqlite_engine)"
      ],
      "execution_count": 3,
      "outputs": [
        {
          "output_type": "error",
          "ename": "NameError",
          "evalue": "ignored",
          "traceback": [
            "\u001b[0;31m---------------------------------------------------------------------------\u001b[0m",
            "\u001b[0;31mNameError\u001b[0m                                 Traceback (most recent call last)",
            "\u001b[0;32m<ipython-input-3-51b89315a6d2>\u001b[0m in \u001b[0;36m<module>\u001b[0;34m()\u001b[0m\n\u001b[1;32m      3\u001b[0m \u001b[0mFROM\u001b[0m \u001b[0mprices\u001b[0m\u001b[0;34m\u001b[0m\u001b[0m\n\u001b[1;32m      4\u001b[0m \"\"\"\n\u001b[0;32m----> 5\u001b[0;31m \u001b[0mpd\u001b[0m\u001b[0;34m.\u001b[0m\u001b[0mread_sql\u001b[0m\u001b[0;34m(\u001b[0m\u001b[0msql_expr\u001b[0m\u001b[0;34m,\u001b[0m \u001b[0msqlite_engine\u001b[0m\u001b[0;34m)\u001b[0m\u001b[0;34m\u001b[0m\u001b[0m\n\u001b[0m",
            "\u001b[0;31mNameError\u001b[0m: name 'pd' is not defined"
          ]
        }
      ]
    },
    {
      "metadata": {
        "id": "2jYzN16_Dgd-",
        "colab_type": "text"
      },
      "cell_type": "markdown",
      "source": [
        "If we want a list of unique retailers, we include the `DISTINCT` keyword to omit repeated values."
      ]
    },
    {
      "metadata": {
        "id": "tkuqF63gDgd-",
        "colab_type": "code",
        "colab": {
          "autoexec": {
            "startup": false,
            "wait_interval": 0
          }
        },
        "outputId": "93e6cd48-dba5-4218-9d79-22f2ccf332fa"
      },
      "cell_type": "code",
      "source": [
        "jsql_expr = \"\"\"\n",
        "SELECT DISTINCT retailer\n",
        "FROM prices\n",
        "\"\"\"\n",
        "pd.read_sql(sql_expr, sqlite_engine)"
      ],
      "execution_count": 0,
      "outputs": [
        {
          "output_type": "execute_result",
          "data": {
            "text/html": [
              "<div>\n",
              "<style scoped>\n",
              "    .dataframe tbody tr th:only-of-type {\n",
              "        vertical-align: middle;\n",
              "    }\n",
              "\n",
              "    .dataframe tbody tr th {\n",
              "        vertical-align: top;\n",
              "    }\n",
              "\n",
              "    .dataframe thead th {\n",
              "        text-align: right;\n",
              "    }\n",
              "</style>\n",
              "<table border=\"1\" class=\"dataframe\">\n",
              "  <thead>\n",
              "    <tr style=\"text-align: right;\">\n",
              "      <th></th>\n",
              "      <th>retailer</th>\n",
              "    </tr>\n",
              "  </thead>\n",
              "  <tbody>\n",
              "    <tr>\n",
              "      <th>0</th>\n",
              "      <td>Best Buy</td>\n",
              "    </tr>\n",
              "    <tr>\n",
              "      <th>1</th>\n",
              "      <td>Amazon</td>\n",
              "    </tr>\n",
              "    <tr>\n",
              "      <th>2</th>\n",
              "      <td>Target</td>\n",
              "    </tr>\n",
              "    <tr>\n",
              "      <th>3</th>\n",
              "      <td>Walmart</td>\n",
              "    </tr>\n",
              "  </tbody>\n",
              "</table>\n",
              "</div>"
            ],
            "text/plain": [
              "   retailer\n",
              "0  Best Buy\n",
              "1    Amazon\n",
              "2    Target\n",
              "3   Walmart"
            ]
          },
          "metadata": {
            "tags": []
          },
          "execution_count": 8
        }
      ]
    },
    {
      "metadata": {
        "id": "OQ7jpW05DgeE",
        "colab_type": "text"
      },
      "cell_type": "markdown",
      "source": [
        "This would be the functional equivalent of the following `pandas` code:"
      ]
    },
    {
      "metadata": {
        "id": "64uSDqguDgeG",
        "colab_type": "code",
        "colab": {
          "autoexec": {
            "startup": false,
            "wait_interval": 0
          }
        },
        "outputId": "c91af9a1-41a0-4188-abb6-1099d9e0237b"
      },
      "cell_type": "code",
      "source": [
        "df['retailer'].unique()"
      ],
      "execution_count": 0,
      "outputs": [
        {
          "output_type": "execute_result",
          "data": {
            "text/plain": [
              "array(['Best Buy', 'Amazon', 'Target', 'Walmart'], dtype=object)"
            ]
          },
          "metadata": {
            "tags": []
          },
          "execution_count": 9
        }
      ]
    },
    {
      "metadata": {
        "id": "-Z8DWBHF84pT",
        "colab_type": "text"
      },
      "cell_type": "markdown",
      "source": [
        "SQL has a wide range of functions that can be applied to each attribute in the `SELECT` list. For example, most SQL engines include comparison operators, mathematical functions and operators, and string functions and operators. (The complete list of built in PostgreSQL functions is available [here](https://www.postgresql.org/docs/9.2/static/functions.html).)\n",
        "\n",
        "The following code converts all retailer names to uppercase and cuts product prices in half (a 50% discount!).\n"
      ]
    },
    {
      "metadata": {
        "id": "9jDk28vp9bRs",
        "colab_type": "code",
        "colab": {
          "autoexec": {
            "startup": false,
            "wait_interval": 0
          }
        }
      },
      "cell_type": "code",
      "source": [
        "sql_expr = \"\"\"\n",
        "SELECT UPPER(retailer) AS retailer_caps, product, price / 2 AS half_price\n",
        "FROM prices\n",
        "\"\"\"\n",
        "pd.read_sql(sql_expr, sqlite_engine)"
      ],
      "execution_count": 0,
      "outputs": []
    },
    {
      "metadata": {
        "id": "VtdR6gZc-oP7",
        "colab_type": "text"
      },
      "cell_type": "markdown",
      "source": [
        "Notice that we can **alias** the columns (assign another name) with AS so that the columns appear with this new name in the ouptut table. This does not modify the names of the columns in the source relation.\n",
        "\n"
      ]
    },
    {
      "metadata": {
        "id": "ZJlclDebDgeR",
        "colab_type": "text"
      },
      "cell_type": "markdown",
      "source": [
        "### WHERE\n",
        "\n",
        "Including a `WHERE` clause allows us to specify certain constraints for the returned data; these constraints are often referred to as **predicates**. For example, to retrieve only gadgets that are under $500:"
      ]
    },
    {
      "metadata": {
        "id": "k5PYF5qvDgeR",
        "colab_type": "code",
        "colab": {
          "autoexec": {
            "startup": false,
            "wait_interval": 0
          },
          "base_uri": "https://localhost:8080/",
          "height": 198
        },
        "outputId": "157bb2d9-bcbc-432d-a00a-6f0b8bb2df0c",
        "executionInfo": {
          "status": "error",
          "timestamp": 1523471405965,
          "user_tz": 420,
          "elapsed": 284,
          "user": {
            "displayName": "Ananth Agarwal",
            "photoUrl": "https://lh3.googleusercontent.com/a/default-user=s128",
            "userId": "114213530163291820964"
          }
        }
      },
      "cell_type": "code",
      "source": [
        "sql_expr = \"\"\"\n",
        "SELECT *\n",
        "FROM prices\n",
        "WHERE price < 500\n",
        "\"\"\"\n",
        "pd.read_sql(sql_expr, sqlite_engine)"
      ],
      "execution_count": 5,
      "outputs": [
        {
          "output_type": "error",
          "ename": "NameError",
          "evalue": "ignored",
          "traceback": [
            "\u001b[0;31m---------------------------------------------------------------------------\u001b[0m",
            "\u001b[0;31mNameError\u001b[0m                                 Traceback (most recent call last)",
            "\u001b[0;32m<ipython-input-5-b4fc02e3dd44>\u001b[0m in \u001b[0;36m<module>\u001b[0;34m()\u001b[0m\n\u001b[1;32m      4\u001b[0m \u001b[0mWHERE\u001b[0m \u001b[0mprice\u001b[0m \u001b[0;34m<\u001b[0m \u001b[0;36m500\u001b[0m\u001b[0;34m\u001b[0m\u001b[0m\n\u001b[1;32m      5\u001b[0m \"\"\"\n\u001b[0;32m----> 6\u001b[0;31m \u001b[0mpd\u001b[0m\u001b[0;34m.\u001b[0m\u001b[0mread_sql\u001b[0m\u001b[0;34m(\u001b[0m\u001b[0msql_expr\u001b[0m\u001b[0;34m,\u001b[0m \u001b[0msqlite_engine\u001b[0m\u001b[0;34m)\u001b[0m\u001b[0;34m\u001b[0m\u001b[0m\n\u001b[0m",
            "\u001b[0;31mNameError\u001b[0m: name 'pd' is not defined"
          ]
        }
      ]
    },
    {
      "metadata": {
        "id": "yFCi_LlpDgeV",
        "colab_type": "text"
      },
      "cell_type": "markdown",
      "source": [
        "We can also use the operators `AND`, `OR`, and `NOT` to further constrain our SQL query. Suppose we want to buy something on Amazon because we have a gift card, but we're not interested in a battery pack or anything above $300:"
      ]
    },
    {
      "metadata": {
        "id": "9TLEQNhRDgeV",
        "colab_type": "code",
        "colab": {
          "autoexec": {
            "startup": false,
            "wait_interval": 0
          }
        },
        "outputId": "b5dfaad1-4bed-492c-9ea2-2614b0066f1c"
      },
      "cell_type": "code",
      "source": [
        "sql_expr = \"\"\"\n",
        "SELECT *\n",
        "FROM prices\n",
        "WHERE retailer = 'Amazon'\n",
        "    AND NOT product = 'Battery pack'\n",
        "    AND price <= 300\n",
        "\"\"\"\n",
        "pd.read_sql(sql_expr, sqlite_engine)"
      ],
      "execution_count": 0,
      "outputs": [
        {
          "output_type": "execute_result",
          "data": {
            "text/html": [
              "<div>\n",
              "<style scoped>\n",
              "    .dataframe tbody tr th:only-of-type {\n",
              "        vertical-align: middle;\n",
              "    }\n",
              "\n",
              "    .dataframe tbody tr th {\n",
              "        vertical-align: top;\n",
              "    }\n",
              "\n",
              "    .dataframe thead th {\n",
              "        text-align: right;\n",
              "    }\n",
              "</style>\n",
              "<table border=\"1\" class=\"dataframe\">\n",
              "  <thead>\n",
              "    <tr style=\"text-align: right;\">\n",
              "      <th></th>\n",
              "      <th>retailer</th>\n",
              "      <th>product</th>\n",
              "      <th>price</th>\n",
              "    </tr>\n",
              "  </thead>\n",
              "  <tbody>\n",
              "    <tr>\n",
              "      <th>0</th>\n",
              "      <td>Amazon</td>\n",
              "      <td>Chromebook</td>\n",
              "      <td>249.99</td>\n",
              "    </tr>\n",
              "  </tbody>\n",
              "</table>\n",
              "</div>"
            ],
            "text/plain": [
              "  retailer     product   price\n",
              "0   Amazon  Chromebook  249.99"
            ]
          },
          "metadata": {
            "tags": []
          },
          "execution_count": 11
        }
      ]
    },
    {
      "metadata": {
        "id": "6waniOVaDgeY",
        "colab_type": "text"
      },
      "cell_type": "markdown",
      "source": [
        "The equivalent operation in `pandas` is:"
      ]
    },
    {
      "metadata": {
        "id": "GcmPDb_CDgeY",
        "colab_type": "code",
        "colab": {
          "autoexec": {
            "startup": false,
            "wait_interval": 0
          }
        },
        "outputId": "ea5a951f-8bbb-4457-8f22-20135bea22b1"
      },
      "cell_type": "code",
      "source": [
        "df[(df['retailer'] == 'Amazon') \n",
        "   & ~(df['product'] == 'Battery pack')\n",
        "   & (df['price'] <= 300)]"
      ],
      "execution_count": 0,
      "outputs": [
        {
          "output_type": "execute_result",
          "data": {
            "text/html": [
              "<div>\n",
              "<style scoped>\n",
              "    .dataframe tbody tr th:only-of-type {\n",
              "        vertical-align: middle;\n",
              "    }\n",
              "\n",
              "    .dataframe tbody tr th {\n",
              "        vertical-align: top;\n",
              "    }\n",
              "\n",
              "    .dataframe thead th {\n",
              "        text-align: right;\n",
              "    }\n",
              "</style>\n",
              "<table border=\"1\" class=\"dataframe\">\n",
              "  <thead>\n",
              "    <tr style=\"text-align: right;\">\n",
              "      <th></th>\n",
              "      <th>retailer</th>\n",
              "      <th>product</th>\n",
              "      <th>price</th>\n",
              "    </tr>\n",
              "  </thead>\n",
              "  <tbody>\n",
              "    <tr>\n",
              "      <th>4</th>\n",
              "      <td>Amazon</td>\n",
              "      <td>Chromebook</td>\n",
              "      <td>249.99</td>\n",
              "    </tr>\n",
              "  </tbody>\n",
              "</table>\n",
              "</div>"
            ],
            "text/plain": [
              "  retailer     product   price\n",
              "4   Amazon  Chromebook  249.99"
            ]
          },
          "metadata": {
            "tags": []
          },
          "execution_count": 12
        }
      ]
    },
    {
      "metadata": {
        "id": "lnCDsNMxDgec",
        "colab_type": "text"
      },
      "cell_type": "markdown",
      "source": [
        "There's a subtle difference that's worth noting: the index of the Chromebook in the SQL query is 0, whereas the corresponding index in the dataframe is 4. This is because SQL queries always return a new table with indices counting up from 0, whereas `pandas` subsets a portion of the dataframe `df` and returns it with the original indices. We can use [pd.DataFrame.reset_index](https://pandas.pydata.org/pandas-docs/stable/generated/pandas.DataFrame.reset_index.html) to reset the indices in `pandas`."
      ]
    },
    {
      "metadata": {
        "id": "m19xAQ6t0Waa",
        "colab_type": "text"
      },
      "cell_type": "markdown",
      "source": [
        "### Aggregate Functions\n",
        "\n",
        "So far, we've only worked with data from the existing rows in the table; that is, all of our returned tables have been some subset of the entries found in the table. But to conduct data analysis, we'll want to compute aggregate values over our data. In SQL, these are called **aggregate functions**. \n",
        "\n",
        "If we want to find the average price of all gadgets in the `prices` relation:"
      ]
    },
    {
      "metadata": {
        "id": "J3N1MxtKDgee",
        "colab_type": "code",
        "colab": {
          "autoexec": {
            "startup": false,
            "wait_interval": 0
          }
        },
        "outputId": "2cfb1b75-fdf4-46e1-d786-174ef6a21c5e"
      },
      "cell_type": "code",
      "source": [
        "sql_expr = \"\"\"\n",
        "SELECT AVG(price) AS avg_price\n",
        "FROM prices\n",
        "\"\"\"\n",
        "pd.read_sql(sql_expr, sqlite_engine)"
      ],
      "execution_count": 0,
      "outputs": [
        {
          "output_type": "execute_result",
          "data": {
            "text/html": [
              "<div>\n",
              "<style scoped>\n",
              "    .dataframe tbody tr th:only-of-type {\n",
              "        vertical-align: middle;\n",
              "    }\n",
              "\n",
              "    .dataframe tbody tr th {\n",
              "        vertical-align: top;\n",
              "    }\n",
              "\n",
              "    .dataframe thead th {\n",
              "        text-align: right;\n",
              "    }\n",
              "</style>\n",
              "<table border=\"1\" class=\"dataframe\">\n",
              "  <thead>\n",
              "    <tr style=\"text-align: right;\">\n",
              "      <th></th>\n",
              "      <th>avg_price</th>\n",
              "    </tr>\n",
              "  </thead>\n",
              "  <tbody>\n",
              "    <tr>\n",
              "      <th>0</th>\n",
              "      <td>395.072222</td>\n",
              "    </tr>\n",
              "  </tbody>\n",
              "</table>\n",
              "</div>"
            ],
            "text/plain": [
              "    avg_price\n",
              "0  395.072222"
            ]
          },
          "metadata": {
            "tags": []
          },
          "execution_count": 13
        }
      ]
    },
    {
      "metadata": {
        "id": "Ind0BYFBDgeh",
        "colab_type": "text"
      },
      "cell_type": "markdown",
      "source": [
        "Equivalently, in `pandas`:\n"
      ]
    },
    {
      "metadata": {
        "id": "5GlmVQ0uDgei",
        "colab_type": "code",
        "colab": {
          "autoexec": {
            "startup": false,
            "wait_interval": 0
          }
        },
        "outputId": "a6bdf1b4-cd3c-49e2-9bc0-3bef03bd89ea"
      },
      "cell_type": "code",
      "source": [
        "df['price'].mean()"
      ],
      "execution_count": 0,
      "outputs": [
        {
          "output_type": "execute_result",
          "data": {
            "text/plain": [
              "395.0722222222222"
            ]
          },
          "metadata": {
            "tags": []
          },
          "execution_count": 14
        }
      ]
    },
    {
      "metadata": {
        "id": "5oTbANu_5p59",
        "colab_type": "text"
      },
      "cell_type": "markdown",
      "source": [
        "A complete list of PostgreSQL aggregate functions can be found [here](https://www.postgresql.org/docs/9.2/static/functions.html). Though we're using PostgreSQL as our primary version of SQL in this class, it's worth keeping in mind that there are many other variations of SQL (MySQL, SQLite, etc.) that may adhere to slightly different function names and available functions."
      ]
    },
    {
      "metadata": {
        "id": "7eVQXWJ8Dgek",
        "colab_type": "text"
      },
      "cell_type": "markdown",
      "source": [
        "### GROUP BY and HAVING\n",
        "\n",
        "With aggregate functions, we can execute more complicated SQL queries. To operate on more granular aggregate data, we can use the following two clauses:\n",
        "- `GROUP BY` takes a list of columns and groups the table like the [pd.DataFrame.groupby](https://pandas.pydata.org/pandas-docs/stable/generated/pandas.DataFrame.groupby.html) function in `pandas`.\n",
        "- `HAVING` is functionally similar to `WHERE`, but is used exclusively to apply predicates to aggregated data. (Note that in order to use `HAVING`, it must be preceded by a `GROUP BY` clause.)\n",
        "\n",
        "**Important**: When using GROUP BY, all columns in the SELECT list must be either listed in the GROUP BY clause or have an aggregate function applied to them.\n",
        "\n",
        "We can use these statements to find the maximum price at each retailer."
      ]
    },
    {
      "metadata": {
        "id": "w7u9ixrbDgel",
        "colab_type": "code",
        "colab": {
          "autoexec": {
            "startup": false,
            "wait_interval": 0
          }
        },
        "outputId": "084c2d9f-7fa5-46b3-a254-53e0c7bbf60d"
      },
      "cell_type": "code",
      "source": [
        "sql_expr = \"\"\"\n",
        "SELECT retailer, MAX(price) as max_price\n",
        "FROM prices\n",
        "GROUP BY retailer\n",
        "\"\"\"\n",
        "pd.read_sql(sql_expr, sqlite_engine)"
      ],
      "execution_count": 0,
      "outputs": [
        {
          "output_type": "execute_result",
          "data": {
            "text/html": [
              "<div>\n",
              "<style scoped>\n",
              "    .dataframe tbody tr th:only-of-type {\n",
              "        vertical-align: middle;\n",
              "    }\n",
              "\n",
              "    .dataframe tbody tr th {\n",
              "        vertical-align: top;\n",
              "    }\n",
              "\n",
              "    .dataframe thead th {\n",
              "        text-align: right;\n",
              "    }\n",
              "</style>\n",
              "<table border=\"1\" class=\"dataframe\">\n",
              "  <thead>\n",
              "    <tr style=\"text-align: right;\">\n",
              "      <th></th>\n",
              "      <th>retailer</th>\n",
              "      <th>max_price</th>\n",
              "    </tr>\n",
              "  </thead>\n",
              "  <tbody>\n",
              "    <tr>\n",
              "      <th>0</th>\n",
              "      <td>Amazon</td>\n",
              "      <td>450.00</td>\n",
              "    </tr>\n",
              "    <tr>\n",
              "      <th>1</th>\n",
              "      <td>Best Buy</td>\n",
              "      <td>719.00</td>\n",
              "    </tr>\n",
              "    <tr>\n",
              "      <th>2</th>\n",
              "      <td>Target</td>\n",
              "      <td>799.00</td>\n",
              "    </tr>\n",
              "    <tr>\n",
              "      <th>3</th>\n",
              "      <td>Walmart</td>\n",
              "      <td>238.79</td>\n",
              "    </tr>\n",
              "  </tbody>\n",
              "</table>\n",
              "</div>"
            ],
            "text/plain": [
              "   retailer  max_price\n",
              "0    Amazon     450.00\n",
              "1  Best Buy     719.00\n",
              "2    Target     799.00\n",
              "3   Walmart     238.79"
            ]
          },
          "metadata": {
            "tags": []
          },
          "execution_count": 15
        }
      ]
    },
    {
      "metadata": {
        "id": "Ukdel-aGDfKu",
        "colab_type": "code",
        "colab": {
          "autoexec": {
            "startup": false,
            "wait_interval": 0
          }
        }
      },
      "cell_type": "code",
      "source": [
        ""
      ],
      "execution_count": 0,
      "outputs": []
    },
    {
      "metadata": {
        "id": "ypDYw58WDgen",
        "colab_type": "text"
      },
      "cell_type": "markdown",
      "source": [
        "Let's say we have a client with expensive taste, and we only consider retailers that sell gadgets over $700. Note that we must use `HAVING` to define predicates on aggregated columns; we can't use `WHERE` to filter an aggregated column. To compute a list of retailers and accompanying prices that satisfy our needs, we run:"
      ]
    },
    {
      "metadata": {
        "id": "HAgxJxU-Dgeo",
        "colab_type": "code",
        "colab": {
          "autoexec": {
            "startup": false,
            "wait_interval": 0
          }
        },
        "outputId": "9afeecc3-28c4-484d-9afd-88d37416e81d"
      },
      "cell_type": "code",
      "source": [
        "sql_expr = \"\"\"\n",
        "SELECT retailer, MAX(price) as max_price\n",
        "FROM prices\n",
        "GROUP BY retailer\n",
        "HAVING max_price > 700\n",
        "\"\"\"\n",
        "pd.read_sql(sql_expr, sqlite_engine)"
      ],
      "execution_count": 0,
      "outputs": [
        {
          "output_type": "execute_result",
          "data": {
            "text/html": [
              "<div>\n",
              "<style scoped>\n",
              "    .dataframe tbody tr th:only-of-type {\n",
              "        vertical-align: middle;\n",
              "    }\n",
              "\n",
              "    .dataframe tbody tr th {\n",
              "        vertical-align: top;\n",
              "    }\n",
              "\n",
              "    .dataframe thead th {\n",
              "        text-align: right;\n",
              "    }\n",
              "</style>\n",
              "<table border=\"1\" class=\"dataframe\">\n",
              "  <thead>\n",
              "    <tr style=\"text-align: right;\">\n",
              "      <th></th>\n",
              "      <th>retailer</th>\n",
              "      <th>max_price</th>\n",
              "    </tr>\n",
              "  </thead>\n",
              "  <tbody>\n",
              "    <tr>\n",
              "      <th>0</th>\n",
              "      <td>Best Buy</td>\n",
              "      <td>719.0</td>\n",
              "    </tr>\n",
              "    <tr>\n",
              "      <th>1</th>\n",
              "      <td>Target</td>\n",
              "      <td>799.0</td>\n",
              "    </tr>\n",
              "  </tbody>\n",
              "</table>\n",
              "</div>"
            ],
            "text/plain": [
              "   retailer  max_price\n",
              "0  Best Buy      719.0\n",
              "1    Target      799.0"
            ]
          },
          "metadata": {
            "tags": []
          },
          "execution_count": 16
        }
      ]
    },
    {
      "metadata": {
        "id": "fBv5gVKADgeq",
        "colab_type": "text"
      },
      "cell_type": "markdown",
      "source": [
        "Only Best Buy and Target seem to match our lavish needs. For comparison, we recreate the same table in `pandas`:"
      ]
    },
    {
      "metadata": {
        "id": "p1QTMs1JDgeq",
        "colab_type": "code",
        "colab": {
          "autoexec": {
            "startup": false,
            "wait_interval": 0
          }
        },
        "outputId": "061e1559-0236-4e75-f0b7-ffce1c6f6e4e"
      },
      "cell_type": "code",
      "source": [
        "max_price_df = df.groupby('retailer').max()\n",
        "max_price_df.loc[max_price_df['price'] > 700, ['price']]"
      ],
      "execution_count": 0,
      "outputs": [
        {
          "output_type": "execute_result",
          "data": {
            "text/html": [
              "<div>\n",
              "<style scoped>\n",
              "    .dataframe tbody tr th:only-of-type {\n",
              "        vertical-align: middle;\n",
              "    }\n",
              "\n",
              "    .dataframe tbody tr th {\n",
              "        vertical-align: top;\n",
              "    }\n",
              "\n",
              "    .dataframe thead th {\n",
              "        text-align: right;\n",
              "    }\n",
              "</style>\n",
              "<table border=\"1\" class=\"dataframe\">\n",
              "  <thead>\n",
              "    <tr style=\"text-align: right;\">\n",
              "      <th></th>\n",
              "      <th>price</th>\n",
              "    </tr>\n",
              "    <tr>\n",
              "      <th>retailer</th>\n",
              "      <th></th>\n",
              "    </tr>\n",
              "  </thead>\n",
              "  <tbody>\n",
              "    <tr>\n",
              "      <th>Best Buy</th>\n",
              "      <td>719.0</td>\n",
              "    </tr>\n",
              "    <tr>\n",
              "      <th>Target</th>\n",
              "      <td>799.0</td>\n",
              "    </tr>\n",
              "  </tbody>\n",
              "</table>\n",
              "</div>"
            ],
            "text/plain": [
              "          price\n",
              "retailer       \n",
              "Best Buy  719.0\n",
              "Target    799.0"
            ]
          },
          "metadata": {
            "tags": []
          },
          "execution_count": 17
        }
      ]
    },
    {
      "metadata": {
        "id": "lQsEZZfWDgeu",
        "colab_type": "text"
      },
      "cell_type": "markdown",
      "source": [
        "### ORDER BY and LIMIT\n",
        "\n",
        "These clauses allow us to control the presentation of the data:\n",
        "- `ORDER BY` lets us present the data in lexicographic order of column values. By default, ORDER BY uses ascending order (`ASC`), but we can specify descending order using `DESC`.\n",
        "- `LIMIT` controls how many tuples are displayed.\n",
        "\n",
        "Let's display the three cheapest items in our `prices` table:"
      ]
    },
    {
      "metadata": {
        "id": "X7aFdIxZDgeu",
        "colab_type": "code",
        "colab": {
          "autoexec": {
            "startup": false,
            "wait_interval": 0
          }
        },
        "outputId": "d4cd90f7-bb6f-45ec-c95c-d543e3408981"
      },
      "cell_type": "code",
      "source": [
        "sql_expr = \"\"\"\n",
        "SELECT *\n",
        "FROM prices\n",
        "ORDER BY price ASC\n",
        "LIMIT 3\n",
        "\"\"\"\n",
        "pd.read_sql(sql_expr, sqlite_engine)"
      ],
      "execution_count": 0,
      "outputs": [
        {
          "output_type": "execute_result",
          "data": {
            "text/html": [
              "<div>\n",
              "<style scoped>\n",
              "    .dataframe tbody tr th:only-of-type {\n",
              "        vertical-align: middle;\n",
              "    }\n",
              "\n",
              "    .dataframe tbody tr th {\n",
              "        vertical-align: top;\n",
              "    }\n",
              "\n",
              "    .dataframe thead th {\n",
              "        text-align: right;\n",
              "    }\n",
              "</style>\n",
              "<table border=\"1\" class=\"dataframe\">\n",
              "  <thead>\n",
              "    <tr style=\"text-align: right;\">\n",
              "      <th></th>\n",
              "      <th>retailer</th>\n",
              "      <th>product</th>\n",
              "      <th>price</th>\n",
              "    </tr>\n",
              "  </thead>\n",
              "  <tbody>\n",
              "    <tr>\n",
              "      <th>0</th>\n",
              "      <td>Amazon</td>\n",
              "      <td>Battery pack</td>\n",
              "      <td>24.87</td>\n",
              "    </tr>\n",
              "    <tr>\n",
              "      <th>1</th>\n",
              "      <td>Best Buy</td>\n",
              "      <td>iPod</td>\n",
              "      <td>200.00</td>\n",
              "    </tr>\n",
              "    <tr>\n",
              "      <th>2</th>\n",
              "      <td>Target</td>\n",
              "      <td>iPod</td>\n",
              "      <td>215.00</td>\n",
              "    </tr>\n",
              "  </tbody>\n",
              "</table>\n",
              "</div>"
            ],
            "text/plain": [
              "   retailer       product   price\n",
              "0    Amazon  Battery pack   24.87\n",
              "1  Best Buy          iPod  200.00\n",
              "2    Target          iPod  215.00"
            ]
          },
          "metadata": {
            "tags": []
          },
          "execution_count": 18
        }
      ]
    },
    {
      "metadata": {
        "id": "Xo31JonpDgex",
        "colab_type": "text"
      },
      "cell_type": "markdown",
      "source": [
        "Note that we didn't have to include the `ASC` keyword (since `ORDER BY` returns data in ascending order by default).\n",
        "For comparison, in `pandas`:"
      ]
    },
    {
      "metadata": {
        "id": "mJGnPtT7Dgex",
        "colab_type": "code",
        "colab": {
          "autoexec": {
            "startup": false,
            "wait_interval": 0
          }
        },
        "outputId": "e57f4864-c559-439f-93a0-444d97094ba7"
      },
      "cell_type": "code",
      "source": [
        "df.sort_values('price').head(3)"
      ],
      "execution_count": 0,
      "outputs": [
        {
          "output_type": "execute_result",
          "data": {
            "text/html": [
              "<div>\n",
              "<style scoped>\n",
              "    .dataframe tbody tr th:only-of-type {\n",
              "        vertical-align: middle;\n",
              "    }\n",
              "\n",
              "    .dataframe tbody tr th {\n",
              "        vertical-align: top;\n",
              "    }\n",
              "\n",
              "    .dataframe thead th {\n",
              "        text-align: right;\n",
              "    }\n",
              "</style>\n",
              "<table border=\"1\" class=\"dataframe\">\n",
              "  <thead>\n",
              "    <tr style=\"text-align: right;\">\n",
              "      <th></th>\n",
              "      <th>retailer</th>\n",
              "      <th>product</th>\n",
              "      <th>price</th>\n",
              "    </tr>\n",
              "  </thead>\n",
              "  <tbody>\n",
              "    <tr>\n",
              "      <th>3</th>\n",
              "      <td>Amazon</td>\n",
              "      <td>Battery pack</td>\n",
              "      <td>24.87</td>\n",
              "    </tr>\n",
              "    <tr>\n",
              "      <th>1</th>\n",
              "      <td>Best Buy</td>\n",
              "      <td>iPod</td>\n",
              "      <td>200.00</td>\n",
              "    </tr>\n",
              "    <tr>\n",
              "      <th>5</th>\n",
              "      <td>Target</td>\n",
              "      <td>iPod</td>\n",
              "      <td>215.00</td>\n",
              "    </tr>\n",
              "  </tbody>\n",
              "</table>\n",
              "</div>"
            ],
            "text/plain": [
              "   retailer       product   price\n",
              "3    Amazon  Battery pack   24.87\n",
              "1  Best Buy          iPod  200.00\n",
              "5    Target          iPod  215.00"
            ]
          },
          "metadata": {
            "tags": []
          },
          "execution_count": 19
        }
      ]
    },
    {
      "metadata": {
        "id": "vFISvHXTDge1",
        "colab_type": "text"
      },
      "cell_type": "markdown",
      "source": [
        "Again, we see that the indices are out of order in the `pandas` dataframe. As before, `pandas` returns a view on our dataframe `df`, whereas SQL is displaying a new table that matches our requirements each time that we execute a query."
      ]
    },
    {
      "metadata": {
        "id": "ESRS1LaiAiRw",
        "colab_type": "text"
      },
      "cell_type": "markdown",
      "source": [
        "### Conceptual SQL Evaluation\n",
        "\n",
        "Clauses in a SQL query are executed in a specific order. It is important to know this order because it differs from the order that the clauses are written in a SQL query. From first executed to last:\n",
        "\n",
        "1. `FROM`: One or more source tables (see the next section to learn about joins)\n",
        "2. `WHERE`: Apply selection qualifications (eliminate rows)\n",
        "3. `GROUP BY`: Form groups and aggregate\n",
        "4. `HAVING`: Eliminate groups\n",
        "5. `SELECT`: Project away columns (just keep those used in `SELECT`, `GROUP BY`, and `HAVING`)\n",
        "6. `[DISTINCT]`: Eliminate duplicates\n",
        "\n",
        "\n",
        "**`WHERE` vs. `HAVING`**: Since the `WHERE` clause is processed before applying `GROUP BY`, the `WHERE` clause cannot make use of aggregated values. To define predicates based on aggregated values, we must use `HAVING`."
      ]
    }
  ]
}