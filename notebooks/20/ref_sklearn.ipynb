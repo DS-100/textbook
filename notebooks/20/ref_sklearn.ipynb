{
 "cells": [
  {
   "cell_type": "markdown",
   "metadata": {},
   "source": [
    "# scikit-learn\n",
    "## Models and Model Selection\n",
    "| Import | Function        \t\t\t\t|  Section  \t\t\t| Description |  \n",
    "| ------- | -------- \t\t\t\t|  -------------------------------------------------------------------------------------------------| ---------- | \t------- |\n",
    "| `sklearn.model_selection` | [`train_test_split(*arrays, test_size=0.2)`](http://scikit-learn.org/stable/modules/generated/sklearn.model_selection.train_test_split.html)\t\t\t| Modeling and Estimation  | Returns two random subsets of each array passed in, with 0.8 of the array in the first subset and 0.2 in the second subset\t\t\t\t\t\t|  \n",
    "| `sklearn.linear_model` | [`LinearRegression()`](http://scikit-learn.org/stable/modules/generated/sklearn.linear_model.LinearRegression.html)\t\t\t| Modeling and Estimation  | Returns an ordinary least squares Linear Regression model\t\t\t|  \n",
    "| `sklearn.linear_model` | [`LassoCV()`](http://scikit-learn.org/stable/modules/generated/sklearn.linear_model.LinearRegression.html)\t\t\t| Modeling and Estimation  | Returns a Lasso (L1 Regularization) linear model with picking the best model by cross validation\t\t\t\t|\n",
    "| `sklearn.linear_model` | [`RidgeCV()`](http://scikit-learn.org/stable/modules/generated/sklearn.linear_model.LinearRegression.html)\t\t\t| Modeling and Estimation  | Returns a Ridge (L2 Regularization) linear model with picking the best model by cross validation\t\t\t\t\t\t|\n",
    "| `sklearn.linear_model` | [`ElasticNetCV()`](http://scikit-learn.org/stable/modules/generated/sklearn.linear_model.LinearRegression.html)\t\t\t| Modeling and Estimation  | Returns a ElasticNet (L1 and L2 Regularization) linear model with picking the best model by cross validation\t\t\t|\n",
    "| `sklearn.linear_model` | [`LogisticRegression()`](http://scikit-learn.org/stable/modules/generated/sklearn.linear_model.LinearRegression.html)\t\t\t| Modeling and Estimation  | Returns a Logistic Regression classifier\t\t\t\t\t\t|\n",
    "| `sklearn.linear_model` | [`LogisticRegressionCV()`](http://scikit-learn.org/stable/modules/generated/sklearn.linear_model.LogisticRegressionCV.html)\t\t\t| Modeling and Estimation  | Returns a Logistic Regression classifier with picking the best model by cross validation\t\t\t\t\t\t|\n",
    "\n",
    "## Working with a Model\n",
    "\n",
    "Assuming you have a `model` variable that is a `scikit-learn` object:\n",
    "\n",
    "| Function        \t\t\t\t|  Section  \t\t\t| Description |  \n",
    "| -------- \t\t\t\t|  -------------------------------------------------------------------------------------------------| ---------- | \t------- |\n",
    "| `model.fit(X, y)`\t\t\t| Modeling and Estimation  | Fits the model with the X and y passed in\t\t\t|\n",
    "| `model.predict(X)`\t\t\t| Modeling and Estimation  | Returns predictions on the X passed in according to the model\t\t|\n",
    "| `model.score(X, y)`\t\t\t| Modeling and Estimation  | Returns the accuracy of X predictions based on the corect values (y)\t\t|\n"
   ]
  }
 ],
 "metadata": {},
 "nbformat": 4,
 "nbformat_minor": 2
}
