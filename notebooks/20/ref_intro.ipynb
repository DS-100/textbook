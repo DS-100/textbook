{
 "cells": [
  {
   "cell_type": "markdown",
   "metadata": {},
   "source": [
    "## Reference Tables\n",
    "\n",
    "This appendix contains reference tables for the `pandas`, `seaborn`,\n",
    "`matplotlib`, and `scikit-learn` methods used in the book. It is meant to\n",
    "provide a helpful overview of the small subset of methods that we use most\n",
    "often in this book.\n",
    "\n",
    "For each library, we list the methods used, the chapter where each method is\n",
    "first mentioned, and a brief description of the method's functionality.\n"
   ]
  }
 ],
 "metadata": {},
 "nbformat": 4,
 "nbformat_minor": 2
}
