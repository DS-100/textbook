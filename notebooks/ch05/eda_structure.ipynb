{
 "cells": [
  {
   "cell_type": "code",
   "execution_count": 60,
   "metadata": {},
   "outputs": [],
   "source": [
    "# HIDDEN\n",
    "import numpy as np\n",
    "import matplotlib.pyplot as plt\n",
    "import pandas as pd\n",
    "import seaborn as sns\n",
    "%matplotlib inline\n",
    "import ipywidgets as widgets\n",
    "from ipywidgets import interact, interactive, fixed, interact_manual\n",
    "import nbinteract as nbi\n",
    "from IPython.display import display, HTML\n",
    "\n",
    "sns.set()\n",
    "sns.set_context('talk')\n",
    "pd.options.display.max_rows = 10\n",
    "pd.options.display.max_columns = 8"
   ]
  },
  {
   "cell_type": "code",
   "execution_count": null,
   "metadata": {},
   "outputs": [],
   "source": [
    "# HIDDEN\n",
    "def display_two(df1, df2):\n",
    "    '''Displays two DFs side-by-side.'''\n",
    "    display(\n",
    "        HTML('<div style=\"display: flex;\">'\n",
    "                 '{}'\n",
    "                 '<div style=\"width: 20px;\"></div>'\n",
    "                 '{}'\n",
    "             '</div>'.format(df1._repr_html_(), df2._repr_html_()))\n",
    "    )"
   ]
  },
  {
   "cell_type": "markdown",
   "metadata": {},
   "source": [
    "## Structure\n",
    "\n",
    "The structure of a dataset refers to the \"shape\" of the data files. At a basic level, this refers to the format that the data are entered in. For example, we saw that the Calls dataset is a comma-separated values file:"
   ]
  },
  {
   "cell_type": "code",
   "execution_count": 18,
   "metadata": {},
   "outputs": [
    {
     "name": "stdout",
     "output_type": "stream",
     "text": [
      "CASENO,OFFENSE,EVENTDT,EVENTTM,CVLEGEND,CVDOW,InDbDate,Block_Location,BLKADDR,City,State\r\n",
      "17091420,BURGLARY AUTO,07/23/2017 12:00:00 AM,06:00,BURGLARY - VEHICLE,0,08/29/2017 08:28:05 AM,\"2500 LE CONTE AVE\r\n",
      "Berkeley, CA\r\n",
      "(37.876965, -122.260544)\",2500 LE CONTE AVE,Berkeley,CA\r\n",
      "17020462,THEFT FROM PERSON,04/13/2017 12:00:00 AM,08:45,LARCENY,4,08/29/2017 08:28:00 AM,\"2200 SHATTUCK AVE\r\n",
      "Berkeley, CA\r\n",
      "(37.869363, -122.268028)\",2200 SHATTUCK AVE,Berkeley,CA\r\n",
      "17050275,BURGLARY AUTO,08/24/2017 12:00:00 AM,18:30,BURGLARY - VEHICLE,4,08/29/2017 08:28:06 AM,\"200 UNIVERSITY AVE\r\n",
      "Berkeley, CA\r\n",
      "(37.865491, -122.310065)\",200 UNIVERSITY AVE,Berkeley,CA\r\n"
     ]
    }
   ],
   "source": [
    "!head data/Berkeley_PD_-_Calls_for_Service.csv"
   ]
  },
  {
   "cell_type": "markdown",
   "metadata": {},
   "source": [
    "The Stops dataset, on the other hand, is a JSON (JavaScript Object Notation) file."
   ]
  },
  {
   "cell_type": "code",
   "execution_count": 25,
   "metadata": {},
   "outputs": [
    {
     "name": "stdout",
     "output_type": "stream",
     "text": [
      "{\n",
      "  \"meta\" : {\n",
      "    \"view\" : {\n",
      "      \"id\" : \"6e9j-pj9p\",\n",
      "      \"name\" : \"Berkeley PD - Stop Data\",\n",
      "...\n",
      ", [ 31079, \"C2B606ED-7872-4B0B-BC9B-4EF45149F34B\", 31079, 1496269085, \"932858\", 1496269085, \"932858\", null, \"2017-00024245\", \"2017-04-30T22:59:26\", \" UNIVERSITY AVE/6TH ST\", \"T\", \"BM2TWN; \", null, null ]\n",
      ", [ 31080, \"8FADF18D-7FE9-441D-8709-7BFEABDACA7A\", 31080, 1496269085, \"932858\", 1496269085, \"932858\", null, \"2017-00024250\", \"2017-04-30T23:19:27\", \" UNIVERSITY AVE /  WEST ST\", \"T\", \"HM4TCS; \", \"37.8698757000001\", \"-122.286550846\" ]\n",
      ", [ 31081, \"F60BD2A4-8C47-4BE7-B1C6-4934BE9DF838\", 31081, 1496269085, \"932858\", 1496269085, \"932858\", null, \"2017-00024254\", \"2017-04-30T23:38:34\", \" CHANNING WAY /  BOWDITCH ST\", \"1194\", \"AR; \", \"37.867207539\", \"-122.256529377\" ]\n",
      " ]\n",
      "}"
     ]
    }
   ],
   "source": [
    "# Show first and last 5 lines of file\n",
    "!head -n 5 data/stops.json\n",
    "!echo '...'\n",
    "!tail -n 5 data/stops.json"
   ]
  },
  {
   "cell_type": "markdown",
   "metadata": {},
   "source": [
    "Of course, there are many other types of data formats. Here is a list of the most common formats:\n",
    "\n",
    "- Comma-Separated Values (CSV) and Tab-Separated Values (TSV). These files contain tabular data delimited by either a comma for CSV or a tab character (`\\t`) for TSV. These files are typically easy to work with because the data are entered in a similar format to DataFrames.\n",
    "- JavaScript Object Notation (JSON). These files contain data in a nested dictionary format. Typically we have to read in the entire file as a Python dict and then figure out how to extract fields for a DataFrame from the dict.\n",
    "- eXtensible Markup Language (XML) or HyperText Markup Language (HTML). These files also contain data in a nested format, for example:\n",
    "\n",
    "    ```xml\n",
    "    <?xml version=\"1.0\" encoding=\"UTF-8\"?>\n",
    "    <note>\n",
    "      <to>Tove</to>\n",
    "      <from>Jani</from>\n",
    "      <heading>Reminder</heading>\n",
    "      <body>Don't forget me this weekend!</body>\n",
    "    </note>\n",
    "    ```\n",
    "    \n",
    "    In a later chapter we will use XPath to extract data from these types of files.\n",
    "- Log data. Many applications will output some data as they run in an unstructured text format, for example:\n",
    "\n",
    "    ```\n",
    "    2005-03-23 23:47:11,663 - sa - INFO - creating an instance of aux_module.Aux\n",
    "    2005-03-23 23:47:11,665 - sa.aux.Aux - INFO - creating an instance of Aux\n",
    "    2005-03-23 23:47:11,665 - sa - INFO - created an instance of aux_module.Aux\n",
    "    2005-03-23 23:47:11,668 - sa - INFO - calling aux_module.Aux.do_something\n",
    "    2005-03-23 23:47:11,668 - sa.aux.Aux - INFO - doing something\n",
    "    ```\n",
    "    \n",
    "    In a later chapter we will use Regular Expressions to extract data from these types of files."
   ]
  },
  {
   "cell_type": "markdown",
   "metadata": {},
   "source": [
    "## Joins\n",
    "\n",
    "Data will often be split across multiple tables. For example, one table can describe some people's personal information while another will contain their emails:"
   ]
  },
  {
   "cell_type": "code",
   "execution_count": 28,
   "metadata": {},
   "outputs": [
    {
     "data": {
      "text/html": [
       "<div>\n",
       "<style scoped>\n",
       "    .dataframe tbody tr th:only-of-type {\n",
       "        vertical-align: middle;\n",
       "    }\n",
       "\n",
       "    .dataframe tbody tr th {\n",
       "        vertical-align: top;\n",
       "    }\n",
       "\n",
       "    .dataframe thead th {\n",
       "        text-align: right;\n",
       "    }\n",
       "</style>\n",
       "<table border=\"1\" class=\"dataframe\">\n",
       "  <thead>\n",
       "    <tr style=\"text-align: right;\">\n",
       "      <th></th>\n",
       "      <th>Name</th>\n",
       "      <th>Color</th>\n",
       "      <th>Number</th>\n",
       "      <th>Sex</th>\n",
       "    </tr>\n",
       "  </thead>\n",
       "  <tbody>\n",
       "    <tr>\n",
       "      <th>0</th>\n",
       "      <td>Joey</td>\n",
       "      <td>blue</td>\n",
       "      <td>42</td>\n",
       "      <td>M</td>\n",
       "    </tr>\n",
       "    <tr>\n",
       "      <th>1</th>\n",
       "      <td>Weiwei</td>\n",
       "      <td>blue</td>\n",
       "      <td>50</td>\n",
       "      <td>F</td>\n",
       "    </tr>\n",
       "    <tr>\n",
       "      <th>2</th>\n",
       "      <td>Joey</td>\n",
       "      <td>green</td>\n",
       "      <td>8</td>\n",
       "      <td>M</td>\n",
       "    </tr>\n",
       "    <tr>\n",
       "      <th>3</th>\n",
       "      <td>Karina</td>\n",
       "      <td>green</td>\n",
       "      <td>7</td>\n",
       "      <td>F</td>\n",
       "    </tr>\n",
       "    <tr>\n",
       "      <th>4</th>\n",
       "      <td>Fernando</td>\n",
       "      <td>pink</td>\n",
       "      <td>-9</td>\n",
       "      <td>M</td>\n",
       "    </tr>\n",
       "    <tr>\n",
       "      <th>5</th>\n",
       "      <td>Nhi</td>\n",
       "      <td>blue</td>\n",
       "      <td>3</td>\n",
       "      <td>F</td>\n",
       "    </tr>\n",
       "    <tr>\n",
       "      <th>6</th>\n",
       "      <td>Sam</td>\n",
       "      <td>pink</td>\n",
       "      <td>-42</td>\n",
       "      <td>M</td>\n",
       "    </tr>\n",
       "  </tbody>\n",
       "</table>\n",
       "</div>"
      ],
      "text/plain": [
       "       Name  Color  Number Sex\n",
       "0      Joey   blue      42   M\n",
       "1    Weiwei   blue      50   F\n",
       "2      Joey  green       8   M\n",
       "3    Karina  green       7   F\n",
       "4  Fernando   pink      -9   M\n",
       "5       Nhi   blue       3   F\n",
       "6       Sam   pink     -42   M"
      ]
     },
     "execution_count": 28,
     "metadata": {},
     "output_type": "execute_result"
    }
   ],
   "source": [
    "people = pd.DataFrame(\n",
    "    [[\"Joey\",      \"blue\",    42,  \"M\"],\n",
    "     [\"Weiwei\",    \"blue\",    50,  \"F\"],\n",
    "     [\"Joey\",      \"green\",    8,  \"M\"],\n",
    "     [\"Karina\",    \"green\",    7,  \"F\"],\n",
    "     [\"Nhi\",       \"blue\",     3,  \"F\"],\n",
    "     [\"Sam\",       \"pink\",   -42,  \"M\"]], \n",
    "    columns = [\"Name\", \"Color\", \"Number\", \"Sex\"])\n",
    "\n",
    "people"
   ]
  },
  {
   "cell_type": "code",
   "execution_count": 29,
   "metadata": {},
   "outputs": [
    {
     "data": {
      "text/html": [
       "<div>\n",
       "<style scoped>\n",
       "    .dataframe tbody tr th:only-of-type {\n",
       "        vertical-align: middle;\n",
       "    }\n",
       "\n",
       "    .dataframe tbody tr th {\n",
       "        vertical-align: top;\n",
       "    }\n",
       "\n",
       "    .dataframe thead th {\n",
       "        text-align: right;\n",
       "    }\n",
       "</style>\n",
       "<table border=\"1\" class=\"dataframe\">\n",
       "  <thead>\n",
       "    <tr style=\"text-align: right;\">\n",
       "      <th></th>\n",
       "      <th>User Name</th>\n",
       "      <th>Email</th>\n",
       "    </tr>\n",
       "  </thead>\n",
       "  <tbody>\n",
       "    <tr>\n",
       "      <th>0</th>\n",
       "      <td>Deb</td>\n",
       "      <td>deborah_nolan@berkeley.edu</td>\n",
       "    </tr>\n",
       "    <tr>\n",
       "      <th>1</th>\n",
       "      <td>Sam</td>\n",
       "      <td>samlau95@berkeley.edu</td>\n",
       "    </tr>\n",
       "    <tr>\n",
       "      <th>2</th>\n",
       "      <td>John</td>\n",
       "      <td>doe@nope.com</td>\n",
       "    </tr>\n",
       "    <tr>\n",
       "      <th>3</th>\n",
       "      <td>Joey</td>\n",
       "      <td>jegonzal@cs.berkeley.edu</td>\n",
       "    </tr>\n",
       "    <tr>\n",
       "      <th>4</th>\n",
       "      <td>Weiwei</td>\n",
       "      <td>weiwzhang@berkeley.edu</td>\n",
       "    </tr>\n",
       "    <tr>\n",
       "      <th>5</th>\n",
       "      <td>Weiwei</td>\n",
       "      <td>weiwzhang+123@berkeley.edu</td>\n",
       "    </tr>\n",
       "    <tr>\n",
       "      <th>6</th>\n",
       "      <td>Karina</td>\n",
       "      <td>kgoot@berkeley.edu</td>\n",
       "    </tr>\n",
       "  </tbody>\n",
       "</table>\n",
       "</div>"
      ],
      "text/plain": [
       "  User Name                       Email\n",
       "0       Deb  deborah_nolan@berkeley.edu\n",
       "1       Sam       samlau95@berkeley.edu\n",
       "2      John                doe@nope.com\n",
       "3      Joey    jegonzal@cs.berkeley.edu\n",
       "4    Weiwei      weiwzhang@berkeley.edu\n",
       "5    Weiwei  weiwzhang+123@berkeley.edu\n",
       "6    Karina          kgoot@berkeley.edu"
      ]
     },
     "execution_count": 29,
     "metadata": {},
     "output_type": "execute_result"
    }
   ],
   "source": [
    "email = pd.DataFrame(\n",
    "    [[\"Deb\",  \"deborah_nolan@berkeley.edu\"],\n",
    "     [\"Sam\",  \"samlau95@berkeley.edu\"],\n",
    "     [\"John\", \"doe@nope.com\"],\n",
    "     [\"Joey\", \"jegonzal@cs.berkeley.edu\"],\n",
    "     [\"Weiwei\", \"weiwzhang@berkeley.edu\"],\n",
    "     [\"Weiwei\", \"weiwzhang+123@berkeley.edu\"],\n",
    "     [\"Karina\", \"kgoot@berkeley.edu\"]], \n",
    "    columns = [\"User Name\", \"Email\"])\n",
    "\n",
    "email"
   ]
  },
  {
   "cell_type": "markdown",
   "metadata": {},
   "source": [
    "To match up each person with his or her email, we can join the two tables on the columns that contain the usernames. We must then decide what to do about people that appear in one table but not the other. For example, Fernando appears in the `people` table but not the `email` table. We have several types of joins for each strategy of matching missing values. One of the more common joins is the *inner join*, where any row that doesn't have a match is dropped in the final result:"
   ]
  },
  {
   "cell_type": "code",
   "execution_count": 30,
   "metadata": {},
   "outputs": [
    {
     "data": {
      "text/html": [
       "<div>\n",
       "<style scoped>\n",
       "    .dataframe tbody tr th:only-of-type {\n",
       "        vertical-align: middle;\n",
       "    }\n",
       "\n",
       "    .dataframe tbody tr th {\n",
       "        vertical-align: top;\n",
       "    }\n",
       "\n",
       "    .dataframe thead th {\n",
       "        text-align: right;\n",
       "    }\n",
       "</style>\n",
       "<table border=\"1\" class=\"dataframe\">\n",
       "  <thead>\n",
       "    <tr style=\"text-align: right;\">\n",
       "      <th></th>\n",
       "      <th>Name</th>\n",
       "      <th>Color</th>\n",
       "      <th>Number</th>\n",
       "      <th>Sex</th>\n",
       "      <th>User Name</th>\n",
       "      <th>Email</th>\n",
       "    </tr>\n",
       "  </thead>\n",
       "  <tbody>\n",
       "    <tr>\n",
       "      <th>0</th>\n",
       "      <td>Joey</td>\n",
       "      <td>blue</td>\n",
       "      <td>42</td>\n",
       "      <td>M</td>\n",
       "      <td>Joey</td>\n",
       "      <td>jegonzal@cs.berkeley.edu</td>\n",
       "    </tr>\n",
       "    <tr>\n",
       "      <th>1</th>\n",
       "      <td>Joey</td>\n",
       "      <td>green</td>\n",
       "      <td>8</td>\n",
       "      <td>M</td>\n",
       "      <td>Joey</td>\n",
       "      <td>jegonzal@cs.berkeley.edu</td>\n",
       "    </tr>\n",
       "    <tr>\n",
       "      <th>2</th>\n",
       "      <td>Weiwei</td>\n",
       "      <td>blue</td>\n",
       "      <td>50</td>\n",
       "      <td>F</td>\n",
       "      <td>Weiwei</td>\n",
       "      <td>weiwzhang@berkeley.edu</td>\n",
       "    </tr>\n",
       "    <tr>\n",
       "      <th>3</th>\n",
       "      <td>Weiwei</td>\n",
       "      <td>blue</td>\n",
       "      <td>50</td>\n",
       "      <td>F</td>\n",
       "      <td>Weiwei</td>\n",
       "      <td>weiwzhang+123@berkeley.edu</td>\n",
       "    </tr>\n",
       "    <tr>\n",
       "      <th>4</th>\n",
       "      <td>Karina</td>\n",
       "      <td>green</td>\n",
       "      <td>7</td>\n",
       "      <td>F</td>\n",
       "      <td>Karina</td>\n",
       "      <td>kgoot@berkeley.edu</td>\n",
       "    </tr>\n",
       "    <tr>\n",
       "      <th>5</th>\n",
       "      <td>Sam</td>\n",
       "      <td>pink</td>\n",
       "      <td>-42</td>\n",
       "      <td>M</td>\n",
       "      <td>Sam</td>\n",
       "      <td>samlau95@berkeley.edu</td>\n",
       "    </tr>\n",
       "  </tbody>\n",
       "</table>\n",
       "</div>"
      ],
      "text/plain": [
       "     Name  Color  Number Sex User Name                       Email\n",
       "0    Joey   blue      42   M      Joey    jegonzal@cs.berkeley.edu\n",
       "1    Joey  green       8   M      Joey    jegonzal@cs.berkeley.edu\n",
       "2  Weiwei   blue      50   F    Weiwei      weiwzhang@berkeley.edu\n",
       "3  Weiwei   blue      50   F    Weiwei  weiwzhang+123@berkeley.edu\n",
       "4  Karina  green       7   F    Karina          kgoot@berkeley.edu\n",
       "5     Sam   pink     -42   M       Sam       samlau95@berkeley.edu"
      ]
     },
     "execution_count": 30,
     "metadata": {},
     "output_type": "execute_result"
    }
   ],
   "source": [
    "# Fernando, Nhi, Deb, and John don't appear\n",
    "people.merge(email, how='inner', left_on='Name', right_on='User Name')"
   ]
  },
  {
   "cell_type": "markdown",
   "metadata": {},
   "source": [
    "There are four basic joins that we use most often: inner, full (sometimes called \"outer\"), left, and right joins. Below is a diagram to show the difference between these types of joins.\n",
    "\n",
    "![joins](https://github.com/DS-100/textbook/raw/master/assets/joins.png)\n",
    "\n",
    "Use the dropdown menu below to show the result of the four different types of joins on the `people` and `email` tables. Notice which rows contain NaN values for outer, left, and right joins."
   ]
  },
  {
   "cell_type": "code",
   "execution_count": 66,
   "metadata": {},
   "outputs": [
    {
     "data": {
      "application/vnd.jupyter.widget-view+json": {
       "model_id": "7004563e1f21490c9b67bb1ba6e745eb",
       "version_major": 2,
       "version_minor": 0
      },
      "text/plain": [
       "A Jupyter Widget"
      ]
     },
     "metadata": {},
     "output_type": "display_data"
    }
   ],
   "source": [
    "# HIDDEN\n",
    "def join_demo(join_type):\n",
    "    display(HTML('people and email tables:'))\n",
    "    display_two(people, email)\n",
    "    display(HTML('<br>'))\n",
    "    display(HTML('Joined table:'))\n",
    "    display(people.merge(email, how=join_type,\n",
    "                         left_on='Name', right_on='User Name'))\n",
    "    \n",
    "interact(join_demo, join_type=['inner', 'outer', 'left', 'right']);"
   ]
  },
  {
   "cell_type": "markdown",
   "metadata": {},
   "source": [
    "## Structure Checklist\n",
    "\n",
    "You should have answers to the following questions after looking at the structure of your datasets. We will answer them for the Calls and Stops datasets.\n",
    "\n",
    "**Are the data in a standard format or encoding?**\n",
    "\n",
    "Standard formats include:\n",
    "\n",
    "- Tabular data: CSV, TSV, Excel, SQL\n",
    "- Nested data: JSON, XML\n",
    "\n",
    "The Calls dataset came in the CSV format while the Stops dataset came in the JSON format.\n",
    "\n",
    "**Are the data organized in records (e.g. rows)? If not, can we define records by parsing the data?**\n",
    "\n",
    "The Calls dataset came in rows; we extracted records from the Stops dataset.\n",
    "\n",
    "**Are the data nested? If so, can we reasonably unnest the data?**\n",
    "\n",
    "The Calls dataset wasn't nested; we didn't have to work too hard to unnest data from the Stops dataset.\n",
    "\n",
    "**Do the data reference other data? If so, can we join the data?**\n",
    "\n",
    "The Calls dataset references the day of week table. Joining those two tables gives us the day of week for each incident in the dataset. The Stops dataset had no obvious references.\n",
    "\n",
    "**What are the fields (e.g. columns) in each record? What is the type of each column?**\n",
    "\n",
    "The fields for the Calls and Stops datasets are described in the Data Cleaning sections for each dataset."
   ]
  }
 ],
 "metadata": {
  "kernelspec": {
   "display_name": "Python 3",
   "language": "python",
   "name": "python3"
  },
  "language_info": {
   "codemirror_mode": {
    "name": "ipython",
    "version": 3
   },
   "file_extension": ".py",
   "mimetype": "text/x-python",
   "name": "python",
   "nbconvert_exporter": "python",
   "pygments_lexer": "ipython3",
   "version": "3.6.3"
  }
 },
 "nbformat": 4,
 "nbformat_minor": 2
}
