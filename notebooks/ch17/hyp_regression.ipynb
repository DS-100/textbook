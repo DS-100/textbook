{
 "cells": [
  {
   "cell_type": "code",
   "execution_count": 2,
   "metadata": {},
   "outputs": [],
   "source": [
    "#HIDDEN \n",
    "import numpy as np\n",
    "import matplotlib.pyplot as plt\n",
    "import pandas as pd\n",
    "import seaborn as sns\n",
    "%matplotlib inline\n",
    "import ipywidgets as widgets\n",
    "from ipywidgets import interact, interactive, fixed, interact_manual\n",
    "#import nbinteract as nbi\n",
    "\n",
    "sns.set()\n",
    "sns.set_context('talk')\n",
    "np.set_printoptions(threshold=20, precision=2, suppress=True)\n",
    "pd.options.display.max_rows = 7\n",
    "pd.options.display.max_columns = 8\n",
    "pd.set_option('precision', 2)\n",
    "# This option stops scientific notation for pandas\n",
    "# pd.set_option('display.float_format', '{:.2f}'.format)"
   ]
  },
  {
   "cell_type": "markdown",
   "metadata": {
    "colab_type": "text",
    "id": "C8fl0JZSL8Fc"
   },
   "source": [
    "## Bootstrapping for Linear Regression (Inference for the True Coefficients)\n",
    "\n",
    "Recall that in linear regression, we create a model of the following form\n",
    "$$\n",
    "f_\\hat{\\theta} (x) = \\hat{\\theta_0} + \\hat{\\theta_1} x_1 + \\ldots + \\hat{\\theta_p} x_p\n",
    "$$\n",
    "\n",
    "We would like to infer the true coefficients of the model. Since the $\\hat{\\theta_0}$, $\\hat{\\theta_1}$, $\\ldots$ $\\hat{\\theta_p}$ are estimators that vary based on our training data/observations, we would like to understand how our estimated coefficients compare with the true coefficients. Bootstrapping is a *nonparametric* approach to statistical inference that gives us standard errors and confidence intervals for our parameters. \n",
    "\n",
    "Let's take a look at an example of how we use bootstrapping methods within linear regression. \n"
   ]
  },
  {
   "cell_type": "markdown",
   "metadata": {
    "colab_type": "text",
    "id": "5u8eZneY7QFC"
   },
   "source": [
    "### The Data\n",
    "\n",
    "The Duncan dataset contains information on the prestige and other characteristics of 45 U. S. occupations in 1950. The data are in the the data frame Duncan in the `cars’ package. The variables are:\n",
    "\n",
    "`prestige` represents the percentage of respondents in a survey who rated an occupation as “good” or “excellent” in prestige\n",
    "\n",
    "`education` represents the percentage of incumbents in the occupation in the 1950 U.S. Census who were high school graduates\n",
    "\n",
    "`income` represents the percentage of occupational incumbents who earned incomes in excess of $3,500.\n"
   ]
  },
  {
   "cell_type": "code",
   "execution_count": 3,
   "metadata": {},
   "outputs": [
    {
     "data": {
      "text/html": [
       "<div>\n",
       "<style scoped>\n",
       "    .dataframe tbody tr th:only-of-type {\n",
       "        vertical-align: middle;\n",
       "    }\n",
       "\n",
       "    .dataframe tbody tr th {\n",
       "        vertical-align: top;\n",
       "    }\n",
       "\n",
       "    .dataframe thead th {\n",
       "        text-align: right;\n",
       "    }\n",
       "</style>\n",
       "<table border=\"1\" class=\"dataframe\">\n",
       "  <thead>\n",
       "    <tr style=\"text-align: right;\">\n",
       "      <th></th>\n",
       "      <th>Unnamed: 0</th>\n",
       "      <th>type</th>\n",
       "      <th>income</th>\n",
       "      <th>education</th>\n",
       "      <th>prestige</th>\n",
       "    </tr>\n",
       "  </thead>\n",
       "  <tbody>\n",
       "    <tr>\n",
       "      <th>0</th>\n",
       "      <td>accountant</td>\n",
       "      <td>prof</td>\n",
       "      <td>62</td>\n",
       "      <td>86</td>\n",
       "      <td>82</td>\n",
       "    </tr>\n",
       "    <tr>\n",
       "      <th>1</th>\n",
       "      <td>pilot</td>\n",
       "      <td>prof</td>\n",
       "      <td>72</td>\n",
       "      <td>76</td>\n",
       "      <td>83</td>\n",
       "    </tr>\n",
       "    <tr>\n",
       "      <th>2</th>\n",
       "      <td>architect</td>\n",
       "      <td>prof</td>\n",
       "      <td>75</td>\n",
       "      <td>92</td>\n",
       "      <td>90</td>\n",
       "    </tr>\n",
       "    <tr>\n",
       "      <th>...</th>\n",
       "      <td>...</td>\n",
       "      <td>...</td>\n",
       "      <td>...</td>\n",
       "      <td>...</td>\n",
       "      <td>...</td>\n",
       "    </tr>\n",
       "    <tr>\n",
       "      <th>42</th>\n",
       "      <td>janitor</td>\n",
       "      <td>bc</td>\n",
       "      <td>7</td>\n",
       "      <td>20</td>\n",
       "      <td>8</td>\n",
       "    </tr>\n",
       "    <tr>\n",
       "      <th>43</th>\n",
       "      <td>policeman</td>\n",
       "      <td>bc</td>\n",
       "      <td>34</td>\n",
       "      <td>47</td>\n",
       "      <td>41</td>\n",
       "    </tr>\n",
       "    <tr>\n",
       "      <th>44</th>\n",
       "      <td>waiter</td>\n",
       "      <td>bc</td>\n",
       "      <td>8</td>\n",
       "      <td>32</td>\n",
       "      <td>10</td>\n",
       "    </tr>\n",
       "  </tbody>\n",
       "</table>\n",
       "<p>45 rows × 5 columns</p>\n",
       "</div>"
      ],
      "text/plain": [
       "    Unnamed: 0  type  income  education  prestige\n",
       "0   accountant  prof      62         86        82\n",
       "1        pilot  prof      72         76        83\n",
       "2    architect  prof      75         92        90\n",
       "..         ...   ...     ...        ...       ...\n",
       "42     janitor    bc       7         20         8\n",
       "43   policeman    bc      34         47        41\n",
       "44      waiter    bc       8         32        10\n",
       "\n",
       "[45 rows x 5 columns]"
      ]
     },
     "execution_count": 3,
     "metadata": {},
     "output_type": "execute_result"
    }
   ],
   "source": [
    "duncan = pd.read_csv('duncan.csv').iloc[]\n",
    "duncan"
   ]
  },
  {
   "cell_type": "code",
   "execution_count": 5,
   "metadata": {},
   "outputs": [
    {
     "data": {
      "text/plain": [
       "<matplotlib.collections.PathCollection at 0x1a1cf2cd30>"
      ]
     },
     "execution_count": 5,
     "metadata": {},
     "output_type": "execute_result"
    },
    {
     "data": {
      "image/png": "[encoded data removed]",
      "text/plain": [
       "<matplotlib.figure.Figure at 0x1a14003048>"
      ]
     },
     "metadata": {},
     "output_type": "display_data"
    }
   ],
   "source": [
    "plt.scatter(x=duncan[\"education\"], y=duncan[\"prestige\"])"
   ]
  },
  {
   "cell_type": "code",
   "execution_count": 6,
   "metadata": {},
   "outputs": [
    {
     "data": {
      "text/plain": [
       "<matplotlib.collections.PathCollection at 0x1a1d0224e0>"
      ]
     },
     "execution_count": 6,
     "metadata": {},
     "output_type": "execute_result"
    },
    {
     "data": {
      "image/png": "[encoded data removed]",
      "text/plain": [
       "<matplotlib.figure.Figure at 0x1a1ceedc88>"
      ]
     },
     "metadata": {},
     "output_type": "display_data"
    }
   ],
   "source": [
    "plt.scatter(x=duncan[\"income\"], y=duncan[\"prestige\"])"
   ]
  },
  {
   "cell_type": "code",
   "execution_count": 7,
   "metadata": {},
   "outputs": [
    {
     "data": {
      "text/plain": [
       "<matplotlib.collections.PathCollection at 0x1a1d0de5f8>"
      ]
     },
     "execution_count": 7,
     "metadata": {},
     "output_type": "execute_result"
    },
    {
     "data": {
      "image/png": "[encoded data removed]",
      "text/plain": [
       "<matplotlib.figure.Figure at 0x1a1cf9bc88>"
      ]
     },
     "metadata": {},
     "output_type": "display_data"
    }
   ],
   "source": [
    "plt.scatter(x=duncan[\"income\"], y=duncan[\"education\"])"
   ]
  },
  {
   "cell_type": "markdown",
   "metadata": {},
   "source": [
    "From the scatter plots above, we see that both income and education have a positive relationship with prestige. We would like to explore the partial relationship of prestige to education holding income constant (rather than the marginal relationship between prestige and education ignoring income)."
   ]
  },
  {
   "cell_type": "markdown",
   "metadata": {},
   "source": [
    "### Fitting the model \n",
    "\n",
    "We will create the following model, that explains the prestige of an occupation as a linear function of income and education:\n",
    "\n",
    "$$\n",
    "\\texttt{prestige}_i\n",
    "= \\beta_0^* \n",
    "+ \\beta_\\texttt{income}^*\\cdot\\texttt{income}_i\n",
    "+ \\beta_\\texttt{education}^*\\cdot\\texttt{education}_i\n",
    "+ \\varepsilon_i\n",
    "$$\n",
    "\n",
    "Below, we fit our linear model and print all the $\\beta$ coefficients of the model (from the equation above) after the model has been fit to the data."
   ]
  },
  {
   "cell_type": "code",
   "execution_count": 11,
   "metadata": {},
   "outputs": [
    {
     "name": "stdout",
     "output_type": "stream",
     "text": [
      "\n",
      "intercept: -6.06\n",
      "income:    0.60\n",
      "education:    0.55\n",
      "\n"
     ]
    }
   ],
   "source": [
    "import sklearn.linear_model as lm\n",
    "\n",
    "linear_model = lm.LinearRegression()\n",
    "linear_model.fit(duncan.loc[:, [\"income\", \"education\"]], duncan[\"prestige\"])\n",
    "\n",
    "print(\"\"\"\n",
    "intercept: %.2f\n",
    "income:    %.2f\n",
    "education:    %.2f\n",
    "\"\"\" % (tuple([linear_model.intercept_]) + tuple(linear_model.coef_)))"
   ]
  },
  {
   "cell_type": "markdown",
   "metadata": {},
   "source": [
    "The coefficients above give us an estimate of the true coefficients. But had our data been different, we would have fit our model to different data, causing these coefficients to be different. We would like to explore what our coefficients might have been using bootstrapping methods."
   ]
  },
  {
   "cell_type": "markdown",
   "metadata": {
    "colab_type": "text",
    "id": "vqGBN-NtGikV"
   },
   "source": [
    "### Method 1: Bootstrapping the Observations \n",
    "\n",
    "Researchers are most interested in the coefficient of education.\n",
    "\n",
    "#### Bootstrap Sampling Distribution of $\\widehat\\beta_\\texttt{education}$\n",
    "\n",
    "Here we consider the pairs $(X_i, y_i)$ to be our sample, so we construct the bootstrap resample by sampling with replacement from these pairs:\n",
    "\n",
    "$$\n",
    "(X_i^*, y_i^*) \n",
    "= (X_I, y_I), \\text{ where } I=1,\\dots,n \\text{ is sampled uniformly at random.}\n",
    "$$"
   ]
  },
  {
   "cell_type": "code",
   "execution_count": 16,
   "metadata": {},
   "outputs": [],
   "source": [
    "def simple_resample(n): \n",
    "    return(np.random.randint(low = 0, high = n, size = n))\n",
    "\n",
    "def bootstrap(boot_pop, statistic, resample = simple_resample, replicates = 10000):\n",
    "    n = len(boot_pop)\n",
    "    resample_estimates = np.array([statistic(boot_pop[resample(n)]) for _ in range(replicates)])\n",
    "    return resample_estimates"
   ]
  },
  {
   "cell_type": "code",
   "execution_count": 23,
   "metadata": {
    "colab": {
     "autoexec": {
      "startup": false,
      "wait_interval": 0
     }
    },
    "colab_type": "code",
    "id": "JmlWkVa9MAXt"
   },
   "outputs": [],
   "source": [
    "def educ_coeff(data_array):\n",
    "    X = data_array[:, 1:]\n",
    "    y = data_array[:, 0]\n",
    "    \n",
    "    linear_model = lm.LinearRegression()\n",
    "    model = linear_model.fit(X, y)\n",
    "    beta_educ = model.coef_[1]\n",
    "\n",
    "    return beta_educ\n",
    "\n",
    "data_array = duncan.loc[:, [\"prestige\", \"income\", \"education\"]].values\n",
    "\n",
    "beta_hat_sampling = bootstrap(data_array, educ_coeff)"
   ]
  },
  {
   "cell_type": "code",
   "execution_count": 24,
   "metadata": {
    "colab_type": "text",
    "id": "pi0btxqTH4Je"
   },
   "outputs": [
    {
     "data": {
      "image/png": "[encoded data removed]",
      "text/plain": [
       "<matplotlib.figure.Figure at 0x1a1d7947b8>"
      ]
     },
     "metadata": {},
     "output_type": "display_data"
    }
   ],
   "source": [
    "plt.figure(figsize = (7, 5))\n",
    "plt.hist(beta_hat_sampling, bins = 30)\n",
    "plt.xlabel(\"Bootstrap Sampling Distribution of $\\\\widehat{\\\\beta}_{educ}$ (Nonparametric)\")\n",
    "plt.yticks([])\n",
    "plt.show()"
   ]
  },
  {
   "cell_type": "markdown",
   "metadata": {
    "colab_type": "text",
    "id": "mtdypIy4GnxT"
   },
   "source": [
    "#### Estimating the True Coefficients"
   ]
  },
  {
   "cell_type": "markdown",
   "metadata": {},
   "source": [
    "Although we cannot directly measure $\\beta_\\texttt{education}$ we can use a bootstrap confidence interval to account for variability in the sample regression coefficient $\\widehat\\beta_{\\texttt{education}}$. Below, We construct an approximate 95% confidence interval for the true coefficient $\\widehat\\beta_\\texttt{education}$, using the bootstrap percentile method. The confidence interval extends from the 2.5th percentile to the 97.5th percentile of the 5000 bootstrapped coefficients."
   ]
  },
  {
   "cell_type": "code",
   "execution_count": 25,
   "metadata": {
    "colab": {
     "autoexec": {
      "startup": false,
      "wait_interval": 0
     }
    },
    "colab_type": "code",
    "id": "4LWBmJJuGqwj"
   },
   "outputs": [
    {
     "data": {
      "text/plain": [
       "(0.23605055884719855, 0.77537485790998895)"
      ]
     },
     "execution_count": 25,
     "metadata": {},
     "output_type": "execute_result"
    }
   ],
   "source": [
    "left_confidence_interval_endpoint = np.percentile(beta_hat_sampling, 2.5)\n",
    "right_confidence_interval_endpoint = np.percentile(beta_hat_sampling, 97.5)\n",
    "\n",
    "left_confidence_interval_endpoint, right_confidence_interval_endpoint"
   ]
  },
  {
   "cell_type": "markdown",
   "metadata": {
    "colab_type": "text",
    "id": "wZugMnyxIe4E"
   },
   "source": [
    "In order to build the sampling distribution of the coefficients and contruct the confidence intervals for the true coefficients, we directly resampling the observations z\u0004\n",
    "i implicitly treats the regressors X1,... ,Xk as random\n",
    "rather than fixed. We may want to treat the Xs as fixed (if, e.g., the data derive from an experimental\n",
    "design). "
   ]
  },
  {
   "cell_type": "markdown",
   "metadata": {
    "colab_type": "text",
    "id": "7Vih0zQDIK8A"
   },
   "source": [
    "### Method 2: Bootstrapping the Residuals\n",
    "\n",
    "1. Estimate the regression coefficients for the original sample, and calculate\n",
    "the fitted value and residual for each observation.\n",
    "\n",
    "2. Select bootstrap samples of the residuals and calculate bootstrapped Y values where the fitted values are obtained from the original regression.\n",
    "\n",
    "3.  Regress the bootstrapped Y values on the fixed X values to obtain bootstrap regression\n",
    "coefficients.\n",
    "\n",
    "4. Repeat steps two and three several times in order to obtain several bootstrap regression coefficients. These can be used to compute bootstrap standard errors and confidence intervals. "
   ]
  },
  {
   "cell_type": "code",
   "execution_count": 31,
   "metadata": {},
   "outputs": [],
   "source": [
    "X = data_array[:, 1:]\n",
    "y_hat = linear_model.predict(X)\n",
    "y = duncan[\"prestige\"]\n",
    "residuals = (y - y_hat).values\n",
    "\n",
    "def educ_coeff_semi(e, X = X, y_hat = y_hat):\n",
    "    y_new = y_hat + e\n",
    "    \n",
    "    linear_model = lm.LinearRegression()\n",
    "    model_new = linear_model.fit(X, y_new)\n",
    "    return(model_new.coef_[1])\n",
    "\n",
    "beta_hat_sampling_semi = bootstrap(residuals, educ_coeff_semi)"
   ]
  },
  {
   "cell_type": "code",
   "execution_count": 35,
   "metadata": {},
   "outputs": [
    {
     "data": {
      "image/png": "[encoded data removed]",
      "text/plain": [
       "<matplotlib.figure.Figure at 0x1a1dafd128>"
      ]
     },
     "metadata": {},
     "output_type": "display_data"
    }
   ],
   "source": [
    "plt.figure(figsize = (7, 5))\n",
    "plt.hist(beta_hat_sampling_semi, bins = 30)\n",
    "plt.xlabel(\"Bootstrap Sampling Distribution of $\\\\widehat{\\\\beta}_{educ}$ (Semi-parametric)\")\n",
    "plt.yticks([])\n",
    "plt.show()"
   ]
  },
  {
   "cell_type": "markdown",
   "metadata": {
    "colab_type": "text",
    "id": "pbef39zNJg4H"
   },
   "source": [
    "### Estimating the True Coefficients\n",
    "\n",
    "We can construct a confidence interval using the same technique as before."
   ]
  },
  {
   "cell_type": "code",
   "execution_count": 34,
   "metadata": {
    "colab": {
     "autoexec": {
      "startup": false,
      "wait_interval": 0
     }
    },
    "colab_type": "code",
    "id": "_p6JQze3JjAr"
   },
   "outputs": [
    {
     "data": {
      "text/plain": [
       "(0.36043155555175738, 0.73017873381649079)"
      ]
     },
     "execution_count": 34,
     "metadata": {},
     "output_type": "execute_result"
    }
   ],
   "source": [
    "left_confidence_interval_endpoint_semi = np.percentile(beta_hat_sampling_semi, 2.5)\n",
    "right_confidence_interval_endpoint_semi = np.percentile(beta_hat_sampling_semi, 97.5)\n",
    "\n",
    "left_confidence_interval_endpoint_semi, right_confidence_interval_endpoint_semi"
   ]
  },
  {
   "cell_type": "markdown",
   "metadata": {
    "colab_type": "text",
    "id": "iEZLBQRqgxnb"
   },
   "source": [
    "Let's reflect on this method. By randomly reattaching resampled residuals to ﬁtted values, this \n",
    "procedure implicitly assumes that the errors are identically distributed. This is a disadvantage to this model becathe true errors may have nonconstant variance\n",
    "\n",
    "Although this method does not make any assumptions about the error distribution, it implicitly assumes that the functional form of the model is correct"
   ]
  },
  {
   "cell_type": "markdown",
   "metadata": {},
   "source": [
    "### Summary"
   ]
  },
  {
   "cell_type": "code",
   "execution_count": null,
   "metadata": {},
   "outputs": [],
   "source": []
  }
 ],
 "metadata": {
  "colab": {
   "default_view": {},
   "name": "Bootstrapping for Linear Regression.ipynb",
   "provenance": [],
   "version": "0.3.2",
   "views": {}
  },
  "kernelspec": {
   "display_name": "Python 3",
   "language": "python",
   "name": "python3"
  },
  "language_info": {
   "codemirror_mode": {
    "name": "ipython",
    "version": 3
   },
   "file_extension": ".py",
   "mimetype": "text/x-python",
   "name": "python",
   "nbconvert_exporter": "python",
   "pygments_lexer": "ipython3",
   "version": "3.6.4"
  }
 },
 "nbformat": 4,
 "nbformat_minor": 1
}
