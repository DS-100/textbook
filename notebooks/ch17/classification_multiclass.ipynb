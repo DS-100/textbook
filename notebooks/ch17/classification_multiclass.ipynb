{
 "cells": [
  {
   "cell_type": "markdown",
   "metadata": {},
   "source": [
    "## Multiclass Classification\n",
    "\n",
    "Should this be a separate section or just an addendum to an existing section?\n",
    "\n",
    "- What is multiclass classification\n",
    "    - More than 2 labels that can be classified; versus a binary classification which is restricted to 2 labels\n",
    "- A situation where multiclass classification might be used\n",
    "    - Preferably come up with an example in lebron.csv, but might have to use a different data set\n",
    "- OvO vs OvR\n",
    "    - In logistic regression, multiclass classification comes down to a bunch of binary problems\n",
    "    - OvO: Fit a binary classification problem to each pair of classes, then vote for class that wins the most \"head-to-head\" classifications\n",
    "    - OvR/OvA: Fit a binary classification problem for each class versus the rest of the classes; result is class that has the highest probability\n",
    "- Example walking through multiclass? sklearn's logistic regression supports OvR out of the box.\n",
    "\n",
    "## Other types of classification problems\n",
    "\n",
    "- Multilabel: More than one classification problem (e.g. a document can be positive/negative, religion/not religion, political/apolitical, etc.)"
   ]
  }
 ],
 "metadata": {
  "kernelspec": {
   "display_name": "Python 3",
   "language": "python",
   "name": "python3"
  },
  "language_info": {
   "codemirror_mode": {
    "name": "ipython",
    "version": 3
   },
   "file_extension": ".py",
   "mimetype": "text/x-python",
   "name": "python",
   "nbconvert_exporter": "python",
   "pygments_lexer": "ipython3",
   "version": "3.6.5"
  }
 },
 "nbformat": 4,
 "nbformat_minor": 2
}
