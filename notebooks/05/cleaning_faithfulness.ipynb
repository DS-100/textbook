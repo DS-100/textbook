{
 "cells": [
  {
   "cell_type": "code",
   "execution_count": null,
   "metadata": {
    "tags": [
     "hide_input"
    ]
   },
   "outputs": [],
   "source": [
    "# HIDDEN\n",
    "import warnings\n",
    "# Ignore numpy dtype warnings. These warnings are caused by an interaction\n",
    "# between numpy and Cython and can be safely ignored.\n",
    "# Reference: https://stackoverflow.com/a/40846742\n",
    "warnings.filterwarnings(\"ignore\", message=\"numpy.dtype size changed\")\n",
    "warnings.filterwarnings(\"ignore\", message=\"numpy.ufunc size changed\")\n",
    "\n",
    "import numpy as np\n",
    "import matplotlib.pyplot as plt\n",
    "import pandas as pd\n",
    "import seaborn as sns\n",
    "%matplotlib inline\n",
    "import ipywidgets as widgets\n",
    "from ipywidgets import interact, interactive, fixed, interact_manual\n",
    "import nbinteract as nbi\n",
    "\n",
    "sns.set()\n",
    "sns.set_context('talk')\n",
    "np.set_printoptions(threshold=20, precision=2, suppress=True)\n",
    "pd.options.display.max_rows = 7\n",
    "pd.options.display.max_columns = 8\n",
    "pd.set_option('precision', 2)\n",
    "# This option stops scientific notation for pandas\n",
    "# pd.set_option('display.float_format', '{:.2f}'.format)"
   ]
  },
  {
   "cell_type": "markdown",
   "metadata": {},
   "source": [
    "## Faithfulness\n",
    "\n",
    "We describe a dataset as \"faithful\" if we believe it accurately captures reality. Typically, untrustworthy datasets contain:\n",
    "\n",
    "**Unrealistic or incorrect values**\n",
    "\n",
    "For example, dates in the future, locations that don't exist, negative counts, or large outliers.\n",
    "\n",
    "**Violations of obvious dependencies**\n",
    "\n",
    "For example, age and birthday for individuals don't match.\n",
    "\n",
    "**Hand-entered data**\n",
    "\n",
    "As we have seen, these are typically filled with spelling errors and inconsistencies.\n",
    "\n",
    "**Clear signs of data falsification**\n",
    "\n",
    "For example, repeated names, fake looking email addresses, or repeated use of uncommon names or fields.\n",
    "\n",
    "Notice the many similarities to data cleaning. As we have mentioned, we often go back and forth between data cleaning and EDA, especially when determining data faithfulness. For example, visualizations often help us identify strange entries in the data."
   ]
  },
  {
   "cell_type": "code",
   "execution_count": 2,
   "metadata": {},
   "outputs": [
    {
     "data": {
      "text/html": [
       "<div>\n",
       "<style scoped>\n",
       "    .dataframe tbody tr th:only-of-type {\n",
       "        vertical-align: middle;\n",
       "    }\n",
       "\n",
       "    .dataframe tbody tr th {\n",
       "        vertical-align: top;\n",
       "    }\n",
       "\n",
       "    .dataframe thead th {\n",
       "        text-align: right;\n",
       "    }\n",
       "</style>\n",
       "<table border=\"1\" class=\"dataframe\">\n",
       "  <thead>\n",
       "    <tr style=\"text-align: right;\">\n",
       "      <th></th>\n",
       "      <th>CASENO</th>\n",
       "      <th>OFFENSE</th>\n",
       "      <th>EVENTDT</th>\n",
       "      <th>EVENTTM</th>\n",
       "      <th>...</th>\n",
       "      <th>BLKADDR</th>\n",
       "      <th>Latitude</th>\n",
       "      <th>Longitude</th>\n",
       "      <th>Day</th>\n",
       "    </tr>\n",
       "  </thead>\n",
       "  <tbody>\n",
       "    <tr>\n",
       "      <th>0</th>\n",
       "      <td>17091420</td>\n",
       "      <td>BURGLARY AUTO</td>\n",
       "      <td>07/23/2017 12:00:00 AM</td>\n",
       "      <td>06:00</td>\n",
       "      <td>...</td>\n",
       "      <td>2500 LE CONTE AVE</td>\n",
       "      <td>37.876965</td>\n",
       "      <td>-122.260544</td>\n",
       "      <td>Sunday</td>\n",
       "    </tr>\n",
       "    <tr>\n",
       "      <th>1</th>\n",
       "      <td>17038302</td>\n",
       "      <td>BURGLARY AUTO</td>\n",
       "      <td>07/02/2017 12:00:00 AM</td>\n",
       "      <td>22:00</td>\n",
       "      <td>...</td>\n",
       "      <td>BOWDITCH STREET &amp; CHANNING WAY</td>\n",
       "      <td>37.867209</td>\n",
       "      <td>-122.256554</td>\n",
       "      <td>Sunday</td>\n",
       "    </tr>\n",
       "    <tr>\n",
       "      <th>2</th>\n",
       "      <td>17049346</td>\n",
       "      <td>THEFT MISD. (UNDER $950)</td>\n",
       "      <td>08/20/2017 12:00:00 AM</td>\n",
       "      <td>23:20</td>\n",
       "      <td>...</td>\n",
       "      <td>2900 CHANNING WAY</td>\n",
       "      <td>37.867948</td>\n",
       "      <td>-122.250664</td>\n",
       "      <td>Sunday</td>\n",
       "    </tr>\n",
       "    <tr>\n",
       "      <th>3</th>\n",
       "      <td>17091319</td>\n",
       "      <td>THEFT MISD. (UNDER $950)</td>\n",
       "      <td>07/09/2017 12:00:00 AM</td>\n",
       "      <td>04:15</td>\n",
       "      <td>...</td>\n",
       "      <td>2100 RUSSELL ST</td>\n",
       "      <td>37.856719</td>\n",
       "      <td>-122.266672</td>\n",
       "      <td>Sunday</td>\n",
       "    </tr>\n",
       "    <tr>\n",
       "      <th>4</th>\n",
       "      <td>17044238</td>\n",
       "      <td>DISTURBANCE</td>\n",
       "      <td>07/30/2017 12:00:00 AM</td>\n",
       "      <td>01:16</td>\n",
       "      <td>...</td>\n",
       "      <td>TELEGRAPH AVENUE &amp; DURANT AVE</td>\n",
       "      <td>37.867816</td>\n",
       "      <td>-122.258994</td>\n",
       "      <td>Sunday</td>\n",
       "    </tr>\n",
       "  </tbody>\n",
       "</table>\n",
       "<p>5 rows × 9 columns</p>\n",
       "</div>"
      ],
      "text/plain": [
       "     CASENO                   OFFENSE                 EVENTDT EVENTTM   ...    \\\n",
       "0  17091420             BURGLARY AUTO  07/23/2017 12:00:00 AM   06:00   ...     \n",
       "1  17038302             BURGLARY AUTO  07/02/2017 12:00:00 AM   22:00   ...     \n",
       "2  17049346  THEFT MISD. (UNDER $950)  08/20/2017 12:00:00 AM   23:20   ...     \n",
       "3  17091319  THEFT MISD. (UNDER $950)  07/09/2017 12:00:00 AM   04:15   ...     \n",
       "4  17044238               DISTURBANCE  07/30/2017 12:00:00 AM   01:16   ...     \n",
       "\n",
       "                          BLKADDR   Latitude   Longitude     Day  \n",
       "0               2500 LE CONTE AVE  37.876965 -122.260544  Sunday  \n",
       "1  BOWDITCH STREET & CHANNING WAY  37.867209 -122.256554  Sunday  \n",
       "2               2900 CHANNING WAY  37.867948 -122.250664  Sunday  \n",
       "3                 2100 RUSSELL ST  37.856719 -122.266672  Sunday  \n",
       "4   TELEGRAPH AVENUE & DURANT AVE  37.867816 -122.258994  Sunday  \n",
       "\n",
       "[5 rows x 9 columns]"
      ]
     },
     "execution_count": 2,
     "metadata": {},
     "output_type": "execute_result"
    }
   ],
   "source": [
    "calls = pd.read_csv('data/calls.csv')\n",
    "calls.head()"
   ]
  },
  {
   "cell_type": "code",
   "execution_count": 11,
   "metadata": {},
   "outputs": [
    {
     "data": {
      "text/plain": [
       "<matplotlib.axes._subplots.AxesSubplot at 0x1a1ebb2898>"
      ]
     },
     "execution_count": 11,
     "metadata": {},
     "output_type": "execute_result"
    },
    {
     "data": {
      "image/png": "[encoded data removed]",
      "text/plain": [
       "<matplotlib.figure.Figure at 0x1a1ea32a90>"
      ]
     },
     "metadata": {},
     "output_type": "display_data"
    }
   ],
   "source": [
    "calls['CASENO'].plot.hist(bins=30)"
   ]
  },
  {
   "cell_type": "markdown",
   "metadata": {},
   "source": [
    "Notice the unexpected clusters at 17030000 and 17090000. By plotting the distribution of case numbers, we can quickly see anomalies in the data. In this case, we might guess that two different teams of police use different sets of case numbers for their calls.\n",
    "\n",
    "Exploring the data often reveals anomalies; if fixable, we can then apply data cleaning techniques."
   ]
  }
 ],
 "metadata": {
  "kernelspec": {
   "display_name": "Python 3",
   "language": "python",
   "name": "python3"
  },
  "language_info": {
   "codemirror_mode": {
    "name": "ipython",
    "version": 3
   },
   "file_extension": ".py",
   "mimetype": "text/x-python",
   "name": "python",
   "nbconvert_exporter": "python",
   "pygments_lexer": "ipython3",
   "version": "3.6.3"
  },
  "toc": {
   "nav_menu": {},
   "number_sections": false,
   "sideBar": true,
   "skip_h1_title": false,
   "title_cell": "Table of Contents",
   "title_sidebar": "Contents",
   "toc_cell": true,
   "toc_position": {},
   "toc_section_display": true,
   "toc_window_display": false
  }
 },
 "nbformat": 4,
 "nbformat_minor": 2
}
