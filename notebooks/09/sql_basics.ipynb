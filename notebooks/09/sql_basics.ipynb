{
 "cells": [
  {
   "cell_type": "code",
   "execution_count": null,
   "metadata": {
    "tags": [
     "hide_input"
    ]
   },
   "outputs": [],
   "source": [
    "# HIDDEN\n",
    "import warnings\n",
    "# Ignore numpy dtype warnings. These warnings are caused by an interaction\n",
    "# between numpy and Cython and can be safely ignored.\n",
    "# Reference: https://stackoverflow.com/a/40846742\n",
    "warnings.filterwarnings(\"ignore\", message=\"numpy.dtype size changed\")\n",
    "warnings.filterwarnings(\"ignore\", message=\"numpy.ufunc size changed\")\n",
    "\n",
    "import numpy as np\n",
    "import matplotlib.pyplot as plt\n",
    "import pandas as pd\n",
    "import seaborn as sns\n",
    "%matplotlib inline\n",
    "import ipywidgets as widgets\n",
    "from ipywidgets import interact, interactive, fixed, interact_manual\n",
    "import nbinteract as nbi\n",
    "\n",
    "sns.set()\n",
    "sns.set_context('talk')\n",
    "np.set_printoptions(threshold=20, precision=2, suppress=True)\n",
    "pd.options.display.max_rows = 7\n",
    "pd.options.display.max_columns = 8\n",
    "pd.set_option('precision', 2)\n",
    "# This option stops scientific notation for pandas\n",
    "# pd.set_option('display.float_format', '{:.2f}'.format)"
   ]
  },
  {
   "cell_type": "code",
   "execution_count": 2,
   "metadata": {
    "colab": {
     "autoexec": {
      "startup": false,
      "wait_interval": 0
     }
    },
    "colab_type": "code",
    "id": "_TedO1avDgdp",
    "tags": [
     "hide_input"
    ]
   },
   "outputs": [],
   "source": [
    "# HIDDEN\n",
    "\n",
    "# Creating a table\n",
    "sql_expr = \"\"\"\n",
    "CREATE TABLE prices(\n",
    "    retailer TEXT,\n",
    "    product TEXT,\n",
    "    price FLOAT);\n",
    "\"\"\"\n",
    "result = sqlite_engine.execute(sql_expr)"
   ]
  },
  {
   "cell_type": "code",
   "execution_count": 3,
   "metadata": {
    "colab": {
     "autoexec": {
      "startup": false,
      "wait_interval": 0
     }
    },
    "colab_type": "code",
    "id": "WRl9QKQKDgdr",
    "tags": [
     "hide_input"
    ]
   },
   "outputs": [],
   "source": [
    "# HIDDEN\n",
    "\n",
    "# Inserting records into the table\n",
    "sql_expr = \"\"\"\n",
    "INSERT INTO prices VALUES \n",
    "  ('Best Buy', 'Galaxy S9', 719.00),\n",
    "  ('Best Buy', 'iPod', 200.00),\n",
    "  ('Amazon', 'iPad', 450.00),\n",
    "  ('Amazon', 'Battery pack',  24.87),\n",
    "  ('Amazon', 'Chromebook', 249.99),\n",
    "  ('Target', 'iPod', 215.00),\n",
    "  ('Target', 'Surface Pro', 799.00),\n",
    "  ('Target', 'Google Pixel 2', 659.00),\n",
    "  ('Walmart', 'Chromebook', 238.79);\n",
    "\"\"\"\n",
    "result = sqlite_engine.execute(sql_expr)"
   ]
  },
  {
   "cell_type": "code",
   "execution_count": 4,
   "metadata": {
    "colab": {
     "autoexec": {
      "startup": false,
      "wait_interval": 0
     }
    },
    "colab_type": "code",
    "id": "A4MBP3-RDgdw",
    "outputId": "978ab57f-4bce-4ac4-b739-ae9fd2cdd0e5",
    "tags": [
     "hide_input"
    ]
   },
   "outputs": [],
   "source": [
    "# HIDDEN\n",
    "import pandas as pd\n",
    "\n",
    "prices = pd.DataFrame([['Best Buy', 'Galaxy S9', 719.00],\n",
    "                   ['Best Buy', 'iPod', 200.00],\n",
    "                   ['Amazon', 'iPad', 450.00],\n",
    "                   ['Amazon', 'Battery pack', 24.87],\n",
    "                   ['Amazon', 'Chromebook', 249.99],\n",
    "                   ['Target', 'iPod', 215.00],\n",
    "                   ['Target', 'Surface Pro', 799.00],\n",
    "                   ['Target', 'Google Pixel 2', 659.00],\n",
    "                   ['Walmart', 'Chromebook', 238.79]],\n",
    "                 columns=['retailer', 'product', 'price'])"
   ]
  },
  {
   "cell_type": "markdown",
   "metadata": {
    "colab_type": "text",
    "id": "lvsOEBDjDgdd"
   },
   "source": [
    "## SQL\n",
    "\n",
    "**SQL** (Structured Query Language) is a programming language that has operations to define, logically organize, manipulate, and perform calculations on data stored in a relational database management system (RDBMS).\n",
    "\n",
    "SQL is a declarative language. This means that the user only needs to specify *what* kind of data they want, not *how* to obtain it. An example is shown below, with an imperative example for comparison:\n",
    "\n",
    "- **Declarative**: Compute the table with columns \"x\" and \"y\" from table \"A\" where the values in \"y\" are greater than 100.00.\n",
    "- **Imperative**: For each record in table \"A\", check if the record contains a value of \"y\" greater than 100. If so, then store the record's \"x\" and \"y\" attributes in a new table. Return the new table.\n",
    "\n",
    "In this chapter, we will write SQL queries as Python strings, then use `pandas` to execute the SQL query and read the result into a `pandas` DataFrame. As we walk through the basics of SQL syntax, we'll also occasionally show `pandas` equivalents for comparison purposes."
   ]
  },
  {
   "cell_type": "markdown",
   "metadata": {
    "colab_type": "text",
    "id": "QgEUYO2IDgdd"
   },
   "source": [
    "### Executing SQL Queries through `pandas`\n",
    "\n",
    "To execute SQL queries from Python, we will connect to a database using the [sqlalchemy](http://docs.sqlalchemy.org/en/latest/core/tutorial.html) library. Then we can use the `pandas` function [pd.read_sql](https://pandas.pydata.org/pandas-docs/stable/generated/pandas.read_sql.html) to execute SQL queries through this connection."
   ]
  },
  {
   "cell_type": "code",
   "execution_count": 5,
   "metadata": {
    "colab": {
     "autoexec": {
      "startup": false,
      "wait_interval": 0
     },
     "base_uri": "https://localhost:8080/",
     "height": 368
    },
    "colab_type": "code",
    "executionInfo": {
     "elapsed": 2288,
     "status": "error",
     "timestamp": 1523469699841,
     "user": {
      "displayName": "Ananth Agarwal",
      "photoUrl": "https://lh3.googleusercontent.com/a/default-user=s128",
      "userId": "114213530163291820964"
     },
     "user_tz": 420
    },
    "id": "IS_NumI0Dgde",
    "outputId": "c9e6faab-5640-43d0-a321-a23707868cdd"
   },
   "outputs": [],
   "source": [
    "import sqlalchemy\n",
    "\n",
    "# pd.read_sql takes in a parameter for a SQLite engine, which we create below\n",
    "sqlite_uri = \"sqlite:///sql_basics.db\"\n",
    "sqlite_engine = sqlalchemy.create_engine(sqlite_uri)"
   ]
  },
  {
   "cell_type": "markdown",
   "metadata": {},
   "source": [
    "This database contains one relation: `prices`. To display the relation we run a SQL query. Calling `read_sql` will execute the SQL query on the RDBMS, then return the results in a `pandas` DataFrame."
   ]
  },
  {
   "cell_type": "code",
   "execution_count": 6,
   "metadata": {},
   "outputs": [
    {
     "data": {
      "text/html": [
       "<div>\n",
       "<style scoped>\n",
       "    .dataframe tbody tr th:only-of-type {\n",
       "        vertical-align: middle;\n",
       "    }\n",
       "\n",
       "    .dataframe tbody tr th {\n",
       "        vertical-align: top;\n",
       "    }\n",
       "\n",
       "    .dataframe thead th {\n",
       "        text-align: right;\n",
       "    }\n",
       "</style>\n",
       "<table border=\"1\" class=\"dataframe\">\n",
       "  <thead>\n",
       "    <tr style=\"text-align: right;\">\n",
       "      <th></th>\n",
       "      <th>retailer</th>\n",
       "      <th>product</th>\n",
       "      <th>price</th>\n",
       "    </tr>\n",
       "  </thead>\n",
       "  <tbody>\n",
       "    <tr>\n",
       "      <th>0</th>\n",
       "      <td>Best Buy</td>\n",
       "      <td>Galaxy S9</td>\n",
       "      <td>719.00</td>\n",
       "    </tr>\n",
       "    <tr>\n",
       "      <th>1</th>\n",
       "      <td>Best Buy</td>\n",
       "      <td>iPod</td>\n",
       "      <td>200.00</td>\n",
       "    </tr>\n",
       "    <tr>\n",
       "      <th>2</th>\n",
       "      <td>Amazon</td>\n",
       "      <td>iPad</td>\n",
       "      <td>450.00</td>\n",
       "    </tr>\n",
       "    <tr>\n",
       "      <th>3</th>\n",
       "      <td>Amazon</td>\n",
       "      <td>Battery pack</td>\n",
       "      <td>24.87</td>\n",
       "    </tr>\n",
       "    <tr>\n",
       "      <th>4</th>\n",
       "      <td>Amazon</td>\n",
       "      <td>Chromebook</td>\n",
       "      <td>249.99</td>\n",
       "    </tr>\n",
       "    <tr>\n",
       "      <th>5</th>\n",
       "      <td>Target</td>\n",
       "      <td>iPod</td>\n",
       "      <td>215.00</td>\n",
       "    </tr>\n",
       "    <tr>\n",
       "      <th>6</th>\n",
       "      <td>Target</td>\n",
       "      <td>Surface Pro</td>\n",
       "      <td>799.00</td>\n",
       "    </tr>\n",
       "    <tr>\n",
       "      <th>7</th>\n",
       "      <td>Target</td>\n",
       "      <td>Google Pixel 2</td>\n",
       "      <td>659.00</td>\n",
       "    </tr>\n",
       "    <tr>\n",
       "      <th>8</th>\n",
       "      <td>Walmart</td>\n",
       "      <td>Chromebook</td>\n",
       "      <td>238.79</td>\n",
       "    </tr>\n",
       "  </tbody>\n",
       "</table>\n",
       "</div>"
      ],
      "text/plain": [
       "   retailer         product   price\n",
       "0  Best Buy       Galaxy S9  719.00\n",
       "1  Best Buy            iPod  200.00\n",
       "2    Amazon            iPad  450.00\n",
       "3    Amazon    Battery pack   24.87\n",
       "4    Amazon      Chromebook  249.99\n",
       "5    Target            iPod  215.00\n",
       "6    Target     Surface Pro  799.00\n",
       "7    Target  Google Pixel 2  659.00\n",
       "8   Walmart      Chromebook  238.79"
      ]
     },
     "execution_count": 6,
     "metadata": {},
     "output_type": "execute_result"
    }
   ],
   "source": [
    "sql_expr = \"\"\"\n",
    "SELECT * \n",
    "FROM prices\n",
    "\"\"\"\n",
    "pd.read_sql(sql_expr, sqlite_engine)"
   ]
  },
  {
   "cell_type": "markdown",
   "metadata": {
    "colab_type": "text",
    "id": "e6XmUsijDgdu"
   },
   "source": [
    "Later in this section we will compare SQL queries with `pandas` method calls so we've created an identical DataFrame in `pandas`."
   ]
  },
  {
   "cell_type": "code",
   "execution_count": 7,
   "metadata": {
    "colab": {
     "autoexec": {
      "startup": false,
      "wait_interval": 0
     }
    },
    "colab_type": "code",
    "id": "A4MBP3-RDgdw",
    "outputId": "978ab57f-4bce-4ac4-b739-ae9fd2cdd0e5"
   },
   "outputs": [
    {
     "data": {
      "text/html": [
       "<div>\n",
       "<style scoped>\n",
       "    .dataframe tbody tr th:only-of-type {\n",
       "        vertical-align: middle;\n",
       "    }\n",
       "\n",
       "    .dataframe tbody tr th {\n",
       "        vertical-align: top;\n",
       "    }\n",
       "\n",
       "    .dataframe thead th {\n",
       "        text-align: right;\n",
       "    }\n",
       "</style>\n",
       "<table border=\"1\" class=\"dataframe\">\n",
       "  <thead>\n",
       "    <tr style=\"text-align: right;\">\n",
       "      <th></th>\n",
       "      <th>retailer</th>\n",
       "      <th>product</th>\n",
       "      <th>price</th>\n",
       "    </tr>\n",
       "  </thead>\n",
       "  <tbody>\n",
       "    <tr>\n",
       "      <th>0</th>\n",
       "      <td>Best Buy</td>\n",
       "      <td>Galaxy S9</td>\n",
       "      <td>719.00</td>\n",
       "    </tr>\n",
       "    <tr>\n",
       "      <th>1</th>\n",
       "      <td>Best Buy</td>\n",
       "      <td>iPod</td>\n",
       "      <td>200.00</td>\n",
       "    </tr>\n",
       "    <tr>\n",
       "      <th>2</th>\n",
       "      <td>Amazon</td>\n",
       "      <td>iPad</td>\n",
       "      <td>450.00</td>\n",
       "    </tr>\n",
       "    <tr>\n",
       "      <th>3</th>\n",
       "      <td>Amazon</td>\n",
       "      <td>Battery pack</td>\n",
       "      <td>24.87</td>\n",
       "    </tr>\n",
       "    <tr>\n",
       "      <th>4</th>\n",
       "      <td>Amazon</td>\n",
       "      <td>Chromebook</td>\n",
       "      <td>249.99</td>\n",
       "    </tr>\n",
       "    <tr>\n",
       "      <th>5</th>\n",
       "      <td>Target</td>\n",
       "      <td>iPod</td>\n",
       "      <td>215.00</td>\n",
       "    </tr>\n",
       "    <tr>\n",
       "      <th>6</th>\n",
       "      <td>Target</td>\n",
       "      <td>Surface Pro</td>\n",
       "      <td>799.00</td>\n",
       "    </tr>\n",
       "    <tr>\n",
       "      <th>7</th>\n",
       "      <td>Target</td>\n",
       "      <td>Google Pixel 2</td>\n",
       "      <td>659.00</td>\n",
       "    </tr>\n",
       "    <tr>\n",
       "      <th>8</th>\n",
       "      <td>Walmart</td>\n",
       "      <td>Chromebook</td>\n",
       "      <td>238.79</td>\n",
       "    </tr>\n",
       "  </tbody>\n",
       "</table>\n",
       "</div>"
      ],
      "text/plain": [
       "   retailer         product   price\n",
       "0  Best Buy       Galaxy S9  719.00\n",
       "1  Best Buy            iPod  200.00\n",
       "2    Amazon            iPad  450.00\n",
       "3    Amazon    Battery pack   24.87\n",
       "4    Amazon      Chromebook  249.99\n",
       "5    Target            iPod  215.00\n",
       "6    Target     Surface Pro  799.00\n",
       "7    Target  Google Pixel 2  659.00\n",
       "8   Walmart      Chromebook  238.79"
      ]
     },
     "execution_count": 7,
     "metadata": {},
     "output_type": "execute_result"
    }
   ],
   "source": [
    "prices"
   ]
  },
  {
   "cell_type": "markdown",
   "metadata": {
    "colab_type": "text",
    "id": "jWfTN1elDgd1"
   },
   "source": [
    "## SQL Syntax\n",
    "\n",
    "All SQL queries take the general form below:\n",
    "```SQL\n",
    "SELECT [DISTINCT] <column expression list>\n",
    "FROM <relation>\n",
    "[WHERE <predicate>]\n",
    "[GROUP BY <column list>]\n",
    "[HAVING <predicate>]\n",
    "[ORDER BY <column list>]\n",
    "[LIMIT <number>]\n",
    "```\n",
    "\n",
    "Note that:\n",
    "\n",
    "1. **Everything in \\[square brackets\\] is optional.** A valid SQL query only needs a `SELECT` and a `FROM` statement.\n",
    "2. **SQL SYNTAX IS GENERALLY WRITTEN IN CAPITAL LETTERS.** Although capitalization isn't required, it is common practice to write SQL syntax in capital letters. It also helps to visually structure your query for others to read.\n",
    "3. `FROM` query blocks can reference one or more tables, although in this section we will only look at one table at a time for simplicity."
   ]
  },
  {
   "cell_type": "markdown",
   "metadata": {
    "colab_type": "text",
    "id": "l-L97SzrDgd2"
   },
   "source": [
    "### SELECT and FROM\n",
    "\n",
    "The two mandatory statements in a SQL query are:\n",
    "\n",
    "* `SELECT` indicates the columns that we want to view.\n",
    "* `FROM` indicates the tables from which we are selecting these columns.\n",
    "\n",
    "To display the entire `prices` table, we run:"
   ]
  },
  {
   "cell_type": "code",
   "execution_count": 8,
   "metadata": {
    "colab": {
     "autoexec": {
      "startup": false,
      "wait_interval": 0
     }
    },
    "colab_type": "code",
    "id": "vt6rh2TyDgd3",
    "outputId": "83c4e317-240b-4f7f-9acf-e5b8f5cae665"
   },
   "outputs": [
    {
     "data": {
      "text/html": [
       "<div>\n",
       "<style scoped>\n",
       "    .dataframe tbody tr th:only-of-type {\n",
       "        vertical-align: middle;\n",
       "    }\n",
       "\n",
       "    .dataframe tbody tr th {\n",
       "        vertical-align: top;\n",
       "    }\n",
       "\n",
       "    .dataframe thead th {\n",
       "        text-align: right;\n",
       "    }\n",
       "</style>\n",
       "<table border=\"1\" class=\"dataframe\">\n",
       "  <thead>\n",
       "    <tr style=\"text-align: right;\">\n",
       "      <th></th>\n",
       "      <th>retailer</th>\n",
       "      <th>product</th>\n",
       "      <th>price</th>\n",
       "    </tr>\n",
       "  </thead>\n",
       "  <tbody>\n",
       "    <tr>\n",
       "      <th>0</th>\n",
       "      <td>Best Buy</td>\n",
       "      <td>Galaxy S9</td>\n",
       "      <td>719.00</td>\n",
       "    </tr>\n",
       "    <tr>\n",
       "      <th>1</th>\n",
       "      <td>Best Buy</td>\n",
       "      <td>iPod</td>\n",
       "      <td>200.00</td>\n",
       "    </tr>\n",
       "    <tr>\n",
       "      <th>2</th>\n",
       "      <td>Amazon</td>\n",
       "      <td>iPad</td>\n",
       "      <td>450.00</td>\n",
       "    </tr>\n",
       "    <tr>\n",
       "      <th>3</th>\n",
       "      <td>Amazon</td>\n",
       "      <td>Battery pack</td>\n",
       "      <td>24.87</td>\n",
       "    </tr>\n",
       "    <tr>\n",
       "      <th>4</th>\n",
       "      <td>Amazon</td>\n",
       "      <td>Chromebook</td>\n",
       "      <td>249.99</td>\n",
       "    </tr>\n",
       "    <tr>\n",
       "      <th>5</th>\n",
       "      <td>Target</td>\n",
       "      <td>iPod</td>\n",
       "      <td>215.00</td>\n",
       "    </tr>\n",
       "    <tr>\n",
       "      <th>6</th>\n",
       "      <td>Target</td>\n",
       "      <td>Surface Pro</td>\n",
       "      <td>799.00</td>\n",
       "    </tr>\n",
       "    <tr>\n",
       "      <th>7</th>\n",
       "      <td>Target</td>\n",
       "      <td>Google Pixel 2</td>\n",
       "      <td>659.00</td>\n",
       "    </tr>\n",
       "    <tr>\n",
       "      <th>8</th>\n",
       "      <td>Walmart</td>\n",
       "      <td>Chromebook</td>\n",
       "      <td>238.79</td>\n",
       "    </tr>\n",
       "  </tbody>\n",
       "</table>\n",
       "</div>"
      ],
      "text/plain": [
       "   retailer         product   price\n",
       "0  Best Buy       Galaxy S9  719.00\n",
       "1  Best Buy            iPod  200.00\n",
       "2    Amazon            iPad  450.00\n",
       "3    Amazon    Battery pack   24.87\n",
       "4    Amazon      Chromebook  249.99\n",
       "5    Target            iPod  215.00\n",
       "6    Target     Surface Pro  799.00\n",
       "7    Target  Google Pixel 2  659.00\n",
       "8   Walmart      Chromebook  238.79"
      ]
     },
     "execution_count": 8,
     "metadata": {},
     "output_type": "execute_result"
    }
   ],
   "source": [
    "sql_expr = \"\"\"\n",
    "SELECT * \n",
    "FROM prices\n",
    "\"\"\"\n",
    "pd.read_sql(sql_expr, sqlite_engine)"
   ]
  },
  {
   "cell_type": "markdown",
   "metadata": {
    "colab_type": "text",
    "id": "ebYQfMJTDgd6"
   },
   "source": [
    "`SELECT *` returns every column in the original relation. To display only the retailers that are represented in `prices`, we add the `retailer` column to the `SELECT` statement."
   ]
  },
  {
   "cell_type": "code",
   "execution_count": 9,
   "metadata": {
    "colab": {
     "autoexec": {
      "startup": false,
      "wait_interval": 0
     },
     "base_uri": "https://localhost:8080/",
     "height": 198
    },
    "colab_type": "code",
    "executionInfo": {
     "elapsed": 270,
     "status": "error",
     "timestamp": 1523470381414,
     "user": {
      "displayName": "Ananth Agarwal",
      "photoUrl": "https://lh3.googleusercontent.com/a/default-user=s128",
      "userId": "114213530163291820964"
     },
     "user_tz": 420
    },
    "id": "xJZueetYDgd7",
    "outputId": "0b27f335-3c7c-4102-d977-c3f6531800ac"
   },
   "outputs": [
    {
     "data": {
      "text/html": [
       "<div>\n",
       "<style scoped>\n",
       "    .dataframe tbody tr th:only-of-type {\n",
       "        vertical-align: middle;\n",
       "    }\n",
       "\n",
       "    .dataframe tbody tr th {\n",
       "        vertical-align: top;\n",
       "    }\n",
       "\n",
       "    .dataframe thead th {\n",
       "        text-align: right;\n",
       "    }\n",
       "</style>\n",
       "<table border=\"1\" class=\"dataframe\">\n",
       "  <thead>\n",
       "    <tr style=\"text-align: right;\">\n",
       "      <th></th>\n",
       "      <th>retailer</th>\n",
       "    </tr>\n",
       "  </thead>\n",
       "  <tbody>\n",
       "    <tr>\n",
       "      <th>0</th>\n",
       "      <td>Best Buy</td>\n",
       "    </tr>\n",
       "    <tr>\n",
       "      <th>1</th>\n",
       "      <td>Best Buy</td>\n",
       "    </tr>\n",
       "    <tr>\n",
       "      <th>2</th>\n",
       "      <td>Amazon</td>\n",
       "    </tr>\n",
       "    <tr>\n",
       "      <th>3</th>\n",
       "      <td>Amazon</td>\n",
       "    </tr>\n",
       "    <tr>\n",
       "      <th>4</th>\n",
       "      <td>Amazon</td>\n",
       "    </tr>\n",
       "    <tr>\n",
       "      <th>5</th>\n",
       "      <td>Target</td>\n",
       "    </tr>\n",
       "    <tr>\n",
       "      <th>6</th>\n",
       "      <td>Target</td>\n",
       "    </tr>\n",
       "    <tr>\n",
       "      <th>7</th>\n",
       "      <td>Target</td>\n",
       "    </tr>\n",
       "    <tr>\n",
       "      <th>8</th>\n",
       "      <td>Walmart</td>\n",
       "    </tr>\n",
       "  </tbody>\n",
       "</table>\n",
       "</div>"
      ],
      "text/plain": [
       "   retailer\n",
       "0  Best Buy\n",
       "1  Best Buy\n",
       "2    Amazon\n",
       "3    Amazon\n",
       "4    Amazon\n",
       "5    Target\n",
       "6    Target\n",
       "7    Target\n",
       "8   Walmart"
      ]
     },
     "execution_count": 9,
     "metadata": {},
     "output_type": "execute_result"
    }
   ],
   "source": [
    "sql_expr = \"\"\"\n",
    "SELECT retailer\n",
    "FROM prices\n",
    "\"\"\"\n",
    "pd.read_sql(sql_expr, sqlite_engine)"
   ]
  },
  {
   "cell_type": "markdown",
   "metadata": {
    "colab_type": "text",
    "id": "2jYzN16_Dgd-"
   },
   "source": [
    "If we want a list of unique retailers, we can call the `DISTINCT` function to omit repeated values."
   ]
  },
  {
   "cell_type": "code",
   "execution_count": 10,
   "metadata": {
    "colab": {
     "autoexec": {
      "startup": false,
      "wait_interval": 0
     }
    },
    "colab_type": "code",
    "id": "tkuqF63gDgd-",
    "outputId": "93e6cd48-dba5-4218-9d79-22f2ccf332fa"
   },
   "outputs": [
    {
     "data": {
      "text/html": [
       "<div>\n",
       "<style scoped>\n",
       "    .dataframe tbody tr th:only-of-type {\n",
       "        vertical-align: middle;\n",
       "    }\n",
       "\n",
       "    .dataframe tbody tr th {\n",
       "        vertical-align: top;\n",
       "    }\n",
       "\n",
       "    .dataframe thead th {\n",
       "        text-align: right;\n",
       "    }\n",
       "</style>\n",
       "<table border=\"1\" class=\"dataframe\">\n",
       "  <thead>\n",
       "    <tr style=\"text-align: right;\">\n",
       "      <th></th>\n",
       "      <th>retailer</th>\n",
       "    </tr>\n",
       "  </thead>\n",
       "  <tbody>\n",
       "    <tr>\n",
       "      <th>0</th>\n",
       "      <td>Best Buy</td>\n",
       "    </tr>\n",
       "    <tr>\n",
       "      <th>1</th>\n",
       "      <td>Amazon</td>\n",
       "    </tr>\n",
       "    <tr>\n",
       "      <th>2</th>\n",
       "      <td>Target</td>\n",
       "    </tr>\n",
       "    <tr>\n",
       "      <th>3</th>\n",
       "      <td>Walmart</td>\n",
       "    </tr>\n",
       "  </tbody>\n",
       "</table>\n",
       "</div>"
      ],
      "text/plain": [
       "   retailer\n",
       "0  Best Buy\n",
       "1    Amazon\n",
       "2    Target\n",
       "3   Walmart"
      ]
     },
     "execution_count": 10,
     "metadata": {},
     "output_type": "execute_result"
    }
   ],
   "source": [
    "sql_expr = \"\"\"\n",
    "SELECT DISTINCT(retailer)\n",
    "FROM prices\n",
    "\"\"\"\n",
    "pd.read_sql(sql_expr, sqlite_engine)"
   ]
  },
  {
   "cell_type": "markdown",
   "metadata": {
    "colab_type": "text",
    "id": "OQ7jpW05DgeE"
   },
   "source": [
    "This would be the functional equivalent of the following `pandas` code:"
   ]
  },
  {
   "cell_type": "code",
   "execution_count": 11,
   "metadata": {
    "colab": {
     "autoexec": {
      "startup": false,
      "wait_interval": 0
     }
    },
    "colab_type": "code",
    "id": "64uSDqguDgeG",
    "outputId": "c91af9a1-41a0-4188-abb6-1099d9e0237b"
   },
   "outputs": [
    {
     "data": {
      "text/plain": [
       "array(['Best Buy', 'Amazon', 'Target', 'Walmart'], dtype=object)"
      ]
     },
     "execution_count": 11,
     "metadata": {},
     "output_type": "execute_result"
    }
   ],
   "source": [
    "prices['retailer'].unique()"
   ]
  },
  {
   "cell_type": "markdown",
   "metadata": {
    "colab_type": "text",
    "id": "-Z8DWBHF84pT"
   },
   "source": [
    "Each RDBMS comes with its own set of functions that can be applied to attributes in the `SELECT` list, such as comparison operators, mathematical functions and operators, and string functions and operators. In Data 100 we use PostgreSQL, a mature RDBMS that comes with hundreds of such functions. The complete list is available [here](https://www.postgresql.org/docs/9.2/static/functions.html). Keep in mind that each RDBMS has a different set of functions for use in `SELECT`.\n",
    "\n",
    "The following code converts all retailer names to uppercase and halves the product prices."
   ]
  },
  {
   "cell_type": "code",
   "execution_count": 12,
   "metadata": {
    "colab": {
     "autoexec": {
      "startup": false,
      "wait_interval": 0
     }
    },
    "colab_type": "code",
    "id": "9jDk28vp9bRs"
   },
   "outputs": [
    {
     "data": {
      "text/html": [
       "<div>\n",
       "<style scoped>\n",
       "    .dataframe tbody tr th:only-of-type {\n",
       "        vertical-align: middle;\n",
       "    }\n",
       "\n",
       "    .dataframe tbody tr th {\n",
       "        vertical-align: top;\n",
       "    }\n",
       "\n",
       "    .dataframe thead th {\n",
       "        text-align: right;\n",
       "    }\n",
       "</style>\n",
       "<table border=\"1\" class=\"dataframe\">\n",
       "  <thead>\n",
       "    <tr style=\"text-align: right;\">\n",
       "      <th></th>\n",
       "      <th>retailer_caps</th>\n",
       "      <th>product</th>\n",
       "      <th>half_price</th>\n",
       "    </tr>\n",
       "  </thead>\n",
       "  <tbody>\n",
       "    <tr>\n",
       "      <th>0</th>\n",
       "      <td>BEST BUY</td>\n",
       "      <td>Galaxy S9</td>\n",
       "      <td>359.500</td>\n",
       "    </tr>\n",
       "    <tr>\n",
       "      <th>1</th>\n",
       "      <td>BEST BUY</td>\n",
       "      <td>iPod</td>\n",
       "      <td>100.000</td>\n",
       "    </tr>\n",
       "    <tr>\n",
       "      <th>2</th>\n",
       "      <td>AMAZON</td>\n",
       "      <td>iPad</td>\n",
       "      <td>225.000</td>\n",
       "    </tr>\n",
       "    <tr>\n",
       "      <th>3</th>\n",
       "      <td>AMAZON</td>\n",
       "      <td>Battery pack</td>\n",
       "      <td>12.435</td>\n",
       "    </tr>\n",
       "    <tr>\n",
       "      <th>4</th>\n",
       "      <td>AMAZON</td>\n",
       "      <td>Chromebook</td>\n",
       "      <td>124.995</td>\n",
       "    </tr>\n",
       "    <tr>\n",
       "      <th>5</th>\n",
       "      <td>TARGET</td>\n",
       "      <td>iPod</td>\n",
       "      <td>107.500</td>\n",
       "    </tr>\n",
       "    <tr>\n",
       "      <th>6</th>\n",
       "      <td>TARGET</td>\n",
       "      <td>Surface Pro</td>\n",
       "      <td>399.500</td>\n",
       "    </tr>\n",
       "    <tr>\n",
       "      <th>7</th>\n",
       "      <td>TARGET</td>\n",
       "      <td>Google Pixel 2</td>\n",
       "      <td>329.500</td>\n",
       "    </tr>\n",
       "    <tr>\n",
       "      <th>8</th>\n",
       "      <td>WALMART</td>\n",
       "      <td>Chromebook</td>\n",
       "      <td>119.395</td>\n",
       "    </tr>\n",
       "  </tbody>\n",
       "</table>\n",
       "</div>"
      ],
      "text/plain": [
       "  retailer_caps         product  half_price\n",
       "0      BEST BUY       Galaxy S9     359.500\n",
       "1      BEST BUY            iPod     100.000\n",
       "2        AMAZON            iPad     225.000\n",
       "3        AMAZON    Battery pack      12.435\n",
       "4        AMAZON      Chromebook     124.995\n",
       "5        TARGET            iPod     107.500\n",
       "6        TARGET     Surface Pro     399.500\n",
       "7        TARGET  Google Pixel 2     329.500\n",
       "8       WALMART      Chromebook     119.395"
      ]
     },
     "execution_count": 12,
     "metadata": {},
     "output_type": "execute_result"
    }
   ],
   "source": [
    "sql_expr = \"\"\"\n",
    "SELECT\n",
    "    UPPER(retailer) AS retailer_caps,\n",
    "    product,\n",
    "    price / 2 AS half_price\n",
    "FROM prices\n",
    "\"\"\"\n",
    "pd.read_sql(sql_expr, sqlite_engine)"
   ]
  },
  {
   "cell_type": "markdown",
   "metadata": {
    "colab_type": "text",
    "id": "VtdR6gZc-oP7"
   },
   "source": [
    "Notice that we can **alias** the columns (assign another name) with `AS` so that the columns appear with this new name in the output table. This does not modify the names of the columns in the source relation."
   ]
  },
  {
   "cell_type": "markdown",
   "metadata": {
    "colab_type": "text",
    "id": "ZJlclDebDgeR"
   },
   "source": [
    "### WHERE\n",
    "\n",
    "The `WHERE` clause allows us to specify certain constraints for the returned data; these constraints are often referred to as **predicates**. For example, to retrieve only gadgets that are under $500:"
   ]
  },
  {
   "cell_type": "code",
   "execution_count": 13,
   "metadata": {
    "colab": {
     "autoexec": {
      "startup": false,
      "wait_interval": 0
     },
     "base_uri": "https://localhost:8080/",
     "height": 198
    },
    "colab_type": "code",
    "executionInfo": {
     "elapsed": 284,
     "status": "error",
     "timestamp": 1523471405965,
     "user": {
      "displayName": "Ananth Agarwal",
      "photoUrl": "https://lh3.googleusercontent.com/a/default-user=s128",
      "userId": "114213530163291820964"
     },
     "user_tz": 420
    },
    "id": "k5PYF5qvDgeR",
    "outputId": "157bb2d9-bcbc-432d-a00a-6f0b8bb2df0c"
   },
   "outputs": [
    {
     "data": {
      "text/html": [
       "<div>\n",
       "<style scoped>\n",
       "    .dataframe tbody tr th:only-of-type {\n",
       "        vertical-align: middle;\n",
       "    }\n",
       "\n",
       "    .dataframe tbody tr th {\n",
       "        vertical-align: top;\n",
       "    }\n",
       "\n",
       "    .dataframe thead th {\n",
       "        text-align: right;\n",
       "    }\n",
       "</style>\n",
       "<table border=\"1\" class=\"dataframe\">\n",
       "  <thead>\n",
       "    <tr style=\"text-align: right;\">\n",
       "      <th></th>\n",
       "      <th>retailer</th>\n",
       "      <th>product</th>\n",
       "      <th>price</th>\n",
       "    </tr>\n",
       "  </thead>\n",
       "  <tbody>\n",
       "    <tr>\n",
       "      <th>0</th>\n",
       "      <td>Best Buy</td>\n",
       "      <td>iPod</td>\n",
       "      <td>200.00</td>\n",
       "    </tr>\n",
       "    <tr>\n",
       "      <th>1</th>\n",
       "      <td>Amazon</td>\n",
       "      <td>iPad</td>\n",
       "      <td>450.00</td>\n",
       "    </tr>\n",
       "    <tr>\n",
       "      <th>2</th>\n",
       "      <td>Amazon</td>\n",
       "      <td>Battery pack</td>\n",
       "      <td>24.87</td>\n",
       "    </tr>\n",
       "    <tr>\n",
       "      <th>3</th>\n",
       "      <td>Amazon</td>\n",
       "      <td>Chromebook</td>\n",
       "      <td>249.99</td>\n",
       "    </tr>\n",
       "    <tr>\n",
       "      <th>4</th>\n",
       "      <td>Target</td>\n",
       "      <td>iPod</td>\n",
       "      <td>215.00</td>\n",
       "    </tr>\n",
       "    <tr>\n",
       "      <th>5</th>\n",
       "      <td>Walmart</td>\n",
       "      <td>Chromebook</td>\n",
       "      <td>238.79</td>\n",
       "    </tr>\n",
       "  </tbody>\n",
       "</table>\n",
       "</div>"
      ],
      "text/plain": [
       "   retailer       product   price\n",
       "0  Best Buy          iPod  200.00\n",
       "1    Amazon          iPad  450.00\n",
       "2    Amazon  Battery pack   24.87\n",
       "3    Amazon    Chromebook  249.99\n",
       "4    Target          iPod  215.00\n",
       "5   Walmart    Chromebook  238.79"
      ]
     },
     "execution_count": 13,
     "metadata": {},
     "output_type": "execute_result"
    }
   ],
   "source": [
    "sql_expr = \"\"\"\n",
    "SELECT *\n",
    "FROM prices\n",
    "WHERE price < 500\n",
    "\"\"\"\n",
    "pd.read_sql(sql_expr, sqlite_engine)"
   ]
  },
  {
   "cell_type": "markdown",
   "metadata": {
    "colab_type": "text",
    "id": "yFCi_LlpDgeV"
   },
   "source": [
    "We can also use the operators `AND`, `OR`, and `NOT` to further constrain our SQL query. To find an item on Amazon without a battery pack under $300, we write:"
   ]
  },
  {
   "cell_type": "code",
   "execution_count": 14,
   "metadata": {
    "colab": {
     "autoexec": {
      "startup": false,
      "wait_interval": 0
     }
    },
    "colab_type": "code",
    "id": "9TLEQNhRDgeV",
    "outputId": "b5dfaad1-4bed-492c-9ea2-2614b0066f1c"
   },
   "outputs": [
    {
     "data": {
      "text/html": [
       "<div>\n",
       "<style scoped>\n",
       "    .dataframe tbody tr th:only-of-type {\n",
       "        vertical-align: middle;\n",
       "    }\n",
       "\n",
       "    .dataframe tbody tr th {\n",
       "        vertical-align: top;\n",
       "    }\n",
       "\n",
       "    .dataframe thead th {\n",
       "        text-align: right;\n",
       "    }\n",
       "</style>\n",
       "<table border=\"1\" class=\"dataframe\">\n",
       "  <thead>\n",
       "    <tr style=\"text-align: right;\">\n",
       "      <th></th>\n",
       "      <th>retailer</th>\n",
       "      <th>product</th>\n",
       "      <th>price</th>\n",
       "    </tr>\n",
       "  </thead>\n",
       "  <tbody>\n",
       "    <tr>\n",
       "      <th>0</th>\n",
       "      <td>Amazon</td>\n",
       "      <td>Chromebook</td>\n",
       "      <td>249.99</td>\n",
       "    </tr>\n",
       "  </tbody>\n",
       "</table>\n",
       "</div>"
      ],
      "text/plain": [
       "  retailer     product   price\n",
       "0   Amazon  Chromebook  249.99"
      ]
     },
     "execution_count": 14,
     "metadata": {},
     "output_type": "execute_result"
    }
   ],
   "source": [
    "sql_expr = \"\"\"\n",
    "SELECT *\n",
    "FROM prices\n",
    "WHERE retailer = 'Amazon'\n",
    "    AND NOT product = 'Battery pack'\n",
    "    AND price < 300\n",
    "\"\"\"\n",
    "pd.read_sql(sql_expr, sqlite_engine)"
   ]
  },
  {
   "cell_type": "markdown",
   "metadata": {
    "colab_type": "text",
    "id": "6waniOVaDgeY"
   },
   "source": [
    "The equivalent operation in `pandas` is:"
   ]
  },
  {
   "cell_type": "code",
   "execution_count": 15,
   "metadata": {
    "colab": {
     "autoexec": {
      "startup": false,
      "wait_interval": 0
     }
    },
    "colab_type": "code",
    "id": "GcmPDb_CDgeY",
    "outputId": "ea5a951f-8bbb-4457-8f22-20135bea22b1"
   },
   "outputs": [
    {
     "data": {
      "text/html": [
       "<div>\n",
       "<style scoped>\n",
       "    .dataframe tbody tr th:only-of-type {\n",
       "        vertical-align: middle;\n",
       "    }\n",
       "\n",
       "    .dataframe tbody tr th {\n",
       "        vertical-align: top;\n",
       "    }\n",
       "\n",
       "    .dataframe thead th {\n",
       "        text-align: right;\n",
       "    }\n",
       "</style>\n",
       "<table border=\"1\" class=\"dataframe\">\n",
       "  <thead>\n",
       "    <tr style=\"text-align: right;\">\n",
       "      <th></th>\n",
       "      <th>retailer</th>\n",
       "      <th>product</th>\n",
       "      <th>price</th>\n",
       "    </tr>\n",
       "  </thead>\n",
       "  <tbody>\n",
       "    <tr>\n",
       "      <th>4</th>\n",
       "      <td>Amazon</td>\n",
       "      <td>Chromebook</td>\n",
       "      <td>249.99</td>\n",
       "    </tr>\n",
       "  </tbody>\n",
       "</table>\n",
       "</div>"
      ],
      "text/plain": [
       "  retailer     product   price\n",
       "4   Amazon  Chromebook  249.99"
      ]
     },
     "execution_count": 15,
     "metadata": {},
     "output_type": "execute_result"
    }
   ],
   "source": [
    "prices[(prices['retailer'] == 'Amazon') \n",
    "   & ~(prices['product'] == 'Battery pack')\n",
    "   & (prices['price'] <= 300)]"
   ]
  },
  {
   "cell_type": "markdown",
   "metadata": {
    "colab_type": "text",
    "id": "lnCDsNMxDgec"
   },
   "source": [
    "There's a subtle difference that's worth noting: the index of the Chromebook in the SQL query is 0, whereas the corresponding index in the DataFrame is 4. This is because SQL queries always return a new table with indices counting up from 0, whereas `pandas` subsets a portion of the DataFrame `prices` and returns it with the original indices. We can use [pd.DataFrame.reset_index](https://pandas.pydata.org/pandas-docs/stable/generated/pandas.DataFrame.reset_index.html) to reset the indices in `pandas`."
   ]
  },
  {
   "cell_type": "markdown",
   "metadata": {
    "colab_type": "text",
    "id": "m19xAQ6t0Waa"
   },
   "source": [
    "### Aggregate Functions\n",
    "\n",
    "So far, we've only worked with data from the existing rows in the table; that is, all of our returned tables have been some subset of the entries found in the table. But to conduct data analysis, we'll want to compute aggregate values over our data. In SQL, these are called **aggregate functions**. \n",
    "\n",
    "If we want to find the average price of all gadgets in the `prices` relation:"
   ]
  },
  {
   "cell_type": "code",
   "execution_count": 16,
   "metadata": {
    "colab": {
     "autoexec": {
      "startup": false,
      "wait_interval": 0
     }
    },
    "colab_type": "code",
    "id": "J3N1MxtKDgee",
    "outputId": "2cfb1b75-fdf4-46e1-d786-174ef6a21c5e"
   },
   "outputs": [
    {
     "data": {
      "text/html": [
       "<div>\n",
       "<style scoped>\n",
       "    .dataframe tbody tr th:only-of-type {\n",
       "        vertical-align: middle;\n",
       "    }\n",
       "\n",
       "    .dataframe tbody tr th {\n",
       "        vertical-align: top;\n",
       "    }\n",
       "\n",
       "    .dataframe thead th {\n",
       "        text-align: right;\n",
       "    }\n",
       "</style>\n",
       "<table border=\"1\" class=\"dataframe\">\n",
       "  <thead>\n",
       "    <tr style=\"text-align: right;\">\n",
       "      <th></th>\n",
       "      <th>avg_price</th>\n",
       "    </tr>\n",
       "  </thead>\n",
       "  <tbody>\n",
       "    <tr>\n",
       "      <th>0</th>\n",
       "      <td>395.072222</td>\n",
       "    </tr>\n",
       "  </tbody>\n",
       "</table>\n",
       "</div>"
      ],
      "text/plain": [
       "    avg_price\n",
       "0  395.072222"
      ]
     },
     "execution_count": 16,
     "metadata": {},
     "output_type": "execute_result"
    }
   ],
   "source": [
    "sql_expr = \"\"\"\n",
    "SELECT AVG(price) AS avg_price\n",
    "FROM prices\n",
    "\"\"\"\n",
    "pd.read_sql(sql_expr, sqlite_engine)"
   ]
  },
  {
   "cell_type": "markdown",
   "metadata": {
    "colab_type": "text",
    "id": "Ind0BYFBDgeh"
   },
   "source": [
    "Equivalently, in `pandas`:\n"
   ]
  },
  {
   "cell_type": "code",
   "execution_count": 17,
   "metadata": {
    "colab": {
     "autoexec": {
      "startup": false,
      "wait_interval": 0
     }
    },
    "colab_type": "code",
    "id": "5GlmVQ0uDgei",
    "outputId": "a6bdf1b4-cd3c-49e2-9bc0-3bef03bd89ea"
   },
   "outputs": [
    {
     "data": {
      "text/plain": [
       "395.0722222222222"
      ]
     },
     "execution_count": 17,
     "metadata": {},
     "output_type": "execute_result"
    }
   ],
   "source": [
    "prices['price'].mean()"
   ]
  },
  {
   "cell_type": "markdown",
   "metadata": {
    "colab_type": "text",
    "id": "5oTbANu_5p59"
   },
   "source": [
    "A complete list of PostgreSQL aggregate functions can be found [here](https://www.postgresql.org/docs/9.2/static/functions.html). Though we're using PostgreSQL as our primary version of SQL in Data 100, keep in mind that there are many other variations of SQL (MySQL, SQLite, etc.) that use different function names and have different functions available."
   ]
  },
  {
   "cell_type": "markdown",
   "metadata": {
    "colab_type": "text",
    "id": "7eVQXWJ8Dgek"
   },
   "source": [
    "### GROUP BY and HAVING\n",
    "\n",
    "With aggregate functions, we can execute more complicated SQL queries. To operate on more granular aggregate data, we can use the following two clauses:\n",
    "- `GROUP BY` takes a list of columns and groups the table like the [pd.DataFrame.groupby](https://pandas.pydata.org/pandas-docs/stable/generated/pandas.DataFrame.groupby.html) function in `pandas`.\n",
    "- `HAVING` is functionally similar to `WHERE`, but is used exclusively to apply predicates to aggregated data. (Note that in order to use `HAVING`, it must be preceded by a `GROUP BY` clause.)\n",
    "\n",
    "**Important**: When using `GROUP BY`, all columns in the `SELECT` clause must be either listed in the `GROUP BY` clause or have an aggregate function applied to them.\n",
    "\n",
    "We can use these statements to find the maximum price at each retailer."
   ]
  },
  {
   "cell_type": "code",
   "execution_count": 18,
   "metadata": {
    "colab": {
     "autoexec": {
      "startup": false,
      "wait_interval": 0
     }
    },
    "colab_type": "code",
    "id": "w7u9ixrbDgel",
    "outputId": "084c2d9f-7fa5-46b3-a254-53e0c7bbf60d"
   },
   "outputs": [
    {
     "data": {
      "text/html": [
       "<div>\n",
       "<style scoped>\n",
       "    .dataframe tbody tr th:only-of-type {\n",
       "        vertical-align: middle;\n",
       "    }\n",
       "\n",
       "    .dataframe tbody tr th {\n",
       "        vertical-align: top;\n",
       "    }\n",
       "\n",
       "    .dataframe thead th {\n",
       "        text-align: right;\n",
       "    }\n",
       "</style>\n",
       "<table border=\"1\" class=\"dataframe\">\n",
       "  <thead>\n",
       "    <tr style=\"text-align: right;\">\n",
       "      <th></th>\n",
       "      <th>retailer</th>\n",
       "      <th>max_price</th>\n",
       "    </tr>\n",
       "  </thead>\n",
       "  <tbody>\n",
       "    <tr>\n",
       "      <th>0</th>\n",
       "      <td>Amazon</td>\n",
       "      <td>450.00</td>\n",
       "    </tr>\n",
       "    <tr>\n",
       "      <th>1</th>\n",
       "      <td>Best Buy</td>\n",
       "      <td>719.00</td>\n",
       "    </tr>\n",
       "    <tr>\n",
       "      <th>2</th>\n",
       "      <td>Target</td>\n",
       "      <td>799.00</td>\n",
       "    </tr>\n",
       "    <tr>\n",
       "      <th>3</th>\n",
       "      <td>Walmart</td>\n",
       "      <td>238.79</td>\n",
       "    </tr>\n",
       "  </tbody>\n",
       "</table>\n",
       "</div>"
      ],
      "text/plain": [
       "   retailer  max_price\n",
       "0    Amazon     450.00\n",
       "1  Best Buy     719.00\n",
       "2    Target     799.00\n",
       "3   Walmart     238.79"
      ]
     },
     "execution_count": 18,
     "metadata": {},
     "output_type": "execute_result"
    }
   ],
   "source": [
    "sql_expr = \"\"\"\n",
    "SELECT retailer, MAX(price) as max_price\n",
    "FROM prices\n",
    "GROUP BY retailer\n",
    "\"\"\"\n",
    "pd.read_sql(sql_expr, sqlite_engine)"
   ]
  },
  {
   "cell_type": "markdown",
   "metadata": {
    "colab_type": "text",
    "id": "ypDYw58WDgen"
   },
   "source": [
    "Let's say we have a client with expensive taste and only want to find retailers that sell gadgets over $700. Note that we must use `HAVING` to define predicates on aggregated columns; we can't use `WHERE` to filter an aggregated column. To compute a list of retailers and accompanying prices that satisfy our needs, we run:"
   ]
  },
  {
   "cell_type": "code",
   "execution_count": 19,
   "metadata": {
    "colab": {
     "autoexec": {
      "startup": false,
      "wait_interval": 0
     }
    },
    "colab_type": "code",
    "id": "HAgxJxU-Dgeo",
    "outputId": "9afeecc3-28c4-484d-9afd-88d37416e81d"
   },
   "outputs": [
    {
     "data": {
      "text/html": [
       "<div>\n",
       "<style scoped>\n",
       "    .dataframe tbody tr th:only-of-type {\n",
       "        vertical-align: middle;\n",
       "    }\n",
       "\n",
       "    .dataframe tbody tr th {\n",
       "        vertical-align: top;\n",
       "    }\n",
       "\n",
       "    .dataframe thead th {\n",
       "        text-align: right;\n",
       "    }\n",
       "</style>\n",
       "<table border=\"1\" class=\"dataframe\">\n",
       "  <thead>\n",
       "    <tr style=\"text-align: right;\">\n",
       "      <th></th>\n",
       "      <th>retailer</th>\n",
       "      <th>max_price</th>\n",
       "    </tr>\n",
       "  </thead>\n",
       "  <tbody>\n",
       "    <tr>\n",
       "      <th>0</th>\n",
       "      <td>Best Buy</td>\n",
       "      <td>719.0</td>\n",
       "    </tr>\n",
       "    <tr>\n",
       "      <th>1</th>\n",
       "      <td>Target</td>\n",
       "      <td>799.0</td>\n",
       "    </tr>\n",
       "  </tbody>\n",
       "</table>\n",
       "</div>"
      ],
      "text/plain": [
       "   retailer  max_price\n",
       "0  Best Buy      719.0\n",
       "1    Target      799.0"
      ]
     },
     "execution_count": 19,
     "metadata": {},
     "output_type": "execute_result"
    }
   ],
   "source": [
    "sql_expr = \"\"\"\n",
    "SELECT retailer, MAX(price) as max_price\n",
    "FROM prices\n",
    "GROUP BY retailer\n",
    "HAVING max_price > 700\n",
    "\"\"\"\n",
    "pd.read_sql(sql_expr, sqlite_engine)"
   ]
  },
  {
   "cell_type": "markdown",
   "metadata": {
    "colab_type": "text",
    "id": "fBv5gVKADgeq"
   },
   "source": [
    "For comparison, we recreate the same table in `pandas`:"
   ]
  },
  {
   "cell_type": "code",
   "execution_count": 20,
   "metadata": {
    "colab": {
     "autoexec": {
      "startup": false,
      "wait_interval": 0
     }
    },
    "colab_type": "code",
    "id": "p1QTMs1JDgeq",
    "outputId": "061e1559-0236-4e75-f0b7-ffce1c6f6e4e"
   },
   "outputs": [
    {
     "data": {
      "text/html": [
       "<div>\n",
       "<style scoped>\n",
       "    .dataframe tbody tr th:only-of-type {\n",
       "        vertical-align: middle;\n",
       "    }\n",
       "\n",
       "    .dataframe tbody tr th {\n",
       "        vertical-align: top;\n",
       "    }\n",
       "\n",
       "    .dataframe thead th {\n",
       "        text-align: right;\n",
       "    }\n",
       "</style>\n",
       "<table border=\"1\" class=\"dataframe\">\n",
       "  <thead>\n",
       "    <tr style=\"text-align: right;\">\n",
       "      <th></th>\n",
       "      <th>price</th>\n",
       "    </tr>\n",
       "    <tr>\n",
       "      <th>retailer</th>\n",
       "      <th></th>\n",
       "    </tr>\n",
       "  </thead>\n",
       "  <tbody>\n",
       "    <tr>\n",
       "      <th>Best Buy</th>\n",
       "      <td>719.0</td>\n",
       "    </tr>\n",
       "    <tr>\n",
       "      <th>Target</th>\n",
       "      <td>799.0</td>\n",
       "    </tr>\n",
       "  </tbody>\n",
       "</table>\n",
       "</div>"
      ],
      "text/plain": [
       "          price\n",
       "retailer       \n",
       "Best Buy  719.0\n",
       "Target    799.0"
      ]
     },
     "execution_count": 20,
     "metadata": {},
     "output_type": "execute_result"
    }
   ],
   "source": [
    "max_prices = prices.groupby('retailer').max()\n",
    "max_prices.loc[max_prices['price'] > 700, ['price']]"
   ]
  },
  {
   "cell_type": "markdown",
   "metadata": {
    "colab_type": "text",
    "id": "lQsEZZfWDgeu"
   },
   "source": [
    "### ORDER BY and LIMIT\n",
    "\n",
    "These clauses allow us to control the presentation of the data:\n",
    "- `ORDER BY` lets us present the data in lexicographic order of column values. By default, ORDER BY uses ascending order (`ASC`) but we can specify descending order using `DESC`.\n",
    "- `LIMIT` controls how many tuples are displayed.\n",
    "\n",
    "Let's display the three cheapest items in our `prices` table:"
   ]
  },
  {
   "cell_type": "code",
   "execution_count": 21,
   "metadata": {
    "colab": {
     "autoexec": {
      "startup": false,
      "wait_interval": 0
     }
    },
    "colab_type": "code",
    "id": "X7aFdIxZDgeu",
    "outputId": "d4cd90f7-bb6f-45ec-c95c-d543e3408981"
   },
   "outputs": [
    {
     "data": {
      "text/html": [
       "<div>\n",
       "<style scoped>\n",
       "    .dataframe tbody tr th:only-of-type {\n",
       "        vertical-align: middle;\n",
       "    }\n",
       "\n",
       "    .dataframe tbody tr th {\n",
       "        vertical-align: top;\n",
       "    }\n",
       "\n",
       "    .dataframe thead th {\n",
       "        text-align: right;\n",
       "    }\n",
       "</style>\n",
       "<table border=\"1\" class=\"dataframe\">\n",
       "  <thead>\n",
       "    <tr style=\"text-align: right;\">\n",
       "      <th></th>\n",
       "      <th>retailer</th>\n",
       "      <th>product</th>\n",
       "      <th>price</th>\n",
       "    </tr>\n",
       "  </thead>\n",
       "  <tbody>\n",
       "    <tr>\n",
       "      <th>0</th>\n",
       "      <td>Amazon</td>\n",
       "      <td>Battery pack</td>\n",
       "      <td>24.87</td>\n",
       "    </tr>\n",
       "    <tr>\n",
       "      <th>1</th>\n",
       "      <td>Best Buy</td>\n",
       "      <td>iPod</td>\n",
       "      <td>200.00</td>\n",
       "    </tr>\n",
       "    <tr>\n",
       "      <th>2</th>\n",
       "      <td>Target</td>\n",
       "      <td>iPod</td>\n",
       "      <td>215.00</td>\n",
       "    </tr>\n",
       "  </tbody>\n",
       "</table>\n",
       "</div>"
      ],
      "text/plain": [
       "   retailer       product   price\n",
       "0    Amazon  Battery pack   24.87\n",
       "1  Best Buy          iPod  200.00\n",
       "2    Target          iPod  215.00"
      ]
     },
     "execution_count": 21,
     "metadata": {},
     "output_type": "execute_result"
    }
   ],
   "source": [
    "sql_expr = \"\"\"\n",
    "SELECT *\n",
    "FROM prices\n",
    "ORDER BY price ASC\n",
    "LIMIT 3\n",
    "\"\"\"\n",
    "pd.read_sql(sql_expr, sqlite_engine)"
   ]
  },
  {
   "cell_type": "markdown",
   "metadata": {
    "colab_type": "text",
    "id": "Xo31JonpDgex"
   },
   "source": [
    "Note that we didn't have to include the `ASC` keyword since `ORDER BY` returns data in ascending order by default.\n",
    "For comparison, in `pandas`:"
   ]
  },
  {
   "cell_type": "code",
   "execution_count": 22,
   "metadata": {
    "colab": {
     "autoexec": {
      "startup": false,
      "wait_interval": 0
     }
    },
    "colab_type": "code",
    "id": "mJGnPtT7Dgex",
    "outputId": "e57f4864-c559-439f-93a0-444d97094ba7"
   },
   "outputs": [
    {
     "data": {
      "text/html": [
       "<div>\n",
       "<style scoped>\n",
       "    .dataframe tbody tr th:only-of-type {\n",
       "        vertical-align: middle;\n",
       "    }\n",
       "\n",
       "    .dataframe tbody tr th {\n",
       "        vertical-align: top;\n",
       "    }\n",
       "\n",
       "    .dataframe thead th {\n",
       "        text-align: right;\n",
       "    }\n",
       "</style>\n",
       "<table border=\"1\" class=\"dataframe\">\n",
       "  <thead>\n",
       "    <tr style=\"text-align: right;\">\n",
       "      <th></th>\n",
       "      <th>retailer</th>\n",
       "      <th>product</th>\n",
       "      <th>price</th>\n",
       "    </tr>\n",
       "  </thead>\n",
       "  <tbody>\n",
       "    <tr>\n",
       "      <th>3</th>\n",
       "      <td>Amazon</td>\n",
       "      <td>Battery pack</td>\n",
       "      <td>24.87</td>\n",
       "    </tr>\n",
       "    <tr>\n",
       "      <th>1</th>\n",
       "      <td>Best Buy</td>\n",
       "      <td>iPod</td>\n",
       "      <td>200.00</td>\n",
       "    </tr>\n",
       "    <tr>\n",
       "      <th>5</th>\n",
       "      <td>Target</td>\n",
       "      <td>iPod</td>\n",
       "      <td>215.00</td>\n",
       "    </tr>\n",
       "  </tbody>\n",
       "</table>\n",
       "</div>"
      ],
      "text/plain": [
       "   retailer       product   price\n",
       "3    Amazon  Battery pack   24.87\n",
       "1  Best Buy          iPod  200.00\n",
       "5    Target          iPod  215.00"
      ]
     },
     "execution_count": 22,
     "metadata": {},
     "output_type": "execute_result"
    }
   ],
   "source": [
    "prices.sort_values('price').head(3)"
   ]
  },
  {
   "cell_type": "markdown",
   "metadata": {
    "colab_type": "text",
    "id": "vFISvHXTDge1"
   },
   "source": [
    "(Again, we see that the indices are out of order in the `pandas` DataFrame. As before, `pandas` returns a view on our DataFrame `prices`, whereas SQL is displaying a new table each time that we execute a query.)"
   ]
  },
  {
   "cell_type": "markdown",
   "metadata": {
    "colab_type": "text",
    "id": "ESRS1LaiAiRw"
   },
   "source": [
    "### Conceptual SQL Evaluation\n",
    "\n",
    "Clauses in a SQL query are executed in a specific order. Unfortunately, this order differs from the order that the clauses are written in a SQL query. From first executed to last:\n",
    "\n",
    "1. `FROM`: One or more source tables\n",
    "2. `WHERE`: Apply selection qualifications (eliminate rows)\n",
    "3. `GROUP BY`: Form groups and aggregate\n",
    "4. `HAVING`: Eliminate groups\n",
    "5. `SELECT`: Select columns\n",
    "\n",
    "**Note on `WHERE` vs. `HAVING`**: Since the `WHERE` clause is processed before applying `GROUP BY`, the `WHERE` clause cannot make use of aggregated values. To define predicates based on aggregated values, we must use the `HAVING` clause."
   ]
  },
  {
   "cell_type": "markdown",
   "metadata": {},
   "source": [
    "## Summary\n",
    "\n",
    "We have introduced SQL syntax and the most important SQL statements needed to conduct data analysis using a relational database management system."
   ]
  }
 ],
 "metadata": {
  "colab": {
   "collapsed_sections": [],
   "default_view": {},
   "name": "SQL_Syntax.ipynb",
   "provenance": [],
   "version": "0.3.2",
   "views": {}
  },
  "kernelspec": {
   "display_name": "Python [default]",
   "language": "python",
   "name": "python3"
  },
  "language_info": {
   "codemirror_mode": {
    "name": "ipython",
    "version": 3
   },
   "file_extension": ".py",
   "mimetype": "text/x-python",
   "name": "python",
   "nbconvert_exporter": "python",
   "pygments_lexer": "ipython3",
   "version": "3.6.3"
  },
  "toc": {
   "nav_menu": {},
   "number_sections": false,
   "sideBar": false,
   "skip_h1_title": false,
   "title_cell": "Table of Contents",
   "title_sidebar": "Contents",
   "toc_cell": true,
   "toc_position": {},
   "toc_section_display": true,
   "toc_window_display": false
  }
 },
 "nbformat": 4,
 "nbformat_minor": 1
}
