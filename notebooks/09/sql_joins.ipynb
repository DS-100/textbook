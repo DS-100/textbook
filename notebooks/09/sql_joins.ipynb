{
 "cells": [
  {
   "cell_type": "code",
   "execution_count": null,
   "metadata": {
    "tags": [
     "hide_input"
    ]
   },
   "outputs": [],
   "source": [
    "# HIDDEN\n",
    "import warnings\n",
    "# Ignore numpy dtype warnings. These warnings are caused by an interaction\n",
    "# between numpy and Cython and can be safely ignored.\n",
    "# Reference: https://stackoverflow.com/a/40846742\n",
    "warnings.filterwarnings(\"ignore\", message=\"numpy.dtype size changed\")\n",
    "warnings.filterwarnings(\"ignore\", message=\"numpy.ufunc size changed\")\n",
    "\n",
    "import numpy as np\n",
    "import matplotlib.pyplot as plt\n",
    "import pandas as pd\n",
    "import seaborn as sns\n",
    "%matplotlib inline\n",
    "import ipywidgets as widgets\n",
    "from ipywidgets import interact, interactive, fixed, interact_manual\n",
    "import nbinteract as nbi\n",
    "\n",
    "sns.set()\n",
    "sns.set_context('talk')\n",
    "np.set_printoptions(threshold=20, precision=2, suppress=True)\n",
    "pd.options.display.max_rows = 7\n",
    "pd.options.display.max_columns = 8\n",
    "pd.set_option('precision', 2)\n",
    "# This option stops scientific notation for pandas\n",
    "# pd.set_option('display.float_format', '{:.2f}'.format)"
   ]
  },
  {
   "cell_type": "code",
   "execution_count": 30,
   "metadata": {
    "colab": {
     "autoexec": {
      "startup": false,
      "wait_interval": 0
     }
    },
    "colab_type": "code",
    "id": "IERSzvzkwag3",
    "tags": [
     "hide_input"
    ]
   },
   "outputs": [],
   "source": [
    "# HIDDEN\n",
    "# Make names table\n",
    "sql_expr = \"\"\"\n",
    "CREATE TABLE names(\n",
    "    cat_id INTEGER PRIMARY KEY,\n",
    "    name TEXT);\n",
    "\"\"\"\n",
    "result = sqlite_engine.execute(sql_expr)\n",
    "\n",
    "# Populate names table\n",
    "sql_expr = \"\"\"\n",
    "INSERT INTO names VALUES \n",
    "(0, \"Apricot\"),\n",
    "(1, \"Boots\"),\n",
    "(2, \"Cally\"),\n",
    "(4, \"Eugene\");\n",
    "\"\"\"\n",
    "\n",
    "result = sqlite_engine.execute(sql_expr)"
   ]
  },
  {
   "cell_type": "code",
   "execution_count": 31,
   "metadata": {
    "colab": {
     "autoexec": {
      "startup": false,
      "wait_interval": 0
     }
    },
    "colab_type": "code",
    "id": "O_YtEojIwag7",
    "tags": [
     "hide_input"
    ]
   },
   "outputs": [],
   "source": [
    "# HIDDEN\n",
    "# Make colors table\n",
    "sql_expr = \"\"\"\n",
    "CREATE TABLE colors(\n",
    "    cat_id INTEGER PRIMARY KEY,\n",
    "    color TEXT);\n",
    "\"\"\"\n",
    "result = sqlite_engine.execute(sql_expr)\n",
    "\n",
    "# Populate colors table\n",
    "sql_expr = \"\"\"\n",
    "INSERT INTO colors VALUES \n",
    "(0, \"orange\"),\n",
    "(1, \"black\"),\n",
    "(2, \"calico\"),\n",
    "(3, \"white\");\n",
    "\"\"\"\n",
    "\n",
    "result = sqlite_engine.execute(sql_expr)"
   ]
  },
  {
   "cell_type": "code",
   "execution_count": 32,
   "metadata": {
    "colab": {
     "autoexec": {
      "startup": false,
      "wait_interval": 0
     }
    },
    "colab_type": "code",
    "id": "-mqqB9U_JGe1",
    "tags": [
     "hide_input"
    ]
   },
   "outputs": [],
   "source": [
    "# HIDDEN\n",
    "# Make ages table\n",
    "sql_expr = \"\"\"\n",
    "CREATE TABLE ages(\n",
    "    cat_id INTEGER PRIMARY KEY,\n",
    "    age INT);\n",
    "\"\"\"\n",
    "result = sqlite_engine.execute(sql_expr)\n",
    "\n",
    "# Populate ages table\n",
    "sql_expr = \"\"\"\n",
    "INSERT INTO ages VALUES \n",
    "(0, 4),\n",
    "(1, 3),\n",
    "(2, 9),\n",
    "(4, 20);\n",
    "\"\"\"\n",
    "\n",
    "result = sqlite_engine.execute(sql_expr)"
   ]
  },
  {
   "cell_type": "markdown",
   "metadata": {
    "colab_type": "text",
    "id": "2id48Pl8wagw"
   },
   "source": [
    "## SQL Joins"
   ]
  },
  {
   "cell_type": "markdown",
   "metadata": {
    "colab_type": "text",
    "id": "WOSG1ptQwagx"
   },
   "source": [
    "In `pandas` we use the `pd.merge` method to join two tables using matching values in their columns. For example:\n",
    "\n",
    "```python\n",
    "pd.merge(table1, table2, on='common_column')\n",
    "```\n",
    "\n",
    "In this section, we introduce SQL joins. SQL joins are used to combine multiple tables in a relational database.\n",
    "\n",
    "Suppose we are cat store owners with a database for the cats we have in our store. We have **two** different tables: `names` and `colors`. The `names` table contains the columns `cat_id`, a unique number assigned to each cat, and `name`, the name for the cat. The `colors` table contains the columns `cat_id` and `color`, the color of each cat.\n",
    "\n",
    "Note that there are some missing rows from both tables - a row with `cat_id` 3 is missing from the `names` table, and a row with `cat_id` 4 is missing from the `colors` table."
   ]
  },
  {
   "cell_type": "markdown",
   "metadata": {},
   "source": [
    "<div style=\"display: flex\">\n",
    "  <div style=\"margin-right: 2em\">\n",
    "    <header style=\"text-align:center\"><strong>names</strong></header>\n",
    "    <table>\n",
    "      <thead>\n",
    "        <tr>\n",
    "          <th>cat_id</th>\n",
    "          <th>name</th>\n",
    "        </tr>\n",
    "      </thead>\n",
    "      <tbody>\n",
    "        <tr>\n",
    "          <td>0</td>\n",
    "          <td>Apricot</td>\n",
    "        </tr>\n",
    "        <tr>\n",
    "          <td>1</td>\n",
    "          <td>Boots</td>\n",
    "        </tr>\n",
    "        <tr>\n",
    "          <td>2</td>\n",
    "          <td>Cally</td>\n",
    "        </tr>\n",
    "        <tr>\n",
    "          <td>4</td>\n",
    "          <td>Eugene</td>\n",
    "        </tr>\n",
    "      </tbody>\n",
    "    </table>\n",
    "  </div>\n",
    "  <div>\n",
    "    <header style=\"text-align:center\"><strong>colors</strong></header>\n",
    "    <table>\n",
    "      <thead>\n",
    "        <tr>\n",
    "          <th>cat_id</th>\n",
    "          <th>color</th>\n",
    "        </tr>\n",
    "      </thead>\n",
    "      <tbody>\n",
    "        <tr>\n",
    "          <td>0</td>\n",
    "          <td>orange</td>\n",
    "        </tr>\n",
    "        <tr>\n",
    "          <td>1</td>\n",
    "          <td>black</td>\n",
    "        </tr>\n",
    "        <tr>\n",
    "          <td>2</td>\n",
    "          <td>calico</td>\n",
    "        </tr>\n",
    "        <tr>\n",
    "          <td>3</td>\n",
    "          <td>white</td>\n",
    "        </tr>\n",
    "      </tbody>\n",
    "    </table>\n",
    "  </div>\n",
    "</div>"
   ]
  },
  {
   "cell_type": "markdown",
   "metadata": {
    "colab_type": "text",
    "id": "GclJ2ZmswahF"
   },
   "source": [
    "To compute the color of the cat named Apricot, we have to use information in both tables. We can *join* the tables on the `cat_id` column, creating a new table with both `name` and `color`."
   ]
  },
  {
   "cell_type": "markdown",
   "metadata": {
    "colab_type": "text",
    "id": "LptZJOFGwahG"
   },
   "source": [
    "## Joins"
   ]
  },
  {
   "cell_type": "markdown",
   "metadata": {
    "colab_type": "text",
    "id": "7WgUyL0DwahJ"
   },
   "source": [
    "A join combines tables by matching values in their columns.\n",
    "\n",
    "There are four main types of joins: inner joins, outer joins, left joins, and right joins. Although all four combine tables, each one treats non-matching values differently."
   ]
  },
  {
   "cell_type": "markdown",
   "metadata": {
    "colab_type": "text",
    "id": "z6qWoVSTwahJ"
   },
   "source": [
    "### Inner Join"
   ]
  },
  {
   "cell_type": "markdown",
   "metadata": {
    "colab_type": "text",
    "id": "AUnNAn7ewahK"
   },
   "source": [
    "<b>Definition:</b> In an inner join, the final table only contains rows that have matching columns in **both** tables.\n",
    "\n"
   ]
  },
  {
   "cell_type": "markdown",
   "metadata": {
    "colab_type": "text",
    "id": "eQivHXNMwahL"
   },
   "source": [
    "![Inner Join](https://www.w3schools.com/sql/img_innerjoin.gif)\n"
   ]
  },
  {
   "cell_type": "markdown",
   "metadata": {
    "colab_type": "text",
    "id": "nDUi3rOtwahM"
   },
   "source": [
    "<b>Example:</b> We would like to join the `names` and `colors` tables together to match each cat with its color. Since both tables contain a `cat_id` column that is the unique identifier for a cat, we can use an inner join on the `cat_id` column.\n",
    "\n",
    "<b>SQL:</b> To write an inner join in SQL we modify our `FROM` clause to use the following syntax:\n",
    "\n",
    "```sql\n",
    "SELECT ...\n",
    "FROM <TABLE_1>\n",
    "    INNER JOIN <TABLE_2>\n",
    "    ON <...>\n",
    "```\n",
    "\n",
    "For example:\n",
    "\n",
    "```sql\n",
    "SELECT *\n",
    "FROM names AS N\n",
    "    INNER JOIN colors AS C\n",
    "    ON N.cat_id = C.cat_id;\n",
    "```"
   ]
  },
  {
   "cell_type": "markdown",
   "metadata": {},
   "source": [
    "<table border=\"1\" class=\"dataframe\">\n",
    "  <thead>\n",
    "    <tr style=\"text-align: right;\">\n",
    "      <th></th>\n",
    "      <th>cat_id</th>\n",
    "      <th>name</th>\n",
    "      <th>cat_id</th>\n",
    "      <th>color</th>\n",
    "    </tr>\n",
    "  </thead>\n",
    "  <tbody>\n",
    "    <tr>\n",
    "      <th>0</th>\n",
    "      <td>0</td>\n",
    "      <td>Apricot</td>\n",
    "      <td>0</td>\n",
    "      <td>orange</td>\n",
    "    </tr>\n",
    "    <tr>\n",
    "      <th>1</th>\n",
    "      <td>1</td>\n",
    "      <td>Boots</td>\n",
    "      <td>1</td>\n",
    "      <td>black</td>\n",
    "    </tr>\n",
    "    <tr>\n",
    "      <th>2</th>\n",
    "      <td>2</td>\n",
    "      <td>Cally</td>\n",
    "      <td>2</td>\n",
    "      <td>calico</td>\n",
    "    </tr>\n",
    "  </tbody>\n",
    "</table>"
   ]
  },
  {
   "cell_type": "markdown",
   "metadata": {
    "colab_type": "text",
    "id": "4vixSMmlzoRk"
   },
   "source": [
    "You may verify that each cat name is matched with its color. Notice that the cats with `cat_id` 3 and 4 are not present in our resulting table because the `colors` table doesn't have a row with `cat_id` 4 and the `names` table doesn't have a row with `cat_id` 3. In an inner join, if a row doesn't have a matching value in the other table, the row is not included in the final result."
   ]
  },
  {
   "cell_type": "markdown",
   "metadata": {
    "colab_type": "text",
    "id": "3Yx_rCbo9Id2"
   },
   "source": [
    "Assuming we have a DataFrame called `names` and a DataFrame called `colors`, we can conduct an inner join in `pandas` by writing:\n",
    "\n",
    "```python\n",
    "pd.merge(names, colors, how='inner', on='cat_id')\n",
    "```"
   ]
  },
  {
   "cell_type": "markdown",
   "metadata": {
    "colab_type": "text",
    "id": "u24A8PiXwahV"
   },
   "source": [
    "### Full/Outer Join"
   ]
  },
  {
   "cell_type": "markdown",
   "metadata": {
    "colab_type": "text",
    "id": "KxucuJmRwahW"
   },
   "source": [
    "<b>Definition:</b> In a full join (sometimes called an outer join), **all records from both tables** are included in the joined table. If a row doesn't have a match in the other table, the missing values are filled in with `NULL`.\n",
    "\n",
    "![Full outer join](https://www.w3schools.com/sql/img_fulljoin.gif)"
   ]
  },
  {
   "cell_type": "markdown",
   "metadata": {
    "colab_type": "text",
    "id": "U6nh8mm3wahX"
   },
   "source": [
    "<b>Example:</b> As before, we join the `names` and `colors` tables together to match each cat with its color. This time, we want to keep all rows in either table even if there isn't a match.\n",
    "\n",
    "<b>SQL:</b> To write an outer join in SQL we modify our `FROM` clause to use the following syntax:\n",
    "\n",
    "```sql\n",
    "SELECT ...\n",
    "FROM <TABLE_1>\n",
    "    FULL JOIN <TABLE_2>\n",
    "    ON <...>\n",
    "```\n",
    "\n",
    "For example:\n",
    "\n",
    "```sql\n",
    "SELECT name, color\n",
    "FROM names N\n",
    "    FULL JOIN colors C\n",
    "    ON N.cat_id = C.cat_id;\n",
    "```"
   ]
  },
  {
   "cell_type": "markdown",
   "metadata": {
    "colab_type": "text",
    "id": "iNDBJrVYwahf"
   },
   "source": [
    "| cat_id        | name          | color    |\n",
    "| ------------- |---------------|-----------\n",
    "| 0             | Apricot       | orange   |\n",
    "| 1             | Boots         | black    |\n",
    "| 2             | Cally         | calico   |\n",
    "| 3             | NULL          | white    |\n",
    "| 4             | Eugene        | NULL     |"
   ]
  },
  {
   "cell_type": "markdown",
   "metadata": {
    "colab_type": "text",
    "id": "Sgs8fiCDwahg"
   },
   "source": [
    "Notice that the final output contains the entries with `cat_id` 3 and 4. If a row does not have a match, it is still included in the final output and any missing values are filled in with `NULL`.\n",
    "\n",
    "In `pandas`:\n",
    "\n",
    "```\n",
    "pd.merge(names, colors, how='outer', on='cat_id')\n",
    "```"
   ]
  },
  {
   "cell_type": "markdown",
   "metadata": {
    "colab_type": "text",
    "id": "u24A8PiXwahV"
   },
   "source": [
    "### Left Join"
   ]
  },
  {
   "cell_type": "markdown",
   "metadata": {
    "colab_type": "text",
    "id": "KxucuJmRwahW"
   },
   "source": [
    "<b>Definition:</b> In a left join, all records from the **left table** are included in the joined table. If a row doesn't have a match in the right table, the missing values are filled in with `NULL`.\n",
    "\n",
    "![left join](https://www.w3schools.com/sql/img_leftjoin.gif)"
   ]
  },
  {
   "cell_type": "markdown",
   "metadata": {
    "colab_type": "text",
    "id": "U6nh8mm3wahX"
   },
   "source": [
    "<b>Example:</b> As before, we join the `names` and `colors` tables together to match each cat with its color. This time, we want to keep all the cat names even if a cat doesn't have a matching color.\n",
    "\n",
    "<b>SQL:</b> To write an left join in SQL we modify our `FROM` clause to use the following syntax:\n",
    "\n",
    "```sql\n",
    "SELECT ...\n",
    "FROM <TABLE_1>\n",
    "    LEFT JOIN <TABLE_2>\n",
    "    ON <...>\n",
    "```\n",
    "\n",
    "For example:\n",
    "\n",
    "```sql\n",
    "SELECT name, color\n",
    "FROM names N\n",
    "    LEFT JOIN colors C\n",
    "    ON N.cat_id = C.cat_id;\n",
    "```"
   ]
  },
  {
   "cell_type": "markdown",
   "metadata": {
    "colab_type": "text",
    "id": "iNDBJrVYwahf"
   },
   "source": [
    "| cat_id        | name          | color    |\n",
    "| ------------- |---------------|-----------\n",
    "| 0             | Apricot       | orange   |\n",
    "| 1             | Boots         | black    |\n",
    "| 2             | Cally         | calico   |\n",
    "| 4             | Eugene        | NULL     |"
   ]
  },
  {
   "cell_type": "markdown",
   "metadata": {},
   "source": [
    "Notice that the final output includes all four cat names. Three of the `cat_id`s in the `names` relation had matching `cat_id`s in the `colors` table and one did not (Eugene). The cat name that did not have a matching color has `NULL` as its color.\n",
    "\n",
    "In `pandas`:\n",
    "\n",
    "```\n",
    "pd.merge(names, colors, how='left', on='cat_id')\n",
    "```"
   ]
  },
  {
   "cell_type": "markdown",
   "metadata": {
    "colab_type": "text",
    "id": "u24A8PiXwahV"
   },
   "source": [
    "### Right Join"
   ]
  },
  {
   "cell_type": "markdown",
   "metadata": {
    "colab_type": "text",
    "id": "KxucuJmRwahW"
   },
   "source": [
    "<b>Definition:</b> In a right join, all records from the **right table** are included in the joined table. If a row doesn't have a match in the left table, the missing values are filled in with `NULL`.\n",
    "\n",
    "![right join](https://www.w3schools.com/sql/img_rightjoin.gif)"
   ]
  },
  {
   "cell_type": "markdown",
   "metadata": {
    "colab_type": "text",
    "id": "U6nh8mm3wahX"
   },
   "source": [
    "<b>Example:</b> As before, we join the `names` and `colors` tables together to match each cat with its color. This time, we want to keep all the cat color even if a cat doesn't have a matching name.\n",
    "\n",
    "<b>SQL:</b> To write a right join in SQL we modify our `FROM` clause to use the following syntax:\n",
    "\n",
    "```sql\n",
    "SELECT ...\n",
    "FROM <TABLE_1>\n",
    "    RIGHT JOIN <TABLE_2>\n",
    "    ON <...>\n",
    "```\n",
    "\n",
    "For example:\n",
    "\n",
    "```sql\n",
    "SELECT name, color\n",
    "FROM names N\n",
    "    RIGHT JOIN colors C\n",
    "    ON N.cat_id = C.cat_id;\n",
    "```"
   ]
  },
  {
   "cell_type": "markdown",
   "metadata": {
    "colab_type": "text",
    "id": "iNDBJrVYwahf"
   },
   "source": [
    "| cat_id        | name          | color    |\n",
    "| ------------- |---------------|-----------\n",
    "| 0             | Apricot       | orange   |\n",
    "| 1             | Boots         | black    |\n",
    "| 2             | Cally         | calico   |\n",
    "| 3             | NULL          | white    |"
   ]
  },
  {
   "cell_type": "markdown",
   "metadata": {},
   "source": [
    "This time, observe that the final output includes all four cat colors. Three of the `cat_id`s in the `colors` relation had matching `cat_id`s in the `names` table and one did not (white). The cat color that did not have a matching name has `NULL` as its name.\n",
    "\n",
    "You may also notice that a right join produces the same result a left join with the table order swapped. That is, `names` left joined with `colors` is the same as `colors` right joined with `names`. Because of this, some SQL engines (such as SQLite) do not support right joins.\n",
    "\n",
    "In `pandas`:\n",
    "\n",
    "```\n",
    "pd.merge(names, colors, how='right', on='cat_id')\n",
    "```"
   ]
  },
  {
   "cell_type": "markdown",
   "metadata": {
    "colab_type": "text",
    "id": "dBfgXDaH7cqG"
   },
   "source": [
    "### Implicit Inner Joins"
   ]
  },
  {
   "cell_type": "markdown",
   "metadata": {},
   "source": [
    "There are typically multiple ways to accomplish the same task in SQL just as there are multiple ways to accomplish the same task in Python. We point out one other method for writing an inner join that appears in practice called an *implicit join*. Recall that we previously wrote the following to conduct an inner join:"
   ]
  },
  {
   "cell_type": "markdown",
   "metadata": {
    "colab_type": "text",
    "id": "nDUi3rOtwahM"
   },
   "source": [
    "```sql\n",
    "SELECT *\n",
    "FROM names AS N\n",
    "    INNER JOIN colors AS C\n",
    "    ON N.cat_id = C.cat_id;\n",
    "```"
   ]
  },
  {
   "cell_type": "markdown",
   "metadata": {},
   "source": [
    "An implicit inner join has a slightly different syntax. Notice in particular that the `FROM` clause uses a comma to select from two tables and that the query includes a `WHERE` clause to specify the join condition."
   ]
  },
  {
   "cell_type": "markdown",
   "metadata": {
    "colab_type": "text",
    "id": "nDUi3rOtwahM"
   },
   "source": [
    "```sql\n",
    "SELECT *\n",
    "FROM names AS N, colors AS C\n",
    "WHERE N.cat_id = C.cat_id;\n",
    "```"
   ]
  },
  {
   "cell_type": "markdown",
   "metadata": {},
   "source": [
    "When multiple tables are specified in the `FROM` clause, SQL creates a table containing every combination of rows from each table. For example:"
   ]
  },
  {
   "cell_type": "code",
   "execution_count": 33,
   "metadata": {
    "colab": {
     "autoexec": {
      "startup": false,
      "wait_interval": 0
     },
     "base_uri": "https://localhost:8080/",
     "height": 541
    },
    "colab_type": "code",
    "executionInfo": {
     "elapsed": 220,
     "status": "ok",
     "timestamp": 1523507999500,
     "user": {
      "displayName": "Ashley Chien",
      "photoUrl": "https://lh3.googleusercontent.com/a/default-user=s128",
      "userId": "103846389297761369572"
     },
     "user_tz": 420
    },
    "id": "c7jRg1XIA1BE",
    "outputId": "14a1d990-d5d2-42f8-8ea1-a9c19b1f25af"
   },
   "outputs": [
    {
     "data": {
      "text/html": [
       "<div>\n",
       "<style scoped>\n",
       "    .dataframe tbody tr th:only-of-type {\n",
       "        vertical-align: middle;\n",
       "    }\n",
       "\n",
       "    .dataframe tbody tr th {\n",
       "        vertical-align: top;\n",
       "    }\n",
       "\n",
       "    .dataframe thead th {\n",
       "        text-align: right;\n",
       "    }\n",
       "</style>\n",
       "<table border=\"1\" class=\"dataframe\">\n",
       "  <thead>\n",
       "    <tr style=\"text-align: right;\">\n",
       "      <th></th>\n",
       "      <th>cat_id</th>\n",
       "      <th>name</th>\n",
       "      <th>cat_id</th>\n",
       "      <th>color</th>\n",
       "    </tr>\n",
       "  </thead>\n",
       "  <tbody>\n",
       "    <tr>\n",
       "      <th>0</th>\n",
       "      <td>0</td>\n",
       "      <td>Apricot</td>\n",
       "      <td>0</td>\n",
       "      <td>orange</td>\n",
       "    </tr>\n",
       "    <tr>\n",
       "      <th>1</th>\n",
       "      <td>0</td>\n",
       "      <td>Apricot</td>\n",
       "      <td>1</td>\n",
       "      <td>black</td>\n",
       "    </tr>\n",
       "    <tr>\n",
       "      <th>2</th>\n",
       "      <td>0</td>\n",
       "      <td>Apricot</td>\n",
       "      <td>2</td>\n",
       "      <td>calico</td>\n",
       "    </tr>\n",
       "    <tr>\n",
       "      <th>3</th>\n",
       "      <td>0</td>\n",
       "      <td>Apricot</td>\n",
       "      <td>3</td>\n",
       "      <td>white</td>\n",
       "    </tr>\n",
       "    <tr>\n",
       "      <th>4</th>\n",
       "      <td>1</td>\n",
       "      <td>Boots</td>\n",
       "      <td>0</td>\n",
       "      <td>orange</td>\n",
       "    </tr>\n",
       "    <tr>\n",
       "      <th>5</th>\n",
       "      <td>1</td>\n",
       "      <td>Boots</td>\n",
       "      <td>1</td>\n",
       "      <td>black</td>\n",
       "    </tr>\n",
       "    <tr>\n",
       "      <th>6</th>\n",
       "      <td>1</td>\n",
       "      <td>Boots</td>\n",
       "      <td>2</td>\n",
       "      <td>calico</td>\n",
       "    </tr>\n",
       "    <tr>\n",
       "      <th>7</th>\n",
       "      <td>1</td>\n",
       "      <td>Boots</td>\n",
       "      <td>3</td>\n",
       "      <td>white</td>\n",
       "    </tr>\n",
       "    <tr>\n",
       "      <th>8</th>\n",
       "      <td>2</td>\n",
       "      <td>Cally</td>\n",
       "      <td>0</td>\n",
       "      <td>orange</td>\n",
       "    </tr>\n",
       "    <tr>\n",
       "      <th>9</th>\n",
       "      <td>2</td>\n",
       "      <td>Cally</td>\n",
       "      <td>1</td>\n",
       "      <td>black</td>\n",
       "    </tr>\n",
       "    <tr>\n",
       "      <th>10</th>\n",
       "      <td>2</td>\n",
       "      <td>Cally</td>\n",
       "      <td>2</td>\n",
       "      <td>calico</td>\n",
       "    </tr>\n",
       "    <tr>\n",
       "      <th>11</th>\n",
       "      <td>2</td>\n",
       "      <td>Cally</td>\n",
       "      <td>3</td>\n",
       "      <td>white</td>\n",
       "    </tr>\n",
       "    <tr>\n",
       "      <th>12</th>\n",
       "      <td>4</td>\n",
       "      <td>Eugene</td>\n",
       "      <td>0</td>\n",
       "      <td>orange</td>\n",
       "    </tr>\n",
       "    <tr>\n",
       "      <th>13</th>\n",
       "      <td>4</td>\n",
       "      <td>Eugene</td>\n",
       "      <td>1</td>\n",
       "      <td>black</td>\n",
       "    </tr>\n",
       "    <tr>\n",
       "      <th>14</th>\n",
       "      <td>4</td>\n",
       "      <td>Eugene</td>\n",
       "      <td>2</td>\n",
       "      <td>calico</td>\n",
       "    </tr>\n",
       "    <tr>\n",
       "      <th>15</th>\n",
       "      <td>4</td>\n",
       "      <td>Eugene</td>\n",
       "      <td>3</td>\n",
       "      <td>white</td>\n",
       "    </tr>\n",
       "  </tbody>\n",
       "</table>\n",
       "</div>"
      ],
      "text/plain": [
       "    cat_id     name  cat_id   color\n",
       "0        0  Apricot       0  orange\n",
       "1        0  Apricot       1   black\n",
       "2        0  Apricot       2  calico\n",
       "3        0  Apricot       3   white\n",
       "4        1    Boots       0  orange\n",
       "5        1    Boots       1   black\n",
       "6        1    Boots       2  calico\n",
       "7        1    Boots       3   white\n",
       "8        2    Cally       0  orange\n",
       "9        2    Cally       1   black\n",
       "10       2    Cally       2  calico\n",
       "11       2    Cally       3   white\n",
       "12       4   Eugene       0  orange\n",
       "13       4   Eugene       1   black\n",
       "14       4   Eugene       2  calico\n",
       "15       4   Eugene       3   white"
      ]
     },
     "execution_count": 33,
     "metadata": {},
     "output_type": "execute_result"
    }
   ],
   "source": [
    "sql_expr = \"\"\"\n",
    "SELECT *\n",
    "FROM names N, colors C\n",
    "\"\"\"\n",
    "pd.read_sql(sql_expr, sqlite_engine)"
   ]
  },
  {
   "cell_type": "markdown",
   "metadata": {
    "colab_type": "text",
    "id": "HyMDqz-GBFCT"
   },
   "source": [
    "This operation is often called a *Cartesian product*: each row in the first table is paired with every row in the second table. Notice that many rows contain cat colors that are not matched properly with their names. The additional `WHERE`  clause in the implicit join filters out rows that do not have matching `cat_id` values."
   ]
  },
  {
   "cell_type": "markdown",
   "metadata": {
    "colab_type": "text",
    "id": "nDUi3rOtwahM"
   },
   "source": [
    "```sql\n",
    "SELECT *\n",
    "FROM names AS N, colors AS C\n",
    "WHERE N.cat_id = C.cat_id;\n",
    "```"
   ]
  },
  {
   "cell_type": "markdown",
   "metadata": {
    "colab_type": "text",
    "id": "nDUi3rOtwahM"
   },
   "source": [
    "<table border=\"1\" class=\"dataframe\">\n",
    "  <thead>\n",
    "    <tr style=\"text-align: right;\">\n",
    "      <th></th>\n",
    "      <th>cat_id</th>\n",
    "      <th>name</th>\n",
    "      <th>cat_id</th>\n",
    "      <th>color</th>\n",
    "    </tr>\n",
    "  </thead>\n",
    "  <tbody>\n",
    "    <tr>\n",
    "      <th>0</th>\n",
    "      <td>0</td>\n",
    "      <td>Apricot</td>\n",
    "      <td>0</td>\n",
    "      <td>orange</td>\n",
    "    </tr>\n",
    "    <tr>\n",
    "      <th>1</th>\n",
    "      <td>1</td>\n",
    "      <td>Boots</td>\n",
    "      <td>1</td>\n",
    "      <td>black</td>\n",
    "    </tr>\n",
    "    <tr>\n",
    "      <th>2</th>\n",
    "      <td>2</td>\n",
    "      <td>Cally</td>\n",
    "      <td>2</td>\n",
    "      <td>calico</td>\n",
    "    </tr>\n",
    "  </tbody>\n",
    "</table>"
   ]
  },
  {
   "cell_type": "markdown",
   "metadata": {
    "colab_type": "text",
    "id": "agSjoQakCYiR"
   },
   "source": [
    "## Joining Multiple Tables"
   ]
  },
  {
   "cell_type": "markdown",
   "metadata": {
    "colab_type": "text",
    "id": "R3wO34xvDRgk"
   },
   "source": [
    "To join multiple tables, extend the `FROM` clause with additional `JOIN` operators. For example, the following table `ages` includes data about each cat's age.\n",
    "\n",
    "| cat_id        | age     | \n",
    "| ------------- |---------|\n",
    "| 0             | 4       | \n",
    "| 1             | 3       | \n",
    "| 2             | 9       | \n",
    "| 4             | 20      | "
   ]
  },
  {
   "cell_type": "markdown",
   "metadata": {},
   "source": [
    "To conduct an inner join on the `names`, `colors`, and `ages` table, we write:"
   ]
  },
  {
   "cell_type": "code",
   "execution_count": 35,
   "metadata": {
    "colab": {
     "autoexec": {
      "startup": false,
      "wait_interval": 0
     },
     "base_uri": "https://localhost:8080/",
     "height": 141
    },
    "colab_type": "code",
    "executionInfo": {
     "elapsed": 352,
     "status": "ok",
     "timestamp": 1523507981867,
     "user": {
      "displayName": "Ashley Chien",
      "photoUrl": "https://lh3.googleusercontent.com/a/default-user=s128",
      "userId": "103846389297761369572"
     },
     "user_tz": 420
    },
    "id": "NRxZUi7XDXwX",
    "outputId": "941d7596-5b75-46c4-f511-6187b9c52ced"
   },
   "outputs": [
    {
     "data": {
      "text/html": [
       "<div>\n",
       "<style scoped>\n",
       "    .dataframe tbody tr th:only-of-type {\n",
       "        vertical-align: middle;\n",
       "    }\n",
       "\n",
       "    .dataframe tbody tr th {\n",
       "        vertical-align: top;\n",
       "    }\n",
       "\n",
       "    .dataframe thead th {\n",
       "        text-align: right;\n",
       "    }\n",
       "</style>\n",
       "<table border=\"1\" class=\"dataframe\">\n",
       "  <thead>\n",
       "    <tr style=\"text-align: right;\">\n",
       "      <th></th>\n",
       "      <th>name</th>\n",
       "      <th>color</th>\n",
       "      <th>age</th>\n",
       "    </tr>\n",
       "  </thead>\n",
       "  <tbody>\n",
       "    <tr>\n",
       "      <th>0</th>\n",
       "      <td>Apricot</td>\n",
       "      <td>orange</td>\n",
       "      <td>4</td>\n",
       "    </tr>\n",
       "    <tr>\n",
       "      <th>1</th>\n",
       "      <td>Boots</td>\n",
       "      <td>black</td>\n",
       "      <td>3</td>\n",
       "    </tr>\n",
       "    <tr>\n",
       "      <th>2</th>\n",
       "      <td>Cally</td>\n",
       "      <td>calico</td>\n",
       "      <td>9</td>\n",
       "    </tr>\n",
       "  </tbody>\n",
       "</table>\n",
       "</div>"
      ],
      "text/plain": [
       "      name   color  age\n",
       "0  Apricot  orange    4\n",
       "1    Boots   black    3\n",
       "2    Cally  calico    9"
      ]
     },
     "execution_count": 35,
     "metadata": {},
     "output_type": "execute_result"
    }
   ],
   "source": [
    "# Joining three tables\n",
    "\n",
    "sql_expr = \"\"\"\n",
    "SELECT name, color, age\n",
    "    FROM names n\n",
    "    INNER JOIN colors c ON n.cat_id = c.cat_id\n",
    "    INNER JOIN ages a ON n.cat_id = a.cat_id;\n",
    "\"\"\"\n",
    "pd.read_sql(sql_expr, sqlite_engine)"
   ]
  },
  {
   "cell_type": "markdown",
   "metadata": {},
   "source": [
    "## Summary\n",
    "\n",
    "We have covered the four main types of SQL joins: inner, full, left, and right joins. We use all four joins to combine information in separate relations, and each join differs only in how it handles non-matching rows in the input tables."
   ]
  }
 ],
 "metadata": {
  "colab": {
   "collapsed_sections": [],
   "default_view": {},
   "name": "ashleychien@berkeley.edu_task4.ipynb",
   "provenance": [],
   "version": "0.3.2",
   "views": {}
  },
  "kernelspec": {
   "display_name": "Python 3",
   "language": "python",
   "name": "python3"
  },
  "language_info": {
   "codemirror_mode": {
    "name": "ipython",
    "version": 3
   },
   "file_extension": ".py",
   "mimetype": "text/x-python",
   "name": "python",
   "nbconvert_exporter": "python",
   "pygments_lexer": "ipython3",
   "version": "3.6.5"
  },
  "toc": {
   "nav_menu": {},
   "number_sections": false,
   "sideBar": false,
   "skip_h1_title": false,
   "title_cell": "Table of Contents",
   "title_sidebar": "Contents",
   "toc_cell": true,
   "toc_position": {},
   "toc_section_display": true,
   "toc_window_display": false
  }
 },
 "nbformat": 4,
 "nbformat_minor": 1
}
