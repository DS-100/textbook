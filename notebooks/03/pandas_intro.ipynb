{
 "cells": [
  {
   "cell_type": "markdown",
   "metadata": {},
   "source": [
    "# Working with Tabular Data\n",
    "\n",
    "Tabular data, like the datasets we have worked with in Data 8, are one of the\n",
    "most common and useful forms of data for analysis. We introduce tabular data\n",
    "manipulation using `pandas`, the standard Python library for working with\n",
    "tabular data. Although `pandas`'s syntax is more challenging to use than the\n",
    "`datascience` package used in Data 8, `pandas` provides significant performance\n",
    "improvements and is the current tool of choice in both industry and academia\n",
    "for working with tabular data in Python.\n",
    "\n",
    "It is more important that you understand the types of useful operations on data\n",
    "than the exact details of `pandas` syntax. For example, knowing when to perform a\n",
    "group-by is generally more useful than knowing how to call the `pandas` function\n",
    "to group data. Since this chapter contains many snippets of code, we\n",
    "encourage you to read through this chapter twice: once to understand the syntax\n",
    "and once to understand when each operation is appropriate.\n",
    "\n",
    "Because we will cover only the most commonly used `pandas` functions in this\n",
    "textbook, you should bookmark the [`pandas` documentation][docs] for reference\n",
    "when you conduct your own data analyses.\n",
    "\n",
    "We begin by talking about the types of dataset structures that `pandas` can read.\n",
    "Then, we introduce indexes, grouping, apply, and strings.\n",
    "\n",
    "[docs]: http://pandas.pydata.org/pandas-docs/stable/\n"
   ]
  }
 ],
 "metadata": {
  "kernelspec": {
   "display_name": "Python [default]",
   "language": "python",
   "name": "python3"
  },
  "language_info": {
   "codemirror_mode": {
    "name": "ipython",
    "version": 3
   },
   "file_extension": ".py",
   "mimetype": "text/x-python",
   "name": "python",
   "nbconvert_exporter": "python",
   "pygments_lexer": "ipython3",
   "version": "3.6.3"
  }
 },
 "nbformat": 4,
 "nbformat_minor": 2
}
