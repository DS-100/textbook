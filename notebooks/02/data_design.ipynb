{
 "cells": [
  {
   "cell_type": "markdown",
   "metadata": {},
   "source": [
    "# Data Design\n",
    "\n",
    "Data science would hardly be a science without data. It is thus of utmost\n",
    "importance that we begin any data analysis by understanding how our data were\n",
    "collected.\n",
    "\n",
    "In this chapter, we will discuss **data design**, the process that we use to\n",
    "collect our data. Many have drawn premature conclusions because they were not\n",
    "careful enough in understanding their data design; we will use examples and\n",
    "simulations to justify the importance of probability sampling in conducting\n",
    "data science.\n"
   ]
  }
 ],
 "metadata": {},
 "nbformat": 4,
 "nbformat_minor": 2
}
