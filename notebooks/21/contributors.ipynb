{
 "cells": [
  {
   "cell_type": "markdown",
   "metadata": {},
   "source": [
    "## Contributors\n",
    "\n",
    "This textbook contains substantial contributions from Data 100 students. We\n",
    "list the contributors below and thank them for their effort in creating content\n",
    "for the textbook.\n",
    "\n",
    "| Name               | Contributions                                                                                                                             |\n",
    "| ------------------ | ----------------------------------------------------------------------------------------------------------------------------------------- |\n",
    "| **Ananth Agarwal** | [9.1][] (Relational Databases), [9.2][] (SQL Queries), [15.3][] (Cross-Validation)                                                        |\n",
    "| **Ashley Chien**   | [9.3][] (SQL Joins), Reference Table Appendix                                                                                             |\n",
    "| **Andrew Do**      | [8.1][] (Python String Methods), [8.2][] (Regular Expressions), [8.3][] (Regex in Python and pandas)                                      |\n",
    "| **Tiffany Jann**   | [7.1][] (HTTP), [11.3][] (Convexity)                                                                                                      |\n",
    "| **Andrew Kim**     | [7.1][] (HTTP), [8.1][] (Python String Methods), [8.2][] (Regular Expressions), [8.3][] (Regex in Python and pandas)                      |\n",
    "| **Jun Seo Park**   | [9.1][] (Relational Databases), [9.2][] (SQL Queries), Reference Table Appendix                                                           |\n",
    "| **Allen Shen**     | [2.2][] (Probability Overview), [11.3][] (Convexity), [12][] (Probability and Generalization), [15][] (Bias-Variance Tradeoff)                                                                                 |\n",
    "| **Katherine Yen**  | [9.3][] (SQL Joins), [15.3][] (Cross-Validation)                                                                                          |\n",
    "| **Daniel Zhu**     | [2.2][] (Probability Overview), [8][] (Working with Text), [12][] (Probability and Generalization), [15][] (Bias-Variance Tradeoff)|\n",
    "\n",
    "[2.2]: https://www.textbook.ds100.org/ch02/probability_overview.html\n",
    "[7.1]: https://www.textbook.ds100.org/ch07/web_http.html\n",
    "[8]: https://www.textbook.ds100.org/ch08/text_intro.html\n",
    "[8.1]: https://www.textbook.ds100.org/ch08/text_strings.html\n",
    "[8.2]: https://www.textbook.ds100.org/ch08/text_regex.html\n",
    "[8.3]: https://www.textbook.ds100.org/ch08/text_re.html\n",
    "[9.1]: https://www.textbook.ds100.org/ch09/sql_rdbms.html\n",
    "[9.2]: https://www.textbook.ds100.org/ch09/sql_basics.html\n",
    "[9.3]: https://www.textbook.ds100.org/ch09/sql_joins.html\n",
    "[11.3]: https://www.textbook.ds100.org/ch11/gradient_convexity.html\n",
    "[12]: https://www.textbook.ds100.org/ch12/prob_and_gen.html\n",
    "[12.1]: https://www.textbook.ds100.org/ch12/random_vars.html\n",
    "[12.2]: https://www.textbook.ds100.org/ch12/exp_var.html\n",
    "[15]: https://www.textbook.ds100.org/ch15/bias_intro.html\n",
    "[15.3]: https://www.textbook.ds100.org/ch15/bias_cv.html\n"
   ]
  }
 ],
 "metadata": {},
 "nbformat": 4,
 "nbformat_minor": 2
}
