{
 "cells": [
  {
   "cell_type": "code",
   "execution_count": 1,
   "metadata": {},
   "outputs": [],
   "source": [
    "# HIDDEN\n",
    "import numpy as np\n",
    "import matplotlib.pyplot as plt\n",
    "import pandas as pd\n",
    "import seaborn as sns\n",
    "%matplotlib inline\n",
    "import ipywidgets as widgets\n",
    "from ipywidgets import interact, interactive, fixed, interact_manual\n",
    "import nbinteract as nbi\n",
    "\n",
    "sns.set()\n",
    "sns.set_context('talk')\n",
    "pd.options.display.max_rows = 7\n",
    "pd.options.display.max_columns = 7"
   ]
  },
  {
   "cell_type": "markdown",
   "metadata": {},
   "source": [
    "## Investigating Berkeley Police Data\n",
    "\n",
    "We will use the Berkeley Police Department's publicly available datasets to demonstrate data cleaning techniques. We have downloaded the [Calls for Service dataset][calls] and [Stops dataset][stops].\n",
    "\n",
    "We can use the `ls` shell command with the `-lh` flags to see more details about the files:\n",
    "\n",
    "[calls]: https://data.cityofberkeley.info/Public-Safety/Berkeley-PD-Calls-for-Service/k2nh-s5h5\n",
    "[stops]: https://data.cityofberkeley.info/Public-Safety/Berkeley-PD-Stop-Data/6e9j-pj9p"
   ]
  },
  {
   "cell_type": "code",
   "execution_count": 2,
   "metadata": {},
   "outputs": [
    {
     "name": "stdout",
     "output_type": "stream",
     "text": [
      "total 13936\r\n",
      "-rw-r--r--@ 1 sam  staff   979K Aug 29 14:41 Berkeley_PD_-_Calls_for_Service.csv\r\n",
      "-rw-r--r--@ 1 sam  staff    81B Aug 29 14:28 cvdow.csv\r\n",
      "-rw-r--r--@ 1 sam  staff   5.8M Aug 29 14:41 stops.json\r\n"
     ]
    }
   ],
   "source": [
    "!ls -lh data/"
   ]
  },
  {
   "cell_type": "markdown",
   "metadata": {},
   "source": [
    "The command above shows the data files and their file sizes. This is especially useful because we now know the files are small enough to load into memory. As a rule of thumb, it is usually safe to load a file into memory that is around one fourth of the total memory capacity of the computer. For example, if a computer has 4GB of RAM we should be able to load a 1GB CSV file in `pandas`. To handle larger datasets we will need additional computational tools that we will cover later in this book.\n",
    "\n",
    "Notice the use of the exclamation point before `ls`. This tells Jupyter that the next line of code is a shell command, not a Python expression. We can run any available shell command in Jupyter using `!`:"
   ]
  },
  {
   "cell_type": "code",
   "execution_count": 3,
   "metadata": {},
   "outputs": [
    {
     "name": "stdout",
     "output_type": "stream",
     "text": [
      "   16497 data/Berkeley_PD_-_Calls_for_Service.csv\r\n",
      "       8 data/cvdow.csv\r\n",
      "   29852 data/stops.json\r\n",
      "   46357 total\r\n"
     ]
    }
   ],
   "source": [
    "# The `wc` shell command shows us how many lines each file has.\n",
    "# We can see that the `stops.json` file has the most lines (29852).\n",
    "!wc -l data/*"
   ]
  },
  {
   "cell_type": "markdown",
   "metadata": {},
   "source": [
    "### Understanding the Data Generation\n",
    "\n",
    "We will state important questions you should ask of all datasets before data cleaning or processing. These questions are related to how the data were generated, so data cleaning will usually **not** be able to resolve issues that arise here.\n",
    "\n",
    "**What do the data contain?** The website for the Calls for Service data states that the dataset describes \"crime incidents (not criminal reports) within the last 180 days\". Further reading reveals that \"not all calls for police service are included (e.g. Animal Bite)\".\n",
    "\n",
    "The website for the Stops data states that the dataset contains data on all \"vehicle detentions (including bicycles) and pedestrian detentions (up to five persons)\" since January 26, 2015.\n",
    "\n",
    "**Are the data a census?** This depends on our population of interest. For example, if we are interested in calls for service within the last 180 days for crime incidents then the Calls dataset is a census. However, if we are interested in calls for service within the last 10 years the dataset is clearly not a census. We can make similar statements about the Stops dataset since the data collection started on January 26, 2015.\n",
    "\n",
    "**If the data form a sample, is it a probability sample?** If we are investigating a period of time that the data do not have entries for, the data do not form a probability sample since there is no randomness involved in the data collection process — we have all data for certain time periods but no data for others.\n",
    "\n",
    "**What limitations will this data have on our conclusions?** Although we will ask this question at each step of our data processing, we can already see that our data impose important limitations. The most important limitation is that we cannot make unbiased estimations for time periods not covered by our datasets."
   ]
  },
  {
   "cell_type": "markdown",
   "metadata": {},
   "source": [
    "## Cleaning The Calls Dataset\n",
    "\n",
    "Let's now clean the Calls dataset. The `head` shell command prints the first five lines of the file."
   ]
  },
  {
   "cell_type": "code",
   "execution_count": 4,
   "metadata": {},
   "outputs": [
    {
     "name": "stdout",
     "output_type": "stream",
     "text": [
      "CASENO,OFFENSE,EVENTDT,EVENTTM,CVLEGEND,CVDOW,InDbDate,Block_Location,BLKADDR,City,State\r\n",
      "17091420,BURGLARY AUTO,07/23/2017 12:00:00 AM,06:00,BURGLARY - VEHICLE,0,08/29/2017 08:28:05 AM,\"2500 LE CONTE AVE\r\n",
      "Berkeley, CA\r\n",
      "(37.876965, -122.260544)\",2500 LE CONTE AVE,Berkeley,CA\r\n",
      "17020462,THEFT FROM PERSON,04/13/2017 12:00:00 AM,08:45,LARCENY,4,08/29/2017 08:28:00 AM,\"2200 SHATTUCK AVE\r\n",
      "Berkeley, CA\r\n",
      "(37.869363, -122.268028)\",2200 SHATTUCK AVE,Berkeley,CA\r\n",
      "17050275,BURGLARY AUTO,08/24/2017 12:00:00 AM,18:30,BURGLARY - VEHICLE,4,08/29/2017 08:28:06 AM,\"200 UNIVERSITY AVE\r\n",
      "Berkeley, CA\r\n",
      "(37.865491, -122.310065)\",200 UNIVERSITY AVE,Berkeley,CA\r\n"
     ]
    }
   ],
   "source": [
    "!head data/Berkeley_PD_-_Calls_for_Service.csv"
   ]
  },
  {
   "cell_type": "markdown",
   "metadata": {},
   "source": [
    "It appears to be a comma-separated values (CSV) file, though it's hard to tell whether the entire file is formatted properly. We can use `pd.read_csv` to read in the file as a DataFrame. If `pd.read_csv` errors, we will have to dig deeper and manually resolve formatting issues. Fortunately, `pd.read_csv` successfully returns a DataFrame:"
   ]
  },
  {
   "cell_type": "code",
   "execution_count": 5,
   "metadata": {},
   "outputs": [
    {
     "data": {
      "text/html": [
       "<div>\n",
       "<style scoped>\n",
       "    .dataframe tbody tr th:only-of-type {\n",
       "        vertical-align: middle;\n",
       "    }\n",
       "\n",
       "    .dataframe tbody tr th {\n",
       "        vertical-align: top;\n",
       "    }\n",
       "\n",
       "    .dataframe thead th {\n",
       "        text-align: right;\n",
       "    }\n",
       "</style>\n",
       "<table border=\"1\" class=\"dataframe\">\n",
       "  <thead>\n",
       "    <tr style=\"text-align: right;\">\n",
       "      <th></th>\n",
       "      <th>CASENO</th>\n",
       "      <th>OFFENSE</th>\n",
       "      <th>EVENTDT</th>\n",
       "      <th>...</th>\n",
       "      <th>BLKADDR</th>\n",
       "      <th>City</th>\n",
       "      <th>State</th>\n",
       "    </tr>\n",
       "  </thead>\n",
       "  <tbody>\n",
       "    <tr>\n",
       "      <th>0</th>\n",
       "      <td>17091420</td>\n",
       "      <td>BURGLARY AUTO</td>\n",
       "      <td>07/23/2017 12:00:00 AM</td>\n",
       "      <td>...</td>\n",
       "      <td>2500 LE CONTE AVE</td>\n",
       "      <td>Berkeley</td>\n",
       "      <td>CA</td>\n",
       "    </tr>\n",
       "    <tr>\n",
       "      <th>1</th>\n",
       "      <td>17020462</td>\n",
       "      <td>THEFT FROM PERSON</td>\n",
       "      <td>04/13/2017 12:00:00 AM</td>\n",
       "      <td>...</td>\n",
       "      <td>2200 SHATTUCK AVE</td>\n",
       "      <td>Berkeley</td>\n",
       "      <td>CA</td>\n",
       "    </tr>\n",
       "    <tr>\n",
       "      <th>2</th>\n",
       "      <td>17050275</td>\n",
       "      <td>BURGLARY AUTO</td>\n",
       "      <td>08/24/2017 12:00:00 AM</td>\n",
       "      <td>...</td>\n",
       "      <td>200 UNIVERSITY AVE</td>\n",
       "      <td>Berkeley</td>\n",
       "      <td>CA</td>\n",
       "    </tr>\n",
       "    <tr>\n",
       "      <th>...</th>\n",
       "      <td>...</td>\n",
       "      <td>...</td>\n",
       "      <td>...</td>\n",
       "      <td>...</td>\n",
       "      <td>...</td>\n",
       "      <td>...</td>\n",
       "      <td>...</td>\n",
       "    </tr>\n",
       "    <tr>\n",
       "      <th>5505</th>\n",
       "      <td>17018126</td>\n",
       "      <td>DISTURBANCE</td>\n",
       "      <td>04/01/2017 12:00:00 AM</td>\n",
       "      <td>...</td>\n",
       "      <td>1600 FAIRVIEW ST</td>\n",
       "      <td>Berkeley</td>\n",
       "      <td>CA</td>\n",
       "    </tr>\n",
       "    <tr>\n",
       "      <th>5506</th>\n",
       "      <td>17090665</td>\n",
       "      <td>THEFT MISD. (UNDER $950)</td>\n",
       "      <td>04/01/2017 12:00:00 AM</td>\n",
       "      <td>...</td>\n",
       "      <td>2000 DELAWARE ST</td>\n",
       "      <td>Berkeley</td>\n",
       "      <td>CA</td>\n",
       "    </tr>\n",
       "    <tr>\n",
       "      <th>5507</th>\n",
       "      <td>17049700</td>\n",
       "      <td>SEXUAL ASSAULT MISD.</td>\n",
       "      <td>08/22/2017 12:00:00 AM</td>\n",
       "      <td>...</td>\n",
       "      <td>2400 TELEGRAPH AVE</td>\n",
       "      <td>Berkeley</td>\n",
       "      <td>CA</td>\n",
       "    </tr>\n",
       "  </tbody>\n",
       "</table>\n",
       "<p>5508 rows × 11 columns</p>\n",
       "</div>"
      ],
      "text/plain": [
       "        CASENO                   OFFENSE                 EVENTDT  ...    \\\n",
       "0     17091420             BURGLARY AUTO  07/23/2017 12:00:00 AM  ...     \n",
       "1     17020462         THEFT FROM PERSON  04/13/2017 12:00:00 AM  ...     \n",
       "2     17050275             BURGLARY AUTO  08/24/2017 12:00:00 AM  ...     \n",
       "...        ...                       ...                     ...  ...     \n",
       "5505  17018126               DISTURBANCE  04/01/2017 12:00:00 AM  ...     \n",
       "5506  17090665  THEFT MISD. (UNDER $950)  04/01/2017 12:00:00 AM  ...     \n",
       "5507  17049700      SEXUAL ASSAULT MISD.  08/22/2017 12:00:00 AM  ...     \n",
       "\n",
       "                 BLKADDR      City  State  \n",
       "0      2500 LE CONTE AVE  Berkeley     CA  \n",
       "1      2200 SHATTUCK AVE  Berkeley     CA  \n",
       "2     200 UNIVERSITY AVE  Berkeley     CA  \n",
       "...                  ...       ...    ...  \n",
       "5505    1600 FAIRVIEW ST  Berkeley     CA  \n",
       "5506    2000 DELAWARE ST  Berkeley     CA  \n",
       "5507  2400 TELEGRAPH AVE  Berkeley     CA  \n",
       "\n",
       "[5508 rows x 11 columns]"
      ]
     },
     "execution_count": 5,
     "metadata": {},
     "output_type": "execute_result"
    }
   ],
   "source": [
    "calls = pd.read_csv('data/Berkeley_PD_-_Calls_for_Service.csv')\n",
    "calls"
   ]
  },
  {
   "cell_type": "markdown",
   "metadata": {},
   "source": [
    "We can define a function to show different slices of the data and then interact with it:"
   ]
  },
  {
   "cell_type": "code",
   "execution_count": 21,
   "metadata": {},
   "outputs": [
    {
     "data": {
      "application/vnd.jupyter.widget-view+json": {
       "model_id": "d169d5a1eb054c9ba2a220395e147aae",
       "version_major": 2,
       "version_minor": 0
      },
      "text/plain": [
       "A Jupyter Widget"
      ]
     },
     "metadata": {},
     "output_type": "display_data"
    }
   ],
   "source": [
    "def df_interact(df):\n",
    "    '''\n",
    "    Outputs sliders that show rows and columns of df\n",
    "    '''\n",
    "    def peek(row=0, col=0):\n",
    "        return df.iloc[row:row + 5, col:col + 6]\n",
    "    interact(peek, row=(0, len(df), 5), col=(0, len(df.columns) - 6))\n",
    "\n",
    "df_interact(calls)"
   ]
  },
  {
   "cell_type": "markdown",
   "metadata": {},
   "source": [
    "Based on the output above, the resulting DataFrame looks reasonably well-formed since the columns are properly named and the data in each column seems to be entered consistently. What data does each column contain? We can look at the dataset website:\n",
    "\n",
    "| Column         | Description                            | Type        |\n",
    "| ------         | -----------                            | ----        |\n",
    "| CASENO         | Case Number                            | Number      |\n",
    "| OFFENSE        | Offense Type                           | Plain Text  |\n",
    "| EVENTDT        | Date Event Occurred                    | Date & Time |\n",
    "| EVENTTM        | Time Event Occurred                    | Plain Text  |\n",
    "| CVLEGEND       | Description of Event                   | Plain Text  |\n",
    "| CVDOW          | Day of Week Event Occurred             | Number      |\n",
    "| InDbDate       | Date dataset was updated in the portal | Date & Time |\n",
    "| Block_Location | Block level address of event           | Location    |\n",
    "| BLKADDR        |                                        | Plain Text  |\n",
    "| City           |                                        | Plain Text  |\n",
    "| State          |                                        | Plain Text  |"
   ]
  },
  {
   "cell_type": "markdown",
   "metadata": {},
   "source": [
    "On the surface the data looks easy to work with. However, before starting data analysis we must answer the following questions:\n",
    "\n",
    "1. **Are there missing values in the dataset?** This question is important because missing values can represent many different things. For example, missing addresses could mean that locations were removed to protect anonymity, or that some respondents chose not to answer a survey question, or that a recording device broke.\n",
    "1. **Are there any missing values that were filled in (e.g. a 999 for unknown age or 12:00am for unknown date)?** These will clearly impact analysis if we ignore them.\n",
    "1. **Which parts of the data were entered by a human?** As we will soon see, human-entered data is filled with inconsistencies and mispellings.\n",
    "\n",
    "Although there are plenty more checks to go through, these three will suffice for many cases. See the [Quartz bad data guide](https://github.com/Quartz/bad-data-guide) for a more complete list of checks."
   ]
  },
  {
   "cell_type": "markdown",
   "metadata": {},
   "source": [
    "### Are there missing values?\n",
    "\n",
    "This is a simple check in `pandas`:"
   ]
  },
  {
   "cell_type": "code",
   "execution_count": 7,
   "metadata": {},
   "outputs": [
    {
     "data": {
      "text/html": [
       "<div>\n",
       "<style scoped>\n",
       "    .dataframe tbody tr th:only-of-type {\n",
       "        vertical-align: middle;\n",
       "    }\n",
       "\n",
       "    .dataframe tbody tr th {\n",
       "        vertical-align: top;\n",
       "    }\n",
       "\n",
       "    .dataframe thead th {\n",
       "        text-align: right;\n",
       "    }\n",
       "</style>\n",
       "<table border=\"1\" class=\"dataframe\">\n",
       "  <thead>\n",
       "    <tr style=\"text-align: right;\">\n",
       "      <th></th>\n",
       "      <th>CASENO</th>\n",
       "      <th>OFFENSE</th>\n",
       "      <th>EVENTDT</th>\n",
       "      <th>...</th>\n",
       "      <th>BLKADDR</th>\n",
       "      <th>City</th>\n",
       "      <th>State</th>\n",
       "    </tr>\n",
       "  </thead>\n",
       "  <tbody>\n",
       "    <tr>\n",
       "      <th>116</th>\n",
       "      <td>17014831</td>\n",
       "      <td>BURGLARY AUTO</td>\n",
       "      <td>03/16/2017 12:00:00 AM</td>\n",
       "      <td>...</td>\n",
       "      <td>NaN</td>\n",
       "      <td>Berkeley</td>\n",
       "      <td>CA</td>\n",
       "    </tr>\n",
       "    <tr>\n",
       "      <th>478</th>\n",
       "      <td>17042511</td>\n",
       "      <td>BURGLARY AUTO</td>\n",
       "      <td>07/20/2017 12:00:00 AM</td>\n",
       "      <td>...</td>\n",
       "      <td>NaN</td>\n",
       "      <td>Berkeley</td>\n",
       "      <td>CA</td>\n",
       "    </tr>\n",
       "    <tr>\n",
       "      <th>486</th>\n",
       "      <td>17022572</td>\n",
       "      <td>VEHICLE STOLEN</td>\n",
       "      <td>04/22/2017 12:00:00 AM</td>\n",
       "      <td>...</td>\n",
       "      <td>NaN</td>\n",
       "      <td>Berkeley</td>\n",
       "      <td>CA</td>\n",
       "    </tr>\n",
       "    <tr>\n",
       "      <th>...</th>\n",
       "      <td>...</td>\n",
       "      <td>...</td>\n",
       "      <td>...</td>\n",
       "      <td>...</td>\n",
       "      <td>...</td>\n",
       "      <td>...</td>\n",
       "      <td>...</td>\n",
       "    </tr>\n",
       "    <tr>\n",
       "      <th>4945</th>\n",
       "      <td>17091287</td>\n",
       "      <td>VANDALISM</td>\n",
       "      <td>07/01/2017 12:00:00 AM</td>\n",
       "      <td>...</td>\n",
       "      <td>NaN</td>\n",
       "      <td>Berkeley</td>\n",
       "      <td>CA</td>\n",
       "    </tr>\n",
       "    <tr>\n",
       "      <th>4947</th>\n",
       "      <td>17038382</td>\n",
       "      <td>BURGLARY RESIDENTIAL</td>\n",
       "      <td>06/30/2017 12:00:00 AM</td>\n",
       "      <td>...</td>\n",
       "      <td>NaN</td>\n",
       "      <td>Berkeley</td>\n",
       "      <td>CA</td>\n",
       "    </tr>\n",
       "    <tr>\n",
       "      <th>5167</th>\n",
       "      <td>17091632</td>\n",
       "      <td>VANDALISM</td>\n",
       "      <td>08/15/2017 12:00:00 AM</td>\n",
       "      <td>...</td>\n",
       "      <td>NaN</td>\n",
       "      <td>Berkeley</td>\n",
       "      <td>CA</td>\n",
       "    </tr>\n",
       "  </tbody>\n",
       "</table>\n",
       "<p>27 rows × 11 columns</p>\n",
       "</div>"
      ],
      "text/plain": [
       "        CASENO               OFFENSE                 EVENTDT  ...   BLKADDR  \\\n",
       "116   17014831         BURGLARY AUTO  03/16/2017 12:00:00 AM  ...       NaN   \n",
       "478   17042511         BURGLARY AUTO  07/20/2017 12:00:00 AM  ...       NaN   \n",
       "486   17022572        VEHICLE STOLEN  04/22/2017 12:00:00 AM  ...       NaN   \n",
       "...        ...                   ...                     ...  ...       ...   \n",
       "4945  17091287             VANDALISM  07/01/2017 12:00:00 AM  ...       NaN   \n",
       "4947  17038382  BURGLARY RESIDENTIAL  06/30/2017 12:00:00 AM  ...       NaN   \n",
       "5167  17091632             VANDALISM  08/15/2017 12:00:00 AM  ...       NaN   \n",
       "\n",
       "          City  State  \n",
       "116   Berkeley     CA  \n",
       "478   Berkeley     CA  \n",
       "486   Berkeley     CA  \n",
       "...        ...    ...  \n",
       "4945  Berkeley     CA  \n",
       "4947  Berkeley     CA  \n",
       "5167  Berkeley     CA  \n",
       "\n",
       "[27 rows x 11 columns]"
      ]
     },
     "execution_count": 7,
     "metadata": {},
     "output_type": "execute_result"
    }
   ],
   "source": [
    "# True if row contains at least one null value\n",
    "null_rows = calls.isnull().any(axis=1)\n",
    "calls[null_rows]"
   ]
  },
  {
   "cell_type": "markdown",
   "metadata": {},
   "source": [
    "It looks like 27 calls didn't have a recorded address in BLKADDR. Unfortunately, the data description isn't very clear on how the locations were recorded. We know that all of these calls were made for events in Berkeley, so we can likely assume that the addresses for these calls were originally somewhere in Berkeley."
   ]
  },
  {
   "cell_type": "markdown",
   "metadata": {},
   "source": [
    "### Are there any missing values that were filled in?\n",
    "\n",
    "From the missing value check above we can see that the Block_Location column has Berkeley, CA recorded if the location was missing.\n",
    "\n",
    "In addition, an inspection of the `calls` table shows us that the EVENTDT column has the correct dates but records 12am for all of its times. Instead, the times are in the EVENTTM column. As a data cleaning step, we might want to merge the EVENTDT and EVENTTM columns to record both date and time in one field."
   ]
  },
  {
   "cell_type": "code",
   "execution_count": 8,
   "metadata": {},
   "outputs": [
    {
     "data": {
      "text/html": [
       "<div>\n",
       "<style scoped>\n",
       "    .dataframe tbody tr th:only-of-type {\n",
       "        vertical-align: middle;\n",
       "    }\n",
       "\n",
       "    .dataframe tbody tr th {\n",
       "        vertical-align: top;\n",
       "    }\n",
       "\n",
       "    .dataframe thead th {\n",
       "        text-align: right;\n",
       "    }\n",
       "</style>\n",
       "<table border=\"1\" class=\"dataframe\">\n",
       "  <thead>\n",
       "    <tr style=\"text-align: right;\">\n",
       "      <th></th>\n",
       "      <th>CASENO</th>\n",
       "      <th>OFFENSE</th>\n",
       "      <th>EVENTDT</th>\n",
       "      <th>...</th>\n",
       "      <th>BLKADDR</th>\n",
       "      <th>City</th>\n",
       "      <th>State</th>\n",
       "    </tr>\n",
       "  </thead>\n",
       "  <tbody>\n",
       "    <tr>\n",
       "      <th>0</th>\n",
       "      <td>17091420</td>\n",
       "      <td>BURGLARY AUTO</td>\n",
       "      <td>07/23/2017 12:00:00 AM</td>\n",
       "      <td>...</td>\n",
       "      <td>2500 LE CONTE AVE</td>\n",
       "      <td>Berkeley</td>\n",
       "      <td>CA</td>\n",
       "    </tr>\n",
       "    <tr>\n",
       "      <th>1</th>\n",
       "      <td>17020462</td>\n",
       "      <td>THEFT FROM PERSON</td>\n",
       "      <td>04/13/2017 12:00:00 AM</td>\n",
       "      <td>...</td>\n",
       "      <td>2200 SHATTUCK AVE</td>\n",
       "      <td>Berkeley</td>\n",
       "      <td>CA</td>\n",
       "    </tr>\n",
       "    <tr>\n",
       "      <th>2</th>\n",
       "      <td>17050275</td>\n",
       "      <td>BURGLARY AUTO</td>\n",
       "      <td>08/24/2017 12:00:00 AM</td>\n",
       "      <td>...</td>\n",
       "      <td>200 UNIVERSITY AVE</td>\n",
       "      <td>Berkeley</td>\n",
       "      <td>CA</td>\n",
       "    </tr>\n",
       "    <tr>\n",
       "      <th>3</th>\n",
       "      <td>17019145</td>\n",
       "      <td>GUN/WEAPON</td>\n",
       "      <td>04/06/2017 12:00:00 AM</td>\n",
       "      <td>...</td>\n",
       "      <td>1900 SEVENTH ST</td>\n",
       "      <td>Berkeley</td>\n",
       "      <td>CA</td>\n",
       "    </tr>\n",
       "    <tr>\n",
       "      <th>4</th>\n",
       "      <td>17044993</td>\n",
       "      <td>VEHICLE STOLEN</td>\n",
       "      <td>08/01/2017 12:00:00 AM</td>\n",
       "      <td>...</td>\n",
       "      <td>100 PARKSIDE DR</td>\n",
       "      <td>Berkeley</td>\n",
       "      <td>CA</td>\n",
       "    </tr>\n",
       "    <tr>\n",
       "      <th>5</th>\n",
       "      <td>17037319</td>\n",
       "      <td>BURGLARY RESIDENTIAL</td>\n",
       "      <td>06/28/2017 12:00:00 AM</td>\n",
       "      <td>...</td>\n",
       "      <td>1500 PRINCE ST</td>\n",
       "      <td>Berkeley</td>\n",
       "      <td>CA</td>\n",
       "    </tr>\n",
       "    <tr>\n",
       "      <th>6</th>\n",
       "      <td>17030791</td>\n",
       "      <td>BURGLARY RESIDENTIAL</td>\n",
       "      <td>05/30/2017 12:00:00 AM</td>\n",
       "      <td>...</td>\n",
       "      <td>300 MENLO PL</td>\n",
       "      <td>Berkeley</td>\n",
       "      <td>CA</td>\n",
       "    </tr>\n",
       "  </tbody>\n",
       "</table>\n",
       "<p>7 rows × 11 columns</p>\n",
       "</div>"
      ],
      "text/plain": [
       "     CASENO               OFFENSE                 EVENTDT  ...    \\\n",
       "0  17091420         BURGLARY AUTO  07/23/2017 12:00:00 AM  ...     \n",
       "1  17020462     THEFT FROM PERSON  04/13/2017 12:00:00 AM  ...     \n",
       "2  17050275         BURGLARY AUTO  08/24/2017 12:00:00 AM  ...     \n",
       "3  17019145            GUN/WEAPON  04/06/2017 12:00:00 AM  ...     \n",
       "4  17044993        VEHICLE STOLEN  08/01/2017 12:00:00 AM  ...     \n",
       "5  17037319  BURGLARY RESIDENTIAL  06/28/2017 12:00:00 AM  ...     \n",
       "6  17030791  BURGLARY RESIDENTIAL  05/30/2017 12:00:00 AM  ...     \n",
       "\n",
       "              BLKADDR      City  State  \n",
       "0   2500 LE CONTE AVE  Berkeley     CA  \n",
       "1   2200 SHATTUCK AVE  Berkeley     CA  \n",
       "2  200 UNIVERSITY AVE  Berkeley     CA  \n",
       "3     1900 SEVENTH ST  Berkeley     CA  \n",
       "4     100 PARKSIDE DR  Berkeley     CA  \n",
       "5      1500 PRINCE ST  Berkeley     CA  \n",
       "6        300 MENLO PL  Berkeley     CA  \n",
       "\n",
       "[7 rows x 11 columns]"
      ]
     },
     "execution_count": 8,
     "metadata": {},
     "output_type": "execute_result"
    }
   ],
   "source": [
    "# Show the first 7 rows of the table again for reference\n",
    "calls.head(7)"
   ]
  },
  {
   "cell_type": "markdown",
   "metadata": {},
   "source": [
    "### Which parts of the data were entered by a human?\n",
    "\n",
    "It looks like most of the data columns are machine-recorded, including the date, time, day of week, and location of the event.\n",
    "\n",
    "In addition, the OFFENSE and CVLEGEND columns appear to contain consistent values. We can check the unique values in each column to see if anything was misspelled:"
   ]
  },
  {
   "cell_type": "code",
   "execution_count": 9,
   "metadata": {},
   "outputs": [
    {
     "data": {
      "text/plain": [
       "array(['BURGLARY AUTO', 'THEFT FROM PERSON', 'GUN/WEAPON',\n",
       "       'VEHICLE STOLEN', 'BURGLARY RESIDENTIAL', 'VANDALISM',\n",
       "       'DISTURBANCE', 'THEFT MISD. (UNDER $950)', 'THEFT FROM AUTO',\n",
       "       'DOMESTIC VIOLENCE', 'THEFT FELONY (OVER $950)', 'ALCOHOL OFFENSE',\n",
       "       'MISSING JUVENILE', 'ROBBERY', 'IDENTITY THEFT',\n",
       "       'ASSAULT/BATTERY MISD.', '2ND RESPONSE', 'BRANDISHING',\n",
       "       'MISSING ADULT', 'NARCOTICS', 'FRAUD/FORGERY',\n",
       "       'ASSAULT/BATTERY FEL.', 'BURGLARY COMMERCIAL', 'MUNICIPAL CODE',\n",
       "       'ARSON', 'SEXUAL ASSAULT FEL.', 'VEHICLE RECOVERED',\n",
       "       'SEXUAL ASSAULT MISD.', 'KIDNAPPING', 'VICE', 'HOMICIDE'], dtype=object)"
      ]
     },
     "execution_count": 9,
     "metadata": {},
     "output_type": "execute_result"
    }
   ],
   "source": [
    "calls['OFFENSE'].unique()"
   ]
  },
  {
   "cell_type": "code",
   "execution_count": 10,
   "metadata": {},
   "outputs": [
    {
     "data": {
      "text/plain": [
       "array(['BURGLARY - VEHICLE', 'LARCENY', 'WEAPONS OFFENSE',\n",
       "       'MOTOR VEHICLE THEFT', 'BURGLARY - RESIDENTIAL', 'VANDALISM',\n",
       "       'DISORDERLY CONDUCT', 'LARCENY - FROM VEHICLE', 'FAMILY OFFENSE',\n",
       "       'LIQUOR LAW VIOLATION', 'MISSING PERSON', 'ROBBERY', 'FRAUD',\n",
       "       'ASSAULT', 'NOISE VIOLATION', 'DRUG VIOLATION',\n",
       "       'BURGLARY - COMMERCIAL', 'ALL OTHER OFFENSES', 'ARSON', 'SEX CRIME',\n",
       "       'RECOVERED VEHICLE', 'KIDNAPPING', 'HOMICIDE'], dtype=object)"
      ]
     },
     "execution_count": 10,
     "metadata": {},
     "output_type": "execute_result"
    }
   ],
   "source": [
    "calls['CVLEGEND'].unique()"
   ]
  },
  {
   "cell_type": "markdown",
   "metadata": {},
   "source": [
    "Since each value in these columns appears to be spelled correctly, we won't have to perform any corrections on these columns.\n",
    "\n",
    "The Block_Location column seems to contain strings that record address, latitude, and longitude. We will want to separate the latitude and longitude for easier use."
   ]
  },
  {
   "cell_type": "code",
   "execution_count": 11,
   "metadata": {},
   "outputs": [
    {
     "data": {
      "text/html": [
       "<div>\n",
       "<style scoped>\n",
       "    .dataframe tbody tr th:only-of-type {\n",
       "        vertical-align: middle;\n",
       "    }\n",
       "\n",
       "    .dataframe tbody tr th {\n",
       "        vertical-align: top;\n",
       "    }\n",
       "\n",
       "    .dataframe thead th {\n",
       "        text-align: right;\n",
       "    }\n",
       "</style>\n",
       "<table border=\"1\" class=\"dataframe\">\n",
       "  <thead>\n",
       "    <tr style=\"text-align: right;\">\n",
       "      <th></th>\n",
       "      <th>CASENO</th>\n",
       "      <th>OFFENSE</th>\n",
       "      <th>EVENTDT</th>\n",
       "      <th>...</th>\n",
       "      <th>State</th>\n",
       "      <th>Latitude</th>\n",
       "      <th>Longitude</th>\n",
       "    </tr>\n",
       "  </thead>\n",
       "  <tbody>\n",
       "    <tr>\n",
       "      <th>0</th>\n",
       "      <td>17091420</td>\n",
       "      <td>BURGLARY AUTO</td>\n",
       "      <td>07/23/2017 12:00:00 AM</td>\n",
       "      <td>...</td>\n",
       "      <td>CA</td>\n",
       "      <td>37.876965</td>\n",
       "      <td>-122.260544</td>\n",
       "    </tr>\n",
       "    <tr>\n",
       "      <th>1</th>\n",
       "      <td>17020462</td>\n",
       "      <td>THEFT FROM PERSON</td>\n",
       "      <td>04/13/2017 12:00:00 AM</td>\n",
       "      <td>...</td>\n",
       "      <td>CA</td>\n",
       "      <td>37.869363</td>\n",
       "      <td>-122.268028</td>\n",
       "    </tr>\n",
       "    <tr>\n",
       "      <th>2</th>\n",
       "      <td>17050275</td>\n",
       "      <td>BURGLARY AUTO</td>\n",
       "      <td>08/24/2017 12:00:00 AM</td>\n",
       "      <td>...</td>\n",
       "      <td>CA</td>\n",
       "      <td>37.865491</td>\n",
       "      <td>-122.310065</td>\n",
       "    </tr>\n",
       "    <tr>\n",
       "      <th>...</th>\n",
       "      <td>...</td>\n",
       "      <td>...</td>\n",
       "      <td>...</td>\n",
       "      <td>...</td>\n",
       "      <td>...</td>\n",
       "      <td>...</td>\n",
       "      <td>...</td>\n",
       "    </tr>\n",
       "    <tr>\n",
       "      <th>5505</th>\n",
       "      <td>17018126</td>\n",
       "      <td>DISTURBANCE</td>\n",
       "      <td>04/01/2017 12:00:00 AM</td>\n",
       "      <td>...</td>\n",
       "      <td>CA</td>\n",
       "      <td>37.850001</td>\n",
       "      <td>-122.275963</td>\n",
       "    </tr>\n",
       "    <tr>\n",
       "      <th>5506</th>\n",
       "      <td>17090665</td>\n",
       "      <td>THEFT MISD. (UNDER $950)</td>\n",
       "      <td>04/01/2017 12:00:00 AM</td>\n",
       "      <td>...</td>\n",
       "      <td>CA</td>\n",
       "      <td>37.874489</td>\n",
       "      <td>-122.271072</td>\n",
       "    </tr>\n",
       "    <tr>\n",
       "      <th>5507</th>\n",
       "      <td>17049700</td>\n",
       "      <td>SEXUAL ASSAULT MISD.</td>\n",
       "      <td>08/22/2017 12:00:00 AM</td>\n",
       "      <td>...</td>\n",
       "      <td>CA</td>\n",
       "      <td>37.866761</td>\n",
       "      <td>-122.258779</td>\n",
       "    </tr>\n",
       "  </tbody>\n",
       "</table>\n",
       "<p>5508 rows × 13 columns</p>\n",
       "</div>"
      ],
      "text/plain": [
       "        CASENO                   OFFENSE                 EVENTDT     ...       \\\n",
       "0     17091420             BURGLARY AUTO  07/23/2017 12:00:00 AM     ...        \n",
       "1     17020462         THEFT FROM PERSON  04/13/2017 12:00:00 AM     ...        \n",
       "2     17050275             BURGLARY AUTO  08/24/2017 12:00:00 AM     ...        \n",
       "...        ...                       ...                     ...     ...        \n",
       "5505  17018126               DISTURBANCE  04/01/2017 12:00:00 AM     ...        \n",
       "5506  17090665  THEFT MISD. (UNDER $950)  04/01/2017 12:00:00 AM     ...        \n",
       "5507  17049700      SEXUAL ASSAULT MISD.  08/22/2017 12:00:00 AM     ...        \n",
       "\n",
       "     State   Latitude    Longitude  \n",
       "0       CA  37.876965  -122.260544  \n",
       "1       CA  37.869363  -122.268028  \n",
       "2       CA  37.865491  -122.310065  \n",
       "...    ...        ...          ...  \n",
       "5505    CA  37.850001  -122.275963  \n",
       "5506    CA  37.874489  -122.271072  \n",
       "5507    CA  37.866761  -122.258779  \n",
       "\n",
       "[5508 rows x 13 columns]"
      ]
     },
     "execution_count": 11,
     "metadata": {},
     "output_type": "execute_result"
    }
   ],
   "source": [
    "calls_with_coords = calls.join(\n",
    "    calls['Block_Location']\n",
    "    # Get coords from string\n",
    "    .str.split('\\n').str[2]\n",
    "    # Remove parens from coords\n",
    "    .str[1:-1]\n",
    "    # Split latitude and longitude\n",
    "    .str.split(', ', expand=True)\n",
    "    .rename(columns={0: 'Latitude', 1: 'Longitude'})\n",
    ")\n",
    "calls_with_coords"
   ]
  },
  {
   "cell_type": "markdown",
   "metadata": {},
   "source": [
    "We also check the BLKADDR column for inconsistencies and find that sometimes an address is recorded (e.g. 2500 LE CONTE AVE) but other times a cross street is recorded (e.g. ALLSTON WAY & FIFTH ST). This will make the column difficult to use for analysis but fortunately we can use the latitude and longitude of the event instead of the street address."
   ]
  },
  {
   "cell_type": "code",
   "execution_count": 12,
   "metadata": {},
   "outputs": [
    {
     "data": {
      "text/plain": [
       "0            2500 LE CONTE AVE\n",
       "5001    ALLSTON WAY & FIFTH ST\n",
       "Name: BLKADDR, dtype: object"
      ]
     },
     "execution_count": 12,
     "metadata": {},
     "output_type": "execute_result"
    }
   ],
   "source": [
    "calls_with_coords['BLKADDR'][[0, 5001]]"
   ]
  },
  {
   "cell_type": "markdown",
   "metadata": {},
   "source": [
    "### Final Touchups\n",
    "\n",
    "This dataset seems almost ready for analysis. We finish our first pass at data cleaning by replacing the numbers in CVDOW with the actual day of week and dropping unneeded columns."
   ]
  },
  {
   "cell_type": "code",
   "execution_count": 13,
   "metadata": {},
   "outputs": [
    {
     "data": {
      "text/html": [
       "<div>\n",
       "<style scoped>\n",
       "    .dataframe tbody tr th:only-of-type {\n",
       "        vertical-align: middle;\n",
       "    }\n",
       "\n",
       "    .dataframe tbody tr th {\n",
       "        vertical-align: top;\n",
       "    }\n",
       "\n",
       "    .dataframe thead th {\n",
       "        text-align: right;\n",
       "    }\n",
       "</style>\n",
       "<table border=\"1\" class=\"dataframe\">\n",
       "  <thead>\n",
       "    <tr style=\"text-align: right;\">\n",
       "      <th></th>\n",
       "      <th>CVDOW</th>\n",
       "      <th>Day</th>\n",
       "    </tr>\n",
       "  </thead>\n",
       "  <tbody>\n",
       "    <tr>\n",
       "      <th>0</th>\n",
       "      <td>0</td>\n",
       "      <td>Sunday</td>\n",
       "    </tr>\n",
       "    <tr>\n",
       "      <th>1</th>\n",
       "      <td>1</td>\n",
       "      <td>Monday</td>\n",
       "    </tr>\n",
       "    <tr>\n",
       "      <th>2</th>\n",
       "      <td>2</td>\n",
       "      <td>Tuesday</td>\n",
       "    </tr>\n",
       "    <tr>\n",
       "      <th>3</th>\n",
       "      <td>3</td>\n",
       "      <td>Wednesday</td>\n",
       "    </tr>\n",
       "    <tr>\n",
       "      <th>4</th>\n",
       "      <td>4</td>\n",
       "      <td>Thursday</td>\n",
       "    </tr>\n",
       "    <tr>\n",
       "      <th>5</th>\n",
       "      <td>5</td>\n",
       "      <td>Friday</td>\n",
       "    </tr>\n",
       "    <tr>\n",
       "      <th>6</th>\n",
       "      <td>6</td>\n",
       "      <td>Saturday</td>\n",
       "    </tr>\n",
       "  </tbody>\n",
       "</table>\n",
       "</div>"
      ],
      "text/plain": [
       "   CVDOW        Day\n",
       "0      0     Sunday\n",
       "1      1     Monday\n",
       "2      2    Tuesday\n",
       "3      3  Wednesday\n",
       "4      4   Thursday\n",
       "5      5     Friday\n",
       "6      6   Saturday"
      ]
     },
     "execution_count": 13,
     "metadata": {},
     "output_type": "execute_result"
    }
   ],
   "source": [
    "# This DF contains the day for each number in CVDOW\n",
    "day_of_week = pd.read_csv('data/cvdow.csv')\n",
    "day_of_week"
   ]
  },
  {
   "cell_type": "code",
   "execution_count": 14,
   "metadata": {},
   "outputs": [
    {
     "data": {
      "text/html": [
       "<div>\n",
       "<style scoped>\n",
       "    .dataframe tbody tr th:only-of-type {\n",
       "        vertical-align: middle;\n",
       "    }\n",
       "\n",
       "    .dataframe tbody tr th {\n",
       "        vertical-align: top;\n",
       "    }\n",
       "\n",
       "    .dataframe thead th {\n",
       "        text-align: right;\n",
       "    }\n",
       "</style>\n",
       "<table border=\"1\" class=\"dataframe\">\n",
       "  <thead>\n",
       "    <tr style=\"text-align: right;\">\n",
       "      <th></th>\n",
       "      <th>CASENO</th>\n",
       "      <th>OFFENSE</th>\n",
       "      <th>EVENTDT</th>\n",
       "      <th>...</th>\n",
       "      <th>Latitude</th>\n",
       "      <th>Longitude</th>\n",
       "      <th>Day</th>\n",
       "    </tr>\n",
       "  </thead>\n",
       "  <tbody>\n",
       "    <tr>\n",
       "      <th>0</th>\n",
       "      <td>17091420</td>\n",
       "      <td>BURGLARY AUTO</td>\n",
       "      <td>07/23/2017 12:00:00 AM</td>\n",
       "      <td>...</td>\n",
       "      <td>37.876965</td>\n",
       "      <td>-122.260544</td>\n",
       "      <td>Sunday</td>\n",
       "    </tr>\n",
       "    <tr>\n",
       "      <th>1</th>\n",
       "      <td>17038302</td>\n",
       "      <td>BURGLARY AUTO</td>\n",
       "      <td>07/02/2017 12:00:00 AM</td>\n",
       "      <td>...</td>\n",
       "      <td>37.867209</td>\n",
       "      <td>-122.256554</td>\n",
       "      <td>Sunday</td>\n",
       "    </tr>\n",
       "    <tr>\n",
       "      <th>2</th>\n",
       "      <td>17049346</td>\n",
       "      <td>THEFT MISD. (UNDER $950)</td>\n",
       "      <td>08/20/2017 12:00:00 AM</td>\n",
       "      <td>...</td>\n",
       "      <td>37.867948</td>\n",
       "      <td>-122.250664</td>\n",
       "      <td>Sunday</td>\n",
       "    </tr>\n",
       "    <tr>\n",
       "      <th>...</th>\n",
       "      <td>...</td>\n",
       "      <td>...</td>\n",
       "      <td>...</td>\n",
       "      <td>...</td>\n",
       "      <td>...</td>\n",
       "      <td>...</td>\n",
       "      <td>...</td>\n",
       "    </tr>\n",
       "    <tr>\n",
       "      <th>5505</th>\n",
       "      <td>17021604</td>\n",
       "      <td>IDENTITY THEFT</td>\n",
       "      <td>03/31/2017 12:00:00 AM</td>\n",
       "      <td>...</td>\n",
       "      <td>37.896218</td>\n",
       "      <td>-122.270671</td>\n",
       "      <td>Friday</td>\n",
       "    </tr>\n",
       "    <tr>\n",
       "      <th>5506</th>\n",
       "      <td>17033201</td>\n",
       "      <td>DISTURBANCE</td>\n",
       "      <td>06/09/2017 12:00:00 AM</td>\n",
       "      <td>...</td>\n",
       "      <td>37.868957</td>\n",
       "      <td>-122.254552</td>\n",
       "      <td>Friday</td>\n",
       "    </tr>\n",
       "    <tr>\n",
       "      <th>5507</th>\n",
       "      <td>17047247</td>\n",
       "      <td>BURGLARY AUTO</td>\n",
       "      <td>08/11/2017 12:00:00 AM</td>\n",
       "      <td>...</td>\n",
       "      <td>37.869679</td>\n",
       "      <td>-122.288038</td>\n",
       "      <td>Friday</td>\n",
       "    </tr>\n",
       "  </tbody>\n",
       "</table>\n",
       "<p>5508 rows × 9 columns</p>\n",
       "</div>"
      ],
      "text/plain": [
       "        CASENO                   OFFENSE                 EVENTDT   ...    \\\n",
       "0     17091420             BURGLARY AUTO  07/23/2017 12:00:00 AM   ...     \n",
       "1     17038302             BURGLARY AUTO  07/02/2017 12:00:00 AM   ...     \n",
       "2     17049346  THEFT MISD. (UNDER $950)  08/20/2017 12:00:00 AM   ...     \n",
       "...        ...                       ...                     ...   ...     \n",
       "5505  17021604            IDENTITY THEFT  03/31/2017 12:00:00 AM   ...     \n",
       "5506  17033201               DISTURBANCE  06/09/2017 12:00:00 AM   ...     \n",
       "5507  17047247             BURGLARY AUTO  08/11/2017 12:00:00 AM   ...     \n",
       "\n",
       "       Latitude    Longitude     Day  \n",
       "0     37.876965  -122.260544  Sunday  \n",
       "1     37.867209  -122.256554  Sunday  \n",
       "2     37.867948  -122.250664  Sunday  \n",
       "...         ...          ...     ...  \n",
       "5505  37.896218  -122.270671  Friday  \n",
       "5506  37.868957  -122.254552  Friday  \n",
       "5507  37.869679  -122.288038  Friday  \n",
       "\n",
       "[5508 rows x 9 columns]"
      ]
     },
     "execution_count": 14,
     "metadata": {},
     "output_type": "execute_result"
    }
   ],
   "source": [
    "calls_final = (\n",
    "    calls_with_coords\n",
    "    .merge(day_of_week, on='CVDOW')\n",
    "    .drop(columns=['CVDOW', 'InDbDate', 'Block_Location', 'City', 'State'])\n",
    ")\n",
    "calls_final"
   ]
  },
  {
   "cell_type": "code",
   "execution_count": 22,
   "metadata": {},
   "outputs": [
    {
     "data": {
      "application/vnd.jupyter.widget-view+json": {
       "model_id": "be674b8634cb4c00a173549decd3781c",
       "version_major": 2,
       "version_minor": 0
      },
      "text/plain": [
       "A Jupyter Widget"
      ]
     },
     "metadata": {},
     "output_type": "display_data"
    }
   ],
   "source": [
    "df_interact(calls_final)"
   ]
  },
  {
   "cell_type": "markdown",
   "metadata": {},
   "source": [
    "The Calls dataset is now ready for exploratory data analysis. In the next section, we will clean the Stops dataset."
   ]
  }
 ],
 "metadata": {
  "kernelspec": {
   "display_name": "Python 3",
   "language": "python",
   "name": "python3"
  },
  "language_info": {
   "codemirror_mode": {
    "name": "ipython",
    "version": 3
   },
   "file_extension": ".py",
   "mimetype": "text/x-python",
   "name": "python",
   "nbconvert_exporter": "python",
   "pygments_lexer": "ipython3",
   "version": "3.6.3"
  }
 },
 "nbformat": 4,
 "nbformat_minor": 2
}
