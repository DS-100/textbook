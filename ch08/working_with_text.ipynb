{
 "cells": [
  {
   "cell_type": "markdown",
   "metadata": {
    "toc": true
   },
   "source": [
    "<h1>Table of Contents<span class=\"tocSkip\"></span></h1>\n",
    "<div class=\"toc\"><ul class=\"toc-item\"><li><span><a href=\"#Potential-Topics\" data-toc-modified-id=\"Potential-Topics-1\">Potential Topics</a></span></li><li><span><a href=\"#TODO\" data-toc-modified-id=\"TODO-2\">TODO</a></span></li><li><span><a href=\"#Learning-Goals\" data-toc-modified-id=\"Learning-Goals-3\">Learning Goals</a></span></li><li><span><a href=\"#Cleaning-Text-Data\" data-toc-modified-id=\"Cleaning-Text-Data-4\">Cleaning Text Data</a></span></li><li><span><a href=\"#Regular-Expressions\" data-toc-modified-id=\"Regular-Expressions-5\">Regular Expressions</a></span><ul class=\"toc-item\"><li><span><a href=\"#Motivation\" data-toc-modified-id=\"Motivation-5.1\">Motivation</a></span></li><li><span><a href=\"#The-Basics\" data-toc-modified-id=\"The-Basics-5.2\">The Basics</a></span><ul class=\"toc-item\"><li><span><a href=\"#Literals\" data-toc-modified-id=\"Literals-5.2.1\">Literals</a></span><ul class=\"toc-item\"><li><span><a href=\"#Regular-expressions-match-anywhere-in-the-string\" data-toc-modified-id=\"Regular-expressions-match-anywhere-in-the-string-5.2.1.1\">Regular expressions match anywhere in the string</a></span></li><li><span><a href=\"#Regular-expressions-are-eager\" data-toc-modified-id=\"Regular-expressions-are-eager-5.2.1.2\">Regular expressions are eager</a></span></li><li><span><a href=\"#Regular-expressions-are-case-sensitive\" data-toc-modified-id=\"Regular-expressions-are-case-sensitive-5.2.1.3\">Regular expressions are case-sensitive</a></span></li></ul></li><li><span><a href=\"#Character-Classes\" data-toc-modified-id=\"Character-Classes-5.2.2\">Character Classes</a></span><ul class=\"toc-item\"><li><span><a href=\"#Negated-Character-Classes\" data-toc-modified-id=\"Negated-Character-Classes-5.2.2.1\">Negated Character Classes</a></span></li></ul></li><li><span><a href=\"#Quantifiers\" data-toc-modified-id=\"Quantifiers-5.2.3\">Quantifiers</a></span><ul class=\"toc-item\"><li><span><a href=\"#Shorthand-Quantifiers\" data-toc-modified-id=\"Shorthand-Quantifiers-5.2.3.1\">Shorthand Quantifiers</a></span></li><li><span><a href=\"#Regular-expressions-are-greedy\" data-toc-modified-id=\"Regular-expressions-are-greedy-5.2.3.2\">Regular expressions are greedy</a></span></li></ul></li><li><span><a href=\"#Anchoring\" data-toc-modified-id=\"Anchoring-5.2.4\">Anchoring</a></span><ul class=\"toc-item\"><li><span><a href=\"#Making-sure-the-string-only-contains-the-match-(full-match)\" data-toc-modified-id=\"Making-sure-the-string-only-contains-the-match-(full-match)-5.2.4.1\">Making sure the string only contains the match (full match)</a></span></li></ul></li><li><span><a href=\"#Grouping\" data-toc-modified-id=\"Grouping-5.2.5\">Grouping</a></span></li><li><span><a href=\"#The-Dot\" data-toc-modified-id=\"The-Dot-5.2.6\">The Dot</a></span></li><li><span><a href=\"#Escaping-Metacharacters\" data-toc-modified-id=\"Escaping-Metacharacters-5.2.7\">Escaping Metacharacters</a></span></li></ul></li><li><span><a href=\"#The-re-module\" data-toc-modified-id=\"The-re-module-5.3\">The <code>re</code> module</a></span><ul class=\"toc-item\"><li><span><a href=\"#re.search\" data-toc-modified-id=\"re.search-5.3.1\"><code>re.search</code></a></span></li><li><span><a href=\"#re.findall\" data-toc-modified-id=\"re.findall-5.3.2\"><code>re.findall</code></a></span></li><li><span><a href=\"#re.sub\" data-toc-modified-id=\"re.sub-5.3.3\"><code>re.sub</code></a></span></li></ul></li></ul></li></ul></div>"
   ]
  },
  {
   "cell_type": "code",
   "execution_count": 2,
   "metadata": {},
   "outputs": [],
   "source": [
    "import pandas as pd\n",
    "import re"
   ]
  },
  {
   "cell_type": "markdown",
   "metadata": {},
   "source": [
    "# Potential Topics\n",
    "\n",
    "1.  Inconsistent capitalization\n",
    "1.  Spelling (color vs colour)\n",
    "1.  Typos\n",
    "1.  Slang\n",
    "1.  Whitespace characters\n",
    "1.  Text-wrapping\n",
    "1.  Punctuation\n",
    "1.  Emoticons, emojis\n",
    "1.  Proper names\n",
    "1.  Number formatting\n",
    "1.  Date formating\n",
    "1.  Hyperlinks\n",
    "1.  Markup Characters\n",
    "1.  Encoding\n",
    "1.  Word stems\n",
    "1.  Word valence\n",
    "1.  Internationalization (characters with accents, unicode)"
   ]
  },
  {
   "cell_type": "markdown",
   "metadata": {},
   "source": [
    "# TODO\n",
    "\n",
    "* Write a section on backreferencing to provide a more compelling reason to use `re.sub`\n",
    "* Introduce `str.split`?\n",
    "* Expand section on basic string methods?\n",
    "* Bigger case study for regex\n",
    "* A walk through the regex engine to better display regex logic\n",
    "* An animation?\n",
    "* Excercises\n",
    "* References"
   ]
  },
  {
   "cell_type": "markdown",
   "metadata": {},
   "source": [
    "# Learning Goals\n",
    "\n",
    "* Identifying problems in text data (unmet)\n",
    "* Introduction to basic text cleaning tools (need to identify which ones are core)\n",
    "* Introduction to Regex (mostly complete)\n",
    "* Introduction to core `re` functionality\n",
    "  - search\n",
    "  - findall\n",
    "  - sub\n",
    "  - match object (group)\n",
    "  - anything else?"
   ]
  },
  {
   "cell_type": "markdown",
   "metadata": {},
   "source": [
    "# Cleaning Text Data\n",
    "\n",
    "Often, your data will come from several different sources, each with their own way of encoding information.  For example, you could take geographic data about certain counties from a table on Wikipedia and population data for those same counties from the federal census."
   ]
  },
  {
   "cell_type": "code",
   "execution_count": 78,
   "metadata": {},
   "outputs": [],
   "source": [
    "state = pd.DataFrame({\n",
    "    'County': [\n",
    "        'De Witt County',\n",
    "        'Lac qui Parle County',\n",
    "        'Lewis and Clark County',\n",
    "        'St John the Baptist Parish'\n",
    "    ],\n",
    "    'State': [\n",
    "        'IL',\n",
    "        'MN',\n",
    "        'MT',\n",
    "        'LA'\n",
    "    ]\n",
    "})\n",
    "population = pd.DataFrame({\n",
    "    'County': [\n",
    "        'DeWitt',\n",
    "        'Lac Qui Parle',\n",
    "        'Lewis & Clark',\n",
    "        'St. John the Baptist'\n",
    "    ],\n",
    "    'Population': [\n",
    "        '16,798',\n",
    "        '8,067',\n",
    "        '55,716',\n",
    "        '43,044'\n",
    "    ]\n",
    "})"
   ]
  },
  {
   "cell_type": "code",
   "execution_count": 79,
   "metadata": {},
   "outputs": [
    {
     "data": {
      "text/html": [
       "<div>\n",
       "<style scoped>\n",
       "    .dataframe tbody tr th:only-of-type {\n",
       "        vertical-align: middle;\n",
       "    }\n",
       "\n",
       "    .dataframe tbody tr th {\n",
       "        vertical-align: top;\n",
       "    }\n",
       "\n",
       "    .dataframe thead th {\n",
       "        text-align: right;\n",
       "    }\n",
       "</style>\n",
       "<table border=\"1\" class=\"dataframe\">\n",
       "  <thead>\n",
       "    <tr style=\"text-align: right;\">\n",
       "      <th></th>\n",
       "      <th>County</th>\n",
       "      <th>State</th>\n",
       "    </tr>\n",
       "  </thead>\n",
       "  <tbody>\n",
       "    <tr>\n",
       "      <th>0</th>\n",
       "      <td>De Witt County</td>\n",
       "      <td>IL</td>\n",
       "    </tr>\n",
       "    <tr>\n",
       "      <th>1</th>\n",
       "      <td>Lac qui Parle County</td>\n",
       "      <td>MN</td>\n",
       "    </tr>\n",
       "    <tr>\n",
       "      <th>2</th>\n",
       "      <td>Lewis and Clark County</td>\n",
       "      <td>MT</td>\n",
       "    </tr>\n",
       "    <tr>\n",
       "      <th>3</th>\n",
       "      <td>St John the Baptist Parish</td>\n",
       "      <td>LA</td>\n",
       "    </tr>\n",
       "  </tbody>\n",
       "</table>\n",
       "</div>"
      ],
      "text/plain": [
       "                       County State\n",
       "0              De Witt County    IL\n",
       "1        Lac qui Parle County    MN\n",
       "2      Lewis and Clark County    MT\n",
       "3  St John the Baptist Parish    LA"
      ]
     },
     "execution_count": 79,
     "metadata": {},
     "output_type": "execute_result"
    }
   ],
   "source": [
    "state"
   ]
  },
  {
   "cell_type": "code",
   "execution_count": 80,
   "metadata": {},
   "outputs": [
    {
     "data": {
      "text/html": [
       "<div>\n",
       "<style scoped>\n",
       "    .dataframe tbody tr th:only-of-type {\n",
       "        vertical-align: middle;\n",
       "    }\n",
       "\n",
       "    .dataframe tbody tr th {\n",
       "        vertical-align: top;\n",
       "    }\n",
       "\n",
       "    .dataframe thead th {\n",
       "        text-align: right;\n",
       "    }\n",
       "</style>\n",
       "<table border=\"1\" class=\"dataframe\">\n",
       "  <thead>\n",
       "    <tr style=\"text-align: right;\">\n",
       "      <th></th>\n",
       "      <th>County</th>\n",
       "      <th>Population</th>\n",
       "    </tr>\n",
       "  </thead>\n",
       "  <tbody>\n",
       "    <tr>\n",
       "      <th>0</th>\n",
       "      <td>DeWitt</td>\n",
       "      <td>16,798</td>\n",
       "    </tr>\n",
       "    <tr>\n",
       "      <th>1</th>\n",
       "      <td>Lac Qui Parle</td>\n",
       "      <td>8,067</td>\n",
       "    </tr>\n",
       "    <tr>\n",
       "      <th>2</th>\n",
       "      <td>Lewis &amp; Clark</td>\n",
       "      <td>55,716</td>\n",
       "    </tr>\n",
       "    <tr>\n",
       "      <th>3</th>\n",
       "      <td>St. John the Baptist</td>\n",
       "      <td>43,044</td>\n",
       "    </tr>\n",
       "  </tbody>\n",
       "</table>\n",
       "</div>"
      ],
      "text/plain": [
       "                 County Population\n",
       "0                DeWitt     16,798\n",
       "1         Lac Qui Parle      8,067\n",
       "2         Lewis & Clark     55,716\n",
       "3  St. John the Baptist     43,044"
      ]
     },
     "execution_count": 80,
     "metadata": {},
     "output_type": "execute_result"
    }
   ],
   "source": [
    "population"
   ]
  },
  {
   "cell_type": "markdown",
   "metadata": {},
   "source": [
    "Naturally, you might want to combine these two tables so that everything is sitting in one easy-to-reason-about DataFrame, but alas, it's not as easy as `state.join(population, on='County'`.  The slight variations of the county names make it hard for a computer to directly match on the `County` column.  In particular, we have to help the computer resolve the following issues\n",
    "\n",
    "1.  capitalization e.g. qui vs Qui\n",
    "1.  different punctuation conventions e.g. St. vs St \n",
    "1.  omission of words e.g. County/Parish absent in the `population` table\n",
    "1.  use of whitespace e.g. DeWitt vs De Witt\n",
    "1.  different abbreviation conventions e.g. & vs and\n",
    "\n",
    "Luckily for us, these problems are straightforward to solve using Python's base `string` methods."
   ]
  },
  {
   "cell_type": "code",
   "execution_count": 84,
   "metadata": {},
   "outputs": [
    {
     "data": {
      "text/html": [
       "<div>\n",
       "<style scoped>\n",
       "    .dataframe tbody tr th:only-of-type {\n",
       "        vertical-align: middle;\n",
       "    }\n",
       "\n",
       "    .dataframe tbody tr th {\n",
       "        vertical-align: top;\n",
       "    }\n",
       "\n",
       "    .dataframe thead th {\n",
       "        text-align: right;\n",
       "    }\n",
       "</style>\n",
       "<table border=\"1\" class=\"dataframe\">\n",
       "  <thead>\n",
       "    <tr style=\"text-align: right;\">\n",
       "      <th></th>\n",
       "      <th>County</th>\n",
       "      <th>Population</th>\n",
       "    </tr>\n",
       "  </thead>\n",
       "  <tbody>\n",
       "    <tr>\n",
       "      <th>0</th>\n",
       "      <td>dewitt</td>\n",
       "      <td>16,798</td>\n",
       "    </tr>\n",
       "    <tr>\n",
       "      <th>1</th>\n",
       "      <td>lacquiparle</td>\n",
       "      <td>8,067</td>\n",
       "    </tr>\n",
       "    <tr>\n",
       "      <th>2</th>\n",
       "      <td>lewisandclark</td>\n",
       "      <td>55,716</td>\n",
       "    </tr>\n",
       "    <tr>\n",
       "      <th>3</th>\n",
       "      <td>stjohnthebaptist</td>\n",
       "      <td>43,044</td>\n",
       "    </tr>\n",
       "  </tbody>\n",
       "</table>\n",
       "</div>"
      ],
      "text/plain": [
       "             County Population\n",
       "0            dewitt     16,798\n",
       "1       lacquiparle      8,067\n",
       "2     lewisandclark     55,716\n",
       "3  stjohnthebaptist     43,044"
      ]
     },
     "execution_count": 84,
     "metadata": {},
     "output_type": "execute_result"
    }
   ],
   "source": [
    "population['County'] = [c.lower() for c in population['County']]\n",
    "population['County'] = [c.replace('&', 'and') for c in population['County']]\n",
    "population['County'] = [c.replace(' ', '') for c in population['County']]\n",
    "population['County'] = [c.replace('.', '') for c in population['County']]\n",
    "population"
   ]
  },
  {
   "cell_type": "markdown",
   "metadata": {},
   "source": [
    "Alternatively, most of Python's `string` methods have a corresponding `str` method in Pandas. "
   ]
  },
  {
   "cell_type": "code",
   "execution_count": 85,
   "metadata": {},
   "outputs": [
    {
     "data": {
      "text/html": [
       "<div>\n",
       "<style scoped>\n",
       "    .dataframe tbody tr th:only-of-type {\n",
       "        vertical-align: middle;\n",
       "    }\n",
       "\n",
       "    .dataframe tbody tr th {\n",
       "        vertical-align: top;\n",
       "    }\n",
       "\n",
       "    .dataframe thead th {\n",
       "        text-align: right;\n",
       "    }\n",
       "</style>\n",
       "<table border=\"1\" class=\"dataframe\">\n",
       "  <thead>\n",
       "    <tr style=\"text-align: right;\">\n",
       "      <th></th>\n",
       "      <th>County</th>\n",
       "      <th>State</th>\n",
       "    </tr>\n",
       "  </thead>\n",
       "  <tbody>\n",
       "    <tr>\n",
       "      <th>0</th>\n",
       "      <td>dewitt</td>\n",
       "      <td>IL</td>\n",
       "    </tr>\n",
       "    <tr>\n",
       "      <th>1</th>\n",
       "      <td>lacquiparle</td>\n",
       "      <td>MN</td>\n",
       "    </tr>\n",
       "    <tr>\n",
       "      <th>2</th>\n",
       "      <td>lewisandclark</td>\n",
       "      <td>MT</td>\n",
       "    </tr>\n",
       "    <tr>\n",
       "      <th>3</th>\n",
       "      <td>stjohnthebaptist</td>\n",
       "      <td>LA</td>\n",
       "    </tr>\n",
       "  </tbody>\n",
       "</table>\n",
       "</div>"
      ],
      "text/plain": [
       "             County State\n",
       "0            dewitt    IL\n",
       "1       lacquiparle    MN\n",
       "2     lewisandclark    MT\n",
       "3  stjohnthebaptist    LA"
      ]
     },
     "execution_count": 85,
     "metadata": {},
     "output_type": "execute_result"
    }
   ],
   "source": [
    "state['County'] = (\n",
    "    state['County']\n",
    "    .str.lower()\n",
    "    .str.replace('county', '')\n",
    "    .str.replace('parish', '')\n",
    "    .str.replace(' ', '')\n",
    ")\n",
    "state"
   ]
  },
  {
   "cell_type": "markdown",
   "metadata": {},
   "source": [
    "You can find the docs on Python's `string` methods [here](https://docs.python.org/3/library/stdtypes.html#string-methods).\n",
    "\n",
    "Pandas `str` methods can be found [here](https://pandas.pydata.org/pandas-docs/stable/text.html#method-summary).\n",
    "\n",
    "These methods solve many common problems you might encounter while working with text.  In general they are fairly straightforward, so we will focus our attention on a more technical topic: pattern matching."
   ]
  },
  {
   "cell_type": "markdown",
   "metadata": {},
   "source": [
    "# Regular Expressions\n",
    "\n",
    "## Motivation"
   ]
  },
  {
   "cell_type": "markdown",
   "metadata": {},
   "source": [
    "When you are reading an email and you come across a collection of numbers, how can you discern if the digits represent a count, a phone number, a date, a date, or monetary value?  Part of the answer to that is the context in which you see the number, but the other part of the answer is in the format of the numbers themselves.  For example, let's take a look at a US telephone number:\n",
    "\n",
    "<center>382-384-3840</center>\n",
    "\n",
    "Over the course of your life, you have probably seen phone numbers written this way so many times that you recognize this particular **pattern**:\n",
    "\n",
    "1. Three numbers\n",
    "1. Followed by a dash\n",
    "1. Followed by Three numbers\n",
    "1. Followed by a dash\n",
    "1. Followed by four Numbers\n",
    "\n",
    "The natural question then becomes: how can I get my code to recognize this pattern? A first pass at the problem might look like this:"
   ]
  },
  {
   "cell_type": "code",
   "execution_count": 9,
   "metadata": {},
   "outputs": [],
   "source": [
    "def is_phone_number(string):\n",
    "    \n",
    "    digits = '0123456789'\n",
    "    \n",
    "    def is_not_digit(token):\n",
    "        return token not in digits \n",
    "    \n",
    "    # Three numbers\n",
    "    for i in range(3):\n",
    "        if is_not_digit(string[i]):\n",
    "            return False\n",
    "    \n",
    "    # Followed by a dash\n",
    "    if string[3] != '-':\n",
    "        return False\n",
    "    \n",
    "    # Followed by three numbers\n",
    "    for i in range(4, 7):\n",
    "        if is_not_digit(string[i]):\n",
    "            return False\n",
    "        \n",
    "    # Followed by a dash    \n",
    "    if string[7] != '-':\n",
    "        return False\n",
    "    \n",
    "    # Followed by four numbers\n",
    "    for i in range(8, 12):\n",
    "        if is_not_digit(string[i]):\n",
    "            return False\n",
    "    \n",
    "    return True"
   ]
  },
  {
   "cell_type": "code",
   "execution_count": 10,
   "metadata": {},
   "outputs": [
    {
     "data": {
      "text/plain": [
       "True"
      ]
     },
     "execution_count": 10,
     "metadata": {},
     "output_type": "execute_result"
    }
   ],
   "source": [
    "is_phone_number(\"382-384-3840\")"
   ]
  },
  {
   "cell_type": "markdown",
   "metadata": {},
   "source": [
    "How unpleasant and verbose.  Especially if you have to do this type of coding for each.  Fortunately for us, there is an existing solution to our problem: **regular expressions** (often abbreviated **regex**), a concise language used to describe character patterns in a string.  To start, let's take a quick look at what a regex solution to the example above might look like."
   ]
  },
  {
   "cell_type": "code",
   "execution_count": 11,
   "metadata": {},
   "outputs": [],
   "source": [
    "def is_phone_number(string):\n",
    "    regex = r\"[0-9]{3}-[0-9]{3}-[0-9]{4}\"\n",
    "    return re.search(regex, string) is not None"
   ]
  },
  {
   "cell_type": "code",
   "execution_count": 12,
   "metadata": {},
   "outputs": [
    {
     "data": {
      "text/plain": [
       "True"
      ]
     },
     "execution_count": 12,
     "metadata": {},
     "output_type": "execute_result"
    }
   ],
   "source": [
    "is_phone_number(\"382-384-3840\")"
   ]
  },
  {
   "cell_type": "markdown",
   "metadata": {},
   "source": [
    "The savings in space are quite nice it seems! But as with all things new, it comes with a learning curve.  The next two sections will expand on the two concepts required to understand the implementation of `is_phone_number` above:\n",
    "\n",
    "1. The regular expression `[0-9]{3}-[0-9]{3}-[0-9]{4}`\n",
    "1. Python's `re` module, which is built to handle regular expressions"
   ]
  },
  {
   "cell_type": "markdown",
   "metadata": {},
   "source": [
    "## The Basics\n",
    "\n",
    "Let's take a closer look at our phone number regex:\n",
    "\n",
    "<center>`[0-9]{3}-[0-9]{3}-[0-9]{4}`</center>\n",
    "\n",
    "To better understand what is going on, we'll break the expression into pieces\n",
    "\n",
    "Expression | Description\n",
    "--- | ---\n",
    "[0-9]{3} | Three numbers\n",
    "- | Followed by a dash\n",
    "[0-9]{3} | Followed by three numbers\n",
    "- | Followed by a dash\n",
    "[0-9]{4} | Followed by four numbers\n",
    "\n",
    "In the expression, we see three key basic pieces to a regular expression:\n",
    "\n",
    "1. The **literal** `-`.  The `-` we see literally means \"match a dash\"\n",
    "1. The **character class** `[0-9]`.  The square brackets mean \"match a character from this set\".  In this case, the set consists of the numbers 0 to 9.\n",
    "1. The **quantifier** `{3}`.  This changed the meaning of `[0-9]` from \"match a **single** character in 0-9\" to \"match **three consecutive** characters in 0-9\""
   ]
  },
  {
   "cell_type": "markdown",
   "metadata": {},
   "source": [
    "### Literals\n",
    "\n",
    "A **literal** character in a regular expression matches patterns that literally look like that character.  For example, the regex `\"a\"` will match the first `\"a\"` in `\"Say! I like green eggs and ham!\"`"
   ]
  },
  {
   "cell_type": "code",
   "execution_count": 65,
   "metadata": {},
   "outputs": [],
   "source": [
    "def show_regex_match(text, regex):\n",
    "    \"\"\"\n",
    "    Prints the string with the regex match highlighted.\n",
    "    \"\"\"\n",
    "    print(re.sub(f'({regex})', r'\\033[1;30;43m\\1\\033[m', text, count=1))"
   ]
  },
  {
   "cell_type": "code",
   "execution_count": 66,
   "metadata": {
    "scrolled": true
   },
   "outputs": [
    {
     "name": "stdout",
     "output_type": "stream",
     "text": [
      "S\u001b[1;30;43ma\u001b[my! I like green eggs and ham!\n"
     ]
    }
   ],
   "source": [
    "show_regex_match(\"Say! I like green eggs and ham!\", \"a\")"
   ]
  },
  {
   "cell_type": "markdown",
   "metadata": {},
   "source": [
    "#### Regular expressions match anywhere in the string\n",
    "Notice that the regex engine (the tech that parses regular expressions) doesn't care that the `a` is in the middle of the string.  We'll talk about how to change that behavior later.\n",
    "\n",
    "#### Regular expressions are eager\n",
    "\n",
    "The regular expression engine is eager to return a result.  It wants to return a match as soon (far left) as possible.  In the example above, it returns the first `a` it came across.\n",
    "\n",
    "#### Regular expressions are case-sensitive\n",
    "The literal `s` is different from the literal `s`."
   ]
  },
  {
   "cell_type": "code",
   "execution_count": 34,
   "metadata": {},
   "outputs": [
    {
     "name": "stdout",
     "output_type": "stream",
     "text": [
      "Say! I like green egg\u001b[1;30;43ms\u001b[m and ham!\n"
     ]
    }
   ],
   "source": [
    "show_regex_match(\"Say! I like green eggs and ham!\", \"s\")"
   ]
  },
  {
   "cell_type": "markdown",
   "metadata": {},
   "source": [
    "### Character Classes"
   ]
  },
  {
   "cell_type": "markdown",
   "metadata": {},
   "source": [
    "A **character class** allows us to tell the regex engine to match one out of a set of characters.  To do so, we just need to put the characters of interest in square brackets.  For example, the two different spellings for the color in-between black and white: `grey` and `gray`.  `gr` can be followed by an `e` or and `a`, so we will lump them together in a character class `[ae]`.  This gives us the regular expression `gr[ae]y`."
   ]
  },
  {
   "cell_type": "code",
   "execution_count": 16,
   "metadata": {},
   "outputs": [
    {
     "name": "stdout",
     "output_type": "stream",
     "text": [
      "I like your \u001b[1;30;43mgray\u001b[m shirt.\n"
     ]
    }
   ],
   "source": [
    "show_regex_match(\"I like your gray shirt.\", \"gr[ae]y\")"
   ]
  },
  {
   "cell_type": "code",
   "execution_count": 17,
   "metadata": {},
   "outputs": [
    {
     "name": "stdout",
     "output_type": "stream",
     "text": [
      "I like your \u001b[1;30;43mgrey\u001b[m shirt.\n"
     ]
    }
   ],
   "source": [
    "show_regex_match(\"I like your grey shirt.\", \"gr[ae]y\")"
   ]
  },
  {
   "cell_type": "code",
   "execution_count": 18,
   "metadata": {},
   "outputs": [
    {
     "name": "stdout",
     "output_type": "stream",
     "text": [
      "I like your graey shirt.\n"
     ]
    }
   ],
   "source": [
    "show_regex_match(\"I like your graey shirt.\", \"gr[ae]y\") # Does not match"
   ]
  },
  {
   "cell_type": "markdown",
   "metadata": {},
   "source": [
    "There are a few special shorthand notations we can use for commonly used character classes:\n",
    "\n",
    "Shorthand | Meaning\n",
    "--- | ---\n",
    "[0-9] | All the digits\n",
    "[a-z] | Lowercase letters\n",
    "[A-Z] | Uppercase letters"
   ]
  },
  {
   "cell_type": "markdown",
   "metadata": {},
   "source": [
    "There are actually quite a few more, but enumerating them all isn't particularly instructive.  You can find more information [here](https://www.regular-expressions.info/shorthand.html)."
   ]
  },
  {
   "cell_type": "markdown",
   "metadata": {},
   "source": [
    "#### Negated Character Classes"
   ]
  },
  {
   "cell_type": "markdown",
   "metadata": {},
   "source": [
    "A **negated character class** tells the regex engine to match **anything** but the characters in the class.  You do this by typing a caret after the opening square bracket.\n",
    "\n",
    "In California, standard license plates of the form `[1-9][A-Z]{3}[0-9]{3}` are issued to vehicles rather than drivers.  The first number of a plate is a decent indicator of how new a car is.  Currently, new cars are assigned license plate numbers that start with a 7.  Given a database of cars, you might want to look for license plates that start with any number other than 7.  To do this, you could use the negated character class `[^7]`.  For example, we only match the second plate below:"
   ]
  },
  {
   "cell_type": "code",
   "execution_count": 19,
   "metadata": {},
   "outputs": [
    {
     "name": "stdout",
     "output_type": "stream",
     "text": [
      "7ABC243, \u001b[1;30;43m6FDI194\u001b[m\n"
     ]
    }
   ],
   "source": [
    "show_regex_match(\"7ABC243, 6FDI194\", \"[^7][A-Z]{3}[0-9]{3}\")"
   ]
  },
  {
   "cell_type": "markdown",
   "metadata": {},
   "source": [
    "### Quantifiers\n",
    "\n",
    "As their name suggests, **quantifiers** tell the regex engine how many times you want a character to match.  We've already seen them in action in the phone number and license plate examples. `[A-Z]{3}` means \"match a sequence of exactly three consecutive letters\""
   ]
  },
  {
   "cell_type": "code",
   "execution_count": 20,
   "metadata": {},
   "outputs": [
    {
     "name": "stdout",
     "output_type": "stream",
     "text": [
      "7\u001b[1;30;43mABC\u001b[m243, 6FDI194\n"
     ]
    }
   ],
   "source": [
    "show_regex_match(\"7ABC243, 6FDI194\", \"[A-Z]{3}\")"
   ]
  },
  {
   "cell_type": "markdown",
   "metadata": {},
   "source": [
    "In other words, it's perfectly equivalent to `\"[A-Z][A-Z][A-Z]\"`"
   ]
  },
  {
   "cell_type": "code",
   "execution_count": 23,
   "metadata": {},
   "outputs": [
    {
     "name": "stdout",
     "output_type": "stream",
     "text": [
      "7\u001b[1;30;43mABC\u001b[m243, 6FDI194\n"
     ]
    }
   ],
   "source": [
    "show_regex_match(\"7ABC243, 6FDI194\", \"[A-Z][A-Z][A-Z]\")"
   ]
  },
  {
   "cell_type": "markdown",
   "metadata": {},
   "source": [
    "The general form of a quantifier is {m, n}.  It always modifies the thing to the left of it."
   ]
  },
  {
   "cell_type": "markdown",
   "metadata": {},
   "source": [
    "Quantifier | Meaning\n",
    "--- | ---\n",
    "{m, n} | Match the preceding character m to n times.\n",
    "{m} | Match the preceding character exactly m times.\n",
    "{m,} | Match the preceding character at least m times.\n",
    "{,n} | Match the preceding character at most n times."
   ]
  },
  {
   "cell_type": "markdown",
   "metadata": {},
   "source": [
    "#### Shorthand Quantifiers\n",
    "\n",
    "There are a few quantifier uses that are so common that they merit their own shorthand symbol.\n",
    "\n",
    "Symbol | Quantifier | Meaning\n",
    "--- | --- | ---\n",
    "* | {0,} | Match the preceding character 0 or more times\n",
    "+ | {1,} | Match the preceding character 1 or more times\n",
    "? | {0,1} | Match the preceding charcter 0 or 1 times"
   ]
  },
  {
   "cell_type": "markdown",
   "metadata": {},
   "source": [
    "For example, we can match any length of roller-coaster-induced yelling with the regex `Aa*h!`"
   ]
  },
  {
   "cell_type": "code",
   "execution_count": 31,
   "metadata": {},
   "outputs": [
    {
     "name": "stdout",
     "output_type": "stream",
     "text": [
      "He screamed \"\u001b[1;30;43mAaaah!\u001b[m\" as the cart took a plunge.\n"
     ]
    }
   ],
   "source": [
    "# 3 a's\n",
    "show_regex_match('He screamed \"Aaaah!\" as the cart took a plunge.', \"Aa*h!\")"
   ]
  },
  {
   "cell_type": "code",
   "execution_count": 32,
   "metadata": {},
   "outputs": [
    {
     "name": "stdout",
     "output_type": "stream",
     "text": [
      "He screamed \"\u001b[1;30;43mAaaaaaaaaaaaaaaaaaaah!\u001b[m\" as the cart took a plunge.\n"
     ]
    }
   ],
   "source": [
    "# So many a's\n",
    "show_regex_match('He screamed \"Aaaaaaaaaaaaaaaaaaaah!\" as the cart took a plunge.', \"Aa*h!\")"
   ]
  },
  {
   "cell_type": "code",
   "execution_count": 33,
   "metadata": {},
   "outputs": [
    {
     "name": "stdout",
     "output_type": "stream",
     "text": [
      "He screamed \"\u001b[1;30;43mAh!\u001b[m\" as the cart took a plunge.\n"
     ]
    }
   ],
   "source": [
    "# No lowercase a's\n",
    "show_regex_match('He screamed \"Ah!\" as the cart took a plunge.', \"Aa*h!\")"
   ]
  },
  {
   "cell_type": "markdown",
   "metadata": {},
   "source": [
    "#### Regular expressions are greedy\n",
    "\n",
    "Quantifiers will always expand to be as big as possible.  For example, `[a-z]+` finds the longest sequence of lowercase letters possible rather than stopping at the first letter."
   ]
  },
  {
   "cell_type": "code",
   "execution_count": 35,
   "metadata": {},
   "outputs": [
    {
     "name": "stdout",
     "output_type": "stream",
     "text": [
      "\u001b[1;30;43mabcdefg\u001b[m\n"
     ]
    }
   ],
   "source": [
    "show_regex_match('abcdefg', \"[a-z]+\")"
   ]
  },
  {
   "cell_type": "markdown",
   "metadata": {},
   "source": [
    "However, remember that regular expressions are also eager, meaning that the engine returns the left-most and longest possible match.  To illustrate this, consider the following example:"
   ]
  },
  {
   "cell_type": "code",
   "execution_count": 36,
   "metadata": {},
   "outputs": [
    {
     "name": "stdout",
     "output_type": "stream",
     "text": [
      "\u001b[1;30;43mth\u001b[m1s3xample\n"
     ]
    }
   ],
   "source": [
    "show_regex_match('th1s3xample', \"[a-z]+\")"
   ]
  },
  {
   "cell_type": "markdown",
   "metadata": {},
   "source": [
    "1.  `xample` is the longest sequence that could have matched\n",
    "1.  `t` is the left-most sequence that could have matched\n",
    "1.  `th` is the left-most and longest sequence that actually matches"
   ]
  },
  {
   "cell_type": "markdown",
   "metadata": {},
   "source": [
    "### Anchoring"
   ]
  },
  {
   "cell_type": "markdown",
   "metadata": {},
   "source": [
    "Sometimes it's useful to specify that a pattern should only be found at the beginning or end of a string.  The special character `^` means \"match only if the pattern appears at the beginning of the string\" while `$` means \"match only if the pattern occurs at the end of the string\".  For example `well$` matches to the `well` at the end of the string."
   ]
  },
  {
   "cell_type": "code",
   "execution_count": 37,
   "metadata": {},
   "outputs": [
    {
     "name": "stdout",
     "output_type": "stream",
     "text": [
      "well, well, \u001b[1;30;43mwell\u001b[m\n"
     ]
    }
   ],
   "source": [
    "show_regex_match('well, well, well', \"well$\")"
   ]
  },
  {
   "cell_type": "markdown",
   "metadata": {},
   "source": [
    "#### Making sure the string only contains the match (full match)\n",
    "\n",
    "Sometimes you want to make sure that the regular expression matches the whole string rather than just a part of it.  The strategy here is to explicitly anchor both ends of the string so that nothing else can occur before or after the match.  For example, the phone number below matches the doubly-anchored regex because it's the only thing in the string."
   ]
  },
  {
   "cell_type": "code",
   "execution_count": 43,
   "metadata": {},
   "outputs": [
    {
     "name": "stdout",
     "output_type": "stream",
     "text": [
      "\u001b[1;30;43m382-384-3840\u001b[m\n"
     ]
    }
   ],
   "source": [
    "show_regex_match('382-384-3840', \"^[0-9]{3}-[0-9]{3}-[0-9]{4}$\")"
   ]
  },
  {
   "cell_type": "markdown",
   "metadata": {},
   "source": [
    "However, that same phone number occuring in a sentence won't match the same regular expression since it isn't the only thing appearing in the string.  In particular, it fails to be at the beginning of the string."
   ]
  },
  {
   "cell_type": "code",
   "execution_count": 44,
   "metadata": {},
   "outputs": [
    {
     "name": "stdout",
     "output_type": "stream",
     "text": [
      "You can call me at 382-384-3840.\n"
     ]
    }
   ],
   "source": [
    "show_regex_match('You can call me at 382-384-3840.', \"^[0-9]{3}-[0-9]{3}-[0-9]{4}$\")"
   ]
  },
  {
   "cell_type": "markdown",
   "metadata": {},
   "source": [
    "### Grouping "
   ]
  },
  {
   "cell_type": "markdown",
   "metadata": {},
   "source": [
    "There are times where you want to capture or group a subpattern.  A simple case of this would be when you want to detect a repeating subpattern. For example, we could shorten the telephone regular expression even further:"
   ]
  },
  {
   "cell_type": "code",
   "execution_count": 47,
   "metadata": {},
   "outputs": [
    {
     "name": "stdout",
     "output_type": "stream",
     "text": [
      "Call me at \u001b[1;30;43m382-384-3840\u001b[m.\n"
     ]
    }
   ],
   "source": [
    "show_regex_match(\"Call me at 382-384-3840.\", \"([0-9]{3}-){2}[0-9]{4}\")"
   ]
  },
  {
   "cell_type": "markdown",
   "metadata": {},
   "source": [
    "Here we group the idea \"three digits followed by a dash\" and have it repeat twice."
   ]
  },
  {
   "cell_type": "markdown",
   "metadata": {},
   "source": [
    "### The Dot\n",
    "\n",
    "In a regular expression, the dot `.` is a wildcard that means \"match any character.\"  This means that in the example below, `.*` is looking for any sequence of _any_ characters: punctuation, letters, numbers, whitespace&mdash;it doesn't matter."
   ]
  },
  {
   "cell_type": "code",
   "execution_count": 49,
   "metadata": {},
   "outputs": [
    {
     "name": "stdout",
     "output_type": "stream",
     "text": [
      "\u001b[1;30;43mCall me at 382-384-3840.\u001b[m\n"
     ]
    }
   ],
   "source": [
    "show_regex_match(\"Call me at 382-384-3840.\", \".*\")"
   ]
  },
  {
   "cell_type": "markdown",
   "metadata": {},
   "source": [
    "You should be careful when using the dot.  In many cases, it's better to use a carefully thought-out character class instead of the dot to prevent unintentional matches."
   ]
  },
  {
   "cell_type": "markdown",
   "metadata": {},
   "source": [
    "### Escaping Metacharacters"
   ]
  },
  {
   "cell_type": "markdown",
   "metadata": {},
   "source": [
    "As opposed to **literals**, which should be interpreted exactly as written, characters that have special meaning are called **metacharacters**.  We have seen several different metacharacters so far: `()`, `[]`, `*`, `+`, `?`, `.`.  What happens when we want to use their literal meaning in a regular expression?  \n",
    "\n",
    "For example, what if you want to look for a periods at the ends of sentences?  You can't just search for the pattern `.` because that means \"any character\".  Instead, we have to **escape** the metacharacter with a backslash `\\`.  This removes the special meaning from the symbol.  Compare the results below:"
   ]
  },
  {
   "cell_type": "code",
   "execution_count": 87,
   "metadata": {},
   "outputs": [
    {
     "name": "stdout",
     "output_type": "stream",
     "text": [
      "\u001b[1;30;43mC\u001b[mall me at 382-384-3840.\n"
     ]
    }
   ],
   "source": [
    "show_regex_match(\"Call me at 382-384-3840.\", \".\")"
   ]
  },
  {
   "cell_type": "code",
   "execution_count": 86,
   "metadata": {},
   "outputs": [
    {
     "name": "stdout",
     "output_type": "stream",
     "text": [
      "Call me at 382-384-3840\u001b[1;30;43m.\u001b[m\n"
     ]
    }
   ],
   "source": [
    "show_regex_match(\"Call me at 382-384-3840.\", \"\\.\")"
   ]
  },
  {
   "cell_type": "markdown",
   "metadata": {},
   "source": [
    "## The `re` module\n",
    "\n",
    "So far our discussion of regular expressions has been relatively agnostic of language-specific implementations.  Those concepts will generally translate well into other settings like Java, Unix, R, etc.  In this section, we will explore a few common use-cases of regular expressions in Python's `re` module."
   ]
  },
  {
   "cell_type": "markdown",
   "metadata": {},
   "source": [
    "### `re.search`\n",
    "\n",
    "This function <del>automates the steps leading up to a PhD dissertation</del> performs the eager and greedy matching described in the regular expression section above.  It returns a `match` object if there is a match or `None` if there is no match."
   ]
  },
  {
   "cell_type": "code",
   "execution_count": 93,
   "metadata": {},
   "outputs": [
    {
     "data": {
      "text/plain": [
       "<_sre.SRE_Match object; span=(11, 23), match='382-384-3840'>"
      ]
     },
     "execution_count": 93,
     "metadata": {},
     "output_type": "execute_result"
    }
   ],
   "source": [
    "regex = \"[0-9]{3}-[0-9]{3}-[0-9]{4}\"\n",
    "text  = \"Call me at 382-384-3840.\"\n",
    "match = re.search(regex, text)\n",
    "match"
   ]
  },
  {
   "cell_type": "markdown",
   "metadata": {},
   "source": [
    "The `match` object takes on a boolean value of `True`.  This is useful for control flow: "
   ]
  },
  {
   "cell_type": "code",
   "execution_count": 94,
   "metadata": {},
   "outputs": [
    {
     "name": "stdout",
     "output_type": "stream",
     "text": [
      "Found a match!\n"
     ]
    }
   ],
   "source": [
    "if match:\n",
    "    print(\"Found a match!\")"
   ]
  },
  {
   "cell_type": "markdown",
   "metadata": {},
   "source": [
    "If you want to find out what the match was, you can use the `group(n)` method.  In general, it returns the nth captured group in your regular expression, but if `n=0` or isn't specified, then it instead returns the whole match.  Below we modify our phone number regular expression to group the numbers relative to the position of the dashes."
   ]
  },
  {
   "cell_type": "code",
   "execution_count": 104,
   "metadata": {},
   "outputs": [
    {
     "name": "stdout",
     "output_type": "stream",
     "text": [
      "Found a match! The phone number was 382-384-3840. The area code was 382.\n"
     ]
    }
   ],
   "source": [
    "regex = \"([0-9]{3})-([0-9]{3})-([0-9]{4})\"\n",
    "text  = \"Call me at 382-384-3840.\"\n",
    "match = re.search(regex, text)\n",
    "match\n",
    "\n",
    "if match:\n",
    "    phone_number = match.group()\n",
    "    group1 = match.group(1)\n",
    "    print(\"Found a match!\",\n",
    "          f\"The phone number was {phone_number}.\",\n",
    "          f\"The area code was {group1}.\")"
   ]
  },
  {
   "cell_type": "markdown",
   "metadata": {},
   "source": [
    "### `re.findall`\n",
    "\n",
    "This is your go-to function if you want to search through a body of text and return **all** regular expression matches rather than the first one.  If you supply a regular expression without groups, it will return a list of all non-overlapping matches."
   ]
  },
  {
   "cell_type": "code",
   "execution_count": 117,
   "metadata": {},
   "outputs": [
    {
     "data": {
      "text/plain": [
       "['email1@gmail.com', 'email3@gmail.com']"
      ]
     },
     "execution_count": 117,
     "metadata": {},
     "output_type": "execute_result"
    }
   ],
   "source": [
    "gmail_regex = r'[a-zA-Z0-9]+@gmail\\.com'\n",
    "text  = 'email1@gmail.com, email2@yahoo.com, email3@gmail.com'\n",
    "re.findall(gmail_regex,text)"
   ]
  },
  {
   "cell_type": "markdown",
   "metadata": {},
   "source": [
    "Things get quite a bit more interesting with grouping.  For each match, it returns a tuple of the captured groups.  For example we wanted to extract a list of (account name, domain, extension) tuples from comma-delimited text, we could try the following:"
   ]
  },
  {
   "cell_type": "code",
   "execution_count": 118,
   "metadata": {},
   "outputs": [
    {
     "data": {
      "text/plain": [
       "[('email1', 'gmail', 'com'), ('email3', 'gmail', 'com')]"
      ]
     },
     "execution_count": 118,
     "metadata": {},
     "output_type": "execute_result"
    }
   ],
   "source": [
    "gmail_regex = r'([a-zA-Z0-9]+)@(gmail)\\.(com)'\n",
    "text  = 'email1@gmail.com, email2@yahoo.com, email3@gmail.com'\n",
    "re.findall(gmail_regex, text)"
   ]
  },
  {
   "cell_type": "markdown",
   "metadata": {},
   "source": [
    "If you want to recover the matching string as well, just wrap the whole regular expression in parentheses."
   ]
  },
  {
   "cell_type": "code",
   "execution_count": 119,
   "metadata": {},
   "outputs": [
    {
     "data": {
      "text/plain": [
       "[('email1@gmail.com', 'email1', 'gmail', 'com'),\n",
       " ('email3@gmail.com', 'email3', 'gmail', 'com')]"
      ]
     },
     "execution_count": 119,
     "metadata": {},
     "output_type": "execute_result"
    }
   ],
   "source": [
    "gmail_regex = r'(([a-zA-Z0-9]+)@(gmail)\\.(com))'\n",
    "text  = 'email1@gmail.com, email2@yahoo.com, email3@gmail.com'\n",
    "re.findall(gmail_regex, text)"
   ]
  },
  {
   "cell_type": "markdown",
   "metadata": {},
   "source": [
    "### `re.sub`"
   ]
  },
  {
   "cell_type": "markdown",
   "metadata": {},
   "source": [
    "Consider a document with all sorts of different separators in the date format.  Your goal is to uniformly change them all to dashes.  You've identified a pattern in your text that needs replacing.  `re.sub` is your function and character classes are your regex!"
   ]
  },
  {
   "cell_type": "code",
   "execution_count": 120,
   "metadata": {},
   "outputs": [
    {
     "data": {
      "text/plain": [
       "'03-12-2018, 03-13-18, 03-14-2018, 03-15-2018'"
      ]
     },
     "execution_count": 120,
     "metadata": {},
     "output_type": "execute_result"
    }
   ],
   "source": [
    "messy_dates = '03/12/2018, 03.13.18, 03/14/2018, 03:15:2018'\n",
    "regex = '[/.:]'\n",
    "re.sub(regex, '-', messy_dates)"
   ]
  }
 ],
 "metadata": {
  "kernelspec": {
   "display_name": "Python [default]",
   "language": "python",
   "name": "python3"
  },
  "language_info": {
   "codemirror_mode": {
    "name": "ipython",
    "version": 3
   },
   "file_extension": ".py",
   "mimetype": "text/x-python",
   "name": "python",
   "nbconvert_exporter": "python",
   "pygments_lexer": "ipython3",
   "version": "3.6.3"
  },
  "toc": {
   "nav_menu": {},
   "number_sections": false,
   "sideBar": false,
   "skip_h1_title": false,
   "title_cell": "Table of Contents",
   "title_sidebar": "Contents",
   "toc_cell": true,
   "toc_position": {},
   "toc_section_display": true,
   "toc_window_display": false
  }
 },
 "nbformat": 4,
 "nbformat_minor": 2
}
