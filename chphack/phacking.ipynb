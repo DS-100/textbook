{
 "cells": [
  {
   "cell_type": "markdown",
   "metadata": {},
   "source": [
    "# P-hacking\n",
    "### Selection bias\n",
    "- Texas Sharpshooter Fallacy\n",
    "\n",
    "### Choosing bad models/sample populations\n",
    "### Post hoc ergo procter hoc\n",
    "\n",
    "### Unwanted bias in data\n",
    "- Data set? idk what would be good\n",
    "\n",
    "### Gambler's fallacy\n",
    "- Hot hand fallacy\n",
    "- Past doesn't imply future\n",
    "\n",
    "### Multiple Hypothesis Testing\n",
    "- Octopus?\n",
    "\n",
    "### Ways to Fix\n",
    "- A/B testing\n",
    "- Forming good models"
   ]
  },
  {
   "cell_type": "code",
   "execution_count": null,
   "metadata": {
    "collapsed": true
   },
   "outputs": [],
   "source": []
  }
 ],
 "metadata": {
  "kernelspec": {
   "display_name": "Python 3",
   "language": "python",
   "name": "python3"
  },
  "language_info": {
   "codemirror_mode": {
    "name": "ipython",
    "version": 3
   },
   "file_extension": ".py",
   "mimetype": "text/x-python",
   "name": "python",
   "nbconvert_exporter": "python",
   "pygments_lexer": "ipython3",
   "version": "3.6.1"
  }
 },
 "nbformat": 4,
 "nbformat_minor": 2
}
