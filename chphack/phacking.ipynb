{
 "cells": [
  {
   "cell_type": "markdown",
   "metadata": {},
   "source": [
    "# P-hacking\n",
    "\n",
    "**FROM DEB:**\n",
    "- Testing many hypotheses on the same data set. (Maybe this could be a genetics example).\n",
    "\n",
    "- Collecting many data sets and carrying out one test on each (A/B testing with ads)\n",
    "\n",
    "- Entirely different people/institutions investigating a similar phenomenon - this is the example of Paul the Octopus.\n",
    "\n",
    "- Making many decisions in the data collection, EDA process, and analysis process. This is \"tip of the iceberg\" phenomen."
   ]
  },
  {
   "cell_type": "markdown",
   "metadata": {
    "collapsed": true
   },
   "source": [
    "## Paul the Octopus\n",
    "\n",
    "Paul the Octopus was a common octopus who lived in a Sea Life Centre in Oberhausen, Germany. He is most well known for correctly guessing all seven soccer matches Germany played during the 2010 World Cup, as well as the final match, which was between Netherlands and Spain. \n",
    "\n",
    "Before a match was played, Paul's owners would place two boxes in his tank containing food, each box labeled with a different flag of the opposing countries. Whichever box Paul chose to eat from first was considered his prediction for the outcome of the match. "
   ]
  },
  {
   "cell_type": "markdown",
   "metadata": {},
   "source": [
    "<img src=\"https://news.bbcimg.co.uk/media/images/49659000/jpg/_49659323_octopus.jpg\" width=\"400\" />"
   ]
  },
  {
   "cell_type": "markdown",
   "metadata": {},
   "source": [
    "So why was Paul so good at predicting the outcome of these matches? Was he actually psychic, or was he just lucky? We might ask what’s the chance he got all of the predictions correct, assuming he was just “guessing”?\n",
    "\n",
    "Paul correctly predicted 8 of the 2010 World Cup games, each time he had a 1/2 chance of making the correct prediction. The one way to get all 8 matches correct out of 8 is:\n",
    "$$(1/2)^8 = 1/256$$\n",
    "\n",
    "So was he actually psychic? Or is there something more to uncover?"
   ]
  },
  {
   "cell_type": "markdown",
   "metadata": {},
   "source": [
    "Turns out, there were tons of animals (some of them in the same zoo as Paul!) doing the same thing, trying to guess the outcome of their respective home countries' matches, including:\n",
    "- Mani the Parakeet, from Singapore\n",
    "- Leon the Porcupine, from Germany\n",
    "- Petty the Pygmy Hippopotamus, from Germany\n",
    "- Otto Armstrong the Octopus, from Germany\n",
    "- Anton the Tamarin, from Germany\n",
    "- Jimmy the Peruvian Guinea Pig, from Germany\n",
    "- Xiaoge the Octopus, from China\n",
    "- Pauline the Octopus, from the Netherlands\n",
    "- Pino the Chimpanzee, from Estonia\n",
    "- Apelsin the Red River Hog, from Estonia\n",
    "- Harry the Crocodile, from Australia\n",
    "None of whom got them all right (although Mani the Parakeet got 7 matches out of 8 right)."
   ]
  },
  {
   "cell_type": "markdown",
   "metadata": {},
   "source": [
    "Some might argue that getting them all wrong would also be remarkable. So what are the chances that at least one of the 12 animals would get either all right or all wrong? \n",
    "\n",
    "We can use simple probability to figure this out. We have 12 trials (in this case, animals), where each independent trial has a $2*(1/2)^8 = 1/128$ chance of getting all predictions right or wrong. So what is the probability of having *at least* one success? That's $1 - P_{all \\textrm{ }failures} = 1 - (127/128)^{12} = 1 - 0.910 = 0.090$"
   ]
  },
  {
   "cell_type": "markdown",
   "metadata": {},
   "source": [
    "We have an 9% chance of getting an animal that will select all of the right predictions, and that's not including all of the animals in the world that were also doing these \"predictions.\" That's not that rare - it's the dangers of multiple testing that caused this \"phenomenon.\" This one octopus out of many different animals in the world happened to have guessed all of the right predictions, and the popularity of the situation caused it to become magical.\n",
    "\n",
    "To those of you wondering if it really was luck, it has been shown that the species *Octopus vulgaris* is actually colorblind, and some believe that octopuses are drawn to horizontal shapes, hence Paul's decision to choose Germany, except when playing against Spain and Serbia."
   ]
  },
  {
   "cell_type": "markdown",
   "metadata": {},
   "source": [
    "## P-Hacking is just the tip of the iceberg\n",
    "\n",
    "As it turns out, p-hacking isn't the only thing data scientists and statisticians have to worry about when making sound inferences from data. There are many stages to the design and analysis of a successful study, as shown below (from Leek & Peng's *P values are just the tip of the iceberg*)."
   ]
  },
  {
   "cell_type": "markdown",
   "metadata": {},
   "source": [
    "<img src='https://www.nature.com/polopoly_fs/7.25671.1429983882!/image/P1.jpg_gen/derivatives/landscape_300/P1.jpg'>"
   ]
  },
  {
   "cell_type": "markdown",
   "metadata": {},
   "source": [
    "As shown, the last step of the whole \"data pipeline\" is the calculation of an inferential statistic like the p-value, and having a rule applied to it (e.g. p > 0.05). But there are many other decisions that are made beforehand, like experimental design or EDA, that can have much greater effects on the results - mistakes like simple rounding or measurement errors, choosing the wrong model, or not taking into account confounding factors can change everything. By changing the way data are cleaned, summarized, or modeled, we can achieve arbitrary levels of statistical significance."
   ]
  }
 ],
 "metadata": {
  "kernelspec": {
   "display_name": "Python 3",
   "language": "python",
   "name": "python3"
  },
  "language_info": {
   "codemirror_mode": {
    "name": "ipython",
    "version": 3
   },
   "file_extension": ".py",
   "mimetype": "text/x-python",
   "name": "python",
   "nbconvert_exporter": "python",
   "pygments_lexer": "ipython3",
   "version": "3.6.1"
  }
 },
 "nbformat": 4,
 "nbformat_minor": 2
}
